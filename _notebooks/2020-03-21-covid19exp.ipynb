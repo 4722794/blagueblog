{
 "cells": [
  {
   "cell_type": "markdown",
   "id": "muslim-click",
   "metadata": {
    "papermill": {
     "duration": 0.041909,
     "end_time": "2021-12-18T12:12:08.991536",
     "exception": false,
     "start_time": "2021-12-18T12:12:08.949627",
     "status": "completed"
    },
    "tags": []
   },
   "source": [
    "# COVID-19 Case Race\n",
    "> A race chart to see rising cases around the world\n",
    "\n",
    "- author: Hargun Oberoi\n",
    "- image: images/covid-overview.png\n",
    "- hide: false\n",
    "- badges: false"
   ]
  },
  {
   "cell_type": "code",
   "execution_count": 1,
   "id": "proof-material",
   "metadata": {
    "execution": {
     "iopub.execute_input": "2021-12-18T12:12:09.076092Z",
     "iopub.status.busy": "2021-12-18T12:12:09.068355Z",
     "iopub.status.idle": "2021-12-18T12:12:09.482927Z",
     "shell.execute_reply": "2021-12-18T12:12:09.482005Z"
    },
    "papermill": {
     "duration": 0.454541,
     "end_time": "2021-12-18T12:12:09.483174",
     "exception": false,
     "start_time": "2021-12-18T12:12:09.028633",
     "status": "completed"
    },
    "tags": []
   },
   "outputs": [],
   "source": [
    "#hide\n",
    "import numpy as np\n",
    "import pandas as pd\n",
    "from jinja2 import Template\n",
    "from IPython.display import HTML"
   ]
  },
  {
   "cell_type": "code",
   "execution_count": 2,
   "id": "developed-terminology",
   "metadata": {
    "execution": {
     "iopub.execute_input": "2021-12-18T12:12:09.564980Z",
     "iopub.status.busy": "2021-12-18T12:12:09.564208Z",
     "iopub.status.idle": "2021-12-18T12:12:09.568995Z",
     "shell.execute_reply": "2021-12-18T12:12:09.568409Z"
    },
    "papermill": {
     "duration": 0.046993,
     "end_time": "2021-12-18T12:12:09.569122",
     "exception": false,
     "start_time": "2021-12-18T12:12:09.522129",
     "status": "completed"
    },
    "tags": []
   },
   "outputs": [],
   "source": [
    "#hide\n",
    "\n",
    "# FETCH\n",
    "base_url = 'https://raw.githubusercontent.com/pratapvardhan/notebooks/master/covid19/'\n",
    "paths = {\n",
    "    'mapping': base_url + 'mapping_countries.csv',\n",
    "    'overview': base_url + 'overview.tpl'\n",
    "}"
   ]
  },
  {
   "cell_type": "code",
   "execution_count": 3,
   "id": "dynamic-saver",
   "metadata": {
    "execution": {
     "iopub.execute_input": "2021-12-18T12:12:09.655198Z",
     "iopub.status.busy": "2021-12-18T12:12:09.654427Z",
     "iopub.status.idle": "2021-12-18T12:12:09.657184Z",
     "shell.execute_reply": "2021-12-18T12:12:09.657789Z"
    },
    "papermill": {
     "duration": 0.053894,
     "end_time": "2021-12-18T12:12:09.657968",
     "exception": false,
     "start_time": "2021-12-18T12:12:09.604074",
     "status": "completed"
    },
    "tags": []
   },
   "outputs": [
    {
     "data": {
      "text/plain": [
       "'https://raw.githubusercontent.com/pratapvardhan/notebooks/master/covid19/mapping_countries.csv'"
      ]
     },
     "execution_count": 3,
     "metadata": {},
     "output_type": "execute_result"
    }
   ],
   "source": [
    "#hide\n",
    "paths['mapping']"
   ]
  },
  {
   "cell_type": "code",
   "execution_count": 4,
   "id": "urban-software",
   "metadata": {
    "execution": {
     "iopub.execute_input": "2021-12-18T12:12:09.737251Z",
     "iopub.status.busy": "2021-12-18T12:12:09.736542Z",
     "iopub.status.idle": "2021-12-18T12:12:09.739165Z",
     "shell.execute_reply": "2021-12-18T12:12:09.739668Z"
    },
    "papermill": {
     "duration": 0.045973,
     "end_time": "2021-12-18T12:12:09.739828",
     "exception": false,
     "start_time": "2021-12-18T12:12:09.693855",
     "status": "completed"
    },
    "tags": []
   },
   "outputs": [],
   "source": [
    "#hide\n",
    "def get_mappings(url):\n",
    "    df = pd.read_csv(url)\n",
    "    return {\n",
    "        'df': df,\n",
    "        'replace.country': dict(df.dropna(subset=['Name']).set_index('Country')['Name']),\n",
    "        'map.continent': dict(df.set_index('Name')['Continent'])\n",
    "    }"
   ]
  },
  {
   "cell_type": "code",
   "execution_count": 5,
   "id": "intimate-machinery",
   "metadata": {
    "execution": {
     "iopub.execute_input": "2021-12-18T12:12:09.818381Z",
     "iopub.status.busy": "2021-12-18T12:12:09.817669Z",
     "iopub.status.idle": "2021-12-18T12:12:09.880976Z",
     "shell.execute_reply": "2021-12-18T12:12:09.880441Z"
    },
    "papermill": {
     "duration": 0.10596,
     "end_time": "2021-12-18T12:12:09.881116",
     "exception": false,
     "start_time": "2021-12-18T12:12:09.775156",
     "status": "completed"
    },
    "tags": []
   },
   "outputs": [],
   "source": [
    "#hide\n",
    "mapping = get_mappings(paths['mapping'])"
   ]
  },
  {
   "cell_type": "code",
   "execution_count": 6,
   "id": "certified-tactics",
   "metadata": {
    "execution": {
     "iopub.execute_input": "2021-12-18T12:12:09.969874Z",
     "iopub.status.busy": "2021-12-18T12:12:09.969226Z",
     "iopub.status.idle": "2021-12-18T12:12:09.971839Z",
     "shell.execute_reply": "2021-12-18T12:12:09.971237Z"
    },
    "papermill": {
     "duration": 0.048361,
     "end_time": "2021-12-18T12:12:09.971970",
     "exception": false,
     "start_time": "2021-12-18T12:12:09.923609",
     "status": "completed"
    },
    "tags": []
   },
   "outputs": [],
   "source": [
    "#hide\n",
    "def get_template(path):\n",
    "    from urllib.parse import urlparse\n",
    "    if bool(urlparse(path).netloc):\n",
    "        from urllib.request import urlopen\n",
    "        return urlopen(path).read().decode('utf8')\n",
    "    return open(path).read()"
   ]
  },
  {
   "cell_type": "code",
   "execution_count": 7,
   "id": "realistic-blast",
   "metadata": {
    "execution": {
     "iopub.execute_input": "2021-12-18T12:12:10.048535Z",
     "iopub.status.busy": "2021-12-18T12:12:10.047842Z",
     "iopub.status.idle": "2021-12-18T12:12:10.050470Z",
     "shell.execute_reply": "2021-12-18T12:12:10.049967Z"
    },
    "papermill": {
     "duration": 0.04413,
     "end_time": "2021-12-18T12:12:10.050598",
     "exception": false,
     "start_time": "2021-12-18T12:12:10.006468",
     "status": "completed"
    },
    "tags": []
   },
   "outputs": [],
   "source": [
    "#hide\n",
    "def get_frame(name):\n",
    "    url = (\n",
    "        'https://raw.githubusercontent.com/CSSEGISandData/COVID-19/master/csse_covid_19_data/'\n",
    "        f'csse_covid_19_time_series/time_series_covid19_{name}_global.csv')\n",
    "    df = pd.read_csv(url)\n",
    "    # rename countries\n",
    "    df['Country/Region'] = df['Country/Region'].replace(mapping['replace.country'])\n",
    "    return df"
   ]
  },
  {
   "cell_type": "code",
   "execution_count": 8,
   "id": "affiliated-characterization",
   "metadata": {
    "execution": {
     "iopub.execute_input": "2021-12-18T12:12:10.134511Z",
     "iopub.status.busy": "2021-12-18T12:12:10.133867Z",
     "iopub.status.idle": "2021-12-18T12:12:10.135876Z",
     "shell.execute_reply": "2021-12-18T12:12:10.136328Z"
    },
    "papermill": {
     "duration": 0.047337,
     "end_time": "2021-12-18T12:12:10.136488",
     "exception": false,
     "start_time": "2021-12-18T12:12:10.089151",
     "status": "completed"
    },
    "tags": []
   },
   "outputs": [],
   "source": [
    "#hide\n",
    "def get_dates(df):\n",
    "    dt_cols = df.columns[~df.columns.isin(['Province/State', 'Country/Region', 'Lat', 'Long'])]\n",
    "    LAST_DATE_I = -1\n",
    "    # sometimes last column may be empty, then go backwards\n",
    "    for i in range(-1, -len(dt_cols), -1):\n",
    "        if not df[dt_cols[i]].fillna(0).eq(0).all():\n",
    "            LAST_DATE_I = i\n",
    "            break\n",
    "    return LAST_DATE_I, dt_cols"
   ]
  },
  {
   "cell_type": "code",
   "execution_count": 9,
   "id": "recent-optimization",
   "metadata": {
    "execution": {
     "iopub.execute_input": "2021-12-18T12:12:10.215368Z",
     "iopub.status.busy": "2021-12-18T12:12:10.214704Z",
     "iopub.status.idle": "2021-12-18T12:12:10.854613Z",
     "shell.execute_reply": "2021-12-18T12:12:10.853307Z"
    },
    "papermill": {
     "duration": 0.682359,
     "end_time": "2021-12-18T12:12:10.854762",
     "exception": false,
     "start_time": "2021-12-18T12:12:10.172403",
     "status": "completed"
    },
    "tags": []
   },
   "outputs": [],
   "source": [
    "#hide\n",
    "COL_REGION = 'Country/Region'\n",
    "# Confirmed, Recovered, Deaths\n",
    "df = get_frame('confirmed')\n",
    "# dft_: timeseries, dfc_: today country agg\n",
    "dft_cases = df\n",
    "dft_deaths = get_frame('deaths')\n",
    "dft_recovered = get_frame('recovered')\n",
    "LAST_DATE_I, dt_cols = get_dates(df)"
   ]
  },
  {
   "cell_type": "code",
   "execution_count": 10,
   "id": "absolute-copper",
   "metadata": {
    "execution": {
     "iopub.execute_input": "2021-12-18T12:12:10.935410Z",
     "iopub.status.busy": "2021-12-18T12:12:10.933904Z",
     "iopub.status.idle": "2021-12-18T12:12:10.936643Z",
     "shell.execute_reply": "2021-12-18T12:12:10.937321Z"
    },
    "papermill": {
     "duration": 0.045982,
     "end_time": "2021-12-18T12:12:10.937487",
     "exception": false,
     "start_time": "2021-12-18T12:12:10.891505",
     "status": "completed"
    },
    "tags": []
   },
   "outputs": [],
   "source": [
    "#hide\n",
    "LAST_DATE_I, dt_cols = get_dates(df)\n",
    "dt_today =dt_cols[LAST_DATE_I]\n",
    "# dt_5day = dt_cols[LAST_DATE_I - 5]\n",
    "dt_yday = dt_cols[LAST_DATE_I - 1]"
   ]
  },
  {
   "cell_type": "code",
   "execution_count": 11,
   "id": "restricted-sheriff",
   "metadata": {
    "execution": {
     "iopub.execute_input": "2021-12-18T12:12:11.015791Z",
     "iopub.status.busy": "2021-12-18T12:12:11.012287Z",
     "iopub.status.idle": "2021-12-18T12:12:11.025027Z",
     "shell.execute_reply": "2021-12-18T12:12:11.024511Z"
    },
    "papermill": {
     "duration": 0.053515,
     "end_time": "2021-12-18T12:12:11.025160",
     "exception": false,
     "start_time": "2021-12-18T12:12:10.971645",
     "status": "completed"
    },
    "tags": []
   },
   "outputs": [],
   "source": [
    "#hide\n",
    "dfc_cases = dft_cases.groupby(COL_REGION)[dt_today].sum()\n",
    "dfc_deaths = dft_deaths.groupby(COL_REGION)[dt_today].sum()\n",
    "# dfp_cases = dft_cases.groupby(COL_REGION)[dt_5day].sum()\n",
    "# dfp_deaths = dft_deaths.groupby(COL_REGION)[dt_5day].sum()\n",
    "dfp_cases = dft_cases.groupby(COL_REGION)[dt_yday].sum()\n",
    "dfp_deaths = dft_deaths.groupby(COL_REGION)[dt_yday].sum()"
   ]
  },
  {
   "cell_type": "code",
   "execution_count": 12,
   "id": "deluxe-hepatitis",
   "metadata": {
    "execution": {
     "iopub.execute_input": "2021-12-18T12:12:11.101118Z",
     "iopub.status.busy": "2021-12-18T12:12:11.100495Z",
     "iopub.status.idle": "2021-12-18T12:12:11.104235Z",
     "shell.execute_reply": "2021-12-18T12:12:11.104681Z"
    },
    "papermill": {
     "duration": 0.045522,
     "end_time": "2021-12-18T12:12:11.104834",
     "exception": false,
     "start_time": "2021-12-18T12:12:11.059312",
     "status": "completed"
    },
    "tags": []
   },
   "outputs": [],
   "source": [
    "#hide\n",
    "df_table = (pd.DataFrame(dict(Cases = dfc_cases, Deaths = dfc_deaths, PCases = dfp_cases, PDeaths = dfp_deaths))\n",
    "            .sort_values(by = ['Cases','Deaths'], ascending = [False, False])\n",
    "            .reset_index())"
   ]
  },
  {
   "cell_type": "code",
   "execution_count": 13,
   "id": "educational-chancellor",
   "metadata": {
    "execution": {
     "iopub.execute_input": "2021-12-18T12:12:11.198968Z",
     "iopub.status.busy": "2021-12-18T12:12:11.192845Z",
     "iopub.status.idle": "2021-12-18T12:12:11.202423Z",
     "shell.execute_reply": "2021-12-18T12:12:11.201909Z"
    },
    "papermill": {
     "duration": 0.063693,
     "end_time": "2021-12-18T12:12:11.202553",
     "exception": false,
     "start_time": "2021-12-18T12:12:11.138860",
     "status": "completed"
    },
    "tags": []
   },
   "outputs": [
    {
     "data": {
      "text/html": [
       "<div>\n",
       "<style scoped>\n",
       "    .dataframe tbody tr th:only-of-type {\n",
       "        vertical-align: middle;\n",
       "    }\n",
       "\n",
       "    .dataframe tbody tr th {\n",
       "        vertical-align: top;\n",
       "    }\n",
       "\n",
       "    .dataframe thead th {\n",
       "        text-align: right;\n",
       "    }\n",
       "</style>\n",
       "<table border=\"1\" class=\"dataframe\">\n",
       "  <thead>\n",
       "    <tr style=\"text-align: right;\">\n",
       "      <th></th>\n",
       "      <th>Country/Region</th>\n",
       "      <th>Cases</th>\n",
       "      <th>Deaths</th>\n",
       "      <th>PCases</th>\n",
       "      <th>PDeaths</th>\n",
       "      <th>Cases (+)</th>\n",
       "      <th>Deaths (+)</th>\n",
       "      <th>Fatality Rate</th>\n",
       "      <th>Continent</th>\n",
       "    </tr>\n",
       "  </thead>\n",
       "  <tbody>\n",
       "    <tr>\n",
       "      <th>0</th>\n",
       "      <td>US</td>\n",
       "      <td>50706733</td>\n",
       "      <td>805823</td>\n",
       "      <td>50513428</td>\n",
       "      <td>803652</td>\n",
       "      <td>193305</td>\n",
       "      <td>2171</td>\n",
       "      <td>1.59</td>\n",
       "      <td>North America</td>\n",
       "    </tr>\n",
       "    <tr>\n",
       "      <th>1</th>\n",
       "      <td>India</td>\n",
       "      <td>34726049</td>\n",
       "      <td>476869</td>\n",
       "      <td>34726049</td>\n",
       "      <td>476869</td>\n",
       "      <td>0</td>\n",
       "      <td>0</td>\n",
       "      <td>1.37</td>\n",
       "      <td>Asia</td>\n",
       "    </tr>\n",
       "    <tr>\n",
       "      <th>2</th>\n",
       "      <td>Brazil</td>\n",
       "      <td>22204941</td>\n",
       "      <td>617395</td>\n",
       "      <td>22201221</td>\n",
       "      <td>617271</td>\n",
       "      <td>3720</td>\n",
       "      <td>124</td>\n",
       "      <td>2.78</td>\n",
       "      <td>South America</td>\n",
       "    </tr>\n",
       "    <tr>\n",
       "      <th>3</th>\n",
       "      <td>United Kingdom</td>\n",
       "      <td>11254404</td>\n",
       "      <td>147509</td>\n",
       "      <td>11161497</td>\n",
       "      <td>147396</td>\n",
       "      <td>92907</td>\n",
       "      <td>113</td>\n",
       "      <td>1.31</td>\n",
       "      <td>Europe</td>\n",
       "    </tr>\n",
       "    <tr>\n",
       "      <th>4</th>\n",
       "      <td>Russia</td>\n",
       "      <td>9982735</td>\n",
       "      <td>289292</td>\n",
       "      <td>9955308</td>\n",
       "      <td>288240</td>\n",
       "      <td>27427</td>\n",
       "      <td>1052</td>\n",
       "      <td>2.90</td>\n",
       "      <td>Europe</td>\n",
       "    </tr>\n",
       "  </tbody>\n",
       "</table>\n",
       "</div>"
      ],
      "text/plain": [
       "   Country/Region     Cases  Deaths    PCases  PDeaths  Cases (+)  Deaths (+)  \\\n",
       "0              US  50706733  805823  50513428   803652     193305        2171   \n",
       "1           India  34726049  476869  34726049   476869          0           0   \n",
       "2          Brazil  22204941  617395  22201221   617271       3720         124   \n",
       "3  United Kingdom  11254404  147509  11161497   147396      92907         113   \n",
       "4          Russia   9982735  289292   9955308   288240      27427        1052   \n",
       "\n",
       "   Fatality Rate      Continent  \n",
       "0           1.59  North America  \n",
       "1           1.37           Asia  \n",
       "2           2.78  South America  \n",
       "3           1.31         Europe  \n",
       "4           2.90         Europe  "
      ]
     },
     "execution_count": 13,
     "metadata": {},
     "output_type": "execute_result"
    }
   ],
   "source": [
    "#hide\n",
    "for c in 'Cases, Deaths'.split(', '):\n",
    "    df_table[f'{c} (+)'] = (df_table[c] - df_table[f'P{c}']).clip(0)\n",
    "    #Clip ça veut dire, les chiffres negatif sont interdit\n",
    "df_table['Fatality Rate'] = (100* df_table['Deaths']/ df_table['Cases']).round(2)\n",
    "df_table['Continent'] = df_table['Country/Region'].map(mapping['map.continent'])\n",
    "df_table.head(5)"
   ]
  },
  {
   "cell_type": "code",
   "execution_count": 14,
   "id": "aboriginal-bulgaria",
   "metadata": {
    "execution": {
     "iopub.execute_input": "2021-12-18T12:12:11.278200Z",
     "iopub.status.busy": "2021-12-18T12:12:11.277579Z",
     "iopub.status.idle": "2021-12-18T12:12:11.279585Z",
     "shell.execute_reply": "2021-12-18T12:12:11.280072Z"
    },
    "papermill": {
     "duration": 0.043114,
     "end_time": "2021-12-18T12:12:11.280225",
     "exception": false,
     "start_time": "2021-12-18T12:12:11.237111",
     "status": "completed"
    },
    "tags": []
   },
   "outputs": [],
   "source": [
    "#hide\n",
    "#delete problematic countries from table\n",
    "df_table = df_table[~df_table['Country/Region'].isin(['Cape Verde', 'Cruise Ship', 'Kosovo'])]"
   ]
  },
  {
   "cell_type": "code",
   "execution_count": 15,
   "id": "fantastic-effect",
   "metadata": {
    "execution": {
     "iopub.execute_input": "2021-12-18T12:12:11.358180Z",
     "iopub.status.busy": "2021-12-18T12:12:11.357554Z",
     "iopub.status.idle": "2021-12-18T12:12:11.378234Z",
     "shell.execute_reply": "2021-12-18T12:12:11.378941Z"
    },
    "papermill": {
     "duration": 0.064658,
     "end_time": "2021-12-18T12:12:11.379138",
     "exception": false,
     "start_time": "2021-12-18T12:12:11.314480",
     "status": "completed"
    },
    "tags": []
   },
   "outputs": [
    {
     "data": {
      "text/html": [
       "<div>\n",
       "<style scoped>\n",
       "    .dataframe tbody tr th:only-of-type {\n",
       "        vertical-align: middle;\n",
       "    }\n",
       "\n",
       "    .dataframe tbody tr th {\n",
       "        vertical-align: top;\n",
       "    }\n",
       "\n",
       "    .dataframe thead th {\n",
       "        text-align: right;\n",
       "    }\n",
       "</style>\n",
       "<table border=\"1\" class=\"dataframe\">\n",
       "  <thead>\n",
       "    <tr style=\"text-align: right;\">\n",
       "      <th></th>\n",
       "      <th>Country/Region</th>\n",
       "      <th>Cases</th>\n",
       "      <th>Deaths</th>\n",
       "      <th>PCases</th>\n",
       "      <th>PDeaths</th>\n",
       "      <th>Cases (+)</th>\n",
       "      <th>Deaths (+)</th>\n",
       "      <th>Fatality Rate</th>\n",
       "      <th>Continent</th>\n",
       "    </tr>\n",
       "  </thead>\n",
       "  <tbody>\n",
       "    <tr>\n",
       "      <th>0</th>\n",
       "      <td>US</td>\n",
       "      <td>50706733</td>\n",
       "      <td>805823</td>\n",
       "      <td>50513428</td>\n",
       "      <td>803652</td>\n",
       "      <td>193305</td>\n",
       "      <td>2171</td>\n",
       "      <td>1.6</td>\n",
       "      <td>North America</td>\n",
       "    </tr>\n",
       "    <tr>\n",
       "      <th>1</th>\n",
       "      <td>India</td>\n",
       "      <td>34726049</td>\n",
       "      <td>476869</td>\n",
       "      <td>34726049</td>\n",
       "      <td>476869</td>\n",
       "      <td>0</td>\n",
       "      <td>0</td>\n",
       "      <td>1.4</td>\n",
       "      <td>Asia</td>\n",
       "    </tr>\n",
       "    <tr>\n",
       "      <th>2</th>\n",
       "      <td>Brazil</td>\n",
       "      <td>22204941</td>\n",
       "      <td>617395</td>\n",
       "      <td>22201221</td>\n",
       "      <td>617271</td>\n",
       "      <td>3720</td>\n",
       "      <td>124</td>\n",
       "      <td>2.8</td>\n",
       "      <td>South America</td>\n",
       "    </tr>\n",
       "    <tr>\n",
       "      <th>3</th>\n",
       "      <td>United Kingdom</td>\n",
       "      <td>11254404</td>\n",
       "      <td>147509</td>\n",
       "      <td>11161497</td>\n",
       "      <td>147396</td>\n",
       "      <td>92907</td>\n",
       "      <td>113</td>\n",
       "      <td>1.3</td>\n",
       "      <td>Europe</td>\n",
       "    </tr>\n",
       "    <tr>\n",
       "      <th>4</th>\n",
       "      <td>Russia</td>\n",
       "      <td>9982735</td>\n",
       "      <td>289292</td>\n",
       "      <td>9955308</td>\n",
       "      <td>288240</td>\n",
       "      <td>27427</td>\n",
       "      <td>1052</td>\n",
       "      <td>2.9</td>\n",
       "      <td>Europe</td>\n",
       "    </tr>\n",
       "  </tbody>\n",
       "</table>\n",
       "</div>"
      ],
      "text/plain": [
       "   Country/Region     Cases  Deaths    PCases  PDeaths  Cases (+)  Deaths (+)  \\\n",
       "0              US  50706733  805823  50513428   803652     193305        2171   \n",
       "1           India  34726049  476869  34726049   476869          0           0   \n",
       "2          Brazil  22204941  617395  22201221   617271       3720         124   \n",
       "3  United Kingdom  11254404  147509  11161497   147396      92907         113   \n",
       "4          Russia   9982735  289292   9955308   288240      27427        1052   \n",
       "\n",
       "   Fatality Rate      Continent  \n",
       "0            1.6  North America  \n",
       "1            1.4           Asia  \n",
       "2            2.8  South America  \n",
       "3            1.3         Europe  \n",
       "4            2.9         Europe  "
      ]
     },
     "execution_count": 15,
     "metadata": {},
     "output_type": "execute_result"
    }
   ],
   "source": [
    "#hide\n",
    "df_table = (pd.DataFrame(dict(Cases=dfc_cases, Deaths=dfc_deaths, PCases=dfp_cases, PDeaths=dfp_deaths))\n",
    "             .sort_values(by=['Cases', 'Deaths'], ascending=[False, False])\n",
    "             .reset_index())\n",
    "df_table.rename(columns={'index': 'Country/Region'}, inplace=True)\n",
    "for c in 'Cases, Deaths'.split(', '):\n",
    "    df_table[f'{c} (+)'] = (df_table[c] - df_table[f'P{c}']).clip(0)  # DATA BUG\n",
    "df_table['Fatality Rate'] = (100 * df_table['Deaths'] / df_table['Cases']).round(1)\n",
    "df_table['Continent'] = df_table['Country/Region'].map(mapping['map.continent'])\n",
    "df_table.head(5)"
   ]
  },
  {
   "cell_type": "code",
   "execution_count": 16,
   "id": "fewer-occasion",
   "metadata": {
    "execution": {
     "iopub.execute_input": "2021-12-18T12:12:11.456015Z",
     "iopub.status.busy": "2021-12-18T12:12:11.455336Z",
     "iopub.status.idle": "2021-12-18T12:12:11.457738Z",
     "shell.execute_reply": "2021-12-18T12:12:11.458304Z"
    },
    "papermill": {
     "duration": 0.044053,
     "end_time": "2021-12-18T12:12:11.458463",
     "exception": false,
     "start_time": "2021-12-18T12:12:11.414410",
     "status": "completed"
    },
    "tags": []
   },
   "outputs": [],
   "source": [
    "#hide\n",
    "#delete problematic countries from table\n",
    "df_table = df_table[~df_table['Country/Region'].isin(['Cape Verde', 'Cruise Ship', 'Kosovo'])]"
   ]
  },
  {
   "cell_type": "code",
   "execution_count": 17,
   "id": "related-center",
   "metadata": {
    "execution": {
     "iopub.execute_input": "2021-12-18T12:12:11.550209Z",
     "iopub.status.busy": "2021-12-18T12:12:11.549563Z",
     "iopub.status.idle": "2021-12-18T12:12:11.552253Z",
     "shell.execute_reply": "2021-12-18T12:12:11.551731Z"
    },
    "papermill": {
     "duration": 0.059129,
     "end_time": "2021-12-18T12:12:11.552383",
     "exception": false,
     "start_time": "2021-12-18T12:12:11.493254",
     "status": "completed"
    },
    "tags": []
   },
   "outputs": [],
   "source": [
    "#hide\n",
    "metrics = [df_table.columns[index] for index in [1,2,5,6]]\n",
    "# s_china = df_table[df_table['Country/Region'].eq('China')][metrics].sum().add_prefix('China ')\n",
    "s_us = df_table[df_table['Country/Region'].eq('US')][metrics].sum().add_prefix('US ')\n",
    "s_eu = df_table[df_table['Continent'].eq('Europe')][metrics].sum().add_prefix('EU ')\n",
    "s_ind = df_table[df_table['Country/Region'].eq('India')][metrics].sum().add_prefix('India ')\n",
    "summary = {'updated': pd.to_datetime(dt_today), 'since': pd.to_datetime(dt_yday)}\n",
    "summary = {'updated': pd.to_datetime(dt_today), 'since': pd.to_datetime(dt_yday)}\n",
    "summary = {**summary, **df_table[metrics].sum(), **s_ind, **s_us, **s_eu}"
   ]
  },
  {
   "cell_type": "code",
   "execution_count": 18,
   "id": "engaging-syndrome",
   "metadata": {
    "execution": {
     "iopub.execute_input": "2021-12-18T12:12:11.628460Z",
     "iopub.status.busy": "2021-12-18T12:12:11.627831Z",
     "iopub.status.idle": "2021-12-18T12:12:11.643864Z",
     "shell.execute_reply": "2021-12-18T12:12:11.644358Z"
    },
    "papermill": {
     "duration": 0.057198,
     "end_time": "2021-12-18T12:12:11.644514",
     "exception": false,
     "start_time": "2021-12-18T12:12:11.587316",
     "status": "completed"
    },
    "tags": []
   },
   "outputs": [],
   "source": [
    "#hide\n",
    "dft_ct_new_cases = dft_cases.groupby(COL_REGION)[dt_cols].sum().diff(axis=1).fillna(0).astype(int)"
   ]
  },
  {
   "cell_type": "code",
   "execution_count": 19,
   "id": "neutral-assignment",
   "metadata": {
    "execution": {
     "iopub.execute_input": "2021-12-18T12:12:11.720873Z",
     "iopub.status.busy": "2021-12-18T12:12:11.720271Z",
     "iopub.status.idle": "2021-12-18T12:12:11.723159Z",
     "shell.execute_reply": "2021-12-18T12:12:11.722678Z"
    },
    "papermill": {
     "duration": 0.043922,
     "end_time": "2021-12-18T12:12:11.723316",
     "exception": false,
     "start_time": "2021-12-18T12:12:11.679394",
     "status": "completed"
    },
    "tags": []
   },
   "outputs": [],
   "source": [
    "#hide\n",
    "everydaycases = dft_ct_new_cases.cumsum(axis=1)"
   ]
  },
  {
   "cell_type": "code",
   "execution_count": 20,
   "id": "parliamentary-calgary",
   "metadata": {
    "execution": {
     "iopub.execute_input": "2021-12-18T12:12:11.798242Z",
     "iopub.status.busy": "2021-12-18T12:12:11.797617Z",
     "iopub.status.idle": "2021-12-18T12:12:12.560111Z",
     "shell.execute_reply": "2021-12-18T12:12:12.559542Z"
    },
    "papermill": {
     "duration": 0.801933,
     "end_time": "2021-12-18T12:12:12.560257",
     "exception": false,
     "start_time": "2021-12-18T12:12:11.758324",
     "status": "completed"
    },
    "tags": []
   },
   "outputs": [],
   "source": [
    "#hide\n",
    "import pandas as pd\n",
    "import matplotlib.pyplot as plt\n",
    "import matplotlib.ticker as ticker\n",
    "import matplotlib.animation as animation\n",
    "from IPython.display import HTML"
   ]
  },
  {
   "cell_type": "code",
   "execution_count": 21,
   "id": "lasting-extraction",
   "metadata": {
    "execution": {
     "iopub.execute_input": "2021-12-18T12:12:12.636872Z",
     "iopub.status.busy": "2021-12-18T12:12:12.636240Z",
     "iopub.status.idle": "2021-12-18T12:12:12.645353Z",
     "shell.execute_reply": "2021-12-18T12:12:12.644208Z"
    },
    "papermill": {
     "duration": 0.050626,
     "end_time": "2021-12-18T12:12:12.645498",
     "exception": false,
     "start_time": "2021-12-18T12:12:12.594872",
     "status": "completed"
    },
    "tags": []
   },
   "outputs": [],
   "source": [
    "#hide\n",
    "t = everydaycases.stack()"
   ]
  },
  {
   "cell_type": "code",
   "execution_count": 22,
   "id": "premier-sleeve",
   "metadata": {
    "execution": {
     "iopub.execute_input": "2021-12-18T12:12:12.721056Z",
     "iopub.status.busy": "2021-12-18T12:12:12.720227Z",
     "iopub.status.idle": "2021-12-18T12:12:12.730690Z",
     "shell.execute_reply": "2021-12-18T12:12:12.730067Z"
    },
    "papermill": {
     "duration": 0.050422,
     "end_time": "2021-12-18T12:12:12.730824",
     "exception": false,
     "start_time": "2021-12-18T12:12:12.680402",
     "status": "completed"
    },
    "tags": []
   },
   "outputs": [],
   "source": [
    "#hide\n",
    "g = t.reset_index(['Country/Region'])"
   ]
  },
  {
   "cell_type": "code",
   "execution_count": 23,
   "id": "distributed-pittsburgh",
   "metadata": {
    "execution": {
     "iopub.execute_input": "2021-12-18T12:12:12.809010Z",
     "iopub.status.busy": "2021-12-18T12:12:12.808221Z",
     "iopub.status.idle": "2021-12-18T12:12:12.811679Z",
     "shell.execute_reply": "2021-12-18T12:12:12.811161Z"
    },
    "papermill": {
     "duration": 0.0453,
     "end_time": "2021-12-18T12:12:12.811817",
     "exception": false,
     "start_time": "2021-12-18T12:12:12.766517",
     "status": "completed"
    },
    "tags": []
   },
   "outputs": [],
   "source": [
    "#hide\n",
    "g.index.name = 'date'"
   ]
  },
  {
   "cell_type": "code",
   "execution_count": 24,
   "id": "naked-donor",
   "metadata": {
    "execution": {
     "iopub.execute_input": "2021-12-18T12:12:12.890024Z",
     "iopub.status.busy": "2021-12-18T12:12:12.889193Z",
     "iopub.status.idle": "2021-12-18T12:12:12.892484Z",
     "shell.execute_reply": "2021-12-18T12:12:12.893178Z"
    },
    "papermill": {
     "duration": 0.0449,
     "end_time": "2021-12-18T12:12:12.893337",
     "exception": false,
     "start_time": "2021-12-18T12:12:12.848437",
     "status": "completed"
    },
    "tags": []
   },
   "outputs": [],
   "source": [
    "# #hide\n",
    "# g = g.reset_index(['date'])"
   ]
  },
  {
   "cell_type": "code",
   "execution_count": 25,
   "id": "incomplete-mustang",
   "metadata": {
    "execution": {
     "iopub.execute_input": "2021-12-18T12:12:12.970779Z",
     "iopub.status.busy": "2021-12-18T12:12:12.970135Z",
     "iopub.status.idle": "2021-12-18T12:12:12.972507Z",
     "shell.execute_reply": "2021-12-18T12:12:12.972031Z"
    },
    "papermill": {
     "duration": 0.042008,
     "end_time": "2021-12-18T12:12:12.972637",
     "exception": false,
     "start_time": "2021-12-18T12:12:12.930629",
     "status": "completed"
    },
    "tags": []
   },
   "outputs": [],
   "source": [
    "#hide\n",
    "# g.head()"
   ]
  },
  {
   "cell_type": "code",
   "execution_count": 26,
   "id": "specific-kruger",
   "metadata": {
    "execution": {
     "iopub.execute_input": "2021-12-18T12:12:13.052128Z",
     "iopub.status.busy": "2021-12-18T12:12:13.051243Z",
     "iopub.status.idle": "2021-12-18T12:12:13.052941Z",
     "shell.execute_reply": "2021-12-18T12:12:13.053555Z"
    },
    "papermill": {
     "duration": 0.044311,
     "end_time": "2021-12-18T12:12:13.053746",
     "exception": false,
     "start_time": "2021-12-18T12:12:13.009435",
     "status": "completed"
    },
    "tags": []
   },
   "outputs": [],
   "source": [
    "#hide\n",
    "# g.columns = ['date','country','cases']"
   ]
  },
  {
   "cell_type": "code",
   "execution_count": 27,
   "id": "tender-conversion",
   "metadata": {
    "execution": {
     "iopub.execute_input": "2021-12-18T12:12:13.136012Z",
     "iopub.status.busy": "2021-12-18T12:12:13.135399Z",
     "iopub.status.idle": "2021-12-18T12:12:13.137268Z",
     "shell.execute_reply": "2021-12-18T12:12:13.137802Z"
    },
    "papermill": {
     "duration": 0.042424,
     "end_time": "2021-12-18T12:12:13.137957",
     "exception": false,
     "start_time": "2021-12-18T12:12:13.095533",
     "status": "completed"
    },
    "tags": []
   },
   "outputs": [],
   "source": [
    "#hide\n",
    "# g['continent'] = g.country"
   ]
  },
  {
   "cell_type": "code",
   "execution_count": 28,
   "id": "substantial-wilderness",
   "metadata": {
    "execution": {
     "iopub.execute_input": "2021-12-18T12:12:13.220357Z",
     "iopub.status.busy": "2021-12-18T12:12:13.219690Z",
     "iopub.status.idle": "2021-12-18T12:12:13.221132Z",
     "shell.execute_reply": "2021-12-18T12:12:13.221679Z"
    },
    "papermill": {
     "duration": 0.04718,
     "end_time": "2021-12-18T12:12:13.221825",
     "exception": false,
     "start_time": "2021-12-18T12:12:13.174645",
     "status": "completed"
    },
    "tags": []
   },
   "outputs": [],
   "source": [
    "#hide\n",
    "# cols = list(g.columns.values)"
   ]
  },
  {
   "cell_type": "code",
   "execution_count": 29,
   "id": "solved-farming",
   "metadata": {
    "execution": {
     "iopub.execute_input": "2021-12-18T12:12:13.300494Z",
     "iopub.status.busy": "2021-12-18T12:12:13.299850Z",
     "iopub.status.idle": "2021-12-18T12:12:13.309690Z",
     "shell.execute_reply": "2021-12-18T12:12:13.309090Z"
    },
    "papermill": {
     "duration": 0.049461,
     "end_time": "2021-12-18T12:12:13.309825",
     "exception": false,
     "start_time": "2021-12-18T12:12:13.260364",
     "status": "completed"
    },
    "tags": []
   },
   "outputs": [],
   "source": [
    "#hide\n",
    "# cols.insert(0, cols.pop())"
   ]
  },
  {
   "cell_type": "code",
   "execution_count": 30,
   "id": "executed-adoption",
   "metadata": {
    "execution": {
     "iopub.execute_input": "2021-12-18T12:12:13.384222Z",
     "iopub.status.busy": "2021-12-18T12:12:13.383571Z",
     "iopub.status.idle": "2021-12-18T12:12:13.385142Z",
     "shell.execute_reply": "2021-12-18T12:12:13.385615Z"
    },
    "papermill": {
     "duration": 0.041141,
     "end_time": "2021-12-18T12:12:13.385765",
     "exception": false,
     "start_time": "2021-12-18T12:12:13.344624",
     "status": "completed"
    },
    "tags": []
   },
   "outputs": [],
   "source": [
    "#hide\n",
    "# g = g[cols]"
   ]
  },
  {
   "cell_type": "code",
   "execution_count": 31,
   "id": "subject-dublin",
   "metadata": {
    "execution": {
     "iopub.execute_input": "2021-12-18T12:12:13.461199Z",
     "iopub.status.busy": "2021-12-18T12:12:13.460136Z",
     "iopub.status.idle": "2021-12-18T12:12:13.464771Z",
     "shell.execute_reply": "2021-12-18T12:12:13.465246Z"
    },
    "papermill": {
     "duration": 0.044884,
     "end_time": "2021-12-18T12:12:13.465407",
     "exception": false,
     "start_time": "2021-12-18T12:12:13.420523",
     "status": "completed"
    },
    "tags": []
   },
   "outputs": [],
   "source": [
    "#hide\n",
    "# g['continent'] = g['continent'].map(mapping['map.continent'])"
   ]
  },
  {
   "cell_type": "code",
   "execution_count": 32,
   "id": "freelance-scout",
   "metadata": {
    "execution": {
     "iopub.execute_input": "2021-12-18T12:12:13.539752Z",
     "iopub.status.busy": "2021-12-18T12:12:13.539072Z",
     "iopub.status.idle": "2021-12-18T12:12:13.541457Z",
     "shell.execute_reply": "2021-12-18T12:12:13.540948Z"
    },
    "papermill": {
     "duration": 0.041552,
     "end_time": "2021-12-18T12:12:13.541584",
     "exception": false,
     "start_time": "2021-12-18T12:12:13.500032",
     "status": "completed"
    },
    "tags": []
   },
   "outputs": [],
   "source": [
    "#hide\n",
    "# g.head()"
   ]
  },
  {
   "cell_type": "code",
   "execution_count": 33,
   "id": "limited-engine",
   "metadata": {
    "execution": {
     "iopub.execute_input": "2021-12-18T12:12:13.617562Z",
     "iopub.status.busy": "2021-12-18T12:12:13.616470Z",
     "iopub.status.idle": "2021-12-18T12:12:13.621769Z",
     "shell.execute_reply": "2021-12-18T12:12:13.621272Z"
    },
    "papermill": {
     "duration": 0.045232,
     "end_time": "2021-12-18T12:12:13.621905",
     "exception": false,
     "start_time": "2021-12-18T12:12:13.576673",
     "status": "completed"
    },
    "tags": []
   },
   "outputs": [],
   "source": [
    "# hide\n",
    "# g['date'] = g['date'].astype('datetime64[ns]')"
   ]
  },
  {
   "cell_type": "code",
   "execution_count": 34,
   "id": "sophisticated-supervisor",
   "metadata": {
    "execution": {
     "iopub.execute_input": "2021-12-18T12:12:13.697090Z",
     "iopub.status.busy": "2021-12-18T12:12:13.696316Z",
     "iopub.status.idle": "2021-12-18T12:12:13.698763Z",
     "shell.execute_reply": "2021-12-18T12:12:13.699633Z"
    },
    "papermill": {
     "duration": 0.043047,
     "end_time": "2021-12-18T12:12:13.699876",
     "exception": false,
     "start_time": "2021-12-18T12:12:13.656829",
     "status": "completed"
    },
    "tags": []
   },
   "outputs": [],
   "source": [
    "#hide\n",
    "# g['date'] = g.date.dt.dayofyear"
   ]
  },
  {
   "cell_type": "code",
   "execution_count": 35,
   "id": "inside-dubai",
   "metadata": {
    "execution": {
     "iopub.execute_input": "2021-12-18T12:12:13.781228Z",
     "iopub.status.busy": "2021-12-18T12:12:13.780095Z",
     "iopub.status.idle": "2021-12-18T12:12:13.782167Z",
     "shell.execute_reply": "2021-12-18T12:12:13.782627Z"
    },
    "papermill": {
     "duration": 0.046132,
     "end_time": "2021-12-18T12:12:13.782775",
     "exception": false,
     "start_time": "2021-12-18T12:12:13.736643",
     "status": "completed"
    },
    "tags": []
   },
   "outputs": [],
   "source": [
    "#hide\n",
    "# g = g.rename(columns= {'continent':'group','country':'name','cases':'value'})"
   ]
  },
  {
   "cell_type": "code",
   "execution_count": 36,
   "id": "fleet-motorcycle",
   "metadata": {
    "execution": {
     "iopub.execute_input": "2021-12-18T12:12:13.857234Z",
     "iopub.status.busy": "2021-12-18T12:12:13.856636Z",
     "iopub.status.idle": "2021-12-18T12:12:13.859538Z",
     "shell.execute_reply": "2021-12-18T12:12:13.859034Z"
    },
    "papermill": {
     "duration": 0.041974,
     "end_time": "2021-12-18T12:12:13.859669",
     "exception": false,
     "start_time": "2021-12-18T12:12:13.817695",
     "status": "completed"
    },
    "tags": []
   },
   "outputs": [],
   "source": [
    "#hide\n",
    "# cols = ['name','group','day','value']"
   ]
  },
  {
   "cell_type": "code",
   "execution_count": 37,
   "id": "continued-sleeping",
   "metadata": {
    "execution": {
     "iopub.execute_input": "2021-12-18T12:12:13.933748Z",
     "iopub.status.busy": "2021-12-18T12:12:13.932947Z",
     "iopub.status.idle": "2021-12-18T12:12:13.937623Z",
     "shell.execute_reply": "2021-12-18T12:12:13.937088Z"
    },
    "papermill": {
     "duration": 0.043491,
     "end_time": "2021-12-18T12:12:13.937759",
     "exception": false,
     "start_time": "2021-12-18T12:12:13.894268",
     "status": "completed"
    },
    "tags": []
   },
   "outputs": [],
   "source": [
    "#hide\n",
    "# g.rename(columns= {'date':'day'},inplace = True)"
   ]
  },
  {
   "cell_type": "code",
   "execution_count": 38,
   "id": "major-fight",
   "metadata": {
    "execution": {
     "iopub.execute_input": "2021-12-18T12:12:14.016371Z",
     "iopub.status.busy": "2021-12-18T12:12:14.015730Z",
     "iopub.status.idle": "2021-12-18T12:12:14.017555Z",
     "shell.execute_reply": "2021-12-18T12:12:14.017083Z"
    },
    "papermill": {
     "duration": 0.043858,
     "end_time": "2021-12-18T12:12:14.017680",
     "exception": false,
     "start_time": "2021-12-18T12:12:13.973822",
     "status": "completed"
    },
    "tags": []
   },
   "outputs": [],
   "source": [
    "#hide\n",
    "# g = g[cols]"
   ]
  },
  {
   "cell_type": "code",
   "execution_count": 39,
   "id": "structured-mobile",
   "metadata": {
    "execution": {
     "iopub.execute_input": "2021-12-18T12:12:14.093573Z",
     "iopub.status.busy": "2021-12-18T12:12:14.092503Z",
     "iopub.status.idle": "2021-12-18T12:12:14.097516Z",
     "shell.execute_reply": "2021-12-18T12:12:14.097968Z"
    },
    "papermill": {
     "duration": 0.045511,
     "end_time": "2021-12-18T12:12:14.098119",
     "exception": false,
     "start_time": "2021-12-18T12:12:14.052608",
     "status": "completed"
    },
    "tags": []
   },
   "outputs": [],
   "source": [
    "# #hide\n",
    "# g = g[g.group.notna()]"
   ]
  },
  {
   "cell_type": "code",
   "execution_count": 40,
   "id": "determined-closing",
   "metadata": {
    "execution": {
     "iopub.execute_input": "2021-12-18T12:12:14.183850Z",
     "iopub.status.busy": "2021-12-18T12:12:14.182858Z",
     "iopub.status.idle": "2021-12-18T12:12:14.187716Z",
     "shell.execute_reply": "2021-12-18T12:12:14.186647Z"
    },
    "papermill": {
     "duration": 0.047623,
     "end_time": "2021-12-18T12:12:14.188190",
     "exception": false,
     "start_time": "2021-12-18T12:12:14.140567",
     "status": "completed"
    },
    "tags": []
   },
   "outputs": [],
   "source": [
    "# #hide\n",
    "# colors = dict(zip(\n",
    "#     [\"Oceania\", \"Europe\", \"Asia\", \"South America\", \"Middle East\", \"North America\", \"Africa\"],\n",
    "#     [\"#adb0ff\", \"#ffb3ff\", \"#90d595\", \"#e48381\", \"#aafbff\", \"#f7bb5f\", \"#eafb50\"]\n",
    "# ))\n",
    "# group_lk = g.set_index('name')['group'].to_dict()"
   ]
  },
  {
   "cell_type": "code",
   "execution_count": null,
   "id": "gross-drinking",
   "metadata": {
    "papermill": {
     "duration": 0.03729,
     "end_time": "2021-12-18T12:12:14.261013",
     "exception": false,
     "start_time": "2021-12-18T12:12:14.223723",
     "status": "completed"
    },
    "tags": []
   },
   "outputs": [],
   "source": []
  },
  {
   "cell_type": "code",
   "execution_count": 41,
   "id": "subject-macintosh",
   "metadata": {
    "execution": {
     "iopub.execute_input": "2021-12-18T12:12:14.341597Z",
     "iopub.status.busy": "2021-12-18T12:12:14.340952Z",
     "iopub.status.idle": "2021-12-18T12:12:14.342819Z",
     "shell.execute_reply": "2021-12-18T12:12:14.343263Z"
    },
    "papermill": {
     "duration": 0.044678,
     "end_time": "2021-12-18T12:12:14.343490",
     "exception": false,
     "start_time": "2021-12-18T12:12:14.298812",
     "status": "completed"
    },
    "tags": []
   },
   "outputs": [],
   "source": [
    "# #hide\n",
    "# fig, ax = plt.subplots(figsize=(15, 8))\n",
    "\n",
    "# def draw_barchart(current_day):\n",
    "#     dff = g[g['day'].eq(current_day)].sort_values(by='value', ascending=True).tail(10)\n",
    "#     ax.clear()\n",
    "#     ax.barh(dff['name'], dff['value'], color=[colors[group_lk[x]] for x in dff['name']])\n",
    "#     dx = dff['value'].max() / 200\n",
    "    \n",
    "#     for i, (value, name) in enumerate(zip(dff['value'], dff['name'])):\n",
    "#         ax.text(value-dx, i,     name,           size=14, weight=600, ha='right', va='bottom')\n",
    "#         ax.text(value-dx, i-.25, group_lk[name], size=10, color='#444444', ha='right', va='baseline')\n",
    "#         ax.text(value+dx, i,     f'{value:,.0f}',  size=14, ha='left',  va='center')\n",
    "#     ax.text(1, 0.4, current_day, transform=ax.transAxes, color='#777777', size=46, ha='right', weight=800)\n",
    "#     ax.text(0, 1.06, 'Population (thousands)', transform=ax.transAxes, size=12, color='#777777')\n",
    "#     ax.xaxis.set_major_formatter(ticker.StrMethodFormatter('{x:,.0f}'))\n",
    "#     ax.xaxis.set_ticks_position('top')\n",
    "#     ax.tick_params(axis='x', colors='#777777', labelsize=12)\n",
    "#     ax.set_yticks([])\n",
    "#     ax.margins(0, 0.01)\n",
    "#     ax.grid(which='major', axis='x', linestyle='-')\n",
    "#     ax.set_axisbelow(True)\n",
    "    \n",
    "#     ax.text(0, 1.15, 'Coronavirus',\n",
    "#             transform=ax.transAxes, size=24, weight=600, ha='left', va='top')\n",
    "# #     ax.text(1, 0, 'by @pratapvardhan; credit @jburnmurdoch', transform=ax.transAxes, color='#777777', ha='right',\n",
    "# #             bbox=dict(facecolor='white', alpha=0.8, edgecolor='white'))\n",
    "#     plt.box(False)"
   ]
  },
  {
   "cell_type": "code",
   "execution_count": 42,
   "id": "sexual-wages",
   "metadata": {
    "execution": {
     "iopub.execute_input": "2021-12-18T12:12:14.420480Z",
     "iopub.status.busy": "2021-12-18T12:12:14.419620Z",
     "iopub.status.idle": "2021-12-18T12:12:14.423132Z",
     "shell.execute_reply": "2021-12-18T12:12:14.422589Z"
    },
    "papermill": {
     "duration": 0.044442,
     "end_time": "2021-12-18T12:12:14.423263",
     "exception": false,
     "start_time": "2021-12-18T12:12:14.378821",
     "status": "completed"
    },
    "tags": []
   },
   "outputs": [],
   "source": [
    "# #hide_input\n",
    "# fig, ax = plt.subplots(figsize=(15, 8))\n",
    "# animator = animation.FuncAnimation(fig, draw_barchart, frames=range(g.day.values.min(), g.day.values.max()))\n",
    "# HTML(animator.to_jshtml())\n",
    "# # or use animator.to_html5_video() or animator.save() "
   ]
  },
  {
   "cell_type": "code",
   "execution_count": null,
   "id": "australian-container",
   "metadata": {
    "papermill": {
     "duration": 0.037138,
     "end_time": "2021-12-18T12:12:14.498078",
     "exception": false,
     "start_time": "2021-12-18T12:12:14.460940",
     "status": "completed"
    },
    "tags": []
   },
   "outputs": [],
   "source": []
  },
  {
   "cell_type": "code",
   "execution_count": null,
   "id": "mediterranean-pontiac",
   "metadata": {
    "papermill": {
     "duration": 0.035986,
     "end_time": "2021-12-18T12:12:14.570826",
     "exception": false,
     "start_time": "2021-12-18T12:12:14.534840",
     "status": "completed"
    },
    "tags": []
   },
   "outputs": [],
   "source": []
  },
  {
   "cell_type": "code",
   "execution_count": null,
   "id": "aging-legislature",
   "metadata": {
    "papermill": {
     "duration": 0.036722,
     "end_time": "2021-12-18T12:12:14.644527",
     "exception": false,
     "start_time": "2021-12-18T12:12:14.607805",
     "status": "completed"
    },
    "tags": []
   },
   "outputs": [],
   "source": []
  }
 ],
 "metadata": {
  "kernelspec": {
   "display_name": "Python 3",
   "language": "python",
   "name": "python3"
  },
  "language_info": {
   "codemirror_mode": {
    "name": "ipython",
    "version": 3
   },
   "file_extension": ".py",
   "mimetype": "text/x-python",
   "name": "python",
   "nbconvert_exporter": "python",
   "pygments_lexer": "ipython3",
   "version": "3.6.15"
  },
  "papermill": {
   "duration": 7.464864,
   "end_time": "2021-12-18T12:12:15.106885",
   "environment_variables": {},
   "exception": null,
   "input_path": "2020-03-21-covid19exp.ipynb",
   "output_path": "2020-03-21-covid19exp.ipynb",
   "parameters": {},
   "start_time": "2021-12-18T12:12:07.642021",
   "version": "2.0.0"
  }
 },
 "nbformat": 4,
 "nbformat_minor": 5
}