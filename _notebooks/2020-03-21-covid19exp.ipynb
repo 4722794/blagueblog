{
 "cells": [
  {
   "cell_type": "markdown",
   "id": "muslim-click",
   "metadata": {
    "papermill": {
     "duration": 0.041081,
     "end_time": "2021-02-19T00:10:58.569192",
     "exception": false,
     "start_time": "2021-02-19T00:10:58.528111",
     "status": "completed"
    },
    "tags": []
   },
   "source": [
    "# COVID-19 Case Race\n",
    "> A race chart to see rising cases around the world\n",
    "\n",
    "- author: Hargun Oberoi\n",
    "- image: images/covid-overview.png\n",
    "- hide: false\n",
    "- badges: false"
   ]
  },
  {
   "cell_type": "code",
   "execution_count": 1,
   "id": "proof-material",
   "metadata": {
    "execution": {
     "iopub.execute_input": "2021-02-19T00:10:58.648245Z",
     "iopub.status.busy": "2021-02-19T00:10:58.647630Z",
     "iopub.status.idle": "2021-02-19T00:10:58.997380Z",
     "shell.execute_reply": "2021-02-19T00:10:58.996578Z"
    },
    "papermill": {
     "duration": 0.393484,
     "end_time": "2021-02-19T00:10:58.997595",
     "exception": false,
     "start_time": "2021-02-19T00:10:58.604111",
     "status": "completed"
    },
    "tags": []
   },
   "outputs": [],
   "source": [
    "#hide\n",
    "import numpy as np\n",
    "import pandas as pd\n",
    "from jinja2 import Template\n",
    "from IPython.display import HTML"
   ]
  },
  {
   "cell_type": "code",
   "execution_count": 2,
   "id": "developed-terminology",
   "metadata": {
    "execution": {
     "iopub.execute_input": "2021-02-19T00:10:59.071181Z",
     "iopub.status.busy": "2021-02-19T00:10:59.070576Z",
     "iopub.status.idle": "2021-02-19T00:10:59.072684Z",
     "shell.execute_reply": "2021-02-19T00:10:59.073242Z"
    },
    "papermill": {
     "duration": 0.040867,
     "end_time": "2021-02-19T00:10:59.073385",
     "exception": false,
     "start_time": "2021-02-19T00:10:59.032518",
     "status": "completed"
    },
    "tags": []
   },
   "outputs": [],
   "source": [
    "#hide\n",
    "\n",
    "# FETCH\n",
    "base_url = 'https://raw.githubusercontent.com/pratapvardhan/notebooks/master/covid19/'\n",
    "paths = {\n",
    "    'mapping': base_url + 'mapping_countries.csv',\n",
    "    'overview': base_url + 'overview.tpl'\n",
    "}"
   ]
  },
  {
   "cell_type": "code",
   "execution_count": 3,
   "id": "dynamic-saver",
   "metadata": {
    "execution": {
     "iopub.execute_input": "2021-02-19T00:10:59.151941Z",
     "iopub.status.busy": "2021-02-19T00:10:59.151332Z",
     "iopub.status.idle": "2021-02-19T00:10:59.153632Z",
     "shell.execute_reply": "2021-02-19T00:10:59.154214Z"
    },
    "papermill": {
     "duration": 0.048536,
     "end_time": "2021-02-19T00:10:59.154363",
     "exception": false,
     "start_time": "2021-02-19T00:10:59.105827",
     "status": "completed"
    },
    "tags": []
   },
   "outputs": [
    {
     "data": {
      "text/plain": [
       "'https://raw.githubusercontent.com/pratapvardhan/notebooks/master/covid19/mapping_countries.csv'"
      ]
     },
     "execution_count": 3,
     "metadata": {},
     "output_type": "execute_result"
    }
   ],
   "source": [
    "#hide\n",
    "paths['mapping']"
   ]
  },
  {
   "cell_type": "code",
   "execution_count": 4,
   "id": "urban-software",
   "metadata": {
    "execution": {
     "iopub.execute_input": "2021-02-19T00:10:59.226378Z",
     "iopub.status.busy": "2021-02-19T00:10:59.225734Z",
     "iopub.status.idle": "2021-02-19T00:10:59.228506Z",
     "shell.execute_reply": "2021-02-19T00:10:59.227991Z"
    },
    "papermill": {
     "duration": 0.041148,
     "end_time": "2021-02-19T00:10:59.228628",
     "exception": false,
     "start_time": "2021-02-19T00:10:59.187480",
     "status": "completed"
    },
    "tags": []
   },
   "outputs": [],
   "source": [
    "#hide\n",
    "def get_mappings(url):\n",
    "    df = pd.read_csv(url)\n",
    "    return {\n",
    "        'df': df,\n",
    "        'replace.country': dict(df.dropna(subset=['Name']).set_index('Country')['Name']),\n",
    "        'map.continent': dict(df.set_index('Name')['Continent'])\n",
    "    }"
   ]
  },
  {
   "cell_type": "code",
   "execution_count": 5,
   "id": "intimate-machinery",
   "metadata": {
    "execution": {
     "iopub.execute_input": "2021-02-19T00:10:59.300970Z",
     "iopub.status.busy": "2021-02-19T00:10:59.300369Z",
     "iopub.status.idle": "2021-02-19T00:10:59.338936Z",
     "shell.execute_reply": "2021-02-19T00:10:59.338362Z"
    },
    "papermill": {
     "duration": 0.077213,
     "end_time": "2021-02-19T00:10:59.339082",
     "exception": false,
     "start_time": "2021-02-19T00:10:59.261869",
     "status": "completed"
    },
    "tags": []
   },
   "outputs": [],
   "source": [
    "#hide\n",
    "mapping = get_mappings(paths['mapping'])"
   ]
  },
  {
   "cell_type": "code",
   "execution_count": 6,
   "id": "certified-tactics",
   "metadata": {
    "execution": {
     "iopub.execute_input": "2021-02-19T00:10:59.413458Z",
     "iopub.status.busy": "2021-02-19T00:10:59.412852Z",
     "iopub.status.idle": "2021-02-19T00:10:59.415072Z",
     "shell.execute_reply": "2021-02-19T00:10:59.415621Z"
    },
    "papermill": {
     "duration": 0.04232,
     "end_time": "2021-02-19T00:10:59.415765",
     "exception": false,
     "start_time": "2021-02-19T00:10:59.373445",
     "status": "completed"
    },
    "tags": []
   },
   "outputs": [],
   "source": [
    "#hide\n",
    "def get_template(path):\n",
    "    from urllib.parse import urlparse\n",
    "    if bool(urlparse(path).netloc):\n",
    "        from urllib.request import urlopen\n",
    "        return urlopen(path).read().decode('utf8')\n",
    "    return open(path).read()"
   ]
  },
  {
   "cell_type": "code",
   "execution_count": 7,
   "id": "realistic-blast",
   "metadata": {
    "execution": {
     "iopub.execute_input": "2021-02-19T00:10:59.487342Z",
     "iopub.status.busy": "2021-02-19T00:10:59.486739Z",
     "iopub.status.idle": "2021-02-19T00:10:59.488970Z",
     "shell.execute_reply": "2021-02-19T00:10:59.488469Z"
    },
    "papermill": {
     "duration": 0.040117,
     "end_time": "2021-02-19T00:10:59.489093",
     "exception": false,
     "start_time": "2021-02-19T00:10:59.448976",
     "status": "completed"
    },
    "tags": []
   },
   "outputs": [],
   "source": [
    "#hide\n",
    "def get_frame(name):\n",
    "    url = (\n",
    "        'https://raw.githubusercontent.com/CSSEGISandData/COVID-19/master/csse_covid_19_data/'\n",
    "        f'csse_covid_19_time_series/time_series_covid19_{name}_global.csv')\n",
    "    df = pd.read_csv(url)\n",
    "    # rename countries\n",
    "    df['Country/Region'] = df['Country/Region'].replace(mapping['replace.country'])\n",
    "    return df"
   ]
  },
  {
   "cell_type": "code",
   "execution_count": 8,
   "id": "affiliated-characterization",
   "metadata": {
    "execution": {
     "iopub.execute_input": "2021-02-19T00:10:59.562591Z",
     "iopub.status.busy": "2021-02-19T00:10:59.561955Z",
     "iopub.status.idle": "2021-02-19T00:10:59.563684Z",
     "shell.execute_reply": "2021-02-19T00:10:59.564230Z"
    },
    "papermill": {
     "duration": 0.042191,
     "end_time": "2021-02-19T00:10:59.564371",
     "exception": false,
     "start_time": "2021-02-19T00:10:59.522180",
     "status": "completed"
    },
    "tags": []
   },
   "outputs": [],
   "source": [
    "#hide\n",
    "def get_dates(df):\n",
    "    dt_cols = df.columns[~df.columns.isin(['Province/State', 'Country/Region', 'Lat', 'Long'])]\n",
    "    LAST_DATE_I = -1\n",
    "    # sometimes last column may be empty, then go backwards\n",
    "    for i in range(-1, -len(dt_cols), -1):\n",
    "        if not df[dt_cols[i]].fillna(0).eq(0).all():\n",
    "            LAST_DATE_I = i\n",
    "            break\n",
    "    return LAST_DATE_I, dt_cols"
   ]
  },
  {
   "cell_type": "code",
   "execution_count": 9,
   "id": "recent-optimization",
   "metadata": {
    "execution": {
     "iopub.execute_input": "2021-02-19T00:10:59.636506Z",
     "iopub.status.busy": "2021-02-19T00:10:59.635911Z",
     "iopub.status.idle": "2021-02-19T00:10:59.934314Z",
     "shell.execute_reply": "2021-02-19T00:10:59.933143Z"
    },
    "papermill": {
     "duration": 0.337124,
     "end_time": "2021-02-19T00:10:59.934454",
     "exception": false,
     "start_time": "2021-02-19T00:10:59.597330",
     "status": "completed"
    },
    "tags": []
   },
   "outputs": [],
   "source": [
    "#hide\n",
    "COL_REGION = 'Country/Region'\n",
    "# Confirmed, Recovered, Deaths\n",
    "df = get_frame('confirmed')\n",
    "# dft_: timeseries, dfc_: today country agg\n",
    "dft_cases = df\n",
    "dft_deaths = get_frame('deaths')\n",
    "dft_recovered = get_frame('recovered')\n",
    "LAST_DATE_I, dt_cols = get_dates(df)"
   ]
  },
  {
   "cell_type": "code",
   "execution_count": 10,
   "id": "absolute-copper",
   "metadata": {
    "execution": {
     "iopub.execute_input": "2021-02-19T00:11:00.007190Z",
     "iopub.status.busy": "2021-02-19T00:11:00.006576Z",
     "iopub.status.idle": "2021-02-19T00:11:00.008906Z",
     "shell.execute_reply": "2021-02-19T00:11:00.009357Z"
    },
    "papermill": {
     "duration": 0.04159,
     "end_time": "2021-02-19T00:11:00.009506",
     "exception": false,
     "start_time": "2021-02-19T00:10:59.967916",
     "status": "completed"
    },
    "tags": []
   },
   "outputs": [],
   "source": [
    "#hide\n",
    "LAST_DATE_I, dt_cols = get_dates(df)\n",
    "dt_today =dt_cols[LAST_DATE_I]\n",
    "# dt_5day = dt_cols[LAST_DATE_I - 5]\n",
    "dt_yday = dt_cols[LAST_DATE_I - 1]"
   ]
  },
  {
   "cell_type": "code",
   "execution_count": 11,
   "id": "restricted-sheriff",
   "metadata": {
    "execution": {
     "iopub.execute_input": "2021-02-19T00:11:00.084888Z",
     "iopub.status.busy": "2021-02-19T00:11:00.084293Z",
     "iopub.status.idle": "2021-02-19T00:11:00.090849Z",
     "shell.execute_reply": "2021-02-19T00:11:00.090334Z"
    },
    "papermill": {
     "duration": 0.048247,
     "end_time": "2021-02-19T00:11:00.090973",
     "exception": false,
     "start_time": "2021-02-19T00:11:00.042726",
     "status": "completed"
    },
    "tags": []
   },
   "outputs": [],
   "source": [
    "#hide\n",
    "dfc_cases = dft_cases.groupby(COL_REGION)[dt_today].sum()\n",
    "dfc_deaths = dft_deaths.groupby(COL_REGION)[dt_today].sum()\n",
    "# dfp_cases = dft_cases.groupby(COL_REGION)[dt_5day].sum()\n",
    "# dfp_deaths = dft_deaths.groupby(COL_REGION)[dt_5day].sum()\n",
    "dfp_cases = dft_cases.groupby(COL_REGION)[dt_yday].sum()\n",
    "dfp_deaths = dft_deaths.groupby(COL_REGION)[dt_yday].sum()"
   ]
  },
  {
   "cell_type": "code",
   "execution_count": 12,
   "id": "deluxe-hepatitis",
   "metadata": {
    "execution": {
     "iopub.execute_input": "2021-02-19T00:11:00.164162Z",
     "iopub.status.busy": "2021-02-19T00:11:00.163560Z",
     "iopub.status.idle": "2021-02-19T00:11:00.167924Z",
     "shell.execute_reply": "2021-02-19T00:11:00.168397Z"
    },
    "papermill": {
     "duration": 0.044668,
     "end_time": "2021-02-19T00:11:00.168538",
     "exception": false,
     "start_time": "2021-02-19T00:11:00.123870",
     "status": "completed"
    },
    "tags": []
   },
   "outputs": [],
   "source": [
    "#hide\n",
    "df_table = (pd.DataFrame(dict(Cases = dfc_cases, Deaths = dfc_deaths, PCases = dfp_cases, PDeaths = dfp_deaths))\n",
    "            .sort_values(by = ['Cases','Deaths'], ascending = [False, False])\n",
    "            .reset_index())"
   ]
  },
  {
   "cell_type": "code",
   "execution_count": 13,
   "id": "educational-chancellor",
   "metadata": {
    "execution": {
     "iopub.execute_input": "2021-02-19T00:11:00.256753Z",
     "iopub.status.busy": "2021-02-19T00:11:00.256122Z",
     "iopub.status.idle": "2021-02-19T00:11:00.263436Z",
     "shell.execute_reply": "2021-02-19T00:11:00.263909Z"
    },
    "papermill": {
     "duration": 0.062756,
     "end_time": "2021-02-19T00:11:00.264054",
     "exception": false,
     "start_time": "2021-02-19T00:11:00.201298",
     "status": "completed"
    },
    "tags": []
   },
   "outputs": [
    {
     "data": {
      "text/html": [
       "<div>\n",
       "<style scoped>\n",
       "    .dataframe tbody tr th:only-of-type {\n",
       "        vertical-align: middle;\n",
       "    }\n",
       "\n",
       "    .dataframe tbody tr th {\n",
       "        vertical-align: top;\n",
       "    }\n",
       "\n",
       "    .dataframe thead th {\n",
       "        text-align: right;\n",
       "    }\n",
       "</style>\n",
       "<table border=\"1\" class=\"dataframe\">\n",
       "  <thead>\n",
       "    <tr style=\"text-align: right;\">\n",
       "      <th></th>\n",
       "      <th>Country/Region</th>\n",
       "      <th>Cases</th>\n",
       "      <th>Deaths</th>\n",
       "      <th>PCases</th>\n",
       "      <th>PDeaths</th>\n",
       "      <th>Cases (+)</th>\n",
       "      <th>Deaths (+)</th>\n",
       "      <th>Fatality Rate</th>\n",
       "      <th>Continent</th>\n",
       "    </tr>\n",
       "  </thead>\n",
       "  <tbody>\n",
       "    <tr>\n",
       "      <th>0</th>\n",
       "      <td>US</td>\n",
       "      <td>27826812</td>\n",
       "      <td>490540</td>\n",
       "      <td>27756624</td>\n",
       "      <td>488081</td>\n",
       "      <td>70188</td>\n",
       "      <td>2459</td>\n",
       "      <td>1.76</td>\n",
       "      <td>North America</td>\n",
       "    </tr>\n",
       "    <tr>\n",
       "      <th>1</th>\n",
       "      <td>India</td>\n",
       "      <td>10950201</td>\n",
       "      <td>156014</td>\n",
       "      <td>10937320</td>\n",
       "      <td>155913</td>\n",
       "      <td>12881</td>\n",
       "      <td>101</td>\n",
       "      <td>1.42</td>\n",
       "      <td>Asia</td>\n",
       "    </tr>\n",
       "    <tr>\n",
       "      <th>2</th>\n",
       "      <td>Brazil</td>\n",
       "      <td>9978747</td>\n",
       "      <td>242090</td>\n",
       "      <td>9921981</td>\n",
       "      <td>240940</td>\n",
       "      <td>56766</td>\n",
       "      <td>1150</td>\n",
       "      <td>2.43</td>\n",
       "      <td>South America</td>\n",
       "    </tr>\n",
       "    <tr>\n",
       "      <th>3</th>\n",
       "      <td>United Kingdom</td>\n",
       "      <td>4083092</td>\n",
       "      <td>119159</td>\n",
       "      <td>4070332</td>\n",
       "      <td>118421</td>\n",
       "      <td>12760</td>\n",
       "      <td>738</td>\n",
       "      <td>2.92</td>\n",
       "      <td>Europe</td>\n",
       "    </tr>\n",
       "    <tr>\n",
       "      <th>4</th>\n",
       "      <td>Russia</td>\n",
       "      <td>4066164</td>\n",
       "      <td>80118</td>\n",
       "      <td>4053535</td>\n",
       "      <td>79659</td>\n",
       "      <td>12629</td>\n",
       "      <td>459</td>\n",
       "      <td>1.97</td>\n",
       "      <td>Europe</td>\n",
       "    </tr>\n",
       "  </tbody>\n",
       "</table>\n",
       "</div>"
      ],
      "text/plain": [
       "   Country/Region     Cases  Deaths    PCases  PDeaths  Cases (+)  Deaths (+)  \\\n",
       "0              US  27826812  490540  27756624   488081      70188        2459   \n",
       "1           India  10950201  156014  10937320   155913      12881         101   \n",
       "2          Brazil   9978747  242090   9921981   240940      56766        1150   \n",
       "3  United Kingdom   4083092  119159   4070332   118421      12760         738   \n",
       "4          Russia   4066164   80118   4053535    79659      12629         459   \n",
       "\n",
       "   Fatality Rate      Continent  \n",
       "0           1.76  North America  \n",
       "1           1.42           Asia  \n",
       "2           2.43  South America  \n",
       "3           2.92         Europe  \n",
       "4           1.97         Europe  "
      ]
     },
     "execution_count": 13,
     "metadata": {},
     "output_type": "execute_result"
    }
   ],
   "source": [
    "#hide\n",
    "for c in 'Cases, Deaths'.split(', '):\n",
    "    df_table[f'{c} (+)'] = (df_table[c] - df_table[f'P{c}']).clip(0)\n",
    "    #Clip ça veut dire, les chiffres negatif sont interdit\n",
    "df_table['Fatality Rate'] = (100* df_table['Deaths']/ df_table['Cases']).round(2)\n",
    "df_table['Continent'] = df_table['Country/Region'].map(mapping['map.continent'])\n",
    "df_table.head(5)"
   ]
  },
  {
   "cell_type": "code",
   "execution_count": 14,
   "id": "aboriginal-bulgaria",
   "metadata": {
    "execution": {
     "iopub.execute_input": "2021-02-19T00:11:00.338811Z",
     "iopub.status.busy": "2021-02-19T00:11:00.338198Z",
     "iopub.status.idle": "2021-02-19T00:11:00.340994Z",
     "shell.execute_reply": "2021-02-19T00:11:00.341563Z"
    },
    "papermill": {
     "duration": 0.043421,
     "end_time": "2021-02-19T00:11:00.341704",
     "exception": false,
     "start_time": "2021-02-19T00:11:00.298283",
     "status": "completed"
    },
    "tags": []
   },
   "outputs": [],
   "source": [
    "#hide\n",
    "#delete problematic countries from table\n",
    "df_table = df_table[~df_table['Country/Region'].isin(['Cape Verde', 'Cruise Ship', 'Kosovo'])]"
   ]
  },
  {
   "cell_type": "code",
   "execution_count": 15,
   "id": "fantastic-effect",
   "metadata": {
    "execution": {
     "iopub.execute_input": "2021-02-19T00:11:00.424558Z",
     "iopub.status.busy": "2021-02-19T00:11:00.423940Z",
     "iopub.status.idle": "2021-02-19T00:11:00.444038Z",
     "shell.execute_reply": "2021-02-19T00:11:00.443554Z"
    },
    "papermill": {
     "duration": 0.067697,
     "end_time": "2021-02-19T00:11:00.444168",
     "exception": false,
     "start_time": "2021-02-19T00:11:00.376471",
     "status": "completed"
    },
    "tags": []
   },
   "outputs": [
    {
     "data": {
      "text/html": [
       "<div>\n",
       "<style scoped>\n",
       "    .dataframe tbody tr th:only-of-type {\n",
       "        vertical-align: middle;\n",
       "    }\n",
       "\n",
       "    .dataframe tbody tr th {\n",
       "        vertical-align: top;\n",
       "    }\n",
       "\n",
       "    .dataframe thead th {\n",
       "        text-align: right;\n",
       "    }\n",
       "</style>\n",
       "<table border=\"1\" class=\"dataframe\">\n",
       "  <thead>\n",
       "    <tr style=\"text-align: right;\">\n",
       "      <th></th>\n",
       "      <th>Country/Region</th>\n",
       "      <th>Cases</th>\n",
       "      <th>Deaths</th>\n",
       "      <th>PCases</th>\n",
       "      <th>PDeaths</th>\n",
       "      <th>Cases (+)</th>\n",
       "      <th>Deaths (+)</th>\n",
       "      <th>Fatality Rate</th>\n",
       "      <th>Continent</th>\n",
       "    </tr>\n",
       "  </thead>\n",
       "  <tbody>\n",
       "    <tr>\n",
       "      <th>0</th>\n",
       "      <td>US</td>\n",
       "      <td>27826812</td>\n",
       "      <td>490540</td>\n",
       "      <td>27756624</td>\n",
       "      <td>488081</td>\n",
       "      <td>70188</td>\n",
       "      <td>2459</td>\n",
       "      <td>1.8</td>\n",
       "      <td>North America</td>\n",
       "    </tr>\n",
       "    <tr>\n",
       "      <th>1</th>\n",
       "      <td>India</td>\n",
       "      <td>10950201</td>\n",
       "      <td>156014</td>\n",
       "      <td>10937320</td>\n",
       "      <td>155913</td>\n",
       "      <td>12881</td>\n",
       "      <td>101</td>\n",
       "      <td>1.4</td>\n",
       "      <td>Asia</td>\n",
       "    </tr>\n",
       "    <tr>\n",
       "      <th>2</th>\n",
       "      <td>Brazil</td>\n",
       "      <td>9978747</td>\n",
       "      <td>242090</td>\n",
       "      <td>9921981</td>\n",
       "      <td>240940</td>\n",
       "      <td>56766</td>\n",
       "      <td>1150</td>\n",
       "      <td>2.4</td>\n",
       "      <td>South America</td>\n",
       "    </tr>\n",
       "    <tr>\n",
       "      <th>3</th>\n",
       "      <td>United Kingdom</td>\n",
       "      <td>4083092</td>\n",
       "      <td>119159</td>\n",
       "      <td>4070332</td>\n",
       "      <td>118421</td>\n",
       "      <td>12760</td>\n",
       "      <td>738</td>\n",
       "      <td>2.9</td>\n",
       "      <td>Europe</td>\n",
       "    </tr>\n",
       "    <tr>\n",
       "      <th>4</th>\n",
       "      <td>Russia</td>\n",
       "      <td>4066164</td>\n",
       "      <td>80118</td>\n",
       "      <td>4053535</td>\n",
       "      <td>79659</td>\n",
       "      <td>12629</td>\n",
       "      <td>459</td>\n",
       "      <td>2.0</td>\n",
       "      <td>Europe</td>\n",
       "    </tr>\n",
       "  </tbody>\n",
       "</table>\n",
       "</div>"
      ],
      "text/plain": [
       "   Country/Region     Cases  Deaths    PCases  PDeaths  Cases (+)  Deaths (+)  \\\n",
       "0              US  27826812  490540  27756624   488081      70188        2459   \n",
       "1           India  10950201  156014  10937320   155913      12881         101   \n",
       "2          Brazil   9978747  242090   9921981   240940      56766        1150   \n",
       "3  United Kingdom   4083092  119159   4070332   118421      12760         738   \n",
       "4          Russia   4066164   80118   4053535    79659      12629         459   \n",
       "\n",
       "   Fatality Rate      Continent  \n",
       "0            1.8  North America  \n",
       "1            1.4           Asia  \n",
       "2            2.4  South America  \n",
       "3            2.9         Europe  \n",
       "4            2.0         Europe  "
      ]
     },
     "execution_count": 15,
     "metadata": {},
     "output_type": "execute_result"
    }
   ],
   "source": [
    "#hide\n",
    "df_table = (pd.DataFrame(dict(Cases=dfc_cases, Deaths=dfc_deaths, PCases=dfp_cases, PDeaths=dfp_deaths))\n",
    "             .sort_values(by=['Cases', 'Deaths'], ascending=[False, False])\n",
    "             .reset_index())\n",
    "df_table.rename(columns={'index': 'Country/Region'}, inplace=True)\n",
    "for c in 'Cases, Deaths'.split(', '):\n",
    "    df_table[f'{c} (+)'] = (df_table[c] - df_table[f'P{c}']).clip(0)  # DATA BUG\n",
    "df_table['Fatality Rate'] = (100 * df_table['Deaths'] / df_table['Cases']).round(1)\n",
    "df_table['Continent'] = df_table['Country/Region'].map(mapping['map.continent'])\n",
    "df_table.head(5)"
   ]
  },
  {
   "cell_type": "code",
   "execution_count": 16,
   "id": "fewer-occasion",
   "metadata": {
    "execution": {
     "iopub.execute_input": "2021-02-19T00:11:00.527893Z",
     "iopub.status.busy": "2021-02-19T00:11:00.526825Z",
     "iopub.status.idle": "2021-02-19T00:11:00.528978Z",
     "shell.execute_reply": "2021-02-19T00:11:00.529796Z"
    },
    "papermill": {
     "duration": 0.047537,
     "end_time": "2021-02-19T00:11:00.530068",
     "exception": false,
     "start_time": "2021-02-19T00:11:00.482531",
     "status": "completed"
    },
    "tags": []
   },
   "outputs": [],
   "source": [
    "#hide\n",
    "#delete problematic countries from table\n",
    "df_table = df_table[~df_table['Country/Region'].isin(['Cape Verde', 'Cruise Ship', 'Kosovo'])]"
   ]
  },
  {
   "cell_type": "code",
   "execution_count": 17,
   "id": "related-center",
   "metadata": {
    "execution": {
     "iopub.execute_input": "2021-02-19T00:11:00.620056Z",
     "iopub.status.busy": "2021-02-19T00:11:00.619432Z",
     "iopub.status.idle": "2021-02-19T00:11:00.621910Z",
     "shell.execute_reply": "2021-02-19T00:11:00.621325Z"
    },
    "papermill": {
     "duration": 0.055958,
     "end_time": "2021-02-19T00:11:00.622061",
     "exception": false,
     "start_time": "2021-02-19T00:11:00.566103",
     "status": "completed"
    },
    "tags": []
   },
   "outputs": [],
   "source": [
    "#hide\n",
    "metrics = [df_table.columns[index] for index in [1,2,5,6]]\n",
    "# s_china = df_table[df_table['Country/Region'].eq('China')][metrics].sum().add_prefix('China ')\n",
    "s_us = df_table[df_table['Country/Region'].eq('US')][metrics].sum().add_prefix('US ')\n",
    "s_eu = df_table[df_table['Continent'].eq('Europe')][metrics].sum().add_prefix('EU ')\n",
    "s_ind = df_table[df_table['Country/Region'].eq('India')][metrics].sum().add_prefix('India ')\n",
    "summary = {'updated': pd.to_datetime(dt_today), 'since': pd.to_datetime(dt_yday)}\n",
    "summary = {'updated': pd.to_datetime(dt_today), 'since': pd.to_datetime(dt_yday)}\n",
    "summary = {**summary, **df_table[metrics].sum(), **s_ind, **s_us, **s_eu}"
   ]
  },
  {
   "cell_type": "code",
   "execution_count": 18,
   "id": "engaging-syndrome",
   "metadata": {
    "execution": {
     "iopub.execute_input": "2021-02-19T00:11:00.698154Z",
     "iopub.status.busy": "2021-02-19T00:11:00.697526Z",
     "iopub.status.idle": "2021-02-19T00:11:00.709549Z",
     "shell.execute_reply": "2021-02-19T00:11:00.709052Z"
    },
    "papermill": {
     "duration": 0.053265,
     "end_time": "2021-02-19T00:11:00.709680",
     "exception": false,
     "start_time": "2021-02-19T00:11:00.656415",
     "status": "completed"
    },
    "tags": []
   },
   "outputs": [],
   "source": [
    "#hide\n",
    "dft_ct_new_cases = dft_cases.groupby(COL_REGION)[dt_cols].sum().diff(axis=1).fillna(0).astype(int)"
   ]
  },
  {
   "cell_type": "code",
   "execution_count": 19,
   "id": "neutral-assignment",
   "metadata": {
    "execution": {
     "iopub.execute_input": "2021-02-19T00:11:00.784497Z",
     "iopub.status.busy": "2021-02-19T00:11:00.783911Z",
     "iopub.status.idle": "2021-02-19T00:11:00.786188Z",
     "shell.execute_reply": "2021-02-19T00:11:00.785656Z"
    },
    "papermill": {
     "duration": 0.042717,
     "end_time": "2021-02-19T00:11:00.786315",
     "exception": false,
     "start_time": "2021-02-19T00:11:00.743598",
     "status": "completed"
    },
    "tags": []
   },
   "outputs": [],
   "source": [
    "#hide\n",
    "everydaycases = dft_ct_new_cases.cumsum(axis=1)"
   ]
  },
  {
   "cell_type": "code",
   "execution_count": 20,
   "id": "parliamentary-calgary",
   "metadata": {
    "execution": {
     "iopub.execute_input": "2021-02-19T00:11:00.860747Z",
     "iopub.status.busy": "2021-02-19T00:11:00.860155Z",
     "iopub.status.idle": "2021-02-19T00:11:02.079095Z",
     "shell.execute_reply": "2021-02-19T00:11:02.078522Z"
    },
    "papermill": {
     "duration": 1.258687,
     "end_time": "2021-02-19T00:11:02.079226",
     "exception": false,
     "start_time": "2021-02-19T00:11:00.820539",
     "status": "completed"
    },
    "tags": []
   },
   "outputs": [],
   "source": [
    "#hide\n",
    "import pandas as pd\n",
    "import matplotlib.pyplot as plt\n",
    "import matplotlib.ticker as ticker\n",
    "import matplotlib.animation as animation\n",
    "from IPython.display import HTML"
   ]
  },
  {
   "cell_type": "code",
   "execution_count": 21,
   "id": "lasting-extraction",
   "metadata": {
    "execution": {
     "iopub.execute_input": "2021-02-19T00:11:02.154176Z",
     "iopub.status.busy": "2021-02-19T00:11:02.153529Z",
     "iopub.status.idle": "2021-02-19T00:11:02.160748Z",
     "shell.execute_reply": "2021-02-19T00:11:02.160269Z"
    },
    "papermill": {
     "duration": 0.047397,
     "end_time": "2021-02-19T00:11:02.160877",
     "exception": false,
     "start_time": "2021-02-19T00:11:02.113480",
     "status": "completed"
    },
    "tags": []
   },
   "outputs": [],
   "source": [
    "#hide\n",
    "t = everydaycases.stack()"
   ]
  },
  {
   "cell_type": "code",
   "execution_count": 22,
   "id": "premier-sleeve",
   "metadata": {
    "execution": {
     "iopub.execute_input": "2021-02-19T00:11:02.235003Z",
     "iopub.status.busy": "2021-02-19T00:11:02.234383Z",
     "iopub.status.idle": "2021-02-19T00:11:02.242553Z",
     "shell.execute_reply": "2021-02-19T00:11:02.243028Z"
    },
    "papermill": {
     "duration": 0.047938,
     "end_time": "2021-02-19T00:11:02.243173",
     "exception": false,
     "start_time": "2021-02-19T00:11:02.195235",
     "status": "completed"
    },
    "tags": []
   },
   "outputs": [],
   "source": [
    "#hide\n",
    "g = t.reset_index(['Country/Region'])"
   ]
  },
  {
   "cell_type": "code",
   "execution_count": 23,
   "id": "distributed-pittsburgh",
   "metadata": {
    "execution": {
     "iopub.execute_input": "2021-02-19T00:11:02.316382Z",
     "iopub.status.busy": "2021-02-19T00:11:02.315792Z",
     "iopub.status.idle": "2021-02-19T00:11:02.318598Z",
     "shell.execute_reply": "2021-02-19T00:11:02.319167Z"
    },
    "papermill": {
     "duration": 0.042063,
     "end_time": "2021-02-19T00:11:02.319307",
     "exception": false,
     "start_time": "2021-02-19T00:11:02.277244",
     "status": "completed"
    },
    "tags": []
   },
   "outputs": [],
   "source": [
    "#hide\n",
    "g.index.name = 'date'"
   ]
  },
  {
   "cell_type": "code",
   "execution_count": 24,
   "id": "naked-donor",
   "metadata": {
    "execution": {
     "iopub.execute_input": "2021-02-19T00:11:02.392650Z",
     "iopub.status.busy": "2021-02-19T00:11:02.392068Z",
     "iopub.status.idle": "2021-02-19T00:11:02.394972Z",
     "shell.execute_reply": "2021-02-19T00:11:02.395534Z"
    },
    "papermill": {
     "duration": 0.042163,
     "end_time": "2021-02-19T00:11:02.395680",
     "exception": false,
     "start_time": "2021-02-19T00:11:02.353517",
     "status": "completed"
    },
    "tags": []
   },
   "outputs": [],
   "source": [
    "# #hide\n",
    "# g = g.reset_index(['date'])"
   ]
  },
  {
   "cell_type": "code",
   "execution_count": 25,
   "id": "incomplete-mustang",
   "metadata": {
    "execution": {
     "iopub.execute_input": "2021-02-19T00:11:02.468488Z",
     "iopub.status.busy": "2021-02-19T00:11:02.467884Z",
     "iopub.status.idle": "2021-02-19T00:11:02.470008Z",
     "shell.execute_reply": "2021-02-19T00:11:02.470582Z"
    },
    "papermill": {
     "duration": 0.041111,
     "end_time": "2021-02-19T00:11:02.470726",
     "exception": false,
     "start_time": "2021-02-19T00:11:02.429615",
     "status": "completed"
    },
    "tags": []
   },
   "outputs": [],
   "source": [
    "#hide\n",
    "# g.head()"
   ]
  },
  {
   "cell_type": "code",
   "execution_count": 26,
   "id": "specific-kruger",
   "metadata": {
    "execution": {
     "iopub.execute_input": "2021-02-19T00:11:02.543599Z",
     "iopub.status.busy": "2021-02-19T00:11:02.542968Z",
     "iopub.status.idle": "2021-02-19T00:11:02.545237Z",
     "shell.execute_reply": "2021-02-19T00:11:02.544756Z"
    },
    "papermill": {
     "duration": 0.040302,
     "end_time": "2021-02-19T00:11:02.545362",
     "exception": false,
     "start_time": "2021-02-19T00:11:02.505060",
     "status": "completed"
    },
    "tags": []
   },
   "outputs": [],
   "source": [
    "#hide\n",
    "# g.columns = ['date','country','cases']"
   ]
  },
  {
   "cell_type": "code",
   "execution_count": 27,
   "id": "tender-conversion",
   "metadata": {
    "execution": {
     "iopub.execute_input": "2021-02-19T00:11:02.620480Z",
     "iopub.status.busy": "2021-02-19T00:11:02.619889Z",
     "iopub.status.idle": "2021-02-19T00:11:02.622096Z",
     "shell.execute_reply": "2021-02-19T00:11:02.621489Z"
    },
    "papermill": {
     "duration": 0.041863,
     "end_time": "2021-02-19T00:11:02.622221",
     "exception": false,
     "start_time": "2021-02-19T00:11:02.580358",
     "status": "completed"
    },
    "tags": []
   },
   "outputs": [],
   "source": [
    "#hide\n",
    "# g['continent'] = g.country"
   ]
  },
  {
   "cell_type": "code",
   "execution_count": 28,
   "id": "substantial-wilderness",
   "metadata": {
    "execution": {
     "iopub.execute_input": "2021-02-19T00:11:02.701239Z",
     "iopub.status.busy": "2021-02-19T00:11:02.700181Z",
     "iopub.status.idle": "2021-02-19T00:11:02.702361Z",
     "shell.execute_reply": "2021-02-19T00:11:02.703190Z"
    },
    "papermill": {
     "duration": 0.045962,
     "end_time": "2021-02-19T00:11:02.703421",
     "exception": false,
     "start_time": "2021-02-19T00:11:02.657459",
     "status": "completed"
    },
    "tags": []
   },
   "outputs": [],
   "source": [
    "#hide\n",
    "# cols = list(g.columns.values)"
   ]
  },
  {
   "cell_type": "code",
   "execution_count": 29,
   "id": "solved-farming",
   "metadata": {
    "execution": {
     "iopub.execute_input": "2021-02-19T00:11:02.774925Z",
     "iopub.status.busy": "2021-02-19T00:11:02.774317Z",
     "iopub.status.idle": "2021-02-19T00:11:02.777885Z",
     "shell.execute_reply": "2021-02-19T00:11:02.778359Z"
    },
    "papermill": {
     "duration": 0.041209,
     "end_time": "2021-02-19T00:11:02.778507",
     "exception": false,
     "start_time": "2021-02-19T00:11:02.737298",
     "status": "completed"
    },
    "tags": []
   },
   "outputs": [],
   "source": [
    "#hide\n",
    "# cols.insert(0, cols.pop())"
   ]
  },
  {
   "cell_type": "code",
   "execution_count": 30,
   "id": "executed-adoption",
   "metadata": {
    "execution": {
     "iopub.execute_input": "2021-02-19T00:11:02.853866Z",
     "iopub.status.busy": "2021-02-19T00:11:02.853261Z",
     "iopub.status.idle": "2021-02-19T00:11:02.855721Z",
     "shell.execute_reply": "2021-02-19T00:11:02.856285Z"
    },
    "papermill": {
     "duration": 0.043944,
     "end_time": "2021-02-19T00:11:02.856431",
     "exception": false,
     "start_time": "2021-02-19T00:11:02.812487",
     "status": "completed"
    },
    "tags": []
   },
   "outputs": [],
   "source": [
    "#hide\n",
    "# g = g[cols]"
   ]
  },
  {
   "cell_type": "code",
   "execution_count": 31,
   "id": "subject-dublin",
   "metadata": {
    "execution": {
     "iopub.execute_input": "2021-02-19T00:11:02.929135Z",
     "iopub.status.busy": "2021-02-19T00:11:02.928533Z",
     "iopub.status.idle": "2021-02-19T00:11:02.930991Z",
     "shell.execute_reply": "2021-02-19T00:11:02.931539Z"
    },
    "papermill": {
     "duration": 0.041147,
     "end_time": "2021-02-19T00:11:02.931684",
     "exception": false,
     "start_time": "2021-02-19T00:11:02.890537",
     "status": "completed"
    },
    "tags": []
   },
   "outputs": [],
   "source": [
    "#hide\n",
    "# g['continent'] = g['continent'].map(mapping['map.continent'])"
   ]
  },
  {
   "cell_type": "code",
   "execution_count": 32,
   "id": "freelance-scout",
   "metadata": {
    "execution": {
     "iopub.execute_input": "2021-02-19T00:11:03.004168Z",
     "iopub.status.busy": "2021-02-19T00:11:03.003560Z",
     "iopub.status.idle": "2021-02-19T00:11:03.006151Z",
     "shell.execute_reply": "2021-02-19T00:11:03.006738Z"
    },
    "papermill": {
     "duration": 0.04115,
     "end_time": "2021-02-19T00:11:03.006890",
     "exception": false,
     "start_time": "2021-02-19T00:11:02.965740",
     "status": "completed"
    },
    "tags": []
   },
   "outputs": [],
   "source": [
    "#hide\n",
    "# g.head()"
   ]
  },
  {
   "cell_type": "code",
   "execution_count": 33,
   "id": "limited-engine",
   "metadata": {
    "execution": {
     "iopub.execute_input": "2021-02-19T00:11:03.080675Z",
     "iopub.status.busy": "2021-02-19T00:11:03.079457Z",
     "iopub.status.idle": "2021-02-19T00:11:03.081327Z",
     "shell.execute_reply": "2021-02-19T00:11:03.081794Z"
    },
    "papermill": {
     "duration": 0.041231,
     "end_time": "2021-02-19T00:11:03.081933",
     "exception": false,
     "start_time": "2021-02-19T00:11:03.040702",
     "status": "completed"
    },
    "tags": []
   },
   "outputs": [],
   "source": [
    "# hide\n",
    "# g['date'] = g['date'].astype('datetime64[ns]')"
   ]
  },
  {
   "cell_type": "code",
   "execution_count": 34,
   "id": "sophisticated-supervisor",
   "metadata": {
    "execution": {
     "iopub.execute_input": "2021-02-19T00:11:03.156175Z",
     "iopub.status.busy": "2021-02-19T00:11:03.155196Z",
     "iopub.status.idle": "2021-02-19T00:11:03.157211Z",
     "shell.execute_reply": "2021-02-19T00:11:03.158008Z"
    },
    "papermill": {
     "duration": 0.042041,
     "end_time": "2021-02-19T00:11:03.158229",
     "exception": false,
     "start_time": "2021-02-19T00:11:03.116188",
     "status": "completed"
    },
    "tags": []
   },
   "outputs": [],
   "source": [
    "#hide\n",
    "# g['date'] = g.date.dt.dayofyear"
   ]
  },
  {
   "cell_type": "code",
   "execution_count": 35,
   "id": "inside-dubai",
   "metadata": {
    "execution": {
     "iopub.execute_input": "2021-02-19T00:11:03.232148Z",
     "iopub.status.busy": "2021-02-19T00:11:03.231478Z",
     "iopub.status.idle": "2021-02-19T00:11:03.232772Z",
     "shell.execute_reply": "2021-02-19T00:11:03.233235Z"
    },
    "papermill": {
     "duration": 0.040574,
     "end_time": "2021-02-19T00:11:03.233374",
     "exception": false,
     "start_time": "2021-02-19T00:11:03.192800",
     "status": "completed"
    },
    "tags": []
   },
   "outputs": [],
   "source": [
    "#hide\n",
    "# g = g.rename(columns= {'continent':'group','country':'name','cases':'value'})"
   ]
  },
  {
   "cell_type": "code",
   "execution_count": 36,
   "id": "fleet-motorcycle",
   "metadata": {
    "execution": {
     "iopub.execute_input": "2021-02-19T00:11:03.306396Z",
     "iopub.status.busy": "2021-02-19T00:11:03.305750Z",
     "iopub.status.idle": "2021-02-19T00:11:03.308114Z",
     "shell.execute_reply": "2021-02-19T00:11:03.308677Z"
    },
    "papermill": {
     "duration": 0.041435,
     "end_time": "2021-02-19T00:11:03.308823",
     "exception": false,
     "start_time": "2021-02-19T00:11:03.267388",
     "status": "completed"
    },
    "tags": []
   },
   "outputs": [],
   "source": [
    "#hide\n",
    "# cols = ['name','group','day','value']"
   ]
  },
  {
   "cell_type": "code",
   "execution_count": 37,
   "id": "continued-sleeping",
   "metadata": {
    "execution": {
     "iopub.execute_input": "2021-02-19T00:11:03.381783Z",
     "iopub.status.busy": "2021-02-19T00:11:03.381191Z",
     "iopub.status.idle": "2021-02-19T00:11:03.383640Z",
     "shell.execute_reply": "2021-02-19T00:11:03.384203Z"
    },
    "papermill": {
     "duration": 0.041439,
     "end_time": "2021-02-19T00:11:03.384343",
     "exception": false,
     "start_time": "2021-02-19T00:11:03.342904",
     "status": "completed"
    },
    "tags": []
   },
   "outputs": [],
   "source": [
    "#hide\n",
    "# g.rename(columns= {'date':'day'},inplace = True)"
   ]
  },
  {
   "cell_type": "code",
   "execution_count": 38,
   "id": "major-fight",
   "metadata": {
    "execution": {
     "iopub.execute_input": "2021-02-19T00:11:03.456828Z",
     "iopub.status.busy": "2021-02-19T00:11:03.456220Z",
     "iopub.status.idle": "2021-02-19T00:11:03.458456Z",
     "shell.execute_reply": "2021-02-19T00:11:03.459030Z"
    },
    "papermill": {
     "duration": 0.040698,
     "end_time": "2021-02-19T00:11:03.459178",
     "exception": false,
     "start_time": "2021-02-19T00:11:03.418480",
     "status": "completed"
    },
    "tags": []
   },
   "outputs": [],
   "source": [
    "#hide\n",
    "# g = g[cols]"
   ]
  },
  {
   "cell_type": "code",
   "execution_count": 39,
   "id": "structured-mobile",
   "metadata": {
    "execution": {
     "iopub.execute_input": "2021-02-19T00:11:03.531912Z",
     "iopub.status.busy": "2021-02-19T00:11:03.531096Z",
     "iopub.status.idle": "2021-02-19T00:11:03.532752Z",
     "shell.execute_reply": "2021-02-19T00:11:03.533382Z"
    },
    "papermill": {
     "duration": 0.040729,
     "end_time": "2021-02-19T00:11:03.533563",
     "exception": false,
     "start_time": "2021-02-19T00:11:03.492834",
     "status": "completed"
    },
    "tags": []
   },
   "outputs": [],
   "source": [
    "# #hide\n",
    "# g = g[g.group.notna()]"
   ]
  },
  {
   "cell_type": "code",
   "execution_count": 40,
   "id": "determined-closing",
   "metadata": {
    "execution": {
     "iopub.execute_input": "2021-02-19T00:11:03.607341Z",
     "iopub.status.busy": "2021-02-19T00:11:03.606711Z",
     "iopub.status.idle": "2021-02-19T00:11:03.608571Z",
     "shell.execute_reply": "2021-02-19T00:11:03.609020Z"
    },
    "papermill": {
     "duration": 0.040438,
     "end_time": "2021-02-19T00:11:03.609164",
     "exception": false,
     "start_time": "2021-02-19T00:11:03.568726",
     "status": "completed"
    },
    "tags": []
   },
   "outputs": [],
   "source": [
    "# #hide\n",
    "# colors = dict(zip(\n",
    "#     [\"Oceania\", \"Europe\", \"Asia\", \"South America\", \"Middle East\", \"North America\", \"Africa\"],\n",
    "#     [\"#adb0ff\", \"#ffb3ff\", \"#90d595\", \"#e48381\", \"#aafbff\", \"#f7bb5f\", \"#eafb50\"]\n",
    "# ))\n",
    "# group_lk = g.set_index('name')['group'].to_dict()"
   ]
  },
  {
   "cell_type": "code",
   "execution_count": null,
   "id": "gross-drinking",
   "metadata": {
    "papermill": {
     "duration": 0.033969,
     "end_time": "2021-02-19T00:11:03.676920",
     "exception": false,
     "start_time": "2021-02-19T00:11:03.642951",
     "status": "completed"
    },
    "tags": []
   },
   "outputs": [],
   "source": []
  },
  {
   "cell_type": "code",
   "execution_count": 41,
   "id": "subject-macintosh",
   "metadata": {
    "execution": {
     "iopub.execute_input": "2021-02-19T00:11:03.750226Z",
     "iopub.status.busy": "2021-02-19T00:11:03.749566Z",
     "iopub.status.idle": "2021-02-19T00:11:03.751721Z",
     "shell.execute_reply": "2021-02-19T00:11:03.752229Z"
    },
    "papermill": {
     "duration": 0.041484,
     "end_time": "2021-02-19T00:11:03.752380",
     "exception": false,
     "start_time": "2021-02-19T00:11:03.710896",
     "status": "completed"
    },
    "tags": []
   },
   "outputs": [],
   "source": [
    "# #hide\n",
    "# fig, ax = plt.subplots(figsize=(15, 8))\n",
    "\n",
    "# def draw_barchart(current_day):\n",
    "#     dff = g[g['day'].eq(current_day)].sort_values(by='value', ascending=True).tail(10)\n",
    "#     ax.clear()\n",
    "#     ax.barh(dff['name'], dff['value'], color=[colors[group_lk[x]] for x in dff['name']])\n",
    "#     dx = dff['value'].max() / 200\n",
    "    \n",
    "#     for i, (value, name) in enumerate(zip(dff['value'], dff['name'])):\n",
    "#         ax.text(value-dx, i,     name,           size=14, weight=600, ha='right', va='bottom')\n",
    "#         ax.text(value-dx, i-.25, group_lk[name], size=10, color='#444444', ha='right', va='baseline')\n",
    "#         ax.text(value+dx, i,     f'{value:,.0f}',  size=14, ha='left',  va='center')\n",
    "#     ax.text(1, 0.4, current_day, transform=ax.transAxes, color='#777777', size=46, ha='right', weight=800)\n",
    "#     ax.text(0, 1.06, 'Population (thousands)', transform=ax.transAxes, size=12, color='#777777')\n",
    "#     ax.xaxis.set_major_formatter(ticker.StrMethodFormatter('{x:,.0f}'))\n",
    "#     ax.xaxis.set_ticks_position('top')\n",
    "#     ax.tick_params(axis='x', colors='#777777', labelsize=12)\n",
    "#     ax.set_yticks([])\n",
    "#     ax.margins(0, 0.01)\n",
    "#     ax.grid(which='major', axis='x', linestyle='-')\n",
    "#     ax.set_axisbelow(True)\n",
    "    \n",
    "#     ax.text(0, 1.15, 'Coronavirus',\n",
    "#             transform=ax.transAxes, size=24, weight=600, ha='left', va='top')\n",
    "# #     ax.text(1, 0, 'by @pratapvardhan; credit @jburnmurdoch', transform=ax.transAxes, color='#777777', ha='right',\n",
    "# #             bbox=dict(facecolor='white', alpha=0.8, edgecolor='white'))\n",
    "#     plt.box(False)"
   ]
  },
  {
   "cell_type": "code",
   "execution_count": 42,
   "id": "sexual-wages",
   "metadata": {
    "execution": {
     "iopub.execute_input": "2021-02-19T00:11:03.826001Z",
     "iopub.status.busy": "2021-02-19T00:11:03.825367Z",
     "iopub.status.idle": "2021-02-19T00:11:03.827739Z",
     "shell.execute_reply": "2021-02-19T00:11:03.828303Z"
    },
    "papermill": {
     "duration": 0.041701,
     "end_time": "2021-02-19T00:11:03.828445",
     "exception": false,
     "start_time": "2021-02-19T00:11:03.786744",
     "status": "completed"
    },
    "tags": []
   },
   "outputs": [],
   "source": [
    "# #hide_input\n",
    "# fig, ax = plt.subplots(figsize=(15, 8))\n",
    "# animator = animation.FuncAnimation(fig, draw_barchart, frames=range(g.day.values.min(), g.day.values.max()))\n",
    "# HTML(animator.to_jshtml())\n",
    "# # or use animator.to_html5_video() or animator.save() "
   ]
  },
  {
   "cell_type": "code",
   "execution_count": null,
   "id": "australian-container",
   "metadata": {
    "papermill": {
     "duration": 0.034028,
     "end_time": "2021-02-19T00:11:03.896652",
     "exception": false,
     "start_time": "2021-02-19T00:11:03.862624",
     "status": "completed"
    },
    "tags": []
   },
   "outputs": [],
   "source": []
  },
  {
   "cell_type": "code",
   "execution_count": null,
   "id": "mediterranean-pontiac",
   "metadata": {
    "papermill": {
     "duration": 0.033856,
     "end_time": "2021-02-19T00:11:03.964413",
     "exception": false,
     "start_time": "2021-02-19T00:11:03.930557",
     "status": "completed"
    },
    "tags": []
   },
   "outputs": [],
   "source": []
  },
  {
   "cell_type": "code",
   "execution_count": null,
   "id": "aging-legislature",
   "metadata": {
    "papermill": {
     "duration": 0.033747,
     "end_time": "2021-02-19T00:11:04.032123",
     "exception": false,
     "start_time": "2021-02-19T00:11:03.998376",
     "status": "completed"
    },
    "tags": []
   },
   "outputs": [],
   "source": []
  }
 ],
 "metadata": {
  "kernelspec": {
   "display_name": "Python 3",
   "language": "python",
   "name": "python3"
  },
  "language_info": {
   "codemirror_mode": {
    "name": "ipython",
    "version": 3
   },
   "file_extension": ".py",
   "mimetype": "text/x-python",
   "name": "python",
   "nbconvert_exporter": "python",
   "pygments_lexer": "ipython3",
   "version": "3.6.12"
  },
  "papermill": {
   "duration": 7.064359,
   "end_time": "2021-02-19T00:11:04.476336",
   "environment_variables": {},
   "exception": null,
   "input_path": "2020-03-21-covid19exp.ipynb",
   "output_path": "2020-03-21-covid19exp.ipynb",
   "parameters": {},
   "start_time": "2021-02-19T00:10:57.411977",
   "version": "2.0.0"
  }
 },
 "nbformat": 4,
 "nbformat_minor": 5
}