{
 "cells": [
  {
   "cell_type": "markdown",
   "id": "muslim-click",
   "metadata": {
    "papermill": {
     "duration": 0.044017,
     "end_time": "2021-08-18T12:11:22.513939",
     "exception": false,
     "start_time": "2021-08-18T12:11:22.469922",
     "status": "completed"
    },
    "tags": []
   },
   "source": [
    "# COVID-19 Case Race\n",
    "> A race chart to see rising cases around the world\n",
    "\n",
    "- author: Hargun Oberoi\n",
    "- image: images/covid-overview.png\n",
    "- hide: false\n",
    "- badges: false"
   ]
  },
  {
   "cell_type": "code",
   "execution_count": 1,
   "id": "proof-material",
   "metadata": {
    "execution": {
     "iopub.execute_input": "2021-08-18T12:11:22.607409Z",
     "iopub.status.busy": "2021-08-18T12:11:22.606702Z",
     "iopub.status.idle": "2021-08-18T12:11:22.990212Z",
     "shell.execute_reply": "2021-08-18T12:11:22.989332Z"
    },
    "papermill": {
     "duration": 0.436447,
     "end_time": "2021-08-18T12:11:22.990390",
     "exception": false,
     "start_time": "2021-08-18T12:11:22.553943",
     "status": "completed"
    },
    "tags": []
   },
   "outputs": [],
   "source": [
    "#hide\n",
    "import numpy as np\n",
    "import pandas as pd\n",
    "from jinja2 import Template\n",
    "from IPython.display import HTML"
   ]
  },
  {
   "cell_type": "code",
   "execution_count": 2,
   "id": "developed-terminology",
   "metadata": {
    "execution": {
     "iopub.execute_input": "2021-08-18T12:11:23.072950Z",
     "iopub.status.busy": "2021-08-18T12:11:23.072170Z",
     "iopub.status.idle": "2021-08-18T12:11:23.074681Z",
     "shell.execute_reply": "2021-08-18T12:11:23.073984Z"
    },
    "papermill": {
     "duration": 0.046612,
     "end_time": "2021-08-18T12:11:23.074806",
     "exception": false,
     "start_time": "2021-08-18T12:11:23.028194",
     "status": "completed"
    },
    "tags": []
   },
   "outputs": [],
   "source": [
    "#hide\n",
    "\n",
    "# FETCH\n",
    "base_url = 'https://raw.githubusercontent.com/pratapvardhan/notebooks/master/covid19/'\n",
    "paths = {\n",
    "    'mapping': base_url + 'mapping_countries.csv',\n",
    "    'overview': base_url + 'overview.tpl'\n",
    "}"
   ]
  },
  {
   "cell_type": "code",
   "execution_count": 3,
   "id": "dynamic-saver",
   "metadata": {
    "execution": {
     "iopub.execute_input": "2021-08-18T12:11:23.161132Z",
     "iopub.status.busy": "2021-08-18T12:11:23.160555Z",
     "iopub.status.idle": "2021-08-18T12:11:23.164086Z",
     "shell.execute_reply": "2021-08-18T12:11:23.163232Z"
    },
    "papermill": {
     "duration": 0.052881,
     "end_time": "2021-08-18T12:11:23.164225",
     "exception": false,
     "start_time": "2021-08-18T12:11:23.111344",
     "status": "completed"
    },
    "tags": []
   },
   "outputs": [
    {
     "data": {
      "text/plain": [
       "'https://raw.githubusercontent.com/pratapvardhan/notebooks/master/covid19/mapping_countries.csv'"
      ]
     },
     "execution_count": 3,
     "metadata": {},
     "output_type": "execute_result"
    }
   ],
   "source": [
    "#hide\n",
    "paths['mapping']"
   ]
  },
  {
   "cell_type": "code",
   "execution_count": 4,
   "id": "urban-software",
   "metadata": {
    "execution": {
     "iopub.execute_input": "2021-08-18T12:11:23.243189Z",
     "iopub.status.busy": "2021-08-18T12:11:23.242507Z",
     "iopub.status.idle": "2021-08-18T12:11:23.244474Z",
     "shell.execute_reply": "2021-08-18T12:11:23.244956Z"
    },
    "papermill": {
     "duration": 0.043613,
     "end_time": "2021-08-18T12:11:23.245167",
     "exception": false,
     "start_time": "2021-08-18T12:11:23.201554",
     "status": "completed"
    },
    "tags": []
   },
   "outputs": [],
   "source": [
    "#hide\n",
    "def get_mappings(url):\n",
    "    df = pd.read_csv(url)\n",
    "    return {\n",
    "        'df': df,\n",
    "        'replace.country': dict(df.dropna(subset=['Name']).set_index('Country')['Name']),\n",
    "        'map.continent': dict(df.set_index('Name')['Continent'])\n",
    "    }"
   ]
  },
  {
   "cell_type": "code",
   "execution_count": 5,
   "id": "intimate-machinery",
   "metadata": {
    "execution": {
     "iopub.execute_input": "2021-08-18T12:11:23.320996Z",
     "iopub.status.busy": "2021-08-18T12:11:23.320198Z",
     "iopub.status.idle": "2021-08-18T12:11:23.366384Z",
     "shell.execute_reply": "2021-08-18T12:11:23.365722Z"
    },
    "papermill": {
     "duration": 0.085579,
     "end_time": "2021-08-18T12:11:23.366515",
     "exception": false,
     "start_time": "2021-08-18T12:11:23.280936",
     "status": "completed"
    },
    "tags": []
   },
   "outputs": [],
   "source": [
    "#hide\n",
    "mapping = get_mappings(paths['mapping'])"
   ]
  },
  {
   "cell_type": "code",
   "execution_count": 6,
   "id": "certified-tactics",
   "metadata": {
    "execution": {
     "iopub.execute_input": "2021-08-18T12:11:23.444953Z",
     "iopub.status.busy": "2021-08-18T12:11:23.444391Z",
     "iopub.status.idle": "2021-08-18T12:11:23.447090Z",
     "shell.execute_reply": "2021-08-18T12:11:23.446607Z"
    },
    "papermill": {
     "duration": 0.042932,
     "end_time": "2021-08-18T12:11:23.447198",
     "exception": false,
     "start_time": "2021-08-18T12:11:23.404266",
     "status": "completed"
    },
    "tags": []
   },
   "outputs": [],
   "source": [
    "#hide\n",
    "def get_template(path):\n",
    "    from urllib.parse import urlparse\n",
    "    if bool(urlparse(path).netloc):\n",
    "        from urllib.request import urlopen\n",
    "        return urlopen(path).read().decode('utf8')\n",
    "    return open(path).read()"
   ]
  },
  {
   "cell_type": "code",
   "execution_count": 7,
   "id": "realistic-blast",
   "metadata": {
    "execution": {
     "iopub.execute_input": "2021-08-18T12:11:23.529021Z",
     "iopub.status.busy": "2021-08-18T12:11:23.528204Z",
     "iopub.status.idle": "2021-08-18T12:11:23.531142Z",
     "shell.execute_reply": "2021-08-18T12:11:23.530437Z"
    },
    "papermill": {
     "duration": 0.045317,
     "end_time": "2021-08-18T12:11:23.531336",
     "exception": false,
     "start_time": "2021-08-18T12:11:23.486019",
     "status": "completed"
    },
    "tags": []
   },
   "outputs": [],
   "source": [
    "#hide\n",
    "def get_frame(name):\n",
    "    url = (\n",
    "        'https://raw.githubusercontent.com/CSSEGISandData/COVID-19/master/csse_covid_19_data/'\n",
    "        f'csse_covid_19_time_series/time_series_covid19_{name}_global.csv')\n",
    "    df = pd.read_csv(url)\n",
    "    # rename countries\n",
    "    df['Country/Region'] = df['Country/Region'].replace(mapping['replace.country'])\n",
    "    return df"
   ]
  },
  {
   "cell_type": "code",
   "execution_count": 8,
   "id": "affiliated-characterization",
   "metadata": {
    "execution": {
     "iopub.execute_input": "2021-08-18T12:11:23.617764Z",
     "iopub.status.busy": "2021-08-18T12:11:23.617110Z",
     "iopub.status.idle": "2021-08-18T12:11:23.618446Z",
     "shell.execute_reply": "2021-08-18T12:11:23.619455Z"
    },
    "papermill": {
     "duration": 0.050696,
     "end_time": "2021-08-18T12:11:23.619627",
     "exception": false,
     "start_time": "2021-08-18T12:11:23.568931",
     "status": "completed"
    },
    "tags": []
   },
   "outputs": [],
   "source": [
    "#hide\n",
    "def get_dates(df):\n",
    "    dt_cols = df.columns[~df.columns.isin(['Province/State', 'Country/Region', 'Lat', 'Long'])]\n",
    "    LAST_DATE_I = -1\n",
    "    # sometimes last column may be empty, then go backwards\n",
    "    for i in range(-1, -len(dt_cols), -1):\n",
    "        if not df[dt_cols[i]].fillna(0).eq(0).all():\n",
    "            LAST_DATE_I = i\n",
    "            break\n",
    "    return LAST_DATE_I, dt_cols"
   ]
  },
  {
   "cell_type": "code",
   "execution_count": 9,
   "id": "recent-optimization",
   "metadata": {
    "execution": {
     "iopub.execute_input": "2021-08-18T12:11:23.704032Z",
     "iopub.status.busy": "2021-08-18T12:11:23.703345Z",
     "iopub.status.idle": "2021-08-18T12:11:24.107442Z",
     "shell.execute_reply": "2021-08-18T12:11:24.106202Z"
    },
    "papermill": {
     "duration": 0.448837,
     "end_time": "2021-08-18T12:11:24.107568",
     "exception": false,
     "start_time": "2021-08-18T12:11:23.658731",
     "status": "completed"
    },
    "tags": []
   },
   "outputs": [],
   "source": [
    "#hide\n",
    "COL_REGION = 'Country/Region'\n",
    "# Confirmed, Recovered, Deaths\n",
    "df = get_frame('confirmed')\n",
    "# dft_: timeseries, dfc_: today country agg\n",
    "dft_cases = df\n",
    "dft_deaths = get_frame('deaths')\n",
    "dft_recovered = get_frame('recovered')\n",
    "LAST_DATE_I, dt_cols = get_dates(df)"
   ]
  },
  {
   "cell_type": "code",
   "execution_count": 10,
   "id": "absolute-copper",
   "metadata": {
    "execution": {
     "iopub.execute_input": "2021-08-18T12:11:24.185050Z",
     "iopub.status.busy": "2021-08-18T12:11:24.184402Z",
     "iopub.status.idle": "2021-08-18T12:11:24.185966Z",
     "shell.execute_reply": "2021-08-18T12:11:24.186421Z"
    },
    "papermill": {
     "duration": 0.043428,
     "end_time": "2021-08-18T12:11:24.186549",
     "exception": false,
     "start_time": "2021-08-18T12:11:24.143121",
     "status": "completed"
    },
    "tags": []
   },
   "outputs": [],
   "source": [
    "#hide\n",
    "LAST_DATE_I, dt_cols = get_dates(df)\n",
    "dt_today =dt_cols[LAST_DATE_I]\n",
    "# dt_5day = dt_cols[LAST_DATE_I - 5]\n",
    "dt_yday = dt_cols[LAST_DATE_I - 1]"
   ]
  },
  {
   "cell_type": "code",
   "execution_count": 11,
   "id": "restricted-sheriff",
   "metadata": {
    "execution": {
     "iopub.execute_input": "2021-08-18T12:11:24.267567Z",
     "iopub.status.busy": "2021-08-18T12:11:24.267018Z",
     "iopub.status.idle": "2021-08-18T12:11:24.272870Z",
     "shell.execute_reply": "2021-08-18T12:11:24.272398Z"
    },
    "papermill": {
     "duration": 0.051407,
     "end_time": "2021-08-18T12:11:24.272976",
     "exception": false,
     "start_time": "2021-08-18T12:11:24.221569",
     "status": "completed"
    },
    "tags": []
   },
   "outputs": [],
   "source": [
    "#hide\n",
    "dfc_cases = dft_cases.groupby(COL_REGION)[dt_today].sum()\n",
    "dfc_deaths = dft_deaths.groupby(COL_REGION)[dt_today].sum()\n",
    "# dfp_cases = dft_cases.groupby(COL_REGION)[dt_5day].sum()\n",
    "# dfp_deaths = dft_deaths.groupby(COL_REGION)[dt_5day].sum()\n",
    "dfp_cases = dft_cases.groupby(COL_REGION)[dt_yday].sum()\n",
    "dfp_deaths = dft_deaths.groupby(COL_REGION)[dt_yday].sum()"
   ]
  },
  {
   "cell_type": "code",
   "execution_count": 12,
   "id": "deluxe-hepatitis",
   "metadata": {
    "execution": {
     "iopub.execute_input": "2021-08-18T12:11:24.346451Z",
     "iopub.status.busy": "2021-08-18T12:11:24.345917Z",
     "iopub.status.idle": "2021-08-18T12:11:24.350413Z",
     "shell.execute_reply": "2021-08-18T12:11:24.350977Z"
    },
    "papermill": {
     "duration": 0.043953,
     "end_time": "2021-08-18T12:11:24.351130",
     "exception": false,
     "start_time": "2021-08-18T12:11:24.307177",
     "status": "completed"
    },
    "tags": []
   },
   "outputs": [],
   "source": [
    "#hide\n",
    "df_table = (pd.DataFrame(dict(Cases = dfc_cases, Deaths = dfc_deaths, PCases = dfp_cases, PDeaths = dfp_deaths))\n",
    "            .sort_values(by = ['Cases','Deaths'], ascending = [False, False])\n",
    "            .reset_index())"
   ]
  },
  {
   "cell_type": "code",
   "execution_count": 13,
   "id": "educational-chancellor",
   "metadata": {
    "execution": {
     "iopub.execute_input": "2021-08-18T12:11:24.446229Z",
     "iopub.status.busy": "2021-08-18T12:11:24.440766Z",
     "iopub.status.idle": "2021-08-18T12:11:24.455430Z",
     "shell.execute_reply": "2021-08-18T12:11:24.454957Z"
    },
    "papermill": {
     "duration": 0.066286,
     "end_time": "2021-08-18T12:11:24.455539",
     "exception": false,
     "start_time": "2021-08-18T12:11:24.389253",
     "status": "completed"
    },
    "tags": []
   },
   "outputs": [
    {
     "data": {
      "text/html": [
       "<div>\n",
       "<style scoped>\n",
       "    .dataframe tbody tr th:only-of-type {\n",
       "        vertical-align: middle;\n",
       "    }\n",
       "\n",
       "    .dataframe tbody tr th {\n",
       "        vertical-align: top;\n",
       "    }\n",
       "\n",
       "    .dataframe thead th {\n",
       "        text-align: right;\n",
       "    }\n",
       "</style>\n",
       "<table border=\"1\" class=\"dataframe\">\n",
       "  <thead>\n",
       "    <tr style=\"text-align: right;\">\n",
       "      <th></th>\n",
       "      <th>Country/Region</th>\n",
       "      <th>Cases</th>\n",
       "      <th>Deaths</th>\n",
       "      <th>PCases</th>\n",
       "      <th>PDeaths</th>\n",
       "      <th>Cases (+)</th>\n",
       "      <th>Deaths (+)</th>\n",
       "      <th>Fatality Rate</th>\n",
       "      <th>Continent</th>\n",
       "    </tr>\n",
       "  </thead>\n",
       "  <tbody>\n",
       "    <tr>\n",
       "      <th>0</th>\n",
       "      <td>US</td>\n",
       "      <td>37017854</td>\n",
       "      <td>623322</td>\n",
       "      <td>36888952</td>\n",
       "      <td>622321</td>\n",
       "      <td>128902</td>\n",
       "      <td>1001</td>\n",
       "      <td>1.68</td>\n",
       "      <td>North America</td>\n",
       "    </tr>\n",
       "    <tr>\n",
       "      <th>1</th>\n",
       "      <td>India</td>\n",
       "      <td>32285857</td>\n",
       "      <td>432519</td>\n",
       "      <td>32250679</td>\n",
       "      <td>432079</td>\n",
       "      <td>35178</td>\n",
       "      <td>440</td>\n",
       "      <td>1.34</td>\n",
       "      <td>Asia</td>\n",
       "    </tr>\n",
       "    <tr>\n",
       "      <th>2</th>\n",
       "      <td>Brazil</td>\n",
       "      <td>20416183</td>\n",
       "      <td>570598</td>\n",
       "      <td>20378570</td>\n",
       "      <td>569492</td>\n",
       "      <td>37613</td>\n",
       "      <td>1106</td>\n",
       "      <td>2.79</td>\n",
       "      <td>South America</td>\n",
       "    </tr>\n",
       "    <tr>\n",
       "      <th>3</th>\n",
       "      <td>France</td>\n",
       "      <td>6581417</td>\n",
       "      <td>113116</td>\n",
       "      <td>6556496</td>\n",
       "      <td>112992</td>\n",
       "      <td>24921</td>\n",
       "      <td>124</td>\n",
       "      <td>1.72</td>\n",
       "      <td>Europe</td>\n",
       "    </tr>\n",
       "    <tr>\n",
       "      <th>4</th>\n",
       "      <td>Russia</td>\n",
       "      <td>6551934</td>\n",
       "      <td>169169</td>\n",
       "      <td>6531585</td>\n",
       "      <td>168384</td>\n",
       "      <td>20349</td>\n",
       "      <td>785</td>\n",
       "      <td>2.58</td>\n",
       "      <td>Europe</td>\n",
       "    </tr>\n",
       "  </tbody>\n",
       "</table>\n",
       "</div>"
      ],
      "text/plain": [
       "  Country/Region     Cases  Deaths    PCases  PDeaths  Cases (+)  Deaths (+)  \\\n",
       "0             US  37017854  623322  36888952   622321     128902        1001   \n",
       "1          India  32285857  432519  32250679   432079      35178         440   \n",
       "2         Brazil  20416183  570598  20378570   569492      37613        1106   \n",
       "3         France   6581417  113116   6556496   112992      24921         124   \n",
       "4         Russia   6551934  169169   6531585   168384      20349         785   \n",
       "\n",
       "   Fatality Rate      Continent  \n",
       "0           1.68  North America  \n",
       "1           1.34           Asia  \n",
       "2           2.79  South America  \n",
       "3           1.72         Europe  \n",
       "4           2.58         Europe  "
      ]
     },
     "execution_count": 13,
     "metadata": {},
     "output_type": "execute_result"
    }
   ],
   "source": [
    "#hide\n",
    "for c in 'Cases, Deaths'.split(', '):\n",
    "    df_table[f'{c} (+)'] = (df_table[c] - df_table[f'P{c}']).clip(0)\n",
    "    #Clip ça veut dire, les chiffres negatif sont interdit\n",
    "df_table['Fatality Rate'] = (100* df_table['Deaths']/ df_table['Cases']).round(2)\n",
    "df_table['Continent'] = df_table['Country/Region'].map(mapping['map.continent'])\n",
    "df_table.head(5)"
   ]
  },
  {
   "cell_type": "code",
   "execution_count": 14,
   "id": "aboriginal-bulgaria",
   "metadata": {
    "execution": {
     "iopub.execute_input": "2021-08-18T12:11:24.534773Z",
     "iopub.status.busy": "2021-08-18T12:11:24.534148Z",
     "iopub.status.idle": "2021-08-18T12:11:24.537700Z",
     "shell.execute_reply": "2021-08-18T12:11:24.537043Z"
    },
    "papermill": {
     "duration": 0.045455,
     "end_time": "2021-08-18T12:11:24.537865",
     "exception": false,
     "start_time": "2021-08-18T12:11:24.492410",
     "status": "completed"
    },
    "tags": []
   },
   "outputs": [],
   "source": [
    "#hide\n",
    "#delete problematic countries from table\n",
    "df_table = df_table[~df_table['Country/Region'].isin(['Cape Verde', 'Cruise Ship', 'Kosovo'])]"
   ]
  },
  {
   "cell_type": "code",
   "execution_count": 15,
   "id": "fantastic-effect",
   "metadata": {
    "execution": {
     "iopub.execute_input": "2021-08-18T12:11:24.620228Z",
     "iopub.status.busy": "2021-08-18T12:11:24.619578Z",
     "iopub.status.idle": "2021-08-18T12:11:24.641565Z",
     "shell.execute_reply": "2021-08-18T12:11:24.642309Z"
    },
    "papermill": {
     "duration": 0.06872,
     "end_time": "2021-08-18T12:11:24.642463",
     "exception": false,
     "start_time": "2021-08-18T12:11:24.573743",
     "status": "completed"
    },
    "tags": []
   },
   "outputs": [
    {
     "data": {
      "text/html": [
       "<div>\n",
       "<style scoped>\n",
       "    .dataframe tbody tr th:only-of-type {\n",
       "        vertical-align: middle;\n",
       "    }\n",
       "\n",
       "    .dataframe tbody tr th {\n",
       "        vertical-align: top;\n",
       "    }\n",
       "\n",
       "    .dataframe thead th {\n",
       "        text-align: right;\n",
       "    }\n",
       "</style>\n",
       "<table border=\"1\" class=\"dataframe\">\n",
       "  <thead>\n",
       "    <tr style=\"text-align: right;\">\n",
       "      <th></th>\n",
       "      <th>Country/Region</th>\n",
       "      <th>Cases</th>\n",
       "      <th>Deaths</th>\n",
       "      <th>PCases</th>\n",
       "      <th>PDeaths</th>\n",
       "      <th>Cases (+)</th>\n",
       "      <th>Deaths (+)</th>\n",
       "      <th>Fatality Rate</th>\n",
       "      <th>Continent</th>\n",
       "    </tr>\n",
       "  </thead>\n",
       "  <tbody>\n",
       "    <tr>\n",
       "      <th>0</th>\n",
       "      <td>US</td>\n",
       "      <td>37017854</td>\n",
       "      <td>623322</td>\n",
       "      <td>36888952</td>\n",
       "      <td>622321</td>\n",
       "      <td>128902</td>\n",
       "      <td>1001</td>\n",
       "      <td>1.7</td>\n",
       "      <td>North America</td>\n",
       "    </tr>\n",
       "    <tr>\n",
       "      <th>1</th>\n",
       "      <td>India</td>\n",
       "      <td>32285857</td>\n",
       "      <td>432519</td>\n",
       "      <td>32250679</td>\n",
       "      <td>432079</td>\n",
       "      <td>35178</td>\n",
       "      <td>440</td>\n",
       "      <td>1.3</td>\n",
       "      <td>Asia</td>\n",
       "    </tr>\n",
       "    <tr>\n",
       "      <th>2</th>\n",
       "      <td>Brazil</td>\n",
       "      <td>20416183</td>\n",
       "      <td>570598</td>\n",
       "      <td>20378570</td>\n",
       "      <td>569492</td>\n",
       "      <td>37613</td>\n",
       "      <td>1106</td>\n",
       "      <td>2.8</td>\n",
       "      <td>South America</td>\n",
       "    </tr>\n",
       "    <tr>\n",
       "      <th>3</th>\n",
       "      <td>France</td>\n",
       "      <td>6581417</td>\n",
       "      <td>113116</td>\n",
       "      <td>6556496</td>\n",
       "      <td>112992</td>\n",
       "      <td>24921</td>\n",
       "      <td>124</td>\n",
       "      <td>1.7</td>\n",
       "      <td>Europe</td>\n",
       "    </tr>\n",
       "    <tr>\n",
       "      <th>4</th>\n",
       "      <td>Russia</td>\n",
       "      <td>6551934</td>\n",
       "      <td>169169</td>\n",
       "      <td>6531585</td>\n",
       "      <td>168384</td>\n",
       "      <td>20349</td>\n",
       "      <td>785</td>\n",
       "      <td>2.6</td>\n",
       "      <td>Europe</td>\n",
       "    </tr>\n",
       "  </tbody>\n",
       "</table>\n",
       "</div>"
      ],
      "text/plain": [
       "  Country/Region     Cases  Deaths    PCases  PDeaths  Cases (+)  Deaths (+)  \\\n",
       "0             US  37017854  623322  36888952   622321     128902        1001   \n",
       "1          India  32285857  432519  32250679   432079      35178         440   \n",
       "2         Brazil  20416183  570598  20378570   569492      37613        1106   \n",
       "3         France   6581417  113116   6556496   112992      24921         124   \n",
       "4         Russia   6551934  169169   6531585   168384      20349         785   \n",
       "\n",
       "   Fatality Rate      Continent  \n",
       "0            1.7  North America  \n",
       "1            1.3           Asia  \n",
       "2            2.8  South America  \n",
       "3            1.7         Europe  \n",
       "4            2.6         Europe  "
      ]
     },
     "execution_count": 15,
     "metadata": {},
     "output_type": "execute_result"
    }
   ],
   "source": [
    "#hide\n",
    "df_table = (pd.DataFrame(dict(Cases=dfc_cases, Deaths=dfc_deaths, PCases=dfp_cases, PDeaths=dfp_deaths))\n",
    "             .sort_values(by=['Cases', 'Deaths'], ascending=[False, False])\n",
    "             .reset_index())\n",
    "df_table.rename(columns={'index': 'Country/Region'}, inplace=True)\n",
    "for c in 'Cases, Deaths'.split(', '):\n",
    "    df_table[f'{c} (+)'] = (df_table[c] - df_table[f'P{c}']).clip(0)  # DATA BUG\n",
    "df_table['Fatality Rate'] = (100 * df_table['Deaths'] / df_table['Cases']).round(1)\n",
    "df_table['Continent'] = df_table['Country/Region'].map(mapping['map.continent'])\n",
    "df_table.head(5)"
   ]
  },
  {
   "cell_type": "code",
   "execution_count": 16,
   "id": "fewer-occasion",
   "metadata": {
    "execution": {
     "iopub.execute_input": "2021-08-18T12:11:24.728916Z",
     "iopub.status.busy": "2021-08-18T12:11:24.728237Z",
     "iopub.status.idle": "2021-08-18T12:11:24.732437Z",
     "shell.execute_reply": "2021-08-18T12:11:24.731532Z"
    },
    "papermill": {
     "duration": 0.05233,
     "end_time": "2021-08-18T12:11:24.732615",
     "exception": false,
     "start_time": "2021-08-18T12:11:24.680285",
     "status": "completed"
    },
    "tags": []
   },
   "outputs": [],
   "source": [
    "#hide\n",
    "#delete problematic countries from table\n",
    "df_table = df_table[~df_table['Country/Region'].isin(['Cape Verde', 'Cruise Ship', 'Kosovo'])]"
   ]
  },
  {
   "cell_type": "code",
   "execution_count": 17,
   "id": "related-center",
   "metadata": {
    "execution": {
     "iopub.execute_input": "2021-08-18T12:11:24.833682Z",
     "iopub.status.busy": "2021-08-18T12:11:24.833082Z",
     "iopub.status.idle": "2021-08-18T12:11:24.842251Z",
     "shell.execute_reply": "2021-08-18T12:11:24.841676Z"
    },
    "papermill": {
     "duration": 0.068231,
     "end_time": "2021-08-18T12:11:24.842369",
     "exception": false,
     "start_time": "2021-08-18T12:11:24.774138",
     "status": "completed"
    },
    "tags": []
   },
   "outputs": [],
   "source": [
    "#hide\n",
    "metrics = [df_table.columns[index] for index in [1,2,5,6]]\n",
    "# s_china = df_table[df_table['Country/Region'].eq('China')][metrics].sum().add_prefix('China ')\n",
    "s_us = df_table[df_table['Country/Region'].eq('US')][metrics].sum().add_prefix('US ')\n",
    "s_eu = df_table[df_table['Continent'].eq('Europe')][metrics].sum().add_prefix('EU ')\n",
    "s_ind = df_table[df_table['Country/Region'].eq('India')][metrics].sum().add_prefix('India ')\n",
    "summary = {'updated': pd.to_datetime(dt_today), 'since': pd.to_datetime(dt_yday)}\n",
    "summary = {'updated': pd.to_datetime(dt_today), 'since': pd.to_datetime(dt_yday)}\n",
    "summary = {**summary, **df_table[metrics].sum(), **s_ind, **s_us, **s_eu}"
   ]
  },
  {
   "cell_type": "code",
   "execution_count": 18,
   "id": "engaging-syndrome",
   "metadata": {
    "execution": {
     "iopub.execute_input": "2021-08-18T12:11:24.918769Z",
     "iopub.status.busy": "2021-08-18T12:11:24.918224Z",
     "iopub.status.idle": "2021-08-18T12:11:24.932469Z",
     "shell.execute_reply": "2021-08-18T12:11:24.932951Z"
    },
    "papermill": {
     "duration": 0.055631,
     "end_time": "2021-08-18T12:11:24.933073",
     "exception": false,
     "start_time": "2021-08-18T12:11:24.877442",
     "status": "completed"
    },
    "tags": []
   },
   "outputs": [],
   "source": [
    "#hide\n",
    "dft_ct_new_cases = dft_cases.groupby(COL_REGION)[dt_cols].sum().diff(axis=1).fillna(0).astype(int)"
   ]
  },
  {
   "cell_type": "code",
   "execution_count": 19,
   "id": "neutral-assignment",
   "metadata": {
    "execution": {
     "iopub.execute_input": "2021-08-18T12:11:25.007968Z",
     "iopub.status.busy": "2021-08-18T12:11:25.007338Z",
     "iopub.status.idle": "2021-08-18T12:11:25.009398Z",
     "shell.execute_reply": "2021-08-18T12:11:25.009917Z"
    },
    "papermill": {
     "duration": 0.042046,
     "end_time": "2021-08-18T12:11:25.010065",
     "exception": false,
     "start_time": "2021-08-18T12:11:24.968019",
     "status": "completed"
    },
    "tags": []
   },
   "outputs": [],
   "source": [
    "#hide\n",
    "everydaycases = dft_ct_new_cases.cumsum(axis=1)"
   ]
  },
  {
   "cell_type": "code",
   "execution_count": 20,
   "id": "parliamentary-calgary",
   "metadata": {
    "execution": {
     "iopub.execute_input": "2021-08-18T12:11:25.088321Z",
     "iopub.status.busy": "2021-08-18T12:11:25.087635Z",
     "iopub.status.idle": "2021-08-18T12:11:25.716541Z",
     "shell.execute_reply": "2021-08-18T12:11:25.715936Z"
    },
    "papermill": {
     "duration": 0.669119,
     "end_time": "2021-08-18T12:11:25.716684",
     "exception": false,
     "start_time": "2021-08-18T12:11:25.047565",
     "status": "completed"
    },
    "tags": []
   },
   "outputs": [],
   "source": [
    "#hide\n",
    "import pandas as pd\n",
    "import matplotlib.pyplot as plt\n",
    "import matplotlib.ticker as ticker\n",
    "import matplotlib.animation as animation\n",
    "from IPython.display import HTML"
   ]
  },
  {
   "cell_type": "code",
   "execution_count": 21,
   "id": "lasting-extraction",
   "metadata": {
    "execution": {
     "iopub.execute_input": "2021-08-18T12:11:25.799813Z",
     "iopub.status.busy": "2021-08-18T12:11:25.799231Z",
     "iopub.status.idle": "2021-08-18T12:11:25.805520Z",
     "shell.execute_reply": "2021-08-18T12:11:25.804873Z"
    },
    "papermill": {
     "duration": 0.048909,
     "end_time": "2021-08-18T12:11:25.805670",
     "exception": false,
     "start_time": "2021-08-18T12:11:25.756761",
     "status": "completed"
    },
    "tags": []
   },
   "outputs": [],
   "source": [
    "#hide\n",
    "t = everydaycases.stack()"
   ]
  },
  {
   "cell_type": "code",
   "execution_count": 22,
   "id": "premier-sleeve",
   "metadata": {
    "execution": {
     "iopub.execute_input": "2021-08-18T12:11:25.885572Z",
     "iopub.status.busy": "2021-08-18T12:11:25.884763Z",
     "iopub.status.idle": "2021-08-18T12:11:25.893499Z",
     "shell.execute_reply": "2021-08-18T12:11:25.894008Z"
    },
    "papermill": {
     "duration": 0.050775,
     "end_time": "2021-08-18T12:11:25.894129",
     "exception": false,
     "start_time": "2021-08-18T12:11:25.843354",
     "status": "completed"
    },
    "tags": []
   },
   "outputs": [],
   "source": [
    "#hide\n",
    "g = t.reset_index(['Country/Region'])"
   ]
  },
  {
   "cell_type": "code",
   "execution_count": 23,
   "id": "distributed-pittsburgh",
   "metadata": {
    "execution": {
     "iopub.execute_input": "2021-08-18T12:11:25.974874Z",
     "iopub.status.busy": "2021-08-18T12:11:25.974027Z",
     "iopub.status.idle": "2021-08-18T12:11:25.977041Z",
     "shell.execute_reply": "2021-08-18T12:11:25.976480Z"
    },
    "papermill": {
     "duration": 0.042737,
     "end_time": "2021-08-18T12:11:25.977151",
     "exception": false,
     "start_time": "2021-08-18T12:11:25.934414",
     "status": "completed"
    },
    "tags": []
   },
   "outputs": [],
   "source": [
    "#hide\n",
    "g.index.name = 'date'"
   ]
  },
  {
   "cell_type": "code",
   "execution_count": 24,
   "id": "naked-donor",
   "metadata": {
    "execution": {
     "iopub.execute_input": "2021-08-18T12:11:26.056442Z",
     "iopub.status.busy": "2021-08-18T12:11:26.055704Z",
     "iopub.status.idle": "2021-08-18T12:11:26.059054Z",
     "shell.execute_reply": "2021-08-18T12:11:26.058399Z"
    },
    "papermill": {
     "duration": 0.046785,
     "end_time": "2021-08-18T12:11:26.059196",
     "exception": false,
     "start_time": "2021-08-18T12:11:26.012411",
     "status": "completed"
    },
    "tags": []
   },
   "outputs": [],
   "source": [
    "# #hide\n",
    "# g = g.reset_index(['date'])"
   ]
  },
  {
   "cell_type": "code",
   "execution_count": 25,
   "id": "incomplete-mustang",
   "metadata": {
    "execution": {
     "iopub.execute_input": "2021-08-18T12:11:26.137130Z",
     "iopub.status.busy": "2021-08-18T12:11:26.136563Z",
     "iopub.status.idle": "2021-08-18T12:11:26.139936Z",
     "shell.execute_reply": "2021-08-18T12:11:26.139404Z"
    },
    "papermill": {
     "duration": 0.045352,
     "end_time": "2021-08-18T12:11:26.140130",
     "exception": false,
     "start_time": "2021-08-18T12:11:26.094778",
     "status": "completed"
    },
    "tags": []
   },
   "outputs": [],
   "source": [
    "#hide\n",
    "# g.head()"
   ]
  },
  {
   "cell_type": "code",
   "execution_count": 26,
   "id": "specific-kruger",
   "metadata": {
    "execution": {
     "iopub.execute_input": "2021-08-18T12:11:26.217647Z",
     "iopub.status.busy": "2021-08-18T12:11:26.216758Z",
     "iopub.status.idle": "2021-08-18T12:11:26.220369Z",
     "shell.execute_reply": "2021-08-18T12:11:26.219620Z"
    },
    "papermill": {
     "duration": 0.042875,
     "end_time": "2021-08-18T12:11:26.220479",
     "exception": false,
     "start_time": "2021-08-18T12:11:26.177604",
     "status": "completed"
    },
    "tags": []
   },
   "outputs": [],
   "source": [
    "#hide\n",
    "# g.columns = ['date','country','cases']"
   ]
  },
  {
   "cell_type": "code",
   "execution_count": 27,
   "id": "tender-conversion",
   "metadata": {
    "execution": {
     "iopub.execute_input": "2021-08-18T12:11:26.297074Z",
     "iopub.status.busy": "2021-08-18T12:11:26.296527Z",
     "iopub.status.idle": "2021-08-18T12:11:26.298352Z",
     "shell.execute_reply": "2021-08-18T12:11:26.298807Z"
    },
    "papermill": {
     "duration": 0.039121,
     "end_time": "2021-08-18T12:11:26.298922",
     "exception": false,
     "start_time": "2021-08-18T12:11:26.259801",
     "status": "completed"
    },
    "tags": []
   },
   "outputs": [],
   "source": [
    "#hide\n",
    "# g['continent'] = g.country"
   ]
  },
  {
   "cell_type": "code",
   "execution_count": 28,
   "id": "substantial-wilderness",
   "metadata": {
    "execution": {
     "iopub.execute_input": "2021-08-18T12:11:26.371065Z",
     "iopub.status.busy": "2021-08-18T12:11:26.370438Z",
     "iopub.status.idle": "2021-08-18T12:11:26.372539Z",
     "shell.execute_reply": "2021-08-18T12:11:26.373010Z"
    },
    "papermill": {
     "duration": 0.040073,
     "end_time": "2021-08-18T12:11:26.373129",
     "exception": false,
     "start_time": "2021-08-18T12:11:26.333056",
     "status": "completed"
    },
    "tags": []
   },
   "outputs": [],
   "source": [
    "#hide\n",
    "# cols = list(g.columns.values)"
   ]
  },
  {
   "cell_type": "code",
   "execution_count": 29,
   "id": "solved-farming",
   "metadata": {
    "execution": {
     "iopub.execute_input": "2021-08-18T12:11:26.454239Z",
     "iopub.status.busy": "2021-08-18T12:11:26.453586Z",
     "iopub.status.idle": "2021-08-18T12:11:26.455629Z",
     "shell.execute_reply": "2021-08-18T12:11:26.456122Z"
    },
    "papermill": {
     "duration": 0.046185,
     "end_time": "2021-08-18T12:11:26.456269",
     "exception": false,
     "start_time": "2021-08-18T12:11:26.410084",
     "status": "completed"
    },
    "tags": []
   },
   "outputs": [],
   "source": [
    "#hide\n",
    "# cols.insert(0, cols.pop())"
   ]
  },
  {
   "cell_type": "code",
   "execution_count": 30,
   "id": "executed-adoption",
   "metadata": {
    "execution": {
     "iopub.execute_input": "2021-08-18T12:11:26.537069Z",
     "iopub.status.busy": "2021-08-18T12:11:26.536513Z",
     "iopub.status.idle": "2021-08-18T12:11:26.538321Z",
     "shell.execute_reply": "2021-08-18T12:11:26.539032Z"
    },
    "papermill": {
     "duration": 0.044445,
     "end_time": "2021-08-18T12:11:26.539162",
     "exception": false,
     "start_time": "2021-08-18T12:11:26.494717",
     "status": "completed"
    },
    "tags": []
   },
   "outputs": [],
   "source": [
    "#hide\n",
    "# g = g[cols]"
   ]
  },
  {
   "cell_type": "code",
   "execution_count": 31,
   "id": "subject-dublin",
   "metadata": {
    "execution": {
     "iopub.execute_input": "2021-08-18T12:11:26.622565Z",
     "iopub.status.busy": "2021-08-18T12:11:26.621907Z",
     "iopub.status.idle": "2021-08-18T12:11:26.625002Z",
     "shell.execute_reply": "2021-08-18T12:11:26.624220Z"
    },
    "papermill": {
     "duration": 0.047881,
     "end_time": "2021-08-18T12:11:26.625128",
     "exception": false,
     "start_time": "2021-08-18T12:11:26.577247",
     "status": "completed"
    },
    "tags": []
   },
   "outputs": [],
   "source": [
    "#hide\n",
    "# g['continent'] = g['continent'].map(mapping['map.continent'])"
   ]
  },
  {
   "cell_type": "code",
   "execution_count": 32,
   "id": "freelance-scout",
   "metadata": {
    "execution": {
     "iopub.execute_input": "2021-08-18T12:11:26.711086Z",
     "iopub.status.busy": "2021-08-18T12:11:26.710382Z",
     "iopub.status.idle": "2021-08-18T12:11:26.712985Z",
     "shell.execute_reply": "2021-08-18T12:11:26.712292Z"
    },
    "papermill": {
     "duration": 0.046763,
     "end_time": "2021-08-18T12:11:26.713115",
     "exception": false,
     "start_time": "2021-08-18T12:11:26.666352",
     "status": "completed"
    },
    "tags": []
   },
   "outputs": [],
   "source": [
    "#hide\n",
    "# g.head()"
   ]
  },
  {
   "cell_type": "code",
   "execution_count": 33,
   "id": "limited-engine",
   "metadata": {
    "execution": {
     "iopub.execute_input": "2021-08-18T12:11:26.795793Z",
     "iopub.status.busy": "2021-08-18T12:11:26.794241Z",
     "iopub.status.idle": "2021-08-18T12:11:26.796755Z",
     "shell.execute_reply": "2021-08-18T12:11:26.797207Z"
    },
    "papermill": {
     "duration": 0.042384,
     "end_time": "2021-08-18T12:11:26.797332",
     "exception": false,
     "start_time": "2021-08-18T12:11:26.754948",
     "status": "completed"
    },
    "tags": []
   },
   "outputs": [],
   "source": [
    "# hide\n",
    "# g['date'] = g['date'].astype('datetime64[ns]')"
   ]
  },
  {
   "cell_type": "code",
   "execution_count": 34,
   "id": "sophisticated-supervisor",
   "metadata": {
    "execution": {
     "iopub.execute_input": "2021-08-18T12:11:26.875742Z",
     "iopub.status.busy": "2021-08-18T12:11:26.874128Z",
     "iopub.status.idle": "2021-08-18T12:11:26.876538Z",
     "shell.execute_reply": "2021-08-18T12:11:26.877129Z"
    },
    "papermill": {
     "duration": 0.043748,
     "end_time": "2021-08-18T12:11:26.877251",
     "exception": false,
     "start_time": "2021-08-18T12:11:26.833503",
     "status": "completed"
    },
    "tags": []
   },
   "outputs": [],
   "source": [
    "#hide\n",
    "# g['date'] = g.date.dt.dayofyear"
   ]
  },
  {
   "cell_type": "code",
   "execution_count": 35,
   "id": "inside-dubai",
   "metadata": {
    "execution": {
     "iopub.execute_input": "2021-08-18T12:11:26.948783Z",
     "iopub.status.busy": "2021-08-18T12:11:26.948180Z",
     "iopub.status.idle": "2021-08-18T12:11:26.950265Z",
     "shell.execute_reply": "2021-08-18T12:11:26.950849Z"
    },
    "papermill": {
     "duration": 0.039858,
     "end_time": "2021-08-18T12:11:26.951001",
     "exception": false,
     "start_time": "2021-08-18T12:11:26.911143",
     "status": "completed"
    },
    "tags": []
   },
   "outputs": [],
   "source": [
    "#hide\n",
    "# g = g.rename(columns= {'continent':'group','country':'name','cases':'value'})"
   ]
  },
  {
   "cell_type": "code",
   "execution_count": 36,
   "id": "fleet-motorcycle",
   "metadata": {
    "execution": {
     "iopub.execute_input": "2021-08-18T12:11:27.024455Z",
     "iopub.status.busy": "2021-08-18T12:11:27.023670Z",
     "iopub.status.idle": "2021-08-18T12:11:27.026440Z",
     "shell.execute_reply": "2021-08-18T12:11:27.025911Z"
    },
    "papermill": {
     "duration": 0.041389,
     "end_time": "2021-08-18T12:11:27.026542",
     "exception": false,
     "start_time": "2021-08-18T12:11:26.985153",
     "status": "completed"
    },
    "tags": []
   },
   "outputs": [],
   "source": [
    "#hide\n",
    "# cols = ['name','group','day','value']"
   ]
  },
  {
   "cell_type": "code",
   "execution_count": 37,
   "id": "continued-sleeping",
   "metadata": {
    "execution": {
     "iopub.execute_input": "2021-08-18T12:11:27.111350Z",
     "iopub.status.busy": "2021-08-18T12:11:27.110598Z",
     "iopub.status.idle": "2021-08-18T12:11:27.113144Z",
     "shell.execute_reply": "2021-08-18T12:11:27.112646Z"
    },
    "papermill": {
     "duration": 0.041732,
     "end_time": "2021-08-18T12:11:27.113251",
     "exception": false,
     "start_time": "2021-08-18T12:11:27.071519",
     "status": "completed"
    },
    "tags": []
   },
   "outputs": [],
   "source": [
    "#hide\n",
    "# g.rename(columns= {'date':'day'},inplace = True)"
   ]
  },
  {
   "cell_type": "code",
   "execution_count": 38,
   "id": "major-fight",
   "metadata": {
    "execution": {
     "iopub.execute_input": "2021-08-18T12:11:27.199282Z",
     "iopub.status.busy": "2021-08-18T12:11:27.198527Z",
     "iopub.status.idle": "2021-08-18T12:11:27.201070Z",
     "shell.execute_reply": "2021-08-18T12:11:27.200473Z"
    },
    "papermill": {
     "duration": 0.044972,
     "end_time": "2021-08-18T12:11:27.201185",
     "exception": false,
     "start_time": "2021-08-18T12:11:27.156213",
     "status": "completed"
    },
    "tags": []
   },
   "outputs": [],
   "source": [
    "#hide\n",
    "# g = g[cols]"
   ]
  },
  {
   "cell_type": "code",
   "execution_count": 39,
   "id": "structured-mobile",
   "metadata": {
    "execution": {
     "iopub.execute_input": "2021-08-18T12:11:27.280153Z",
     "iopub.status.busy": "2021-08-18T12:11:27.279482Z",
     "iopub.status.idle": "2021-08-18T12:11:27.281407Z",
     "shell.execute_reply": "2021-08-18T12:11:27.282026Z"
    },
    "papermill": {
     "duration": 0.043487,
     "end_time": "2021-08-18T12:11:27.282173",
     "exception": false,
     "start_time": "2021-08-18T12:11:27.238686",
     "status": "completed"
    },
    "tags": []
   },
   "outputs": [],
   "source": [
    "# #hide\n",
    "# g = g[g.group.notna()]"
   ]
  },
  {
   "cell_type": "code",
   "execution_count": 40,
   "id": "determined-closing",
   "metadata": {
    "execution": {
     "iopub.execute_input": "2021-08-18T12:11:27.357928Z",
     "iopub.status.busy": "2021-08-18T12:11:27.357275Z",
     "iopub.status.idle": "2021-08-18T12:11:27.358776Z",
     "shell.execute_reply": "2021-08-18T12:11:27.359485Z"
    },
    "papermill": {
     "duration": 0.042718,
     "end_time": "2021-08-18T12:11:27.359666",
     "exception": false,
     "start_time": "2021-08-18T12:11:27.316948",
     "status": "completed"
    },
    "tags": []
   },
   "outputs": [],
   "source": [
    "# #hide\n",
    "# colors = dict(zip(\n",
    "#     [\"Oceania\", \"Europe\", \"Asia\", \"South America\", \"Middle East\", \"North America\", \"Africa\"],\n",
    "#     [\"#adb0ff\", \"#ffb3ff\", \"#90d595\", \"#e48381\", \"#aafbff\", \"#f7bb5f\", \"#eafb50\"]\n",
    "# ))\n",
    "# group_lk = g.set_index('name')['group'].to_dict()"
   ]
  },
  {
   "cell_type": "code",
   "execution_count": null,
   "id": "gross-drinking",
   "metadata": {
    "papermill": {
     "duration": 0.039364,
     "end_time": "2021-08-18T12:11:27.436583",
     "exception": false,
     "start_time": "2021-08-18T12:11:27.397219",
     "status": "completed"
    },
    "tags": []
   },
   "outputs": [],
   "source": []
  },
  {
   "cell_type": "code",
   "execution_count": 41,
   "id": "subject-macintosh",
   "metadata": {
    "execution": {
     "iopub.execute_input": "2021-08-18T12:11:27.513186Z",
     "iopub.status.busy": "2021-08-18T12:11:27.512623Z",
     "iopub.status.idle": "2021-08-18T12:11:27.514799Z",
     "shell.execute_reply": "2021-08-18T12:11:27.514362Z"
    },
    "papermill": {
     "duration": 0.041262,
     "end_time": "2021-08-18T12:11:27.514921",
     "exception": false,
     "start_time": "2021-08-18T12:11:27.473659",
     "status": "completed"
    },
    "tags": []
   },
   "outputs": [],
   "source": [
    "# #hide\n",
    "# fig, ax = plt.subplots(figsize=(15, 8))\n",
    "\n",
    "# def draw_barchart(current_day):\n",
    "#     dff = g[g['day'].eq(current_day)].sort_values(by='value', ascending=True).tail(10)\n",
    "#     ax.clear()\n",
    "#     ax.barh(dff['name'], dff['value'], color=[colors[group_lk[x]] for x in dff['name']])\n",
    "#     dx = dff['value'].max() / 200\n",
    "    \n",
    "#     for i, (value, name) in enumerate(zip(dff['value'], dff['name'])):\n",
    "#         ax.text(value-dx, i,     name,           size=14, weight=600, ha='right', va='bottom')\n",
    "#         ax.text(value-dx, i-.25, group_lk[name], size=10, color='#444444', ha='right', va='baseline')\n",
    "#         ax.text(value+dx, i,     f'{value:,.0f}',  size=14, ha='left',  va='center')\n",
    "#     ax.text(1, 0.4, current_day, transform=ax.transAxes, color='#777777', size=46, ha='right', weight=800)\n",
    "#     ax.text(0, 1.06, 'Population (thousands)', transform=ax.transAxes, size=12, color='#777777')\n",
    "#     ax.xaxis.set_major_formatter(ticker.StrMethodFormatter('{x:,.0f}'))\n",
    "#     ax.xaxis.set_ticks_position('top')\n",
    "#     ax.tick_params(axis='x', colors='#777777', labelsize=12)\n",
    "#     ax.set_yticks([])\n",
    "#     ax.margins(0, 0.01)\n",
    "#     ax.grid(which='major', axis='x', linestyle='-')\n",
    "#     ax.set_axisbelow(True)\n",
    "    \n",
    "#     ax.text(0, 1.15, 'Coronavirus',\n",
    "#             transform=ax.transAxes, size=24, weight=600, ha='left', va='top')\n",
    "# #     ax.text(1, 0, 'by @pratapvardhan; credit @jburnmurdoch', transform=ax.transAxes, color='#777777', ha='right',\n",
    "# #             bbox=dict(facecolor='white', alpha=0.8, edgecolor='white'))\n",
    "#     plt.box(False)"
   ]
  },
  {
   "cell_type": "code",
   "execution_count": 42,
   "id": "sexual-wages",
   "metadata": {
    "execution": {
     "iopub.execute_input": "2021-08-18T12:11:27.594633Z",
     "iopub.status.busy": "2021-08-18T12:11:27.593979Z",
     "iopub.status.idle": "2021-08-18T12:11:27.596236Z",
     "shell.execute_reply": "2021-08-18T12:11:27.595731Z"
    },
    "papermill": {
     "duration": 0.044513,
     "end_time": "2021-08-18T12:11:27.596397",
     "exception": false,
     "start_time": "2021-08-18T12:11:27.551884",
     "status": "completed"
    },
    "tags": []
   },
   "outputs": [],
   "source": [
    "# #hide_input\n",
    "# fig, ax = plt.subplots(figsize=(15, 8))\n",
    "# animator = animation.FuncAnimation(fig, draw_barchart, frames=range(g.day.values.min(), g.day.values.max()))\n",
    "# HTML(animator.to_jshtml())\n",
    "# # or use animator.to_html5_video() or animator.save() "
   ]
  },
  {
   "cell_type": "code",
   "execution_count": null,
   "id": "australian-container",
   "metadata": {
    "papermill": {
     "duration": 0.039575,
     "end_time": "2021-08-18T12:11:27.674257",
     "exception": false,
     "start_time": "2021-08-18T12:11:27.634682",
     "status": "completed"
    },
    "tags": []
   },
   "outputs": [],
   "source": []
  },
  {
   "cell_type": "code",
   "execution_count": null,
   "id": "mediterranean-pontiac",
   "metadata": {
    "papermill": {
     "duration": 0.041256,
     "end_time": "2021-08-18T12:11:27.756290",
     "exception": false,
     "start_time": "2021-08-18T12:11:27.715034",
     "status": "completed"
    },
    "tags": []
   },
   "outputs": [],
   "source": []
  },
  {
   "cell_type": "code",
   "execution_count": null,
   "id": "aging-legislature",
   "metadata": {
    "papermill": {
     "duration": 0.034943,
     "end_time": "2021-08-18T12:11:27.829295",
     "exception": false,
     "start_time": "2021-08-18T12:11:27.794352",
     "status": "completed"
    },
    "tags": []
   },
   "outputs": [],
   "source": []
  }
 ],
 "metadata": {
  "kernelspec": {
   "display_name": "Python 3",
   "language": "python",
   "name": "python3"
  },
  "language_info": {
   "codemirror_mode": {
    "name": "ipython",
    "version": 3
   },
   "file_extension": ".py",
   "mimetype": "text/x-python",
   "name": "python",
   "nbconvert_exporter": "python",
   "pygments_lexer": "ipython3",
   "version": "3.6.14"
  },
  "papermill": {
   "duration": 6.832974,
   "end_time": "2021-08-18T12:11:28.170313",
   "environment_variables": {},
   "exception": null,
   "input_path": "2020-03-21-covid19exp.ipynb",
   "output_path": "2020-03-21-covid19exp.ipynb",
   "parameters": {},
   "start_time": "2021-08-18T12:11:21.337339",
   "version": "2.0.0"
  }
 },
 "nbformat": 4,
 "nbformat_minor": 5
}