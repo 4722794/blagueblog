{
 "cells": [
  {
   "cell_type": "markdown",
   "id": "muslim-click",
   "metadata": {
    "papermill": {
     "duration": 0.044611,
     "end_time": "2021-03-19T00:11:44.715056",
     "exception": false,
     "start_time": "2021-03-19T00:11:44.670445",
     "status": "completed"
    },
    "tags": []
   },
   "source": [
    "# COVID-19 Case Race\n",
    "> A race chart to see rising cases around the world\n",
    "\n",
    "- author: Hargun Oberoi\n",
    "- image: images/covid-overview.png\n",
    "- hide: false\n",
    "- badges: false"
   ]
  },
  {
   "cell_type": "code",
   "execution_count": 1,
   "id": "proof-material",
   "metadata": {
    "execution": {
     "iopub.execute_input": "2021-03-19T00:11:44.797714Z",
     "iopub.status.busy": "2021-03-19T00:11:44.797021Z",
     "iopub.status.idle": "2021-03-19T00:11:45.142183Z",
     "shell.execute_reply": "2021-03-19T00:11:45.141647Z"
    },
    "papermill": {
     "duration": 0.393597,
     "end_time": "2021-03-19T00:11:45.142333",
     "exception": false,
     "start_time": "2021-03-19T00:11:44.748736",
     "status": "completed"
    },
    "tags": []
   },
   "outputs": [],
   "source": [
    "#hide\n",
    "import numpy as np\n",
    "import pandas as pd\n",
    "from jinja2 import Template\n",
    "from IPython.display import HTML"
   ]
  },
  {
   "cell_type": "code",
   "execution_count": 2,
   "id": "developed-terminology",
   "metadata": {
    "execution": {
     "iopub.execute_input": "2021-03-19T00:11:45.215484Z",
     "iopub.status.busy": "2021-03-19T00:11:45.214912Z",
     "iopub.status.idle": "2021-03-19T00:11:45.217593Z",
     "shell.execute_reply": "2021-03-19T00:11:45.216957Z"
    },
    "papermill": {
     "duration": 0.041436,
     "end_time": "2021-03-19T00:11:45.217712",
     "exception": false,
     "start_time": "2021-03-19T00:11:45.176276",
     "status": "completed"
    },
    "tags": []
   },
   "outputs": [],
   "source": [
    "#hide\n",
    "\n",
    "# FETCH\n",
    "base_url = 'https://raw.githubusercontent.com/pratapvardhan/notebooks/master/covid19/'\n",
    "paths = {\n",
    "    'mapping': base_url + 'mapping_countries.csv',\n",
    "    'overview': base_url + 'overview.tpl'\n",
    "}"
   ]
  },
  {
   "cell_type": "code",
   "execution_count": 3,
   "id": "dynamic-saver",
   "metadata": {
    "execution": {
     "iopub.execute_input": "2021-03-19T00:11:45.300483Z",
     "iopub.status.busy": "2021-03-19T00:11:45.299452Z",
     "iopub.status.idle": "2021-03-19T00:11:45.304333Z",
     "shell.execute_reply": "2021-03-19T00:11:45.305096Z"
    },
    "papermill": {
     "duration": 0.054138,
     "end_time": "2021-03-19T00:11:45.305383",
     "exception": false,
     "start_time": "2021-03-19T00:11:45.251245",
     "status": "completed"
    },
    "tags": []
   },
   "outputs": [
    {
     "data": {
      "text/plain": [
       "'https://raw.githubusercontent.com/pratapvardhan/notebooks/master/covid19/mapping_countries.csv'"
      ]
     },
     "execution_count": 3,
     "metadata": {},
     "output_type": "execute_result"
    }
   ],
   "source": [
    "#hide\n",
    "paths['mapping']"
   ]
  },
  {
   "cell_type": "code",
   "execution_count": 4,
   "id": "urban-software",
   "metadata": {
    "execution": {
     "iopub.execute_input": "2021-03-19T00:11:45.380636Z",
     "iopub.status.busy": "2021-03-19T00:11:45.380048Z",
     "iopub.status.idle": "2021-03-19T00:11:45.381726Z",
     "shell.execute_reply": "2021-03-19T00:11:45.382279Z"
    },
    "papermill": {
     "duration": 0.042302,
     "end_time": "2021-03-19T00:11:45.382432",
     "exception": false,
     "start_time": "2021-03-19T00:11:45.340130",
     "status": "completed"
    },
    "tags": []
   },
   "outputs": [],
   "source": [
    "#hide\n",
    "def get_mappings(url):\n",
    "    df = pd.read_csv(url)\n",
    "    return {\n",
    "        'df': df,\n",
    "        'replace.country': dict(df.dropna(subset=['Name']).set_index('Country')['Name']),\n",
    "        'map.continent': dict(df.set_index('Name')['Continent'])\n",
    "    }"
   ]
  },
  {
   "cell_type": "code",
   "execution_count": 5,
   "id": "intimate-machinery",
   "metadata": {
    "execution": {
     "iopub.execute_input": "2021-03-19T00:11:45.459374Z",
     "iopub.status.busy": "2021-03-19T00:11:45.458772Z",
     "iopub.status.idle": "2021-03-19T00:11:45.510348Z",
     "shell.execute_reply": "2021-03-19T00:11:45.509849Z"
    },
    "papermill": {
     "duration": 0.092456,
     "end_time": "2021-03-19T00:11:45.510479",
     "exception": false,
     "start_time": "2021-03-19T00:11:45.418023",
     "status": "completed"
    },
    "tags": []
   },
   "outputs": [],
   "source": [
    "#hide\n",
    "mapping = get_mappings(paths['mapping'])"
   ]
  },
  {
   "cell_type": "code",
   "execution_count": 6,
   "id": "certified-tactics",
   "metadata": {
    "execution": {
     "iopub.execute_input": "2021-03-19T00:11:45.588165Z",
     "iopub.status.busy": "2021-03-19T00:11:45.587576Z",
     "iopub.status.idle": "2021-03-19T00:11:45.589855Z",
     "shell.execute_reply": "2021-03-19T00:11:45.590360Z"
    },
    "papermill": {
     "duration": 0.043512,
     "end_time": "2021-03-19T00:11:45.590501",
     "exception": false,
     "start_time": "2021-03-19T00:11:45.546989",
     "status": "completed"
    },
    "tags": []
   },
   "outputs": [],
   "source": [
    "#hide\n",
    "def get_template(path):\n",
    "    from urllib.parse import urlparse\n",
    "    if bool(urlparse(path).netloc):\n",
    "        from urllib.request import urlopen\n",
    "        return urlopen(path).read().decode('utf8')\n",
    "    return open(path).read()"
   ]
  },
  {
   "cell_type": "code",
   "execution_count": 7,
   "id": "realistic-blast",
   "metadata": {
    "execution": {
     "iopub.execute_input": "2021-03-19T00:11:45.670091Z",
     "iopub.status.busy": "2021-03-19T00:11:45.669485Z",
     "iopub.status.idle": "2021-03-19T00:11:45.671723Z",
     "shell.execute_reply": "2021-03-19T00:11:45.672278Z"
    },
    "papermill": {
     "duration": 0.04678,
     "end_time": "2021-03-19T00:11:45.672419",
     "exception": false,
     "start_time": "2021-03-19T00:11:45.625639",
     "status": "completed"
    },
    "tags": []
   },
   "outputs": [],
   "source": [
    "#hide\n",
    "def get_frame(name):\n",
    "    url = (\n",
    "        'https://raw.githubusercontent.com/CSSEGISandData/COVID-19/master/csse_covid_19_data/'\n",
    "        f'csse_covid_19_time_series/time_series_covid19_{name}_global.csv')\n",
    "    df = pd.read_csv(url)\n",
    "    # rename countries\n",
    "    df['Country/Region'] = df['Country/Region'].replace(mapping['replace.country'])\n",
    "    return df"
   ]
  },
  {
   "cell_type": "code",
   "execution_count": 8,
   "id": "affiliated-characterization",
   "metadata": {
    "execution": {
     "iopub.execute_input": "2021-03-19T00:11:45.750530Z",
     "iopub.status.busy": "2021-03-19T00:11:45.749924Z",
     "iopub.status.idle": "2021-03-19T00:11:45.752210Z",
     "shell.execute_reply": "2021-03-19T00:11:45.751716Z"
    },
    "papermill": {
     "duration": 0.045316,
     "end_time": "2021-03-19T00:11:45.752331",
     "exception": false,
     "start_time": "2021-03-19T00:11:45.707015",
     "status": "completed"
    },
    "tags": []
   },
   "outputs": [],
   "source": [
    "#hide\n",
    "def get_dates(df):\n",
    "    dt_cols = df.columns[~df.columns.isin(['Province/State', 'Country/Region', 'Lat', 'Long'])]\n",
    "    LAST_DATE_I = -1\n",
    "    # sometimes last column may be empty, then go backwards\n",
    "    for i in range(-1, -len(dt_cols), -1):\n",
    "        if not df[dt_cols[i]].fillna(0).eq(0).all():\n",
    "            LAST_DATE_I = i\n",
    "            break\n",
    "    return LAST_DATE_I, dt_cols"
   ]
  },
  {
   "cell_type": "code",
   "execution_count": 9,
   "id": "recent-optimization",
   "metadata": {
    "execution": {
     "iopub.execute_input": "2021-03-19T00:11:45.829793Z",
     "iopub.status.busy": "2021-03-19T00:11:45.829188Z",
     "iopub.status.idle": "2021-03-19T00:11:46.226824Z",
     "shell.execute_reply": "2021-03-19T00:11:46.226283Z"
    },
    "papermill": {
     "duration": 0.437621,
     "end_time": "2021-03-19T00:11:46.226954",
     "exception": false,
     "start_time": "2021-03-19T00:11:45.789333",
     "status": "completed"
    },
    "tags": []
   },
   "outputs": [],
   "source": [
    "#hide\n",
    "COL_REGION = 'Country/Region'\n",
    "# Confirmed, Recovered, Deaths\n",
    "df = get_frame('confirmed')\n",
    "# dft_: timeseries, dfc_: today country agg\n",
    "dft_cases = df\n",
    "dft_deaths = get_frame('deaths')\n",
    "dft_recovered = get_frame('recovered')\n",
    "LAST_DATE_I, dt_cols = get_dates(df)"
   ]
  },
  {
   "cell_type": "code",
   "execution_count": 10,
   "id": "absolute-copper",
   "metadata": {
    "execution": {
     "iopub.execute_input": "2021-03-19T00:11:46.301277Z",
     "iopub.status.busy": "2021-03-19T00:11:46.300642Z",
     "iopub.status.idle": "2021-03-19T00:11:46.302486Z",
     "shell.execute_reply": "2021-03-19T00:11:46.302923Z"
    },
    "papermill": {
     "duration": 0.041753,
     "end_time": "2021-03-19T00:11:46.303065",
     "exception": false,
     "start_time": "2021-03-19T00:11:46.261312",
     "status": "completed"
    },
    "tags": []
   },
   "outputs": [],
   "source": [
    "#hide\n",
    "LAST_DATE_I, dt_cols = get_dates(df)\n",
    "dt_today =dt_cols[LAST_DATE_I]\n",
    "# dt_5day = dt_cols[LAST_DATE_I - 5]\n",
    "dt_yday = dt_cols[LAST_DATE_I - 1]"
   ]
  },
  {
   "cell_type": "code",
   "execution_count": 11,
   "id": "restricted-sheriff",
   "metadata": {
    "execution": {
     "iopub.execute_input": "2021-03-19T00:11:46.381405Z",
     "iopub.status.busy": "2021-03-19T00:11:46.380776Z",
     "iopub.status.idle": "2021-03-19T00:11:46.387715Z",
     "shell.execute_reply": "2021-03-19T00:11:46.387240Z"
    },
    "papermill": {
     "duration": 0.049151,
     "end_time": "2021-03-19T00:11:46.387838",
     "exception": false,
     "start_time": "2021-03-19T00:11:46.338687",
     "status": "completed"
    },
    "tags": []
   },
   "outputs": [],
   "source": [
    "#hide\n",
    "dfc_cases = dft_cases.groupby(COL_REGION)[dt_today].sum()\n",
    "dfc_deaths = dft_deaths.groupby(COL_REGION)[dt_today].sum()\n",
    "# dfp_cases = dft_cases.groupby(COL_REGION)[dt_5day].sum()\n",
    "# dfp_deaths = dft_deaths.groupby(COL_REGION)[dt_5day].sum()\n",
    "dfp_cases = dft_cases.groupby(COL_REGION)[dt_yday].sum()\n",
    "dfp_deaths = dft_deaths.groupby(COL_REGION)[dt_yday].sum()"
   ]
  },
  {
   "cell_type": "code",
   "execution_count": 12,
   "id": "deluxe-hepatitis",
   "metadata": {
    "execution": {
     "iopub.execute_input": "2021-03-19T00:11:46.464445Z",
     "iopub.status.busy": "2021-03-19T00:11:46.463845Z",
     "iopub.status.idle": "2021-03-19T00:11:46.468453Z",
     "shell.execute_reply": "2021-03-19T00:11:46.468925Z"
    },
    "papermill": {
     "duration": 0.045408,
     "end_time": "2021-03-19T00:11:46.469068",
     "exception": false,
     "start_time": "2021-03-19T00:11:46.423660",
     "status": "completed"
    },
    "tags": []
   },
   "outputs": [],
   "source": [
    "#hide\n",
    "df_table = (pd.DataFrame(dict(Cases = dfc_cases, Deaths = dfc_deaths, PCases = dfp_cases, PDeaths = dfp_deaths))\n",
    "            .sort_values(by = ['Cases','Deaths'], ascending = [False, False])\n",
    "            .reset_index())"
   ]
  },
  {
   "cell_type": "code",
   "execution_count": 13,
   "id": "educational-chancellor",
   "metadata": {
    "execution": {
     "iopub.execute_input": "2021-03-19T00:11:46.571590Z",
     "iopub.status.busy": "2021-03-19T00:11:46.567188Z",
     "iopub.status.idle": "2021-03-19T00:11:46.575005Z",
     "shell.execute_reply": "2021-03-19T00:11:46.574529Z"
    },
    "papermill": {
     "duration": 0.070867,
     "end_time": "2021-03-19T00:11:46.575132",
     "exception": false,
     "start_time": "2021-03-19T00:11:46.504265",
     "status": "completed"
    },
    "tags": []
   },
   "outputs": [
    {
     "data": {
      "text/html": [
       "<div>\n",
       "<style scoped>\n",
       "    .dataframe tbody tr th:only-of-type {\n",
       "        vertical-align: middle;\n",
       "    }\n",
       "\n",
       "    .dataframe tbody tr th {\n",
       "        vertical-align: top;\n",
       "    }\n",
       "\n",
       "    .dataframe thead th {\n",
       "        text-align: right;\n",
       "    }\n",
       "</style>\n",
       "<table border=\"1\" class=\"dataframe\">\n",
       "  <thead>\n",
       "    <tr style=\"text-align: right;\">\n",
       "      <th></th>\n",
       "      <th>Country/Region</th>\n",
       "      <th>Cases</th>\n",
       "      <th>Deaths</th>\n",
       "      <th>PCases</th>\n",
       "      <th>PDeaths</th>\n",
       "      <th>Cases (+)</th>\n",
       "      <th>Deaths (+)</th>\n",
       "      <th>Fatality Rate</th>\n",
       "      <th>Continent</th>\n",
       "    </tr>\n",
       "  </thead>\n",
       "  <tbody>\n",
       "    <tr>\n",
       "      <th>0</th>\n",
       "      <td>US</td>\n",
       "      <td>29607483</td>\n",
       "      <td>538087</td>\n",
       "      <td>29549003</td>\n",
       "      <td>536914</td>\n",
       "      <td>58480</td>\n",
       "      <td>1173</td>\n",
       "      <td>1.82</td>\n",
       "      <td>North America</td>\n",
       "    </tr>\n",
       "    <tr>\n",
       "      <th>1</th>\n",
       "      <td>Brazil</td>\n",
       "      <td>11693838</td>\n",
       "      <td>284775</td>\n",
       "      <td>11603535</td>\n",
       "      <td>282127</td>\n",
       "      <td>90303</td>\n",
       "      <td>2648</td>\n",
       "      <td>2.44</td>\n",
       "      <td>South America</td>\n",
       "    </tr>\n",
       "    <tr>\n",
       "      <th>2</th>\n",
       "      <td>India</td>\n",
       "      <td>11474605</td>\n",
       "      <td>159216</td>\n",
       "      <td>11438734</td>\n",
       "      <td>159044</td>\n",
       "      <td>35871</td>\n",
       "      <td>172</td>\n",
       "      <td>1.39</td>\n",
       "      <td>Asia</td>\n",
       "    </tr>\n",
       "    <tr>\n",
       "      <th>3</th>\n",
       "      <td>Russia</td>\n",
       "      <td>4368943</td>\n",
       "      <td>91815</td>\n",
       "      <td>4360033</td>\n",
       "      <td>91395</td>\n",
       "      <td>8910</td>\n",
       "      <td>420</td>\n",
       "      <td>2.10</td>\n",
       "      <td>Europe</td>\n",
       "    </tr>\n",
       "    <tr>\n",
       "      <th>4</th>\n",
       "      <td>United Kingdom</td>\n",
       "      <td>4287996</td>\n",
       "      <td>126068</td>\n",
       "      <td>4282203</td>\n",
       "      <td>125927</td>\n",
       "      <td>5793</td>\n",
       "      <td>141</td>\n",
       "      <td>2.94</td>\n",
       "      <td>Europe</td>\n",
       "    </tr>\n",
       "  </tbody>\n",
       "</table>\n",
       "</div>"
      ],
      "text/plain": [
       "   Country/Region     Cases  Deaths    PCases  PDeaths  Cases (+)  Deaths (+)  \\\n",
       "0              US  29607483  538087  29549003   536914      58480        1173   \n",
       "1          Brazil  11693838  284775  11603535   282127      90303        2648   \n",
       "2           India  11474605  159216  11438734   159044      35871         172   \n",
       "3          Russia   4368943   91815   4360033    91395       8910         420   \n",
       "4  United Kingdom   4287996  126068   4282203   125927       5793         141   \n",
       "\n",
       "   Fatality Rate      Continent  \n",
       "0           1.82  North America  \n",
       "1           2.44  South America  \n",
       "2           1.39           Asia  \n",
       "3           2.10         Europe  \n",
       "4           2.94         Europe  "
      ]
     },
     "execution_count": 13,
     "metadata": {},
     "output_type": "execute_result"
    }
   ],
   "source": [
    "#hide\n",
    "for c in 'Cases, Deaths'.split(', '):\n",
    "    df_table[f'{c} (+)'] = (df_table[c] - df_table[f'P{c}']).clip(0)\n",
    "    #Clip ça veut dire, les chiffres negatif sont interdit\n",
    "df_table['Fatality Rate'] = (100* df_table['Deaths']/ df_table['Cases']).round(2)\n",
    "df_table['Continent'] = df_table['Country/Region'].map(mapping['map.continent'])\n",
    "df_table.head(5)"
   ]
  },
  {
   "cell_type": "code",
   "execution_count": 14,
   "id": "aboriginal-bulgaria",
   "metadata": {
    "execution": {
     "iopub.execute_input": "2021-03-19T00:11:46.654734Z",
     "iopub.status.busy": "2021-03-19T00:11:46.654153Z",
     "iopub.status.idle": "2021-03-19T00:11:46.656844Z",
     "shell.execute_reply": "2021-03-19T00:11:46.656376Z"
    },
    "papermill": {
     "duration": 0.045051,
     "end_time": "2021-03-19T00:11:46.656966",
     "exception": false,
     "start_time": "2021-03-19T00:11:46.611915",
     "status": "completed"
    },
    "tags": []
   },
   "outputs": [],
   "source": [
    "#hide\n",
    "#delete problematic countries from table\n",
    "df_table = df_table[~df_table['Country/Region'].isin(['Cape Verde', 'Cruise Ship', 'Kosovo'])]"
   ]
  },
  {
   "cell_type": "code",
   "execution_count": 15,
   "id": "fantastic-effect",
   "metadata": {
    "execution": {
     "iopub.execute_input": "2021-03-19T00:11:46.745057Z",
     "iopub.status.busy": "2021-03-19T00:11:46.742574Z",
     "iopub.status.idle": "2021-03-19T00:11:46.763905Z",
     "shell.execute_reply": "2021-03-19T00:11:46.765579Z"
    },
    "papermill": {
     "duration": 0.074312,
     "end_time": "2021-03-19T00:11:46.766019",
     "exception": false,
     "start_time": "2021-03-19T00:11:46.691707",
     "status": "completed"
    },
    "tags": []
   },
   "outputs": [
    {
     "data": {
      "text/html": [
       "<div>\n",
       "<style scoped>\n",
       "    .dataframe tbody tr th:only-of-type {\n",
       "        vertical-align: middle;\n",
       "    }\n",
       "\n",
       "    .dataframe tbody tr th {\n",
       "        vertical-align: top;\n",
       "    }\n",
       "\n",
       "    .dataframe thead th {\n",
       "        text-align: right;\n",
       "    }\n",
       "</style>\n",
       "<table border=\"1\" class=\"dataframe\">\n",
       "  <thead>\n",
       "    <tr style=\"text-align: right;\">\n",
       "      <th></th>\n",
       "      <th>Country/Region</th>\n",
       "      <th>Cases</th>\n",
       "      <th>Deaths</th>\n",
       "      <th>PCases</th>\n",
       "      <th>PDeaths</th>\n",
       "      <th>Cases (+)</th>\n",
       "      <th>Deaths (+)</th>\n",
       "      <th>Fatality Rate</th>\n",
       "      <th>Continent</th>\n",
       "    </tr>\n",
       "  </thead>\n",
       "  <tbody>\n",
       "    <tr>\n",
       "      <th>0</th>\n",
       "      <td>US</td>\n",
       "      <td>29607483</td>\n",
       "      <td>538087</td>\n",
       "      <td>29549003</td>\n",
       "      <td>536914</td>\n",
       "      <td>58480</td>\n",
       "      <td>1173</td>\n",
       "      <td>1.8</td>\n",
       "      <td>North America</td>\n",
       "    </tr>\n",
       "    <tr>\n",
       "      <th>1</th>\n",
       "      <td>Brazil</td>\n",
       "      <td>11693838</td>\n",
       "      <td>284775</td>\n",
       "      <td>11603535</td>\n",
       "      <td>282127</td>\n",
       "      <td>90303</td>\n",
       "      <td>2648</td>\n",
       "      <td>2.4</td>\n",
       "      <td>South America</td>\n",
       "    </tr>\n",
       "    <tr>\n",
       "      <th>2</th>\n",
       "      <td>India</td>\n",
       "      <td>11474605</td>\n",
       "      <td>159216</td>\n",
       "      <td>11438734</td>\n",
       "      <td>159044</td>\n",
       "      <td>35871</td>\n",
       "      <td>172</td>\n",
       "      <td>1.4</td>\n",
       "      <td>Asia</td>\n",
       "    </tr>\n",
       "    <tr>\n",
       "      <th>3</th>\n",
       "      <td>Russia</td>\n",
       "      <td>4368943</td>\n",
       "      <td>91815</td>\n",
       "      <td>4360033</td>\n",
       "      <td>91395</td>\n",
       "      <td>8910</td>\n",
       "      <td>420</td>\n",
       "      <td>2.1</td>\n",
       "      <td>Europe</td>\n",
       "    </tr>\n",
       "    <tr>\n",
       "      <th>4</th>\n",
       "      <td>United Kingdom</td>\n",
       "      <td>4287996</td>\n",
       "      <td>126068</td>\n",
       "      <td>4282203</td>\n",
       "      <td>125927</td>\n",
       "      <td>5793</td>\n",
       "      <td>141</td>\n",
       "      <td>2.9</td>\n",
       "      <td>Europe</td>\n",
       "    </tr>\n",
       "  </tbody>\n",
       "</table>\n",
       "</div>"
      ],
      "text/plain": [
       "   Country/Region     Cases  Deaths    PCases  PDeaths  Cases (+)  Deaths (+)  \\\n",
       "0              US  29607483  538087  29549003   536914      58480        1173   \n",
       "1          Brazil  11693838  284775  11603535   282127      90303        2648   \n",
       "2           India  11474605  159216  11438734   159044      35871         172   \n",
       "3          Russia   4368943   91815   4360033    91395       8910         420   \n",
       "4  United Kingdom   4287996  126068   4282203   125927       5793         141   \n",
       "\n",
       "   Fatality Rate      Continent  \n",
       "0            1.8  North America  \n",
       "1            2.4  South America  \n",
       "2            1.4           Asia  \n",
       "3            2.1         Europe  \n",
       "4            2.9         Europe  "
      ]
     },
     "execution_count": 15,
     "metadata": {},
     "output_type": "execute_result"
    }
   ],
   "source": [
    "#hide\n",
    "df_table = (pd.DataFrame(dict(Cases=dfc_cases, Deaths=dfc_deaths, PCases=dfp_cases, PDeaths=dfp_deaths))\n",
    "             .sort_values(by=['Cases', 'Deaths'], ascending=[False, False])\n",
    "             .reset_index())\n",
    "df_table.rename(columns={'index': 'Country/Region'}, inplace=True)\n",
    "for c in 'Cases, Deaths'.split(', '):\n",
    "    df_table[f'{c} (+)'] = (df_table[c] - df_table[f'P{c}']).clip(0)  # DATA BUG\n",
    "df_table['Fatality Rate'] = (100 * df_table['Deaths'] / df_table['Cases']).round(1)\n",
    "df_table['Continent'] = df_table['Country/Region'].map(mapping['map.continent'])\n",
    "df_table.head(5)"
   ]
  },
  {
   "cell_type": "code",
   "execution_count": 16,
   "id": "fewer-occasion",
   "metadata": {
    "execution": {
     "iopub.execute_input": "2021-03-19T00:11:46.849722Z",
     "iopub.status.busy": "2021-03-19T00:11:46.849125Z",
     "iopub.status.idle": "2021-03-19T00:11:46.852308Z",
     "shell.execute_reply": "2021-03-19T00:11:46.852865Z"
    },
    "papermill": {
     "duration": 0.04372,
     "end_time": "2021-03-19T00:11:46.853002",
     "exception": false,
     "start_time": "2021-03-19T00:11:46.809282",
     "status": "completed"
    },
    "tags": []
   },
   "outputs": [],
   "source": [
    "#hide\n",
    "#delete problematic countries from table\n",
    "df_table = df_table[~df_table['Country/Region'].isin(['Cape Verde', 'Cruise Ship', 'Kosovo'])]"
   ]
  },
  {
   "cell_type": "code",
   "execution_count": 17,
   "id": "related-center",
   "metadata": {
    "execution": {
     "iopub.execute_input": "2021-03-19T00:11:46.931698Z",
     "iopub.status.busy": "2021-03-19T00:11:46.931132Z",
     "iopub.status.idle": "2021-03-19T00:11:46.946828Z",
     "shell.execute_reply": "2021-03-19T00:11:46.946330Z"
    },
    "papermill": {
     "duration": 0.059543,
     "end_time": "2021-03-19T00:11:46.946958",
     "exception": false,
     "start_time": "2021-03-19T00:11:46.887415",
     "status": "completed"
    },
    "tags": []
   },
   "outputs": [],
   "source": [
    "#hide\n",
    "metrics = [df_table.columns[index] for index in [1,2,5,6]]\n",
    "# s_china = df_table[df_table['Country/Region'].eq('China')][metrics].sum().add_prefix('China ')\n",
    "s_us = df_table[df_table['Country/Region'].eq('US')][metrics].sum().add_prefix('US ')\n",
    "s_eu = df_table[df_table['Continent'].eq('Europe')][metrics].sum().add_prefix('EU ')\n",
    "s_ind = df_table[df_table['Country/Region'].eq('India')][metrics].sum().add_prefix('India ')\n",
    "summary = {'updated': pd.to_datetime(dt_today), 'since': pd.to_datetime(dt_yday)}\n",
    "summary = {'updated': pd.to_datetime(dt_today), 'since': pd.to_datetime(dt_yday)}\n",
    "summary = {**summary, **df_table[metrics].sum(), **s_ind, **s_us, **s_eu}"
   ]
  },
  {
   "cell_type": "code",
   "execution_count": 18,
   "id": "engaging-syndrome",
   "metadata": {
    "execution": {
     "iopub.execute_input": "2021-03-19T00:11:47.024412Z",
     "iopub.status.busy": "2021-03-19T00:11:47.023818Z",
     "iopub.status.idle": "2021-03-19T00:11:47.035928Z",
     "shell.execute_reply": "2021-03-19T00:11:47.035395Z"
    },
    "papermill": {
     "duration": 0.05404,
     "end_time": "2021-03-19T00:11:47.036058",
     "exception": false,
     "start_time": "2021-03-19T00:11:46.982018",
     "status": "completed"
    },
    "tags": []
   },
   "outputs": [],
   "source": [
    "#hide\n",
    "dft_ct_new_cases = dft_cases.groupby(COL_REGION)[dt_cols].sum().diff(axis=1).fillna(0).astype(int)"
   ]
  },
  {
   "cell_type": "code",
   "execution_count": 19,
   "id": "neutral-assignment",
   "metadata": {
    "execution": {
     "iopub.execute_input": "2021-03-19T00:11:47.112425Z",
     "iopub.status.busy": "2021-03-19T00:11:47.111819Z",
     "iopub.status.idle": "2021-03-19T00:11:47.114571Z",
     "shell.execute_reply": "2021-03-19T00:11:47.114075Z"
    },
    "papermill": {
     "duration": 0.043685,
     "end_time": "2021-03-19T00:11:47.114693",
     "exception": false,
     "start_time": "2021-03-19T00:11:47.071008",
     "status": "completed"
    },
    "tags": []
   },
   "outputs": [],
   "source": [
    "#hide\n",
    "everydaycases = dft_ct_new_cases.cumsum(axis=1)"
   ]
  },
  {
   "cell_type": "code",
   "execution_count": 20,
   "id": "parliamentary-calgary",
   "metadata": {
    "execution": {
     "iopub.execute_input": "2021-03-19T00:11:47.189618Z",
     "iopub.status.busy": "2021-03-19T00:11:47.188988Z",
     "iopub.status.idle": "2021-03-19T00:11:48.058285Z",
     "shell.execute_reply": "2021-03-19T00:11:48.058722Z"
    },
    "papermill": {
     "duration": 0.908967,
     "end_time": "2021-03-19T00:11:48.058871",
     "exception": false,
     "start_time": "2021-03-19T00:11:47.149904",
     "status": "completed"
    },
    "tags": []
   },
   "outputs": [],
   "source": [
    "#hide\n",
    "import pandas as pd\n",
    "import matplotlib.pyplot as plt\n",
    "import matplotlib.ticker as ticker\n",
    "import matplotlib.animation as animation\n",
    "from IPython.display import HTML"
   ]
  },
  {
   "cell_type": "code",
   "execution_count": 21,
   "id": "lasting-extraction",
   "metadata": {
    "execution": {
     "iopub.execute_input": "2021-03-19T00:11:48.136145Z",
     "iopub.status.busy": "2021-03-19T00:11:48.135553Z",
     "iopub.status.idle": "2021-03-19T00:11:48.142520Z",
     "shell.execute_reply": "2021-03-19T00:11:48.142012Z"
    },
    "papermill": {
     "duration": 0.048471,
     "end_time": "2021-03-19T00:11:48.142647",
     "exception": false,
     "start_time": "2021-03-19T00:11:48.094176",
     "status": "completed"
    },
    "tags": []
   },
   "outputs": [],
   "source": [
    "#hide\n",
    "t = everydaycases.stack()"
   ]
  },
  {
   "cell_type": "code",
   "execution_count": 22,
   "id": "premier-sleeve",
   "metadata": {
    "execution": {
     "iopub.execute_input": "2021-03-19T00:11:48.217388Z",
     "iopub.status.busy": "2021-03-19T00:11:48.216746Z",
     "iopub.status.idle": "2021-03-19T00:11:48.225376Z",
     "shell.execute_reply": "2021-03-19T00:11:48.225860Z"
    },
    "papermill": {
     "duration": 0.048539,
     "end_time": "2021-03-19T00:11:48.226009",
     "exception": false,
     "start_time": "2021-03-19T00:11:48.177470",
     "status": "completed"
    },
    "tags": []
   },
   "outputs": [],
   "source": [
    "#hide\n",
    "g = t.reset_index(['Country/Region'])"
   ]
  },
  {
   "cell_type": "code",
   "execution_count": 23,
   "id": "distributed-pittsburgh",
   "metadata": {
    "execution": {
     "iopub.execute_input": "2021-03-19T00:11:48.301168Z",
     "iopub.status.busy": "2021-03-19T00:11:48.300552Z",
     "iopub.status.idle": "2021-03-19T00:11:48.304419Z",
     "shell.execute_reply": "2021-03-19T00:11:48.303838Z"
    },
    "papermill": {
     "duration": 0.043368,
     "end_time": "2021-03-19T00:11:48.304543",
     "exception": false,
     "start_time": "2021-03-19T00:11:48.261175",
     "status": "completed"
    },
    "tags": []
   },
   "outputs": [],
   "source": [
    "#hide\n",
    "g.index.name = 'date'"
   ]
  },
  {
   "cell_type": "code",
   "execution_count": 24,
   "id": "naked-donor",
   "metadata": {
    "execution": {
     "iopub.execute_input": "2021-03-19T00:11:48.378469Z",
     "iopub.status.busy": "2021-03-19T00:11:48.377866Z",
     "iopub.status.idle": "2021-03-19T00:11:48.380069Z",
     "shell.execute_reply": "2021-03-19T00:11:48.379499Z"
    },
    "papermill": {
     "duration": 0.040513,
     "end_time": "2021-03-19T00:11:48.380190",
     "exception": false,
     "start_time": "2021-03-19T00:11:48.339677",
     "status": "completed"
    },
    "tags": []
   },
   "outputs": [],
   "source": [
    "# #hide\n",
    "# g = g.reset_index(['date'])"
   ]
  },
  {
   "cell_type": "code",
   "execution_count": 25,
   "id": "incomplete-mustang",
   "metadata": {
    "execution": {
     "iopub.execute_input": "2021-03-19T00:11:48.454429Z",
     "iopub.status.busy": "2021-03-19T00:11:48.453847Z",
     "iopub.status.idle": "2021-03-19T00:11:48.456485Z",
     "shell.execute_reply": "2021-03-19T00:11:48.455919Z"
    },
    "papermill": {
     "duration": 0.04149,
     "end_time": "2021-03-19T00:11:48.456601",
     "exception": false,
     "start_time": "2021-03-19T00:11:48.415111",
     "status": "completed"
    },
    "tags": []
   },
   "outputs": [],
   "source": [
    "#hide\n",
    "# g.head()"
   ]
  },
  {
   "cell_type": "code",
   "execution_count": 26,
   "id": "specific-kruger",
   "metadata": {
    "execution": {
     "iopub.execute_input": "2021-03-19T00:11:48.530714Z",
     "iopub.status.busy": "2021-03-19T00:11:48.530106Z",
     "iopub.status.idle": "2021-03-19T00:11:48.531949Z",
     "shell.execute_reply": "2021-03-19T00:11:48.532389Z"
    },
    "papermill": {
     "duration": 0.040702,
     "end_time": "2021-03-19T00:11:48.532534",
     "exception": false,
     "start_time": "2021-03-19T00:11:48.491832",
     "status": "completed"
    },
    "tags": []
   },
   "outputs": [],
   "source": [
    "#hide\n",
    "# g.columns = ['date','country','cases']"
   ]
  },
  {
   "cell_type": "code",
   "execution_count": 27,
   "id": "tender-conversion",
   "metadata": {
    "execution": {
     "iopub.execute_input": "2021-03-19T00:11:48.606469Z",
     "iopub.status.busy": "2021-03-19T00:11:48.605890Z",
     "iopub.status.idle": "2021-03-19T00:11:48.607694Z",
     "shell.execute_reply": "2021-03-19T00:11:48.608205Z"
    },
    "papermill": {
     "duration": 0.040935,
     "end_time": "2021-03-19T00:11:48.608358",
     "exception": false,
     "start_time": "2021-03-19T00:11:48.567423",
     "status": "completed"
    },
    "tags": []
   },
   "outputs": [],
   "source": [
    "#hide\n",
    "# g['continent'] = g.country"
   ]
  },
  {
   "cell_type": "code",
   "execution_count": 28,
   "id": "substantial-wilderness",
   "metadata": {
    "execution": {
     "iopub.execute_input": "2021-03-19T00:11:48.681569Z",
     "iopub.status.busy": "2021-03-19T00:11:48.680914Z",
     "iopub.status.idle": "2021-03-19T00:11:48.684441Z",
     "shell.execute_reply": "2021-03-19T00:11:48.684882Z"
    },
    "papermill": {
     "duration": 0.041909,
     "end_time": "2021-03-19T00:11:48.685029",
     "exception": false,
     "start_time": "2021-03-19T00:11:48.643120",
     "status": "completed"
    },
    "tags": []
   },
   "outputs": [],
   "source": [
    "#hide\n",
    "# cols = list(g.columns.values)"
   ]
  },
  {
   "cell_type": "code",
   "execution_count": 29,
   "id": "solved-farming",
   "metadata": {
    "execution": {
     "iopub.execute_input": "2021-03-19T00:11:48.759147Z",
     "iopub.status.busy": "2021-03-19T00:11:48.758562Z",
     "iopub.status.idle": "2021-03-19T00:11:48.760466Z",
     "shell.execute_reply": "2021-03-19T00:11:48.760905Z"
    },
    "papermill": {
     "duration": 0.041061,
     "end_time": "2021-03-19T00:11:48.761050",
     "exception": false,
     "start_time": "2021-03-19T00:11:48.719989",
     "status": "completed"
    },
    "tags": []
   },
   "outputs": [],
   "source": [
    "#hide\n",
    "# cols.insert(0, cols.pop())"
   ]
  },
  {
   "cell_type": "code",
   "execution_count": 30,
   "id": "executed-adoption",
   "metadata": {
    "execution": {
     "iopub.execute_input": "2021-03-19T00:11:48.835263Z",
     "iopub.status.busy": "2021-03-19T00:11:48.834681Z",
     "iopub.status.idle": "2021-03-19T00:11:48.836758Z",
     "shell.execute_reply": "2021-03-19T00:11:48.837251Z"
    },
    "papermill": {
     "duration": 0.041665,
     "end_time": "2021-03-19T00:11:48.837397",
     "exception": false,
     "start_time": "2021-03-19T00:11:48.795732",
     "status": "completed"
    },
    "tags": []
   },
   "outputs": [],
   "source": [
    "#hide\n",
    "# g = g[cols]"
   ]
  },
  {
   "cell_type": "code",
   "execution_count": 31,
   "id": "subject-dublin",
   "metadata": {
    "execution": {
     "iopub.execute_input": "2021-03-19T00:11:48.909049Z",
     "iopub.status.busy": "2021-03-19T00:11:48.908468Z",
     "iopub.status.idle": "2021-03-19T00:11:48.910469Z",
     "shell.execute_reply": "2021-03-19T00:11:48.910966Z"
    },
    "papermill": {
     "duration": 0.039897,
     "end_time": "2021-03-19T00:11:48.911109",
     "exception": false,
     "start_time": "2021-03-19T00:11:48.871212",
     "status": "completed"
    },
    "tags": []
   },
   "outputs": [],
   "source": [
    "#hide\n",
    "# g['continent'] = g['continent'].map(mapping['map.continent'])"
   ]
  },
  {
   "cell_type": "code",
   "execution_count": 32,
   "id": "freelance-scout",
   "metadata": {
    "execution": {
     "iopub.execute_input": "2021-03-19T00:11:48.987373Z",
     "iopub.status.busy": "2021-03-19T00:11:48.986775Z",
     "iopub.status.idle": "2021-03-19T00:11:48.989241Z",
     "shell.execute_reply": "2021-03-19T00:11:48.989803Z"
    },
    "papermill": {
     "duration": 0.042855,
     "end_time": "2021-03-19T00:11:48.989947",
     "exception": false,
     "start_time": "2021-03-19T00:11:48.947092",
     "status": "completed"
    },
    "tags": []
   },
   "outputs": [],
   "source": [
    "#hide\n",
    "# g.head()"
   ]
  },
  {
   "cell_type": "code",
   "execution_count": 33,
   "id": "limited-engine",
   "metadata": {
    "execution": {
     "iopub.execute_input": "2021-03-19T00:11:49.063707Z",
     "iopub.status.busy": "2021-03-19T00:11:49.063141Z",
     "iopub.status.idle": "2021-03-19T00:11:49.065428Z",
     "shell.execute_reply": "2021-03-19T00:11:49.064915Z"
    },
    "papermill": {
     "duration": 0.04027,
     "end_time": "2021-03-19T00:11:49.065556",
     "exception": false,
     "start_time": "2021-03-19T00:11:49.025286",
     "status": "completed"
    },
    "tags": []
   },
   "outputs": [],
   "source": [
    "# hide\n",
    "# g['date'] = g['date'].astype('datetime64[ns]')"
   ]
  },
  {
   "cell_type": "code",
   "execution_count": 34,
   "id": "sophisticated-supervisor",
   "metadata": {
    "execution": {
     "iopub.execute_input": "2021-03-19T00:11:49.142917Z",
     "iopub.status.busy": "2021-03-19T00:11:49.142312Z",
     "iopub.status.idle": "2021-03-19T00:11:49.143528Z",
     "shell.execute_reply": "2021-03-19T00:11:49.143982Z"
    },
    "papermill": {
     "duration": 0.042927,
     "end_time": "2021-03-19T00:11:49.144122",
     "exception": false,
     "start_time": "2021-03-19T00:11:49.101195",
     "status": "completed"
    },
    "tags": []
   },
   "outputs": [],
   "source": [
    "#hide\n",
    "# g['date'] = g.date.dt.dayofyear"
   ]
  },
  {
   "cell_type": "code",
   "execution_count": 35,
   "id": "inside-dubai",
   "metadata": {
    "execution": {
     "iopub.execute_input": "2021-03-19T00:11:49.219467Z",
     "iopub.status.busy": "2021-03-19T00:11:49.218418Z",
     "iopub.status.idle": "2021-03-19T00:11:49.220539Z",
     "shell.execute_reply": "2021-03-19T00:11:49.221383Z"
    },
    "papermill": {
     "duration": 0.042826,
     "end_time": "2021-03-19T00:11:49.221614",
     "exception": false,
     "start_time": "2021-03-19T00:11:49.178788",
     "status": "completed"
    },
    "tags": []
   },
   "outputs": [],
   "source": [
    "#hide\n",
    "# g = g.rename(columns= {'continent':'group','country':'name','cases':'value'})"
   ]
  },
  {
   "cell_type": "code",
   "execution_count": 36,
   "id": "fleet-motorcycle",
   "metadata": {
    "execution": {
     "iopub.execute_input": "2021-03-19T00:11:49.298777Z",
     "iopub.status.busy": "2021-03-19T00:11:49.298200Z",
     "iopub.status.idle": "2021-03-19T00:11:49.300437Z",
     "shell.execute_reply": "2021-03-19T00:11:49.299977Z"
    },
    "papermill": {
     "duration": 0.040704,
     "end_time": "2021-03-19T00:11:49.300559",
     "exception": false,
     "start_time": "2021-03-19T00:11:49.259855",
     "status": "completed"
    },
    "tags": []
   },
   "outputs": [],
   "source": [
    "#hide\n",
    "# cols = ['name','group','day','value']"
   ]
  },
  {
   "cell_type": "code",
   "execution_count": 37,
   "id": "continued-sleeping",
   "metadata": {
    "execution": {
     "iopub.execute_input": "2021-03-19T00:11:49.374922Z",
     "iopub.status.busy": "2021-03-19T00:11:49.374097Z",
     "iopub.status.idle": "2021-03-19T00:11:49.375737Z",
     "shell.execute_reply": "2021-03-19T00:11:49.376192Z"
    },
    "papermill": {
     "duration": 0.040928,
     "end_time": "2021-03-19T00:11:49.376332",
     "exception": false,
     "start_time": "2021-03-19T00:11:49.335404",
     "status": "completed"
    },
    "tags": []
   },
   "outputs": [],
   "source": [
    "#hide\n",
    "# g.rename(columns= {'date':'day'},inplace = True)"
   ]
  },
  {
   "cell_type": "code",
   "execution_count": 38,
   "id": "major-fight",
   "metadata": {
    "execution": {
     "iopub.execute_input": "2021-03-19T00:11:49.450536Z",
     "iopub.status.busy": "2021-03-19T00:11:49.449932Z",
     "iopub.status.idle": "2021-03-19T00:11:49.452970Z",
     "shell.execute_reply": "2021-03-19T00:11:49.453795Z"
    },
    "papermill": {
     "duration": 0.042936,
     "end_time": "2021-03-19T00:11:49.454032",
     "exception": false,
     "start_time": "2021-03-19T00:11:49.411096",
     "status": "completed"
    },
    "tags": []
   },
   "outputs": [],
   "source": [
    "#hide\n",
    "# g = g[cols]"
   ]
  },
  {
   "cell_type": "code",
   "execution_count": 39,
   "id": "structured-mobile",
   "metadata": {
    "execution": {
     "iopub.execute_input": "2021-03-19T00:11:49.533757Z",
     "iopub.status.busy": "2021-03-19T00:11:49.533006Z",
     "iopub.status.idle": "2021-03-19T00:11:49.536971Z",
     "shell.execute_reply": "2021-03-19T00:11:49.537571Z"
    },
    "papermill": {
     "duration": 0.045687,
     "end_time": "2021-03-19T00:11:49.537717",
     "exception": false,
     "start_time": "2021-03-19T00:11:49.492030",
     "status": "completed"
    },
    "tags": []
   },
   "outputs": [],
   "source": [
    "# #hide\n",
    "# g = g[g.group.notna()]"
   ]
  },
  {
   "cell_type": "code",
   "execution_count": 40,
   "id": "determined-closing",
   "metadata": {
    "execution": {
     "iopub.execute_input": "2021-03-19T00:11:49.612431Z",
     "iopub.status.busy": "2021-03-19T00:11:49.611749Z",
     "iopub.status.idle": "2021-03-19T00:11:49.613969Z",
     "shell.execute_reply": "2021-03-19T00:11:49.614458Z"
    },
    "papermill": {
     "duration": 0.041759,
     "end_time": "2021-03-19T00:11:49.614599",
     "exception": false,
     "start_time": "2021-03-19T00:11:49.572840",
     "status": "completed"
    },
    "tags": []
   },
   "outputs": [],
   "source": [
    "# #hide\n",
    "# colors = dict(zip(\n",
    "#     [\"Oceania\", \"Europe\", \"Asia\", \"South America\", \"Middle East\", \"North America\", \"Africa\"],\n",
    "#     [\"#adb0ff\", \"#ffb3ff\", \"#90d595\", \"#e48381\", \"#aafbff\", \"#f7bb5f\", \"#eafb50\"]\n",
    "# ))\n",
    "# group_lk = g.set_index('name')['group'].to_dict()"
   ]
  },
  {
   "cell_type": "code",
   "execution_count": null,
   "id": "gross-drinking",
   "metadata": {
    "papermill": {
     "duration": 0.034936,
     "end_time": "2021-03-19T00:11:49.686544",
     "exception": false,
     "start_time": "2021-03-19T00:11:49.651608",
     "status": "completed"
    },
    "tags": []
   },
   "outputs": [],
   "source": []
  },
  {
   "cell_type": "code",
   "execution_count": 41,
   "id": "subject-macintosh",
   "metadata": {
    "execution": {
     "iopub.execute_input": "2021-03-19T00:11:49.760437Z",
     "iopub.status.busy": "2021-03-19T00:11:49.759813Z",
     "iopub.status.idle": "2021-03-19T00:11:49.762157Z",
     "shell.execute_reply": "2021-03-19T00:11:49.761658Z"
    },
    "papermill": {
     "duration": 0.041285,
     "end_time": "2021-03-19T00:11:49.762279",
     "exception": false,
     "start_time": "2021-03-19T00:11:49.720994",
     "status": "completed"
    },
    "tags": []
   },
   "outputs": [],
   "source": [
    "# #hide\n",
    "# fig, ax = plt.subplots(figsize=(15, 8))\n",
    "\n",
    "# def draw_barchart(current_day):\n",
    "#     dff = g[g['day'].eq(current_day)].sort_values(by='value', ascending=True).tail(10)\n",
    "#     ax.clear()\n",
    "#     ax.barh(dff['name'], dff['value'], color=[colors[group_lk[x]] for x in dff['name']])\n",
    "#     dx = dff['value'].max() / 200\n",
    "    \n",
    "#     for i, (value, name) in enumerate(zip(dff['value'], dff['name'])):\n",
    "#         ax.text(value-dx, i,     name,           size=14, weight=600, ha='right', va='bottom')\n",
    "#         ax.text(value-dx, i-.25, group_lk[name], size=10, color='#444444', ha='right', va='baseline')\n",
    "#         ax.text(value+dx, i,     f'{value:,.0f}',  size=14, ha='left',  va='center')\n",
    "#     ax.text(1, 0.4, current_day, transform=ax.transAxes, color='#777777', size=46, ha='right', weight=800)\n",
    "#     ax.text(0, 1.06, 'Population (thousands)', transform=ax.transAxes, size=12, color='#777777')\n",
    "#     ax.xaxis.set_major_formatter(ticker.StrMethodFormatter('{x:,.0f}'))\n",
    "#     ax.xaxis.set_ticks_position('top')\n",
    "#     ax.tick_params(axis='x', colors='#777777', labelsize=12)\n",
    "#     ax.set_yticks([])\n",
    "#     ax.margins(0, 0.01)\n",
    "#     ax.grid(which='major', axis='x', linestyle='-')\n",
    "#     ax.set_axisbelow(True)\n",
    "    \n",
    "#     ax.text(0, 1.15, 'Coronavirus',\n",
    "#             transform=ax.transAxes, size=24, weight=600, ha='left', va='top')\n",
    "# #     ax.text(1, 0, 'by @pratapvardhan; credit @jburnmurdoch', transform=ax.transAxes, color='#777777', ha='right',\n",
    "# #             bbox=dict(facecolor='white', alpha=0.8, edgecolor='white'))\n",
    "#     plt.box(False)"
   ]
  },
  {
   "cell_type": "code",
   "execution_count": 42,
   "id": "sexual-wages",
   "metadata": {
    "execution": {
     "iopub.execute_input": "2021-03-19T00:11:49.837004Z",
     "iopub.status.busy": "2021-03-19T00:11:49.836394Z",
     "iopub.status.idle": "2021-03-19T00:11:49.838631Z",
     "shell.execute_reply": "2021-03-19T00:11:49.838141Z"
    },
    "papermill": {
     "duration": 0.041805,
     "end_time": "2021-03-19T00:11:49.838751",
     "exception": false,
     "start_time": "2021-03-19T00:11:49.796946",
     "status": "completed"
    },
    "tags": []
   },
   "outputs": [],
   "source": [
    "# #hide_input\n",
    "# fig, ax = plt.subplots(figsize=(15, 8))\n",
    "# animator = animation.FuncAnimation(fig, draw_barchart, frames=range(g.day.values.min(), g.day.values.max()))\n",
    "# HTML(animator.to_jshtml())\n",
    "# # or use animator.to_html5_video() or animator.save() "
   ]
  },
  {
   "cell_type": "code",
   "execution_count": null,
   "id": "australian-container",
   "metadata": {
    "papermill": {
     "duration": 0.034701,
     "end_time": "2021-03-19T00:11:49.908325",
     "exception": false,
     "start_time": "2021-03-19T00:11:49.873624",
     "status": "completed"
    },
    "tags": []
   },
   "outputs": [],
   "source": []
  },
  {
   "cell_type": "code",
   "execution_count": null,
   "id": "mediterranean-pontiac",
   "metadata": {
    "papermill": {
     "duration": 0.034346,
     "end_time": "2021-03-19T00:11:49.977790",
     "exception": false,
     "start_time": "2021-03-19T00:11:49.943444",
     "status": "completed"
    },
    "tags": []
   },
   "outputs": [],
   "source": []
  },
  {
   "cell_type": "code",
   "execution_count": null,
   "id": "aging-legislature",
   "metadata": {
    "papermill": {
     "duration": 0.034727,
     "end_time": "2021-03-19T00:11:50.047089",
     "exception": false,
     "start_time": "2021-03-19T00:11:50.012362",
     "status": "completed"
    },
    "tags": []
   },
   "outputs": [],
   "source": []
  }
 ],
 "metadata": {
  "kernelspec": {
   "display_name": "Python 3",
   "language": "python",
   "name": "python3"
  },
  "language_info": {
   "codemirror_mode": {
    "name": "ipython",
    "version": 3
   },
   "file_extension": ".py",
   "mimetype": "text/x-python",
   "name": "python",
   "nbconvert_exporter": "python",
   "pygments_lexer": "ipython3",
   "version": "3.6.13"
  },
  "papermill": {
   "duration": 6.92087,
   "end_time": "2021-03-19T00:11:50.490854",
   "environment_variables": {},
   "exception": null,
   "input_path": "2020-03-21-covid19exp.ipynb",
   "output_path": "2020-03-21-covid19exp.ipynb",
   "parameters": {},
   "start_time": "2021-03-19T00:11:43.569984",
   "version": "2.0.0"
  }
 },
 "nbformat": 4,
 "nbformat_minor": 5
}