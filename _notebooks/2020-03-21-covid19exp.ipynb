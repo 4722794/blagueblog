{
 "cells": [
  {
   "cell_type": "markdown",
   "id": "muslim-click",
   "metadata": {
    "papermill": {
     "duration": 0.030112,
     "end_time": "2022-07-12T12:17:29.678196",
     "exception": false,
     "start_time": "2022-07-12T12:17:29.648084",
     "status": "completed"
    },
    "tags": []
   },
   "source": [
    "# COVID-19 Case Race\n",
    "> A race chart to see rising cases around the world\n",
    "\n",
    "- author: Hargun Oberoi\n",
    "- image: images/covid-overview.png\n",
    "- hide: false\n",
    "- badges: false"
   ]
  },
  {
   "cell_type": "code",
   "execution_count": 1,
   "id": "proof-material",
   "metadata": {
    "execution": {
     "iopub.execute_input": "2022-07-12T12:17:29.744256Z",
     "iopub.status.busy": "2022-07-12T12:17:29.743588Z",
     "iopub.status.idle": "2022-07-12T12:17:30.067653Z",
     "shell.execute_reply": "2022-07-12T12:17:30.067092Z"
    },
    "papermill": {
     "duration": 0.361121,
     "end_time": "2022-07-12T12:17:30.067791",
     "exception": false,
     "start_time": "2022-07-12T12:17:29.706670",
     "status": "completed"
    },
    "tags": []
   },
   "outputs": [],
   "source": [
    "#hide\n",
    "import numpy as np\n",
    "import pandas as pd\n",
    "from jinja2 import Template\n",
    "from IPython.display import HTML"
   ]
  },
  {
   "cell_type": "code",
   "execution_count": 2,
   "id": "developed-terminology",
   "metadata": {
    "execution": {
     "iopub.execute_input": "2022-07-12T12:17:30.128196Z",
     "iopub.status.busy": "2022-07-12T12:17:30.127535Z",
     "iopub.status.idle": "2022-07-12T12:17:30.128815Z",
     "shell.execute_reply": "2022-07-12T12:17:30.129359Z"
    },
    "papermill": {
     "duration": 0.033234,
     "end_time": "2022-07-12T12:17:30.129489",
     "exception": false,
     "start_time": "2022-07-12T12:17:30.096255",
     "status": "completed"
    },
    "tags": []
   },
   "outputs": [],
   "source": [
    "#hide\n",
    "\n",
    "# FETCH\n",
    "base_url = 'https://raw.githubusercontent.com/pratapvardhan/notebooks/master/covid19/'\n",
    "paths = {\n",
    "    'mapping': base_url + 'mapping_countries.csv',\n",
    "    'overview': base_url + 'overview.tpl'\n",
    "}"
   ]
  },
  {
   "cell_type": "code",
   "execution_count": 3,
   "id": "dynamic-saver",
   "metadata": {
    "execution": {
     "iopub.execute_input": "2022-07-12T12:17:30.198635Z",
     "iopub.status.busy": "2022-07-12T12:17:30.197957Z",
     "iopub.status.idle": "2022-07-12T12:17:30.200343Z",
     "shell.execute_reply": "2022-07-12T12:17:30.200841Z"
    },
    "papermill": {
     "duration": 0.042195,
     "end_time": "2022-07-12T12:17:30.200961",
     "exception": false,
     "start_time": "2022-07-12T12:17:30.158766",
     "status": "completed"
    },
    "tags": []
   },
   "outputs": [
    {
     "data": {
      "text/plain": [
       "'https://raw.githubusercontent.com/pratapvardhan/notebooks/master/covid19/mapping_countries.csv'"
      ]
     },
     "execution_count": 3,
     "metadata": {},
     "output_type": "execute_result"
    }
   ],
   "source": [
    "#hide\n",
    "paths['mapping']"
   ]
  },
  {
   "cell_type": "code",
   "execution_count": 4,
   "id": "urban-software",
   "metadata": {
    "execution": {
     "iopub.execute_input": "2022-07-12T12:17:30.259098Z",
     "iopub.status.busy": "2022-07-12T12:17:30.258548Z",
     "iopub.status.idle": "2022-07-12T12:17:30.260526Z",
     "shell.execute_reply": "2022-07-12T12:17:30.261015Z"
    },
    "papermill": {
     "duration": 0.033767,
     "end_time": "2022-07-12T12:17:30.261132",
     "exception": false,
     "start_time": "2022-07-12T12:17:30.227365",
     "status": "completed"
    },
    "tags": []
   },
   "outputs": [],
   "source": [
    "#hide\n",
    "def get_mappings(url):\n",
    "    df = pd.read_csv(url)\n",
    "    return {\n",
    "        'df': df,\n",
    "        'replace.country': dict(df.dropna(subset=['Name']).set_index('Country')['Name']),\n",
    "        'map.continent': dict(df.set_index('Name')['Continent'])\n",
    "    }"
   ]
  },
  {
   "cell_type": "code",
   "execution_count": 5,
   "id": "intimate-machinery",
   "metadata": {
    "execution": {
     "iopub.execute_input": "2022-07-12T12:17:30.319297Z",
     "iopub.status.busy": "2022-07-12T12:17:30.318749Z",
     "iopub.status.idle": "2022-07-12T12:17:30.345128Z",
     "shell.execute_reply": "2022-07-12T12:17:30.345653Z"
    },
    "papermill": {
     "duration": 0.058485,
     "end_time": "2022-07-12T12:17:30.345806",
     "exception": false,
     "start_time": "2022-07-12T12:17:30.287321",
     "status": "completed"
    },
    "tags": []
   },
   "outputs": [],
   "source": [
    "#hide\n",
    "mapping = get_mappings(paths['mapping'])"
   ]
  },
  {
   "cell_type": "code",
   "execution_count": 6,
   "id": "certified-tactics",
   "metadata": {
    "execution": {
     "iopub.execute_input": "2022-07-12T12:17:30.405526Z",
     "iopub.status.busy": "2022-07-12T12:17:30.404939Z",
     "iopub.status.idle": "2022-07-12T12:17:30.407191Z",
     "shell.execute_reply": "2022-07-12T12:17:30.406595Z"
    },
    "papermill": {
     "duration": 0.033464,
     "end_time": "2022-07-12T12:17:30.407299",
     "exception": false,
     "start_time": "2022-07-12T12:17:30.373835",
     "status": "completed"
    },
    "tags": []
   },
   "outputs": [],
   "source": [
    "#hide\n",
    "def get_template(path):\n",
    "    from urllib.parse import urlparse\n",
    "    if bool(urlparse(path).netloc):\n",
    "        from urllib.request import urlopen\n",
    "        return urlopen(path).read().decode('utf8')\n",
    "    return open(path).read()"
   ]
  },
  {
   "cell_type": "code",
   "execution_count": 7,
   "id": "realistic-blast",
   "metadata": {
    "execution": {
     "iopub.execute_input": "2022-07-12T12:17:30.472452Z",
     "iopub.status.busy": "2022-07-12T12:17:30.471780Z",
     "iopub.status.idle": "2022-07-12T12:17:30.474386Z",
     "shell.execute_reply": "2022-07-12T12:17:30.473914Z"
    },
    "papermill": {
     "duration": 0.037452,
     "end_time": "2022-07-12T12:17:30.474497",
     "exception": false,
     "start_time": "2022-07-12T12:17:30.437045",
     "status": "completed"
    },
    "tags": []
   },
   "outputs": [],
   "source": [
    "#hide\n",
    "def get_frame(name):\n",
    "    url = (\n",
    "        'https://raw.githubusercontent.com/CSSEGISandData/COVID-19/master/csse_covid_19_data/'\n",
    "        f'csse_covid_19_time_series/time_series_covid19_{name}_global.csv')\n",
    "    df = pd.read_csv(url)\n",
    "    # rename countries\n",
    "    df['Country/Region'] = df['Country/Region'].replace(mapping['replace.country'])\n",
    "    return df"
   ]
  },
  {
   "cell_type": "code",
   "execution_count": 8,
   "id": "affiliated-characterization",
   "metadata": {
    "execution": {
     "iopub.execute_input": "2022-07-12T12:17:30.539913Z",
     "iopub.status.busy": "2022-07-12T12:17:30.539357Z",
     "iopub.status.idle": "2022-07-12T12:17:30.541894Z",
     "shell.execute_reply": "2022-07-12T12:17:30.541472Z"
    },
    "papermill": {
     "duration": 0.037636,
     "end_time": "2022-07-12T12:17:30.541993",
     "exception": false,
     "start_time": "2022-07-12T12:17:30.504357",
     "status": "completed"
    },
    "tags": []
   },
   "outputs": [],
   "source": [
    "#hide\n",
    "def get_dates(df):\n",
    "    dt_cols = df.columns[~df.columns.isin(['Province/State', 'Country/Region', 'Lat', 'Long'])]\n",
    "    LAST_DATE_I = -1\n",
    "    # sometimes last column may be empty, then go backwards\n",
    "    for i in range(-1, -len(dt_cols), -1):\n",
    "        if not df[dt_cols[i]].fillna(0).eq(0).all():\n",
    "            LAST_DATE_I = i\n",
    "            break\n",
    "    return LAST_DATE_I, dt_cols"
   ]
  },
  {
   "cell_type": "code",
   "execution_count": 9,
   "id": "recent-optimization",
   "metadata": {
    "execution": {
     "iopub.execute_input": "2022-07-12T12:17:30.600131Z",
     "iopub.status.busy": "2022-07-12T12:17:30.599512Z",
     "iopub.status.idle": "2022-07-12T12:17:30.960851Z",
     "shell.execute_reply": "2022-07-12T12:17:30.959614Z"
    },
    "papermill": {
     "duration": 0.392612,
     "end_time": "2022-07-12T12:17:30.960990",
     "exception": false,
     "start_time": "2022-07-12T12:17:30.568378",
     "status": "completed"
    },
    "tags": []
   },
   "outputs": [],
   "source": [
    "#hide\n",
    "COL_REGION = 'Country/Region'\n",
    "# Confirmed, Recovered, Deaths\n",
    "df = get_frame('confirmed')\n",
    "# dft_: timeseries, dfc_: today country agg\n",
    "dft_cases = df\n",
    "dft_deaths = get_frame('deaths')\n",
    "dft_recovered = get_frame('recovered')\n",
    "LAST_DATE_I, dt_cols = get_dates(df)"
   ]
  },
  {
   "cell_type": "code",
   "execution_count": 10,
   "id": "absolute-copper",
   "metadata": {
    "execution": {
     "iopub.execute_input": "2022-07-12T12:17:31.026987Z",
     "iopub.status.busy": "2022-07-12T12:17:31.026279Z",
     "iopub.status.idle": "2022-07-12T12:17:31.028608Z",
     "shell.execute_reply": "2022-07-12T12:17:31.027971Z"
    },
    "papermill": {
     "duration": 0.037607,
     "end_time": "2022-07-12T12:17:31.028732",
     "exception": false,
     "start_time": "2022-07-12T12:17:30.991125",
     "status": "completed"
    },
    "tags": []
   },
   "outputs": [],
   "source": [
    "#hide\n",
    "LAST_DATE_I, dt_cols = get_dates(df)\n",
    "dt_today =dt_cols[LAST_DATE_I]\n",
    "# dt_5day = dt_cols[LAST_DATE_I - 5]\n",
    "dt_yday = dt_cols[LAST_DATE_I - 1]"
   ]
  },
  {
   "cell_type": "code",
   "execution_count": 11,
   "id": "restricted-sheriff",
   "metadata": {
    "execution": {
     "iopub.execute_input": "2022-07-12T12:17:31.088079Z",
     "iopub.status.busy": "2022-07-12T12:17:31.087558Z",
     "iopub.status.idle": "2022-07-12T12:17:31.094282Z",
     "shell.execute_reply": "2022-07-12T12:17:31.093863Z"
    },
    "papermill": {
     "duration": 0.038084,
     "end_time": "2022-07-12T12:17:31.094385",
     "exception": false,
     "start_time": "2022-07-12T12:17:31.056301",
     "status": "completed"
    },
    "tags": []
   },
   "outputs": [],
   "source": [
    "#hide\n",
    "dfc_cases = dft_cases.groupby(COL_REGION)[dt_today].sum()\n",
    "dfc_deaths = dft_deaths.groupby(COL_REGION)[dt_today].sum()\n",
    "# dfp_cases = dft_cases.groupby(COL_REGION)[dt_5day].sum()\n",
    "# dfp_deaths = dft_deaths.groupby(COL_REGION)[dt_5day].sum()\n",
    "dfp_cases = dft_cases.groupby(COL_REGION)[dt_yday].sum()\n",
    "dfp_deaths = dft_deaths.groupby(COL_REGION)[dt_yday].sum()"
   ]
  },
  {
   "cell_type": "code",
   "execution_count": 12,
   "id": "deluxe-hepatitis",
   "metadata": {
    "execution": {
     "iopub.execute_input": "2022-07-12T12:17:31.154095Z",
     "iopub.status.busy": "2022-07-12T12:17:31.153395Z",
     "iopub.status.idle": "2022-07-12T12:17:31.158188Z",
     "shell.execute_reply": "2022-07-12T12:17:31.157767Z"
    },
    "papermill": {
     "duration": 0.03746,
     "end_time": "2022-07-12T12:17:31.158291",
     "exception": false,
     "start_time": "2022-07-12T12:17:31.120831",
     "status": "completed"
    },
    "tags": []
   },
   "outputs": [],
   "source": [
    "#hide\n",
    "df_table = (pd.DataFrame(dict(Cases = dfc_cases, Deaths = dfc_deaths, PCases = dfp_cases, PDeaths = dfp_deaths))\n",
    "            .sort_values(by = ['Cases','Deaths'], ascending = [False, False])\n",
    "            .reset_index())"
   ]
  },
  {
   "cell_type": "code",
   "execution_count": 13,
   "id": "educational-chancellor",
   "metadata": {
    "execution": {
     "iopub.execute_input": "2022-07-12T12:17:31.226868Z",
     "iopub.status.busy": "2022-07-12T12:17:31.222773Z",
     "iopub.status.idle": "2022-07-12T12:17:31.233699Z",
     "shell.execute_reply": "2022-07-12T12:17:31.234179Z"
    },
    "papermill": {
     "duration": 0.049979,
     "end_time": "2022-07-12T12:17:31.234295",
     "exception": false,
     "start_time": "2022-07-12T12:17:31.184316",
     "status": "completed"
    },
    "tags": []
   },
   "outputs": [
    {
     "data": {
      "text/html": [
       "<div>\n",
       "<style scoped>\n",
       "    .dataframe tbody tr th:only-of-type {\n",
       "        vertical-align: middle;\n",
       "    }\n",
       "\n",
       "    .dataframe tbody tr th {\n",
       "        vertical-align: top;\n",
       "    }\n",
       "\n",
       "    .dataframe thead th {\n",
       "        text-align: right;\n",
       "    }\n",
       "</style>\n",
       "<table border=\"1\" class=\"dataframe\">\n",
       "  <thead>\n",
       "    <tr style=\"text-align: right;\">\n",
       "      <th></th>\n",
       "      <th>Country/Region</th>\n",
       "      <th>Cases</th>\n",
       "      <th>Deaths</th>\n",
       "      <th>PCases</th>\n",
       "      <th>PDeaths</th>\n",
       "      <th>Cases (+)</th>\n",
       "      <th>Deaths (+)</th>\n",
       "      <th>Fatality Rate</th>\n",
       "      <th>Continent</th>\n",
       "    </tr>\n",
       "  </thead>\n",
       "  <tbody>\n",
       "    <tr>\n",
       "      <th>0</th>\n",
       "      <td>US</td>\n",
       "      <td>88754821</td>\n",
       "      <td>1021306</td>\n",
       "      <td>88594594</td>\n",
       "      <td>1020862</td>\n",
       "      <td>160227</td>\n",
       "      <td>444</td>\n",
       "      <td>1.15</td>\n",
       "      <td>North America</td>\n",
       "    </tr>\n",
       "    <tr>\n",
       "      <th>1</th>\n",
       "      <td>India</td>\n",
       "      <td>43652944</td>\n",
       "      <td>525474</td>\n",
       "      <td>43639329</td>\n",
       "      <td>525454</td>\n",
       "      <td>13615</td>\n",
       "      <td>20</td>\n",
       "      <td>1.20</td>\n",
       "      <td>Asia</td>\n",
       "    </tr>\n",
       "    <tr>\n",
       "      <th>2</th>\n",
       "      <td>Brazil</td>\n",
       "      <td>32940507</td>\n",
       "      <td>673758</td>\n",
       "      <td>32896464</td>\n",
       "      <td>673610</td>\n",
       "      <td>44043</td>\n",
       "      <td>148</td>\n",
       "      <td>2.05</td>\n",
       "      <td>South America</td>\n",
       "    </tr>\n",
       "    <tr>\n",
       "      <th>3</th>\n",
       "      <td>France</td>\n",
       "      <td>32570121</td>\n",
       "      <td>151218</td>\n",
       "      <td>32318670</td>\n",
       "      <td>151056</td>\n",
       "      <td>251451</td>\n",
       "      <td>162</td>\n",
       "      <td>0.46</td>\n",
       "      <td>Europe</td>\n",
       "    </tr>\n",
       "    <tr>\n",
       "      <th>4</th>\n",
       "      <td>Germany</td>\n",
       "      <td>29180489</td>\n",
       "      <td>142035</td>\n",
       "      <td>29025760</td>\n",
       "      <td>141870</td>\n",
       "      <td>154729</td>\n",
       "      <td>165</td>\n",
       "      <td>0.49</td>\n",
       "      <td>Europe</td>\n",
       "    </tr>\n",
       "  </tbody>\n",
       "</table>\n",
       "</div>"
      ],
      "text/plain": [
       "  Country/Region     Cases   Deaths    PCases  PDeaths  Cases (+)  Deaths (+)  \\\n",
       "0             US  88754821  1021306  88594594  1020862     160227         444   \n",
       "1          India  43652944   525474  43639329   525454      13615          20   \n",
       "2         Brazil  32940507   673758  32896464   673610      44043         148   \n",
       "3         France  32570121   151218  32318670   151056     251451         162   \n",
       "4        Germany  29180489   142035  29025760   141870     154729         165   \n",
       "\n",
       "   Fatality Rate      Continent  \n",
       "0           1.15  North America  \n",
       "1           1.20           Asia  \n",
       "2           2.05  South America  \n",
       "3           0.46         Europe  \n",
       "4           0.49         Europe  "
      ]
     },
     "execution_count": 13,
     "metadata": {},
     "output_type": "execute_result"
    }
   ],
   "source": [
    "#hide\n",
    "for c in 'Cases, Deaths'.split(', '):\n",
    "    df_table[f'{c} (+)'] = (df_table[c] - df_table[f'P{c}']).clip(0)\n",
    "    #Clip ça veut dire, les chiffres negatif sont interdit\n",
    "df_table['Fatality Rate'] = (100* df_table['Deaths']/ df_table['Cases']).round(2)\n",
    "df_table['Continent'] = df_table['Country/Region'].map(mapping['map.continent'])\n",
    "df_table.head(5)"
   ]
  },
  {
   "cell_type": "code",
   "execution_count": 14,
   "id": "aboriginal-bulgaria",
   "metadata": {
    "execution": {
     "iopub.execute_input": "2022-07-12T12:17:31.292106Z",
     "iopub.status.busy": "2022-07-12T12:17:31.291602Z",
     "iopub.status.idle": "2022-07-12T12:17:31.294135Z",
     "shell.execute_reply": "2022-07-12T12:17:31.293638Z"
    },
    "papermill": {
     "duration": 0.033416,
     "end_time": "2022-07-12T12:17:31.294233",
     "exception": false,
     "start_time": "2022-07-12T12:17:31.260817",
     "status": "completed"
    },
    "tags": []
   },
   "outputs": [],
   "source": [
    "#hide\n",
    "#delete problematic countries from table\n",
    "df_table = df_table[~df_table['Country/Region'].isin(['Cape Verde', 'Cruise Ship', 'Kosovo'])]"
   ]
  },
  {
   "cell_type": "code",
   "execution_count": 15,
   "id": "fantastic-effect",
   "metadata": {
    "execution": {
     "iopub.execute_input": "2022-07-12T12:17:31.355967Z",
     "iopub.status.busy": "2022-07-12T12:17:31.355445Z",
     "iopub.status.idle": "2022-07-12T12:17:31.373415Z",
     "shell.execute_reply": "2022-07-12T12:17:31.372948Z"
    },
    "papermill": {
     "duration": 0.052807,
     "end_time": "2022-07-12T12:17:31.373571",
     "exception": false,
     "start_time": "2022-07-12T12:17:31.320764",
     "status": "completed"
    },
    "tags": []
   },
   "outputs": [
    {
     "data": {
      "text/html": [
       "<div>\n",
       "<style scoped>\n",
       "    .dataframe tbody tr th:only-of-type {\n",
       "        vertical-align: middle;\n",
       "    }\n",
       "\n",
       "    .dataframe tbody tr th {\n",
       "        vertical-align: top;\n",
       "    }\n",
       "\n",
       "    .dataframe thead th {\n",
       "        text-align: right;\n",
       "    }\n",
       "</style>\n",
       "<table border=\"1\" class=\"dataframe\">\n",
       "  <thead>\n",
       "    <tr style=\"text-align: right;\">\n",
       "      <th></th>\n",
       "      <th>Country/Region</th>\n",
       "      <th>Cases</th>\n",
       "      <th>Deaths</th>\n",
       "      <th>PCases</th>\n",
       "      <th>PDeaths</th>\n",
       "      <th>Cases (+)</th>\n",
       "      <th>Deaths (+)</th>\n",
       "      <th>Fatality Rate</th>\n",
       "      <th>Continent</th>\n",
       "    </tr>\n",
       "  </thead>\n",
       "  <tbody>\n",
       "    <tr>\n",
       "      <th>0</th>\n",
       "      <td>US</td>\n",
       "      <td>88754821</td>\n",
       "      <td>1021306</td>\n",
       "      <td>88594594</td>\n",
       "      <td>1020862</td>\n",
       "      <td>160227</td>\n",
       "      <td>444</td>\n",
       "      <td>1.2</td>\n",
       "      <td>North America</td>\n",
       "    </tr>\n",
       "    <tr>\n",
       "      <th>1</th>\n",
       "      <td>India</td>\n",
       "      <td>43652944</td>\n",
       "      <td>525474</td>\n",
       "      <td>43639329</td>\n",
       "      <td>525454</td>\n",
       "      <td>13615</td>\n",
       "      <td>20</td>\n",
       "      <td>1.2</td>\n",
       "      <td>Asia</td>\n",
       "    </tr>\n",
       "    <tr>\n",
       "      <th>2</th>\n",
       "      <td>Brazil</td>\n",
       "      <td>32940507</td>\n",
       "      <td>673758</td>\n",
       "      <td>32896464</td>\n",
       "      <td>673610</td>\n",
       "      <td>44043</td>\n",
       "      <td>148</td>\n",
       "      <td>2.0</td>\n",
       "      <td>South America</td>\n",
       "    </tr>\n",
       "    <tr>\n",
       "      <th>3</th>\n",
       "      <td>France</td>\n",
       "      <td>32570121</td>\n",
       "      <td>151218</td>\n",
       "      <td>32318670</td>\n",
       "      <td>151056</td>\n",
       "      <td>251451</td>\n",
       "      <td>162</td>\n",
       "      <td>0.5</td>\n",
       "      <td>Europe</td>\n",
       "    </tr>\n",
       "    <tr>\n",
       "      <th>4</th>\n",
       "      <td>Germany</td>\n",
       "      <td>29180489</td>\n",
       "      <td>142035</td>\n",
       "      <td>29025760</td>\n",
       "      <td>141870</td>\n",
       "      <td>154729</td>\n",
       "      <td>165</td>\n",
       "      <td>0.5</td>\n",
       "      <td>Europe</td>\n",
       "    </tr>\n",
       "  </tbody>\n",
       "</table>\n",
       "</div>"
      ],
      "text/plain": [
       "  Country/Region     Cases   Deaths    PCases  PDeaths  Cases (+)  Deaths (+)  \\\n",
       "0             US  88754821  1021306  88594594  1020862     160227         444   \n",
       "1          India  43652944   525474  43639329   525454      13615          20   \n",
       "2         Brazil  32940507   673758  32896464   673610      44043         148   \n",
       "3         France  32570121   151218  32318670   151056     251451         162   \n",
       "4        Germany  29180489   142035  29025760   141870     154729         165   \n",
       "\n",
       "   Fatality Rate      Continent  \n",
       "0            1.2  North America  \n",
       "1            1.2           Asia  \n",
       "2            2.0  South America  \n",
       "3            0.5         Europe  \n",
       "4            0.5         Europe  "
      ]
     },
     "execution_count": 15,
     "metadata": {},
     "output_type": "execute_result"
    }
   ],
   "source": [
    "#hide\n",
    "df_table = (pd.DataFrame(dict(Cases=dfc_cases, Deaths=dfc_deaths, PCases=dfp_cases, PDeaths=dfp_deaths))\n",
    "             .sort_values(by=['Cases', 'Deaths'], ascending=[False, False])\n",
    "             .reset_index())\n",
    "df_table.rename(columns={'index': 'Country/Region'}, inplace=True)\n",
    "for c in 'Cases, Deaths'.split(', '):\n",
    "    df_table[f'{c} (+)'] = (df_table[c] - df_table[f'P{c}']).clip(0)  # DATA BUG\n",
    "df_table['Fatality Rate'] = (100 * df_table['Deaths'] / df_table['Cases']).round(1)\n",
    "df_table['Continent'] = df_table['Country/Region'].map(mapping['map.continent'])\n",
    "df_table.head(5)"
   ]
  },
  {
   "cell_type": "code",
   "execution_count": 16,
   "id": "fewer-occasion",
   "metadata": {
    "execution": {
     "iopub.execute_input": "2022-07-12T12:17:31.440973Z",
     "iopub.status.busy": "2022-07-12T12:17:31.440415Z",
     "iopub.status.idle": "2022-07-12T12:17:31.445637Z",
     "shell.execute_reply": "2022-07-12T12:17:31.446134Z"
    },
    "papermill": {
     "duration": 0.038739,
     "end_time": "2022-07-12T12:17:31.446249",
     "exception": false,
     "start_time": "2022-07-12T12:17:31.407510",
     "status": "completed"
    },
    "tags": []
   },
   "outputs": [],
   "source": [
    "#hide\n",
    "#delete problematic countries from table\n",
    "df_table = df_table[~df_table['Country/Region'].isin(['Cape Verde', 'Cruise Ship', 'Kosovo'])]"
   ]
  },
  {
   "cell_type": "code",
   "execution_count": 17,
   "id": "related-center",
   "metadata": {
    "execution": {
     "iopub.execute_input": "2022-07-12T12:17:31.508814Z",
     "iopub.status.busy": "2022-07-12T12:17:31.508302Z",
     "iopub.status.idle": "2022-07-12T12:17:31.520791Z",
     "shell.execute_reply": "2022-07-12T12:17:31.520374Z"
    },
    "papermill": {
     "duration": 0.047455,
     "end_time": "2022-07-12T12:17:31.520886",
     "exception": false,
     "start_time": "2022-07-12T12:17:31.473431",
     "status": "completed"
    },
    "tags": []
   },
   "outputs": [],
   "source": [
    "#hide\n",
    "metrics = [df_table.columns[index] for index in [1,2,5,6]]\n",
    "# s_china = df_table[df_table['Country/Region'].eq('China')][metrics].sum().add_prefix('China ')\n",
    "s_us = df_table[df_table['Country/Region'].eq('US')][metrics].sum().add_prefix('US ')\n",
    "s_eu = df_table[df_table['Continent'].eq('Europe')][metrics].sum().add_prefix('EU ')\n",
    "s_ind = df_table[df_table['Country/Region'].eq('India')][metrics].sum().add_prefix('India ')\n",
    "summary = {'updated': pd.to_datetime(dt_today), 'since': pd.to_datetime(dt_yday)}\n",
    "summary = {'updated': pd.to_datetime(dt_today), 'since': pd.to_datetime(dt_yday)}\n",
    "summary = {**summary, **df_table[metrics].sum(), **s_ind, **s_us, **s_eu}"
   ]
  },
  {
   "cell_type": "code",
   "execution_count": 18,
   "id": "engaging-syndrome",
   "metadata": {
    "execution": {
     "iopub.execute_input": "2022-07-12T12:17:31.579619Z",
     "iopub.status.busy": "2022-07-12T12:17:31.579104Z",
     "iopub.status.idle": "2022-07-12T12:17:31.598836Z",
     "shell.execute_reply": "2022-07-12T12:17:31.598306Z"
    },
    "papermill": {
     "duration": 0.051139,
     "end_time": "2022-07-12T12:17:31.598954",
     "exception": false,
     "start_time": "2022-07-12T12:17:31.547815",
     "status": "completed"
    },
    "tags": []
   },
   "outputs": [],
   "source": [
    "#hide\n",
    "dft_ct_new_cases = dft_cases.groupby(COL_REGION)[dt_cols].sum().diff(axis=1).fillna(0).astype(int)"
   ]
  },
  {
   "cell_type": "code",
   "execution_count": 19,
   "id": "neutral-assignment",
   "metadata": {
    "execution": {
     "iopub.execute_input": "2022-07-12T12:17:31.665992Z",
     "iopub.status.busy": "2022-07-12T12:17:31.665420Z",
     "iopub.status.idle": "2022-07-12T12:17:31.668323Z",
     "shell.execute_reply": "2022-07-12T12:17:31.667858Z"
    },
    "papermill": {
     "duration": 0.038879,
     "end_time": "2022-07-12T12:17:31.668428",
     "exception": false,
     "start_time": "2022-07-12T12:17:31.629549",
     "status": "completed"
    },
    "tags": []
   },
   "outputs": [],
   "source": [
    "#hide\n",
    "everydaycases = dft_ct_new_cases.cumsum(axis=1)"
   ]
  },
  {
   "cell_type": "code",
   "execution_count": 20,
   "id": "parliamentary-calgary",
   "metadata": {
    "execution": {
     "iopub.execute_input": "2022-07-12T12:17:31.733381Z",
     "iopub.status.busy": "2022-07-12T12:17:31.732809Z",
     "iopub.status.idle": "2022-07-12T12:17:32.338934Z",
     "shell.execute_reply": "2022-07-12T12:17:32.337764Z"
    },
    "papermill": {
     "duration": 0.64014,
     "end_time": "2022-07-12T12:17:32.339061",
     "exception": false,
     "start_time": "2022-07-12T12:17:31.698921",
     "status": "completed"
    },
    "tags": []
   },
   "outputs": [],
   "source": [
    "#hide\n",
    "import pandas as pd\n",
    "import matplotlib.pyplot as plt\n",
    "import matplotlib.ticker as ticker\n",
    "import matplotlib.animation as animation\n",
    "from IPython.display import HTML"
   ]
  },
  {
   "cell_type": "code",
   "execution_count": 21,
   "id": "lasting-extraction",
   "metadata": {
    "execution": {
     "iopub.execute_input": "2022-07-12T12:17:32.399476Z",
     "iopub.status.busy": "2022-07-12T12:17:32.398779Z",
     "iopub.status.idle": "2022-07-12T12:17:32.405706Z",
     "shell.execute_reply": "2022-07-12T12:17:32.405236Z"
    },
    "papermill": {
     "duration": 0.0396,
     "end_time": "2022-07-12T12:17:32.405820",
     "exception": false,
     "start_time": "2022-07-12T12:17:32.366220",
     "status": "completed"
    },
    "tags": []
   },
   "outputs": [],
   "source": [
    "#hide\n",
    "t = everydaycases.stack()"
   ]
  },
  {
   "cell_type": "code",
   "execution_count": 22,
   "id": "premier-sleeve",
   "metadata": {
    "execution": {
     "iopub.execute_input": "2022-07-12T12:17:32.472349Z",
     "iopub.status.busy": "2022-07-12T12:17:32.471827Z",
     "iopub.status.idle": "2022-07-12T12:17:32.485039Z",
     "shell.execute_reply": "2022-07-12T12:17:32.484630Z"
    },
    "papermill": {
     "duration": 0.047936,
     "end_time": "2022-07-12T12:17:32.485144",
     "exception": false,
     "start_time": "2022-07-12T12:17:32.437208",
     "status": "completed"
    },
    "tags": []
   },
   "outputs": [],
   "source": [
    "#hide\n",
    "g = t.reset_index(['Country/Region'])"
   ]
  },
  {
   "cell_type": "code",
   "execution_count": 23,
   "id": "distributed-pittsburgh",
   "metadata": {
    "execution": {
     "iopub.execute_input": "2022-07-12T12:17:32.543182Z",
     "iopub.status.busy": "2022-07-12T12:17:32.542554Z",
     "iopub.status.idle": "2022-07-12T12:17:32.544322Z",
     "shell.execute_reply": "2022-07-12T12:17:32.544737Z"
    },
    "papermill": {
     "duration": 0.032852,
     "end_time": "2022-07-12T12:17:32.544859",
     "exception": false,
     "start_time": "2022-07-12T12:17:32.512007",
     "status": "completed"
    },
    "tags": []
   },
   "outputs": [],
   "source": [
    "#hide\n",
    "g.index.name = 'date'"
   ]
  },
  {
   "cell_type": "code",
   "execution_count": 24,
   "id": "naked-donor",
   "metadata": {
    "execution": {
     "iopub.execute_input": "2022-07-12T12:17:32.613190Z",
     "iopub.status.busy": "2022-07-12T12:17:32.612535Z",
     "iopub.status.idle": "2022-07-12T12:17:32.615093Z",
     "shell.execute_reply": "2022-07-12T12:17:32.614571Z"
    },
    "papermill": {
     "duration": 0.038185,
     "end_time": "2022-07-12T12:17:32.615188",
     "exception": false,
     "start_time": "2022-07-12T12:17:32.577003",
     "status": "completed"
    },
    "tags": []
   },
   "outputs": [],
   "source": [
    "# #hide\n",
    "# g = g.reset_index(['date'])"
   ]
  },
  {
   "cell_type": "code",
   "execution_count": 25,
   "id": "incomplete-mustang",
   "metadata": {
    "execution": {
     "iopub.execute_input": "2022-07-12T12:17:32.672929Z",
     "iopub.status.busy": "2022-07-12T12:17:32.672267Z",
     "iopub.status.idle": "2022-07-12T12:17:32.675851Z",
     "shell.execute_reply": "2022-07-12T12:17:32.676222Z"
    },
    "papermill": {
     "duration": 0.034212,
     "end_time": "2022-07-12T12:17:32.676335",
     "exception": false,
     "start_time": "2022-07-12T12:17:32.642123",
     "status": "completed"
    },
    "tags": []
   },
   "outputs": [],
   "source": [
    "#hide\n",
    "# g.head()"
   ]
  },
  {
   "cell_type": "code",
   "execution_count": 26,
   "id": "specific-kruger",
   "metadata": {
    "execution": {
     "iopub.execute_input": "2022-07-12T12:17:32.733801Z",
     "iopub.status.busy": "2022-07-12T12:17:32.733139Z",
     "iopub.status.idle": "2022-07-12T12:17:32.735373Z",
     "shell.execute_reply": "2022-07-12T12:17:32.734734Z"
    },
    "papermill": {
     "duration": 0.032187,
     "end_time": "2022-07-12T12:17:32.735493",
     "exception": false,
     "start_time": "2022-07-12T12:17:32.703306",
     "status": "completed"
    },
    "tags": []
   },
   "outputs": [],
   "source": [
    "#hide\n",
    "# g.columns = ['date','country','cases']"
   ]
  },
  {
   "cell_type": "code",
   "execution_count": 27,
   "id": "tender-conversion",
   "metadata": {
    "execution": {
     "iopub.execute_input": "2022-07-12T12:17:32.792931Z",
     "iopub.status.busy": "2022-07-12T12:17:32.792279Z",
     "iopub.status.idle": "2022-07-12T12:17:32.796443Z",
     "shell.execute_reply": "2022-07-12T12:17:32.796962Z"
    },
    "papermill": {
     "duration": 0.034526,
     "end_time": "2022-07-12T12:17:32.797071",
     "exception": false,
     "start_time": "2022-07-12T12:17:32.762545",
     "status": "completed"
    },
    "tags": []
   },
   "outputs": [],
   "source": [
    "#hide\n",
    "# g['continent'] = g.country"
   ]
  },
  {
   "cell_type": "code",
   "execution_count": 28,
   "id": "substantial-wilderness",
   "metadata": {
    "execution": {
     "iopub.execute_input": "2022-07-12T12:17:32.854878Z",
     "iopub.status.busy": "2022-07-12T12:17:32.854176Z",
     "iopub.status.idle": "2022-07-12T12:17:32.857901Z",
     "shell.execute_reply": "2022-07-12T12:17:32.857270Z"
    },
    "papermill": {
     "duration": 0.033514,
     "end_time": "2022-07-12T12:17:32.858027",
     "exception": false,
     "start_time": "2022-07-12T12:17:32.824513",
     "status": "completed"
    },
    "tags": []
   },
   "outputs": [],
   "source": [
    "#hide\n",
    "# cols = list(g.columns.values)"
   ]
  },
  {
   "cell_type": "code",
   "execution_count": 29,
   "id": "solved-farming",
   "metadata": {
    "execution": {
     "iopub.execute_input": "2022-07-12T12:17:32.915023Z",
     "iopub.status.busy": "2022-07-12T12:17:32.914335Z",
     "iopub.status.idle": "2022-07-12T12:17:32.917893Z",
     "shell.execute_reply": "2022-07-12T12:17:32.917364Z"
    },
    "papermill": {
     "duration": 0.033247,
     "end_time": "2022-07-12T12:17:32.918008",
     "exception": false,
     "start_time": "2022-07-12T12:17:32.884761",
     "status": "completed"
    },
    "tags": []
   },
   "outputs": [],
   "source": [
    "#hide\n",
    "# cols.insert(0, cols.pop())"
   ]
  },
  {
   "cell_type": "code",
   "execution_count": 30,
   "id": "executed-adoption",
   "metadata": {
    "execution": {
     "iopub.execute_input": "2022-07-12T12:17:32.975678Z",
     "iopub.status.busy": "2022-07-12T12:17:32.975022Z",
     "iopub.status.idle": "2022-07-12T12:17:32.977207Z",
     "shell.execute_reply": "2022-07-12T12:17:32.976579Z"
    },
    "papermill": {
     "duration": 0.03195,
     "end_time": "2022-07-12T12:17:32.977330",
     "exception": false,
     "start_time": "2022-07-12T12:17:32.945380",
     "status": "completed"
    },
    "tags": []
   },
   "outputs": [],
   "source": [
    "#hide\n",
    "# g = g[cols]"
   ]
  },
  {
   "cell_type": "code",
   "execution_count": 31,
   "id": "subject-dublin",
   "metadata": {
    "execution": {
     "iopub.execute_input": "2022-07-12T12:17:33.035331Z",
     "iopub.status.busy": "2022-07-12T12:17:33.034645Z",
     "iopub.status.idle": "2022-07-12T12:17:33.037848Z",
     "shell.execute_reply": "2022-07-12T12:17:33.037213Z"
    },
    "papermill": {
     "duration": 0.033162,
     "end_time": "2022-07-12T12:17:33.037960",
     "exception": false,
     "start_time": "2022-07-12T12:17:33.004798",
     "status": "completed"
    },
    "tags": []
   },
   "outputs": [],
   "source": [
    "#hide\n",
    "# g['continent'] = g['continent'].map(mapping['map.continent'])"
   ]
  },
  {
   "cell_type": "code",
   "execution_count": 32,
   "id": "freelance-scout",
   "metadata": {
    "execution": {
     "iopub.execute_input": "2022-07-12T12:17:33.096080Z",
     "iopub.status.busy": "2022-07-12T12:17:33.095406Z",
     "iopub.status.idle": "2022-07-12T12:17:33.099269Z",
     "shell.execute_reply": "2022-07-12T12:17:33.098849Z"
    },
    "papermill": {
     "duration": 0.033726,
     "end_time": "2022-07-12T12:17:33.099363",
     "exception": false,
     "start_time": "2022-07-12T12:17:33.065637",
     "status": "completed"
    },
    "tags": []
   },
   "outputs": [],
   "source": [
    "#hide\n",
    "# g.head()"
   ]
  },
  {
   "cell_type": "code",
   "execution_count": 33,
   "id": "limited-engine",
   "metadata": {
    "execution": {
     "iopub.execute_input": "2022-07-12T12:17:33.157400Z",
     "iopub.status.busy": "2022-07-12T12:17:33.156632Z",
     "iopub.status.idle": "2022-07-12T12:17:33.158137Z",
     "shell.execute_reply": "2022-07-12T12:17:33.158839Z"
    },
    "papermill": {
     "duration": 0.032768,
     "end_time": "2022-07-12T12:17:33.158981",
     "exception": false,
     "start_time": "2022-07-12T12:17:33.126213",
     "status": "completed"
    },
    "tags": []
   },
   "outputs": [],
   "source": [
    "# hide\n",
    "# g['date'] = g['date'].astype('datetime64[ns]')"
   ]
  },
  {
   "cell_type": "code",
   "execution_count": 34,
   "id": "sophisticated-supervisor",
   "metadata": {
    "execution": {
     "iopub.execute_input": "2022-07-12T12:17:33.225172Z",
     "iopub.status.busy": "2022-07-12T12:17:33.224655Z",
     "iopub.status.idle": "2022-07-12T12:17:33.227221Z",
     "shell.execute_reply": "2022-07-12T12:17:33.226797Z"
    },
    "papermill": {
     "duration": 0.035991,
     "end_time": "2022-07-12T12:17:33.227316",
     "exception": false,
     "start_time": "2022-07-12T12:17:33.191325",
     "status": "completed"
    },
    "tags": []
   },
   "outputs": [],
   "source": [
    "#hide\n",
    "# g['date'] = g.date.dt.dayofyear"
   ]
  },
  {
   "cell_type": "code",
   "execution_count": 35,
   "id": "inside-dubai",
   "metadata": {
    "execution": {
     "iopub.execute_input": "2022-07-12T12:17:33.284602Z",
     "iopub.status.busy": "2022-07-12T12:17:33.283954Z",
     "iopub.status.idle": "2022-07-12T12:17:33.287704Z",
     "shell.execute_reply": "2022-07-12T12:17:33.287312Z"
    },
    "papermill": {
     "duration": 0.033607,
     "end_time": "2022-07-12T12:17:33.287801",
     "exception": false,
     "start_time": "2022-07-12T12:17:33.254194",
     "status": "completed"
    },
    "tags": []
   },
   "outputs": [],
   "source": [
    "#hide\n",
    "# g = g.rename(columns= {'continent':'group','country':'name','cases':'value'})"
   ]
  },
  {
   "cell_type": "code",
   "execution_count": 36,
   "id": "fleet-motorcycle",
   "metadata": {
    "execution": {
     "iopub.execute_input": "2022-07-12T12:17:33.345207Z",
     "iopub.status.busy": "2022-07-12T12:17:33.344556Z",
     "iopub.status.idle": "2022-07-12T12:17:33.348354Z",
     "shell.execute_reply": "2022-07-12T12:17:33.347945Z"
    },
    "papermill": {
     "duration": 0.033774,
     "end_time": "2022-07-12T12:17:33.348444",
     "exception": false,
     "start_time": "2022-07-12T12:17:33.314670",
     "status": "completed"
    },
    "tags": []
   },
   "outputs": [],
   "source": [
    "#hide\n",
    "# cols = ['name','group','day','value']"
   ]
  },
  {
   "cell_type": "code",
   "execution_count": 37,
   "id": "continued-sleeping",
   "metadata": {
    "execution": {
     "iopub.execute_input": "2022-07-12T12:17:33.405790Z",
     "iopub.status.busy": "2022-07-12T12:17:33.405138Z",
     "iopub.status.idle": "2022-07-12T12:17:33.408817Z",
     "shell.execute_reply": "2022-07-12T12:17:33.408406Z"
    },
    "papermill": {
     "duration": 0.03363,
     "end_time": "2022-07-12T12:17:33.408906",
     "exception": false,
     "start_time": "2022-07-12T12:17:33.375276",
     "status": "completed"
    },
    "tags": []
   },
   "outputs": [],
   "source": [
    "#hide\n",
    "# g.rename(columns= {'date':'day'},inplace = True)"
   ]
  },
  {
   "cell_type": "code",
   "execution_count": 38,
   "id": "major-fight",
   "metadata": {
    "execution": {
     "iopub.execute_input": "2022-07-12T12:17:33.466684Z",
     "iopub.status.busy": "2022-07-12T12:17:33.466031Z",
     "iopub.status.idle": "2022-07-12T12:17:33.468473Z",
     "shell.execute_reply": "2022-07-12T12:17:33.468035Z"
    },
    "papermill": {
     "duration": 0.032742,
     "end_time": "2022-07-12T12:17:33.468579",
     "exception": false,
     "start_time": "2022-07-12T12:17:33.435837",
     "status": "completed"
    },
    "tags": []
   },
   "outputs": [],
   "source": [
    "#hide\n",
    "# g = g[cols]"
   ]
  },
  {
   "cell_type": "code",
   "execution_count": 39,
   "id": "structured-mobile",
   "metadata": {
    "execution": {
     "iopub.execute_input": "2022-07-12T12:17:33.533327Z",
     "iopub.status.busy": "2022-07-12T12:17:33.532573Z",
     "iopub.status.idle": "2022-07-12T12:17:33.534063Z",
     "shell.execute_reply": "2022-07-12T12:17:33.534687Z"
    },
    "papermill": {
     "duration": 0.035982,
     "end_time": "2022-07-12T12:17:33.534842",
     "exception": false,
     "start_time": "2022-07-12T12:17:33.498860",
     "status": "completed"
    },
    "tags": []
   },
   "outputs": [],
   "source": [
    "# #hide\n",
    "# g = g[g.group.notna()]"
   ]
  },
  {
   "cell_type": "code",
   "execution_count": 40,
   "id": "determined-closing",
   "metadata": {
    "execution": {
     "iopub.execute_input": "2022-07-12T12:17:33.603532Z",
     "iopub.status.busy": "2022-07-12T12:17:33.602804Z",
     "iopub.status.idle": "2022-07-12T12:17:33.605412Z",
     "shell.execute_reply": "2022-07-12T12:17:33.604885Z"
    },
    "papermill": {
     "duration": 0.03837,
     "end_time": "2022-07-12T12:17:33.605532",
     "exception": false,
     "start_time": "2022-07-12T12:17:33.567162",
     "status": "completed"
    },
    "tags": []
   },
   "outputs": [],
   "source": [
    "# #hide\n",
    "# colors = dict(zip(\n",
    "#     [\"Oceania\", \"Europe\", \"Asia\", \"South America\", \"Middle East\", \"North America\", \"Africa\"],\n",
    "#     [\"#adb0ff\", \"#ffb3ff\", \"#90d595\", \"#e48381\", \"#aafbff\", \"#f7bb5f\", \"#eafb50\"]\n",
    "# ))\n",
    "# group_lk = g.set_index('name')['group'].to_dict()"
   ]
  },
  {
   "cell_type": "code",
   "execution_count": null,
   "id": "gross-drinking",
   "metadata": {
    "papermill": {
     "duration": 0.026857,
     "end_time": "2022-07-12T12:17:33.660095",
     "exception": false,
     "start_time": "2022-07-12T12:17:33.633238",
     "status": "completed"
    },
    "tags": []
   },
   "outputs": [],
   "source": []
  },
  {
   "cell_type": "code",
   "execution_count": 41,
   "id": "subject-macintosh",
   "metadata": {
    "execution": {
     "iopub.execute_input": "2022-07-12T12:17:33.718095Z",
     "iopub.status.busy": "2022-07-12T12:17:33.717569Z",
     "iopub.status.idle": "2022-07-12T12:17:33.719985Z",
     "shell.execute_reply": "2022-07-12T12:17:33.720474Z"
    },
    "papermill": {
     "duration": 0.033605,
     "end_time": "2022-07-12T12:17:33.720587",
     "exception": false,
     "start_time": "2022-07-12T12:17:33.686982",
     "status": "completed"
    },
    "tags": []
   },
   "outputs": [],
   "source": [
    "# #hide\n",
    "# fig, ax = plt.subplots(figsize=(15, 8))\n",
    "\n",
    "# def draw_barchart(current_day):\n",
    "#     dff = g[g['day'].eq(current_day)].sort_values(by='value', ascending=True).tail(10)\n",
    "#     ax.clear()\n",
    "#     ax.barh(dff['name'], dff['value'], color=[colors[group_lk[x]] for x in dff['name']])\n",
    "#     dx = dff['value'].max() / 200\n",
    "    \n",
    "#     for i, (value, name) in enumerate(zip(dff['value'], dff['name'])):\n",
    "#         ax.text(value-dx, i,     name,           size=14, weight=600, ha='right', va='bottom')\n",
    "#         ax.text(value-dx, i-.25, group_lk[name], size=10, color='#444444', ha='right', va='baseline')\n",
    "#         ax.text(value+dx, i,     f'{value:,.0f}',  size=14, ha='left',  va='center')\n",
    "#     ax.text(1, 0.4, current_day, transform=ax.transAxes, color='#777777', size=46, ha='right', weight=800)\n",
    "#     ax.text(0, 1.06, 'Population (thousands)', transform=ax.transAxes, size=12, color='#777777')\n",
    "#     ax.xaxis.set_major_formatter(ticker.StrMethodFormatter('{x:,.0f}'))\n",
    "#     ax.xaxis.set_ticks_position('top')\n",
    "#     ax.tick_params(axis='x', colors='#777777', labelsize=12)\n",
    "#     ax.set_yticks([])\n",
    "#     ax.margins(0, 0.01)\n",
    "#     ax.grid(which='major', axis='x', linestyle='-')\n",
    "#     ax.set_axisbelow(True)\n",
    "    \n",
    "#     ax.text(0, 1.15, 'Coronavirus',\n",
    "#             transform=ax.transAxes, size=24, weight=600, ha='left', va='top')\n",
    "# #     ax.text(1, 0, 'by @pratapvardhan; credit @jburnmurdoch', transform=ax.transAxes, color='#777777', ha='right',\n",
    "# #             bbox=dict(facecolor='white', alpha=0.8, edgecolor='white'))\n",
    "#     plt.box(False)"
   ]
  },
  {
   "cell_type": "code",
   "execution_count": 42,
   "id": "sexual-wages",
   "metadata": {
    "execution": {
     "iopub.execute_input": "2022-07-12T12:17:33.778536Z",
     "iopub.status.busy": "2022-07-12T12:17:33.777865Z",
     "iopub.status.idle": "2022-07-12T12:17:33.779604Z",
     "shell.execute_reply": "2022-07-12T12:17:33.780120Z"
    },
    "papermill": {
     "duration": 0.032755,
     "end_time": "2022-07-12T12:17:33.780255",
     "exception": false,
     "start_time": "2022-07-12T12:17:33.747500",
     "status": "completed"
    },
    "tags": []
   },
   "outputs": [],
   "source": [
    "# #hide_input\n",
    "# fig, ax = plt.subplots(figsize=(15, 8))\n",
    "# animator = animation.FuncAnimation(fig, draw_barchart, frames=range(g.day.values.min(), g.day.values.max()))\n",
    "# HTML(animator.to_jshtml())\n",
    "# # or use animator.to_html5_video() or animator.save() "
   ]
  },
  {
   "cell_type": "code",
   "execution_count": null,
   "id": "australian-container",
   "metadata": {
    "papermill": {
     "duration": 0.03085,
     "end_time": "2022-07-12T12:17:33.841674",
     "exception": false,
     "start_time": "2022-07-12T12:17:33.810824",
     "status": "completed"
    },
    "tags": []
   },
   "outputs": [],
   "source": []
  },
  {
   "cell_type": "code",
   "execution_count": null,
   "id": "mediterranean-pontiac",
   "metadata": {
    "papermill": {
     "duration": 0.030307,
     "end_time": "2022-07-12T12:17:33.902299",
     "exception": false,
     "start_time": "2022-07-12T12:17:33.871992",
     "status": "completed"
    },
    "tags": []
   },
   "outputs": [],
   "source": []
  },
  {
   "cell_type": "code",
   "execution_count": null,
   "id": "aging-legislature",
   "metadata": {
    "papermill": {
     "duration": 0.030348,
     "end_time": "2022-07-12T12:17:33.963436",
     "exception": false,
     "start_time": "2022-07-12T12:17:33.933088",
     "status": "completed"
    },
    "tags": []
   },
   "outputs": [],
   "source": []
  }
 ],
 "metadata": {
  "kernelspec": {
   "display_name": "Python 3",
   "language": "python",
   "name": "python3"
  },
  "language_info": {
   "codemirror_mode": {
    "name": "ipython",
    "version": 3
   },
   "file_extension": ".py",
   "mimetype": "text/x-python",
   "name": "python",
   "nbconvert_exporter": "python",
   "pygments_lexer": "ipython3",
   "version": "3.6.15"
  },
  "papermill": {
   "duration": 5.755585,
   "end_time": "2022-07-12T12:17:34.313095",
   "environment_variables": {},
   "exception": null,
   "input_path": "2020-03-21-covid19exp.ipynb",
   "output_path": "2020-03-21-covid19exp.ipynb",
   "parameters": {},
   "start_time": "2022-07-12T12:17:28.557510",
   "version": "2.0.0"
  }
 },
 "nbformat": 4,
 "nbformat_minor": 5
}