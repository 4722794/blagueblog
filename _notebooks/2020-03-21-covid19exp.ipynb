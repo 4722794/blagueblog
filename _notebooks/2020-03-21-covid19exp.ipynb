{
 "cells": [
  {
   "cell_type": "markdown",
   "id": "muslim-click",
   "metadata": {
    "papermill": {
     "duration": 0.043037,
     "end_time": "2022-06-02T00:48:33.177556",
     "exception": false,
     "start_time": "2022-06-02T00:48:33.134519",
     "status": "completed"
    },
    "tags": []
   },
   "source": [
    "# COVID-19 Case Race\n",
    "> A race chart to see rising cases around the world\n",
    "\n",
    "- author: Hargun Oberoi\n",
    "- image: images/covid-overview.png\n",
    "- hide: false\n",
    "- badges: false"
   ]
  },
  {
   "cell_type": "code",
   "execution_count": 1,
   "id": "proof-material",
   "metadata": {
    "execution": {
     "iopub.execute_input": "2022-06-02T00:48:33.259657Z",
     "iopub.status.busy": "2022-06-02T00:48:33.257329Z",
     "iopub.status.idle": "2022-06-02T00:48:33.614351Z",
     "shell.execute_reply": "2022-06-02T00:48:33.613766Z"
    },
    "papermill": {
     "duration": 0.399077,
     "end_time": "2022-06-02T00:48:33.614508",
     "exception": false,
     "start_time": "2022-06-02T00:48:33.215431",
     "status": "completed"
    },
    "tags": []
   },
   "outputs": [],
   "source": [
    "#hide\n",
    "import numpy as np\n",
    "import pandas as pd\n",
    "from jinja2 import Template\n",
    "from IPython.display import HTML"
   ]
  },
  {
   "cell_type": "code",
   "execution_count": 2,
   "id": "developed-terminology",
   "metadata": {
    "execution": {
     "iopub.execute_input": "2022-06-02T00:48:33.689661Z",
     "iopub.status.busy": "2022-06-02T00:48:33.688996Z",
     "iopub.status.idle": "2022-06-02T00:48:33.691918Z",
     "shell.execute_reply": "2022-06-02T00:48:33.691376Z"
    },
    "papermill": {
     "duration": 0.043961,
     "end_time": "2022-06-02T00:48:33.692035",
     "exception": false,
     "start_time": "2022-06-02T00:48:33.648074",
     "status": "completed"
    },
    "tags": []
   },
   "outputs": [],
   "source": [
    "#hide\n",
    "\n",
    "# FETCH\n",
    "base_url = 'https://raw.githubusercontent.com/pratapvardhan/notebooks/master/covid19/'\n",
    "paths = {\n",
    "    'mapping': base_url + 'mapping_countries.csv',\n",
    "    'overview': base_url + 'overview.tpl'\n",
    "}"
   ]
  },
  {
   "cell_type": "code",
   "execution_count": 3,
   "id": "dynamic-saver",
   "metadata": {
    "execution": {
     "iopub.execute_input": "2022-06-02T00:48:33.769187Z",
     "iopub.status.busy": "2022-06-02T00:48:33.768471Z",
     "iopub.status.idle": "2022-06-02T00:48:33.771846Z",
     "shell.execute_reply": "2022-06-02T00:48:33.772478Z"
    },
    "papermill": {
     "duration": 0.046949,
     "end_time": "2022-06-02T00:48:33.772603",
     "exception": false,
     "start_time": "2022-06-02T00:48:33.725654",
     "status": "completed"
    },
    "tags": []
   },
   "outputs": [
    {
     "data": {
      "text/plain": [
       "'https://raw.githubusercontent.com/pratapvardhan/notebooks/master/covid19/mapping_countries.csv'"
      ]
     },
     "execution_count": 3,
     "metadata": {},
     "output_type": "execute_result"
    }
   ],
   "source": [
    "#hide\n",
    "paths['mapping']"
   ]
  },
  {
   "cell_type": "code",
   "execution_count": 4,
   "id": "urban-software",
   "metadata": {
    "execution": {
     "iopub.execute_input": "2022-06-02T00:48:33.846173Z",
     "iopub.status.busy": "2022-06-02T00:48:33.845534Z",
     "iopub.status.idle": "2022-06-02T00:48:33.848051Z",
     "shell.execute_reply": "2022-06-02T00:48:33.848676Z"
    },
    "papermill": {
     "duration": 0.042664,
     "end_time": "2022-06-02T00:48:33.848800",
     "exception": false,
     "start_time": "2022-06-02T00:48:33.806136",
     "status": "completed"
    },
    "tags": []
   },
   "outputs": [],
   "source": [
    "#hide\n",
    "def get_mappings(url):\n",
    "    df = pd.read_csv(url)\n",
    "    return {\n",
    "        'df': df,\n",
    "        'replace.country': dict(df.dropna(subset=['Name']).set_index('Country')['Name']),\n",
    "        'map.continent': dict(df.set_index('Name')['Continent'])\n",
    "    }"
   ]
  },
  {
   "cell_type": "code",
   "execution_count": 5,
   "id": "intimate-machinery",
   "metadata": {
    "execution": {
     "iopub.execute_input": "2022-06-02T00:48:33.922669Z",
     "iopub.status.busy": "2022-06-02T00:48:33.921972Z",
     "iopub.status.idle": "2022-06-02T00:48:33.965249Z",
     "shell.execute_reply": "2022-06-02T00:48:33.964699Z"
    },
    "papermill": {
     "duration": 0.082672,
     "end_time": "2022-06-02T00:48:33.965368",
     "exception": false,
     "start_time": "2022-06-02T00:48:33.882696",
     "status": "completed"
    },
    "tags": []
   },
   "outputs": [],
   "source": [
    "#hide\n",
    "mapping = get_mappings(paths['mapping'])"
   ]
  },
  {
   "cell_type": "code",
   "execution_count": 6,
   "id": "certified-tactics",
   "metadata": {
    "execution": {
     "iopub.execute_input": "2022-06-02T00:48:34.038151Z",
     "iopub.status.busy": "2022-06-02T00:48:34.037471Z",
     "iopub.status.idle": "2022-06-02T00:48:34.040279Z",
     "shell.execute_reply": "2022-06-02T00:48:34.039737Z"
    },
    "papermill": {
     "duration": 0.040658,
     "end_time": "2022-06-02T00:48:34.040394",
     "exception": false,
     "start_time": "2022-06-02T00:48:33.999736",
     "status": "completed"
    },
    "tags": []
   },
   "outputs": [],
   "source": [
    "#hide\n",
    "def get_template(path):\n",
    "    from urllib.parse import urlparse\n",
    "    if bool(urlparse(path).netloc):\n",
    "        from urllib.request import urlopen\n",
    "        return urlopen(path).read().decode('utf8')\n",
    "    return open(path).read()"
   ]
  },
  {
   "cell_type": "code",
   "execution_count": 7,
   "id": "realistic-blast",
   "metadata": {
    "execution": {
     "iopub.execute_input": "2022-06-02T00:48:34.114041Z",
     "iopub.status.busy": "2022-06-02T00:48:34.113382Z",
     "iopub.status.idle": "2022-06-02T00:48:34.115986Z",
     "shell.execute_reply": "2022-06-02T00:48:34.116618Z"
    },
    "papermill": {
     "duration": 0.040819,
     "end_time": "2022-06-02T00:48:34.116746",
     "exception": false,
     "start_time": "2022-06-02T00:48:34.075927",
     "status": "completed"
    },
    "tags": []
   },
   "outputs": [],
   "source": [
    "#hide\n",
    "def get_frame(name):\n",
    "    url = (\n",
    "        'https://raw.githubusercontent.com/CSSEGISandData/COVID-19/master/csse_covid_19_data/'\n",
    "        f'csse_covid_19_time_series/time_series_covid19_{name}_global.csv')\n",
    "    df = pd.read_csv(url)\n",
    "    # rename countries\n",
    "    df['Country/Region'] = df['Country/Region'].replace(mapping['replace.country'])\n",
    "    return df"
   ]
  },
  {
   "cell_type": "code",
   "execution_count": 8,
   "id": "affiliated-characterization",
   "metadata": {
    "execution": {
     "iopub.execute_input": "2022-06-02T00:48:34.193418Z",
     "iopub.status.busy": "2022-06-02T00:48:34.192673Z",
     "iopub.status.idle": "2022-06-02T00:48:34.195651Z",
     "shell.execute_reply": "2022-06-02T00:48:34.195043Z"
    },
    "papermill": {
     "duration": 0.044903,
     "end_time": "2022-06-02T00:48:34.195782",
     "exception": false,
     "start_time": "2022-06-02T00:48:34.150879",
     "status": "completed"
    },
    "tags": []
   },
   "outputs": [],
   "source": [
    "#hide\n",
    "def get_dates(df):\n",
    "    dt_cols = df.columns[~df.columns.isin(['Province/State', 'Country/Region', 'Lat', 'Long'])]\n",
    "    LAST_DATE_I = -1\n",
    "    # sometimes last column may be empty, then go backwards\n",
    "    for i in range(-1, -len(dt_cols), -1):\n",
    "        if not df[dt_cols[i]].fillna(0).eq(0).all():\n",
    "            LAST_DATE_I = i\n",
    "            break\n",
    "    return LAST_DATE_I, dt_cols"
   ]
  },
  {
   "cell_type": "code",
   "execution_count": 9,
   "id": "recent-optimization",
   "metadata": {
    "execution": {
     "iopub.execute_input": "2022-06-02T00:48:34.270593Z",
     "iopub.status.busy": "2022-06-02T00:48:34.269900Z",
     "iopub.status.idle": "2022-06-02T00:48:34.684139Z",
     "shell.execute_reply": "2022-06-02T00:48:34.683464Z"
    },
    "papermill": {
     "duration": 0.452939,
     "end_time": "2022-06-02T00:48:34.684276",
     "exception": false,
     "start_time": "2022-06-02T00:48:34.231337",
     "status": "completed"
    },
    "tags": []
   },
   "outputs": [],
   "source": [
    "#hide\n",
    "COL_REGION = 'Country/Region'\n",
    "# Confirmed, Recovered, Deaths\n",
    "df = get_frame('confirmed')\n",
    "# dft_: timeseries, dfc_: today country agg\n",
    "dft_cases = df\n",
    "dft_deaths = get_frame('deaths')\n",
    "dft_recovered = get_frame('recovered')\n",
    "LAST_DATE_I, dt_cols = get_dates(df)"
   ]
  },
  {
   "cell_type": "code",
   "execution_count": 10,
   "id": "absolute-copper",
   "metadata": {
    "execution": {
     "iopub.execute_input": "2022-06-02T00:48:34.757102Z",
     "iopub.status.busy": "2022-06-02T00:48:34.756325Z",
     "iopub.status.idle": "2022-06-02T00:48:34.761163Z",
     "shell.execute_reply": "2022-06-02T00:48:34.760530Z"
    },
    "papermill": {
     "duration": 0.04319,
     "end_time": "2022-06-02T00:48:34.761292",
     "exception": false,
     "start_time": "2022-06-02T00:48:34.718102",
     "status": "completed"
    },
    "tags": []
   },
   "outputs": [],
   "source": [
    "#hide\n",
    "LAST_DATE_I, dt_cols = get_dates(df)\n",
    "dt_today =dt_cols[LAST_DATE_I]\n",
    "# dt_5day = dt_cols[LAST_DATE_I - 5]\n",
    "dt_yday = dt_cols[LAST_DATE_I - 1]"
   ]
  },
  {
   "cell_type": "code",
   "execution_count": 11,
   "id": "restricted-sheriff",
   "metadata": {
    "execution": {
     "iopub.execute_input": "2022-06-02T00:48:34.841387Z",
     "iopub.status.busy": "2022-06-02T00:48:34.837939Z",
     "iopub.status.idle": "2022-06-02T00:48:34.846381Z",
     "shell.execute_reply": "2022-06-02T00:48:34.845776Z"
    },
    "papermill": {
     "duration": 0.052207,
     "end_time": "2022-06-02T00:48:34.846507",
     "exception": false,
     "start_time": "2022-06-02T00:48:34.794300",
     "status": "completed"
    },
    "tags": []
   },
   "outputs": [],
   "source": [
    "#hide\n",
    "dfc_cases = dft_cases.groupby(COL_REGION)[dt_today].sum()\n",
    "dfc_deaths = dft_deaths.groupby(COL_REGION)[dt_today].sum()\n",
    "# dfp_cases = dft_cases.groupby(COL_REGION)[dt_5day].sum()\n",
    "# dfp_deaths = dft_deaths.groupby(COL_REGION)[dt_5day].sum()\n",
    "dfp_cases = dft_cases.groupby(COL_REGION)[dt_yday].sum()\n",
    "dfp_deaths = dft_deaths.groupby(COL_REGION)[dt_yday].sum()"
   ]
  },
  {
   "cell_type": "code",
   "execution_count": 12,
   "id": "deluxe-hepatitis",
   "metadata": {
    "execution": {
     "iopub.execute_input": "2022-06-02T00:48:34.922342Z",
     "iopub.status.busy": "2022-06-02T00:48:34.921641Z",
     "iopub.status.idle": "2022-06-02T00:48:34.926110Z",
     "shell.execute_reply": "2022-06-02T00:48:34.926735Z"
    },
    "papermill": {
     "duration": 0.045418,
     "end_time": "2022-06-02T00:48:34.926858",
     "exception": false,
     "start_time": "2022-06-02T00:48:34.881440",
     "status": "completed"
    },
    "tags": []
   },
   "outputs": [],
   "source": [
    "#hide\n",
    "df_table = (pd.DataFrame(dict(Cases = dfc_cases, Deaths = dfc_deaths, PCases = dfp_cases, PDeaths = dfp_deaths))\n",
    "            .sort_values(by = ['Cases','Deaths'], ascending = [False, False])\n",
    "            .reset_index())"
   ]
  },
  {
   "cell_type": "code",
   "execution_count": 13,
   "id": "educational-chancellor",
   "metadata": {
    "execution": {
     "iopub.execute_input": "2022-06-02T00:48:35.017242Z",
     "iopub.status.busy": "2022-06-02T00:48:35.016596Z",
     "iopub.status.idle": "2022-06-02T00:48:35.026081Z",
     "shell.execute_reply": "2022-06-02T00:48:35.025521Z"
    },
    "papermill": {
     "duration": 0.065255,
     "end_time": "2022-06-02T00:48:35.026196",
     "exception": false,
     "start_time": "2022-06-02T00:48:34.960941",
     "status": "completed"
    },
    "tags": []
   },
   "outputs": [
    {
     "data": {
      "text/html": [
       "<div>\n",
       "<style scoped>\n",
       "    .dataframe tbody tr th:only-of-type {\n",
       "        vertical-align: middle;\n",
       "    }\n",
       "\n",
       "    .dataframe tbody tr th {\n",
       "        vertical-align: top;\n",
       "    }\n",
       "\n",
       "    .dataframe thead th {\n",
       "        text-align: right;\n",
       "    }\n",
       "</style>\n",
       "<table border=\"1\" class=\"dataframe\">\n",
       "  <thead>\n",
       "    <tr style=\"text-align: right;\">\n",
       "      <th></th>\n",
       "      <th>Country/Region</th>\n",
       "      <th>Cases</th>\n",
       "      <th>Deaths</th>\n",
       "      <th>PCases</th>\n",
       "      <th>PDeaths</th>\n",
       "      <th>Cases (+)</th>\n",
       "      <th>Deaths (+)</th>\n",
       "      <th>Fatality Rate</th>\n",
       "      <th>Continent</th>\n",
       "    </tr>\n",
       "  </thead>\n",
       "  <tbody>\n",
       "    <tr>\n",
       "      <th>0</th>\n",
       "      <td>US</td>\n",
       "      <td>84210815</td>\n",
       "      <td>1007032</td>\n",
       "      <td>84012412</td>\n",
       "      <td>1006648</td>\n",
       "      <td>198403</td>\n",
       "      <td>384</td>\n",
       "      <td>1.20</td>\n",
       "      <td>North America</td>\n",
       "    </tr>\n",
       "    <tr>\n",
       "      <th>1</th>\n",
       "      <td>India</td>\n",
       "      <td>43160832</td>\n",
       "      <td>524636</td>\n",
       "      <td>43158087</td>\n",
       "      <td>524630</td>\n",
       "      <td>2745</td>\n",
       "      <td>6</td>\n",
       "      <td>1.22</td>\n",
       "      <td>Asia</td>\n",
       "    </tr>\n",
       "    <tr>\n",
       "      <th>2</th>\n",
       "      <td>Brazil</td>\n",
       "      <td>31019038</td>\n",
       "      <td>666676</td>\n",
       "      <td>30977661</td>\n",
       "      <td>666516</td>\n",
       "      <td>41377</td>\n",
       "      <td>160</td>\n",
       "      <td>2.15</td>\n",
       "      <td>South America</td>\n",
       "    </tr>\n",
       "    <tr>\n",
       "      <th>3</th>\n",
       "      <td>France</td>\n",
       "      <td>29711870</td>\n",
       "      <td>149366</td>\n",
       "      <td>29676522</td>\n",
       "      <td>149290</td>\n",
       "      <td>35348</td>\n",
       "      <td>76</td>\n",
       "      <td>0.50</td>\n",
       "      <td>Europe</td>\n",
       "    </tr>\n",
       "    <tr>\n",
       "      <th>4</th>\n",
       "      <td>Germany</td>\n",
       "      <td>26360953</td>\n",
       "      <td>139091</td>\n",
       "      <td>26305996</td>\n",
       "      <td>139000</td>\n",
       "      <td>54957</td>\n",
       "      <td>91</td>\n",
       "      <td>0.53</td>\n",
       "      <td>Europe</td>\n",
       "    </tr>\n",
       "  </tbody>\n",
       "</table>\n",
       "</div>"
      ],
      "text/plain": [
       "  Country/Region     Cases   Deaths    PCases  PDeaths  Cases (+)  Deaths (+)  \\\n",
       "0             US  84210815  1007032  84012412  1006648     198403         384   \n",
       "1          India  43160832   524636  43158087   524630       2745           6   \n",
       "2         Brazil  31019038   666676  30977661   666516      41377         160   \n",
       "3         France  29711870   149366  29676522   149290      35348          76   \n",
       "4        Germany  26360953   139091  26305996   139000      54957          91   \n",
       "\n",
       "   Fatality Rate      Continent  \n",
       "0           1.20  North America  \n",
       "1           1.22           Asia  \n",
       "2           2.15  South America  \n",
       "3           0.50         Europe  \n",
       "4           0.53         Europe  "
      ]
     },
     "execution_count": 13,
     "metadata": {},
     "output_type": "execute_result"
    }
   ],
   "source": [
    "#hide\n",
    "for c in 'Cases, Deaths'.split(', '):\n",
    "    df_table[f'{c} (+)'] = (df_table[c] - df_table[f'P{c}']).clip(0)\n",
    "    #Clip ça veut dire, les chiffres negatif sont interdit\n",
    "df_table['Fatality Rate'] = (100* df_table['Deaths']/ df_table['Cases']).round(2)\n",
    "df_table['Continent'] = df_table['Country/Region'].map(mapping['map.continent'])\n",
    "df_table.head(5)"
   ]
  },
  {
   "cell_type": "code",
   "execution_count": 14,
   "id": "aboriginal-bulgaria",
   "metadata": {
    "execution": {
     "iopub.execute_input": "2022-06-02T00:48:35.103366Z",
     "iopub.status.busy": "2022-06-02T00:48:35.102666Z",
     "iopub.status.idle": "2022-06-02T00:48:35.106170Z",
     "shell.execute_reply": "2022-06-02T00:48:35.106713Z"
    },
    "papermill": {
     "duration": 0.046582,
     "end_time": "2022-06-02T00:48:35.106852",
     "exception": false,
     "start_time": "2022-06-02T00:48:35.060270",
     "status": "completed"
    },
    "tags": []
   },
   "outputs": [],
   "source": [
    "#hide\n",
    "#delete problematic countries from table\n",
    "df_table = df_table[~df_table['Country/Region'].isin(['Cape Verde', 'Cruise Ship', 'Kosovo'])]"
   ]
  },
  {
   "cell_type": "code",
   "execution_count": 15,
   "id": "fantastic-effect",
   "metadata": {
    "execution": {
     "iopub.execute_input": "2022-06-02T00:48:35.185115Z",
     "iopub.status.busy": "2022-06-02T00:48:35.184447Z",
     "iopub.status.idle": "2022-06-02T00:48:35.204850Z",
     "shell.execute_reply": "2022-06-02T00:48:35.205392Z"
    },
    "papermill": {
     "duration": 0.064191,
     "end_time": "2022-06-02T00:48:35.205526",
     "exception": false,
     "start_time": "2022-06-02T00:48:35.141335",
     "status": "completed"
    },
    "tags": []
   },
   "outputs": [
    {
     "data": {
      "text/html": [
       "<div>\n",
       "<style scoped>\n",
       "    .dataframe tbody tr th:only-of-type {\n",
       "        vertical-align: middle;\n",
       "    }\n",
       "\n",
       "    .dataframe tbody tr th {\n",
       "        vertical-align: top;\n",
       "    }\n",
       "\n",
       "    .dataframe thead th {\n",
       "        text-align: right;\n",
       "    }\n",
       "</style>\n",
       "<table border=\"1\" class=\"dataframe\">\n",
       "  <thead>\n",
       "    <tr style=\"text-align: right;\">\n",
       "      <th></th>\n",
       "      <th>Country/Region</th>\n",
       "      <th>Cases</th>\n",
       "      <th>Deaths</th>\n",
       "      <th>PCases</th>\n",
       "      <th>PDeaths</th>\n",
       "      <th>Cases (+)</th>\n",
       "      <th>Deaths (+)</th>\n",
       "      <th>Fatality Rate</th>\n",
       "      <th>Continent</th>\n",
       "    </tr>\n",
       "  </thead>\n",
       "  <tbody>\n",
       "    <tr>\n",
       "      <th>0</th>\n",
       "      <td>US</td>\n",
       "      <td>84210815</td>\n",
       "      <td>1007032</td>\n",
       "      <td>84012412</td>\n",
       "      <td>1006648</td>\n",
       "      <td>198403</td>\n",
       "      <td>384</td>\n",
       "      <td>1.2</td>\n",
       "      <td>North America</td>\n",
       "    </tr>\n",
       "    <tr>\n",
       "      <th>1</th>\n",
       "      <td>India</td>\n",
       "      <td>43160832</td>\n",
       "      <td>524636</td>\n",
       "      <td>43158087</td>\n",
       "      <td>524630</td>\n",
       "      <td>2745</td>\n",
       "      <td>6</td>\n",
       "      <td>1.2</td>\n",
       "      <td>Asia</td>\n",
       "    </tr>\n",
       "    <tr>\n",
       "      <th>2</th>\n",
       "      <td>Brazil</td>\n",
       "      <td>31019038</td>\n",
       "      <td>666676</td>\n",
       "      <td>30977661</td>\n",
       "      <td>666516</td>\n",
       "      <td>41377</td>\n",
       "      <td>160</td>\n",
       "      <td>2.1</td>\n",
       "      <td>South America</td>\n",
       "    </tr>\n",
       "    <tr>\n",
       "      <th>3</th>\n",
       "      <td>France</td>\n",
       "      <td>29711870</td>\n",
       "      <td>149366</td>\n",
       "      <td>29676522</td>\n",
       "      <td>149290</td>\n",
       "      <td>35348</td>\n",
       "      <td>76</td>\n",
       "      <td>0.5</td>\n",
       "      <td>Europe</td>\n",
       "    </tr>\n",
       "    <tr>\n",
       "      <th>4</th>\n",
       "      <td>Germany</td>\n",
       "      <td>26360953</td>\n",
       "      <td>139091</td>\n",
       "      <td>26305996</td>\n",
       "      <td>139000</td>\n",
       "      <td>54957</td>\n",
       "      <td>91</td>\n",
       "      <td>0.5</td>\n",
       "      <td>Europe</td>\n",
       "    </tr>\n",
       "  </tbody>\n",
       "</table>\n",
       "</div>"
      ],
      "text/plain": [
       "  Country/Region     Cases   Deaths    PCases  PDeaths  Cases (+)  Deaths (+)  \\\n",
       "0             US  84210815  1007032  84012412  1006648     198403         384   \n",
       "1          India  43160832   524636  43158087   524630       2745           6   \n",
       "2         Brazil  31019038   666676  30977661   666516      41377         160   \n",
       "3         France  29711870   149366  29676522   149290      35348          76   \n",
       "4        Germany  26360953   139091  26305996   139000      54957          91   \n",
       "\n",
       "   Fatality Rate      Continent  \n",
       "0            1.2  North America  \n",
       "1            1.2           Asia  \n",
       "2            2.1  South America  \n",
       "3            0.5         Europe  \n",
       "4            0.5         Europe  "
      ]
     },
     "execution_count": 15,
     "metadata": {},
     "output_type": "execute_result"
    }
   ],
   "source": [
    "#hide\n",
    "df_table = (pd.DataFrame(dict(Cases=dfc_cases, Deaths=dfc_deaths, PCases=dfp_cases, PDeaths=dfp_deaths))\n",
    "             .sort_values(by=['Cases', 'Deaths'], ascending=[False, False])\n",
    "             .reset_index())\n",
    "df_table.rename(columns={'index': 'Country/Region'}, inplace=True)\n",
    "for c in 'Cases, Deaths'.split(', '):\n",
    "    df_table[f'{c} (+)'] = (df_table[c] - df_table[f'P{c}']).clip(0)  # DATA BUG\n",
    "df_table['Fatality Rate'] = (100 * df_table['Deaths'] / df_table['Cases']).round(1)\n",
    "df_table['Continent'] = df_table['Country/Region'].map(mapping['map.continent'])\n",
    "df_table.head(5)"
   ]
  },
  {
   "cell_type": "code",
   "execution_count": 16,
   "id": "fewer-occasion",
   "metadata": {
    "execution": {
     "iopub.execute_input": "2022-06-02T00:48:35.280614Z",
     "iopub.status.busy": "2022-06-02T00:48:35.279929Z",
     "iopub.status.idle": "2022-06-02T00:48:35.284323Z",
     "shell.execute_reply": "2022-06-02T00:48:35.283788Z"
    },
    "papermill": {
     "duration": 0.042687,
     "end_time": "2022-06-02T00:48:35.284433",
     "exception": false,
     "start_time": "2022-06-02T00:48:35.241746",
     "status": "completed"
    },
    "tags": []
   },
   "outputs": [],
   "source": [
    "#hide\n",
    "#delete problematic countries from table\n",
    "df_table = df_table[~df_table['Country/Region'].isin(['Cape Verde', 'Cruise Ship', 'Kosovo'])]"
   ]
  },
  {
   "cell_type": "code",
   "execution_count": 17,
   "id": "related-center",
   "metadata": {
    "execution": {
     "iopub.execute_input": "2022-06-02T00:48:35.376946Z",
     "iopub.status.busy": "2022-06-02T00:48:35.376270Z",
     "iopub.status.idle": "2022-06-02T00:48:35.378926Z",
     "shell.execute_reply": "2022-06-02T00:48:35.379439Z"
    },
    "papermill": {
     "duration": 0.058734,
     "end_time": "2022-06-02T00:48:35.379602",
     "exception": false,
     "start_time": "2022-06-02T00:48:35.320868",
     "status": "completed"
    },
    "tags": []
   },
   "outputs": [],
   "source": [
    "#hide\n",
    "metrics = [df_table.columns[index] for index in [1,2,5,6]]\n",
    "# s_china = df_table[df_table['Country/Region'].eq('China')][metrics].sum().add_prefix('China ')\n",
    "s_us = df_table[df_table['Country/Region'].eq('US')][metrics].sum().add_prefix('US ')\n",
    "s_eu = df_table[df_table['Continent'].eq('Europe')][metrics].sum().add_prefix('EU ')\n",
    "s_ind = df_table[df_table['Country/Region'].eq('India')][metrics].sum().add_prefix('India ')\n",
    "summary = {'updated': pd.to_datetime(dt_today), 'since': pd.to_datetime(dt_yday)}\n",
    "summary = {'updated': pd.to_datetime(dt_today), 'since': pd.to_datetime(dt_yday)}\n",
    "summary = {**summary, **df_table[metrics].sum(), **s_ind, **s_us, **s_eu}"
   ]
  },
  {
   "cell_type": "code",
   "execution_count": 18,
   "id": "engaging-syndrome",
   "metadata": {
    "execution": {
     "iopub.execute_input": "2022-06-02T00:48:35.454357Z",
     "iopub.status.busy": "2022-06-02T00:48:35.453578Z",
     "iopub.status.idle": "2022-06-02T00:48:35.472270Z",
     "shell.execute_reply": "2022-06-02T00:48:35.472840Z"
    },
    "papermill": {
     "duration": 0.058323,
     "end_time": "2022-06-02T00:48:35.472995",
     "exception": false,
     "start_time": "2022-06-02T00:48:35.414672",
     "status": "completed"
    },
    "tags": []
   },
   "outputs": [],
   "source": [
    "#hide\n",
    "dft_ct_new_cases = dft_cases.groupby(COL_REGION)[dt_cols].sum().diff(axis=1).fillna(0).astype(int)"
   ]
  },
  {
   "cell_type": "code",
   "execution_count": 19,
   "id": "neutral-assignment",
   "metadata": {
    "execution": {
     "iopub.execute_input": "2022-06-02T00:48:35.557314Z",
     "iopub.status.busy": "2022-06-02T00:48:35.556489Z",
     "iopub.status.idle": "2022-06-02T00:48:35.559237Z",
     "shell.execute_reply": "2022-06-02T00:48:35.559772Z"
    },
    "papermill": {
     "duration": 0.050625,
     "end_time": "2022-06-02T00:48:35.559908",
     "exception": false,
     "start_time": "2022-06-02T00:48:35.509283",
     "status": "completed"
    },
    "tags": []
   },
   "outputs": [],
   "source": [
    "#hide\n",
    "everydaycases = dft_ct_new_cases.cumsum(axis=1)"
   ]
  },
  {
   "cell_type": "code",
   "execution_count": 20,
   "id": "parliamentary-calgary",
   "metadata": {
    "execution": {
     "iopub.execute_input": "2022-06-02T00:48:35.634234Z",
     "iopub.status.busy": "2022-06-02T00:48:35.633587Z",
     "iopub.status.idle": "2022-06-02T00:48:36.225892Z",
     "shell.execute_reply": "2022-06-02T00:48:36.226500Z"
    },
    "papermill": {
     "duration": 0.631648,
     "end_time": "2022-06-02T00:48:36.226707",
     "exception": false,
     "start_time": "2022-06-02T00:48:35.595059",
     "status": "completed"
    },
    "tags": []
   },
   "outputs": [],
   "source": [
    "#hide\n",
    "import pandas as pd\n",
    "import matplotlib.pyplot as plt\n",
    "import matplotlib.ticker as ticker\n",
    "import matplotlib.animation as animation\n",
    "from IPython.display import HTML"
   ]
  },
  {
   "cell_type": "code",
   "execution_count": 21,
   "id": "lasting-extraction",
   "metadata": {
    "execution": {
     "iopub.execute_input": "2022-06-02T00:48:36.305810Z",
     "iopub.status.busy": "2022-06-02T00:48:36.305132Z",
     "iopub.status.idle": "2022-06-02T00:48:36.314164Z",
     "shell.execute_reply": "2022-06-02T00:48:36.313617Z"
    },
    "papermill": {
     "duration": 0.049697,
     "end_time": "2022-06-02T00:48:36.314284",
     "exception": false,
     "start_time": "2022-06-02T00:48:36.264587",
     "status": "completed"
    },
    "tags": []
   },
   "outputs": [],
   "source": [
    "#hide\n",
    "t = everydaycases.stack()"
   ]
  },
  {
   "cell_type": "code",
   "execution_count": 22,
   "id": "premier-sleeve",
   "metadata": {
    "execution": {
     "iopub.execute_input": "2022-06-02T00:48:36.389357Z",
     "iopub.status.busy": "2022-06-02T00:48:36.388713Z",
     "iopub.status.idle": "2022-06-02T00:48:36.403061Z",
     "shell.execute_reply": "2022-06-02T00:48:36.402483Z"
    },
    "papermill": {
     "duration": 0.053317,
     "end_time": "2022-06-02T00:48:36.403198",
     "exception": false,
     "start_time": "2022-06-02T00:48:36.349881",
     "status": "completed"
    },
    "tags": []
   },
   "outputs": [],
   "source": [
    "#hide\n",
    "g = t.reset_index(['Country/Region'])"
   ]
  },
  {
   "cell_type": "code",
   "execution_count": 23,
   "id": "distributed-pittsburgh",
   "metadata": {
    "execution": {
     "iopub.execute_input": "2022-06-02T00:48:36.483005Z",
     "iopub.status.busy": "2022-06-02T00:48:36.482360Z",
     "iopub.status.idle": "2022-06-02T00:48:36.484814Z",
     "shell.execute_reply": "2022-06-02T00:48:36.485303Z"
    },
    "papermill": {
     "duration": 0.041776,
     "end_time": "2022-06-02T00:48:36.485434",
     "exception": false,
     "start_time": "2022-06-02T00:48:36.443658",
     "status": "completed"
    },
    "tags": []
   },
   "outputs": [],
   "source": [
    "#hide\n",
    "g.index.name = 'date'"
   ]
  },
  {
   "cell_type": "code",
   "execution_count": 24,
   "id": "naked-donor",
   "metadata": {
    "execution": {
     "iopub.execute_input": "2022-06-02T00:48:36.559153Z",
     "iopub.status.busy": "2022-06-02T00:48:36.558505Z",
     "iopub.status.idle": "2022-06-02T00:48:36.561482Z",
     "shell.execute_reply": "2022-06-02T00:48:36.560951Z"
    },
    "papermill": {
     "duration": 0.041371,
     "end_time": "2022-06-02T00:48:36.561723",
     "exception": false,
     "start_time": "2022-06-02T00:48:36.520352",
     "status": "completed"
    },
    "tags": []
   },
   "outputs": [],
   "source": [
    "# #hide\n",
    "# g = g.reset_index(['date'])"
   ]
  },
  {
   "cell_type": "code",
   "execution_count": 25,
   "id": "incomplete-mustang",
   "metadata": {
    "execution": {
     "iopub.execute_input": "2022-06-02T00:48:36.636418Z",
     "iopub.status.busy": "2022-06-02T00:48:36.635772Z",
     "iopub.status.idle": "2022-06-02T00:48:36.638540Z",
     "shell.execute_reply": "2022-06-02T00:48:36.638021Z"
    },
    "papermill": {
     "duration": 0.041063,
     "end_time": "2022-06-02T00:48:36.638654",
     "exception": false,
     "start_time": "2022-06-02T00:48:36.597591",
     "status": "completed"
    },
    "tags": []
   },
   "outputs": [],
   "source": [
    "#hide\n",
    "# g.head()"
   ]
  },
  {
   "cell_type": "code",
   "execution_count": 26,
   "id": "specific-kruger",
   "metadata": {
    "execution": {
     "iopub.execute_input": "2022-06-02T00:48:36.712516Z",
     "iopub.status.busy": "2022-06-02T00:48:36.711860Z",
     "iopub.status.idle": "2022-06-02T00:48:36.714746Z",
     "shell.execute_reply": "2022-06-02T00:48:36.714069Z"
    },
    "papermill": {
     "duration": 0.040189,
     "end_time": "2022-06-02T00:48:36.714860",
     "exception": false,
     "start_time": "2022-06-02T00:48:36.674671",
     "status": "completed"
    },
    "tags": []
   },
   "outputs": [],
   "source": [
    "#hide\n",
    "# g.columns = ['date','country','cases']"
   ]
  },
  {
   "cell_type": "code",
   "execution_count": 27,
   "id": "tender-conversion",
   "metadata": {
    "execution": {
     "iopub.execute_input": "2022-06-02T00:48:36.788610Z",
     "iopub.status.busy": "2022-06-02T00:48:36.787968Z",
     "iopub.status.idle": "2022-06-02T00:48:36.790394Z",
     "shell.execute_reply": "2022-06-02T00:48:36.790903Z"
    },
    "papermill": {
     "duration": 0.041119,
     "end_time": "2022-06-02T00:48:36.791027",
     "exception": false,
     "start_time": "2022-06-02T00:48:36.749908",
     "status": "completed"
    },
    "tags": []
   },
   "outputs": [],
   "source": [
    "#hide\n",
    "# g['continent'] = g.country"
   ]
  },
  {
   "cell_type": "code",
   "execution_count": 28,
   "id": "substantial-wilderness",
   "metadata": {
    "execution": {
     "iopub.execute_input": "2022-06-02T00:48:36.866391Z",
     "iopub.status.busy": "2022-06-02T00:48:36.865699Z",
     "iopub.status.idle": "2022-06-02T00:48:36.868282Z",
     "shell.execute_reply": "2022-06-02T00:48:36.868845Z"
    },
    "papermill": {
     "duration": 0.042619,
     "end_time": "2022-06-02T00:48:36.868987",
     "exception": false,
     "start_time": "2022-06-02T00:48:36.826368",
     "status": "completed"
    },
    "tags": []
   },
   "outputs": [],
   "source": [
    "#hide\n",
    "# cols = list(g.columns.values)"
   ]
  },
  {
   "cell_type": "code",
   "execution_count": 29,
   "id": "solved-farming",
   "metadata": {
    "execution": {
     "iopub.execute_input": "2022-06-02T00:48:36.944788Z",
     "iopub.status.busy": "2022-06-02T00:48:36.944030Z",
     "iopub.status.idle": "2022-06-02T00:48:36.946717Z",
     "shell.execute_reply": "2022-06-02T00:48:36.947204Z"
    },
    "papermill": {
     "duration": 0.042532,
     "end_time": "2022-06-02T00:48:36.947329",
     "exception": false,
     "start_time": "2022-06-02T00:48:36.904797",
     "status": "completed"
    },
    "tags": []
   },
   "outputs": [],
   "source": [
    "#hide\n",
    "# cols.insert(0, cols.pop())"
   ]
  },
  {
   "cell_type": "code",
   "execution_count": 30,
   "id": "executed-adoption",
   "metadata": {
    "execution": {
     "iopub.execute_input": "2022-06-02T00:48:37.025303Z",
     "iopub.status.busy": "2022-06-02T00:48:37.024516Z",
     "iopub.status.idle": "2022-06-02T00:48:37.027745Z",
     "shell.execute_reply": "2022-06-02T00:48:37.027175Z"
    },
    "papermill": {
     "duration": 0.042766,
     "end_time": "2022-06-02T00:48:37.027863",
     "exception": false,
     "start_time": "2022-06-02T00:48:36.985097",
     "status": "completed"
    },
    "tags": []
   },
   "outputs": [],
   "source": [
    "#hide\n",
    "# g = g[cols]"
   ]
  },
  {
   "cell_type": "code",
   "execution_count": 31,
   "id": "subject-dublin",
   "metadata": {
    "execution": {
     "iopub.execute_input": "2022-06-02T00:48:37.104466Z",
     "iopub.status.busy": "2022-06-02T00:48:37.103769Z",
     "iopub.status.idle": "2022-06-02T00:48:37.106954Z",
     "shell.execute_reply": "2022-06-02T00:48:37.106254Z"
    },
    "papermill": {
     "duration": 0.044038,
     "end_time": "2022-06-02T00:48:37.107094",
     "exception": false,
     "start_time": "2022-06-02T00:48:37.063056",
     "status": "completed"
    },
    "tags": []
   },
   "outputs": [],
   "source": [
    "#hide\n",
    "# g['continent'] = g['continent'].map(mapping['map.continent'])"
   ]
  },
  {
   "cell_type": "code",
   "execution_count": 32,
   "id": "freelance-scout",
   "metadata": {
    "execution": {
     "iopub.execute_input": "2022-06-02T00:48:37.179645Z",
     "iopub.status.busy": "2022-06-02T00:48:37.178950Z",
     "iopub.status.idle": "2022-06-02T00:48:37.181976Z",
     "shell.execute_reply": "2022-06-02T00:48:37.181432Z"
    },
    "papermill": {
     "duration": 0.040183,
     "end_time": "2022-06-02T00:48:37.182094",
     "exception": false,
     "start_time": "2022-06-02T00:48:37.141911",
     "status": "completed"
    },
    "tags": []
   },
   "outputs": [],
   "source": [
    "#hide\n",
    "# g.head()"
   ]
  },
  {
   "cell_type": "code",
   "execution_count": 33,
   "id": "limited-engine",
   "metadata": {
    "execution": {
     "iopub.execute_input": "2022-06-02T00:48:37.255580Z",
     "iopub.status.busy": "2022-06-02T00:48:37.254907Z",
     "iopub.status.idle": "2022-06-02T00:48:37.257957Z",
     "shell.execute_reply": "2022-06-02T00:48:37.257427Z"
    },
    "papermill": {
     "duration": 0.040815,
     "end_time": "2022-06-02T00:48:37.258065",
     "exception": false,
     "start_time": "2022-06-02T00:48:37.217250",
     "status": "completed"
    },
    "tags": []
   },
   "outputs": [],
   "source": [
    "# hide\n",
    "# g['date'] = g['date'].astype('datetime64[ns]')"
   ]
  },
  {
   "cell_type": "code",
   "execution_count": 34,
   "id": "sophisticated-supervisor",
   "metadata": {
    "execution": {
     "iopub.execute_input": "2022-06-02T00:48:37.336859Z",
     "iopub.status.busy": "2022-06-02T00:48:37.336120Z",
     "iopub.status.idle": "2022-06-02T00:48:37.338647Z",
     "shell.execute_reply": "2022-06-02T00:48:37.339185Z"
    },
    "papermill": {
     "duration": 0.044336,
     "end_time": "2022-06-02T00:48:37.339336",
     "exception": false,
     "start_time": "2022-06-02T00:48:37.295000",
     "status": "completed"
    },
    "tags": []
   },
   "outputs": [],
   "source": [
    "#hide\n",
    "# g['date'] = g.date.dt.dayofyear"
   ]
  },
  {
   "cell_type": "code",
   "execution_count": 35,
   "id": "inside-dubai",
   "metadata": {
    "execution": {
     "iopub.execute_input": "2022-06-02T00:48:37.417313Z",
     "iopub.status.busy": "2022-06-02T00:48:37.416670Z",
     "iopub.status.idle": "2022-06-02T00:48:37.418995Z",
     "shell.execute_reply": "2022-06-02T00:48:37.419480Z"
    },
    "papermill": {
     "duration": 0.04284,
     "end_time": "2022-06-02T00:48:37.419637",
     "exception": false,
     "start_time": "2022-06-02T00:48:37.376797",
     "status": "completed"
    },
    "tags": []
   },
   "outputs": [],
   "source": [
    "#hide\n",
    "# g = g.rename(columns= {'continent':'group','country':'name','cases':'value'})"
   ]
  },
  {
   "cell_type": "code",
   "execution_count": 36,
   "id": "fleet-motorcycle",
   "metadata": {
    "execution": {
     "iopub.execute_input": "2022-06-02T00:48:37.492023Z",
     "iopub.status.busy": "2022-06-02T00:48:37.491334Z",
     "iopub.status.idle": "2022-06-02T00:48:37.494467Z",
     "shell.execute_reply": "2022-06-02T00:48:37.493930Z"
    },
    "papermill": {
     "duration": 0.040137,
     "end_time": "2022-06-02T00:48:37.494580",
     "exception": false,
     "start_time": "2022-06-02T00:48:37.454443",
     "status": "completed"
    },
    "tags": []
   },
   "outputs": [],
   "source": [
    "#hide\n",
    "# cols = ['name','group','day','value']"
   ]
  },
  {
   "cell_type": "code",
   "execution_count": 37,
   "id": "continued-sleeping",
   "metadata": {
    "execution": {
     "iopub.execute_input": "2022-06-02T00:48:37.569818Z",
     "iopub.status.busy": "2022-06-02T00:48:37.569100Z",
     "iopub.status.idle": "2022-06-02T00:48:37.572552Z",
     "shell.execute_reply": "2022-06-02T00:48:37.572040Z"
    },
    "papermill": {
     "duration": 0.042992,
     "end_time": "2022-06-02T00:48:37.572666",
     "exception": false,
     "start_time": "2022-06-02T00:48:37.529674",
     "status": "completed"
    },
    "tags": []
   },
   "outputs": [],
   "source": [
    "#hide\n",
    "# g.rename(columns= {'date':'day'},inplace = True)"
   ]
  },
  {
   "cell_type": "code",
   "execution_count": 38,
   "id": "major-fight",
   "metadata": {
    "execution": {
     "iopub.execute_input": "2022-06-02T00:48:37.648591Z",
     "iopub.status.busy": "2022-06-02T00:48:37.647941Z",
     "iopub.status.idle": "2022-06-02T00:48:37.651242Z",
     "shell.execute_reply": "2022-06-02T00:48:37.650730Z"
    },
    "papermill": {
     "duration": 0.041959,
     "end_time": "2022-06-02T00:48:37.651354",
     "exception": false,
     "start_time": "2022-06-02T00:48:37.609395",
     "status": "completed"
    },
    "tags": []
   },
   "outputs": [],
   "source": [
    "#hide\n",
    "# g = g[cols]"
   ]
  },
  {
   "cell_type": "code",
   "execution_count": 39,
   "id": "structured-mobile",
   "metadata": {
    "execution": {
     "iopub.execute_input": "2022-06-02T00:48:37.725461Z",
     "iopub.status.busy": "2022-06-02T00:48:37.724781Z",
     "iopub.status.idle": "2022-06-02T00:48:37.727712Z",
     "shell.execute_reply": "2022-06-02T00:48:37.728264Z"
    },
    "papermill": {
     "duration": 0.042194,
     "end_time": "2022-06-02T00:48:37.728398",
     "exception": false,
     "start_time": "2022-06-02T00:48:37.686204",
     "status": "completed"
    },
    "tags": []
   },
   "outputs": [],
   "source": [
    "# #hide\n",
    "# g = g[g.group.notna()]"
   ]
  },
  {
   "cell_type": "code",
   "execution_count": 40,
   "id": "determined-closing",
   "metadata": {
    "execution": {
     "iopub.execute_input": "2022-06-02T00:48:37.806998Z",
     "iopub.status.busy": "2022-06-02T00:48:37.806258Z",
     "iopub.status.idle": "2022-06-02T00:48:37.809459Z",
     "shell.execute_reply": "2022-06-02T00:48:37.808885Z"
    },
    "papermill": {
     "duration": 0.041532,
     "end_time": "2022-06-02T00:48:37.809585",
     "exception": false,
     "start_time": "2022-06-02T00:48:37.768053",
     "status": "completed"
    },
    "tags": []
   },
   "outputs": [],
   "source": [
    "# #hide\n",
    "# colors = dict(zip(\n",
    "#     [\"Oceania\", \"Europe\", \"Asia\", \"South America\", \"Middle East\", \"North America\", \"Africa\"],\n",
    "#     [\"#adb0ff\", \"#ffb3ff\", \"#90d595\", \"#e48381\", \"#aafbff\", \"#f7bb5f\", \"#eafb50\"]\n",
    "# ))\n",
    "# group_lk = g.set_index('name')['group'].to_dict()"
   ]
  },
  {
   "cell_type": "code",
   "execution_count": null,
   "id": "gross-drinking",
   "metadata": {
    "papermill": {
     "duration": 0.035782,
     "end_time": "2022-06-02T00:48:37.883643",
     "exception": false,
     "start_time": "2022-06-02T00:48:37.847861",
     "status": "completed"
    },
    "tags": []
   },
   "outputs": [],
   "source": []
  },
  {
   "cell_type": "code",
   "execution_count": 41,
   "id": "subject-macintosh",
   "metadata": {
    "execution": {
     "iopub.execute_input": "2022-06-02T00:48:37.958847Z",
     "iopub.status.busy": "2022-06-02T00:48:37.958158Z",
     "iopub.status.idle": "2022-06-02T00:48:37.960976Z",
     "shell.execute_reply": "2022-06-02T00:48:37.960443Z"
    },
    "papermill": {
     "duration": 0.042151,
     "end_time": "2022-06-02T00:48:37.961089",
     "exception": false,
     "start_time": "2022-06-02T00:48:37.918938",
     "status": "completed"
    },
    "tags": []
   },
   "outputs": [],
   "source": [
    "# #hide\n",
    "# fig, ax = plt.subplots(figsize=(15, 8))\n",
    "\n",
    "# def draw_barchart(current_day):\n",
    "#     dff = g[g['day'].eq(current_day)].sort_values(by='value', ascending=True).tail(10)\n",
    "#     ax.clear()\n",
    "#     ax.barh(dff['name'], dff['value'], color=[colors[group_lk[x]] for x in dff['name']])\n",
    "#     dx = dff['value'].max() / 200\n",
    "    \n",
    "#     for i, (value, name) in enumerate(zip(dff['value'], dff['name'])):\n",
    "#         ax.text(value-dx, i,     name,           size=14, weight=600, ha='right', va='bottom')\n",
    "#         ax.text(value-dx, i-.25, group_lk[name], size=10, color='#444444', ha='right', va='baseline')\n",
    "#         ax.text(value+dx, i,     f'{value:,.0f}',  size=14, ha='left',  va='center')\n",
    "#     ax.text(1, 0.4, current_day, transform=ax.transAxes, color='#777777', size=46, ha='right', weight=800)\n",
    "#     ax.text(0, 1.06, 'Population (thousands)', transform=ax.transAxes, size=12, color='#777777')\n",
    "#     ax.xaxis.set_major_formatter(ticker.StrMethodFormatter('{x:,.0f}'))\n",
    "#     ax.xaxis.set_ticks_position('top')\n",
    "#     ax.tick_params(axis='x', colors='#777777', labelsize=12)\n",
    "#     ax.set_yticks([])\n",
    "#     ax.margins(0, 0.01)\n",
    "#     ax.grid(which='major', axis='x', linestyle='-')\n",
    "#     ax.set_axisbelow(True)\n",
    "    \n",
    "#     ax.text(0, 1.15, 'Coronavirus',\n",
    "#             transform=ax.transAxes, size=24, weight=600, ha='left', va='top')\n",
    "# #     ax.text(1, 0, 'by @pratapvardhan; credit @jburnmurdoch', transform=ax.transAxes, color='#777777', ha='right',\n",
    "# #             bbox=dict(facecolor='white', alpha=0.8, edgecolor='white'))\n",
    "#     plt.box(False)"
   ]
  },
  {
   "cell_type": "code",
   "execution_count": 42,
   "id": "sexual-wages",
   "metadata": {
    "execution": {
     "iopub.execute_input": "2022-06-02T00:48:38.036634Z",
     "iopub.status.busy": "2022-06-02T00:48:38.035781Z",
     "iopub.status.idle": "2022-06-02T00:48:38.038530Z",
     "shell.execute_reply": "2022-06-02T00:48:38.037989Z"
    },
    "papermill": {
     "duration": 0.042655,
     "end_time": "2022-06-02T00:48:38.038645",
     "exception": false,
     "start_time": "2022-06-02T00:48:37.995990",
     "status": "completed"
    },
    "tags": []
   },
   "outputs": [],
   "source": [
    "# #hide_input\n",
    "# fig, ax = plt.subplots(figsize=(15, 8))\n",
    "# animator = animation.FuncAnimation(fig, draw_barchart, frames=range(g.day.values.min(), g.day.values.max()))\n",
    "# HTML(animator.to_jshtml())\n",
    "# # or use animator.to_html5_video() or animator.save() "
   ]
  },
  {
   "cell_type": "code",
   "execution_count": null,
   "id": "australian-container",
   "metadata": {
    "papermill": {
     "duration": 0.034909,
     "end_time": "2022-06-02T00:48:38.109017",
     "exception": false,
     "start_time": "2022-06-02T00:48:38.074108",
     "status": "completed"
    },
    "tags": []
   },
   "outputs": [],
   "source": []
  },
  {
   "cell_type": "code",
   "execution_count": null,
   "id": "mediterranean-pontiac",
   "metadata": {
    "papermill": {
     "duration": 0.034433,
     "end_time": "2022-06-02T00:48:38.180425",
     "exception": false,
     "start_time": "2022-06-02T00:48:38.145992",
     "status": "completed"
    },
    "tags": []
   },
   "outputs": [],
   "source": []
  },
  {
   "cell_type": "code",
   "execution_count": null,
   "id": "aging-legislature",
   "metadata": {
    "papermill": {
     "duration": 0.034682,
     "end_time": "2022-06-02T00:48:38.250078",
     "exception": false,
     "start_time": "2022-06-02T00:48:38.215396",
     "status": "completed"
    },
    "tags": []
   },
   "outputs": [],
   "source": []
  }
 ],
 "metadata": {
  "kernelspec": {
   "display_name": "Python 3",
   "language": "python",
   "name": "python3"
  },
  "language_info": {
   "codemirror_mode": {
    "name": "ipython",
    "version": 3
   },
   "file_extension": ".py",
   "mimetype": "text/x-python",
   "name": "python",
   "nbconvert_exporter": "python",
   "pygments_lexer": "ipython3",
   "version": "3.6.15"
  },
  "papermill": {
   "duration": 6.767293,
   "end_time": "2022-06-02T00:48:38.603146",
   "environment_variables": {},
   "exception": null,
   "input_path": "2020-03-21-covid19exp.ipynb",
   "output_path": "2020-03-21-covid19exp.ipynb",
   "parameters": {},
   "start_time": "2022-06-02T00:48:31.835853",
   "version": "2.0.0"
  }
 },
 "nbformat": 4,
 "nbformat_minor": 5
}