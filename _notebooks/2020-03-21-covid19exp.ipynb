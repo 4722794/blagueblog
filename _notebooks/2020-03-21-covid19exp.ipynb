{
 "cells": [
  {
   "cell_type": "markdown",
   "id": "muslim-click",
   "metadata": {
    "papermill": {
     "duration": 0.043091,
     "end_time": "2021-09-19T12:11:01.208983",
     "exception": false,
     "start_time": "2021-09-19T12:11:01.165892",
     "status": "completed"
    },
    "tags": []
   },
   "source": [
    "# COVID-19 Case Race\n",
    "> A race chart to see rising cases around the world\n",
    "\n",
    "- author: Hargun Oberoi\n",
    "- image: images/covid-overview.png\n",
    "- hide: false\n",
    "- badges: false"
   ]
  },
  {
   "cell_type": "code",
   "execution_count": 1,
   "id": "proof-material",
   "metadata": {
    "execution": {
     "iopub.execute_input": "2021-09-19T12:11:01.280746Z",
     "iopub.status.busy": "2021-09-19T12:11:01.280033Z",
     "iopub.status.idle": "2021-09-19T12:11:01.654419Z",
     "shell.execute_reply": "2021-09-19T12:11:01.655192Z"
    },
    "papermill": {
     "duration": 0.415727,
     "end_time": "2021-09-19T12:11:01.655398",
     "exception": false,
     "start_time": "2021-09-19T12:11:01.239671",
     "status": "completed"
    },
    "tags": []
   },
   "outputs": [],
   "source": [
    "#hide\n",
    "import numpy as np\n",
    "import pandas as pd\n",
    "from jinja2 import Template\n",
    "from IPython.display import HTML"
   ]
  },
  {
   "cell_type": "code",
   "execution_count": 2,
   "id": "developed-terminology",
   "metadata": {
    "execution": {
     "iopub.execute_input": "2021-09-19T12:11:01.731090Z",
     "iopub.status.busy": "2021-09-19T12:11:01.730461Z",
     "iopub.status.idle": "2021-09-19T12:11:01.733001Z",
     "shell.execute_reply": "2021-09-19T12:11:01.732431Z"
    },
    "papermill": {
     "duration": 0.043329,
     "end_time": "2021-09-19T12:11:01.733132",
     "exception": false,
     "start_time": "2021-09-19T12:11:01.689803",
     "status": "completed"
    },
    "tags": []
   },
   "outputs": [],
   "source": [
    "#hide\n",
    "\n",
    "# FETCH\n",
    "base_url = 'https://raw.githubusercontent.com/pratapvardhan/notebooks/master/covid19/'\n",
    "paths = {\n",
    "    'mapping': base_url + 'mapping_countries.csv',\n",
    "    'overview': base_url + 'overview.tpl'\n",
    "}"
   ]
  },
  {
   "cell_type": "code",
   "execution_count": 3,
   "id": "dynamic-saver",
   "metadata": {
    "execution": {
     "iopub.execute_input": "2021-09-19T12:11:01.813007Z",
     "iopub.status.busy": "2021-09-19T12:11:01.812263Z",
     "iopub.status.idle": "2021-09-19T12:11:01.814730Z",
     "shell.execute_reply": "2021-09-19T12:11:01.815335Z"
    },
    "papermill": {
     "duration": 0.047266,
     "end_time": "2021-09-19T12:11:01.815465",
     "exception": false,
     "start_time": "2021-09-19T12:11:01.768199",
     "status": "completed"
    },
    "tags": []
   },
   "outputs": [
    {
     "data": {
      "text/plain": [
       "'https://raw.githubusercontent.com/pratapvardhan/notebooks/master/covid19/mapping_countries.csv'"
      ]
     },
     "execution_count": 3,
     "metadata": {},
     "output_type": "execute_result"
    }
   ],
   "source": [
    "#hide\n",
    "paths['mapping']"
   ]
  },
  {
   "cell_type": "code",
   "execution_count": 4,
   "id": "urban-software",
   "metadata": {
    "execution": {
     "iopub.execute_input": "2021-09-19T12:11:01.896220Z",
     "iopub.status.busy": "2021-09-19T12:11:01.895577Z",
     "iopub.status.idle": "2021-09-19T12:11:01.898221Z",
     "shell.execute_reply": "2021-09-19T12:11:01.897310Z"
    },
    "papermill": {
     "duration": 0.045215,
     "end_time": "2021-09-19T12:11:01.898339",
     "exception": false,
     "start_time": "2021-09-19T12:11:01.853124",
     "status": "completed"
    },
    "tags": []
   },
   "outputs": [],
   "source": [
    "#hide\n",
    "def get_mappings(url):\n",
    "    df = pd.read_csv(url)\n",
    "    return {\n",
    "        'df': df,\n",
    "        'replace.country': dict(df.dropna(subset=['Name']).set_index('Country')['Name']),\n",
    "        'map.continent': dict(df.set_index('Name')['Continent'])\n",
    "    }"
   ]
  },
  {
   "cell_type": "code",
   "execution_count": 5,
   "id": "intimate-machinery",
   "metadata": {
    "execution": {
     "iopub.execute_input": "2021-09-19T12:11:01.973963Z",
     "iopub.status.busy": "2021-09-19T12:11:01.973352Z",
     "iopub.status.idle": "2021-09-19T12:11:02.015732Z",
     "shell.execute_reply": "2021-09-19T12:11:02.015131Z"
    },
    "papermill": {
     "duration": 0.083296,
     "end_time": "2021-09-19T12:11:02.015918",
     "exception": false,
     "start_time": "2021-09-19T12:11:01.932622",
     "status": "completed"
    },
    "tags": []
   },
   "outputs": [],
   "source": [
    "#hide\n",
    "mapping = get_mappings(paths['mapping'])"
   ]
  },
  {
   "cell_type": "code",
   "execution_count": 6,
   "id": "certified-tactics",
   "metadata": {
    "execution": {
     "iopub.execute_input": "2021-09-19T12:11:02.100404Z",
     "iopub.status.busy": "2021-09-19T12:11:02.099722Z",
     "iopub.status.idle": "2021-09-19T12:11:02.101836Z",
     "shell.execute_reply": "2021-09-19T12:11:02.101274Z"
    },
    "papermill": {
     "duration": 0.048637,
     "end_time": "2021-09-19T12:11:02.101947",
     "exception": false,
     "start_time": "2021-09-19T12:11:02.053310",
     "status": "completed"
    },
    "tags": []
   },
   "outputs": [],
   "source": [
    "#hide\n",
    "def get_template(path):\n",
    "    from urllib.parse import urlparse\n",
    "    if bool(urlparse(path).netloc):\n",
    "        from urllib.request import urlopen\n",
    "        return urlopen(path).read().decode('utf8')\n",
    "    return open(path).read()"
   ]
  },
  {
   "cell_type": "code",
   "execution_count": 7,
   "id": "realistic-blast",
   "metadata": {
    "execution": {
     "iopub.execute_input": "2021-09-19T12:11:02.176729Z",
     "iopub.status.busy": "2021-09-19T12:11:02.176094Z",
     "iopub.status.idle": "2021-09-19T12:11:02.178492Z",
     "shell.execute_reply": "2021-09-19T12:11:02.177957Z"
    },
    "papermill": {
     "duration": 0.043379,
     "end_time": "2021-09-19T12:11:02.178602",
     "exception": false,
     "start_time": "2021-09-19T12:11:02.135223",
     "status": "completed"
    },
    "tags": []
   },
   "outputs": [],
   "source": [
    "#hide\n",
    "def get_frame(name):\n",
    "    url = (\n",
    "        'https://raw.githubusercontent.com/CSSEGISandData/COVID-19/master/csse_covid_19_data/'\n",
    "        f'csse_covid_19_time_series/time_series_covid19_{name}_global.csv')\n",
    "    df = pd.read_csv(url)\n",
    "    # rename countries\n",
    "    df['Country/Region'] = df['Country/Region'].replace(mapping['replace.country'])\n",
    "    return df"
   ]
  },
  {
   "cell_type": "code",
   "execution_count": 8,
   "id": "affiliated-characterization",
   "metadata": {
    "execution": {
     "iopub.execute_input": "2021-09-19T12:11:02.253404Z",
     "iopub.status.busy": "2021-09-19T12:11:02.252799Z",
     "iopub.status.idle": "2021-09-19T12:11:02.254625Z",
     "shell.execute_reply": "2021-09-19T12:11:02.255122Z"
    },
    "papermill": {
     "duration": 0.04149,
     "end_time": "2021-09-19T12:11:02.255253",
     "exception": false,
     "start_time": "2021-09-19T12:11:02.213763",
     "status": "completed"
    },
    "tags": []
   },
   "outputs": [],
   "source": [
    "#hide\n",
    "def get_dates(df):\n",
    "    dt_cols = df.columns[~df.columns.isin(['Province/State', 'Country/Region', 'Lat', 'Long'])]\n",
    "    LAST_DATE_I = -1\n",
    "    # sometimes last column may be empty, then go backwards\n",
    "    for i in range(-1, -len(dt_cols), -1):\n",
    "        if not df[dt_cols[i]].fillna(0).eq(0).all():\n",
    "            LAST_DATE_I = i\n",
    "            break\n",
    "    return LAST_DATE_I, dt_cols"
   ]
  },
  {
   "cell_type": "code",
   "execution_count": 9,
   "id": "recent-optimization",
   "metadata": {
    "execution": {
     "iopub.execute_input": "2021-09-19T12:11:02.326524Z",
     "iopub.status.busy": "2021-09-19T12:11:02.325875Z",
     "iopub.status.idle": "2021-09-19T12:11:02.724887Z",
     "shell.execute_reply": "2021-09-19T12:11:02.724344Z"
    },
    "papermill": {
     "duration": 0.436995,
     "end_time": "2021-09-19T12:11:02.725058",
     "exception": false,
     "start_time": "2021-09-19T12:11:02.288063",
     "status": "completed"
    },
    "tags": []
   },
   "outputs": [],
   "source": [
    "#hide\n",
    "COL_REGION = 'Country/Region'\n",
    "# Confirmed, Recovered, Deaths\n",
    "df = get_frame('confirmed')\n",
    "# dft_: timeseries, dfc_: today country agg\n",
    "dft_cases = df\n",
    "dft_deaths = get_frame('deaths')\n",
    "dft_recovered = get_frame('recovered')\n",
    "LAST_DATE_I, dt_cols = get_dates(df)"
   ]
  },
  {
   "cell_type": "code",
   "execution_count": 10,
   "id": "absolute-copper",
   "metadata": {
    "execution": {
     "iopub.execute_input": "2021-09-19T12:11:02.803508Z",
     "iopub.status.busy": "2021-09-19T12:11:02.802878Z",
     "iopub.status.idle": "2021-09-19T12:11:02.804717Z",
     "shell.execute_reply": "2021-09-19T12:11:02.805251Z"
    },
    "papermill": {
     "duration": 0.044157,
     "end_time": "2021-09-19T12:11:02.805422",
     "exception": false,
     "start_time": "2021-09-19T12:11:02.761265",
     "status": "completed"
    },
    "tags": []
   },
   "outputs": [],
   "source": [
    "#hide\n",
    "LAST_DATE_I, dt_cols = get_dates(df)\n",
    "dt_today =dt_cols[LAST_DATE_I]\n",
    "# dt_5day = dt_cols[LAST_DATE_I - 5]\n",
    "dt_yday = dt_cols[LAST_DATE_I - 1]"
   ]
  },
  {
   "cell_type": "code",
   "execution_count": 11,
   "id": "restricted-sheriff",
   "metadata": {
    "execution": {
     "iopub.execute_input": "2021-09-19T12:11:02.883401Z",
     "iopub.status.busy": "2021-09-19T12:11:02.882723Z",
     "iopub.status.idle": "2021-09-19T12:11:02.889717Z",
     "shell.execute_reply": "2021-09-19T12:11:02.890222Z"
    },
    "papermill": {
     "duration": 0.05032,
     "end_time": "2021-09-19T12:11:02.890350",
     "exception": false,
     "start_time": "2021-09-19T12:11:02.840030",
     "status": "completed"
    },
    "tags": []
   },
   "outputs": [],
   "source": [
    "#hide\n",
    "dfc_cases = dft_cases.groupby(COL_REGION)[dt_today].sum()\n",
    "dfc_deaths = dft_deaths.groupby(COL_REGION)[dt_today].sum()\n",
    "# dfp_cases = dft_cases.groupby(COL_REGION)[dt_5day].sum()\n",
    "# dfp_deaths = dft_deaths.groupby(COL_REGION)[dt_5day].sum()\n",
    "dfp_cases = dft_cases.groupby(COL_REGION)[dt_yday].sum()\n",
    "dfp_deaths = dft_deaths.groupby(COL_REGION)[dt_yday].sum()"
   ]
  },
  {
   "cell_type": "code",
   "execution_count": 12,
   "id": "deluxe-hepatitis",
   "metadata": {
    "execution": {
     "iopub.execute_input": "2021-09-19T12:11:02.964749Z",
     "iopub.status.busy": "2021-09-19T12:11:02.964187Z",
     "iopub.status.idle": "2021-09-19T12:11:02.968859Z",
     "shell.execute_reply": "2021-09-19T12:11:02.969518Z"
    },
    "papermill": {
     "duration": 0.044177,
     "end_time": "2021-09-19T12:11:02.969672",
     "exception": false,
     "start_time": "2021-09-19T12:11:02.925495",
     "status": "completed"
    },
    "tags": []
   },
   "outputs": [],
   "source": [
    "#hide\n",
    "df_table = (pd.DataFrame(dict(Cases = dfc_cases, Deaths = dfc_deaths, PCases = dfp_cases, PDeaths = dfp_deaths))\n",
    "            .sort_values(by = ['Cases','Deaths'], ascending = [False, False])\n",
    "            .reset_index())"
   ]
  },
  {
   "cell_type": "code",
   "execution_count": 13,
   "id": "educational-chancellor",
   "metadata": {
    "execution": {
     "iopub.execute_input": "2021-09-19T12:11:03.059374Z",
     "iopub.status.busy": "2021-09-19T12:11:03.058735Z",
     "iopub.status.idle": "2021-09-19T12:11:03.075180Z",
     "shell.execute_reply": "2021-09-19T12:11:03.075823Z"
    },
    "papermill": {
     "duration": 0.068557,
     "end_time": "2021-09-19T12:11:03.075984",
     "exception": false,
     "start_time": "2021-09-19T12:11:03.007427",
     "status": "completed"
    },
    "tags": []
   },
   "outputs": [
    {
     "data": {
      "text/html": [
       "<div>\n",
       "<style scoped>\n",
       "    .dataframe tbody tr th:only-of-type {\n",
       "        vertical-align: middle;\n",
       "    }\n",
       "\n",
       "    .dataframe tbody tr th {\n",
       "        vertical-align: top;\n",
       "    }\n",
       "\n",
       "    .dataframe thead th {\n",
       "        text-align: right;\n",
       "    }\n",
       "</style>\n",
       "<table border=\"1\" class=\"dataframe\">\n",
       "  <thead>\n",
       "    <tr style=\"text-align: right;\">\n",
       "      <th></th>\n",
       "      <th>Country/Region</th>\n",
       "      <th>Cases</th>\n",
       "      <th>Deaths</th>\n",
       "      <th>PCases</th>\n",
       "      <th>PDeaths</th>\n",
       "      <th>Cases (+)</th>\n",
       "      <th>Deaths (+)</th>\n",
       "      <th>Fatality Rate</th>\n",
       "      <th>Continent</th>\n",
       "    </tr>\n",
       "  </thead>\n",
       "  <tbody>\n",
       "    <tr>\n",
       "      <th>0</th>\n",
       "      <td>US</td>\n",
       "      <td>42050638</td>\n",
       "      <td>673472</td>\n",
       "      <td>41993789</td>\n",
       "      <td>672635</td>\n",
       "      <td>56849</td>\n",
       "      <td>837</td>\n",
       "      <td>1.60</td>\n",
       "      <td>North America</td>\n",
       "    </tr>\n",
       "    <tr>\n",
       "      <th>1</th>\n",
       "      <td>India</td>\n",
       "      <td>33448163</td>\n",
       "      <td>444838</td>\n",
       "      <td>33417390</td>\n",
       "      <td>444529</td>\n",
       "      <td>30773</td>\n",
       "      <td>309</td>\n",
       "      <td>1.33</td>\n",
       "      <td>Asia</td>\n",
       "    </tr>\n",
       "    <tr>\n",
       "      <th>2</th>\n",
       "      <td>Brazil</td>\n",
       "      <td>21230325</td>\n",
       "      <td>590508</td>\n",
       "      <td>21080219</td>\n",
       "      <td>589573</td>\n",
       "      <td>150106</td>\n",
       "      <td>935</td>\n",
       "      <td>2.78</td>\n",
       "      <td>South America</td>\n",
       "    </tr>\n",
       "    <tr>\n",
       "      <th>3</th>\n",
       "      <td>United Kingdom</td>\n",
       "      <td>7435493</td>\n",
       "      <td>135478</td>\n",
       "      <td>7406017</td>\n",
       "      <td>135314</td>\n",
       "      <td>29476</td>\n",
       "      <td>164</td>\n",
       "      <td>1.82</td>\n",
       "      <td>Europe</td>\n",
       "    </tr>\n",
       "    <tr>\n",
       "      <th>4</th>\n",
       "      <td>Russia</td>\n",
       "      <td>7150244</td>\n",
       "      <td>193891</td>\n",
       "      <td>7130245</td>\n",
       "      <td>193111</td>\n",
       "      <td>19999</td>\n",
       "      <td>780</td>\n",
       "      <td>2.71</td>\n",
       "      <td>Europe</td>\n",
       "    </tr>\n",
       "  </tbody>\n",
       "</table>\n",
       "</div>"
      ],
      "text/plain": [
       "   Country/Region     Cases  Deaths    PCases  PDeaths  Cases (+)  Deaths (+)  \\\n",
       "0              US  42050638  673472  41993789   672635      56849         837   \n",
       "1           India  33448163  444838  33417390   444529      30773         309   \n",
       "2          Brazil  21230325  590508  21080219   589573     150106         935   \n",
       "3  United Kingdom   7435493  135478   7406017   135314      29476         164   \n",
       "4          Russia   7150244  193891   7130245   193111      19999         780   \n",
       "\n",
       "   Fatality Rate      Continent  \n",
       "0           1.60  North America  \n",
       "1           1.33           Asia  \n",
       "2           2.78  South America  \n",
       "3           1.82         Europe  \n",
       "4           2.71         Europe  "
      ]
     },
     "execution_count": 13,
     "metadata": {},
     "output_type": "execute_result"
    }
   ],
   "source": [
    "#hide\n",
    "for c in 'Cases, Deaths'.split(', '):\n",
    "    df_table[f'{c} (+)'] = (df_table[c] - df_table[f'P{c}']).clip(0)\n",
    "    #Clip ça veut dire, les chiffres negatif sont interdit\n",
    "df_table['Fatality Rate'] = (100* df_table['Deaths']/ df_table['Cases']).round(2)\n",
    "df_table['Continent'] = df_table['Country/Region'].map(mapping['map.continent'])\n",
    "df_table.head(5)"
   ]
  },
  {
   "cell_type": "code",
   "execution_count": 14,
   "id": "aboriginal-bulgaria",
   "metadata": {
    "execution": {
     "iopub.execute_input": "2021-09-19T12:11:03.156251Z",
     "iopub.status.busy": "2021-09-19T12:11:03.155506Z",
     "iopub.status.idle": "2021-09-19T12:11:03.157907Z",
     "shell.execute_reply": "2021-09-19T12:11:03.157314Z"
    },
    "papermill": {
     "duration": 0.045986,
     "end_time": "2021-09-19T12:11:03.158035",
     "exception": false,
     "start_time": "2021-09-19T12:11:03.112049",
     "status": "completed"
    },
    "tags": []
   },
   "outputs": [],
   "source": [
    "#hide\n",
    "#delete problematic countries from table\n",
    "df_table = df_table[~df_table['Country/Region'].isin(['Cape Verde', 'Cruise Ship', 'Kosovo'])]"
   ]
  },
  {
   "cell_type": "code",
   "execution_count": 15,
   "id": "fantastic-effect",
   "metadata": {
    "execution": {
     "iopub.execute_input": "2021-09-19T12:11:03.236225Z",
     "iopub.status.busy": "2021-09-19T12:11:03.235615Z",
     "iopub.status.idle": "2021-09-19T12:11:03.256007Z",
     "shell.execute_reply": "2021-09-19T12:11:03.256510Z"
    },
    "papermill": {
     "duration": 0.06254,
     "end_time": "2021-09-19T12:11:03.256638",
     "exception": false,
     "start_time": "2021-09-19T12:11:03.194098",
     "status": "completed"
    },
    "tags": []
   },
   "outputs": [
    {
     "data": {
      "text/html": [
       "<div>\n",
       "<style scoped>\n",
       "    .dataframe tbody tr th:only-of-type {\n",
       "        vertical-align: middle;\n",
       "    }\n",
       "\n",
       "    .dataframe tbody tr th {\n",
       "        vertical-align: top;\n",
       "    }\n",
       "\n",
       "    .dataframe thead th {\n",
       "        text-align: right;\n",
       "    }\n",
       "</style>\n",
       "<table border=\"1\" class=\"dataframe\">\n",
       "  <thead>\n",
       "    <tr style=\"text-align: right;\">\n",
       "      <th></th>\n",
       "      <th>Country/Region</th>\n",
       "      <th>Cases</th>\n",
       "      <th>Deaths</th>\n",
       "      <th>PCases</th>\n",
       "      <th>PDeaths</th>\n",
       "      <th>Cases (+)</th>\n",
       "      <th>Deaths (+)</th>\n",
       "      <th>Fatality Rate</th>\n",
       "      <th>Continent</th>\n",
       "    </tr>\n",
       "  </thead>\n",
       "  <tbody>\n",
       "    <tr>\n",
       "      <th>0</th>\n",
       "      <td>US</td>\n",
       "      <td>42050638</td>\n",
       "      <td>673472</td>\n",
       "      <td>41993789</td>\n",
       "      <td>672635</td>\n",
       "      <td>56849</td>\n",
       "      <td>837</td>\n",
       "      <td>1.6</td>\n",
       "      <td>North America</td>\n",
       "    </tr>\n",
       "    <tr>\n",
       "      <th>1</th>\n",
       "      <td>India</td>\n",
       "      <td>33448163</td>\n",
       "      <td>444838</td>\n",
       "      <td>33417390</td>\n",
       "      <td>444529</td>\n",
       "      <td>30773</td>\n",
       "      <td>309</td>\n",
       "      <td>1.3</td>\n",
       "      <td>Asia</td>\n",
       "    </tr>\n",
       "    <tr>\n",
       "      <th>2</th>\n",
       "      <td>Brazil</td>\n",
       "      <td>21230325</td>\n",
       "      <td>590508</td>\n",
       "      <td>21080219</td>\n",
       "      <td>589573</td>\n",
       "      <td>150106</td>\n",
       "      <td>935</td>\n",
       "      <td>2.8</td>\n",
       "      <td>South America</td>\n",
       "    </tr>\n",
       "    <tr>\n",
       "      <th>3</th>\n",
       "      <td>United Kingdom</td>\n",
       "      <td>7435493</td>\n",
       "      <td>135478</td>\n",
       "      <td>7406017</td>\n",
       "      <td>135314</td>\n",
       "      <td>29476</td>\n",
       "      <td>164</td>\n",
       "      <td>1.8</td>\n",
       "      <td>Europe</td>\n",
       "    </tr>\n",
       "    <tr>\n",
       "      <th>4</th>\n",
       "      <td>Russia</td>\n",
       "      <td>7150244</td>\n",
       "      <td>193891</td>\n",
       "      <td>7130245</td>\n",
       "      <td>193111</td>\n",
       "      <td>19999</td>\n",
       "      <td>780</td>\n",
       "      <td>2.7</td>\n",
       "      <td>Europe</td>\n",
       "    </tr>\n",
       "  </tbody>\n",
       "</table>\n",
       "</div>"
      ],
      "text/plain": [
       "   Country/Region     Cases  Deaths    PCases  PDeaths  Cases (+)  Deaths (+)  \\\n",
       "0              US  42050638  673472  41993789   672635      56849         837   \n",
       "1           India  33448163  444838  33417390   444529      30773         309   \n",
       "2          Brazil  21230325  590508  21080219   589573     150106         935   \n",
       "3  United Kingdom   7435493  135478   7406017   135314      29476         164   \n",
       "4          Russia   7150244  193891   7130245   193111      19999         780   \n",
       "\n",
       "   Fatality Rate      Continent  \n",
       "0            1.6  North America  \n",
       "1            1.3           Asia  \n",
       "2            2.8  South America  \n",
       "3            1.8         Europe  \n",
       "4            2.7         Europe  "
      ]
     },
     "execution_count": 15,
     "metadata": {},
     "output_type": "execute_result"
    }
   ],
   "source": [
    "#hide\n",
    "df_table = (pd.DataFrame(dict(Cases=dfc_cases, Deaths=dfc_deaths, PCases=dfp_cases, PDeaths=dfp_deaths))\n",
    "             .sort_values(by=['Cases', 'Deaths'], ascending=[False, False])\n",
    "             .reset_index())\n",
    "df_table.rename(columns={'index': 'Country/Region'}, inplace=True)\n",
    "for c in 'Cases, Deaths'.split(', '):\n",
    "    df_table[f'{c} (+)'] = (df_table[c] - df_table[f'P{c}']).clip(0)  # DATA BUG\n",
    "df_table['Fatality Rate'] = (100 * df_table['Deaths'] / df_table['Cases']).round(1)\n",
    "df_table['Continent'] = df_table['Country/Region'].map(mapping['map.continent'])\n",
    "df_table.head(5)"
   ]
  },
  {
   "cell_type": "code",
   "execution_count": 16,
   "id": "fewer-occasion",
   "metadata": {
    "execution": {
     "iopub.execute_input": "2021-09-19T12:11:03.336655Z",
     "iopub.status.busy": "2021-09-19T12:11:03.335940Z",
     "iopub.status.idle": "2021-09-19T12:11:03.338457Z",
     "shell.execute_reply": "2021-09-19T12:11:03.338942Z"
    },
    "papermill": {
     "duration": 0.046032,
     "end_time": "2021-09-19T12:11:03.339064",
     "exception": false,
     "start_time": "2021-09-19T12:11:03.293032",
     "status": "completed"
    },
    "tags": []
   },
   "outputs": [],
   "source": [
    "#hide\n",
    "#delete problematic countries from table\n",
    "df_table = df_table[~df_table['Country/Region'].isin(['Cape Verde', 'Cruise Ship', 'Kosovo'])]"
   ]
  },
  {
   "cell_type": "code",
   "execution_count": 17,
   "id": "related-center",
   "metadata": {
    "execution": {
     "iopub.execute_input": "2021-09-19T12:11:03.430851Z",
     "iopub.status.busy": "2021-09-19T12:11:03.430187Z",
     "iopub.status.idle": "2021-09-19T12:11:03.432475Z",
     "shell.execute_reply": "2021-09-19T12:11:03.431964Z"
    },
    "papermill": {
     "duration": 0.057719,
     "end_time": "2021-09-19T12:11:03.432583",
     "exception": false,
     "start_time": "2021-09-19T12:11:03.374864",
     "status": "completed"
    },
    "tags": []
   },
   "outputs": [],
   "source": [
    "#hide\n",
    "metrics = [df_table.columns[index] for index in [1,2,5,6]]\n",
    "# s_china = df_table[df_table['Country/Region'].eq('China')][metrics].sum().add_prefix('China ')\n",
    "s_us = df_table[df_table['Country/Region'].eq('US')][metrics].sum().add_prefix('US ')\n",
    "s_eu = df_table[df_table['Continent'].eq('Europe')][metrics].sum().add_prefix('EU ')\n",
    "s_ind = df_table[df_table['Country/Region'].eq('India')][metrics].sum().add_prefix('India ')\n",
    "summary = {'updated': pd.to_datetime(dt_today), 'since': pd.to_datetime(dt_yday)}\n",
    "summary = {'updated': pd.to_datetime(dt_today), 'since': pd.to_datetime(dt_yday)}\n",
    "summary = {**summary, **df_table[metrics].sum(), **s_ind, **s_us, **s_eu}"
   ]
  },
  {
   "cell_type": "code",
   "execution_count": 18,
   "id": "engaging-syndrome",
   "metadata": {
    "execution": {
     "iopub.execute_input": "2021-09-19T12:11:03.509113Z",
     "iopub.status.busy": "2021-09-19T12:11:03.508529Z",
     "iopub.status.idle": "2021-09-19T12:11:03.522918Z",
     "shell.execute_reply": "2021-09-19T12:11:03.523398Z"
    },
    "papermill": {
     "duration": 0.055968,
     "end_time": "2021-09-19T12:11:03.523525",
     "exception": false,
     "start_time": "2021-09-19T12:11:03.467557",
     "status": "completed"
    },
    "tags": []
   },
   "outputs": [],
   "source": [
    "#hide\n",
    "dft_ct_new_cases = dft_cases.groupby(COL_REGION)[dt_cols].sum().diff(axis=1).fillna(0).astype(int)"
   ]
  },
  {
   "cell_type": "code",
   "execution_count": 19,
   "id": "neutral-assignment",
   "metadata": {
    "execution": {
     "iopub.execute_input": "2021-09-19T12:11:03.604675Z",
     "iopub.status.busy": "2021-09-19T12:11:03.604043Z",
     "iopub.status.idle": "2021-09-19T12:11:03.606466Z",
     "shell.execute_reply": "2021-09-19T12:11:03.605807Z"
    },
    "papermill": {
     "duration": 0.045317,
     "end_time": "2021-09-19T12:11:03.606582",
     "exception": false,
     "start_time": "2021-09-19T12:11:03.561265",
     "status": "completed"
    },
    "tags": []
   },
   "outputs": [],
   "source": [
    "#hide\n",
    "everydaycases = dft_ct_new_cases.cumsum(axis=1)"
   ]
  },
  {
   "cell_type": "code",
   "execution_count": 20,
   "id": "parliamentary-calgary",
   "metadata": {
    "execution": {
     "iopub.execute_input": "2021-09-19T12:11:03.687841Z",
     "iopub.status.busy": "2021-09-19T12:11:03.687124Z",
     "iopub.status.idle": "2021-09-19T12:11:04.339990Z",
     "shell.execute_reply": "2021-09-19T12:11:04.339486Z"
    },
    "papermill": {
     "duration": 0.696052,
     "end_time": "2021-09-19T12:11:04.340130",
     "exception": false,
     "start_time": "2021-09-19T12:11:03.644078",
     "status": "completed"
    },
    "tags": []
   },
   "outputs": [],
   "source": [
    "#hide\n",
    "import pandas as pd\n",
    "import matplotlib.pyplot as plt\n",
    "import matplotlib.ticker as ticker\n",
    "import matplotlib.animation as animation\n",
    "from IPython.display import HTML"
   ]
  },
  {
   "cell_type": "code",
   "execution_count": 21,
   "id": "lasting-extraction",
   "metadata": {
    "execution": {
     "iopub.execute_input": "2021-09-19T12:11:04.414931Z",
     "iopub.status.busy": "2021-09-19T12:11:04.414340Z",
     "iopub.status.idle": "2021-09-19T12:11:04.419775Z",
     "shell.execute_reply": "2021-09-19T12:11:04.420269Z"
    },
    "papermill": {
     "duration": 0.047059,
     "end_time": "2021-09-19T12:11:04.420379",
     "exception": false,
     "start_time": "2021-09-19T12:11:04.373320",
     "status": "completed"
    },
    "tags": []
   },
   "outputs": [],
   "source": [
    "#hide\n",
    "t = everydaycases.stack()"
   ]
  },
  {
   "cell_type": "code",
   "execution_count": 22,
   "id": "premier-sleeve",
   "metadata": {
    "execution": {
     "iopub.execute_input": "2021-09-19T12:11:04.490232Z",
     "iopub.status.busy": "2021-09-19T12:11:04.489621Z",
     "iopub.status.idle": "2021-09-19T12:11:04.498512Z",
     "shell.execute_reply": "2021-09-19T12:11:04.498078Z"
    },
    "papermill": {
     "duration": 0.044545,
     "end_time": "2021-09-19T12:11:04.498612",
     "exception": false,
     "start_time": "2021-09-19T12:11:04.454067",
     "status": "completed"
    },
    "tags": []
   },
   "outputs": [],
   "source": [
    "#hide\n",
    "g = t.reset_index(['Country/Region'])"
   ]
  },
  {
   "cell_type": "code",
   "execution_count": 23,
   "id": "distributed-pittsburgh",
   "metadata": {
    "execution": {
     "iopub.execute_input": "2021-09-19T12:11:04.575275Z",
     "iopub.status.busy": "2021-09-19T12:11:04.574666Z",
     "iopub.status.idle": "2021-09-19T12:11:04.576694Z",
     "shell.execute_reply": "2021-09-19T12:11:04.577212Z"
    },
    "papermill": {
     "duration": 0.04048,
     "end_time": "2021-09-19T12:11:04.577332",
     "exception": false,
     "start_time": "2021-09-19T12:11:04.536852",
     "status": "completed"
    },
    "tags": []
   },
   "outputs": [],
   "source": [
    "#hide\n",
    "g.index.name = 'date'"
   ]
  },
  {
   "cell_type": "code",
   "execution_count": 24,
   "id": "naked-donor",
   "metadata": {
    "execution": {
     "iopub.execute_input": "2021-09-19T12:11:04.646677Z",
     "iopub.status.busy": "2021-09-19T12:11:04.646172Z",
     "iopub.status.idle": "2021-09-19T12:11:04.647929Z",
     "shell.execute_reply": "2021-09-19T12:11:04.648725Z"
    },
    "papermill": {
     "duration": 0.038229,
     "end_time": "2021-09-19T12:11:04.648852",
     "exception": false,
     "start_time": "2021-09-19T12:11:04.610623",
     "status": "completed"
    },
    "tags": []
   },
   "outputs": [],
   "source": [
    "# #hide\n",
    "# g = g.reset_index(['date'])"
   ]
  },
  {
   "cell_type": "code",
   "execution_count": 25,
   "id": "incomplete-mustang",
   "metadata": {
    "execution": {
     "iopub.execute_input": "2021-09-19T12:11:04.722538Z",
     "iopub.status.busy": "2021-09-19T12:11:04.721895Z",
     "iopub.status.idle": "2021-09-19T12:11:04.724291Z",
     "shell.execute_reply": "2021-09-19T12:11:04.723676Z"
    },
    "papermill": {
     "duration": 0.040849,
     "end_time": "2021-09-19T12:11:04.724395",
     "exception": false,
     "start_time": "2021-09-19T12:11:04.683546",
     "status": "completed"
    },
    "tags": []
   },
   "outputs": [],
   "source": [
    "#hide\n",
    "# g.head()"
   ]
  },
  {
   "cell_type": "code",
   "execution_count": 26,
   "id": "specific-kruger",
   "metadata": {
    "execution": {
     "iopub.execute_input": "2021-09-19T12:11:04.802137Z",
     "iopub.status.busy": "2021-09-19T12:11:04.801503Z",
     "iopub.status.idle": "2021-09-19T12:11:04.803218Z",
     "shell.execute_reply": "2021-09-19T12:11:04.803835Z"
    },
    "papermill": {
     "duration": 0.041965,
     "end_time": "2021-09-19T12:11:04.803960",
     "exception": false,
     "start_time": "2021-09-19T12:11:04.761995",
     "status": "completed"
    },
    "tags": []
   },
   "outputs": [],
   "source": [
    "#hide\n",
    "# g.columns = ['date','country','cases']"
   ]
  },
  {
   "cell_type": "code",
   "execution_count": 27,
   "id": "tender-conversion",
   "metadata": {
    "execution": {
     "iopub.execute_input": "2021-09-19T12:11:04.873796Z",
     "iopub.status.busy": "2021-09-19T12:11:04.873186Z",
     "iopub.status.idle": "2021-09-19T12:11:04.875918Z",
     "shell.execute_reply": "2021-09-19T12:11:04.875336Z"
    },
    "papermill": {
     "duration": 0.038376,
     "end_time": "2021-09-19T12:11:04.876042",
     "exception": false,
     "start_time": "2021-09-19T12:11:04.837666",
     "status": "completed"
    },
    "tags": []
   },
   "outputs": [],
   "source": [
    "#hide\n",
    "# g['continent'] = g.country"
   ]
  },
  {
   "cell_type": "code",
   "execution_count": 28,
   "id": "substantial-wilderness",
   "metadata": {
    "execution": {
     "iopub.execute_input": "2021-09-19T12:11:04.945912Z",
     "iopub.status.busy": "2021-09-19T12:11:04.945372Z",
     "iopub.status.idle": "2021-09-19T12:11:04.947627Z",
     "shell.execute_reply": "2021-09-19T12:11:04.947194Z"
    },
    "papermill": {
     "duration": 0.036977,
     "end_time": "2021-09-19T12:11:04.947723",
     "exception": false,
     "start_time": "2021-09-19T12:11:04.910746",
     "status": "completed"
    },
    "tags": []
   },
   "outputs": [],
   "source": [
    "#hide\n",
    "# cols = list(g.columns.values)"
   ]
  },
  {
   "cell_type": "code",
   "execution_count": 29,
   "id": "solved-farming",
   "metadata": {
    "execution": {
     "iopub.execute_input": "2021-09-19T12:11:05.017697Z",
     "iopub.status.busy": "2021-09-19T12:11:05.017087Z",
     "iopub.status.idle": "2021-09-19T12:11:05.019289Z",
     "shell.execute_reply": "2021-09-19T12:11:05.018832Z"
    },
    "papermill": {
     "duration": 0.040171,
     "end_time": "2021-09-19T12:11:05.019391",
     "exception": false,
     "start_time": "2021-09-19T12:11:04.979220",
     "status": "completed"
    },
    "tags": []
   },
   "outputs": [],
   "source": [
    "#hide\n",
    "# cols.insert(0, cols.pop())"
   ]
  },
  {
   "cell_type": "code",
   "execution_count": 30,
   "id": "executed-adoption",
   "metadata": {
    "execution": {
     "iopub.execute_input": "2021-09-19T12:11:05.092800Z",
     "iopub.status.busy": "2021-09-19T12:11:05.091925Z",
     "iopub.status.idle": "2021-09-19T12:11:05.094720Z",
     "shell.execute_reply": "2021-09-19T12:11:05.094106Z"
    },
    "papermill": {
     "duration": 0.041725,
     "end_time": "2021-09-19T12:11:05.094828",
     "exception": false,
     "start_time": "2021-09-19T12:11:05.053103",
     "status": "completed"
    },
    "tags": []
   },
   "outputs": [],
   "source": [
    "#hide\n",
    "# g = g[cols]"
   ]
  },
  {
   "cell_type": "code",
   "execution_count": 31,
   "id": "subject-dublin",
   "metadata": {
    "execution": {
     "iopub.execute_input": "2021-09-19T12:11:05.170047Z",
     "iopub.status.busy": "2021-09-19T12:11:05.169388Z",
     "iopub.status.idle": "2021-09-19T12:11:05.172038Z",
     "shell.execute_reply": "2021-09-19T12:11:05.171506Z"
    },
    "papermill": {
     "duration": 0.041791,
     "end_time": "2021-09-19T12:11:05.172162",
     "exception": false,
     "start_time": "2021-09-19T12:11:05.130371",
     "status": "completed"
    },
    "tags": []
   },
   "outputs": [],
   "source": [
    "#hide\n",
    "# g['continent'] = g['continent'].map(mapping['map.continent'])"
   ]
  },
  {
   "cell_type": "code",
   "execution_count": 32,
   "id": "freelance-scout",
   "metadata": {
    "execution": {
     "iopub.execute_input": "2021-09-19T12:11:05.245399Z",
     "iopub.status.busy": "2021-09-19T12:11:05.244770Z",
     "iopub.status.idle": "2021-09-19T12:11:05.246928Z",
     "shell.execute_reply": "2021-09-19T12:11:05.246341Z"
    },
    "papermill": {
     "duration": 0.038024,
     "end_time": "2021-09-19T12:11:05.247086",
     "exception": false,
     "start_time": "2021-09-19T12:11:05.209062",
     "status": "completed"
    },
    "tags": []
   },
   "outputs": [],
   "source": [
    "#hide\n",
    "# g.head()"
   ]
  },
  {
   "cell_type": "code",
   "execution_count": 33,
   "id": "limited-engine",
   "metadata": {
    "execution": {
     "iopub.execute_input": "2021-09-19T12:11:05.321330Z",
     "iopub.status.busy": "2021-09-19T12:11:05.320662Z",
     "iopub.status.idle": "2021-09-19T12:11:05.322859Z",
     "shell.execute_reply": "2021-09-19T12:11:05.322412Z"
    },
    "papermill": {
     "duration": 0.042685,
     "end_time": "2021-09-19T12:11:05.322962",
     "exception": false,
     "start_time": "2021-09-19T12:11:05.280277",
     "status": "completed"
    },
    "tags": []
   },
   "outputs": [],
   "source": [
    "# hide\n",
    "# g['date'] = g['date'].astype('datetime64[ns]')"
   ]
  },
  {
   "cell_type": "code",
   "execution_count": 34,
   "id": "sophisticated-supervisor",
   "metadata": {
    "execution": {
     "iopub.execute_input": "2021-09-19T12:11:05.396811Z",
     "iopub.status.busy": "2021-09-19T12:11:05.395743Z",
     "iopub.status.idle": "2021-09-19T12:11:05.398572Z",
     "shell.execute_reply": "2021-09-19T12:11:05.399051Z"
    },
    "papermill": {
     "duration": 0.039832,
     "end_time": "2021-09-19T12:11:05.399197",
     "exception": false,
     "start_time": "2021-09-19T12:11:05.359365",
     "status": "completed"
    },
    "tags": []
   },
   "outputs": [],
   "source": [
    "#hide\n",
    "# g['date'] = g.date.dt.dayofyear"
   ]
  },
  {
   "cell_type": "code",
   "execution_count": 35,
   "id": "inside-dubai",
   "metadata": {
    "execution": {
     "iopub.execute_input": "2021-09-19T12:11:05.473965Z",
     "iopub.status.busy": "2021-09-19T12:11:05.473334Z",
     "iopub.status.idle": "2021-09-19T12:11:05.475495Z",
     "shell.execute_reply": "2021-09-19T12:11:05.475030Z"
    },
    "papermill": {
     "duration": 0.040092,
     "end_time": "2021-09-19T12:11:05.475602",
     "exception": false,
     "start_time": "2021-09-19T12:11:05.435510",
     "status": "completed"
    },
    "tags": []
   },
   "outputs": [],
   "source": [
    "#hide\n",
    "# g = g.rename(columns= {'continent':'group','country':'name','cases':'value'})"
   ]
  },
  {
   "cell_type": "code",
   "execution_count": 36,
   "id": "fleet-motorcycle",
   "metadata": {
    "execution": {
     "iopub.execute_input": "2021-09-19T12:11:05.553241Z",
     "iopub.status.busy": "2021-09-19T12:11:05.552650Z",
     "iopub.status.idle": "2021-09-19T12:11:05.556015Z",
     "shell.execute_reply": "2021-09-19T12:11:05.557070Z"
    },
    "papermill": {
     "duration": 0.045195,
     "end_time": "2021-09-19T12:11:05.557258",
     "exception": false,
     "start_time": "2021-09-19T12:11:05.512063",
     "status": "completed"
    },
    "tags": []
   },
   "outputs": [],
   "source": [
    "#hide\n",
    "# cols = ['name','group','day','value']"
   ]
  },
  {
   "cell_type": "code",
   "execution_count": 37,
   "id": "continued-sleeping",
   "metadata": {
    "execution": {
     "iopub.execute_input": "2021-09-19T12:11:05.635511Z",
     "iopub.status.busy": "2021-09-19T12:11:05.634804Z",
     "iopub.status.idle": "2021-09-19T12:11:05.637601Z",
     "shell.execute_reply": "2021-09-19T12:11:05.636717Z"
    },
    "papermill": {
     "duration": 0.045397,
     "end_time": "2021-09-19T12:11:05.637735",
     "exception": false,
     "start_time": "2021-09-19T12:11:05.592338",
     "status": "completed"
    },
    "tags": []
   },
   "outputs": [],
   "source": [
    "#hide\n",
    "# g.rename(columns= {'date':'day'},inplace = True)"
   ]
  },
  {
   "cell_type": "code",
   "execution_count": 38,
   "id": "major-fight",
   "metadata": {
    "execution": {
     "iopub.execute_input": "2021-09-19T12:11:05.719479Z",
     "iopub.status.busy": "2021-09-19T12:11:05.718880Z",
     "iopub.status.idle": "2021-09-19T12:11:05.721124Z",
     "shell.execute_reply": "2021-09-19T12:11:05.721619Z"
    },
    "papermill": {
     "duration": 0.048329,
     "end_time": "2021-09-19T12:11:05.721777",
     "exception": false,
     "start_time": "2021-09-19T12:11:05.673448",
     "status": "completed"
    },
    "tags": []
   },
   "outputs": [],
   "source": [
    "#hide\n",
    "# g = g[cols]"
   ]
  },
  {
   "cell_type": "code",
   "execution_count": 39,
   "id": "structured-mobile",
   "metadata": {
    "execution": {
     "iopub.execute_input": "2021-09-19T12:11:05.800102Z",
     "iopub.status.busy": "2021-09-19T12:11:05.799474Z",
     "iopub.status.idle": "2021-09-19T12:11:05.802128Z",
     "shell.execute_reply": "2021-09-19T12:11:05.801558Z"
    },
    "papermill": {
     "duration": 0.038701,
     "end_time": "2021-09-19T12:11:05.802258",
     "exception": false,
     "start_time": "2021-09-19T12:11:05.763557",
     "status": "completed"
    },
    "tags": []
   },
   "outputs": [],
   "source": [
    "# #hide\n",
    "# g = g[g.group.notna()]"
   ]
  },
  {
   "cell_type": "code",
   "execution_count": 40,
   "id": "determined-closing",
   "metadata": {
    "execution": {
     "iopub.execute_input": "2021-09-19T12:11:05.882990Z",
     "iopub.status.busy": "2021-09-19T12:11:05.882360Z",
     "iopub.status.idle": "2021-09-19T12:11:05.884703Z",
     "shell.execute_reply": "2021-09-19T12:11:05.884273Z"
    },
    "papermill": {
     "duration": 0.039865,
     "end_time": "2021-09-19T12:11:05.884797",
     "exception": false,
     "start_time": "2021-09-19T12:11:05.844932",
     "status": "completed"
    },
    "tags": []
   },
   "outputs": [],
   "source": [
    "# #hide\n",
    "# colors = dict(zip(\n",
    "#     [\"Oceania\", \"Europe\", \"Asia\", \"South America\", \"Middle East\", \"North America\", \"Africa\"],\n",
    "#     [\"#adb0ff\", \"#ffb3ff\", \"#90d595\", \"#e48381\", \"#aafbff\", \"#f7bb5f\", \"#eafb50\"]\n",
    "# ))\n",
    "# group_lk = g.set_index('name')['group'].to_dict()"
   ]
  },
  {
   "cell_type": "code",
   "execution_count": null,
   "id": "gross-drinking",
   "metadata": {
    "papermill": {
     "duration": 0.032105,
     "end_time": "2021-09-19T12:11:05.949384",
     "exception": false,
     "start_time": "2021-09-19T12:11:05.917279",
     "status": "completed"
    },
    "tags": []
   },
   "outputs": [],
   "source": []
  },
  {
   "cell_type": "code",
   "execution_count": 41,
   "id": "subject-macintosh",
   "metadata": {
    "execution": {
     "iopub.execute_input": "2021-09-19T12:11:06.019857Z",
     "iopub.status.busy": "2021-09-19T12:11:06.019220Z",
     "iopub.status.idle": "2021-09-19T12:11:06.021659Z",
     "shell.execute_reply": "2021-09-19T12:11:06.021122Z"
    },
    "papermill": {
     "duration": 0.040354,
     "end_time": "2021-09-19T12:11:06.021758",
     "exception": false,
     "start_time": "2021-09-19T12:11:05.981404",
     "status": "completed"
    },
    "tags": []
   },
   "outputs": [],
   "source": [
    "# #hide\n",
    "# fig, ax = plt.subplots(figsize=(15, 8))\n",
    "\n",
    "# def draw_barchart(current_day):\n",
    "#     dff = g[g['day'].eq(current_day)].sort_values(by='value', ascending=True).tail(10)\n",
    "#     ax.clear()\n",
    "#     ax.barh(dff['name'], dff['value'], color=[colors[group_lk[x]] for x in dff['name']])\n",
    "#     dx = dff['value'].max() / 200\n",
    "    \n",
    "#     for i, (value, name) in enumerate(zip(dff['value'], dff['name'])):\n",
    "#         ax.text(value-dx, i,     name,           size=14, weight=600, ha='right', va='bottom')\n",
    "#         ax.text(value-dx, i-.25, group_lk[name], size=10, color='#444444', ha='right', va='baseline')\n",
    "#         ax.text(value+dx, i,     f'{value:,.0f}',  size=14, ha='left',  va='center')\n",
    "#     ax.text(1, 0.4, current_day, transform=ax.transAxes, color='#777777', size=46, ha='right', weight=800)\n",
    "#     ax.text(0, 1.06, 'Population (thousands)', transform=ax.transAxes, size=12, color='#777777')\n",
    "#     ax.xaxis.set_major_formatter(ticker.StrMethodFormatter('{x:,.0f}'))\n",
    "#     ax.xaxis.set_ticks_position('top')\n",
    "#     ax.tick_params(axis='x', colors='#777777', labelsize=12)\n",
    "#     ax.set_yticks([])\n",
    "#     ax.margins(0, 0.01)\n",
    "#     ax.grid(which='major', axis='x', linestyle='-')\n",
    "#     ax.set_axisbelow(True)\n",
    "    \n",
    "#     ax.text(0, 1.15, 'Coronavirus',\n",
    "#             transform=ax.transAxes, size=24, weight=600, ha='left', va='top')\n",
    "# #     ax.text(1, 0, 'by @pratapvardhan; credit @jburnmurdoch', transform=ax.transAxes, color='#777777', ha='right',\n",
    "# #             bbox=dict(facecolor='white', alpha=0.8, edgecolor='white'))\n",
    "#     plt.box(False)"
   ]
  },
  {
   "cell_type": "code",
   "execution_count": 42,
   "id": "sexual-wages",
   "metadata": {
    "execution": {
     "iopub.execute_input": "2021-09-19T12:11:06.099903Z",
     "iopub.status.busy": "2021-09-19T12:11:06.099306Z",
     "iopub.status.idle": "2021-09-19T12:11:06.101048Z",
     "shell.execute_reply": "2021-09-19T12:11:06.101507Z"
    },
    "papermill": {
     "duration": 0.042923,
     "end_time": "2021-09-19T12:11:06.101623",
     "exception": false,
     "start_time": "2021-09-19T12:11:06.058700",
     "status": "completed"
    },
    "tags": []
   },
   "outputs": [],
   "source": [
    "# #hide_input\n",
    "# fig, ax = plt.subplots(figsize=(15, 8))\n",
    "# animator = animation.FuncAnimation(fig, draw_barchart, frames=range(g.day.values.min(), g.day.values.max()))\n",
    "# HTML(animator.to_jshtml())\n",
    "# # or use animator.to_html5_video() or animator.save() "
   ]
  },
  {
   "cell_type": "code",
   "execution_count": null,
   "id": "australian-container",
   "metadata": {
    "papermill": {
     "duration": 0.036104,
     "end_time": "2021-09-19T12:11:06.170795",
     "exception": false,
     "start_time": "2021-09-19T12:11:06.134691",
     "status": "completed"
    },
    "tags": []
   },
   "outputs": [],
   "source": []
  },
  {
   "cell_type": "code",
   "execution_count": null,
   "id": "mediterranean-pontiac",
   "metadata": {
    "papermill": {
     "duration": 0.036453,
     "end_time": "2021-09-19T12:11:06.244625",
     "exception": false,
     "start_time": "2021-09-19T12:11:06.208172",
     "status": "completed"
    },
    "tags": []
   },
   "outputs": [],
   "source": []
  },
  {
   "cell_type": "code",
   "execution_count": null,
   "id": "aging-legislature",
   "metadata": {
    "papermill": {
     "duration": 0.039898,
     "end_time": "2021-09-19T12:11:06.320202",
     "exception": false,
     "start_time": "2021-09-19T12:11:06.280304",
     "status": "completed"
    },
    "tags": []
   },
   "outputs": [],
   "source": []
  }
 ],
 "metadata": {
  "kernelspec": {
   "display_name": "Python 3",
   "language": "python",
   "name": "python3"
  },
  "language_info": {
   "codemirror_mode": {
    "name": "ipython",
    "version": 3
   },
   "file_extension": ".py",
   "mimetype": "text/x-python",
   "name": "python",
   "nbconvert_exporter": "python",
   "pygments_lexer": "ipython3",
   "version": "3.6.15"
  },
  "papermill": {
   "duration": 6.564208,
   "end_time": "2021-09-19T12:11:06.663337",
   "environment_variables": {},
   "exception": null,
   "input_path": "2020-03-21-covid19exp.ipynb",
   "output_path": "2020-03-21-covid19exp.ipynb",
   "parameters": {},
   "start_time": "2021-09-19T12:11:00.099129",
   "version": "2.0.0"
  }
 },
 "nbformat": 4,
 "nbformat_minor": 5
}