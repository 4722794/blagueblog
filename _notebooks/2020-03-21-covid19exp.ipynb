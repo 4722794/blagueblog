{
 "cells": [
  {
   "cell_type": "markdown",
   "id": "muslim-click",
   "metadata": {
    "papermill": {
     "duration": 0.042071,
     "end_time": "2022-01-15T12:12:40.341440",
     "exception": false,
     "start_time": "2022-01-15T12:12:40.299369",
     "status": "completed"
    },
    "tags": []
   },
   "source": [
    "# COVID-19 Case Race\n",
    "> A race chart to see rising cases around the world\n",
    "\n",
    "- author: Hargun Oberoi\n",
    "- image: images/covid-overview.png\n",
    "- hide: false\n",
    "- badges: false"
   ]
  },
  {
   "cell_type": "code",
   "execution_count": 1,
   "id": "proof-material",
   "metadata": {
    "execution": {
     "iopub.execute_input": "2022-01-15T12:12:40.427699Z",
     "iopub.status.busy": "2022-01-15T12:12:40.426930Z",
     "iopub.status.idle": "2022-01-15T12:12:40.819637Z",
     "shell.execute_reply": "2022-01-15T12:12:40.820284Z"
    },
    "papermill": {
     "duration": 0.442033,
     "end_time": "2022-01-15T12:12:40.820489",
     "exception": false,
     "start_time": "2022-01-15T12:12:40.378456",
     "status": "completed"
    },
    "tags": []
   },
   "outputs": [],
   "source": [
    "#hide\n",
    "import numpy as np\n",
    "import pandas as pd\n",
    "from jinja2 import Template\n",
    "from IPython.display import HTML"
   ]
  },
  {
   "cell_type": "code",
   "execution_count": 2,
   "id": "developed-terminology",
   "metadata": {
    "execution": {
     "iopub.execute_input": "2022-01-15T12:12:40.902744Z",
     "iopub.status.busy": "2022-01-15T12:12:40.902050Z",
     "iopub.status.idle": "2022-01-15T12:12:40.905937Z",
     "shell.execute_reply": "2022-01-15T12:12:40.906395Z"
    },
    "papermill": {
     "duration": 0.044836,
     "end_time": "2022-01-15T12:12:40.906566",
     "exception": false,
     "start_time": "2022-01-15T12:12:40.861730",
     "status": "completed"
    },
    "tags": []
   },
   "outputs": [],
   "source": [
    "#hide\n",
    "\n",
    "# FETCH\n",
    "base_url = 'https://raw.githubusercontent.com/pratapvardhan/notebooks/master/covid19/'\n",
    "paths = {\n",
    "    'mapping': base_url + 'mapping_countries.csv',\n",
    "    'overview': base_url + 'overview.tpl'\n",
    "}"
   ]
  },
  {
   "cell_type": "code",
   "execution_count": 3,
   "id": "dynamic-saver",
   "metadata": {
    "execution": {
     "iopub.execute_input": "2022-01-15T12:12:40.989213Z",
     "iopub.status.busy": "2022-01-15T12:12:40.988547Z",
     "iopub.status.idle": "2022-01-15T12:12:40.992188Z",
     "shell.execute_reply": "2022-01-15T12:12:40.992797Z"
    },
    "papermill": {
     "duration": 0.04984,
     "end_time": "2022-01-15T12:12:40.992929",
     "exception": false,
     "start_time": "2022-01-15T12:12:40.943089",
     "status": "completed"
    },
    "tags": []
   },
   "outputs": [
    {
     "data": {
      "text/plain": [
       "'https://raw.githubusercontent.com/pratapvardhan/notebooks/master/covid19/mapping_countries.csv'"
      ]
     },
     "execution_count": 3,
     "metadata": {},
     "output_type": "execute_result"
    }
   ],
   "source": [
    "#hide\n",
    "paths['mapping']"
   ]
  },
  {
   "cell_type": "code",
   "execution_count": 4,
   "id": "urban-software",
   "metadata": {
    "execution": {
     "iopub.execute_input": "2022-01-15T12:12:41.075301Z",
     "iopub.status.busy": "2022-01-15T12:12:41.074676Z",
     "iopub.status.idle": "2022-01-15T12:12:41.078841Z",
     "shell.execute_reply": "2022-01-15T12:12:41.078311Z"
    },
    "papermill": {
     "duration": 0.049708,
     "end_time": "2022-01-15T12:12:41.079010",
     "exception": false,
     "start_time": "2022-01-15T12:12:41.029302",
     "status": "completed"
    },
    "tags": []
   },
   "outputs": [],
   "source": [
    "#hide\n",
    "def get_mappings(url):\n",
    "    df = pd.read_csv(url)\n",
    "    return {\n",
    "        'df': df,\n",
    "        'replace.country': dict(df.dropna(subset=['Name']).set_index('Country')['Name']),\n",
    "        'map.continent': dict(df.set_index('Name')['Continent'])\n",
    "    }"
   ]
  },
  {
   "cell_type": "code",
   "execution_count": 5,
   "id": "intimate-machinery",
   "metadata": {
    "execution": {
     "iopub.execute_input": "2022-01-15T12:12:41.157922Z",
     "iopub.status.busy": "2022-01-15T12:12:41.157014Z",
     "iopub.status.idle": "2022-01-15T12:12:41.197817Z",
     "shell.execute_reply": "2022-01-15T12:12:41.197327Z"
    },
    "papermill": {
     "duration": 0.08318,
     "end_time": "2022-01-15T12:12:41.197931",
     "exception": false,
     "start_time": "2022-01-15T12:12:41.114751",
     "status": "completed"
    },
    "tags": []
   },
   "outputs": [],
   "source": [
    "#hide\n",
    "mapping = get_mappings(paths['mapping'])"
   ]
  },
  {
   "cell_type": "code",
   "execution_count": 6,
   "id": "certified-tactics",
   "metadata": {
    "execution": {
     "iopub.execute_input": "2022-01-15T12:12:41.276656Z",
     "iopub.status.busy": "2022-01-15T12:12:41.275939Z",
     "iopub.status.idle": "2022-01-15T12:12:41.278022Z",
     "shell.execute_reply": "2022-01-15T12:12:41.278507Z"
    },
    "papermill": {
     "duration": 0.043318,
     "end_time": "2022-01-15T12:12:41.278660",
     "exception": false,
     "start_time": "2022-01-15T12:12:41.235342",
     "status": "completed"
    },
    "tags": []
   },
   "outputs": [],
   "source": [
    "#hide\n",
    "def get_template(path):\n",
    "    from urllib.parse import urlparse\n",
    "    if bool(urlparse(path).netloc):\n",
    "        from urllib.request import urlopen\n",
    "        return urlopen(path).read().decode('utf8')\n",
    "    return open(path).read()"
   ]
  },
  {
   "cell_type": "code",
   "execution_count": 7,
   "id": "realistic-blast",
   "metadata": {
    "execution": {
     "iopub.execute_input": "2022-01-15T12:12:41.356095Z",
     "iopub.status.busy": "2022-01-15T12:12:41.355438Z",
     "iopub.status.idle": "2022-01-15T12:12:41.359283Z",
     "shell.execute_reply": "2022-01-15T12:12:41.358748Z"
    },
    "papermill": {
     "duration": 0.044419,
     "end_time": "2022-01-15T12:12:41.359419",
     "exception": false,
     "start_time": "2022-01-15T12:12:41.315000",
     "status": "completed"
    },
    "tags": []
   },
   "outputs": [],
   "source": [
    "#hide\n",
    "def get_frame(name):\n",
    "    url = (\n",
    "        'https://raw.githubusercontent.com/CSSEGISandData/COVID-19/master/csse_covid_19_data/'\n",
    "        f'csse_covid_19_time_series/time_series_covid19_{name}_global.csv')\n",
    "    df = pd.read_csv(url)\n",
    "    # rename countries\n",
    "    df['Country/Region'] = df['Country/Region'].replace(mapping['replace.country'])\n",
    "    return df"
   ]
  },
  {
   "cell_type": "code",
   "execution_count": 8,
   "id": "affiliated-characterization",
   "metadata": {
    "execution": {
     "iopub.execute_input": "2022-01-15T12:12:41.433504Z",
     "iopub.status.busy": "2022-01-15T12:12:41.432872Z",
     "iopub.status.idle": "2022-01-15T12:12:41.439078Z",
     "shell.execute_reply": "2022-01-15T12:12:41.438512Z"
    },
    "papermill": {
     "duration": 0.04353,
     "end_time": "2022-01-15T12:12:41.439191",
     "exception": false,
     "start_time": "2022-01-15T12:12:41.395661",
     "status": "completed"
    },
    "tags": []
   },
   "outputs": [],
   "source": [
    "#hide\n",
    "def get_dates(df):\n",
    "    dt_cols = df.columns[~df.columns.isin(['Province/State', 'Country/Region', 'Lat', 'Long'])]\n",
    "    LAST_DATE_I = -1\n",
    "    # sometimes last column may be empty, then go backwards\n",
    "    for i in range(-1, -len(dt_cols), -1):\n",
    "        if not df[dt_cols[i]].fillna(0).eq(0).all():\n",
    "            LAST_DATE_I = i\n",
    "            break\n",
    "    return LAST_DATE_I, dt_cols"
   ]
  },
  {
   "cell_type": "code",
   "execution_count": 9,
   "id": "recent-optimization",
   "metadata": {
    "execution": {
     "iopub.execute_input": "2022-01-15T12:12:41.516655Z",
     "iopub.status.busy": "2022-01-15T12:12:41.515658Z",
     "iopub.status.idle": "2022-01-15T12:12:41.968510Z",
     "shell.execute_reply": "2022-01-15T12:12:41.967901Z"
    },
    "papermill": {
     "duration": 0.492909,
     "end_time": "2022-01-15T12:12:41.968688",
     "exception": false,
     "start_time": "2022-01-15T12:12:41.475779",
     "status": "completed"
    },
    "tags": []
   },
   "outputs": [],
   "source": [
    "#hide\n",
    "COL_REGION = 'Country/Region'\n",
    "# Confirmed, Recovered, Deaths\n",
    "df = get_frame('confirmed')\n",
    "# dft_: timeseries, dfc_: today country agg\n",
    "dft_cases = df\n",
    "dft_deaths = get_frame('deaths')\n",
    "dft_recovered = get_frame('recovered')\n",
    "LAST_DATE_I, dt_cols = get_dates(df)"
   ]
  },
  {
   "cell_type": "code",
   "execution_count": 10,
   "id": "absolute-copper",
   "metadata": {
    "execution": {
     "iopub.execute_input": "2022-01-15T12:12:42.042182Z",
     "iopub.status.busy": "2022-01-15T12:12:42.041472Z",
     "iopub.status.idle": "2022-01-15T12:12:42.046071Z",
     "shell.execute_reply": "2022-01-15T12:12:42.046569Z"
    },
    "papermill": {
     "duration": 0.043097,
     "end_time": "2022-01-15T12:12:42.046703",
     "exception": false,
     "start_time": "2022-01-15T12:12:42.003606",
     "status": "completed"
    },
    "tags": []
   },
   "outputs": [],
   "source": [
    "#hide\n",
    "LAST_DATE_I, dt_cols = get_dates(df)\n",
    "dt_today =dt_cols[LAST_DATE_I]\n",
    "# dt_5day = dt_cols[LAST_DATE_I - 5]\n",
    "dt_yday = dt_cols[LAST_DATE_I - 1]"
   ]
  },
  {
   "cell_type": "code",
   "execution_count": 11,
   "id": "restricted-sheriff",
   "metadata": {
    "execution": {
     "iopub.execute_input": "2022-01-15T12:12:42.125448Z",
     "iopub.status.busy": "2022-01-15T12:12:42.124865Z",
     "iopub.status.idle": "2022-01-15T12:12:42.134282Z",
     "shell.execute_reply": "2022-01-15T12:12:42.133766Z"
    },
    "papermill": {
     "duration": 0.050709,
     "end_time": "2022-01-15T12:12:42.134385",
     "exception": false,
     "start_time": "2022-01-15T12:12:42.083676",
     "status": "completed"
    },
    "tags": []
   },
   "outputs": [],
   "source": [
    "#hide\n",
    "dfc_cases = dft_cases.groupby(COL_REGION)[dt_today].sum()\n",
    "dfc_deaths = dft_deaths.groupby(COL_REGION)[dt_today].sum()\n",
    "# dfp_cases = dft_cases.groupby(COL_REGION)[dt_5day].sum()\n",
    "# dfp_deaths = dft_deaths.groupby(COL_REGION)[dt_5day].sum()\n",
    "dfp_cases = dft_cases.groupby(COL_REGION)[dt_yday].sum()\n",
    "dfp_deaths = dft_deaths.groupby(COL_REGION)[dt_yday].sum()"
   ]
  },
  {
   "cell_type": "code",
   "execution_count": 12,
   "id": "deluxe-hepatitis",
   "metadata": {
    "execution": {
     "iopub.execute_input": "2022-01-15T12:12:42.221356Z",
     "iopub.status.busy": "2022-01-15T12:12:42.220665Z",
     "iopub.status.idle": "2022-01-15T12:12:42.226076Z",
     "shell.execute_reply": "2022-01-15T12:12:42.226673Z"
    },
    "papermill": {
     "duration": 0.048855,
     "end_time": "2022-01-15T12:12:42.226834",
     "exception": false,
     "start_time": "2022-01-15T12:12:42.177979",
     "status": "completed"
    },
    "tags": []
   },
   "outputs": [],
   "source": [
    "#hide\n",
    "df_table = (pd.DataFrame(dict(Cases = dfc_cases, Deaths = dfc_deaths, PCases = dfp_cases, PDeaths = dfp_deaths))\n",
    "            .sort_values(by = ['Cases','Deaths'], ascending = [False, False])\n",
    "            .reset_index())"
   ]
  },
  {
   "cell_type": "code",
   "execution_count": 13,
   "id": "educational-chancellor",
   "metadata": {
    "execution": {
     "iopub.execute_input": "2022-01-15T12:12:42.316784Z",
     "iopub.status.busy": "2022-01-15T12:12:42.316163Z",
     "iopub.status.idle": "2022-01-15T12:12:42.330409Z",
     "shell.execute_reply": "2022-01-15T12:12:42.330941Z"
    },
    "papermill": {
     "duration": 0.067232,
     "end_time": "2022-01-15T12:12:42.331081",
     "exception": false,
     "start_time": "2022-01-15T12:12:42.263849",
     "status": "completed"
    },
    "tags": []
   },
   "outputs": [
    {
     "data": {
      "text/html": [
       "<div>\n",
       "<style scoped>\n",
       "    .dataframe tbody tr th:only-of-type {\n",
       "        vertical-align: middle;\n",
       "    }\n",
       "\n",
       "    .dataframe tbody tr th {\n",
       "        vertical-align: top;\n",
       "    }\n",
       "\n",
       "    .dataframe thead th {\n",
       "        text-align: right;\n",
       "    }\n",
       "</style>\n",
       "<table border=\"1\" class=\"dataframe\">\n",
       "  <thead>\n",
       "    <tr style=\"text-align: right;\">\n",
       "      <th></th>\n",
       "      <th>Country/Region</th>\n",
       "      <th>Cases</th>\n",
       "      <th>Deaths</th>\n",
       "      <th>PCases</th>\n",
       "      <th>PDeaths</th>\n",
       "      <th>Cases (+)</th>\n",
       "      <th>Deaths (+)</th>\n",
       "      <th>Fatality Rate</th>\n",
       "      <th>Continent</th>\n",
       "    </tr>\n",
       "  </thead>\n",
       "  <tbody>\n",
       "    <tr>\n",
       "      <th>0</th>\n",
       "      <td>US</td>\n",
       "      <td>64917963</td>\n",
       "      <td>849241</td>\n",
       "      <td>64062060</td>\n",
       "      <td>846463</td>\n",
       "      <td>855903</td>\n",
       "      <td>2778</td>\n",
       "      <td>1.31</td>\n",
       "      <td>North America</td>\n",
       "    </tr>\n",
       "    <tr>\n",
       "      <th>1</th>\n",
       "      <td>India</td>\n",
       "      <td>36850962</td>\n",
       "      <td>485752</td>\n",
       "      <td>36317927</td>\n",
       "      <td>485131</td>\n",
       "      <td>533035</td>\n",
       "      <td>621</td>\n",
       "      <td>1.32</td>\n",
       "      <td>Asia</td>\n",
       "    </tr>\n",
       "    <tr>\n",
       "      <th>2</th>\n",
       "      <td>Brazil</td>\n",
       "      <td>22933289</td>\n",
       "      <td>621063</td>\n",
       "      <td>22822177</td>\n",
       "      <td>620830</td>\n",
       "      <td>111112</td>\n",
       "      <td>233</td>\n",
       "      <td>2.71</td>\n",
       "      <td>South America</td>\n",
       "    </tr>\n",
       "    <tr>\n",
       "      <th>3</th>\n",
       "      <td>United Kingdom</td>\n",
       "      <td>15165209</td>\n",
       "      <td>152107</td>\n",
       "      <td>15064685</td>\n",
       "      <td>151833</td>\n",
       "      <td>100524</td>\n",
       "      <td>274</td>\n",
       "      <td>1.00</td>\n",
       "      <td>Europe</td>\n",
       "    </tr>\n",
       "    <tr>\n",
       "      <th>4</th>\n",
       "      <td>France</td>\n",
       "      <td>13680775</td>\n",
       "      <td>127711</td>\n",
       "      <td>13351053</td>\n",
       "      <td>127520</td>\n",
       "      <td>329722</td>\n",
       "      <td>191</td>\n",
       "      <td>0.93</td>\n",
       "      <td>Europe</td>\n",
       "    </tr>\n",
       "  </tbody>\n",
       "</table>\n",
       "</div>"
      ],
      "text/plain": [
       "   Country/Region     Cases  Deaths    PCases  PDeaths  Cases (+)  Deaths (+)  \\\n",
       "0              US  64917963  849241  64062060   846463     855903        2778   \n",
       "1           India  36850962  485752  36317927   485131     533035         621   \n",
       "2          Brazil  22933289  621063  22822177   620830     111112         233   \n",
       "3  United Kingdom  15165209  152107  15064685   151833     100524         274   \n",
       "4          France  13680775  127711  13351053   127520     329722         191   \n",
       "\n",
       "   Fatality Rate      Continent  \n",
       "0           1.31  North America  \n",
       "1           1.32           Asia  \n",
       "2           2.71  South America  \n",
       "3           1.00         Europe  \n",
       "4           0.93         Europe  "
      ]
     },
     "execution_count": 13,
     "metadata": {},
     "output_type": "execute_result"
    }
   ],
   "source": [
    "#hide\n",
    "for c in 'Cases, Deaths'.split(', '):\n",
    "    df_table[f'{c} (+)'] = (df_table[c] - df_table[f'P{c}']).clip(0)\n",
    "    #Clip ça veut dire, les chiffres negatif sont interdit\n",
    "df_table['Fatality Rate'] = (100* df_table['Deaths']/ df_table['Cases']).round(2)\n",
    "df_table['Continent'] = df_table['Country/Region'].map(mapping['map.continent'])\n",
    "df_table.head(5)"
   ]
  },
  {
   "cell_type": "code",
   "execution_count": 14,
   "id": "aboriginal-bulgaria",
   "metadata": {
    "execution": {
     "iopub.execute_input": "2022-01-15T12:12:42.412097Z",
     "iopub.status.busy": "2022-01-15T12:12:42.411437Z",
     "iopub.status.idle": "2022-01-15T12:12:42.414430Z",
     "shell.execute_reply": "2022-01-15T12:12:42.415064Z"
    },
    "papermill": {
     "duration": 0.045848,
     "end_time": "2022-01-15T12:12:42.415202",
     "exception": false,
     "start_time": "2022-01-15T12:12:42.369354",
     "status": "completed"
    },
    "tags": []
   },
   "outputs": [],
   "source": [
    "#hide\n",
    "#delete problematic countries from table\n",
    "df_table = df_table[~df_table['Country/Region'].isin(['Cape Verde', 'Cruise Ship', 'Kosovo'])]"
   ]
  },
  {
   "cell_type": "code",
   "execution_count": 15,
   "id": "fantastic-effect",
   "metadata": {
    "execution": {
     "iopub.execute_input": "2022-01-15T12:12:42.495514Z",
     "iopub.status.busy": "2022-01-15T12:12:42.494873Z",
     "iopub.status.idle": "2022-01-15T12:12:42.517501Z",
     "shell.execute_reply": "2022-01-15T12:12:42.518010Z"
    },
    "papermill": {
     "duration": 0.066356,
     "end_time": "2022-01-15T12:12:42.518152",
     "exception": false,
     "start_time": "2022-01-15T12:12:42.451796",
     "status": "completed"
    },
    "tags": []
   },
   "outputs": [
    {
     "data": {
      "text/html": [
       "<div>\n",
       "<style scoped>\n",
       "    .dataframe tbody tr th:only-of-type {\n",
       "        vertical-align: middle;\n",
       "    }\n",
       "\n",
       "    .dataframe tbody tr th {\n",
       "        vertical-align: top;\n",
       "    }\n",
       "\n",
       "    .dataframe thead th {\n",
       "        text-align: right;\n",
       "    }\n",
       "</style>\n",
       "<table border=\"1\" class=\"dataframe\">\n",
       "  <thead>\n",
       "    <tr style=\"text-align: right;\">\n",
       "      <th></th>\n",
       "      <th>Country/Region</th>\n",
       "      <th>Cases</th>\n",
       "      <th>Deaths</th>\n",
       "      <th>PCases</th>\n",
       "      <th>PDeaths</th>\n",
       "      <th>Cases (+)</th>\n",
       "      <th>Deaths (+)</th>\n",
       "      <th>Fatality Rate</th>\n",
       "      <th>Continent</th>\n",
       "    </tr>\n",
       "  </thead>\n",
       "  <tbody>\n",
       "    <tr>\n",
       "      <th>0</th>\n",
       "      <td>US</td>\n",
       "      <td>64917963</td>\n",
       "      <td>849241</td>\n",
       "      <td>64062060</td>\n",
       "      <td>846463</td>\n",
       "      <td>855903</td>\n",
       "      <td>2778</td>\n",
       "      <td>1.3</td>\n",
       "      <td>North America</td>\n",
       "    </tr>\n",
       "    <tr>\n",
       "      <th>1</th>\n",
       "      <td>India</td>\n",
       "      <td>36850962</td>\n",
       "      <td>485752</td>\n",
       "      <td>36317927</td>\n",
       "      <td>485131</td>\n",
       "      <td>533035</td>\n",
       "      <td>621</td>\n",
       "      <td>1.3</td>\n",
       "      <td>Asia</td>\n",
       "    </tr>\n",
       "    <tr>\n",
       "      <th>2</th>\n",
       "      <td>Brazil</td>\n",
       "      <td>22933289</td>\n",
       "      <td>621063</td>\n",
       "      <td>22822177</td>\n",
       "      <td>620830</td>\n",
       "      <td>111112</td>\n",
       "      <td>233</td>\n",
       "      <td>2.7</td>\n",
       "      <td>South America</td>\n",
       "    </tr>\n",
       "    <tr>\n",
       "      <th>3</th>\n",
       "      <td>United Kingdom</td>\n",
       "      <td>15165209</td>\n",
       "      <td>152107</td>\n",
       "      <td>15064685</td>\n",
       "      <td>151833</td>\n",
       "      <td>100524</td>\n",
       "      <td>274</td>\n",
       "      <td>1.0</td>\n",
       "      <td>Europe</td>\n",
       "    </tr>\n",
       "    <tr>\n",
       "      <th>4</th>\n",
       "      <td>France</td>\n",
       "      <td>13680775</td>\n",
       "      <td>127711</td>\n",
       "      <td>13351053</td>\n",
       "      <td>127520</td>\n",
       "      <td>329722</td>\n",
       "      <td>191</td>\n",
       "      <td>0.9</td>\n",
       "      <td>Europe</td>\n",
       "    </tr>\n",
       "  </tbody>\n",
       "</table>\n",
       "</div>"
      ],
      "text/plain": [
       "   Country/Region     Cases  Deaths    PCases  PDeaths  Cases (+)  Deaths (+)  \\\n",
       "0              US  64917963  849241  64062060   846463     855903        2778   \n",
       "1           India  36850962  485752  36317927   485131     533035         621   \n",
       "2          Brazil  22933289  621063  22822177   620830     111112         233   \n",
       "3  United Kingdom  15165209  152107  15064685   151833     100524         274   \n",
       "4          France  13680775  127711  13351053   127520     329722         191   \n",
       "\n",
       "   Fatality Rate      Continent  \n",
       "0            1.3  North America  \n",
       "1            1.3           Asia  \n",
       "2            2.7  South America  \n",
       "3            1.0         Europe  \n",
       "4            0.9         Europe  "
      ]
     },
     "execution_count": 15,
     "metadata": {},
     "output_type": "execute_result"
    }
   ],
   "source": [
    "#hide\n",
    "df_table = (pd.DataFrame(dict(Cases=dfc_cases, Deaths=dfc_deaths, PCases=dfp_cases, PDeaths=dfp_deaths))\n",
    "             .sort_values(by=['Cases', 'Deaths'], ascending=[False, False])\n",
    "             .reset_index())\n",
    "df_table.rename(columns={'index': 'Country/Region'}, inplace=True)\n",
    "for c in 'Cases, Deaths'.split(', '):\n",
    "    df_table[f'{c} (+)'] = (df_table[c] - df_table[f'P{c}']).clip(0)  # DATA BUG\n",
    "df_table['Fatality Rate'] = (100 * df_table['Deaths'] / df_table['Cases']).round(1)\n",
    "df_table['Continent'] = df_table['Country/Region'].map(mapping['map.continent'])\n",
    "df_table.head(5)"
   ]
  },
  {
   "cell_type": "code",
   "execution_count": 16,
   "id": "fewer-occasion",
   "metadata": {
    "execution": {
     "iopub.execute_input": "2022-01-15T12:12:42.620458Z",
     "iopub.status.busy": "2022-01-15T12:12:42.619761Z",
     "iopub.status.idle": "2022-01-15T12:12:42.622460Z",
     "shell.execute_reply": "2022-01-15T12:12:42.621908Z"
    },
    "papermill": {
     "duration": 0.064364,
     "end_time": "2022-01-15T12:12:42.622578",
     "exception": false,
     "start_time": "2022-01-15T12:12:42.558214",
     "status": "completed"
    },
    "tags": []
   },
   "outputs": [],
   "source": [
    "#hide\n",
    "#delete problematic countries from table\n",
    "df_table = df_table[~df_table['Country/Region'].isin(['Cape Verde', 'Cruise Ship', 'Kosovo'])]"
   ]
  },
  {
   "cell_type": "code",
   "execution_count": 17,
   "id": "related-center",
   "metadata": {
    "execution": {
     "iopub.execute_input": "2022-01-15T12:12:42.722591Z",
     "iopub.status.busy": "2022-01-15T12:12:42.721958Z",
     "iopub.status.idle": "2022-01-15T12:12:42.724588Z",
     "shell.execute_reply": "2022-01-15T12:12:42.724053Z"
    },
    "papermill": {
     "duration": 0.063262,
     "end_time": "2022-01-15T12:12:42.724695",
     "exception": false,
     "start_time": "2022-01-15T12:12:42.661433",
     "status": "completed"
    },
    "tags": []
   },
   "outputs": [],
   "source": [
    "#hide\n",
    "metrics = [df_table.columns[index] for index in [1,2,5,6]]\n",
    "# s_china = df_table[df_table['Country/Region'].eq('China')][metrics].sum().add_prefix('China ')\n",
    "s_us = df_table[df_table['Country/Region'].eq('US')][metrics].sum().add_prefix('US ')\n",
    "s_eu = df_table[df_table['Continent'].eq('Europe')][metrics].sum().add_prefix('EU ')\n",
    "s_ind = df_table[df_table['Country/Region'].eq('India')][metrics].sum().add_prefix('India ')\n",
    "summary = {'updated': pd.to_datetime(dt_today), 'since': pd.to_datetime(dt_yday)}\n",
    "summary = {'updated': pd.to_datetime(dt_today), 'since': pd.to_datetime(dt_yday)}\n",
    "summary = {**summary, **df_table[metrics].sum(), **s_ind, **s_us, **s_eu}"
   ]
  },
  {
   "cell_type": "code",
   "execution_count": 18,
   "id": "engaging-syndrome",
   "metadata": {
    "execution": {
     "iopub.execute_input": "2022-01-15T12:12:42.804628Z",
     "iopub.status.busy": "2022-01-15T12:12:42.804008Z",
     "iopub.status.idle": "2022-01-15T12:12:42.818370Z",
     "shell.execute_reply": "2022-01-15T12:12:42.818992Z"
    },
    "papermill": {
     "duration": 0.055621,
     "end_time": "2022-01-15T12:12:42.819129",
     "exception": false,
     "start_time": "2022-01-15T12:12:42.763508",
     "status": "completed"
    },
    "tags": []
   },
   "outputs": [],
   "source": [
    "#hide\n",
    "dft_ct_new_cases = dft_cases.groupby(COL_REGION)[dt_cols].sum().diff(axis=1).fillna(0).astype(int)"
   ]
  },
  {
   "cell_type": "code",
   "execution_count": 19,
   "id": "neutral-assignment",
   "metadata": {
    "execution": {
     "iopub.execute_input": "2022-01-15T12:12:42.899145Z",
     "iopub.status.busy": "2022-01-15T12:12:42.898483Z",
     "iopub.status.idle": "2022-01-15T12:12:42.901264Z",
     "shell.execute_reply": "2022-01-15T12:12:42.901819Z"
    },
    "papermill": {
     "duration": 0.046542,
     "end_time": "2022-01-15T12:12:42.901943",
     "exception": false,
     "start_time": "2022-01-15T12:12:42.855401",
     "status": "completed"
    },
    "tags": []
   },
   "outputs": [],
   "source": [
    "#hide\n",
    "everydaycases = dft_ct_new_cases.cumsum(axis=1)"
   ]
  },
  {
   "cell_type": "code",
   "execution_count": 20,
   "id": "parliamentary-calgary",
   "metadata": {
    "execution": {
     "iopub.execute_input": "2022-01-15T12:12:42.986327Z",
     "iopub.status.busy": "2022-01-15T12:12:42.985695Z",
     "iopub.status.idle": "2022-01-15T12:12:43.674236Z",
     "shell.execute_reply": "2022-01-15T12:12:43.672770Z"
    },
    "papermill": {
     "duration": 0.734245,
     "end_time": "2022-01-15T12:12:43.674387",
     "exception": false,
     "start_time": "2022-01-15T12:12:42.940142",
     "status": "completed"
    },
    "tags": []
   },
   "outputs": [],
   "source": [
    "#hide\n",
    "import pandas as pd\n",
    "import matplotlib.pyplot as plt\n",
    "import matplotlib.ticker as ticker\n",
    "import matplotlib.animation as animation\n",
    "from IPython.display import HTML"
   ]
  },
  {
   "cell_type": "code",
   "execution_count": 21,
   "id": "lasting-extraction",
   "metadata": {
    "execution": {
     "iopub.execute_input": "2022-01-15T12:12:43.770207Z",
     "iopub.status.busy": "2022-01-15T12:12:43.769587Z",
     "iopub.status.idle": "2022-01-15T12:12:43.776085Z",
     "shell.execute_reply": "2022-01-15T12:12:43.775493Z"
    },
    "papermill": {
     "duration": 0.052278,
     "end_time": "2022-01-15T12:12:43.776200",
     "exception": false,
     "start_time": "2022-01-15T12:12:43.723922",
     "status": "completed"
    },
    "tags": []
   },
   "outputs": [],
   "source": [
    "#hide\n",
    "t = everydaycases.stack()"
   ]
  },
  {
   "cell_type": "code",
   "execution_count": 22,
   "id": "premier-sleeve",
   "metadata": {
    "execution": {
     "iopub.execute_input": "2022-01-15T12:12:43.864918Z",
     "iopub.status.busy": "2022-01-15T12:12:43.864165Z",
     "iopub.status.idle": "2022-01-15T12:12:43.874783Z",
     "shell.execute_reply": "2022-01-15T12:12:43.875323Z"
    },
    "papermill": {
     "duration": 0.057305,
     "end_time": "2022-01-15T12:12:43.875481",
     "exception": false,
     "start_time": "2022-01-15T12:12:43.818176",
     "status": "completed"
    },
    "tags": []
   },
   "outputs": [],
   "source": [
    "#hide\n",
    "g = t.reset_index(['Country/Region'])"
   ]
  },
  {
   "cell_type": "code",
   "execution_count": 23,
   "id": "distributed-pittsburgh",
   "metadata": {
    "execution": {
     "iopub.execute_input": "2022-01-15T12:12:43.959462Z",
     "iopub.status.busy": "2022-01-15T12:12:43.958742Z",
     "iopub.status.idle": "2022-01-15T12:12:43.963914Z",
     "shell.execute_reply": "2022-01-15T12:12:43.964440Z"
    },
    "papermill": {
     "duration": 0.048854,
     "end_time": "2022-01-15T12:12:43.964584",
     "exception": false,
     "start_time": "2022-01-15T12:12:43.915730",
     "status": "completed"
    },
    "tags": []
   },
   "outputs": [],
   "source": [
    "#hide\n",
    "g.index.name = 'date'"
   ]
  },
  {
   "cell_type": "code",
   "execution_count": 24,
   "id": "naked-donor",
   "metadata": {
    "execution": {
     "iopub.execute_input": "2022-01-15T12:12:44.051216Z",
     "iopub.status.busy": "2022-01-15T12:12:44.049585Z",
     "iopub.status.idle": "2022-01-15T12:12:44.052262Z",
     "shell.execute_reply": "2022-01-15T12:12:44.052872Z"
    },
    "papermill": {
     "duration": 0.048468,
     "end_time": "2022-01-15T12:12:44.053021",
     "exception": false,
     "start_time": "2022-01-15T12:12:44.004553",
     "status": "completed"
    },
    "tags": []
   },
   "outputs": [],
   "source": [
    "# #hide\n",
    "# g = g.reset_index(['date'])"
   ]
  },
  {
   "cell_type": "code",
   "execution_count": 25,
   "id": "incomplete-mustang",
   "metadata": {
    "execution": {
     "iopub.execute_input": "2022-01-15T12:12:44.130496Z",
     "iopub.status.busy": "2022-01-15T12:12:44.129872Z",
     "iopub.status.idle": "2022-01-15T12:12:44.133937Z",
     "shell.execute_reply": "2022-01-15T12:12:44.133447Z"
    },
    "papermill": {
     "duration": 0.04232,
     "end_time": "2022-01-15T12:12:44.134036",
     "exception": false,
     "start_time": "2022-01-15T12:12:44.091716",
     "status": "completed"
    },
    "tags": []
   },
   "outputs": [],
   "source": [
    "#hide\n",
    "# g.head()"
   ]
  },
  {
   "cell_type": "code",
   "execution_count": 26,
   "id": "specific-kruger",
   "metadata": {
    "execution": {
     "iopub.execute_input": "2022-01-15T12:12:44.249154Z",
     "iopub.status.busy": "2022-01-15T12:12:44.248418Z",
     "iopub.status.idle": "2022-01-15T12:12:44.254365Z",
     "shell.execute_reply": "2022-01-15T12:12:44.253411Z"
    },
    "papermill": {
     "duration": 0.080861,
     "end_time": "2022-01-15T12:12:44.254539",
     "exception": false,
     "start_time": "2022-01-15T12:12:44.173678",
     "status": "completed"
    },
    "tags": []
   },
   "outputs": [],
   "source": [
    "#hide\n",
    "# g.columns = ['date','country','cases']"
   ]
  },
  {
   "cell_type": "code",
   "execution_count": 27,
   "id": "tender-conversion",
   "metadata": {
    "execution": {
     "iopub.execute_input": "2022-01-15T12:12:44.338990Z",
     "iopub.status.busy": "2022-01-15T12:12:44.338345Z",
     "iopub.status.idle": "2022-01-15T12:12:44.342304Z",
     "shell.execute_reply": "2022-01-15T12:12:44.342889Z"
    },
    "papermill": {
     "duration": 0.04533,
     "end_time": "2022-01-15T12:12:44.343048",
     "exception": false,
     "start_time": "2022-01-15T12:12:44.297718",
     "status": "completed"
    },
    "tags": []
   },
   "outputs": [],
   "source": [
    "#hide\n",
    "# g['continent'] = g.country"
   ]
  },
  {
   "cell_type": "code",
   "execution_count": 28,
   "id": "substantial-wilderness",
   "metadata": {
    "execution": {
     "iopub.execute_input": "2022-01-15T12:12:44.423085Z",
     "iopub.status.busy": "2022-01-15T12:12:44.422463Z",
     "iopub.status.idle": "2022-01-15T12:12:44.424891Z",
     "shell.execute_reply": "2022-01-15T12:12:44.424269Z"
    },
    "papermill": {
     "duration": 0.04369,
     "end_time": "2022-01-15T12:12:44.425022",
     "exception": false,
     "start_time": "2022-01-15T12:12:44.381332",
     "status": "completed"
    },
    "tags": []
   },
   "outputs": [],
   "source": [
    "#hide\n",
    "# cols = list(g.columns.values)"
   ]
  },
  {
   "cell_type": "code",
   "execution_count": 29,
   "id": "solved-farming",
   "metadata": {
    "execution": {
     "iopub.execute_input": "2022-01-15T12:12:44.504179Z",
     "iopub.status.busy": "2022-01-15T12:12:44.503319Z",
     "iopub.status.idle": "2022-01-15T12:12:44.505851Z",
     "shell.execute_reply": "2022-01-15T12:12:44.506604Z"
    },
    "papermill": {
     "duration": 0.045756,
     "end_time": "2022-01-15T12:12:44.506744",
     "exception": false,
     "start_time": "2022-01-15T12:12:44.460988",
     "status": "completed"
    },
    "tags": []
   },
   "outputs": [],
   "source": [
    "#hide\n",
    "# cols.insert(0, cols.pop())"
   ]
  },
  {
   "cell_type": "code",
   "execution_count": 30,
   "id": "executed-adoption",
   "metadata": {
    "execution": {
     "iopub.execute_input": "2022-01-15T12:12:44.590354Z",
     "iopub.status.busy": "2022-01-15T12:12:44.589766Z",
     "iopub.status.idle": "2022-01-15T12:12:44.593365Z",
     "shell.execute_reply": "2022-01-15T12:12:44.593846Z"
    },
    "papermill": {
     "duration": 0.048844,
     "end_time": "2022-01-15T12:12:44.593999",
     "exception": false,
     "start_time": "2022-01-15T12:12:44.545155",
     "status": "completed"
    },
    "tags": []
   },
   "outputs": [],
   "source": [
    "#hide\n",
    "# g = g[cols]"
   ]
  },
  {
   "cell_type": "code",
   "execution_count": 31,
   "id": "subject-dublin",
   "metadata": {
    "execution": {
     "iopub.execute_input": "2022-01-15T12:12:44.671154Z",
     "iopub.status.busy": "2022-01-15T12:12:44.670535Z",
     "iopub.status.idle": "2022-01-15T12:12:44.674413Z",
     "shell.execute_reply": "2022-01-15T12:12:44.674909Z"
    },
    "papermill": {
     "duration": 0.04428,
     "end_time": "2022-01-15T12:12:44.675083",
     "exception": false,
     "start_time": "2022-01-15T12:12:44.630803",
     "status": "completed"
    },
    "tags": []
   },
   "outputs": [],
   "source": [
    "#hide\n",
    "# g['continent'] = g['continent'].map(mapping['map.continent'])"
   ]
  },
  {
   "cell_type": "code",
   "execution_count": 32,
   "id": "freelance-scout",
   "metadata": {
    "execution": {
     "iopub.execute_input": "2022-01-15T12:12:44.755288Z",
     "iopub.status.busy": "2022-01-15T12:12:44.754616Z",
     "iopub.status.idle": "2022-01-15T12:12:44.756777Z",
     "shell.execute_reply": "2022-01-15T12:12:44.757300Z"
    },
    "papermill": {
     "duration": 0.04349,
     "end_time": "2022-01-15T12:12:44.757427",
     "exception": false,
     "start_time": "2022-01-15T12:12:44.713937",
     "status": "completed"
    },
    "tags": []
   },
   "outputs": [],
   "source": [
    "#hide\n",
    "# g.head()"
   ]
  },
  {
   "cell_type": "code",
   "execution_count": 33,
   "id": "limited-engine",
   "metadata": {
    "execution": {
     "iopub.execute_input": "2022-01-15T12:12:44.837330Z",
     "iopub.status.busy": "2022-01-15T12:12:44.836677Z",
     "iopub.status.idle": "2022-01-15T12:12:44.838899Z",
     "shell.execute_reply": "2022-01-15T12:12:44.839513Z"
    },
    "papermill": {
     "duration": 0.042374,
     "end_time": "2022-01-15T12:12:44.839691",
     "exception": false,
     "start_time": "2022-01-15T12:12:44.797317",
     "status": "completed"
    },
    "tags": []
   },
   "outputs": [],
   "source": [
    "# hide\n",
    "# g['date'] = g['date'].astype('datetime64[ns]')"
   ]
  },
  {
   "cell_type": "code",
   "execution_count": 34,
   "id": "sophisticated-supervisor",
   "metadata": {
    "execution": {
     "iopub.execute_input": "2022-01-15T12:12:44.920037Z",
     "iopub.status.busy": "2022-01-15T12:12:44.919292Z",
     "iopub.status.idle": "2022-01-15T12:12:44.921613Z",
     "shell.execute_reply": "2022-01-15T12:12:44.921032Z"
    },
    "papermill": {
     "duration": 0.044023,
     "end_time": "2022-01-15T12:12:44.921741",
     "exception": false,
     "start_time": "2022-01-15T12:12:44.877718",
     "status": "completed"
    },
    "tags": []
   },
   "outputs": [],
   "source": [
    "#hide\n",
    "# g['date'] = g.date.dt.dayofyear"
   ]
  },
  {
   "cell_type": "code",
   "execution_count": 35,
   "id": "inside-dubai",
   "metadata": {
    "execution": {
     "iopub.execute_input": "2022-01-15T12:12:45.001737Z",
     "iopub.status.busy": "2022-01-15T12:12:45.000735Z",
     "iopub.status.idle": "2022-01-15T12:12:45.003484Z",
     "shell.execute_reply": "2022-01-15T12:12:45.002846Z"
    },
    "papermill": {
     "duration": 0.044937,
     "end_time": "2022-01-15T12:12:45.003633",
     "exception": false,
     "start_time": "2022-01-15T12:12:44.958696",
     "status": "completed"
    },
    "tags": []
   },
   "outputs": [],
   "source": [
    "#hide\n",
    "# g = g.rename(columns= {'continent':'group','country':'name','cases':'value'})"
   ]
  },
  {
   "cell_type": "code",
   "execution_count": 36,
   "id": "fleet-motorcycle",
   "metadata": {
    "execution": {
     "iopub.execute_input": "2022-01-15T12:12:45.083752Z",
     "iopub.status.busy": "2022-01-15T12:12:45.083084Z",
     "iopub.status.idle": "2022-01-15T12:12:45.086858Z",
     "shell.execute_reply": "2022-01-15T12:12:45.087340Z"
    },
    "papermill": {
     "duration": 0.046899,
     "end_time": "2022-01-15T12:12:45.087466",
     "exception": false,
     "start_time": "2022-01-15T12:12:45.040567",
     "status": "completed"
    },
    "tags": []
   },
   "outputs": [],
   "source": [
    "#hide\n",
    "# cols = ['name','group','day','value']"
   ]
  },
  {
   "cell_type": "code",
   "execution_count": 37,
   "id": "continued-sleeping",
   "metadata": {
    "execution": {
     "iopub.execute_input": "2022-01-15T12:12:45.166011Z",
     "iopub.status.busy": "2022-01-15T12:12:45.165408Z",
     "iopub.status.idle": "2022-01-15T12:12:45.167438Z",
     "shell.execute_reply": "2022-01-15T12:12:45.166838Z"
    },
    "papermill": {
     "duration": 0.041906,
     "end_time": "2022-01-15T12:12:45.167617",
     "exception": false,
     "start_time": "2022-01-15T12:12:45.125711",
     "status": "completed"
    },
    "tags": []
   },
   "outputs": [],
   "source": [
    "#hide\n",
    "# g.rename(columns= {'date':'day'},inplace = True)"
   ]
  },
  {
   "cell_type": "code",
   "execution_count": 38,
   "id": "major-fight",
   "metadata": {
    "execution": {
     "iopub.execute_input": "2022-01-15T12:12:45.248474Z",
     "iopub.status.busy": "2022-01-15T12:12:45.247779Z",
     "iopub.status.idle": "2022-01-15T12:12:45.249948Z",
     "shell.execute_reply": "2022-01-15T12:12:45.249287Z"
    },
    "papermill": {
     "duration": 0.042789,
     "end_time": "2022-01-15T12:12:45.250059",
     "exception": false,
     "start_time": "2022-01-15T12:12:45.207270",
     "status": "completed"
    },
    "tags": []
   },
   "outputs": [],
   "source": [
    "#hide\n",
    "# g = g[cols]"
   ]
  },
  {
   "cell_type": "code",
   "execution_count": 39,
   "id": "structured-mobile",
   "metadata": {
    "execution": {
     "iopub.execute_input": "2022-01-15T12:12:45.329042Z",
     "iopub.status.busy": "2022-01-15T12:12:45.328393Z",
     "iopub.status.idle": "2022-01-15T12:12:45.330897Z",
     "shell.execute_reply": "2022-01-15T12:12:45.330225Z"
    },
    "papermill": {
     "duration": 0.042744,
     "end_time": "2022-01-15T12:12:45.331025",
     "exception": false,
     "start_time": "2022-01-15T12:12:45.288281",
     "status": "completed"
    },
    "tags": []
   },
   "outputs": [],
   "source": [
    "# #hide\n",
    "# g = g[g.group.notna()]"
   ]
  },
  {
   "cell_type": "code",
   "execution_count": 40,
   "id": "determined-closing",
   "metadata": {
    "execution": {
     "iopub.execute_input": "2022-01-15T12:12:45.440135Z",
     "iopub.status.busy": "2022-01-15T12:12:45.439382Z",
     "iopub.status.idle": "2022-01-15T12:12:45.442404Z",
     "shell.execute_reply": "2022-01-15T12:12:45.441846Z"
    },
    "papermill": {
     "duration": 0.056343,
     "end_time": "2022-01-15T12:12:45.442526",
     "exception": false,
     "start_time": "2022-01-15T12:12:45.386183",
     "status": "completed"
    },
    "tags": []
   },
   "outputs": [],
   "source": [
    "# #hide\n",
    "# colors = dict(zip(\n",
    "#     [\"Oceania\", \"Europe\", \"Asia\", \"South America\", \"Middle East\", \"North America\", \"Africa\"],\n",
    "#     [\"#adb0ff\", \"#ffb3ff\", \"#90d595\", \"#e48381\", \"#aafbff\", \"#f7bb5f\", \"#eafb50\"]\n",
    "# ))\n",
    "# group_lk = g.set_index('name')['group'].to_dict()"
   ]
  },
  {
   "cell_type": "code",
   "execution_count": null,
   "id": "gross-drinking",
   "metadata": {
    "papermill": {
     "duration": 0.038987,
     "end_time": "2022-01-15T12:12:45.519495",
     "exception": false,
     "start_time": "2022-01-15T12:12:45.480508",
     "status": "completed"
    },
    "tags": []
   },
   "outputs": [],
   "source": []
  },
  {
   "cell_type": "code",
   "execution_count": 41,
   "id": "subject-macintosh",
   "metadata": {
    "execution": {
     "iopub.execute_input": "2022-01-15T12:12:45.609475Z",
     "iopub.status.busy": "2022-01-15T12:12:45.608826Z",
     "iopub.status.idle": "2022-01-15T12:12:45.611048Z",
     "shell.execute_reply": "2022-01-15T12:12:45.611527Z"
    },
    "papermill": {
     "duration": 0.046423,
     "end_time": "2022-01-15T12:12:45.611675",
     "exception": false,
     "start_time": "2022-01-15T12:12:45.565252",
     "status": "completed"
    },
    "tags": []
   },
   "outputs": [],
   "source": [
    "# #hide\n",
    "# fig, ax = plt.subplots(figsize=(15, 8))\n",
    "\n",
    "# def draw_barchart(current_day):\n",
    "#     dff = g[g['day'].eq(current_day)].sort_values(by='value', ascending=True).tail(10)\n",
    "#     ax.clear()\n",
    "#     ax.barh(dff['name'], dff['value'], color=[colors[group_lk[x]] for x in dff['name']])\n",
    "#     dx = dff['value'].max() / 200\n",
    "    \n",
    "#     for i, (value, name) in enumerate(zip(dff['value'], dff['name'])):\n",
    "#         ax.text(value-dx, i,     name,           size=14, weight=600, ha='right', va='bottom')\n",
    "#         ax.text(value-dx, i-.25, group_lk[name], size=10, color='#444444', ha='right', va='baseline')\n",
    "#         ax.text(value+dx, i,     f'{value:,.0f}',  size=14, ha='left',  va='center')\n",
    "#     ax.text(1, 0.4, current_day, transform=ax.transAxes, color='#777777', size=46, ha='right', weight=800)\n",
    "#     ax.text(0, 1.06, 'Population (thousands)', transform=ax.transAxes, size=12, color='#777777')\n",
    "#     ax.xaxis.set_major_formatter(ticker.StrMethodFormatter('{x:,.0f}'))\n",
    "#     ax.xaxis.set_ticks_position('top')\n",
    "#     ax.tick_params(axis='x', colors='#777777', labelsize=12)\n",
    "#     ax.set_yticks([])\n",
    "#     ax.margins(0, 0.01)\n",
    "#     ax.grid(which='major', axis='x', linestyle='-')\n",
    "#     ax.set_axisbelow(True)\n",
    "    \n",
    "#     ax.text(0, 1.15, 'Coronavirus',\n",
    "#             transform=ax.transAxes, size=24, weight=600, ha='left', va='top')\n",
    "# #     ax.text(1, 0, 'by @pratapvardhan; credit @jburnmurdoch', transform=ax.transAxes, color='#777777', ha='right',\n",
    "# #             bbox=dict(facecolor='white', alpha=0.8, edgecolor='white'))\n",
    "#     plt.box(False)"
   ]
  },
  {
   "cell_type": "code",
   "execution_count": 42,
   "id": "sexual-wages",
   "metadata": {
    "execution": {
     "iopub.execute_input": "2022-01-15T12:12:45.691672Z",
     "iopub.status.busy": "2022-01-15T12:12:45.691049Z",
     "iopub.status.idle": "2022-01-15T12:12:45.693251Z",
     "shell.execute_reply": "2022-01-15T12:12:45.692614Z"
    },
    "papermill": {
     "duration": 0.043251,
     "end_time": "2022-01-15T12:12:45.693398",
     "exception": false,
     "start_time": "2022-01-15T12:12:45.650147",
     "status": "completed"
    },
    "tags": []
   },
   "outputs": [],
   "source": [
    "# #hide_input\n",
    "# fig, ax = plt.subplots(figsize=(15, 8))\n",
    "# animator = animation.FuncAnimation(fig, draw_barchart, frames=range(g.day.values.min(), g.day.values.max()))\n",
    "# HTML(animator.to_jshtml())\n",
    "# # or use animator.to_html5_video() or animator.save() "
   ]
  },
  {
   "cell_type": "code",
   "execution_count": null,
   "id": "australian-container",
   "metadata": {
    "papermill": {
     "duration": 0.03796,
     "end_time": "2022-01-15T12:12:45.768011",
     "exception": false,
     "start_time": "2022-01-15T12:12:45.730051",
     "status": "completed"
    },
    "tags": []
   },
   "outputs": [],
   "source": []
  },
  {
   "cell_type": "code",
   "execution_count": null,
   "id": "mediterranean-pontiac",
   "metadata": {
    "papermill": {
     "duration": 0.036894,
     "end_time": "2022-01-15T12:12:45.842054",
     "exception": false,
     "start_time": "2022-01-15T12:12:45.805160",
     "status": "completed"
    },
    "tags": []
   },
   "outputs": [],
   "source": []
  },
  {
   "cell_type": "code",
   "execution_count": null,
   "id": "aging-legislature",
   "metadata": {
    "papermill": {
     "duration": 0.038442,
     "end_time": "2022-01-15T12:12:45.916978",
     "exception": false,
     "start_time": "2022-01-15T12:12:45.878536",
     "status": "completed"
    },
    "tags": []
   },
   "outputs": [],
   "source": []
  }
 ],
 "metadata": {
  "kernelspec": {
   "display_name": "Python 3",
   "language": "python",
   "name": "python3"
  },
  "language_info": {
   "codemirror_mode": {
    "name": "ipython",
    "version": 3
   },
   "file_extension": ".py",
   "mimetype": "text/x-python",
   "name": "python",
   "nbconvert_exporter": "python",
   "pygments_lexer": "ipython3",
   "version": "3.6.15"
  },
  "papermill": {
   "duration": 7.278128,
   "end_time": "2022-01-15T12:12:46.271959",
   "environment_variables": {},
   "exception": null,
   "input_path": "2020-03-21-covid19exp.ipynb",
   "output_path": "2020-03-21-covid19exp.ipynb",
   "parameters": {},
   "start_time": "2022-01-15T12:12:38.993831",
   "version": "2.0.0"
  }
 },
 "nbformat": 4,
 "nbformat_minor": 5
}