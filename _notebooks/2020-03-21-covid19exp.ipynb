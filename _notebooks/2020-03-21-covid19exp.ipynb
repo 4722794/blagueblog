{
 "cells": [
  {
   "cell_type": "markdown",
   "id": "muslim-click",
   "metadata": {
    "papermill": {
     "duration": 0.044733,
     "end_time": "2021-05-16T00:27:11.098645",
     "exception": false,
     "start_time": "2021-05-16T00:27:11.053912",
     "status": "completed"
    },
    "tags": []
   },
   "source": [
    "# COVID-19 Case Race\n",
    "> A race chart to see rising cases around the world\n",
    "\n",
    "- author: Hargun Oberoi\n",
    "- image: images/covid-overview.png\n",
    "- hide: false\n",
    "- badges: false"
   ]
  },
  {
   "cell_type": "code",
   "execution_count": 1,
   "id": "proof-material",
   "metadata": {
    "execution": {
     "iopub.execute_input": "2021-05-16T00:27:11.189812Z",
     "iopub.status.busy": "2021-05-16T00:27:11.188926Z",
     "iopub.status.idle": "2021-05-16T00:27:11.597254Z",
     "shell.execute_reply": "2021-05-16T00:27:11.596549Z"
    },
    "papermill": {
     "duration": 0.458632,
     "end_time": "2021-05-16T00:27:11.597430",
     "exception": false,
     "start_time": "2021-05-16T00:27:11.138798",
     "status": "completed"
    },
    "tags": []
   },
   "outputs": [],
   "source": [
    "#hide\n",
    "import numpy as np\n",
    "import pandas as pd\n",
    "from jinja2 import Template\n",
    "from IPython.display import HTML"
   ]
  },
  {
   "cell_type": "code",
   "execution_count": 2,
   "id": "developed-terminology",
   "metadata": {
    "execution": {
     "iopub.execute_input": "2021-05-16T00:27:11.690702Z",
     "iopub.status.busy": "2021-05-16T00:27:11.690024Z",
     "iopub.status.idle": "2021-05-16T00:27:11.692998Z",
     "shell.execute_reply": "2021-05-16T00:27:11.692360Z"
    },
    "papermill": {
     "duration": 0.052114,
     "end_time": "2021-05-16T00:27:11.693128",
     "exception": false,
     "start_time": "2021-05-16T00:27:11.641014",
     "status": "completed"
    },
    "tags": []
   },
   "outputs": [],
   "source": [
    "#hide\n",
    "\n",
    "# FETCH\n",
    "base_url = 'https://raw.githubusercontent.com/pratapvardhan/notebooks/master/covid19/'\n",
    "paths = {\n",
    "    'mapping': base_url + 'mapping_countries.csv',\n",
    "    'overview': base_url + 'overview.tpl'\n",
    "}"
   ]
  },
  {
   "cell_type": "code",
   "execution_count": 3,
   "id": "dynamic-saver",
   "metadata": {
    "execution": {
     "iopub.execute_input": "2021-05-16T00:27:11.786689Z",
     "iopub.status.busy": "2021-05-16T00:27:11.785887Z",
     "iopub.status.idle": "2021-05-16T00:27:11.790729Z",
     "shell.execute_reply": "2021-05-16T00:27:11.791318Z"
    },
    "papermill": {
     "duration": 0.058542,
     "end_time": "2021-05-16T00:27:11.791491",
     "exception": false,
     "start_time": "2021-05-16T00:27:11.732949",
     "status": "completed"
    },
    "tags": []
   },
   "outputs": [
    {
     "data": {
      "text/plain": [
       "'https://raw.githubusercontent.com/pratapvardhan/notebooks/master/covid19/mapping_countries.csv'"
      ]
     },
     "execution_count": 3,
     "metadata": {},
     "output_type": "execute_result"
    }
   ],
   "source": [
    "#hide\n",
    "paths['mapping']"
   ]
  },
  {
   "cell_type": "code",
   "execution_count": 4,
   "id": "urban-software",
   "metadata": {
    "execution": {
     "iopub.execute_input": "2021-05-16T00:27:11.888343Z",
     "iopub.status.busy": "2021-05-16T00:27:11.887498Z",
     "iopub.status.idle": "2021-05-16T00:27:11.889559Z",
     "shell.execute_reply": "2021-05-16T00:27:11.890279Z"
    },
    "papermill": {
     "duration": 0.053336,
     "end_time": "2021-05-16T00:27:11.890434",
     "exception": false,
     "start_time": "2021-05-16T00:27:11.837098",
     "status": "completed"
    },
    "tags": []
   },
   "outputs": [],
   "source": [
    "#hide\n",
    "def get_mappings(url):\n",
    "    df = pd.read_csv(url)\n",
    "    return {\n",
    "        'df': df,\n",
    "        'replace.country': dict(df.dropna(subset=['Name']).set_index('Country')['Name']),\n",
    "        'map.continent': dict(df.set_index('Name')['Continent'])\n",
    "    }"
   ]
  },
  {
   "cell_type": "code",
   "execution_count": 5,
   "id": "intimate-machinery",
   "metadata": {
    "execution": {
     "iopub.execute_input": "2021-05-16T00:27:11.982626Z",
     "iopub.status.busy": "2021-05-16T00:27:11.981997Z",
     "iopub.status.idle": "2021-05-16T00:27:12.027307Z",
     "shell.execute_reply": "2021-05-16T00:27:12.026729Z"
    },
    "papermill": {
     "duration": 0.092516,
     "end_time": "2021-05-16T00:27:12.027510",
     "exception": false,
     "start_time": "2021-05-16T00:27:11.934994",
     "status": "completed"
    },
    "tags": []
   },
   "outputs": [],
   "source": [
    "#hide\n",
    "mapping = get_mappings(paths['mapping'])"
   ]
  },
  {
   "cell_type": "code",
   "execution_count": 6,
   "id": "certified-tactics",
   "metadata": {
    "execution": {
     "iopub.execute_input": "2021-05-16T00:27:12.120679Z",
     "iopub.status.busy": "2021-05-16T00:27:12.119976Z",
     "iopub.status.idle": "2021-05-16T00:27:12.122499Z",
     "shell.execute_reply": "2021-05-16T00:27:12.121829Z"
    },
    "papermill": {
     "duration": 0.051858,
     "end_time": "2021-05-16T00:27:12.122646",
     "exception": false,
     "start_time": "2021-05-16T00:27:12.070788",
     "status": "completed"
    },
    "tags": []
   },
   "outputs": [],
   "source": [
    "#hide\n",
    "def get_template(path):\n",
    "    from urllib.parse import urlparse\n",
    "    if bool(urlparse(path).netloc):\n",
    "        from urllib.request import urlopen\n",
    "        return urlopen(path).read().decode('utf8')\n",
    "    return open(path).read()"
   ]
  },
  {
   "cell_type": "code",
   "execution_count": 7,
   "id": "realistic-blast",
   "metadata": {
    "execution": {
     "iopub.execute_input": "2021-05-16T00:27:12.212312Z",
     "iopub.status.busy": "2021-05-16T00:27:12.211658Z",
     "iopub.status.idle": "2021-05-16T00:27:12.214279Z",
     "shell.execute_reply": "2021-05-16T00:27:12.213584Z"
    },
    "papermill": {
     "duration": 0.048893,
     "end_time": "2021-05-16T00:27:12.214423",
     "exception": false,
     "start_time": "2021-05-16T00:27:12.165530",
     "status": "completed"
    },
    "tags": []
   },
   "outputs": [],
   "source": [
    "#hide\n",
    "def get_frame(name):\n",
    "    url = (\n",
    "        'https://raw.githubusercontent.com/CSSEGISandData/COVID-19/master/csse_covid_19_data/'\n",
    "        f'csse_covid_19_time_series/time_series_covid19_{name}_global.csv')\n",
    "    df = pd.read_csv(url)\n",
    "    # rename countries\n",
    "    df['Country/Region'] = df['Country/Region'].replace(mapping['replace.country'])\n",
    "    return df"
   ]
  },
  {
   "cell_type": "code",
   "execution_count": 8,
   "id": "affiliated-characterization",
   "metadata": {
    "execution": {
     "iopub.execute_input": "2021-05-16T00:27:12.303223Z",
     "iopub.status.busy": "2021-05-16T00:27:12.302539Z",
     "iopub.status.idle": "2021-05-16T00:27:12.305189Z",
     "shell.execute_reply": "2021-05-16T00:27:12.304607Z"
    },
    "papermill": {
     "duration": 0.05034,
     "end_time": "2021-05-16T00:27:12.305334",
     "exception": false,
     "start_time": "2021-05-16T00:27:12.254994",
     "status": "completed"
    },
    "tags": []
   },
   "outputs": [],
   "source": [
    "#hide\n",
    "def get_dates(df):\n",
    "    dt_cols = df.columns[~df.columns.isin(['Province/State', 'Country/Region', 'Lat', 'Long'])]\n",
    "    LAST_DATE_I = -1\n",
    "    # sometimes last column may be empty, then go backwards\n",
    "    for i in range(-1, -len(dt_cols), -1):\n",
    "        if not df[dt_cols[i]].fillna(0).eq(0).all():\n",
    "            LAST_DATE_I = i\n",
    "            break\n",
    "    return LAST_DATE_I, dt_cols"
   ]
  },
  {
   "cell_type": "code",
   "execution_count": 9,
   "id": "recent-optimization",
   "metadata": {
    "execution": {
     "iopub.execute_input": "2021-05-16T00:27:12.392535Z",
     "iopub.status.busy": "2021-05-16T00:27:12.391704Z",
     "iopub.status.idle": "2021-05-16T00:27:12.799235Z",
     "shell.execute_reply": "2021-05-16T00:27:12.798671Z"
    },
    "papermill": {
     "duration": 0.454464,
     "end_time": "2021-05-16T00:27:12.799381",
     "exception": false,
     "start_time": "2021-05-16T00:27:12.344917",
     "status": "completed"
    },
    "tags": []
   },
   "outputs": [],
   "source": [
    "#hide\n",
    "COL_REGION = 'Country/Region'\n",
    "# Confirmed, Recovered, Deaths\n",
    "df = get_frame('confirmed')\n",
    "# dft_: timeseries, dfc_: today country agg\n",
    "dft_cases = df\n",
    "dft_deaths = get_frame('deaths')\n",
    "dft_recovered = get_frame('recovered')\n",
    "LAST_DATE_I, dt_cols = get_dates(df)"
   ]
  },
  {
   "cell_type": "code",
   "execution_count": 10,
   "id": "absolute-copper",
   "metadata": {
    "execution": {
     "iopub.execute_input": "2021-05-16T00:27:12.887548Z",
     "iopub.status.busy": "2021-05-16T00:27:12.886833Z",
     "iopub.status.idle": "2021-05-16T00:27:12.890902Z",
     "shell.execute_reply": "2021-05-16T00:27:12.890299Z"
    },
    "papermill": {
     "duration": 0.050623,
     "end_time": "2021-05-16T00:27:12.891052",
     "exception": false,
     "start_time": "2021-05-16T00:27:12.840429",
     "status": "completed"
    },
    "tags": []
   },
   "outputs": [],
   "source": [
    "#hide\n",
    "LAST_DATE_I, dt_cols = get_dates(df)\n",
    "dt_today =dt_cols[LAST_DATE_I]\n",
    "# dt_5day = dt_cols[LAST_DATE_I - 5]\n",
    "dt_yday = dt_cols[LAST_DATE_I - 1]"
   ]
  },
  {
   "cell_type": "code",
   "execution_count": 11,
   "id": "restricted-sheriff",
   "metadata": {
    "execution": {
     "iopub.execute_input": "2021-05-16T00:27:12.985969Z",
     "iopub.status.busy": "2021-05-16T00:27:12.985284Z",
     "iopub.status.idle": "2021-05-16T00:27:12.990581Z",
     "shell.execute_reply": "2021-05-16T00:27:12.991187Z"
    },
    "papermill": {
     "duration": 0.059035,
     "end_time": "2021-05-16T00:27:12.991337",
     "exception": false,
     "start_time": "2021-05-16T00:27:12.932302",
     "status": "completed"
    },
    "tags": []
   },
   "outputs": [],
   "source": [
    "#hide\n",
    "dfc_cases = dft_cases.groupby(COL_REGION)[dt_today].sum()\n",
    "dfc_deaths = dft_deaths.groupby(COL_REGION)[dt_today].sum()\n",
    "# dfp_cases = dft_cases.groupby(COL_REGION)[dt_5day].sum()\n",
    "# dfp_deaths = dft_deaths.groupby(COL_REGION)[dt_5day].sum()\n",
    "dfp_cases = dft_cases.groupby(COL_REGION)[dt_yday].sum()\n",
    "dfp_deaths = dft_deaths.groupby(COL_REGION)[dt_yday].sum()"
   ]
  },
  {
   "cell_type": "code",
   "execution_count": 12,
   "id": "deluxe-hepatitis",
   "metadata": {
    "execution": {
     "iopub.execute_input": "2021-05-16T00:27:13.080878Z",
     "iopub.status.busy": "2021-05-16T00:27:13.080184Z",
     "iopub.status.idle": "2021-05-16T00:27:13.086797Z",
     "shell.execute_reply": "2021-05-16T00:27:13.086025Z"
    },
    "papermill": {
     "duration": 0.054543,
     "end_time": "2021-05-16T00:27:13.086938",
     "exception": false,
     "start_time": "2021-05-16T00:27:13.032395",
     "status": "completed"
    },
    "tags": []
   },
   "outputs": [],
   "source": [
    "#hide\n",
    "df_table = (pd.DataFrame(dict(Cases = dfc_cases, Deaths = dfc_deaths, PCases = dfp_cases, PDeaths = dfp_deaths))\n",
    "            .sort_values(by = ['Cases','Deaths'], ascending = [False, False])\n",
    "            .reset_index())"
   ]
  },
  {
   "cell_type": "code",
   "execution_count": 13,
   "id": "educational-chancellor",
   "metadata": {
    "execution": {
     "iopub.execute_input": "2021-05-16T00:27:13.198180Z",
     "iopub.status.busy": "2021-05-16T00:27:13.197488Z",
     "iopub.status.idle": "2021-05-16T00:27:13.201567Z",
     "shell.execute_reply": "2021-05-16T00:27:13.202322Z"
    },
    "papermill": {
     "duration": 0.074598,
     "end_time": "2021-05-16T00:27:13.202483",
     "exception": false,
     "start_time": "2021-05-16T00:27:13.127885",
     "status": "completed"
    },
    "tags": []
   },
   "outputs": [
    {
     "data": {
      "text/html": [
       "<div>\n",
       "<style scoped>\n",
       "    .dataframe tbody tr th:only-of-type {\n",
       "        vertical-align: middle;\n",
       "    }\n",
       "\n",
       "    .dataframe tbody tr th {\n",
       "        vertical-align: top;\n",
       "    }\n",
       "\n",
       "    .dataframe thead th {\n",
       "        text-align: right;\n",
       "    }\n",
       "</style>\n",
       "<table border=\"1\" class=\"dataframe\">\n",
       "  <thead>\n",
       "    <tr style=\"text-align: right;\">\n",
       "      <th></th>\n",
       "      <th>Country/Region</th>\n",
       "      <th>Cases</th>\n",
       "      <th>Deaths</th>\n",
       "      <th>PCases</th>\n",
       "      <th>PDeaths</th>\n",
       "      <th>Cases (+)</th>\n",
       "      <th>Deaths (+)</th>\n",
       "      <th>Fatality Rate</th>\n",
       "      <th>Continent</th>\n",
       "    </tr>\n",
       "  </thead>\n",
       "  <tbody>\n",
       "    <tr>\n",
       "      <th>0</th>\n",
       "      <td>US</td>\n",
       "      <td>32895169</td>\n",
       "      <td>585232</td>\n",
       "      <td>32852871</td>\n",
       "      <td>584487</td>\n",
       "      <td>42298</td>\n",
       "      <td>745</td>\n",
       "      <td>1.78</td>\n",
       "      <td>North America</td>\n",
       "    </tr>\n",
       "    <tr>\n",
       "      <th>1</th>\n",
       "      <td>India</td>\n",
       "      <td>24372907</td>\n",
       "      <td>266207</td>\n",
       "      <td>24046809</td>\n",
       "      <td>262317</td>\n",
       "      <td>326098</td>\n",
       "      <td>3890</td>\n",
       "      <td>1.09</td>\n",
       "      <td>Asia</td>\n",
       "    </tr>\n",
       "    <tr>\n",
       "      <th>2</th>\n",
       "      <td>Brazil</td>\n",
       "      <td>15519525</td>\n",
       "      <td>432628</td>\n",
       "      <td>15433989</td>\n",
       "      <td>430417</td>\n",
       "      <td>85536</td>\n",
       "      <td>2211</td>\n",
       "      <td>2.79</td>\n",
       "      <td>South America</td>\n",
       "    </tr>\n",
       "    <tr>\n",
       "      <th>3</th>\n",
       "      <td>France</td>\n",
       "      <td>5909386</td>\n",
       "      <td>107584</td>\n",
       "      <td>5902343</td>\n",
       "      <td>107411</td>\n",
       "      <td>7043</td>\n",
       "      <td>173</td>\n",
       "      <td>1.82</td>\n",
       "      <td>Europe</td>\n",
       "    </tr>\n",
       "    <tr>\n",
       "      <th>4</th>\n",
       "      <td>Turkey</td>\n",
       "      <td>5095390</td>\n",
       "      <td>44301</td>\n",
       "      <td>5083996</td>\n",
       "      <td>44059</td>\n",
       "      <td>11394</td>\n",
       "      <td>242</td>\n",
       "      <td>0.87</td>\n",
       "      <td>Asia</td>\n",
       "    </tr>\n",
       "  </tbody>\n",
       "</table>\n",
       "</div>"
      ],
      "text/plain": [
       "  Country/Region     Cases  Deaths    PCases  PDeaths  Cases (+)  Deaths (+)  \\\n",
       "0             US  32895169  585232  32852871   584487      42298         745   \n",
       "1          India  24372907  266207  24046809   262317     326098        3890   \n",
       "2         Brazil  15519525  432628  15433989   430417      85536        2211   \n",
       "3         France   5909386  107584   5902343   107411       7043         173   \n",
       "4         Turkey   5095390   44301   5083996    44059      11394         242   \n",
       "\n",
       "   Fatality Rate      Continent  \n",
       "0           1.78  North America  \n",
       "1           1.09           Asia  \n",
       "2           2.79  South America  \n",
       "3           1.82         Europe  \n",
       "4           0.87           Asia  "
      ]
     },
     "execution_count": 13,
     "metadata": {},
     "output_type": "execute_result"
    }
   ],
   "source": [
    "#hide\n",
    "for c in 'Cases, Deaths'.split(', '):\n",
    "    df_table[f'{c} (+)'] = (df_table[c] - df_table[f'P{c}']).clip(0)\n",
    "    #Clip ça veut dire, les chiffres negatif sont interdit\n",
    "df_table['Fatality Rate'] = (100* df_table['Deaths']/ df_table['Cases']).round(2)\n",
    "df_table['Continent'] = df_table['Country/Region'].map(mapping['map.continent'])\n",
    "df_table.head(5)"
   ]
  },
  {
   "cell_type": "code",
   "execution_count": 14,
   "id": "aboriginal-bulgaria",
   "metadata": {
    "execution": {
     "iopub.execute_input": "2021-05-16T00:27:13.293778Z",
     "iopub.status.busy": "2021-05-16T00:27:13.293002Z",
     "iopub.status.idle": "2021-05-16T00:27:13.296019Z",
     "shell.execute_reply": "2021-05-16T00:27:13.296597Z"
    },
    "papermill": {
     "duration": 0.05156,
     "end_time": "2021-05-16T00:27:13.296761",
     "exception": false,
     "start_time": "2021-05-16T00:27:13.245201",
     "status": "completed"
    },
    "tags": []
   },
   "outputs": [],
   "source": [
    "#hide\n",
    "#delete problematic countries from table\n",
    "df_table = df_table[~df_table['Country/Region'].isin(['Cape Verde', 'Cruise Ship', 'Kosovo'])]"
   ]
  },
  {
   "cell_type": "code",
   "execution_count": 15,
   "id": "fantastic-effect",
   "metadata": {
    "execution": {
     "iopub.execute_input": "2021-05-16T00:27:13.393867Z",
     "iopub.status.busy": "2021-05-16T00:27:13.393032Z",
     "iopub.status.idle": "2021-05-16T00:27:13.414879Z",
     "shell.execute_reply": "2021-05-16T00:27:13.415367Z"
    },
    "papermill": {
     "duration": 0.076404,
     "end_time": "2021-05-16T00:27:13.415528",
     "exception": false,
     "start_time": "2021-05-16T00:27:13.339124",
     "status": "completed"
    },
    "tags": []
   },
   "outputs": [
    {
     "data": {
      "text/html": [
       "<div>\n",
       "<style scoped>\n",
       "    .dataframe tbody tr th:only-of-type {\n",
       "        vertical-align: middle;\n",
       "    }\n",
       "\n",
       "    .dataframe tbody tr th {\n",
       "        vertical-align: top;\n",
       "    }\n",
       "\n",
       "    .dataframe thead th {\n",
       "        text-align: right;\n",
       "    }\n",
       "</style>\n",
       "<table border=\"1\" class=\"dataframe\">\n",
       "  <thead>\n",
       "    <tr style=\"text-align: right;\">\n",
       "      <th></th>\n",
       "      <th>Country/Region</th>\n",
       "      <th>Cases</th>\n",
       "      <th>Deaths</th>\n",
       "      <th>PCases</th>\n",
       "      <th>PDeaths</th>\n",
       "      <th>Cases (+)</th>\n",
       "      <th>Deaths (+)</th>\n",
       "      <th>Fatality Rate</th>\n",
       "      <th>Continent</th>\n",
       "    </tr>\n",
       "  </thead>\n",
       "  <tbody>\n",
       "    <tr>\n",
       "      <th>0</th>\n",
       "      <td>US</td>\n",
       "      <td>32895169</td>\n",
       "      <td>585232</td>\n",
       "      <td>32852871</td>\n",
       "      <td>584487</td>\n",
       "      <td>42298</td>\n",
       "      <td>745</td>\n",
       "      <td>1.8</td>\n",
       "      <td>North America</td>\n",
       "    </tr>\n",
       "    <tr>\n",
       "      <th>1</th>\n",
       "      <td>India</td>\n",
       "      <td>24372907</td>\n",
       "      <td>266207</td>\n",
       "      <td>24046809</td>\n",
       "      <td>262317</td>\n",
       "      <td>326098</td>\n",
       "      <td>3890</td>\n",
       "      <td>1.1</td>\n",
       "      <td>Asia</td>\n",
       "    </tr>\n",
       "    <tr>\n",
       "      <th>2</th>\n",
       "      <td>Brazil</td>\n",
       "      <td>15519525</td>\n",
       "      <td>432628</td>\n",
       "      <td>15433989</td>\n",
       "      <td>430417</td>\n",
       "      <td>85536</td>\n",
       "      <td>2211</td>\n",
       "      <td>2.8</td>\n",
       "      <td>South America</td>\n",
       "    </tr>\n",
       "    <tr>\n",
       "      <th>3</th>\n",
       "      <td>France</td>\n",
       "      <td>5909386</td>\n",
       "      <td>107584</td>\n",
       "      <td>5902343</td>\n",
       "      <td>107411</td>\n",
       "      <td>7043</td>\n",
       "      <td>173</td>\n",
       "      <td>1.8</td>\n",
       "      <td>Europe</td>\n",
       "    </tr>\n",
       "    <tr>\n",
       "      <th>4</th>\n",
       "      <td>Turkey</td>\n",
       "      <td>5095390</td>\n",
       "      <td>44301</td>\n",
       "      <td>5083996</td>\n",
       "      <td>44059</td>\n",
       "      <td>11394</td>\n",
       "      <td>242</td>\n",
       "      <td>0.9</td>\n",
       "      <td>Asia</td>\n",
       "    </tr>\n",
       "  </tbody>\n",
       "</table>\n",
       "</div>"
      ],
      "text/plain": [
       "  Country/Region     Cases  Deaths    PCases  PDeaths  Cases (+)  Deaths (+)  \\\n",
       "0             US  32895169  585232  32852871   584487      42298         745   \n",
       "1          India  24372907  266207  24046809   262317     326098        3890   \n",
       "2         Brazil  15519525  432628  15433989   430417      85536        2211   \n",
       "3         France   5909386  107584   5902343   107411       7043         173   \n",
       "4         Turkey   5095390   44301   5083996    44059      11394         242   \n",
       "\n",
       "   Fatality Rate      Continent  \n",
       "0            1.8  North America  \n",
       "1            1.1           Asia  \n",
       "2            2.8  South America  \n",
       "3            1.8         Europe  \n",
       "4            0.9           Asia  "
      ]
     },
     "execution_count": 15,
     "metadata": {},
     "output_type": "execute_result"
    }
   ],
   "source": [
    "#hide\n",
    "df_table = (pd.DataFrame(dict(Cases=dfc_cases, Deaths=dfc_deaths, PCases=dfp_cases, PDeaths=dfp_deaths))\n",
    "             .sort_values(by=['Cases', 'Deaths'], ascending=[False, False])\n",
    "             .reset_index())\n",
    "df_table.rename(columns={'index': 'Country/Region'}, inplace=True)\n",
    "for c in 'Cases, Deaths'.split(', '):\n",
    "    df_table[f'{c} (+)'] = (df_table[c] - df_table[f'P{c}']).clip(0)  # DATA BUG\n",
    "df_table['Fatality Rate'] = (100 * df_table['Deaths'] / df_table['Cases']).round(1)\n",
    "df_table['Continent'] = df_table['Country/Region'].map(mapping['map.continent'])\n",
    "df_table.head(5)"
   ]
  },
  {
   "cell_type": "code",
   "execution_count": 16,
   "id": "fewer-occasion",
   "metadata": {
    "execution": {
     "iopub.execute_input": "2021-05-16T00:27:13.505953Z",
     "iopub.status.busy": "2021-05-16T00:27:13.505148Z",
     "iopub.status.idle": "2021-05-16T00:27:13.508104Z",
     "shell.execute_reply": "2021-05-16T00:27:13.508901Z"
    },
    "papermill": {
     "duration": 0.051359,
     "end_time": "2021-05-16T00:27:13.509055",
     "exception": false,
     "start_time": "2021-05-16T00:27:13.457696",
     "status": "completed"
    },
    "tags": []
   },
   "outputs": [],
   "source": [
    "#hide\n",
    "#delete problematic countries from table\n",
    "df_table = df_table[~df_table['Country/Region'].isin(['Cape Verde', 'Cruise Ship', 'Kosovo'])]"
   ]
  },
  {
   "cell_type": "code",
   "execution_count": 17,
   "id": "related-center",
   "metadata": {
    "execution": {
     "iopub.execute_input": "2021-05-16T00:27:13.625530Z",
     "iopub.status.busy": "2021-05-16T00:27:13.624694Z",
     "iopub.status.idle": "2021-05-16T00:27:13.626472Z",
     "shell.execute_reply": "2021-05-16T00:27:13.627089Z"
    },
    "papermill": {
     "duration": 0.07031,
     "end_time": "2021-05-16T00:27:13.627247",
     "exception": false,
     "start_time": "2021-05-16T00:27:13.556937",
     "status": "completed"
    },
    "tags": []
   },
   "outputs": [],
   "source": [
    "#hide\n",
    "metrics = [df_table.columns[index] for index in [1,2,5,6]]\n",
    "# s_china = df_table[df_table['Country/Region'].eq('China')][metrics].sum().add_prefix('China ')\n",
    "s_us = df_table[df_table['Country/Region'].eq('US')][metrics].sum().add_prefix('US ')\n",
    "s_eu = df_table[df_table['Continent'].eq('Europe')][metrics].sum().add_prefix('EU ')\n",
    "s_ind = df_table[df_table['Country/Region'].eq('India')][metrics].sum().add_prefix('India ')\n",
    "summary = {'updated': pd.to_datetime(dt_today), 'since': pd.to_datetime(dt_yday)}\n",
    "summary = {'updated': pd.to_datetime(dt_today), 'since': pd.to_datetime(dt_yday)}\n",
    "summary = {**summary, **df_table[metrics].sum(), **s_ind, **s_us, **s_eu}"
   ]
  },
  {
   "cell_type": "code",
   "execution_count": 18,
   "id": "engaging-syndrome",
   "metadata": {
    "execution": {
     "iopub.execute_input": "2021-05-16T00:27:13.728085Z",
     "iopub.status.busy": "2021-05-16T00:27:13.727389Z",
     "iopub.status.idle": "2021-05-16T00:27:13.744788Z",
     "shell.execute_reply": "2021-05-16T00:27:13.745461Z"
    },
    "papermill": {
     "duration": 0.075612,
     "end_time": "2021-05-16T00:27:13.746395",
     "exception": false,
     "start_time": "2021-05-16T00:27:13.670783",
     "status": "completed"
    },
    "tags": []
   },
   "outputs": [],
   "source": [
    "#hide\n",
    "dft_ct_new_cases = dft_cases.groupby(COL_REGION)[dt_cols].sum().diff(axis=1).fillna(0).astype(int)"
   ]
  },
  {
   "cell_type": "code",
   "execution_count": 19,
   "id": "neutral-assignment",
   "metadata": {
    "execution": {
     "iopub.execute_input": "2021-05-16T00:27:13.844394Z",
     "iopub.status.busy": "2021-05-16T00:27:13.843313Z",
     "iopub.status.idle": "2021-05-16T00:27:13.845407Z",
     "shell.execute_reply": "2021-05-16T00:27:13.846069Z"
    },
    "papermill": {
     "duration": 0.053531,
     "end_time": "2021-05-16T00:27:13.846210",
     "exception": false,
     "start_time": "2021-05-16T00:27:13.792679",
     "status": "completed"
    },
    "tags": []
   },
   "outputs": [],
   "source": [
    "#hide\n",
    "everydaycases = dft_ct_new_cases.cumsum(axis=1)"
   ]
  },
  {
   "cell_type": "code",
   "execution_count": 20,
   "id": "parliamentary-calgary",
   "metadata": {
    "execution": {
     "iopub.execute_input": "2021-05-16T00:27:13.943985Z",
     "iopub.status.busy": "2021-05-16T00:27:13.943263Z",
     "iopub.status.idle": "2021-05-16T00:27:14.619298Z",
     "shell.execute_reply": "2021-05-16T00:27:14.618167Z"
    },
    "papermill": {
     "duration": 0.731024,
     "end_time": "2021-05-16T00:27:14.619499",
     "exception": false,
     "start_time": "2021-05-16T00:27:13.888475",
     "status": "completed"
    },
    "tags": []
   },
   "outputs": [],
   "source": [
    "#hide\n",
    "import pandas as pd\n",
    "import matplotlib.pyplot as plt\n",
    "import matplotlib.ticker as ticker\n",
    "import matplotlib.animation as animation\n",
    "from IPython.display import HTML"
   ]
  },
  {
   "cell_type": "code",
   "execution_count": 21,
   "id": "lasting-extraction",
   "metadata": {
    "execution": {
     "iopub.execute_input": "2021-05-16T00:27:14.711437Z",
     "iopub.status.busy": "2021-05-16T00:27:14.710794Z",
     "iopub.status.idle": "2021-05-16T00:27:14.717375Z",
     "shell.execute_reply": "2021-05-16T00:27:14.716719Z"
    },
    "papermill": {
     "duration": 0.056794,
     "end_time": "2021-05-16T00:27:14.717509",
     "exception": false,
     "start_time": "2021-05-16T00:27:14.660715",
     "status": "completed"
    },
    "tags": []
   },
   "outputs": [],
   "source": [
    "#hide\n",
    "t = everydaycases.stack()"
   ]
  },
  {
   "cell_type": "code",
   "execution_count": 22,
   "id": "premier-sleeve",
   "metadata": {
    "execution": {
     "iopub.execute_input": "2021-05-16T00:27:14.805453Z",
     "iopub.status.busy": "2021-05-16T00:27:14.804743Z",
     "iopub.status.idle": "2021-05-16T00:27:14.814418Z",
     "shell.execute_reply": "2021-05-16T00:27:14.813547Z"
    },
    "papermill": {
     "duration": 0.055987,
     "end_time": "2021-05-16T00:27:14.814582",
     "exception": false,
     "start_time": "2021-05-16T00:27:14.758595",
     "status": "completed"
    },
    "tags": []
   },
   "outputs": [],
   "source": [
    "#hide\n",
    "g = t.reset_index(['Country/Region'])"
   ]
  },
  {
   "cell_type": "code",
   "execution_count": 23,
   "id": "distributed-pittsburgh",
   "metadata": {
    "execution": {
     "iopub.execute_input": "2021-05-16T00:27:14.907840Z",
     "iopub.status.busy": "2021-05-16T00:27:14.907183Z",
     "iopub.status.idle": "2021-05-16T00:27:14.911675Z",
     "shell.execute_reply": "2021-05-16T00:27:14.911175Z"
    },
    "papermill": {
     "duration": 0.051288,
     "end_time": "2021-05-16T00:27:14.911799",
     "exception": false,
     "start_time": "2021-05-16T00:27:14.860511",
     "status": "completed"
    },
    "tags": []
   },
   "outputs": [],
   "source": [
    "#hide\n",
    "g.index.name = 'date'"
   ]
  },
  {
   "cell_type": "code",
   "execution_count": 24,
   "id": "naked-donor",
   "metadata": {
    "execution": {
     "iopub.execute_input": "2021-05-16T00:27:15.004525Z",
     "iopub.status.busy": "2021-05-16T00:27:15.003825Z",
     "iopub.status.idle": "2021-05-16T00:27:15.007373Z",
     "shell.execute_reply": "2021-05-16T00:27:15.006710Z"
    },
    "papermill": {
     "duration": 0.054309,
     "end_time": "2021-05-16T00:27:15.007508",
     "exception": false,
     "start_time": "2021-05-16T00:27:14.953199",
     "status": "completed"
    },
    "tags": []
   },
   "outputs": [],
   "source": [
    "# #hide\n",
    "# g = g.reset_index(['date'])"
   ]
  },
  {
   "cell_type": "code",
   "execution_count": 25,
   "id": "incomplete-mustang",
   "metadata": {
    "execution": {
     "iopub.execute_input": "2021-05-16T00:27:15.103785Z",
     "iopub.status.busy": "2021-05-16T00:27:15.102978Z",
     "iopub.status.idle": "2021-05-16T00:27:15.107979Z",
     "shell.execute_reply": "2021-05-16T00:27:15.107236Z"
    },
    "papermill": {
     "duration": 0.053518,
     "end_time": "2021-05-16T00:27:15.108184",
     "exception": false,
     "start_time": "2021-05-16T00:27:15.054666",
     "status": "completed"
    },
    "tags": []
   },
   "outputs": [],
   "source": [
    "#hide\n",
    "# g.head()"
   ]
  },
  {
   "cell_type": "code",
   "execution_count": 26,
   "id": "specific-kruger",
   "metadata": {
    "execution": {
     "iopub.execute_input": "2021-05-16T00:27:15.199888Z",
     "iopub.status.busy": "2021-05-16T00:27:15.199258Z",
     "iopub.status.idle": "2021-05-16T00:27:15.202421Z",
     "shell.execute_reply": "2021-05-16T00:27:15.201739Z"
    },
    "papermill": {
     "duration": 0.049351,
     "end_time": "2021-05-16T00:27:15.202549",
     "exception": false,
     "start_time": "2021-05-16T00:27:15.153198",
     "status": "completed"
    },
    "tags": []
   },
   "outputs": [],
   "source": [
    "#hide\n",
    "# g.columns = ['date','country','cases']"
   ]
  },
  {
   "cell_type": "code",
   "execution_count": 27,
   "id": "tender-conversion",
   "metadata": {
    "execution": {
     "iopub.execute_input": "2021-05-16T00:27:15.296890Z",
     "iopub.status.busy": "2021-05-16T00:27:15.296192Z",
     "iopub.status.idle": "2021-05-16T00:27:15.298991Z",
     "shell.execute_reply": "2021-05-16T00:27:15.299713Z"
    },
    "papermill": {
     "duration": 0.047124,
     "end_time": "2021-05-16T00:27:15.299919",
     "exception": false,
     "start_time": "2021-05-16T00:27:15.252795",
     "status": "completed"
    },
    "tags": []
   },
   "outputs": [],
   "source": [
    "#hide\n",
    "# g['continent'] = g.country"
   ]
  },
  {
   "cell_type": "code",
   "execution_count": 28,
   "id": "substantial-wilderness",
   "metadata": {
    "execution": {
     "iopub.execute_input": "2021-05-16T00:27:15.389929Z",
     "iopub.status.busy": "2021-05-16T00:27:15.388869Z",
     "iopub.status.idle": "2021-05-16T00:27:15.391798Z",
     "shell.execute_reply": "2021-05-16T00:27:15.391206Z"
    },
    "papermill": {
     "duration": 0.049887,
     "end_time": "2021-05-16T00:27:15.391933",
     "exception": false,
     "start_time": "2021-05-16T00:27:15.342046",
     "status": "completed"
    },
    "tags": []
   },
   "outputs": [],
   "source": [
    "#hide\n",
    "# cols = list(g.columns.values)"
   ]
  },
  {
   "cell_type": "code",
   "execution_count": 29,
   "id": "solved-farming",
   "metadata": {
    "execution": {
     "iopub.execute_input": "2021-05-16T00:27:15.486000Z",
     "iopub.status.busy": "2021-05-16T00:27:15.485381Z",
     "iopub.status.idle": "2021-05-16T00:27:15.487840Z",
     "shell.execute_reply": "2021-05-16T00:27:15.487061Z"
    },
    "papermill": {
     "duration": 0.047915,
     "end_time": "2021-05-16T00:27:15.487956",
     "exception": false,
     "start_time": "2021-05-16T00:27:15.440041",
     "status": "completed"
    },
    "tags": []
   },
   "outputs": [],
   "source": [
    "#hide\n",
    "# cols.insert(0, cols.pop())"
   ]
  },
  {
   "cell_type": "code",
   "execution_count": 30,
   "id": "executed-adoption",
   "metadata": {
    "execution": {
     "iopub.execute_input": "2021-05-16T00:27:15.570551Z",
     "iopub.status.busy": "2021-05-16T00:27:15.569961Z",
     "iopub.status.idle": "2021-05-16T00:27:15.572606Z",
     "shell.execute_reply": "2021-05-16T00:27:15.571954Z"
    },
    "papermill": {
     "duration": 0.045028,
     "end_time": "2021-05-16T00:27:15.572862",
     "exception": false,
     "start_time": "2021-05-16T00:27:15.527834",
     "status": "completed"
    },
    "tags": []
   },
   "outputs": [],
   "source": [
    "#hide\n",
    "# g = g[cols]"
   ]
  },
  {
   "cell_type": "code",
   "execution_count": 31,
   "id": "subject-dublin",
   "metadata": {
    "execution": {
     "iopub.execute_input": "2021-05-16T00:27:15.660234Z",
     "iopub.status.busy": "2021-05-16T00:27:15.659627Z",
     "iopub.status.idle": "2021-05-16T00:27:15.662212Z",
     "shell.execute_reply": "2021-05-16T00:27:15.661690Z"
    },
    "papermill": {
     "duration": 0.045981,
     "end_time": "2021-05-16T00:27:15.662331",
     "exception": false,
     "start_time": "2021-05-16T00:27:15.616350",
     "status": "completed"
    },
    "tags": []
   },
   "outputs": [],
   "source": [
    "#hide\n",
    "# g['continent'] = g['continent'].map(mapping['map.continent'])"
   ]
  },
  {
   "cell_type": "code",
   "execution_count": 32,
   "id": "freelance-scout",
   "metadata": {
    "execution": {
     "iopub.execute_input": "2021-05-16T00:27:15.746176Z",
     "iopub.status.busy": "2021-05-16T00:27:15.745573Z",
     "iopub.status.idle": "2021-05-16T00:27:15.748277Z",
     "shell.execute_reply": "2021-05-16T00:27:15.747641Z"
    },
    "papermill": {
     "duration": 0.04615,
     "end_time": "2021-05-16T00:27:15.748396",
     "exception": false,
     "start_time": "2021-05-16T00:27:15.702246",
     "status": "completed"
    },
    "tags": []
   },
   "outputs": [],
   "source": [
    "#hide\n",
    "# g.head()"
   ]
  },
  {
   "cell_type": "code",
   "execution_count": 33,
   "id": "limited-engine",
   "metadata": {
    "execution": {
     "iopub.execute_input": "2021-05-16T00:27:15.838700Z",
     "iopub.status.busy": "2021-05-16T00:27:15.838019Z",
     "iopub.status.idle": "2021-05-16T00:27:15.841445Z",
     "shell.execute_reply": "2021-05-16T00:27:15.842103Z"
    },
    "papermill": {
     "duration": 0.055112,
     "end_time": "2021-05-16T00:27:15.842259",
     "exception": false,
     "start_time": "2021-05-16T00:27:15.787147",
     "status": "completed"
    },
    "tags": []
   },
   "outputs": [],
   "source": [
    "# hide\n",
    "# g['date'] = g['date'].astype('datetime64[ns]')"
   ]
  },
  {
   "cell_type": "code",
   "execution_count": 34,
   "id": "sophisticated-supervisor",
   "metadata": {
    "execution": {
     "iopub.execute_input": "2021-05-16T00:27:15.928299Z",
     "iopub.status.busy": "2021-05-16T00:27:15.927647Z",
     "iopub.status.idle": "2021-05-16T00:27:15.929625Z",
     "shell.execute_reply": "2021-05-16T00:27:15.930121Z"
    },
    "papermill": {
     "duration": 0.046563,
     "end_time": "2021-05-16T00:27:15.930257",
     "exception": false,
     "start_time": "2021-05-16T00:27:15.883694",
     "status": "completed"
    },
    "tags": []
   },
   "outputs": [],
   "source": [
    "#hide\n",
    "# g['date'] = g.date.dt.dayofyear"
   ]
  },
  {
   "cell_type": "code",
   "execution_count": 35,
   "id": "inside-dubai",
   "metadata": {
    "execution": {
     "iopub.execute_input": "2021-05-16T00:27:16.015604Z",
     "iopub.status.busy": "2021-05-16T00:27:16.014938Z",
     "iopub.status.idle": "2021-05-16T00:27:16.017628Z",
     "shell.execute_reply": "2021-05-16T00:27:16.017060Z"
    },
    "papermill": {
     "duration": 0.047725,
     "end_time": "2021-05-16T00:27:16.017752",
     "exception": false,
     "start_time": "2021-05-16T00:27:15.970027",
     "status": "completed"
    },
    "tags": []
   },
   "outputs": [],
   "source": [
    "#hide\n",
    "# g = g.rename(columns= {'continent':'group','country':'name','cases':'value'})"
   ]
  },
  {
   "cell_type": "code",
   "execution_count": 36,
   "id": "fleet-motorcycle",
   "metadata": {
    "execution": {
     "iopub.execute_input": "2021-05-16T00:27:16.101770Z",
     "iopub.status.busy": "2021-05-16T00:27:16.101099Z",
     "iopub.status.idle": "2021-05-16T00:27:16.102954Z",
     "shell.execute_reply": "2021-05-16T00:27:16.103535Z"
    },
    "papermill": {
     "duration": 0.047211,
     "end_time": "2021-05-16T00:27:16.103677",
     "exception": false,
     "start_time": "2021-05-16T00:27:16.056466",
     "status": "completed"
    },
    "tags": []
   },
   "outputs": [],
   "source": [
    "#hide\n",
    "# cols = ['name','group','day','value']"
   ]
  },
  {
   "cell_type": "code",
   "execution_count": 37,
   "id": "continued-sleeping",
   "metadata": {
    "execution": {
     "iopub.execute_input": "2021-05-16T00:27:16.189831Z",
     "iopub.status.busy": "2021-05-16T00:27:16.189111Z",
     "iopub.status.idle": "2021-05-16T00:27:16.191308Z",
     "shell.execute_reply": "2021-05-16T00:27:16.191909Z"
    },
    "papermill": {
     "duration": 0.04714,
     "end_time": "2021-05-16T00:27:16.192094",
     "exception": false,
     "start_time": "2021-05-16T00:27:16.144954",
     "status": "completed"
    },
    "tags": []
   },
   "outputs": [],
   "source": [
    "#hide\n",
    "# g.rename(columns= {'date':'day'},inplace = True)"
   ]
  },
  {
   "cell_type": "code",
   "execution_count": 38,
   "id": "major-fight",
   "metadata": {
    "execution": {
     "iopub.execute_input": "2021-05-16T00:27:16.277590Z",
     "iopub.status.busy": "2021-05-16T00:27:16.276863Z",
     "iopub.status.idle": "2021-05-16T00:27:16.278812Z",
     "shell.execute_reply": "2021-05-16T00:27:16.279531Z"
    },
    "papermill": {
     "duration": 0.048024,
     "end_time": "2021-05-16T00:27:16.279682",
     "exception": false,
     "start_time": "2021-05-16T00:27:16.231658",
     "status": "completed"
    },
    "tags": []
   },
   "outputs": [],
   "source": [
    "#hide\n",
    "# g = g[cols]"
   ]
  },
  {
   "cell_type": "code",
   "execution_count": 39,
   "id": "structured-mobile",
   "metadata": {
    "execution": {
     "iopub.execute_input": "2021-05-16T00:27:16.367338Z",
     "iopub.status.busy": "2021-05-16T00:27:16.366601Z",
     "iopub.status.idle": "2021-05-16T00:27:16.369146Z",
     "shell.execute_reply": "2021-05-16T00:27:16.368571Z"
    },
    "papermill": {
     "duration": 0.048611,
     "end_time": "2021-05-16T00:27:16.369299",
     "exception": false,
     "start_time": "2021-05-16T00:27:16.320688",
     "status": "completed"
    },
    "tags": []
   },
   "outputs": [],
   "source": [
    "# #hide\n",
    "# g = g[g.group.notna()]"
   ]
  },
  {
   "cell_type": "code",
   "execution_count": 40,
   "id": "determined-closing",
   "metadata": {
    "execution": {
     "iopub.execute_input": "2021-05-16T00:27:16.460682Z",
     "iopub.status.busy": "2021-05-16T00:27:16.460030Z",
     "iopub.status.idle": "2021-05-16T00:27:16.462855Z",
     "shell.execute_reply": "2021-05-16T00:27:16.462303Z"
    },
    "papermill": {
     "duration": 0.048642,
     "end_time": "2021-05-16T00:27:16.462982",
     "exception": false,
     "start_time": "2021-05-16T00:27:16.414340",
     "status": "completed"
    },
    "tags": []
   },
   "outputs": [],
   "source": [
    "# #hide\n",
    "# colors = dict(zip(\n",
    "#     [\"Oceania\", \"Europe\", \"Asia\", \"South America\", \"Middle East\", \"North America\", \"Africa\"],\n",
    "#     [\"#adb0ff\", \"#ffb3ff\", \"#90d595\", \"#e48381\", \"#aafbff\", \"#f7bb5f\", \"#eafb50\"]\n",
    "# ))\n",
    "# group_lk = g.set_index('name')['group'].to_dict()"
   ]
  },
  {
   "cell_type": "code",
   "execution_count": null,
   "id": "gross-drinking",
   "metadata": {
    "papermill": {
     "duration": 0.0423,
     "end_time": "2021-05-16T00:27:16.545171",
     "exception": false,
     "start_time": "2021-05-16T00:27:16.502871",
     "status": "completed"
    },
    "tags": []
   },
   "outputs": [],
   "source": []
  },
  {
   "cell_type": "code",
   "execution_count": 41,
   "id": "subject-macintosh",
   "metadata": {
    "execution": {
     "iopub.execute_input": "2021-05-16T00:27:16.636099Z",
     "iopub.status.busy": "2021-05-16T00:27:16.635455Z",
     "iopub.status.idle": "2021-05-16T00:27:16.637907Z",
     "shell.execute_reply": "2021-05-16T00:27:16.637345Z"
    },
    "papermill": {
     "duration": 0.049106,
     "end_time": "2021-05-16T00:27:16.638029",
     "exception": false,
     "start_time": "2021-05-16T00:27:16.588923",
     "status": "completed"
    },
    "tags": []
   },
   "outputs": [],
   "source": [
    "# #hide\n",
    "# fig, ax = plt.subplots(figsize=(15, 8))\n",
    "\n",
    "# def draw_barchart(current_day):\n",
    "#     dff = g[g['day'].eq(current_day)].sort_values(by='value', ascending=True).tail(10)\n",
    "#     ax.clear()\n",
    "#     ax.barh(dff['name'], dff['value'], color=[colors[group_lk[x]] for x in dff['name']])\n",
    "#     dx = dff['value'].max() / 200\n",
    "    \n",
    "#     for i, (value, name) in enumerate(zip(dff['value'], dff['name'])):\n",
    "#         ax.text(value-dx, i,     name,           size=14, weight=600, ha='right', va='bottom')\n",
    "#         ax.text(value-dx, i-.25, group_lk[name], size=10, color='#444444', ha='right', va='baseline')\n",
    "#         ax.text(value+dx, i,     f'{value:,.0f}',  size=14, ha='left',  va='center')\n",
    "#     ax.text(1, 0.4, current_day, transform=ax.transAxes, color='#777777', size=46, ha='right', weight=800)\n",
    "#     ax.text(0, 1.06, 'Population (thousands)', transform=ax.transAxes, size=12, color='#777777')\n",
    "#     ax.xaxis.set_major_formatter(ticker.StrMethodFormatter('{x:,.0f}'))\n",
    "#     ax.xaxis.set_ticks_position('top')\n",
    "#     ax.tick_params(axis='x', colors='#777777', labelsize=12)\n",
    "#     ax.set_yticks([])\n",
    "#     ax.margins(0, 0.01)\n",
    "#     ax.grid(which='major', axis='x', linestyle='-')\n",
    "#     ax.set_axisbelow(True)\n",
    "    \n",
    "#     ax.text(0, 1.15, 'Coronavirus',\n",
    "#             transform=ax.transAxes, size=24, weight=600, ha='left', va='top')\n",
    "# #     ax.text(1, 0, 'by @pratapvardhan; credit @jburnmurdoch', transform=ax.transAxes, color='#777777', ha='right',\n",
    "# #             bbox=dict(facecolor='white', alpha=0.8, edgecolor='white'))\n",
    "#     plt.box(False)"
   ]
  },
  {
   "cell_type": "code",
   "execution_count": 42,
   "id": "sexual-wages",
   "metadata": {
    "execution": {
     "iopub.execute_input": "2021-05-16T00:27:16.728918Z",
     "iopub.status.busy": "2021-05-16T00:27:16.728288Z",
     "iopub.status.idle": "2021-05-16T00:27:16.730985Z",
     "shell.execute_reply": "2021-05-16T00:27:16.730463Z"
    },
    "papermill": {
     "duration": 0.047646,
     "end_time": "2021-05-16T00:27:16.731104",
     "exception": false,
     "start_time": "2021-05-16T00:27:16.683458",
     "status": "completed"
    },
    "tags": []
   },
   "outputs": [],
   "source": [
    "# #hide_input\n",
    "# fig, ax = plt.subplots(figsize=(15, 8))\n",
    "# animator = animation.FuncAnimation(fig, draw_barchart, frames=range(g.day.values.min(), g.day.values.max()))\n",
    "# HTML(animator.to_jshtml())\n",
    "# # or use animator.to_html5_video() or animator.save() "
   ]
  },
  {
   "cell_type": "code",
   "execution_count": null,
   "id": "australian-container",
   "metadata": {
    "papermill": {
     "duration": 0.040417,
     "end_time": "2021-05-16T00:27:16.810362",
     "exception": false,
     "start_time": "2021-05-16T00:27:16.769945",
     "status": "completed"
    },
    "tags": []
   },
   "outputs": [],
   "source": []
  },
  {
   "cell_type": "code",
   "execution_count": null,
   "id": "mediterranean-pontiac",
   "metadata": {
    "papermill": {
     "duration": 0.041857,
     "end_time": "2021-05-16T00:27:16.894437",
     "exception": false,
     "start_time": "2021-05-16T00:27:16.852580",
     "status": "completed"
    },
    "tags": []
   },
   "outputs": [],
   "source": []
  },
  {
   "cell_type": "code",
   "execution_count": null,
   "id": "aging-legislature",
   "metadata": {
    "papermill": {
     "duration": 0.041972,
     "end_time": "2021-05-16T00:27:16.978131",
     "exception": false,
     "start_time": "2021-05-16T00:27:16.936159",
     "status": "completed"
    },
    "tags": []
   },
   "outputs": [],
   "source": []
  }
 ],
 "metadata": {
  "kernelspec": {
   "display_name": "Python 3",
   "language": "python",
   "name": "python3"
  },
  "language_info": {
   "codemirror_mode": {
    "name": "ipython",
    "version": 3
   },
   "file_extension": ".py",
   "mimetype": "text/x-python",
   "name": "python",
   "nbconvert_exporter": "python",
   "pygments_lexer": "ipython3",
   "version": "3.6.13"
  },
  "papermill": {
   "duration": 8.3776,
   "end_time": "2021-05-16T00:27:18.304999",
   "environment_variables": {},
   "exception": null,
   "input_path": "2020-03-21-covid19exp.ipynb",
   "output_path": "2020-03-21-covid19exp.ipynb",
   "parameters": {},
   "start_time": "2021-05-16T00:27:09.927399",
   "version": "2.0.0"
  }
 },
 "nbformat": 4,
 "nbformat_minor": 5
}