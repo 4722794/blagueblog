{
 "cells": [
  {
   "cell_type": "markdown",
   "id": "muslim-click",
   "metadata": {
    "papermill": {
     "duration": 0.047819,
     "end_time": "2022-08-03T12:17:55.871029",
     "exception": false,
     "start_time": "2022-08-03T12:17:55.823210",
     "status": "completed"
    },
    "tags": []
   },
   "source": [
    "# COVID-19 Case Race\n",
    "> A race chart to see rising cases around the world\n",
    "\n",
    "- author: Hargun Oberoi\n",
    "- image: images/covid-overview.png\n",
    "- hide: false\n",
    "- badges: false"
   ]
  },
  {
   "cell_type": "code",
   "execution_count": 1,
   "id": "proof-material",
   "metadata": {
    "execution": {
     "iopub.execute_input": "2022-08-03T12:17:55.964715Z",
     "iopub.status.busy": "2022-08-03T12:17:55.963915Z",
     "iopub.status.idle": "2022-08-03T12:17:56.384386Z",
     "shell.execute_reply": "2022-08-03T12:17:56.384989Z"
    },
    "papermill": {
     "duration": 0.472731,
     "end_time": "2022-08-03T12:17:56.385193",
     "exception": false,
     "start_time": "2022-08-03T12:17:55.912462",
     "status": "completed"
    },
    "tags": []
   },
   "outputs": [],
   "source": [
    "#hide\n",
    "import numpy as np\n",
    "import pandas as pd\n",
    "from jinja2 import Template\n",
    "from IPython.display import HTML"
   ]
  },
  {
   "cell_type": "code",
   "execution_count": 2,
   "id": "developed-terminology",
   "metadata": {
    "execution": {
     "iopub.execute_input": "2022-08-03T12:17:56.469074Z",
     "iopub.status.busy": "2022-08-03T12:17:56.468277Z",
     "iopub.status.idle": "2022-08-03T12:17:56.471778Z",
     "shell.execute_reply": "2022-08-03T12:17:56.471078Z"
    },
    "papermill": {
     "duration": 0.047523,
     "end_time": "2022-08-03T12:17:56.471910",
     "exception": false,
     "start_time": "2022-08-03T12:17:56.424387",
     "status": "completed"
    },
    "tags": []
   },
   "outputs": [],
   "source": [
    "#hide\n",
    "\n",
    "# FETCH\n",
    "base_url = 'https://raw.githubusercontent.com/pratapvardhan/notebooks/master/covid19/'\n",
    "paths = {\n",
    "    'mapping': base_url + 'mapping_countries.csv',\n",
    "    'overview': base_url + 'overview.tpl'\n",
    "}"
   ]
  },
  {
   "cell_type": "code",
   "execution_count": 3,
   "id": "dynamic-saver",
   "metadata": {
    "execution": {
     "iopub.execute_input": "2022-08-03T12:17:56.561195Z",
     "iopub.status.busy": "2022-08-03T12:17:56.560402Z",
     "iopub.status.idle": "2022-08-03T12:17:56.565045Z",
     "shell.execute_reply": "2022-08-03T12:17:56.564450Z"
    },
    "papermill": {
     "duration": 0.0538,
     "end_time": "2022-08-03T12:17:56.565194",
     "exception": false,
     "start_time": "2022-08-03T12:17:56.511394",
     "status": "completed"
    },
    "tags": []
   },
   "outputs": [
    {
     "data": {
      "text/plain": [
       "'https://raw.githubusercontent.com/pratapvardhan/notebooks/master/covid19/mapping_countries.csv'"
      ]
     },
     "execution_count": 3,
     "metadata": {},
     "output_type": "execute_result"
    }
   ],
   "source": [
    "#hide\n",
    "paths['mapping']"
   ]
  },
  {
   "cell_type": "code",
   "execution_count": 4,
   "id": "urban-software",
   "metadata": {
    "execution": {
     "iopub.execute_input": "2022-08-03T12:17:56.659561Z",
     "iopub.status.busy": "2022-08-03T12:17:56.658752Z",
     "iopub.status.idle": "2022-08-03T12:17:56.661665Z",
     "shell.execute_reply": "2022-08-03T12:17:56.662233Z"
    },
    "papermill": {
     "duration": 0.048853,
     "end_time": "2022-08-03T12:17:56.662434",
     "exception": false,
     "start_time": "2022-08-03T12:17:56.613581",
     "status": "completed"
    },
    "tags": []
   },
   "outputs": [],
   "source": [
    "#hide\n",
    "def get_mappings(url):\n",
    "    df = pd.read_csv(url)\n",
    "    return {\n",
    "        'df': df,\n",
    "        'replace.country': dict(df.dropna(subset=['Name']).set_index('Country')['Name']),\n",
    "        'map.continent': dict(df.set_index('Name')['Continent'])\n",
    "    }"
   ]
  },
  {
   "cell_type": "code",
   "execution_count": 5,
   "id": "intimate-machinery",
   "metadata": {
    "execution": {
     "iopub.execute_input": "2022-08-03T12:17:56.747459Z",
     "iopub.status.busy": "2022-08-03T12:17:56.746652Z",
     "iopub.status.idle": "2022-08-03T12:17:56.775007Z",
     "shell.execute_reply": "2022-08-03T12:17:56.775650Z"
    },
    "papermill": {
     "duration": 0.074392,
     "end_time": "2022-08-03T12:17:56.775816",
     "exception": false,
     "start_time": "2022-08-03T12:17:56.701424",
     "status": "completed"
    },
    "tags": []
   },
   "outputs": [],
   "source": [
    "#hide\n",
    "mapping = get_mappings(paths['mapping'])"
   ]
  },
  {
   "cell_type": "code",
   "execution_count": 6,
   "id": "certified-tactics",
   "metadata": {
    "execution": {
     "iopub.execute_input": "2022-08-03T12:17:56.861968Z",
     "iopub.status.busy": "2022-08-03T12:17:56.861121Z",
     "iopub.status.idle": "2022-08-03T12:17:56.863792Z",
     "shell.execute_reply": "2022-08-03T12:17:56.864381Z"
    },
    "papermill": {
     "duration": 0.047976,
     "end_time": "2022-08-03T12:17:56.864540",
     "exception": false,
     "start_time": "2022-08-03T12:17:56.816564",
     "status": "completed"
    },
    "tags": []
   },
   "outputs": [],
   "source": [
    "#hide\n",
    "def get_template(path):\n",
    "    from urllib.parse import urlparse\n",
    "    if bool(urlparse(path).netloc):\n",
    "        from urllib.request import urlopen\n",
    "        return urlopen(path).read().decode('utf8')\n",
    "    return open(path).read()"
   ]
  },
  {
   "cell_type": "code",
   "execution_count": 7,
   "id": "realistic-blast",
   "metadata": {
    "execution": {
     "iopub.execute_input": "2022-08-03T12:17:56.954668Z",
     "iopub.status.busy": "2022-08-03T12:17:56.953902Z",
     "iopub.status.idle": "2022-08-03T12:17:56.957344Z",
     "shell.execute_reply": "2022-08-03T12:17:56.956730Z"
    },
    "papermill": {
     "duration": 0.047749,
     "end_time": "2022-08-03T12:17:56.957473",
     "exception": false,
     "start_time": "2022-08-03T12:17:56.909724",
     "status": "completed"
    },
    "tags": []
   },
   "outputs": [],
   "source": [
    "#hide\n",
    "def get_frame(name):\n",
    "    url = (\n",
    "        'https://raw.githubusercontent.com/CSSEGISandData/COVID-19/master/csse_covid_19_data/'\n",
    "        f'csse_covid_19_time_series/time_series_covid19_{name}_global.csv')\n",
    "    df = pd.read_csv(url)\n",
    "    # rename countries\n",
    "    df['Country/Region'] = df['Country/Region'].replace(mapping['replace.country'])\n",
    "    return df"
   ]
  },
  {
   "cell_type": "code",
   "execution_count": 8,
   "id": "affiliated-characterization",
   "metadata": {
    "execution": {
     "iopub.execute_input": "2022-08-03T12:17:57.052029Z",
     "iopub.status.busy": "2022-08-03T12:17:57.051224Z",
     "iopub.status.idle": "2022-08-03T12:17:57.053832Z",
     "shell.execute_reply": "2022-08-03T12:17:57.054557Z"
    },
    "papermill": {
     "duration": 0.049258,
     "end_time": "2022-08-03T12:17:57.054726",
     "exception": false,
     "start_time": "2022-08-03T12:17:57.005468",
     "status": "completed"
    },
    "tags": []
   },
   "outputs": [],
   "source": [
    "#hide\n",
    "def get_dates(df):\n",
    "    dt_cols = df.columns[~df.columns.isin(['Province/State', 'Country/Region', 'Lat', 'Long'])]\n",
    "    LAST_DATE_I = -1\n",
    "    # sometimes last column may be empty, then go backwards\n",
    "    for i in range(-1, -len(dt_cols), -1):\n",
    "        if not df[dt_cols[i]].fillna(0).eq(0).all():\n",
    "            LAST_DATE_I = i\n",
    "            break\n",
    "    return LAST_DATE_I, dt_cols"
   ]
  },
  {
   "cell_type": "code",
   "execution_count": 9,
   "id": "recent-optimization",
   "metadata": {
    "execution": {
     "iopub.execute_input": "2022-08-03T12:17:57.138799Z",
     "iopub.status.busy": "2022-08-03T12:17:57.138015Z",
     "iopub.status.idle": "2022-08-03T12:17:57.621226Z",
     "shell.execute_reply": "2022-08-03T12:17:57.620570Z"
    },
    "papermill": {
     "duration": 0.52725,
     "end_time": "2022-08-03T12:17:57.621366",
     "exception": false,
     "start_time": "2022-08-03T12:17:57.094116",
     "status": "completed"
    },
    "tags": []
   },
   "outputs": [],
   "source": [
    "#hide\n",
    "COL_REGION = 'Country/Region'\n",
    "# Confirmed, Recovered, Deaths\n",
    "df = get_frame('confirmed')\n",
    "# dft_: timeseries, dfc_: today country agg\n",
    "dft_cases = df\n",
    "dft_deaths = get_frame('deaths')\n",
    "dft_recovered = get_frame('recovered')\n",
    "LAST_DATE_I, dt_cols = get_dates(df)"
   ]
  },
  {
   "cell_type": "code",
   "execution_count": 10,
   "id": "absolute-copper",
   "metadata": {
    "execution": {
     "iopub.execute_input": "2022-08-03T12:17:57.711944Z",
     "iopub.status.busy": "2022-08-03T12:17:57.711141Z",
     "iopub.status.idle": "2022-08-03T12:17:57.715042Z",
     "shell.execute_reply": "2022-08-03T12:17:57.715673Z"
    },
    "papermill": {
     "duration": 0.055019,
     "end_time": "2022-08-03T12:17:57.715846",
     "exception": false,
     "start_time": "2022-08-03T12:17:57.660827",
     "status": "completed"
    },
    "tags": []
   },
   "outputs": [],
   "source": [
    "#hide\n",
    "LAST_DATE_I, dt_cols = get_dates(df)\n",
    "dt_today =dt_cols[LAST_DATE_I]\n",
    "# dt_5day = dt_cols[LAST_DATE_I - 5]\n",
    "dt_yday = dt_cols[LAST_DATE_I - 1]"
   ]
  },
  {
   "cell_type": "code",
   "execution_count": 11,
   "id": "restricted-sheriff",
   "metadata": {
    "execution": {
     "iopub.execute_input": "2022-08-03T12:17:57.803602Z",
     "iopub.status.busy": "2022-08-03T12:17:57.802811Z",
     "iopub.status.idle": "2022-08-03T12:17:57.819355Z",
     "shell.execute_reply": "2022-08-03T12:17:57.820081Z"
    },
    "papermill": {
     "duration": 0.06421,
     "end_time": "2022-08-03T12:17:57.820244",
     "exception": false,
     "start_time": "2022-08-03T12:17:57.756034",
     "status": "completed"
    },
    "tags": []
   },
   "outputs": [],
   "source": [
    "#hide\n",
    "dfc_cases = dft_cases.groupby(COL_REGION)[dt_today].sum()\n",
    "dfc_deaths = dft_deaths.groupby(COL_REGION)[dt_today].sum()\n",
    "# dfp_cases = dft_cases.groupby(COL_REGION)[dt_5day].sum()\n",
    "# dfp_deaths = dft_deaths.groupby(COL_REGION)[dt_5day].sum()\n",
    "dfp_cases = dft_cases.groupby(COL_REGION)[dt_yday].sum()\n",
    "dfp_deaths = dft_deaths.groupby(COL_REGION)[dt_yday].sum()"
   ]
  },
  {
   "cell_type": "code",
   "execution_count": 12,
   "id": "deluxe-hepatitis",
   "metadata": {
    "execution": {
     "iopub.execute_input": "2022-08-03T12:17:57.907666Z",
     "iopub.status.busy": "2022-08-03T12:17:57.906730Z",
     "iopub.status.idle": "2022-08-03T12:17:57.912467Z",
     "shell.execute_reply": "2022-08-03T12:17:57.913246Z"
    },
    "papermill": {
     "duration": 0.053855,
     "end_time": "2022-08-03T12:17:57.913399",
     "exception": false,
     "start_time": "2022-08-03T12:17:57.859544",
     "status": "completed"
    },
    "tags": []
   },
   "outputs": [],
   "source": [
    "#hide\n",
    "df_table = (pd.DataFrame(dict(Cases = dfc_cases, Deaths = dfc_deaths, PCases = dfp_cases, PDeaths = dfp_deaths))\n",
    "            .sort_values(by = ['Cases','Deaths'], ascending = [False, False])\n",
    "            .reset_index())"
   ]
  },
  {
   "cell_type": "code",
   "execution_count": 13,
   "id": "educational-chancellor",
   "metadata": {
    "execution": {
     "iopub.execute_input": "2022-08-03T12:17:58.015154Z",
     "iopub.status.busy": "2022-08-03T12:17:58.014432Z",
     "iopub.status.idle": "2022-08-03T12:17:58.026006Z",
     "shell.execute_reply": "2022-08-03T12:17:58.025449Z"
    },
    "papermill": {
     "duration": 0.073759,
     "end_time": "2022-08-03T12:17:58.026184",
     "exception": false,
     "start_time": "2022-08-03T12:17:57.952425",
     "status": "completed"
    },
    "tags": []
   },
   "outputs": [
    {
     "data": {
      "text/html": [
       "<div>\n",
       "<style scoped>\n",
       "    .dataframe tbody tr th:only-of-type {\n",
       "        vertical-align: middle;\n",
       "    }\n",
       "\n",
       "    .dataframe tbody tr th {\n",
       "        vertical-align: top;\n",
       "    }\n",
       "\n",
       "    .dataframe thead th {\n",
       "        text-align: right;\n",
       "    }\n",
       "</style>\n",
       "<table border=\"1\" class=\"dataframe\">\n",
       "  <thead>\n",
       "    <tr style=\"text-align: right;\">\n",
       "      <th></th>\n",
       "      <th>Country/Region</th>\n",
       "      <th>Cases</th>\n",
       "      <th>Deaths</th>\n",
       "      <th>PCases</th>\n",
       "      <th>PDeaths</th>\n",
       "      <th>Cases (+)</th>\n",
       "      <th>Deaths (+)</th>\n",
       "      <th>Fatality Rate</th>\n",
       "      <th>Continent</th>\n",
       "    </tr>\n",
       "  </thead>\n",
       "  <tbody>\n",
       "    <tr>\n",
       "      <th>0</th>\n",
       "      <td>US</td>\n",
       "      <td>91585521</td>\n",
       "      <td>1030962</td>\n",
       "      <td>91472835</td>\n",
       "      <td>1030498</td>\n",
       "      <td>112686</td>\n",
       "      <td>464</td>\n",
       "      <td>1.13</td>\n",
       "      <td>North America</td>\n",
       "    </tr>\n",
       "    <tr>\n",
       "      <th>1</th>\n",
       "      <td>India</td>\n",
       "      <td>44067144</td>\n",
       "      <td>526477</td>\n",
       "      <td>44050009</td>\n",
       "      <td>526430</td>\n",
       "      <td>17135</td>\n",
       "      <td>47</td>\n",
       "      <td>1.19</td>\n",
       "      <td>Asia</td>\n",
       "    </tr>\n",
       "    <tr>\n",
       "      <th>2</th>\n",
       "      <td>France</td>\n",
       "      <td>34133344</td>\n",
       "      <td>153320</td>\n",
       "      <td>34077286</td>\n",
       "      <td>153219</td>\n",
       "      <td>56058</td>\n",
       "      <td>101</td>\n",
       "      <td>0.45</td>\n",
       "      <td>Europe</td>\n",
       "    </tr>\n",
       "    <tr>\n",
       "      <th>3</th>\n",
       "      <td>Brazil</td>\n",
       "      <td>33890428</td>\n",
       "      <td>679010</td>\n",
       "      <td>33855964</td>\n",
       "      <td>678715</td>\n",
       "      <td>34464</td>\n",
       "      <td>295</td>\n",
       "      <td>2.00</td>\n",
       "      <td>South America</td>\n",
       "    </tr>\n",
       "    <tr>\n",
       "      <th>4</th>\n",
       "      <td>Germany</td>\n",
       "      <td>31044554</td>\n",
       "      <td>144360</td>\n",
       "      <td>30956873</td>\n",
       "      <td>144150</td>\n",
       "      <td>87681</td>\n",
       "      <td>210</td>\n",
       "      <td>0.47</td>\n",
       "      <td>Europe</td>\n",
       "    </tr>\n",
       "  </tbody>\n",
       "</table>\n",
       "</div>"
      ],
      "text/plain": [
       "  Country/Region     Cases   Deaths    PCases  PDeaths  Cases (+)  Deaths (+)  \\\n",
       "0             US  91585521  1030962  91472835  1030498     112686         464   \n",
       "1          India  44067144   526477  44050009   526430      17135          47   \n",
       "2         France  34133344   153320  34077286   153219      56058         101   \n",
       "3         Brazil  33890428   679010  33855964   678715      34464         295   \n",
       "4        Germany  31044554   144360  30956873   144150      87681         210   \n",
       "\n",
       "   Fatality Rate      Continent  \n",
       "0           1.13  North America  \n",
       "1           1.19           Asia  \n",
       "2           0.45         Europe  \n",
       "3           2.00  South America  \n",
       "4           0.47         Europe  "
      ]
     },
     "execution_count": 13,
     "metadata": {},
     "output_type": "execute_result"
    }
   ],
   "source": [
    "#hide\n",
    "for c in 'Cases, Deaths'.split(', '):\n",
    "    df_table[f'{c} (+)'] = (df_table[c] - df_table[f'P{c}']).clip(0)\n",
    "    #Clip ça veut dire, les chiffres negatif sont interdit\n",
    "df_table['Fatality Rate'] = (100* df_table['Deaths']/ df_table['Cases']).round(2)\n",
    "df_table['Continent'] = df_table['Country/Region'].map(mapping['map.continent'])\n",
    "df_table.head(5)"
   ]
  },
  {
   "cell_type": "code",
   "execution_count": 14,
   "id": "aboriginal-bulgaria",
   "metadata": {
    "execution": {
     "iopub.execute_input": "2022-08-03T12:17:58.115722Z",
     "iopub.status.busy": "2022-08-03T12:17:58.114848Z",
     "iopub.status.idle": "2022-08-03T12:17:58.117540Z",
     "shell.execute_reply": "2022-08-03T12:17:58.119606Z"
    },
    "papermill": {
     "duration": 0.052218,
     "end_time": "2022-08-03T12:17:58.119770",
     "exception": false,
     "start_time": "2022-08-03T12:17:58.067552",
     "status": "completed"
    },
    "tags": []
   },
   "outputs": [],
   "source": [
    "#hide\n",
    "#delete problematic countries from table\n",
    "df_table = df_table[~df_table['Country/Region'].isin(['Cape Verde', 'Cruise Ship', 'Kosovo'])]"
   ]
  },
  {
   "cell_type": "code",
   "execution_count": 15,
   "id": "fantastic-effect",
   "metadata": {
    "execution": {
     "iopub.execute_input": "2022-08-03T12:17:58.210730Z",
     "iopub.status.busy": "2022-08-03T12:17:58.209733Z",
     "iopub.status.idle": "2022-08-03T12:17:58.241511Z",
     "shell.execute_reply": "2022-08-03T12:17:58.242237Z"
    },
    "papermill": {
     "duration": 0.081563,
     "end_time": "2022-08-03T12:17:58.242413",
     "exception": false,
     "start_time": "2022-08-03T12:17:58.160850",
     "status": "completed"
    },
    "tags": []
   },
   "outputs": [
    {
     "data": {
      "text/html": [
       "<div>\n",
       "<style scoped>\n",
       "    .dataframe tbody tr th:only-of-type {\n",
       "        vertical-align: middle;\n",
       "    }\n",
       "\n",
       "    .dataframe tbody tr th {\n",
       "        vertical-align: top;\n",
       "    }\n",
       "\n",
       "    .dataframe thead th {\n",
       "        text-align: right;\n",
       "    }\n",
       "</style>\n",
       "<table border=\"1\" class=\"dataframe\">\n",
       "  <thead>\n",
       "    <tr style=\"text-align: right;\">\n",
       "      <th></th>\n",
       "      <th>Country/Region</th>\n",
       "      <th>Cases</th>\n",
       "      <th>Deaths</th>\n",
       "      <th>PCases</th>\n",
       "      <th>PDeaths</th>\n",
       "      <th>Cases (+)</th>\n",
       "      <th>Deaths (+)</th>\n",
       "      <th>Fatality Rate</th>\n",
       "      <th>Continent</th>\n",
       "    </tr>\n",
       "  </thead>\n",
       "  <tbody>\n",
       "    <tr>\n",
       "      <th>0</th>\n",
       "      <td>US</td>\n",
       "      <td>91585521</td>\n",
       "      <td>1030962</td>\n",
       "      <td>91472835</td>\n",
       "      <td>1030498</td>\n",
       "      <td>112686</td>\n",
       "      <td>464</td>\n",
       "      <td>1.1</td>\n",
       "      <td>North America</td>\n",
       "    </tr>\n",
       "    <tr>\n",
       "      <th>1</th>\n",
       "      <td>India</td>\n",
       "      <td>44067144</td>\n",
       "      <td>526477</td>\n",
       "      <td>44050009</td>\n",
       "      <td>526430</td>\n",
       "      <td>17135</td>\n",
       "      <td>47</td>\n",
       "      <td>1.2</td>\n",
       "      <td>Asia</td>\n",
       "    </tr>\n",
       "    <tr>\n",
       "      <th>2</th>\n",
       "      <td>France</td>\n",
       "      <td>34133344</td>\n",
       "      <td>153320</td>\n",
       "      <td>34077286</td>\n",
       "      <td>153219</td>\n",
       "      <td>56058</td>\n",
       "      <td>101</td>\n",
       "      <td>0.4</td>\n",
       "      <td>Europe</td>\n",
       "    </tr>\n",
       "    <tr>\n",
       "      <th>3</th>\n",
       "      <td>Brazil</td>\n",
       "      <td>33890428</td>\n",
       "      <td>679010</td>\n",
       "      <td>33855964</td>\n",
       "      <td>678715</td>\n",
       "      <td>34464</td>\n",
       "      <td>295</td>\n",
       "      <td>2.0</td>\n",
       "      <td>South America</td>\n",
       "    </tr>\n",
       "    <tr>\n",
       "      <th>4</th>\n",
       "      <td>Germany</td>\n",
       "      <td>31044554</td>\n",
       "      <td>144360</td>\n",
       "      <td>30956873</td>\n",
       "      <td>144150</td>\n",
       "      <td>87681</td>\n",
       "      <td>210</td>\n",
       "      <td>0.5</td>\n",
       "      <td>Europe</td>\n",
       "    </tr>\n",
       "  </tbody>\n",
       "</table>\n",
       "</div>"
      ],
      "text/plain": [
       "  Country/Region     Cases   Deaths    PCases  PDeaths  Cases (+)  Deaths (+)  \\\n",
       "0             US  91585521  1030962  91472835  1030498     112686         464   \n",
       "1          India  44067144   526477  44050009   526430      17135          47   \n",
       "2         France  34133344   153320  34077286   153219      56058         101   \n",
       "3         Brazil  33890428   679010  33855964   678715      34464         295   \n",
       "4        Germany  31044554   144360  30956873   144150      87681         210   \n",
       "\n",
       "   Fatality Rate      Continent  \n",
       "0            1.1  North America  \n",
       "1            1.2           Asia  \n",
       "2            0.4         Europe  \n",
       "3            2.0  South America  \n",
       "4            0.5         Europe  "
      ]
     },
     "execution_count": 15,
     "metadata": {},
     "output_type": "execute_result"
    }
   ],
   "source": [
    "#hide\n",
    "df_table = (pd.DataFrame(dict(Cases=dfc_cases, Deaths=dfc_deaths, PCases=dfp_cases, PDeaths=dfp_deaths))\n",
    "             .sort_values(by=['Cases', 'Deaths'], ascending=[False, False])\n",
    "             .reset_index())\n",
    "df_table.rename(columns={'index': 'Country/Region'}, inplace=True)\n",
    "for c in 'Cases, Deaths'.split(', '):\n",
    "    df_table[f'{c} (+)'] = (df_table[c] - df_table[f'P{c}']).clip(0)  # DATA BUG\n",
    "df_table['Fatality Rate'] = (100 * df_table['Deaths'] / df_table['Cases']).round(1)\n",
    "df_table['Continent'] = df_table['Country/Region'].map(mapping['map.continent'])\n",
    "df_table.head(5)"
   ]
  },
  {
   "cell_type": "code",
   "execution_count": 16,
   "id": "fewer-occasion",
   "metadata": {
    "execution": {
     "iopub.execute_input": "2022-08-03T12:17:58.338934Z",
     "iopub.status.busy": "2022-08-03T12:17:58.338015Z",
     "iopub.status.idle": "2022-08-03T12:17:58.342558Z",
     "shell.execute_reply": "2022-08-03T12:17:58.341937Z"
    },
    "papermill": {
     "duration": 0.055391,
     "end_time": "2022-08-03T12:17:58.342680",
     "exception": false,
     "start_time": "2022-08-03T12:17:58.287289",
     "status": "completed"
    },
    "tags": []
   },
   "outputs": [],
   "source": [
    "#hide\n",
    "#delete problematic countries from table\n",
    "df_table = df_table[~df_table['Country/Region'].isin(['Cape Verde', 'Cruise Ship', 'Kosovo'])]"
   ]
  },
  {
   "cell_type": "code",
   "execution_count": 17,
   "id": "related-center",
   "metadata": {
    "execution": {
     "iopub.execute_input": "2022-08-03T12:17:58.443796Z",
     "iopub.status.busy": "2022-08-03T12:17:58.442931Z",
     "iopub.status.idle": "2022-08-03T12:17:58.445992Z",
     "shell.execute_reply": "2022-08-03T12:17:58.446611Z"
    },
    "papermill": {
     "duration": 0.065596,
     "end_time": "2022-08-03T12:17:58.446763",
     "exception": false,
     "start_time": "2022-08-03T12:17:58.381167",
     "status": "completed"
    },
    "tags": []
   },
   "outputs": [],
   "source": [
    "#hide\n",
    "metrics = [df_table.columns[index] for index in [1,2,5,6]]\n",
    "# s_china = df_table[df_table['Country/Region'].eq('China')][metrics].sum().add_prefix('China ')\n",
    "s_us = df_table[df_table['Country/Region'].eq('US')][metrics].sum().add_prefix('US ')\n",
    "s_eu = df_table[df_table['Continent'].eq('Europe')][metrics].sum().add_prefix('EU ')\n",
    "s_ind = df_table[df_table['Country/Region'].eq('India')][metrics].sum().add_prefix('India ')\n",
    "summary = {'updated': pd.to_datetime(dt_today), 'since': pd.to_datetime(dt_yday)}\n",
    "summary = {'updated': pd.to_datetime(dt_today), 'since': pd.to_datetime(dt_yday)}\n",
    "summary = {**summary, **df_table[metrics].sum(), **s_ind, **s_us, **s_eu}"
   ]
  },
  {
   "cell_type": "code",
   "execution_count": 18,
   "id": "engaging-syndrome",
   "metadata": {
    "execution": {
     "iopub.execute_input": "2022-08-03T12:17:58.534464Z",
     "iopub.status.busy": "2022-08-03T12:17:58.533733Z",
     "iopub.status.idle": "2022-08-03T12:17:58.556968Z",
     "shell.execute_reply": "2022-08-03T12:17:58.557604Z"
    },
    "papermill": {
     "duration": 0.069869,
     "end_time": "2022-08-03T12:17:58.557752",
     "exception": false,
     "start_time": "2022-08-03T12:17:58.487883",
     "status": "completed"
    },
    "tags": []
   },
   "outputs": [],
   "source": [
    "#hide\n",
    "dft_ct_new_cases = dft_cases.groupby(COL_REGION)[dt_cols].sum().diff(axis=1).fillna(0).astype(int)"
   ]
  },
  {
   "cell_type": "code",
   "execution_count": 19,
   "id": "neutral-assignment",
   "metadata": {
    "execution": {
     "iopub.execute_input": "2022-08-03T12:17:58.654534Z",
     "iopub.status.busy": "2022-08-03T12:17:58.653502Z",
     "iopub.status.idle": "2022-08-03T12:17:58.656123Z",
     "shell.execute_reply": "2022-08-03T12:17:58.655448Z"
    },
    "papermill": {
     "duration": 0.053069,
     "end_time": "2022-08-03T12:17:58.656274",
     "exception": false,
     "start_time": "2022-08-03T12:17:58.603205",
     "status": "completed"
    },
    "tags": []
   },
   "outputs": [],
   "source": [
    "#hide\n",
    "everydaycases = dft_ct_new_cases.cumsum(axis=1)"
   ]
  },
  {
   "cell_type": "code",
   "execution_count": 20,
   "id": "parliamentary-calgary",
   "metadata": {
    "execution": {
     "iopub.execute_input": "2022-08-03T12:17:58.749700Z",
     "iopub.status.busy": "2022-08-03T12:17:58.743076Z",
     "iopub.status.idle": "2022-08-03T12:17:59.448318Z",
     "shell.execute_reply": "2022-08-03T12:17:59.448850Z"
    },
    "papermill": {
     "duration": 0.75027,
     "end_time": "2022-08-03T12:17:59.449012",
     "exception": false,
     "start_time": "2022-08-03T12:17:58.698742",
     "status": "completed"
    },
    "tags": []
   },
   "outputs": [],
   "source": [
    "#hide\n",
    "import pandas as pd\n",
    "import matplotlib.pyplot as plt\n",
    "import matplotlib.ticker as ticker\n",
    "import matplotlib.animation as animation\n",
    "from IPython.display import HTML"
   ]
  },
  {
   "cell_type": "code",
   "execution_count": 21,
   "id": "lasting-extraction",
   "metadata": {
    "execution": {
     "iopub.execute_input": "2022-08-03T12:17:59.535128Z",
     "iopub.status.busy": "2022-08-03T12:17:59.534453Z",
     "iopub.status.idle": "2022-08-03T12:17:59.542151Z",
     "shell.execute_reply": "2022-08-03T12:17:59.542712Z"
    },
    "papermill": {
     "duration": 0.053662,
     "end_time": "2022-08-03T12:17:59.542856",
     "exception": false,
     "start_time": "2022-08-03T12:17:59.489194",
     "status": "completed"
    },
    "tags": []
   },
   "outputs": [],
   "source": [
    "#hide\n",
    "t = everydaycases.stack()"
   ]
  },
  {
   "cell_type": "code",
   "execution_count": 22,
   "id": "premier-sleeve",
   "metadata": {
    "execution": {
     "iopub.execute_input": "2022-08-03T12:17:59.640314Z",
     "iopub.status.busy": "2022-08-03T12:17:59.639533Z",
     "iopub.status.idle": "2022-08-03T12:17:59.654237Z",
     "shell.execute_reply": "2022-08-03T12:17:59.653637Z"
    },
    "papermill": {
     "duration": 0.071477,
     "end_time": "2022-08-03T12:17:59.654399",
     "exception": false,
     "start_time": "2022-08-03T12:17:59.582922",
     "status": "completed"
    },
    "tags": []
   },
   "outputs": [],
   "source": [
    "#hide\n",
    "g = t.reset_index(['Country/Region'])"
   ]
  },
  {
   "cell_type": "code",
   "execution_count": 23,
   "id": "distributed-pittsburgh",
   "metadata": {
    "execution": {
     "iopub.execute_input": "2022-08-03T12:17:59.738634Z",
     "iopub.status.busy": "2022-08-03T12:17:59.737841Z",
     "iopub.status.idle": "2022-08-03T12:17:59.740360Z",
     "shell.execute_reply": "2022-08-03T12:17:59.741140Z"
    },
    "papermill": {
     "duration": 0.046665,
     "end_time": "2022-08-03T12:17:59.741279",
     "exception": false,
     "start_time": "2022-08-03T12:17:59.694614",
     "status": "completed"
    },
    "tags": []
   },
   "outputs": [],
   "source": [
    "#hide\n",
    "g.index.name = 'date'"
   ]
  },
  {
   "cell_type": "code",
   "execution_count": 24,
   "id": "naked-donor",
   "metadata": {
    "execution": {
     "iopub.execute_input": "2022-08-03T12:17:59.825488Z",
     "iopub.status.busy": "2022-08-03T12:17:59.824735Z",
     "iopub.status.idle": "2022-08-03T12:17:59.827505Z",
     "shell.execute_reply": "2022-08-03T12:17:59.828071Z"
    },
    "papermill": {
     "duration": 0.049103,
     "end_time": "2022-08-03T12:17:59.828212",
     "exception": false,
     "start_time": "2022-08-03T12:17:59.779109",
     "status": "completed"
    },
    "tags": []
   },
   "outputs": [],
   "source": [
    "# #hide\n",
    "# g = g.reset_index(['date'])"
   ]
  },
  {
   "cell_type": "code",
   "execution_count": 25,
   "id": "incomplete-mustang",
   "metadata": {
    "execution": {
     "iopub.execute_input": "2022-08-03T12:17:59.917305Z",
     "iopub.status.busy": "2022-08-03T12:17:59.916540Z",
     "iopub.status.idle": "2022-08-03T12:17:59.920130Z",
     "shell.execute_reply": "2022-08-03T12:17:59.919353Z"
    },
    "papermill": {
     "duration": 0.05212,
     "end_time": "2022-08-03T12:17:59.920270",
     "exception": false,
     "start_time": "2022-08-03T12:17:59.868150",
     "status": "completed"
    },
    "tags": []
   },
   "outputs": [],
   "source": [
    "#hide\n",
    "# g.head()"
   ]
  },
  {
   "cell_type": "code",
   "execution_count": 26,
   "id": "specific-kruger",
   "metadata": {
    "execution": {
     "iopub.execute_input": "2022-08-03T12:18:00.013445Z",
     "iopub.status.busy": "2022-08-03T12:18:00.012639Z",
     "iopub.status.idle": "2022-08-03T12:18:00.017244Z",
     "shell.execute_reply": "2022-08-03T12:18:00.017808Z"
    },
    "papermill": {
     "duration": 0.052843,
     "end_time": "2022-08-03T12:18:00.017973",
     "exception": false,
     "start_time": "2022-08-03T12:17:59.965130",
     "status": "completed"
    },
    "tags": []
   },
   "outputs": [],
   "source": [
    "#hide\n",
    "# g.columns = ['date','country','cases']"
   ]
  },
  {
   "cell_type": "code",
   "execution_count": 27,
   "id": "tender-conversion",
   "metadata": {
    "execution": {
     "iopub.execute_input": "2022-08-03T12:18:00.103687Z",
     "iopub.status.busy": "2022-08-03T12:18:00.102680Z",
     "iopub.status.idle": "2022-08-03T12:18:00.105752Z",
     "shell.execute_reply": "2022-08-03T12:18:00.106273Z"
    },
    "papermill": {
     "duration": 0.047811,
     "end_time": "2022-08-03T12:18:00.106450",
     "exception": false,
     "start_time": "2022-08-03T12:18:00.058639",
     "status": "completed"
    },
    "tags": []
   },
   "outputs": [],
   "source": [
    "#hide\n",
    "# g['continent'] = g.country"
   ]
  },
  {
   "cell_type": "code",
   "execution_count": 28,
   "id": "substantial-wilderness",
   "metadata": {
    "execution": {
     "iopub.execute_input": "2022-08-03T12:18:00.196859Z",
     "iopub.status.busy": "2022-08-03T12:18:00.196093Z",
     "iopub.status.idle": "2022-08-03T12:18:00.198906Z",
     "shell.execute_reply": "2022-08-03T12:18:00.199529Z"
    },
    "papermill": {
     "duration": 0.049817,
     "end_time": "2022-08-03T12:18:00.199681",
     "exception": false,
     "start_time": "2022-08-03T12:18:00.149864",
     "status": "completed"
    },
    "tags": []
   },
   "outputs": [],
   "source": [
    "#hide\n",
    "# cols = list(g.columns.values)"
   ]
  },
  {
   "cell_type": "code",
   "execution_count": 29,
   "id": "solved-farming",
   "metadata": {
    "execution": {
     "iopub.execute_input": "2022-08-03T12:18:00.285946Z",
     "iopub.status.busy": "2022-08-03T12:18:00.285148Z",
     "iopub.status.idle": "2022-08-03T12:18:00.287772Z",
     "shell.execute_reply": "2022-08-03T12:18:00.288362Z"
    },
    "papermill": {
     "duration": 0.048179,
     "end_time": "2022-08-03T12:18:00.288516",
     "exception": false,
     "start_time": "2022-08-03T12:18:00.240337",
     "status": "completed"
    },
    "tags": []
   },
   "outputs": [],
   "source": [
    "#hide\n",
    "# cols.insert(0, cols.pop())"
   ]
  },
  {
   "cell_type": "code",
   "execution_count": 30,
   "id": "executed-adoption",
   "metadata": {
    "execution": {
     "iopub.execute_input": "2022-08-03T12:18:00.387217Z",
     "iopub.status.busy": "2022-08-03T12:18:00.386409Z",
     "iopub.status.idle": "2022-08-03T12:18:00.390106Z",
     "shell.execute_reply": "2022-08-03T12:18:00.390674Z"
    },
    "papermill": {
     "duration": 0.049935,
     "end_time": "2022-08-03T12:18:00.390844",
     "exception": false,
     "start_time": "2022-08-03T12:18:00.340909",
     "status": "completed"
    },
    "tags": []
   },
   "outputs": [],
   "source": [
    "#hide\n",
    "# g = g[cols]"
   ]
  },
  {
   "cell_type": "code",
   "execution_count": 31,
   "id": "subject-dublin",
   "metadata": {
    "execution": {
     "iopub.execute_input": "2022-08-03T12:18:00.478099Z",
     "iopub.status.busy": "2022-08-03T12:18:00.477291Z",
     "iopub.status.idle": "2022-08-03T12:18:00.480878Z",
     "shell.execute_reply": "2022-08-03T12:18:00.480285Z"
    },
    "papermill": {
     "duration": 0.047205,
     "end_time": "2022-08-03T12:18:00.481023",
     "exception": false,
     "start_time": "2022-08-03T12:18:00.433818",
     "status": "completed"
    },
    "tags": []
   },
   "outputs": [],
   "source": [
    "#hide\n",
    "# g['continent'] = g['continent'].map(mapping['map.continent'])"
   ]
  },
  {
   "cell_type": "code",
   "execution_count": 32,
   "id": "freelance-scout",
   "metadata": {
    "execution": {
     "iopub.execute_input": "2022-08-03T12:18:00.568557Z",
     "iopub.status.busy": "2022-08-03T12:18:00.567819Z",
     "iopub.status.idle": "2022-08-03T12:18:00.570740Z",
     "shell.execute_reply": "2022-08-03T12:18:00.571401Z"
    },
    "papermill": {
     "duration": 0.049122,
     "end_time": "2022-08-03T12:18:00.571551",
     "exception": false,
     "start_time": "2022-08-03T12:18:00.522429",
     "status": "completed"
    },
    "tags": []
   },
   "outputs": [],
   "source": [
    "#hide\n",
    "# g.head()"
   ]
  },
  {
   "cell_type": "code",
   "execution_count": 33,
   "id": "limited-engine",
   "metadata": {
    "execution": {
     "iopub.execute_input": "2022-08-03T12:18:00.658032Z",
     "iopub.status.busy": "2022-08-03T12:18:00.657255Z",
     "iopub.status.idle": "2022-08-03T12:18:00.660647Z",
     "shell.execute_reply": "2022-08-03T12:18:00.660061Z"
    },
    "papermill": {
     "duration": 0.049648,
     "end_time": "2022-08-03T12:18:00.660771",
     "exception": false,
     "start_time": "2022-08-03T12:18:00.611123",
     "status": "completed"
    },
    "tags": []
   },
   "outputs": [],
   "source": [
    "# hide\n",
    "# g['date'] = g['date'].astype('datetime64[ns]')"
   ]
  },
  {
   "cell_type": "code",
   "execution_count": 34,
   "id": "sophisticated-supervisor",
   "metadata": {
    "execution": {
     "iopub.execute_input": "2022-08-03T12:18:00.743059Z",
     "iopub.status.busy": "2022-08-03T12:18:00.742279Z",
     "iopub.status.idle": "2022-08-03T12:18:00.746175Z",
     "shell.execute_reply": "2022-08-03T12:18:00.745403Z"
    },
    "papermill": {
     "duration": 0.046298,
     "end_time": "2022-08-03T12:18:00.746309",
     "exception": false,
     "start_time": "2022-08-03T12:18:00.700011",
     "status": "completed"
    },
    "tags": []
   },
   "outputs": [],
   "source": [
    "#hide\n",
    "# g['date'] = g.date.dt.dayofyear"
   ]
  },
  {
   "cell_type": "code",
   "execution_count": 35,
   "id": "inside-dubai",
   "metadata": {
    "execution": {
     "iopub.execute_input": "2022-08-03T12:18:00.830070Z",
     "iopub.status.busy": "2022-08-03T12:18:00.829271Z",
     "iopub.status.idle": "2022-08-03T12:18:00.832239Z",
     "shell.execute_reply": "2022-08-03T12:18:00.832805Z"
    },
    "papermill": {
     "duration": 0.047562,
     "end_time": "2022-08-03T12:18:00.832939",
     "exception": false,
     "start_time": "2022-08-03T12:18:00.785377",
     "status": "completed"
    },
    "tags": []
   },
   "outputs": [],
   "source": [
    "#hide\n",
    "# g = g.rename(columns= {'continent':'group','country':'name','cases':'value'})"
   ]
  },
  {
   "cell_type": "code",
   "execution_count": 36,
   "id": "fleet-motorcycle",
   "metadata": {
    "execution": {
     "iopub.execute_input": "2022-08-03T12:18:00.914149Z",
     "iopub.status.busy": "2022-08-03T12:18:00.913410Z",
     "iopub.status.idle": "2022-08-03T12:18:00.916977Z",
     "shell.execute_reply": "2022-08-03T12:18:00.916207Z"
    },
    "papermill": {
     "duration": 0.045103,
     "end_time": "2022-08-03T12:18:00.917114",
     "exception": false,
     "start_time": "2022-08-03T12:18:00.872011",
     "status": "completed"
    },
    "tags": []
   },
   "outputs": [],
   "source": [
    "#hide\n",
    "# cols = ['name','group','day','value']"
   ]
  },
  {
   "cell_type": "code",
   "execution_count": 37,
   "id": "continued-sleeping",
   "metadata": {
    "execution": {
     "iopub.execute_input": "2022-08-03T12:18:01.002646Z",
     "iopub.status.busy": "2022-08-03T12:18:01.001903Z",
     "iopub.status.idle": "2022-08-03T12:18:01.004570Z",
     "shell.execute_reply": "2022-08-03T12:18:01.005133Z"
    },
    "papermill": {
     "duration": 0.047108,
     "end_time": "2022-08-03T12:18:01.005313",
     "exception": false,
     "start_time": "2022-08-03T12:18:00.958205",
     "status": "completed"
    },
    "tags": []
   },
   "outputs": [],
   "source": [
    "#hide\n",
    "# g.rename(columns= {'date':'day'},inplace = True)"
   ]
  },
  {
   "cell_type": "code",
   "execution_count": 38,
   "id": "major-fight",
   "metadata": {
    "execution": {
     "iopub.execute_input": "2022-08-03T12:18:01.092768Z",
     "iopub.status.busy": "2022-08-03T12:18:01.091890Z",
     "iopub.status.idle": "2022-08-03T12:18:01.095312Z",
     "shell.execute_reply": "2022-08-03T12:18:01.095914Z"
    },
    "papermill": {
     "duration": 0.051565,
     "end_time": "2022-08-03T12:18:01.096073",
     "exception": false,
     "start_time": "2022-08-03T12:18:01.044508",
     "status": "completed"
    },
    "tags": []
   },
   "outputs": [],
   "source": [
    "#hide\n",
    "# g = g[cols]"
   ]
  },
  {
   "cell_type": "code",
   "execution_count": 39,
   "id": "structured-mobile",
   "metadata": {
    "execution": {
     "iopub.execute_input": "2022-08-03T12:18:01.183526Z",
     "iopub.status.busy": "2022-08-03T12:18:01.182695Z",
     "iopub.status.idle": "2022-08-03T12:18:01.185454Z",
     "shell.execute_reply": "2022-08-03T12:18:01.184678Z"
    },
    "papermill": {
     "duration": 0.049227,
     "end_time": "2022-08-03T12:18:01.185575",
     "exception": false,
     "start_time": "2022-08-03T12:18:01.136348",
     "status": "completed"
    },
    "tags": []
   },
   "outputs": [],
   "source": [
    "# #hide\n",
    "# g = g[g.group.notna()]"
   ]
  },
  {
   "cell_type": "code",
   "execution_count": 40,
   "id": "determined-closing",
   "metadata": {
    "execution": {
     "iopub.execute_input": "2022-08-03T12:18:01.268065Z",
     "iopub.status.busy": "2022-08-03T12:18:01.267300Z",
     "iopub.status.idle": "2022-08-03T12:18:01.270547Z",
     "shell.execute_reply": "2022-08-03T12:18:01.269937Z"
    },
    "papermill": {
     "duration": 0.04544,
     "end_time": "2022-08-03T12:18:01.270668",
     "exception": false,
     "start_time": "2022-08-03T12:18:01.225228",
     "status": "completed"
    },
    "tags": []
   },
   "outputs": [],
   "source": [
    "# #hide\n",
    "# colors = dict(zip(\n",
    "#     [\"Oceania\", \"Europe\", \"Asia\", \"South America\", \"Middle East\", \"North America\", \"Africa\"],\n",
    "#     [\"#adb0ff\", \"#ffb3ff\", \"#90d595\", \"#e48381\", \"#aafbff\", \"#f7bb5f\", \"#eafb50\"]\n",
    "# ))\n",
    "# group_lk = g.set_index('name')['group'].to_dict()"
   ]
  },
  {
   "cell_type": "code",
   "execution_count": null,
   "id": "gross-drinking",
   "metadata": {
    "papermill": {
     "duration": 0.04066,
     "end_time": "2022-08-03T12:18:01.356640",
     "exception": false,
     "start_time": "2022-08-03T12:18:01.315980",
     "status": "completed"
    },
    "tags": []
   },
   "outputs": [],
   "source": []
  },
  {
   "cell_type": "code",
   "execution_count": 41,
   "id": "subject-macintosh",
   "metadata": {
    "execution": {
     "iopub.execute_input": "2022-08-03T12:18:01.449413Z",
     "iopub.status.busy": "2022-08-03T12:18:01.448542Z",
     "iopub.status.idle": "2022-08-03T12:18:01.451346Z",
     "shell.execute_reply": "2022-08-03T12:18:01.452016Z"
    },
    "papermill": {
     "duration": 0.0494,
     "end_time": "2022-08-03T12:18:01.452170",
     "exception": false,
     "start_time": "2022-08-03T12:18:01.402770",
     "status": "completed"
    },
    "tags": []
   },
   "outputs": [],
   "source": [
    "# #hide\n",
    "# fig, ax = plt.subplots(figsize=(15, 8))\n",
    "\n",
    "# def draw_barchart(current_day):\n",
    "#     dff = g[g['day'].eq(current_day)].sort_values(by='value', ascending=True).tail(10)\n",
    "#     ax.clear()\n",
    "#     ax.barh(dff['name'], dff['value'], color=[colors[group_lk[x]] for x in dff['name']])\n",
    "#     dx = dff['value'].max() / 200\n",
    "    \n",
    "#     for i, (value, name) in enumerate(zip(dff['value'], dff['name'])):\n",
    "#         ax.text(value-dx, i,     name,           size=14, weight=600, ha='right', va='bottom')\n",
    "#         ax.text(value-dx, i-.25, group_lk[name], size=10, color='#444444', ha='right', va='baseline')\n",
    "#         ax.text(value+dx, i,     f'{value:,.0f}',  size=14, ha='left',  va='center')\n",
    "#     ax.text(1, 0.4, current_day, transform=ax.transAxes, color='#777777', size=46, ha='right', weight=800)\n",
    "#     ax.text(0, 1.06, 'Population (thousands)', transform=ax.transAxes, size=12, color='#777777')\n",
    "#     ax.xaxis.set_major_formatter(ticker.StrMethodFormatter('{x:,.0f}'))\n",
    "#     ax.xaxis.set_ticks_position('top')\n",
    "#     ax.tick_params(axis='x', colors='#777777', labelsize=12)\n",
    "#     ax.set_yticks([])\n",
    "#     ax.margins(0, 0.01)\n",
    "#     ax.grid(which='major', axis='x', linestyle='-')\n",
    "#     ax.set_axisbelow(True)\n",
    "    \n",
    "#     ax.text(0, 1.15, 'Coronavirus',\n",
    "#             transform=ax.transAxes, size=24, weight=600, ha='left', va='top')\n",
    "# #     ax.text(1, 0, 'by @pratapvardhan; credit @jburnmurdoch', transform=ax.transAxes, color='#777777', ha='right',\n",
    "# #             bbox=dict(facecolor='white', alpha=0.8, edgecolor='white'))\n",
    "#     plt.box(False)"
   ]
  },
  {
   "cell_type": "code",
   "execution_count": 42,
   "id": "sexual-wages",
   "metadata": {
    "execution": {
     "iopub.execute_input": "2022-08-03T12:18:01.535163Z",
     "iopub.status.busy": "2022-08-03T12:18:01.534016Z",
     "iopub.status.idle": "2022-08-03T12:18:01.537047Z",
     "shell.execute_reply": "2022-08-03T12:18:01.537600Z"
    },
    "papermill": {
     "duration": 0.047668,
     "end_time": "2022-08-03T12:18:01.537769",
     "exception": false,
     "start_time": "2022-08-03T12:18:01.490101",
     "status": "completed"
    },
    "tags": []
   },
   "outputs": [],
   "source": [
    "# #hide_input\n",
    "# fig, ax = plt.subplots(figsize=(15, 8))\n",
    "# animator = animation.FuncAnimation(fig, draw_barchart, frames=range(g.day.values.min(), g.day.values.max()))\n",
    "# HTML(animator.to_jshtml())\n",
    "# # or use animator.to_html5_video() or animator.save() "
   ]
  },
  {
   "cell_type": "code",
   "execution_count": null,
   "id": "australian-container",
   "metadata": {
    "papermill": {
     "duration": 0.042681,
     "end_time": "2022-08-03T12:18:01.620405",
     "exception": false,
     "start_time": "2022-08-03T12:18:01.577724",
     "status": "completed"
    },
    "tags": []
   },
   "outputs": [],
   "source": []
  },
  {
   "cell_type": "code",
   "execution_count": null,
   "id": "mediterranean-pontiac",
   "metadata": {
    "papermill": {
     "duration": 0.044394,
     "end_time": "2022-08-03T12:18:01.704805",
     "exception": false,
     "start_time": "2022-08-03T12:18:01.660411",
     "status": "completed"
    },
    "tags": []
   },
   "outputs": [],
   "source": []
  },
  {
   "cell_type": "code",
   "execution_count": null,
   "id": "aging-legislature",
   "metadata": {
    "papermill": {
     "duration": 0.052293,
     "end_time": "2022-08-03T12:18:01.802946",
     "exception": false,
     "start_time": "2022-08-03T12:18:01.750653",
     "status": "completed"
    },
    "tags": []
   },
   "outputs": [],
   "source": []
  }
 ],
 "metadata": {
  "kernelspec": {
   "display_name": "Python 3",
   "language": "python",
   "name": "python3"
  },
  "language_info": {
   "codemirror_mode": {
    "name": "ipython",
    "version": 3
   },
   "file_extension": ".py",
   "mimetype": "text/x-python",
   "name": "python",
   "nbconvert_exporter": "python",
   "pygments_lexer": "ipython3",
   "version": "3.6.15"
  },
  "papermill": {
   "duration": 7.923793,
   "end_time": "2022-08-03T12:18:02.376250",
   "environment_variables": {},
   "exception": null,
   "input_path": "2020-03-21-covid19exp.ipynb",
   "output_path": "2020-03-21-covid19exp.ipynb",
   "parameters": {},
   "start_time": "2022-08-03T12:17:54.452457",
   "version": "2.0.0"
  }
 },
 "nbformat": 4,
 "nbformat_minor": 5
}