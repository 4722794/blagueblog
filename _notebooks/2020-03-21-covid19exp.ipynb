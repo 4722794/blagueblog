{
 "cells": [
  {
   "cell_type": "markdown",
   "id": "muslim-click",
   "metadata": {
    "papermill": {
     "duration": 0.035099,
     "end_time": "2022-05-17T00:40:56.797060",
     "exception": false,
     "start_time": "2022-05-17T00:40:56.761961",
     "status": "completed"
    },
    "tags": []
   },
   "source": [
    "# COVID-19 Case Race\n",
    "> A race chart to see rising cases around the world\n",
    "\n",
    "- author: Hargun Oberoi\n",
    "- image: images/covid-overview.png\n",
    "- hide: false\n",
    "- badges: false"
   ]
  },
  {
   "cell_type": "code",
   "execution_count": 1,
   "id": "proof-material",
   "metadata": {
    "execution": {
     "iopub.execute_input": "2022-05-17T00:40:56.871055Z",
     "iopub.status.busy": "2022-05-17T00:40:56.870390Z",
     "iopub.status.idle": "2022-05-17T00:40:57.228166Z",
     "shell.execute_reply": "2022-05-17T00:40:57.227516Z"
    },
    "papermill": {
     "duration": 0.397448,
     "end_time": "2022-05-17T00:40:57.228345",
     "exception": false,
     "start_time": "2022-05-17T00:40:56.830897",
     "status": "completed"
    },
    "tags": []
   },
   "outputs": [],
   "source": [
    "#hide\n",
    "import numpy as np\n",
    "import pandas as pd\n",
    "from jinja2 import Template\n",
    "from IPython.display import HTML"
   ]
  },
  {
   "cell_type": "code",
   "execution_count": 2,
   "id": "developed-terminology",
   "metadata": {
    "execution": {
     "iopub.execute_input": "2022-05-17T00:40:57.298915Z",
     "iopub.status.busy": "2022-05-17T00:40:57.298219Z",
     "iopub.status.idle": "2022-05-17T00:40:57.301479Z",
     "shell.execute_reply": "2022-05-17T00:40:57.301916Z"
    },
    "papermill": {
     "duration": 0.040365,
     "end_time": "2022-05-17T00:40:57.302051",
     "exception": false,
     "start_time": "2022-05-17T00:40:57.261686",
     "status": "completed"
    },
    "tags": []
   },
   "outputs": [],
   "source": [
    "#hide\n",
    "\n",
    "# FETCH\n",
    "base_url = 'https://raw.githubusercontent.com/pratapvardhan/notebooks/master/covid19/'\n",
    "paths = {\n",
    "    'mapping': base_url + 'mapping_countries.csv',\n",
    "    'overview': base_url + 'overview.tpl'\n",
    "}"
   ]
  },
  {
   "cell_type": "code",
   "execution_count": 3,
   "id": "dynamic-saver",
   "metadata": {
    "execution": {
     "iopub.execute_input": "2022-05-17T00:40:57.375405Z",
     "iopub.status.busy": "2022-05-17T00:40:57.374833Z",
     "iopub.status.idle": "2022-05-17T00:40:57.377327Z",
     "shell.execute_reply": "2022-05-17T00:40:57.377763Z"
    },
    "papermill": {
     "duration": 0.044047,
     "end_time": "2022-05-17T00:40:57.377895",
     "exception": false,
     "start_time": "2022-05-17T00:40:57.333848",
     "status": "completed"
    },
    "tags": []
   },
   "outputs": [
    {
     "data": {
      "text/plain": [
       "'https://raw.githubusercontent.com/pratapvardhan/notebooks/master/covid19/mapping_countries.csv'"
      ]
     },
     "execution_count": 3,
     "metadata": {},
     "output_type": "execute_result"
    }
   ],
   "source": [
    "#hide\n",
    "paths['mapping']"
   ]
  },
  {
   "cell_type": "code",
   "execution_count": 4,
   "id": "urban-software",
   "metadata": {
    "execution": {
     "iopub.execute_input": "2022-05-17T00:40:57.447171Z",
     "iopub.status.busy": "2022-05-17T00:40:57.446542Z",
     "iopub.status.idle": "2022-05-17T00:40:57.449152Z",
     "shell.execute_reply": "2022-05-17T00:40:57.448612Z"
    },
    "papermill": {
     "duration": 0.039982,
     "end_time": "2022-05-17T00:40:57.449268",
     "exception": false,
     "start_time": "2022-05-17T00:40:57.409286",
     "status": "completed"
    },
    "tags": []
   },
   "outputs": [],
   "source": [
    "#hide\n",
    "def get_mappings(url):\n",
    "    df = pd.read_csv(url)\n",
    "    return {\n",
    "        'df': df,\n",
    "        'replace.country': dict(df.dropna(subset=['Name']).set_index('Country')['Name']),\n",
    "        'map.continent': dict(df.set_index('Name')['Continent'])\n",
    "    }"
   ]
  },
  {
   "cell_type": "code",
   "execution_count": 5,
   "id": "intimate-machinery",
   "metadata": {
    "execution": {
     "iopub.execute_input": "2022-05-17T00:40:57.519715Z",
     "iopub.status.busy": "2022-05-17T00:40:57.519112Z",
     "iopub.status.idle": "2022-05-17T00:40:57.545378Z",
     "shell.execute_reply": "2022-05-17T00:40:57.545914Z"
    },
    "papermill": {
     "duration": 0.06443,
     "end_time": "2022-05-17T00:40:57.546074",
     "exception": false,
     "start_time": "2022-05-17T00:40:57.481644",
     "status": "completed"
    },
    "tags": []
   },
   "outputs": [],
   "source": [
    "#hide\n",
    "mapping = get_mappings(paths['mapping'])"
   ]
  },
  {
   "cell_type": "code",
   "execution_count": 6,
   "id": "certified-tactics",
   "metadata": {
    "execution": {
     "iopub.execute_input": "2022-05-17T00:40:57.618166Z",
     "iopub.status.busy": "2022-05-17T00:40:57.617439Z",
     "iopub.status.idle": "2022-05-17T00:40:57.619022Z",
     "shell.execute_reply": "2022-05-17T00:40:57.619695Z"
    },
    "papermill": {
     "duration": 0.040509,
     "end_time": "2022-05-17T00:40:57.619852",
     "exception": false,
     "start_time": "2022-05-17T00:40:57.579343",
     "status": "completed"
    },
    "tags": []
   },
   "outputs": [],
   "source": [
    "#hide\n",
    "def get_template(path):\n",
    "    from urllib.parse import urlparse\n",
    "    if bool(urlparse(path).netloc):\n",
    "        from urllib.request import urlopen\n",
    "        return urlopen(path).read().decode('utf8')\n",
    "    return open(path).read()"
   ]
  },
  {
   "cell_type": "code",
   "execution_count": 7,
   "id": "realistic-blast",
   "metadata": {
    "execution": {
     "iopub.execute_input": "2022-05-17T00:40:57.691680Z",
     "iopub.status.busy": "2022-05-17T00:40:57.690945Z",
     "iopub.status.idle": "2022-05-17T00:40:57.693985Z",
     "shell.execute_reply": "2022-05-17T00:40:57.693503Z"
    },
    "papermill": {
     "duration": 0.040413,
     "end_time": "2022-05-17T00:40:57.694106",
     "exception": false,
     "start_time": "2022-05-17T00:40:57.653693",
     "status": "completed"
    },
    "tags": []
   },
   "outputs": [],
   "source": [
    "#hide\n",
    "def get_frame(name):\n",
    "    url = (\n",
    "        'https://raw.githubusercontent.com/CSSEGISandData/COVID-19/master/csse_covid_19_data/'\n",
    "        f'csse_covid_19_time_series/time_series_covid19_{name}_global.csv')\n",
    "    df = pd.read_csv(url)\n",
    "    # rename countries\n",
    "    df['Country/Region'] = df['Country/Region'].replace(mapping['replace.country'])\n",
    "    return df"
   ]
  },
  {
   "cell_type": "code",
   "execution_count": 8,
   "id": "affiliated-characterization",
   "metadata": {
    "execution": {
     "iopub.execute_input": "2022-05-17T00:40:57.765622Z",
     "iopub.status.busy": "2022-05-17T00:40:57.765056Z",
     "iopub.status.idle": "2022-05-17T00:40:57.767270Z",
     "shell.execute_reply": "2022-05-17T00:40:57.766765Z"
    },
    "papermill": {
     "duration": 0.040199,
     "end_time": "2022-05-17T00:40:57.767382",
     "exception": false,
     "start_time": "2022-05-17T00:40:57.727183",
     "status": "completed"
    },
    "tags": []
   },
   "outputs": [],
   "source": [
    "#hide\n",
    "def get_dates(df):\n",
    "    dt_cols = df.columns[~df.columns.isin(['Province/State', 'Country/Region', 'Lat', 'Long'])]\n",
    "    LAST_DATE_I = -1\n",
    "    # sometimes last column may be empty, then go backwards\n",
    "    for i in range(-1, -len(dt_cols), -1):\n",
    "        if not df[dt_cols[i]].fillna(0).eq(0).all():\n",
    "            LAST_DATE_I = i\n",
    "            break\n",
    "    return LAST_DATE_I, dt_cols"
   ]
  },
  {
   "cell_type": "code",
   "execution_count": 9,
   "id": "recent-optimization",
   "metadata": {
    "execution": {
     "iopub.execute_input": "2022-05-17T00:40:57.836283Z",
     "iopub.status.busy": "2022-05-17T00:40:57.835700Z",
     "iopub.status.idle": "2022-05-17T00:40:58.206289Z",
     "shell.execute_reply": "2022-05-17T00:40:58.205653Z"
    },
    "papermill": {
     "duration": 0.4076,
     "end_time": "2022-05-17T00:40:58.206451",
     "exception": false,
     "start_time": "2022-05-17T00:40:57.798851",
     "status": "completed"
    },
    "tags": []
   },
   "outputs": [],
   "source": [
    "#hide\n",
    "COL_REGION = 'Country/Region'\n",
    "# Confirmed, Recovered, Deaths\n",
    "df = get_frame('confirmed')\n",
    "# dft_: timeseries, dfc_: today country agg\n",
    "dft_cases = df\n",
    "dft_deaths = get_frame('deaths')\n",
    "dft_recovered = get_frame('recovered')\n",
    "LAST_DATE_I, dt_cols = get_dates(df)"
   ]
  },
  {
   "cell_type": "code",
   "execution_count": 10,
   "id": "absolute-copper",
   "metadata": {
    "execution": {
     "iopub.execute_input": "2022-05-17T00:40:58.291623Z",
     "iopub.status.busy": "2022-05-17T00:40:58.291054Z",
     "iopub.status.idle": "2022-05-17T00:40:58.293194Z",
     "shell.execute_reply": "2022-05-17T00:40:58.292643Z"
    },
    "papermill": {
     "duration": 0.043901,
     "end_time": "2022-05-17T00:40:58.293307",
     "exception": false,
     "start_time": "2022-05-17T00:40:58.249406",
     "status": "completed"
    },
    "tags": []
   },
   "outputs": [],
   "source": [
    "#hide\n",
    "LAST_DATE_I, dt_cols = get_dates(df)\n",
    "dt_today =dt_cols[LAST_DATE_I]\n",
    "# dt_5day = dt_cols[LAST_DATE_I - 5]\n",
    "dt_yday = dt_cols[LAST_DATE_I - 1]"
   ]
  },
  {
   "cell_type": "code",
   "execution_count": 11,
   "id": "restricted-sheriff",
   "metadata": {
    "execution": {
     "iopub.execute_input": "2022-05-17T00:40:58.364262Z",
     "iopub.status.busy": "2022-05-17T00:40:58.363668Z",
     "iopub.status.idle": "2022-05-17T00:40:58.370934Z",
     "shell.execute_reply": "2022-05-17T00:40:58.371429Z"
    },
    "papermill": {
     "duration": 0.046408,
     "end_time": "2022-05-17T00:40:58.371566",
     "exception": false,
     "start_time": "2022-05-17T00:40:58.325158",
     "status": "completed"
    },
    "tags": []
   },
   "outputs": [],
   "source": [
    "#hide\n",
    "dfc_cases = dft_cases.groupby(COL_REGION)[dt_today].sum()\n",
    "dfc_deaths = dft_deaths.groupby(COL_REGION)[dt_today].sum()\n",
    "# dfp_cases = dft_cases.groupby(COL_REGION)[dt_5day].sum()\n",
    "# dfp_deaths = dft_deaths.groupby(COL_REGION)[dt_5day].sum()\n",
    "dfp_cases = dft_cases.groupby(COL_REGION)[dt_yday].sum()\n",
    "dfp_deaths = dft_deaths.groupby(COL_REGION)[dt_yday].sum()"
   ]
  },
  {
   "cell_type": "code",
   "execution_count": 12,
   "id": "deluxe-hepatitis",
   "metadata": {
    "execution": {
     "iopub.execute_input": "2022-05-17T00:40:58.443144Z",
     "iopub.status.busy": "2022-05-17T00:40:58.442565Z",
     "iopub.status.idle": "2022-05-17T00:40:58.447469Z",
     "shell.execute_reply": "2022-05-17T00:40:58.447015Z"
    },
    "papermill": {
     "duration": 0.042713,
     "end_time": "2022-05-17T00:40:58.447584",
     "exception": false,
     "start_time": "2022-05-17T00:40:58.404871",
     "status": "completed"
    },
    "tags": []
   },
   "outputs": [],
   "source": [
    "#hide\n",
    "df_table = (pd.DataFrame(dict(Cases = dfc_cases, Deaths = dfc_deaths, PCases = dfp_cases, PDeaths = dfp_deaths))\n",
    "            .sort_values(by = ['Cases','Deaths'], ascending = [False, False])\n",
    "            .reset_index())"
   ]
  },
  {
   "cell_type": "code",
   "execution_count": 13,
   "id": "educational-chancellor",
   "metadata": {
    "execution": {
     "iopub.execute_input": "2022-05-17T00:40:58.516302Z",
     "iopub.status.busy": "2022-05-17T00:40:58.515706Z",
     "iopub.status.idle": "2022-05-17T00:40:58.541151Z",
     "shell.execute_reply": "2022-05-17T00:40:58.540451Z"
    },
    "papermill": {
     "duration": 0.061123,
     "end_time": "2022-05-17T00:40:58.541292",
     "exception": false,
     "start_time": "2022-05-17T00:40:58.480169",
     "status": "completed"
    },
    "tags": []
   },
   "outputs": [
    {
     "data": {
      "text/html": [
       "<div>\n",
       "<style scoped>\n",
       "    .dataframe tbody tr th:only-of-type {\n",
       "        vertical-align: middle;\n",
       "    }\n",
       "\n",
       "    .dataframe tbody tr th {\n",
       "        vertical-align: top;\n",
       "    }\n",
       "\n",
       "    .dataframe thead th {\n",
       "        text-align: right;\n",
       "    }\n",
       "</style>\n",
       "<table border=\"1\" class=\"dataframe\">\n",
       "  <thead>\n",
       "    <tr style=\"text-align: right;\">\n",
       "      <th></th>\n",
       "      <th>Country/Region</th>\n",
       "      <th>Cases</th>\n",
       "      <th>Deaths</th>\n",
       "      <th>PCases</th>\n",
       "      <th>PDeaths</th>\n",
       "      <th>Cases (+)</th>\n",
       "      <th>Deaths (+)</th>\n",
       "      <th>Fatality Rate</th>\n",
       "      <th>Continent</th>\n",
       "    </tr>\n",
       "  </thead>\n",
       "  <tbody>\n",
       "    <tr>\n",
       "      <th>0</th>\n",
       "      <td>US</td>\n",
       "      <td>82468606</td>\n",
       "      <td>999602</td>\n",
       "      <td>82437716</td>\n",
       "      <td>999570</td>\n",
       "      <td>30890</td>\n",
       "      <td>32</td>\n",
       "      <td>1.21</td>\n",
       "      <td>North America</td>\n",
       "    </tr>\n",
       "    <tr>\n",
       "      <th>1</th>\n",
       "      <td>India</td>\n",
       "      <td>43123801</td>\n",
       "      <td>524241</td>\n",
       "      <td>43121599</td>\n",
       "      <td>524214</td>\n",
       "      <td>2202</td>\n",
       "      <td>27</td>\n",
       "      <td>1.22</td>\n",
       "      <td>Asia</td>\n",
       "    </tr>\n",
       "    <tr>\n",
       "      <th>2</th>\n",
       "      <td>Brazil</td>\n",
       "      <td>30688390</td>\n",
       "      <td>665150</td>\n",
       "      <td>30682094</td>\n",
       "      <td>665104</td>\n",
       "      <td>6296</td>\n",
       "      <td>46</td>\n",
       "      <td>2.17</td>\n",
       "      <td>South America</td>\n",
       "    </tr>\n",
       "    <tr>\n",
       "      <th>3</th>\n",
       "      <td>France</td>\n",
       "      <td>29375134</td>\n",
       "      <td>148313</td>\n",
       "      <td>29352290</td>\n",
       "      <td>148306</td>\n",
       "      <td>22844</td>\n",
       "      <td>7</td>\n",
       "      <td>0.50</td>\n",
       "      <td>Europe</td>\n",
       "    </tr>\n",
       "    <tr>\n",
       "      <th>4</th>\n",
       "      <td>Germany</td>\n",
       "      <td>25732153</td>\n",
       "      <td>137499</td>\n",
       "      <td>25729848</td>\n",
       "      <td>137499</td>\n",
       "      <td>2305</td>\n",
       "      <td>0</td>\n",
       "      <td>0.53</td>\n",
       "      <td>Europe</td>\n",
       "    </tr>\n",
       "  </tbody>\n",
       "</table>\n",
       "</div>"
      ],
      "text/plain": [
       "  Country/Region     Cases  Deaths    PCases  PDeaths  Cases (+)  Deaths (+)  \\\n",
       "0             US  82468606  999602  82437716   999570      30890          32   \n",
       "1          India  43123801  524241  43121599   524214       2202          27   \n",
       "2         Brazil  30688390  665150  30682094   665104       6296          46   \n",
       "3         France  29375134  148313  29352290   148306      22844           7   \n",
       "4        Germany  25732153  137499  25729848   137499       2305           0   \n",
       "\n",
       "   Fatality Rate      Continent  \n",
       "0           1.21  North America  \n",
       "1           1.22           Asia  \n",
       "2           2.17  South America  \n",
       "3           0.50         Europe  \n",
       "4           0.53         Europe  "
      ]
     },
     "execution_count": 13,
     "metadata": {},
     "output_type": "execute_result"
    }
   ],
   "source": [
    "#hide\n",
    "for c in 'Cases, Deaths'.split(', '):\n",
    "    df_table[f'{c} (+)'] = (df_table[c] - df_table[f'P{c}']).clip(0)\n",
    "    #Clip ça veut dire, les chiffres negatif sont interdit\n",
    "df_table['Fatality Rate'] = (100* df_table['Deaths']/ df_table['Cases']).round(2)\n",
    "df_table['Continent'] = df_table['Country/Region'].map(mapping['map.continent'])\n",
    "df_table.head(5)"
   ]
  },
  {
   "cell_type": "code",
   "execution_count": 14,
   "id": "aboriginal-bulgaria",
   "metadata": {
    "execution": {
     "iopub.execute_input": "2022-05-17T00:40:58.613838Z",
     "iopub.status.busy": "2022-05-17T00:40:58.613120Z",
     "iopub.status.idle": "2022-05-17T00:40:58.616630Z",
     "shell.execute_reply": "2022-05-17T00:40:58.617019Z"
    },
    "papermill": {
     "duration": 0.041516,
     "end_time": "2022-05-17T00:40:58.617134",
     "exception": false,
     "start_time": "2022-05-17T00:40:58.575618",
     "status": "completed"
    },
    "tags": []
   },
   "outputs": [],
   "source": [
    "#hide\n",
    "#delete problematic countries from table\n",
    "df_table = df_table[~df_table['Country/Region'].isin(['Cape Verde', 'Cruise Ship', 'Kosovo'])]"
   ]
  },
  {
   "cell_type": "code",
   "execution_count": 15,
   "id": "fantastic-effect",
   "metadata": {
    "execution": {
     "iopub.execute_input": "2022-05-17T00:40:58.707171Z",
     "iopub.status.busy": "2022-05-17T00:40:58.706526Z",
     "iopub.status.idle": "2022-05-17T00:40:58.709029Z",
     "shell.execute_reply": "2022-05-17T00:40:58.709537Z"
    },
    "papermill": {
     "duration": 0.060553,
     "end_time": "2022-05-17T00:40:58.709671",
     "exception": false,
     "start_time": "2022-05-17T00:40:58.649118",
     "status": "completed"
    },
    "tags": []
   },
   "outputs": [
    {
     "data": {
      "text/html": [
       "<div>\n",
       "<style scoped>\n",
       "    .dataframe tbody tr th:only-of-type {\n",
       "        vertical-align: middle;\n",
       "    }\n",
       "\n",
       "    .dataframe tbody tr th {\n",
       "        vertical-align: top;\n",
       "    }\n",
       "\n",
       "    .dataframe thead th {\n",
       "        text-align: right;\n",
       "    }\n",
       "</style>\n",
       "<table border=\"1\" class=\"dataframe\">\n",
       "  <thead>\n",
       "    <tr style=\"text-align: right;\">\n",
       "      <th></th>\n",
       "      <th>Country/Region</th>\n",
       "      <th>Cases</th>\n",
       "      <th>Deaths</th>\n",
       "      <th>PCases</th>\n",
       "      <th>PDeaths</th>\n",
       "      <th>Cases (+)</th>\n",
       "      <th>Deaths (+)</th>\n",
       "      <th>Fatality Rate</th>\n",
       "      <th>Continent</th>\n",
       "    </tr>\n",
       "  </thead>\n",
       "  <tbody>\n",
       "    <tr>\n",
       "      <th>0</th>\n",
       "      <td>US</td>\n",
       "      <td>82468606</td>\n",
       "      <td>999602</td>\n",
       "      <td>82437716</td>\n",
       "      <td>999570</td>\n",
       "      <td>30890</td>\n",
       "      <td>32</td>\n",
       "      <td>1.2</td>\n",
       "      <td>North America</td>\n",
       "    </tr>\n",
       "    <tr>\n",
       "      <th>1</th>\n",
       "      <td>India</td>\n",
       "      <td>43123801</td>\n",
       "      <td>524241</td>\n",
       "      <td>43121599</td>\n",
       "      <td>524214</td>\n",
       "      <td>2202</td>\n",
       "      <td>27</td>\n",
       "      <td>1.2</td>\n",
       "      <td>Asia</td>\n",
       "    </tr>\n",
       "    <tr>\n",
       "      <th>2</th>\n",
       "      <td>Brazil</td>\n",
       "      <td>30688390</td>\n",
       "      <td>665150</td>\n",
       "      <td>30682094</td>\n",
       "      <td>665104</td>\n",
       "      <td>6296</td>\n",
       "      <td>46</td>\n",
       "      <td>2.2</td>\n",
       "      <td>South America</td>\n",
       "    </tr>\n",
       "    <tr>\n",
       "      <th>3</th>\n",
       "      <td>France</td>\n",
       "      <td>29375134</td>\n",
       "      <td>148313</td>\n",
       "      <td>29352290</td>\n",
       "      <td>148306</td>\n",
       "      <td>22844</td>\n",
       "      <td>7</td>\n",
       "      <td>0.5</td>\n",
       "      <td>Europe</td>\n",
       "    </tr>\n",
       "    <tr>\n",
       "      <th>4</th>\n",
       "      <td>Germany</td>\n",
       "      <td>25732153</td>\n",
       "      <td>137499</td>\n",
       "      <td>25729848</td>\n",
       "      <td>137499</td>\n",
       "      <td>2305</td>\n",
       "      <td>0</td>\n",
       "      <td>0.5</td>\n",
       "      <td>Europe</td>\n",
       "    </tr>\n",
       "  </tbody>\n",
       "</table>\n",
       "</div>"
      ],
      "text/plain": [
       "  Country/Region     Cases  Deaths    PCases  PDeaths  Cases (+)  Deaths (+)  \\\n",
       "0             US  82468606  999602  82437716   999570      30890          32   \n",
       "1          India  43123801  524241  43121599   524214       2202          27   \n",
       "2         Brazil  30688390  665150  30682094   665104       6296          46   \n",
       "3         France  29375134  148313  29352290   148306      22844           7   \n",
       "4        Germany  25732153  137499  25729848   137499       2305           0   \n",
       "\n",
       "   Fatality Rate      Continent  \n",
       "0            1.2  North America  \n",
       "1            1.2           Asia  \n",
       "2            2.2  South America  \n",
       "3            0.5         Europe  \n",
       "4            0.5         Europe  "
      ]
     },
     "execution_count": 15,
     "metadata": {},
     "output_type": "execute_result"
    }
   ],
   "source": [
    "#hide\n",
    "df_table = (pd.DataFrame(dict(Cases=dfc_cases, Deaths=dfc_deaths, PCases=dfp_cases, PDeaths=dfp_deaths))\n",
    "             .sort_values(by=['Cases', 'Deaths'], ascending=[False, False])\n",
    "             .reset_index())\n",
    "df_table.rename(columns={'index': 'Country/Region'}, inplace=True)\n",
    "for c in 'Cases, Deaths'.split(', '):\n",
    "    df_table[f'{c} (+)'] = (df_table[c] - df_table[f'P{c}']).clip(0)  # DATA BUG\n",
    "df_table['Fatality Rate'] = (100 * df_table['Deaths'] / df_table['Cases']).round(1)\n",
    "df_table['Continent'] = df_table['Country/Region'].map(mapping['map.continent'])\n",
    "df_table.head(5)"
   ]
  },
  {
   "cell_type": "code",
   "execution_count": 16,
   "id": "fewer-occasion",
   "metadata": {
    "execution": {
     "iopub.execute_input": "2022-05-17T00:40:58.782939Z",
     "iopub.status.busy": "2022-05-17T00:40:58.782031Z",
     "iopub.status.idle": "2022-05-17T00:40:58.786665Z",
     "shell.execute_reply": "2022-05-17T00:40:58.786053Z"
    },
    "papermill": {
     "duration": 0.043562,
     "end_time": "2022-05-17T00:40:58.786801",
     "exception": false,
     "start_time": "2022-05-17T00:40:58.743239",
     "status": "completed"
    },
    "tags": []
   },
   "outputs": [],
   "source": [
    "#hide\n",
    "#delete problematic countries from table\n",
    "df_table = df_table[~df_table['Country/Region'].isin(['Cape Verde', 'Cruise Ship', 'Kosovo'])]"
   ]
  },
  {
   "cell_type": "code",
   "execution_count": 17,
   "id": "related-center",
   "metadata": {
    "execution": {
     "iopub.execute_input": "2022-05-17T00:40:58.872981Z",
     "iopub.status.busy": "2022-05-17T00:40:58.872406Z",
     "iopub.status.idle": "2022-05-17T00:40:58.874630Z",
     "shell.execute_reply": "2022-05-17T00:40:58.874130Z"
    },
    "papermill": {
     "duration": 0.054929,
     "end_time": "2022-05-17T00:40:58.874751",
     "exception": false,
     "start_time": "2022-05-17T00:40:58.819822",
     "status": "completed"
    },
    "tags": []
   },
   "outputs": [],
   "source": [
    "#hide\n",
    "metrics = [df_table.columns[index] for index in [1,2,5,6]]\n",
    "# s_china = df_table[df_table['Country/Region'].eq('China')][metrics].sum().add_prefix('China ')\n",
    "s_us = df_table[df_table['Country/Region'].eq('US')][metrics].sum().add_prefix('US ')\n",
    "s_eu = df_table[df_table['Continent'].eq('Europe')][metrics].sum().add_prefix('EU ')\n",
    "s_ind = df_table[df_table['Country/Region'].eq('India')][metrics].sum().add_prefix('India ')\n",
    "summary = {'updated': pd.to_datetime(dt_today), 'since': pd.to_datetime(dt_yday)}\n",
    "summary = {'updated': pd.to_datetime(dt_today), 'since': pd.to_datetime(dt_yday)}\n",
    "summary = {**summary, **df_table[metrics].sum(), **s_ind, **s_us, **s_eu}"
   ]
  },
  {
   "cell_type": "code",
   "execution_count": 18,
   "id": "engaging-syndrome",
   "metadata": {
    "execution": {
     "iopub.execute_input": "2022-05-17T00:40:58.947463Z",
     "iopub.status.busy": "2022-05-17T00:40:58.946843Z",
     "iopub.status.idle": "2022-05-17T00:40:58.966341Z",
     "shell.execute_reply": "2022-05-17T00:40:58.965871Z"
    },
    "papermill": {
     "duration": 0.057924,
     "end_time": "2022-05-17T00:40:58.966456",
     "exception": false,
     "start_time": "2022-05-17T00:40:58.908532",
     "status": "completed"
    },
    "tags": []
   },
   "outputs": [],
   "source": [
    "#hide\n",
    "dft_ct_new_cases = dft_cases.groupby(COL_REGION)[dt_cols].sum().diff(axis=1).fillna(0).astype(int)"
   ]
  },
  {
   "cell_type": "code",
   "execution_count": 19,
   "id": "neutral-assignment",
   "metadata": {
    "execution": {
     "iopub.execute_input": "2022-05-17T00:40:59.039272Z",
     "iopub.status.busy": "2022-05-17T00:40:59.038508Z",
     "iopub.status.idle": "2022-05-17T00:40:59.041355Z",
     "shell.execute_reply": "2022-05-17T00:40:59.041824Z"
    },
    "papermill": {
     "duration": 0.042926,
     "end_time": "2022-05-17T00:40:59.041968",
     "exception": false,
     "start_time": "2022-05-17T00:40:58.999042",
     "status": "completed"
    },
    "tags": []
   },
   "outputs": [],
   "source": [
    "#hide\n",
    "everydaycases = dft_ct_new_cases.cumsum(axis=1)"
   ]
  },
  {
   "cell_type": "code",
   "execution_count": 20,
   "id": "parliamentary-calgary",
   "metadata": {
    "execution": {
     "iopub.execute_input": "2022-05-17T00:40:59.111426Z",
     "iopub.status.busy": "2022-05-17T00:40:59.110834Z",
     "iopub.status.idle": "2022-05-17T00:40:59.781090Z",
     "shell.execute_reply": "2022-05-17T00:40:59.780597Z"
    },
    "papermill": {
     "duration": 0.706744,
     "end_time": "2022-05-17T00:40:59.781222",
     "exception": false,
     "start_time": "2022-05-17T00:40:59.074478",
     "status": "completed"
    },
    "tags": []
   },
   "outputs": [],
   "source": [
    "#hide\n",
    "import pandas as pd\n",
    "import matplotlib.pyplot as plt\n",
    "import matplotlib.ticker as ticker\n",
    "import matplotlib.animation as animation\n",
    "from IPython.display import HTML"
   ]
  },
  {
   "cell_type": "code",
   "execution_count": 21,
   "id": "lasting-extraction",
   "metadata": {
    "execution": {
     "iopub.execute_input": "2022-05-17T00:40:59.853558Z",
     "iopub.status.busy": "2022-05-17T00:40:59.853007Z",
     "iopub.status.idle": "2022-05-17T00:40:59.859813Z",
     "shell.execute_reply": "2022-05-17T00:40:59.860287Z"
    },
    "papermill": {
     "duration": 0.046658,
     "end_time": "2022-05-17T00:40:59.860419",
     "exception": false,
     "start_time": "2022-05-17T00:40:59.813761",
     "status": "completed"
    },
    "tags": []
   },
   "outputs": [],
   "source": [
    "#hide\n",
    "t = everydaycases.stack()"
   ]
  },
  {
   "cell_type": "code",
   "execution_count": 22,
   "id": "premier-sleeve",
   "metadata": {
    "execution": {
     "iopub.execute_input": "2022-05-17T00:40:59.928444Z",
     "iopub.status.busy": "2022-05-17T00:40:59.927844Z",
     "iopub.status.idle": "2022-05-17T00:40:59.940909Z",
     "shell.execute_reply": "2022-05-17T00:40:59.940461Z"
    },
    "papermill": {
     "duration": 0.04955,
     "end_time": "2022-05-17T00:40:59.941026",
     "exception": false,
     "start_time": "2022-05-17T00:40:59.891476",
     "status": "completed"
    },
    "tags": []
   },
   "outputs": [],
   "source": [
    "#hide\n",
    "g = t.reset_index(['Country/Region'])"
   ]
  },
  {
   "cell_type": "code",
   "execution_count": 23,
   "id": "distributed-pittsburgh",
   "metadata": {
    "execution": {
     "iopub.execute_input": "2022-05-17T00:41:00.009065Z",
     "iopub.status.busy": "2022-05-17T00:41:00.008336Z",
     "iopub.status.idle": "2022-05-17T00:41:00.012791Z",
     "shell.execute_reply": "2022-05-17T00:41:00.012262Z"
    },
    "papermill": {
     "duration": 0.040503,
     "end_time": "2022-05-17T00:41:00.012905",
     "exception": false,
     "start_time": "2022-05-17T00:40:59.972402",
     "status": "completed"
    },
    "tags": []
   },
   "outputs": [],
   "source": [
    "#hide\n",
    "g.index.name = 'date'"
   ]
  },
  {
   "cell_type": "code",
   "execution_count": 24,
   "id": "naked-donor",
   "metadata": {
    "execution": {
     "iopub.execute_input": "2022-05-17T00:41:00.090201Z",
     "iopub.status.busy": "2022-05-17T00:41:00.089506Z",
     "iopub.status.idle": "2022-05-17T00:41:00.091931Z",
     "shell.execute_reply": "2022-05-17T00:41:00.091345Z"
    },
    "papermill": {
     "duration": 0.04076,
     "end_time": "2022-05-17T00:41:00.092049",
     "exception": false,
     "start_time": "2022-05-17T00:41:00.051289",
     "status": "completed"
    },
    "tags": []
   },
   "outputs": [],
   "source": [
    "# #hide\n",
    "# g = g.reset_index(['date'])"
   ]
  },
  {
   "cell_type": "code",
   "execution_count": 25,
   "id": "incomplete-mustang",
   "metadata": {
    "execution": {
     "iopub.execute_input": "2022-05-17T00:41:00.180508Z",
     "iopub.status.busy": "2022-05-17T00:41:00.179342Z",
     "iopub.status.idle": "2022-05-17T00:41:00.182677Z",
     "shell.execute_reply": "2022-05-17T00:41:00.183244Z"
    },
    "papermill": {
     "duration": 0.041201,
     "end_time": "2022-05-17T00:41:00.183410",
     "exception": false,
     "start_time": "2022-05-17T00:41:00.142209",
     "status": "completed"
    },
    "tags": []
   },
   "outputs": [],
   "source": [
    "#hide\n",
    "# g.head()"
   ]
  },
  {
   "cell_type": "code",
   "execution_count": 26,
   "id": "specific-kruger",
   "metadata": {
    "execution": {
     "iopub.execute_input": "2022-05-17T00:41:00.253665Z",
     "iopub.status.busy": "2022-05-17T00:41:00.253065Z",
     "iopub.status.idle": "2022-05-17T00:41:00.255615Z",
     "shell.execute_reply": "2022-05-17T00:41:00.255170Z"
    },
    "papermill": {
     "duration": 0.038309,
     "end_time": "2022-05-17T00:41:00.255732",
     "exception": false,
     "start_time": "2022-05-17T00:41:00.217423",
     "status": "completed"
    },
    "tags": []
   },
   "outputs": [],
   "source": [
    "#hide\n",
    "# g.columns = ['date','country','cases']"
   ]
  },
  {
   "cell_type": "code",
   "execution_count": 27,
   "id": "tender-conversion",
   "metadata": {
    "execution": {
     "iopub.execute_input": "2022-05-17T00:41:00.324114Z",
     "iopub.status.busy": "2022-05-17T00:41:00.323525Z",
     "iopub.status.idle": "2022-05-17T00:41:00.325600Z",
     "shell.execute_reply": "2022-05-17T00:41:00.326126Z"
    },
    "papermill": {
     "duration": 0.038193,
     "end_time": "2022-05-17T00:41:00.326248",
     "exception": false,
     "start_time": "2022-05-17T00:41:00.288055",
     "status": "completed"
    },
    "tags": []
   },
   "outputs": [],
   "source": [
    "#hide\n",
    "# g['continent'] = g.country"
   ]
  },
  {
   "cell_type": "code",
   "execution_count": 28,
   "id": "substantial-wilderness",
   "metadata": {
    "execution": {
     "iopub.execute_input": "2022-05-17T00:41:00.393997Z",
     "iopub.status.busy": "2022-05-17T00:41:00.393200Z",
     "iopub.status.idle": "2022-05-17T00:41:00.397097Z",
     "shell.execute_reply": "2022-05-17T00:41:00.397599Z"
    },
    "papermill": {
     "duration": 0.039354,
     "end_time": "2022-05-17T00:41:00.397723",
     "exception": false,
     "start_time": "2022-05-17T00:41:00.358369",
     "status": "completed"
    },
    "tags": []
   },
   "outputs": [],
   "source": [
    "#hide\n",
    "# cols = list(g.columns.values)"
   ]
  },
  {
   "cell_type": "code",
   "execution_count": 29,
   "id": "solved-farming",
   "metadata": {
    "execution": {
     "iopub.execute_input": "2022-05-17T00:41:00.467493Z",
     "iopub.status.busy": "2022-05-17T00:41:00.466757Z",
     "iopub.status.idle": "2022-05-17T00:41:00.468866Z",
     "shell.execute_reply": "2022-05-17T00:41:00.468251Z"
    },
    "papermill": {
     "duration": 0.038519,
     "end_time": "2022-05-17T00:41:00.468984",
     "exception": false,
     "start_time": "2022-05-17T00:41:00.430465",
     "status": "completed"
    },
    "tags": []
   },
   "outputs": [],
   "source": [
    "#hide\n",
    "# cols.insert(0, cols.pop())"
   ]
  },
  {
   "cell_type": "code",
   "execution_count": 30,
   "id": "executed-adoption",
   "metadata": {
    "execution": {
     "iopub.execute_input": "2022-05-17T00:41:00.538419Z",
     "iopub.status.busy": "2022-05-17T00:41:00.537725Z",
     "iopub.status.idle": "2022-05-17T00:41:00.541660Z",
     "shell.execute_reply": "2022-05-17T00:41:00.541217Z"
    },
    "papermill": {
     "duration": 0.040479,
     "end_time": "2022-05-17T00:41:00.541769",
     "exception": false,
     "start_time": "2022-05-17T00:41:00.501290",
     "status": "completed"
    },
    "tags": []
   },
   "outputs": [],
   "source": [
    "#hide\n",
    "# g = g[cols]"
   ]
  },
  {
   "cell_type": "code",
   "execution_count": 31,
   "id": "subject-dublin",
   "metadata": {
    "execution": {
     "iopub.execute_input": "2022-05-17T00:41:00.610706Z",
     "iopub.status.busy": "2022-05-17T00:41:00.610160Z",
     "iopub.status.idle": "2022-05-17T00:41:00.612039Z",
     "shell.execute_reply": "2022-05-17T00:41:00.612482Z"
    },
    "papermill": {
     "duration": 0.038142,
     "end_time": "2022-05-17T00:41:00.612601",
     "exception": false,
     "start_time": "2022-05-17T00:41:00.574459",
     "status": "completed"
    },
    "tags": []
   },
   "outputs": [],
   "source": [
    "#hide\n",
    "# g['continent'] = g['continent'].map(mapping['map.continent'])"
   ]
  },
  {
   "cell_type": "code",
   "execution_count": 32,
   "id": "freelance-scout",
   "metadata": {
    "execution": {
     "iopub.execute_input": "2022-05-17T00:41:00.681371Z",
     "iopub.status.busy": "2022-05-17T00:41:00.680715Z",
     "iopub.status.idle": "2022-05-17T00:41:00.684774Z",
     "shell.execute_reply": "2022-05-17T00:41:00.684331Z"
    },
    "papermill": {
     "duration": 0.040078,
     "end_time": "2022-05-17T00:41:00.684885",
     "exception": false,
     "start_time": "2022-05-17T00:41:00.644807",
     "status": "completed"
    },
    "tags": []
   },
   "outputs": [],
   "source": [
    "#hide\n",
    "# g.head()"
   ]
  },
  {
   "cell_type": "code",
   "execution_count": 33,
   "id": "limited-engine",
   "metadata": {
    "execution": {
     "iopub.execute_input": "2022-05-17T00:41:00.753453Z",
     "iopub.status.busy": "2022-05-17T00:41:00.752880Z",
     "iopub.status.idle": "2022-05-17T00:41:00.754857Z",
     "shell.execute_reply": "2022-05-17T00:41:00.754294Z"
    },
    "papermill": {
     "duration": 0.037636,
     "end_time": "2022-05-17T00:41:00.754968",
     "exception": false,
     "start_time": "2022-05-17T00:41:00.717332",
     "status": "completed"
    },
    "tags": []
   },
   "outputs": [],
   "source": [
    "# hide\n",
    "# g['date'] = g['date'].astype('datetime64[ns]')"
   ]
  },
  {
   "cell_type": "code",
   "execution_count": 34,
   "id": "sophisticated-supervisor",
   "metadata": {
    "execution": {
     "iopub.execute_input": "2022-05-17T00:41:00.831829Z",
     "iopub.status.busy": "2022-05-17T00:41:00.830992Z",
     "iopub.status.idle": "2022-05-17T00:41:00.833222Z",
     "shell.execute_reply": "2022-05-17T00:41:00.832646Z"
    },
    "papermill": {
     "duration": 0.043307,
     "end_time": "2022-05-17T00:41:00.833353",
     "exception": false,
     "start_time": "2022-05-17T00:41:00.790046",
     "status": "completed"
    },
    "tags": []
   },
   "outputs": [],
   "source": [
    "#hide\n",
    "# g['date'] = g.date.dt.dayofyear"
   ]
  },
  {
   "cell_type": "code",
   "execution_count": 35,
   "id": "inside-dubai",
   "metadata": {
    "execution": {
     "iopub.execute_input": "2022-05-17T00:41:00.903051Z",
     "iopub.status.busy": "2022-05-17T00:41:00.902456Z",
     "iopub.status.idle": "2022-05-17T00:41:00.904812Z",
     "shell.execute_reply": "2022-05-17T00:41:00.904339Z"
    },
    "papermill": {
     "duration": 0.038401,
     "end_time": "2022-05-17T00:41:00.904921",
     "exception": false,
     "start_time": "2022-05-17T00:41:00.866520",
     "status": "completed"
    },
    "tags": []
   },
   "outputs": [],
   "source": [
    "#hide\n",
    "# g = g.rename(columns= {'continent':'group','country':'name','cases':'value'})"
   ]
  },
  {
   "cell_type": "code",
   "execution_count": 36,
   "id": "fleet-motorcycle",
   "metadata": {
    "execution": {
     "iopub.execute_input": "2022-05-17T00:41:00.975192Z",
     "iopub.status.busy": "2022-05-17T00:41:00.974534Z",
     "iopub.status.idle": "2022-05-17T00:41:00.977892Z",
     "shell.execute_reply": "2022-05-17T00:41:00.977445Z"
    },
    "papermill": {
     "duration": 0.04112,
     "end_time": "2022-05-17T00:41:00.978006",
     "exception": false,
     "start_time": "2022-05-17T00:41:00.936886",
     "status": "completed"
    },
    "tags": []
   },
   "outputs": [],
   "source": [
    "#hide\n",
    "# cols = ['name','group','day','value']"
   ]
  },
  {
   "cell_type": "code",
   "execution_count": 37,
   "id": "continued-sleeping",
   "metadata": {
    "execution": {
     "iopub.execute_input": "2022-05-17T00:41:01.047656Z",
     "iopub.status.busy": "2022-05-17T00:41:01.046973Z",
     "iopub.status.idle": "2022-05-17T00:41:01.050030Z",
     "shell.execute_reply": "2022-05-17T00:41:01.049494Z"
    },
    "papermill": {
     "duration": 0.039183,
     "end_time": "2022-05-17T00:41:01.050164",
     "exception": false,
     "start_time": "2022-05-17T00:41:01.010981",
     "status": "completed"
    },
    "tags": []
   },
   "outputs": [],
   "source": [
    "#hide\n",
    "# g.rename(columns= {'date':'day'},inplace = True)"
   ]
  },
  {
   "cell_type": "code",
   "execution_count": 38,
   "id": "major-fight",
   "metadata": {
    "execution": {
     "iopub.execute_input": "2022-05-17T00:41:01.120415Z",
     "iopub.status.busy": "2022-05-17T00:41:01.119710Z",
     "iopub.status.idle": "2022-05-17T00:41:01.124194Z",
     "shell.execute_reply": "2022-05-17T00:41:01.123625Z"
    },
    "papermill": {
     "duration": 0.040414,
     "end_time": "2022-05-17T00:41:01.124332",
     "exception": false,
     "start_time": "2022-05-17T00:41:01.083918",
     "status": "completed"
    },
    "tags": []
   },
   "outputs": [],
   "source": [
    "#hide\n",
    "# g = g[cols]"
   ]
  },
  {
   "cell_type": "code",
   "execution_count": 39,
   "id": "structured-mobile",
   "metadata": {
    "execution": {
     "iopub.execute_input": "2022-05-17T00:41:01.203451Z",
     "iopub.status.busy": "2022-05-17T00:41:01.202850Z",
     "iopub.status.idle": "2022-05-17T00:41:01.205104Z",
     "shell.execute_reply": "2022-05-17T00:41:01.205567Z"
    },
    "papermill": {
     "duration": 0.039264,
     "end_time": "2022-05-17T00:41:01.205710",
     "exception": false,
     "start_time": "2022-05-17T00:41:01.166446",
     "status": "completed"
    },
    "tags": []
   },
   "outputs": [],
   "source": [
    "# #hide\n",
    "# g = g[g.group.notna()]"
   ]
  },
  {
   "cell_type": "code",
   "execution_count": 40,
   "id": "determined-closing",
   "metadata": {
    "execution": {
     "iopub.execute_input": "2022-05-17T00:41:01.274780Z",
     "iopub.status.busy": "2022-05-17T00:41:01.273730Z",
     "iopub.status.idle": "2022-05-17T00:41:01.277573Z",
     "shell.execute_reply": "2022-05-17T00:41:01.278092Z"
    },
    "papermill": {
     "duration": 0.040189,
     "end_time": "2022-05-17T00:41:01.278225",
     "exception": false,
     "start_time": "2022-05-17T00:41:01.238036",
     "status": "completed"
    },
    "tags": []
   },
   "outputs": [],
   "source": [
    "# #hide\n",
    "# colors = dict(zip(\n",
    "#     [\"Oceania\", \"Europe\", \"Asia\", \"South America\", \"Middle East\", \"North America\", \"Africa\"],\n",
    "#     [\"#adb0ff\", \"#ffb3ff\", \"#90d595\", \"#e48381\", \"#aafbff\", \"#f7bb5f\", \"#eafb50\"]\n",
    "# ))\n",
    "# group_lk = g.set_index('name')['group'].to_dict()"
   ]
  },
  {
   "cell_type": "code",
   "execution_count": null,
   "id": "gross-drinking",
   "metadata": {
    "papermill": {
     "duration": 0.03291,
     "end_time": "2022-05-17T00:41:01.343767",
     "exception": false,
     "start_time": "2022-05-17T00:41:01.310857",
     "status": "completed"
    },
    "tags": []
   },
   "outputs": [],
   "source": []
  },
  {
   "cell_type": "code",
   "execution_count": 41,
   "id": "subject-macintosh",
   "metadata": {
    "execution": {
     "iopub.execute_input": "2022-05-17T00:41:01.416393Z",
     "iopub.status.busy": "2022-05-17T00:41:01.415642Z",
     "iopub.status.idle": "2022-05-17T00:41:01.419621Z",
     "shell.execute_reply": "2022-05-17T00:41:01.420042Z"
    },
    "papermill": {
     "duration": 0.042914,
     "end_time": "2022-05-17T00:41:01.420180",
     "exception": false,
     "start_time": "2022-05-17T00:41:01.377266",
     "status": "completed"
    },
    "tags": []
   },
   "outputs": [],
   "source": [
    "# #hide\n",
    "# fig, ax = plt.subplots(figsize=(15, 8))\n",
    "\n",
    "# def draw_barchart(current_day):\n",
    "#     dff = g[g['day'].eq(current_day)].sort_values(by='value', ascending=True).tail(10)\n",
    "#     ax.clear()\n",
    "#     ax.barh(dff['name'], dff['value'], color=[colors[group_lk[x]] for x in dff['name']])\n",
    "#     dx = dff['value'].max() / 200\n",
    "    \n",
    "#     for i, (value, name) in enumerate(zip(dff['value'], dff['name'])):\n",
    "#         ax.text(value-dx, i,     name,           size=14, weight=600, ha='right', va='bottom')\n",
    "#         ax.text(value-dx, i-.25, group_lk[name], size=10, color='#444444', ha='right', va='baseline')\n",
    "#         ax.text(value+dx, i,     f'{value:,.0f}',  size=14, ha='left',  va='center')\n",
    "#     ax.text(1, 0.4, current_day, transform=ax.transAxes, color='#777777', size=46, ha='right', weight=800)\n",
    "#     ax.text(0, 1.06, 'Population (thousands)', transform=ax.transAxes, size=12, color='#777777')\n",
    "#     ax.xaxis.set_major_formatter(ticker.StrMethodFormatter('{x:,.0f}'))\n",
    "#     ax.xaxis.set_ticks_position('top')\n",
    "#     ax.tick_params(axis='x', colors='#777777', labelsize=12)\n",
    "#     ax.set_yticks([])\n",
    "#     ax.margins(0, 0.01)\n",
    "#     ax.grid(which='major', axis='x', linestyle='-')\n",
    "#     ax.set_axisbelow(True)\n",
    "    \n",
    "#     ax.text(0, 1.15, 'Coronavirus',\n",
    "#             transform=ax.transAxes, size=24, weight=600, ha='left', va='top')\n",
    "# #     ax.text(1, 0, 'by @pratapvardhan; credit @jburnmurdoch', transform=ax.transAxes, color='#777777', ha='right',\n",
    "# #             bbox=dict(facecolor='white', alpha=0.8, edgecolor='white'))\n",
    "#     plt.box(False)"
   ]
  },
  {
   "cell_type": "code",
   "execution_count": 42,
   "id": "sexual-wages",
   "metadata": {
    "execution": {
     "iopub.execute_input": "2022-05-17T00:41:01.490730Z",
     "iopub.status.busy": "2022-05-17T00:41:01.490000Z",
     "iopub.status.idle": "2022-05-17T00:41:01.492001Z",
     "shell.execute_reply": "2022-05-17T00:41:01.491418Z"
    },
    "papermill": {
     "duration": 0.038934,
     "end_time": "2022-05-17T00:41:01.492121",
     "exception": false,
     "start_time": "2022-05-17T00:41:01.453187",
     "status": "completed"
    },
    "tags": []
   },
   "outputs": [],
   "source": [
    "# #hide_input\n",
    "# fig, ax = plt.subplots(figsize=(15, 8))\n",
    "# animator = animation.FuncAnimation(fig, draw_barchart, frames=range(g.day.values.min(), g.day.values.max()))\n",
    "# HTML(animator.to_jshtml())\n",
    "# # or use animator.to_html5_video() or animator.save() "
   ]
  },
  {
   "cell_type": "code",
   "execution_count": null,
   "id": "australian-container",
   "metadata": {
    "papermill": {
     "duration": 0.035815,
     "end_time": "2022-05-17T00:41:01.562800",
     "exception": false,
     "start_time": "2022-05-17T00:41:01.526985",
     "status": "completed"
    },
    "tags": []
   },
   "outputs": [],
   "source": []
  },
  {
   "cell_type": "code",
   "execution_count": null,
   "id": "mediterranean-pontiac",
   "metadata": {
    "papermill": {
     "duration": 0.03999,
     "end_time": "2022-05-17T00:41:01.637273",
     "exception": false,
     "start_time": "2022-05-17T00:41:01.597283",
     "status": "completed"
    },
    "tags": []
   },
   "outputs": [],
   "source": []
  },
  {
   "cell_type": "code",
   "execution_count": null,
   "id": "aging-legislature",
   "metadata": {
    "papermill": {
     "duration": 0.032401,
     "end_time": "2022-05-17T00:41:01.702333",
     "exception": false,
     "start_time": "2022-05-17T00:41:01.669932",
     "status": "completed"
    },
    "tags": []
   },
   "outputs": [],
   "source": []
  }
 ],
 "metadata": {
  "kernelspec": {
   "display_name": "Python 3",
   "language": "python",
   "name": "python3"
  },
  "language_info": {
   "codemirror_mode": {
    "name": "ipython",
    "version": 3
   },
   "file_extension": ".py",
   "mimetype": "text/x-python",
   "name": "python",
   "nbconvert_exporter": "python",
   "pygments_lexer": "ipython3",
   "version": "3.6.15"
  },
  "papermill": {
   "duration": 6.562977,
   "end_time": "2022-05-17T00:41:02.054174",
   "environment_variables": {},
   "exception": null,
   "input_path": "2020-03-21-covid19exp.ipynb",
   "output_path": "2020-03-21-covid19exp.ipynb",
   "parameters": {},
   "start_time": "2022-05-17T00:40:55.491197",
   "version": "2.0.0"
  }
 },
 "nbformat": 4,
 "nbformat_minor": 5
}