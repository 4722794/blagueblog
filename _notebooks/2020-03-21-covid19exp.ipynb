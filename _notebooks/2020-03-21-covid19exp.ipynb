{
 "cells": [
  {
   "cell_type": "markdown",
   "id": "muslim-click",
   "metadata": {
    "papermill": {
     "duration": 0.035195,
     "end_time": "2022-07-31T00:43:11.640821",
     "exception": false,
     "start_time": "2022-07-31T00:43:11.605626",
     "status": "completed"
    },
    "tags": []
   },
   "source": [
    "# COVID-19 Case Race\n",
    "> A race chart to see rising cases around the world\n",
    "\n",
    "- author: Hargun Oberoi\n",
    "- image: images/covid-overview.png\n",
    "- hide: false\n",
    "- badges: false"
   ]
  },
  {
   "cell_type": "code",
   "execution_count": 1,
   "id": "proof-material",
   "metadata": {
    "execution": {
     "iopub.execute_input": "2022-07-31T00:43:11.711318Z",
     "iopub.status.busy": "2022-07-31T00:43:11.710738Z",
     "iopub.status.idle": "2022-07-31T00:43:12.020269Z",
     "shell.execute_reply": "2022-07-31T00:43:12.019303Z"
    },
    "papermill": {
     "duration": 0.348878,
     "end_time": "2022-07-31T00:43:12.020406",
     "exception": false,
     "start_time": "2022-07-31T00:43:11.671528",
     "status": "completed"
    },
    "tags": []
   },
   "outputs": [],
   "source": [
    "#hide\n",
    "import numpy as np\n",
    "import pandas as pd\n",
    "from jinja2 import Template\n",
    "from IPython.display import HTML"
   ]
  },
  {
   "cell_type": "code",
   "execution_count": 2,
   "id": "developed-terminology",
   "metadata": {
    "execution": {
     "iopub.execute_input": "2022-07-31T00:43:12.084954Z",
     "iopub.status.busy": "2022-07-31T00:43:12.084388Z",
     "iopub.status.idle": "2022-07-31T00:43:12.086657Z",
     "shell.execute_reply": "2022-07-31T00:43:12.086193Z"
    },
    "papermill": {
     "duration": 0.036318,
     "end_time": "2022-07-31T00:43:12.086759",
     "exception": false,
     "start_time": "2022-07-31T00:43:12.050441",
     "status": "completed"
    },
    "tags": []
   },
   "outputs": [],
   "source": [
    "#hide\n",
    "\n",
    "# FETCH\n",
    "base_url = 'https://raw.githubusercontent.com/pratapvardhan/notebooks/master/covid19/'\n",
    "paths = {\n",
    "    'mapping': base_url + 'mapping_countries.csv',\n",
    "    'overview': base_url + 'overview.tpl'\n",
    "}"
   ]
  },
  {
   "cell_type": "code",
   "execution_count": 3,
   "id": "dynamic-saver",
   "metadata": {
    "execution": {
     "iopub.execute_input": "2022-07-31T00:43:12.155255Z",
     "iopub.status.busy": "2022-07-31T00:43:12.154696Z",
     "iopub.status.idle": "2022-07-31T00:43:12.158156Z",
     "shell.execute_reply": "2022-07-31T00:43:12.157680Z"
    },
    "papermill": {
     "duration": 0.041747,
     "end_time": "2022-07-31T00:43:12.158256",
     "exception": false,
     "start_time": "2022-07-31T00:43:12.116509",
     "status": "completed"
    },
    "tags": []
   },
   "outputs": [
    {
     "data": {
      "text/plain": [
       "'https://raw.githubusercontent.com/pratapvardhan/notebooks/master/covid19/mapping_countries.csv'"
      ]
     },
     "execution_count": 3,
     "metadata": {},
     "output_type": "execute_result"
    }
   ],
   "source": [
    "#hide\n",
    "paths['mapping']"
   ]
  },
  {
   "cell_type": "code",
   "execution_count": 4,
   "id": "urban-software",
   "metadata": {
    "execution": {
     "iopub.execute_input": "2022-07-31T00:43:12.223738Z",
     "iopub.status.busy": "2022-07-31T00:43:12.223159Z",
     "iopub.status.idle": "2022-07-31T00:43:12.225675Z",
     "shell.execute_reply": "2022-07-31T00:43:12.225219Z"
    },
    "papermill": {
     "duration": 0.03738,
     "end_time": "2022-07-31T00:43:12.225772",
     "exception": false,
     "start_time": "2022-07-31T00:43:12.188392",
     "status": "completed"
    },
    "tags": []
   },
   "outputs": [],
   "source": [
    "#hide\n",
    "def get_mappings(url):\n",
    "    df = pd.read_csv(url)\n",
    "    return {\n",
    "        'df': df,\n",
    "        'replace.country': dict(df.dropna(subset=['Name']).set_index('Country')['Name']),\n",
    "        'map.continent': dict(df.set_index('Name')['Continent'])\n",
    "    }"
   ]
  },
  {
   "cell_type": "code",
   "execution_count": 5,
   "id": "intimate-machinery",
   "metadata": {
    "execution": {
     "iopub.execute_input": "2022-07-31T00:43:12.291081Z",
     "iopub.status.busy": "2022-07-31T00:43:12.290519Z",
     "iopub.status.idle": "2022-07-31T00:43:12.347635Z",
     "shell.execute_reply": "2022-07-31T00:43:12.348070Z"
    },
    "papermill": {
     "duration": 0.092283,
     "end_time": "2022-07-31T00:43:12.348199",
     "exception": false,
     "start_time": "2022-07-31T00:43:12.255916",
     "status": "completed"
    },
    "tags": []
   },
   "outputs": [],
   "source": [
    "#hide\n",
    "mapping = get_mappings(paths['mapping'])"
   ]
  },
  {
   "cell_type": "code",
   "execution_count": 6,
   "id": "certified-tactics",
   "metadata": {
    "execution": {
     "iopub.execute_input": "2022-07-31T00:43:12.413854Z",
     "iopub.status.busy": "2022-07-31T00:43:12.413214Z",
     "iopub.status.idle": "2022-07-31T00:43:12.415511Z",
     "shell.execute_reply": "2022-07-31T00:43:12.414983Z"
    },
    "papermill": {
     "duration": 0.037139,
     "end_time": "2022-07-31T00:43:12.415631",
     "exception": false,
     "start_time": "2022-07-31T00:43:12.378492",
     "status": "completed"
    },
    "tags": []
   },
   "outputs": [],
   "source": [
    "#hide\n",
    "def get_template(path):\n",
    "    from urllib.parse import urlparse\n",
    "    if bool(urlparse(path).netloc):\n",
    "        from urllib.request import urlopen\n",
    "        return urlopen(path).read().decode('utf8')\n",
    "    return open(path).read()"
   ]
  },
  {
   "cell_type": "code",
   "execution_count": 7,
   "id": "realistic-blast",
   "metadata": {
    "execution": {
     "iopub.execute_input": "2022-07-31T00:43:12.480658Z",
     "iopub.status.busy": "2022-07-31T00:43:12.480090Z",
     "iopub.status.idle": "2022-07-31T00:43:12.482486Z",
     "shell.execute_reply": "2022-07-31T00:43:12.481923Z"
    },
    "papermill": {
     "duration": 0.036825,
     "end_time": "2022-07-31T00:43:12.482586",
     "exception": false,
     "start_time": "2022-07-31T00:43:12.445761",
     "status": "completed"
    },
    "tags": []
   },
   "outputs": [],
   "source": [
    "#hide\n",
    "def get_frame(name):\n",
    "    url = (\n",
    "        'https://raw.githubusercontent.com/CSSEGISandData/COVID-19/master/csse_covid_19_data/'\n",
    "        f'csse_covid_19_time_series/time_series_covid19_{name}_global.csv')\n",
    "    df = pd.read_csv(url)\n",
    "    # rename countries\n",
    "    df['Country/Region'] = df['Country/Region'].replace(mapping['replace.country'])\n",
    "    return df"
   ]
  },
  {
   "cell_type": "code",
   "execution_count": 8,
   "id": "affiliated-characterization",
   "metadata": {
    "execution": {
     "iopub.execute_input": "2022-07-31T00:43:12.548918Z",
     "iopub.status.busy": "2022-07-31T00:43:12.548337Z",
     "iopub.status.idle": "2022-07-31T00:43:12.551835Z",
     "shell.execute_reply": "2022-07-31T00:43:12.552252Z"
    },
    "papermill": {
     "duration": 0.039499,
     "end_time": "2022-07-31T00:43:12.552375",
     "exception": false,
     "start_time": "2022-07-31T00:43:12.512876",
     "status": "completed"
    },
    "tags": []
   },
   "outputs": [],
   "source": [
    "#hide\n",
    "def get_dates(df):\n",
    "    dt_cols = df.columns[~df.columns.isin(['Province/State', 'Country/Region', 'Lat', 'Long'])]\n",
    "    LAST_DATE_I = -1\n",
    "    # sometimes last column may be empty, then go backwards\n",
    "    for i in range(-1, -len(dt_cols), -1):\n",
    "        if not df[dt_cols[i]].fillna(0).eq(0).all():\n",
    "            LAST_DATE_I = i\n",
    "            break\n",
    "    return LAST_DATE_I, dt_cols"
   ]
  },
  {
   "cell_type": "code",
   "execution_count": 9,
   "id": "recent-optimization",
   "metadata": {
    "execution": {
     "iopub.execute_input": "2022-07-31T00:43:12.617705Z",
     "iopub.status.busy": "2022-07-31T00:43:12.617124Z",
     "iopub.status.idle": "2022-07-31T00:43:13.159049Z",
     "shell.execute_reply": "2022-07-31T00:43:13.159492Z"
    },
    "papermill": {
     "duration": 0.577186,
     "end_time": "2022-07-31T00:43:13.159627",
     "exception": false,
     "start_time": "2022-07-31T00:43:12.582441",
     "status": "completed"
    },
    "tags": []
   },
   "outputs": [],
   "source": [
    "#hide\n",
    "COL_REGION = 'Country/Region'\n",
    "# Confirmed, Recovered, Deaths\n",
    "df = get_frame('confirmed')\n",
    "# dft_: timeseries, dfc_: today country agg\n",
    "dft_cases = df\n",
    "dft_deaths = get_frame('deaths')\n",
    "dft_recovered = get_frame('recovered')\n",
    "LAST_DATE_I, dt_cols = get_dates(df)"
   ]
  },
  {
   "cell_type": "code",
   "execution_count": 10,
   "id": "absolute-copper",
   "metadata": {
    "execution": {
     "iopub.execute_input": "2022-07-31T00:43:13.226822Z",
     "iopub.status.busy": "2022-07-31T00:43:13.225490Z",
     "iopub.status.idle": "2022-07-31T00:43:13.227463Z",
     "shell.execute_reply": "2022-07-31T00:43:13.227889Z"
    },
    "papermill": {
     "duration": 0.037615,
     "end_time": "2022-07-31T00:43:13.228003",
     "exception": false,
     "start_time": "2022-07-31T00:43:13.190388",
     "status": "completed"
    },
    "tags": []
   },
   "outputs": [],
   "source": [
    "#hide\n",
    "LAST_DATE_I, dt_cols = get_dates(df)\n",
    "dt_today =dt_cols[LAST_DATE_I]\n",
    "# dt_5day = dt_cols[LAST_DATE_I - 5]\n",
    "dt_yday = dt_cols[LAST_DATE_I - 1]"
   ]
  },
  {
   "cell_type": "code",
   "execution_count": 11,
   "id": "restricted-sheriff",
   "metadata": {
    "execution": {
     "iopub.execute_input": "2022-07-31T00:43:13.294636Z",
     "iopub.status.busy": "2022-07-31T00:43:13.293075Z",
     "iopub.status.idle": "2022-07-31T00:43:13.301139Z",
     "shell.execute_reply": "2022-07-31T00:43:13.301667Z"
    },
    "papermill": {
     "duration": 0.043759,
     "end_time": "2022-07-31T00:43:13.301785",
     "exception": false,
     "start_time": "2022-07-31T00:43:13.258026",
     "status": "completed"
    },
    "tags": []
   },
   "outputs": [],
   "source": [
    "#hide\n",
    "dfc_cases = dft_cases.groupby(COL_REGION)[dt_today].sum()\n",
    "dfc_deaths = dft_deaths.groupby(COL_REGION)[dt_today].sum()\n",
    "# dfp_cases = dft_cases.groupby(COL_REGION)[dt_5day].sum()\n",
    "# dfp_deaths = dft_deaths.groupby(COL_REGION)[dt_5day].sum()\n",
    "dfp_cases = dft_cases.groupby(COL_REGION)[dt_yday].sum()\n",
    "dfp_deaths = dft_deaths.groupby(COL_REGION)[dt_yday].sum()"
   ]
  },
  {
   "cell_type": "code",
   "execution_count": 12,
   "id": "deluxe-hepatitis",
   "metadata": {
    "execution": {
     "iopub.execute_input": "2022-07-31T00:43:13.367884Z",
     "iopub.status.busy": "2022-07-31T00:43:13.367297Z",
     "iopub.status.idle": "2022-07-31T00:43:13.371286Z",
     "shell.execute_reply": "2022-07-31T00:43:13.371729Z"
    },
    "papermill": {
     "duration": 0.03988,
     "end_time": "2022-07-31T00:43:13.371841",
     "exception": false,
     "start_time": "2022-07-31T00:43:13.331961",
     "status": "completed"
    },
    "tags": []
   },
   "outputs": [],
   "source": [
    "#hide\n",
    "df_table = (pd.DataFrame(dict(Cases = dfc_cases, Deaths = dfc_deaths, PCases = dfp_cases, PDeaths = dfp_deaths))\n",
    "            .sort_values(by = ['Cases','Deaths'], ascending = [False, False])\n",
    "            .reset_index())"
   ]
  },
  {
   "cell_type": "code",
   "execution_count": 13,
   "id": "educational-chancellor",
   "metadata": {
    "execution": {
     "iopub.execute_input": "2022-07-31T00:43:13.449486Z",
     "iopub.status.busy": "2022-07-31T00:43:13.448927Z",
     "iopub.status.idle": "2022-07-31T00:43:13.457406Z",
     "shell.execute_reply": "2022-07-31T00:43:13.457937Z"
    },
    "papermill": {
     "duration": 0.056166,
     "end_time": "2022-07-31T00:43:13.458068",
     "exception": false,
     "start_time": "2022-07-31T00:43:13.401902",
     "status": "completed"
    },
    "tags": []
   },
   "outputs": [
    {
     "data": {
      "text/html": [
       "<div>\n",
       "<style scoped>\n",
       "    .dataframe tbody tr th:only-of-type {\n",
       "        vertical-align: middle;\n",
       "    }\n",
       "\n",
       "    .dataframe tbody tr th {\n",
       "        vertical-align: top;\n",
       "    }\n",
       "\n",
       "    .dataframe thead th {\n",
       "        text-align: right;\n",
       "    }\n",
       "</style>\n",
       "<table border=\"1\" class=\"dataframe\">\n",
       "  <thead>\n",
       "    <tr style=\"text-align: right;\">\n",
       "      <th></th>\n",
       "      <th>Country/Region</th>\n",
       "      <th>Cases</th>\n",
       "      <th>Deaths</th>\n",
       "      <th>PCases</th>\n",
       "      <th>PDeaths</th>\n",
       "      <th>Cases (+)</th>\n",
       "      <th>Deaths (+)</th>\n",
       "      <th>Fatality Rate</th>\n",
       "      <th>Continent</th>\n",
       "    </tr>\n",
       "  </thead>\n",
       "  <tbody>\n",
       "    <tr>\n",
       "      <th>0</th>\n",
       "      <td>US</td>\n",
       "      <td>91300271</td>\n",
       "      <td>1029903</td>\n",
       "      <td>91120218</td>\n",
       "      <td>1029270</td>\n",
       "      <td>180053</td>\n",
       "      <td>633</td>\n",
       "      <td>1.13</td>\n",
       "      <td>North America</td>\n",
       "    </tr>\n",
       "    <tr>\n",
       "      <th>1</th>\n",
       "      <td>India</td>\n",
       "      <td>44000138</td>\n",
       "      <td>526312</td>\n",
       "      <td>43959321</td>\n",
       "      <td>526211</td>\n",
       "      <td>40817</td>\n",
       "      <td>101</td>\n",
       "      <td>1.20</td>\n",
       "      <td>Asia</td>\n",
       "    </tr>\n",
       "    <tr>\n",
       "      <th>2</th>\n",
       "      <td>France</td>\n",
       "      <td>33997224</td>\n",
       "      <td>153023</td>\n",
       "      <td>33951450</td>\n",
       "      <td>152934</td>\n",
       "      <td>45774</td>\n",
       "      <td>89</td>\n",
       "      <td>0.45</td>\n",
       "      <td>Europe</td>\n",
       "    </tr>\n",
       "    <tr>\n",
       "      <th>3</th>\n",
       "      <td>Brazil</td>\n",
       "      <td>33790698</td>\n",
       "      <td>678313</td>\n",
       "      <td>33748985</td>\n",
       "      <td>678069</td>\n",
       "      <td>41713</td>\n",
       "      <td>244</td>\n",
       "      <td>2.01</td>\n",
       "      <td>South America</td>\n",
       "    </tr>\n",
       "    <tr>\n",
       "      <th>4</th>\n",
       "      <td>Germany</td>\n",
       "      <td>30853312</td>\n",
       "      <td>143972</td>\n",
       "      <td>30787309</td>\n",
       "      <td>143855</td>\n",
       "      <td>66003</td>\n",
       "      <td>117</td>\n",
       "      <td>0.47</td>\n",
       "      <td>Europe</td>\n",
       "    </tr>\n",
       "  </tbody>\n",
       "</table>\n",
       "</div>"
      ],
      "text/plain": [
       "  Country/Region     Cases   Deaths    PCases  PDeaths  Cases (+)  Deaths (+)  \\\n",
       "0             US  91300271  1029903  91120218  1029270     180053         633   \n",
       "1          India  44000138   526312  43959321   526211      40817         101   \n",
       "2         France  33997224   153023  33951450   152934      45774          89   \n",
       "3         Brazil  33790698   678313  33748985   678069      41713         244   \n",
       "4        Germany  30853312   143972  30787309   143855      66003         117   \n",
       "\n",
       "   Fatality Rate      Continent  \n",
       "0           1.13  North America  \n",
       "1           1.20           Asia  \n",
       "2           0.45         Europe  \n",
       "3           2.01  South America  \n",
       "4           0.47         Europe  "
      ]
     },
     "execution_count": 13,
     "metadata": {},
     "output_type": "execute_result"
    }
   ],
   "source": [
    "#hide\n",
    "for c in 'Cases, Deaths'.split(', '):\n",
    "    df_table[f'{c} (+)'] = (df_table[c] - df_table[f'P{c}']).clip(0)\n",
    "    #Clip ça veut dire, les chiffres negatif sont interdit\n",
    "df_table['Fatality Rate'] = (100* df_table['Deaths']/ df_table['Cases']).round(2)\n",
    "df_table['Continent'] = df_table['Country/Region'].map(mapping['map.continent'])\n",
    "df_table.head(5)"
   ]
  },
  {
   "cell_type": "code",
   "execution_count": 14,
   "id": "aboriginal-bulgaria",
   "metadata": {
    "execution": {
     "iopub.execute_input": "2022-07-31T00:43:13.524866Z",
     "iopub.status.busy": "2022-07-31T00:43:13.524285Z",
     "iopub.status.idle": "2022-07-31T00:43:13.526421Z",
     "shell.execute_reply": "2022-07-31T00:43:13.526821Z"
    },
    "papermill": {
     "duration": 0.038268,
     "end_time": "2022-07-31T00:43:13.526939",
     "exception": false,
     "start_time": "2022-07-31T00:43:13.488671",
     "status": "completed"
    },
    "tags": []
   },
   "outputs": [],
   "source": [
    "#hide\n",
    "#delete problematic countries from table\n",
    "df_table = df_table[~df_table['Country/Region'].isin(['Cape Verde', 'Cruise Ship', 'Kosovo'])]"
   ]
  },
  {
   "cell_type": "code",
   "execution_count": 15,
   "id": "fantastic-effect",
   "metadata": {
    "execution": {
     "iopub.execute_input": "2022-07-31T00:43:13.595962Z",
     "iopub.status.busy": "2022-07-31T00:43:13.595397Z",
     "iopub.status.idle": "2022-07-31T00:43:13.615692Z",
     "shell.execute_reply": "2022-07-31T00:43:13.616110Z"
    },
    "papermill": {
     "duration": 0.058889,
     "end_time": "2022-07-31T00:43:13.616232",
     "exception": false,
     "start_time": "2022-07-31T00:43:13.557343",
     "status": "completed"
    },
    "tags": []
   },
   "outputs": [
    {
     "data": {
      "text/html": [
       "<div>\n",
       "<style scoped>\n",
       "    .dataframe tbody tr th:only-of-type {\n",
       "        vertical-align: middle;\n",
       "    }\n",
       "\n",
       "    .dataframe tbody tr th {\n",
       "        vertical-align: top;\n",
       "    }\n",
       "\n",
       "    .dataframe thead th {\n",
       "        text-align: right;\n",
       "    }\n",
       "</style>\n",
       "<table border=\"1\" class=\"dataframe\">\n",
       "  <thead>\n",
       "    <tr style=\"text-align: right;\">\n",
       "      <th></th>\n",
       "      <th>Country/Region</th>\n",
       "      <th>Cases</th>\n",
       "      <th>Deaths</th>\n",
       "      <th>PCases</th>\n",
       "      <th>PDeaths</th>\n",
       "      <th>Cases (+)</th>\n",
       "      <th>Deaths (+)</th>\n",
       "      <th>Fatality Rate</th>\n",
       "      <th>Continent</th>\n",
       "    </tr>\n",
       "  </thead>\n",
       "  <tbody>\n",
       "    <tr>\n",
       "      <th>0</th>\n",
       "      <td>US</td>\n",
       "      <td>91300271</td>\n",
       "      <td>1029903</td>\n",
       "      <td>91120218</td>\n",
       "      <td>1029270</td>\n",
       "      <td>180053</td>\n",
       "      <td>633</td>\n",
       "      <td>1.1</td>\n",
       "      <td>North America</td>\n",
       "    </tr>\n",
       "    <tr>\n",
       "      <th>1</th>\n",
       "      <td>India</td>\n",
       "      <td>44000138</td>\n",
       "      <td>526312</td>\n",
       "      <td>43959321</td>\n",
       "      <td>526211</td>\n",
       "      <td>40817</td>\n",
       "      <td>101</td>\n",
       "      <td>1.2</td>\n",
       "      <td>Asia</td>\n",
       "    </tr>\n",
       "    <tr>\n",
       "      <th>2</th>\n",
       "      <td>France</td>\n",
       "      <td>33997224</td>\n",
       "      <td>153023</td>\n",
       "      <td>33951450</td>\n",
       "      <td>152934</td>\n",
       "      <td>45774</td>\n",
       "      <td>89</td>\n",
       "      <td>0.5</td>\n",
       "      <td>Europe</td>\n",
       "    </tr>\n",
       "    <tr>\n",
       "      <th>3</th>\n",
       "      <td>Brazil</td>\n",
       "      <td>33790698</td>\n",
       "      <td>678313</td>\n",
       "      <td>33748985</td>\n",
       "      <td>678069</td>\n",
       "      <td>41713</td>\n",
       "      <td>244</td>\n",
       "      <td>2.0</td>\n",
       "      <td>South America</td>\n",
       "    </tr>\n",
       "    <tr>\n",
       "      <th>4</th>\n",
       "      <td>Germany</td>\n",
       "      <td>30853312</td>\n",
       "      <td>143972</td>\n",
       "      <td>30787309</td>\n",
       "      <td>143855</td>\n",
       "      <td>66003</td>\n",
       "      <td>117</td>\n",
       "      <td>0.5</td>\n",
       "      <td>Europe</td>\n",
       "    </tr>\n",
       "  </tbody>\n",
       "</table>\n",
       "</div>"
      ],
      "text/plain": [
       "  Country/Region     Cases   Deaths    PCases  PDeaths  Cases (+)  Deaths (+)  \\\n",
       "0             US  91300271  1029903  91120218  1029270     180053         633   \n",
       "1          India  44000138   526312  43959321   526211      40817         101   \n",
       "2         France  33997224   153023  33951450   152934      45774          89   \n",
       "3         Brazil  33790698   678313  33748985   678069      41713         244   \n",
       "4        Germany  30853312   143972  30787309   143855      66003         117   \n",
       "\n",
       "   Fatality Rate      Continent  \n",
       "0            1.1  North America  \n",
       "1            1.2           Asia  \n",
       "2            0.5         Europe  \n",
       "3            2.0  South America  \n",
       "4            0.5         Europe  "
      ]
     },
     "execution_count": 15,
     "metadata": {},
     "output_type": "execute_result"
    }
   ],
   "source": [
    "#hide\n",
    "df_table = (pd.DataFrame(dict(Cases=dfc_cases, Deaths=dfc_deaths, PCases=dfp_cases, PDeaths=dfp_deaths))\n",
    "             .sort_values(by=['Cases', 'Deaths'], ascending=[False, False])\n",
    "             .reset_index())\n",
    "df_table.rename(columns={'index': 'Country/Region'}, inplace=True)\n",
    "for c in 'Cases, Deaths'.split(', '):\n",
    "    df_table[f'{c} (+)'] = (df_table[c] - df_table[f'P{c}']).clip(0)  # DATA BUG\n",
    "df_table['Fatality Rate'] = (100 * df_table['Deaths'] / df_table['Cases']).round(1)\n",
    "df_table['Continent'] = df_table['Country/Region'].map(mapping['map.continent'])\n",
    "df_table.head(5)"
   ]
  },
  {
   "cell_type": "code",
   "execution_count": 16,
   "id": "fewer-occasion",
   "metadata": {
    "execution": {
     "iopub.execute_input": "2022-07-31T00:43:13.683842Z",
     "iopub.status.busy": "2022-07-31T00:43:13.683254Z",
     "iopub.status.idle": "2022-07-31T00:43:13.685707Z",
     "shell.execute_reply": "2022-07-31T00:43:13.685239Z"
    },
    "papermill": {
     "duration": 0.038451,
     "end_time": "2022-07-31T00:43:13.685807",
     "exception": false,
     "start_time": "2022-07-31T00:43:13.647356",
     "status": "completed"
    },
    "tags": []
   },
   "outputs": [],
   "source": [
    "#hide\n",
    "#delete problematic countries from table\n",
    "df_table = df_table[~df_table['Country/Region'].isin(['Cape Verde', 'Cruise Ship', 'Kosovo'])]"
   ]
  },
  {
   "cell_type": "code",
   "execution_count": 17,
   "id": "related-center",
   "metadata": {
    "execution": {
     "iopub.execute_input": "2022-07-31T00:43:13.758296Z",
     "iopub.status.busy": "2022-07-31T00:43:13.757696Z",
     "iopub.status.idle": "2022-07-31T00:43:13.767330Z",
     "shell.execute_reply": "2022-07-31T00:43:13.766888Z"
    },
    "papermill": {
     "duration": 0.050338,
     "end_time": "2022-07-31T00:43:13.767428",
     "exception": false,
     "start_time": "2022-07-31T00:43:13.717090",
     "status": "completed"
    },
    "tags": []
   },
   "outputs": [],
   "source": [
    "#hide\n",
    "metrics = [df_table.columns[index] for index in [1,2,5,6]]\n",
    "# s_china = df_table[df_table['Country/Region'].eq('China')][metrics].sum().add_prefix('China ')\n",
    "s_us = df_table[df_table['Country/Region'].eq('US')][metrics].sum().add_prefix('US ')\n",
    "s_eu = df_table[df_table['Continent'].eq('Europe')][metrics].sum().add_prefix('EU ')\n",
    "s_ind = df_table[df_table['Country/Region'].eq('India')][metrics].sum().add_prefix('India ')\n",
    "summary = {'updated': pd.to_datetime(dt_today), 'since': pd.to_datetime(dt_yday)}\n",
    "summary = {'updated': pd.to_datetime(dt_today), 'since': pd.to_datetime(dt_yday)}\n",
    "summary = {**summary, **df_table[metrics].sum(), **s_ind, **s_us, **s_eu}"
   ]
  },
  {
   "cell_type": "code",
   "execution_count": 18,
   "id": "engaging-syndrome",
   "metadata": {
    "execution": {
     "iopub.execute_input": "2022-07-31T00:43:13.834261Z",
     "iopub.status.busy": "2022-07-31T00:43:13.833673Z",
     "iopub.status.idle": "2022-07-31T00:43:13.852202Z",
     "shell.execute_reply": "2022-07-31T00:43:13.851727Z"
    },
    "papermill": {
     "duration": 0.053939,
     "end_time": "2022-07-31T00:43:13.852310",
     "exception": false,
     "start_time": "2022-07-31T00:43:13.798371",
     "status": "completed"
    },
    "tags": []
   },
   "outputs": [],
   "source": [
    "#hide\n",
    "dft_ct_new_cases = dft_cases.groupby(COL_REGION)[dt_cols].sum().diff(axis=1).fillna(0).astype(int)"
   ]
  },
  {
   "cell_type": "code",
   "execution_count": 19,
   "id": "neutral-assignment",
   "metadata": {
    "execution": {
     "iopub.execute_input": "2022-07-31T00:43:13.920473Z",
     "iopub.status.busy": "2022-07-31T00:43:13.919887Z",
     "iopub.status.idle": "2022-07-31T00:43:13.922320Z",
     "shell.execute_reply": "2022-07-31T00:43:13.921775Z"
    },
    "papermill": {
     "duration": 0.039025,
     "end_time": "2022-07-31T00:43:13.922421",
     "exception": false,
     "start_time": "2022-07-31T00:43:13.883396",
     "status": "completed"
    },
    "tags": []
   },
   "outputs": [],
   "source": [
    "#hide\n",
    "everydaycases = dft_ct_new_cases.cumsum(axis=1)"
   ]
  },
  {
   "cell_type": "code",
   "execution_count": 20,
   "id": "parliamentary-calgary",
   "metadata": {
    "execution": {
     "iopub.execute_input": "2022-07-31T00:43:13.988705Z",
     "iopub.status.busy": "2022-07-31T00:43:13.988149Z",
     "iopub.status.idle": "2022-07-31T00:43:14.525170Z",
     "shell.execute_reply": "2022-07-31T00:43:14.524695Z"
    },
    "papermill": {
     "duration": 0.571517,
     "end_time": "2022-07-31T00:43:14.525282",
     "exception": false,
     "start_time": "2022-07-31T00:43:13.953765",
     "status": "completed"
    },
    "tags": []
   },
   "outputs": [],
   "source": [
    "#hide\n",
    "import pandas as pd\n",
    "import matplotlib.pyplot as plt\n",
    "import matplotlib.ticker as ticker\n",
    "import matplotlib.animation as animation\n",
    "from IPython.display import HTML"
   ]
  },
  {
   "cell_type": "code",
   "execution_count": 21,
   "id": "lasting-extraction",
   "metadata": {
    "execution": {
     "iopub.execute_input": "2022-07-31T00:43:14.594047Z",
     "iopub.status.busy": "2022-07-31T00:43:14.593468Z",
     "iopub.status.idle": "2022-07-31T00:43:14.599687Z",
     "shell.execute_reply": "2022-07-31T00:43:14.600221Z"
    },
    "papermill": {
     "duration": 0.043622,
     "end_time": "2022-07-31T00:43:14.600339",
     "exception": false,
     "start_time": "2022-07-31T00:43:14.556717",
     "status": "completed"
    },
    "tags": []
   },
   "outputs": [],
   "source": [
    "#hide\n",
    "t = everydaycases.stack()"
   ]
  },
  {
   "cell_type": "code",
   "execution_count": 22,
   "id": "premier-sleeve",
   "metadata": {
    "execution": {
     "iopub.execute_input": "2022-07-31T00:43:14.666489Z",
     "iopub.status.busy": "2022-07-31T00:43:14.665888Z",
     "iopub.status.idle": "2022-07-31T00:43:14.676603Z",
     "shell.execute_reply": "2022-07-31T00:43:14.677103Z"
    },
    "papermill": {
     "duration": 0.045805,
     "end_time": "2022-07-31T00:43:14.677221",
     "exception": false,
     "start_time": "2022-07-31T00:43:14.631416",
     "status": "completed"
    },
    "tags": []
   },
   "outputs": [],
   "source": [
    "#hide\n",
    "g = t.reset_index(['Country/Region'])"
   ]
  },
  {
   "cell_type": "code",
   "execution_count": 23,
   "id": "distributed-pittsburgh",
   "metadata": {
    "execution": {
     "iopub.execute_input": "2022-07-31T00:43:14.742544Z",
     "iopub.status.busy": "2022-07-31T00:43:14.741952Z",
     "iopub.status.idle": "2022-07-31T00:43:14.744303Z",
     "shell.execute_reply": "2022-07-31T00:43:14.743777Z"
    },
    "papermill": {
     "duration": 0.036338,
     "end_time": "2022-07-31T00:43:14.744399",
     "exception": false,
     "start_time": "2022-07-31T00:43:14.708061",
     "status": "completed"
    },
    "tags": []
   },
   "outputs": [],
   "source": [
    "#hide\n",
    "g.index.name = 'date'"
   ]
  },
  {
   "cell_type": "code",
   "execution_count": 24,
   "id": "naked-donor",
   "metadata": {
    "execution": {
     "iopub.execute_input": "2022-07-31T00:43:14.809224Z",
     "iopub.status.busy": "2022-07-31T00:43:14.808664Z",
     "iopub.status.idle": "2022-07-31T00:43:14.811085Z",
     "shell.execute_reply": "2022-07-31T00:43:14.810568Z"
    },
    "papermill": {
     "duration": 0.035879,
     "end_time": "2022-07-31T00:43:14.811177",
     "exception": false,
     "start_time": "2022-07-31T00:43:14.775298",
     "status": "completed"
    },
    "tags": []
   },
   "outputs": [],
   "source": [
    "# #hide\n",
    "# g = g.reset_index(['date'])"
   ]
  },
  {
   "cell_type": "code",
   "execution_count": 25,
   "id": "incomplete-mustang",
   "metadata": {
    "execution": {
     "iopub.execute_input": "2022-07-31T00:43:14.876012Z",
     "iopub.status.busy": "2022-07-31T00:43:14.875449Z",
     "iopub.status.idle": "2022-07-31T00:43:14.877904Z",
     "shell.execute_reply": "2022-07-31T00:43:14.877370Z"
    },
    "papermill": {
     "duration": 0.036485,
     "end_time": "2022-07-31T00:43:14.878505",
     "exception": false,
     "start_time": "2022-07-31T00:43:14.842020",
     "status": "completed"
    },
    "tags": []
   },
   "outputs": [],
   "source": [
    "#hide\n",
    "# g.head()"
   ]
  },
  {
   "cell_type": "code",
   "execution_count": 26,
   "id": "specific-kruger",
   "metadata": {
    "execution": {
     "iopub.execute_input": "2022-07-31T00:43:14.949460Z",
     "iopub.status.busy": "2022-07-31T00:43:14.948893Z",
     "iopub.status.idle": "2022-07-31T00:43:14.951331Z",
     "shell.execute_reply": "2022-07-31T00:43:14.950807Z"
    },
    "papermill": {
     "duration": 0.039505,
     "end_time": "2022-07-31T00:43:14.951426",
     "exception": false,
     "start_time": "2022-07-31T00:43:14.911921",
     "status": "completed"
    },
    "tags": []
   },
   "outputs": [],
   "source": [
    "#hide\n",
    "# g.columns = ['date','country','cases']"
   ]
  },
  {
   "cell_type": "code",
   "execution_count": 27,
   "id": "tender-conversion",
   "metadata": {
    "execution": {
     "iopub.execute_input": "2022-07-31T00:43:15.016340Z",
     "iopub.status.busy": "2022-07-31T00:43:15.015779Z",
     "iopub.status.idle": "2022-07-31T00:43:15.020094Z",
     "shell.execute_reply": "2022-07-31T00:43:15.020455Z"
    },
    "papermill": {
     "duration": 0.038024,
     "end_time": "2022-07-31T00:43:15.020560",
     "exception": false,
     "start_time": "2022-07-31T00:43:14.982536",
     "status": "completed"
    },
    "tags": []
   },
   "outputs": [],
   "source": [
    "#hide\n",
    "# g['continent'] = g.country"
   ]
  },
  {
   "cell_type": "code",
   "execution_count": 28,
   "id": "substantial-wilderness",
   "metadata": {
    "execution": {
     "iopub.execute_input": "2022-07-31T00:43:15.087503Z",
     "iopub.status.busy": "2022-07-31T00:43:15.086937Z",
     "iopub.status.idle": "2022-07-31T00:43:15.089406Z",
     "shell.execute_reply": "2022-07-31T00:43:15.088955Z"
    },
    "papermill": {
     "duration": 0.037163,
     "end_time": "2022-07-31T00:43:15.089499",
     "exception": false,
     "start_time": "2022-07-31T00:43:15.052336",
     "status": "completed"
    },
    "tags": []
   },
   "outputs": [],
   "source": [
    "#hide\n",
    "# cols = list(g.columns.values)"
   ]
  },
  {
   "cell_type": "code",
   "execution_count": 29,
   "id": "solved-farming",
   "metadata": {
    "execution": {
     "iopub.execute_input": "2022-07-31T00:43:15.154129Z",
     "iopub.status.busy": "2022-07-31T00:43:15.153527Z",
     "iopub.status.idle": "2022-07-31T00:43:15.155985Z",
     "shell.execute_reply": "2022-07-31T00:43:15.155442Z"
    },
    "papermill": {
     "duration": 0.035838,
     "end_time": "2022-07-31T00:43:15.156080",
     "exception": false,
     "start_time": "2022-07-31T00:43:15.120242",
     "status": "completed"
    },
    "tags": []
   },
   "outputs": [],
   "source": [
    "#hide\n",
    "# cols.insert(0, cols.pop())"
   ]
  },
  {
   "cell_type": "code",
   "execution_count": 30,
   "id": "executed-adoption",
   "metadata": {
    "execution": {
     "iopub.execute_input": "2022-07-31T00:43:15.227039Z",
     "iopub.status.busy": "2022-07-31T00:43:15.226473Z",
     "iopub.status.idle": "2022-07-31T00:43:15.228909Z",
     "shell.execute_reply": "2022-07-31T00:43:15.228387Z"
    },
    "papermill": {
     "duration": 0.038134,
     "end_time": "2022-07-31T00:43:15.229002",
     "exception": false,
     "start_time": "2022-07-31T00:43:15.190868",
     "status": "completed"
    },
    "tags": []
   },
   "outputs": [],
   "source": [
    "#hide\n",
    "# g = g[cols]"
   ]
  },
  {
   "cell_type": "code",
   "execution_count": 31,
   "id": "subject-dublin",
   "metadata": {
    "execution": {
     "iopub.execute_input": "2022-07-31T00:43:15.293674Z",
     "iopub.status.busy": "2022-07-31T00:43:15.293100Z",
     "iopub.status.idle": "2022-07-31T00:43:15.295538Z",
     "shell.execute_reply": "2022-07-31T00:43:15.295070Z"
    },
    "papermill": {
     "duration": 0.035836,
     "end_time": "2022-07-31T00:43:15.295633",
     "exception": false,
     "start_time": "2022-07-31T00:43:15.259797",
     "status": "completed"
    },
    "tags": []
   },
   "outputs": [],
   "source": [
    "#hide\n",
    "# g['continent'] = g['continent'].map(mapping['map.continent'])"
   ]
  },
  {
   "cell_type": "code",
   "execution_count": 32,
   "id": "freelance-scout",
   "metadata": {
    "execution": {
     "iopub.execute_input": "2022-07-31T00:43:15.360402Z",
     "iopub.status.busy": "2022-07-31T00:43:15.359842Z",
     "iopub.status.idle": "2022-07-31T00:43:15.362229Z",
     "shell.execute_reply": "2022-07-31T00:43:15.361659Z"
    },
    "papermill": {
     "duration": 0.035745,
     "end_time": "2022-07-31T00:43:15.362324",
     "exception": false,
     "start_time": "2022-07-31T00:43:15.326579",
     "status": "completed"
    },
    "tags": []
   },
   "outputs": [],
   "source": [
    "#hide\n",
    "# g.head()"
   ]
  },
  {
   "cell_type": "code",
   "execution_count": 33,
   "id": "limited-engine",
   "metadata": {
    "execution": {
     "iopub.execute_input": "2022-07-31T00:43:15.427222Z",
     "iopub.status.busy": "2022-07-31T00:43:15.426661Z",
     "iopub.status.idle": "2022-07-31T00:43:15.429055Z",
     "shell.execute_reply": "2022-07-31T00:43:15.428525Z"
    },
    "papermill": {
     "duration": 0.036059,
     "end_time": "2022-07-31T00:43:15.429147",
     "exception": false,
     "start_time": "2022-07-31T00:43:15.393088",
     "status": "completed"
    },
    "tags": []
   },
   "outputs": [],
   "source": [
    "# hide\n",
    "# g['date'] = g['date'].astype('datetime64[ns]')"
   ]
  },
  {
   "cell_type": "code",
   "execution_count": 34,
   "id": "sophisticated-supervisor",
   "metadata": {
    "execution": {
     "iopub.execute_input": "2022-07-31T00:43:15.494190Z",
     "iopub.status.busy": "2022-07-31T00:43:15.493586Z",
     "iopub.status.idle": "2022-07-31T00:43:15.495937Z",
     "shell.execute_reply": "2022-07-31T00:43:15.495415Z"
    },
    "papermill": {
     "duration": 0.035854,
     "end_time": "2022-07-31T00:43:15.496027",
     "exception": false,
     "start_time": "2022-07-31T00:43:15.460173",
     "status": "completed"
    },
    "tags": []
   },
   "outputs": [],
   "source": [
    "#hide\n",
    "# g['date'] = g.date.dt.dayofyear"
   ]
  },
  {
   "cell_type": "code",
   "execution_count": 35,
   "id": "inside-dubai",
   "metadata": {
    "execution": {
     "iopub.execute_input": "2022-07-31T00:43:15.560736Z",
     "iopub.status.busy": "2022-07-31T00:43:15.560052Z",
     "iopub.status.idle": "2022-07-31T00:43:15.561957Z",
     "shell.execute_reply": "2022-07-31T00:43:15.562372Z"
    },
    "papermill": {
     "duration": 0.03567,
     "end_time": "2022-07-31T00:43:15.562479",
     "exception": false,
     "start_time": "2022-07-31T00:43:15.526809",
     "status": "completed"
    },
    "tags": []
   },
   "outputs": [],
   "source": [
    "#hide\n",
    "# g = g.rename(columns= {'continent':'group','country':'name','cases':'value'})"
   ]
  },
  {
   "cell_type": "code",
   "execution_count": 36,
   "id": "fleet-motorcycle",
   "metadata": {
    "execution": {
     "iopub.execute_input": "2022-07-31T00:43:15.627397Z",
     "iopub.status.busy": "2022-07-31T00:43:15.626828Z",
     "iopub.status.idle": "2022-07-31T00:43:15.629236Z",
     "shell.execute_reply": "2022-07-31T00:43:15.628800Z"
    },
    "papermill": {
     "duration": 0.035962,
     "end_time": "2022-07-31T00:43:15.629326",
     "exception": false,
     "start_time": "2022-07-31T00:43:15.593364",
     "status": "completed"
    },
    "tags": []
   },
   "outputs": [],
   "source": [
    "#hide\n",
    "# cols = ['name','group','day','value']"
   ]
  },
  {
   "cell_type": "code",
   "execution_count": 37,
   "id": "continued-sleeping",
   "metadata": {
    "execution": {
     "iopub.execute_input": "2022-07-31T00:43:15.694340Z",
     "iopub.status.busy": "2022-07-31T00:43:15.693754Z",
     "iopub.status.idle": "2022-07-31T00:43:15.696521Z",
     "shell.execute_reply": "2022-07-31T00:43:15.696087Z"
    },
    "papermill": {
     "duration": 0.036542,
     "end_time": "2022-07-31T00:43:15.696611",
     "exception": false,
     "start_time": "2022-07-31T00:43:15.660069",
     "status": "completed"
    },
    "tags": []
   },
   "outputs": [],
   "source": [
    "#hide\n",
    "# g.rename(columns= {'date':'day'},inplace = True)"
   ]
  },
  {
   "cell_type": "code",
   "execution_count": 38,
   "id": "major-fight",
   "metadata": {
    "execution": {
     "iopub.execute_input": "2022-07-31T00:43:15.761572Z",
     "iopub.status.busy": "2022-07-31T00:43:15.761005Z",
     "iopub.status.idle": "2022-07-31T00:43:15.763463Z",
     "shell.execute_reply": "2022-07-31T00:43:15.762846Z"
    },
    "papermill": {
     "duration": 0.035953,
     "end_time": "2022-07-31T00:43:15.763561",
     "exception": false,
     "start_time": "2022-07-31T00:43:15.727608",
     "status": "completed"
    },
    "tags": []
   },
   "outputs": [],
   "source": [
    "#hide\n",
    "# g = g[cols]"
   ]
  },
  {
   "cell_type": "code",
   "execution_count": 39,
   "id": "structured-mobile",
   "metadata": {
    "execution": {
     "iopub.execute_input": "2022-07-31T00:43:15.831594Z",
     "iopub.status.busy": "2022-07-31T00:43:15.831044Z",
     "iopub.status.idle": "2022-07-31T00:43:15.833731Z",
     "shell.execute_reply": "2022-07-31T00:43:15.833284Z"
    },
    "papermill": {
     "duration": 0.038449,
     "end_time": "2022-07-31T00:43:15.833822",
     "exception": false,
     "start_time": "2022-07-31T00:43:15.795373",
     "status": "completed"
    },
    "tags": []
   },
   "outputs": [],
   "source": [
    "# #hide\n",
    "# g = g[g.group.notna()]"
   ]
  },
  {
   "cell_type": "code",
   "execution_count": 40,
   "id": "determined-closing",
   "metadata": {
    "execution": {
     "iopub.execute_input": "2022-07-31T00:43:15.899299Z",
     "iopub.status.busy": "2022-07-31T00:43:15.898660Z",
     "iopub.status.idle": "2022-07-31T00:43:15.900436Z",
     "shell.execute_reply": "2022-07-31T00:43:15.900860Z"
    },
    "papermill": {
     "duration": 0.035994,
     "end_time": "2022-07-31T00:43:15.900966",
     "exception": false,
     "start_time": "2022-07-31T00:43:15.864972",
     "status": "completed"
    },
    "tags": []
   },
   "outputs": [],
   "source": [
    "# #hide\n",
    "# colors = dict(zip(\n",
    "#     [\"Oceania\", \"Europe\", \"Asia\", \"South America\", \"Middle East\", \"North America\", \"Africa\"],\n",
    "#     [\"#adb0ff\", \"#ffb3ff\", \"#90d595\", \"#e48381\", \"#aafbff\", \"#f7bb5f\", \"#eafb50\"]\n",
    "# ))\n",
    "# group_lk = g.set_index('name')['group'].to_dict()"
   ]
  },
  {
   "cell_type": "code",
   "execution_count": null,
   "id": "gross-drinking",
   "metadata": {
    "papermill": {
     "duration": 0.030768,
     "end_time": "2022-07-31T00:43:15.962509",
     "exception": false,
     "start_time": "2022-07-31T00:43:15.931741",
     "status": "completed"
    },
    "tags": []
   },
   "outputs": [],
   "source": []
  },
  {
   "cell_type": "code",
   "execution_count": 41,
   "id": "subject-macintosh",
   "metadata": {
    "execution": {
     "iopub.execute_input": "2022-07-31T00:43:16.028886Z",
     "iopub.status.busy": "2022-07-31T00:43:16.028300Z",
     "iopub.status.idle": "2022-07-31T00:43:16.030660Z",
     "shell.execute_reply": "2022-07-31T00:43:16.030130Z"
    },
    "papermill": {
     "duration": 0.036588,
     "end_time": "2022-07-31T00:43:16.030755",
     "exception": false,
     "start_time": "2022-07-31T00:43:15.994167",
     "status": "completed"
    },
    "tags": []
   },
   "outputs": [],
   "source": [
    "# #hide\n",
    "# fig, ax = plt.subplots(figsize=(15, 8))\n",
    "\n",
    "# def draw_barchart(current_day):\n",
    "#     dff = g[g['day'].eq(current_day)].sort_values(by='value', ascending=True).tail(10)\n",
    "#     ax.clear()\n",
    "#     ax.barh(dff['name'], dff['value'], color=[colors[group_lk[x]] for x in dff['name']])\n",
    "#     dx = dff['value'].max() / 200\n",
    "    \n",
    "#     for i, (value, name) in enumerate(zip(dff['value'], dff['name'])):\n",
    "#         ax.text(value-dx, i,     name,           size=14, weight=600, ha='right', va='bottom')\n",
    "#         ax.text(value-dx, i-.25, group_lk[name], size=10, color='#444444', ha='right', va='baseline')\n",
    "#         ax.text(value+dx, i,     f'{value:,.0f}',  size=14, ha='left',  va='center')\n",
    "#     ax.text(1, 0.4, current_day, transform=ax.transAxes, color='#777777', size=46, ha='right', weight=800)\n",
    "#     ax.text(0, 1.06, 'Population (thousands)', transform=ax.transAxes, size=12, color='#777777')\n",
    "#     ax.xaxis.set_major_formatter(ticker.StrMethodFormatter('{x:,.0f}'))\n",
    "#     ax.xaxis.set_ticks_position('top')\n",
    "#     ax.tick_params(axis='x', colors='#777777', labelsize=12)\n",
    "#     ax.set_yticks([])\n",
    "#     ax.margins(0, 0.01)\n",
    "#     ax.grid(which='major', axis='x', linestyle='-')\n",
    "#     ax.set_axisbelow(True)\n",
    "    \n",
    "#     ax.text(0, 1.15, 'Coronavirus',\n",
    "#             transform=ax.transAxes, size=24, weight=600, ha='left', va='top')\n",
    "# #     ax.text(1, 0, 'by @pratapvardhan; credit @jburnmurdoch', transform=ax.transAxes, color='#777777', ha='right',\n",
    "# #             bbox=dict(facecolor='white', alpha=0.8, edgecolor='white'))\n",
    "#     plt.box(False)"
   ]
  },
  {
   "cell_type": "code",
   "execution_count": 42,
   "id": "sexual-wages",
   "metadata": {
    "execution": {
     "iopub.execute_input": "2022-07-31T00:43:16.095775Z",
     "iopub.status.busy": "2022-07-31T00:43:16.095133Z",
     "iopub.status.idle": "2022-07-31T00:43:16.097038Z",
     "shell.execute_reply": "2022-07-31T00:43:16.097455Z"
    },
    "papermill": {
     "duration": 0.036024,
     "end_time": "2022-07-31T00:43:16.097564",
     "exception": false,
     "start_time": "2022-07-31T00:43:16.061540",
     "status": "completed"
    },
    "tags": []
   },
   "outputs": [],
   "source": [
    "# #hide_input\n",
    "# fig, ax = plt.subplots(figsize=(15, 8))\n",
    "# animator = animation.FuncAnimation(fig, draw_barchart, frames=range(g.day.values.min(), g.day.values.max()))\n",
    "# HTML(animator.to_jshtml())\n",
    "# # or use animator.to_html5_video() or animator.save() "
   ]
  },
  {
   "cell_type": "code",
   "execution_count": null,
   "id": "australian-container",
   "metadata": {
    "papermill": {
     "duration": 0.031385,
     "end_time": "2022-07-31T00:43:16.164591",
     "exception": false,
     "start_time": "2022-07-31T00:43:16.133206",
     "status": "completed"
    },
    "tags": []
   },
   "outputs": [],
   "source": []
  },
  {
   "cell_type": "code",
   "execution_count": null,
   "id": "mediterranean-pontiac",
   "metadata": {
    "papermill": {
     "duration": 0.030751,
     "end_time": "2022-07-31T00:43:16.227132",
     "exception": false,
     "start_time": "2022-07-31T00:43:16.196381",
     "status": "completed"
    },
    "tags": []
   },
   "outputs": [],
   "source": []
  },
  {
   "cell_type": "code",
   "execution_count": null,
   "id": "aging-legislature",
   "metadata": {
    "papermill": {
     "duration": 0.030715,
     "end_time": "2022-07-31T00:43:16.288784",
     "exception": false,
     "start_time": "2022-07-31T00:43:16.258069",
     "status": "completed"
    },
    "tags": []
   },
   "outputs": [],
   "source": []
  }
 ],
 "metadata": {
  "kernelspec": {
   "display_name": "Python 3",
   "language": "python",
   "name": "python3"
  },
  "language_info": {
   "codemirror_mode": {
    "name": "ipython",
    "version": 3
   },
   "file_extension": ".py",
   "mimetype": "text/x-python",
   "name": "python",
   "nbconvert_exporter": "python",
   "pygments_lexer": "ipython3",
   "version": "3.6.15"
  },
  "papermill": {
   "duration": 5.962987,
   "end_time": "2022-07-31T00:43:16.636078",
   "environment_variables": {},
   "exception": null,
   "input_path": "2020-03-21-covid19exp.ipynb",
   "output_path": "2020-03-21-covid19exp.ipynb",
   "parameters": {},
   "start_time": "2022-07-31T00:43:10.673091",
   "version": "2.0.0"
  }
 },
 "nbformat": 4,
 "nbformat_minor": 5
}