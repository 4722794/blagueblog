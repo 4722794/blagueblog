{
 "cells": [
  {
   "cell_type": "markdown",
   "id": "muslim-click",
   "metadata": {
    "papermill": {
     "duration": 0.034501,
     "end_time": "2022-08-16T00:52:34.853648",
     "exception": false,
     "start_time": "2022-08-16T00:52:34.819147",
     "status": "completed"
    },
    "tags": []
   },
   "source": [
    "# COVID-19 Case Race\n",
    "> A race chart to see rising cases around the world\n",
    "\n",
    "- author: Hargun Oberoi\n",
    "- image: images/covid-overview.png\n",
    "- hide: false\n",
    "- badges: false"
   ]
  },
  {
   "cell_type": "code",
   "execution_count": 1,
   "id": "proof-material",
   "metadata": {
    "execution": {
     "iopub.execute_input": "2022-08-16T00:52:34.922598Z",
     "iopub.status.busy": "2022-08-16T00:52:34.922044Z",
     "iopub.status.idle": "2022-08-16T00:52:35.228042Z",
     "shell.execute_reply": "2022-08-16T00:52:35.227069Z"
    },
    "papermill": {
     "duration": 0.344496,
     "end_time": "2022-08-16T00:52:35.228187",
     "exception": false,
     "start_time": "2022-08-16T00:52:34.883691",
     "status": "completed"
    },
    "tags": []
   },
   "outputs": [],
   "source": [
    "#hide\n",
    "import numpy as np\n",
    "import pandas as pd\n",
    "from jinja2 import Template\n",
    "from IPython.display import HTML"
   ]
  },
  {
   "cell_type": "code",
   "execution_count": 2,
   "id": "developed-terminology",
   "metadata": {
    "execution": {
     "iopub.execute_input": "2022-08-16T00:52:35.291932Z",
     "iopub.status.busy": "2022-08-16T00:52:35.291367Z",
     "iopub.status.idle": "2022-08-16T00:52:35.293669Z",
     "shell.execute_reply": "2022-08-16T00:52:35.293206Z"
    },
    "papermill": {
     "duration": 0.035699,
     "end_time": "2022-08-16T00:52:35.293767",
     "exception": false,
     "start_time": "2022-08-16T00:52:35.258068",
     "status": "completed"
    },
    "tags": []
   },
   "outputs": [],
   "source": [
    "#hide\n",
    "\n",
    "# FETCH\n",
    "base_url = 'https://raw.githubusercontent.com/pratapvardhan/notebooks/master/covid19/'\n",
    "paths = {\n",
    "    'mapping': base_url + 'mapping_countries.csv',\n",
    "    'overview': base_url + 'overview.tpl'\n",
    "}"
   ]
  },
  {
   "cell_type": "code",
   "execution_count": 3,
   "id": "dynamic-saver",
   "metadata": {
    "execution": {
     "iopub.execute_input": "2022-08-16T00:52:35.360709Z",
     "iopub.status.busy": "2022-08-16T00:52:35.359921Z",
     "iopub.status.idle": "2022-08-16T00:52:35.363608Z",
     "shell.execute_reply": "2022-08-16T00:52:35.364044Z"
    },
    "papermill": {
     "duration": 0.041119,
     "end_time": "2022-08-16T00:52:35.364157",
     "exception": false,
     "start_time": "2022-08-16T00:52:35.323038",
     "status": "completed"
    },
    "tags": []
   },
   "outputs": [
    {
     "data": {
      "text/plain": [
       "'https://raw.githubusercontent.com/pratapvardhan/notebooks/master/covid19/mapping_countries.csv'"
      ]
     },
     "execution_count": 3,
     "metadata": {},
     "output_type": "execute_result"
    }
   ],
   "source": [
    "#hide\n",
    "paths['mapping']"
   ]
  },
  {
   "cell_type": "code",
   "execution_count": 4,
   "id": "urban-software",
   "metadata": {
    "execution": {
     "iopub.execute_input": "2022-08-16T00:52:35.428562Z",
     "iopub.status.busy": "2022-08-16T00:52:35.428016Z",
     "iopub.status.idle": "2022-08-16T00:52:35.430682Z",
     "shell.execute_reply": "2022-08-16T00:52:35.430253Z"
    },
    "papermill": {
     "duration": 0.036824,
     "end_time": "2022-08-16T00:52:35.430778",
     "exception": false,
     "start_time": "2022-08-16T00:52:35.393954",
     "status": "completed"
    },
    "tags": []
   },
   "outputs": [],
   "source": [
    "#hide\n",
    "def get_mappings(url):\n",
    "    df = pd.read_csv(url)\n",
    "    return {\n",
    "        'df': df,\n",
    "        'replace.country': dict(df.dropna(subset=['Name']).set_index('Country')['Name']),\n",
    "        'map.continent': dict(df.set_index('Name')['Continent'])\n",
    "    }"
   ]
  },
  {
   "cell_type": "code",
   "execution_count": 5,
   "id": "intimate-machinery",
   "metadata": {
    "execution": {
     "iopub.execute_input": "2022-08-16T00:52:35.494604Z",
     "iopub.status.busy": "2022-08-16T00:52:35.494057Z",
     "iopub.status.idle": "2022-08-16T00:52:35.529988Z",
     "shell.execute_reply": "2022-08-16T00:52:35.530441Z"
    },
    "papermill": {
     "duration": 0.070167,
     "end_time": "2022-08-16T00:52:35.530552",
     "exception": false,
     "start_time": "2022-08-16T00:52:35.460385",
     "status": "completed"
    },
    "tags": []
   },
   "outputs": [],
   "source": [
    "#hide\n",
    "mapping = get_mappings(paths['mapping'])"
   ]
  },
  {
   "cell_type": "code",
   "execution_count": 6,
   "id": "certified-tactics",
   "metadata": {
    "execution": {
     "iopub.execute_input": "2022-08-16T00:52:35.594358Z",
     "iopub.status.busy": "2022-08-16T00:52:35.593795Z",
     "iopub.status.idle": "2022-08-16T00:52:35.596283Z",
     "shell.execute_reply": "2022-08-16T00:52:35.595752Z"
    },
    "papermill": {
     "duration": 0.036196,
     "end_time": "2022-08-16T00:52:35.596378",
     "exception": false,
     "start_time": "2022-08-16T00:52:35.560182",
     "status": "completed"
    },
    "tags": []
   },
   "outputs": [],
   "source": [
    "#hide\n",
    "def get_template(path):\n",
    "    from urllib.parse import urlparse\n",
    "    if bool(urlparse(path).netloc):\n",
    "        from urllib.request import urlopen\n",
    "        return urlopen(path).read().decode('utf8')\n",
    "    return open(path).read()"
   ]
  },
  {
   "cell_type": "code",
   "execution_count": 7,
   "id": "realistic-blast",
   "metadata": {
    "execution": {
     "iopub.execute_input": "2022-08-16T00:52:35.660106Z",
     "iopub.status.busy": "2022-08-16T00:52:35.659545Z",
     "iopub.status.idle": "2022-08-16T00:52:35.661755Z",
     "shell.execute_reply": "2022-08-16T00:52:35.662150Z"
    },
    "papermill": {
     "duration": 0.036294,
     "end_time": "2022-08-16T00:52:35.662265",
     "exception": false,
     "start_time": "2022-08-16T00:52:35.625971",
     "status": "completed"
    },
    "tags": []
   },
   "outputs": [],
   "source": [
    "#hide\n",
    "def get_frame(name):\n",
    "    url = (\n",
    "        'https://raw.githubusercontent.com/CSSEGISandData/COVID-19/master/csse_covid_19_data/'\n",
    "        f'csse_covid_19_time_series/time_series_covid19_{name}_global.csv')\n",
    "    df = pd.read_csv(url)\n",
    "    # rename countries\n",
    "    df['Country/Region'] = df['Country/Region'].replace(mapping['replace.country'])\n",
    "    return df"
   ]
  },
  {
   "cell_type": "code",
   "execution_count": 8,
   "id": "affiliated-characterization",
   "metadata": {
    "execution": {
     "iopub.execute_input": "2022-08-16T00:52:35.727744Z",
     "iopub.status.busy": "2022-08-16T00:52:35.727177Z",
     "iopub.status.idle": "2022-08-16T00:52:35.729456Z",
     "shell.execute_reply": "2022-08-16T00:52:35.729853Z"
    },
    "papermill": {
     "duration": 0.03765,
     "end_time": "2022-08-16T00:52:35.729971",
     "exception": false,
     "start_time": "2022-08-16T00:52:35.692321",
     "status": "completed"
    },
    "tags": []
   },
   "outputs": [],
   "source": [
    "#hide\n",
    "def get_dates(df):\n",
    "    dt_cols = df.columns[~df.columns.isin(['Province/State', 'Country/Region', 'Lat', 'Long'])]\n",
    "    LAST_DATE_I = -1\n",
    "    # sometimes last column may be empty, then go backwards\n",
    "    for i in range(-1, -len(dt_cols), -1):\n",
    "        if not df[dt_cols[i]].fillna(0).eq(0).all():\n",
    "            LAST_DATE_I = i\n",
    "            break\n",
    "    return LAST_DATE_I, dt_cols"
   ]
  },
  {
   "cell_type": "code",
   "execution_count": 9,
   "id": "recent-optimization",
   "metadata": {
    "execution": {
     "iopub.execute_input": "2022-08-16T00:52:35.793631Z",
     "iopub.status.busy": "2022-08-16T00:52:35.793031Z",
     "iopub.status.idle": "2022-08-16T00:52:36.269673Z",
     "shell.execute_reply": "2022-08-16T00:52:36.270121Z"
    },
    "papermill": {
     "duration": 0.510619,
     "end_time": "2022-08-16T00:52:36.270260",
     "exception": false,
     "start_time": "2022-08-16T00:52:35.759641",
     "status": "completed"
    },
    "tags": []
   },
   "outputs": [],
   "source": [
    "#hide\n",
    "COL_REGION = 'Country/Region'\n",
    "# Confirmed, Recovered, Deaths\n",
    "df = get_frame('confirmed')\n",
    "# dft_: timeseries, dfc_: today country agg\n",
    "dft_cases = df\n",
    "dft_deaths = get_frame('deaths')\n",
    "dft_recovered = get_frame('recovered')\n",
    "LAST_DATE_I, dt_cols = get_dates(df)"
   ]
  },
  {
   "cell_type": "code",
   "execution_count": 10,
   "id": "absolute-copper",
   "metadata": {
    "execution": {
     "iopub.execute_input": "2022-08-16T00:52:36.384128Z",
     "iopub.status.busy": "2022-08-16T00:52:36.383522Z",
     "iopub.status.idle": "2022-08-16T00:52:36.385474Z",
     "shell.execute_reply": "2022-08-16T00:52:36.385883Z"
    },
    "papermill": {
     "duration": 0.056838,
     "end_time": "2022-08-16T00:52:36.386006",
     "exception": false,
     "start_time": "2022-08-16T00:52:36.329168",
     "status": "completed"
    },
    "tags": []
   },
   "outputs": [],
   "source": [
    "#hide\n",
    "LAST_DATE_I, dt_cols = get_dates(df)\n",
    "dt_today =dt_cols[LAST_DATE_I]\n",
    "# dt_5day = dt_cols[LAST_DATE_I - 5]\n",
    "dt_yday = dt_cols[LAST_DATE_I - 1]"
   ]
  },
  {
   "cell_type": "code",
   "execution_count": 11,
   "id": "restricted-sheriff",
   "metadata": {
    "execution": {
     "iopub.execute_input": "2022-08-16T00:52:36.475707Z",
     "iopub.status.busy": "2022-08-16T00:52:36.475130Z",
     "iopub.status.idle": "2022-08-16T00:52:36.478939Z",
     "shell.execute_reply": "2022-08-16T00:52:36.478481Z"
    },
    "papermill": {
     "duration": 0.063049,
     "end_time": "2022-08-16T00:52:36.479041",
     "exception": false,
     "start_time": "2022-08-16T00:52:36.415992",
     "status": "completed"
    },
    "tags": []
   },
   "outputs": [],
   "source": [
    "#hide\n",
    "dfc_cases = dft_cases.groupby(COL_REGION)[dt_today].sum()\n",
    "dfc_deaths = dft_deaths.groupby(COL_REGION)[dt_today].sum()\n",
    "# dfp_cases = dft_cases.groupby(COL_REGION)[dt_5day].sum()\n",
    "# dfp_deaths = dft_deaths.groupby(COL_REGION)[dt_5day].sum()\n",
    "dfp_cases = dft_cases.groupby(COL_REGION)[dt_yday].sum()\n",
    "dfp_deaths = dft_deaths.groupby(COL_REGION)[dt_yday].sum()"
   ]
  },
  {
   "cell_type": "code",
   "execution_count": 12,
   "id": "deluxe-hepatitis",
   "metadata": {
    "execution": {
     "iopub.execute_input": "2022-08-16T00:52:36.573463Z",
     "iopub.status.busy": "2022-08-16T00:52:36.571963Z",
     "iopub.status.idle": "2022-08-16T00:52:36.578652Z",
     "shell.execute_reply": "2022-08-16T00:52:36.577671Z"
    },
    "papermill": {
     "duration": 0.059743,
     "end_time": "2022-08-16T00:52:36.578759",
     "exception": false,
     "start_time": "2022-08-16T00:52:36.519016",
     "status": "completed"
    },
    "tags": []
   },
   "outputs": [],
   "source": [
    "#hide\n",
    "df_table = (pd.DataFrame(dict(Cases = dfc_cases, Deaths = dfc_deaths, PCases = dfp_cases, PDeaths = dfp_deaths))\n",
    "            .sort_values(by = ['Cases','Deaths'], ascending = [False, False])\n",
    "            .reset_index())"
   ]
  },
  {
   "cell_type": "code",
   "execution_count": 13,
   "id": "educational-chancellor",
   "metadata": {
    "execution": {
     "iopub.execute_input": "2022-08-16T00:52:36.678055Z",
     "iopub.status.busy": "2022-08-16T00:52:36.677498Z",
     "iopub.status.idle": "2022-08-16T00:52:36.690868Z",
     "shell.execute_reply": "2022-08-16T00:52:36.690045Z"
    },
    "papermill": {
     "duration": 0.073608,
     "end_time": "2022-08-16T00:52:36.690971",
     "exception": false,
     "start_time": "2022-08-16T00:52:36.617363",
     "status": "completed"
    },
    "tags": []
   },
   "outputs": [
    {
     "data": {
      "text/html": [
       "<div>\n",
       "<style scoped>\n",
       "    .dataframe tbody tr th:only-of-type {\n",
       "        vertical-align: middle;\n",
       "    }\n",
       "\n",
       "    .dataframe tbody tr th {\n",
       "        vertical-align: top;\n",
       "    }\n",
       "\n",
       "    .dataframe thead th {\n",
       "        text-align: right;\n",
       "    }\n",
       "</style>\n",
       "<table border=\"1\" class=\"dataframe\">\n",
       "  <thead>\n",
       "    <tr style=\"text-align: right;\">\n",
       "      <th></th>\n",
       "      <th>Country/Region</th>\n",
       "      <th>Cases</th>\n",
       "      <th>Deaths</th>\n",
       "      <th>PCases</th>\n",
       "      <th>PDeaths</th>\n",
       "      <th>Cases (+)</th>\n",
       "      <th>Deaths (+)</th>\n",
       "      <th>Fatality Rate</th>\n",
       "      <th>Continent</th>\n",
       "    </tr>\n",
       "  </thead>\n",
       "  <tbody>\n",
       "    <tr>\n",
       "      <th>0</th>\n",
       "      <td>US</td>\n",
       "      <td>92927104</td>\n",
       "      <td>1037021</td>\n",
       "      <td>92919750</td>\n",
       "      <td>1037017</td>\n",
       "      <td>7354</td>\n",
       "      <td>4</td>\n",
       "      <td>1.12</td>\n",
       "      <td>North America</td>\n",
       "    </tr>\n",
       "    <tr>\n",
       "      <th>1</th>\n",
       "      <td>India</td>\n",
       "      <td>44268381</td>\n",
       "      <td>527069</td>\n",
       "      <td>44253464</td>\n",
       "      <td>527037</td>\n",
       "      <td>14917</td>\n",
       "      <td>32</td>\n",
       "      <td>1.19</td>\n",
       "      <td>Asia</td>\n",
       "    </tr>\n",
       "    <tr>\n",
       "      <th>2</th>\n",
       "      <td>France</td>\n",
       "      <td>34406092</td>\n",
       "      <td>154104</td>\n",
       "      <td>34406092</td>\n",
       "      <td>154104</td>\n",
       "      <td>0</td>\n",
       "      <td>0</td>\n",
       "      <td>0.45</td>\n",
       "      <td>Europe</td>\n",
       "    </tr>\n",
       "    <tr>\n",
       "      <th>3</th>\n",
       "      <td>Brazil</td>\n",
       "      <td>34148131</td>\n",
       "      <td>681253</td>\n",
       "      <td>34148131</td>\n",
       "      <td>681253</td>\n",
       "      <td>0</td>\n",
       "      <td>0</td>\n",
       "      <td>1.99</td>\n",
       "      <td>South America</td>\n",
       "    </tr>\n",
       "    <tr>\n",
       "      <th>4</th>\n",
       "      <td>Germany</td>\n",
       "      <td>31535340</td>\n",
       "      <td>145698</td>\n",
       "      <td>31535343</td>\n",
       "      <td>145698</td>\n",
       "      <td>0</td>\n",
       "      <td>0</td>\n",
       "      <td>0.46</td>\n",
       "      <td>Europe</td>\n",
       "    </tr>\n",
       "  </tbody>\n",
       "</table>\n",
       "</div>"
      ],
      "text/plain": [
       "  Country/Region     Cases   Deaths    PCases  PDeaths  Cases (+)  Deaths (+)  \\\n",
       "0             US  92927104  1037021  92919750  1037017       7354           4   \n",
       "1          India  44268381   527069  44253464   527037      14917          32   \n",
       "2         France  34406092   154104  34406092   154104          0           0   \n",
       "3         Brazil  34148131   681253  34148131   681253          0           0   \n",
       "4        Germany  31535340   145698  31535343   145698          0           0   \n",
       "\n",
       "   Fatality Rate      Continent  \n",
       "0           1.12  North America  \n",
       "1           1.19           Asia  \n",
       "2           0.45         Europe  \n",
       "3           1.99  South America  \n",
       "4           0.46         Europe  "
      ]
     },
     "execution_count": 13,
     "metadata": {},
     "output_type": "execute_result"
    }
   ],
   "source": [
    "#hide\n",
    "for c in 'Cases, Deaths'.split(', '):\n",
    "    df_table[f'{c} (+)'] = (df_table[c] - df_table[f'P{c}']).clip(0)\n",
    "    #Clip ça veut dire, les chiffres negatif sont interdit\n",
    "df_table['Fatality Rate'] = (100* df_table['Deaths']/ df_table['Cases']).round(2)\n",
    "df_table['Continent'] = df_table['Country/Region'].map(mapping['map.continent'])\n",
    "df_table.head(5)"
   ]
  },
  {
   "cell_type": "code",
   "execution_count": 14,
   "id": "aboriginal-bulgaria",
   "metadata": {
    "execution": {
     "iopub.execute_input": "2022-08-16T00:52:36.781141Z",
     "iopub.status.busy": "2022-08-16T00:52:36.780590Z",
     "iopub.status.idle": "2022-08-16T00:52:36.783334Z",
     "shell.execute_reply": "2022-08-16T00:52:36.782884Z"
    },
    "papermill": {
     "duration": 0.062129,
     "end_time": "2022-08-16T00:52:36.783434",
     "exception": false,
     "start_time": "2022-08-16T00:52:36.721305",
     "status": "completed"
    },
    "tags": []
   },
   "outputs": [],
   "source": [
    "#hide\n",
    "#delete problematic countries from table\n",
    "df_table = df_table[~df_table['Country/Region'].isin(['Cape Verde', 'Cruise Ship', 'Kosovo'])]"
   ]
  },
  {
   "cell_type": "code",
   "execution_count": 15,
   "id": "fantastic-effect",
   "metadata": {
    "execution": {
     "iopub.execute_input": "2022-08-16T00:52:36.851043Z",
     "iopub.status.busy": "2022-08-16T00:52:36.850488Z",
     "iopub.status.idle": "2022-08-16T00:52:36.867052Z",
     "shell.execute_reply": "2022-08-16T00:52:36.867843Z"
    },
    "papermill": {
     "duration": 0.054325,
     "end_time": "2022-08-16T00:52:36.867967",
     "exception": false,
     "start_time": "2022-08-16T00:52:36.813642",
     "status": "completed"
    },
    "tags": []
   },
   "outputs": [
    {
     "data": {
      "text/html": [
       "<div>\n",
       "<style scoped>\n",
       "    .dataframe tbody tr th:only-of-type {\n",
       "        vertical-align: middle;\n",
       "    }\n",
       "\n",
       "    .dataframe tbody tr th {\n",
       "        vertical-align: top;\n",
       "    }\n",
       "\n",
       "    .dataframe thead th {\n",
       "        text-align: right;\n",
       "    }\n",
       "</style>\n",
       "<table border=\"1\" class=\"dataframe\">\n",
       "  <thead>\n",
       "    <tr style=\"text-align: right;\">\n",
       "      <th></th>\n",
       "      <th>Country/Region</th>\n",
       "      <th>Cases</th>\n",
       "      <th>Deaths</th>\n",
       "      <th>PCases</th>\n",
       "      <th>PDeaths</th>\n",
       "      <th>Cases (+)</th>\n",
       "      <th>Deaths (+)</th>\n",
       "      <th>Fatality Rate</th>\n",
       "      <th>Continent</th>\n",
       "    </tr>\n",
       "  </thead>\n",
       "  <tbody>\n",
       "    <tr>\n",
       "      <th>0</th>\n",
       "      <td>US</td>\n",
       "      <td>92927104</td>\n",
       "      <td>1037021</td>\n",
       "      <td>92919750</td>\n",
       "      <td>1037017</td>\n",
       "      <td>7354</td>\n",
       "      <td>4</td>\n",
       "      <td>1.1</td>\n",
       "      <td>North America</td>\n",
       "    </tr>\n",
       "    <tr>\n",
       "      <th>1</th>\n",
       "      <td>India</td>\n",
       "      <td>44268381</td>\n",
       "      <td>527069</td>\n",
       "      <td>44253464</td>\n",
       "      <td>527037</td>\n",
       "      <td>14917</td>\n",
       "      <td>32</td>\n",
       "      <td>1.2</td>\n",
       "      <td>Asia</td>\n",
       "    </tr>\n",
       "    <tr>\n",
       "      <th>2</th>\n",
       "      <td>France</td>\n",
       "      <td>34406092</td>\n",
       "      <td>154104</td>\n",
       "      <td>34406092</td>\n",
       "      <td>154104</td>\n",
       "      <td>0</td>\n",
       "      <td>0</td>\n",
       "      <td>0.4</td>\n",
       "      <td>Europe</td>\n",
       "    </tr>\n",
       "    <tr>\n",
       "      <th>3</th>\n",
       "      <td>Brazil</td>\n",
       "      <td>34148131</td>\n",
       "      <td>681253</td>\n",
       "      <td>34148131</td>\n",
       "      <td>681253</td>\n",
       "      <td>0</td>\n",
       "      <td>0</td>\n",
       "      <td>2.0</td>\n",
       "      <td>South America</td>\n",
       "    </tr>\n",
       "    <tr>\n",
       "      <th>4</th>\n",
       "      <td>Germany</td>\n",
       "      <td>31535340</td>\n",
       "      <td>145698</td>\n",
       "      <td>31535343</td>\n",
       "      <td>145698</td>\n",
       "      <td>0</td>\n",
       "      <td>0</td>\n",
       "      <td>0.5</td>\n",
       "      <td>Europe</td>\n",
       "    </tr>\n",
       "  </tbody>\n",
       "</table>\n",
       "</div>"
      ],
      "text/plain": [
       "  Country/Region     Cases   Deaths    PCases  PDeaths  Cases (+)  Deaths (+)  \\\n",
       "0             US  92927104  1037021  92919750  1037017       7354           4   \n",
       "1          India  44268381   527069  44253464   527037      14917          32   \n",
       "2         France  34406092   154104  34406092   154104          0           0   \n",
       "3         Brazil  34148131   681253  34148131   681253          0           0   \n",
       "4        Germany  31535340   145698  31535343   145698          0           0   \n",
       "\n",
       "   Fatality Rate      Continent  \n",
       "0            1.1  North America  \n",
       "1            1.2           Asia  \n",
       "2            0.4         Europe  \n",
       "3            2.0  South America  \n",
       "4            0.5         Europe  "
      ]
     },
     "execution_count": 15,
     "metadata": {},
     "output_type": "execute_result"
    }
   ],
   "source": [
    "#hide\n",
    "df_table = (pd.DataFrame(dict(Cases=dfc_cases, Deaths=dfc_deaths, PCases=dfp_cases, PDeaths=dfp_deaths))\n",
    "             .sort_values(by=['Cases', 'Deaths'], ascending=[False, False])\n",
    "             .reset_index())\n",
    "df_table.rename(columns={'index': 'Country/Region'}, inplace=True)\n",
    "for c in 'Cases, Deaths'.split(', '):\n",
    "    df_table[f'{c} (+)'] = (df_table[c] - df_table[f'P{c}']).clip(0)  # DATA BUG\n",
    "df_table['Fatality Rate'] = (100 * df_table['Deaths'] / df_table['Cases']).round(1)\n",
    "df_table['Continent'] = df_table['Country/Region'].map(mapping['map.continent'])\n",
    "df_table.head(5)"
   ]
  },
  {
   "cell_type": "code",
   "execution_count": 16,
   "id": "fewer-occasion",
   "metadata": {
    "execution": {
     "iopub.execute_input": "2022-08-16T00:52:36.934836Z",
     "iopub.status.busy": "2022-08-16T00:52:36.934287Z",
     "iopub.status.idle": "2022-08-16T00:52:36.936554Z",
     "shell.execute_reply": "2022-08-16T00:52:36.936113Z"
    },
    "papermill": {
     "duration": 0.037422,
     "end_time": "2022-08-16T00:52:36.936649",
     "exception": false,
     "start_time": "2022-08-16T00:52:36.899227",
     "status": "completed"
    },
    "tags": []
   },
   "outputs": [],
   "source": [
    "#hide\n",
    "#delete problematic countries from table\n",
    "df_table = df_table[~df_table['Country/Region'].isin(['Cape Verde', 'Cruise Ship', 'Kosovo'])]"
   ]
  },
  {
   "cell_type": "code",
   "execution_count": 17,
   "id": "related-center",
   "metadata": {
    "execution": {
     "iopub.execute_input": "2022-08-16T00:52:37.008984Z",
     "iopub.status.busy": "2022-08-16T00:52:37.008436Z",
     "iopub.status.idle": "2022-08-16T00:52:37.017777Z",
     "shell.execute_reply": "2022-08-16T00:52:37.017314Z"
    },
    "papermill": {
     "duration": 0.050755,
     "end_time": "2022-08-16T00:52:37.017875",
     "exception": false,
     "start_time": "2022-08-16T00:52:36.967120",
     "status": "completed"
    },
    "tags": []
   },
   "outputs": [],
   "source": [
    "#hide\n",
    "metrics = [df_table.columns[index] for index in [1,2,5,6]]\n",
    "# s_china = df_table[df_table['Country/Region'].eq('China')][metrics].sum().add_prefix('China ')\n",
    "s_us = df_table[df_table['Country/Region'].eq('US')][metrics].sum().add_prefix('US ')\n",
    "s_eu = df_table[df_table['Continent'].eq('Europe')][metrics].sum().add_prefix('EU ')\n",
    "s_ind = df_table[df_table['Country/Region'].eq('India')][metrics].sum().add_prefix('India ')\n",
    "summary = {'updated': pd.to_datetime(dt_today), 'since': pd.to_datetime(dt_yday)}\n",
    "summary = {'updated': pd.to_datetime(dt_today), 'since': pd.to_datetime(dt_yday)}\n",
    "summary = {**summary, **df_table[metrics].sum(), **s_ind, **s_us, **s_eu}"
   ]
  },
  {
   "cell_type": "code",
   "execution_count": 18,
   "id": "engaging-syndrome",
   "metadata": {
    "execution": {
     "iopub.execute_input": "2022-08-16T00:52:37.083432Z",
     "iopub.status.busy": "2022-08-16T00:52:37.082891Z",
     "iopub.status.idle": "2022-08-16T00:52:37.100873Z",
     "shell.execute_reply": "2022-08-16T00:52:37.100432Z"
    },
    "papermill": {
     "duration": 0.052485,
     "end_time": "2022-08-16T00:52:37.100970",
     "exception": false,
     "start_time": "2022-08-16T00:52:37.048485",
     "status": "completed"
    },
    "tags": []
   },
   "outputs": [],
   "source": [
    "#hide\n",
    "dft_ct_new_cases = dft_cases.groupby(COL_REGION)[dt_cols].sum().diff(axis=1).fillna(0).astype(int)"
   ]
  },
  {
   "cell_type": "code",
   "execution_count": 19,
   "id": "neutral-assignment",
   "metadata": {
    "execution": {
     "iopub.execute_input": "2022-08-16T00:52:37.165372Z",
     "iopub.status.busy": "2022-08-16T00:52:37.164809Z",
     "iopub.status.idle": "2022-08-16T00:52:37.168598Z",
     "shell.execute_reply": "2022-08-16T00:52:37.169018Z"
    },
    "papermill": {
     "duration": 0.037591,
     "end_time": "2022-08-16T00:52:37.169126",
     "exception": false,
     "start_time": "2022-08-16T00:52:37.131535",
     "status": "completed"
    },
    "tags": []
   },
   "outputs": [],
   "source": [
    "#hide\n",
    "everydaycases = dft_ct_new_cases.cumsum(axis=1)"
   ]
  },
  {
   "cell_type": "code",
   "execution_count": 20,
   "id": "parliamentary-calgary",
   "metadata": {
    "execution": {
     "iopub.execute_input": "2022-08-16T00:52:37.234534Z",
     "iopub.status.busy": "2022-08-16T00:52:37.233985Z",
     "iopub.status.idle": "2022-08-16T00:52:37.765353Z",
     "shell.execute_reply": "2022-08-16T00:52:37.764862Z"
    },
    "papermill": {
     "duration": 0.56536,
     "end_time": "2022-08-16T00:52:37.765473",
     "exception": false,
     "start_time": "2022-08-16T00:52:37.200113",
     "status": "completed"
    },
    "tags": []
   },
   "outputs": [],
   "source": [
    "#hide\n",
    "import pandas as pd\n",
    "import matplotlib.pyplot as plt\n",
    "import matplotlib.ticker as ticker\n",
    "import matplotlib.animation as animation\n",
    "from IPython.display import HTML"
   ]
  },
  {
   "cell_type": "code",
   "execution_count": 21,
   "id": "lasting-extraction",
   "metadata": {
    "execution": {
     "iopub.execute_input": "2022-08-16T00:52:37.832783Z",
     "iopub.status.busy": "2022-08-16T00:52:37.832227Z",
     "iopub.status.idle": "2022-08-16T00:52:37.838484Z",
     "shell.execute_reply": "2022-08-16T00:52:37.838926Z"
    },
    "papermill": {
     "duration": 0.042919,
     "end_time": "2022-08-16T00:52:37.839040",
     "exception": false,
     "start_time": "2022-08-16T00:52:37.796121",
     "status": "completed"
    },
    "tags": []
   },
   "outputs": [],
   "source": [
    "#hide\n",
    "t = everydaycases.stack()"
   ]
  },
  {
   "cell_type": "code",
   "execution_count": 22,
   "id": "premier-sleeve",
   "metadata": {
    "execution": {
     "iopub.execute_input": "2022-08-16T00:52:37.904298Z",
     "iopub.status.busy": "2022-08-16T00:52:37.903735Z",
     "iopub.status.idle": "2022-08-16T00:52:37.914348Z",
     "shell.execute_reply": "2022-08-16T00:52:37.914743Z"
    },
    "papermill": {
     "duration": 0.045188,
     "end_time": "2022-08-16T00:52:37.914856",
     "exception": false,
     "start_time": "2022-08-16T00:52:37.869668",
     "status": "completed"
    },
    "tags": []
   },
   "outputs": [],
   "source": [
    "#hide\n",
    "g = t.reset_index(['Country/Region'])"
   ]
  },
  {
   "cell_type": "code",
   "execution_count": 23,
   "id": "distributed-pittsburgh",
   "metadata": {
    "execution": {
     "iopub.execute_input": "2022-08-16T00:52:37.979260Z",
     "iopub.status.busy": "2022-08-16T00:52:37.978707Z",
     "iopub.status.idle": "2022-08-16T00:52:37.981029Z",
     "shell.execute_reply": "2022-08-16T00:52:37.980511Z"
    },
    "papermill": {
     "duration": 0.035723,
     "end_time": "2022-08-16T00:52:37.981127",
     "exception": false,
     "start_time": "2022-08-16T00:52:37.945404",
     "status": "completed"
    },
    "tags": []
   },
   "outputs": [],
   "source": [
    "#hide\n",
    "g.index.name = 'date'"
   ]
  },
  {
   "cell_type": "code",
   "execution_count": 24,
   "id": "naked-donor",
   "metadata": {
    "execution": {
     "iopub.execute_input": "2022-08-16T00:52:38.045268Z",
     "iopub.status.busy": "2022-08-16T00:52:38.044678Z",
     "iopub.status.idle": "2022-08-16T00:52:38.047170Z",
     "shell.execute_reply": "2022-08-16T00:52:38.046754Z"
    },
    "papermill": {
     "duration": 0.035585,
     "end_time": "2022-08-16T00:52:38.047269",
     "exception": false,
     "start_time": "2022-08-16T00:52:38.011684",
     "status": "completed"
    },
    "tags": []
   },
   "outputs": [],
   "source": [
    "# #hide\n",
    "# g = g.reset_index(['date'])"
   ]
  },
  {
   "cell_type": "code",
   "execution_count": 25,
   "id": "incomplete-mustang",
   "metadata": {
    "execution": {
     "iopub.execute_input": "2022-08-16T00:52:38.111230Z",
     "iopub.status.busy": "2022-08-16T00:52:38.110688Z",
     "iopub.status.idle": "2022-08-16T00:52:38.113025Z",
     "shell.execute_reply": "2022-08-16T00:52:38.112512Z"
    },
    "papermill": {
     "duration": 0.035363,
     "end_time": "2022-08-16T00:52:38.113120",
     "exception": false,
     "start_time": "2022-08-16T00:52:38.077757",
     "status": "completed"
    },
    "tags": []
   },
   "outputs": [],
   "source": [
    "#hide\n",
    "# g.head()"
   ]
  },
  {
   "cell_type": "code",
   "execution_count": 26,
   "id": "specific-kruger",
   "metadata": {
    "execution": {
     "iopub.execute_input": "2022-08-16T00:52:38.177338Z",
     "iopub.status.busy": "2022-08-16T00:52:38.176760Z",
     "iopub.status.idle": "2022-08-16T00:52:38.178860Z",
     "shell.execute_reply": "2022-08-16T00:52:38.179250Z"
    },
    "papermill": {
     "duration": 0.035578,
     "end_time": "2022-08-16T00:52:38.179360",
     "exception": false,
     "start_time": "2022-08-16T00:52:38.143782",
     "status": "completed"
    },
    "tags": []
   },
   "outputs": [],
   "source": [
    "#hide\n",
    "# g.columns = ['date','country','cases']"
   ]
  },
  {
   "cell_type": "code",
   "execution_count": 27,
   "id": "tender-conversion",
   "metadata": {
    "execution": {
     "iopub.execute_input": "2022-08-16T00:52:38.244184Z",
     "iopub.status.busy": "2022-08-16T00:52:38.243632Z",
     "iopub.status.idle": "2022-08-16T00:52:38.246049Z",
     "shell.execute_reply": "2022-08-16T00:52:38.245618Z"
    },
    "papermill": {
     "duration": 0.035872,
     "end_time": "2022-08-16T00:52:38.246142",
     "exception": false,
     "start_time": "2022-08-16T00:52:38.210270",
     "status": "completed"
    },
    "tags": []
   },
   "outputs": [],
   "source": [
    "#hide\n",
    "# g['continent'] = g.country"
   ]
  },
  {
   "cell_type": "code",
   "execution_count": 28,
   "id": "substantial-wilderness",
   "metadata": {
    "execution": {
     "iopub.execute_input": "2022-08-16T00:52:38.310719Z",
     "iopub.status.busy": "2022-08-16T00:52:38.310154Z",
     "iopub.status.idle": "2022-08-16T00:52:38.312590Z",
     "shell.execute_reply": "2022-08-16T00:52:38.312068Z"
    },
    "papermill": {
     "duration": 0.0358,
     "end_time": "2022-08-16T00:52:38.312688",
     "exception": false,
     "start_time": "2022-08-16T00:52:38.276888",
     "status": "completed"
    },
    "tags": []
   },
   "outputs": [],
   "source": [
    "#hide\n",
    "# cols = list(g.columns.values)"
   ]
  },
  {
   "cell_type": "code",
   "execution_count": 29,
   "id": "solved-farming",
   "metadata": {
    "execution": {
     "iopub.execute_input": "2022-08-16T00:52:38.376945Z",
     "iopub.status.busy": "2022-08-16T00:52:38.376386Z",
     "iopub.status.idle": "2022-08-16T00:52:38.378881Z",
     "shell.execute_reply": "2022-08-16T00:52:38.378431Z"
    },
    "papermill": {
     "duration": 0.035815,
     "end_time": "2022-08-16T00:52:38.378977",
     "exception": false,
     "start_time": "2022-08-16T00:52:38.343162",
     "status": "completed"
    },
    "tags": []
   },
   "outputs": [],
   "source": [
    "#hide\n",
    "# cols.insert(0, cols.pop())"
   ]
  },
  {
   "cell_type": "code",
   "execution_count": 30,
   "id": "executed-adoption",
   "metadata": {
    "execution": {
     "iopub.execute_input": "2022-08-16T00:52:38.443232Z",
     "iopub.status.busy": "2022-08-16T00:52:38.442680Z",
     "iopub.status.idle": "2022-08-16T00:52:38.444917Z",
     "shell.execute_reply": "2022-08-16T00:52:38.444404Z"
    },
    "papermill": {
     "duration": 0.035386,
     "end_time": "2022-08-16T00:52:38.445010",
     "exception": false,
     "start_time": "2022-08-16T00:52:38.409624",
     "status": "completed"
    },
    "tags": []
   },
   "outputs": [],
   "source": [
    "#hide\n",
    "# g = g[cols]"
   ]
  },
  {
   "cell_type": "code",
   "execution_count": 31,
   "id": "subject-dublin",
   "metadata": {
    "execution": {
     "iopub.execute_input": "2022-08-16T00:52:38.509250Z",
     "iopub.status.busy": "2022-08-16T00:52:38.508670Z",
     "iopub.status.idle": "2022-08-16T00:52:38.511174Z",
     "shell.execute_reply": "2022-08-16T00:52:38.510738Z"
    },
    "papermill": {
     "duration": 0.035771,
     "end_time": "2022-08-16T00:52:38.511269",
     "exception": false,
     "start_time": "2022-08-16T00:52:38.475498",
     "status": "completed"
    },
    "tags": []
   },
   "outputs": [],
   "source": [
    "#hide\n",
    "# g['continent'] = g['continent'].map(mapping['map.continent'])"
   ]
  },
  {
   "cell_type": "code",
   "execution_count": 32,
   "id": "freelance-scout",
   "metadata": {
    "execution": {
     "iopub.execute_input": "2022-08-16T00:52:38.575594Z",
     "iopub.status.busy": "2022-08-16T00:52:38.575030Z",
     "iopub.status.idle": "2022-08-16T00:52:38.577388Z",
     "shell.execute_reply": "2022-08-16T00:52:38.576854Z"
    },
    "papermill": {
     "duration": 0.035635,
     "end_time": "2022-08-16T00:52:38.577483",
     "exception": false,
     "start_time": "2022-08-16T00:52:38.541848",
     "status": "completed"
    },
    "tags": []
   },
   "outputs": [],
   "source": [
    "#hide\n",
    "# g.head()"
   ]
  },
  {
   "cell_type": "code",
   "execution_count": 33,
   "id": "limited-engine",
   "metadata": {
    "execution": {
     "iopub.execute_input": "2022-08-16T00:52:38.642043Z",
     "iopub.status.busy": "2022-08-16T00:52:38.641488Z",
     "iopub.status.idle": "2022-08-16T00:52:38.643918Z",
     "shell.execute_reply": "2022-08-16T00:52:38.643485Z"
    },
    "papermill": {
     "duration": 0.036032,
     "end_time": "2022-08-16T00:52:38.644014",
     "exception": false,
     "start_time": "2022-08-16T00:52:38.607982",
     "status": "completed"
    },
    "tags": []
   },
   "outputs": [],
   "source": [
    "# hide\n",
    "# g['date'] = g['date'].astype('datetime64[ns]')"
   ]
  },
  {
   "cell_type": "code",
   "execution_count": 34,
   "id": "sophisticated-supervisor",
   "metadata": {
    "execution": {
     "iopub.execute_input": "2022-08-16T00:52:38.708466Z",
     "iopub.status.busy": "2022-08-16T00:52:38.707905Z",
     "iopub.status.idle": "2022-08-16T00:52:38.710365Z",
     "shell.execute_reply": "2022-08-16T00:52:38.709933Z"
    },
    "papermill": {
     "duration": 0.035681,
     "end_time": "2022-08-16T00:52:38.710460",
     "exception": false,
     "start_time": "2022-08-16T00:52:38.674779",
     "status": "completed"
    },
    "tags": []
   },
   "outputs": [],
   "source": [
    "#hide\n",
    "# g['date'] = g.date.dt.dayofyear"
   ]
  },
  {
   "cell_type": "code",
   "execution_count": 35,
   "id": "inside-dubai",
   "metadata": {
    "execution": {
     "iopub.execute_input": "2022-08-16T00:52:38.774673Z",
     "iopub.status.busy": "2022-08-16T00:52:38.774123Z",
     "iopub.status.idle": "2022-08-16T00:52:38.776575Z",
     "shell.execute_reply": "2022-08-16T00:52:38.776059Z"
    },
    "papermill": {
     "duration": 0.035835,
     "end_time": "2022-08-16T00:52:38.776670",
     "exception": false,
     "start_time": "2022-08-16T00:52:38.740835",
     "status": "completed"
    },
    "tags": []
   },
   "outputs": [],
   "source": [
    "#hide\n",
    "# g = g.rename(columns= {'continent':'group','country':'name','cases':'value'})"
   ]
  },
  {
   "cell_type": "code",
   "execution_count": 36,
   "id": "fleet-motorcycle",
   "metadata": {
    "execution": {
     "iopub.execute_input": "2022-08-16T00:52:38.841018Z",
     "iopub.status.busy": "2022-08-16T00:52:38.840452Z",
     "iopub.status.idle": "2022-08-16T00:52:38.842920Z",
     "shell.execute_reply": "2022-08-16T00:52:38.842396Z"
    },
    "papermill": {
     "duration": 0.035682,
     "end_time": "2022-08-16T00:52:38.843017",
     "exception": false,
     "start_time": "2022-08-16T00:52:38.807335",
     "status": "completed"
    },
    "tags": []
   },
   "outputs": [],
   "source": [
    "#hide\n",
    "# cols = ['name','group','day','value']"
   ]
  },
  {
   "cell_type": "code",
   "execution_count": 37,
   "id": "continued-sleeping",
   "metadata": {
    "execution": {
     "iopub.execute_input": "2022-08-16T00:52:38.907136Z",
     "iopub.status.busy": "2022-08-16T00:52:38.906598Z",
     "iopub.status.idle": "2022-08-16T00:52:38.908678Z",
     "shell.execute_reply": "2022-08-16T00:52:38.909093Z"
    },
    "papermill": {
     "duration": 0.03562,
     "end_time": "2022-08-16T00:52:38.909225",
     "exception": false,
     "start_time": "2022-08-16T00:52:38.873605",
     "status": "completed"
    },
    "tags": []
   },
   "outputs": [],
   "source": [
    "#hide\n",
    "# g.rename(columns= {'date':'day'},inplace = True)"
   ]
  },
  {
   "cell_type": "code",
   "execution_count": 38,
   "id": "major-fight",
   "metadata": {
    "execution": {
     "iopub.execute_input": "2022-08-16T00:52:38.973584Z",
     "iopub.status.busy": "2022-08-16T00:52:38.972996Z",
     "iopub.status.idle": "2022-08-16T00:52:38.975416Z",
     "shell.execute_reply": "2022-08-16T00:52:38.974897Z"
    },
    "papermill": {
     "duration": 0.03555,
     "end_time": "2022-08-16T00:52:38.975512",
     "exception": false,
     "start_time": "2022-08-16T00:52:38.939962",
     "status": "completed"
    },
    "tags": []
   },
   "outputs": [],
   "source": [
    "#hide\n",
    "# g = g[cols]"
   ]
  },
  {
   "cell_type": "code",
   "execution_count": 39,
   "id": "structured-mobile",
   "metadata": {
    "execution": {
     "iopub.execute_input": "2022-08-16T00:52:39.039542Z",
     "iopub.status.busy": "2022-08-16T00:52:39.038977Z",
     "iopub.status.idle": "2022-08-16T00:52:39.041405Z",
     "shell.execute_reply": "2022-08-16T00:52:39.040869Z"
    },
    "papermill": {
     "duration": 0.035642,
     "end_time": "2022-08-16T00:52:39.041499",
     "exception": false,
     "start_time": "2022-08-16T00:52:39.005857",
     "status": "completed"
    },
    "tags": []
   },
   "outputs": [],
   "source": [
    "# #hide\n",
    "# g = g[g.group.notna()]"
   ]
  },
  {
   "cell_type": "code",
   "execution_count": 40,
   "id": "determined-closing",
   "metadata": {
    "execution": {
     "iopub.execute_input": "2022-08-16T00:52:39.106276Z",
     "iopub.status.busy": "2022-08-16T00:52:39.105730Z",
     "iopub.status.idle": "2022-08-16T00:52:39.109118Z",
     "shell.execute_reply": "2022-08-16T00:52:39.109552Z"
    },
    "papermill": {
     "duration": 0.037473,
     "end_time": "2022-08-16T00:52:39.109666",
     "exception": false,
     "start_time": "2022-08-16T00:52:39.072193",
     "status": "completed"
    },
    "tags": []
   },
   "outputs": [],
   "source": [
    "# #hide\n",
    "# colors = dict(zip(\n",
    "#     [\"Oceania\", \"Europe\", \"Asia\", \"South America\", \"Middle East\", \"North America\", \"Africa\"],\n",
    "#     [\"#adb0ff\", \"#ffb3ff\", \"#90d595\", \"#e48381\", \"#aafbff\", \"#f7bb5f\", \"#eafb50\"]\n",
    "# ))\n",
    "# group_lk = g.set_index('name')['group'].to_dict()"
   ]
  },
  {
   "cell_type": "code",
   "execution_count": null,
   "id": "gross-drinking",
   "metadata": {
    "papermill": {
     "duration": 0.030779,
     "end_time": "2022-08-16T00:52:39.170915",
     "exception": false,
     "start_time": "2022-08-16T00:52:39.140136",
     "status": "completed"
    },
    "tags": []
   },
   "outputs": [],
   "source": []
  },
  {
   "cell_type": "code",
   "execution_count": 41,
   "id": "subject-macintosh",
   "metadata": {
    "execution": {
     "iopub.execute_input": "2022-08-16T00:52:39.236041Z",
     "iopub.status.busy": "2022-08-16T00:52:39.235472Z",
     "iopub.status.idle": "2022-08-16T00:52:39.237920Z",
     "shell.execute_reply": "2022-08-16T00:52:39.237468Z"
    },
    "papermill": {
     "duration": 0.036247,
     "end_time": "2022-08-16T00:52:39.238015",
     "exception": false,
     "start_time": "2022-08-16T00:52:39.201768",
     "status": "completed"
    },
    "tags": []
   },
   "outputs": [],
   "source": [
    "# #hide\n",
    "# fig, ax = plt.subplots(figsize=(15, 8))\n",
    "\n",
    "# def draw_barchart(current_day):\n",
    "#     dff = g[g['day'].eq(current_day)].sort_values(by='value', ascending=True).tail(10)\n",
    "#     ax.clear()\n",
    "#     ax.barh(dff['name'], dff['value'], color=[colors[group_lk[x]] for x in dff['name']])\n",
    "#     dx = dff['value'].max() / 200\n",
    "    \n",
    "#     for i, (value, name) in enumerate(zip(dff['value'], dff['name'])):\n",
    "#         ax.text(value-dx, i,     name,           size=14, weight=600, ha='right', va='bottom')\n",
    "#         ax.text(value-dx, i-.25, group_lk[name], size=10, color='#444444', ha='right', va='baseline')\n",
    "#         ax.text(value+dx, i,     f'{value:,.0f}',  size=14, ha='left',  va='center')\n",
    "#     ax.text(1, 0.4, current_day, transform=ax.transAxes, color='#777777', size=46, ha='right', weight=800)\n",
    "#     ax.text(0, 1.06, 'Population (thousands)', transform=ax.transAxes, size=12, color='#777777')\n",
    "#     ax.xaxis.set_major_formatter(ticker.StrMethodFormatter('{x:,.0f}'))\n",
    "#     ax.xaxis.set_ticks_position('top')\n",
    "#     ax.tick_params(axis='x', colors='#777777', labelsize=12)\n",
    "#     ax.set_yticks([])\n",
    "#     ax.margins(0, 0.01)\n",
    "#     ax.grid(which='major', axis='x', linestyle='-')\n",
    "#     ax.set_axisbelow(True)\n",
    "    \n",
    "#     ax.text(0, 1.15, 'Coronavirus',\n",
    "#             transform=ax.transAxes, size=24, weight=600, ha='left', va='top')\n",
    "# #     ax.text(1, 0, 'by @pratapvardhan; credit @jburnmurdoch', transform=ax.transAxes, color='#777777', ha='right',\n",
    "# #             bbox=dict(facecolor='white', alpha=0.8, edgecolor='white'))\n",
    "#     plt.box(False)"
   ]
  },
  {
   "cell_type": "code",
   "execution_count": 42,
   "id": "sexual-wages",
   "metadata": {
    "execution": {
     "iopub.execute_input": "2022-08-16T00:52:39.302068Z",
     "iopub.status.busy": "2022-08-16T00:52:39.301503Z",
     "iopub.status.idle": "2022-08-16T00:52:39.303697Z",
     "shell.execute_reply": "2022-08-16T00:52:39.304130Z"
    },
    "papermill": {
     "duration": 0.035716,
     "end_time": "2022-08-16T00:52:39.304241",
     "exception": false,
     "start_time": "2022-08-16T00:52:39.268525",
     "status": "completed"
    },
    "tags": []
   },
   "outputs": [],
   "source": [
    "# #hide_input\n",
    "# fig, ax = plt.subplots(figsize=(15, 8))\n",
    "# animator = animation.FuncAnimation(fig, draw_barchart, frames=range(g.day.values.min(), g.day.values.max()))\n",
    "# HTML(animator.to_jshtml())\n",
    "# # or use animator.to_html5_video() or animator.save() "
   ]
  },
  {
   "cell_type": "code",
   "execution_count": null,
   "id": "australian-container",
   "metadata": {
    "papermill": {
     "duration": 0.030405,
     "end_time": "2022-08-16T00:52:39.365257",
     "exception": false,
     "start_time": "2022-08-16T00:52:39.334852",
     "status": "completed"
    },
    "tags": []
   },
   "outputs": [],
   "source": []
  },
  {
   "cell_type": "code",
   "execution_count": null,
   "id": "mediterranean-pontiac",
   "metadata": {
    "papermill": {
     "duration": 0.030577,
     "end_time": "2022-08-16T00:52:39.426346",
     "exception": false,
     "start_time": "2022-08-16T00:52:39.395769",
     "status": "completed"
    },
    "tags": []
   },
   "outputs": [],
   "source": []
  },
  {
   "cell_type": "code",
   "execution_count": null,
   "id": "aging-legislature",
   "metadata": {
    "papermill": {
     "duration": 0.030461,
     "end_time": "2022-08-16T00:52:39.487424",
     "exception": false,
     "start_time": "2022-08-16T00:52:39.456963",
     "status": "completed"
    },
    "tags": []
   },
   "outputs": [],
   "source": []
  }
 ],
 "metadata": {
  "kernelspec": {
   "display_name": "Python 3",
   "language": "python",
   "name": "python3"
  },
  "language_info": {
   "codemirror_mode": {
    "name": "ipython",
    "version": 3
   },
   "file_extension": ".py",
   "mimetype": "text/x-python",
   "name": "python",
   "nbconvert_exporter": "python",
   "pygments_lexer": "ipython3",
   "version": "3.6.15"
  },
  "papermill": {
   "duration": 5.938315,
   "end_time": "2022-08-16T00:52:39.835236",
   "environment_variables": {},
   "exception": null,
   "input_path": "2020-03-21-covid19exp.ipynb",
   "output_path": "2020-03-21-covid19exp.ipynb",
   "parameters": {},
   "start_time": "2022-08-16T00:52:33.896921",
   "version": "2.0.0"
  }
 },
 "nbformat": 4,
 "nbformat_minor": 5
}