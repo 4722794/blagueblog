{
 "cells": [
  {
   "cell_type": "markdown",
   "id": "muslim-click",
   "metadata": {
    "papermill": {
     "duration": 0.040368,
     "end_time": "2021-09-14T12:11:24.052496",
     "exception": false,
     "start_time": "2021-09-14T12:11:24.012128",
     "status": "completed"
    },
    "tags": []
   },
   "source": [
    "# COVID-19 Case Race\n",
    "> A race chart to see rising cases around the world\n",
    "\n",
    "- author: Hargun Oberoi\n",
    "- image: images/covid-overview.png\n",
    "- hide: false\n",
    "- badges: false"
   ]
  },
  {
   "cell_type": "code",
   "execution_count": 1,
   "id": "proof-material",
   "metadata": {
    "execution": {
     "iopub.execute_input": "2021-09-14T12:11:24.134482Z",
     "iopub.status.busy": "2021-09-14T12:11:24.133773Z",
     "iopub.status.idle": "2021-09-14T12:11:24.506905Z",
     "shell.execute_reply": "2021-09-14T12:11:24.505954Z"
    },
    "papermill": {
     "duration": 0.418098,
     "end_time": "2021-09-14T12:11:24.507059",
     "exception": false,
     "start_time": "2021-09-14T12:11:24.088961",
     "status": "completed"
    },
    "tags": []
   },
   "outputs": [],
   "source": [
    "#hide\n",
    "import numpy as np\n",
    "import pandas as pd\n",
    "from jinja2 import Template\n",
    "from IPython.display import HTML"
   ]
  },
  {
   "cell_type": "code",
   "execution_count": 2,
   "id": "developed-terminology",
   "metadata": {
    "execution": {
     "iopub.execute_input": "2021-09-14T12:11:24.583199Z",
     "iopub.status.busy": "2021-09-14T12:11:24.582410Z",
     "iopub.status.idle": "2021-09-14T12:11:24.584975Z",
     "shell.execute_reply": "2021-09-14T12:11:24.584437Z"
    },
    "papermill": {
     "duration": 0.042929,
     "end_time": "2021-09-14T12:11:24.585090",
     "exception": false,
     "start_time": "2021-09-14T12:11:24.542161",
     "status": "completed"
    },
    "tags": []
   },
   "outputs": [],
   "source": [
    "#hide\n",
    "\n",
    "# FETCH\n",
    "base_url = 'https://raw.githubusercontent.com/pratapvardhan/notebooks/master/covid19/'\n",
    "paths = {\n",
    "    'mapping': base_url + 'mapping_countries.csv',\n",
    "    'overview': base_url + 'overview.tpl'\n",
    "}"
   ]
  },
  {
   "cell_type": "code",
   "execution_count": 3,
   "id": "dynamic-saver",
   "metadata": {
    "execution": {
     "iopub.execute_input": "2021-09-14T12:11:24.672111Z",
     "iopub.status.busy": "2021-09-14T12:11:24.671322Z",
     "iopub.status.idle": "2021-09-14T12:11:24.676508Z",
     "shell.execute_reply": "2021-09-14T12:11:24.675880Z"
    },
    "papermill": {
     "duration": 0.056276,
     "end_time": "2021-09-14T12:11:24.676652",
     "exception": false,
     "start_time": "2021-09-14T12:11:24.620376",
     "status": "completed"
    },
    "tags": []
   },
   "outputs": [
    {
     "data": {
      "text/plain": [
       "'https://raw.githubusercontent.com/pratapvardhan/notebooks/master/covid19/mapping_countries.csv'"
      ]
     },
     "execution_count": 3,
     "metadata": {},
     "output_type": "execute_result"
    }
   ],
   "source": [
    "#hide\n",
    "paths['mapping']"
   ]
  },
  {
   "cell_type": "code",
   "execution_count": 4,
   "id": "urban-software",
   "metadata": {
    "execution": {
     "iopub.execute_input": "2021-09-14T12:11:24.753344Z",
     "iopub.status.busy": "2021-09-14T12:11:24.752703Z",
     "iopub.status.idle": "2021-09-14T12:11:24.756024Z",
     "shell.execute_reply": "2021-09-14T12:11:24.755450Z"
    },
    "papermill": {
     "duration": 0.043911,
     "end_time": "2021-09-14T12:11:24.756174",
     "exception": false,
     "start_time": "2021-09-14T12:11:24.712263",
     "status": "completed"
    },
    "tags": []
   },
   "outputs": [],
   "source": [
    "#hide\n",
    "def get_mappings(url):\n",
    "    df = pd.read_csv(url)\n",
    "    return {\n",
    "        'df': df,\n",
    "        'replace.country': dict(df.dropna(subset=['Name']).set_index('Country')['Name']),\n",
    "        'map.continent': dict(df.set_index('Name')['Continent'])\n",
    "    }"
   ]
  },
  {
   "cell_type": "code",
   "execution_count": 5,
   "id": "intimate-machinery",
   "metadata": {
    "execution": {
     "iopub.execute_input": "2021-09-14T12:11:24.834435Z",
     "iopub.status.busy": "2021-09-14T12:11:24.833735Z",
     "iopub.status.idle": "2021-09-14T12:11:24.874731Z",
     "shell.execute_reply": "2021-09-14T12:11:24.875245Z"
    },
    "papermill": {
     "duration": 0.082579,
     "end_time": "2021-09-14T12:11:24.875413",
     "exception": false,
     "start_time": "2021-09-14T12:11:24.792834",
     "status": "completed"
    },
    "tags": []
   },
   "outputs": [],
   "source": [
    "#hide\n",
    "mapping = get_mappings(paths['mapping'])"
   ]
  },
  {
   "cell_type": "code",
   "execution_count": 6,
   "id": "certified-tactics",
   "metadata": {
    "execution": {
     "iopub.execute_input": "2021-09-14T12:11:24.955296Z",
     "iopub.status.busy": "2021-09-14T12:11:24.954673Z",
     "iopub.status.idle": "2021-09-14T12:11:24.957335Z",
     "shell.execute_reply": "2021-09-14T12:11:24.956724Z"
    },
    "papermill": {
     "duration": 0.043725,
     "end_time": "2021-09-14T12:11:24.957466",
     "exception": false,
     "start_time": "2021-09-14T12:11:24.913741",
     "status": "completed"
    },
    "tags": []
   },
   "outputs": [],
   "source": [
    "#hide\n",
    "def get_template(path):\n",
    "    from urllib.parse import urlparse\n",
    "    if bool(urlparse(path).netloc):\n",
    "        from urllib.request import urlopen\n",
    "        return urlopen(path).read().decode('utf8')\n",
    "    return open(path).read()"
   ]
  },
  {
   "cell_type": "code",
   "execution_count": 7,
   "id": "realistic-blast",
   "metadata": {
    "execution": {
     "iopub.execute_input": "2021-09-14T12:11:25.033418Z",
     "iopub.status.busy": "2021-09-14T12:11:25.032733Z",
     "iopub.status.idle": "2021-09-14T12:11:25.035092Z",
     "shell.execute_reply": "2021-09-14T12:11:25.035681Z"
    },
    "papermill": {
     "duration": 0.043228,
     "end_time": "2021-09-14T12:11:25.035812",
     "exception": false,
     "start_time": "2021-09-14T12:11:24.992584",
     "status": "completed"
    },
    "tags": []
   },
   "outputs": [],
   "source": [
    "#hide\n",
    "def get_frame(name):\n",
    "    url = (\n",
    "        'https://raw.githubusercontent.com/CSSEGISandData/COVID-19/master/csse_covid_19_data/'\n",
    "        f'csse_covid_19_time_series/time_series_covid19_{name}_global.csv')\n",
    "    df = pd.read_csv(url)\n",
    "    # rename countries\n",
    "    df['Country/Region'] = df['Country/Region'].replace(mapping['replace.country'])\n",
    "    return df"
   ]
  },
  {
   "cell_type": "code",
   "execution_count": 8,
   "id": "affiliated-characterization",
   "metadata": {
    "execution": {
     "iopub.execute_input": "2021-09-14T12:11:25.116256Z",
     "iopub.status.busy": "2021-09-14T12:11:25.115636Z",
     "iopub.status.idle": "2021-09-14T12:11:25.117629Z",
     "shell.execute_reply": "2021-09-14T12:11:25.118386Z"
    },
    "papermill": {
     "duration": 0.045706,
     "end_time": "2021-09-14T12:11:25.118534",
     "exception": false,
     "start_time": "2021-09-14T12:11:25.072828",
     "status": "completed"
    },
    "tags": []
   },
   "outputs": [],
   "source": [
    "#hide\n",
    "def get_dates(df):\n",
    "    dt_cols = df.columns[~df.columns.isin(['Province/State', 'Country/Region', 'Lat', 'Long'])]\n",
    "    LAST_DATE_I = -1\n",
    "    # sometimes last column may be empty, then go backwards\n",
    "    for i in range(-1, -len(dt_cols), -1):\n",
    "        if not df[dt_cols[i]].fillna(0).eq(0).all():\n",
    "            LAST_DATE_I = i\n",
    "            break\n",
    "    return LAST_DATE_I, dt_cols"
   ]
  },
  {
   "cell_type": "code",
   "execution_count": 9,
   "id": "recent-optimization",
   "metadata": {
    "execution": {
     "iopub.execute_input": "2021-09-14T12:11:25.194584Z",
     "iopub.status.busy": "2021-09-14T12:11:25.193793Z",
     "iopub.status.idle": "2021-09-14T12:11:25.606115Z",
     "shell.execute_reply": "2021-09-14T12:11:25.605499Z"
    },
    "papermill": {
     "duration": 0.452283,
     "end_time": "2021-09-14T12:11:25.606300",
     "exception": false,
     "start_time": "2021-09-14T12:11:25.154017",
     "status": "completed"
    },
    "tags": []
   },
   "outputs": [],
   "source": [
    "#hide\n",
    "COL_REGION = 'Country/Region'\n",
    "# Confirmed, Recovered, Deaths\n",
    "df = get_frame('confirmed')\n",
    "# dft_: timeseries, dfc_: today country agg\n",
    "dft_cases = df\n",
    "dft_deaths = get_frame('deaths')\n",
    "dft_recovered = get_frame('recovered')\n",
    "LAST_DATE_I, dt_cols = get_dates(df)"
   ]
  },
  {
   "cell_type": "code",
   "execution_count": 10,
   "id": "absolute-copper",
   "metadata": {
    "execution": {
     "iopub.execute_input": "2021-09-14T12:11:25.687239Z",
     "iopub.status.busy": "2021-09-14T12:11:25.686579Z",
     "iopub.status.idle": "2021-09-14T12:11:25.689030Z",
     "shell.execute_reply": "2021-09-14T12:11:25.688539Z"
    },
    "papermill": {
     "duration": 0.045655,
     "end_time": "2021-09-14T12:11:25.689150",
     "exception": false,
     "start_time": "2021-09-14T12:11:25.643495",
     "status": "completed"
    },
    "tags": []
   },
   "outputs": [],
   "source": [
    "#hide\n",
    "LAST_DATE_I, dt_cols = get_dates(df)\n",
    "dt_today =dt_cols[LAST_DATE_I]\n",
    "# dt_5day = dt_cols[LAST_DATE_I - 5]\n",
    "dt_yday = dt_cols[LAST_DATE_I - 1]"
   ]
  },
  {
   "cell_type": "code",
   "execution_count": 11,
   "id": "restricted-sheriff",
   "metadata": {
    "execution": {
     "iopub.execute_input": "2021-09-14T12:11:25.767350Z",
     "iopub.status.busy": "2021-09-14T12:11:25.766674Z",
     "iopub.status.idle": "2021-09-14T12:11:25.776131Z",
     "shell.execute_reply": "2021-09-14T12:11:25.776696Z"
    },
    "papermill": {
     "duration": 0.052356,
     "end_time": "2021-09-14T12:11:25.776835",
     "exception": false,
     "start_time": "2021-09-14T12:11:25.724479",
     "status": "completed"
    },
    "tags": []
   },
   "outputs": [],
   "source": [
    "#hide\n",
    "dfc_cases = dft_cases.groupby(COL_REGION)[dt_today].sum()\n",
    "dfc_deaths = dft_deaths.groupby(COL_REGION)[dt_today].sum()\n",
    "# dfp_cases = dft_cases.groupby(COL_REGION)[dt_5day].sum()\n",
    "# dfp_deaths = dft_deaths.groupby(COL_REGION)[dt_5day].sum()\n",
    "dfp_cases = dft_cases.groupby(COL_REGION)[dt_yday].sum()\n",
    "dfp_deaths = dft_deaths.groupby(COL_REGION)[dt_yday].sum()"
   ]
  },
  {
   "cell_type": "code",
   "execution_count": 12,
   "id": "deluxe-hepatitis",
   "metadata": {
    "execution": {
     "iopub.execute_input": "2021-09-14T12:11:25.851396Z",
     "iopub.status.busy": "2021-09-14T12:11:25.850746Z",
     "iopub.status.idle": "2021-09-14T12:11:25.855732Z",
     "shell.execute_reply": "2021-09-14T12:11:25.856300Z"
    },
    "papermill": {
     "duration": 0.045745,
     "end_time": "2021-09-14T12:11:25.856435",
     "exception": false,
     "start_time": "2021-09-14T12:11:25.810690",
     "status": "completed"
    },
    "tags": []
   },
   "outputs": [],
   "source": [
    "#hide\n",
    "df_table = (pd.DataFrame(dict(Cases = dfc_cases, Deaths = dfc_deaths, PCases = dfp_cases, PDeaths = dfp_deaths))\n",
    "            .sort_values(by = ['Cases','Deaths'], ascending = [False, False])\n",
    "            .reset_index())"
   ]
  },
  {
   "cell_type": "code",
   "execution_count": 13,
   "id": "educational-chancellor",
   "metadata": {
    "execution": {
     "iopub.execute_input": "2021-09-14T12:11:25.946039Z",
     "iopub.status.busy": "2021-09-14T12:11:25.945322Z",
     "iopub.status.idle": "2021-09-14T12:11:25.954548Z",
     "shell.execute_reply": "2021-09-14T12:11:25.953977Z"
    },
    "papermill": {
     "duration": 0.064342,
     "end_time": "2021-09-14T12:11:25.954690",
     "exception": false,
     "start_time": "2021-09-14T12:11:25.890348",
     "status": "completed"
    },
    "tags": []
   },
   "outputs": [
    {
     "data": {
      "text/html": [
       "<div>\n",
       "<style scoped>\n",
       "    .dataframe tbody tr th:only-of-type {\n",
       "        vertical-align: middle;\n",
       "    }\n",
       "\n",
       "    .dataframe tbody tr th {\n",
       "        vertical-align: top;\n",
       "    }\n",
       "\n",
       "    .dataframe thead th {\n",
       "        text-align: right;\n",
       "    }\n",
       "</style>\n",
       "<table border=\"1\" class=\"dataframe\">\n",
       "  <thead>\n",
       "    <tr style=\"text-align: right;\">\n",
       "      <th></th>\n",
       "      <th>Country/Region</th>\n",
       "      <th>Cases</th>\n",
       "      <th>Deaths</th>\n",
       "      <th>PCases</th>\n",
       "      <th>PDeaths</th>\n",
       "      <th>Cases (+)</th>\n",
       "      <th>Deaths (+)</th>\n",
       "      <th>Fatality Rate</th>\n",
       "      <th>Continent</th>\n",
       "    </tr>\n",
       "  </thead>\n",
       "  <tbody>\n",
       "    <tr>\n",
       "      <th>0</th>\n",
       "      <td>US</td>\n",
       "      <td>41221266</td>\n",
       "      <td>662106</td>\n",
       "      <td>40959217</td>\n",
       "      <td>659970</td>\n",
       "      <td>262049</td>\n",
       "      <td>2136</td>\n",
       "      <td>1.61</td>\n",
       "      <td>North America</td>\n",
       "    </tr>\n",
       "    <tr>\n",
       "      <th>1</th>\n",
       "      <td>India</td>\n",
       "      <td>33289579</td>\n",
       "      <td>443213</td>\n",
       "      <td>33264175</td>\n",
       "      <td>442874</td>\n",
       "      <td>25404</td>\n",
       "      <td>339</td>\n",
       "      <td>1.33</td>\n",
       "      <td>Asia</td>\n",
       "    </tr>\n",
       "    <tr>\n",
       "      <th>2</th>\n",
       "      <td>Brazil</td>\n",
       "      <td>21006424</td>\n",
       "      <td>587066</td>\n",
       "      <td>20999779</td>\n",
       "      <td>586851</td>\n",
       "      <td>6645</td>\n",
       "      <td>215</td>\n",
       "      <td>2.79</td>\n",
       "      <td>South America</td>\n",
       "    </tr>\n",
       "    <tr>\n",
       "      <th>3</th>\n",
       "      <td>United Kingdom</td>\n",
       "      <td>7290168</td>\n",
       "      <td>134587</td>\n",
       "      <td>7259752</td>\n",
       "      <td>134525</td>\n",
       "      <td>30416</td>\n",
       "      <td>62</td>\n",
       "      <td>1.85</td>\n",
       "      <td>Europe</td>\n",
       "    </tr>\n",
       "    <tr>\n",
       "      <th>4</th>\n",
       "      <td>Russia</td>\n",
       "      <td>7055296</td>\n",
       "      <td>190031</td>\n",
       "      <td>7037435</td>\n",
       "      <td>189319</td>\n",
       "      <td>17861</td>\n",
       "      <td>712</td>\n",
       "      <td>2.69</td>\n",
       "      <td>Europe</td>\n",
       "    </tr>\n",
       "  </tbody>\n",
       "</table>\n",
       "</div>"
      ],
      "text/plain": [
       "   Country/Region     Cases  Deaths    PCases  PDeaths  Cases (+)  Deaths (+)  \\\n",
       "0              US  41221266  662106  40959217   659970     262049        2136   \n",
       "1           India  33289579  443213  33264175   442874      25404         339   \n",
       "2          Brazil  21006424  587066  20999779   586851       6645         215   \n",
       "3  United Kingdom   7290168  134587   7259752   134525      30416          62   \n",
       "4          Russia   7055296  190031   7037435   189319      17861         712   \n",
       "\n",
       "   Fatality Rate      Continent  \n",
       "0           1.61  North America  \n",
       "1           1.33           Asia  \n",
       "2           2.79  South America  \n",
       "3           1.85         Europe  \n",
       "4           2.69         Europe  "
      ]
     },
     "execution_count": 13,
     "metadata": {},
     "output_type": "execute_result"
    }
   ],
   "source": [
    "#hide\n",
    "for c in 'Cases, Deaths'.split(', '):\n",
    "    df_table[f'{c} (+)'] = (df_table[c] - df_table[f'P{c}']).clip(0)\n",
    "    #Clip ça veut dire, les chiffres negatif sont interdit\n",
    "df_table['Fatality Rate'] = (100* df_table['Deaths']/ df_table['Cases']).round(2)\n",
    "df_table['Continent'] = df_table['Country/Region'].map(mapping['map.continent'])\n",
    "df_table.head(5)"
   ]
  },
  {
   "cell_type": "code",
   "execution_count": 14,
   "id": "aboriginal-bulgaria",
   "metadata": {
    "execution": {
     "iopub.execute_input": "2021-09-14T12:11:26.035242Z",
     "iopub.status.busy": "2021-09-14T12:11:26.034536Z",
     "iopub.status.idle": "2021-09-14T12:11:26.037600Z",
     "shell.execute_reply": "2021-09-14T12:11:26.038139Z"
    },
    "papermill": {
     "duration": 0.046694,
     "end_time": "2021-09-14T12:11:26.038307",
     "exception": false,
     "start_time": "2021-09-14T12:11:25.991613",
     "status": "completed"
    },
    "tags": []
   },
   "outputs": [],
   "source": [
    "#hide\n",
    "#delete problematic countries from table\n",
    "df_table = df_table[~df_table['Country/Region'].isin(['Cape Verde', 'Cruise Ship', 'Kosovo'])]"
   ]
  },
  {
   "cell_type": "code",
   "execution_count": 15,
   "id": "fantastic-effect",
   "metadata": {
    "execution": {
     "iopub.execute_input": "2021-09-14T12:11:26.117495Z",
     "iopub.status.busy": "2021-09-14T12:11:26.116729Z",
     "iopub.status.idle": "2021-09-14T12:11:26.138307Z",
     "shell.execute_reply": "2021-09-14T12:11:26.137785Z"
    },
    "papermill": {
     "duration": 0.065497,
     "end_time": "2021-09-14T12:11:26.138443",
     "exception": false,
     "start_time": "2021-09-14T12:11:26.072946",
     "status": "completed"
    },
    "tags": []
   },
   "outputs": [
    {
     "data": {
      "text/html": [
       "<div>\n",
       "<style scoped>\n",
       "    .dataframe tbody tr th:only-of-type {\n",
       "        vertical-align: middle;\n",
       "    }\n",
       "\n",
       "    .dataframe tbody tr th {\n",
       "        vertical-align: top;\n",
       "    }\n",
       "\n",
       "    .dataframe thead th {\n",
       "        text-align: right;\n",
       "    }\n",
       "</style>\n",
       "<table border=\"1\" class=\"dataframe\">\n",
       "  <thead>\n",
       "    <tr style=\"text-align: right;\">\n",
       "      <th></th>\n",
       "      <th>Country/Region</th>\n",
       "      <th>Cases</th>\n",
       "      <th>Deaths</th>\n",
       "      <th>PCases</th>\n",
       "      <th>PDeaths</th>\n",
       "      <th>Cases (+)</th>\n",
       "      <th>Deaths (+)</th>\n",
       "      <th>Fatality Rate</th>\n",
       "      <th>Continent</th>\n",
       "    </tr>\n",
       "  </thead>\n",
       "  <tbody>\n",
       "    <tr>\n",
       "      <th>0</th>\n",
       "      <td>US</td>\n",
       "      <td>41221266</td>\n",
       "      <td>662106</td>\n",
       "      <td>40959217</td>\n",
       "      <td>659970</td>\n",
       "      <td>262049</td>\n",
       "      <td>2136</td>\n",
       "      <td>1.6</td>\n",
       "      <td>North America</td>\n",
       "    </tr>\n",
       "    <tr>\n",
       "      <th>1</th>\n",
       "      <td>India</td>\n",
       "      <td>33289579</td>\n",
       "      <td>443213</td>\n",
       "      <td>33264175</td>\n",
       "      <td>442874</td>\n",
       "      <td>25404</td>\n",
       "      <td>339</td>\n",
       "      <td>1.3</td>\n",
       "      <td>Asia</td>\n",
       "    </tr>\n",
       "    <tr>\n",
       "      <th>2</th>\n",
       "      <td>Brazil</td>\n",
       "      <td>21006424</td>\n",
       "      <td>587066</td>\n",
       "      <td>20999779</td>\n",
       "      <td>586851</td>\n",
       "      <td>6645</td>\n",
       "      <td>215</td>\n",
       "      <td>2.8</td>\n",
       "      <td>South America</td>\n",
       "    </tr>\n",
       "    <tr>\n",
       "      <th>3</th>\n",
       "      <td>United Kingdom</td>\n",
       "      <td>7290168</td>\n",
       "      <td>134587</td>\n",
       "      <td>7259752</td>\n",
       "      <td>134525</td>\n",
       "      <td>30416</td>\n",
       "      <td>62</td>\n",
       "      <td>1.8</td>\n",
       "      <td>Europe</td>\n",
       "    </tr>\n",
       "    <tr>\n",
       "      <th>4</th>\n",
       "      <td>Russia</td>\n",
       "      <td>7055296</td>\n",
       "      <td>190031</td>\n",
       "      <td>7037435</td>\n",
       "      <td>189319</td>\n",
       "      <td>17861</td>\n",
       "      <td>712</td>\n",
       "      <td>2.7</td>\n",
       "      <td>Europe</td>\n",
       "    </tr>\n",
       "  </tbody>\n",
       "</table>\n",
       "</div>"
      ],
      "text/plain": [
       "   Country/Region     Cases  Deaths    PCases  PDeaths  Cases (+)  Deaths (+)  \\\n",
       "0              US  41221266  662106  40959217   659970     262049        2136   \n",
       "1           India  33289579  443213  33264175   442874      25404         339   \n",
       "2          Brazil  21006424  587066  20999779   586851       6645         215   \n",
       "3  United Kingdom   7290168  134587   7259752   134525      30416          62   \n",
       "4          Russia   7055296  190031   7037435   189319      17861         712   \n",
       "\n",
       "   Fatality Rate      Continent  \n",
       "0            1.6  North America  \n",
       "1            1.3           Asia  \n",
       "2            2.8  South America  \n",
       "3            1.8         Europe  \n",
       "4            2.7         Europe  "
      ]
     },
     "execution_count": 15,
     "metadata": {},
     "output_type": "execute_result"
    }
   ],
   "source": [
    "#hide\n",
    "df_table = (pd.DataFrame(dict(Cases=dfc_cases, Deaths=dfc_deaths, PCases=dfp_cases, PDeaths=dfp_deaths))\n",
    "             .sort_values(by=['Cases', 'Deaths'], ascending=[False, False])\n",
    "             .reset_index())\n",
    "df_table.rename(columns={'index': 'Country/Region'}, inplace=True)\n",
    "for c in 'Cases, Deaths'.split(', '):\n",
    "    df_table[f'{c} (+)'] = (df_table[c] - df_table[f'P{c}']).clip(0)  # DATA BUG\n",
    "df_table['Fatality Rate'] = (100 * df_table['Deaths'] / df_table['Cases']).round(1)\n",
    "df_table['Continent'] = df_table['Country/Region'].map(mapping['map.continent'])\n",
    "df_table.head(5)"
   ]
  },
  {
   "cell_type": "code",
   "execution_count": 16,
   "id": "fewer-occasion",
   "metadata": {
    "execution": {
     "iopub.execute_input": "2021-09-14T12:11:26.216308Z",
     "iopub.status.busy": "2021-09-14T12:11:26.215655Z",
     "iopub.status.idle": "2021-09-14T12:11:26.217890Z",
     "shell.execute_reply": "2021-09-14T12:11:26.219075Z"
    },
    "papermill": {
     "duration": 0.044085,
     "end_time": "2021-09-14T12:11:26.219209",
     "exception": false,
     "start_time": "2021-09-14T12:11:26.175124",
     "status": "completed"
    },
    "tags": []
   },
   "outputs": [],
   "source": [
    "#hide\n",
    "#delete problematic countries from table\n",
    "df_table = df_table[~df_table['Country/Region'].isin(['Cape Verde', 'Cruise Ship', 'Kosovo'])]"
   ]
  },
  {
   "cell_type": "code",
   "execution_count": 17,
   "id": "related-center",
   "metadata": {
    "execution": {
     "iopub.execute_input": "2021-09-14T12:11:26.302372Z",
     "iopub.status.busy": "2021-09-14T12:11:26.301486Z",
     "iopub.status.idle": "2021-09-14T12:11:26.318568Z",
     "shell.execute_reply": "2021-09-14T12:11:26.319058Z"
    },
    "papermill": {
     "duration": 0.061903,
     "end_time": "2021-09-14T12:11:26.319592",
     "exception": false,
     "start_time": "2021-09-14T12:11:26.257689",
     "status": "completed"
    },
    "tags": []
   },
   "outputs": [],
   "source": [
    "#hide\n",
    "metrics = [df_table.columns[index] for index in [1,2,5,6]]\n",
    "# s_china = df_table[df_table['Country/Region'].eq('China')][metrics].sum().add_prefix('China ')\n",
    "s_us = df_table[df_table['Country/Region'].eq('US')][metrics].sum().add_prefix('US ')\n",
    "s_eu = df_table[df_table['Continent'].eq('Europe')][metrics].sum().add_prefix('EU ')\n",
    "s_ind = df_table[df_table['Country/Region'].eq('India')][metrics].sum().add_prefix('India ')\n",
    "summary = {'updated': pd.to_datetime(dt_today), 'since': pd.to_datetime(dt_yday)}\n",
    "summary = {'updated': pd.to_datetime(dt_today), 'since': pd.to_datetime(dt_yday)}\n",
    "summary = {**summary, **df_table[metrics].sum(), **s_ind, **s_us, **s_eu}"
   ]
  },
  {
   "cell_type": "code",
   "execution_count": 18,
   "id": "engaging-syndrome",
   "metadata": {
    "execution": {
     "iopub.execute_input": "2021-09-14T12:11:26.408669Z",
     "iopub.status.busy": "2021-09-14T12:11:26.407989Z",
     "iopub.status.idle": "2021-09-14T12:11:26.423000Z",
     "shell.execute_reply": "2021-09-14T12:11:26.423528Z"
    },
    "papermill": {
     "duration": 0.062606,
     "end_time": "2021-09-14T12:11:26.423680",
     "exception": false,
     "start_time": "2021-09-14T12:11:26.361074",
     "status": "completed"
    },
    "tags": []
   },
   "outputs": [],
   "source": [
    "#hide\n",
    "dft_ct_new_cases = dft_cases.groupby(COL_REGION)[dt_cols].sum().diff(axis=1).fillna(0).astype(int)"
   ]
  },
  {
   "cell_type": "code",
   "execution_count": 19,
   "id": "neutral-assignment",
   "metadata": {
    "execution": {
     "iopub.execute_input": "2021-09-14T12:11:26.507229Z",
     "iopub.status.busy": "2021-09-14T12:11:26.505735Z",
     "iopub.status.idle": "2021-09-14T12:11:26.507962Z",
     "shell.execute_reply": "2021-09-14T12:11:26.508480Z"
    },
    "papermill": {
     "duration": 0.046293,
     "end_time": "2021-09-14T12:11:26.508643",
     "exception": false,
     "start_time": "2021-09-14T12:11:26.462350",
     "status": "completed"
    },
    "tags": []
   },
   "outputs": [],
   "source": [
    "#hide\n",
    "everydaycases = dft_ct_new_cases.cumsum(axis=1)"
   ]
  },
  {
   "cell_type": "code",
   "execution_count": 20,
   "id": "parliamentary-calgary",
   "metadata": {
    "execution": {
     "iopub.execute_input": "2021-09-14T12:11:26.589435Z",
     "iopub.status.busy": "2021-09-14T12:11:26.588784Z",
     "iopub.status.idle": "2021-09-14T12:11:27.205004Z",
     "shell.execute_reply": "2021-09-14T12:11:27.205535Z"
    },
    "papermill": {
     "duration": 0.658729,
     "end_time": "2021-09-14T12:11:27.205707",
     "exception": false,
     "start_time": "2021-09-14T12:11:26.546978",
     "status": "completed"
    },
    "tags": []
   },
   "outputs": [],
   "source": [
    "#hide\n",
    "import pandas as pd\n",
    "import matplotlib.pyplot as plt\n",
    "import matplotlib.ticker as ticker\n",
    "import matplotlib.animation as animation\n",
    "from IPython.display import HTML"
   ]
  },
  {
   "cell_type": "code",
   "execution_count": 21,
   "id": "lasting-extraction",
   "metadata": {
    "execution": {
     "iopub.execute_input": "2021-09-14T12:11:27.289986Z",
     "iopub.status.busy": "2021-09-14T12:11:27.289336Z",
     "iopub.status.idle": "2021-09-14T12:11:27.295173Z",
     "shell.execute_reply": "2021-09-14T12:11:27.295848Z"
    },
    "papermill": {
     "duration": 0.051579,
     "end_time": "2021-09-14T12:11:27.296034",
     "exception": false,
     "start_time": "2021-09-14T12:11:27.244455",
     "status": "completed"
    },
    "tags": []
   },
   "outputs": [],
   "source": [
    "#hide\n",
    "t = everydaycases.stack()"
   ]
  },
  {
   "cell_type": "code",
   "execution_count": 22,
   "id": "premier-sleeve",
   "metadata": {
    "execution": {
     "iopub.execute_input": "2021-09-14T12:11:27.378486Z",
     "iopub.status.busy": "2021-09-14T12:11:27.377755Z",
     "iopub.status.idle": "2021-09-14T12:11:27.387046Z",
     "shell.execute_reply": "2021-09-14T12:11:27.387721Z"
    },
    "papermill": {
     "duration": 0.053088,
     "end_time": "2021-09-14T12:11:27.387890",
     "exception": false,
     "start_time": "2021-09-14T12:11:27.334802",
     "status": "completed"
    },
    "tags": []
   },
   "outputs": [],
   "source": [
    "#hide\n",
    "g = t.reset_index(['Country/Region'])"
   ]
  },
  {
   "cell_type": "code",
   "execution_count": 23,
   "id": "distributed-pittsburgh",
   "metadata": {
    "execution": {
     "iopub.execute_input": "2021-09-14T12:11:27.469073Z",
     "iopub.status.busy": "2021-09-14T12:11:27.468347Z",
     "iopub.status.idle": "2021-09-14T12:11:27.471389Z",
     "shell.execute_reply": "2021-09-14T12:11:27.471944Z"
    },
    "papermill": {
     "duration": 0.046284,
     "end_time": "2021-09-14T12:11:27.472105",
     "exception": false,
     "start_time": "2021-09-14T12:11:27.425821",
     "status": "completed"
    },
    "tags": []
   },
   "outputs": [],
   "source": [
    "#hide\n",
    "g.index.name = 'date'"
   ]
  },
  {
   "cell_type": "code",
   "execution_count": 24,
   "id": "naked-donor",
   "metadata": {
    "execution": {
     "iopub.execute_input": "2021-09-14T12:11:27.551214Z",
     "iopub.status.busy": "2021-09-14T12:11:27.550417Z",
     "iopub.status.idle": "2021-09-14T12:11:27.553086Z",
     "shell.execute_reply": "2021-09-14T12:11:27.552604Z"
    },
    "papermill": {
     "duration": 0.044362,
     "end_time": "2021-09-14T12:11:27.553210",
     "exception": false,
     "start_time": "2021-09-14T12:11:27.508848",
     "status": "completed"
    },
    "tags": []
   },
   "outputs": [],
   "source": [
    "# #hide\n",
    "# g = g.reset_index(['date'])"
   ]
  },
  {
   "cell_type": "code",
   "execution_count": 25,
   "id": "incomplete-mustang",
   "metadata": {
    "execution": {
     "iopub.execute_input": "2021-09-14T12:11:27.628904Z",
     "iopub.status.busy": "2021-09-14T12:11:27.628312Z",
     "iopub.status.idle": "2021-09-14T12:11:27.630367Z",
     "shell.execute_reply": "2021-09-14T12:11:27.630868Z"
    },
    "papermill": {
     "duration": 0.041004,
     "end_time": "2021-09-14T12:11:27.630995",
     "exception": false,
     "start_time": "2021-09-14T12:11:27.589991",
     "status": "completed"
    },
    "tags": []
   },
   "outputs": [],
   "source": [
    "#hide\n",
    "# g.head()"
   ]
  },
  {
   "cell_type": "code",
   "execution_count": 26,
   "id": "specific-kruger",
   "metadata": {
    "execution": {
     "iopub.execute_input": "2021-09-14T12:11:27.708606Z",
     "iopub.status.busy": "2021-09-14T12:11:27.707954Z",
     "iopub.status.idle": "2021-09-14T12:11:27.709976Z",
     "shell.execute_reply": "2021-09-14T12:11:27.710698Z"
    },
    "papermill": {
     "duration": 0.04278,
     "end_time": "2021-09-14T12:11:27.710859",
     "exception": false,
     "start_time": "2021-09-14T12:11:27.668079",
     "status": "completed"
    },
    "tags": []
   },
   "outputs": [],
   "source": [
    "#hide\n",
    "# g.columns = ['date','country','cases']"
   ]
  },
  {
   "cell_type": "code",
   "execution_count": 27,
   "id": "tender-conversion",
   "metadata": {
    "execution": {
     "iopub.execute_input": "2021-09-14T12:11:27.787053Z",
     "iopub.status.busy": "2021-09-14T12:11:27.786381Z",
     "iopub.status.idle": "2021-09-14T12:11:27.788928Z",
     "shell.execute_reply": "2021-09-14T12:11:27.788399Z"
    },
    "papermill": {
     "duration": 0.041697,
     "end_time": "2021-09-14T12:11:27.789042",
     "exception": false,
     "start_time": "2021-09-14T12:11:27.747345",
     "status": "completed"
    },
    "tags": []
   },
   "outputs": [],
   "source": [
    "#hide\n",
    "# g['continent'] = g.country"
   ]
  },
  {
   "cell_type": "code",
   "execution_count": 28,
   "id": "substantial-wilderness",
   "metadata": {
    "execution": {
     "iopub.execute_input": "2021-09-14T12:11:27.863443Z",
     "iopub.status.busy": "2021-09-14T12:11:27.862848Z",
     "iopub.status.idle": "2021-09-14T12:11:27.865524Z",
     "shell.execute_reply": "2021-09-14T12:11:27.865058Z"
    },
    "papermill": {
     "duration": 0.040698,
     "end_time": "2021-09-14T12:11:27.865638",
     "exception": false,
     "start_time": "2021-09-14T12:11:27.824940",
     "status": "completed"
    },
    "tags": []
   },
   "outputs": [],
   "source": [
    "#hide\n",
    "# cols = list(g.columns.values)"
   ]
  },
  {
   "cell_type": "code",
   "execution_count": 29,
   "id": "solved-farming",
   "metadata": {
    "execution": {
     "iopub.execute_input": "2021-09-14T12:11:27.940483Z",
     "iopub.status.busy": "2021-09-14T12:11:27.939870Z",
     "iopub.status.idle": "2021-09-14T12:11:27.941923Z",
     "shell.execute_reply": "2021-09-14T12:11:27.942529Z"
    },
    "papermill": {
     "duration": 0.042097,
     "end_time": "2021-09-14T12:11:27.942669",
     "exception": false,
     "start_time": "2021-09-14T12:11:27.900572",
     "status": "completed"
    },
    "tags": []
   },
   "outputs": [],
   "source": [
    "#hide\n",
    "# cols.insert(0, cols.pop())"
   ]
  },
  {
   "cell_type": "code",
   "execution_count": 30,
   "id": "executed-adoption",
   "metadata": {
    "execution": {
     "iopub.execute_input": "2021-09-14T12:11:28.020099Z",
     "iopub.status.busy": "2021-09-14T12:11:28.019387Z",
     "iopub.status.idle": "2021-09-14T12:11:28.022472Z",
     "shell.execute_reply": "2021-09-14T12:11:28.021900Z"
    },
    "papermill": {
     "duration": 0.043976,
     "end_time": "2021-09-14T12:11:28.022599",
     "exception": false,
     "start_time": "2021-09-14T12:11:27.978623",
     "status": "completed"
    },
    "tags": []
   },
   "outputs": [],
   "source": [
    "#hide\n",
    "# g = g[cols]"
   ]
  },
  {
   "cell_type": "code",
   "execution_count": 31,
   "id": "subject-dublin",
   "metadata": {
    "execution": {
     "iopub.execute_input": "2021-09-14T12:11:28.104518Z",
     "iopub.status.busy": "2021-09-14T12:11:28.103868Z",
     "iopub.status.idle": "2021-09-14T12:11:28.106010Z",
     "shell.execute_reply": "2021-09-14T12:11:28.106611Z"
    },
    "papermill": {
     "duration": 0.045792,
     "end_time": "2021-09-14T12:11:28.106768",
     "exception": false,
     "start_time": "2021-09-14T12:11:28.060976",
     "status": "completed"
    },
    "tags": []
   },
   "outputs": [],
   "source": [
    "#hide\n",
    "# g['continent'] = g['continent'].map(mapping['map.continent'])"
   ]
  },
  {
   "cell_type": "code",
   "execution_count": 32,
   "id": "freelance-scout",
   "metadata": {
    "execution": {
     "iopub.execute_input": "2021-09-14T12:11:28.189388Z",
     "iopub.status.busy": "2021-09-14T12:11:28.188719Z",
     "iopub.status.idle": "2021-09-14T12:11:28.191224Z",
     "shell.execute_reply": "2021-09-14T12:11:28.190572Z"
    },
    "papermill": {
     "duration": 0.046778,
     "end_time": "2021-09-14T12:11:28.191366",
     "exception": false,
     "start_time": "2021-09-14T12:11:28.144588",
     "status": "completed"
    },
    "tags": []
   },
   "outputs": [],
   "source": [
    "#hide\n",
    "# g.head()"
   ]
  },
  {
   "cell_type": "code",
   "execution_count": 33,
   "id": "limited-engine",
   "metadata": {
    "execution": {
     "iopub.execute_input": "2021-09-14T12:11:28.273439Z",
     "iopub.status.busy": "2021-09-14T12:11:28.272762Z",
     "iopub.status.idle": "2021-09-14T12:11:28.275782Z",
     "shell.execute_reply": "2021-09-14T12:11:28.276387Z"
    },
    "papermill": {
     "duration": 0.046472,
     "end_time": "2021-09-14T12:11:28.276533",
     "exception": false,
     "start_time": "2021-09-14T12:11:28.230061",
     "status": "completed"
    },
    "tags": []
   },
   "outputs": [],
   "source": [
    "# hide\n",
    "# g['date'] = g['date'].astype('datetime64[ns]')"
   ]
  },
  {
   "cell_type": "code",
   "execution_count": 34,
   "id": "sophisticated-supervisor",
   "metadata": {
    "execution": {
     "iopub.execute_input": "2021-09-14T12:11:28.356875Z",
     "iopub.status.busy": "2021-09-14T12:11:28.356212Z",
     "iopub.status.idle": "2021-09-14T12:11:28.358496Z",
     "shell.execute_reply": "2021-09-14T12:11:28.359137Z"
    },
    "papermill": {
     "duration": 0.044783,
     "end_time": "2021-09-14T12:11:28.359281",
     "exception": false,
     "start_time": "2021-09-14T12:11:28.314498",
     "status": "completed"
    },
    "tags": []
   },
   "outputs": [],
   "source": [
    "#hide\n",
    "# g['date'] = g.date.dt.dayofyear"
   ]
  },
  {
   "cell_type": "code",
   "execution_count": 35,
   "id": "inside-dubai",
   "metadata": {
    "execution": {
     "iopub.execute_input": "2021-09-14T12:11:28.438467Z",
     "iopub.status.busy": "2021-09-14T12:11:28.437762Z",
     "iopub.status.idle": "2021-09-14T12:11:28.440098Z",
     "shell.execute_reply": "2021-09-14T12:11:28.440638Z"
    },
    "papermill": {
     "duration": 0.04478,
     "end_time": "2021-09-14T12:11:28.440801",
     "exception": false,
     "start_time": "2021-09-14T12:11:28.396021",
     "status": "completed"
    },
    "tags": []
   },
   "outputs": [],
   "source": [
    "#hide\n",
    "# g = g.rename(columns= {'continent':'group','country':'name','cases':'value'})"
   ]
  },
  {
   "cell_type": "code",
   "execution_count": 36,
   "id": "fleet-motorcycle",
   "metadata": {
    "execution": {
     "iopub.execute_input": "2021-09-14T12:11:28.520426Z",
     "iopub.status.busy": "2021-09-14T12:11:28.519346Z",
     "iopub.status.idle": "2021-09-14T12:11:28.522483Z",
     "shell.execute_reply": "2021-09-14T12:11:28.521852Z"
    },
    "papermill": {
     "duration": 0.044631,
     "end_time": "2021-09-14T12:11:28.522612",
     "exception": false,
     "start_time": "2021-09-14T12:11:28.477981",
     "status": "completed"
    },
    "tags": []
   },
   "outputs": [],
   "source": [
    "#hide\n",
    "# cols = ['name','group','day','value']"
   ]
  },
  {
   "cell_type": "code",
   "execution_count": 37,
   "id": "continued-sleeping",
   "metadata": {
    "execution": {
     "iopub.execute_input": "2021-09-14T12:11:28.605286Z",
     "iopub.status.busy": "2021-09-14T12:11:28.604631Z",
     "iopub.status.idle": "2021-09-14T12:11:28.606618Z",
     "shell.execute_reply": "2021-09-14T12:11:28.607277Z"
    },
    "papermill": {
     "duration": 0.045252,
     "end_time": "2021-09-14T12:11:28.607435",
     "exception": false,
     "start_time": "2021-09-14T12:11:28.562183",
     "status": "completed"
    },
    "tags": []
   },
   "outputs": [],
   "source": [
    "#hide\n",
    "# g.rename(columns= {'date':'day'},inplace = True)"
   ]
  },
  {
   "cell_type": "code",
   "execution_count": 38,
   "id": "major-fight",
   "metadata": {
    "execution": {
     "iopub.execute_input": "2021-09-14T12:11:28.687793Z",
     "iopub.status.busy": "2021-09-14T12:11:28.687140Z",
     "iopub.status.idle": "2021-09-14T12:11:28.689383Z",
     "shell.execute_reply": "2021-09-14T12:11:28.690019Z"
    },
    "papermill": {
     "duration": 0.044599,
     "end_time": "2021-09-14T12:11:28.690188",
     "exception": false,
     "start_time": "2021-09-14T12:11:28.645589",
     "status": "completed"
    },
    "tags": []
   },
   "outputs": [],
   "source": [
    "#hide\n",
    "# g = g[cols]"
   ]
  },
  {
   "cell_type": "code",
   "execution_count": 39,
   "id": "structured-mobile",
   "metadata": {
    "execution": {
     "iopub.execute_input": "2021-09-14T12:11:28.766742Z",
     "iopub.status.busy": "2021-09-14T12:11:28.766068Z",
     "iopub.status.idle": "2021-09-14T12:11:28.768266Z",
     "shell.execute_reply": "2021-09-14T12:11:28.768817Z"
    },
    "papermill": {
     "duration": 0.04174,
     "end_time": "2021-09-14T12:11:28.768982",
     "exception": false,
     "start_time": "2021-09-14T12:11:28.727242",
     "status": "completed"
    },
    "tags": []
   },
   "outputs": [],
   "source": [
    "# #hide\n",
    "# g = g[g.group.notna()]"
   ]
  },
  {
   "cell_type": "code",
   "execution_count": 40,
   "id": "determined-closing",
   "metadata": {
    "execution": {
     "iopub.execute_input": "2021-09-14T12:11:28.849475Z",
     "iopub.status.busy": "2021-09-14T12:11:28.848815Z",
     "iopub.status.idle": "2021-09-14T12:11:28.851467Z",
     "shell.execute_reply": "2021-09-14T12:11:28.850940Z"
    },
    "papermill": {
     "duration": 0.044924,
     "end_time": "2021-09-14T12:11:28.851603",
     "exception": false,
     "start_time": "2021-09-14T12:11:28.806679",
     "status": "completed"
    },
    "tags": []
   },
   "outputs": [],
   "source": [
    "# #hide\n",
    "# colors = dict(zip(\n",
    "#     [\"Oceania\", \"Europe\", \"Asia\", \"South America\", \"Middle East\", \"North America\", \"Africa\"],\n",
    "#     [\"#adb0ff\", \"#ffb3ff\", \"#90d595\", \"#e48381\", \"#aafbff\", \"#f7bb5f\", \"#eafb50\"]\n",
    "# ))\n",
    "# group_lk = g.set_index('name')['group'].to_dict()"
   ]
  },
  {
   "cell_type": "code",
   "execution_count": null,
   "id": "gross-drinking",
   "metadata": {
    "papermill": {
     "duration": 0.037688,
     "end_time": "2021-09-14T12:11:28.927267",
     "exception": false,
     "start_time": "2021-09-14T12:11:28.889579",
     "status": "completed"
    },
    "tags": []
   },
   "outputs": [],
   "source": []
  },
  {
   "cell_type": "code",
   "execution_count": 41,
   "id": "subject-macintosh",
   "metadata": {
    "execution": {
     "iopub.execute_input": "2021-09-14T12:11:29.005321Z",
     "iopub.status.busy": "2021-09-14T12:11:29.004474Z",
     "iopub.status.idle": "2021-09-14T12:11:29.007255Z",
     "shell.execute_reply": "2021-09-14T12:11:29.006702Z"
    },
    "papermill": {
     "duration": 0.043359,
     "end_time": "2021-09-14T12:11:29.007374",
     "exception": false,
     "start_time": "2021-09-14T12:11:28.964015",
     "status": "completed"
    },
    "tags": []
   },
   "outputs": [],
   "source": [
    "# #hide\n",
    "# fig, ax = plt.subplots(figsize=(15, 8))\n",
    "\n",
    "# def draw_barchart(current_day):\n",
    "#     dff = g[g['day'].eq(current_day)].sort_values(by='value', ascending=True).tail(10)\n",
    "#     ax.clear()\n",
    "#     ax.barh(dff['name'], dff['value'], color=[colors[group_lk[x]] for x in dff['name']])\n",
    "#     dx = dff['value'].max() / 200\n",
    "    \n",
    "#     for i, (value, name) in enumerate(zip(dff['value'], dff['name'])):\n",
    "#         ax.text(value-dx, i,     name,           size=14, weight=600, ha='right', va='bottom')\n",
    "#         ax.text(value-dx, i-.25, group_lk[name], size=10, color='#444444', ha='right', va='baseline')\n",
    "#         ax.text(value+dx, i,     f'{value:,.0f}',  size=14, ha='left',  va='center')\n",
    "#     ax.text(1, 0.4, current_day, transform=ax.transAxes, color='#777777', size=46, ha='right', weight=800)\n",
    "#     ax.text(0, 1.06, 'Population (thousands)', transform=ax.transAxes, size=12, color='#777777')\n",
    "#     ax.xaxis.set_major_formatter(ticker.StrMethodFormatter('{x:,.0f}'))\n",
    "#     ax.xaxis.set_ticks_position('top')\n",
    "#     ax.tick_params(axis='x', colors='#777777', labelsize=12)\n",
    "#     ax.set_yticks([])\n",
    "#     ax.margins(0, 0.01)\n",
    "#     ax.grid(which='major', axis='x', linestyle='-')\n",
    "#     ax.set_axisbelow(True)\n",
    "    \n",
    "#     ax.text(0, 1.15, 'Coronavirus',\n",
    "#             transform=ax.transAxes, size=24, weight=600, ha='left', va='top')\n",
    "# #     ax.text(1, 0, 'by @pratapvardhan; credit @jburnmurdoch', transform=ax.transAxes, color='#777777', ha='right',\n",
    "# #             bbox=dict(facecolor='white', alpha=0.8, edgecolor='white'))\n",
    "#     plt.box(False)"
   ]
  },
  {
   "cell_type": "code",
   "execution_count": 42,
   "id": "sexual-wages",
   "metadata": {
    "execution": {
     "iopub.execute_input": "2021-09-14T12:11:29.089104Z",
     "iopub.status.busy": "2021-09-14T12:11:29.088437Z",
     "iopub.status.idle": "2021-09-14T12:11:29.090437Z",
     "shell.execute_reply": "2021-09-14T12:11:29.091036Z"
    },
    "papermill": {
     "duration": 0.047171,
     "end_time": "2021-09-14T12:11:29.091172",
     "exception": false,
     "start_time": "2021-09-14T12:11:29.044001",
     "status": "completed"
    },
    "tags": []
   },
   "outputs": [],
   "source": [
    "# #hide_input\n",
    "# fig, ax = plt.subplots(figsize=(15, 8))\n",
    "# animator = animation.FuncAnimation(fig, draw_barchart, frames=range(g.day.values.min(), g.day.values.max()))\n",
    "# HTML(animator.to_jshtml())\n",
    "# # or use animator.to_html5_video() or animator.save() "
   ]
  },
  {
   "cell_type": "code",
   "execution_count": null,
   "id": "australian-container",
   "metadata": {
    "papermill": {
     "duration": 0.039745,
     "end_time": "2021-09-14T12:11:29.167962",
     "exception": false,
     "start_time": "2021-09-14T12:11:29.128217",
     "status": "completed"
    },
    "tags": []
   },
   "outputs": [],
   "source": []
  },
  {
   "cell_type": "code",
   "execution_count": null,
   "id": "mediterranean-pontiac",
   "metadata": {
    "papermill": {
     "duration": 0.038142,
     "end_time": "2021-09-14T12:11:29.244275",
     "exception": false,
     "start_time": "2021-09-14T12:11:29.206133",
     "status": "completed"
    },
    "tags": []
   },
   "outputs": [],
   "source": []
  },
  {
   "cell_type": "code",
   "execution_count": null,
   "id": "aging-legislature",
   "metadata": {
    "papermill": {
     "duration": 0.036795,
     "end_time": "2021-09-14T12:11:29.319988",
     "exception": false,
     "start_time": "2021-09-14T12:11:29.283193",
     "status": "completed"
    },
    "tags": []
   },
   "outputs": [],
   "source": []
  }
 ],
 "metadata": {
  "kernelspec": {
   "display_name": "Python 3",
   "language": "python",
   "name": "python3"
  },
  "language_info": {
   "codemirror_mode": {
    "name": "ipython",
    "version": 3
   },
   "file_extension": ".py",
   "mimetype": "text/x-python",
   "name": "python",
   "nbconvert_exporter": "python",
   "pygments_lexer": "ipython3",
   "version": "3.6.14"
  },
  "papermill": {
   "duration": 6.743277,
   "end_time": "2021-09-14T12:11:29.667089",
   "environment_variables": {},
   "exception": null,
   "input_path": "2020-03-21-covid19exp.ipynb",
   "output_path": "2020-03-21-covid19exp.ipynb",
   "parameters": {},
   "start_time": "2021-09-14T12:11:22.923812",
   "version": "2.0.0"
  }
 },
 "nbformat": 4,
 "nbformat_minor": 5
}