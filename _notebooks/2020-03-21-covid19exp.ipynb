{
 "cells": [
  {
   "cell_type": "markdown",
   "id": "muslim-click",
   "metadata": {
    "papermill": {
     "duration": 0.037751,
     "end_time": "2022-07-17T12:15:24.752909",
     "exception": false,
     "start_time": "2022-07-17T12:15:24.715158",
     "status": "completed"
    },
    "tags": []
   },
   "source": [
    "# COVID-19 Case Race\n",
    "> A race chart to see rising cases around the world\n",
    "\n",
    "- author: Hargun Oberoi\n",
    "- image: images/covid-overview.png\n",
    "- hide: false\n",
    "- badges: false"
   ]
  },
  {
   "cell_type": "code",
   "execution_count": 1,
   "id": "proof-material",
   "metadata": {
    "execution": {
     "iopub.execute_input": "2022-07-17T12:15:24.830031Z",
     "iopub.status.busy": "2022-07-17T12:15:24.829355Z",
     "iopub.status.idle": "2022-07-17T12:15:25.210553Z",
     "shell.execute_reply": "2022-07-17T12:15:25.209646Z"
    },
    "papermill": {
     "duration": 0.423435,
     "end_time": "2022-07-17T12:15:25.210764",
     "exception": false,
     "start_time": "2022-07-17T12:15:24.787329",
     "status": "completed"
    },
    "tags": []
   },
   "outputs": [],
   "source": [
    "#hide\n",
    "import numpy as np\n",
    "import pandas as pd\n",
    "from jinja2 import Template\n",
    "from IPython.display import HTML"
   ]
  },
  {
   "cell_type": "code",
   "execution_count": 2,
   "id": "developed-terminology",
   "metadata": {
    "execution": {
     "iopub.execute_input": "2022-07-17T12:15:25.283159Z",
     "iopub.status.busy": "2022-07-17T12:15:25.282483Z",
     "iopub.status.idle": "2022-07-17T12:15:25.285699Z",
     "shell.execute_reply": "2022-07-17T12:15:25.285135Z"
    },
    "papermill": {
     "duration": 0.041374,
     "end_time": "2022-07-17T12:15:25.285823",
     "exception": false,
     "start_time": "2022-07-17T12:15:25.244449",
     "status": "completed"
    },
    "tags": []
   },
   "outputs": [],
   "source": [
    "#hide\n",
    "\n",
    "# FETCH\n",
    "base_url = 'https://raw.githubusercontent.com/pratapvardhan/notebooks/master/covid19/'\n",
    "paths = {\n",
    "    'mapping': base_url + 'mapping_countries.csv',\n",
    "    'overview': base_url + 'overview.tpl'\n",
    "}"
   ]
  },
  {
   "cell_type": "code",
   "execution_count": 3,
   "id": "dynamic-saver",
   "metadata": {
    "execution": {
     "iopub.execute_input": "2022-07-17T12:15:25.360738Z",
     "iopub.status.busy": "2022-07-17T12:15:25.356931Z",
     "iopub.status.idle": "2022-07-17T12:15:25.363508Z",
     "shell.execute_reply": "2022-07-17T12:15:25.363867Z"
    },
    "papermill": {
     "duration": 0.04686,
     "end_time": "2022-07-17T12:15:25.364003",
     "exception": false,
     "start_time": "2022-07-17T12:15:25.317143",
     "status": "completed"
    },
    "tags": []
   },
   "outputs": [
    {
     "data": {
      "text/plain": [
       "'https://raw.githubusercontent.com/pratapvardhan/notebooks/master/covid19/mapping_countries.csv'"
      ]
     },
     "execution_count": 3,
     "metadata": {},
     "output_type": "execute_result"
    }
   ],
   "source": [
    "#hide\n",
    "paths['mapping']"
   ]
  },
  {
   "cell_type": "code",
   "execution_count": 4,
   "id": "urban-software",
   "metadata": {
    "execution": {
     "iopub.execute_input": "2022-07-17T12:15:25.432189Z",
     "iopub.status.busy": "2022-07-17T12:15:25.431615Z",
     "iopub.status.idle": "2022-07-17T12:15:25.434363Z",
     "shell.execute_reply": "2022-07-17T12:15:25.433714Z"
    },
    "papermill": {
     "duration": 0.039739,
     "end_time": "2022-07-17T12:15:25.434499",
     "exception": false,
     "start_time": "2022-07-17T12:15:25.394760",
     "status": "completed"
    },
    "tags": []
   },
   "outputs": [],
   "source": [
    "#hide\n",
    "def get_mappings(url):\n",
    "    df = pd.read_csv(url)\n",
    "    return {\n",
    "        'df': df,\n",
    "        'replace.country': dict(df.dropna(subset=['Name']).set_index('Country')['Name']),\n",
    "        'map.continent': dict(df.set_index('Name')['Continent'])\n",
    "    }"
   ]
  },
  {
   "cell_type": "code",
   "execution_count": 5,
   "id": "intimate-machinery",
   "metadata": {
    "execution": {
     "iopub.execute_input": "2022-07-17T12:15:25.505157Z",
     "iopub.status.busy": "2022-07-17T12:15:25.504617Z",
     "iopub.status.idle": "2022-07-17T12:15:25.554249Z",
     "shell.execute_reply": "2022-07-17T12:15:25.553328Z"
    },
    "papermill": {
     "duration": 0.087817,
     "end_time": "2022-07-17T12:15:25.554473",
     "exception": false,
     "start_time": "2022-07-17T12:15:25.466656",
     "status": "completed"
    },
    "tags": []
   },
   "outputs": [],
   "source": [
    "#hide\n",
    "mapping = get_mappings(paths['mapping'])"
   ]
  },
  {
   "cell_type": "code",
   "execution_count": 6,
   "id": "certified-tactics",
   "metadata": {
    "execution": {
     "iopub.execute_input": "2022-07-17T12:15:25.628284Z",
     "iopub.status.busy": "2022-07-17T12:15:25.627642Z",
     "iopub.status.idle": "2022-07-17T12:15:25.631199Z",
     "shell.execute_reply": "2022-07-17T12:15:25.631897Z"
    },
    "papermill": {
     "duration": 0.04329,
     "end_time": "2022-07-17T12:15:25.632046",
     "exception": false,
     "start_time": "2022-07-17T12:15:25.588756",
     "status": "completed"
    },
    "tags": []
   },
   "outputs": [],
   "source": [
    "#hide\n",
    "def get_template(path):\n",
    "    from urllib.parse import urlparse\n",
    "    if bool(urlparse(path).netloc):\n",
    "        from urllib.request import urlopen\n",
    "        return urlopen(path).read().decode('utf8')\n",
    "    return open(path).read()"
   ]
  },
  {
   "cell_type": "code",
   "execution_count": 7,
   "id": "realistic-blast",
   "metadata": {
    "execution": {
     "iopub.execute_input": "2022-07-17T12:15:25.703411Z",
     "iopub.status.busy": "2022-07-17T12:15:25.702846Z",
     "iopub.status.idle": "2022-07-17T12:15:25.705269Z",
     "shell.execute_reply": "2022-07-17T12:15:25.704728Z"
    },
    "papermill": {
     "duration": 0.041992,
     "end_time": "2022-07-17T12:15:25.705372",
     "exception": false,
     "start_time": "2022-07-17T12:15:25.663380",
     "status": "completed"
    },
    "tags": []
   },
   "outputs": [],
   "source": [
    "#hide\n",
    "def get_frame(name):\n",
    "    url = (\n",
    "        'https://raw.githubusercontent.com/CSSEGISandData/COVID-19/master/csse_covid_19_data/'\n",
    "        f'csse_covid_19_time_series/time_series_covid19_{name}_global.csv')\n",
    "    df = pd.read_csv(url)\n",
    "    # rename countries\n",
    "    df['Country/Region'] = df['Country/Region'].replace(mapping['replace.country'])\n",
    "    return df"
   ]
  },
  {
   "cell_type": "code",
   "execution_count": 8,
   "id": "affiliated-characterization",
   "metadata": {
    "execution": {
     "iopub.execute_input": "2022-07-17T12:15:25.775638Z",
     "iopub.status.busy": "2022-07-17T12:15:25.775039Z",
     "iopub.status.idle": "2022-07-17T12:15:25.778571Z",
     "shell.execute_reply": "2022-07-17T12:15:25.778064Z"
    },
    "papermill": {
     "duration": 0.041967,
     "end_time": "2022-07-17T12:15:25.778682",
     "exception": false,
     "start_time": "2022-07-17T12:15:25.736715",
     "status": "completed"
    },
    "tags": []
   },
   "outputs": [],
   "source": [
    "#hide\n",
    "def get_dates(df):\n",
    "    dt_cols = df.columns[~df.columns.isin(['Province/State', 'Country/Region', 'Lat', 'Long'])]\n",
    "    LAST_DATE_I = -1\n",
    "    # sometimes last column may be empty, then go backwards\n",
    "    for i in range(-1, -len(dt_cols), -1):\n",
    "        if not df[dt_cols[i]].fillna(0).eq(0).all():\n",
    "            LAST_DATE_I = i\n",
    "            break\n",
    "    return LAST_DATE_I, dt_cols"
   ]
  },
  {
   "cell_type": "code",
   "execution_count": 9,
   "id": "recent-optimization",
   "metadata": {
    "execution": {
     "iopub.execute_input": "2022-07-17T12:15:25.846478Z",
     "iopub.status.busy": "2022-07-17T12:15:25.845720Z",
     "iopub.status.idle": "2022-07-17T12:15:26.262055Z",
     "shell.execute_reply": "2022-07-17T12:15:26.260858Z"
    },
    "papermill": {
     "duration": 0.453305,
     "end_time": "2022-07-17T12:15:26.262187",
     "exception": false,
     "start_time": "2022-07-17T12:15:25.808882",
     "status": "completed"
    },
    "tags": []
   },
   "outputs": [],
   "source": [
    "#hide\n",
    "COL_REGION = 'Country/Region'\n",
    "# Confirmed, Recovered, Deaths\n",
    "df = get_frame('confirmed')\n",
    "# dft_: timeseries, dfc_: today country agg\n",
    "dft_cases = df\n",
    "dft_deaths = get_frame('deaths')\n",
    "dft_recovered = get_frame('recovered')\n",
    "LAST_DATE_I, dt_cols = get_dates(df)"
   ]
  },
  {
   "cell_type": "code",
   "execution_count": 10,
   "id": "absolute-copper",
   "metadata": {
    "execution": {
     "iopub.execute_input": "2022-07-17T12:15:26.333063Z",
     "iopub.status.busy": "2022-07-17T12:15:26.332446Z",
     "iopub.status.idle": "2022-07-17T12:15:26.334999Z",
     "shell.execute_reply": "2022-07-17T12:15:26.335369Z"
    },
    "papermill": {
     "duration": 0.041073,
     "end_time": "2022-07-17T12:15:26.335502",
     "exception": false,
     "start_time": "2022-07-17T12:15:26.294429",
     "status": "completed"
    },
    "tags": []
   },
   "outputs": [],
   "source": [
    "#hide\n",
    "LAST_DATE_I, dt_cols = get_dates(df)\n",
    "dt_today =dt_cols[LAST_DATE_I]\n",
    "# dt_5day = dt_cols[LAST_DATE_I - 5]\n",
    "dt_yday = dt_cols[LAST_DATE_I - 1]"
   ]
  },
  {
   "cell_type": "code",
   "execution_count": 11,
   "id": "restricted-sheriff",
   "metadata": {
    "execution": {
     "iopub.execute_input": "2022-07-17T12:15:26.409675Z",
     "iopub.status.busy": "2022-07-17T12:15:26.404926Z",
     "iopub.status.idle": "2022-07-17T12:15:26.412617Z",
     "shell.execute_reply": "2022-07-17T12:15:26.412007Z"
    },
    "papermill": {
     "duration": 0.045224,
     "end_time": "2022-07-17T12:15:26.412734",
     "exception": false,
     "start_time": "2022-07-17T12:15:26.367510",
     "status": "completed"
    },
    "tags": []
   },
   "outputs": [],
   "source": [
    "#hide\n",
    "dfc_cases = dft_cases.groupby(COL_REGION)[dt_today].sum()\n",
    "dfc_deaths = dft_deaths.groupby(COL_REGION)[dt_today].sum()\n",
    "# dfp_cases = dft_cases.groupby(COL_REGION)[dt_5day].sum()\n",
    "# dfp_deaths = dft_deaths.groupby(COL_REGION)[dt_5day].sum()\n",
    "dfp_cases = dft_cases.groupby(COL_REGION)[dt_yday].sum()\n",
    "dfp_deaths = dft_deaths.groupby(COL_REGION)[dt_yday].sum()"
   ]
  },
  {
   "cell_type": "code",
   "execution_count": 12,
   "id": "deluxe-hepatitis",
   "metadata": {
    "execution": {
     "iopub.execute_input": "2022-07-17T12:15:26.488386Z",
     "iopub.status.busy": "2022-07-17T12:15:26.486185Z",
     "iopub.status.idle": "2022-07-17T12:15:26.491452Z",
     "shell.execute_reply": "2022-07-17T12:15:26.490908Z"
    },
    "papermill": {
     "duration": 0.045164,
     "end_time": "2022-07-17T12:15:26.491584",
     "exception": false,
     "start_time": "2022-07-17T12:15:26.446420",
     "status": "completed"
    },
    "tags": []
   },
   "outputs": [],
   "source": [
    "#hide\n",
    "df_table = (pd.DataFrame(dict(Cases = dfc_cases, Deaths = dfc_deaths, PCases = dfp_cases, PDeaths = dfp_deaths))\n",
    "            .sort_values(by = ['Cases','Deaths'], ascending = [False, False])\n",
    "            .reset_index())"
   ]
  },
  {
   "cell_type": "code",
   "execution_count": 13,
   "id": "educational-chancellor",
   "metadata": {
    "execution": {
     "iopub.execute_input": "2022-07-17T12:15:26.565520Z",
     "iopub.status.busy": "2022-07-17T12:15:26.564829Z",
     "iopub.status.idle": "2022-07-17T12:15:26.594697Z",
     "shell.execute_reply": "2022-07-17T12:15:26.595299Z"
    },
    "papermill": {
     "duration": 0.069803,
     "end_time": "2022-07-17T12:15:26.595473",
     "exception": false,
     "start_time": "2022-07-17T12:15:26.525670",
     "status": "completed"
    },
    "tags": []
   },
   "outputs": [
    {
     "data": {
      "text/html": [
       "<div>\n",
       "<style scoped>\n",
       "    .dataframe tbody tr th:only-of-type {\n",
       "        vertical-align: middle;\n",
       "    }\n",
       "\n",
       "    .dataframe tbody tr th {\n",
       "        vertical-align: top;\n",
       "    }\n",
       "\n",
       "    .dataframe thead th {\n",
       "        text-align: right;\n",
       "    }\n",
       "</style>\n",
       "<table border=\"1\" class=\"dataframe\">\n",
       "  <thead>\n",
       "    <tr style=\"text-align: right;\">\n",
       "      <th></th>\n",
       "      <th>Country/Region</th>\n",
       "      <th>Cases</th>\n",
       "      <th>Deaths</th>\n",
       "      <th>PCases</th>\n",
       "      <th>PDeaths</th>\n",
       "      <th>Cases (+)</th>\n",
       "      <th>Deaths (+)</th>\n",
       "      <th>Fatality Rate</th>\n",
       "      <th>Continent</th>\n",
       "    </tr>\n",
       "  </thead>\n",
       "  <tbody>\n",
       "    <tr>\n",
       "      <th>0</th>\n",
       "      <td>US</td>\n",
       "      <td>89521016</td>\n",
       "      <td>1023788</td>\n",
       "      <td>89453076</td>\n",
       "      <td>1023736</td>\n",
       "      <td>67940</td>\n",
       "      <td>52</td>\n",
       "      <td>1.14</td>\n",
       "      <td>North America</td>\n",
       "    </tr>\n",
       "    <tr>\n",
       "      <th>1</th>\n",
       "      <td>India</td>\n",
       "      <td>43750599</td>\n",
       "      <td>525709</td>\n",
       "      <td>43730071</td>\n",
       "      <td>525660</td>\n",
       "      <td>20528</td>\n",
       "      <td>49</td>\n",
       "      <td>1.20</td>\n",
       "      <td>Asia</td>\n",
       "    </tr>\n",
       "    <tr>\n",
       "      <th>2</th>\n",
       "      <td>Brazil</td>\n",
       "      <td>33290266</td>\n",
       "      <td>675295</td>\n",
       "      <td>33250117</td>\n",
       "      <td>675090</td>\n",
       "      <td>40149</td>\n",
       "      <td>205</td>\n",
       "      <td>2.03</td>\n",
       "      <td>South America</td>\n",
       "    </tr>\n",
       "    <tr>\n",
       "      <th>3</th>\n",
       "      <td>France</td>\n",
       "      <td>32881809</td>\n",
       "      <td>151454</td>\n",
       "      <td>32881809</td>\n",
       "      <td>151454</td>\n",
       "      <td>0</td>\n",
       "      <td>0</td>\n",
       "      <td>0.46</td>\n",
       "      <td>Europe</td>\n",
       "    </tr>\n",
       "    <tr>\n",
       "      <th>4</th>\n",
       "      <td>Germany</td>\n",
       "      <td>29692989</td>\n",
       "      <td>142533</td>\n",
       "      <td>29692989</td>\n",
       "      <td>142533</td>\n",
       "      <td>0</td>\n",
       "      <td>0</td>\n",
       "      <td>0.48</td>\n",
       "      <td>Europe</td>\n",
       "    </tr>\n",
       "  </tbody>\n",
       "</table>\n",
       "</div>"
      ],
      "text/plain": [
       "  Country/Region     Cases   Deaths    PCases  PDeaths  Cases (+)  Deaths (+)  \\\n",
       "0             US  89521016  1023788  89453076  1023736      67940          52   \n",
       "1          India  43750599   525709  43730071   525660      20528          49   \n",
       "2         Brazil  33290266   675295  33250117   675090      40149         205   \n",
       "3         France  32881809   151454  32881809   151454          0           0   \n",
       "4        Germany  29692989   142533  29692989   142533          0           0   \n",
       "\n",
       "   Fatality Rate      Continent  \n",
       "0           1.14  North America  \n",
       "1           1.20           Asia  \n",
       "2           2.03  South America  \n",
       "3           0.46         Europe  \n",
       "4           0.48         Europe  "
      ]
     },
     "execution_count": 13,
     "metadata": {},
     "output_type": "execute_result"
    }
   ],
   "source": [
    "#hide\n",
    "for c in 'Cases, Deaths'.split(', '):\n",
    "    df_table[f'{c} (+)'] = (df_table[c] - df_table[f'P{c}']).clip(0)\n",
    "    #Clip ça veut dire, les chiffres negatif sont interdit\n",
    "df_table['Fatality Rate'] = (100* df_table['Deaths']/ df_table['Cases']).round(2)\n",
    "df_table['Continent'] = df_table['Country/Region'].map(mapping['map.continent'])\n",
    "df_table.head(5)"
   ]
  },
  {
   "cell_type": "code",
   "execution_count": 14,
   "id": "aboriginal-bulgaria",
   "metadata": {
    "execution": {
     "iopub.execute_input": "2022-07-17T12:15:26.726391Z",
     "iopub.status.busy": "2022-07-17T12:15:26.725709Z",
     "iopub.status.idle": "2022-07-17T12:15:26.728124Z",
     "shell.execute_reply": "2022-07-17T12:15:26.728641Z"
    },
    "papermill": {
     "duration": 0.085613,
     "end_time": "2022-07-17T12:15:26.728812",
     "exception": false,
     "start_time": "2022-07-17T12:15:26.643199",
     "status": "completed"
    },
    "tags": []
   },
   "outputs": [],
   "source": [
    "#hide\n",
    "#delete problematic countries from table\n",
    "df_table = df_table[~df_table['Country/Region'].isin(['Cape Verde', 'Cruise Ship', 'Kosovo'])]"
   ]
  },
  {
   "cell_type": "code",
   "execution_count": 15,
   "id": "fantastic-effect",
   "metadata": {
    "execution": {
     "iopub.execute_input": "2022-07-17T12:15:26.921186Z",
     "iopub.status.busy": "2022-07-17T12:15:26.920468Z",
     "iopub.status.idle": "2022-07-17T12:15:26.942559Z",
     "shell.execute_reply": "2022-07-17T12:15:26.942043Z"
    },
    "papermill": {
     "duration": 0.13303,
     "end_time": "2022-07-17T12:15:26.942670",
     "exception": false,
     "start_time": "2022-07-17T12:15:26.809640",
     "status": "completed"
    },
    "tags": []
   },
   "outputs": [
    {
     "data": {
      "text/html": [
       "<div>\n",
       "<style scoped>\n",
       "    .dataframe tbody tr th:only-of-type {\n",
       "        vertical-align: middle;\n",
       "    }\n",
       "\n",
       "    .dataframe tbody tr th {\n",
       "        vertical-align: top;\n",
       "    }\n",
       "\n",
       "    .dataframe thead th {\n",
       "        text-align: right;\n",
       "    }\n",
       "</style>\n",
       "<table border=\"1\" class=\"dataframe\">\n",
       "  <thead>\n",
       "    <tr style=\"text-align: right;\">\n",
       "      <th></th>\n",
       "      <th>Country/Region</th>\n",
       "      <th>Cases</th>\n",
       "      <th>Deaths</th>\n",
       "      <th>PCases</th>\n",
       "      <th>PDeaths</th>\n",
       "      <th>Cases (+)</th>\n",
       "      <th>Deaths (+)</th>\n",
       "      <th>Fatality Rate</th>\n",
       "      <th>Continent</th>\n",
       "    </tr>\n",
       "  </thead>\n",
       "  <tbody>\n",
       "    <tr>\n",
       "      <th>0</th>\n",
       "      <td>US</td>\n",
       "      <td>89521016</td>\n",
       "      <td>1023788</td>\n",
       "      <td>89453076</td>\n",
       "      <td>1023736</td>\n",
       "      <td>67940</td>\n",
       "      <td>52</td>\n",
       "      <td>1.1</td>\n",
       "      <td>North America</td>\n",
       "    </tr>\n",
       "    <tr>\n",
       "      <th>1</th>\n",
       "      <td>India</td>\n",
       "      <td>43750599</td>\n",
       "      <td>525709</td>\n",
       "      <td>43730071</td>\n",
       "      <td>525660</td>\n",
       "      <td>20528</td>\n",
       "      <td>49</td>\n",
       "      <td>1.2</td>\n",
       "      <td>Asia</td>\n",
       "    </tr>\n",
       "    <tr>\n",
       "      <th>2</th>\n",
       "      <td>Brazil</td>\n",
       "      <td>33290266</td>\n",
       "      <td>675295</td>\n",
       "      <td>33250117</td>\n",
       "      <td>675090</td>\n",
       "      <td>40149</td>\n",
       "      <td>205</td>\n",
       "      <td>2.0</td>\n",
       "      <td>South America</td>\n",
       "    </tr>\n",
       "    <tr>\n",
       "      <th>3</th>\n",
       "      <td>France</td>\n",
       "      <td>32881809</td>\n",
       "      <td>151454</td>\n",
       "      <td>32881809</td>\n",
       "      <td>151454</td>\n",
       "      <td>0</td>\n",
       "      <td>0</td>\n",
       "      <td>0.5</td>\n",
       "      <td>Europe</td>\n",
       "    </tr>\n",
       "    <tr>\n",
       "      <th>4</th>\n",
       "      <td>Germany</td>\n",
       "      <td>29692989</td>\n",
       "      <td>142533</td>\n",
       "      <td>29692989</td>\n",
       "      <td>142533</td>\n",
       "      <td>0</td>\n",
       "      <td>0</td>\n",
       "      <td>0.5</td>\n",
       "      <td>Europe</td>\n",
       "    </tr>\n",
       "  </tbody>\n",
       "</table>\n",
       "</div>"
      ],
      "text/plain": [
       "  Country/Region     Cases   Deaths    PCases  PDeaths  Cases (+)  Deaths (+)  \\\n",
       "0             US  89521016  1023788  89453076  1023736      67940          52   \n",
       "1          India  43750599   525709  43730071   525660      20528          49   \n",
       "2         Brazil  33290266   675295  33250117   675090      40149         205   \n",
       "3         France  32881809   151454  32881809   151454          0           0   \n",
       "4        Germany  29692989   142533  29692989   142533          0           0   \n",
       "\n",
       "   Fatality Rate      Continent  \n",
       "0            1.1  North America  \n",
       "1            1.2           Asia  \n",
       "2            2.0  South America  \n",
       "3            0.5         Europe  \n",
       "4            0.5         Europe  "
      ]
     },
     "execution_count": 15,
     "metadata": {},
     "output_type": "execute_result"
    }
   ],
   "source": [
    "#hide\n",
    "df_table = (pd.DataFrame(dict(Cases=dfc_cases, Deaths=dfc_deaths, PCases=dfp_cases, PDeaths=dfp_deaths))\n",
    "             .sort_values(by=['Cases', 'Deaths'], ascending=[False, False])\n",
    "             .reset_index())\n",
    "df_table.rename(columns={'index': 'Country/Region'}, inplace=True)\n",
    "for c in 'Cases, Deaths'.split(', '):\n",
    "    df_table[f'{c} (+)'] = (df_table[c] - df_table[f'P{c}']).clip(0)  # DATA BUG\n",
    "df_table['Fatality Rate'] = (100 * df_table['Deaths'] / df_table['Cases']).round(1)\n",
    "df_table['Continent'] = df_table['Country/Region'].map(mapping['map.continent'])\n",
    "df_table.head(5)"
   ]
  },
  {
   "cell_type": "code",
   "execution_count": 16,
   "id": "fewer-occasion",
   "metadata": {
    "execution": {
     "iopub.execute_input": "2022-07-17T12:15:27.063821Z",
     "iopub.status.busy": "2022-07-17T12:15:27.062994Z",
     "iopub.status.idle": "2022-07-17T12:15:27.064478Z",
     "shell.execute_reply": "2022-07-17T12:15:27.065125Z"
    },
    "papermill": {
     "duration": 0.054438,
     "end_time": "2022-07-17T12:15:27.065275",
     "exception": false,
     "start_time": "2022-07-17T12:15:27.010837",
     "status": "completed"
    },
    "tags": []
   },
   "outputs": [],
   "source": [
    "#hide\n",
    "#delete problematic countries from table\n",
    "df_table = df_table[~df_table['Country/Region'].isin(['Cape Verde', 'Cruise Ship', 'Kosovo'])]"
   ]
  },
  {
   "cell_type": "code",
   "execution_count": 17,
   "id": "related-center",
   "metadata": {
    "execution": {
     "iopub.execute_input": "2022-07-17T12:15:27.213573Z",
     "iopub.status.busy": "2022-07-17T12:15:27.212891Z",
     "iopub.status.idle": "2022-07-17T12:15:27.215572Z",
     "shell.execute_reply": "2022-07-17T12:15:27.215000Z"
    },
    "papermill": {
     "duration": 0.059444,
     "end_time": "2022-07-17T12:15:27.215698",
     "exception": false,
     "start_time": "2022-07-17T12:15:27.156254",
     "status": "completed"
    },
    "tags": []
   },
   "outputs": [],
   "source": [
    "#hide\n",
    "metrics = [df_table.columns[index] for index in [1,2,5,6]]\n",
    "# s_china = df_table[df_table['Country/Region'].eq('China')][metrics].sum().add_prefix('China ')\n",
    "s_us = df_table[df_table['Country/Region'].eq('US')][metrics].sum().add_prefix('US ')\n",
    "s_eu = df_table[df_table['Continent'].eq('Europe')][metrics].sum().add_prefix('EU ')\n",
    "s_ind = df_table[df_table['Country/Region'].eq('India')][metrics].sum().add_prefix('India ')\n",
    "summary = {'updated': pd.to_datetime(dt_today), 'since': pd.to_datetime(dt_yday)}\n",
    "summary = {'updated': pd.to_datetime(dt_today), 'since': pd.to_datetime(dt_yday)}\n",
    "summary = {**summary, **df_table[metrics].sum(), **s_ind, **s_us, **s_eu}"
   ]
  },
  {
   "cell_type": "code",
   "execution_count": 18,
   "id": "engaging-syndrome",
   "metadata": {
    "execution": {
     "iopub.execute_input": "2022-07-17T12:15:27.400449Z",
     "iopub.status.busy": "2022-07-17T12:15:27.399722Z",
     "iopub.status.idle": "2022-07-17T12:15:27.424404Z",
     "shell.execute_reply": "2022-07-17T12:15:27.423599Z"
    },
    "papermill": {
     "duration": 0.065798,
     "end_time": "2022-07-17T12:15:27.424575",
     "exception": false,
     "start_time": "2022-07-17T12:15:27.358777",
     "status": "completed"
    },
    "tags": []
   },
   "outputs": [],
   "source": [
    "#hide\n",
    "dft_ct_new_cases = dft_cases.groupby(COL_REGION)[dt_cols].sum().diff(axis=1).fillna(0).astype(int)"
   ]
  },
  {
   "cell_type": "code",
   "execution_count": 19,
   "id": "neutral-assignment",
   "metadata": {
    "execution": {
     "iopub.execute_input": "2022-07-17T12:15:27.501340Z",
     "iopub.status.busy": "2022-07-17T12:15:27.500648Z",
     "iopub.status.idle": "2022-07-17T12:15:27.503187Z",
     "shell.execute_reply": "2022-07-17T12:15:27.502816Z"
    },
    "papermill": {
     "duration": 0.044094,
     "end_time": "2022-07-17T12:15:27.503282",
     "exception": false,
     "start_time": "2022-07-17T12:15:27.459188",
     "status": "completed"
    },
    "tags": []
   },
   "outputs": [],
   "source": [
    "#hide\n",
    "everydaycases = dft_ct_new_cases.cumsum(axis=1)"
   ]
  },
  {
   "cell_type": "code",
   "execution_count": 20,
   "id": "parliamentary-calgary",
   "metadata": {
    "execution": {
     "iopub.execute_input": "2022-07-17T12:15:27.572387Z",
     "iopub.status.busy": "2022-07-17T12:15:27.571843Z",
     "iopub.status.idle": "2022-07-17T12:15:28.151934Z",
     "shell.execute_reply": "2022-07-17T12:15:28.151345Z"
    },
    "papermill": {
     "duration": 0.617097,
     "end_time": "2022-07-17T12:15:28.152074",
     "exception": false,
     "start_time": "2022-07-17T12:15:27.534977",
     "status": "completed"
    },
    "tags": []
   },
   "outputs": [],
   "source": [
    "#hide\n",
    "import pandas as pd\n",
    "import matplotlib.pyplot as plt\n",
    "import matplotlib.ticker as ticker\n",
    "import matplotlib.animation as animation\n",
    "from IPython.display import HTML"
   ]
  },
  {
   "cell_type": "code",
   "execution_count": 21,
   "id": "lasting-extraction",
   "metadata": {
    "execution": {
     "iopub.execute_input": "2022-07-17T12:15:28.229823Z",
     "iopub.status.busy": "2022-07-17T12:15:28.229143Z",
     "iopub.status.idle": "2022-07-17T12:15:28.237686Z",
     "shell.execute_reply": "2022-07-17T12:15:28.237051Z"
    },
    "papermill": {
     "duration": 0.052175,
     "end_time": "2022-07-17T12:15:28.237803",
     "exception": false,
     "start_time": "2022-07-17T12:15:28.185628",
     "status": "completed"
    },
    "tags": []
   },
   "outputs": [],
   "source": [
    "#hide\n",
    "t = everydaycases.stack()"
   ]
  },
  {
   "cell_type": "code",
   "execution_count": 22,
   "id": "premier-sleeve",
   "metadata": {
    "execution": {
     "iopub.execute_input": "2022-07-17T12:15:28.309337Z",
     "iopub.status.busy": "2022-07-17T12:15:28.308684Z",
     "iopub.status.idle": "2022-07-17T12:15:28.322613Z",
     "shell.execute_reply": "2022-07-17T12:15:28.322164Z"
    },
    "papermill": {
     "duration": 0.051355,
     "end_time": "2022-07-17T12:15:28.322745",
     "exception": false,
     "start_time": "2022-07-17T12:15:28.271390",
     "status": "completed"
    },
    "tags": []
   },
   "outputs": [],
   "source": [
    "#hide\n",
    "g = t.reset_index(['Country/Region'])"
   ]
  },
  {
   "cell_type": "code",
   "execution_count": 23,
   "id": "distributed-pittsburgh",
   "metadata": {
    "execution": {
     "iopub.execute_input": "2022-07-17T12:15:28.393485Z",
     "iopub.status.busy": "2022-07-17T12:15:28.392419Z",
     "iopub.status.idle": "2022-07-17T12:15:28.394227Z",
     "shell.execute_reply": "2022-07-17T12:15:28.394735Z"
    },
    "papermill": {
     "duration": 0.040965,
     "end_time": "2022-07-17T12:15:28.394876",
     "exception": false,
     "start_time": "2022-07-17T12:15:28.353911",
     "status": "completed"
    },
    "tags": []
   },
   "outputs": [],
   "source": [
    "#hide\n",
    "g.index.name = 'date'"
   ]
  },
  {
   "cell_type": "code",
   "execution_count": 24,
   "id": "naked-donor",
   "metadata": {
    "execution": {
     "iopub.execute_input": "2022-07-17T12:15:28.462913Z",
     "iopub.status.busy": "2022-07-17T12:15:28.462391Z",
     "iopub.status.idle": "2022-07-17T12:15:28.465260Z",
     "shell.execute_reply": "2022-07-17T12:15:28.465740Z"
    },
    "papermill": {
     "duration": 0.037667,
     "end_time": "2022-07-17T12:15:28.465869",
     "exception": false,
     "start_time": "2022-07-17T12:15:28.428202",
     "status": "completed"
    },
    "tags": []
   },
   "outputs": [],
   "source": [
    "# #hide\n",
    "# g = g.reset_index(['date'])"
   ]
  },
  {
   "cell_type": "code",
   "execution_count": 25,
   "id": "incomplete-mustang",
   "metadata": {
    "execution": {
     "iopub.execute_input": "2022-07-17T12:15:28.533305Z",
     "iopub.status.busy": "2022-07-17T12:15:28.532029Z",
     "iopub.status.idle": "2022-07-17T12:15:28.534588Z",
     "shell.execute_reply": "2022-07-17T12:15:28.535278Z"
    },
    "papermill": {
     "duration": 0.038779,
     "end_time": "2022-07-17T12:15:28.535404",
     "exception": false,
     "start_time": "2022-07-17T12:15:28.496625",
     "status": "completed"
    },
    "tags": []
   },
   "outputs": [],
   "source": [
    "#hide\n",
    "# g.head()"
   ]
  },
  {
   "cell_type": "code",
   "execution_count": 26,
   "id": "specific-kruger",
   "metadata": {
    "execution": {
     "iopub.execute_input": "2022-07-17T12:15:28.606520Z",
     "iopub.status.busy": "2022-07-17T12:15:28.605319Z",
     "iopub.status.idle": "2022-07-17T12:15:28.609814Z",
     "shell.execute_reply": "2022-07-17T12:15:28.610271Z"
    },
    "papermill": {
     "duration": 0.04319,
     "end_time": "2022-07-17T12:15:28.610404",
     "exception": false,
     "start_time": "2022-07-17T12:15:28.567214",
     "status": "completed"
    },
    "tags": []
   },
   "outputs": [],
   "source": [
    "#hide\n",
    "# g.columns = ['date','country','cases']"
   ]
  },
  {
   "cell_type": "code",
   "execution_count": 27,
   "id": "tender-conversion",
   "metadata": {
    "execution": {
     "iopub.execute_input": "2022-07-17T12:15:28.682900Z",
     "iopub.status.busy": "2022-07-17T12:15:28.681302Z",
     "iopub.status.idle": "2022-07-17T12:15:28.683704Z",
     "shell.execute_reply": "2022-07-17T12:15:28.684216Z"
    },
    "papermill": {
     "duration": 0.040542,
     "end_time": "2022-07-17T12:15:28.684350",
     "exception": false,
     "start_time": "2022-07-17T12:15:28.643808",
     "status": "completed"
    },
    "tags": []
   },
   "outputs": [],
   "source": [
    "#hide\n",
    "# g['continent'] = g.country"
   ]
  },
  {
   "cell_type": "code",
   "execution_count": 28,
   "id": "substantial-wilderness",
   "metadata": {
    "execution": {
     "iopub.execute_input": "2022-07-17T12:15:28.758283Z",
     "iopub.status.busy": "2022-07-17T12:15:28.757097Z",
     "iopub.status.idle": "2022-07-17T12:15:28.761921Z",
     "shell.execute_reply": "2022-07-17T12:15:28.761469Z"
    },
    "papermill": {
     "duration": 0.042523,
     "end_time": "2022-07-17T12:15:28.762023",
     "exception": false,
     "start_time": "2022-07-17T12:15:28.719500",
     "status": "completed"
    },
    "tags": []
   },
   "outputs": [],
   "source": [
    "#hide\n",
    "# cols = list(g.columns.values)"
   ]
  },
  {
   "cell_type": "code",
   "execution_count": 29,
   "id": "solved-farming",
   "metadata": {
    "execution": {
     "iopub.execute_input": "2022-07-17T12:15:28.831964Z",
     "iopub.status.busy": "2022-07-17T12:15:28.831161Z",
     "iopub.status.idle": "2022-07-17T12:15:28.835511Z",
     "shell.execute_reply": "2022-07-17T12:15:28.834863Z"
    },
    "papermill": {
     "duration": 0.039429,
     "end_time": "2022-07-17T12:15:28.835649",
     "exception": false,
     "start_time": "2022-07-17T12:15:28.796220",
     "status": "completed"
    },
    "tags": []
   },
   "outputs": [],
   "source": [
    "#hide\n",
    "# cols.insert(0, cols.pop())"
   ]
  },
  {
   "cell_type": "code",
   "execution_count": 30,
   "id": "executed-adoption",
   "metadata": {
    "execution": {
     "iopub.execute_input": "2022-07-17T12:15:28.902896Z",
     "iopub.status.busy": "2022-07-17T12:15:28.902314Z",
     "iopub.status.idle": "2022-07-17T12:15:28.904794Z",
     "shell.execute_reply": "2022-07-17T12:15:28.904314Z"
    },
    "papermill": {
     "duration": 0.037487,
     "end_time": "2022-07-17T12:15:28.904902",
     "exception": false,
     "start_time": "2022-07-17T12:15:28.867415",
     "status": "completed"
    },
    "tags": []
   },
   "outputs": [],
   "source": [
    "#hide\n",
    "# g = g[cols]"
   ]
  },
  {
   "cell_type": "code",
   "execution_count": 31,
   "id": "subject-dublin",
   "metadata": {
    "execution": {
     "iopub.execute_input": "2022-07-17T12:15:28.983064Z",
     "iopub.status.busy": "2022-07-17T12:15:28.982409Z",
     "iopub.status.idle": "2022-07-17T12:15:28.985350Z",
     "shell.execute_reply": "2022-07-17T12:15:28.985833Z"
    },
    "papermill": {
     "duration": 0.041111,
     "end_time": "2022-07-17T12:15:28.985972",
     "exception": false,
     "start_time": "2022-07-17T12:15:28.944861",
     "status": "completed"
    },
    "tags": []
   },
   "outputs": [],
   "source": [
    "#hide\n",
    "# g['continent'] = g['continent'].map(mapping['map.continent'])"
   ]
  },
  {
   "cell_type": "code",
   "execution_count": 32,
   "id": "freelance-scout",
   "metadata": {
    "execution": {
     "iopub.execute_input": "2022-07-17T12:15:29.053943Z",
     "iopub.status.busy": "2022-07-17T12:15:29.053269Z",
     "iopub.status.idle": "2022-07-17T12:15:29.056118Z",
     "shell.execute_reply": "2022-07-17T12:15:29.055592Z"
    },
    "papermill": {
     "duration": 0.040291,
     "end_time": "2022-07-17T12:15:29.056245",
     "exception": false,
     "start_time": "2022-07-17T12:15:29.015954",
     "status": "completed"
    },
    "tags": []
   },
   "outputs": [],
   "source": [
    "#hide\n",
    "# g.head()"
   ]
  },
  {
   "cell_type": "code",
   "execution_count": 33,
   "id": "limited-engine",
   "metadata": {
    "execution": {
     "iopub.execute_input": "2022-07-17T12:15:29.129570Z",
     "iopub.status.busy": "2022-07-17T12:15:29.128373Z",
     "iopub.status.idle": "2022-07-17T12:15:29.130843Z",
     "shell.execute_reply": "2022-07-17T12:15:29.131771Z"
    },
    "papermill": {
     "duration": 0.041097,
     "end_time": "2022-07-17T12:15:29.132002",
     "exception": false,
     "start_time": "2022-07-17T12:15:29.090905",
     "status": "completed"
    },
    "tags": []
   },
   "outputs": [],
   "source": [
    "# hide\n",
    "# g['date'] = g['date'].astype('datetime64[ns]')"
   ]
  },
  {
   "cell_type": "code",
   "execution_count": 34,
   "id": "sophisticated-supervisor",
   "metadata": {
    "execution": {
     "iopub.execute_input": "2022-07-17T12:15:29.203936Z",
     "iopub.status.busy": "2022-07-17T12:15:29.202707Z",
     "iopub.status.idle": "2022-07-17T12:15:29.204947Z",
     "shell.execute_reply": "2022-07-17T12:15:29.205334Z"
    },
    "papermill": {
     "duration": 0.040308,
     "end_time": "2022-07-17T12:15:29.205444",
     "exception": false,
     "start_time": "2022-07-17T12:15:29.165136",
     "status": "completed"
    },
    "tags": []
   },
   "outputs": [],
   "source": [
    "#hide\n",
    "# g['date'] = g.date.dt.dayofyear"
   ]
  },
  {
   "cell_type": "code",
   "execution_count": 35,
   "id": "inside-dubai",
   "metadata": {
    "execution": {
     "iopub.execute_input": "2022-07-17T12:15:29.274199Z",
     "iopub.status.busy": "2022-07-17T12:15:29.273048Z",
     "iopub.status.idle": "2022-07-17T12:15:29.275498Z",
     "shell.execute_reply": "2022-07-17T12:15:29.276170Z"
    },
    "papermill": {
     "duration": 0.039772,
     "end_time": "2022-07-17T12:15:29.276295",
     "exception": false,
     "start_time": "2022-07-17T12:15:29.236523",
     "status": "completed"
    },
    "tags": []
   },
   "outputs": [],
   "source": [
    "#hide\n",
    "# g = g.rename(columns= {'continent':'group','country':'name','cases':'value'})"
   ]
  },
  {
   "cell_type": "code",
   "execution_count": 36,
   "id": "fleet-motorcycle",
   "metadata": {
    "execution": {
     "iopub.execute_input": "2022-07-17T12:15:29.346144Z",
     "iopub.status.busy": "2022-07-17T12:15:29.344971Z",
     "iopub.status.idle": "2022-07-17T12:15:29.350514Z",
     "shell.execute_reply": "2022-07-17T12:15:29.349517Z"
    },
    "papermill": {
     "duration": 0.043043,
     "end_time": "2022-07-17T12:15:29.350643",
     "exception": false,
     "start_time": "2022-07-17T12:15:29.307600",
     "status": "completed"
    },
    "tags": []
   },
   "outputs": [],
   "source": [
    "#hide\n",
    "# cols = ['name','group','day','value']"
   ]
  },
  {
   "cell_type": "code",
   "execution_count": 37,
   "id": "continued-sleeping",
   "metadata": {
    "execution": {
     "iopub.execute_input": "2022-07-17T12:15:29.418752Z",
     "iopub.status.busy": "2022-07-17T12:15:29.418114Z",
     "iopub.status.idle": "2022-07-17T12:15:29.420368Z",
     "shell.execute_reply": "2022-07-17T12:15:29.419755Z"
    },
    "papermill": {
     "duration": 0.038745,
     "end_time": "2022-07-17T12:15:29.420481",
     "exception": false,
     "start_time": "2022-07-17T12:15:29.381736",
     "status": "completed"
    },
    "tags": []
   },
   "outputs": [],
   "source": [
    "#hide\n",
    "# g.rename(columns= {'date':'day'},inplace = True)"
   ]
  },
  {
   "cell_type": "code",
   "execution_count": 38,
   "id": "major-fight",
   "metadata": {
    "execution": {
     "iopub.execute_input": "2022-07-17T12:15:29.494886Z",
     "iopub.status.busy": "2022-07-17T12:15:29.493668Z",
     "iopub.status.idle": "2022-07-17T12:15:29.499113Z",
     "shell.execute_reply": "2022-07-17T12:15:29.499745Z"
    },
    "papermill": {
     "duration": 0.046279,
     "end_time": "2022-07-17T12:15:29.499897",
     "exception": false,
     "start_time": "2022-07-17T12:15:29.453618",
     "status": "completed"
    },
    "tags": []
   },
   "outputs": [],
   "source": [
    "#hide\n",
    "# g = g[cols]"
   ]
  },
  {
   "cell_type": "code",
   "execution_count": 39,
   "id": "structured-mobile",
   "metadata": {
    "execution": {
     "iopub.execute_input": "2022-07-17T12:15:29.568696Z",
     "iopub.status.busy": "2022-07-17T12:15:29.567521Z",
     "iopub.status.idle": "2022-07-17T12:15:29.571526Z",
     "shell.execute_reply": "2022-07-17T12:15:29.570597Z"
    },
    "papermill": {
     "duration": 0.039156,
     "end_time": "2022-07-17T12:15:29.571653",
     "exception": false,
     "start_time": "2022-07-17T12:15:29.532497",
     "status": "completed"
    },
    "tags": []
   },
   "outputs": [],
   "source": [
    "# #hide\n",
    "# g = g[g.group.notna()]"
   ]
  },
  {
   "cell_type": "code",
   "execution_count": 40,
   "id": "determined-closing",
   "metadata": {
    "execution": {
     "iopub.execute_input": "2022-07-17T12:15:29.644942Z",
     "iopub.status.busy": "2022-07-17T12:15:29.644134Z",
     "iopub.status.idle": "2022-07-17T12:15:29.648585Z",
     "shell.execute_reply": "2022-07-17T12:15:29.649143Z"
    },
    "papermill": {
     "duration": 0.043435,
     "end_time": "2022-07-17T12:15:29.649303",
     "exception": false,
     "start_time": "2022-07-17T12:15:29.605868",
     "status": "completed"
    },
    "tags": []
   },
   "outputs": [],
   "source": [
    "# #hide\n",
    "# colors = dict(zip(\n",
    "#     [\"Oceania\", \"Europe\", \"Asia\", \"South America\", \"Middle East\", \"North America\", \"Africa\"],\n",
    "#     [\"#adb0ff\", \"#ffb3ff\", \"#90d595\", \"#e48381\", \"#aafbff\", \"#f7bb5f\", \"#eafb50\"]\n",
    "# ))\n",
    "# group_lk = g.set_index('name')['group'].to_dict()"
   ]
  },
  {
   "cell_type": "code",
   "execution_count": null,
   "id": "gross-drinking",
   "metadata": {
    "papermill": {
     "duration": 0.032464,
     "end_time": "2022-07-17T12:15:29.716472",
     "exception": false,
     "start_time": "2022-07-17T12:15:29.684008",
     "status": "completed"
    },
    "tags": []
   },
   "outputs": [],
   "source": []
  },
  {
   "cell_type": "code",
   "execution_count": 41,
   "id": "subject-macintosh",
   "metadata": {
    "execution": {
     "iopub.execute_input": "2022-07-17T12:15:29.786051Z",
     "iopub.status.busy": "2022-07-17T12:15:29.784857Z",
     "iopub.status.idle": "2022-07-17T12:15:29.787900Z",
     "shell.execute_reply": "2022-07-17T12:15:29.788890Z"
    },
    "papermill": {
     "duration": 0.040859,
     "end_time": "2022-07-17T12:15:29.789161",
     "exception": false,
     "start_time": "2022-07-17T12:15:29.748302",
     "status": "completed"
    },
    "tags": []
   },
   "outputs": [],
   "source": [
    "# #hide\n",
    "# fig, ax = plt.subplots(figsize=(15, 8))\n",
    "\n",
    "# def draw_barchart(current_day):\n",
    "#     dff = g[g['day'].eq(current_day)].sort_values(by='value', ascending=True).tail(10)\n",
    "#     ax.clear()\n",
    "#     ax.barh(dff['name'], dff['value'], color=[colors[group_lk[x]] for x in dff['name']])\n",
    "#     dx = dff['value'].max() / 200\n",
    "    \n",
    "#     for i, (value, name) in enumerate(zip(dff['value'], dff['name'])):\n",
    "#         ax.text(value-dx, i,     name,           size=14, weight=600, ha='right', va='bottom')\n",
    "#         ax.text(value-dx, i-.25, group_lk[name], size=10, color='#444444', ha='right', va='baseline')\n",
    "#         ax.text(value+dx, i,     f'{value:,.0f}',  size=14, ha='left',  va='center')\n",
    "#     ax.text(1, 0.4, current_day, transform=ax.transAxes, color='#777777', size=46, ha='right', weight=800)\n",
    "#     ax.text(0, 1.06, 'Population (thousands)', transform=ax.transAxes, size=12, color='#777777')\n",
    "#     ax.xaxis.set_major_formatter(ticker.StrMethodFormatter('{x:,.0f}'))\n",
    "#     ax.xaxis.set_ticks_position('top')\n",
    "#     ax.tick_params(axis='x', colors='#777777', labelsize=12)\n",
    "#     ax.set_yticks([])\n",
    "#     ax.margins(0, 0.01)\n",
    "#     ax.grid(which='major', axis='x', linestyle='-')\n",
    "#     ax.set_axisbelow(True)\n",
    "    \n",
    "#     ax.text(0, 1.15, 'Coronavirus',\n",
    "#             transform=ax.transAxes, size=24, weight=600, ha='left', va='top')\n",
    "# #     ax.text(1, 0, 'by @pratapvardhan; credit @jburnmurdoch', transform=ax.transAxes, color='#777777', ha='right',\n",
    "# #             bbox=dict(facecolor='white', alpha=0.8, edgecolor='white'))\n",
    "#     plt.box(False)"
   ]
  },
  {
   "cell_type": "code",
   "execution_count": 42,
   "id": "sexual-wages",
   "metadata": {
    "execution": {
     "iopub.execute_input": "2022-07-17T12:15:29.864473Z",
     "iopub.status.busy": "2022-07-17T12:15:29.863723Z",
     "iopub.status.idle": "2022-07-17T12:15:29.865158Z",
     "shell.execute_reply": "2022-07-17T12:15:29.865630Z"
    },
    "papermill": {
     "duration": 0.040684,
     "end_time": "2022-07-17T12:15:29.865763",
     "exception": false,
     "start_time": "2022-07-17T12:15:29.825079",
     "status": "completed"
    },
    "tags": []
   },
   "outputs": [],
   "source": [
    "# #hide_input\n",
    "# fig, ax = plt.subplots(figsize=(15, 8))\n",
    "# animator = animation.FuncAnimation(fig, draw_barchart, frames=range(g.day.values.min(), g.day.values.max()))\n",
    "# HTML(animator.to_jshtml())\n",
    "# # or use animator.to_html5_video() or animator.save() "
   ]
  },
  {
   "cell_type": "code",
   "execution_count": null,
   "id": "australian-container",
   "metadata": {
    "papermill": {
     "duration": 0.031511,
     "end_time": "2022-07-17T12:15:29.929440",
     "exception": false,
     "start_time": "2022-07-17T12:15:29.897929",
     "status": "completed"
    },
    "tags": []
   },
   "outputs": [],
   "source": []
  },
  {
   "cell_type": "code",
   "execution_count": null,
   "id": "mediterranean-pontiac",
   "metadata": {
    "papermill": {
     "duration": 0.032521,
     "end_time": "2022-07-17T12:15:29.993615",
     "exception": false,
     "start_time": "2022-07-17T12:15:29.961094",
     "status": "completed"
    },
    "tags": []
   },
   "outputs": [],
   "source": []
  },
  {
   "cell_type": "code",
   "execution_count": null,
   "id": "aging-legislature",
   "metadata": {
    "papermill": {
     "duration": 0.033816,
     "end_time": "2022-07-17T12:15:30.058358",
     "exception": false,
     "start_time": "2022-07-17T12:15:30.024542",
     "status": "completed"
    },
    "tags": []
   },
   "outputs": [],
   "source": []
  }
 ],
 "metadata": {
  "kernelspec": {
   "display_name": "Python 3",
   "language": "python",
   "name": "python3"
  },
  "language_info": {
   "codemirror_mode": {
    "name": "ipython",
    "version": 3
   },
   "file_extension": ".py",
   "mimetype": "text/x-python",
   "name": "python",
   "nbconvert_exporter": "python",
   "pygments_lexer": "ipython3",
   "version": "3.6.15"
  },
  "papermill": {
   "duration": 6.988119,
   "end_time": "2022-07-17T12:15:30.413400",
   "environment_variables": {},
   "exception": null,
   "input_path": "2020-03-21-covid19exp.ipynb",
   "output_path": "2020-03-21-covid19exp.ipynb",
   "parameters": {},
   "start_time": "2022-07-17T12:15:23.425281",
   "version": "2.0.0"
  }
 },
 "nbformat": 4,
 "nbformat_minor": 5
}