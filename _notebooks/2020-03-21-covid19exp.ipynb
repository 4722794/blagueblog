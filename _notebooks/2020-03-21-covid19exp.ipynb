{
 "cells": [
  {
   "cell_type": "markdown",
   "id": "muslim-click",
   "metadata": {
    "papermill": {
     "duration": 0.034107,
     "end_time": "2022-01-16T00:28:47.615071",
     "exception": false,
     "start_time": "2022-01-16T00:28:47.580964",
     "status": "completed"
    },
    "tags": []
   },
   "source": [
    "# COVID-19 Case Race\n",
    "> A race chart to see rising cases around the world\n",
    "\n",
    "- author: Hargun Oberoi\n",
    "- image: images/covid-overview.png\n",
    "- hide: false\n",
    "- badges: false"
   ]
  },
  {
   "cell_type": "code",
   "execution_count": 1,
   "id": "proof-material",
   "metadata": {
    "execution": {
     "iopub.execute_input": "2022-01-16T00:28:47.685126Z",
     "iopub.status.busy": "2022-01-16T00:28:47.684599Z",
     "iopub.status.idle": "2022-01-16T00:28:48.002039Z",
     "shell.execute_reply": "2022-01-16T00:28:48.001455Z"
    },
    "papermill": {
     "duration": 0.357167,
     "end_time": "2022-01-16T00:28:48.002202",
     "exception": false,
     "start_time": "2022-01-16T00:28:47.645035",
     "status": "completed"
    },
    "tags": []
   },
   "outputs": [],
   "source": [
    "#hide\n",
    "import numpy as np\n",
    "import pandas as pd\n",
    "from jinja2 import Template\n",
    "from IPython.display import HTML"
   ]
  },
  {
   "cell_type": "code",
   "execution_count": 2,
   "id": "developed-terminology",
   "metadata": {
    "execution": {
     "iopub.execute_input": "2022-01-16T00:28:48.066635Z",
     "iopub.status.busy": "2022-01-16T00:28:48.066084Z",
     "iopub.status.idle": "2022-01-16T00:28:48.068044Z",
     "shell.execute_reply": "2022-01-16T00:28:48.067538Z"
    },
    "papermill": {
     "duration": 0.036151,
     "end_time": "2022-01-16T00:28:48.068152",
     "exception": false,
     "start_time": "2022-01-16T00:28:48.032001",
     "status": "completed"
    },
    "tags": []
   },
   "outputs": [],
   "source": [
    "#hide\n",
    "\n",
    "# FETCH\n",
    "base_url = 'https://raw.githubusercontent.com/pratapvardhan/notebooks/master/covid19/'\n",
    "paths = {\n",
    "    'mapping': base_url + 'mapping_countries.csv',\n",
    "    'overview': base_url + 'overview.tpl'\n",
    "}"
   ]
  },
  {
   "cell_type": "code",
   "execution_count": 3,
   "id": "dynamic-saver",
   "metadata": {
    "execution": {
     "iopub.execute_input": "2022-01-16T00:28:48.136406Z",
     "iopub.status.busy": "2022-01-16T00:28:48.135893Z",
     "iopub.status.idle": "2022-01-16T00:28:48.138599Z",
     "shell.execute_reply": "2022-01-16T00:28:48.138171Z"
    },
    "papermill": {
     "duration": 0.041179,
     "end_time": "2022-01-16T00:28:48.138702",
     "exception": false,
     "start_time": "2022-01-16T00:28:48.097523",
     "status": "completed"
    },
    "tags": []
   },
   "outputs": [
    {
     "data": {
      "text/plain": [
       "'https://raw.githubusercontent.com/pratapvardhan/notebooks/master/covid19/mapping_countries.csv'"
      ]
     },
     "execution_count": 3,
     "metadata": {},
     "output_type": "execute_result"
    }
   ],
   "source": [
    "#hide\n",
    "paths['mapping']"
   ]
  },
  {
   "cell_type": "code",
   "execution_count": 4,
   "id": "urban-software",
   "metadata": {
    "execution": {
     "iopub.execute_input": "2022-01-16T00:28:48.202454Z",
     "iopub.status.busy": "2022-01-16T00:28:48.201859Z",
     "iopub.status.idle": "2022-01-16T00:28:48.203966Z",
     "shell.execute_reply": "2022-01-16T00:28:48.203484Z"
    },
    "papermill": {
     "duration": 0.035768,
     "end_time": "2022-01-16T00:28:48.204078",
     "exception": false,
     "start_time": "2022-01-16T00:28:48.168310",
     "status": "completed"
    },
    "tags": []
   },
   "outputs": [],
   "source": [
    "#hide\n",
    "def get_mappings(url):\n",
    "    df = pd.read_csv(url)\n",
    "    return {\n",
    "        'df': df,\n",
    "        'replace.country': dict(df.dropna(subset=['Name']).set_index('Country')['Name']),\n",
    "        'map.continent': dict(df.set_index('Name')['Continent'])\n",
    "    }"
   ]
  },
  {
   "cell_type": "code",
   "execution_count": 5,
   "id": "intimate-machinery",
   "metadata": {
    "execution": {
     "iopub.execute_input": "2022-01-16T00:28:48.267903Z",
     "iopub.status.busy": "2022-01-16T00:28:48.267393Z",
     "iopub.status.idle": "2022-01-16T00:28:48.312358Z",
     "shell.execute_reply": "2022-01-16T00:28:48.311891Z"
    },
    "papermill": {
     "duration": 0.078719,
     "end_time": "2022-01-16T00:28:48.312480",
     "exception": false,
     "start_time": "2022-01-16T00:28:48.233761",
     "status": "completed"
    },
    "tags": []
   },
   "outputs": [],
   "source": [
    "#hide\n",
    "mapping = get_mappings(paths['mapping'])"
   ]
  },
  {
   "cell_type": "code",
   "execution_count": 6,
   "id": "certified-tactics",
   "metadata": {
    "execution": {
     "iopub.execute_input": "2022-01-16T00:28:48.376672Z",
     "iopub.status.busy": "2022-01-16T00:28:48.376157Z",
     "iopub.status.idle": "2022-01-16T00:28:48.378417Z",
     "shell.execute_reply": "2022-01-16T00:28:48.378015Z"
    },
    "papermill": {
     "duration": 0.035961,
     "end_time": "2022-01-16T00:28:48.378517",
     "exception": false,
     "start_time": "2022-01-16T00:28:48.342556",
     "status": "completed"
    },
    "tags": []
   },
   "outputs": [],
   "source": [
    "#hide\n",
    "def get_template(path):\n",
    "    from urllib.parse import urlparse\n",
    "    if bool(urlparse(path).netloc):\n",
    "        from urllib.request import urlopen\n",
    "        return urlopen(path).read().decode('utf8')\n",
    "    return open(path).read()"
   ]
  },
  {
   "cell_type": "code",
   "execution_count": 7,
   "id": "realistic-blast",
   "metadata": {
    "execution": {
     "iopub.execute_input": "2022-01-16T00:28:48.441989Z",
     "iopub.status.busy": "2022-01-16T00:28:48.441369Z",
     "iopub.status.idle": "2022-01-16T00:28:48.443519Z",
     "shell.execute_reply": "2022-01-16T00:28:48.443041Z"
    },
    "papermill": {
     "duration": 0.035723,
     "end_time": "2022-01-16T00:28:48.443630",
     "exception": false,
     "start_time": "2022-01-16T00:28:48.407907",
     "status": "completed"
    },
    "tags": []
   },
   "outputs": [],
   "source": [
    "#hide\n",
    "def get_frame(name):\n",
    "    url = (\n",
    "        'https://raw.githubusercontent.com/CSSEGISandData/COVID-19/master/csse_covid_19_data/'\n",
    "        f'csse_covid_19_time_series/time_series_covid19_{name}_global.csv')\n",
    "    df = pd.read_csv(url)\n",
    "    # rename countries\n",
    "    df['Country/Region'] = df['Country/Region'].replace(mapping['replace.country'])\n",
    "    return df"
   ]
  },
  {
   "cell_type": "code",
   "execution_count": 8,
   "id": "affiliated-characterization",
   "metadata": {
    "execution": {
     "iopub.execute_input": "2022-01-16T00:28:48.508367Z",
     "iopub.status.busy": "2022-01-16T00:28:48.507829Z",
     "iopub.status.idle": "2022-01-16T00:28:48.510338Z",
     "shell.execute_reply": "2022-01-16T00:28:48.509931Z"
    },
    "papermill": {
     "duration": 0.036562,
     "end_time": "2022-01-16T00:28:48.510438",
     "exception": false,
     "start_time": "2022-01-16T00:28:48.473876",
     "status": "completed"
    },
    "tags": []
   },
   "outputs": [],
   "source": [
    "#hide\n",
    "def get_dates(df):\n",
    "    dt_cols = df.columns[~df.columns.isin(['Province/State', 'Country/Region', 'Lat', 'Long'])]\n",
    "    LAST_DATE_I = -1\n",
    "    # sometimes last column may be empty, then go backwards\n",
    "    for i in range(-1, -len(dt_cols), -1):\n",
    "        if not df[dt_cols[i]].fillna(0).eq(0).all():\n",
    "            LAST_DATE_I = i\n",
    "            break\n",
    "    return LAST_DATE_I, dt_cols"
   ]
  },
  {
   "cell_type": "code",
   "execution_count": 9,
   "id": "recent-optimization",
   "metadata": {
    "execution": {
     "iopub.execute_input": "2022-01-16T00:28:48.573275Z",
     "iopub.status.busy": "2022-01-16T00:28:48.572767Z",
     "iopub.status.idle": "2022-01-16T00:28:48.962916Z",
     "shell.execute_reply": "2022-01-16T00:28:48.962400Z"
    },
    "papermill": {
     "duration": 0.423266,
     "end_time": "2022-01-16T00:28:48.963059",
     "exception": false,
     "start_time": "2022-01-16T00:28:48.539793",
     "status": "completed"
    },
    "tags": []
   },
   "outputs": [],
   "source": [
    "#hide\n",
    "COL_REGION = 'Country/Region'\n",
    "# Confirmed, Recovered, Deaths\n",
    "df = get_frame('confirmed')\n",
    "# dft_: timeseries, dfc_: today country agg\n",
    "dft_cases = df\n",
    "dft_deaths = get_frame('deaths')\n",
    "dft_recovered = get_frame('recovered')\n",
    "LAST_DATE_I, dt_cols = get_dates(df)"
   ]
  },
  {
   "cell_type": "code",
   "execution_count": 10,
   "id": "absolute-copper",
   "metadata": {
    "execution": {
     "iopub.execute_input": "2022-01-16T00:28:49.028033Z",
     "iopub.status.busy": "2022-01-16T00:28:49.027504Z",
     "iopub.status.idle": "2022-01-16T00:28:49.029161Z",
     "shell.execute_reply": "2022-01-16T00:28:49.029544Z"
    },
    "papermill": {
     "duration": 0.036089,
     "end_time": "2022-01-16T00:28:49.029690",
     "exception": false,
     "start_time": "2022-01-16T00:28:48.993601",
     "status": "completed"
    },
    "tags": []
   },
   "outputs": [],
   "source": [
    "#hide\n",
    "LAST_DATE_I, dt_cols = get_dates(df)\n",
    "dt_today =dt_cols[LAST_DATE_I]\n",
    "# dt_5day = dt_cols[LAST_DATE_I - 5]\n",
    "dt_yday = dt_cols[LAST_DATE_I - 1]"
   ]
  },
  {
   "cell_type": "code",
   "execution_count": 11,
   "id": "restricted-sheriff",
   "metadata": {
    "execution": {
     "iopub.execute_input": "2022-01-16T00:28:49.094252Z",
     "iopub.status.busy": "2022-01-16T00:28:49.093735Z",
     "iopub.status.idle": "2022-01-16T00:28:49.101100Z",
     "shell.execute_reply": "2022-01-16T00:28:49.100692Z"
    },
    "papermill": {
     "duration": 0.042172,
     "end_time": "2022-01-16T00:28:49.101208",
     "exception": false,
     "start_time": "2022-01-16T00:28:49.059036",
     "status": "completed"
    },
    "tags": []
   },
   "outputs": [],
   "source": [
    "#hide\n",
    "dfc_cases = dft_cases.groupby(COL_REGION)[dt_today].sum()\n",
    "dfc_deaths = dft_deaths.groupby(COL_REGION)[dt_today].sum()\n",
    "# dfp_cases = dft_cases.groupby(COL_REGION)[dt_5day].sum()\n",
    "# dfp_deaths = dft_deaths.groupby(COL_REGION)[dt_5day].sum()\n",
    "dfp_cases = dft_cases.groupby(COL_REGION)[dt_yday].sum()\n",
    "dfp_deaths = dft_deaths.groupby(COL_REGION)[dt_yday].sum()"
   ]
  },
  {
   "cell_type": "code",
   "execution_count": 12,
   "id": "deluxe-hepatitis",
   "metadata": {
    "execution": {
     "iopub.execute_input": "2022-01-16T00:28:49.165529Z",
     "iopub.status.busy": "2022-01-16T00:28:49.165025Z",
     "iopub.status.idle": "2022-01-16T00:28:49.169963Z",
     "shell.execute_reply": "2022-01-16T00:28:49.169527Z"
    },
    "papermill": {
     "duration": 0.039311,
     "end_time": "2022-01-16T00:28:49.170071",
     "exception": false,
     "start_time": "2022-01-16T00:28:49.130760",
     "status": "completed"
    },
    "tags": []
   },
   "outputs": [],
   "source": [
    "#hide\n",
    "df_table = (pd.DataFrame(dict(Cases = dfc_cases, Deaths = dfc_deaths, PCases = dfp_cases, PDeaths = dfp_deaths))\n",
    "            .sort_values(by = ['Cases','Deaths'], ascending = [False, False])\n",
    "            .reset_index())"
   ]
  },
  {
   "cell_type": "code",
   "execution_count": 13,
   "id": "educational-chancellor",
   "metadata": {
    "execution": {
     "iopub.execute_input": "2022-01-16T00:28:49.246702Z",
     "iopub.status.busy": "2022-01-16T00:28:49.246199Z",
     "iopub.status.idle": "2022-01-16T00:28:49.252952Z",
     "shell.execute_reply": "2022-01-16T00:28:49.253335Z"
    },
    "papermill": {
     "duration": 0.054054,
     "end_time": "2022-01-16T00:28:49.253449",
     "exception": false,
     "start_time": "2022-01-16T00:28:49.199395",
     "status": "completed"
    },
    "tags": []
   },
   "outputs": [
    {
     "data": {
      "text/html": [
       "<div>\n",
       "<style scoped>\n",
       "    .dataframe tbody tr th:only-of-type {\n",
       "        vertical-align: middle;\n",
       "    }\n",
       "\n",
       "    .dataframe tbody tr th {\n",
       "        vertical-align: top;\n",
       "    }\n",
       "\n",
       "    .dataframe thead th {\n",
       "        text-align: right;\n",
       "    }\n",
       "</style>\n",
       "<table border=\"1\" class=\"dataframe\">\n",
       "  <thead>\n",
       "    <tr style=\"text-align: right;\">\n",
       "      <th></th>\n",
       "      <th>Country/Region</th>\n",
       "      <th>Cases</th>\n",
       "      <th>Deaths</th>\n",
       "      <th>PCases</th>\n",
       "      <th>PDeaths</th>\n",
       "      <th>Cases (+)</th>\n",
       "      <th>Deaths (+)</th>\n",
       "      <th>Fatality Rate</th>\n",
       "      <th>Continent</th>\n",
       "    </tr>\n",
       "  </thead>\n",
       "  <tbody>\n",
       "    <tr>\n",
       "      <th>0</th>\n",
       "      <td>US</td>\n",
       "      <td>64917963</td>\n",
       "      <td>849241</td>\n",
       "      <td>64062060</td>\n",
       "      <td>846463</td>\n",
       "      <td>855903</td>\n",
       "      <td>2778</td>\n",
       "      <td>1.31</td>\n",
       "      <td>North America</td>\n",
       "    </tr>\n",
       "    <tr>\n",
       "      <th>1</th>\n",
       "      <td>India</td>\n",
       "      <td>36850962</td>\n",
       "      <td>485752</td>\n",
       "      <td>36317927</td>\n",
       "      <td>485131</td>\n",
       "      <td>533035</td>\n",
       "      <td>621</td>\n",
       "      <td>1.32</td>\n",
       "      <td>Asia</td>\n",
       "    </tr>\n",
       "    <tr>\n",
       "      <th>2</th>\n",
       "      <td>Brazil</td>\n",
       "      <td>22933289</td>\n",
       "      <td>621063</td>\n",
       "      <td>22822177</td>\n",
       "      <td>620830</td>\n",
       "      <td>111112</td>\n",
       "      <td>233</td>\n",
       "      <td>2.71</td>\n",
       "      <td>South America</td>\n",
       "    </tr>\n",
       "    <tr>\n",
       "      <th>3</th>\n",
       "      <td>United Kingdom</td>\n",
       "      <td>15165209</td>\n",
       "      <td>152107</td>\n",
       "      <td>15064685</td>\n",
       "      <td>151833</td>\n",
       "      <td>100524</td>\n",
       "      <td>274</td>\n",
       "      <td>1.00</td>\n",
       "      <td>Europe</td>\n",
       "    </tr>\n",
       "    <tr>\n",
       "      <th>4</th>\n",
       "      <td>France</td>\n",
       "      <td>13680775</td>\n",
       "      <td>127711</td>\n",
       "      <td>13351053</td>\n",
       "      <td>127520</td>\n",
       "      <td>329722</td>\n",
       "      <td>191</td>\n",
       "      <td>0.93</td>\n",
       "      <td>Europe</td>\n",
       "    </tr>\n",
       "  </tbody>\n",
       "</table>\n",
       "</div>"
      ],
      "text/plain": [
       "   Country/Region     Cases  Deaths    PCases  PDeaths  Cases (+)  Deaths (+)  \\\n",
       "0              US  64917963  849241  64062060   846463     855903        2778   \n",
       "1           India  36850962  485752  36317927   485131     533035         621   \n",
       "2          Brazil  22933289  621063  22822177   620830     111112         233   \n",
       "3  United Kingdom  15165209  152107  15064685   151833     100524         274   \n",
       "4          France  13680775  127711  13351053   127520     329722         191   \n",
       "\n",
       "   Fatality Rate      Continent  \n",
       "0           1.31  North America  \n",
       "1           1.32           Asia  \n",
       "2           2.71  South America  \n",
       "3           1.00         Europe  \n",
       "4           0.93         Europe  "
      ]
     },
     "execution_count": 13,
     "metadata": {},
     "output_type": "execute_result"
    }
   ],
   "source": [
    "#hide\n",
    "for c in 'Cases, Deaths'.split(', '):\n",
    "    df_table[f'{c} (+)'] = (df_table[c] - df_table[f'P{c}']).clip(0)\n",
    "    #Clip ça veut dire, les chiffres negatif sont interdit\n",
    "df_table['Fatality Rate'] = (100* df_table['Deaths']/ df_table['Cases']).round(2)\n",
    "df_table['Continent'] = df_table['Country/Region'].map(mapping['map.continent'])\n",
    "df_table.head(5)"
   ]
  },
  {
   "cell_type": "code",
   "execution_count": 14,
   "id": "aboriginal-bulgaria",
   "metadata": {
    "execution": {
     "iopub.execute_input": "2022-01-16T00:28:49.318139Z",
     "iopub.status.busy": "2022-01-16T00:28:49.317526Z",
     "iopub.status.idle": "2022-01-16T00:28:49.319649Z",
     "shell.execute_reply": "2022-01-16T00:28:49.319189Z"
    },
    "papermill": {
     "duration": 0.03643,
     "end_time": "2022-01-16T00:28:49.319763",
     "exception": false,
     "start_time": "2022-01-16T00:28:49.283333",
     "status": "completed"
    },
    "tags": []
   },
   "outputs": [],
   "source": [
    "#hide\n",
    "#delete problematic countries from table\n",
    "df_table = df_table[~df_table['Country/Region'].isin(['Cape Verde', 'Cruise Ship', 'Kosovo'])]"
   ]
  },
  {
   "cell_type": "code",
   "execution_count": 15,
   "id": "fantastic-effect",
   "metadata": {
    "execution": {
     "iopub.execute_input": "2022-01-16T00:28:49.386746Z",
     "iopub.status.busy": "2022-01-16T00:28:49.386240Z",
     "iopub.status.idle": "2022-01-16T00:28:49.402555Z",
     "shell.execute_reply": "2022-01-16T00:28:49.402155Z"
    },
    "papermill": {
     "duration": 0.052766,
     "end_time": "2022-01-16T00:28:49.402654",
     "exception": false,
     "start_time": "2022-01-16T00:28:49.349888",
     "status": "completed"
    },
    "tags": []
   },
   "outputs": [
    {
     "data": {
      "text/html": [
       "<div>\n",
       "<style scoped>\n",
       "    .dataframe tbody tr th:only-of-type {\n",
       "        vertical-align: middle;\n",
       "    }\n",
       "\n",
       "    .dataframe tbody tr th {\n",
       "        vertical-align: top;\n",
       "    }\n",
       "\n",
       "    .dataframe thead th {\n",
       "        text-align: right;\n",
       "    }\n",
       "</style>\n",
       "<table border=\"1\" class=\"dataframe\">\n",
       "  <thead>\n",
       "    <tr style=\"text-align: right;\">\n",
       "      <th></th>\n",
       "      <th>Country/Region</th>\n",
       "      <th>Cases</th>\n",
       "      <th>Deaths</th>\n",
       "      <th>PCases</th>\n",
       "      <th>PDeaths</th>\n",
       "      <th>Cases (+)</th>\n",
       "      <th>Deaths (+)</th>\n",
       "      <th>Fatality Rate</th>\n",
       "      <th>Continent</th>\n",
       "    </tr>\n",
       "  </thead>\n",
       "  <tbody>\n",
       "    <tr>\n",
       "      <th>0</th>\n",
       "      <td>US</td>\n",
       "      <td>64917963</td>\n",
       "      <td>849241</td>\n",
       "      <td>64062060</td>\n",
       "      <td>846463</td>\n",
       "      <td>855903</td>\n",
       "      <td>2778</td>\n",
       "      <td>1.3</td>\n",
       "      <td>North America</td>\n",
       "    </tr>\n",
       "    <tr>\n",
       "      <th>1</th>\n",
       "      <td>India</td>\n",
       "      <td>36850962</td>\n",
       "      <td>485752</td>\n",
       "      <td>36317927</td>\n",
       "      <td>485131</td>\n",
       "      <td>533035</td>\n",
       "      <td>621</td>\n",
       "      <td>1.3</td>\n",
       "      <td>Asia</td>\n",
       "    </tr>\n",
       "    <tr>\n",
       "      <th>2</th>\n",
       "      <td>Brazil</td>\n",
       "      <td>22933289</td>\n",
       "      <td>621063</td>\n",
       "      <td>22822177</td>\n",
       "      <td>620830</td>\n",
       "      <td>111112</td>\n",
       "      <td>233</td>\n",
       "      <td>2.7</td>\n",
       "      <td>South America</td>\n",
       "    </tr>\n",
       "    <tr>\n",
       "      <th>3</th>\n",
       "      <td>United Kingdom</td>\n",
       "      <td>15165209</td>\n",
       "      <td>152107</td>\n",
       "      <td>15064685</td>\n",
       "      <td>151833</td>\n",
       "      <td>100524</td>\n",
       "      <td>274</td>\n",
       "      <td>1.0</td>\n",
       "      <td>Europe</td>\n",
       "    </tr>\n",
       "    <tr>\n",
       "      <th>4</th>\n",
       "      <td>France</td>\n",
       "      <td>13680775</td>\n",
       "      <td>127711</td>\n",
       "      <td>13351053</td>\n",
       "      <td>127520</td>\n",
       "      <td>329722</td>\n",
       "      <td>191</td>\n",
       "      <td>0.9</td>\n",
       "      <td>Europe</td>\n",
       "    </tr>\n",
       "  </tbody>\n",
       "</table>\n",
       "</div>"
      ],
      "text/plain": [
       "   Country/Region     Cases  Deaths    PCases  PDeaths  Cases (+)  Deaths (+)  \\\n",
       "0              US  64917963  849241  64062060   846463     855903        2778   \n",
       "1           India  36850962  485752  36317927   485131     533035         621   \n",
       "2          Brazil  22933289  621063  22822177   620830     111112         233   \n",
       "3  United Kingdom  15165209  152107  15064685   151833     100524         274   \n",
       "4          France  13680775  127711  13351053   127520     329722         191   \n",
       "\n",
       "   Fatality Rate      Continent  \n",
       "0            1.3  North America  \n",
       "1            1.3           Asia  \n",
       "2            2.7  South America  \n",
       "3            1.0         Europe  \n",
       "4            0.9         Europe  "
      ]
     },
     "execution_count": 15,
     "metadata": {},
     "output_type": "execute_result"
    }
   ],
   "source": [
    "#hide\n",
    "df_table = (pd.DataFrame(dict(Cases=dfc_cases, Deaths=dfc_deaths, PCases=dfp_cases, PDeaths=dfp_deaths))\n",
    "             .sort_values(by=['Cases', 'Deaths'], ascending=[False, False])\n",
    "             .reset_index())\n",
    "df_table.rename(columns={'index': 'Country/Region'}, inplace=True)\n",
    "for c in 'Cases, Deaths'.split(', '):\n",
    "    df_table[f'{c} (+)'] = (df_table[c] - df_table[f'P{c}']).clip(0)  # DATA BUG\n",
    "df_table['Fatality Rate'] = (100 * df_table['Deaths'] / df_table['Cases']).round(1)\n",
    "df_table['Continent'] = df_table['Country/Region'].map(mapping['map.continent'])\n",
    "df_table.head(5)"
   ]
  },
  {
   "cell_type": "code",
   "execution_count": 16,
   "id": "fewer-occasion",
   "metadata": {
    "execution": {
     "iopub.execute_input": "2022-01-16T00:28:49.467988Z",
     "iopub.status.busy": "2022-01-16T00:28:49.467474Z",
     "iopub.status.idle": "2022-01-16T00:28:49.471752Z",
     "shell.execute_reply": "2022-01-16T00:28:49.471351Z"
    },
    "papermill": {
     "duration": 0.038718,
     "end_time": "2022-01-16T00:28:49.471851",
     "exception": false,
     "start_time": "2022-01-16T00:28:49.433133",
     "status": "completed"
    },
    "tags": []
   },
   "outputs": [],
   "source": [
    "#hide\n",
    "#delete problematic countries from table\n",
    "df_table = df_table[~df_table['Country/Region'].isin(['Cape Verde', 'Cruise Ship', 'Kosovo'])]"
   ]
  },
  {
   "cell_type": "code",
   "execution_count": 17,
   "id": "related-center",
   "metadata": {
    "execution": {
     "iopub.execute_input": "2022-01-16T00:28:49.548864Z",
     "iopub.status.busy": "2022-01-16T00:28:49.548355Z",
     "iopub.status.idle": "2022-01-16T00:28:49.550564Z",
     "shell.execute_reply": "2022-01-16T00:28:49.550161Z"
    },
    "papermill": {
     "duration": 0.048599,
     "end_time": "2022-01-16T00:28:49.550665",
     "exception": false,
     "start_time": "2022-01-16T00:28:49.502066",
     "status": "completed"
    },
    "tags": []
   },
   "outputs": [],
   "source": [
    "#hide\n",
    "metrics = [df_table.columns[index] for index in [1,2,5,6]]\n",
    "# s_china = df_table[df_table['Country/Region'].eq('China')][metrics].sum().add_prefix('China ')\n",
    "s_us = df_table[df_table['Country/Region'].eq('US')][metrics].sum().add_prefix('US ')\n",
    "s_eu = df_table[df_table['Continent'].eq('Europe')][metrics].sum().add_prefix('EU ')\n",
    "s_ind = df_table[df_table['Country/Region'].eq('India')][metrics].sum().add_prefix('India ')\n",
    "summary = {'updated': pd.to_datetime(dt_today), 'since': pd.to_datetime(dt_yday)}\n",
    "summary = {'updated': pd.to_datetime(dt_today), 'since': pd.to_datetime(dt_yday)}\n",
    "summary = {**summary, **df_table[metrics].sum(), **s_ind, **s_us, **s_eu}"
   ]
  },
  {
   "cell_type": "code",
   "execution_count": 18,
   "id": "engaging-syndrome",
   "metadata": {
    "execution": {
     "iopub.execute_input": "2022-01-16T00:28:49.615547Z",
     "iopub.status.busy": "2022-01-16T00:28:49.615040Z",
     "iopub.status.idle": "2022-01-16T00:28:49.628860Z",
     "shell.execute_reply": "2022-01-16T00:28:49.628445Z"
    },
    "papermill": {
     "duration": 0.047878,
     "end_time": "2022-01-16T00:28:49.628969",
     "exception": false,
     "start_time": "2022-01-16T00:28:49.581091",
     "status": "completed"
    },
    "tags": []
   },
   "outputs": [],
   "source": [
    "#hide\n",
    "dft_ct_new_cases = dft_cases.groupby(COL_REGION)[dt_cols].sum().diff(axis=1).fillna(0).astype(int)"
   ]
  },
  {
   "cell_type": "code",
   "execution_count": 19,
   "id": "neutral-assignment",
   "metadata": {
    "execution": {
     "iopub.execute_input": "2022-01-16T00:28:49.695511Z",
     "iopub.status.busy": "2022-01-16T00:28:49.694921Z",
     "iopub.status.idle": "2022-01-16T00:28:49.697006Z",
     "shell.execute_reply": "2022-01-16T00:28:49.696579Z"
    },
    "papermill": {
     "duration": 0.037572,
     "end_time": "2022-01-16T00:28:49.697105",
     "exception": false,
     "start_time": "2022-01-16T00:28:49.659533",
     "status": "completed"
    },
    "tags": []
   },
   "outputs": [],
   "source": [
    "#hide\n",
    "everydaycases = dft_ct_new_cases.cumsum(axis=1)"
   ]
  },
  {
   "cell_type": "code",
   "execution_count": 20,
   "id": "parliamentary-calgary",
   "metadata": {
    "execution": {
     "iopub.execute_input": "2022-01-16T00:28:49.761795Z",
     "iopub.status.busy": "2022-01-16T00:28:49.761256Z",
     "iopub.status.idle": "2022-01-16T00:28:50.343424Z",
     "shell.execute_reply": "2022-01-16T00:28:50.343916Z"
    },
    "papermill": {
     "duration": 0.616524,
     "end_time": "2022-01-16T00:28:50.344095",
     "exception": false,
     "start_time": "2022-01-16T00:28:49.727571",
     "status": "completed"
    },
    "tags": []
   },
   "outputs": [],
   "source": [
    "#hide\n",
    "import pandas as pd\n",
    "import matplotlib.pyplot as plt\n",
    "import matplotlib.ticker as ticker\n",
    "import matplotlib.animation as animation\n",
    "from IPython.display import HTML"
   ]
  },
  {
   "cell_type": "code",
   "execution_count": 21,
   "id": "lasting-extraction",
   "metadata": {
    "execution": {
     "iopub.execute_input": "2022-01-16T00:28:50.408111Z",
     "iopub.status.busy": "2022-01-16T00:28:50.407601Z",
     "iopub.status.idle": "2022-01-16T00:28:50.417619Z",
     "shell.execute_reply": "2022-01-16T00:28:50.418093Z"
    },
    "papermill": {
     "duration": 0.043346,
     "end_time": "2022-01-16T00:28:50.418220",
     "exception": false,
     "start_time": "2022-01-16T00:28:50.374874",
     "status": "completed"
    },
    "tags": []
   },
   "outputs": [],
   "source": [
    "#hide\n",
    "t = everydaycases.stack()"
   ]
  },
  {
   "cell_type": "code",
   "execution_count": 22,
   "id": "premier-sleeve",
   "metadata": {
    "execution": {
     "iopub.execute_input": "2022-01-16T00:28:50.483103Z",
     "iopub.status.busy": "2022-01-16T00:28:50.482590Z",
     "iopub.status.idle": "2022-01-16T00:28:50.492557Z",
     "shell.execute_reply": "2022-01-16T00:28:50.493031Z"
    },
    "papermill": {
     "duration": 0.044369,
     "end_time": "2022-01-16T00:28:50.493151",
     "exception": false,
     "start_time": "2022-01-16T00:28:50.448782",
     "status": "completed"
    },
    "tags": []
   },
   "outputs": [],
   "source": [
    "#hide\n",
    "g = t.reset_index(['Country/Region'])"
   ]
  },
  {
   "cell_type": "code",
   "execution_count": 23,
   "id": "distributed-pittsburgh",
   "metadata": {
    "execution": {
     "iopub.execute_input": "2022-01-16T00:28:50.557291Z",
     "iopub.status.busy": "2022-01-16T00:28:50.556778Z",
     "iopub.status.idle": "2022-01-16T00:28:50.558498Z",
     "shell.execute_reply": "2022-01-16T00:28:50.558881Z"
    },
    "papermill": {
     "duration": 0.035474,
     "end_time": "2022-01-16T00:28:50.558999",
     "exception": false,
     "start_time": "2022-01-16T00:28:50.523525",
     "status": "completed"
    },
    "tags": []
   },
   "outputs": [],
   "source": [
    "#hide\n",
    "g.index.name = 'date'"
   ]
  },
  {
   "cell_type": "code",
   "execution_count": 24,
   "id": "naked-donor",
   "metadata": {
    "execution": {
     "iopub.execute_input": "2022-01-16T00:28:50.622772Z",
     "iopub.status.busy": "2022-01-16T00:28:50.622186Z",
     "iopub.status.idle": "2022-01-16T00:28:50.624336Z",
     "shell.execute_reply": "2022-01-16T00:28:50.623874Z"
    },
    "papermill": {
     "duration": 0.035109,
     "end_time": "2022-01-16T00:28:50.624449",
     "exception": false,
     "start_time": "2022-01-16T00:28:50.589340",
     "status": "completed"
    },
    "tags": []
   },
   "outputs": [],
   "source": [
    "# #hide\n",
    "# g = g.reset_index(['date'])"
   ]
  },
  {
   "cell_type": "code",
   "execution_count": 25,
   "id": "incomplete-mustang",
   "metadata": {
    "execution": {
     "iopub.execute_input": "2022-01-16T00:28:50.688887Z",
     "iopub.status.busy": "2022-01-16T00:28:50.688379Z",
     "iopub.status.idle": "2022-01-16T00:28:50.691986Z",
     "shell.execute_reply": "2022-01-16T00:28:50.691581Z"
    },
    "papermill": {
     "duration": 0.036803,
     "end_time": "2022-01-16T00:28:50.692087",
     "exception": false,
     "start_time": "2022-01-16T00:28:50.655284",
     "status": "completed"
    },
    "tags": []
   },
   "outputs": [],
   "source": [
    "#hide\n",
    "# g.head()"
   ]
  },
  {
   "cell_type": "code",
   "execution_count": 26,
   "id": "specific-kruger",
   "metadata": {
    "execution": {
     "iopub.execute_input": "2022-01-16T00:28:50.755828Z",
     "iopub.status.busy": "2022-01-16T00:28:50.755250Z",
     "iopub.status.idle": "2022-01-16T00:28:50.757403Z",
     "shell.execute_reply": "2022-01-16T00:28:50.756916Z"
    },
    "papermill": {
     "duration": 0.035047,
     "end_time": "2022-01-16T00:28:50.757513",
     "exception": false,
     "start_time": "2022-01-16T00:28:50.722466",
     "status": "completed"
    },
    "tags": []
   },
   "outputs": [],
   "source": [
    "#hide\n",
    "# g.columns = ['date','country','cases']"
   ]
  },
  {
   "cell_type": "code",
   "execution_count": 27,
   "id": "tender-conversion",
   "metadata": {
    "execution": {
     "iopub.execute_input": "2022-01-16T00:28:50.821378Z",
     "iopub.status.busy": "2022-01-16T00:28:50.820797Z",
     "iopub.status.idle": "2022-01-16T00:28:50.822494Z",
     "shell.execute_reply": "2022-01-16T00:28:50.822931Z"
    },
    "papermill": {
     "duration": 0.035066,
     "end_time": "2022-01-16T00:28:50.823057",
     "exception": false,
     "start_time": "2022-01-16T00:28:50.787991",
     "status": "completed"
    },
    "tags": []
   },
   "outputs": [],
   "source": [
    "#hide\n",
    "# g['continent'] = g.country"
   ]
  },
  {
   "cell_type": "code",
   "execution_count": 28,
   "id": "substantial-wilderness",
   "metadata": {
    "execution": {
     "iopub.execute_input": "2022-01-16T00:28:50.887524Z",
     "iopub.status.busy": "2022-01-16T00:28:50.886944Z",
     "iopub.status.idle": "2022-01-16T00:28:50.889094Z",
     "shell.execute_reply": "2022-01-16T00:28:50.888630Z"
    },
    "papermill": {
     "duration": 0.034891,
     "end_time": "2022-01-16T00:28:50.889207",
     "exception": false,
     "start_time": "2022-01-16T00:28:50.854316",
     "status": "completed"
    },
    "tags": []
   },
   "outputs": [],
   "source": [
    "#hide\n",
    "# cols = list(g.columns.values)"
   ]
  },
  {
   "cell_type": "code",
   "execution_count": 29,
   "id": "solved-farming",
   "metadata": {
    "execution": {
     "iopub.execute_input": "2022-01-16T00:28:50.953846Z",
     "iopub.status.busy": "2022-01-16T00:28:50.953236Z",
     "iopub.status.idle": "2022-01-16T00:28:50.954943Z",
     "shell.execute_reply": "2022-01-16T00:28:50.955383Z"
    },
    "papermill": {
     "duration": 0.035538,
     "end_time": "2022-01-16T00:28:50.955511",
     "exception": false,
     "start_time": "2022-01-16T00:28:50.919973",
     "status": "completed"
    },
    "tags": []
   },
   "outputs": [],
   "source": [
    "#hide\n",
    "# cols.insert(0, cols.pop())"
   ]
  },
  {
   "cell_type": "code",
   "execution_count": 30,
   "id": "executed-adoption",
   "metadata": {
    "execution": {
     "iopub.execute_input": "2022-01-16T00:28:51.020182Z",
     "iopub.status.busy": "2022-01-16T00:28:51.019599Z",
     "iopub.status.idle": "2022-01-16T00:28:51.022976Z",
     "shell.execute_reply": "2022-01-16T00:28:51.022521Z"
    },
    "papermill": {
     "duration": 0.036488,
     "end_time": "2022-01-16T00:28:51.023074",
     "exception": false,
     "start_time": "2022-01-16T00:28:50.986586",
     "status": "completed"
    },
    "tags": []
   },
   "outputs": [],
   "source": [
    "#hide\n",
    "# g = g[cols]"
   ]
  },
  {
   "cell_type": "code",
   "execution_count": 31,
   "id": "subject-dublin",
   "metadata": {
    "execution": {
     "iopub.execute_input": "2022-01-16T00:28:51.087267Z",
     "iopub.status.busy": "2022-01-16T00:28:51.086680Z",
     "iopub.status.idle": "2022-01-16T00:28:51.088814Z",
     "shell.execute_reply": "2022-01-16T00:28:51.088354Z"
    },
    "papermill": {
     "duration": 0.035421,
     "end_time": "2022-01-16T00:28:51.088928",
     "exception": false,
     "start_time": "2022-01-16T00:28:51.053507",
     "status": "completed"
    },
    "tags": []
   },
   "outputs": [],
   "source": [
    "#hide\n",
    "# g['continent'] = g['continent'].map(mapping['map.continent'])"
   ]
  },
  {
   "cell_type": "code",
   "execution_count": 32,
   "id": "freelance-scout",
   "metadata": {
    "execution": {
     "iopub.execute_input": "2022-01-16T00:28:51.153336Z",
     "iopub.status.busy": "2022-01-16T00:28:51.152754Z",
     "iopub.status.idle": "2022-01-16T00:28:51.156271Z",
     "shell.execute_reply": "2022-01-16T00:28:51.155867Z"
    },
    "papermill": {
     "duration": 0.036567,
     "end_time": "2022-01-16T00:28:51.156370",
     "exception": false,
     "start_time": "2022-01-16T00:28:51.119803",
     "status": "completed"
    },
    "tags": []
   },
   "outputs": [],
   "source": [
    "#hide\n",
    "# g.head()"
   ]
  },
  {
   "cell_type": "code",
   "execution_count": 33,
   "id": "limited-engine",
   "metadata": {
    "execution": {
     "iopub.execute_input": "2022-01-16T00:28:51.220384Z",
     "iopub.status.busy": "2022-01-16T00:28:51.219806Z",
     "iopub.status.idle": "2022-01-16T00:28:51.221470Z",
     "shell.execute_reply": "2022-01-16T00:28:51.221936Z"
    },
    "papermill": {
     "duration": 0.035347,
     "end_time": "2022-01-16T00:28:51.222066",
     "exception": false,
     "start_time": "2022-01-16T00:28:51.186719",
     "status": "completed"
    },
    "tags": []
   },
   "outputs": [],
   "source": [
    "# hide\n",
    "# g['date'] = g['date'].astype('datetime64[ns]')"
   ]
  },
  {
   "cell_type": "code",
   "execution_count": 34,
   "id": "sophisticated-supervisor",
   "metadata": {
    "execution": {
     "iopub.execute_input": "2022-01-16T00:28:51.286773Z",
     "iopub.status.busy": "2022-01-16T00:28:51.286164Z",
     "iopub.status.idle": "2022-01-16T00:28:51.289511Z",
     "shell.execute_reply": "2022-01-16T00:28:51.289979Z"
    },
    "papermill": {
     "duration": 0.037286,
     "end_time": "2022-01-16T00:28:51.290118",
     "exception": false,
     "start_time": "2022-01-16T00:28:51.252832",
     "status": "completed"
    },
    "tags": []
   },
   "outputs": [],
   "source": [
    "#hide\n",
    "# g['date'] = g.date.dt.dayofyear"
   ]
  },
  {
   "cell_type": "code",
   "execution_count": 35,
   "id": "inside-dubai",
   "metadata": {
    "execution": {
     "iopub.execute_input": "2022-01-16T00:28:51.354760Z",
     "iopub.status.busy": "2022-01-16T00:28:51.354183Z",
     "iopub.status.idle": "2022-01-16T00:28:51.356252Z",
     "shell.execute_reply": "2022-01-16T00:28:51.355828Z"
    },
    "papermill": {
     "duration": 0.035287,
     "end_time": "2022-01-16T00:28:51.356352",
     "exception": false,
     "start_time": "2022-01-16T00:28:51.321065",
     "status": "completed"
    },
    "tags": []
   },
   "outputs": [],
   "source": [
    "#hide\n",
    "# g = g.rename(columns= {'continent':'group','country':'name','cases':'value'})"
   ]
  },
  {
   "cell_type": "code",
   "execution_count": 36,
   "id": "fleet-motorcycle",
   "metadata": {
    "execution": {
     "iopub.execute_input": "2022-01-16T00:28:51.420331Z",
     "iopub.status.busy": "2022-01-16T00:28:51.419747Z",
     "iopub.status.idle": "2022-01-16T00:28:51.421898Z",
     "shell.execute_reply": "2022-01-16T00:28:51.421408Z"
    },
    "papermill": {
     "duration": 0.035224,
     "end_time": "2022-01-16T00:28:51.422018",
     "exception": false,
     "start_time": "2022-01-16T00:28:51.386794",
     "status": "completed"
    },
    "tags": []
   },
   "outputs": [],
   "source": [
    "#hide\n",
    "# cols = ['name','group','day','value']"
   ]
  },
  {
   "cell_type": "code",
   "execution_count": 37,
   "id": "continued-sleeping",
   "metadata": {
    "execution": {
     "iopub.execute_input": "2022-01-16T00:28:51.486115Z",
     "iopub.status.busy": "2022-01-16T00:28:51.485507Z",
     "iopub.status.idle": "2022-01-16T00:28:51.487653Z",
     "shell.execute_reply": "2022-01-16T00:28:51.487190Z"
    },
    "papermill": {
     "duration": 0.035008,
     "end_time": "2022-01-16T00:28:51.487752",
     "exception": false,
     "start_time": "2022-01-16T00:28:51.452744",
     "status": "completed"
    },
    "tags": []
   },
   "outputs": [],
   "source": [
    "#hide\n",
    "# g.rename(columns= {'date':'day'},inplace = True)"
   ]
  },
  {
   "cell_type": "code",
   "execution_count": 38,
   "id": "major-fight",
   "metadata": {
    "execution": {
     "iopub.execute_input": "2022-01-16T00:28:51.551446Z",
     "iopub.status.busy": "2022-01-16T00:28:51.550869Z",
     "iopub.status.idle": "2022-01-16T00:28:51.554154Z",
     "shell.execute_reply": "2022-01-16T00:28:51.554538Z"
    },
    "papermill": {
     "duration": 0.036517,
     "end_time": "2022-01-16T00:28:51.554651",
     "exception": false,
     "start_time": "2022-01-16T00:28:51.518134",
     "status": "completed"
    },
    "tags": []
   },
   "outputs": [],
   "source": [
    "#hide\n",
    "# g = g[cols]"
   ]
  },
  {
   "cell_type": "code",
   "execution_count": 39,
   "id": "structured-mobile",
   "metadata": {
    "execution": {
     "iopub.execute_input": "2022-01-16T00:28:51.618329Z",
     "iopub.status.busy": "2022-01-16T00:28:51.617736Z",
     "iopub.status.idle": "2022-01-16T00:28:51.619284Z",
     "shell.execute_reply": "2022-01-16T00:28:51.619705Z"
    },
    "papermill": {
     "duration": 0.034938,
     "end_time": "2022-01-16T00:28:51.619814",
     "exception": false,
     "start_time": "2022-01-16T00:28:51.584876",
     "status": "completed"
    },
    "tags": []
   },
   "outputs": [],
   "source": [
    "# #hide\n",
    "# g = g[g.group.notna()]"
   ]
  },
  {
   "cell_type": "code",
   "execution_count": 40,
   "id": "determined-closing",
   "metadata": {
    "execution": {
     "iopub.execute_input": "2022-01-16T00:28:51.683783Z",
     "iopub.status.busy": "2022-01-16T00:28:51.683194Z",
     "iopub.status.idle": "2022-01-16T00:28:51.684811Z",
     "shell.execute_reply": "2022-01-16T00:28:51.685275Z"
    },
    "papermill": {
     "duration": 0.035139,
     "end_time": "2022-01-16T00:28:51.685399",
     "exception": false,
     "start_time": "2022-01-16T00:28:51.650260",
     "status": "completed"
    },
    "tags": []
   },
   "outputs": [],
   "source": [
    "# #hide\n",
    "# colors = dict(zip(\n",
    "#     [\"Oceania\", \"Europe\", \"Asia\", \"South America\", \"Middle East\", \"North America\", \"Africa\"],\n",
    "#     [\"#adb0ff\", \"#ffb3ff\", \"#90d595\", \"#e48381\", \"#aafbff\", \"#f7bb5f\", \"#eafb50\"]\n",
    "# ))\n",
    "# group_lk = g.set_index('name')['group'].to_dict()"
   ]
  },
  {
   "cell_type": "code",
   "execution_count": null,
   "id": "gross-drinking",
   "metadata": {
    "papermill": {
     "duration": 0.03024,
     "end_time": "2022-01-16T00:28:51.746412",
     "exception": false,
     "start_time": "2022-01-16T00:28:51.716172",
     "status": "completed"
    },
    "tags": []
   },
   "outputs": [],
   "source": []
  },
  {
   "cell_type": "code",
   "execution_count": 41,
   "id": "subject-macintosh",
   "metadata": {
    "execution": {
     "iopub.execute_input": "2022-01-16T00:28:51.810826Z",
     "iopub.status.busy": "2022-01-16T00:28:51.810223Z",
     "iopub.status.idle": "2022-01-16T00:28:51.812321Z",
     "shell.execute_reply": "2022-01-16T00:28:51.811896Z"
    },
    "papermill": {
     "duration": 0.035624,
     "end_time": "2022-01-16T00:28:51.812417",
     "exception": false,
     "start_time": "2022-01-16T00:28:51.776793",
     "status": "completed"
    },
    "tags": []
   },
   "outputs": [],
   "source": [
    "# #hide\n",
    "# fig, ax = plt.subplots(figsize=(15, 8))\n",
    "\n",
    "# def draw_barchart(current_day):\n",
    "#     dff = g[g['day'].eq(current_day)].sort_values(by='value', ascending=True).tail(10)\n",
    "#     ax.clear()\n",
    "#     ax.barh(dff['name'], dff['value'], color=[colors[group_lk[x]] for x in dff['name']])\n",
    "#     dx = dff['value'].max() / 200\n",
    "    \n",
    "#     for i, (value, name) in enumerate(zip(dff['value'], dff['name'])):\n",
    "#         ax.text(value-dx, i,     name,           size=14, weight=600, ha='right', va='bottom')\n",
    "#         ax.text(value-dx, i-.25, group_lk[name], size=10, color='#444444', ha='right', va='baseline')\n",
    "#         ax.text(value+dx, i,     f'{value:,.0f}',  size=14, ha='left',  va='center')\n",
    "#     ax.text(1, 0.4, current_day, transform=ax.transAxes, color='#777777', size=46, ha='right', weight=800)\n",
    "#     ax.text(0, 1.06, 'Population (thousands)', transform=ax.transAxes, size=12, color='#777777')\n",
    "#     ax.xaxis.set_major_formatter(ticker.StrMethodFormatter('{x:,.0f}'))\n",
    "#     ax.xaxis.set_ticks_position('top')\n",
    "#     ax.tick_params(axis='x', colors='#777777', labelsize=12)\n",
    "#     ax.set_yticks([])\n",
    "#     ax.margins(0, 0.01)\n",
    "#     ax.grid(which='major', axis='x', linestyle='-')\n",
    "#     ax.set_axisbelow(True)\n",
    "    \n",
    "#     ax.text(0, 1.15, 'Coronavirus',\n",
    "#             transform=ax.transAxes, size=24, weight=600, ha='left', va='top')\n",
    "# #     ax.text(1, 0, 'by @pratapvardhan; credit @jburnmurdoch', transform=ax.transAxes, color='#777777', ha='right',\n",
    "# #             bbox=dict(facecolor='white', alpha=0.8, edgecolor='white'))\n",
    "#     plt.box(False)"
   ]
  },
  {
   "cell_type": "code",
   "execution_count": 42,
   "id": "sexual-wages",
   "metadata": {
    "execution": {
     "iopub.execute_input": "2022-01-16T00:28:51.876621Z",
     "iopub.status.busy": "2022-01-16T00:28:51.876034Z",
     "iopub.status.idle": "2022-01-16T00:28:51.879309Z",
     "shell.execute_reply": "2022-01-16T00:28:51.879750Z"
    },
    "papermill": {
     "duration": 0.03687,
     "end_time": "2022-01-16T00:28:51.879879",
     "exception": false,
     "start_time": "2022-01-16T00:28:51.843009",
     "status": "completed"
    },
    "tags": []
   },
   "outputs": [],
   "source": [
    "# #hide_input\n",
    "# fig, ax = plt.subplots(figsize=(15, 8))\n",
    "# animator = animation.FuncAnimation(fig, draw_barchart, frames=range(g.day.values.min(), g.day.values.max()))\n",
    "# HTML(animator.to_jshtml())\n",
    "# # or use animator.to_html5_video() or animator.save() "
   ]
  },
  {
   "cell_type": "code",
   "execution_count": null,
   "id": "australian-container",
   "metadata": {
    "papermill": {
     "duration": 0.030334,
     "end_time": "2022-01-16T00:28:51.941062",
     "exception": false,
     "start_time": "2022-01-16T00:28:51.910728",
     "status": "completed"
    },
    "tags": []
   },
   "outputs": [],
   "source": []
  },
  {
   "cell_type": "code",
   "execution_count": null,
   "id": "mediterranean-pontiac",
   "metadata": {
    "papermill": {
     "duration": 0.030255,
     "end_time": "2022-01-16T00:28:52.002056",
     "exception": false,
     "start_time": "2022-01-16T00:28:51.971801",
     "status": "completed"
    },
    "tags": []
   },
   "outputs": [],
   "source": []
  },
  {
   "cell_type": "code",
   "execution_count": null,
   "id": "aging-legislature",
   "metadata": {
    "papermill": {
     "duration": 0.030534,
     "end_time": "2022-01-16T00:28:52.063169",
     "exception": false,
     "start_time": "2022-01-16T00:28:52.032635",
     "status": "completed"
    },
    "tags": []
   },
   "outputs": [],
   "source": []
  }
 ],
 "metadata": {
  "kernelspec": {
   "display_name": "Python 3",
   "language": "python",
   "name": "python3"
  },
  "language_info": {
   "codemirror_mode": {
    "name": "ipython",
    "version": 3
   },
   "file_extension": ".py",
   "mimetype": "text/x-python",
   "name": "python",
   "nbconvert_exporter": "python",
   "pygments_lexer": "ipython3",
   "version": "3.6.15"
  },
  "papermill": {
   "duration": 5.748929,
   "end_time": "2022-01-16T00:28:52.412259",
   "environment_variables": {},
   "exception": null,
   "input_path": "2020-03-21-covid19exp.ipynb",
   "output_path": "2020-03-21-covid19exp.ipynb",
   "parameters": {},
   "start_time": "2022-01-16T00:28:46.663330",
   "version": "2.0.0"
  }
 },
 "nbformat": 4,
 "nbformat_minor": 5
}