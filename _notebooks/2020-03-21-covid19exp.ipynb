{
 "cells": [
  {
   "cell_type": "markdown",
   "id": "muslim-click",
   "metadata": {
    "papermill": {
     "duration": 0.033042,
     "end_time": "2022-02-06T12:11:03.760231",
     "exception": false,
     "start_time": "2022-02-06T12:11:03.727189",
     "status": "completed"
    },
    "tags": []
   },
   "source": [
    "# COVID-19 Case Race\n",
    "> A race chart to see rising cases around the world\n",
    "\n",
    "- author: Hargun Oberoi\n",
    "- image: images/covid-overview.png\n",
    "- hide: false\n",
    "- badges: false"
   ]
  },
  {
   "cell_type": "code",
   "execution_count": 1,
   "id": "proof-material",
   "metadata": {
    "execution": {
     "iopub.execute_input": "2022-02-06T12:11:03.830864Z",
     "iopub.status.busy": "2022-02-06T12:11:03.830325Z",
     "iopub.status.idle": "2022-02-06T12:11:04.159710Z",
     "shell.execute_reply": "2022-02-06T12:11:04.159151Z"
    },
    "papermill": {
     "duration": 0.369841,
     "end_time": "2022-02-06T12:11:04.159869",
     "exception": false,
     "start_time": "2022-02-06T12:11:03.790028",
     "status": "completed"
    },
    "tags": []
   },
   "outputs": [],
   "source": [
    "#hide\n",
    "import numpy as np\n",
    "import pandas as pd\n",
    "from jinja2 import Template\n",
    "from IPython.display import HTML"
   ]
  },
  {
   "cell_type": "code",
   "execution_count": 2,
   "id": "developed-terminology",
   "metadata": {
    "execution": {
     "iopub.execute_input": "2022-02-06T12:11:04.224974Z",
     "iopub.status.busy": "2022-02-06T12:11:04.224442Z",
     "iopub.status.idle": "2022-02-06T12:11:04.226982Z",
     "shell.execute_reply": "2022-02-06T12:11:04.226560Z"
    },
    "papermill": {
     "duration": 0.03692,
     "end_time": "2022-02-06T12:11:04.227118",
     "exception": false,
     "start_time": "2022-02-06T12:11:04.190198",
     "status": "completed"
    },
    "tags": []
   },
   "outputs": [],
   "source": [
    "#hide\n",
    "\n",
    "# FETCH\n",
    "base_url = 'https://raw.githubusercontent.com/pratapvardhan/notebooks/master/covid19/'\n",
    "paths = {\n",
    "    'mapping': base_url + 'mapping_countries.csv',\n",
    "    'overview': base_url + 'overview.tpl'\n",
    "}"
   ]
  },
  {
   "cell_type": "code",
   "execution_count": 3,
   "id": "dynamic-saver",
   "metadata": {
    "execution": {
     "iopub.execute_input": "2022-02-06T12:11:04.295170Z",
     "iopub.status.busy": "2022-02-06T12:11:04.294619Z",
     "iopub.status.idle": "2022-02-06T12:11:04.297712Z",
     "shell.execute_reply": "2022-02-06T12:11:04.297303Z"
    },
    "papermill": {
     "duration": 0.041362,
     "end_time": "2022-02-06T12:11:04.297821",
     "exception": false,
     "start_time": "2022-02-06T12:11:04.256459",
     "status": "completed"
    },
    "tags": []
   },
   "outputs": [
    {
     "data": {
      "text/plain": [
       "'https://raw.githubusercontent.com/pratapvardhan/notebooks/master/covid19/mapping_countries.csv'"
      ]
     },
     "execution_count": 3,
     "metadata": {},
     "output_type": "execute_result"
    }
   ],
   "source": [
    "#hide\n",
    "paths['mapping']"
   ]
  },
  {
   "cell_type": "code",
   "execution_count": 4,
   "id": "urban-software",
   "metadata": {
    "execution": {
     "iopub.execute_input": "2022-02-06T12:11:04.361969Z",
     "iopub.status.busy": "2022-02-06T12:11:04.361443Z",
     "iopub.status.idle": "2022-02-06T12:11:04.363842Z",
     "shell.execute_reply": "2022-02-06T12:11:04.363428Z"
    },
    "papermill": {
     "duration": 0.036469,
     "end_time": "2022-02-06T12:11:04.363949",
     "exception": false,
     "start_time": "2022-02-06T12:11:04.327480",
     "status": "completed"
    },
    "tags": []
   },
   "outputs": [],
   "source": [
    "#hide\n",
    "def get_mappings(url):\n",
    "    df = pd.read_csv(url)\n",
    "    return {\n",
    "        'df': df,\n",
    "        'replace.country': dict(df.dropna(subset=['Name']).set_index('Country')['Name']),\n",
    "        'map.continent': dict(df.set_index('Name')['Continent'])\n",
    "    }"
   ]
  },
  {
   "cell_type": "code",
   "execution_count": 5,
   "id": "intimate-machinery",
   "metadata": {
    "execution": {
     "iopub.execute_input": "2022-02-06T12:11:04.427794Z",
     "iopub.status.busy": "2022-02-06T12:11:04.427268Z",
     "iopub.status.idle": "2022-02-06T12:11:04.489903Z",
     "shell.execute_reply": "2022-02-06T12:11:04.489404Z"
    },
    "papermill": {
     "duration": 0.096811,
     "end_time": "2022-02-06T12:11:04.490033",
     "exception": false,
     "start_time": "2022-02-06T12:11:04.393222",
     "status": "completed"
    },
    "tags": []
   },
   "outputs": [],
   "source": [
    "#hide\n",
    "mapping = get_mappings(paths['mapping'])"
   ]
  },
  {
   "cell_type": "code",
   "execution_count": 6,
   "id": "certified-tactics",
   "metadata": {
    "execution": {
     "iopub.execute_input": "2022-02-06T12:11:04.554467Z",
     "iopub.status.busy": "2022-02-06T12:11:04.553932Z",
     "iopub.status.idle": "2022-02-06T12:11:04.556024Z",
     "shell.execute_reply": "2022-02-06T12:11:04.555590Z"
    },
    "papermill": {
     "duration": 0.036252,
     "end_time": "2022-02-06T12:11:04.556130",
     "exception": false,
     "start_time": "2022-02-06T12:11:04.519878",
     "status": "completed"
    },
    "tags": []
   },
   "outputs": [],
   "source": [
    "#hide\n",
    "def get_template(path):\n",
    "    from urllib.parse import urlparse\n",
    "    if bool(urlparse(path).netloc):\n",
    "        from urllib.request import urlopen\n",
    "        return urlopen(path).read().decode('utf8')\n",
    "    return open(path).read()"
   ]
  },
  {
   "cell_type": "code",
   "execution_count": 7,
   "id": "realistic-blast",
   "metadata": {
    "execution": {
     "iopub.execute_input": "2022-02-06T12:11:04.620015Z",
     "iopub.status.busy": "2022-02-06T12:11:04.619410Z",
     "iopub.status.idle": "2022-02-06T12:11:04.620885Z",
     "shell.execute_reply": "2022-02-06T12:11:04.621346Z"
    },
    "papermill": {
     "duration": 0.035977,
     "end_time": "2022-02-06T12:11:04.621484",
     "exception": false,
     "start_time": "2022-02-06T12:11:04.585507",
     "status": "completed"
    },
    "tags": []
   },
   "outputs": [],
   "source": [
    "#hide\n",
    "def get_frame(name):\n",
    "    url = (\n",
    "        'https://raw.githubusercontent.com/CSSEGISandData/COVID-19/master/csse_covid_19_data/'\n",
    "        f'csse_covid_19_time_series/time_series_covid19_{name}_global.csv')\n",
    "    df = pd.read_csv(url)\n",
    "    # rename countries\n",
    "    df['Country/Region'] = df['Country/Region'].replace(mapping['replace.country'])\n",
    "    return df"
   ]
  },
  {
   "cell_type": "code",
   "execution_count": 8,
   "id": "affiliated-characterization",
   "metadata": {
    "execution": {
     "iopub.execute_input": "2022-02-06T12:11:04.686544Z",
     "iopub.status.busy": "2022-02-06T12:11:04.685998Z",
     "iopub.status.idle": "2022-02-06T12:11:04.689658Z",
     "shell.execute_reply": "2022-02-06T12:11:04.689240Z"
    },
    "papermill": {
     "duration": 0.03855,
     "end_time": "2022-02-06T12:11:04.689771",
     "exception": false,
     "start_time": "2022-02-06T12:11:04.651221",
     "status": "completed"
    },
    "tags": []
   },
   "outputs": [],
   "source": [
    "#hide\n",
    "def get_dates(df):\n",
    "    dt_cols = df.columns[~df.columns.isin(['Province/State', 'Country/Region', 'Lat', 'Long'])]\n",
    "    LAST_DATE_I = -1\n",
    "    # sometimes last column may be empty, then go backwards\n",
    "    for i in range(-1, -len(dt_cols), -1):\n",
    "        if not df[dt_cols[i]].fillna(0).eq(0).all():\n",
    "            LAST_DATE_I = i\n",
    "            break\n",
    "    return LAST_DATE_I, dt_cols"
   ]
  },
  {
   "cell_type": "code",
   "execution_count": 9,
   "id": "recent-optimization",
   "metadata": {
    "execution": {
     "iopub.execute_input": "2022-02-06T12:11:04.753708Z",
     "iopub.status.busy": "2022-02-06T12:11:04.753177Z",
     "iopub.status.idle": "2022-02-06T12:11:05.339335Z",
     "shell.execute_reply": "2022-02-06T12:11:05.338784Z"
    },
    "papermill": {
     "duration": 0.620301,
     "end_time": "2022-02-06T12:11:05.339480",
     "exception": false,
     "start_time": "2022-02-06T12:11:04.719179",
     "status": "completed"
    },
    "tags": []
   },
   "outputs": [],
   "source": [
    "#hide\n",
    "COL_REGION = 'Country/Region'\n",
    "# Confirmed, Recovered, Deaths\n",
    "df = get_frame('confirmed')\n",
    "# dft_: timeseries, dfc_: today country agg\n",
    "dft_cases = df\n",
    "dft_deaths = get_frame('deaths')\n",
    "dft_recovered = get_frame('recovered')\n",
    "LAST_DATE_I, dt_cols = get_dates(df)"
   ]
  },
  {
   "cell_type": "code",
   "execution_count": 10,
   "id": "absolute-copper",
   "metadata": {
    "execution": {
     "iopub.execute_input": "2022-02-06T12:11:05.405254Z",
     "iopub.status.busy": "2022-02-06T12:11:05.404737Z",
     "iopub.status.idle": "2022-02-06T12:11:05.407221Z",
     "shell.execute_reply": "2022-02-06T12:11:05.406757Z"
    },
    "papermill": {
     "duration": 0.037208,
     "end_time": "2022-02-06T12:11:05.407333",
     "exception": false,
     "start_time": "2022-02-06T12:11:05.370125",
     "status": "completed"
    },
    "tags": []
   },
   "outputs": [],
   "source": [
    "#hide\n",
    "LAST_DATE_I, dt_cols = get_dates(df)\n",
    "dt_today =dt_cols[LAST_DATE_I]\n",
    "# dt_5day = dt_cols[LAST_DATE_I - 5]\n",
    "dt_yday = dt_cols[LAST_DATE_I - 1]"
   ]
  },
  {
   "cell_type": "code",
   "execution_count": 11,
   "id": "restricted-sheriff",
   "metadata": {
    "execution": {
     "iopub.execute_input": "2022-02-06T12:11:05.472771Z",
     "iopub.status.busy": "2022-02-06T12:11:05.472228Z",
     "iopub.status.idle": "2022-02-06T12:11:05.479760Z",
     "shell.execute_reply": "2022-02-06T12:11:05.479329Z"
    },
    "papermill": {
     "duration": 0.043048,
     "end_time": "2022-02-06T12:11:05.479877",
     "exception": false,
     "start_time": "2022-02-06T12:11:05.436829",
     "status": "completed"
    },
    "tags": []
   },
   "outputs": [],
   "source": [
    "#hide\n",
    "dfc_cases = dft_cases.groupby(COL_REGION)[dt_today].sum()\n",
    "dfc_deaths = dft_deaths.groupby(COL_REGION)[dt_today].sum()\n",
    "# dfp_cases = dft_cases.groupby(COL_REGION)[dt_5day].sum()\n",
    "# dfp_deaths = dft_deaths.groupby(COL_REGION)[dt_5day].sum()\n",
    "dfp_cases = dft_cases.groupby(COL_REGION)[dt_yday].sum()\n",
    "dfp_deaths = dft_deaths.groupby(COL_REGION)[dt_yday].sum()"
   ]
  },
  {
   "cell_type": "code",
   "execution_count": 12,
   "id": "deluxe-hepatitis",
   "metadata": {
    "execution": {
     "iopub.execute_input": "2022-02-06T12:11:05.545456Z",
     "iopub.status.busy": "2022-02-06T12:11:05.544927Z",
     "iopub.status.idle": "2022-02-06T12:11:05.549689Z",
     "shell.execute_reply": "2022-02-06T12:11:05.549269Z"
    },
    "papermill": {
     "duration": 0.040271,
     "end_time": "2022-02-06T12:11:05.549804",
     "exception": false,
     "start_time": "2022-02-06T12:11:05.509533",
     "status": "completed"
    },
    "tags": []
   },
   "outputs": [],
   "source": [
    "#hide\n",
    "df_table = (pd.DataFrame(dict(Cases = dfc_cases, Deaths = dfc_deaths, PCases = dfp_cases, PDeaths = dfp_deaths))\n",
    "            .sort_values(by = ['Cases','Deaths'], ascending = [False, False])\n",
    "            .reset_index())"
   ]
  },
  {
   "cell_type": "code",
   "execution_count": 13,
   "id": "educational-chancellor",
   "metadata": {
    "execution": {
     "iopub.execute_input": "2022-02-06T12:11:05.627511Z",
     "iopub.status.busy": "2022-02-06T12:11:05.626914Z",
     "iopub.status.idle": "2022-02-06T12:11:05.633732Z",
     "shell.execute_reply": "2022-02-06T12:11:05.634116Z"
    },
    "papermill": {
     "duration": 0.055019,
     "end_time": "2022-02-06T12:11:05.634249",
     "exception": false,
     "start_time": "2022-02-06T12:11:05.579230",
     "status": "completed"
    },
    "tags": []
   },
   "outputs": [
    {
     "data": {
      "text/html": [
       "<div>\n",
       "<style scoped>\n",
       "    .dataframe tbody tr th:only-of-type {\n",
       "        vertical-align: middle;\n",
       "    }\n",
       "\n",
       "    .dataframe tbody tr th {\n",
       "        vertical-align: top;\n",
       "    }\n",
       "\n",
       "    .dataframe thead th {\n",
       "        text-align: right;\n",
       "    }\n",
       "</style>\n",
       "<table border=\"1\" class=\"dataframe\">\n",
       "  <thead>\n",
       "    <tr style=\"text-align: right;\">\n",
       "      <th></th>\n",
       "      <th>Country/Region</th>\n",
       "      <th>Cases</th>\n",
       "      <th>Deaths</th>\n",
       "      <th>PCases</th>\n",
       "      <th>PDeaths</th>\n",
       "      <th>Cases (+)</th>\n",
       "      <th>Deaths (+)</th>\n",
       "      <th>Fatality Rate</th>\n",
       "      <th>Continent</th>\n",
       "    </tr>\n",
       "  </thead>\n",
       "  <tbody>\n",
       "    <tr>\n",
       "      <th>0</th>\n",
       "      <td>US</td>\n",
       "      <td>76458144</td>\n",
       "      <td>902266</td>\n",
       "      <td>76354040</td>\n",
       "      <td>901391</td>\n",
       "      <td>104104</td>\n",
       "      <td>875</td>\n",
       "      <td>1.18</td>\n",
       "      <td>North America</td>\n",
       "    </tr>\n",
       "    <tr>\n",
       "      <th>1</th>\n",
       "      <td>India</td>\n",
       "      <td>42188138</td>\n",
       "      <td>501979</td>\n",
       "      <td>42080664</td>\n",
       "      <td>501114</td>\n",
       "      <td>107474</td>\n",
       "      <td>865</td>\n",
       "      <td>1.19</td>\n",
       "      <td>Asia</td>\n",
       "    </tr>\n",
       "    <tr>\n",
       "      <th>2</th>\n",
       "      <td>Brazil</td>\n",
       "      <td>26484546</td>\n",
       "      <td>632095</td>\n",
       "      <td>26326454</td>\n",
       "      <td>631265</td>\n",
       "      <td>158092</td>\n",
       "      <td>830</td>\n",
       "      <td>2.39</td>\n",
       "      <td>South America</td>\n",
       "    </tr>\n",
       "    <tr>\n",
       "      <th>3</th>\n",
       "      <td>France</td>\n",
       "      <td>20731613</td>\n",
       "      <td>133372</td>\n",
       "      <td>20517059</td>\n",
       "      <td>133202</td>\n",
       "      <td>214554</td>\n",
       "      <td>170</td>\n",
       "      <td>0.64</td>\n",
       "      <td>Europe</td>\n",
       "    </tr>\n",
       "    <tr>\n",
       "      <th>4</th>\n",
       "      <td>United Kingdom</td>\n",
       "      <td>17870379</td>\n",
       "      <td>158781</td>\n",
       "      <td>17810151</td>\n",
       "      <td>158521</td>\n",
       "      <td>60228</td>\n",
       "      <td>260</td>\n",
       "      <td>0.89</td>\n",
       "      <td>Europe</td>\n",
       "    </tr>\n",
       "  </tbody>\n",
       "</table>\n",
       "</div>"
      ],
      "text/plain": [
       "   Country/Region     Cases  Deaths    PCases  PDeaths  Cases (+)  Deaths (+)  \\\n",
       "0              US  76458144  902266  76354040   901391     104104         875   \n",
       "1           India  42188138  501979  42080664   501114     107474         865   \n",
       "2          Brazil  26484546  632095  26326454   631265     158092         830   \n",
       "3          France  20731613  133372  20517059   133202     214554         170   \n",
       "4  United Kingdom  17870379  158781  17810151   158521      60228         260   \n",
       "\n",
       "   Fatality Rate      Continent  \n",
       "0           1.18  North America  \n",
       "1           1.19           Asia  \n",
       "2           2.39  South America  \n",
       "3           0.64         Europe  \n",
       "4           0.89         Europe  "
      ]
     },
     "execution_count": 13,
     "metadata": {},
     "output_type": "execute_result"
    }
   ],
   "source": [
    "#hide\n",
    "for c in 'Cases, Deaths'.split(', '):\n",
    "    df_table[f'{c} (+)'] = (df_table[c] - df_table[f'P{c}']).clip(0)\n",
    "    #Clip ça veut dire, les chiffres negatif sont interdit\n",
    "df_table['Fatality Rate'] = (100* df_table['Deaths']/ df_table['Cases']).round(2)\n",
    "df_table['Continent'] = df_table['Country/Region'].map(mapping['map.continent'])\n",
    "df_table.head(5)"
   ]
  },
  {
   "cell_type": "code",
   "execution_count": 14,
   "id": "aboriginal-bulgaria",
   "metadata": {
    "execution": {
     "iopub.execute_input": "2022-02-06T12:11:05.700042Z",
     "iopub.status.busy": "2022-02-06T12:11:05.699513Z",
     "iopub.status.idle": "2022-02-06T12:11:05.702971Z",
     "shell.execute_reply": "2022-02-06T12:11:05.702534Z"
    },
    "papermill": {
     "duration": 0.038774,
     "end_time": "2022-02-06T12:11:05.703117",
     "exception": false,
     "start_time": "2022-02-06T12:11:05.664343",
     "status": "completed"
    },
    "tags": []
   },
   "outputs": [],
   "source": [
    "#hide\n",
    "#delete problematic countries from table\n",
    "df_table = df_table[~df_table['Country/Region'].isin(['Cape Verde', 'Cruise Ship', 'Kosovo'])]"
   ]
  },
  {
   "cell_type": "code",
   "execution_count": 15,
   "id": "fantastic-effect",
   "metadata": {
    "execution": {
     "iopub.execute_input": "2022-02-06T12:11:05.771149Z",
     "iopub.status.busy": "2022-02-06T12:11:05.769913Z",
     "iopub.status.idle": "2022-02-06T12:11:05.788517Z",
     "shell.execute_reply": "2022-02-06T12:11:05.788954Z"
    },
    "papermill": {
     "duration": 0.056244,
     "end_time": "2022-02-06T12:11:05.789082",
     "exception": false,
     "start_time": "2022-02-06T12:11:05.732838",
     "status": "completed"
    },
    "tags": []
   },
   "outputs": [
    {
     "data": {
      "text/html": [
       "<div>\n",
       "<style scoped>\n",
       "    .dataframe tbody tr th:only-of-type {\n",
       "        vertical-align: middle;\n",
       "    }\n",
       "\n",
       "    .dataframe tbody tr th {\n",
       "        vertical-align: top;\n",
       "    }\n",
       "\n",
       "    .dataframe thead th {\n",
       "        text-align: right;\n",
       "    }\n",
       "</style>\n",
       "<table border=\"1\" class=\"dataframe\">\n",
       "  <thead>\n",
       "    <tr style=\"text-align: right;\">\n",
       "      <th></th>\n",
       "      <th>Country/Region</th>\n",
       "      <th>Cases</th>\n",
       "      <th>Deaths</th>\n",
       "      <th>PCases</th>\n",
       "      <th>PDeaths</th>\n",
       "      <th>Cases (+)</th>\n",
       "      <th>Deaths (+)</th>\n",
       "      <th>Fatality Rate</th>\n",
       "      <th>Continent</th>\n",
       "    </tr>\n",
       "  </thead>\n",
       "  <tbody>\n",
       "    <tr>\n",
       "      <th>0</th>\n",
       "      <td>US</td>\n",
       "      <td>76458144</td>\n",
       "      <td>902266</td>\n",
       "      <td>76354040</td>\n",
       "      <td>901391</td>\n",
       "      <td>104104</td>\n",
       "      <td>875</td>\n",
       "      <td>1.2</td>\n",
       "      <td>North America</td>\n",
       "    </tr>\n",
       "    <tr>\n",
       "      <th>1</th>\n",
       "      <td>India</td>\n",
       "      <td>42188138</td>\n",
       "      <td>501979</td>\n",
       "      <td>42080664</td>\n",
       "      <td>501114</td>\n",
       "      <td>107474</td>\n",
       "      <td>865</td>\n",
       "      <td>1.2</td>\n",
       "      <td>Asia</td>\n",
       "    </tr>\n",
       "    <tr>\n",
       "      <th>2</th>\n",
       "      <td>Brazil</td>\n",
       "      <td>26484546</td>\n",
       "      <td>632095</td>\n",
       "      <td>26326454</td>\n",
       "      <td>631265</td>\n",
       "      <td>158092</td>\n",
       "      <td>830</td>\n",
       "      <td>2.4</td>\n",
       "      <td>South America</td>\n",
       "    </tr>\n",
       "    <tr>\n",
       "      <th>3</th>\n",
       "      <td>France</td>\n",
       "      <td>20731613</td>\n",
       "      <td>133372</td>\n",
       "      <td>20517059</td>\n",
       "      <td>133202</td>\n",
       "      <td>214554</td>\n",
       "      <td>170</td>\n",
       "      <td>0.6</td>\n",
       "      <td>Europe</td>\n",
       "    </tr>\n",
       "    <tr>\n",
       "      <th>4</th>\n",
       "      <td>United Kingdom</td>\n",
       "      <td>17870379</td>\n",
       "      <td>158781</td>\n",
       "      <td>17810151</td>\n",
       "      <td>158521</td>\n",
       "      <td>60228</td>\n",
       "      <td>260</td>\n",
       "      <td>0.9</td>\n",
       "      <td>Europe</td>\n",
       "    </tr>\n",
       "  </tbody>\n",
       "</table>\n",
       "</div>"
      ],
      "text/plain": [
       "   Country/Region     Cases  Deaths    PCases  PDeaths  Cases (+)  Deaths (+)  \\\n",
       "0              US  76458144  902266  76354040   901391     104104         875   \n",
       "1           India  42188138  501979  42080664   501114     107474         865   \n",
       "2          Brazil  26484546  632095  26326454   631265     158092         830   \n",
       "3          France  20731613  133372  20517059   133202     214554         170   \n",
       "4  United Kingdom  17870379  158781  17810151   158521      60228         260   \n",
       "\n",
       "   Fatality Rate      Continent  \n",
       "0            1.2  North America  \n",
       "1            1.2           Asia  \n",
       "2            2.4  South America  \n",
       "3            0.6         Europe  \n",
       "4            0.9         Europe  "
      ]
     },
     "execution_count": 15,
     "metadata": {},
     "output_type": "execute_result"
    }
   ],
   "source": [
    "#hide\n",
    "df_table = (pd.DataFrame(dict(Cases=dfc_cases, Deaths=dfc_deaths, PCases=dfp_cases, PDeaths=dfp_deaths))\n",
    "             .sort_values(by=['Cases', 'Deaths'], ascending=[False, False])\n",
    "             .reset_index())\n",
    "df_table.rename(columns={'index': 'Country/Region'}, inplace=True)\n",
    "for c in 'Cases, Deaths'.split(', '):\n",
    "    df_table[f'{c} (+)'] = (df_table[c] - df_table[f'P{c}']).clip(0)  # DATA BUG\n",
    "df_table['Fatality Rate'] = (100 * df_table['Deaths'] / df_table['Cases']).round(1)\n",
    "df_table['Continent'] = df_table['Country/Region'].map(mapping['map.continent'])\n",
    "df_table.head(5)"
   ]
  },
  {
   "cell_type": "code",
   "execution_count": 16,
   "id": "fewer-occasion",
   "metadata": {
    "execution": {
     "iopub.execute_input": "2022-02-06T12:11:05.855878Z",
     "iopub.status.busy": "2022-02-06T12:11:05.855352Z",
     "iopub.status.idle": "2022-02-06T12:11:05.858325Z",
     "shell.execute_reply": "2022-02-06T12:11:05.857917Z"
    },
    "papermill": {
     "duration": 0.038662,
     "end_time": "2022-02-06T12:11:05.858434",
     "exception": false,
     "start_time": "2022-02-06T12:11:05.819772",
     "status": "completed"
    },
    "tags": []
   },
   "outputs": [],
   "source": [
    "#hide\n",
    "#delete problematic countries from table\n",
    "df_table = df_table[~df_table['Country/Region'].isin(['Cape Verde', 'Cruise Ship', 'Kosovo'])]"
   ]
  },
  {
   "cell_type": "code",
   "execution_count": 17,
   "id": "related-center",
   "metadata": {
    "execution": {
     "iopub.execute_input": "2022-02-06T12:11:05.937031Z",
     "iopub.status.busy": "2022-02-06T12:11:05.936481Z",
     "iopub.status.idle": "2022-02-06T12:11:05.938111Z",
     "shell.execute_reply": "2022-02-06T12:11:05.938517Z"
    },
    "papermill": {
     "duration": 0.050027,
     "end_time": "2022-02-06T12:11:05.938646",
     "exception": false,
     "start_time": "2022-02-06T12:11:05.888619",
     "status": "completed"
    },
    "tags": []
   },
   "outputs": [],
   "source": [
    "#hide\n",
    "metrics = [df_table.columns[index] for index in [1,2,5,6]]\n",
    "# s_china = df_table[df_table['Country/Region'].eq('China')][metrics].sum().add_prefix('China ')\n",
    "s_us = df_table[df_table['Country/Region'].eq('US')][metrics].sum().add_prefix('US ')\n",
    "s_eu = df_table[df_table['Continent'].eq('Europe')][metrics].sum().add_prefix('EU ')\n",
    "s_ind = df_table[df_table['Country/Region'].eq('India')][metrics].sum().add_prefix('India ')\n",
    "summary = {'updated': pd.to_datetime(dt_today), 'since': pd.to_datetime(dt_yday)}\n",
    "summary = {'updated': pd.to_datetime(dt_today), 'since': pd.to_datetime(dt_yday)}\n",
    "summary = {**summary, **df_table[metrics].sum(), **s_ind, **s_us, **s_eu}"
   ]
  },
  {
   "cell_type": "code",
   "execution_count": 18,
   "id": "engaging-syndrome",
   "metadata": {
    "execution": {
     "iopub.execute_input": "2022-02-06T12:11:06.004874Z",
     "iopub.status.busy": "2022-02-06T12:11:06.004356Z",
     "iopub.status.idle": "2022-02-06T12:11:06.018372Z",
     "shell.execute_reply": "2022-02-06T12:11:06.018778Z"
    },
    "papermill": {
     "duration": 0.049753,
     "end_time": "2022-02-06T12:11:06.018918",
     "exception": false,
     "start_time": "2022-02-06T12:11:05.969165",
     "status": "completed"
    },
    "tags": []
   },
   "outputs": [],
   "source": [
    "#hide\n",
    "dft_ct_new_cases = dft_cases.groupby(COL_REGION)[dt_cols].sum().diff(axis=1).fillna(0).astype(int)"
   ]
  },
  {
   "cell_type": "code",
   "execution_count": 19,
   "id": "neutral-assignment",
   "metadata": {
    "execution": {
     "iopub.execute_input": "2022-02-06T12:11:06.084455Z",
     "iopub.status.busy": "2022-02-06T12:11:06.083942Z",
     "iopub.status.idle": "2022-02-06T12:11:06.088733Z",
     "shell.execute_reply": "2022-02-06T12:11:06.088321Z"
    },
    "papermill": {
     "duration": 0.03939,
     "end_time": "2022-02-06T12:11:06.088846",
     "exception": false,
     "start_time": "2022-02-06T12:11:06.049456",
     "status": "completed"
    },
    "tags": []
   },
   "outputs": [],
   "source": [
    "#hide\n",
    "everydaycases = dft_ct_new_cases.cumsum(axis=1)"
   ]
  },
  {
   "cell_type": "code",
   "execution_count": 20,
   "id": "parliamentary-calgary",
   "metadata": {
    "execution": {
     "iopub.execute_input": "2022-02-06T12:11:06.154018Z",
     "iopub.status.busy": "2022-02-06T12:11:06.153501Z",
     "iopub.status.idle": "2022-02-06T12:11:06.737728Z",
     "shell.execute_reply": "2022-02-06T12:11:06.737214Z"
    },
    "papermill": {
     "duration": 0.618539,
     "end_time": "2022-02-06T12:11:06.737853",
     "exception": false,
     "start_time": "2022-02-06T12:11:06.119314",
     "status": "completed"
    },
    "tags": []
   },
   "outputs": [],
   "source": [
    "#hide\n",
    "import pandas as pd\n",
    "import matplotlib.pyplot as plt\n",
    "import matplotlib.ticker as ticker\n",
    "import matplotlib.animation as animation\n",
    "from IPython.display import HTML"
   ]
  },
  {
   "cell_type": "code",
   "execution_count": 21,
   "id": "lasting-extraction",
   "metadata": {
    "execution": {
     "iopub.execute_input": "2022-02-06T12:11:06.804566Z",
     "iopub.status.busy": "2022-02-06T12:11:06.804054Z",
     "iopub.status.idle": "2022-02-06T12:11:06.811626Z",
     "shell.execute_reply": "2022-02-06T12:11:06.810719Z"
    },
    "papermill": {
     "duration": 0.043586,
     "end_time": "2022-02-06T12:11:06.811741",
     "exception": false,
     "start_time": "2022-02-06T12:11:06.768155",
     "status": "completed"
    },
    "tags": []
   },
   "outputs": [],
   "source": [
    "#hide\n",
    "t = everydaycases.stack()"
   ]
  },
  {
   "cell_type": "code",
   "execution_count": 22,
   "id": "premier-sleeve",
   "metadata": {
    "execution": {
     "iopub.execute_input": "2022-02-06T12:11:06.877137Z",
     "iopub.status.busy": "2022-02-06T12:11:06.876523Z",
     "iopub.status.idle": "2022-02-06T12:11:06.886218Z",
     "shell.execute_reply": "2022-02-06T12:11:06.885784Z"
    },
    "papermill": {
     "duration": 0.044235,
     "end_time": "2022-02-06T12:11:06.886334",
     "exception": false,
     "start_time": "2022-02-06T12:11:06.842099",
     "status": "completed"
    },
    "tags": []
   },
   "outputs": [],
   "source": [
    "#hide\n",
    "g = t.reset_index(['Country/Region'])"
   ]
  },
  {
   "cell_type": "code",
   "execution_count": 23,
   "id": "distributed-pittsburgh",
   "metadata": {
    "execution": {
     "iopub.execute_input": "2022-02-06T12:11:06.951634Z",
     "iopub.status.busy": "2022-02-06T12:11:06.951091Z",
     "iopub.status.idle": "2022-02-06T12:11:06.953078Z",
     "shell.execute_reply": "2022-02-06T12:11:06.952561Z"
    },
    "papermill": {
     "duration": 0.036372,
     "end_time": "2022-02-06T12:11:06.953191",
     "exception": false,
     "start_time": "2022-02-06T12:11:06.916819",
     "status": "completed"
    },
    "tags": []
   },
   "outputs": [],
   "source": [
    "#hide\n",
    "g.index.name = 'date'"
   ]
  },
  {
   "cell_type": "code",
   "execution_count": 24,
   "id": "naked-donor",
   "metadata": {
    "execution": {
     "iopub.execute_input": "2022-02-06T12:11:07.017769Z",
     "iopub.status.busy": "2022-02-06T12:11:07.017163Z",
     "iopub.status.idle": "2022-02-06T12:11:07.018722Z",
     "shell.execute_reply": "2022-02-06T12:11:07.019182Z"
    },
    "papermill": {
     "duration": 0.035755,
     "end_time": "2022-02-06T12:11:07.019329",
     "exception": false,
     "start_time": "2022-02-06T12:11:06.983574",
     "status": "completed"
    },
    "tags": []
   },
   "outputs": [],
   "source": [
    "# #hide\n",
    "# g = g.reset_index(['date'])"
   ]
  },
  {
   "cell_type": "code",
   "execution_count": 25,
   "id": "incomplete-mustang",
   "metadata": {
    "execution": {
     "iopub.execute_input": "2022-02-06T12:11:07.083556Z",
     "iopub.status.busy": "2022-02-06T12:11:07.082919Z",
     "iopub.status.idle": "2022-02-06T12:11:07.085845Z",
     "shell.execute_reply": "2022-02-06T12:11:07.085416Z"
    },
    "papermill": {
     "duration": 0.035949,
     "end_time": "2022-02-06T12:11:07.085949",
     "exception": false,
     "start_time": "2022-02-06T12:11:07.050000",
     "status": "completed"
    },
    "tags": []
   },
   "outputs": [],
   "source": [
    "#hide\n",
    "# g.head()"
   ]
  },
  {
   "cell_type": "code",
   "execution_count": 26,
   "id": "specific-kruger",
   "metadata": {
    "execution": {
     "iopub.execute_input": "2022-02-06T12:11:07.150529Z",
     "iopub.status.busy": "2022-02-06T12:11:07.149930Z",
     "iopub.status.idle": "2022-02-06T12:11:07.153842Z",
     "shell.execute_reply": "2022-02-06T12:11:07.153374Z"
    },
    "papermill": {
     "duration": 0.037658,
     "end_time": "2022-02-06T12:11:07.153966",
     "exception": false,
     "start_time": "2022-02-06T12:11:07.116308",
     "status": "completed"
    },
    "tags": []
   },
   "outputs": [],
   "source": [
    "#hide\n",
    "# g.columns = ['date','country','cases']"
   ]
  },
  {
   "cell_type": "code",
   "execution_count": 27,
   "id": "tender-conversion",
   "metadata": {
    "execution": {
     "iopub.execute_input": "2022-02-06T12:11:07.218772Z",
     "iopub.status.busy": "2022-02-06T12:11:07.218168Z",
     "iopub.status.idle": "2022-02-06T12:11:07.219881Z",
     "shell.execute_reply": "2022-02-06T12:11:07.220350Z"
    },
    "papermill": {
     "duration": 0.035995,
     "end_time": "2022-02-06T12:11:07.220493",
     "exception": false,
     "start_time": "2022-02-06T12:11:07.184498",
     "status": "completed"
    },
    "tags": []
   },
   "outputs": [],
   "source": [
    "#hide\n",
    "# g['continent'] = g.country"
   ]
  },
  {
   "cell_type": "code",
   "execution_count": 28,
   "id": "substantial-wilderness",
   "metadata": {
    "execution": {
     "iopub.execute_input": "2022-02-06T12:11:07.286546Z",
     "iopub.status.busy": "2022-02-06T12:11:07.285952Z",
     "iopub.status.idle": "2022-02-06T12:11:07.289690Z",
     "shell.execute_reply": "2022-02-06T12:11:07.289276Z"
    },
    "papermill": {
     "duration": 0.037835,
     "end_time": "2022-02-06T12:11:07.289802",
     "exception": false,
     "start_time": "2022-02-06T12:11:07.251967",
     "status": "completed"
    },
    "tags": []
   },
   "outputs": [],
   "source": [
    "#hide\n",
    "# cols = list(g.columns.values)"
   ]
  },
  {
   "cell_type": "code",
   "execution_count": 29,
   "id": "solved-farming",
   "metadata": {
    "execution": {
     "iopub.execute_input": "2022-02-06T12:11:07.354300Z",
     "iopub.status.busy": "2022-02-06T12:11:07.353709Z",
     "iopub.status.idle": "2022-02-06T12:11:07.355921Z",
     "shell.execute_reply": "2022-02-06T12:11:07.355424Z"
    },
    "papermill": {
     "duration": 0.035867,
     "end_time": "2022-02-06T12:11:07.356043",
     "exception": false,
     "start_time": "2022-02-06T12:11:07.320176",
     "status": "completed"
    },
    "tags": []
   },
   "outputs": [],
   "source": [
    "#hide\n",
    "# cols.insert(0, cols.pop())"
   ]
  },
  {
   "cell_type": "code",
   "execution_count": 30,
   "id": "executed-adoption",
   "metadata": {
    "execution": {
     "iopub.execute_input": "2022-02-06T12:11:07.420840Z",
     "iopub.status.busy": "2022-02-06T12:11:07.420323Z",
     "iopub.status.idle": "2022-02-06T12:11:07.422549Z",
     "shell.execute_reply": "2022-02-06T12:11:07.422143Z"
    },
    "papermill": {
     "duration": 0.035826,
     "end_time": "2022-02-06T12:11:07.422659",
     "exception": false,
     "start_time": "2022-02-06T12:11:07.386833",
     "status": "completed"
    },
    "tags": []
   },
   "outputs": [],
   "source": [
    "#hide\n",
    "# g = g[cols]"
   ]
  },
  {
   "cell_type": "code",
   "execution_count": 31,
   "id": "subject-dublin",
   "metadata": {
    "execution": {
     "iopub.execute_input": "2022-02-06T12:11:07.487417Z",
     "iopub.status.busy": "2022-02-06T12:11:07.486855Z",
     "iopub.status.idle": "2022-02-06T12:11:07.488859Z",
     "shell.execute_reply": "2022-02-06T12:11:07.489273Z"
    },
    "papermill": {
     "duration": 0.036467,
     "end_time": "2022-02-06T12:11:07.489401",
     "exception": false,
     "start_time": "2022-02-06T12:11:07.452934",
     "status": "completed"
    },
    "tags": []
   },
   "outputs": [],
   "source": [
    "#hide\n",
    "# g['continent'] = g['continent'].map(mapping['map.continent'])"
   ]
  },
  {
   "cell_type": "code",
   "execution_count": 32,
   "id": "freelance-scout",
   "metadata": {
    "execution": {
     "iopub.execute_input": "2022-02-06T12:11:07.554173Z",
     "iopub.status.busy": "2022-02-06T12:11:07.553638Z",
     "iopub.status.idle": "2022-02-06T12:11:07.555732Z",
     "shell.execute_reply": "2022-02-06T12:11:07.555289Z"
    },
    "papermill": {
     "duration": 0.035842,
     "end_time": "2022-02-06T12:11:07.555840",
     "exception": false,
     "start_time": "2022-02-06T12:11:07.519998",
     "status": "completed"
    },
    "tags": []
   },
   "outputs": [],
   "source": [
    "#hide\n",
    "# g.head()"
   ]
  },
  {
   "cell_type": "code",
   "execution_count": 33,
   "id": "limited-engine",
   "metadata": {
    "execution": {
     "iopub.execute_input": "2022-02-06T12:11:07.620323Z",
     "iopub.status.busy": "2022-02-06T12:11:07.619729Z",
     "iopub.status.idle": "2022-02-06T12:11:07.623152Z",
     "shell.execute_reply": "2022-02-06T12:11:07.623575Z"
    },
    "papermill": {
     "duration": 0.037521,
     "end_time": "2022-02-06T12:11:07.623707",
     "exception": false,
     "start_time": "2022-02-06T12:11:07.586186",
     "status": "completed"
    },
    "tags": []
   },
   "outputs": [],
   "source": [
    "# hide\n",
    "# g['date'] = g['date'].astype('datetime64[ns]')"
   ]
  },
  {
   "cell_type": "code",
   "execution_count": 34,
   "id": "sophisticated-supervisor",
   "metadata": {
    "execution": {
     "iopub.execute_input": "2022-02-06T12:11:07.688623Z",
     "iopub.status.busy": "2022-02-06T12:11:07.688017Z",
     "iopub.status.idle": "2022-02-06T12:11:07.689503Z",
     "shell.execute_reply": "2022-02-06T12:11:07.689964Z"
    },
    "papermill": {
     "duration": 0.035857,
     "end_time": "2022-02-06T12:11:07.690101",
     "exception": false,
     "start_time": "2022-02-06T12:11:07.654244",
     "status": "completed"
    },
    "tags": []
   },
   "outputs": [],
   "source": [
    "#hide\n",
    "# g['date'] = g.date.dt.dayofyear"
   ]
  },
  {
   "cell_type": "code",
   "execution_count": 35,
   "id": "inside-dubai",
   "metadata": {
    "execution": {
     "iopub.execute_input": "2022-02-06T12:11:07.754794Z",
     "iopub.status.busy": "2022-02-06T12:11:07.754286Z",
     "iopub.status.idle": "2022-02-06T12:11:07.756734Z",
     "shell.execute_reply": "2022-02-06T12:11:07.756329Z"
    },
    "papermill": {
     "duration": 0.035799,
     "end_time": "2022-02-06T12:11:07.756842",
     "exception": false,
     "start_time": "2022-02-06T12:11:07.721043",
     "status": "completed"
    },
    "tags": []
   },
   "outputs": [],
   "source": [
    "#hide\n",
    "# g = g.rename(columns= {'continent':'group','country':'name','cases':'value'})"
   ]
  },
  {
   "cell_type": "code",
   "execution_count": 36,
   "id": "fleet-motorcycle",
   "metadata": {
    "execution": {
     "iopub.execute_input": "2022-02-06T12:11:07.821677Z",
     "iopub.status.busy": "2022-02-06T12:11:07.821087Z",
     "iopub.status.idle": "2022-02-06T12:11:07.824365Z",
     "shell.execute_reply": "2022-02-06T12:11:07.824806Z"
    },
    "papermill": {
     "duration": 0.037643,
     "end_time": "2022-02-06T12:11:07.824950",
     "exception": false,
     "start_time": "2022-02-06T12:11:07.787307",
     "status": "completed"
    },
    "tags": []
   },
   "outputs": [],
   "source": [
    "#hide\n",
    "# cols = ['name','group','day','value']"
   ]
  },
  {
   "cell_type": "code",
   "execution_count": 37,
   "id": "continued-sleeping",
   "metadata": {
    "execution": {
     "iopub.execute_input": "2022-02-06T12:11:07.889704Z",
     "iopub.status.busy": "2022-02-06T12:11:07.889174Z",
     "iopub.status.idle": "2022-02-06T12:11:07.892801Z",
     "shell.execute_reply": "2022-02-06T12:11:07.892391Z"
    },
    "papermill": {
     "duration": 0.037282,
     "end_time": "2022-02-06T12:11:07.892915",
     "exception": false,
     "start_time": "2022-02-06T12:11:07.855633",
     "status": "completed"
    },
    "tags": []
   },
   "outputs": [],
   "source": [
    "#hide\n",
    "# g.rename(columns= {'date':'day'},inplace = True)"
   ]
  },
  {
   "cell_type": "code",
   "execution_count": 38,
   "id": "major-fight",
   "metadata": {
    "execution": {
     "iopub.execute_input": "2022-02-06T12:11:07.957413Z",
     "iopub.status.busy": "2022-02-06T12:11:07.956812Z",
     "iopub.status.idle": "2022-02-06T12:11:07.958908Z",
     "shell.execute_reply": "2022-02-06T12:11:07.958334Z"
    },
    "papermill": {
     "duration": 0.035678,
     "end_time": "2022-02-06T12:11:07.959026",
     "exception": false,
     "start_time": "2022-02-06T12:11:07.923348",
     "status": "completed"
    },
    "tags": []
   },
   "outputs": [],
   "source": [
    "#hide\n",
    "# g = g[cols]"
   ]
  },
  {
   "cell_type": "code",
   "execution_count": 39,
   "id": "structured-mobile",
   "metadata": {
    "execution": {
     "iopub.execute_input": "2022-02-06T12:11:08.023996Z",
     "iopub.status.busy": "2022-02-06T12:11:08.023381Z",
     "iopub.status.idle": "2022-02-06T12:11:08.026003Z",
     "shell.execute_reply": "2022-02-06T12:11:08.025501Z"
    },
    "papermill": {
     "duration": 0.036432,
     "end_time": "2022-02-06T12:11:08.026124",
     "exception": false,
     "start_time": "2022-02-06T12:11:07.989692",
     "status": "completed"
    },
    "tags": []
   },
   "outputs": [],
   "source": [
    "# #hide\n",
    "# g = g[g.group.notna()]"
   ]
  },
  {
   "cell_type": "code",
   "execution_count": 40,
   "id": "determined-closing",
   "metadata": {
    "execution": {
     "iopub.execute_input": "2022-02-06T12:11:08.092062Z",
     "iopub.status.busy": "2022-02-06T12:11:08.091447Z",
     "iopub.status.idle": "2022-02-06T12:11:08.092933Z",
     "shell.execute_reply": "2022-02-06T12:11:08.093353Z"
    },
    "papermill": {
     "duration": 0.035966,
     "end_time": "2022-02-06T12:11:08.093478",
     "exception": false,
     "start_time": "2022-02-06T12:11:08.057512",
     "status": "completed"
    },
    "tags": []
   },
   "outputs": [],
   "source": [
    "# #hide\n",
    "# colors = dict(zip(\n",
    "#     [\"Oceania\", \"Europe\", \"Asia\", \"South America\", \"Middle East\", \"North America\", \"Africa\"],\n",
    "#     [\"#adb0ff\", \"#ffb3ff\", \"#90d595\", \"#e48381\", \"#aafbff\", \"#f7bb5f\", \"#eafb50\"]\n",
    "# ))\n",
    "# group_lk = g.set_index('name')['group'].to_dict()"
   ]
  },
  {
   "cell_type": "code",
   "execution_count": null,
   "id": "gross-drinking",
   "metadata": {
    "papermill": {
     "duration": 0.030169,
     "end_time": "2022-02-06T12:11:08.153805",
     "exception": false,
     "start_time": "2022-02-06T12:11:08.123636",
     "status": "completed"
    },
    "tags": []
   },
   "outputs": [],
   "source": []
  },
  {
   "cell_type": "code",
   "execution_count": 41,
   "id": "subject-macintosh",
   "metadata": {
    "execution": {
     "iopub.execute_input": "2022-02-06T12:11:08.219072Z",
     "iopub.status.busy": "2022-02-06T12:11:08.218438Z",
     "iopub.status.idle": "2022-02-06T12:11:08.219944Z",
     "shell.execute_reply": "2022-02-06T12:11:08.220409Z"
    },
    "papermill": {
     "duration": 0.036369,
     "end_time": "2022-02-06T12:11:08.220547",
     "exception": false,
     "start_time": "2022-02-06T12:11:08.184178",
     "status": "completed"
    },
    "tags": []
   },
   "outputs": [],
   "source": [
    "# #hide\n",
    "# fig, ax = plt.subplots(figsize=(15, 8))\n",
    "\n",
    "# def draw_barchart(current_day):\n",
    "#     dff = g[g['day'].eq(current_day)].sort_values(by='value', ascending=True).tail(10)\n",
    "#     ax.clear()\n",
    "#     ax.barh(dff['name'], dff['value'], color=[colors[group_lk[x]] for x in dff['name']])\n",
    "#     dx = dff['value'].max() / 200\n",
    "    \n",
    "#     for i, (value, name) in enumerate(zip(dff['value'], dff['name'])):\n",
    "#         ax.text(value-dx, i,     name,           size=14, weight=600, ha='right', va='bottom')\n",
    "#         ax.text(value-dx, i-.25, group_lk[name], size=10, color='#444444', ha='right', va='baseline')\n",
    "#         ax.text(value+dx, i,     f'{value:,.0f}',  size=14, ha='left',  va='center')\n",
    "#     ax.text(1, 0.4, current_day, transform=ax.transAxes, color='#777777', size=46, ha='right', weight=800)\n",
    "#     ax.text(0, 1.06, 'Population (thousands)', transform=ax.transAxes, size=12, color='#777777')\n",
    "#     ax.xaxis.set_major_formatter(ticker.StrMethodFormatter('{x:,.0f}'))\n",
    "#     ax.xaxis.set_ticks_position('top')\n",
    "#     ax.tick_params(axis='x', colors='#777777', labelsize=12)\n",
    "#     ax.set_yticks([])\n",
    "#     ax.margins(0, 0.01)\n",
    "#     ax.grid(which='major', axis='x', linestyle='-')\n",
    "#     ax.set_axisbelow(True)\n",
    "    \n",
    "#     ax.text(0, 1.15, 'Coronavirus',\n",
    "#             transform=ax.transAxes, size=24, weight=600, ha='left', va='top')\n",
    "# #     ax.text(1, 0, 'by @pratapvardhan; credit @jburnmurdoch', transform=ax.transAxes, color='#777777', ha='right',\n",
    "# #             bbox=dict(facecolor='white', alpha=0.8, edgecolor='white'))\n",
    "#     plt.box(False)"
   ]
  },
  {
   "cell_type": "code",
   "execution_count": 42,
   "id": "sexual-wages",
   "metadata": {
    "execution": {
     "iopub.execute_input": "2022-02-06T12:11:08.285652Z",
     "iopub.status.busy": "2022-02-06T12:11:08.285046Z",
     "iopub.status.idle": "2022-02-06T12:11:08.288792Z",
     "shell.execute_reply": "2022-02-06T12:11:08.288380Z"
    },
    "papermill": {
     "duration": 0.037492,
     "end_time": "2022-02-06T12:11:08.288902",
     "exception": false,
     "start_time": "2022-02-06T12:11:08.251410",
     "status": "completed"
    },
    "tags": []
   },
   "outputs": [],
   "source": [
    "# #hide_input\n",
    "# fig, ax = plt.subplots(figsize=(15, 8))\n",
    "# animator = animation.FuncAnimation(fig, draw_barchart, frames=range(g.day.values.min(), g.day.values.max()))\n",
    "# HTML(animator.to_jshtml())\n",
    "# # or use animator.to_html5_video() or animator.save() "
   ]
  },
  {
   "cell_type": "code",
   "execution_count": null,
   "id": "australian-container",
   "metadata": {
    "papermill": {
     "duration": 0.030346,
     "end_time": "2022-02-06T12:11:08.349798",
     "exception": false,
     "start_time": "2022-02-06T12:11:08.319452",
     "status": "completed"
    },
    "tags": []
   },
   "outputs": [],
   "source": []
  },
  {
   "cell_type": "code",
   "execution_count": null,
   "id": "mediterranean-pontiac",
   "metadata": {
    "papermill": {
     "duration": 0.030222,
     "end_time": "2022-02-06T12:11:08.410333",
     "exception": false,
     "start_time": "2022-02-06T12:11:08.380111",
     "status": "completed"
    },
    "tags": []
   },
   "outputs": [],
   "source": []
  },
  {
   "cell_type": "code",
   "execution_count": null,
   "id": "aging-legislature",
   "metadata": {
    "papermill": {
     "duration": 0.030328,
     "end_time": "2022-02-06T12:11:08.471179",
     "exception": false,
     "start_time": "2022-02-06T12:11:08.440851",
     "status": "completed"
    },
    "tags": []
   },
   "outputs": [],
   "source": []
  }
 ],
 "metadata": {
  "kernelspec": {
   "display_name": "Python 3",
   "language": "python",
   "name": "python3"
  },
  "language_info": {
   "codemirror_mode": {
    "name": "ipython",
    "version": 3
   },
   "file_extension": ".py",
   "mimetype": "text/x-python",
   "name": "python",
   "nbconvert_exporter": "python",
   "pygments_lexer": "ipython3",
   "version": "3.6.15"
  },
  "papermill": {
   "duration": 6.031865,
   "end_time": "2022-02-06T12:11:08.819903",
   "environment_variables": {},
   "exception": null,
   "input_path": "2020-03-21-covid19exp.ipynb",
   "output_path": "2020-03-21-covid19exp.ipynb",
   "parameters": {},
   "start_time": "2022-02-06T12:11:02.788038",
   "version": "2.0.0"
  }
 },
 "nbformat": 4,
 "nbformat_minor": 5
}