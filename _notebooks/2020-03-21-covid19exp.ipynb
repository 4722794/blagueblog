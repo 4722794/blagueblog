{
 "cells": [
  {
   "cell_type": "markdown",
   "id": "muslim-click",
   "metadata": {
    "papermill": {
     "duration": 0.042198,
     "end_time": "2022-07-30T00:40:25.177791",
     "exception": false,
     "start_time": "2022-07-30T00:40:25.135593",
     "status": "completed"
    },
    "tags": []
   },
   "source": [
    "# COVID-19 Case Race\n",
    "> A race chart to see rising cases around the world\n",
    "\n",
    "- author: Hargun Oberoi\n",
    "- image: images/covid-overview.png\n",
    "- hide: false\n",
    "- badges: false"
   ]
  },
  {
   "cell_type": "code",
   "execution_count": 1,
   "id": "proof-material",
   "metadata": {
    "execution": {
     "iopub.execute_input": "2022-07-30T00:40:25.260692Z",
     "iopub.status.busy": "2022-07-30T00:40:25.259986Z",
     "iopub.status.idle": "2022-07-30T00:40:25.626688Z",
     "shell.execute_reply": "2022-07-30T00:40:25.627215Z"
    },
    "papermill": {
     "duration": 0.41196,
     "end_time": "2022-07-30T00:40:25.627404",
     "exception": false,
     "start_time": "2022-07-30T00:40:25.215444",
     "status": "completed"
    },
    "tags": []
   },
   "outputs": [],
   "source": [
    "#hide\n",
    "import numpy as np\n",
    "import pandas as pd\n",
    "from jinja2 import Template\n",
    "from IPython.display import HTML"
   ]
  },
  {
   "cell_type": "code",
   "execution_count": 2,
   "id": "developed-terminology",
   "metadata": {
    "execution": {
     "iopub.execute_input": "2022-07-30T00:40:25.705113Z",
     "iopub.status.busy": "2022-07-30T00:40:25.704382Z",
     "iopub.status.idle": "2022-07-30T00:40:25.706910Z",
     "shell.execute_reply": "2022-07-30T00:40:25.707424Z"
    },
    "papermill": {
     "duration": 0.042591,
     "end_time": "2022-07-30T00:40:25.707597",
     "exception": false,
     "start_time": "2022-07-30T00:40:25.665006",
     "status": "completed"
    },
    "tags": []
   },
   "outputs": [],
   "source": [
    "#hide\n",
    "\n",
    "# FETCH\n",
    "base_url = 'https://raw.githubusercontent.com/pratapvardhan/notebooks/master/covid19/'\n",
    "paths = {\n",
    "    'mapping': base_url + 'mapping_countries.csv',\n",
    "    'overview': base_url + 'overview.tpl'\n",
    "}"
   ]
  },
  {
   "cell_type": "code",
   "execution_count": 3,
   "id": "dynamic-saver",
   "metadata": {
    "execution": {
     "iopub.execute_input": "2022-07-30T00:40:25.790115Z",
     "iopub.status.busy": "2022-07-30T00:40:25.789318Z",
     "iopub.status.idle": "2022-07-30T00:40:25.793517Z",
     "shell.execute_reply": "2022-07-30T00:40:25.794194Z"
    },
    "papermill": {
     "duration": 0.048826,
     "end_time": "2022-07-30T00:40:25.794346",
     "exception": false,
     "start_time": "2022-07-30T00:40:25.745520",
     "status": "completed"
    },
    "tags": []
   },
   "outputs": [
    {
     "data": {
      "text/plain": [
       "'https://raw.githubusercontent.com/pratapvardhan/notebooks/master/covid19/mapping_countries.csv'"
      ]
     },
     "execution_count": 3,
     "metadata": {},
     "output_type": "execute_result"
    }
   ],
   "source": [
    "#hide\n",
    "paths['mapping']"
   ]
  },
  {
   "cell_type": "code",
   "execution_count": 4,
   "id": "urban-software",
   "metadata": {
    "execution": {
     "iopub.execute_input": "2022-07-30T00:40:25.870582Z",
     "iopub.status.busy": "2022-07-30T00:40:25.869850Z",
     "iopub.status.idle": "2022-07-30T00:40:25.873598Z",
     "shell.execute_reply": "2022-07-30T00:40:25.872996Z"
    },
    "papermill": {
     "duration": 0.044454,
     "end_time": "2022-07-30T00:40:25.873741",
     "exception": false,
     "start_time": "2022-07-30T00:40:25.829287",
     "status": "completed"
    },
    "tags": []
   },
   "outputs": [],
   "source": [
    "#hide\n",
    "def get_mappings(url):\n",
    "    df = pd.read_csv(url)\n",
    "    return {\n",
    "        'df': df,\n",
    "        'replace.country': dict(df.dropna(subset=['Name']).set_index('Country')['Name']),\n",
    "        'map.continent': dict(df.set_index('Name')['Continent'])\n",
    "    }"
   ]
  },
  {
   "cell_type": "code",
   "execution_count": 5,
   "id": "intimate-machinery",
   "metadata": {
    "execution": {
     "iopub.execute_input": "2022-07-30T00:40:25.953718Z",
     "iopub.status.busy": "2022-07-30T00:40:25.952952Z",
     "iopub.status.idle": "2022-07-30T00:40:25.981490Z",
     "shell.execute_reply": "2022-07-30T00:40:25.982260Z"
    },
    "papermill": {
     "duration": 0.072271,
     "end_time": "2022-07-30T00:40:25.982484",
     "exception": false,
     "start_time": "2022-07-30T00:40:25.910213",
     "status": "completed"
    },
    "tags": []
   },
   "outputs": [],
   "source": [
    "#hide\n",
    "mapping = get_mappings(paths['mapping'])"
   ]
  },
  {
   "cell_type": "code",
   "execution_count": 6,
   "id": "certified-tactics",
   "metadata": {
    "execution": {
     "iopub.execute_input": "2022-07-30T00:40:26.075985Z",
     "iopub.status.busy": "2022-07-30T00:40:26.075228Z",
     "iopub.status.idle": "2022-07-30T00:40:26.079610Z",
     "shell.execute_reply": "2022-07-30T00:40:26.080165Z"
    },
    "papermill": {
     "duration": 0.057409,
     "end_time": "2022-07-30T00:40:26.080325",
     "exception": false,
     "start_time": "2022-07-30T00:40:26.022916",
     "status": "completed"
    },
    "tags": []
   },
   "outputs": [],
   "source": [
    "#hide\n",
    "def get_template(path):\n",
    "    from urllib.parse import urlparse\n",
    "    if bool(urlparse(path).netloc):\n",
    "        from urllib.request import urlopen\n",
    "        return urlopen(path).read().decode('utf8')\n",
    "    return open(path).read()"
   ]
  },
  {
   "cell_type": "code",
   "execution_count": 7,
   "id": "realistic-blast",
   "metadata": {
    "execution": {
     "iopub.execute_input": "2022-07-30T00:40:26.162452Z",
     "iopub.status.busy": "2022-07-30T00:40:26.161584Z",
     "iopub.status.idle": "2022-07-30T00:40:26.164619Z",
     "shell.execute_reply": "2022-07-30T00:40:26.164008Z"
    },
    "papermill": {
     "duration": 0.045671,
     "end_time": "2022-07-30T00:40:26.164752",
     "exception": false,
     "start_time": "2022-07-30T00:40:26.119081",
     "status": "completed"
    },
    "tags": []
   },
   "outputs": [],
   "source": [
    "#hide\n",
    "def get_frame(name):\n",
    "    url = (\n",
    "        'https://raw.githubusercontent.com/CSSEGISandData/COVID-19/master/csse_covid_19_data/'\n",
    "        f'csse_covid_19_time_series/time_series_covid19_{name}_global.csv')\n",
    "    df = pd.read_csv(url)\n",
    "    # rename countries\n",
    "    df['Country/Region'] = df['Country/Region'].replace(mapping['replace.country'])\n",
    "    return df"
   ]
  },
  {
   "cell_type": "code",
   "execution_count": 8,
   "id": "affiliated-characterization",
   "metadata": {
    "execution": {
     "iopub.execute_input": "2022-07-30T00:40:26.240530Z",
     "iopub.status.busy": "2022-07-30T00:40:26.239824Z",
     "iopub.status.idle": "2022-07-30T00:40:26.242401Z",
     "shell.execute_reply": "2022-07-30T00:40:26.243103Z"
    },
    "papermill": {
     "duration": 0.042592,
     "end_time": "2022-07-30T00:40:26.243233",
     "exception": false,
     "start_time": "2022-07-30T00:40:26.200641",
     "status": "completed"
    },
    "tags": []
   },
   "outputs": [],
   "source": [
    "#hide\n",
    "def get_dates(df):\n",
    "    dt_cols = df.columns[~df.columns.isin(['Province/State', 'Country/Region', 'Lat', 'Long'])]\n",
    "    LAST_DATE_I = -1\n",
    "    # sometimes last column may be empty, then go backwards\n",
    "    for i in range(-1, -len(dt_cols), -1):\n",
    "        if not df[dt_cols[i]].fillna(0).eq(0).all():\n",
    "            LAST_DATE_I = i\n",
    "            break\n",
    "    return LAST_DATE_I, dt_cols"
   ]
  },
  {
   "cell_type": "code",
   "execution_count": 9,
   "id": "recent-optimization",
   "metadata": {
    "execution": {
     "iopub.execute_input": "2022-07-30T00:40:26.319091Z",
     "iopub.status.busy": "2022-07-30T00:40:26.318417Z",
     "iopub.status.idle": "2022-07-30T00:40:26.770844Z",
     "shell.execute_reply": "2022-07-30T00:40:26.770221Z"
    },
    "papermill": {
     "duration": 0.491267,
     "end_time": "2022-07-30T00:40:26.770987",
     "exception": false,
     "start_time": "2022-07-30T00:40:26.279720",
     "status": "completed"
    },
    "tags": []
   },
   "outputs": [],
   "source": [
    "#hide\n",
    "COL_REGION = 'Country/Region'\n",
    "# Confirmed, Recovered, Deaths\n",
    "df = get_frame('confirmed')\n",
    "# dft_: timeseries, dfc_: today country agg\n",
    "dft_cases = df\n",
    "dft_deaths = get_frame('deaths')\n",
    "dft_recovered = get_frame('recovered')\n",
    "LAST_DATE_I, dt_cols = get_dates(df)"
   ]
  },
  {
   "cell_type": "code",
   "execution_count": 10,
   "id": "absolute-copper",
   "metadata": {
    "execution": {
     "iopub.execute_input": "2022-07-30T00:40:26.849598Z",
     "iopub.status.busy": "2022-07-30T00:40:26.848768Z",
     "iopub.status.idle": "2022-07-30T00:40:26.853332Z",
     "shell.execute_reply": "2022-07-30T00:40:26.853828Z"
    },
    "papermill": {
     "duration": 0.046321,
     "end_time": "2022-07-30T00:40:26.853992",
     "exception": false,
     "start_time": "2022-07-30T00:40:26.807671",
     "status": "completed"
    },
    "tags": []
   },
   "outputs": [],
   "source": [
    "#hide\n",
    "LAST_DATE_I, dt_cols = get_dates(df)\n",
    "dt_today =dt_cols[LAST_DATE_I]\n",
    "# dt_5day = dt_cols[LAST_DATE_I - 5]\n",
    "dt_yday = dt_cols[LAST_DATE_I - 1]"
   ]
  },
  {
   "cell_type": "code",
   "execution_count": 11,
   "id": "restricted-sheriff",
   "metadata": {
    "execution": {
     "iopub.execute_input": "2022-07-30T00:40:26.934286Z",
     "iopub.status.busy": "2022-07-30T00:40:26.933463Z",
     "iopub.status.idle": "2022-07-30T00:40:26.940537Z",
     "shell.execute_reply": "2022-07-30T00:40:26.941403Z"
    },
    "papermill": {
     "duration": 0.052609,
     "end_time": "2022-07-30T00:40:26.941552",
     "exception": false,
     "start_time": "2022-07-30T00:40:26.888943",
     "status": "completed"
    },
    "tags": []
   },
   "outputs": [],
   "source": [
    "#hide\n",
    "dfc_cases = dft_cases.groupby(COL_REGION)[dt_today].sum()\n",
    "dfc_deaths = dft_deaths.groupby(COL_REGION)[dt_today].sum()\n",
    "# dfp_cases = dft_cases.groupby(COL_REGION)[dt_5day].sum()\n",
    "# dfp_deaths = dft_deaths.groupby(COL_REGION)[dt_5day].sum()\n",
    "dfp_cases = dft_cases.groupby(COL_REGION)[dt_yday].sum()\n",
    "dfp_deaths = dft_deaths.groupby(COL_REGION)[dt_yday].sum()"
   ]
  },
  {
   "cell_type": "code",
   "execution_count": 12,
   "id": "deluxe-hepatitis",
   "metadata": {
    "execution": {
     "iopub.execute_input": "2022-07-30T00:40:27.023468Z",
     "iopub.status.busy": "2022-07-30T00:40:27.022645Z",
     "iopub.status.idle": "2022-07-30T00:40:27.029794Z",
     "shell.execute_reply": "2022-07-30T00:40:27.029196Z"
    },
    "papermill": {
     "duration": 0.051677,
     "end_time": "2022-07-30T00:40:27.029976",
     "exception": false,
     "start_time": "2022-07-30T00:40:26.978299",
     "status": "completed"
    },
    "tags": []
   },
   "outputs": [],
   "source": [
    "#hide\n",
    "df_table = (pd.DataFrame(dict(Cases = dfc_cases, Deaths = dfc_deaths, PCases = dfp_cases, PDeaths = dfp_deaths))\n",
    "            .sort_values(by = ['Cases','Deaths'], ascending = [False, False])\n",
    "            .reset_index())"
   ]
  },
  {
   "cell_type": "code",
   "execution_count": 13,
   "id": "educational-chancellor",
   "metadata": {
    "execution": {
     "iopub.execute_input": "2022-07-30T00:40:27.143910Z",
     "iopub.status.busy": "2022-07-30T00:40:27.143091Z",
     "iopub.status.idle": "2022-07-30T00:40:27.153652Z",
     "shell.execute_reply": "2022-07-30T00:40:27.154260Z"
    },
    "papermill": {
     "duration": 0.08488,
     "end_time": "2022-07-30T00:40:27.154444",
     "exception": false,
     "start_time": "2022-07-30T00:40:27.069564",
     "status": "completed"
    },
    "tags": []
   },
   "outputs": [
    {
     "data": {
      "text/html": [
       "<div>\n",
       "<style scoped>\n",
       "    .dataframe tbody tr th:only-of-type {\n",
       "        vertical-align: middle;\n",
       "    }\n",
       "\n",
       "    .dataframe tbody tr th {\n",
       "        vertical-align: top;\n",
       "    }\n",
       "\n",
       "    .dataframe thead th {\n",
       "        text-align: right;\n",
       "    }\n",
       "</style>\n",
       "<table border=\"1\" class=\"dataframe\">\n",
       "  <thead>\n",
       "    <tr style=\"text-align: right;\">\n",
       "      <th></th>\n",
       "      <th>Country/Region</th>\n",
       "      <th>Cases</th>\n",
       "      <th>Deaths</th>\n",
       "      <th>PCases</th>\n",
       "      <th>PDeaths</th>\n",
       "      <th>Cases (+)</th>\n",
       "      <th>Deaths (+)</th>\n",
       "      <th>Fatality Rate</th>\n",
       "      <th>Continent</th>\n",
       "    </tr>\n",
       "  </thead>\n",
       "  <tbody>\n",
       "    <tr>\n",
       "      <th>0</th>\n",
       "      <td>US</td>\n",
       "      <td>91120218</td>\n",
       "      <td>1029270</td>\n",
       "      <td>90972856</td>\n",
       "      <td>1028873</td>\n",
       "      <td>147362</td>\n",
       "      <td>397</td>\n",
       "      <td>1.13</td>\n",
       "      <td>North America</td>\n",
       "    </tr>\n",
       "    <tr>\n",
       "      <th>1</th>\n",
       "      <td>India</td>\n",
       "      <td>43959321</td>\n",
       "      <td>526211</td>\n",
       "      <td>43959321</td>\n",
       "      <td>526212</td>\n",
       "      <td>0</td>\n",
       "      <td>0</td>\n",
       "      <td>1.20</td>\n",
       "      <td>Asia</td>\n",
       "    </tr>\n",
       "    <tr>\n",
       "      <th>2</th>\n",
       "      <td>France</td>\n",
       "      <td>33951450</td>\n",
       "      <td>152934</td>\n",
       "      <td>33899799</td>\n",
       "      <td>152822</td>\n",
       "      <td>51651</td>\n",
       "      <td>112</td>\n",
       "      <td>0.45</td>\n",
       "      <td>Europe</td>\n",
       "    </tr>\n",
       "    <tr>\n",
       "      <th>3</th>\n",
       "      <td>Brazil</td>\n",
       "      <td>33748985</td>\n",
       "      <td>678069</td>\n",
       "      <td>33704393</td>\n",
       "      <td>677804</td>\n",
       "      <td>44592</td>\n",
       "      <td>265</td>\n",
       "      <td>2.01</td>\n",
       "      <td>South America</td>\n",
       "    </tr>\n",
       "    <tr>\n",
       "      <th>4</th>\n",
       "      <td>Germany</td>\n",
       "      <td>30787309</td>\n",
       "      <td>143855</td>\n",
       "      <td>30702511</td>\n",
       "      <td>143702</td>\n",
       "      <td>84798</td>\n",
       "      <td>153</td>\n",
       "      <td>0.47</td>\n",
       "      <td>Europe</td>\n",
       "    </tr>\n",
       "  </tbody>\n",
       "</table>\n",
       "</div>"
      ],
      "text/plain": [
       "  Country/Region     Cases   Deaths    PCases  PDeaths  Cases (+)  Deaths (+)  \\\n",
       "0             US  91120218  1029270  90972856  1028873     147362         397   \n",
       "1          India  43959321   526211  43959321   526212          0           0   \n",
       "2         France  33951450   152934  33899799   152822      51651         112   \n",
       "3         Brazil  33748985   678069  33704393   677804      44592         265   \n",
       "4        Germany  30787309   143855  30702511   143702      84798         153   \n",
       "\n",
       "   Fatality Rate      Continent  \n",
       "0           1.13  North America  \n",
       "1           1.20           Asia  \n",
       "2           0.45         Europe  \n",
       "3           2.01  South America  \n",
       "4           0.47         Europe  "
      ]
     },
     "execution_count": 13,
     "metadata": {},
     "output_type": "execute_result"
    }
   ],
   "source": [
    "#hide\n",
    "for c in 'Cases, Deaths'.split(', '):\n",
    "    df_table[f'{c} (+)'] = (df_table[c] - df_table[f'P{c}']).clip(0)\n",
    "    #Clip ça veut dire, les chiffres negatif sont interdit\n",
    "df_table['Fatality Rate'] = (100* df_table['Deaths']/ df_table['Cases']).round(2)\n",
    "df_table['Continent'] = df_table['Country/Region'].map(mapping['map.continent'])\n",
    "df_table.head(5)"
   ]
  },
  {
   "cell_type": "code",
   "execution_count": 14,
   "id": "aboriginal-bulgaria",
   "metadata": {
    "execution": {
     "iopub.execute_input": "2022-07-30T00:40:27.262144Z",
     "iopub.status.busy": "2022-07-30T00:40:27.260725Z",
     "iopub.status.idle": "2022-07-30T00:40:27.263470Z",
     "shell.execute_reply": "2022-07-30T00:40:27.262874Z"
    },
    "papermill": {
     "duration": 0.067452,
     "end_time": "2022-07-30T00:40:27.263613",
     "exception": false,
     "start_time": "2022-07-30T00:40:27.196161",
     "status": "completed"
    },
    "tags": []
   },
   "outputs": [],
   "source": [
    "#hide\n",
    "#delete problematic countries from table\n",
    "df_table = df_table[~df_table['Country/Region'].isin(['Cape Verde', 'Cruise Ship', 'Kosovo'])]"
   ]
  },
  {
   "cell_type": "code",
   "execution_count": 15,
   "id": "fantastic-effect",
   "metadata": {
    "execution": {
     "iopub.execute_input": "2022-07-30T00:40:27.409005Z",
     "iopub.status.busy": "2022-07-30T00:40:27.408215Z",
     "iopub.status.idle": "2022-07-30T00:40:27.413669Z",
     "shell.execute_reply": "2022-07-30T00:40:27.414278Z"
    },
    "papermill": {
     "duration": 0.094605,
     "end_time": "2022-07-30T00:40:27.414443",
     "exception": false,
     "start_time": "2022-07-30T00:40:27.319838",
     "status": "completed"
    },
    "tags": []
   },
   "outputs": [
    {
     "data": {
      "text/html": [
       "<div>\n",
       "<style scoped>\n",
       "    .dataframe tbody tr th:only-of-type {\n",
       "        vertical-align: middle;\n",
       "    }\n",
       "\n",
       "    .dataframe tbody tr th {\n",
       "        vertical-align: top;\n",
       "    }\n",
       "\n",
       "    .dataframe thead th {\n",
       "        text-align: right;\n",
       "    }\n",
       "</style>\n",
       "<table border=\"1\" class=\"dataframe\">\n",
       "  <thead>\n",
       "    <tr style=\"text-align: right;\">\n",
       "      <th></th>\n",
       "      <th>Country/Region</th>\n",
       "      <th>Cases</th>\n",
       "      <th>Deaths</th>\n",
       "      <th>PCases</th>\n",
       "      <th>PDeaths</th>\n",
       "      <th>Cases (+)</th>\n",
       "      <th>Deaths (+)</th>\n",
       "      <th>Fatality Rate</th>\n",
       "      <th>Continent</th>\n",
       "    </tr>\n",
       "  </thead>\n",
       "  <tbody>\n",
       "    <tr>\n",
       "      <th>0</th>\n",
       "      <td>US</td>\n",
       "      <td>91120218</td>\n",
       "      <td>1029270</td>\n",
       "      <td>90972856</td>\n",
       "      <td>1028873</td>\n",
       "      <td>147362</td>\n",
       "      <td>397</td>\n",
       "      <td>1.1</td>\n",
       "      <td>North America</td>\n",
       "    </tr>\n",
       "    <tr>\n",
       "      <th>1</th>\n",
       "      <td>India</td>\n",
       "      <td>43959321</td>\n",
       "      <td>526211</td>\n",
       "      <td>43959321</td>\n",
       "      <td>526212</td>\n",
       "      <td>0</td>\n",
       "      <td>0</td>\n",
       "      <td>1.2</td>\n",
       "      <td>Asia</td>\n",
       "    </tr>\n",
       "    <tr>\n",
       "      <th>2</th>\n",
       "      <td>France</td>\n",
       "      <td>33951450</td>\n",
       "      <td>152934</td>\n",
       "      <td>33899799</td>\n",
       "      <td>152822</td>\n",
       "      <td>51651</td>\n",
       "      <td>112</td>\n",
       "      <td>0.5</td>\n",
       "      <td>Europe</td>\n",
       "    </tr>\n",
       "    <tr>\n",
       "      <th>3</th>\n",
       "      <td>Brazil</td>\n",
       "      <td>33748985</td>\n",
       "      <td>678069</td>\n",
       "      <td>33704393</td>\n",
       "      <td>677804</td>\n",
       "      <td>44592</td>\n",
       "      <td>265</td>\n",
       "      <td>2.0</td>\n",
       "      <td>South America</td>\n",
       "    </tr>\n",
       "    <tr>\n",
       "      <th>4</th>\n",
       "      <td>Germany</td>\n",
       "      <td>30787309</td>\n",
       "      <td>143855</td>\n",
       "      <td>30702511</td>\n",
       "      <td>143702</td>\n",
       "      <td>84798</td>\n",
       "      <td>153</td>\n",
       "      <td>0.5</td>\n",
       "      <td>Europe</td>\n",
       "    </tr>\n",
       "  </tbody>\n",
       "</table>\n",
       "</div>"
      ],
      "text/plain": [
       "  Country/Region     Cases   Deaths    PCases  PDeaths  Cases (+)  Deaths (+)  \\\n",
       "0             US  91120218  1029270  90972856  1028873     147362         397   \n",
       "1          India  43959321   526211  43959321   526212          0           0   \n",
       "2         France  33951450   152934  33899799   152822      51651         112   \n",
       "3         Brazil  33748985   678069  33704393   677804      44592         265   \n",
       "4        Germany  30787309   143855  30702511   143702      84798         153   \n",
       "\n",
       "   Fatality Rate      Continent  \n",
       "0            1.1  North America  \n",
       "1            1.2           Asia  \n",
       "2            0.5         Europe  \n",
       "3            2.0  South America  \n",
       "4            0.5         Europe  "
      ]
     },
     "execution_count": 15,
     "metadata": {},
     "output_type": "execute_result"
    }
   ],
   "source": [
    "#hide\n",
    "df_table = (pd.DataFrame(dict(Cases=dfc_cases, Deaths=dfc_deaths, PCases=dfp_cases, PDeaths=dfp_deaths))\n",
    "             .sort_values(by=['Cases', 'Deaths'], ascending=[False, False])\n",
    "             .reset_index())\n",
    "df_table.rename(columns={'index': 'Country/Region'}, inplace=True)\n",
    "for c in 'Cases, Deaths'.split(', '):\n",
    "    df_table[f'{c} (+)'] = (df_table[c] - df_table[f'P{c}']).clip(0)  # DATA BUG\n",
    "df_table['Fatality Rate'] = (100 * df_table['Deaths'] / df_table['Cases']).round(1)\n",
    "df_table['Continent'] = df_table['Country/Region'].map(mapping['map.continent'])\n",
    "df_table.head(5)"
   ]
  },
  {
   "cell_type": "code",
   "execution_count": 16,
   "id": "fewer-occasion",
   "metadata": {
    "execution": {
     "iopub.execute_input": "2022-07-30T00:40:27.499952Z",
     "iopub.status.busy": "2022-07-30T00:40:27.499180Z",
     "iopub.status.idle": "2022-07-30T00:40:27.502698Z",
     "shell.execute_reply": "2022-07-30T00:40:27.502080Z"
    },
    "papermill": {
     "duration": 0.047171,
     "end_time": "2022-07-30T00:40:27.502831",
     "exception": false,
     "start_time": "2022-07-30T00:40:27.455660",
     "status": "completed"
    },
    "tags": []
   },
   "outputs": [],
   "source": [
    "#hide\n",
    "#delete problematic countries from table\n",
    "df_table = df_table[~df_table['Country/Region'].isin(['Cape Verde', 'Cruise Ship', 'Kosovo'])]"
   ]
  },
  {
   "cell_type": "code",
   "execution_count": 17,
   "id": "related-center",
   "metadata": {
    "execution": {
     "iopub.execute_input": "2022-07-30T00:40:27.608242Z",
     "iopub.status.busy": "2022-07-30T00:40:27.607474Z",
     "iopub.status.idle": "2022-07-30T00:40:27.610626Z",
     "shell.execute_reply": "2022-07-30T00:40:27.610011Z"
    },
    "papermill": {
     "duration": 0.064502,
     "end_time": "2022-07-30T00:40:27.610764",
     "exception": false,
     "start_time": "2022-07-30T00:40:27.546262",
     "status": "completed"
    },
    "tags": []
   },
   "outputs": [],
   "source": [
    "#hide\n",
    "metrics = [df_table.columns[index] for index in [1,2,5,6]]\n",
    "# s_china = df_table[df_table['Country/Region'].eq('China')][metrics].sum().add_prefix('China ')\n",
    "s_us = df_table[df_table['Country/Region'].eq('US')][metrics].sum().add_prefix('US ')\n",
    "s_eu = df_table[df_table['Continent'].eq('Europe')][metrics].sum().add_prefix('EU ')\n",
    "s_ind = df_table[df_table['Country/Region'].eq('India')][metrics].sum().add_prefix('India ')\n",
    "summary = {'updated': pd.to_datetime(dt_today), 'since': pd.to_datetime(dt_yday)}\n",
    "summary = {'updated': pd.to_datetime(dt_today), 'since': pd.to_datetime(dt_yday)}\n",
    "summary = {**summary, **df_table[metrics].sum(), **s_ind, **s_us, **s_eu}"
   ]
  },
  {
   "cell_type": "code",
   "execution_count": 18,
   "id": "engaging-syndrome",
   "metadata": {
    "execution": {
     "iopub.execute_input": "2022-07-30T00:40:27.707326Z",
     "iopub.status.busy": "2022-07-30T00:40:27.706583Z",
     "iopub.status.idle": "2022-07-30T00:40:27.731390Z",
     "shell.execute_reply": "2022-07-30T00:40:27.730748Z"
    },
    "papermill": {
     "duration": 0.078434,
     "end_time": "2022-07-30T00:40:27.731540",
     "exception": false,
     "start_time": "2022-07-30T00:40:27.653106",
     "status": "completed"
    },
    "tags": []
   },
   "outputs": [],
   "source": [
    "#hide\n",
    "dft_ct_new_cases = dft_cases.groupby(COL_REGION)[dt_cols].sum().diff(axis=1).fillna(0).astype(int)"
   ]
  },
  {
   "cell_type": "code",
   "execution_count": 19,
   "id": "neutral-assignment",
   "metadata": {
    "execution": {
     "iopub.execute_input": "2022-07-30T00:40:27.819663Z",
     "iopub.status.busy": "2022-07-30T00:40:27.818915Z",
     "iopub.status.idle": "2022-07-30T00:40:27.821962Z",
     "shell.execute_reply": "2022-07-30T00:40:27.822729Z"
    },
    "papermill": {
     "duration": 0.050408,
     "end_time": "2022-07-30T00:40:27.822884",
     "exception": false,
     "start_time": "2022-07-30T00:40:27.772476",
     "status": "completed"
    },
    "tags": []
   },
   "outputs": [],
   "source": [
    "#hide\n",
    "everydaycases = dft_ct_new_cases.cumsum(axis=1)"
   ]
  },
  {
   "cell_type": "code",
   "execution_count": 20,
   "id": "parliamentary-calgary",
   "metadata": {
    "execution": {
     "iopub.execute_input": "2022-07-30T00:40:27.910550Z",
     "iopub.status.busy": "2022-07-30T00:40:27.909791Z",
     "iopub.status.idle": "2022-07-30T00:40:28.568875Z",
     "shell.execute_reply": "2022-07-30T00:40:28.567665Z"
    },
    "papermill": {
     "duration": 0.701977,
     "end_time": "2022-07-30T00:40:28.569038",
     "exception": false,
     "start_time": "2022-07-30T00:40:27.867061",
     "status": "completed"
    },
    "tags": []
   },
   "outputs": [],
   "source": [
    "#hide\n",
    "import pandas as pd\n",
    "import matplotlib.pyplot as plt\n",
    "import matplotlib.ticker as ticker\n",
    "import matplotlib.animation as animation\n",
    "from IPython.display import HTML"
   ]
  },
  {
   "cell_type": "code",
   "execution_count": 21,
   "id": "lasting-extraction",
   "metadata": {
    "execution": {
     "iopub.execute_input": "2022-07-30T00:40:28.658548Z",
     "iopub.status.busy": "2022-07-30T00:40:28.657656Z",
     "iopub.status.idle": "2022-07-30T00:40:28.666039Z",
     "shell.execute_reply": "2022-07-30T00:40:28.665392Z"
    },
    "papermill": {
     "duration": 0.058127,
     "end_time": "2022-07-30T00:40:28.666192",
     "exception": false,
     "start_time": "2022-07-30T00:40:28.608065",
     "status": "completed"
    },
    "tags": []
   },
   "outputs": [],
   "source": [
    "#hide\n",
    "t = everydaycases.stack()"
   ]
  },
  {
   "cell_type": "code",
   "execution_count": 22,
   "id": "premier-sleeve",
   "metadata": {
    "execution": {
     "iopub.execute_input": "2022-07-30T00:40:28.746558Z",
     "iopub.status.busy": "2022-07-30T00:40:28.745795Z",
     "iopub.status.idle": "2022-07-30T00:40:28.758272Z",
     "shell.execute_reply": "2022-07-30T00:40:28.757654Z"
    },
    "papermill": {
     "duration": 0.05566,
     "end_time": "2022-07-30T00:40:28.758396",
     "exception": false,
     "start_time": "2022-07-30T00:40:28.702736",
     "status": "completed"
    },
    "tags": []
   },
   "outputs": [],
   "source": [
    "#hide\n",
    "g = t.reset_index(['Country/Region'])"
   ]
  },
  {
   "cell_type": "code",
   "execution_count": 23,
   "id": "distributed-pittsburgh",
   "metadata": {
    "execution": {
     "iopub.execute_input": "2022-07-30T00:40:28.837960Z",
     "iopub.status.busy": "2022-07-30T00:40:28.837119Z",
     "iopub.status.idle": "2022-07-30T00:40:28.842242Z",
     "shell.execute_reply": "2022-07-30T00:40:28.841622Z"
    },
    "papermill": {
     "duration": 0.046997,
     "end_time": "2022-07-30T00:40:28.842385",
     "exception": false,
     "start_time": "2022-07-30T00:40:28.795388",
     "status": "completed"
    },
    "tags": []
   },
   "outputs": [],
   "source": [
    "#hide\n",
    "g.index.name = 'date'"
   ]
  },
  {
   "cell_type": "code",
   "execution_count": 24,
   "id": "naked-donor",
   "metadata": {
    "execution": {
     "iopub.execute_input": "2022-07-30T00:40:28.924429Z",
     "iopub.status.busy": "2022-07-30T00:40:28.923669Z",
     "iopub.status.idle": "2022-07-30T00:40:28.927102Z",
     "shell.execute_reply": "2022-07-30T00:40:28.926311Z"
    },
    "papermill": {
     "duration": 0.045833,
     "end_time": "2022-07-30T00:40:28.927237",
     "exception": false,
     "start_time": "2022-07-30T00:40:28.881404",
     "status": "completed"
    },
    "tags": []
   },
   "outputs": [],
   "source": [
    "# #hide\n",
    "# g = g.reset_index(['date'])"
   ]
  },
  {
   "cell_type": "code",
   "execution_count": 25,
   "id": "incomplete-mustang",
   "metadata": {
    "execution": {
     "iopub.execute_input": "2022-07-30T00:40:29.004669Z",
     "iopub.status.busy": "2022-07-30T00:40:29.003948Z",
     "iopub.status.idle": "2022-07-30T00:40:29.006578Z",
     "shell.execute_reply": "2022-07-30T00:40:29.007129Z"
    },
    "papermill": {
     "duration": 0.042671,
     "end_time": "2022-07-30T00:40:29.007276",
     "exception": false,
     "start_time": "2022-07-30T00:40:28.964605",
     "status": "completed"
    },
    "tags": []
   },
   "outputs": [],
   "source": [
    "#hide\n",
    "# g.head()"
   ]
  },
  {
   "cell_type": "code",
   "execution_count": 26,
   "id": "specific-kruger",
   "metadata": {
    "execution": {
     "iopub.execute_input": "2022-07-30T00:40:29.100247Z",
     "iopub.status.busy": "2022-07-30T00:40:29.099526Z",
     "iopub.status.idle": "2022-07-30T00:40:29.102785Z",
     "shell.execute_reply": "2022-07-30T00:40:29.102074Z"
    },
    "papermill": {
     "duration": 0.052978,
     "end_time": "2022-07-30T00:40:29.102917",
     "exception": false,
     "start_time": "2022-07-30T00:40:29.049939",
     "status": "completed"
    },
    "tags": []
   },
   "outputs": [],
   "source": [
    "#hide\n",
    "# g.columns = ['date','country','cases']"
   ]
  },
  {
   "cell_type": "code",
   "execution_count": 27,
   "id": "tender-conversion",
   "metadata": {
    "execution": {
     "iopub.execute_input": "2022-07-30T00:40:29.183295Z",
     "iopub.status.busy": "2022-07-30T00:40:29.182561Z",
     "iopub.status.idle": "2022-07-30T00:40:29.185746Z",
     "shell.execute_reply": "2022-07-30T00:40:29.185018Z"
    },
    "papermill": {
     "duration": 0.045555,
     "end_time": "2022-07-30T00:40:29.185918",
     "exception": false,
     "start_time": "2022-07-30T00:40:29.140363",
     "status": "completed"
    },
    "tags": []
   },
   "outputs": [],
   "source": [
    "#hide\n",
    "# g['continent'] = g.country"
   ]
  },
  {
   "cell_type": "code",
   "execution_count": 28,
   "id": "substantial-wilderness",
   "metadata": {
    "execution": {
     "iopub.execute_input": "2022-07-30T00:40:29.280366Z",
     "iopub.status.busy": "2022-07-30T00:40:29.279529Z",
     "iopub.status.idle": "2022-07-30T00:40:29.284373Z",
     "shell.execute_reply": "2022-07-30T00:40:29.283800Z"
    },
    "papermill": {
     "duration": 0.057756,
     "end_time": "2022-07-30T00:40:29.284500",
     "exception": false,
     "start_time": "2022-07-30T00:40:29.226744",
     "status": "completed"
    },
    "tags": []
   },
   "outputs": [],
   "source": [
    "#hide\n",
    "# cols = list(g.columns.values)"
   ]
  },
  {
   "cell_type": "code",
   "execution_count": 29,
   "id": "solved-farming",
   "metadata": {
    "execution": {
     "iopub.execute_input": "2022-07-30T00:40:29.369429Z",
     "iopub.status.busy": "2022-07-30T00:40:29.368692Z",
     "iopub.status.idle": "2022-07-30T00:40:29.372272Z",
     "shell.execute_reply": "2022-07-30T00:40:29.371718Z"
    },
    "papermill": {
     "duration": 0.045118,
     "end_time": "2022-07-30T00:40:29.372395",
     "exception": false,
     "start_time": "2022-07-30T00:40:29.327277",
     "status": "completed"
    },
    "tags": []
   },
   "outputs": [],
   "source": [
    "#hide\n",
    "# cols.insert(0, cols.pop())"
   ]
  },
  {
   "cell_type": "code",
   "execution_count": 30,
   "id": "executed-adoption",
   "metadata": {
    "execution": {
     "iopub.execute_input": "2022-07-30T00:40:29.450012Z",
     "iopub.status.busy": "2022-07-30T00:40:29.449249Z",
     "iopub.status.idle": "2022-07-30T00:40:29.452490Z",
     "shell.execute_reply": "2022-07-30T00:40:29.451879Z"
    },
    "papermill": {
     "duration": 0.044579,
     "end_time": "2022-07-30T00:40:29.452622",
     "exception": false,
     "start_time": "2022-07-30T00:40:29.408043",
     "status": "completed"
    },
    "tags": []
   },
   "outputs": [],
   "source": [
    "#hide\n",
    "# g = g[cols]"
   ]
  },
  {
   "cell_type": "code",
   "execution_count": 31,
   "id": "subject-dublin",
   "metadata": {
    "execution": {
     "iopub.execute_input": "2022-07-30T00:40:29.534476Z",
     "iopub.status.busy": "2022-07-30T00:40:29.533690Z",
     "iopub.status.idle": "2022-07-30T00:40:29.536756Z",
     "shell.execute_reply": "2022-07-30T00:40:29.536181Z"
    },
    "papermill": {
     "duration": 0.044682,
     "end_time": "2022-07-30T00:40:29.536884",
     "exception": false,
     "start_time": "2022-07-30T00:40:29.492202",
     "status": "completed"
    },
    "tags": []
   },
   "outputs": [],
   "source": [
    "#hide\n",
    "# g['continent'] = g['continent'].map(mapping['map.continent'])"
   ]
  },
  {
   "cell_type": "code",
   "execution_count": 32,
   "id": "freelance-scout",
   "metadata": {
    "execution": {
     "iopub.execute_input": "2022-07-30T00:40:29.616011Z",
     "iopub.status.busy": "2022-07-30T00:40:29.615272Z",
     "iopub.status.idle": "2022-07-30T00:40:29.617889Z",
     "shell.execute_reply": "2022-07-30T00:40:29.618959Z"
    },
    "papermill": {
     "duration": 0.044716,
     "end_time": "2022-07-30T00:40:29.619138",
     "exception": false,
     "start_time": "2022-07-30T00:40:29.574422",
     "status": "completed"
    },
    "tags": []
   },
   "outputs": [],
   "source": [
    "#hide\n",
    "# g.head()"
   ]
  },
  {
   "cell_type": "code",
   "execution_count": 33,
   "id": "limited-engine",
   "metadata": {
    "execution": {
     "iopub.execute_input": "2022-07-30T00:40:29.696305Z",
     "iopub.status.busy": "2022-07-30T00:40:29.695597Z",
     "iopub.status.idle": "2022-07-30T00:40:29.701377Z",
     "shell.execute_reply": "2022-07-30T00:40:29.700765Z"
    },
    "papermill": {
     "duration": 0.045572,
     "end_time": "2022-07-30T00:40:29.701523",
     "exception": false,
     "start_time": "2022-07-30T00:40:29.655951",
     "status": "completed"
    },
    "tags": []
   },
   "outputs": [],
   "source": [
    "# hide\n",
    "# g['date'] = g['date'].astype('datetime64[ns]')"
   ]
  },
  {
   "cell_type": "code",
   "execution_count": 34,
   "id": "sophisticated-supervisor",
   "metadata": {
    "execution": {
     "iopub.execute_input": "2022-07-30T00:40:29.780684Z",
     "iopub.status.busy": "2022-07-30T00:40:29.779949Z",
     "iopub.status.idle": "2022-07-30T00:40:29.783178Z",
     "shell.execute_reply": "2022-07-30T00:40:29.782477Z"
    },
    "papermill": {
     "duration": 0.044673,
     "end_time": "2022-07-30T00:40:29.783303",
     "exception": false,
     "start_time": "2022-07-30T00:40:29.738630",
     "status": "completed"
    },
    "tags": []
   },
   "outputs": [],
   "source": [
    "#hide\n",
    "# g['date'] = g.date.dt.dayofyear"
   ]
  },
  {
   "cell_type": "code",
   "execution_count": 35,
   "id": "inside-dubai",
   "metadata": {
    "execution": {
     "iopub.execute_input": "2022-07-30T00:40:29.863145Z",
     "iopub.status.busy": "2022-07-30T00:40:29.862386Z",
     "iopub.status.idle": "2022-07-30T00:40:29.865753Z",
     "shell.execute_reply": "2022-07-30T00:40:29.864947Z"
    },
    "papermill": {
     "duration": 0.045555,
     "end_time": "2022-07-30T00:40:29.865909",
     "exception": false,
     "start_time": "2022-07-30T00:40:29.820354",
     "status": "completed"
    },
    "tags": []
   },
   "outputs": [],
   "source": [
    "#hide\n",
    "# g = g.rename(columns= {'continent':'group','country':'name','cases':'value'})"
   ]
  },
  {
   "cell_type": "code",
   "execution_count": 36,
   "id": "fleet-motorcycle",
   "metadata": {
    "execution": {
     "iopub.execute_input": "2022-07-30T00:40:29.946247Z",
     "iopub.status.busy": "2022-07-30T00:40:29.945407Z",
     "iopub.status.idle": "2022-07-30T00:40:29.948041Z",
     "shell.execute_reply": "2022-07-30T00:40:29.948532Z"
    },
    "papermill": {
     "duration": 0.046347,
     "end_time": "2022-07-30T00:40:29.948671",
     "exception": false,
     "start_time": "2022-07-30T00:40:29.902324",
     "status": "completed"
    },
    "tags": []
   },
   "outputs": [],
   "source": [
    "#hide\n",
    "# cols = ['name','group','day','value']"
   ]
  },
  {
   "cell_type": "code",
   "execution_count": 37,
   "id": "continued-sleeping",
   "metadata": {
    "execution": {
     "iopub.execute_input": "2022-07-30T00:40:30.028716Z",
     "iopub.status.busy": "2022-07-30T00:40:30.028008Z",
     "iopub.status.idle": "2022-07-30T00:40:30.031269Z",
     "shell.execute_reply": "2022-07-30T00:40:30.030363Z"
    },
    "papermill": {
     "duration": 0.045888,
     "end_time": "2022-07-30T00:40:30.031412",
     "exception": false,
     "start_time": "2022-07-30T00:40:29.985524",
     "status": "completed"
    },
    "tags": []
   },
   "outputs": [],
   "source": [
    "#hide\n",
    "# g.rename(columns= {'date':'day'},inplace = True)"
   ]
  },
  {
   "cell_type": "code",
   "execution_count": 38,
   "id": "major-fight",
   "metadata": {
    "execution": {
     "iopub.execute_input": "2022-07-30T00:40:30.115263Z",
     "iopub.status.busy": "2022-07-30T00:40:30.114535Z",
     "iopub.status.idle": "2022-07-30T00:40:30.121593Z",
     "shell.execute_reply": "2022-07-30T00:40:30.122174Z"
    },
    "papermill": {
     "duration": 0.04983,
     "end_time": "2022-07-30T00:40:30.122348",
     "exception": false,
     "start_time": "2022-07-30T00:40:30.072518",
     "status": "completed"
    },
    "tags": []
   },
   "outputs": [],
   "source": [
    "#hide\n",
    "# g = g[cols]"
   ]
  },
  {
   "cell_type": "code",
   "execution_count": 39,
   "id": "structured-mobile",
   "metadata": {
    "execution": {
     "iopub.execute_input": "2022-07-30T00:40:30.200085Z",
     "iopub.status.busy": "2022-07-30T00:40:30.199376Z",
     "iopub.status.idle": "2022-07-30T00:40:30.201937Z",
     "shell.execute_reply": "2022-07-30T00:40:30.202587Z"
    },
    "papermill": {
     "duration": 0.043561,
     "end_time": "2022-07-30T00:40:30.202716",
     "exception": false,
     "start_time": "2022-07-30T00:40:30.159155",
     "status": "completed"
    },
    "tags": []
   },
   "outputs": [],
   "source": [
    "# #hide\n",
    "# g = g[g.group.notna()]"
   ]
  },
  {
   "cell_type": "code",
   "execution_count": 40,
   "id": "determined-closing",
   "metadata": {
    "execution": {
     "iopub.execute_input": "2022-07-30T00:40:30.285877Z",
     "iopub.status.busy": "2022-07-30T00:40:30.284927Z",
     "iopub.status.idle": "2022-07-30T00:40:30.299271Z",
     "shell.execute_reply": "2022-07-30T00:40:30.298531Z"
    },
    "papermill": {
     "duration": 0.054766,
     "end_time": "2022-07-30T00:40:30.299419",
     "exception": false,
     "start_time": "2022-07-30T00:40:30.244653",
     "status": "completed"
    },
    "tags": []
   },
   "outputs": [],
   "source": [
    "# #hide\n",
    "# colors = dict(zip(\n",
    "#     [\"Oceania\", \"Europe\", \"Asia\", \"South America\", \"Middle East\", \"North America\", \"Africa\"],\n",
    "#     [\"#adb0ff\", \"#ffb3ff\", \"#90d595\", \"#e48381\", \"#aafbff\", \"#f7bb5f\", \"#eafb50\"]\n",
    "# ))\n",
    "# group_lk = g.set_index('name')['group'].to_dict()"
   ]
  },
  {
   "cell_type": "code",
   "execution_count": null,
   "id": "gross-drinking",
   "metadata": {
    "papermill": {
     "duration": 0.035485,
     "end_time": "2022-07-30T00:40:30.377717",
     "exception": false,
     "start_time": "2022-07-30T00:40:30.342232",
     "status": "completed"
    },
    "tags": []
   },
   "outputs": [],
   "source": []
  },
  {
   "cell_type": "code",
   "execution_count": 41,
   "id": "subject-macintosh",
   "metadata": {
    "execution": {
     "iopub.execute_input": "2022-07-30T00:40:30.455558Z",
     "iopub.status.busy": "2022-07-30T00:40:30.454828Z",
     "iopub.status.idle": "2022-07-30T00:40:30.457358Z",
     "shell.execute_reply": "2022-07-30T00:40:30.457918Z"
    },
    "papermill": {
     "duration": 0.044831,
     "end_time": "2022-07-30T00:40:30.458080",
     "exception": false,
     "start_time": "2022-07-30T00:40:30.413249",
     "status": "completed"
    },
    "tags": []
   },
   "outputs": [],
   "source": [
    "# #hide\n",
    "# fig, ax = plt.subplots(figsize=(15, 8))\n",
    "\n",
    "# def draw_barchart(current_day):\n",
    "#     dff = g[g['day'].eq(current_day)].sort_values(by='value', ascending=True).tail(10)\n",
    "#     ax.clear()\n",
    "#     ax.barh(dff['name'], dff['value'], color=[colors[group_lk[x]] for x in dff['name']])\n",
    "#     dx = dff['value'].max() / 200\n",
    "    \n",
    "#     for i, (value, name) in enumerate(zip(dff['value'], dff['name'])):\n",
    "#         ax.text(value-dx, i,     name,           size=14, weight=600, ha='right', va='bottom')\n",
    "#         ax.text(value-dx, i-.25, group_lk[name], size=10, color='#444444', ha='right', va='baseline')\n",
    "#         ax.text(value+dx, i,     f'{value:,.0f}',  size=14, ha='left',  va='center')\n",
    "#     ax.text(1, 0.4, current_day, transform=ax.transAxes, color='#777777', size=46, ha='right', weight=800)\n",
    "#     ax.text(0, 1.06, 'Population (thousands)', transform=ax.transAxes, size=12, color='#777777')\n",
    "#     ax.xaxis.set_major_formatter(ticker.StrMethodFormatter('{x:,.0f}'))\n",
    "#     ax.xaxis.set_ticks_position('top')\n",
    "#     ax.tick_params(axis='x', colors='#777777', labelsize=12)\n",
    "#     ax.set_yticks([])\n",
    "#     ax.margins(0, 0.01)\n",
    "#     ax.grid(which='major', axis='x', linestyle='-')\n",
    "#     ax.set_axisbelow(True)\n",
    "    \n",
    "#     ax.text(0, 1.15, 'Coronavirus',\n",
    "#             transform=ax.transAxes, size=24, weight=600, ha='left', va='top')\n",
    "# #     ax.text(1, 0, 'by @pratapvardhan; credit @jburnmurdoch', transform=ax.transAxes, color='#777777', ha='right',\n",
    "# #             bbox=dict(facecolor='white', alpha=0.8, edgecolor='white'))\n",
    "#     plt.box(False)"
   ]
  },
  {
   "cell_type": "code",
   "execution_count": 42,
   "id": "sexual-wages",
   "metadata": {
    "execution": {
     "iopub.execute_input": "2022-07-30T00:40:30.533494Z",
     "iopub.status.busy": "2022-07-30T00:40:30.532806Z",
     "iopub.status.idle": "2022-07-30T00:40:30.535297Z",
     "shell.execute_reply": "2022-07-30T00:40:30.535834Z"
    },
    "papermill": {
     "duration": 0.040645,
     "end_time": "2022-07-30T00:40:30.535973",
     "exception": false,
     "start_time": "2022-07-30T00:40:30.495328",
     "status": "completed"
    },
    "tags": []
   },
   "outputs": [],
   "source": [
    "# #hide_input\n",
    "# fig, ax = plt.subplots(figsize=(15, 8))\n",
    "# animator = animation.FuncAnimation(fig, draw_barchart, frames=range(g.day.values.min(), g.day.values.max()))\n",
    "# HTML(animator.to_jshtml())\n",
    "# # or use animator.to_html5_video() or animator.save() "
   ]
  },
  {
   "cell_type": "code",
   "execution_count": null,
   "id": "australian-container",
   "metadata": {
    "papermill": {
     "duration": 0.035289,
     "end_time": "2022-07-30T00:40:30.608853",
     "exception": false,
     "start_time": "2022-07-30T00:40:30.573564",
     "status": "completed"
    },
    "tags": []
   },
   "outputs": [],
   "source": []
  },
  {
   "cell_type": "code",
   "execution_count": null,
   "id": "mediterranean-pontiac",
   "metadata": {
    "papermill": {
     "duration": 0.036948,
     "end_time": "2022-07-30T00:40:30.682116",
     "exception": false,
     "start_time": "2022-07-30T00:40:30.645168",
     "status": "completed"
    },
    "tags": []
   },
   "outputs": [],
   "source": []
  },
  {
   "cell_type": "code",
   "execution_count": null,
   "id": "aging-legislature",
   "metadata": {
    "papermill": {
     "duration": 0.035624,
     "end_time": "2022-07-30T00:40:30.751755",
     "exception": false,
     "start_time": "2022-07-30T00:40:30.716131",
     "status": "completed"
    },
    "tags": []
   },
   "outputs": [],
   "source": []
  }
 ],
 "metadata": {
  "kernelspec": {
   "display_name": "Python 3",
   "language": "python",
   "name": "python3"
  },
  "language_info": {
   "codemirror_mode": {
    "name": "ipython",
    "version": 3
   },
   "file_extension": ".py",
   "mimetype": "text/x-python",
   "name": "python",
   "nbconvert_exporter": "python",
   "pygments_lexer": "ipython3",
   "version": "3.6.15"
  },
  "papermill": {
   "duration": 7.374834,
   "end_time": "2022-07-30T00:40:31.206998",
   "environment_variables": {},
   "exception": null,
   "input_path": "2020-03-21-covid19exp.ipynb",
   "output_path": "2020-03-21-covid19exp.ipynb",
   "parameters": {},
   "start_time": "2022-07-30T00:40:23.832164",
   "version": "2.0.0"
  }
 },
 "nbformat": 4,
 "nbformat_minor": 5
}