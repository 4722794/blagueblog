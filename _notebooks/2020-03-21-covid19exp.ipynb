{
 "cells": [
  {
   "cell_type": "markdown",
   "id": "muslim-click",
   "metadata": {
    "papermill": {
     "duration": 0.050862,
     "end_time": "2021-02-07T00:11:08.487645",
     "exception": false,
     "start_time": "2021-02-07T00:11:08.436783",
     "status": "completed"
    },
    "tags": []
   },
   "source": [
    "# COVID-19 Case Race\n",
    "> A race chart to see rising cases around the world\n",
    "\n",
    "- author: Hargun Oberoi\n",
    "- image: images/covid-overview.png\n",
    "- hide: false\n",
    "- badges: false"
   ]
  },
  {
   "cell_type": "code",
   "execution_count": 1,
   "id": "proof-material",
   "metadata": {
    "execution": {
     "iopub.execute_input": "2021-02-07T00:11:08.595027Z",
     "iopub.status.busy": "2021-02-07T00:11:08.594215Z",
     "iopub.status.idle": "2021-02-07T00:11:09.033041Z",
     "shell.execute_reply": "2021-02-07T00:11:09.032419Z"
    },
    "papermill": {
     "duration": 0.49109,
     "end_time": "2021-02-07T00:11:09.033217",
     "exception": false,
     "start_time": "2021-02-07T00:11:08.542127",
     "status": "completed"
    },
    "tags": []
   },
   "outputs": [],
   "source": [
    "#hide\n",
    "import numpy as np\n",
    "import pandas as pd\n",
    "from jinja2 import Template\n",
    "from IPython.display import HTML"
   ]
  },
  {
   "cell_type": "code",
   "execution_count": 2,
   "id": "developed-terminology",
   "metadata": {
    "execution": {
     "iopub.execute_input": "2021-02-07T00:11:09.117172Z",
     "iopub.status.busy": "2021-02-07T00:11:09.115893Z",
     "iopub.status.idle": "2021-02-07T00:11:09.118503Z",
     "shell.execute_reply": "2021-02-07T00:11:09.119380Z"
    },
    "papermill": {
     "duration": 0.046691,
     "end_time": "2021-02-07T00:11:09.119548",
     "exception": false,
     "start_time": "2021-02-07T00:11:09.072857",
     "status": "completed"
    },
    "tags": []
   },
   "outputs": [],
   "source": [
    "#hide\n",
    "\n",
    "# FETCH\n",
    "base_url = 'https://raw.githubusercontent.com/pratapvardhan/notebooks/master/covid19/'\n",
    "paths = {\n",
    "    'mapping': base_url + 'mapping_countries.csv',\n",
    "    'overview': base_url + 'overview.tpl'\n",
    "}"
   ]
  },
  {
   "cell_type": "code",
   "execution_count": 3,
   "id": "dynamic-saver",
   "metadata": {
    "execution": {
     "iopub.execute_input": "2021-02-07T00:11:09.222807Z",
     "iopub.status.busy": "2021-02-07T00:11:09.222103Z",
     "iopub.status.idle": "2021-02-07T00:11:09.224946Z",
     "shell.execute_reply": "2021-02-07T00:11:09.225574Z"
    },
    "papermill": {
     "duration": 0.054063,
     "end_time": "2021-02-07T00:11:09.225740",
     "exception": false,
     "start_time": "2021-02-07T00:11:09.171677",
     "status": "completed"
    },
    "tags": []
   },
   "outputs": [
    {
     "data": {
      "text/plain": [
       "'https://raw.githubusercontent.com/pratapvardhan/notebooks/master/covid19/mapping_countries.csv'"
      ]
     },
     "execution_count": 3,
     "metadata": {},
     "output_type": "execute_result"
    }
   ],
   "source": [
    "#hide\n",
    "paths['mapping']"
   ]
  },
  {
   "cell_type": "code",
   "execution_count": 4,
   "id": "urban-software",
   "metadata": {
    "execution": {
     "iopub.execute_input": "2021-02-07T00:11:09.310489Z",
     "iopub.status.busy": "2021-02-07T00:11:09.309819Z",
     "iopub.status.idle": "2021-02-07T00:11:09.311828Z",
     "shell.execute_reply": "2021-02-07T00:11:09.312649Z"
    },
    "papermill": {
     "duration": 0.04789,
     "end_time": "2021-02-07T00:11:09.312942",
     "exception": false,
     "start_time": "2021-02-07T00:11:09.265052",
     "status": "completed"
    },
    "tags": []
   },
   "outputs": [],
   "source": [
    "#hide\n",
    "def get_mappings(url):\n",
    "    df = pd.read_csv(url)\n",
    "    return {\n",
    "        'df': df,\n",
    "        'replace.country': dict(df.dropna(subset=['Name']).set_index('Country')['Name']),\n",
    "        'map.continent': dict(df.set_index('Name')['Continent'])\n",
    "    }"
   ]
  },
  {
   "cell_type": "code",
   "execution_count": 5,
   "id": "intimate-machinery",
   "metadata": {
    "execution": {
     "iopub.execute_input": "2021-02-07T00:11:09.404840Z",
     "iopub.status.busy": "2021-02-07T00:11:09.404158Z",
     "iopub.status.idle": "2021-02-07T00:11:09.459150Z",
     "shell.execute_reply": "2021-02-07T00:11:09.458527Z"
    },
    "papermill": {
     "duration": 0.105463,
     "end_time": "2021-02-07T00:11:09.459310",
     "exception": false,
     "start_time": "2021-02-07T00:11:09.353847",
     "status": "completed"
    },
    "tags": []
   },
   "outputs": [],
   "source": [
    "#hide\n",
    "mapping = get_mappings(paths['mapping'])"
   ]
  },
  {
   "cell_type": "code",
   "execution_count": 6,
   "id": "certified-tactics",
   "metadata": {
    "execution": {
     "iopub.execute_input": "2021-02-07T00:11:09.548190Z",
     "iopub.status.busy": "2021-02-07T00:11:09.547387Z",
     "iopub.status.idle": "2021-02-07T00:11:09.550538Z",
     "shell.execute_reply": "2021-02-07T00:11:09.549931Z"
    },
    "papermill": {
     "duration": 0.049043,
     "end_time": "2021-02-07T00:11:09.550750",
     "exception": false,
     "start_time": "2021-02-07T00:11:09.501707",
     "status": "completed"
    },
    "tags": []
   },
   "outputs": [],
   "source": [
    "#hide\n",
    "def get_template(path):\n",
    "    from urllib.parse import urlparse\n",
    "    if bool(urlparse(path).netloc):\n",
    "        from urllib.request import urlopen\n",
    "        return urlopen(path).read().decode('utf8')\n",
    "    return open(path).read()"
   ]
  },
  {
   "cell_type": "code",
   "execution_count": 7,
   "id": "realistic-blast",
   "metadata": {
    "execution": {
     "iopub.execute_input": "2021-02-07T00:11:09.640009Z",
     "iopub.status.busy": "2021-02-07T00:11:09.639334Z",
     "iopub.status.idle": "2021-02-07T00:11:09.641465Z",
     "shell.execute_reply": "2021-02-07T00:11:09.642334Z"
    },
    "papermill": {
     "duration": 0.049517,
     "end_time": "2021-02-07T00:11:09.642499",
     "exception": false,
     "start_time": "2021-02-07T00:11:09.592982",
     "status": "completed"
    },
    "tags": []
   },
   "outputs": [],
   "source": [
    "#hide\n",
    "def get_frame(name):\n",
    "    url = (\n",
    "        'https://raw.githubusercontent.com/CSSEGISandData/COVID-19/master/csse_covid_19_data/'\n",
    "        f'csse_covid_19_time_series/time_series_covid19_{name}_global.csv')\n",
    "    df = pd.read_csv(url)\n",
    "    # rename countries\n",
    "    df['Country/Region'] = df['Country/Region'].replace(mapping['replace.country'])\n",
    "    return df"
   ]
  },
  {
   "cell_type": "code",
   "execution_count": 8,
   "id": "affiliated-characterization",
   "metadata": {
    "execution": {
     "iopub.execute_input": "2021-02-07T00:11:09.749929Z",
     "iopub.status.busy": "2021-02-07T00:11:09.749249Z",
     "iopub.status.idle": "2021-02-07T00:11:09.752006Z",
     "shell.execute_reply": "2021-02-07T00:11:09.751146Z"
    },
    "papermill": {
     "duration": 0.065421,
     "end_time": "2021-02-07T00:11:09.752147",
     "exception": false,
     "start_time": "2021-02-07T00:11:09.686726",
     "status": "completed"
    },
    "tags": []
   },
   "outputs": [],
   "source": [
    "#hide\n",
    "def get_dates(df):\n",
    "    dt_cols = df.columns[~df.columns.isin(['Province/State', 'Country/Region', 'Lat', 'Long'])]\n",
    "    LAST_DATE_I = -1\n",
    "    # sometimes last column may be empty, then go backwards\n",
    "    for i in range(-1, -len(dt_cols), -1):\n",
    "        if not df[dt_cols[i]].fillna(0).eq(0).all():\n",
    "            LAST_DATE_I = i\n",
    "            break\n",
    "    return LAST_DATE_I, dt_cols"
   ]
  },
  {
   "cell_type": "code",
   "execution_count": 9,
   "id": "recent-optimization",
   "metadata": {
    "execution": {
     "iopub.execute_input": "2021-02-07T00:11:09.857023Z",
     "iopub.status.busy": "2021-02-07T00:11:09.856301Z",
     "iopub.status.idle": "2021-02-07T00:11:10.211651Z",
     "shell.execute_reply": "2021-02-07T00:11:10.210881Z"
    },
    "papermill": {
     "duration": 0.408916,
     "end_time": "2021-02-07T00:11:10.211814",
     "exception": false,
     "start_time": "2021-02-07T00:11:09.802898",
     "status": "completed"
    },
    "tags": []
   },
   "outputs": [],
   "source": [
    "#hide\n",
    "COL_REGION = 'Country/Region'\n",
    "# Confirmed, Recovered, Deaths\n",
    "df = get_frame('confirmed')\n",
    "# dft_: timeseries, dfc_: today country agg\n",
    "dft_cases = df\n",
    "dft_deaths = get_frame('deaths')\n",
    "dft_recovered = get_frame('recovered')\n",
    "LAST_DATE_I, dt_cols = get_dates(df)"
   ]
  },
  {
   "cell_type": "code",
   "execution_count": 10,
   "id": "absolute-copper",
   "metadata": {
    "execution": {
     "iopub.execute_input": "2021-02-07T00:11:10.303545Z",
     "iopub.status.busy": "2021-02-07T00:11:10.302867Z",
     "iopub.status.idle": "2021-02-07T00:11:10.305446Z",
     "shell.execute_reply": "2021-02-07T00:11:10.306161Z"
    },
    "papermill": {
     "duration": 0.052474,
     "end_time": "2021-02-07T00:11:10.306326",
     "exception": false,
     "start_time": "2021-02-07T00:11:10.253852",
     "status": "completed"
    },
    "tags": []
   },
   "outputs": [],
   "source": [
    "#hide\n",
    "LAST_DATE_I, dt_cols = get_dates(df)\n",
    "dt_today =dt_cols[LAST_DATE_I]\n",
    "# dt_5day = dt_cols[LAST_DATE_I - 5]\n",
    "dt_yday = dt_cols[LAST_DATE_I - 1]"
   ]
  },
  {
   "cell_type": "code",
   "execution_count": 11,
   "id": "restricted-sheriff",
   "metadata": {
    "execution": {
     "iopub.execute_input": "2021-02-07T00:11:10.409020Z",
     "iopub.status.busy": "2021-02-07T00:11:10.408330Z",
     "iopub.status.idle": "2021-02-07T00:11:10.418193Z",
     "shell.execute_reply": "2021-02-07T00:11:10.417612Z"
    },
    "papermill": {
     "duration": 0.071816,
     "end_time": "2021-02-07T00:11:10.418338",
     "exception": false,
     "start_time": "2021-02-07T00:11:10.346522",
     "status": "completed"
    },
    "tags": []
   },
   "outputs": [],
   "source": [
    "#hide\n",
    "dfc_cases = dft_cases.groupby(COL_REGION)[dt_today].sum()\n",
    "dfc_deaths = dft_deaths.groupby(COL_REGION)[dt_today].sum()\n",
    "# dfp_cases = dft_cases.groupby(COL_REGION)[dt_5day].sum()\n",
    "# dfp_deaths = dft_deaths.groupby(COL_REGION)[dt_5day].sum()\n",
    "dfp_cases = dft_cases.groupby(COL_REGION)[dt_yday].sum()\n",
    "dfp_deaths = dft_deaths.groupby(COL_REGION)[dt_yday].sum()"
   ]
  },
  {
   "cell_type": "code",
   "execution_count": 12,
   "id": "deluxe-hepatitis",
   "metadata": {
    "execution": {
     "iopub.execute_input": "2021-02-07T00:11:10.508350Z",
     "iopub.status.busy": "2021-02-07T00:11:10.507660Z",
     "iopub.status.idle": "2021-02-07T00:11:10.513158Z",
     "shell.execute_reply": "2021-02-07T00:11:10.513806Z"
    },
    "papermill": {
     "duration": 0.056198,
     "end_time": "2021-02-07T00:11:10.513964",
     "exception": false,
     "start_time": "2021-02-07T00:11:10.457766",
     "status": "completed"
    },
    "tags": []
   },
   "outputs": [],
   "source": [
    "#hide\n",
    "df_table = (pd.DataFrame(dict(Cases = dfc_cases, Deaths = dfc_deaths, PCases = dfp_cases, PDeaths = dfp_deaths))\n",
    "            .sort_values(by = ['Cases','Deaths'], ascending = [False, False])\n",
    "            .reset_index())"
   ]
  },
  {
   "cell_type": "code",
   "execution_count": 13,
   "id": "educational-chancellor",
   "metadata": {
    "execution": {
     "iopub.execute_input": "2021-02-07T00:11:10.607862Z",
     "iopub.status.busy": "2021-02-07T00:11:10.606999Z",
     "iopub.status.idle": "2021-02-07T00:11:10.625663Z",
     "shell.execute_reply": "2021-02-07T00:11:10.626400Z"
    },
    "papermill": {
     "duration": 0.074041,
     "end_time": "2021-02-07T00:11:10.626562",
     "exception": false,
     "start_time": "2021-02-07T00:11:10.552521",
     "status": "completed"
    },
    "tags": []
   },
   "outputs": [
    {
     "data": {
      "text/html": [
       "<div>\n",
       "<style scoped>\n",
       "    .dataframe tbody tr th:only-of-type {\n",
       "        vertical-align: middle;\n",
       "    }\n",
       "\n",
       "    .dataframe tbody tr th {\n",
       "        vertical-align: top;\n",
       "    }\n",
       "\n",
       "    .dataframe thead th {\n",
       "        text-align: right;\n",
       "    }\n",
       "</style>\n",
       "<table border=\"1\" class=\"dataframe\">\n",
       "  <thead>\n",
       "    <tr style=\"text-align: right;\">\n",
       "      <th></th>\n",
       "      <th>Country/Region</th>\n",
       "      <th>Cases</th>\n",
       "      <th>Deaths</th>\n",
       "      <th>PCases</th>\n",
       "      <th>PDeaths</th>\n",
       "      <th>Cases (+)</th>\n",
       "      <th>Deaths (+)</th>\n",
       "      <th>Fatality Rate</th>\n",
       "      <th>Continent</th>\n",
       "    </tr>\n",
       "  </thead>\n",
       "  <tbody>\n",
       "    <tr>\n",
       "      <th>0</th>\n",
       "      <td>US</td>\n",
       "      <td>26813772</td>\n",
       "      <td>459555</td>\n",
       "      <td>26680214</td>\n",
       "      <td>455881</td>\n",
       "      <td>133558</td>\n",
       "      <td>3674</td>\n",
       "      <td>1.71</td>\n",
       "      <td>North America</td>\n",
       "    </tr>\n",
       "    <tr>\n",
       "      <th>1</th>\n",
       "      <td>India</td>\n",
       "      <td>10814304</td>\n",
       "      <td>154918</td>\n",
       "      <td>10802591</td>\n",
       "      <td>154823</td>\n",
       "      <td>11713</td>\n",
       "      <td>95</td>\n",
       "      <td>1.43</td>\n",
       "      <td>Asia</td>\n",
       "    </tr>\n",
       "    <tr>\n",
       "      <th>2</th>\n",
       "      <td>Brazil</td>\n",
       "      <td>9447165</td>\n",
       "      <td>230034</td>\n",
       "      <td>9396293</td>\n",
       "      <td>228795</td>\n",
       "      <td>50872</td>\n",
       "      <td>1239</td>\n",
       "      <td>2.43</td>\n",
       "      <td>South America</td>\n",
       "    </tr>\n",
       "    <tr>\n",
       "      <th>3</th>\n",
       "      <td>United Kingdom</td>\n",
       "      <td>3922910</td>\n",
       "      <td>111477</td>\n",
       "      <td>3903706</td>\n",
       "      <td>110462</td>\n",
       "      <td>19204</td>\n",
       "      <td>1015</td>\n",
       "      <td>2.84</td>\n",
       "      <td>Europe</td>\n",
       "    </tr>\n",
       "    <tr>\n",
       "      <th>4</th>\n",
       "      <td>Russia</td>\n",
       "      <td>3891274</td>\n",
       "      <td>74520</td>\n",
       "      <td>3874830</td>\n",
       "      <td>74005</td>\n",
       "      <td>16444</td>\n",
       "      <td>515</td>\n",
       "      <td>1.92</td>\n",
       "      <td>Europe</td>\n",
       "    </tr>\n",
       "  </tbody>\n",
       "</table>\n",
       "</div>"
      ],
      "text/plain": [
       "   Country/Region     Cases  Deaths    PCases  PDeaths  Cases (+)  Deaths (+)  \\\n",
       "0              US  26813772  459555  26680214   455881     133558        3674   \n",
       "1           India  10814304  154918  10802591   154823      11713          95   \n",
       "2          Brazil   9447165  230034   9396293   228795      50872        1239   \n",
       "3  United Kingdom   3922910  111477   3903706   110462      19204        1015   \n",
       "4          Russia   3891274   74520   3874830    74005      16444         515   \n",
       "\n",
       "   Fatality Rate      Continent  \n",
       "0           1.71  North America  \n",
       "1           1.43           Asia  \n",
       "2           2.43  South America  \n",
       "3           2.84         Europe  \n",
       "4           1.92         Europe  "
      ]
     },
     "execution_count": 13,
     "metadata": {},
     "output_type": "execute_result"
    }
   ],
   "source": [
    "#hide\n",
    "for c in 'Cases, Deaths'.split(', '):\n",
    "    df_table[f'{c} (+)'] = (df_table[c] - df_table[f'P{c}']).clip(0)\n",
    "    #Clip ça veut dire, les chiffres negatif sont interdit\n",
    "df_table['Fatality Rate'] = (100* df_table['Deaths']/ df_table['Cases']).round(2)\n",
    "df_table['Continent'] = df_table['Country/Region'].map(mapping['map.continent'])\n",
    "df_table.head(5)"
   ]
  },
  {
   "cell_type": "code",
   "execution_count": 14,
   "id": "aboriginal-bulgaria",
   "metadata": {
    "execution": {
     "iopub.execute_input": "2021-02-07T00:11:10.747161Z",
     "iopub.status.busy": "2021-02-07T00:11:10.746412Z",
     "iopub.status.idle": "2021-02-07T00:11:10.749641Z",
     "shell.execute_reply": "2021-02-07T00:11:10.750302Z"
    },
    "papermill": {
     "duration": 0.06648,
     "end_time": "2021-02-07T00:11:10.750482",
     "exception": false,
     "start_time": "2021-02-07T00:11:10.684002",
     "status": "completed"
    },
    "tags": []
   },
   "outputs": [],
   "source": [
    "#hide\n",
    "#delete problematic countries from table\n",
    "df_table = df_table[~df_table['Country/Region'].isin(['Cape Verde', 'Cruise Ship', 'Kosovo'])]"
   ]
  },
  {
   "cell_type": "code",
   "execution_count": 15,
   "id": "fantastic-effect",
   "metadata": {
    "execution": {
     "iopub.execute_input": "2021-02-07T00:11:10.862198Z",
     "iopub.status.busy": "2021-02-07T00:11:10.861457Z",
     "iopub.status.idle": "2021-02-07T00:11:10.883174Z",
     "shell.execute_reply": "2021-02-07T00:11:10.882531Z"
    },
    "papermill": {
     "duration": 0.079102,
     "end_time": "2021-02-07T00:11:10.883446",
     "exception": false,
     "start_time": "2021-02-07T00:11:10.804344",
     "status": "completed"
    },
    "tags": []
   },
   "outputs": [
    {
     "data": {
      "text/html": [
       "<div>\n",
       "<style scoped>\n",
       "    .dataframe tbody tr th:only-of-type {\n",
       "        vertical-align: middle;\n",
       "    }\n",
       "\n",
       "    .dataframe tbody tr th {\n",
       "        vertical-align: top;\n",
       "    }\n",
       "\n",
       "    .dataframe thead th {\n",
       "        text-align: right;\n",
       "    }\n",
       "</style>\n",
       "<table border=\"1\" class=\"dataframe\">\n",
       "  <thead>\n",
       "    <tr style=\"text-align: right;\">\n",
       "      <th></th>\n",
       "      <th>Country/Region</th>\n",
       "      <th>Cases</th>\n",
       "      <th>Deaths</th>\n",
       "      <th>PCases</th>\n",
       "      <th>PDeaths</th>\n",
       "      <th>Cases (+)</th>\n",
       "      <th>Deaths (+)</th>\n",
       "      <th>Fatality Rate</th>\n",
       "      <th>Continent</th>\n",
       "    </tr>\n",
       "  </thead>\n",
       "  <tbody>\n",
       "    <tr>\n",
       "      <th>0</th>\n",
       "      <td>US</td>\n",
       "      <td>26813772</td>\n",
       "      <td>459555</td>\n",
       "      <td>26680214</td>\n",
       "      <td>455881</td>\n",
       "      <td>133558</td>\n",
       "      <td>3674</td>\n",
       "      <td>1.7</td>\n",
       "      <td>North America</td>\n",
       "    </tr>\n",
       "    <tr>\n",
       "      <th>1</th>\n",
       "      <td>India</td>\n",
       "      <td>10814304</td>\n",
       "      <td>154918</td>\n",
       "      <td>10802591</td>\n",
       "      <td>154823</td>\n",
       "      <td>11713</td>\n",
       "      <td>95</td>\n",
       "      <td>1.4</td>\n",
       "      <td>Asia</td>\n",
       "    </tr>\n",
       "    <tr>\n",
       "      <th>2</th>\n",
       "      <td>Brazil</td>\n",
       "      <td>9447165</td>\n",
       "      <td>230034</td>\n",
       "      <td>9396293</td>\n",
       "      <td>228795</td>\n",
       "      <td>50872</td>\n",
       "      <td>1239</td>\n",
       "      <td>2.4</td>\n",
       "      <td>South America</td>\n",
       "    </tr>\n",
       "    <tr>\n",
       "      <th>3</th>\n",
       "      <td>United Kingdom</td>\n",
       "      <td>3922910</td>\n",
       "      <td>111477</td>\n",
       "      <td>3903706</td>\n",
       "      <td>110462</td>\n",
       "      <td>19204</td>\n",
       "      <td>1015</td>\n",
       "      <td>2.8</td>\n",
       "      <td>Europe</td>\n",
       "    </tr>\n",
       "    <tr>\n",
       "      <th>4</th>\n",
       "      <td>Russia</td>\n",
       "      <td>3891274</td>\n",
       "      <td>74520</td>\n",
       "      <td>3874830</td>\n",
       "      <td>74005</td>\n",
       "      <td>16444</td>\n",
       "      <td>515</td>\n",
       "      <td>1.9</td>\n",
       "      <td>Europe</td>\n",
       "    </tr>\n",
       "  </tbody>\n",
       "</table>\n",
       "</div>"
      ],
      "text/plain": [
       "   Country/Region     Cases  Deaths    PCases  PDeaths  Cases (+)  Deaths (+)  \\\n",
       "0              US  26813772  459555  26680214   455881     133558        3674   \n",
       "1           India  10814304  154918  10802591   154823      11713          95   \n",
       "2          Brazil   9447165  230034   9396293   228795      50872        1239   \n",
       "3  United Kingdom   3922910  111477   3903706   110462      19204        1015   \n",
       "4          Russia   3891274   74520   3874830    74005      16444         515   \n",
       "\n",
       "   Fatality Rate      Continent  \n",
       "0            1.7  North America  \n",
       "1            1.4           Asia  \n",
       "2            2.4  South America  \n",
       "3            2.8         Europe  \n",
       "4            1.9         Europe  "
      ]
     },
     "execution_count": 15,
     "metadata": {},
     "output_type": "execute_result"
    }
   ],
   "source": [
    "#hide\n",
    "df_table = (pd.DataFrame(dict(Cases=dfc_cases, Deaths=dfc_deaths, PCases=dfp_cases, PDeaths=dfp_deaths))\n",
    "             .sort_values(by=['Cases', 'Deaths'], ascending=[False, False])\n",
    "             .reset_index())\n",
    "df_table.rename(columns={'index': 'Country/Region'}, inplace=True)\n",
    "for c in 'Cases, Deaths'.split(', '):\n",
    "    df_table[f'{c} (+)'] = (df_table[c] - df_table[f'P{c}']).clip(0)  # DATA BUG\n",
    "df_table['Fatality Rate'] = (100 * df_table['Deaths'] / df_table['Cases']).round(1)\n",
    "df_table['Continent'] = df_table['Country/Region'].map(mapping['map.continent'])\n",
    "df_table.head(5)"
   ]
  },
  {
   "cell_type": "code",
   "execution_count": 16,
   "id": "fewer-occasion",
   "metadata": {
    "execution": {
     "iopub.execute_input": "2021-02-07T00:11:11.000673Z",
     "iopub.status.busy": "2021-02-07T00:11:10.999729Z",
     "iopub.status.idle": "2021-02-07T00:11:11.002891Z",
     "shell.execute_reply": "2021-02-07T00:11:11.002110Z"
    },
    "papermill": {
     "duration": 0.059457,
     "end_time": "2021-02-07T00:11:11.003040",
     "exception": false,
     "start_time": "2021-02-07T00:11:10.943583",
     "status": "completed"
    },
    "tags": []
   },
   "outputs": [],
   "source": [
    "#hide\n",
    "#delete problematic countries from table\n",
    "df_table = df_table[~df_table['Country/Region'].isin(['Cape Verde', 'Cruise Ship', 'Kosovo'])]"
   ]
  },
  {
   "cell_type": "code",
   "execution_count": 17,
   "id": "related-center",
   "metadata": {
    "execution": {
     "iopub.execute_input": "2021-02-07T00:11:11.103131Z",
     "iopub.status.busy": "2021-02-07T00:11:11.102403Z",
     "iopub.status.idle": "2021-02-07T00:11:11.118196Z",
     "shell.execute_reply": "2021-02-07T00:11:11.118922Z"
    },
    "papermill": {
     "duration": 0.068843,
     "end_time": "2021-02-07T00:11:11.119110",
     "exception": false,
     "start_time": "2021-02-07T00:11:11.050267",
     "status": "completed"
    },
    "tags": []
   },
   "outputs": [],
   "source": [
    "#hide\n",
    "metrics = [df_table.columns[index] for index in [1,2,5,6]]\n",
    "# s_china = df_table[df_table['Country/Region'].eq('China')][metrics].sum().add_prefix('China ')\n",
    "s_us = df_table[df_table['Country/Region'].eq('US')][metrics].sum().add_prefix('US ')\n",
    "s_eu = df_table[df_table['Continent'].eq('Europe')][metrics].sum().add_prefix('EU ')\n",
    "s_ind = df_table[df_table['Country/Region'].eq('India')][metrics].sum().add_prefix('India ')\n",
    "summary = {'updated': pd.to_datetime(dt_today), 'since': pd.to_datetime(dt_yday)}\n",
    "summary = {'updated': pd.to_datetime(dt_today), 'since': pd.to_datetime(dt_yday)}\n",
    "summary = {**summary, **df_table[metrics].sum(), **s_ind, **s_us, **s_eu}"
   ]
  },
  {
   "cell_type": "code",
   "execution_count": 18,
   "id": "engaging-syndrome",
   "metadata": {
    "execution": {
     "iopub.execute_input": "2021-02-07T00:11:11.213650Z",
     "iopub.status.busy": "2021-02-07T00:11:11.212933Z",
     "iopub.status.idle": "2021-02-07T00:11:11.223546Z",
     "shell.execute_reply": "2021-02-07T00:11:11.222898Z"
    },
    "papermill": {
     "duration": 0.062595,
     "end_time": "2021-02-07T00:11:11.223714",
     "exception": false,
     "start_time": "2021-02-07T00:11:11.161119",
     "status": "completed"
    },
    "tags": []
   },
   "outputs": [],
   "source": [
    "#hide\n",
    "dft_ct_new_cases = dft_cases.groupby(COL_REGION)[dt_cols].sum().diff(axis=1).fillna(0).astype(int)"
   ]
  },
  {
   "cell_type": "code",
   "execution_count": 19,
   "id": "neutral-assignment",
   "metadata": {
    "execution": {
     "iopub.execute_input": "2021-02-07T00:11:11.324751Z",
     "iopub.status.busy": "2021-02-07T00:11:11.324033Z",
     "iopub.status.idle": "2021-02-07T00:11:11.326840Z",
     "shell.execute_reply": "2021-02-07T00:11:11.326258Z"
    },
    "papermill": {
     "duration": 0.05389,
     "end_time": "2021-02-07T00:11:11.327022",
     "exception": false,
     "start_time": "2021-02-07T00:11:11.273132",
     "status": "completed"
    },
    "tags": []
   },
   "outputs": [],
   "source": [
    "#hide\n",
    "everydaycases = dft_ct_new_cases.cumsum(axis=1)"
   ]
  },
  {
   "cell_type": "code",
   "execution_count": 20,
   "id": "parliamentary-calgary",
   "metadata": {
    "execution": {
     "iopub.execute_input": "2021-02-07T00:11:11.422885Z",
     "iopub.status.busy": "2021-02-07T00:11:11.422182Z",
     "iopub.status.idle": "2021-02-07T00:11:12.243579Z",
     "shell.execute_reply": "2021-02-07T00:11:12.242247Z"
    },
    "papermill": {
     "duration": 0.872414,
     "end_time": "2021-02-07T00:11:12.243736",
     "exception": false,
     "start_time": "2021-02-07T00:11:11.371322",
     "status": "completed"
    },
    "tags": []
   },
   "outputs": [],
   "source": [
    "#hide\n",
    "import pandas as pd\n",
    "import matplotlib.pyplot as plt\n",
    "import matplotlib.ticker as ticker\n",
    "import matplotlib.animation as animation\n",
    "from IPython.display import HTML"
   ]
  },
  {
   "cell_type": "code",
   "execution_count": 21,
   "id": "lasting-extraction",
   "metadata": {
    "execution": {
     "iopub.execute_input": "2021-02-07T00:11:12.332663Z",
     "iopub.status.busy": "2021-02-07T00:11:12.331973Z",
     "iopub.status.idle": "2021-02-07T00:11:12.337654Z",
     "shell.execute_reply": "2021-02-07T00:11:12.337090Z"
    },
    "papermill": {
     "duration": 0.052636,
     "end_time": "2021-02-07T00:11:12.337804",
     "exception": false,
     "start_time": "2021-02-07T00:11:12.285168",
     "status": "completed"
    },
    "tags": []
   },
   "outputs": [],
   "source": [
    "#hide\n",
    "t = everydaycases.stack()"
   ]
  },
  {
   "cell_type": "code",
   "execution_count": 22,
   "id": "premier-sleeve",
   "metadata": {
    "execution": {
     "iopub.execute_input": "2021-02-07T00:11:12.423775Z",
     "iopub.status.busy": "2021-02-07T00:11:12.423087Z",
     "iopub.status.idle": "2021-02-07T00:11:12.433267Z",
     "shell.execute_reply": "2021-02-07T00:11:12.432132Z"
    },
    "papermill": {
     "duration": 0.056966,
     "end_time": "2021-02-07T00:11:12.434538",
     "exception": false,
     "start_time": "2021-02-07T00:11:12.377572",
     "status": "completed"
    },
    "tags": []
   },
   "outputs": [],
   "source": [
    "#hide\n",
    "g = t.reset_index(['Country/Region'])"
   ]
  },
  {
   "cell_type": "code",
   "execution_count": 23,
   "id": "distributed-pittsburgh",
   "metadata": {
    "execution": {
     "iopub.execute_input": "2021-02-07T00:11:12.534308Z",
     "iopub.status.busy": "2021-02-07T00:11:12.533613Z",
     "iopub.status.idle": "2021-02-07T00:11:12.536290Z",
     "shell.execute_reply": "2021-02-07T00:11:12.535583Z"
    },
    "papermill": {
     "duration": 0.052618,
     "end_time": "2021-02-07T00:11:12.536439",
     "exception": false,
     "start_time": "2021-02-07T00:11:12.483821",
     "status": "completed"
    },
    "tags": []
   },
   "outputs": [],
   "source": [
    "#hide\n",
    "g.index.name = 'date'"
   ]
  },
  {
   "cell_type": "code",
   "execution_count": 24,
   "id": "naked-donor",
   "metadata": {
    "execution": {
     "iopub.execute_input": "2021-02-07T00:11:12.625172Z",
     "iopub.status.busy": "2021-02-07T00:11:12.624484Z",
     "iopub.status.idle": "2021-02-07T00:11:12.626596Z",
     "shell.execute_reply": "2021-02-07T00:11:12.627387Z"
    },
    "papermill": {
     "duration": 0.048241,
     "end_time": "2021-02-07T00:11:12.627567",
     "exception": false,
     "start_time": "2021-02-07T00:11:12.579326",
     "status": "completed"
    },
    "tags": []
   },
   "outputs": [],
   "source": [
    "# #hide\n",
    "# g = g.reset_index(['date'])"
   ]
  },
  {
   "cell_type": "code",
   "execution_count": 25,
   "id": "incomplete-mustang",
   "metadata": {
    "execution": {
     "iopub.execute_input": "2021-02-07T00:11:12.715501Z",
     "iopub.status.busy": "2021-02-07T00:11:12.714796Z",
     "iopub.status.idle": "2021-02-07T00:11:12.717310Z",
     "shell.execute_reply": "2021-02-07T00:11:12.716757Z"
    },
    "papermill": {
     "duration": 0.047133,
     "end_time": "2021-02-07T00:11:12.717455",
     "exception": false,
     "start_time": "2021-02-07T00:11:12.670322",
     "status": "completed"
    },
    "tags": []
   },
   "outputs": [],
   "source": [
    "#hide\n",
    "# g.head()"
   ]
  },
  {
   "cell_type": "code",
   "execution_count": 26,
   "id": "specific-kruger",
   "metadata": {
    "execution": {
     "iopub.execute_input": "2021-02-07T00:11:12.811130Z",
     "iopub.status.busy": "2021-02-07T00:11:12.810014Z",
     "iopub.status.idle": "2021-02-07T00:11:12.814449Z",
     "shell.execute_reply": "2021-02-07T00:11:12.813513Z"
    },
    "papermill": {
     "duration": 0.054791,
     "end_time": "2021-02-07T00:11:12.814737",
     "exception": false,
     "start_time": "2021-02-07T00:11:12.759946",
     "status": "completed"
    },
    "tags": []
   },
   "outputs": [],
   "source": [
    "#hide\n",
    "# g.columns = ['date','country','cases']"
   ]
  },
  {
   "cell_type": "code",
   "execution_count": 27,
   "id": "tender-conversion",
   "metadata": {
    "execution": {
     "iopub.execute_input": "2021-02-07T00:11:12.939649Z",
     "iopub.status.busy": "2021-02-07T00:11:12.938974Z",
     "iopub.status.idle": "2021-02-07T00:11:12.941454Z",
     "shell.execute_reply": "2021-02-07T00:11:12.940786Z"
    },
    "papermill": {
     "duration": 0.056958,
     "end_time": "2021-02-07T00:11:12.941605",
     "exception": false,
     "start_time": "2021-02-07T00:11:12.884647",
     "status": "completed"
    },
    "tags": []
   },
   "outputs": [],
   "source": [
    "#hide\n",
    "# g['continent'] = g.country"
   ]
  },
  {
   "cell_type": "code",
   "execution_count": 28,
   "id": "substantial-wilderness",
   "metadata": {
    "execution": {
     "iopub.execute_input": "2021-02-07T00:11:13.028428Z",
     "iopub.status.busy": "2021-02-07T00:11:13.027724Z",
     "iopub.status.idle": "2021-02-07T00:11:13.029791Z",
     "shell.execute_reply": "2021-02-07T00:11:13.030341Z"
    },
    "papermill": {
     "duration": 0.047424,
     "end_time": "2021-02-07T00:11:13.030510",
     "exception": false,
     "start_time": "2021-02-07T00:11:12.983086",
     "status": "completed"
    },
    "tags": []
   },
   "outputs": [],
   "source": [
    "#hide\n",
    "# cols = list(g.columns.values)"
   ]
  },
  {
   "cell_type": "code",
   "execution_count": 29,
   "id": "solved-farming",
   "metadata": {
    "execution": {
     "iopub.execute_input": "2021-02-07T00:11:13.119731Z",
     "iopub.status.busy": "2021-02-07T00:11:13.119016Z",
     "iopub.status.idle": "2021-02-07T00:11:13.120917Z",
     "shell.execute_reply": "2021-02-07T00:11:13.121532Z"
    },
    "papermill": {
     "duration": 0.049488,
     "end_time": "2021-02-07T00:11:13.121693",
     "exception": false,
     "start_time": "2021-02-07T00:11:13.072205",
     "status": "completed"
    },
    "tags": []
   },
   "outputs": [],
   "source": [
    "#hide\n",
    "# cols.insert(0, cols.pop())"
   ]
  },
  {
   "cell_type": "code",
   "execution_count": 30,
   "id": "executed-adoption",
   "metadata": {
    "execution": {
     "iopub.execute_input": "2021-02-07T00:11:13.208614Z",
     "iopub.status.busy": "2021-02-07T00:11:13.207928Z",
     "iopub.status.idle": "2021-02-07T00:11:13.209963Z",
     "shell.execute_reply": "2021-02-07T00:11:13.210580Z"
    },
    "papermill": {
     "duration": 0.048166,
     "end_time": "2021-02-07T00:11:13.210764",
     "exception": false,
     "start_time": "2021-02-07T00:11:13.162598",
     "status": "completed"
    },
    "tags": []
   },
   "outputs": [],
   "source": [
    "#hide\n",
    "# g = g[cols]"
   ]
  },
  {
   "cell_type": "code",
   "execution_count": 31,
   "id": "subject-dublin",
   "metadata": {
    "execution": {
     "iopub.execute_input": "2021-02-07T00:11:13.297172Z",
     "iopub.status.busy": "2021-02-07T00:11:13.296485Z",
     "iopub.status.idle": "2021-02-07T00:11:13.298990Z",
     "shell.execute_reply": "2021-02-07T00:11:13.298343Z"
    },
    "papermill": {
     "duration": 0.046938,
     "end_time": "2021-02-07T00:11:13.299134",
     "exception": false,
     "start_time": "2021-02-07T00:11:13.252196",
     "status": "completed"
    },
    "tags": []
   },
   "outputs": [],
   "source": [
    "#hide\n",
    "# g['continent'] = g['continent'].map(mapping['map.continent'])"
   ]
  },
  {
   "cell_type": "code",
   "execution_count": 32,
   "id": "freelance-scout",
   "metadata": {
    "execution": {
     "iopub.execute_input": "2021-02-07T00:11:13.387732Z",
     "iopub.status.busy": "2021-02-07T00:11:13.387040Z",
     "iopub.status.idle": "2021-02-07T00:11:13.389451Z",
     "shell.execute_reply": "2021-02-07T00:11:13.388827Z"
    },
    "papermill": {
     "duration": 0.048452,
     "end_time": "2021-02-07T00:11:13.389597",
     "exception": false,
     "start_time": "2021-02-07T00:11:13.341145",
     "status": "completed"
    },
    "tags": []
   },
   "outputs": [],
   "source": [
    "#hide\n",
    "# g.head()"
   ]
  },
  {
   "cell_type": "code",
   "execution_count": 33,
   "id": "limited-engine",
   "metadata": {
    "execution": {
     "iopub.execute_input": "2021-02-07T00:11:13.492644Z",
     "iopub.status.busy": "2021-02-07T00:11:13.491961Z",
     "iopub.status.idle": "2021-02-07T00:11:13.493790Z",
     "shell.execute_reply": "2021-02-07T00:11:13.494344Z"
    },
    "papermill": {
     "duration": 0.056537,
     "end_time": "2021-02-07T00:11:13.494508",
     "exception": false,
     "start_time": "2021-02-07T00:11:13.437971",
     "status": "completed"
    },
    "tags": []
   },
   "outputs": [],
   "source": [
    "# hide\n",
    "# g['date'] = g['date'].astype('datetime64[ns]')"
   ]
  },
  {
   "cell_type": "code",
   "execution_count": 34,
   "id": "sophisticated-supervisor",
   "metadata": {
    "execution": {
     "iopub.execute_input": "2021-02-07T00:11:13.601181Z",
     "iopub.status.busy": "2021-02-07T00:11:13.599895Z",
     "iopub.status.idle": "2021-02-07T00:11:13.602039Z",
     "shell.execute_reply": "2021-02-07T00:11:13.602905Z"
    },
    "papermill": {
     "duration": 0.059095,
     "end_time": "2021-02-07T00:11:13.603078",
     "exception": false,
     "start_time": "2021-02-07T00:11:13.543983",
     "status": "completed"
    },
    "tags": []
   },
   "outputs": [],
   "source": [
    "#hide\n",
    "# g['date'] = g.date.dt.dayofyear"
   ]
  },
  {
   "cell_type": "code",
   "execution_count": 35,
   "id": "inside-dubai",
   "metadata": {
    "execution": {
     "iopub.execute_input": "2021-02-07T00:11:13.694130Z",
     "iopub.status.busy": "2021-02-07T00:11:13.693459Z",
     "iopub.status.idle": "2021-02-07T00:11:13.696236Z",
     "shell.execute_reply": "2021-02-07T00:11:13.695567Z"
    },
    "papermill": {
     "duration": 0.046843,
     "end_time": "2021-02-07T00:11:13.696373",
     "exception": false,
     "start_time": "2021-02-07T00:11:13.649530",
     "status": "completed"
    },
    "tags": []
   },
   "outputs": [],
   "source": [
    "#hide\n",
    "# g = g.rename(columns= {'continent':'group','country':'name','cases':'value'})"
   ]
  },
  {
   "cell_type": "code",
   "execution_count": 36,
   "id": "fleet-motorcycle",
   "metadata": {
    "execution": {
     "iopub.execute_input": "2021-02-07T00:11:13.793489Z",
     "iopub.status.busy": "2021-02-07T00:11:13.792737Z",
     "iopub.status.idle": "2021-02-07T00:11:13.795407Z",
     "shell.execute_reply": "2021-02-07T00:11:13.794790Z"
    },
    "papermill": {
     "duration": 0.048023,
     "end_time": "2021-02-07T00:11:13.795557",
     "exception": false,
     "start_time": "2021-02-07T00:11:13.747534",
     "status": "completed"
    },
    "tags": []
   },
   "outputs": [],
   "source": [
    "#hide\n",
    "# cols = ['name','group','day','value']"
   ]
  },
  {
   "cell_type": "code",
   "execution_count": 37,
   "id": "continued-sleeping",
   "metadata": {
    "execution": {
     "iopub.execute_input": "2021-02-07T00:11:13.885212Z",
     "iopub.status.busy": "2021-02-07T00:11:13.884464Z",
     "iopub.status.idle": "2021-02-07T00:11:13.886672Z",
     "shell.execute_reply": "2021-02-07T00:11:13.887256Z"
    },
    "papermill": {
     "duration": 0.050976,
     "end_time": "2021-02-07T00:11:13.887460",
     "exception": false,
     "start_time": "2021-02-07T00:11:13.836484",
     "status": "completed"
    },
    "tags": []
   },
   "outputs": [],
   "source": [
    "#hide\n",
    "# g.rename(columns= {'date':'day'},inplace = True)"
   ]
  },
  {
   "cell_type": "code",
   "execution_count": 38,
   "id": "major-fight",
   "metadata": {
    "execution": {
     "iopub.execute_input": "2021-02-07T00:11:13.975770Z",
     "iopub.status.busy": "2021-02-07T00:11:13.974997Z",
     "iopub.status.idle": "2021-02-07T00:11:13.977427Z",
     "shell.execute_reply": "2021-02-07T00:11:13.978087Z"
    },
    "papermill": {
     "duration": 0.049383,
     "end_time": "2021-02-07T00:11:13.978246",
     "exception": false,
     "start_time": "2021-02-07T00:11:13.928863",
     "status": "completed"
    },
    "tags": []
   },
   "outputs": [],
   "source": [
    "#hide\n",
    "# g = g[cols]"
   ]
  },
  {
   "cell_type": "code",
   "execution_count": 39,
   "id": "structured-mobile",
   "metadata": {
    "execution": {
     "iopub.execute_input": "2021-02-07T00:11:14.063574Z",
     "iopub.status.busy": "2021-02-07T00:11:14.062845Z",
     "iopub.status.idle": "2021-02-07T00:11:14.065554Z",
     "shell.execute_reply": "2021-02-07T00:11:14.066411Z"
    },
    "papermill": {
     "duration": 0.047119,
     "end_time": "2021-02-07T00:11:14.066581",
     "exception": false,
     "start_time": "2021-02-07T00:11:14.019462",
     "status": "completed"
    },
    "tags": []
   },
   "outputs": [],
   "source": [
    "# #hide\n",
    "# g = g[g.group.notna()]"
   ]
  },
  {
   "cell_type": "code",
   "execution_count": 40,
   "id": "determined-closing",
   "metadata": {
    "execution": {
     "iopub.execute_input": "2021-02-07T00:11:14.162521Z",
     "iopub.status.busy": "2021-02-07T00:11:14.161827Z",
     "iopub.status.idle": "2021-02-07T00:11:14.165063Z",
     "shell.execute_reply": "2021-02-07T00:11:14.164336Z"
    },
    "papermill": {
     "duration": 0.04966,
     "end_time": "2021-02-07T00:11:14.165213",
     "exception": false,
     "start_time": "2021-02-07T00:11:14.115553",
     "status": "completed"
    },
    "tags": []
   },
   "outputs": [],
   "source": [
    "# #hide\n",
    "# colors = dict(zip(\n",
    "#     [\"Oceania\", \"Europe\", \"Asia\", \"South America\", \"Middle East\", \"North America\", \"Africa\"],\n",
    "#     [\"#adb0ff\", \"#ffb3ff\", \"#90d595\", \"#e48381\", \"#aafbff\", \"#f7bb5f\", \"#eafb50\"]\n",
    "# ))\n",
    "# group_lk = g.set_index('name')['group'].to_dict()"
   ]
  },
  {
   "cell_type": "code",
   "execution_count": null,
   "id": "gross-drinking",
   "metadata": {
    "papermill": {
     "duration": 0.042168,
     "end_time": "2021-02-07T00:11:14.253491",
     "exception": false,
     "start_time": "2021-02-07T00:11:14.211323",
     "status": "completed"
    },
    "tags": []
   },
   "outputs": [],
   "source": []
  },
  {
   "cell_type": "code",
   "execution_count": 41,
   "id": "subject-macintosh",
   "metadata": {
    "execution": {
     "iopub.execute_input": "2021-02-07T00:11:14.345208Z",
     "iopub.status.busy": "2021-02-07T00:11:14.344477Z",
     "iopub.status.idle": "2021-02-07T00:11:14.346051Z",
     "shell.execute_reply": "2021-02-07T00:11:14.346743Z"
    },
    "papermill": {
     "duration": 0.05053,
     "end_time": "2021-02-07T00:11:14.346960",
     "exception": false,
     "start_time": "2021-02-07T00:11:14.296430",
     "status": "completed"
    },
    "tags": []
   },
   "outputs": [],
   "source": [
    "# #hide\n",
    "# fig, ax = plt.subplots(figsize=(15, 8))\n",
    "\n",
    "# def draw_barchart(current_day):\n",
    "#     dff = g[g['day'].eq(current_day)].sort_values(by='value', ascending=True).tail(10)\n",
    "#     ax.clear()\n",
    "#     ax.barh(dff['name'], dff['value'], color=[colors[group_lk[x]] for x in dff['name']])\n",
    "#     dx = dff['value'].max() / 200\n",
    "    \n",
    "#     for i, (value, name) in enumerate(zip(dff['value'], dff['name'])):\n",
    "#         ax.text(value-dx, i,     name,           size=14, weight=600, ha='right', va='bottom')\n",
    "#         ax.text(value-dx, i-.25, group_lk[name], size=10, color='#444444', ha='right', va='baseline')\n",
    "#         ax.text(value+dx, i,     f'{value:,.0f}',  size=14, ha='left',  va='center')\n",
    "#     ax.text(1, 0.4, current_day, transform=ax.transAxes, color='#777777', size=46, ha='right', weight=800)\n",
    "#     ax.text(0, 1.06, 'Population (thousands)', transform=ax.transAxes, size=12, color='#777777')\n",
    "#     ax.xaxis.set_major_formatter(ticker.StrMethodFormatter('{x:,.0f}'))\n",
    "#     ax.xaxis.set_ticks_position('top')\n",
    "#     ax.tick_params(axis='x', colors='#777777', labelsize=12)\n",
    "#     ax.set_yticks([])\n",
    "#     ax.margins(0, 0.01)\n",
    "#     ax.grid(which='major', axis='x', linestyle='-')\n",
    "#     ax.set_axisbelow(True)\n",
    "    \n",
    "#     ax.text(0, 1.15, 'Coronavirus',\n",
    "#             transform=ax.transAxes, size=24, weight=600, ha='left', va='top')\n",
    "# #     ax.text(1, 0, 'by @pratapvardhan; credit @jburnmurdoch', transform=ax.transAxes, color='#777777', ha='right',\n",
    "# #             bbox=dict(facecolor='white', alpha=0.8, edgecolor='white'))\n",
    "#     plt.box(False)"
   ]
  },
  {
   "cell_type": "code",
   "execution_count": 42,
   "id": "sexual-wages",
   "metadata": {
    "execution": {
     "iopub.execute_input": "2021-02-07T00:11:14.437685Z",
     "iopub.status.busy": "2021-02-07T00:11:14.436983Z",
     "iopub.status.idle": "2021-02-07T00:11:14.438933Z",
     "shell.execute_reply": "2021-02-07T00:11:14.439627Z"
    },
    "papermill": {
     "duration": 0.049533,
     "end_time": "2021-02-07T00:11:14.439788",
     "exception": false,
     "start_time": "2021-02-07T00:11:14.390255",
     "status": "completed"
    },
    "tags": []
   },
   "outputs": [],
   "source": [
    "# #hide_input\n",
    "# fig, ax = plt.subplots(figsize=(15, 8))\n",
    "# animator = animation.FuncAnimation(fig, draw_barchart, frames=range(g.day.values.min(), g.day.values.max()))\n",
    "# HTML(animator.to_jshtml())\n",
    "# # or use animator.to_html5_video() or animator.save() "
   ]
  },
  {
   "cell_type": "code",
   "execution_count": null,
   "id": "australian-container",
   "metadata": {
    "papermill": {
     "duration": 0.042093,
     "end_time": "2021-02-07T00:11:14.524474",
     "exception": false,
     "start_time": "2021-02-07T00:11:14.482381",
     "status": "completed"
    },
    "tags": []
   },
   "outputs": [],
   "source": []
  },
  {
   "cell_type": "code",
   "execution_count": null,
   "id": "mediterranean-pontiac",
   "metadata": {
    "papermill": {
     "duration": 0.039616,
     "end_time": "2021-02-07T00:11:14.603900",
     "exception": false,
     "start_time": "2021-02-07T00:11:14.564284",
     "status": "completed"
    },
    "tags": []
   },
   "outputs": [],
   "source": []
  },
  {
   "cell_type": "code",
   "execution_count": null,
   "id": "aging-legislature",
   "metadata": {
    "papermill": {
     "duration": 0.040281,
     "end_time": "2021-02-07T00:11:14.685145",
     "exception": false,
     "start_time": "2021-02-07T00:11:14.644864",
     "status": "completed"
    },
    "tags": []
   },
   "outputs": [],
   "source": []
  }
 ],
 "metadata": {
  "kernelspec": {
   "display_name": "Python 3",
   "language": "python",
   "name": "python3"
  },
  "language_info": {
   "codemirror_mode": {
    "name": "ipython",
    "version": 3
   },
   "file_extension": ".py",
   "mimetype": "text/x-python",
   "name": "python",
   "nbconvert_exporter": "python",
   "pygments_lexer": "ipython3",
   "version": "3.6.12"
  },
  "papermill": {
   "duration": 8.087525,
   "end_time": "2021-02-07T00:11:15.135915",
   "environment_variables": {},
   "exception": null,
   "input_path": "2020-03-21-covid19exp.ipynb",
   "output_path": "2020-03-21-covid19exp.ipynb",
   "parameters": {},
   "start_time": "2021-02-07T00:11:07.048390",
   "version": "2.0.0"
  }
 },
 "nbformat": 4,
 "nbformat_minor": 5
}