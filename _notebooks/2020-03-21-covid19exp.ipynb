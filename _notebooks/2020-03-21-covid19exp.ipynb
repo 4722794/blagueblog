{
 "cells": [
  {
   "cell_type": "markdown",
   "id": "muslim-click",
   "metadata": {
    "papermill": {
     "duration": 0.034199,
     "end_time": "2022-05-12T12:16:12.452607",
     "exception": false,
     "start_time": "2022-05-12T12:16:12.418408",
     "status": "completed"
    },
    "tags": []
   },
   "source": [
    "# COVID-19 Case Race\n",
    "> A race chart to see rising cases around the world\n",
    "\n",
    "- author: Hargun Oberoi\n",
    "- image: images/covid-overview.png\n",
    "- hide: false\n",
    "- badges: false"
   ]
  },
  {
   "cell_type": "code",
   "execution_count": 1,
   "id": "proof-material",
   "metadata": {
    "execution": {
     "iopub.execute_input": "2022-05-12T12:16:12.525279Z",
     "iopub.status.busy": "2022-05-12T12:16:12.524743Z",
     "iopub.status.idle": "2022-05-12T12:16:12.828245Z",
     "shell.execute_reply": "2022-05-12T12:16:12.828667Z"
    },
    "papermill": {
     "duration": 0.343044,
     "end_time": "2022-05-12T12:16:12.828825",
     "exception": false,
     "start_time": "2022-05-12T12:16:12.485781",
     "status": "completed"
    },
    "tags": []
   },
   "outputs": [],
   "source": [
    "#hide\n",
    "import numpy as np\n",
    "import pandas as pd\n",
    "from jinja2 import Template\n",
    "from IPython.display import HTML"
   ]
  },
  {
   "cell_type": "code",
   "execution_count": 2,
   "id": "developed-terminology",
   "metadata": {
    "execution": {
     "iopub.execute_input": "2022-05-12T12:16:12.894820Z",
     "iopub.status.busy": "2022-05-12T12:16:12.894294Z",
     "iopub.status.idle": "2022-05-12T12:16:12.897256Z",
     "shell.execute_reply": "2022-05-12T12:16:12.897649Z"
    },
    "papermill": {
     "duration": 0.038239,
     "end_time": "2022-05-12T12:16:12.897772",
     "exception": false,
     "start_time": "2022-05-12T12:16:12.859533",
     "status": "completed"
    },
    "tags": []
   },
   "outputs": [],
   "source": [
    "#hide\n",
    "\n",
    "# FETCH\n",
    "base_url = 'https://raw.githubusercontent.com/pratapvardhan/notebooks/master/covid19/'\n",
    "paths = {\n",
    "    'mapping': base_url + 'mapping_countries.csv',\n",
    "    'overview': base_url + 'overview.tpl'\n",
    "}"
   ]
  },
  {
   "cell_type": "code",
   "execution_count": 3,
   "id": "dynamic-saver",
   "metadata": {
    "execution": {
     "iopub.execute_input": "2022-05-12T12:16:12.967307Z",
     "iopub.status.busy": "2022-05-12T12:16:12.966098Z",
     "iopub.status.idle": "2022-05-12T12:16:12.970047Z",
     "shell.execute_reply": "2022-05-12T12:16:12.969634Z"
    },
    "papermill": {
     "duration": 0.041892,
     "end_time": "2022-05-12T12:16:12.970148",
     "exception": false,
     "start_time": "2022-05-12T12:16:12.928256",
     "status": "completed"
    },
    "tags": []
   },
   "outputs": [
    {
     "data": {
      "text/plain": [
       "'https://raw.githubusercontent.com/pratapvardhan/notebooks/master/covid19/mapping_countries.csv'"
      ]
     },
     "execution_count": 3,
     "metadata": {},
     "output_type": "execute_result"
    }
   ],
   "source": [
    "#hide\n",
    "paths['mapping']"
   ]
  },
  {
   "cell_type": "code",
   "execution_count": 4,
   "id": "urban-software",
   "metadata": {
    "execution": {
     "iopub.execute_input": "2022-05-12T12:16:13.036498Z",
     "iopub.status.busy": "2022-05-12T12:16:13.035995Z",
     "iopub.status.idle": "2022-05-12T12:16:13.038971Z",
     "shell.execute_reply": "2022-05-12T12:16:13.039353Z"
    },
    "papermill": {
     "duration": 0.038379,
     "end_time": "2022-05-12T12:16:13.039475",
     "exception": false,
     "start_time": "2022-05-12T12:16:13.001096",
     "status": "completed"
    },
    "tags": []
   },
   "outputs": [],
   "source": [
    "#hide\n",
    "def get_mappings(url):\n",
    "    df = pd.read_csv(url)\n",
    "    return {\n",
    "        'df': df,\n",
    "        'replace.country': dict(df.dropna(subset=['Name']).set_index('Country')['Name']),\n",
    "        'map.continent': dict(df.set_index('Name')['Continent'])\n",
    "    }"
   ]
  },
  {
   "cell_type": "code",
   "execution_count": 5,
   "id": "intimate-machinery",
   "metadata": {
    "execution": {
     "iopub.execute_input": "2022-05-12T12:16:13.105483Z",
     "iopub.status.busy": "2022-05-12T12:16:13.104968Z",
     "iopub.status.idle": "2022-05-12T12:16:13.129592Z",
     "shell.execute_reply": "2022-05-12T12:16:13.129998Z"
    },
    "papermill": {
     "duration": 0.05986,
     "end_time": "2022-05-12T12:16:13.130115",
     "exception": false,
     "start_time": "2022-05-12T12:16:13.070255",
     "status": "completed"
    },
    "tags": []
   },
   "outputs": [],
   "source": [
    "#hide\n",
    "mapping = get_mappings(paths['mapping'])"
   ]
  },
  {
   "cell_type": "code",
   "execution_count": 6,
   "id": "certified-tactics",
   "metadata": {
    "execution": {
     "iopub.execute_input": "2022-05-12T12:16:13.196339Z",
     "iopub.status.busy": "2022-05-12T12:16:13.195829Z",
     "iopub.status.idle": "2022-05-12T12:16:13.197876Z",
     "shell.execute_reply": "2022-05-12T12:16:13.197480Z"
    },
    "papermill": {
     "duration": 0.037064,
     "end_time": "2022-05-12T12:16:13.197979",
     "exception": false,
     "start_time": "2022-05-12T12:16:13.160915",
     "status": "completed"
    },
    "tags": []
   },
   "outputs": [],
   "source": [
    "#hide\n",
    "def get_template(path):\n",
    "    from urllib.parse import urlparse\n",
    "    if bool(urlparse(path).netloc):\n",
    "        from urllib.request import urlopen\n",
    "        return urlopen(path).read().decode('utf8')\n",
    "    return open(path).read()"
   ]
  },
  {
   "cell_type": "code",
   "execution_count": 7,
   "id": "realistic-blast",
   "metadata": {
    "execution": {
     "iopub.execute_input": "2022-05-12T12:16:13.263425Z",
     "iopub.status.busy": "2022-05-12T12:16:13.262914Z",
     "iopub.status.idle": "2022-05-12T12:16:13.265868Z",
     "shell.execute_reply": "2022-05-12T12:16:13.266255Z"
    },
    "papermill": {
     "duration": 0.037721,
     "end_time": "2022-05-12T12:16:13.266375",
     "exception": false,
     "start_time": "2022-05-12T12:16:13.228654",
     "status": "completed"
    },
    "tags": []
   },
   "outputs": [],
   "source": [
    "#hide\n",
    "def get_frame(name):\n",
    "    url = (\n",
    "        'https://raw.githubusercontent.com/CSSEGISandData/COVID-19/master/csse_covid_19_data/'\n",
    "        f'csse_covid_19_time_series/time_series_covid19_{name}_global.csv')\n",
    "    df = pd.read_csv(url)\n",
    "    # rename countries\n",
    "    df['Country/Region'] = df['Country/Region'].replace(mapping['replace.country'])\n",
    "    return df"
   ]
  },
  {
   "cell_type": "code",
   "execution_count": 8,
   "id": "affiliated-characterization",
   "metadata": {
    "execution": {
     "iopub.execute_input": "2022-05-12T12:16:13.333411Z",
     "iopub.status.busy": "2022-05-12T12:16:13.332889Z",
     "iopub.status.idle": "2022-05-12T12:16:13.334614Z",
     "shell.execute_reply": "2022-05-12T12:16:13.334999Z"
    },
    "papermill": {
     "duration": 0.037964,
     "end_time": "2022-05-12T12:16:13.335114",
     "exception": false,
     "start_time": "2022-05-12T12:16:13.297150",
     "status": "completed"
    },
    "tags": []
   },
   "outputs": [],
   "source": [
    "#hide\n",
    "def get_dates(df):\n",
    "    dt_cols = df.columns[~df.columns.isin(['Province/State', 'Country/Region', 'Lat', 'Long'])]\n",
    "    LAST_DATE_I = -1\n",
    "    # sometimes last column may be empty, then go backwards\n",
    "    for i in range(-1, -len(dt_cols), -1):\n",
    "        if not df[dt_cols[i]].fillna(0).eq(0).all():\n",
    "            LAST_DATE_I = i\n",
    "            break\n",
    "    return LAST_DATE_I, dt_cols"
   ]
  },
  {
   "cell_type": "code",
   "execution_count": 9,
   "id": "recent-optimization",
   "metadata": {
    "execution": {
     "iopub.execute_input": "2022-05-12T12:16:13.401120Z",
     "iopub.status.busy": "2022-05-12T12:16:13.400587Z",
     "iopub.status.idle": "2022-05-12T12:16:13.736440Z",
     "shell.execute_reply": "2022-05-12T12:16:13.736861Z"
    },
    "papermill": {
     "duration": 0.371261,
     "end_time": "2022-05-12T12:16:13.737004",
     "exception": false,
     "start_time": "2022-05-12T12:16:13.365743",
     "status": "completed"
    },
    "tags": []
   },
   "outputs": [],
   "source": [
    "#hide\n",
    "COL_REGION = 'Country/Region'\n",
    "# Confirmed, Recovered, Deaths\n",
    "df = get_frame('confirmed')\n",
    "# dft_: timeseries, dfc_: today country agg\n",
    "dft_cases = df\n",
    "dft_deaths = get_frame('deaths')\n",
    "dft_recovered = get_frame('recovered')\n",
    "LAST_DATE_I, dt_cols = get_dates(df)"
   ]
  },
  {
   "cell_type": "code",
   "execution_count": 10,
   "id": "absolute-copper",
   "metadata": {
    "execution": {
     "iopub.execute_input": "2022-05-12T12:16:13.804498Z",
     "iopub.status.busy": "2022-05-12T12:16:13.803986Z",
     "iopub.status.idle": "2022-05-12T12:16:13.806951Z",
     "shell.execute_reply": "2022-05-12T12:16:13.807340Z"
    },
    "papermill": {
     "duration": 0.039179,
     "end_time": "2022-05-12T12:16:13.807466",
     "exception": false,
     "start_time": "2022-05-12T12:16:13.768287",
     "status": "completed"
    },
    "tags": []
   },
   "outputs": [],
   "source": [
    "#hide\n",
    "LAST_DATE_I, dt_cols = get_dates(df)\n",
    "dt_today =dt_cols[LAST_DATE_I]\n",
    "# dt_5day = dt_cols[LAST_DATE_I - 5]\n",
    "dt_yday = dt_cols[LAST_DATE_I - 1]"
   ]
  },
  {
   "cell_type": "code",
   "execution_count": 11,
   "id": "restricted-sheriff",
   "metadata": {
    "execution": {
     "iopub.execute_input": "2022-05-12T12:16:13.875337Z",
     "iopub.status.busy": "2022-05-12T12:16:13.874846Z",
     "iopub.status.idle": "2022-05-12T12:16:13.880118Z",
     "shell.execute_reply": "2022-05-12T12:16:13.880493Z"
    },
    "papermill": {
     "duration": 0.042349,
     "end_time": "2022-05-12T12:16:13.880612",
     "exception": false,
     "start_time": "2022-05-12T12:16:13.838263",
     "status": "completed"
    },
    "tags": []
   },
   "outputs": [],
   "source": [
    "#hide\n",
    "dfc_cases = dft_cases.groupby(COL_REGION)[dt_today].sum()\n",
    "dfc_deaths = dft_deaths.groupby(COL_REGION)[dt_today].sum()\n",
    "# dfp_cases = dft_cases.groupby(COL_REGION)[dt_5day].sum()\n",
    "# dfp_deaths = dft_deaths.groupby(COL_REGION)[dt_5day].sum()\n",
    "dfp_cases = dft_cases.groupby(COL_REGION)[dt_yday].sum()\n",
    "dfp_deaths = dft_deaths.groupby(COL_REGION)[dt_yday].sum()"
   ]
  },
  {
   "cell_type": "code",
   "execution_count": 12,
   "id": "deluxe-hepatitis",
   "metadata": {
    "execution": {
     "iopub.execute_input": "2022-05-12T12:16:13.947146Z",
     "iopub.status.busy": "2022-05-12T12:16:13.946651Z",
     "iopub.status.idle": "2022-05-12T12:16:13.950827Z",
     "shell.execute_reply": "2022-05-12T12:16:13.950413Z"
    },
    "papermill": {
     "duration": 0.039512,
     "end_time": "2022-05-12T12:16:13.950926",
     "exception": false,
     "start_time": "2022-05-12T12:16:13.911414",
     "status": "completed"
    },
    "tags": []
   },
   "outputs": [],
   "source": [
    "#hide\n",
    "df_table = (pd.DataFrame(dict(Cases = dfc_cases, Deaths = dfc_deaths, PCases = dfp_cases, PDeaths = dfp_deaths))\n",
    "            .sort_values(by = ['Cases','Deaths'], ascending = [False, False])\n",
    "            .reset_index())"
   ]
  },
  {
   "cell_type": "code",
   "execution_count": 13,
   "id": "educational-chancellor",
   "metadata": {
    "execution": {
     "iopub.execute_input": "2022-05-12T12:16:14.027971Z",
     "iopub.status.busy": "2022-05-12T12:16:14.027470Z",
     "iopub.status.idle": "2022-05-12T12:16:14.034795Z",
     "shell.execute_reply": "2022-05-12T12:16:14.034381Z"
    },
    "papermill": {
     "duration": 0.053344,
     "end_time": "2022-05-12T12:16:14.034895",
     "exception": false,
     "start_time": "2022-05-12T12:16:13.981551",
     "status": "completed"
    },
    "tags": []
   },
   "outputs": [
    {
     "data": {
      "text/html": [
       "<div>\n",
       "<style scoped>\n",
       "    .dataframe tbody tr th:only-of-type {\n",
       "        vertical-align: middle;\n",
       "    }\n",
       "\n",
       "    .dataframe tbody tr th {\n",
       "        vertical-align: top;\n",
       "    }\n",
       "\n",
       "    .dataframe thead th {\n",
       "        text-align: right;\n",
       "    }\n",
       "</style>\n",
       "<table border=\"1\" class=\"dataframe\">\n",
       "  <thead>\n",
       "    <tr style=\"text-align: right;\">\n",
       "      <th></th>\n",
       "      <th>Country/Region</th>\n",
       "      <th>Cases</th>\n",
       "      <th>Deaths</th>\n",
       "      <th>PCases</th>\n",
       "      <th>PDeaths</th>\n",
       "      <th>Cases (+)</th>\n",
       "      <th>Deaths (+)</th>\n",
       "      <th>Fatality Rate</th>\n",
       "      <th>Continent</th>\n",
       "    </tr>\n",
       "  </thead>\n",
       "  <tbody>\n",
       "    <tr>\n",
       "      <th>0</th>\n",
       "      <td>US</td>\n",
       "      <td>82223174</td>\n",
       "      <td>998997</td>\n",
       "      <td>82059839</td>\n",
       "      <td>998048</td>\n",
       "      <td>163335</td>\n",
       "      <td>949</td>\n",
       "      <td>1.21</td>\n",
       "      <td>North America</td>\n",
       "    </tr>\n",
       "    <tr>\n",
       "      <th>1</th>\n",
       "      <td>India</td>\n",
       "      <td>43113413</td>\n",
       "      <td>524181</td>\n",
       "      <td>43110586</td>\n",
       "      <td>524157</td>\n",
       "      <td>2827</td>\n",
       "      <td>24</td>\n",
       "      <td>1.22</td>\n",
       "      <td>Asia</td>\n",
       "    </tr>\n",
       "    <tr>\n",
       "      <th>2</th>\n",
       "      <td>Brazil</td>\n",
       "      <td>30617786</td>\n",
       "      <td>664750</td>\n",
       "      <td>30594388</td>\n",
       "      <td>664624</td>\n",
       "      <td>23398</td>\n",
       "      <td>126</td>\n",
       "      <td>2.17</td>\n",
       "      <td>South America</td>\n",
       "    </tr>\n",
       "    <tr>\n",
       "      <th>3</th>\n",
       "      <td>France</td>\n",
       "      <td>29252875</td>\n",
       "      <td>148112</td>\n",
       "      <td>29212276</td>\n",
       "      <td>148016</td>\n",
       "      <td>40599</td>\n",
       "      <td>96</td>\n",
       "      <td>0.51</td>\n",
       "      <td>Europe</td>\n",
       "    </tr>\n",
       "    <tr>\n",
       "      <th>4</th>\n",
       "      <td>Germany</td>\n",
       "      <td>25592839</td>\n",
       "      <td>137184</td>\n",
       "      <td>25503878</td>\n",
       "      <td>136987</td>\n",
       "      <td>88961</td>\n",
       "      <td>197</td>\n",
       "      <td>0.54</td>\n",
       "      <td>Europe</td>\n",
       "    </tr>\n",
       "  </tbody>\n",
       "</table>\n",
       "</div>"
      ],
      "text/plain": [
       "  Country/Region     Cases  Deaths    PCases  PDeaths  Cases (+)  Deaths (+)  \\\n",
       "0             US  82223174  998997  82059839   998048     163335         949   \n",
       "1          India  43113413  524181  43110586   524157       2827          24   \n",
       "2         Brazil  30617786  664750  30594388   664624      23398         126   \n",
       "3         France  29252875  148112  29212276   148016      40599          96   \n",
       "4        Germany  25592839  137184  25503878   136987      88961         197   \n",
       "\n",
       "   Fatality Rate      Continent  \n",
       "0           1.21  North America  \n",
       "1           1.22           Asia  \n",
       "2           2.17  South America  \n",
       "3           0.51         Europe  \n",
       "4           0.54         Europe  "
      ]
     },
     "execution_count": 13,
     "metadata": {},
     "output_type": "execute_result"
    }
   ],
   "source": [
    "#hide\n",
    "for c in 'Cases, Deaths'.split(', '):\n",
    "    df_table[f'{c} (+)'] = (df_table[c] - df_table[f'P{c}']).clip(0)\n",
    "    #Clip ça veut dire, les chiffres negatif sont interdit\n",
    "df_table['Fatality Rate'] = (100* df_table['Deaths']/ df_table['Cases']).round(2)\n",
    "df_table['Continent'] = df_table['Country/Region'].map(mapping['map.continent'])\n",
    "df_table.head(5)"
   ]
  },
  {
   "cell_type": "code",
   "execution_count": 14,
   "id": "aboriginal-bulgaria",
   "metadata": {
    "execution": {
     "iopub.execute_input": "2022-05-12T12:16:14.101698Z",
     "iopub.status.busy": "2022-05-12T12:16:14.101196Z",
     "iopub.status.idle": "2022-05-12T12:16:14.103407Z",
     "shell.execute_reply": "2022-05-12T12:16:14.103023Z"
    },
    "papermill": {
     "duration": 0.037476,
     "end_time": "2022-05-12T12:16:14.103507",
     "exception": false,
     "start_time": "2022-05-12T12:16:14.066031",
     "status": "completed"
    },
    "tags": []
   },
   "outputs": [],
   "source": [
    "#hide\n",
    "#delete problematic countries from table\n",
    "df_table = df_table[~df_table['Country/Region'].isin(['Cape Verde', 'Cruise Ship', 'Kosovo'])]"
   ]
  },
  {
   "cell_type": "code",
   "execution_count": 15,
   "id": "fantastic-effect",
   "metadata": {
    "execution": {
     "iopub.execute_input": "2022-05-12T12:16:14.173394Z",
     "iopub.status.busy": "2022-05-12T12:16:14.172204Z",
     "iopub.status.idle": "2022-05-12T12:16:14.190471Z",
     "shell.execute_reply": "2022-05-12T12:16:14.190065Z"
    },
    "papermill": {
     "duration": 0.056098,
     "end_time": "2022-05-12T12:16:14.190576",
     "exception": false,
     "start_time": "2022-05-12T12:16:14.134478",
     "status": "completed"
    },
    "tags": []
   },
   "outputs": [
    {
     "data": {
      "text/html": [
       "<div>\n",
       "<style scoped>\n",
       "    .dataframe tbody tr th:only-of-type {\n",
       "        vertical-align: middle;\n",
       "    }\n",
       "\n",
       "    .dataframe tbody tr th {\n",
       "        vertical-align: top;\n",
       "    }\n",
       "\n",
       "    .dataframe thead th {\n",
       "        text-align: right;\n",
       "    }\n",
       "</style>\n",
       "<table border=\"1\" class=\"dataframe\">\n",
       "  <thead>\n",
       "    <tr style=\"text-align: right;\">\n",
       "      <th></th>\n",
       "      <th>Country/Region</th>\n",
       "      <th>Cases</th>\n",
       "      <th>Deaths</th>\n",
       "      <th>PCases</th>\n",
       "      <th>PDeaths</th>\n",
       "      <th>Cases (+)</th>\n",
       "      <th>Deaths (+)</th>\n",
       "      <th>Fatality Rate</th>\n",
       "      <th>Continent</th>\n",
       "    </tr>\n",
       "  </thead>\n",
       "  <tbody>\n",
       "    <tr>\n",
       "      <th>0</th>\n",
       "      <td>US</td>\n",
       "      <td>82223174</td>\n",
       "      <td>998997</td>\n",
       "      <td>82059839</td>\n",
       "      <td>998048</td>\n",
       "      <td>163335</td>\n",
       "      <td>949</td>\n",
       "      <td>1.2</td>\n",
       "      <td>North America</td>\n",
       "    </tr>\n",
       "    <tr>\n",
       "      <th>1</th>\n",
       "      <td>India</td>\n",
       "      <td>43113413</td>\n",
       "      <td>524181</td>\n",
       "      <td>43110586</td>\n",
       "      <td>524157</td>\n",
       "      <td>2827</td>\n",
       "      <td>24</td>\n",
       "      <td>1.2</td>\n",
       "      <td>Asia</td>\n",
       "    </tr>\n",
       "    <tr>\n",
       "      <th>2</th>\n",
       "      <td>Brazil</td>\n",
       "      <td>30617786</td>\n",
       "      <td>664750</td>\n",
       "      <td>30594388</td>\n",
       "      <td>664624</td>\n",
       "      <td>23398</td>\n",
       "      <td>126</td>\n",
       "      <td>2.2</td>\n",
       "      <td>South America</td>\n",
       "    </tr>\n",
       "    <tr>\n",
       "      <th>3</th>\n",
       "      <td>France</td>\n",
       "      <td>29252875</td>\n",
       "      <td>148112</td>\n",
       "      <td>29212276</td>\n",
       "      <td>148016</td>\n",
       "      <td>40599</td>\n",
       "      <td>96</td>\n",
       "      <td>0.5</td>\n",
       "      <td>Europe</td>\n",
       "    </tr>\n",
       "    <tr>\n",
       "      <th>4</th>\n",
       "      <td>Germany</td>\n",
       "      <td>25592839</td>\n",
       "      <td>137184</td>\n",
       "      <td>25503878</td>\n",
       "      <td>136987</td>\n",
       "      <td>88961</td>\n",
       "      <td>197</td>\n",
       "      <td>0.5</td>\n",
       "      <td>Europe</td>\n",
       "    </tr>\n",
       "  </tbody>\n",
       "</table>\n",
       "</div>"
      ],
      "text/plain": [
       "  Country/Region     Cases  Deaths    PCases  PDeaths  Cases (+)  Deaths (+)  \\\n",
       "0             US  82223174  998997  82059839   998048     163335         949   \n",
       "1          India  43113413  524181  43110586   524157       2827          24   \n",
       "2         Brazil  30617786  664750  30594388   664624      23398         126   \n",
       "3         France  29252875  148112  29212276   148016      40599          96   \n",
       "4        Germany  25592839  137184  25503878   136987      88961         197   \n",
       "\n",
       "   Fatality Rate      Continent  \n",
       "0            1.2  North America  \n",
       "1            1.2           Asia  \n",
       "2            2.2  South America  \n",
       "3            0.5         Europe  \n",
       "4            0.5         Europe  "
      ]
     },
     "execution_count": 15,
     "metadata": {},
     "output_type": "execute_result"
    }
   ],
   "source": [
    "#hide\n",
    "df_table = (pd.DataFrame(dict(Cases=dfc_cases, Deaths=dfc_deaths, PCases=dfp_cases, PDeaths=dfp_deaths))\n",
    "             .sort_values(by=['Cases', 'Deaths'], ascending=[False, False])\n",
    "             .reset_index())\n",
    "df_table.rename(columns={'index': 'Country/Region'}, inplace=True)\n",
    "for c in 'Cases, Deaths'.split(', '):\n",
    "    df_table[f'{c} (+)'] = (df_table[c] - df_table[f'P{c}']).clip(0)  # DATA BUG\n",
    "df_table['Fatality Rate'] = (100 * df_table['Deaths'] / df_table['Cases']).round(1)\n",
    "df_table['Continent'] = df_table['Country/Region'].map(mapping['map.continent'])\n",
    "df_table.head(5)"
   ]
  },
  {
   "cell_type": "code",
   "execution_count": 16,
   "id": "fewer-occasion",
   "metadata": {
    "execution": {
     "iopub.execute_input": "2022-05-12T12:16:14.256083Z",
     "iopub.status.busy": "2022-05-12T12:16:14.255589Z",
     "iopub.status.idle": "2022-05-12T12:16:14.260244Z",
     "shell.execute_reply": "2022-05-12T12:16:14.259861Z"
    },
    "papermill": {
     "duration": 0.038056,
     "end_time": "2022-05-12T12:16:14.260343",
     "exception": false,
     "start_time": "2022-05-12T12:16:14.222287",
     "status": "completed"
    },
    "tags": []
   },
   "outputs": [],
   "source": [
    "#hide\n",
    "#delete problematic countries from table\n",
    "df_table = df_table[~df_table['Country/Region'].isin(['Cape Verde', 'Cruise Ship', 'Kosovo'])]"
   ]
  },
  {
   "cell_type": "code",
   "execution_count": 17,
   "id": "related-center",
   "metadata": {
    "execution": {
     "iopub.execute_input": "2022-05-12T12:16:14.339997Z",
     "iopub.status.busy": "2022-05-12T12:16:14.339494Z",
     "iopub.status.idle": "2022-05-12T12:16:14.341539Z",
     "shell.execute_reply": "2022-05-12T12:16:14.341135Z"
    },
    "papermill": {
     "duration": 0.049779,
     "end_time": "2022-05-12T12:16:14.341639",
     "exception": false,
     "start_time": "2022-05-12T12:16:14.291860",
     "status": "completed"
    },
    "tags": []
   },
   "outputs": [],
   "source": [
    "#hide\n",
    "metrics = [df_table.columns[index] for index in [1,2,5,6]]\n",
    "# s_china = df_table[df_table['Country/Region'].eq('China')][metrics].sum().add_prefix('China ')\n",
    "s_us = df_table[df_table['Country/Region'].eq('US')][metrics].sum().add_prefix('US ')\n",
    "s_eu = df_table[df_table['Continent'].eq('Europe')][metrics].sum().add_prefix('EU ')\n",
    "s_ind = df_table[df_table['Country/Region'].eq('India')][metrics].sum().add_prefix('India ')\n",
    "summary = {'updated': pd.to_datetime(dt_today), 'since': pd.to_datetime(dt_yday)}\n",
    "summary = {'updated': pd.to_datetime(dt_today), 'since': pd.to_datetime(dt_yday)}\n",
    "summary = {**summary, **df_table[metrics].sum(), **s_ind, **s_us, **s_eu}"
   ]
  },
  {
   "cell_type": "code",
   "execution_count": 18,
   "id": "engaging-syndrome",
   "metadata": {
    "execution": {
     "iopub.execute_input": "2022-05-12T12:16:14.409555Z",
     "iopub.status.busy": "2022-05-12T12:16:14.409020Z",
     "iopub.status.idle": "2022-05-12T12:16:14.425022Z",
     "shell.execute_reply": "2022-05-12T12:16:14.425408Z"
    },
    "papermill": {
     "duration": 0.052175,
     "end_time": "2022-05-12T12:16:14.425537",
     "exception": false,
     "start_time": "2022-05-12T12:16:14.373362",
     "status": "completed"
    },
    "tags": []
   },
   "outputs": [],
   "source": [
    "#hide\n",
    "dft_ct_new_cases = dft_cases.groupby(COL_REGION)[dt_cols].sum().diff(axis=1).fillna(0).astype(int)"
   ]
  },
  {
   "cell_type": "code",
   "execution_count": 19,
   "id": "neutral-assignment",
   "metadata": {
    "execution": {
     "iopub.execute_input": "2022-05-12T12:16:14.494850Z",
     "iopub.status.busy": "2022-05-12T12:16:14.494055Z",
     "iopub.status.idle": "2022-05-12T12:16:14.495475Z",
     "shell.execute_reply": "2022-05-12T12:16:14.495937Z"
    },
    "papermill": {
     "duration": 0.038832,
     "end_time": "2022-05-12T12:16:14.496055",
     "exception": false,
     "start_time": "2022-05-12T12:16:14.457223",
     "status": "completed"
    },
    "tags": []
   },
   "outputs": [],
   "source": [
    "#hide\n",
    "everydaycases = dft_ct_new_cases.cumsum(axis=1)"
   ]
  },
  {
   "cell_type": "code",
   "execution_count": 20,
   "id": "parliamentary-calgary",
   "metadata": {
    "execution": {
     "iopub.execute_input": "2022-05-12T12:16:14.563828Z",
     "iopub.status.busy": "2022-05-12T12:16:14.563328Z",
     "iopub.status.idle": "2022-05-12T12:16:15.113466Z",
     "shell.execute_reply": "2022-05-12T12:16:15.112999Z"
    },
    "papermill": {
     "duration": 0.585721,
     "end_time": "2022-05-12T12:16:15.113585",
     "exception": false,
     "start_time": "2022-05-12T12:16:14.527864",
     "status": "completed"
    },
    "tags": []
   },
   "outputs": [],
   "source": [
    "#hide\n",
    "import pandas as pd\n",
    "import matplotlib.pyplot as plt\n",
    "import matplotlib.ticker as ticker\n",
    "import matplotlib.animation as animation\n",
    "from IPython.display import HTML"
   ]
  },
  {
   "cell_type": "code",
   "execution_count": 21,
   "id": "lasting-extraction",
   "metadata": {
    "execution": {
     "iopub.execute_input": "2022-05-12T12:16:15.182446Z",
     "iopub.status.busy": "2022-05-12T12:16:15.181945Z",
     "iopub.status.idle": "2022-05-12T12:16:15.187643Z",
     "shell.execute_reply": "2022-05-12T12:16:15.187255Z"
    },
    "papermill": {
     "duration": 0.042383,
     "end_time": "2022-05-12T12:16:15.187747",
     "exception": false,
     "start_time": "2022-05-12T12:16:15.145364",
     "status": "completed"
    },
    "tags": []
   },
   "outputs": [],
   "source": [
    "#hide\n",
    "t = everydaycases.stack()"
   ]
  },
  {
   "cell_type": "code",
   "execution_count": 22,
   "id": "premier-sleeve",
   "metadata": {
    "execution": {
     "iopub.execute_input": "2022-05-12T12:16:15.255252Z",
     "iopub.status.busy": "2022-05-12T12:16:15.254745Z",
     "iopub.status.idle": "2022-05-12T12:16:15.264617Z",
     "shell.execute_reply": "2022-05-12T12:16:15.264206Z"
    },
    "papermill": {
     "duration": 0.044883,
     "end_time": "2022-05-12T12:16:15.264719",
     "exception": false,
     "start_time": "2022-05-12T12:16:15.219836",
     "status": "completed"
    },
    "tags": []
   },
   "outputs": [],
   "source": [
    "#hide\n",
    "g = t.reset_index(['Country/Region'])"
   ]
  },
  {
   "cell_type": "code",
   "execution_count": 23,
   "id": "distributed-pittsburgh",
   "metadata": {
    "execution": {
     "iopub.execute_input": "2022-05-12T12:16:15.331159Z",
     "iopub.status.busy": "2022-05-12T12:16:15.330655Z",
     "iopub.status.idle": "2022-05-12T12:16:15.334091Z",
     "shell.execute_reply": "2022-05-12T12:16:15.333682Z"
    },
    "papermill": {
     "duration": 0.037928,
     "end_time": "2022-05-12T12:16:15.334198",
     "exception": false,
     "start_time": "2022-05-12T12:16:15.296270",
     "status": "completed"
    },
    "tags": []
   },
   "outputs": [],
   "source": [
    "#hide\n",
    "g.index.name = 'date'"
   ]
  },
  {
   "cell_type": "code",
   "execution_count": 24,
   "id": "naked-donor",
   "metadata": {
    "execution": {
     "iopub.execute_input": "2022-05-12T12:16:15.401387Z",
     "iopub.status.busy": "2022-05-12T12:16:15.400845Z",
     "iopub.status.idle": "2022-05-12T12:16:15.402764Z",
     "shell.execute_reply": "2022-05-12T12:16:15.402355Z"
    },
    "papermill": {
     "duration": 0.036952,
     "end_time": "2022-05-12T12:16:15.402865",
     "exception": false,
     "start_time": "2022-05-12T12:16:15.365913",
     "status": "completed"
    },
    "tags": []
   },
   "outputs": [],
   "source": [
    "# #hide\n",
    "# g = g.reset_index(['date'])"
   ]
  },
  {
   "cell_type": "code",
   "execution_count": 25,
   "id": "incomplete-mustang",
   "metadata": {
    "execution": {
     "iopub.execute_input": "2022-05-12T12:16:15.468625Z",
     "iopub.status.busy": "2022-05-12T12:16:15.468112Z",
     "iopub.status.idle": "2022-05-12T12:16:15.469784Z",
     "shell.execute_reply": "2022-05-12T12:16:15.470151Z"
    },
    "papermill": {
     "duration": 0.035794,
     "end_time": "2022-05-12T12:16:15.470262",
     "exception": false,
     "start_time": "2022-05-12T12:16:15.434468",
     "status": "completed"
    },
    "tags": []
   },
   "outputs": [],
   "source": [
    "#hide\n",
    "# g.head()"
   ]
  },
  {
   "cell_type": "code",
   "execution_count": 26,
   "id": "specific-kruger",
   "metadata": {
    "execution": {
     "iopub.execute_input": "2022-05-12T12:16:15.536801Z",
     "iopub.status.busy": "2022-05-12T12:16:15.536291Z",
     "iopub.status.idle": "2022-05-12T12:16:15.538346Z",
     "shell.execute_reply": "2022-05-12T12:16:15.537962Z"
    },
    "papermill": {
     "duration": 0.036418,
     "end_time": "2022-05-12T12:16:15.538447",
     "exception": false,
     "start_time": "2022-05-12T12:16:15.502029",
     "status": "completed"
    },
    "tags": []
   },
   "outputs": [],
   "source": [
    "#hide\n",
    "# g.columns = ['date','country','cases']"
   ]
  },
  {
   "cell_type": "code",
   "execution_count": 27,
   "id": "tender-conversion",
   "metadata": {
    "execution": {
     "iopub.execute_input": "2022-05-12T12:16:15.604512Z",
     "iopub.status.busy": "2022-05-12T12:16:15.604008Z",
     "iopub.status.idle": "2022-05-12T12:16:15.605950Z",
     "shell.execute_reply": "2022-05-12T12:16:15.605542Z"
    },
    "papermill": {
     "duration": 0.036086,
     "end_time": "2022-05-12T12:16:15.606046",
     "exception": false,
     "start_time": "2022-05-12T12:16:15.569960",
     "status": "completed"
    },
    "tags": []
   },
   "outputs": [],
   "source": [
    "#hide\n",
    "# g['continent'] = g.country"
   ]
  },
  {
   "cell_type": "code",
   "execution_count": 28,
   "id": "substantial-wilderness",
   "metadata": {
    "execution": {
     "iopub.execute_input": "2022-05-12T12:16:15.672695Z",
     "iopub.status.busy": "2022-05-12T12:16:15.672187Z",
     "iopub.status.idle": "2022-05-12T12:16:15.673742Z",
     "shell.execute_reply": "2022-05-12T12:16:15.674150Z"
    },
    "papermill": {
     "duration": 0.036523,
     "end_time": "2022-05-12T12:16:15.674261",
     "exception": false,
     "start_time": "2022-05-12T12:16:15.637738",
     "status": "completed"
    },
    "tags": []
   },
   "outputs": [],
   "source": [
    "#hide\n",
    "# cols = list(g.columns.values)"
   ]
  },
  {
   "cell_type": "code",
   "execution_count": 29,
   "id": "solved-farming",
   "metadata": {
    "execution": {
     "iopub.execute_input": "2022-05-12T12:16:15.740207Z",
     "iopub.status.busy": "2022-05-12T12:16:15.739708Z",
     "iopub.status.idle": "2022-05-12T12:16:15.741382Z",
     "shell.execute_reply": "2022-05-12T12:16:15.741767Z"
    },
    "papermill": {
     "duration": 0.036064,
     "end_time": "2022-05-12T12:16:15.741879",
     "exception": false,
     "start_time": "2022-05-12T12:16:15.705815",
     "status": "completed"
    },
    "tags": []
   },
   "outputs": [],
   "source": [
    "#hide\n",
    "# cols.insert(0, cols.pop())"
   ]
  },
  {
   "cell_type": "code",
   "execution_count": 30,
   "id": "executed-adoption",
   "metadata": {
    "execution": {
     "iopub.execute_input": "2022-05-12T12:16:15.808125Z",
     "iopub.status.busy": "2022-05-12T12:16:15.807628Z",
     "iopub.status.idle": "2022-05-12T12:16:15.809402Z",
     "shell.execute_reply": "2022-05-12T12:16:15.809766Z"
    },
    "papermill": {
     "duration": 0.036355,
     "end_time": "2022-05-12T12:16:15.809878",
     "exception": false,
     "start_time": "2022-05-12T12:16:15.773523",
     "status": "completed"
    },
    "tags": []
   },
   "outputs": [],
   "source": [
    "#hide\n",
    "# g = g[cols]"
   ]
  },
  {
   "cell_type": "code",
   "execution_count": 31,
   "id": "subject-dublin",
   "metadata": {
    "execution": {
     "iopub.execute_input": "2022-05-12T12:16:15.875614Z",
     "iopub.status.busy": "2022-05-12T12:16:15.875097Z",
     "iopub.status.idle": "2022-05-12T12:16:15.877151Z",
     "shell.execute_reply": "2022-05-12T12:16:15.876746Z"
    },
    "papermill": {
     "duration": 0.035968,
     "end_time": "2022-05-12T12:16:15.877250",
     "exception": false,
     "start_time": "2022-05-12T12:16:15.841282",
     "status": "completed"
    },
    "tags": []
   },
   "outputs": [],
   "source": [
    "#hide\n",
    "# g['continent'] = g['continent'].map(mapping['map.continent'])"
   ]
  },
  {
   "cell_type": "code",
   "execution_count": 32,
   "id": "freelance-scout",
   "metadata": {
    "execution": {
     "iopub.execute_input": "2022-05-12T12:16:15.943668Z",
     "iopub.status.busy": "2022-05-12T12:16:15.943153Z",
     "iopub.status.idle": "2022-05-12T12:16:15.945212Z",
     "shell.execute_reply": "2022-05-12T12:16:15.944773Z"
    },
    "papermill": {
     "duration": 0.036562,
     "end_time": "2022-05-12T12:16:15.945312",
     "exception": false,
     "start_time": "2022-05-12T12:16:15.908750",
     "status": "completed"
    },
    "tags": []
   },
   "outputs": [],
   "source": [
    "#hide\n",
    "# g.head()"
   ]
  },
  {
   "cell_type": "code",
   "execution_count": 33,
   "id": "limited-engine",
   "metadata": {
    "execution": {
     "iopub.execute_input": "2022-05-12T12:16:16.011649Z",
     "iopub.status.busy": "2022-05-12T12:16:16.011143Z",
     "iopub.status.idle": "2022-05-12T12:16:16.012755Z",
     "shell.execute_reply": "2022-05-12T12:16:16.013175Z"
    },
    "papermill": {
     "duration": 0.036269,
     "end_time": "2022-05-12T12:16:16.013289",
     "exception": false,
     "start_time": "2022-05-12T12:16:15.977020",
     "status": "completed"
    },
    "tags": []
   },
   "outputs": [],
   "source": [
    "# hide\n",
    "# g['date'] = g['date'].astype('datetime64[ns]')"
   ]
  },
  {
   "cell_type": "code",
   "execution_count": 34,
   "id": "sophisticated-supervisor",
   "metadata": {
    "execution": {
     "iopub.execute_input": "2022-05-12T12:16:16.080026Z",
     "iopub.status.busy": "2022-05-12T12:16:16.079511Z",
     "iopub.status.idle": "2022-05-12T12:16:16.081565Z",
     "shell.execute_reply": "2022-05-12T12:16:16.081172Z"
    },
    "papermill": {
     "duration": 0.036659,
     "end_time": "2022-05-12T12:16:16.081667",
     "exception": false,
     "start_time": "2022-05-12T12:16:16.045008",
     "status": "completed"
    },
    "tags": []
   },
   "outputs": [],
   "source": [
    "#hide\n",
    "# g['date'] = g.date.dt.dayofyear"
   ]
  },
  {
   "cell_type": "code",
   "execution_count": 35,
   "id": "inside-dubai",
   "metadata": {
    "execution": {
     "iopub.execute_input": "2022-05-12T12:16:16.147598Z",
     "iopub.status.busy": "2022-05-12T12:16:16.147106Z",
     "iopub.status.idle": "2022-05-12T12:16:16.149239Z",
     "shell.execute_reply": "2022-05-12T12:16:16.148838Z"
    },
    "papermill": {
     "duration": 0.036144,
     "end_time": "2022-05-12T12:16:16.149340",
     "exception": false,
     "start_time": "2022-05-12T12:16:16.113196",
     "status": "completed"
    },
    "tags": []
   },
   "outputs": [],
   "source": [
    "#hide\n",
    "# g = g.rename(columns= {'continent':'group','country':'name','cases':'value'})"
   ]
  },
  {
   "cell_type": "code",
   "execution_count": 36,
   "id": "fleet-motorcycle",
   "metadata": {
    "execution": {
     "iopub.execute_input": "2022-05-12T12:16:16.215979Z",
     "iopub.status.busy": "2022-05-12T12:16:16.215470Z",
     "iopub.status.idle": "2022-05-12T12:16:16.217331Z",
     "shell.execute_reply": "2022-05-12T12:16:16.217703Z"
    },
    "papermill": {
     "duration": 0.036416,
     "end_time": "2022-05-12T12:16:16.217818",
     "exception": false,
     "start_time": "2022-05-12T12:16:16.181402",
     "status": "completed"
    },
    "tags": []
   },
   "outputs": [],
   "source": [
    "#hide\n",
    "# cols = ['name','group','day','value']"
   ]
  },
  {
   "cell_type": "code",
   "execution_count": 37,
   "id": "continued-sleeping",
   "metadata": {
    "execution": {
     "iopub.execute_input": "2022-05-12T12:16:16.284875Z",
     "iopub.status.busy": "2022-05-12T12:16:16.284362Z",
     "iopub.status.idle": "2022-05-12T12:16:16.286016Z",
     "shell.execute_reply": "2022-05-12T12:16:16.286383Z"
    },
    "papermill": {
     "duration": 0.036762,
     "end_time": "2022-05-12T12:16:16.286498",
     "exception": false,
     "start_time": "2022-05-12T12:16:16.249736",
     "status": "completed"
    },
    "tags": []
   },
   "outputs": [],
   "source": [
    "#hide\n",
    "# g.rename(columns= {'date':'day'},inplace = True)"
   ]
  },
  {
   "cell_type": "code",
   "execution_count": 38,
   "id": "major-fight",
   "metadata": {
    "execution": {
     "iopub.execute_input": "2022-05-12T12:16:16.352853Z",
     "iopub.status.busy": "2022-05-12T12:16:16.352346Z",
     "iopub.status.idle": "2022-05-12T12:16:16.354158Z",
     "shell.execute_reply": "2022-05-12T12:16:16.354534Z"
    },
    "papermill": {
     "duration": 0.036318,
     "end_time": "2022-05-12T12:16:16.354650",
     "exception": false,
     "start_time": "2022-05-12T12:16:16.318332",
     "status": "completed"
    },
    "tags": []
   },
   "outputs": [],
   "source": [
    "#hide\n",
    "# g = g[cols]"
   ]
  },
  {
   "cell_type": "code",
   "execution_count": 39,
   "id": "structured-mobile",
   "metadata": {
    "execution": {
     "iopub.execute_input": "2022-05-12T12:16:16.421092Z",
     "iopub.status.busy": "2022-05-12T12:16:16.420557Z",
     "iopub.status.idle": "2022-05-12T12:16:16.422489Z",
     "shell.execute_reply": "2022-05-12T12:16:16.422085Z"
    },
    "papermill": {
     "duration": 0.036273,
     "end_time": "2022-05-12T12:16:16.422587",
     "exception": false,
     "start_time": "2022-05-12T12:16:16.386314",
     "status": "completed"
    },
    "tags": []
   },
   "outputs": [],
   "source": [
    "# #hide\n",
    "# g = g[g.group.notna()]"
   ]
  },
  {
   "cell_type": "code",
   "execution_count": 40,
   "id": "determined-closing",
   "metadata": {
    "execution": {
     "iopub.execute_input": "2022-05-12T12:16:16.488996Z",
     "iopub.status.busy": "2022-05-12T12:16:16.488470Z",
     "iopub.status.idle": "2022-05-12T12:16:16.490456Z",
     "shell.execute_reply": "2022-05-12T12:16:16.490049Z"
    },
    "papermill": {
     "duration": 0.036186,
     "end_time": "2022-05-12T12:16:16.490552",
     "exception": false,
     "start_time": "2022-05-12T12:16:16.454366",
     "status": "completed"
    },
    "tags": []
   },
   "outputs": [],
   "source": [
    "# #hide\n",
    "# colors = dict(zip(\n",
    "#     [\"Oceania\", \"Europe\", \"Asia\", \"South America\", \"Middle East\", \"North America\", \"Africa\"],\n",
    "#     [\"#adb0ff\", \"#ffb3ff\", \"#90d595\", \"#e48381\", \"#aafbff\", \"#f7bb5f\", \"#eafb50\"]\n",
    "# ))\n",
    "# group_lk = g.set_index('name')['group'].to_dict()"
   ]
  },
  {
   "cell_type": "code",
   "execution_count": null,
   "id": "gross-drinking",
   "metadata": {
    "papermill": {
     "duration": 0.031488,
     "end_time": "2022-05-12T12:16:16.553432",
     "exception": false,
     "start_time": "2022-05-12T12:16:16.521944",
     "status": "completed"
    },
    "tags": []
   },
   "outputs": [],
   "source": []
  },
  {
   "cell_type": "code",
   "execution_count": 41,
   "id": "subject-macintosh",
   "metadata": {
    "execution": {
     "iopub.execute_input": "2022-05-12T12:16:16.620465Z",
     "iopub.status.busy": "2022-05-12T12:16:16.619937Z",
     "iopub.status.idle": "2022-05-12T12:16:16.621875Z",
     "shell.execute_reply": "2022-05-12T12:16:16.621460Z"
    },
    "papermill": {
     "duration": 0.036958,
     "end_time": "2022-05-12T12:16:16.621975",
     "exception": false,
     "start_time": "2022-05-12T12:16:16.585017",
     "status": "completed"
    },
    "tags": []
   },
   "outputs": [],
   "source": [
    "# #hide\n",
    "# fig, ax = plt.subplots(figsize=(15, 8))\n",
    "\n",
    "# def draw_barchart(current_day):\n",
    "#     dff = g[g['day'].eq(current_day)].sort_values(by='value', ascending=True).tail(10)\n",
    "#     ax.clear()\n",
    "#     ax.barh(dff['name'], dff['value'], color=[colors[group_lk[x]] for x in dff['name']])\n",
    "#     dx = dff['value'].max() / 200\n",
    "    \n",
    "#     for i, (value, name) in enumerate(zip(dff['value'], dff['name'])):\n",
    "#         ax.text(value-dx, i,     name,           size=14, weight=600, ha='right', va='bottom')\n",
    "#         ax.text(value-dx, i-.25, group_lk[name], size=10, color='#444444', ha='right', va='baseline')\n",
    "#         ax.text(value+dx, i,     f'{value:,.0f}',  size=14, ha='left',  va='center')\n",
    "#     ax.text(1, 0.4, current_day, transform=ax.transAxes, color='#777777', size=46, ha='right', weight=800)\n",
    "#     ax.text(0, 1.06, 'Population (thousands)', transform=ax.transAxes, size=12, color='#777777')\n",
    "#     ax.xaxis.set_major_formatter(ticker.StrMethodFormatter('{x:,.0f}'))\n",
    "#     ax.xaxis.set_ticks_position('top')\n",
    "#     ax.tick_params(axis='x', colors='#777777', labelsize=12)\n",
    "#     ax.set_yticks([])\n",
    "#     ax.margins(0, 0.01)\n",
    "#     ax.grid(which='major', axis='x', linestyle='-')\n",
    "#     ax.set_axisbelow(True)\n",
    "    \n",
    "#     ax.text(0, 1.15, 'Coronavirus',\n",
    "#             transform=ax.transAxes, size=24, weight=600, ha='left', va='top')\n",
    "# #     ax.text(1, 0, 'by @pratapvardhan; credit @jburnmurdoch', transform=ax.transAxes, color='#777777', ha='right',\n",
    "# #             bbox=dict(facecolor='white', alpha=0.8, edgecolor='white'))\n",
    "#     plt.box(False)"
   ]
  },
  {
   "cell_type": "code",
   "execution_count": 42,
   "id": "sexual-wages",
   "metadata": {
    "execution": {
     "iopub.execute_input": "2022-05-12T12:16:16.688109Z",
     "iopub.status.busy": "2022-05-12T12:16:16.687586Z",
     "iopub.status.idle": "2022-05-12T12:16:16.689275Z",
     "shell.execute_reply": "2022-05-12T12:16:16.689651Z"
    },
    "papermill": {
     "duration": 0.03626,
     "end_time": "2022-05-12T12:16:16.689766",
     "exception": false,
     "start_time": "2022-05-12T12:16:16.653506",
     "status": "completed"
    },
    "tags": []
   },
   "outputs": [],
   "source": [
    "# #hide_input\n",
    "# fig, ax = plt.subplots(figsize=(15, 8))\n",
    "# animator = animation.FuncAnimation(fig, draw_barchart, frames=range(g.day.values.min(), g.day.values.max()))\n",
    "# HTML(animator.to_jshtml())\n",
    "# # or use animator.to_html5_video() or animator.save() "
   ]
  },
  {
   "cell_type": "code",
   "execution_count": null,
   "id": "australian-container",
   "metadata": {
    "papermill": {
     "duration": 0.031655,
     "end_time": "2022-05-12T12:16:16.753187",
     "exception": false,
     "start_time": "2022-05-12T12:16:16.721532",
     "status": "completed"
    },
    "tags": []
   },
   "outputs": [],
   "source": []
  },
  {
   "cell_type": "code",
   "execution_count": null,
   "id": "mediterranean-pontiac",
   "metadata": {
    "papermill": {
     "duration": 0.031792,
     "end_time": "2022-05-12T12:16:16.816679",
     "exception": false,
     "start_time": "2022-05-12T12:16:16.784887",
     "status": "completed"
    },
    "tags": []
   },
   "outputs": [],
   "source": []
  },
  {
   "cell_type": "code",
   "execution_count": null,
   "id": "aging-legislature",
   "metadata": {
    "papermill": {
     "duration": 0.031555,
     "end_time": "2022-05-12T12:16:16.879796",
     "exception": false,
     "start_time": "2022-05-12T12:16:16.848241",
     "status": "completed"
    },
    "tags": []
   },
   "outputs": [],
   "source": []
  }
 ],
 "metadata": {
  "kernelspec": {
   "display_name": "Python 3",
   "language": "python",
   "name": "python3"
  },
  "language_info": {
   "codemirror_mode": {
    "name": "ipython",
    "version": 3
   },
   "file_extension": ".py",
   "mimetype": "text/x-python",
   "name": "python",
   "nbconvert_exporter": "python",
   "pygments_lexer": "ipython3",
   "version": "3.6.15"
  },
  "papermill": {
   "duration": 5.719485,
   "end_time": "2022-05-12T12:16:17.228565",
   "environment_variables": {},
   "exception": null,
   "input_path": "2020-03-21-covid19exp.ipynb",
   "output_path": "2020-03-21-covid19exp.ipynb",
   "parameters": {},
   "start_time": "2022-05-12T12:16:11.509080",
   "version": "2.0.0"
  }
 },
 "nbformat": 4,
 "nbformat_minor": 5
}