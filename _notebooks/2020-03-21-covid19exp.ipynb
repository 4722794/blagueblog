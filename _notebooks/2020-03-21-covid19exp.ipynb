{
 "cells": [
  {
   "cell_type": "markdown",
   "id": "muslim-click",
   "metadata": {
    "papermill": {
     "duration": 0.042051,
     "end_time": "2021-10-05T12:11:55.238521",
     "exception": false,
     "start_time": "2021-10-05T12:11:55.196470",
     "status": "completed"
    },
    "tags": []
   },
   "source": [
    "# COVID-19 Case Race\n",
    "> A race chart to see rising cases around the world\n",
    "\n",
    "- author: Hargun Oberoi\n",
    "- image: images/covid-overview.png\n",
    "- hide: false\n",
    "- badges: false"
   ]
  },
  {
   "cell_type": "code",
   "execution_count": 1,
   "id": "proof-material",
   "metadata": {
    "execution": {
     "iopub.execute_input": "2021-10-05T12:11:55.326089Z",
     "iopub.status.busy": "2021-10-05T12:11:55.325439Z",
     "iopub.status.idle": "2021-10-05T12:11:55.711106Z",
     "shell.execute_reply": "2021-10-05T12:11:55.710506Z"
    },
    "papermill": {
     "duration": 0.435818,
     "end_time": "2021-10-05T12:11:55.711277",
     "exception": false,
     "start_time": "2021-10-05T12:11:55.275459",
     "status": "completed"
    },
    "tags": []
   },
   "outputs": [],
   "source": [
    "#hide\n",
    "import numpy as np\n",
    "import pandas as pd\n",
    "from jinja2 import Template\n",
    "from IPython.display import HTML"
   ]
  },
  {
   "cell_type": "code",
   "execution_count": 2,
   "id": "developed-terminology",
   "metadata": {
    "execution": {
     "iopub.execute_input": "2021-10-05T12:11:55.795229Z",
     "iopub.status.busy": "2021-10-05T12:11:55.794541Z",
     "iopub.status.idle": "2021-10-05T12:11:55.796429Z",
     "shell.execute_reply": "2021-10-05T12:11:55.796939Z"
    },
    "papermill": {
     "duration": 0.046559,
     "end_time": "2021-10-05T12:11:55.797100",
     "exception": false,
     "start_time": "2021-10-05T12:11:55.750541",
     "status": "completed"
    },
    "tags": []
   },
   "outputs": [],
   "source": [
    "#hide\n",
    "\n",
    "# FETCH\n",
    "base_url = 'https://raw.githubusercontent.com/pratapvardhan/notebooks/master/covid19/'\n",
    "paths = {\n",
    "    'mapping': base_url + 'mapping_countries.csv',\n",
    "    'overview': base_url + 'overview.tpl'\n",
    "}"
   ]
  },
  {
   "cell_type": "code",
   "execution_count": 3,
   "id": "dynamic-saver",
   "metadata": {
    "execution": {
     "iopub.execute_input": "2021-10-05T12:11:55.881615Z",
     "iopub.status.busy": "2021-10-05T12:11:55.878501Z",
     "iopub.status.idle": "2021-10-05T12:11:55.884628Z",
     "shell.execute_reply": "2021-10-05T12:11:55.885239Z"
    },
    "papermill": {
     "duration": 0.05091,
     "end_time": "2021-10-05T12:11:55.885383",
     "exception": false,
     "start_time": "2021-10-05T12:11:55.834473",
     "status": "completed"
    },
    "tags": []
   },
   "outputs": [
    {
     "data": {
      "text/plain": [
       "'https://raw.githubusercontent.com/pratapvardhan/notebooks/master/covid19/mapping_countries.csv'"
      ]
     },
     "execution_count": 3,
     "metadata": {},
     "output_type": "execute_result"
    }
   ],
   "source": [
    "#hide\n",
    "paths['mapping']"
   ]
  },
  {
   "cell_type": "code",
   "execution_count": 4,
   "id": "urban-software",
   "metadata": {
    "execution": {
     "iopub.execute_input": "2021-10-05T12:11:55.967129Z",
     "iopub.status.busy": "2021-10-05T12:11:55.966457Z",
     "iopub.status.idle": "2021-10-05T12:11:55.969037Z",
     "shell.execute_reply": "2021-10-05T12:11:55.968237Z"
    },
    "papermill": {
     "duration": 0.046203,
     "end_time": "2021-10-05T12:11:55.969227",
     "exception": false,
     "start_time": "2021-10-05T12:11:55.923024",
     "status": "completed"
    },
    "tags": []
   },
   "outputs": [],
   "source": [
    "#hide\n",
    "def get_mappings(url):\n",
    "    df = pd.read_csv(url)\n",
    "    return {\n",
    "        'df': df,\n",
    "        'replace.country': dict(df.dropna(subset=['Name']).set_index('Country')['Name']),\n",
    "        'map.continent': dict(df.set_index('Name')['Continent'])\n",
    "    }"
   ]
  },
  {
   "cell_type": "code",
   "execution_count": 5,
   "id": "intimate-machinery",
   "metadata": {
    "execution": {
     "iopub.execute_input": "2021-10-05T12:11:56.057125Z",
     "iopub.status.busy": "2021-10-05T12:11:56.056472Z",
     "iopub.status.idle": "2021-10-05T12:11:56.100318Z",
     "shell.execute_reply": "2021-10-05T12:11:56.100833Z"
    },
    "papermill": {
     "duration": 0.088402,
     "end_time": "2021-10-05T12:11:56.100994",
     "exception": false,
     "start_time": "2021-10-05T12:11:56.012592",
     "status": "completed"
    },
    "tags": []
   },
   "outputs": [],
   "source": [
    "#hide\n",
    "mapping = get_mappings(paths['mapping'])"
   ]
  },
  {
   "cell_type": "code",
   "execution_count": 6,
   "id": "certified-tactics",
   "metadata": {
    "execution": {
     "iopub.execute_input": "2021-10-05T12:11:56.176907Z",
     "iopub.status.busy": "2021-10-05T12:11:56.176285Z",
     "iopub.status.idle": "2021-10-05T12:11:56.178156Z",
     "shell.execute_reply": "2021-10-05T12:11:56.178822Z"
    },
    "papermill": {
     "duration": 0.04206,
     "end_time": "2021-10-05T12:11:56.178944",
     "exception": false,
     "start_time": "2021-10-05T12:11:56.136884",
     "status": "completed"
    },
    "tags": []
   },
   "outputs": [],
   "source": [
    "#hide\n",
    "def get_template(path):\n",
    "    from urllib.parse import urlparse\n",
    "    if bool(urlparse(path).netloc):\n",
    "        from urllib.request import urlopen\n",
    "        return urlopen(path).read().decode('utf8')\n",
    "    return open(path).read()"
   ]
  },
  {
   "cell_type": "code",
   "execution_count": 7,
   "id": "realistic-blast",
   "metadata": {
    "execution": {
     "iopub.execute_input": "2021-10-05T12:11:56.256980Z",
     "iopub.status.busy": "2021-10-05T12:11:56.256347Z",
     "iopub.status.idle": "2021-10-05T12:11:56.257628Z",
     "shell.execute_reply": "2021-10-05T12:11:56.258128Z"
    },
    "papermill": {
     "duration": 0.041763,
     "end_time": "2021-10-05T12:11:56.258284",
     "exception": false,
     "start_time": "2021-10-05T12:11:56.216521",
     "status": "completed"
    },
    "tags": []
   },
   "outputs": [],
   "source": [
    "#hide\n",
    "def get_frame(name):\n",
    "    url = (\n",
    "        'https://raw.githubusercontent.com/CSSEGISandData/COVID-19/master/csse_covid_19_data/'\n",
    "        f'csse_covid_19_time_series/time_series_covid19_{name}_global.csv')\n",
    "    df = pd.read_csv(url)\n",
    "    # rename countries\n",
    "    df['Country/Region'] = df['Country/Region'].replace(mapping['replace.country'])\n",
    "    return df"
   ]
  },
  {
   "cell_type": "code",
   "execution_count": 8,
   "id": "affiliated-characterization",
   "metadata": {
    "execution": {
     "iopub.execute_input": "2021-10-05T12:11:56.340379Z",
     "iopub.status.busy": "2021-10-05T12:11:56.339722Z",
     "iopub.status.idle": "2021-10-05T12:11:56.341900Z",
     "shell.execute_reply": "2021-10-05T12:11:56.342591Z"
    },
    "papermill": {
     "duration": 0.049276,
     "end_time": "2021-10-05T12:11:56.342737",
     "exception": false,
     "start_time": "2021-10-05T12:11:56.293461",
     "status": "completed"
    },
    "tags": []
   },
   "outputs": [],
   "source": [
    "#hide\n",
    "def get_dates(df):\n",
    "    dt_cols = df.columns[~df.columns.isin(['Province/State', 'Country/Region', 'Lat', 'Long'])]\n",
    "    LAST_DATE_I = -1\n",
    "    # sometimes last column may be empty, then go backwards\n",
    "    for i in range(-1, -len(dt_cols), -1):\n",
    "        if not df[dt_cols[i]].fillna(0).eq(0).all():\n",
    "            LAST_DATE_I = i\n",
    "            break\n",
    "    return LAST_DATE_I, dt_cols"
   ]
  },
  {
   "cell_type": "code",
   "execution_count": 9,
   "id": "recent-optimization",
   "metadata": {
    "execution": {
     "iopub.execute_input": "2021-10-05T12:11:56.430161Z",
     "iopub.status.busy": "2021-10-05T12:11:56.429497Z",
     "iopub.status.idle": "2021-10-05T12:11:56.845840Z",
     "shell.execute_reply": "2021-10-05T12:11:56.845165Z"
    },
    "papermill": {
     "duration": 0.462859,
     "end_time": "2021-10-05T12:11:56.846021",
     "exception": false,
     "start_time": "2021-10-05T12:11:56.383162",
     "status": "completed"
    },
    "tags": []
   },
   "outputs": [],
   "source": [
    "#hide\n",
    "COL_REGION = 'Country/Region'\n",
    "# Confirmed, Recovered, Deaths\n",
    "df = get_frame('confirmed')\n",
    "# dft_: timeseries, dfc_: today country agg\n",
    "dft_cases = df\n",
    "dft_deaths = get_frame('deaths')\n",
    "dft_recovered = get_frame('recovered')\n",
    "LAST_DATE_I, dt_cols = get_dates(df)"
   ]
  },
  {
   "cell_type": "code",
   "execution_count": 10,
   "id": "absolute-copper",
   "metadata": {
    "execution": {
     "iopub.execute_input": "2021-10-05T12:11:56.932653Z",
     "iopub.status.busy": "2021-10-05T12:11:56.931989Z",
     "iopub.status.idle": "2021-10-05T12:11:56.933947Z",
     "shell.execute_reply": "2021-10-05T12:11:56.934490Z"
    },
    "papermill": {
     "duration": 0.04943,
     "end_time": "2021-10-05T12:11:56.934652",
     "exception": false,
     "start_time": "2021-10-05T12:11:56.885222",
     "status": "completed"
    },
    "tags": []
   },
   "outputs": [],
   "source": [
    "#hide\n",
    "LAST_DATE_I, dt_cols = get_dates(df)\n",
    "dt_today =dt_cols[LAST_DATE_I]\n",
    "# dt_5day = dt_cols[LAST_DATE_I - 5]\n",
    "dt_yday = dt_cols[LAST_DATE_I - 1]"
   ]
  },
  {
   "cell_type": "code",
   "execution_count": 11,
   "id": "restricted-sheriff",
   "metadata": {
    "execution": {
     "iopub.execute_input": "2021-10-05T12:11:57.025081Z",
     "iopub.status.busy": "2021-10-05T12:11:57.024385Z",
     "iopub.status.idle": "2021-10-05T12:11:57.030371Z",
     "shell.execute_reply": "2021-10-05T12:11:57.030937Z"
    },
    "papermill": {
     "duration": 0.056024,
     "end_time": "2021-10-05T12:11:57.031069",
     "exception": false,
     "start_time": "2021-10-05T12:11:56.975045",
     "status": "completed"
    },
    "tags": []
   },
   "outputs": [],
   "source": [
    "#hide\n",
    "dfc_cases = dft_cases.groupby(COL_REGION)[dt_today].sum()\n",
    "dfc_deaths = dft_deaths.groupby(COL_REGION)[dt_today].sum()\n",
    "# dfp_cases = dft_cases.groupby(COL_REGION)[dt_5day].sum()\n",
    "# dfp_deaths = dft_deaths.groupby(COL_REGION)[dt_5day].sum()\n",
    "dfp_cases = dft_cases.groupby(COL_REGION)[dt_yday].sum()\n",
    "dfp_deaths = dft_deaths.groupby(COL_REGION)[dt_yday].sum()"
   ]
  },
  {
   "cell_type": "code",
   "execution_count": 12,
   "id": "deluxe-hepatitis",
   "metadata": {
    "execution": {
     "iopub.execute_input": "2021-10-05T12:11:57.109880Z",
     "iopub.status.busy": "2021-10-05T12:11:57.109223Z",
     "iopub.status.idle": "2021-10-05T12:11:57.114112Z",
     "shell.execute_reply": "2021-10-05T12:11:57.114801Z"
    },
    "papermill": {
     "duration": 0.04792,
     "end_time": "2021-10-05T12:11:57.114953",
     "exception": false,
     "start_time": "2021-10-05T12:11:57.067033",
     "status": "completed"
    },
    "tags": []
   },
   "outputs": [],
   "source": [
    "#hide\n",
    "df_table = (pd.DataFrame(dict(Cases = dfc_cases, Deaths = dfc_deaths, PCases = dfp_cases, PDeaths = dfp_deaths))\n",
    "            .sort_values(by = ['Cases','Deaths'], ascending = [False, False])\n",
    "            .reset_index())"
   ]
  },
  {
   "cell_type": "code",
   "execution_count": 13,
   "id": "educational-chancellor",
   "metadata": {
    "execution": {
     "iopub.execute_input": "2021-10-05T12:11:57.210576Z",
     "iopub.status.busy": "2021-10-05T12:11:57.209826Z",
     "iopub.status.idle": "2021-10-05T12:11:57.219590Z",
     "shell.execute_reply": "2021-10-05T12:11:57.219055Z"
    },
    "papermill": {
     "duration": 0.06736,
     "end_time": "2021-10-05T12:11:57.219738",
     "exception": false,
     "start_time": "2021-10-05T12:11:57.152378",
     "status": "completed"
    },
    "tags": []
   },
   "outputs": [
    {
     "data": {
      "text/html": [
       "<div>\n",
       "<style scoped>\n",
       "    .dataframe tbody tr th:only-of-type {\n",
       "        vertical-align: middle;\n",
       "    }\n",
       "\n",
       "    .dataframe tbody tr th {\n",
       "        vertical-align: top;\n",
       "    }\n",
       "\n",
       "    .dataframe thead th {\n",
       "        text-align: right;\n",
       "    }\n",
       "</style>\n",
       "<table border=\"1\" class=\"dataframe\">\n",
       "  <thead>\n",
       "    <tr style=\"text-align: right;\">\n",
       "      <th></th>\n",
       "      <th>Country/Region</th>\n",
       "      <th>Cases</th>\n",
       "      <th>Deaths</th>\n",
       "      <th>PCases</th>\n",
       "      <th>PDeaths</th>\n",
       "      <th>Cases (+)</th>\n",
       "      <th>Deaths (+)</th>\n",
       "      <th>Fatality Rate</th>\n",
       "      <th>Continent</th>\n",
       "    </tr>\n",
       "  </thead>\n",
       "  <tbody>\n",
       "    <tr>\n",
       "      <th>0</th>\n",
       "      <td>US</td>\n",
       "      <td>43852255</td>\n",
       "      <td>703278</td>\n",
       "      <td>43683048</td>\n",
       "      <td>701169</td>\n",
       "      <td>169207</td>\n",
       "      <td>2109</td>\n",
       "      <td>1.60</td>\n",
       "      <td>North America</td>\n",
       "    </tr>\n",
       "    <tr>\n",
       "      <th>1</th>\n",
       "      <td>India</td>\n",
       "      <td>33853048</td>\n",
       "      <td>449260</td>\n",
       "      <td>33834702</td>\n",
       "      <td>448997</td>\n",
       "      <td>18346</td>\n",
       "      <td>263</td>\n",
       "      <td>1.33</td>\n",
       "      <td>Asia</td>\n",
       "    </tr>\n",
       "    <tr>\n",
       "      <th>2</th>\n",
       "      <td>Brazil</td>\n",
       "      <td>21478546</td>\n",
       "      <td>598152</td>\n",
       "      <td>21468121</td>\n",
       "      <td>597948</td>\n",
       "      <td>10425</td>\n",
       "      <td>204</td>\n",
       "      <td>2.78</td>\n",
       "      <td>South America</td>\n",
       "    </tr>\n",
       "    <tr>\n",
       "      <th>3</th>\n",
       "      <td>United Kingdom</td>\n",
       "      <td>7972312</td>\n",
       "      <td>137378</td>\n",
       "      <td>7937810</td>\n",
       "      <td>137338</td>\n",
       "      <td>34502</td>\n",
       "      <td>40</td>\n",
       "      <td>1.72</td>\n",
       "      <td>Europe</td>\n",
       "    </tr>\n",
       "    <tr>\n",
       "      <th>4</th>\n",
       "      <td>Russia</td>\n",
       "      <td>7500000</td>\n",
       "      <td>207056</td>\n",
       "      <td>7474850</td>\n",
       "      <td>206179</td>\n",
       "      <td>25150</td>\n",
       "      <td>877</td>\n",
       "      <td>2.76</td>\n",
       "      <td>Europe</td>\n",
       "    </tr>\n",
       "  </tbody>\n",
       "</table>\n",
       "</div>"
      ],
      "text/plain": [
       "   Country/Region     Cases  Deaths    PCases  PDeaths  Cases (+)  Deaths (+)  \\\n",
       "0              US  43852255  703278  43683048   701169     169207        2109   \n",
       "1           India  33853048  449260  33834702   448997      18346         263   \n",
       "2          Brazil  21478546  598152  21468121   597948      10425         204   \n",
       "3  United Kingdom   7972312  137378   7937810   137338      34502          40   \n",
       "4          Russia   7500000  207056   7474850   206179      25150         877   \n",
       "\n",
       "   Fatality Rate      Continent  \n",
       "0           1.60  North America  \n",
       "1           1.33           Asia  \n",
       "2           2.78  South America  \n",
       "3           1.72         Europe  \n",
       "4           2.76         Europe  "
      ]
     },
     "execution_count": 13,
     "metadata": {},
     "output_type": "execute_result"
    }
   ],
   "source": [
    "#hide\n",
    "for c in 'Cases, Deaths'.split(', '):\n",
    "    df_table[f'{c} (+)'] = (df_table[c] - df_table[f'P{c}']).clip(0)\n",
    "    #Clip ça veut dire, les chiffres negatif sont interdit\n",
    "df_table['Fatality Rate'] = (100* df_table['Deaths']/ df_table['Cases']).round(2)\n",
    "df_table['Continent'] = df_table['Country/Region'].map(mapping['map.continent'])\n",
    "df_table.head(5)"
   ]
  },
  {
   "cell_type": "code",
   "execution_count": 14,
   "id": "aboriginal-bulgaria",
   "metadata": {
    "execution": {
     "iopub.execute_input": "2021-10-05T12:11:57.309869Z",
     "iopub.status.busy": "2021-10-05T12:11:57.309226Z",
     "iopub.status.idle": "2021-10-05T12:11:57.311644Z",
     "shell.execute_reply": "2021-10-05T12:11:57.311010Z"
    },
    "papermill": {
     "duration": 0.051345,
     "end_time": "2021-10-05T12:11:57.311766",
     "exception": false,
     "start_time": "2021-10-05T12:11:57.260421",
     "status": "completed"
    },
    "tags": []
   },
   "outputs": [],
   "source": [
    "#hide\n",
    "#delete problematic countries from table\n",
    "df_table = df_table[~df_table['Country/Region'].isin(['Cape Verde', 'Cruise Ship', 'Kosovo'])]"
   ]
  },
  {
   "cell_type": "code",
   "execution_count": 15,
   "id": "fantastic-effect",
   "metadata": {
    "execution": {
     "iopub.execute_input": "2021-10-05T12:11:57.393568Z",
     "iopub.status.busy": "2021-10-05T12:11:57.392994Z",
     "iopub.status.idle": "2021-10-05T12:11:57.415609Z",
     "shell.execute_reply": "2021-10-05T12:11:57.416117Z"
    },
    "papermill": {
     "duration": 0.065374,
     "end_time": "2021-10-05T12:11:57.416262",
     "exception": false,
     "start_time": "2021-10-05T12:11:57.350888",
     "status": "completed"
    },
    "tags": []
   },
   "outputs": [
    {
     "data": {
      "text/html": [
       "<div>\n",
       "<style scoped>\n",
       "    .dataframe tbody tr th:only-of-type {\n",
       "        vertical-align: middle;\n",
       "    }\n",
       "\n",
       "    .dataframe tbody tr th {\n",
       "        vertical-align: top;\n",
       "    }\n",
       "\n",
       "    .dataframe thead th {\n",
       "        text-align: right;\n",
       "    }\n",
       "</style>\n",
       "<table border=\"1\" class=\"dataframe\">\n",
       "  <thead>\n",
       "    <tr style=\"text-align: right;\">\n",
       "      <th></th>\n",
       "      <th>Country/Region</th>\n",
       "      <th>Cases</th>\n",
       "      <th>Deaths</th>\n",
       "      <th>PCases</th>\n",
       "      <th>PDeaths</th>\n",
       "      <th>Cases (+)</th>\n",
       "      <th>Deaths (+)</th>\n",
       "      <th>Fatality Rate</th>\n",
       "      <th>Continent</th>\n",
       "    </tr>\n",
       "  </thead>\n",
       "  <tbody>\n",
       "    <tr>\n",
       "      <th>0</th>\n",
       "      <td>US</td>\n",
       "      <td>43852255</td>\n",
       "      <td>703278</td>\n",
       "      <td>43683048</td>\n",
       "      <td>701169</td>\n",
       "      <td>169207</td>\n",
       "      <td>2109</td>\n",
       "      <td>1.6</td>\n",
       "      <td>North America</td>\n",
       "    </tr>\n",
       "    <tr>\n",
       "      <th>1</th>\n",
       "      <td>India</td>\n",
       "      <td>33853048</td>\n",
       "      <td>449260</td>\n",
       "      <td>33834702</td>\n",
       "      <td>448997</td>\n",
       "      <td>18346</td>\n",
       "      <td>263</td>\n",
       "      <td>1.3</td>\n",
       "      <td>Asia</td>\n",
       "    </tr>\n",
       "    <tr>\n",
       "      <th>2</th>\n",
       "      <td>Brazil</td>\n",
       "      <td>21478546</td>\n",
       "      <td>598152</td>\n",
       "      <td>21468121</td>\n",
       "      <td>597948</td>\n",
       "      <td>10425</td>\n",
       "      <td>204</td>\n",
       "      <td>2.8</td>\n",
       "      <td>South America</td>\n",
       "    </tr>\n",
       "    <tr>\n",
       "      <th>3</th>\n",
       "      <td>United Kingdom</td>\n",
       "      <td>7972312</td>\n",
       "      <td>137378</td>\n",
       "      <td>7937810</td>\n",
       "      <td>137338</td>\n",
       "      <td>34502</td>\n",
       "      <td>40</td>\n",
       "      <td>1.7</td>\n",
       "      <td>Europe</td>\n",
       "    </tr>\n",
       "    <tr>\n",
       "      <th>4</th>\n",
       "      <td>Russia</td>\n",
       "      <td>7500000</td>\n",
       "      <td>207056</td>\n",
       "      <td>7474850</td>\n",
       "      <td>206179</td>\n",
       "      <td>25150</td>\n",
       "      <td>877</td>\n",
       "      <td>2.8</td>\n",
       "      <td>Europe</td>\n",
       "    </tr>\n",
       "  </tbody>\n",
       "</table>\n",
       "</div>"
      ],
      "text/plain": [
       "   Country/Region     Cases  Deaths    PCases  PDeaths  Cases (+)  Deaths (+)  \\\n",
       "0              US  43852255  703278  43683048   701169     169207        2109   \n",
       "1           India  33853048  449260  33834702   448997      18346         263   \n",
       "2          Brazil  21478546  598152  21468121   597948      10425         204   \n",
       "3  United Kingdom   7972312  137378   7937810   137338      34502          40   \n",
       "4          Russia   7500000  207056   7474850   206179      25150         877   \n",
       "\n",
       "   Fatality Rate      Continent  \n",
       "0            1.6  North America  \n",
       "1            1.3           Asia  \n",
       "2            2.8  South America  \n",
       "3            1.7         Europe  \n",
       "4            2.8         Europe  "
      ]
     },
     "execution_count": 15,
     "metadata": {},
     "output_type": "execute_result"
    }
   ],
   "source": [
    "#hide\n",
    "df_table = (pd.DataFrame(dict(Cases=dfc_cases, Deaths=dfc_deaths, PCases=dfp_cases, PDeaths=dfp_deaths))\n",
    "             .sort_values(by=['Cases', 'Deaths'], ascending=[False, False])\n",
    "             .reset_index())\n",
    "df_table.rename(columns={'index': 'Country/Region'}, inplace=True)\n",
    "for c in 'Cases, Deaths'.split(', '):\n",
    "    df_table[f'{c} (+)'] = (df_table[c] - df_table[f'P{c}']).clip(0)  # DATA BUG\n",
    "df_table['Fatality Rate'] = (100 * df_table['Deaths'] / df_table['Cases']).round(1)\n",
    "df_table['Continent'] = df_table['Country/Region'].map(mapping['map.continent'])\n",
    "df_table.head(5)"
   ]
  },
  {
   "cell_type": "code",
   "execution_count": 16,
   "id": "fewer-occasion",
   "metadata": {
    "execution": {
     "iopub.execute_input": "2021-10-05T12:11:57.501865Z",
     "iopub.status.busy": "2021-10-05T12:11:57.501207Z",
     "iopub.status.idle": "2021-10-05T12:11:57.503581Z",
     "shell.execute_reply": "2021-10-05T12:11:57.504212Z"
    },
    "papermill": {
     "duration": 0.046706,
     "end_time": "2021-10-05T12:11:57.504354",
     "exception": false,
     "start_time": "2021-10-05T12:11:57.457648",
     "status": "completed"
    },
    "tags": []
   },
   "outputs": [],
   "source": [
    "#hide\n",
    "#delete problematic countries from table\n",
    "df_table = df_table[~df_table['Country/Region'].isin(['Cape Verde', 'Cruise Ship', 'Kosovo'])]"
   ]
  },
  {
   "cell_type": "code",
   "execution_count": 17,
   "id": "related-center",
   "metadata": {
    "execution": {
     "iopub.execute_input": "2021-10-05T12:11:57.594433Z",
     "iopub.status.busy": "2021-10-05T12:11:57.593702Z",
     "iopub.status.idle": "2021-10-05T12:11:57.611871Z",
     "shell.execute_reply": "2021-10-05T12:11:57.612362Z"
    },
    "papermill": {
     "duration": 0.066338,
     "end_time": "2021-10-05T12:11:57.612511",
     "exception": false,
     "start_time": "2021-10-05T12:11:57.546173",
     "status": "completed"
    },
    "tags": []
   },
   "outputs": [],
   "source": [
    "#hide\n",
    "metrics = [df_table.columns[index] for index in [1,2,5,6]]\n",
    "# s_china = df_table[df_table['Country/Region'].eq('China')][metrics].sum().add_prefix('China ')\n",
    "s_us = df_table[df_table['Country/Region'].eq('US')][metrics].sum().add_prefix('US ')\n",
    "s_eu = df_table[df_table['Continent'].eq('Europe')][metrics].sum().add_prefix('EU ')\n",
    "s_ind = df_table[df_table['Country/Region'].eq('India')][metrics].sum().add_prefix('India ')\n",
    "summary = {'updated': pd.to_datetime(dt_today), 'since': pd.to_datetime(dt_yday)}\n",
    "summary = {'updated': pd.to_datetime(dt_today), 'since': pd.to_datetime(dt_yday)}\n",
    "summary = {**summary, **df_table[metrics].sum(), **s_ind, **s_us, **s_eu}"
   ]
  },
  {
   "cell_type": "code",
   "execution_count": 18,
   "id": "engaging-syndrome",
   "metadata": {
    "execution": {
     "iopub.execute_input": "2021-10-05T12:11:57.691128Z",
     "iopub.status.busy": "2021-10-05T12:11:57.690484Z",
     "iopub.status.idle": "2021-10-05T12:11:57.704073Z",
     "shell.execute_reply": "2021-10-05T12:11:57.705037Z"
    },
    "papermill": {
     "duration": 0.056708,
     "end_time": "2021-10-05T12:11:57.705206",
     "exception": false,
     "start_time": "2021-10-05T12:11:57.648498",
     "status": "completed"
    },
    "tags": []
   },
   "outputs": [],
   "source": [
    "#hide\n",
    "dft_ct_new_cases = dft_cases.groupby(COL_REGION)[dt_cols].sum().diff(axis=1).fillna(0).astype(int)"
   ]
  },
  {
   "cell_type": "code",
   "execution_count": 19,
   "id": "neutral-assignment",
   "metadata": {
    "execution": {
     "iopub.execute_input": "2021-10-05T12:11:57.795548Z",
     "iopub.status.busy": "2021-10-05T12:11:57.794901Z",
     "iopub.status.idle": "2021-10-05T12:11:57.805388Z",
     "shell.execute_reply": "2021-10-05T12:11:57.805932Z"
    },
    "papermill": {
     "duration": 0.062327,
     "end_time": "2021-10-05T12:11:57.806084",
     "exception": false,
     "start_time": "2021-10-05T12:11:57.743757",
     "status": "completed"
    },
    "tags": []
   },
   "outputs": [],
   "source": [
    "#hide\n",
    "everydaycases = dft_ct_new_cases.cumsum(axis=1)"
   ]
  },
  {
   "cell_type": "code",
   "execution_count": 20,
   "id": "parliamentary-calgary",
   "metadata": {
    "execution": {
     "iopub.execute_input": "2021-10-05T12:11:57.892467Z",
     "iopub.status.busy": "2021-10-05T12:11:57.891805Z",
     "iopub.status.idle": "2021-10-05T12:11:58.551421Z",
     "shell.execute_reply": "2021-10-05T12:11:58.550827Z"
    },
    "papermill": {
     "duration": 0.704842,
     "end_time": "2021-10-05T12:11:58.551568",
     "exception": false,
     "start_time": "2021-10-05T12:11:57.846726",
     "status": "completed"
    },
    "tags": []
   },
   "outputs": [],
   "source": [
    "#hide\n",
    "import pandas as pd\n",
    "import matplotlib.pyplot as plt\n",
    "import matplotlib.ticker as ticker\n",
    "import matplotlib.animation as animation\n",
    "from IPython.display import HTML"
   ]
  },
  {
   "cell_type": "code",
   "execution_count": 21,
   "id": "lasting-extraction",
   "metadata": {
    "execution": {
     "iopub.execute_input": "2021-10-05T12:11:58.637596Z",
     "iopub.status.busy": "2021-10-05T12:11:58.636940Z",
     "iopub.status.idle": "2021-10-05T12:11:58.642627Z",
     "shell.execute_reply": "2021-10-05T12:11:58.643181Z"
    },
    "papermill": {
     "duration": 0.050714,
     "end_time": "2021-10-05T12:11:58.643332",
     "exception": false,
     "start_time": "2021-10-05T12:11:58.592618",
     "status": "completed"
    },
    "tags": []
   },
   "outputs": [],
   "source": [
    "#hide\n",
    "t = everydaycases.stack()"
   ]
  },
  {
   "cell_type": "code",
   "execution_count": 22,
   "id": "premier-sleeve",
   "metadata": {
    "execution": {
     "iopub.execute_input": "2021-10-05T12:11:58.732007Z",
     "iopub.status.busy": "2021-10-05T12:11:58.731356Z",
     "iopub.status.idle": "2021-10-05T12:11:58.741450Z",
     "shell.execute_reply": "2021-10-05T12:11:58.740891Z"
    },
    "papermill": {
     "duration": 0.059156,
     "end_time": "2021-10-05T12:11:58.741616",
     "exception": false,
     "start_time": "2021-10-05T12:11:58.682460",
     "status": "completed"
    },
    "tags": []
   },
   "outputs": [],
   "source": [
    "#hide\n",
    "g = t.reset_index(['Country/Region'])"
   ]
  },
  {
   "cell_type": "code",
   "execution_count": 23,
   "id": "distributed-pittsburgh",
   "metadata": {
    "execution": {
     "iopub.execute_input": "2021-10-05T12:11:58.824396Z",
     "iopub.status.busy": "2021-10-05T12:11:58.823752Z",
     "iopub.status.idle": "2021-10-05T12:11:58.825667Z",
     "shell.execute_reply": "2021-10-05T12:11:58.826161Z"
    },
    "papermill": {
     "duration": 0.043857,
     "end_time": "2021-10-05T12:11:58.826326",
     "exception": false,
     "start_time": "2021-10-05T12:11:58.782469",
     "status": "completed"
    },
    "tags": []
   },
   "outputs": [],
   "source": [
    "#hide\n",
    "g.index.name = 'date'"
   ]
  },
  {
   "cell_type": "code",
   "execution_count": 24,
   "id": "naked-donor",
   "metadata": {
    "execution": {
     "iopub.execute_input": "2021-10-05T12:11:58.906001Z",
     "iopub.status.busy": "2021-10-05T12:11:58.904593Z",
     "iopub.status.idle": "2021-10-05T12:11:58.906753Z",
     "shell.execute_reply": "2021-10-05T12:11:58.907273Z"
    },
    "papermill": {
     "duration": 0.043978,
     "end_time": "2021-10-05T12:11:58.907417",
     "exception": false,
     "start_time": "2021-10-05T12:11:58.863439",
     "status": "completed"
    },
    "tags": []
   },
   "outputs": [],
   "source": [
    "# #hide\n",
    "# g = g.reset_index(['date'])"
   ]
  },
  {
   "cell_type": "code",
   "execution_count": 25,
   "id": "incomplete-mustang",
   "metadata": {
    "execution": {
     "iopub.execute_input": "2021-10-05T12:11:58.992061Z",
     "iopub.status.busy": "2021-10-05T12:11:58.990594Z",
     "iopub.status.idle": "2021-10-05T12:11:58.992774Z",
     "shell.execute_reply": "2021-10-05T12:11:58.993298Z"
    },
    "papermill": {
     "duration": 0.046727,
     "end_time": "2021-10-05T12:11:58.993464",
     "exception": false,
     "start_time": "2021-10-05T12:11:58.946737",
     "status": "completed"
    },
    "tags": []
   },
   "outputs": [],
   "source": [
    "#hide\n",
    "# g.head()"
   ]
  },
  {
   "cell_type": "code",
   "execution_count": 26,
   "id": "specific-kruger",
   "metadata": {
    "execution": {
     "iopub.execute_input": "2021-10-05T12:11:59.077418Z",
     "iopub.status.busy": "2021-10-05T12:11:59.076110Z",
     "iopub.status.idle": "2021-10-05T12:11:59.078138Z",
     "shell.execute_reply": "2021-10-05T12:11:59.078673Z"
    },
    "papermill": {
     "duration": 0.043772,
     "end_time": "2021-10-05T12:11:59.078835",
     "exception": false,
     "start_time": "2021-10-05T12:11:59.035063",
     "status": "completed"
    },
    "tags": []
   },
   "outputs": [],
   "source": [
    "#hide\n",
    "# g.columns = ['date','country','cases']"
   ]
  },
  {
   "cell_type": "code",
   "execution_count": 27,
   "id": "tender-conversion",
   "metadata": {
    "execution": {
     "iopub.execute_input": "2021-10-05T12:11:59.161483Z",
     "iopub.status.busy": "2021-10-05T12:11:59.160816Z",
     "iopub.status.idle": "2021-10-05T12:11:59.163389Z",
     "shell.execute_reply": "2021-10-05T12:11:59.164051Z"
    },
    "papermill": {
     "duration": 0.045968,
     "end_time": "2021-10-05T12:11:59.164196",
     "exception": false,
     "start_time": "2021-10-05T12:11:59.118228",
     "status": "completed"
    },
    "tags": []
   },
   "outputs": [],
   "source": [
    "#hide\n",
    "# g['continent'] = g.country"
   ]
  },
  {
   "cell_type": "code",
   "execution_count": 28,
   "id": "substantial-wilderness",
   "metadata": {
    "execution": {
     "iopub.execute_input": "2021-10-05T12:11:59.244284Z",
     "iopub.status.busy": "2021-10-05T12:11:59.243643Z",
     "iopub.status.idle": "2021-10-05T12:11:59.246269Z",
     "shell.execute_reply": "2021-10-05T12:11:59.245683Z"
    },
    "papermill": {
     "duration": 0.044183,
     "end_time": "2021-10-05T12:11:59.246390",
     "exception": false,
     "start_time": "2021-10-05T12:11:59.202207",
     "status": "completed"
    },
    "tags": []
   },
   "outputs": [],
   "source": [
    "#hide\n",
    "# cols = list(g.columns.values)"
   ]
  },
  {
   "cell_type": "code",
   "execution_count": 29,
   "id": "solved-farming",
   "metadata": {
    "execution": {
     "iopub.execute_input": "2021-10-05T12:11:59.331302Z",
     "iopub.status.busy": "2021-10-05T12:11:59.330675Z",
     "iopub.status.idle": "2021-10-05T12:11:59.332474Z",
     "shell.execute_reply": "2021-10-05T12:11:59.333026Z"
    },
    "papermill": {
     "duration": 0.047886,
     "end_time": "2021-10-05T12:11:59.333173",
     "exception": false,
     "start_time": "2021-10-05T12:11:59.285287",
     "status": "completed"
    },
    "tags": []
   },
   "outputs": [],
   "source": [
    "#hide\n",
    "# cols.insert(0, cols.pop())"
   ]
  },
  {
   "cell_type": "code",
   "execution_count": 30,
   "id": "executed-adoption",
   "metadata": {
    "execution": {
     "iopub.execute_input": "2021-10-05T12:11:59.410468Z",
     "iopub.status.busy": "2021-10-05T12:11:59.409805Z",
     "iopub.status.idle": "2021-10-05T12:11:59.411725Z",
     "shell.execute_reply": "2021-10-05T12:11:59.412276Z"
    },
    "papermill": {
     "duration": 0.041832,
     "end_time": "2021-10-05T12:11:59.412404",
     "exception": false,
     "start_time": "2021-10-05T12:11:59.370572",
     "status": "completed"
    },
    "tags": []
   },
   "outputs": [],
   "source": [
    "#hide\n",
    "# g = g[cols]"
   ]
  },
  {
   "cell_type": "code",
   "execution_count": 31,
   "id": "subject-dublin",
   "metadata": {
    "execution": {
     "iopub.execute_input": "2021-10-05T12:11:59.489758Z",
     "iopub.status.busy": "2021-10-05T12:11:59.489163Z",
     "iopub.status.idle": "2021-10-05T12:11:59.491654Z",
     "shell.execute_reply": "2021-10-05T12:11:59.491128Z"
    },
    "papermill": {
     "duration": 0.042234,
     "end_time": "2021-10-05T12:11:59.491769",
     "exception": false,
     "start_time": "2021-10-05T12:11:59.449535",
     "status": "completed"
    },
    "tags": []
   },
   "outputs": [],
   "source": [
    "#hide\n",
    "# g['continent'] = g['continent'].map(mapping['map.continent'])"
   ]
  },
  {
   "cell_type": "code",
   "execution_count": 32,
   "id": "freelance-scout",
   "metadata": {
    "execution": {
     "iopub.execute_input": "2021-10-05T12:11:59.569897Z",
     "iopub.status.busy": "2021-10-05T12:11:59.569216Z",
     "iopub.status.idle": "2021-10-05T12:11:59.571669Z",
     "shell.execute_reply": "2021-10-05T12:11:59.571140Z"
    },
    "papermill": {
     "duration": 0.043486,
     "end_time": "2021-10-05T12:11:59.571790",
     "exception": false,
     "start_time": "2021-10-05T12:11:59.528304",
     "status": "completed"
    },
    "tags": []
   },
   "outputs": [],
   "source": [
    "#hide\n",
    "# g.head()"
   ]
  },
  {
   "cell_type": "code",
   "execution_count": 33,
   "id": "limited-engine",
   "metadata": {
    "execution": {
     "iopub.execute_input": "2021-10-05T12:11:59.647568Z",
     "iopub.status.busy": "2021-10-05T12:11:59.646994Z",
     "iopub.status.idle": "2021-10-05T12:11:59.648739Z",
     "shell.execute_reply": "2021-10-05T12:11:59.649290Z"
    },
    "papermill": {
     "duration": 0.041749,
     "end_time": "2021-10-05T12:11:59.649420",
     "exception": false,
     "start_time": "2021-10-05T12:11:59.607671",
     "status": "completed"
    },
    "tags": []
   },
   "outputs": [],
   "source": [
    "# hide\n",
    "# g['date'] = g['date'].astype('datetime64[ns]')"
   ]
  },
  {
   "cell_type": "code",
   "execution_count": 34,
   "id": "sophisticated-supervisor",
   "metadata": {
    "execution": {
     "iopub.execute_input": "2021-10-05T12:11:59.724020Z",
     "iopub.status.busy": "2021-10-05T12:11:59.723448Z",
     "iopub.status.idle": "2021-10-05T12:11:59.725916Z",
     "shell.execute_reply": "2021-10-05T12:11:59.725424Z"
    },
    "papermill": {
     "duration": 0.041476,
     "end_time": "2021-10-05T12:11:59.726025",
     "exception": false,
     "start_time": "2021-10-05T12:11:59.684549",
     "status": "completed"
    },
    "tags": []
   },
   "outputs": [],
   "source": [
    "#hide\n",
    "# g['date'] = g.date.dt.dayofyear"
   ]
  },
  {
   "cell_type": "code",
   "execution_count": 35,
   "id": "inside-dubai",
   "metadata": {
    "execution": {
     "iopub.execute_input": "2021-10-05T12:11:59.802238Z",
     "iopub.status.busy": "2021-10-05T12:11:59.801555Z",
     "iopub.status.idle": "2021-10-05T12:11:59.803603Z",
     "shell.execute_reply": "2021-10-05T12:11:59.804131Z"
    },
    "papermill": {
     "duration": 0.040845,
     "end_time": "2021-10-05T12:11:59.804258",
     "exception": false,
     "start_time": "2021-10-05T12:11:59.763413",
     "status": "completed"
    },
    "tags": []
   },
   "outputs": [],
   "source": [
    "#hide\n",
    "# g = g.rename(columns= {'continent':'group','country':'name','cases':'value'})"
   ]
  },
  {
   "cell_type": "code",
   "execution_count": 36,
   "id": "fleet-motorcycle",
   "metadata": {
    "execution": {
     "iopub.execute_input": "2021-10-05T12:11:59.887575Z",
     "iopub.status.busy": "2021-10-05T12:11:59.886908Z",
     "iopub.status.idle": "2021-10-05T12:11:59.889584Z",
     "shell.execute_reply": "2021-10-05T12:11:59.889027Z"
    },
    "papermill": {
     "duration": 0.045182,
     "end_time": "2021-10-05T12:11:59.889713",
     "exception": false,
     "start_time": "2021-10-05T12:11:59.844531",
     "status": "completed"
    },
    "tags": []
   },
   "outputs": [],
   "source": [
    "#hide\n",
    "# cols = ['name','group','day','value']"
   ]
  },
  {
   "cell_type": "code",
   "execution_count": 37,
   "id": "continued-sleeping",
   "metadata": {
    "execution": {
     "iopub.execute_input": "2021-10-05T12:11:59.976589Z",
     "iopub.status.busy": "2021-10-05T12:11:59.975868Z",
     "iopub.status.idle": "2021-10-05T12:11:59.977968Z",
     "shell.execute_reply": "2021-10-05T12:11:59.978492Z"
    },
    "papermill": {
     "duration": 0.047158,
     "end_time": "2021-10-05T12:11:59.978674",
     "exception": false,
     "start_time": "2021-10-05T12:11:59.931516",
     "status": "completed"
    },
    "tags": []
   },
   "outputs": [],
   "source": [
    "#hide\n",
    "# g.rename(columns= {'date':'day'},inplace = True)"
   ]
  },
  {
   "cell_type": "code",
   "execution_count": 38,
   "id": "major-fight",
   "metadata": {
    "execution": {
     "iopub.execute_input": "2021-10-05T12:12:00.061044Z",
     "iopub.status.busy": "2021-10-05T12:12:00.060240Z",
     "iopub.status.idle": "2021-10-05T12:12:00.062312Z",
     "shell.execute_reply": "2021-10-05T12:12:00.062811Z"
    },
    "papermill": {
     "duration": 0.045256,
     "end_time": "2021-10-05T12:12:00.062959",
     "exception": false,
     "start_time": "2021-10-05T12:12:00.017703",
     "status": "completed"
    },
    "tags": []
   },
   "outputs": [],
   "source": [
    "#hide\n",
    "# g = g[cols]"
   ]
  },
  {
   "cell_type": "code",
   "execution_count": 39,
   "id": "structured-mobile",
   "metadata": {
    "execution": {
     "iopub.execute_input": "2021-10-05T12:12:00.141688Z",
     "iopub.status.busy": "2021-10-05T12:12:00.140882Z",
     "iopub.status.idle": "2021-10-05T12:12:00.142424Z",
     "shell.execute_reply": "2021-10-05T12:12:00.142947Z"
    },
    "papermill": {
     "duration": 0.043911,
     "end_time": "2021-10-05T12:12:00.143093",
     "exception": false,
     "start_time": "2021-10-05T12:12:00.099182",
     "status": "completed"
    },
    "tags": []
   },
   "outputs": [],
   "source": [
    "# #hide\n",
    "# g = g[g.group.notna()]"
   ]
  },
  {
   "cell_type": "code",
   "execution_count": 40,
   "id": "determined-closing",
   "metadata": {
    "execution": {
     "iopub.execute_input": "2021-10-05T12:12:00.223622Z",
     "iopub.status.busy": "2021-10-05T12:12:00.222930Z",
     "iopub.status.idle": "2021-10-05T12:12:00.225541Z",
     "shell.execute_reply": "2021-10-05T12:12:00.225022Z"
    },
    "papermill": {
     "duration": 0.044085,
     "end_time": "2021-10-05T12:12:00.225687",
     "exception": false,
     "start_time": "2021-10-05T12:12:00.181602",
     "status": "completed"
    },
    "tags": []
   },
   "outputs": [],
   "source": [
    "# #hide\n",
    "# colors = dict(zip(\n",
    "#     [\"Oceania\", \"Europe\", \"Asia\", \"South America\", \"Middle East\", \"North America\", \"Africa\"],\n",
    "#     [\"#adb0ff\", \"#ffb3ff\", \"#90d595\", \"#e48381\", \"#aafbff\", \"#f7bb5f\", \"#eafb50\"]\n",
    "# ))\n",
    "# group_lk = g.set_index('name')['group'].to_dict()"
   ]
  },
  {
   "cell_type": "code",
   "execution_count": null,
   "id": "gross-drinking",
   "metadata": {
    "papermill": {
     "duration": 0.038908,
     "end_time": "2021-10-05T12:12:00.303746",
     "exception": false,
     "start_time": "2021-10-05T12:12:00.264838",
     "status": "completed"
    },
    "tags": []
   },
   "outputs": [],
   "source": []
  },
  {
   "cell_type": "code",
   "execution_count": 41,
   "id": "subject-macintosh",
   "metadata": {
    "execution": {
     "iopub.execute_input": "2021-10-05T12:12:00.383989Z",
     "iopub.status.busy": "2021-10-05T12:12:00.383320Z",
     "iopub.status.idle": "2021-10-05T12:12:00.385382Z",
     "shell.execute_reply": "2021-10-05T12:12:00.385851Z"
    },
    "papermill": {
     "duration": 0.043531,
     "end_time": "2021-10-05T12:12:00.385997",
     "exception": false,
     "start_time": "2021-10-05T12:12:00.342466",
     "status": "completed"
    },
    "tags": []
   },
   "outputs": [],
   "source": [
    "# #hide\n",
    "# fig, ax = plt.subplots(figsize=(15, 8))\n",
    "\n",
    "# def draw_barchart(current_day):\n",
    "#     dff = g[g['day'].eq(current_day)].sort_values(by='value', ascending=True).tail(10)\n",
    "#     ax.clear()\n",
    "#     ax.barh(dff['name'], dff['value'], color=[colors[group_lk[x]] for x in dff['name']])\n",
    "#     dx = dff['value'].max() / 200\n",
    "    \n",
    "#     for i, (value, name) in enumerate(zip(dff['value'], dff['name'])):\n",
    "#         ax.text(value-dx, i,     name,           size=14, weight=600, ha='right', va='bottom')\n",
    "#         ax.text(value-dx, i-.25, group_lk[name], size=10, color='#444444', ha='right', va='baseline')\n",
    "#         ax.text(value+dx, i,     f'{value:,.0f}',  size=14, ha='left',  va='center')\n",
    "#     ax.text(1, 0.4, current_day, transform=ax.transAxes, color='#777777', size=46, ha='right', weight=800)\n",
    "#     ax.text(0, 1.06, 'Population (thousands)', transform=ax.transAxes, size=12, color='#777777')\n",
    "#     ax.xaxis.set_major_formatter(ticker.StrMethodFormatter('{x:,.0f}'))\n",
    "#     ax.xaxis.set_ticks_position('top')\n",
    "#     ax.tick_params(axis='x', colors='#777777', labelsize=12)\n",
    "#     ax.set_yticks([])\n",
    "#     ax.margins(0, 0.01)\n",
    "#     ax.grid(which='major', axis='x', linestyle='-')\n",
    "#     ax.set_axisbelow(True)\n",
    "    \n",
    "#     ax.text(0, 1.15, 'Coronavirus',\n",
    "#             transform=ax.transAxes, size=24, weight=600, ha='left', va='top')\n",
    "# #     ax.text(1, 0, 'by @pratapvardhan; credit @jburnmurdoch', transform=ax.transAxes, color='#777777', ha='right',\n",
    "# #             bbox=dict(facecolor='white', alpha=0.8, edgecolor='white'))\n",
    "#     plt.box(False)"
   ]
  },
  {
   "cell_type": "code",
   "execution_count": 42,
   "id": "sexual-wages",
   "metadata": {
    "execution": {
     "iopub.execute_input": "2021-10-05T12:12:00.464587Z",
     "iopub.status.busy": "2021-10-05T12:12:00.463943Z",
     "iopub.status.idle": "2021-10-05T12:12:00.466101Z",
     "shell.execute_reply": "2021-10-05T12:12:00.466604Z"
    },
    "papermill": {
     "duration": 0.04393,
     "end_time": "2021-10-05T12:12:00.466748",
     "exception": false,
     "start_time": "2021-10-05T12:12:00.422818",
     "status": "completed"
    },
    "tags": []
   },
   "outputs": [],
   "source": [
    "# #hide_input\n",
    "# fig, ax = plt.subplots(figsize=(15, 8))\n",
    "# animator = animation.FuncAnimation(fig, draw_barchart, frames=range(g.day.values.min(), g.day.values.max()))\n",
    "# HTML(animator.to_jshtml())\n",
    "# # or use animator.to_html5_video() or animator.save() "
   ]
  },
  {
   "cell_type": "code",
   "execution_count": null,
   "id": "australian-container",
   "metadata": {
    "papermill": {
     "duration": 0.040816,
     "end_time": "2021-10-05T12:12:00.545460",
     "exception": false,
     "start_time": "2021-10-05T12:12:00.504644",
     "status": "completed"
    },
    "tags": []
   },
   "outputs": [],
   "source": []
  },
  {
   "cell_type": "code",
   "execution_count": null,
   "id": "mediterranean-pontiac",
   "metadata": {
    "papermill": {
     "duration": 0.035462,
     "end_time": "2021-10-05T12:12:00.619597",
     "exception": false,
     "start_time": "2021-10-05T12:12:00.584135",
     "status": "completed"
    },
    "tags": []
   },
   "outputs": [],
   "source": []
  },
  {
   "cell_type": "code",
   "execution_count": null,
   "id": "aging-legislature",
   "metadata": {
    "papermill": {
     "duration": 0.037004,
     "end_time": "2021-10-05T12:12:00.691830",
     "exception": false,
     "start_time": "2021-10-05T12:12:00.654826",
     "status": "completed"
    },
    "tags": []
   },
   "outputs": [],
   "source": []
  }
 ],
 "metadata": {
  "kernelspec": {
   "display_name": "Python 3",
   "language": "python",
   "name": "python3"
  },
  "language_info": {
   "codemirror_mode": {
    "name": "ipython",
    "version": 3
   },
   "file_extension": ".py",
   "mimetype": "text/x-python",
   "name": "python",
   "nbconvert_exporter": "python",
   "pygments_lexer": "ipython3",
   "version": "3.6.15"
  },
  "papermill": {
   "duration": 6.965827,
   "end_time": "2021-10-05T12:12:01.037337",
   "environment_variables": {},
   "exception": null,
   "input_path": "2020-03-21-covid19exp.ipynb",
   "output_path": "2020-03-21-covid19exp.ipynb",
   "parameters": {},
   "start_time": "2021-10-05T12:11:54.071510",
   "version": "2.0.0"
  }
 },
 "nbformat": 4,
 "nbformat_minor": 5
}