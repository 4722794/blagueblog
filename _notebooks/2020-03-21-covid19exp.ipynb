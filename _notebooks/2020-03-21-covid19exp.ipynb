{
 "cells": [
  {
   "cell_type": "markdown",
   "id": "muslim-click",
   "metadata": {
    "papermill": {
     "duration": 0.034182,
     "end_time": "2021-12-23T00:26:44.636955",
     "exception": false,
     "start_time": "2021-12-23T00:26:44.602773",
     "status": "completed"
    },
    "tags": []
   },
   "source": [
    "# COVID-19 Case Race\n",
    "> A race chart to see rising cases around the world\n",
    "\n",
    "- author: Hargun Oberoi\n",
    "- image: images/covid-overview.png\n",
    "- hide: false\n",
    "- badges: false"
   ]
  },
  {
   "cell_type": "code",
   "execution_count": 1,
   "id": "proof-material",
   "metadata": {
    "execution": {
     "iopub.execute_input": "2021-12-23T00:26:44.707950Z",
     "iopub.status.busy": "2021-12-23T00:26:44.707457Z",
     "iopub.status.idle": "2021-12-23T00:26:45.021330Z",
     "shell.execute_reply": "2021-12-23T00:26:45.020878Z"
    },
    "papermill": {
     "duration": 0.353406,
     "end_time": "2021-12-23T00:26:45.021456",
     "exception": false,
     "start_time": "2021-12-23T00:26:44.668050",
     "status": "completed"
    },
    "tags": []
   },
   "outputs": [],
   "source": [
    "#hide\n",
    "import numpy as np\n",
    "import pandas as pd\n",
    "from jinja2 import Template\n",
    "from IPython.display import HTML"
   ]
  },
  {
   "cell_type": "code",
   "execution_count": 2,
   "id": "developed-terminology",
   "metadata": {
    "execution": {
     "iopub.execute_input": "2021-12-23T00:26:45.088364Z",
     "iopub.status.busy": "2021-12-23T00:26:45.087858Z",
     "iopub.status.idle": "2021-12-23T00:26:45.089651Z",
     "shell.execute_reply": "2021-12-23T00:26:45.090045Z"
    },
    "papermill": {
     "duration": 0.03789,
     "end_time": "2021-12-23T00:26:45.090170",
     "exception": false,
     "start_time": "2021-12-23T00:26:45.052280",
     "status": "completed"
    },
    "tags": []
   },
   "outputs": [],
   "source": [
    "#hide\n",
    "\n",
    "# FETCH\n",
    "base_url = 'https://raw.githubusercontent.com/pratapvardhan/notebooks/master/covid19/'\n",
    "paths = {\n",
    "    'mapping': base_url + 'mapping_countries.csv',\n",
    "    'overview': base_url + 'overview.tpl'\n",
    "}"
   ]
  },
  {
   "cell_type": "code",
   "execution_count": 3,
   "id": "dynamic-saver",
   "metadata": {
    "execution": {
     "iopub.execute_input": "2021-12-23T00:26:45.160031Z",
     "iopub.status.busy": "2021-12-23T00:26:45.159505Z",
     "iopub.status.idle": "2021-12-23T00:26:45.162225Z",
     "shell.execute_reply": "2021-12-23T00:26:45.161781Z"
    },
    "papermill": {
     "duration": 0.041633,
     "end_time": "2021-12-23T00:26:45.162327",
     "exception": false,
     "start_time": "2021-12-23T00:26:45.120694",
     "status": "completed"
    },
    "tags": []
   },
   "outputs": [
    {
     "data": {
      "text/plain": [
       "'https://raw.githubusercontent.com/pratapvardhan/notebooks/master/covid19/mapping_countries.csv'"
      ]
     },
     "execution_count": 3,
     "metadata": {},
     "output_type": "execute_result"
    }
   ],
   "source": [
    "#hide\n",
    "paths['mapping']"
   ]
  },
  {
   "cell_type": "code",
   "execution_count": 4,
   "id": "urban-software",
   "metadata": {
    "execution": {
     "iopub.execute_input": "2021-12-23T00:26:45.228857Z",
     "iopub.status.busy": "2021-12-23T00:26:45.228329Z",
     "iopub.status.idle": "2021-12-23T00:26:45.231439Z",
     "shell.execute_reply": "2021-12-23T00:26:45.231838Z"
    },
    "papermill": {
     "duration": 0.038711,
     "end_time": "2021-12-23T00:26:45.231964",
     "exception": false,
     "start_time": "2021-12-23T00:26:45.193253",
     "status": "completed"
    },
    "tags": []
   },
   "outputs": [],
   "source": [
    "#hide\n",
    "def get_mappings(url):\n",
    "    df = pd.read_csv(url)\n",
    "    return {\n",
    "        'df': df,\n",
    "        'replace.country': dict(df.dropna(subset=['Name']).set_index('Country')['Name']),\n",
    "        'map.continent': dict(df.set_index('Name')['Continent'])\n",
    "    }"
   ]
  },
  {
   "cell_type": "code",
   "execution_count": 5,
   "id": "intimate-machinery",
   "metadata": {
    "execution": {
     "iopub.execute_input": "2021-12-23T00:26:45.298199Z",
     "iopub.status.busy": "2021-12-23T00:26:45.297668Z",
     "iopub.status.idle": "2021-12-23T00:26:45.353558Z",
     "shell.execute_reply": "2021-12-23T00:26:45.353977Z"
    },
    "papermill": {
     "duration": 0.091486,
     "end_time": "2021-12-23T00:26:45.354108",
     "exception": false,
     "start_time": "2021-12-23T00:26:45.262622",
     "status": "completed"
    },
    "tags": []
   },
   "outputs": [],
   "source": [
    "#hide\n",
    "mapping = get_mappings(paths['mapping'])"
   ]
  },
  {
   "cell_type": "code",
   "execution_count": 6,
   "id": "certified-tactics",
   "metadata": {
    "execution": {
     "iopub.execute_input": "2021-12-23T00:26:45.420442Z",
     "iopub.status.busy": "2021-12-23T00:26:45.419930Z",
     "iopub.status.idle": "2021-12-23T00:26:45.421971Z",
     "shell.execute_reply": "2021-12-23T00:26:45.421539Z"
    },
    "papermill": {
     "duration": 0.036989,
     "end_time": "2021-12-23T00:26:45.422072",
     "exception": false,
     "start_time": "2021-12-23T00:26:45.385083",
     "status": "completed"
    },
    "tags": []
   },
   "outputs": [],
   "source": [
    "#hide\n",
    "def get_template(path):\n",
    "    from urllib.parse import urlparse\n",
    "    if bool(urlparse(path).netloc):\n",
    "        from urllib.request import urlopen\n",
    "        return urlopen(path).read().decode('utf8')\n",
    "    return open(path).read()"
   ]
  },
  {
   "cell_type": "code",
   "execution_count": 7,
   "id": "realistic-blast",
   "metadata": {
    "execution": {
     "iopub.execute_input": "2021-12-23T00:26:45.487925Z",
     "iopub.status.busy": "2021-12-23T00:26:45.487432Z",
     "iopub.status.idle": "2021-12-23T00:26:45.489068Z",
     "shell.execute_reply": "2021-12-23T00:26:45.489455Z"
    },
    "papermill": {
     "duration": 0.036724,
     "end_time": "2021-12-23T00:26:45.489571",
     "exception": false,
     "start_time": "2021-12-23T00:26:45.452847",
     "status": "completed"
    },
    "tags": []
   },
   "outputs": [],
   "source": [
    "#hide\n",
    "def get_frame(name):\n",
    "    url = (\n",
    "        'https://raw.githubusercontent.com/CSSEGISandData/COVID-19/master/csse_covid_19_data/'\n",
    "        f'csse_covid_19_time_series/time_series_covid19_{name}_global.csv')\n",
    "    df = pd.read_csv(url)\n",
    "    # rename countries\n",
    "    df['Country/Region'] = df['Country/Region'].replace(mapping['replace.country'])\n",
    "    return df"
   ]
  },
  {
   "cell_type": "code",
   "execution_count": 8,
   "id": "affiliated-characterization",
   "metadata": {
    "execution": {
     "iopub.execute_input": "2021-12-23T00:26:45.556565Z",
     "iopub.status.busy": "2021-12-23T00:26:45.556018Z",
     "iopub.status.idle": "2021-12-23T00:26:45.559208Z",
     "shell.execute_reply": "2021-12-23T00:26:45.559602Z"
    },
    "papermill": {
     "duration": 0.03922,
     "end_time": "2021-12-23T00:26:45.559726",
     "exception": false,
     "start_time": "2021-12-23T00:26:45.520506",
     "status": "completed"
    },
    "tags": []
   },
   "outputs": [],
   "source": [
    "#hide\n",
    "def get_dates(df):\n",
    "    dt_cols = df.columns[~df.columns.isin(['Province/State', 'Country/Region', 'Lat', 'Long'])]\n",
    "    LAST_DATE_I = -1\n",
    "    # sometimes last column may be empty, then go backwards\n",
    "    for i in range(-1, -len(dt_cols), -1):\n",
    "        if not df[dt_cols[i]].fillna(0).eq(0).all():\n",
    "            LAST_DATE_I = i\n",
    "            break\n",
    "    return LAST_DATE_I, dt_cols"
   ]
  },
  {
   "cell_type": "code",
   "execution_count": 9,
   "id": "recent-optimization",
   "metadata": {
    "execution": {
     "iopub.execute_input": "2021-12-23T00:26:45.625054Z",
     "iopub.status.busy": "2021-12-23T00:26:45.624540Z",
     "iopub.status.idle": "2021-12-23T00:26:46.144719Z",
     "shell.execute_reply": "2021-12-23T00:26:46.143777Z"
    },
    "papermill": {
     "duration": 0.554513,
     "end_time": "2021-12-23T00:26:46.144840",
     "exception": false,
     "start_time": "2021-12-23T00:26:45.590327",
     "status": "completed"
    },
    "tags": []
   },
   "outputs": [],
   "source": [
    "#hide\n",
    "COL_REGION = 'Country/Region'\n",
    "# Confirmed, Recovered, Deaths\n",
    "df = get_frame('confirmed')\n",
    "# dft_: timeseries, dfc_: today country agg\n",
    "dft_cases = df\n",
    "dft_deaths = get_frame('deaths')\n",
    "dft_recovered = get_frame('recovered')\n",
    "LAST_DATE_I, dt_cols = get_dates(df)"
   ]
  },
  {
   "cell_type": "code",
   "execution_count": 10,
   "id": "absolute-copper",
   "metadata": {
    "execution": {
     "iopub.execute_input": "2021-12-23T00:26:46.211867Z",
     "iopub.status.busy": "2021-12-23T00:26:46.211365Z",
     "iopub.status.idle": "2021-12-23T00:26:46.213304Z",
     "shell.execute_reply": "2021-12-23T00:26:46.212882Z"
    },
    "papermill": {
     "duration": 0.037369,
     "end_time": "2021-12-23T00:26:46.213406",
     "exception": false,
     "start_time": "2021-12-23T00:26:46.176037",
     "status": "completed"
    },
    "tags": []
   },
   "outputs": [],
   "source": [
    "#hide\n",
    "LAST_DATE_I, dt_cols = get_dates(df)\n",
    "dt_today =dt_cols[LAST_DATE_I]\n",
    "# dt_5day = dt_cols[LAST_DATE_I - 5]\n",
    "dt_yday = dt_cols[LAST_DATE_I - 1]"
   ]
  },
  {
   "cell_type": "code",
   "execution_count": 11,
   "id": "restricted-sheriff",
   "metadata": {
    "execution": {
     "iopub.execute_input": "2021-12-23T00:26:46.284013Z",
     "iopub.status.busy": "2021-12-23T00:26:46.280694Z",
     "iopub.status.idle": "2021-12-23T00:26:46.288285Z",
     "shell.execute_reply": "2021-12-23T00:26:46.287401Z"
    },
    "papermill": {
     "duration": 0.044276,
     "end_time": "2021-12-23T00:26:46.288393",
     "exception": false,
     "start_time": "2021-12-23T00:26:46.244117",
     "status": "completed"
    },
    "tags": []
   },
   "outputs": [],
   "source": [
    "#hide\n",
    "dfc_cases = dft_cases.groupby(COL_REGION)[dt_today].sum()\n",
    "dfc_deaths = dft_deaths.groupby(COL_REGION)[dt_today].sum()\n",
    "# dfp_cases = dft_cases.groupby(COL_REGION)[dt_5day].sum()\n",
    "# dfp_deaths = dft_deaths.groupby(COL_REGION)[dt_5day].sum()\n",
    "dfp_cases = dft_cases.groupby(COL_REGION)[dt_yday].sum()\n",
    "dfp_deaths = dft_deaths.groupby(COL_REGION)[dt_yday].sum()"
   ]
  },
  {
   "cell_type": "code",
   "execution_count": 12,
   "id": "deluxe-hepatitis",
   "metadata": {
    "execution": {
     "iopub.execute_input": "2021-12-23T00:26:46.355696Z",
     "iopub.status.busy": "2021-12-23T00:26:46.355197Z",
     "iopub.status.idle": "2021-12-23T00:26:46.359236Z",
     "shell.execute_reply": "2021-12-23T00:26:46.358852Z"
    },
    "papermill": {
     "duration": 0.040018,
     "end_time": "2021-12-23T00:26:46.359338",
     "exception": false,
     "start_time": "2021-12-23T00:26:46.319320",
     "status": "completed"
    },
    "tags": []
   },
   "outputs": [],
   "source": [
    "#hide\n",
    "df_table = (pd.DataFrame(dict(Cases = dfc_cases, Deaths = dfc_deaths, PCases = dfp_cases, PDeaths = dfp_deaths))\n",
    "            .sort_values(by = ['Cases','Deaths'], ascending = [False, False])\n",
    "            .reset_index())"
   ]
  },
  {
   "cell_type": "code",
   "execution_count": 13,
   "id": "educational-chancellor",
   "metadata": {
    "execution": {
     "iopub.execute_input": "2021-12-23T00:26:46.433801Z",
     "iopub.status.busy": "2021-12-23T00:26:46.433280Z",
     "iopub.status.idle": "2021-12-23T00:26:46.445128Z",
     "shell.execute_reply": "2021-12-23T00:26:46.444713Z"
    },
    "papermill": {
     "duration": 0.055122,
     "end_time": "2021-12-23T00:26:46.445239",
     "exception": false,
     "start_time": "2021-12-23T00:26:46.390117",
     "status": "completed"
    },
    "tags": []
   },
   "outputs": [
    {
     "data": {
      "text/html": [
       "<div>\n",
       "<style scoped>\n",
       "    .dataframe tbody tr th:only-of-type {\n",
       "        vertical-align: middle;\n",
       "    }\n",
       "\n",
       "    .dataframe tbody tr th {\n",
       "        vertical-align: top;\n",
       "    }\n",
       "\n",
       "    .dataframe thead th {\n",
       "        text-align: right;\n",
       "    }\n",
       "</style>\n",
       "<table border=\"1\" class=\"dataframe\">\n",
       "  <thead>\n",
       "    <tr style=\"text-align: right;\">\n",
       "      <th></th>\n",
       "      <th>Country/Region</th>\n",
       "      <th>Cases</th>\n",
       "      <th>Deaths</th>\n",
       "      <th>PCases</th>\n",
       "      <th>PDeaths</th>\n",
       "      <th>Cases (+)</th>\n",
       "      <th>Deaths (+)</th>\n",
       "      <th>Fatality Rate</th>\n",
       "      <th>Continent</th>\n",
       "    </tr>\n",
       "  </thead>\n",
       "  <tbody>\n",
       "    <tr>\n",
       "      <th>0</th>\n",
       "      <td>US</td>\n",
       "      <td>51307613</td>\n",
       "      <td>810045</td>\n",
       "      <td>51129323</td>\n",
       "      <td>807952</td>\n",
       "      <td>178290</td>\n",
       "      <td>2093</td>\n",
       "      <td>1.58</td>\n",
       "      <td>North America</td>\n",
       "    </tr>\n",
       "    <tr>\n",
       "      <th>1</th>\n",
       "      <td>India</td>\n",
       "      <td>34758481</td>\n",
       "      <td>478325</td>\n",
       "      <td>34752164</td>\n",
       "      <td>478007</td>\n",
       "      <td>6317</td>\n",
       "      <td>318</td>\n",
       "      <td>1.38</td>\n",
       "      <td>Asia</td>\n",
       "    </tr>\n",
       "    <tr>\n",
       "      <th>2</th>\n",
       "      <td>Brazil</td>\n",
       "      <td>22219477</td>\n",
       "      <td>617948</td>\n",
       "      <td>22215856</td>\n",
       "      <td>617873</td>\n",
       "      <td>3621</td>\n",
       "      <td>75</td>\n",
       "      <td>2.78</td>\n",
       "      <td>South America</td>\n",
       "    </tr>\n",
       "    <tr>\n",
       "      <th>3</th>\n",
       "      <td>United Kingdom</td>\n",
       "      <td>11607864</td>\n",
       "      <td>147896</td>\n",
       "      <td>11518255</td>\n",
       "      <td>147723</td>\n",
       "      <td>89609</td>\n",
       "      <td>173</td>\n",
       "      <td>1.27</td>\n",
       "      <td>Europe</td>\n",
       "    </tr>\n",
       "    <tr>\n",
       "      <th>4</th>\n",
       "      <td>Russia</td>\n",
       "      <td>10089945</td>\n",
       "      <td>293329</td>\n",
       "      <td>10064290</td>\n",
       "      <td>292331</td>\n",
       "      <td>25655</td>\n",
       "      <td>998</td>\n",
       "      <td>2.91</td>\n",
       "      <td>Europe</td>\n",
       "    </tr>\n",
       "  </tbody>\n",
       "</table>\n",
       "</div>"
      ],
      "text/plain": [
       "   Country/Region     Cases  Deaths    PCases  PDeaths  Cases (+)  Deaths (+)  \\\n",
       "0              US  51307613  810045  51129323   807952     178290        2093   \n",
       "1           India  34758481  478325  34752164   478007       6317         318   \n",
       "2          Brazil  22219477  617948  22215856   617873       3621          75   \n",
       "3  United Kingdom  11607864  147896  11518255   147723      89609         173   \n",
       "4          Russia  10089945  293329  10064290   292331      25655         998   \n",
       "\n",
       "   Fatality Rate      Continent  \n",
       "0           1.58  North America  \n",
       "1           1.38           Asia  \n",
       "2           2.78  South America  \n",
       "3           1.27         Europe  \n",
       "4           2.91         Europe  "
      ]
     },
     "execution_count": 13,
     "metadata": {},
     "output_type": "execute_result"
    }
   ],
   "source": [
    "#hide\n",
    "for c in 'Cases, Deaths'.split(', '):\n",
    "    df_table[f'{c} (+)'] = (df_table[c] - df_table[f'P{c}']).clip(0)\n",
    "    #Clip ça veut dire, les chiffres negatif sont interdit\n",
    "df_table['Fatality Rate'] = (100* df_table['Deaths']/ df_table['Cases']).round(2)\n",
    "df_table['Continent'] = df_table['Country/Region'].map(mapping['map.continent'])\n",
    "df_table.head(5)"
   ]
  },
  {
   "cell_type": "code",
   "execution_count": 14,
   "id": "aboriginal-bulgaria",
   "metadata": {
    "execution": {
     "iopub.execute_input": "2021-12-23T00:26:46.513466Z",
     "iopub.status.busy": "2021-12-23T00:26:46.512944Z",
     "iopub.status.idle": "2021-12-23T00:26:46.514529Z",
     "shell.execute_reply": "2021-12-23T00:26:46.514942Z"
    },
    "papermill": {
     "duration": 0.038399,
     "end_time": "2021-12-23T00:26:46.515061",
     "exception": false,
     "start_time": "2021-12-23T00:26:46.476662",
     "status": "completed"
    },
    "tags": []
   },
   "outputs": [],
   "source": [
    "#hide\n",
    "#delete problematic countries from table\n",
    "df_table = df_table[~df_table['Country/Region'].isin(['Cape Verde', 'Cruise Ship', 'Kosovo'])]"
   ]
  },
  {
   "cell_type": "code",
   "execution_count": 15,
   "id": "fantastic-effect",
   "metadata": {
    "execution": {
     "iopub.execute_input": "2021-12-23T00:26:46.583820Z",
     "iopub.status.busy": "2021-12-23T00:26:46.583307Z",
     "iopub.status.idle": "2021-12-23T00:26:46.601635Z",
     "shell.execute_reply": "2021-12-23T00:26:46.601220Z"
    },
    "papermill": {
     "duration": 0.055613,
     "end_time": "2021-12-23T00:26:46.601736",
     "exception": false,
     "start_time": "2021-12-23T00:26:46.546123",
     "status": "completed"
    },
    "tags": []
   },
   "outputs": [
    {
     "data": {
      "text/html": [
       "<div>\n",
       "<style scoped>\n",
       "    .dataframe tbody tr th:only-of-type {\n",
       "        vertical-align: middle;\n",
       "    }\n",
       "\n",
       "    .dataframe tbody tr th {\n",
       "        vertical-align: top;\n",
       "    }\n",
       "\n",
       "    .dataframe thead th {\n",
       "        text-align: right;\n",
       "    }\n",
       "</style>\n",
       "<table border=\"1\" class=\"dataframe\">\n",
       "  <thead>\n",
       "    <tr style=\"text-align: right;\">\n",
       "      <th></th>\n",
       "      <th>Country/Region</th>\n",
       "      <th>Cases</th>\n",
       "      <th>Deaths</th>\n",
       "      <th>PCases</th>\n",
       "      <th>PDeaths</th>\n",
       "      <th>Cases (+)</th>\n",
       "      <th>Deaths (+)</th>\n",
       "      <th>Fatality Rate</th>\n",
       "      <th>Continent</th>\n",
       "    </tr>\n",
       "  </thead>\n",
       "  <tbody>\n",
       "    <tr>\n",
       "      <th>0</th>\n",
       "      <td>US</td>\n",
       "      <td>51307613</td>\n",
       "      <td>810045</td>\n",
       "      <td>51129323</td>\n",
       "      <td>807952</td>\n",
       "      <td>178290</td>\n",
       "      <td>2093</td>\n",
       "      <td>1.6</td>\n",
       "      <td>North America</td>\n",
       "    </tr>\n",
       "    <tr>\n",
       "      <th>1</th>\n",
       "      <td>India</td>\n",
       "      <td>34758481</td>\n",
       "      <td>478325</td>\n",
       "      <td>34752164</td>\n",
       "      <td>478007</td>\n",
       "      <td>6317</td>\n",
       "      <td>318</td>\n",
       "      <td>1.4</td>\n",
       "      <td>Asia</td>\n",
       "    </tr>\n",
       "    <tr>\n",
       "      <th>2</th>\n",
       "      <td>Brazil</td>\n",
       "      <td>22219477</td>\n",
       "      <td>617948</td>\n",
       "      <td>22215856</td>\n",
       "      <td>617873</td>\n",
       "      <td>3621</td>\n",
       "      <td>75</td>\n",
       "      <td>2.8</td>\n",
       "      <td>South America</td>\n",
       "    </tr>\n",
       "    <tr>\n",
       "      <th>3</th>\n",
       "      <td>United Kingdom</td>\n",
       "      <td>11607864</td>\n",
       "      <td>147896</td>\n",
       "      <td>11518255</td>\n",
       "      <td>147723</td>\n",
       "      <td>89609</td>\n",
       "      <td>173</td>\n",
       "      <td>1.3</td>\n",
       "      <td>Europe</td>\n",
       "    </tr>\n",
       "    <tr>\n",
       "      <th>4</th>\n",
       "      <td>Russia</td>\n",
       "      <td>10089945</td>\n",
       "      <td>293329</td>\n",
       "      <td>10064290</td>\n",
       "      <td>292331</td>\n",
       "      <td>25655</td>\n",
       "      <td>998</td>\n",
       "      <td>2.9</td>\n",
       "      <td>Europe</td>\n",
       "    </tr>\n",
       "  </tbody>\n",
       "</table>\n",
       "</div>"
      ],
      "text/plain": [
       "   Country/Region     Cases  Deaths    PCases  PDeaths  Cases (+)  Deaths (+)  \\\n",
       "0              US  51307613  810045  51129323   807952     178290        2093   \n",
       "1           India  34758481  478325  34752164   478007       6317         318   \n",
       "2          Brazil  22219477  617948  22215856   617873       3621          75   \n",
       "3  United Kingdom  11607864  147896  11518255   147723      89609         173   \n",
       "4          Russia  10089945  293329  10064290   292331      25655         998   \n",
       "\n",
       "   Fatality Rate      Continent  \n",
       "0            1.6  North America  \n",
       "1            1.4           Asia  \n",
       "2            2.8  South America  \n",
       "3            1.3         Europe  \n",
       "4            2.9         Europe  "
      ]
     },
     "execution_count": 15,
     "metadata": {},
     "output_type": "execute_result"
    }
   ],
   "source": [
    "#hide\n",
    "df_table = (pd.DataFrame(dict(Cases=dfc_cases, Deaths=dfc_deaths, PCases=dfp_cases, PDeaths=dfp_deaths))\n",
    "             .sort_values(by=['Cases', 'Deaths'], ascending=[False, False])\n",
    "             .reset_index())\n",
    "df_table.rename(columns={'index': 'Country/Region'}, inplace=True)\n",
    "for c in 'Cases, Deaths'.split(', '):\n",
    "    df_table[f'{c} (+)'] = (df_table[c] - df_table[f'P{c}']).clip(0)  # DATA BUG\n",
    "df_table['Fatality Rate'] = (100 * df_table['Deaths'] / df_table['Cases']).round(1)\n",
    "df_table['Continent'] = df_table['Country/Region'].map(mapping['map.continent'])\n",
    "df_table.head(5)"
   ]
  },
  {
   "cell_type": "code",
   "execution_count": 16,
   "id": "fewer-occasion",
   "metadata": {
    "execution": {
     "iopub.execute_input": "2021-12-23T00:26:46.670147Z",
     "iopub.status.busy": "2021-12-23T00:26:46.669590Z",
     "iopub.status.idle": "2021-12-23T00:26:46.671790Z",
     "shell.execute_reply": "2021-12-23T00:26:46.671381Z"
    },
    "papermill": {
     "duration": 0.038348,
     "end_time": "2021-12-23T00:26:46.671895",
     "exception": false,
     "start_time": "2021-12-23T00:26:46.633547",
     "status": "completed"
    },
    "tags": []
   },
   "outputs": [],
   "source": [
    "#hide\n",
    "#delete problematic countries from table\n",
    "df_table = df_table[~df_table['Country/Region'].isin(['Cape Verde', 'Cruise Ship', 'Kosovo'])]"
   ]
  },
  {
   "cell_type": "code",
   "execution_count": 17,
   "id": "related-center",
   "metadata": {
    "execution": {
     "iopub.execute_input": "2021-12-23T00:26:46.754759Z",
     "iopub.status.busy": "2021-12-23T00:26:46.754237Z",
     "iopub.status.idle": "2021-12-23T00:26:46.756587Z",
     "shell.execute_reply": "2021-12-23T00:26:46.756153Z"
    },
    "papermill": {
     "duration": 0.053165,
     "end_time": "2021-12-23T00:26:46.756693",
     "exception": false,
     "start_time": "2021-12-23T00:26:46.703528",
     "status": "completed"
    },
    "tags": []
   },
   "outputs": [],
   "source": [
    "#hide\n",
    "metrics = [df_table.columns[index] for index in [1,2,5,6]]\n",
    "# s_china = df_table[df_table['Country/Region'].eq('China')][metrics].sum().add_prefix('China ')\n",
    "s_us = df_table[df_table['Country/Region'].eq('US')][metrics].sum().add_prefix('US ')\n",
    "s_eu = df_table[df_table['Continent'].eq('Europe')][metrics].sum().add_prefix('EU ')\n",
    "s_ind = df_table[df_table['Country/Region'].eq('India')][metrics].sum().add_prefix('India ')\n",
    "summary = {'updated': pd.to_datetime(dt_today), 'since': pd.to_datetime(dt_yday)}\n",
    "summary = {'updated': pd.to_datetime(dt_today), 'since': pd.to_datetime(dt_yday)}\n",
    "summary = {**summary, **df_table[metrics].sum(), **s_ind, **s_us, **s_eu}"
   ]
  },
  {
   "cell_type": "code",
   "execution_count": 18,
   "id": "engaging-syndrome",
   "metadata": {
    "execution": {
     "iopub.execute_input": "2021-12-23T00:26:46.824685Z",
     "iopub.status.busy": "2021-12-23T00:26:46.824190Z",
     "iopub.status.idle": "2021-12-23T00:26:46.836171Z",
     "shell.execute_reply": "2021-12-23T00:26:46.836541Z"
    },
    "papermill": {
     "duration": 0.048223,
     "end_time": "2021-12-23T00:26:46.836665",
     "exception": false,
     "start_time": "2021-12-23T00:26:46.788442",
     "status": "completed"
    },
    "tags": []
   },
   "outputs": [],
   "source": [
    "#hide\n",
    "dft_ct_new_cases = dft_cases.groupby(COL_REGION)[dt_cols].sum().diff(axis=1).fillna(0).astype(int)"
   ]
  },
  {
   "cell_type": "code",
   "execution_count": 19,
   "id": "neutral-assignment",
   "metadata": {
    "execution": {
     "iopub.execute_input": "2021-12-23T00:26:46.904773Z",
     "iopub.status.busy": "2021-12-23T00:26:46.904261Z",
     "iopub.status.idle": "2021-12-23T00:26:46.906126Z",
     "shell.execute_reply": "2021-12-23T00:26:46.905634Z"
    },
    "papermill": {
     "duration": 0.037969,
     "end_time": "2021-12-23T00:26:46.906225",
     "exception": false,
     "start_time": "2021-12-23T00:26:46.868256",
     "status": "completed"
    },
    "tags": []
   },
   "outputs": [],
   "source": [
    "#hide\n",
    "everydaycases = dft_ct_new_cases.cumsum(axis=1)"
   ]
  },
  {
   "cell_type": "code",
   "execution_count": 20,
   "id": "parliamentary-calgary",
   "metadata": {
    "execution": {
     "iopub.execute_input": "2021-12-23T00:26:46.973748Z",
     "iopub.status.busy": "2021-12-23T00:26:46.973247Z",
     "iopub.status.idle": "2021-12-23T00:26:47.562740Z",
     "shell.execute_reply": "2021-12-23T00:26:47.562300Z"
    },
    "papermill": {
     "duration": 0.624812,
     "end_time": "2021-12-23T00:26:47.562858",
     "exception": false,
     "start_time": "2021-12-23T00:26:46.938046",
     "status": "completed"
    },
    "tags": []
   },
   "outputs": [],
   "source": [
    "#hide\n",
    "import pandas as pd\n",
    "import matplotlib.pyplot as plt\n",
    "import matplotlib.ticker as ticker\n",
    "import matplotlib.animation as animation\n",
    "from IPython.display import HTML"
   ]
  },
  {
   "cell_type": "code",
   "execution_count": 21,
   "id": "lasting-extraction",
   "metadata": {
    "execution": {
     "iopub.execute_input": "2021-12-23T00:26:47.632207Z",
     "iopub.status.busy": "2021-12-23T00:26:47.631700Z",
     "iopub.status.idle": "2021-12-23T00:26:47.638617Z",
     "shell.execute_reply": "2021-12-23T00:26:47.638189Z"
    },
    "papermill": {
     "duration": 0.043023,
     "end_time": "2021-12-23T00:26:47.638728",
     "exception": false,
     "start_time": "2021-12-23T00:26:47.595705",
     "status": "completed"
    },
    "tags": []
   },
   "outputs": [],
   "source": [
    "#hide\n",
    "t = everydaycases.stack()"
   ]
  },
  {
   "cell_type": "code",
   "execution_count": 22,
   "id": "premier-sleeve",
   "metadata": {
    "execution": {
     "iopub.execute_input": "2021-12-23T00:26:47.705643Z",
     "iopub.status.busy": "2021-12-23T00:26:47.705137Z",
     "iopub.status.idle": "2021-12-23T00:26:47.713935Z",
     "shell.execute_reply": "2021-12-23T00:26:47.713499Z"
    },
    "papermill": {
     "duration": 0.043528,
     "end_time": "2021-12-23T00:26:47.714044",
     "exception": false,
     "start_time": "2021-12-23T00:26:47.670516",
     "status": "completed"
    },
    "tags": []
   },
   "outputs": [],
   "source": [
    "#hide\n",
    "g = t.reset_index(['Country/Region'])"
   ]
  },
  {
   "cell_type": "code",
   "execution_count": 23,
   "id": "distributed-pittsburgh",
   "metadata": {
    "execution": {
     "iopub.execute_input": "2021-12-23T00:26:47.780631Z",
     "iopub.status.busy": "2021-12-23T00:26:47.780106Z",
     "iopub.status.idle": "2021-12-23T00:26:47.782147Z",
     "shell.execute_reply": "2021-12-23T00:26:47.781628Z"
    },
    "papermill": {
     "duration": 0.036658,
     "end_time": "2021-12-23T00:26:47.782250",
     "exception": false,
     "start_time": "2021-12-23T00:26:47.745592",
     "status": "completed"
    },
    "tags": []
   },
   "outputs": [],
   "source": [
    "#hide\n",
    "g.index.name = 'date'"
   ]
  },
  {
   "cell_type": "code",
   "execution_count": 24,
   "id": "naked-donor",
   "metadata": {
    "execution": {
     "iopub.execute_input": "2021-12-23T00:26:47.849021Z",
     "iopub.status.busy": "2021-12-23T00:26:47.848480Z",
     "iopub.status.idle": "2021-12-23T00:26:47.851626Z",
     "shell.execute_reply": "2021-12-23T00:26:47.852006Z"
    },
    "papermill": {
     "duration": 0.038143,
     "end_time": "2021-12-23T00:26:47.852128",
     "exception": false,
     "start_time": "2021-12-23T00:26:47.813985",
     "status": "completed"
    },
    "tags": []
   },
   "outputs": [],
   "source": [
    "# #hide\n",
    "# g = g.reset_index(['date'])"
   ]
  },
  {
   "cell_type": "code",
   "execution_count": 25,
   "id": "incomplete-mustang",
   "metadata": {
    "execution": {
     "iopub.execute_input": "2021-12-23T00:26:47.918338Z",
     "iopub.status.busy": "2021-12-23T00:26:47.917841Z",
     "iopub.status.idle": "2021-12-23T00:26:47.919330Z",
     "shell.execute_reply": "2021-12-23T00:26:47.919709Z"
    },
    "papermill": {
     "duration": 0.036108,
     "end_time": "2021-12-23T00:26:47.919824",
     "exception": false,
     "start_time": "2021-12-23T00:26:47.883716",
     "status": "completed"
    },
    "tags": []
   },
   "outputs": [],
   "source": [
    "#hide\n",
    "# g.head()"
   ]
  },
  {
   "cell_type": "code",
   "execution_count": 26,
   "id": "specific-kruger",
   "metadata": {
    "execution": {
     "iopub.execute_input": "2021-12-23T00:26:47.986295Z",
     "iopub.status.busy": "2021-12-23T00:26:47.985768Z",
     "iopub.status.idle": "2021-12-23T00:26:47.987330Z",
     "shell.execute_reply": "2021-12-23T00:26:47.987694Z"
    },
    "papermill": {
     "duration": 0.036361,
     "end_time": "2021-12-23T00:26:47.987805",
     "exception": false,
     "start_time": "2021-12-23T00:26:47.951444",
     "status": "completed"
    },
    "tags": []
   },
   "outputs": [],
   "source": [
    "#hide\n",
    "# g.columns = ['date','country','cases']"
   ]
  },
  {
   "cell_type": "code",
   "execution_count": 27,
   "id": "tender-conversion",
   "metadata": {
    "execution": {
     "iopub.execute_input": "2021-12-23T00:26:48.053697Z",
     "iopub.status.busy": "2021-12-23T00:26:48.053185Z",
     "iopub.status.idle": "2021-12-23T00:26:48.056129Z",
     "shell.execute_reply": "2021-12-23T00:26:48.056504Z"
    },
    "papermill": {
     "duration": 0.037397,
     "end_time": "2021-12-23T00:26:48.056623",
     "exception": false,
     "start_time": "2021-12-23T00:26:48.019226",
     "status": "completed"
    },
    "tags": []
   },
   "outputs": [],
   "source": [
    "#hide\n",
    "# g['continent'] = g.country"
   ]
  },
  {
   "cell_type": "code",
   "execution_count": 28,
   "id": "substantial-wilderness",
   "metadata": {
    "execution": {
     "iopub.execute_input": "2021-12-23T00:26:48.123156Z",
     "iopub.status.busy": "2021-12-23T00:26:48.122633Z",
     "iopub.status.idle": "2021-12-23T00:26:48.124300Z",
     "shell.execute_reply": "2021-12-23T00:26:48.123833Z"
    },
    "papermill": {
     "duration": 0.036138,
     "end_time": "2021-12-23T00:26:48.124396",
     "exception": false,
     "start_time": "2021-12-23T00:26:48.088258",
     "status": "completed"
    },
    "tags": []
   },
   "outputs": [],
   "source": [
    "#hide\n",
    "# cols = list(g.columns.values)"
   ]
  },
  {
   "cell_type": "code",
   "execution_count": 29,
   "id": "solved-farming",
   "metadata": {
    "execution": {
     "iopub.execute_input": "2021-12-23T00:26:48.190914Z",
     "iopub.status.busy": "2021-12-23T00:26:48.190384Z",
     "iopub.status.idle": "2021-12-23T00:26:48.192438Z",
     "shell.execute_reply": "2021-12-23T00:26:48.192005Z"
    },
    "papermill": {
     "duration": 0.036462,
     "end_time": "2021-12-23T00:26:48.192539",
     "exception": false,
     "start_time": "2021-12-23T00:26:48.156077",
     "status": "completed"
    },
    "tags": []
   },
   "outputs": [],
   "source": [
    "#hide\n",
    "# cols.insert(0, cols.pop())"
   ]
  },
  {
   "cell_type": "code",
   "execution_count": 30,
   "id": "executed-adoption",
   "metadata": {
    "execution": {
     "iopub.execute_input": "2021-12-23T00:26:48.259205Z",
     "iopub.status.busy": "2021-12-23T00:26:48.258658Z",
     "iopub.status.idle": "2021-12-23T00:26:48.260721Z",
     "shell.execute_reply": "2021-12-23T00:26:48.260294Z"
    },
    "papermill": {
     "duration": 0.036512,
     "end_time": "2021-12-23T00:26:48.260825",
     "exception": false,
     "start_time": "2021-12-23T00:26:48.224313",
     "status": "completed"
    },
    "tags": []
   },
   "outputs": [],
   "source": [
    "#hide\n",
    "# g = g[cols]"
   ]
  },
  {
   "cell_type": "code",
   "execution_count": 31,
   "id": "subject-dublin",
   "metadata": {
    "execution": {
     "iopub.execute_input": "2021-12-23T00:26:48.327247Z",
     "iopub.status.busy": "2021-12-23T00:26:48.326742Z",
     "iopub.status.idle": "2021-12-23T00:26:48.328221Z",
     "shell.execute_reply": "2021-12-23T00:26:48.328603Z"
    },
    "papermill": {
     "duration": 0.03625,
     "end_time": "2021-12-23T00:26:48.328713",
     "exception": false,
     "start_time": "2021-12-23T00:26:48.292463",
     "status": "completed"
    },
    "tags": []
   },
   "outputs": [],
   "source": [
    "#hide\n",
    "# g['continent'] = g['continent'].map(mapping['map.continent'])"
   ]
  },
  {
   "cell_type": "code",
   "execution_count": 32,
   "id": "freelance-scout",
   "metadata": {
    "execution": {
     "iopub.execute_input": "2021-12-23T00:26:48.394945Z",
     "iopub.status.busy": "2021-12-23T00:26:48.394431Z",
     "iopub.status.idle": "2021-12-23T00:26:48.396240Z",
     "shell.execute_reply": "2021-12-23T00:26:48.395770Z"
    },
    "papermill": {
     "duration": 0.036011,
     "end_time": "2021-12-23T00:26:48.396340",
     "exception": false,
     "start_time": "2021-12-23T00:26:48.360329",
     "status": "completed"
    },
    "tags": []
   },
   "outputs": [],
   "source": [
    "#hide\n",
    "# g.head()"
   ]
  },
  {
   "cell_type": "code",
   "execution_count": 33,
   "id": "limited-engine",
   "metadata": {
    "execution": {
     "iopub.execute_input": "2021-12-23T00:26:48.462432Z",
     "iopub.status.busy": "2021-12-23T00:26:48.461913Z",
     "iopub.status.idle": "2021-12-23T00:26:48.464007Z",
     "shell.execute_reply": "2021-12-23T00:26:48.463589Z"
    },
    "papermill": {
     "duration": 0.03628,
     "end_time": "2021-12-23T00:26:48.464112",
     "exception": false,
     "start_time": "2021-12-23T00:26:48.427832",
     "status": "completed"
    },
    "tags": []
   },
   "outputs": [],
   "source": [
    "# hide\n",
    "# g['date'] = g['date'].astype('datetime64[ns]')"
   ]
  },
  {
   "cell_type": "code",
   "execution_count": 34,
   "id": "sophisticated-supervisor",
   "metadata": {
    "execution": {
     "iopub.execute_input": "2021-12-23T00:26:48.530587Z",
     "iopub.status.busy": "2021-12-23T00:26:48.530075Z",
     "iopub.status.idle": "2021-12-23T00:26:48.533060Z",
     "shell.execute_reply": "2021-12-23T00:26:48.533459Z"
    },
    "papermill": {
     "duration": 0.03763,
     "end_time": "2021-12-23T00:26:48.533585",
     "exception": false,
     "start_time": "2021-12-23T00:26:48.495955",
     "status": "completed"
    },
    "tags": []
   },
   "outputs": [],
   "source": [
    "#hide\n",
    "# g['date'] = g.date.dt.dayofyear"
   ]
  },
  {
   "cell_type": "code",
   "execution_count": 35,
   "id": "inside-dubai",
   "metadata": {
    "execution": {
     "iopub.execute_input": "2021-12-23T00:26:48.599669Z",
     "iopub.status.busy": "2021-12-23T00:26:48.599151Z",
     "iopub.status.idle": "2021-12-23T00:26:48.601150Z",
     "shell.execute_reply": "2021-12-23T00:26:48.600744Z"
    },
    "papermill": {
     "duration": 0.036084,
     "end_time": "2021-12-23T00:26:48.601248",
     "exception": false,
     "start_time": "2021-12-23T00:26:48.565164",
     "status": "completed"
    },
    "tags": []
   },
   "outputs": [],
   "source": [
    "#hide\n",
    "# g = g.rename(columns= {'continent':'group','country':'name','cases':'value'})"
   ]
  },
  {
   "cell_type": "code",
   "execution_count": 36,
   "id": "fleet-motorcycle",
   "metadata": {
    "execution": {
     "iopub.execute_input": "2021-12-23T00:26:48.668662Z",
     "iopub.status.busy": "2021-12-23T00:26:48.668144Z",
     "iopub.status.idle": "2021-12-23T00:26:48.670072Z",
     "shell.execute_reply": "2021-12-23T00:26:48.669668Z"
    },
    "papermill": {
     "duration": 0.036492,
     "end_time": "2021-12-23T00:26:48.670173",
     "exception": false,
     "start_time": "2021-12-23T00:26:48.633681",
     "status": "completed"
    },
    "tags": []
   },
   "outputs": [],
   "source": [
    "#hide\n",
    "# cols = ['name','group','day','value']"
   ]
  },
  {
   "cell_type": "code",
   "execution_count": 37,
   "id": "continued-sleeping",
   "metadata": {
    "execution": {
     "iopub.execute_input": "2021-12-23T00:26:48.736406Z",
     "iopub.status.busy": "2021-12-23T00:26:48.735881Z",
     "iopub.status.idle": "2021-12-23T00:26:48.739046Z",
     "shell.execute_reply": "2021-12-23T00:26:48.739439Z"
    },
    "papermill": {
     "duration": 0.037972,
     "end_time": "2021-12-23T00:26:48.739565",
     "exception": false,
     "start_time": "2021-12-23T00:26:48.701593",
     "status": "completed"
    },
    "tags": []
   },
   "outputs": [],
   "source": [
    "#hide\n",
    "# g.rename(columns= {'date':'day'},inplace = True)"
   ]
  },
  {
   "cell_type": "code",
   "execution_count": 38,
   "id": "major-fight",
   "metadata": {
    "execution": {
     "iopub.execute_input": "2021-12-23T00:26:48.806021Z",
     "iopub.status.busy": "2021-12-23T00:26:48.805416Z",
     "iopub.status.idle": "2021-12-23T00:26:48.807090Z",
     "shell.execute_reply": "2021-12-23T00:26:48.807470Z"
    },
    "papermill": {
     "duration": 0.036363,
     "end_time": "2021-12-23T00:26:48.807594",
     "exception": false,
     "start_time": "2021-12-23T00:26:48.771231",
     "status": "completed"
    },
    "tags": []
   },
   "outputs": [],
   "source": [
    "#hide\n",
    "# g = g[cols]"
   ]
  },
  {
   "cell_type": "code",
   "execution_count": 39,
   "id": "structured-mobile",
   "metadata": {
    "execution": {
     "iopub.execute_input": "2021-12-23T00:26:48.873860Z",
     "iopub.status.busy": "2021-12-23T00:26:48.873303Z",
     "iopub.status.idle": "2021-12-23T00:26:48.875217Z",
     "shell.execute_reply": "2021-12-23T00:26:48.874750Z"
    },
    "papermill": {
     "duration": 0.036164,
     "end_time": "2021-12-23T00:26:48.875313",
     "exception": false,
     "start_time": "2021-12-23T00:26:48.839149",
     "status": "completed"
    },
    "tags": []
   },
   "outputs": [],
   "source": [
    "# #hide\n",
    "# g = g[g.group.notna()]"
   ]
  },
  {
   "cell_type": "code",
   "execution_count": 40,
   "id": "determined-closing",
   "metadata": {
    "execution": {
     "iopub.execute_input": "2021-12-23T00:26:48.941700Z",
     "iopub.status.busy": "2021-12-23T00:26:48.941195Z",
     "iopub.status.idle": "2021-12-23T00:26:48.942910Z",
     "shell.execute_reply": "2021-12-23T00:26:48.943291Z"
    },
    "papermill": {
     "duration": 0.036225,
     "end_time": "2021-12-23T00:26:48.943402",
     "exception": false,
     "start_time": "2021-12-23T00:26:48.907177",
     "status": "completed"
    },
    "tags": []
   },
   "outputs": [],
   "source": [
    "# #hide\n",
    "# colors = dict(zip(\n",
    "#     [\"Oceania\", \"Europe\", \"Asia\", \"South America\", \"Middle East\", \"North America\", \"Africa\"],\n",
    "#     [\"#adb0ff\", \"#ffb3ff\", \"#90d595\", \"#e48381\", \"#aafbff\", \"#f7bb5f\", \"#eafb50\"]\n",
    "# ))\n",
    "# group_lk = g.set_index('name')['group'].to_dict()"
   ]
  },
  {
   "cell_type": "code",
   "execution_count": null,
   "id": "gross-drinking",
   "metadata": {
    "papermill": {
     "duration": 0.031708,
     "end_time": "2021-12-23T00:26:49.006569",
     "exception": false,
     "start_time": "2021-12-23T00:26:48.974861",
     "status": "completed"
    },
    "tags": []
   },
   "outputs": [],
   "source": []
  },
  {
   "cell_type": "code",
   "execution_count": 41,
   "id": "subject-macintosh",
   "metadata": {
    "execution": {
     "iopub.execute_input": "2021-12-23T00:26:49.073024Z",
     "iopub.status.busy": "2021-12-23T00:26:49.072503Z",
     "iopub.status.idle": "2021-12-23T00:26:49.075467Z",
     "shell.execute_reply": "2021-12-23T00:26:49.075847Z"
    },
    "papermill": {
     "duration": 0.037879,
     "end_time": "2021-12-23T00:26:49.075963",
     "exception": false,
     "start_time": "2021-12-23T00:26:49.038084",
     "status": "completed"
    },
    "tags": []
   },
   "outputs": [],
   "source": [
    "# #hide\n",
    "# fig, ax = plt.subplots(figsize=(15, 8))\n",
    "\n",
    "# def draw_barchart(current_day):\n",
    "#     dff = g[g['day'].eq(current_day)].sort_values(by='value', ascending=True).tail(10)\n",
    "#     ax.clear()\n",
    "#     ax.barh(dff['name'], dff['value'], color=[colors[group_lk[x]] for x in dff['name']])\n",
    "#     dx = dff['value'].max() / 200\n",
    "    \n",
    "#     for i, (value, name) in enumerate(zip(dff['value'], dff['name'])):\n",
    "#         ax.text(value-dx, i,     name,           size=14, weight=600, ha='right', va='bottom')\n",
    "#         ax.text(value-dx, i-.25, group_lk[name], size=10, color='#444444', ha='right', va='baseline')\n",
    "#         ax.text(value+dx, i,     f'{value:,.0f}',  size=14, ha='left',  va='center')\n",
    "#     ax.text(1, 0.4, current_day, transform=ax.transAxes, color='#777777', size=46, ha='right', weight=800)\n",
    "#     ax.text(0, 1.06, 'Population (thousands)', transform=ax.transAxes, size=12, color='#777777')\n",
    "#     ax.xaxis.set_major_formatter(ticker.StrMethodFormatter('{x:,.0f}'))\n",
    "#     ax.xaxis.set_ticks_position('top')\n",
    "#     ax.tick_params(axis='x', colors='#777777', labelsize=12)\n",
    "#     ax.set_yticks([])\n",
    "#     ax.margins(0, 0.01)\n",
    "#     ax.grid(which='major', axis='x', linestyle='-')\n",
    "#     ax.set_axisbelow(True)\n",
    "    \n",
    "#     ax.text(0, 1.15, 'Coronavirus',\n",
    "#             transform=ax.transAxes, size=24, weight=600, ha='left', va='top')\n",
    "# #     ax.text(1, 0, 'by @pratapvardhan; credit @jburnmurdoch', transform=ax.transAxes, color='#777777', ha='right',\n",
    "# #             bbox=dict(facecolor='white', alpha=0.8, edgecolor='white'))\n",
    "#     plt.box(False)"
   ]
  },
  {
   "cell_type": "code",
   "execution_count": 42,
   "id": "sexual-wages",
   "metadata": {
    "execution": {
     "iopub.execute_input": "2021-12-23T00:26:49.142123Z",
     "iopub.status.busy": "2021-12-23T00:26:49.141581Z",
     "iopub.status.idle": "2021-12-23T00:26:49.143349Z",
     "shell.execute_reply": "2021-12-23T00:26:49.142882Z"
    },
    "papermill": {
     "duration": 0.035971,
     "end_time": "2021-12-23T00:26:49.143446",
     "exception": false,
     "start_time": "2021-12-23T00:26:49.107475",
     "status": "completed"
    },
    "tags": []
   },
   "outputs": [],
   "source": [
    "# #hide_input\n",
    "# fig, ax = plt.subplots(figsize=(15, 8))\n",
    "# animator = animation.FuncAnimation(fig, draw_barchart, frames=range(g.day.values.min(), g.day.values.max()))\n",
    "# HTML(animator.to_jshtml())\n",
    "# # or use animator.to_html5_video() or animator.save() "
   ]
  },
  {
   "cell_type": "code",
   "execution_count": null,
   "id": "australian-container",
   "metadata": {
    "papermill": {
     "duration": 0.031441,
     "end_time": "2021-12-23T00:26:49.206532",
     "exception": false,
     "start_time": "2021-12-23T00:26:49.175091",
     "status": "completed"
    },
    "tags": []
   },
   "outputs": [],
   "source": []
  },
  {
   "cell_type": "code",
   "execution_count": null,
   "id": "mediterranean-pontiac",
   "metadata": {
    "papermill": {
     "duration": 0.031306,
     "end_time": "2021-12-23T00:26:49.269236",
     "exception": false,
     "start_time": "2021-12-23T00:26:49.237930",
     "status": "completed"
    },
    "tags": []
   },
   "outputs": [],
   "source": []
  },
  {
   "cell_type": "code",
   "execution_count": null,
   "id": "aging-legislature",
   "metadata": {
    "papermill": {
     "duration": 0.031471,
     "end_time": "2021-12-23T00:26:49.332482",
     "exception": false,
     "start_time": "2021-12-23T00:26:49.301011",
     "status": "completed"
    },
    "tags": []
   },
   "outputs": [],
   "source": []
  }
 ],
 "metadata": {
  "kernelspec": {
   "display_name": "Python 3",
   "language": "python",
   "name": "python3"
  },
  "language_info": {
   "codemirror_mode": {
    "name": "ipython",
    "version": 3
   },
   "file_extension": ".py",
   "mimetype": "text/x-python",
   "name": "python",
   "nbconvert_exporter": "python",
   "pygments_lexer": "ipython3",
   "version": "3.6.15"
  },
  "papermill": {
   "duration": 5.988125,
   "end_time": "2021-12-23T00:26:49.670271",
   "environment_variables": {},
   "exception": null,
   "input_path": "2020-03-21-covid19exp.ipynb",
   "output_path": "2020-03-21-covid19exp.ipynb",
   "parameters": {},
   "start_time": "2021-12-23T00:26:43.682146",
   "version": "2.0.0"
  }
 },
 "nbformat": 4,
 "nbformat_minor": 5
}