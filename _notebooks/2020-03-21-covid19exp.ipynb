{
 "cells": [
  {
   "cell_type": "markdown",
   "id": "muslim-click",
   "metadata": {
    "papermill": {
     "duration": 0.039684,
     "end_time": "2021-04-05T12:03:47.874315",
     "exception": false,
     "start_time": "2021-04-05T12:03:47.834631",
     "status": "completed"
    },
    "tags": []
   },
   "source": [
    "# COVID-19 Case Race\n",
    "> A race chart to see rising cases around the world\n",
    "\n",
    "- author: Hargun Oberoi\n",
    "- image: images/covid-overview.png\n",
    "- hide: false\n",
    "- badges: false"
   ]
  },
  {
   "cell_type": "code",
   "execution_count": 1,
   "id": "proof-material",
   "metadata": {
    "execution": {
     "iopub.execute_input": "2021-04-05T12:03:47.955084Z",
     "iopub.status.busy": "2021-04-05T12:03:47.954484Z",
     "iopub.status.idle": "2021-04-05T12:03:48.302497Z",
     "shell.execute_reply": "2021-04-05T12:03:48.303361Z"
    },
    "papermill": {
     "duration": 0.394657,
     "end_time": "2021-04-05T12:03:48.303640",
     "exception": false,
     "start_time": "2021-04-05T12:03:47.908983",
     "status": "completed"
    },
    "tags": []
   },
   "outputs": [],
   "source": [
    "#hide\n",
    "import numpy as np\n",
    "import pandas as pd\n",
    "from jinja2 import Template\n",
    "from IPython.display import HTML"
   ]
  },
  {
   "cell_type": "code",
   "execution_count": 2,
   "id": "developed-terminology",
   "metadata": {
    "execution": {
     "iopub.execute_input": "2021-04-05T12:03:48.376382Z",
     "iopub.status.busy": "2021-04-05T12:03:48.375776Z",
     "iopub.status.idle": "2021-04-05T12:03:48.377598Z",
     "shell.execute_reply": "2021-04-05T12:03:48.378011Z"
    },
    "papermill": {
     "duration": 0.041165,
     "end_time": "2021-04-05T12:03:48.378153",
     "exception": false,
     "start_time": "2021-04-05T12:03:48.336988",
     "status": "completed"
    },
    "tags": []
   },
   "outputs": [],
   "source": [
    "#hide\n",
    "\n",
    "# FETCH\n",
    "base_url = 'https://raw.githubusercontent.com/pratapvardhan/notebooks/master/covid19/'\n",
    "paths = {\n",
    "    'mapping': base_url + 'mapping_countries.csv',\n",
    "    'overview': base_url + 'overview.tpl'\n",
    "}"
   ]
  },
  {
   "cell_type": "code",
   "execution_count": 3,
   "id": "dynamic-saver",
   "metadata": {
    "execution": {
     "iopub.execute_input": "2021-04-05T12:03:48.462785Z",
     "iopub.status.busy": "2021-04-05T12:03:48.462168Z",
     "iopub.status.idle": "2021-04-05T12:03:48.465259Z",
     "shell.execute_reply": "2021-04-05T12:03:48.464741Z"
    },
    "papermill": {
     "duration": 0.05246,
     "end_time": "2021-04-05T12:03:48.465386",
     "exception": false,
     "start_time": "2021-04-05T12:03:48.412926",
     "status": "completed"
    },
    "tags": []
   },
   "outputs": [
    {
     "data": {
      "text/plain": [
       "'https://raw.githubusercontent.com/pratapvardhan/notebooks/master/covid19/mapping_countries.csv'"
      ]
     },
     "execution_count": 3,
     "metadata": {},
     "output_type": "execute_result"
    }
   ],
   "source": [
    "#hide\n",
    "paths['mapping']"
   ]
  },
  {
   "cell_type": "code",
   "execution_count": 4,
   "id": "urban-software",
   "metadata": {
    "execution": {
     "iopub.execute_input": "2021-04-05T12:03:48.537947Z",
     "iopub.status.busy": "2021-04-05T12:03:48.537358Z",
     "iopub.status.idle": "2021-04-05T12:03:48.539113Z",
     "shell.execute_reply": "2021-04-05T12:03:48.539551Z"
    },
    "papermill": {
     "duration": 0.040538,
     "end_time": "2021-04-05T12:03:48.539689",
     "exception": false,
     "start_time": "2021-04-05T12:03:48.499151",
     "status": "completed"
    },
    "tags": []
   },
   "outputs": [],
   "source": [
    "#hide\n",
    "def get_mappings(url):\n",
    "    df = pd.read_csv(url)\n",
    "    return {\n",
    "        'df': df,\n",
    "        'replace.country': dict(df.dropna(subset=['Name']).set_index('Country')['Name']),\n",
    "        'map.continent': dict(df.set_index('Name')['Continent'])\n",
    "    }"
   ]
  },
  {
   "cell_type": "code",
   "execution_count": 5,
   "id": "intimate-machinery",
   "metadata": {
    "execution": {
     "iopub.execute_input": "2021-04-05T12:03:48.612322Z",
     "iopub.status.busy": "2021-04-05T12:03:48.611692Z",
     "iopub.status.idle": "2021-04-05T12:03:48.643299Z",
     "shell.execute_reply": "2021-04-05T12:03:48.642431Z"
    },
    "papermill": {
     "duration": 0.070941,
     "end_time": "2021-04-05T12:03:48.643511",
     "exception": false,
     "start_time": "2021-04-05T12:03:48.572570",
     "status": "completed"
    },
    "tags": []
   },
   "outputs": [],
   "source": [
    "#hide\n",
    "mapping = get_mappings(paths['mapping'])"
   ]
  },
  {
   "cell_type": "code",
   "execution_count": 6,
   "id": "certified-tactics",
   "metadata": {
    "execution": {
     "iopub.execute_input": "2021-04-05T12:03:48.720436Z",
     "iopub.status.busy": "2021-04-05T12:03:48.719852Z",
     "iopub.status.idle": "2021-04-05T12:03:48.722342Z",
     "shell.execute_reply": "2021-04-05T12:03:48.721904Z"
    },
    "papermill": {
     "duration": 0.043109,
     "end_time": "2021-04-05T12:03:48.722460",
     "exception": false,
     "start_time": "2021-04-05T12:03:48.679351",
     "status": "completed"
    },
    "tags": []
   },
   "outputs": [],
   "source": [
    "#hide\n",
    "def get_template(path):\n",
    "    from urllib.parse import urlparse\n",
    "    if bool(urlparse(path).netloc):\n",
    "        from urllib.request import urlopen\n",
    "        return urlopen(path).read().decode('utf8')\n",
    "    return open(path).read()"
   ]
  },
  {
   "cell_type": "code",
   "execution_count": 7,
   "id": "realistic-blast",
   "metadata": {
    "execution": {
     "iopub.execute_input": "2021-04-05T12:03:48.792812Z",
     "iopub.status.busy": "2021-04-05T12:03:48.792230Z",
     "iopub.status.idle": "2021-04-05T12:03:48.794481Z",
     "shell.execute_reply": "2021-04-05T12:03:48.793985Z"
    },
    "papermill": {
     "duration": 0.040032,
     "end_time": "2021-04-05T12:03:48.794600",
     "exception": false,
     "start_time": "2021-04-05T12:03:48.754568",
     "status": "completed"
    },
    "tags": []
   },
   "outputs": [],
   "source": [
    "#hide\n",
    "def get_frame(name):\n",
    "    url = (\n",
    "        'https://raw.githubusercontent.com/CSSEGISandData/COVID-19/master/csse_covid_19_data/'\n",
    "        f'csse_covid_19_time_series/time_series_covid19_{name}_global.csv')\n",
    "    df = pd.read_csv(url)\n",
    "    # rename countries\n",
    "    df['Country/Region'] = df['Country/Region'].replace(mapping['replace.country'])\n",
    "    return df"
   ]
  },
  {
   "cell_type": "code",
   "execution_count": 8,
   "id": "affiliated-characterization",
   "metadata": {
    "execution": {
     "iopub.execute_input": "2021-04-05T12:03:48.866994Z",
     "iopub.status.busy": "2021-04-05T12:03:48.866391Z",
     "iopub.status.idle": "2021-04-05T12:03:48.870482Z",
     "shell.execute_reply": "2021-04-05T12:03:48.870020Z"
    },
    "papermill": {
     "duration": 0.043245,
     "end_time": "2021-04-05T12:03:48.870597",
     "exception": false,
     "start_time": "2021-04-05T12:03:48.827352",
     "status": "completed"
    },
    "tags": []
   },
   "outputs": [],
   "source": [
    "#hide\n",
    "def get_dates(df):\n",
    "    dt_cols = df.columns[~df.columns.isin(['Province/State', 'Country/Region', 'Lat', 'Long'])]\n",
    "    LAST_DATE_I = -1\n",
    "    # sometimes last column may be empty, then go backwards\n",
    "    for i in range(-1, -len(dt_cols), -1):\n",
    "        if not df[dt_cols[i]].fillna(0).eq(0).all():\n",
    "            LAST_DATE_I = i\n",
    "            break\n",
    "    return LAST_DATE_I, dt_cols"
   ]
  },
  {
   "cell_type": "code",
   "execution_count": 9,
   "id": "recent-optimization",
   "metadata": {
    "execution": {
     "iopub.execute_input": "2021-04-05T12:03:48.943442Z",
     "iopub.status.busy": "2021-04-05T12:03:48.942848Z",
     "iopub.status.idle": "2021-04-05T12:03:49.224664Z",
     "shell.execute_reply": "2021-04-05T12:03:49.225141Z"
    },
    "papermill": {
     "duration": 0.321522,
     "end_time": "2021-04-05T12:03:49.225340",
     "exception": false,
     "start_time": "2021-04-05T12:03:48.903818",
     "status": "completed"
    },
    "tags": []
   },
   "outputs": [],
   "source": [
    "#hide\n",
    "COL_REGION = 'Country/Region'\n",
    "# Confirmed, Recovered, Deaths\n",
    "df = get_frame('confirmed')\n",
    "# dft_: timeseries, dfc_: today country agg\n",
    "dft_cases = df\n",
    "dft_deaths = get_frame('deaths')\n",
    "dft_recovered = get_frame('recovered')\n",
    "LAST_DATE_I, dt_cols = get_dates(df)"
   ]
  },
  {
   "cell_type": "code",
   "execution_count": 10,
   "id": "absolute-copper",
   "metadata": {
    "execution": {
     "iopub.execute_input": "2021-04-05T12:03:49.301198Z",
     "iopub.status.busy": "2021-04-05T12:03:49.300599Z",
     "iopub.status.idle": "2021-04-05T12:03:49.302790Z",
     "shell.execute_reply": "2021-04-05T12:03:49.302283Z"
    },
    "papermill": {
     "duration": 0.044325,
     "end_time": "2021-04-05T12:03:49.302912",
     "exception": false,
     "start_time": "2021-04-05T12:03:49.258587",
     "status": "completed"
    },
    "tags": []
   },
   "outputs": [],
   "source": [
    "#hide\n",
    "LAST_DATE_I, dt_cols = get_dates(df)\n",
    "dt_today =dt_cols[LAST_DATE_I]\n",
    "# dt_5day = dt_cols[LAST_DATE_I - 5]\n",
    "dt_yday = dt_cols[LAST_DATE_I - 1]"
   ]
  },
  {
   "cell_type": "code",
   "execution_count": 11,
   "id": "restricted-sheriff",
   "metadata": {
    "execution": {
     "iopub.execute_input": "2021-04-05T12:03:49.376603Z",
     "iopub.status.busy": "2021-04-05T12:03:49.376021Z",
     "iopub.status.idle": "2021-04-05T12:03:49.386002Z",
     "shell.execute_reply": "2021-04-05T12:03:49.385522Z"
    },
    "papermill": {
     "duration": 0.050136,
     "end_time": "2021-04-05T12:03:49.386156",
     "exception": false,
     "start_time": "2021-04-05T12:03:49.336020",
     "status": "completed"
    },
    "tags": []
   },
   "outputs": [],
   "source": [
    "#hide\n",
    "dfc_cases = dft_cases.groupby(COL_REGION)[dt_today].sum()\n",
    "dfc_deaths = dft_deaths.groupby(COL_REGION)[dt_today].sum()\n",
    "# dfp_cases = dft_cases.groupby(COL_REGION)[dt_5day].sum()\n",
    "# dfp_deaths = dft_deaths.groupby(COL_REGION)[dt_5day].sum()\n",
    "dfp_cases = dft_cases.groupby(COL_REGION)[dt_yday].sum()\n",
    "dfp_deaths = dft_deaths.groupby(COL_REGION)[dt_yday].sum()"
   ]
  },
  {
   "cell_type": "code",
   "execution_count": 12,
   "id": "deluxe-hepatitis",
   "metadata": {
    "execution": {
     "iopub.execute_input": "2021-04-05T12:03:49.460758Z",
     "iopub.status.busy": "2021-04-05T12:03:49.460185Z",
     "iopub.status.idle": "2021-04-05T12:03:49.465147Z",
     "shell.execute_reply": "2021-04-05T12:03:49.464672Z"
    },
    "papermill": {
     "duration": 0.045679,
     "end_time": "2021-04-05T12:03:49.465297",
     "exception": false,
     "start_time": "2021-04-05T12:03:49.419618",
     "status": "completed"
    },
    "tags": []
   },
   "outputs": [],
   "source": [
    "#hide\n",
    "df_table = (pd.DataFrame(dict(Cases = dfc_cases, Deaths = dfc_deaths, PCases = dfp_cases, PDeaths = dfp_deaths))\n",
    "            .sort_values(by = ['Cases','Deaths'], ascending = [False, False])\n",
    "            .reset_index())"
   ]
  },
  {
   "cell_type": "code",
   "execution_count": 13,
   "id": "educational-chancellor",
   "metadata": {
    "execution": {
     "iopub.execute_input": "2021-04-05T12:03:49.554257Z",
     "iopub.status.busy": "2021-04-05T12:03:49.552969Z",
     "iopub.status.idle": "2021-04-05T12:03:49.562200Z",
     "shell.execute_reply": "2021-04-05T12:03:49.561672Z"
    },
    "papermill": {
     "duration": 0.064296,
     "end_time": "2021-04-05T12:03:49.562324",
     "exception": false,
     "start_time": "2021-04-05T12:03:49.498028",
     "status": "completed"
    },
    "tags": []
   },
   "outputs": [
    {
     "data": {
      "text/html": [
       "<div>\n",
       "<style scoped>\n",
       "    .dataframe tbody tr th:only-of-type {\n",
       "        vertical-align: middle;\n",
       "    }\n",
       "\n",
       "    .dataframe tbody tr th {\n",
       "        vertical-align: top;\n",
       "    }\n",
       "\n",
       "    .dataframe thead th {\n",
       "        text-align: right;\n",
       "    }\n",
       "</style>\n",
       "<table border=\"1\" class=\"dataframe\">\n",
       "  <thead>\n",
       "    <tr style=\"text-align: right;\">\n",
       "      <th></th>\n",
       "      <th>Country/Region</th>\n",
       "      <th>Cases</th>\n",
       "      <th>Deaths</th>\n",
       "      <th>PCases</th>\n",
       "      <th>PDeaths</th>\n",
       "      <th>Cases (+)</th>\n",
       "      <th>Deaths (+)</th>\n",
       "      <th>Fatality Rate</th>\n",
       "      <th>Continent</th>\n",
       "    </tr>\n",
       "  </thead>\n",
       "  <tbody>\n",
       "    <tr>\n",
       "      <th>0</th>\n",
       "      <td>US</td>\n",
       "      <td>30706126</td>\n",
       "      <td>555001</td>\n",
       "      <td>30671844</td>\n",
       "      <td>554779</td>\n",
       "      <td>34282</td>\n",
       "      <td>222</td>\n",
       "      <td>1.81</td>\n",
       "      <td>North America</td>\n",
       "    </tr>\n",
       "    <tr>\n",
       "      <th>1</th>\n",
       "      <td>Brazil</td>\n",
       "      <td>12984956</td>\n",
       "      <td>331433</td>\n",
       "      <td>12953597</td>\n",
       "      <td>330193</td>\n",
       "      <td>31359</td>\n",
       "      <td>1240</td>\n",
       "      <td>2.55</td>\n",
       "      <td>South America</td>\n",
       "    </tr>\n",
       "    <tr>\n",
       "      <th>2</th>\n",
       "      <td>India</td>\n",
       "      <td>12589067</td>\n",
       "      <td>165101</td>\n",
       "      <td>12485509</td>\n",
       "      <td>164623</td>\n",
       "      <td>103558</td>\n",
       "      <td>478</td>\n",
       "      <td>1.31</td>\n",
       "      <td>Asia</td>\n",
       "    </tr>\n",
       "    <tr>\n",
       "      <th>3</th>\n",
       "      <td>France</td>\n",
       "      <td>4883174</td>\n",
       "      <td>96808</td>\n",
       "      <td>4802545</td>\n",
       "      <td>96439</td>\n",
       "      <td>80629</td>\n",
       "      <td>369</td>\n",
       "      <td>1.98</td>\n",
       "      <td>Europe</td>\n",
       "    </tr>\n",
       "    <tr>\n",
       "      <th>4</th>\n",
       "      <td>Russia</td>\n",
       "      <td>4529576</td>\n",
       "      <td>98713</td>\n",
       "      <td>4520879</td>\n",
       "      <td>98363</td>\n",
       "      <td>8697</td>\n",
       "      <td>350</td>\n",
       "      <td>2.18</td>\n",
       "      <td>Europe</td>\n",
       "    </tr>\n",
       "  </tbody>\n",
       "</table>\n",
       "</div>"
      ],
      "text/plain": [
       "  Country/Region     Cases  Deaths    PCases  PDeaths  Cases (+)  Deaths (+)  \\\n",
       "0             US  30706126  555001  30671844   554779      34282         222   \n",
       "1         Brazil  12984956  331433  12953597   330193      31359        1240   \n",
       "2          India  12589067  165101  12485509   164623     103558         478   \n",
       "3         France   4883174   96808   4802545    96439      80629         369   \n",
       "4         Russia   4529576   98713   4520879    98363       8697         350   \n",
       "\n",
       "   Fatality Rate      Continent  \n",
       "0           1.81  North America  \n",
       "1           2.55  South America  \n",
       "2           1.31           Asia  \n",
       "3           1.98         Europe  \n",
       "4           2.18         Europe  "
      ]
     },
     "execution_count": 13,
     "metadata": {},
     "output_type": "execute_result"
    }
   ],
   "source": [
    "#hide\n",
    "for c in 'Cases, Deaths'.split(', '):\n",
    "    df_table[f'{c} (+)'] = (df_table[c] - df_table[f'P{c}']).clip(0)\n",
    "    #Clip ça veut dire, les chiffres negatif sont interdit\n",
    "df_table['Fatality Rate'] = (100* df_table['Deaths']/ df_table['Cases']).round(2)\n",
    "df_table['Continent'] = df_table['Country/Region'].map(mapping['map.continent'])\n",
    "df_table.head(5)"
   ]
  },
  {
   "cell_type": "code",
   "execution_count": 14,
   "id": "aboriginal-bulgaria",
   "metadata": {
    "execution": {
     "iopub.execute_input": "2021-04-05T12:03:49.636865Z",
     "iopub.status.busy": "2021-04-05T12:03:49.636278Z",
     "iopub.status.idle": "2021-04-05T12:03:49.638566Z",
     "shell.execute_reply": "2021-04-05T12:03:49.638068Z"
    },
    "papermill": {
     "duration": 0.043027,
     "end_time": "2021-04-05T12:03:49.638688",
     "exception": false,
     "start_time": "2021-04-05T12:03:49.595661",
     "status": "completed"
    },
    "tags": []
   },
   "outputs": [],
   "source": [
    "#hide\n",
    "#delete problematic countries from table\n",
    "df_table = df_table[~df_table['Country/Region'].isin(['Cape Verde', 'Cruise Ship', 'Kosovo'])]"
   ]
  },
  {
   "cell_type": "code",
   "execution_count": 15,
   "id": "fantastic-effect",
   "metadata": {
    "execution": {
     "iopub.execute_input": "2021-04-05T12:03:49.715518Z",
     "iopub.status.busy": "2021-04-05T12:03:49.714566Z",
     "iopub.status.idle": "2021-04-05T12:03:49.733679Z",
     "shell.execute_reply": "2021-04-05T12:03:49.733195Z"
    },
    "papermill": {
     "duration": 0.061136,
     "end_time": "2021-04-05T12:03:49.733809",
     "exception": false,
     "start_time": "2021-04-05T12:03:49.672673",
     "status": "completed"
    },
    "tags": []
   },
   "outputs": [
    {
     "data": {
      "text/html": [
       "<div>\n",
       "<style scoped>\n",
       "    .dataframe tbody tr th:only-of-type {\n",
       "        vertical-align: middle;\n",
       "    }\n",
       "\n",
       "    .dataframe tbody tr th {\n",
       "        vertical-align: top;\n",
       "    }\n",
       "\n",
       "    .dataframe thead th {\n",
       "        text-align: right;\n",
       "    }\n",
       "</style>\n",
       "<table border=\"1\" class=\"dataframe\">\n",
       "  <thead>\n",
       "    <tr style=\"text-align: right;\">\n",
       "      <th></th>\n",
       "      <th>Country/Region</th>\n",
       "      <th>Cases</th>\n",
       "      <th>Deaths</th>\n",
       "      <th>PCases</th>\n",
       "      <th>PDeaths</th>\n",
       "      <th>Cases (+)</th>\n",
       "      <th>Deaths (+)</th>\n",
       "      <th>Fatality Rate</th>\n",
       "      <th>Continent</th>\n",
       "    </tr>\n",
       "  </thead>\n",
       "  <tbody>\n",
       "    <tr>\n",
       "      <th>0</th>\n",
       "      <td>US</td>\n",
       "      <td>30706126</td>\n",
       "      <td>555001</td>\n",
       "      <td>30671844</td>\n",
       "      <td>554779</td>\n",
       "      <td>34282</td>\n",
       "      <td>222</td>\n",
       "      <td>1.8</td>\n",
       "      <td>North America</td>\n",
       "    </tr>\n",
       "    <tr>\n",
       "      <th>1</th>\n",
       "      <td>Brazil</td>\n",
       "      <td>12984956</td>\n",
       "      <td>331433</td>\n",
       "      <td>12953597</td>\n",
       "      <td>330193</td>\n",
       "      <td>31359</td>\n",
       "      <td>1240</td>\n",
       "      <td>2.6</td>\n",
       "      <td>South America</td>\n",
       "    </tr>\n",
       "    <tr>\n",
       "      <th>2</th>\n",
       "      <td>India</td>\n",
       "      <td>12589067</td>\n",
       "      <td>165101</td>\n",
       "      <td>12485509</td>\n",
       "      <td>164623</td>\n",
       "      <td>103558</td>\n",
       "      <td>478</td>\n",
       "      <td>1.3</td>\n",
       "      <td>Asia</td>\n",
       "    </tr>\n",
       "    <tr>\n",
       "      <th>3</th>\n",
       "      <td>France</td>\n",
       "      <td>4883174</td>\n",
       "      <td>96808</td>\n",
       "      <td>4802545</td>\n",
       "      <td>96439</td>\n",
       "      <td>80629</td>\n",
       "      <td>369</td>\n",
       "      <td>2.0</td>\n",
       "      <td>Europe</td>\n",
       "    </tr>\n",
       "    <tr>\n",
       "      <th>4</th>\n",
       "      <td>Russia</td>\n",
       "      <td>4529576</td>\n",
       "      <td>98713</td>\n",
       "      <td>4520879</td>\n",
       "      <td>98363</td>\n",
       "      <td>8697</td>\n",
       "      <td>350</td>\n",
       "      <td>2.2</td>\n",
       "      <td>Europe</td>\n",
       "    </tr>\n",
       "  </tbody>\n",
       "</table>\n",
       "</div>"
      ],
      "text/plain": [
       "  Country/Region     Cases  Deaths    PCases  PDeaths  Cases (+)  Deaths (+)  \\\n",
       "0             US  30706126  555001  30671844   554779      34282         222   \n",
       "1         Brazil  12984956  331433  12953597   330193      31359        1240   \n",
       "2          India  12589067  165101  12485509   164623     103558         478   \n",
       "3         France   4883174   96808   4802545    96439      80629         369   \n",
       "4         Russia   4529576   98713   4520879    98363       8697         350   \n",
       "\n",
       "   Fatality Rate      Continent  \n",
       "0            1.8  North America  \n",
       "1            2.6  South America  \n",
       "2            1.3           Asia  \n",
       "3            2.0         Europe  \n",
       "4            2.2         Europe  "
      ]
     },
     "execution_count": 15,
     "metadata": {},
     "output_type": "execute_result"
    }
   ],
   "source": [
    "#hide\n",
    "df_table = (pd.DataFrame(dict(Cases=dfc_cases, Deaths=dfc_deaths, PCases=dfp_cases, PDeaths=dfp_deaths))\n",
    "             .sort_values(by=['Cases', 'Deaths'], ascending=[False, False])\n",
    "             .reset_index())\n",
    "df_table.rename(columns={'index': 'Country/Region'}, inplace=True)\n",
    "for c in 'Cases, Deaths'.split(', '):\n",
    "    df_table[f'{c} (+)'] = (df_table[c] - df_table[f'P{c}']).clip(0)  # DATA BUG\n",
    "df_table['Fatality Rate'] = (100 * df_table['Deaths'] / df_table['Cases']).round(1)\n",
    "df_table['Continent'] = df_table['Country/Region'].map(mapping['map.continent'])\n",
    "df_table.head(5)"
   ]
  },
  {
   "cell_type": "code",
   "execution_count": 16,
   "id": "fewer-occasion",
   "metadata": {
    "execution": {
     "iopub.execute_input": "2021-04-05T12:03:49.809901Z",
     "iopub.status.busy": "2021-04-05T12:03:49.809289Z",
     "iopub.status.idle": "2021-04-05T12:03:49.811545Z",
     "shell.execute_reply": "2021-04-05T12:03:49.811074Z"
    },
    "papermill": {
     "duration": 0.043166,
     "end_time": "2021-04-05T12:03:49.811684",
     "exception": false,
     "start_time": "2021-04-05T12:03:49.768518",
     "status": "completed"
    },
    "tags": []
   },
   "outputs": [],
   "source": [
    "#hide\n",
    "#delete problematic countries from table\n",
    "df_table = df_table[~df_table['Country/Region'].isin(['Cape Verde', 'Cruise Ship', 'Kosovo'])]"
   ]
  },
  {
   "cell_type": "code",
   "execution_count": 17,
   "id": "related-center",
   "metadata": {
    "execution": {
     "iopub.execute_input": "2021-04-05T12:03:49.889910Z",
     "iopub.status.busy": "2021-04-05T12:03:49.889332Z",
     "iopub.status.idle": "2021-04-05T12:03:49.903940Z",
     "shell.execute_reply": "2021-04-05T12:03:49.903460Z"
    },
    "papermill": {
     "duration": 0.057734,
     "end_time": "2021-04-05T12:03:49.904074",
     "exception": false,
     "start_time": "2021-04-05T12:03:49.846340",
     "status": "completed"
    },
    "tags": []
   },
   "outputs": [],
   "source": [
    "#hide\n",
    "metrics = [df_table.columns[index] for index in [1,2,5,6]]\n",
    "# s_china = df_table[df_table['Country/Region'].eq('China')][metrics].sum().add_prefix('China ')\n",
    "s_us = df_table[df_table['Country/Region'].eq('US')][metrics].sum().add_prefix('US ')\n",
    "s_eu = df_table[df_table['Continent'].eq('Europe')][metrics].sum().add_prefix('EU ')\n",
    "s_ind = df_table[df_table['Country/Region'].eq('India')][metrics].sum().add_prefix('India ')\n",
    "summary = {'updated': pd.to_datetime(dt_today), 'since': pd.to_datetime(dt_yday)}\n",
    "summary = {'updated': pd.to_datetime(dt_today), 'since': pd.to_datetime(dt_yday)}\n",
    "summary = {**summary, **df_table[metrics].sum(), **s_ind, **s_us, **s_eu}"
   ]
  },
  {
   "cell_type": "code",
   "execution_count": 18,
   "id": "engaging-syndrome",
   "metadata": {
    "execution": {
     "iopub.execute_input": "2021-04-05T12:03:49.980021Z",
     "iopub.status.busy": "2021-04-05T12:03:49.979471Z",
     "iopub.status.idle": "2021-04-05T12:03:49.990869Z",
     "shell.execute_reply": "2021-04-05T12:03:49.991313Z"
    },
    "papermill": {
     "duration": 0.051943,
     "end_time": "2021-04-05T12:03:49.991456",
     "exception": false,
     "start_time": "2021-04-05T12:03:49.939513",
     "status": "completed"
    },
    "tags": []
   },
   "outputs": [],
   "source": [
    "#hide\n",
    "dft_ct_new_cases = dft_cases.groupby(COL_REGION)[dt_cols].sum().diff(axis=1).fillna(0).astype(int)"
   ]
  },
  {
   "cell_type": "code",
   "execution_count": 19,
   "id": "neutral-assignment",
   "metadata": {
    "execution": {
     "iopub.execute_input": "2021-04-05T12:03:50.066331Z",
     "iopub.status.busy": "2021-04-05T12:03:50.065756Z",
     "iopub.status.idle": "2021-04-05T12:03:50.067520Z",
     "shell.execute_reply": "2021-04-05T12:03:50.067956Z"
    },
    "papermill": {
     "duration": 0.042784,
     "end_time": "2021-04-05T12:03:50.068099",
     "exception": false,
     "start_time": "2021-04-05T12:03:50.025315",
     "status": "completed"
    },
    "tags": []
   },
   "outputs": [],
   "source": [
    "#hide\n",
    "everydaycases = dft_ct_new_cases.cumsum(axis=1)"
   ]
  },
  {
   "cell_type": "code",
   "execution_count": 20,
   "id": "parliamentary-calgary",
   "metadata": {
    "execution": {
     "iopub.execute_input": "2021-04-05T12:03:50.142346Z",
     "iopub.status.busy": "2021-04-05T12:03:50.141756Z",
     "iopub.status.idle": "2021-04-05T12:03:51.932090Z",
     "shell.execute_reply": "2021-04-05T12:03:51.931568Z"
    },
    "papermill": {
     "duration": 1.829466,
     "end_time": "2021-04-05T12:03:51.932229",
     "exception": false,
     "start_time": "2021-04-05T12:03:50.102763",
     "status": "completed"
    },
    "tags": []
   },
   "outputs": [],
   "source": [
    "#hide\n",
    "import pandas as pd\n",
    "import matplotlib.pyplot as plt\n",
    "import matplotlib.ticker as ticker\n",
    "import matplotlib.animation as animation\n",
    "from IPython.display import HTML"
   ]
  },
  {
   "cell_type": "code",
   "execution_count": 21,
   "id": "lasting-extraction",
   "metadata": {
    "execution": {
     "iopub.execute_input": "2021-04-05T12:03:52.015790Z",
     "iopub.status.busy": "2021-04-05T12:03:52.015208Z",
     "iopub.status.idle": "2021-04-05T12:03:52.020723Z",
     "shell.execute_reply": "2021-04-05T12:03:52.020283Z"
    },
    "papermill": {
     "duration": 0.047796,
     "end_time": "2021-04-05T12:03:52.020838",
     "exception": false,
     "start_time": "2021-04-05T12:03:51.973042",
     "status": "completed"
    },
    "tags": []
   },
   "outputs": [],
   "source": [
    "#hide\n",
    "t = everydaycases.stack()"
   ]
  },
  {
   "cell_type": "code",
   "execution_count": 22,
   "id": "premier-sleeve",
   "metadata": {
    "execution": {
     "iopub.execute_input": "2021-04-05T12:03:52.097502Z",
     "iopub.status.busy": "2021-04-05T12:03:52.096918Z",
     "iopub.status.idle": "2021-04-05T12:03:52.107473Z",
     "shell.execute_reply": "2021-04-05T12:03:52.106961Z"
    },
    "papermill": {
     "duration": 0.051537,
     "end_time": "2021-04-05T12:03:52.107597",
     "exception": false,
     "start_time": "2021-04-05T12:03:52.056060",
     "status": "completed"
    },
    "tags": []
   },
   "outputs": [],
   "source": [
    "#hide\n",
    "g = t.reset_index(['Country/Region'])"
   ]
  },
  {
   "cell_type": "code",
   "execution_count": 23,
   "id": "distributed-pittsburgh",
   "metadata": {
    "execution": {
     "iopub.execute_input": "2021-04-05T12:03:52.185741Z",
     "iopub.status.busy": "2021-04-05T12:03:52.185189Z",
     "iopub.status.idle": "2021-04-05T12:03:52.187668Z",
     "shell.execute_reply": "2021-04-05T12:03:52.187180Z"
    },
    "papermill": {
     "duration": 0.042289,
     "end_time": "2021-04-05T12:03:52.187787",
     "exception": false,
     "start_time": "2021-04-05T12:03:52.145498",
     "status": "completed"
    },
    "tags": []
   },
   "outputs": [],
   "source": [
    "#hide\n",
    "g.index.name = 'date'"
   ]
  },
  {
   "cell_type": "code",
   "execution_count": 24,
   "id": "naked-donor",
   "metadata": {
    "execution": {
     "iopub.execute_input": "2021-04-05T12:03:52.268965Z",
     "iopub.status.busy": "2021-04-05T12:03:52.268379Z",
     "iopub.status.idle": "2021-04-05T12:03:52.271060Z",
     "shell.execute_reply": "2021-04-05T12:03:52.270600Z"
    },
    "papermill": {
     "duration": 0.041814,
     "end_time": "2021-04-05T12:03:52.271185",
     "exception": false,
     "start_time": "2021-04-05T12:03:52.229371",
     "status": "completed"
    },
    "tags": []
   },
   "outputs": [],
   "source": [
    "# #hide\n",
    "# g = g.reset_index(['date'])"
   ]
  },
  {
   "cell_type": "code",
   "execution_count": 25,
   "id": "incomplete-mustang",
   "metadata": {
    "execution": {
     "iopub.execute_input": "2021-04-05T12:03:52.345308Z",
     "iopub.status.busy": "2021-04-05T12:03:52.344740Z",
     "iopub.status.idle": "2021-04-05T12:03:52.346991Z",
     "shell.execute_reply": "2021-04-05T12:03:52.347530Z"
    },
    "papermill": {
     "duration": 0.042025,
     "end_time": "2021-04-05T12:03:52.347672",
     "exception": false,
     "start_time": "2021-04-05T12:03:52.305647",
     "status": "completed"
    },
    "tags": []
   },
   "outputs": [],
   "source": [
    "#hide\n",
    "# g.head()"
   ]
  },
  {
   "cell_type": "code",
   "execution_count": 26,
   "id": "specific-kruger",
   "metadata": {
    "execution": {
     "iopub.execute_input": "2021-04-05T12:03:52.420425Z",
     "iopub.status.busy": "2021-04-05T12:03:52.419853Z",
     "iopub.status.idle": "2021-04-05T12:03:52.422103Z",
     "shell.execute_reply": "2021-04-05T12:03:52.421607Z"
    },
    "papermill": {
     "duration": 0.040853,
     "end_time": "2021-04-05T12:03:52.422217",
     "exception": false,
     "start_time": "2021-04-05T12:03:52.381364",
     "status": "completed"
    },
    "tags": []
   },
   "outputs": [],
   "source": [
    "#hide\n",
    "# g.columns = ['date','country','cases']"
   ]
  },
  {
   "cell_type": "code",
   "execution_count": 27,
   "id": "tender-conversion",
   "metadata": {
    "execution": {
     "iopub.execute_input": "2021-04-05T12:03:52.494407Z",
     "iopub.status.busy": "2021-04-05T12:03:52.493825Z",
     "iopub.status.idle": "2021-04-05T12:03:52.496052Z",
     "shell.execute_reply": "2021-04-05T12:03:52.495559Z"
    },
    "papermill": {
     "duration": 0.039772,
     "end_time": "2021-04-05T12:03:52.496170",
     "exception": false,
     "start_time": "2021-04-05T12:03:52.456398",
     "status": "completed"
    },
    "tags": []
   },
   "outputs": [],
   "source": [
    "#hide\n",
    "# g['continent'] = g.country"
   ]
  },
  {
   "cell_type": "code",
   "execution_count": 28,
   "id": "substantial-wilderness",
   "metadata": {
    "execution": {
     "iopub.execute_input": "2021-04-05T12:03:52.569670Z",
     "iopub.status.busy": "2021-04-05T12:03:52.569062Z",
     "iopub.status.idle": "2021-04-05T12:03:52.571356Z",
     "shell.execute_reply": "2021-04-05T12:03:52.571797Z"
    },
    "papermill": {
     "duration": 0.040755,
     "end_time": "2021-04-05T12:03:52.571945",
     "exception": false,
     "start_time": "2021-04-05T12:03:52.531190",
     "status": "completed"
    },
    "tags": []
   },
   "outputs": [],
   "source": [
    "#hide\n",
    "# cols = list(g.columns.values)"
   ]
  },
  {
   "cell_type": "code",
   "execution_count": 29,
   "id": "solved-farming",
   "metadata": {
    "execution": {
     "iopub.execute_input": "2021-04-05T12:03:52.644903Z",
     "iopub.status.busy": "2021-04-05T12:03:52.644361Z",
     "iopub.status.idle": "2021-04-05T12:03:52.646502Z",
     "shell.execute_reply": "2021-04-05T12:03:52.646971Z"
    },
    "papermill": {
     "duration": 0.04117,
     "end_time": "2021-04-05T12:03:52.647118",
     "exception": false,
     "start_time": "2021-04-05T12:03:52.605948",
     "status": "completed"
    },
    "tags": []
   },
   "outputs": [],
   "source": [
    "#hide\n",
    "# cols.insert(0, cols.pop())"
   ]
  },
  {
   "cell_type": "code",
   "execution_count": 30,
   "id": "executed-adoption",
   "metadata": {
    "execution": {
     "iopub.execute_input": "2021-04-05T12:03:52.721227Z",
     "iopub.status.busy": "2021-04-05T12:03:52.720609Z",
     "iopub.status.idle": "2021-04-05T12:03:52.723057Z",
     "shell.execute_reply": "2021-04-05T12:03:52.723571Z"
    },
    "papermill": {
     "duration": 0.041979,
     "end_time": "2021-04-05T12:03:52.723708",
     "exception": false,
     "start_time": "2021-04-05T12:03:52.681729",
     "status": "completed"
    },
    "tags": []
   },
   "outputs": [],
   "source": [
    "#hide\n",
    "# g = g[cols]"
   ]
  },
  {
   "cell_type": "code",
   "execution_count": 31,
   "id": "subject-dublin",
   "metadata": {
    "execution": {
     "iopub.execute_input": "2021-04-05T12:03:52.796809Z",
     "iopub.status.busy": "2021-04-05T12:03:52.796086Z",
     "iopub.status.idle": "2021-04-05T12:03:52.797583Z",
     "shell.execute_reply": "2021-04-05T12:03:52.798255Z"
    },
    "papermill": {
     "duration": 0.040346,
     "end_time": "2021-04-05T12:03:52.798424",
     "exception": false,
     "start_time": "2021-04-05T12:03:52.758078",
     "status": "completed"
    },
    "tags": []
   },
   "outputs": [],
   "source": [
    "#hide\n",
    "# g['continent'] = g['continent'].map(mapping['map.continent'])"
   ]
  },
  {
   "cell_type": "code",
   "execution_count": 32,
   "id": "freelance-scout",
   "metadata": {
    "execution": {
     "iopub.execute_input": "2021-04-05T12:03:52.875713Z",
     "iopub.status.busy": "2021-04-05T12:03:52.875106Z",
     "iopub.status.idle": "2021-04-05T12:03:52.877548Z",
     "shell.execute_reply": "2021-04-05T12:03:52.878001Z"
    },
    "papermill": {
     "duration": 0.041593,
     "end_time": "2021-04-05T12:03:52.878156",
     "exception": false,
     "start_time": "2021-04-05T12:03:52.836563",
     "status": "completed"
    },
    "tags": []
   },
   "outputs": [],
   "source": [
    "#hide\n",
    "# g.head()"
   ]
  },
  {
   "cell_type": "code",
   "execution_count": 33,
   "id": "limited-engine",
   "metadata": {
    "execution": {
     "iopub.execute_input": "2021-04-05T12:03:52.952381Z",
     "iopub.status.busy": "2021-04-05T12:03:52.951796Z",
     "iopub.status.idle": "2021-04-05T12:03:52.954340Z",
     "shell.execute_reply": "2021-04-05T12:03:52.954885Z"
    },
    "papermill": {
     "duration": 0.041921,
     "end_time": "2021-04-05T12:03:52.955028",
     "exception": false,
     "start_time": "2021-04-05T12:03:52.913107",
     "status": "completed"
    },
    "tags": []
   },
   "outputs": [],
   "source": [
    "# hide\n",
    "# g['date'] = g['date'].astype('datetime64[ns]')"
   ]
  },
  {
   "cell_type": "code",
   "execution_count": 34,
   "id": "sophisticated-supervisor",
   "metadata": {
    "execution": {
     "iopub.execute_input": "2021-04-05T12:03:53.026944Z",
     "iopub.status.busy": "2021-04-05T12:03:53.026362Z",
     "iopub.status.idle": "2021-04-05T12:03:53.028978Z",
     "shell.execute_reply": "2021-04-05T12:03:53.028484Z"
    },
    "papermill": {
     "duration": 0.040698,
     "end_time": "2021-04-05T12:03:53.029099",
     "exception": false,
     "start_time": "2021-04-05T12:03:52.988401",
     "status": "completed"
    },
    "tags": []
   },
   "outputs": [],
   "source": [
    "#hide\n",
    "# g['date'] = g.date.dt.dayofyear"
   ]
  },
  {
   "cell_type": "code",
   "execution_count": 35,
   "id": "inside-dubai",
   "metadata": {
    "execution": {
     "iopub.execute_input": "2021-04-05T12:03:53.101419Z",
     "iopub.status.busy": "2021-04-05T12:03:53.100805Z",
     "iopub.status.idle": "2021-04-05T12:03:53.103228Z",
     "shell.execute_reply": "2021-04-05T12:03:53.103684Z"
    },
    "papermill": {
     "duration": 0.04081,
     "end_time": "2021-04-05T12:03:53.103818",
     "exception": false,
     "start_time": "2021-04-05T12:03:53.063008",
     "status": "completed"
    },
    "tags": []
   },
   "outputs": [],
   "source": [
    "#hide\n",
    "# g = g.rename(columns= {'continent':'group','country':'name','cases':'value'})"
   ]
  },
  {
   "cell_type": "code",
   "execution_count": 36,
   "id": "fleet-motorcycle",
   "metadata": {
    "execution": {
     "iopub.execute_input": "2021-04-05T12:03:53.175220Z",
     "iopub.status.busy": "2021-04-05T12:03:53.174637Z",
     "iopub.status.idle": "2021-04-05T12:03:53.176899Z",
     "shell.execute_reply": "2021-04-05T12:03:53.177436Z"
    },
    "papermill": {
     "duration": 0.040837,
     "end_time": "2021-04-05T12:03:53.177575",
     "exception": false,
     "start_time": "2021-04-05T12:03:53.136738",
     "status": "completed"
    },
    "tags": []
   },
   "outputs": [],
   "source": [
    "#hide\n",
    "# cols = ['name','group','day','value']"
   ]
  },
  {
   "cell_type": "code",
   "execution_count": 37,
   "id": "continued-sleeping",
   "metadata": {
    "execution": {
     "iopub.execute_input": "2021-04-05T12:03:53.250244Z",
     "iopub.status.busy": "2021-04-05T12:03:53.249674Z",
     "iopub.status.idle": "2021-04-05T12:03:53.251736Z",
     "shell.execute_reply": "2021-04-05T12:03:53.251280Z"
    },
    "papermill": {
     "duration": 0.040379,
     "end_time": "2021-04-05T12:03:53.251847",
     "exception": false,
     "start_time": "2021-04-05T12:03:53.211468",
     "status": "completed"
    },
    "tags": []
   },
   "outputs": [],
   "source": [
    "#hide\n",
    "# g.rename(columns= {'date':'day'},inplace = True)"
   ]
  },
  {
   "cell_type": "code",
   "execution_count": 38,
   "id": "major-fight",
   "metadata": {
    "execution": {
     "iopub.execute_input": "2021-04-05T12:03:53.326114Z",
     "iopub.status.busy": "2021-04-05T12:03:53.325514Z",
     "iopub.status.idle": "2021-04-05T12:03:53.327847Z",
     "shell.execute_reply": "2021-04-05T12:03:53.328396Z"
    },
    "papermill": {
     "duration": 0.041751,
     "end_time": "2021-04-05T12:03:53.328541",
     "exception": false,
     "start_time": "2021-04-05T12:03:53.286790",
     "status": "completed"
    },
    "tags": []
   },
   "outputs": [],
   "source": [
    "#hide\n",
    "# g = g[cols]"
   ]
  },
  {
   "cell_type": "code",
   "execution_count": 39,
   "id": "structured-mobile",
   "metadata": {
    "execution": {
     "iopub.execute_input": "2021-04-05T12:03:53.401650Z",
     "iopub.status.busy": "2021-04-05T12:03:53.401026Z",
     "iopub.status.idle": "2021-04-05T12:03:53.403571Z",
     "shell.execute_reply": "2021-04-05T12:03:53.403094Z"
    },
    "papermill": {
     "duration": 0.040941,
     "end_time": "2021-04-05T12:03:53.403696",
     "exception": false,
     "start_time": "2021-04-05T12:03:53.362755",
     "status": "completed"
    },
    "tags": []
   },
   "outputs": [],
   "source": [
    "# #hide\n",
    "# g = g[g.group.notna()]"
   ]
  },
  {
   "cell_type": "code",
   "execution_count": 40,
   "id": "determined-closing",
   "metadata": {
    "execution": {
     "iopub.execute_input": "2021-04-05T12:03:53.477469Z",
     "iopub.status.busy": "2021-04-05T12:03:53.476818Z",
     "iopub.status.idle": "2021-04-05T12:03:53.479181Z",
     "shell.execute_reply": "2021-04-05T12:03:53.478683Z"
    },
    "papermill": {
     "duration": 0.040878,
     "end_time": "2021-04-05T12:03:53.479305",
     "exception": false,
     "start_time": "2021-04-05T12:03:53.438427",
     "status": "completed"
    },
    "tags": []
   },
   "outputs": [],
   "source": [
    "# #hide\n",
    "# colors = dict(zip(\n",
    "#     [\"Oceania\", \"Europe\", \"Asia\", \"South America\", \"Middle East\", \"North America\", \"Africa\"],\n",
    "#     [\"#adb0ff\", \"#ffb3ff\", \"#90d595\", \"#e48381\", \"#aafbff\", \"#f7bb5f\", \"#eafb50\"]\n",
    "# ))\n",
    "# group_lk = g.set_index('name')['group'].to_dict()"
   ]
  },
  {
   "cell_type": "code",
   "execution_count": null,
   "id": "gross-drinking",
   "metadata": {
    "papermill": {
     "duration": 0.034813,
     "end_time": "2021-04-05T12:03:53.548863",
     "exception": false,
     "start_time": "2021-04-05T12:03:53.514050",
     "status": "completed"
    },
    "tags": []
   },
   "outputs": [],
   "source": []
  },
  {
   "cell_type": "code",
   "execution_count": 41,
   "id": "subject-macintosh",
   "metadata": {
    "execution": {
     "iopub.execute_input": "2021-04-05T12:03:53.623354Z",
     "iopub.status.busy": "2021-04-05T12:03:53.622739Z",
     "iopub.status.idle": "2021-04-05T12:03:53.624972Z",
     "shell.execute_reply": "2021-04-05T12:03:53.624472Z"
    },
    "papermill": {
     "duration": 0.041324,
     "end_time": "2021-04-05T12:03:53.625094",
     "exception": false,
     "start_time": "2021-04-05T12:03:53.583770",
     "status": "completed"
    },
    "tags": []
   },
   "outputs": [],
   "source": [
    "# #hide\n",
    "# fig, ax = plt.subplots(figsize=(15, 8))\n",
    "\n",
    "# def draw_barchart(current_day):\n",
    "#     dff = g[g['day'].eq(current_day)].sort_values(by='value', ascending=True).tail(10)\n",
    "#     ax.clear()\n",
    "#     ax.barh(dff['name'], dff['value'], color=[colors[group_lk[x]] for x in dff['name']])\n",
    "#     dx = dff['value'].max() / 200\n",
    "    \n",
    "#     for i, (value, name) in enumerate(zip(dff['value'], dff['name'])):\n",
    "#         ax.text(value-dx, i,     name,           size=14, weight=600, ha='right', va='bottom')\n",
    "#         ax.text(value-dx, i-.25, group_lk[name], size=10, color='#444444', ha='right', va='baseline')\n",
    "#         ax.text(value+dx, i,     f'{value:,.0f}',  size=14, ha='left',  va='center')\n",
    "#     ax.text(1, 0.4, current_day, transform=ax.transAxes, color='#777777', size=46, ha='right', weight=800)\n",
    "#     ax.text(0, 1.06, 'Population (thousands)', transform=ax.transAxes, size=12, color='#777777')\n",
    "#     ax.xaxis.set_major_formatter(ticker.StrMethodFormatter('{x:,.0f}'))\n",
    "#     ax.xaxis.set_ticks_position('top')\n",
    "#     ax.tick_params(axis='x', colors='#777777', labelsize=12)\n",
    "#     ax.set_yticks([])\n",
    "#     ax.margins(0, 0.01)\n",
    "#     ax.grid(which='major', axis='x', linestyle='-')\n",
    "#     ax.set_axisbelow(True)\n",
    "    \n",
    "#     ax.text(0, 1.15, 'Coronavirus',\n",
    "#             transform=ax.transAxes, size=24, weight=600, ha='left', va='top')\n",
    "# #     ax.text(1, 0, 'by @pratapvardhan; credit @jburnmurdoch', transform=ax.transAxes, color='#777777', ha='right',\n",
    "# #             bbox=dict(facecolor='white', alpha=0.8, edgecolor='white'))\n",
    "#     plt.box(False)"
   ]
  },
  {
   "cell_type": "code",
   "execution_count": 42,
   "id": "sexual-wages",
   "metadata": {
    "execution": {
     "iopub.execute_input": "2021-04-05T12:03:53.699528Z",
     "iopub.status.busy": "2021-04-05T12:03:53.698931Z",
     "iopub.status.idle": "2021-04-05T12:03:53.701366Z",
     "shell.execute_reply": "2021-04-05T12:03:53.701922Z"
    },
    "papermill": {
     "duration": 0.042195,
     "end_time": "2021-04-05T12:03:53.702077",
     "exception": false,
     "start_time": "2021-04-05T12:03:53.659882",
     "status": "completed"
    },
    "tags": []
   },
   "outputs": [],
   "source": [
    "# #hide_input\n",
    "# fig, ax = plt.subplots(figsize=(15, 8))\n",
    "# animator = animation.FuncAnimation(fig, draw_barchart, frames=range(g.day.values.min(), g.day.values.max()))\n",
    "# HTML(animator.to_jshtml())\n",
    "# # or use animator.to_html5_video() or animator.save() "
   ]
  },
  {
   "cell_type": "code",
   "execution_count": null,
   "id": "australian-container",
   "metadata": {
    "papermill": {
     "duration": 0.034802,
     "end_time": "2021-04-05T12:03:53.771927",
     "exception": false,
     "start_time": "2021-04-05T12:03:53.737125",
     "status": "completed"
    },
    "tags": []
   },
   "outputs": [],
   "source": []
  },
  {
   "cell_type": "code",
   "execution_count": null,
   "id": "mediterranean-pontiac",
   "metadata": {
    "papermill": {
     "duration": 0.034759,
     "end_time": "2021-04-05T12:03:53.841383",
     "exception": false,
     "start_time": "2021-04-05T12:03:53.806624",
     "status": "completed"
    },
    "tags": []
   },
   "outputs": [],
   "source": []
  },
  {
   "cell_type": "code",
   "execution_count": null,
   "id": "aging-legislature",
   "metadata": {
    "papermill": {
     "duration": 0.035184,
     "end_time": "2021-04-05T12:03:53.911285",
     "exception": false,
     "start_time": "2021-04-05T12:03:53.876101",
     "status": "completed"
    },
    "tags": []
   },
   "outputs": [],
   "source": []
  }
 ],
 "metadata": {
  "kernelspec": {
   "display_name": "Python 3",
   "language": "python",
   "name": "python3"
  },
  "language_info": {
   "codemirror_mode": {
    "name": "ipython",
    "version": 3
   },
   "file_extension": ".py",
   "mimetype": "text/x-python",
   "name": "python",
   "nbconvert_exporter": "python",
   "pygments_lexer": "ipython3",
   "version": "3.6.13"
  },
  "papermill": {
   "duration": 7.824937,
   "end_time": "2021-04-05T12:03:54.355684",
   "environment_variables": {},
   "exception": null,
   "input_path": "2020-03-21-covid19exp.ipynb",
   "output_path": "2020-03-21-covid19exp.ipynb",
   "parameters": {},
   "start_time": "2021-04-05T12:03:46.530747",
   "version": "2.0.0"
  }
 },
 "nbformat": 4,
 "nbformat_minor": 5
}