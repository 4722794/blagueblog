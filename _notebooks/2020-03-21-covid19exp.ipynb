{
 "cells": [
  {
   "cell_type": "markdown",
   "id": "muslim-click",
   "metadata": {
    "papermill": {
     "duration": 0.034997,
     "end_time": "2022-11-25T00:41:43.656227",
     "exception": false,
     "start_time": "2022-11-25T00:41:43.621230",
     "status": "completed"
    },
    "tags": []
   },
   "source": [
    "# COVID-19 Case Race\n",
    "> A race chart to see rising cases around the world\n",
    "\n",
    "- author: Hargun Oberoi\n",
    "- image: images/covid-overview.png\n",
    "- hide: false\n",
    "- badges: false"
   ]
  },
  {
   "cell_type": "code",
   "execution_count": 1,
   "id": "proof-material",
   "metadata": {
    "execution": {
     "iopub.execute_input": "2022-11-25T00:41:43.728450Z",
     "iopub.status.busy": "2022-11-25T00:41:43.727875Z",
     "iopub.status.idle": "2022-11-25T00:41:44.039865Z",
     "shell.execute_reply": "2022-11-25T00:41:44.039360Z"
    },
    "papermill": {
     "duration": 0.353073,
     "end_time": "2022-11-25T00:41:44.039992",
     "exception": false,
     "start_time": "2022-11-25T00:41:43.686919",
     "status": "completed"
    },
    "tags": []
   },
   "outputs": [],
   "source": [
    "#hide\n",
    "import numpy as np\n",
    "import pandas as pd\n",
    "from jinja2 import Template\n",
    "from IPython.display import HTML"
   ]
  },
  {
   "cell_type": "code",
   "execution_count": 2,
   "id": "developed-terminology",
   "metadata": {
    "execution": {
     "iopub.execute_input": "2022-11-25T00:41:44.104459Z",
     "iopub.status.busy": "2022-11-25T00:41:44.103869Z",
     "iopub.status.idle": "2022-11-25T00:41:44.105493Z",
     "shell.execute_reply": "2022-11-25T00:41:44.106005Z"
    },
    "papermill": {
     "duration": 0.036257,
     "end_time": "2022-11-25T00:41:44.106117",
     "exception": false,
     "start_time": "2022-11-25T00:41:44.069860",
     "status": "completed"
    },
    "tags": []
   },
   "outputs": [],
   "source": [
    "#hide\n",
    "\n",
    "# FETCH\n",
    "base_url = 'https://raw.githubusercontent.com/pratapvardhan/notebooks/master/covid19/'\n",
    "paths = {\n",
    "    'mapping': base_url + 'mapping_countries.csv',\n",
    "    'overview': base_url + 'overview.tpl'\n",
    "}"
   ]
  },
  {
   "cell_type": "code",
   "execution_count": 3,
   "id": "dynamic-saver",
   "metadata": {
    "execution": {
     "iopub.execute_input": "2022-11-25T00:41:44.174932Z",
     "iopub.status.busy": "2022-11-25T00:41:44.174366Z",
     "iopub.status.idle": "2022-11-25T00:41:44.176734Z",
     "shell.execute_reply": "2022-11-25T00:41:44.177240Z"
    },
    "papermill": {
     "duration": 0.041463,
     "end_time": "2022-11-25T00:41:44.177355",
     "exception": false,
     "start_time": "2022-11-25T00:41:44.135892",
     "status": "completed"
    },
    "tags": []
   },
   "outputs": [
    {
     "data": {
      "text/plain": [
       "'https://raw.githubusercontent.com/pratapvardhan/notebooks/master/covid19/mapping_countries.csv'"
      ]
     },
     "execution_count": 3,
     "metadata": {},
     "output_type": "execute_result"
    }
   ],
   "source": [
    "#hide\n",
    "paths['mapping']"
   ]
  },
  {
   "cell_type": "code",
   "execution_count": 4,
   "id": "urban-software",
   "metadata": {
    "execution": {
     "iopub.execute_input": "2022-11-25T00:41:44.242922Z",
     "iopub.status.busy": "2022-11-25T00:41:44.242365Z",
     "iopub.status.idle": "2022-11-25T00:41:44.244202Z",
     "shell.execute_reply": "2022-11-25T00:41:44.244712Z"
    },
    "papermill": {
     "duration": 0.037201,
     "end_time": "2022-11-25T00:41:44.244824",
     "exception": false,
     "start_time": "2022-11-25T00:41:44.207623",
     "status": "completed"
    },
    "tags": []
   },
   "outputs": [],
   "source": [
    "#hide\n",
    "def get_mappings(url):\n",
    "    df = pd.read_csv(url)\n",
    "    return {\n",
    "        'df': df,\n",
    "        'replace.country': dict(df.dropna(subset=['Name']).set_index('Country')['Name']),\n",
    "        'map.continent': dict(df.set_index('Name')['Continent'])\n",
    "    }"
   ]
  },
  {
   "cell_type": "code",
   "execution_count": 5,
   "id": "intimate-machinery",
   "metadata": {
    "execution": {
     "iopub.execute_input": "2022-11-25T00:41:44.310427Z",
     "iopub.status.busy": "2022-11-25T00:41:44.309848Z",
     "iopub.status.idle": "2022-11-25T00:41:44.347193Z",
     "shell.execute_reply": "2022-11-25T00:41:44.346696Z"
    },
    "papermill": {
     "duration": 0.072407,
     "end_time": "2022-11-25T00:41:44.347309",
     "exception": false,
     "start_time": "2022-11-25T00:41:44.274902",
     "status": "completed"
    },
    "tags": []
   },
   "outputs": [],
   "source": [
    "#hide\n",
    "mapping = get_mappings(paths['mapping'])"
   ]
  },
  {
   "cell_type": "code",
   "execution_count": 6,
   "id": "certified-tactics",
   "metadata": {
    "execution": {
     "iopub.execute_input": "2022-11-25T00:41:44.412818Z",
     "iopub.status.busy": "2022-11-25T00:41:44.412257Z",
     "iopub.status.idle": "2022-11-25T00:41:44.414566Z",
     "shell.execute_reply": "2022-11-25T00:41:44.415001Z"
    },
    "papermill": {
     "duration": 0.037378,
     "end_time": "2022-11-25T00:41:44.415120",
     "exception": false,
     "start_time": "2022-11-25T00:41:44.377742",
     "status": "completed"
    },
    "tags": []
   },
   "outputs": [],
   "source": [
    "#hide\n",
    "def get_template(path):\n",
    "    from urllib.parse import urlparse\n",
    "    if bool(urlparse(path).netloc):\n",
    "        from urllib.request import urlopen\n",
    "        return urlopen(path).read().decode('utf8')\n",
    "    return open(path).read()"
   ]
  },
  {
   "cell_type": "code",
   "execution_count": 7,
   "id": "realistic-blast",
   "metadata": {
    "execution": {
     "iopub.execute_input": "2022-11-25T00:41:44.480447Z",
     "iopub.status.busy": "2022-11-25T00:41:44.479878Z",
     "iopub.status.idle": "2022-11-25T00:41:44.482246Z",
     "shell.execute_reply": "2022-11-25T00:41:44.481784Z"
    },
    "papermill": {
     "duration": 0.036986,
     "end_time": "2022-11-25T00:41:44.482350",
     "exception": false,
     "start_time": "2022-11-25T00:41:44.445364",
     "status": "completed"
    },
    "tags": []
   },
   "outputs": [],
   "source": [
    "#hide\n",
    "def get_frame(name):\n",
    "    url = (\n",
    "        'https://raw.githubusercontent.com/CSSEGISandData/COVID-19/master/csse_covid_19_data/'\n",
    "        f'csse_covid_19_time_series/time_series_covid19_{name}_global.csv')\n",
    "    df = pd.read_csv(url)\n",
    "    # rename countries\n",
    "    df['Country/Region'] = df['Country/Region'].replace(mapping['replace.country'])\n",
    "    return df"
   ]
  },
  {
   "cell_type": "code",
   "execution_count": 8,
   "id": "affiliated-characterization",
   "metadata": {
    "execution": {
     "iopub.execute_input": "2022-11-25T00:41:44.548676Z",
     "iopub.status.busy": "2022-11-25T00:41:44.548063Z",
     "iopub.status.idle": "2022-11-25T00:41:44.550824Z",
     "shell.execute_reply": "2022-11-25T00:41:44.550334Z"
    },
    "papermill": {
     "duration": 0.038221,
     "end_time": "2022-11-25T00:41:44.550932",
     "exception": false,
     "start_time": "2022-11-25T00:41:44.512711",
     "status": "completed"
    },
    "tags": []
   },
   "outputs": [],
   "source": [
    "#hide\n",
    "def get_dates(df):\n",
    "    dt_cols = df.columns[~df.columns.isin(['Province/State', 'Country/Region', 'Lat', 'Long'])]\n",
    "    LAST_DATE_I = -1\n",
    "    # sometimes last column may be empty, then go backwards\n",
    "    for i in range(-1, -len(dt_cols), -1):\n",
    "        if not df[dt_cols[i]].fillna(0).eq(0).all():\n",
    "            LAST_DATE_I = i\n",
    "            break\n",
    "    return LAST_DATE_I, dt_cols"
   ]
  },
  {
   "cell_type": "code",
   "execution_count": 9,
   "id": "recent-optimization",
   "metadata": {
    "execution": {
     "iopub.execute_input": "2022-11-25T00:41:44.615990Z",
     "iopub.status.busy": "2022-11-25T00:41:44.615413Z",
     "iopub.status.idle": "2022-11-25T00:41:45.106316Z",
     "shell.execute_reply": "2022-11-25T00:41:45.105701Z"
    },
    "papermill": {
     "duration": 0.525354,
     "end_time": "2022-11-25T00:41:45.106425",
     "exception": false,
     "start_time": "2022-11-25T00:41:44.581071",
     "status": "completed"
    },
    "tags": []
   },
   "outputs": [],
   "source": [
    "#hide\n",
    "COL_REGION = 'Country/Region'\n",
    "# Confirmed, Recovered, Deaths\n",
    "df = get_frame('confirmed')\n",
    "# dft_: timeseries, dfc_: today country agg\n",
    "dft_cases = df\n",
    "dft_deaths = get_frame('deaths')\n",
    "dft_recovered = get_frame('recovered')\n",
    "LAST_DATE_I, dt_cols = get_dates(df)"
   ]
  },
  {
   "cell_type": "code",
   "execution_count": 10,
   "id": "absolute-copper",
   "metadata": {
    "execution": {
     "iopub.execute_input": "2022-11-25T00:41:45.169744Z",
     "iopub.status.busy": "2022-11-25T00:41:45.169168Z",
     "iopub.status.idle": "2022-11-25T00:41:45.173369Z",
     "shell.execute_reply": "2022-11-25T00:41:45.173900Z"
    },
    "papermill": {
     "duration": 0.037222,
     "end_time": "2022-11-25T00:41:45.174014",
     "exception": false,
     "start_time": "2022-11-25T00:41:45.136792",
     "status": "completed"
    },
    "tags": []
   },
   "outputs": [],
   "source": [
    "#hide\n",
    "LAST_DATE_I, dt_cols = get_dates(df)\n",
    "dt_today =dt_cols[LAST_DATE_I]\n",
    "# dt_5day = dt_cols[LAST_DATE_I - 5]\n",
    "dt_yday = dt_cols[LAST_DATE_I - 1]"
   ]
  },
  {
   "cell_type": "code",
   "execution_count": 11,
   "id": "restricted-sheriff",
   "metadata": {
    "execution": {
     "iopub.execute_input": "2022-11-25T00:41:45.239260Z",
     "iopub.status.busy": "2022-11-25T00:41:45.238690Z",
     "iopub.status.idle": "2022-11-25T00:41:45.245296Z",
     "shell.execute_reply": "2022-11-25T00:41:45.245823Z"
    },
    "papermill": {
     "duration": 0.041857,
     "end_time": "2022-11-25T00:41:45.245939",
     "exception": false,
     "start_time": "2022-11-25T00:41:45.204082",
     "status": "completed"
    },
    "tags": []
   },
   "outputs": [],
   "source": [
    "#hide\n",
    "dfc_cases = dft_cases.groupby(COL_REGION)[dt_today].sum()\n",
    "dfc_deaths = dft_deaths.groupby(COL_REGION)[dt_today].sum()\n",
    "# dfp_cases = dft_cases.groupby(COL_REGION)[dt_5day].sum()\n",
    "# dfp_deaths = dft_deaths.groupby(COL_REGION)[dt_5day].sum()\n",
    "dfp_cases = dft_cases.groupby(COL_REGION)[dt_yday].sum()\n",
    "dfp_deaths = dft_deaths.groupby(COL_REGION)[dt_yday].sum()"
   ]
  },
  {
   "cell_type": "code",
   "execution_count": 12,
   "id": "deluxe-hepatitis",
   "metadata": {
    "execution": {
     "iopub.execute_input": "2022-11-25T00:41:45.312190Z",
     "iopub.status.busy": "2022-11-25T00:41:45.311617Z",
     "iopub.status.idle": "2022-11-25T00:41:45.316355Z",
     "shell.execute_reply": "2022-11-25T00:41:45.315903Z"
    },
    "papermill": {
     "duration": 0.040414,
     "end_time": "2022-11-25T00:41:45.316459",
     "exception": false,
     "start_time": "2022-11-25T00:41:45.276045",
     "status": "completed"
    },
    "tags": []
   },
   "outputs": [],
   "source": [
    "#hide\n",
    "df_table = (pd.DataFrame(dict(Cases = dfc_cases, Deaths = dfc_deaths, PCases = dfp_cases, PDeaths = dfp_deaths))\n",
    "            .sort_values(by = ['Cases','Deaths'], ascending = [False, False])\n",
    "            .reset_index())"
   ]
  },
  {
   "cell_type": "code",
   "execution_count": 13,
   "id": "educational-chancellor",
   "metadata": {
    "execution": {
     "iopub.execute_input": "2022-11-25T00:41:45.393429Z",
     "iopub.status.busy": "2022-11-25T00:41:45.392867Z",
     "iopub.status.idle": "2022-11-25T00:41:45.400015Z",
     "shell.execute_reply": "2022-11-25T00:41:45.400465Z"
    },
    "papermill": {
     "duration": 0.053918,
     "end_time": "2022-11-25T00:41:45.400582",
     "exception": false,
     "start_time": "2022-11-25T00:41:45.346664",
     "status": "completed"
    },
    "tags": []
   },
   "outputs": [
    {
     "data": {
      "text/html": [
       "<div>\n",
       "<style scoped>\n",
       "    .dataframe tbody tr th:only-of-type {\n",
       "        vertical-align: middle;\n",
       "    }\n",
       "\n",
       "    .dataframe tbody tr th {\n",
       "        vertical-align: top;\n",
       "    }\n",
       "\n",
       "    .dataframe thead th {\n",
       "        text-align: right;\n",
       "    }\n",
       "</style>\n",
       "<table border=\"1\" class=\"dataframe\">\n",
       "  <thead>\n",
       "    <tr style=\"text-align: right;\">\n",
       "      <th></th>\n",
       "      <th>Country/Region</th>\n",
       "      <th>Cases</th>\n",
       "      <th>Deaths</th>\n",
       "      <th>PCases</th>\n",
       "      <th>PDeaths</th>\n",
       "      <th>Cases (+)</th>\n",
       "      <th>Deaths (+)</th>\n",
       "      <th>Fatality Rate</th>\n",
       "      <th>Continent</th>\n",
       "    </tr>\n",
       "  </thead>\n",
       "  <tbody>\n",
       "    <tr>\n",
       "      <th>0</th>\n",
       "      <td>US</td>\n",
       "      <td>98503462</td>\n",
       "      <td>1078929</td>\n",
       "      <td>98392076</td>\n",
       "      <td>1077836</td>\n",
       "      <td>111386</td>\n",
       "      <td>1093</td>\n",
       "      <td>1.10</td>\n",
       "      <td>North America</td>\n",
       "    </tr>\n",
       "    <tr>\n",
       "      <th>1</th>\n",
       "      <td>India</td>\n",
       "      <td>44671708</td>\n",
       "      <td>530601</td>\n",
       "      <td>44671300</td>\n",
       "      <td>530596</td>\n",
       "      <td>408</td>\n",
       "      <td>5</td>\n",
       "      <td>1.19</td>\n",
       "      <td>Asia</td>\n",
       "    </tr>\n",
       "    <tr>\n",
       "      <th>2</th>\n",
       "      <td>France</td>\n",
       "      <td>37690658</td>\n",
       "      <td>159551</td>\n",
       "      <td>37641319</td>\n",
       "      <td>159467</td>\n",
       "      <td>49339</td>\n",
       "      <td>84</td>\n",
       "      <td>0.42</td>\n",
       "      <td>Europe</td>\n",
       "    </tr>\n",
       "    <tr>\n",
       "      <th>3</th>\n",
       "      <td>Germany</td>\n",
       "      <td>36318461</td>\n",
       "      <td>157114</td>\n",
       "      <td>36280371</td>\n",
       "      <td>156951</td>\n",
       "      <td>38090</td>\n",
       "      <td>163</td>\n",
       "      <td>0.43</td>\n",
       "      <td>Europe</td>\n",
       "    </tr>\n",
       "    <tr>\n",
       "      <th>4</th>\n",
       "      <td>Brazil</td>\n",
       "      <td>35082036</td>\n",
       "      <td>689272</td>\n",
       "      <td>35052152</td>\n",
       "      <td>689155</td>\n",
       "      <td>29884</td>\n",
       "      <td>117</td>\n",
       "      <td>1.96</td>\n",
       "      <td>South America</td>\n",
       "    </tr>\n",
       "  </tbody>\n",
       "</table>\n",
       "</div>"
      ],
      "text/plain": [
       "  Country/Region     Cases   Deaths    PCases  PDeaths  Cases (+)  Deaths (+)  \\\n",
       "0             US  98503462  1078929  98392076  1077836     111386        1093   \n",
       "1          India  44671708   530601  44671300   530596        408           5   \n",
       "2         France  37690658   159551  37641319   159467      49339          84   \n",
       "3        Germany  36318461   157114  36280371   156951      38090         163   \n",
       "4         Brazil  35082036   689272  35052152   689155      29884         117   \n",
       "\n",
       "   Fatality Rate      Continent  \n",
       "0           1.10  North America  \n",
       "1           1.19           Asia  \n",
       "2           0.42         Europe  \n",
       "3           0.43         Europe  \n",
       "4           1.96  South America  "
      ]
     },
     "execution_count": 13,
     "metadata": {},
     "output_type": "execute_result"
    }
   ],
   "source": [
    "#hide\n",
    "for c in 'Cases, Deaths'.split(', '):\n",
    "    df_table[f'{c} (+)'] = (df_table[c] - df_table[f'P{c}']).clip(0)\n",
    "    #Clip ça veut dire, les chiffres negatif sont interdit\n",
    "df_table['Fatality Rate'] = (100* df_table['Deaths']/ df_table['Cases']).round(2)\n",
    "df_table['Continent'] = df_table['Country/Region'].map(mapping['map.continent'])\n",
    "df_table.head(5)"
   ]
  },
  {
   "cell_type": "code",
   "execution_count": 14,
   "id": "aboriginal-bulgaria",
   "metadata": {
    "execution": {
     "iopub.execute_input": "2022-11-25T00:41:45.467490Z",
     "iopub.status.busy": "2022-11-25T00:41:45.466891Z",
     "iopub.status.idle": "2022-11-25T00:41:45.468691Z",
     "shell.execute_reply": "2022-11-25T00:41:45.469115Z"
    },
    "papermill": {
     "duration": 0.038025,
     "end_time": "2022-11-25T00:41:45.469236",
     "exception": false,
     "start_time": "2022-11-25T00:41:45.431211",
     "status": "completed"
    },
    "tags": []
   },
   "outputs": [],
   "source": [
    "#hide\n",
    "#delete problematic countries from table\n",
    "df_table = df_table[~df_table['Country/Region'].isin(['Cape Verde', 'Cruise Ship', 'Kosovo'])]"
   ]
  },
  {
   "cell_type": "code",
   "execution_count": 15,
   "id": "fantastic-effect",
   "metadata": {
    "execution": {
     "iopub.execute_input": "2022-11-25T00:41:45.539170Z",
     "iopub.status.busy": "2022-11-25T00:41:45.538045Z",
     "iopub.status.idle": "2022-11-25T00:41:45.557545Z",
     "shell.execute_reply": "2022-11-25T00:41:45.557069Z"
    },
    "papermill": {
     "duration": 0.057635,
     "end_time": "2022-11-25T00:41:45.557650",
     "exception": false,
     "start_time": "2022-11-25T00:41:45.500015",
     "status": "completed"
    },
    "tags": []
   },
   "outputs": [
    {
     "data": {
      "text/html": [
       "<div>\n",
       "<style scoped>\n",
       "    .dataframe tbody tr th:only-of-type {\n",
       "        vertical-align: middle;\n",
       "    }\n",
       "\n",
       "    .dataframe tbody tr th {\n",
       "        vertical-align: top;\n",
       "    }\n",
       "\n",
       "    .dataframe thead th {\n",
       "        text-align: right;\n",
       "    }\n",
       "</style>\n",
       "<table border=\"1\" class=\"dataframe\">\n",
       "  <thead>\n",
       "    <tr style=\"text-align: right;\">\n",
       "      <th></th>\n",
       "      <th>Country/Region</th>\n",
       "      <th>Cases</th>\n",
       "      <th>Deaths</th>\n",
       "      <th>PCases</th>\n",
       "      <th>PDeaths</th>\n",
       "      <th>Cases (+)</th>\n",
       "      <th>Deaths (+)</th>\n",
       "      <th>Fatality Rate</th>\n",
       "      <th>Continent</th>\n",
       "    </tr>\n",
       "  </thead>\n",
       "  <tbody>\n",
       "    <tr>\n",
       "      <th>0</th>\n",
       "      <td>US</td>\n",
       "      <td>98503462</td>\n",
       "      <td>1078929</td>\n",
       "      <td>98392076</td>\n",
       "      <td>1077836</td>\n",
       "      <td>111386</td>\n",
       "      <td>1093</td>\n",
       "      <td>1.1</td>\n",
       "      <td>North America</td>\n",
       "    </tr>\n",
       "    <tr>\n",
       "      <th>1</th>\n",
       "      <td>India</td>\n",
       "      <td>44671708</td>\n",
       "      <td>530601</td>\n",
       "      <td>44671300</td>\n",
       "      <td>530596</td>\n",
       "      <td>408</td>\n",
       "      <td>5</td>\n",
       "      <td>1.2</td>\n",
       "      <td>Asia</td>\n",
       "    </tr>\n",
       "    <tr>\n",
       "      <th>2</th>\n",
       "      <td>France</td>\n",
       "      <td>37690658</td>\n",
       "      <td>159551</td>\n",
       "      <td>37641319</td>\n",
       "      <td>159467</td>\n",
       "      <td>49339</td>\n",
       "      <td>84</td>\n",
       "      <td>0.4</td>\n",
       "      <td>Europe</td>\n",
       "    </tr>\n",
       "    <tr>\n",
       "      <th>3</th>\n",
       "      <td>Germany</td>\n",
       "      <td>36318461</td>\n",
       "      <td>157114</td>\n",
       "      <td>36280371</td>\n",
       "      <td>156951</td>\n",
       "      <td>38090</td>\n",
       "      <td>163</td>\n",
       "      <td>0.4</td>\n",
       "      <td>Europe</td>\n",
       "    </tr>\n",
       "    <tr>\n",
       "      <th>4</th>\n",
       "      <td>Brazil</td>\n",
       "      <td>35082036</td>\n",
       "      <td>689272</td>\n",
       "      <td>35052152</td>\n",
       "      <td>689155</td>\n",
       "      <td>29884</td>\n",
       "      <td>117</td>\n",
       "      <td>2.0</td>\n",
       "      <td>South America</td>\n",
       "    </tr>\n",
       "  </tbody>\n",
       "</table>\n",
       "</div>"
      ],
      "text/plain": [
       "  Country/Region     Cases   Deaths    PCases  PDeaths  Cases (+)  Deaths (+)  \\\n",
       "0             US  98503462  1078929  98392076  1077836     111386        1093   \n",
       "1          India  44671708   530601  44671300   530596        408           5   \n",
       "2         France  37690658   159551  37641319   159467      49339          84   \n",
       "3        Germany  36318461   157114  36280371   156951      38090         163   \n",
       "4         Brazil  35082036   689272  35052152   689155      29884         117   \n",
       "\n",
       "   Fatality Rate      Continent  \n",
       "0            1.1  North America  \n",
       "1            1.2           Asia  \n",
       "2            0.4         Europe  \n",
       "3            0.4         Europe  \n",
       "4            2.0  South America  "
      ]
     },
     "execution_count": 15,
     "metadata": {},
     "output_type": "execute_result"
    }
   ],
   "source": [
    "#hide\n",
    "df_table = (pd.DataFrame(dict(Cases=dfc_cases, Deaths=dfc_deaths, PCases=dfp_cases, PDeaths=dfp_deaths))\n",
    "             .sort_values(by=['Cases', 'Deaths'], ascending=[False, False])\n",
    "             .reset_index())\n",
    "df_table.rename(columns={'index': 'Country/Region'}, inplace=True)\n",
    "for c in 'Cases, Deaths'.split(', '):\n",
    "    df_table[f'{c} (+)'] = (df_table[c] - df_table[f'P{c}']).clip(0)  # DATA BUG\n",
    "df_table['Fatality Rate'] = (100 * df_table['Deaths'] / df_table['Cases']).round(1)\n",
    "df_table['Continent'] = df_table['Country/Region'].map(mapping['map.continent'])\n",
    "df_table.head(5)"
   ]
  },
  {
   "cell_type": "code",
   "execution_count": 16,
   "id": "fewer-occasion",
   "metadata": {
    "execution": {
     "iopub.execute_input": "2022-11-25T00:41:45.625304Z",
     "iopub.status.busy": "2022-11-25T00:41:45.624730Z",
     "iopub.status.idle": "2022-11-25T00:41:45.627237Z",
     "shell.execute_reply": "2022-11-25T00:41:45.626794Z"
    },
    "papermill": {
     "duration": 0.038382,
     "end_time": "2022-11-25T00:41:45.627334",
     "exception": false,
     "start_time": "2022-11-25T00:41:45.588952",
     "status": "completed"
    },
    "tags": []
   },
   "outputs": [],
   "source": [
    "#hide\n",
    "#delete problematic countries from table\n",
    "df_table = df_table[~df_table['Country/Region'].isin(['Cape Verde', 'Cruise Ship', 'Kosovo'])]"
   ]
  },
  {
   "cell_type": "code",
   "execution_count": 17,
   "id": "related-center",
   "metadata": {
    "execution": {
     "iopub.execute_input": "2022-11-25T00:41:45.705938Z",
     "iopub.status.busy": "2022-11-25T00:41:45.705360Z",
     "iopub.status.idle": "2022-11-25T00:41:45.707772Z",
     "shell.execute_reply": "2022-11-25T00:41:45.707254Z"
    },
    "papermill": {
     "duration": 0.04961,
     "end_time": "2022-11-25T00:41:45.707870",
     "exception": false,
     "start_time": "2022-11-25T00:41:45.658260",
     "status": "completed"
    },
    "tags": []
   },
   "outputs": [],
   "source": [
    "#hide\n",
    "metrics = [df_table.columns[index] for index in [1,2,5,6]]\n",
    "# s_china = df_table[df_table['Country/Region'].eq('China')][metrics].sum().add_prefix('China ')\n",
    "s_us = df_table[df_table['Country/Region'].eq('US')][metrics].sum().add_prefix('US ')\n",
    "s_eu = df_table[df_table['Continent'].eq('Europe')][metrics].sum().add_prefix('EU ')\n",
    "s_ind = df_table[df_table['Country/Region'].eq('India')][metrics].sum().add_prefix('India ')\n",
    "summary = {'updated': pd.to_datetime(dt_today), 'since': pd.to_datetime(dt_yday)}\n",
    "summary = {'updated': pd.to_datetime(dt_today), 'since': pd.to_datetime(dt_yday)}\n",
    "summary = {**summary, **df_table[metrics].sum(), **s_ind, **s_us, **s_eu}"
   ]
  },
  {
   "cell_type": "code",
   "execution_count": 18,
   "id": "engaging-syndrome",
   "metadata": {
    "execution": {
     "iopub.execute_input": "2022-11-25T00:41:45.778268Z",
     "iopub.status.busy": "2022-11-25T00:41:45.774470Z",
     "iopub.status.idle": "2022-11-25T00:41:45.791316Z",
     "shell.execute_reply": "2022-11-25T00:41:45.790867Z"
    },
    "papermill": {
     "duration": 0.052344,
     "end_time": "2022-11-25T00:41:45.791419",
     "exception": false,
     "start_time": "2022-11-25T00:41:45.739075",
     "status": "completed"
    },
    "tags": []
   },
   "outputs": [],
   "source": [
    "#hide\n",
    "dft_ct_new_cases = dft_cases.groupby(COL_REGION)[dt_cols].sum().diff(axis=1).fillna(0).astype(int)"
   ]
  },
  {
   "cell_type": "code",
   "execution_count": 19,
   "id": "neutral-assignment",
   "metadata": {
    "execution": {
     "iopub.execute_input": "2022-11-25T00:41:45.860083Z",
     "iopub.status.busy": "2022-11-25T00:41:45.859499Z",
     "iopub.status.idle": "2022-11-25T00:41:45.861118Z",
     "shell.execute_reply": "2022-11-25T00:41:45.861653Z"
    },
    "papermill": {
     "duration": 0.039316,
     "end_time": "2022-11-25T00:41:45.861795",
     "exception": false,
     "start_time": "2022-11-25T00:41:45.822479",
     "status": "completed"
    },
    "tags": []
   },
   "outputs": [],
   "source": [
    "#hide\n",
    "everydaycases = dft_ct_new_cases.cumsum(axis=1)"
   ]
  },
  {
   "cell_type": "code",
   "execution_count": 20,
   "id": "parliamentary-calgary",
   "metadata": {
    "execution": {
     "iopub.execute_input": "2022-11-25T00:41:45.927149Z",
     "iopub.status.busy": "2022-11-25T00:41:45.926582Z",
     "iopub.status.idle": "2022-11-25T00:41:46.484004Z",
     "shell.execute_reply": "2022-11-25T00:41:46.483519Z"
    },
    "papermill": {
     "duration": 0.590876,
     "end_time": "2022-11-25T00:41:46.484122",
     "exception": false,
     "start_time": "2022-11-25T00:41:45.893246",
     "status": "completed"
    },
    "tags": []
   },
   "outputs": [],
   "source": [
    "#hide\n",
    "import pandas as pd\n",
    "import matplotlib.pyplot as plt\n",
    "import matplotlib.ticker as ticker\n",
    "import matplotlib.animation as animation\n",
    "from IPython.display import HTML"
   ]
  },
  {
   "cell_type": "code",
   "execution_count": 21,
   "id": "lasting-extraction",
   "metadata": {
    "execution": {
     "iopub.execute_input": "2022-11-25T00:41:46.552871Z",
     "iopub.status.busy": "2022-11-25T00:41:46.552306Z",
     "iopub.status.idle": "2022-11-25T00:41:46.559641Z",
     "shell.execute_reply": "2022-11-25T00:41:46.559179Z"
    },
    "papermill": {
     "duration": 0.044457,
     "end_time": "2022-11-25T00:41:46.559745",
     "exception": false,
     "start_time": "2022-11-25T00:41:46.515288",
     "status": "completed"
    },
    "tags": []
   },
   "outputs": [],
   "source": [
    "#hide\n",
    "t = everydaycases.stack()"
   ]
  },
  {
   "cell_type": "code",
   "execution_count": 22,
   "id": "premier-sleeve",
   "metadata": {
    "execution": {
     "iopub.execute_input": "2022-11-25T00:41:46.626934Z",
     "iopub.status.busy": "2022-11-25T00:41:46.626379Z",
     "iopub.status.idle": "2022-11-25T00:41:46.638454Z",
     "shell.execute_reply": "2022-11-25T00:41:46.637992Z"
    },
    "papermill": {
     "duration": 0.047495,
     "end_time": "2022-11-25T00:41:46.638566",
     "exception": false,
     "start_time": "2022-11-25T00:41:46.591071",
     "status": "completed"
    },
    "tags": []
   },
   "outputs": [],
   "source": [
    "#hide\n",
    "g = t.reset_index(['Country/Region'])"
   ]
  },
  {
   "cell_type": "code",
   "execution_count": 23,
   "id": "distributed-pittsburgh",
   "metadata": {
    "execution": {
     "iopub.execute_input": "2022-11-25T00:41:46.704464Z",
     "iopub.status.busy": "2022-11-25T00:41:46.703906Z",
     "iopub.status.idle": "2022-11-25T00:41:46.707376Z",
     "shell.execute_reply": "2022-11-25T00:41:46.707791Z"
    },
    "papermill": {
     "duration": 0.038225,
     "end_time": "2022-11-25T00:41:46.707911",
     "exception": false,
     "start_time": "2022-11-25T00:41:46.669686",
     "status": "completed"
    },
    "tags": []
   },
   "outputs": [],
   "source": [
    "#hide\n",
    "g.index.name = 'date'"
   ]
  },
  {
   "cell_type": "code",
   "execution_count": 24,
   "id": "naked-donor",
   "metadata": {
    "execution": {
     "iopub.execute_input": "2022-11-25T00:41:46.774226Z",
     "iopub.status.busy": "2022-11-25T00:41:46.773614Z",
     "iopub.status.idle": "2022-11-25T00:41:46.775337Z",
     "shell.execute_reply": "2022-11-25T00:41:46.775756Z"
    },
    "papermill": {
     "duration": 0.036708,
     "end_time": "2022-11-25T00:41:46.775874",
     "exception": false,
     "start_time": "2022-11-25T00:41:46.739166",
     "status": "completed"
    },
    "tags": []
   },
   "outputs": [],
   "source": [
    "# #hide\n",
    "# g = g.reset_index(['date'])"
   ]
  },
  {
   "cell_type": "code",
   "execution_count": 25,
   "id": "incomplete-mustang",
   "metadata": {
    "execution": {
     "iopub.execute_input": "2022-11-25T00:41:46.841793Z",
     "iopub.status.busy": "2022-11-25T00:41:46.841210Z",
     "iopub.status.idle": "2022-11-25T00:41:46.844505Z",
     "shell.execute_reply": "2022-11-25T00:41:46.843969Z"
    },
    "papermill": {
     "duration": 0.03763,
     "end_time": "2022-11-25T00:41:46.844604",
     "exception": false,
     "start_time": "2022-11-25T00:41:46.806974",
     "status": "completed"
    },
    "tags": []
   },
   "outputs": [],
   "source": [
    "#hide\n",
    "# g.head()"
   ]
  },
  {
   "cell_type": "code",
   "execution_count": 26,
   "id": "specific-kruger",
   "metadata": {
    "execution": {
     "iopub.execute_input": "2022-11-25T00:41:46.910632Z",
     "iopub.status.busy": "2022-11-25T00:41:46.910067Z",
     "iopub.status.idle": "2022-11-25T00:41:46.912531Z",
     "shell.execute_reply": "2022-11-25T00:41:46.912007Z"
    },
    "papermill": {
     "duration": 0.036746,
     "end_time": "2022-11-25T00:41:46.912630",
     "exception": false,
     "start_time": "2022-11-25T00:41:46.875884",
     "status": "completed"
    },
    "tags": []
   },
   "outputs": [],
   "source": [
    "#hide\n",
    "# g.columns = ['date','country','cases']"
   ]
  },
  {
   "cell_type": "code",
   "execution_count": 27,
   "id": "tender-conversion",
   "metadata": {
    "execution": {
     "iopub.execute_input": "2022-11-25T00:41:46.978374Z",
     "iopub.status.busy": "2022-11-25T00:41:46.977804Z",
     "iopub.status.idle": "2022-11-25T00:41:46.980251Z",
     "shell.execute_reply": "2022-11-25T00:41:46.979730Z"
    },
    "papermill": {
     "duration": 0.036798,
     "end_time": "2022-11-25T00:41:46.980348",
     "exception": false,
     "start_time": "2022-11-25T00:41:46.943550",
     "status": "completed"
    },
    "tags": []
   },
   "outputs": [],
   "source": [
    "#hide\n",
    "# g['continent'] = g.country"
   ]
  },
  {
   "cell_type": "code",
   "execution_count": 28,
   "id": "substantial-wilderness",
   "metadata": {
    "execution": {
     "iopub.execute_input": "2022-11-25T00:41:47.046456Z",
     "iopub.status.busy": "2022-11-25T00:41:47.045902Z",
     "iopub.status.idle": "2022-11-25T00:41:47.047667Z",
     "shell.execute_reply": "2022-11-25T00:41:47.048078Z"
    },
    "papermill": {
     "duration": 0.036628,
     "end_time": "2022-11-25T00:41:47.048187",
     "exception": false,
     "start_time": "2022-11-25T00:41:47.011559",
     "status": "completed"
    },
    "tags": []
   },
   "outputs": [],
   "source": [
    "#hide\n",
    "# cols = list(g.columns.values)"
   ]
  },
  {
   "cell_type": "code",
   "execution_count": 29,
   "id": "solved-farming",
   "metadata": {
    "execution": {
     "iopub.execute_input": "2022-11-25T00:41:47.113675Z",
     "iopub.status.busy": "2022-11-25T00:41:47.113093Z",
     "iopub.status.idle": "2022-11-25T00:41:47.115554Z",
     "shell.execute_reply": "2022-11-25T00:41:47.115113Z"
    },
    "papermill": {
     "duration": 0.036488,
     "end_time": "2022-11-25T00:41:47.115654",
     "exception": false,
     "start_time": "2022-11-25T00:41:47.079166",
     "status": "completed"
    },
    "tags": []
   },
   "outputs": [],
   "source": [
    "#hide\n",
    "# cols.insert(0, cols.pop())"
   ]
  },
  {
   "cell_type": "code",
   "execution_count": 30,
   "id": "executed-adoption",
   "metadata": {
    "execution": {
     "iopub.execute_input": "2022-11-25T00:41:47.181686Z",
     "iopub.status.busy": "2022-11-25T00:41:47.181085Z",
     "iopub.status.idle": "2022-11-25T00:41:47.183473Z",
     "shell.execute_reply": "2022-11-25T00:41:47.182941Z"
    },
    "papermill": {
     "duration": 0.036889,
     "end_time": "2022-11-25T00:41:47.183576",
     "exception": false,
     "start_time": "2022-11-25T00:41:47.146687",
     "status": "completed"
    },
    "tags": []
   },
   "outputs": [],
   "source": [
    "#hide\n",
    "# g = g[cols]"
   ]
  },
  {
   "cell_type": "code",
   "execution_count": 31,
   "id": "subject-dublin",
   "metadata": {
    "execution": {
     "iopub.execute_input": "2022-11-25T00:41:47.249999Z",
     "iopub.status.busy": "2022-11-25T00:41:47.249395Z",
     "iopub.status.idle": "2022-11-25T00:41:47.252541Z",
     "shell.execute_reply": "2022-11-25T00:41:47.252005Z"
    },
    "papermill": {
     "duration": 0.03771,
     "end_time": "2022-11-25T00:41:47.252646",
     "exception": false,
     "start_time": "2022-11-25T00:41:47.214936",
     "status": "completed"
    },
    "tags": []
   },
   "outputs": [],
   "source": [
    "#hide\n",
    "# g['continent'] = g['continent'].map(mapping['map.continent'])"
   ]
  },
  {
   "cell_type": "code",
   "execution_count": 32,
   "id": "freelance-scout",
   "metadata": {
    "execution": {
     "iopub.execute_input": "2022-11-25T00:41:47.318849Z",
     "iopub.status.busy": "2022-11-25T00:41:47.318280Z",
     "iopub.status.idle": "2022-11-25T00:41:47.320616Z",
     "shell.execute_reply": "2022-11-25T00:41:47.320094Z"
    },
    "papermill": {
     "duration": 0.036779,
     "end_time": "2022-11-25T00:41:47.320717",
     "exception": false,
     "start_time": "2022-11-25T00:41:47.283938",
     "status": "completed"
    },
    "tags": []
   },
   "outputs": [],
   "source": [
    "#hide\n",
    "# g.head()"
   ]
  },
  {
   "cell_type": "code",
   "execution_count": 33,
   "id": "limited-engine",
   "metadata": {
    "execution": {
     "iopub.execute_input": "2022-11-25T00:41:47.386153Z",
     "iopub.status.busy": "2022-11-25T00:41:47.385590Z",
     "iopub.status.idle": "2022-11-25T00:41:47.388062Z",
     "shell.execute_reply": "2022-11-25T00:41:47.387599Z"
    },
    "papermill": {
     "duration": 0.0365,
     "end_time": "2022-11-25T00:41:47.388162",
     "exception": false,
     "start_time": "2022-11-25T00:41:47.351662",
     "status": "completed"
    },
    "tags": []
   },
   "outputs": [],
   "source": [
    "# hide\n",
    "# g['date'] = g['date'].astype('datetime64[ns]')"
   ]
  },
  {
   "cell_type": "code",
   "execution_count": 34,
   "id": "sophisticated-supervisor",
   "metadata": {
    "execution": {
     "iopub.execute_input": "2022-11-25T00:41:47.454227Z",
     "iopub.status.busy": "2022-11-25T00:41:47.453656Z",
     "iopub.status.idle": "2022-11-25T00:41:47.455648Z",
     "shell.execute_reply": "2022-11-25T00:41:47.456069Z"
    },
    "papermill": {
     "duration": 0.036782,
     "end_time": "2022-11-25T00:41:47.456186",
     "exception": false,
     "start_time": "2022-11-25T00:41:47.419404",
     "status": "completed"
    },
    "tags": []
   },
   "outputs": [],
   "source": [
    "#hide\n",
    "# g['date'] = g.date.dt.dayofyear"
   ]
  },
  {
   "cell_type": "code",
   "execution_count": 35,
   "id": "inside-dubai",
   "metadata": {
    "execution": {
     "iopub.execute_input": "2022-11-25T00:41:47.522108Z",
     "iopub.status.busy": "2022-11-25T00:41:47.521541Z",
     "iopub.status.idle": "2022-11-25T00:41:47.523854Z",
     "shell.execute_reply": "2022-11-25T00:41:47.523405Z"
    },
    "papermill": {
     "duration": 0.036661,
     "end_time": "2022-11-25T00:41:47.523958",
     "exception": false,
     "start_time": "2022-11-25T00:41:47.487297",
     "status": "completed"
    },
    "tags": []
   },
   "outputs": [],
   "source": [
    "#hide\n",
    "# g = g.rename(columns= {'continent':'group','country':'name','cases':'value'})"
   ]
  },
  {
   "cell_type": "code",
   "execution_count": 36,
   "id": "fleet-motorcycle",
   "metadata": {
    "execution": {
     "iopub.execute_input": "2022-11-25T00:41:47.590072Z",
     "iopub.status.busy": "2022-11-25T00:41:47.589495Z",
     "iopub.status.idle": "2022-11-25T00:41:47.591894Z",
     "shell.execute_reply": "2022-11-25T00:41:47.591452Z"
    },
    "papermill": {
     "duration": 0.036856,
     "end_time": "2022-11-25T00:41:47.591997",
     "exception": false,
     "start_time": "2022-11-25T00:41:47.555141",
     "status": "completed"
    },
    "tags": []
   },
   "outputs": [],
   "source": [
    "#hide\n",
    "# cols = ['name','group','day','value']"
   ]
  },
  {
   "cell_type": "code",
   "execution_count": 37,
   "id": "continued-sleeping",
   "metadata": {
    "execution": {
     "iopub.execute_input": "2022-11-25T00:41:47.657898Z",
     "iopub.status.busy": "2022-11-25T00:41:47.657284Z",
     "iopub.status.idle": "2022-11-25T00:41:47.659811Z",
     "shell.execute_reply": "2022-11-25T00:41:47.659351Z"
    },
    "papermill": {
     "duration": 0.036732,
     "end_time": "2022-11-25T00:41:47.659916",
     "exception": false,
     "start_time": "2022-11-25T00:41:47.623184",
     "status": "completed"
    },
    "tags": []
   },
   "outputs": [],
   "source": [
    "#hide\n",
    "# g.rename(columns= {'date':'day'},inplace = True)"
   ]
  },
  {
   "cell_type": "code",
   "execution_count": 38,
   "id": "major-fight",
   "metadata": {
    "execution": {
     "iopub.execute_input": "2022-11-25T00:41:47.726088Z",
     "iopub.status.busy": "2022-11-25T00:41:47.725516Z",
     "iopub.status.idle": "2022-11-25T00:41:47.727635Z",
     "shell.execute_reply": "2022-11-25T00:41:47.727108Z"
    },
    "papermill": {
     "duration": 0.036515,
     "end_time": "2022-11-25T00:41:47.727737",
     "exception": false,
     "start_time": "2022-11-25T00:41:47.691222",
     "status": "completed"
    },
    "tags": []
   },
   "outputs": [],
   "source": [
    "#hide\n",
    "# g = g[cols]"
   ]
  },
  {
   "cell_type": "code",
   "execution_count": 39,
   "id": "structured-mobile",
   "metadata": {
    "execution": {
     "iopub.execute_input": "2022-11-25T00:41:47.793995Z",
     "iopub.status.busy": "2022-11-25T00:41:47.793374Z",
     "iopub.status.idle": "2022-11-25T00:41:47.795198Z",
     "shell.execute_reply": "2022-11-25T00:41:47.795624Z"
    },
    "papermill": {
     "duration": 0.036879,
     "end_time": "2022-11-25T00:41:47.795744",
     "exception": false,
     "start_time": "2022-11-25T00:41:47.758865",
     "status": "completed"
    },
    "tags": []
   },
   "outputs": [],
   "source": [
    "# #hide\n",
    "# g = g[g.group.notna()]"
   ]
  },
  {
   "cell_type": "code",
   "execution_count": 40,
   "id": "determined-closing",
   "metadata": {
    "execution": {
     "iopub.execute_input": "2022-11-25T00:41:47.862063Z",
     "iopub.status.busy": "2022-11-25T00:41:47.861481Z",
     "iopub.status.idle": "2022-11-25T00:41:47.863801Z",
     "shell.execute_reply": "2022-11-25T00:41:47.863277Z"
    },
    "papermill": {
     "duration": 0.036736,
     "end_time": "2022-11-25T00:41:47.863901",
     "exception": false,
     "start_time": "2022-11-25T00:41:47.827165",
     "status": "completed"
    },
    "tags": []
   },
   "outputs": [],
   "source": [
    "# #hide\n",
    "# colors = dict(zip(\n",
    "#     [\"Oceania\", \"Europe\", \"Asia\", \"South America\", \"Middle East\", \"North America\", \"Africa\"],\n",
    "#     [\"#adb0ff\", \"#ffb3ff\", \"#90d595\", \"#e48381\", \"#aafbff\", \"#f7bb5f\", \"#eafb50\"]\n",
    "# ))\n",
    "# group_lk = g.set_index('name')['group'].to_dict()"
   ]
  },
  {
   "cell_type": "code",
   "execution_count": null,
   "id": "gross-drinking",
   "metadata": {
    "papermill": {
     "duration": 0.030926,
     "end_time": "2022-11-25T00:41:47.925947",
     "exception": false,
     "start_time": "2022-11-25T00:41:47.895021",
     "status": "completed"
    },
    "tags": []
   },
   "outputs": [],
   "source": []
  },
  {
   "cell_type": "code",
   "execution_count": 41,
   "id": "subject-macintosh",
   "metadata": {
    "execution": {
     "iopub.execute_input": "2022-11-25T00:41:47.992603Z",
     "iopub.status.busy": "2022-11-25T00:41:47.992022Z",
     "iopub.status.idle": "2022-11-25T00:41:47.995753Z",
     "shell.execute_reply": "2022-11-25T00:41:47.995287Z"
    },
    "papermill": {
     "duration": 0.038857,
     "end_time": "2022-11-25T00:41:47.995856",
     "exception": false,
     "start_time": "2022-11-25T00:41:47.956999",
     "status": "completed"
    },
    "tags": []
   },
   "outputs": [],
   "source": [
    "# #hide\n",
    "# fig, ax = plt.subplots(figsize=(15, 8))\n",
    "\n",
    "# def draw_barchart(current_day):\n",
    "#     dff = g[g['day'].eq(current_day)].sort_values(by='value', ascending=True).tail(10)\n",
    "#     ax.clear()\n",
    "#     ax.barh(dff['name'], dff['value'], color=[colors[group_lk[x]] for x in dff['name']])\n",
    "#     dx = dff['value'].max() / 200\n",
    "    \n",
    "#     for i, (value, name) in enumerate(zip(dff['value'], dff['name'])):\n",
    "#         ax.text(value-dx, i,     name,           size=14, weight=600, ha='right', va='bottom')\n",
    "#         ax.text(value-dx, i-.25, group_lk[name], size=10, color='#444444', ha='right', va='baseline')\n",
    "#         ax.text(value+dx, i,     f'{value:,.0f}',  size=14, ha='left',  va='center')\n",
    "#     ax.text(1, 0.4, current_day, transform=ax.transAxes, color='#777777', size=46, ha='right', weight=800)\n",
    "#     ax.text(0, 1.06, 'Population (thousands)', transform=ax.transAxes, size=12, color='#777777')\n",
    "#     ax.xaxis.set_major_formatter(ticker.StrMethodFormatter('{x:,.0f}'))\n",
    "#     ax.xaxis.set_ticks_position('top')\n",
    "#     ax.tick_params(axis='x', colors='#777777', labelsize=12)\n",
    "#     ax.set_yticks([])\n",
    "#     ax.margins(0, 0.01)\n",
    "#     ax.grid(which='major', axis='x', linestyle='-')\n",
    "#     ax.set_axisbelow(True)\n",
    "    \n",
    "#     ax.text(0, 1.15, 'Coronavirus',\n",
    "#             transform=ax.transAxes, size=24, weight=600, ha='left', va='top')\n",
    "# #     ax.text(1, 0, 'by @pratapvardhan; credit @jburnmurdoch', transform=ax.transAxes, color='#777777', ha='right',\n",
    "# #             bbox=dict(facecolor='white', alpha=0.8, edgecolor='white'))\n",
    "#     plt.box(False)"
   ]
  },
  {
   "cell_type": "code",
   "execution_count": 42,
   "id": "sexual-wages",
   "metadata": {
    "execution": {
     "iopub.execute_input": "2022-11-25T00:41:48.061878Z",
     "iopub.status.busy": "2022-11-25T00:41:48.061285Z",
     "iopub.status.idle": "2022-11-25T00:41:48.064481Z",
     "shell.execute_reply": "2022-11-25T00:41:48.064025Z"
    },
    "papermill": {
     "duration": 0.037525,
     "end_time": "2022-11-25T00:41:48.064585",
     "exception": false,
     "start_time": "2022-11-25T00:41:48.027060",
     "status": "completed"
    },
    "tags": []
   },
   "outputs": [],
   "source": [
    "# #hide_input\n",
    "# fig, ax = plt.subplots(figsize=(15, 8))\n",
    "# animator = animation.FuncAnimation(fig, draw_barchart, frames=range(g.day.values.min(), g.day.values.max()))\n",
    "# HTML(animator.to_jshtml())\n",
    "# # or use animator.to_html5_video() or animator.save() "
   ]
  },
  {
   "cell_type": "code",
   "execution_count": null,
   "id": "australian-container",
   "metadata": {
    "papermill": {
     "duration": 0.031088,
     "end_time": "2022-11-25T00:41:48.126996",
     "exception": false,
     "start_time": "2022-11-25T00:41:48.095908",
     "status": "completed"
    },
    "tags": []
   },
   "outputs": [],
   "source": []
  },
  {
   "cell_type": "code",
   "execution_count": null,
   "id": "mediterranean-pontiac",
   "metadata": {
    "papermill": {
     "duration": 0.030952,
     "end_time": "2022-11-25T00:41:48.188945",
     "exception": false,
     "start_time": "2022-11-25T00:41:48.157993",
     "status": "completed"
    },
    "tags": []
   },
   "outputs": [],
   "source": []
  },
  {
   "cell_type": "code",
   "execution_count": null,
   "id": "aging-legislature",
   "metadata": {
    "papermill": {
     "duration": 0.031052,
     "end_time": "2022-11-25T00:41:48.251183",
     "exception": false,
     "start_time": "2022-11-25T00:41:48.220131",
     "status": "completed"
    },
    "tags": []
   },
   "outputs": [],
   "source": []
  }
 ],
 "metadata": {
  "kernelspec": {
   "display_name": "Python 3",
   "language": "python",
   "name": "python3"
  },
  "language_info": {
   "codemirror_mode": {
    "name": "ipython",
    "version": 3
   },
   "file_extension": ".py",
   "mimetype": "text/x-python",
   "name": "python",
   "nbconvert_exporter": "python",
   "pygments_lexer": "ipython3",
   "version": "3.6.15"
  },
  "papermill": {
   "duration": 5.914058,
   "end_time": "2022-11-25T00:41:48.599398",
   "environment_variables": {},
   "exception": null,
   "input_path": "2020-03-21-covid19exp.ipynb",
   "output_path": "2020-03-21-covid19exp.ipynb",
   "parameters": {},
   "start_time": "2022-11-25T00:41:42.685340",
   "version": "2.0.0"
  }
 },
 "nbformat": 4,
 "nbformat_minor": 5
}