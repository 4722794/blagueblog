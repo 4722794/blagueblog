{
 "cells": [
  {
   "cell_type": "markdown",
   "id": "muslim-click",
   "metadata": {
    "papermill": {
     "duration": 0.043824,
     "end_time": "2022-10-31T00:57:08.958836",
     "exception": false,
     "start_time": "2022-10-31T00:57:08.915012",
     "status": "completed"
    },
    "tags": []
   },
   "source": [
    "# COVID-19 Case Race\n",
    "> A race chart to see rising cases around the world\n",
    "\n",
    "- author: Hargun Oberoi\n",
    "- image: images/covid-overview.png\n",
    "- hide: false\n",
    "- badges: false"
   ]
  },
  {
   "cell_type": "code",
   "execution_count": 1,
   "id": "proof-material",
   "metadata": {
    "execution": {
     "iopub.execute_input": "2022-10-31T00:57:09.044034Z",
     "iopub.status.busy": "2022-10-31T00:57:09.043407Z",
     "iopub.status.idle": "2022-10-31T00:57:09.456049Z",
     "shell.execute_reply": "2022-10-31T00:57:09.455164Z"
    },
    "papermill": {
     "duration": 0.458671,
     "end_time": "2022-10-31T00:57:09.456265",
     "exception": false,
     "start_time": "2022-10-31T00:57:08.997594",
     "status": "completed"
    },
    "tags": []
   },
   "outputs": [],
   "source": [
    "#hide\n",
    "import numpy as np\n",
    "import pandas as pd\n",
    "from jinja2 import Template\n",
    "from IPython.display import HTML"
   ]
  },
  {
   "cell_type": "code",
   "execution_count": 2,
   "id": "developed-terminology",
   "metadata": {
    "execution": {
     "iopub.execute_input": "2022-10-31T00:57:09.537109Z",
     "iopub.status.busy": "2022-10-31T00:57:09.536301Z",
     "iopub.status.idle": "2022-10-31T00:57:09.540071Z",
     "shell.execute_reply": "2022-10-31T00:57:09.539463Z"
    },
    "papermill": {
     "duration": 0.045294,
     "end_time": "2022-10-31T00:57:09.540190",
     "exception": false,
     "start_time": "2022-10-31T00:57:09.494896",
     "status": "completed"
    },
    "tags": []
   },
   "outputs": [],
   "source": [
    "#hide\n",
    "\n",
    "# FETCH\n",
    "base_url = 'https://raw.githubusercontent.com/pratapvardhan/notebooks/master/covid19/'\n",
    "paths = {\n",
    "    'mapping': base_url + 'mapping_countries.csv',\n",
    "    'overview': base_url + 'overview.tpl'\n",
    "}"
   ]
  },
  {
   "cell_type": "code",
   "execution_count": 3,
   "id": "dynamic-saver",
   "metadata": {
    "execution": {
     "iopub.execute_input": "2022-10-31T00:57:09.624728Z",
     "iopub.status.busy": "2022-10-31T00:57:09.623995Z",
     "iopub.status.idle": "2022-10-31T00:57:09.628555Z",
     "shell.execute_reply": "2022-10-31T00:57:09.627974Z"
    },
    "papermill": {
     "duration": 0.052518,
     "end_time": "2022-10-31T00:57:09.628679",
     "exception": false,
     "start_time": "2022-10-31T00:57:09.576161",
     "status": "completed"
    },
    "tags": []
   },
   "outputs": [
    {
     "data": {
      "text/plain": [
       "'https://raw.githubusercontent.com/pratapvardhan/notebooks/master/covid19/mapping_countries.csv'"
      ]
     },
     "execution_count": 3,
     "metadata": {},
     "output_type": "execute_result"
    }
   ],
   "source": [
    "#hide\n",
    "paths['mapping']"
   ]
  },
  {
   "cell_type": "code",
   "execution_count": 4,
   "id": "urban-software",
   "metadata": {
    "execution": {
     "iopub.execute_input": "2022-10-31T00:57:09.709719Z",
     "iopub.status.busy": "2022-10-31T00:57:09.709028Z",
     "iopub.status.idle": "2022-10-31T00:57:09.711409Z",
     "shell.execute_reply": "2022-10-31T00:57:09.711989Z"
    },
    "papermill": {
     "duration": 0.045536,
     "end_time": "2022-10-31T00:57:09.712192",
     "exception": false,
     "start_time": "2022-10-31T00:57:09.666656",
     "status": "completed"
    },
    "tags": []
   },
   "outputs": [],
   "source": [
    "#hide\n",
    "def get_mappings(url):\n",
    "    df = pd.read_csv(url)\n",
    "    return {\n",
    "        'df': df,\n",
    "        'replace.country': dict(df.dropna(subset=['Name']).set_index('Country')['Name']),\n",
    "        'map.continent': dict(df.set_index('Name')['Continent'])\n",
    "    }"
   ]
  },
  {
   "cell_type": "code",
   "execution_count": 5,
   "id": "intimate-machinery",
   "metadata": {
    "execution": {
     "iopub.execute_input": "2022-10-31T00:57:09.794466Z",
     "iopub.status.busy": "2022-10-31T00:57:09.793660Z",
     "iopub.status.idle": "2022-10-31T00:57:09.826340Z",
     "shell.execute_reply": "2022-10-31T00:57:09.827062Z"
    },
    "papermill": {
     "duration": 0.079096,
     "end_time": "2022-10-31T00:57:09.827228",
     "exception": false,
     "start_time": "2022-10-31T00:57:09.748132",
     "status": "completed"
    },
    "tags": []
   },
   "outputs": [],
   "source": [
    "#hide\n",
    "mapping = get_mappings(paths['mapping'])"
   ]
  },
  {
   "cell_type": "code",
   "execution_count": 6,
   "id": "certified-tactics",
   "metadata": {
    "execution": {
     "iopub.execute_input": "2022-10-31T00:57:09.909851Z",
     "iopub.status.busy": "2022-10-31T00:57:09.909094Z",
     "iopub.status.idle": "2022-10-31T00:57:09.911784Z",
     "shell.execute_reply": "2022-10-31T00:57:09.912473Z"
    },
    "papermill": {
     "duration": 0.04757,
     "end_time": "2022-10-31T00:57:09.912613",
     "exception": false,
     "start_time": "2022-10-31T00:57:09.865043",
     "status": "completed"
    },
    "tags": []
   },
   "outputs": [],
   "source": [
    "#hide\n",
    "def get_template(path):\n",
    "    from urllib.parse import urlparse\n",
    "    if bool(urlparse(path).netloc):\n",
    "        from urllib.request import urlopen\n",
    "        return urlopen(path).read().decode('utf8')\n",
    "    return open(path).read()"
   ]
  },
  {
   "cell_type": "code",
   "execution_count": 7,
   "id": "realistic-blast",
   "metadata": {
    "execution": {
     "iopub.execute_input": "2022-10-31T00:57:09.996329Z",
     "iopub.status.busy": "2022-10-31T00:57:09.995402Z",
     "iopub.status.idle": "2022-10-31T00:57:10.001518Z",
     "shell.execute_reply": "2022-10-31T00:57:10.002109Z"
    },
    "papermill": {
     "duration": 0.051694,
     "end_time": "2022-10-31T00:57:10.002263",
     "exception": false,
     "start_time": "2022-10-31T00:57:09.950569",
     "status": "completed"
    },
    "tags": []
   },
   "outputs": [],
   "source": [
    "#hide\n",
    "def get_frame(name):\n",
    "    url = (\n",
    "        'https://raw.githubusercontent.com/CSSEGISandData/COVID-19/master/csse_covid_19_data/'\n",
    "        f'csse_covid_19_time_series/time_series_covid19_{name}_global.csv')\n",
    "    df = pd.read_csv(url)\n",
    "    # rename countries\n",
    "    df['Country/Region'] = df['Country/Region'].replace(mapping['replace.country'])\n",
    "    return df"
   ]
  },
  {
   "cell_type": "code",
   "execution_count": 8,
   "id": "affiliated-characterization",
   "metadata": {
    "execution": {
     "iopub.execute_input": "2022-10-31T00:57:10.084140Z",
     "iopub.status.busy": "2022-10-31T00:57:10.083418Z",
     "iopub.status.idle": "2022-10-31T00:57:10.087815Z",
     "shell.execute_reply": "2022-10-31T00:57:10.087149Z"
    },
    "papermill": {
     "duration": 0.049014,
     "end_time": "2022-10-31T00:57:10.087932",
     "exception": false,
     "start_time": "2022-10-31T00:57:10.038918",
     "status": "completed"
    },
    "tags": []
   },
   "outputs": [],
   "source": [
    "#hide\n",
    "def get_dates(df):\n",
    "    dt_cols = df.columns[~df.columns.isin(['Province/State', 'Country/Region', 'Lat', 'Long'])]\n",
    "    LAST_DATE_I = -1\n",
    "    # sometimes last column may be empty, then go backwards\n",
    "    for i in range(-1, -len(dt_cols), -1):\n",
    "        if not df[dt_cols[i]].fillna(0).eq(0).all():\n",
    "            LAST_DATE_I = i\n",
    "            break\n",
    "    return LAST_DATE_I, dt_cols"
   ]
  },
  {
   "cell_type": "code",
   "execution_count": 9,
   "id": "recent-optimization",
   "metadata": {
    "execution": {
     "iopub.execute_input": "2022-10-31T00:57:10.173788Z",
     "iopub.status.busy": "2022-10-31T00:57:10.172967Z",
     "iopub.status.idle": "2022-10-31T00:57:10.704500Z",
     "shell.execute_reply": "2022-10-31T00:57:10.703902Z"
    },
    "papermill": {
     "duration": 0.580055,
     "end_time": "2022-10-31T00:57:10.704649",
     "exception": false,
     "start_time": "2022-10-31T00:57:10.124594",
     "status": "completed"
    },
    "tags": []
   },
   "outputs": [],
   "source": [
    "#hide\n",
    "COL_REGION = 'Country/Region'\n",
    "# Confirmed, Recovered, Deaths\n",
    "df = get_frame('confirmed')\n",
    "# dft_: timeseries, dfc_: today country agg\n",
    "dft_cases = df\n",
    "dft_deaths = get_frame('deaths')\n",
    "dft_recovered = get_frame('recovered')\n",
    "LAST_DATE_I, dt_cols = get_dates(df)"
   ]
  },
  {
   "cell_type": "code",
   "execution_count": 10,
   "id": "absolute-copper",
   "metadata": {
    "execution": {
     "iopub.execute_input": "2022-10-31T00:57:10.793776Z",
     "iopub.status.busy": "2022-10-31T00:57:10.792809Z",
     "iopub.status.idle": "2022-10-31T00:57:10.795916Z",
     "shell.execute_reply": "2022-10-31T00:57:10.796568Z"
    },
    "papermill": {
     "duration": 0.051914,
     "end_time": "2022-10-31T00:57:10.796748",
     "exception": false,
     "start_time": "2022-10-31T00:57:10.744834",
     "status": "completed"
    },
    "tags": []
   },
   "outputs": [],
   "source": [
    "#hide\n",
    "LAST_DATE_I, dt_cols = get_dates(df)\n",
    "dt_today =dt_cols[LAST_DATE_I]\n",
    "# dt_5day = dt_cols[LAST_DATE_I - 5]\n",
    "dt_yday = dt_cols[LAST_DATE_I - 1]"
   ]
  },
  {
   "cell_type": "code",
   "execution_count": 11,
   "id": "restricted-sheriff",
   "metadata": {
    "execution": {
     "iopub.execute_input": "2022-10-31T00:57:10.887122Z",
     "iopub.status.busy": "2022-10-31T00:57:10.886375Z",
     "iopub.status.idle": "2022-10-31T00:57:10.894880Z",
     "shell.execute_reply": "2022-10-31T00:57:10.895658Z"
    },
    "papermill": {
     "duration": 0.059477,
     "end_time": "2022-10-31T00:57:10.895892",
     "exception": false,
     "start_time": "2022-10-31T00:57:10.836415",
     "status": "completed"
    },
    "tags": []
   },
   "outputs": [],
   "source": [
    "#hide\n",
    "dfc_cases = dft_cases.groupby(COL_REGION)[dt_today].sum()\n",
    "dfc_deaths = dft_deaths.groupby(COL_REGION)[dt_today].sum()\n",
    "# dfp_cases = dft_cases.groupby(COL_REGION)[dt_5day].sum()\n",
    "# dfp_deaths = dft_deaths.groupby(COL_REGION)[dt_5day].sum()\n",
    "dfp_cases = dft_cases.groupby(COL_REGION)[dt_yday].sum()\n",
    "dfp_deaths = dft_deaths.groupby(COL_REGION)[dt_yday].sum()"
   ]
  },
  {
   "cell_type": "code",
   "execution_count": 12,
   "id": "deluxe-hepatitis",
   "metadata": {
    "execution": {
     "iopub.execute_input": "2022-10-31T00:57:10.981161Z",
     "iopub.status.busy": "2022-10-31T00:57:10.980119Z",
     "iopub.status.idle": "2022-10-31T00:57:10.987531Z",
     "shell.execute_reply": "2022-10-31T00:57:10.986841Z"
    },
    "papermill": {
     "duration": 0.052359,
     "end_time": "2022-10-31T00:57:10.987659",
     "exception": false,
     "start_time": "2022-10-31T00:57:10.935300",
     "status": "completed"
    },
    "tags": []
   },
   "outputs": [],
   "source": [
    "#hide\n",
    "df_table = (pd.DataFrame(dict(Cases = dfc_cases, Deaths = dfc_deaths, PCases = dfp_cases, PDeaths = dfp_deaths))\n",
    "            .sort_values(by = ['Cases','Deaths'], ascending = [False, False])\n",
    "            .reset_index())"
   ]
  },
  {
   "cell_type": "code",
   "execution_count": 13,
   "id": "educational-chancellor",
   "metadata": {
    "execution": {
     "iopub.execute_input": "2022-10-31T00:57:11.081374Z",
     "iopub.status.busy": "2022-10-31T00:57:11.080597Z",
     "iopub.status.idle": "2022-10-31T00:57:11.090432Z",
     "shell.execute_reply": "2022-10-31T00:57:11.091309Z"
    },
    "papermill": {
     "duration": 0.068152,
     "end_time": "2022-10-31T00:57:11.091520",
     "exception": false,
     "start_time": "2022-10-31T00:57:11.023368",
     "status": "completed"
    },
    "tags": []
   },
   "outputs": [
    {
     "data": {
      "text/html": [
       "<div>\n",
       "<style scoped>\n",
       "    .dataframe tbody tr th:only-of-type {\n",
       "        vertical-align: middle;\n",
       "    }\n",
       "\n",
       "    .dataframe tbody tr th {\n",
       "        vertical-align: top;\n",
       "    }\n",
       "\n",
       "    .dataframe thead th {\n",
       "        text-align: right;\n",
       "    }\n",
       "</style>\n",
       "<table border=\"1\" class=\"dataframe\">\n",
       "  <thead>\n",
       "    <tr style=\"text-align: right;\">\n",
       "      <th></th>\n",
       "      <th>Country/Region</th>\n",
       "      <th>Cases</th>\n",
       "      <th>Deaths</th>\n",
       "      <th>PCases</th>\n",
       "      <th>PDeaths</th>\n",
       "      <th>Cases (+)</th>\n",
       "      <th>Deaths (+)</th>\n",
       "      <th>Fatality Rate</th>\n",
       "      <th>Continent</th>\n",
       "    </tr>\n",
       "  </thead>\n",
       "  <tbody>\n",
       "    <tr>\n",
       "      <th>0</th>\n",
       "      <td>US</td>\n",
       "      <td>97447532</td>\n",
       "      <td>1070264</td>\n",
       "      <td>97438900</td>\n",
       "      <td>1070234</td>\n",
       "      <td>8632</td>\n",
       "      <td>30</td>\n",
       "      <td>1.10</td>\n",
       "      <td>North America</td>\n",
       "    </tr>\n",
       "    <tr>\n",
       "      <th>1</th>\n",
       "      <td>India</td>\n",
       "      <td>44652256</td>\n",
       "      <td>529016</td>\n",
       "      <td>44650662</td>\n",
       "      <td>529008</td>\n",
       "      <td>1594</td>\n",
       "      <td>8</td>\n",
       "      <td>1.18</td>\n",
       "      <td>Asia</td>\n",
       "    </tr>\n",
       "    <tr>\n",
       "      <th>2</th>\n",
       "      <td>France</td>\n",
       "      <td>36987918</td>\n",
       "      <td>157872</td>\n",
       "      <td>36987918</td>\n",
       "      <td>157872</td>\n",
       "      <td>0</td>\n",
       "      <td>0</td>\n",
       "      <td>0.43</td>\n",
       "      <td>Europe</td>\n",
       "    </tr>\n",
       "    <tr>\n",
       "      <th>3</th>\n",
       "      <td>Germany</td>\n",
       "      <td>35571130</td>\n",
       "      <td>153544</td>\n",
       "      <td>35571130</td>\n",
       "      <td>153544</td>\n",
       "      <td>0</td>\n",
       "      <td>0</td>\n",
       "      <td>0.43</td>\n",
       "      <td>Europe</td>\n",
       "    </tr>\n",
       "    <tr>\n",
       "      <th>4</th>\n",
       "      <td>Brazil</td>\n",
       "      <td>34815258</td>\n",
       "      <td>687962</td>\n",
       "      <td>34815258</td>\n",
       "      <td>687962</td>\n",
       "      <td>0</td>\n",
       "      <td>0</td>\n",
       "      <td>1.98</td>\n",
       "      <td>South America</td>\n",
       "    </tr>\n",
       "  </tbody>\n",
       "</table>\n",
       "</div>"
      ],
      "text/plain": [
       "  Country/Region     Cases   Deaths    PCases  PDeaths  Cases (+)  Deaths (+)  \\\n",
       "0             US  97447532  1070264  97438900  1070234       8632          30   \n",
       "1          India  44652256   529016  44650662   529008       1594           8   \n",
       "2         France  36987918   157872  36987918   157872          0           0   \n",
       "3        Germany  35571130   153544  35571130   153544          0           0   \n",
       "4         Brazil  34815258   687962  34815258   687962          0           0   \n",
       "\n",
       "   Fatality Rate      Continent  \n",
       "0           1.10  North America  \n",
       "1           1.18           Asia  \n",
       "2           0.43         Europe  \n",
       "3           0.43         Europe  \n",
       "4           1.98  South America  "
      ]
     },
     "execution_count": 13,
     "metadata": {},
     "output_type": "execute_result"
    }
   ],
   "source": [
    "#hide\n",
    "for c in 'Cases, Deaths'.split(', '):\n",
    "    df_table[f'{c} (+)'] = (df_table[c] - df_table[f'P{c}']).clip(0)\n",
    "    #Clip ça veut dire, les chiffres negatif sont interdit\n",
    "df_table['Fatality Rate'] = (100* df_table['Deaths']/ df_table['Cases']).round(2)\n",
    "df_table['Continent'] = df_table['Country/Region'].map(mapping['map.continent'])\n",
    "df_table.head(5)"
   ]
  },
  {
   "cell_type": "code",
   "execution_count": 14,
   "id": "aboriginal-bulgaria",
   "metadata": {
    "execution": {
     "iopub.execute_input": "2022-10-31T00:57:11.175057Z",
     "iopub.status.busy": "2022-10-31T00:57:11.174052Z",
     "iopub.status.idle": "2022-10-31T00:57:11.177472Z",
     "shell.execute_reply": "2022-10-31T00:57:11.176784Z"
    },
    "papermill": {
     "duration": 0.049397,
     "end_time": "2022-10-31T00:57:11.177662",
     "exception": false,
     "start_time": "2022-10-31T00:57:11.128265",
     "status": "completed"
    },
    "tags": []
   },
   "outputs": [],
   "source": [
    "#hide\n",
    "#delete problematic countries from table\n",
    "df_table = df_table[~df_table['Country/Region'].isin(['Cape Verde', 'Cruise Ship', 'Kosovo'])]"
   ]
  },
  {
   "cell_type": "code",
   "execution_count": 15,
   "id": "fantastic-effect",
   "metadata": {
    "execution": {
     "iopub.execute_input": "2022-10-31T00:57:11.263415Z",
     "iopub.status.busy": "2022-10-31T00:57:11.262628Z",
     "iopub.status.idle": "2022-10-31T00:57:11.287737Z",
     "shell.execute_reply": "2022-10-31T00:57:11.287099Z"
    },
    "papermill": {
     "duration": 0.071947,
     "end_time": "2022-10-31T00:57:11.287878",
     "exception": false,
     "start_time": "2022-10-31T00:57:11.215931",
     "status": "completed"
    },
    "tags": []
   },
   "outputs": [
    {
     "data": {
      "text/html": [
       "<div>\n",
       "<style scoped>\n",
       "    .dataframe tbody tr th:only-of-type {\n",
       "        vertical-align: middle;\n",
       "    }\n",
       "\n",
       "    .dataframe tbody tr th {\n",
       "        vertical-align: top;\n",
       "    }\n",
       "\n",
       "    .dataframe thead th {\n",
       "        text-align: right;\n",
       "    }\n",
       "</style>\n",
       "<table border=\"1\" class=\"dataframe\">\n",
       "  <thead>\n",
       "    <tr style=\"text-align: right;\">\n",
       "      <th></th>\n",
       "      <th>Country/Region</th>\n",
       "      <th>Cases</th>\n",
       "      <th>Deaths</th>\n",
       "      <th>PCases</th>\n",
       "      <th>PDeaths</th>\n",
       "      <th>Cases (+)</th>\n",
       "      <th>Deaths (+)</th>\n",
       "      <th>Fatality Rate</th>\n",
       "      <th>Continent</th>\n",
       "    </tr>\n",
       "  </thead>\n",
       "  <tbody>\n",
       "    <tr>\n",
       "      <th>0</th>\n",
       "      <td>US</td>\n",
       "      <td>97447532</td>\n",
       "      <td>1070264</td>\n",
       "      <td>97438900</td>\n",
       "      <td>1070234</td>\n",
       "      <td>8632</td>\n",
       "      <td>30</td>\n",
       "      <td>1.1</td>\n",
       "      <td>North America</td>\n",
       "    </tr>\n",
       "    <tr>\n",
       "      <th>1</th>\n",
       "      <td>India</td>\n",
       "      <td>44652256</td>\n",
       "      <td>529016</td>\n",
       "      <td>44650662</td>\n",
       "      <td>529008</td>\n",
       "      <td>1594</td>\n",
       "      <td>8</td>\n",
       "      <td>1.2</td>\n",
       "      <td>Asia</td>\n",
       "    </tr>\n",
       "    <tr>\n",
       "      <th>2</th>\n",
       "      <td>France</td>\n",
       "      <td>36987918</td>\n",
       "      <td>157872</td>\n",
       "      <td>36987918</td>\n",
       "      <td>157872</td>\n",
       "      <td>0</td>\n",
       "      <td>0</td>\n",
       "      <td>0.4</td>\n",
       "      <td>Europe</td>\n",
       "    </tr>\n",
       "    <tr>\n",
       "      <th>3</th>\n",
       "      <td>Germany</td>\n",
       "      <td>35571130</td>\n",
       "      <td>153544</td>\n",
       "      <td>35571130</td>\n",
       "      <td>153544</td>\n",
       "      <td>0</td>\n",
       "      <td>0</td>\n",
       "      <td>0.4</td>\n",
       "      <td>Europe</td>\n",
       "    </tr>\n",
       "    <tr>\n",
       "      <th>4</th>\n",
       "      <td>Brazil</td>\n",
       "      <td>34815258</td>\n",
       "      <td>687962</td>\n",
       "      <td>34815258</td>\n",
       "      <td>687962</td>\n",
       "      <td>0</td>\n",
       "      <td>0</td>\n",
       "      <td>2.0</td>\n",
       "      <td>South America</td>\n",
       "    </tr>\n",
       "  </tbody>\n",
       "</table>\n",
       "</div>"
      ],
      "text/plain": [
       "  Country/Region     Cases   Deaths    PCases  PDeaths  Cases (+)  Deaths (+)  \\\n",
       "0             US  97447532  1070264  97438900  1070234       8632          30   \n",
       "1          India  44652256   529016  44650662   529008       1594           8   \n",
       "2         France  36987918   157872  36987918   157872          0           0   \n",
       "3        Germany  35571130   153544  35571130   153544          0           0   \n",
       "4         Brazil  34815258   687962  34815258   687962          0           0   \n",
       "\n",
       "   Fatality Rate      Continent  \n",
       "0            1.1  North America  \n",
       "1            1.2           Asia  \n",
       "2            0.4         Europe  \n",
       "3            0.4         Europe  \n",
       "4            2.0  South America  "
      ]
     },
     "execution_count": 15,
     "metadata": {},
     "output_type": "execute_result"
    }
   ],
   "source": [
    "#hide\n",
    "df_table = (pd.DataFrame(dict(Cases=dfc_cases, Deaths=dfc_deaths, PCases=dfp_cases, PDeaths=dfp_deaths))\n",
    "             .sort_values(by=['Cases', 'Deaths'], ascending=[False, False])\n",
    "             .reset_index())\n",
    "df_table.rename(columns={'index': 'Country/Region'}, inplace=True)\n",
    "for c in 'Cases, Deaths'.split(', '):\n",
    "    df_table[f'{c} (+)'] = (df_table[c] - df_table[f'P{c}']).clip(0)  # DATA BUG\n",
    "df_table['Fatality Rate'] = (100 * df_table['Deaths'] / df_table['Cases']).round(1)\n",
    "df_table['Continent'] = df_table['Country/Region'].map(mapping['map.continent'])\n",
    "df_table.head(5)"
   ]
  },
  {
   "cell_type": "code",
   "execution_count": 16,
   "id": "fewer-occasion",
   "metadata": {
    "execution": {
     "iopub.execute_input": "2022-10-31T00:57:11.379055Z",
     "iopub.status.busy": "2022-10-31T00:57:11.378119Z",
     "iopub.status.idle": "2022-10-31T00:57:11.381204Z",
     "shell.execute_reply": "2022-10-31T00:57:11.381981Z"
    },
    "papermill": {
     "duration": 0.052598,
     "end_time": "2022-10-31T00:57:11.382132",
     "exception": false,
     "start_time": "2022-10-31T00:57:11.329534",
     "status": "completed"
    },
    "tags": []
   },
   "outputs": [],
   "source": [
    "#hide\n",
    "#delete problematic countries from table\n",
    "df_table = df_table[~df_table['Country/Region'].isin(['Cape Verde', 'Cruise Ship', 'Kosovo'])]"
   ]
  },
  {
   "cell_type": "code",
   "execution_count": 17,
   "id": "related-center",
   "metadata": {
    "execution": {
     "iopub.execute_input": "2022-10-31T00:57:11.472719Z",
     "iopub.status.busy": "2022-10-31T00:57:11.471771Z",
     "iopub.status.idle": "2022-10-31T00:57:11.490979Z",
     "shell.execute_reply": "2022-10-31T00:57:11.490287Z"
    },
    "papermill": {
     "duration": 0.069855,
     "end_time": "2022-10-31T00:57:11.491113",
     "exception": false,
     "start_time": "2022-10-31T00:57:11.421258",
     "status": "completed"
    },
    "tags": []
   },
   "outputs": [],
   "source": [
    "#hide\n",
    "metrics = [df_table.columns[index] for index in [1,2,5,6]]\n",
    "# s_china = df_table[df_table['Country/Region'].eq('China')][metrics].sum().add_prefix('China ')\n",
    "s_us = df_table[df_table['Country/Region'].eq('US')][metrics].sum().add_prefix('US ')\n",
    "s_eu = df_table[df_table['Continent'].eq('Europe')][metrics].sum().add_prefix('EU ')\n",
    "s_ind = df_table[df_table['Country/Region'].eq('India')][metrics].sum().add_prefix('India ')\n",
    "summary = {'updated': pd.to_datetime(dt_today), 'since': pd.to_datetime(dt_yday)}\n",
    "summary = {'updated': pd.to_datetime(dt_today), 'since': pd.to_datetime(dt_yday)}\n",
    "summary = {**summary, **df_table[metrics].sum(), **s_ind, **s_us, **s_eu}"
   ]
  },
  {
   "cell_type": "code",
   "execution_count": 18,
   "id": "engaging-syndrome",
   "metadata": {
    "execution": {
     "iopub.execute_input": "2022-10-31T00:57:11.575069Z",
     "iopub.status.busy": "2022-10-31T00:57:11.574215Z",
     "iopub.status.idle": "2022-10-31T00:57:11.597239Z",
     "shell.execute_reply": "2022-10-31T00:57:11.596693Z"
    },
    "papermill": {
     "duration": 0.067567,
     "end_time": "2022-10-31T00:57:11.597361",
     "exception": false,
     "start_time": "2022-10-31T00:57:11.529794",
     "status": "completed"
    },
    "tags": []
   },
   "outputs": [],
   "source": [
    "#hide\n",
    "dft_ct_new_cases = dft_cases.groupby(COL_REGION)[dt_cols].sum().diff(axis=1).fillna(0).astype(int)"
   ]
  },
  {
   "cell_type": "code",
   "execution_count": 19,
   "id": "neutral-assignment",
   "metadata": {
    "execution": {
     "iopub.execute_input": "2022-10-31T00:57:11.694036Z",
     "iopub.status.busy": "2022-10-31T00:57:11.693303Z",
     "iopub.status.idle": "2022-10-31T00:57:11.696277Z",
     "shell.execute_reply": "2022-10-31T00:57:11.696857Z"
    },
    "papermill": {
     "duration": 0.056167,
     "end_time": "2022-10-31T00:57:11.697004",
     "exception": false,
     "start_time": "2022-10-31T00:57:11.640837",
     "status": "completed"
    },
    "tags": []
   },
   "outputs": [],
   "source": [
    "#hide\n",
    "everydaycases = dft_ct_new_cases.cumsum(axis=1)"
   ]
  },
  {
   "cell_type": "code",
   "execution_count": 20,
   "id": "parliamentary-calgary",
   "metadata": {
    "execution": {
     "iopub.execute_input": "2022-10-31T00:57:11.781153Z",
     "iopub.status.busy": "2022-10-31T00:57:11.780339Z",
     "iopub.status.idle": "2022-10-31T00:57:12.458813Z",
     "shell.execute_reply": "2022-10-31T00:57:12.457959Z"
    },
    "papermill": {
     "duration": 0.723001,
     "end_time": "2022-10-31T00:57:12.458996",
     "exception": false,
     "start_time": "2022-10-31T00:57:11.735995",
     "status": "completed"
    },
    "tags": []
   },
   "outputs": [],
   "source": [
    "#hide\n",
    "import pandas as pd\n",
    "import matplotlib.pyplot as plt\n",
    "import matplotlib.ticker as ticker\n",
    "import matplotlib.animation as animation\n",
    "from IPython.display import HTML"
   ]
  },
  {
   "cell_type": "code",
   "execution_count": 21,
   "id": "lasting-extraction",
   "metadata": {
    "execution": {
     "iopub.execute_input": "2022-10-31T00:57:12.545063Z",
     "iopub.status.busy": "2022-10-31T00:57:12.544238Z",
     "iopub.status.idle": "2022-10-31T00:57:12.554966Z",
     "shell.execute_reply": "2022-10-31T00:57:12.554327Z"
    },
    "papermill": {
     "duration": 0.057673,
     "end_time": "2022-10-31T00:57:12.555132",
     "exception": false,
     "start_time": "2022-10-31T00:57:12.497459",
     "status": "completed"
    },
    "tags": []
   },
   "outputs": [],
   "source": [
    "#hide\n",
    "t = everydaycases.stack()"
   ]
  },
  {
   "cell_type": "code",
   "execution_count": 22,
   "id": "premier-sleeve",
   "metadata": {
    "execution": {
     "iopub.execute_input": "2022-10-31T00:57:12.638254Z",
     "iopub.status.busy": "2022-10-31T00:57:12.637615Z",
     "iopub.status.idle": "2022-10-31T00:57:12.653361Z",
     "shell.execute_reply": "2022-10-31T00:57:12.654113Z"
    },
    "papermill": {
     "duration": 0.059255,
     "end_time": "2022-10-31T00:57:12.654263",
     "exception": false,
     "start_time": "2022-10-31T00:57:12.595008",
     "status": "completed"
    },
    "tags": []
   },
   "outputs": [],
   "source": [
    "#hide\n",
    "g = t.reset_index(['Country/Region'])"
   ]
  },
  {
   "cell_type": "code",
   "execution_count": 23,
   "id": "distributed-pittsburgh",
   "metadata": {
    "execution": {
     "iopub.execute_input": "2022-10-31T00:57:12.740289Z",
     "iopub.status.busy": "2022-10-31T00:57:12.739583Z",
     "iopub.status.idle": "2022-10-31T00:57:12.742282Z",
     "shell.execute_reply": "2022-10-31T00:57:12.742980Z"
    },
    "papermill": {
     "duration": 0.050811,
     "end_time": "2022-10-31T00:57:12.743158",
     "exception": false,
     "start_time": "2022-10-31T00:57:12.692347",
     "status": "completed"
    },
    "tags": []
   },
   "outputs": [],
   "source": [
    "#hide\n",
    "g.index.name = 'date'"
   ]
  },
  {
   "cell_type": "code",
   "execution_count": 24,
   "id": "naked-donor",
   "metadata": {
    "execution": {
     "iopub.execute_input": "2022-10-31T00:57:12.827166Z",
     "iopub.status.busy": "2022-10-31T00:57:12.826221Z",
     "iopub.status.idle": "2022-10-31T00:57:12.830645Z",
     "shell.execute_reply": "2022-10-31T00:57:12.830082Z"
    },
    "papermill": {
     "duration": 0.047892,
     "end_time": "2022-10-31T00:57:12.830803",
     "exception": false,
     "start_time": "2022-10-31T00:57:12.782911",
     "status": "completed"
    },
    "tags": []
   },
   "outputs": [],
   "source": [
    "# #hide\n",
    "# g = g.reset_index(['date'])"
   ]
  },
  {
   "cell_type": "code",
   "execution_count": 25,
   "id": "incomplete-mustang",
   "metadata": {
    "execution": {
     "iopub.execute_input": "2022-10-31T00:57:12.919519Z",
     "iopub.status.busy": "2022-10-31T00:57:12.918654Z",
     "iopub.status.idle": "2022-10-31T00:57:12.923247Z",
     "shell.execute_reply": "2022-10-31T00:57:12.922373Z"
    },
    "papermill": {
     "duration": 0.053159,
     "end_time": "2022-10-31T00:57:12.923391",
     "exception": false,
     "start_time": "2022-10-31T00:57:12.870232",
     "status": "completed"
    },
    "tags": []
   },
   "outputs": [],
   "source": [
    "#hide\n",
    "# g.head()"
   ]
  },
  {
   "cell_type": "code",
   "execution_count": 26,
   "id": "specific-kruger",
   "metadata": {
    "execution": {
     "iopub.execute_input": "2022-10-31T00:57:13.006903Z",
     "iopub.status.busy": "2022-10-31T00:57:13.006154Z",
     "iopub.status.idle": "2022-10-31T00:57:13.009453Z",
     "shell.execute_reply": "2022-10-31T00:57:13.008876Z"
    },
    "papermill": {
     "duration": 0.047965,
     "end_time": "2022-10-31T00:57:13.009574",
     "exception": false,
     "start_time": "2022-10-31T00:57:12.961609",
     "status": "completed"
    },
    "tags": []
   },
   "outputs": [],
   "source": [
    "#hide\n",
    "# g.columns = ['date','country','cases']"
   ]
  },
  {
   "cell_type": "code",
   "execution_count": 27,
   "id": "tender-conversion",
   "metadata": {
    "execution": {
     "iopub.execute_input": "2022-10-31T00:57:13.094940Z",
     "iopub.status.busy": "2022-10-31T00:57:13.094027Z",
     "iopub.status.idle": "2022-10-31T00:57:13.097681Z",
     "shell.execute_reply": "2022-10-31T00:57:13.096923Z"
    },
    "papermill": {
     "duration": 0.048426,
     "end_time": "2022-10-31T00:57:13.097805",
     "exception": false,
     "start_time": "2022-10-31T00:57:13.049379",
     "status": "completed"
    },
    "tags": []
   },
   "outputs": [],
   "source": [
    "#hide\n",
    "# g['continent'] = g.country"
   ]
  },
  {
   "cell_type": "code",
   "execution_count": 28,
   "id": "substantial-wilderness",
   "metadata": {
    "execution": {
     "iopub.execute_input": "2022-10-31T00:57:13.180271Z",
     "iopub.status.busy": "2022-10-31T00:57:13.179558Z",
     "iopub.status.idle": "2022-10-31T00:57:13.185427Z",
     "shell.execute_reply": "2022-10-31T00:57:13.186123Z"
    },
    "papermill": {
     "duration": 0.049782,
     "end_time": "2022-10-31T00:57:13.186280",
     "exception": false,
     "start_time": "2022-10-31T00:57:13.136498",
     "status": "completed"
    },
    "tags": []
   },
   "outputs": [],
   "source": [
    "#hide\n",
    "# cols = list(g.columns.values)"
   ]
  },
  {
   "cell_type": "code",
   "execution_count": 29,
   "id": "solved-farming",
   "metadata": {
    "execution": {
     "iopub.execute_input": "2022-10-31T00:57:13.272035Z",
     "iopub.status.busy": "2022-10-31T00:57:13.271105Z",
     "iopub.status.idle": "2022-10-31T00:57:13.274172Z",
     "shell.execute_reply": "2022-10-31T00:57:13.273477Z"
    },
    "papermill": {
     "duration": 0.04455,
     "end_time": "2022-10-31T00:57:13.274296",
     "exception": false,
     "start_time": "2022-10-31T00:57:13.229746",
     "status": "completed"
    },
    "tags": []
   },
   "outputs": [],
   "source": [
    "#hide\n",
    "# cols.insert(0, cols.pop())"
   ]
  },
  {
   "cell_type": "code",
   "execution_count": 30,
   "id": "executed-adoption",
   "metadata": {
    "execution": {
     "iopub.execute_input": "2022-10-31T00:57:13.359030Z",
     "iopub.status.busy": "2022-10-31T00:57:13.358237Z",
     "iopub.status.idle": "2022-10-31T00:57:13.361395Z",
     "shell.execute_reply": "2022-10-31T00:57:13.360793Z"
    },
    "papermill": {
     "duration": 0.047889,
     "end_time": "2022-10-31T00:57:13.361528",
     "exception": false,
     "start_time": "2022-10-31T00:57:13.313639",
     "status": "completed"
    },
    "tags": []
   },
   "outputs": [],
   "source": [
    "#hide\n",
    "# g = g[cols]"
   ]
  },
  {
   "cell_type": "code",
   "execution_count": 31,
   "id": "subject-dublin",
   "metadata": {
    "execution": {
     "iopub.execute_input": "2022-10-31T00:57:13.443807Z",
     "iopub.status.busy": "2022-10-31T00:57:13.442958Z",
     "iopub.status.idle": "2022-10-31T00:57:13.445940Z",
     "shell.execute_reply": "2022-10-31T00:57:13.445400Z"
    },
    "papermill": {
     "duration": 0.0457,
     "end_time": "2022-10-31T00:57:13.446377",
     "exception": false,
     "start_time": "2022-10-31T00:57:13.400677",
     "status": "completed"
    },
    "tags": []
   },
   "outputs": [],
   "source": [
    "#hide\n",
    "# g['continent'] = g['continent'].map(mapping['map.continent'])"
   ]
  },
  {
   "cell_type": "code",
   "execution_count": 32,
   "id": "freelance-scout",
   "metadata": {
    "execution": {
     "iopub.execute_input": "2022-10-31T00:57:13.531657Z",
     "iopub.status.busy": "2022-10-31T00:57:13.530860Z",
     "iopub.status.idle": "2022-10-31T00:57:13.534156Z",
     "shell.execute_reply": "2022-10-31T00:57:13.533455Z"
    },
    "papermill": {
     "duration": 0.047608,
     "end_time": "2022-10-31T00:57:13.534316",
     "exception": false,
     "start_time": "2022-10-31T00:57:13.486708",
     "status": "completed"
    },
    "tags": []
   },
   "outputs": [],
   "source": [
    "#hide\n",
    "# g.head()"
   ]
  },
  {
   "cell_type": "code",
   "execution_count": 33,
   "id": "limited-engine",
   "metadata": {
    "execution": {
     "iopub.execute_input": "2022-10-31T00:57:13.618403Z",
     "iopub.status.busy": "2022-10-31T00:57:13.617681Z",
     "iopub.status.idle": "2022-10-31T00:57:13.621285Z",
     "shell.execute_reply": "2022-10-31T00:57:13.620649Z"
    },
    "papermill": {
     "duration": 0.046845,
     "end_time": "2022-10-31T00:57:13.621411",
     "exception": false,
     "start_time": "2022-10-31T00:57:13.574566",
     "status": "completed"
    },
    "tags": []
   },
   "outputs": [],
   "source": [
    "# hide\n",
    "# g['date'] = g['date'].astype('datetime64[ns]')"
   ]
  },
  {
   "cell_type": "code",
   "execution_count": 34,
   "id": "sophisticated-supervisor",
   "metadata": {
    "execution": {
     "iopub.execute_input": "2022-10-31T00:57:13.708650Z",
     "iopub.status.busy": "2022-10-31T00:57:13.707836Z",
     "iopub.status.idle": "2022-10-31T00:57:13.711286Z",
     "shell.execute_reply": "2022-10-31T00:57:13.710443Z"
    },
    "papermill": {
     "duration": 0.045725,
     "end_time": "2022-10-31T00:57:13.711649",
     "exception": false,
     "start_time": "2022-10-31T00:57:13.665924",
     "status": "completed"
    },
    "tags": []
   },
   "outputs": [],
   "source": [
    "#hide\n",
    "# g['date'] = g.date.dt.dayofyear"
   ]
  },
  {
   "cell_type": "code",
   "execution_count": 35,
   "id": "inside-dubai",
   "metadata": {
    "execution": {
     "iopub.execute_input": "2022-10-31T00:57:13.793062Z",
     "iopub.status.busy": "2022-10-31T00:57:13.792310Z",
     "iopub.status.idle": "2022-10-31T00:57:13.795898Z",
     "shell.execute_reply": "2022-10-31T00:57:13.795131Z"
    },
    "papermill": {
     "duration": 0.044898,
     "end_time": "2022-10-31T00:57:13.796061",
     "exception": false,
     "start_time": "2022-10-31T00:57:13.751163",
     "status": "completed"
    },
    "tags": []
   },
   "outputs": [],
   "source": [
    "#hide\n",
    "# g = g.rename(columns= {'continent':'group','country':'name','cases':'value'})"
   ]
  },
  {
   "cell_type": "code",
   "execution_count": 36,
   "id": "fleet-motorcycle",
   "metadata": {
    "execution": {
     "iopub.execute_input": "2022-10-31T00:57:13.877331Z",
     "iopub.status.busy": "2022-10-31T00:57:13.876545Z",
     "iopub.status.idle": "2022-10-31T00:57:13.879807Z",
     "shell.execute_reply": "2022-10-31T00:57:13.879024Z"
    },
    "papermill": {
     "duration": 0.045106,
     "end_time": "2022-10-31T00:57:13.879962",
     "exception": false,
     "start_time": "2022-10-31T00:57:13.834856",
     "status": "completed"
    },
    "tags": []
   },
   "outputs": [],
   "source": [
    "#hide\n",
    "# cols = ['name','group','day','value']"
   ]
  },
  {
   "cell_type": "code",
   "execution_count": 37,
   "id": "continued-sleeping",
   "metadata": {
    "execution": {
     "iopub.execute_input": "2022-10-31T00:57:13.961297Z",
     "iopub.status.busy": "2022-10-31T00:57:13.960554Z",
     "iopub.status.idle": "2022-10-31T00:57:13.965904Z",
     "shell.execute_reply": "2022-10-31T00:57:13.965335Z"
    },
    "papermill": {
     "duration": 0.047849,
     "end_time": "2022-10-31T00:57:13.966031",
     "exception": false,
     "start_time": "2022-10-31T00:57:13.918182",
     "status": "completed"
    },
    "tags": []
   },
   "outputs": [],
   "source": [
    "#hide\n",
    "# g.rename(columns= {'date':'day'},inplace = True)"
   ]
  },
  {
   "cell_type": "code",
   "execution_count": 38,
   "id": "major-fight",
   "metadata": {
    "execution": {
     "iopub.execute_input": "2022-10-31T00:57:14.047162Z",
     "iopub.status.busy": "2022-10-31T00:57:14.046430Z",
     "iopub.status.idle": "2022-10-31T00:57:14.049755Z",
     "shell.execute_reply": "2022-10-31T00:57:14.049030Z"
    },
    "papermill": {
     "duration": 0.046453,
     "end_time": "2022-10-31T00:57:14.049868",
     "exception": false,
     "start_time": "2022-10-31T00:57:14.003415",
     "status": "completed"
    },
    "tags": []
   },
   "outputs": [],
   "source": [
    "#hide\n",
    "# g = g[cols]"
   ]
  },
  {
   "cell_type": "code",
   "execution_count": 39,
   "id": "structured-mobile",
   "metadata": {
    "execution": {
     "iopub.execute_input": "2022-10-31T00:57:14.136245Z",
     "iopub.status.busy": "2022-10-31T00:57:14.135456Z",
     "iopub.status.idle": "2022-10-31T00:57:14.138420Z",
     "shell.execute_reply": "2022-10-31T00:57:14.137889Z"
    },
    "papermill": {
     "duration": 0.046702,
     "end_time": "2022-10-31T00:57:14.138546",
     "exception": false,
     "start_time": "2022-10-31T00:57:14.091844",
     "status": "completed"
    },
    "tags": []
   },
   "outputs": [],
   "source": [
    "# #hide\n",
    "# g = g[g.group.notna()]"
   ]
  },
  {
   "cell_type": "code",
   "execution_count": 40,
   "id": "determined-closing",
   "metadata": {
    "execution": {
     "iopub.execute_input": "2022-10-31T00:57:14.218506Z",
     "iopub.status.busy": "2022-10-31T00:57:14.217786Z",
     "iopub.status.idle": "2022-10-31T00:57:14.220841Z",
     "shell.execute_reply": "2022-10-31T00:57:14.220095Z"
    },
    "papermill": {
     "duration": 0.043949,
     "end_time": "2022-10-31T00:57:14.221059",
     "exception": false,
     "start_time": "2022-10-31T00:57:14.177110",
     "status": "completed"
    },
    "tags": []
   },
   "outputs": [],
   "source": [
    "# #hide\n",
    "# colors = dict(zip(\n",
    "#     [\"Oceania\", \"Europe\", \"Asia\", \"South America\", \"Middle East\", \"North America\", \"Africa\"],\n",
    "#     [\"#adb0ff\", \"#ffb3ff\", \"#90d595\", \"#e48381\", \"#aafbff\", \"#f7bb5f\", \"#eafb50\"]\n",
    "# ))\n",
    "# group_lk = g.set_index('name')['group'].to_dict()"
   ]
  },
  {
   "cell_type": "code",
   "execution_count": null,
   "id": "gross-drinking",
   "metadata": {
    "papermill": {
     "duration": 0.03529,
     "end_time": "2022-10-31T00:57:14.294381",
     "exception": false,
     "start_time": "2022-10-31T00:57:14.259091",
     "status": "completed"
    },
    "tags": []
   },
   "outputs": [],
   "source": []
  },
  {
   "cell_type": "code",
   "execution_count": 41,
   "id": "subject-macintosh",
   "metadata": {
    "execution": {
     "iopub.execute_input": "2022-10-31T00:57:14.375650Z",
     "iopub.status.busy": "2022-10-31T00:57:14.374930Z",
     "iopub.status.idle": "2022-10-31T00:57:14.380009Z",
     "shell.execute_reply": "2022-10-31T00:57:14.380571Z"
    },
    "papermill": {
     "duration": 0.047861,
     "end_time": "2022-10-31T00:57:14.380729",
     "exception": false,
     "start_time": "2022-10-31T00:57:14.332868",
     "status": "completed"
    },
    "tags": []
   },
   "outputs": [],
   "source": [
    "# #hide\n",
    "# fig, ax = plt.subplots(figsize=(15, 8))\n",
    "\n",
    "# def draw_barchart(current_day):\n",
    "#     dff = g[g['day'].eq(current_day)].sort_values(by='value', ascending=True).tail(10)\n",
    "#     ax.clear()\n",
    "#     ax.barh(dff['name'], dff['value'], color=[colors[group_lk[x]] for x in dff['name']])\n",
    "#     dx = dff['value'].max() / 200\n",
    "    \n",
    "#     for i, (value, name) in enumerate(zip(dff['value'], dff['name'])):\n",
    "#         ax.text(value-dx, i,     name,           size=14, weight=600, ha='right', va='bottom')\n",
    "#         ax.text(value-dx, i-.25, group_lk[name], size=10, color='#444444', ha='right', va='baseline')\n",
    "#         ax.text(value+dx, i,     f'{value:,.0f}',  size=14, ha='left',  va='center')\n",
    "#     ax.text(1, 0.4, current_day, transform=ax.transAxes, color='#777777', size=46, ha='right', weight=800)\n",
    "#     ax.text(0, 1.06, 'Population (thousands)', transform=ax.transAxes, size=12, color='#777777')\n",
    "#     ax.xaxis.set_major_formatter(ticker.StrMethodFormatter('{x:,.0f}'))\n",
    "#     ax.xaxis.set_ticks_position('top')\n",
    "#     ax.tick_params(axis='x', colors='#777777', labelsize=12)\n",
    "#     ax.set_yticks([])\n",
    "#     ax.margins(0, 0.01)\n",
    "#     ax.grid(which='major', axis='x', linestyle='-')\n",
    "#     ax.set_axisbelow(True)\n",
    "    \n",
    "#     ax.text(0, 1.15, 'Coronavirus',\n",
    "#             transform=ax.transAxes, size=24, weight=600, ha='left', va='top')\n",
    "# #     ax.text(1, 0, 'by @pratapvardhan; credit @jburnmurdoch', transform=ax.transAxes, color='#777777', ha='right',\n",
    "# #             bbox=dict(facecolor='white', alpha=0.8, edgecolor='white'))\n",
    "#     plt.box(False)"
   ]
  },
  {
   "cell_type": "code",
   "execution_count": 42,
   "id": "sexual-wages",
   "metadata": {
    "execution": {
     "iopub.execute_input": "2022-10-31T00:57:14.466234Z",
     "iopub.status.busy": "2022-10-31T00:57:14.465492Z",
     "iopub.status.idle": "2022-10-31T00:57:14.468843Z",
     "shell.execute_reply": "2022-10-31T00:57:14.468241Z"
    },
    "papermill": {
     "duration": 0.048928,
     "end_time": "2022-10-31T00:57:14.469065",
     "exception": false,
     "start_time": "2022-10-31T00:57:14.420137",
     "status": "completed"
    },
    "tags": []
   },
   "outputs": [],
   "source": [
    "# #hide_input\n",
    "# fig, ax = plt.subplots(figsize=(15, 8))\n",
    "# animator = animation.FuncAnimation(fig, draw_barchart, frames=range(g.day.values.min(), g.day.values.max()))\n",
    "# HTML(animator.to_jshtml())\n",
    "# # or use animator.to_html5_video() or animator.save() "
   ]
  },
  {
   "cell_type": "code",
   "execution_count": null,
   "id": "australian-container",
   "metadata": {
    "papermill": {
     "duration": 0.039544,
     "end_time": "2022-10-31T00:57:14.547106",
     "exception": false,
     "start_time": "2022-10-31T00:57:14.507562",
     "status": "completed"
    },
    "tags": []
   },
   "outputs": [],
   "source": []
  },
  {
   "cell_type": "code",
   "execution_count": null,
   "id": "mediterranean-pontiac",
   "metadata": {
    "papermill": {
     "duration": 0.037797,
     "end_time": "2022-10-31T00:57:14.623149",
     "exception": false,
     "start_time": "2022-10-31T00:57:14.585352",
     "status": "completed"
    },
    "tags": []
   },
   "outputs": [],
   "source": []
  },
  {
   "cell_type": "code",
   "execution_count": null,
   "id": "aging-legislature",
   "metadata": {
    "papermill": {
     "duration": 0.038344,
     "end_time": "2022-10-31T00:57:14.699294",
     "exception": false,
     "start_time": "2022-10-31T00:57:14.660950",
     "status": "completed"
    },
    "tags": []
   },
   "outputs": [],
   "source": []
  }
 ],
 "metadata": {
  "kernelspec": {
   "display_name": "Python 3",
   "language": "python",
   "name": "python3"
  },
  "language_info": {
   "codemirror_mode": {
    "name": "ipython",
    "version": 3
   },
   "file_extension": ".py",
   "mimetype": "text/x-python",
   "name": "python",
   "nbconvert_exporter": "python",
   "pygments_lexer": "ipython3",
   "version": "3.6.15"
  },
  "papermill": {
   "duration": 7.483883,
   "end_time": "2022-10-31T00:57:15.157309",
   "environment_variables": {},
   "exception": null,
   "input_path": "2020-03-21-covid19exp.ipynb",
   "output_path": "2020-03-21-covid19exp.ipynb",
   "parameters": {},
   "start_time": "2022-10-31T00:57:07.673426",
   "version": "2.0.0"
  }
 },
 "nbformat": 4,
 "nbformat_minor": 5
}