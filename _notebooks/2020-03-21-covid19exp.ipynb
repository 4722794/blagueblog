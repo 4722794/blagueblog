{
 "cells": [
  {
   "cell_type": "markdown",
   "id": "muslim-click",
   "metadata": {
    "papermill": {
     "duration": 0.036365,
     "end_time": "2021-07-04T00:19:44.860343",
     "exception": false,
     "start_time": "2021-07-04T00:19:44.823978",
     "status": "completed"
    },
    "tags": []
   },
   "source": [
    "# COVID-19 Case Race\n",
    "> A race chart to see rising cases around the world\n",
    "\n",
    "- author: Hargun Oberoi\n",
    "- image: images/covid-overview.png\n",
    "- hide: false\n",
    "- badges: false"
   ]
  },
  {
   "cell_type": "code",
   "execution_count": 1,
   "id": "proof-material",
   "metadata": {
    "execution": {
     "iopub.execute_input": "2021-07-04T00:19:44.936622Z",
     "iopub.status.busy": "2021-07-04T00:19:44.936067Z",
     "iopub.status.idle": "2021-07-04T00:19:45.313246Z",
     "shell.execute_reply": "2021-07-04T00:19:45.312713Z"
    },
    "papermill": {
     "duration": 0.420502,
     "end_time": "2021-07-04T00:19:45.313396",
     "exception": false,
     "start_time": "2021-07-04T00:19:44.892894",
     "status": "completed"
    },
    "tags": []
   },
   "outputs": [],
   "source": [
    "#hide\n",
    "import numpy as np\n",
    "import pandas as pd\n",
    "from jinja2 import Template\n",
    "from IPython.display import HTML"
   ]
  },
  {
   "cell_type": "code",
   "execution_count": 2,
   "id": "developed-terminology",
   "metadata": {
    "execution": {
     "iopub.execute_input": "2021-07-04T00:19:45.383917Z",
     "iopub.status.busy": "2021-07-04T00:19:45.383307Z",
     "iopub.status.idle": "2021-07-04T00:19:45.386750Z",
     "shell.execute_reply": "2021-07-04T00:19:45.387224Z"
    },
    "papermill": {
     "duration": 0.041852,
     "end_time": "2021-07-04T00:19:45.387374",
     "exception": false,
     "start_time": "2021-07-04T00:19:45.345522",
     "status": "completed"
    },
    "tags": []
   },
   "outputs": [],
   "source": [
    "#hide\n",
    "\n",
    "# FETCH\n",
    "base_url = 'https://raw.githubusercontent.com/pratapvardhan/notebooks/master/covid19/'\n",
    "paths = {\n",
    "    'mapping': base_url + 'mapping_countries.csv',\n",
    "    'overview': base_url + 'overview.tpl'\n",
    "}"
   ]
  },
  {
   "cell_type": "code",
   "execution_count": 3,
   "id": "dynamic-saver",
   "metadata": {
    "execution": {
     "iopub.execute_input": "2021-07-04T00:19:45.474358Z",
     "iopub.status.busy": "2021-07-04T00:19:45.473766Z",
     "iopub.status.idle": "2021-07-04T00:19:45.477260Z",
     "shell.execute_reply": "2021-07-04T00:19:45.476774Z"
    },
    "papermill": {
     "duration": 0.052218,
     "end_time": "2021-07-04T00:19:45.477384",
     "exception": false,
     "start_time": "2021-07-04T00:19:45.425166",
     "status": "completed"
    },
    "tags": []
   },
   "outputs": [
    {
     "data": {
      "text/plain": [
       "'https://raw.githubusercontent.com/pratapvardhan/notebooks/master/covid19/mapping_countries.csv'"
      ]
     },
     "execution_count": 3,
     "metadata": {},
     "output_type": "execute_result"
    }
   ],
   "source": [
    "#hide\n",
    "paths['mapping']"
   ]
  },
  {
   "cell_type": "code",
   "execution_count": 4,
   "id": "urban-software",
   "metadata": {
    "execution": {
     "iopub.execute_input": "2021-07-04T00:19:45.554734Z",
     "iopub.status.busy": "2021-07-04T00:19:45.554151Z",
     "iopub.status.idle": "2021-07-04T00:19:45.557773Z",
     "shell.execute_reply": "2021-07-04T00:19:45.557280Z"
    },
    "papermill": {
     "duration": 0.042275,
     "end_time": "2021-07-04T00:19:45.557894",
     "exception": false,
     "start_time": "2021-07-04T00:19:45.515619",
     "status": "completed"
    },
    "tags": []
   },
   "outputs": [],
   "source": [
    "#hide\n",
    "def get_mappings(url):\n",
    "    df = pd.read_csv(url)\n",
    "    return {\n",
    "        'df': df,\n",
    "        'replace.country': dict(df.dropna(subset=['Name']).set_index('Country')['Name']),\n",
    "        'map.continent': dict(df.set_index('Name')['Continent'])\n",
    "    }"
   ]
  },
  {
   "cell_type": "code",
   "execution_count": 5,
   "id": "intimate-machinery",
   "metadata": {
    "execution": {
     "iopub.execute_input": "2021-07-04T00:19:45.631747Z",
     "iopub.status.busy": "2021-07-04T00:19:45.631205Z",
     "iopub.status.idle": "2021-07-04T00:19:45.662448Z",
     "shell.execute_reply": "2021-07-04T00:19:45.661989Z"
    },
    "papermill": {
     "duration": 0.070104,
     "end_time": "2021-07-04T00:19:45.662583",
     "exception": false,
     "start_time": "2021-07-04T00:19:45.592479",
     "status": "completed"
    },
    "tags": []
   },
   "outputs": [],
   "source": [
    "#hide\n",
    "mapping = get_mappings(paths['mapping'])"
   ]
  },
  {
   "cell_type": "code",
   "execution_count": 6,
   "id": "certified-tactics",
   "metadata": {
    "execution": {
     "iopub.execute_input": "2021-07-04T00:19:45.738813Z",
     "iopub.status.busy": "2021-07-04T00:19:45.738254Z",
     "iopub.status.idle": "2021-07-04T00:19:45.740613Z",
     "shell.execute_reply": "2021-07-04T00:19:45.740150Z"
    },
    "papermill": {
     "duration": 0.044966,
     "end_time": "2021-07-04T00:19:45.740741",
     "exception": false,
     "start_time": "2021-07-04T00:19:45.695775",
     "status": "completed"
    },
    "tags": []
   },
   "outputs": [],
   "source": [
    "#hide\n",
    "def get_template(path):\n",
    "    from urllib.parse import urlparse\n",
    "    if bool(urlparse(path).netloc):\n",
    "        from urllib.request import urlopen\n",
    "        return urlopen(path).read().decode('utf8')\n",
    "    return open(path).read()"
   ]
  },
  {
   "cell_type": "code",
   "execution_count": 7,
   "id": "realistic-blast",
   "metadata": {
    "execution": {
     "iopub.execute_input": "2021-07-04T00:19:45.815359Z",
     "iopub.status.busy": "2021-07-04T00:19:45.814734Z",
     "iopub.status.idle": "2021-07-04T00:19:45.817157Z",
     "shell.execute_reply": "2021-07-04T00:19:45.817669Z"
    },
    "papermill": {
     "duration": 0.041768,
     "end_time": "2021-07-04T00:19:45.817828",
     "exception": false,
     "start_time": "2021-07-04T00:19:45.776060",
     "status": "completed"
    },
    "tags": []
   },
   "outputs": [],
   "source": [
    "#hide\n",
    "def get_frame(name):\n",
    "    url = (\n",
    "        'https://raw.githubusercontent.com/CSSEGISandData/COVID-19/master/csse_covid_19_data/'\n",
    "        f'csse_covid_19_time_series/time_series_covid19_{name}_global.csv')\n",
    "    df = pd.read_csv(url)\n",
    "    # rename countries\n",
    "    df['Country/Region'] = df['Country/Region'].replace(mapping['replace.country'])\n",
    "    return df"
   ]
  },
  {
   "cell_type": "code",
   "execution_count": 8,
   "id": "affiliated-characterization",
   "metadata": {
    "execution": {
     "iopub.execute_input": "2021-07-04T00:19:45.892356Z",
     "iopub.status.busy": "2021-07-04T00:19:45.891778Z",
     "iopub.status.idle": "2021-07-04T00:19:45.894075Z",
     "shell.execute_reply": "2021-07-04T00:19:45.893613Z"
    },
    "papermill": {
     "duration": 0.043231,
     "end_time": "2021-07-04T00:19:45.894201",
     "exception": false,
     "start_time": "2021-07-04T00:19:45.850970",
     "status": "completed"
    },
    "tags": []
   },
   "outputs": [],
   "source": [
    "#hide\n",
    "def get_dates(df):\n",
    "    dt_cols = df.columns[~df.columns.isin(['Province/State', 'Country/Region', 'Lat', 'Long'])]\n",
    "    LAST_DATE_I = -1\n",
    "    # sometimes last column may be empty, then go backwards\n",
    "    for i in range(-1, -len(dt_cols), -1):\n",
    "        if not df[dt_cols[i]].fillna(0).eq(0).all():\n",
    "            LAST_DATE_I = i\n",
    "            break\n",
    "    return LAST_DATE_I, dt_cols"
   ]
  },
  {
   "cell_type": "code",
   "execution_count": 9,
   "id": "recent-optimization",
   "metadata": {
    "execution": {
     "iopub.execute_input": "2021-07-04T00:19:45.971013Z",
     "iopub.status.busy": "2021-07-04T00:19:45.970213Z",
     "iopub.status.idle": "2021-07-04T00:19:46.283528Z",
     "shell.execute_reply": "2021-07-04T00:19:46.283001Z"
    },
    "papermill": {
     "duration": 0.35519,
     "end_time": "2021-07-04T00:19:46.283653",
     "exception": false,
     "start_time": "2021-07-04T00:19:45.928463",
     "status": "completed"
    },
    "tags": []
   },
   "outputs": [],
   "source": [
    "#hide\n",
    "COL_REGION = 'Country/Region'\n",
    "# Confirmed, Recovered, Deaths\n",
    "df = get_frame('confirmed')\n",
    "# dft_: timeseries, dfc_: today country agg\n",
    "dft_cases = df\n",
    "dft_deaths = get_frame('deaths')\n",
    "dft_recovered = get_frame('recovered')\n",
    "LAST_DATE_I, dt_cols = get_dates(df)"
   ]
  },
  {
   "cell_type": "code",
   "execution_count": 10,
   "id": "absolute-copper",
   "metadata": {
    "execution": {
     "iopub.execute_input": "2021-07-04T00:19:46.356355Z",
     "iopub.status.busy": "2021-07-04T00:19:46.355819Z",
     "iopub.status.idle": "2021-07-04T00:19:46.357786Z",
     "shell.execute_reply": "2021-07-04T00:19:46.358210Z"
    },
    "papermill": {
     "duration": 0.042256,
     "end_time": "2021-07-04T00:19:46.358339",
     "exception": false,
     "start_time": "2021-07-04T00:19:46.316083",
     "status": "completed"
    },
    "tags": []
   },
   "outputs": [],
   "source": [
    "#hide\n",
    "LAST_DATE_I, dt_cols = get_dates(df)\n",
    "dt_today =dt_cols[LAST_DATE_I]\n",
    "# dt_5day = dt_cols[LAST_DATE_I - 5]\n",
    "dt_yday = dt_cols[LAST_DATE_I - 1]"
   ]
  },
  {
   "cell_type": "code",
   "execution_count": 11,
   "id": "restricted-sheriff",
   "metadata": {
    "execution": {
     "iopub.execute_input": "2021-07-04T00:19:46.431703Z",
     "iopub.status.busy": "2021-07-04T00:19:46.431156Z",
     "iopub.status.idle": "2021-07-04T00:19:46.437819Z",
     "shell.execute_reply": "2021-07-04T00:19:46.438369Z"
    },
    "papermill": {
     "duration": 0.047306,
     "end_time": "2021-07-04T00:19:46.438526",
     "exception": false,
     "start_time": "2021-07-04T00:19:46.391220",
     "status": "completed"
    },
    "tags": []
   },
   "outputs": [],
   "source": [
    "#hide\n",
    "dfc_cases = dft_cases.groupby(COL_REGION)[dt_today].sum()\n",
    "dfc_deaths = dft_deaths.groupby(COL_REGION)[dt_today].sum()\n",
    "# dfp_cases = dft_cases.groupby(COL_REGION)[dt_5day].sum()\n",
    "# dfp_deaths = dft_deaths.groupby(COL_REGION)[dt_5day].sum()\n",
    "dfp_cases = dft_cases.groupby(COL_REGION)[dt_yday].sum()\n",
    "dfp_deaths = dft_deaths.groupby(COL_REGION)[dt_yday].sum()"
   ]
  },
  {
   "cell_type": "code",
   "execution_count": 12,
   "id": "deluxe-hepatitis",
   "metadata": {
    "execution": {
     "iopub.execute_input": "2021-07-04T00:19:46.521292Z",
     "iopub.status.busy": "2021-07-04T00:19:46.520650Z",
     "iopub.status.idle": "2021-07-04T00:19:46.525051Z",
     "shell.execute_reply": "2021-07-04T00:19:46.524565Z"
    },
    "papermill": {
     "duration": 0.053572,
     "end_time": "2021-07-04T00:19:46.525181",
     "exception": false,
     "start_time": "2021-07-04T00:19:46.471609",
     "status": "completed"
    },
    "tags": []
   },
   "outputs": [],
   "source": [
    "#hide\n",
    "df_table = (pd.DataFrame(dict(Cases = dfc_cases, Deaths = dfc_deaths, PCases = dfp_cases, PDeaths = dfp_deaths))\n",
    "            .sort_values(by = ['Cases','Deaths'], ascending = [False, False])\n",
    "            .reset_index())"
   ]
  },
  {
   "cell_type": "code",
   "execution_count": 13,
   "id": "educational-chancellor",
   "metadata": {
    "execution": {
     "iopub.execute_input": "2021-07-04T00:19:46.608419Z",
     "iopub.status.busy": "2021-07-04T00:19:46.607838Z",
     "iopub.status.idle": "2021-07-04T00:19:46.618417Z",
     "shell.execute_reply": "2021-07-04T00:19:46.617961Z"
    },
    "papermill": {
     "duration": 0.059839,
     "end_time": "2021-07-04T00:19:46.618539",
     "exception": false,
     "start_time": "2021-07-04T00:19:46.558700",
     "status": "completed"
    },
    "tags": []
   },
   "outputs": [
    {
     "data": {
      "text/html": [
       "<div>\n",
       "<style scoped>\n",
       "    .dataframe tbody tr th:only-of-type {\n",
       "        vertical-align: middle;\n",
       "    }\n",
       "\n",
       "    .dataframe tbody tr th {\n",
       "        vertical-align: top;\n",
       "    }\n",
       "\n",
       "    .dataframe thead th {\n",
       "        text-align: right;\n",
       "    }\n",
       "</style>\n",
       "<table border=\"1\" class=\"dataframe\">\n",
       "  <thead>\n",
       "    <tr style=\"text-align: right;\">\n",
       "      <th></th>\n",
       "      <th>Country/Region</th>\n",
       "      <th>Cases</th>\n",
       "      <th>Deaths</th>\n",
       "      <th>PCases</th>\n",
       "      <th>PDeaths</th>\n",
       "      <th>Cases (+)</th>\n",
       "      <th>Deaths (+)</th>\n",
       "      <th>Fatality Rate</th>\n",
       "      <th>Continent</th>\n",
       "    </tr>\n",
       "  </thead>\n",
       "  <tbody>\n",
       "    <tr>\n",
       "      <th>0</th>\n",
       "      <td>US</td>\n",
       "      <td>33709131</td>\n",
       "      <td>605524</td>\n",
       "      <td>33679433</td>\n",
       "      <td>605019</td>\n",
       "      <td>29698</td>\n",
       "      <td>505</td>\n",
       "      <td>1.80</td>\n",
       "      <td>North America</td>\n",
       "    </tr>\n",
       "    <tr>\n",
       "      <th>1</th>\n",
       "      <td>India</td>\n",
       "      <td>30502362</td>\n",
       "      <td>401050</td>\n",
       "      <td>30458251</td>\n",
       "      <td>400312</td>\n",
       "      <td>44111</td>\n",
       "      <td>738</td>\n",
       "      <td>1.31</td>\n",
       "      <td>Asia</td>\n",
       "    </tr>\n",
       "    <tr>\n",
       "      <th>2</th>\n",
       "      <td>Brazil</td>\n",
       "      <td>18687469</td>\n",
       "      <td>521952</td>\n",
       "      <td>18622304</td>\n",
       "      <td>520095</td>\n",
       "      <td>65165</td>\n",
       "      <td>1857</td>\n",
       "      <td>2.79</td>\n",
       "      <td>South America</td>\n",
       "    </tr>\n",
       "    <tr>\n",
       "      <th>3</th>\n",
       "      <td>France</td>\n",
       "      <td>5842616</td>\n",
       "      <td>111297</td>\n",
       "      <td>5839929</td>\n",
       "      <td>111273</td>\n",
       "      <td>2687</td>\n",
       "      <td>24</td>\n",
       "      <td>1.90</td>\n",
       "      <td>Europe</td>\n",
       "    </tr>\n",
       "    <tr>\n",
       "      <th>4</th>\n",
       "      <td>Russia</td>\n",
       "      <td>5495513</td>\n",
       "      <td>134302</td>\n",
       "      <td>5472722</td>\n",
       "      <td>133633</td>\n",
       "      <td>22791</td>\n",
       "      <td>669</td>\n",
       "      <td>2.44</td>\n",
       "      <td>Europe</td>\n",
       "    </tr>\n",
       "  </tbody>\n",
       "</table>\n",
       "</div>"
      ],
      "text/plain": [
       "  Country/Region     Cases  Deaths    PCases  PDeaths  Cases (+)  Deaths (+)  \\\n",
       "0             US  33709131  605524  33679433   605019      29698         505   \n",
       "1          India  30502362  401050  30458251   400312      44111         738   \n",
       "2         Brazil  18687469  521952  18622304   520095      65165        1857   \n",
       "3         France   5842616  111297   5839929   111273       2687          24   \n",
       "4         Russia   5495513  134302   5472722   133633      22791         669   \n",
       "\n",
       "   Fatality Rate      Continent  \n",
       "0           1.80  North America  \n",
       "1           1.31           Asia  \n",
       "2           2.79  South America  \n",
       "3           1.90         Europe  \n",
       "4           2.44         Europe  "
      ]
     },
     "execution_count": 13,
     "metadata": {},
     "output_type": "execute_result"
    }
   ],
   "source": [
    "#hide\n",
    "for c in 'Cases, Deaths'.split(', '):\n",
    "    df_table[f'{c} (+)'] = (df_table[c] - df_table[f'P{c}']).clip(0)\n",
    "    #Clip ça veut dire, les chiffres negatif sont interdit\n",
    "df_table['Fatality Rate'] = (100* df_table['Deaths']/ df_table['Cases']).round(2)\n",
    "df_table['Continent'] = df_table['Country/Region'].map(mapping['map.continent'])\n",
    "df_table.head(5)"
   ]
  },
  {
   "cell_type": "code",
   "execution_count": 14,
   "id": "aboriginal-bulgaria",
   "metadata": {
    "execution": {
     "iopub.execute_input": "2021-07-04T00:19:46.689995Z",
     "iopub.status.busy": "2021-07-04T00:19:46.689452Z",
     "iopub.status.idle": "2021-07-04T00:19:46.691687Z",
     "shell.execute_reply": "2021-07-04T00:19:46.691254Z"
    },
    "papermill": {
     "duration": 0.040223,
     "end_time": "2021-07-04T00:19:46.691802",
     "exception": false,
     "start_time": "2021-07-04T00:19:46.651579",
     "status": "completed"
    },
    "tags": []
   },
   "outputs": [],
   "source": [
    "#hide\n",
    "#delete problematic countries from table\n",
    "df_table = df_table[~df_table['Country/Region'].isin(['Cape Verde', 'Cruise Ship', 'Kosovo'])]"
   ]
  },
  {
   "cell_type": "code",
   "execution_count": 15,
   "id": "fantastic-effect",
   "metadata": {
    "execution": {
     "iopub.execute_input": "2021-07-04T00:19:46.775566Z",
     "iopub.status.busy": "2021-07-04T00:19:46.772385Z",
     "iopub.status.idle": "2021-07-04T00:19:46.792685Z",
     "shell.execute_reply": "2021-07-04T00:19:46.793149Z"
    },
    "papermill": {
     "duration": 0.06795,
     "end_time": "2021-07-04T00:19:46.793273",
     "exception": false,
     "start_time": "2021-07-04T00:19:46.725323",
     "status": "completed"
    },
    "tags": []
   },
   "outputs": [
    {
     "data": {
      "text/html": [
       "<div>\n",
       "<style scoped>\n",
       "    .dataframe tbody tr th:only-of-type {\n",
       "        vertical-align: middle;\n",
       "    }\n",
       "\n",
       "    .dataframe tbody tr th {\n",
       "        vertical-align: top;\n",
       "    }\n",
       "\n",
       "    .dataframe thead th {\n",
       "        text-align: right;\n",
       "    }\n",
       "</style>\n",
       "<table border=\"1\" class=\"dataframe\">\n",
       "  <thead>\n",
       "    <tr style=\"text-align: right;\">\n",
       "      <th></th>\n",
       "      <th>Country/Region</th>\n",
       "      <th>Cases</th>\n",
       "      <th>Deaths</th>\n",
       "      <th>PCases</th>\n",
       "      <th>PDeaths</th>\n",
       "      <th>Cases (+)</th>\n",
       "      <th>Deaths (+)</th>\n",
       "      <th>Fatality Rate</th>\n",
       "      <th>Continent</th>\n",
       "    </tr>\n",
       "  </thead>\n",
       "  <tbody>\n",
       "    <tr>\n",
       "      <th>0</th>\n",
       "      <td>US</td>\n",
       "      <td>33709131</td>\n",
       "      <td>605524</td>\n",
       "      <td>33679433</td>\n",
       "      <td>605019</td>\n",
       "      <td>29698</td>\n",
       "      <td>505</td>\n",
       "      <td>1.8</td>\n",
       "      <td>North America</td>\n",
       "    </tr>\n",
       "    <tr>\n",
       "      <th>1</th>\n",
       "      <td>India</td>\n",
       "      <td>30502362</td>\n",
       "      <td>401050</td>\n",
       "      <td>30458251</td>\n",
       "      <td>400312</td>\n",
       "      <td>44111</td>\n",
       "      <td>738</td>\n",
       "      <td>1.3</td>\n",
       "      <td>Asia</td>\n",
       "    </tr>\n",
       "    <tr>\n",
       "      <th>2</th>\n",
       "      <td>Brazil</td>\n",
       "      <td>18687469</td>\n",
       "      <td>521952</td>\n",
       "      <td>18622304</td>\n",
       "      <td>520095</td>\n",
       "      <td>65165</td>\n",
       "      <td>1857</td>\n",
       "      <td>2.8</td>\n",
       "      <td>South America</td>\n",
       "    </tr>\n",
       "    <tr>\n",
       "      <th>3</th>\n",
       "      <td>France</td>\n",
       "      <td>5842616</td>\n",
       "      <td>111297</td>\n",
       "      <td>5839929</td>\n",
       "      <td>111273</td>\n",
       "      <td>2687</td>\n",
       "      <td>24</td>\n",
       "      <td>1.9</td>\n",
       "      <td>Europe</td>\n",
       "    </tr>\n",
       "    <tr>\n",
       "      <th>4</th>\n",
       "      <td>Russia</td>\n",
       "      <td>5495513</td>\n",
       "      <td>134302</td>\n",
       "      <td>5472722</td>\n",
       "      <td>133633</td>\n",
       "      <td>22791</td>\n",
       "      <td>669</td>\n",
       "      <td>2.4</td>\n",
       "      <td>Europe</td>\n",
       "    </tr>\n",
       "  </tbody>\n",
       "</table>\n",
       "</div>"
      ],
      "text/plain": [
       "  Country/Region     Cases  Deaths    PCases  PDeaths  Cases (+)  Deaths (+)  \\\n",
       "0             US  33709131  605524  33679433   605019      29698         505   \n",
       "1          India  30502362  401050  30458251   400312      44111         738   \n",
       "2         Brazil  18687469  521952  18622304   520095      65165        1857   \n",
       "3         France   5842616  111297   5839929   111273       2687          24   \n",
       "4         Russia   5495513  134302   5472722   133633      22791         669   \n",
       "\n",
       "   Fatality Rate      Continent  \n",
       "0            1.8  North America  \n",
       "1            1.3           Asia  \n",
       "2            2.8  South America  \n",
       "3            1.9         Europe  \n",
       "4            2.4         Europe  "
      ]
     },
     "execution_count": 15,
     "metadata": {},
     "output_type": "execute_result"
    }
   ],
   "source": [
    "#hide\n",
    "df_table = (pd.DataFrame(dict(Cases=dfc_cases, Deaths=dfc_deaths, PCases=dfp_cases, PDeaths=dfp_deaths))\n",
    "             .sort_values(by=['Cases', 'Deaths'], ascending=[False, False])\n",
    "             .reset_index())\n",
    "df_table.rename(columns={'index': 'Country/Region'}, inplace=True)\n",
    "for c in 'Cases, Deaths'.split(', '):\n",
    "    df_table[f'{c} (+)'] = (df_table[c] - df_table[f'P{c}']).clip(0)  # DATA BUG\n",
    "df_table['Fatality Rate'] = (100 * df_table['Deaths'] / df_table['Cases']).round(1)\n",
    "df_table['Continent'] = df_table['Country/Region'].map(mapping['map.continent'])\n",
    "df_table.head(5)"
   ]
  },
  {
   "cell_type": "code",
   "execution_count": 16,
   "id": "fewer-occasion",
   "metadata": {
    "execution": {
     "iopub.execute_input": "2021-07-04T00:19:46.870689Z",
     "iopub.status.busy": "2021-07-04T00:19:46.870149Z",
     "iopub.status.idle": "2021-07-04T00:19:46.872560Z",
     "shell.execute_reply": "2021-07-04T00:19:46.873108Z"
    },
    "papermill": {
     "duration": 0.043942,
     "end_time": "2021-07-04T00:19:46.873248",
     "exception": false,
     "start_time": "2021-07-04T00:19:46.829306",
     "status": "completed"
    },
    "tags": []
   },
   "outputs": [],
   "source": [
    "#hide\n",
    "#delete problematic countries from table\n",
    "df_table = df_table[~df_table['Country/Region'].isin(['Cape Verde', 'Cruise Ship', 'Kosovo'])]"
   ]
  },
  {
   "cell_type": "code",
   "execution_count": 17,
   "id": "related-center",
   "metadata": {
    "execution": {
     "iopub.execute_input": "2021-07-04T00:19:46.953427Z",
     "iopub.status.busy": "2021-07-04T00:19:46.952860Z",
     "iopub.status.idle": "2021-07-04T00:19:46.963029Z",
     "shell.execute_reply": "2021-07-04T00:19:46.962505Z"
    },
    "papermill": {
     "duration": 0.056397,
     "end_time": "2021-07-04T00:19:46.963146",
     "exception": false,
     "start_time": "2021-07-04T00:19:46.906749",
     "status": "completed"
    },
    "tags": []
   },
   "outputs": [],
   "source": [
    "#hide\n",
    "metrics = [df_table.columns[index] for index in [1,2,5,6]]\n",
    "# s_china = df_table[df_table['Country/Region'].eq('China')][metrics].sum().add_prefix('China ')\n",
    "s_us = df_table[df_table['Country/Region'].eq('US')][metrics].sum().add_prefix('US ')\n",
    "s_eu = df_table[df_table['Continent'].eq('Europe')][metrics].sum().add_prefix('EU ')\n",
    "s_ind = df_table[df_table['Country/Region'].eq('India')][metrics].sum().add_prefix('India ')\n",
    "summary = {'updated': pd.to_datetime(dt_today), 'since': pd.to_datetime(dt_yday)}\n",
    "summary = {'updated': pd.to_datetime(dt_today), 'since': pd.to_datetime(dt_yday)}\n",
    "summary = {**summary, **df_table[metrics].sum(), **s_ind, **s_us, **s_eu}"
   ]
  },
  {
   "cell_type": "code",
   "execution_count": 18,
   "id": "engaging-syndrome",
   "metadata": {
    "execution": {
     "iopub.execute_input": "2021-07-04T00:19:47.044455Z",
     "iopub.status.busy": "2021-07-04T00:19:47.043818Z",
     "iopub.status.idle": "2021-07-04T00:19:47.057240Z",
     "shell.execute_reply": "2021-07-04T00:19:47.056744Z"
    },
    "papermill": {
     "duration": 0.060649,
     "end_time": "2021-07-04T00:19:47.057367",
     "exception": false,
     "start_time": "2021-07-04T00:19:46.996718",
     "status": "completed"
    },
    "tags": []
   },
   "outputs": [],
   "source": [
    "#hide\n",
    "dft_ct_new_cases = dft_cases.groupby(COL_REGION)[dt_cols].sum().diff(axis=1).fillna(0).astype(int)"
   ]
  },
  {
   "cell_type": "code",
   "execution_count": 19,
   "id": "neutral-assignment",
   "metadata": {
    "execution": {
     "iopub.execute_input": "2021-07-04T00:19:47.131888Z",
     "iopub.status.busy": "2021-07-04T00:19:47.131308Z",
     "iopub.status.idle": "2021-07-04T00:19:47.133530Z",
     "shell.execute_reply": "2021-07-04T00:19:47.133047Z"
    },
    "papermill": {
     "duration": 0.042711,
     "end_time": "2021-07-04T00:19:47.133651",
     "exception": false,
     "start_time": "2021-07-04T00:19:47.090940",
     "status": "completed"
    },
    "tags": []
   },
   "outputs": [],
   "source": [
    "#hide\n",
    "everydaycases = dft_ct_new_cases.cumsum(axis=1)"
   ]
  },
  {
   "cell_type": "code",
   "execution_count": 20,
   "id": "parliamentary-calgary",
   "metadata": {
    "execution": {
     "iopub.execute_input": "2021-07-04T00:19:47.205355Z",
     "iopub.status.busy": "2021-07-04T00:19:47.204674Z",
     "iopub.status.idle": "2021-07-04T00:19:47.893633Z",
     "shell.execute_reply": "2021-07-04T00:19:47.892752Z"
    },
    "papermill": {
     "duration": 0.726538,
     "end_time": "2021-07-04T00:19:47.893858",
     "exception": false,
     "start_time": "2021-07-04T00:19:47.167320",
     "status": "completed"
    },
    "tags": []
   },
   "outputs": [],
   "source": [
    "#hide\n",
    "import pandas as pd\n",
    "import matplotlib.pyplot as plt\n",
    "import matplotlib.ticker as ticker\n",
    "import matplotlib.animation as animation\n",
    "from IPython.display import HTML"
   ]
  },
  {
   "cell_type": "code",
   "execution_count": 21,
   "id": "lasting-extraction",
   "metadata": {
    "execution": {
     "iopub.execute_input": "2021-07-04T00:19:47.972210Z",
     "iopub.status.busy": "2021-07-04T00:19:47.971665Z",
     "iopub.status.idle": "2021-07-04T00:19:47.976681Z",
     "shell.execute_reply": "2021-07-04T00:19:47.977178Z"
    },
    "papermill": {
     "duration": 0.04658,
     "end_time": "2021-07-04T00:19:47.977315",
     "exception": false,
     "start_time": "2021-07-04T00:19:47.930735",
     "status": "completed"
    },
    "tags": []
   },
   "outputs": [],
   "source": [
    "#hide\n",
    "t = everydaycases.stack()"
   ]
  },
  {
   "cell_type": "code",
   "execution_count": 22,
   "id": "premier-sleeve",
   "metadata": {
    "execution": {
     "iopub.execute_input": "2021-07-04T00:19:48.051256Z",
     "iopub.status.busy": "2021-07-04T00:19:48.050468Z",
     "iopub.status.idle": "2021-07-04T00:19:48.058542Z",
     "shell.execute_reply": "2021-07-04T00:19:48.059034Z"
    },
    "papermill": {
     "duration": 0.047864,
     "end_time": "2021-07-04T00:19:48.059184",
     "exception": false,
     "start_time": "2021-07-04T00:19:48.011320",
     "status": "completed"
    },
    "tags": []
   },
   "outputs": [],
   "source": [
    "#hide\n",
    "g = t.reset_index(['Country/Region'])"
   ]
  },
  {
   "cell_type": "code",
   "execution_count": 23,
   "id": "distributed-pittsburgh",
   "metadata": {
    "execution": {
     "iopub.execute_input": "2021-07-04T00:19:48.132662Z",
     "iopub.status.busy": "2021-07-04T00:19:48.132048Z",
     "iopub.status.idle": "2021-07-04T00:19:48.133583Z",
     "shell.execute_reply": "2021-07-04T00:19:48.134044Z"
    },
    "papermill": {
     "duration": 0.041557,
     "end_time": "2021-07-04T00:19:48.134186",
     "exception": false,
     "start_time": "2021-07-04T00:19:48.092629",
     "status": "completed"
    },
    "tags": []
   },
   "outputs": [],
   "source": [
    "#hide\n",
    "g.index.name = 'date'"
   ]
  },
  {
   "cell_type": "code",
   "execution_count": 24,
   "id": "naked-donor",
   "metadata": {
    "execution": {
     "iopub.execute_input": "2021-07-04T00:19:48.206696Z",
     "iopub.status.busy": "2021-07-04T00:19:48.206125Z",
     "iopub.status.idle": "2021-07-04T00:19:48.208552Z",
     "shell.execute_reply": "2021-07-04T00:19:48.209097Z"
    },
    "papermill": {
     "duration": 0.041216,
     "end_time": "2021-07-04T00:19:48.209234",
     "exception": false,
     "start_time": "2021-07-04T00:19:48.168018",
     "status": "completed"
    },
    "tags": []
   },
   "outputs": [],
   "source": [
    "# #hide\n",
    "# g = g.reset_index(['date'])"
   ]
  },
  {
   "cell_type": "code",
   "execution_count": 25,
   "id": "incomplete-mustang",
   "metadata": {
    "execution": {
     "iopub.execute_input": "2021-07-04T00:19:48.287111Z",
     "iopub.status.busy": "2021-07-04T00:19:48.286496Z",
     "iopub.status.idle": "2021-07-04T00:19:48.288963Z",
     "shell.execute_reply": "2021-07-04T00:19:48.289453Z"
    },
    "papermill": {
     "duration": 0.044652,
     "end_time": "2021-07-04T00:19:48.289593",
     "exception": false,
     "start_time": "2021-07-04T00:19:48.244941",
     "status": "completed"
    },
    "tags": []
   },
   "outputs": [],
   "source": [
    "#hide\n",
    "# g.head()"
   ]
  },
  {
   "cell_type": "code",
   "execution_count": 26,
   "id": "specific-kruger",
   "metadata": {
    "execution": {
     "iopub.execute_input": "2021-07-04T00:19:48.363778Z",
     "iopub.status.busy": "2021-07-04T00:19:48.363189Z",
     "iopub.status.idle": "2021-07-04T00:19:48.365663Z",
     "shell.execute_reply": "2021-07-04T00:19:48.366194Z"
    },
    "papermill": {
     "duration": 0.041417,
     "end_time": "2021-07-04T00:19:48.366335",
     "exception": false,
     "start_time": "2021-07-04T00:19:48.324918",
     "status": "completed"
    },
    "tags": []
   },
   "outputs": [],
   "source": [
    "#hide\n",
    "# g.columns = ['date','country','cases']"
   ]
  },
  {
   "cell_type": "code",
   "execution_count": 27,
   "id": "tender-conversion",
   "metadata": {
    "execution": {
     "iopub.execute_input": "2021-07-04T00:19:48.437704Z",
     "iopub.status.busy": "2021-07-04T00:19:48.437152Z",
     "iopub.status.idle": "2021-07-04T00:19:48.439297Z",
     "shell.execute_reply": "2021-07-04T00:19:48.439844Z"
    },
    "papermill": {
     "duration": 0.039454,
     "end_time": "2021-07-04T00:19:48.439981",
     "exception": false,
     "start_time": "2021-07-04T00:19:48.400527",
     "status": "completed"
    },
    "tags": []
   },
   "outputs": [],
   "source": [
    "#hide\n",
    "# g['continent'] = g.country"
   ]
  },
  {
   "cell_type": "code",
   "execution_count": 28,
   "id": "substantial-wilderness",
   "metadata": {
    "execution": {
     "iopub.execute_input": "2021-07-04T00:19:48.514610Z",
     "iopub.status.busy": "2021-07-04T00:19:48.513593Z",
     "iopub.status.idle": "2021-07-04T00:19:48.515763Z",
     "shell.execute_reply": "2021-07-04T00:19:48.517001Z"
    },
    "papermill": {
     "duration": 0.042791,
     "end_time": "2021-07-04T00:19:48.517240",
     "exception": false,
     "start_time": "2021-07-04T00:19:48.474449",
     "status": "completed"
    },
    "tags": []
   },
   "outputs": [],
   "source": [
    "#hide\n",
    "# cols = list(g.columns.values)"
   ]
  },
  {
   "cell_type": "code",
   "execution_count": 29,
   "id": "solved-farming",
   "metadata": {
    "execution": {
     "iopub.execute_input": "2021-07-04T00:19:48.590801Z",
     "iopub.status.busy": "2021-07-04T00:19:48.590241Z",
     "iopub.status.idle": "2021-07-04T00:19:48.592327Z",
     "shell.execute_reply": "2021-07-04T00:19:48.592831Z"
    },
    "papermill": {
     "duration": 0.040899,
     "end_time": "2021-07-04T00:19:48.592963",
     "exception": false,
     "start_time": "2021-07-04T00:19:48.552064",
     "status": "completed"
    },
    "tags": []
   },
   "outputs": [],
   "source": [
    "#hide\n",
    "# cols.insert(0, cols.pop())"
   ]
  },
  {
   "cell_type": "code",
   "execution_count": 30,
   "id": "executed-adoption",
   "metadata": {
    "execution": {
     "iopub.execute_input": "2021-07-04T00:19:48.666249Z",
     "iopub.status.busy": "2021-07-04T00:19:48.665659Z",
     "iopub.status.idle": "2021-07-04T00:19:48.668188Z",
     "shell.execute_reply": "2021-07-04T00:19:48.668751Z"
    },
    "papermill": {
     "duration": 0.042551,
     "end_time": "2021-07-04T00:19:48.668894",
     "exception": false,
     "start_time": "2021-07-04T00:19:48.626343",
     "status": "completed"
    },
    "tags": []
   },
   "outputs": [],
   "source": [
    "#hide\n",
    "# g = g[cols]"
   ]
  },
  {
   "cell_type": "code",
   "execution_count": 31,
   "id": "subject-dublin",
   "metadata": {
    "execution": {
     "iopub.execute_input": "2021-07-04T00:19:48.740812Z",
     "iopub.status.busy": "2021-07-04T00:19:48.740246Z",
     "iopub.status.idle": "2021-07-04T00:19:48.742434Z",
     "shell.execute_reply": "2021-07-04T00:19:48.741973Z"
    },
    "papermill": {
     "duration": 0.039992,
     "end_time": "2021-07-04T00:19:48.742566",
     "exception": false,
     "start_time": "2021-07-04T00:19:48.702574",
     "status": "completed"
    },
    "tags": []
   },
   "outputs": [],
   "source": [
    "#hide\n",
    "# g['continent'] = g['continent'].map(mapping['map.continent'])"
   ]
  },
  {
   "cell_type": "code",
   "execution_count": 32,
   "id": "freelance-scout",
   "metadata": {
    "execution": {
     "iopub.execute_input": "2021-07-04T00:19:48.818122Z",
     "iopub.status.busy": "2021-07-04T00:19:48.817535Z",
     "iopub.status.idle": "2021-07-04T00:19:48.820032Z",
     "shell.execute_reply": "2021-07-04T00:19:48.820612Z"
    },
    "papermill": {
     "duration": 0.042503,
     "end_time": "2021-07-04T00:19:48.820755",
     "exception": false,
     "start_time": "2021-07-04T00:19:48.778252",
     "status": "completed"
    },
    "tags": []
   },
   "outputs": [],
   "source": [
    "#hide\n",
    "# g.head()"
   ]
  },
  {
   "cell_type": "code",
   "execution_count": 33,
   "id": "limited-engine",
   "metadata": {
    "execution": {
     "iopub.execute_input": "2021-07-04T00:19:48.895997Z",
     "iopub.status.busy": "2021-07-04T00:19:48.894712Z",
     "iopub.status.idle": "2021-07-04T00:19:48.896680Z",
     "shell.execute_reply": "2021-07-04T00:19:48.897145Z"
    },
    "papermill": {
     "duration": 0.040897,
     "end_time": "2021-07-04T00:19:48.897288",
     "exception": false,
     "start_time": "2021-07-04T00:19:48.856391",
     "status": "completed"
    },
    "tags": []
   },
   "outputs": [],
   "source": [
    "# hide\n",
    "# g['date'] = g['date'].astype('datetime64[ns]')"
   ]
  },
  {
   "cell_type": "code",
   "execution_count": 34,
   "id": "sophisticated-supervisor",
   "metadata": {
    "execution": {
     "iopub.execute_input": "2021-07-04T00:19:48.972049Z",
     "iopub.status.busy": "2021-07-04T00:19:48.970950Z",
     "iopub.status.idle": "2021-07-04T00:19:48.973264Z",
     "shell.execute_reply": "2021-07-04T00:19:48.973758Z"
    },
    "papermill": {
     "duration": 0.042392,
     "end_time": "2021-07-04T00:19:48.973904",
     "exception": false,
     "start_time": "2021-07-04T00:19:48.931512",
     "status": "completed"
    },
    "tags": []
   },
   "outputs": [],
   "source": [
    "#hide\n",
    "# g['date'] = g.date.dt.dayofyear"
   ]
  },
  {
   "cell_type": "code",
   "execution_count": 35,
   "id": "inside-dubai",
   "metadata": {
    "execution": {
     "iopub.execute_input": "2021-07-04T00:19:49.047812Z",
     "iopub.status.busy": "2021-07-04T00:19:49.046605Z",
     "iopub.status.idle": "2021-07-04T00:19:49.048419Z",
     "shell.execute_reply": "2021-07-04T00:19:49.048841Z"
    },
    "papermill": {
     "duration": 0.04051,
     "end_time": "2021-07-04T00:19:49.048976",
     "exception": false,
     "start_time": "2021-07-04T00:19:49.008466",
     "status": "completed"
    },
    "tags": []
   },
   "outputs": [],
   "source": [
    "#hide\n",
    "# g = g.rename(columns= {'continent':'group','country':'name','cases':'value'})"
   ]
  },
  {
   "cell_type": "code",
   "execution_count": 36,
   "id": "fleet-motorcycle",
   "metadata": {
    "execution": {
     "iopub.execute_input": "2021-07-04T00:19:49.134523Z",
     "iopub.status.busy": "2021-07-04T00:19:49.133371Z",
     "iopub.status.idle": "2021-07-04T00:19:49.135675Z",
     "shell.execute_reply": "2021-07-04T00:19:49.136128Z"
    },
    "papermill": {
     "duration": 0.043239,
     "end_time": "2021-07-04T00:19:49.136263",
     "exception": false,
     "start_time": "2021-07-04T00:19:49.093024",
     "status": "completed"
    },
    "tags": []
   },
   "outputs": [],
   "source": [
    "#hide\n",
    "# cols = ['name','group','day','value']"
   ]
  },
  {
   "cell_type": "code",
   "execution_count": 37,
   "id": "continued-sleeping",
   "metadata": {
    "execution": {
     "iopub.execute_input": "2021-07-04T00:19:49.208223Z",
     "iopub.status.busy": "2021-07-04T00:19:49.207629Z",
     "iopub.status.idle": "2021-07-04T00:19:49.210261Z",
     "shell.execute_reply": "2021-07-04T00:19:49.209750Z"
    },
    "papermill": {
     "duration": 0.040532,
     "end_time": "2021-07-04T00:19:49.210391",
     "exception": false,
     "start_time": "2021-07-04T00:19:49.169859",
     "status": "completed"
    },
    "tags": []
   },
   "outputs": [],
   "source": [
    "#hide\n",
    "# g.rename(columns= {'date':'day'},inplace = True)"
   ]
  },
  {
   "cell_type": "code",
   "execution_count": 38,
   "id": "major-fight",
   "metadata": {
    "execution": {
     "iopub.execute_input": "2021-07-04T00:19:49.283461Z",
     "iopub.status.busy": "2021-07-04T00:19:49.282905Z",
     "iopub.status.idle": "2021-07-04T00:19:49.285051Z",
     "shell.execute_reply": "2021-07-04T00:19:49.285453Z"
    },
    "papermill": {
     "duration": 0.039931,
     "end_time": "2021-07-04T00:19:49.285588",
     "exception": false,
     "start_time": "2021-07-04T00:19:49.245657",
     "status": "completed"
    },
    "tags": []
   },
   "outputs": [],
   "source": [
    "#hide\n",
    "# g = g[cols]"
   ]
  },
  {
   "cell_type": "code",
   "execution_count": 39,
   "id": "structured-mobile",
   "metadata": {
    "execution": {
     "iopub.execute_input": "2021-07-04T00:19:49.360321Z",
     "iopub.status.busy": "2021-07-04T00:19:49.359731Z",
     "iopub.status.idle": "2021-07-04T00:19:49.362022Z",
     "shell.execute_reply": "2021-07-04T00:19:49.362487Z"
    },
    "papermill": {
     "duration": 0.042599,
     "end_time": "2021-07-04T00:19:49.362631",
     "exception": false,
     "start_time": "2021-07-04T00:19:49.320032",
     "status": "completed"
    },
    "tags": []
   },
   "outputs": [],
   "source": [
    "# #hide\n",
    "# g = g[g.group.notna()]"
   ]
  },
  {
   "cell_type": "code",
   "execution_count": 40,
   "id": "determined-closing",
   "metadata": {
    "execution": {
     "iopub.execute_input": "2021-07-04T00:19:49.436221Z",
     "iopub.status.busy": "2021-07-04T00:19:49.435617Z",
     "iopub.status.idle": "2021-07-04T00:19:49.438214Z",
     "shell.execute_reply": "2021-07-04T00:19:49.438853Z"
    },
    "papermill": {
     "duration": 0.041922,
     "end_time": "2021-07-04T00:19:49.439005",
     "exception": false,
     "start_time": "2021-07-04T00:19:49.397083",
     "status": "completed"
    },
    "tags": []
   },
   "outputs": [],
   "source": [
    "# #hide\n",
    "# colors = dict(zip(\n",
    "#     [\"Oceania\", \"Europe\", \"Asia\", \"South America\", \"Middle East\", \"North America\", \"Africa\"],\n",
    "#     [\"#adb0ff\", \"#ffb3ff\", \"#90d595\", \"#e48381\", \"#aafbff\", \"#f7bb5f\", \"#eafb50\"]\n",
    "# ))\n",
    "# group_lk = g.set_index('name')['group'].to_dict()"
   ]
  },
  {
   "cell_type": "code",
   "execution_count": null,
   "id": "gross-drinking",
   "metadata": {
    "papermill": {
     "duration": 0.038114,
     "end_time": "2021-07-04T00:19:49.511325",
     "exception": false,
     "start_time": "2021-07-04T00:19:49.473211",
     "status": "completed"
    },
    "tags": []
   },
   "outputs": [],
   "source": []
  },
  {
   "cell_type": "code",
   "execution_count": 41,
   "id": "subject-macintosh",
   "metadata": {
    "execution": {
     "iopub.execute_input": "2021-07-04T00:19:49.586054Z",
     "iopub.status.busy": "2021-07-04T00:19:49.585493Z",
     "iopub.status.idle": "2021-07-04T00:19:49.587435Z",
     "shell.execute_reply": "2021-07-04T00:19:49.587936Z"
    },
    "papermill": {
     "duration": 0.041638,
     "end_time": "2021-07-04T00:19:49.588075",
     "exception": false,
     "start_time": "2021-07-04T00:19:49.546437",
     "status": "completed"
    },
    "tags": []
   },
   "outputs": [],
   "source": [
    "# #hide\n",
    "# fig, ax = plt.subplots(figsize=(15, 8))\n",
    "\n",
    "# def draw_barchart(current_day):\n",
    "#     dff = g[g['day'].eq(current_day)].sort_values(by='value', ascending=True).tail(10)\n",
    "#     ax.clear()\n",
    "#     ax.barh(dff['name'], dff['value'], color=[colors[group_lk[x]] for x in dff['name']])\n",
    "#     dx = dff['value'].max() / 200\n",
    "    \n",
    "#     for i, (value, name) in enumerate(zip(dff['value'], dff['name'])):\n",
    "#         ax.text(value-dx, i,     name,           size=14, weight=600, ha='right', va='bottom')\n",
    "#         ax.text(value-dx, i-.25, group_lk[name], size=10, color='#444444', ha='right', va='baseline')\n",
    "#         ax.text(value+dx, i,     f'{value:,.0f}',  size=14, ha='left',  va='center')\n",
    "#     ax.text(1, 0.4, current_day, transform=ax.transAxes, color='#777777', size=46, ha='right', weight=800)\n",
    "#     ax.text(0, 1.06, 'Population (thousands)', transform=ax.transAxes, size=12, color='#777777')\n",
    "#     ax.xaxis.set_major_formatter(ticker.StrMethodFormatter('{x:,.0f}'))\n",
    "#     ax.xaxis.set_ticks_position('top')\n",
    "#     ax.tick_params(axis='x', colors='#777777', labelsize=12)\n",
    "#     ax.set_yticks([])\n",
    "#     ax.margins(0, 0.01)\n",
    "#     ax.grid(which='major', axis='x', linestyle='-')\n",
    "#     ax.set_axisbelow(True)\n",
    "    \n",
    "#     ax.text(0, 1.15, 'Coronavirus',\n",
    "#             transform=ax.transAxes, size=24, weight=600, ha='left', va='top')\n",
    "# #     ax.text(1, 0, 'by @pratapvardhan; credit @jburnmurdoch', transform=ax.transAxes, color='#777777', ha='right',\n",
    "# #             bbox=dict(facecolor='white', alpha=0.8, edgecolor='white'))\n",
    "#     plt.box(False)"
   ]
  },
  {
   "cell_type": "code",
   "execution_count": 42,
   "id": "sexual-wages",
   "metadata": {
    "execution": {
     "iopub.execute_input": "2021-07-04T00:19:49.661269Z",
     "iopub.status.busy": "2021-07-04T00:19:49.660703Z",
     "iopub.status.idle": "2021-07-04T00:19:49.663201Z",
     "shell.execute_reply": "2021-07-04T00:19:49.663752Z"
    },
    "papermill": {
     "duration": 0.041774,
     "end_time": "2021-07-04T00:19:49.663898",
     "exception": false,
     "start_time": "2021-07-04T00:19:49.622124",
     "status": "completed"
    },
    "tags": []
   },
   "outputs": [],
   "source": [
    "# #hide_input\n",
    "# fig, ax = plt.subplots(figsize=(15, 8))\n",
    "# animator = animation.FuncAnimation(fig, draw_barchart, frames=range(g.day.values.min(), g.day.values.max()))\n",
    "# HTML(animator.to_jshtml())\n",
    "# # or use animator.to_html5_video() or animator.save() "
   ]
  },
  {
   "cell_type": "code",
   "execution_count": null,
   "id": "australian-container",
   "metadata": {
    "papermill": {
     "duration": 0.035352,
     "end_time": "2021-07-04T00:19:49.733321",
     "exception": false,
     "start_time": "2021-07-04T00:19:49.697969",
     "status": "completed"
    },
    "tags": []
   },
   "outputs": [],
   "source": []
  },
  {
   "cell_type": "code",
   "execution_count": null,
   "id": "mediterranean-pontiac",
   "metadata": {
    "papermill": {
     "duration": 0.036755,
     "end_time": "2021-07-04T00:19:49.808286",
     "exception": false,
     "start_time": "2021-07-04T00:19:49.771531",
     "status": "completed"
    },
    "tags": []
   },
   "outputs": [],
   "source": []
  },
  {
   "cell_type": "code",
   "execution_count": null,
   "id": "aging-legislature",
   "metadata": {
    "papermill": {
     "duration": 0.035462,
     "end_time": "2021-07-04T00:19:49.878274",
     "exception": false,
     "start_time": "2021-07-04T00:19:49.842812",
     "status": "completed"
    },
    "tags": []
   },
   "outputs": [],
   "source": []
  }
 ],
 "metadata": {
  "kernelspec": {
   "display_name": "Python 3",
   "language": "python",
   "name": "python3"
  },
  "language_info": {
   "codemirror_mode": {
    "name": "ipython",
    "version": 3
   },
   "file_extension": ".py",
   "mimetype": "text/x-python",
   "name": "python",
   "nbconvert_exporter": "python",
   "pygments_lexer": "ipython3",
   "version": "3.6.13"
  },
  "papermill": {
   "duration": 6.650675,
   "end_time": "2021-07-04T00:19:50.220968",
   "environment_variables": {},
   "exception": null,
   "input_path": "2020-03-21-covid19exp.ipynb",
   "output_path": "2020-03-21-covid19exp.ipynb",
   "parameters": {},
   "start_time": "2021-07-04T00:19:43.570293",
   "version": "2.0.0"
  }
 },
 "nbformat": 4,
 "nbformat_minor": 5
}