{
 "cells": [
  {
   "cell_type": "markdown",
   "id": "muslim-click",
   "metadata": {
    "papermill": {
     "duration": 0.034954,
     "end_time": "2022-11-14T12:19:15.743324",
     "exception": false,
     "start_time": "2022-11-14T12:19:15.708370",
     "status": "completed"
    },
    "tags": []
   },
   "source": [
    "# COVID-19 Case Race\n",
    "> A race chart to see rising cases around the world\n",
    "\n",
    "- author: Hargun Oberoi\n",
    "- image: images/covid-overview.png\n",
    "- hide: false\n",
    "- badges: false"
   ]
  },
  {
   "cell_type": "code",
   "execution_count": 1,
   "id": "proof-material",
   "metadata": {
    "execution": {
     "iopub.execute_input": "2022-11-14T12:19:15.813454Z",
     "iopub.status.busy": "2022-11-14T12:19:15.812895Z",
     "iopub.status.idle": "2022-11-14T12:19:16.117372Z",
     "shell.execute_reply": "2022-11-14T12:19:16.116426Z"
    },
    "papermill": {
     "duration": 0.343398,
     "end_time": "2022-11-14T12:19:16.117511",
     "exception": false,
     "start_time": "2022-11-14T12:19:15.774113",
     "status": "completed"
    },
    "tags": []
   },
   "outputs": [],
   "source": [
    "#hide\n",
    "import numpy as np\n",
    "import pandas as pd\n",
    "from jinja2 import Template\n",
    "from IPython.display import HTML"
   ]
  },
  {
   "cell_type": "code",
   "execution_count": 2,
   "id": "developed-terminology",
   "metadata": {
    "execution": {
     "iopub.execute_input": "2022-11-14T12:19:16.181602Z",
     "iopub.status.busy": "2022-11-14T12:19:16.181029Z",
     "iopub.status.idle": "2022-11-14T12:19:16.183137Z",
     "shell.execute_reply": "2022-11-14T12:19:16.182573Z"
    },
    "papermill": {
     "duration": 0.035753,
     "end_time": "2022-11-14T12:19:16.183235",
     "exception": false,
     "start_time": "2022-11-14T12:19:16.147482",
     "status": "completed"
    },
    "tags": []
   },
   "outputs": [],
   "source": [
    "#hide\n",
    "\n",
    "# FETCH\n",
    "base_url = 'https://raw.githubusercontent.com/pratapvardhan/notebooks/master/covid19/'\n",
    "paths = {\n",
    "    'mapping': base_url + 'mapping_countries.csv',\n",
    "    'overview': base_url + 'overview.tpl'\n",
    "}"
   ]
  },
  {
   "cell_type": "code",
   "execution_count": 3,
   "id": "dynamic-saver",
   "metadata": {
    "execution": {
     "iopub.execute_input": "2022-11-14T12:19:16.250922Z",
     "iopub.status.busy": "2022-11-14T12:19:16.250384Z",
     "iopub.status.idle": "2022-11-14T12:19:16.253377Z",
     "shell.execute_reply": "2022-11-14T12:19:16.253811Z"
    },
    "papermill": {
     "duration": 0.041039,
     "end_time": "2022-11-14T12:19:16.253915",
     "exception": false,
     "start_time": "2022-11-14T12:19:16.212876",
     "status": "completed"
    },
    "tags": []
   },
   "outputs": [
    {
     "data": {
      "text/plain": [
       "'https://raw.githubusercontent.com/pratapvardhan/notebooks/master/covid19/mapping_countries.csv'"
      ]
     },
     "execution_count": 3,
     "metadata": {},
     "output_type": "execute_result"
    }
   ],
   "source": [
    "#hide\n",
    "paths['mapping']"
   ]
  },
  {
   "cell_type": "code",
   "execution_count": 4,
   "id": "urban-software",
   "metadata": {
    "execution": {
     "iopub.execute_input": "2022-11-14T12:19:16.318636Z",
     "iopub.status.busy": "2022-11-14T12:19:16.318065Z",
     "iopub.status.idle": "2022-11-14T12:19:16.320581Z",
     "shell.execute_reply": "2022-11-14T12:19:16.320139Z"
    },
    "papermill": {
     "duration": 0.036592,
     "end_time": "2022-11-14T12:19:16.320671",
     "exception": false,
     "start_time": "2022-11-14T12:19:16.284079",
     "status": "completed"
    },
    "tags": []
   },
   "outputs": [],
   "source": [
    "#hide\n",
    "def get_mappings(url):\n",
    "    df = pd.read_csv(url)\n",
    "    return {\n",
    "        'df': df,\n",
    "        'replace.country': dict(df.dropna(subset=['Name']).set_index('Country')['Name']),\n",
    "        'map.continent': dict(df.set_index('Name')['Continent'])\n",
    "    }"
   ]
  },
  {
   "cell_type": "code",
   "execution_count": 5,
   "id": "intimate-machinery",
   "metadata": {
    "execution": {
     "iopub.execute_input": "2022-11-14T12:19:16.385079Z",
     "iopub.status.busy": "2022-11-14T12:19:16.384529Z",
     "iopub.status.idle": "2022-11-14T12:19:16.423658Z",
     "shell.execute_reply": "2022-11-14T12:19:16.423196Z"
    },
    "papermill": {
     "duration": 0.073087,
     "end_time": "2022-11-14T12:19:16.423756",
     "exception": false,
     "start_time": "2022-11-14T12:19:16.350669",
     "status": "completed"
    },
    "tags": []
   },
   "outputs": [],
   "source": [
    "#hide\n",
    "mapping = get_mappings(paths['mapping'])"
   ]
  },
  {
   "cell_type": "code",
   "execution_count": 6,
   "id": "certified-tactics",
   "metadata": {
    "execution": {
     "iopub.execute_input": "2022-11-14T12:19:16.488502Z",
     "iopub.status.busy": "2022-11-14T12:19:16.487930Z",
     "iopub.status.idle": "2022-11-14T12:19:16.490413Z",
     "shell.execute_reply": "2022-11-14T12:19:16.489969Z"
    },
    "papermill": {
     "duration": 0.036492,
     "end_time": "2022-11-14T12:19:16.490508",
     "exception": false,
     "start_time": "2022-11-14T12:19:16.454016",
     "status": "completed"
    },
    "tags": []
   },
   "outputs": [],
   "source": [
    "#hide\n",
    "def get_template(path):\n",
    "    from urllib.parse import urlparse\n",
    "    if bool(urlparse(path).netloc):\n",
    "        from urllib.request import urlopen\n",
    "        return urlopen(path).read().decode('utf8')\n",
    "    return open(path).read()"
   ]
  },
  {
   "cell_type": "code",
   "execution_count": 7,
   "id": "realistic-blast",
   "metadata": {
    "execution": {
     "iopub.execute_input": "2022-11-14T12:19:16.554954Z",
     "iopub.status.busy": "2022-11-14T12:19:16.554395Z",
     "iopub.status.idle": "2022-11-14T12:19:16.556889Z",
     "shell.execute_reply": "2022-11-14T12:19:16.556444Z"
    },
    "papermill": {
     "duration": 0.036356,
     "end_time": "2022-11-14T12:19:16.556982",
     "exception": false,
     "start_time": "2022-11-14T12:19:16.520626",
     "status": "completed"
    },
    "tags": []
   },
   "outputs": [],
   "source": [
    "#hide\n",
    "def get_frame(name):\n",
    "    url = (\n",
    "        'https://raw.githubusercontent.com/CSSEGISandData/COVID-19/master/csse_covid_19_data/'\n",
    "        f'csse_covid_19_time_series/time_series_covid19_{name}_global.csv')\n",
    "    df = pd.read_csv(url)\n",
    "    # rename countries\n",
    "    df['Country/Region'] = df['Country/Region'].replace(mapping['replace.country'])\n",
    "    return df"
   ]
  },
  {
   "cell_type": "code",
   "execution_count": 8,
   "id": "affiliated-characterization",
   "metadata": {
    "execution": {
     "iopub.execute_input": "2022-11-14T12:19:16.622531Z",
     "iopub.status.busy": "2022-11-14T12:19:16.621954Z",
     "iopub.status.idle": "2022-11-14T12:19:16.624489Z",
     "shell.execute_reply": "2022-11-14T12:19:16.624039Z"
    },
    "papermill": {
     "duration": 0.037317,
     "end_time": "2022-11-14T12:19:16.624582",
     "exception": false,
     "start_time": "2022-11-14T12:19:16.587265",
     "status": "completed"
    },
    "tags": []
   },
   "outputs": [],
   "source": [
    "#hide\n",
    "def get_dates(df):\n",
    "    dt_cols = df.columns[~df.columns.isin(['Province/State', 'Country/Region', 'Lat', 'Long'])]\n",
    "    LAST_DATE_I = -1\n",
    "    # sometimes last column may be empty, then go backwards\n",
    "    for i in range(-1, -len(dt_cols), -1):\n",
    "        if not df[dt_cols[i]].fillna(0).eq(0).all():\n",
    "            LAST_DATE_I = i\n",
    "            break\n",
    "    return LAST_DATE_I, dt_cols"
   ]
  },
  {
   "cell_type": "code",
   "execution_count": 9,
   "id": "recent-optimization",
   "metadata": {
    "execution": {
     "iopub.execute_input": "2022-11-14T12:19:16.701038Z",
     "iopub.status.busy": "2022-11-14T12:19:16.698806Z",
     "iopub.status.idle": "2022-11-14T12:19:17.178865Z",
     "shell.execute_reply": "2022-11-14T12:19:17.178367Z"
    },
    "papermill": {
     "duration": 0.524485,
     "end_time": "2022-11-14T12:19:17.178994",
     "exception": false,
     "start_time": "2022-11-14T12:19:16.654509",
     "status": "completed"
    },
    "tags": []
   },
   "outputs": [],
   "source": [
    "#hide\n",
    "COL_REGION = 'Country/Region'\n",
    "# Confirmed, Recovered, Deaths\n",
    "df = get_frame('confirmed')\n",
    "# dft_: timeseries, dfc_: today country agg\n",
    "dft_cases = df\n",
    "dft_deaths = get_frame('deaths')\n",
    "dft_recovered = get_frame('recovered')\n",
    "LAST_DATE_I, dt_cols = get_dates(df)"
   ]
  },
  {
   "cell_type": "code",
   "execution_count": 10,
   "id": "absolute-copper",
   "metadata": {
    "execution": {
     "iopub.execute_input": "2022-11-14T12:19:17.303508Z",
     "iopub.status.busy": "2022-11-14T12:19:17.302812Z",
     "iopub.status.idle": "2022-11-14T12:19:17.305597Z",
     "shell.execute_reply": "2022-11-14T12:19:17.304935Z"
    },
    "papermill": {
     "duration": 0.057542,
     "end_time": "2022-11-14T12:19:17.305723",
     "exception": false,
     "start_time": "2022-11-14T12:19:17.248181",
     "status": "completed"
    },
    "tags": []
   },
   "outputs": [],
   "source": [
    "#hide\n",
    "LAST_DATE_I, dt_cols = get_dates(df)\n",
    "dt_today =dt_cols[LAST_DATE_I]\n",
    "# dt_5day = dt_cols[LAST_DATE_I - 5]\n",
    "dt_yday = dt_cols[LAST_DATE_I - 1]"
   ]
  },
  {
   "cell_type": "code",
   "execution_count": 11,
   "id": "restricted-sheriff",
   "metadata": {
    "execution": {
     "iopub.execute_input": "2022-11-14T12:19:17.408919Z",
     "iopub.status.busy": "2022-11-14T12:19:17.408335Z",
     "iopub.status.idle": "2022-11-14T12:19:17.414199Z",
     "shell.execute_reply": "2022-11-14T12:19:17.413652Z"
    },
    "papermill": {
     "duration": 0.063657,
     "end_time": "2022-11-14T12:19:17.414303",
     "exception": false,
     "start_time": "2022-11-14T12:19:17.350646",
     "status": "completed"
    },
    "tags": []
   },
   "outputs": [],
   "source": [
    "#hide\n",
    "dfc_cases = dft_cases.groupby(COL_REGION)[dt_today].sum()\n",
    "dfc_deaths = dft_deaths.groupby(COL_REGION)[dt_today].sum()\n",
    "# dfp_cases = dft_cases.groupby(COL_REGION)[dt_5day].sum()\n",
    "# dfp_deaths = dft_deaths.groupby(COL_REGION)[dt_5day].sum()\n",
    "dfp_cases = dft_cases.groupby(COL_REGION)[dt_yday].sum()\n",
    "dfp_deaths = dft_deaths.groupby(COL_REGION)[dt_yday].sum()"
   ]
  },
  {
   "cell_type": "code",
   "execution_count": 12,
   "id": "deluxe-hepatitis",
   "metadata": {
    "execution": {
     "iopub.execute_input": "2022-11-14T12:19:17.512831Z",
     "iopub.status.busy": "2022-11-14T12:19:17.511410Z",
     "iopub.status.idle": "2022-11-14T12:19:17.517851Z",
     "shell.execute_reply": "2022-11-14T12:19:17.517347Z"
    },
    "papermill": {
     "duration": 0.071239,
     "end_time": "2022-11-14T12:19:17.517958",
     "exception": false,
     "start_time": "2022-11-14T12:19:17.446719",
     "status": "completed"
    },
    "tags": []
   },
   "outputs": [],
   "source": [
    "#hide\n",
    "df_table = (pd.DataFrame(dict(Cases = dfc_cases, Deaths = dfc_deaths, PCases = dfp_cases, PDeaths = dfp_deaths))\n",
    "            .sort_values(by = ['Cases','Deaths'], ascending = [False, False])\n",
    "            .reset_index())"
   ]
  },
  {
   "cell_type": "code",
   "execution_count": 13,
   "id": "educational-chancellor",
   "metadata": {
    "execution": {
     "iopub.execute_input": "2022-11-14T12:19:17.618789Z",
     "iopub.status.busy": "2022-11-14T12:19:17.613719Z",
     "iopub.status.idle": "2022-11-14T12:19:17.628951Z",
     "shell.execute_reply": "2022-11-14T12:19:17.628291Z"
    },
    "papermill": {
     "duration": 0.077094,
     "end_time": "2022-11-14T12:19:17.629059",
     "exception": false,
     "start_time": "2022-11-14T12:19:17.551965",
     "status": "completed"
    },
    "tags": []
   },
   "outputs": [
    {
     "data": {
      "text/html": [
       "<div>\n",
       "<style scoped>\n",
       "    .dataframe tbody tr th:only-of-type {\n",
       "        vertical-align: middle;\n",
       "    }\n",
       "\n",
       "    .dataframe tbody tr th {\n",
       "        vertical-align: top;\n",
       "    }\n",
       "\n",
       "    .dataframe thead th {\n",
       "        text-align: right;\n",
       "    }\n",
       "</style>\n",
       "<table border=\"1\" class=\"dataframe\">\n",
       "  <thead>\n",
       "    <tr style=\"text-align: right;\">\n",
       "      <th></th>\n",
       "      <th>Country/Region</th>\n",
       "      <th>Cases</th>\n",
       "      <th>Deaths</th>\n",
       "      <th>PCases</th>\n",
       "      <th>PDeaths</th>\n",
       "      <th>Cases (+)</th>\n",
       "      <th>Deaths (+)</th>\n",
       "      <th>Fatality Rate</th>\n",
       "      <th>Continent</th>\n",
       "    </tr>\n",
       "  </thead>\n",
       "  <tbody>\n",
       "    <tr>\n",
       "      <th>0</th>\n",
       "      <td>US</td>\n",
       "      <td>97997389</td>\n",
       "      <td>1074485</td>\n",
       "      <td>97995355</td>\n",
       "      <td>1074484</td>\n",
       "      <td>2034</td>\n",
       "      <td>1</td>\n",
       "      <td>1.10</td>\n",
       "      <td>North America</td>\n",
       "    </tr>\n",
       "    <tr>\n",
       "      <th>1</th>\n",
       "      <td>India</td>\n",
       "      <td>44666924</td>\n",
       "      <td>530532</td>\n",
       "      <td>44666372</td>\n",
       "      <td>530531</td>\n",
       "      <td>552</td>\n",
       "      <td>1</td>\n",
       "      <td>1.19</td>\n",
       "      <td>Asia</td>\n",
       "    </tr>\n",
       "    <tr>\n",
       "      <th>2</th>\n",
       "      <td>France</td>\n",
       "      <td>37288432</td>\n",
       "      <td>158711</td>\n",
       "      <td>37288432</td>\n",
       "      <td>158711</td>\n",
       "      <td>0</td>\n",
       "      <td>0</td>\n",
       "      <td>0.43</td>\n",
       "      <td>Europe</td>\n",
       "    </tr>\n",
       "    <tr>\n",
       "      <th>3</th>\n",
       "      <td>Germany</td>\n",
       "      <td>36033395</td>\n",
       "      <td>155588</td>\n",
       "      <td>36033395</td>\n",
       "      <td>155588</td>\n",
       "      <td>0</td>\n",
       "      <td>0</td>\n",
       "      <td>0.43</td>\n",
       "      <td>Europe</td>\n",
       "    </tr>\n",
       "    <tr>\n",
       "      <th>4</th>\n",
       "      <td>Brazil</td>\n",
       "      <td>34908198</td>\n",
       "      <td>688656</td>\n",
       "      <td>34908198</td>\n",
       "      <td>688656</td>\n",
       "      <td>0</td>\n",
       "      <td>0</td>\n",
       "      <td>1.97</td>\n",
       "      <td>South America</td>\n",
       "    </tr>\n",
       "  </tbody>\n",
       "</table>\n",
       "</div>"
      ],
      "text/plain": [
       "  Country/Region     Cases   Deaths    PCases  PDeaths  Cases (+)  Deaths (+)  \\\n",
       "0             US  97997389  1074485  97995355  1074484       2034           1   \n",
       "1          India  44666924   530532  44666372   530531        552           1   \n",
       "2         France  37288432   158711  37288432   158711          0           0   \n",
       "3        Germany  36033395   155588  36033395   155588          0           0   \n",
       "4         Brazil  34908198   688656  34908198   688656          0           0   \n",
       "\n",
       "   Fatality Rate      Continent  \n",
       "0           1.10  North America  \n",
       "1           1.19           Asia  \n",
       "2           0.43         Europe  \n",
       "3           0.43         Europe  \n",
       "4           1.97  South America  "
      ]
     },
     "execution_count": 13,
     "metadata": {},
     "output_type": "execute_result"
    }
   ],
   "source": [
    "#hide\n",
    "for c in 'Cases, Deaths'.split(', '):\n",
    "    df_table[f'{c} (+)'] = (df_table[c] - df_table[f'P{c}']).clip(0)\n",
    "    #Clip ça veut dire, les chiffres negatif sont interdit\n",
    "df_table['Fatality Rate'] = (100* df_table['Deaths']/ df_table['Cases']).round(2)\n",
    "df_table['Continent'] = df_table['Country/Region'].map(mapping['map.continent'])\n",
    "df_table.head(5)"
   ]
  },
  {
   "cell_type": "code",
   "execution_count": 14,
   "id": "aboriginal-bulgaria",
   "metadata": {
    "execution": {
     "iopub.execute_input": "2022-11-14T12:19:17.754288Z",
     "iopub.status.busy": "2022-11-14T12:19:17.753730Z",
     "iopub.status.idle": "2022-11-14T12:19:17.756130Z",
     "shell.execute_reply": "2022-11-14T12:19:17.755698Z"
    },
    "papermill": {
     "duration": 0.051362,
     "end_time": "2022-11-14T12:19:17.756230",
     "exception": false,
     "start_time": "2022-11-14T12:19:17.704868",
     "status": "completed"
    },
    "tags": []
   },
   "outputs": [],
   "source": [
    "#hide\n",
    "#delete problematic countries from table\n",
    "df_table = df_table[~df_table['Country/Region'].isin(['Cape Verde', 'Cruise Ship', 'Kosovo'])]"
   ]
  },
  {
   "cell_type": "code",
   "execution_count": 15,
   "id": "fantastic-effect",
   "metadata": {
    "execution": {
     "iopub.execute_input": "2022-11-14T12:19:17.824670Z",
     "iopub.status.busy": "2022-11-14T12:19:17.824115Z",
     "iopub.status.idle": "2022-11-14T12:19:17.841075Z",
     "shell.execute_reply": "2022-11-14T12:19:17.840537Z"
    },
    "papermill": {
     "duration": 0.054337,
     "end_time": "2022-11-14T12:19:17.841174",
     "exception": false,
     "start_time": "2022-11-14T12:19:17.786837",
     "status": "completed"
    },
    "tags": []
   },
   "outputs": [
    {
     "data": {
      "text/html": [
       "<div>\n",
       "<style scoped>\n",
       "    .dataframe tbody tr th:only-of-type {\n",
       "        vertical-align: middle;\n",
       "    }\n",
       "\n",
       "    .dataframe tbody tr th {\n",
       "        vertical-align: top;\n",
       "    }\n",
       "\n",
       "    .dataframe thead th {\n",
       "        text-align: right;\n",
       "    }\n",
       "</style>\n",
       "<table border=\"1\" class=\"dataframe\">\n",
       "  <thead>\n",
       "    <tr style=\"text-align: right;\">\n",
       "      <th></th>\n",
       "      <th>Country/Region</th>\n",
       "      <th>Cases</th>\n",
       "      <th>Deaths</th>\n",
       "      <th>PCases</th>\n",
       "      <th>PDeaths</th>\n",
       "      <th>Cases (+)</th>\n",
       "      <th>Deaths (+)</th>\n",
       "      <th>Fatality Rate</th>\n",
       "      <th>Continent</th>\n",
       "    </tr>\n",
       "  </thead>\n",
       "  <tbody>\n",
       "    <tr>\n",
       "      <th>0</th>\n",
       "      <td>US</td>\n",
       "      <td>97997389</td>\n",
       "      <td>1074485</td>\n",
       "      <td>97995355</td>\n",
       "      <td>1074484</td>\n",
       "      <td>2034</td>\n",
       "      <td>1</td>\n",
       "      <td>1.1</td>\n",
       "      <td>North America</td>\n",
       "    </tr>\n",
       "    <tr>\n",
       "      <th>1</th>\n",
       "      <td>India</td>\n",
       "      <td>44666924</td>\n",
       "      <td>530532</td>\n",
       "      <td>44666372</td>\n",
       "      <td>530531</td>\n",
       "      <td>552</td>\n",
       "      <td>1</td>\n",
       "      <td>1.2</td>\n",
       "      <td>Asia</td>\n",
       "    </tr>\n",
       "    <tr>\n",
       "      <th>2</th>\n",
       "      <td>France</td>\n",
       "      <td>37288432</td>\n",
       "      <td>158711</td>\n",
       "      <td>37288432</td>\n",
       "      <td>158711</td>\n",
       "      <td>0</td>\n",
       "      <td>0</td>\n",
       "      <td>0.4</td>\n",
       "      <td>Europe</td>\n",
       "    </tr>\n",
       "    <tr>\n",
       "      <th>3</th>\n",
       "      <td>Germany</td>\n",
       "      <td>36033395</td>\n",
       "      <td>155588</td>\n",
       "      <td>36033395</td>\n",
       "      <td>155588</td>\n",
       "      <td>0</td>\n",
       "      <td>0</td>\n",
       "      <td>0.4</td>\n",
       "      <td>Europe</td>\n",
       "    </tr>\n",
       "    <tr>\n",
       "      <th>4</th>\n",
       "      <td>Brazil</td>\n",
       "      <td>34908198</td>\n",
       "      <td>688656</td>\n",
       "      <td>34908198</td>\n",
       "      <td>688656</td>\n",
       "      <td>0</td>\n",
       "      <td>0</td>\n",
       "      <td>2.0</td>\n",
       "      <td>South America</td>\n",
       "    </tr>\n",
       "  </tbody>\n",
       "</table>\n",
       "</div>"
      ],
      "text/plain": [
       "  Country/Region     Cases   Deaths    PCases  PDeaths  Cases (+)  Deaths (+)  \\\n",
       "0             US  97997389  1074485  97995355  1074484       2034           1   \n",
       "1          India  44666924   530532  44666372   530531        552           1   \n",
       "2         France  37288432   158711  37288432   158711          0           0   \n",
       "3        Germany  36033395   155588  36033395   155588          0           0   \n",
       "4         Brazil  34908198   688656  34908198   688656          0           0   \n",
       "\n",
       "   Fatality Rate      Continent  \n",
       "0            1.1  North America  \n",
       "1            1.2           Asia  \n",
       "2            0.4         Europe  \n",
       "3            0.4         Europe  \n",
       "4            2.0  South America  "
      ]
     },
     "execution_count": 15,
     "metadata": {},
     "output_type": "execute_result"
    }
   ],
   "source": [
    "#hide\n",
    "df_table = (pd.DataFrame(dict(Cases=dfc_cases, Deaths=dfc_deaths, PCases=dfp_cases, PDeaths=dfp_deaths))\n",
    "             .sort_values(by=['Cases', 'Deaths'], ascending=[False, False])\n",
    "             .reset_index())\n",
    "df_table.rename(columns={'index': 'Country/Region'}, inplace=True)\n",
    "for c in 'Cases, Deaths'.split(', '):\n",
    "    df_table[f'{c} (+)'] = (df_table[c] - df_table[f'P{c}']).clip(0)  # DATA BUG\n",
    "df_table['Fatality Rate'] = (100 * df_table['Deaths'] / df_table['Cases']).round(1)\n",
    "df_table['Continent'] = df_table['Country/Region'].map(mapping['map.continent'])\n",
    "df_table.head(5)"
   ]
  },
  {
   "cell_type": "code",
   "execution_count": 16,
   "id": "fewer-occasion",
   "metadata": {
    "execution": {
     "iopub.execute_input": "2022-11-14T12:19:17.909220Z",
     "iopub.status.busy": "2022-11-14T12:19:17.908651Z",
     "iopub.status.idle": "2022-11-14T12:19:17.911566Z",
     "shell.execute_reply": "2022-11-14T12:19:17.911127Z"
    },
    "papermill": {
     "duration": 0.03902,
     "end_time": "2022-11-14T12:19:17.911661",
     "exception": false,
     "start_time": "2022-11-14T12:19:17.872641",
     "status": "completed"
    },
    "tags": []
   },
   "outputs": [],
   "source": [
    "#hide\n",
    "#delete problematic countries from table\n",
    "df_table = df_table[~df_table['Country/Region'].isin(['Cape Verde', 'Cruise Ship', 'Kosovo'])]"
   ]
  },
  {
   "cell_type": "code",
   "execution_count": 17,
   "id": "related-center",
   "metadata": {
    "execution": {
     "iopub.execute_input": "2022-11-14T12:19:17.979802Z",
     "iopub.status.busy": "2022-11-14T12:19:17.979250Z",
     "iopub.status.idle": "2022-11-14T12:19:17.992128Z",
     "shell.execute_reply": "2022-11-14T12:19:17.991684Z"
    },
    "papermill": {
     "duration": 0.049547,
     "end_time": "2022-11-14T12:19:17.992223",
     "exception": false,
     "start_time": "2022-11-14T12:19:17.942676",
     "status": "completed"
    },
    "tags": []
   },
   "outputs": [],
   "source": [
    "#hide\n",
    "metrics = [df_table.columns[index] for index in [1,2,5,6]]\n",
    "# s_china = df_table[df_table['Country/Region'].eq('China')][metrics].sum().add_prefix('China ')\n",
    "s_us = df_table[df_table['Country/Region'].eq('US')][metrics].sum().add_prefix('US ')\n",
    "s_eu = df_table[df_table['Continent'].eq('Europe')][metrics].sum().add_prefix('EU ')\n",
    "s_ind = df_table[df_table['Country/Region'].eq('India')][metrics].sum().add_prefix('India ')\n",
    "summary = {'updated': pd.to_datetime(dt_today), 'since': pd.to_datetime(dt_yday)}\n",
    "summary = {'updated': pd.to_datetime(dt_today), 'since': pd.to_datetime(dt_yday)}\n",
    "summary = {**summary, **df_table[metrics].sum(), **s_ind, **s_us, **s_eu}"
   ]
  },
  {
   "cell_type": "code",
   "execution_count": 18,
   "id": "engaging-syndrome",
   "metadata": {
    "execution": {
     "iopub.execute_input": "2022-11-14T12:19:18.058796Z",
     "iopub.status.busy": "2022-11-14T12:19:18.058247Z",
     "iopub.status.idle": "2022-11-14T12:19:18.078646Z",
     "shell.execute_reply": "2022-11-14T12:19:18.078183Z"
    },
    "papermill": {
     "duration": 0.055431,
     "end_time": "2022-11-14T12:19:18.078750",
     "exception": false,
     "start_time": "2022-11-14T12:19:18.023319",
     "status": "completed"
    },
    "tags": []
   },
   "outputs": [],
   "source": [
    "#hide\n",
    "dft_ct_new_cases = dft_cases.groupby(COL_REGION)[dt_cols].sum().diff(axis=1).fillna(0).astype(int)"
   ]
  },
  {
   "cell_type": "code",
   "execution_count": 19,
   "id": "neutral-assignment",
   "metadata": {
    "execution": {
     "iopub.execute_input": "2022-11-14T12:19:18.146668Z",
     "iopub.status.busy": "2022-11-14T12:19:18.146094Z",
     "iopub.status.idle": "2022-11-14T12:19:18.149656Z",
     "shell.execute_reply": "2022-11-14T12:19:18.150058Z"
    },
    "papermill": {
     "duration": 0.040182,
     "end_time": "2022-11-14T12:19:18.150173",
     "exception": false,
     "start_time": "2022-11-14T12:19:18.109991",
     "status": "completed"
    },
    "tags": []
   },
   "outputs": [],
   "source": [
    "#hide\n",
    "everydaycases = dft_ct_new_cases.cumsum(axis=1)"
   ]
  },
  {
   "cell_type": "code",
   "execution_count": 20,
   "id": "parliamentary-calgary",
   "metadata": {
    "execution": {
     "iopub.execute_input": "2022-11-14T12:19:18.217573Z",
     "iopub.status.busy": "2022-11-14T12:19:18.216101Z",
     "iopub.status.idle": "2022-11-14T12:19:18.750484Z",
     "shell.execute_reply": "2022-11-14T12:19:18.749979Z"
    },
    "papermill": {
     "duration": 0.569181,
     "end_time": "2022-11-14T12:19:18.750602",
     "exception": false,
     "start_time": "2022-11-14T12:19:18.181421",
     "status": "completed"
    },
    "tags": []
   },
   "outputs": [],
   "source": [
    "#hide\n",
    "import pandas as pd\n",
    "import matplotlib.pyplot as plt\n",
    "import matplotlib.ticker as ticker\n",
    "import matplotlib.animation as animation\n",
    "from IPython.display import HTML"
   ]
  },
  {
   "cell_type": "code",
   "execution_count": 21,
   "id": "lasting-extraction",
   "metadata": {
    "execution": {
     "iopub.execute_input": "2022-11-14T12:19:18.818940Z",
     "iopub.status.busy": "2022-11-14T12:19:18.818387Z",
     "iopub.status.idle": "2022-11-14T12:19:18.824882Z",
     "shell.execute_reply": "2022-11-14T12:19:18.825298Z"
    },
    "papermill": {
     "duration": 0.043523,
     "end_time": "2022-11-14T12:19:18.825409",
     "exception": false,
     "start_time": "2022-11-14T12:19:18.781886",
     "status": "completed"
    },
    "tags": []
   },
   "outputs": [],
   "source": [
    "#hide\n",
    "t = everydaycases.stack()"
   ]
  },
  {
   "cell_type": "code",
   "execution_count": 22,
   "id": "premier-sleeve",
   "metadata": {
    "execution": {
     "iopub.execute_input": "2022-11-14T12:19:18.891392Z",
     "iopub.status.busy": "2022-11-14T12:19:18.890803Z",
     "iopub.status.idle": "2022-11-14T12:19:18.902649Z",
     "shell.execute_reply": "2022-11-14T12:19:18.902096Z"
    },
    "papermill": {
     "duration": 0.046175,
     "end_time": "2022-11-14T12:19:18.902747",
     "exception": false,
     "start_time": "2022-11-14T12:19:18.856572",
     "status": "completed"
    },
    "tags": []
   },
   "outputs": [],
   "source": [
    "#hide\n",
    "g = t.reset_index(['Country/Region'])"
   ]
  },
  {
   "cell_type": "code",
   "execution_count": 23,
   "id": "distributed-pittsburgh",
   "metadata": {
    "execution": {
     "iopub.execute_input": "2022-11-14T12:19:18.969233Z",
     "iopub.status.busy": "2022-11-14T12:19:18.968672Z",
     "iopub.status.idle": "2022-11-14T12:19:18.971235Z",
     "shell.execute_reply": "2022-11-14T12:19:18.970770Z"
    },
    "papermill": {
     "duration": 0.037417,
     "end_time": "2022-11-14T12:19:18.971336",
     "exception": false,
     "start_time": "2022-11-14T12:19:18.933919",
     "status": "completed"
    },
    "tags": []
   },
   "outputs": [],
   "source": [
    "#hide\n",
    "g.index.name = 'date'"
   ]
  },
  {
   "cell_type": "code",
   "execution_count": 24,
   "id": "naked-donor",
   "metadata": {
    "execution": {
     "iopub.execute_input": "2022-11-14T12:19:19.037689Z",
     "iopub.status.busy": "2022-11-14T12:19:19.037108Z",
     "iopub.status.idle": "2022-11-14T12:19:19.039452Z",
     "shell.execute_reply": "2022-11-14T12:19:19.038906Z"
    },
    "papermill": {
     "duration": 0.036847,
     "end_time": "2022-11-14T12:19:19.039552",
     "exception": false,
     "start_time": "2022-11-14T12:19:19.002705",
     "status": "completed"
    },
    "tags": []
   },
   "outputs": [],
   "source": [
    "# #hide\n",
    "# g = g.reset_index(['date'])"
   ]
  },
  {
   "cell_type": "code",
   "execution_count": 25,
   "id": "incomplete-mustang",
   "metadata": {
    "execution": {
     "iopub.execute_input": "2022-11-14T12:19:19.105466Z",
     "iopub.status.busy": "2022-11-14T12:19:19.104897Z",
     "iopub.status.idle": "2022-11-14T12:19:19.107386Z",
     "shell.execute_reply": "2022-11-14T12:19:19.106858Z"
    },
    "papermill": {
     "duration": 0.036487,
     "end_time": "2022-11-14T12:19:19.107483",
     "exception": false,
     "start_time": "2022-11-14T12:19:19.070996",
     "status": "completed"
    },
    "tags": []
   },
   "outputs": [],
   "source": [
    "#hide\n",
    "# g.head()"
   ]
  },
  {
   "cell_type": "code",
   "execution_count": 26,
   "id": "specific-kruger",
   "metadata": {
    "execution": {
     "iopub.execute_input": "2022-11-14T12:19:19.173213Z",
     "iopub.status.busy": "2022-11-14T12:19:19.172664Z",
     "iopub.status.idle": "2022-11-14T12:19:19.176523Z",
     "shell.execute_reply": "2022-11-14T12:19:19.176931Z"
    },
    "papermill": {
     "duration": 0.03827,
     "end_time": "2022-11-14T12:19:19.177050",
     "exception": false,
     "start_time": "2022-11-14T12:19:19.138780",
     "status": "completed"
    },
    "tags": []
   },
   "outputs": [],
   "source": [
    "#hide\n",
    "# g.columns = ['date','country','cases']"
   ]
  },
  {
   "cell_type": "code",
   "execution_count": 27,
   "id": "tender-conversion",
   "metadata": {
    "execution": {
     "iopub.execute_input": "2022-11-14T12:19:19.242128Z",
     "iopub.status.busy": "2022-11-14T12:19:19.241536Z",
     "iopub.status.idle": "2022-11-14T12:19:19.244086Z",
     "shell.execute_reply": "2022-11-14T12:19:19.243647Z"
    },
    "papermill": {
     "duration": 0.036192,
     "end_time": "2022-11-14T12:19:19.244181",
     "exception": false,
     "start_time": "2022-11-14T12:19:19.207989",
     "status": "completed"
    },
    "tags": []
   },
   "outputs": [],
   "source": [
    "#hide\n",
    "# g['continent'] = g.country"
   ]
  },
  {
   "cell_type": "code",
   "execution_count": 28,
   "id": "substantial-wilderness",
   "metadata": {
    "execution": {
     "iopub.execute_input": "2022-11-14T12:19:19.310213Z",
     "iopub.status.busy": "2022-11-14T12:19:19.309647Z",
     "iopub.status.idle": "2022-11-14T12:19:19.312137Z",
     "shell.execute_reply": "2022-11-14T12:19:19.311702Z"
    },
    "papermill": {
     "duration": 0.036734,
     "end_time": "2022-11-14T12:19:19.312232",
     "exception": false,
     "start_time": "2022-11-14T12:19:19.275498",
     "status": "completed"
    },
    "tags": []
   },
   "outputs": [],
   "source": [
    "#hide\n",
    "# cols = list(g.columns.values)"
   ]
  },
  {
   "cell_type": "code",
   "execution_count": 29,
   "id": "solved-farming",
   "metadata": {
    "execution": {
     "iopub.execute_input": "2022-11-14T12:19:19.378066Z",
     "iopub.status.busy": "2022-11-14T12:19:19.377490Z",
     "iopub.status.idle": "2022-11-14T12:19:19.379876Z",
     "shell.execute_reply": "2022-11-14T12:19:19.379356Z"
    },
    "papermill": {
     "duration": 0.036683,
     "end_time": "2022-11-14T12:19:19.379973",
     "exception": false,
     "start_time": "2022-11-14T12:19:19.343290",
     "status": "completed"
    },
    "tags": []
   },
   "outputs": [],
   "source": [
    "#hide\n",
    "# cols.insert(0, cols.pop())"
   ]
  },
  {
   "cell_type": "code",
   "execution_count": 30,
   "id": "executed-adoption",
   "metadata": {
    "execution": {
     "iopub.execute_input": "2022-11-14T12:19:19.445371Z",
     "iopub.status.busy": "2022-11-14T12:19:19.444810Z",
     "iopub.status.idle": "2022-11-14T12:19:19.446760Z",
     "shell.execute_reply": "2022-11-14T12:19:19.447191Z"
    },
    "papermill": {
     "duration": 0.036157,
     "end_time": "2022-11-14T12:19:19.447299",
     "exception": false,
     "start_time": "2022-11-14T12:19:19.411142",
     "status": "completed"
    },
    "tags": []
   },
   "outputs": [],
   "source": [
    "#hide\n",
    "# g = g[cols]"
   ]
  },
  {
   "cell_type": "code",
   "execution_count": 31,
   "id": "subject-dublin",
   "metadata": {
    "execution": {
     "iopub.execute_input": "2022-11-14T12:19:19.512301Z",
     "iopub.status.busy": "2022-11-14T12:19:19.511740Z",
     "iopub.status.idle": "2022-11-14T12:19:19.514192Z",
     "shell.execute_reply": "2022-11-14T12:19:19.513759Z"
    },
    "papermill": {
     "duration": 0.036018,
     "end_time": "2022-11-14T12:19:19.514285",
     "exception": false,
     "start_time": "2022-11-14T12:19:19.478267",
     "status": "completed"
    },
    "tags": []
   },
   "outputs": [],
   "source": [
    "#hide\n",
    "# g['continent'] = g['continent'].map(mapping['map.continent'])"
   ]
  },
  {
   "cell_type": "code",
   "execution_count": 32,
   "id": "freelance-scout",
   "metadata": {
    "execution": {
     "iopub.execute_input": "2022-11-14T12:19:19.580135Z",
     "iopub.status.busy": "2022-11-14T12:19:19.579573Z",
     "iopub.status.idle": "2022-11-14T12:19:19.582113Z",
     "shell.execute_reply": "2022-11-14T12:19:19.581681Z"
    },
    "papermill": {
     "duration": 0.036777,
     "end_time": "2022-11-14T12:19:19.582202",
     "exception": false,
     "start_time": "2022-11-14T12:19:19.545425",
     "status": "completed"
    },
    "tags": []
   },
   "outputs": [],
   "source": [
    "#hide\n",
    "# g.head()"
   ]
  },
  {
   "cell_type": "code",
   "execution_count": 33,
   "id": "limited-engine",
   "metadata": {
    "execution": {
     "iopub.execute_input": "2022-11-14T12:19:19.647125Z",
     "iopub.status.busy": "2022-11-14T12:19:19.646549Z",
     "iopub.status.idle": "2022-11-14T12:19:19.648815Z",
     "shell.execute_reply": "2022-11-14T12:19:19.648302Z"
    },
    "papermill": {
     "duration": 0.035645,
     "end_time": "2022-11-14T12:19:19.648905",
     "exception": false,
     "start_time": "2022-11-14T12:19:19.613260",
     "status": "completed"
    },
    "tags": []
   },
   "outputs": [],
   "source": [
    "# hide\n",
    "# g['date'] = g['date'].astype('datetime64[ns]')"
   ]
  },
  {
   "cell_type": "code",
   "execution_count": 34,
   "id": "sophisticated-supervisor",
   "metadata": {
    "execution": {
     "iopub.execute_input": "2022-11-14T12:19:19.714398Z",
     "iopub.status.busy": "2022-11-14T12:19:19.713839Z",
     "iopub.status.idle": "2022-11-14T12:19:19.715759Z",
     "shell.execute_reply": "2022-11-14T12:19:19.716176Z"
    },
    "papermill": {
     "duration": 0.036146,
     "end_time": "2022-11-14T12:19:19.716279",
     "exception": false,
     "start_time": "2022-11-14T12:19:19.680133",
     "status": "completed"
    },
    "tags": []
   },
   "outputs": [],
   "source": [
    "#hide\n",
    "# g['date'] = g.date.dt.dayofyear"
   ]
  },
  {
   "cell_type": "code",
   "execution_count": 35,
   "id": "inside-dubai",
   "metadata": {
    "execution": {
     "iopub.execute_input": "2022-11-14T12:19:19.781844Z",
     "iopub.status.busy": "2022-11-14T12:19:19.781278Z",
     "iopub.status.idle": "2022-11-14T12:19:19.783725Z",
     "shell.execute_reply": "2022-11-14T12:19:19.783200Z"
    },
    "papermill": {
     "duration": 0.036511,
     "end_time": "2022-11-14T12:19:19.783820",
     "exception": false,
     "start_time": "2022-11-14T12:19:19.747309",
     "status": "completed"
    },
    "tags": []
   },
   "outputs": [],
   "source": [
    "#hide\n",
    "# g = g.rename(columns= {'continent':'group','country':'name','cases':'value'})"
   ]
  },
  {
   "cell_type": "code",
   "execution_count": 36,
   "id": "fleet-motorcycle",
   "metadata": {
    "execution": {
     "iopub.execute_input": "2022-11-14T12:19:19.849212Z",
     "iopub.status.busy": "2022-11-14T12:19:19.848667Z",
     "iopub.status.idle": "2022-11-14T12:19:19.852314Z",
     "shell.execute_reply": "2022-11-14T12:19:19.851866Z"
    },
    "papermill": {
     "duration": 0.037526,
     "end_time": "2022-11-14T12:19:19.852407",
     "exception": false,
     "start_time": "2022-11-14T12:19:19.814881",
     "status": "completed"
    },
    "tags": []
   },
   "outputs": [],
   "source": [
    "#hide\n",
    "# cols = ['name','group','day','value']"
   ]
  },
  {
   "cell_type": "code",
   "execution_count": 37,
   "id": "continued-sleeping",
   "metadata": {
    "execution": {
     "iopub.execute_input": "2022-11-14T12:19:19.917590Z",
     "iopub.status.busy": "2022-11-14T12:19:19.917025Z",
     "iopub.status.idle": "2022-11-14T12:19:19.919364Z",
     "shell.execute_reply": "2022-11-14T12:19:19.918828Z"
    },
    "papermill": {
     "duration": 0.036081,
     "end_time": "2022-11-14T12:19:19.919457",
     "exception": false,
     "start_time": "2022-11-14T12:19:19.883376",
     "status": "completed"
    },
    "tags": []
   },
   "outputs": [],
   "source": [
    "#hide\n",
    "# g.rename(columns= {'date':'day'},inplace = True)"
   ]
  },
  {
   "cell_type": "code",
   "execution_count": 38,
   "id": "major-fight",
   "metadata": {
    "execution": {
     "iopub.execute_input": "2022-11-14T12:19:19.984566Z",
     "iopub.status.busy": "2022-11-14T12:19:19.984019Z",
     "iopub.status.idle": "2022-11-14T12:19:19.986339Z",
     "shell.execute_reply": "2022-11-14T12:19:19.985837Z"
    },
    "papermill": {
     "duration": 0.035916,
     "end_time": "2022-11-14T12:19:19.986429",
     "exception": false,
     "start_time": "2022-11-14T12:19:19.950513",
     "status": "completed"
    },
    "tags": []
   },
   "outputs": [],
   "source": [
    "#hide\n",
    "# g = g[cols]"
   ]
  },
  {
   "cell_type": "code",
   "execution_count": 39,
   "id": "structured-mobile",
   "metadata": {
    "execution": {
     "iopub.execute_input": "2022-11-14T12:19:20.051483Z",
     "iopub.status.busy": "2022-11-14T12:19:20.050791Z",
     "iopub.status.idle": "2022-11-14T12:19:20.053991Z",
     "shell.execute_reply": "2022-11-14T12:19:20.053463Z"
    },
    "papermill": {
     "duration": 0.03669,
     "end_time": "2022-11-14T12:19:20.054082",
     "exception": false,
     "start_time": "2022-11-14T12:19:20.017392",
     "status": "completed"
    },
    "tags": []
   },
   "outputs": [],
   "source": [
    "# #hide\n",
    "# g = g[g.group.notna()]"
   ]
  },
  {
   "cell_type": "code",
   "execution_count": 40,
   "id": "determined-closing",
   "metadata": {
    "execution": {
     "iopub.execute_input": "2022-11-14T12:19:20.119925Z",
     "iopub.status.busy": "2022-11-14T12:19:20.119359Z",
     "iopub.status.idle": "2022-11-14T12:19:20.121756Z",
     "shell.execute_reply": "2022-11-14T12:19:20.121224Z"
    },
    "papermill": {
     "duration": 0.036083,
     "end_time": "2022-11-14T12:19:20.121847",
     "exception": false,
     "start_time": "2022-11-14T12:19:20.085764",
     "status": "completed"
    },
    "tags": []
   },
   "outputs": [],
   "source": [
    "# #hide\n",
    "# colors = dict(zip(\n",
    "#     [\"Oceania\", \"Europe\", \"Asia\", \"South America\", \"Middle East\", \"North America\", \"Africa\"],\n",
    "#     [\"#adb0ff\", \"#ffb3ff\", \"#90d595\", \"#e48381\", \"#aafbff\", \"#f7bb5f\", \"#eafb50\"]\n",
    "# ))\n",
    "# group_lk = g.set_index('name')['group'].to_dict()"
   ]
  },
  {
   "cell_type": "code",
   "execution_count": null,
   "id": "gross-drinking",
   "metadata": {
    "papermill": {
     "duration": 0.030886,
     "end_time": "2022-11-14T12:19:20.183686",
     "exception": false,
     "start_time": "2022-11-14T12:19:20.152800",
     "status": "completed"
    },
    "tags": []
   },
   "outputs": [],
   "source": []
  },
  {
   "cell_type": "code",
   "execution_count": 41,
   "id": "subject-macintosh",
   "metadata": {
    "execution": {
     "iopub.execute_input": "2022-11-14T12:19:20.249925Z",
     "iopub.status.busy": "2022-11-14T12:19:20.249345Z",
     "iopub.status.idle": "2022-11-14T12:19:20.251721Z",
     "shell.execute_reply": "2022-11-14T12:19:20.251195Z"
    },
    "papermill": {
     "duration": 0.037001,
     "end_time": "2022-11-14T12:19:20.251817",
     "exception": false,
     "start_time": "2022-11-14T12:19:20.214816",
     "status": "completed"
    },
    "tags": []
   },
   "outputs": [],
   "source": [
    "# #hide\n",
    "# fig, ax = plt.subplots(figsize=(15, 8))\n",
    "\n",
    "# def draw_barchart(current_day):\n",
    "#     dff = g[g['day'].eq(current_day)].sort_values(by='value', ascending=True).tail(10)\n",
    "#     ax.clear()\n",
    "#     ax.barh(dff['name'], dff['value'], color=[colors[group_lk[x]] for x in dff['name']])\n",
    "#     dx = dff['value'].max() / 200\n",
    "    \n",
    "#     for i, (value, name) in enumerate(zip(dff['value'], dff['name'])):\n",
    "#         ax.text(value-dx, i,     name,           size=14, weight=600, ha='right', va='bottom')\n",
    "#         ax.text(value-dx, i-.25, group_lk[name], size=10, color='#444444', ha='right', va='baseline')\n",
    "#         ax.text(value+dx, i,     f'{value:,.0f}',  size=14, ha='left',  va='center')\n",
    "#     ax.text(1, 0.4, current_day, transform=ax.transAxes, color='#777777', size=46, ha='right', weight=800)\n",
    "#     ax.text(0, 1.06, 'Population (thousands)', transform=ax.transAxes, size=12, color='#777777')\n",
    "#     ax.xaxis.set_major_formatter(ticker.StrMethodFormatter('{x:,.0f}'))\n",
    "#     ax.xaxis.set_ticks_position('top')\n",
    "#     ax.tick_params(axis='x', colors='#777777', labelsize=12)\n",
    "#     ax.set_yticks([])\n",
    "#     ax.margins(0, 0.01)\n",
    "#     ax.grid(which='major', axis='x', linestyle='-')\n",
    "#     ax.set_axisbelow(True)\n",
    "    \n",
    "#     ax.text(0, 1.15, 'Coronavirus',\n",
    "#             transform=ax.transAxes, size=24, weight=600, ha='left', va='top')\n",
    "# #     ax.text(1, 0, 'by @pratapvardhan; credit @jburnmurdoch', transform=ax.transAxes, color='#777777', ha='right',\n",
    "# #             bbox=dict(facecolor='white', alpha=0.8, edgecolor='white'))\n",
    "#     plt.box(False)"
   ]
  },
  {
   "cell_type": "code",
   "execution_count": 42,
   "id": "sexual-wages",
   "metadata": {
    "execution": {
     "iopub.execute_input": "2022-11-14T12:19:20.317339Z",
     "iopub.status.busy": "2022-11-14T12:19:20.316772Z",
     "iopub.status.idle": "2022-11-14T12:19:20.319180Z",
     "shell.execute_reply": "2022-11-14T12:19:20.318698Z"
    },
    "papermill": {
     "duration": 0.03639,
     "end_time": "2022-11-14T12:19:20.319279",
     "exception": false,
     "start_time": "2022-11-14T12:19:20.282889",
     "status": "completed"
    },
    "tags": []
   },
   "outputs": [],
   "source": [
    "# #hide_input\n",
    "# fig, ax = plt.subplots(figsize=(15, 8))\n",
    "# animator = animation.FuncAnimation(fig, draw_barchart, frames=range(g.day.values.min(), g.day.values.max()))\n",
    "# HTML(animator.to_jshtml())\n",
    "# # or use animator.to_html5_video() or animator.save() "
   ]
  },
  {
   "cell_type": "code",
   "execution_count": null,
   "id": "australian-container",
   "metadata": {
    "papermill": {
     "duration": 0.030952,
     "end_time": "2022-11-14T12:19:20.381436",
     "exception": false,
     "start_time": "2022-11-14T12:19:20.350484",
     "status": "completed"
    },
    "tags": []
   },
   "outputs": [],
   "source": []
  },
  {
   "cell_type": "code",
   "execution_count": null,
   "id": "mediterranean-pontiac",
   "metadata": {
    "papermill": {
     "duration": 0.031007,
     "end_time": "2022-11-14T12:19:20.443493",
     "exception": false,
     "start_time": "2022-11-14T12:19:20.412486",
     "status": "completed"
    },
    "tags": []
   },
   "outputs": [],
   "source": []
  },
  {
   "cell_type": "code",
   "execution_count": null,
   "id": "aging-legislature",
   "metadata": {
    "papermill": {
     "duration": 0.031094,
     "end_time": "2022-11-14T12:19:20.505789",
     "exception": false,
     "start_time": "2022-11-14T12:19:20.474695",
     "status": "completed"
    },
    "tags": []
   },
   "outputs": [],
   "source": []
  }
 ],
 "metadata": {
  "kernelspec": {
   "display_name": "Python 3",
   "language": "python",
   "name": "python3"
  },
  "language_info": {
   "codemirror_mode": {
    "name": "ipython",
    "version": 3
   },
   "file_extension": ".py",
   "mimetype": "text/x-python",
   "name": "python",
   "nbconvert_exporter": "python",
   "pygments_lexer": "ipython3",
   "version": "3.6.15"
  },
  "papermill": {
   "duration": 6.069818,
   "end_time": "2022-11-14T12:19:20.855541",
   "environment_variables": {},
   "exception": null,
   "input_path": "2020-03-21-covid19exp.ipynb",
   "output_path": "2020-03-21-covid19exp.ipynb",
   "parameters": {},
   "start_time": "2022-11-14T12:19:14.785723",
   "version": "2.0.0"
  }
 },
 "nbformat": 4,
 "nbformat_minor": 5
}