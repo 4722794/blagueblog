{
 "cells": [
  {
   "cell_type": "markdown",
   "id": "muslim-click",
   "metadata": {
    "papermill": {
     "duration": 0.035061,
     "end_time": "2022-08-09T00:50:29.355974",
     "exception": false,
     "start_time": "2022-08-09T00:50:29.320913",
     "status": "completed"
    },
    "tags": []
   },
   "source": [
    "# COVID-19 Case Race\n",
    "> A race chart to see rising cases around the world\n",
    "\n",
    "- author: Hargun Oberoi\n",
    "- image: images/covid-overview.png\n",
    "- hide: false\n",
    "- badges: false"
   ]
  },
  {
   "cell_type": "code",
   "execution_count": 1,
   "id": "proof-material",
   "metadata": {
    "execution": {
     "iopub.execute_input": "2022-08-09T00:50:29.425858Z",
     "iopub.status.busy": "2022-08-09T00:50:29.425291Z",
     "iopub.status.idle": "2022-08-09T00:50:29.739999Z",
     "shell.execute_reply": "2022-08-09T00:50:29.739018Z"
    },
    "papermill": {
     "duration": 0.353676,
     "end_time": "2022-08-09T00:50:29.740135",
     "exception": false,
     "start_time": "2022-08-09T00:50:29.386459",
     "status": "completed"
    },
    "tags": []
   },
   "outputs": [],
   "source": [
    "#hide\n",
    "import numpy as np\n",
    "import pandas as pd\n",
    "from jinja2 import Template\n",
    "from IPython.display import HTML"
   ]
  },
  {
   "cell_type": "code",
   "execution_count": 2,
   "id": "developed-terminology",
   "metadata": {
    "execution": {
     "iopub.execute_input": "2022-08-09T00:50:29.804986Z",
     "iopub.status.busy": "2022-08-09T00:50:29.804414Z",
     "iopub.status.idle": "2022-08-09T00:50:29.806665Z",
     "shell.execute_reply": "2022-08-09T00:50:29.806194Z"
    },
    "papermill": {
     "duration": 0.036689,
     "end_time": "2022-08-09T00:50:29.806771",
     "exception": false,
     "start_time": "2022-08-09T00:50:29.770082",
     "status": "completed"
    },
    "tags": []
   },
   "outputs": [],
   "source": [
    "#hide\n",
    "\n",
    "# FETCH\n",
    "base_url = 'https://raw.githubusercontent.com/pratapvardhan/notebooks/master/covid19/'\n",
    "paths = {\n",
    "    'mapping': base_url + 'mapping_countries.csv',\n",
    "    'overview': base_url + 'overview.tpl'\n",
    "}"
   ]
  },
  {
   "cell_type": "code",
   "execution_count": 3,
   "id": "dynamic-saver",
   "metadata": {
    "execution": {
     "iopub.execute_input": "2022-08-09T00:50:29.875707Z",
     "iopub.status.busy": "2022-08-09T00:50:29.875140Z",
     "iopub.status.idle": "2022-08-09T00:50:29.877862Z",
     "shell.execute_reply": "2022-08-09T00:50:29.878349Z"
    },
    "papermill": {
     "duration": 0.041886,
     "end_time": "2022-08-09T00:50:29.878471",
     "exception": false,
     "start_time": "2022-08-09T00:50:29.836585",
     "status": "completed"
    },
    "tags": []
   },
   "outputs": [
    {
     "data": {
      "text/plain": [
       "'https://raw.githubusercontent.com/pratapvardhan/notebooks/master/covid19/mapping_countries.csv'"
      ]
     },
     "execution_count": 3,
     "metadata": {},
     "output_type": "execute_result"
    }
   ],
   "source": [
    "#hide\n",
    "paths['mapping']"
   ]
  },
  {
   "cell_type": "code",
   "execution_count": 4,
   "id": "urban-software",
   "metadata": {
    "execution": {
     "iopub.execute_input": "2022-08-09T00:50:29.944196Z",
     "iopub.status.busy": "2022-08-09T00:50:29.943618Z",
     "iopub.status.idle": "2022-08-09T00:50:29.946927Z",
     "shell.execute_reply": "2022-08-09T00:50:29.947370Z"
    },
    "papermill": {
     "duration": 0.03884,
     "end_time": "2022-08-09T00:50:29.947497",
     "exception": false,
     "start_time": "2022-08-09T00:50:29.908657",
     "status": "completed"
    },
    "tags": []
   },
   "outputs": [],
   "source": [
    "#hide\n",
    "def get_mappings(url):\n",
    "    df = pd.read_csv(url)\n",
    "    return {\n",
    "        'df': df,\n",
    "        'replace.country': dict(df.dropna(subset=['Name']).set_index('Country')['Name']),\n",
    "        'map.continent': dict(df.set_index('Name')['Continent'])\n",
    "    }"
   ]
  },
  {
   "cell_type": "code",
   "execution_count": 5,
   "id": "intimate-machinery",
   "metadata": {
    "execution": {
     "iopub.execute_input": "2022-08-09T00:50:30.012901Z",
     "iopub.status.busy": "2022-08-09T00:50:30.012328Z",
     "iopub.status.idle": "2022-08-09T00:50:30.058690Z",
     "shell.execute_reply": "2022-08-09T00:50:30.058182Z"
    },
    "papermill": {
     "duration": 0.081221,
     "end_time": "2022-08-09T00:50:30.058803",
     "exception": false,
     "start_time": "2022-08-09T00:50:29.977582",
     "status": "completed"
    },
    "tags": []
   },
   "outputs": [],
   "source": [
    "#hide\n",
    "mapping = get_mappings(paths['mapping'])"
   ]
  },
  {
   "cell_type": "code",
   "execution_count": 6,
   "id": "certified-tactics",
   "metadata": {
    "execution": {
     "iopub.execute_input": "2022-08-09T00:50:30.126152Z",
     "iopub.status.busy": "2022-08-09T00:50:30.125565Z",
     "iopub.status.idle": "2022-08-09T00:50:30.127469Z",
     "shell.execute_reply": "2022-08-09T00:50:30.127864Z"
    },
    "papermill": {
     "duration": 0.039012,
     "end_time": "2022-08-09T00:50:30.127983",
     "exception": false,
     "start_time": "2022-08-09T00:50:30.088971",
     "status": "completed"
    },
    "tags": []
   },
   "outputs": [],
   "source": [
    "#hide\n",
    "def get_template(path):\n",
    "    from urllib.parse import urlparse\n",
    "    if bool(urlparse(path).netloc):\n",
    "        from urllib.request import urlopen\n",
    "        return urlopen(path).read().decode('utf8')\n",
    "    return open(path).read()"
   ]
  },
  {
   "cell_type": "code",
   "execution_count": 7,
   "id": "realistic-blast",
   "metadata": {
    "execution": {
     "iopub.execute_input": "2022-08-09T00:50:30.193319Z",
     "iopub.status.busy": "2022-08-09T00:50:30.192743Z",
     "iopub.status.idle": "2022-08-09T00:50:30.195002Z",
     "shell.execute_reply": "2022-08-09T00:50:30.195421Z"
    },
    "papermill": {
     "duration": 0.037068,
     "end_time": "2022-08-09T00:50:30.195547",
     "exception": false,
     "start_time": "2022-08-09T00:50:30.158479",
     "status": "completed"
    },
    "tags": []
   },
   "outputs": [],
   "source": [
    "#hide\n",
    "def get_frame(name):\n",
    "    url = (\n",
    "        'https://raw.githubusercontent.com/CSSEGISandData/COVID-19/master/csse_covid_19_data/'\n",
    "        f'csse_covid_19_time_series/time_series_covid19_{name}_global.csv')\n",
    "    df = pd.read_csv(url)\n",
    "    # rename countries\n",
    "    df['Country/Region'] = df['Country/Region'].replace(mapping['replace.country'])\n",
    "    return df"
   ]
  },
  {
   "cell_type": "code",
   "execution_count": 8,
   "id": "affiliated-characterization",
   "metadata": {
    "execution": {
     "iopub.execute_input": "2022-08-09T00:50:30.261667Z",
     "iopub.status.busy": "2022-08-09T00:50:30.261078Z",
     "iopub.status.idle": "2022-08-09T00:50:30.263127Z",
     "shell.execute_reply": "2022-08-09T00:50:30.262591Z"
    },
    "papermill": {
     "duration": 0.037371,
     "end_time": "2022-08-09T00:50:30.263228",
     "exception": false,
     "start_time": "2022-08-09T00:50:30.225857",
     "status": "completed"
    },
    "tags": []
   },
   "outputs": [],
   "source": [
    "#hide\n",
    "def get_dates(df):\n",
    "    dt_cols = df.columns[~df.columns.isin(['Province/State', 'Country/Region', 'Lat', 'Long'])]\n",
    "    LAST_DATE_I = -1\n",
    "    # sometimes last column may be empty, then go backwards\n",
    "    for i in range(-1, -len(dt_cols), -1):\n",
    "        if not df[dt_cols[i]].fillna(0).eq(0).all():\n",
    "            LAST_DATE_I = i\n",
    "            break\n",
    "    return LAST_DATE_I, dt_cols"
   ]
  },
  {
   "cell_type": "code",
   "execution_count": 9,
   "id": "recent-optimization",
   "metadata": {
    "execution": {
     "iopub.execute_input": "2022-08-09T00:50:30.327980Z",
     "iopub.status.busy": "2022-08-09T00:50:30.327409Z",
     "iopub.status.idle": "2022-08-09T00:50:30.868448Z",
     "shell.execute_reply": "2022-08-09T00:50:30.867287Z"
    },
    "papermill": {
     "duration": 0.575368,
     "end_time": "2022-08-09T00:50:30.868566",
     "exception": false,
     "start_time": "2022-08-09T00:50:30.293198",
     "status": "completed"
    },
    "tags": []
   },
   "outputs": [],
   "source": [
    "#hide\n",
    "COL_REGION = 'Country/Region'\n",
    "# Confirmed, Recovered, Deaths\n",
    "df = get_frame('confirmed')\n",
    "# dft_: timeseries, dfc_: today country agg\n",
    "dft_cases = df\n",
    "dft_deaths = get_frame('deaths')\n",
    "dft_recovered = get_frame('recovered')\n",
    "LAST_DATE_I, dt_cols = get_dates(df)"
   ]
  },
  {
   "cell_type": "code",
   "execution_count": 10,
   "id": "absolute-copper",
   "metadata": {
    "execution": {
     "iopub.execute_input": "2022-08-09T00:50:30.934171Z",
     "iopub.status.busy": "2022-08-09T00:50:30.933587Z",
     "iopub.status.idle": "2022-08-09T00:50:30.935814Z",
     "shell.execute_reply": "2022-08-09T00:50:30.935362Z"
    },
    "papermill": {
     "duration": 0.037056,
     "end_time": "2022-08-09T00:50:30.935919",
     "exception": false,
     "start_time": "2022-08-09T00:50:30.898863",
     "status": "completed"
    },
    "tags": []
   },
   "outputs": [],
   "source": [
    "#hide\n",
    "LAST_DATE_I, dt_cols = get_dates(df)\n",
    "dt_today =dt_cols[LAST_DATE_I]\n",
    "# dt_5day = dt_cols[LAST_DATE_I - 5]\n",
    "dt_yday = dt_cols[LAST_DATE_I - 1]"
   ]
  },
  {
   "cell_type": "code",
   "execution_count": 11,
   "id": "restricted-sheriff",
   "metadata": {
    "execution": {
     "iopub.execute_input": "2022-08-09T00:50:31.001107Z",
     "iopub.status.busy": "2022-08-09T00:50:31.000550Z",
     "iopub.status.idle": "2022-08-09T00:50:31.008125Z",
     "shell.execute_reply": "2022-08-09T00:50:31.007669Z"
    },
    "papermill": {
     "duration": 0.042406,
     "end_time": "2022-08-09T00:50:31.008227",
     "exception": false,
     "start_time": "2022-08-09T00:50:30.965821",
     "status": "completed"
    },
    "tags": []
   },
   "outputs": [],
   "source": [
    "#hide\n",
    "dfc_cases = dft_cases.groupby(COL_REGION)[dt_today].sum()\n",
    "dfc_deaths = dft_deaths.groupby(COL_REGION)[dt_today].sum()\n",
    "# dfp_cases = dft_cases.groupby(COL_REGION)[dt_5day].sum()\n",
    "# dfp_deaths = dft_deaths.groupby(COL_REGION)[dt_5day].sum()\n",
    "dfp_cases = dft_cases.groupby(COL_REGION)[dt_yday].sum()\n",
    "dfp_deaths = dft_deaths.groupby(COL_REGION)[dt_yday].sum()"
   ]
  },
  {
   "cell_type": "code",
   "execution_count": 12,
   "id": "deluxe-hepatitis",
   "metadata": {
    "execution": {
     "iopub.execute_input": "2022-08-09T00:50:31.073611Z",
     "iopub.status.busy": "2022-08-09T00:50:31.073044Z",
     "iopub.status.idle": "2022-08-09T00:50:31.078319Z",
     "shell.execute_reply": "2022-08-09T00:50:31.077847Z"
    },
    "papermill": {
     "duration": 0.040226,
     "end_time": "2022-08-09T00:50:31.078422",
     "exception": false,
     "start_time": "2022-08-09T00:50:31.038196",
     "status": "completed"
    },
    "tags": []
   },
   "outputs": [],
   "source": [
    "#hide\n",
    "df_table = (pd.DataFrame(dict(Cases = dfc_cases, Deaths = dfc_deaths, PCases = dfp_cases, PDeaths = dfp_deaths))\n",
    "            .sort_values(by = ['Cases','Deaths'], ascending = [False, False])\n",
    "            .reset_index())"
   ]
  },
  {
   "cell_type": "code",
   "execution_count": 13,
   "id": "educational-chancellor",
   "metadata": {
    "execution": {
     "iopub.execute_input": "2022-08-09T00:50:31.150976Z",
     "iopub.status.busy": "2022-08-09T00:50:31.150399Z",
     "iopub.status.idle": "2022-08-09T00:50:31.162574Z",
     "shell.execute_reply": "2022-08-09T00:50:31.162111Z"
    },
    "papermill": {
     "duration": 0.054468,
     "end_time": "2022-08-09T00:50:31.162680",
     "exception": false,
     "start_time": "2022-08-09T00:50:31.108212",
     "status": "completed"
    },
    "tags": []
   },
   "outputs": [
    {
     "data": {
      "text/html": [
       "<div>\n",
       "<style scoped>\n",
       "    .dataframe tbody tr th:only-of-type {\n",
       "        vertical-align: middle;\n",
       "    }\n",
       "\n",
       "    .dataframe tbody tr th {\n",
       "        vertical-align: top;\n",
       "    }\n",
       "\n",
       "    .dataframe thead th {\n",
       "        text-align: right;\n",
       "    }\n",
       "</style>\n",
       "<table border=\"1\" class=\"dataframe\">\n",
       "  <thead>\n",
       "    <tr style=\"text-align: right;\">\n",
       "      <th></th>\n",
       "      <th>Country/Region</th>\n",
       "      <th>Cases</th>\n",
       "      <th>Deaths</th>\n",
       "      <th>PCases</th>\n",
       "      <th>PDeaths</th>\n",
       "      <th>Cases (+)</th>\n",
       "      <th>Deaths (+)</th>\n",
       "      <th>Fatality Rate</th>\n",
       "      <th>Continent</th>\n",
       "    </tr>\n",
       "  </thead>\n",
       "  <tbody>\n",
       "    <tr>\n",
       "      <th>0</th>\n",
       "      <td>US</td>\n",
       "      <td>92112922</td>\n",
       "      <td>1033556</td>\n",
       "      <td>92102659</td>\n",
       "      <td>1033545</td>\n",
       "      <td>10263</td>\n",
       "      <td>11</td>\n",
       "      <td>1.12</td>\n",
       "      <td>North America</td>\n",
       "    </tr>\n",
       "    <tr>\n",
       "      <th>1</th>\n",
       "      <td>India</td>\n",
       "      <td>44145709</td>\n",
       "      <td>526689</td>\n",
       "      <td>44145709</td>\n",
       "      <td>526689</td>\n",
       "      <td>0</td>\n",
       "      <td>0</td>\n",
       "      <td>1.19</td>\n",
       "      <td>Asia</td>\n",
       "    </tr>\n",
       "    <tr>\n",
       "      <th>2</th>\n",
       "      <td>France</td>\n",
       "      <td>34237067</td>\n",
       "      <td>153577</td>\n",
       "      <td>34237067</td>\n",
       "      <td>153577</td>\n",
       "      <td>0</td>\n",
       "      <td>0</td>\n",
       "      <td>0.45</td>\n",
       "      <td>Europe</td>\n",
       "    </tr>\n",
       "    <tr>\n",
       "      <th>3</th>\n",
       "      <td>Brazil</td>\n",
       "      <td>34018371</td>\n",
       "      <td>679996</td>\n",
       "      <td>34011173</td>\n",
       "      <td>679939</td>\n",
       "      <td>7198</td>\n",
       "      <td>57</td>\n",
       "      <td>2.00</td>\n",
       "      <td>South America</td>\n",
       "    </tr>\n",
       "    <tr>\n",
       "      <th>4</th>\n",
       "      <td>Germany</td>\n",
       "      <td>31228322</td>\n",
       "      <td>144858</td>\n",
       "      <td>31228314</td>\n",
       "      <td>144858</td>\n",
       "      <td>8</td>\n",
       "      <td>0</td>\n",
       "      <td>0.46</td>\n",
       "      <td>Europe</td>\n",
       "    </tr>\n",
       "  </tbody>\n",
       "</table>\n",
       "</div>"
      ],
      "text/plain": [
       "  Country/Region     Cases   Deaths    PCases  PDeaths  Cases (+)  Deaths (+)  \\\n",
       "0             US  92112922  1033556  92102659  1033545      10263          11   \n",
       "1          India  44145709   526689  44145709   526689          0           0   \n",
       "2         France  34237067   153577  34237067   153577          0           0   \n",
       "3         Brazil  34018371   679996  34011173   679939       7198          57   \n",
       "4        Germany  31228322   144858  31228314   144858          8           0   \n",
       "\n",
       "   Fatality Rate      Continent  \n",
       "0           1.12  North America  \n",
       "1           1.19           Asia  \n",
       "2           0.45         Europe  \n",
       "3           2.00  South America  \n",
       "4           0.46         Europe  "
      ]
     },
     "execution_count": 13,
     "metadata": {},
     "output_type": "execute_result"
    }
   ],
   "source": [
    "#hide\n",
    "for c in 'Cases, Deaths'.split(', '):\n",
    "    df_table[f'{c} (+)'] = (df_table[c] - df_table[f'P{c}']).clip(0)\n",
    "    #Clip ça veut dire, les chiffres negatif sont interdit\n",
    "df_table['Fatality Rate'] = (100* df_table['Deaths']/ df_table['Cases']).round(2)\n",
    "df_table['Continent'] = df_table['Country/Region'].map(mapping['map.continent'])\n",
    "df_table.head(5)"
   ]
  },
  {
   "cell_type": "code",
   "execution_count": 14,
   "id": "aboriginal-bulgaria",
   "metadata": {
    "execution": {
     "iopub.execute_input": "2022-08-09T00:50:31.229528Z",
     "iopub.status.busy": "2022-08-09T00:50:31.228953Z",
     "iopub.status.idle": "2022-08-09T00:50:31.231318Z",
     "shell.execute_reply": "2022-08-09T00:50:31.230793Z"
    },
    "papermill": {
     "duration": 0.038155,
     "end_time": "2022-08-09T00:50:31.231421",
     "exception": false,
     "start_time": "2022-08-09T00:50:31.193266",
     "status": "completed"
    },
    "tags": []
   },
   "outputs": [],
   "source": [
    "#hide\n",
    "#delete problematic countries from table\n",
    "df_table = df_table[~df_table['Country/Region'].isin(['Cape Verde', 'Cruise Ship', 'Kosovo'])]"
   ]
  },
  {
   "cell_type": "code",
   "execution_count": 15,
   "id": "fantastic-effect",
   "metadata": {
    "execution": {
     "iopub.execute_input": "2022-08-09T00:50:31.300157Z",
     "iopub.status.busy": "2022-08-09T00:50:31.299588Z",
     "iopub.status.idle": "2022-08-09T00:50:31.316616Z",
     "shell.execute_reply": "2022-08-09T00:50:31.317053Z"
    },
    "papermill": {
     "duration": 0.0553,
     "end_time": "2022-08-09T00:50:31.317180",
     "exception": false,
     "start_time": "2022-08-09T00:50:31.261880",
     "status": "completed"
    },
    "tags": []
   },
   "outputs": [
    {
     "data": {
      "text/html": [
       "<div>\n",
       "<style scoped>\n",
       "    .dataframe tbody tr th:only-of-type {\n",
       "        vertical-align: middle;\n",
       "    }\n",
       "\n",
       "    .dataframe tbody tr th {\n",
       "        vertical-align: top;\n",
       "    }\n",
       "\n",
       "    .dataframe thead th {\n",
       "        text-align: right;\n",
       "    }\n",
       "</style>\n",
       "<table border=\"1\" class=\"dataframe\">\n",
       "  <thead>\n",
       "    <tr style=\"text-align: right;\">\n",
       "      <th></th>\n",
       "      <th>Country/Region</th>\n",
       "      <th>Cases</th>\n",
       "      <th>Deaths</th>\n",
       "      <th>PCases</th>\n",
       "      <th>PDeaths</th>\n",
       "      <th>Cases (+)</th>\n",
       "      <th>Deaths (+)</th>\n",
       "      <th>Fatality Rate</th>\n",
       "      <th>Continent</th>\n",
       "    </tr>\n",
       "  </thead>\n",
       "  <tbody>\n",
       "    <tr>\n",
       "      <th>0</th>\n",
       "      <td>US</td>\n",
       "      <td>92112922</td>\n",
       "      <td>1033556</td>\n",
       "      <td>92102659</td>\n",
       "      <td>1033545</td>\n",
       "      <td>10263</td>\n",
       "      <td>11</td>\n",
       "      <td>1.1</td>\n",
       "      <td>North America</td>\n",
       "    </tr>\n",
       "    <tr>\n",
       "      <th>1</th>\n",
       "      <td>India</td>\n",
       "      <td>44145709</td>\n",
       "      <td>526689</td>\n",
       "      <td>44145709</td>\n",
       "      <td>526689</td>\n",
       "      <td>0</td>\n",
       "      <td>0</td>\n",
       "      <td>1.2</td>\n",
       "      <td>Asia</td>\n",
       "    </tr>\n",
       "    <tr>\n",
       "      <th>2</th>\n",
       "      <td>France</td>\n",
       "      <td>34237067</td>\n",
       "      <td>153577</td>\n",
       "      <td>34237067</td>\n",
       "      <td>153577</td>\n",
       "      <td>0</td>\n",
       "      <td>0</td>\n",
       "      <td>0.4</td>\n",
       "      <td>Europe</td>\n",
       "    </tr>\n",
       "    <tr>\n",
       "      <th>3</th>\n",
       "      <td>Brazil</td>\n",
       "      <td>34018371</td>\n",
       "      <td>679996</td>\n",
       "      <td>34011173</td>\n",
       "      <td>679939</td>\n",
       "      <td>7198</td>\n",
       "      <td>57</td>\n",
       "      <td>2.0</td>\n",
       "      <td>South America</td>\n",
       "    </tr>\n",
       "    <tr>\n",
       "      <th>4</th>\n",
       "      <td>Germany</td>\n",
       "      <td>31228322</td>\n",
       "      <td>144858</td>\n",
       "      <td>31228314</td>\n",
       "      <td>144858</td>\n",
       "      <td>8</td>\n",
       "      <td>0</td>\n",
       "      <td>0.5</td>\n",
       "      <td>Europe</td>\n",
       "    </tr>\n",
       "  </tbody>\n",
       "</table>\n",
       "</div>"
      ],
      "text/plain": [
       "  Country/Region     Cases   Deaths    PCases  PDeaths  Cases (+)  Deaths (+)  \\\n",
       "0             US  92112922  1033556  92102659  1033545      10263          11   \n",
       "1          India  44145709   526689  44145709   526689          0           0   \n",
       "2         France  34237067   153577  34237067   153577          0           0   \n",
       "3         Brazil  34018371   679996  34011173   679939       7198          57   \n",
       "4        Germany  31228322   144858  31228314   144858          8           0   \n",
       "\n",
       "   Fatality Rate      Continent  \n",
       "0            1.1  North America  \n",
       "1            1.2           Asia  \n",
       "2            0.4         Europe  \n",
       "3            2.0  South America  \n",
       "4            0.5         Europe  "
      ]
     },
     "execution_count": 15,
     "metadata": {},
     "output_type": "execute_result"
    }
   ],
   "source": [
    "#hide\n",
    "df_table = (pd.DataFrame(dict(Cases=dfc_cases, Deaths=dfc_deaths, PCases=dfp_cases, PDeaths=dfp_deaths))\n",
    "             .sort_values(by=['Cases', 'Deaths'], ascending=[False, False])\n",
    "             .reset_index())\n",
    "df_table.rename(columns={'index': 'Country/Region'}, inplace=True)\n",
    "for c in 'Cases, Deaths'.split(', '):\n",
    "    df_table[f'{c} (+)'] = (df_table[c] - df_table[f'P{c}']).clip(0)  # DATA BUG\n",
    "df_table['Fatality Rate'] = (100 * df_table['Deaths'] / df_table['Cases']).round(1)\n",
    "df_table['Continent'] = df_table['Country/Region'].map(mapping['map.continent'])\n",
    "df_table.head(5)"
   ]
  },
  {
   "cell_type": "code",
   "execution_count": 16,
   "id": "fewer-occasion",
   "metadata": {
    "execution": {
     "iopub.execute_input": "2022-08-09T00:50:31.384811Z",
     "iopub.status.busy": "2022-08-09T00:50:31.384216Z",
     "iopub.status.idle": "2022-08-09T00:50:31.386616Z",
     "shell.execute_reply": "2022-08-09T00:50:31.386076Z"
    },
    "papermill": {
     "duration": 0.038448,
     "end_time": "2022-08-09T00:50:31.386719",
     "exception": false,
     "start_time": "2022-08-09T00:50:31.348271",
     "status": "completed"
    },
    "tags": []
   },
   "outputs": [],
   "source": [
    "#hide\n",
    "#delete problematic countries from table\n",
    "df_table = df_table[~df_table['Country/Region'].isin(['Cape Verde', 'Cruise Ship', 'Kosovo'])]"
   ]
  },
  {
   "cell_type": "code",
   "execution_count": 17,
   "id": "related-center",
   "metadata": {
    "execution": {
     "iopub.execute_input": "2022-08-09T00:50:31.455035Z",
     "iopub.status.busy": "2022-08-09T00:50:31.454465Z",
     "iopub.status.idle": "2022-08-09T00:50:31.467435Z",
     "shell.execute_reply": "2022-08-09T00:50:31.466994Z"
    },
    "papermill": {
     "duration": 0.049923,
     "end_time": "2022-08-09T00:50:31.467542",
     "exception": false,
     "start_time": "2022-08-09T00:50:31.417619",
     "status": "completed"
    },
    "tags": []
   },
   "outputs": [],
   "source": [
    "#hide\n",
    "metrics = [df_table.columns[index] for index in [1,2,5,6]]\n",
    "# s_china = df_table[df_table['Country/Region'].eq('China')][metrics].sum().add_prefix('China ')\n",
    "s_us = df_table[df_table['Country/Region'].eq('US')][metrics].sum().add_prefix('US ')\n",
    "s_eu = df_table[df_table['Continent'].eq('Europe')][metrics].sum().add_prefix('EU ')\n",
    "s_ind = df_table[df_table['Country/Region'].eq('India')][metrics].sum().add_prefix('India ')\n",
    "summary = {'updated': pd.to_datetime(dt_today), 'since': pd.to_datetime(dt_yday)}\n",
    "summary = {'updated': pd.to_datetime(dt_today), 'since': pd.to_datetime(dt_yday)}\n",
    "summary = {**summary, **df_table[metrics].sum(), **s_ind, **s_us, **s_eu}"
   ]
  },
  {
   "cell_type": "code",
   "execution_count": 18,
   "id": "engaging-syndrome",
   "metadata": {
    "execution": {
     "iopub.execute_input": "2022-08-09T00:50:31.534509Z",
     "iopub.status.busy": "2022-08-09T00:50:31.533921Z",
     "iopub.status.idle": "2022-08-09T00:50:31.552524Z",
     "shell.execute_reply": "2022-08-09T00:50:31.551965Z"
    },
    "papermill": {
     "duration": 0.053967,
     "end_time": "2022-08-09T00:50:31.552633",
     "exception": false,
     "start_time": "2022-08-09T00:50:31.498666",
     "status": "completed"
    },
    "tags": []
   },
   "outputs": [],
   "source": [
    "#hide\n",
    "dft_ct_new_cases = dft_cases.groupby(COL_REGION)[dt_cols].sum().diff(axis=1).fillna(0).astype(int)"
   ]
  },
  {
   "cell_type": "code",
   "execution_count": 19,
   "id": "neutral-assignment",
   "metadata": {
    "execution": {
     "iopub.execute_input": "2022-08-09T00:50:31.620509Z",
     "iopub.status.busy": "2022-08-09T00:50:31.619941Z",
     "iopub.status.idle": "2022-08-09T00:50:31.622215Z",
     "shell.execute_reply": "2022-08-09T00:50:31.622636Z"
    },
    "papermill": {
     "duration": 0.039161,
     "end_time": "2022-08-09T00:50:31.622754",
     "exception": false,
     "start_time": "2022-08-09T00:50:31.583593",
     "status": "completed"
    },
    "tags": []
   },
   "outputs": [],
   "source": [
    "#hide\n",
    "everydaycases = dft_ct_new_cases.cumsum(axis=1)"
   ]
  },
  {
   "cell_type": "code",
   "execution_count": 20,
   "id": "parliamentary-calgary",
   "metadata": {
    "execution": {
     "iopub.execute_input": "2022-08-09T00:50:31.689433Z",
     "iopub.status.busy": "2022-08-09T00:50:31.688874Z",
     "iopub.status.idle": "2022-08-09T00:50:32.252761Z",
     "shell.execute_reply": "2022-08-09T00:50:32.252272Z"
    },
    "papermill": {
     "duration": 0.599093,
     "end_time": "2022-08-09T00:50:32.252879",
     "exception": false,
     "start_time": "2022-08-09T00:50:31.653786",
     "status": "completed"
    },
    "tags": []
   },
   "outputs": [],
   "source": [
    "#hide\n",
    "import pandas as pd\n",
    "import matplotlib.pyplot as plt\n",
    "import matplotlib.ticker as ticker\n",
    "import matplotlib.animation as animation\n",
    "from IPython.display import HTML"
   ]
  },
  {
   "cell_type": "code",
   "execution_count": 21,
   "id": "lasting-extraction",
   "metadata": {
    "execution": {
     "iopub.execute_input": "2022-08-09T00:50:32.321032Z",
     "iopub.status.busy": "2022-08-09T00:50:32.320467Z",
     "iopub.status.idle": "2022-08-09T00:50:32.327351Z",
     "shell.execute_reply": "2022-08-09T00:50:32.326894Z"
    },
    "papermill": {
     "duration": 0.043738,
     "end_time": "2022-08-09T00:50:32.327456",
     "exception": false,
     "start_time": "2022-08-09T00:50:32.283718",
     "status": "completed"
    },
    "tags": []
   },
   "outputs": [],
   "source": [
    "#hide\n",
    "t = everydaycases.stack()"
   ]
  },
  {
   "cell_type": "code",
   "execution_count": 22,
   "id": "premier-sleeve",
   "metadata": {
    "execution": {
     "iopub.execute_input": "2022-08-09T00:50:32.393673Z",
     "iopub.status.busy": "2022-08-09T00:50:32.393113Z",
     "iopub.status.idle": "2022-08-09T00:50:32.404544Z",
     "shell.execute_reply": "2022-08-09T00:50:32.404052Z"
    },
    "papermill": {
     "duration": 0.046169,
     "end_time": "2022-08-09T00:50:32.404653",
     "exception": false,
     "start_time": "2022-08-09T00:50:32.358484",
     "status": "completed"
    },
    "tags": []
   },
   "outputs": [],
   "source": [
    "#hide\n",
    "g = t.reset_index(['Country/Region'])"
   ]
  },
  {
   "cell_type": "code",
   "execution_count": 23,
   "id": "distributed-pittsburgh",
   "metadata": {
    "execution": {
     "iopub.execute_input": "2022-08-09T00:50:32.470995Z",
     "iopub.status.busy": "2022-08-09T00:50:32.470421Z",
     "iopub.status.idle": "2022-08-09T00:50:32.472653Z",
     "shell.execute_reply": "2022-08-09T00:50:32.472212Z"
    },
    "papermill": {
     "duration": 0.037061,
     "end_time": "2022-08-09T00:50:32.472754",
     "exception": false,
     "start_time": "2022-08-09T00:50:32.435693",
     "status": "completed"
    },
    "tags": []
   },
   "outputs": [],
   "source": [
    "#hide\n",
    "g.index.name = 'date'"
   ]
  },
  {
   "cell_type": "code",
   "execution_count": 24,
   "id": "naked-donor",
   "metadata": {
    "execution": {
     "iopub.execute_input": "2022-08-09T00:50:32.538374Z",
     "iopub.status.busy": "2022-08-09T00:50:32.537764Z",
     "iopub.status.idle": "2022-08-09T00:50:32.540296Z",
     "shell.execute_reply": "2022-08-09T00:50:32.539875Z"
    },
    "papermill": {
     "duration": 0.036501,
     "end_time": "2022-08-09T00:50:32.540399",
     "exception": false,
     "start_time": "2022-08-09T00:50:32.503898",
     "status": "completed"
    },
    "tags": []
   },
   "outputs": [],
   "source": [
    "# #hide\n",
    "# g = g.reset_index(['date'])"
   ]
  },
  {
   "cell_type": "code",
   "execution_count": 25,
   "id": "incomplete-mustang",
   "metadata": {
    "execution": {
     "iopub.execute_input": "2022-08-09T00:50:32.605998Z",
     "iopub.status.busy": "2022-08-09T00:50:32.605423Z",
     "iopub.status.idle": "2022-08-09T00:50:32.609260Z",
     "shell.execute_reply": "2022-08-09T00:50:32.608767Z"
    },
    "papermill": {
     "duration": 0.038111,
     "end_time": "2022-08-09T00:50:32.609364",
     "exception": false,
     "start_time": "2022-08-09T00:50:32.571253",
     "status": "completed"
    },
    "tags": []
   },
   "outputs": [],
   "source": [
    "#hide\n",
    "# g.head()"
   ]
  },
  {
   "cell_type": "code",
   "execution_count": 26,
   "id": "specific-kruger",
   "metadata": {
    "execution": {
     "iopub.execute_input": "2022-08-09T00:50:32.675167Z",
     "iopub.status.busy": "2022-08-09T00:50:32.674595Z",
     "iopub.status.idle": "2022-08-09T00:50:32.677068Z",
     "shell.execute_reply": "2022-08-09T00:50:32.676538Z"
    },
    "papermill": {
     "duration": 0.036633,
     "end_time": "2022-08-09T00:50:32.677171",
     "exception": false,
     "start_time": "2022-08-09T00:50:32.640538",
     "status": "completed"
    },
    "tags": []
   },
   "outputs": [],
   "source": [
    "#hide\n",
    "# g.columns = ['date','country','cases']"
   ]
  },
  {
   "cell_type": "code",
   "execution_count": 27,
   "id": "tender-conversion",
   "metadata": {
    "execution": {
     "iopub.execute_input": "2022-08-09T00:50:32.743354Z",
     "iopub.status.busy": "2022-08-09T00:50:32.742789Z",
     "iopub.status.idle": "2022-08-09T00:50:32.744871Z",
     "shell.execute_reply": "2022-08-09T00:50:32.745284Z"
    },
    "papermill": {
     "duration": 0.036628,
     "end_time": "2022-08-09T00:50:32.745401",
     "exception": false,
     "start_time": "2022-08-09T00:50:32.708773",
     "status": "completed"
    },
    "tags": []
   },
   "outputs": [],
   "source": [
    "#hide\n",
    "# g['continent'] = g.country"
   ]
  },
  {
   "cell_type": "code",
   "execution_count": 28,
   "id": "substantial-wilderness",
   "metadata": {
    "execution": {
     "iopub.execute_input": "2022-08-09T00:50:32.811177Z",
     "iopub.status.busy": "2022-08-09T00:50:32.810607Z",
     "iopub.status.idle": "2022-08-09T00:50:32.812964Z",
     "shell.execute_reply": "2022-08-09T00:50:32.812423Z"
    },
    "papermill": {
     "duration": 0.036548,
     "end_time": "2022-08-09T00:50:32.813073",
     "exception": false,
     "start_time": "2022-08-09T00:50:32.776525",
     "status": "completed"
    },
    "tags": []
   },
   "outputs": [],
   "source": [
    "#hide\n",
    "# cols = list(g.columns.values)"
   ]
  },
  {
   "cell_type": "code",
   "execution_count": 29,
   "id": "solved-farming",
   "metadata": {
    "execution": {
     "iopub.execute_input": "2022-08-09T00:50:32.878807Z",
     "iopub.status.busy": "2022-08-09T00:50:32.878235Z",
     "iopub.status.idle": "2022-08-09T00:50:32.880237Z",
     "shell.execute_reply": "2022-08-09T00:50:32.880635Z"
    },
    "papermill": {
     "duration": 0.036799,
     "end_time": "2022-08-09T00:50:32.880758",
     "exception": false,
     "start_time": "2022-08-09T00:50:32.843959",
     "status": "completed"
    },
    "tags": []
   },
   "outputs": [],
   "source": [
    "#hide\n",
    "# cols.insert(0, cols.pop())"
   ]
  },
  {
   "cell_type": "code",
   "execution_count": 30,
   "id": "executed-adoption",
   "metadata": {
    "execution": {
     "iopub.execute_input": "2022-08-09T00:50:32.946637Z",
     "iopub.status.busy": "2022-08-09T00:50:32.946062Z",
     "iopub.status.idle": "2022-08-09T00:50:32.948396Z",
     "shell.execute_reply": "2022-08-09T00:50:32.947866Z"
    },
    "papermill": {
     "duration": 0.036719,
     "end_time": "2022-08-09T00:50:32.948498",
     "exception": false,
     "start_time": "2022-08-09T00:50:32.911779",
     "status": "completed"
    },
    "tags": []
   },
   "outputs": [],
   "source": [
    "#hide\n",
    "# g = g[cols]"
   ]
  },
  {
   "cell_type": "code",
   "execution_count": 31,
   "id": "subject-dublin",
   "metadata": {
    "execution": {
     "iopub.execute_input": "2022-08-09T00:50:33.013937Z",
     "iopub.status.busy": "2022-08-09T00:50:33.013360Z",
     "iopub.status.idle": "2022-08-09T00:50:33.015898Z",
     "shell.execute_reply": "2022-08-09T00:50:33.015427Z"
    },
    "papermill": {
     "duration": 0.036622,
     "end_time": "2022-08-09T00:50:33.016002",
     "exception": false,
     "start_time": "2022-08-09T00:50:32.979380",
     "status": "completed"
    },
    "tags": []
   },
   "outputs": [],
   "source": [
    "#hide\n",
    "# g['continent'] = g['continent'].map(mapping['map.continent'])"
   ]
  },
  {
   "cell_type": "code",
   "execution_count": 32,
   "id": "freelance-scout",
   "metadata": {
    "execution": {
     "iopub.execute_input": "2022-08-09T00:50:33.081613Z",
     "iopub.status.busy": "2022-08-09T00:50:33.081043Z",
     "iopub.status.idle": "2022-08-09T00:50:33.083073Z",
     "shell.execute_reply": "2022-08-09T00:50:33.083472Z"
    },
    "papermill": {
     "duration": 0.036484,
     "end_time": "2022-08-09T00:50:33.083594",
     "exception": false,
     "start_time": "2022-08-09T00:50:33.047110",
     "status": "completed"
    },
    "tags": []
   },
   "outputs": [],
   "source": [
    "#hide\n",
    "# g.head()"
   ]
  },
  {
   "cell_type": "code",
   "execution_count": 33,
   "id": "limited-engine",
   "metadata": {
    "execution": {
     "iopub.execute_input": "2022-08-09T00:50:33.149809Z",
     "iopub.status.busy": "2022-08-09T00:50:33.149254Z",
     "iopub.status.idle": "2022-08-09T00:50:33.151156Z",
     "shell.execute_reply": "2022-08-09T00:50:33.151571Z"
    },
    "papermill": {
     "duration": 0.037317,
     "end_time": "2022-08-09T00:50:33.151683",
     "exception": false,
     "start_time": "2022-08-09T00:50:33.114366",
     "status": "completed"
    },
    "tags": []
   },
   "outputs": [],
   "source": [
    "# hide\n",
    "# g['date'] = g['date'].astype('datetime64[ns]')"
   ]
  },
  {
   "cell_type": "code",
   "execution_count": 34,
   "id": "sophisticated-supervisor",
   "metadata": {
    "execution": {
     "iopub.execute_input": "2022-08-09T00:50:33.217534Z",
     "iopub.status.busy": "2022-08-09T00:50:33.216948Z",
     "iopub.status.idle": "2022-08-09T00:50:33.219315Z",
     "shell.execute_reply": "2022-08-09T00:50:33.218782Z"
    },
    "papermill": {
     "duration": 0.036565,
     "end_time": "2022-08-09T00:50:33.219418",
     "exception": false,
     "start_time": "2022-08-09T00:50:33.182853",
     "status": "completed"
    },
    "tags": []
   },
   "outputs": [],
   "source": [
    "#hide\n",
    "# g['date'] = g.date.dt.dayofyear"
   ]
  },
  {
   "cell_type": "code",
   "execution_count": 35,
   "id": "inside-dubai",
   "metadata": {
    "execution": {
     "iopub.execute_input": "2022-08-09T00:50:33.284831Z",
     "iopub.status.busy": "2022-08-09T00:50:33.284262Z",
     "iopub.status.idle": "2022-08-09T00:50:33.286353Z",
     "shell.execute_reply": "2022-08-09T00:50:33.286784Z"
    },
    "papermill": {
     "duration": 0.036749,
     "end_time": "2022-08-09T00:50:33.286906",
     "exception": false,
     "start_time": "2022-08-09T00:50:33.250157",
     "status": "completed"
    },
    "tags": []
   },
   "outputs": [],
   "source": [
    "#hide\n",
    "# g = g.rename(columns= {'continent':'group','country':'name','cases':'value'})"
   ]
  },
  {
   "cell_type": "code",
   "execution_count": 36,
   "id": "fleet-motorcycle",
   "metadata": {
    "execution": {
     "iopub.execute_input": "2022-08-09T00:50:33.352588Z",
     "iopub.status.busy": "2022-08-09T00:50:33.352009Z",
     "iopub.status.idle": "2022-08-09T00:50:33.354420Z",
     "shell.execute_reply": "2022-08-09T00:50:33.353858Z"
    },
    "papermill": {
     "duration": 0.036673,
     "end_time": "2022-08-09T00:50:33.354526",
     "exception": false,
     "start_time": "2022-08-09T00:50:33.317853",
     "status": "completed"
    },
    "tags": []
   },
   "outputs": [],
   "source": [
    "#hide\n",
    "# cols = ['name','group','day','value']"
   ]
  },
  {
   "cell_type": "code",
   "execution_count": 37,
   "id": "continued-sleeping",
   "metadata": {
    "execution": {
     "iopub.execute_input": "2022-08-09T00:50:33.420239Z",
     "iopub.status.busy": "2022-08-09T00:50:33.419657Z",
     "iopub.status.idle": "2022-08-09T00:50:33.421898Z",
     "shell.execute_reply": "2022-08-09T00:50:33.421361Z"
    },
    "papermill": {
     "duration": 0.036436,
     "end_time": "2022-08-09T00:50:33.422023",
     "exception": false,
     "start_time": "2022-08-09T00:50:33.385587",
     "status": "completed"
    },
    "tags": []
   },
   "outputs": [],
   "source": [
    "#hide\n",
    "# g.rename(columns= {'date':'day'},inplace = True)"
   ]
  },
  {
   "cell_type": "code",
   "execution_count": 38,
   "id": "major-fight",
   "metadata": {
    "execution": {
     "iopub.execute_input": "2022-08-09T00:50:33.487742Z",
     "iopub.status.busy": "2022-08-09T00:50:33.487170Z",
     "iopub.status.idle": "2022-08-09T00:50:33.489557Z",
     "shell.execute_reply": "2022-08-09T00:50:33.489022Z"
    },
    "papermill": {
     "duration": 0.036595,
     "end_time": "2022-08-09T00:50:33.489662",
     "exception": false,
     "start_time": "2022-08-09T00:50:33.453067",
     "status": "completed"
    },
    "tags": []
   },
   "outputs": [],
   "source": [
    "#hide\n",
    "# g = g[cols]"
   ]
  },
  {
   "cell_type": "code",
   "execution_count": 39,
   "id": "structured-mobile",
   "metadata": {
    "execution": {
     "iopub.execute_input": "2022-08-09T00:50:33.555321Z",
     "iopub.status.busy": "2022-08-09T00:50:33.554742Z",
     "iopub.status.idle": "2022-08-09T00:50:33.557207Z",
     "shell.execute_reply": "2022-08-09T00:50:33.556762Z"
    },
    "papermill": {
     "duration": 0.036817,
     "end_time": "2022-08-09T00:50:33.557310",
     "exception": false,
     "start_time": "2022-08-09T00:50:33.520493",
     "status": "completed"
    },
    "tags": []
   },
   "outputs": [],
   "source": [
    "# #hide\n",
    "# g = g[g.group.notna()]"
   ]
  },
  {
   "cell_type": "code",
   "execution_count": 40,
   "id": "determined-closing",
   "metadata": {
    "execution": {
     "iopub.execute_input": "2022-08-09T00:50:33.623053Z",
     "iopub.status.busy": "2022-08-09T00:50:33.622498Z",
     "iopub.status.idle": "2022-08-09T00:50:33.624475Z",
     "shell.execute_reply": "2022-08-09T00:50:33.624884Z"
    },
    "papermill": {
     "duration": 0.036528,
     "end_time": "2022-08-09T00:50:33.624997",
     "exception": false,
     "start_time": "2022-08-09T00:50:33.588469",
     "status": "completed"
    },
    "tags": []
   },
   "outputs": [],
   "source": [
    "# #hide\n",
    "# colors = dict(zip(\n",
    "#     [\"Oceania\", \"Europe\", \"Asia\", \"South America\", \"Middle East\", \"North America\", \"Africa\"],\n",
    "#     [\"#adb0ff\", \"#ffb3ff\", \"#90d595\", \"#e48381\", \"#aafbff\", \"#f7bb5f\", \"#eafb50\"]\n",
    "# ))\n",
    "# group_lk = g.set_index('name')['group'].to_dict()"
   ]
  },
  {
   "cell_type": "code",
   "execution_count": null,
   "id": "gross-drinking",
   "metadata": {
    "papermill": {
     "duration": 0.030761,
     "end_time": "2022-08-09T00:50:33.686466",
     "exception": false,
     "start_time": "2022-08-09T00:50:33.655705",
     "status": "completed"
    },
    "tags": []
   },
   "outputs": [],
   "source": []
  },
  {
   "cell_type": "code",
   "execution_count": 41,
   "id": "subject-macintosh",
   "metadata": {
    "execution": {
     "iopub.execute_input": "2022-08-09T00:50:33.753038Z",
     "iopub.status.busy": "2022-08-09T00:50:33.752442Z",
     "iopub.status.idle": "2022-08-09T00:50:33.756108Z",
     "shell.execute_reply": "2022-08-09T00:50:33.756541Z"
    },
    "papermill": {
     "duration": 0.038724,
     "end_time": "2022-08-09T00:50:33.756674",
     "exception": false,
     "start_time": "2022-08-09T00:50:33.717950",
     "status": "completed"
    },
    "tags": []
   },
   "outputs": [],
   "source": [
    "# #hide\n",
    "# fig, ax = plt.subplots(figsize=(15, 8))\n",
    "\n",
    "# def draw_barchart(current_day):\n",
    "#     dff = g[g['day'].eq(current_day)].sort_values(by='value', ascending=True).tail(10)\n",
    "#     ax.clear()\n",
    "#     ax.barh(dff['name'], dff['value'], color=[colors[group_lk[x]] for x in dff['name']])\n",
    "#     dx = dff['value'].max() / 200\n",
    "    \n",
    "#     for i, (value, name) in enumerate(zip(dff['value'], dff['name'])):\n",
    "#         ax.text(value-dx, i,     name,           size=14, weight=600, ha='right', va='bottom')\n",
    "#         ax.text(value-dx, i-.25, group_lk[name], size=10, color='#444444', ha='right', va='baseline')\n",
    "#         ax.text(value+dx, i,     f'{value:,.0f}',  size=14, ha='left',  va='center')\n",
    "#     ax.text(1, 0.4, current_day, transform=ax.transAxes, color='#777777', size=46, ha='right', weight=800)\n",
    "#     ax.text(0, 1.06, 'Population (thousands)', transform=ax.transAxes, size=12, color='#777777')\n",
    "#     ax.xaxis.set_major_formatter(ticker.StrMethodFormatter('{x:,.0f}'))\n",
    "#     ax.xaxis.set_ticks_position('top')\n",
    "#     ax.tick_params(axis='x', colors='#777777', labelsize=12)\n",
    "#     ax.set_yticks([])\n",
    "#     ax.margins(0, 0.01)\n",
    "#     ax.grid(which='major', axis='x', linestyle='-')\n",
    "#     ax.set_axisbelow(True)\n",
    "    \n",
    "#     ax.text(0, 1.15, 'Coronavirus',\n",
    "#             transform=ax.transAxes, size=24, weight=600, ha='left', va='top')\n",
    "# #     ax.text(1, 0, 'by @pratapvardhan; credit @jburnmurdoch', transform=ax.transAxes, color='#777777', ha='right',\n",
    "# #             bbox=dict(facecolor='white', alpha=0.8, edgecolor='white'))\n",
    "#     plt.box(False)"
   ]
  },
  {
   "cell_type": "code",
   "execution_count": 42,
   "id": "sexual-wages",
   "metadata": {
    "execution": {
     "iopub.execute_input": "2022-08-09T00:50:33.822383Z",
     "iopub.status.busy": "2022-08-09T00:50:33.821766Z",
     "iopub.status.idle": "2022-08-09T00:50:33.824382Z",
     "shell.execute_reply": "2022-08-09T00:50:33.823935Z"
    },
    "papermill": {
     "duration": 0.036894,
     "end_time": "2022-08-09T00:50:33.824488",
     "exception": false,
     "start_time": "2022-08-09T00:50:33.787594",
     "status": "completed"
    },
    "tags": []
   },
   "outputs": [],
   "source": [
    "# #hide_input\n",
    "# fig, ax = plt.subplots(figsize=(15, 8))\n",
    "# animator = animation.FuncAnimation(fig, draw_barchart, frames=range(g.day.values.min(), g.day.values.max()))\n",
    "# HTML(animator.to_jshtml())\n",
    "# # or use animator.to_html5_video() or animator.save() "
   ]
  },
  {
   "cell_type": "code",
   "execution_count": null,
   "id": "australian-container",
   "metadata": {
    "papermill": {
     "duration": 0.030808,
     "end_time": "2022-08-09T00:50:33.886326",
     "exception": false,
     "start_time": "2022-08-09T00:50:33.855518",
     "status": "completed"
    },
    "tags": []
   },
   "outputs": [],
   "source": []
  },
  {
   "cell_type": "code",
   "execution_count": null,
   "id": "mediterranean-pontiac",
   "metadata": {
    "papermill": {
     "duration": 0.030819,
     "end_time": "2022-08-09T00:50:33.947928",
     "exception": false,
     "start_time": "2022-08-09T00:50:33.917109",
     "status": "completed"
    },
    "tags": []
   },
   "outputs": [],
   "source": []
  },
  {
   "cell_type": "code",
   "execution_count": null,
   "id": "aging-legislature",
   "metadata": {
    "papermill": {
     "duration": 0.030719,
     "end_time": "2022-08-09T00:50:34.009637",
     "exception": false,
     "start_time": "2022-08-09T00:50:33.978918",
     "status": "completed"
    },
    "tags": []
   },
   "outputs": [],
   "source": []
  }
 ],
 "metadata": {
  "kernelspec": {
   "display_name": "Python 3",
   "language": "python",
   "name": "python3"
  },
  "language_info": {
   "codemirror_mode": {
    "name": "ipython",
    "version": 3
   },
   "file_extension": ".py",
   "mimetype": "text/x-python",
   "name": "python",
   "nbconvert_exporter": "python",
   "pygments_lexer": "ipython3",
   "version": "3.6.15"
  },
  "papermill": {
   "duration": 5.972479,
   "end_time": "2022-08-09T00:50:34.358050",
   "environment_variables": {},
   "exception": null,
   "input_path": "2020-03-21-covid19exp.ipynb",
   "output_path": "2020-03-21-covid19exp.ipynb",
   "parameters": {},
   "start_time": "2022-08-09T00:50:28.385571",
   "version": "2.0.0"
  }
 },
 "nbformat": 4,
 "nbformat_minor": 5
}