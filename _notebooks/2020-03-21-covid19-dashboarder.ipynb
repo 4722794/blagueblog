{
 "cells": [
  {
   "cell_type": "markdown",
   "metadata": {
    "papermill": {
     "duration": 0.019654,
     "end_time": "2020-04-22T11:17:39.201666",
     "exception": false,
     "start_time": "2020-04-22T11:17:39.182012",
     "status": "completed"
    },
    "tags": []
   },
   "source": [
    "# COVID-19 Overview\n",
    "> Tracking coronavirus total cases, deaths and new cases by country\n",
    "\n",
    "- author: Hargun Oberoi\n",
    "- image: images/covid-overview.png\n",
    "- permalink: /covid-overview/\n",
    "- hide: false\n",
    "- badges: false"
   ]
  },
  {
   "cell_type": "code",
   "execution_count": 2,
   "metadata": {
    "execution": {
     "iopub.execute_input": "2020-04-22T11:17:40.062376Z",
     "iopub.status.busy": "2020-04-22T11:17:40.061692Z",
     "iopub.status.idle": "2020-04-22T11:17:40.421082Z",
     "shell.execute_reply": "2020-04-22T11:17:40.420482Z"
    },
    "papermill": {
     "duration": 0.427248,
     "end_time": "2020-04-22T11:17:40.421228",
     "exception": false,
     "start_time": "2020-04-22T11:17:39.993980",
     "status": "completed"
    },
    "tags": []
   },
   "outputs": [],
   "source": [
    "#hide\n",
    "import numpy as np\n",
    "import pandas as pd\n",
    "from jinja2 import Template\n",
    "from IPython.display import HTML"
   ]
  },
  {
   "cell_type": "code",
   "execution_count": 3,
   "metadata": {
    "execution": {
     "iopub.execute_input": "2020-04-22T11:17:40.458444Z",
     "iopub.status.busy": "2020-04-22T11:17:40.457385Z",
     "iopub.status.idle": "2020-04-22T11:17:40.462382Z",
     "shell.execute_reply": "2020-04-22T11:17:40.461715Z"
    },
    "papermill": {
     "duration": 0.025308,
     "end_time": "2020-04-22T11:17:40.462507",
     "exception": false,
     "start_time": "2020-04-22T11:17:40.437199",
     "status": "completed"
    },
    "tags": []
   },
   "outputs": [],
   "source": [
    "#hide\n",
    "\n",
    "# FETCH\n",
    "base_url = 'https://raw.githubusercontent.com/pratapvardhan/notebooks/master/covid19/'\n",
    "paths = {\n",
    "    'mapping': base_url + 'mapping_countries.csv',\n",
    "    'overview': base_url + 'overview.tpl'\n",
    "}"
   ]
  },
  {
   "cell_type": "code",
   "execution_count": 4,
   "metadata": {
    "execution": {
     "iopub.execute_input": "2020-04-22T11:17:40.507537Z",
     "iopub.status.busy": "2020-04-22T11:17:40.505089Z",
     "iopub.status.idle": "2020-04-22T11:17:40.510968Z",
     "shell.execute_reply": "2020-04-22T11:17:40.510344Z"
    },
    "papermill": {
     "duration": 0.029789,
     "end_time": "2020-04-22T11:17:40.511093",
     "exception": false,
     "start_time": "2020-04-22T11:17:40.481304",
     "status": "completed"
    },
    "tags": []
   },
   "outputs": [
    {
     "output_type": "execute_result",
     "data": {
      "text/plain": "'https://raw.githubusercontent.com/pratapvardhan/notebooks/master/covid19/mapping_countries.csv'"
     },
     "metadata": {},
     "execution_count": 4
    }
   ],
   "source": [
    "#hide\n",
    "paths['mapping']"
   ]
  },
  {
   "cell_type": "code",
   "execution_count": 5,
   "metadata": {
    "execution": {
     "iopub.execute_input": "2020-04-22T11:17:40.548902Z",
     "iopub.status.busy": "2020-04-22T11:17:40.548133Z",
     "iopub.status.idle": "2020-04-22T11:17:40.549823Z",
     "shell.execute_reply": "2020-04-22T11:17:40.550339Z"
    },
    "papermill": {
     "duration": 0.023354,
     "end_time": "2020-04-22T11:17:40.550474",
     "exception": false,
     "start_time": "2020-04-22T11:17:40.527120",
     "status": "completed"
    },
    "tags": []
   },
   "outputs": [],
   "source": [
    "#hide\n",
    "def get_mappings(url):\n",
    "    df = pd.read_csv(url)\n",
    "    return {\n",
    "        'df': df,\n",
    "        'replace.country': dict(df.dropna(subset=['Name']).set_index('Country')['Name']),\n",
    "        'map.continent': dict(df.set_index('Name')['Continent'])\n",
    "    }"
   ]
  },
  {
   "cell_type": "code",
   "execution_count": 6,
   "metadata": {
    "execution": {
     "iopub.execute_input": "2020-04-22T11:17:40.588811Z",
     "iopub.status.busy": "2020-04-22T11:17:40.588138Z",
     "iopub.status.idle": "2020-04-22T11:17:40.852268Z",
     "shell.execute_reply": "2020-04-22T11:17:40.851713Z"
    },
    "papermill": {
     "duration": 0.285901,
     "end_time": "2020-04-22T11:17:40.852435",
     "exception": false,
     "start_time": "2020-04-22T11:17:40.566534",
     "status": "completed"
    },
    "tags": []
   },
   "outputs": [],
   "source": [
    "#hide\n",
    "mapping = get_mappings(paths['mapping'])"
   ]
  },
  {
   "cell_type": "code",
   "execution_count": 7,
   "metadata": {
    "execution": {
     "iopub.execute_input": "2020-04-22T11:17:40.889334Z",
     "iopub.status.busy": "2020-04-22T11:17:40.888677Z",
     "iopub.status.idle": "2020-04-22T11:17:40.891073Z",
     "shell.execute_reply": "2020-04-22T11:17:40.890571Z"
    },
    "papermill": {
     "duration": 0.02304,
     "end_time": "2020-04-22T11:17:40.891191",
     "exception": false,
     "start_time": "2020-04-22T11:17:40.868151",
     "status": "completed"
    },
    "tags": []
   },
   "outputs": [],
   "source": [
    "#hide\n",
    "def get_template(path):\n",
    "    from urllib.parse import urlparse\n",
    "    if bool(urlparse(path).netloc):\n",
    "        from urllib.request import urlopen\n",
    "        return urlopen(path).read().decode('utf8')\n",
    "    return open(path).read()"
   ]
  },
  {
   "cell_type": "code",
   "execution_count": 8,
   "metadata": {
    "execution": {
     "iopub.execute_input": "2020-04-22T11:17:40.928107Z",
     "iopub.status.busy": "2020-04-22T11:17:40.927431Z",
     "iopub.status.idle": "2020-04-22T11:17:40.930123Z",
     "shell.execute_reply": "2020-04-22T11:17:40.929624Z"
    },
    "papermill": {
     "duration": 0.023648,
     "end_time": "2020-04-22T11:17:40.930240",
     "exception": false,
     "start_time": "2020-04-22T11:17:40.906592",
     "status": "completed"
    },
    "tags": []
   },
   "outputs": [],
   "source": [
    "#hide\n",
    "def get_frame(name):\n",
    "    url = (\n",
    "        'https://raw.githubusercontent.com/CSSEGISandData/COVID-19/master/csse_covid_19_data/'\n",
    "        f'csse_covid_19_time_series/time_series_covid19_{name}_global.csv')\n",
    "    df = pd.read_csv(url)\n",
    "    # rename countries\n",
    "    df['Country/Region'] = df['Country/Region'].replace(mapping['replace.country'])\n",
    "    return df"
   ]
  },
  {
   "cell_type": "code",
   "execution_count": 9,
   "metadata": {
    "execution": {
     "iopub.execute_input": "2020-04-22T11:17:40.969280Z",
     "iopub.status.busy": "2020-04-22T11:17:40.968621Z",
     "iopub.status.idle": "2020-04-22T11:17:40.970167Z",
     "shell.execute_reply": "2020-04-22T11:17:40.970685Z"
    },
    "papermill": {
     "duration": 0.025192,
     "end_time": "2020-04-22T11:17:40.970820",
     "exception": false,
     "start_time": "2020-04-22T11:17:40.945628",
     "status": "completed"
    },
    "tags": []
   },
   "outputs": [],
   "source": [
    "#hide\n",
    "def get_dates(df):\n",
    "    dt_cols = df.columns[~df.columns.isin(['Province/State', 'Country/Region', 'Lat', 'Long'])]\n",
    "    LAST_DATE_I = -1\n",
    "    # sometimes last column may be empty, then go backwards\n",
    "    for i in range(-1, -len(dt_cols), -1):\n",
    "        if not df[dt_cols[i]].fillna(0).eq(0).all():\n",
    "            LAST_DATE_I = i\n",
    "            break\n",
    "    return LAST_DATE_I, dt_cols"
   ]
  },
  {
   "cell_type": "code",
   "execution_count": 10,
   "metadata": {
    "execution": {
     "iopub.execute_input": "2020-04-22T11:17:41.009166Z",
     "iopub.status.busy": "2020-04-22T11:17:41.008393Z",
     "iopub.status.idle": "2020-04-22T11:17:41.153115Z",
     "shell.execute_reply": "2020-04-22T11:17:41.152042Z"
    },
    "papermill": {
     "duration": 0.166695,
     "end_time": "2020-04-22T11:17:41.153337",
     "exception": false,
     "start_time": "2020-04-22T11:17:40.986642",
     "status": "completed"
    },
    "tags": []
   },
   "outputs": [],
   "source": [
    "#hide\n",
    "COL_REGION = 'Country/Region'\n",
    "# Confirmed, Recovered, Deaths\n",
    "df = get_frame('confirmed')\n",
    "# dft_: timeseries, dfc_: today country agg\n",
    "dft_cases = df\n",
    "dft_deaths = get_frame('deaths')\n",
    "dft_recovered = get_frame('recovered')\n",
    "LAST_DATE_I, dt_cols = get_dates(df)"
   ]
  },
  {
   "cell_type": "code",
   "execution_count": 11,
   "metadata": {
    "execution": {
     "iopub.execute_input": "2020-04-22T11:17:41.193405Z",
     "iopub.status.busy": "2020-04-22T11:17:41.192612Z",
     "iopub.status.idle": "2020-04-22T11:17:41.194182Z",
     "shell.execute_reply": "2020-04-22T11:17:41.194729Z"
    },
    "papermill": {
     "duration": 0.024741,
     "end_time": "2020-04-22T11:17:41.194880",
     "exception": false,
     "start_time": "2020-04-22T11:17:41.170139",
     "status": "completed"
    },
    "tags": []
   },
   "outputs": [],
   "source": [
    "#hide\n",
    "LAST_DATE_I, dt_cols = get_dates(df)\n",
    "dt_today =dt_cols[LAST_DATE_I]\n",
    "# dt_5day = dt_cols[LAST_DATE_I - 5]\n",
    "dt_yday = dt_cols[LAST_DATE_I - 1]"
   ]
  },
  {
   "cell_type": "code",
   "execution_count": 12,
   "metadata": {
    "execution": {
     "iopub.execute_input": "2020-04-22T11:17:41.235501Z",
     "iopub.status.busy": "2020-04-22T11:17:41.234879Z",
     "iopub.status.idle": "2020-04-22T11:17:41.242838Z",
     "shell.execute_reply": "2020-04-22T11:17:41.242287Z"
    },
    "papermill": {
     "duration": 0.031822,
     "end_time": "2020-04-22T11:17:41.242958",
     "exception": false,
     "start_time": "2020-04-22T11:17:41.211136",
     "status": "completed"
    },
    "tags": []
   },
   "outputs": [],
   "source": [
    "#hide\n",
    "dfc_cases = dft_cases.groupby(COL_REGION)[dt_today].sum()\n",
    "dfc_deaths = dft_deaths.groupby(COL_REGION)[dt_today].sum()\n",
    "# dfp_cases = dft_cases.groupby(COL_REGION)[dt_5day].sum()\n",
    "# dfp_deaths = dft_deaths.groupby(COL_REGION)[dt_5day].sum()\n",
    "dfp_cases = dft_cases.groupby(COL_REGION)[dt_yday].sum()\n",
    "dfp_deaths = dft_deaths.groupby(COL_REGION)[dt_yday].sum()"
   ]
  },
  {
   "cell_type": "code",
   "execution_count": 13,
   "metadata": {
    "execution": {
     "iopub.execute_input": "2020-04-22T11:17:41.281427Z",
     "iopub.status.busy": "2020-04-22T11:17:41.280790Z",
     "iopub.status.idle": "2020-04-22T11:17:41.287918Z",
     "shell.execute_reply": "2020-04-22T11:17:41.287207Z"
    },
    "papermill": {
     "duration": 0.029675,
     "end_time": "2020-04-22T11:17:41.288044",
     "exception": false,
     "start_time": "2020-04-22T11:17:41.258369",
     "status": "completed"
    },
    "tags": []
   },
   "outputs": [],
   "source": [
    "#hide\n",
    "df_table = (pd.DataFrame(dict(Cases = dfc_cases, Deaths = dfc_deaths, PCases = dfp_cases, PDeaths = dfp_deaths))\n",
    "            .sort_values(by = ['Cases','Deaths'], ascending = [False, False])\n",
    "            .reset_index())"
   ]
  },
  {
   "cell_type": "code",
   "execution_count": 14,
   "metadata": {
    "execution": {
     "iopub.execute_input": "2020-04-22T11:17:41.326306Z",
     "iopub.status.busy": "2020-04-22T11:17:41.325672Z",
     "iopub.status.idle": "2020-04-22T11:17:41.351693Z",
     "shell.execute_reply": "2020-04-22T11:17:41.352195Z"
    },
    "papermill": {
     "duration": 0.04854,
     "end_time": "2020-04-22T11:17:41.352381",
     "exception": false,
     "start_time": "2020-04-22T11:17:41.303841",
     "status": "completed"
    },
    "tags": []
   },
   "outputs": [
    {
     "output_type": "execute_result",
     "data": {
      "text/plain": "  Country/Region   Cases  Deaths  PCases  PDeaths  Cases (+)  Deaths (+)  \\\n0             US  823786   44845  784326    42094      39460        2751   \n1          Spain  204178   21282  200210    20852       3968         430   \n2          Italy  183957   24648  181228    24114       2729         534   \n3         France  159297   20829  156480    20292       2817         537   \n4        Germany  148291    5033  147065     4862       1226         171   \n\n   Fatality Rate      Continent  \n0           5.44  North America  \n1          10.42         Europe  \n2          13.40         Europe  \n3          13.08         Europe  \n4           3.39         Europe  ",
      "text/html": "<div>\n<style scoped>\n    .dataframe tbody tr th:only-of-type {\n        vertical-align: middle;\n    }\n\n    .dataframe tbody tr th {\n        vertical-align: top;\n    }\n\n    .dataframe thead th {\n        text-align: right;\n    }\n</style>\n<table border=\"1\" class=\"dataframe\">\n  <thead>\n    <tr style=\"text-align: right;\">\n      <th></th>\n      <th>Country/Region</th>\n      <th>Cases</th>\n      <th>Deaths</th>\n      <th>PCases</th>\n      <th>PDeaths</th>\n      <th>Cases (+)</th>\n      <th>Deaths (+)</th>\n      <th>Fatality Rate</th>\n      <th>Continent</th>\n    </tr>\n  </thead>\n  <tbody>\n    <tr>\n      <th>0</th>\n      <td>US</td>\n      <td>823786</td>\n      <td>44845</td>\n      <td>784326</td>\n      <td>42094</td>\n      <td>39460</td>\n      <td>2751</td>\n      <td>5.44</td>\n      <td>North America</td>\n    </tr>\n    <tr>\n      <th>1</th>\n      <td>Spain</td>\n      <td>204178</td>\n      <td>21282</td>\n      <td>200210</td>\n      <td>20852</td>\n      <td>3968</td>\n      <td>430</td>\n      <td>10.42</td>\n      <td>Europe</td>\n    </tr>\n    <tr>\n      <th>2</th>\n      <td>Italy</td>\n      <td>183957</td>\n      <td>24648</td>\n      <td>181228</td>\n      <td>24114</td>\n      <td>2729</td>\n      <td>534</td>\n      <td>13.40</td>\n      <td>Europe</td>\n    </tr>\n    <tr>\n      <th>3</th>\n      <td>France</td>\n      <td>159297</td>\n      <td>20829</td>\n      <td>156480</td>\n      <td>20292</td>\n      <td>2817</td>\n      <td>537</td>\n      <td>13.08</td>\n      <td>Europe</td>\n    </tr>\n    <tr>\n      <th>4</th>\n      <td>Germany</td>\n      <td>148291</td>\n      <td>5033</td>\n      <td>147065</td>\n      <td>4862</td>\n      <td>1226</td>\n      <td>171</td>\n      <td>3.39</td>\n      <td>Europe</td>\n    </tr>\n  </tbody>\n</table>\n</div>"
     },
     "metadata": {},
     "execution_count": 14
    }
   ],
   "source": [
    "#hide\n",
    "for c in 'Cases, Deaths'.split(', '):\n",
    "    df_table[f'{c} (+)'] = (df_table[c] - df_table[f'P{c}']).clip(0)\n",
    "    #Clip ça veut dire, les chiffres negatif sont interdit\n",
    "df_table['Fatality Rate'] = (100* df_table['Deaths']/ df_table['Cases']).round(2)\n",
    "df_table['Continent'] = df_table['Country/Region'].map(mapping['map.continent'])\n",
    "df_table.head(5)"
   ]
  },
  {
   "cell_type": "code",
   "execution_count": 15,
   "metadata": {
    "execution": {
     "iopub.execute_input": "2020-04-22T11:17:41.392457Z",
     "iopub.status.busy": "2020-04-22T11:17:41.391722Z",
     "iopub.status.idle": "2020-04-22T11:17:41.394469Z",
     "shell.execute_reply": "2020-04-22T11:17:41.393851Z"
    },
    "papermill": {
     "duration": 0.025926,
     "end_time": "2020-04-22T11:17:41.394585",
     "exception": false,
     "start_time": "2020-04-22T11:17:41.368659",
     "status": "completed"
    },
    "tags": []
   },
   "outputs": [],
   "source": [
    "#hide\n",
    "#delete problematic countries from table\n",
    "df_table = df_table[~df_table['Country/Region'].isin(['Cape Verde', 'Cruise Ship', 'Kosovo'])]"
   ]
  },
  {
   "cell_type": "code",
   "execution_count": 16,
   "metadata": {
    "execution": {
     "iopub.execute_input": "2020-04-22T11:17:41.433938Z",
     "iopub.status.busy": "2020-04-22T11:17:41.433299Z",
     "iopub.status.idle": "2020-04-22T11:17:41.460032Z",
     "shell.execute_reply": "2020-04-22T11:17:41.459392Z"
    },
    "papermill": {
     "duration": 0.04893,
     "end_time": "2020-04-22T11:17:41.460153",
     "exception": false,
     "start_time": "2020-04-22T11:17:41.411223",
     "status": "completed"
    },
    "tags": []
   },
   "outputs": [
    {
     "output_type": "execute_result",
     "data": {
      "text/plain": "  Country/Region   Cases  Deaths  PCases  PDeaths  Cases (+)  Deaths (+)  \\\n0             US  823786   44845  784326    42094      39460        2751   \n1          Spain  204178   21282  200210    20852       3968         430   \n2          Italy  183957   24648  181228    24114       2729         534   \n3         France  159297   20829  156480    20292       2817         537   \n4        Germany  148291    5033  147065     4862       1226         171   \n\n   Fatality Rate      Continent  \n0            5.4  North America  \n1           10.4         Europe  \n2           13.4         Europe  \n3           13.1         Europe  \n4            3.4         Europe  ",
      "text/html": "<div>\n<style scoped>\n    .dataframe tbody tr th:only-of-type {\n        vertical-align: middle;\n    }\n\n    .dataframe tbody tr th {\n        vertical-align: top;\n    }\n\n    .dataframe thead th {\n        text-align: right;\n    }\n</style>\n<table border=\"1\" class=\"dataframe\">\n  <thead>\n    <tr style=\"text-align: right;\">\n      <th></th>\n      <th>Country/Region</th>\n      <th>Cases</th>\n      <th>Deaths</th>\n      <th>PCases</th>\n      <th>PDeaths</th>\n      <th>Cases (+)</th>\n      <th>Deaths (+)</th>\n      <th>Fatality Rate</th>\n      <th>Continent</th>\n    </tr>\n  </thead>\n  <tbody>\n    <tr>\n      <th>0</th>\n      <td>US</td>\n      <td>823786</td>\n      <td>44845</td>\n      <td>784326</td>\n      <td>42094</td>\n      <td>39460</td>\n      <td>2751</td>\n      <td>5.4</td>\n      <td>North America</td>\n    </tr>\n    <tr>\n      <th>1</th>\n      <td>Spain</td>\n      <td>204178</td>\n      <td>21282</td>\n      <td>200210</td>\n      <td>20852</td>\n      <td>3968</td>\n      <td>430</td>\n      <td>10.4</td>\n      <td>Europe</td>\n    </tr>\n    <tr>\n      <th>2</th>\n      <td>Italy</td>\n      <td>183957</td>\n      <td>24648</td>\n      <td>181228</td>\n      <td>24114</td>\n      <td>2729</td>\n      <td>534</td>\n      <td>13.4</td>\n      <td>Europe</td>\n    </tr>\n    <tr>\n      <th>3</th>\n      <td>France</td>\n      <td>159297</td>\n      <td>20829</td>\n      <td>156480</td>\n      <td>20292</td>\n      <td>2817</td>\n      <td>537</td>\n      <td>13.1</td>\n      <td>Europe</td>\n    </tr>\n    <tr>\n      <th>4</th>\n      <td>Germany</td>\n      <td>148291</td>\n      <td>5033</td>\n      <td>147065</td>\n      <td>4862</td>\n      <td>1226</td>\n      <td>171</td>\n      <td>3.4</td>\n      <td>Europe</td>\n    </tr>\n  </tbody>\n</table>\n</div>"
     },
     "metadata": {},
     "execution_count": 16
    }
   ],
   "source": [
    "#hide\n",
    "df_table = (pd.DataFrame(dict(Cases=dfc_cases, Deaths=dfc_deaths, PCases=dfp_cases, PDeaths=dfp_deaths))\n",
    "             .sort_values(by=['Cases', 'Deaths'], ascending=[False, False])\n",
    "             .reset_index())\n",
    "df_table.rename(columns={'index': 'Country/Region'}, inplace=True)\n",
    "for c in 'Cases, Deaths'.split(', '):\n",
    "    df_table[f'{c} (+)'] = (df_table[c] - df_table[f'P{c}']).clip(0)  # DATA BUG\n",
    "df_table['Fatality Rate'] = (100 * df_table['Deaths'] / df_table['Cases']).round(1)\n",
    "df_table['Continent'] = df_table['Country/Region'].map(mapping['map.continent'])\n",
    "df_table.head(5)"
   ]
  },
  {
   "cell_type": "code",
   "execution_count": 17,
   "metadata": {
    "execution": {
     "iopub.execute_input": "2020-04-22T11:17:41.504098Z",
     "iopub.status.busy": "2020-04-22T11:17:41.503456Z",
     "iopub.status.idle": "2020-04-22T11:17:41.505605Z",
     "shell.execute_reply": "2020-04-22T11:17:41.506494Z"
    },
    "papermill": {
     "duration": 0.028309,
     "end_time": "2020-04-22T11:17:41.506651",
     "exception": false,
     "start_time": "2020-04-22T11:17:41.478342",
     "status": "completed"
    },
    "tags": []
   },
   "outputs": [],
   "source": [
    "#hide\n",
    "#delete problematic countries from table\n",
    "df_table = df_table[~df_table['Country/Region'].isin(['Cape Verde', 'Cruise Ship', 'Kosovo'])]"
   ]
  },
  {
   "cell_type": "code",
   "execution_count": 18,
   "metadata": {
    "execution": {
     "iopub.execute_input": "2020-04-22T11:17:41.565959Z",
     "iopub.status.busy": "2020-04-22T11:17:41.565273Z",
     "iopub.status.idle": "2020-04-22T11:17:41.567071Z",
     "shell.execute_reply": "2020-04-22T11:17:41.567848Z"
    },
    "papermill": {
     "duration": 0.043681,
     "end_time": "2020-04-22T11:17:41.567995",
     "exception": false,
     "start_time": "2020-04-22T11:17:41.524314",
     "status": "completed"
    },
    "tags": []
   },
   "outputs": [],
   "source": [
    "#hide\n",
    "metrics = [df_table.columns[index] for index in [1,2,5,6]]\n",
    "# s_china = df_table[df_table['Country/Region'].eq('China')][metrics].sum().add_prefix('China ')\n",
    "s_us = df_table[df_table['Country/Region'].eq('US')][metrics].sum().add_prefix('US ')\n",
    "s_eu = df_table[df_table['Continent'].eq('Europe')][metrics].sum().add_prefix('EU ')\n",
    "s_ind = df_table[df_table['Country/Region'].eq('India')][metrics].sum().add_prefix('India ')\n",
    "summary = {'updated': pd.to_datetime(dt_today), 'since': pd.to_datetime(dt_yday)}\n",
    "summary = {'updated': pd.to_datetime(dt_today), 'since': pd.to_datetime(dt_yday)}\n",
    "summary = {**summary, **df_table[metrics].sum(), **s_ind, **s_us, **s_eu}"
   ]
  },
  {
   "cell_type": "code",
   "execution_count": 19,
   "metadata": {
    "execution": {
     "iopub.execute_input": "2020-04-22T11:17:41.610799Z",
     "iopub.status.busy": "2020-04-22T11:17:41.610172Z",
     "iopub.status.idle": "2020-04-22T11:17:41.618984Z",
     "shell.execute_reply": "2020-04-22T11:17:41.618413Z"
    },
    "papermill": {
     "duration": 0.033455,
     "end_time": "2020-04-22T11:17:41.619105",
     "exception": false,
     "start_time": "2020-04-22T11:17:41.585650",
     "status": "completed"
    },
    "tags": []
   },
   "outputs": [],
   "source": [
    "#hide\n",
    "dft_ct_new_cases = dft_cases.groupby(COL_REGION)[dt_cols].sum().diff(axis=1).fillna(0).astype(int)"
   ]
  },
  {
   "cell_type": "code",
   "execution_count": 20,
   "metadata": {
    "execution": {
     "iopub.execute_input": "2020-04-22T11:17:41.661204Z",
     "iopub.status.busy": "2020-04-22T11:17:41.660557Z",
     "iopub.status.idle": "2020-04-22T11:17:41.662517Z",
     "shell.execute_reply": "2020-04-22T11:17:41.663350Z"
    },
    "papermill": {
     "duration": 0.026531,
     "end_time": "2020-04-22T11:17:41.663503",
     "exception": false,
     "start_time": "2020-04-22T11:17:41.636972",
     "status": "completed"
    },
    "tags": []
   },
   "outputs": [],
   "source": [
    "#hide\n",
    "def get_template(path):\n",
    "    from urllib.parse import urlparse\n",
    "    if bool(urlparse(path).netloc):\n",
    "        from urllib.request import urlopen\n",
    "        return urlopen(path).read().decode('utf8')\n",
    "    return open(path).read()\n",
    "#Vraiment, je sais pas, c'est quoi"
   ]
  },
  {
   "cell_type": "code",
   "execution_count": 21,
   "metadata": {
    "execution": {
     "iopub.execute_input": "2020-04-22T11:17:41.708665Z",
     "iopub.status.busy": "2020-04-22T11:17:41.707900Z",
     "iopub.status.idle": "2020-04-22T11:17:41.799963Z",
     "shell.execute_reply": "2020-04-22T11:17:41.800493Z"
    },
    "papermill": {
     "duration": 0.118399,
     "end_time": "2020-04-22T11:17:41.800645",
     "exception": false,
     "start_time": "2020-04-22T11:17:41.682246",
     "status": "completed"
    },
    "tags": []
   },
   "outputs": [
    {
     "output_type": "execute_result",
     "data": {
      "text/plain": "<IPython.core.display.HTML object>",
      "text/html": "<div>\n\n\n\n\n\n\n\n\n\n\n\n\n\n\n\n\n\n\n\n\n\n\n\n\n\n\n\n<div class=\"overview\">\n  <div class=\"text-center toplinksgithub\">\n  <a href=\"../covid-overview/\">World</a><a href=\"../covid-overview-asia/\">Asia</a><a href=\"../covid-overview-linde/\">India</a>\n</div>\n  <div>\n    <div class=\"kpi-hed text-center\">World</div>\n    <div class=\"d-flex kpi-box\">\n      <div class=\"kpi\">\n    <div class=\"kname\">Confirmed Cases</div>\n    <div class=\"num\">2,560,533</div>\n    <div class=\"grow \">(<b>+88,785</b>)</div>\n  </div>\n      <div class=\"kpi\">\n    <div class=\"kname\">Deaths</div>\n    <div class=\"num\">176,971</div>\n    <div class=\"grow \">(<b>+6,998</b>)</div>\n  </div>\n    </div>\n  </div>\n  <p class=\"text-center text-uppercase fs9\">Updated on <b>April 21, 2020</b> ( +change since yesterday)</p>\n  <div class=\"d-flex\" style=\"justify-content:space-between;\">\n    \n    <div class=\"kpi-sm\">\n    <div class=\"kpi-hed\">India</div>\n    <div class=\"d-flex kpi-box\">\n      <div class=\"kpi\">\n    <div class=\"kname\">Cases</div>\n    <div class=\"num\">20,080</div>\n    <div class=\"grow \">(<b>+1,541</b>)</div>\n  </div>\n      <div class=\"kpi\">\n    <div class=\"kname\">Deaths</div>\n    <div class=\"num\">645</div>\n    <div class=\"grow \">(<b>+53</b>)</div>\n  </div>\n    </div>\n  </div>\n    \n    <div class=\"kpi-sm\">\n    <div class=\"kpi-hed\">United States</div>\n    <div class=\"d-flex kpi-box\">\n      <div class=\"kpi\">\n    <div class=\"kname\">Cases</div>\n    <div class=\"num\">823,786</div>\n    <div class=\"grow \">(<b>+39,460</b>)</div>\n  </div>\n      <div class=\"kpi\">\n    <div class=\"kname\">Deaths</div>\n    <div class=\"num\">44,845</div>\n    <div class=\"grow \">(<b>+2,751</b>)</div>\n  </div>\n    </div>\n  </div>\n    \n    <div class=\"kpi-sm\">\n    <div class=\"kpi-hed\">Europe</div>\n    <div class=\"d-flex kpi-box\">\n      <div class=\"kpi\">\n    <div class=\"kname\">Cases</div>\n    <div class=\"num\">1,140,900</div>\n    <div class=\"grow \">(<b>+26,632</b>)</div>\n  </div>\n      <div class=\"kpi\">\n    <div class=\"kname\">Deaths</div>\n    <div class=\"num\">107,897</div>\n    <div class=\"grow \">(<b>+3,363</b>)</div>\n  </div>\n    </div>\n  </div>\n    \n  </div>\n  <p class=\"text-center\" style=\"font-size: 14px;max-width: 400px;\">\n  In the past <b>24 hours </b>, <b class=\"color-neg\">88,785</b> new Coronavirus cases have been reported worldwide.\n  Of which <b class=\"color-neg\">39,460</b> (44%) are from <b>United States</b>.\n  <b>India</b> has reported <b class=\"color-neg\">1,541</b> new cases and <b class=\"color-neg\">53</b> deaths. \n</p>\n  <table class=\"table\" style=\"width:575px;\">\n    <thead>\n      <tr>\n        <th class=\"text-right\" style=\"width:100px;\"></th>\n        <th class=\"text-left\" style=\"width:120px;\"><svg width=\"100\" height=\"20\" viewBox=\"0,0,100,20\" style=\"overflow: visible; display: block;\">\n  <g>\n    \n    <rect x=\"0\"  y=\"8\" width=\"25\" height=\"10\" fill=\"rgba(254, 26, 5, 0.1)\"></rect>\n    \n    <rect x=\"25\"  y=\"8\" width=\"25\" height=\"10\" fill=\"rgba(254, 26, 5, 0.4)\"></rect>\n    \n    <rect x=\"50\"  y=\"8\" width=\"25\" height=\"10\" fill=\"rgba(254, 26, 5, 0.7)\"></rect>\n    \n    <rect x=\"75\"  y=\"8\" width=\"25\" height=\"10\" fill=\"rgba(254, 26, 5, 1)\"></rect>\n    \n  </g>\n  <g style=\"font-size:10px;text-anchor:middle;\">\n    \n    <g transform=\"translate(25, 6)\"><text>10</text></g>\n    \n    <g transform=\"translate(50, 6)\"><text>100</text></g>\n    \n    <g transform=\"translate(75, 6)\"><text>1000</text></g>\n    \n    </g>\n</svg></th>\n        <th colspan=\"7\"></th>\n      </tr>\n      <tr>\n        <th class=\"text-right\" style=\"width:100px;\">Country</th>\n        <th class=\"text-left\" style=\"width:120px;\">New Cases</th>\n        <th class=\"text-left\" colspan=\"2\">Total Cases</th>\n        <th colspan=\"2\">Deaths</th>\n        <th class=\"fs9\" >Fatality</th>\n      </tr>\n    </thead>\n    <tbody>\n      <tr style=\"font-size:9px;\">\n        <td></td>\n        <td style=\"display:flex;justify-content:space-between;\">\n          <div>Mar. 31</div>\n          <div>Apr. 21</div>\n        </td>\n        <td></td>\n        <td colspan=\"4\" class=\"text-left change\" style=\"font-size: 9px;\">(+NEW) since Apr, 20</td>\n        <td></td>\n        <td></td>\n      </tr>\n    \n      <tr>\n        <td class=\"mw\"><b>US</b></td>\n        <td style=\"vertical-align: middle;\"><div class=\"d-flex\" style=\"height:15px;\">\n    \n    \n    <div style=\"width:5px;background:rgba(254, 26, 5, 1);border-right:1px solid rgba(255,255,255,0.5);\"></div>\n    \n    <div style=\"width:5px;background:rgba(254, 26, 5, 1);border-right:1px solid rgba(255,255,255,0.5);\"></div>\n    \n    <div style=\"width:5px;background:rgba(254, 26, 5, 1);border-right:1px solid rgba(255,255,255,0.5);\"></div>\n    \n    <div style=\"width:5px;background:rgba(254, 26, 5, 1);border-right:1px solid rgba(255,255,255,0.5);\"></div>\n    \n    <div style=\"width:5px;background:rgba(254, 26, 5, 1);border-right:1px solid rgba(255,255,255,0.5);\"></div>\n    \n    <div style=\"width:5px;background:rgba(254, 26, 5, 1);border-right:1px solid rgba(255,255,255,0.5);\"></div>\n    \n    <div style=\"width:5px;background:rgba(254, 26, 5, 1);border-right:1px solid rgba(255,255,255,0.5);\"></div>\n    \n    <div style=\"width:5px;background:rgba(254, 26, 5, 1);border-right:1px solid rgba(255,255,255,0.5);\"></div>\n    \n    <div style=\"width:5px;background:rgba(254, 26, 5, 1);border-right:1px solid rgba(255,255,255,0.5);\"></div>\n    \n    <div style=\"width:5px;background:rgba(254, 26, 5, 1);border-right:1px solid rgba(255,255,255,0.5);\"></div>\n    \n    <div style=\"width:5px;background:rgba(254, 26, 5, 1);border-right:1px solid rgba(255,255,255,0.5);\"></div>\n    \n    <div style=\"width:5px;background:rgba(254, 26, 5, 1);border-right:1px solid rgba(255,255,255,0.5);\"></div>\n    \n    <div style=\"width:5px;background:rgba(254, 26, 5, 1);border-right:1px solid rgba(255,255,255,0.5);\"></div>\n    \n    <div style=\"width:5px;background:rgba(254, 26, 5, 1);border-right:1px solid rgba(255,255,255,0.5);\"></div>\n    \n    <div style=\"width:5px;background:rgba(254, 26, 5, 1);border-right:1px solid rgba(255,255,255,0.5);\"></div>\n    \n    <div style=\"width:5px;background:rgba(254, 26, 5, 1);border-right:1px solid rgba(255,255,255,0.5);\"></div>\n    \n    <div style=\"width:5px;background:rgba(254, 26, 5, 1);border-right:1px solid rgba(255,255,255,0.5);\"></div>\n    \n    <div style=\"width:5px;background:rgba(254, 26, 5, 1);border-right:1px solid rgba(255,255,255,0.5);\"></div>\n    \n    <div style=\"width:5px;background:rgba(254, 26, 5, 1);border-right:1px solid rgba(255,255,255,0.5);\"></div>\n    \n    <div style=\"width:5px;background:rgba(254, 26, 5, 1);border-right:1px solid rgba(255,255,255,0.5);\"></div>\n    \n    <div style=\"width:5px;background:rgba(254, 26, 5, 1);border-right:1px solid rgba(255,255,255,0.5);\"></div>\n    \n    <div style=\"width:5px;background:rgba(254, 26, 5, 1);border-right:1px solid rgba(255,255,255,0.5);\"></div>\n    \n  </div></td>\n        <td class=\"pl1\"><b>823,786</b></td>\n        <td class=\"change neg\">(<b>+39,460</b>)</td>\n        <td class=\"pl1\">44,845</td>\n        <td class=\"change neg\">(<b>+2,751</b>)</td>\n        <td class=\"pl1\">5.4%</td>\n      </tr>\n    \n      <tr>\n        <td class=\"mw\"><b>Spain</b></td>\n        <td style=\"vertical-align: middle;\"><div class=\"d-flex\" style=\"height:15px;\">\n    \n    \n    <div style=\"width:5px;background:rgba(254, 26, 5, 1);border-right:1px solid rgba(255,255,255,0.5);\"></div>\n    \n    <div style=\"width:5px;background:rgba(254, 26, 5, 1);border-right:1px solid rgba(255,255,255,0.5);\"></div>\n    \n    <div style=\"width:5px;background:rgba(254, 26, 5, 1);border-right:1px solid rgba(255,255,255,0.5);\"></div>\n    \n    <div style=\"width:5px;background:rgba(254, 26, 5, 1);border-right:1px solid rgba(255,255,255,0.5);\"></div>\n    \n    <div style=\"width:5px;background:rgba(254, 26, 5, 1);border-right:1px solid rgba(255,255,255,0.5);\"></div>\n    \n    <div style=\"width:5px;background:rgba(254, 26, 5, 1);border-right:1px solid rgba(255,255,255,0.5);\"></div>\n    \n    <div style=\"width:5px;background:rgba(254, 26, 5, 1);border-right:1px solid rgba(255,255,255,0.5);\"></div>\n    \n    <div style=\"width:5px;background:rgba(254, 26, 5, 1);border-right:1px solid rgba(255,255,255,0.5);\"></div>\n    \n    <div style=\"width:5px;background:rgba(254, 26, 5, 1);border-right:1px solid rgba(255,255,255,0.5);\"></div>\n    \n    <div style=\"width:5px;background:rgba(254, 26, 5, 1);border-right:1px solid rgba(255,255,255,0.5);\"></div>\n    \n    <div style=\"width:5px;background:rgba(254, 26, 5, 1);border-right:1px solid rgba(255,255,255,0.5);\"></div>\n    \n    <div style=\"width:5px;background:rgba(254, 26, 5, 1);border-right:1px solid rgba(255,255,255,0.5);\"></div>\n    \n    <div style=\"width:5px;background:rgba(254, 26, 5, 1);border-right:1px solid rgba(255,255,255,0.5);\"></div>\n    \n    <div style=\"width:5px;background:rgba(254, 26, 5, 1);border-right:1px solid rgba(255,255,255,0.5);\"></div>\n    \n    <div style=\"width:5px;background:rgba(254, 26, 5, 1);border-right:1px solid rgba(255,255,255,0.5);\"></div>\n    \n    <div style=\"width:5px;background:rgba(254, 26, 5, 1);border-right:1px solid rgba(255,255,255,0.5);\"></div>\n    \n    <div style=\"width:5px;background:rgba(254, 26, 5, 1);border-right:1px solid rgba(255,255,255,0.5);\"></div>\n    \n    <div style=\"width:5px;background:rgba(254, 26, 5, 1);border-right:1px solid rgba(255,255,255,0.5);\"></div>\n    \n    <div style=\"width:5px;background:rgba(254, 26, 5, 0.7);border-right:1px solid rgba(255,255,255,0.5);\"></div>\n    \n    <div style=\"width:5px;background:rgba(254, 26, 5, 1);border-right:1px solid rgba(255,255,255,0.5);\"></div>\n    \n    <div style=\"width:5px;background:rgba(254, 26, 5, 1);border-right:1px solid rgba(255,255,255,0.5);\"></div>\n    \n    <div style=\"width:5px;background:rgba(254, 26, 5, 1);border-right:1px solid rgba(255,255,255,0.5);\"></div>\n    \n  </div></td>\n        <td class=\"pl1\"><b>204,178</b></td>\n        <td class=\"change neg\">(<b>+3,968</b>)</td>\n        <td class=\"pl1\">21,282</td>\n        <td class=\"change neg\">(<b>+430</b>)</td>\n        <td class=\"pl1\">10.4%</td>\n      </tr>\n    \n      <tr>\n        <td class=\"mw\"><b>Italy</b></td>\n        <td style=\"vertical-align: middle;\"><div class=\"d-flex\" style=\"height:15px;\">\n    \n    \n    <div style=\"width:5px;background:rgba(254, 26, 5, 1);border-right:1px solid rgba(255,255,255,0.5);\"></div>\n    \n    <div style=\"width:5px;background:rgba(254, 26, 5, 1);border-right:1px solid rgba(255,255,255,0.5);\"></div>\n    \n    <div style=\"width:5px;background:rgba(254, 26, 5, 1);border-right:1px solid rgba(255,255,255,0.5);\"></div>\n    \n    <div style=\"width:5px;background:rgba(254, 26, 5, 1);border-right:1px solid rgba(255,255,255,0.5);\"></div>\n    \n    <div style=\"width:5px;background:rgba(254, 26, 5, 1);border-right:1px solid rgba(255,255,255,0.5);\"></div>\n    \n    <div style=\"width:5px;background:rgba(254, 26, 5, 1);border-right:1px solid rgba(255,255,255,0.5);\"></div>\n    \n    <div style=\"width:5px;background:rgba(254, 26, 5, 1);border-right:1px solid rgba(255,255,255,0.5);\"></div>\n    \n    <div style=\"width:5px;background:rgba(254, 26, 5, 1);border-right:1px solid rgba(255,255,255,0.5);\"></div>\n    \n    <div style=\"width:5px;background:rgba(254, 26, 5, 1);border-right:1px solid rgba(255,255,255,0.5);\"></div>\n    \n    <div style=\"width:5px;background:rgba(254, 26, 5, 1);border-right:1px solid rgba(255,255,255,0.5);\"></div>\n    \n    <div style=\"width:5px;background:rgba(254, 26, 5, 1);border-right:1px solid rgba(255,255,255,0.5);\"></div>\n    \n    <div style=\"width:5px;background:rgba(254, 26, 5, 1);border-right:1px solid rgba(255,255,255,0.5);\"></div>\n    \n    <div style=\"width:5px;background:rgba(254, 26, 5, 1);border-right:1px solid rgba(255,255,255,0.5);\"></div>\n    \n    <div style=\"width:5px;background:rgba(254, 26, 5, 1);border-right:1px solid rgba(255,255,255,0.5);\"></div>\n    \n    <div style=\"width:5px;background:rgba(254, 26, 5, 1);border-right:1px solid rgba(255,255,255,0.5);\"></div>\n    \n    <div style=\"width:5px;background:rgba(254, 26, 5, 1);border-right:1px solid rgba(255,255,255,0.5);\"></div>\n    \n    <div style=\"width:5px;background:rgba(254, 26, 5, 1);border-right:1px solid rgba(255,255,255,0.5);\"></div>\n    \n    <div style=\"width:5px;background:rgba(254, 26, 5, 1);border-right:1px solid rgba(255,255,255,0.5);\"></div>\n    \n    <div style=\"width:5px;background:rgba(254, 26, 5, 1);border-right:1px solid rgba(255,255,255,0.5);\"></div>\n    \n    <div style=\"width:5px;background:rgba(254, 26, 5, 1);border-right:1px solid rgba(255,255,255,0.5);\"></div>\n    \n    <div style=\"width:5px;background:rgba(254, 26, 5, 1);border-right:1px solid rgba(255,255,255,0.5);\"></div>\n    \n    <div style=\"width:5px;background:rgba(254, 26, 5, 1);border-right:1px solid rgba(255,255,255,0.5);\"></div>\n    \n  </div></td>\n        <td class=\"pl1\"><b>183,957</b></td>\n        <td class=\"change neg\">(<b>+2,729</b>)</td>\n        <td class=\"pl1\">24,648</td>\n        <td class=\"change neg\">(<b>+534</b>)</td>\n        <td class=\"pl1\">13.4%</td>\n      </tr>\n    \n      <tr>\n        <td class=\"mw\"><b>France</b></td>\n        <td style=\"vertical-align: middle;\"><div class=\"d-flex\" style=\"height:15px;\">\n    \n    \n    <div style=\"width:5px;background:rgba(254, 26, 5, 1);border-right:1px solid rgba(255,255,255,0.5);\"></div>\n    \n    <div style=\"width:5px;background:rgba(254, 26, 5, 1);border-right:1px solid rgba(255,255,255,0.5);\"></div>\n    \n    <div style=\"width:5px;background:rgba(254, 26, 5, 1);border-right:1px solid rgba(255,255,255,0.5);\"></div>\n    \n    <div style=\"width:5px;background:rgba(254, 26, 5, 1);border-right:1px solid rgba(255,255,255,0.5);\"></div>\n    \n    <div style=\"width:5px;background:rgba(254, 26, 5, 1);border-right:1px solid rgba(255,255,255,0.5);\"></div>\n    \n    <div style=\"width:5px;background:rgba(254, 26, 5, 1);border-right:1px solid rgba(255,255,255,0.5);\"></div>\n    \n    <div style=\"width:5px;background:rgba(254, 26, 5, 1);border-right:1px solid rgba(255,255,255,0.5);\"></div>\n    \n    <div style=\"width:5px;background:rgba(254, 26, 5, 1);border-right:1px solid rgba(255,255,255,0.5);\"></div>\n    \n    <div style=\"width:5px;background:rgba(254, 26, 5, 1);border-right:1px solid rgba(255,255,255,0.5);\"></div>\n    \n    <div style=\"width:5px;background:rgba(254, 26, 5, 1);border-right:1px solid rgba(255,255,255,0.5);\"></div>\n    \n    <div style=\"width:5px;background:rgba(254, 26, 5, 1);border-right:1px solid rgba(255,255,255,0.5);\"></div>\n    \n    <div style=\"width:5px;background:rgba(254, 26, 5, 1);border-right:1px solid rgba(255,255,255,0.5);\"></div>\n    \n    <div style=\"width:5px;background:rgba(254, 26, 5, 1);border-right:1px solid rgba(255,255,255,0.5);\"></div>\n    \n    <div style=\"width:5px;background:rgba(254, 26, 5, 1);border-right:1px solid rgba(255,255,255,0.5);\"></div>\n    \n    <div style=\"width:5px;background:rgba(254, 26, 5, 1);border-right:1px solid rgba(255,255,255,0.5);\"></div>\n    \n    <div style=\"width:5px;background:rgba(254, 26, 5, 1);border-right:1px solid rgba(255,255,255,0.5);\"></div>\n    \n    <div style=\"width:5px;background:rgba(254, 26, 5, 1);border-right:1px solid rgba(255,255,255,0.5);\"></div>\n    \n    <div style=\"width:5px;background:rgba(254, 26, 5, 1);border-right:1px solid rgba(255,255,255,0.5);\"></div>\n    \n    <div style=\"width:5px;background:rgba(254, 26, 5, 0.4);border-right:1px solid rgba(255,255,255,0.5);\"></div>\n    \n    <div style=\"width:5px;background:rgba(254, 26, 5, 1);border-right:1px solid rgba(255,255,255,0.5);\"></div>\n    \n    <div style=\"width:5px;background:rgba(254, 26, 5, 1);border-right:1px solid rgba(255,255,255,0.5);\"></div>\n    \n    <div style=\"width:5px;background:rgba(254, 26, 5, 1);border-right:1px solid rgba(255,255,255,0.5);\"></div>\n    \n  </div></td>\n        <td class=\"pl1\"><b>159,297</b></td>\n        <td class=\"change neg\">(<b>+2,817</b>)</td>\n        <td class=\"pl1\">20,829</td>\n        <td class=\"change neg\">(<b>+537</b>)</td>\n        <td class=\"pl1\">13.1%</td>\n      </tr>\n    \n      <tr>\n        <td class=\"mw\"><b>Germany</b></td>\n        <td style=\"vertical-align: middle;\"><div class=\"d-flex\" style=\"height:15px;\">\n    \n    \n    <div style=\"width:5px;background:rgba(254, 26, 5, 1);border-right:1px solid rgba(255,255,255,0.5);\"></div>\n    \n    <div style=\"width:5px;background:rgba(254, 26, 5, 1);border-right:1px solid rgba(255,255,255,0.5);\"></div>\n    \n    <div style=\"width:5px;background:rgba(254, 26, 5, 1);border-right:1px solid rgba(255,255,255,0.5);\"></div>\n    \n    <div style=\"width:5px;background:rgba(254, 26, 5, 1);border-right:1px solid rgba(255,255,255,0.5);\"></div>\n    \n    <div style=\"width:5px;background:rgba(254, 26, 5, 1);border-right:1px solid rgba(255,255,255,0.5);\"></div>\n    \n    <div style=\"width:5px;background:rgba(254, 26, 5, 1);border-right:1px solid rgba(255,255,255,0.5);\"></div>\n    \n    <div style=\"width:5px;background:rgba(254, 26, 5, 1);border-right:1px solid rgba(255,255,255,0.5);\"></div>\n    \n    <div style=\"width:5px;background:rgba(254, 26, 5, 1);border-right:1px solid rgba(255,255,255,0.5);\"></div>\n    \n    <div style=\"width:5px;background:rgba(254, 26, 5, 1);border-right:1px solid rgba(255,255,255,0.5);\"></div>\n    \n    <div style=\"width:5px;background:rgba(254, 26, 5, 1);border-right:1px solid rgba(255,255,255,0.5);\"></div>\n    \n    <div style=\"width:5px;background:rgba(254, 26, 5, 1);border-right:1px solid rgba(255,255,255,0.5);\"></div>\n    \n    <div style=\"width:5px;background:rgba(254, 26, 5, 1);border-right:1px solid rgba(255,255,255,0.5);\"></div>\n    \n    <div style=\"width:5px;background:rgba(254, 26, 5, 1);border-right:1px solid rgba(255,255,255,0.5);\"></div>\n    \n    <div style=\"width:5px;background:rgba(254, 26, 5, 1);border-right:1px solid rgba(255,255,255,0.5);\"></div>\n    \n    <div style=\"width:5px;background:rgba(254, 26, 5, 1);border-right:1px solid rgba(255,255,255,0.5);\"></div>\n    \n    <div style=\"width:5px;background:rgba(254, 26, 5, 1);border-right:1px solid rgba(255,255,255,0.5);\"></div>\n    \n    <div style=\"width:5px;background:rgba(254, 26, 5, 1);border-right:1px solid rgba(255,255,255,0.5);\"></div>\n    \n    <div style=\"width:5px;background:rgba(254, 26, 5, 1);border-right:1px solid rgba(255,255,255,0.5);\"></div>\n    \n    <div style=\"width:5px;background:rgba(254, 26, 5, 1);border-right:1px solid rgba(255,255,255,0.5);\"></div>\n    \n    <div style=\"width:5px;background:rgba(254, 26, 5, 1);border-right:1px solid rgba(255,255,255,0.5);\"></div>\n    \n    <div style=\"width:5px;background:rgba(254, 26, 5, 1);border-right:1px solid rgba(255,255,255,0.5);\"></div>\n    \n    <div style=\"width:5px;background:rgba(254, 26, 5, 1);border-right:1px solid rgba(255,255,255,0.5);\"></div>\n    \n  </div></td>\n        <td class=\"pl1\"><b>148,291</b></td>\n        <td class=\"change neg\">(<b>+1,226</b>)</td>\n        <td class=\"pl1\">5,033</td>\n        <td class=\"change neg\">(<b>+171</b>)</td>\n        <td class=\"pl1\">3.4%</td>\n      </tr>\n    \n      <tr>\n        <td class=\"mw\"><b>United Kingdom</b></td>\n        <td style=\"vertical-align: middle;\"><div class=\"d-flex\" style=\"height:15px;\">\n    \n    \n    <div style=\"width:5px;background:rgba(254, 26, 5, 1);border-right:1px solid rgba(255,255,255,0.5);\"></div>\n    \n    <div style=\"width:5px;background:rgba(254, 26, 5, 1);border-right:1px solid rgba(255,255,255,0.5);\"></div>\n    \n    <div style=\"width:5px;background:rgba(254, 26, 5, 1);border-right:1px solid rgba(255,255,255,0.5);\"></div>\n    \n    <div style=\"width:5px;background:rgba(254, 26, 5, 1);border-right:1px solid rgba(255,255,255,0.5);\"></div>\n    \n    <div style=\"width:5px;background:rgba(254, 26, 5, 1);border-right:1px solid rgba(255,255,255,0.5);\"></div>\n    \n    <div style=\"width:5px;background:rgba(254, 26, 5, 1);border-right:1px solid rgba(255,255,255,0.5);\"></div>\n    \n    <div style=\"width:5px;background:rgba(254, 26, 5, 1);border-right:1px solid rgba(255,255,255,0.5);\"></div>\n    \n    <div style=\"width:5px;background:rgba(254, 26, 5, 1);border-right:1px solid rgba(255,255,255,0.5);\"></div>\n    \n    <div style=\"width:5px;background:rgba(254, 26, 5, 1);border-right:1px solid rgba(255,255,255,0.5);\"></div>\n    \n    <div style=\"width:5px;background:rgba(254, 26, 5, 1);border-right:1px solid rgba(255,255,255,0.5);\"></div>\n    \n    <div style=\"width:5px;background:rgba(254, 26, 5, 1);border-right:1px solid rgba(255,255,255,0.5);\"></div>\n    \n    <div style=\"width:5px;background:rgba(254, 26, 5, 1);border-right:1px solid rgba(255,255,255,0.5);\"></div>\n    \n    <div style=\"width:5px;background:rgba(254, 26, 5, 1);border-right:1px solid rgba(255,255,255,0.5);\"></div>\n    \n    <div style=\"width:5px;background:rgba(254, 26, 5, 1);border-right:1px solid rgba(255,255,255,0.5);\"></div>\n    \n    <div style=\"width:5px;background:rgba(254, 26, 5, 1);border-right:1px solid rgba(255,255,255,0.5);\"></div>\n    \n    <div style=\"width:5px;background:rgba(254, 26, 5, 1);border-right:1px solid rgba(255,255,255,0.5);\"></div>\n    \n    <div style=\"width:5px;background:rgba(254, 26, 5, 1);border-right:1px solid rgba(255,255,255,0.5);\"></div>\n    \n    <div style=\"width:5px;background:rgba(254, 26, 5, 1);border-right:1px solid rgba(255,255,255,0.5);\"></div>\n    \n    <div style=\"width:5px;background:rgba(254, 26, 5, 1);border-right:1px solid rgba(255,255,255,0.5);\"></div>\n    \n    <div style=\"width:5px;background:rgba(254, 26, 5, 1);border-right:1px solid rgba(255,255,255,0.5);\"></div>\n    \n    <div style=\"width:5px;background:rgba(254, 26, 5, 1);border-right:1px solid rgba(255,255,255,0.5);\"></div>\n    \n    <div style=\"width:5px;background:rgba(254, 26, 5, 1);border-right:1px solid rgba(255,255,255,0.5);\"></div>\n    \n  </div></td>\n        <td class=\"pl1\"><b>130,172</b></td>\n        <td class=\"change neg\">(<b>+4,316</b>)</td>\n        <td class=\"pl1\">17,378</td>\n        <td class=\"change neg\">(<b>+828</b>)</td>\n        <td class=\"pl1\">13.4%</td>\n      </tr>\n    \n      <tr>\n        <td class=\"mw\"><b>Turkey</b></td>\n        <td style=\"vertical-align: middle;\"><div class=\"d-flex\" style=\"height:15px;\">\n    \n    \n    <div style=\"width:5px;background:rgba(254, 26, 5, 1);border-right:1px solid rgba(255,255,255,0.5);\"></div>\n    \n    <div style=\"width:5px;background:rgba(254, 26, 5, 1);border-right:1px solid rgba(255,255,255,0.5);\"></div>\n    \n    <div style=\"width:5px;background:rgba(254, 26, 5, 1);border-right:1px solid rgba(255,255,255,0.5);\"></div>\n    \n    <div style=\"width:5px;background:rgba(254, 26, 5, 1);border-right:1px solid rgba(255,255,255,0.5);\"></div>\n    \n    <div style=\"width:5px;background:rgba(254, 26, 5, 1);border-right:1px solid rgba(255,255,255,0.5);\"></div>\n    \n    <div style=\"width:5px;background:rgba(254, 26, 5, 1);border-right:1px solid rgba(255,255,255,0.5);\"></div>\n    \n    <div style=\"width:5px;background:rgba(254, 26, 5, 1);border-right:1px solid rgba(255,255,255,0.5);\"></div>\n    \n    <div style=\"width:5px;background:rgba(254, 26, 5, 1);border-right:1px solid rgba(255,255,255,0.5);\"></div>\n    \n    <div style=\"width:5px;background:rgba(254, 26, 5, 1);border-right:1px solid rgba(255,255,255,0.5);\"></div>\n    \n    <div style=\"width:5px;background:rgba(254, 26, 5, 1);border-right:1px solid rgba(255,255,255,0.5);\"></div>\n    \n    <div style=\"width:5px;background:rgba(254, 26, 5, 1);border-right:1px solid rgba(255,255,255,0.5);\"></div>\n    \n    <div style=\"width:5px;background:rgba(254, 26, 5, 1);border-right:1px solid rgba(255,255,255,0.5);\"></div>\n    \n    <div style=\"width:5px;background:rgba(254, 26, 5, 1);border-right:1px solid rgba(255,255,255,0.5);\"></div>\n    \n    <div style=\"width:5px;background:rgba(254, 26, 5, 1);border-right:1px solid rgba(255,255,255,0.5);\"></div>\n    \n    <div style=\"width:5px;background:rgba(254, 26, 5, 1);border-right:1px solid rgba(255,255,255,0.5);\"></div>\n    \n    <div style=\"width:5px;background:rgba(254, 26, 5, 1);border-right:1px solid rgba(255,255,255,0.5);\"></div>\n    \n    <div style=\"width:5px;background:rgba(254, 26, 5, 1);border-right:1px solid rgba(255,255,255,0.5);\"></div>\n    \n    <div style=\"width:5px;background:rgba(254, 26, 5, 1);border-right:1px solid rgba(255,255,255,0.5);\"></div>\n    \n    <div style=\"width:5px;background:rgba(254, 26, 5, 1);border-right:1px solid rgba(255,255,255,0.5);\"></div>\n    \n    <div style=\"width:5px;background:rgba(254, 26, 5, 1);border-right:1px solid rgba(255,255,255,0.5);\"></div>\n    \n    <div style=\"width:5px;background:rgba(254, 26, 5, 1);border-right:1px solid rgba(255,255,255,0.5);\"></div>\n    \n    <div style=\"width:5px;background:rgba(254, 26, 5, 1);border-right:1px solid rgba(255,255,255,0.5);\"></div>\n    \n  </div></td>\n        <td class=\"pl1\"><b>95,591</b></td>\n        <td class=\"change neg\">(<b>+4,611</b>)</td>\n        <td class=\"pl1\">2,259</td>\n        <td class=\"change neg\">(<b>+119</b>)</td>\n        <td class=\"pl1\">2.4%</td>\n      </tr>\n    \n      <tr>\n        <td class=\"mw\"><b>Iran</b></td>\n        <td style=\"vertical-align: middle;\"><div class=\"d-flex\" style=\"height:15px;\">\n    \n    \n    <div style=\"width:5px;background:rgba(254, 26, 5, 1);border-right:1px solid rgba(255,255,255,0.5);\"></div>\n    \n    <div style=\"width:5px;background:rgba(254, 26, 5, 1);border-right:1px solid rgba(255,255,255,0.5);\"></div>\n    \n    <div style=\"width:5px;background:rgba(254, 26, 5, 1);border-right:1px solid rgba(255,255,255,0.5);\"></div>\n    \n    <div style=\"width:5px;background:rgba(254, 26, 5, 1);border-right:1px solid rgba(255,255,255,0.5);\"></div>\n    \n    <div style=\"width:5px;background:rgba(254, 26, 5, 1);border-right:1px solid rgba(255,255,255,0.5);\"></div>\n    \n    <div style=\"width:5px;background:rgba(254, 26, 5, 1);border-right:1px solid rgba(255,255,255,0.5);\"></div>\n    \n    <div style=\"width:5px;background:rgba(254, 26, 5, 1);border-right:1px solid rgba(255,255,255,0.5);\"></div>\n    \n    <div style=\"width:5px;background:rgba(254, 26, 5, 1);border-right:1px solid rgba(255,255,255,0.5);\"></div>\n    \n    <div style=\"width:5px;background:rgba(254, 26, 5, 1);border-right:1px solid rgba(255,255,255,0.5);\"></div>\n    \n    <div style=\"width:5px;background:rgba(254, 26, 5, 1);border-right:1px solid rgba(255,255,255,0.5);\"></div>\n    \n    <div style=\"width:5px;background:rgba(254, 26, 5, 1);border-right:1px solid rgba(255,255,255,0.5);\"></div>\n    \n    <div style=\"width:5px;background:rgba(254, 26, 5, 1);border-right:1px solid rgba(255,255,255,0.5);\"></div>\n    \n    <div style=\"width:5px;background:rgba(254, 26, 5, 1);border-right:1px solid rgba(255,255,255,0.5);\"></div>\n    \n    <div style=\"width:5px;background:rgba(254, 26, 5, 1);border-right:1px solid rgba(255,255,255,0.5);\"></div>\n    \n    <div style=\"width:5px;background:rgba(254, 26, 5, 1);border-right:1px solid rgba(255,255,255,0.5);\"></div>\n    \n    <div style=\"width:5px;background:rgba(254, 26, 5, 1);border-right:1px solid rgba(255,255,255,0.5);\"></div>\n    \n    <div style=\"width:5px;background:rgba(254, 26, 5, 1);border-right:1px solid rgba(255,255,255,0.5);\"></div>\n    \n    <div style=\"width:5px;background:rgba(254, 26, 5, 1);border-right:1px solid rgba(255,255,255,0.5);\"></div>\n    \n    <div style=\"width:5px;background:rgba(254, 26, 5, 1);border-right:1px solid rgba(255,255,255,0.5);\"></div>\n    \n    <div style=\"width:5px;background:rgba(254, 26, 5, 1);border-right:1px solid rgba(255,255,255,0.5);\"></div>\n    \n    <div style=\"width:5px;background:rgba(254, 26, 5, 1);border-right:1px solid rgba(255,255,255,0.5);\"></div>\n    \n    <div style=\"width:5px;background:rgba(254, 26, 5, 1);border-right:1px solid rgba(255,255,255,0.5);\"></div>\n    \n  </div></td>\n        <td class=\"pl1\"><b>84,802</b></td>\n        <td class=\"change neg\">(<b>+1,297</b>)</td>\n        <td class=\"pl1\">5,297</td>\n        <td class=\"change neg\">(<b>+88</b>)</td>\n        <td class=\"pl1\">6.2%</td>\n      </tr>\n    \n      <tr>\n        <td class=\"mw\"><b>China</b></td>\n        <td style=\"vertical-align: middle;\"><div class=\"d-flex\" style=\"height:15px;\">\n    \n    \n    <div style=\"width:5px;background:rgba(254, 26, 5, 0.4);border-right:1px solid rgba(255,255,255,0.5);\"></div>\n    \n    <div style=\"width:5px;background:rgba(254, 26, 5, 0.4);border-right:1px solid rgba(255,255,255,0.5);\"></div>\n    \n    <div style=\"width:5px;background:rgba(254, 26, 5, 0.4);border-right:1px solid rgba(255,255,255,0.5);\"></div>\n    \n    <div style=\"width:5px;background:rgba(254, 26, 5, 0.4);border-right:1px solid rgba(255,255,255,0.5);\"></div>\n    \n    <div style=\"width:5px;background:rgba(254, 26, 5, 0.4);border-right:1px solid rgba(255,255,255,0.5);\"></div>\n    \n    <div style=\"width:5px;background:rgba(254, 26, 5, 0.4);border-right:1px solid rgba(255,255,255,0.5);\"></div>\n    \n    <div style=\"width:5px;background:rgba(254, 26, 5, 0.4);border-right:1px solid rgba(255,255,255,0.5);\"></div>\n    \n    <div style=\"width:5px;background:rgba(254, 26, 5, 0.4);border-right:1px solid rgba(255,255,255,0.5);\"></div>\n    \n    <div style=\"width:5px;background:rgba(254, 26, 5, 0.4);border-right:1px solid rgba(255,255,255,0.5);\"></div>\n    \n    <div style=\"width:5px;background:rgba(254, 26, 5, 0.4);border-right:1px solid rgba(255,255,255,0.5);\"></div>\n    \n    <div style=\"width:5px;background:rgba(254, 26, 5, 0.4);border-right:1px solid rgba(255,255,255,0.5);\"></div>\n    \n    <div style=\"width:5px;background:rgba(254, 26, 5, 0.4);border-right:1px solid rgba(255,255,255,0.5);\"></div>\n    \n    <div style=\"width:5px;background:rgba(254, 26, 5, 0.7);border-right:1px solid rgba(255,255,255,0.5);\"></div>\n    \n    <div style=\"width:5px;background:rgba(254, 26, 5, 0.4);border-right:1px solid rgba(255,255,255,0.5);\"></div>\n    \n    <div style=\"width:5px;background:rgba(254, 26, 5, 0.4);border-right:1px solid rgba(255,255,255,0.5);\"></div>\n    \n    <div style=\"width:5px;background:rgba(254, 26, 5, 0.4);border-right:1px solid rgba(255,255,255,0.5);\"></div>\n    \n    <div style=\"width:5px;background:rgba(254, 26, 5, 0.4);border-right:1px solid rgba(255,255,255,0.5);\"></div>\n    \n    <div style=\"width:5px;background:rgba(254, 26, 5, 0.7);border-right:1px solid rgba(255,255,255,0.5);\"></div>\n    \n    <div style=\"width:5px;background:rgba(254, 26, 5, 0.4);border-right:1px solid rgba(255,255,255,0.5);\"></div>\n    \n    <div style=\"width:5px;background:rgba(254, 26, 5, 0.4);border-right:1px solid rgba(255,255,255,0.5);\"></div>\n    \n    <div style=\"width:5px;background:rgba(254, 26, 5, 0.4);border-right:1px solid rgba(255,255,255,0.5);\"></div>\n    \n    <div style=\"width:5px;background:rgba(254, 26, 5, 0.4);border-right:1px solid rgba(255,255,255,0.5);\"></div>\n    \n  </div></td>\n        <td class=\"pl1\"><b>83,853</b></td>\n        <td class=\"change neg\">(<b>+36</b>)</td>\n        <td class=\"pl1\">4,636</td>\n        <td class=\"change neg\">(<b>+0</b>)</td>\n        <td class=\"pl1\">5.5%</td>\n      </tr>\n    \n      <tr>\n        <td class=\"mw\"><b>Russia</b></td>\n        <td style=\"vertical-align: middle;\"><div class=\"d-flex\" style=\"height:15px;\">\n    \n    \n    <div style=\"width:5px;background:rgba(254, 26, 5, 0.7);border-right:1px solid rgba(255,255,255,0.5);\"></div>\n    \n    <div style=\"width:5px;background:rgba(254, 26, 5, 0.7);border-right:1px solid rgba(255,255,255,0.5);\"></div>\n    \n    <div style=\"width:5px;background:rgba(254, 26, 5, 0.7);border-right:1px solid rgba(255,255,255,0.5);\"></div>\n    \n    <div style=\"width:5px;background:rgba(254, 26, 5, 0.7);border-right:1px solid rgba(255,255,255,0.5);\"></div>\n    \n    <div style=\"width:5px;background:rgba(254, 26, 5, 0.7);border-right:1px solid rgba(255,255,255,0.5);\"></div>\n    \n    <div style=\"width:5px;background:rgba(254, 26, 5, 0.7);border-right:1px solid rgba(255,255,255,0.5);\"></div>\n    \n    <div style=\"width:5px;background:rgba(254, 26, 5, 0.7);border-right:1px solid rgba(255,255,255,0.5);\"></div>\n    \n    <div style=\"width:5px;background:rgba(254, 26, 5, 1);border-right:1px solid rgba(255,255,255,0.5);\"></div>\n    \n    <div style=\"width:5px;background:rgba(254, 26, 5, 1);border-right:1px solid rgba(255,255,255,0.5);\"></div>\n    \n    <div style=\"width:5px;background:rgba(254, 26, 5, 1);border-right:1px solid rgba(255,255,255,0.5);\"></div>\n    \n    <div style=\"width:5px;background:rgba(254, 26, 5, 1);border-right:1px solid rgba(255,255,255,0.5);\"></div>\n    \n    <div style=\"width:5px;background:rgba(254, 26, 5, 1);border-right:1px solid rgba(255,255,255,0.5);\"></div>\n    \n    <div style=\"width:5px;background:rgba(254, 26, 5, 1);border-right:1px solid rgba(255,255,255,0.5);\"></div>\n    \n    <div style=\"width:5px;background:rgba(254, 26, 5, 1);border-right:1px solid rgba(255,255,255,0.5);\"></div>\n    \n    <div style=\"width:5px;background:rgba(254, 26, 5, 1);border-right:1px solid rgba(255,255,255,0.5);\"></div>\n    \n    <div style=\"width:5px;background:rgba(254, 26, 5, 1);border-right:1px solid rgba(255,255,255,0.5);\"></div>\n    \n    <div style=\"width:5px;background:rgba(254, 26, 5, 1);border-right:1px solid rgba(255,255,255,0.5);\"></div>\n    \n    <div style=\"width:5px;background:rgba(254, 26, 5, 1);border-right:1px solid rgba(255,255,255,0.5);\"></div>\n    \n    <div style=\"width:5px;background:rgba(254, 26, 5, 1);border-right:1px solid rgba(255,255,255,0.5);\"></div>\n    \n    <div style=\"width:5px;background:rgba(254, 26, 5, 1);border-right:1px solid rgba(255,255,255,0.5);\"></div>\n    \n    <div style=\"width:5px;background:rgba(254, 26, 5, 1);border-right:1px solid rgba(255,255,255,0.5);\"></div>\n    \n    <div style=\"width:5px;background:rgba(254, 26, 5, 1);border-right:1px solid rgba(255,255,255,0.5);\"></div>\n    \n  </div></td>\n        <td class=\"pl1\"><b>52,763</b></td>\n        <td class=\"change neg\">(<b>+5,642</b>)</td>\n        <td class=\"pl1\">456</td>\n        <td class=\"change neg\">(<b>+51</b>)</td>\n        <td class=\"pl1\">0.9%</td>\n      </tr>\n    \n      <tr>\n        <td class=\"mw\"><b>Brazil</b></td>\n        <td style=\"vertical-align: middle;\"><div class=\"d-flex\" style=\"height:15px;\">\n    \n    \n    <div style=\"width:5px;background:rgba(254, 26, 5, 1);border-right:1px solid rgba(255,255,255,0.5);\"></div>\n    \n    <div style=\"width:5px;background:rgba(254, 26, 5, 1);border-right:1px solid rgba(255,255,255,0.5);\"></div>\n    \n    <div style=\"width:5px;background:rgba(254, 26, 5, 1);border-right:1px solid rgba(255,255,255,0.5);\"></div>\n    \n    <div style=\"width:5px;background:rgba(254, 26, 5, 1);border-right:1px solid rgba(255,255,255,0.5);\"></div>\n    \n    <div style=\"width:5px;background:rgba(254, 26, 5, 1);border-right:1px solid rgba(255,255,255,0.5);\"></div>\n    \n    <div style=\"width:5px;background:rgba(254, 26, 5, 0.7);border-right:1px solid rgba(255,255,255,0.5);\"></div>\n    \n    <div style=\"width:5px;background:rgba(254, 26, 5, 1);border-right:1px solid rgba(255,255,255,0.5);\"></div>\n    \n    <div style=\"width:5px;background:rgba(254, 26, 5, 1);border-right:1px solid rgba(255,255,255,0.5);\"></div>\n    \n    <div style=\"width:5px;background:rgba(254, 26, 5, 1);border-right:1px solid rgba(255,255,255,0.5);\"></div>\n    \n    <div style=\"width:5px;background:rgba(254, 26, 5, 1);border-right:1px solid rgba(255,255,255,0.5);\"></div>\n    \n    <div style=\"width:5px;background:rgba(254, 26, 5, 1);border-right:1px solid rgba(255,255,255,0.5);\"></div>\n    \n    <div style=\"width:5px;background:rgba(254, 26, 5, 1);border-right:1px solid rgba(255,255,255,0.5);\"></div>\n    \n    <div style=\"width:5px;background:rgba(254, 26, 5, 1);border-right:1px solid rgba(255,255,255,0.5);\"></div>\n    \n    <div style=\"width:5px;background:rgba(254, 26, 5, 1);border-right:1px solid rgba(255,255,255,0.5);\"></div>\n    \n    <div style=\"width:5px;background:rgba(254, 26, 5, 1);border-right:1px solid rgba(255,255,255,0.5);\"></div>\n    \n    <div style=\"width:5px;background:rgba(254, 26, 5, 1);border-right:1px solid rgba(255,255,255,0.5);\"></div>\n    \n    <div style=\"width:5px;background:rgba(254, 26, 5, 1);border-right:1px solid rgba(255,255,255,0.5);\"></div>\n    \n    <div style=\"width:5px;background:rgba(254, 26, 5, 1);border-right:1px solid rgba(255,255,255,0.5);\"></div>\n    \n    <div style=\"width:5px;background:rgba(254, 26, 5, 1);border-right:1px solid rgba(255,255,255,0.5);\"></div>\n    \n    <div style=\"width:5px;background:rgba(254, 26, 5, 1);border-right:1px solid rgba(255,255,255,0.5);\"></div>\n    \n    <div style=\"width:5px;background:rgba(254, 26, 5, 1);border-right:1px solid rgba(255,255,255,0.5);\"></div>\n    \n    <div style=\"width:5px;background:rgba(254, 26, 5, 1);border-right:1px solid rgba(255,255,255,0.5);\"></div>\n    \n  </div></td>\n        <td class=\"pl1\"><b>43,079</b></td>\n        <td class=\"change neg\">(<b>+2,336</b>)</td>\n        <td class=\"pl1\">2,741</td>\n        <td class=\"change neg\">(<b>+154</b>)</td>\n        <td class=\"pl1\">6.4%</td>\n      </tr>\n    \n      <tr>\n        <td class=\"mw\"><b>Belgium</b></td>\n        <td style=\"vertical-align: middle;\"><div class=\"d-flex\" style=\"height:15px;\">\n    \n    \n    <div style=\"width:5px;background:rgba(254, 26, 5, 0.7);border-right:1px solid rgba(255,255,255,0.5);\"></div>\n    \n    <div style=\"width:5px;background:rgba(254, 26, 5, 1);border-right:1px solid rgba(255,255,255,0.5);\"></div>\n    \n    <div style=\"width:5px;background:rgba(254, 26, 5, 1);border-right:1px solid rgba(255,255,255,0.5);\"></div>\n    \n    <div style=\"width:5px;background:rgba(254, 26, 5, 1);border-right:1px solid rgba(255,255,255,0.5);\"></div>\n    \n    <div style=\"width:5px;background:rgba(254, 26, 5, 1);border-right:1px solid rgba(255,255,255,0.5);\"></div>\n    \n    <div style=\"width:5px;background:rgba(254, 26, 5, 1);border-right:1px solid rgba(255,255,255,0.5);\"></div>\n    \n    <div style=\"width:5px;background:rgba(254, 26, 5, 1);border-right:1px solid rgba(255,255,255,0.5);\"></div>\n    \n    <div style=\"width:5px;background:rgba(254, 26, 5, 1);border-right:1px solid rgba(255,255,255,0.5);\"></div>\n    \n    <div style=\"width:5px;background:rgba(254, 26, 5, 1);border-right:1px solid rgba(255,255,255,0.5);\"></div>\n    \n    <div style=\"width:5px;background:rgba(254, 26, 5, 1);border-right:1px solid rgba(255,255,255,0.5);\"></div>\n    \n    <div style=\"width:5px;background:rgba(254, 26, 5, 1);border-right:1px solid rgba(255,255,255,0.5);\"></div>\n    \n    <div style=\"width:5px;background:rgba(254, 26, 5, 1);border-right:1px solid rgba(255,255,255,0.5);\"></div>\n    \n    <div style=\"width:5px;background:rgba(254, 26, 5, 1);border-right:1px solid rgba(255,255,255,0.5);\"></div>\n    \n    <div style=\"width:5px;background:rgba(254, 26, 5, 0.7);border-right:1px solid rgba(255,255,255,0.5);\"></div>\n    \n    <div style=\"width:5px;background:rgba(254, 26, 5, 0.7);border-right:1px solid rgba(255,255,255,0.5);\"></div>\n    \n    <div style=\"width:5px;background:rgba(254, 26, 5, 1);border-right:1px solid rgba(255,255,255,0.5);\"></div>\n    \n    <div style=\"width:5px;background:rgba(254, 26, 5, 1);border-right:1px solid rgba(255,255,255,0.5);\"></div>\n    \n    <div style=\"width:5px;background:rgba(254, 26, 5, 1);border-right:1px solid rgba(255,255,255,0.5);\"></div>\n    \n    <div style=\"width:5px;background:rgba(254, 26, 5, 1);border-right:1px solid rgba(255,255,255,0.5);\"></div>\n    \n    <div style=\"width:5px;background:rgba(254, 26, 5, 1);border-right:1px solid rgba(255,255,255,0.5);\"></div>\n    \n    <div style=\"width:5px;background:rgba(254, 26, 5, 1);border-right:1px solid rgba(255,255,255,0.5);\"></div>\n    \n    <div style=\"width:5px;background:rgba(254, 26, 5, 0.7);border-right:1px solid rgba(255,255,255,0.5);\"></div>\n    \n  </div></td>\n        <td class=\"pl1\"><b>40,956</b></td>\n        <td class=\"change neg\">(<b>+973</b>)</td>\n        <td class=\"pl1\">5,998</td>\n        <td class=\"change neg\">(<b>+170</b>)</td>\n        <td class=\"pl1\">14.6%</td>\n      </tr>\n    \n      <tr>\n        <td class=\"mw\"><b>Canada</b></td>\n        <td style=\"vertical-align: middle;\"><div class=\"d-flex\" style=\"height:15px;\">\n    \n    \n    <div style=\"width:5px;background:rgba(254, 26, 5, 1);border-right:1px solid rgba(255,255,255,0.5);\"></div>\n    \n    <div style=\"width:5px;background:rgba(254, 26, 5, 1);border-right:1px solid rgba(255,255,255,0.5);\"></div>\n    \n    <div style=\"width:5px;background:rgba(254, 26, 5, 1);border-right:1px solid rgba(255,255,255,0.5);\"></div>\n    \n    <div style=\"width:5px;background:rgba(254, 26, 5, 1);border-right:1px solid rgba(255,255,255,0.5);\"></div>\n    \n    <div style=\"width:5px;background:rgba(254, 26, 5, 0.7);border-right:1px solid rgba(255,255,255,0.5);\"></div>\n    \n    <div style=\"width:5px;background:rgba(254, 26, 5, 1);border-right:1px solid rgba(255,255,255,0.5);\"></div>\n    \n    <div style=\"width:5px;background:rgba(254, 26, 5, 0.7);border-right:1px solid rgba(255,255,255,0.5);\"></div>\n    \n    <div style=\"width:5px;background:rgba(254, 26, 5, 1);border-right:1px solid rgba(255,255,255,0.5);\"></div>\n    \n    <div style=\"width:5px;background:rgba(254, 26, 5, 1);border-right:1px solid rgba(255,255,255,0.5);\"></div>\n    \n    <div style=\"width:5px;background:rgba(254, 26, 5, 1);border-right:1px solid rgba(255,255,255,0.5);\"></div>\n    \n    <div style=\"width:5px;background:rgba(254, 26, 5, 1);border-right:1px solid rgba(255,255,255,0.5);\"></div>\n    \n    <div style=\"width:5px;background:rgba(254, 26, 5, 1);border-right:1px solid rgba(255,255,255,0.5);\"></div>\n    \n    <div style=\"width:5px;background:rgba(254, 26, 5, 0.7);border-right:1px solid rgba(255,255,255,0.5);\"></div>\n    \n    <div style=\"width:5px;background:rgba(254, 26, 5, 1);border-right:1px solid rgba(255,255,255,0.5);\"></div>\n    \n    <div style=\"width:5px;background:rgba(254, 26, 5, 1);border-right:1px solid rgba(255,255,255,0.5);\"></div>\n    \n    <div style=\"width:5px;background:rgba(254, 26, 5, 1);border-right:1px solid rgba(255,255,255,0.5);\"></div>\n    \n    <div style=\"width:5px;background:rgba(254, 26, 5, 1);border-right:1px solid rgba(255,255,255,0.5);\"></div>\n    \n    <div style=\"width:5px;background:rgba(254, 26, 5, 1);border-right:1px solid rgba(255,255,255,0.5);\"></div>\n    \n    <div style=\"width:5px;background:rgba(254, 26, 5, 1);border-right:1px solid rgba(255,255,255,0.5);\"></div>\n    \n    <div style=\"width:5px;background:rgba(254, 26, 5, 1);border-right:1px solid rgba(255,255,255,0.5);\"></div>\n    \n    <div style=\"width:5px;background:rgba(254, 26, 5, 1);border-right:1px solid rgba(255,255,255,0.5);\"></div>\n    \n    <div style=\"width:5px;background:rgba(254, 26, 5, 1);border-right:1px solid rgba(255,255,255,0.5);\"></div>\n    \n  </div></td>\n        <td class=\"pl1\"><b>39,401</b></td>\n        <td class=\"change neg\">(<b>+1,744</b>)</td>\n        <td class=\"pl1\">1,908</td>\n        <td class=\"change neg\">(<b>+183</b>)</td>\n        <td class=\"pl1\">4.8%</td>\n      </tr>\n    \n      <tr>\n        <td class=\"mw\"><b>Netherlands</b></td>\n        <td style=\"vertical-align: middle;\"><div class=\"d-flex\" style=\"height:15px;\">\n    \n    \n    <div style=\"width:5px;background:rgba(254, 26, 5, 0.7);border-right:1px solid rgba(255,255,255,0.5);\"></div>\n    \n    <div style=\"width:5px;background:rgba(254, 26, 5, 1);border-right:1px solid rgba(255,255,255,0.5);\"></div>\n    \n    <div style=\"width:5px;background:rgba(254, 26, 5, 1);border-right:1px solid rgba(255,255,255,0.5);\"></div>\n    \n    <div style=\"width:5px;background:rgba(254, 26, 5, 1);border-right:1px solid rgba(255,255,255,0.5);\"></div>\n    \n    <div style=\"width:5px;background:rgba(254, 26, 5, 0.7);border-right:1px solid rgba(255,255,255,0.5);\"></div>\n    \n    <div style=\"width:5px;background:rgba(254, 26, 5, 1);border-right:1px solid rgba(255,255,255,0.5);\"></div>\n    \n    <div style=\"width:5px;background:rgba(254, 26, 5, 0.7);border-right:1px solid rgba(255,255,255,0.5);\"></div>\n    \n    <div style=\"width:5px;background:rgba(254, 26, 5, 0.7);border-right:1px solid rgba(255,255,255,0.5);\"></div>\n    \n    <div style=\"width:5px;background:rgba(254, 26, 5, 0.7);border-right:1px solid rgba(255,255,255,0.5);\"></div>\n    \n    <div style=\"width:5px;background:rgba(254, 26, 5, 1);border-right:1px solid rgba(255,255,255,0.5);\"></div>\n    \n    <div style=\"width:5px;background:rgba(254, 26, 5, 1);border-right:1px solid rgba(255,255,255,0.5);\"></div>\n    \n    <div style=\"width:5px;background:rgba(254, 26, 5, 1);border-right:1px solid rgba(255,255,255,0.5);\"></div>\n    \n    <div style=\"width:5px;background:rgba(254, 26, 5, 1);border-right:1px solid rgba(255,255,255,0.5);\"></div>\n    \n    <div style=\"width:5px;background:rgba(254, 26, 5, 0.7);border-right:1px solid rgba(255,255,255,0.5);\"></div>\n    \n    <div style=\"width:5px;background:rgba(254, 26, 5, 0.7);border-right:1px solid rgba(255,255,255,0.5);\"></div>\n    \n    <div style=\"width:5px;background:rgba(254, 26, 5, 0.7);border-right:1px solid rgba(255,255,255,0.5);\"></div>\n    \n    <div style=\"width:5px;background:rgba(254, 26, 5, 1);border-right:1px solid rgba(255,255,255,0.5);\"></div>\n    \n    <div style=\"width:5px;background:rgba(254, 26, 5, 1);border-right:1px solid rgba(255,255,255,0.5);\"></div>\n    \n    <div style=\"width:5px;background:rgba(254, 26, 5, 1);border-right:1px solid rgba(255,255,255,0.5);\"></div>\n    \n    <div style=\"width:5px;background:rgba(254, 26, 5, 1);border-right:1px solid rgba(255,255,255,0.5);\"></div>\n    \n    <div style=\"width:5px;background:rgba(254, 26, 5, 0.7);border-right:1px solid rgba(255,255,255,0.5);\"></div>\n    \n    <div style=\"width:5px;background:rgba(254, 26, 5, 0.7);border-right:1px solid rgba(255,255,255,0.5);\"></div>\n    \n  </div></td>\n        <td class=\"pl1\"><b>34,317</b></td>\n        <td class=\"change neg\">(<b>+729</b>)</td>\n        <td class=\"pl1\">3,929</td>\n        <td class=\"change neg\">(<b>+165</b>)</td>\n        <td class=\"pl1\">11.4%</td>\n      </tr>\n    \n      <tr>\n        <td class=\"mw\"><b>Switzerland</b></td>\n        <td style=\"vertical-align: middle;\"><div class=\"d-flex\" style=\"height:15px;\">\n    \n    \n    <div style=\"width:5px;background:rgba(254, 26, 5, 0.7);border-right:1px solid rgba(255,255,255,0.5);\"></div>\n    \n    <div style=\"width:5px;background:rgba(254, 26, 5, 1);border-right:1px solid rgba(255,255,255,0.5);\"></div>\n    \n    <div style=\"width:5px;background:rgba(254, 26, 5, 1);border-right:1px solid rgba(255,255,255,0.5);\"></div>\n    \n    <div style=\"width:5px;background:rgba(254, 26, 5, 0.7);border-right:1px solid rgba(255,255,255,0.5);\"></div>\n    \n    <div style=\"width:5px;background:rgba(254, 26, 5, 0.7);border-right:1px solid rgba(255,255,255,0.5);\"></div>\n    \n    <div style=\"width:5px;background:rgba(254, 26, 5, 0.7);border-right:1px solid rgba(255,255,255,0.5);\"></div>\n    \n    <div style=\"width:5px;background:rgba(254, 26, 5, 0.7);border-right:1px solid rgba(255,255,255,0.5);\"></div>\n    \n    <div style=\"width:5px;background:rgba(254, 26, 5, 0.7);border-right:1px solid rgba(255,255,255,0.5);\"></div>\n    \n    <div style=\"width:5px;background:rgba(254, 26, 5, 1);border-right:1px solid rgba(255,255,255,0.5);\"></div>\n    \n    <div style=\"width:5px;background:rgba(254, 26, 5, 0.7);border-right:1px solid rgba(255,255,255,0.5);\"></div>\n    \n    <div style=\"width:5px;background:rgba(254, 26, 5, 0.7);border-right:1px solid rgba(255,255,255,0.5);\"></div>\n    \n    <div style=\"width:5px;background:rgba(254, 26, 5, 0.7);border-right:1px solid rgba(255,255,255,0.5);\"></div>\n    \n    <div style=\"width:5px;background:rgba(254, 26, 5, 0.7);border-right:1px solid rgba(255,255,255,0.5);\"></div>\n    \n    <div style=\"width:5px;background:rgba(254, 26, 5, 0.7);border-right:1px solid rgba(255,255,255,0.5);\"></div>\n    \n    <div style=\"width:5px;background:rgba(254, 26, 5, 0.7);border-right:1px solid rgba(255,255,255,0.5);\"></div>\n    \n    <div style=\"width:5px;background:rgba(254, 26, 5, 0.7);border-right:1px solid rgba(255,255,255,0.5);\"></div>\n    \n    <div style=\"width:5px;background:rgba(254, 26, 5, 0.7);border-right:1px solid rgba(255,255,255,0.5);\"></div>\n    \n    <div style=\"width:5px;background:rgba(254, 26, 5, 0.7);border-right:1px solid rgba(255,255,255,0.5);\"></div>\n    \n    <div style=\"width:5px;background:rgba(254, 26, 5, 0.7);border-right:1px solid rgba(255,255,255,0.5);\"></div>\n    \n    <div style=\"width:5px;background:rgba(254, 26, 5, 0.7);border-right:1px solid rgba(255,255,255,0.5);\"></div>\n    \n    <div style=\"width:5px;background:rgba(254, 26, 5, 0.7);border-right:1px solid rgba(255,255,255,0.5);\"></div>\n    \n    <div style=\"width:5px;background:rgba(254, 26, 5, 0.7);border-right:1px solid rgba(255,255,255,0.5);\"></div>\n    \n  </div></td>\n        <td class=\"pl1\"><b>28,063</b></td>\n        <td class=\"change neg\">(<b>+119</b>)</td>\n        <td class=\"pl1\">1,478</td>\n        <td class=\"change neg\">(<b>+49</b>)</td>\n        <td class=\"pl1\">5.3%</td>\n      </tr>\n    \n      <tr>\n        <td class=\"mw\"><b>Portugal</b></td>\n        <td style=\"vertical-align: middle;\"><div class=\"d-flex\" style=\"height:15px;\">\n    \n    \n    <div style=\"width:5px;background:rgba(254, 26, 5, 1);border-right:1px solid rgba(255,255,255,0.5);\"></div>\n    \n    <div style=\"width:5px;background:rgba(254, 26, 5, 0.7);border-right:1px solid rgba(255,255,255,0.5);\"></div>\n    \n    <div style=\"width:5px;background:rgba(254, 26, 5, 0.7);border-right:1px solid rgba(255,255,255,0.5);\"></div>\n    \n    <div style=\"width:5px;background:rgba(254, 26, 5, 0.7);border-right:1px solid rgba(255,255,255,0.5);\"></div>\n    \n    <div style=\"width:5px;background:rgba(254, 26, 5, 0.7);border-right:1px solid rgba(255,255,255,0.5);\"></div>\n    \n    <div style=\"width:5px;background:rgba(254, 26, 5, 0.7);border-right:1px solid rgba(255,255,255,0.5);\"></div>\n    \n    <div style=\"width:5px;background:rgba(254, 26, 5, 0.7);border-right:1px solid rgba(255,255,255,0.5);\"></div>\n    \n    <div style=\"width:5px;background:rgba(254, 26, 5, 0.7);border-right:1px solid rgba(255,255,255,0.5);\"></div>\n    \n    <div style=\"width:5px;background:rgba(254, 26, 5, 0.7);border-right:1px solid rgba(255,255,255,0.5);\"></div>\n    \n    <div style=\"width:5px;background:rgba(254, 26, 5, 0.7);border-right:1px solid rgba(255,255,255,0.5);\"></div>\n    \n    <div style=\"width:5px;background:rgba(254, 26, 5, 1);border-right:1px solid rgba(255,255,255,0.5);\"></div>\n    \n    <div style=\"width:5px;background:rgba(254, 26, 5, 0.7);border-right:1px solid rgba(255,255,255,0.5);\"></div>\n    \n    <div style=\"width:5px;background:rgba(254, 26, 5, 0.7);border-right:1px solid rgba(255,255,255,0.5);\"></div>\n    \n    <div style=\"width:5px;background:rgba(254, 26, 5, 0.7);border-right:1px solid rgba(255,255,255,0.5);\"></div>\n    \n    <div style=\"width:5px;background:rgba(254, 26, 5, 0.7);border-right:1px solid rgba(255,255,255,0.5);\"></div>\n    \n    <div style=\"width:5px;background:rgba(254, 26, 5, 0.7);border-right:1px solid rgba(255,255,255,0.5);\"></div>\n    \n    <div style=\"width:5px;background:rgba(254, 26, 5, 0.7);border-right:1px solid rgba(255,255,255,0.5);\"></div>\n    \n    <div style=\"width:5px;background:rgba(254, 26, 5, 0.7);border-right:1px solid rgba(255,255,255,0.5);\"></div>\n    \n    <div style=\"width:5px;background:rgba(254, 26, 5, 0.7);border-right:1px solid rgba(255,255,255,0.5);\"></div>\n    \n    <div style=\"width:5px;background:rgba(254, 26, 5, 0.7);border-right:1px solid rgba(255,255,255,0.5);\"></div>\n    \n    <div style=\"width:5px;background:rgba(254, 26, 5, 0.7);border-right:1px solid rgba(255,255,255,0.5);\"></div>\n    \n    <div style=\"width:5px;background:rgba(254, 26, 5, 0.7);border-right:1px solid rgba(255,255,255,0.5);\"></div>\n    \n  </div></td>\n        <td class=\"pl1\"><b>21,379</b></td>\n        <td class=\"change neg\">(<b>+516</b>)</td>\n        <td class=\"pl1\">762</td>\n        <td class=\"change neg\">(<b>+27</b>)</td>\n        <td class=\"pl1\">3.6%</td>\n      </tr>\n    \n      <tr>\n        <td class=\"mw\"><b>India</b></td>\n        <td style=\"vertical-align: middle;\"><div class=\"d-flex\" style=\"height:15px;\">\n    \n    \n    <div style=\"width:5px;background:rgba(254, 26, 5, 0.7);border-right:1px solid rgba(255,255,255,0.5);\"></div>\n    \n    <div style=\"width:5px;background:rgba(254, 26, 5, 0.7);border-right:1px solid rgba(255,255,255,0.5);\"></div>\n    \n    <div style=\"width:5px;background:rgba(254, 26, 5, 0.7);border-right:1px solid rgba(255,255,255,0.5);\"></div>\n    \n    <div style=\"width:5px;background:rgba(254, 26, 5, 0.4);border-right:1px solid rgba(255,255,255,0.5);\"></div>\n    \n    <div style=\"width:5px;background:rgba(254, 26, 5, 0.7);border-right:1px solid rgba(255,255,255,0.5);\"></div>\n    \n    <div style=\"width:5px;background:rgba(254, 26, 5, 0.7);border-right:1px solid rgba(255,255,255,0.5);\"></div>\n    \n    <div style=\"width:5px;background:rgba(254, 26, 5, 1);border-right:1px solid rgba(255,255,255,0.5);\"></div>\n    \n    <div style=\"width:5px;background:rgba(254, 26, 5, 0.7);border-right:1px solid rgba(255,255,255,0.5);\"></div>\n    \n    <div style=\"width:5px;background:rgba(254, 26, 5, 0.7);border-right:1px solid rgba(255,255,255,0.5);\"></div>\n    \n    <div style=\"width:5px;background:rgba(254, 26, 5, 0.7);border-right:1px solid rgba(255,255,255,0.5);\"></div>\n    \n    <div style=\"width:5px;background:rgba(254, 26, 5, 0.7);border-right:1px solid rgba(255,255,255,0.5);\"></div>\n    \n    <div style=\"width:5px;background:rgba(254, 26, 5, 0.7);border-right:1px solid rgba(255,255,255,0.5);\"></div>\n    \n    <div style=\"width:5px;background:rgba(254, 26, 5, 0.7);border-right:1px solid rgba(255,255,255,0.5);\"></div>\n    \n    <div style=\"width:5px;background:rgba(254, 26, 5, 1);border-right:1px solid rgba(255,255,255,0.5);\"></div>\n    \n    <div style=\"width:5px;background:rgba(254, 26, 5, 1);border-right:1px solid rgba(255,255,255,0.5);\"></div>\n    \n    <div style=\"width:5px;background:rgba(254, 26, 5, 0.7);border-right:1px solid rgba(255,255,255,0.5);\"></div>\n    \n    <div style=\"width:5px;background:rgba(254, 26, 5, 1);border-right:1px solid rgba(255,255,255,0.5);\"></div>\n    \n    <div style=\"width:5px;background:rgba(254, 26, 5, 0.7);border-right:1px solid rgba(255,255,255,0.5);\"></div>\n    \n    <div style=\"width:5px;background:rgba(254, 26, 5, 1);border-right:1px solid rgba(255,255,255,0.5);\"></div>\n    \n    <div style=\"width:5px;background:rgba(254, 26, 5, 1);border-right:1px solid rgba(255,255,255,0.5);\"></div>\n    \n    <div style=\"width:5px;background:rgba(254, 26, 5, 0.7);border-right:1px solid rgba(255,255,255,0.5);\"></div>\n    \n    <div style=\"width:5px;background:rgba(254, 26, 5, 1);border-right:1px solid rgba(255,255,255,0.5);\"></div>\n    \n  </div></td>\n        <td class=\"pl1\"><b>20,080</b></td>\n        <td class=\"change neg\">(<b>+1,541</b>)</td>\n        <td class=\"pl1\">645</td>\n        <td class=\"change neg\">(<b>+53</b>)</td>\n        <td class=\"pl1\">3.2%</td>\n      </tr>\n    \n      <tr>\n        <td class=\"mw\"><b>Peru</b></td>\n        <td style=\"vertical-align: middle;\"><div class=\"d-flex\" style=\"height:15px;\">\n    \n    \n    <div style=\"width:5px;background:rgba(254, 26, 5, 0.7);border-right:1px solid rgba(255,255,255,0.5);\"></div>\n    \n    <div style=\"width:5px;background:rgba(254, 26, 5, 0.7);border-right:1px solid rgba(255,255,255,0.5);\"></div>\n    \n    <div style=\"width:5px;background:rgba(254, 26, 5, 0.4);border-right:1px solid rgba(255,255,255,0.5);\"></div>\n    \n    <div style=\"width:5px;background:rgba(254, 26, 5, 0.7);border-right:1px solid rgba(255,255,255,0.5);\"></div>\n    \n    <div style=\"width:5px;background:rgba(254, 26, 5, 0.7);border-right:1px solid rgba(255,255,255,0.5);\"></div>\n    \n    <div style=\"width:5px;background:rgba(254, 26, 5, 0.7);border-right:1px solid rgba(255,255,255,0.5);\"></div>\n    \n    <div style=\"width:5px;background:rgba(254, 26, 5, 0.7);border-right:1px solid rgba(255,255,255,0.5);\"></div>\n    \n    <div style=\"width:5px;background:rgba(254, 26, 5, 0.7);border-right:1px solid rgba(255,255,255,0.5);\"></div>\n    \n    <div style=\"width:5px;background:rgba(254, 26, 5, 1);border-right:1px solid rgba(255,255,255,0.5);\"></div>\n    \n    <div style=\"width:5px;background:rgba(254, 26, 5, 0.7);border-right:1px solid rgba(255,255,255,0.5);\"></div>\n    \n    <div style=\"width:5px;background:rgba(254, 26, 5, 0.7);border-right:1px solid rgba(255,255,255,0.5);\"></div>\n    \n    <div style=\"width:5px;background:rgba(254, 26, 5, 0.7);border-right:1px solid rgba(255,255,255,0.5);\"></div>\n    \n    <div style=\"width:5px;background:rgba(254, 26, 5, 0.7);border-right:1px solid rgba(255,255,255,0.5);\"></div>\n    \n    <div style=\"width:5px;background:rgba(254, 26, 5, 1);border-right:1px solid rgba(255,255,255,0.5);\"></div>\n    \n    <div style=\"width:5px;background:rgba(254, 26, 5, 0.7);border-right:1px solid rgba(255,255,255,0.5);\"></div>\n    \n    <div style=\"width:5px;background:rgba(254, 26, 5, 1);border-right:1px solid rgba(255,255,255,0.5);\"></div>\n    \n    <div style=\"width:5px;background:rgba(254, 26, 5, 1);border-right:1px solid rgba(255,255,255,0.5);\"></div>\n    \n    <div style=\"width:5px;background:rgba(254, 26, 5, 0.7);border-right:1px solid rgba(255,255,255,0.5);\"></div>\n    \n    <div style=\"width:5px;background:rgba(254, 26, 5, 0.7);border-right:1px solid rgba(255,255,255,0.5);\"></div>\n    \n    <div style=\"width:5px;background:rgba(254, 26, 5, 1);border-right:1px solid rgba(255,255,255,0.5);\"></div>\n    \n    <div style=\"width:5px;background:rgba(254, 26, 5, 0.7);border-right:1px solid rgba(255,255,255,0.5);\"></div>\n    \n    <div style=\"width:5px;background:rgba(254, 26, 5, 1);border-right:1px solid rgba(255,255,255,0.5);\"></div>\n    \n  </div></td>\n        <td class=\"pl1\"><b>17,837</b></td>\n        <td class=\"change neg\">(<b>+1,512</b>)</td>\n        <td class=\"pl1\">484</td>\n        <td class=\"change neg\">(<b>+39</b>)</td>\n        <td class=\"pl1\">2.7%</td>\n      </tr>\n    \n      <tr>\n        <td class=\"mw\"><b>Ireland</b></td>\n        <td style=\"vertical-align: middle;\"><div class=\"d-flex\" style=\"height:15px;\">\n    \n    \n    <div style=\"width:5px;background:rgba(254, 26, 5, 0.7);border-right:1px solid rgba(255,255,255,0.5);\"></div>\n    \n    <div style=\"width:5px;background:rgba(254, 26, 5, 0.7);border-right:1px solid rgba(255,255,255,0.5);\"></div>\n    \n    <div style=\"width:5px;background:rgba(254, 26, 5, 0.7);border-right:1px solid rgba(255,255,255,0.5);\"></div>\n    \n    <div style=\"width:5px;background:rgba(254, 26, 5, 0.7);border-right:1px solid rgba(255,255,255,0.5);\"></div>\n    \n    <div style=\"width:5px;background:rgba(254, 26, 5, 0.7);border-right:1px solid rgba(255,255,255,0.5);\"></div>\n    \n    <div style=\"width:5px;background:rgba(254, 26, 5, 0.7);border-right:1px solid rgba(255,255,255,0.5);\"></div>\n    \n    <div style=\"width:5px;background:rgba(254, 26, 5, 0.7);border-right:1px solid rgba(255,255,255,0.5);\"></div>\n    \n    <div style=\"width:5px;background:rgba(254, 26, 5, 0.7);border-right:1px solid rgba(255,255,255,0.5);\"></div>\n    \n    <div style=\"width:5px;background:rgba(254, 26, 5, 0.7);border-right:1px solid rgba(255,255,255,0.5);\"></div>\n    \n    <div style=\"width:5px;background:rgba(254, 26, 5, 0.7);border-right:1px solid rgba(255,255,255,0.5);\"></div>\n    \n    <div style=\"width:5px;background:rgba(254, 26, 5, 1);border-right:1px solid rgba(255,255,255,0.5);\"></div>\n    \n    <div style=\"width:5px;background:rgba(254, 26, 5, 0.7);border-right:1px solid rgba(255,255,255,0.5);\"></div>\n    \n    <div style=\"width:5px;background:rgba(254, 26, 5, 0.7);border-right:1px solid rgba(255,255,255,0.5);\"></div>\n    \n    <div style=\"width:5px;background:rgba(254, 26, 5, 0.7);border-right:1px solid rgba(255,255,255,0.5);\"></div>\n    \n    <div style=\"width:5px;background:rgba(254, 26, 5, 0.7);border-right:1px solid rgba(255,255,255,0.5);\"></div>\n    \n    <div style=\"width:5px;background:rgba(254, 26, 5, 1);border-right:1px solid rgba(255,255,255,0.5);\"></div>\n    \n    <div style=\"width:5px;background:rgba(254, 26, 5, 0.7);border-right:1px solid rgba(255,255,255,0.5);\"></div>\n    \n    <div style=\"width:5px;background:rgba(254, 26, 5, 0.7);border-right:1px solid rgba(255,255,255,0.5);\"></div>\n    \n    <div style=\"width:5px;background:rgba(254, 26, 5, 0.7);border-right:1px solid rgba(255,255,255,0.5);\"></div>\n    \n    <div style=\"width:5px;background:rgba(254, 26, 5, 0.7);border-right:1px solid rgba(255,255,255,0.5);\"></div>\n    \n    <div style=\"width:5px;background:rgba(254, 26, 5, 0.7);border-right:1px solid rgba(255,255,255,0.5);\"></div>\n    \n    <div style=\"width:5px;background:rgba(254, 26, 5, 0.7);border-right:1px solid rgba(255,255,255,0.5);\"></div>\n    \n  </div></td>\n        <td class=\"pl1\"><b>16,040</b></td>\n        <td class=\"change neg\">(<b>+388</b>)</td>\n        <td class=\"pl1\">730</td>\n        <td class=\"change neg\">(<b>+43</b>)</td>\n        <td class=\"pl1\">4.6%</td>\n      </tr>\n    \n      <tr>\n        <td class=\"mw\"><b>Sweden</b></td>\n        <td style=\"vertical-align: middle;\"><div class=\"d-flex\" style=\"height:15px;\">\n    \n    \n    <div style=\"width:5px;background:rgba(254, 26, 5, 0.7);border-right:1px solid rgba(255,255,255,0.5);\"></div>\n    \n    <div style=\"width:5px;background:rgba(254, 26, 5, 0.7);border-right:1px solid rgba(255,255,255,0.5);\"></div>\n    \n    <div style=\"width:5px;background:rgba(254, 26, 5, 0.7);border-right:1px solid rgba(255,255,255,0.5);\"></div>\n    \n    <div style=\"width:5px;background:rgba(254, 26, 5, 0.7);border-right:1px solid rgba(255,255,255,0.5);\"></div>\n    \n    <div style=\"width:5px;background:rgba(254, 26, 5, 0.7);border-right:1px solid rgba(255,255,255,0.5);\"></div>\n    \n    <div style=\"width:5px;background:rgba(254, 26, 5, 0.7);border-right:1px solid rgba(255,255,255,0.5);\"></div>\n    \n    <div style=\"width:5px;background:rgba(254, 26, 5, 0.7);border-right:1px solid rgba(255,255,255,0.5);\"></div>\n    \n    <div style=\"width:5px;background:rgba(254, 26, 5, 0.7);border-right:1px solid rgba(255,255,255,0.5);\"></div>\n    \n    <div style=\"width:5px;background:rgba(254, 26, 5, 0.7);border-right:1px solid rgba(255,255,255,0.5);\"></div>\n    \n    <div style=\"width:5px;background:rgba(254, 26, 5, 0.7);border-right:1px solid rgba(255,255,255,0.5);\"></div>\n    \n    <div style=\"width:5px;background:rgba(254, 26, 5, 0.7);border-right:1px solid rgba(255,255,255,0.5);\"></div>\n    \n    <div style=\"width:5px;background:rgba(254, 26, 5, 0.7);border-right:1px solid rgba(255,255,255,0.5);\"></div>\n    \n    <div style=\"width:5px;background:rgba(254, 26, 5, 0.7);border-right:1px solid rgba(255,255,255,0.5);\"></div>\n    \n    <div style=\"width:5px;background:rgba(254, 26, 5, 0.7);border-right:1px solid rgba(255,255,255,0.5);\"></div>\n    \n    <div style=\"width:5px;background:rgba(254, 26, 5, 0.7);border-right:1px solid rgba(255,255,255,0.5);\"></div>\n    \n    <div style=\"width:5px;background:rgba(254, 26, 5, 0.7);border-right:1px solid rgba(255,255,255,0.5);\"></div>\n    \n    <div style=\"width:5px;background:rgba(254, 26, 5, 0.7);border-right:1px solid rgba(255,255,255,0.5);\"></div>\n    \n    <div style=\"width:5px;background:rgba(254, 26, 5, 0.7);border-right:1px solid rgba(255,255,255,0.5);\"></div>\n    \n    <div style=\"width:5px;background:rgba(254, 26, 5, 0.7);border-right:1px solid rgba(255,255,255,0.5);\"></div>\n    \n    <div style=\"width:5px;background:rgba(254, 26, 5, 0.7);border-right:1px solid rgba(255,255,255,0.5);\"></div>\n    \n    <div style=\"width:5px;background:rgba(254, 26, 5, 0.7);border-right:1px solid rgba(255,255,255,0.5);\"></div>\n    \n    <div style=\"width:5px;background:rgba(254, 26, 5, 0.7);border-right:1px solid rgba(255,255,255,0.5);\"></div>\n    \n  </div></td>\n        <td class=\"pl1\"><b>15,322</b></td>\n        <td class=\"change neg\">(<b>+545</b>)</td>\n        <td class=\"pl1\">1,765</td>\n        <td class=\"change neg\">(<b>+185</b>)</td>\n        <td class=\"pl1\">11.5%</td>\n      </tr>\n    \n    </tbody>\n  </table>\n</div>\n<style>\n\n\n.overview {\n  min-width: 500px;\n  font-size: 9px;\n  font-family: \"Segoe UI\", SegoeUI, Roboto, \"Segoe WP\", \"Helvetica Neue\", \"Helvetica\", \"Tahoma\", \"Arial\", sans-serif !important;\n}\n.overview .toplinksgithub a {\n  background: #d3d3d3;\n  font-size: 14px;\n  color: #1d87ae;\n  margin: 10px;\n  padding: 2px 10px;\n}\n.overview p {\n  margin: 6px auto !important;\n  padding: 0;\n}\n@media screen and (max-width: 660px) {\n  .overview p { max-width: none !important; }\n}\n.overview b {\n  font-weight: bolder;\n}\n.overview .kpi-hed {\n  font-weight: bold;\n  font-size: 20px;\n}\n.overview .kpi-box {\n  justify-content: space-around;\n  font-size: 15px;\n  background: #f5d906;\n  padding: 10px 0 !important;\n  margin: 5px 0 !important;\n  min-width: 180px;\n}\n.overview .kpi .num {\n  font-size: 40px;\n  line-height: 40px;\n  font-weight: bold;\n}\n.overview .kpi .grow {\n  line-height: 12px;\n  font-size: 12px;\n}\n.overview .table .change.pos , .overview .kpi .grow.pos {\n  color: #118822;\n}\n.overview .table .change.neg, .overview .kpi .grow, .color-neg {\n  color: #fe1a05;\n}\n.overview p .color-neg {\n  background: #ececec;\n  padding: 0 5px;\n}\n.overview .kpi .kname {\n  font-size: 10px;\n}\n.overview .kpi-sm .kpi-hed {\n  font-size: 14px;\n  line-height: 10px;\n  padding-top: 10px !important;\n}\n.overview .kpi-sm .num {\n  font-size: 20px;\n  line-height: 20px;\n}\n.overview .kpi-sm .kname {\n  font-size: 11px;\n  line-height: 9px;\n}\n.overview .table {\n  border-collapse: collapse;\n  margin: auto !important;\n  text-align: right;\n  margin-top: 14px;\n  color: black;\n  font-size: 13px;\n  display: table !important;\n}\n.overview .table .change {\n  color: #999;\n  font-size: 80%;\n  text-align: start;\n  vertical-align: inherit;\n  font-weight: normal;\n  padding-left: 1px !important;\n}\n.overview .table th {\n  font-weight: normal;\n}\n.overview .table tbody tr {\n  border-bottom: 1px solid #eee;\n  background: none;\n}\n.overview .table td, .overview .table th {\n  padding: 1px 1px 1px 10px !important;\n  vertical-align: middle;\n  border: none;\n  background: none;\n}\n.overview .table th {\n  text-align: center;\n  text-transform: uppercase;\n}\n.overview .table thead {\n  border-bottom: 1px solid black;\n}\n.overview .fs9 {\n  font-size: 12px;\n}\n.overview .d-flex {\n  display: flex;\n}\n.overview .text-center { text-align: center !important; }\n.overview .text-left { text-align: left !important; }\n.overview .text-right { text-align: right !important; }\n.overview .text-uppercase { text-transform: uppercase !important; }\n.overview div {\n  margin: 0 !important;\n  padding: 0 !important;\n}\n</style></div>"
     },
     "metadata": {},
     "execution_count": 21
    }
   ],
   "source": [
    "#hide_input\n",
    "template = Template(get_template('https://raw.githubusercontent.com/hargun3045/dashboards/master/overview.tpl'))\n",
    "html = template.render(\n",
    "    D=summary, table=df_table.head(20),  # REMOVE .head(20) to see all values\n",
    "    newcases=dft_ct_new_cases.loc[:, dt_cols[LAST_DATE_I-21]:dt_cols[LAST_DATE_I]],\n",
    "    np=np, pd=pd, enumerate=enumerate)\n",
    "HTML(f'<div>{html}</div>')"
   ]
  },
  {
   "cell_type": "markdown",
   "metadata": {
    "papermill": {
     "duration": 0.020938,
     "end_time": "2020-04-22T11:17:41.842864",
     "exception": false,
     "start_time": "2020-04-22T11:17:41.821926",
     "status": "completed"
    },
    "tags": []
   },
   "source": [
    "Source: [\"COVID-19 Data Repository by Johns Hopkins CSSE\"](https://systems.jhu.edu/research/public-health/ncov/)"
   ]
  }
 ],
 "metadata": {
  "kernelspec": {
   "display_name": "Python 3",
   "language": "python",
   "name": "python3"
  },
  "language_info": {
   "codemirror_mode": {
    "name": "ipython",
    "version": 3
   },
   "file_extension": ".py",
   "mimetype": "text/x-python",
   "name": "python",
   "nbconvert_exporter": "python",
   "pygments_lexer": "ipython3",
   "version": "3.7.3-final"
  },
  "papermill": {
   "duration": 3.640932,
   "end_time": "2020-04-22T11:17:41.972215",
   "environment_variables": {},
   "exception": null,
   "input_path": "2020-03-21-covid19-dashboarder.ipynb",
   "output_path": "2020-03-21-covid19-dashboarder.ipynb",
   "parameters": {},
   "start_time": "2020-04-22T11:17:38.331283",
   "version": "2.0.0"
  }
 },
 "nbformat": 4,
 "nbformat_minor": 4
}