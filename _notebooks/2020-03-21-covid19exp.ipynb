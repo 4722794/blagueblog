{
 "cells": [
  {
   "cell_type": "markdown",
   "id": "muslim-click",
   "metadata": {
    "papermill": {
     "duration": 0.039997,
     "end_time": "2022-10-20T12:20:44.811814",
     "exception": false,
     "start_time": "2022-10-20T12:20:44.771817",
     "status": "completed"
    },
    "tags": []
   },
   "source": [
    "# COVID-19 Case Race\n",
    "> A race chart to see rising cases around the world\n",
    "\n",
    "- author: Hargun Oberoi\n",
    "- image: images/covid-overview.png\n",
    "- hide: false\n",
    "- badges: false"
   ]
  },
  {
   "cell_type": "code",
   "execution_count": 1,
   "id": "proof-material",
   "metadata": {
    "execution": {
     "iopub.execute_input": "2022-10-20T12:20:44.890848Z",
     "iopub.status.busy": "2022-10-20T12:20:44.890145Z",
     "iopub.status.idle": "2022-10-20T12:20:45.262420Z",
     "shell.execute_reply": "2022-10-20T12:20:45.261351Z"
    },
    "papermill": {
     "duration": 0.416828,
     "end_time": "2022-10-20T12:20:45.262590",
     "exception": false,
     "start_time": "2022-10-20T12:20:44.845762",
     "status": "completed"
    },
    "tags": []
   },
   "outputs": [],
   "source": [
    "#hide\n",
    "import numpy as np\n",
    "import pandas as pd\n",
    "from jinja2 import Template\n",
    "from IPython.display import HTML"
   ]
  },
  {
   "cell_type": "code",
   "execution_count": 2,
   "id": "developed-terminology",
   "metadata": {
    "execution": {
     "iopub.execute_input": "2022-10-20T12:20:45.331854Z",
     "iopub.status.busy": "2022-10-20T12:20:45.331163Z",
     "iopub.status.idle": "2022-10-20T12:20:45.336702Z",
     "shell.execute_reply": "2022-10-20T12:20:45.336133Z"
    },
    "papermill": {
     "duration": 0.041,
     "end_time": "2022-10-20T12:20:45.336830",
     "exception": false,
     "start_time": "2022-10-20T12:20:45.295830",
     "status": "completed"
    },
    "tags": []
   },
   "outputs": [],
   "source": [
    "#hide\n",
    "\n",
    "# FETCH\n",
    "base_url = 'https://raw.githubusercontent.com/pratapvardhan/notebooks/master/covid19/'\n",
    "paths = {\n",
    "    'mapping': base_url + 'mapping_countries.csv',\n",
    "    'overview': base_url + 'overview.tpl'\n",
    "}"
   ]
  },
  {
   "cell_type": "code",
   "execution_count": 3,
   "id": "dynamic-saver",
   "metadata": {
    "execution": {
     "iopub.execute_input": "2022-10-20T12:20:45.409957Z",
     "iopub.status.busy": "2022-10-20T12:20:45.409196Z",
     "iopub.status.idle": "2022-10-20T12:20:45.415261Z",
     "shell.execute_reply": "2022-10-20T12:20:45.416045Z"
    },
    "papermill": {
     "duration": 0.04718,
     "end_time": "2022-10-20T12:20:45.416203",
     "exception": false,
     "start_time": "2022-10-20T12:20:45.369023",
     "status": "completed"
    },
    "tags": []
   },
   "outputs": [
    {
     "data": {
      "text/plain": [
       "'https://raw.githubusercontent.com/pratapvardhan/notebooks/master/covid19/mapping_countries.csv'"
      ]
     },
     "execution_count": 3,
     "metadata": {},
     "output_type": "execute_result"
    }
   ],
   "source": [
    "#hide\n",
    "paths['mapping']"
   ]
  },
  {
   "cell_type": "code",
   "execution_count": 4,
   "id": "urban-software",
   "metadata": {
    "execution": {
     "iopub.execute_input": "2022-10-20T12:20:45.496290Z",
     "iopub.status.busy": "2022-10-20T12:20:45.495583Z",
     "iopub.status.idle": "2022-10-20T12:20:45.498599Z",
     "shell.execute_reply": "2022-10-20T12:20:45.498017Z"
    },
    "papermill": {
     "duration": 0.04844,
     "end_time": "2022-10-20T12:20:45.498724",
     "exception": false,
     "start_time": "2022-10-20T12:20:45.450284",
     "status": "completed"
    },
    "tags": []
   },
   "outputs": [],
   "source": [
    "#hide\n",
    "def get_mappings(url):\n",
    "    df = pd.read_csv(url)\n",
    "    return {\n",
    "        'df': df,\n",
    "        'replace.country': dict(df.dropna(subset=['Name']).set_index('Country')['Name']),\n",
    "        'map.continent': dict(df.set_index('Name')['Continent'])\n",
    "    }"
   ]
  },
  {
   "cell_type": "code",
   "execution_count": 5,
   "id": "intimate-machinery",
   "metadata": {
    "execution": {
     "iopub.execute_input": "2022-10-20T12:20:45.571731Z",
     "iopub.status.busy": "2022-10-20T12:20:45.571044Z",
     "iopub.status.idle": "2022-10-20T12:20:45.621041Z",
     "shell.execute_reply": "2022-10-20T12:20:45.620357Z"
    },
    "papermill": {
     "duration": 0.08932,
     "end_time": "2022-10-20T12:20:45.621188",
     "exception": false,
     "start_time": "2022-10-20T12:20:45.531868",
     "status": "completed"
    },
    "tags": []
   },
   "outputs": [],
   "source": [
    "#hide\n",
    "mapping = get_mappings(paths['mapping'])"
   ]
  },
  {
   "cell_type": "code",
   "execution_count": 6,
   "id": "certified-tactics",
   "metadata": {
    "execution": {
     "iopub.execute_input": "2022-10-20T12:20:45.691616Z",
     "iopub.status.busy": "2022-10-20T12:20:45.690930Z",
     "iopub.status.idle": "2022-10-20T12:20:45.694053Z",
     "shell.execute_reply": "2022-10-20T12:20:45.693507Z"
    },
    "papermill": {
     "duration": 0.039985,
     "end_time": "2022-10-20T12:20:45.694166",
     "exception": false,
     "start_time": "2022-10-20T12:20:45.654181",
     "status": "completed"
    },
    "tags": []
   },
   "outputs": [],
   "source": [
    "#hide\n",
    "def get_template(path):\n",
    "    from urllib.parse import urlparse\n",
    "    if bool(urlparse(path).netloc):\n",
    "        from urllib.request import urlopen\n",
    "        return urlopen(path).read().decode('utf8')\n",
    "    return open(path).read()"
   ]
  },
  {
   "cell_type": "code",
   "execution_count": 7,
   "id": "realistic-blast",
   "metadata": {
    "execution": {
     "iopub.execute_input": "2022-10-20T12:20:45.766374Z",
     "iopub.status.busy": "2022-10-20T12:20:45.765672Z",
     "iopub.status.idle": "2022-10-20T12:20:45.768667Z",
     "shell.execute_reply": "2022-10-20T12:20:45.768125Z"
    },
    "papermill": {
     "duration": 0.041643,
     "end_time": "2022-10-20T12:20:45.768780",
     "exception": false,
     "start_time": "2022-10-20T12:20:45.727137",
     "status": "completed"
    },
    "tags": []
   },
   "outputs": [],
   "source": [
    "#hide\n",
    "def get_frame(name):\n",
    "    url = (\n",
    "        'https://raw.githubusercontent.com/CSSEGISandData/COVID-19/master/csse_covid_19_data/'\n",
    "        f'csse_covid_19_time_series/time_series_covid19_{name}_global.csv')\n",
    "    df = pd.read_csv(url)\n",
    "    # rename countries\n",
    "    df['Country/Region'] = df['Country/Region'].replace(mapping['replace.country'])\n",
    "    return df"
   ]
  },
  {
   "cell_type": "code",
   "execution_count": 8,
   "id": "affiliated-characterization",
   "metadata": {
    "execution": {
     "iopub.execute_input": "2022-10-20T12:20:45.839782Z",
     "iopub.status.busy": "2022-10-20T12:20:45.839078Z",
     "iopub.status.idle": "2022-10-20T12:20:45.841854Z",
     "shell.execute_reply": "2022-10-20T12:20:45.842383Z"
    },
    "papermill": {
     "duration": 0.041827,
     "end_time": "2022-10-20T12:20:45.842536",
     "exception": false,
     "start_time": "2022-10-20T12:20:45.800709",
     "status": "completed"
    },
    "tags": []
   },
   "outputs": [],
   "source": [
    "#hide\n",
    "def get_dates(df):\n",
    "    dt_cols = df.columns[~df.columns.isin(['Province/State', 'Country/Region', 'Lat', 'Long'])]\n",
    "    LAST_DATE_I = -1\n",
    "    # sometimes last column may be empty, then go backwards\n",
    "    for i in range(-1, -len(dt_cols), -1):\n",
    "        if not df[dt_cols[i]].fillna(0).eq(0).all():\n",
    "            LAST_DATE_I = i\n",
    "            break\n",
    "    return LAST_DATE_I, dt_cols"
   ]
  },
  {
   "cell_type": "code",
   "execution_count": 9,
   "id": "recent-optimization",
   "metadata": {
    "execution": {
     "iopub.execute_input": "2022-10-20T12:20:45.911113Z",
     "iopub.status.busy": "2022-10-20T12:20:45.910417Z",
     "iopub.status.idle": "2022-10-20T12:20:46.512838Z",
     "shell.execute_reply": "2022-10-20T12:20:46.511505Z"
    },
    "papermill": {
     "duration": 0.639481,
     "end_time": "2022-10-20T12:20:46.512988",
     "exception": false,
     "start_time": "2022-10-20T12:20:45.873507",
     "status": "completed"
    },
    "tags": []
   },
   "outputs": [],
   "source": [
    "#hide\n",
    "COL_REGION = 'Country/Region'\n",
    "# Confirmed, Recovered, Deaths\n",
    "df = get_frame('confirmed')\n",
    "# dft_: timeseries, dfc_: today country agg\n",
    "dft_cases = df\n",
    "dft_deaths = get_frame('deaths')\n",
    "dft_recovered = get_frame('recovered')\n",
    "LAST_DATE_I, dt_cols = get_dates(df)"
   ]
  },
  {
   "cell_type": "code",
   "execution_count": 10,
   "id": "absolute-copper",
   "metadata": {
    "execution": {
     "iopub.execute_input": "2022-10-20T12:20:46.586427Z",
     "iopub.status.busy": "2022-10-20T12:20:46.584579Z",
     "iopub.status.idle": "2022-10-20T12:20:46.587311Z",
     "shell.execute_reply": "2022-10-20T12:20:46.587911Z"
    },
    "papermill": {
     "duration": 0.042388,
     "end_time": "2022-10-20T12:20:46.588076",
     "exception": false,
     "start_time": "2022-10-20T12:20:46.545688",
     "status": "completed"
    },
    "tags": []
   },
   "outputs": [],
   "source": [
    "#hide\n",
    "LAST_DATE_I, dt_cols = get_dates(df)\n",
    "dt_today =dt_cols[LAST_DATE_I]\n",
    "# dt_5day = dt_cols[LAST_DATE_I - 5]\n",
    "dt_yday = dt_cols[LAST_DATE_I - 1]"
   ]
  },
  {
   "cell_type": "code",
   "execution_count": 11,
   "id": "restricted-sheriff",
   "metadata": {
    "execution": {
     "iopub.execute_input": "2022-10-20T12:20:46.659483Z",
     "iopub.status.busy": "2022-10-20T12:20:46.658808Z",
     "iopub.status.idle": "2022-10-20T12:20:46.667342Z",
     "shell.execute_reply": "2022-10-20T12:20:46.667893Z"
    },
    "papermill": {
     "duration": 0.047784,
     "end_time": "2022-10-20T12:20:46.668041",
     "exception": false,
     "start_time": "2022-10-20T12:20:46.620257",
     "status": "completed"
    },
    "tags": []
   },
   "outputs": [],
   "source": [
    "#hide\n",
    "dfc_cases = dft_cases.groupby(COL_REGION)[dt_today].sum()\n",
    "dfc_deaths = dft_deaths.groupby(COL_REGION)[dt_today].sum()\n",
    "# dfp_cases = dft_cases.groupby(COL_REGION)[dt_5day].sum()\n",
    "# dfp_deaths = dft_deaths.groupby(COL_REGION)[dt_5day].sum()\n",
    "dfp_cases = dft_cases.groupby(COL_REGION)[dt_yday].sum()\n",
    "dfp_deaths = dft_deaths.groupby(COL_REGION)[dt_yday].sum()"
   ]
  },
  {
   "cell_type": "code",
   "execution_count": 12,
   "id": "deluxe-hepatitis",
   "metadata": {
    "execution": {
     "iopub.execute_input": "2022-10-20T12:20:46.739828Z",
     "iopub.status.busy": "2022-10-20T12:20:46.739157Z",
     "iopub.status.idle": "2022-10-20T12:20:46.744635Z",
     "shell.execute_reply": "2022-10-20T12:20:46.745260Z"
    },
    "papermill": {
     "duration": 0.045114,
     "end_time": "2022-10-20T12:20:46.745405",
     "exception": false,
     "start_time": "2022-10-20T12:20:46.700291",
     "status": "completed"
    },
    "tags": []
   },
   "outputs": [],
   "source": [
    "#hide\n",
    "df_table = (pd.DataFrame(dict(Cases = dfc_cases, Deaths = dfc_deaths, PCases = dfp_cases, PDeaths = dfp_deaths))\n",
    "            .sort_values(by = ['Cases','Deaths'], ascending = [False, False])\n",
    "            .reset_index())"
   ]
  },
  {
   "cell_type": "code",
   "execution_count": 13,
   "id": "educational-chancellor",
   "metadata": {
    "execution": {
     "iopub.execute_input": "2022-10-20T12:20:46.828156Z",
     "iopub.status.busy": "2022-10-20T12:20:46.827492Z",
     "iopub.status.idle": "2022-10-20T12:20:46.837524Z",
     "shell.execute_reply": "2022-10-20T12:20:46.836975Z"
    },
    "papermill": {
     "duration": 0.059849,
     "end_time": "2022-10-20T12:20:46.837673",
     "exception": false,
     "start_time": "2022-10-20T12:20:46.777824",
     "status": "completed"
    },
    "tags": []
   },
   "outputs": [
    {
     "data": {
      "text/html": [
       "<div>\n",
       "<style scoped>\n",
       "    .dataframe tbody tr th:only-of-type {\n",
       "        vertical-align: middle;\n",
       "    }\n",
       "\n",
       "    .dataframe tbody tr th {\n",
       "        vertical-align: top;\n",
       "    }\n",
       "\n",
       "    .dataframe thead th {\n",
       "        text-align: right;\n",
       "    }\n",
       "</style>\n",
       "<table border=\"1\" class=\"dataframe\">\n",
       "  <thead>\n",
       "    <tr style=\"text-align: right;\">\n",
       "      <th></th>\n",
       "      <th>Country/Region</th>\n",
       "      <th>Cases</th>\n",
       "      <th>Deaths</th>\n",
       "      <th>PCases</th>\n",
       "      <th>PDeaths</th>\n",
       "      <th>Cases (+)</th>\n",
       "      <th>Deaths (+)</th>\n",
       "      <th>Fatality Rate</th>\n",
       "      <th>Continent</th>\n",
       "    </tr>\n",
       "  </thead>\n",
       "  <tbody>\n",
       "    <tr>\n",
       "      <th>0</th>\n",
       "      <td>US</td>\n",
       "      <td>97083662</td>\n",
       "      <td>1066584</td>\n",
       "      <td>97023525</td>\n",
       "      <td>1065838</td>\n",
       "      <td>60137</td>\n",
       "      <td>746</td>\n",
       "      <td>1.10</td>\n",
       "      <td>North America</td>\n",
       "    </tr>\n",
       "    <tr>\n",
       "      <th>1</th>\n",
       "      <td>India</td>\n",
       "      <td>44636517</td>\n",
       "      <td>528943</td>\n",
       "      <td>44634376</td>\n",
       "      <td>528923</td>\n",
       "      <td>2141</td>\n",
       "      <td>20</td>\n",
       "      <td>1.19</td>\n",
       "      <td>Asia</td>\n",
       "    </tr>\n",
       "    <tr>\n",
       "      <th>2</th>\n",
       "      <td>France</td>\n",
       "      <td>36636069</td>\n",
       "      <td>157227</td>\n",
       "      <td>36573007</td>\n",
       "      <td>157121</td>\n",
       "      <td>63062</td>\n",
       "      <td>106</td>\n",
       "      <td>0.43</td>\n",
       "      <td>Europe</td>\n",
       "    </tr>\n",
       "    <tr>\n",
       "      <th>3</th>\n",
       "      <td>Germany</td>\n",
       "      <td>35005769</td>\n",
       "      <td>152100</td>\n",
       "      <td>34888963</td>\n",
       "      <td>151877</td>\n",
       "      <td>116806</td>\n",
       "      <td>223</td>\n",
       "      <td>0.43</td>\n",
       "      <td>Europe</td>\n",
       "    </tr>\n",
       "    <tr>\n",
       "      <th>4</th>\n",
       "      <td>Brazil</td>\n",
       "      <td>34771320</td>\n",
       "      <td>687423</td>\n",
       "      <td>34746462</td>\n",
       "      <td>687144</td>\n",
       "      <td>24858</td>\n",
       "      <td>279</td>\n",
       "      <td>1.98</td>\n",
       "      <td>South America</td>\n",
       "    </tr>\n",
       "  </tbody>\n",
       "</table>\n",
       "</div>"
      ],
      "text/plain": [
       "  Country/Region     Cases   Deaths    PCases  PDeaths  Cases (+)  Deaths (+)  \\\n",
       "0             US  97083662  1066584  97023525  1065838      60137         746   \n",
       "1          India  44636517   528943  44634376   528923       2141          20   \n",
       "2         France  36636069   157227  36573007   157121      63062         106   \n",
       "3        Germany  35005769   152100  34888963   151877     116806         223   \n",
       "4         Brazil  34771320   687423  34746462   687144      24858         279   \n",
       "\n",
       "   Fatality Rate      Continent  \n",
       "0           1.10  North America  \n",
       "1           1.19           Asia  \n",
       "2           0.43         Europe  \n",
       "3           0.43         Europe  \n",
       "4           1.98  South America  "
      ]
     },
     "execution_count": 13,
     "metadata": {},
     "output_type": "execute_result"
    }
   ],
   "source": [
    "#hide\n",
    "for c in 'Cases, Deaths'.split(', '):\n",
    "    df_table[f'{c} (+)'] = (df_table[c] - df_table[f'P{c}']).clip(0)\n",
    "    #Clip ça veut dire, les chiffres negatif sont interdit\n",
    "df_table['Fatality Rate'] = (100* df_table['Deaths']/ df_table['Cases']).round(2)\n",
    "df_table['Continent'] = df_table['Country/Region'].map(mapping['map.continent'])\n",
    "df_table.head(5)"
   ]
  },
  {
   "cell_type": "code",
   "execution_count": 14,
   "id": "aboriginal-bulgaria",
   "metadata": {
    "execution": {
     "iopub.execute_input": "2022-10-20T12:20:46.908081Z",
     "iopub.status.busy": "2022-10-20T12:20:46.907374Z",
     "iopub.status.idle": "2022-10-20T12:20:46.910785Z",
     "shell.execute_reply": "2022-10-20T12:20:46.910240Z"
    },
    "papermill": {
     "duration": 0.041167,
     "end_time": "2022-10-20T12:20:46.910904",
     "exception": false,
     "start_time": "2022-10-20T12:20:46.869737",
     "status": "completed"
    },
    "tags": []
   },
   "outputs": [],
   "source": [
    "#hide\n",
    "#delete problematic countries from table\n",
    "df_table = df_table[~df_table['Country/Region'].isin(['Cape Verde', 'Cruise Ship', 'Kosovo'])]"
   ]
  },
  {
   "cell_type": "code",
   "execution_count": 15,
   "id": "fantastic-effect",
   "metadata": {
    "execution": {
     "iopub.execute_input": "2022-10-20T12:20:46.985061Z",
     "iopub.status.busy": "2022-10-20T12:20:46.984389Z",
     "iopub.status.idle": "2022-10-20T12:20:47.004003Z",
     "shell.execute_reply": "2022-10-20T12:20:47.003491Z"
    },
    "papermill": {
     "duration": 0.060413,
     "end_time": "2022-10-20T12:20:47.004116",
     "exception": false,
     "start_time": "2022-10-20T12:20:46.943703",
     "status": "completed"
    },
    "tags": []
   },
   "outputs": [
    {
     "data": {
      "text/html": [
       "<div>\n",
       "<style scoped>\n",
       "    .dataframe tbody tr th:only-of-type {\n",
       "        vertical-align: middle;\n",
       "    }\n",
       "\n",
       "    .dataframe tbody tr th {\n",
       "        vertical-align: top;\n",
       "    }\n",
       "\n",
       "    .dataframe thead th {\n",
       "        text-align: right;\n",
       "    }\n",
       "</style>\n",
       "<table border=\"1\" class=\"dataframe\">\n",
       "  <thead>\n",
       "    <tr style=\"text-align: right;\">\n",
       "      <th></th>\n",
       "      <th>Country/Region</th>\n",
       "      <th>Cases</th>\n",
       "      <th>Deaths</th>\n",
       "      <th>PCases</th>\n",
       "      <th>PDeaths</th>\n",
       "      <th>Cases (+)</th>\n",
       "      <th>Deaths (+)</th>\n",
       "      <th>Fatality Rate</th>\n",
       "      <th>Continent</th>\n",
       "    </tr>\n",
       "  </thead>\n",
       "  <tbody>\n",
       "    <tr>\n",
       "      <th>0</th>\n",
       "      <td>US</td>\n",
       "      <td>97083662</td>\n",
       "      <td>1066584</td>\n",
       "      <td>97023525</td>\n",
       "      <td>1065838</td>\n",
       "      <td>60137</td>\n",
       "      <td>746</td>\n",
       "      <td>1.1</td>\n",
       "      <td>North America</td>\n",
       "    </tr>\n",
       "    <tr>\n",
       "      <th>1</th>\n",
       "      <td>India</td>\n",
       "      <td>44636517</td>\n",
       "      <td>528943</td>\n",
       "      <td>44634376</td>\n",
       "      <td>528923</td>\n",
       "      <td>2141</td>\n",
       "      <td>20</td>\n",
       "      <td>1.2</td>\n",
       "      <td>Asia</td>\n",
       "    </tr>\n",
       "    <tr>\n",
       "      <th>2</th>\n",
       "      <td>France</td>\n",
       "      <td>36636069</td>\n",
       "      <td>157227</td>\n",
       "      <td>36573007</td>\n",
       "      <td>157121</td>\n",
       "      <td>63062</td>\n",
       "      <td>106</td>\n",
       "      <td>0.4</td>\n",
       "      <td>Europe</td>\n",
       "    </tr>\n",
       "    <tr>\n",
       "      <th>3</th>\n",
       "      <td>Germany</td>\n",
       "      <td>35005769</td>\n",
       "      <td>152100</td>\n",
       "      <td>34888963</td>\n",
       "      <td>151877</td>\n",
       "      <td>116806</td>\n",
       "      <td>223</td>\n",
       "      <td>0.4</td>\n",
       "      <td>Europe</td>\n",
       "    </tr>\n",
       "    <tr>\n",
       "      <th>4</th>\n",
       "      <td>Brazil</td>\n",
       "      <td>34771320</td>\n",
       "      <td>687423</td>\n",
       "      <td>34746462</td>\n",
       "      <td>687144</td>\n",
       "      <td>24858</td>\n",
       "      <td>279</td>\n",
       "      <td>2.0</td>\n",
       "      <td>South America</td>\n",
       "    </tr>\n",
       "  </tbody>\n",
       "</table>\n",
       "</div>"
      ],
      "text/plain": [
       "  Country/Region     Cases   Deaths    PCases  PDeaths  Cases (+)  Deaths (+)  \\\n",
       "0             US  97083662  1066584  97023525  1065838      60137         746   \n",
       "1          India  44636517   528943  44634376   528923       2141          20   \n",
       "2         France  36636069   157227  36573007   157121      63062         106   \n",
       "3        Germany  35005769   152100  34888963   151877     116806         223   \n",
       "4         Brazil  34771320   687423  34746462   687144      24858         279   \n",
       "\n",
       "   Fatality Rate      Continent  \n",
       "0            1.1  North America  \n",
       "1            1.2           Asia  \n",
       "2            0.4         Europe  \n",
       "3            0.4         Europe  \n",
       "4            2.0  South America  "
      ]
     },
     "execution_count": 15,
     "metadata": {},
     "output_type": "execute_result"
    }
   ],
   "source": [
    "#hide\n",
    "df_table = (pd.DataFrame(dict(Cases=dfc_cases, Deaths=dfc_deaths, PCases=dfp_cases, PDeaths=dfp_deaths))\n",
    "             .sort_values(by=['Cases', 'Deaths'], ascending=[False, False])\n",
    "             .reset_index())\n",
    "df_table.rename(columns={'index': 'Country/Region'}, inplace=True)\n",
    "for c in 'Cases, Deaths'.split(', '):\n",
    "    df_table[f'{c} (+)'] = (df_table[c] - df_table[f'P{c}']).clip(0)  # DATA BUG\n",
    "df_table['Fatality Rate'] = (100 * df_table['Deaths'] / df_table['Cases']).round(1)\n",
    "df_table['Continent'] = df_table['Country/Region'].map(mapping['map.continent'])\n",
    "df_table.head(5)"
   ]
  },
  {
   "cell_type": "code",
   "execution_count": 16,
   "id": "fewer-occasion",
   "metadata": {
    "execution": {
     "iopub.execute_input": "2022-10-20T12:20:47.076597Z",
     "iopub.status.busy": "2022-10-20T12:20:47.075923Z",
     "iopub.status.idle": "2022-10-20T12:20:47.079241Z",
     "shell.execute_reply": "2022-10-20T12:20:47.078686Z"
    },
    "papermill": {
     "duration": 0.042731,
     "end_time": "2022-10-20T12:20:47.079364",
     "exception": false,
     "start_time": "2022-10-20T12:20:47.036633",
     "status": "completed"
    },
    "tags": []
   },
   "outputs": [],
   "source": [
    "#hide\n",
    "#delete problematic countries from table\n",
    "df_table = df_table[~df_table['Country/Region'].isin(['Cape Verde', 'Cruise Ship', 'Kosovo'])]"
   ]
  },
  {
   "cell_type": "code",
   "execution_count": 17,
   "id": "related-center",
   "metadata": {
    "execution": {
     "iopub.execute_input": "2022-10-20T12:20:47.168328Z",
     "iopub.status.busy": "2022-10-20T12:20:47.167633Z",
     "iopub.status.idle": "2022-10-20T12:20:47.170268Z",
     "shell.execute_reply": "2022-10-20T12:20:47.170753Z"
    },
    "papermill": {
     "duration": 0.057781,
     "end_time": "2022-10-20T12:20:47.170891",
     "exception": false,
     "start_time": "2022-10-20T12:20:47.113110",
     "status": "completed"
    },
    "tags": []
   },
   "outputs": [],
   "source": [
    "#hide\n",
    "metrics = [df_table.columns[index] for index in [1,2,5,6]]\n",
    "# s_china = df_table[df_table['Country/Region'].eq('China')][metrics].sum().add_prefix('China ')\n",
    "s_us = df_table[df_table['Country/Region'].eq('US')][metrics].sum().add_prefix('US ')\n",
    "s_eu = df_table[df_table['Continent'].eq('Europe')][metrics].sum().add_prefix('EU ')\n",
    "s_ind = df_table[df_table['Country/Region'].eq('India')][metrics].sum().add_prefix('India ')\n",
    "summary = {'updated': pd.to_datetime(dt_today), 'since': pd.to_datetime(dt_yday)}\n",
    "summary = {'updated': pd.to_datetime(dt_today), 'since': pd.to_datetime(dt_yday)}\n",
    "summary = {**summary, **df_table[metrics].sum(), **s_ind, **s_us, **s_eu}"
   ]
  },
  {
   "cell_type": "code",
   "execution_count": 18,
   "id": "engaging-syndrome",
   "metadata": {
    "execution": {
     "iopub.execute_input": "2022-10-20T12:20:47.242252Z",
     "iopub.status.busy": "2022-10-20T12:20:47.241609Z",
     "iopub.status.idle": "2022-10-20T12:20:47.265702Z",
     "shell.execute_reply": "2022-10-20T12:20:47.264998Z"
    },
    "papermill": {
     "duration": 0.063099,
     "end_time": "2022-10-20T12:20:47.265852",
     "exception": false,
     "start_time": "2022-10-20T12:20:47.202753",
     "status": "completed"
    },
    "tags": []
   },
   "outputs": [],
   "source": [
    "#hide\n",
    "dft_ct_new_cases = dft_cases.groupby(COL_REGION)[dt_cols].sum().diff(axis=1).fillna(0).astype(int)"
   ]
  },
  {
   "cell_type": "code",
   "execution_count": 19,
   "id": "neutral-assignment",
   "metadata": {
    "execution": {
     "iopub.execute_input": "2022-10-20T12:20:47.341105Z",
     "iopub.status.busy": "2022-10-20T12:20:47.340475Z",
     "iopub.status.idle": "2022-10-20T12:20:47.342943Z",
     "shell.execute_reply": "2022-10-20T12:20:47.342437Z"
    },
    "papermill": {
     "duration": 0.042703,
     "end_time": "2022-10-20T12:20:47.343055",
     "exception": false,
     "start_time": "2022-10-20T12:20:47.300352",
     "status": "completed"
    },
    "tags": []
   },
   "outputs": [],
   "source": [
    "#hide\n",
    "everydaycases = dft_ct_new_cases.cumsum(axis=1)"
   ]
  },
  {
   "cell_type": "code",
   "execution_count": 20,
   "id": "parliamentary-calgary",
   "metadata": {
    "execution": {
     "iopub.execute_input": "2022-10-20T12:20:47.415688Z",
     "iopub.status.busy": "2022-10-20T12:20:47.414998Z",
     "iopub.status.idle": "2022-10-20T12:20:48.041480Z",
     "shell.execute_reply": "2022-10-20T12:20:48.040879Z"
    },
    "papermill": {
     "duration": 0.666118,
     "end_time": "2022-10-20T12:20:48.041644",
     "exception": false,
     "start_time": "2022-10-20T12:20:47.375526",
     "status": "completed"
    },
    "tags": []
   },
   "outputs": [],
   "source": [
    "#hide\n",
    "import pandas as pd\n",
    "import matplotlib.pyplot as plt\n",
    "import matplotlib.ticker as ticker\n",
    "import matplotlib.animation as animation\n",
    "from IPython.display import HTML"
   ]
  },
  {
   "cell_type": "code",
   "execution_count": 21,
   "id": "lasting-extraction",
   "metadata": {
    "execution": {
     "iopub.execute_input": "2022-10-20T12:20:48.120004Z",
     "iopub.status.busy": "2022-10-20T12:20:48.119083Z",
     "iopub.status.idle": "2022-10-20T12:20:48.127456Z",
     "shell.execute_reply": "2022-10-20T12:20:48.126914Z"
    },
    "papermill": {
     "duration": 0.049641,
     "end_time": "2022-10-20T12:20:48.127587",
     "exception": false,
     "start_time": "2022-10-20T12:20:48.077946",
     "status": "completed"
    },
    "tags": []
   },
   "outputs": [],
   "source": [
    "#hide\n",
    "t = everydaycases.stack()"
   ]
  },
  {
   "cell_type": "code",
   "execution_count": 22,
   "id": "premier-sleeve",
   "metadata": {
    "execution": {
     "iopub.execute_input": "2022-10-20T12:20:48.204158Z",
     "iopub.status.busy": "2022-10-20T12:20:48.203475Z",
     "iopub.status.idle": "2022-10-20T12:20:48.218712Z",
     "shell.execute_reply": "2022-10-20T12:20:48.218157Z"
    },
    "papermill": {
     "duration": 0.052817,
     "end_time": "2022-10-20T12:20:48.218836",
     "exception": false,
     "start_time": "2022-10-20T12:20:48.166019",
     "status": "completed"
    },
    "tags": []
   },
   "outputs": [],
   "source": [
    "#hide\n",
    "g = t.reset_index(['Country/Region'])"
   ]
  },
  {
   "cell_type": "code",
   "execution_count": 23,
   "id": "distributed-pittsburgh",
   "metadata": {
    "execution": {
     "iopub.execute_input": "2022-10-20T12:20:48.290267Z",
     "iopub.status.busy": "2022-10-20T12:20:48.289593Z",
     "iopub.status.idle": "2022-10-20T12:20:48.292770Z",
     "shell.execute_reply": "2022-10-20T12:20:48.292216Z"
    },
    "papermill": {
     "duration": 0.040889,
     "end_time": "2022-10-20T12:20:48.292884",
     "exception": false,
     "start_time": "2022-10-20T12:20:48.251995",
     "status": "completed"
    },
    "tags": []
   },
   "outputs": [],
   "source": [
    "#hide\n",
    "g.index.name = 'date'"
   ]
  },
  {
   "cell_type": "code",
   "execution_count": 24,
   "id": "naked-donor",
   "metadata": {
    "execution": {
     "iopub.execute_input": "2022-10-20T12:20:48.364560Z",
     "iopub.status.busy": "2022-10-20T12:20:48.363737Z",
     "iopub.status.idle": "2022-10-20T12:20:48.365789Z",
     "shell.execute_reply": "2022-10-20T12:20:48.366438Z"
    },
    "papermill": {
     "duration": 0.040535,
     "end_time": "2022-10-20T12:20:48.366601",
     "exception": false,
     "start_time": "2022-10-20T12:20:48.326066",
     "status": "completed"
    },
    "tags": []
   },
   "outputs": [],
   "source": [
    "# #hide\n",
    "# g = g.reset_index(['date'])"
   ]
  },
  {
   "cell_type": "code",
   "execution_count": 25,
   "id": "incomplete-mustang",
   "metadata": {
    "execution": {
     "iopub.execute_input": "2022-10-20T12:20:48.438225Z",
     "iopub.status.busy": "2022-10-20T12:20:48.437474Z",
     "iopub.status.idle": "2022-10-20T12:20:48.440264Z",
     "shell.execute_reply": "2022-10-20T12:20:48.439718Z"
    },
    "papermill": {
     "duration": 0.039466,
     "end_time": "2022-10-20T12:20:48.440380",
     "exception": false,
     "start_time": "2022-10-20T12:20:48.400914",
     "status": "completed"
    },
    "tags": []
   },
   "outputs": [],
   "source": [
    "#hide\n",
    "# g.head()"
   ]
  },
  {
   "cell_type": "code",
   "execution_count": 26,
   "id": "specific-kruger",
   "metadata": {
    "execution": {
     "iopub.execute_input": "2022-10-20T12:20:48.510672Z",
     "iopub.status.busy": "2022-10-20T12:20:48.509876Z",
     "iopub.status.idle": "2022-10-20T12:20:48.513095Z",
     "shell.execute_reply": "2022-10-20T12:20:48.512553Z"
    },
    "papermill": {
     "duration": 0.039347,
     "end_time": "2022-10-20T12:20:48.513210",
     "exception": false,
     "start_time": "2022-10-20T12:20:48.473863",
     "status": "completed"
    },
    "tags": []
   },
   "outputs": [],
   "source": [
    "#hide\n",
    "# g.columns = ['date','country','cases']"
   ]
  },
  {
   "cell_type": "code",
   "execution_count": 27,
   "id": "tender-conversion",
   "metadata": {
    "execution": {
     "iopub.execute_input": "2022-10-20T12:20:48.586241Z",
     "iopub.status.busy": "2022-10-20T12:20:48.585389Z",
     "iopub.status.idle": "2022-10-20T12:20:48.587383Z",
     "shell.execute_reply": "2022-10-20T12:20:48.587996Z"
    },
    "papermill": {
     "duration": 0.041142,
     "end_time": "2022-10-20T12:20:48.588154",
     "exception": false,
     "start_time": "2022-10-20T12:20:48.547012",
     "status": "completed"
    },
    "tags": []
   },
   "outputs": [],
   "source": [
    "#hide\n",
    "# g['continent'] = g.country"
   ]
  },
  {
   "cell_type": "code",
   "execution_count": 28,
   "id": "substantial-wilderness",
   "metadata": {
    "execution": {
     "iopub.execute_input": "2022-10-20T12:20:48.661810Z",
     "iopub.status.busy": "2022-10-20T12:20:48.660998Z",
     "iopub.status.idle": "2022-10-20T12:20:48.665304Z",
     "shell.execute_reply": "2022-10-20T12:20:48.664715Z"
    },
    "papermill": {
     "duration": 0.042817,
     "end_time": "2022-10-20T12:20:48.665435",
     "exception": false,
     "start_time": "2022-10-20T12:20:48.622618",
     "status": "completed"
    },
    "tags": []
   },
   "outputs": [],
   "source": [
    "#hide\n",
    "# cols = list(g.columns.values)"
   ]
  },
  {
   "cell_type": "code",
   "execution_count": 29,
   "id": "solved-farming",
   "metadata": {
    "execution": {
     "iopub.execute_input": "2022-10-20T12:20:48.741273Z",
     "iopub.status.busy": "2022-10-20T12:20:48.740447Z",
     "iopub.status.idle": "2022-10-20T12:20:48.744859Z",
     "shell.execute_reply": "2022-10-20T12:20:48.745350Z"
    },
    "papermill": {
     "duration": 0.044933,
     "end_time": "2022-10-20T12:20:48.745498",
     "exception": false,
     "start_time": "2022-10-20T12:20:48.700565",
     "status": "completed"
    },
    "tags": []
   },
   "outputs": [],
   "source": [
    "#hide\n",
    "# cols.insert(0, cols.pop())"
   ]
  },
  {
   "cell_type": "code",
   "execution_count": 30,
   "id": "executed-adoption",
   "metadata": {
    "execution": {
     "iopub.execute_input": "2022-10-20T12:20:48.816745Z",
     "iopub.status.busy": "2022-10-20T12:20:48.816037Z",
     "iopub.status.idle": "2022-10-20T12:20:48.818800Z",
     "shell.execute_reply": "2022-10-20T12:20:48.818234Z"
    },
    "papermill": {
     "duration": 0.039499,
     "end_time": "2022-10-20T12:20:48.818923",
     "exception": false,
     "start_time": "2022-10-20T12:20:48.779424",
     "status": "completed"
    },
    "tags": []
   },
   "outputs": [],
   "source": [
    "#hide\n",
    "# g = g[cols]"
   ]
  },
  {
   "cell_type": "code",
   "execution_count": 31,
   "id": "subject-dublin",
   "metadata": {
    "execution": {
     "iopub.execute_input": "2022-10-20T12:20:48.889703Z",
     "iopub.status.busy": "2022-10-20T12:20:48.888882Z",
     "iopub.status.idle": "2022-10-20T12:20:48.891957Z",
     "shell.execute_reply": "2022-10-20T12:20:48.891188Z"
    },
    "papermill": {
     "duration": 0.038959,
     "end_time": "2022-10-20T12:20:48.892095",
     "exception": false,
     "start_time": "2022-10-20T12:20:48.853136",
     "status": "completed"
    },
    "tags": []
   },
   "outputs": [],
   "source": [
    "#hide\n",
    "# g['continent'] = g['continent'].map(mapping['map.continent'])"
   ]
  },
  {
   "cell_type": "code",
   "execution_count": 32,
   "id": "freelance-scout",
   "metadata": {
    "execution": {
     "iopub.execute_input": "2022-10-20T12:20:48.964040Z",
     "iopub.status.busy": "2022-10-20T12:20:48.963282Z",
     "iopub.status.idle": "2022-10-20T12:20:48.967391Z",
     "shell.execute_reply": "2022-10-20T12:20:48.967873Z"
    },
    "papermill": {
     "duration": 0.041502,
     "end_time": "2022-10-20T12:20:48.968020",
     "exception": false,
     "start_time": "2022-10-20T12:20:48.926518",
     "status": "completed"
    },
    "tags": []
   },
   "outputs": [],
   "source": [
    "#hide\n",
    "# g.head()"
   ]
  },
  {
   "cell_type": "code",
   "execution_count": 33,
   "id": "limited-engine",
   "metadata": {
    "execution": {
     "iopub.execute_input": "2022-10-20T12:20:49.041270Z",
     "iopub.status.busy": "2022-10-20T12:20:49.040525Z",
     "iopub.status.idle": "2022-10-20T12:20:49.043000Z",
     "shell.execute_reply": "2022-10-20T12:20:49.042342Z"
    },
    "papermill": {
     "duration": 0.04095,
     "end_time": "2022-10-20T12:20:49.043122",
     "exception": false,
     "start_time": "2022-10-20T12:20:49.002172",
     "status": "completed"
    },
    "tags": []
   },
   "outputs": [],
   "source": [
    "# hide\n",
    "# g['date'] = g['date'].astype('datetime64[ns]')"
   ]
  },
  {
   "cell_type": "code",
   "execution_count": 34,
   "id": "sophisticated-supervisor",
   "metadata": {
    "execution": {
     "iopub.execute_input": "2022-10-20T12:20:49.115862Z",
     "iopub.status.busy": "2022-10-20T12:20:49.115053Z",
     "iopub.status.idle": "2022-10-20T12:20:49.119230Z",
     "shell.execute_reply": "2022-10-20T12:20:49.119732Z"
    },
    "papermill": {
     "duration": 0.042481,
     "end_time": "2022-10-20T12:20:49.119882",
     "exception": false,
     "start_time": "2022-10-20T12:20:49.077401",
     "status": "completed"
    },
    "tags": []
   },
   "outputs": [],
   "source": [
    "#hide\n",
    "# g['date'] = g.date.dt.dayofyear"
   ]
  },
  {
   "cell_type": "code",
   "execution_count": 35,
   "id": "inside-dubai",
   "metadata": {
    "execution": {
     "iopub.execute_input": "2022-10-20T12:20:49.191821Z",
     "iopub.status.busy": "2022-10-20T12:20:49.191114Z",
     "iopub.status.idle": "2022-10-20T12:20:49.195827Z",
     "shell.execute_reply": "2022-10-20T12:20:49.195290Z"
    },
    "papermill": {
     "duration": 0.042237,
     "end_time": "2022-10-20T12:20:49.195956",
     "exception": false,
     "start_time": "2022-10-20T12:20:49.153719",
     "status": "completed"
    },
    "tags": []
   },
   "outputs": [],
   "source": [
    "#hide\n",
    "# g = g.rename(columns= {'continent':'group','country':'name','cases':'value'})"
   ]
  },
  {
   "cell_type": "code",
   "execution_count": 36,
   "id": "fleet-motorcycle",
   "metadata": {
    "execution": {
     "iopub.execute_input": "2022-10-20T12:20:49.267879Z",
     "iopub.status.busy": "2022-10-20T12:20:49.267187Z",
     "iopub.status.idle": "2022-10-20T12:20:49.269536Z",
     "shell.execute_reply": "2022-10-20T12:20:49.268885Z"
    },
    "papermill": {
     "duration": 0.039609,
     "end_time": "2022-10-20T12:20:49.269701",
     "exception": false,
     "start_time": "2022-10-20T12:20:49.230092",
     "status": "completed"
    },
    "tags": []
   },
   "outputs": [],
   "source": [
    "#hide\n",
    "# cols = ['name','group','day','value']"
   ]
  },
  {
   "cell_type": "code",
   "execution_count": 37,
   "id": "continued-sleeping",
   "metadata": {
    "execution": {
     "iopub.execute_input": "2022-10-20T12:20:49.340277Z",
     "iopub.status.busy": "2022-10-20T12:20:49.339443Z",
     "iopub.status.idle": "2022-10-20T12:20:49.342181Z",
     "shell.execute_reply": "2022-10-20T12:20:49.342663Z"
    },
    "papermill": {
     "duration": 0.0399,
     "end_time": "2022-10-20T12:20:49.342792",
     "exception": false,
     "start_time": "2022-10-20T12:20:49.302892",
     "status": "completed"
    },
    "tags": []
   },
   "outputs": [],
   "source": [
    "#hide\n",
    "# g.rename(columns= {'date':'day'},inplace = True)"
   ]
  },
  {
   "cell_type": "code",
   "execution_count": 38,
   "id": "major-fight",
   "metadata": {
    "execution": {
     "iopub.execute_input": "2022-10-20T12:20:49.412961Z",
     "iopub.status.busy": "2022-10-20T12:20:49.412307Z",
     "iopub.status.idle": "2022-10-20T12:20:49.416744Z",
     "shell.execute_reply": "2022-10-20T12:20:49.416223Z"
    },
    "papermill": {
     "duration": 0.041008,
     "end_time": "2022-10-20T12:20:49.416893",
     "exception": false,
     "start_time": "2022-10-20T12:20:49.375885",
     "status": "completed"
    },
    "tags": []
   },
   "outputs": [],
   "source": [
    "#hide\n",
    "# g = g[cols]"
   ]
  },
  {
   "cell_type": "code",
   "execution_count": 39,
   "id": "structured-mobile",
   "metadata": {
    "execution": {
     "iopub.execute_input": "2022-10-20T12:20:49.485313Z",
     "iopub.status.busy": "2022-10-20T12:20:49.484630Z",
     "iopub.status.idle": "2022-10-20T12:20:49.486800Z",
     "shell.execute_reply": "2022-10-20T12:20:49.486185Z"
    },
    "papermill": {
     "duration": 0.037565,
     "end_time": "2022-10-20T12:20:49.486910",
     "exception": false,
     "start_time": "2022-10-20T12:20:49.449345",
     "status": "completed"
    },
    "tags": []
   },
   "outputs": [],
   "source": [
    "# #hide\n",
    "# g = g[g.group.notna()]"
   ]
  },
  {
   "cell_type": "code",
   "execution_count": 40,
   "id": "determined-closing",
   "metadata": {
    "execution": {
     "iopub.execute_input": "2022-10-20T12:20:49.560509Z",
     "iopub.status.busy": "2022-10-20T12:20:49.559679Z",
     "iopub.status.idle": "2022-10-20T12:20:49.563879Z",
     "shell.execute_reply": "2022-10-20T12:20:49.564494Z"
    },
    "papermill": {
     "duration": 0.043562,
     "end_time": "2022-10-20T12:20:49.564655",
     "exception": false,
     "start_time": "2022-10-20T12:20:49.521093",
     "status": "completed"
    },
    "tags": []
   },
   "outputs": [],
   "source": [
    "# #hide\n",
    "# colors = dict(zip(\n",
    "#     [\"Oceania\", \"Europe\", \"Asia\", \"South America\", \"Middle East\", \"North America\", \"Africa\"],\n",
    "#     [\"#adb0ff\", \"#ffb3ff\", \"#90d595\", \"#e48381\", \"#aafbff\", \"#f7bb5f\", \"#eafb50\"]\n",
    "# ))\n",
    "# group_lk = g.set_index('name')['group'].to_dict()"
   ]
  },
  {
   "cell_type": "code",
   "execution_count": null,
   "id": "gross-drinking",
   "metadata": {
    "papermill": {
     "duration": 0.033004,
     "end_time": "2022-10-20T12:20:49.630328",
     "exception": false,
     "start_time": "2022-10-20T12:20:49.597324",
     "status": "completed"
    },
    "tags": []
   },
   "outputs": [],
   "source": []
  },
  {
   "cell_type": "code",
   "execution_count": 41,
   "id": "subject-macintosh",
   "metadata": {
    "execution": {
     "iopub.execute_input": "2022-10-20T12:20:49.703018Z",
     "iopub.status.busy": "2022-10-20T12:20:49.702154Z",
     "iopub.status.idle": "2022-10-20T12:20:49.704759Z",
     "shell.execute_reply": "2022-10-20T12:20:49.704083Z"
    },
    "papermill": {
     "duration": 0.041056,
     "end_time": "2022-10-20T12:20:49.704910",
     "exception": false,
     "start_time": "2022-10-20T12:20:49.663854",
     "status": "completed"
    },
    "tags": []
   },
   "outputs": [],
   "source": [
    "# #hide\n",
    "# fig, ax = plt.subplots(figsize=(15, 8))\n",
    "\n",
    "# def draw_barchart(current_day):\n",
    "#     dff = g[g['day'].eq(current_day)].sort_values(by='value', ascending=True).tail(10)\n",
    "#     ax.clear()\n",
    "#     ax.barh(dff['name'], dff['value'], color=[colors[group_lk[x]] for x in dff['name']])\n",
    "#     dx = dff['value'].max() / 200\n",
    "    \n",
    "#     for i, (value, name) in enumerate(zip(dff['value'], dff['name'])):\n",
    "#         ax.text(value-dx, i,     name,           size=14, weight=600, ha='right', va='bottom')\n",
    "#         ax.text(value-dx, i-.25, group_lk[name], size=10, color='#444444', ha='right', va='baseline')\n",
    "#         ax.text(value+dx, i,     f'{value:,.0f}',  size=14, ha='left',  va='center')\n",
    "#     ax.text(1, 0.4, current_day, transform=ax.transAxes, color='#777777', size=46, ha='right', weight=800)\n",
    "#     ax.text(0, 1.06, 'Population (thousands)', transform=ax.transAxes, size=12, color='#777777')\n",
    "#     ax.xaxis.set_major_formatter(ticker.StrMethodFormatter('{x:,.0f}'))\n",
    "#     ax.xaxis.set_ticks_position('top')\n",
    "#     ax.tick_params(axis='x', colors='#777777', labelsize=12)\n",
    "#     ax.set_yticks([])\n",
    "#     ax.margins(0, 0.01)\n",
    "#     ax.grid(which='major', axis='x', linestyle='-')\n",
    "#     ax.set_axisbelow(True)\n",
    "    \n",
    "#     ax.text(0, 1.15, 'Coronavirus',\n",
    "#             transform=ax.transAxes, size=24, weight=600, ha='left', va='top')\n",
    "# #     ax.text(1, 0, 'by @pratapvardhan; credit @jburnmurdoch', transform=ax.transAxes, color='#777777', ha='right',\n",
    "# #             bbox=dict(facecolor='white', alpha=0.8, edgecolor='white'))\n",
    "#     plt.box(False)"
   ]
  },
  {
   "cell_type": "code",
   "execution_count": 42,
   "id": "sexual-wages",
   "metadata": {
    "execution": {
     "iopub.execute_input": "2022-10-20T12:20:49.777806Z",
     "iopub.status.busy": "2022-10-20T12:20:49.776938Z",
     "iopub.status.idle": "2022-10-20T12:20:49.779361Z",
     "shell.execute_reply": "2022-10-20T12:20:49.778697Z"
    },
    "papermill": {
     "duration": 0.041076,
     "end_time": "2022-10-20T12:20:49.779483",
     "exception": false,
     "start_time": "2022-10-20T12:20:49.738407",
     "status": "completed"
    },
    "tags": []
   },
   "outputs": [],
   "source": [
    "# #hide_input\n",
    "# fig, ax = plt.subplots(figsize=(15, 8))\n",
    "# animator = animation.FuncAnimation(fig, draw_barchart, frames=range(g.day.values.min(), g.day.values.max()))\n",
    "# HTML(animator.to_jshtml())\n",
    "# # or use animator.to_html5_video() or animator.save() "
   ]
  },
  {
   "cell_type": "code",
   "execution_count": null,
   "id": "australian-container",
   "metadata": {
    "papermill": {
     "duration": 0.033229,
     "end_time": "2022-10-20T12:20:49.845913",
     "exception": false,
     "start_time": "2022-10-20T12:20:49.812684",
     "status": "completed"
    },
    "tags": []
   },
   "outputs": [],
   "source": []
  },
  {
   "cell_type": "code",
   "execution_count": null,
   "id": "mediterranean-pontiac",
   "metadata": {
    "papermill": {
     "duration": 0.033359,
     "end_time": "2022-10-20T12:20:49.913384",
     "exception": false,
     "start_time": "2022-10-20T12:20:49.880025",
     "status": "completed"
    },
    "tags": []
   },
   "outputs": [],
   "source": []
  },
  {
   "cell_type": "code",
   "execution_count": null,
   "id": "aging-legislature",
   "metadata": {
    "papermill": {
     "duration": 0.033726,
     "end_time": "2022-10-20T12:20:49.980184",
     "exception": false,
     "start_time": "2022-10-20T12:20:49.946458",
     "status": "completed"
    },
    "tags": []
   },
   "outputs": [],
   "source": []
  }
 ],
 "metadata": {
  "kernelspec": {
   "display_name": "Python 3",
   "language": "python",
   "name": "python3"
  },
  "language_info": {
   "codemirror_mode": {
    "name": "ipython",
    "version": 3
   },
   "file_extension": ".py",
   "mimetype": "text/x-python",
   "name": "python",
   "nbconvert_exporter": "python",
   "pygments_lexer": "ipython3",
   "version": "3.6.15"
  },
  "papermill": {
   "duration": 6.949321,
   "end_time": "2022-10-20T12:20:50.433368",
   "environment_variables": {},
   "exception": null,
   "input_path": "2020-03-21-covid19exp.ipynb",
   "output_path": "2020-03-21-covid19exp.ipynb",
   "parameters": {},
   "start_time": "2022-10-20T12:20:43.484047",
   "version": "2.0.0"
  }
 },
 "nbformat": 4,
 "nbformat_minor": 5
}