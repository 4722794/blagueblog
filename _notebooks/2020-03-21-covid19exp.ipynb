{
 "cells": [
  {
   "cell_type": "markdown",
   "id": "muslim-click",
   "metadata": {
    "papermill": {
     "duration": 0.04655,
     "end_time": "2021-07-20T12:10:37.807613",
     "exception": false,
     "start_time": "2021-07-20T12:10:37.761063",
     "status": "completed"
    },
    "tags": []
   },
   "source": [
    "# COVID-19 Case Race\n",
    "> A race chart to see rising cases around the world\n",
    "\n",
    "- author: Hargun Oberoi\n",
    "- image: images/covid-overview.png\n",
    "- hide: false\n",
    "- badges: false"
   ]
  },
  {
   "cell_type": "code",
   "execution_count": 1,
   "id": "proof-material",
   "metadata": {
    "execution": {
     "iopub.execute_input": "2021-07-20T12:10:37.895309Z",
     "iopub.status.busy": "2021-07-20T12:10:37.894620Z",
     "iopub.status.idle": "2021-07-20T12:10:38.295063Z",
     "shell.execute_reply": "2021-07-20T12:10:38.294471Z"
    },
    "papermill": {
     "duration": 0.448888,
     "end_time": "2021-07-20T12:10:38.295236",
     "exception": false,
     "start_time": "2021-07-20T12:10:37.846348",
     "status": "completed"
    },
    "tags": []
   },
   "outputs": [],
   "source": [
    "#hide\n",
    "import numpy as np\n",
    "import pandas as pd\n",
    "from jinja2 import Template\n",
    "from IPython.display import HTML"
   ]
  },
  {
   "cell_type": "code",
   "execution_count": 2,
   "id": "developed-terminology",
   "metadata": {
    "execution": {
     "iopub.execute_input": "2021-07-20T12:10:38.377424Z",
     "iopub.status.busy": "2021-07-20T12:10:38.376764Z",
     "iopub.status.idle": "2021-07-20T12:10:38.378573Z",
     "shell.execute_reply": "2021-07-20T12:10:38.379153Z"
    },
    "papermill": {
     "duration": 0.045217,
     "end_time": "2021-07-20T12:10:38.379312",
     "exception": false,
     "start_time": "2021-07-20T12:10:38.334095",
     "status": "completed"
    },
    "tags": []
   },
   "outputs": [],
   "source": [
    "#hide\n",
    "\n",
    "# FETCH\n",
    "base_url = 'https://raw.githubusercontent.com/pratapvardhan/notebooks/master/covid19/'\n",
    "paths = {\n",
    "    'mapping': base_url + 'mapping_countries.csv',\n",
    "    'overview': base_url + 'overview.tpl'\n",
    "}"
   ]
  },
  {
   "cell_type": "code",
   "execution_count": 3,
   "id": "dynamic-saver",
   "metadata": {
    "execution": {
     "iopub.execute_input": "2021-07-20T12:10:38.467614Z",
     "iopub.status.busy": "2021-07-20T12:10:38.466816Z",
     "iopub.status.idle": "2021-07-20T12:10:38.469431Z",
     "shell.execute_reply": "2021-07-20T12:10:38.470134Z"
    },
    "papermill": {
     "duration": 0.052675,
     "end_time": "2021-07-20T12:10:38.470304",
     "exception": false,
     "start_time": "2021-07-20T12:10:38.417629",
     "status": "completed"
    },
    "tags": []
   },
   "outputs": [
    {
     "data": {
      "text/plain": [
       "'https://raw.githubusercontent.com/pratapvardhan/notebooks/master/covid19/mapping_countries.csv'"
      ]
     },
     "execution_count": 3,
     "metadata": {},
     "output_type": "execute_result"
    }
   ],
   "source": [
    "#hide\n",
    "paths['mapping']"
   ]
  },
  {
   "cell_type": "code",
   "execution_count": 4,
   "id": "urban-software",
   "metadata": {
    "execution": {
     "iopub.execute_input": "2021-07-20T12:10:38.560685Z",
     "iopub.status.busy": "2021-07-20T12:10:38.559965Z",
     "iopub.status.idle": "2021-07-20T12:10:38.563241Z",
     "shell.execute_reply": "2021-07-20T12:10:38.562641Z"
    },
    "papermill": {
     "duration": 0.047288,
     "end_time": "2021-07-20T12:10:38.563374",
     "exception": false,
     "start_time": "2021-07-20T12:10:38.516086",
     "status": "completed"
    },
    "tags": []
   },
   "outputs": [],
   "source": [
    "#hide\n",
    "def get_mappings(url):\n",
    "    df = pd.read_csv(url)\n",
    "    return {\n",
    "        'df': df,\n",
    "        'replace.country': dict(df.dropna(subset=['Name']).set_index('Country')['Name']),\n",
    "        'map.continent': dict(df.set_index('Name')['Continent'])\n",
    "    }"
   ]
  },
  {
   "cell_type": "code",
   "execution_count": 5,
   "id": "intimate-machinery",
   "metadata": {
    "execution": {
     "iopub.execute_input": "2021-07-20T12:10:38.646365Z",
     "iopub.status.busy": "2021-07-20T12:10:38.645726Z",
     "iopub.status.idle": "2021-07-20T12:10:38.685404Z",
     "shell.execute_reply": "2021-07-20T12:10:38.685916Z"
    },
    "papermill": {
     "duration": 0.085136,
     "end_time": "2021-07-20T12:10:38.686101",
     "exception": false,
     "start_time": "2021-07-20T12:10:38.600965",
     "status": "completed"
    },
    "tags": []
   },
   "outputs": [],
   "source": [
    "#hide\n",
    "mapping = get_mappings(paths['mapping'])"
   ]
  },
  {
   "cell_type": "code",
   "execution_count": 6,
   "id": "certified-tactics",
   "metadata": {
    "execution": {
     "iopub.execute_input": "2021-07-20T12:10:38.768695Z",
     "iopub.status.busy": "2021-07-20T12:10:38.768016Z",
     "iopub.status.idle": "2021-07-20T12:10:38.770799Z",
     "shell.execute_reply": "2021-07-20T12:10:38.770229Z"
    },
    "papermill": {
     "duration": 0.046384,
     "end_time": "2021-07-20T12:10:38.770927",
     "exception": false,
     "start_time": "2021-07-20T12:10:38.724543",
     "status": "completed"
    },
    "tags": []
   },
   "outputs": [],
   "source": [
    "#hide\n",
    "def get_template(path):\n",
    "    from urllib.parse import urlparse\n",
    "    if bool(urlparse(path).netloc):\n",
    "        from urllib.request import urlopen\n",
    "        return urlopen(path).read().decode('utf8')\n",
    "    return open(path).read()"
   ]
  },
  {
   "cell_type": "code",
   "execution_count": 7,
   "id": "realistic-blast",
   "metadata": {
    "execution": {
     "iopub.execute_input": "2021-07-20T12:10:38.852848Z",
     "iopub.status.busy": "2021-07-20T12:10:38.852173Z",
     "iopub.status.idle": "2021-07-20T12:10:38.855326Z",
     "shell.execute_reply": "2021-07-20T12:10:38.854746Z"
    },
    "papermill": {
     "duration": 0.046139,
     "end_time": "2021-07-20T12:10:38.855456",
     "exception": false,
     "start_time": "2021-07-20T12:10:38.809317",
     "status": "completed"
    },
    "tags": []
   },
   "outputs": [],
   "source": [
    "#hide\n",
    "def get_frame(name):\n",
    "    url = (\n",
    "        'https://raw.githubusercontent.com/CSSEGISandData/COVID-19/master/csse_covid_19_data/'\n",
    "        f'csse_covid_19_time_series/time_series_covid19_{name}_global.csv')\n",
    "    df = pd.read_csv(url)\n",
    "    # rename countries\n",
    "    df['Country/Region'] = df['Country/Region'].replace(mapping['replace.country'])\n",
    "    return df"
   ]
  },
  {
   "cell_type": "code",
   "execution_count": 8,
   "id": "affiliated-characterization",
   "metadata": {
    "execution": {
     "iopub.execute_input": "2021-07-20T12:10:38.937681Z",
     "iopub.status.busy": "2021-07-20T12:10:38.937010Z",
     "iopub.status.idle": "2021-07-20T12:10:38.939399Z",
     "shell.execute_reply": "2021-07-20T12:10:38.938719Z"
    },
    "papermill": {
     "duration": 0.047061,
     "end_time": "2021-07-20T12:10:38.939546",
     "exception": false,
     "start_time": "2021-07-20T12:10:38.892485",
     "status": "completed"
    },
    "tags": []
   },
   "outputs": [],
   "source": [
    "#hide\n",
    "def get_dates(df):\n",
    "    dt_cols = df.columns[~df.columns.isin(['Province/State', 'Country/Region', 'Lat', 'Long'])]\n",
    "    LAST_DATE_I = -1\n",
    "    # sometimes last column may be empty, then go backwards\n",
    "    for i in range(-1, -len(dt_cols), -1):\n",
    "        if not df[dt_cols[i]].fillna(0).eq(0).all():\n",
    "            LAST_DATE_I = i\n",
    "            break\n",
    "    return LAST_DATE_I, dt_cols"
   ]
  },
  {
   "cell_type": "code",
   "execution_count": 9,
   "id": "recent-optimization",
   "metadata": {
    "execution": {
     "iopub.execute_input": "2021-07-20T12:10:39.022435Z",
     "iopub.status.busy": "2021-07-20T12:10:39.021762Z",
     "iopub.status.idle": "2021-07-20T12:10:39.442629Z",
     "shell.execute_reply": "2021-07-20T12:10:39.442036Z"
    },
    "papermill": {
     "duration": 0.464604,
     "end_time": "2021-07-20T12:10:39.442775",
     "exception": false,
     "start_time": "2021-07-20T12:10:38.978171",
     "status": "completed"
    },
    "tags": []
   },
   "outputs": [],
   "source": [
    "#hide\n",
    "COL_REGION = 'Country/Region'\n",
    "# Confirmed, Recovered, Deaths\n",
    "df = get_frame('confirmed')\n",
    "# dft_: timeseries, dfc_: today country agg\n",
    "dft_cases = df\n",
    "dft_deaths = get_frame('deaths')\n",
    "dft_recovered = get_frame('recovered')\n",
    "LAST_DATE_I, dt_cols = get_dates(df)"
   ]
  },
  {
   "cell_type": "code",
   "execution_count": 10,
   "id": "absolute-copper",
   "metadata": {
    "execution": {
     "iopub.execute_input": "2021-07-20T12:10:39.528295Z",
     "iopub.status.busy": "2021-07-20T12:10:39.527640Z",
     "iopub.status.idle": "2021-07-20T12:10:39.530086Z",
     "shell.execute_reply": "2021-07-20T12:10:39.529446Z"
    },
    "papermill": {
     "duration": 0.048551,
     "end_time": "2021-07-20T12:10:39.530216",
     "exception": false,
     "start_time": "2021-07-20T12:10:39.481665",
     "status": "completed"
    },
    "tags": []
   },
   "outputs": [],
   "source": [
    "#hide\n",
    "LAST_DATE_I, dt_cols = get_dates(df)\n",
    "dt_today =dt_cols[LAST_DATE_I]\n",
    "# dt_5day = dt_cols[LAST_DATE_I - 5]\n",
    "dt_yday = dt_cols[LAST_DATE_I - 1]"
   ]
  },
  {
   "cell_type": "code",
   "execution_count": 11,
   "id": "restricted-sheriff",
   "metadata": {
    "execution": {
     "iopub.execute_input": "2021-07-20T12:10:39.613481Z",
     "iopub.status.busy": "2021-07-20T12:10:39.612819Z",
     "iopub.status.idle": "2021-07-20T12:10:39.621165Z",
     "shell.execute_reply": "2021-07-20T12:10:39.620631Z"
    },
    "papermill": {
     "duration": 0.052793,
     "end_time": "2021-07-20T12:10:39.621299",
     "exception": false,
     "start_time": "2021-07-20T12:10:39.568506",
     "status": "completed"
    },
    "tags": []
   },
   "outputs": [],
   "source": [
    "#hide\n",
    "dfc_cases = dft_cases.groupby(COL_REGION)[dt_today].sum()\n",
    "dfc_deaths = dft_deaths.groupby(COL_REGION)[dt_today].sum()\n",
    "# dfp_cases = dft_cases.groupby(COL_REGION)[dt_5day].sum()\n",
    "# dfp_deaths = dft_deaths.groupby(COL_REGION)[dt_5day].sum()\n",
    "dfp_cases = dft_cases.groupby(COL_REGION)[dt_yday].sum()\n",
    "dfp_deaths = dft_deaths.groupby(COL_REGION)[dt_yday].sum()"
   ]
  },
  {
   "cell_type": "code",
   "execution_count": 12,
   "id": "deluxe-hepatitis",
   "metadata": {
    "execution": {
     "iopub.execute_input": "2021-07-20T12:10:39.705556Z",
     "iopub.status.busy": "2021-07-20T12:10:39.704908Z",
     "iopub.status.idle": "2021-07-20T12:10:39.709585Z",
     "shell.execute_reply": "2021-07-20T12:10:39.710200Z"
    },
    "papermill": {
     "duration": 0.048807,
     "end_time": "2021-07-20T12:10:39.710360",
     "exception": false,
     "start_time": "2021-07-20T12:10:39.661553",
     "status": "completed"
    },
    "tags": []
   },
   "outputs": [],
   "source": [
    "#hide\n",
    "df_table = (pd.DataFrame(dict(Cases = dfc_cases, Deaths = dfc_deaths, PCases = dfp_cases, PDeaths = dfp_deaths))\n",
    "            .sort_values(by = ['Cases','Deaths'], ascending = [False, False])\n",
    "            .reset_index())"
   ]
  },
  {
   "cell_type": "code",
   "execution_count": 13,
   "id": "educational-chancellor",
   "metadata": {
    "execution": {
     "iopub.execute_input": "2021-07-20T12:10:39.806903Z",
     "iopub.status.busy": "2021-07-20T12:10:39.806279Z",
     "iopub.status.idle": "2021-07-20T12:10:39.814916Z",
     "shell.execute_reply": "2021-07-20T12:10:39.815595Z"
    },
    "papermill": {
     "duration": 0.067172,
     "end_time": "2021-07-20T12:10:39.815739",
     "exception": false,
     "start_time": "2021-07-20T12:10:39.748567",
     "status": "completed"
    },
    "tags": []
   },
   "outputs": [
    {
     "data": {
      "text/html": [
       "<div>\n",
       "<style scoped>\n",
       "    .dataframe tbody tr th:only-of-type {\n",
       "        vertical-align: middle;\n",
       "    }\n",
       "\n",
       "    .dataframe tbody tr th {\n",
       "        vertical-align: top;\n",
       "    }\n",
       "\n",
       "    .dataframe thead th {\n",
       "        text-align: right;\n",
       "    }\n",
       "</style>\n",
       "<table border=\"1\" class=\"dataframe\">\n",
       "  <thead>\n",
       "    <tr style=\"text-align: right;\">\n",
       "      <th></th>\n",
       "      <th>Country/Region</th>\n",
       "      <th>Cases</th>\n",
       "      <th>Deaths</th>\n",
       "      <th>PCases</th>\n",
       "      <th>PDeaths</th>\n",
       "      <th>Cases (+)</th>\n",
       "      <th>Deaths (+)</th>\n",
       "      <th>Fatality Rate</th>\n",
       "      <th>Continent</th>\n",
       "    </tr>\n",
       "  </thead>\n",
       "  <tbody>\n",
       "    <tr>\n",
       "      <th>0</th>\n",
       "      <td>US</td>\n",
       "      <td>34132071</td>\n",
       "      <td>609231</td>\n",
       "      <td>34079960</td>\n",
       "      <td>609019</td>\n",
       "      <td>52111</td>\n",
       "      <td>212</td>\n",
       "      <td>1.78</td>\n",
       "      <td>North America</td>\n",
       "    </tr>\n",
       "    <tr>\n",
       "      <th>1</th>\n",
       "      <td>India</td>\n",
       "      <td>31174322</td>\n",
       "      <td>414482</td>\n",
       "      <td>31144229</td>\n",
       "      <td>414108</td>\n",
       "      <td>30093</td>\n",
       "      <td>374</td>\n",
       "      <td>1.33</td>\n",
       "      <td>Asia</td>\n",
       "    </tr>\n",
       "    <tr>\n",
       "      <th>2</th>\n",
       "      <td>Brazil</td>\n",
       "      <td>19391845</td>\n",
       "      <td>542756</td>\n",
       "      <td>19376574</td>\n",
       "      <td>542214</td>\n",
       "      <td>15271</td>\n",
       "      <td>542</td>\n",
       "      <td>2.80</td>\n",
       "      <td>South America</td>\n",
       "    </tr>\n",
       "    <tr>\n",
       "      <th>3</th>\n",
       "      <td>France</td>\n",
       "      <td>5934122</td>\n",
       "      <td>111682</td>\n",
       "      <td>5929929</td>\n",
       "      <td>111662</td>\n",
       "      <td>4193</td>\n",
       "      <td>20</td>\n",
       "      <td>1.88</td>\n",
       "      <td>Europe</td>\n",
       "    </tr>\n",
       "    <tr>\n",
       "      <th>4</th>\n",
       "      <td>Russia</td>\n",
       "      <td>5908691</td>\n",
       "      <td>146686</td>\n",
       "      <td>5884593</td>\n",
       "      <td>145975</td>\n",
       "      <td>24098</td>\n",
       "      <td>711</td>\n",
       "      <td>2.48</td>\n",
       "      <td>Europe</td>\n",
       "    </tr>\n",
       "  </tbody>\n",
       "</table>\n",
       "</div>"
      ],
      "text/plain": [
       "  Country/Region     Cases  Deaths    PCases  PDeaths  Cases (+)  Deaths (+)  \\\n",
       "0             US  34132071  609231  34079960   609019      52111         212   \n",
       "1          India  31174322  414482  31144229   414108      30093         374   \n",
       "2         Brazil  19391845  542756  19376574   542214      15271         542   \n",
       "3         France   5934122  111682   5929929   111662       4193          20   \n",
       "4         Russia   5908691  146686   5884593   145975      24098         711   \n",
       "\n",
       "   Fatality Rate      Continent  \n",
       "0           1.78  North America  \n",
       "1           1.33           Asia  \n",
       "2           2.80  South America  \n",
       "3           1.88         Europe  \n",
       "4           2.48         Europe  "
      ]
     },
     "execution_count": 13,
     "metadata": {},
     "output_type": "execute_result"
    }
   ],
   "source": [
    "#hide\n",
    "for c in 'Cases, Deaths'.split(', '):\n",
    "    df_table[f'{c} (+)'] = (df_table[c] - df_table[f'P{c}']).clip(0)\n",
    "    #Clip ça veut dire, les chiffres negatif sont interdit\n",
    "df_table['Fatality Rate'] = (100* df_table['Deaths']/ df_table['Cases']).round(2)\n",
    "df_table['Continent'] = df_table['Country/Region'].map(mapping['map.continent'])\n",
    "df_table.head(5)"
   ]
  },
  {
   "cell_type": "code",
   "execution_count": 14,
   "id": "aboriginal-bulgaria",
   "metadata": {
    "execution": {
     "iopub.execute_input": "2021-07-20T12:10:39.898677Z",
     "iopub.status.busy": "2021-07-20T12:10:39.898011Z",
     "iopub.status.idle": "2021-07-20T12:10:39.899885Z",
     "shell.execute_reply": "2021-07-20T12:10:39.900455Z"
    },
    "papermill": {
     "duration": 0.047093,
     "end_time": "2021-07-20T12:10:39.900613",
     "exception": false,
     "start_time": "2021-07-20T12:10:39.853520",
     "status": "completed"
    },
    "tags": []
   },
   "outputs": [],
   "source": [
    "#hide\n",
    "#delete problematic countries from table\n",
    "df_table = df_table[~df_table['Country/Region'].isin(['Cape Verde', 'Cruise Ship', 'Kosovo'])]"
   ]
  },
  {
   "cell_type": "code",
   "execution_count": 15,
   "id": "fantastic-effect",
   "metadata": {
    "execution": {
     "iopub.execute_input": "2021-07-20T12:10:39.997407Z",
     "iopub.status.busy": "2021-07-20T12:10:39.995351Z",
     "iopub.status.idle": "2021-07-20T12:10:40.015145Z",
     "shell.execute_reply": "2021-07-20T12:10:40.015743Z"
    },
    "papermill": {
     "duration": 0.074414,
     "end_time": "2021-07-20T12:10:40.015894",
     "exception": false,
     "start_time": "2021-07-20T12:10:39.941480",
     "status": "completed"
    },
    "tags": []
   },
   "outputs": [
    {
     "data": {
      "text/html": [
       "<div>\n",
       "<style scoped>\n",
       "    .dataframe tbody tr th:only-of-type {\n",
       "        vertical-align: middle;\n",
       "    }\n",
       "\n",
       "    .dataframe tbody tr th {\n",
       "        vertical-align: top;\n",
       "    }\n",
       "\n",
       "    .dataframe thead th {\n",
       "        text-align: right;\n",
       "    }\n",
       "</style>\n",
       "<table border=\"1\" class=\"dataframe\">\n",
       "  <thead>\n",
       "    <tr style=\"text-align: right;\">\n",
       "      <th></th>\n",
       "      <th>Country/Region</th>\n",
       "      <th>Cases</th>\n",
       "      <th>Deaths</th>\n",
       "      <th>PCases</th>\n",
       "      <th>PDeaths</th>\n",
       "      <th>Cases (+)</th>\n",
       "      <th>Deaths (+)</th>\n",
       "      <th>Fatality Rate</th>\n",
       "      <th>Continent</th>\n",
       "    </tr>\n",
       "  </thead>\n",
       "  <tbody>\n",
       "    <tr>\n",
       "      <th>0</th>\n",
       "      <td>US</td>\n",
       "      <td>34132071</td>\n",
       "      <td>609231</td>\n",
       "      <td>34079960</td>\n",
       "      <td>609019</td>\n",
       "      <td>52111</td>\n",
       "      <td>212</td>\n",
       "      <td>1.8</td>\n",
       "      <td>North America</td>\n",
       "    </tr>\n",
       "    <tr>\n",
       "      <th>1</th>\n",
       "      <td>India</td>\n",
       "      <td>31174322</td>\n",
       "      <td>414482</td>\n",
       "      <td>31144229</td>\n",
       "      <td>414108</td>\n",
       "      <td>30093</td>\n",
       "      <td>374</td>\n",
       "      <td>1.3</td>\n",
       "      <td>Asia</td>\n",
       "    </tr>\n",
       "    <tr>\n",
       "      <th>2</th>\n",
       "      <td>Brazil</td>\n",
       "      <td>19391845</td>\n",
       "      <td>542756</td>\n",
       "      <td>19376574</td>\n",
       "      <td>542214</td>\n",
       "      <td>15271</td>\n",
       "      <td>542</td>\n",
       "      <td>2.8</td>\n",
       "      <td>South America</td>\n",
       "    </tr>\n",
       "    <tr>\n",
       "      <th>3</th>\n",
       "      <td>France</td>\n",
       "      <td>5934122</td>\n",
       "      <td>111682</td>\n",
       "      <td>5929929</td>\n",
       "      <td>111662</td>\n",
       "      <td>4193</td>\n",
       "      <td>20</td>\n",
       "      <td>1.9</td>\n",
       "      <td>Europe</td>\n",
       "    </tr>\n",
       "    <tr>\n",
       "      <th>4</th>\n",
       "      <td>Russia</td>\n",
       "      <td>5908691</td>\n",
       "      <td>146686</td>\n",
       "      <td>5884593</td>\n",
       "      <td>145975</td>\n",
       "      <td>24098</td>\n",
       "      <td>711</td>\n",
       "      <td>2.5</td>\n",
       "      <td>Europe</td>\n",
       "    </tr>\n",
       "  </tbody>\n",
       "</table>\n",
       "</div>"
      ],
      "text/plain": [
       "  Country/Region     Cases  Deaths    PCases  PDeaths  Cases (+)  Deaths (+)  \\\n",
       "0             US  34132071  609231  34079960   609019      52111         212   \n",
       "1          India  31174322  414482  31144229   414108      30093         374   \n",
       "2         Brazil  19391845  542756  19376574   542214      15271         542   \n",
       "3         France   5934122  111682   5929929   111662       4193          20   \n",
       "4         Russia   5908691  146686   5884593   145975      24098         711   \n",
       "\n",
       "   Fatality Rate      Continent  \n",
       "0            1.8  North America  \n",
       "1            1.3           Asia  \n",
       "2            2.8  South America  \n",
       "3            1.9         Europe  \n",
       "4            2.5         Europe  "
      ]
     },
     "execution_count": 15,
     "metadata": {},
     "output_type": "execute_result"
    }
   ],
   "source": [
    "#hide\n",
    "df_table = (pd.DataFrame(dict(Cases=dfc_cases, Deaths=dfc_deaths, PCases=dfp_cases, PDeaths=dfp_deaths))\n",
    "             .sort_values(by=['Cases', 'Deaths'], ascending=[False, False])\n",
    "             .reset_index())\n",
    "df_table.rename(columns={'index': 'Country/Region'}, inplace=True)\n",
    "for c in 'Cases, Deaths'.split(', '):\n",
    "    df_table[f'{c} (+)'] = (df_table[c] - df_table[f'P{c}']).clip(0)  # DATA BUG\n",
    "df_table['Fatality Rate'] = (100 * df_table['Deaths'] / df_table['Cases']).round(1)\n",
    "df_table['Continent'] = df_table['Country/Region'].map(mapping['map.continent'])\n",
    "df_table.head(5)"
   ]
  },
  {
   "cell_type": "code",
   "execution_count": 16,
   "id": "fewer-occasion",
   "metadata": {
    "execution": {
     "iopub.execute_input": "2021-07-20T12:10:40.108638Z",
     "iopub.status.busy": "2021-07-20T12:10:40.107994Z",
     "iopub.status.idle": "2021-07-20T12:10:40.110341Z",
     "shell.execute_reply": "2021-07-20T12:10:40.109795Z"
    },
    "papermill": {
     "duration": 0.048448,
     "end_time": "2021-07-20T12:10:40.110483",
     "exception": false,
     "start_time": "2021-07-20T12:10:40.062035",
     "status": "completed"
    },
    "tags": []
   },
   "outputs": [],
   "source": [
    "#hide\n",
    "#delete problematic countries from table\n",
    "df_table = df_table[~df_table['Country/Region'].isin(['Cape Verde', 'Cruise Ship', 'Kosovo'])]"
   ]
  },
  {
   "cell_type": "code",
   "execution_count": 17,
   "id": "related-center",
   "metadata": {
    "execution": {
     "iopub.execute_input": "2021-07-20T12:10:40.212103Z",
     "iopub.status.busy": "2021-07-20T12:10:40.211395Z",
     "iopub.status.idle": "2021-07-20T12:10:40.213837Z",
     "shell.execute_reply": "2021-07-20T12:10:40.214328Z"
    },
    "papermill": {
     "duration": 0.062102,
     "end_time": "2021-07-20T12:10:40.214498",
     "exception": false,
     "start_time": "2021-07-20T12:10:40.152396",
     "status": "completed"
    },
    "tags": []
   },
   "outputs": [],
   "source": [
    "#hide\n",
    "metrics = [df_table.columns[index] for index in [1,2,5,6]]\n",
    "# s_china = df_table[df_table['Country/Region'].eq('China')][metrics].sum().add_prefix('China ')\n",
    "s_us = df_table[df_table['Country/Region'].eq('US')][metrics].sum().add_prefix('US ')\n",
    "s_eu = df_table[df_table['Continent'].eq('Europe')][metrics].sum().add_prefix('EU ')\n",
    "s_ind = df_table[df_table['Country/Region'].eq('India')][metrics].sum().add_prefix('India ')\n",
    "summary = {'updated': pd.to_datetime(dt_today), 'since': pd.to_datetime(dt_yday)}\n",
    "summary = {'updated': pd.to_datetime(dt_today), 'since': pd.to_datetime(dt_yday)}\n",
    "summary = {**summary, **df_table[metrics].sum(), **s_ind, **s_us, **s_eu}"
   ]
  },
  {
   "cell_type": "code",
   "execution_count": 18,
   "id": "engaging-syndrome",
   "metadata": {
    "execution": {
     "iopub.execute_input": "2021-07-20T12:10:40.297817Z",
     "iopub.status.busy": "2021-07-20T12:10:40.297149Z",
     "iopub.status.idle": "2021-07-20T12:10:40.311381Z",
     "shell.execute_reply": "2021-07-20T12:10:40.310786Z"
    },
    "papermill": {
     "duration": 0.058342,
     "end_time": "2021-07-20T12:10:40.311532",
     "exception": false,
     "start_time": "2021-07-20T12:10:40.253190",
     "status": "completed"
    },
    "tags": []
   },
   "outputs": [],
   "source": [
    "#hide\n",
    "dft_ct_new_cases = dft_cases.groupby(COL_REGION)[dt_cols].sum().diff(axis=1).fillna(0).astype(int)"
   ]
  },
  {
   "cell_type": "code",
   "execution_count": 19,
   "id": "neutral-assignment",
   "metadata": {
    "execution": {
     "iopub.execute_input": "2021-07-20T12:10:40.396735Z",
     "iopub.status.busy": "2021-07-20T12:10:40.395943Z",
     "iopub.status.idle": "2021-07-20T12:10:40.398286Z",
     "shell.execute_reply": "2021-07-20T12:10:40.398850Z"
    },
    "papermill": {
     "duration": 0.048583,
     "end_time": "2021-07-20T12:10:40.399012",
     "exception": false,
     "start_time": "2021-07-20T12:10:40.350429",
     "status": "completed"
    },
    "tags": []
   },
   "outputs": [],
   "source": [
    "#hide\n",
    "everydaycases = dft_ct_new_cases.cumsum(axis=1)"
   ]
  },
  {
   "cell_type": "code",
   "execution_count": 20,
   "id": "parliamentary-calgary",
   "metadata": {
    "execution": {
     "iopub.execute_input": "2021-07-20T12:10:40.484432Z",
     "iopub.status.busy": "2021-07-20T12:10:40.483783Z",
     "iopub.status.idle": "2021-07-20T12:10:41.192349Z",
     "shell.execute_reply": "2021-07-20T12:10:41.191785Z"
    },
    "papermill": {
     "duration": 0.753783,
     "end_time": "2021-07-20T12:10:41.192499",
     "exception": false,
     "start_time": "2021-07-20T12:10:40.438716",
     "status": "completed"
    },
    "tags": []
   },
   "outputs": [],
   "source": [
    "#hide\n",
    "import pandas as pd\n",
    "import matplotlib.pyplot as plt\n",
    "import matplotlib.ticker as ticker\n",
    "import matplotlib.animation as animation\n",
    "from IPython.display import HTML"
   ]
  },
  {
   "cell_type": "code",
   "execution_count": 21,
   "id": "lasting-extraction",
   "metadata": {
    "execution": {
     "iopub.execute_input": "2021-07-20T12:10:41.278611Z",
     "iopub.status.busy": "2021-07-20T12:10:41.277960Z",
     "iopub.status.idle": "2021-07-20T12:10:41.290241Z",
     "shell.execute_reply": "2021-07-20T12:10:41.290781Z"
    },
    "papermill": {
     "duration": 0.057887,
     "end_time": "2021-07-20T12:10:41.290949",
     "exception": false,
     "start_time": "2021-07-20T12:10:41.233062",
     "status": "completed"
    },
    "tags": []
   },
   "outputs": [],
   "source": [
    "#hide\n",
    "t = everydaycases.stack()"
   ]
  },
  {
   "cell_type": "code",
   "execution_count": 22,
   "id": "premier-sleeve",
   "metadata": {
    "execution": {
     "iopub.execute_input": "2021-07-20T12:10:41.374256Z",
     "iopub.status.busy": "2021-07-20T12:10:41.373588Z",
     "iopub.status.idle": "2021-07-20T12:10:41.383456Z",
     "shell.execute_reply": "2021-07-20T12:10:41.384009Z"
    },
    "papermill": {
     "duration": 0.054366,
     "end_time": "2021-07-20T12:10:41.384183",
     "exception": false,
     "start_time": "2021-07-20T12:10:41.329817",
     "status": "completed"
    },
    "tags": []
   },
   "outputs": [],
   "source": [
    "#hide\n",
    "g = t.reset_index(['Country/Region'])"
   ]
  },
  {
   "cell_type": "code",
   "execution_count": 23,
   "id": "distributed-pittsburgh",
   "metadata": {
    "execution": {
     "iopub.execute_input": "2021-07-20T12:10:41.468516Z",
     "iopub.status.busy": "2021-07-20T12:10:41.467868Z",
     "iopub.status.idle": "2021-07-20T12:10:41.470305Z",
     "shell.execute_reply": "2021-07-20T12:10:41.469756Z"
    },
    "papermill": {
     "duration": 0.04663,
     "end_time": "2021-07-20T12:10:41.470442",
     "exception": false,
     "start_time": "2021-07-20T12:10:41.423812",
     "status": "completed"
    },
    "tags": []
   },
   "outputs": [],
   "source": [
    "#hide\n",
    "g.index.name = 'date'"
   ]
  },
  {
   "cell_type": "code",
   "execution_count": 24,
   "id": "naked-donor",
   "metadata": {
    "execution": {
     "iopub.execute_input": "2021-07-20T12:10:41.556854Z",
     "iopub.status.busy": "2021-07-20T12:10:41.555114Z",
     "iopub.status.idle": "2021-07-20T12:10:41.557675Z",
     "shell.execute_reply": "2021-07-20T12:10:41.558196Z"
    },
    "papermill": {
     "duration": 0.048491,
     "end_time": "2021-07-20T12:10:41.558347",
     "exception": false,
     "start_time": "2021-07-20T12:10:41.509856",
     "status": "completed"
    },
    "tags": []
   },
   "outputs": [],
   "source": [
    "# #hide\n",
    "# g = g.reset_index(['date'])"
   ]
  },
  {
   "cell_type": "code",
   "execution_count": 25,
   "id": "incomplete-mustang",
   "metadata": {
    "execution": {
     "iopub.execute_input": "2021-07-20T12:10:41.642358Z",
     "iopub.status.busy": "2021-07-20T12:10:41.641691Z",
     "iopub.status.idle": "2021-07-20T12:10:41.644229Z",
     "shell.execute_reply": "2021-07-20T12:10:41.643518Z"
    },
    "papermill": {
     "duration": 0.046544,
     "end_time": "2021-07-20T12:10:41.644362",
     "exception": false,
     "start_time": "2021-07-20T12:10:41.597818",
     "status": "completed"
    },
    "tags": []
   },
   "outputs": [],
   "source": [
    "#hide\n",
    "# g.head()"
   ]
  },
  {
   "cell_type": "code",
   "execution_count": 26,
   "id": "specific-kruger",
   "metadata": {
    "execution": {
     "iopub.execute_input": "2021-07-20T12:10:41.729092Z",
     "iopub.status.busy": "2021-07-20T12:10:41.727819Z",
     "iopub.status.idle": "2021-07-20T12:10:41.730657Z",
     "shell.execute_reply": "2021-07-20T12:10:41.731199Z"
    },
    "papermill": {
     "duration": 0.047483,
     "end_time": "2021-07-20T12:10:41.731357",
     "exception": false,
     "start_time": "2021-07-20T12:10:41.683874",
     "status": "completed"
    },
    "tags": []
   },
   "outputs": [],
   "source": [
    "#hide\n",
    "# g.columns = ['date','country','cases']"
   ]
  },
  {
   "cell_type": "code",
   "execution_count": 27,
   "id": "tender-conversion",
   "metadata": {
    "execution": {
     "iopub.execute_input": "2021-07-20T12:10:41.813306Z",
     "iopub.status.busy": "2021-07-20T12:10:41.812587Z",
     "iopub.status.idle": "2021-07-20T12:10:41.814950Z",
     "shell.execute_reply": "2021-07-20T12:10:41.814366Z"
    },
    "papermill": {
     "duration": 0.044687,
     "end_time": "2021-07-20T12:10:41.815095",
     "exception": false,
     "start_time": "2021-07-20T12:10:41.770408",
     "status": "completed"
    },
    "tags": []
   },
   "outputs": [],
   "source": [
    "#hide\n",
    "# g['continent'] = g.country"
   ]
  },
  {
   "cell_type": "code",
   "execution_count": 28,
   "id": "substantial-wilderness",
   "metadata": {
    "execution": {
     "iopub.execute_input": "2021-07-20T12:10:41.898511Z",
     "iopub.status.busy": "2021-07-20T12:10:41.897849Z",
     "iopub.status.idle": "2021-07-20T12:10:41.900195Z",
     "shell.execute_reply": "2021-07-20T12:10:41.901074Z"
    },
    "papermill": {
     "duration": 0.046569,
     "end_time": "2021-07-20T12:10:41.901257",
     "exception": false,
     "start_time": "2021-07-20T12:10:41.854688",
     "status": "completed"
    },
    "tags": []
   },
   "outputs": [],
   "source": [
    "#hide\n",
    "# cols = list(g.columns.values)"
   ]
  },
  {
   "cell_type": "code",
   "execution_count": 29,
   "id": "solved-farming",
   "metadata": {
    "execution": {
     "iopub.execute_input": "2021-07-20T12:10:41.986037Z",
     "iopub.status.busy": "2021-07-20T12:10:41.985375Z",
     "iopub.status.idle": "2021-07-20T12:10:41.987458Z",
     "shell.execute_reply": "2021-07-20T12:10:41.988017Z"
    },
    "papermill": {
     "duration": 0.046067,
     "end_time": "2021-07-20T12:10:41.988177",
     "exception": false,
     "start_time": "2021-07-20T12:10:41.942110",
     "status": "completed"
    },
    "tags": []
   },
   "outputs": [],
   "source": [
    "#hide\n",
    "# cols.insert(0, cols.pop())"
   ]
  },
  {
   "cell_type": "code",
   "execution_count": 30,
   "id": "executed-adoption",
   "metadata": {
    "execution": {
     "iopub.execute_input": "2021-07-20T12:10:42.072021Z",
     "iopub.status.busy": "2021-07-20T12:10:42.071354Z",
     "iopub.status.idle": "2021-07-20T12:10:42.072990Z",
     "shell.execute_reply": "2021-07-20T12:10:42.073593Z"
    },
    "papermill": {
     "duration": 0.045685,
     "end_time": "2021-07-20T12:10:42.073735",
     "exception": false,
     "start_time": "2021-07-20T12:10:42.028050",
     "status": "completed"
    },
    "tags": []
   },
   "outputs": [],
   "source": [
    "#hide\n",
    "# g = g[cols]"
   ]
  },
  {
   "cell_type": "code",
   "execution_count": 31,
   "id": "subject-dublin",
   "metadata": {
    "execution": {
     "iopub.execute_input": "2021-07-20T12:10:42.158906Z",
     "iopub.status.busy": "2021-07-20T12:10:42.158268Z",
     "iopub.status.idle": "2021-07-20T12:10:42.160124Z",
     "shell.execute_reply": "2021-07-20T12:10:42.160694Z"
    },
    "papermill": {
     "duration": 0.047643,
     "end_time": "2021-07-20T12:10:42.160836",
     "exception": false,
     "start_time": "2021-07-20T12:10:42.113193",
     "status": "completed"
    },
    "tags": []
   },
   "outputs": [],
   "source": [
    "#hide\n",
    "# g['continent'] = g['continent'].map(mapping['map.continent'])"
   ]
  },
  {
   "cell_type": "code",
   "execution_count": 32,
   "id": "freelance-scout",
   "metadata": {
    "execution": {
     "iopub.execute_input": "2021-07-20T12:10:42.245956Z",
     "iopub.status.busy": "2021-07-20T12:10:42.245296Z",
     "iopub.status.idle": "2021-07-20T12:10:42.247740Z",
     "shell.execute_reply": "2021-07-20T12:10:42.247194Z"
    },
    "papermill": {
     "duration": 0.047601,
     "end_time": "2021-07-20T12:10:42.247876",
     "exception": false,
     "start_time": "2021-07-20T12:10:42.200275",
     "status": "completed"
    },
    "tags": []
   },
   "outputs": [],
   "source": [
    "#hide\n",
    "# g.head()"
   ]
  },
  {
   "cell_type": "code",
   "execution_count": 33,
   "id": "limited-engine",
   "metadata": {
    "execution": {
     "iopub.execute_input": "2021-07-20T12:10:42.330852Z",
     "iopub.status.busy": "2021-07-20T12:10:42.330204Z",
     "iopub.status.idle": "2021-07-20T12:10:42.332919Z",
     "shell.execute_reply": "2021-07-20T12:10:42.332265Z"
    },
    "papermill": {
     "duration": 0.045567,
     "end_time": "2021-07-20T12:10:42.333058",
     "exception": false,
     "start_time": "2021-07-20T12:10:42.287491",
     "status": "completed"
    },
    "tags": []
   },
   "outputs": [],
   "source": [
    "# hide\n",
    "# g['date'] = g['date'].astype('datetime64[ns]')"
   ]
  },
  {
   "cell_type": "code",
   "execution_count": 34,
   "id": "sophisticated-supervisor",
   "metadata": {
    "execution": {
     "iopub.execute_input": "2021-07-20T12:10:42.417140Z",
     "iopub.status.busy": "2021-07-20T12:10:42.416497Z",
     "iopub.status.idle": "2021-07-20T12:10:42.418842Z",
     "shell.execute_reply": "2021-07-20T12:10:42.418187Z"
    },
    "papermill": {
     "duration": 0.045734,
     "end_time": "2021-07-20T12:10:42.418976",
     "exception": false,
     "start_time": "2021-07-20T12:10:42.373242",
     "status": "completed"
    },
    "tags": []
   },
   "outputs": [],
   "source": [
    "#hide\n",
    "# g['date'] = g.date.dt.dayofyear"
   ]
  },
  {
   "cell_type": "code",
   "execution_count": 35,
   "id": "inside-dubai",
   "metadata": {
    "execution": {
     "iopub.execute_input": "2021-07-20T12:10:42.507330Z",
     "iopub.status.busy": "2021-07-20T12:10:42.506658Z",
     "iopub.status.idle": "2021-07-20T12:10:42.509016Z",
     "shell.execute_reply": "2021-07-20T12:10:42.508384Z"
    },
    "papermill": {
     "duration": 0.048834,
     "end_time": "2021-07-20T12:10:42.509149",
     "exception": false,
     "start_time": "2021-07-20T12:10:42.460315",
     "status": "completed"
    },
    "tags": []
   },
   "outputs": [],
   "source": [
    "#hide\n",
    "# g = g.rename(columns= {'continent':'group','country':'name','cases':'value'})"
   ]
  },
  {
   "cell_type": "code",
   "execution_count": 36,
   "id": "fleet-motorcycle",
   "metadata": {
    "execution": {
     "iopub.execute_input": "2021-07-20T12:10:42.595419Z",
     "iopub.status.busy": "2021-07-20T12:10:42.594616Z",
     "iopub.status.idle": "2021-07-20T12:10:42.596572Z",
     "shell.execute_reply": "2021-07-20T12:10:42.597106Z"
    },
    "papermill": {
     "duration": 0.049591,
     "end_time": "2021-07-20T12:10:42.597275",
     "exception": false,
     "start_time": "2021-07-20T12:10:42.547684",
     "status": "completed"
    },
    "tags": []
   },
   "outputs": [],
   "source": [
    "#hide\n",
    "# cols = ['name','group','day','value']"
   ]
  },
  {
   "cell_type": "code",
   "execution_count": 37,
   "id": "continued-sleeping",
   "metadata": {
    "execution": {
     "iopub.execute_input": "2021-07-20T12:10:42.683182Z",
     "iopub.status.busy": "2021-07-20T12:10:42.681535Z",
     "iopub.status.idle": "2021-07-20T12:10:42.683911Z",
     "shell.execute_reply": "2021-07-20T12:10:42.684440Z"
    },
    "papermill": {
     "duration": 0.047381,
     "end_time": "2021-07-20T12:10:42.684619",
     "exception": false,
     "start_time": "2021-07-20T12:10:42.637238",
     "status": "completed"
    },
    "tags": []
   },
   "outputs": [],
   "source": [
    "#hide\n",
    "# g.rename(columns= {'date':'day'},inplace = True)"
   ]
  },
  {
   "cell_type": "code",
   "execution_count": 38,
   "id": "major-fight",
   "metadata": {
    "execution": {
     "iopub.execute_input": "2021-07-20T12:10:42.765253Z",
     "iopub.status.busy": "2021-07-20T12:10:42.764643Z",
     "iopub.status.idle": "2021-07-20T12:10:42.766682Z",
     "shell.execute_reply": "2021-07-20T12:10:42.767365Z"
    },
    "papermill": {
     "duration": 0.04476,
     "end_time": "2021-07-20T12:10:42.767510",
     "exception": false,
     "start_time": "2021-07-20T12:10:42.722750",
     "status": "completed"
    },
    "tags": []
   },
   "outputs": [],
   "source": [
    "#hide\n",
    "# g = g[cols]"
   ]
  },
  {
   "cell_type": "code",
   "execution_count": 39,
   "id": "structured-mobile",
   "metadata": {
    "execution": {
     "iopub.execute_input": "2021-07-20T12:10:42.846355Z",
     "iopub.status.busy": "2021-07-20T12:10:42.845755Z",
     "iopub.status.idle": "2021-07-20T12:10:42.848192Z",
     "shell.execute_reply": "2021-07-20T12:10:42.847713Z"
    },
    "papermill": {
     "duration": 0.043499,
     "end_time": "2021-07-20T12:10:42.848333",
     "exception": false,
     "start_time": "2021-07-20T12:10:42.804834",
     "status": "completed"
    },
    "tags": []
   },
   "outputs": [],
   "source": [
    "# #hide\n",
    "# g = g[g.group.notna()]"
   ]
  },
  {
   "cell_type": "code",
   "execution_count": 40,
   "id": "determined-closing",
   "metadata": {
    "execution": {
     "iopub.execute_input": "2021-07-20T12:10:42.928225Z",
     "iopub.status.busy": "2021-07-20T12:10:42.927602Z",
     "iopub.status.idle": "2021-07-20T12:10:42.929977Z",
     "shell.execute_reply": "2021-07-20T12:10:42.929353Z"
    },
    "papermill": {
     "duration": 0.044322,
     "end_time": "2021-07-20T12:10:42.930097",
     "exception": false,
     "start_time": "2021-07-20T12:10:42.885775",
     "status": "completed"
    },
    "tags": []
   },
   "outputs": [],
   "source": [
    "# #hide\n",
    "# colors = dict(zip(\n",
    "#     [\"Oceania\", \"Europe\", \"Asia\", \"South America\", \"Middle East\", \"North America\", \"Africa\"],\n",
    "#     [\"#adb0ff\", \"#ffb3ff\", \"#90d595\", \"#e48381\", \"#aafbff\", \"#f7bb5f\", \"#eafb50\"]\n",
    "# ))\n",
    "# group_lk = g.set_index('name')['group'].to_dict()"
   ]
  },
  {
   "cell_type": "code",
   "execution_count": null,
   "id": "gross-drinking",
   "metadata": {
    "papermill": {
     "duration": 0.037354,
     "end_time": "2021-07-20T12:10:43.006381",
     "exception": false,
     "start_time": "2021-07-20T12:10:42.969027",
     "status": "completed"
    },
    "tags": []
   },
   "outputs": [],
   "source": []
  },
  {
   "cell_type": "code",
   "execution_count": 41,
   "id": "subject-macintosh",
   "metadata": {
    "execution": {
     "iopub.execute_input": "2021-07-20T12:10:43.089796Z",
     "iopub.status.busy": "2021-07-20T12:10:43.089108Z",
     "iopub.status.idle": "2021-07-20T12:10:43.091593Z",
     "shell.execute_reply": "2021-07-20T12:10:43.092150Z"
    },
    "papermill": {
     "duration": 0.047655,
     "end_time": "2021-07-20T12:10:43.092325",
     "exception": false,
     "start_time": "2021-07-20T12:10:43.044670",
     "status": "completed"
    },
    "tags": []
   },
   "outputs": [],
   "source": [
    "# #hide\n",
    "# fig, ax = plt.subplots(figsize=(15, 8))\n",
    "\n",
    "# def draw_barchart(current_day):\n",
    "#     dff = g[g['day'].eq(current_day)].sort_values(by='value', ascending=True).tail(10)\n",
    "#     ax.clear()\n",
    "#     ax.barh(dff['name'], dff['value'], color=[colors[group_lk[x]] for x in dff['name']])\n",
    "#     dx = dff['value'].max() / 200\n",
    "    \n",
    "#     for i, (value, name) in enumerate(zip(dff['value'], dff['name'])):\n",
    "#         ax.text(value-dx, i,     name,           size=14, weight=600, ha='right', va='bottom')\n",
    "#         ax.text(value-dx, i-.25, group_lk[name], size=10, color='#444444', ha='right', va='baseline')\n",
    "#         ax.text(value+dx, i,     f'{value:,.0f}',  size=14, ha='left',  va='center')\n",
    "#     ax.text(1, 0.4, current_day, transform=ax.transAxes, color='#777777', size=46, ha='right', weight=800)\n",
    "#     ax.text(0, 1.06, 'Population (thousands)', transform=ax.transAxes, size=12, color='#777777')\n",
    "#     ax.xaxis.set_major_formatter(ticker.StrMethodFormatter('{x:,.0f}'))\n",
    "#     ax.xaxis.set_ticks_position('top')\n",
    "#     ax.tick_params(axis='x', colors='#777777', labelsize=12)\n",
    "#     ax.set_yticks([])\n",
    "#     ax.margins(0, 0.01)\n",
    "#     ax.grid(which='major', axis='x', linestyle='-')\n",
    "#     ax.set_axisbelow(True)\n",
    "    \n",
    "#     ax.text(0, 1.15, 'Coronavirus',\n",
    "#             transform=ax.transAxes, size=24, weight=600, ha='left', va='top')\n",
    "# #     ax.text(1, 0, 'by @pratapvardhan; credit @jburnmurdoch', transform=ax.transAxes, color='#777777', ha='right',\n",
    "# #             bbox=dict(facecolor='white', alpha=0.8, edgecolor='white'))\n",
    "#     plt.box(False)"
   ]
  },
  {
   "cell_type": "code",
   "execution_count": 42,
   "id": "sexual-wages",
   "metadata": {
    "execution": {
     "iopub.execute_input": "2021-07-20T12:10:43.173159Z",
     "iopub.status.busy": "2021-07-20T12:10:43.171929Z",
     "iopub.status.idle": "2021-07-20T12:10:43.173895Z",
     "shell.execute_reply": "2021-07-20T12:10:43.174460Z"
    },
    "papermill": {
     "duration": 0.044504,
     "end_time": "2021-07-20T12:10:43.174611",
     "exception": false,
     "start_time": "2021-07-20T12:10:43.130107",
     "status": "completed"
    },
    "tags": []
   },
   "outputs": [],
   "source": [
    "# #hide_input\n",
    "# fig, ax = plt.subplots(figsize=(15, 8))\n",
    "# animator = animation.FuncAnimation(fig, draw_barchart, frames=range(g.day.values.min(), g.day.values.max()))\n",
    "# HTML(animator.to_jshtml())\n",
    "# # or use animator.to_html5_video() or animator.save() "
   ]
  },
  {
   "cell_type": "code",
   "execution_count": null,
   "id": "australian-container",
   "metadata": {
    "papermill": {
     "duration": 0.038107,
     "end_time": "2021-07-20T12:10:43.251084",
     "exception": false,
     "start_time": "2021-07-20T12:10:43.212977",
     "status": "completed"
    },
    "tags": []
   },
   "outputs": [],
   "source": []
  },
  {
   "cell_type": "code",
   "execution_count": null,
   "id": "mediterranean-pontiac",
   "metadata": {
    "papermill": {
     "duration": 0.0386,
     "end_time": "2021-07-20T12:10:43.327283",
     "exception": false,
     "start_time": "2021-07-20T12:10:43.288683",
     "status": "completed"
    },
    "tags": []
   },
   "outputs": [],
   "source": []
  },
  {
   "cell_type": "code",
   "execution_count": null,
   "id": "aging-legislature",
   "metadata": {
    "papermill": {
     "duration": 0.042166,
     "end_time": "2021-07-20T12:10:43.412446",
     "exception": false,
     "start_time": "2021-07-20T12:10:43.370280",
     "status": "completed"
    },
    "tags": []
   },
   "outputs": [],
   "source": []
  }
 ],
 "metadata": {
  "kernelspec": {
   "display_name": "Python 3",
   "language": "python",
   "name": "python3"
  },
  "language_info": {
   "codemirror_mode": {
    "name": "ipython",
    "version": 3
   },
   "file_extension": ".py",
   "mimetype": "text/x-python",
   "name": "python",
   "nbconvert_exporter": "python",
   "pygments_lexer": "ipython3",
   "version": "3.6.14"
  },
  "papermill": {
   "duration": 7.146914,
   "end_time": "2021-07-20T12:10:43.760637",
   "environment_variables": {},
   "exception": null,
   "input_path": "2020-03-21-covid19exp.ipynb",
   "output_path": "2020-03-21-covid19exp.ipynb",
   "parameters": {},
   "start_time": "2021-07-20T12:10:36.613723",
   "version": "2.0.0"
  }
 },
 "nbformat": 4,
 "nbformat_minor": 5
}