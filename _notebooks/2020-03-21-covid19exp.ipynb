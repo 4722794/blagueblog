{
 "cells": [
  {
   "cell_type": "markdown",
   "id": "muslim-click",
   "metadata": {
    "papermill": {
     "duration": 0.040797,
     "end_time": "2022-07-26T12:17:24.694928",
     "exception": false,
     "start_time": "2022-07-26T12:17:24.654131",
     "status": "completed"
    },
    "tags": []
   },
   "source": [
    "# COVID-19 Case Race\n",
    "> A race chart to see rising cases around the world\n",
    "\n",
    "- author: Hargun Oberoi\n",
    "- image: images/covid-overview.png\n",
    "- hide: false\n",
    "- badges: false"
   ]
  },
  {
   "cell_type": "code",
   "execution_count": 1,
   "id": "proof-material",
   "metadata": {
    "execution": {
     "iopub.execute_input": "2022-07-26T12:17:24.770693Z",
     "iopub.status.busy": "2022-07-26T12:17:24.770050Z",
     "iopub.status.idle": "2022-07-26T12:17:25.117534Z",
     "shell.execute_reply": "2022-07-26T12:17:25.116523Z"
    },
    "papermill": {
     "duration": 0.391748,
     "end_time": "2022-07-26T12:17:25.117784",
     "exception": false,
     "start_time": "2022-07-26T12:17:24.726036",
     "status": "completed"
    },
    "tags": []
   },
   "outputs": [],
   "source": [
    "#hide\n",
    "import numpy as np\n",
    "import pandas as pd\n",
    "from jinja2 import Template\n",
    "from IPython.display import HTML"
   ]
  },
  {
   "cell_type": "code",
   "execution_count": 2,
   "id": "developed-terminology",
   "metadata": {
    "execution": {
     "iopub.execute_input": "2022-07-26T12:17:25.186090Z",
     "iopub.status.busy": "2022-07-26T12:17:25.185517Z",
     "iopub.status.idle": "2022-07-26T12:17:25.187869Z",
     "shell.execute_reply": "2022-07-26T12:17:25.188442Z"
    },
    "papermill": {
     "duration": 0.037588,
     "end_time": "2022-07-26T12:17:25.188569",
     "exception": false,
     "start_time": "2022-07-26T12:17:25.150981",
     "status": "completed"
    },
    "tags": []
   },
   "outputs": [],
   "source": [
    "#hide\n",
    "\n",
    "# FETCH\n",
    "base_url = 'https://raw.githubusercontent.com/pratapvardhan/notebooks/master/covid19/'\n",
    "paths = {\n",
    "    'mapping': base_url + 'mapping_countries.csv',\n",
    "    'overview': base_url + 'overview.tpl'\n",
    "}"
   ]
  },
  {
   "cell_type": "code",
   "execution_count": 3,
   "id": "dynamic-saver",
   "metadata": {
    "execution": {
     "iopub.execute_input": "2022-07-26T12:17:25.260667Z",
     "iopub.status.busy": "2022-07-26T12:17:25.258672Z",
     "iopub.status.idle": "2022-07-26T12:17:25.264191Z",
     "shell.execute_reply": "2022-07-26T12:17:25.263587Z"
    },
    "papermill": {
     "duration": 0.0454,
     "end_time": "2022-07-26T12:17:25.264326",
     "exception": false,
     "start_time": "2022-07-26T12:17:25.218926",
     "status": "completed"
    },
    "tags": []
   },
   "outputs": [
    {
     "data": {
      "text/plain": [
       "'https://raw.githubusercontent.com/pratapvardhan/notebooks/master/covid19/mapping_countries.csv'"
      ]
     },
     "execution_count": 3,
     "metadata": {},
     "output_type": "execute_result"
    }
   ],
   "source": [
    "#hide\n",
    "paths['mapping']"
   ]
  },
  {
   "cell_type": "code",
   "execution_count": 4,
   "id": "urban-software",
   "metadata": {
    "execution": {
     "iopub.execute_input": "2022-07-26T12:17:25.334412Z",
     "iopub.status.busy": "2022-07-26T12:17:25.333410Z",
     "iopub.status.idle": "2022-07-26T12:17:25.335100Z",
     "shell.execute_reply": "2022-07-26T12:17:25.335615Z"
    },
    "papermill": {
     "duration": 0.041555,
     "end_time": "2022-07-26T12:17:25.335747",
     "exception": false,
     "start_time": "2022-07-26T12:17:25.294192",
     "status": "completed"
    },
    "tags": []
   },
   "outputs": [],
   "source": [
    "#hide\n",
    "def get_mappings(url):\n",
    "    df = pd.read_csv(url)\n",
    "    return {\n",
    "        'df': df,\n",
    "        'replace.country': dict(df.dropna(subset=['Name']).set_index('Country')['Name']),\n",
    "        'map.continent': dict(df.set_index('Name')['Continent'])\n",
    "    }"
   ]
  },
  {
   "cell_type": "code",
   "execution_count": 5,
   "id": "intimate-machinery",
   "metadata": {
    "execution": {
     "iopub.execute_input": "2022-07-26T12:17:25.407311Z",
     "iopub.status.busy": "2022-07-26T12:17:25.406628Z",
     "iopub.status.idle": "2022-07-26T12:17:25.433193Z",
     "shell.execute_reply": "2022-07-26T12:17:25.432597Z"
    },
    "papermill": {
     "duration": 0.065763,
     "end_time": "2022-07-26T12:17:25.433326",
     "exception": false,
     "start_time": "2022-07-26T12:17:25.367563",
     "status": "completed"
    },
    "tags": []
   },
   "outputs": [],
   "source": [
    "#hide\n",
    "mapping = get_mappings(paths['mapping'])"
   ]
  },
  {
   "cell_type": "code",
   "execution_count": 6,
   "id": "certified-tactics",
   "metadata": {
    "execution": {
     "iopub.execute_input": "2022-07-26T12:17:25.506236Z",
     "iopub.status.busy": "2022-07-26T12:17:25.505039Z",
     "iopub.status.idle": "2022-07-26T12:17:25.510360Z",
     "shell.execute_reply": "2022-07-26T12:17:25.509866Z"
    },
    "papermill": {
     "duration": 0.045224,
     "end_time": "2022-07-26T12:17:25.510482",
     "exception": false,
     "start_time": "2022-07-26T12:17:25.465258",
     "status": "completed"
    },
    "tags": []
   },
   "outputs": [],
   "source": [
    "#hide\n",
    "def get_template(path):\n",
    "    from urllib.parse import urlparse\n",
    "    if bool(urlparse(path).netloc):\n",
    "        from urllib.request import urlopen\n",
    "        return urlopen(path).read().decode('utf8')\n",
    "    return open(path).read()"
   ]
  },
  {
   "cell_type": "code",
   "execution_count": 7,
   "id": "realistic-blast",
   "metadata": {
    "execution": {
     "iopub.execute_input": "2022-07-26T12:17:25.578700Z",
     "iopub.status.busy": "2022-07-26T12:17:25.578114Z",
     "iopub.status.idle": "2022-07-26T12:17:25.580962Z",
     "shell.execute_reply": "2022-07-26T12:17:25.581472Z"
    },
    "papermill": {
     "duration": 0.040408,
     "end_time": "2022-07-26T12:17:25.581588",
     "exception": false,
     "start_time": "2022-07-26T12:17:25.541180",
     "status": "completed"
    },
    "tags": []
   },
   "outputs": [],
   "source": [
    "#hide\n",
    "def get_frame(name):\n",
    "    url = (\n",
    "        'https://raw.githubusercontent.com/CSSEGISandData/COVID-19/master/csse_covid_19_data/'\n",
    "        f'csse_covid_19_time_series/time_series_covid19_{name}_global.csv')\n",
    "    df = pd.read_csv(url)\n",
    "    # rename countries\n",
    "    df['Country/Region'] = df['Country/Region'].replace(mapping['replace.country'])\n",
    "    return df"
   ]
  },
  {
   "cell_type": "code",
   "execution_count": 8,
   "id": "affiliated-characterization",
   "metadata": {
    "execution": {
     "iopub.execute_input": "2022-07-26T12:17:25.652999Z",
     "iopub.status.busy": "2022-07-26T12:17:25.652319Z",
     "iopub.status.idle": "2022-07-26T12:17:25.654962Z",
     "shell.execute_reply": "2022-07-26T12:17:25.654323Z"
    },
    "papermill": {
     "duration": 0.042742,
     "end_time": "2022-07-26T12:17:25.655084",
     "exception": false,
     "start_time": "2022-07-26T12:17:25.612342",
     "status": "completed"
    },
    "tags": []
   },
   "outputs": [],
   "source": [
    "#hide\n",
    "def get_dates(df):\n",
    "    dt_cols = df.columns[~df.columns.isin(['Province/State', 'Country/Region', 'Lat', 'Long'])]\n",
    "    LAST_DATE_I = -1\n",
    "    # sometimes last column may be empty, then go backwards\n",
    "    for i in range(-1, -len(dt_cols), -1):\n",
    "        if not df[dt_cols[i]].fillna(0).eq(0).all():\n",
    "            LAST_DATE_I = i\n",
    "            break\n",
    "    return LAST_DATE_I, dt_cols"
   ]
  },
  {
   "cell_type": "code",
   "execution_count": 9,
   "id": "recent-optimization",
   "metadata": {
    "execution": {
     "iopub.execute_input": "2022-07-26T12:17:25.722173Z",
     "iopub.status.busy": "2022-07-26T12:17:25.721520Z",
     "iopub.status.idle": "2022-07-26T12:17:26.097798Z",
     "shell.execute_reply": "2022-07-26T12:17:26.097173Z"
    },
    "papermill": {
     "duration": 0.412041,
     "end_time": "2022-07-26T12:17:26.097937",
     "exception": false,
     "start_time": "2022-07-26T12:17:25.685896",
     "status": "completed"
    },
    "tags": []
   },
   "outputs": [],
   "source": [
    "#hide\n",
    "COL_REGION = 'Country/Region'\n",
    "# Confirmed, Recovered, Deaths\n",
    "df = get_frame('confirmed')\n",
    "# dft_: timeseries, dfc_: today country agg\n",
    "dft_cases = df\n",
    "dft_deaths = get_frame('deaths')\n",
    "dft_recovered = get_frame('recovered')\n",
    "LAST_DATE_I, dt_cols = get_dates(df)"
   ]
  },
  {
   "cell_type": "code",
   "execution_count": 10,
   "id": "absolute-copper",
   "metadata": {
    "execution": {
     "iopub.execute_input": "2022-07-26T12:17:26.167485Z",
     "iopub.status.busy": "2022-07-26T12:17:26.166821Z",
     "iopub.status.idle": "2022-07-26T12:17:26.169429Z",
     "shell.execute_reply": "2022-07-26T12:17:26.169982Z"
    },
    "papermill": {
     "duration": 0.039851,
     "end_time": "2022-07-26T12:17:26.170129",
     "exception": false,
     "start_time": "2022-07-26T12:17:26.130278",
     "status": "completed"
    },
    "tags": []
   },
   "outputs": [],
   "source": [
    "#hide\n",
    "LAST_DATE_I, dt_cols = get_dates(df)\n",
    "dt_today =dt_cols[LAST_DATE_I]\n",
    "# dt_5day = dt_cols[LAST_DATE_I - 5]\n",
    "dt_yday = dt_cols[LAST_DATE_I - 1]"
   ]
  },
  {
   "cell_type": "code",
   "execution_count": 11,
   "id": "restricted-sheriff",
   "metadata": {
    "execution": {
     "iopub.execute_input": "2022-07-26T12:17:26.238232Z",
     "iopub.status.busy": "2022-07-26T12:17:26.237573Z",
     "iopub.status.idle": "2022-07-26T12:17:26.245372Z",
     "shell.execute_reply": "2022-07-26T12:17:26.244919Z"
    },
    "papermill": {
     "duration": 0.047658,
     "end_time": "2022-07-26T12:17:26.245476",
     "exception": false,
     "start_time": "2022-07-26T12:17:26.197818",
     "status": "completed"
    },
    "tags": []
   },
   "outputs": [],
   "source": [
    "#hide\n",
    "dfc_cases = dft_cases.groupby(COL_REGION)[dt_today].sum()\n",
    "dfc_deaths = dft_deaths.groupby(COL_REGION)[dt_today].sum()\n",
    "# dfp_cases = dft_cases.groupby(COL_REGION)[dt_5day].sum()\n",
    "# dfp_deaths = dft_deaths.groupby(COL_REGION)[dt_5day].sum()\n",
    "dfp_cases = dft_cases.groupby(COL_REGION)[dt_yday].sum()\n",
    "dfp_deaths = dft_deaths.groupby(COL_REGION)[dt_yday].sum()"
   ]
  },
  {
   "cell_type": "code",
   "execution_count": 12,
   "id": "deluxe-hepatitis",
   "metadata": {
    "execution": {
     "iopub.execute_input": "2022-07-26T12:17:26.312589Z",
     "iopub.status.busy": "2022-07-26T12:17:26.311904Z",
     "iopub.status.idle": "2022-07-26T12:17:26.317049Z",
     "shell.execute_reply": "2022-07-26T12:17:26.317534Z"
    },
    "papermill": {
     "duration": 0.041981,
     "end_time": "2022-07-26T12:17:26.317664",
     "exception": false,
     "start_time": "2022-07-26T12:17:26.275683",
     "status": "completed"
    },
    "tags": []
   },
   "outputs": [],
   "source": [
    "#hide\n",
    "df_table = (pd.DataFrame(dict(Cases = dfc_cases, Deaths = dfc_deaths, PCases = dfp_cases, PDeaths = dfp_deaths))\n",
    "            .sort_values(by = ['Cases','Deaths'], ascending = [False, False])\n",
    "            .reset_index())"
   ]
  },
  {
   "cell_type": "code",
   "execution_count": 13,
   "id": "educational-chancellor",
   "metadata": {
    "execution": {
     "iopub.execute_input": "2022-07-26T12:17:26.395068Z",
     "iopub.status.busy": "2022-07-26T12:17:26.394380Z",
     "iopub.status.idle": "2022-07-26T12:17:26.407467Z",
     "shell.execute_reply": "2022-07-26T12:17:26.408063Z"
    },
    "papermill": {
     "duration": 0.060231,
     "end_time": "2022-07-26T12:17:26.408218",
     "exception": false,
     "start_time": "2022-07-26T12:17:26.347987",
     "status": "completed"
    },
    "tags": []
   },
   "outputs": [
    {
     "data": {
      "text/html": [
       "<div>\n",
       "<style scoped>\n",
       "    .dataframe tbody tr th:only-of-type {\n",
       "        vertical-align: middle;\n",
       "    }\n",
       "\n",
       "    .dataframe tbody tr th {\n",
       "        vertical-align: top;\n",
       "    }\n",
       "\n",
       "    .dataframe thead th {\n",
       "        text-align: right;\n",
       "    }\n",
       "</style>\n",
       "<table border=\"1\" class=\"dataframe\">\n",
       "  <thead>\n",
       "    <tr style=\"text-align: right;\">\n",
       "      <th></th>\n",
       "      <th>Country/Region</th>\n",
       "      <th>Cases</th>\n",
       "      <th>Deaths</th>\n",
       "      <th>PCases</th>\n",
       "      <th>PDeaths</th>\n",
       "      <th>Cases (+)</th>\n",
       "      <th>Deaths (+)</th>\n",
       "      <th>Fatality Rate</th>\n",
       "      <th>Continent</th>\n",
       "    </tr>\n",
       "  </thead>\n",
       "  <tbody>\n",
       "    <tr>\n",
       "      <th>0</th>\n",
       "      <td>US</td>\n",
       "      <td>90567290</td>\n",
       "      <td>1027369</td>\n",
       "      <td>90410386</td>\n",
       "      <td>1026951</td>\n",
       "      <td>156904</td>\n",
       "      <td>418</td>\n",
       "      <td>1.13</td>\n",
       "      <td>North America</td>\n",
       "    </tr>\n",
       "    <tr>\n",
       "      <th>1</th>\n",
       "      <td>India</td>\n",
       "      <td>43920451</td>\n",
       "      <td>526110</td>\n",
       "      <td>43905621</td>\n",
       "      <td>526074</td>\n",
       "      <td>14830</td>\n",
       "      <td>36</td>\n",
       "      <td>1.20</td>\n",
       "      <td>Asia</td>\n",
       "    </tr>\n",
       "    <tr>\n",
       "      <th>2</th>\n",
       "      <td>France</td>\n",
       "      <td>33751295</td>\n",
       "      <td>152600</td>\n",
       "      <td>33621366</td>\n",
       "      <td>152390</td>\n",
       "      <td>129929</td>\n",
       "      <td>210</td>\n",
       "      <td>0.45</td>\n",
       "      <td>Europe</td>\n",
       "    </tr>\n",
       "    <tr>\n",
       "      <th>3</th>\n",
       "      <td>Brazil</td>\n",
       "      <td>33621965</td>\n",
       "      <td>677143</td>\n",
       "      <td>33591356</td>\n",
       "      <td>676964</td>\n",
       "      <td>30609</td>\n",
       "      <td>179</td>\n",
       "      <td>2.01</td>\n",
       "      <td>South America</td>\n",
       "    </tr>\n",
       "    <tr>\n",
       "      <th>4</th>\n",
       "      <td>Germany</td>\n",
       "      <td>30476605</td>\n",
       "      <td>143364</td>\n",
       "      <td>30331133</td>\n",
       "      <td>143177</td>\n",
       "      <td>145472</td>\n",
       "      <td>187</td>\n",
       "      <td>0.47</td>\n",
       "      <td>Europe</td>\n",
       "    </tr>\n",
       "  </tbody>\n",
       "</table>\n",
       "</div>"
      ],
      "text/plain": [
       "  Country/Region     Cases   Deaths    PCases  PDeaths  Cases (+)  Deaths (+)  \\\n",
       "0             US  90567290  1027369  90410386  1026951     156904         418   \n",
       "1          India  43920451   526110  43905621   526074      14830          36   \n",
       "2         France  33751295   152600  33621366   152390     129929         210   \n",
       "3         Brazil  33621965   677143  33591356   676964      30609         179   \n",
       "4        Germany  30476605   143364  30331133   143177     145472         187   \n",
       "\n",
       "   Fatality Rate      Continent  \n",
       "0           1.13  North America  \n",
       "1           1.20           Asia  \n",
       "2           0.45         Europe  \n",
       "3           2.01  South America  \n",
       "4           0.47         Europe  "
      ]
     },
     "execution_count": 13,
     "metadata": {},
     "output_type": "execute_result"
    }
   ],
   "source": [
    "#hide\n",
    "for c in 'Cases, Deaths'.split(', '):\n",
    "    df_table[f'{c} (+)'] = (df_table[c] - df_table[f'P{c}']).clip(0)\n",
    "    #Clip ça veut dire, les chiffres negatif sont interdit\n",
    "df_table['Fatality Rate'] = (100* df_table['Deaths']/ df_table['Cases']).round(2)\n",
    "df_table['Continent'] = df_table['Country/Region'].map(mapping['map.continent'])\n",
    "df_table.head(5)"
   ]
  },
  {
   "cell_type": "code",
   "execution_count": 14,
   "id": "aboriginal-bulgaria",
   "metadata": {
    "execution": {
     "iopub.execute_input": "2022-07-26T12:17:26.482528Z",
     "iopub.status.busy": "2022-07-26T12:17:26.481835Z",
     "iopub.status.idle": "2022-07-26T12:17:26.484559Z",
     "shell.execute_reply": "2022-07-26T12:17:26.485114Z"
    },
    "papermill": {
     "duration": 0.044192,
     "end_time": "2022-07-26T12:17:26.485264",
     "exception": false,
     "start_time": "2022-07-26T12:17:26.441072",
     "status": "completed"
    },
    "tags": []
   },
   "outputs": [],
   "source": [
    "#hide\n",
    "#delete problematic countries from table\n",
    "df_table = df_table[~df_table['Country/Region'].isin(['Cape Verde', 'Cruise Ship', 'Kosovo'])]"
   ]
  },
  {
   "cell_type": "code",
   "execution_count": 15,
   "id": "fantastic-effect",
   "metadata": {
    "execution": {
     "iopub.execute_input": "2022-07-26T12:17:26.564631Z",
     "iopub.status.busy": "2022-07-26T12:17:26.563980Z",
     "iopub.status.idle": "2022-07-26T12:17:26.583230Z",
     "shell.execute_reply": "2022-07-26T12:17:26.582707Z"
    },
    "papermill": {
     "duration": 0.064679,
     "end_time": "2022-07-26T12:17:26.583353",
     "exception": false,
     "start_time": "2022-07-26T12:17:26.518674",
     "status": "completed"
    },
    "tags": []
   },
   "outputs": [
    {
     "data": {
      "text/html": [
       "<div>\n",
       "<style scoped>\n",
       "    .dataframe tbody tr th:only-of-type {\n",
       "        vertical-align: middle;\n",
       "    }\n",
       "\n",
       "    .dataframe tbody tr th {\n",
       "        vertical-align: top;\n",
       "    }\n",
       "\n",
       "    .dataframe thead th {\n",
       "        text-align: right;\n",
       "    }\n",
       "</style>\n",
       "<table border=\"1\" class=\"dataframe\">\n",
       "  <thead>\n",
       "    <tr style=\"text-align: right;\">\n",
       "      <th></th>\n",
       "      <th>Country/Region</th>\n",
       "      <th>Cases</th>\n",
       "      <th>Deaths</th>\n",
       "      <th>PCases</th>\n",
       "      <th>PDeaths</th>\n",
       "      <th>Cases (+)</th>\n",
       "      <th>Deaths (+)</th>\n",
       "      <th>Fatality Rate</th>\n",
       "      <th>Continent</th>\n",
       "    </tr>\n",
       "  </thead>\n",
       "  <tbody>\n",
       "    <tr>\n",
       "      <th>0</th>\n",
       "      <td>US</td>\n",
       "      <td>90567290</td>\n",
       "      <td>1027369</td>\n",
       "      <td>90410386</td>\n",
       "      <td>1026951</td>\n",
       "      <td>156904</td>\n",
       "      <td>418</td>\n",
       "      <td>1.1</td>\n",
       "      <td>North America</td>\n",
       "    </tr>\n",
       "    <tr>\n",
       "      <th>1</th>\n",
       "      <td>India</td>\n",
       "      <td>43920451</td>\n",
       "      <td>526110</td>\n",
       "      <td>43905621</td>\n",
       "      <td>526074</td>\n",
       "      <td>14830</td>\n",
       "      <td>36</td>\n",
       "      <td>1.2</td>\n",
       "      <td>Asia</td>\n",
       "    </tr>\n",
       "    <tr>\n",
       "      <th>2</th>\n",
       "      <td>France</td>\n",
       "      <td>33751295</td>\n",
       "      <td>152600</td>\n",
       "      <td>33621366</td>\n",
       "      <td>152390</td>\n",
       "      <td>129929</td>\n",
       "      <td>210</td>\n",
       "      <td>0.5</td>\n",
       "      <td>Europe</td>\n",
       "    </tr>\n",
       "    <tr>\n",
       "      <th>3</th>\n",
       "      <td>Brazil</td>\n",
       "      <td>33621965</td>\n",
       "      <td>677143</td>\n",
       "      <td>33591356</td>\n",
       "      <td>676964</td>\n",
       "      <td>30609</td>\n",
       "      <td>179</td>\n",
       "      <td>2.0</td>\n",
       "      <td>South America</td>\n",
       "    </tr>\n",
       "    <tr>\n",
       "      <th>4</th>\n",
       "      <td>Germany</td>\n",
       "      <td>30476605</td>\n",
       "      <td>143364</td>\n",
       "      <td>30331133</td>\n",
       "      <td>143177</td>\n",
       "      <td>145472</td>\n",
       "      <td>187</td>\n",
       "      <td>0.5</td>\n",
       "      <td>Europe</td>\n",
       "    </tr>\n",
       "  </tbody>\n",
       "</table>\n",
       "</div>"
      ],
      "text/plain": [
       "  Country/Region     Cases   Deaths    PCases  PDeaths  Cases (+)  Deaths (+)  \\\n",
       "0             US  90567290  1027369  90410386  1026951     156904         418   \n",
       "1          India  43920451   526110  43905621   526074      14830          36   \n",
       "2         France  33751295   152600  33621366   152390     129929         210   \n",
       "3         Brazil  33621965   677143  33591356   676964      30609         179   \n",
       "4        Germany  30476605   143364  30331133   143177     145472         187   \n",
       "\n",
       "   Fatality Rate      Continent  \n",
       "0            1.1  North America  \n",
       "1            1.2           Asia  \n",
       "2            0.5         Europe  \n",
       "3            2.0  South America  \n",
       "4            0.5         Europe  "
      ]
     },
     "execution_count": 15,
     "metadata": {},
     "output_type": "execute_result"
    }
   ],
   "source": [
    "#hide\n",
    "df_table = (pd.DataFrame(dict(Cases=dfc_cases, Deaths=dfc_deaths, PCases=dfp_cases, PDeaths=dfp_deaths))\n",
    "             .sort_values(by=['Cases', 'Deaths'], ascending=[False, False])\n",
    "             .reset_index())\n",
    "df_table.rename(columns={'index': 'Country/Region'}, inplace=True)\n",
    "for c in 'Cases, Deaths'.split(', '):\n",
    "    df_table[f'{c} (+)'] = (df_table[c] - df_table[f'P{c}']).clip(0)  # DATA BUG\n",
    "df_table['Fatality Rate'] = (100 * df_table['Deaths'] / df_table['Cases']).round(1)\n",
    "df_table['Continent'] = df_table['Country/Region'].map(mapping['map.continent'])\n",
    "df_table.head(5)"
   ]
  },
  {
   "cell_type": "code",
   "execution_count": 16,
   "id": "fewer-occasion",
   "metadata": {
    "execution": {
     "iopub.execute_input": "2022-07-26T12:17:26.656179Z",
     "iopub.status.busy": "2022-07-26T12:17:26.655536Z",
     "iopub.status.idle": "2022-07-26T12:17:26.658210Z",
     "shell.execute_reply": "2022-07-26T12:17:26.658692Z"
    },
    "papermill": {
     "duration": 0.042017,
     "end_time": "2022-07-26T12:17:26.658818",
     "exception": false,
     "start_time": "2022-07-26T12:17:26.616801",
     "status": "completed"
    },
    "tags": []
   },
   "outputs": [],
   "source": [
    "#hide\n",
    "#delete problematic countries from table\n",
    "df_table = df_table[~df_table['Country/Region'].isin(['Cape Verde', 'Cruise Ship', 'Kosovo'])]"
   ]
  },
  {
   "cell_type": "code",
   "execution_count": 17,
   "id": "related-center",
   "metadata": {
    "execution": {
     "iopub.execute_input": "2022-07-26T12:17:26.728029Z",
     "iopub.status.busy": "2022-07-26T12:17:26.727316Z",
     "iopub.status.idle": "2022-07-26T12:17:26.741893Z",
     "shell.execute_reply": "2022-07-26T12:17:26.742423Z"
    },
    "papermill": {
     "duration": 0.054928,
     "end_time": "2022-07-26T12:17:26.742570",
     "exception": false,
     "start_time": "2022-07-26T12:17:26.687642",
     "status": "completed"
    },
    "tags": []
   },
   "outputs": [],
   "source": [
    "#hide\n",
    "metrics = [df_table.columns[index] for index in [1,2,5,6]]\n",
    "# s_china = df_table[df_table['Country/Region'].eq('China')][metrics].sum().add_prefix('China ')\n",
    "s_us = df_table[df_table['Country/Region'].eq('US')][metrics].sum().add_prefix('US ')\n",
    "s_eu = df_table[df_table['Continent'].eq('Europe')][metrics].sum().add_prefix('EU ')\n",
    "s_ind = df_table[df_table['Country/Region'].eq('India')][metrics].sum().add_prefix('India ')\n",
    "summary = {'updated': pd.to_datetime(dt_today), 'since': pd.to_datetime(dt_yday)}\n",
    "summary = {'updated': pd.to_datetime(dt_today), 'since': pd.to_datetime(dt_yday)}\n",
    "summary = {**summary, **df_table[metrics].sum(), **s_ind, **s_us, **s_eu}"
   ]
  },
  {
   "cell_type": "code",
   "execution_count": 18,
   "id": "engaging-syndrome",
   "metadata": {
    "execution": {
     "iopub.execute_input": "2022-07-26T12:17:26.806664Z",
     "iopub.status.busy": "2022-07-26T12:17:26.806085Z",
     "iopub.status.idle": "2022-07-26T12:17:26.826145Z",
     "shell.execute_reply": "2022-07-26T12:17:26.826633Z"
    },
    "papermill": {
     "duration": 0.055707,
     "end_time": "2022-07-26T12:17:26.826756",
     "exception": false,
     "start_time": "2022-07-26T12:17:26.771049",
     "status": "completed"
    },
    "tags": []
   },
   "outputs": [],
   "source": [
    "#hide\n",
    "dft_ct_new_cases = dft_cases.groupby(COL_REGION)[dt_cols].sum().diff(axis=1).fillna(0).astype(int)"
   ]
  },
  {
   "cell_type": "code",
   "execution_count": 19,
   "id": "neutral-assignment",
   "metadata": {
    "execution": {
     "iopub.execute_input": "2022-07-26T12:17:26.894153Z",
     "iopub.status.busy": "2022-07-26T12:17:26.893474Z",
     "iopub.status.idle": "2022-07-26T12:17:26.900114Z",
     "shell.execute_reply": "2022-07-26T12:17:26.899561Z"
    },
    "papermill": {
     "duration": 0.042283,
     "end_time": "2022-07-26T12:17:26.900235",
     "exception": false,
     "start_time": "2022-07-26T12:17:26.857952",
     "status": "completed"
    },
    "tags": []
   },
   "outputs": [],
   "source": [
    "#hide\n",
    "everydaycases = dft_ct_new_cases.cumsum(axis=1)"
   ]
  },
  {
   "cell_type": "code",
   "execution_count": 20,
   "id": "parliamentary-calgary",
   "metadata": {
    "execution": {
     "iopub.execute_input": "2022-07-26T12:17:26.966652Z",
     "iopub.status.busy": "2022-07-26T12:17:26.965967Z",
     "iopub.status.idle": "2022-07-26T12:17:27.558146Z",
     "shell.execute_reply": "2022-07-26T12:17:27.557585Z"
    },
    "papermill": {
     "duration": 0.628053,
     "end_time": "2022-07-26T12:17:27.558284",
     "exception": false,
     "start_time": "2022-07-26T12:17:26.930231",
     "status": "completed"
    },
    "tags": []
   },
   "outputs": [],
   "source": [
    "#hide\n",
    "import pandas as pd\n",
    "import matplotlib.pyplot as plt\n",
    "import matplotlib.ticker as ticker\n",
    "import matplotlib.animation as animation\n",
    "from IPython.display import HTML"
   ]
  },
  {
   "cell_type": "code",
   "execution_count": 21,
   "id": "lasting-extraction",
   "metadata": {
    "execution": {
     "iopub.execute_input": "2022-07-26T12:17:27.632711Z",
     "iopub.status.busy": "2022-07-26T12:17:27.632001Z",
     "iopub.status.idle": "2022-07-26T12:17:27.639513Z",
     "shell.execute_reply": "2022-07-26T12:17:27.638858Z"
    },
    "papermill": {
     "duration": 0.048597,
     "end_time": "2022-07-26T12:17:27.639638",
     "exception": false,
     "start_time": "2022-07-26T12:17:27.591041",
     "status": "completed"
    },
    "tags": []
   },
   "outputs": [],
   "source": [
    "#hide\n",
    "t = everydaycases.stack()"
   ]
  },
  {
   "cell_type": "code",
   "execution_count": 22,
   "id": "premier-sleeve",
   "metadata": {
    "execution": {
     "iopub.execute_input": "2022-07-26T12:17:27.708800Z",
     "iopub.status.busy": "2022-07-26T12:17:27.708128Z",
     "iopub.status.idle": "2022-07-26T12:17:27.721475Z",
     "shell.execute_reply": "2022-07-26T12:17:27.722105Z"
    },
    "papermill": {
     "duration": 0.051657,
     "end_time": "2022-07-26T12:17:27.722258",
     "exception": false,
     "start_time": "2022-07-26T12:17:27.670601",
     "status": "completed"
    },
    "tags": []
   },
   "outputs": [],
   "source": [
    "#hide\n",
    "g = t.reset_index(['Country/Region'])"
   ]
  },
  {
   "cell_type": "code",
   "execution_count": 23,
   "id": "distributed-pittsburgh",
   "metadata": {
    "execution": {
     "iopub.execute_input": "2022-07-26T12:17:27.790977Z",
     "iopub.status.busy": "2022-07-26T12:17:27.790355Z",
     "iopub.status.idle": "2022-07-26T12:17:27.794167Z",
     "shell.execute_reply": "2022-07-26T12:17:27.794664Z"
    },
    "papermill": {
     "duration": 0.04025,
     "end_time": "2022-07-26T12:17:27.794786",
     "exception": false,
     "start_time": "2022-07-26T12:17:27.754536",
     "status": "completed"
    },
    "tags": []
   },
   "outputs": [],
   "source": [
    "#hide\n",
    "g.index.name = 'date'"
   ]
  },
  {
   "cell_type": "code",
   "execution_count": 24,
   "id": "naked-donor",
   "metadata": {
    "execution": {
     "iopub.execute_input": "2022-07-26T12:17:27.864359Z",
     "iopub.status.busy": "2022-07-26T12:17:27.863258Z",
     "iopub.status.idle": "2022-07-26T12:17:27.865499Z",
     "shell.execute_reply": "2022-07-26T12:17:27.866293Z"
    },
    "papermill": {
     "duration": 0.03989,
     "end_time": "2022-07-26T12:17:27.866497",
     "exception": false,
     "start_time": "2022-07-26T12:17:27.826607",
     "status": "completed"
    },
    "tags": []
   },
   "outputs": [],
   "source": [
    "# #hide\n",
    "# g = g.reset_index(['date'])"
   ]
  },
  {
   "cell_type": "code",
   "execution_count": 25,
   "id": "incomplete-mustang",
   "metadata": {
    "execution": {
     "iopub.execute_input": "2022-07-26T12:17:27.934279Z",
     "iopub.status.busy": "2022-07-26T12:17:27.933610Z",
     "iopub.status.idle": "2022-07-26T12:17:27.935913Z",
     "shell.execute_reply": "2022-07-26T12:17:27.936419Z"
    },
    "papermill": {
     "duration": 0.038407,
     "end_time": "2022-07-26T12:17:27.936559",
     "exception": false,
     "start_time": "2022-07-26T12:17:27.898152",
     "status": "completed"
    },
    "tags": []
   },
   "outputs": [],
   "source": [
    "#hide\n",
    "# g.head()"
   ]
  },
  {
   "cell_type": "code",
   "execution_count": 26,
   "id": "specific-kruger",
   "metadata": {
    "execution": {
     "iopub.execute_input": "2022-07-26T12:17:28.008466Z",
     "iopub.status.busy": "2022-07-26T12:17:28.007221Z",
     "iopub.status.idle": "2022-07-26T12:17:28.012733Z",
     "shell.execute_reply": "2022-07-26T12:17:28.011633Z"
    },
    "papermill": {
     "duration": 0.042865,
     "end_time": "2022-07-26T12:17:28.012853",
     "exception": false,
     "start_time": "2022-07-26T12:17:27.969988",
     "status": "completed"
    },
    "tags": []
   },
   "outputs": [],
   "source": [
    "#hide\n",
    "# g.columns = ['date','country','cases']"
   ]
  },
  {
   "cell_type": "code",
   "execution_count": 27,
   "id": "tender-conversion",
   "metadata": {
    "execution": {
     "iopub.execute_input": "2022-07-26T12:17:28.084164Z",
     "iopub.status.busy": "2022-07-26T12:17:28.083418Z",
     "iopub.status.idle": "2022-07-26T12:17:28.084912Z",
     "shell.execute_reply": "2022-07-26T12:17:28.085449Z"
    },
    "papermill": {
     "duration": 0.040508,
     "end_time": "2022-07-26T12:17:28.085598",
     "exception": false,
     "start_time": "2022-07-26T12:17:28.045090",
     "status": "completed"
    },
    "tags": []
   },
   "outputs": [],
   "source": [
    "#hide\n",
    "# g['continent'] = g.country"
   ]
  },
  {
   "cell_type": "code",
   "execution_count": 28,
   "id": "substantial-wilderness",
   "metadata": {
    "execution": {
     "iopub.execute_input": "2022-07-26T12:17:28.155728Z",
     "iopub.status.busy": "2022-07-26T12:17:28.155049Z",
     "iopub.status.idle": "2022-07-26T12:17:28.158822Z",
     "shell.execute_reply": "2022-07-26T12:17:28.159228Z"
    },
    "papermill": {
     "duration": 0.041125,
     "end_time": "2022-07-26T12:17:28.159353",
     "exception": false,
     "start_time": "2022-07-26T12:17:28.118228",
     "status": "completed"
    },
    "tags": []
   },
   "outputs": [],
   "source": [
    "#hide\n",
    "# cols = list(g.columns.values)"
   ]
  },
  {
   "cell_type": "code",
   "execution_count": 29,
   "id": "solved-farming",
   "metadata": {
    "execution": {
     "iopub.execute_input": "2022-07-26T12:17:28.232764Z",
     "iopub.status.busy": "2022-07-26T12:17:28.231497Z",
     "iopub.status.idle": "2022-07-26T12:17:28.234055Z",
     "shell.execute_reply": "2022-07-26T12:17:28.234942Z"
    },
    "papermill": {
     "duration": 0.042774,
     "end_time": "2022-07-26T12:17:28.235177",
     "exception": false,
     "start_time": "2022-07-26T12:17:28.192403",
     "status": "completed"
    },
    "tags": []
   },
   "outputs": [],
   "source": [
    "#hide\n",
    "# cols.insert(0, cols.pop())"
   ]
  },
  {
   "cell_type": "code",
   "execution_count": 30,
   "id": "executed-adoption",
   "metadata": {
    "execution": {
     "iopub.execute_input": "2022-07-26T12:17:28.306572Z",
     "iopub.status.busy": "2022-07-26T12:17:28.305961Z",
     "iopub.status.idle": "2022-07-26T12:17:28.308010Z",
     "shell.execute_reply": "2022-07-26T12:17:28.307365Z"
    },
    "papermill": {
     "duration": 0.039292,
     "end_time": "2022-07-26T12:17:28.308134",
     "exception": false,
     "start_time": "2022-07-26T12:17:28.268842",
     "status": "completed"
    },
    "tags": []
   },
   "outputs": [],
   "source": [
    "#hide\n",
    "# g = g[cols]"
   ]
  },
  {
   "cell_type": "code",
   "execution_count": 31,
   "id": "subject-dublin",
   "metadata": {
    "execution": {
     "iopub.execute_input": "2022-07-26T12:17:28.377938Z",
     "iopub.status.busy": "2022-07-26T12:17:28.377073Z",
     "iopub.status.idle": "2022-07-26T12:17:28.378680Z",
     "shell.execute_reply": "2022-07-26T12:17:28.379189Z"
    },
    "papermill": {
     "duration": 0.038077,
     "end_time": "2022-07-26T12:17:28.379334",
     "exception": false,
     "start_time": "2022-07-26T12:17:28.341257",
     "status": "completed"
    },
    "tags": []
   },
   "outputs": [],
   "source": [
    "#hide\n",
    "# g['continent'] = g['continent'].map(mapping['map.continent'])"
   ]
  },
  {
   "cell_type": "code",
   "execution_count": 32,
   "id": "freelance-scout",
   "metadata": {
    "execution": {
     "iopub.execute_input": "2022-07-26T12:17:28.449518Z",
     "iopub.status.busy": "2022-07-26T12:17:28.448944Z",
     "iopub.status.idle": "2022-07-26T12:17:28.451100Z",
     "shell.execute_reply": "2022-07-26T12:17:28.451525Z"
    },
    "papermill": {
     "duration": 0.039116,
     "end_time": "2022-07-26T12:17:28.451647",
     "exception": false,
     "start_time": "2022-07-26T12:17:28.412531",
     "status": "completed"
    },
    "tags": []
   },
   "outputs": [],
   "source": [
    "#hide\n",
    "# g.head()"
   ]
  },
  {
   "cell_type": "code",
   "execution_count": 33,
   "id": "limited-engine",
   "metadata": {
    "execution": {
     "iopub.execute_input": "2022-07-26T12:17:28.521340Z",
     "iopub.status.busy": "2022-07-26T12:17:28.520668Z",
     "iopub.status.idle": "2022-07-26T12:17:28.523527Z",
     "shell.execute_reply": "2022-07-26T12:17:28.524035Z"
    },
    "papermill": {
     "duration": 0.040457,
     "end_time": "2022-07-26T12:17:28.524191",
     "exception": false,
     "start_time": "2022-07-26T12:17:28.483734",
     "status": "completed"
    },
    "tags": []
   },
   "outputs": [],
   "source": [
    "# hide\n",
    "# g['date'] = g['date'].astype('datetime64[ns]')"
   ]
  },
  {
   "cell_type": "code",
   "execution_count": 34,
   "id": "sophisticated-supervisor",
   "metadata": {
    "execution": {
     "iopub.execute_input": "2022-07-26T12:17:28.595638Z",
     "iopub.status.busy": "2022-07-26T12:17:28.594433Z",
     "iopub.status.idle": "2022-07-26T12:17:28.597009Z",
     "shell.execute_reply": "2022-07-26T12:17:28.597903Z"
    },
    "papermill": {
     "duration": 0.041178,
     "end_time": "2022-07-26T12:17:28.598137",
     "exception": false,
     "start_time": "2022-07-26T12:17:28.556959",
     "status": "completed"
    },
    "tags": []
   },
   "outputs": [],
   "source": [
    "#hide\n",
    "# g['date'] = g.date.dt.dayofyear"
   ]
  },
  {
   "cell_type": "code",
   "execution_count": 35,
   "id": "inside-dubai",
   "metadata": {
    "execution": {
     "iopub.execute_input": "2022-07-26T12:17:28.671871Z",
     "iopub.status.busy": "2022-07-26T12:17:28.670755Z",
     "iopub.status.idle": "2022-07-26T12:17:28.672595Z",
     "shell.execute_reply": "2022-07-26T12:17:28.673012Z"
    },
    "papermill": {
     "duration": 0.041991,
     "end_time": "2022-07-26T12:17:28.673134",
     "exception": false,
     "start_time": "2022-07-26T12:17:28.631143",
     "status": "completed"
    },
    "tags": []
   },
   "outputs": [],
   "source": [
    "#hide\n",
    "# g = g.rename(columns= {'continent':'group','country':'name','cases':'value'})"
   ]
  },
  {
   "cell_type": "code",
   "execution_count": 36,
   "id": "fleet-motorcycle",
   "metadata": {
    "execution": {
     "iopub.execute_input": "2022-07-26T12:17:28.744993Z",
     "iopub.status.busy": "2022-07-26T12:17:28.744341Z",
     "iopub.status.idle": "2022-07-26T12:17:28.747407Z",
     "shell.execute_reply": "2022-07-26T12:17:28.746760Z"
    },
    "papermill": {
     "duration": 0.041174,
     "end_time": "2022-07-26T12:17:28.747535",
     "exception": false,
     "start_time": "2022-07-26T12:17:28.706361",
     "status": "completed"
    },
    "tags": []
   },
   "outputs": [],
   "source": [
    "#hide\n",
    "# cols = ['name','group','day','value']"
   ]
  },
  {
   "cell_type": "code",
   "execution_count": 37,
   "id": "continued-sleeping",
   "metadata": {
    "execution": {
     "iopub.execute_input": "2022-07-26T12:17:28.819443Z",
     "iopub.status.busy": "2022-07-26T12:17:28.818733Z",
     "iopub.status.idle": "2022-07-26T12:17:28.821858Z",
     "shell.execute_reply": "2022-07-26T12:17:28.820931Z"
    },
    "papermill": {
     "duration": 0.04137,
     "end_time": "2022-07-26T12:17:28.821990",
     "exception": false,
     "start_time": "2022-07-26T12:17:28.780620",
     "status": "completed"
    },
    "tags": []
   },
   "outputs": [],
   "source": [
    "#hide\n",
    "# g.rename(columns= {'date':'day'},inplace = True)"
   ]
  },
  {
   "cell_type": "code",
   "execution_count": 38,
   "id": "major-fight",
   "metadata": {
    "execution": {
     "iopub.execute_input": "2022-07-26T12:17:28.897106Z",
     "iopub.status.busy": "2022-07-26T12:17:28.896393Z",
     "iopub.status.idle": "2022-07-26T12:17:28.899133Z",
     "shell.execute_reply": "2022-07-26T12:17:28.898470Z"
    },
    "papermill": {
     "duration": 0.041862,
     "end_time": "2022-07-26T12:17:28.899259",
     "exception": false,
     "start_time": "2022-07-26T12:17:28.857397",
     "status": "completed"
    },
    "tags": []
   },
   "outputs": [],
   "source": [
    "#hide\n",
    "# g = g[cols]"
   ]
  },
  {
   "cell_type": "code",
   "execution_count": 39,
   "id": "structured-mobile",
   "metadata": {
    "execution": {
     "iopub.execute_input": "2022-07-26T12:17:28.971956Z",
     "iopub.status.busy": "2022-07-26T12:17:28.971369Z",
     "iopub.status.idle": "2022-07-26T12:17:28.974067Z",
     "shell.execute_reply": "2022-07-26T12:17:28.974675Z"
    },
    "papermill": {
     "duration": 0.041689,
     "end_time": "2022-07-26T12:17:28.974814",
     "exception": false,
     "start_time": "2022-07-26T12:17:28.933125",
     "status": "completed"
    },
    "tags": []
   },
   "outputs": [],
   "source": [
    "# #hide\n",
    "# g = g[g.group.notna()]"
   ]
  },
  {
   "cell_type": "code",
   "execution_count": 40,
   "id": "determined-closing",
   "metadata": {
    "execution": {
     "iopub.execute_input": "2022-07-26T12:17:29.045662Z",
     "iopub.status.busy": "2022-07-26T12:17:29.044460Z",
     "iopub.status.idle": "2022-07-26T12:17:29.046940Z",
     "shell.execute_reply": "2022-07-26T12:17:29.047829Z"
    },
    "papermill": {
     "duration": 0.040526,
     "end_time": "2022-07-26T12:17:29.048087",
     "exception": false,
     "start_time": "2022-07-26T12:17:29.007561",
     "status": "completed"
    },
    "tags": []
   },
   "outputs": [],
   "source": [
    "# #hide\n",
    "# colors = dict(zip(\n",
    "#     [\"Oceania\", \"Europe\", \"Asia\", \"South America\", \"Middle East\", \"North America\", \"Africa\"],\n",
    "#     [\"#adb0ff\", \"#ffb3ff\", \"#90d595\", \"#e48381\", \"#aafbff\", \"#f7bb5f\", \"#eafb50\"]\n",
    "# ))\n",
    "# group_lk = g.set_index('name')['group'].to_dict()"
   ]
  },
  {
   "cell_type": "code",
   "execution_count": null,
   "id": "gross-drinking",
   "metadata": {
    "papermill": {
     "duration": 0.032704,
     "end_time": "2022-07-26T12:17:29.114218",
     "exception": false,
     "start_time": "2022-07-26T12:17:29.081514",
     "status": "completed"
    },
    "tags": []
   },
   "outputs": [],
   "source": []
  },
  {
   "cell_type": "code",
   "execution_count": 41,
   "id": "subject-macintosh",
   "metadata": {
    "execution": {
     "iopub.execute_input": "2022-07-26T12:17:29.180003Z",
     "iopub.status.busy": "2022-07-26T12:17:29.179378Z",
     "iopub.status.idle": "2022-07-26T12:17:29.182642Z",
     "shell.execute_reply": "2022-07-26T12:17:29.182093Z"
    },
    "papermill": {
     "duration": 0.038508,
     "end_time": "2022-07-26T12:17:29.182747",
     "exception": false,
     "start_time": "2022-07-26T12:17:29.144239",
     "status": "completed"
    },
    "tags": []
   },
   "outputs": [],
   "source": [
    "# #hide\n",
    "# fig, ax = plt.subplots(figsize=(15, 8))\n",
    "\n",
    "# def draw_barchart(current_day):\n",
    "#     dff = g[g['day'].eq(current_day)].sort_values(by='value', ascending=True).tail(10)\n",
    "#     ax.clear()\n",
    "#     ax.barh(dff['name'], dff['value'], color=[colors[group_lk[x]] for x in dff['name']])\n",
    "#     dx = dff['value'].max() / 200\n",
    "    \n",
    "#     for i, (value, name) in enumerate(zip(dff['value'], dff['name'])):\n",
    "#         ax.text(value-dx, i,     name,           size=14, weight=600, ha='right', va='bottom')\n",
    "#         ax.text(value-dx, i-.25, group_lk[name], size=10, color='#444444', ha='right', va='baseline')\n",
    "#         ax.text(value+dx, i,     f'{value:,.0f}',  size=14, ha='left',  va='center')\n",
    "#     ax.text(1, 0.4, current_day, transform=ax.transAxes, color='#777777', size=46, ha='right', weight=800)\n",
    "#     ax.text(0, 1.06, 'Population (thousands)', transform=ax.transAxes, size=12, color='#777777')\n",
    "#     ax.xaxis.set_major_formatter(ticker.StrMethodFormatter('{x:,.0f}'))\n",
    "#     ax.xaxis.set_ticks_position('top')\n",
    "#     ax.tick_params(axis='x', colors='#777777', labelsize=12)\n",
    "#     ax.set_yticks([])\n",
    "#     ax.margins(0, 0.01)\n",
    "#     ax.grid(which='major', axis='x', linestyle='-')\n",
    "#     ax.set_axisbelow(True)\n",
    "    \n",
    "#     ax.text(0, 1.15, 'Coronavirus',\n",
    "#             transform=ax.transAxes, size=24, weight=600, ha='left', va='top')\n",
    "# #     ax.text(1, 0, 'by @pratapvardhan; credit @jburnmurdoch', transform=ax.transAxes, color='#777777', ha='right',\n",
    "# #             bbox=dict(facecolor='white', alpha=0.8, edgecolor='white'))\n",
    "#     plt.box(False)"
   ]
  },
  {
   "cell_type": "code",
   "execution_count": 42,
   "id": "sexual-wages",
   "metadata": {
    "execution": {
     "iopub.execute_input": "2022-07-26T12:17:29.253027Z",
     "iopub.status.busy": "2022-07-26T12:17:29.252087Z",
     "iopub.status.idle": "2022-07-26T12:17:29.253712Z",
     "shell.execute_reply": "2022-07-26T12:17:29.254192Z"
    },
    "papermill": {
     "duration": 0.038288,
     "end_time": "2022-07-26T12:17:29.254326",
     "exception": false,
     "start_time": "2022-07-26T12:17:29.216038",
     "status": "completed"
    },
    "tags": []
   },
   "outputs": [],
   "source": [
    "# #hide_input\n",
    "# fig, ax = plt.subplots(figsize=(15, 8))\n",
    "# animator = animation.FuncAnimation(fig, draw_barchart, frames=range(g.day.values.min(), g.day.values.max()))\n",
    "# HTML(animator.to_jshtml())\n",
    "# # or use animator.to_html5_video() or animator.save() "
   ]
  },
  {
   "cell_type": "code",
   "execution_count": null,
   "id": "australian-container",
   "metadata": {
    "papermill": {
     "duration": 0.031815,
     "end_time": "2022-07-26T12:17:29.317958",
     "exception": false,
     "start_time": "2022-07-26T12:17:29.286143",
     "status": "completed"
    },
    "tags": []
   },
   "outputs": [],
   "source": []
  },
  {
   "cell_type": "code",
   "execution_count": null,
   "id": "mediterranean-pontiac",
   "metadata": {
    "papermill": {
     "duration": 0.031173,
     "end_time": "2022-07-26T12:17:29.381638",
     "exception": false,
     "start_time": "2022-07-26T12:17:29.350465",
     "status": "completed"
    },
    "tags": []
   },
   "outputs": [],
   "source": []
  },
  {
   "cell_type": "code",
   "execution_count": null,
   "id": "aging-legislature",
   "metadata": {
    "papermill": {
     "duration": 0.031525,
     "end_time": "2022-07-26T12:17:29.444986",
     "exception": false,
     "start_time": "2022-07-26T12:17:29.413461",
     "status": "completed"
    },
    "tags": []
   },
   "outputs": [],
   "source": []
  }
 ],
 "metadata": {
  "kernelspec": {
   "display_name": "Python 3",
   "language": "python",
   "name": "python3"
  },
  "language_info": {
   "codemirror_mode": {
    "name": "ipython",
    "version": 3
   },
   "file_extension": ".py",
   "mimetype": "text/x-python",
   "name": "python",
   "nbconvert_exporter": "python",
   "pygments_lexer": "ipython3",
   "version": "3.6.15"
  },
  "papermill": {
   "duration": 6.295175,
   "end_time": "2022-07-26T12:17:29.798219",
   "environment_variables": {},
   "exception": null,
   "input_path": "2020-03-21-covid19exp.ipynb",
   "output_path": "2020-03-21-covid19exp.ipynb",
   "parameters": {},
   "start_time": "2022-07-26T12:17:23.503044",
   "version": "2.0.0"
  }
 },
 "nbformat": 4,
 "nbformat_minor": 5
}