{
 "cells": [
  {
   "cell_type": "markdown",
   "id": "muslim-click",
   "metadata": {
    "papermill": {
     "duration": 0.03938,
     "end_time": "2022-06-30T12:17:33.617396",
     "exception": false,
     "start_time": "2022-06-30T12:17:33.578016",
     "status": "completed"
    },
    "tags": []
   },
   "source": [
    "# COVID-19 Case Race\n",
    "> A race chart to see rising cases around the world\n",
    "\n",
    "- author: Hargun Oberoi\n",
    "- image: images/covid-overview.png\n",
    "- hide: false\n",
    "- badges: false"
   ]
  },
  {
   "cell_type": "code",
   "execution_count": 1,
   "id": "proof-material",
   "metadata": {
    "execution": {
     "iopub.execute_input": "2022-06-30T12:17:33.696714Z",
     "iopub.status.busy": "2022-06-30T12:17:33.696067Z",
     "iopub.status.idle": "2022-06-30T12:17:34.019468Z",
     "shell.execute_reply": "2022-06-30T12:17:34.018881Z"
    },
    "papermill": {
     "duration": 0.367661,
     "end_time": "2022-06-30T12:17:34.019620",
     "exception": false,
     "start_time": "2022-06-30T12:17:33.651959",
     "status": "completed"
    },
    "tags": []
   },
   "outputs": [],
   "source": [
    "#hide\n",
    "import numpy as np\n",
    "import pandas as pd\n",
    "from jinja2 import Template\n",
    "from IPython.display import HTML"
   ]
  },
  {
   "cell_type": "code",
   "execution_count": 2,
   "id": "developed-terminology",
   "metadata": {
    "execution": {
     "iopub.execute_input": "2022-06-30T12:17:34.084284Z",
     "iopub.status.busy": "2022-06-30T12:17:34.083693Z",
     "iopub.status.idle": "2022-06-30T12:17:34.085926Z",
     "shell.execute_reply": "2022-06-30T12:17:34.086463Z"
    },
    "papermill": {
     "duration": 0.036739,
     "end_time": "2022-06-30T12:17:34.086593",
     "exception": false,
     "start_time": "2022-06-30T12:17:34.049854",
     "status": "completed"
    },
    "tags": []
   },
   "outputs": [],
   "source": [
    "#hide\n",
    "\n",
    "# FETCH\n",
    "base_url = 'https://raw.githubusercontent.com/pratapvardhan/notebooks/master/covid19/'\n",
    "paths = {\n",
    "    'mapping': base_url + 'mapping_countries.csv',\n",
    "    'overview': base_url + 'overview.tpl'\n",
    "}"
   ]
  },
  {
   "cell_type": "code",
   "execution_count": 3,
   "id": "dynamic-saver",
   "metadata": {
    "execution": {
     "iopub.execute_input": "2022-06-30T12:17:34.155453Z",
     "iopub.status.busy": "2022-06-30T12:17:34.154770Z",
     "iopub.status.idle": "2022-06-30T12:17:34.159758Z",
     "shell.execute_reply": "2022-06-30T12:17:34.159286Z"
    },
    "papermill": {
     "duration": 0.044178,
     "end_time": "2022-06-30T12:17:34.159867",
     "exception": false,
     "start_time": "2022-06-30T12:17:34.115689",
     "status": "completed"
    },
    "tags": []
   },
   "outputs": [
    {
     "data": {
      "text/plain": [
       "'https://raw.githubusercontent.com/pratapvardhan/notebooks/master/covid19/mapping_countries.csv'"
      ]
     },
     "execution_count": 3,
     "metadata": {},
     "output_type": "execute_result"
    }
   ],
   "source": [
    "#hide\n",
    "paths['mapping']"
   ]
  },
  {
   "cell_type": "code",
   "execution_count": 4,
   "id": "urban-software",
   "metadata": {
    "execution": {
     "iopub.execute_input": "2022-06-30T12:17:34.225296Z",
     "iopub.status.busy": "2022-06-30T12:17:34.224663Z",
     "iopub.status.idle": "2022-06-30T12:17:34.226934Z",
     "shell.execute_reply": "2022-06-30T12:17:34.227489Z"
    },
    "papermill": {
     "duration": 0.038034,
     "end_time": "2022-06-30T12:17:34.227621",
     "exception": false,
     "start_time": "2022-06-30T12:17:34.189587",
     "status": "completed"
    },
    "tags": []
   },
   "outputs": [],
   "source": [
    "#hide\n",
    "def get_mappings(url):\n",
    "    df = pd.read_csv(url)\n",
    "    return {\n",
    "        'df': df,\n",
    "        'replace.country': dict(df.dropna(subset=['Name']).set_index('Country')['Name']),\n",
    "        'map.continent': dict(df.set_index('Name')['Continent'])\n",
    "    }"
   ]
  },
  {
   "cell_type": "code",
   "execution_count": 5,
   "id": "intimate-machinery",
   "metadata": {
    "execution": {
     "iopub.execute_input": "2022-06-30T12:17:34.292717Z",
     "iopub.status.busy": "2022-06-30T12:17:34.292126Z",
     "iopub.status.idle": "2022-06-30T12:17:34.339254Z",
     "shell.execute_reply": "2022-06-30T12:17:34.339724Z"
    },
    "papermill": {
     "duration": 0.08278,
     "end_time": "2022-06-30T12:17:34.339874",
     "exception": false,
     "start_time": "2022-06-30T12:17:34.257094",
     "status": "completed"
    },
    "tags": []
   },
   "outputs": [],
   "source": [
    "#hide\n",
    "mapping = get_mappings(paths['mapping'])"
   ]
  },
  {
   "cell_type": "code",
   "execution_count": 6,
   "id": "certified-tactics",
   "metadata": {
    "execution": {
     "iopub.execute_input": "2022-06-30T12:17:34.404874Z",
     "iopub.status.busy": "2022-06-30T12:17:34.403802Z",
     "iopub.status.idle": "2022-06-30T12:17:34.405594Z",
     "shell.execute_reply": "2022-06-30T12:17:34.406069Z"
    },
    "papermill": {
     "duration": 0.036576,
     "end_time": "2022-06-30T12:17:34.406199",
     "exception": false,
     "start_time": "2022-06-30T12:17:34.369623",
     "status": "completed"
    },
    "tags": []
   },
   "outputs": [],
   "source": [
    "#hide\n",
    "def get_template(path):\n",
    "    from urllib.parse import urlparse\n",
    "    if bool(urlparse(path).netloc):\n",
    "        from urllib.request import urlopen\n",
    "        return urlopen(path).read().decode('utf8')\n",
    "    return open(path).read()"
   ]
  },
  {
   "cell_type": "code",
   "execution_count": 7,
   "id": "realistic-blast",
   "metadata": {
    "execution": {
     "iopub.execute_input": "2022-06-30T12:17:34.470804Z",
     "iopub.status.busy": "2022-06-30T12:17:34.470093Z",
     "iopub.status.idle": "2022-06-30T12:17:34.471867Z",
     "shell.execute_reply": "2022-06-30T12:17:34.472338Z"
    },
    "papermill": {
     "duration": 0.036869,
     "end_time": "2022-06-30T12:17:34.472470",
     "exception": false,
     "start_time": "2022-06-30T12:17:34.435601",
     "status": "completed"
    },
    "tags": []
   },
   "outputs": [],
   "source": [
    "#hide\n",
    "def get_frame(name):\n",
    "    url = (\n",
    "        'https://raw.githubusercontent.com/CSSEGISandData/COVID-19/master/csse_covid_19_data/'\n",
    "        f'csse_covid_19_time_series/time_series_covid19_{name}_global.csv')\n",
    "    df = pd.read_csv(url)\n",
    "    # rename countries\n",
    "    df['Country/Region'] = df['Country/Region'].replace(mapping['replace.country'])\n",
    "    return df"
   ]
  },
  {
   "cell_type": "code",
   "execution_count": 8,
   "id": "affiliated-characterization",
   "metadata": {
    "execution": {
     "iopub.execute_input": "2022-06-30T12:17:34.537496Z",
     "iopub.status.busy": "2022-06-30T12:17:34.536672Z",
     "iopub.status.idle": "2022-06-30T12:17:34.539143Z",
     "shell.execute_reply": "2022-06-30T12:17:34.538569Z"
    },
    "papermill": {
     "duration": 0.037195,
     "end_time": "2022-06-30T12:17:34.539251",
     "exception": false,
     "start_time": "2022-06-30T12:17:34.502056",
     "status": "completed"
    },
    "tags": []
   },
   "outputs": [],
   "source": [
    "#hide\n",
    "def get_dates(df):\n",
    "    dt_cols = df.columns[~df.columns.isin(['Province/State', 'Country/Region', 'Lat', 'Long'])]\n",
    "    LAST_DATE_I = -1\n",
    "    # sometimes last column may be empty, then go backwards\n",
    "    for i in range(-1, -len(dt_cols), -1):\n",
    "        if not df[dt_cols[i]].fillna(0).eq(0).all():\n",
    "            LAST_DATE_I = i\n",
    "            break\n",
    "    return LAST_DATE_I, dt_cols"
   ]
  },
  {
   "cell_type": "code",
   "execution_count": 9,
   "id": "recent-optimization",
   "metadata": {
    "execution": {
     "iopub.execute_input": "2022-06-30T12:17:34.603674Z",
     "iopub.status.busy": "2022-06-30T12:17:34.603075Z",
     "iopub.status.idle": "2022-06-30T12:17:35.045532Z",
     "shell.execute_reply": "2022-06-30T12:17:35.044684Z"
    },
    "papermill": {
     "duration": 0.476736,
     "end_time": "2022-06-30T12:17:35.045709",
     "exception": false,
     "start_time": "2022-06-30T12:17:34.568973",
     "status": "completed"
    },
    "tags": []
   },
   "outputs": [],
   "source": [
    "#hide\n",
    "COL_REGION = 'Country/Region'\n",
    "# Confirmed, Recovered, Deaths\n",
    "df = get_frame('confirmed')\n",
    "# dft_: timeseries, dfc_: today country agg\n",
    "dft_cases = df\n",
    "dft_deaths = get_frame('deaths')\n",
    "dft_recovered = get_frame('recovered')\n",
    "LAST_DATE_I, dt_cols = get_dates(df)"
   ]
  },
  {
   "cell_type": "code",
   "execution_count": 10,
   "id": "absolute-copper",
   "metadata": {
    "execution": {
     "iopub.execute_input": "2022-06-30T12:17:35.116859Z",
     "iopub.status.busy": "2022-06-30T12:17:35.116232Z",
     "iopub.status.idle": "2022-06-30T12:17:35.118914Z",
     "shell.execute_reply": "2022-06-30T12:17:35.118350Z"
    },
    "papermill": {
     "duration": 0.039158,
     "end_time": "2022-06-30T12:17:35.119027",
     "exception": false,
     "start_time": "2022-06-30T12:17:35.079869",
     "status": "completed"
    },
    "tags": []
   },
   "outputs": [],
   "source": [
    "#hide\n",
    "LAST_DATE_I, dt_cols = get_dates(df)\n",
    "dt_today =dt_cols[LAST_DATE_I]\n",
    "# dt_5day = dt_cols[LAST_DATE_I - 5]\n",
    "dt_yday = dt_cols[LAST_DATE_I - 1]"
   ]
  },
  {
   "cell_type": "code",
   "execution_count": 11,
   "id": "restricted-sheriff",
   "metadata": {
    "execution": {
     "iopub.execute_input": "2022-06-30T12:17:35.184483Z",
     "iopub.status.busy": "2022-06-30T12:17:35.183854Z",
     "iopub.status.idle": "2022-06-30T12:17:35.192434Z",
     "shell.execute_reply": "2022-06-30T12:17:35.191952Z"
    },
    "papermill": {
     "duration": 0.043958,
     "end_time": "2022-06-30T12:17:35.192561",
     "exception": false,
     "start_time": "2022-06-30T12:17:35.148603",
     "status": "completed"
    },
    "tags": []
   },
   "outputs": [],
   "source": [
    "#hide\n",
    "dfc_cases = dft_cases.groupby(COL_REGION)[dt_today].sum()\n",
    "dfc_deaths = dft_deaths.groupby(COL_REGION)[dt_today].sum()\n",
    "# dfp_cases = dft_cases.groupby(COL_REGION)[dt_5day].sum()\n",
    "# dfp_deaths = dft_deaths.groupby(COL_REGION)[dt_5day].sum()\n",
    "dfp_cases = dft_cases.groupby(COL_REGION)[dt_yday].sum()\n",
    "dfp_deaths = dft_deaths.groupby(COL_REGION)[dt_yday].sum()"
   ]
  },
  {
   "cell_type": "code",
   "execution_count": 12,
   "id": "deluxe-hepatitis",
   "metadata": {
    "execution": {
     "iopub.execute_input": "2022-06-30T12:17:35.258553Z",
     "iopub.status.busy": "2022-06-30T12:17:35.257955Z",
     "iopub.status.idle": "2022-06-30T12:17:35.267880Z",
     "shell.execute_reply": "2022-06-30T12:17:35.268341Z"
    },
    "papermill": {
     "duration": 0.046123,
     "end_time": "2022-06-30T12:17:35.268492",
     "exception": false,
     "start_time": "2022-06-30T12:17:35.222369",
     "status": "completed"
    },
    "tags": []
   },
   "outputs": [],
   "source": [
    "#hide\n",
    "df_table = (pd.DataFrame(dict(Cases = dfc_cases, Deaths = dfc_deaths, PCases = dfp_cases, PDeaths = dfp_deaths))\n",
    "            .sort_values(by = ['Cases','Deaths'], ascending = [False, False])\n",
    "            .reset_index())"
   ]
  },
  {
   "cell_type": "code",
   "execution_count": 13,
   "id": "educational-chancellor",
   "metadata": {
    "execution": {
     "iopub.execute_input": "2022-06-30T12:17:35.347403Z",
     "iopub.status.busy": "2022-06-30T12:17:35.346731Z",
     "iopub.status.idle": "2022-06-30T12:17:35.354160Z",
     "shell.execute_reply": "2022-06-30T12:17:35.354606Z"
    },
    "papermill": {
     "duration": 0.056627,
     "end_time": "2022-06-30T12:17:35.354745",
     "exception": false,
     "start_time": "2022-06-30T12:17:35.298118",
     "status": "completed"
    },
    "tags": []
   },
   "outputs": [
    {
     "data": {
      "text/html": [
       "<div>\n",
       "<style scoped>\n",
       "    .dataframe tbody tr th:only-of-type {\n",
       "        vertical-align: middle;\n",
       "    }\n",
       "\n",
       "    .dataframe tbody tr th {\n",
       "        vertical-align: top;\n",
       "    }\n",
       "\n",
       "    .dataframe thead th {\n",
       "        text-align: right;\n",
       "    }\n",
       "</style>\n",
       "<table border=\"1\" class=\"dataframe\">\n",
       "  <thead>\n",
       "    <tr style=\"text-align: right;\">\n",
       "      <th></th>\n",
       "      <th>Country/Region</th>\n",
       "      <th>Cases</th>\n",
       "      <th>Deaths</th>\n",
       "      <th>PCases</th>\n",
       "      <th>PDeaths</th>\n",
       "      <th>Cases (+)</th>\n",
       "      <th>Deaths (+)</th>\n",
       "      <th>Fatality Rate</th>\n",
       "      <th>Continent</th>\n",
       "    </tr>\n",
       "  </thead>\n",
       "  <tbody>\n",
       "    <tr>\n",
       "      <th>0</th>\n",
       "      <td>US</td>\n",
       "      <td>87410874</td>\n",
       "      <td>1017467</td>\n",
       "      <td>87217673</td>\n",
       "      <td>1016757</td>\n",
       "      <td>193201</td>\n",
       "      <td>710</td>\n",
       "      <td>1.16</td>\n",
       "      <td>North America</td>\n",
       "    </tr>\n",
       "    <tr>\n",
       "      <th>1</th>\n",
       "      <td>India</td>\n",
       "      <td>43452164</td>\n",
       "      <td>525116</td>\n",
       "      <td>43433345</td>\n",
       "      <td>525077</td>\n",
       "      <td>18819</td>\n",
       "      <td>39</td>\n",
       "      <td>1.21</td>\n",
       "      <td>Asia</td>\n",
       "    </tr>\n",
       "    <tr>\n",
       "      <th>2</th>\n",
       "      <td>Brazil</td>\n",
       "      <td>32206954</td>\n",
       "      <td>670848</td>\n",
       "      <td>32206954</td>\n",
       "      <td>670848</td>\n",
       "      <td>0</td>\n",
       "      <td>0</td>\n",
       "      <td>2.08</td>\n",
       "      <td>South America</td>\n",
       "    </tr>\n",
       "    <tr>\n",
       "      <th>3</th>\n",
       "      <td>France</td>\n",
       "      <td>31151971</td>\n",
       "      <td>150530</td>\n",
       "      <td>31027099</td>\n",
       "      <td>150482</td>\n",
       "      <td>124872</td>\n",
       "      <td>48</td>\n",
       "      <td>0.48</td>\n",
       "      <td>Europe</td>\n",
       "    </tr>\n",
       "    <tr>\n",
       "      <th>4</th>\n",
       "      <td>Germany</td>\n",
       "      <td>28180861</td>\n",
       "      <td>141105</td>\n",
       "      <td>28048190</td>\n",
       "      <td>141022</td>\n",
       "      <td>132671</td>\n",
       "      <td>83</td>\n",
       "      <td>0.50</td>\n",
       "      <td>Europe</td>\n",
       "    </tr>\n",
       "  </tbody>\n",
       "</table>\n",
       "</div>"
      ],
      "text/plain": [
       "  Country/Region     Cases   Deaths    PCases  PDeaths  Cases (+)  Deaths (+)  \\\n",
       "0             US  87410874  1017467  87217673  1016757     193201         710   \n",
       "1          India  43452164   525116  43433345   525077      18819          39   \n",
       "2         Brazil  32206954   670848  32206954   670848          0           0   \n",
       "3         France  31151971   150530  31027099   150482     124872          48   \n",
       "4        Germany  28180861   141105  28048190   141022     132671          83   \n",
       "\n",
       "   Fatality Rate      Continent  \n",
       "0           1.16  North America  \n",
       "1           1.21           Asia  \n",
       "2           2.08  South America  \n",
       "3           0.48         Europe  \n",
       "4           0.50         Europe  "
      ]
     },
     "execution_count": 13,
     "metadata": {},
     "output_type": "execute_result"
    }
   ],
   "source": [
    "#hide\n",
    "for c in 'Cases, Deaths'.split(', '):\n",
    "    df_table[f'{c} (+)'] = (df_table[c] - df_table[f'P{c}']).clip(0)\n",
    "    #Clip ça veut dire, les chiffres negatif sont interdit\n",
    "df_table['Fatality Rate'] = (100* df_table['Deaths']/ df_table['Cases']).round(2)\n",
    "df_table['Continent'] = df_table['Country/Region'].map(mapping['map.continent'])\n",
    "df_table.head(5)"
   ]
  },
  {
   "cell_type": "code",
   "execution_count": 14,
   "id": "aboriginal-bulgaria",
   "metadata": {
    "execution": {
     "iopub.execute_input": "2022-06-30T12:17:35.421496Z",
     "iopub.status.busy": "2022-06-30T12:17:35.420850Z",
     "iopub.status.idle": "2022-06-30T12:17:35.423247Z",
     "shell.execute_reply": "2022-06-30T12:17:35.423807Z"
    },
    "papermill": {
     "duration": 0.03873,
     "end_time": "2022-06-30T12:17:35.423935",
     "exception": false,
     "start_time": "2022-06-30T12:17:35.385205",
     "status": "completed"
    },
    "tags": []
   },
   "outputs": [],
   "source": [
    "#hide\n",
    "#delete problematic countries from table\n",
    "df_table = df_table[~df_table['Country/Region'].isin(['Cape Verde', 'Cruise Ship', 'Kosovo'])]"
   ]
  },
  {
   "cell_type": "code",
   "execution_count": 15,
   "id": "fantastic-effect",
   "metadata": {
    "execution": {
     "iopub.execute_input": "2022-06-30T12:17:35.493472Z",
     "iopub.status.busy": "2022-06-30T12:17:35.492809Z",
     "iopub.status.idle": "2022-06-30T12:17:35.509792Z",
     "shell.execute_reply": "2022-06-30T12:17:35.510291Z"
    },
    "papermill": {
     "duration": 0.056441,
     "end_time": "2022-06-30T12:17:35.510428",
     "exception": false,
     "start_time": "2022-06-30T12:17:35.453987",
     "status": "completed"
    },
    "tags": []
   },
   "outputs": [
    {
     "data": {
      "text/html": [
       "<div>\n",
       "<style scoped>\n",
       "    .dataframe tbody tr th:only-of-type {\n",
       "        vertical-align: middle;\n",
       "    }\n",
       "\n",
       "    .dataframe tbody tr th {\n",
       "        vertical-align: top;\n",
       "    }\n",
       "\n",
       "    .dataframe thead th {\n",
       "        text-align: right;\n",
       "    }\n",
       "</style>\n",
       "<table border=\"1\" class=\"dataframe\">\n",
       "  <thead>\n",
       "    <tr style=\"text-align: right;\">\n",
       "      <th></th>\n",
       "      <th>Country/Region</th>\n",
       "      <th>Cases</th>\n",
       "      <th>Deaths</th>\n",
       "      <th>PCases</th>\n",
       "      <th>PDeaths</th>\n",
       "      <th>Cases (+)</th>\n",
       "      <th>Deaths (+)</th>\n",
       "      <th>Fatality Rate</th>\n",
       "      <th>Continent</th>\n",
       "    </tr>\n",
       "  </thead>\n",
       "  <tbody>\n",
       "    <tr>\n",
       "      <th>0</th>\n",
       "      <td>US</td>\n",
       "      <td>87410874</td>\n",
       "      <td>1017467</td>\n",
       "      <td>87217673</td>\n",
       "      <td>1016757</td>\n",
       "      <td>193201</td>\n",
       "      <td>710</td>\n",
       "      <td>1.2</td>\n",
       "      <td>North America</td>\n",
       "    </tr>\n",
       "    <tr>\n",
       "      <th>1</th>\n",
       "      <td>India</td>\n",
       "      <td>43452164</td>\n",
       "      <td>525116</td>\n",
       "      <td>43433345</td>\n",
       "      <td>525077</td>\n",
       "      <td>18819</td>\n",
       "      <td>39</td>\n",
       "      <td>1.2</td>\n",
       "      <td>Asia</td>\n",
       "    </tr>\n",
       "    <tr>\n",
       "      <th>2</th>\n",
       "      <td>Brazil</td>\n",
       "      <td>32206954</td>\n",
       "      <td>670848</td>\n",
       "      <td>32206954</td>\n",
       "      <td>670848</td>\n",
       "      <td>0</td>\n",
       "      <td>0</td>\n",
       "      <td>2.1</td>\n",
       "      <td>South America</td>\n",
       "    </tr>\n",
       "    <tr>\n",
       "      <th>3</th>\n",
       "      <td>France</td>\n",
       "      <td>31151971</td>\n",
       "      <td>150530</td>\n",
       "      <td>31027099</td>\n",
       "      <td>150482</td>\n",
       "      <td>124872</td>\n",
       "      <td>48</td>\n",
       "      <td>0.5</td>\n",
       "      <td>Europe</td>\n",
       "    </tr>\n",
       "    <tr>\n",
       "      <th>4</th>\n",
       "      <td>Germany</td>\n",
       "      <td>28180861</td>\n",
       "      <td>141105</td>\n",
       "      <td>28048190</td>\n",
       "      <td>141022</td>\n",
       "      <td>132671</td>\n",
       "      <td>83</td>\n",
       "      <td>0.5</td>\n",
       "      <td>Europe</td>\n",
       "    </tr>\n",
       "  </tbody>\n",
       "</table>\n",
       "</div>"
      ],
      "text/plain": [
       "  Country/Region     Cases   Deaths    PCases  PDeaths  Cases (+)  Deaths (+)  \\\n",
       "0             US  87410874  1017467  87217673  1016757     193201         710   \n",
       "1          India  43452164   525116  43433345   525077      18819          39   \n",
       "2         Brazil  32206954   670848  32206954   670848          0           0   \n",
       "3         France  31151971   150530  31027099   150482     124872          48   \n",
       "4        Germany  28180861   141105  28048190   141022     132671          83   \n",
       "\n",
       "   Fatality Rate      Continent  \n",
       "0            1.2  North America  \n",
       "1            1.2           Asia  \n",
       "2            2.1  South America  \n",
       "3            0.5         Europe  \n",
       "4            0.5         Europe  "
      ]
     },
     "execution_count": 15,
     "metadata": {},
     "output_type": "execute_result"
    }
   ],
   "source": [
    "#hide\n",
    "df_table = (pd.DataFrame(dict(Cases=dfc_cases, Deaths=dfc_deaths, PCases=dfp_cases, PDeaths=dfp_deaths))\n",
    "             .sort_values(by=['Cases', 'Deaths'], ascending=[False, False])\n",
    "             .reset_index())\n",
    "df_table.rename(columns={'index': 'Country/Region'}, inplace=True)\n",
    "for c in 'Cases, Deaths'.split(', '):\n",
    "    df_table[f'{c} (+)'] = (df_table[c] - df_table[f'P{c}']).clip(0)  # DATA BUG\n",
    "df_table['Fatality Rate'] = (100 * df_table['Deaths'] / df_table['Cases']).round(1)\n",
    "df_table['Continent'] = df_table['Country/Region'].map(mapping['map.continent'])\n",
    "df_table.head(5)"
   ]
  },
  {
   "cell_type": "code",
   "execution_count": 16,
   "id": "fewer-occasion",
   "metadata": {
    "execution": {
     "iopub.execute_input": "2022-06-30T12:17:35.578120Z",
     "iopub.status.busy": "2022-06-30T12:17:35.577433Z",
     "iopub.status.idle": "2022-06-30T12:17:35.579449Z",
     "shell.execute_reply": "2022-06-30T12:17:35.579872Z"
    },
    "papermill": {
     "duration": 0.038735,
     "end_time": "2022-06-30T12:17:35.580009",
     "exception": false,
     "start_time": "2022-06-30T12:17:35.541274",
     "status": "completed"
    },
    "tags": []
   },
   "outputs": [],
   "source": [
    "#hide\n",
    "#delete problematic countries from table\n",
    "df_table = df_table[~df_table['Country/Region'].isin(['Cape Verde', 'Cruise Ship', 'Kosovo'])]"
   ]
  },
  {
   "cell_type": "code",
   "execution_count": 17,
   "id": "related-center",
   "metadata": {
    "execution": {
     "iopub.execute_input": "2022-06-30T12:17:35.654645Z",
     "iopub.status.busy": "2022-06-30T12:17:35.654013Z",
     "iopub.status.idle": "2022-06-30T12:17:35.661990Z",
     "shell.execute_reply": "2022-06-30T12:17:35.662488Z"
    },
    "papermill": {
     "duration": 0.051814,
     "end_time": "2022-06-30T12:17:35.662629",
     "exception": false,
     "start_time": "2022-06-30T12:17:35.610815",
     "status": "completed"
    },
    "tags": []
   },
   "outputs": [],
   "source": [
    "#hide\n",
    "metrics = [df_table.columns[index] for index in [1,2,5,6]]\n",
    "# s_china = df_table[df_table['Country/Region'].eq('China')][metrics].sum().add_prefix('China ')\n",
    "s_us = df_table[df_table['Country/Region'].eq('US')][metrics].sum().add_prefix('US ')\n",
    "s_eu = df_table[df_table['Continent'].eq('Europe')][metrics].sum().add_prefix('EU ')\n",
    "s_ind = df_table[df_table['Country/Region'].eq('India')][metrics].sum().add_prefix('India ')\n",
    "summary = {'updated': pd.to_datetime(dt_today), 'since': pd.to_datetime(dt_yday)}\n",
    "summary = {'updated': pd.to_datetime(dt_today), 'since': pd.to_datetime(dt_yday)}\n",
    "summary = {**summary, **df_table[metrics].sum(), **s_ind, **s_us, **s_eu}"
   ]
  },
  {
   "cell_type": "code",
   "execution_count": 18,
   "id": "engaging-syndrome",
   "metadata": {
    "execution": {
     "iopub.execute_input": "2022-06-30T12:17:35.729131Z",
     "iopub.status.busy": "2022-06-30T12:17:35.728459Z",
     "iopub.status.idle": "2022-06-30T12:17:35.748611Z",
     "shell.execute_reply": "2022-06-30T12:17:35.749096Z"
    },
    "papermill": {
     "duration": 0.05603,
     "end_time": "2022-06-30T12:17:35.749261",
     "exception": false,
     "start_time": "2022-06-30T12:17:35.693231",
     "status": "completed"
    },
    "tags": []
   },
   "outputs": [],
   "source": [
    "#hide\n",
    "dft_ct_new_cases = dft_cases.groupby(COL_REGION)[dt_cols].sum().diff(axis=1).fillna(0).astype(int)"
   ]
  },
  {
   "cell_type": "code",
   "execution_count": 19,
   "id": "neutral-assignment",
   "metadata": {
    "execution": {
     "iopub.execute_input": "2022-06-30T12:17:35.819207Z",
     "iopub.status.busy": "2022-06-30T12:17:35.818364Z",
     "iopub.status.idle": "2022-06-30T12:17:35.820244Z",
     "shell.execute_reply": "2022-06-30T12:17:35.820710Z"
    },
    "papermill": {
     "duration": 0.041007,
     "end_time": "2022-06-30T12:17:35.820848",
     "exception": false,
     "start_time": "2022-06-30T12:17:35.779841",
     "status": "completed"
    },
    "tags": []
   },
   "outputs": [],
   "source": [
    "#hide\n",
    "everydaycases = dft_ct_new_cases.cumsum(axis=1)"
   ]
  },
  {
   "cell_type": "code",
   "execution_count": 20,
   "id": "parliamentary-calgary",
   "metadata": {
    "execution": {
     "iopub.execute_input": "2022-06-30T12:17:35.891466Z",
     "iopub.status.busy": "2022-06-30T12:17:35.890777Z",
     "iopub.status.idle": "2022-06-30T12:17:36.470599Z",
     "shell.execute_reply": "2022-06-30T12:17:36.470020Z"
    },
    "papermill": {
     "duration": 0.616599,
     "end_time": "2022-06-30T12:17:36.470741",
     "exception": false,
     "start_time": "2022-06-30T12:17:35.854142",
     "status": "completed"
    },
    "tags": []
   },
   "outputs": [],
   "source": [
    "#hide\n",
    "import pandas as pd\n",
    "import matplotlib.pyplot as plt\n",
    "import matplotlib.ticker as ticker\n",
    "import matplotlib.animation as animation\n",
    "from IPython.display import HTML"
   ]
  },
  {
   "cell_type": "code",
   "execution_count": 21,
   "id": "lasting-extraction",
   "metadata": {
    "execution": {
     "iopub.execute_input": "2022-06-30T12:17:36.539014Z",
     "iopub.status.busy": "2022-06-30T12:17:36.538432Z",
     "iopub.status.idle": "2022-06-30T12:17:36.545280Z",
     "shell.execute_reply": "2022-06-30T12:17:36.544681Z"
    },
    "papermill": {
     "duration": 0.043649,
     "end_time": "2022-06-30T12:17:36.545400",
     "exception": false,
     "start_time": "2022-06-30T12:17:36.501751",
     "status": "completed"
    },
    "tags": []
   },
   "outputs": [],
   "source": [
    "#hide\n",
    "t = everydaycases.stack()"
   ]
  },
  {
   "cell_type": "code",
   "execution_count": 22,
   "id": "premier-sleeve",
   "metadata": {
    "execution": {
     "iopub.execute_input": "2022-06-30T12:17:36.611680Z",
     "iopub.status.busy": "2022-06-30T12:17:36.611076Z",
     "iopub.status.idle": "2022-06-30T12:17:36.623144Z",
     "shell.execute_reply": "2022-06-30T12:17:36.623600Z"
    },
    "papermill": {
     "duration": 0.047628,
     "end_time": "2022-06-30T12:17:36.623750",
     "exception": false,
     "start_time": "2022-06-30T12:17:36.576122",
     "status": "completed"
    },
    "tags": []
   },
   "outputs": [],
   "source": [
    "#hide\n",
    "g = t.reset_index(['Country/Region'])"
   ]
  },
  {
   "cell_type": "code",
   "execution_count": 23,
   "id": "distributed-pittsburgh",
   "metadata": {
    "execution": {
     "iopub.execute_input": "2022-06-30T12:17:36.689289Z",
     "iopub.status.busy": "2022-06-30T12:17:36.688684Z",
     "iopub.status.idle": "2022-06-30T12:17:36.691512Z",
     "shell.execute_reply": "2022-06-30T12:17:36.691045Z"
    },
    "papermill": {
     "duration": 0.037236,
     "end_time": "2022-06-30T12:17:36.691623",
     "exception": false,
     "start_time": "2022-06-30T12:17:36.654387",
     "status": "completed"
    },
    "tags": []
   },
   "outputs": [],
   "source": [
    "#hide\n",
    "g.index.name = 'date'"
   ]
  },
  {
   "cell_type": "code",
   "execution_count": 24,
   "id": "naked-donor",
   "metadata": {
    "execution": {
     "iopub.execute_input": "2022-06-30T12:17:36.757155Z",
     "iopub.status.busy": "2022-06-30T12:17:36.756445Z",
     "iopub.status.idle": "2022-06-30T12:17:36.758339Z",
     "shell.execute_reply": "2022-06-30T12:17:36.758849Z"
    },
    "papermill": {
     "duration": 0.036691,
     "end_time": "2022-06-30T12:17:36.758995",
     "exception": false,
     "start_time": "2022-06-30T12:17:36.722304",
     "status": "completed"
    },
    "tags": []
   },
   "outputs": [],
   "source": [
    "# #hide\n",
    "# g = g.reset_index(['date'])"
   ]
  },
  {
   "cell_type": "code",
   "execution_count": 25,
   "id": "incomplete-mustang",
   "metadata": {
    "execution": {
     "iopub.execute_input": "2022-06-30T12:17:36.824679Z",
     "iopub.status.busy": "2022-06-30T12:17:36.823977Z",
     "iopub.status.idle": "2022-06-30T12:17:36.825869Z",
     "shell.execute_reply": "2022-06-30T12:17:36.826375Z"
    },
    "papermill": {
     "duration": 0.036762,
     "end_time": "2022-06-30T12:17:36.826524",
     "exception": false,
     "start_time": "2022-06-30T12:17:36.789762",
     "status": "completed"
    },
    "tags": []
   },
   "outputs": [],
   "source": [
    "#hide\n",
    "# g.head()"
   ]
  },
  {
   "cell_type": "code",
   "execution_count": 26,
   "id": "specific-kruger",
   "metadata": {
    "execution": {
     "iopub.execute_input": "2022-06-30T12:17:36.892520Z",
     "iopub.status.busy": "2022-06-30T12:17:36.891903Z",
     "iopub.status.idle": "2022-06-30T12:17:36.894329Z",
     "shell.execute_reply": "2022-06-30T12:17:36.893759Z"
    },
    "papermill": {
     "duration": 0.036641,
     "end_time": "2022-06-30T12:17:36.894440",
     "exception": false,
     "start_time": "2022-06-30T12:17:36.857799",
     "status": "completed"
    },
    "tags": []
   },
   "outputs": [],
   "source": [
    "#hide\n",
    "# g.columns = ['date','country','cases']"
   ]
  },
  {
   "cell_type": "code",
   "execution_count": 27,
   "id": "tender-conversion",
   "metadata": {
    "execution": {
     "iopub.execute_input": "2022-06-30T12:17:36.960494Z",
     "iopub.status.busy": "2022-06-30T12:17:36.959793Z",
     "iopub.status.idle": "2022-06-30T12:17:36.962444Z",
     "shell.execute_reply": "2022-06-30T12:17:36.961868Z"
    },
    "papermill": {
     "duration": 0.037072,
     "end_time": "2022-06-30T12:17:36.962567",
     "exception": false,
     "start_time": "2022-06-30T12:17:36.925495",
     "status": "completed"
    },
    "tags": []
   },
   "outputs": [],
   "source": [
    "#hide\n",
    "# g['continent'] = g.country"
   ]
  },
  {
   "cell_type": "code",
   "execution_count": 28,
   "id": "substantial-wilderness",
   "metadata": {
    "execution": {
     "iopub.execute_input": "2022-06-30T12:17:37.029465Z",
     "iopub.status.busy": "2022-06-30T12:17:37.028827Z",
     "iopub.status.idle": "2022-06-30T12:17:37.031821Z",
     "shell.execute_reply": "2022-06-30T12:17:37.031345Z"
    },
    "papermill": {
     "duration": 0.037815,
     "end_time": "2022-06-30T12:17:37.031936",
     "exception": false,
     "start_time": "2022-06-30T12:17:36.994121",
     "status": "completed"
    },
    "tags": []
   },
   "outputs": [],
   "source": [
    "#hide\n",
    "# cols = list(g.columns.values)"
   ]
  },
  {
   "cell_type": "code",
   "execution_count": 29,
   "id": "solved-farming",
   "metadata": {
    "execution": {
     "iopub.execute_input": "2022-06-30T12:17:37.097064Z",
     "iopub.status.busy": "2022-06-30T12:17:37.096475Z",
     "iopub.status.idle": "2022-06-30T12:17:37.099374Z",
     "shell.execute_reply": "2022-06-30T12:17:37.098900Z"
    },
    "papermill": {
     "duration": 0.03713,
     "end_time": "2022-06-30T12:17:37.099487",
     "exception": false,
     "start_time": "2022-06-30T12:17:37.062357",
     "status": "completed"
    },
    "tags": []
   },
   "outputs": [],
   "source": [
    "#hide\n",
    "# cols.insert(0, cols.pop())"
   ]
  },
  {
   "cell_type": "code",
   "execution_count": 30,
   "id": "executed-adoption",
   "metadata": {
    "execution": {
     "iopub.execute_input": "2022-06-30T12:17:37.164415Z",
     "iopub.status.busy": "2022-06-30T12:17:37.163794Z",
     "iopub.status.idle": "2022-06-30T12:17:37.167605Z",
     "shell.execute_reply": "2022-06-30T12:17:37.168035Z"
    },
    "papermill": {
     "duration": 0.038162,
     "end_time": "2022-06-30T12:17:37.168177",
     "exception": false,
     "start_time": "2022-06-30T12:17:37.130015",
     "status": "completed"
    },
    "tags": []
   },
   "outputs": [],
   "source": [
    "#hide\n",
    "# g = g[cols]"
   ]
  },
  {
   "cell_type": "code",
   "execution_count": 31,
   "id": "subject-dublin",
   "metadata": {
    "execution": {
     "iopub.execute_input": "2022-06-30T12:17:37.250253Z",
     "iopub.status.busy": "2022-06-30T12:17:37.249638Z",
     "iopub.status.idle": "2022-06-30T12:17:37.252728Z",
     "shell.execute_reply": "2022-06-30T12:17:37.252252Z"
    },
    "papermill": {
     "duration": 0.044769,
     "end_time": "2022-06-30T12:17:37.252840",
     "exception": false,
     "start_time": "2022-06-30T12:17:37.208071",
     "status": "completed"
    },
    "tags": []
   },
   "outputs": [],
   "source": [
    "#hide\n",
    "# g['continent'] = g['continent'].map(mapping['map.continent'])"
   ]
  },
  {
   "cell_type": "code",
   "execution_count": 32,
   "id": "freelance-scout",
   "metadata": {
    "execution": {
     "iopub.execute_input": "2022-06-30T12:17:37.318229Z",
     "iopub.status.busy": "2022-06-30T12:17:37.317586Z",
     "iopub.status.idle": "2022-06-30T12:17:37.321600Z",
     "shell.execute_reply": "2022-06-30T12:17:37.322052Z"
    },
    "papermill": {
     "duration": 0.038617,
     "end_time": "2022-06-30T12:17:37.322195",
     "exception": false,
     "start_time": "2022-06-30T12:17:37.283578",
     "status": "completed"
    },
    "tags": []
   },
   "outputs": [],
   "source": [
    "#hide\n",
    "# g.head()"
   ]
  },
  {
   "cell_type": "code",
   "execution_count": 33,
   "id": "limited-engine",
   "metadata": {
    "execution": {
     "iopub.execute_input": "2022-06-30T12:17:37.389410Z",
     "iopub.status.busy": "2022-06-30T12:17:37.388595Z",
     "iopub.status.idle": "2022-06-30T12:17:37.390807Z",
     "shell.execute_reply": "2022-06-30T12:17:37.390173Z"
    },
    "papermill": {
     "duration": 0.03777,
     "end_time": "2022-06-30T12:17:37.390934",
     "exception": false,
     "start_time": "2022-06-30T12:17:37.353164",
     "status": "completed"
    },
    "tags": []
   },
   "outputs": [],
   "source": [
    "# hide\n",
    "# g['date'] = g['date'].astype('datetime64[ns]')"
   ]
  },
  {
   "cell_type": "code",
   "execution_count": 34,
   "id": "sophisticated-supervisor",
   "metadata": {
    "execution": {
     "iopub.execute_input": "2022-06-30T12:17:37.457763Z",
     "iopub.status.busy": "2022-06-30T12:17:37.457088Z",
     "iopub.status.idle": "2022-06-30T12:17:37.460020Z",
     "shell.execute_reply": "2022-06-30T12:17:37.459528Z"
    },
    "papermill": {
     "duration": 0.03852,
     "end_time": "2022-06-30T12:17:37.460137",
     "exception": false,
     "start_time": "2022-06-30T12:17:37.421617",
     "status": "completed"
    },
    "tags": []
   },
   "outputs": [],
   "source": [
    "#hide\n",
    "# g['date'] = g.date.dt.dayofyear"
   ]
  },
  {
   "cell_type": "code",
   "execution_count": 35,
   "id": "inside-dubai",
   "metadata": {
    "execution": {
     "iopub.execute_input": "2022-06-30T12:17:37.525499Z",
     "iopub.status.busy": "2022-06-30T12:17:37.524863Z",
     "iopub.status.idle": "2022-06-30T12:17:37.528527Z",
     "shell.execute_reply": "2022-06-30T12:17:37.527940Z"
    },
    "papermill": {
     "duration": 0.038017,
     "end_time": "2022-06-30T12:17:37.528640",
     "exception": false,
     "start_time": "2022-06-30T12:17:37.490623",
     "status": "completed"
    },
    "tags": []
   },
   "outputs": [],
   "source": [
    "#hide\n",
    "# g = g.rename(columns= {'continent':'group','country':'name','cases':'value'})"
   ]
  },
  {
   "cell_type": "code",
   "execution_count": 36,
   "id": "fleet-motorcycle",
   "metadata": {
    "execution": {
     "iopub.execute_input": "2022-06-30T12:17:37.594846Z",
     "iopub.status.busy": "2022-06-30T12:17:37.594157Z",
     "iopub.status.idle": "2022-06-30T12:17:37.597102Z",
     "shell.execute_reply": "2022-06-30T12:17:37.596430Z"
    },
    "papermill": {
     "duration": 0.037382,
     "end_time": "2022-06-30T12:17:37.597255",
     "exception": false,
     "start_time": "2022-06-30T12:17:37.559873",
     "status": "completed"
    },
    "tags": []
   },
   "outputs": [],
   "source": [
    "#hide\n",
    "# cols = ['name','group','day','value']"
   ]
  },
  {
   "cell_type": "code",
   "execution_count": 37,
   "id": "continued-sleeping",
   "metadata": {
    "execution": {
     "iopub.execute_input": "2022-06-30T12:17:37.663414Z",
     "iopub.status.busy": "2022-06-30T12:17:37.662430Z",
     "iopub.status.idle": "2022-06-30T12:17:37.665092Z",
     "shell.execute_reply": "2022-06-30T12:17:37.664288Z"
    },
    "papermill": {
     "duration": 0.037405,
     "end_time": "2022-06-30T12:17:37.665228",
     "exception": false,
     "start_time": "2022-06-30T12:17:37.627823",
     "status": "completed"
    },
    "tags": []
   },
   "outputs": [],
   "source": [
    "#hide\n",
    "# g.rename(columns= {'date':'day'},inplace = True)"
   ]
  },
  {
   "cell_type": "code",
   "execution_count": 38,
   "id": "major-fight",
   "metadata": {
    "execution": {
     "iopub.execute_input": "2022-06-30T12:17:37.733170Z",
     "iopub.status.busy": "2022-06-30T12:17:37.732549Z",
     "iopub.status.idle": "2022-06-30T12:17:37.735114Z",
     "shell.execute_reply": "2022-06-30T12:17:37.734642Z"
    },
    "papermill": {
     "duration": 0.0365,
     "end_time": "2022-06-30T12:17:37.735226",
     "exception": false,
     "start_time": "2022-06-30T12:17:37.698726",
     "status": "completed"
    },
    "tags": []
   },
   "outputs": [],
   "source": [
    "#hide\n",
    "# g = g[cols]"
   ]
  },
  {
   "cell_type": "code",
   "execution_count": 39,
   "id": "structured-mobile",
   "metadata": {
    "execution": {
     "iopub.execute_input": "2022-06-30T12:17:37.800249Z",
     "iopub.status.busy": "2022-06-30T12:17:37.799557Z",
     "iopub.status.idle": "2022-06-30T12:17:37.802130Z",
     "shell.execute_reply": "2022-06-30T12:17:37.801475Z"
    },
    "papermill": {
     "duration": 0.036746,
     "end_time": "2022-06-30T12:17:37.802254",
     "exception": false,
     "start_time": "2022-06-30T12:17:37.765508",
     "status": "completed"
    },
    "tags": []
   },
   "outputs": [],
   "source": [
    "# #hide\n",
    "# g = g[g.group.notna()]"
   ]
  },
  {
   "cell_type": "code",
   "execution_count": 40,
   "id": "determined-closing",
   "metadata": {
    "execution": {
     "iopub.execute_input": "2022-06-30T12:17:37.867764Z",
     "iopub.status.busy": "2022-06-30T12:17:37.867060Z",
     "iopub.status.idle": "2022-06-30T12:17:37.869634Z",
     "shell.execute_reply": "2022-06-30T12:17:37.868951Z"
    },
    "papermill": {
     "duration": 0.036867,
     "end_time": "2022-06-30T12:17:37.869759",
     "exception": false,
     "start_time": "2022-06-30T12:17:37.832892",
     "status": "completed"
    },
    "tags": []
   },
   "outputs": [],
   "source": [
    "# #hide\n",
    "# colors = dict(zip(\n",
    "#     [\"Oceania\", \"Europe\", \"Asia\", \"South America\", \"Middle East\", \"North America\", \"Africa\"],\n",
    "#     [\"#adb0ff\", \"#ffb3ff\", \"#90d595\", \"#e48381\", \"#aafbff\", \"#f7bb5f\", \"#eafb50\"]\n",
    "# ))\n",
    "# group_lk = g.set_index('name')['group'].to_dict()"
   ]
  },
  {
   "cell_type": "code",
   "execution_count": null,
   "id": "gross-drinking",
   "metadata": {
    "papermill": {
     "duration": 0.030898,
     "end_time": "2022-06-30T12:17:37.931828",
     "exception": false,
     "start_time": "2022-06-30T12:17:37.900930",
     "status": "completed"
    },
    "tags": []
   },
   "outputs": [],
   "source": []
  },
  {
   "cell_type": "code",
   "execution_count": 41,
   "id": "subject-macintosh",
   "metadata": {
    "execution": {
     "iopub.execute_input": "2022-06-30T12:17:37.997954Z",
     "iopub.status.busy": "2022-06-30T12:17:37.997342Z",
     "iopub.status.idle": "2022-06-30T12:17:38.000236Z",
     "shell.execute_reply": "2022-06-30T12:17:37.999760Z"
    },
    "papermill": {
     "duration": 0.037725,
     "end_time": "2022-06-30T12:17:38.000346",
     "exception": false,
     "start_time": "2022-06-30T12:17:37.962621",
     "status": "completed"
    },
    "tags": []
   },
   "outputs": [],
   "source": [
    "# #hide\n",
    "# fig, ax = plt.subplots(figsize=(15, 8))\n",
    "\n",
    "# def draw_barchart(current_day):\n",
    "#     dff = g[g['day'].eq(current_day)].sort_values(by='value', ascending=True).tail(10)\n",
    "#     ax.clear()\n",
    "#     ax.barh(dff['name'], dff['value'], color=[colors[group_lk[x]] for x in dff['name']])\n",
    "#     dx = dff['value'].max() / 200\n",
    "    \n",
    "#     for i, (value, name) in enumerate(zip(dff['value'], dff['name'])):\n",
    "#         ax.text(value-dx, i,     name,           size=14, weight=600, ha='right', va='bottom')\n",
    "#         ax.text(value-dx, i-.25, group_lk[name], size=10, color='#444444', ha='right', va='baseline')\n",
    "#         ax.text(value+dx, i,     f'{value:,.0f}',  size=14, ha='left',  va='center')\n",
    "#     ax.text(1, 0.4, current_day, transform=ax.transAxes, color='#777777', size=46, ha='right', weight=800)\n",
    "#     ax.text(0, 1.06, 'Population (thousands)', transform=ax.transAxes, size=12, color='#777777')\n",
    "#     ax.xaxis.set_major_formatter(ticker.StrMethodFormatter('{x:,.0f}'))\n",
    "#     ax.xaxis.set_ticks_position('top')\n",
    "#     ax.tick_params(axis='x', colors='#777777', labelsize=12)\n",
    "#     ax.set_yticks([])\n",
    "#     ax.margins(0, 0.01)\n",
    "#     ax.grid(which='major', axis='x', linestyle='-')\n",
    "#     ax.set_axisbelow(True)\n",
    "    \n",
    "#     ax.text(0, 1.15, 'Coronavirus',\n",
    "#             transform=ax.transAxes, size=24, weight=600, ha='left', va='top')\n",
    "# #     ax.text(1, 0, 'by @pratapvardhan; credit @jburnmurdoch', transform=ax.transAxes, color='#777777', ha='right',\n",
    "# #             bbox=dict(facecolor='white', alpha=0.8, edgecolor='white'))\n",
    "#     plt.box(False)"
   ]
  },
  {
   "cell_type": "code",
   "execution_count": 42,
   "id": "sexual-wages",
   "metadata": {
    "execution": {
     "iopub.execute_input": "2022-06-30T12:17:38.066698Z",
     "iopub.status.busy": "2022-06-30T12:17:38.066097Z",
     "iopub.status.idle": "2022-06-30T12:17:38.069282Z",
     "shell.execute_reply": "2022-06-30T12:17:38.069773Z"
    },
    "papermill": {
     "duration": 0.038936,
     "end_time": "2022-06-30T12:17:38.069906",
     "exception": false,
     "start_time": "2022-06-30T12:17:38.030970",
     "status": "completed"
    },
    "tags": []
   },
   "outputs": [],
   "source": [
    "# #hide_input\n",
    "# fig, ax = plt.subplots(figsize=(15, 8))\n",
    "# animator = animation.FuncAnimation(fig, draw_barchart, frames=range(g.day.values.min(), g.day.values.max()))\n",
    "# HTML(animator.to_jshtml())\n",
    "# # or use animator.to_html5_video() or animator.save() "
   ]
  },
  {
   "cell_type": "code",
   "execution_count": null,
   "id": "australian-container",
   "metadata": {
    "papermill": {
     "duration": 0.030374,
     "end_time": "2022-06-30T12:17:38.130844",
     "exception": false,
     "start_time": "2022-06-30T12:17:38.100470",
     "status": "completed"
    },
    "tags": []
   },
   "outputs": [],
   "source": []
  },
  {
   "cell_type": "code",
   "execution_count": null,
   "id": "mediterranean-pontiac",
   "metadata": {
    "papermill": {
     "duration": 0.030387,
     "end_time": "2022-06-30T12:17:38.191561",
     "exception": false,
     "start_time": "2022-06-30T12:17:38.161174",
     "status": "completed"
    },
    "tags": []
   },
   "outputs": [],
   "source": []
  },
  {
   "cell_type": "code",
   "execution_count": null,
   "id": "aging-legislature",
   "metadata": {
    "papermill": {
     "duration": 0.03031,
     "end_time": "2022-06-30T12:17:38.252656",
     "exception": false,
     "start_time": "2022-06-30T12:17:38.222346",
     "status": "completed"
    },
    "tags": []
   },
   "outputs": [],
   "source": []
  }
 ],
 "metadata": {
  "kernelspec": {
   "display_name": "Python 3",
   "language": "python",
   "name": "python3"
  },
  "language_info": {
   "codemirror_mode": {
    "name": "ipython",
    "version": 3
   },
   "file_extension": ".py",
   "mimetype": "text/x-python",
   "name": "python",
   "nbconvert_exporter": "python",
   "pygments_lexer": "ipython3",
   "version": "3.6.15"
  },
  "papermill": {
   "duration": 6.084103,
   "end_time": "2022-06-30T12:17:38.702216",
   "environment_variables": {},
   "exception": null,
   "input_path": "2020-03-21-covid19exp.ipynb",
   "output_path": "2020-03-21-covid19exp.ipynb",
   "parameters": {},
   "start_time": "2022-06-30T12:17:32.618113",
   "version": "2.0.0"
  }
 },
 "nbformat": 4,
 "nbformat_minor": 5
}