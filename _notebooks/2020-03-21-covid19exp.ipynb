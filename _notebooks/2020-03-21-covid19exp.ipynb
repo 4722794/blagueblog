{
 "cells": [
  {
   "cell_type": "markdown",
   "id": "muslim-click",
   "metadata": {
    "papermill": {
     "duration": 0.038209,
     "end_time": "2021-10-11T00:24:33.665543",
     "exception": false,
     "start_time": "2021-10-11T00:24:33.627334",
     "status": "completed"
    },
    "tags": []
   },
   "source": [
    "# COVID-19 Case Race\n",
    "> A race chart to see rising cases around the world\n",
    "\n",
    "- author: Hargun Oberoi\n",
    "- image: images/covid-overview.png\n",
    "- hide: false\n",
    "- badges: false"
   ]
  },
  {
   "cell_type": "code",
   "execution_count": 1,
   "id": "proof-material",
   "metadata": {
    "execution": {
     "iopub.execute_input": "2021-10-11T00:24:33.746717Z",
     "iopub.status.busy": "2021-10-11T00:24:33.746087Z",
     "iopub.status.idle": "2021-10-11T00:24:34.124937Z",
     "shell.execute_reply": "2021-10-11T00:24:34.123738Z"
    },
    "papermill": {
     "duration": 0.425142,
     "end_time": "2021-10-11T00:24:34.125116",
     "exception": false,
     "start_time": "2021-10-11T00:24:33.699974",
     "status": "completed"
    },
    "tags": []
   },
   "outputs": [],
   "source": [
    "#hide\n",
    "import numpy as np\n",
    "import pandas as pd\n",
    "from jinja2 import Template\n",
    "from IPython.display import HTML"
   ]
  },
  {
   "cell_type": "code",
   "execution_count": 2,
   "id": "developed-terminology",
   "metadata": {
    "execution": {
     "iopub.execute_input": "2021-10-11T00:24:34.200711Z",
     "iopub.status.busy": "2021-10-11T00:24:34.199627Z",
     "iopub.status.idle": "2021-10-11T00:24:34.201803Z",
     "shell.execute_reply": "2021-10-11T00:24:34.202674Z"
    },
    "papermill": {
     "duration": 0.04366,
     "end_time": "2021-10-11T00:24:34.202906",
     "exception": false,
     "start_time": "2021-10-11T00:24:34.159246",
     "status": "completed"
    },
    "tags": []
   },
   "outputs": [],
   "source": [
    "#hide\n",
    "\n",
    "# FETCH\n",
    "base_url = 'https://raw.githubusercontent.com/pratapvardhan/notebooks/master/covid19/'\n",
    "paths = {\n",
    "    'mapping': base_url + 'mapping_countries.csv',\n",
    "    'overview': base_url + 'overview.tpl'\n",
    "}"
   ]
  },
  {
   "cell_type": "code",
   "execution_count": 3,
   "id": "dynamic-saver",
   "metadata": {
    "execution": {
     "iopub.execute_input": "2021-10-11T00:24:34.283092Z",
     "iopub.status.busy": "2021-10-11T00:24:34.282498Z",
     "iopub.status.idle": "2021-10-11T00:24:34.285384Z",
     "shell.execute_reply": "2021-10-11T00:24:34.285870Z"
    },
    "papermill": {
     "duration": 0.047042,
     "end_time": "2021-10-11T00:24:34.286032",
     "exception": false,
     "start_time": "2021-10-11T00:24:34.238990",
     "status": "completed"
    },
    "tags": []
   },
   "outputs": [
    {
     "data": {
      "text/plain": [
       "'https://raw.githubusercontent.com/pratapvardhan/notebooks/master/covid19/mapping_countries.csv'"
      ]
     },
     "execution_count": 3,
     "metadata": {},
     "output_type": "execute_result"
    }
   ],
   "source": [
    "#hide\n",
    "paths['mapping']"
   ]
  },
  {
   "cell_type": "code",
   "execution_count": 4,
   "id": "urban-software",
   "metadata": {
    "execution": {
     "iopub.execute_input": "2021-10-11T00:24:34.361254Z",
     "iopub.status.busy": "2021-10-11T00:24:34.360654Z",
     "iopub.status.idle": "2021-10-11T00:24:34.362990Z",
     "shell.execute_reply": "2021-10-11T00:24:34.362492Z"
    },
    "papermill": {
     "duration": 0.04319,
     "end_time": "2021-10-11T00:24:34.363110",
     "exception": false,
     "start_time": "2021-10-11T00:24:34.319920",
     "status": "completed"
    },
    "tags": []
   },
   "outputs": [],
   "source": [
    "#hide\n",
    "def get_mappings(url):\n",
    "    df = pd.read_csv(url)\n",
    "    return {\n",
    "        'df': df,\n",
    "        'replace.country': dict(df.dropna(subset=['Name']).set_index('Country')['Name']),\n",
    "        'map.continent': dict(df.set_index('Name')['Continent'])\n",
    "    }"
   ]
  },
  {
   "cell_type": "code",
   "execution_count": 5,
   "id": "intimate-machinery",
   "metadata": {
    "execution": {
     "iopub.execute_input": "2021-10-11T00:24:34.437120Z",
     "iopub.status.busy": "2021-10-11T00:24:34.436517Z",
     "iopub.status.idle": "2021-10-11T00:24:34.469490Z",
     "shell.execute_reply": "2021-10-11T00:24:34.468686Z"
    },
    "papermill": {
     "duration": 0.072802,
     "end_time": "2021-10-11T00:24:34.469691",
     "exception": false,
     "start_time": "2021-10-11T00:24:34.396889",
     "status": "completed"
    },
    "tags": []
   },
   "outputs": [],
   "source": [
    "#hide\n",
    "mapping = get_mappings(paths['mapping'])"
   ]
  },
  {
   "cell_type": "code",
   "execution_count": 6,
   "id": "certified-tactics",
   "metadata": {
    "execution": {
     "iopub.execute_input": "2021-10-11T00:24:34.544756Z",
     "iopub.status.busy": "2021-10-11T00:24:34.544165Z",
     "iopub.status.idle": "2021-10-11T00:24:34.546892Z",
     "shell.execute_reply": "2021-10-11T00:24:34.546418Z"
    },
    "papermill": {
     "duration": 0.041802,
     "end_time": "2021-10-11T00:24:34.547018",
     "exception": false,
     "start_time": "2021-10-11T00:24:34.505216",
     "status": "completed"
    },
    "tags": []
   },
   "outputs": [],
   "source": [
    "#hide\n",
    "def get_template(path):\n",
    "    from urllib.parse import urlparse\n",
    "    if bool(urlparse(path).netloc):\n",
    "        from urllib.request import urlopen\n",
    "        return urlopen(path).read().decode('utf8')\n",
    "    return open(path).read()"
   ]
  },
  {
   "cell_type": "code",
   "execution_count": 7,
   "id": "realistic-blast",
   "metadata": {
    "execution": {
     "iopub.execute_input": "2021-10-11T00:24:34.620108Z",
     "iopub.status.busy": "2021-10-11T00:24:34.619513Z",
     "iopub.status.idle": "2021-10-11T00:24:34.621423Z",
     "shell.execute_reply": "2021-10-11T00:24:34.621865Z"
    },
    "papermill": {
     "duration": 0.041233,
     "end_time": "2021-10-11T00:24:34.622035",
     "exception": false,
     "start_time": "2021-10-11T00:24:34.580802",
     "status": "completed"
    },
    "tags": []
   },
   "outputs": [],
   "source": [
    "#hide\n",
    "def get_frame(name):\n",
    "    url = (\n",
    "        'https://raw.githubusercontent.com/CSSEGISandData/COVID-19/master/csse_covid_19_data/'\n",
    "        f'csse_covid_19_time_series/time_series_covid19_{name}_global.csv')\n",
    "    df = pd.read_csv(url)\n",
    "    # rename countries\n",
    "    df['Country/Region'] = df['Country/Region'].replace(mapping['replace.country'])\n",
    "    return df"
   ]
  },
  {
   "cell_type": "code",
   "execution_count": 8,
   "id": "affiliated-characterization",
   "metadata": {
    "execution": {
     "iopub.execute_input": "2021-10-11T00:24:34.696517Z",
     "iopub.status.busy": "2021-10-11T00:24:34.695908Z",
     "iopub.status.idle": "2021-10-11T00:24:34.698653Z",
     "shell.execute_reply": "2021-10-11T00:24:34.698140Z"
    },
    "papermill": {
     "duration": 0.043019,
     "end_time": "2021-10-11T00:24:34.698797",
     "exception": false,
     "start_time": "2021-10-11T00:24:34.655778",
     "status": "completed"
    },
    "tags": []
   },
   "outputs": [],
   "source": [
    "#hide\n",
    "def get_dates(df):\n",
    "    dt_cols = df.columns[~df.columns.isin(['Province/State', 'Country/Region', 'Lat', 'Long'])]\n",
    "    LAST_DATE_I = -1\n",
    "    # sometimes last column may be empty, then go backwards\n",
    "    for i in range(-1, -len(dt_cols), -1):\n",
    "        if not df[dt_cols[i]].fillna(0).eq(0).all():\n",
    "            LAST_DATE_I = i\n",
    "            break\n",
    "    return LAST_DATE_I, dt_cols"
   ]
  },
  {
   "cell_type": "code",
   "execution_count": 9,
   "id": "recent-optimization",
   "metadata": {
    "execution": {
     "iopub.execute_input": "2021-10-11T00:24:34.773731Z",
     "iopub.status.busy": "2021-10-11T00:24:34.772561Z",
     "iopub.status.idle": "2021-10-11T00:24:35.110577Z",
     "shell.execute_reply": "2021-10-11T00:24:35.109856Z"
    },
    "papermill": {
     "duration": 0.378127,
     "end_time": "2021-10-11T00:24:35.110756",
     "exception": false,
     "start_time": "2021-10-11T00:24:34.732629",
     "status": "completed"
    },
    "tags": []
   },
   "outputs": [],
   "source": [
    "#hide\n",
    "COL_REGION = 'Country/Region'\n",
    "# Confirmed, Recovered, Deaths\n",
    "df = get_frame('confirmed')\n",
    "# dft_: timeseries, dfc_: today country agg\n",
    "dft_cases = df\n",
    "dft_deaths = get_frame('deaths')\n",
    "dft_recovered = get_frame('recovered')\n",
    "LAST_DATE_I, dt_cols = get_dates(df)"
   ]
  },
  {
   "cell_type": "code",
   "execution_count": 10,
   "id": "absolute-copper",
   "metadata": {
    "execution": {
     "iopub.execute_input": "2021-10-11T00:24:35.186376Z",
     "iopub.status.busy": "2021-10-11T00:24:35.185712Z",
     "iopub.status.idle": "2021-10-11T00:24:35.188474Z",
     "shell.execute_reply": "2021-10-11T00:24:35.187974Z"
    },
    "papermill": {
     "duration": 0.043096,
     "end_time": "2021-10-11T00:24:35.188597",
     "exception": false,
     "start_time": "2021-10-11T00:24:35.145501",
     "status": "completed"
    },
    "tags": []
   },
   "outputs": [],
   "source": [
    "#hide\n",
    "LAST_DATE_I, dt_cols = get_dates(df)\n",
    "dt_today =dt_cols[LAST_DATE_I]\n",
    "# dt_5day = dt_cols[LAST_DATE_I - 5]\n",
    "dt_yday = dt_cols[LAST_DATE_I - 1]"
   ]
  },
  {
   "cell_type": "code",
   "execution_count": 11,
   "id": "restricted-sheriff",
   "metadata": {
    "execution": {
     "iopub.execute_input": "2021-10-11T00:24:35.268064Z",
     "iopub.status.busy": "2021-10-11T00:24:35.267457Z",
     "iopub.status.idle": "2021-10-11T00:24:35.269646Z",
     "shell.execute_reply": "2021-10-11T00:24:35.270150Z"
    },
    "papermill": {
     "duration": 0.047859,
     "end_time": "2021-10-11T00:24:35.270299",
     "exception": false,
     "start_time": "2021-10-11T00:24:35.222440",
     "status": "completed"
    },
    "tags": []
   },
   "outputs": [],
   "source": [
    "#hide\n",
    "dfc_cases = dft_cases.groupby(COL_REGION)[dt_today].sum()\n",
    "dfc_deaths = dft_deaths.groupby(COL_REGION)[dt_today].sum()\n",
    "# dfp_cases = dft_cases.groupby(COL_REGION)[dt_5day].sum()\n",
    "# dfp_deaths = dft_deaths.groupby(COL_REGION)[dt_5day].sum()\n",
    "dfp_cases = dft_cases.groupby(COL_REGION)[dt_yday].sum()\n",
    "dfp_deaths = dft_deaths.groupby(COL_REGION)[dt_yday].sum()"
   ]
  },
  {
   "cell_type": "code",
   "execution_count": 12,
   "id": "deluxe-hepatitis",
   "metadata": {
    "execution": {
     "iopub.execute_input": "2021-10-11T00:24:35.346253Z",
     "iopub.status.busy": "2021-10-11T00:24:35.345616Z",
     "iopub.status.idle": "2021-10-11T00:24:35.350125Z",
     "shell.execute_reply": "2021-10-11T00:24:35.349623Z"
    },
    "papermill": {
     "duration": 0.046146,
     "end_time": "2021-10-11T00:24:35.350257",
     "exception": false,
     "start_time": "2021-10-11T00:24:35.304111",
     "status": "completed"
    },
    "tags": []
   },
   "outputs": [],
   "source": [
    "#hide\n",
    "df_table = (pd.DataFrame(dict(Cases = dfc_cases, Deaths = dfc_deaths, PCases = dfp_cases, PDeaths = dfp_deaths))\n",
    "            .sort_values(by = ['Cases','Deaths'], ascending = [False, False])\n",
    "            .reset_index())"
   ]
  },
  {
   "cell_type": "code",
   "execution_count": 13,
   "id": "educational-chancellor",
   "metadata": {
    "execution": {
     "iopub.execute_input": "2021-10-11T00:24:35.438275Z",
     "iopub.status.busy": "2021-10-11T00:24:35.437630Z",
     "iopub.status.idle": "2021-10-11T00:24:35.446837Z",
     "shell.execute_reply": "2021-10-11T00:24:35.446357Z"
    },
    "papermill": {
     "duration": 0.062829,
     "end_time": "2021-10-11T00:24:35.446966",
     "exception": false,
     "start_time": "2021-10-11T00:24:35.384137",
     "status": "completed"
    },
    "tags": []
   },
   "outputs": [
    {
     "data": {
      "text/html": [
       "<div>\n",
       "<style scoped>\n",
       "    .dataframe tbody tr th:only-of-type {\n",
       "        vertical-align: middle;\n",
       "    }\n",
       "\n",
       "    .dataframe tbody tr th {\n",
       "        vertical-align: top;\n",
       "    }\n",
       "\n",
       "    .dataframe thead th {\n",
       "        text-align: right;\n",
       "    }\n",
       "</style>\n",
       "<table border=\"1\" class=\"dataframe\">\n",
       "  <thead>\n",
       "    <tr style=\"text-align: right;\">\n",
       "      <th></th>\n",
       "      <th>Country/Region</th>\n",
       "      <th>Cases</th>\n",
       "      <th>Deaths</th>\n",
       "      <th>PCases</th>\n",
       "      <th>PDeaths</th>\n",
       "      <th>Cases (+)</th>\n",
       "      <th>Deaths (+)</th>\n",
       "      <th>Fatality Rate</th>\n",
       "      <th>Continent</th>\n",
       "    </tr>\n",
       "  </thead>\n",
       "  <tbody>\n",
       "    <tr>\n",
       "      <th>0</th>\n",
       "      <td>US</td>\n",
       "      <td>44317553</td>\n",
       "      <td>712972</td>\n",
       "      <td>44290052</td>\n",
       "      <td>712693</td>\n",
       "      <td>27501</td>\n",
       "      <td>279</td>\n",
       "      <td>1.61</td>\n",
       "      <td>North America</td>\n",
       "    </tr>\n",
       "    <tr>\n",
       "      <th>1</th>\n",
       "      <td>India</td>\n",
       "      <td>33953475</td>\n",
       "      <td>450589</td>\n",
       "      <td>33935309</td>\n",
       "      <td>450375</td>\n",
       "      <td>18166</td>\n",
       "      <td>214</td>\n",
       "      <td>1.33</td>\n",
       "      <td>Asia</td>\n",
       "    </tr>\n",
       "    <tr>\n",
       "      <th>2</th>\n",
       "      <td>Brazil</td>\n",
       "      <td>21567181</td>\n",
       "      <td>600829</td>\n",
       "      <td>21550730</td>\n",
       "      <td>600425</td>\n",
       "      <td>16451</td>\n",
       "      <td>404</td>\n",
       "      <td>2.79</td>\n",
       "      <td>South America</td>\n",
       "    </tr>\n",
       "    <tr>\n",
       "      <th>3</th>\n",
       "      <td>United Kingdom</td>\n",
       "      <td>8158935</td>\n",
       "      <td>138101</td>\n",
       "      <td>8119442</td>\n",
       "      <td>137945</td>\n",
       "      <td>39493</td>\n",
       "      <td>156</td>\n",
       "      <td>1.69</td>\n",
       "      <td>Europe</td>\n",
       "    </tr>\n",
       "    <tr>\n",
       "      <th>4</th>\n",
       "      <td>Russia</td>\n",
       "      <td>7631034</td>\n",
       "      <td>211627</td>\n",
       "      <td>7602386</td>\n",
       "      <td>210673</td>\n",
       "      <td>28648</td>\n",
       "      <td>954</td>\n",
       "      <td>2.77</td>\n",
       "      <td>Europe</td>\n",
       "    </tr>\n",
       "  </tbody>\n",
       "</table>\n",
       "</div>"
      ],
      "text/plain": [
       "   Country/Region     Cases  Deaths    PCases  PDeaths  Cases (+)  Deaths (+)  \\\n",
       "0              US  44317553  712972  44290052   712693      27501         279   \n",
       "1           India  33953475  450589  33935309   450375      18166         214   \n",
       "2          Brazil  21567181  600829  21550730   600425      16451         404   \n",
       "3  United Kingdom   8158935  138101   8119442   137945      39493         156   \n",
       "4          Russia   7631034  211627   7602386   210673      28648         954   \n",
       "\n",
       "   Fatality Rate      Continent  \n",
       "0           1.61  North America  \n",
       "1           1.33           Asia  \n",
       "2           2.79  South America  \n",
       "3           1.69         Europe  \n",
       "4           2.77         Europe  "
      ]
     },
     "execution_count": 13,
     "metadata": {},
     "output_type": "execute_result"
    }
   ],
   "source": [
    "#hide\n",
    "for c in 'Cases, Deaths'.split(', '):\n",
    "    df_table[f'{c} (+)'] = (df_table[c] - df_table[f'P{c}']).clip(0)\n",
    "    #Clip ça veut dire, les chiffres negatif sont interdit\n",
    "df_table['Fatality Rate'] = (100* df_table['Deaths']/ df_table['Cases']).round(2)\n",
    "df_table['Continent'] = df_table['Country/Region'].map(mapping['map.continent'])\n",
    "df_table.head(5)"
   ]
  },
  {
   "cell_type": "code",
   "execution_count": 14,
   "id": "aboriginal-bulgaria",
   "metadata": {
    "execution": {
     "iopub.execute_input": "2021-10-11T00:24:35.522854Z",
     "iopub.status.busy": "2021-10-11T00:24:35.522248Z",
     "iopub.status.idle": "2021-10-11T00:24:35.524763Z",
     "shell.execute_reply": "2021-10-11T00:24:35.525247Z"
    },
    "papermill": {
     "duration": 0.043826,
     "end_time": "2021-10-11T00:24:35.525393",
     "exception": false,
     "start_time": "2021-10-11T00:24:35.481567",
     "status": "completed"
    },
    "tags": []
   },
   "outputs": [],
   "source": [
    "#hide\n",
    "#delete problematic countries from table\n",
    "df_table = df_table[~df_table['Country/Region'].isin(['Cape Verde', 'Cruise Ship', 'Kosovo'])]"
   ]
  },
  {
   "cell_type": "code",
   "execution_count": 15,
   "id": "fantastic-effect",
   "metadata": {
    "execution": {
     "iopub.execute_input": "2021-10-11T00:24:35.602069Z",
     "iopub.status.busy": "2021-10-11T00:24:35.601423Z",
     "iopub.status.idle": "2021-10-11T00:24:35.622220Z",
     "shell.execute_reply": "2021-10-11T00:24:35.621715Z"
    },
    "papermill": {
     "duration": 0.062945,
     "end_time": "2021-10-11T00:24:35.622356",
     "exception": false,
     "start_time": "2021-10-11T00:24:35.559411",
     "status": "completed"
    },
    "tags": []
   },
   "outputs": [
    {
     "data": {
      "text/html": [
       "<div>\n",
       "<style scoped>\n",
       "    .dataframe tbody tr th:only-of-type {\n",
       "        vertical-align: middle;\n",
       "    }\n",
       "\n",
       "    .dataframe tbody tr th {\n",
       "        vertical-align: top;\n",
       "    }\n",
       "\n",
       "    .dataframe thead th {\n",
       "        text-align: right;\n",
       "    }\n",
       "</style>\n",
       "<table border=\"1\" class=\"dataframe\">\n",
       "  <thead>\n",
       "    <tr style=\"text-align: right;\">\n",
       "      <th></th>\n",
       "      <th>Country/Region</th>\n",
       "      <th>Cases</th>\n",
       "      <th>Deaths</th>\n",
       "      <th>PCases</th>\n",
       "      <th>PDeaths</th>\n",
       "      <th>Cases (+)</th>\n",
       "      <th>Deaths (+)</th>\n",
       "      <th>Fatality Rate</th>\n",
       "      <th>Continent</th>\n",
       "    </tr>\n",
       "  </thead>\n",
       "  <tbody>\n",
       "    <tr>\n",
       "      <th>0</th>\n",
       "      <td>US</td>\n",
       "      <td>44317553</td>\n",
       "      <td>712972</td>\n",
       "      <td>44290052</td>\n",
       "      <td>712693</td>\n",
       "      <td>27501</td>\n",
       "      <td>279</td>\n",
       "      <td>1.6</td>\n",
       "      <td>North America</td>\n",
       "    </tr>\n",
       "    <tr>\n",
       "      <th>1</th>\n",
       "      <td>India</td>\n",
       "      <td>33953475</td>\n",
       "      <td>450589</td>\n",
       "      <td>33935309</td>\n",
       "      <td>450375</td>\n",
       "      <td>18166</td>\n",
       "      <td>214</td>\n",
       "      <td>1.3</td>\n",
       "      <td>Asia</td>\n",
       "    </tr>\n",
       "    <tr>\n",
       "      <th>2</th>\n",
       "      <td>Brazil</td>\n",
       "      <td>21567181</td>\n",
       "      <td>600829</td>\n",
       "      <td>21550730</td>\n",
       "      <td>600425</td>\n",
       "      <td>16451</td>\n",
       "      <td>404</td>\n",
       "      <td>2.8</td>\n",
       "      <td>South America</td>\n",
       "    </tr>\n",
       "    <tr>\n",
       "      <th>3</th>\n",
       "      <td>United Kingdom</td>\n",
       "      <td>8158935</td>\n",
       "      <td>138101</td>\n",
       "      <td>8119442</td>\n",
       "      <td>137945</td>\n",
       "      <td>39493</td>\n",
       "      <td>156</td>\n",
       "      <td>1.7</td>\n",
       "      <td>Europe</td>\n",
       "    </tr>\n",
       "    <tr>\n",
       "      <th>4</th>\n",
       "      <td>Russia</td>\n",
       "      <td>7631034</td>\n",
       "      <td>211627</td>\n",
       "      <td>7602386</td>\n",
       "      <td>210673</td>\n",
       "      <td>28648</td>\n",
       "      <td>954</td>\n",
       "      <td>2.8</td>\n",
       "      <td>Europe</td>\n",
       "    </tr>\n",
       "  </tbody>\n",
       "</table>\n",
       "</div>"
      ],
      "text/plain": [
       "   Country/Region     Cases  Deaths    PCases  PDeaths  Cases (+)  Deaths (+)  \\\n",
       "0              US  44317553  712972  44290052   712693      27501         279   \n",
       "1           India  33953475  450589  33935309   450375      18166         214   \n",
       "2          Brazil  21567181  600829  21550730   600425      16451         404   \n",
       "3  United Kingdom   8158935  138101   8119442   137945      39493         156   \n",
       "4          Russia   7631034  211627   7602386   210673      28648         954   \n",
       "\n",
       "   Fatality Rate      Continent  \n",
       "0            1.6  North America  \n",
       "1            1.3           Asia  \n",
       "2            2.8  South America  \n",
       "3            1.7         Europe  \n",
       "4            2.8         Europe  "
      ]
     },
     "execution_count": 15,
     "metadata": {},
     "output_type": "execute_result"
    }
   ],
   "source": [
    "#hide\n",
    "df_table = (pd.DataFrame(dict(Cases=dfc_cases, Deaths=dfc_deaths, PCases=dfp_cases, PDeaths=dfp_deaths))\n",
    "             .sort_values(by=['Cases', 'Deaths'], ascending=[False, False])\n",
    "             .reset_index())\n",
    "df_table.rename(columns={'index': 'Country/Region'}, inplace=True)\n",
    "for c in 'Cases, Deaths'.split(', '):\n",
    "    df_table[f'{c} (+)'] = (df_table[c] - df_table[f'P{c}']).clip(0)  # DATA BUG\n",
    "df_table['Fatality Rate'] = (100 * df_table['Deaths'] / df_table['Cases']).round(1)\n",
    "df_table['Continent'] = df_table['Country/Region'].map(mapping['map.continent'])\n",
    "df_table.head(5)"
   ]
  },
  {
   "cell_type": "code",
   "execution_count": 16,
   "id": "fewer-occasion",
   "metadata": {
    "execution": {
     "iopub.execute_input": "2021-10-11T00:24:35.698845Z",
     "iopub.status.busy": "2021-10-11T00:24:35.698230Z",
     "iopub.status.idle": "2021-10-11T00:24:35.700051Z",
     "shell.execute_reply": "2021-10-11T00:24:35.700518Z"
    },
    "papermill": {
     "duration": 0.043284,
     "end_time": "2021-10-11T00:24:35.700658",
     "exception": false,
     "start_time": "2021-10-11T00:24:35.657374",
     "status": "completed"
    },
    "tags": []
   },
   "outputs": [],
   "source": [
    "#hide\n",
    "#delete problematic countries from table\n",
    "df_table = df_table[~df_table['Country/Region'].isin(['Cape Verde', 'Cruise Ship', 'Kosovo'])]"
   ]
  },
  {
   "cell_type": "code",
   "execution_count": 17,
   "id": "related-center",
   "metadata": {
    "execution": {
     "iopub.execute_input": "2021-10-11T00:24:35.791163Z",
     "iopub.status.busy": "2021-10-11T00:24:35.790543Z",
     "iopub.status.idle": "2021-10-11T00:24:35.792392Z",
     "shell.execute_reply": "2021-10-11T00:24:35.792861Z"
    },
    "papermill": {
     "duration": 0.057386,
     "end_time": "2021-10-11T00:24:35.793008",
     "exception": false,
     "start_time": "2021-10-11T00:24:35.735622",
     "status": "completed"
    },
    "tags": []
   },
   "outputs": [],
   "source": [
    "#hide\n",
    "metrics = [df_table.columns[index] for index in [1,2,5,6]]\n",
    "# s_china = df_table[df_table['Country/Region'].eq('China')][metrics].sum().add_prefix('China ')\n",
    "s_us = df_table[df_table['Country/Region'].eq('US')][metrics].sum().add_prefix('US ')\n",
    "s_eu = df_table[df_table['Continent'].eq('Europe')][metrics].sum().add_prefix('EU ')\n",
    "s_ind = df_table[df_table['Country/Region'].eq('India')][metrics].sum().add_prefix('India ')\n",
    "summary = {'updated': pd.to_datetime(dt_today), 'since': pd.to_datetime(dt_yday)}\n",
    "summary = {'updated': pd.to_datetime(dt_today), 'since': pd.to_datetime(dt_yday)}\n",
    "summary = {**summary, **df_table[metrics].sum(), **s_ind, **s_us, **s_eu}"
   ]
  },
  {
   "cell_type": "code",
   "execution_count": 18,
   "id": "engaging-syndrome",
   "metadata": {
    "execution": {
     "iopub.execute_input": "2021-10-11T00:24:35.868326Z",
     "iopub.status.busy": "2021-10-11T00:24:35.867736Z",
     "iopub.status.idle": "2021-10-11T00:24:35.883246Z",
     "shell.execute_reply": "2021-10-11T00:24:35.883748Z"
    },
    "papermill": {
     "duration": 0.056076,
     "end_time": "2021-10-11T00:24:35.883903",
     "exception": false,
     "start_time": "2021-10-11T00:24:35.827827",
     "status": "completed"
    },
    "tags": []
   },
   "outputs": [],
   "source": [
    "#hide\n",
    "dft_ct_new_cases = dft_cases.groupby(COL_REGION)[dt_cols].sum().diff(axis=1).fillna(0).astype(int)"
   ]
  },
  {
   "cell_type": "code",
   "execution_count": 19,
   "id": "neutral-assignment",
   "metadata": {
    "execution": {
     "iopub.execute_input": "2021-10-11T00:24:35.959969Z",
     "iopub.status.busy": "2021-10-11T00:24:35.959378Z",
     "iopub.status.idle": "2021-10-11T00:24:35.961301Z",
     "shell.execute_reply": "2021-10-11T00:24:35.961768Z"
    },
    "papermill": {
     "duration": 0.043403,
     "end_time": "2021-10-11T00:24:35.961937",
     "exception": false,
     "start_time": "2021-10-11T00:24:35.918534",
     "status": "completed"
    },
    "tags": []
   },
   "outputs": [],
   "source": [
    "#hide\n",
    "everydaycases = dft_ct_new_cases.cumsum(axis=1)"
   ]
  },
  {
   "cell_type": "code",
   "execution_count": 20,
   "id": "parliamentary-calgary",
   "metadata": {
    "execution": {
     "iopub.execute_input": "2021-10-11T00:24:36.038636Z",
     "iopub.status.busy": "2021-10-11T00:24:36.038033Z",
     "iopub.status.idle": "2021-10-11T00:24:36.768016Z",
     "shell.execute_reply": "2021-10-11T00:24:36.766668Z"
    },
    "papermill": {
     "duration": 0.771811,
     "end_time": "2021-10-11T00:24:36.768225",
     "exception": false,
     "start_time": "2021-10-11T00:24:35.996414",
     "status": "completed"
    },
    "tags": []
   },
   "outputs": [],
   "source": [
    "#hide\n",
    "import pandas as pd\n",
    "import matplotlib.pyplot as plt\n",
    "import matplotlib.ticker as ticker\n",
    "import matplotlib.animation as animation\n",
    "from IPython.display import HTML"
   ]
  },
  {
   "cell_type": "code",
   "execution_count": 21,
   "id": "lasting-extraction",
   "metadata": {
    "execution": {
     "iopub.execute_input": "2021-10-11T00:24:36.843998Z",
     "iopub.status.busy": "2021-10-11T00:24:36.843401Z",
     "iopub.status.idle": "2021-10-11T00:24:36.851545Z",
     "shell.execute_reply": "2021-10-11T00:24:36.850974Z"
    },
    "papermill": {
     "duration": 0.048531,
     "end_time": "2021-10-11T00:24:36.851664",
     "exception": false,
     "start_time": "2021-10-11T00:24:36.803133",
     "status": "completed"
    },
    "tags": []
   },
   "outputs": [],
   "source": [
    "#hide\n",
    "t = everydaycases.stack()"
   ]
  },
  {
   "cell_type": "code",
   "execution_count": 22,
   "id": "premier-sleeve",
   "metadata": {
    "execution": {
     "iopub.execute_input": "2021-10-11T00:24:36.926385Z",
     "iopub.status.busy": "2021-10-11T00:24:36.925734Z",
     "iopub.status.idle": "2021-10-11T00:24:36.936886Z",
     "shell.execute_reply": "2021-10-11T00:24:36.936409Z"
    },
    "papermill": {
     "duration": 0.049712,
     "end_time": "2021-10-11T00:24:36.937014",
     "exception": false,
     "start_time": "2021-10-11T00:24:36.887302",
     "status": "completed"
    },
    "tags": []
   },
   "outputs": [],
   "source": [
    "#hide\n",
    "g = t.reset_index(['Country/Region'])"
   ]
  },
  {
   "cell_type": "code",
   "execution_count": 23,
   "id": "distributed-pittsburgh",
   "metadata": {
    "execution": {
     "iopub.execute_input": "2021-10-11T00:24:37.011625Z",
     "iopub.status.busy": "2021-10-11T00:24:37.011041Z",
     "iopub.status.idle": "2021-10-11T00:24:37.013480Z",
     "shell.execute_reply": "2021-10-11T00:24:37.014086Z"
    },
    "papermill": {
     "duration": 0.042727,
     "end_time": "2021-10-11T00:24:37.014231",
     "exception": false,
     "start_time": "2021-10-11T00:24:36.971504",
     "status": "completed"
    },
    "tags": []
   },
   "outputs": [],
   "source": [
    "#hide\n",
    "g.index.name = 'date'"
   ]
  },
  {
   "cell_type": "code",
   "execution_count": 24,
   "id": "naked-donor",
   "metadata": {
    "execution": {
     "iopub.execute_input": "2021-10-11T00:24:37.087653Z",
     "iopub.status.busy": "2021-10-11T00:24:37.087058Z",
     "iopub.status.idle": "2021-10-11T00:24:37.089503Z",
     "shell.execute_reply": "2021-10-11T00:24:37.090101Z"
    },
    "papermill": {
     "duration": 0.041381,
     "end_time": "2021-10-11T00:24:37.090247",
     "exception": false,
     "start_time": "2021-10-11T00:24:37.048866",
     "status": "completed"
    },
    "tags": []
   },
   "outputs": [],
   "source": [
    "# #hide\n",
    "# g = g.reset_index(['date'])"
   ]
  },
  {
   "cell_type": "code",
   "execution_count": 25,
   "id": "incomplete-mustang",
   "metadata": {
    "execution": {
     "iopub.execute_input": "2021-10-11T00:24:37.163067Z",
     "iopub.status.busy": "2021-10-11T00:24:37.162484Z",
     "iopub.status.idle": "2021-10-11T00:24:37.164966Z",
     "shell.execute_reply": "2021-10-11T00:24:37.164498Z"
    },
    "papermill": {
     "duration": 0.040533,
     "end_time": "2021-10-11T00:24:37.165091",
     "exception": false,
     "start_time": "2021-10-11T00:24:37.124558",
     "status": "completed"
    },
    "tags": []
   },
   "outputs": [],
   "source": [
    "#hide\n",
    "# g.head()"
   ]
  },
  {
   "cell_type": "code",
   "execution_count": 26,
   "id": "specific-kruger",
   "metadata": {
    "execution": {
     "iopub.execute_input": "2021-10-11T00:24:37.238984Z",
     "iopub.status.busy": "2021-10-11T00:24:37.238377Z",
     "iopub.status.idle": "2021-10-11T00:24:37.240095Z",
     "shell.execute_reply": "2021-10-11T00:24:37.240629Z"
    },
    "papermill": {
     "duration": 0.040797,
     "end_time": "2021-10-11T00:24:37.240769",
     "exception": false,
     "start_time": "2021-10-11T00:24:37.199972",
     "status": "completed"
    },
    "tags": []
   },
   "outputs": [],
   "source": [
    "#hide\n",
    "# g.columns = ['date','country','cases']"
   ]
  },
  {
   "cell_type": "code",
   "execution_count": 27,
   "id": "tender-conversion",
   "metadata": {
    "execution": {
     "iopub.execute_input": "2021-10-11T00:24:37.314230Z",
     "iopub.status.busy": "2021-10-11T00:24:37.313612Z",
     "iopub.status.idle": "2021-10-11T00:24:37.316008Z",
     "shell.execute_reply": "2021-10-11T00:24:37.316550Z"
    },
    "papermill": {
     "duration": 0.041614,
     "end_time": "2021-10-11T00:24:37.316691",
     "exception": false,
     "start_time": "2021-10-11T00:24:37.275077",
     "status": "completed"
    },
    "tags": []
   },
   "outputs": [],
   "source": [
    "#hide\n",
    "# g['continent'] = g.country"
   ]
  },
  {
   "cell_type": "code",
   "execution_count": 28,
   "id": "substantial-wilderness",
   "metadata": {
    "execution": {
     "iopub.execute_input": "2021-10-11T00:24:37.390928Z",
     "iopub.status.busy": "2021-10-11T00:24:37.390320Z",
     "iopub.status.idle": "2021-10-11T00:24:37.392843Z",
     "shell.execute_reply": "2021-10-11T00:24:37.392373Z"
    },
    "papermill": {
     "duration": 0.041563,
     "end_time": "2021-10-11T00:24:37.392966",
     "exception": false,
     "start_time": "2021-10-11T00:24:37.351403",
     "status": "completed"
    },
    "tags": []
   },
   "outputs": [],
   "source": [
    "#hide\n",
    "# cols = list(g.columns.values)"
   ]
  },
  {
   "cell_type": "code",
   "execution_count": 29,
   "id": "solved-farming",
   "metadata": {
    "execution": {
     "iopub.execute_input": "2021-10-11T00:24:37.466383Z",
     "iopub.status.busy": "2021-10-11T00:24:37.465616Z",
     "iopub.status.idle": "2021-10-11T00:24:37.468548Z",
     "shell.execute_reply": "2021-10-11T00:24:37.469050Z"
    },
    "papermill": {
     "duration": 0.041272,
     "end_time": "2021-10-11T00:24:37.469193",
     "exception": false,
     "start_time": "2021-10-11T00:24:37.427921",
     "status": "completed"
    },
    "tags": []
   },
   "outputs": [],
   "source": [
    "#hide\n",
    "# cols.insert(0, cols.pop())"
   ]
  },
  {
   "cell_type": "code",
   "execution_count": 30,
   "id": "executed-adoption",
   "metadata": {
    "execution": {
     "iopub.execute_input": "2021-10-11T00:24:37.543137Z",
     "iopub.status.busy": "2021-10-11T00:24:37.542548Z",
     "iopub.status.idle": "2021-10-11T00:24:37.545005Z",
     "shell.execute_reply": "2021-10-11T00:24:37.544531Z"
    },
    "papermill": {
     "duration": 0.041229,
     "end_time": "2021-10-11T00:24:37.545131",
     "exception": false,
     "start_time": "2021-10-11T00:24:37.503902",
     "status": "completed"
    },
    "tags": []
   },
   "outputs": [],
   "source": [
    "#hide\n",
    "# g = g[cols]"
   ]
  },
  {
   "cell_type": "code",
   "execution_count": 31,
   "id": "subject-dublin",
   "metadata": {
    "execution": {
     "iopub.execute_input": "2021-10-11T00:24:37.619133Z",
     "iopub.status.busy": "2021-10-11T00:24:37.618552Z",
     "iopub.status.idle": "2021-10-11T00:24:37.622099Z",
     "shell.execute_reply": "2021-10-11T00:24:37.622675Z"
    },
    "papermill": {
     "duration": 0.043137,
     "end_time": "2021-10-11T00:24:37.622818",
     "exception": false,
     "start_time": "2021-10-11T00:24:37.579681",
     "status": "completed"
    },
    "tags": []
   },
   "outputs": [],
   "source": [
    "#hide\n",
    "# g['continent'] = g['continent'].map(mapping['map.continent'])"
   ]
  },
  {
   "cell_type": "code",
   "execution_count": 32,
   "id": "freelance-scout",
   "metadata": {
    "execution": {
     "iopub.execute_input": "2021-10-11T00:24:37.697028Z",
     "iopub.status.busy": "2021-10-11T00:24:37.696435Z",
     "iopub.status.idle": "2021-10-11T00:24:37.698279Z",
     "shell.execute_reply": "2021-10-11T00:24:37.698782Z"
    },
    "papermill": {
     "duration": 0.04144,
     "end_time": "2021-10-11T00:24:37.698921",
     "exception": false,
     "start_time": "2021-10-11T00:24:37.657481",
     "status": "completed"
    },
    "tags": []
   },
   "outputs": [],
   "source": [
    "#hide\n",
    "# g.head()"
   ]
  },
  {
   "cell_type": "code",
   "execution_count": 33,
   "id": "limited-engine",
   "metadata": {
    "execution": {
     "iopub.execute_input": "2021-10-11T00:24:37.772385Z",
     "iopub.status.busy": "2021-10-11T00:24:37.771793Z",
     "iopub.status.idle": "2021-10-11T00:24:37.773585Z",
     "shell.execute_reply": "2021-10-11T00:24:37.774114Z"
    },
    "papermill": {
     "duration": 0.040772,
     "end_time": "2021-10-11T00:24:37.774261",
     "exception": false,
     "start_time": "2021-10-11T00:24:37.733489",
     "status": "completed"
    },
    "tags": []
   },
   "outputs": [],
   "source": [
    "# hide\n",
    "# g['date'] = g['date'].astype('datetime64[ns]')"
   ]
  },
  {
   "cell_type": "code",
   "execution_count": 34,
   "id": "sophisticated-supervisor",
   "metadata": {
    "execution": {
     "iopub.execute_input": "2021-10-11T00:24:37.848136Z",
     "iopub.status.busy": "2021-10-11T00:24:37.847544Z",
     "iopub.status.idle": "2021-10-11T00:24:37.849613Z",
     "shell.execute_reply": "2021-10-11T00:24:37.850108Z"
    },
    "papermill": {
     "duration": 0.041281,
     "end_time": "2021-10-11T00:24:37.850252",
     "exception": false,
     "start_time": "2021-10-11T00:24:37.808971",
     "status": "completed"
    },
    "tags": []
   },
   "outputs": [],
   "source": [
    "#hide\n",
    "# g['date'] = g.date.dt.dayofyear"
   ]
  },
  {
   "cell_type": "code",
   "execution_count": 35,
   "id": "inside-dubai",
   "metadata": {
    "execution": {
     "iopub.execute_input": "2021-10-11T00:24:37.924903Z",
     "iopub.status.busy": "2021-10-11T00:24:37.924303Z",
     "iopub.status.idle": "2021-10-11T00:24:37.926831Z",
     "shell.execute_reply": "2021-10-11T00:24:37.927385Z"
    },
    "papermill": {
     "duration": 0.042269,
     "end_time": "2021-10-11T00:24:37.927532",
     "exception": false,
     "start_time": "2021-10-11T00:24:37.885263",
     "status": "completed"
    },
    "tags": []
   },
   "outputs": [],
   "source": [
    "#hide\n",
    "# g = g.rename(columns= {'continent':'group','country':'name','cases':'value'})"
   ]
  },
  {
   "cell_type": "code",
   "execution_count": 36,
   "id": "fleet-motorcycle",
   "metadata": {
    "execution": {
     "iopub.execute_input": "2021-10-11T00:24:38.002216Z",
     "iopub.status.busy": "2021-10-11T00:24:38.001585Z",
     "iopub.status.idle": "2021-10-11T00:24:38.003213Z",
     "shell.execute_reply": "2021-10-11T00:24:38.003681Z"
    },
    "papermill": {
     "duration": 0.041342,
     "end_time": "2021-10-11T00:24:38.003823",
     "exception": false,
     "start_time": "2021-10-11T00:24:37.962481",
     "status": "completed"
    },
    "tags": []
   },
   "outputs": [],
   "source": [
    "#hide\n",
    "# cols = ['name','group','day','value']"
   ]
  },
  {
   "cell_type": "code",
   "execution_count": 37,
   "id": "continued-sleeping",
   "metadata": {
    "execution": {
     "iopub.execute_input": "2021-10-11T00:24:38.077396Z",
     "iopub.status.busy": "2021-10-11T00:24:38.076790Z",
     "iopub.status.idle": "2021-10-11T00:24:38.079570Z",
     "shell.execute_reply": "2021-10-11T00:24:38.080046Z"
    },
    "papermill": {
     "duration": 0.041785,
     "end_time": "2021-10-11T00:24:38.080190",
     "exception": false,
     "start_time": "2021-10-11T00:24:38.038405",
     "status": "completed"
    },
    "tags": []
   },
   "outputs": [],
   "source": [
    "#hide\n",
    "# g.rename(columns= {'date':'day'},inplace = True)"
   ]
  },
  {
   "cell_type": "code",
   "execution_count": 38,
   "id": "major-fight",
   "metadata": {
    "execution": {
     "iopub.execute_input": "2021-10-11T00:24:38.154468Z",
     "iopub.status.busy": "2021-10-11T00:24:38.153846Z",
     "iopub.status.idle": "2021-10-11T00:24:38.155859Z",
     "shell.execute_reply": "2021-10-11T00:24:38.156307Z"
    },
    "papermill": {
     "duration": 0.04151,
     "end_time": "2021-10-11T00:24:38.156451",
     "exception": false,
     "start_time": "2021-10-11T00:24:38.114941",
     "status": "completed"
    },
    "tags": []
   },
   "outputs": [],
   "source": [
    "#hide\n",
    "# g = g[cols]"
   ]
  },
  {
   "cell_type": "code",
   "execution_count": 39,
   "id": "structured-mobile",
   "metadata": {
    "execution": {
     "iopub.execute_input": "2021-10-11T00:24:38.229219Z",
     "iopub.status.busy": "2021-10-11T00:24:38.228624Z",
     "iopub.status.idle": "2021-10-11T00:24:38.230488Z",
     "shell.execute_reply": "2021-10-11T00:24:38.230983Z"
    },
    "papermill": {
     "duration": 0.040147,
     "end_time": "2021-10-11T00:24:38.231121",
     "exception": false,
     "start_time": "2021-10-11T00:24:38.190974",
     "status": "completed"
    },
    "tags": []
   },
   "outputs": [],
   "source": [
    "# #hide\n",
    "# g = g[g.group.notna()]"
   ]
  },
  {
   "cell_type": "code",
   "execution_count": 40,
   "id": "determined-closing",
   "metadata": {
    "execution": {
     "iopub.execute_input": "2021-10-11T00:24:38.305200Z",
     "iopub.status.busy": "2021-10-11T00:24:38.304602Z",
     "iopub.status.idle": "2021-10-11T00:24:38.306781Z",
     "shell.execute_reply": "2021-10-11T00:24:38.307343Z"
    },
    "papermill": {
     "duration": 0.041684,
     "end_time": "2021-10-11T00:24:38.307484",
     "exception": false,
     "start_time": "2021-10-11T00:24:38.265800",
     "status": "completed"
    },
    "tags": []
   },
   "outputs": [],
   "source": [
    "# #hide\n",
    "# colors = dict(zip(\n",
    "#     [\"Oceania\", \"Europe\", \"Asia\", \"South America\", \"Middle East\", \"North America\", \"Africa\"],\n",
    "#     [\"#adb0ff\", \"#ffb3ff\", \"#90d595\", \"#e48381\", \"#aafbff\", \"#f7bb5f\", \"#eafb50\"]\n",
    "# ))\n",
    "# group_lk = g.set_index('name')['group'].to_dict()"
   ]
  },
  {
   "cell_type": "code",
   "execution_count": null,
   "id": "gross-drinking",
   "metadata": {
    "papermill": {
     "duration": 0.034432,
     "end_time": "2021-10-11T00:24:38.376134",
     "exception": false,
     "start_time": "2021-10-11T00:24:38.341702",
     "status": "completed"
    },
    "tags": []
   },
   "outputs": [],
   "source": []
  },
  {
   "cell_type": "code",
   "execution_count": 41,
   "id": "subject-macintosh",
   "metadata": {
    "execution": {
     "iopub.execute_input": "2021-10-11T00:24:38.451483Z",
     "iopub.status.busy": "2021-10-11T00:24:38.450873Z",
     "iopub.status.idle": "2021-10-11T00:24:38.453314Z",
     "shell.execute_reply": "2021-10-11T00:24:38.453875Z"
    },
    "papermill": {
     "duration": 0.042926,
     "end_time": "2021-10-11T00:24:38.454054",
     "exception": false,
     "start_time": "2021-10-11T00:24:38.411128",
     "status": "completed"
    },
    "tags": []
   },
   "outputs": [],
   "source": [
    "# #hide\n",
    "# fig, ax = plt.subplots(figsize=(15, 8))\n",
    "\n",
    "# def draw_barchart(current_day):\n",
    "#     dff = g[g['day'].eq(current_day)].sort_values(by='value', ascending=True).tail(10)\n",
    "#     ax.clear()\n",
    "#     ax.barh(dff['name'], dff['value'], color=[colors[group_lk[x]] for x in dff['name']])\n",
    "#     dx = dff['value'].max() / 200\n",
    "    \n",
    "#     for i, (value, name) in enumerate(zip(dff['value'], dff['name'])):\n",
    "#         ax.text(value-dx, i,     name,           size=14, weight=600, ha='right', va='bottom')\n",
    "#         ax.text(value-dx, i-.25, group_lk[name], size=10, color='#444444', ha='right', va='baseline')\n",
    "#         ax.text(value+dx, i,     f'{value:,.0f}',  size=14, ha='left',  va='center')\n",
    "#     ax.text(1, 0.4, current_day, transform=ax.transAxes, color='#777777', size=46, ha='right', weight=800)\n",
    "#     ax.text(0, 1.06, 'Population (thousands)', transform=ax.transAxes, size=12, color='#777777')\n",
    "#     ax.xaxis.set_major_formatter(ticker.StrMethodFormatter('{x:,.0f}'))\n",
    "#     ax.xaxis.set_ticks_position('top')\n",
    "#     ax.tick_params(axis='x', colors='#777777', labelsize=12)\n",
    "#     ax.set_yticks([])\n",
    "#     ax.margins(0, 0.01)\n",
    "#     ax.grid(which='major', axis='x', linestyle='-')\n",
    "#     ax.set_axisbelow(True)\n",
    "    \n",
    "#     ax.text(0, 1.15, 'Coronavirus',\n",
    "#             transform=ax.transAxes, size=24, weight=600, ha='left', va='top')\n",
    "# #     ax.text(1, 0, 'by @pratapvardhan; credit @jburnmurdoch', transform=ax.transAxes, color='#777777', ha='right',\n",
    "# #             bbox=dict(facecolor='white', alpha=0.8, edgecolor='white'))\n",
    "#     plt.box(False)"
   ]
  },
  {
   "cell_type": "code",
   "execution_count": 42,
   "id": "sexual-wages",
   "metadata": {
    "execution": {
     "iopub.execute_input": "2021-10-11T00:24:38.528361Z",
     "iopub.status.busy": "2021-10-11T00:24:38.527765Z",
     "iopub.status.idle": "2021-10-11T00:24:38.530132Z",
     "shell.execute_reply": "2021-10-11T00:24:38.530707Z"
    },
    "papermill": {
     "duration": 0.041842,
     "end_time": "2021-10-11T00:24:38.530852",
     "exception": false,
     "start_time": "2021-10-11T00:24:38.489010",
     "status": "completed"
    },
    "tags": []
   },
   "outputs": [],
   "source": [
    "# #hide_input\n",
    "# fig, ax = plt.subplots(figsize=(15, 8))\n",
    "# animator = animation.FuncAnimation(fig, draw_barchart, frames=range(g.day.values.min(), g.day.values.max()))\n",
    "# HTML(animator.to_jshtml())\n",
    "# # or use animator.to_html5_video() or animator.save() "
   ]
  },
  {
   "cell_type": "code",
   "execution_count": null,
   "id": "australian-container",
   "metadata": {
    "papermill": {
     "duration": 0.034618,
     "end_time": "2021-10-11T00:24:38.600303",
     "exception": false,
     "start_time": "2021-10-11T00:24:38.565685",
     "status": "completed"
    },
    "tags": []
   },
   "outputs": [],
   "source": []
  },
  {
   "cell_type": "code",
   "execution_count": null,
   "id": "mediterranean-pontiac",
   "metadata": {
    "papermill": {
     "duration": 0.03457,
     "end_time": "2021-10-11T00:24:38.669642",
     "exception": false,
     "start_time": "2021-10-11T00:24:38.635072",
     "status": "completed"
    },
    "tags": []
   },
   "outputs": [],
   "source": []
  },
  {
   "cell_type": "code",
   "execution_count": null,
   "id": "aging-legislature",
   "metadata": {
    "papermill": {
     "duration": 0.03469,
     "end_time": "2021-10-11T00:24:38.739468",
     "exception": false,
     "start_time": "2021-10-11T00:24:38.704778",
     "status": "completed"
    },
    "tags": []
   },
   "outputs": [],
   "source": []
  }
 ],
 "metadata": {
  "kernelspec": {
   "display_name": "Python 3",
   "language": "python",
   "name": "python3"
  },
  "language_info": {
   "codemirror_mode": {
    "name": "ipython",
    "version": 3
   },
   "file_extension": ".py",
   "mimetype": "text/x-python",
   "name": "python",
   "nbconvert_exporter": "python",
   "pygments_lexer": "ipython3",
   "version": "3.6.15"
  },
  "papermill": {
   "duration": 6.644571,
   "end_time": "2021-10-11T00:24:39.185594",
   "environment_variables": {},
   "exception": null,
   "input_path": "2020-03-21-covid19exp.ipynb",
   "output_path": "2020-03-21-covid19exp.ipynb",
   "parameters": {},
   "start_time": "2021-10-11T00:24:32.541023",
   "version": "2.0.0"
  }
 },
 "nbformat": 4,
 "nbformat_minor": 5
}