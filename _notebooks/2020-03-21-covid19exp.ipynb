{
 "cells": [
  {
   "cell_type": "markdown",
   "id": "muslim-click",
   "metadata": {
    "papermill": {
     "duration": 0.043329,
     "end_time": "2022-04-09T12:14:12.865107",
     "exception": false,
     "start_time": "2022-04-09T12:14:12.821778",
     "status": "completed"
    },
    "tags": []
   },
   "source": [
    "# COVID-19 Case Race\n",
    "> A race chart to see rising cases around the world\n",
    "\n",
    "- author: Hargun Oberoi\n",
    "- image: images/covid-overview.png\n",
    "- hide: false\n",
    "- badges: false"
   ]
  },
  {
   "cell_type": "code",
   "execution_count": 1,
   "id": "proof-material",
   "metadata": {
    "execution": {
     "iopub.execute_input": "2022-04-09T12:14:12.950991Z",
     "iopub.status.busy": "2022-04-09T12:14:12.950376Z",
     "iopub.status.idle": "2022-04-09T12:14:13.344947Z",
     "shell.execute_reply": "2022-04-09T12:14:13.344341Z"
    },
    "papermill": {
     "duration": 0.441957,
     "end_time": "2022-04-09T12:14:13.345121",
     "exception": false,
     "start_time": "2022-04-09T12:14:12.903164",
     "status": "completed"
    },
    "tags": []
   },
   "outputs": [],
   "source": [
    "#hide\n",
    "import numpy as np\n",
    "import pandas as pd\n",
    "from jinja2 import Template\n",
    "from IPython.display import HTML"
   ]
  },
  {
   "cell_type": "code",
   "execution_count": 2,
   "id": "developed-terminology",
   "metadata": {
    "execution": {
     "iopub.execute_input": "2022-04-09T12:14:13.427916Z",
     "iopub.status.busy": "2022-04-09T12:14:13.427309Z",
     "iopub.status.idle": "2022-04-09T12:14:13.429499Z",
     "shell.execute_reply": "2022-04-09T12:14:13.430180Z"
    },
    "papermill": {
     "duration": 0.047478,
     "end_time": "2022-04-09T12:14:13.430405",
     "exception": false,
     "start_time": "2022-04-09T12:14:13.382927",
     "status": "completed"
    },
    "tags": []
   },
   "outputs": [],
   "source": [
    "#hide\n",
    "\n",
    "# FETCH\n",
    "base_url = 'https://raw.githubusercontent.com/pratapvardhan/notebooks/master/covid19/'\n",
    "paths = {\n",
    "    'mapping': base_url + 'mapping_countries.csv',\n",
    "    'overview': base_url + 'overview.tpl'\n",
    "}"
   ]
  },
  {
   "cell_type": "code",
   "execution_count": 3,
   "id": "dynamic-saver",
   "metadata": {
    "execution": {
     "iopub.execute_input": "2022-04-09T12:14:13.531957Z",
     "iopub.status.busy": "2022-04-09T12:14:13.531328Z",
     "iopub.status.idle": "2022-04-09T12:14:13.534881Z",
     "shell.execute_reply": "2022-04-09T12:14:13.534284Z"
    },
    "papermill": {
     "duration": 0.06669,
     "end_time": "2022-04-09T12:14:13.535027",
     "exception": false,
     "start_time": "2022-04-09T12:14:13.468337",
     "status": "completed"
    },
    "tags": []
   },
   "outputs": [
    {
     "data": {
      "text/plain": [
       "'https://raw.githubusercontent.com/pratapvardhan/notebooks/master/covid19/mapping_countries.csv'"
      ]
     },
     "execution_count": 3,
     "metadata": {},
     "output_type": "execute_result"
    }
   ],
   "source": [
    "#hide\n",
    "paths['mapping']"
   ]
  },
  {
   "cell_type": "code",
   "execution_count": 4,
   "id": "urban-software",
   "metadata": {
    "execution": {
     "iopub.execute_input": "2022-04-09T12:14:13.620357Z",
     "iopub.status.busy": "2022-04-09T12:14:13.619586Z",
     "iopub.status.idle": "2022-04-09T12:14:13.622434Z",
     "shell.execute_reply": "2022-04-09T12:14:13.621815Z"
    },
    "papermill": {
     "duration": 0.048523,
     "end_time": "2022-04-09T12:14:13.622601",
     "exception": false,
     "start_time": "2022-04-09T12:14:13.574078",
     "status": "completed"
    },
    "tags": []
   },
   "outputs": [],
   "source": [
    "#hide\n",
    "def get_mappings(url):\n",
    "    df = pd.read_csv(url)\n",
    "    return {\n",
    "        'df': df,\n",
    "        'replace.country': dict(df.dropna(subset=['Name']).set_index('Country')['Name']),\n",
    "        'map.continent': dict(df.set_index('Name')['Continent'])\n",
    "    }"
   ]
  },
  {
   "cell_type": "code",
   "execution_count": 5,
   "id": "intimate-machinery",
   "metadata": {
    "execution": {
     "iopub.execute_input": "2022-04-09T12:14:13.708823Z",
     "iopub.status.busy": "2022-04-09T12:14:13.708059Z",
     "iopub.status.idle": "2022-04-09T12:14:13.743420Z",
     "shell.execute_reply": "2022-04-09T12:14:13.742870Z"
    },
    "papermill": {
     "duration": 0.08228,
     "end_time": "2022-04-09T12:14:13.743547",
     "exception": false,
     "start_time": "2022-04-09T12:14:13.661267",
     "status": "completed"
    },
    "tags": []
   },
   "outputs": [],
   "source": [
    "#hide\n",
    "mapping = get_mappings(paths['mapping'])"
   ]
  },
  {
   "cell_type": "code",
   "execution_count": 6,
   "id": "certified-tactics",
   "metadata": {
    "execution": {
     "iopub.execute_input": "2022-04-09T12:14:13.828835Z",
     "iopub.status.busy": "2022-04-09T12:14:13.827572Z",
     "iopub.status.idle": "2022-04-09T12:14:13.835041Z",
     "shell.execute_reply": "2022-04-09T12:14:13.835554Z"
    },
    "papermill": {
     "duration": 0.05291,
     "end_time": "2022-04-09T12:14:13.835688",
     "exception": false,
     "start_time": "2022-04-09T12:14:13.782778",
     "status": "completed"
    },
    "tags": []
   },
   "outputs": [],
   "source": [
    "#hide\n",
    "def get_template(path):\n",
    "    from urllib.parse import urlparse\n",
    "    if bool(urlparse(path).netloc):\n",
    "        from urllib.request import urlopen\n",
    "        return urlopen(path).read().decode('utf8')\n",
    "    return open(path).read()"
   ]
  },
  {
   "cell_type": "code",
   "execution_count": 7,
   "id": "realistic-blast",
   "metadata": {
    "execution": {
     "iopub.execute_input": "2022-04-09T12:14:13.925544Z",
     "iopub.status.busy": "2022-04-09T12:14:13.924905Z",
     "iopub.status.idle": "2022-04-09T12:14:13.927544Z",
     "shell.execute_reply": "2022-04-09T12:14:13.927030Z"
    },
    "papermill": {
     "duration": 0.048585,
     "end_time": "2022-04-09T12:14:13.927667",
     "exception": false,
     "start_time": "2022-04-09T12:14:13.879082",
     "status": "completed"
    },
    "tags": []
   },
   "outputs": [],
   "source": [
    "#hide\n",
    "def get_frame(name):\n",
    "    url = (\n",
    "        'https://raw.githubusercontent.com/CSSEGISandData/COVID-19/master/csse_covid_19_data/'\n",
    "        f'csse_covid_19_time_series/time_series_covid19_{name}_global.csv')\n",
    "    df = pd.read_csv(url)\n",
    "    # rename countries\n",
    "    df['Country/Region'] = df['Country/Region'].replace(mapping['replace.country'])\n",
    "    return df"
   ]
  },
  {
   "cell_type": "code",
   "execution_count": 8,
   "id": "affiliated-characterization",
   "metadata": {
    "execution": {
     "iopub.execute_input": "2022-04-09T12:14:14.014642Z",
     "iopub.status.busy": "2022-04-09T12:14:14.013739Z",
     "iopub.status.idle": "2022-04-09T12:14:14.017076Z",
     "shell.execute_reply": "2022-04-09T12:14:14.016517Z"
    },
    "papermill": {
     "duration": 0.048334,
     "end_time": "2022-04-09T12:14:14.017203",
     "exception": false,
     "start_time": "2022-04-09T12:14:13.968869",
     "status": "completed"
    },
    "tags": []
   },
   "outputs": [],
   "source": [
    "#hide\n",
    "def get_dates(df):\n",
    "    dt_cols = df.columns[~df.columns.isin(['Province/State', 'Country/Region', 'Lat', 'Long'])]\n",
    "    LAST_DATE_I = -1\n",
    "    # sometimes last column may be empty, then go backwards\n",
    "    for i in range(-1, -len(dt_cols), -1):\n",
    "        if not df[dt_cols[i]].fillna(0).eq(0).all():\n",
    "            LAST_DATE_I = i\n",
    "            break\n",
    "    return LAST_DATE_I, dt_cols"
   ]
  },
  {
   "cell_type": "code",
   "execution_count": 9,
   "id": "recent-optimization",
   "metadata": {
    "execution": {
     "iopub.execute_input": "2022-04-09T12:14:14.102436Z",
     "iopub.status.busy": "2022-04-09T12:14:14.100984Z",
     "iopub.status.idle": "2022-04-09T12:14:14.532936Z",
     "shell.execute_reply": "2022-04-09T12:14:14.533419Z"
    },
    "papermill": {
     "duration": 0.479751,
     "end_time": "2022-04-09T12:14:14.533586",
     "exception": false,
     "start_time": "2022-04-09T12:14:14.053835",
     "status": "completed"
    },
    "tags": []
   },
   "outputs": [],
   "source": [
    "#hide\n",
    "COL_REGION = 'Country/Region'\n",
    "# Confirmed, Recovered, Deaths\n",
    "df = get_frame('confirmed')\n",
    "# dft_: timeseries, dfc_: today country agg\n",
    "dft_cases = df\n",
    "dft_deaths = get_frame('deaths')\n",
    "dft_recovered = get_frame('recovered')\n",
    "LAST_DATE_I, dt_cols = get_dates(df)"
   ]
  },
  {
   "cell_type": "code",
   "execution_count": 10,
   "id": "absolute-copper",
   "metadata": {
    "execution": {
     "iopub.execute_input": "2022-04-09T12:14:14.616136Z",
     "iopub.status.busy": "2022-04-09T12:14:14.615536Z",
     "iopub.status.idle": "2022-04-09T12:14:14.619385Z",
     "shell.execute_reply": "2022-04-09T12:14:14.619866Z"
    },
    "papermill": {
     "duration": 0.048023,
     "end_time": "2022-04-09T12:14:14.620020",
     "exception": false,
     "start_time": "2022-04-09T12:14:14.571997",
     "status": "completed"
    },
    "tags": []
   },
   "outputs": [],
   "source": [
    "#hide\n",
    "LAST_DATE_I, dt_cols = get_dates(df)\n",
    "dt_today =dt_cols[LAST_DATE_I]\n",
    "# dt_5day = dt_cols[LAST_DATE_I - 5]\n",
    "dt_yday = dt_cols[LAST_DATE_I - 1]"
   ]
  },
  {
   "cell_type": "code",
   "execution_count": 11,
   "id": "restricted-sheriff",
   "metadata": {
    "execution": {
     "iopub.execute_input": "2022-04-09T12:14:14.705716Z",
     "iopub.status.busy": "2022-04-09T12:14:14.704975Z",
     "iopub.status.idle": "2022-04-09T12:14:14.714448Z",
     "shell.execute_reply": "2022-04-09T12:14:14.714985Z"
    },
    "papermill": {
     "duration": 0.055853,
     "end_time": "2022-04-09T12:14:14.715152",
     "exception": false,
     "start_time": "2022-04-09T12:14:14.659299",
     "status": "completed"
    },
    "tags": []
   },
   "outputs": [],
   "source": [
    "#hide\n",
    "dfc_cases = dft_cases.groupby(COL_REGION)[dt_today].sum()\n",
    "dfc_deaths = dft_deaths.groupby(COL_REGION)[dt_today].sum()\n",
    "# dfp_cases = dft_cases.groupby(COL_REGION)[dt_5day].sum()\n",
    "# dfp_deaths = dft_deaths.groupby(COL_REGION)[dt_5day].sum()\n",
    "dfp_cases = dft_cases.groupby(COL_REGION)[dt_yday].sum()\n",
    "dfp_deaths = dft_deaths.groupby(COL_REGION)[dt_yday].sum()"
   ]
  },
  {
   "cell_type": "code",
   "execution_count": 12,
   "id": "deluxe-hepatitis",
   "metadata": {
    "execution": {
     "iopub.execute_input": "2022-04-09T12:14:14.801356Z",
     "iopub.status.busy": "2022-04-09T12:14:14.800682Z",
     "iopub.status.idle": "2022-04-09T12:14:14.805353Z",
     "shell.execute_reply": "2022-04-09T12:14:14.806041Z"
    },
    "papermill": {
     "duration": 0.049683,
     "end_time": "2022-04-09T12:14:14.806194",
     "exception": false,
     "start_time": "2022-04-09T12:14:14.756511",
     "status": "completed"
    },
    "tags": []
   },
   "outputs": [],
   "source": [
    "#hide\n",
    "df_table = (pd.DataFrame(dict(Cases = dfc_cases, Deaths = dfc_deaths, PCases = dfp_cases, PDeaths = dfp_deaths))\n",
    "            .sort_values(by = ['Cases','Deaths'], ascending = [False, False])\n",
    "            .reset_index())"
   ]
  },
  {
   "cell_type": "code",
   "execution_count": 13,
   "id": "educational-chancellor",
   "metadata": {
    "execution": {
     "iopub.execute_input": "2022-04-09T12:14:14.900787Z",
     "iopub.status.busy": "2022-04-09T12:14:14.900015Z",
     "iopub.status.idle": "2022-04-09T12:14:14.909722Z",
     "shell.execute_reply": "2022-04-09T12:14:14.909232Z"
    },
    "papermill": {
     "duration": 0.06639,
     "end_time": "2022-04-09T12:14:14.909847",
     "exception": false,
     "start_time": "2022-04-09T12:14:14.843457",
     "status": "completed"
    },
    "tags": []
   },
   "outputs": [
    {
     "data": {
      "text/html": [
       "<div>\n",
       "<style scoped>\n",
       "    .dataframe tbody tr th:only-of-type {\n",
       "        vertical-align: middle;\n",
       "    }\n",
       "\n",
       "    .dataframe tbody tr th {\n",
       "        vertical-align: top;\n",
       "    }\n",
       "\n",
       "    .dataframe thead th {\n",
       "        text-align: right;\n",
       "    }\n",
       "</style>\n",
       "<table border=\"1\" class=\"dataframe\">\n",
       "  <thead>\n",
       "    <tr style=\"text-align: right;\">\n",
       "      <th></th>\n",
       "      <th>Country/Region</th>\n",
       "      <th>Cases</th>\n",
       "      <th>Deaths</th>\n",
       "      <th>PCases</th>\n",
       "      <th>PDeaths</th>\n",
       "      <th>Cases (+)</th>\n",
       "      <th>Deaths (+)</th>\n",
       "      <th>Fatality Rate</th>\n",
       "      <th>Continent</th>\n",
       "    </tr>\n",
       "  </thead>\n",
       "  <tbody>\n",
       "    <tr>\n",
       "      <th>0</th>\n",
       "      <td>US</td>\n",
       "      <td>80386635</td>\n",
       "      <td>985205</td>\n",
       "      <td>80292483</td>\n",
       "      <td>984571</td>\n",
       "      <td>94152</td>\n",
       "      <td>634</td>\n",
       "      <td>1.23</td>\n",
       "      <td>North America</td>\n",
       "    </tr>\n",
       "    <tr>\n",
       "      <th>1</th>\n",
       "      <td>India</td>\n",
       "      <td>43034217</td>\n",
       "      <td>521656</td>\n",
       "      <td>43033067</td>\n",
       "      <td>521573</td>\n",
       "      <td>1150</td>\n",
       "      <td>83</td>\n",
       "      <td>1.21</td>\n",
       "      <td>Asia</td>\n",
       "    </tr>\n",
       "    <tr>\n",
       "      <th>2</th>\n",
       "      <td>Brazil</td>\n",
       "      <td>30125540</td>\n",
       "      <td>661377</td>\n",
       "      <td>30095328</td>\n",
       "      <td>661228</td>\n",
       "      <td>30212</td>\n",
       "      <td>149</td>\n",
       "      <td>2.20</td>\n",
       "      <td>South America</td>\n",
       "    </tr>\n",
       "    <tr>\n",
       "      <th>3</th>\n",
       "      <td>France</td>\n",
       "      <td>26887490</td>\n",
       "      <td>144193</td>\n",
       "      <td>26738483</td>\n",
       "      <td>144054</td>\n",
       "      <td>149007</td>\n",
       "      <td>139</td>\n",
       "      <td>0.54</td>\n",
       "      <td>Europe</td>\n",
       "    </tr>\n",
       "    <tr>\n",
       "      <th>4</th>\n",
       "      <td>Germany</td>\n",
       "      <td>22629378</td>\n",
       "      <td>131679</td>\n",
       "      <td>22478703</td>\n",
       "      <td>131370</td>\n",
       "      <td>150675</td>\n",
       "      <td>309</td>\n",
       "      <td>0.58</td>\n",
       "      <td>Europe</td>\n",
       "    </tr>\n",
       "  </tbody>\n",
       "</table>\n",
       "</div>"
      ],
      "text/plain": [
       "  Country/Region     Cases  Deaths    PCases  PDeaths  Cases (+)  Deaths (+)  \\\n",
       "0             US  80386635  985205  80292483   984571      94152         634   \n",
       "1          India  43034217  521656  43033067   521573       1150          83   \n",
       "2         Brazil  30125540  661377  30095328   661228      30212         149   \n",
       "3         France  26887490  144193  26738483   144054     149007         139   \n",
       "4        Germany  22629378  131679  22478703   131370     150675         309   \n",
       "\n",
       "   Fatality Rate      Continent  \n",
       "0           1.23  North America  \n",
       "1           1.21           Asia  \n",
       "2           2.20  South America  \n",
       "3           0.54         Europe  \n",
       "4           0.58         Europe  "
      ]
     },
     "execution_count": 13,
     "metadata": {},
     "output_type": "execute_result"
    }
   ],
   "source": [
    "#hide\n",
    "for c in 'Cases, Deaths'.split(', '):\n",
    "    df_table[f'{c} (+)'] = (df_table[c] - df_table[f'P{c}']).clip(0)\n",
    "    #Clip ça veut dire, les chiffres negatif sont interdit\n",
    "df_table['Fatality Rate'] = (100* df_table['Deaths']/ df_table['Cases']).round(2)\n",
    "df_table['Continent'] = df_table['Country/Region'].map(mapping['map.continent'])\n",
    "df_table.head(5)"
   ]
  },
  {
   "cell_type": "code",
   "execution_count": 14,
   "id": "aboriginal-bulgaria",
   "metadata": {
    "execution": {
     "iopub.execute_input": "2022-04-09T12:14:14.992753Z",
     "iopub.status.busy": "2022-04-09T12:14:14.992124Z",
     "iopub.status.idle": "2022-04-09T12:14:14.993994Z",
     "shell.execute_reply": "2022-04-09T12:14:14.994816Z"
    },
    "papermill": {
     "duration": 0.047093,
     "end_time": "2022-04-09T12:14:14.995099",
     "exception": false,
     "start_time": "2022-04-09T12:14:14.948006",
     "status": "completed"
    },
    "tags": []
   },
   "outputs": [],
   "source": [
    "#hide\n",
    "#delete problematic countries from table\n",
    "df_table = df_table[~df_table['Country/Region'].isin(['Cape Verde', 'Cruise Ship', 'Kosovo'])]"
   ]
  },
  {
   "cell_type": "code",
   "execution_count": 15,
   "id": "fantastic-effect",
   "metadata": {
    "execution": {
     "iopub.execute_input": "2022-04-09T12:14:15.080968Z",
     "iopub.status.busy": "2022-04-09T12:14:15.080292Z",
     "iopub.status.idle": "2022-04-09T12:14:15.102516Z",
     "shell.execute_reply": "2022-04-09T12:14:15.103096Z"
    },
    "papermill": {
     "duration": 0.070107,
     "end_time": "2022-04-09T12:14:15.103317",
     "exception": false,
     "start_time": "2022-04-09T12:14:15.033210",
     "status": "completed"
    },
    "tags": []
   },
   "outputs": [
    {
     "data": {
      "text/html": [
       "<div>\n",
       "<style scoped>\n",
       "    .dataframe tbody tr th:only-of-type {\n",
       "        vertical-align: middle;\n",
       "    }\n",
       "\n",
       "    .dataframe tbody tr th {\n",
       "        vertical-align: top;\n",
       "    }\n",
       "\n",
       "    .dataframe thead th {\n",
       "        text-align: right;\n",
       "    }\n",
       "</style>\n",
       "<table border=\"1\" class=\"dataframe\">\n",
       "  <thead>\n",
       "    <tr style=\"text-align: right;\">\n",
       "      <th></th>\n",
       "      <th>Country/Region</th>\n",
       "      <th>Cases</th>\n",
       "      <th>Deaths</th>\n",
       "      <th>PCases</th>\n",
       "      <th>PDeaths</th>\n",
       "      <th>Cases (+)</th>\n",
       "      <th>Deaths (+)</th>\n",
       "      <th>Fatality Rate</th>\n",
       "      <th>Continent</th>\n",
       "    </tr>\n",
       "  </thead>\n",
       "  <tbody>\n",
       "    <tr>\n",
       "      <th>0</th>\n",
       "      <td>US</td>\n",
       "      <td>80386635</td>\n",
       "      <td>985205</td>\n",
       "      <td>80292483</td>\n",
       "      <td>984571</td>\n",
       "      <td>94152</td>\n",
       "      <td>634</td>\n",
       "      <td>1.2</td>\n",
       "      <td>North America</td>\n",
       "    </tr>\n",
       "    <tr>\n",
       "      <th>1</th>\n",
       "      <td>India</td>\n",
       "      <td>43034217</td>\n",
       "      <td>521656</td>\n",
       "      <td>43033067</td>\n",
       "      <td>521573</td>\n",
       "      <td>1150</td>\n",
       "      <td>83</td>\n",
       "      <td>1.2</td>\n",
       "      <td>Asia</td>\n",
       "    </tr>\n",
       "    <tr>\n",
       "      <th>2</th>\n",
       "      <td>Brazil</td>\n",
       "      <td>30125540</td>\n",
       "      <td>661377</td>\n",
       "      <td>30095328</td>\n",
       "      <td>661228</td>\n",
       "      <td>30212</td>\n",
       "      <td>149</td>\n",
       "      <td>2.2</td>\n",
       "      <td>South America</td>\n",
       "    </tr>\n",
       "    <tr>\n",
       "      <th>3</th>\n",
       "      <td>France</td>\n",
       "      <td>26887490</td>\n",
       "      <td>144193</td>\n",
       "      <td>26738483</td>\n",
       "      <td>144054</td>\n",
       "      <td>149007</td>\n",
       "      <td>139</td>\n",
       "      <td>0.5</td>\n",
       "      <td>Europe</td>\n",
       "    </tr>\n",
       "    <tr>\n",
       "      <th>4</th>\n",
       "      <td>Germany</td>\n",
       "      <td>22629378</td>\n",
       "      <td>131679</td>\n",
       "      <td>22478703</td>\n",
       "      <td>131370</td>\n",
       "      <td>150675</td>\n",
       "      <td>309</td>\n",
       "      <td>0.6</td>\n",
       "      <td>Europe</td>\n",
       "    </tr>\n",
       "  </tbody>\n",
       "</table>\n",
       "</div>"
      ],
      "text/plain": [
       "  Country/Region     Cases  Deaths    PCases  PDeaths  Cases (+)  Deaths (+)  \\\n",
       "0             US  80386635  985205  80292483   984571      94152         634   \n",
       "1          India  43034217  521656  43033067   521573       1150          83   \n",
       "2         Brazil  30125540  661377  30095328   661228      30212         149   \n",
       "3         France  26887490  144193  26738483   144054     149007         139   \n",
       "4        Germany  22629378  131679  22478703   131370     150675         309   \n",
       "\n",
       "   Fatality Rate      Continent  \n",
       "0            1.2  North America  \n",
       "1            1.2           Asia  \n",
       "2            2.2  South America  \n",
       "3            0.5         Europe  \n",
       "4            0.6         Europe  "
      ]
     },
     "execution_count": 15,
     "metadata": {},
     "output_type": "execute_result"
    }
   ],
   "source": [
    "#hide\n",
    "df_table = (pd.DataFrame(dict(Cases=dfc_cases, Deaths=dfc_deaths, PCases=dfp_cases, PDeaths=dfp_deaths))\n",
    "             .sort_values(by=['Cases', 'Deaths'], ascending=[False, False])\n",
    "             .reset_index())\n",
    "df_table.rename(columns={'index': 'Country/Region'}, inplace=True)\n",
    "for c in 'Cases, Deaths'.split(', '):\n",
    "    df_table[f'{c} (+)'] = (df_table[c] - df_table[f'P{c}']).clip(0)  # DATA BUG\n",
    "df_table['Fatality Rate'] = (100 * df_table['Deaths'] / df_table['Cases']).round(1)\n",
    "df_table['Continent'] = df_table['Country/Region'].map(mapping['map.continent'])\n",
    "df_table.head(5)"
   ]
  },
  {
   "cell_type": "code",
   "execution_count": 16,
   "id": "fewer-occasion",
   "metadata": {
    "execution": {
     "iopub.execute_input": "2022-04-09T12:14:15.187518Z",
     "iopub.status.busy": "2022-04-09T12:14:15.186600Z",
     "iopub.status.idle": "2022-04-09T12:14:15.189241Z",
     "shell.execute_reply": "2022-04-09T12:14:15.189854Z"
    },
    "papermill": {
     "duration": 0.048062,
     "end_time": "2022-04-09T12:14:15.190025",
     "exception": false,
     "start_time": "2022-04-09T12:14:15.141963",
     "status": "completed"
    },
    "tags": []
   },
   "outputs": [],
   "source": [
    "#hide\n",
    "#delete problematic countries from table\n",
    "df_table = df_table[~df_table['Country/Region'].isin(['Cape Verde', 'Cruise Ship', 'Kosovo'])]"
   ]
  },
  {
   "cell_type": "code",
   "execution_count": 17,
   "id": "related-center",
   "metadata": {
    "execution": {
     "iopub.execute_input": "2022-04-09T12:14:15.290523Z",
     "iopub.status.busy": "2022-04-09T12:14:15.289755Z",
     "iopub.status.idle": "2022-04-09T12:14:15.291815Z",
     "shell.execute_reply": "2022-04-09T12:14:15.292403Z"
    },
    "papermill": {
     "duration": 0.063132,
     "end_time": "2022-04-09T12:14:15.292548",
     "exception": false,
     "start_time": "2022-04-09T12:14:15.229416",
     "status": "completed"
    },
    "tags": []
   },
   "outputs": [],
   "source": [
    "#hide\n",
    "metrics = [df_table.columns[index] for index in [1,2,5,6]]\n",
    "# s_china = df_table[df_table['Country/Region'].eq('China')][metrics].sum().add_prefix('China ')\n",
    "s_us = df_table[df_table['Country/Region'].eq('US')][metrics].sum().add_prefix('US ')\n",
    "s_eu = df_table[df_table['Continent'].eq('Europe')][metrics].sum().add_prefix('EU ')\n",
    "s_ind = df_table[df_table['Country/Region'].eq('India')][metrics].sum().add_prefix('India ')\n",
    "summary = {'updated': pd.to_datetime(dt_today), 'since': pd.to_datetime(dt_yday)}\n",
    "summary = {'updated': pd.to_datetime(dt_today), 'since': pd.to_datetime(dt_yday)}\n",
    "summary = {**summary, **df_table[metrics].sum(), **s_ind, **s_us, **s_eu}"
   ]
  },
  {
   "cell_type": "code",
   "execution_count": 18,
   "id": "engaging-syndrome",
   "metadata": {
    "execution": {
     "iopub.execute_input": "2022-04-09T12:14:15.377092Z",
     "iopub.status.busy": "2022-04-09T12:14:15.376433Z",
     "iopub.status.idle": "2022-04-09T12:14:15.396140Z",
     "shell.execute_reply": "2022-04-09T12:14:15.395479Z"
    },
    "papermill": {
     "duration": 0.064619,
     "end_time": "2022-04-09T12:14:15.396287",
     "exception": false,
     "start_time": "2022-04-09T12:14:15.331668",
     "status": "completed"
    },
    "tags": []
   },
   "outputs": [],
   "source": [
    "#hide\n",
    "dft_ct_new_cases = dft_cases.groupby(COL_REGION)[dt_cols].sum().diff(axis=1).fillna(0).astype(int)"
   ]
  },
  {
   "cell_type": "code",
   "execution_count": 19,
   "id": "neutral-assignment",
   "metadata": {
    "execution": {
     "iopub.execute_input": "2022-04-09T12:14:15.482728Z",
     "iopub.status.busy": "2022-04-09T12:14:15.482052Z",
     "iopub.status.idle": "2022-04-09T12:14:15.484519Z",
     "shell.execute_reply": "2022-04-09T12:14:15.484007Z"
    },
    "papermill": {
     "duration": 0.050627,
     "end_time": "2022-04-09T12:14:15.484636",
     "exception": false,
     "start_time": "2022-04-09T12:14:15.434009",
     "status": "completed"
    },
    "tags": []
   },
   "outputs": [],
   "source": [
    "#hide\n",
    "everydaycases = dft_ct_new_cases.cumsum(axis=1)"
   ]
  },
  {
   "cell_type": "code",
   "execution_count": 20,
   "id": "parliamentary-calgary",
   "metadata": {
    "execution": {
     "iopub.execute_input": "2022-04-09T12:14:15.574059Z",
     "iopub.status.busy": "2022-04-09T12:14:15.573410Z",
     "iopub.status.idle": "2022-04-09T12:14:16.365624Z",
     "shell.execute_reply": "2022-04-09T12:14:16.365047Z"
    },
    "papermill": {
     "duration": 0.841209,
     "end_time": "2022-04-09T12:14:16.365752",
     "exception": false,
     "start_time": "2022-04-09T12:14:15.524543",
     "status": "completed"
    },
    "tags": []
   },
   "outputs": [],
   "source": [
    "#hide\n",
    "import pandas as pd\n",
    "import matplotlib.pyplot as plt\n",
    "import matplotlib.ticker as ticker\n",
    "import matplotlib.animation as animation\n",
    "from IPython.display import HTML"
   ]
  },
  {
   "cell_type": "code",
   "execution_count": 21,
   "id": "lasting-extraction",
   "metadata": {
    "execution": {
     "iopub.execute_input": "2022-04-09T12:14:16.449690Z",
     "iopub.status.busy": "2022-04-09T12:14:16.449050Z",
     "iopub.status.idle": "2022-04-09T12:14:16.455507Z",
     "shell.execute_reply": "2022-04-09T12:14:16.456038Z"
    },
    "papermill": {
     "duration": 0.050598,
     "end_time": "2022-04-09T12:14:16.456207",
     "exception": false,
     "start_time": "2022-04-09T12:14:16.405609",
     "status": "completed"
    },
    "tags": []
   },
   "outputs": [],
   "source": [
    "#hide\n",
    "t = everydaycases.stack()"
   ]
  },
  {
   "cell_type": "code",
   "execution_count": 22,
   "id": "premier-sleeve",
   "metadata": {
    "execution": {
     "iopub.execute_input": "2022-04-09T12:14:16.538439Z",
     "iopub.status.busy": "2022-04-09T12:14:16.537722Z",
     "iopub.status.idle": "2022-04-09T12:14:16.564242Z",
     "shell.execute_reply": "2022-04-09T12:14:16.564957Z"
    },
    "papermill": {
     "duration": 0.070162,
     "end_time": "2022-04-09T12:14:16.565120",
     "exception": false,
     "start_time": "2022-04-09T12:14:16.494958",
     "status": "completed"
    },
    "tags": []
   },
   "outputs": [],
   "source": [
    "#hide\n",
    "g = t.reset_index(['Country/Region'])"
   ]
  },
  {
   "cell_type": "code",
   "execution_count": 23,
   "id": "distributed-pittsburgh",
   "metadata": {
    "execution": {
     "iopub.execute_input": "2022-04-09T12:14:16.648350Z",
     "iopub.status.busy": "2022-04-09T12:14:16.647143Z",
     "iopub.status.idle": "2022-04-09T12:14:16.649054Z",
     "shell.execute_reply": "2022-04-09T12:14:16.649539Z"
    },
    "papermill": {
     "duration": 0.046105,
     "end_time": "2022-04-09T12:14:16.649677",
     "exception": false,
     "start_time": "2022-04-09T12:14:16.603572",
     "status": "completed"
    },
    "tags": []
   },
   "outputs": [],
   "source": [
    "#hide\n",
    "g.index.name = 'date'"
   ]
  },
  {
   "cell_type": "code",
   "execution_count": 24,
   "id": "naked-donor",
   "metadata": {
    "execution": {
     "iopub.execute_input": "2022-04-09T12:14:16.734056Z",
     "iopub.status.busy": "2022-04-09T12:14:16.733353Z",
     "iopub.status.idle": "2022-04-09T12:14:16.737086Z",
     "shell.execute_reply": "2022-04-09T12:14:16.736551Z"
    },
    "papermill": {
     "duration": 0.048566,
     "end_time": "2022-04-09T12:14:16.737218",
     "exception": false,
     "start_time": "2022-04-09T12:14:16.688652",
     "status": "completed"
    },
    "tags": []
   },
   "outputs": [],
   "source": [
    "# #hide\n",
    "# g = g.reset_index(['date'])"
   ]
  },
  {
   "cell_type": "code",
   "execution_count": 25,
   "id": "incomplete-mustang",
   "metadata": {
    "execution": {
     "iopub.execute_input": "2022-04-09T12:14:16.820926Z",
     "iopub.status.busy": "2022-04-09T12:14:16.819501Z",
     "iopub.status.idle": "2022-04-09T12:14:16.821662Z",
     "shell.execute_reply": "2022-04-09T12:14:16.822129Z"
    },
    "papermill": {
     "duration": 0.044691,
     "end_time": "2022-04-09T12:14:16.822278",
     "exception": false,
     "start_time": "2022-04-09T12:14:16.777587",
     "status": "completed"
    },
    "tags": []
   },
   "outputs": [],
   "source": [
    "#hide\n",
    "# g.head()"
   ]
  },
  {
   "cell_type": "code",
   "execution_count": 26,
   "id": "specific-kruger",
   "metadata": {
    "execution": {
     "iopub.execute_input": "2022-04-09T12:14:16.901264Z",
     "iopub.status.busy": "2022-04-09T12:14:16.900613Z",
     "iopub.status.idle": "2022-04-09T12:14:16.904670Z",
     "shell.execute_reply": "2022-04-09T12:14:16.905530Z"
    },
    "papermill": {
     "duration": 0.045245,
     "end_time": "2022-04-09T12:14:16.905672",
     "exception": false,
     "start_time": "2022-04-09T12:14:16.860427",
     "status": "completed"
    },
    "tags": []
   },
   "outputs": [],
   "source": [
    "#hide\n",
    "# g.columns = ['date','country','cases']"
   ]
  },
  {
   "cell_type": "code",
   "execution_count": 27,
   "id": "tender-conversion",
   "metadata": {
    "execution": {
     "iopub.execute_input": "2022-04-09T12:14:16.990304Z",
     "iopub.status.busy": "2022-04-09T12:14:16.989510Z",
     "iopub.status.idle": "2022-04-09T12:14:16.992321Z",
     "shell.execute_reply": "2022-04-09T12:14:16.991595Z"
    },
    "papermill": {
     "duration": 0.043275,
     "end_time": "2022-04-09T12:14:16.992659",
     "exception": false,
     "start_time": "2022-04-09T12:14:16.949384",
     "status": "completed"
    },
    "tags": []
   },
   "outputs": [],
   "source": [
    "#hide\n",
    "# g['continent'] = g.country"
   ]
  },
  {
   "cell_type": "code",
   "execution_count": 28,
   "id": "substantial-wilderness",
   "metadata": {
    "execution": {
     "iopub.execute_input": "2022-04-09T12:14:17.079253Z",
     "iopub.status.busy": "2022-04-09T12:14:17.078529Z",
     "iopub.status.idle": "2022-04-09T12:14:17.081607Z",
     "shell.execute_reply": "2022-04-09T12:14:17.081125Z"
    },
    "papermill": {
     "duration": 0.045997,
     "end_time": "2022-04-09T12:14:17.081728",
     "exception": false,
     "start_time": "2022-04-09T12:14:17.035731",
     "status": "completed"
    },
    "tags": []
   },
   "outputs": [],
   "source": [
    "#hide\n",
    "# cols = list(g.columns.values)"
   ]
  },
  {
   "cell_type": "code",
   "execution_count": 29,
   "id": "solved-farming",
   "metadata": {
    "execution": {
     "iopub.execute_input": "2022-04-09T12:14:17.159659Z",
     "iopub.status.busy": "2022-04-09T12:14:17.159027Z",
     "iopub.status.idle": "2022-04-09T12:14:17.160791Z",
     "shell.execute_reply": "2022-04-09T12:14:17.161262Z"
    },
    "papermill": {
     "duration": 0.042432,
     "end_time": "2022-04-09T12:14:17.161413",
     "exception": false,
     "start_time": "2022-04-09T12:14:17.118981",
     "status": "completed"
    },
    "tags": []
   },
   "outputs": [],
   "source": [
    "#hide\n",
    "# cols.insert(0, cols.pop())"
   ]
  },
  {
   "cell_type": "code",
   "execution_count": 30,
   "id": "executed-adoption",
   "metadata": {
    "execution": {
     "iopub.execute_input": "2022-04-09T12:14:17.245606Z",
     "iopub.status.busy": "2022-04-09T12:14:17.244838Z",
     "iopub.status.idle": "2022-04-09T12:14:17.246830Z",
     "shell.execute_reply": "2022-04-09T12:14:17.247332Z"
    },
    "papermill": {
     "duration": 0.047836,
     "end_time": "2022-04-09T12:14:17.247463",
     "exception": false,
     "start_time": "2022-04-09T12:14:17.199627",
     "status": "completed"
    },
    "tags": []
   },
   "outputs": [],
   "source": [
    "#hide\n",
    "# g = g[cols]"
   ]
  },
  {
   "cell_type": "code",
   "execution_count": 31,
   "id": "subject-dublin",
   "metadata": {
    "execution": {
     "iopub.execute_input": "2022-04-09T12:14:17.327004Z",
     "iopub.status.busy": "2022-04-09T12:14:17.326265Z",
     "iopub.status.idle": "2022-04-09T12:14:17.328713Z",
     "shell.execute_reply": "2022-04-09T12:14:17.328191Z"
    },
    "papermill": {
     "duration": 0.043014,
     "end_time": "2022-04-09T12:14:17.328830",
     "exception": false,
     "start_time": "2022-04-09T12:14:17.285816",
     "status": "completed"
    },
    "tags": []
   },
   "outputs": [],
   "source": [
    "#hide\n",
    "# g['continent'] = g['continent'].map(mapping['map.continent'])"
   ]
  },
  {
   "cell_type": "code",
   "execution_count": 32,
   "id": "freelance-scout",
   "metadata": {
    "execution": {
     "iopub.execute_input": "2022-04-09T12:14:17.414173Z",
     "iopub.status.busy": "2022-04-09T12:14:17.413499Z",
     "iopub.status.idle": "2022-04-09T12:14:17.416611Z",
     "shell.execute_reply": "2022-04-09T12:14:17.415999Z"
    },
    "papermill": {
     "duration": 0.046047,
     "end_time": "2022-04-09T12:14:17.416727",
     "exception": false,
     "start_time": "2022-04-09T12:14:17.370680",
     "status": "completed"
    },
    "tags": []
   },
   "outputs": [],
   "source": [
    "#hide\n",
    "# g.head()"
   ]
  },
  {
   "cell_type": "code",
   "execution_count": 33,
   "id": "limited-engine",
   "metadata": {
    "execution": {
     "iopub.execute_input": "2022-04-09T12:14:17.499759Z",
     "iopub.status.busy": "2022-04-09T12:14:17.499152Z",
     "iopub.status.idle": "2022-04-09T12:14:17.502134Z",
     "shell.execute_reply": "2022-04-09T12:14:17.502793Z"
    },
    "papermill": {
     "duration": 0.047103,
     "end_time": "2022-04-09T12:14:17.502963",
     "exception": false,
     "start_time": "2022-04-09T12:14:17.455860",
     "status": "completed"
    },
    "tags": []
   },
   "outputs": [],
   "source": [
    "# hide\n",
    "# g['date'] = g['date'].astype('datetime64[ns]')"
   ]
  },
  {
   "cell_type": "code",
   "execution_count": 34,
   "id": "sophisticated-supervisor",
   "metadata": {
    "execution": {
     "iopub.execute_input": "2022-04-09T12:14:17.590609Z",
     "iopub.status.busy": "2022-04-09T12:14:17.589849Z",
     "iopub.status.idle": "2022-04-09T12:14:17.592476Z",
     "shell.execute_reply": "2022-04-09T12:14:17.591654Z"
    },
    "papermill": {
     "duration": 0.047429,
     "end_time": "2022-04-09T12:14:17.592624",
     "exception": false,
     "start_time": "2022-04-09T12:14:17.545195",
     "status": "completed"
    },
    "tags": []
   },
   "outputs": [],
   "source": [
    "#hide\n",
    "# g['date'] = g.date.dt.dayofyear"
   ]
  },
  {
   "cell_type": "code",
   "execution_count": 35,
   "id": "inside-dubai",
   "metadata": {
    "execution": {
     "iopub.execute_input": "2022-04-09T12:14:17.677636Z",
     "iopub.status.busy": "2022-04-09T12:14:17.677038Z",
     "iopub.status.idle": "2022-04-09T12:14:17.679390Z",
     "shell.execute_reply": "2022-04-09T12:14:17.680489Z"
    },
    "papermill": {
     "duration": 0.044592,
     "end_time": "2022-04-09T12:14:17.680627",
     "exception": false,
     "start_time": "2022-04-09T12:14:17.636035",
     "status": "completed"
    },
    "tags": []
   },
   "outputs": [],
   "source": [
    "#hide\n",
    "# g = g.rename(columns= {'continent':'group','country':'name','cases':'value'})"
   ]
  },
  {
   "cell_type": "code",
   "execution_count": 36,
   "id": "fleet-motorcycle",
   "metadata": {
    "execution": {
     "iopub.execute_input": "2022-04-09T12:14:17.762386Z",
     "iopub.status.busy": "2022-04-09T12:14:17.761729Z",
     "iopub.status.idle": "2022-04-09T12:14:17.766017Z",
     "shell.execute_reply": "2022-04-09T12:14:17.766555Z"
    },
    "papermill": {
     "duration": 0.047184,
     "end_time": "2022-04-09T12:14:17.766698",
     "exception": false,
     "start_time": "2022-04-09T12:14:17.719514",
     "status": "completed"
    },
    "tags": []
   },
   "outputs": [],
   "source": [
    "#hide\n",
    "# cols = ['name','group','day','value']"
   ]
  },
  {
   "cell_type": "code",
   "execution_count": 37,
   "id": "continued-sleeping",
   "metadata": {
    "execution": {
     "iopub.execute_input": "2022-04-09T12:14:17.859843Z",
     "iopub.status.busy": "2022-04-09T12:14:17.859052Z",
     "iopub.status.idle": "2022-04-09T12:14:17.861207Z",
     "shell.execute_reply": "2022-04-09T12:14:17.861831Z"
    },
    "papermill": {
     "duration": 0.050538,
     "end_time": "2022-04-09T12:14:17.861985",
     "exception": false,
     "start_time": "2022-04-09T12:14:17.811447",
     "status": "completed"
    },
    "tags": []
   },
   "outputs": [],
   "source": [
    "#hide\n",
    "# g.rename(columns= {'date':'day'},inplace = True)"
   ]
  },
  {
   "cell_type": "code",
   "execution_count": 38,
   "id": "major-fight",
   "metadata": {
    "execution": {
     "iopub.execute_input": "2022-04-09T12:14:17.948546Z",
     "iopub.status.busy": "2022-04-09T12:14:17.947765Z",
     "iopub.status.idle": "2022-04-09T12:14:17.949990Z",
     "shell.execute_reply": "2022-04-09T12:14:17.950507Z"
    },
    "papermill": {
     "duration": 0.048058,
     "end_time": "2022-04-09T12:14:17.950653",
     "exception": false,
     "start_time": "2022-04-09T12:14:17.902595",
     "status": "completed"
    },
    "tags": []
   },
   "outputs": [],
   "source": [
    "#hide\n",
    "# g = g[cols]"
   ]
  },
  {
   "cell_type": "code",
   "execution_count": 39,
   "id": "structured-mobile",
   "metadata": {
    "execution": {
     "iopub.execute_input": "2022-04-09T12:14:18.032927Z",
     "iopub.status.busy": "2022-04-09T12:14:18.032338Z",
     "iopub.status.idle": "2022-04-09T12:14:18.035542Z",
     "shell.execute_reply": "2022-04-09T12:14:18.036243Z"
    },
    "papermill": {
     "duration": 0.046919,
     "end_time": "2022-04-09T12:14:18.036553",
     "exception": false,
     "start_time": "2022-04-09T12:14:17.989634",
     "status": "completed"
    },
    "tags": []
   },
   "outputs": [],
   "source": [
    "# #hide\n",
    "# g = g[g.group.notna()]"
   ]
  },
  {
   "cell_type": "code",
   "execution_count": 40,
   "id": "determined-closing",
   "metadata": {
    "execution": {
     "iopub.execute_input": "2022-04-09T12:14:18.126531Z",
     "iopub.status.busy": "2022-04-09T12:14:18.125849Z",
     "iopub.status.idle": "2022-04-09T12:14:18.128178Z",
     "shell.execute_reply": "2022-04-09T12:14:18.128674Z"
    },
    "papermill": {
     "duration": 0.04766,
     "end_time": "2022-04-09T12:14:18.128838",
     "exception": false,
     "start_time": "2022-04-09T12:14:18.081178",
     "status": "completed"
    },
    "tags": []
   },
   "outputs": [],
   "source": [
    "# #hide\n",
    "# colors = dict(zip(\n",
    "#     [\"Oceania\", \"Europe\", \"Asia\", \"South America\", \"Middle East\", \"North America\", \"Africa\"],\n",
    "#     [\"#adb0ff\", \"#ffb3ff\", \"#90d595\", \"#e48381\", \"#aafbff\", \"#f7bb5f\", \"#eafb50\"]\n",
    "# ))\n",
    "# group_lk = g.set_index('name')['group'].to_dict()"
   ]
  },
  {
   "cell_type": "code",
   "execution_count": null,
   "id": "gross-drinking",
   "metadata": {
    "papermill": {
     "duration": 0.038085,
     "end_time": "2022-04-09T12:14:18.204503",
     "exception": false,
     "start_time": "2022-04-09T12:14:18.166418",
     "status": "completed"
    },
    "tags": []
   },
   "outputs": [],
   "source": []
  },
  {
   "cell_type": "code",
   "execution_count": 41,
   "id": "subject-macintosh",
   "metadata": {
    "execution": {
     "iopub.execute_input": "2022-04-09T12:14:18.290550Z",
     "iopub.status.busy": "2022-04-09T12:14:18.289870Z",
     "iopub.status.idle": "2022-04-09T12:14:18.293749Z",
     "shell.execute_reply": "2022-04-09T12:14:18.293231Z"
    },
    "papermill": {
     "duration": 0.049392,
     "end_time": "2022-04-09T12:14:18.293869",
     "exception": false,
     "start_time": "2022-04-09T12:14:18.244477",
     "status": "completed"
    },
    "tags": []
   },
   "outputs": [],
   "source": [
    "# #hide\n",
    "# fig, ax = plt.subplots(figsize=(15, 8))\n",
    "\n",
    "# def draw_barchart(current_day):\n",
    "#     dff = g[g['day'].eq(current_day)].sort_values(by='value', ascending=True).tail(10)\n",
    "#     ax.clear()\n",
    "#     ax.barh(dff['name'], dff['value'], color=[colors[group_lk[x]] for x in dff['name']])\n",
    "#     dx = dff['value'].max() / 200\n",
    "    \n",
    "#     for i, (value, name) in enumerate(zip(dff['value'], dff['name'])):\n",
    "#         ax.text(value-dx, i,     name,           size=14, weight=600, ha='right', va='bottom')\n",
    "#         ax.text(value-dx, i-.25, group_lk[name], size=10, color='#444444', ha='right', va='baseline')\n",
    "#         ax.text(value+dx, i,     f'{value:,.0f}',  size=14, ha='left',  va='center')\n",
    "#     ax.text(1, 0.4, current_day, transform=ax.transAxes, color='#777777', size=46, ha='right', weight=800)\n",
    "#     ax.text(0, 1.06, 'Population (thousands)', transform=ax.transAxes, size=12, color='#777777')\n",
    "#     ax.xaxis.set_major_formatter(ticker.StrMethodFormatter('{x:,.0f}'))\n",
    "#     ax.xaxis.set_ticks_position('top')\n",
    "#     ax.tick_params(axis='x', colors='#777777', labelsize=12)\n",
    "#     ax.set_yticks([])\n",
    "#     ax.margins(0, 0.01)\n",
    "#     ax.grid(which='major', axis='x', linestyle='-')\n",
    "#     ax.set_axisbelow(True)\n",
    "    \n",
    "#     ax.text(0, 1.15, 'Coronavirus',\n",
    "#             transform=ax.transAxes, size=24, weight=600, ha='left', va='top')\n",
    "# #     ax.text(1, 0, 'by @pratapvardhan; credit @jburnmurdoch', transform=ax.transAxes, color='#777777', ha='right',\n",
    "# #             bbox=dict(facecolor='white', alpha=0.8, edgecolor='white'))\n",
    "#     plt.box(False)"
   ]
  },
  {
   "cell_type": "code",
   "execution_count": 42,
   "id": "sexual-wages",
   "metadata": {
    "execution": {
     "iopub.execute_input": "2022-04-09T12:14:18.376828Z",
     "iopub.status.busy": "2022-04-09T12:14:18.376187Z",
     "iopub.status.idle": "2022-04-09T12:14:18.378608Z",
     "shell.execute_reply": "2022-04-09T12:14:18.379131Z"
    },
    "papermill": {
     "duration": 0.046831,
     "end_time": "2022-04-09T12:14:18.379268",
     "exception": false,
     "start_time": "2022-04-09T12:14:18.332437",
     "status": "completed"
    },
    "tags": []
   },
   "outputs": [],
   "source": [
    "# #hide_input\n",
    "# fig, ax = plt.subplots(figsize=(15, 8))\n",
    "# animator = animation.FuncAnimation(fig, draw_barchart, frames=range(g.day.values.min(), g.day.values.max()))\n",
    "# HTML(animator.to_jshtml())\n",
    "# # or use animator.to_html5_video() or animator.save() "
   ]
  },
  {
   "cell_type": "code",
   "execution_count": null,
   "id": "australian-container",
   "metadata": {
    "papermill": {
     "duration": 0.037413,
     "end_time": "2022-04-09T12:14:18.454329",
     "exception": false,
     "start_time": "2022-04-09T12:14:18.416916",
     "status": "completed"
    },
    "tags": []
   },
   "outputs": [],
   "source": []
  },
  {
   "cell_type": "code",
   "execution_count": null,
   "id": "mediterranean-pontiac",
   "metadata": {
    "papermill": {
     "duration": 0.041535,
     "end_time": "2022-04-09T12:14:18.534375",
     "exception": false,
     "start_time": "2022-04-09T12:14:18.492840",
     "status": "completed"
    },
    "tags": []
   },
   "outputs": [],
   "source": []
  },
  {
   "cell_type": "code",
   "execution_count": null,
   "id": "aging-legislature",
   "metadata": {
    "papermill": {
     "duration": 0.041175,
     "end_time": "2022-04-09T12:14:18.616837",
     "exception": false,
     "start_time": "2022-04-09T12:14:18.575662",
     "status": "completed"
    },
    "tags": []
   },
   "outputs": [],
   "source": []
  }
 ],
 "metadata": {
  "kernelspec": {
   "display_name": "Python 3",
   "language": "python",
   "name": "python3"
  },
  "language_info": {
   "codemirror_mode": {
    "name": "ipython",
    "version": 3
   },
   "file_extension": ".py",
   "mimetype": "text/x-python",
   "name": "python",
   "nbconvert_exporter": "python",
   "pygments_lexer": "ipython3",
   "version": "3.6.15"
  },
  "papermill": {
   "duration": 7.512297,
   "end_time": "2022-04-09T12:14:18.975234",
   "environment_variables": {},
   "exception": null,
   "input_path": "2020-03-21-covid19exp.ipynb",
   "output_path": "2020-03-21-covid19exp.ipynb",
   "parameters": {},
   "start_time": "2022-04-09T12:14:11.462937",
   "version": "2.0.0"
  }
 },
 "nbformat": 4,
 "nbformat_minor": 5
}