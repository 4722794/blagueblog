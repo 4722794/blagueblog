{
 "cells": [
  {
   "cell_type": "markdown",
   "id": "muslim-click",
   "metadata": {
    "papermill": {
     "duration": 0.03439,
     "end_time": "2022-04-17T12:13:45.147511",
     "exception": false,
     "start_time": "2022-04-17T12:13:45.113121",
     "status": "completed"
    },
    "tags": []
   },
   "source": [
    "# COVID-19 Case Race\n",
    "> A race chart to see rising cases around the world\n",
    "\n",
    "- author: Hargun Oberoi\n",
    "- image: images/covid-overview.png\n",
    "- hide: false\n",
    "- badges: false"
   ]
  },
  {
   "cell_type": "code",
   "execution_count": 1,
   "id": "proof-material",
   "metadata": {
    "execution": {
     "iopub.execute_input": "2022-04-17T12:13:45.221026Z",
     "iopub.status.busy": "2022-04-17T12:13:45.220482Z",
     "iopub.status.idle": "2022-04-17T12:13:45.546727Z",
     "shell.execute_reply": "2022-04-17T12:13:45.547147Z"
    },
    "papermill": {
     "duration": 0.36701,
     "end_time": "2022-04-17T12:13:45.547305",
     "exception": false,
     "start_time": "2022-04-17T12:13:45.180295",
     "status": "completed"
    },
    "tags": []
   },
   "outputs": [],
   "source": [
    "#hide\n",
    "import numpy as np\n",
    "import pandas as pd\n",
    "from jinja2 import Template\n",
    "from IPython.display import HTML"
   ]
  },
  {
   "cell_type": "code",
   "execution_count": 2,
   "id": "developed-terminology",
   "metadata": {
    "execution": {
     "iopub.execute_input": "2022-04-17T12:13:45.615459Z",
     "iopub.status.busy": "2022-04-17T12:13:45.614933Z",
     "iopub.status.idle": "2022-04-17T12:13:45.616783Z",
     "shell.execute_reply": "2022-04-17T12:13:45.617196Z"
    },
    "papermill": {
     "duration": 0.038018,
     "end_time": "2022-04-17T12:13:45.617317",
     "exception": false,
     "start_time": "2022-04-17T12:13:45.579299",
     "status": "completed"
    },
    "tags": []
   },
   "outputs": [],
   "source": [
    "#hide\n",
    "\n",
    "# FETCH\n",
    "base_url = 'https://raw.githubusercontent.com/pratapvardhan/notebooks/master/covid19/'\n",
    "paths = {\n",
    "    'mapping': base_url + 'mapping_countries.csv',\n",
    "    'overview': base_url + 'overview.tpl'\n",
    "}"
   ]
  },
  {
   "cell_type": "code",
   "execution_count": 3,
   "id": "dynamic-saver",
   "metadata": {
    "execution": {
     "iopub.execute_input": "2022-04-17T12:13:45.688421Z",
     "iopub.status.busy": "2022-04-17T12:13:45.687891Z",
     "iopub.status.idle": "2022-04-17T12:13:45.690977Z",
     "shell.execute_reply": "2022-04-17T12:13:45.690537Z"
    },
    "papermill": {
     "duration": 0.042858,
     "end_time": "2022-04-17T12:13:45.691085",
     "exception": false,
     "start_time": "2022-04-17T12:13:45.648227",
     "status": "completed"
    },
    "tags": []
   },
   "outputs": [
    {
     "data": {
      "text/plain": [
       "'https://raw.githubusercontent.com/pratapvardhan/notebooks/master/covid19/mapping_countries.csv'"
      ]
     },
     "execution_count": 3,
     "metadata": {},
     "output_type": "execute_result"
    }
   ],
   "source": [
    "#hide\n",
    "paths['mapping']"
   ]
  },
  {
   "cell_type": "code",
   "execution_count": 4,
   "id": "urban-software",
   "metadata": {
    "execution": {
     "iopub.execute_input": "2022-04-17T12:13:45.759035Z",
     "iopub.status.busy": "2022-04-17T12:13:45.758509Z",
     "iopub.status.idle": "2022-04-17T12:13:45.760878Z",
     "shell.execute_reply": "2022-04-17T12:13:45.760460Z"
    },
    "papermill": {
     "duration": 0.038231,
     "end_time": "2022-04-17T12:13:45.760989",
     "exception": false,
     "start_time": "2022-04-17T12:13:45.722758",
     "status": "completed"
    },
    "tags": []
   },
   "outputs": [],
   "source": [
    "#hide\n",
    "def get_mappings(url):\n",
    "    df = pd.read_csv(url)\n",
    "    return {\n",
    "        'df': df,\n",
    "        'replace.country': dict(df.dropna(subset=['Name']).set_index('Country')['Name']),\n",
    "        'map.continent': dict(df.set_index('Name')['Continent'])\n",
    "    }"
   ]
  },
  {
   "cell_type": "code",
   "execution_count": 5,
   "id": "intimate-machinery",
   "metadata": {
    "execution": {
     "iopub.execute_input": "2022-04-17T12:13:45.828818Z",
     "iopub.status.busy": "2022-04-17T12:13:45.828318Z",
     "iopub.status.idle": "2022-04-17T12:13:45.888905Z",
     "shell.execute_reply": "2022-04-17T12:13:45.889321Z"
    },
    "papermill": {
     "duration": 0.096991,
     "end_time": "2022-04-17T12:13:45.889461",
     "exception": false,
     "start_time": "2022-04-17T12:13:45.792470",
     "status": "completed"
    },
    "tags": []
   },
   "outputs": [],
   "source": [
    "#hide\n",
    "mapping = get_mappings(paths['mapping'])"
   ]
  },
  {
   "cell_type": "code",
   "execution_count": 6,
   "id": "certified-tactics",
   "metadata": {
    "execution": {
     "iopub.execute_input": "2022-04-17T12:13:45.957706Z",
     "iopub.status.busy": "2022-04-17T12:13:45.957171Z",
     "iopub.status.idle": "2022-04-17T12:13:45.961013Z",
     "shell.execute_reply": "2022-04-17T12:13:45.960574Z"
    },
    "papermill": {
     "duration": 0.039664,
     "end_time": "2022-04-17T12:13:45.961127",
     "exception": false,
     "start_time": "2022-04-17T12:13:45.921463",
     "status": "completed"
    },
    "tags": []
   },
   "outputs": [],
   "source": [
    "#hide\n",
    "def get_template(path):\n",
    "    from urllib.parse import urlparse\n",
    "    if bool(urlparse(path).netloc):\n",
    "        from urllib.request import urlopen\n",
    "        return urlopen(path).read().decode('utf8')\n",
    "    return open(path).read()"
   ]
  },
  {
   "cell_type": "code",
   "execution_count": 7,
   "id": "realistic-blast",
   "metadata": {
    "execution": {
     "iopub.execute_input": "2022-04-17T12:13:46.028734Z",
     "iopub.status.busy": "2022-04-17T12:13:46.028221Z",
     "iopub.status.idle": "2022-04-17T12:13:46.030182Z",
     "shell.execute_reply": "2022-04-17T12:13:46.029767Z"
    },
    "papermill": {
     "duration": 0.037591,
     "end_time": "2022-04-17T12:13:46.030279",
     "exception": false,
     "start_time": "2022-04-17T12:13:45.992688",
     "status": "completed"
    },
    "tags": []
   },
   "outputs": [],
   "source": [
    "#hide\n",
    "def get_frame(name):\n",
    "    url = (\n",
    "        'https://raw.githubusercontent.com/CSSEGISandData/COVID-19/master/csse_covid_19_data/'\n",
    "        f'csse_covid_19_time_series/time_series_covid19_{name}_global.csv')\n",
    "    df = pd.read_csv(url)\n",
    "    # rename countries\n",
    "    df['Country/Region'] = df['Country/Region'].replace(mapping['replace.country'])\n",
    "    return df"
   ]
  },
  {
   "cell_type": "code",
   "execution_count": 8,
   "id": "affiliated-characterization",
   "metadata": {
    "execution": {
     "iopub.execute_input": "2022-04-17T12:13:46.098988Z",
     "iopub.status.busy": "2022-04-17T12:13:46.098442Z",
     "iopub.status.idle": "2022-04-17T12:13:46.100835Z",
     "shell.execute_reply": "2022-04-17T12:13:46.100411Z"
    },
    "papermill": {
     "duration": 0.039065,
     "end_time": "2022-04-17T12:13:46.100940",
     "exception": false,
     "start_time": "2022-04-17T12:13:46.061875",
     "status": "completed"
    },
    "tags": []
   },
   "outputs": [],
   "source": [
    "#hide\n",
    "def get_dates(df):\n",
    "    dt_cols = df.columns[~df.columns.isin(['Province/State', 'Country/Region', 'Lat', 'Long'])]\n",
    "    LAST_DATE_I = -1\n",
    "    # sometimes last column may be empty, then go backwards\n",
    "    for i in range(-1, -len(dt_cols), -1):\n",
    "        if not df[dt_cols[i]].fillna(0).eq(0).all():\n",
    "            LAST_DATE_I = i\n",
    "            break\n",
    "    return LAST_DATE_I, dt_cols"
   ]
  },
  {
   "cell_type": "code",
   "execution_count": 9,
   "id": "recent-optimization",
   "metadata": {
    "execution": {
     "iopub.execute_input": "2022-04-17T12:13:46.168226Z",
     "iopub.status.busy": "2022-04-17T12:13:46.167663Z",
     "iopub.status.idle": "2022-04-17T12:13:46.768805Z",
     "shell.execute_reply": "2022-04-17T12:13:46.768363Z"
    },
    "papermill": {
     "duration": 0.636648,
     "end_time": "2022-04-17T12:13:46.768921",
     "exception": false,
     "start_time": "2022-04-17T12:13:46.132273",
     "status": "completed"
    },
    "tags": []
   },
   "outputs": [],
   "source": [
    "#hide\n",
    "COL_REGION = 'Country/Region'\n",
    "# Confirmed, Recovered, Deaths\n",
    "df = get_frame('confirmed')\n",
    "# dft_: timeseries, dfc_: today country agg\n",
    "dft_cases = df\n",
    "dft_deaths = get_frame('deaths')\n",
    "dft_recovered = get_frame('recovered')\n",
    "LAST_DATE_I, dt_cols = get_dates(df)"
   ]
  },
  {
   "cell_type": "code",
   "execution_count": 10,
   "id": "absolute-copper",
   "metadata": {
    "execution": {
     "iopub.execute_input": "2022-04-17T12:13:46.837218Z",
     "iopub.status.busy": "2022-04-17T12:13:46.836720Z",
     "iopub.status.idle": "2022-04-17T12:13:46.838593Z",
     "shell.execute_reply": "2022-04-17T12:13:46.838967Z"
    },
    "papermill": {
     "duration": 0.038222,
     "end_time": "2022-04-17T12:13:46.839080",
     "exception": false,
     "start_time": "2022-04-17T12:13:46.800858",
     "status": "completed"
    },
    "tags": []
   },
   "outputs": [],
   "source": [
    "#hide\n",
    "LAST_DATE_I, dt_cols = get_dates(df)\n",
    "dt_today =dt_cols[LAST_DATE_I]\n",
    "# dt_5day = dt_cols[LAST_DATE_I - 5]\n",
    "dt_yday = dt_cols[LAST_DATE_I - 1]"
   ]
  },
  {
   "cell_type": "code",
   "execution_count": 11,
   "id": "restricted-sheriff",
   "metadata": {
    "execution": {
     "iopub.execute_input": "2022-04-17T12:13:46.912184Z",
     "iopub.status.busy": "2022-04-17T12:13:46.908560Z",
     "iopub.status.idle": "2022-04-17T12:13:46.917222Z",
     "shell.execute_reply": "2022-04-17T12:13:46.916247Z"
    },
    "papermill": {
     "duration": 0.046764,
     "end_time": "2022-04-17T12:13:46.917340",
     "exception": false,
     "start_time": "2022-04-17T12:13:46.870576",
     "status": "completed"
    },
    "tags": []
   },
   "outputs": [],
   "source": [
    "#hide\n",
    "dfc_cases = dft_cases.groupby(COL_REGION)[dt_today].sum()\n",
    "dfc_deaths = dft_deaths.groupby(COL_REGION)[dt_today].sum()\n",
    "# dfp_cases = dft_cases.groupby(COL_REGION)[dt_5day].sum()\n",
    "# dfp_deaths = dft_deaths.groupby(COL_REGION)[dt_5day].sum()\n",
    "dfp_cases = dft_cases.groupby(COL_REGION)[dt_yday].sum()\n",
    "dfp_deaths = dft_deaths.groupby(COL_REGION)[dt_yday].sum()"
   ]
  },
  {
   "cell_type": "code",
   "execution_count": 12,
   "id": "deluxe-hepatitis",
   "metadata": {
    "execution": {
     "iopub.execute_input": "2022-04-17T12:13:46.986649Z",
     "iopub.status.busy": "2022-04-17T12:13:46.986079Z",
     "iopub.status.idle": "2022-04-17T12:13:46.990507Z",
     "shell.execute_reply": "2022-04-17T12:13:46.990062Z"
    },
    "papermill": {
     "duration": 0.041631,
     "end_time": "2022-04-17T12:13:46.990619",
     "exception": false,
     "start_time": "2022-04-17T12:13:46.948988",
     "status": "completed"
    },
    "tags": []
   },
   "outputs": [],
   "source": [
    "#hide\n",
    "df_table = (pd.DataFrame(dict(Cases = dfc_cases, Deaths = dfc_deaths, PCases = dfp_cases, PDeaths = dfp_deaths))\n",
    "            .sort_values(by = ['Cases','Deaths'], ascending = [False, False])\n",
    "            .reset_index())"
   ]
  },
  {
   "cell_type": "code",
   "execution_count": 13,
   "id": "educational-chancellor",
   "metadata": {
    "execution": {
     "iopub.execute_input": "2022-04-17T12:13:47.068727Z",
     "iopub.status.busy": "2022-04-17T12:13:47.068208Z",
     "iopub.status.idle": "2022-04-17T12:13:47.079998Z",
     "shell.execute_reply": "2022-04-17T12:13:47.080446Z"
    },
    "papermill": {
     "duration": 0.058235,
     "end_time": "2022-04-17T12:13:47.080573",
     "exception": false,
     "start_time": "2022-04-17T12:13:47.022338",
     "status": "completed"
    },
    "tags": []
   },
   "outputs": [
    {
     "data": {
      "text/html": [
       "<div>\n",
       "<style scoped>\n",
       "    .dataframe tbody tr th:only-of-type {\n",
       "        vertical-align: middle;\n",
       "    }\n",
       "\n",
       "    .dataframe tbody tr th {\n",
       "        vertical-align: top;\n",
       "    }\n",
       "\n",
       "    .dataframe thead th {\n",
       "        text-align: right;\n",
       "    }\n",
       "</style>\n",
       "<table border=\"1\" class=\"dataframe\">\n",
       "  <thead>\n",
       "    <tr style=\"text-align: right;\">\n",
       "      <th></th>\n",
       "      <th>Country/Region</th>\n",
       "      <th>Cases</th>\n",
       "      <th>Deaths</th>\n",
       "      <th>PCases</th>\n",
       "      <th>PDeaths</th>\n",
       "      <th>Cases (+)</th>\n",
       "      <th>Deaths (+)</th>\n",
       "      <th>Fatality Rate</th>\n",
       "      <th>Continent</th>\n",
       "    </tr>\n",
       "  </thead>\n",
       "  <tbody>\n",
       "    <tr>\n",
       "      <th>0</th>\n",
       "      <td>US</td>\n",
       "      <td>80625120</td>\n",
       "      <td>988609</td>\n",
       "      <td>80612681</td>\n",
       "      <td>988558</td>\n",
       "      <td>12439</td>\n",
       "      <td>51</td>\n",
       "      <td>1.23</td>\n",
       "      <td>North America</td>\n",
       "    </tr>\n",
       "    <tr>\n",
       "      <th>1</th>\n",
       "      <td>India</td>\n",
       "      <td>43042097</td>\n",
       "      <td>521751</td>\n",
       "      <td>43040947</td>\n",
       "      <td>521747</td>\n",
       "      <td>1150</td>\n",
       "      <td>4</td>\n",
       "      <td>1.21</td>\n",
       "      <td>Asia</td>\n",
       "    </tr>\n",
       "    <tr>\n",
       "      <th>2</th>\n",
       "      <td>Brazil</td>\n",
       "      <td>30250077</td>\n",
       "      <td>662185</td>\n",
       "      <td>30247302</td>\n",
       "      <td>662154</td>\n",
       "      <td>2775</td>\n",
       "      <td>31</td>\n",
       "      <td>2.19</td>\n",
       "      <td>South America</td>\n",
       "    </tr>\n",
       "    <tr>\n",
       "      <th>3</th>\n",
       "      <td>France</td>\n",
       "      <td>27874269</td>\n",
       "      <td>145159</td>\n",
       "      <td>27762686</td>\n",
       "      <td>145098</td>\n",
       "      <td>111583</td>\n",
       "      <td>61</td>\n",
       "      <td>0.52</td>\n",
       "      <td>Europe</td>\n",
       "    </tr>\n",
       "    <tr>\n",
       "      <th>4</th>\n",
       "      <td>Germany</td>\n",
       "      <td>23416663</td>\n",
       "      <td>132942</td>\n",
       "      <td>23376879</td>\n",
       "      <td>132929</td>\n",
       "      <td>39784</td>\n",
       "      <td>13</td>\n",
       "      <td>0.57</td>\n",
       "      <td>Europe</td>\n",
       "    </tr>\n",
       "  </tbody>\n",
       "</table>\n",
       "</div>"
      ],
      "text/plain": [
       "  Country/Region     Cases  Deaths    PCases  PDeaths  Cases (+)  Deaths (+)  \\\n",
       "0             US  80625120  988609  80612681   988558      12439          51   \n",
       "1          India  43042097  521751  43040947   521747       1150           4   \n",
       "2         Brazil  30250077  662185  30247302   662154       2775          31   \n",
       "3         France  27874269  145159  27762686   145098     111583          61   \n",
       "4        Germany  23416663  132942  23376879   132929      39784          13   \n",
       "\n",
       "   Fatality Rate      Continent  \n",
       "0           1.23  North America  \n",
       "1           1.21           Asia  \n",
       "2           2.19  South America  \n",
       "3           0.52         Europe  \n",
       "4           0.57         Europe  "
      ]
     },
     "execution_count": 13,
     "metadata": {},
     "output_type": "execute_result"
    }
   ],
   "source": [
    "#hide\n",
    "for c in 'Cases, Deaths'.split(', '):\n",
    "    df_table[f'{c} (+)'] = (df_table[c] - df_table[f'P{c}']).clip(0)\n",
    "    #Clip ça veut dire, les chiffres negatif sont interdit\n",
    "df_table['Fatality Rate'] = (100* df_table['Deaths']/ df_table['Cases']).round(2)\n",
    "df_table['Continent'] = df_table['Country/Region'].map(mapping['map.continent'])\n",
    "df_table.head(5)"
   ]
  },
  {
   "cell_type": "code",
   "execution_count": 14,
   "id": "aboriginal-bulgaria",
   "metadata": {
    "execution": {
     "iopub.execute_input": "2022-04-17T12:13:47.150215Z",
     "iopub.status.busy": "2022-04-17T12:13:47.149669Z",
     "iopub.status.idle": "2022-04-17T12:13:47.151325Z",
     "shell.execute_reply": "2022-04-17T12:13:47.151739Z"
    },
    "papermill": {
     "duration": 0.038889,
     "end_time": "2022-04-17T12:13:47.151873",
     "exception": false,
     "start_time": "2022-04-17T12:13:47.112984",
     "status": "completed"
    },
    "tags": []
   },
   "outputs": [],
   "source": [
    "#hide\n",
    "#delete problematic countries from table\n",
    "df_table = df_table[~df_table['Country/Region'].isin(['Cape Verde', 'Cruise Ship', 'Kosovo'])]"
   ]
  },
  {
   "cell_type": "code",
   "execution_count": 15,
   "id": "fantastic-effect",
   "metadata": {
    "execution": {
     "iopub.execute_input": "2022-04-17T12:13:47.224122Z",
     "iopub.status.busy": "2022-04-17T12:13:47.223582Z",
     "iopub.status.idle": "2022-04-17T12:13:47.239670Z",
     "shell.execute_reply": "2022-04-17T12:13:47.240059Z"
    },
    "papermill": {
     "duration": 0.056327,
     "end_time": "2022-04-17T12:13:47.240185",
     "exception": false,
     "start_time": "2022-04-17T12:13:47.183858",
     "status": "completed"
    },
    "tags": []
   },
   "outputs": [
    {
     "data": {
      "text/html": [
       "<div>\n",
       "<style scoped>\n",
       "    .dataframe tbody tr th:only-of-type {\n",
       "        vertical-align: middle;\n",
       "    }\n",
       "\n",
       "    .dataframe tbody tr th {\n",
       "        vertical-align: top;\n",
       "    }\n",
       "\n",
       "    .dataframe thead th {\n",
       "        text-align: right;\n",
       "    }\n",
       "</style>\n",
       "<table border=\"1\" class=\"dataframe\">\n",
       "  <thead>\n",
       "    <tr style=\"text-align: right;\">\n",
       "      <th></th>\n",
       "      <th>Country/Region</th>\n",
       "      <th>Cases</th>\n",
       "      <th>Deaths</th>\n",
       "      <th>PCases</th>\n",
       "      <th>PDeaths</th>\n",
       "      <th>Cases (+)</th>\n",
       "      <th>Deaths (+)</th>\n",
       "      <th>Fatality Rate</th>\n",
       "      <th>Continent</th>\n",
       "    </tr>\n",
       "  </thead>\n",
       "  <tbody>\n",
       "    <tr>\n",
       "      <th>0</th>\n",
       "      <td>US</td>\n",
       "      <td>80625120</td>\n",
       "      <td>988609</td>\n",
       "      <td>80612681</td>\n",
       "      <td>988558</td>\n",
       "      <td>12439</td>\n",
       "      <td>51</td>\n",
       "      <td>1.2</td>\n",
       "      <td>North America</td>\n",
       "    </tr>\n",
       "    <tr>\n",
       "      <th>1</th>\n",
       "      <td>India</td>\n",
       "      <td>43042097</td>\n",
       "      <td>521751</td>\n",
       "      <td>43040947</td>\n",
       "      <td>521747</td>\n",
       "      <td>1150</td>\n",
       "      <td>4</td>\n",
       "      <td>1.2</td>\n",
       "      <td>Asia</td>\n",
       "    </tr>\n",
       "    <tr>\n",
       "      <th>2</th>\n",
       "      <td>Brazil</td>\n",
       "      <td>30250077</td>\n",
       "      <td>662185</td>\n",
       "      <td>30247302</td>\n",
       "      <td>662154</td>\n",
       "      <td>2775</td>\n",
       "      <td>31</td>\n",
       "      <td>2.2</td>\n",
       "      <td>South America</td>\n",
       "    </tr>\n",
       "    <tr>\n",
       "      <th>3</th>\n",
       "      <td>France</td>\n",
       "      <td>27874269</td>\n",
       "      <td>145159</td>\n",
       "      <td>27762686</td>\n",
       "      <td>145098</td>\n",
       "      <td>111583</td>\n",
       "      <td>61</td>\n",
       "      <td>0.5</td>\n",
       "      <td>Europe</td>\n",
       "    </tr>\n",
       "    <tr>\n",
       "      <th>4</th>\n",
       "      <td>Germany</td>\n",
       "      <td>23416663</td>\n",
       "      <td>132942</td>\n",
       "      <td>23376879</td>\n",
       "      <td>132929</td>\n",
       "      <td>39784</td>\n",
       "      <td>13</td>\n",
       "      <td>0.6</td>\n",
       "      <td>Europe</td>\n",
       "    </tr>\n",
       "  </tbody>\n",
       "</table>\n",
       "</div>"
      ],
      "text/plain": [
       "  Country/Region     Cases  Deaths    PCases  PDeaths  Cases (+)  Deaths (+)  \\\n",
       "0             US  80625120  988609  80612681   988558      12439          51   \n",
       "1          India  43042097  521751  43040947   521747       1150           4   \n",
       "2         Brazil  30250077  662185  30247302   662154       2775          31   \n",
       "3         France  27874269  145159  27762686   145098     111583          61   \n",
       "4        Germany  23416663  132942  23376879   132929      39784          13   \n",
       "\n",
       "   Fatality Rate      Continent  \n",
       "0            1.2  North America  \n",
       "1            1.2           Asia  \n",
       "2            2.2  South America  \n",
       "3            0.5         Europe  \n",
       "4            0.6         Europe  "
      ]
     },
     "execution_count": 15,
     "metadata": {},
     "output_type": "execute_result"
    }
   ],
   "source": [
    "#hide\n",
    "df_table = (pd.DataFrame(dict(Cases=dfc_cases, Deaths=dfc_deaths, PCases=dfp_cases, PDeaths=dfp_deaths))\n",
    "             .sort_values(by=['Cases', 'Deaths'], ascending=[False, False])\n",
    "             .reset_index())\n",
    "df_table.rename(columns={'index': 'Country/Region'}, inplace=True)\n",
    "for c in 'Cases, Deaths'.split(', '):\n",
    "    df_table[f'{c} (+)'] = (df_table[c] - df_table[f'P{c}']).clip(0)  # DATA BUG\n",
    "df_table['Fatality Rate'] = (100 * df_table['Deaths'] / df_table['Cases']).round(1)\n",
    "df_table['Continent'] = df_table['Country/Region'].map(mapping['map.continent'])\n",
    "df_table.head(5)"
   ]
  },
  {
   "cell_type": "code",
   "execution_count": 16,
   "id": "fewer-occasion",
   "metadata": {
    "execution": {
     "iopub.execute_input": "2022-04-17T12:13:47.311294Z",
     "iopub.status.busy": "2022-04-17T12:13:47.310721Z",
     "iopub.status.idle": "2022-04-17T12:13:47.312288Z",
     "shell.execute_reply": "2022-04-17T12:13:47.312747Z"
    },
    "papermill": {
     "duration": 0.039777,
     "end_time": "2022-04-17T12:13:47.312866",
     "exception": false,
     "start_time": "2022-04-17T12:13:47.273089",
     "status": "completed"
    },
    "tags": []
   },
   "outputs": [],
   "source": [
    "#hide\n",
    "#delete problematic countries from table\n",
    "df_table = df_table[~df_table['Country/Region'].isin(['Cape Verde', 'Cruise Ship', 'Kosovo'])]"
   ]
  },
  {
   "cell_type": "code",
   "execution_count": 17,
   "id": "related-center",
   "metadata": {
    "execution": {
     "iopub.execute_input": "2022-04-17T12:13:47.395839Z",
     "iopub.status.busy": "2022-04-17T12:13:47.395271Z",
     "iopub.status.idle": "2022-04-17T12:13:47.397178Z",
     "shell.execute_reply": "2022-04-17T12:13:47.397553Z"
    },
    "papermill": {
     "duration": 0.052289,
     "end_time": "2022-04-17T12:13:47.397680",
     "exception": false,
     "start_time": "2022-04-17T12:13:47.345391",
     "status": "completed"
    },
    "tags": []
   },
   "outputs": [],
   "source": [
    "#hide\n",
    "metrics = [df_table.columns[index] for index in [1,2,5,6]]\n",
    "# s_china = df_table[df_table['Country/Region'].eq('China')][metrics].sum().add_prefix('China ')\n",
    "s_us = df_table[df_table['Country/Region'].eq('US')][metrics].sum().add_prefix('US ')\n",
    "s_eu = df_table[df_table['Continent'].eq('Europe')][metrics].sum().add_prefix('EU ')\n",
    "s_ind = df_table[df_table['Country/Region'].eq('India')][metrics].sum().add_prefix('India ')\n",
    "summary = {'updated': pd.to_datetime(dt_today), 'since': pd.to_datetime(dt_yday)}\n",
    "summary = {'updated': pd.to_datetime(dt_today), 'since': pd.to_datetime(dt_yday)}\n",
    "summary = {**summary, **df_table[metrics].sum(), **s_ind, **s_us, **s_eu}"
   ]
  },
  {
   "cell_type": "code",
   "execution_count": 18,
   "id": "engaging-syndrome",
   "metadata": {
    "execution": {
     "iopub.execute_input": "2022-04-17T12:13:47.468146Z",
     "iopub.status.busy": "2022-04-17T12:13:47.467631Z",
     "iopub.status.idle": "2022-04-17T12:13:47.483440Z",
     "shell.execute_reply": "2022-04-17T12:13:47.483013Z"
    },
    "papermill": {
     "duration": 0.053169,
     "end_time": "2022-04-17T12:13:47.483576",
     "exception": false,
     "start_time": "2022-04-17T12:13:47.430407",
     "status": "completed"
    },
    "tags": []
   },
   "outputs": [],
   "source": [
    "#hide\n",
    "dft_ct_new_cases = dft_cases.groupby(COL_REGION)[dt_cols].sum().diff(axis=1).fillna(0).astype(int)"
   ]
  },
  {
   "cell_type": "code",
   "execution_count": 19,
   "id": "neutral-assignment",
   "metadata": {
    "execution": {
     "iopub.execute_input": "2022-04-17T12:13:47.554174Z",
     "iopub.status.busy": "2022-04-17T12:13:47.553625Z",
     "iopub.status.idle": "2022-04-17T12:13:47.556859Z",
     "shell.execute_reply": "2022-04-17T12:13:47.557251Z"
    },
    "papermill": {
     "duration": 0.041369,
     "end_time": "2022-04-17T12:13:47.557380",
     "exception": false,
     "start_time": "2022-04-17T12:13:47.516011",
     "status": "completed"
    },
    "tags": []
   },
   "outputs": [],
   "source": [
    "#hide\n",
    "everydaycases = dft_ct_new_cases.cumsum(axis=1)"
   ]
  },
  {
   "cell_type": "code",
   "execution_count": 20,
   "id": "parliamentary-calgary",
   "metadata": {
    "execution": {
     "iopub.execute_input": "2022-04-17T12:13:47.628775Z",
     "iopub.status.busy": "2022-04-17T12:13:47.626099Z",
     "iopub.status.idle": "2022-04-17T12:13:48.178741Z",
     "shell.execute_reply": "2022-04-17T12:13:48.178286Z"
    },
    "papermill": {
     "duration": 0.588761,
     "end_time": "2022-04-17T12:13:48.178862",
     "exception": false,
     "start_time": "2022-04-17T12:13:47.590101",
     "status": "completed"
    },
    "tags": []
   },
   "outputs": [],
   "source": [
    "#hide\n",
    "import pandas as pd\n",
    "import matplotlib.pyplot as plt\n",
    "import matplotlib.ticker as ticker\n",
    "import matplotlib.animation as animation\n",
    "from IPython.display import HTML"
   ]
  },
  {
   "cell_type": "code",
   "execution_count": 21,
   "id": "lasting-extraction",
   "metadata": {
    "execution": {
     "iopub.execute_input": "2022-04-17T12:13:48.248940Z",
     "iopub.status.busy": "2022-04-17T12:13:48.248437Z",
     "iopub.status.idle": "2022-04-17T12:13:48.254015Z",
     "shell.execute_reply": "2022-04-17T12:13:48.254430Z"
    },
    "papermill": {
     "duration": 0.043287,
     "end_time": "2022-04-17T12:13:48.254556",
     "exception": false,
     "start_time": "2022-04-17T12:13:48.211269",
     "status": "completed"
    },
    "tags": []
   },
   "outputs": [],
   "source": [
    "#hide\n",
    "t = everydaycases.stack()"
   ]
  },
  {
   "cell_type": "code",
   "execution_count": 22,
   "id": "premier-sleeve",
   "metadata": {
    "execution": {
     "iopub.execute_input": "2022-04-17T12:13:48.323695Z",
     "iopub.status.busy": "2022-04-17T12:13:48.323156Z",
     "iopub.status.idle": "2022-04-17T12:13:48.332676Z",
     "shell.execute_reply": "2022-04-17T12:13:48.333059Z"
    },
    "papermill": {
     "duration": 0.046068,
     "end_time": "2022-04-17T12:13:48.333182",
     "exception": false,
     "start_time": "2022-04-17T12:13:48.287114",
     "status": "completed"
    },
    "tags": []
   },
   "outputs": [],
   "source": [
    "#hide\n",
    "g = t.reset_index(['Country/Region'])"
   ]
  },
  {
   "cell_type": "code",
   "execution_count": 23,
   "id": "distributed-pittsburgh",
   "metadata": {
    "execution": {
     "iopub.execute_input": "2022-04-17T12:13:48.401712Z",
     "iopub.status.busy": "2022-04-17T12:13:48.401181Z",
     "iopub.status.idle": "2022-04-17T12:13:48.403321Z",
     "shell.execute_reply": "2022-04-17T12:13:48.402885Z"
    },
    "papermill": {
     "duration": 0.038045,
     "end_time": "2022-04-17T12:13:48.403431",
     "exception": false,
     "start_time": "2022-04-17T12:13:48.365386",
     "status": "completed"
    },
    "tags": []
   },
   "outputs": [],
   "source": [
    "#hide\n",
    "g.index.name = 'date'"
   ]
  },
  {
   "cell_type": "code",
   "execution_count": 24,
   "id": "naked-donor",
   "metadata": {
    "execution": {
     "iopub.execute_input": "2022-04-17T12:13:48.471941Z",
     "iopub.status.busy": "2022-04-17T12:13:48.471358Z",
     "iopub.status.idle": "2022-04-17T12:13:48.474348Z",
     "shell.execute_reply": "2022-04-17T12:13:48.473933Z"
    },
    "papermill": {
     "duration": 0.038502,
     "end_time": "2022-04-17T12:13:48.474460",
     "exception": false,
     "start_time": "2022-04-17T12:13:48.435958",
     "status": "completed"
    },
    "tags": []
   },
   "outputs": [],
   "source": [
    "# #hide\n",
    "# g = g.reset_index(['date'])"
   ]
  },
  {
   "cell_type": "code",
   "execution_count": 25,
   "id": "incomplete-mustang",
   "metadata": {
    "execution": {
     "iopub.execute_input": "2022-04-17T12:13:48.542563Z",
     "iopub.status.busy": "2022-04-17T12:13:48.542055Z",
     "iopub.status.idle": "2022-04-17T12:13:48.545564Z",
     "shell.execute_reply": "2022-04-17T12:13:48.545163Z"
    },
    "papermill": {
     "duration": 0.038764,
     "end_time": "2022-04-17T12:13:48.545668",
     "exception": false,
     "start_time": "2022-04-17T12:13:48.506904",
     "status": "completed"
    },
    "tags": []
   },
   "outputs": [],
   "source": [
    "#hide\n",
    "# g.head()"
   ]
  },
  {
   "cell_type": "code",
   "execution_count": 26,
   "id": "specific-kruger",
   "metadata": {
    "execution": {
     "iopub.execute_input": "2022-04-17T12:13:48.614312Z",
     "iopub.status.busy": "2022-04-17T12:13:48.613766Z",
     "iopub.status.idle": "2022-04-17T12:13:48.615821Z",
     "shell.execute_reply": "2022-04-17T12:13:48.615366Z"
    },
    "papermill": {
     "duration": 0.03775,
     "end_time": "2022-04-17T12:13:48.615931",
     "exception": false,
     "start_time": "2022-04-17T12:13:48.578181",
     "status": "completed"
    },
    "tags": []
   },
   "outputs": [],
   "source": [
    "#hide\n",
    "# g.columns = ['date','country','cases']"
   ]
  },
  {
   "cell_type": "code",
   "execution_count": 27,
   "id": "tender-conversion",
   "metadata": {
    "execution": {
     "iopub.execute_input": "2022-04-17T12:13:48.684223Z",
     "iopub.status.busy": "2022-04-17T12:13:48.683682Z",
     "iopub.status.idle": "2022-04-17T12:13:48.685324Z",
     "shell.execute_reply": "2022-04-17T12:13:48.685708Z"
    },
    "papermill": {
     "duration": 0.037609,
     "end_time": "2022-04-17T12:13:48.685840",
     "exception": false,
     "start_time": "2022-04-17T12:13:48.648231",
     "status": "completed"
    },
    "tags": []
   },
   "outputs": [],
   "source": [
    "#hide\n",
    "# g['continent'] = g.country"
   ]
  },
  {
   "cell_type": "code",
   "execution_count": 28,
   "id": "substantial-wilderness",
   "metadata": {
    "execution": {
     "iopub.execute_input": "2022-04-17T12:13:48.754367Z",
     "iopub.status.busy": "2022-04-17T12:13:48.753810Z",
     "iopub.status.idle": "2022-04-17T12:13:48.755501Z",
     "shell.execute_reply": "2022-04-17T12:13:48.755918Z"
    },
    "papermill": {
     "duration": 0.037514,
     "end_time": "2022-04-17T12:13:48.756047",
     "exception": false,
     "start_time": "2022-04-17T12:13:48.718533",
     "status": "completed"
    },
    "tags": []
   },
   "outputs": [],
   "source": [
    "#hide\n",
    "# cols = list(g.columns.values)"
   ]
  },
  {
   "cell_type": "code",
   "execution_count": 29,
   "id": "solved-farming",
   "metadata": {
    "execution": {
     "iopub.execute_input": "2022-04-17T12:13:48.824601Z",
     "iopub.status.busy": "2022-04-17T12:13:48.824076Z",
     "iopub.status.idle": "2022-04-17T12:13:48.826004Z",
     "shell.execute_reply": "2022-04-17T12:13:48.825617Z"
    },
    "papermill": {
     "duration": 0.037582,
     "end_time": "2022-04-17T12:13:48.826108",
     "exception": false,
     "start_time": "2022-04-17T12:13:48.788526",
     "status": "completed"
    },
    "tags": []
   },
   "outputs": [],
   "source": [
    "#hide\n",
    "# cols.insert(0, cols.pop())"
   ]
  },
  {
   "cell_type": "code",
   "execution_count": 30,
   "id": "executed-adoption",
   "metadata": {
    "execution": {
     "iopub.execute_input": "2022-04-17T12:13:48.894420Z",
     "iopub.status.busy": "2022-04-17T12:13:48.893844Z",
     "iopub.status.idle": "2022-04-17T12:13:48.897718Z",
     "shell.execute_reply": "2022-04-17T12:13:48.897297Z"
    },
    "papermill": {
     "duration": 0.03931,
     "end_time": "2022-04-17T12:13:48.897832",
     "exception": false,
     "start_time": "2022-04-17T12:13:48.858522",
     "status": "completed"
    },
    "tags": []
   },
   "outputs": [],
   "source": [
    "#hide\n",
    "# g = g[cols]"
   ]
  },
  {
   "cell_type": "code",
   "execution_count": 31,
   "id": "subject-dublin",
   "metadata": {
    "execution": {
     "iopub.execute_input": "2022-04-17T12:13:48.966216Z",
     "iopub.status.busy": "2022-04-17T12:13:48.965662Z",
     "iopub.status.idle": "2022-04-17T12:13:48.967713Z",
     "shell.execute_reply": "2022-04-17T12:13:48.967281Z"
    },
    "papermill": {
     "duration": 0.037514,
     "end_time": "2022-04-17T12:13:48.967826",
     "exception": false,
     "start_time": "2022-04-17T12:13:48.930312",
     "status": "completed"
    },
    "tags": []
   },
   "outputs": [],
   "source": [
    "#hide\n",
    "# g['continent'] = g['continent'].map(mapping['map.continent'])"
   ]
  },
  {
   "cell_type": "code",
   "execution_count": 32,
   "id": "freelance-scout",
   "metadata": {
    "execution": {
     "iopub.execute_input": "2022-04-17T12:13:49.036252Z",
     "iopub.status.busy": "2022-04-17T12:13:49.035730Z",
     "iopub.status.idle": "2022-04-17T12:13:49.037662Z",
     "shell.execute_reply": "2022-04-17T12:13:49.037271Z"
    },
    "papermill": {
     "duration": 0.037305,
     "end_time": "2022-04-17T12:13:49.037763",
     "exception": false,
     "start_time": "2022-04-17T12:13:49.000458",
     "status": "completed"
    },
    "tags": []
   },
   "outputs": [],
   "source": [
    "#hide\n",
    "# g.head()"
   ]
  },
  {
   "cell_type": "code",
   "execution_count": 33,
   "id": "limited-engine",
   "metadata": {
    "execution": {
     "iopub.execute_input": "2022-04-17T12:13:49.106030Z",
     "iopub.status.busy": "2022-04-17T12:13:49.105477Z",
     "iopub.status.idle": "2022-04-17T12:13:49.107240Z",
     "shell.execute_reply": "2022-04-17T12:13:49.107649Z"
    },
    "papermill": {
     "duration": 0.037626,
     "end_time": "2022-04-17T12:13:49.107785",
     "exception": false,
     "start_time": "2022-04-17T12:13:49.070159",
     "status": "completed"
    },
    "tags": []
   },
   "outputs": [],
   "source": [
    "# hide\n",
    "# g['date'] = g['date'].astype('datetime64[ns]')"
   ]
  },
  {
   "cell_type": "code",
   "execution_count": 34,
   "id": "sophisticated-supervisor",
   "metadata": {
    "execution": {
     "iopub.execute_input": "2022-04-17T12:13:49.176152Z",
     "iopub.status.busy": "2022-04-17T12:13:49.175597Z",
     "iopub.status.idle": "2022-04-17T12:13:49.177619Z",
     "shell.execute_reply": "2022-04-17T12:13:49.177178Z"
    },
    "papermill": {
     "duration": 0.037434,
     "end_time": "2022-04-17T12:13:49.177734",
     "exception": false,
     "start_time": "2022-04-17T12:13:49.140300",
     "status": "completed"
    },
    "tags": []
   },
   "outputs": [],
   "source": [
    "#hide\n",
    "# g['date'] = g.date.dt.dayofyear"
   ]
  },
  {
   "cell_type": "code",
   "execution_count": 35,
   "id": "inside-dubai",
   "metadata": {
    "execution": {
     "iopub.execute_input": "2022-04-17T12:13:49.245908Z",
     "iopub.status.busy": "2022-04-17T12:13:49.245388Z",
     "iopub.status.idle": "2022-04-17T12:13:49.248589Z",
     "shell.execute_reply": "2022-04-17T12:13:49.248155Z"
    },
    "papermill": {
     "duration": 0.038458,
     "end_time": "2022-04-17T12:13:49.248687",
     "exception": false,
     "start_time": "2022-04-17T12:13:49.210229",
     "status": "completed"
    },
    "tags": []
   },
   "outputs": [],
   "source": [
    "#hide\n",
    "# g = g.rename(columns= {'continent':'group','country':'name','cases':'value'})"
   ]
  },
  {
   "cell_type": "code",
   "execution_count": 36,
   "id": "fleet-motorcycle",
   "metadata": {
    "execution": {
     "iopub.execute_input": "2022-04-17T12:13:49.317717Z",
     "iopub.status.busy": "2022-04-17T12:13:49.317179Z",
     "iopub.status.idle": "2022-04-17T12:13:49.318759Z",
     "shell.execute_reply": "2022-04-17T12:13:49.319169Z"
    },
    "papermill": {
     "duration": 0.037892,
     "end_time": "2022-04-17T12:13:49.319297",
     "exception": false,
     "start_time": "2022-04-17T12:13:49.281405",
     "status": "completed"
    },
    "tags": []
   },
   "outputs": [],
   "source": [
    "#hide\n",
    "# cols = ['name','group','day','value']"
   ]
  },
  {
   "cell_type": "code",
   "execution_count": 37,
   "id": "continued-sleeping",
   "metadata": {
    "execution": {
     "iopub.execute_input": "2022-04-17T12:13:49.387868Z",
     "iopub.status.busy": "2022-04-17T12:13:49.387261Z",
     "iopub.status.idle": "2022-04-17T12:13:49.389326Z",
     "shell.execute_reply": "2022-04-17T12:13:49.388921Z"
    },
    "papermill": {
     "duration": 0.037686,
     "end_time": "2022-04-17T12:13:49.389434",
     "exception": false,
     "start_time": "2022-04-17T12:13:49.351748",
     "status": "completed"
    },
    "tags": []
   },
   "outputs": [],
   "source": [
    "#hide\n",
    "# g.rename(columns= {'date':'day'},inplace = True)"
   ]
  },
  {
   "cell_type": "code",
   "execution_count": 38,
   "id": "major-fight",
   "metadata": {
    "execution": {
     "iopub.execute_input": "2022-04-17T12:13:49.457759Z",
     "iopub.status.busy": "2022-04-17T12:13:49.457230Z",
     "iopub.status.idle": "2022-04-17T12:13:49.459276Z",
     "shell.execute_reply": "2022-04-17T12:13:49.458859Z"
    },
    "papermill": {
     "duration": 0.037327,
     "end_time": "2022-04-17T12:13:49.459391",
     "exception": false,
     "start_time": "2022-04-17T12:13:49.422064",
     "status": "completed"
    },
    "tags": []
   },
   "outputs": [],
   "source": [
    "#hide\n",
    "# g = g[cols]"
   ]
  },
  {
   "cell_type": "code",
   "execution_count": 39,
   "id": "structured-mobile",
   "metadata": {
    "execution": {
     "iopub.execute_input": "2022-04-17T12:13:49.528520Z",
     "iopub.status.busy": "2022-04-17T12:13:49.527993Z",
     "iopub.status.idle": "2022-04-17T12:13:49.529815Z",
     "shell.execute_reply": "2022-04-17T12:13:49.529408Z"
    },
    "papermill": {
     "duration": 0.037378,
     "end_time": "2022-04-17T12:13:49.529912",
     "exception": false,
     "start_time": "2022-04-17T12:13:49.492534",
     "status": "completed"
    },
    "tags": []
   },
   "outputs": [],
   "source": [
    "# #hide\n",
    "# g = g[g.group.notna()]"
   ]
  },
  {
   "cell_type": "code",
   "execution_count": 40,
   "id": "determined-closing",
   "metadata": {
    "execution": {
     "iopub.execute_input": "2022-04-17T12:13:49.598444Z",
     "iopub.status.busy": "2022-04-17T12:13:49.597887Z",
     "iopub.status.idle": "2022-04-17T12:13:49.600009Z",
     "shell.execute_reply": "2022-04-17T12:13:49.599604Z"
    },
    "papermill": {
     "duration": 0.037736,
     "end_time": "2022-04-17T12:13:49.600115",
     "exception": false,
     "start_time": "2022-04-17T12:13:49.562379",
     "status": "completed"
    },
    "tags": []
   },
   "outputs": [],
   "source": [
    "# #hide\n",
    "# colors = dict(zip(\n",
    "#     [\"Oceania\", \"Europe\", \"Asia\", \"South America\", \"Middle East\", \"North America\", \"Africa\"],\n",
    "#     [\"#adb0ff\", \"#ffb3ff\", \"#90d595\", \"#e48381\", \"#aafbff\", \"#f7bb5f\", \"#eafb50\"]\n",
    "# ))\n",
    "# group_lk = g.set_index('name')['group'].to_dict()"
   ]
  },
  {
   "cell_type": "code",
   "execution_count": null,
   "id": "gross-drinking",
   "metadata": {
    "papermill": {
     "duration": 0.032165,
     "end_time": "2022-04-17T12:13:49.664679",
     "exception": false,
     "start_time": "2022-04-17T12:13:49.632514",
     "status": "completed"
    },
    "tags": []
   },
   "outputs": [],
   "source": []
  },
  {
   "cell_type": "code",
   "execution_count": 41,
   "id": "subject-macintosh",
   "metadata": {
    "execution": {
     "iopub.execute_input": "2022-04-17T12:13:49.733851Z",
     "iopub.status.busy": "2022-04-17T12:13:49.733318Z",
     "iopub.status.idle": "2022-04-17T12:13:49.735181Z",
     "shell.execute_reply": "2022-04-17T12:13:49.734772Z"
    },
    "papermill": {
     "duration": 0.038022,
     "end_time": "2022-04-17T12:13:49.735279",
     "exception": false,
     "start_time": "2022-04-17T12:13:49.697257",
     "status": "completed"
    },
    "tags": []
   },
   "outputs": [],
   "source": [
    "# #hide\n",
    "# fig, ax = plt.subplots(figsize=(15, 8))\n",
    "\n",
    "# def draw_barchart(current_day):\n",
    "#     dff = g[g['day'].eq(current_day)].sort_values(by='value', ascending=True).tail(10)\n",
    "#     ax.clear()\n",
    "#     ax.barh(dff['name'], dff['value'], color=[colors[group_lk[x]] for x in dff['name']])\n",
    "#     dx = dff['value'].max() / 200\n",
    "    \n",
    "#     for i, (value, name) in enumerate(zip(dff['value'], dff['name'])):\n",
    "#         ax.text(value-dx, i,     name,           size=14, weight=600, ha='right', va='bottom')\n",
    "#         ax.text(value-dx, i-.25, group_lk[name], size=10, color='#444444', ha='right', va='baseline')\n",
    "#         ax.text(value+dx, i,     f'{value:,.0f}',  size=14, ha='left',  va='center')\n",
    "#     ax.text(1, 0.4, current_day, transform=ax.transAxes, color='#777777', size=46, ha='right', weight=800)\n",
    "#     ax.text(0, 1.06, 'Population (thousands)', transform=ax.transAxes, size=12, color='#777777')\n",
    "#     ax.xaxis.set_major_formatter(ticker.StrMethodFormatter('{x:,.0f}'))\n",
    "#     ax.xaxis.set_ticks_position('top')\n",
    "#     ax.tick_params(axis='x', colors='#777777', labelsize=12)\n",
    "#     ax.set_yticks([])\n",
    "#     ax.margins(0, 0.01)\n",
    "#     ax.grid(which='major', axis='x', linestyle='-')\n",
    "#     ax.set_axisbelow(True)\n",
    "    \n",
    "#     ax.text(0, 1.15, 'Coronavirus',\n",
    "#             transform=ax.transAxes, size=24, weight=600, ha='left', va='top')\n",
    "# #     ax.text(1, 0, 'by @pratapvardhan; credit @jburnmurdoch', transform=ax.transAxes, color='#777777', ha='right',\n",
    "# #             bbox=dict(facecolor='white', alpha=0.8, edgecolor='white'))\n",
    "#     plt.box(False)"
   ]
  },
  {
   "cell_type": "code",
   "execution_count": 42,
   "id": "sexual-wages",
   "metadata": {
    "execution": {
     "iopub.execute_input": "2022-04-17T12:13:49.803737Z",
     "iopub.status.busy": "2022-04-17T12:13:49.803126Z",
     "iopub.status.idle": "2022-04-17T12:13:49.804781Z",
     "shell.execute_reply": "2022-04-17T12:13:49.805158Z"
    },
    "papermill": {
     "duration": 0.037646,
     "end_time": "2022-04-17T12:13:49.805285",
     "exception": false,
     "start_time": "2022-04-17T12:13:49.767639",
     "status": "completed"
    },
    "tags": []
   },
   "outputs": [],
   "source": [
    "# #hide_input\n",
    "# fig, ax = plt.subplots(figsize=(15, 8))\n",
    "# animator = animation.FuncAnimation(fig, draw_barchart, frames=range(g.day.values.min(), g.day.values.max()))\n",
    "# HTML(animator.to_jshtml())\n",
    "# # or use animator.to_html5_video() or animator.save() "
   ]
  },
  {
   "cell_type": "code",
   "execution_count": null,
   "id": "australian-container",
   "metadata": {
    "papermill": {
     "duration": 0.032254,
     "end_time": "2022-04-17T12:13:49.870117",
     "exception": false,
     "start_time": "2022-04-17T12:13:49.837863",
     "status": "completed"
    },
    "tags": []
   },
   "outputs": [],
   "source": []
  },
  {
   "cell_type": "code",
   "execution_count": null,
   "id": "mediterranean-pontiac",
   "metadata": {
    "papermill": {
     "duration": 0.032112,
     "end_time": "2022-04-17T12:13:49.934595",
     "exception": false,
     "start_time": "2022-04-17T12:13:49.902483",
     "status": "completed"
    },
    "tags": []
   },
   "outputs": [],
   "source": []
  },
  {
   "cell_type": "code",
   "execution_count": null,
   "id": "aging-legislature",
   "metadata": {
    "papermill": {
     "duration": 0.032171,
     "end_time": "2022-04-17T12:13:49.999176",
     "exception": false,
     "start_time": "2022-04-17T12:13:49.967005",
     "status": "completed"
    },
    "tags": []
   },
   "outputs": [],
   "source": []
  }
 ],
 "metadata": {
  "kernelspec": {
   "display_name": "Python 3",
   "language": "python",
   "name": "python3"
  },
  "language_info": {
   "codemirror_mode": {
    "name": "ipython",
    "version": 3
   },
   "file_extension": ".py",
   "mimetype": "text/x-python",
   "name": "python",
   "nbconvert_exporter": "python",
   "pygments_lexer": "ipython3",
   "version": "3.6.15"
  },
  "papermill": {
   "duration": 6.182881,
   "end_time": "2022-04-17T12:13:50.348509",
   "environment_variables": {},
   "exception": null,
   "input_path": "2020-03-21-covid19exp.ipynb",
   "output_path": "2020-03-21-covid19exp.ipynb",
   "parameters": {},
   "start_time": "2022-04-17T12:13:44.165628",
   "version": "2.0.0"
  }
 },
 "nbformat": 4,
 "nbformat_minor": 5
}