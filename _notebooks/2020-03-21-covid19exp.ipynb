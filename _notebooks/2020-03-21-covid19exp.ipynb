{
 "cells": [
  {
   "cell_type": "markdown",
   "id": "muslim-click",
   "metadata": {
    "papermill": {
     "duration": 0.038109,
     "end_time": "2022-01-30T12:12:02.217314",
     "exception": false,
     "start_time": "2022-01-30T12:12:02.179205",
     "status": "completed"
    },
    "tags": []
   },
   "source": [
    "# COVID-19 Case Race\n",
    "> A race chart to see rising cases around the world\n",
    "\n",
    "- author: Hargun Oberoi\n",
    "- image: images/covid-overview.png\n",
    "- hide: false\n",
    "- badges: false"
   ]
  },
  {
   "cell_type": "code",
   "execution_count": 1,
   "id": "proof-material",
   "metadata": {
    "execution": {
     "iopub.execute_input": "2022-01-30T12:12:02.297216Z",
     "iopub.status.busy": "2022-01-30T12:12:02.296532Z",
     "iopub.status.idle": "2022-01-30T12:12:02.653781Z",
     "shell.execute_reply": "2022-01-30T12:12:02.654314Z"
    },
    "papermill": {
     "duration": 0.402437,
     "end_time": "2022-01-30T12:12:02.654491",
     "exception": false,
     "start_time": "2022-01-30T12:12:02.252054",
     "status": "completed"
    },
    "tags": []
   },
   "outputs": [],
   "source": [
    "#hide\n",
    "import numpy as np\n",
    "import pandas as pd\n",
    "from jinja2 import Template\n",
    "from IPython.display import HTML"
   ]
  },
  {
   "cell_type": "code",
   "execution_count": 2,
   "id": "developed-terminology",
   "metadata": {
    "execution": {
     "iopub.execute_input": "2022-01-30T12:12:02.730212Z",
     "iopub.status.busy": "2022-01-30T12:12:02.729601Z",
     "iopub.status.idle": "2022-01-30T12:12:02.732375Z",
     "shell.execute_reply": "2022-01-30T12:12:02.731872Z"
    },
    "papermill": {
     "duration": 0.042011,
     "end_time": "2022-01-30T12:12:02.732493",
     "exception": false,
     "start_time": "2022-01-30T12:12:02.690482",
     "status": "completed"
    },
    "tags": []
   },
   "outputs": [],
   "source": [
    "#hide\n",
    "\n",
    "# FETCH\n",
    "base_url = 'https://raw.githubusercontent.com/pratapvardhan/notebooks/master/covid19/'\n",
    "paths = {\n",
    "    'mapping': base_url + 'mapping_countries.csv',\n",
    "    'overview': base_url + 'overview.tpl'\n",
    "}"
   ]
  },
  {
   "cell_type": "code",
   "execution_count": 3,
   "id": "dynamic-saver",
   "metadata": {
    "execution": {
     "iopub.execute_input": "2022-01-30T12:12:02.815574Z",
     "iopub.status.busy": "2022-01-30T12:12:02.814977Z",
     "iopub.status.idle": "2022-01-30T12:12:02.817759Z",
     "shell.execute_reply": "2022-01-30T12:12:02.818325Z"
    },
    "papermill": {
     "duration": 0.04775,
     "end_time": "2022-01-30T12:12:02.818448",
     "exception": false,
     "start_time": "2022-01-30T12:12:02.770698",
     "status": "completed"
    },
    "tags": []
   },
   "outputs": [
    {
     "data": {
      "text/plain": [
       "'https://raw.githubusercontent.com/pratapvardhan/notebooks/master/covid19/mapping_countries.csv'"
      ]
     },
     "execution_count": 3,
     "metadata": {},
     "output_type": "execute_result"
    }
   ],
   "source": [
    "#hide\n",
    "paths['mapping']"
   ]
  },
  {
   "cell_type": "code",
   "execution_count": 4,
   "id": "urban-software",
   "metadata": {
    "execution": {
     "iopub.execute_input": "2022-01-30T12:12:02.891555Z",
     "iopub.status.busy": "2022-01-30T12:12:02.889283Z",
     "iopub.status.idle": "2022-01-30T12:12:02.893521Z",
     "shell.execute_reply": "2022-01-30T12:12:02.894224Z"
    },
    "papermill": {
     "duration": 0.043009,
     "end_time": "2022-01-30T12:12:02.894358",
     "exception": false,
     "start_time": "2022-01-30T12:12:02.851349",
     "status": "completed"
    },
    "tags": []
   },
   "outputs": [],
   "source": [
    "#hide\n",
    "def get_mappings(url):\n",
    "    df = pd.read_csv(url)\n",
    "    return {\n",
    "        'df': df,\n",
    "        'replace.country': dict(df.dropna(subset=['Name']).set_index('Country')['Name']),\n",
    "        'map.continent': dict(df.set_index('Name')['Continent'])\n",
    "    }"
   ]
  },
  {
   "cell_type": "code",
   "execution_count": 5,
   "id": "intimate-machinery",
   "metadata": {
    "execution": {
     "iopub.execute_input": "2022-01-30T12:12:02.966023Z",
     "iopub.status.busy": "2022-01-30T12:12:02.965426Z",
     "iopub.status.idle": "2022-01-30T12:12:03.001446Z",
     "shell.execute_reply": "2022-01-30T12:12:03.002032Z"
    },
    "papermill": {
     "duration": 0.074149,
     "end_time": "2022-01-30T12:12:03.002155",
     "exception": false,
     "start_time": "2022-01-30T12:12:02.928006",
     "status": "completed"
    },
    "tags": []
   },
   "outputs": [],
   "source": [
    "#hide\n",
    "mapping = get_mappings(paths['mapping'])"
   ]
  },
  {
   "cell_type": "code",
   "execution_count": 6,
   "id": "certified-tactics",
   "metadata": {
    "execution": {
     "iopub.execute_input": "2022-01-30T12:12:03.080284Z",
     "iopub.status.busy": "2022-01-30T12:12:03.079635Z",
     "iopub.status.idle": "2022-01-30T12:12:03.082114Z",
     "shell.execute_reply": "2022-01-30T12:12:03.081507Z"
    },
    "papermill": {
     "duration": 0.045415,
     "end_time": "2022-01-30T12:12:03.082251",
     "exception": false,
     "start_time": "2022-01-30T12:12:03.036836",
     "status": "completed"
    },
    "tags": []
   },
   "outputs": [],
   "source": [
    "#hide\n",
    "def get_template(path):\n",
    "    from urllib.parse import urlparse\n",
    "    if bool(urlparse(path).netloc):\n",
    "        from urllib.request import urlopen\n",
    "        return urlopen(path).read().decode('utf8')\n",
    "    return open(path).read()"
   ]
  },
  {
   "cell_type": "code",
   "execution_count": 7,
   "id": "realistic-blast",
   "metadata": {
    "execution": {
     "iopub.execute_input": "2022-01-30T12:12:03.157030Z",
     "iopub.status.busy": "2022-01-30T12:12:03.156266Z",
     "iopub.status.idle": "2022-01-30T12:12:03.158490Z",
     "shell.execute_reply": "2022-01-30T12:12:03.159132Z"
    },
    "papermill": {
     "duration": 0.041524,
     "end_time": "2022-01-30T12:12:03.159269",
     "exception": false,
     "start_time": "2022-01-30T12:12:03.117745",
     "status": "completed"
    },
    "tags": []
   },
   "outputs": [],
   "source": [
    "#hide\n",
    "def get_frame(name):\n",
    "    url = (\n",
    "        'https://raw.githubusercontent.com/CSSEGISandData/COVID-19/master/csse_covid_19_data/'\n",
    "        f'csse_covid_19_time_series/time_series_covid19_{name}_global.csv')\n",
    "    df = pd.read_csv(url)\n",
    "    # rename countries\n",
    "    df['Country/Region'] = df['Country/Region'].replace(mapping['replace.country'])\n",
    "    return df"
   ]
  },
  {
   "cell_type": "code",
   "execution_count": 8,
   "id": "affiliated-characterization",
   "metadata": {
    "execution": {
     "iopub.execute_input": "2022-01-30T12:12:03.232003Z",
     "iopub.status.busy": "2022-01-30T12:12:03.231401Z",
     "iopub.status.idle": "2022-01-30T12:12:03.233438Z",
     "shell.execute_reply": "2022-01-30T12:12:03.233885Z"
    },
    "papermill": {
     "duration": 0.041015,
     "end_time": "2022-01-30T12:12:03.234006",
     "exception": false,
     "start_time": "2022-01-30T12:12:03.192991",
     "status": "completed"
    },
    "tags": []
   },
   "outputs": [],
   "source": [
    "#hide\n",
    "def get_dates(df):\n",
    "    dt_cols = df.columns[~df.columns.isin(['Province/State', 'Country/Region', 'Lat', 'Long'])]\n",
    "    LAST_DATE_I = -1\n",
    "    # sometimes last column may be empty, then go backwards\n",
    "    for i in range(-1, -len(dt_cols), -1):\n",
    "        if not df[dt_cols[i]].fillna(0).eq(0).all():\n",
    "            LAST_DATE_I = i\n",
    "            break\n",
    "    return LAST_DATE_I, dt_cols"
   ]
  },
  {
   "cell_type": "code",
   "execution_count": 9,
   "id": "recent-optimization",
   "metadata": {
    "execution": {
     "iopub.execute_input": "2022-01-30T12:12:03.304799Z",
     "iopub.status.busy": "2022-01-30T12:12:03.304117Z",
     "iopub.status.idle": "2022-01-30T12:12:03.721585Z",
     "shell.execute_reply": "2022-01-30T12:12:03.720899Z"
    },
    "papermill": {
     "duration": 0.455262,
     "end_time": "2022-01-30T12:12:03.721717",
     "exception": false,
     "start_time": "2022-01-30T12:12:03.266455",
     "status": "completed"
    },
    "tags": []
   },
   "outputs": [],
   "source": [
    "#hide\n",
    "COL_REGION = 'Country/Region'\n",
    "# Confirmed, Recovered, Deaths\n",
    "df = get_frame('confirmed')\n",
    "# dft_: timeseries, dfc_: today country agg\n",
    "dft_cases = df\n",
    "dft_deaths = get_frame('deaths')\n",
    "dft_recovered = get_frame('recovered')\n",
    "LAST_DATE_I, dt_cols = get_dates(df)"
   ]
  },
  {
   "cell_type": "code",
   "execution_count": 10,
   "id": "absolute-copper",
   "metadata": {
    "execution": {
     "iopub.execute_input": "2022-01-30T12:12:03.794318Z",
     "iopub.status.busy": "2022-01-30T12:12:03.793673Z",
     "iopub.status.idle": "2022-01-30T12:12:03.795765Z",
     "shell.execute_reply": "2022-01-30T12:12:03.796248Z"
    },
    "papermill": {
     "duration": 0.040468,
     "end_time": "2022-01-30T12:12:03.796415",
     "exception": false,
     "start_time": "2022-01-30T12:12:03.755947",
     "status": "completed"
    },
    "tags": []
   },
   "outputs": [],
   "source": [
    "#hide\n",
    "LAST_DATE_I, dt_cols = get_dates(df)\n",
    "dt_today =dt_cols[LAST_DATE_I]\n",
    "# dt_5day = dt_cols[LAST_DATE_I - 5]\n",
    "dt_yday = dt_cols[LAST_DATE_I - 1]"
   ]
  },
  {
   "cell_type": "code",
   "execution_count": 11,
   "id": "restricted-sheriff",
   "metadata": {
    "execution": {
     "iopub.execute_input": "2022-01-30T12:12:03.870688Z",
     "iopub.status.busy": "2022-01-30T12:12:03.870056Z",
     "iopub.status.idle": "2022-01-30T12:12:03.878277Z",
     "shell.execute_reply": "2022-01-30T12:12:03.878732Z"
    },
    "papermill": {
     "duration": 0.048066,
     "end_time": "2022-01-30T12:12:03.878856",
     "exception": false,
     "start_time": "2022-01-30T12:12:03.830790",
     "status": "completed"
    },
    "tags": []
   },
   "outputs": [],
   "source": [
    "#hide\n",
    "dfc_cases = dft_cases.groupby(COL_REGION)[dt_today].sum()\n",
    "dfc_deaths = dft_deaths.groupby(COL_REGION)[dt_today].sum()\n",
    "# dfp_cases = dft_cases.groupby(COL_REGION)[dt_5day].sum()\n",
    "# dfp_deaths = dft_deaths.groupby(COL_REGION)[dt_5day].sum()\n",
    "dfp_cases = dft_cases.groupby(COL_REGION)[dt_yday].sum()\n",
    "dfp_deaths = dft_deaths.groupby(COL_REGION)[dt_yday].sum()"
   ]
  },
  {
   "cell_type": "code",
   "execution_count": 12,
   "id": "deluxe-hepatitis",
   "metadata": {
    "execution": {
     "iopub.execute_input": "2022-01-30T12:12:03.953848Z",
     "iopub.status.busy": "2022-01-30T12:12:03.953163Z",
     "iopub.status.idle": "2022-01-30T12:12:03.957901Z",
     "shell.execute_reply": "2022-01-30T12:12:03.958466Z"
    },
    "papermill": {
     "duration": 0.044983,
     "end_time": "2022-01-30T12:12:03.958592",
     "exception": false,
     "start_time": "2022-01-30T12:12:03.913609",
     "status": "completed"
    },
    "tags": []
   },
   "outputs": [],
   "source": [
    "#hide\n",
    "df_table = (pd.DataFrame(dict(Cases = dfc_cases, Deaths = dfc_deaths, PCases = dfp_cases, PDeaths = dfp_deaths))\n",
    "            .sort_values(by = ['Cases','Deaths'], ascending = [False, False])\n",
    "            .reset_index())"
   ]
  },
  {
   "cell_type": "code",
   "execution_count": 13,
   "id": "educational-chancellor",
   "metadata": {
    "execution": {
     "iopub.execute_input": "2022-01-30T12:12:04.036076Z",
     "iopub.status.busy": "2022-01-30T12:12:04.035393Z",
     "iopub.status.idle": "2022-01-30T12:12:04.054749Z",
     "shell.execute_reply": "2022-01-30T12:12:04.055315Z"
    },
    "papermill": {
     "duration": 0.062391,
     "end_time": "2022-01-30T12:12:04.055448",
     "exception": false,
     "start_time": "2022-01-30T12:12:03.993057",
     "status": "completed"
    },
    "tags": []
   },
   "outputs": [
    {
     "data": {
      "text/html": [
       "<div>\n",
       "<style scoped>\n",
       "    .dataframe tbody tr th:only-of-type {\n",
       "        vertical-align: middle;\n",
       "    }\n",
       "\n",
       "    .dataframe tbody tr th {\n",
       "        vertical-align: top;\n",
       "    }\n",
       "\n",
       "    .dataframe thead th {\n",
       "        text-align: right;\n",
       "    }\n",
       "</style>\n",
       "<table border=\"1\" class=\"dataframe\">\n",
       "  <thead>\n",
       "    <tr style=\"text-align: right;\">\n",
       "      <th></th>\n",
       "      <th>Country/Region</th>\n",
       "      <th>Cases</th>\n",
       "      <th>Deaths</th>\n",
       "      <th>PCases</th>\n",
       "      <th>PDeaths</th>\n",
       "      <th>Cases (+)</th>\n",
       "      <th>Deaths (+)</th>\n",
       "      <th>Fatality Rate</th>\n",
       "      <th>Continent</th>\n",
       "    </tr>\n",
       "  </thead>\n",
       "  <tbody>\n",
       "    <tr>\n",
       "      <th>0</th>\n",
       "      <td>US</td>\n",
       "      <td>74236114</td>\n",
       "      <td>883939</td>\n",
       "      <td>74067112</td>\n",
       "      <td>882881</td>\n",
       "      <td>169002</td>\n",
       "      <td>1058</td>\n",
       "      <td>1.19</td>\n",
       "      <td>North America</td>\n",
       "    </tr>\n",
       "    <tr>\n",
       "      <th>1</th>\n",
       "      <td>India</td>\n",
       "      <td>41092522</td>\n",
       "      <td>494091</td>\n",
       "      <td>40858241</td>\n",
       "      <td>493198</td>\n",
       "      <td>234281</td>\n",
       "      <td>893</td>\n",
       "      <td>1.20</td>\n",
       "      <td>Asia</td>\n",
       "    </tr>\n",
       "    <tr>\n",
       "      <th>2</th>\n",
       "      <td>Brazil</td>\n",
       "      <td>25256198</td>\n",
       "      <td>626870</td>\n",
       "      <td>25050601</td>\n",
       "      <td>626170</td>\n",
       "      <td>205597</td>\n",
       "      <td>700</td>\n",
       "      <td>2.48</td>\n",
       "      <td>South America</td>\n",
       "    </tr>\n",
       "    <tr>\n",
       "      <th>3</th>\n",
       "      <td>France</td>\n",
       "      <td>18928572</td>\n",
       "      <td>131449</td>\n",
       "      <td>18596157</td>\n",
       "      <td>131271</td>\n",
       "      <td>332415</td>\n",
       "      <td>178</td>\n",
       "      <td>0.69</td>\n",
       "      <td>Europe</td>\n",
       "    </tr>\n",
       "    <tr>\n",
       "      <th>4</th>\n",
       "      <td>United Kingdom</td>\n",
       "      <td>16519768</td>\n",
       "      <td>156137</td>\n",
       "      <td>16447363</td>\n",
       "      <td>155841</td>\n",
       "      <td>72405</td>\n",
       "      <td>296</td>\n",
       "      <td>0.95</td>\n",
       "      <td>Europe</td>\n",
       "    </tr>\n",
       "  </tbody>\n",
       "</table>\n",
       "</div>"
      ],
      "text/plain": [
       "   Country/Region     Cases  Deaths    PCases  PDeaths  Cases (+)  Deaths (+)  \\\n",
       "0              US  74236114  883939  74067112   882881     169002        1058   \n",
       "1           India  41092522  494091  40858241   493198     234281         893   \n",
       "2          Brazil  25256198  626870  25050601   626170     205597         700   \n",
       "3          France  18928572  131449  18596157   131271     332415         178   \n",
       "4  United Kingdom  16519768  156137  16447363   155841      72405         296   \n",
       "\n",
       "   Fatality Rate      Continent  \n",
       "0           1.19  North America  \n",
       "1           1.20           Asia  \n",
       "2           2.48  South America  \n",
       "3           0.69         Europe  \n",
       "4           0.95         Europe  "
      ]
     },
     "execution_count": 13,
     "metadata": {},
     "output_type": "execute_result"
    }
   ],
   "source": [
    "#hide\n",
    "for c in 'Cases, Deaths'.split(', '):\n",
    "    df_table[f'{c} (+)'] = (df_table[c] - df_table[f'P{c}']).clip(0)\n",
    "    #Clip ça veut dire, les chiffres negatif sont interdit\n",
    "df_table['Fatality Rate'] = (100* df_table['Deaths']/ df_table['Cases']).round(2)\n",
    "df_table['Continent'] = df_table['Country/Region'].map(mapping['map.continent'])\n",
    "df_table.head(5)"
   ]
  },
  {
   "cell_type": "code",
   "execution_count": 14,
   "id": "aboriginal-bulgaria",
   "metadata": {
    "execution": {
     "iopub.execute_input": "2022-01-30T12:12:04.136330Z",
     "iopub.status.busy": "2022-01-30T12:12:04.135604Z",
     "iopub.status.idle": "2022-01-30T12:12:04.137383Z",
     "shell.execute_reply": "2022-01-30T12:12:04.137939Z"
    },
    "papermill": {
     "duration": 0.04646,
     "end_time": "2022-01-30T12:12:04.138074",
     "exception": false,
     "start_time": "2022-01-30T12:12:04.091614",
     "status": "completed"
    },
    "tags": []
   },
   "outputs": [],
   "source": [
    "#hide\n",
    "#delete problematic countries from table\n",
    "df_table = df_table[~df_table['Country/Region'].isin(['Cape Verde', 'Cruise Ship', 'Kosovo'])]"
   ]
  },
  {
   "cell_type": "code",
   "execution_count": 15,
   "id": "fantastic-effect",
   "metadata": {
    "execution": {
     "iopub.execute_input": "2022-01-30T12:12:04.215156Z",
     "iopub.status.busy": "2022-01-30T12:12:04.214391Z",
     "iopub.status.idle": "2022-01-30T12:12:04.237770Z",
     "shell.execute_reply": "2022-01-30T12:12:04.237236Z"
    },
    "papermill": {
     "duration": 0.063028,
     "end_time": "2022-01-30T12:12:04.237889",
     "exception": false,
     "start_time": "2022-01-30T12:12:04.174861",
     "status": "completed"
    },
    "tags": []
   },
   "outputs": [
    {
     "data": {
      "text/html": [
       "<div>\n",
       "<style scoped>\n",
       "    .dataframe tbody tr th:only-of-type {\n",
       "        vertical-align: middle;\n",
       "    }\n",
       "\n",
       "    .dataframe tbody tr th {\n",
       "        vertical-align: top;\n",
       "    }\n",
       "\n",
       "    .dataframe thead th {\n",
       "        text-align: right;\n",
       "    }\n",
       "</style>\n",
       "<table border=\"1\" class=\"dataframe\">\n",
       "  <thead>\n",
       "    <tr style=\"text-align: right;\">\n",
       "      <th></th>\n",
       "      <th>Country/Region</th>\n",
       "      <th>Cases</th>\n",
       "      <th>Deaths</th>\n",
       "      <th>PCases</th>\n",
       "      <th>PDeaths</th>\n",
       "      <th>Cases (+)</th>\n",
       "      <th>Deaths (+)</th>\n",
       "      <th>Fatality Rate</th>\n",
       "      <th>Continent</th>\n",
       "    </tr>\n",
       "  </thead>\n",
       "  <tbody>\n",
       "    <tr>\n",
       "      <th>0</th>\n",
       "      <td>US</td>\n",
       "      <td>74236114</td>\n",
       "      <td>883939</td>\n",
       "      <td>74067112</td>\n",
       "      <td>882881</td>\n",
       "      <td>169002</td>\n",
       "      <td>1058</td>\n",
       "      <td>1.2</td>\n",
       "      <td>North America</td>\n",
       "    </tr>\n",
       "    <tr>\n",
       "      <th>1</th>\n",
       "      <td>India</td>\n",
       "      <td>41092522</td>\n",
       "      <td>494091</td>\n",
       "      <td>40858241</td>\n",
       "      <td>493198</td>\n",
       "      <td>234281</td>\n",
       "      <td>893</td>\n",
       "      <td>1.2</td>\n",
       "      <td>Asia</td>\n",
       "    </tr>\n",
       "    <tr>\n",
       "      <th>2</th>\n",
       "      <td>Brazil</td>\n",
       "      <td>25256198</td>\n",
       "      <td>626870</td>\n",
       "      <td>25050601</td>\n",
       "      <td>626170</td>\n",
       "      <td>205597</td>\n",
       "      <td>700</td>\n",
       "      <td>2.5</td>\n",
       "      <td>South America</td>\n",
       "    </tr>\n",
       "    <tr>\n",
       "      <th>3</th>\n",
       "      <td>France</td>\n",
       "      <td>18928572</td>\n",
       "      <td>131449</td>\n",
       "      <td>18596157</td>\n",
       "      <td>131271</td>\n",
       "      <td>332415</td>\n",
       "      <td>178</td>\n",
       "      <td>0.7</td>\n",
       "      <td>Europe</td>\n",
       "    </tr>\n",
       "    <tr>\n",
       "      <th>4</th>\n",
       "      <td>United Kingdom</td>\n",
       "      <td>16519768</td>\n",
       "      <td>156137</td>\n",
       "      <td>16447363</td>\n",
       "      <td>155841</td>\n",
       "      <td>72405</td>\n",
       "      <td>296</td>\n",
       "      <td>0.9</td>\n",
       "      <td>Europe</td>\n",
       "    </tr>\n",
       "  </tbody>\n",
       "</table>\n",
       "</div>"
      ],
      "text/plain": [
       "   Country/Region     Cases  Deaths    PCases  PDeaths  Cases (+)  Deaths (+)  \\\n",
       "0              US  74236114  883939  74067112   882881     169002        1058   \n",
       "1           India  41092522  494091  40858241   493198     234281         893   \n",
       "2          Brazil  25256198  626870  25050601   626170     205597         700   \n",
       "3          France  18928572  131449  18596157   131271     332415         178   \n",
       "4  United Kingdom  16519768  156137  16447363   155841      72405         296   \n",
       "\n",
       "   Fatality Rate      Continent  \n",
       "0            1.2  North America  \n",
       "1            1.2           Asia  \n",
       "2            2.5  South America  \n",
       "3            0.7         Europe  \n",
       "4            0.9         Europe  "
      ]
     },
     "execution_count": 15,
     "metadata": {},
     "output_type": "execute_result"
    }
   ],
   "source": [
    "#hide\n",
    "df_table = (pd.DataFrame(dict(Cases=dfc_cases, Deaths=dfc_deaths, PCases=dfp_cases, PDeaths=dfp_deaths))\n",
    "             .sort_values(by=['Cases', 'Deaths'], ascending=[False, False])\n",
    "             .reset_index())\n",
    "df_table.rename(columns={'index': 'Country/Region'}, inplace=True)\n",
    "for c in 'Cases, Deaths'.split(', '):\n",
    "    df_table[f'{c} (+)'] = (df_table[c] - df_table[f'P{c}']).clip(0)  # DATA BUG\n",
    "df_table['Fatality Rate'] = (100 * df_table['Deaths'] / df_table['Cases']).round(1)\n",
    "df_table['Continent'] = df_table['Country/Region'].map(mapping['map.continent'])\n",
    "df_table.head(5)"
   ]
  },
  {
   "cell_type": "code",
   "execution_count": 16,
   "id": "fewer-occasion",
   "metadata": {
    "execution": {
     "iopub.execute_input": "2022-01-30T12:12:04.316607Z",
     "iopub.status.busy": "2022-01-30T12:12:04.315766Z",
     "iopub.status.idle": "2022-01-30T12:12:04.317886Z",
     "shell.execute_reply": "2022-01-30T12:12:04.318334Z"
    },
    "papermill": {
     "duration": 0.045857,
     "end_time": "2022-01-30T12:12:04.318465",
     "exception": false,
     "start_time": "2022-01-30T12:12:04.272608",
     "status": "completed"
    },
    "tags": []
   },
   "outputs": [],
   "source": [
    "#hide\n",
    "#delete problematic countries from table\n",
    "df_table = df_table[~df_table['Country/Region'].isin(['Cape Verde', 'Cruise Ship', 'Kosovo'])]"
   ]
  },
  {
   "cell_type": "code",
   "execution_count": 17,
   "id": "related-center",
   "metadata": {
    "execution": {
     "iopub.execute_input": "2022-01-30T12:12:04.402328Z",
     "iopub.status.busy": "2022-01-30T12:12:04.401684Z",
     "iopub.status.idle": "2022-01-30T12:12:04.409581Z",
     "shell.execute_reply": "2022-01-30T12:12:04.410362Z"
    },
    "papermill": {
     "duration": 0.057194,
     "end_time": "2022-01-30T12:12:04.410501",
     "exception": false,
     "start_time": "2022-01-30T12:12:04.353307",
     "status": "completed"
    },
    "tags": []
   },
   "outputs": [],
   "source": [
    "#hide\n",
    "metrics = [df_table.columns[index] for index in [1,2,5,6]]\n",
    "# s_china = df_table[df_table['Country/Region'].eq('China')][metrics].sum().add_prefix('China ')\n",
    "s_us = df_table[df_table['Country/Region'].eq('US')][metrics].sum().add_prefix('US ')\n",
    "s_eu = df_table[df_table['Continent'].eq('Europe')][metrics].sum().add_prefix('EU ')\n",
    "s_ind = df_table[df_table['Country/Region'].eq('India')][metrics].sum().add_prefix('India ')\n",
    "summary = {'updated': pd.to_datetime(dt_today), 'since': pd.to_datetime(dt_yday)}\n",
    "summary = {'updated': pd.to_datetime(dt_today), 'since': pd.to_datetime(dt_yday)}\n",
    "summary = {**summary, **df_table[metrics].sum(), **s_ind, **s_us, **s_eu}"
   ]
  },
  {
   "cell_type": "code",
   "execution_count": 18,
   "id": "engaging-syndrome",
   "metadata": {
    "execution": {
     "iopub.execute_input": "2022-01-30T12:12:04.486813Z",
     "iopub.status.busy": "2022-01-30T12:12:04.486175Z",
     "iopub.status.idle": "2022-01-30T12:12:04.501734Z",
     "shell.execute_reply": "2022-01-30T12:12:04.502210Z"
    },
    "papermill": {
     "duration": 0.055816,
     "end_time": "2022-01-30T12:12:04.502340",
     "exception": false,
     "start_time": "2022-01-30T12:12:04.446524",
     "status": "completed"
    },
    "tags": []
   },
   "outputs": [],
   "source": [
    "#hide\n",
    "dft_ct_new_cases = dft_cases.groupby(COL_REGION)[dt_cols].sum().diff(axis=1).fillna(0).astype(int)"
   ]
  },
  {
   "cell_type": "code",
   "execution_count": 19,
   "id": "neutral-assignment",
   "metadata": {
    "execution": {
     "iopub.execute_input": "2022-01-30T12:12:04.575279Z",
     "iopub.status.busy": "2022-01-30T12:12:04.574671Z",
     "iopub.status.idle": "2022-01-30T12:12:04.577028Z",
     "shell.execute_reply": "2022-01-30T12:12:04.577529Z"
    },
    "papermill": {
     "duration": 0.041155,
     "end_time": "2022-01-30T12:12:04.577647",
     "exception": false,
     "start_time": "2022-01-30T12:12:04.536492",
     "status": "completed"
    },
    "tags": []
   },
   "outputs": [],
   "source": [
    "#hide\n",
    "everydaycases = dft_ct_new_cases.cumsum(axis=1)"
   ]
  },
  {
   "cell_type": "code",
   "execution_count": 20,
   "id": "parliamentary-calgary",
   "metadata": {
    "execution": {
     "iopub.execute_input": "2022-01-30T12:12:04.657129Z",
     "iopub.status.busy": "2022-01-30T12:12:04.656460Z",
     "iopub.status.idle": "2022-01-30T12:12:05.299128Z",
     "shell.execute_reply": "2022-01-30T12:12:05.298595Z"
    },
    "papermill": {
     "duration": 0.684278,
     "end_time": "2022-01-30T12:12:05.299277",
     "exception": false,
     "start_time": "2022-01-30T12:12:04.614999",
     "status": "completed"
    },
    "tags": []
   },
   "outputs": [],
   "source": [
    "#hide\n",
    "import pandas as pd\n",
    "import matplotlib.pyplot as plt\n",
    "import matplotlib.ticker as ticker\n",
    "import matplotlib.animation as animation\n",
    "from IPython.display import HTML"
   ]
  },
  {
   "cell_type": "code",
   "execution_count": 21,
   "id": "lasting-extraction",
   "metadata": {
    "execution": {
     "iopub.execute_input": "2022-01-30T12:12:05.379126Z",
     "iopub.status.busy": "2022-01-30T12:12:05.378535Z",
     "iopub.status.idle": "2022-01-30T12:12:05.385075Z",
     "shell.execute_reply": "2022-01-30T12:12:05.384515Z"
    },
    "papermill": {
     "duration": 0.049214,
     "end_time": "2022-01-30T12:12:05.385191",
     "exception": false,
     "start_time": "2022-01-30T12:12:05.335977",
     "status": "completed"
    },
    "tags": []
   },
   "outputs": [],
   "source": [
    "#hide\n",
    "t = everydaycases.stack()"
   ]
  },
  {
   "cell_type": "code",
   "execution_count": 22,
   "id": "premier-sleeve",
   "metadata": {
    "execution": {
     "iopub.execute_input": "2022-01-30T12:12:05.460090Z",
     "iopub.status.busy": "2022-01-30T12:12:05.459454Z",
     "iopub.status.idle": "2022-01-30T12:12:05.471468Z",
     "shell.execute_reply": "2022-01-30T12:12:05.470921Z"
    },
    "papermill": {
     "duration": 0.05108,
     "end_time": "2022-01-30T12:12:05.471600",
     "exception": false,
     "start_time": "2022-01-30T12:12:05.420520",
     "status": "completed"
    },
    "tags": []
   },
   "outputs": [],
   "source": [
    "#hide\n",
    "g = t.reset_index(['Country/Region'])"
   ]
  },
  {
   "cell_type": "code",
   "execution_count": 23,
   "id": "distributed-pittsburgh",
   "metadata": {
    "execution": {
     "iopub.execute_input": "2022-01-30T12:12:05.554863Z",
     "iopub.status.busy": "2022-01-30T12:12:05.554225Z",
     "iopub.status.idle": "2022-01-30T12:12:05.556816Z",
     "shell.execute_reply": "2022-01-30T12:12:05.556156Z"
    },
    "papermill": {
     "duration": 0.047661,
     "end_time": "2022-01-30T12:12:05.556942",
     "exception": false,
     "start_time": "2022-01-30T12:12:05.509281",
     "status": "completed"
    },
    "tags": []
   },
   "outputs": [],
   "source": [
    "#hide\n",
    "g.index.name = 'date'"
   ]
  },
  {
   "cell_type": "code",
   "execution_count": 24,
   "id": "naked-donor",
   "metadata": {
    "execution": {
     "iopub.execute_input": "2022-01-30T12:12:05.637770Z",
     "iopub.status.busy": "2022-01-30T12:12:05.637109Z",
     "iopub.status.idle": "2022-01-30T12:12:05.639931Z",
     "shell.execute_reply": "2022-01-30T12:12:05.639389Z"
    },
    "papermill": {
     "duration": 0.044672,
     "end_time": "2022-01-30T12:12:05.640084",
     "exception": false,
     "start_time": "2022-01-30T12:12:05.595412",
     "status": "completed"
    },
    "tags": []
   },
   "outputs": [],
   "source": [
    "# #hide\n",
    "# g = g.reset_index(['date'])"
   ]
  },
  {
   "cell_type": "code",
   "execution_count": 25,
   "id": "incomplete-mustang",
   "metadata": {
    "execution": {
     "iopub.execute_input": "2022-01-30T12:12:05.718384Z",
     "iopub.status.busy": "2022-01-30T12:12:05.717685Z",
     "iopub.status.idle": "2022-01-30T12:12:05.720248Z",
     "shell.execute_reply": "2022-01-30T12:12:05.719666Z"
    },
    "papermill": {
     "duration": 0.04299,
     "end_time": "2022-01-30T12:12:05.720434",
     "exception": false,
     "start_time": "2022-01-30T12:12:05.677444",
     "status": "completed"
    },
    "tags": []
   },
   "outputs": [],
   "source": [
    "#hide\n",
    "# g.head()"
   ]
  },
  {
   "cell_type": "code",
   "execution_count": 26,
   "id": "specific-kruger",
   "metadata": {
    "execution": {
     "iopub.execute_input": "2022-01-30T12:12:05.797367Z",
     "iopub.status.busy": "2022-01-30T12:12:05.796694Z",
     "iopub.status.idle": "2022-01-30T12:12:05.799198Z",
     "shell.execute_reply": "2022-01-30T12:12:05.798677Z"
    },
    "papermill": {
     "duration": 0.042689,
     "end_time": "2022-01-30T12:12:05.799325",
     "exception": false,
     "start_time": "2022-01-30T12:12:05.756636",
     "status": "completed"
    },
    "tags": []
   },
   "outputs": [],
   "source": [
    "#hide\n",
    "# g.columns = ['date','country','cases']"
   ]
  },
  {
   "cell_type": "code",
   "execution_count": 27,
   "id": "tender-conversion",
   "metadata": {
    "execution": {
     "iopub.execute_input": "2022-01-30T12:12:05.873383Z",
     "iopub.status.busy": "2022-01-30T12:12:05.872805Z",
     "iopub.status.idle": "2022-01-30T12:12:05.875180Z",
     "shell.execute_reply": "2022-01-30T12:12:05.874659Z"
    },
    "papermill": {
     "duration": 0.040027,
     "end_time": "2022-01-30T12:12:05.875291",
     "exception": false,
     "start_time": "2022-01-30T12:12:05.835264",
     "status": "completed"
    },
    "tags": []
   },
   "outputs": [],
   "source": [
    "#hide\n",
    "# g['continent'] = g.country"
   ]
  },
  {
   "cell_type": "code",
   "execution_count": 28,
   "id": "substantial-wilderness",
   "metadata": {
    "execution": {
     "iopub.execute_input": "2022-01-30T12:12:05.949771Z",
     "iopub.status.busy": "2022-01-30T12:12:05.949196Z",
     "iopub.status.idle": "2022-01-30T12:12:05.953435Z",
     "shell.execute_reply": "2022-01-30T12:12:05.952947Z"
    },
    "papermill": {
     "duration": 0.041671,
     "end_time": "2022-01-30T12:12:05.953545",
     "exception": false,
     "start_time": "2022-01-30T12:12:05.911874",
     "status": "completed"
    },
    "tags": []
   },
   "outputs": [],
   "source": [
    "#hide\n",
    "# cols = list(g.columns.values)"
   ]
  },
  {
   "cell_type": "code",
   "execution_count": 29,
   "id": "solved-farming",
   "metadata": {
    "execution": {
     "iopub.execute_input": "2022-01-30T12:12:06.032945Z",
     "iopub.status.busy": "2022-01-30T12:12:06.032188Z",
     "iopub.status.idle": "2022-01-30T12:12:06.034436Z",
     "shell.execute_reply": "2022-01-30T12:12:06.035006Z"
    },
    "papermill": {
     "duration": 0.047848,
     "end_time": "2022-01-30T12:12:06.035141",
     "exception": false,
     "start_time": "2022-01-30T12:12:05.987293",
     "status": "completed"
    },
    "tags": []
   },
   "outputs": [],
   "source": [
    "#hide\n",
    "# cols.insert(0, cols.pop())"
   ]
  },
  {
   "cell_type": "code",
   "execution_count": 30,
   "id": "executed-adoption",
   "metadata": {
    "execution": {
     "iopub.execute_input": "2022-01-30T12:12:06.116169Z",
     "iopub.status.busy": "2022-01-30T12:12:06.115510Z",
     "iopub.status.idle": "2022-01-30T12:12:06.117545Z",
     "shell.execute_reply": "2022-01-30T12:12:06.118046Z"
    },
    "papermill": {
     "duration": 0.041084,
     "end_time": "2022-01-30T12:12:06.118183",
     "exception": false,
     "start_time": "2022-01-30T12:12:06.077099",
     "status": "completed"
    },
    "tags": []
   },
   "outputs": [],
   "source": [
    "#hide\n",
    "# g = g[cols]"
   ]
  },
  {
   "cell_type": "code",
   "execution_count": 31,
   "id": "subject-dublin",
   "metadata": {
    "execution": {
     "iopub.execute_input": "2022-01-30T12:12:06.195094Z",
     "iopub.status.busy": "2022-01-30T12:12:06.194460Z",
     "iopub.status.idle": "2022-01-30T12:12:06.197973Z",
     "shell.execute_reply": "2022-01-30T12:12:06.198421Z"
    },
    "papermill": {
     "duration": 0.042594,
     "end_time": "2022-01-30T12:12:06.198567",
     "exception": false,
     "start_time": "2022-01-30T12:12:06.155973",
     "status": "completed"
    },
    "tags": []
   },
   "outputs": [],
   "source": [
    "#hide\n",
    "# g['continent'] = g['continent'].map(mapping['map.continent'])"
   ]
  },
  {
   "cell_type": "code",
   "execution_count": 32,
   "id": "freelance-scout",
   "metadata": {
    "execution": {
     "iopub.execute_input": "2022-01-30T12:12:06.271562Z",
     "iopub.status.busy": "2022-01-30T12:12:06.270967Z",
     "iopub.status.idle": "2022-01-30T12:12:06.275075Z",
     "shell.execute_reply": "2022-01-30T12:12:06.275574Z"
    },
    "papermill": {
     "duration": 0.041468,
     "end_time": "2022-01-30T12:12:06.275709",
     "exception": false,
     "start_time": "2022-01-30T12:12:06.234241",
     "status": "completed"
    },
    "tags": []
   },
   "outputs": [],
   "source": [
    "#hide\n",
    "# g.head()"
   ]
  },
  {
   "cell_type": "code",
   "execution_count": 33,
   "id": "limited-engine",
   "metadata": {
    "execution": {
     "iopub.execute_input": "2022-01-30T12:12:06.350454Z",
     "iopub.status.busy": "2022-01-30T12:12:06.349857Z",
     "iopub.status.idle": "2022-01-30T12:12:06.352063Z",
     "shell.execute_reply": "2022-01-30T12:12:06.351469Z"
    },
    "papermill": {
     "duration": 0.039946,
     "end_time": "2022-01-30T12:12:06.352192",
     "exception": false,
     "start_time": "2022-01-30T12:12:06.312246",
     "status": "completed"
    },
    "tags": []
   },
   "outputs": [],
   "source": [
    "# hide\n",
    "# g['date'] = g['date'].astype('datetime64[ns]')"
   ]
  },
  {
   "cell_type": "code",
   "execution_count": 34,
   "id": "sophisticated-supervisor",
   "metadata": {
    "execution": {
     "iopub.execute_input": "2022-01-30T12:12:06.428027Z",
     "iopub.status.busy": "2022-01-30T12:12:06.427431Z",
     "iopub.status.idle": "2022-01-30T12:12:06.429815Z",
     "shell.execute_reply": "2022-01-30T12:12:06.429178Z"
    },
    "papermill": {
     "duration": 0.040655,
     "end_time": "2022-01-30T12:12:06.429937",
     "exception": false,
     "start_time": "2022-01-30T12:12:06.389282",
     "status": "completed"
    },
    "tags": []
   },
   "outputs": [],
   "source": [
    "#hide\n",
    "# g['date'] = g.date.dt.dayofyear"
   ]
  },
  {
   "cell_type": "code",
   "execution_count": 35,
   "id": "inside-dubai",
   "metadata": {
    "execution": {
     "iopub.execute_input": "2022-01-30T12:12:06.506334Z",
     "iopub.status.busy": "2022-01-30T12:12:06.505581Z",
     "iopub.status.idle": "2022-01-30T12:12:06.509548Z",
     "shell.execute_reply": "2022-01-30T12:12:06.510020Z"
    },
    "papermill": {
     "duration": 0.044881,
     "end_time": "2022-01-30T12:12:06.510153",
     "exception": false,
     "start_time": "2022-01-30T12:12:06.465272",
     "status": "completed"
    },
    "tags": []
   },
   "outputs": [],
   "source": [
    "#hide\n",
    "# g = g.rename(columns= {'continent':'group','country':'name','cases':'value'})"
   ]
  },
  {
   "cell_type": "code",
   "execution_count": 36,
   "id": "fleet-motorcycle",
   "metadata": {
    "execution": {
     "iopub.execute_input": "2022-01-30T12:12:06.582005Z",
     "iopub.status.busy": "2022-01-30T12:12:06.581369Z",
     "iopub.status.idle": "2022-01-30T12:12:06.583320Z",
     "shell.execute_reply": "2022-01-30T12:12:06.583798Z"
    },
    "papermill": {
     "duration": 0.039668,
     "end_time": "2022-01-30T12:12:06.583931",
     "exception": false,
     "start_time": "2022-01-30T12:12:06.544263",
     "status": "completed"
    },
    "tags": []
   },
   "outputs": [],
   "source": [
    "#hide\n",
    "# cols = ['name','group','day','value']"
   ]
  },
  {
   "cell_type": "code",
   "execution_count": 37,
   "id": "continued-sleeping",
   "metadata": {
    "execution": {
     "iopub.execute_input": "2022-01-30T12:12:06.656891Z",
     "iopub.status.busy": "2022-01-30T12:12:06.656247Z",
     "iopub.status.idle": "2022-01-30T12:12:06.660051Z",
     "shell.execute_reply": "2022-01-30T12:12:06.659534Z"
    },
    "papermill": {
     "duration": 0.041129,
     "end_time": "2022-01-30T12:12:06.660164",
     "exception": false,
     "start_time": "2022-01-30T12:12:06.619035",
     "status": "completed"
    },
    "tags": []
   },
   "outputs": [],
   "source": [
    "#hide\n",
    "# g.rename(columns= {'date':'day'},inplace = True)"
   ]
  },
  {
   "cell_type": "code",
   "execution_count": 38,
   "id": "major-fight",
   "metadata": {
    "execution": {
     "iopub.execute_input": "2022-01-30T12:12:06.734739Z",
     "iopub.status.busy": "2022-01-30T12:12:06.734138Z",
     "iopub.status.idle": "2022-01-30T12:12:06.736625Z",
     "shell.execute_reply": "2022-01-30T12:12:06.736059Z"
    },
    "papermill": {
     "duration": 0.040862,
     "end_time": "2022-01-30T12:12:06.736742",
     "exception": false,
     "start_time": "2022-01-30T12:12:06.695880",
     "status": "completed"
    },
    "tags": []
   },
   "outputs": [],
   "source": [
    "#hide\n",
    "# g = g[cols]"
   ]
  },
  {
   "cell_type": "code",
   "execution_count": 39,
   "id": "structured-mobile",
   "metadata": {
    "execution": {
     "iopub.execute_input": "2022-01-30T12:12:06.813684Z",
     "iopub.status.busy": "2022-01-30T12:12:06.813044Z",
     "iopub.status.idle": "2022-01-30T12:12:06.815568Z",
     "shell.execute_reply": "2022-01-30T12:12:06.815036Z"
    },
    "papermill": {
     "duration": 0.042827,
     "end_time": "2022-01-30T12:12:06.815679",
     "exception": false,
     "start_time": "2022-01-30T12:12:06.772852",
     "status": "completed"
    },
    "tags": []
   },
   "outputs": [],
   "source": [
    "# #hide\n",
    "# g = g[g.group.notna()]"
   ]
  },
  {
   "cell_type": "code",
   "execution_count": 40,
   "id": "determined-closing",
   "metadata": {
    "execution": {
     "iopub.execute_input": "2022-01-30T12:12:06.893131Z",
     "iopub.status.busy": "2022-01-30T12:12:06.892453Z",
     "iopub.status.idle": "2022-01-30T12:12:06.894944Z",
     "shell.execute_reply": "2022-01-30T12:12:06.894298Z"
    },
    "papermill": {
     "duration": 0.042466,
     "end_time": "2022-01-30T12:12:06.895077",
     "exception": false,
     "start_time": "2022-01-30T12:12:06.852611",
     "status": "completed"
    },
    "tags": []
   },
   "outputs": [],
   "source": [
    "# #hide\n",
    "# colors = dict(zip(\n",
    "#     [\"Oceania\", \"Europe\", \"Asia\", \"South America\", \"Middle East\", \"North America\", \"Africa\"],\n",
    "#     [\"#adb0ff\", \"#ffb3ff\", \"#90d595\", \"#e48381\", \"#aafbff\", \"#f7bb5f\", \"#eafb50\"]\n",
    "# ))\n",
    "# group_lk = g.set_index('name')['group'].to_dict()"
   ]
  },
  {
   "cell_type": "code",
   "execution_count": null,
   "id": "gross-drinking",
   "metadata": {
    "papermill": {
     "duration": 0.034944,
     "end_time": "2022-01-30T12:12:06.966244",
     "exception": false,
     "start_time": "2022-01-30T12:12:06.931300",
     "status": "completed"
    },
    "tags": []
   },
   "outputs": [],
   "source": []
  },
  {
   "cell_type": "code",
   "execution_count": 41,
   "id": "subject-macintosh",
   "metadata": {
    "execution": {
     "iopub.execute_input": "2022-01-30T12:12:07.040920Z",
     "iopub.status.busy": "2022-01-30T12:12:07.039945Z",
     "iopub.status.idle": "2022-01-30T12:12:07.042464Z",
     "shell.execute_reply": "2022-01-30T12:12:07.041851Z"
    },
    "papermill": {
     "duration": 0.040361,
     "end_time": "2022-01-30T12:12:07.042577",
     "exception": false,
     "start_time": "2022-01-30T12:12:07.002216",
     "status": "completed"
    },
    "tags": []
   },
   "outputs": [],
   "source": [
    "# #hide\n",
    "# fig, ax = plt.subplots(figsize=(15, 8))\n",
    "\n",
    "# def draw_barchart(current_day):\n",
    "#     dff = g[g['day'].eq(current_day)].sort_values(by='value', ascending=True).tail(10)\n",
    "#     ax.clear()\n",
    "#     ax.barh(dff['name'], dff['value'], color=[colors[group_lk[x]] for x in dff['name']])\n",
    "#     dx = dff['value'].max() / 200\n",
    "    \n",
    "#     for i, (value, name) in enumerate(zip(dff['value'], dff['name'])):\n",
    "#         ax.text(value-dx, i,     name,           size=14, weight=600, ha='right', va='bottom')\n",
    "#         ax.text(value-dx, i-.25, group_lk[name], size=10, color='#444444', ha='right', va='baseline')\n",
    "#         ax.text(value+dx, i,     f'{value:,.0f}',  size=14, ha='left',  va='center')\n",
    "#     ax.text(1, 0.4, current_day, transform=ax.transAxes, color='#777777', size=46, ha='right', weight=800)\n",
    "#     ax.text(0, 1.06, 'Population (thousands)', transform=ax.transAxes, size=12, color='#777777')\n",
    "#     ax.xaxis.set_major_formatter(ticker.StrMethodFormatter('{x:,.0f}'))\n",
    "#     ax.xaxis.set_ticks_position('top')\n",
    "#     ax.tick_params(axis='x', colors='#777777', labelsize=12)\n",
    "#     ax.set_yticks([])\n",
    "#     ax.margins(0, 0.01)\n",
    "#     ax.grid(which='major', axis='x', linestyle='-')\n",
    "#     ax.set_axisbelow(True)\n",
    "    \n",
    "#     ax.text(0, 1.15, 'Coronavirus',\n",
    "#             transform=ax.transAxes, size=24, weight=600, ha='left', va='top')\n",
    "# #     ax.text(1, 0, 'by @pratapvardhan; credit @jburnmurdoch', transform=ax.transAxes, color='#777777', ha='right',\n",
    "# #             bbox=dict(facecolor='white', alpha=0.8, edgecolor='white'))\n",
    "#     plt.box(False)"
   ]
  },
  {
   "cell_type": "code",
   "execution_count": 42,
   "id": "sexual-wages",
   "metadata": {
    "execution": {
     "iopub.execute_input": "2022-01-30T12:12:07.117122Z",
     "iopub.status.busy": "2022-01-30T12:12:07.116521Z",
     "iopub.status.idle": "2022-01-30T12:12:07.119419Z",
     "shell.execute_reply": "2022-01-30T12:12:07.118918Z"
    },
    "papermill": {
     "duration": 0.04085,
     "end_time": "2022-01-30T12:12:07.119548",
     "exception": false,
     "start_time": "2022-01-30T12:12:07.078698",
     "status": "completed"
    },
    "tags": []
   },
   "outputs": [],
   "source": [
    "# #hide_input\n",
    "# fig, ax = plt.subplots(figsize=(15, 8))\n",
    "# animator = animation.FuncAnimation(fig, draw_barchart, frames=range(g.day.values.min(), g.day.values.max()))\n",
    "# HTML(animator.to_jshtml())\n",
    "# # or use animator.to_html5_video() or animator.save() "
   ]
  },
  {
   "cell_type": "code",
   "execution_count": null,
   "id": "australian-container",
   "metadata": {
    "papermill": {
     "duration": 0.035942,
     "end_time": "2022-01-30T12:12:07.191614",
     "exception": false,
     "start_time": "2022-01-30T12:12:07.155672",
     "status": "completed"
    },
    "tags": []
   },
   "outputs": [],
   "source": []
  },
  {
   "cell_type": "code",
   "execution_count": null,
   "id": "mediterranean-pontiac",
   "metadata": {
    "papermill": {
     "duration": 0.034536,
     "end_time": "2022-01-30T12:12:07.262810",
     "exception": false,
     "start_time": "2022-01-30T12:12:07.228274",
     "status": "completed"
    },
    "tags": []
   },
   "outputs": [],
   "source": []
  },
  {
   "cell_type": "code",
   "execution_count": null,
   "id": "aging-legislature",
   "metadata": {
    "papermill": {
     "duration": 0.034751,
     "end_time": "2022-01-30T12:12:07.332417",
     "exception": false,
     "start_time": "2022-01-30T12:12:07.297666",
     "status": "completed"
    },
    "tags": []
   },
   "outputs": [],
   "source": []
  }
 ],
 "metadata": {
  "kernelspec": {
   "display_name": "Python 3",
   "language": "python",
   "name": "python3"
  },
  "language_info": {
   "codemirror_mode": {
    "name": "ipython",
    "version": 3
   },
   "file_extension": ".py",
   "mimetype": "text/x-python",
   "name": "python",
   "nbconvert_exporter": "python",
   "pygments_lexer": "ipython3",
   "version": "3.6.15"
  },
  "papermill": {
   "duration": 6.78446,
   "end_time": "2022-01-30T12:12:07.685464",
   "environment_variables": {},
   "exception": null,
   "input_path": "2020-03-21-covid19exp.ipynb",
   "output_path": "2020-03-21-covid19exp.ipynb",
   "parameters": {},
   "start_time": "2022-01-30T12:12:00.901004",
   "version": "2.0.0"
  }
 },
 "nbformat": 4,
 "nbformat_minor": 5
}