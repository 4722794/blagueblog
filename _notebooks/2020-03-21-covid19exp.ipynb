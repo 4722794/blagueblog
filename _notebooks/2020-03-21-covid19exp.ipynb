{
 "cells": [
  {
   "cell_type": "markdown",
   "id": "muslim-click",
   "metadata": {
    "papermill": {
     "duration": 0.043652,
     "end_time": "2022-11-05T12:16:52.943254",
     "exception": false,
     "start_time": "2022-11-05T12:16:52.899602",
     "status": "completed"
    },
    "tags": []
   },
   "source": [
    "# COVID-19 Case Race\n",
    "> A race chart to see rising cases around the world\n",
    "\n",
    "- author: Hargun Oberoi\n",
    "- image: images/covid-overview.png\n",
    "- hide: false\n",
    "- badges: false"
   ]
  },
  {
   "cell_type": "code",
   "execution_count": 1,
   "id": "proof-material",
   "metadata": {
    "execution": {
     "iopub.execute_input": "2022-11-05T12:16:53.024755Z",
     "iopub.status.busy": "2022-11-05T12:16:53.023984Z",
     "iopub.status.idle": "2022-11-05T12:16:53.410784Z",
     "shell.execute_reply": "2022-11-05T12:16:53.409936Z"
    },
    "papermill": {
     "duration": 0.432991,
     "end_time": "2022-11-05T12:16:53.410939",
     "exception": false,
     "start_time": "2022-11-05T12:16:52.977948",
     "status": "completed"
    },
    "tags": []
   },
   "outputs": [],
   "source": [
    "#hide\n",
    "import numpy as np\n",
    "import pandas as pd\n",
    "from jinja2 import Template\n",
    "from IPython.display import HTML"
   ]
  },
  {
   "cell_type": "code",
   "execution_count": 2,
   "id": "developed-terminology",
   "metadata": {
    "execution": {
     "iopub.execute_input": "2022-11-05T12:16:53.489637Z",
     "iopub.status.busy": "2022-11-05T12:16:53.488813Z",
     "iopub.status.idle": "2022-11-05T12:16:53.491943Z",
     "shell.execute_reply": "2022-11-05T12:16:53.491369Z"
    },
    "papermill": {
     "duration": 0.04407,
     "end_time": "2022-11-05T12:16:53.492201",
     "exception": false,
     "start_time": "2022-11-05T12:16:53.448131",
     "status": "completed"
    },
    "tags": []
   },
   "outputs": [],
   "source": [
    "#hide\n",
    "\n",
    "# FETCH\n",
    "base_url = 'https://raw.githubusercontent.com/pratapvardhan/notebooks/master/covid19/'\n",
    "paths = {\n",
    "    'mapping': base_url + 'mapping_countries.csv',\n",
    "    'overview': base_url + 'overview.tpl'\n",
    "}"
   ]
  },
  {
   "cell_type": "code",
   "execution_count": 3,
   "id": "dynamic-saver",
   "metadata": {
    "execution": {
     "iopub.execute_input": "2022-11-05T12:16:53.575839Z",
     "iopub.status.busy": "2022-11-05T12:16:53.572605Z",
     "iopub.status.idle": "2022-11-05T12:16:53.579039Z",
     "shell.execute_reply": "2022-11-05T12:16:53.579704Z"
    },
    "papermill": {
     "duration": 0.05004,
     "end_time": "2022-11-05T12:16:53.579878",
     "exception": false,
     "start_time": "2022-11-05T12:16:53.529838",
     "status": "completed"
    },
    "tags": []
   },
   "outputs": [
    {
     "data": {
      "text/plain": [
       "'https://raw.githubusercontent.com/pratapvardhan/notebooks/master/covid19/mapping_countries.csv'"
      ]
     },
     "execution_count": 3,
     "metadata": {},
     "output_type": "execute_result"
    }
   ],
   "source": [
    "#hide\n",
    "paths['mapping']"
   ]
  },
  {
   "cell_type": "code",
   "execution_count": 4,
   "id": "urban-software",
   "metadata": {
    "execution": {
     "iopub.execute_input": "2022-11-05T12:16:53.655717Z",
     "iopub.status.busy": "2022-11-05T12:16:53.654896Z",
     "iopub.status.idle": "2022-11-05T12:16:53.658647Z",
     "shell.execute_reply": "2022-11-05T12:16:53.657932Z"
    },
    "papermill": {
     "duration": 0.044228,
     "end_time": "2022-11-05T12:16:53.658780",
     "exception": false,
     "start_time": "2022-11-05T12:16:53.614552",
     "status": "completed"
    },
    "tags": []
   },
   "outputs": [],
   "source": [
    "#hide\n",
    "def get_mappings(url):\n",
    "    df = pd.read_csv(url)\n",
    "    return {\n",
    "        'df': df,\n",
    "        'replace.country': dict(df.dropna(subset=['Name']).set_index('Country')['Name']),\n",
    "        'map.continent': dict(df.set_index('Name')['Continent'])\n",
    "    }"
   ]
  },
  {
   "cell_type": "code",
   "execution_count": 5,
   "id": "intimate-machinery",
   "metadata": {
    "execution": {
     "iopub.execute_input": "2022-11-05T12:16:53.739361Z",
     "iopub.status.busy": "2022-11-05T12:16:53.738676Z",
     "iopub.status.idle": "2022-11-05T12:16:53.769194Z",
     "shell.execute_reply": "2022-11-05T12:16:53.768587Z"
    },
    "papermill": {
     "duration": 0.073534,
     "end_time": "2022-11-05T12:16:53.769313",
     "exception": false,
     "start_time": "2022-11-05T12:16:53.695779",
     "status": "completed"
    },
    "tags": []
   },
   "outputs": [],
   "source": [
    "#hide\n",
    "mapping = get_mappings(paths['mapping'])"
   ]
  },
  {
   "cell_type": "code",
   "execution_count": 6,
   "id": "certified-tactics",
   "metadata": {
    "execution": {
     "iopub.execute_input": "2022-11-05T12:16:53.845823Z",
     "iopub.status.busy": "2022-11-05T12:16:53.844984Z",
     "iopub.status.idle": "2022-11-05T12:16:53.848071Z",
     "shell.execute_reply": "2022-11-05T12:16:53.848775Z"
    },
    "papermill": {
     "duration": 0.04398,
     "end_time": "2022-11-05T12:16:53.848935",
     "exception": false,
     "start_time": "2022-11-05T12:16:53.804955",
     "status": "completed"
    },
    "tags": []
   },
   "outputs": [],
   "source": [
    "#hide\n",
    "def get_template(path):\n",
    "    from urllib.parse import urlparse\n",
    "    if bool(urlparse(path).netloc):\n",
    "        from urllib.request import urlopen\n",
    "        return urlopen(path).read().decode('utf8')\n",
    "    return open(path).read()"
   ]
  },
  {
   "cell_type": "code",
   "execution_count": 7,
   "id": "realistic-blast",
   "metadata": {
    "execution": {
     "iopub.execute_input": "2022-11-05T12:16:53.924563Z",
     "iopub.status.busy": "2022-11-05T12:16:53.923869Z",
     "iopub.status.idle": "2022-11-05T12:16:53.927187Z",
     "shell.execute_reply": "2022-11-05T12:16:53.926448Z"
    },
    "papermill": {
     "duration": 0.043132,
     "end_time": "2022-11-05T12:16:53.927298",
     "exception": false,
     "start_time": "2022-11-05T12:16:53.884166",
     "status": "completed"
    },
    "tags": []
   },
   "outputs": [],
   "source": [
    "#hide\n",
    "def get_frame(name):\n",
    "    url = (\n",
    "        'https://raw.githubusercontent.com/CSSEGISandData/COVID-19/master/csse_covid_19_data/'\n",
    "        f'csse_covid_19_time_series/time_series_covid19_{name}_global.csv')\n",
    "    df = pd.read_csv(url)\n",
    "    # rename countries\n",
    "    df['Country/Region'] = df['Country/Region'].replace(mapping['replace.country'])\n",
    "    return df"
   ]
  },
  {
   "cell_type": "code",
   "execution_count": 8,
   "id": "affiliated-characterization",
   "metadata": {
    "execution": {
     "iopub.execute_input": "2022-11-05T12:16:54.013253Z",
     "iopub.status.busy": "2022-11-05T12:16:54.012561Z",
     "iopub.status.idle": "2022-11-05T12:16:54.015624Z",
     "shell.execute_reply": "2022-11-05T12:16:54.014949Z"
    },
    "papermill": {
     "duration": 0.047171,
     "end_time": "2022-11-05T12:16:54.015760",
     "exception": false,
     "start_time": "2022-11-05T12:16:53.968589",
     "status": "completed"
    },
    "tags": []
   },
   "outputs": [],
   "source": [
    "#hide\n",
    "def get_dates(df):\n",
    "    dt_cols = df.columns[~df.columns.isin(['Province/State', 'Country/Region', 'Lat', 'Long'])]\n",
    "    LAST_DATE_I = -1\n",
    "    # sometimes last column may be empty, then go backwards\n",
    "    for i in range(-1, -len(dt_cols), -1):\n",
    "        if not df[dt_cols[i]].fillna(0).eq(0).all():\n",
    "            LAST_DATE_I = i\n",
    "            break\n",
    "    return LAST_DATE_I, dt_cols"
   ]
  },
  {
   "cell_type": "code",
   "execution_count": 9,
   "id": "recent-optimization",
   "metadata": {
    "execution": {
     "iopub.execute_input": "2022-11-05T12:16:54.100375Z",
     "iopub.status.busy": "2022-11-05T12:16:54.099641Z",
     "iopub.status.idle": "2022-11-05T12:16:54.567355Z",
     "shell.execute_reply": "2022-11-05T12:16:54.566641Z"
    },
    "papermill": {
     "duration": 0.51591,
     "end_time": "2022-11-05T12:16:54.567485",
     "exception": false,
     "start_time": "2022-11-05T12:16:54.051575",
     "status": "completed"
    },
    "tags": []
   },
   "outputs": [],
   "source": [
    "#hide\n",
    "COL_REGION = 'Country/Region'\n",
    "# Confirmed, Recovered, Deaths\n",
    "df = get_frame('confirmed')\n",
    "# dft_: timeseries, dfc_: today country agg\n",
    "dft_cases = df\n",
    "dft_deaths = get_frame('deaths')\n",
    "dft_recovered = get_frame('recovered')\n",
    "LAST_DATE_I, dt_cols = get_dates(df)"
   ]
  },
  {
   "cell_type": "code",
   "execution_count": 10,
   "id": "absolute-copper",
   "metadata": {
    "execution": {
     "iopub.execute_input": "2022-11-05T12:16:54.643628Z",
     "iopub.status.busy": "2022-11-05T12:16:54.642902Z",
     "iopub.status.idle": "2022-11-05T12:16:54.646012Z",
     "shell.execute_reply": "2022-11-05T12:16:54.646713Z"
    },
    "papermill": {
     "duration": 0.043868,
     "end_time": "2022-11-05T12:16:54.646859",
     "exception": false,
     "start_time": "2022-11-05T12:16:54.602991",
     "status": "completed"
    },
    "tags": []
   },
   "outputs": [],
   "source": [
    "#hide\n",
    "LAST_DATE_I, dt_cols = get_dates(df)\n",
    "dt_today =dt_cols[LAST_DATE_I]\n",
    "# dt_5day = dt_cols[LAST_DATE_I - 5]\n",
    "dt_yday = dt_cols[LAST_DATE_I - 1]"
   ]
  },
  {
   "cell_type": "code",
   "execution_count": 11,
   "id": "restricted-sheriff",
   "metadata": {
    "execution": {
     "iopub.execute_input": "2022-11-05T12:16:54.731003Z",
     "iopub.status.busy": "2022-11-05T12:16:54.730146Z",
     "iopub.status.idle": "2022-11-05T12:16:54.736653Z",
     "shell.execute_reply": "2022-11-05T12:16:54.737294Z"
    },
    "papermill": {
     "duration": 0.054397,
     "end_time": "2022-11-05T12:16:54.737423",
     "exception": false,
     "start_time": "2022-11-05T12:16:54.683026",
     "status": "completed"
    },
    "tags": []
   },
   "outputs": [],
   "source": [
    "#hide\n",
    "dfc_cases = dft_cases.groupby(COL_REGION)[dt_today].sum()\n",
    "dfc_deaths = dft_deaths.groupby(COL_REGION)[dt_today].sum()\n",
    "# dfp_cases = dft_cases.groupby(COL_REGION)[dt_5day].sum()\n",
    "# dfp_deaths = dft_deaths.groupby(COL_REGION)[dt_5day].sum()\n",
    "dfp_cases = dft_cases.groupby(COL_REGION)[dt_yday].sum()\n",
    "dfp_deaths = dft_deaths.groupby(COL_REGION)[dt_yday].sum()"
   ]
  },
  {
   "cell_type": "code",
   "execution_count": 12,
   "id": "deluxe-hepatitis",
   "metadata": {
    "execution": {
     "iopub.execute_input": "2022-11-05T12:16:54.811974Z",
     "iopub.status.busy": "2022-11-05T12:16:54.811213Z",
     "iopub.status.idle": "2022-11-05T12:16:54.816962Z",
     "shell.execute_reply": "2022-11-05T12:16:54.817643Z"
    },
    "papermill": {
     "duration": 0.045937,
     "end_time": "2022-11-05T12:16:54.817787",
     "exception": false,
     "start_time": "2022-11-05T12:16:54.771850",
     "status": "completed"
    },
    "tags": []
   },
   "outputs": [],
   "source": [
    "#hide\n",
    "df_table = (pd.DataFrame(dict(Cases = dfc_cases, Deaths = dfc_deaths, PCases = dfp_cases, PDeaths = dfp_deaths))\n",
    "            .sort_values(by = ['Cases','Deaths'], ascending = [False, False])\n",
    "            .reset_index())"
   ]
  },
  {
   "cell_type": "code",
   "execution_count": 13,
   "id": "educational-chancellor",
   "metadata": {
    "execution": {
     "iopub.execute_input": "2022-11-05T12:16:54.904332Z",
     "iopub.status.busy": "2022-11-05T12:16:54.898375Z",
     "iopub.status.idle": "2022-11-05T12:16:54.914834Z",
     "shell.execute_reply": "2022-11-05T12:16:54.914247Z"
    },
    "papermill": {
     "duration": 0.064912,
     "end_time": "2022-11-05T12:16:54.914960",
     "exception": false,
     "start_time": "2022-11-05T12:16:54.850048",
     "status": "completed"
    },
    "tags": []
   },
   "outputs": [
    {
     "data": {
      "text/html": [
       "<div>\n",
       "<style scoped>\n",
       "    .dataframe tbody tr th:only-of-type {\n",
       "        vertical-align: middle;\n",
       "    }\n",
       "\n",
       "    .dataframe tbody tr th {\n",
       "        vertical-align: top;\n",
       "    }\n",
       "\n",
       "    .dataframe thead th {\n",
       "        text-align: right;\n",
       "    }\n",
       "</style>\n",
       "<table border=\"1\" class=\"dataframe\">\n",
       "  <thead>\n",
       "    <tr style=\"text-align: right;\">\n",
       "      <th></th>\n",
       "      <th>Country/Region</th>\n",
       "      <th>Cases</th>\n",
       "      <th>Deaths</th>\n",
       "      <th>PCases</th>\n",
       "      <th>PDeaths</th>\n",
       "      <th>Cases (+)</th>\n",
       "      <th>Deaths (+)</th>\n",
       "      <th>Fatality Rate</th>\n",
       "      <th>Continent</th>\n",
       "    </tr>\n",
       "  </thead>\n",
       "  <tbody>\n",
       "    <tr>\n",
       "      <th>0</th>\n",
       "      <td>US</td>\n",
       "      <td>97729653</td>\n",
       "      <td>1072561</td>\n",
       "      <td>97692050</td>\n",
       "      <td>1072222</td>\n",
       "      <td>37603</td>\n",
       "      <td>339</td>\n",
       "      <td>1.10</td>\n",
       "      <td>North America</td>\n",
       "    </tr>\n",
       "    <tr>\n",
       "      <th>1</th>\n",
       "      <td>India</td>\n",
       "      <td>44659447</td>\n",
       "      <td>530486</td>\n",
       "      <td>44658365</td>\n",
       "      <td>530479</td>\n",
       "      <td>1082</td>\n",
       "      <td>7</td>\n",
       "      <td>1.19</td>\n",
       "      <td>Asia</td>\n",
       "    </tr>\n",
       "    <tr>\n",
       "      <th>2</th>\n",
       "      <td>France</td>\n",
       "      <td>37140238</td>\n",
       "      <td>158317</td>\n",
       "      <td>37110800</td>\n",
       "      <td>158239</td>\n",
       "      <td>29438</td>\n",
       "      <td>78</td>\n",
       "      <td>0.43</td>\n",
       "      <td>Europe</td>\n",
       "    </tr>\n",
       "    <tr>\n",
       "      <th>3</th>\n",
       "      <td>Germany</td>\n",
       "      <td>35823771</td>\n",
       "      <td>154535</td>\n",
       "      <td>35784912</td>\n",
       "      <td>154328</td>\n",
       "      <td>38859</td>\n",
       "      <td>207</td>\n",
       "      <td>0.43</td>\n",
       "      <td>Europe</td>\n",
       "    </tr>\n",
       "    <tr>\n",
       "      <th>4</th>\n",
       "      <td>Brazil</td>\n",
       "      <td>34849063</td>\n",
       "      <td>688332</td>\n",
       "      <td>34846308</td>\n",
       "      <td>688267</td>\n",
       "      <td>2755</td>\n",
       "      <td>65</td>\n",
       "      <td>1.98</td>\n",
       "      <td>South America</td>\n",
       "    </tr>\n",
       "  </tbody>\n",
       "</table>\n",
       "</div>"
      ],
      "text/plain": [
       "  Country/Region     Cases   Deaths    PCases  PDeaths  Cases (+)  Deaths (+)  \\\n",
       "0             US  97729653  1072561  97692050  1072222      37603         339   \n",
       "1          India  44659447   530486  44658365   530479       1082           7   \n",
       "2         France  37140238   158317  37110800   158239      29438          78   \n",
       "3        Germany  35823771   154535  35784912   154328      38859         207   \n",
       "4         Brazil  34849063   688332  34846308   688267       2755          65   \n",
       "\n",
       "   Fatality Rate      Continent  \n",
       "0           1.10  North America  \n",
       "1           1.19           Asia  \n",
       "2           0.43         Europe  \n",
       "3           0.43         Europe  \n",
       "4           1.98  South America  "
      ]
     },
     "execution_count": 13,
     "metadata": {},
     "output_type": "execute_result"
    }
   ],
   "source": [
    "#hide\n",
    "for c in 'Cases, Deaths'.split(', '):\n",
    "    df_table[f'{c} (+)'] = (df_table[c] - df_table[f'P{c}']).clip(0)\n",
    "    #Clip ça veut dire, les chiffres negatif sont interdit\n",
    "df_table['Fatality Rate'] = (100* df_table['Deaths']/ df_table['Cases']).round(2)\n",
    "df_table['Continent'] = df_table['Country/Region'].map(mapping['map.continent'])\n",
    "df_table.head(5)"
   ]
  },
  {
   "cell_type": "code",
   "execution_count": 14,
   "id": "aboriginal-bulgaria",
   "metadata": {
    "execution": {
     "iopub.execute_input": "2022-11-05T12:16:54.995345Z",
     "iopub.status.busy": "2022-11-05T12:16:54.994528Z",
     "iopub.status.idle": "2022-11-05T12:16:54.998425Z",
     "shell.execute_reply": "2022-11-05T12:16:54.998888Z"
    },
    "papermill": {
     "duration": 0.047421,
     "end_time": "2022-11-05T12:16:54.999096",
     "exception": false,
     "start_time": "2022-11-05T12:16:54.951675",
     "status": "completed"
    },
    "tags": []
   },
   "outputs": [],
   "source": [
    "#hide\n",
    "#delete problematic countries from table\n",
    "df_table = df_table[~df_table['Country/Region'].isin(['Cape Verde', 'Cruise Ship', 'Kosovo'])]"
   ]
  },
  {
   "cell_type": "code",
   "execution_count": 15,
   "id": "fantastic-effect",
   "metadata": {
    "execution": {
     "iopub.execute_input": "2022-11-05T12:16:55.081811Z",
     "iopub.status.busy": "2022-11-05T12:16:55.080932Z",
     "iopub.status.idle": "2022-11-05T12:16:55.104598Z",
     "shell.execute_reply": "2022-11-05T12:16:55.105331Z"
    },
    "papermill": {
     "duration": 0.070916,
     "end_time": "2022-11-05T12:16:55.105516",
     "exception": false,
     "start_time": "2022-11-05T12:16:55.034600",
     "status": "completed"
    },
    "tags": []
   },
   "outputs": [
    {
     "data": {
      "text/html": [
       "<div>\n",
       "<style scoped>\n",
       "    .dataframe tbody tr th:only-of-type {\n",
       "        vertical-align: middle;\n",
       "    }\n",
       "\n",
       "    .dataframe tbody tr th {\n",
       "        vertical-align: top;\n",
       "    }\n",
       "\n",
       "    .dataframe thead th {\n",
       "        text-align: right;\n",
       "    }\n",
       "</style>\n",
       "<table border=\"1\" class=\"dataframe\">\n",
       "  <thead>\n",
       "    <tr style=\"text-align: right;\">\n",
       "      <th></th>\n",
       "      <th>Country/Region</th>\n",
       "      <th>Cases</th>\n",
       "      <th>Deaths</th>\n",
       "      <th>PCases</th>\n",
       "      <th>PDeaths</th>\n",
       "      <th>Cases (+)</th>\n",
       "      <th>Deaths (+)</th>\n",
       "      <th>Fatality Rate</th>\n",
       "      <th>Continent</th>\n",
       "    </tr>\n",
       "  </thead>\n",
       "  <tbody>\n",
       "    <tr>\n",
       "      <th>0</th>\n",
       "      <td>US</td>\n",
       "      <td>97729653</td>\n",
       "      <td>1072561</td>\n",
       "      <td>97692050</td>\n",
       "      <td>1072222</td>\n",
       "      <td>37603</td>\n",
       "      <td>339</td>\n",
       "      <td>1.1</td>\n",
       "      <td>North America</td>\n",
       "    </tr>\n",
       "    <tr>\n",
       "      <th>1</th>\n",
       "      <td>India</td>\n",
       "      <td>44659447</td>\n",
       "      <td>530486</td>\n",
       "      <td>44658365</td>\n",
       "      <td>530479</td>\n",
       "      <td>1082</td>\n",
       "      <td>7</td>\n",
       "      <td>1.2</td>\n",
       "      <td>Asia</td>\n",
       "    </tr>\n",
       "    <tr>\n",
       "      <th>2</th>\n",
       "      <td>France</td>\n",
       "      <td>37140238</td>\n",
       "      <td>158317</td>\n",
       "      <td>37110800</td>\n",
       "      <td>158239</td>\n",
       "      <td>29438</td>\n",
       "      <td>78</td>\n",
       "      <td>0.4</td>\n",
       "      <td>Europe</td>\n",
       "    </tr>\n",
       "    <tr>\n",
       "      <th>3</th>\n",
       "      <td>Germany</td>\n",
       "      <td>35823771</td>\n",
       "      <td>154535</td>\n",
       "      <td>35784912</td>\n",
       "      <td>154328</td>\n",
       "      <td>38859</td>\n",
       "      <td>207</td>\n",
       "      <td>0.4</td>\n",
       "      <td>Europe</td>\n",
       "    </tr>\n",
       "    <tr>\n",
       "      <th>4</th>\n",
       "      <td>Brazil</td>\n",
       "      <td>34849063</td>\n",
       "      <td>688332</td>\n",
       "      <td>34846308</td>\n",
       "      <td>688267</td>\n",
       "      <td>2755</td>\n",
       "      <td>65</td>\n",
       "      <td>2.0</td>\n",
       "      <td>South America</td>\n",
       "    </tr>\n",
       "  </tbody>\n",
       "</table>\n",
       "</div>"
      ],
      "text/plain": [
       "  Country/Region     Cases   Deaths    PCases  PDeaths  Cases (+)  Deaths (+)  \\\n",
       "0             US  97729653  1072561  97692050  1072222      37603         339   \n",
       "1          India  44659447   530486  44658365   530479       1082           7   \n",
       "2         France  37140238   158317  37110800   158239      29438          78   \n",
       "3        Germany  35823771   154535  35784912   154328      38859         207   \n",
       "4         Brazil  34849063   688332  34846308   688267       2755          65   \n",
       "\n",
       "   Fatality Rate      Continent  \n",
       "0            1.1  North America  \n",
       "1            1.2           Asia  \n",
       "2            0.4         Europe  \n",
       "3            0.4         Europe  \n",
       "4            2.0  South America  "
      ]
     },
     "execution_count": 15,
     "metadata": {},
     "output_type": "execute_result"
    }
   ],
   "source": [
    "#hide\n",
    "df_table = (pd.DataFrame(dict(Cases=dfc_cases, Deaths=dfc_deaths, PCases=dfp_cases, PDeaths=dfp_deaths))\n",
    "             .sort_values(by=['Cases', 'Deaths'], ascending=[False, False])\n",
    "             .reset_index())\n",
    "df_table.rename(columns={'index': 'Country/Region'}, inplace=True)\n",
    "for c in 'Cases, Deaths'.split(', '):\n",
    "    df_table[f'{c} (+)'] = (df_table[c] - df_table[f'P{c}']).clip(0)  # DATA BUG\n",
    "df_table['Fatality Rate'] = (100 * df_table['Deaths'] / df_table['Cases']).round(1)\n",
    "df_table['Continent'] = df_table['Country/Region'].map(mapping['map.continent'])\n",
    "df_table.head(5)"
   ]
  },
  {
   "cell_type": "code",
   "execution_count": 16,
   "id": "fewer-occasion",
   "metadata": {
    "execution": {
     "iopub.execute_input": "2022-11-05T12:16:55.186440Z",
     "iopub.status.busy": "2022-11-05T12:16:55.185629Z",
     "iopub.status.idle": "2022-11-05T12:16:55.189272Z",
     "shell.execute_reply": "2022-11-05T12:16:55.188682Z"
    },
    "papermill": {
     "duration": 0.046097,
     "end_time": "2022-11-05T12:16:55.189420",
     "exception": false,
     "start_time": "2022-11-05T12:16:55.143323",
     "status": "completed"
    },
    "tags": []
   },
   "outputs": [],
   "source": [
    "#hide\n",
    "#delete problematic countries from table\n",
    "df_table = df_table[~df_table['Country/Region'].isin(['Cape Verde', 'Cruise Ship', 'Kosovo'])]"
   ]
  },
  {
   "cell_type": "code",
   "execution_count": 17,
   "id": "related-center",
   "metadata": {
    "execution": {
     "iopub.execute_input": "2022-11-05T12:16:55.288743Z",
     "iopub.status.busy": "2022-11-05T12:16:55.287800Z",
     "iopub.status.idle": "2022-11-05T12:16:55.292811Z",
     "shell.execute_reply": "2022-11-05T12:16:55.293357Z"
    },
    "papermill": {
     "duration": 0.067889,
     "end_time": "2022-11-05T12:16:55.293532",
     "exception": false,
     "start_time": "2022-11-05T12:16:55.225643",
     "status": "completed"
    },
    "tags": []
   },
   "outputs": [],
   "source": [
    "#hide\n",
    "metrics = [df_table.columns[index] for index in [1,2,5,6]]\n",
    "# s_china = df_table[df_table['Country/Region'].eq('China')][metrics].sum().add_prefix('China ')\n",
    "s_us = df_table[df_table['Country/Region'].eq('US')][metrics].sum().add_prefix('US ')\n",
    "s_eu = df_table[df_table['Continent'].eq('Europe')][metrics].sum().add_prefix('EU ')\n",
    "s_ind = df_table[df_table['Country/Region'].eq('India')][metrics].sum().add_prefix('India ')\n",
    "summary = {'updated': pd.to_datetime(dt_today), 'since': pd.to_datetime(dt_yday)}\n",
    "summary = {'updated': pd.to_datetime(dt_today), 'since': pd.to_datetime(dt_yday)}\n",
    "summary = {**summary, **df_table[metrics].sum(), **s_ind, **s_us, **s_eu}"
   ]
  },
  {
   "cell_type": "code",
   "execution_count": 18,
   "id": "engaging-syndrome",
   "metadata": {
    "execution": {
     "iopub.execute_input": "2022-11-05T12:16:55.375822Z",
     "iopub.status.busy": "2022-11-05T12:16:55.371142Z",
     "iopub.status.idle": "2022-11-05T12:16:55.394123Z",
     "shell.execute_reply": "2022-11-05T12:16:55.393646Z"
    },
    "papermill": {
     "duration": 0.063809,
     "end_time": "2022-11-05T12:16:55.394312",
     "exception": false,
     "start_time": "2022-11-05T12:16:55.330503",
     "status": "completed"
    },
    "tags": []
   },
   "outputs": [],
   "source": [
    "#hide\n",
    "dft_ct_new_cases = dft_cases.groupby(COL_REGION)[dt_cols].sum().diff(axis=1).fillna(0).astype(int)"
   ]
  },
  {
   "cell_type": "code",
   "execution_count": 19,
   "id": "neutral-assignment",
   "metadata": {
    "execution": {
     "iopub.execute_input": "2022-11-05T12:16:55.471503Z",
     "iopub.status.busy": "2022-11-05T12:16:55.470756Z",
     "iopub.status.idle": "2022-11-05T12:16:55.473591Z",
     "shell.execute_reply": "2022-11-05T12:16:55.472881Z"
    },
    "papermill": {
     "duration": 0.043258,
     "end_time": "2022-11-05T12:16:55.473697",
     "exception": false,
     "start_time": "2022-11-05T12:16:55.430439",
     "status": "completed"
    },
    "tags": []
   },
   "outputs": [],
   "source": [
    "#hide\n",
    "everydaycases = dft_ct_new_cases.cumsum(axis=1)"
   ]
  },
  {
   "cell_type": "code",
   "execution_count": 20,
   "id": "parliamentary-calgary",
   "metadata": {
    "execution": {
     "iopub.execute_input": "2022-11-05T12:16:55.549900Z",
     "iopub.status.busy": "2022-11-05T12:16:55.549263Z",
     "iopub.status.idle": "2022-11-05T12:16:56.218294Z",
     "shell.execute_reply": "2022-11-05T12:16:56.217621Z"
    },
    "papermill": {
     "duration": 0.70854,
     "end_time": "2022-11-05T12:16:56.218544",
     "exception": false,
     "start_time": "2022-11-05T12:16:55.510004",
     "status": "completed"
    },
    "tags": []
   },
   "outputs": [],
   "source": [
    "#hide\n",
    "import pandas as pd\n",
    "import matplotlib.pyplot as plt\n",
    "import matplotlib.ticker as ticker\n",
    "import matplotlib.animation as animation\n",
    "from IPython.display import HTML"
   ]
  },
  {
   "cell_type": "code",
   "execution_count": 21,
   "id": "lasting-extraction",
   "metadata": {
    "execution": {
     "iopub.execute_input": "2022-11-05T12:16:56.304207Z",
     "iopub.status.busy": "2022-11-05T12:16:56.303521Z",
     "iopub.status.idle": "2022-11-05T12:16:56.312158Z",
     "shell.execute_reply": "2022-11-05T12:16:56.311585Z"
    },
    "papermill": {
     "duration": 0.054131,
     "end_time": "2022-11-05T12:16:56.312295",
     "exception": false,
     "start_time": "2022-11-05T12:16:56.258164",
     "status": "completed"
    },
    "tags": []
   },
   "outputs": [],
   "source": [
    "#hide\n",
    "t = everydaycases.stack()"
   ]
  },
  {
   "cell_type": "code",
   "execution_count": 22,
   "id": "premier-sleeve",
   "metadata": {
    "execution": {
     "iopub.execute_input": "2022-11-05T12:16:56.392722Z",
     "iopub.status.busy": "2022-11-05T12:16:56.391930Z",
     "iopub.status.idle": "2022-11-05T12:16:56.407305Z",
     "shell.execute_reply": "2022-11-05T12:16:56.406695Z"
    },
    "papermill": {
     "duration": 0.056845,
     "end_time": "2022-11-05T12:16:56.407469",
     "exception": false,
     "start_time": "2022-11-05T12:16:56.350624",
     "status": "completed"
    },
    "tags": []
   },
   "outputs": [],
   "source": [
    "#hide\n",
    "g = t.reset_index(['Country/Region'])"
   ]
  },
  {
   "cell_type": "code",
   "execution_count": 23,
   "id": "distributed-pittsburgh",
   "metadata": {
    "execution": {
     "iopub.execute_input": "2022-11-05T12:16:56.486095Z",
     "iopub.status.busy": "2022-11-05T12:16:56.485332Z",
     "iopub.status.idle": "2022-11-05T12:16:56.488525Z",
     "shell.execute_reply": "2022-11-05T12:16:56.487745Z"
    },
    "papermill": {
     "duration": 0.04353,
     "end_time": "2022-11-05T12:16:56.488629",
     "exception": false,
     "start_time": "2022-11-05T12:16:56.445099",
     "status": "completed"
    },
    "tags": []
   },
   "outputs": [],
   "source": [
    "#hide\n",
    "g.index.name = 'date'"
   ]
  },
  {
   "cell_type": "code",
   "execution_count": 24,
   "id": "naked-donor",
   "metadata": {
    "execution": {
     "iopub.execute_input": "2022-11-05T12:16:56.565646Z",
     "iopub.status.busy": "2022-11-05T12:16:56.564840Z",
     "iopub.status.idle": "2022-11-05T12:16:56.568148Z",
     "shell.execute_reply": "2022-11-05T12:16:56.567540Z"
    },
    "papermill": {
     "duration": 0.042605,
     "end_time": "2022-11-05T12:16:56.568300",
     "exception": false,
     "start_time": "2022-11-05T12:16:56.525695",
     "status": "completed"
    },
    "tags": []
   },
   "outputs": [],
   "source": [
    "# #hide\n",
    "# g = g.reset_index(['date'])"
   ]
  },
  {
   "cell_type": "code",
   "execution_count": 25,
   "id": "incomplete-mustang",
   "metadata": {
    "execution": {
     "iopub.execute_input": "2022-11-05T12:16:56.666385Z",
     "iopub.status.busy": "2022-11-05T12:16:56.665544Z",
     "iopub.status.idle": "2022-11-05T12:16:56.669147Z",
     "shell.execute_reply": "2022-11-05T12:16:56.668482Z"
    },
    "papermill": {
     "duration": 0.061994,
     "end_time": "2022-11-05T12:16:56.669303",
     "exception": false,
     "start_time": "2022-11-05T12:16:56.607309",
     "status": "completed"
    },
    "tags": []
   },
   "outputs": [],
   "source": [
    "#hide\n",
    "# g.head()"
   ]
  },
  {
   "cell_type": "code",
   "execution_count": 26,
   "id": "specific-kruger",
   "metadata": {
    "execution": {
     "iopub.execute_input": "2022-11-05T12:16:56.750798Z",
     "iopub.status.busy": "2022-11-05T12:16:56.749944Z",
     "iopub.status.idle": "2022-11-05T12:16:56.752709Z",
     "shell.execute_reply": "2022-11-05T12:16:56.753406Z"
    },
    "papermill": {
     "duration": 0.044812,
     "end_time": "2022-11-05T12:16:56.753587",
     "exception": false,
     "start_time": "2022-11-05T12:16:56.708775",
     "status": "completed"
    },
    "tags": []
   },
   "outputs": [],
   "source": [
    "#hide\n",
    "# g.columns = ['date','country','cases']"
   ]
  },
  {
   "cell_type": "code",
   "execution_count": 27,
   "id": "tender-conversion",
   "metadata": {
    "execution": {
     "iopub.execute_input": "2022-11-05T12:16:56.836813Z",
     "iopub.status.busy": "2022-11-05T12:16:56.836027Z",
     "iopub.status.idle": "2022-11-05T12:16:56.839497Z",
     "shell.execute_reply": "2022-11-05T12:16:56.838856Z"
    },
    "papermill": {
     "duration": 0.0462,
     "end_time": "2022-11-05T12:16:56.839632",
     "exception": false,
     "start_time": "2022-11-05T12:16:56.793432",
     "status": "completed"
    },
    "tags": []
   },
   "outputs": [],
   "source": [
    "#hide\n",
    "# g['continent'] = g.country"
   ]
  },
  {
   "cell_type": "code",
   "execution_count": 28,
   "id": "substantial-wilderness",
   "metadata": {
    "execution": {
     "iopub.execute_input": "2022-11-05T12:16:56.917974Z",
     "iopub.status.busy": "2022-11-05T12:16:56.917240Z",
     "iopub.status.idle": "2022-11-05T12:16:56.920353Z",
     "shell.execute_reply": "2022-11-05T12:16:56.919797Z"
    },
    "papermill": {
     "duration": 0.042699,
     "end_time": "2022-11-05T12:16:56.920485",
     "exception": false,
     "start_time": "2022-11-05T12:16:56.877786",
     "status": "completed"
    },
    "tags": []
   },
   "outputs": [],
   "source": [
    "#hide\n",
    "# cols = list(g.columns.values)"
   ]
  },
  {
   "cell_type": "code",
   "execution_count": 29,
   "id": "solved-farming",
   "metadata": {
    "execution": {
     "iopub.execute_input": "2022-11-05T12:16:56.998478Z",
     "iopub.status.busy": "2022-11-05T12:16:56.997771Z",
     "iopub.status.idle": "2022-11-05T12:16:57.001087Z",
     "shell.execute_reply": "2022-11-05T12:16:57.000505Z"
    },
    "papermill": {
     "duration": 0.04348,
     "end_time": "2022-11-05T12:16:57.001199",
     "exception": false,
     "start_time": "2022-11-05T12:16:56.957719",
     "status": "completed"
    },
    "tags": []
   },
   "outputs": [],
   "source": [
    "#hide\n",
    "# cols.insert(0, cols.pop())"
   ]
  },
  {
   "cell_type": "code",
   "execution_count": 30,
   "id": "executed-adoption",
   "metadata": {
    "execution": {
     "iopub.execute_input": "2022-11-05T12:16:57.083591Z",
     "iopub.status.busy": "2022-11-05T12:16:57.082567Z",
     "iopub.status.idle": "2022-11-05T12:16:57.085757Z",
     "shell.execute_reply": "2022-11-05T12:16:57.085040Z"
    },
    "papermill": {
     "duration": 0.047198,
     "end_time": "2022-11-05T12:16:57.085904",
     "exception": false,
     "start_time": "2022-11-05T12:16:57.038706",
     "status": "completed"
    },
    "tags": []
   },
   "outputs": [],
   "source": [
    "#hide\n",
    "# g = g[cols]"
   ]
  },
  {
   "cell_type": "code",
   "execution_count": 31,
   "id": "subject-dublin",
   "metadata": {
    "execution": {
     "iopub.execute_input": "2022-11-05T12:16:57.164608Z",
     "iopub.status.busy": "2022-11-05T12:16:57.163855Z",
     "iopub.status.idle": "2022-11-05T12:16:57.166968Z",
     "shell.execute_reply": "2022-11-05T12:16:57.166195Z"
    },
    "papermill": {
     "duration": 0.04328,
     "end_time": "2022-11-05T12:16:57.167075",
     "exception": false,
     "start_time": "2022-11-05T12:16:57.123795",
     "status": "completed"
    },
    "tags": []
   },
   "outputs": [],
   "source": [
    "#hide\n",
    "# g['continent'] = g['continent'].map(mapping['map.continent'])"
   ]
  },
  {
   "cell_type": "code",
   "execution_count": 32,
   "id": "freelance-scout",
   "metadata": {
    "execution": {
     "iopub.execute_input": "2022-11-05T12:16:57.244149Z",
     "iopub.status.busy": "2022-11-05T12:16:57.243477Z",
     "iopub.status.idle": "2022-11-05T12:16:57.246918Z",
     "shell.execute_reply": "2022-11-05T12:16:57.246193Z"
    },
    "papermill": {
     "duration": 0.042879,
     "end_time": "2022-11-05T12:16:57.247032",
     "exception": false,
     "start_time": "2022-11-05T12:16:57.204153",
     "status": "completed"
    },
    "tags": []
   },
   "outputs": [],
   "source": [
    "#hide\n",
    "# g.head()"
   ]
  },
  {
   "cell_type": "code",
   "execution_count": 33,
   "id": "limited-engine",
   "metadata": {
    "execution": {
     "iopub.execute_input": "2022-11-05T12:16:57.326428Z",
     "iopub.status.busy": "2022-11-05T12:16:57.325625Z",
     "iopub.status.idle": "2022-11-05T12:16:57.328934Z",
     "shell.execute_reply": "2022-11-05T12:16:57.327903Z"
    },
    "papermill": {
     "duration": 0.045367,
     "end_time": "2022-11-05T12:16:57.329079",
     "exception": false,
     "start_time": "2022-11-05T12:16:57.283712",
     "status": "completed"
    },
    "tags": []
   },
   "outputs": [],
   "source": [
    "# hide\n",
    "# g['date'] = g['date'].astype('datetime64[ns]')"
   ]
  },
  {
   "cell_type": "code",
   "execution_count": 34,
   "id": "sophisticated-supervisor",
   "metadata": {
    "execution": {
     "iopub.execute_input": "2022-11-05T12:16:57.408790Z",
     "iopub.status.busy": "2022-11-05T12:16:57.407919Z",
     "iopub.status.idle": "2022-11-05T12:16:57.411040Z",
     "shell.execute_reply": "2022-11-05T12:16:57.410474Z"
    },
    "papermill": {
     "duration": 0.044018,
     "end_time": "2022-11-05T12:16:57.411154",
     "exception": false,
     "start_time": "2022-11-05T12:16:57.367136",
     "status": "completed"
    },
    "tags": []
   },
   "outputs": [],
   "source": [
    "#hide\n",
    "# g['date'] = g.date.dt.dayofyear"
   ]
  },
  {
   "cell_type": "code",
   "execution_count": 35,
   "id": "inside-dubai",
   "metadata": {
    "execution": {
     "iopub.execute_input": "2022-11-05T12:16:57.492225Z",
     "iopub.status.busy": "2022-11-05T12:16:57.491478Z",
     "iopub.status.idle": "2022-11-05T12:16:57.494745Z",
     "shell.execute_reply": "2022-11-05T12:16:57.494042Z"
    },
    "papermill": {
     "duration": 0.045453,
     "end_time": "2022-11-05T12:16:57.494880",
     "exception": false,
     "start_time": "2022-11-05T12:16:57.449427",
     "status": "completed"
    },
    "tags": []
   },
   "outputs": [],
   "source": [
    "#hide\n",
    "# g = g.rename(columns= {'continent':'group','country':'name','cases':'value'})"
   ]
  },
  {
   "cell_type": "code",
   "execution_count": 36,
   "id": "fleet-motorcycle",
   "metadata": {
    "execution": {
     "iopub.execute_input": "2022-11-05T12:16:57.575442Z",
     "iopub.status.busy": "2022-11-05T12:16:57.574636Z",
     "iopub.status.idle": "2022-11-05T12:16:57.577432Z",
     "shell.execute_reply": "2022-11-05T12:16:57.577987Z"
    },
    "papermill": {
     "duration": 0.045298,
     "end_time": "2022-11-05T12:16:57.578113",
     "exception": false,
     "start_time": "2022-11-05T12:16:57.532815",
     "status": "completed"
    },
    "tags": []
   },
   "outputs": [],
   "source": [
    "#hide\n",
    "# cols = ['name','group','day','value']"
   ]
  },
  {
   "cell_type": "code",
   "execution_count": 37,
   "id": "continued-sleeping",
   "metadata": {
    "execution": {
     "iopub.execute_input": "2022-11-05T12:16:57.658126Z",
     "iopub.status.busy": "2022-11-05T12:16:57.657445Z",
     "iopub.status.idle": "2022-11-05T12:16:57.660781Z",
     "shell.execute_reply": "2022-11-05T12:16:57.659970Z"
    },
    "papermill": {
     "duration": 0.044651,
     "end_time": "2022-11-05T12:16:57.660969",
     "exception": false,
     "start_time": "2022-11-05T12:16:57.616318",
     "status": "completed"
    },
    "tags": []
   },
   "outputs": [],
   "source": [
    "#hide\n",
    "# g.rename(columns= {'date':'day'},inplace = True)"
   ]
  },
  {
   "cell_type": "code",
   "execution_count": 38,
   "id": "major-fight",
   "metadata": {
    "execution": {
     "iopub.execute_input": "2022-11-05T12:16:57.742368Z",
     "iopub.status.busy": "2022-11-05T12:16:57.741600Z",
     "iopub.status.idle": "2022-11-05T12:16:57.745238Z",
     "shell.execute_reply": "2022-11-05T12:16:57.744685Z"
    },
    "papermill": {
     "duration": 0.045936,
     "end_time": "2022-11-05T12:16:57.745409",
     "exception": false,
     "start_time": "2022-11-05T12:16:57.699473",
     "status": "completed"
    },
    "tags": []
   },
   "outputs": [],
   "source": [
    "#hide\n",
    "# g = g[cols]"
   ]
  },
  {
   "cell_type": "code",
   "execution_count": 39,
   "id": "structured-mobile",
   "metadata": {
    "execution": {
     "iopub.execute_input": "2022-11-05T12:16:57.829574Z",
     "iopub.status.busy": "2022-11-05T12:16:57.828786Z",
     "iopub.status.idle": "2022-11-05T12:16:57.831838Z",
     "shell.execute_reply": "2022-11-05T12:16:57.831205Z"
    },
    "papermill": {
     "duration": 0.04676,
     "end_time": "2022-11-05T12:16:57.831959",
     "exception": false,
     "start_time": "2022-11-05T12:16:57.785199",
     "status": "completed"
    },
    "tags": []
   },
   "outputs": [],
   "source": [
    "# #hide\n",
    "# g = g[g.group.notna()]"
   ]
  },
  {
   "cell_type": "code",
   "execution_count": 40,
   "id": "determined-closing",
   "metadata": {
    "execution": {
     "iopub.execute_input": "2022-11-05T12:16:57.913441Z",
     "iopub.status.busy": "2022-11-05T12:16:57.912612Z",
     "iopub.status.idle": "2022-11-05T12:16:57.917611Z",
     "shell.execute_reply": "2022-11-05T12:16:57.917004Z"
    },
    "papermill": {
     "duration": 0.046941,
     "end_time": "2022-11-05T12:16:57.917763",
     "exception": false,
     "start_time": "2022-11-05T12:16:57.870822",
     "status": "completed"
    },
    "tags": []
   },
   "outputs": [],
   "source": [
    "# #hide\n",
    "# colors = dict(zip(\n",
    "#     [\"Oceania\", \"Europe\", \"Asia\", \"South America\", \"Middle East\", \"North America\", \"Africa\"],\n",
    "#     [\"#adb0ff\", \"#ffb3ff\", \"#90d595\", \"#e48381\", \"#aafbff\", \"#f7bb5f\", \"#eafb50\"]\n",
    "# ))\n",
    "# group_lk = g.set_index('name')['group'].to_dict()"
   ]
  },
  {
   "cell_type": "code",
   "execution_count": null,
   "id": "gross-drinking",
   "metadata": {
    "papermill": {
     "duration": 0.036591,
     "end_time": "2022-11-05T12:16:57.992194",
     "exception": false,
     "start_time": "2022-11-05T12:16:57.955603",
     "status": "completed"
    },
    "tags": []
   },
   "outputs": [],
   "source": []
  },
  {
   "cell_type": "code",
   "execution_count": 41,
   "id": "subject-macintosh",
   "metadata": {
    "execution": {
     "iopub.execute_input": "2022-11-05T12:16:58.073270Z",
     "iopub.status.busy": "2022-11-05T12:16:58.072541Z",
     "iopub.status.idle": "2022-11-05T12:16:58.075840Z",
     "shell.execute_reply": "2022-11-05T12:16:58.075173Z"
    },
    "papermill": {
     "duration": 0.046802,
     "end_time": "2022-11-05T12:16:58.075958",
     "exception": false,
     "start_time": "2022-11-05T12:16:58.029156",
     "status": "completed"
    },
    "tags": []
   },
   "outputs": [],
   "source": [
    "# #hide\n",
    "# fig, ax = plt.subplots(figsize=(15, 8))\n",
    "\n",
    "# def draw_barchart(current_day):\n",
    "#     dff = g[g['day'].eq(current_day)].sort_values(by='value', ascending=True).tail(10)\n",
    "#     ax.clear()\n",
    "#     ax.barh(dff['name'], dff['value'], color=[colors[group_lk[x]] for x in dff['name']])\n",
    "#     dx = dff['value'].max() / 200\n",
    "    \n",
    "#     for i, (value, name) in enumerate(zip(dff['value'], dff['name'])):\n",
    "#         ax.text(value-dx, i,     name,           size=14, weight=600, ha='right', va='bottom')\n",
    "#         ax.text(value-dx, i-.25, group_lk[name], size=10, color='#444444', ha='right', va='baseline')\n",
    "#         ax.text(value+dx, i,     f'{value:,.0f}',  size=14, ha='left',  va='center')\n",
    "#     ax.text(1, 0.4, current_day, transform=ax.transAxes, color='#777777', size=46, ha='right', weight=800)\n",
    "#     ax.text(0, 1.06, 'Population (thousands)', transform=ax.transAxes, size=12, color='#777777')\n",
    "#     ax.xaxis.set_major_formatter(ticker.StrMethodFormatter('{x:,.0f}'))\n",
    "#     ax.xaxis.set_ticks_position('top')\n",
    "#     ax.tick_params(axis='x', colors='#777777', labelsize=12)\n",
    "#     ax.set_yticks([])\n",
    "#     ax.margins(0, 0.01)\n",
    "#     ax.grid(which='major', axis='x', linestyle='-')\n",
    "#     ax.set_axisbelow(True)\n",
    "    \n",
    "#     ax.text(0, 1.15, 'Coronavirus',\n",
    "#             transform=ax.transAxes, size=24, weight=600, ha='left', va='top')\n",
    "# #     ax.text(1, 0, 'by @pratapvardhan; credit @jburnmurdoch', transform=ax.transAxes, color='#777777', ha='right',\n",
    "# #             bbox=dict(facecolor='white', alpha=0.8, edgecolor='white'))\n",
    "#     plt.box(False)"
   ]
  },
  {
   "cell_type": "code",
   "execution_count": 42,
   "id": "sexual-wages",
   "metadata": {
    "execution": {
     "iopub.execute_input": "2022-11-05T12:16:58.154565Z",
     "iopub.status.busy": "2022-11-05T12:16:58.153677Z",
     "iopub.status.idle": "2022-11-05T12:16:58.157241Z",
     "shell.execute_reply": "2022-11-05T12:16:58.156675Z"
    },
    "papermill": {
     "duration": 0.043624,
     "end_time": "2022-11-05T12:16:58.157377",
     "exception": false,
     "start_time": "2022-11-05T12:16:58.113753",
     "status": "completed"
    },
    "tags": []
   },
   "outputs": [],
   "source": [
    "# #hide_input\n",
    "# fig, ax = plt.subplots(figsize=(15, 8))\n",
    "# animator = animation.FuncAnimation(fig, draw_barchart, frames=range(g.day.values.min(), g.day.values.max()))\n",
    "# HTML(animator.to_jshtml())\n",
    "# # or use animator.to_html5_video() or animator.save() "
   ]
  },
  {
   "cell_type": "code",
   "execution_count": null,
   "id": "australian-container",
   "metadata": {
    "papermill": {
     "duration": 0.03671,
     "end_time": "2022-11-05T12:16:58.230172",
     "exception": false,
     "start_time": "2022-11-05T12:16:58.193462",
     "status": "completed"
    },
    "tags": []
   },
   "outputs": [],
   "source": []
  },
  {
   "cell_type": "code",
   "execution_count": null,
   "id": "mediterranean-pontiac",
   "metadata": {
    "papermill": {
     "duration": 0.036406,
     "end_time": "2022-11-05T12:16:58.303241",
     "exception": false,
     "start_time": "2022-11-05T12:16:58.266835",
     "status": "completed"
    },
    "tags": []
   },
   "outputs": [],
   "source": []
  },
  {
   "cell_type": "code",
   "execution_count": null,
   "id": "aging-legislature",
   "metadata": {
    "papermill": {
     "duration": 0.035939,
     "end_time": "2022-11-05T12:16:58.374883",
     "exception": false,
     "start_time": "2022-11-05T12:16:58.338944",
     "status": "completed"
    },
    "tags": []
   },
   "outputs": [],
   "source": []
  }
 ],
 "metadata": {
  "kernelspec": {
   "display_name": "Python 3",
   "language": "python",
   "name": "python3"
  },
  "language_info": {
   "codemirror_mode": {
    "name": "ipython",
    "version": 3
   },
   "file_extension": ".py",
   "mimetype": "text/x-python",
   "name": "python",
   "nbconvert_exporter": "python",
   "pygments_lexer": "ipython3",
   "version": "3.6.15"
  },
  "papermill": {
   "duration": 7.135043,
   "end_time": "2022-11-05T12:16:58.729887",
   "environment_variables": {},
   "exception": null,
   "input_path": "2020-03-21-covid19exp.ipynb",
   "output_path": "2020-03-21-covid19exp.ipynb",
   "parameters": {},
   "start_time": "2022-11-05T12:16:51.594844",
   "version": "2.0.0"
  }
 },
 "nbformat": 4,
 "nbformat_minor": 5
}