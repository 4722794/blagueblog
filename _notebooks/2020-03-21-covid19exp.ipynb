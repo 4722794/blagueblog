{
 "cells": [
  {
   "cell_type": "markdown",
   "id": "muslim-click",
   "metadata": {
    "papermill": {
     "duration": 0.03721,
     "end_time": "2021-11-08T00:24:50.877601",
     "exception": false,
     "start_time": "2021-11-08T00:24:50.840391",
     "status": "completed"
    },
    "tags": []
   },
   "source": [
    "# COVID-19 Case Race\n",
    "> A race chart to see rising cases around the world\n",
    "\n",
    "- author: Hargun Oberoi\n",
    "- image: images/covid-overview.png\n",
    "- hide: false\n",
    "- badges: false"
   ]
  },
  {
   "cell_type": "code",
   "execution_count": 1,
   "id": "proof-material",
   "metadata": {
    "execution": {
     "iopub.execute_input": "2021-11-08T00:24:50.957339Z",
     "iopub.status.busy": "2021-11-08T00:24:50.956564Z",
     "iopub.status.idle": "2021-11-08T00:24:51.325398Z",
     "shell.execute_reply": "2021-11-08T00:24:51.324817Z"
    },
    "papermill": {
     "duration": 0.413712,
     "end_time": "2021-11-08T00:24:51.325546",
     "exception": false,
     "start_time": "2021-11-08T00:24:50.911834",
     "status": "completed"
    },
    "tags": []
   },
   "outputs": [],
   "source": [
    "#hide\n",
    "import numpy as np\n",
    "import pandas as pd\n",
    "from jinja2 import Template\n",
    "from IPython.display import HTML"
   ]
  },
  {
   "cell_type": "code",
   "execution_count": 2,
   "id": "developed-terminology",
   "metadata": {
    "execution": {
     "iopub.execute_input": "2021-11-08T00:24:51.395449Z",
     "iopub.status.busy": "2021-11-08T00:24:51.394892Z",
     "iopub.status.idle": "2021-11-08T00:24:51.397093Z",
     "shell.execute_reply": "2021-11-08T00:24:51.396636Z"
    },
    "papermill": {
     "duration": 0.038335,
     "end_time": "2021-11-08T00:24:51.397199",
     "exception": false,
     "start_time": "2021-11-08T00:24:51.358864",
     "status": "completed"
    },
    "tags": []
   },
   "outputs": [],
   "source": [
    "#hide\n",
    "\n",
    "# FETCH\n",
    "base_url = 'https://raw.githubusercontent.com/pratapvardhan/notebooks/master/covid19/'\n",
    "paths = {\n",
    "    'mapping': base_url + 'mapping_countries.csv',\n",
    "    'overview': base_url + 'overview.tpl'\n",
    "}"
   ]
  },
  {
   "cell_type": "code",
   "execution_count": 3,
   "id": "dynamic-saver",
   "metadata": {
    "execution": {
     "iopub.execute_input": "2021-11-08T00:24:51.474738Z",
     "iopub.status.busy": "2021-11-08T00:24:51.474158Z",
     "iopub.status.idle": "2021-11-08T00:24:51.476881Z",
     "shell.execute_reply": "2021-11-08T00:24:51.477298Z"
    },
    "papermill": {
     "duration": 0.048105,
     "end_time": "2021-11-08T00:24:51.477450",
     "exception": false,
     "start_time": "2021-11-08T00:24:51.429345",
     "status": "completed"
    },
    "tags": []
   },
   "outputs": [
    {
     "data": {
      "text/plain": [
       "'https://raw.githubusercontent.com/pratapvardhan/notebooks/master/covid19/mapping_countries.csv'"
      ]
     },
     "execution_count": 3,
     "metadata": {},
     "output_type": "execute_result"
    }
   ],
   "source": [
    "#hide\n",
    "paths['mapping']"
   ]
  },
  {
   "cell_type": "code",
   "execution_count": 4,
   "id": "urban-software",
   "metadata": {
    "execution": {
     "iopub.execute_input": "2021-11-08T00:24:51.546306Z",
     "iopub.status.busy": "2021-11-08T00:24:51.545764Z",
     "iopub.status.idle": "2021-11-08T00:24:51.548028Z",
     "shell.execute_reply": "2021-11-08T00:24:51.548524Z"
    },
    "papermill": {
     "duration": 0.040127,
     "end_time": "2021-11-08T00:24:51.548635",
     "exception": false,
     "start_time": "2021-11-08T00:24:51.508508",
     "status": "completed"
    },
    "tags": []
   },
   "outputs": [],
   "source": [
    "#hide\n",
    "def get_mappings(url):\n",
    "    df = pd.read_csv(url)\n",
    "    return {\n",
    "        'df': df,\n",
    "        'replace.country': dict(df.dropna(subset=['Name']).set_index('Country')['Name']),\n",
    "        'map.continent': dict(df.set_index('Name')['Continent'])\n",
    "    }"
   ]
  },
  {
   "cell_type": "code",
   "execution_count": 5,
   "id": "intimate-machinery",
   "metadata": {
    "execution": {
     "iopub.execute_input": "2021-11-08T00:24:51.617951Z",
     "iopub.status.busy": "2021-11-08T00:24:51.617398Z",
     "iopub.status.idle": "2021-11-08T00:24:51.659738Z",
     "shell.execute_reply": "2021-11-08T00:24:51.659215Z"
    },
    "papermill": {
     "duration": 0.078658,
     "end_time": "2021-11-08T00:24:51.659858",
     "exception": false,
     "start_time": "2021-11-08T00:24:51.581200",
     "status": "completed"
    },
    "tags": []
   },
   "outputs": [],
   "source": [
    "#hide\n",
    "mapping = get_mappings(paths['mapping'])"
   ]
  },
  {
   "cell_type": "code",
   "execution_count": 6,
   "id": "certified-tactics",
   "metadata": {
    "execution": {
     "iopub.execute_input": "2021-11-08T00:24:51.730885Z",
     "iopub.status.busy": "2021-11-08T00:24:51.730339Z",
     "iopub.status.idle": "2021-11-08T00:24:51.734887Z",
     "shell.execute_reply": "2021-11-08T00:24:51.734097Z"
    },
    "papermill": {
     "duration": 0.042622,
     "end_time": "2021-11-08T00:24:51.735018",
     "exception": false,
     "start_time": "2021-11-08T00:24:51.692396",
     "status": "completed"
    },
    "tags": []
   },
   "outputs": [],
   "source": [
    "#hide\n",
    "def get_template(path):\n",
    "    from urllib.parse import urlparse\n",
    "    if bool(urlparse(path).netloc):\n",
    "        from urllib.request import urlopen\n",
    "        return urlopen(path).read().decode('utf8')\n",
    "    return open(path).read()"
   ]
  },
  {
   "cell_type": "code",
   "execution_count": 7,
   "id": "realistic-blast",
   "metadata": {
    "execution": {
     "iopub.execute_input": "2021-11-08T00:24:51.808343Z",
     "iopub.status.busy": "2021-11-08T00:24:51.807789Z",
     "iopub.status.idle": "2021-11-08T00:24:51.810755Z",
     "shell.execute_reply": "2021-11-08T00:24:51.810100Z"
    },
    "papermill": {
     "duration": 0.041586,
     "end_time": "2021-11-08T00:24:51.810865",
     "exception": false,
     "start_time": "2021-11-08T00:24:51.769279",
     "status": "completed"
    },
    "tags": []
   },
   "outputs": [],
   "source": [
    "#hide\n",
    "def get_frame(name):\n",
    "    url = (\n",
    "        'https://raw.githubusercontent.com/CSSEGISandData/COVID-19/master/csse_covid_19_data/'\n",
    "        f'csse_covid_19_time_series/time_series_covid19_{name}_global.csv')\n",
    "    df = pd.read_csv(url)\n",
    "    # rename countries\n",
    "    df['Country/Region'] = df['Country/Region'].replace(mapping['replace.country'])\n",
    "    return df"
   ]
  },
  {
   "cell_type": "code",
   "execution_count": 8,
   "id": "affiliated-characterization",
   "metadata": {
    "execution": {
     "iopub.execute_input": "2021-11-08T00:24:51.881827Z",
     "iopub.status.busy": "2021-11-08T00:24:51.881245Z",
     "iopub.status.idle": "2021-11-08T00:24:51.883767Z",
     "shell.execute_reply": "2021-11-08T00:24:51.883218Z"
    },
    "papermill": {
     "duration": 0.041335,
     "end_time": "2021-11-08T00:24:51.883924",
     "exception": false,
     "start_time": "2021-11-08T00:24:51.842589",
     "status": "completed"
    },
    "tags": []
   },
   "outputs": [],
   "source": [
    "#hide\n",
    "def get_dates(df):\n",
    "    dt_cols = df.columns[~df.columns.isin(['Province/State', 'Country/Region', 'Lat', 'Long'])]\n",
    "    LAST_DATE_I = -1\n",
    "    # sometimes last column may be empty, then go backwards\n",
    "    for i in range(-1, -len(dt_cols), -1):\n",
    "        if not df[dt_cols[i]].fillna(0).eq(0).all():\n",
    "            LAST_DATE_I = i\n",
    "            break\n",
    "    return LAST_DATE_I, dt_cols"
   ]
  },
  {
   "cell_type": "code",
   "execution_count": 9,
   "id": "recent-optimization",
   "metadata": {
    "execution": {
     "iopub.execute_input": "2021-11-08T00:24:51.952597Z",
     "iopub.status.busy": "2021-11-08T00:24:51.951852Z",
     "iopub.status.idle": "2021-11-08T00:24:52.403047Z",
     "shell.execute_reply": "2021-11-08T00:24:52.402405Z"
    },
    "papermill": {
     "duration": 0.487659,
     "end_time": "2021-11-08T00:24:52.403177",
     "exception": false,
     "start_time": "2021-11-08T00:24:51.915518",
     "status": "completed"
    },
    "tags": []
   },
   "outputs": [],
   "source": [
    "#hide\n",
    "COL_REGION = 'Country/Region'\n",
    "# Confirmed, Recovered, Deaths\n",
    "df = get_frame('confirmed')\n",
    "# dft_: timeseries, dfc_: today country agg\n",
    "dft_cases = df\n",
    "dft_deaths = get_frame('deaths')\n",
    "dft_recovered = get_frame('recovered')\n",
    "LAST_DATE_I, dt_cols = get_dates(df)"
   ]
  },
  {
   "cell_type": "code",
   "execution_count": 10,
   "id": "absolute-copper",
   "metadata": {
    "execution": {
     "iopub.execute_input": "2021-11-08T00:24:52.480075Z",
     "iopub.status.busy": "2021-11-08T00:24:52.479503Z",
     "iopub.status.idle": "2021-11-08T00:24:52.481486Z",
     "shell.execute_reply": "2021-11-08T00:24:52.481930Z"
    },
    "papermill": {
     "duration": 0.045976,
     "end_time": "2021-11-08T00:24:52.484400",
     "exception": false,
     "start_time": "2021-11-08T00:24:52.438424",
     "status": "completed"
    },
    "tags": []
   },
   "outputs": [],
   "source": [
    "#hide\n",
    "LAST_DATE_I, dt_cols = get_dates(df)\n",
    "dt_today =dt_cols[LAST_DATE_I]\n",
    "# dt_5day = dt_cols[LAST_DATE_I - 5]\n",
    "dt_yday = dt_cols[LAST_DATE_I - 1]"
   ]
  },
  {
   "cell_type": "code",
   "execution_count": 11,
   "id": "restricted-sheriff",
   "metadata": {
    "execution": {
     "iopub.execute_input": "2021-11-08T00:24:52.556580Z",
     "iopub.status.busy": "2021-11-08T00:24:52.555998Z",
     "iopub.status.idle": "2021-11-08T00:24:52.565096Z",
     "shell.execute_reply": "2021-11-08T00:24:52.565612Z"
    },
    "papermill": {
     "duration": 0.049049,
     "end_time": "2021-11-08T00:24:52.565734",
     "exception": false,
     "start_time": "2021-11-08T00:24:52.516685",
     "status": "completed"
    },
    "tags": []
   },
   "outputs": [],
   "source": [
    "#hide\n",
    "dfc_cases = dft_cases.groupby(COL_REGION)[dt_today].sum()\n",
    "dfc_deaths = dft_deaths.groupby(COL_REGION)[dt_today].sum()\n",
    "# dfp_cases = dft_cases.groupby(COL_REGION)[dt_5day].sum()\n",
    "# dfp_deaths = dft_deaths.groupby(COL_REGION)[dt_5day].sum()\n",
    "dfp_cases = dft_cases.groupby(COL_REGION)[dt_yday].sum()\n",
    "dfp_deaths = dft_deaths.groupby(COL_REGION)[dt_yday].sum()"
   ]
  },
  {
   "cell_type": "code",
   "execution_count": 12,
   "id": "deluxe-hepatitis",
   "metadata": {
    "execution": {
     "iopub.execute_input": "2021-11-08T00:24:52.633091Z",
     "iopub.status.busy": "2021-11-08T00:24:52.632543Z",
     "iopub.status.idle": "2021-11-08T00:24:52.639221Z",
     "shell.execute_reply": "2021-11-08T00:24:52.638694Z"
    },
    "papermill": {
     "duration": 0.043241,
     "end_time": "2021-11-08T00:24:52.639332",
     "exception": false,
     "start_time": "2021-11-08T00:24:52.596091",
     "status": "completed"
    },
    "tags": []
   },
   "outputs": [],
   "source": [
    "#hide\n",
    "df_table = (pd.DataFrame(dict(Cases = dfc_cases, Deaths = dfc_deaths, PCases = dfp_cases, PDeaths = dfp_deaths))\n",
    "            .sort_values(by = ['Cases','Deaths'], ascending = [False, False])\n",
    "            .reset_index())"
   ]
  },
  {
   "cell_type": "code",
   "execution_count": 13,
   "id": "educational-chancellor",
   "metadata": {
    "execution": {
     "iopub.execute_input": "2021-11-08T00:24:52.733503Z",
     "iopub.status.busy": "2021-11-08T00:24:52.732831Z",
     "iopub.status.idle": "2021-11-08T00:24:52.736112Z",
     "shell.execute_reply": "2021-11-08T00:24:52.736717Z"
    },
    "papermill": {
     "duration": 0.061407,
     "end_time": "2021-11-08T00:24:52.736848",
     "exception": false,
     "start_time": "2021-11-08T00:24:52.675441",
     "status": "completed"
    },
    "tags": []
   },
   "outputs": [
    {
     "data": {
      "text/html": [
       "<div>\n",
       "<style scoped>\n",
       "    .dataframe tbody tr th:only-of-type {\n",
       "        vertical-align: middle;\n",
       "    }\n",
       "\n",
       "    .dataframe tbody tr th {\n",
       "        vertical-align: top;\n",
       "    }\n",
       "\n",
       "    .dataframe thead th {\n",
       "        text-align: right;\n",
       "    }\n",
       "</style>\n",
       "<table border=\"1\" class=\"dataframe\">\n",
       "  <thead>\n",
       "    <tr style=\"text-align: right;\">\n",
       "      <th></th>\n",
       "      <th>Country/Region</th>\n",
       "      <th>Cases</th>\n",
       "      <th>Deaths</th>\n",
       "      <th>PCases</th>\n",
       "      <th>PDeaths</th>\n",
       "      <th>Cases (+)</th>\n",
       "      <th>Deaths (+)</th>\n",
       "      <th>Fatality Rate</th>\n",
       "      <th>Continent</th>\n",
       "    </tr>\n",
       "  </thead>\n",
       "  <tbody>\n",
       "    <tr>\n",
       "      <th>0</th>\n",
       "      <td>US</td>\n",
       "      <td>46461714</td>\n",
       "      <td>754278</td>\n",
       "      <td>46435967</td>\n",
       "      <td>753926</td>\n",
       "      <td>25747</td>\n",
       "      <td>352</td>\n",
       "      <td>1.62</td>\n",
       "      <td>North America</td>\n",
       "    </tr>\n",
       "    <tr>\n",
       "      <th>1</th>\n",
       "      <td>India</td>\n",
       "      <td>34355509</td>\n",
       "      <td>460791</td>\n",
       "      <td>34344683</td>\n",
       "      <td>460265</td>\n",
       "      <td>10826</td>\n",
       "      <td>526</td>\n",
       "      <td>1.34</td>\n",
       "      <td>Asia</td>\n",
       "    </tr>\n",
       "    <tr>\n",
       "      <th>2</th>\n",
       "      <td>Brazil</td>\n",
       "      <td>21874324</td>\n",
       "      <td>609388</td>\n",
       "      <td>21862458</td>\n",
       "      <td>609060</td>\n",
       "      <td>11866</td>\n",
       "      <td>328</td>\n",
       "      <td>2.79</td>\n",
       "      <td>South America</td>\n",
       "    </tr>\n",
       "    <tr>\n",
       "      <th>3</th>\n",
       "      <td>United Kingdom</td>\n",
       "      <td>9317072</td>\n",
       "      <td>142174</td>\n",
       "      <td>9286618</td>\n",
       "      <td>142019</td>\n",
       "      <td>30454</td>\n",
       "      <td>155</td>\n",
       "      <td>1.53</td>\n",
       "      <td>Europe</td>\n",
       "    </tr>\n",
       "    <tr>\n",
       "      <th>4</th>\n",
       "      <td>Russia</td>\n",
       "      <td>8613533</td>\n",
       "      <td>241095</td>\n",
       "      <td>8573323</td>\n",
       "      <td>239943</td>\n",
       "      <td>40210</td>\n",
       "      <td>1152</td>\n",
       "      <td>2.80</td>\n",
       "      <td>Europe</td>\n",
       "    </tr>\n",
       "  </tbody>\n",
       "</table>\n",
       "</div>"
      ],
      "text/plain": [
       "   Country/Region     Cases  Deaths    PCases  PDeaths  Cases (+)  Deaths (+)  \\\n",
       "0              US  46461714  754278  46435967   753926      25747         352   \n",
       "1           India  34355509  460791  34344683   460265      10826         526   \n",
       "2          Brazil  21874324  609388  21862458   609060      11866         328   \n",
       "3  United Kingdom   9317072  142174   9286618   142019      30454         155   \n",
       "4          Russia   8613533  241095   8573323   239943      40210        1152   \n",
       "\n",
       "   Fatality Rate      Continent  \n",
       "0           1.62  North America  \n",
       "1           1.34           Asia  \n",
       "2           2.79  South America  \n",
       "3           1.53         Europe  \n",
       "4           2.80         Europe  "
      ]
     },
     "execution_count": 13,
     "metadata": {},
     "output_type": "execute_result"
    }
   ],
   "source": [
    "#hide\n",
    "for c in 'Cases, Deaths'.split(', '):\n",
    "    df_table[f'{c} (+)'] = (df_table[c] - df_table[f'P{c}']).clip(0)\n",
    "    #Clip ça veut dire, les chiffres negatif sont interdit\n",
    "df_table['Fatality Rate'] = (100* df_table['Deaths']/ df_table['Cases']).round(2)\n",
    "df_table['Continent'] = df_table['Country/Region'].map(mapping['map.continent'])\n",
    "df_table.head(5)"
   ]
  },
  {
   "cell_type": "code",
   "execution_count": 14,
   "id": "aboriginal-bulgaria",
   "metadata": {
    "execution": {
     "iopub.execute_input": "2021-11-08T00:24:52.811569Z",
     "iopub.status.busy": "2021-11-08T00:24:52.810990Z",
     "iopub.status.idle": "2021-11-08T00:24:52.813130Z",
     "shell.execute_reply": "2021-11-08T00:24:52.813693Z"
    },
    "papermill": {
     "duration": 0.041088,
     "end_time": "2021-11-08T00:24:52.813825",
     "exception": false,
     "start_time": "2021-11-08T00:24:52.772737",
     "status": "completed"
    },
    "tags": []
   },
   "outputs": [],
   "source": [
    "#hide\n",
    "#delete problematic countries from table\n",
    "df_table = df_table[~df_table['Country/Region'].isin(['Cape Verde', 'Cruise Ship', 'Kosovo'])]"
   ]
  },
  {
   "cell_type": "code",
   "execution_count": 15,
   "id": "fantastic-effect",
   "metadata": {
    "execution": {
     "iopub.execute_input": "2021-11-08T00:24:52.887780Z",
     "iopub.status.busy": "2021-11-08T00:24:52.887243Z",
     "iopub.status.idle": "2021-11-08T00:24:52.907954Z",
     "shell.execute_reply": "2021-11-08T00:24:52.908712Z"
    },
    "papermill": {
     "duration": 0.061304,
     "end_time": "2021-11-08T00:24:52.908932",
     "exception": false,
     "start_time": "2021-11-08T00:24:52.847628",
     "status": "completed"
    },
    "tags": []
   },
   "outputs": [
    {
     "data": {
      "text/html": [
       "<div>\n",
       "<style scoped>\n",
       "    .dataframe tbody tr th:only-of-type {\n",
       "        vertical-align: middle;\n",
       "    }\n",
       "\n",
       "    .dataframe tbody tr th {\n",
       "        vertical-align: top;\n",
       "    }\n",
       "\n",
       "    .dataframe thead th {\n",
       "        text-align: right;\n",
       "    }\n",
       "</style>\n",
       "<table border=\"1\" class=\"dataframe\">\n",
       "  <thead>\n",
       "    <tr style=\"text-align: right;\">\n",
       "      <th></th>\n",
       "      <th>Country/Region</th>\n",
       "      <th>Cases</th>\n",
       "      <th>Deaths</th>\n",
       "      <th>PCases</th>\n",
       "      <th>PDeaths</th>\n",
       "      <th>Cases (+)</th>\n",
       "      <th>Deaths (+)</th>\n",
       "      <th>Fatality Rate</th>\n",
       "      <th>Continent</th>\n",
       "    </tr>\n",
       "  </thead>\n",
       "  <tbody>\n",
       "    <tr>\n",
       "      <th>0</th>\n",
       "      <td>US</td>\n",
       "      <td>46461714</td>\n",
       "      <td>754278</td>\n",
       "      <td>46435967</td>\n",
       "      <td>753926</td>\n",
       "      <td>25747</td>\n",
       "      <td>352</td>\n",
       "      <td>1.6</td>\n",
       "      <td>North America</td>\n",
       "    </tr>\n",
       "    <tr>\n",
       "      <th>1</th>\n",
       "      <td>India</td>\n",
       "      <td>34355509</td>\n",
       "      <td>460791</td>\n",
       "      <td>34344683</td>\n",
       "      <td>460265</td>\n",
       "      <td>10826</td>\n",
       "      <td>526</td>\n",
       "      <td>1.3</td>\n",
       "      <td>Asia</td>\n",
       "    </tr>\n",
       "    <tr>\n",
       "      <th>2</th>\n",
       "      <td>Brazil</td>\n",
       "      <td>21874324</td>\n",
       "      <td>609388</td>\n",
       "      <td>21862458</td>\n",
       "      <td>609060</td>\n",
       "      <td>11866</td>\n",
       "      <td>328</td>\n",
       "      <td>2.8</td>\n",
       "      <td>South America</td>\n",
       "    </tr>\n",
       "    <tr>\n",
       "      <th>3</th>\n",
       "      <td>United Kingdom</td>\n",
       "      <td>9317072</td>\n",
       "      <td>142174</td>\n",
       "      <td>9286618</td>\n",
       "      <td>142019</td>\n",
       "      <td>30454</td>\n",
       "      <td>155</td>\n",
       "      <td>1.5</td>\n",
       "      <td>Europe</td>\n",
       "    </tr>\n",
       "    <tr>\n",
       "      <th>4</th>\n",
       "      <td>Russia</td>\n",
       "      <td>8613533</td>\n",
       "      <td>241095</td>\n",
       "      <td>8573323</td>\n",
       "      <td>239943</td>\n",
       "      <td>40210</td>\n",
       "      <td>1152</td>\n",
       "      <td>2.8</td>\n",
       "      <td>Europe</td>\n",
       "    </tr>\n",
       "  </tbody>\n",
       "</table>\n",
       "</div>"
      ],
      "text/plain": [
       "   Country/Region     Cases  Deaths    PCases  PDeaths  Cases (+)  Deaths (+)  \\\n",
       "0              US  46461714  754278  46435967   753926      25747         352   \n",
       "1           India  34355509  460791  34344683   460265      10826         526   \n",
       "2          Brazil  21874324  609388  21862458   609060      11866         328   \n",
       "3  United Kingdom   9317072  142174   9286618   142019      30454         155   \n",
       "4          Russia   8613533  241095   8573323   239943      40210        1152   \n",
       "\n",
       "   Fatality Rate      Continent  \n",
       "0            1.6  North America  \n",
       "1            1.3           Asia  \n",
       "2            2.8  South America  \n",
       "3            1.5         Europe  \n",
       "4            2.8         Europe  "
      ]
     },
     "execution_count": 15,
     "metadata": {},
     "output_type": "execute_result"
    }
   ],
   "source": [
    "#hide\n",
    "df_table = (pd.DataFrame(dict(Cases=dfc_cases, Deaths=dfc_deaths, PCases=dfp_cases, PDeaths=dfp_deaths))\n",
    "             .sort_values(by=['Cases', 'Deaths'], ascending=[False, False])\n",
    "             .reset_index())\n",
    "df_table.rename(columns={'index': 'Country/Region'}, inplace=True)\n",
    "for c in 'Cases, Deaths'.split(', '):\n",
    "    df_table[f'{c} (+)'] = (df_table[c] - df_table[f'P{c}']).clip(0)  # DATA BUG\n",
    "df_table['Fatality Rate'] = (100 * df_table['Deaths'] / df_table['Cases']).round(1)\n",
    "df_table['Continent'] = df_table['Country/Region'].map(mapping['map.continent'])\n",
    "df_table.head(5)"
   ]
  },
  {
   "cell_type": "code",
   "execution_count": 16,
   "id": "fewer-occasion",
   "metadata": {
    "execution": {
     "iopub.execute_input": "2021-11-08T00:24:52.979683Z",
     "iopub.status.busy": "2021-11-08T00:24:52.978900Z",
     "iopub.status.idle": "2021-11-08T00:24:52.985178Z",
     "shell.execute_reply": "2021-11-08T00:24:52.984417Z"
    },
    "papermill": {
     "duration": 0.044632,
     "end_time": "2021-11-08T00:24:52.985286",
     "exception": false,
     "start_time": "2021-11-08T00:24:52.940654",
     "status": "completed"
    },
    "tags": []
   },
   "outputs": [],
   "source": [
    "#hide\n",
    "#delete problematic countries from table\n",
    "df_table = df_table[~df_table['Country/Region'].isin(['Cape Verde', 'Cruise Ship', 'Kosovo'])]"
   ]
  },
  {
   "cell_type": "code",
   "execution_count": 17,
   "id": "related-center",
   "metadata": {
    "execution": {
     "iopub.execute_input": "2021-11-08T00:24:53.060873Z",
     "iopub.status.busy": "2021-11-08T00:24:53.060207Z",
     "iopub.status.idle": "2021-11-08T00:24:53.073018Z",
     "shell.execute_reply": "2021-11-08T00:24:53.073565Z"
    },
    "papermill": {
     "duration": 0.053921,
     "end_time": "2021-11-08T00:24:53.073723",
     "exception": false,
     "start_time": "2021-11-08T00:24:53.019802",
     "status": "completed"
    },
    "tags": []
   },
   "outputs": [],
   "source": [
    "#hide\n",
    "metrics = [df_table.columns[index] for index in [1,2,5,6]]\n",
    "# s_china = df_table[df_table['Country/Region'].eq('China')][metrics].sum().add_prefix('China ')\n",
    "s_us = df_table[df_table['Country/Region'].eq('US')][metrics].sum().add_prefix('US ')\n",
    "s_eu = df_table[df_table['Continent'].eq('Europe')][metrics].sum().add_prefix('EU ')\n",
    "s_ind = df_table[df_table['Country/Region'].eq('India')][metrics].sum().add_prefix('India ')\n",
    "summary = {'updated': pd.to_datetime(dt_today), 'since': pd.to_datetime(dt_yday)}\n",
    "summary = {'updated': pd.to_datetime(dt_today), 'since': pd.to_datetime(dt_yday)}\n",
    "summary = {**summary, **df_table[metrics].sum(), **s_ind, **s_us, **s_eu}"
   ]
  },
  {
   "cell_type": "code",
   "execution_count": 18,
   "id": "engaging-syndrome",
   "metadata": {
    "execution": {
     "iopub.execute_input": "2021-11-08T00:24:53.149763Z",
     "iopub.status.busy": "2021-11-08T00:24:53.148816Z",
     "iopub.status.idle": "2021-11-08T00:24:53.163072Z",
     "shell.execute_reply": "2021-11-08T00:24:53.163594Z"
    },
    "papermill": {
     "duration": 0.055267,
     "end_time": "2021-11-08T00:24:53.163722",
     "exception": false,
     "start_time": "2021-11-08T00:24:53.108455",
     "status": "completed"
    },
    "tags": []
   },
   "outputs": [],
   "source": [
    "#hide\n",
    "dft_ct_new_cases = dft_cases.groupby(COL_REGION)[dt_cols].sum().diff(axis=1).fillna(0).astype(int)"
   ]
  },
  {
   "cell_type": "code",
   "execution_count": 19,
   "id": "neutral-assignment",
   "metadata": {
    "execution": {
     "iopub.execute_input": "2021-11-08T00:24:53.240298Z",
     "iopub.status.busy": "2021-11-08T00:24:53.239608Z",
     "iopub.status.idle": "2021-11-08T00:24:53.243819Z",
     "shell.execute_reply": "2021-11-08T00:24:53.243330Z"
    },
    "papermill": {
     "duration": 0.0464,
     "end_time": "2021-11-08T00:24:53.243934",
     "exception": false,
     "start_time": "2021-11-08T00:24:53.197534",
     "status": "completed"
    },
    "tags": []
   },
   "outputs": [],
   "source": [
    "#hide\n",
    "everydaycases = dft_ct_new_cases.cumsum(axis=1)"
   ]
  },
  {
   "cell_type": "code",
   "execution_count": 20,
   "id": "parliamentary-calgary",
   "metadata": {
    "execution": {
     "iopub.execute_input": "2021-11-08T00:24:53.319018Z",
     "iopub.status.busy": "2021-11-08T00:24:53.315960Z",
     "iopub.status.idle": "2021-11-08T00:24:53.886196Z",
     "shell.execute_reply": "2021-11-08T00:24:53.886670Z"
    },
    "papermill": {
     "duration": 0.608796,
     "end_time": "2021-11-08T00:24:53.886831",
     "exception": false,
     "start_time": "2021-11-08T00:24:53.278035",
     "status": "completed"
    },
    "tags": []
   },
   "outputs": [],
   "source": [
    "#hide\n",
    "import pandas as pd\n",
    "import matplotlib.pyplot as plt\n",
    "import matplotlib.ticker as ticker\n",
    "import matplotlib.animation as animation\n",
    "from IPython.display import HTML"
   ]
  },
  {
   "cell_type": "code",
   "execution_count": 21,
   "id": "lasting-extraction",
   "metadata": {
    "execution": {
     "iopub.execute_input": "2021-11-08T00:24:53.964579Z",
     "iopub.status.busy": "2021-11-08T00:24:53.963997Z",
     "iopub.status.idle": "2021-11-08T00:24:53.971445Z",
     "shell.execute_reply": "2021-11-08T00:24:53.970951Z"
    },
    "papermill": {
     "duration": 0.049132,
     "end_time": "2021-11-08T00:24:53.971566",
     "exception": false,
     "start_time": "2021-11-08T00:24:53.922434",
     "status": "completed"
    },
    "tags": []
   },
   "outputs": [],
   "source": [
    "#hide\n",
    "t = everydaycases.stack()"
   ]
  },
  {
   "cell_type": "code",
   "execution_count": 22,
   "id": "premier-sleeve",
   "metadata": {
    "execution": {
     "iopub.execute_input": "2021-11-08T00:24:54.046336Z",
     "iopub.status.busy": "2021-11-08T00:24:54.045766Z",
     "iopub.status.idle": "2021-11-08T00:24:54.056163Z",
     "shell.execute_reply": "2021-11-08T00:24:54.056726Z"
    },
    "papermill": {
     "duration": 0.051385,
     "end_time": "2021-11-08T00:24:54.056865",
     "exception": false,
     "start_time": "2021-11-08T00:24:54.005480",
     "status": "completed"
    },
    "tags": []
   },
   "outputs": [],
   "source": [
    "#hide\n",
    "g = t.reset_index(['Country/Region'])"
   ]
  },
  {
   "cell_type": "code",
   "execution_count": 23,
   "id": "distributed-pittsburgh",
   "metadata": {
    "execution": {
     "iopub.execute_input": "2021-11-08T00:24:54.136540Z",
     "iopub.status.busy": "2021-11-08T00:24:54.135891Z",
     "iopub.status.idle": "2021-11-08T00:24:54.138295Z",
     "shell.execute_reply": "2021-11-08T00:24:54.137755Z"
    },
    "papermill": {
     "duration": 0.040949,
     "end_time": "2021-11-08T00:24:54.138407",
     "exception": false,
     "start_time": "2021-11-08T00:24:54.097458",
     "status": "completed"
    },
    "tags": []
   },
   "outputs": [],
   "source": [
    "#hide\n",
    "g.index.name = 'date'"
   ]
  },
  {
   "cell_type": "code",
   "execution_count": 24,
   "id": "naked-donor",
   "metadata": {
    "execution": {
     "iopub.execute_input": "2021-11-08T00:24:54.218325Z",
     "iopub.status.busy": "2021-11-08T00:24:54.217767Z",
     "iopub.status.idle": "2021-11-08T00:24:54.221373Z",
     "shell.execute_reply": "2021-11-08T00:24:54.222279Z"
    },
    "papermill": {
     "duration": 0.049717,
     "end_time": "2021-11-08T00:24:54.222472",
     "exception": false,
     "start_time": "2021-11-08T00:24:54.172755",
     "status": "completed"
    },
    "tags": []
   },
   "outputs": [],
   "source": [
    "# #hide\n",
    "# g = g.reset_index(['date'])"
   ]
  },
  {
   "cell_type": "code",
   "execution_count": 25,
   "id": "incomplete-mustang",
   "metadata": {
    "execution": {
     "iopub.execute_input": "2021-11-08T00:24:54.294026Z",
     "iopub.status.busy": "2021-11-08T00:24:54.293354Z",
     "iopub.status.idle": "2021-11-08T00:24:54.295081Z",
     "shell.execute_reply": "2021-11-08T00:24:54.295494Z"
    },
    "papermill": {
     "duration": 0.03904,
     "end_time": "2021-11-08T00:24:54.295614",
     "exception": false,
     "start_time": "2021-11-08T00:24:54.256574",
     "status": "completed"
    },
    "tags": []
   },
   "outputs": [],
   "source": [
    "#hide\n",
    "# g.head()"
   ]
  },
  {
   "cell_type": "code",
   "execution_count": 26,
   "id": "specific-kruger",
   "metadata": {
    "execution": {
     "iopub.execute_input": "2021-11-08T00:24:54.371713Z",
     "iopub.status.busy": "2021-11-08T00:24:54.371157Z",
     "iopub.status.idle": "2021-11-08T00:24:54.373626Z",
     "shell.execute_reply": "2021-11-08T00:24:54.373022Z"
    },
    "papermill": {
     "duration": 0.043392,
     "end_time": "2021-11-08T00:24:54.373797",
     "exception": false,
     "start_time": "2021-11-08T00:24:54.330405",
     "status": "completed"
    },
    "tags": []
   },
   "outputs": [],
   "source": [
    "#hide\n",
    "# g.columns = ['date','country','cases']"
   ]
  },
  {
   "cell_type": "code",
   "execution_count": 27,
   "id": "tender-conversion",
   "metadata": {
    "execution": {
     "iopub.execute_input": "2021-11-08T00:24:54.443349Z",
     "iopub.status.busy": "2021-11-08T00:24:54.442758Z",
     "iopub.status.idle": "2021-11-08T00:24:54.446935Z",
     "shell.execute_reply": "2021-11-08T00:24:54.446410Z"
    },
    "papermill": {
     "duration": 0.041597,
     "end_time": "2021-11-08T00:24:54.447064",
     "exception": false,
     "start_time": "2021-11-08T00:24:54.405467",
     "status": "completed"
    },
    "tags": []
   },
   "outputs": [],
   "source": [
    "#hide\n",
    "# g['continent'] = g.country"
   ]
  },
  {
   "cell_type": "code",
   "execution_count": 28,
   "id": "substantial-wilderness",
   "metadata": {
    "execution": {
     "iopub.execute_input": "2021-11-08T00:24:54.519858Z",
     "iopub.status.busy": "2021-11-08T00:24:54.519255Z",
     "iopub.status.idle": "2021-11-08T00:24:54.521073Z",
     "shell.execute_reply": "2021-11-08T00:24:54.521575Z"
    },
    "papermill": {
     "duration": 0.039373,
     "end_time": "2021-11-08T00:24:54.521693",
     "exception": false,
     "start_time": "2021-11-08T00:24:54.482320",
     "status": "completed"
    },
    "tags": []
   },
   "outputs": [],
   "source": [
    "#hide\n",
    "# cols = list(g.columns.values)"
   ]
  },
  {
   "cell_type": "code",
   "execution_count": 29,
   "id": "solved-farming",
   "metadata": {
    "execution": {
     "iopub.execute_input": "2021-11-08T00:24:54.599658Z",
     "iopub.status.busy": "2021-11-08T00:24:54.599092Z",
     "iopub.status.idle": "2021-11-08T00:24:54.600918Z",
     "shell.execute_reply": "2021-11-08T00:24:54.601516Z"
    },
    "papermill": {
     "duration": 0.040644,
     "end_time": "2021-11-08T00:24:54.601685",
     "exception": false,
     "start_time": "2021-11-08T00:24:54.561041",
     "status": "completed"
    },
    "tags": []
   },
   "outputs": [],
   "source": [
    "#hide\n",
    "# cols.insert(0, cols.pop())"
   ]
  },
  {
   "cell_type": "code",
   "execution_count": 30,
   "id": "executed-adoption",
   "metadata": {
    "execution": {
     "iopub.execute_input": "2021-11-08T00:24:54.678128Z",
     "iopub.status.busy": "2021-11-08T00:24:54.677580Z",
     "iopub.status.idle": "2021-11-08T00:24:54.679419Z",
     "shell.execute_reply": "2021-11-08T00:24:54.679835Z"
    },
    "papermill": {
     "duration": 0.043282,
     "end_time": "2021-11-08T00:24:54.679965",
     "exception": false,
     "start_time": "2021-11-08T00:24:54.636683",
     "status": "completed"
    },
    "tags": []
   },
   "outputs": [],
   "source": [
    "#hide\n",
    "# g = g[cols]"
   ]
  },
  {
   "cell_type": "code",
   "execution_count": 31,
   "id": "subject-dublin",
   "metadata": {
    "execution": {
     "iopub.execute_input": "2021-11-08T00:24:54.761931Z",
     "iopub.status.busy": "2021-11-08T00:24:54.761246Z",
     "iopub.status.idle": "2021-11-08T00:24:54.764145Z",
     "shell.execute_reply": "2021-11-08T00:24:54.764607Z"
    },
    "papermill": {
     "duration": 0.049933,
     "end_time": "2021-11-08T00:24:54.764747",
     "exception": false,
     "start_time": "2021-11-08T00:24:54.714814",
     "status": "completed"
    },
    "tags": []
   },
   "outputs": [],
   "source": [
    "#hide\n",
    "# g['continent'] = g['continent'].map(mapping['map.continent'])"
   ]
  },
  {
   "cell_type": "code",
   "execution_count": 32,
   "id": "freelance-scout",
   "metadata": {
    "execution": {
     "iopub.execute_input": "2021-11-08T00:24:54.841132Z",
     "iopub.status.busy": "2021-11-08T00:24:54.840559Z",
     "iopub.status.idle": "2021-11-08T00:24:54.844020Z",
     "shell.execute_reply": "2021-11-08T00:24:54.844461Z"
    },
    "papermill": {
     "duration": 0.040991,
     "end_time": "2021-11-08T00:24:54.844590",
     "exception": false,
     "start_time": "2021-11-08T00:24:54.803599",
     "status": "completed"
    },
    "tags": []
   },
   "outputs": [],
   "source": [
    "#hide\n",
    "# g.head()"
   ]
  },
  {
   "cell_type": "code",
   "execution_count": 33,
   "id": "limited-engine",
   "metadata": {
    "execution": {
     "iopub.execute_input": "2021-11-08T00:24:54.915704Z",
     "iopub.status.busy": "2021-11-08T00:24:54.915164Z",
     "iopub.status.idle": "2021-11-08T00:24:54.917084Z",
     "shell.execute_reply": "2021-11-08T00:24:54.916553Z"
    },
    "papermill": {
     "duration": 0.036172,
     "end_time": "2021-11-08T00:24:54.917193",
     "exception": false,
     "start_time": "2021-11-08T00:24:54.881021",
     "status": "completed"
    },
    "tags": []
   },
   "outputs": [],
   "source": [
    "# hide\n",
    "# g['date'] = g['date'].astype('datetime64[ns]')"
   ]
  },
  {
   "cell_type": "code",
   "execution_count": 34,
   "id": "sophisticated-supervisor",
   "metadata": {
    "execution": {
     "iopub.execute_input": "2021-11-08T00:24:54.990593Z",
     "iopub.status.busy": "2021-11-08T00:24:54.989745Z",
     "iopub.status.idle": "2021-11-08T00:24:54.992742Z",
     "shell.execute_reply": "2021-11-08T00:24:54.993239Z"
    },
    "papermill": {
     "duration": 0.042714,
     "end_time": "2021-11-08T00:24:54.993458",
     "exception": false,
     "start_time": "2021-11-08T00:24:54.950744",
     "status": "completed"
    },
    "tags": []
   },
   "outputs": [],
   "source": [
    "#hide\n",
    "# g['date'] = g.date.dt.dayofyear"
   ]
  },
  {
   "cell_type": "code",
   "execution_count": 35,
   "id": "inside-dubai",
   "metadata": {
    "execution": {
     "iopub.execute_input": "2021-11-08T00:24:55.075657Z",
     "iopub.status.busy": "2021-11-08T00:24:55.075053Z",
     "iopub.status.idle": "2021-11-08T00:24:55.078809Z",
     "shell.execute_reply": "2021-11-08T00:24:55.079242Z"
    },
    "papermill": {
     "duration": 0.052894,
     "end_time": "2021-11-08T00:24:55.079376",
     "exception": false,
     "start_time": "2021-11-08T00:24:55.026482",
     "status": "completed"
    },
    "tags": []
   },
   "outputs": [],
   "source": [
    "#hide\n",
    "# g = g.rename(columns= {'continent':'group','country':'name','cases':'value'})"
   ]
  },
  {
   "cell_type": "code",
   "execution_count": 36,
   "id": "fleet-motorcycle",
   "metadata": {
    "execution": {
     "iopub.execute_input": "2021-11-08T00:24:55.157699Z",
     "iopub.status.busy": "2021-11-08T00:24:55.156960Z",
     "iopub.status.idle": "2021-11-08T00:24:55.158986Z",
     "shell.execute_reply": "2021-11-08T00:24:55.159676Z"
    },
    "papermill": {
     "duration": 0.041606,
     "end_time": "2021-11-08T00:24:55.159898",
     "exception": false,
     "start_time": "2021-11-08T00:24:55.118292",
     "status": "completed"
    },
    "tags": []
   },
   "outputs": [],
   "source": [
    "#hide\n",
    "# cols = ['name','group','day','value']"
   ]
  },
  {
   "cell_type": "code",
   "execution_count": 37,
   "id": "continued-sleeping",
   "metadata": {
    "execution": {
     "iopub.execute_input": "2021-11-08T00:24:55.231039Z",
     "iopub.status.busy": "2021-11-08T00:24:55.230502Z",
     "iopub.status.idle": "2021-11-08T00:24:55.234921Z",
     "shell.execute_reply": "2021-11-08T00:24:55.235542Z"
    },
    "papermill": {
     "duration": 0.040873,
     "end_time": "2021-11-08T00:24:55.235674",
     "exception": false,
     "start_time": "2021-11-08T00:24:55.194801",
     "status": "completed"
    },
    "tags": []
   },
   "outputs": [],
   "source": [
    "#hide\n",
    "# g.rename(columns= {'date':'day'},inplace = True)"
   ]
  },
  {
   "cell_type": "code",
   "execution_count": 38,
   "id": "major-fight",
   "metadata": {
    "execution": {
     "iopub.execute_input": "2021-11-08T00:24:55.311812Z",
     "iopub.status.busy": "2021-11-08T00:24:55.311266Z",
     "iopub.status.idle": "2021-11-08T00:24:55.313596Z",
     "shell.execute_reply": "2021-11-08T00:24:55.313090Z"
    },
    "papermill": {
     "duration": 0.042562,
     "end_time": "2021-11-08T00:24:55.313858",
     "exception": false,
     "start_time": "2021-11-08T00:24:55.271296",
     "status": "completed"
    },
    "tags": []
   },
   "outputs": [],
   "source": [
    "#hide\n",
    "# g = g[cols]"
   ]
  },
  {
   "cell_type": "code",
   "execution_count": 39,
   "id": "structured-mobile",
   "metadata": {
    "execution": {
     "iopub.execute_input": "2021-11-08T00:24:55.387633Z",
     "iopub.status.busy": "2021-11-08T00:24:55.387081Z",
     "iopub.status.idle": "2021-11-08T00:24:55.389246Z",
     "shell.execute_reply": "2021-11-08T00:24:55.388783Z"
    },
    "papermill": {
     "duration": 0.040792,
     "end_time": "2021-11-08T00:24:55.389382",
     "exception": false,
     "start_time": "2021-11-08T00:24:55.348590",
     "status": "completed"
    },
    "tags": []
   },
   "outputs": [],
   "source": [
    "# #hide\n",
    "# g = g[g.group.notna()]"
   ]
  },
  {
   "cell_type": "code",
   "execution_count": 40,
   "id": "determined-closing",
   "metadata": {
    "execution": {
     "iopub.execute_input": "2021-11-08T00:24:55.466667Z",
     "iopub.status.busy": "2021-11-08T00:24:55.466093Z",
     "iopub.status.idle": "2021-11-08T00:24:55.469816Z",
     "shell.execute_reply": "2021-11-08T00:24:55.470247Z"
    },
    "papermill": {
     "duration": 0.044774,
     "end_time": "2021-11-08T00:24:55.470383",
     "exception": false,
     "start_time": "2021-11-08T00:24:55.425609",
     "status": "completed"
    },
    "tags": []
   },
   "outputs": [],
   "source": [
    "# #hide\n",
    "# colors = dict(zip(\n",
    "#     [\"Oceania\", \"Europe\", \"Asia\", \"South America\", \"Middle East\", \"North America\", \"Africa\"],\n",
    "#     [\"#adb0ff\", \"#ffb3ff\", \"#90d595\", \"#e48381\", \"#aafbff\", \"#f7bb5f\", \"#eafb50\"]\n",
    "# ))\n",
    "# group_lk = g.set_index('name')['group'].to_dict()"
   ]
  },
  {
   "cell_type": "code",
   "execution_count": null,
   "id": "gross-drinking",
   "metadata": {
    "papermill": {
     "duration": 0.039601,
     "end_time": "2021-11-08T00:24:55.544090",
     "exception": false,
     "start_time": "2021-11-08T00:24:55.504489",
     "status": "completed"
    },
    "tags": []
   },
   "outputs": [],
   "source": []
  },
  {
   "cell_type": "code",
   "execution_count": 41,
   "id": "subject-macintosh",
   "metadata": {
    "execution": {
     "iopub.execute_input": "2021-11-08T00:24:55.615176Z",
     "iopub.status.busy": "2021-11-08T00:24:55.614604Z",
     "iopub.status.idle": "2021-11-08T00:24:55.616983Z",
     "shell.execute_reply": "2021-11-08T00:24:55.616497Z"
    },
    "papermill": {
     "duration": 0.039355,
     "end_time": "2021-11-08T00:24:55.617714",
     "exception": false,
     "start_time": "2021-11-08T00:24:55.578359",
     "status": "completed"
    },
    "tags": []
   },
   "outputs": [],
   "source": [
    "# #hide\n",
    "# fig, ax = plt.subplots(figsize=(15, 8))\n",
    "\n",
    "# def draw_barchart(current_day):\n",
    "#     dff = g[g['day'].eq(current_day)].sort_values(by='value', ascending=True).tail(10)\n",
    "#     ax.clear()\n",
    "#     ax.barh(dff['name'], dff['value'], color=[colors[group_lk[x]] for x in dff['name']])\n",
    "#     dx = dff['value'].max() / 200\n",
    "    \n",
    "#     for i, (value, name) in enumerate(zip(dff['value'], dff['name'])):\n",
    "#         ax.text(value-dx, i,     name,           size=14, weight=600, ha='right', va='bottom')\n",
    "#         ax.text(value-dx, i-.25, group_lk[name], size=10, color='#444444', ha='right', va='baseline')\n",
    "#         ax.text(value+dx, i,     f'{value:,.0f}',  size=14, ha='left',  va='center')\n",
    "#     ax.text(1, 0.4, current_day, transform=ax.transAxes, color='#777777', size=46, ha='right', weight=800)\n",
    "#     ax.text(0, 1.06, 'Population (thousands)', transform=ax.transAxes, size=12, color='#777777')\n",
    "#     ax.xaxis.set_major_formatter(ticker.StrMethodFormatter('{x:,.0f}'))\n",
    "#     ax.xaxis.set_ticks_position('top')\n",
    "#     ax.tick_params(axis='x', colors='#777777', labelsize=12)\n",
    "#     ax.set_yticks([])\n",
    "#     ax.margins(0, 0.01)\n",
    "#     ax.grid(which='major', axis='x', linestyle='-')\n",
    "#     ax.set_axisbelow(True)\n",
    "    \n",
    "#     ax.text(0, 1.15, 'Coronavirus',\n",
    "#             transform=ax.transAxes, size=24, weight=600, ha='left', va='top')\n",
    "# #     ax.text(1, 0, 'by @pratapvardhan; credit @jburnmurdoch', transform=ax.transAxes, color='#777777', ha='right',\n",
    "# #             bbox=dict(facecolor='white', alpha=0.8, edgecolor='white'))\n",
    "#     plt.box(False)"
   ]
  },
  {
   "cell_type": "code",
   "execution_count": 42,
   "id": "sexual-wages",
   "metadata": {
    "execution": {
     "iopub.execute_input": "2021-11-08T00:24:55.686648Z",
     "iopub.status.busy": "2021-11-08T00:24:55.686084Z",
     "iopub.status.idle": "2021-11-08T00:24:55.688632Z",
     "shell.execute_reply": "2021-11-08T00:24:55.688067Z"
    },
    "papermill": {
     "duration": 0.03777,
     "end_time": "2021-11-08T00:24:55.688738",
     "exception": false,
     "start_time": "2021-11-08T00:24:55.650968",
     "status": "completed"
    },
    "tags": []
   },
   "outputs": [],
   "source": [
    "# #hide_input\n",
    "# fig, ax = plt.subplots(figsize=(15, 8))\n",
    "# animator = animation.FuncAnimation(fig, draw_barchart, frames=range(g.day.values.min(), g.day.values.max()))\n",
    "# HTML(animator.to_jshtml())\n",
    "# # or use animator.to_html5_video() or animator.save() "
   ]
  },
  {
   "cell_type": "code",
   "execution_count": null,
   "id": "australian-container",
   "metadata": {
    "papermill": {
     "duration": 0.033787,
     "end_time": "2021-11-08T00:24:55.766701",
     "exception": false,
     "start_time": "2021-11-08T00:24:55.732914",
     "status": "completed"
    },
    "tags": []
   },
   "outputs": [],
   "source": []
  },
  {
   "cell_type": "code",
   "execution_count": null,
   "id": "mediterranean-pontiac",
   "metadata": {
    "papermill": {
     "duration": 0.03353,
     "end_time": "2021-11-08T00:24:55.833587",
     "exception": false,
     "start_time": "2021-11-08T00:24:55.800057",
     "status": "completed"
    },
    "tags": []
   },
   "outputs": [],
   "source": []
  },
  {
   "cell_type": "code",
   "execution_count": null,
   "id": "aging-legislature",
   "metadata": {
    "papermill": {
     "duration": 0.035053,
     "end_time": "2021-11-08T00:24:55.903110",
     "exception": false,
     "start_time": "2021-11-08T00:24:55.868057",
     "status": "completed"
    },
    "tags": []
   },
   "outputs": [],
   "source": []
  }
 ],
 "metadata": {
  "kernelspec": {
   "display_name": "Python 3",
   "language": "python",
   "name": "python3"
  },
  "language_info": {
   "codemirror_mode": {
    "name": "ipython",
    "version": 3
   },
   "file_extension": ".py",
   "mimetype": "text/x-python",
   "name": "python",
   "nbconvert_exporter": "python",
   "pygments_lexer": "ipython3",
   "version": "3.6.15"
  },
  "papermill": {
   "duration": 6.486717,
   "end_time": "2021-11-08T00:24:56.242897",
   "environment_variables": {},
   "exception": null,
   "input_path": "2020-03-21-covid19exp.ipynb",
   "output_path": "2020-03-21-covid19exp.ipynb",
   "parameters": {},
   "start_time": "2021-11-08T00:24:49.756180",
   "version": "2.0.0"
  }
 },
 "nbformat": 4,
 "nbformat_minor": 5
}