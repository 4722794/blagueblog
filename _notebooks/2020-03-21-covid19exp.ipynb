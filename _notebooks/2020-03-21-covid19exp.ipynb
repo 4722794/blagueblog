{
 "cells": [
  {
   "cell_type": "markdown",
   "id": "muslim-click",
   "metadata": {
    "papermill": {
     "duration": 0.047657,
     "end_time": "2022-10-09T12:18:40.570771",
     "exception": false,
     "start_time": "2022-10-09T12:18:40.523114",
     "status": "completed"
    },
    "tags": []
   },
   "source": [
    "# COVID-19 Case Race\n",
    "> A race chart to see rising cases around the world\n",
    "\n",
    "- author: Hargun Oberoi\n",
    "- image: images/covid-overview.png\n",
    "- hide: false\n",
    "- badges: false"
   ]
  },
  {
   "cell_type": "code",
   "execution_count": 1,
   "id": "proof-material",
   "metadata": {
    "execution": {
     "iopub.execute_input": "2022-10-09T12:18:40.673341Z",
     "iopub.status.busy": "2022-10-09T12:18:40.672501Z",
     "iopub.status.idle": "2022-10-09T12:18:41.141110Z",
     "shell.execute_reply": "2022-10-09T12:18:41.140302Z"
    },
    "papermill": {
     "duration": 0.523853,
     "end_time": "2022-10-09T12:18:41.141292",
     "exception": false,
     "start_time": "2022-10-09T12:18:40.617439",
     "status": "completed"
    },
    "tags": []
   },
   "outputs": [],
   "source": [
    "#hide\n",
    "import numpy as np\n",
    "import pandas as pd\n",
    "from jinja2 import Template\n",
    "from IPython.display import HTML"
   ]
  },
  {
   "cell_type": "code",
   "execution_count": 2,
   "id": "developed-terminology",
   "metadata": {
    "execution": {
     "iopub.execute_input": "2022-10-09T12:18:41.234576Z",
     "iopub.status.busy": "2022-10-09T12:18:41.233838Z",
     "iopub.status.idle": "2022-10-09T12:18:41.237089Z",
     "shell.execute_reply": "2022-10-09T12:18:41.236314Z"
    },
    "papermill": {
     "duration": 0.050218,
     "end_time": "2022-10-09T12:18:41.237260",
     "exception": false,
     "start_time": "2022-10-09T12:18:41.187042",
     "status": "completed"
    },
    "tags": []
   },
   "outputs": [],
   "source": [
    "#hide\n",
    "\n",
    "# FETCH\n",
    "base_url = 'https://raw.githubusercontent.com/pratapvardhan/notebooks/master/covid19/'\n",
    "paths = {\n",
    "    'mapping': base_url + 'mapping_countries.csv',\n",
    "    'overview': base_url + 'overview.tpl'\n",
    "}"
   ]
  },
  {
   "cell_type": "code",
   "execution_count": 3,
   "id": "dynamic-saver",
   "metadata": {
    "execution": {
     "iopub.execute_input": "2022-10-09T12:18:41.329763Z",
     "iopub.status.busy": "2022-10-09T12:18:41.325641Z",
     "iopub.status.idle": "2022-10-09T12:18:41.334960Z",
     "shell.execute_reply": "2022-10-09T12:18:41.334248Z"
    },
    "papermill": {
     "duration": 0.057067,
     "end_time": "2022-10-09T12:18:41.335107",
     "exception": false,
     "start_time": "2022-10-09T12:18:41.278040",
     "status": "completed"
    },
    "tags": []
   },
   "outputs": [
    {
     "data": {
      "text/plain": [
       "'https://raw.githubusercontent.com/pratapvardhan/notebooks/master/covid19/mapping_countries.csv'"
      ]
     },
     "execution_count": 3,
     "metadata": {},
     "output_type": "execute_result"
    }
   ],
   "source": [
    "#hide\n",
    "paths['mapping']"
   ]
  },
  {
   "cell_type": "code",
   "execution_count": 4,
   "id": "urban-software",
   "metadata": {
    "execution": {
     "iopub.execute_input": "2022-10-09T12:18:41.427723Z",
     "iopub.status.busy": "2022-10-09T12:18:41.426879Z",
     "iopub.status.idle": "2022-10-09T12:18:41.430235Z",
     "shell.execute_reply": "2022-10-09T12:18:41.429534Z"
    },
    "papermill": {
     "duration": 0.051243,
     "end_time": "2022-10-09T12:18:41.430394",
     "exception": false,
     "start_time": "2022-10-09T12:18:41.379151",
     "status": "completed"
    },
    "tags": []
   },
   "outputs": [],
   "source": [
    "#hide\n",
    "def get_mappings(url):\n",
    "    df = pd.read_csv(url)\n",
    "    return {\n",
    "        'df': df,\n",
    "        'replace.country': dict(df.dropna(subset=['Name']).set_index('Country')['Name']),\n",
    "        'map.continent': dict(df.set_index('Name')['Continent'])\n",
    "    }"
   ]
  },
  {
   "cell_type": "code",
   "execution_count": 5,
   "id": "intimate-machinery",
   "metadata": {
    "execution": {
     "iopub.execute_input": "2022-10-09T12:18:41.523446Z",
     "iopub.status.busy": "2022-10-09T12:18:41.522621Z",
     "iopub.status.idle": "2022-10-09T12:18:41.561380Z",
     "shell.execute_reply": "2022-10-09T12:18:41.560749Z"
    },
    "papermill": {
     "duration": 0.087887,
     "end_time": "2022-10-09T12:18:41.561532",
     "exception": false,
     "start_time": "2022-10-09T12:18:41.473645",
     "status": "completed"
    },
    "tags": []
   },
   "outputs": [],
   "source": [
    "#hide\n",
    "mapping = get_mappings(paths['mapping'])"
   ]
  },
  {
   "cell_type": "code",
   "execution_count": 6,
   "id": "certified-tactics",
   "metadata": {
    "execution": {
     "iopub.execute_input": "2022-10-09T12:18:41.651275Z",
     "iopub.status.busy": "2022-10-09T12:18:41.650495Z",
     "iopub.status.idle": "2022-10-09T12:18:41.655581Z",
     "shell.execute_reply": "2022-10-09T12:18:41.654938Z"
    },
    "papermill": {
     "duration": 0.051434,
     "end_time": "2022-10-09T12:18:41.655764",
     "exception": false,
     "start_time": "2022-10-09T12:18:41.604330",
     "status": "completed"
    },
    "tags": []
   },
   "outputs": [],
   "source": [
    "#hide\n",
    "def get_template(path):\n",
    "    from urllib.parse import urlparse\n",
    "    if bool(urlparse(path).netloc):\n",
    "        from urllib.request import urlopen\n",
    "        return urlopen(path).read().decode('utf8')\n",
    "    return open(path).read()"
   ]
  },
  {
   "cell_type": "code",
   "execution_count": 7,
   "id": "realistic-blast",
   "metadata": {
    "execution": {
     "iopub.execute_input": "2022-10-09T12:18:41.746510Z",
     "iopub.status.busy": "2022-10-09T12:18:41.745701Z",
     "iopub.status.idle": "2022-10-09T12:18:41.749370Z",
     "shell.execute_reply": "2022-10-09T12:18:41.748766Z"
    },
    "papermill": {
     "duration": 0.051536,
     "end_time": "2022-10-09T12:18:41.749502",
     "exception": false,
     "start_time": "2022-10-09T12:18:41.697966",
     "status": "completed"
    },
    "tags": []
   },
   "outputs": [],
   "source": [
    "#hide\n",
    "def get_frame(name):\n",
    "    url = (\n",
    "        'https://raw.githubusercontent.com/CSSEGISandData/COVID-19/master/csse_covid_19_data/'\n",
    "        f'csse_covid_19_time_series/time_series_covid19_{name}_global.csv')\n",
    "    df = pd.read_csv(url)\n",
    "    # rename countries\n",
    "    df['Country/Region'] = df['Country/Region'].replace(mapping['replace.country'])\n",
    "    return df"
   ]
  },
  {
   "cell_type": "code",
   "execution_count": 8,
   "id": "affiliated-characterization",
   "metadata": {
    "execution": {
     "iopub.execute_input": "2022-10-09T12:18:41.839041Z",
     "iopub.status.busy": "2022-10-09T12:18:41.838128Z",
     "iopub.status.idle": "2022-10-09T12:18:41.843726Z",
     "shell.execute_reply": "2022-10-09T12:18:41.843058Z"
    },
    "papermill": {
     "duration": 0.053711,
     "end_time": "2022-10-09T12:18:41.843868",
     "exception": false,
     "start_time": "2022-10-09T12:18:41.790157",
     "status": "completed"
    },
    "tags": []
   },
   "outputs": [],
   "source": [
    "#hide\n",
    "def get_dates(df):\n",
    "    dt_cols = df.columns[~df.columns.isin(['Province/State', 'Country/Region', 'Lat', 'Long'])]\n",
    "    LAST_DATE_I = -1\n",
    "    # sometimes last column may be empty, then go backwards\n",
    "    for i in range(-1, -len(dt_cols), -1):\n",
    "        if not df[dt_cols[i]].fillna(0).eq(0).all():\n",
    "            LAST_DATE_I = i\n",
    "            break\n",
    "    return LAST_DATE_I, dt_cols"
   ]
  },
  {
   "cell_type": "code",
   "execution_count": 9,
   "id": "recent-optimization",
   "metadata": {
    "execution": {
     "iopub.execute_input": "2022-10-09T12:18:41.933317Z",
     "iopub.status.busy": "2022-10-09T12:18:41.932301Z",
     "iopub.status.idle": "2022-10-09T12:18:42.479269Z",
     "shell.execute_reply": "2022-10-09T12:18:42.476739Z"
    },
    "papermill": {
     "duration": 0.594145,
     "end_time": "2022-10-09T12:18:42.479503",
     "exception": false,
     "start_time": "2022-10-09T12:18:41.885358",
     "status": "completed"
    },
    "tags": []
   },
   "outputs": [],
   "source": [
    "#hide\n",
    "COL_REGION = 'Country/Region'\n",
    "# Confirmed, Recovered, Deaths\n",
    "df = get_frame('confirmed')\n",
    "# dft_: timeseries, dfc_: today country agg\n",
    "dft_cases = df\n",
    "dft_deaths = get_frame('deaths')\n",
    "dft_recovered = get_frame('recovered')\n",
    "LAST_DATE_I, dt_cols = get_dates(df)"
   ]
  },
  {
   "cell_type": "code",
   "execution_count": 10,
   "id": "absolute-copper",
   "metadata": {
    "execution": {
     "iopub.execute_input": "2022-10-09T12:18:42.577310Z",
     "iopub.status.busy": "2022-10-09T12:18:42.576503Z",
     "iopub.status.idle": "2022-10-09T12:18:42.579940Z",
     "shell.execute_reply": "2022-10-09T12:18:42.579132Z"
    },
    "papermill": {
     "duration": 0.053924,
     "end_time": "2022-10-09T12:18:42.580080",
     "exception": false,
     "start_time": "2022-10-09T12:18:42.526156",
     "status": "completed"
    },
    "tags": []
   },
   "outputs": [],
   "source": [
    "#hide\n",
    "LAST_DATE_I, dt_cols = get_dates(df)\n",
    "dt_today =dt_cols[LAST_DATE_I]\n",
    "# dt_5day = dt_cols[LAST_DATE_I - 5]\n",
    "dt_yday = dt_cols[LAST_DATE_I - 1]"
   ]
  },
  {
   "cell_type": "code",
   "execution_count": 11,
   "id": "restricted-sheriff",
   "metadata": {
    "execution": {
     "iopub.execute_input": "2022-10-09T12:18:42.672426Z",
     "iopub.status.busy": "2022-10-09T12:18:42.671528Z",
     "iopub.status.idle": "2022-10-09T12:18:42.683203Z",
     "shell.execute_reply": "2022-10-09T12:18:42.682369Z"
    },
    "papermill": {
     "duration": 0.06218,
     "end_time": "2022-10-09T12:18:42.683365",
     "exception": false,
     "start_time": "2022-10-09T12:18:42.621185",
     "status": "completed"
    },
    "tags": []
   },
   "outputs": [],
   "source": [
    "#hide\n",
    "dfc_cases = dft_cases.groupby(COL_REGION)[dt_today].sum()\n",
    "dfc_deaths = dft_deaths.groupby(COL_REGION)[dt_today].sum()\n",
    "# dfp_cases = dft_cases.groupby(COL_REGION)[dt_5day].sum()\n",
    "# dfp_deaths = dft_deaths.groupby(COL_REGION)[dt_5day].sum()\n",
    "dfp_cases = dft_cases.groupby(COL_REGION)[dt_yday].sum()\n",
    "dfp_deaths = dft_deaths.groupby(COL_REGION)[dt_yday].sum()"
   ]
  },
  {
   "cell_type": "code",
   "execution_count": 12,
   "id": "deluxe-hepatitis",
   "metadata": {
    "execution": {
     "iopub.execute_input": "2022-10-09T12:18:42.774718Z",
     "iopub.status.busy": "2022-10-09T12:18:42.773845Z",
     "iopub.status.idle": "2022-10-09T12:18:42.783089Z",
     "shell.execute_reply": "2022-10-09T12:18:42.782445Z"
    },
    "papermill": {
     "duration": 0.058748,
     "end_time": "2022-10-09T12:18:42.783230",
     "exception": false,
     "start_time": "2022-10-09T12:18:42.724482",
     "status": "completed"
    },
    "tags": []
   },
   "outputs": [],
   "source": [
    "#hide\n",
    "df_table = (pd.DataFrame(dict(Cases = dfc_cases, Deaths = dfc_deaths, PCases = dfp_cases, PDeaths = dfp_deaths))\n",
    "            .sort_values(by = ['Cases','Deaths'], ascending = [False, False])\n",
    "            .reset_index())"
   ]
  },
  {
   "cell_type": "code",
   "execution_count": 13,
   "id": "educational-chancellor",
   "metadata": {
    "execution": {
     "iopub.execute_input": "2022-10-09T12:18:42.900801Z",
     "iopub.status.busy": "2022-10-09T12:18:42.899830Z",
     "iopub.status.idle": "2022-10-09T12:18:42.911284Z",
     "shell.execute_reply": "2022-10-09T12:18:42.910671Z"
    },
    "papermill": {
     "duration": 0.089014,
     "end_time": "2022-10-09T12:18:42.911455",
     "exception": false,
     "start_time": "2022-10-09T12:18:42.822441",
     "status": "completed"
    },
    "tags": []
   },
   "outputs": [
    {
     "data": {
      "text/html": [
       "<div>\n",
       "<style scoped>\n",
       "    .dataframe tbody tr th:only-of-type {\n",
       "        vertical-align: middle;\n",
       "    }\n",
       "\n",
       "    .dataframe tbody tr th {\n",
       "        vertical-align: top;\n",
       "    }\n",
       "\n",
       "    .dataframe thead th {\n",
       "        text-align: right;\n",
       "    }\n",
       "</style>\n",
       "<table border=\"1\" class=\"dataframe\">\n",
       "  <thead>\n",
       "    <tr style=\"text-align: right;\">\n",
       "      <th></th>\n",
       "      <th>Country/Region</th>\n",
       "      <th>Cases</th>\n",
       "      <th>Deaths</th>\n",
       "      <th>PCases</th>\n",
       "      <th>PDeaths</th>\n",
       "      <th>Cases (+)</th>\n",
       "      <th>Deaths (+)</th>\n",
       "      <th>Fatality Rate</th>\n",
       "      <th>Continent</th>\n",
       "    </tr>\n",
       "  </thead>\n",
       "  <tbody>\n",
       "    <tr>\n",
       "      <th>0</th>\n",
       "      <td>US</td>\n",
       "      <td>96694214</td>\n",
       "      <td>1062560</td>\n",
       "      <td>96686904</td>\n",
       "      <td>1062513</td>\n",
       "      <td>7310</td>\n",
       "      <td>47</td>\n",
       "      <td>1.10</td>\n",
       "      <td>North America</td>\n",
       "    </tr>\n",
       "    <tr>\n",
       "      <th>1</th>\n",
       "      <td>India</td>\n",
       "      <td>44612013</td>\n",
       "      <td>528799</td>\n",
       "      <td>44609257</td>\n",
       "      <td>528778</td>\n",
       "      <td>2756</td>\n",
       "      <td>21</td>\n",
       "      <td>1.19</td>\n",
       "      <td>Asia</td>\n",
       "    </tr>\n",
       "    <tr>\n",
       "      <th>2</th>\n",
       "      <td>France</td>\n",
       "      <td>35983605</td>\n",
       "      <td>156462</td>\n",
       "      <td>35983605</td>\n",
       "      <td>156462</td>\n",
       "      <td>0</td>\n",
       "      <td>0</td>\n",
       "      <td>0.43</td>\n",
       "      <td>Europe</td>\n",
       "    </tr>\n",
       "    <tr>\n",
       "      <th>3</th>\n",
       "      <td>Brazil</td>\n",
       "      <td>34707233</td>\n",
       "      <td>686706</td>\n",
       "      <td>34707233</td>\n",
       "      <td>686706</td>\n",
       "      <td>0</td>\n",
       "      <td>0</td>\n",
       "      <td>1.98</td>\n",
       "      <td>South America</td>\n",
       "    </tr>\n",
       "    <tr>\n",
       "      <th>4</th>\n",
       "      <td>Germany</td>\n",
       "      <td>33948632</td>\n",
       "      <td>150535</td>\n",
       "      <td>33948632</td>\n",
       "      <td>150535</td>\n",
       "      <td>0</td>\n",
       "      <td>0</td>\n",
       "      <td>0.44</td>\n",
       "      <td>Europe</td>\n",
       "    </tr>\n",
       "  </tbody>\n",
       "</table>\n",
       "</div>"
      ],
      "text/plain": [
       "  Country/Region     Cases   Deaths    PCases  PDeaths  Cases (+)  Deaths (+)  \\\n",
       "0             US  96694214  1062560  96686904  1062513       7310          47   \n",
       "1          India  44612013   528799  44609257   528778       2756          21   \n",
       "2         France  35983605   156462  35983605   156462          0           0   \n",
       "3         Brazil  34707233   686706  34707233   686706          0           0   \n",
       "4        Germany  33948632   150535  33948632   150535          0           0   \n",
       "\n",
       "   Fatality Rate      Continent  \n",
       "0           1.10  North America  \n",
       "1           1.19           Asia  \n",
       "2           0.43         Europe  \n",
       "3           1.98  South America  \n",
       "4           0.44         Europe  "
      ]
     },
     "execution_count": 13,
     "metadata": {},
     "output_type": "execute_result"
    }
   ],
   "source": [
    "#hide\n",
    "for c in 'Cases, Deaths'.split(', '):\n",
    "    df_table[f'{c} (+)'] = (df_table[c] - df_table[f'P{c}']).clip(0)\n",
    "    #Clip ça veut dire, les chiffres negatif sont interdit\n",
    "df_table['Fatality Rate'] = (100* df_table['Deaths']/ df_table['Cases']).round(2)\n",
    "df_table['Continent'] = df_table['Country/Region'].map(mapping['map.continent'])\n",
    "df_table.head(5)"
   ]
  },
  {
   "cell_type": "code",
   "execution_count": 14,
   "id": "aboriginal-bulgaria",
   "metadata": {
    "execution": {
     "iopub.execute_input": "2022-10-09T12:18:43.002733Z",
     "iopub.status.busy": "2022-10-09T12:18:43.001986Z",
     "iopub.status.idle": "2022-10-09T12:18:43.006509Z",
     "shell.execute_reply": "2022-10-09T12:18:43.005754Z"
    },
    "papermill": {
     "duration": 0.052184,
     "end_time": "2022-10-09T12:18:43.006662",
     "exception": false,
     "start_time": "2022-10-09T12:18:42.954478",
     "status": "completed"
    },
    "tags": []
   },
   "outputs": [],
   "source": [
    "#hide\n",
    "#delete problematic countries from table\n",
    "df_table = df_table[~df_table['Country/Region'].isin(['Cape Verde', 'Cruise Ship', 'Kosovo'])]"
   ]
  },
  {
   "cell_type": "code",
   "execution_count": 15,
   "id": "fantastic-effect",
   "metadata": {
    "execution": {
     "iopub.execute_input": "2022-10-09T12:18:43.101986Z",
     "iopub.status.busy": "2022-10-09T12:18:43.101121Z",
     "iopub.status.idle": "2022-10-09T12:18:43.125641Z",
     "shell.execute_reply": "2022-10-09T12:18:43.126447Z"
    },
    "papermill": {
     "duration": 0.077775,
     "end_time": "2022-10-09T12:18:43.126639",
     "exception": false,
     "start_time": "2022-10-09T12:18:43.048864",
     "status": "completed"
    },
    "tags": []
   },
   "outputs": [
    {
     "data": {
      "text/html": [
       "<div>\n",
       "<style scoped>\n",
       "    .dataframe tbody tr th:only-of-type {\n",
       "        vertical-align: middle;\n",
       "    }\n",
       "\n",
       "    .dataframe tbody tr th {\n",
       "        vertical-align: top;\n",
       "    }\n",
       "\n",
       "    .dataframe thead th {\n",
       "        text-align: right;\n",
       "    }\n",
       "</style>\n",
       "<table border=\"1\" class=\"dataframe\">\n",
       "  <thead>\n",
       "    <tr style=\"text-align: right;\">\n",
       "      <th></th>\n",
       "      <th>Country/Region</th>\n",
       "      <th>Cases</th>\n",
       "      <th>Deaths</th>\n",
       "      <th>PCases</th>\n",
       "      <th>PDeaths</th>\n",
       "      <th>Cases (+)</th>\n",
       "      <th>Deaths (+)</th>\n",
       "      <th>Fatality Rate</th>\n",
       "      <th>Continent</th>\n",
       "    </tr>\n",
       "  </thead>\n",
       "  <tbody>\n",
       "    <tr>\n",
       "      <th>0</th>\n",
       "      <td>US</td>\n",
       "      <td>96694214</td>\n",
       "      <td>1062560</td>\n",
       "      <td>96686904</td>\n",
       "      <td>1062513</td>\n",
       "      <td>7310</td>\n",
       "      <td>47</td>\n",
       "      <td>1.1</td>\n",
       "      <td>North America</td>\n",
       "    </tr>\n",
       "    <tr>\n",
       "      <th>1</th>\n",
       "      <td>India</td>\n",
       "      <td>44612013</td>\n",
       "      <td>528799</td>\n",
       "      <td>44609257</td>\n",
       "      <td>528778</td>\n",
       "      <td>2756</td>\n",
       "      <td>21</td>\n",
       "      <td>1.2</td>\n",
       "      <td>Asia</td>\n",
       "    </tr>\n",
       "    <tr>\n",
       "      <th>2</th>\n",
       "      <td>France</td>\n",
       "      <td>35983605</td>\n",
       "      <td>156462</td>\n",
       "      <td>35983605</td>\n",
       "      <td>156462</td>\n",
       "      <td>0</td>\n",
       "      <td>0</td>\n",
       "      <td>0.4</td>\n",
       "      <td>Europe</td>\n",
       "    </tr>\n",
       "    <tr>\n",
       "      <th>3</th>\n",
       "      <td>Brazil</td>\n",
       "      <td>34707233</td>\n",
       "      <td>686706</td>\n",
       "      <td>34707233</td>\n",
       "      <td>686706</td>\n",
       "      <td>0</td>\n",
       "      <td>0</td>\n",
       "      <td>2.0</td>\n",
       "      <td>South America</td>\n",
       "    </tr>\n",
       "    <tr>\n",
       "      <th>4</th>\n",
       "      <td>Germany</td>\n",
       "      <td>33948632</td>\n",
       "      <td>150535</td>\n",
       "      <td>33948632</td>\n",
       "      <td>150535</td>\n",
       "      <td>0</td>\n",
       "      <td>0</td>\n",
       "      <td>0.4</td>\n",
       "      <td>Europe</td>\n",
       "    </tr>\n",
       "  </tbody>\n",
       "</table>\n",
       "</div>"
      ],
      "text/plain": [
       "  Country/Region     Cases   Deaths    PCases  PDeaths  Cases (+)  Deaths (+)  \\\n",
       "0             US  96694214  1062560  96686904  1062513       7310          47   \n",
       "1          India  44612013   528799  44609257   528778       2756          21   \n",
       "2         France  35983605   156462  35983605   156462          0           0   \n",
       "3         Brazil  34707233   686706  34707233   686706          0           0   \n",
       "4        Germany  33948632   150535  33948632   150535          0           0   \n",
       "\n",
       "   Fatality Rate      Continent  \n",
       "0            1.1  North America  \n",
       "1            1.2           Asia  \n",
       "2            0.4         Europe  \n",
       "3            2.0  South America  \n",
       "4            0.4         Europe  "
      ]
     },
     "execution_count": 15,
     "metadata": {},
     "output_type": "execute_result"
    }
   ],
   "source": [
    "#hide\n",
    "df_table = (pd.DataFrame(dict(Cases=dfc_cases, Deaths=dfc_deaths, PCases=dfp_cases, PDeaths=dfp_deaths))\n",
    "             .sort_values(by=['Cases', 'Deaths'], ascending=[False, False])\n",
    "             .reset_index())\n",
    "df_table.rename(columns={'index': 'Country/Region'}, inplace=True)\n",
    "for c in 'Cases, Deaths'.split(', '):\n",
    "    df_table[f'{c} (+)'] = (df_table[c] - df_table[f'P{c}']).clip(0)  # DATA BUG\n",
    "df_table['Fatality Rate'] = (100 * df_table['Deaths'] / df_table['Cases']).round(1)\n",
    "df_table['Continent'] = df_table['Country/Region'].map(mapping['map.continent'])\n",
    "df_table.head(5)"
   ]
  },
  {
   "cell_type": "code",
   "execution_count": 16,
   "id": "fewer-occasion",
   "metadata": {
    "execution": {
     "iopub.execute_input": "2022-10-09T12:18:43.221591Z",
     "iopub.status.busy": "2022-10-09T12:18:43.220449Z",
     "iopub.status.idle": "2022-10-09T12:18:43.225216Z",
     "shell.execute_reply": "2022-10-09T12:18:43.224423Z"
    },
    "papermill": {
     "duration": 0.053785,
     "end_time": "2022-10-09T12:18:43.225371",
     "exception": false,
     "start_time": "2022-10-09T12:18:43.171586",
     "status": "completed"
    },
    "tags": []
   },
   "outputs": [],
   "source": [
    "#hide\n",
    "#delete problematic countries from table\n",
    "df_table = df_table[~df_table['Country/Region'].isin(['Cape Verde', 'Cruise Ship', 'Kosovo'])]"
   ]
  },
  {
   "cell_type": "code",
   "execution_count": 17,
   "id": "related-center",
   "metadata": {
    "execution": {
     "iopub.execute_input": "2022-10-09T12:18:43.342285Z",
     "iopub.status.busy": "2022-10-09T12:18:43.340999Z",
     "iopub.status.idle": "2022-10-09T12:18:43.343301Z",
     "shell.execute_reply": "2022-10-09T12:18:43.344150Z"
    },
    "papermill": {
     "duration": 0.072577,
     "end_time": "2022-10-09T12:18:43.344340",
     "exception": false,
     "start_time": "2022-10-09T12:18:43.271763",
     "status": "completed"
    },
    "tags": []
   },
   "outputs": [],
   "source": [
    "#hide\n",
    "metrics = [df_table.columns[index] for index in [1,2,5,6]]\n",
    "# s_china = df_table[df_table['Country/Region'].eq('China')][metrics].sum().add_prefix('China ')\n",
    "s_us = df_table[df_table['Country/Region'].eq('US')][metrics].sum().add_prefix('US ')\n",
    "s_eu = df_table[df_table['Continent'].eq('Europe')][metrics].sum().add_prefix('EU ')\n",
    "s_ind = df_table[df_table['Country/Region'].eq('India')][metrics].sum().add_prefix('India ')\n",
    "summary = {'updated': pd.to_datetime(dt_today), 'since': pd.to_datetime(dt_yday)}\n",
    "summary = {'updated': pd.to_datetime(dt_today), 'since': pd.to_datetime(dt_yday)}\n",
    "summary = {**summary, **df_table[metrics].sum(), **s_ind, **s_us, **s_eu}"
   ]
  },
  {
   "cell_type": "code",
   "execution_count": 18,
   "id": "engaging-syndrome",
   "metadata": {
    "execution": {
     "iopub.execute_input": "2022-10-09T12:18:43.438818Z",
     "iopub.status.busy": "2022-10-09T12:18:43.437999Z",
     "iopub.status.idle": "2022-10-09T12:18:43.462403Z",
     "shell.execute_reply": "2022-10-09T12:18:43.461728Z"
    },
    "papermill": {
     "duration": 0.075471,
     "end_time": "2022-10-09T12:18:43.462572",
     "exception": false,
     "start_time": "2022-10-09T12:18:43.387101",
     "status": "completed"
    },
    "tags": []
   },
   "outputs": [],
   "source": [
    "#hide\n",
    "dft_ct_new_cases = dft_cases.groupby(COL_REGION)[dt_cols].sum().diff(axis=1).fillna(0).astype(int)"
   ]
  },
  {
   "cell_type": "code",
   "execution_count": 19,
   "id": "neutral-assignment",
   "metadata": {
    "execution": {
     "iopub.execute_input": "2022-10-09T12:18:43.551839Z",
     "iopub.status.busy": "2022-10-09T12:18:43.551069Z",
     "iopub.status.idle": "2022-10-09T12:18:43.558383Z",
     "shell.execute_reply": "2022-10-09T12:18:43.557683Z"
    },
    "papermill": {
     "duration": 0.052781,
     "end_time": "2022-10-09T12:18:43.558519",
     "exception": false,
     "start_time": "2022-10-09T12:18:43.505738",
     "status": "completed"
    },
    "tags": []
   },
   "outputs": [],
   "source": [
    "#hide\n",
    "everydaycases = dft_ct_new_cases.cumsum(axis=1)"
   ]
  },
  {
   "cell_type": "code",
   "execution_count": 20,
   "id": "parliamentary-calgary",
   "metadata": {
    "execution": {
     "iopub.execute_input": "2022-10-09T12:18:43.646916Z",
     "iopub.status.busy": "2022-10-09T12:18:43.646173Z",
     "iopub.status.idle": "2022-10-09T12:18:44.428015Z",
     "shell.execute_reply": "2022-10-09T12:18:44.428630Z"
    },
    "papermill": {
     "duration": 0.829331,
     "end_time": "2022-10-09T12:18:44.428823",
     "exception": false,
     "start_time": "2022-10-09T12:18:43.599492",
     "status": "completed"
    },
    "tags": []
   },
   "outputs": [],
   "source": [
    "#hide\n",
    "import pandas as pd\n",
    "import matplotlib.pyplot as plt\n",
    "import matplotlib.ticker as ticker\n",
    "import matplotlib.animation as animation\n",
    "from IPython.display import HTML"
   ]
  },
  {
   "cell_type": "code",
   "execution_count": 21,
   "id": "lasting-extraction",
   "metadata": {
    "execution": {
     "iopub.execute_input": "2022-10-09T12:18:44.528565Z",
     "iopub.status.busy": "2022-10-09T12:18:44.527767Z",
     "iopub.status.idle": "2022-10-09T12:18:44.537619Z",
     "shell.execute_reply": "2022-10-09T12:18:44.536967Z"
    },
    "papermill": {
     "duration": 0.064544,
     "end_time": "2022-10-09T12:18:44.537764",
     "exception": false,
     "start_time": "2022-10-09T12:18:44.473220",
     "status": "completed"
    },
    "tags": []
   },
   "outputs": [],
   "source": [
    "#hide\n",
    "t = everydaycases.stack()"
   ]
  },
  {
   "cell_type": "code",
   "execution_count": 22,
   "id": "premier-sleeve",
   "metadata": {
    "execution": {
     "iopub.execute_input": "2022-10-09T12:18:44.629474Z",
     "iopub.status.busy": "2022-10-09T12:18:44.628719Z",
     "iopub.status.idle": "2022-10-09T12:18:44.644501Z",
     "shell.execute_reply": "2022-10-09T12:18:44.645134Z"
    },
    "papermill": {
     "duration": 0.064899,
     "end_time": "2022-10-09T12:18:44.645304",
     "exception": false,
     "start_time": "2022-10-09T12:18:44.580405",
     "status": "completed"
    },
    "tags": []
   },
   "outputs": [],
   "source": [
    "#hide\n",
    "g = t.reset_index(['Country/Region'])"
   ]
  },
  {
   "cell_type": "code",
   "execution_count": 23,
   "id": "distributed-pittsburgh",
   "metadata": {
    "execution": {
     "iopub.execute_input": "2022-10-09T12:18:44.738033Z",
     "iopub.status.busy": "2022-10-09T12:18:44.736840Z",
     "iopub.status.idle": "2022-10-09T12:18:44.742840Z",
     "shell.execute_reply": "2022-10-09T12:18:44.742153Z"
    },
    "papermill": {
     "duration": 0.055801,
     "end_time": "2022-10-09T12:18:44.742984",
     "exception": false,
     "start_time": "2022-10-09T12:18:44.687183",
     "status": "completed"
    },
    "tags": []
   },
   "outputs": [],
   "source": [
    "#hide\n",
    "g.index.name = 'date'"
   ]
  },
  {
   "cell_type": "code",
   "execution_count": 24,
   "id": "naked-donor",
   "metadata": {
    "execution": {
     "iopub.execute_input": "2022-10-09T12:18:44.832865Z",
     "iopub.status.busy": "2022-10-09T12:18:44.831923Z",
     "iopub.status.idle": "2022-10-09T12:18:44.834620Z",
     "shell.execute_reply": "2022-10-09T12:18:44.835179Z"
    },
    "papermill": {
     "duration": 0.051259,
     "end_time": "2022-10-09T12:18:44.835350",
     "exception": false,
     "start_time": "2022-10-09T12:18:44.784091",
     "status": "completed"
    },
    "tags": []
   },
   "outputs": [],
   "source": [
    "# #hide\n",
    "# g = g.reset_index(['date'])"
   ]
  },
  {
   "cell_type": "code",
   "execution_count": 25,
   "id": "incomplete-mustang",
   "metadata": {
    "execution": {
     "iopub.execute_input": "2022-10-09T12:18:44.929415Z",
     "iopub.status.busy": "2022-10-09T12:18:44.928669Z",
     "iopub.status.idle": "2022-10-09T12:18:44.933690Z",
     "shell.execute_reply": "2022-10-09T12:18:44.933041Z"
    },
    "papermill": {
     "duration": 0.054908,
     "end_time": "2022-10-09T12:18:44.933843",
     "exception": false,
     "start_time": "2022-10-09T12:18:44.878935",
     "status": "completed"
    },
    "tags": []
   },
   "outputs": [],
   "source": [
    "#hide\n",
    "# g.head()"
   ]
  },
  {
   "cell_type": "code",
   "execution_count": 26,
   "id": "specific-kruger",
   "metadata": {
    "execution": {
     "iopub.execute_input": "2022-10-09T12:18:45.031901Z",
     "iopub.status.busy": "2022-10-09T12:18:45.031020Z",
     "iopub.status.idle": "2022-10-09T12:18:45.034266Z",
     "shell.execute_reply": "2022-10-09T12:18:45.033521Z"
    },
    "papermill": {
     "duration": 0.053623,
     "end_time": "2022-10-09T12:18:45.034443",
     "exception": false,
     "start_time": "2022-10-09T12:18:44.980820",
     "status": "completed"
    },
    "tags": []
   },
   "outputs": [],
   "source": [
    "#hide\n",
    "# g.columns = ['date','country','cases']"
   ]
  },
  {
   "cell_type": "code",
   "execution_count": 27,
   "id": "tender-conversion",
   "metadata": {
    "execution": {
     "iopub.execute_input": "2022-10-09T12:18:45.126776Z",
     "iopub.status.busy": "2022-10-09T12:18:45.125995Z",
     "iopub.status.idle": "2022-10-09T12:18:45.129287Z",
     "shell.execute_reply": "2022-10-09T12:18:45.128650Z"
    },
    "papermill": {
     "duration": 0.050342,
     "end_time": "2022-10-09T12:18:45.129430",
     "exception": false,
     "start_time": "2022-10-09T12:18:45.079088",
     "status": "completed"
    },
    "tags": []
   },
   "outputs": [],
   "source": [
    "#hide\n",
    "# g['continent'] = g.country"
   ]
  },
  {
   "cell_type": "code",
   "execution_count": 28,
   "id": "substantial-wilderness",
   "metadata": {
    "execution": {
     "iopub.execute_input": "2022-10-09T12:18:45.221090Z",
     "iopub.status.busy": "2022-10-09T12:18:45.220262Z",
     "iopub.status.idle": "2022-10-09T12:18:45.223860Z",
     "shell.execute_reply": "2022-10-09T12:18:45.223161Z"
    },
    "papermill": {
     "duration": 0.04995,
     "end_time": "2022-10-09T12:18:45.223999",
     "exception": false,
     "start_time": "2022-10-09T12:18:45.174049",
     "status": "completed"
    },
    "tags": []
   },
   "outputs": [],
   "source": [
    "#hide\n",
    "# cols = list(g.columns.values)"
   ]
  },
  {
   "cell_type": "code",
   "execution_count": 29,
   "id": "solved-farming",
   "metadata": {
    "execution": {
     "iopub.execute_input": "2022-10-09T12:18:45.315533Z",
     "iopub.status.busy": "2022-10-09T12:18:45.314379Z",
     "iopub.status.idle": "2022-10-09T12:18:45.317665Z",
     "shell.execute_reply": "2022-10-09T12:18:45.317015Z"
    },
    "papermill": {
     "duration": 0.052352,
     "end_time": "2022-10-09T12:18:45.317845",
     "exception": false,
     "start_time": "2022-10-09T12:18:45.265493",
     "status": "completed"
    },
    "tags": []
   },
   "outputs": [],
   "source": [
    "#hide\n",
    "# cols.insert(0, cols.pop())"
   ]
  },
  {
   "cell_type": "code",
   "execution_count": 30,
   "id": "executed-adoption",
   "metadata": {
    "execution": {
     "iopub.execute_input": "2022-10-09T12:18:45.410542Z",
     "iopub.status.busy": "2022-10-09T12:18:45.409514Z",
     "iopub.status.idle": "2022-10-09T12:18:45.412823Z",
     "shell.execute_reply": "2022-10-09T12:18:45.412170Z"
    },
    "papermill": {
     "duration": 0.052709,
     "end_time": "2022-10-09T12:18:45.412970",
     "exception": false,
     "start_time": "2022-10-09T12:18:45.360261",
     "status": "completed"
    },
    "tags": []
   },
   "outputs": [],
   "source": [
    "#hide\n",
    "# g = g[cols]"
   ]
  },
  {
   "cell_type": "code",
   "execution_count": 31,
   "id": "subject-dublin",
   "metadata": {
    "execution": {
     "iopub.execute_input": "2022-10-09T12:18:45.500977Z",
     "iopub.status.busy": "2022-10-09T12:18:45.500266Z",
     "iopub.status.idle": "2022-10-09T12:18:45.503394Z",
     "shell.execute_reply": "2022-10-09T12:18:45.502724Z"
    },
    "papermill": {
     "duration": 0.048398,
     "end_time": "2022-10-09T12:18:45.503536",
     "exception": false,
     "start_time": "2022-10-09T12:18:45.455138",
     "status": "completed"
    },
    "tags": []
   },
   "outputs": [],
   "source": [
    "#hide\n",
    "# g['continent'] = g['continent'].map(mapping['map.continent'])"
   ]
  },
  {
   "cell_type": "code",
   "execution_count": 32,
   "id": "freelance-scout",
   "metadata": {
    "execution": {
     "iopub.execute_input": "2022-10-09T12:18:45.594280Z",
     "iopub.status.busy": "2022-10-09T12:18:45.593395Z",
     "iopub.status.idle": "2022-10-09T12:18:45.596989Z",
     "shell.execute_reply": "2022-10-09T12:18:45.596356Z"
    },
    "papermill": {
     "duration": 0.051297,
     "end_time": "2022-10-09T12:18:45.597131",
     "exception": false,
     "start_time": "2022-10-09T12:18:45.545834",
     "status": "completed"
    },
    "tags": []
   },
   "outputs": [],
   "source": [
    "#hide\n",
    "# g.head()"
   ]
  },
  {
   "cell_type": "code",
   "execution_count": 33,
   "id": "limited-engine",
   "metadata": {
    "execution": {
     "iopub.execute_input": "2022-10-09T12:18:45.704634Z",
     "iopub.status.busy": "2022-10-09T12:18:45.703843Z",
     "iopub.status.idle": "2022-10-09T12:18:45.707804Z",
     "shell.execute_reply": "2022-10-09T12:18:45.707120Z"
    },
    "papermill": {
     "duration": 0.056283,
     "end_time": "2022-10-09T12:18:45.707969",
     "exception": false,
     "start_time": "2022-10-09T12:18:45.651686",
     "status": "completed"
    },
    "tags": []
   },
   "outputs": [],
   "source": [
    "# hide\n",
    "# g['date'] = g['date'].astype('datetime64[ns]')"
   ]
  },
  {
   "cell_type": "code",
   "execution_count": 34,
   "id": "sophisticated-supervisor",
   "metadata": {
    "execution": {
     "iopub.execute_input": "2022-10-09T12:18:45.803240Z",
     "iopub.status.busy": "2022-10-09T12:18:45.802408Z",
     "iopub.status.idle": "2022-10-09T12:18:45.805249Z",
     "shell.execute_reply": "2022-10-09T12:18:45.804393Z"
    },
    "papermill": {
     "duration": 0.051138,
     "end_time": "2022-10-09T12:18:45.805393",
     "exception": false,
     "start_time": "2022-10-09T12:18:45.754255",
     "status": "completed"
    },
    "tags": []
   },
   "outputs": [],
   "source": [
    "#hide\n",
    "# g['date'] = g.date.dt.dayofyear"
   ]
  },
  {
   "cell_type": "code",
   "execution_count": 35,
   "id": "inside-dubai",
   "metadata": {
    "execution": {
     "iopub.execute_input": "2022-10-09T12:18:45.903267Z",
     "iopub.status.busy": "2022-10-09T12:18:45.902422Z",
     "iopub.status.idle": "2022-10-09T12:18:45.906651Z",
     "shell.execute_reply": "2022-10-09T12:18:45.905929Z"
    },
    "papermill": {
     "duration": 0.054286,
     "end_time": "2022-10-09T12:18:45.906804",
     "exception": false,
     "start_time": "2022-10-09T12:18:45.852518",
     "status": "completed"
    },
    "tags": []
   },
   "outputs": [],
   "source": [
    "#hide\n",
    "# g = g.rename(columns= {'continent':'group','country':'name','cases':'value'})"
   ]
  },
  {
   "cell_type": "code",
   "execution_count": 36,
   "id": "fleet-motorcycle",
   "metadata": {
    "execution": {
     "iopub.execute_input": "2022-10-09T12:18:46.003596Z",
     "iopub.status.busy": "2022-10-09T12:18:46.002722Z",
     "iopub.status.idle": "2022-10-09T12:18:46.007794Z",
     "shell.execute_reply": "2022-10-09T12:18:46.007119Z"
    },
    "papermill": {
     "duration": 0.058752,
     "end_time": "2022-10-09T12:18:46.007960",
     "exception": false,
     "start_time": "2022-10-09T12:18:45.949208",
     "status": "completed"
    },
    "tags": []
   },
   "outputs": [],
   "source": [
    "#hide\n",
    "# cols = ['name','group','day','value']"
   ]
  },
  {
   "cell_type": "code",
   "execution_count": 37,
   "id": "continued-sleeping",
   "metadata": {
    "execution": {
     "iopub.execute_input": "2022-10-09T12:18:46.100699Z",
     "iopub.status.busy": "2022-10-09T12:18:46.099811Z",
     "iopub.status.idle": "2022-10-09T12:18:46.101520Z",
     "shell.execute_reply": "2022-10-09T12:18:46.102250Z"
    },
    "papermill": {
     "duration": 0.050448,
     "end_time": "2022-10-09T12:18:46.102411",
     "exception": false,
     "start_time": "2022-10-09T12:18:46.051963",
     "status": "completed"
    },
    "tags": []
   },
   "outputs": [],
   "source": [
    "#hide\n",
    "# g.rename(columns= {'date':'day'},inplace = True)"
   ]
  },
  {
   "cell_type": "code",
   "execution_count": 38,
   "id": "major-fight",
   "metadata": {
    "execution": {
     "iopub.execute_input": "2022-10-09T12:18:46.199442Z",
     "iopub.status.busy": "2022-10-09T12:18:46.198592Z",
     "iopub.status.idle": "2022-10-09T12:18:46.202092Z",
     "shell.execute_reply": "2022-10-09T12:18:46.201453Z"
    },
    "papermill": {
     "duration": 0.054339,
     "end_time": "2022-10-09T12:18:46.202227",
     "exception": false,
     "start_time": "2022-10-09T12:18:46.147888",
     "status": "completed"
    },
    "tags": []
   },
   "outputs": [],
   "source": [
    "#hide\n",
    "# g = g[cols]"
   ]
  },
  {
   "cell_type": "code",
   "execution_count": 39,
   "id": "structured-mobile",
   "metadata": {
    "execution": {
     "iopub.execute_input": "2022-10-09T12:18:46.298088Z",
     "iopub.status.busy": "2022-10-09T12:18:46.296854Z",
     "iopub.status.idle": "2022-10-09T12:18:46.302708Z",
     "shell.execute_reply": "2022-10-09T12:18:46.302090Z"
    },
    "papermill": {
     "duration": 0.057084,
     "end_time": "2022-10-09T12:18:46.302844",
     "exception": false,
     "start_time": "2022-10-09T12:18:46.245760",
     "status": "completed"
    },
    "tags": []
   },
   "outputs": [],
   "source": [
    "# #hide\n",
    "# g = g[g.group.notna()]"
   ]
  },
  {
   "cell_type": "code",
   "execution_count": 40,
   "id": "determined-closing",
   "metadata": {
    "execution": {
     "iopub.execute_input": "2022-10-09T12:18:46.393833Z",
     "iopub.status.busy": "2022-10-09T12:18:46.393095Z",
     "iopub.status.idle": "2022-10-09T12:18:46.398196Z",
     "shell.execute_reply": "2022-10-09T12:18:46.398784Z"
    },
    "papermill": {
     "duration": 0.053047,
     "end_time": "2022-10-09T12:18:46.398938",
     "exception": false,
     "start_time": "2022-10-09T12:18:46.345891",
     "status": "completed"
    },
    "tags": []
   },
   "outputs": [],
   "source": [
    "# #hide\n",
    "# colors = dict(zip(\n",
    "#     [\"Oceania\", \"Europe\", \"Asia\", \"South America\", \"Middle East\", \"North America\", \"Africa\"],\n",
    "#     [\"#adb0ff\", \"#ffb3ff\", \"#90d595\", \"#e48381\", \"#aafbff\", \"#f7bb5f\", \"#eafb50\"]\n",
    "# ))\n",
    "# group_lk = g.set_index('name')['group'].to_dict()"
   ]
  },
  {
   "cell_type": "code",
   "execution_count": null,
   "id": "gross-drinking",
   "metadata": {
    "papermill": {
     "duration": 0.054618,
     "end_time": "2022-10-09T12:18:46.496012",
     "exception": false,
     "start_time": "2022-10-09T12:18:46.441394",
     "status": "completed"
    },
    "tags": []
   },
   "outputs": [],
   "source": []
  },
  {
   "cell_type": "code",
   "execution_count": 41,
   "id": "subject-macintosh",
   "metadata": {
    "execution": {
     "iopub.execute_input": "2022-10-09T12:18:46.589764Z",
     "iopub.status.busy": "2022-10-09T12:18:46.588999Z",
     "iopub.status.idle": "2022-10-09T12:18:46.592120Z",
     "shell.execute_reply": "2022-10-09T12:18:46.591456Z"
    },
    "papermill": {
     "duration": 0.051599,
     "end_time": "2022-10-09T12:18:46.592280",
     "exception": false,
     "start_time": "2022-10-09T12:18:46.540681",
     "status": "completed"
    },
    "tags": []
   },
   "outputs": [],
   "source": [
    "# #hide\n",
    "# fig, ax = plt.subplots(figsize=(15, 8))\n",
    "\n",
    "# def draw_barchart(current_day):\n",
    "#     dff = g[g['day'].eq(current_day)].sort_values(by='value', ascending=True).tail(10)\n",
    "#     ax.clear()\n",
    "#     ax.barh(dff['name'], dff['value'], color=[colors[group_lk[x]] for x in dff['name']])\n",
    "#     dx = dff['value'].max() / 200\n",
    "    \n",
    "#     for i, (value, name) in enumerate(zip(dff['value'], dff['name'])):\n",
    "#         ax.text(value-dx, i,     name,           size=14, weight=600, ha='right', va='bottom')\n",
    "#         ax.text(value-dx, i-.25, group_lk[name], size=10, color='#444444', ha='right', va='baseline')\n",
    "#         ax.text(value+dx, i,     f'{value:,.0f}',  size=14, ha='left',  va='center')\n",
    "#     ax.text(1, 0.4, current_day, transform=ax.transAxes, color='#777777', size=46, ha='right', weight=800)\n",
    "#     ax.text(0, 1.06, 'Population (thousands)', transform=ax.transAxes, size=12, color='#777777')\n",
    "#     ax.xaxis.set_major_formatter(ticker.StrMethodFormatter('{x:,.0f}'))\n",
    "#     ax.xaxis.set_ticks_position('top')\n",
    "#     ax.tick_params(axis='x', colors='#777777', labelsize=12)\n",
    "#     ax.set_yticks([])\n",
    "#     ax.margins(0, 0.01)\n",
    "#     ax.grid(which='major', axis='x', linestyle='-')\n",
    "#     ax.set_axisbelow(True)\n",
    "    \n",
    "#     ax.text(0, 1.15, 'Coronavirus',\n",
    "#             transform=ax.transAxes, size=24, weight=600, ha='left', va='top')\n",
    "# #     ax.text(1, 0, 'by @pratapvardhan; credit @jburnmurdoch', transform=ax.transAxes, color='#777777', ha='right',\n",
    "# #             bbox=dict(facecolor='white', alpha=0.8, edgecolor='white'))\n",
    "#     plt.box(False)"
   ]
  },
  {
   "cell_type": "code",
   "execution_count": 42,
   "id": "sexual-wages",
   "metadata": {
    "execution": {
     "iopub.execute_input": "2022-10-09T12:18:46.684618Z",
     "iopub.status.busy": "2022-10-09T12:18:46.683680Z",
     "iopub.status.idle": "2022-10-09T12:18:46.686867Z",
     "shell.execute_reply": "2022-10-09T12:18:46.686236Z"
    },
    "papermill": {
     "duration": 0.052171,
     "end_time": "2022-10-09T12:18:46.686996",
     "exception": false,
     "start_time": "2022-10-09T12:18:46.634825",
     "status": "completed"
    },
    "tags": []
   },
   "outputs": [],
   "source": [
    "# #hide_input\n",
    "# fig, ax = plt.subplots(figsize=(15, 8))\n",
    "# animator = animation.FuncAnimation(fig, draw_barchart, frames=range(g.day.values.min(), g.day.values.max()))\n",
    "# HTML(animator.to_jshtml())\n",
    "# # or use animator.to_html5_video() or animator.save() "
   ]
  },
  {
   "cell_type": "code",
   "execution_count": null,
   "id": "australian-container",
   "metadata": {
    "papermill": {
     "duration": 0.041423,
     "end_time": "2022-10-09T12:18:46.772509",
     "exception": false,
     "start_time": "2022-10-09T12:18:46.731086",
     "status": "completed"
    },
    "tags": []
   },
   "outputs": [],
   "source": []
  },
  {
   "cell_type": "code",
   "execution_count": null,
   "id": "mediterranean-pontiac",
   "metadata": {
    "papermill": {
     "duration": 0.043817,
     "end_time": "2022-10-09T12:18:46.859607",
     "exception": false,
     "start_time": "2022-10-09T12:18:46.815790",
     "status": "completed"
    },
    "tags": []
   },
   "outputs": [],
   "source": []
  },
  {
   "cell_type": "code",
   "execution_count": null,
   "id": "aging-legislature",
   "metadata": {
    "papermill": {
     "duration": 0.041832,
     "end_time": "2022-10-09T12:18:46.948182",
     "exception": false,
     "start_time": "2022-10-09T12:18:46.906350",
     "status": "completed"
    },
    "tags": []
   },
   "outputs": [],
   "source": []
  }
 ],
 "metadata": {
  "kernelspec": {
   "display_name": "Python 3",
   "language": "python",
   "name": "python3"
  },
  "language_info": {
   "codemirror_mode": {
    "name": "ipython",
    "version": 3
   },
   "file_extension": ".py",
   "mimetype": "text/x-python",
   "name": "python",
   "nbconvert_exporter": "python",
   "pygments_lexer": "ipython3",
   "version": "3.6.15"
  },
  "papermill": {
   "duration": 8.167762,
   "end_time": "2022-10-09T12:18:47.412727",
   "environment_variables": {},
   "exception": null,
   "input_path": "2020-03-21-covid19exp.ipynb",
   "output_path": "2020-03-21-covid19exp.ipynb",
   "parameters": {},
   "start_time": "2022-10-09T12:18:39.244965",
   "version": "2.0.0"
  }
 },
 "nbformat": 4,
 "nbformat_minor": 5
}