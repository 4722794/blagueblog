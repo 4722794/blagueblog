{
 "cells": [
  {
   "cell_type": "markdown",
   "id": "muslim-click",
   "metadata": {
    "papermill": {
     "duration": 0.044726,
     "end_time": "2022-03-10T00:32:43.539325",
     "exception": false,
     "start_time": "2022-03-10T00:32:43.494599",
     "status": "completed"
    },
    "tags": []
   },
   "source": [
    "# COVID-19 Case Race\n",
    "> A race chart to see rising cases around the world\n",
    "\n",
    "- author: Hargun Oberoi\n",
    "- image: images/covid-overview.png\n",
    "- hide: false\n",
    "- badges: false"
   ]
  },
  {
   "cell_type": "code",
   "execution_count": 1,
   "id": "proof-material",
   "metadata": {
    "execution": {
     "iopub.execute_input": "2022-03-10T00:32:43.627680Z",
     "iopub.status.busy": "2022-03-10T00:32:43.626999Z",
     "iopub.status.idle": "2022-03-10T00:32:44.018523Z",
     "shell.execute_reply": "2022-03-10T00:32:44.017869Z"
    },
    "papermill": {
     "duration": 0.441176,
     "end_time": "2022-03-10T00:32:44.018684",
     "exception": false,
     "start_time": "2022-03-10T00:32:43.577508",
     "status": "completed"
    },
    "tags": []
   },
   "outputs": [],
   "source": [
    "#hide\n",
    "import numpy as np\n",
    "import pandas as pd\n",
    "from jinja2 import Template\n",
    "from IPython.display import HTML"
   ]
  },
  {
   "cell_type": "code",
   "execution_count": 2,
   "id": "developed-terminology",
   "metadata": {
    "execution": {
     "iopub.execute_input": "2022-03-10T00:32:44.097832Z",
     "iopub.status.busy": "2022-03-10T00:32:44.096689Z",
     "iopub.status.idle": "2022-03-10T00:32:44.098669Z",
     "shell.execute_reply": "2022-03-10T00:32:44.099160Z"
    },
    "papermill": {
     "duration": 0.045636,
     "end_time": "2022-03-10T00:32:44.099317",
     "exception": false,
     "start_time": "2022-03-10T00:32:44.053681",
     "status": "completed"
    },
    "tags": []
   },
   "outputs": [],
   "source": [
    "#hide\n",
    "\n",
    "# FETCH\n",
    "base_url = 'https://raw.githubusercontent.com/pratapvardhan/notebooks/master/covid19/'\n",
    "paths = {\n",
    "    'mapping': base_url + 'mapping_countries.csv',\n",
    "    'overview': base_url + 'overview.tpl'\n",
    "}"
   ]
  },
  {
   "cell_type": "code",
   "execution_count": 3,
   "id": "dynamic-saver",
   "metadata": {
    "execution": {
     "iopub.execute_input": "2022-03-10T00:32:44.183107Z",
     "iopub.status.busy": "2022-03-10T00:32:44.182459Z",
     "iopub.status.idle": "2022-03-10T00:32:44.185044Z",
     "shell.execute_reply": "2022-03-10T00:32:44.185629Z"
    },
    "papermill": {
     "duration": 0.051004,
     "end_time": "2022-03-10T00:32:44.185786",
     "exception": false,
     "start_time": "2022-03-10T00:32:44.134782",
     "status": "completed"
    },
    "tags": []
   },
   "outputs": [
    {
     "data": {
      "text/plain": [
       "'https://raw.githubusercontent.com/pratapvardhan/notebooks/master/covid19/mapping_countries.csv'"
      ]
     },
     "execution_count": 3,
     "metadata": {},
     "output_type": "execute_result"
    }
   ],
   "source": [
    "#hide\n",
    "paths['mapping']"
   ]
  },
  {
   "cell_type": "code",
   "execution_count": 4,
   "id": "urban-software",
   "metadata": {
    "execution": {
     "iopub.execute_input": "2022-03-10T00:32:44.268086Z",
     "iopub.status.busy": "2022-03-10T00:32:44.267126Z",
     "iopub.status.idle": "2022-03-10T00:32:44.271998Z",
     "shell.execute_reply": "2022-03-10T00:32:44.271449Z"
    },
    "papermill": {
     "duration": 0.049004,
     "end_time": "2022-03-10T00:32:44.272141",
     "exception": false,
     "start_time": "2022-03-10T00:32:44.223137",
     "status": "completed"
    },
    "tags": []
   },
   "outputs": [],
   "source": [
    "#hide\n",
    "def get_mappings(url):\n",
    "    df = pd.read_csv(url)\n",
    "    return {\n",
    "        'df': df,\n",
    "        'replace.country': dict(df.dropna(subset=['Name']).set_index('Country')['Name']),\n",
    "        'map.continent': dict(df.set_index('Name')['Continent'])\n",
    "    }"
   ]
  },
  {
   "cell_type": "code",
   "execution_count": 5,
   "id": "intimate-machinery",
   "metadata": {
    "execution": {
     "iopub.execute_input": "2022-03-10T00:32:44.361700Z",
     "iopub.status.busy": "2022-03-10T00:32:44.361055Z",
     "iopub.status.idle": "2022-03-10T00:32:44.389502Z",
     "shell.execute_reply": "2022-03-10T00:32:44.388902Z"
    },
    "papermill": {
     "duration": 0.076418,
     "end_time": "2022-03-10T00:32:44.389646",
     "exception": false,
     "start_time": "2022-03-10T00:32:44.313228",
     "status": "completed"
    },
    "tags": []
   },
   "outputs": [],
   "source": [
    "#hide\n",
    "mapping = get_mappings(paths['mapping'])"
   ]
  },
  {
   "cell_type": "code",
   "execution_count": 6,
   "id": "certified-tactics",
   "metadata": {
    "execution": {
     "iopub.execute_input": "2022-03-10T00:32:44.467431Z",
     "iopub.status.busy": "2022-03-10T00:32:44.466788Z",
     "iopub.status.idle": "2022-03-10T00:32:44.469541Z",
     "shell.execute_reply": "2022-03-10T00:32:44.469015Z"
    },
    "papermill": {
     "duration": 0.044382,
     "end_time": "2022-03-10T00:32:44.469670",
     "exception": false,
     "start_time": "2022-03-10T00:32:44.425288",
     "status": "completed"
    },
    "tags": []
   },
   "outputs": [],
   "source": [
    "#hide\n",
    "def get_template(path):\n",
    "    from urllib.parse import urlparse\n",
    "    if bool(urlparse(path).netloc):\n",
    "        from urllib.request import urlopen\n",
    "        return urlopen(path).read().decode('utf8')\n",
    "    return open(path).read()"
   ]
  },
  {
   "cell_type": "code",
   "execution_count": 7,
   "id": "realistic-blast",
   "metadata": {
    "execution": {
     "iopub.execute_input": "2022-03-10T00:32:44.547117Z",
     "iopub.status.busy": "2022-03-10T00:32:44.546450Z",
     "iopub.status.idle": "2022-03-10T00:32:44.548881Z",
     "shell.execute_reply": "2022-03-10T00:32:44.548382Z"
    },
    "papermill": {
     "duration": 0.043818,
     "end_time": "2022-03-10T00:32:44.549014",
     "exception": false,
     "start_time": "2022-03-10T00:32:44.505196",
     "status": "completed"
    },
    "tags": []
   },
   "outputs": [],
   "source": [
    "#hide\n",
    "def get_frame(name):\n",
    "    url = (\n",
    "        'https://raw.githubusercontent.com/CSSEGISandData/COVID-19/master/csse_covid_19_data/'\n",
    "        f'csse_covid_19_time_series/time_series_covid19_{name}_global.csv')\n",
    "    df = pd.read_csv(url)\n",
    "    # rename countries\n",
    "    df['Country/Region'] = df['Country/Region'].replace(mapping['replace.country'])\n",
    "    return df"
   ]
  },
  {
   "cell_type": "code",
   "execution_count": 8,
   "id": "affiliated-characterization",
   "metadata": {
    "execution": {
     "iopub.execute_input": "2022-03-10T00:32:44.630175Z",
     "iopub.status.busy": "2022-03-10T00:32:44.629533Z",
     "iopub.status.idle": "2022-03-10T00:32:44.631093Z",
     "shell.execute_reply": "2022-03-10T00:32:44.631663Z"
    },
    "papermill": {
     "duration": 0.046516,
     "end_time": "2022-03-10T00:32:44.631841",
     "exception": false,
     "start_time": "2022-03-10T00:32:44.585325",
     "status": "completed"
    },
    "tags": []
   },
   "outputs": [],
   "source": [
    "#hide\n",
    "def get_dates(df):\n",
    "    dt_cols = df.columns[~df.columns.isin(['Province/State', 'Country/Region', 'Lat', 'Long'])]\n",
    "    LAST_DATE_I = -1\n",
    "    # sometimes last column may be empty, then go backwards\n",
    "    for i in range(-1, -len(dt_cols), -1):\n",
    "        if not df[dt_cols[i]].fillna(0).eq(0).all():\n",
    "            LAST_DATE_I = i\n",
    "            break\n",
    "    return LAST_DATE_I, dt_cols"
   ]
  },
  {
   "cell_type": "code",
   "execution_count": 9,
   "id": "recent-optimization",
   "metadata": {
    "execution": {
     "iopub.execute_input": "2022-03-10T00:32:44.716957Z",
     "iopub.status.busy": "2022-03-10T00:32:44.716282Z",
     "iopub.status.idle": "2022-03-10T00:32:45.111139Z",
     "shell.execute_reply": "2022-03-10T00:32:45.110547Z"
    },
    "papermill": {
     "duration": 0.443183,
     "end_time": "2022-03-10T00:32:45.111282",
     "exception": false,
     "start_time": "2022-03-10T00:32:44.668099",
     "status": "completed"
    },
    "tags": []
   },
   "outputs": [],
   "source": [
    "#hide\n",
    "COL_REGION = 'Country/Region'\n",
    "# Confirmed, Recovered, Deaths\n",
    "df = get_frame('confirmed')\n",
    "# dft_: timeseries, dfc_: today country agg\n",
    "dft_cases = df\n",
    "dft_deaths = get_frame('deaths')\n",
    "dft_recovered = get_frame('recovered')\n",
    "LAST_DATE_I, dt_cols = get_dates(df)"
   ]
  },
  {
   "cell_type": "code",
   "execution_count": 10,
   "id": "absolute-copper",
   "metadata": {
    "execution": {
     "iopub.execute_input": "2022-03-10T00:32:45.193228Z",
     "iopub.status.busy": "2022-03-10T00:32:45.192084Z",
     "iopub.status.idle": "2022-03-10T00:32:45.194821Z",
     "shell.execute_reply": "2022-03-10T00:32:45.195291Z"
    },
    "papermill": {
     "duration": 0.047839,
     "end_time": "2022-03-10T00:32:45.195453",
     "exception": false,
     "start_time": "2022-03-10T00:32:45.147614",
     "status": "completed"
    },
    "tags": []
   },
   "outputs": [],
   "source": [
    "#hide\n",
    "LAST_DATE_I, dt_cols = get_dates(df)\n",
    "dt_today =dt_cols[LAST_DATE_I]\n",
    "# dt_5day = dt_cols[LAST_DATE_I - 5]\n",
    "dt_yday = dt_cols[LAST_DATE_I - 1]"
   ]
  },
  {
   "cell_type": "code",
   "execution_count": 11,
   "id": "restricted-sheriff",
   "metadata": {
    "execution": {
     "iopub.execute_input": "2022-03-10T00:32:45.275463Z",
     "iopub.status.busy": "2022-03-10T00:32:45.274765Z",
     "iopub.status.idle": "2022-03-10T00:32:45.283631Z",
     "shell.execute_reply": "2022-03-10T00:32:45.283103Z"
    },
    "papermill": {
     "duration": 0.053003,
     "end_time": "2022-03-10T00:32:45.283775",
     "exception": false,
     "start_time": "2022-03-10T00:32:45.230772",
     "status": "completed"
    },
    "tags": []
   },
   "outputs": [],
   "source": [
    "#hide\n",
    "dfc_cases = dft_cases.groupby(COL_REGION)[dt_today].sum()\n",
    "dfc_deaths = dft_deaths.groupby(COL_REGION)[dt_today].sum()\n",
    "# dfp_cases = dft_cases.groupby(COL_REGION)[dt_5day].sum()\n",
    "# dfp_deaths = dft_deaths.groupby(COL_REGION)[dt_5day].sum()\n",
    "dfp_cases = dft_cases.groupby(COL_REGION)[dt_yday].sum()\n",
    "dfp_deaths = dft_deaths.groupby(COL_REGION)[dt_yday].sum()"
   ]
  },
  {
   "cell_type": "code",
   "execution_count": 12,
   "id": "deluxe-hepatitis",
   "metadata": {
    "execution": {
     "iopub.execute_input": "2022-03-10T00:32:45.364759Z",
     "iopub.status.busy": "2022-03-10T00:32:45.364109Z",
     "iopub.status.idle": "2022-03-10T00:32:45.369931Z",
     "shell.execute_reply": "2022-03-10T00:32:45.370399Z"
    },
    "papermill": {
     "duration": 0.051031,
     "end_time": "2022-03-10T00:32:45.370558",
     "exception": false,
     "start_time": "2022-03-10T00:32:45.319527",
     "status": "completed"
    },
    "tags": []
   },
   "outputs": [],
   "source": [
    "#hide\n",
    "df_table = (pd.DataFrame(dict(Cases = dfc_cases, Deaths = dfc_deaths, PCases = dfp_cases, PDeaths = dfp_deaths))\n",
    "            .sort_values(by = ['Cases','Deaths'], ascending = [False, False])\n",
    "            .reset_index())"
   ]
  },
  {
   "cell_type": "code",
   "execution_count": 13,
   "id": "educational-chancellor",
   "metadata": {
    "execution": {
     "iopub.execute_input": "2022-03-10T00:32:45.462260Z",
     "iopub.status.busy": "2022-03-10T00:32:45.461570Z",
     "iopub.status.idle": "2022-03-10T00:32:45.469791Z",
     "shell.execute_reply": "2022-03-10T00:32:45.470327Z"
    },
    "papermill": {
     "duration": 0.064605,
     "end_time": "2022-03-10T00:32:45.470488",
     "exception": false,
     "start_time": "2022-03-10T00:32:45.405883",
     "status": "completed"
    },
    "tags": []
   },
   "outputs": [
    {
     "data": {
      "text/html": [
       "<div>\n",
       "<style scoped>\n",
       "    .dataframe tbody tr th:only-of-type {\n",
       "        vertical-align: middle;\n",
       "    }\n",
       "\n",
       "    .dataframe tbody tr th {\n",
       "        vertical-align: top;\n",
       "    }\n",
       "\n",
       "    .dataframe thead th {\n",
       "        text-align: right;\n",
       "    }\n",
       "</style>\n",
       "<table border=\"1\" class=\"dataframe\">\n",
       "  <thead>\n",
       "    <tr style=\"text-align: right;\">\n",
       "      <th></th>\n",
       "      <th>Country/Region</th>\n",
       "      <th>Cases</th>\n",
       "      <th>Deaths</th>\n",
       "      <th>PCases</th>\n",
       "      <th>PDeaths</th>\n",
       "      <th>Cases (+)</th>\n",
       "      <th>Deaths (+)</th>\n",
       "      <th>Fatality Rate</th>\n",
       "      <th>Continent</th>\n",
       "    </tr>\n",
       "  </thead>\n",
       "  <tbody>\n",
       "    <tr>\n",
       "      <th>0</th>\n",
       "      <td>US</td>\n",
       "      <td>79369007</td>\n",
       "      <td>961843</td>\n",
       "      <td>79339388</td>\n",
       "      <td>960505</td>\n",
       "      <td>29619</td>\n",
       "      <td>1338</td>\n",
       "      <td>1.21</td>\n",
       "      <td>North America</td>\n",
       "    </tr>\n",
       "    <tr>\n",
       "      <th>1</th>\n",
       "      <td>India</td>\n",
       "      <td>42975883</td>\n",
       "      <td>515355</td>\n",
       "      <td>42971308</td>\n",
       "      <td>515210</td>\n",
       "      <td>4575</td>\n",
       "      <td>145</td>\n",
       "      <td>1.20</td>\n",
       "      <td>Asia</td>\n",
       "    </tr>\n",
       "    <tr>\n",
       "      <th>2</th>\n",
       "      <td>Brazil</td>\n",
       "      <td>29152318</td>\n",
       "      <td>653134</td>\n",
       "      <td>29077831</td>\n",
       "      <td>652648</td>\n",
       "      <td>74487</td>\n",
       "      <td>486</td>\n",
       "      <td>2.24</td>\n",
       "      <td>South America</td>\n",
       "    </tr>\n",
       "    <tr>\n",
       "      <th>3</th>\n",
       "      <td>France</td>\n",
       "      <td>23346927</td>\n",
       "      <td>140642</td>\n",
       "      <td>23253235</td>\n",
       "      <td>140473</td>\n",
       "      <td>93692</td>\n",
       "      <td>169</td>\n",
       "      <td>0.60</td>\n",
       "      <td>Europe</td>\n",
       "    </tr>\n",
       "    <tr>\n",
       "      <th>4</th>\n",
       "      <td>United Kingdom</td>\n",
       "      <td>19446892</td>\n",
       "      <td>162936</td>\n",
       "      <td>19383743</td>\n",
       "      <td>162722</td>\n",
       "      <td>63149</td>\n",
       "      <td>214</td>\n",
       "      <td>0.84</td>\n",
       "      <td>Europe</td>\n",
       "    </tr>\n",
       "  </tbody>\n",
       "</table>\n",
       "</div>"
      ],
      "text/plain": [
       "   Country/Region     Cases  Deaths    PCases  PDeaths  Cases (+)  Deaths (+)  \\\n",
       "0              US  79369007  961843  79339388   960505      29619        1338   \n",
       "1           India  42975883  515355  42971308   515210       4575         145   \n",
       "2          Brazil  29152318  653134  29077831   652648      74487         486   \n",
       "3          France  23346927  140642  23253235   140473      93692         169   \n",
       "4  United Kingdom  19446892  162936  19383743   162722      63149         214   \n",
       "\n",
       "   Fatality Rate      Continent  \n",
       "0           1.21  North America  \n",
       "1           1.20           Asia  \n",
       "2           2.24  South America  \n",
       "3           0.60         Europe  \n",
       "4           0.84         Europe  "
      ]
     },
     "execution_count": 13,
     "metadata": {},
     "output_type": "execute_result"
    }
   ],
   "source": [
    "#hide\n",
    "for c in 'Cases, Deaths'.split(', '):\n",
    "    df_table[f'{c} (+)'] = (df_table[c] - df_table[f'P{c}']).clip(0)\n",
    "    #Clip ça veut dire, les chiffres negatif sont interdit\n",
    "df_table['Fatality Rate'] = (100* df_table['Deaths']/ df_table['Cases']).round(2)\n",
    "df_table['Continent'] = df_table['Country/Region'].map(mapping['map.continent'])\n",
    "df_table.head(5)"
   ]
  },
  {
   "cell_type": "code",
   "execution_count": 14,
   "id": "aboriginal-bulgaria",
   "metadata": {
    "execution": {
     "iopub.execute_input": "2022-03-10T00:32:45.552188Z",
     "iopub.status.busy": "2022-03-10T00:32:45.551515Z",
     "iopub.status.idle": "2022-03-10T00:32:45.554228Z",
     "shell.execute_reply": "2022-03-10T00:32:45.553731Z"
    },
    "papermill": {
     "duration": 0.047063,
     "end_time": "2022-03-10T00:32:45.554365",
     "exception": false,
     "start_time": "2022-03-10T00:32:45.507302",
     "status": "completed"
    },
    "tags": []
   },
   "outputs": [],
   "source": [
    "#hide\n",
    "#delete problematic countries from table\n",
    "df_table = df_table[~df_table['Country/Region'].isin(['Cape Verde', 'Cruise Ship', 'Kosovo'])]"
   ]
  },
  {
   "cell_type": "code",
   "execution_count": 15,
   "id": "fantastic-effect",
   "metadata": {
    "execution": {
     "iopub.execute_input": "2022-03-10T00:32:45.640403Z",
     "iopub.status.busy": "2022-03-10T00:32:45.639677Z",
     "iopub.status.idle": "2022-03-10T00:32:45.659629Z",
     "shell.execute_reply": "2022-03-10T00:32:45.660406Z"
    },
    "papermill": {
     "duration": 0.069055,
     "end_time": "2022-03-10T00:32:45.660579",
     "exception": false,
     "start_time": "2022-03-10T00:32:45.591524",
     "status": "completed"
    },
    "tags": []
   },
   "outputs": [
    {
     "data": {
      "text/html": [
       "<div>\n",
       "<style scoped>\n",
       "    .dataframe tbody tr th:only-of-type {\n",
       "        vertical-align: middle;\n",
       "    }\n",
       "\n",
       "    .dataframe tbody tr th {\n",
       "        vertical-align: top;\n",
       "    }\n",
       "\n",
       "    .dataframe thead th {\n",
       "        text-align: right;\n",
       "    }\n",
       "</style>\n",
       "<table border=\"1\" class=\"dataframe\">\n",
       "  <thead>\n",
       "    <tr style=\"text-align: right;\">\n",
       "      <th></th>\n",
       "      <th>Country/Region</th>\n",
       "      <th>Cases</th>\n",
       "      <th>Deaths</th>\n",
       "      <th>PCases</th>\n",
       "      <th>PDeaths</th>\n",
       "      <th>Cases (+)</th>\n",
       "      <th>Deaths (+)</th>\n",
       "      <th>Fatality Rate</th>\n",
       "      <th>Continent</th>\n",
       "    </tr>\n",
       "  </thead>\n",
       "  <tbody>\n",
       "    <tr>\n",
       "      <th>0</th>\n",
       "      <td>US</td>\n",
       "      <td>79369007</td>\n",
       "      <td>961843</td>\n",
       "      <td>79339388</td>\n",
       "      <td>960505</td>\n",
       "      <td>29619</td>\n",
       "      <td>1338</td>\n",
       "      <td>1.2</td>\n",
       "      <td>North America</td>\n",
       "    </tr>\n",
       "    <tr>\n",
       "      <th>1</th>\n",
       "      <td>India</td>\n",
       "      <td>42975883</td>\n",
       "      <td>515355</td>\n",
       "      <td>42971308</td>\n",
       "      <td>515210</td>\n",
       "      <td>4575</td>\n",
       "      <td>145</td>\n",
       "      <td>1.2</td>\n",
       "      <td>Asia</td>\n",
       "    </tr>\n",
       "    <tr>\n",
       "      <th>2</th>\n",
       "      <td>Brazil</td>\n",
       "      <td>29152318</td>\n",
       "      <td>653134</td>\n",
       "      <td>29077831</td>\n",
       "      <td>652648</td>\n",
       "      <td>74487</td>\n",
       "      <td>486</td>\n",
       "      <td>2.2</td>\n",
       "      <td>South America</td>\n",
       "    </tr>\n",
       "    <tr>\n",
       "      <th>3</th>\n",
       "      <td>France</td>\n",
       "      <td>23346927</td>\n",
       "      <td>140642</td>\n",
       "      <td>23253235</td>\n",
       "      <td>140473</td>\n",
       "      <td>93692</td>\n",
       "      <td>169</td>\n",
       "      <td>0.6</td>\n",
       "      <td>Europe</td>\n",
       "    </tr>\n",
       "    <tr>\n",
       "      <th>4</th>\n",
       "      <td>United Kingdom</td>\n",
       "      <td>19446892</td>\n",
       "      <td>162936</td>\n",
       "      <td>19383743</td>\n",
       "      <td>162722</td>\n",
       "      <td>63149</td>\n",
       "      <td>214</td>\n",
       "      <td>0.8</td>\n",
       "      <td>Europe</td>\n",
       "    </tr>\n",
       "  </tbody>\n",
       "</table>\n",
       "</div>"
      ],
      "text/plain": [
       "   Country/Region     Cases  Deaths    PCases  PDeaths  Cases (+)  Deaths (+)  \\\n",
       "0              US  79369007  961843  79339388   960505      29619        1338   \n",
       "1           India  42975883  515355  42971308   515210       4575         145   \n",
       "2          Brazil  29152318  653134  29077831   652648      74487         486   \n",
       "3          France  23346927  140642  23253235   140473      93692         169   \n",
       "4  United Kingdom  19446892  162936  19383743   162722      63149         214   \n",
       "\n",
       "   Fatality Rate      Continent  \n",
       "0            1.2  North America  \n",
       "1            1.2           Asia  \n",
       "2            2.2  South America  \n",
       "3            0.6         Europe  \n",
       "4            0.8         Europe  "
      ]
     },
     "execution_count": 15,
     "metadata": {},
     "output_type": "execute_result"
    }
   ],
   "source": [
    "#hide\n",
    "df_table = (pd.DataFrame(dict(Cases=dfc_cases, Deaths=dfc_deaths, PCases=dfp_cases, PDeaths=dfp_deaths))\n",
    "             .sort_values(by=['Cases', 'Deaths'], ascending=[False, False])\n",
    "             .reset_index())\n",
    "df_table.rename(columns={'index': 'Country/Region'}, inplace=True)\n",
    "for c in 'Cases, Deaths'.split(', '):\n",
    "    df_table[f'{c} (+)'] = (df_table[c] - df_table[f'P{c}']).clip(0)  # DATA BUG\n",
    "df_table['Fatality Rate'] = (100 * df_table['Deaths'] / df_table['Cases']).round(1)\n",
    "df_table['Continent'] = df_table['Country/Region'].map(mapping['map.continent'])\n",
    "df_table.head(5)"
   ]
  },
  {
   "cell_type": "code",
   "execution_count": 16,
   "id": "fewer-occasion",
   "metadata": {
    "execution": {
     "iopub.execute_input": "2022-03-10T00:32:45.745533Z",
     "iopub.status.busy": "2022-03-10T00:32:45.744616Z",
     "iopub.status.idle": "2022-03-10T00:32:45.746488Z",
     "shell.execute_reply": "2022-03-10T00:32:45.747011Z"
    },
    "papermill": {
     "duration": 0.046657,
     "end_time": "2022-03-10T00:32:45.747162",
     "exception": false,
     "start_time": "2022-03-10T00:32:45.700505",
     "status": "completed"
    },
    "tags": []
   },
   "outputs": [],
   "source": [
    "#hide\n",
    "#delete problematic countries from table\n",
    "df_table = df_table[~df_table['Country/Region'].isin(['Cape Verde', 'Cruise Ship', 'Kosovo'])]"
   ]
  },
  {
   "cell_type": "code",
   "execution_count": 17,
   "id": "related-center",
   "metadata": {
    "execution": {
     "iopub.execute_input": "2022-03-10T00:32:45.847353Z",
     "iopub.status.busy": "2022-03-10T00:32:45.846624Z",
     "iopub.status.idle": "2022-03-10T00:32:45.848148Z",
     "shell.execute_reply": "2022-03-10T00:32:45.848673Z"
    },
    "papermill": {
     "duration": 0.064829,
     "end_time": "2022-03-10T00:32:45.848832",
     "exception": false,
     "start_time": "2022-03-10T00:32:45.784003",
     "status": "completed"
    },
    "tags": []
   },
   "outputs": [],
   "source": [
    "#hide\n",
    "metrics = [df_table.columns[index] for index in [1,2,5,6]]\n",
    "# s_china = df_table[df_table['Country/Region'].eq('China')][metrics].sum().add_prefix('China ')\n",
    "s_us = df_table[df_table['Country/Region'].eq('US')][metrics].sum().add_prefix('US ')\n",
    "s_eu = df_table[df_table['Continent'].eq('Europe')][metrics].sum().add_prefix('EU ')\n",
    "s_ind = df_table[df_table['Country/Region'].eq('India')][metrics].sum().add_prefix('India ')\n",
    "summary = {'updated': pd.to_datetime(dt_today), 'since': pd.to_datetime(dt_yday)}\n",
    "summary = {'updated': pd.to_datetime(dt_today), 'since': pd.to_datetime(dt_yday)}\n",
    "summary = {**summary, **df_table[metrics].sum(), **s_ind, **s_us, **s_eu}"
   ]
  },
  {
   "cell_type": "code",
   "execution_count": 18,
   "id": "engaging-syndrome",
   "metadata": {
    "execution": {
     "iopub.execute_input": "2022-03-10T00:32:45.934186Z",
     "iopub.status.busy": "2022-03-10T00:32:45.933515Z",
     "iopub.status.idle": "2022-03-10T00:32:45.951363Z",
     "shell.execute_reply": "2022-03-10T00:32:45.950832Z"
    },
    "papermill": {
     "duration": 0.065515,
     "end_time": "2022-03-10T00:32:45.951508",
     "exception": false,
     "start_time": "2022-03-10T00:32:45.885993",
     "status": "completed"
    },
    "tags": []
   },
   "outputs": [],
   "source": [
    "#hide\n",
    "dft_ct_new_cases = dft_cases.groupby(COL_REGION)[dt_cols].sum().diff(axis=1).fillna(0).astype(int)"
   ]
  },
  {
   "cell_type": "code",
   "execution_count": 19,
   "id": "neutral-assignment",
   "metadata": {
    "execution": {
     "iopub.execute_input": "2022-03-10T00:32:46.037344Z",
     "iopub.status.busy": "2022-03-10T00:32:46.036667Z",
     "iopub.status.idle": "2022-03-10T00:32:46.039107Z",
     "shell.execute_reply": "2022-03-10T00:32:46.038478Z"
    },
    "papermill": {
     "duration": 0.049876,
     "end_time": "2022-03-10T00:32:46.039312",
     "exception": false,
     "start_time": "2022-03-10T00:32:45.989436",
     "status": "completed"
    },
    "tags": []
   },
   "outputs": [],
   "source": [
    "#hide\n",
    "everydaycases = dft_ct_new_cases.cumsum(axis=1)"
   ]
  },
  {
   "cell_type": "code",
   "execution_count": 20,
   "id": "parliamentary-calgary",
   "metadata": {
    "execution": {
     "iopub.execute_input": "2022-03-10T00:32:46.119503Z",
     "iopub.status.busy": "2022-03-10T00:32:46.118862Z",
     "iopub.status.idle": "2022-03-10T00:32:46.890197Z",
     "shell.execute_reply": "2022-03-10T00:32:46.889314Z"
    },
    "papermill": {
     "duration": 0.813731,
     "end_time": "2022-03-10T00:32:46.890424",
     "exception": false,
     "start_time": "2022-03-10T00:32:46.076693",
     "status": "completed"
    },
    "tags": []
   },
   "outputs": [],
   "source": [
    "#hide\n",
    "import pandas as pd\n",
    "import matplotlib.pyplot as plt\n",
    "import matplotlib.ticker as ticker\n",
    "import matplotlib.animation as animation\n",
    "from IPython.display import HTML"
   ]
  },
  {
   "cell_type": "code",
   "execution_count": 21,
   "id": "lasting-extraction",
   "metadata": {
    "execution": {
     "iopub.execute_input": "2022-03-10T00:32:46.977381Z",
     "iopub.status.busy": "2022-03-10T00:32:46.976730Z",
     "iopub.status.idle": "2022-03-10T00:32:46.985553Z",
     "shell.execute_reply": "2022-03-10T00:32:46.984998Z"
    },
    "papermill": {
     "duration": 0.055859,
     "end_time": "2022-03-10T00:32:46.985691",
     "exception": false,
     "start_time": "2022-03-10T00:32:46.929832",
     "status": "completed"
    },
    "tags": []
   },
   "outputs": [],
   "source": [
    "#hide\n",
    "t = everydaycases.stack()"
   ]
  },
  {
   "cell_type": "code",
   "execution_count": 22,
   "id": "premier-sleeve",
   "metadata": {
    "execution": {
     "iopub.execute_input": "2022-03-10T00:32:47.068005Z",
     "iopub.status.busy": "2022-03-10T00:32:47.067285Z",
     "iopub.status.idle": "2022-03-10T00:32:47.082649Z",
     "shell.execute_reply": "2022-03-10T00:32:47.083234Z"
    },
    "papermill": {
     "duration": 0.060098,
     "end_time": "2022-03-10T00:32:47.083392",
     "exception": false,
     "start_time": "2022-03-10T00:32:47.023294",
     "status": "completed"
    },
    "tags": []
   },
   "outputs": [],
   "source": [
    "#hide\n",
    "g = t.reset_index(['Country/Region'])"
   ]
  },
  {
   "cell_type": "code",
   "execution_count": 23,
   "id": "distributed-pittsburgh",
   "metadata": {
    "execution": {
     "iopub.execute_input": "2022-03-10T00:32:47.167114Z",
     "iopub.status.busy": "2022-03-10T00:32:47.166474Z",
     "iopub.status.idle": "2022-03-10T00:32:47.171903Z",
     "shell.execute_reply": "2022-03-10T00:32:47.172933Z"
    },
    "papermill": {
     "duration": 0.048965,
     "end_time": "2022-03-10T00:32:47.173096",
     "exception": false,
     "start_time": "2022-03-10T00:32:47.124131",
     "status": "completed"
    },
    "tags": []
   },
   "outputs": [],
   "source": [
    "#hide\n",
    "g.index.name = 'date'"
   ]
  },
  {
   "cell_type": "code",
   "execution_count": 24,
   "id": "naked-donor",
   "metadata": {
    "execution": {
     "iopub.execute_input": "2022-03-10T00:32:47.252983Z",
     "iopub.status.busy": "2022-03-10T00:32:47.252339Z",
     "iopub.status.idle": "2022-03-10T00:32:47.255089Z",
     "shell.execute_reply": "2022-03-10T00:32:47.255585Z"
    },
    "papermill": {
     "duration": 0.044168,
     "end_time": "2022-03-10T00:32:47.255736",
     "exception": false,
     "start_time": "2022-03-10T00:32:47.211568",
     "status": "completed"
    },
    "tags": []
   },
   "outputs": [],
   "source": [
    "# #hide\n",
    "# g = g.reset_index(['date'])"
   ]
  },
  {
   "cell_type": "code",
   "execution_count": 25,
   "id": "incomplete-mustang",
   "metadata": {
    "execution": {
     "iopub.execute_input": "2022-03-10T00:32:47.334999Z",
     "iopub.status.busy": "2022-03-10T00:32:47.334355Z",
     "iopub.status.idle": "2022-03-10T00:32:47.336934Z",
     "shell.execute_reply": "2022-03-10T00:32:47.336315Z"
    },
    "papermill": {
     "duration": 0.043783,
     "end_time": "2022-03-10T00:32:47.337063",
     "exception": false,
     "start_time": "2022-03-10T00:32:47.293280",
     "status": "completed"
    },
    "tags": []
   },
   "outputs": [],
   "source": [
    "#hide\n",
    "# g.head()"
   ]
  },
  {
   "cell_type": "code",
   "execution_count": 26,
   "id": "specific-kruger",
   "metadata": {
    "execution": {
     "iopub.execute_input": "2022-03-10T00:32:47.414687Z",
     "iopub.status.busy": "2022-03-10T00:32:47.414056Z",
     "iopub.status.idle": "2022-03-10T00:32:47.416515Z",
     "shell.execute_reply": "2022-03-10T00:32:47.417038Z"
    },
    "papermill": {
     "duration": 0.043723,
     "end_time": "2022-03-10T00:32:47.417187",
     "exception": false,
     "start_time": "2022-03-10T00:32:47.373464",
     "status": "completed"
    },
    "tags": []
   },
   "outputs": [],
   "source": [
    "#hide\n",
    "# g.columns = ['date','country','cases']"
   ]
  },
  {
   "cell_type": "code",
   "execution_count": 27,
   "id": "tender-conversion",
   "metadata": {
    "execution": {
     "iopub.execute_input": "2022-03-10T00:32:47.495315Z",
     "iopub.status.busy": "2022-03-10T00:32:47.494688Z",
     "iopub.status.idle": "2022-03-10T00:32:47.497324Z",
     "shell.execute_reply": "2022-03-10T00:32:47.496828Z"
    },
    "papermill": {
     "duration": 0.043877,
     "end_time": "2022-03-10T00:32:47.497466",
     "exception": false,
     "start_time": "2022-03-10T00:32:47.453589",
     "status": "completed"
    },
    "tags": []
   },
   "outputs": [],
   "source": [
    "#hide\n",
    "# g['continent'] = g.country"
   ]
  },
  {
   "cell_type": "code",
   "execution_count": 28,
   "id": "substantial-wilderness",
   "metadata": {
    "execution": {
     "iopub.execute_input": "2022-03-10T00:32:47.575305Z",
     "iopub.status.busy": "2022-03-10T00:32:47.574504Z",
     "iopub.status.idle": "2022-03-10T00:32:47.576184Z",
     "shell.execute_reply": "2022-03-10T00:32:47.576718Z"
    },
    "papermill": {
     "duration": 0.043076,
     "end_time": "2022-03-10T00:32:47.576870",
     "exception": false,
     "start_time": "2022-03-10T00:32:47.533794",
     "status": "completed"
    },
    "tags": []
   },
   "outputs": [],
   "source": [
    "#hide\n",
    "# cols = list(g.columns.values)"
   ]
  },
  {
   "cell_type": "code",
   "execution_count": 29,
   "id": "solved-farming",
   "metadata": {
    "execution": {
     "iopub.execute_input": "2022-03-10T00:32:47.655883Z",
     "iopub.status.busy": "2022-03-10T00:32:47.655202Z",
     "iopub.status.idle": "2022-03-10T00:32:47.658167Z",
     "shell.execute_reply": "2022-03-10T00:32:47.657667Z"
    },
    "papermill": {
     "duration": 0.044241,
     "end_time": "2022-03-10T00:32:47.658301",
     "exception": false,
     "start_time": "2022-03-10T00:32:47.614060",
     "status": "completed"
    },
    "tags": []
   },
   "outputs": [],
   "source": [
    "#hide\n",
    "# cols.insert(0, cols.pop())"
   ]
  },
  {
   "cell_type": "code",
   "execution_count": 30,
   "id": "executed-adoption",
   "metadata": {
    "execution": {
     "iopub.execute_input": "2022-03-10T00:32:47.739816Z",
     "iopub.status.busy": "2022-03-10T00:32:47.739113Z",
     "iopub.status.idle": "2022-03-10T00:32:47.743533Z",
     "shell.execute_reply": "2022-03-10T00:32:47.742900Z"
    },
    "papermill": {
     "duration": 0.047399,
     "end_time": "2022-03-10T00:32:47.743667",
     "exception": false,
     "start_time": "2022-03-10T00:32:47.696268",
     "status": "completed"
    },
    "tags": []
   },
   "outputs": [],
   "source": [
    "#hide\n",
    "# g = g[cols]"
   ]
  },
  {
   "cell_type": "code",
   "execution_count": 31,
   "id": "subject-dublin",
   "metadata": {
    "execution": {
     "iopub.execute_input": "2022-03-10T00:32:47.825117Z",
     "iopub.status.busy": "2022-03-10T00:32:47.824451Z",
     "iopub.status.idle": "2022-03-10T00:32:47.826883Z",
     "shell.execute_reply": "2022-03-10T00:32:47.826382Z"
    },
    "papermill": {
     "duration": 0.04486,
     "end_time": "2022-03-10T00:32:47.827019",
     "exception": false,
     "start_time": "2022-03-10T00:32:47.782159",
     "status": "completed"
    },
    "tags": []
   },
   "outputs": [],
   "source": [
    "#hide\n",
    "# g['continent'] = g['continent'].map(mapping['map.continent'])"
   ]
  },
  {
   "cell_type": "code",
   "execution_count": 32,
   "id": "freelance-scout",
   "metadata": {
    "execution": {
     "iopub.execute_input": "2022-03-10T00:32:47.904882Z",
     "iopub.status.busy": "2022-03-10T00:32:47.904209Z",
     "iopub.status.idle": "2022-03-10T00:32:47.906136Z",
     "shell.execute_reply": "2022-03-10T00:32:47.906642Z"
    },
    "papermill": {
     "duration": 0.043434,
     "end_time": "2022-03-10T00:32:47.906803",
     "exception": false,
     "start_time": "2022-03-10T00:32:47.863369",
     "status": "completed"
    },
    "tags": []
   },
   "outputs": [],
   "source": [
    "#hide\n",
    "# g.head()"
   ]
  },
  {
   "cell_type": "code",
   "execution_count": 33,
   "id": "limited-engine",
   "metadata": {
    "execution": {
     "iopub.execute_input": "2022-03-10T00:32:47.984441Z",
     "iopub.status.busy": "2022-03-10T00:32:47.983757Z",
     "iopub.status.idle": "2022-03-10T00:32:47.985670Z",
     "shell.execute_reply": "2022-03-10T00:32:47.986137Z"
    },
    "papermill": {
     "duration": 0.042708,
     "end_time": "2022-03-10T00:32:47.986293",
     "exception": false,
     "start_time": "2022-03-10T00:32:47.943585",
     "status": "completed"
    },
    "tags": []
   },
   "outputs": [],
   "source": [
    "# hide\n",
    "# g['date'] = g['date'].astype('datetime64[ns]')"
   ]
  },
  {
   "cell_type": "code",
   "execution_count": 34,
   "id": "sophisticated-supervisor",
   "metadata": {
    "execution": {
     "iopub.execute_input": "2022-03-10T00:32:48.067383Z",
     "iopub.status.busy": "2022-03-10T00:32:48.066433Z",
     "iopub.status.idle": "2022-03-10T00:32:48.068422Z",
     "shell.execute_reply": "2022-03-10T00:32:48.069145Z"
    },
    "papermill": {
     "duration": 0.044536,
     "end_time": "2022-03-10T00:32:48.069355",
     "exception": false,
     "start_time": "2022-03-10T00:32:48.024819",
     "status": "completed"
    },
    "tags": []
   },
   "outputs": [],
   "source": [
    "#hide\n",
    "# g['date'] = g.date.dt.dayofyear"
   ]
  },
  {
   "cell_type": "code",
   "execution_count": 35,
   "id": "inside-dubai",
   "metadata": {
    "execution": {
     "iopub.execute_input": "2022-03-10T00:32:48.148981Z",
     "iopub.status.busy": "2022-03-10T00:32:48.148116Z",
     "iopub.status.idle": "2022-03-10T00:32:48.151610Z",
     "shell.execute_reply": "2022-03-10T00:32:48.150898Z"
    },
    "papermill": {
     "duration": 0.044455,
     "end_time": "2022-03-10T00:32:48.151775",
     "exception": false,
     "start_time": "2022-03-10T00:32:48.107320",
     "status": "completed"
    },
    "tags": []
   },
   "outputs": [],
   "source": [
    "#hide\n",
    "# g = g.rename(columns= {'continent':'group','country':'name','cases':'value'})"
   ]
  },
  {
   "cell_type": "code",
   "execution_count": 36,
   "id": "fleet-motorcycle",
   "metadata": {
    "execution": {
     "iopub.execute_input": "2022-03-10T00:32:48.233450Z",
     "iopub.status.busy": "2022-03-10T00:32:48.232378Z",
     "iopub.status.idle": "2022-03-10T00:32:48.235386Z",
     "shell.execute_reply": "2022-03-10T00:32:48.235953Z"
    },
    "papermill": {
     "duration": 0.046213,
     "end_time": "2022-03-10T00:32:48.236115",
     "exception": false,
     "start_time": "2022-03-10T00:32:48.189902",
     "status": "completed"
    },
    "tags": []
   },
   "outputs": [],
   "source": [
    "#hide\n",
    "# cols = ['name','group','day','value']"
   ]
  },
  {
   "cell_type": "code",
   "execution_count": 37,
   "id": "continued-sleeping",
   "metadata": {
    "execution": {
     "iopub.execute_input": "2022-03-10T00:32:48.316369Z",
     "iopub.status.busy": "2022-03-10T00:32:48.315433Z",
     "iopub.status.idle": "2022-03-10T00:32:48.317231Z",
     "shell.execute_reply": "2022-03-10T00:32:48.317716Z"
    },
    "papermill": {
     "duration": 0.04427,
     "end_time": "2022-03-10T00:32:48.317875",
     "exception": false,
     "start_time": "2022-03-10T00:32:48.273605",
     "status": "completed"
    },
    "tags": []
   },
   "outputs": [],
   "source": [
    "#hide\n",
    "# g.rename(columns= {'date':'day'},inplace = True)"
   ]
  },
  {
   "cell_type": "code",
   "execution_count": 38,
   "id": "major-fight",
   "metadata": {
    "execution": {
     "iopub.execute_input": "2022-03-10T00:32:48.399651Z",
     "iopub.status.busy": "2022-03-10T00:32:48.398982Z",
     "iopub.status.idle": "2022-03-10T00:32:48.401438Z",
     "shell.execute_reply": "2022-03-10T00:32:48.400938Z"
    },
    "papermill": {
     "duration": 0.046057,
     "end_time": "2022-03-10T00:32:48.401573",
     "exception": false,
     "start_time": "2022-03-10T00:32:48.355516",
     "status": "completed"
    },
    "tags": []
   },
   "outputs": [],
   "source": [
    "#hide\n",
    "# g = g[cols]"
   ]
  },
  {
   "cell_type": "code",
   "execution_count": 39,
   "id": "structured-mobile",
   "metadata": {
    "execution": {
     "iopub.execute_input": "2022-03-10T00:32:48.479675Z",
     "iopub.status.busy": "2022-03-10T00:32:48.479018Z",
     "iopub.status.idle": "2022-03-10T00:32:48.481365Z",
     "shell.execute_reply": "2022-03-10T00:32:48.480732Z"
    },
    "papermill": {
     "duration": 0.043015,
     "end_time": "2022-03-10T00:32:48.481504",
     "exception": false,
     "start_time": "2022-03-10T00:32:48.438489",
     "status": "completed"
    },
    "tags": []
   },
   "outputs": [],
   "source": [
    "# #hide\n",
    "# g = g[g.group.notna()]"
   ]
  },
  {
   "cell_type": "code",
   "execution_count": 40,
   "id": "determined-closing",
   "metadata": {
    "execution": {
     "iopub.execute_input": "2022-03-10T00:32:48.559520Z",
     "iopub.status.busy": "2022-03-10T00:32:48.558685Z",
     "iopub.status.idle": "2022-03-10T00:32:48.563341Z",
     "shell.execute_reply": "2022-03-10T00:32:48.562781Z"
    },
    "papermill": {
     "duration": 0.045453,
     "end_time": "2022-03-10T00:32:48.563472",
     "exception": false,
     "start_time": "2022-03-10T00:32:48.518019",
     "status": "completed"
    },
    "tags": []
   },
   "outputs": [],
   "source": [
    "# #hide\n",
    "# colors = dict(zip(\n",
    "#     [\"Oceania\", \"Europe\", \"Asia\", \"South America\", \"Middle East\", \"North America\", \"Africa\"],\n",
    "#     [\"#adb0ff\", \"#ffb3ff\", \"#90d595\", \"#e48381\", \"#aafbff\", \"#f7bb5f\", \"#eafb50\"]\n",
    "# ))\n",
    "# group_lk = g.set_index('name')['group'].to_dict()"
   ]
  },
  {
   "cell_type": "code",
   "execution_count": null,
   "id": "gross-drinking",
   "metadata": {
    "papermill": {
     "duration": 0.036584,
     "end_time": "2022-03-10T00:32:48.636945",
     "exception": false,
     "start_time": "2022-03-10T00:32:48.600361",
     "status": "completed"
    },
    "tags": []
   },
   "outputs": [],
   "source": []
  },
  {
   "cell_type": "code",
   "execution_count": 41,
   "id": "subject-macintosh",
   "metadata": {
    "execution": {
     "iopub.execute_input": "2022-03-10T00:32:48.715089Z",
     "iopub.status.busy": "2022-03-10T00:32:48.714427Z",
     "iopub.status.idle": "2022-03-10T00:32:48.716871Z",
     "shell.execute_reply": "2022-03-10T00:32:48.716344Z"
    },
    "papermill": {
     "duration": 0.043729,
     "end_time": "2022-03-10T00:32:48.717005",
     "exception": false,
     "start_time": "2022-03-10T00:32:48.673276",
     "status": "completed"
    },
    "tags": []
   },
   "outputs": [],
   "source": [
    "# #hide\n",
    "# fig, ax = plt.subplots(figsize=(15, 8))\n",
    "\n",
    "# def draw_barchart(current_day):\n",
    "#     dff = g[g['day'].eq(current_day)].sort_values(by='value', ascending=True).tail(10)\n",
    "#     ax.clear()\n",
    "#     ax.barh(dff['name'], dff['value'], color=[colors[group_lk[x]] for x in dff['name']])\n",
    "#     dx = dff['value'].max() / 200\n",
    "    \n",
    "#     for i, (value, name) in enumerate(zip(dff['value'], dff['name'])):\n",
    "#         ax.text(value-dx, i,     name,           size=14, weight=600, ha='right', va='bottom')\n",
    "#         ax.text(value-dx, i-.25, group_lk[name], size=10, color='#444444', ha='right', va='baseline')\n",
    "#         ax.text(value+dx, i,     f'{value:,.0f}',  size=14, ha='left',  va='center')\n",
    "#     ax.text(1, 0.4, current_day, transform=ax.transAxes, color='#777777', size=46, ha='right', weight=800)\n",
    "#     ax.text(0, 1.06, 'Population (thousands)', transform=ax.transAxes, size=12, color='#777777')\n",
    "#     ax.xaxis.set_major_formatter(ticker.StrMethodFormatter('{x:,.0f}'))\n",
    "#     ax.xaxis.set_ticks_position('top')\n",
    "#     ax.tick_params(axis='x', colors='#777777', labelsize=12)\n",
    "#     ax.set_yticks([])\n",
    "#     ax.margins(0, 0.01)\n",
    "#     ax.grid(which='major', axis='x', linestyle='-')\n",
    "#     ax.set_axisbelow(True)\n",
    "    \n",
    "#     ax.text(0, 1.15, 'Coronavirus',\n",
    "#             transform=ax.transAxes, size=24, weight=600, ha='left', va='top')\n",
    "# #     ax.text(1, 0, 'by @pratapvardhan; credit @jburnmurdoch', transform=ax.transAxes, color='#777777', ha='right',\n",
    "# #             bbox=dict(facecolor='white', alpha=0.8, edgecolor='white'))\n",
    "#     plt.box(False)"
   ]
  },
  {
   "cell_type": "code",
   "execution_count": 42,
   "id": "sexual-wages",
   "metadata": {
    "execution": {
     "iopub.execute_input": "2022-03-10T00:32:48.795853Z",
     "iopub.status.busy": "2022-03-10T00:32:48.794970Z",
     "iopub.status.idle": "2022-03-10T00:32:48.796534Z",
     "shell.execute_reply": "2022-03-10T00:32:48.797118Z"
    },
    "papermill": {
     "duration": 0.043285,
     "end_time": "2022-03-10T00:32:48.797268",
     "exception": false,
     "start_time": "2022-03-10T00:32:48.753983",
     "status": "completed"
    },
    "tags": []
   },
   "outputs": [],
   "source": [
    "# #hide_input\n",
    "# fig, ax = plt.subplots(figsize=(15, 8))\n",
    "# animator = animation.FuncAnimation(fig, draw_barchart, frames=range(g.day.values.min(), g.day.values.max()))\n",
    "# HTML(animator.to_jshtml())\n",
    "# # or use animator.to_html5_video() or animator.save() "
   ]
  },
  {
   "cell_type": "code",
   "execution_count": null,
   "id": "australian-container",
   "metadata": {
    "papermill": {
     "duration": 0.040267,
     "end_time": "2022-03-10T00:32:48.874040",
     "exception": false,
     "start_time": "2022-03-10T00:32:48.833773",
     "status": "completed"
    },
    "tags": []
   },
   "outputs": [],
   "source": []
  },
  {
   "cell_type": "code",
   "execution_count": null,
   "id": "mediterranean-pontiac",
   "metadata": {
    "papermill": {
     "duration": 0.037205,
     "end_time": "2022-03-10T00:32:48.948781",
     "exception": false,
     "start_time": "2022-03-10T00:32:48.911576",
     "status": "completed"
    },
    "tags": []
   },
   "outputs": [],
   "source": []
  },
  {
   "cell_type": "code",
   "execution_count": null,
   "id": "aging-legislature",
   "metadata": {
    "papermill": {
     "duration": 0.038546,
     "end_time": "2022-03-10T00:32:49.027663",
     "exception": false,
     "start_time": "2022-03-10T00:32:48.989117",
     "status": "completed"
    },
    "tags": []
   },
   "outputs": [],
   "source": []
  }
 ],
 "metadata": {
  "kernelspec": {
   "display_name": "Python 3",
   "language": "python",
   "name": "python3"
  },
  "language_info": {
   "codemirror_mode": {
    "name": "ipython",
    "version": 3
   },
   "file_extension": ".py",
   "mimetype": "text/x-python",
   "name": "python",
   "nbconvert_exporter": "python",
   "pygments_lexer": "ipython3",
   "version": "3.6.15"
  },
  "papermill": {
   "duration": 7.331752,
   "end_time": "2022-03-10T00:32:49.486205",
   "environment_variables": {},
   "exception": null,
   "input_path": "2020-03-21-covid19exp.ipynb",
   "output_path": "2020-03-21-covid19exp.ipynb",
   "parameters": {},
   "start_time": "2022-03-10T00:32:42.154453",
   "version": "2.0.0"
  }
 },
 "nbformat": 4,
 "nbformat_minor": 5
}