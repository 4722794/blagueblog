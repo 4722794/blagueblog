{
 "cells": [
  {
   "cell_type": "markdown",
   "metadata": {
    "papermill": {
     "duration": 0.030927,
     "end_time": "2020-12-15T12:07:18.156477",
     "exception": false,
     "start_time": "2020-12-15T12:07:18.125550",
     "status": "completed"
    },
    "tags": []
   },
   "source": [
    "# COVID-19 Case Race\n",
    "> A race chart to see rising cases around the world\n",
    "\n",
    "- author: Hargun Oberoi\n",
    "- image: images/covid-overview.png\n",
    "- hide: false\n",
    "- badges: false"
   ]
  },
  {
   "cell_type": "code",
   "execution_count": 1,
   "metadata": {
    "execution": {
     "iopub.execute_input": "2020-12-15T12:07:18.223279Z",
     "iopub.status.busy": "2020-12-15T12:07:18.222717Z",
     "iopub.status.idle": "2020-12-15T12:07:18.525423Z",
     "shell.execute_reply": "2020-12-15T12:07:18.524860Z"
    },
    "papermill": {
     "duration": 0.34048,
     "end_time": "2020-12-15T12:07:18.525578",
     "exception": false,
     "start_time": "2020-12-15T12:07:18.185098",
     "status": "completed"
    },
    "tags": []
   },
   "outputs": [],
   "source": [
    "#hide\n",
    "import numpy as np\n",
    "import pandas as pd\n",
    "from jinja2 import Template\n",
    "from IPython.display import HTML"
   ]
  },
  {
   "cell_type": "code",
   "execution_count": 2,
   "metadata": {
    "execution": {
     "iopub.execute_input": "2020-12-15T12:07:18.591239Z",
     "iopub.status.busy": "2020-12-15T12:07:18.590591Z",
     "iopub.status.idle": "2020-12-15T12:07:18.593502Z",
     "shell.execute_reply": "2020-12-15T12:07:18.592971Z"
    },
    "papermill": {
     "duration": 0.037546,
     "end_time": "2020-12-15T12:07:18.593624",
     "exception": false,
     "start_time": "2020-12-15T12:07:18.556078",
     "status": "completed"
    },
    "tags": []
   },
   "outputs": [],
   "source": [
    "#hide\n",
    "\n",
    "# FETCH\n",
    "base_url = 'https://raw.githubusercontent.com/pratapvardhan/notebooks/master/covid19/'\n",
    "paths = {\n",
    "    'mapping': base_url + 'mapping_countries.csv',\n",
    "    'overview': base_url + 'overview.tpl'\n",
    "}"
   ]
  },
  {
   "cell_type": "code",
   "execution_count": 3,
   "metadata": {
    "execution": {
     "iopub.execute_input": "2020-12-15T12:07:18.664995Z",
     "iopub.status.busy": "2020-12-15T12:07:18.664366Z",
     "iopub.status.idle": "2020-12-15T12:07:18.667749Z",
     "shell.execute_reply": "2020-12-15T12:07:18.667237Z"
    },
    "papermill": {
     "duration": 0.043682,
     "end_time": "2020-12-15T12:07:18.667888",
     "exception": false,
     "start_time": "2020-12-15T12:07:18.624206",
     "status": "completed"
    },
    "tags": []
   },
   "outputs": [
    {
     "data": {
      "text/plain": [
       "'https://raw.githubusercontent.com/pratapvardhan/notebooks/master/covid19/mapping_countries.csv'"
      ]
     },
     "execution_count": 3,
     "metadata": {},
     "output_type": "execute_result"
    }
   ],
   "source": [
    "#hide\n",
    "paths['mapping']"
   ]
  },
  {
   "cell_type": "code",
   "execution_count": 4,
   "metadata": {
    "execution": {
     "iopub.execute_input": "2020-12-15T12:07:18.735994Z",
     "iopub.status.busy": "2020-12-15T12:07:18.735346Z",
     "iopub.status.idle": "2020-12-15T12:07:18.737957Z",
     "shell.execute_reply": "2020-12-15T12:07:18.737482Z"
    },
    "papermill": {
     "duration": 0.038568,
     "end_time": "2020-12-15T12:07:18.738075",
     "exception": false,
     "start_time": "2020-12-15T12:07:18.699507",
     "status": "completed"
    },
    "tags": []
   },
   "outputs": [],
   "source": [
    "#hide\n",
    "def get_mappings(url):\n",
    "    df = pd.read_csv(url)\n",
    "    return {\n",
    "        'df': df,\n",
    "        'replace.country': dict(df.dropna(subset=['Name']).set_index('Country')['Name']),\n",
    "        'map.continent': dict(df.set_index('Name')['Continent'])\n",
    "    }"
   ]
  },
  {
   "cell_type": "code",
   "execution_count": 5,
   "metadata": {
    "execution": {
     "iopub.execute_input": "2020-12-15T12:07:18.800482Z",
     "iopub.status.busy": "2020-12-15T12:07:18.799889Z",
     "iopub.status.idle": "2020-12-15T12:07:18.828095Z",
     "shell.execute_reply": "2020-12-15T12:07:18.827433Z"
    },
    "papermill": {
     "duration": 0.061281,
     "end_time": "2020-12-15T12:07:18.828213",
     "exception": false,
     "start_time": "2020-12-15T12:07:18.766932",
     "status": "completed"
    },
    "tags": []
   },
   "outputs": [],
   "source": [
    "#hide\n",
    "mapping = get_mappings(paths['mapping'])"
   ]
  },
  {
   "cell_type": "code",
   "execution_count": 6,
   "metadata": {
    "execution": {
     "iopub.execute_input": "2020-12-15T12:07:18.890135Z",
     "iopub.status.busy": "2020-12-15T12:07:18.889528Z",
     "iopub.status.idle": "2020-12-15T12:07:18.891344Z",
     "shell.execute_reply": "2020-12-15T12:07:18.891884Z"
    },
    "papermill": {
     "duration": 0.03513,
     "end_time": "2020-12-15T12:07:18.892029",
     "exception": false,
     "start_time": "2020-12-15T12:07:18.856899",
     "status": "completed"
    },
    "tags": []
   },
   "outputs": [],
   "source": [
    "#hide\n",
    "def get_template(path):\n",
    "    from urllib.parse import urlparse\n",
    "    if bool(urlparse(path).netloc):\n",
    "        from urllib.request import urlopen\n",
    "        return urlopen(path).read().decode('utf8')\n",
    "    return open(path).read()"
   ]
  },
  {
   "cell_type": "code",
   "execution_count": 7,
   "metadata": {
    "execution": {
     "iopub.execute_input": "2020-12-15T12:07:18.953735Z",
     "iopub.status.busy": "2020-12-15T12:07:18.953031Z",
     "iopub.status.idle": "2020-12-15T12:07:18.954789Z",
     "shell.execute_reply": "2020-12-15T12:07:18.955254Z"
    },
    "papermill": {
     "duration": 0.034334,
     "end_time": "2020-12-15T12:07:18.955377",
     "exception": false,
     "start_time": "2020-12-15T12:07:18.921043",
     "status": "completed"
    },
    "tags": []
   },
   "outputs": [],
   "source": [
    "#hide\n",
    "def get_frame(name):\n",
    "    url = (\n",
    "        'https://raw.githubusercontent.com/CSSEGISandData/COVID-19/master/csse_covid_19_data/'\n",
    "        f'csse_covid_19_time_series/time_series_covid19_{name}_global.csv')\n",
    "    df = pd.read_csv(url)\n",
    "    # rename countries\n",
    "    df['Country/Region'] = df['Country/Region'].replace(mapping['replace.country'])\n",
    "    return df"
   ]
  },
  {
   "cell_type": "code",
   "execution_count": 8,
   "metadata": {
    "execution": {
     "iopub.execute_input": "2020-12-15T12:07:19.014963Z",
     "iopub.status.busy": "2020-12-15T12:07:19.014412Z",
     "iopub.status.idle": "2020-12-15T12:07:19.016298Z",
     "shell.execute_reply": "2020-12-15T12:07:19.016812Z"
    },
    "papermill": {
     "duration": 0.034307,
     "end_time": "2020-12-15T12:07:19.016959",
     "exception": false,
     "start_time": "2020-12-15T12:07:18.982652",
     "status": "completed"
    },
    "tags": []
   },
   "outputs": [],
   "source": [
    "#hide\n",
    "def get_dates(df):\n",
    "    dt_cols = df.columns[~df.columns.isin(['Province/State', 'Country/Region', 'Lat', 'Long'])]\n",
    "    LAST_DATE_I = -1\n",
    "    # sometimes last column may be empty, then go backwards\n",
    "    for i in range(-1, -len(dt_cols), -1):\n",
    "        if not df[dt_cols[i]].fillna(0).eq(0).all():\n",
    "            LAST_DATE_I = i\n",
    "            break\n",
    "    return LAST_DATE_I, dt_cols"
   ]
  },
  {
   "cell_type": "code",
   "execution_count": 9,
   "metadata": {
    "execution": {
     "iopub.execute_input": "2020-12-15T12:07:19.080595Z",
     "iopub.status.busy": "2020-12-15T12:07:19.079984Z",
     "iopub.status.idle": "2020-12-15T12:07:19.306988Z",
     "shell.execute_reply": "2020-12-15T12:07:19.305932Z"
    },
    "papermill": {
     "duration": 0.262181,
     "end_time": "2020-12-15T12:07:19.307159",
     "exception": false,
     "start_time": "2020-12-15T12:07:19.044978",
     "status": "completed"
    },
    "tags": []
   },
   "outputs": [],
   "source": [
    "#hide\n",
    "COL_REGION = 'Country/Region'\n",
    "# Confirmed, Recovered, Deaths\n",
    "df = get_frame('confirmed')\n",
    "# dft_: timeseries, dfc_: today country agg\n",
    "dft_cases = df\n",
    "dft_deaths = get_frame('deaths')\n",
    "dft_recovered = get_frame('recovered')\n",
    "LAST_DATE_I, dt_cols = get_dates(df)"
   ]
  },
  {
   "cell_type": "code",
   "execution_count": 10,
   "metadata": {
    "execution": {
     "iopub.execute_input": "2020-12-15T12:07:19.368767Z",
     "iopub.status.busy": "2020-12-15T12:07:19.368225Z",
     "iopub.status.idle": "2020-12-15T12:07:19.370589Z",
     "shell.execute_reply": "2020-12-15T12:07:19.370129Z"
    },
    "papermill": {
     "duration": 0.03465,
     "end_time": "2020-12-15T12:07:19.370700",
     "exception": false,
     "start_time": "2020-12-15T12:07:19.336050",
     "status": "completed"
    },
    "tags": []
   },
   "outputs": [],
   "source": [
    "#hide\n",
    "LAST_DATE_I, dt_cols = get_dates(df)\n",
    "dt_today =dt_cols[LAST_DATE_I]\n",
    "# dt_5day = dt_cols[LAST_DATE_I - 5]\n",
    "dt_yday = dt_cols[LAST_DATE_I - 1]"
   ]
  },
  {
   "cell_type": "code",
   "execution_count": 11,
   "metadata": {
    "execution": {
     "iopub.execute_input": "2020-12-15T12:07:19.431181Z",
     "iopub.status.busy": "2020-12-15T12:07:19.430589Z",
     "iopub.status.idle": "2020-12-15T12:07:19.438711Z",
     "shell.execute_reply": "2020-12-15T12:07:19.438263Z"
    },
    "papermill": {
     "duration": 0.040196,
     "end_time": "2020-12-15T12:07:19.438824",
     "exception": false,
     "start_time": "2020-12-15T12:07:19.398628",
     "status": "completed"
    },
    "tags": []
   },
   "outputs": [],
   "source": [
    "#hide\n",
    "dfc_cases = dft_cases.groupby(COL_REGION)[dt_today].sum()\n",
    "dfc_deaths = dft_deaths.groupby(COL_REGION)[dt_today].sum()\n",
    "# dfp_cases = dft_cases.groupby(COL_REGION)[dt_5day].sum()\n",
    "# dfp_deaths = dft_deaths.groupby(COL_REGION)[dt_5day].sum()\n",
    "dfp_cases = dft_cases.groupby(COL_REGION)[dt_yday].sum()\n",
    "dfp_deaths = dft_deaths.groupby(COL_REGION)[dt_yday].sum()"
   ]
  },
  {
   "cell_type": "code",
   "execution_count": 12,
   "metadata": {
    "execution": {
     "iopub.execute_input": "2020-12-15T12:07:19.500774Z",
     "iopub.status.busy": "2020-12-15T12:07:19.500211Z",
     "iopub.status.idle": "2020-12-15T12:07:19.504995Z",
     "shell.execute_reply": "2020-12-15T12:07:19.505683Z"
    },
    "papermill": {
     "duration": 0.038983,
     "end_time": "2020-12-15T12:07:19.505823",
     "exception": false,
     "start_time": "2020-12-15T12:07:19.466840",
     "status": "completed"
    },
    "tags": []
   },
   "outputs": [],
   "source": [
    "#hide\n",
    "df_table = (pd.DataFrame(dict(Cases = dfc_cases, Deaths = dfc_deaths, PCases = dfp_cases, PDeaths = dfp_deaths))\n",
    "            .sort_values(by = ['Cases','Deaths'], ascending = [False, False])\n",
    "            .reset_index())"
   ]
  },
  {
   "cell_type": "code",
   "execution_count": 13,
   "metadata": {
    "execution": {
     "iopub.execute_input": "2020-12-15T12:07:19.582551Z",
     "iopub.status.busy": "2020-12-15T12:07:19.581846Z",
     "iopub.status.idle": "2020-12-15T12:07:19.590587Z",
     "shell.execute_reply": "2020-12-15T12:07:19.591069Z"
    },
    "papermill": {
     "duration": 0.05736,
     "end_time": "2020-12-15T12:07:19.591218",
     "exception": false,
     "start_time": "2020-12-15T12:07:19.533858",
     "status": "completed"
    },
    "tags": []
   },
   "outputs": [
    {
     "data": {
      "text/html": [
       "<div>\n",
       "<style scoped>\n",
       "    .dataframe tbody tr th:only-of-type {\n",
       "        vertical-align: middle;\n",
       "    }\n",
       "\n",
       "    .dataframe tbody tr th {\n",
       "        vertical-align: top;\n",
       "    }\n",
       "\n",
       "    .dataframe thead th {\n",
       "        text-align: right;\n",
       "    }\n",
       "</style>\n",
       "<table border=\"1\" class=\"dataframe\">\n",
       "  <thead>\n",
       "    <tr style=\"text-align: right;\">\n",
       "      <th></th>\n",
       "      <th>Country/Region</th>\n",
       "      <th>Cases</th>\n",
       "      <th>Deaths</th>\n",
       "      <th>PCases</th>\n",
       "      <th>PDeaths</th>\n",
       "      <th>Cases (+)</th>\n",
       "      <th>Deaths (+)</th>\n",
       "      <th>Fatality Rate</th>\n",
       "      <th>Continent</th>\n",
       "    </tr>\n",
       "  </thead>\n",
       "  <tbody>\n",
       "    <tr>\n",
       "      <th>0</th>\n",
       "      <td>US</td>\n",
       "      <td>16519462</td>\n",
       "      <td>300479</td>\n",
       "      <td>16326008</td>\n",
       "      <td>299168</td>\n",
       "      <td>193454</td>\n",
       "      <td>1311</td>\n",
       "      <td>1.82</td>\n",
       "      <td>North America</td>\n",
       "    </tr>\n",
       "    <tr>\n",
       "      <th>1</th>\n",
       "      <td>India</td>\n",
       "      <td>9906165</td>\n",
       "      <td>143709</td>\n",
       "      <td>9884100</td>\n",
       "      <td>143355</td>\n",
       "      <td>22065</td>\n",
       "      <td>354</td>\n",
       "      <td>1.45</td>\n",
       "      <td>Asia</td>\n",
       "    </tr>\n",
       "    <tr>\n",
       "      <th>2</th>\n",
       "      <td>Brazil</td>\n",
       "      <td>6927145</td>\n",
       "      <td>181835</td>\n",
       "      <td>6901952</td>\n",
       "      <td>181402</td>\n",
       "      <td>25193</td>\n",
       "      <td>433</td>\n",
       "      <td>2.62</td>\n",
       "      <td>South America</td>\n",
       "    </tr>\n",
       "    <tr>\n",
       "      <th>3</th>\n",
       "      <td>Russia</td>\n",
       "      <td>2656601</td>\n",
       "      <td>46846</td>\n",
       "      <td>2629699</td>\n",
       "      <td>46404</td>\n",
       "      <td>26902</td>\n",
       "      <td>442</td>\n",
       "      <td>1.76</td>\n",
       "      <td>Europe</td>\n",
       "    </tr>\n",
       "    <tr>\n",
       "      <th>4</th>\n",
       "      <td>France</td>\n",
       "      <td>2433859</td>\n",
       "      <td>58391</td>\n",
       "      <td>2430612</td>\n",
       "      <td>58015</td>\n",
       "      <td>3247</td>\n",
       "      <td>376</td>\n",
       "      <td>2.40</td>\n",
       "      <td>Europe</td>\n",
       "    </tr>\n",
       "  </tbody>\n",
       "</table>\n",
       "</div>"
      ],
      "text/plain": [
       "  Country/Region     Cases  Deaths    PCases  PDeaths  Cases (+)  Deaths (+)  \\\n",
       "0             US  16519462  300479  16326008   299168     193454        1311   \n",
       "1          India   9906165  143709   9884100   143355      22065         354   \n",
       "2         Brazil   6927145  181835   6901952   181402      25193         433   \n",
       "3         Russia   2656601   46846   2629699    46404      26902         442   \n",
       "4         France   2433859   58391   2430612    58015       3247         376   \n",
       "\n",
       "   Fatality Rate      Continent  \n",
       "0           1.82  North America  \n",
       "1           1.45           Asia  \n",
       "2           2.62  South America  \n",
       "3           1.76         Europe  \n",
       "4           2.40         Europe  "
      ]
     },
     "execution_count": 13,
     "metadata": {},
     "output_type": "execute_result"
    }
   ],
   "source": [
    "#hide\n",
    "for c in 'Cases, Deaths'.split(', '):\n",
    "    df_table[f'{c} (+)'] = (df_table[c] - df_table[f'P{c}']).clip(0)\n",
    "    #Clip ça veut dire, les chiffres negatif sont interdit\n",
    "df_table['Fatality Rate'] = (100* df_table['Deaths']/ df_table['Cases']).round(2)\n",
    "df_table['Continent'] = df_table['Country/Region'].map(mapping['map.continent'])\n",
    "df_table.head(5)"
   ]
  },
  {
   "cell_type": "code",
   "execution_count": 14,
   "metadata": {
    "execution": {
     "iopub.execute_input": "2020-12-15T12:07:19.655403Z",
     "iopub.status.busy": "2020-12-15T12:07:19.654776Z",
     "iopub.status.idle": "2020-12-15T12:07:19.657302Z",
     "shell.execute_reply": "2020-12-15T12:07:19.656774Z"
    },
    "papermill": {
     "duration": 0.036233,
     "end_time": "2020-12-15T12:07:19.657471",
     "exception": false,
     "start_time": "2020-12-15T12:07:19.621238",
     "status": "completed"
    },
    "tags": []
   },
   "outputs": [],
   "source": [
    "#hide\n",
    "#delete problematic countries from table\n",
    "df_table = df_table[~df_table['Country/Region'].isin(['Cape Verde', 'Cruise Ship', 'Kosovo'])]"
   ]
  },
  {
   "cell_type": "code",
   "execution_count": 15,
   "metadata": {
    "execution": {
     "iopub.execute_input": "2020-12-15T12:07:19.720803Z",
     "iopub.status.busy": "2020-12-15T12:07:19.720250Z",
     "iopub.status.idle": "2020-12-15T12:07:19.740457Z",
     "shell.execute_reply": "2020-12-15T12:07:19.741005Z"
    },
    "papermill": {
     "duration": 0.056193,
     "end_time": "2020-12-15T12:07:19.741135",
     "exception": false,
     "start_time": "2020-12-15T12:07:19.684942",
     "status": "completed"
    },
    "tags": []
   },
   "outputs": [
    {
     "data": {
      "text/html": [
       "<div>\n",
       "<style scoped>\n",
       "    .dataframe tbody tr th:only-of-type {\n",
       "        vertical-align: middle;\n",
       "    }\n",
       "\n",
       "    .dataframe tbody tr th {\n",
       "        vertical-align: top;\n",
       "    }\n",
       "\n",
       "    .dataframe thead th {\n",
       "        text-align: right;\n",
       "    }\n",
       "</style>\n",
       "<table border=\"1\" class=\"dataframe\">\n",
       "  <thead>\n",
       "    <tr style=\"text-align: right;\">\n",
       "      <th></th>\n",
       "      <th>Country/Region</th>\n",
       "      <th>Cases</th>\n",
       "      <th>Deaths</th>\n",
       "      <th>PCases</th>\n",
       "      <th>PDeaths</th>\n",
       "      <th>Cases (+)</th>\n",
       "      <th>Deaths (+)</th>\n",
       "      <th>Fatality Rate</th>\n",
       "      <th>Continent</th>\n",
       "    </tr>\n",
       "  </thead>\n",
       "  <tbody>\n",
       "    <tr>\n",
       "      <th>0</th>\n",
       "      <td>US</td>\n",
       "      <td>16519462</td>\n",
       "      <td>300479</td>\n",
       "      <td>16326008</td>\n",
       "      <td>299168</td>\n",
       "      <td>193454</td>\n",
       "      <td>1311</td>\n",
       "      <td>1.8</td>\n",
       "      <td>North America</td>\n",
       "    </tr>\n",
       "    <tr>\n",
       "      <th>1</th>\n",
       "      <td>India</td>\n",
       "      <td>9906165</td>\n",
       "      <td>143709</td>\n",
       "      <td>9884100</td>\n",
       "      <td>143355</td>\n",
       "      <td>22065</td>\n",
       "      <td>354</td>\n",
       "      <td>1.5</td>\n",
       "      <td>Asia</td>\n",
       "    </tr>\n",
       "    <tr>\n",
       "      <th>2</th>\n",
       "      <td>Brazil</td>\n",
       "      <td>6927145</td>\n",
       "      <td>181835</td>\n",
       "      <td>6901952</td>\n",
       "      <td>181402</td>\n",
       "      <td>25193</td>\n",
       "      <td>433</td>\n",
       "      <td>2.6</td>\n",
       "      <td>South America</td>\n",
       "    </tr>\n",
       "    <tr>\n",
       "      <th>3</th>\n",
       "      <td>Russia</td>\n",
       "      <td>2656601</td>\n",
       "      <td>46846</td>\n",
       "      <td>2629699</td>\n",
       "      <td>46404</td>\n",
       "      <td>26902</td>\n",
       "      <td>442</td>\n",
       "      <td>1.8</td>\n",
       "      <td>Europe</td>\n",
       "    </tr>\n",
       "    <tr>\n",
       "      <th>4</th>\n",
       "      <td>France</td>\n",
       "      <td>2433859</td>\n",
       "      <td>58391</td>\n",
       "      <td>2430612</td>\n",
       "      <td>58015</td>\n",
       "      <td>3247</td>\n",
       "      <td>376</td>\n",
       "      <td>2.4</td>\n",
       "      <td>Europe</td>\n",
       "    </tr>\n",
       "  </tbody>\n",
       "</table>\n",
       "</div>"
      ],
      "text/plain": [
       "  Country/Region     Cases  Deaths    PCases  PDeaths  Cases (+)  Deaths (+)  \\\n",
       "0             US  16519462  300479  16326008   299168     193454        1311   \n",
       "1          India   9906165  143709   9884100   143355      22065         354   \n",
       "2         Brazil   6927145  181835   6901952   181402      25193         433   \n",
       "3         Russia   2656601   46846   2629699    46404      26902         442   \n",
       "4         France   2433859   58391   2430612    58015       3247         376   \n",
       "\n",
       "   Fatality Rate      Continent  \n",
       "0            1.8  North America  \n",
       "1            1.5           Asia  \n",
       "2            2.6  South America  \n",
       "3            1.8         Europe  \n",
       "4            2.4         Europe  "
      ]
     },
     "execution_count": 15,
     "metadata": {},
     "output_type": "execute_result"
    }
   ],
   "source": [
    "#hide\n",
    "df_table = (pd.DataFrame(dict(Cases=dfc_cases, Deaths=dfc_deaths, PCases=dfp_cases, PDeaths=dfp_deaths))\n",
    "             .sort_values(by=['Cases', 'Deaths'], ascending=[False, False])\n",
    "             .reset_index())\n",
    "df_table.rename(columns={'index': 'Country/Region'}, inplace=True)\n",
    "for c in 'Cases, Deaths'.split(', '):\n",
    "    df_table[f'{c} (+)'] = (df_table[c] - df_table[f'P{c}']).clip(0)  # DATA BUG\n",
    "df_table['Fatality Rate'] = (100 * df_table['Deaths'] / df_table['Cases']).round(1)\n",
    "df_table['Continent'] = df_table['Country/Region'].map(mapping['map.continent'])\n",
    "df_table.head(5)"
   ]
  },
  {
   "cell_type": "code",
   "execution_count": 16,
   "metadata": {
    "execution": {
     "iopub.execute_input": "2020-12-15T12:07:19.806871Z",
     "iopub.status.busy": "2020-12-15T12:07:19.806187Z",
     "iopub.status.idle": "2020-12-15T12:07:19.808465Z",
     "shell.execute_reply": "2020-12-15T12:07:19.808913Z"
    },
    "papermill": {
     "duration": 0.037901,
     "end_time": "2020-12-15T12:07:19.809027",
     "exception": false,
     "start_time": "2020-12-15T12:07:19.771126",
     "status": "completed"
    },
    "tags": []
   },
   "outputs": [],
   "source": [
    "#hide\n",
    "#delete problematic countries from table\n",
    "df_table = df_table[~df_table['Country/Region'].isin(['Cape Verde', 'Cruise Ship', 'Kosovo'])]"
   ]
  },
  {
   "cell_type": "code",
   "execution_count": 17,
   "metadata": {
    "execution": {
     "iopub.execute_input": "2020-12-15T12:07:19.878121Z",
     "iopub.status.busy": "2020-12-15T12:07:19.877549Z",
     "iopub.status.idle": "2020-12-15T12:07:19.889628Z",
     "shell.execute_reply": "2020-12-15T12:07:19.890073Z"
    },
    "papermill": {
     "duration": 0.050921,
     "end_time": "2020-12-15T12:07:19.890248",
     "exception": false,
     "start_time": "2020-12-15T12:07:19.839327",
     "status": "completed"
    },
    "tags": []
   },
   "outputs": [],
   "source": [
    "#hide\n",
    "metrics = [df_table.columns[index] for index in [1,2,5,6]]\n",
    "# s_china = df_table[df_table['Country/Region'].eq('China')][metrics].sum().add_prefix('China ')\n",
    "s_us = df_table[df_table['Country/Region'].eq('US')][metrics].sum().add_prefix('US ')\n",
    "s_eu = df_table[df_table['Continent'].eq('Europe')][metrics].sum().add_prefix('EU ')\n",
    "s_ind = df_table[df_table['Country/Region'].eq('India')][metrics].sum().add_prefix('India ')\n",
    "summary = {'updated': pd.to_datetime(dt_today), 'since': pd.to_datetime(dt_yday)}\n",
    "summary = {'updated': pd.to_datetime(dt_today), 'since': pd.to_datetime(dt_yday)}\n",
    "summary = {**summary, **df_table[metrics].sum(), **s_ind, **s_us, **s_eu}"
   ]
  },
  {
   "cell_type": "code",
   "execution_count": 18,
   "metadata": {
    "execution": {
     "iopub.execute_input": "2020-12-15T12:07:19.953497Z",
     "iopub.status.busy": "2020-12-15T12:07:19.952864Z",
     "iopub.status.idle": "2020-12-15T12:07:19.962970Z",
     "shell.execute_reply": "2020-12-15T12:07:19.963448Z"
    },
    "papermill": {
     "duration": 0.043369,
     "end_time": "2020-12-15T12:07:19.963572",
     "exception": false,
     "start_time": "2020-12-15T12:07:19.920203",
     "status": "completed"
    },
    "tags": []
   },
   "outputs": [],
   "source": [
    "#hide\n",
    "dft_ct_new_cases = dft_cases.groupby(COL_REGION)[dt_cols].sum().diff(axis=1).fillna(0).astype(int)"
   ]
  },
  {
   "cell_type": "code",
   "execution_count": 19,
   "metadata": {
    "execution": {
     "iopub.execute_input": "2020-12-15T12:07:20.025476Z",
     "iopub.status.busy": "2020-12-15T12:07:20.024825Z",
     "iopub.status.idle": "2020-12-15T12:07:20.027385Z",
     "shell.execute_reply": "2020-12-15T12:07:20.026786Z"
    },
    "papermill": {
     "duration": 0.034566,
     "end_time": "2020-12-15T12:07:20.027515",
     "exception": false,
     "start_time": "2020-12-15T12:07:19.992949",
     "status": "completed"
    },
    "tags": []
   },
   "outputs": [],
   "source": [
    "#hide\n",
    "everydaycases = dft_ct_new_cases.cumsum(axis=1)"
   ]
  },
  {
   "cell_type": "code",
   "execution_count": 20,
   "metadata": {
    "execution": {
     "iopub.execute_input": "2020-12-15T12:07:20.097706Z",
     "iopub.status.busy": "2020-12-15T12:07:20.096985Z",
     "iopub.status.idle": "2020-12-15T12:07:21.017966Z",
     "shell.execute_reply": "2020-12-15T12:07:21.017407Z"
    },
    "papermill": {
     "duration": 0.958929,
     "end_time": "2020-12-15T12:07:21.018101",
     "exception": false,
     "start_time": "2020-12-15T12:07:20.059172",
     "status": "completed"
    },
    "tags": []
   },
   "outputs": [],
   "source": [
    "#hide\n",
    "import pandas as pd\n",
    "import matplotlib.pyplot as plt\n",
    "import matplotlib.ticker as ticker\n",
    "import matplotlib.animation as animation\n",
    "from IPython.display import HTML"
   ]
  },
  {
   "cell_type": "code",
   "execution_count": 21,
   "metadata": {
    "execution": {
     "iopub.execute_input": "2020-12-15T12:07:21.090781Z",
     "iopub.status.busy": "2020-12-15T12:07:21.090216Z",
     "iopub.status.idle": "2020-12-15T12:07:21.094507Z",
     "shell.execute_reply": "2020-12-15T12:07:21.095080Z"
    },
    "papermill": {
     "duration": 0.044954,
     "end_time": "2020-12-15T12:07:21.095221",
     "exception": false,
     "start_time": "2020-12-15T12:07:21.050267",
     "status": "completed"
    },
    "tags": []
   },
   "outputs": [],
   "source": [
    "#hide\n",
    "t = everydaycases.stack()"
   ]
  },
  {
   "cell_type": "code",
   "execution_count": 22,
   "metadata": {
    "execution": {
     "iopub.execute_input": "2020-12-15T12:07:21.164162Z",
     "iopub.status.busy": "2020-12-15T12:07:21.163484Z",
     "iopub.status.idle": "2020-12-15T12:07:21.170049Z",
     "shell.execute_reply": "2020-12-15T12:07:21.169510Z"
    },
    "papermill": {
     "duration": 0.039382,
     "end_time": "2020-12-15T12:07:21.170175",
     "exception": false,
     "start_time": "2020-12-15T12:07:21.130793",
     "status": "completed"
    },
    "tags": []
   },
   "outputs": [],
   "source": [
    "#hide\n",
    "g = t.reset_index(['Country/Region'])"
   ]
  },
  {
   "cell_type": "code",
   "execution_count": 23,
   "metadata": {
    "execution": {
     "iopub.execute_input": "2020-12-15T12:07:21.233817Z",
     "iopub.status.busy": "2020-12-15T12:07:21.233189Z",
     "iopub.status.idle": "2020-12-15T12:07:21.235687Z",
     "shell.execute_reply": "2020-12-15T12:07:21.235218Z"
    },
    "papermill": {
     "duration": 0.035677,
     "end_time": "2020-12-15T12:07:21.235798",
     "exception": false,
     "start_time": "2020-12-15T12:07:21.200121",
     "status": "completed"
    },
    "tags": []
   },
   "outputs": [],
   "source": [
    "#hide\n",
    "g.index.name = 'date'"
   ]
  },
  {
   "cell_type": "code",
   "execution_count": 24,
   "metadata": {
    "execution": {
     "iopub.execute_input": "2020-12-15T12:07:21.296787Z",
     "iopub.status.busy": "2020-12-15T12:07:21.296108Z",
     "iopub.status.idle": "2020-12-15T12:07:21.298181Z",
     "shell.execute_reply": "2020-12-15T12:07:21.298711Z"
    },
    "papermill": {
     "duration": 0.034165,
     "end_time": "2020-12-15T12:07:21.298833",
     "exception": false,
     "start_time": "2020-12-15T12:07:21.264668",
     "status": "completed"
    },
    "tags": []
   },
   "outputs": [],
   "source": [
    "# #hide\n",
    "# g = g.reset_index(['date'])"
   ]
  },
  {
   "cell_type": "code",
   "execution_count": 25,
   "metadata": {
    "execution": {
     "iopub.execute_input": "2020-12-15T12:07:21.359698Z",
     "iopub.status.busy": "2020-12-15T12:07:21.359094Z",
     "iopub.status.idle": "2020-12-15T12:07:21.361461Z",
     "shell.execute_reply": "2020-12-15T12:07:21.360884Z"
    },
    "papermill": {
     "duration": 0.034077,
     "end_time": "2020-12-15T12:07:21.361598",
     "exception": false,
     "start_time": "2020-12-15T12:07:21.327521",
     "status": "completed"
    },
    "tags": []
   },
   "outputs": [],
   "source": [
    "#hide\n",
    "# g.head()"
   ]
  },
  {
   "cell_type": "code",
   "execution_count": 26,
   "metadata": {
    "execution": {
     "iopub.execute_input": "2020-12-15T12:07:21.428959Z",
     "iopub.status.busy": "2020-12-15T12:07:21.428333Z",
     "iopub.status.idle": "2020-12-15T12:07:21.430577Z",
     "shell.execute_reply": "2020-12-15T12:07:21.431526Z"
    },
    "papermill": {
     "duration": 0.040186,
     "end_time": "2020-12-15T12:07:21.431702",
     "exception": false,
     "start_time": "2020-12-15T12:07:21.391516",
     "status": "completed"
    },
    "tags": []
   },
   "outputs": [],
   "source": [
    "#hide\n",
    "# g.columns = ['date','country','cases']"
   ]
  },
  {
   "cell_type": "code",
   "execution_count": 27,
   "metadata": {
    "execution": {
     "iopub.execute_input": "2020-12-15T12:07:21.492794Z",
     "iopub.status.busy": "2020-12-15T12:07:21.492194Z",
     "iopub.status.idle": "2020-12-15T12:07:21.494308Z",
     "shell.execute_reply": "2020-12-15T12:07:21.493720Z"
    },
    "papermill": {
     "duration": 0.033294,
     "end_time": "2020-12-15T12:07:21.494414",
     "exception": false,
     "start_time": "2020-12-15T12:07:21.461120",
     "status": "completed"
    },
    "tags": []
   },
   "outputs": [],
   "source": [
    "#hide\n",
    "# g['continent'] = g.country"
   ]
  },
  {
   "cell_type": "code",
   "execution_count": 28,
   "metadata": {
    "execution": {
     "iopub.execute_input": "2020-12-15T12:07:21.555065Z",
     "iopub.status.busy": "2020-12-15T12:07:21.554462Z",
     "iopub.status.idle": "2020-12-15T12:07:21.556833Z",
     "shell.execute_reply": "2020-12-15T12:07:21.556288Z"
    },
    "papermill": {
     "duration": 0.033819,
     "end_time": "2020-12-15T12:07:21.556952",
     "exception": false,
     "start_time": "2020-12-15T12:07:21.523133",
     "status": "completed"
    },
    "tags": []
   },
   "outputs": [],
   "source": [
    "#hide\n",
    "# cols = list(g.columns.values)"
   ]
  },
  {
   "cell_type": "code",
   "execution_count": 29,
   "metadata": {
    "execution": {
     "iopub.execute_input": "2020-12-15T12:07:21.620801Z",
     "iopub.status.busy": "2020-12-15T12:07:21.620254Z",
     "iopub.status.idle": "2020-12-15T12:07:21.622723Z",
     "shell.execute_reply": "2020-12-15T12:07:21.622240Z"
    },
    "papermill": {
     "duration": 0.036612,
     "end_time": "2020-12-15T12:07:21.622826",
     "exception": false,
     "start_time": "2020-12-15T12:07:21.586214",
     "status": "completed"
    },
    "tags": []
   },
   "outputs": [],
   "source": [
    "#hide\n",
    "# cols.insert(0, cols.pop())"
   ]
  },
  {
   "cell_type": "code",
   "execution_count": 30,
   "metadata": {
    "execution": {
     "iopub.execute_input": "2020-12-15T12:07:21.683862Z",
     "iopub.status.busy": "2020-12-15T12:07:21.683306Z",
     "iopub.status.idle": "2020-12-15T12:07:21.685622Z",
     "shell.execute_reply": "2020-12-15T12:07:21.685117Z"
    },
    "papermill": {
     "duration": 0.034034,
     "end_time": "2020-12-15T12:07:21.685752",
     "exception": false,
     "start_time": "2020-12-15T12:07:21.651718",
     "status": "completed"
    },
    "tags": []
   },
   "outputs": [],
   "source": [
    "#hide\n",
    "# g = g[cols]"
   ]
  },
  {
   "cell_type": "code",
   "execution_count": 31,
   "metadata": {
    "execution": {
     "iopub.execute_input": "2020-12-15T12:07:21.747662Z",
     "iopub.status.busy": "2020-12-15T12:07:21.747058Z",
     "iopub.status.idle": "2020-12-15T12:07:21.749031Z",
     "shell.execute_reply": "2020-12-15T12:07:21.749498Z"
    },
    "papermill": {
     "duration": 0.035364,
     "end_time": "2020-12-15T12:07:21.749677",
     "exception": false,
     "start_time": "2020-12-15T12:07:21.714313",
     "status": "completed"
    },
    "tags": []
   },
   "outputs": [],
   "source": [
    "#hide\n",
    "# g['continent'] = g['continent'].map(mapping['map.continent'])"
   ]
  },
  {
   "cell_type": "code",
   "execution_count": 32,
   "metadata": {
    "execution": {
     "iopub.execute_input": "2020-12-15T12:07:21.810474Z",
     "iopub.status.busy": "2020-12-15T12:07:21.809914Z",
     "iopub.status.idle": "2020-12-15T12:07:21.812357Z",
     "shell.execute_reply": "2020-12-15T12:07:21.811789Z"
    },
    "papermill": {
     "duration": 0.034441,
     "end_time": "2020-12-15T12:07:21.812500",
     "exception": false,
     "start_time": "2020-12-15T12:07:21.778059",
     "status": "completed"
    },
    "tags": []
   },
   "outputs": [],
   "source": [
    "#hide\n",
    "# g.head()"
   ]
  },
  {
   "cell_type": "code",
   "execution_count": 33,
   "metadata": {
    "execution": {
     "iopub.execute_input": "2020-12-15T12:07:21.874359Z",
     "iopub.status.busy": "2020-12-15T12:07:21.873818Z",
     "iopub.status.idle": "2020-12-15T12:07:21.875964Z",
     "shell.execute_reply": "2020-12-15T12:07:21.876591Z"
    },
    "papermill": {
     "duration": 0.034876,
     "end_time": "2020-12-15T12:07:21.876750",
     "exception": false,
     "start_time": "2020-12-15T12:07:21.841874",
     "status": "completed"
    },
    "tags": []
   },
   "outputs": [],
   "source": [
    "# hide\n",
    "# g['date'] = g['date'].astype('datetime64[ns]')"
   ]
  },
  {
   "cell_type": "code",
   "execution_count": 34,
   "metadata": {
    "execution": {
     "iopub.execute_input": "2020-12-15T12:07:21.938767Z",
     "iopub.status.busy": "2020-12-15T12:07:21.938223Z",
     "iopub.status.idle": "2020-12-15T12:07:21.940402Z",
     "shell.execute_reply": "2020-12-15T12:07:21.939942Z"
    },
    "papermill": {
     "duration": 0.033287,
     "end_time": "2020-12-15T12:07:21.940513",
     "exception": false,
     "start_time": "2020-12-15T12:07:21.907226",
     "status": "completed"
    },
    "tags": []
   },
   "outputs": [],
   "source": [
    "#hide\n",
    "# g['date'] = g.date.dt.dayofyear"
   ]
  },
  {
   "cell_type": "code",
   "execution_count": 35,
   "metadata": {
    "execution": {
     "iopub.execute_input": "2020-12-15T12:07:22.000376Z",
     "iopub.status.busy": "2020-12-15T12:07:21.999663Z",
     "iopub.status.idle": "2020-12-15T12:07:22.002264Z",
     "shell.execute_reply": "2020-12-15T12:07:22.001697Z"
    },
    "papermill": {
     "duration": 0.033582,
     "end_time": "2020-12-15T12:07:22.002371",
     "exception": false,
     "start_time": "2020-12-15T12:07:21.968789",
     "status": "completed"
    },
    "tags": []
   },
   "outputs": [],
   "source": [
    "#hide\n",
    "# g = g.rename(columns= {'continent':'group','country':'name','cases':'value'})"
   ]
  },
  {
   "cell_type": "code",
   "execution_count": 36,
   "metadata": {
    "execution": {
     "iopub.execute_input": "2020-12-15T12:07:22.063908Z",
     "iopub.status.busy": "2020-12-15T12:07:22.063352Z",
     "iopub.status.idle": "2020-12-15T12:07:22.065703Z",
     "shell.execute_reply": "2020-12-15T12:07:22.065096Z"
    },
    "papermill": {
     "duration": 0.034641,
     "end_time": "2020-12-15T12:07:22.065834",
     "exception": false,
     "start_time": "2020-12-15T12:07:22.031193",
     "status": "completed"
    },
    "tags": []
   },
   "outputs": [],
   "source": [
    "#hide\n",
    "# cols = ['name','group','day','value']"
   ]
  },
  {
   "cell_type": "code",
   "execution_count": 37,
   "metadata": {
    "execution": {
     "iopub.execute_input": "2020-12-15T12:07:22.133411Z",
     "iopub.status.busy": "2020-12-15T12:07:22.132823Z",
     "iopub.status.idle": "2020-12-15T12:07:22.135164Z",
     "shell.execute_reply": "2020-12-15T12:07:22.134582Z"
    },
    "papermill": {
     "duration": 0.036075,
     "end_time": "2020-12-15T12:07:22.135277",
     "exception": false,
     "start_time": "2020-12-15T12:07:22.099202",
     "status": "completed"
    },
    "tags": []
   },
   "outputs": [],
   "source": [
    "#hide\n",
    "# g.rename(columns= {'date':'day'},inplace = True)"
   ]
  },
  {
   "cell_type": "code",
   "execution_count": 38,
   "metadata": {
    "execution": {
     "iopub.execute_input": "2020-12-15T12:07:22.198991Z",
     "iopub.status.busy": "2020-12-15T12:07:22.198438Z",
     "iopub.status.idle": "2020-12-15T12:07:22.200695Z",
     "shell.execute_reply": "2020-12-15T12:07:22.200155Z"
    },
    "papermill": {
     "duration": 0.035168,
     "end_time": "2020-12-15T12:07:22.200807",
     "exception": false,
     "start_time": "2020-12-15T12:07:22.165639",
     "status": "completed"
    },
    "tags": []
   },
   "outputs": [],
   "source": [
    "#hide\n",
    "# g = g[cols]"
   ]
  },
  {
   "cell_type": "code",
   "execution_count": 39,
   "metadata": {
    "execution": {
     "iopub.execute_input": "2020-12-15T12:07:22.263373Z",
     "iopub.status.busy": "2020-12-15T12:07:22.262818Z",
     "iopub.status.idle": "2020-12-15T12:07:22.265117Z",
     "shell.execute_reply": "2020-12-15T12:07:22.264554Z"
    },
    "papermill": {
     "duration": 0.035493,
     "end_time": "2020-12-15T12:07:22.265300",
     "exception": false,
     "start_time": "2020-12-15T12:07:22.229807",
     "status": "completed"
    },
    "tags": []
   },
   "outputs": [],
   "source": [
    "# #hide\n",
    "# g = g[g.group.notna()]"
   ]
  },
  {
   "cell_type": "code",
   "execution_count": 40,
   "metadata": {
    "execution": {
     "iopub.execute_input": "2020-12-15T12:07:22.331916Z",
     "iopub.status.busy": "2020-12-15T12:07:22.331279Z",
     "iopub.status.idle": "2020-12-15T12:07:22.333797Z",
     "shell.execute_reply": "2020-12-15T12:07:22.333242Z"
    },
    "papermill": {
     "duration": 0.037241,
     "end_time": "2020-12-15T12:07:22.333923",
     "exception": false,
     "start_time": "2020-12-15T12:07:22.296682",
     "status": "completed"
    },
    "tags": []
   },
   "outputs": [],
   "source": [
    "# #hide\n",
    "# colors = dict(zip(\n",
    "#     [\"Oceania\", \"Europe\", \"Asia\", \"South America\", \"Middle East\", \"North America\", \"Africa\"],\n",
    "#     [\"#adb0ff\", \"#ffb3ff\", \"#90d595\", \"#e48381\", \"#aafbff\", \"#f7bb5f\", \"#eafb50\"]\n",
    "# ))\n",
    "# group_lk = g.set_index('name')['group'].to_dict()"
   ]
  },
  {
   "cell_type": "code",
   "execution_count": null,
   "metadata": {
    "papermill": {
     "duration": 0.0279,
     "end_time": "2020-12-15T12:07:22.390532",
     "exception": false,
     "start_time": "2020-12-15T12:07:22.362632",
     "status": "completed"
    },
    "tags": []
   },
   "outputs": [],
   "source": []
  },
  {
   "cell_type": "code",
   "execution_count": 41,
   "metadata": {
    "execution": {
     "iopub.execute_input": "2020-12-15T12:07:22.451953Z",
     "iopub.status.busy": "2020-12-15T12:07:22.451278Z",
     "iopub.status.idle": "2020-12-15T12:07:22.453647Z",
     "shell.execute_reply": "2020-12-15T12:07:22.454161Z"
    },
    "papermill": {
     "duration": 0.035051,
     "end_time": "2020-12-15T12:07:22.454289",
     "exception": false,
     "start_time": "2020-12-15T12:07:22.419238",
     "status": "completed"
    },
    "tags": []
   },
   "outputs": [],
   "source": [
    "# #hide\n",
    "# fig, ax = plt.subplots(figsize=(15, 8))\n",
    "\n",
    "# def draw_barchart(current_day):\n",
    "#     dff = g[g['day'].eq(current_day)].sort_values(by='value', ascending=True).tail(10)\n",
    "#     ax.clear()\n",
    "#     ax.barh(dff['name'], dff['value'], color=[colors[group_lk[x]] for x in dff['name']])\n",
    "#     dx = dff['value'].max() / 200\n",
    "    \n",
    "#     for i, (value, name) in enumerate(zip(dff['value'], dff['name'])):\n",
    "#         ax.text(value-dx, i,     name,           size=14, weight=600, ha='right', va='bottom')\n",
    "#         ax.text(value-dx, i-.25, group_lk[name], size=10, color='#444444', ha='right', va='baseline')\n",
    "#         ax.text(value+dx, i,     f'{value:,.0f}',  size=14, ha='left',  va='center')\n",
    "#     ax.text(1, 0.4, current_day, transform=ax.transAxes, color='#777777', size=46, ha='right', weight=800)\n",
    "#     ax.text(0, 1.06, 'Population (thousands)', transform=ax.transAxes, size=12, color='#777777')\n",
    "#     ax.xaxis.set_major_formatter(ticker.StrMethodFormatter('{x:,.0f}'))\n",
    "#     ax.xaxis.set_ticks_position('top')\n",
    "#     ax.tick_params(axis='x', colors='#777777', labelsize=12)\n",
    "#     ax.set_yticks([])\n",
    "#     ax.margins(0, 0.01)\n",
    "#     ax.grid(which='major', axis='x', linestyle='-')\n",
    "#     ax.set_axisbelow(True)\n",
    "    \n",
    "#     ax.text(0, 1.15, 'Coronavirus',\n",
    "#             transform=ax.transAxes, size=24, weight=600, ha='left', va='top')\n",
    "# #     ax.text(1, 0, 'by @pratapvardhan; credit @jburnmurdoch', transform=ax.transAxes, color='#777777', ha='right',\n",
    "# #             bbox=dict(facecolor='white', alpha=0.8, edgecolor='white'))\n",
    "#     plt.box(False)"
   ]
  },
  {
   "cell_type": "code",
   "execution_count": 42,
   "metadata": {
    "execution": {
     "iopub.execute_input": "2020-12-15T12:07:22.514385Z",
     "iopub.status.busy": "2020-12-15T12:07:22.513798Z",
     "iopub.status.idle": "2020-12-15T12:07:22.515538Z",
     "shell.execute_reply": "2020-12-15T12:07:22.516131Z"
    },
    "papermill": {
     "duration": 0.033273,
     "end_time": "2020-12-15T12:07:22.516243",
     "exception": false,
     "start_time": "2020-12-15T12:07:22.482970",
     "status": "completed"
    },
    "tags": []
   },
   "outputs": [],
   "source": [
    "# #hide_input\n",
    "# fig, ax = plt.subplots(figsize=(15, 8))\n",
    "# animator = animation.FuncAnimation(fig, draw_barchart, frames=range(g.day.values.min(), g.day.values.max()))\n",
    "# HTML(animator.to_jshtml())\n",
    "# # or use animator.to_html5_video() or animator.save() "
   ]
  },
  {
   "cell_type": "code",
   "execution_count": null,
   "metadata": {
    "papermill": {
     "duration": 0.028919,
     "end_time": "2020-12-15T12:07:22.572746",
     "exception": false,
     "start_time": "2020-12-15T12:07:22.543827",
     "status": "completed"
    },
    "tags": []
   },
   "outputs": [],
   "source": []
  },
  {
   "cell_type": "code",
   "execution_count": null,
   "metadata": {
    "papermill": {
     "duration": 0.033446,
     "end_time": "2020-12-15T12:07:22.634766",
     "exception": false,
     "start_time": "2020-12-15T12:07:22.601320",
     "status": "completed"
    },
    "tags": []
   },
   "outputs": [],
   "source": []
  },
  {
   "cell_type": "code",
   "execution_count": null,
   "metadata": {
    "papermill": {
     "duration": 0.031291,
     "end_time": "2020-12-15T12:07:22.694885",
     "exception": false,
     "start_time": "2020-12-15T12:07:22.663594",
     "status": "completed"
    },
    "tags": []
   },
   "outputs": [],
   "source": []
  }
 ],
 "metadata": {
  "kernelspec": {
   "display_name": "Python 3",
   "language": "python",
   "name": "python3"
  },
  "language_info": {
   "codemirror_mode": {
    "name": "ipython",
    "version": 3
   },
   "file_extension": ".py",
   "mimetype": "text/x-python",
   "name": "python",
   "nbconvert_exporter": "python",
   "pygments_lexer": "ipython3",
   "version": "3.6.12"
  },
  "papermill": {
   "duration": 7.495501,
   "end_time": "2020-12-15T12:07:24.391544",
   "environment_variables": {},
   "exception": null,
   "input_path": "2020-03-21-covid19exp.ipynb",
   "output_path": "2020-03-21-covid19exp.ipynb",
   "parameters": {},
   "start_time": "2020-12-15T12:07:16.896043",
   "version": "2.0.0"
  }
 },
 "nbformat": 4,
 "nbformat_minor": 4
}