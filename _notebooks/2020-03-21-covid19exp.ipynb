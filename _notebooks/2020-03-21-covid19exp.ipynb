{
 "cells": [
  {
   "cell_type": "markdown",
   "id": "muslim-click",
   "metadata": {
    "papermill": {
     "duration": 0.033148,
     "end_time": "2022-03-25T12:14:59.248160",
     "exception": false,
     "start_time": "2022-03-25T12:14:59.215012",
     "status": "completed"
    },
    "tags": []
   },
   "source": [
    "# COVID-19 Case Race\n",
    "> A race chart to see rising cases around the world\n",
    "\n",
    "- author: Hargun Oberoi\n",
    "- image: images/covid-overview.png\n",
    "- hide: false\n",
    "- badges: false"
   ]
  },
  {
   "cell_type": "code",
   "execution_count": 1,
   "id": "proof-material",
   "metadata": {
    "execution": {
     "iopub.execute_input": "2022-03-25T12:14:59.318169Z",
     "iopub.status.busy": "2022-03-25T12:14:59.315829Z",
     "iopub.status.idle": "2022-03-25T12:14:59.631327Z",
     "shell.execute_reply": "2022-03-25T12:14:59.630774Z"
    },
    "papermill": {
     "duration": 0.352184,
     "end_time": "2022-03-25T12:14:59.631486",
     "exception": false,
     "start_time": "2022-03-25T12:14:59.279302",
     "status": "completed"
    },
    "tags": []
   },
   "outputs": [],
   "source": [
    "#hide\n",
    "import numpy as np\n",
    "import pandas as pd\n",
    "from jinja2 import Template\n",
    "from IPython.display import HTML"
   ]
  },
  {
   "cell_type": "code",
   "execution_count": 2,
   "id": "developed-terminology",
   "metadata": {
    "execution": {
     "iopub.execute_input": "2022-03-25T12:14:59.695155Z",
     "iopub.status.busy": "2022-03-25T12:14:59.694627Z",
     "iopub.status.idle": "2022-03-25T12:14:59.696614Z",
     "shell.execute_reply": "2022-03-25T12:14:59.696108Z"
    },
    "papermill": {
     "duration": 0.035481,
     "end_time": "2022-03-25T12:14:59.696717",
     "exception": false,
     "start_time": "2022-03-25T12:14:59.661236",
     "status": "completed"
    },
    "tags": []
   },
   "outputs": [],
   "source": [
    "#hide\n",
    "\n",
    "# FETCH\n",
    "base_url = 'https://raw.githubusercontent.com/pratapvardhan/notebooks/master/covid19/'\n",
    "paths = {\n",
    "    'mapping': base_url + 'mapping_countries.csv',\n",
    "    'overview': base_url + 'overview.tpl'\n",
    "}"
   ]
  },
  {
   "cell_type": "code",
   "execution_count": 3,
   "id": "dynamic-saver",
   "metadata": {
    "execution": {
     "iopub.execute_input": "2022-03-25T12:14:59.764689Z",
     "iopub.status.busy": "2022-03-25T12:14:59.764184Z",
     "iopub.status.idle": "2022-03-25T12:14:59.767176Z",
     "shell.execute_reply": "2022-03-25T12:14:59.766781Z"
    },
    "papermill": {
     "duration": 0.041407,
     "end_time": "2022-03-25T12:14:59.767277",
     "exception": false,
     "start_time": "2022-03-25T12:14:59.725870",
     "status": "completed"
    },
    "tags": []
   },
   "outputs": [
    {
     "data": {
      "text/plain": [
       "'https://raw.githubusercontent.com/pratapvardhan/notebooks/master/covid19/mapping_countries.csv'"
      ]
     },
     "execution_count": 3,
     "metadata": {},
     "output_type": "execute_result"
    }
   ],
   "source": [
    "#hide\n",
    "paths['mapping']"
   ]
  },
  {
   "cell_type": "code",
   "execution_count": 4,
   "id": "urban-software",
   "metadata": {
    "execution": {
     "iopub.execute_input": "2022-03-25T12:14:59.831704Z",
     "iopub.status.busy": "2022-03-25T12:14:59.831127Z",
     "iopub.status.idle": "2022-03-25T12:14:59.833355Z",
     "shell.execute_reply": "2022-03-25T12:14:59.832901Z"
    },
    "papermill": {
     "duration": 0.03648,
     "end_time": "2022-03-25T12:14:59.833470",
     "exception": false,
     "start_time": "2022-03-25T12:14:59.796990",
     "status": "completed"
    },
    "tags": []
   },
   "outputs": [],
   "source": [
    "#hide\n",
    "def get_mappings(url):\n",
    "    df = pd.read_csv(url)\n",
    "    return {\n",
    "        'df': df,\n",
    "        'replace.country': dict(df.dropna(subset=['Name']).set_index('Country')['Name']),\n",
    "        'map.continent': dict(df.set_index('Name')['Continent'])\n",
    "    }"
   ]
  },
  {
   "cell_type": "code",
   "execution_count": 5,
   "id": "intimate-machinery",
   "metadata": {
    "execution": {
     "iopub.execute_input": "2022-03-25T12:14:59.897358Z",
     "iopub.status.busy": "2022-03-25T12:14:59.896858Z",
     "iopub.status.idle": "2022-03-25T12:14:59.957001Z",
     "shell.execute_reply": "2022-03-25T12:14:59.956604Z"
    },
    "papermill": {
     "duration": 0.093881,
     "end_time": "2022-03-25T12:14:59.957102",
     "exception": false,
     "start_time": "2022-03-25T12:14:59.863221",
     "status": "completed"
    },
    "tags": []
   },
   "outputs": [],
   "source": [
    "#hide\n",
    "mapping = get_mappings(paths['mapping'])"
   ]
  },
  {
   "cell_type": "code",
   "execution_count": 6,
   "id": "certified-tactics",
   "metadata": {
    "execution": {
     "iopub.execute_input": "2022-03-25T12:15:00.021156Z",
     "iopub.status.busy": "2022-03-25T12:15:00.020661Z",
     "iopub.status.idle": "2022-03-25T12:15:00.022712Z",
     "shell.execute_reply": "2022-03-25T12:15:00.023189Z"
    },
    "papermill": {
     "duration": 0.036412,
     "end_time": "2022-03-25T12:15:00.023300",
     "exception": false,
     "start_time": "2022-03-25T12:14:59.986888",
     "status": "completed"
    },
    "tags": []
   },
   "outputs": [],
   "source": [
    "#hide\n",
    "def get_template(path):\n",
    "    from urllib.parse import urlparse\n",
    "    if bool(urlparse(path).netloc):\n",
    "        from urllib.request import urlopen\n",
    "        return urlopen(path).read().decode('utf8')\n",
    "    return open(path).read()"
   ]
  },
  {
   "cell_type": "code",
   "execution_count": 7,
   "id": "realistic-blast",
   "metadata": {
    "execution": {
     "iopub.execute_input": "2022-03-25T12:15:00.086850Z",
     "iopub.status.busy": "2022-03-25T12:15:00.086262Z",
     "iopub.status.idle": "2022-03-25T12:15:00.088356Z",
     "shell.execute_reply": "2022-03-25T12:15:00.087881Z"
    },
    "papermill": {
     "duration": 0.035585,
     "end_time": "2022-03-25T12:15:00.088464",
     "exception": false,
     "start_time": "2022-03-25T12:15:00.052879",
     "status": "completed"
    },
    "tags": []
   },
   "outputs": [],
   "source": [
    "#hide\n",
    "def get_frame(name):\n",
    "    url = (\n",
    "        'https://raw.githubusercontent.com/CSSEGISandData/COVID-19/master/csse_covid_19_data/'\n",
    "        f'csse_covid_19_time_series/time_series_covid19_{name}_global.csv')\n",
    "    df = pd.read_csv(url)\n",
    "    # rename countries\n",
    "    df['Country/Region'] = df['Country/Region'].replace(mapping['replace.country'])\n",
    "    return df"
   ]
  },
  {
   "cell_type": "code",
   "execution_count": 8,
   "id": "affiliated-characterization",
   "metadata": {
    "execution": {
     "iopub.execute_input": "2022-03-25T12:15:00.153152Z",
     "iopub.status.busy": "2022-03-25T12:15:00.152644Z",
     "iopub.status.idle": "2022-03-25T12:15:00.154758Z",
     "shell.execute_reply": "2022-03-25T12:15:00.154331Z"
    },
    "papermill": {
     "duration": 0.036367,
     "end_time": "2022-03-25T12:15:00.154857",
     "exception": false,
     "start_time": "2022-03-25T12:15:00.118490",
     "status": "completed"
    },
    "tags": []
   },
   "outputs": [],
   "source": [
    "#hide\n",
    "def get_dates(df):\n",
    "    dt_cols = df.columns[~df.columns.isin(['Province/State', 'Country/Region', 'Lat', 'Long'])]\n",
    "    LAST_DATE_I = -1\n",
    "    # sometimes last column may be empty, then go backwards\n",
    "    for i in range(-1, -len(dt_cols), -1):\n",
    "        if not df[dt_cols[i]].fillna(0).eq(0).all():\n",
    "            LAST_DATE_I = i\n",
    "            break\n",
    "    return LAST_DATE_I, dt_cols"
   ]
  },
  {
   "cell_type": "code",
   "execution_count": 9,
   "id": "recent-optimization",
   "metadata": {
    "execution": {
     "iopub.execute_input": "2022-03-25T12:15:00.218487Z",
     "iopub.status.busy": "2022-03-25T12:15:00.217928Z",
     "iopub.status.idle": "2022-03-25T12:15:00.806477Z",
     "shell.execute_reply": "2022-03-25T12:15:00.805958Z"
    },
    "papermill": {
     "duration": 0.622184,
     "end_time": "2022-03-25T12:15:00.806602",
     "exception": false,
     "start_time": "2022-03-25T12:15:00.184418",
     "status": "completed"
    },
    "tags": []
   },
   "outputs": [],
   "source": [
    "#hide\n",
    "COL_REGION = 'Country/Region'\n",
    "# Confirmed, Recovered, Deaths\n",
    "df = get_frame('confirmed')\n",
    "# dft_: timeseries, dfc_: today country agg\n",
    "dft_cases = df\n",
    "dft_deaths = get_frame('deaths')\n",
    "dft_recovered = get_frame('recovered')\n",
    "LAST_DATE_I, dt_cols = get_dates(df)"
   ]
  },
  {
   "cell_type": "code",
   "execution_count": 10,
   "id": "absolute-copper",
   "metadata": {
    "execution": {
     "iopub.execute_input": "2022-03-25T12:15:00.871901Z",
     "iopub.status.busy": "2022-03-25T12:15:00.871370Z",
     "iopub.status.idle": "2022-03-25T12:15:00.874970Z",
     "shell.execute_reply": "2022-03-25T12:15:00.875352Z"
    },
    "papermill": {
     "duration": 0.038725,
     "end_time": "2022-03-25T12:15:00.875478",
     "exception": false,
     "start_time": "2022-03-25T12:15:00.836753",
     "status": "completed"
    },
    "tags": []
   },
   "outputs": [],
   "source": [
    "#hide\n",
    "LAST_DATE_I, dt_cols = get_dates(df)\n",
    "dt_today =dt_cols[LAST_DATE_I]\n",
    "# dt_5day = dt_cols[LAST_DATE_I - 5]\n",
    "dt_yday = dt_cols[LAST_DATE_I - 1]"
   ]
  },
  {
   "cell_type": "code",
   "execution_count": 11,
   "id": "restricted-sheriff",
   "metadata": {
    "execution": {
     "iopub.execute_input": "2022-03-25T12:15:00.940768Z",
     "iopub.status.busy": "2022-03-25T12:15:00.940191Z",
     "iopub.status.idle": "2022-03-25T12:15:00.946151Z",
     "shell.execute_reply": "2022-03-25T12:15:00.946620Z"
    },
    "papermill": {
     "duration": 0.041737,
     "end_time": "2022-03-25T12:15:00.946738",
     "exception": false,
     "start_time": "2022-03-25T12:15:00.905001",
     "status": "completed"
    },
    "tags": []
   },
   "outputs": [],
   "source": [
    "#hide\n",
    "dfc_cases = dft_cases.groupby(COL_REGION)[dt_today].sum()\n",
    "dfc_deaths = dft_deaths.groupby(COL_REGION)[dt_today].sum()\n",
    "# dfp_cases = dft_cases.groupby(COL_REGION)[dt_5day].sum()\n",
    "# dfp_deaths = dft_deaths.groupby(COL_REGION)[dt_5day].sum()\n",
    "dfp_cases = dft_cases.groupby(COL_REGION)[dt_yday].sum()\n",
    "dfp_deaths = dft_deaths.groupby(COL_REGION)[dt_yday].sum()"
   ]
  },
  {
   "cell_type": "code",
   "execution_count": 12,
   "id": "deluxe-hepatitis",
   "metadata": {
    "execution": {
     "iopub.execute_input": "2022-03-25T12:15:01.011303Z",
     "iopub.status.busy": "2022-03-25T12:15:01.010804Z",
     "iopub.status.idle": "2022-03-25T12:15:01.015856Z",
     "shell.execute_reply": "2022-03-25T12:15:01.015460Z"
    },
    "papermill": {
     "duration": 0.039442,
     "end_time": "2022-03-25T12:15:01.015959",
     "exception": false,
     "start_time": "2022-03-25T12:15:00.976517",
     "status": "completed"
    },
    "tags": []
   },
   "outputs": [],
   "source": [
    "#hide\n",
    "df_table = (pd.DataFrame(dict(Cases = dfc_cases, Deaths = dfc_deaths, PCases = dfp_cases, PDeaths = dfp_deaths))\n",
    "            .sort_values(by = ['Cases','Deaths'], ascending = [False, False])\n",
    "            .reset_index())"
   ]
  },
  {
   "cell_type": "code",
   "execution_count": 13,
   "id": "educational-chancellor",
   "metadata": {
    "execution": {
     "iopub.execute_input": "2022-03-25T12:15:01.091716Z",
     "iopub.status.busy": "2022-03-25T12:15:01.087259Z",
     "iopub.status.idle": "2022-03-25T12:15:01.098951Z",
     "shell.execute_reply": "2022-03-25T12:15:01.098552Z"
    },
    "papermill": {
     "duration": 0.053474,
     "end_time": "2022-03-25T12:15:01.099055",
     "exception": false,
     "start_time": "2022-03-25T12:15:01.045581",
     "status": "completed"
    },
    "tags": []
   },
   "outputs": [
    {
     "data": {
      "text/html": [
       "<div>\n",
       "<style scoped>\n",
       "    .dataframe tbody tr th:only-of-type {\n",
       "        vertical-align: middle;\n",
       "    }\n",
       "\n",
       "    .dataframe tbody tr th {\n",
       "        vertical-align: top;\n",
       "    }\n",
       "\n",
       "    .dataframe thead th {\n",
       "        text-align: right;\n",
       "    }\n",
       "</style>\n",
       "<table border=\"1\" class=\"dataframe\">\n",
       "  <thead>\n",
       "    <tr style=\"text-align: right;\">\n",
       "      <th></th>\n",
       "      <th>Country/Region</th>\n",
       "      <th>Cases</th>\n",
       "      <th>Deaths</th>\n",
       "      <th>PCases</th>\n",
       "      <th>PDeaths</th>\n",
       "      <th>Cases (+)</th>\n",
       "      <th>Deaths (+)</th>\n",
       "      <th>Fatality Rate</th>\n",
       "      <th>Continent</th>\n",
       "    </tr>\n",
       "  </thead>\n",
       "  <tbody>\n",
       "    <tr>\n",
       "      <th>0</th>\n",
       "      <td>US</td>\n",
       "      <td>79888564</td>\n",
       "      <td>975863</td>\n",
       "      <td>79844430</td>\n",
       "      <td>974830</td>\n",
       "      <td>44134</td>\n",
       "      <td>1033</td>\n",
       "      <td>1.22</td>\n",
       "      <td>North America</td>\n",
       "    </tr>\n",
       "    <tr>\n",
       "      <th>1</th>\n",
       "      <td>India</td>\n",
       "      <td>43016372</td>\n",
       "      <td>516755</td>\n",
       "      <td>43014687</td>\n",
       "      <td>516672</td>\n",
       "      <td>1685</td>\n",
       "      <td>83</td>\n",
       "      <td>1.20</td>\n",
       "      <td>Asia</td>\n",
       "    </tr>\n",
       "    <tr>\n",
       "      <th>2</th>\n",
       "      <td>Brazil</td>\n",
       "      <td>29775568</td>\n",
       "      <td>658600</td>\n",
       "      <td>29738362</td>\n",
       "      <td>658286</td>\n",
       "      <td>37206</td>\n",
       "      <td>314</td>\n",
       "      <td>2.21</td>\n",
       "      <td>South America</td>\n",
       "    </tr>\n",
       "    <tr>\n",
       "      <th>3</th>\n",
       "      <td>France</td>\n",
       "      <td>24823603</td>\n",
       "      <td>142476</td>\n",
       "      <td>24683075</td>\n",
       "      <td>142362</td>\n",
       "      <td>140528</td>\n",
       "      <td>114</td>\n",
       "      <td>0.57</td>\n",
       "      <td>Europe</td>\n",
       "    </tr>\n",
       "    <tr>\n",
       "      <th>4</th>\n",
       "      <td>United Kingdom</td>\n",
       "      <td>20770686</td>\n",
       "      <td>164874</td>\n",
       "      <td>20669099</td>\n",
       "      <td>164712</td>\n",
       "      <td>101587</td>\n",
       "      <td>162</td>\n",
       "      <td>0.79</td>\n",
       "      <td>Europe</td>\n",
       "    </tr>\n",
       "  </tbody>\n",
       "</table>\n",
       "</div>"
      ],
      "text/plain": [
       "   Country/Region     Cases  Deaths    PCases  PDeaths  Cases (+)  Deaths (+)  \\\n",
       "0              US  79888564  975863  79844430   974830      44134        1033   \n",
       "1           India  43016372  516755  43014687   516672       1685          83   \n",
       "2          Brazil  29775568  658600  29738362   658286      37206         314   \n",
       "3          France  24823603  142476  24683075   142362     140528         114   \n",
       "4  United Kingdom  20770686  164874  20669099   164712     101587         162   \n",
       "\n",
       "   Fatality Rate      Continent  \n",
       "0           1.22  North America  \n",
       "1           1.20           Asia  \n",
       "2           2.21  South America  \n",
       "3           0.57         Europe  \n",
       "4           0.79         Europe  "
      ]
     },
     "execution_count": 13,
     "metadata": {},
     "output_type": "execute_result"
    }
   ],
   "source": [
    "#hide\n",
    "for c in 'Cases, Deaths'.split(', '):\n",
    "    df_table[f'{c} (+)'] = (df_table[c] - df_table[f'P{c}']).clip(0)\n",
    "    #Clip ça veut dire, les chiffres negatif sont interdit\n",
    "df_table['Fatality Rate'] = (100* df_table['Deaths']/ df_table['Cases']).round(2)\n",
    "df_table['Continent'] = df_table['Country/Region'].map(mapping['map.continent'])\n",
    "df_table.head(5)"
   ]
  },
  {
   "cell_type": "code",
   "execution_count": 14,
   "id": "aboriginal-bulgaria",
   "metadata": {
    "execution": {
     "iopub.execute_input": "2022-03-25T12:15:01.164279Z",
     "iopub.status.busy": "2022-03-25T12:15:01.163781Z",
     "iopub.status.idle": "2022-03-25T12:15:01.166168Z",
     "shell.execute_reply": "2022-03-25T12:15:01.165748Z"
    },
    "papermill": {
     "duration": 0.036979,
     "end_time": "2022-03-25T12:15:01.166289",
     "exception": false,
     "start_time": "2022-03-25T12:15:01.129310",
     "status": "completed"
    },
    "tags": []
   },
   "outputs": [],
   "source": [
    "#hide\n",
    "#delete problematic countries from table\n",
    "df_table = df_table[~df_table['Country/Region'].isin(['Cape Verde', 'Cruise Ship', 'Kosovo'])]"
   ]
  },
  {
   "cell_type": "code",
   "execution_count": 15,
   "id": "fantastic-effect",
   "metadata": {
    "execution": {
     "iopub.execute_input": "2022-03-25T12:15:01.233099Z",
     "iopub.status.busy": "2022-03-25T12:15:01.232600Z",
     "iopub.status.idle": "2022-03-25T12:15:01.249874Z",
     "shell.execute_reply": "2022-03-25T12:15:01.250329Z"
    },
    "papermill": {
     "duration": 0.054197,
     "end_time": "2022-03-25T12:15:01.250462",
     "exception": false,
     "start_time": "2022-03-25T12:15:01.196265",
     "status": "completed"
    },
    "tags": []
   },
   "outputs": [
    {
     "data": {
      "text/html": [
       "<div>\n",
       "<style scoped>\n",
       "    .dataframe tbody tr th:only-of-type {\n",
       "        vertical-align: middle;\n",
       "    }\n",
       "\n",
       "    .dataframe tbody tr th {\n",
       "        vertical-align: top;\n",
       "    }\n",
       "\n",
       "    .dataframe thead th {\n",
       "        text-align: right;\n",
       "    }\n",
       "</style>\n",
       "<table border=\"1\" class=\"dataframe\">\n",
       "  <thead>\n",
       "    <tr style=\"text-align: right;\">\n",
       "      <th></th>\n",
       "      <th>Country/Region</th>\n",
       "      <th>Cases</th>\n",
       "      <th>Deaths</th>\n",
       "      <th>PCases</th>\n",
       "      <th>PDeaths</th>\n",
       "      <th>Cases (+)</th>\n",
       "      <th>Deaths (+)</th>\n",
       "      <th>Fatality Rate</th>\n",
       "      <th>Continent</th>\n",
       "    </tr>\n",
       "  </thead>\n",
       "  <tbody>\n",
       "    <tr>\n",
       "      <th>0</th>\n",
       "      <td>US</td>\n",
       "      <td>79888564</td>\n",
       "      <td>975863</td>\n",
       "      <td>79844430</td>\n",
       "      <td>974830</td>\n",
       "      <td>44134</td>\n",
       "      <td>1033</td>\n",
       "      <td>1.2</td>\n",
       "      <td>North America</td>\n",
       "    </tr>\n",
       "    <tr>\n",
       "      <th>1</th>\n",
       "      <td>India</td>\n",
       "      <td>43016372</td>\n",
       "      <td>516755</td>\n",
       "      <td>43014687</td>\n",
       "      <td>516672</td>\n",
       "      <td>1685</td>\n",
       "      <td>83</td>\n",
       "      <td>1.2</td>\n",
       "      <td>Asia</td>\n",
       "    </tr>\n",
       "    <tr>\n",
       "      <th>2</th>\n",
       "      <td>Brazil</td>\n",
       "      <td>29775568</td>\n",
       "      <td>658600</td>\n",
       "      <td>29738362</td>\n",
       "      <td>658286</td>\n",
       "      <td>37206</td>\n",
       "      <td>314</td>\n",
       "      <td>2.2</td>\n",
       "      <td>South America</td>\n",
       "    </tr>\n",
       "    <tr>\n",
       "      <th>3</th>\n",
       "      <td>France</td>\n",
       "      <td>24823603</td>\n",
       "      <td>142476</td>\n",
       "      <td>24683075</td>\n",
       "      <td>142362</td>\n",
       "      <td>140528</td>\n",
       "      <td>114</td>\n",
       "      <td>0.6</td>\n",
       "      <td>Europe</td>\n",
       "    </tr>\n",
       "    <tr>\n",
       "      <th>4</th>\n",
       "      <td>United Kingdom</td>\n",
       "      <td>20770686</td>\n",
       "      <td>164874</td>\n",
       "      <td>20669099</td>\n",
       "      <td>164712</td>\n",
       "      <td>101587</td>\n",
       "      <td>162</td>\n",
       "      <td>0.8</td>\n",
       "      <td>Europe</td>\n",
       "    </tr>\n",
       "  </tbody>\n",
       "</table>\n",
       "</div>"
      ],
      "text/plain": [
       "   Country/Region     Cases  Deaths    PCases  PDeaths  Cases (+)  Deaths (+)  \\\n",
       "0              US  79888564  975863  79844430   974830      44134        1033   \n",
       "1           India  43016372  516755  43014687   516672       1685          83   \n",
       "2          Brazil  29775568  658600  29738362   658286      37206         314   \n",
       "3          France  24823603  142476  24683075   142362     140528         114   \n",
       "4  United Kingdom  20770686  164874  20669099   164712     101587         162   \n",
       "\n",
       "   Fatality Rate      Continent  \n",
       "0            1.2  North America  \n",
       "1            1.2           Asia  \n",
       "2            2.2  South America  \n",
       "3            0.6         Europe  \n",
       "4            0.8         Europe  "
      ]
     },
     "execution_count": 15,
     "metadata": {},
     "output_type": "execute_result"
    }
   ],
   "source": [
    "#hide\n",
    "df_table = (pd.DataFrame(dict(Cases=dfc_cases, Deaths=dfc_deaths, PCases=dfp_cases, PDeaths=dfp_deaths))\n",
    "             .sort_values(by=['Cases', 'Deaths'], ascending=[False, False])\n",
    "             .reset_index())\n",
    "df_table.rename(columns={'index': 'Country/Region'}, inplace=True)\n",
    "for c in 'Cases, Deaths'.split(', '):\n",
    "    df_table[f'{c} (+)'] = (df_table[c] - df_table[f'P{c}']).clip(0)  # DATA BUG\n",
    "df_table['Fatality Rate'] = (100 * df_table['Deaths'] / df_table['Cases']).round(1)\n",
    "df_table['Continent'] = df_table['Country/Region'].map(mapping['map.continent'])\n",
    "df_table.head(5)"
   ]
  },
  {
   "cell_type": "code",
   "execution_count": 16,
   "id": "fewer-occasion",
   "metadata": {
    "execution": {
     "iopub.execute_input": "2022-03-25T12:15:01.316654Z",
     "iopub.status.busy": "2022-03-25T12:15:01.316150Z",
     "iopub.status.idle": "2022-03-25T12:15:01.319729Z",
     "shell.execute_reply": "2022-03-25T12:15:01.320157Z"
    },
    "papermill": {
     "duration": 0.038419,
     "end_time": "2022-03-25T12:15:01.320268",
     "exception": false,
     "start_time": "2022-03-25T12:15:01.281849",
     "status": "completed"
    },
    "tags": []
   },
   "outputs": [],
   "source": [
    "#hide\n",
    "#delete problematic countries from table\n",
    "df_table = df_table[~df_table['Country/Region'].isin(['Cape Verde', 'Cruise Ship', 'Kosovo'])]"
   ]
  },
  {
   "cell_type": "code",
   "execution_count": 17,
   "id": "related-center",
   "metadata": {
    "execution": {
     "iopub.execute_input": "2022-03-25T12:15:01.398038Z",
     "iopub.status.busy": "2022-03-25T12:15:01.397539Z",
     "iopub.status.idle": "2022-03-25T12:15:01.399870Z",
     "shell.execute_reply": "2022-03-25T12:15:01.399450Z"
    },
    "papermill": {
     "duration": 0.049244,
     "end_time": "2022-03-25T12:15:01.399969",
     "exception": false,
     "start_time": "2022-03-25T12:15:01.350725",
     "status": "completed"
    },
    "tags": []
   },
   "outputs": [],
   "source": [
    "#hide\n",
    "metrics = [df_table.columns[index] for index in [1,2,5,6]]\n",
    "# s_china = df_table[df_table['Country/Region'].eq('China')][metrics].sum().add_prefix('China ')\n",
    "s_us = df_table[df_table['Country/Region'].eq('US')][metrics].sum().add_prefix('US ')\n",
    "s_eu = df_table[df_table['Continent'].eq('Europe')][metrics].sum().add_prefix('EU ')\n",
    "s_ind = df_table[df_table['Country/Region'].eq('India')][metrics].sum().add_prefix('India ')\n",
    "summary = {'updated': pd.to_datetime(dt_today), 'since': pd.to_datetime(dt_yday)}\n",
    "summary = {'updated': pd.to_datetime(dt_today), 'since': pd.to_datetime(dt_yday)}\n",
    "summary = {**summary, **df_table[metrics].sum(), **s_ind, **s_us, **s_eu}"
   ]
  },
  {
   "cell_type": "code",
   "execution_count": 18,
   "id": "engaging-syndrome",
   "metadata": {
    "execution": {
     "iopub.execute_input": "2022-03-25T12:15:01.465547Z",
     "iopub.status.busy": "2022-03-25T12:15:01.465056Z",
     "iopub.status.idle": "2022-03-25T12:15:01.482157Z",
     "shell.execute_reply": "2022-03-25T12:15:01.482631Z"
    },
    "papermill": {
     "duration": 0.052116,
     "end_time": "2022-03-25T12:15:01.482754",
     "exception": false,
     "start_time": "2022-03-25T12:15:01.430638",
     "status": "completed"
    },
    "tags": []
   },
   "outputs": [],
   "source": [
    "#hide\n",
    "dft_ct_new_cases = dft_cases.groupby(COL_REGION)[dt_cols].sum().diff(axis=1).fillna(0).astype(int)"
   ]
  },
  {
   "cell_type": "code",
   "execution_count": 19,
   "id": "neutral-assignment",
   "metadata": {
    "execution": {
     "iopub.execute_input": "2022-03-25T12:15:01.550458Z",
     "iopub.status.busy": "2022-03-25T12:15:01.549904Z",
     "iopub.status.idle": "2022-03-25T12:15:01.552055Z",
     "shell.execute_reply": "2022-03-25T12:15:01.551559Z"
    },
    "papermill": {
     "duration": 0.037721,
     "end_time": "2022-03-25T12:15:01.552156",
     "exception": false,
     "start_time": "2022-03-25T12:15:01.514435",
     "status": "completed"
    },
    "tags": []
   },
   "outputs": [],
   "source": [
    "#hide\n",
    "everydaycases = dft_ct_new_cases.cumsum(axis=1)"
   ]
  },
  {
   "cell_type": "code",
   "execution_count": 20,
   "id": "parliamentary-calgary",
   "metadata": {
    "execution": {
     "iopub.execute_input": "2022-03-25T12:15:01.617624Z",
     "iopub.status.busy": "2022-03-25T12:15:01.617118Z",
     "iopub.status.idle": "2022-03-25T12:15:02.211457Z",
     "shell.execute_reply": "2022-03-25T12:15:02.210939Z"
    },
    "papermill": {
     "duration": 0.628402,
     "end_time": "2022-03-25T12:15:02.211599",
     "exception": false,
     "start_time": "2022-03-25T12:15:01.583197",
     "status": "completed"
    },
    "tags": []
   },
   "outputs": [],
   "source": [
    "#hide\n",
    "import pandas as pd\n",
    "import matplotlib.pyplot as plt\n",
    "import matplotlib.ticker as ticker\n",
    "import matplotlib.animation as animation\n",
    "from IPython.display import HTML"
   ]
  },
  {
   "cell_type": "code",
   "execution_count": 21,
   "id": "lasting-extraction",
   "metadata": {
    "execution": {
     "iopub.execute_input": "2022-03-25T12:15:02.280228Z",
     "iopub.status.busy": "2022-03-25T12:15:02.279720Z",
     "iopub.status.idle": "2022-03-25T12:15:02.286372Z",
     "shell.execute_reply": "2022-03-25T12:15:02.285942Z"
    },
    "papermill": {
     "duration": 0.043094,
     "end_time": "2022-03-25T12:15:02.286489",
     "exception": false,
     "start_time": "2022-03-25T12:15:02.243395",
     "status": "completed"
    },
    "tags": []
   },
   "outputs": [],
   "source": [
    "#hide\n",
    "t = everydaycases.stack()"
   ]
  },
  {
   "cell_type": "code",
   "execution_count": 22,
   "id": "premier-sleeve",
   "metadata": {
    "execution": {
     "iopub.execute_input": "2022-03-25T12:15:02.352149Z",
     "iopub.status.busy": "2022-03-25T12:15:02.351645Z",
     "iopub.status.idle": "2022-03-25T12:15:02.361479Z",
     "shell.execute_reply": "2022-03-25T12:15:02.361854Z"
    },
    "papermill": {
     "duration": 0.044688,
     "end_time": "2022-03-25T12:15:02.361979",
     "exception": false,
     "start_time": "2022-03-25T12:15:02.317291",
     "status": "completed"
    },
    "tags": []
   },
   "outputs": [],
   "source": [
    "#hide\n",
    "g = t.reset_index(['Country/Region'])"
   ]
  },
  {
   "cell_type": "code",
   "execution_count": 23,
   "id": "distributed-pittsburgh",
   "metadata": {
    "execution": {
     "iopub.execute_input": "2022-03-25T12:15:02.426633Z",
     "iopub.status.busy": "2022-03-25T12:15:02.426011Z",
     "iopub.status.idle": "2022-03-25T12:15:02.428176Z",
     "shell.execute_reply": "2022-03-25T12:15:02.427628Z"
    },
    "papermill": {
     "duration": 0.035792,
     "end_time": "2022-03-25T12:15:02.428291",
     "exception": false,
     "start_time": "2022-03-25T12:15:02.392499",
     "status": "completed"
    },
    "tags": []
   },
   "outputs": [],
   "source": [
    "#hide\n",
    "g.index.name = 'date'"
   ]
  },
  {
   "cell_type": "code",
   "execution_count": 24,
   "id": "naked-donor",
   "metadata": {
    "execution": {
     "iopub.execute_input": "2022-03-25T12:15:02.493427Z",
     "iopub.status.busy": "2022-03-25T12:15:02.492932Z",
     "iopub.status.idle": "2022-03-25T12:15:02.495194Z",
     "shell.execute_reply": "2022-03-25T12:15:02.494799Z"
    },
    "papermill": {
     "duration": 0.035679,
     "end_time": "2022-03-25T12:15:02.495296",
     "exception": false,
     "start_time": "2022-03-25T12:15:02.459617",
     "status": "completed"
    },
    "tags": []
   },
   "outputs": [],
   "source": [
    "# #hide\n",
    "# g = g.reset_index(['date'])"
   ]
  },
  {
   "cell_type": "code",
   "execution_count": 25,
   "id": "incomplete-mustang",
   "metadata": {
    "execution": {
     "iopub.execute_input": "2022-03-25T12:15:02.559540Z",
     "iopub.status.busy": "2022-03-25T12:15:02.558968Z",
     "iopub.status.idle": "2022-03-25T12:15:02.561153Z",
     "shell.execute_reply": "2022-03-25T12:15:02.560590Z"
    },
    "papermill": {
     "duration": 0.035533,
     "end_time": "2022-03-25T12:15:02.561264",
     "exception": false,
     "start_time": "2022-03-25T12:15:02.525731",
     "status": "completed"
    },
    "tags": []
   },
   "outputs": [],
   "source": [
    "#hide\n",
    "# g.head()"
   ]
  },
  {
   "cell_type": "code",
   "execution_count": 26,
   "id": "specific-kruger",
   "metadata": {
    "execution": {
     "iopub.execute_input": "2022-03-25T12:15:02.626378Z",
     "iopub.status.busy": "2022-03-25T12:15:02.625768Z",
     "iopub.status.idle": "2022-03-25T12:15:02.627460Z",
     "shell.execute_reply": "2022-03-25T12:15:02.627919Z"
    },
    "papermill": {
     "duration": 0.035412,
     "end_time": "2022-03-25T12:15:02.628041",
     "exception": false,
     "start_time": "2022-03-25T12:15:02.592629",
     "status": "completed"
    },
    "tags": []
   },
   "outputs": [],
   "source": [
    "#hide\n",
    "# g.columns = ['date','country','cases']"
   ]
  },
  {
   "cell_type": "code",
   "execution_count": 27,
   "id": "tender-conversion",
   "metadata": {
    "execution": {
     "iopub.execute_input": "2022-03-25T12:15:02.693048Z",
     "iopub.status.busy": "2022-03-25T12:15:02.692472Z",
     "iopub.status.idle": "2022-03-25T12:15:02.696449Z",
     "shell.execute_reply": "2022-03-25T12:15:02.696030Z"
    },
    "papermill": {
     "duration": 0.037144,
     "end_time": "2022-03-25T12:15:02.696548",
     "exception": false,
     "start_time": "2022-03-25T12:15:02.659404",
     "status": "completed"
    },
    "tags": []
   },
   "outputs": [],
   "source": [
    "#hide\n",
    "# g['continent'] = g.country"
   ]
  },
  {
   "cell_type": "code",
   "execution_count": 28,
   "id": "substantial-wilderness",
   "metadata": {
    "execution": {
     "iopub.execute_input": "2022-03-25T12:15:02.761658Z",
     "iopub.status.busy": "2022-03-25T12:15:02.761092Z",
     "iopub.status.idle": "2022-03-25T12:15:02.763214Z",
     "shell.execute_reply": "2022-03-25T12:15:02.762738Z"
    },
    "papermill": {
     "duration": 0.035646,
     "end_time": "2022-03-25T12:15:02.763324",
     "exception": false,
     "start_time": "2022-03-25T12:15:02.727678",
     "status": "completed"
    },
    "tags": []
   },
   "outputs": [],
   "source": [
    "#hide\n",
    "# cols = list(g.columns.values)"
   ]
  },
  {
   "cell_type": "code",
   "execution_count": 29,
   "id": "solved-farming",
   "metadata": {
    "execution": {
     "iopub.execute_input": "2022-03-25T12:15:02.827742Z",
     "iopub.status.busy": "2022-03-25T12:15:02.827244Z",
     "iopub.status.idle": "2022-03-25T12:15:02.828828Z",
     "shell.execute_reply": "2022-03-25T12:15:02.829205Z"
    },
    "papermill": {
     "duration": 0.035123,
     "end_time": "2022-03-25T12:15:02.829318",
     "exception": false,
     "start_time": "2022-03-25T12:15:02.794195",
     "status": "completed"
    },
    "tags": []
   },
   "outputs": [],
   "source": [
    "#hide\n",
    "# cols.insert(0, cols.pop())"
   ]
  },
  {
   "cell_type": "code",
   "execution_count": 30,
   "id": "executed-adoption",
   "metadata": {
    "execution": {
     "iopub.execute_input": "2022-03-25T12:15:02.894075Z",
     "iopub.status.busy": "2022-03-25T12:15:02.893498Z",
     "iopub.status.idle": "2022-03-25T12:15:02.897507Z",
     "shell.execute_reply": "2022-03-25T12:15:02.897054Z"
    },
    "papermill": {
     "duration": 0.037623,
     "end_time": "2022-03-25T12:15:02.897621",
     "exception": false,
     "start_time": "2022-03-25T12:15:02.859998",
     "status": "completed"
    },
    "tags": []
   },
   "outputs": [],
   "source": [
    "#hide\n",
    "# g = g[cols]"
   ]
  },
  {
   "cell_type": "code",
   "execution_count": 31,
   "id": "subject-dublin",
   "metadata": {
    "execution": {
     "iopub.execute_input": "2022-03-25T12:15:02.961844Z",
     "iopub.status.busy": "2022-03-25T12:15:02.961264Z",
     "iopub.status.idle": "2022-03-25T12:15:02.963072Z",
     "shell.execute_reply": "2022-03-25T12:15:02.963528Z"
    },
    "papermill": {
     "duration": 0.03531,
     "end_time": "2022-03-25T12:15:02.963649",
     "exception": false,
     "start_time": "2022-03-25T12:15:02.928339",
     "status": "completed"
    },
    "tags": []
   },
   "outputs": [],
   "source": [
    "#hide\n",
    "# g['continent'] = g['continent'].map(mapping['map.continent'])"
   ]
  },
  {
   "cell_type": "code",
   "execution_count": 32,
   "id": "freelance-scout",
   "metadata": {
    "execution": {
     "iopub.execute_input": "2022-03-25T12:15:03.029196Z",
     "iopub.status.busy": "2022-03-25T12:15:03.028628Z",
     "iopub.status.idle": "2022-03-25T12:15:03.030773Z",
     "shell.execute_reply": "2022-03-25T12:15:03.030182Z"
    },
    "papermill": {
     "duration": 0.035668,
     "end_time": "2022-03-25T12:15:03.030883",
     "exception": false,
     "start_time": "2022-03-25T12:15:02.995215",
     "status": "completed"
    },
    "tags": []
   },
   "outputs": [],
   "source": [
    "#hide\n",
    "# g.head()"
   ]
  },
  {
   "cell_type": "code",
   "execution_count": 33,
   "id": "limited-engine",
   "metadata": {
    "execution": {
     "iopub.execute_input": "2022-03-25T12:15:03.094949Z",
     "iopub.status.busy": "2022-03-25T12:15:03.094361Z",
     "iopub.status.idle": "2022-03-25T12:15:03.097083Z",
     "shell.execute_reply": "2022-03-25T12:15:03.096630Z"
    },
    "papermill": {
     "duration": 0.035886,
     "end_time": "2022-03-25T12:15:03.097196",
     "exception": false,
     "start_time": "2022-03-25T12:15:03.061310",
     "status": "completed"
    },
    "tags": []
   },
   "outputs": [],
   "source": [
    "# hide\n",
    "# g['date'] = g['date'].astype('datetime64[ns]')"
   ]
  },
  {
   "cell_type": "code",
   "execution_count": 34,
   "id": "sophisticated-supervisor",
   "metadata": {
    "execution": {
     "iopub.execute_input": "2022-03-25T12:15:03.162692Z",
     "iopub.status.busy": "2022-03-25T12:15:03.162066Z",
     "iopub.status.idle": "2022-03-25T12:15:03.164904Z",
     "shell.execute_reply": "2022-03-25T12:15:03.164484Z"
    },
    "papermill": {
     "duration": 0.03615,
     "end_time": "2022-03-25T12:15:03.165001",
     "exception": false,
     "start_time": "2022-03-25T12:15:03.128851",
     "status": "completed"
    },
    "tags": []
   },
   "outputs": [],
   "source": [
    "#hide\n",
    "# g['date'] = g.date.dt.dayofyear"
   ]
  },
  {
   "cell_type": "code",
   "execution_count": 35,
   "id": "inside-dubai",
   "metadata": {
    "execution": {
     "iopub.execute_input": "2022-03-25T12:15:03.229713Z",
     "iopub.status.busy": "2022-03-25T12:15:03.229121Z",
     "iopub.status.idle": "2022-03-25T12:15:03.231284Z",
     "shell.execute_reply": "2022-03-25T12:15:03.230779Z"
    },
    "papermill": {
     "duration": 0.035287,
     "end_time": "2022-03-25T12:15:03.231396",
     "exception": false,
     "start_time": "2022-03-25T12:15:03.196109",
     "status": "completed"
    },
    "tags": []
   },
   "outputs": [],
   "source": [
    "#hide\n",
    "# g = g.rename(columns= {'continent':'group','country':'name','cases':'value'})"
   ]
  },
  {
   "cell_type": "code",
   "execution_count": 36,
   "id": "fleet-motorcycle",
   "metadata": {
    "execution": {
     "iopub.execute_input": "2022-03-25T12:15:03.295827Z",
     "iopub.status.busy": "2022-03-25T12:15:03.295326Z",
     "iopub.status.idle": "2022-03-25T12:15:03.297389Z",
     "shell.execute_reply": "2022-03-25T12:15:03.296983Z"
    },
    "papermill": {
     "duration": 0.035176,
     "end_time": "2022-03-25T12:15:03.297491",
     "exception": false,
     "start_time": "2022-03-25T12:15:03.262315",
     "status": "completed"
    },
    "tags": []
   },
   "outputs": [],
   "source": [
    "#hide\n",
    "# cols = ['name','group','day','value']"
   ]
  },
  {
   "cell_type": "code",
   "execution_count": 37,
   "id": "continued-sleeping",
   "metadata": {
    "execution": {
     "iopub.execute_input": "2022-03-25T12:15:03.361737Z",
     "iopub.status.busy": "2022-03-25T12:15:03.361165Z",
     "iopub.status.idle": "2022-03-25T12:15:03.365028Z",
     "shell.execute_reply": "2022-03-25T12:15:03.365460Z"
    },
    "papermill": {
     "duration": 0.037423,
     "end_time": "2022-03-25T12:15:03.365587",
     "exception": false,
     "start_time": "2022-03-25T12:15:03.328164",
     "status": "completed"
    },
    "tags": []
   },
   "outputs": [],
   "source": [
    "#hide\n",
    "# g.rename(columns= {'date':'day'},inplace = True)"
   ]
  },
  {
   "cell_type": "code",
   "execution_count": 38,
   "id": "major-fight",
   "metadata": {
    "execution": {
     "iopub.execute_input": "2022-03-25T12:15:03.429949Z",
     "iopub.status.busy": "2022-03-25T12:15:03.429368Z",
     "iopub.status.idle": "2022-03-25T12:15:03.431490Z",
     "shell.execute_reply": "2022-03-25T12:15:03.431037Z"
    },
    "papermill": {
     "duration": 0.035351,
     "end_time": "2022-03-25T12:15:03.431603",
     "exception": false,
     "start_time": "2022-03-25T12:15:03.396252",
     "status": "completed"
    },
    "tags": []
   },
   "outputs": [],
   "source": [
    "#hide\n",
    "# g = g[cols]"
   ]
  },
  {
   "cell_type": "code",
   "execution_count": 39,
   "id": "structured-mobile",
   "metadata": {
    "execution": {
     "iopub.execute_input": "2022-03-25T12:15:03.496496Z",
     "iopub.status.busy": "2022-03-25T12:15:03.495929Z",
     "iopub.status.idle": "2022-03-25T12:15:03.497512Z",
     "shell.execute_reply": "2022-03-25T12:15:03.497912Z"
    },
    "papermill": {
     "duration": 0.035035,
     "end_time": "2022-03-25T12:15:03.498020",
     "exception": false,
     "start_time": "2022-03-25T12:15:03.462985",
     "status": "completed"
    },
    "tags": []
   },
   "outputs": [],
   "source": [
    "# #hide\n",
    "# g = g[g.group.notna()]"
   ]
  },
  {
   "cell_type": "code",
   "execution_count": 40,
   "id": "determined-closing",
   "metadata": {
    "execution": {
     "iopub.execute_input": "2022-03-25T12:15:03.562193Z",
     "iopub.status.busy": "2022-03-25T12:15:03.561608Z",
     "iopub.status.idle": "2022-03-25T12:15:03.563294Z",
     "shell.execute_reply": "2022-03-25T12:15:03.563752Z"
    },
    "papermill": {
     "duration": 0.035307,
     "end_time": "2022-03-25T12:15:03.563875",
     "exception": false,
     "start_time": "2022-03-25T12:15:03.528568",
     "status": "completed"
    },
    "tags": []
   },
   "outputs": [],
   "source": [
    "# #hide\n",
    "# colors = dict(zip(\n",
    "#     [\"Oceania\", \"Europe\", \"Asia\", \"South America\", \"Middle East\", \"North America\", \"Africa\"],\n",
    "#     [\"#adb0ff\", \"#ffb3ff\", \"#90d595\", \"#e48381\", \"#aafbff\", \"#f7bb5f\", \"#eafb50\"]\n",
    "# ))\n",
    "# group_lk = g.set_index('name')['group'].to_dict()"
   ]
  },
  {
   "cell_type": "code",
   "execution_count": null,
   "id": "gross-drinking",
   "metadata": {
    "papermill": {
     "duration": 0.030544,
     "end_time": "2022-03-25T12:15:03.625747",
     "exception": false,
     "start_time": "2022-03-25T12:15:03.595203",
     "status": "completed"
    },
    "tags": []
   },
   "outputs": [],
   "source": []
  },
  {
   "cell_type": "code",
   "execution_count": 41,
   "id": "subject-macintosh",
   "metadata": {
    "execution": {
     "iopub.execute_input": "2022-03-25T12:15:03.690619Z",
     "iopub.status.busy": "2022-03-25T12:15:03.690040Z",
     "iopub.status.idle": "2022-03-25T12:15:03.691608Z",
     "shell.execute_reply": "2022-03-25T12:15:03.692225Z"
    },
    "papermill": {
     "duration": 0.036109,
     "end_time": "2022-03-25T12:15:03.692339",
     "exception": false,
     "start_time": "2022-03-25T12:15:03.656230",
     "status": "completed"
    },
    "tags": []
   },
   "outputs": [],
   "source": [
    "# #hide\n",
    "# fig, ax = plt.subplots(figsize=(15, 8))\n",
    "\n",
    "# def draw_barchart(current_day):\n",
    "#     dff = g[g['day'].eq(current_day)].sort_values(by='value', ascending=True).tail(10)\n",
    "#     ax.clear()\n",
    "#     ax.barh(dff['name'], dff['value'], color=[colors[group_lk[x]] for x in dff['name']])\n",
    "#     dx = dff['value'].max() / 200\n",
    "    \n",
    "#     for i, (value, name) in enumerate(zip(dff['value'], dff['name'])):\n",
    "#         ax.text(value-dx, i,     name,           size=14, weight=600, ha='right', va='bottom')\n",
    "#         ax.text(value-dx, i-.25, group_lk[name], size=10, color='#444444', ha='right', va='baseline')\n",
    "#         ax.text(value+dx, i,     f'{value:,.0f}',  size=14, ha='left',  va='center')\n",
    "#     ax.text(1, 0.4, current_day, transform=ax.transAxes, color='#777777', size=46, ha='right', weight=800)\n",
    "#     ax.text(0, 1.06, 'Population (thousands)', transform=ax.transAxes, size=12, color='#777777')\n",
    "#     ax.xaxis.set_major_formatter(ticker.StrMethodFormatter('{x:,.0f}'))\n",
    "#     ax.xaxis.set_ticks_position('top')\n",
    "#     ax.tick_params(axis='x', colors='#777777', labelsize=12)\n",
    "#     ax.set_yticks([])\n",
    "#     ax.margins(0, 0.01)\n",
    "#     ax.grid(which='major', axis='x', linestyle='-')\n",
    "#     ax.set_axisbelow(True)\n",
    "    \n",
    "#     ax.text(0, 1.15, 'Coronavirus',\n",
    "#             transform=ax.transAxes, size=24, weight=600, ha='left', va='top')\n",
    "# #     ax.text(1, 0, 'by @pratapvardhan; credit @jburnmurdoch', transform=ax.transAxes, color='#777777', ha='right',\n",
    "# #             bbox=dict(facecolor='white', alpha=0.8, edgecolor='white'))\n",
    "#     plt.box(False)"
   ]
  },
  {
   "cell_type": "code",
   "execution_count": 42,
   "id": "sexual-wages",
   "metadata": {
    "execution": {
     "iopub.execute_input": "2022-03-25T12:15:03.756282Z",
     "iopub.status.busy": "2022-03-25T12:15:03.755704Z",
     "iopub.status.idle": "2022-03-25T12:15:03.757386Z",
     "shell.execute_reply": "2022-03-25T12:15:03.757816Z"
    },
    "papermill": {
     "duration": 0.035216,
     "end_time": "2022-03-25T12:15:03.757941",
     "exception": false,
     "start_time": "2022-03-25T12:15:03.722725",
     "status": "completed"
    },
    "tags": []
   },
   "outputs": [],
   "source": [
    "# #hide_input\n",
    "# fig, ax = plt.subplots(figsize=(15, 8))\n",
    "# animator = animation.FuncAnimation(fig, draw_barchart, frames=range(g.day.values.min(), g.day.values.max()))\n",
    "# HTML(animator.to_jshtml())\n",
    "# # or use animator.to_html5_video() or animator.save() "
   ]
  },
  {
   "cell_type": "code",
   "execution_count": null,
   "id": "australian-container",
   "metadata": {
    "papermill": {
     "duration": 0.030513,
     "end_time": "2022-03-25T12:15:03.819584",
     "exception": false,
     "start_time": "2022-03-25T12:15:03.789071",
     "status": "completed"
    },
    "tags": []
   },
   "outputs": [],
   "source": []
  },
  {
   "cell_type": "code",
   "execution_count": null,
   "id": "mediterranean-pontiac",
   "metadata": {
    "papermill": {
     "duration": 0.030355,
     "end_time": "2022-03-25T12:15:03.880240",
     "exception": false,
     "start_time": "2022-03-25T12:15:03.849885",
     "status": "completed"
    },
    "tags": []
   },
   "outputs": [],
   "source": []
  },
  {
   "cell_type": "code",
   "execution_count": null,
   "id": "aging-legislature",
   "metadata": {
    "papermill": {
     "duration": 0.030446,
     "end_time": "2022-03-25T12:15:03.941246",
     "exception": false,
     "start_time": "2022-03-25T12:15:03.910800",
     "status": "completed"
    },
    "tags": []
   },
   "outputs": [],
   "source": []
  }
 ],
 "metadata": {
  "kernelspec": {
   "display_name": "Python 3",
   "language": "python",
   "name": "python3"
  },
  "language_info": {
   "codemirror_mode": {
    "name": "ipython",
    "version": 3
   },
   "file_extension": ".py",
   "mimetype": "text/x-python",
   "name": "python",
   "nbconvert_exporter": "python",
   "pygments_lexer": "ipython3",
   "version": "3.6.15"
  },
  "papermill": {
   "duration": 5.99265,
   "end_time": "2022-03-25T12:15:04.290125",
   "environment_variables": {},
   "exception": null,
   "input_path": "2020-03-21-covid19exp.ipynb",
   "output_path": "2020-03-21-covid19exp.ipynb",
   "parameters": {},
   "start_time": "2022-03-25T12:14:58.297475",
   "version": "2.0.0"
  }
 },
 "nbformat": 4,
 "nbformat_minor": 5
}