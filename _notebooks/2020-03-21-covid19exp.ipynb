{
 "cells": [
  {
   "cell_type": "markdown",
   "id": "muslim-click",
   "metadata": {
    "papermill": {
     "duration": 0.030153,
     "end_time": "2021-01-27T00:12:42.382503",
     "exception": false,
     "start_time": "2021-01-27T00:12:42.352350",
     "status": "completed"
    },
    "tags": []
   },
   "source": [
    "# COVID-19 Case Race\n",
    "> A race chart to see rising cases around the world\n",
    "\n",
    "- author: Hargun Oberoi\n",
    "- image: images/covid-overview.png\n",
    "- hide: false\n",
    "- badges: false"
   ]
  },
  {
   "cell_type": "code",
   "execution_count": 1,
   "id": "proof-material",
   "metadata": {
    "execution": {
     "iopub.execute_input": "2021-01-27T00:12:42.444184Z",
     "iopub.status.busy": "2021-01-27T00:12:42.443749Z",
     "iopub.status.idle": "2021-01-27T00:12:42.731181Z",
     "shell.execute_reply": "2021-01-27T00:12:42.730644Z"
    },
    "papermill": {
     "duration": 0.322637,
     "end_time": "2021-01-27T00:12:42.731356",
     "exception": false,
     "start_time": "2021-01-27T00:12:42.408719",
     "status": "completed"
    },
    "tags": []
   },
   "outputs": [],
   "source": [
    "#hide\n",
    "import numpy as np\n",
    "import pandas as pd\n",
    "from jinja2 import Template\n",
    "from IPython.display import HTML"
   ]
  },
  {
   "cell_type": "code",
   "execution_count": 2,
   "id": "developed-terminology",
   "metadata": {
    "execution": {
     "iopub.execute_input": "2021-01-27T00:12:42.786284Z",
     "iopub.status.busy": "2021-01-27T00:12:42.785693Z",
     "iopub.status.idle": "2021-01-27T00:12:42.786831Z",
     "shell.execute_reply": "2021-01-27T00:12:42.787391Z"
    },
    "papermill": {
     "duration": 0.030464,
     "end_time": "2021-01-27T00:12:42.787526",
     "exception": false,
     "start_time": "2021-01-27T00:12:42.757062",
     "status": "completed"
    },
    "tags": []
   },
   "outputs": [],
   "source": [
    "#hide\n",
    "\n",
    "# FETCH\n",
    "base_url = 'https://raw.githubusercontent.com/pratapvardhan/notebooks/master/covid19/'\n",
    "paths = {\n",
    "    'mapping': base_url + 'mapping_countries.csv',\n",
    "    'overview': base_url + 'overview.tpl'\n",
    "}"
   ]
  },
  {
   "cell_type": "code",
   "execution_count": 3,
   "id": "dynamic-saver",
   "metadata": {
    "execution": {
     "iopub.execute_input": "2021-01-27T00:12:42.855185Z",
     "iopub.status.busy": "2021-01-27T00:12:42.853436Z",
     "iopub.status.idle": "2021-01-27T00:12:42.857711Z",
     "shell.execute_reply": "2021-01-27T00:12:42.857292Z"
    },
    "papermill": {
     "duration": 0.040393,
     "end_time": "2021-01-27T00:12:42.857810",
     "exception": false,
     "start_time": "2021-01-27T00:12:42.817417",
     "status": "completed"
    },
    "tags": []
   },
   "outputs": [
    {
     "data": {
      "text/plain": [
       "'https://raw.githubusercontent.com/pratapvardhan/notebooks/master/covid19/mapping_countries.csv'"
      ]
     },
     "execution_count": 3,
     "metadata": {},
     "output_type": "execute_result"
    }
   ],
   "source": [
    "#hide\n",
    "paths['mapping']"
   ]
  },
  {
   "cell_type": "code",
   "execution_count": 4,
   "id": "urban-software",
   "metadata": {
    "execution": {
     "iopub.execute_input": "2021-01-27T00:12:42.921965Z",
     "iopub.status.busy": "2021-01-27T00:12:42.921475Z",
     "iopub.status.idle": "2021-01-27T00:12:42.923707Z",
     "shell.execute_reply": "2021-01-27T00:12:42.923271Z"
    },
    "papermill": {
     "duration": 0.036345,
     "end_time": "2021-01-27T00:12:42.923814",
     "exception": false,
     "start_time": "2021-01-27T00:12:42.887469",
     "status": "completed"
    },
    "tags": []
   },
   "outputs": [],
   "source": [
    "#hide\n",
    "def get_mappings(url):\n",
    "    df = pd.read_csv(url)\n",
    "    return {\n",
    "        'df': df,\n",
    "        'replace.country': dict(df.dropna(subset=['Name']).set_index('Country')['Name']),\n",
    "        'map.continent': dict(df.set_index('Name')['Continent'])\n",
    "    }"
   ]
  },
  {
   "cell_type": "code",
   "execution_count": 5,
   "id": "intimate-machinery",
   "metadata": {
    "execution": {
     "iopub.execute_input": "2021-01-27T00:12:42.986799Z",
     "iopub.status.busy": "2021-01-27T00:12:42.986307Z",
     "iopub.status.idle": "2021-01-27T00:12:43.025737Z",
     "shell.execute_reply": "2021-01-27T00:12:43.025257Z"
    },
    "papermill": {
     "duration": 0.072735,
     "end_time": "2021-01-27T00:12:43.025851",
     "exception": false,
     "start_time": "2021-01-27T00:12:42.953116",
     "status": "completed"
    },
    "tags": []
   },
   "outputs": [],
   "source": [
    "#hide\n",
    "mapping = get_mappings(paths['mapping'])"
   ]
  },
  {
   "cell_type": "code",
   "execution_count": 6,
   "id": "certified-tactics",
   "metadata": {
    "execution": {
     "iopub.execute_input": "2021-01-27T00:12:43.092864Z",
     "iopub.status.busy": "2021-01-27T00:12:43.092294Z",
     "iopub.status.idle": "2021-01-27T00:12:43.094320Z",
     "shell.execute_reply": "2021-01-27T00:12:43.093775Z"
    },
    "papermill": {
     "duration": 0.035649,
     "end_time": "2021-01-27T00:12:43.094431",
     "exception": false,
     "start_time": "2021-01-27T00:12:43.058782",
     "status": "completed"
    },
    "tags": []
   },
   "outputs": [],
   "source": [
    "#hide\n",
    "def get_template(path):\n",
    "    from urllib.parse import urlparse\n",
    "    if bool(urlparse(path).netloc):\n",
    "        from urllib.request import urlopen\n",
    "        return urlopen(path).read().decode('utf8')\n",
    "    return open(path).read()"
   ]
  },
  {
   "cell_type": "code",
   "execution_count": 7,
   "id": "realistic-blast",
   "metadata": {
    "execution": {
     "iopub.execute_input": "2021-01-27T00:12:43.150302Z",
     "iopub.status.busy": "2021-01-27T00:12:43.149833Z",
     "iopub.status.idle": "2021-01-27T00:12:43.151788Z",
     "shell.execute_reply": "2021-01-27T00:12:43.151463Z"
    },
    "papermill": {
     "duration": 0.031298,
     "end_time": "2021-01-27T00:12:43.151873",
     "exception": false,
     "start_time": "2021-01-27T00:12:43.120575",
     "status": "completed"
    },
    "tags": []
   },
   "outputs": [],
   "source": [
    "#hide\n",
    "def get_frame(name):\n",
    "    url = (\n",
    "        'https://raw.githubusercontent.com/CSSEGISandData/COVID-19/master/csse_covid_19_data/'\n",
    "        f'csse_covid_19_time_series/time_series_covid19_{name}_global.csv')\n",
    "    df = pd.read_csv(url)\n",
    "    # rename countries\n",
    "    df['Country/Region'] = df['Country/Region'].replace(mapping['replace.country'])\n",
    "    return df"
   ]
  },
  {
   "cell_type": "code",
   "execution_count": 8,
   "id": "affiliated-characterization",
   "metadata": {
    "execution": {
     "iopub.execute_input": "2021-01-27T00:12:43.206846Z",
     "iopub.status.busy": "2021-01-27T00:12:43.206400Z",
     "iopub.status.idle": "2021-01-27T00:12:43.208598Z",
     "shell.execute_reply": "2021-01-27T00:12:43.208260Z"
    },
    "papermill": {
     "duration": 0.031796,
     "end_time": "2021-01-27T00:12:43.208685",
     "exception": false,
     "start_time": "2021-01-27T00:12:43.176889",
     "status": "completed"
    },
    "tags": []
   },
   "outputs": [],
   "source": [
    "#hide\n",
    "def get_dates(df):\n",
    "    dt_cols = df.columns[~df.columns.isin(['Province/State', 'Country/Region', 'Lat', 'Long'])]\n",
    "    LAST_DATE_I = -1\n",
    "    # sometimes last column may be empty, then go backwards\n",
    "    for i in range(-1, -len(dt_cols), -1):\n",
    "        if not df[dt_cols[i]].fillna(0).eq(0).all():\n",
    "            LAST_DATE_I = i\n",
    "            break\n",
    "    return LAST_DATE_I, dt_cols"
   ]
  },
  {
   "cell_type": "code",
   "execution_count": 9,
   "id": "recent-optimization",
   "metadata": {
    "execution": {
     "iopub.execute_input": "2021-01-27T00:12:43.262235Z",
     "iopub.status.busy": "2021-01-27T00:12:43.261810Z",
     "iopub.status.idle": "2021-01-27T00:12:43.548213Z",
     "shell.execute_reply": "2021-01-27T00:12:43.547304Z"
    },
    "papermill": {
     "duration": 0.314585,
     "end_time": "2021-01-27T00:12:43.548337",
     "exception": false,
     "start_time": "2021-01-27T00:12:43.233752",
     "status": "completed"
    },
    "tags": []
   },
   "outputs": [],
   "source": [
    "#hide\n",
    "COL_REGION = 'Country/Region'\n",
    "# Confirmed, Recovered, Deaths\n",
    "df = get_frame('confirmed')\n",
    "# dft_: timeseries, dfc_: today country agg\n",
    "dft_cases = df\n",
    "dft_deaths = get_frame('deaths')\n",
    "dft_recovered = get_frame('recovered')\n",
    "LAST_DATE_I, dt_cols = get_dates(df)"
   ]
  },
  {
   "cell_type": "code",
   "execution_count": 10,
   "id": "absolute-copper",
   "metadata": {
    "execution": {
     "iopub.execute_input": "2021-01-27T00:12:43.604157Z",
     "iopub.status.busy": "2021-01-27T00:12:43.603725Z",
     "iopub.status.idle": "2021-01-27T00:12:43.606073Z",
     "shell.execute_reply": "2021-01-27T00:12:43.605719Z"
    },
    "papermill": {
     "duration": 0.032415,
     "end_time": "2021-01-27T00:12:43.606203",
     "exception": false,
     "start_time": "2021-01-27T00:12:43.573788",
     "status": "completed"
    },
    "tags": []
   },
   "outputs": [],
   "source": [
    "#hide\n",
    "LAST_DATE_I, dt_cols = get_dates(df)\n",
    "dt_today =dt_cols[LAST_DATE_I]\n",
    "# dt_5day = dt_cols[LAST_DATE_I - 5]\n",
    "dt_yday = dt_cols[LAST_DATE_I - 1]"
   ]
  },
  {
   "cell_type": "code",
   "execution_count": 11,
   "id": "restricted-sheriff",
   "metadata": {
    "execution": {
     "iopub.execute_input": "2021-01-27T00:12:43.662295Z",
     "iopub.status.busy": "2021-01-27T00:12:43.661856Z",
     "iopub.status.idle": "2021-01-27T00:12:43.668899Z",
     "shell.execute_reply": "2021-01-27T00:12:43.669287Z"
    },
    "papermill": {
     "duration": 0.037833,
     "end_time": "2021-01-27T00:12:43.669385",
     "exception": false,
     "start_time": "2021-01-27T00:12:43.631552",
     "status": "completed"
    },
    "tags": []
   },
   "outputs": [],
   "source": [
    "#hide\n",
    "dfc_cases = dft_cases.groupby(COL_REGION)[dt_today].sum()\n",
    "dfc_deaths = dft_deaths.groupby(COL_REGION)[dt_today].sum()\n",
    "# dfp_cases = dft_cases.groupby(COL_REGION)[dt_5day].sum()\n",
    "# dfp_deaths = dft_deaths.groupby(COL_REGION)[dt_5day].sum()\n",
    "dfp_cases = dft_cases.groupby(COL_REGION)[dt_yday].sum()\n",
    "dfp_deaths = dft_deaths.groupby(COL_REGION)[dt_yday].sum()"
   ]
  },
  {
   "cell_type": "code",
   "execution_count": 12,
   "id": "deluxe-hepatitis",
   "metadata": {
    "execution": {
     "iopub.execute_input": "2021-01-27T00:12:43.724887Z",
     "iopub.status.busy": "2021-01-27T00:12:43.724488Z",
     "iopub.status.idle": "2021-01-27T00:12:43.729107Z",
     "shell.execute_reply": "2021-01-27T00:12:43.728745Z"
    },
    "papermill": {
     "duration": 0.03429,
     "end_time": "2021-01-27T00:12:43.729194",
     "exception": false,
     "start_time": "2021-01-27T00:12:43.694904",
     "status": "completed"
    },
    "tags": []
   },
   "outputs": [],
   "source": [
    "#hide\n",
    "df_table = (pd.DataFrame(dict(Cases = dfc_cases, Deaths = dfc_deaths, PCases = dfp_cases, PDeaths = dfp_deaths))\n",
    "            .sort_values(by = ['Cases','Deaths'], ascending = [False, False])\n",
    "            .reset_index())"
   ]
  },
  {
   "cell_type": "code",
   "execution_count": 13,
   "id": "educational-chancellor",
   "metadata": {
    "execution": {
     "iopub.execute_input": "2021-01-27T00:12:43.796399Z",
     "iopub.status.busy": "2021-01-27T00:12:43.792229Z",
     "iopub.status.idle": "2021-01-27T00:12:43.802935Z",
     "shell.execute_reply": "2021-01-27T00:12:43.802594Z"
    },
    "papermill": {
     "duration": 0.048066,
     "end_time": "2021-01-27T00:12:43.803024",
     "exception": false,
     "start_time": "2021-01-27T00:12:43.754958",
     "status": "completed"
    },
    "tags": []
   },
   "outputs": [
    {
     "data": {
      "text/html": [
       "<div>\n",
       "<style scoped>\n",
       "    .dataframe tbody tr th:only-of-type {\n",
       "        vertical-align: middle;\n",
       "    }\n",
       "\n",
       "    .dataframe tbody tr th {\n",
       "        vertical-align: top;\n",
       "    }\n",
       "\n",
       "    .dataframe thead th {\n",
       "        text-align: right;\n",
       "    }\n",
       "</style>\n",
       "<table border=\"1\" class=\"dataframe\">\n",
       "  <thead>\n",
       "    <tr style=\"text-align: right;\">\n",
       "      <th></th>\n",
       "      <th>Country/Region</th>\n",
       "      <th>Cases</th>\n",
       "      <th>Deaths</th>\n",
       "      <th>PCases</th>\n",
       "      <th>PDeaths</th>\n",
       "      <th>Cases (+)</th>\n",
       "      <th>Deaths (+)</th>\n",
       "      <th>Fatality Rate</th>\n",
       "      <th>Continent</th>\n",
       "    </tr>\n",
       "  </thead>\n",
       "  <tbody>\n",
       "    <tr>\n",
       "      <th>0</th>\n",
       "      <td>US</td>\n",
       "      <td>25297059</td>\n",
       "      <td>421129</td>\n",
       "      <td>25145947</td>\n",
       "      <td>419214</td>\n",
       "      <td>151112</td>\n",
       "      <td>1915</td>\n",
       "      <td>1.66</td>\n",
       "      <td>North America</td>\n",
       "    </tr>\n",
       "    <tr>\n",
       "      <th>1</th>\n",
       "      <td>India</td>\n",
       "      <td>10676838</td>\n",
       "      <td>153587</td>\n",
       "      <td>10667736</td>\n",
       "      <td>153470</td>\n",
       "      <td>9102</td>\n",
       "      <td>117</td>\n",
       "      <td>1.44</td>\n",
       "      <td>Asia</td>\n",
       "    </tr>\n",
       "    <tr>\n",
       "      <th>2</th>\n",
       "      <td>Brazil</td>\n",
       "      <td>8871393</td>\n",
       "      <td>217664</td>\n",
       "      <td>8844577</td>\n",
       "      <td>217037</td>\n",
       "      <td>26816</td>\n",
       "      <td>627</td>\n",
       "      <td>2.45</td>\n",
       "      <td>South America</td>\n",
       "    </tr>\n",
       "    <tr>\n",
       "      <th>3</th>\n",
       "      <td>Russia</td>\n",
       "      <td>3698246</td>\n",
       "      <td>68841</td>\n",
       "      <td>3679247</td>\n",
       "      <td>68397</td>\n",
       "      <td>18999</td>\n",
       "      <td>444</td>\n",
       "      <td>1.86</td>\n",
       "      <td>Europe</td>\n",
       "    </tr>\n",
       "    <tr>\n",
       "      <th>4</th>\n",
       "      <td>United Kingdom</td>\n",
       "      <td>3680101</td>\n",
       "      <td>98723</td>\n",
       "      <td>3657857</td>\n",
       "      <td>98129</td>\n",
       "      <td>22244</td>\n",
       "      <td>594</td>\n",
       "      <td>2.68</td>\n",
       "      <td>Europe</td>\n",
       "    </tr>\n",
       "  </tbody>\n",
       "</table>\n",
       "</div>"
      ],
      "text/plain": [
       "   Country/Region     Cases  Deaths    PCases  PDeaths  Cases (+)  Deaths (+)  \\\n",
       "0              US  25297059  421129  25145947   419214     151112        1915   \n",
       "1           India  10676838  153587  10667736   153470       9102         117   \n",
       "2          Brazil   8871393  217664   8844577   217037      26816         627   \n",
       "3          Russia   3698246   68841   3679247    68397      18999         444   \n",
       "4  United Kingdom   3680101   98723   3657857    98129      22244         594   \n",
       "\n",
       "   Fatality Rate      Continent  \n",
       "0           1.66  North America  \n",
       "1           1.44           Asia  \n",
       "2           2.45  South America  \n",
       "3           1.86         Europe  \n",
       "4           2.68         Europe  "
      ]
     },
     "execution_count": 13,
     "metadata": {},
     "output_type": "execute_result"
    }
   ],
   "source": [
    "#hide\n",
    "for c in 'Cases, Deaths'.split(', '):\n",
    "    df_table[f'{c} (+)'] = (df_table[c] - df_table[f'P{c}']).clip(0)\n",
    "    #Clip ça veut dire, les chiffres negatif sont interdit\n",
    "df_table['Fatality Rate'] = (100* df_table['Deaths']/ df_table['Cases']).round(2)\n",
    "df_table['Continent'] = df_table['Country/Region'].map(mapping['map.continent'])\n",
    "df_table.head(5)"
   ]
  },
  {
   "cell_type": "code",
   "execution_count": 14,
   "id": "aboriginal-bulgaria",
   "metadata": {
    "execution": {
     "iopub.execute_input": "2021-01-27T00:12:43.858438Z",
     "iopub.status.busy": "2021-01-27T00:12:43.858007Z",
     "iopub.status.idle": "2021-01-27T00:12:43.860770Z",
     "shell.execute_reply": "2021-01-27T00:12:43.860421Z"
    },
    "papermill": {
     "duration": 0.032198,
     "end_time": "2021-01-27T00:12:43.860860",
     "exception": false,
     "start_time": "2021-01-27T00:12:43.828662",
     "status": "completed"
    },
    "tags": []
   },
   "outputs": [],
   "source": [
    "#hide\n",
    "#delete problematic countries from table\n",
    "df_table = df_table[~df_table['Country/Region'].isin(['Cape Verde', 'Cruise Ship', 'Kosovo'])]"
   ]
  },
  {
   "cell_type": "code",
   "execution_count": 15,
   "id": "fantastic-effect",
   "metadata": {
    "execution": {
     "iopub.execute_input": "2021-01-27T00:12:43.920107Z",
     "iopub.status.busy": "2021-01-27T00:12:43.919663Z",
     "iopub.status.idle": "2021-01-27T00:12:43.935690Z",
     "shell.execute_reply": "2021-01-27T00:12:43.935312Z"
    },
    "papermill": {
     "duration": 0.048793,
     "end_time": "2021-01-27T00:12:43.935782",
     "exception": false,
     "start_time": "2021-01-27T00:12:43.886989",
     "status": "completed"
    },
    "tags": []
   },
   "outputs": [
    {
     "data": {
      "text/html": [
       "<div>\n",
       "<style scoped>\n",
       "    .dataframe tbody tr th:only-of-type {\n",
       "        vertical-align: middle;\n",
       "    }\n",
       "\n",
       "    .dataframe tbody tr th {\n",
       "        vertical-align: top;\n",
       "    }\n",
       "\n",
       "    .dataframe thead th {\n",
       "        text-align: right;\n",
       "    }\n",
       "</style>\n",
       "<table border=\"1\" class=\"dataframe\">\n",
       "  <thead>\n",
       "    <tr style=\"text-align: right;\">\n",
       "      <th></th>\n",
       "      <th>Country/Region</th>\n",
       "      <th>Cases</th>\n",
       "      <th>Deaths</th>\n",
       "      <th>PCases</th>\n",
       "      <th>PDeaths</th>\n",
       "      <th>Cases (+)</th>\n",
       "      <th>Deaths (+)</th>\n",
       "      <th>Fatality Rate</th>\n",
       "      <th>Continent</th>\n",
       "    </tr>\n",
       "  </thead>\n",
       "  <tbody>\n",
       "    <tr>\n",
       "      <th>0</th>\n",
       "      <td>US</td>\n",
       "      <td>25297059</td>\n",
       "      <td>421129</td>\n",
       "      <td>25145947</td>\n",
       "      <td>419214</td>\n",
       "      <td>151112</td>\n",
       "      <td>1915</td>\n",
       "      <td>1.7</td>\n",
       "      <td>North America</td>\n",
       "    </tr>\n",
       "    <tr>\n",
       "      <th>1</th>\n",
       "      <td>India</td>\n",
       "      <td>10676838</td>\n",
       "      <td>153587</td>\n",
       "      <td>10667736</td>\n",
       "      <td>153470</td>\n",
       "      <td>9102</td>\n",
       "      <td>117</td>\n",
       "      <td>1.4</td>\n",
       "      <td>Asia</td>\n",
       "    </tr>\n",
       "    <tr>\n",
       "      <th>2</th>\n",
       "      <td>Brazil</td>\n",
       "      <td>8871393</td>\n",
       "      <td>217664</td>\n",
       "      <td>8844577</td>\n",
       "      <td>217037</td>\n",
       "      <td>26816</td>\n",
       "      <td>627</td>\n",
       "      <td>2.5</td>\n",
       "      <td>South America</td>\n",
       "    </tr>\n",
       "    <tr>\n",
       "      <th>3</th>\n",
       "      <td>Russia</td>\n",
       "      <td>3698246</td>\n",
       "      <td>68841</td>\n",
       "      <td>3679247</td>\n",
       "      <td>68397</td>\n",
       "      <td>18999</td>\n",
       "      <td>444</td>\n",
       "      <td>1.9</td>\n",
       "      <td>Europe</td>\n",
       "    </tr>\n",
       "    <tr>\n",
       "      <th>4</th>\n",
       "      <td>United Kingdom</td>\n",
       "      <td>3680101</td>\n",
       "      <td>98723</td>\n",
       "      <td>3657857</td>\n",
       "      <td>98129</td>\n",
       "      <td>22244</td>\n",
       "      <td>594</td>\n",
       "      <td>2.7</td>\n",
       "      <td>Europe</td>\n",
       "    </tr>\n",
       "  </tbody>\n",
       "</table>\n",
       "</div>"
      ],
      "text/plain": [
       "   Country/Region     Cases  Deaths    PCases  PDeaths  Cases (+)  Deaths (+)  \\\n",
       "0              US  25297059  421129  25145947   419214     151112        1915   \n",
       "1           India  10676838  153587  10667736   153470       9102         117   \n",
       "2          Brazil   8871393  217664   8844577   217037      26816         627   \n",
       "3          Russia   3698246   68841   3679247    68397      18999         444   \n",
       "4  United Kingdom   3680101   98723   3657857    98129      22244         594   \n",
       "\n",
       "   Fatality Rate      Continent  \n",
       "0            1.7  North America  \n",
       "1            1.4           Asia  \n",
       "2            2.5  South America  \n",
       "3            1.9         Europe  \n",
       "4            2.7         Europe  "
      ]
     },
     "execution_count": 15,
     "metadata": {},
     "output_type": "execute_result"
    }
   ],
   "source": [
    "#hide\n",
    "df_table = (pd.DataFrame(dict(Cases=dfc_cases, Deaths=dfc_deaths, PCases=dfp_cases, PDeaths=dfp_deaths))\n",
    "             .sort_values(by=['Cases', 'Deaths'], ascending=[False, False])\n",
    "             .reset_index())\n",
    "df_table.rename(columns={'index': 'Country/Region'}, inplace=True)\n",
    "for c in 'Cases, Deaths'.split(', '):\n",
    "    df_table[f'{c} (+)'] = (df_table[c] - df_table[f'P{c}']).clip(0)  # DATA BUG\n",
    "df_table['Fatality Rate'] = (100 * df_table['Deaths'] / df_table['Cases']).round(1)\n",
    "df_table['Continent'] = df_table['Country/Region'].map(mapping['map.continent'])\n",
    "df_table.head(5)"
   ]
  },
  {
   "cell_type": "code",
   "execution_count": 16,
   "id": "fewer-occasion",
   "metadata": {
    "execution": {
     "iopub.execute_input": "2021-01-27T00:12:43.991766Z",
     "iopub.status.busy": "2021-01-27T00:12:43.991300Z",
     "iopub.status.idle": "2021-01-27T00:12:43.994717Z",
     "shell.execute_reply": "2021-01-27T00:12:43.994349Z"
    },
    "papermill": {
     "duration": 0.032713,
     "end_time": "2021-01-27T00:12:43.994804",
     "exception": false,
     "start_time": "2021-01-27T00:12:43.962091",
     "status": "completed"
    },
    "tags": []
   },
   "outputs": [],
   "source": [
    "#hide\n",
    "#delete problematic countries from table\n",
    "df_table = df_table[~df_table['Country/Region'].isin(['Cape Verde', 'Cruise Ship', 'Kosovo'])]"
   ]
  },
  {
   "cell_type": "code",
   "execution_count": 17,
   "id": "related-center",
   "metadata": {
    "execution": {
     "iopub.execute_input": "2021-01-27T00:12:44.055885Z",
     "iopub.status.busy": "2021-01-27T00:12:44.055442Z",
     "iopub.status.idle": "2021-01-27T00:12:44.064151Z",
     "shell.execute_reply": "2021-01-27T00:12:44.064504Z"
    },
    "papermill": {
     "duration": 0.044194,
     "end_time": "2021-01-27T00:12:44.064603",
     "exception": false,
     "start_time": "2021-01-27T00:12:44.020409",
     "status": "completed"
    },
    "tags": []
   },
   "outputs": [],
   "source": [
    "#hide\n",
    "metrics = [df_table.columns[index] for index in [1,2,5,6]]\n",
    "# s_china = df_table[df_table['Country/Region'].eq('China')][metrics].sum().add_prefix('China ')\n",
    "s_us = df_table[df_table['Country/Region'].eq('US')][metrics].sum().add_prefix('US ')\n",
    "s_eu = df_table[df_table['Continent'].eq('Europe')][metrics].sum().add_prefix('EU ')\n",
    "s_ind = df_table[df_table['Country/Region'].eq('India')][metrics].sum().add_prefix('India ')\n",
    "summary = {'updated': pd.to_datetime(dt_today), 'since': pd.to_datetime(dt_yday)}\n",
    "summary = {'updated': pd.to_datetime(dt_today), 'since': pd.to_datetime(dt_yday)}\n",
    "summary = {**summary, **df_table[metrics].sum(), **s_ind, **s_us, **s_eu}"
   ]
  },
  {
   "cell_type": "code",
   "execution_count": 18,
   "id": "engaging-syndrome",
   "metadata": {
    "execution": {
     "iopub.execute_input": "2021-01-27T00:12:44.121202Z",
     "iopub.status.busy": "2021-01-27T00:12:44.120751Z",
     "iopub.status.idle": "2021-01-27T00:12:44.130943Z",
     "shell.execute_reply": "2021-01-27T00:12:44.130598Z"
    },
    "papermill": {
     "duration": 0.040518,
     "end_time": "2021-01-27T00:12:44.131033",
     "exception": false,
     "start_time": "2021-01-27T00:12:44.090515",
     "status": "completed"
    },
    "tags": []
   },
   "outputs": [],
   "source": [
    "#hide\n",
    "dft_ct_new_cases = dft_cases.groupby(COL_REGION)[dt_cols].sum().diff(axis=1).fillna(0).astype(int)"
   ]
  },
  {
   "cell_type": "code",
   "execution_count": 19,
   "id": "neutral-assignment",
   "metadata": {
    "execution": {
     "iopub.execute_input": "2021-01-27T00:12:44.187278Z",
     "iopub.status.busy": "2021-01-27T00:12:44.186819Z",
     "iopub.status.idle": "2021-01-27T00:12:44.188696Z",
     "shell.execute_reply": "2021-01-27T00:12:44.189080Z"
    },
    "papermill": {
     "duration": 0.031766,
     "end_time": "2021-01-27T00:12:44.189172",
     "exception": false,
     "start_time": "2021-01-27T00:12:44.157406",
     "status": "completed"
    },
    "tags": []
   },
   "outputs": [],
   "source": [
    "#hide\n",
    "everydaycases = dft_ct_new_cases.cumsum(axis=1)"
   ]
  },
  {
   "cell_type": "code",
   "execution_count": 20,
   "id": "parliamentary-calgary",
   "metadata": {
    "execution": {
     "iopub.execute_input": "2021-01-27T00:12:44.244182Z",
     "iopub.status.busy": "2021-01-27T00:12:44.243732Z",
     "iopub.status.idle": "2021-01-27T00:12:45.029726Z",
     "shell.execute_reply": "2021-01-27T00:12:45.028782Z"
    },
    "papermill": {
     "duration": 0.815115,
     "end_time": "2021-01-27T00:12:45.029866",
     "exception": false,
     "start_time": "2021-01-27T00:12:44.214751",
     "status": "completed"
    },
    "tags": []
   },
   "outputs": [],
   "source": [
    "#hide\n",
    "import pandas as pd\n",
    "import matplotlib.pyplot as plt\n",
    "import matplotlib.ticker as ticker\n",
    "import matplotlib.animation as animation\n",
    "from IPython.display import HTML"
   ]
  },
  {
   "cell_type": "code",
   "execution_count": 21,
   "id": "lasting-extraction",
   "metadata": {
    "execution": {
     "iopub.execute_input": "2021-01-27T00:12:45.088189Z",
     "iopub.status.busy": "2021-01-27T00:12:45.087599Z",
     "iopub.status.idle": "2021-01-27T00:12:45.091834Z",
     "shell.execute_reply": "2021-01-27T00:12:45.091294Z"
    },
    "papermill": {
     "duration": 0.035113,
     "end_time": "2021-01-27T00:12:45.091954",
     "exception": false,
     "start_time": "2021-01-27T00:12:45.056841",
     "status": "completed"
    },
    "tags": []
   },
   "outputs": [],
   "source": [
    "#hide\n",
    "t = everydaycases.stack()"
   ]
  },
  {
   "cell_type": "code",
   "execution_count": 22,
   "id": "premier-sleeve",
   "metadata": {
    "execution": {
     "iopub.execute_input": "2021-01-27T00:12:45.156950Z",
     "iopub.status.busy": "2021-01-27T00:12:45.156455Z",
     "iopub.status.idle": "2021-01-27T00:12:45.163710Z",
     "shell.execute_reply": "2021-01-27T00:12:45.163267Z"
    },
    "papermill": {
     "duration": 0.041018,
     "end_time": "2021-01-27T00:12:45.163823",
     "exception": false,
     "start_time": "2021-01-27T00:12:45.122805",
     "status": "completed"
    },
    "tags": []
   },
   "outputs": [],
   "source": [
    "#hide\n",
    "g = t.reset_index(['Country/Region'])"
   ]
  },
  {
   "cell_type": "code",
   "execution_count": 23,
   "id": "distributed-pittsburgh",
   "metadata": {
    "execution": {
     "iopub.execute_input": "2021-01-27T00:12:45.228549Z",
     "iopub.status.busy": "2021-01-27T00:12:45.227986Z",
     "iopub.status.idle": "2021-01-27T00:12:45.229597Z",
     "shell.execute_reply": "2021-01-27T00:12:45.230048Z"
    },
    "papermill": {
     "duration": 0.035297,
     "end_time": "2021-01-27T00:12:45.230179",
     "exception": false,
     "start_time": "2021-01-27T00:12:45.194882",
     "status": "completed"
    },
    "tags": []
   },
   "outputs": [],
   "source": [
    "#hide\n",
    "g.index.name = 'date'"
   ]
  },
  {
   "cell_type": "code",
   "execution_count": 24,
   "id": "naked-donor",
   "metadata": {
    "execution": {
     "iopub.execute_input": "2021-01-27T00:12:45.288356Z",
     "iopub.status.busy": "2021-01-27T00:12:45.287863Z",
     "iopub.status.idle": "2021-01-27T00:12:45.289758Z",
     "shell.execute_reply": "2021-01-27T00:12:45.289317Z"
    },
    "papermill": {
     "duration": 0.031175,
     "end_time": "2021-01-27T00:12:45.289860",
     "exception": false,
     "start_time": "2021-01-27T00:12:45.258685",
     "status": "completed"
    },
    "tags": []
   },
   "outputs": [],
   "source": [
    "# #hide\n",
    "# g = g.reset_index(['date'])"
   ]
  },
  {
   "cell_type": "code",
   "execution_count": 25,
   "id": "incomplete-mustang",
   "metadata": {
    "execution": {
     "iopub.execute_input": "2021-01-27T00:12:45.353529Z",
     "iopub.status.busy": "2021-01-27T00:12:45.353034Z",
     "iopub.status.idle": "2021-01-27T00:12:45.354737Z",
     "shell.execute_reply": "2021-01-27T00:12:45.355207Z"
    },
    "papermill": {
     "duration": 0.035062,
     "end_time": "2021-01-27T00:12:45.355319",
     "exception": false,
     "start_time": "2021-01-27T00:12:45.320257",
     "status": "completed"
    },
    "tags": []
   },
   "outputs": [],
   "source": [
    "#hide\n",
    "# g.head()"
   ]
  },
  {
   "cell_type": "code",
   "execution_count": 26,
   "id": "specific-kruger",
   "metadata": {
    "execution": {
     "iopub.execute_input": "2021-01-27T00:12:45.418513Z",
     "iopub.status.busy": "2021-01-27T00:12:45.418025Z",
     "iopub.status.idle": "2021-01-27T00:12:45.419471Z",
     "shell.execute_reply": "2021-01-27T00:12:45.419901Z"
    },
    "papermill": {
     "duration": 0.034345,
     "end_time": "2021-01-27T00:12:45.420011",
     "exception": false,
     "start_time": "2021-01-27T00:12:45.385666",
     "status": "completed"
    },
    "tags": []
   },
   "outputs": [],
   "source": [
    "#hide\n",
    "# g.columns = ['date','country','cases']"
   ]
  },
  {
   "cell_type": "code",
   "execution_count": 27,
   "id": "tender-conversion",
   "metadata": {
    "execution": {
     "iopub.execute_input": "2021-01-27T00:12:45.486549Z",
     "iopub.status.busy": "2021-01-27T00:12:45.486062Z",
     "iopub.status.idle": "2021-01-27T00:12:45.487854Z",
     "shell.execute_reply": "2021-01-27T00:12:45.488248Z"
    },
    "papermill": {
     "duration": 0.038186,
     "end_time": "2021-01-27T00:12:45.488358",
     "exception": false,
     "start_time": "2021-01-27T00:12:45.450172",
     "status": "completed"
    },
    "tags": []
   },
   "outputs": [],
   "source": [
    "#hide\n",
    "# g['continent'] = g.country"
   ]
  },
  {
   "cell_type": "code",
   "execution_count": 28,
   "id": "substantial-wilderness",
   "metadata": {
    "execution": {
     "iopub.execute_input": "2021-01-27T00:12:45.551814Z",
     "iopub.status.busy": "2021-01-27T00:12:45.551288Z",
     "iopub.status.idle": "2021-01-27T00:12:45.553260Z",
     "shell.execute_reply": "2021-01-27T00:12:45.552847Z"
    },
    "papermill": {
     "duration": 0.034642,
     "end_time": "2021-01-27T00:12:45.553358",
     "exception": false,
     "start_time": "2021-01-27T00:12:45.518716",
     "status": "completed"
    },
    "tags": []
   },
   "outputs": [],
   "source": [
    "#hide\n",
    "# cols = list(g.columns.values)"
   ]
  },
  {
   "cell_type": "code",
   "execution_count": 29,
   "id": "solved-farming",
   "metadata": {
    "execution": {
     "iopub.execute_input": "2021-01-27T00:12:45.620681Z",
     "iopub.status.busy": "2021-01-27T00:12:45.620115Z",
     "iopub.status.idle": "2021-01-27T00:12:45.622165Z",
     "shell.execute_reply": "2021-01-27T00:12:45.621692Z"
    },
    "papermill": {
     "duration": 0.035287,
     "end_time": "2021-01-27T00:12:45.622276",
     "exception": false,
     "start_time": "2021-01-27T00:12:45.586989",
     "status": "completed"
    },
    "tags": []
   },
   "outputs": [],
   "source": [
    "#hide\n",
    "# cols.insert(0, cols.pop())"
   ]
  },
  {
   "cell_type": "code",
   "execution_count": 30,
   "id": "executed-adoption",
   "metadata": {
    "execution": {
     "iopub.execute_input": "2021-01-27T00:12:45.678496Z",
     "iopub.status.busy": "2021-01-27T00:12:45.678095Z",
     "iopub.status.idle": "2021-01-27T00:12:45.679739Z",
     "shell.execute_reply": "2021-01-27T00:12:45.680122Z"
    },
    "papermill": {
     "duration": 0.031166,
     "end_time": "2021-01-27T00:12:45.680216",
     "exception": false,
     "start_time": "2021-01-27T00:12:45.649050",
     "status": "completed"
    },
    "tags": []
   },
   "outputs": [],
   "source": [
    "#hide\n",
    "# g = g[cols]"
   ]
  },
  {
   "cell_type": "code",
   "execution_count": 31,
   "id": "subject-dublin",
   "metadata": {
    "execution": {
     "iopub.execute_input": "2021-01-27T00:12:45.736123Z",
     "iopub.status.busy": "2021-01-27T00:12:45.735680Z",
     "iopub.status.idle": "2021-01-27T00:12:45.737389Z",
     "shell.execute_reply": "2021-01-27T00:12:45.737823Z"
    },
    "papermill": {
     "duration": 0.031447,
     "end_time": "2021-01-27T00:12:45.737934",
     "exception": false,
     "start_time": "2021-01-27T00:12:45.706487",
     "status": "completed"
    },
    "tags": []
   },
   "outputs": [],
   "source": [
    "#hide\n",
    "# g['continent'] = g['continent'].map(mapping['map.continent'])"
   ]
  },
  {
   "cell_type": "code",
   "execution_count": 32,
   "id": "freelance-scout",
   "metadata": {
    "execution": {
     "iopub.execute_input": "2021-01-27T00:12:45.801785Z",
     "iopub.status.busy": "2021-01-27T00:12:45.801224Z",
     "iopub.status.idle": "2021-01-27T00:12:45.803312Z",
     "shell.execute_reply": "2021-01-27T00:12:45.802843Z"
    },
    "papermill": {
     "duration": 0.039389,
     "end_time": "2021-01-27T00:12:45.803443",
     "exception": false,
     "start_time": "2021-01-27T00:12:45.764054",
     "status": "completed"
    },
    "tags": []
   },
   "outputs": [],
   "source": [
    "#hide\n",
    "# g.head()"
   ]
  },
  {
   "cell_type": "code",
   "execution_count": 33,
   "id": "limited-engine",
   "metadata": {
    "execution": {
     "iopub.execute_input": "2021-01-27T00:12:45.858148Z",
     "iopub.status.busy": "2021-01-27T00:12:45.857587Z",
     "iopub.status.idle": "2021-01-27T00:12:45.858928Z",
     "shell.execute_reply": "2021-01-27T00:12:45.859404Z"
    },
    "papermill": {
     "duration": 0.03018,
     "end_time": "2021-01-27T00:12:45.859531",
     "exception": false,
     "start_time": "2021-01-27T00:12:45.829351",
     "status": "completed"
    },
    "tags": []
   },
   "outputs": [],
   "source": [
    "# hide\n",
    "# g['date'] = g['date'].astype('datetime64[ns]')"
   ]
  },
  {
   "cell_type": "code",
   "execution_count": 34,
   "id": "sophisticated-supervisor",
   "metadata": {
    "execution": {
     "iopub.execute_input": "2021-01-27T00:12:45.926678Z",
     "iopub.status.busy": "2021-01-27T00:12:45.926191Z",
     "iopub.status.idle": "2021-01-27T00:12:45.928541Z",
     "shell.execute_reply": "2021-01-27T00:12:45.928057Z"
    },
    "papermill": {
     "duration": 0.037914,
     "end_time": "2021-01-27T00:12:45.928638",
     "exception": false,
     "start_time": "2021-01-27T00:12:45.890724",
     "status": "completed"
    },
    "tags": []
   },
   "outputs": [],
   "source": [
    "#hide\n",
    "# g['date'] = g.date.dt.dayofyear"
   ]
  },
  {
   "cell_type": "code",
   "execution_count": 35,
   "id": "inside-dubai",
   "metadata": {
    "execution": {
     "iopub.execute_input": "2021-01-27T00:12:45.992156Z",
     "iopub.status.busy": "2021-01-27T00:12:45.991588Z",
     "iopub.status.idle": "2021-01-27T00:12:45.993632Z",
     "shell.execute_reply": "2021-01-27T00:12:45.993177Z"
    },
    "papermill": {
     "duration": 0.034779,
     "end_time": "2021-01-27T00:12:45.993747",
     "exception": false,
     "start_time": "2021-01-27T00:12:45.958968",
     "status": "completed"
    },
    "tags": []
   },
   "outputs": [],
   "source": [
    "#hide\n",
    "# g = g.rename(columns= {'continent':'group','country':'name','cases':'value'})"
   ]
  },
  {
   "cell_type": "code",
   "execution_count": 36,
   "id": "fleet-motorcycle",
   "metadata": {
    "execution": {
     "iopub.execute_input": "2021-01-27T00:12:46.050884Z",
     "iopub.status.busy": "2021-01-27T00:12:46.050448Z",
     "iopub.status.idle": "2021-01-27T00:12:46.052199Z",
     "shell.execute_reply": "2021-01-27T00:12:46.052563Z"
    },
    "papermill": {
     "duration": 0.030894,
     "end_time": "2021-01-27T00:12:46.052657",
     "exception": false,
     "start_time": "2021-01-27T00:12:46.021763",
     "status": "completed"
    },
    "tags": []
   },
   "outputs": [],
   "source": [
    "#hide\n",
    "# cols = ['name','group','day','value']"
   ]
  },
  {
   "cell_type": "code",
   "execution_count": 37,
   "id": "continued-sleeping",
   "metadata": {
    "execution": {
     "iopub.execute_input": "2021-01-27T00:12:46.109137Z",
     "iopub.status.busy": "2021-01-27T00:12:46.108575Z",
     "iopub.status.idle": "2021-01-27T00:12:46.109930Z",
     "shell.execute_reply": "2021-01-27T00:12:46.110345Z"
    },
    "papermill": {
     "duration": 0.030871,
     "end_time": "2021-01-27T00:12:46.110454",
     "exception": false,
     "start_time": "2021-01-27T00:12:46.079583",
     "status": "completed"
    },
    "tags": []
   },
   "outputs": [],
   "source": [
    "#hide\n",
    "# g.rename(columns= {'date':'day'},inplace = True)"
   ]
  },
  {
   "cell_type": "code",
   "execution_count": 38,
   "id": "major-fight",
   "metadata": {
    "execution": {
     "iopub.execute_input": "2021-01-27T00:12:46.173885Z",
     "iopub.status.busy": "2021-01-27T00:12:46.173395Z",
     "iopub.status.idle": "2021-01-27T00:12:46.175576Z",
     "shell.execute_reply": "2021-01-27T00:12:46.175159Z"
    },
    "papermill": {
     "duration": 0.034865,
     "end_time": "2021-01-27T00:12:46.175678",
     "exception": false,
     "start_time": "2021-01-27T00:12:46.140813",
     "status": "completed"
    },
    "tags": []
   },
   "outputs": [],
   "source": [
    "#hide\n",
    "# g = g[cols]"
   ]
  },
  {
   "cell_type": "code",
   "execution_count": 39,
   "id": "structured-mobile",
   "metadata": {
    "execution": {
     "iopub.execute_input": "2021-01-27T00:12:46.239086Z",
     "iopub.status.busy": "2021-01-27T00:12:46.238588Z",
     "iopub.status.idle": "2021-01-27T00:12:46.240747Z",
     "shell.execute_reply": "2021-01-27T00:12:46.240334Z"
    },
    "papermill": {
     "duration": 0.034913,
     "end_time": "2021-01-27T00:12:46.240844",
     "exception": false,
     "start_time": "2021-01-27T00:12:46.205931",
     "status": "completed"
    },
    "tags": []
   },
   "outputs": [],
   "source": [
    "# #hide\n",
    "# g = g[g.group.notna()]"
   ]
  },
  {
   "cell_type": "code",
   "execution_count": 40,
   "id": "determined-closing",
   "metadata": {
    "execution": {
     "iopub.execute_input": "2021-01-27T00:12:46.304927Z",
     "iopub.status.busy": "2021-01-27T00:12:46.304434Z",
     "iopub.status.idle": "2021-01-27T00:12:46.306246Z",
     "shell.execute_reply": "2021-01-27T00:12:46.306620Z"
    },
    "papermill": {
     "duration": 0.035154,
     "end_time": "2021-01-27T00:12:46.306735",
     "exception": false,
     "start_time": "2021-01-27T00:12:46.271581",
     "status": "completed"
    },
    "tags": []
   },
   "outputs": [],
   "source": [
    "# #hide\n",
    "# colors = dict(zip(\n",
    "#     [\"Oceania\", \"Europe\", \"Asia\", \"South America\", \"Middle East\", \"North America\", \"Africa\"],\n",
    "#     [\"#adb0ff\", \"#ffb3ff\", \"#90d595\", \"#e48381\", \"#aafbff\", \"#f7bb5f\", \"#eafb50\"]\n",
    "# ))\n",
    "# group_lk = g.set_index('name')['group'].to_dict()"
   ]
  },
  {
   "cell_type": "code",
   "execution_count": null,
   "id": "gross-drinking",
   "metadata": {
    "papermill": {
     "duration": 0.030219,
     "end_time": "2021-01-27T00:12:46.367176",
     "exception": false,
     "start_time": "2021-01-27T00:12:46.336957",
     "status": "completed"
    },
    "tags": []
   },
   "outputs": [],
   "source": []
  },
  {
   "cell_type": "code",
   "execution_count": 41,
   "id": "subject-macintosh",
   "metadata": {
    "execution": {
     "iopub.execute_input": "2021-01-27T00:12:46.431274Z",
     "iopub.status.busy": "2021-01-27T00:12:46.430772Z",
     "iopub.status.idle": "2021-01-27T00:12:46.433170Z",
     "shell.execute_reply": "2021-01-27T00:12:46.432752Z"
    },
    "papermill": {
     "duration": 0.035622,
     "end_time": "2021-01-27T00:12:46.433269",
     "exception": false,
     "start_time": "2021-01-27T00:12:46.397647",
     "status": "completed"
    },
    "tags": []
   },
   "outputs": [],
   "source": [
    "# #hide\n",
    "# fig, ax = plt.subplots(figsize=(15, 8))\n",
    "\n",
    "# def draw_barchart(current_day):\n",
    "#     dff = g[g['day'].eq(current_day)].sort_values(by='value', ascending=True).tail(10)\n",
    "#     ax.clear()\n",
    "#     ax.barh(dff['name'], dff['value'], color=[colors[group_lk[x]] for x in dff['name']])\n",
    "#     dx = dff['value'].max() / 200\n",
    "    \n",
    "#     for i, (value, name) in enumerate(zip(dff['value'], dff['name'])):\n",
    "#         ax.text(value-dx, i,     name,           size=14, weight=600, ha='right', va='bottom')\n",
    "#         ax.text(value-dx, i-.25, group_lk[name], size=10, color='#444444', ha='right', va='baseline')\n",
    "#         ax.text(value+dx, i,     f'{value:,.0f}',  size=14, ha='left',  va='center')\n",
    "#     ax.text(1, 0.4, current_day, transform=ax.transAxes, color='#777777', size=46, ha='right', weight=800)\n",
    "#     ax.text(0, 1.06, 'Population (thousands)', transform=ax.transAxes, size=12, color='#777777')\n",
    "#     ax.xaxis.set_major_formatter(ticker.StrMethodFormatter('{x:,.0f}'))\n",
    "#     ax.xaxis.set_ticks_position('top')\n",
    "#     ax.tick_params(axis='x', colors='#777777', labelsize=12)\n",
    "#     ax.set_yticks([])\n",
    "#     ax.margins(0, 0.01)\n",
    "#     ax.grid(which='major', axis='x', linestyle='-')\n",
    "#     ax.set_axisbelow(True)\n",
    "    \n",
    "#     ax.text(0, 1.15, 'Coronavirus',\n",
    "#             transform=ax.transAxes, size=24, weight=600, ha='left', va='top')\n",
    "# #     ax.text(1, 0, 'by @pratapvardhan; credit @jburnmurdoch', transform=ax.transAxes, color='#777777', ha='right',\n",
    "# #             bbox=dict(facecolor='white', alpha=0.8, edgecolor='white'))\n",
    "#     plt.box(False)"
   ]
  },
  {
   "cell_type": "code",
   "execution_count": 42,
   "id": "sexual-wages",
   "metadata": {
    "execution": {
     "iopub.execute_input": "2021-01-27T00:12:46.496432Z",
     "iopub.status.busy": "2021-01-27T00:12:46.495994Z",
     "iopub.status.idle": "2021-01-27T00:12:46.497904Z",
     "shell.execute_reply": "2021-01-27T00:12:46.497582Z"
    },
    "papermill": {
     "duration": 0.0345,
     "end_time": "2021-01-27T00:12:46.497986",
     "exception": false,
     "start_time": "2021-01-27T00:12:46.463486",
     "status": "completed"
    },
    "tags": []
   },
   "outputs": [],
   "source": [
    "# #hide_input\n",
    "# fig, ax = plt.subplots(figsize=(15, 8))\n",
    "# animator = animation.FuncAnimation(fig, draw_barchart, frames=range(g.day.values.min(), g.day.values.max()))\n",
    "# HTML(animator.to_jshtml())\n",
    "# # or use animator.to_html5_video() or animator.save() "
   ]
  },
  {
   "cell_type": "code",
   "execution_count": null,
   "id": "australian-container",
   "metadata": {
    "papermill": {
     "duration": 0.026552,
     "end_time": "2021-01-27T00:12:46.551113",
     "exception": false,
     "start_time": "2021-01-27T00:12:46.524561",
     "status": "completed"
    },
    "tags": []
   },
   "outputs": [],
   "source": []
  },
  {
   "cell_type": "code",
   "execution_count": null,
   "id": "mediterranean-pontiac",
   "metadata": {
    "papermill": {
     "duration": 0.026319,
     "end_time": "2021-01-27T00:12:46.604069",
     "exception": false,
     "start_time": "2021-01-27T00:12:46.577750",
     "status": "completed"
    },
    "tags": []
   },
   "outputs": [],
   "source": []
  },
  {
   "cell_type": "code",
   "execution_count": null,
   "id": "aging-legislature",
   "metadata": {
    "papermill": {
     "duration": 0.026055,
     "end_time": "2021-01-27T00:12:46.656982",
     "exception": false,
     "start_time": "2021-01-27T00:12:46.630927",
     "status": "completed"
    },
    "tags": []
   },
   "outputs": [],
   "source": []
  }
 ],
 "metadata": {
  "kernelspec": {
   "display_name": "Python 3",
   "language": "python",
   "name": "python3"
  },
  "language_info": {
   "codemirror_mode": {
    "name": "ipython",
    "version": 3
   },
   "file_extension": ".py",
   "mimetype": "text/x-python",
   "name": "python",
   "nbconvert_exporter": "python",
   "pygments_lexer": "ipython3",
   "version": "3.6.12"
  },
  "papermill": {
   "duration": 5.680514,
   "end_time": "2021-01-27T00:12:46.990972",
   "environment_variables": {},
   "exception": null,
   "input_path": "2020-03-21-covid19exp.ipynb",
   "output_path": "2020-03-21-covid19exp.ipynb",
   "parameters": {},
   "start_time": "2021-01-27T00:12:41.310458",
   "version": "2.0.0"
  }
 },
 "nbformat": 4,
 "nbformat_minor": 5
}