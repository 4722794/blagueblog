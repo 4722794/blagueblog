{
 "cells": [
  {
   "cell_type": "markdown",
   "id": "muslim-click",
   "metadata": {
    "papermill": {
     "duration": 0.047997,
     "end_time": "2022-10-22T01:02:27.420738",
     "exception": false,
     "start_time": "2022-10-22T01:02:27.372741",
     "status": "completed"
    },
    "tags": []
   },
   "source": [
    "# COVID-19 Case Race\n",
    "> A race chart to see rising cases around the world\n",
    "\n",
    "- author: Hargun Oberoi\n",
    "- image: images/covid-overview.png\n",
    "- hide: false\n",
    "- badges: false"
   ]
  },
  {
   "cell_type": "code",
   "execution_count": 1,
   "id": "proof-material",
   "metadata": {
    "execution": {
     "iopub.execute_input": "2022-10-22T01:02:27.514157Z",
     "iopub.status.busy": "2022-10-22T01:02:27.513410Z",
     "iopub.status.idle": "2022-10-22T01:02:27.929852Z",
     "shell.execute_reply": "2022-10-22T01:02:27.929275Z"
    },
    "papermill": {
     "duration": 0.469928,
     "end_time": "2022-10-22T01:02:27.930011",
     "exception": false,
     "start_time": "2022-10-22T01:02:27.460083",
     "status": "completed"
    },
    "tags": []
   },
   "outputs": [],
   "source": [
    "#hide\n",
    "import numpy as np\n",
    "import pandas as pd\n",
    "from jinja2 import Template\n",
    "from IPython.display import HTML"
   ]
  },
  {
   "cell_type": "code",
   "execution_count": 2,
   "id": "developed-terminology",
   "metadata": {
    "execution": {
     "iopub.execute_input": "2022-10-22T01:02:28.017197Z",
     "iopub.status.busy": "2022-10-22T01:02:28.016321Z",
     "iopub.status.idle": "2022-10-22T01:02:28.020038Z",
     "shell.execute_reply": "2022-10-22T01:02:28.019395Z"
    },
    "papermill": {
     "duration": 0.050175,
     "end_time": "2022-10-22T01:02:28.020178",
     "exception": false,
     "start_time": "2022-10-22T01:02:27.970003",
     "status": "completed"
    },
    "tags": []
   },
   "outputs": [],
   "source": [
    "#hide\n",
    "\n",
    "# FETCH\n",
    "base_url = 'https://raw.githubusercontent.com/pratapvardhan/notebooks/master/covid19/'\n",
    "paths = {\n",
    "    'mapping': base_url + 'mapping_countries.csv',\n",
    "    'overview': base_url + 'overview.tpl'\n",
    "}"
   ]
  },
  {
   "cell_type": "code",
   "execution_count": 3,
   "id": "dynamic-saver",
   "metadata": {
    "execution": {
     "iopub.execute_input": "2022-10-22T01:02:28.119068Z",
     "iopub.status.busy": "2022-10-22T01:02:28.118228Z",
     "iopub.status.idle": "2022-10-22T01:02:28.123184Z",
     "shell.execute_reply": "2022-10-22T01:02:28.122314Z"
    },
    "papermill": {
     "duration": 0.059896,
     "end_time": "2022-10-22T01:02:28.123337",
     "exception": false,
     "start_time": "2022-10-22T01:02:28.063441",
     "status": "completed"
    },
    "tags": []
   },
   "outputs": [
    {
     "data": {
      "text/plain": [
       "'https://raw.githubusercontent.com/pratapvardhan/notebooks/master/covid19/mapping_countries.csv'"
      ]
     },
     "execution_count": 3,
     "metadata": {},
     "output_type": "execute_result"
    }
   ],
   "source": [
    "#hide\n",
    "paths['mapping']"
   ]
  },
  {
   "cell_type": "code",
   "execution_count": 4,
   "id": "urban-software",
   "metadata": {
    "execution": {
     "iopub.execute_input": "2022-10-22T01:02:28.210420Z",
     "iopub.status.busy": "2022-10-22T01:02:28.209366Z",
     "iopub.status.idle": "2022-10-22T01:02:28.212552Z",
     "shell.execute_reply": "2022-10-22T01:02:28.211952Z"
    },
    "papermill": {
     "duration": 0.048088,
     "end_time": "2022-10-22T01:02:28.212687",
     "exception": false,
     "start_time": "2022-10-22T01:02:28.164599",
     "status": "completed"
    },
    "tags": []
   },
   "outputs": [],
   "source": [
    "#hide\n",
    "def get_mappings(url):\n",
    "    df = pd.read_csv(url)\n",
    "    return {\n",
    "        'df': df,\n",
    "        'replace.country': dict(df.dropna(subset=['Name']).set_index('Country')['Name']),\n",
    "        'map.continent': dict(df.set_index('Name')['Continent'])\n",
    "    }"
   ]
  },
  {
   "cell_type": "code",
   "execution_count": 5,
   "id": "intimate-machinery",
   "metadata": {
    "execution": {
     "iopub.execute_input": "2022-10-22T01:02:28.298229Z",
     "iopub.status.busy": "2022-10-22T01:02:28.297301Z",
     "iopub.status.idle": "2022-10-22T01:02:28.343920Z",
     "shell.execute_reply": "2022-10-22T01:02:28.343269Z"
    },
    "papermill": {
     "duration": 0.090799,
     "end_time": "2022-10-22T01:02:28.344067",
     "exception": false,
     "start_time": "2022-10-22T01:02:28.253268",
     "status": "completed"
    },
    "tags": []
   },
   "outputs": [],
   "source": [
    "#hide\n",
    "mapping = get_mappings(paths['mapping'])"
   ]
  },
  {
   "cell_type": "code",
   "execution_count": 6,
   "id": "certified-tactics",
   "metadata": {
    "execution": {
     "iopub.execute_input": "2022-10-22T01:02:28.430535Z",
     "iopub.status.busy": "2022-10-22T01:02:28.429783Z",
     "iopub.status.idle": "2022-10-22T01:02:28.432918Z",
     "shell.execute_reply": "2022-10-22T01:02:28.432247Z"
    },
    "papermill": {
     "duration": 0.048404,
     "end_time": "2022-10-22T01:02:28.433042",
     "exception": false,
     "start_time": "2022-10-22T01:02:28.384638",
     "status": "completed"
    },
    "tags": []
   },
   "outputs": [],
   "source": [
    "#hide\n",
    "def get_template(path):\n",
    "    from urllib.parse import urlparse\n",
    "    if bool(urlparse(path).netloc):\n",
    "        from urllib.request import urlopen\n",
    "        return urlopen(path).read().decode('utf8')\n",
    "    return open(path).read()"
   ]
  },
  {
   "cell_type": "code",
   "execution_count": 7,
   "id": "realistic-blast",
   "metadata": {
    "execution": {
     "iopub.execute_input": "2022-10-22T01:02:28.520211Z",
     "iopub.status.busy": "2022-10-22T01:02:28.519360Z",
     "iopub.status.idle": "2022-10-22T01:02:28.523306Z",
     "shell.execute_reply": "2022-10-22T01:02:28.522664Z"
    },
    "papermill": {
     "duration": 0.048352,
     "end_time": "2022-10-22T01:02:28.523450",
     "exception": false,
     "start_time": "2022-10-22T01:02:28.475098",
     "status": "completed"
    },
    "tags": []
   },
   "outputs": [],
   "source": [
    "#hide\n",
    "def get_frame(name):\n",
    "    url = (\n",
    "        'https://raw.githubusercontent.com/CSSEGISandData/COVID-19/master/csse_covid_19_data/'\n",
    "        f'csse_covid_19_time_series/time_series_covid19_{name}_global.csv')\n",
    "    df = pd.read_csv(url)\n",
    "    # rename countries\n",
    "    df['Country/Region'] = df['Country/Region'].replace(mapping['replace.country'])\n",
    "    return df"
   ]
  },
  {
   "cell_type": "code",
   "execution_count": 8,
   "id": "affiliated-characterization",
   "metadata": {
    "execution": {
     "iopub.execute_input": "2022-10-22T01:02:28.612116Z",
     "iopub.status.busy": "2022-10-22T01:02:28.611348Z",
     "iopub.status.idle": "2022-10-22T01:02:28.614270Z",
     "shell.execute_reply": "2022-10-22T01:02:28.614968Z"
    },
    "papermill": {
     "duration": 0.052775,
     "end_time": "2022-10-22T01:02:28.615192",
     "exception": false,
     "start_time": "2022-10-22T01:02:28.562417",
     "status": "completed"
    },
    "tags": []
   },
   "outputs": [],
   "source": [
    "#hide\n",
    "def get_dates(df):\n",
    "    dt_cols = df.columns[~df.columns.isin(['Province/State', 'Country/Region', 'Lat', 'Long'])]\n",
    "    LAST_DATE_I = -1\n",
    "    # sometimes last column may be empty, then go backwards\n",
    "    for i in range(-1, -len(dt_cols), -1):\n",
    "        if not df[dt_cols[i]].fillna(0).eq(0).all():\n",
    "            LAST_DATE_I = i\n",
    "            break\n",
    "    return LAST_DATE_I, dt_cols"
   ]
  },
  {
   "cell_type": "code",
   "execution_count": 9,
   "id": "recent-optimization",
   "metadata": {
    "execution": {
     "iopub.execute_input": "2022-10-22T01:02:28.702314Z",
     "iopub.status.busy": "2022-10-22T01:02:28.701470Z",
     "iopub.status.idle": "2022-10-22T01:02:29.339053Z",
     "shell.execute_reply": "2022-10-22T01:02:29.338411Z"
    },
    "papermill": {
     "duration": 0.685214,
     "end_time": "2022-10-22T01:02:29.339190",
     "exception": false,
     "start_time": "2022-10-22T01:02:28.653976",
     "status": "completed"
    },
    "tags": []
   },
   "outputs": [],
   "source": [
    "#hide\n",
    "COL_REGION = 'Country/Region'\n",
    "# Confirmed, Recovered, Deaths\n",
    "df = get_frame('confirmed')\n",
    "# dft_: timeseries, dfc_: today country agg\n",
    "dft_cases = df\n",
    "dft_deaths = get_frame('deaths')\n",
    "dft_recovered = get_frame('recovered')\n",
    "LAST_DATE_I, dt_cols = get_dates(df)"
   ]
  },
  {
   "cell_type": "code",
   "execution_count": 10,
   "id": "absolute-copper",
   "metadata": {
    "execution": {
     "iopub.execute_input": "2022-10-22T01:02:29.428038Z",
     "iopub.status.busy": "2022-10-22T01:02:29.427199Z",
     "iopub.status.idle": "2022-10-22T01:02:29.430879Z",
     "shell.execute_reply": "2022-10-22T01:02:29.430102Z"
    },
    "papermill": {
     "duration": 0.051632,
     "end_time": "2022-10-22T01:02:29.431019",
     "exception": false,
     "start_time": "2022-10-22T01:02:29.379387",
     "status": "completed"
    },
    "tags": []
   },
   "outputs": [],
   "source": [
    "#hide\n",
    "LAST_DATE_I, dt_cols = get_dates(df)\n",
    "dt_today =dt_cols[LAST_DATE_I]\n",
    "# dt_5day = dt_cols[LAST_DATE_I - 5]\n",
    "dt_yday = dt_cols[LAST_DATE_I - 1]"
   ]
  },
  {
   "cell_type": "code",
   "execution_count": 11,
   "id": "restricted-sheriff",
   "metadata": {
    "execution": {
     "iopub.execute_input": "2022-10-22T01:02:29.519406Z",
     "iopub.status.busy": "2022-10-22T01:02:29.518442Z",
     "iopub.status.idle": "2022-10-22T01:02:29.528016Z",
     "shell.execute_reply": "2022-10-22T01:02:29.528723Z"
    },
    "papermill": {
     "duration": 0.058107,
     "end_time": "2022-10-22T01:02:29.528882",
     "exception": false,
     "start_time": "2022-10-22T01:02:29.470775",
     "status": "completed"
    },
    "tags": []
   },
   "outputs": [],
   "source": [
    "#hide\n",
    "dfc_cases = dft_cases.groupby(COL_REGION)[dt_today].sum()\n",
    "dfc_deaths = dft_deaths.groupby(COL_REGION)[dt_today].sum()\n",
    "# dfp_cases = dft_cases.groupby(COL_REGION)[dt_5day].sum()\n",
    "# dfp_deaths = dft_deaths.groupby(COL_REGION)[dt_5day].sum()\n",
    "dfp_cases = dft_cases.groupby(COL_REGION)[dt_yday].sum()\n",
    "dfp_deaths = dft_deaths.groupby(COL_REGION)[dt_yday].sum()"
   ]
  },
  {
   "cell_type": "code",
   "execution_count": 12,
   "id": "deluxe-hepatitis",
   "metadata": {
    "execution": {
     "iopub.execute_input": "2022-10-22T01:02:29.618535Z",
     "iopub.status.busy": "2022-10-22T01:02:29.617575Z",
     "iopub.status.idle": "2022-10-22T01:02:29.624078Z",
     "shell.execute_reply": "2022-10-22T01:02:29.623464Z"
    },
    "papermill": {
     "duration": 0.053916,
     "end_time": "2022-10-22T01:02:29.624243",
     "exception": false,
     "start_time": "2022-10-22T01:02:29.570327",
     "status": "completed"
    },
    "tags": []
   },
   "outputs": [],
   "source": [
    "#hide\n",
    "df_table = (pd.DataFrame(dict(Cases = dfc_cases, Deaths = dfc_deaths, PCases = dfp_cases, PDeaths = dfp_deaths))\n",
    "            .sort_values(by = ['Cases','Deaths'], ascending = [False, False])\n",
    "            .reset_index())"
   ]
  },
  {
   "cell_type": "code",
   "execution_count": 13,
   "id": "educational-chancellor",
   "metadata": {
    "execution": {
     "iopub.execute_input": "2022-10-22T01:02:29.730866Z",
     "iopub.status.busy": "2022-10-22T01:02:29.729834Z",
     "iopub.status.idle": "2022-10-22T01:02:29.739931Z",
     "shell.execute_reply": "2022-10-22T01:02:29.740734Z"
    },
    "papermill": {
     "duration": 0.073725,
     "end_time": "2022-10-22T01:02:29.740914",
     "exception": false,
     "start_time": "2022-10-22T01:02:29.667189",
     "status": "completed"
    },
    "tags": []
   },
   "outputs": [
    {
     "data": {
      "text/html": [
       "<div>\n",
       "<style scoped>\n",
       "    .dataframe tbody tr th:only-of-type {\n",
       "        vertical-align: middle;\n",
       "    }\n",
       "\n",
       "    .dataframe tbody tr th {\n",
       "        vertical-align: top;\n",
       "    }\n",
       "\n",
       "    .dataframe thead th {\n",
       "        text-align: right;\n",
       "    }\n",
       "</style>\n",
       "<table border=\"1\" class=\"dataframe\">\n",
       "  <thead>\n",
       "    <tr style=\"text-align: right;\">\n",
       "      <th></th>\n",
       "      <th>Country/Region</th>\n",
       "      <th>Cases</th>\n",
       "      <th>Deaths</th>\n",
       "      <th>PCases</th>\n",
       "      <th>PDeaths</th>\n",
       "      <th>Cases (+)</th>\n",
       "      <th>Deaths (+)</th>\n",
       "      <th>Fatality Rate</th>\n",
       "      <th>Continent</th>\n",
       "    </tr>\n",
       "  </thead>\n",
       "  <tbody>\n",
       "    <tr>\n",
       "      <th>0</th>\n",
       "      <td>US</td>\n",
       "      <td>97140151</td>\n",
       "      <td>1067105</td>\n",
       "      <td>97083609</td>\n",
       "      <td>1066573</td>\n",
       "      <td>56542</td>\n",
       "      <td>532</td>\n",
       "      <td>1.10</td>\n",
       "      <td>North America</td>\n",
       "    </tr>\n",
       "    <tr>\n",
       "      <th>1</th>\n",
       "      <td>India</td>\n",
       "      <td>44638636</td>\n",
       "      <td>528953</td>\n",
       "      <td>44636517</td>\n",
       "      <td>528943</td>\n",
       "      <td>2119</td>\n",
       "      <td>10</td>\n",
       "      <td>1.18</td>\n",
       "      <td>Asia</td>\n",
       "    </tr>\n",
       "    <tr>\n",
       "      <th>2</th>\n",
       "      <td>France</td>\n",
       "      <td>36692887</td>\n",
       "      <td>157296</td>\n",
       "      <td>36636069</td>\n",
       "      <td>157227</td>\n",
       "      <td>56818</td>\n",
       "      <td>69</td>\n",
       "      <td>0.43</td>\n",
       "      <td>Europe</td>\n",
       "    </tr>\n",
       "    <tr>\n",
       "      <th>3</th>\n",
       "      <td>Germany</td>\n",
       "      <td>35098062</td>\n",
       "      <td>152278</td>\n",
       "      <td>35005769</td>\n",
       "      <td>152100</td>\n",
       "      <td>92293</td>\n",
       "      <td>178</td>\n",
       "      <td>0.43</td>\n",
       "      <td>Europe</td>\n",
       "    </tr>\n",
       "    <tr>\n",
       "      <th>4</th>\n",
       "      <td>Brazil</td>\n",
       "      <td>34771320</td>\n",
       "      <td>687423</td>\n",
       "      <td>34771320</td>\n",
       "      <td>687423</td>\n",
       "      <td>0</td>\n",
       "      <td>0</td>\n",
       "      <td>1.98</td>\n",
       "      <td>South America</td>\n",
       "    </tr>\n",
       "  </tbody>\n",
       "</table>\n",
       "</div>"
      ],
      "text/plain": [
       "  Country/Region     Cases   Deaths    PCases  PDeaths  Cases (+)  Deaths (+)  \\\n",
       "0             US  97140151  1067105  97083609  1066573      56542         532   \n",
       "1          India  44638636   528953  44636517   528943       2119          10   \n",
       "2         France  36692887   157296  36636069   157227      56818          69   \n",
       "3        Germany  35098062   152278  35005769   152100      92293         178   \n",
       "4         Brazil  34771320   687423  34771320   687423          0           0   \n",
       "\n",
       "   Fatality Rate      Continent  \n",
       "0           1.10  North America  \n",
       "1           1.18           Asia  \n",
       "2           0.43         Europe  \n",
       "3           0.43         Europe  \n",
       "4           1.98  South America  "
      ]
     },
     "execution_count": 13,
     "metadata": {},
     "output_type": "execute_result"
    }
   ],
   "source": [
    "#hide\n",
    "for c in 'Cases, Deaths'.split(', '):\n",
    "    df_table[f'{c} (+)'] = (df_table[c] - df_table[f'P{c}']).clip(0)\n",
    "    #Clip ça veut dire, les chiffres negatif sont interdit\n",
    "df_table['Fatality Rate'] = (100* df_table['Deaths']/ df_table['Cases']).round(2)\n",
    "df_table['Continent'] = df_table['Country/Region'].map(mapping['map.continent'])\n",
    "df_table.head(5)"
   ]
  },
  {
   "cell_type": "code",
   "execution_count": 14,
   "id": "aboriginal-bulgaria",
   "metadata": {
    "execution": {
     "iopub.execute_input": "2022-10-22T01:02:29.831284Z",
     "iopub.status.busy": "2022-10-22T01:02:29.830521Z",
     "iopub.status.idle": "2022-10-22T01:02:29.834320Z",
     "shell.execute_reply": "2022-10-22T01:02:29.833660Z"
    },
    "papermill": {
     "duration": 0.052846,
     "end_time": "2022-10-22T01:02:29.834485",
     "exception": false,
     "start_time": "2022-10-22T01:02:29.781639",
     "status": "completed"
    },
    "tags": []
   },
   "outputs": [],
   "source": [
    "#hide\n",
    "#delete problematic countries from table\n",
    "df_table = df_table[~df_table['Country/Region'].isin(['Cape Verde', 'Cruise Ship', 'Kosovo'])]"
   ]
  },
  {
   "cell_type": "code",
   "execution_count": 15,
   "id": "fantastic-effect",
   "metadata": {
    "execution": {
     "iopub.execute_input": "2022-10-22T01:02:29.925505Z",
     "iopub.status.busy": "2022-10-22T01:02:29.924594Z",
     "iopub.status.idle": "2022-10-22T01:02:29.948954Z",
     "shell.execute_reply": "2022-10-22T01:02:29.949680Z"
    },
    "papermill": {
     "duration": 0.074184,
     "end_time": "2022-10-22T01:02:29.949849",
     "exception": false,
     "start_time": "2022-10-22T01:02:29.875665",
     "status": "completed"
    },
    "tags": []
   },
   "outputs": [
    {
     "data": {
      "text/html": [
       "<div>\n",
       "<style scoped>\n",
       "    .dataframe tbody tr th:only-of-type {\n",
       "        vertical-align: middle;\n",
       "    }\n",
       "\n",
       "    .dataframe tbody tr th {\n",
       "        vertical-align: top;\n",
       "    }\n",
       "\n",
       "    .dataframe thead th {\n",
       "        text-align: right;\n",
       "    }\n",
       "</style>\n",
       "<table border=\"1\" class=\"dataframe\">\n",
       "  <thead>\n",
       "    <tr style=\"text-align: right;\">\n",
       "      <th></th>\n",
       "      <th>Country/Region</th>\n",
       "      <th>Cases</th>\n",
       "      <th>Deaths</th>\n",
       "      <th>PCases</th>\n",
       "      <th>PDeaths</th>\n",
       "      <th>Cases (+)</th>\n",
       "      <th>Deaths (+)</th>\n",
       "      <th>Fatality Rate</th>\n",
       "      <th>Continent</th>\n",
       "    </tr>\n",
       "  </thead>\n",
       "  <tbody>\n",
       "    <tr>\n",
       "      <th>0</th>\n",
       "      <td>US</td>\n",
       "      <td>97140151</td>\n",
       "      <td>1067105</td>\n",
       "      <td>97083609</td>\n",
       "      <td>1066573</td>\n",
       "      <td>56542</td>\n",
       "      <td>532</td>\n",
       "      <td>1.1</td>\n",
       "      <td>North America</td>\n",
       "    </tr>\n",
       "    <tr>\n",
       "      <th>1</th>\n",
       "      <td>India</td>\n",
       "      <td>44638636</td>\n",
       "      <td>528953</td>\n",
       "      <td>44636517</td>\n",
       "      <td>528943</td>\n",
       "      <td>2119</td>\n",
       "      <td>10</td>\n",
       "      <td>1.2</td>\n",
       "      <td>Asia</td>\n",
       "    </tr>\n",
       "    <tr>\n",
       "      <th>2</th>\n",
       "      <td>France</td>\n",
       "      <td>36692887</td>\n",
       "      <td>157296</td>\n",
       "      <td>36636069</td>\n",
       "      <td>157227</td>\n",
       "      <td>56818</td>\n",
       "      <td>69</td>\n",
       "      <td>0.4</td>\n",
       "      <td>Europe</td>\n",
       "    </tr>\n",
       "    <tr>\n",
       "      <th>3</th>\n",
       "      <td>Germany</td>\n",
       "      <td>35098062</td>\n",
       "      <td>152278</td>\n",
       "      <td>35005769</td>\n",
       "      <td>152100</td>\n",
       "      <td>92293</td>\n",
       "      <td>178</td>\n",
       "      <td>0.4</td>\n",
       "      <td>Europe</td>\n",
       "    </tr>\n",
       "    <tr>\n",
       "      <th>4</th>\n",
       "      <td>Brazil</td>\n",
       "      <td>34771320</td>\n",
       "      <td>687423</td>\n",
       "      <td>34771320</td>\n",
       "      <td>687423</td>\n",
       "      <td>0</td>\n",
       "      <td>0</td>\n",
       "      <td>2.0</td>\n",
       "      <td>South America</td>\n",
       "    </tr>\n",
       "  </tbody>\n",
       "</table>\n",
       "</div>"
      ],
      "text/plain": [
       "  Country/Region     Cases   Deaths    PCases  PDeaths  Cases (+)  Deaths (+)  \\\n",
       "0             US  97140151  1067105  97083609  1066573      56542         532   \n",
       "1          India  44638636   528953  44636517   528943       2119          10   \n",
       "2         France  36692887   157296  36636069   157227      56818          69   \n",
       "3        Germany  35098062   152278  35005769   152100      92293         178   \n",
       "4         Brazil  34771320   687423  34771320   687423          0           0   \n",
       "\n",
       "   Fatality Rate      Continent  \n",
       "0            1.1  North America  \n",
       "1            1.2           Asia  \n",
       "2            0.4         Europe  \n",
       "3            0.4         Europe  \n",
       "4            2.0  South America  "
      ]
     },
     "execution_count": 15,
     "metadata": {},
     "output_type": "execute_result"
    }
   ],
   "source": [
    "#hide\n",
    "df_table = (pd.DataFrame(dict(Cases=dfc_cases, Deaths=dfc_deaths, PCases=dfp_cases, PDeaths=dfp_deaths))\n",
    "             .sort_values(by=['Cases', 'Deaths'], ascending=[False, False])\n",
    "             .reset_index())\n",
    "df_table.rename(columns={'index': 'Country/Region'}, inplace=True)\n",
    "for c in 'Cases, Deaths'.split(', '):\n",
    "    df_table[f'{c} (+)'] = (df_table[c] - df_table[f'P{c}']).clip(0)  # DATA BUG\n",
    "df_table['Fatality Rate'] = (100 * df_table['Deaths'] / df_table['Cases']).round(1)\n",
    "df_table['Continent'] = df_table['Country/Region'].map(mapping['map.continent'])\n",
    "df_table.head(5)"
   ]
  },
  {
   "cell_type": "code",
   "execution_count": 16,
   "id": "fewer-occasion",
   "metadata": {
    "execution": {
     "iopub.execute_input": "2022-10-22T01:02:30.040484Z",
     "iopub.status.busy": "2022-10-22T01:02:30.039600Z",
     "iopub.status.idle": "2022-10-22T01:02:30.043856Z",
     "shell.execute_reply": "2022-10-22T01:02:30.044618Z"
    },
    "papermill": {
     "duration": 0.054205,
     "end_time": "2022-10-22T01:02:30.044771",
     "exception": false,
     "start_time": "2022-10-22T01:02:29.990566",
     "status": "completed"
    },
    "tags": []
   },
   "outputs": [],
   "source": [
    "#hide\n",
    "#delete problematic countries from table\n",
    "df_table = df_table[~df_table['Country/Region'].isin(['Cape Verde', 'Cruise Ship', 'Kosovo'])]"
   ]
  },
  {
   "cell_type": "code",
   "execution_count": 17,
   "id": "related-center",
   "metadata": {
    "execution": {
     "iopub.execute_input": "2022-10-22T01:02:30.149798Z",
     "iopub.status.busy": "2022-10-22T01:02:30.148934Z",
     "iopub.status.idle": "2022-10-22T01:02:30.152111Z",
     "shell.execute_reply": "2022-10-22T01:02:30.152975Z"
    },
    "papermill": {
     "duration": 0.066678,
     "end_time": "2022-10-22T01:02:30.153131",
     "exception": false,
     "start_time": "2022-10-22T01:02:30.086453",
     "status": "completed"
    },
    "tags": []
   },
   "outputs": [],
   "source": [
    "#hide\n",
    "metrics = [df_table.columns[index] for index in [1,2,5,6]]\n",
    "# s_china = df_table[df_table['Country/Region'].eq('China')][metrics].sum().add_prefix('China ')\n",
    "s_us = df_table[df_table['Country/Region'].eq('US')][metrics].sum().add_prefix('US ')\n",
    "s_eu = df_table[df_table['Continent'].eq('Europe')][metrics].sum().add_prefix('EU ')\n",
    "s_ind = df_table[df_table['Country/Region'].eq('India')][metrics].sum().add_prefix('India ')\n",
    "summary = {'updated': pd.to_datetime(dt_today), 'since': pd.to_datetime(dt_yday)}\n",
    "summary = {'updated': pd.to_datetime(dt_today), 'since': pd.to_datetime(dt_yday)}\n",
    "summary = {**summary, **df_table[metrics].sum(), **s_ind, **s_us, **s_eu}"
   ]
  },
  {
   "cell_type": "code",
   "execution_count": 18,
   "id": "engaging-syndrome",
   "metadata": {
    "execution": {
     "iopub.execute_input": "2022-10-22T01:02:30.239195Z",
     "iopub.status.busy": "2022-10-22T01:02:30.238395Z",
     "iopub.status.idle": "2022-10-22T01:02:30.262003Z",
     "shell.execute_reply": "2022-10-22T01:02:30.261336Z"
    },
    "papermill": {
     "duration": 0.069219,
     "end_time": "2022-10-22T01:02:30.262157",
     "exception": false,
     "start_time": "2022-10-22T01:02:30.192938",
     "status": "completed"
    },
    "tags": []
   },
   "outputs": [],
   "source": [
    "#hide\n",
    "dft_ct_new_cases = dft_cases.groupby(COL_REGION)[dt_cols].sum().diff(axis=1).fillna(0).astype(int)"
   ]
  },
  {
   "cell_type": "code",
   "execution_count": 19,
   "id": "neutral-assignment",
   "metadata": {
    "execution": {
     "iopub.execute_input": "2022-10-22T01:02:30.358047Z",
     "iopub.status.busy": "2022-10-22T01:02:30.357288Z",
     "iopub.status.idle": "2022-10-22T01:02:30.360173Z",
     "shell.execute_reply": "2022-10-22T01:02:30.360923Z"
    },
    "papermill": {
     "duration": 0.054904,
     "end_time": "2022-10-22T01:02:30.361131",
     "exception": false,
     "start_time": "2022-10-22T01:02:30.306227",
     "status": "completed"
    },
    "tags": []
   },
   "outputs": [],
   "source": [
    "#hide\n",
    "everydaycases = dft_ct_new_cases.cumsum(axis=1)"
   ]
  },
  {
   "cell_type": "code",
   "execution_count": 20,
   "id": "parliamentary-calgary",
   "metadata": {
    "execution": {
     "iopub.execute_input": "2022-10-22T01:02:30.455071Z",
     "iopub.status.busy": "2022-10-22T01:02:30.454318Z",
     "iopub.status.idle": "2022-10-22T01:02:31.212434Z",
     "shell.execute_reply": "2022-10-22T01:02:31.211242Z"
    },
    "papermill": {
     "duration": 0.804717,
     "end_time": "2022-10-22T01:02:31.212586",
     "exception": false,
     "start_time": "2022-10-22T01:02:30.407869",
     "status": "completed"
    },
    "tags": []
   },
   "outputs": [],
   "source": [
    "#hide\n",
    "import pandas as pd\n",
    "import matplotlib.pyplot as plt\n",
    "import matplotlib.ticker as ticker\n",
    "import matplotlib.animation as animation\n",
    "from IPython.display import HTML"
   ]
  },
  {
   "cell_type": "code",
   "execution_count": 21,
   "id": "lasting-extraction",
   "metadata": {
    "execution": {
     "iopub.execute_input": "2022-10-22T01:02:31.309469Z",
     "iopub.status.busy": "2022-10-22T01:02:31.308559Z",
     "iopub.status.idle": "2022-10-22T01:02:31.323307Z",
     "shell.execute_reply": "2022-10-22T01:02:31.322580Z"
    },
    "papermill": {
     "duration": 0.065495,
     "end_time": "2022-10-22T01:02:31.323463",
     "exception": false,
     "start_time": "2022-10-22T01:02:31.257968",
     "status": "completed"
    },
    "tags": []
   },
   "outputs": [],
   "source": [
    "#hide\n",
    "t = everydaycases.stack()"
   ]
  },
  {
   "cell_type": "code",
   "execution_count": 22,
   "id": "premier-sleeve",
   "metadata": {
    "execution": {
     "iopub.execute_input": "2022-10-22T01:02:31.419728Z",
     "iopub.status.busy": "2022-10-22T01:02:31.418891Z",
     "iopub.status.idle": "2022-10-22T01:02:31.435225Z",
     "shell.execute_reply": "2022-10-22T01:02:31.434563Z"
    },
    "papermill": {
     "duration": 0.067139,
     "end_time": "2022-10-22T01:02:31.435370",
     "exception": false,
     "start_time": "2022-10-22T01:02:31.368231",
     "status": "completed"
    },
    "tags": []
   },
   "outputs": [],
   "source": [
    "#hide\n",
    "g = t.reset_index(['Country/Region'])"
   ]
  },
  {
   "cell_type": "code",
   "execution_count": 23,
   "id": "distributed-pittsburgh",
   "metadata": {
    "execution": {
     "iopub.execute_input": "2022-10-22T01:02:31.530917Z",
     "iopub.status.busy": "2022-10-22T01:02:31.530044Z",
     "iopub.status.idle": "2022-10-22T01:02:31.533645Z",
     "shell.execute_reply": "2022-10-22T01:02:31.532975Z"
    },
    "papermill": {
     "duration": 0.056836,
     "end_time": "2022-10-22T01:02:31.533870",
     "exception": false,
     "start_time": "2022-10-22T01:02:31.477034",
     "status": "completed"
    },
    "tags": []
   },
   "outputs": [],
   "source": [
    "#hide\n",
    "g.index.name = 'date'"
   ]
  },
  {
   "cell_type": "code",
   "execution_count": 24,
   "id": "naked-donor",
   "metadata": {
    "execution": {
     "iopub.execute_input": "2022-10-22T01:02:31.625641Z",
     "iopub.status.busy": "2022-10-22T01:02:31.624800Z",
     "iopub.status.idle": "2022-10-22T01:02:31.629430Z",
     "shell.execute_reply": "2022-10-22T01:02:31.630005Z"
    },
    "papermill": {
     "duration": 0.053764,
     "end_time": "2022-10-22T01:02:31.630157",
     "exception": false,
     "start_time": "2022-10-22T01:02:31.576393",
     "status": "completed"
    },
    "tags": []
   },
   "outputs": [],
   "source": [
    "# #hide\n",
    "# g = g.reset_index(['date'])"
   ]
  },
  {
   "cell_type": "code",
   "execution_count": 25,
   "id": "incomplete-mustang",
   "metadata": {
    "execution": {
     "iopub.execute_input": "2022-10-22T01:02:31.717156Z",
     "iopub.status.busy": "2022-10-22T01:02:31.716413Z",
     "iopub.status.idle": "2022-10-22T01:02:31.720464Z",
     "shell.execute_reply": "2022-10-22T01:02:31.721204Z"
    },
    "papermill": {
     "duration": 0.048309,
     "end_time": "2022-10-22T01:02:31.721365",
     "exception": false,
     "start_time": "2022-10-22T01:02:31.673056",
     "status": "completed"
    },
    "tags": []
   },
   "outputs": [],
   "source": [
    "#hide\n",
    "# g.head()"
   ]
  },
  {
   "cell_type": "code",
   "execution_count": 26,
   "id": "specific-kruger",
   "metadata": {
    "execution": {
     "iopub.execute_input": "2022-10-22T01:02:31.808350Z",
     "iopub.status.busy": "2022-10-22T01:02:31.807578Z",
     "iopub.status.idle": "2022-10-22T01:02:31.810531Z",
     "shell.execute_reply": "2022-10-22T01:02:31.811419Z"
    },
    "papermill": {
     "duration": 0.049753,
     "end_time": "2022-10-22T01:02:31.811594",
     "exception": false,
     "start_time": "2022-10-22T01:02:31.761841",
     "status": "completed"
    },
    "tags": []
   },
   "outputs": [],
   "source": [
    "#hide\n",
    "# g.columns = ['date','country','cases']"
   ]
  },
  {
   "cell_type": "code",
   "execution_count": 27,
   "id": "tender-conversion",
   "metadata": {
    "execution": {
     "iopub.execute_input": "2022-10-22T01:02:31.904799Z",
     "iopub.status.busy": "2022-10-22T01:02:31.904020Z",
     "iopub.status.idle": "2022-10-22T01:02:31.907966Z",
     "shell.execute_reply": "2022-10-22T01:02:31.907192Z"
    },
    "papermill": {
     "duration": 0.051337,
     "end_time": "2022-10-22T01:02:31.908168",
     "exception": false,
     "start_time": "2022-10-22T01:02:31.856831",
     "status": "completed"
    },
    "tags": []
   },
   "outputs": [],
   "source": [
    "#hide\n",
    "# g['continent'] = g.country"
   ]
  },
  {
   "cell_type": "code",
   "execution_count": 28,
   "id": "substantial-wilderness",
   "metadata": {
    "execution": {
     "iopub.execute_input": "2022-10-22T01:02:31.999941Z",
     "iopub.status.busy": "2022-10-22T01:02:31.999111Z",
     "iopub.status.idle": "2022-10-22T01:02:32.002551Z",
     "shell.execute_reply": "2022-10-22T01:02:32.001839Z"
    },
    "papermill": {
     "duration": 0.050907,
     "end_time": "2022-10-22T01:02:32.002692",
     "exception": false,
     "start_time": "2022-10-22T01:02:31.951785",
     "status": "completed"
    },
    "tags": []
   },
   "outputs": [],
   "source": [
    "#hide\n",
    "# cols = list(g.columns.values)"
   ]
  },
  {
   "cell_type": "code",
   "execution_count": 29,
   "id": "solved-farming",
   "metadata": {
    "execution": {
     "iopub.execute_input": "2022-10-22T01:02:32.095582Z",
     "iopub.status.busy": "2022-10-22T01:02:32.094753Z",
     "iopub.status.idle": "2022-10-22T01:02:32.098473Z",
     "shell.execute_reply": "2022-10-22T01:02:32.097742Z"
    },
    "papermill": {
     "duration": 0.052884,
     "end_time": "2022-10-22T01:02:32.098645",
     "exception": false,
     "start_time": "2022-10-22T01:02:32.045761",
     "status": "completed"
    },
    "tags": []
   },
   "outputs": [],
   "source": [
    "#hide\n",
    "# cols.insert(0, cols.pop())"
   ]
  },
  {
   "cell_type": "code",
   "execution_count": 30,
   "id": "executed-adoption",
   "metadata": {
    "execution": {
     "iopub.execute_input": "2022-10-22T01:02:32.188837Z",
     "iopub.status.busy": "2022-10-22T01:02:32.187968Z",
     "iopub.status.idle": "2022-10-22T01:02:32.194407Z",
     "shell.execute_reply": "2022-10-22T01:02:32.195101Z"
    },
    "papermill": {
     "duration": 0.054075,
     "end_time": "2022-10-22T01:02:32.195283",
     "exception": false,
     "start_time": "2022-10-22T01:02:32.141208",
     "status": "completed"
    },
    "tags": []
   },
   "outputs": [],
   "source": [
    "#hide\n",
    "# g = g[cols]"
   ]
  },
  {
   "cell_type": "code",
   "execution_count": 31,
   "id": "subject-dublin",
   "metadata": {
    "execution": {
     "iopub.execute_input": "2022-10-22T01:02:32.285284Z",
     "iopub.status.busy": "2022-10-22T01:02:32.284491Z",
     "iopub.status.idle": "2022-10-22T01:02:32.287542Z",
     "shell.execute_reply": "2022-10-22T01:02:32.286737Z"
    },
    "papermill": {
     "duration": 0.050738,
     "end_time": "2022-10-22T01:02:32.287683",
     "exception": false,
     "start_time": "2022-10-22T01:02:32.236945",
     "status": "completed"
    },
    "tags": []
   },
   "outputs": [],
   "source": [
    "#hide\n",
    "# g['continent'] = g['continent'].map(mapping['map.continent'])"
   ]
  },
  {
   "cell_type": "code",
   "execution_count": 32,
   "id": "freelance-scout",
   "metadata": {
    "execution": {
     "iopub.execute_input": "2022-10-22T01:02:32.395459Z",
     "iopub.status.busy": "2022-10-22T01:02:32.394657Z",
     "iopub.status.idle": "2022-10-22T01:02:32.398068Z",
     "shell.execute_reply": "2022-10-22T01:02:32.397449Z"
    },
    "papermill": {
     "duration": 0.059689,
     "end_time": "2022-10-22T01:02:32.398278",
     "exception": false,
     "start_time": "2022-10-22T01:02:32.338589",
     "status": "completed"
    },
    "tags": []
   },
   "outputs": [],
   "source": [
    "#hide\n",
    "# g.head()"
   ]
  },
  {
   "cell_type": "code",
   "execution_count": 33,
   "id": "limited-engine",
   "metadata": {
    "execution": {
     "iopub.execute_input": "2022-10-22T01:02:32.503914Z",
     "iopub.status.busy": "2022-10-22T01:02:32.503130Z",
     "iopub.status.idle": "2022-10-22T01:02:32.506988Z",
     "shell.execute_reply": "2022-10-22T01:02:32.506156Z"
    },
    "papermill": {
     "duration": 0.061251,
     "end_time": "2022-10-22T01:02:32.507190",
     "exception": false,
     "start_time": "2022-10-22T01:02:32.445939",
     "status": "completed"
    },
    "tags": []
   },
   "outputs": [],
   "source": [
    "# hide\n",
    "# g['date'] = g['date'].astype('datetime64[ns]')"
   ]
  },
  {
   "cell_type": "code",
   "execution_count": 34,
   "id": "sophisticated-supervisor",
   "metadata": {
    "execution": {
     "iopub.execute_input": "2022-10-22T01:02:32.597979Z",
     "iopub.status.busy": "2022-10-22T01:02:32.597076Z",
     "iopub.status.idle": "2022-10-22T01:02:32.600297Z",
     "shell.execute_reply": "2022-10-22T01:02:32.599668Z"
    },
    "papermill": {
     "duration": 0.04888,
     "end_time": "2022-10-22T01:02:32.600466",
     "exception": false,
     "start_time": "2022-10-22T01:02:32.551586",
     "status": "completed"
    },
    "tags": []
   },
   "outputs": [],
   "source": [
    "#hide\n",
    "# g['date'] = g.date.dt.dayofyear"
   ]
  },
  {
   "cell_type": "code",
   "execution_count": 35,
   "id": "inside-dubai",
   "metadata": {
    "execution": {
     "iopub.execute_input": "2022-10-22T01:02:32.690609Z",
     "iopub.status.busy": "2022-10-22T01:02:32.689635Z",
     "iopub.status.idle": "2022-10-22T01:02:32.691782Z",
     "shell.execute_reply": "2022-10-22T01:02:32.692535Z"
    },
    "papermill": {
     "duration": 0.049391,
     "end_time": "2022-10-22T01:02:32.692711",
     "exception": false,
     "start_time": "2022-10-22T01:02:32.643320",
     "status": "completed"
    },
    "tags": []
   },
   "outputs": [],
   "source": [
    "#hide\n",
    "# g = g.rename(columns= {'continent':'group','country':'name','cases':'value'})"
   ]
  },
  {
   "cell_type": "code",
   "execution_count": 36,
   "id": "fleet-motorcycle",
   "metadata": {
    "execution": {
     "iopub.execute_input": "2022-10-22T01:02:32.786461Z",
     "iopub.status.busy": "2022-10-22T01:02:32.784913Z",
     "iopub.status.idle": "2022-10-22T01:02:32.790664Z",
     "shell.execute_reply": "2022-10-22T01:02:32.789974Z"
    },
    "papermill": {
     "duration": 0.054642,
     "end_time": "2022-10-22T01:02:32.790808",
     "exception": false,
     "start_time": "2022-10-22T01:02:32.736166",
     "status": "completed"
    },
    "tags": []
   },
   "outputs": [],
   "source": [
    "#hide\n",
    "# cols = ['name','group','day','value']"
   ]
  },
  {
   "cell_type": "code",
   "execution_count": 37,
   "id": "continued-sleeping",
   "metadata": {
    "execution": {
     "iopub.execute_input": "2022-10-22T01:02:32.886866Z",
     "iopub.status.busy": "2022-10-22T01:02:32.886030Z",
     "iopub.status.idle": "2022-10-22T01:02:32.888910Z",
     "shell.execute_reply": "2022-10-22T01:02:32.889515Z"
    },
    "papermill": {
     "duration": 0.054028,
     "end_time": "2022-10-22T01:02:32.889670",
     "exception": false,
     "start_time": "2022-10-22T01:02:32.835642",
     "status": "completed"
    },
    "tags": []
   },
   "outputs": [],
   "source": [
    "#hide\n",
    "# g.rename(columns= {'date':'day'},inplace = True)"
   ]
  },
  {
   "cell_type": "code",
   "execution_count": 38,
   "id": "major-fight",
   "metadata": {
    "execution": {
     "iopub.execute_input": "2022-10-22T01:02:32.979709Z",
     "iopub.status.busy": "2022-10-22T01:02:32.978084Z",
     "iopub.status.idle": "2022-10-22T01:02:32.982783Z",
     "shell.execute_reply": "2022-10-22T01:02:32.983541Z"
    },
    "papermill": {
     "duration": 0.051373,
     "end_time": "2022-10-22T01:02:32.983691",
     "exception": false,
     "start_time": "2022-10-22T01:02:32.932318",
     "status": "completed"
    },
    "tags": []
   },
   "outputs": [],
   "source": [
    "#hide\n",
    "# g = g[cols]"
   ]
  },
  {
   "cell_type": "code",
   "execution_count": 39,
   "id": "structured-mobile",
   "metadata": {
    "execution": {
     "iopub.execute_input": "2022-10-22T01:02:33.073595Z",
     "iopub.status.busy": "2022-10-22T01:02:33.072830Z",
     "iopub.status.idle": "2022-10-22T01:02:33.076294Z",
     "shell.execute_reply": "2022-10-22T01:02:33.075674Z"
    },
    "papermill": {
     "duration": 0.049777,
     "end_time": "2022-10-22T01:02:33.076430",
     "exception": false,
     "start_time": "2022-10-22T01:02:33.026653",
     "status": "completed"
    },
    "tags": []
   },
   "outputs": [],
   "source": [
    "# #hide\n",
    "# g = g[g.group.notna()]"
   ]
  },
  {
   "cell_type": "code",
   "execution_count": 40,
   "id": "determined-closing",
   "metadata": {
    "execution": {
     "iopub.execute_input": "2022-10-22T01:02:33.175318Z",
     "iopub.status.busy": "2022-10-22T01:02:33.174514Z",
     "iopub.status.idle": "2022-10-22T01:02:33.177614Z",
     "shell.execute_reply": "2022-10-22T01:02:33.176840Z"
    },
    "papermill": {
     "duration": 0.057142,
     "end_time": "2022-10-22T01:02:33.177762",
     "exception": false,
     "start_time": "2022-10-22T01:02:33.120620",
     "status": "completed"
    },
    "tags": []
   },
   "outputs": [],
   "source": [
    "# #hide\n",
    "# colors = dict(zip(\n",
    "#     [\"Oceania\", \"Europe\", \"Asia\", \"South America\", \"Middle East\", \"North America\", \"Africa\"],\n",
    "#     [\"#adb0ff\", \"#ffb3ff\", \"#90d595\", \"#e48381\", \"#aafbff\", \"#f7bb5f\", \"#eafb50\"]\n",
    "# ))\n",
    "# group_lk = g.set_index('name')['group'].to_dict()"
   ]
  },
  {
   "cell_type": "code",
   "execution_count": null,
   "id": "gross-drinking",
   "metadata": {
    "papermill": {
     "duration": 0.044886,
     "end_time": "2022-10-22T01:02:33.265024",
     "exception": false,
     "start_time": "2022-10-22T01:02:33.220138",
     "status": "completed"
    },
    "tags": []
   },
   "outputs": [],
   "source": []
  },
  {
   "cell_type": "code",
   "execution_count": 41,
   "id": "subject-macintosh",
   "metadata": {
    "execution": {
     "iopub.execute_input": "2022-10-22T01:02:33.358473Z",
     "iopub.status.busy": "2022-10-22T01:02:33.357424Z",
     "iopub.status.idle": "2022-10-22T01:02:33.363206Z",
     "shell.execute_reply": "2022-10-22T01:02:33.364098Z"
    },
    "papermill": {
     "duration": 0.056189,
     "end_time": "2022-10-22T01:02:33.364270",
     "exception": false,
     "start_time": "2022-10-22T01:02:33.308081",
     "status": "completed"
    },
    "tags": []
   },
   "outputs": [],
   "source": [
    "# #hide\n",
    "# fig, ax = plt.subplots(figsize=(15, 8))\n",
    "\n",
    "# def draw_barchart(current_day):\n",
    "#     dff = g[g['day'].eq(current_day)].sort_values(by='value', ascending=True).tail(10)\n",
    "#     ax.clear()\n",
    "#     ax.barh(dff['name'], dff['value'], color=[colors[group_lk[x]] for x in dff['name']])\n",
    "#     dx = dff['value'].max() / 200\n",
    "    \n",
    "#     for i, (value, name) in enumerate(zip(dff['value'], dff['name'])):\n",
    "#         ax.text(value-dx, i,     name,           size=14, weight=600, ha='right', va='bottom')\n",
    "#         ax.text(value-dx, i-.25, group_lk[name], size=10, color='#444444', ha='right', va='baseline')\n",
    "#         ax.text(value+dx, i,     f'{value:,.0f}',  size=14, ha='left',  va='center')\n",
    "#     ax.text(1, 0.4, current_day, transform=ax.transAxes, color='#777777', size=46, ha='right', weight=800)\n",
    "#     ax.text(0, 1.06, 'Population (thousands)', transform=ax.transAxes, size=12, color='#777777')\n",
    "#     ax.xaxis.set_major_formatter(ticker.StrMethodFormatter('{x:,.0f}'))\n",
    "#     ax.xaxis.set_ticks_position('top')\n",
    "#     ax.tick_params(axis='x', colors='#777777', labelsize=12)\n",
    "#     ax.set_yticks([])\n",
    "#     ax.margins(0, 0.01)\n",
    "#     ax.grid(which='major', axis='x', linestyle='-')\n",
    "#     ax.set_axisbelow(True)\n",
    "    \n",
    "#     ax.text(0, 1.15, 'Coronavirus',\n",
    "#             transform=ax.transAxes, size=24, weight=600, ha='left', va='top')\n",
    "# #     ax.text(1, 0, 'by @pratapvardhan; credit @jburnmurdoch', transform=ax.transAxes, color='#777777', ha='right',\n",
    "# #             bbox=dict(facecolor='white', alpha=0.8, edgecolor='white'))\n",
    "#     plt.box(False)"
   ]
  },
  {
   "cell_type": "code",
   "execution_count": 42,
   "id": "sexual-wages",
   "metadata": {
    "execution": {
     "iopub.execute_input": "2022-10-22T01:02:33.460363Z",
     "iopub.status.busy": "2022-10-22T01:02:33.459562Z",
     "iopub.status.idle": "2022-10-22T01:02:33.463040Z",
     "shell.execute_reply": "2022-10-22T01:02:33.462395Z"
    },
    "papermill": {
     "duration": 0.052644,
     "end_time": "2022-10-22T01:02:33.463186",
     "exception": false,
     "start_time": "2022-10-22T01:02:33.410542",
     "status": "completed"
    },
    "tags": []
   },
   "outputs": [],
   "source": [
    "# #hide_input\n",
    "# fig, ax = plt.subplots(figsize=(15, 8))\n",
    "# animator = animation.FuncAnimation(fig, draw_barchart, frames=range(g.day.values.min(), g.day.values.max()))\n",
    "# HTML(animator.to_jshtml())\n",
    "# # or use animator.to_html5_video() or animator.save() "
   ]
  },
  {
   "cell_type": "code",
   "execution_count": null,
   "id": "australian-container",
   "metadata": {
    "papermill": {
     "duration": 0.04153,
     "end_time": "2022-10-22T01:02:33.548402",
     "exception": false,
     "start_time": "2022-10-22T01:02:33.506872",
     "status": "completed"
    },
    "tags": []
   },
   "outputs": [],
   "source": []
  },
  {
   "cell_type": "code",
   "execution_count": null,
   "id": "mediterranean-pontiac",
   "metadata": {
    "papermill": {
     "duration": 0.041773,
     "end_time": "2022-10-22T01:02:33.630667",
     "exception": false,
     "start_time": "2022-10-22T01:02:33.588894",
     "status": "completed"
    },
    "tags": []
   },
   "outputs": [],
   "source": []
  },
  {
   "cell_type": "code",
   "execution_count": null,
   "id": "aging-legislature",
   "metadata": {
    "papermill": {
     "duration": 0.041702,
     "end_time": "2022-10-22T01:02:33.712874",
     "exception": false,
     "start_time": "2022-10-22T01:02:33.671172",
     "status": "completed"
    },
    "tags": []
   },
   "outputs": [],
   "source": []
  }
 ],
 "metadata": {
  "kernelspec": {
   "display_name": "Python 3",
   "language": "python",
   "name": "python3"
  },
  "language_info": {
   "codemirror_mode": {
    "name": "ipython",
    "version": 3
   },
   "file_extension": ".py",
   "mimetype": "text/x-python",
   "name": "python",
   "nbconvert_exporter": "python",
   "pygments_lexer": "ipython3",
   "version": "3.6.15"
  },
  "papermill": {
   "duration": 8.216067,
   "end_time": "2022-10-22T01:02:34.182591",
   "environment_variables": {},
   "exception": null,
   "input_path": "2020-03-21-covid19exp.ipynb",
   "output_path": "2020-03-21-covid19exp.ipynb",
   "parameters": {},
   "start_time": "2022-10-22T01:02:25.966524",
   "version": "2.0.0"
  }
 },
 "nbformat": 4,
 "nbformat_minor": 5
}