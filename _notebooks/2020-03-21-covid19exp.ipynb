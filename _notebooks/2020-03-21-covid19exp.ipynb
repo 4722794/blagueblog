{
 "cells": [
  {
   "cell_type": "markdown",
   "id": "muslim-click",
   "metadata": {
    "papermill": {
     "duration": 0.037098,
     "end_time": "2021-08-06T12:10:55.600901",
     "exception": false,
     "start_time": "2021-08-06T12:10:55.563803",
     "status": "completed"
    },
    "tags": []
   },
   "source": [
    "# COVID-19 Case Race\n",
    "> A race chart to see rising cases around the world\n",
    "\n",
    "- author: Hargun Oberoi\n",
    "- image: images/covid-overview.png\n",
    "- hide: false\n",
    "- badges: false"
   ]
  },
  {
   "cell_type": "code",
   "execution_count": 1,
   "id": "proof-material",
   "metadata": {
    "execution": {
     "iopub.execute_input": "2021-08-06T12:10:55.679752Z",
     "iopub.status.busy": "2021-08-06T12:10:55.679019Z",
     "iopub.status.idle": "2021-08-06T12:10:56.048482Z",
     "shell.execute_reply": "2021-08-06T12:10:56.047778Z"
    },
    "papermill": {
     "duration": 0.414259,
     "end_time": "2021-08-06T12:10:56.048641",
     "exception": false,
     "start_time": "2021-08-06T12:10:55.634382",
     "status": "completed"
    },
    "tags": []
   },
   "outputs": [],
   "source": [
    "#hide\n",
    "import numpy as np\n",
    "import pandas as pd\n",
    "from jinja2 import Template\n",
    "from IPython.display import HTML"
   ]
  },
  {
   "cell_type": "code",
   "execution_count": 2,
   "id": "developed-terminology",
   "metadata": {
    "execution": {
     "iopub.execute_input": "2021-08-06T12:10:56.126805Z",
     "iopub.status.busy": "2021-08-06T12:10:56.126193Z",
     "iopub.status.idle": "2021-08-06T12:10:56.128526Z",
     "shell.execute_reply": "2021-08-06T12:10:56.127979Z"
    },
    "papermill": {
     "duration": 0.040952,
     "end_time": "2021-08-06T12:10:56.129880",
     "exception": false,
     "start_time": "2021-08-06T12:10:56.088928",
     "status": "completed"
    },
    "tags": []
   },
   "outputs": [],
   "source": [
    "#hide\n",
    "\n",
    "# FETCH\n",
    "base_url = 'https://raw.githubusercontent.com/pratapvardhan/notebooks/master/covid19/'\n",
    "paths = {\n",
    "    'mapping': base_url + 'mapping_countries.csv',\n",
    "    'overview': base_url + 'overview.tpl'\n",
    "}"
   ]
  },
  {
   "cell_type": "code",
   "execution_count": 3,
   "id": "dynamic-saver",
   "metadata": {
    "execution": {
     "iopub.execute_input": "2021-08-06T12:10:56.209871Z",
     "iopub.status.busy": "2021-08-06T12:10:56.209124Z",
     "iopub.status.idle": "2021-08-06T12:10:56.211775Z",
     "shell.execute_reply": "2021-08-06T12:10:56.212353Z"
    },
    "papermill": {
     "duration": 0.048001,
     "end_time": "2021-08-06T12:10:56.212486",
     "exception": false,
     "start_time": "2021-08-06T12:10:56.164485",
     "status": "completed"
    },
    "tags": []
   },
   "outputs": [
    {
     "data": {
      "text/plain": [
       "'https://raw.githubusercontent.com/pratapvardhan/notebooks/master/covid19/mapping_countries.csv'"
      ]
     },
     "execution_count": 3,
     "metadata": {},
     "output_type": "execute_result"
    }
   ],
   "source": [
    "#hide\n",
    "paths['mapping']"
   ]
  },
  {
   "cell_type": "code",
   "execution_count": 4,
   "id": "urban-software",
   "metadata": {
    "execution": {
     "iopub.execute_input": "2021-08-06T12:10:56.290158Z",
     "iopub.status.busy": "2021-08-06T12:10:56.289543Z",
     "iopub.status.idle": "2021-08-06T12:10:56.292309Z",
     "shell.execute_reply": "2021-08-06T12:10:56.292921Z"
    },
    "papermill": {
     "duration": 0.047051,
     "end_time": "2021-08-06T12:10:56.293059",
     "exception": false,
     "start_time": "2021-08-06T12:10:56.246008",
     "status": "completed"
    },
    "tags": []
   },
   "outputs": [],
   "source": [
    "#hide\n",
    "def get_mappings(url):\n",
    "    df = pd.read_csv(url)\n",
    "    return {\n",
    "        'df': df,\n",
    "        'replace.country': dict(df.dropna(subset=['Name']).set_index('Country')['Name']),\n",
    "        'map.continent': dict(df.set_index('Name')['Continent'])\n",
    "    }"
   ]
  },
  {
   "cell_type": "code",
   "execution_count": 5,
   "id": "intimate-machinery",
   "metadata": {
    "execution": {
     "iopub.execute_input": "2021-08-06T12:10:56.374411Z",
     "iopub.status.busy": "2021-08-06T12:10:56.373661Z",
     "iopub.status.idle": "2021-08-06T12:10:56.415873Z",
     "shell.execute_reply": "2021-08-06T12:10:56.416415Z"
    },
    "papermill": {
     "duration": 0.086861,
     "end_time": "2021-08-06T12:10:56.416558",
     "exception": false,
     "start_time": "2021-08-06T12:10:56.329697",
     "status": "completed"
    },
    "tags": []
   },
   "outputs": [],
   "source": [
    "#hide\n",
    "mapping = get_mappings(paths['mapping'])"
   ]
  },
  {
   "cell_type": "code",
   "execution_count": 6,
   "id": "certified-tactics",
   "metadata": {
    "execution": {
     "iopub.execute_input": "2021-08-06T12:10:56.493973Z",
     "iopub.status.busy": "2021-08-06T12:10:56.493275Z",
     "iopub.status.idle": "2021-08-06T12:10:56.495233Z",
     "shell.execute_reply": "2021-08-06T12:10:56.495846Z"
    },
    "papermill": {
     "duration": 0.044325,
     "end_time": "2021-08-06T12:10:56.496009",
     "exception": false,
     "start_time": "2021-08-06T12:10:56.451684",
     "status": "completed"
    },
    "tags": []
   },
   "outputs": [],
   "source": [
    "#hide\n",
    "def get_template(path):\n",
    "    from urllib.parse import urlparse\n",
    "    if bool(urlparse(path).netloc):\n",
    "        from urllib.request import urlopen\n",
    "        return urlopen(path).read().decode('utf8')\n",
    "    return open(path).read()"
   ]
  },
  {
   "cell_type": "code",
   "execution_count": 7,
   "id": "realistic-blast",
   "metadata": {
    "execution": {
     "iopub.execute_input": "2021-08-06T12:10:56.570656Z",
     "iopub.status.busy": "2021-08-06T12:10:56.570030Z",
     "iopub.status.idle": "2021-08-06T12:10:56.572377Z",
     "shell.execute_reply": "2021-08-06T12:10:56.571913Z"
    },
    "papermill": {
     "duration": 0.041092,
     "end_time": "2021-08-06T12:10:56.572483",
     "exception": false,
     "start_time": "2021-08-06T12:10:56.531391",
     "status": "completed"
    },
    "tags": []
   },
   "outputs": [],
   "source": [
    "#hide\n",
    "def get_frame(name):\n",
    "    url = (\n",
    "        'https://raw.githubusercontent.com/CSSEGISandData/COVID-19/master/csse_covid_19_data/'\n",
    "        f'csse_covid_19_time_series/time_series_covid19_{name}_global.csv')\n",
    "    df = pd.read_csv(url)\n",
    "    # rename countries\n",
    "    df['Country/Region'] = df['Country/Region'].replace(mapping['replace.country'])\n",
    "    return df"
   ]
  },
  {
   "cell_type": "code",
   "execution_count": 8,
   "id": "affiliated-characterization",
   "metadata": {
    "execution": {
     "iopub.execute_input": "2021-08-06T12:10:56.650883Z",
     "iopub.status.busy": "2021-08-06T12:10:56.650187Z",
     "iopub.status.idle": "2021-08-06T12:10:56.652588Z",
     "shell.execute_reply": "2021-08-06T12:10:56.652028Z"
    },
    "papermill": {
     "duration": 0.046784,
     "end_time": "2021-08-06T12:10:56.652721",
     "exception": false,
     "start_time": "2021-08-06T12:10:56.605937",
     "status": "completed"
    },
    "tags": []
   },
   "outputs": [],
   "source": [
    "#hide\n",
    "def get_dates(df):\n",
    "    dt_cols = df.columns[~df.columns.isin(['Province/State', 'Country/Region', 'Lat', 'Long'])]\n",
    "    LAST_DATE_I = -1\n",
    "    # sometimes last column may be empty, then go backwards\n",
    "    for i in range(-1, -len(dt_cols), -1):\n",
    "        if not df[dt_cols[i]].fillna(0).eq(0).all():\n",
    "            LAST_DATE_I = i\n",
    "            break\n",
    "    return LAST_DATE_I, dt_cols"
   ]
  },
  {
   "cell_type": "code",
   "execution_count": 9,
   "id": "recent-optimization",
   "metadata": {
    "execution": {
     "iopub.execute_input": "2021-08-06T12:10:56.728361Z",
     "iopub.status.busy": "2021-08-06T12:10:56.727456Z",
     "iopub.status.idle": "2021-08-06T12:10:57.106838Z",
     "shell.execute_reply": "2021-08-06T12:10:57.106271Z"
    },
    "papermill": {
     "duration": 0.4189,
     "end_time": "2021-08-06T12:10:57.107030",
     "exception": false,
     "start_time": "2021-08-06T12:10:56.688130",
     "status": "completed"
    },
    "tags": []
   },
   "outputs": [],
   "source": [
    "#hide\n",
    "COL_REGION = 'Country/Region'\n",
    "# Confirmed, Recovered, Deaths\n",
    "df = get_frame('confirmed')\n",
    "# dft_: timeseries, dfc_: today country agg\n",
    "dft_cases = df\n",
    "dft_deaths = get_frame('deaths')\n",
    "dft_recovered = get_frame('recovered')\n",
    "LAST_DATE_I, dt_cols = get_dates(df)"
   ]
  },
  {
   "cell_type": "code",
   "execution_count": 10,
   "id": "absolute-copper",
   "metadata": {
    "execution": {
     "iopub.execute_input": "2021-08-06T12:10:57.174430Z",
     "iopub.status.busy": "2021-08-06T12:10:57.173829Z",
     "iopub.status.idle": "2021-08-06T12:10:57.177217Z",
     "shell.execute_reply": "2021-08-06T12:10:57.176608Z"
    },
    "papermill": {
     "duration": 0.038012,
     "end_time": "2021-08-06T12:10:57.177340",
     "exception": false,
     "start_time": "2021-08-06T12:10:57.139328",
     "status": "completed"
    },
    "tags": []
   },
   "outputs": [],
   "source": [
    "#hide\n",
    "LAST_DATE_I, dt_cols = get_dates(df)\n",
    "dt_today =dt_cols[LAST_DATE_I]\n",
    "# dt_5day = dt_cols[LAST_DATE_I - 5]\n",
    "dt_yday = dt_cols[LAST_DATE_I - 1]"
   ]
  },
  {
   "cell_type": "code",
   "execution_count": 11,
   "id": "restricted-sheriff",
   "metadata": {
    "execution": {
     "iopub.execute_input": "2021-08-06T12:10:57.255305Z",
     "iopub.status.busy": "2021-08-06T12:10:57.254558Z",
     "iopub.status.idle": "2021-08-06T12:10:57.260082Z",
     "shell.execute_reply": "2021-08-06T12:10:57.260681Z"
    },
    "papermill": {
     "duration": 0.047276,
     "end_time": "2021-08-06T12:10:57.260840",
     "exception": false,
     "start_time": "2021-08-06T12:10:57.213564",
     "status": "completed"
    },
    "tags": []
   },
   "outputs": [],
   "source": [
    "#hide\n",
    "dfc_cases = dft_cases.groupby(COL_REGION)[dt_today].sum()\n",
    "dfc_deaths = dft_deaths.groupby(COL_REGION)[dt_today].sum()\n",
    "# dfp_cases = dft_cases.groupby(COL_REGION)[dt_5day].sum()\n",
    "# dfp_deaths = dft_deaths.groupby(COL_REGION)[dt_5day].sum()\n",
    "dfp_cases = dft_cases.groupby(COL_REGION)[dt_yday].sum()\n",
    "dfp_deaths = dft_deaths.groupby(COL_REGION)[dt_yday].sum()"
   ]
  },
  {
   "cell_type": "code",
   "execution_count": 12,
   "id": "deluxe-hepatitis",
   "metadata": {
    "execution": {
     "iopub.execute_input": "2021-08-06T12:10:57.334530Z",
     "iopub.status.busy": "2021-08-06T12:10:57.333893Z",
     "iopub.status.idle": "2021-08-06T12:10:57.338252Z",
     "shell.execute_reply": "2021-08-06T12:10:57.338819Z"
    },
    "papermill": {
     "duration": 0.044274,
     "end_time": "2021-08-06T12:10:57.338936",
     "exception": false,
     "start_time": "2021-08-06T12:10:57.294662",
     "status": "completed"
    },
    "tags": []
   },
   "outputs": [],
   "source": [
    "#hide\n",
    "df_table = (pd.DataFrame(dict(Cases = dfc_cases, Deaths = dfc_deaths, PCases = dfp_cases, PDeaths = dfp_deaths))\n",
    "            .sort_values(by = ['Cases','Deaths'], ascending = [False, False])\n",
    "            .reset_index())"
   ]
  },
  {
   "cell_type": "code",
   "execution_count": 13,
   "id": "educational-chancellor",
   "metadata": {
    "execution": {
     "iopub.execute_input": "2021-08-06T12:10:57.424652Z",
     "iopub.status.busy": "2021-08-06T12:10:57.424013Z",
     "iopub.status.idle": "2021-08-06T12:10:57.432790Z",
     "shell.execute_reply": "2021-08-06T12:10:57.433322Z"
    },
    "papermill": {
     "duration": 0.061429,
     "end_time": "2021-08-06T12:10:57.433488",
     "exception": false,
     "start_time": "2021-08-06T12:10:57.372059",
     "status": "completed"
    },
    "tags": []
   },
   "outputs": [
    {
     "data": {
      "text/html": [
       "<div>\n",
       "<style scoped>\n",
       "    .dataframe tbody tr th:only-of-type {\n",
       "        vertical-align: middle;\n",
       "    }\n",
       "\n",
       "    .dataframe tbody tr th {\n",
       "        vertical-align: top;\n",
       "    }\n",
       "\n",
       "    .dataframe thead th {\n",
       "        text-align: right;\n",
       "    }\n",
       "</style>\n",
       "<table border=\"1\" class=\"dataframe\">\n",
       "  <thead>\n",
       "    <tr style=\"text-align: right;\">\n",
       "      <th></th>\n",
       "      <th>Country/Region</th>\n",
       "      <th>Cases</th>\n",
       "      <th>Deaths</th>\n",
       "      <th>PCases</th>\n",
       "      <th>PDeaths</th>\n",
       "      <th>Cases (+)</th>\n",
       "      <th>Deaths (+)</th>\n",
       "      <th>Fatality Rate</th>\n",
       "      <th>Continent</th>\n",
       "    </tr>\n",
       "  </thead>\n",
       "  <tbody>\n",
       "    <tr>\n",
       "      <th>0</th>\n",
       "      <td>US</td>\n",
       "      <td>35440488</td>\n",
       "      <td>615320</td>\n",
       "      <td>35330664</td>\n",
       "      <td>614785</td>\n",
       "      <td>109824</td>\n",
       "      <td>535</td>\n",
       "      <td>1.74</td>\n",
       "      <td>North America</td>\n",
       "    </tr>\n",
       "    <tr>\n",
       "      <th>1</th>\n",
       "      <td>India</td>\n",
       "      <td>31856757</td>\n",
       "      <td>426754</td>\n",
       "      <td>31812114</td>\n",
       "      <td>426290</td>\n",
       "      <td>44643</td>\n",
       "      <td>464</td>\n",
       "      <td>1.34</td>\n",
       "      <td>Asia</td>\n",
       "    </tr>\n",
       "    <tr>\n",
       "      <th>2</th>\n",
       "      <td>Brazil</td>\n",
       "      <td>20066587</td>\n",
       "      <td>560706</td>\n",
       "      <td>20026533</td>\n",
       "      <td>559607</td>\n",
       "      <td>40054</td>\n",
       "      <td>1099</td>\n",
       "      <td>2.79</td>\n",
       "      <td>South America</td>\n",
       "    </tr>\n",
       "    <tr>\n",
       "      <th>3</th>\n",
       "      <td>France</td>\n",
       "      <td>6299138</td>\n",
       "      <td>112283</td>\n",
       "      <td>6272189</td>\n",
       "      <td>112233</td>\n",
       "      <td>26949</td>\n",
       "      <td>50</td>\n",
       "      <td>1.78</td>\n",
       "      <td>Europe</td>\n",
       "    </tr>\n",
       "    <tr>\n",
       "      <th>4</th>\n",
       "      <td>Russia</td>\n",
       "      <td>6296570</td>\n",
       "      <td>159803</td>\n",
       "      <td>6274006</td>\n",
       "      <td>159032</td>\n",
       "      <td>22564</td>\n",
       "      <td>771</td>\n",
       "      <td>2.54</td>\n",
       "      <td>Europe</td>\n",
       "    </tr>\n",
       "  </tbody>\n",
       "</table>\n",
       "</div>"
      ],
      "text/plain": [
       "  Country/Region     Cases  Deaths    PCases  PDeaths  Cases (+)  Deaths (+)  \\\n",
       "0             US  35440488  615320  35330664   614785     109824         535   \n",
       "1          India  31856757  426754  31812114   426290      44643         464   \n",
       "2         Brazil  20066587  560706  20026533   559607      40054        1099   \n",
       "3         France   6299138  112283   6272189   112233      26949          50   \n",
       "4         Russia   6296570  159803   6274006   159032      22564         771   \n",
       "\n",
       "   Fatality Rate      Continent  \n",
       "0           1.74  North America  \n",
       "1           1.34           Asia  \n",
       "2           2.79  South America  \n",
       "3           1.78         Europe  \n",
       "4           2.54         Europe  "
      ]
     },
     "execution_count": 13,
     "metadata": {},
     "output_type": "execute_result"
    }
   ],
   "source": [
    "#hide\n",
    "for c in 'Cases, Deaths'.split(', '):\n",
    "    df_table[f'{c} (+)'] = (df_table[c] - df_table[f'P{c}']).clip(0)\n",
    "    #Clip ça veut dire, les chiffres negatif sont interdit\n",
    "df_table['Fatality Rate'] = (100* df_table['Deaths']/ df_table['Cases']).round(2)\n",
    "df_table['Continent'] = df_table['Country/Region'].map(mapping['map.continent'])\n",
    "df_table.head(5)"
   ]
  },
  {
   "cell_type": "code",
   "execution_count": 14,
   "id": "aboriginal-bulgaria",
   "metadata": {
    "execution": {
     "iopub.execute_input": "2021-08-06T12:10:57.507438Z",
     "iopub.status.busy": "2021-08-06T12:10:57.506861Z",
     "iopub.status.idle": "2021-08-06T12:10:57.508631Z",
     "shell.execute_reply": "2021-08-06T12:10:57.509083Z"
    },
    "papermill": {
     "duration": 0.039377,
     "end_time": "2021-08-06T12:10:57.509195",
     "exception": false,
     "start_time": "2021-08-06T12:10:57.469818",
     "status": "completed"
    },
    "tags": []
   },
   "outputs": [],
   "source": [
    "#hide\n",
    "#delete problematic countries from table\n",
    "df_table = df_table[~df_table['Country/Region'].isin(['Cape Verde', 'Cruise Ship', 'Kosovo'])]"
   ]
  },
  {
   "cell_type": "code",
   "execution_count": 15,
   "id": "fantastic-effect",
   "metadata": {
    "execution": {
     "iopub.execute_input": "2021-08-06T12:10:57.582893Z",
     "iopub.status.busy": "2021-08-06T12:10:57.582289Z",
     "iopub.status.idle": "2021-08-06T12:10:57.603070Z",
     "shell.execute_reply": "2021-08-06T12:10:57.602625Z"
    },
    "papermill": {
     "duration": 0.059585,
     "end_time": "2021-08-06T12:10:57.603173",
     "exception": false,
     "start_time": "2021-08-06T12:10:57.543588",
     "status": "completed"
    },
    "tags": []
   },
   "outputs": [
    {
     "data": {
      "text/html": [
       "<div>\n",
       "<style scoped>\n",
       "    .dataframe tbody tr th:only-of-type {\n",
       "        vertical-align: middle;\n",
       "    }\n",
       "\n",
       "    .dataframe tbody tr th {\n",
       "        vertical-align: top;\n",
       "    }\n",
       "\n",
       "    .dataframe thead th {\n",
       "        text-align: right;\n",
       "    }\n",
       "</style>\n",
       "<table border=\"1\" class=\"dataframe\">\n",
       "  <thead>\n",
       "    <tr style=\"text-align: right;\">\n",
       "      <th></th>\n",
       "      <th>Country/Region</th>\n",
       "      <th>Cases</th>\n",
       "      <th>Deaths</th>\n",
       "      <th>PCases</th>\n",
       "      <th>PDeaths</th>\n",
       "      <th>Cases (+)</th>\n",
       "      <th>Deaths (+)</th>\n",
       "      <th>Fatality Rate</th>\n",
       "      <th>Continent</th>\n",
       "    </tr>\n",
       "  </thead>\n",
       "  <tbody>\n",
       "    <tr>\n",
       "      <th>0</th>\n",
       "      <td>US</td>\n",
       "      <td>35440488</td>\n",
       "      <td>615320</td>\n",
       "      <td>35330664</td>\n",
       "      <td>614785</td>\n",
       "      <td>109824</td>\n",
       "      <td>535</td>\n",
       "      <td>1.7</td>\n",
       "      <td>North America</td>\n",
       "    </tr>\n",
       "    <tr>\n",
       "      <th>1</th>\n",
       "      <td>India</td>\n",
       "      <td>31856757</td>\n",
       "      <td>426754</td>\n",
       "      <td>31812114</td>\n",
       "      <td>426290</td>\n",
       "      <td>44643</td>\n",
       "      <td>464</td>\n",
       "      <td>1.3</td>\n",
       "      <td>Asia</td>\n",
       "    </tr>\n",
       "    <tr>\n",
       "      <th>2</th>\n",
       "      <td>Brazil</td>\n",
       "      <td>20066587</td>\n",
       "      <td>560706</td>\n",
       "      <td>20026533</td>\n",
       "      <td>559607</td>\n",
       "      <td>40054</td>\n",
       "      <td>1099</td>\n",
       "      <td>2.8</td>\n",
       "      <td>South America</td>\n",
       "    </tr>\n",
       "    <tr>\n",
       "      <th>3</th>\n",
       "      <td>France</td>\n",
       "      <td>6299138</td>\n",
       "      <td>112283</td>\n",
       "      <td>6272189</td>\n",
       "      <td>112233</td>\n",
       "      <td>26949</td>\n",
       "      <td>50</td>\n",
       "      <td>1.8</td>\n",
       "      <td>Europe</td>\n",
       "    </tr>\n",
       "    <tr>\n",
       "      <th>4</th>\n",
       "      <td>Russia</td>\n",
       "      <td>6296570</td>\n",
       "      <td>159803</td>\n",
       "      <td>6274006</td>\n",
       "      <td>159032</td>\n",
       "      <td>22564</td>\n",
       "      <td>771</td>\n",
       "      <td>2.5</td>\n",
       "      <td>Europe</td>\n",
       "    </tr>\n",
       "  </tbody>\n",
       "</table>\n",
       "</div>"
      ],
      "text/plain": [
       "  Country/Region     Cases  Deaths    PCases  PDeaths  Cases (+)  Deaths (+)  \\\n",
       "0             US  35440488  615320  35330664   614785     109824         535   \n",
       "1          India  31856757  426754  31812114   426290      44643         464   \n",
       "2         Brazil  20066587  560706  20026533   559607      40054        1099   \n",
       "3         France   6299138  112283   6272189   112233      26949          50   \n",
       "4         Russia   6296570  159803   6274006   159032      22564         771   \n",
       "\n",
       "   Fatality Rate      Continent  \n",
       "0            1.7  North America  \n",
       "1            1.3           Asia  \n",
       "2            2.8  South America  \n",
       "3            1.8         Europe  \n",
       "4            2.5         Europe  "
      ]
     },
     "execution_count": 15,
     "metadata": {},
     "output_type": "execute_result"
    }
   ],
   "source": [
    "#hide\n",
    "df_table = (pd.DataFrame(dict(Cases=dfc_cases, Deaths=dfc_deaths, PCases=dfp_cases, PDeaths=dfp_deaths))\n",
    "             .sort_values(by=['Cases', 'Deaths'], ascending=[False, False])\n",
    "             .reset_index())\n",
    "df_table.rename(columns={'index': 'Country/Region'}, inplace=True)\n",
    "for c in 'Cases, Deaths'.split(', '):\n",
    "    df_table[f'{c} (+)'] = (df_table[c] - df_table[f'P{c}']).clip(0)  # DATA BUG\n",
    "df_table['Fatality Rate'] = (100 * df_table['Deaths'] / df_table['Cases']).round(1)\n",
    "df_table['Continent'] = df_table['Country/Region'].map(mapping['map.continent'])\n",
    "df_table.head(5)"
   ]
  },
  {
   "cell_type": "code",
   "execution_count": 16,
   "id": "fewer-occasion",
   "metadata": {
    "execution": {
     "iopub.execute_input": "2021-08-06T12:10:57.678359Z",
     "iopub.status.busy": "2021-08-06T12:10:57.677785Z",
     "iopub.status.idle": "2021-08-06T12:10:57.679833Z",
     "shell.execute_reply": "2021-08-06T12:10:57.679317Z"
    },
    "papermill": {
     "duration": 0.042541,
     "end_time": "2021-08-06T12:10:57.680019",
     "exception": false,
     "start_time": "2021-08-06T12:10:57.637478",
     "status": "completed"
    },
    "tags": []
   },
   "outputs": [],
   "source": [
    "#hide\n",
    "#delete problematic countries from table\n",
    "df_table = df_table[~df_table['Country/Region'].isin(['Cape Verde', 'Cruise Ship', 'Kosovo'])]"
   ]
  },
  {
   "cell_type": "code",
   "execution_count": 17,
   "id": "related-center",
   "metadata": {
    "execution": {
     "iopub.execute_input": "2021-08-06T12:10:57.758343Z",
     "iopub.status.busy": "2021-08-06T12:10:57.757620Z",
     "iopub.status.idle": "2021-08-06T12:10:57.771894Z",
     "shell.execute_reply": "2021-08-06T12:10:57.771198Z"
    },
    "papermill": {
     "duration": 0.058637,
     "end_time": "2021-08-06T12:10:57.772007",
     "exception": false,
     "start_time": "2021-08-06T12:10:57.713370",
     "status": "completed"
    },
    "tags": []
   },
   "outputs": [],
   "source": [
    "#hide\n",
    "metrics = [df_table.columns[index] for index in [1,2,5,6]]\n",
    "# s_china = df_table[df_table['Country/Region'].eq('China')][metrics].sum().add_prefix('China ')\n",
    "s_us = df_table[df_table['Country/Region'].eq('US')][metrics].sum().add_prefix('US ')\n",
    "s_eu = df_table[df_table['Continent'].eq('Europe')][metrics].sum().add_prefix('EU ')\n",
    "s_ind = df_table[df_table['Country/Region'].eq('India')][metrics].sum().add_prefix('India ')\n",
    "summary = {'updated': pd.to_datetime(dt_today), 'since': pd.to_datetime(dt_yday)}\n",
    "summary = {'updated': pd.to_datetime(dt_today), 'since': pd.to_datetime(dt_yday)}\n",
    "summary = {**summary, **df_table[metrics].sum(), **s_ind, **s_us, **s_eu}"
   ]
  },
  {
   "cell_type": "code",
   "execution_count": 18,
   "id": "engaging-syndrome",
   "metadata": {
    "execution": {
     "iopub.execute_input": "2021-08-06T12:10:57.844708Z",
     "iopub.status.busy": "2021-08-06T12:10:57.844129Z",
     "iopub.status.idle": "2021-08-06T12:10:57.859587Z",
     "shell.execute_reply": "2021-08-06T12:10:57.859038Z"
    },
    "papermill": {
     "duration": 0.053807,
     "end_time": "2021-08-06T12:10:57.859708",
     "exception": false,
     "start_time": "2021-08-06T12:10:57.805901",
     "status": "completed"
    },
    "tags": []
   },
   "outputs": [],
   "source": [
    "#hide\n",
    "dft_ct_new_cases = dft_cases.groupby(COL_REGION)[dt_cols].sum().diff(axis=1).fillna(0).astype(int)"
   ]
  },
  {
   "cell_type": "code",
   "execution_count": 19,
   "id": "neutral-assignment",
   "metadata": {
    "execution": {
     "iopub.execute_input": "2021-08-06T12:10:57.932476Z",
     "iopub.status.busy": "2021-08-06T12:10:57.931903Z",
     "iopub.status.idle": "2021-08-06T12:10:57.934756Z",
     "shell.execute_reply": "2021-08-06T12:10:57.934277Z"
    },
    "papermill": {
     "duration": 0.04145,
     "end_time": "2021-08-06T12:10:57.934900",
     "exception": false,
     "start_time": "2021-08-06T12:10:57.893450",
     "status": "completed"
    },
    "tags": []
   },
   "outputs": [],
   "source": [
    "#hide\n",
    "everydaycases = dft_ct_new_cases.cumsum(axis=1)"
   ]
  },
  {
   "cell_type": "code",
   "execution_count": 20,
   "id": "parliamentary-calgary",
   "metadata": {
    "execution": {
     "iopub.execute_input": "2021-08-06T12:10:58.007325Z",
     "iopub.status.busy": "2021-08-06T12:10:58.006770Z",
     "iopub.status.idle": "2021-08-06T12:10:58.616086Z",
     "shell.execute_reply": "2021-08-06T12:10:58.615393Z"
    },
    "papermill": {
     "duration": 0.648213,
     "end_time": "2021-08-06T12:10:58.616216",
     "exception": false,
     "start_time": "2021-08-06T12:10:57.968003",
     "status": "completed"
    },
    "tags": []
   },
   "outputs": [],
   "source": [
    "#hide\n",
    "import pandas as pd\n",
    "import matplotlib.pyplot as plt\n",
    "import matplotlib.ticker as ticker\n",
    "import matplotlib.animation as animation\n",
    "from IPython.display import HTML"
   ]
  },
  {
   "cell_type": "code",
   "execution_count": 21,
   "id": "lasting-extraction",
   "metadata": {
    "execution": {
     "iopub.execute_input": "2021-08-06T12:10:58.698681Z",
     "iopub.status.busy": "2021-08-06T12:10:58.697760Z",
     "iopub.status.idle": "2021-08-06T12:10:58.703388Z",
     "shell.execute_reply": "2021-08-06T12:10:58.703883Z"
    },
    "papermill": {
     "duration": 0.049722,
     "end_time": "2021-08-06T12:10:58.704020",
     "exception": false,
     "start_time": "2021-08-06T12:10:58.654298",
     "status": "completed"
    },
    "tags": []
   },
   "outputs": [],
   "source": [
    "#hide\n",
    "t = everydaycases.stack()"
   ]
  },
  {
   "cell_type": "code",
   "execution_count": 22,
   "id": "premier-sleeve",
   "metadata": {
    "execution": {
     "iopub.execute_input": "2021-08-06T12:10:58.777107Z",
     "iopub.status.busy": "2021-08-06T12:10:58.776531Z",
     "iopub.status.idle": "2021-08-06T12:10:58.784257Z",
     "shell.execute_reply": "2021-08-06T12:10:58.784685Z"
    },
    "papermill": {
     "duration": 0.046418,
     "end_time": "2021-08-06T12:10:58.784797",
     "exception": false,
     "start_time": "2021-08-06T12:10:58.738379",
     "status": "completed"
    },
    "tags": []
   },
   "outputs": [],
   "source": [
    "#hide\n",
    "g = t.reset_index(['Country/Region'])"
   ]
  },
  {
   "cell_type": "code",
   "execution_count": 23,
   "id": "distributed-pittsburgh",
   "metadata": {
    "execution": {
     "iopub.execute_input": "2021-08-06T12:10:58.868996Z",
     "iopub.status.busy": "2021-08-06T12:10:58.867539Z",
     "iopub.status.idle": "2021-08-06T12:10:58.869724Z",
     "shell.execute_reply": "2021-08-06T12:10:58.870378Z"
    },
    "papermill": {
     "duration": 0.042163,
     "end_time": "2021-08-06T12:10:58.870542",
     "exception": false,
     "start_time": "2021-08-06T12:10:58.828379",
     "status": "completed"
    },
    "tags": []
   },
   "outputs": [],
   "source": [
    "#hide\n",
    "g.index.name = 'date'"
   ]
  },
  {
   "cell_type": "code",
   "execution_count": 24,
   "id": "naked-donor",
   "metadata": {
    "execution": {
     "iopub.execute_input": "2021-08-06T12:10:58.957527Z",
     "iopub.status.busy": "2021-08-06T12:10:58.956961Z",
     "iopub.status.idle": "2021-08-06T12:10:58.958937Z",
     "shell.execute_reply": "2021-08-06T12:10:58.959471Z"
    },
    "papermill": {
     "duration": 0.042568,
     "end_time": "2021-08-06T12:10:58.959609",
     "exception": false,
     "start_time": "2021-08-06T12:10:58.917041",
     "status": "completed"
    },
    "tags": []
   },
   "outputs": [],
   "source": [
    "# #hide\n",
    "# g = g.reset_index(['date'])"
   ]
  },
  {
   "cell_type": "code",
   "execution_count": 25,
   "id": "incomplete-mustang",
   "metadata": {
    "execution": {
     "iopub.execute_input": "2021-08-06T12:10:59.032403Z",
     "iopub.status.busy": "2021-08-06T12:10:59.031642Z",
     "iopub.status.idle": "2021-08-06T12:10:59.034469Z",
     "shell.execute_reply": "2021-08-06T12:10:59.033881Z"
    },
    "papermill": {
     "duration": 0.041702,
     "end_time": "2021-08-06T12:10:59.034579",
     "exception": false,
     "start_time": "2021-08-06T12:10:58.992877",
     "status": "completed"
    },
    "tags": []
   },
   "outputs": [],
   "source": [
    "#hide\n",
    "# g.head()"
   ]
  },
  {
   "cell_type": "code",
   "execution_count": 26,
   "id": "specific-kruger",
   "metadata": {
    "execution": {
     "iopub.execute_input": "2021-08-06T12:10:59.104860Z",
     "iopub.status.busy": "2021-08-06T12:10:59.104201Z",
     "iopub.status.idle": "2021-08-06T12:10:59.106087Z",
     "shell.execute_reply": "2021-08-06T12:10:59.106611Z"
    },
    "papermill": {
     "duration": 0.037807,
     "end_time": "2021-08-06T12:10:59.106726",
     "exception": false,
     "start_time": "2021-08-06T12:10:59.068919",
     "status": "completed"
    },
    "tags": []
   },
   "outputs": [],
   "source": [
    "#hide\n",
    "# g.columns = ['date','country','cases']"
   ]
  },
  {
   "cell_type": "code",
   "execution_count": 27,
   "id": "tender-conversion",
   "metadata": {
    "execution": {
     "iopub.execute_input": "2021-08-06T12:10:59.185646Z",
     "iopub.status.busy": "2021-08-06T12:10:59.185034Z",
     "iopub.status.idle": "2021-08-06T12:10:59.187386Z",
     "shell.execute_reply": "2021-08-06T12:10:59.186868Z"
    },
    "papermill": {
     "duration": 0.042152,
     "end_time": "2021-08-06T12:10:59.187497",
     "exception": false,
     "start_time": "2021-08-06T12:10:59.145345",
     "status": "completed"
    },
    "tags": []
   },
   "outputs": [],
   "source": [
    "#hide\n",
    "# g['continent'] = g.country"
   ]
  },
  {
   "cell_type": "code",
   "execution_count": 28,
   "id": "substantial-wilderness",
   "metadata": {
    "execution": {
     "iopub.execute_input": "2021-08-06T12:10:59.262009Z",
     "iopub.status.busy": "2021-08-06T12:10:59.261404Z",
     "iopub.status.idle": "2021-08-06T12:10:59.263731Z",
     "shell.execute_reply": "2021-08-06T12:10:59.264319Z"
    },
    "papermill": {
     "duration": 0.041971,
     "end_time": "2021-08-06T12:10:59.264557",
     "exception": false,
     "start_time": "2021-08-06T12:10:59.222586",
     "status": "completed"
    },
    "tags": []
   },
   "outputs": [],
   "source": [
    "#hide\n",
    "# cols = list(g.columns.values)"
   ]
  },
  {
   "cell_type": "code",
   "execution_count": 29,
   "id": "solved-farming",
   "metadata": {
    "execution": {
     "iopub.execute_input": "2021-08-06T12:10:59.333647Z",
     "iopub.status.busy": "2021-08-06T12:10:59.332895Z",
     "iopub.status.idle": "2021-08-06T12:10:59.335648Z",
     "shell.execute_reply": "2021-08-06T12:10:59.335025Z"
    },
    "papermill": {
     "duration": 0.039017,
     "end_time": "2021-08-06T12:10:59.335792",
     "exception": false,
     "start_time": "2021-08-06T12:10:59.296775",
     "status": "completed"
    },
    "tags": []
   },
   "outputs": [],
   "source": [
    "#hide\n",
    "# cols.insert(0, cols.pop())"
   ]
  },
  {
   "cell_type": "code",
   "execution_count": 30,
   "id": "executed-adoption",
   "metadata": {
    "execution": {
     "iopub.execute_input": "2021-08-06T12:10:59.409493Z",
     "iopub.status.busy": "2021-08-06T12:10:59.408724Z",
     "iopub.status.idle": "2021-08-06T12:10:59.411033Z",
     "shell.execute_reply": "2021-08-06T12:10:59.411792Z"
    },
    "papermill": {
     "duration": 0.039726,
     "end_time": "2021-08-06T12:10:59.411955",
     "exception": false,
     "start_time": "2021-08-06T12:10:59.372229",
     "status": "completed"
    },
    "tags": []
   },
   "outputs": [],
   "source": [
    "#hide\n",
    "# g = g[cols]"
   ]
  },
  {
   "cell_type": "code",
   "execution_count": 31,
   "id": "subject-dublin",
   "metadata": {
    "execution": {
     "iopub.execute_input": "2021-08-06T12:10:59.486682Z",
     "iopub.status.busy": "2021-08-06T12:10:59.485976Z",
     "iopub.status.idle": "2021-08-06T12:10:59.488566Z",
     "shell.execute_reply": "2021-08-06T12:10:59.488122Z"
    },
    "papermill": {
     "duration": 0.040797,
     "end_time": "2021-08-06T12:10:59.488670",
     "exception": false,
     "start_time": "2021-08-06T12:10:59.447873",
     "status": "completed"
    },
    "tags": []
   },
   "outputs": [],
   "source": [
    "#hide\n",
    "# g['continent'] = g['continent'].map(mapping['map.continent'])"
   ]
  },
  {
   "cell_type": "code",
   "execution_count": 32,
   "id": "freelance-scout",
   "metadata": {
    "execution": {
     "iopub.execute_input": "2021-08-06T12:10:59.558477Z",
     "iopub.status.busy": "2021-08-06T12:10:59.557753Z",
     "iopub.status.idle": "2021-08-06T12:10:59.560374Z",
     "shell.execute_reply": "2021-08-06T12:10:59.559905Z"
    },
    "papermill": {
     "duration": 0.039341,
     "end_time": "2021-08-06T12:10:59.560511",
     "exception": false,
     "start_time": "2021-08-06T12:10:59.521170",
     "status": "completed"
    },
    "tags": []
   },
   "outputs": [],
   "source": [
    "#hide\n",
    "# g.head()"
   ]
  },
  {
   "cell_type": "code",
   "execution_count": 33,
   "id": "limited-engine",
   "metadata": {
    "execution": {
     "iopub.execute_input": "2021-08-06T12:10:59.633007Z",
     "iopub.status.busy": "2021-08-06T12:10:59.632388Z",
     "iopub.status.idle": "2021-08-06T12:10:59.634193Z",
     "shell.execute_reply": "2021-08-06T12:10:59.634746Z"
    },
    "papermill": {
     "duration": 0.039257,
     "end_time": "2021-08-06T12:10:59.634944",
     "exception": false,
     "start_time": "2021-08-06T12:10:59.595687",
     "status": "completed"
    },
    "tags": []
   },
   "outputs": [],
   "source": [
    "# hide\n",
    "# g['date'] = g['date'].astype('datetime64[ns]')"
   ]
  },
  {
   "cell_type": "code",
   "execution_count": 34,
   "id": "sophisticated-supervisor",
   "metadata": {
    "execution": {
     "iopub.execute_input": "2021-08-06T12:10:59.717987Z",
     "iopub.status.busy": "2021-08-06T12:10:59.717353Z",
     "iopub.status.idle": "2021-08-06T12:10:59.720392Z",
     "shell.execute_reply": "2021-08-06T12:10:59.720902Z"
    },
    "papermill": {
     "duration": 0.051056,
     "end_time": "2021-08-06T12:10:59.721066",
     "exception": false,
     "start_time": "2021-08-06T12:10:59.670010",
     "status": "completed"
    },
    "tags": []
   },
   "outputs": [],
   "source": [
    "#hide\n",
    "# g['date'] = g.date.dt.dayofyear"
   ]
  },
  {
   "cell_type": "code",
   "execution_count": 35,
   "id": "inside-dubai",
   "metadata": {
    "execution": {
     "iopub.execute_input": "2021-08-06T12:10:59.796812Z",
     "iopub.status.busy": "2021-08-06T12:10:59.795418Z",
     "iopub.status.idle": "2021-08-06T12:10:59.797421Z",
     "shell.execute_reply": "2021-08-06T12:10:59.797883Z"
    },
    "papermill": {
     "duration": 0.039123,
     "end_time": "2021-08-06T12:10:59.797999",
     "exception": false,
     "start_time": "2021-08-06T12:10:59.758876",
     "status": "completed"
    },
    "tags": []
   },
   "outputs": [],
   "source": [
    "#hide\n",
    "# g = g.rename(columns= {'continent':'group','country':'name','cases':'value'})"
   ]
  },
  {
   "cell_type": "code",
   "execution_count": 36,
   "id": "fleet-motorcycle",
   "metadata": {
    "execution": {
     "iopub.execute_input": "2021-08-06T12:10:59.874237Z",
     "iopub.status.busy": "2021-08-06T12:10:59.873627Z",
     "iopub.status.idle": "2021-08-06T12:10:59.875611Z",
     "shell.execute_reply": "2021-08-06T12:10:59.876250Z"
    },
    "papermill": {
     "duration": 0.04101,
     "end_time": "2021-08-06T12:10:59.876392",
     "exception": false,
     "start_time": "2021-08-06T12:10:59.835382",
     "status": "completed"
    },
    "tags": []
   },
   "outputs": [],
   "source": [
    "#hide\n",
    "# cols = ['name','group','day','value']"
   ]
  },
  {
   "cell_type": "code",
   "execution_count": 37,
   "id": "continued-sleeping",
   "metadata": {
    "execution": {
     "iopub.execute_input": "2021-08-06T12:10:59.954430Z",
     "iopub.status.busy": "2021-08-06T12:10:59.953472Z",
     "iopub.status.idle": "2021-08-06T12:10:59.955757Z",
     "shell.execute_reply": "2021-08-06T12:10:59.956304Z"
    },
    "papermill": {
     "duration": 0.045657,
     "end_time": "2021-08-06T12:10:59.956431",
     "exception": false,
     "start_time": "2021-08-06T12:10:59.910774",
     "status": "completed"
    },
    "tags": []
   },
   "outputs": [],
   "source": [
    "#hide\n",
    "# g.rename(columns= {'date':'day'},inplace = True)"
   ]
  },
  {
   "cell_type": "code",
   "execution_count": 38,
   "id": "major-fight",
   "metadata": {
    "execution": {
     "iopub.execute_input": "2021-08-06T12:11:00.032050Z",
     "iopub.status.busy": "2021-08-06T12:11:00.031390Z",
     "iopub.status.idle": "2021-08-06T12:11:00.034548Z",
     "shell.execute_reply": "2021-08-06T12:11:00.035184Z"
    },
    "papermill": {
     "duration": 0.046688,
     "end_time": "2021-08-06T12:11:00.035406",
     "exception": false,
     "start_time": "2021-08-06T12:10:59.988718",
     "status": "completed"
    },
    "tags": []
   },
   "outputs": [],
   "source": [
    "#hide\n",
    "# g = g[cols]"
   ]
  },
  {
   "cell_type": "code",
   "execution_count": 39,
   "id": "structured-mobile",
   "metadata": {
    "execution": {
     "iopub.execute_input": "2021-08-06T12:11:00.111782Z",
     "iopub.status.busy": "2021-08-06T12:11:00.111114Z",
     "iopub.status.idle": "2021-08-06T12:11:00.113470Z",
     "shell.execute_reply": "2021-08-06T12:11:00.112979Z"
    },
    "papermill": {
     "duration": 0.040413,
     "end_time": "2021-08-06T12:11:00.113579",
     "exception": false,
     "start_time": "2021-08-06T12:11:00.073166",
     "status": "completed"
    },
    "tags": []
   },
   "outputs": [],
   "source": [
    "# #hide\n",
    "# g = g[g.group.notna()]"
   ]
  },
  {
   "cell_type": "code",
   "execution_count": 40,
   "id": "determined-closing",
   "metadata": {
    "execution": {
     "iopub.execute_input": "2021-08-06T12:11:00.192144Z",
     "iopub.status.busy": "2021-08-06T12:11:00.191544Z",
     "iopub.status.idle": "2021-08-06T12:11:00.194248Z",
     "shell.execute_reply": "2021-08-06T12:11:00.193613Z"
    },
    "papermill": {
     "duration": 0.044082,
     "end_time": "2021-08-06T12:11:00.194409",
     "exception": false,
     "start_time": "2021-08-06T12:11:00.150327",
     "status": "completed"
    },
    "tags": []
   },
   "outputs": [],
   "source": [
    "# #hide\n",
    "# colors = dict(zip(\n",
    "#     [\"Oceania\", \"Europe\", \"Asia\", \"South America\", \"Middle East\", \"North America\", \"Africa\"],\n",
    "#     [\"#adb0ff\", \"#ffb3ff\", \"#90d595\", \"#e48381\", \"#aafbff\", \"#f7bb5f\", \"#eafb50\"]\n",
    "# ))\n",
    "# group_lk = g.set_index('name')['group'].to_dict()"
   ]
  },
  {
   "cell_type": "code",
   "execution_count": null,
   "id": "gross-drinking",
   "metadata": {
    "papermill": {
     "duration": 0.03714,
     "end_time": "2021-08-06T12:11:00.267772",
     "exception": false,
     "start_time": "2021-08-06T12:11:00.230632",
     "status": "completed"
    },
    "tags": []
   },
   "outputs": [],
   "source": []
  },
  {
   "cell_type": "code",
   "execution_count": 41,
   "id": "subject-macintosh",
   "metadata": {
    "execution": {
     "iopub.execute_input": "2021-08-06T12:11:00.339966Z",
     "iopub.status.busy": "2021-08-06T12:11:00.339317Z",
     "iopub.status.idle": "2021-08-06T12:11:00.341476Z",
     "shell.execute_reply": "2021-08-06T12:11:00.341939Z"
    },
    "papermill": {
     "duration": 0.040114,
     "end_time": "2021-08-06T12:11:00.342056",
     "exception": false,
     "start_time": "2021-08-06T12:11:00.301942",
     "status": "completed"
    },
    "tags": []
   },
   "outputs": [],
   "source": [
    "# #hide\n",
    "# fig, ax = plt.subplots(figsize=(15, 8))\n",
    "\n",
    "# def draw_barchart(current_day):\n",
    "#     dff = g[g['day'].eq(current_day)].sort_values(by='value', ascending=True).tail(10)\n",
    "#     ax.clear()\n",
    "#     ax.barh(dff['name'], dff['value'], color=[colors[group_lk[x]] for x in dff['name']])\n",
    "#     dx = dff['value'].max() / 200\n",
    "    \n",
    "#     for i, (value, name) in enumerate(zip(dff['value'], dff['name'])):\n",
    "#         ax.text(value-dx, i,     name,           size=14, weight=600, ha='right', va='bottom')\n",
    "#         ax.text(value-dx, i-.25, group_lk[name], size=10, color='#444444', ha='right', va='baseline')\n",
    "#         ax.text(value+dx, i,     f'{value:,.0f}',  size=14, ha='left',  va='center')\n",
    "#     ax.text(1, 0.4, current_day, transform=ax.transAxes, color='#777777', size=46, ha='right', weight=800)\n",
    "#     ax.text(0, 1.06, 'Population (thousands)', transform=ax.transAxes, size=12, color='#777777')\n",
    "#     ax.xaxis.set_major_formatter(ticker.StrMethodFormatter('{x:,.0f}'))\n",
    "#     ax.xaxis.set_ticks_position('top')\n",
    "#     ax.tick_params(axis='x', colors='#777777', labelsize=12)\n",
    "#     ax.set_yticks([])\n",
    "#     ax.margins(0, 0.01)\n",
    "#     ax.grid(which='major', axis='x', linestyle='-')\n",
    "#     ax.set_axisbelow(True)\n",
    "    \n",
    "#     ax.text(0, 1.15, 'Coronavirus',\n",
    "#             transform=ax.transAxes, size=24, weight=600, ha='left', va='top')\n",
    "# #     ax.text(1, 0, 'by @pratapvardhan; credit @jburnmurdoch', transform=ax.transAxes, color='#777777', ha='right',\n",
    "# #             bbox=dict(facecolor='white', alpha=0.8, edgecolor='white'))\n",
    "#     plt.box(False)"
   ]
  },
  {
   "cell_type": "code",
   "execution_count": 42,
   "id": "sexual-wages",
   "metadata": {
    "execution": {
     "iopub.execute_input": "2021-08-06T12:11:00.413498Z",
     "iopub.status.busy": "2021-08-06T12:11:00.412872Z",
     "iopub.status.idle": "2021-08-06T12:11:00.415633Z",
     "shell.execute_reply": "2021-08-06T12:11:00.415047Z"
    },
    "papermill": {
     "duration": 0.041093,
     "end_time": "2021-08-06T12:11:00.415807",
     "exception": false,
     "start_time": "2021-08-06T12:11:00.374714",
     "status": "completed"
    },
    "tags": []
   },
   "outputs": [],
   "source": [
    "# #hide_input\n",
    "# fig, ax = plt.subplots(figsize=(15, 8))\n",
    "# animator = animation.FuncAnimation(fig, draw_barchart, frames=range(g.day.values.min(), g.day.values.max()))\n",
    "# HTML(animator.to_jshtml())\n",
    "# # or use animator.to_html5_video() or animator.save() "
   ]
  },
  {
   "cell_type": "code",
   "execution_count": null,
   "id": "australian-container",
   "metadata": {
    "papermill": {
     "duration": 0.03369,
     "end_time": "2021-08-06T12:11:00.484258",
     "exception": false,
     "start_time": "2021-08-06T12:11:00.450568",
     "status": "completed"
    },
    "tags": []
   },
   "outputs": [],
   "source": []
  },
  {
   "cell_type": "code",
   "execution_count": null,
   "id": "mediterranean-pontiac",
   "metadata": {
    "papermill": {
     "duration": 0.033015,
     "end_time": "2021-08-06T12:11:00.553068",
     "exception": false,
     "start_time": "2021-08-06T12:11:00.520053",
     "status": "completed"
    },
    "tags": []
   },
   "outputs": [],
   "source": []
  },
  {
   "cell_type": "code",
   "execution_count": null,
   "id": "aging-legislature",
   "metadata": {
    "papermill": {
     "duration": 0.035144,
     "end_time": "2021-08-06T12:11:00.620881",
     "exception": false,
     "start_time": "2021-08-06T12:11:00.585737",
     "status": "completed"
    },
    "tags": []
   },
   "outputs": [],
   "source": []
  }
 ],
 "metadata": {
  "kernelspec": {
   "display_name": "Python 3",
   "language": "python",
   "name": "python3"
  },
  "language_info": {
   "codemirror_mode": {
    "name": "ipython",
    "version": 3
   },
   "file_extension": ".py",
   "mimetype": "text/x-python",
   "name": "python",
   "nbconvert_exporter": "python",
   "pygments_lexer": "ipython3",
   "version": "3.6.14"
  },
  "papermill": {
   "duration": 7.35211,
   "end_time": "2021-08-06T12:11:01.824176",
   "environment_variables": {},
   "exception": null,
   "input_path": "2020-03-21-covid19exp.ipynb",
   "output_path": "2020-03-21-covid19exp.ipynb",
   "parameters": {},
   "start_time": "2021-08-06T12:10:54.472066",
   "version": "2.0.0"
  }
 },
 "nbformat": 4,
 "nbformat_minor": 5
}