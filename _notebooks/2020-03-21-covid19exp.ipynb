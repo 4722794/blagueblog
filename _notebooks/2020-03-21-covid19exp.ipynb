{
 "cells": [
  {
   "cell_type": "markdown",
   "id": "muslim-click",
   "metadata": {
    "papermill": {
     "duration": 0.044475,
     "end_time": "2022-08-11T12:19:26.666541",
     "exception": false,
     "start_time": "2022-08-11T12:19:26.622066",
     "status": "completed"
    },
    "tags": []
   },
   "source": [
    "# COVID-19 Case Race\n",
    "> A race chart to see rising cases around the world\n",
    "\n",
    "- author: Hargun Oberoi\n",
    "- image: images/covid-overview.png\n",
    "- hide: false\n",
    "- badges: false"
   ]
  },
  {
   "cell_type": "code",
   "execution_count": 1,
   "id": "proof-material",
   "metadata": {
    "execution": {
     "iopub.execute_input": "2022-08-11T12:19:26.755884Z",
     "iopub.status.busy": "2022-08-11T12:19:26.755091Z",
     "iopub.status.idle": "2022-08-11T12:19:27.179384Z",
     "shell.execute_reply": "2022-08-11T12:19:27.178725Z"
    },
    "papermill": {
     "duration": 0.47382,
     "end_time": "2022-08-11T12:19:27.179559",
     "exception": false,
     "start_time": "2022-08-11T12:19:26.705739",
     "status": "completed"
    },
    "tags": []
   },
   "outputs": [],
   "source": [
    "#hide\n",
    "import numpy as np\n",
    "import pandas as pd\n",
    "from jinja2 import Template\n",
    "from IPython.display import HTML"
   ]
  },
  {
   "cell_type": "code",
   "execution_count": 2,
   "id": "developed-terminology",
   "metadata": {
    "execution": {
     "iopub.execute_input": "2022-08-11T12:19:27.266991Z",
     "iopub.status.busy": "2022-08-11T12:19:27.266230Z",
     "iopub.status.idle": "2022-08-11T12:19:27.268833Z",
     "shell.execute_reply": "2022-08-11T12:19:27.269426Z"
    },
    "papermill": {
     "duration": 0.048808,
     "end_time": "2022-08-11T12:19:27.269581",
     "exception": false,
     "start_time": "2022-08-11T12:19:27.220773",
     "status": "completed"
    },
    "tags": []
   },
   "outputs": [],
   "source": [
    "#hide\n",
    "\n",
    "# FETCH\n",
    "base_url = 'https://raw.githubusercontent.com/pratapvardhan/notebooks/master/covid19/'\n",
    "paths = {\n",
    "    'mapping': base_url + 'mapping_countries.csv',\n",
    "    'overview': base_url + 'overview.tpl'\n",
    "}"
   ]
  },
  {
   "cell_type": "code",
   "execution_count": 3,
   "id": "dynamic-saver",
   "metadata": {
    "execution": {
     "iopub.execute_input": "2022-08-11T12:19:27.358249Z",
     "iopub.status.busy": "2022-08-11T12:19:27.357485Z",
     "iopub.status.idle": "2022-08-11T12:19:27.361830Z",
     "shell.execute_reply": "2022-08-11T12:19:27.361210Z"
    },
    "papermill": {
     "duration": 0.054681,
     "end_time": "2022-08-11T12:19:27.361970",
     "exception": false,
     "start_time": "2022-08-11T12:19:27.307289",
     "status": "completed"
    },
    "tags": []
   },
   "outputs": [
    {
     "data": {
      "text/plain": [
       "'https://raw.githubusercontent.com/pratapvardhan/notebooks/master/covid19/mapping_countries.csv'"
      ]
     },
     "execution_count": 3,
     "metadata": {},
     "output_type": "execute_result"
    }
   ],
   "source": [
    "#hide\n",
    "paths['mapping']"
   ]
  },
  {
   "cell_type": "code",
   "execution_count": 4,
   "id": "urban-software",
   "metadata": {
    "execution": {
     "iopub.execute_input": "2022-08-11T12:19:27.449963Z",
     "iopub.status.busy": "2022-08-11T12:19:27.449210Z",
     "iopub.status.idle": "2022-08-11T12:19:27.452402Z",
     "shell.execute_reply": "2022-08-11T12:19:27.451778Z"
    },
    "papermill": {
     "duration": 0.049019,
     "end_time": "2022-08-11T12:19:27.452543",
     "exception": false,
     "start_time": "2022-08-11T12:19:27.403524",
     "status": "completed"
    },
    "tags": []
   },
   "outputs": [],
   "source": [
    "#hide\n",
    "def get_mappings(url):\n",
    "    df = pd.read_csv(url)\n",
    "    return {\n",
    "        'df': df,\n",
    "        'replace.country': dict(df.dropna(subset=['Name']).set_index('Country')['Name']),\n",
    "        'map.continent': dict(df.set_index('Name')['Continent'])\n",
    "    }"
   ]
  },
  {
   "cell_type": "code",
   "execution_count": 5,
   "id": "intimate-machinery",
   "metadata": {
    "execution": {
     "iopub.execute_input": "2022-08-11T12:19:27.537706Z",
     "iopub.status.busy": "2022-08-11T12:19:27.536923Z",
     "iopub.status.idle": "2022-08-11T12:19:27.566406Z",
     "shell.execute_reply": "2022-08-11T12:19:27.565617Z"
    },
    "papermill": {
     "duration": 0.074446,
     "end_time": "2022-08-11T12:19:27.566562",
     "exception": false,
     "start_time": "2022-08-11T12:19:27.492116",
     "status": "completed"
    },
    "tags": []
   },
   "outputs": [],
   "source": [
    "#hide\n",
    "mapping = get_mappings(paths['mapping'])"
   ]
  },
  {
   "cell_type": "code",
   "execution_count": 6,
   "id": "certified-tactics",
   "metadata": {
    "execution": {
     "iopub.execute_input": "2022-08-11T12:19:27.650864Z",
     "iopub.status.busy": "2022-08-11T12:19:27.650124Z",
     "iopub.status.idle": "2022-08-11T12:19:27.653634Z",
     "shell.execute_reply": "2022-08-11T12:19:27.653003Z"
    },
    "papermill": {
     "duration": 0.048223,
     "end_time": "2022-08-11T12:19:27.653775",
     "exception": false,
     "start_time": "2022-08-11T12:19:27.605552",
     "status": "completed"
    },
    "tags": []
   },
   "outputs": [],
   "source": [
    "#hide\n",
    "def get_template(path):\n",
    "    from urllib.parse import urlparse\n",
    "    if bool(urlparse(path).netloc):\n",
    "        from urllib.request import urlopen\n",
    "        return urlopen(path).read().decode('utf8')\n",
    "    return open(path).read()"
   ]
  },
  {
   "cell_type": "code",
   "execution_count": 7,
   "id": "realistic-blast",
   "metadata": {
    "execution": {
     "iopub.execute_input": "2022-08-11T12:19:27.735851Z",
     "iopub.status.busy": "2022-08-11T12:19:27.735089Z",
     "iopub.status.idle": "2022-08-11T12:19:27.737780Z",
     "shell.execute_reply": "2022-08-11T12:19:27.738342Z"
    },
    "papermill": {
     "duration": 0.046965,
     "end_time": "2022-08-11T12:19:27.738505",
     "exception": false,
     "start_time": "2022-08-11T12:19:27.691540",
     "status": "completed"
    },
    "tags": []
   },
   "outputs": [],
   "source": [
    "#hide\n",
    "def get_frame(name):\n",
    "    url = (\n",
    "        'https://raw.githubusercontent.com/CSSEGISandData/COVID-19/master/csse_covid_19_data/'\n",
    "        f'csse_covid_19_time_series/time_series_covid19_{name}_global.csv')\n",
    "    df = pd.read_csv(url)\n",
    "    # rename countries\n",
    "    df['Country/Region'] = df['Country/Region'].replace(mapping['replace.country'])\n",
    "    return df"
   ]
  },
  {
   "cell_type": "code",
   "execution_count": 8,
   "id": "affiliated-characterization",
   "metadata": {
    "execution": {
     "iopub.execute_input": "2022-08-11T12:19:27.824897Z",
     "iopub.status.busy": "2022-08-11T12:19:27.824123Z",
     "iopub.status.idle": "2022-08-11T12:19:27.826016Z",
     "shell.execute_reply": "2022-08-11T12:19:27.826743Z"
    },
    "papermill": {
     "duration": 0.049335,
     "end_time": "2022-08-11T12:19:27.826909",
     "exception": false,
     "start_time": "2022-08-11T12:19:27.777574",
     "status": "completed"
    },
    "tags": []
   },
   "outputs": [],
   "source": [
    "#hide\n",
    "def get_dates(df):\n",
    "    dt_cols = df.columns[~df.columns.isin(['Province/State', 'Country/Region', 'Lat', 'Long'])]\n",
    "    LAST_DATE_I = -1\n",
    "    # sometimes last column may be empty, then go backwards\n",
    "    for i in range(-1, -len(dt_cols), -1):\n",
    "        if not df[dt_cols[i]].fillna(0).eq(0).all():\n",
    "            LAST_DATE_I = i\n",
    "            break\n",
    "    return LAST_DATE_I, dt_cols"
   ]
  },
  {
   "cell_type": "code",
   "execution_count": 9,
   "id": "recent-optimization",
   "metadata": {
    "execution": {
     "iopub.execute_input": "2022-08-11T12:19:27.910820Z",
     "iopub.status.busy": "2022-08-11T12:19:27.909974Z",
     "iopub.status.idle": "2022-08-11T12:19:28.394388Z",
     "shell.execute_reply": "2022-08-11T12:19:28.393731Z"
    },
    "papermill": {
     "duration": 0.529403,
     "end_time": "2022-08-11T12:19:28.394538",
     "exception": false,
     "start_time": "2022-08-11T12:19:27.865135",
     "status": "completed"
    },
    "tags": []
   },
   "outputs": [],
   "source": [
    "#hide\n",
    "COL_REGION = 'Country/Region'\n",
    "# Confirmed, Recovered, Deaths\n",
    "df = get_frame('confirmed')\n",
    "# dft_: timeseries, dfc_: today country agg\n",
    "dft_cases = df\n",
    "dft_deaths = get_frame('deaths')\n",
    "dft_recovered = get_frame('recovered')\n",
    "LAST_DATE_I, dt_cols = get_dates(df)"
   ]
  },
  {
   "cell_type": "code",
   "execution_count": 10,
   "id": "absolute-copper",
   "metadata": {
    "execution": {
     "iopub.execute_input": "2022-08-11T12:19:28.480892Z",
     "iopub.status.busy": "2022-08-11T12:19:28.480008Z",
     "iopub.status.idle": "2022-08-11T12:19:28.484462Z",
     "shell.execute_reply": "2022-08-11T12:19:28.485044Z"
    },
    "papermill": {
     "duration": 0.051859,
     "end_time": "2022-08-11T12:19:28.485238",
     "exception": false,
     "start_time": "2022-08-11T12:19:28.433379",
     "status": "completed"
    },
    "tags": []
   },
   "outputs": [],
   "source": [
    "#hide\n",
    "LAST_DATE_I, dt_cols = get_dates(df)\n",
    "dt_today =dt_cols[LAST_DATE_I]\n",
    "# dt_5day = dt_cols[LAST_DATE_I - 5]\n",
    "dt_yday = dt_cols[LAST_DATE_I - 1]"
   ]
  },
  {
   "cell_type": "code",
   "execution_count": 11,
   "id": "restricted-sheriff",
   "metadata": {
    "execution": {
     "iopub.execute_input": "2022-08-11T12:19:28.571317Z",
     "iopub.status.busy": "2022-08-11T12:19:28.570445Z",
     "iopub.status.idle": "2022-08-11T12:19:28.579007Z",
     "shell.execute_reply": "2022-08-11T12:19:28.578381Z"
    },
    "papermill": {
     "duration": 0.055541,
     "end_time": "2022-08-11T12:19:28.579150",
     "exception": false,
     "start_time": "2022-08-11T12:19:28.523609",
     "status": "completed"
    },
    "tags": []
   },
   "outputs": [],
   "source": [
    "#hide\n",
    "dfc_cases = dft_cases.groupby(COL_REGION)[dt_today].sum()\n",
    "dfc_deaths = dft_deaths.groupby(COL_REGION)[dt_today].sum()\n",
    "# dfp_cases = dft_cases.groupby(COL_REGION)[dt_5day].sum()\n",
    "# dfp_deaths = dft_deaths.groupby(COL_REGION)[dt_5day].sum()\n",
    "dfp_cases = dft_cases.groupby(COL_REGION)[dt_yday].sum()\n",
    "dfp_deaths = dft_deaths.groupby(COL_REGION)[dt_yday].sum()"
   ]
  },
  {
   "cell_type": "code",
   "execution_count": 12,
   "id": "deluxe-hepatitis",
   "metadata": {
    "execution": {
     "iopub.execute_input": "2022-08-11T12:19:28.674835Z",
     "iopub.status.busy": "2022-08-11T12:19:28.673971Z",
     "iopub.status.idle": "2022-08-11T12:19:28.679583Z",
     "shell.execute_reply": "2022-08-11T12:19:28.680309Z"
    },
    "papermill": {
     "duration": 0.061198,
     "end_time": "2022-08-11T12:19:28.680477",
     "exception": false,
     "start_time": "2022-08-11T12:19:28.619279",
     "status": "completed"
    },
    "tags": []
   },
   "outputs": [],
   "source": [
    "#hide\n",
    "df_table = (pd.DataFrame(dict(Cases = dfc_cases, Deaths = dfc_deaths, PCases = dfp_cases, PDeaths = dfp_deaths))\n",
    "            .sort_values(by = ['Cases','Deaths'], ascending = [False, False])\n",
    "            .reset_index())"
   ]
  },
  {
   "cell_type": "code",
   "execution_count": 13,
   "id": "educational-chancellor",
   "metadata": {
    "execution": {
     "iopub.execute_input": "2022-08-11T12:19:28.786026Z",
     "iopub.status.busy": "2022-08-11T12:19:28.785212Z",
     "iopub.status.idle": "2022-08-11T12:19:28.795625Z",
     "shell.execute_reply": "2022-08-11T12:19:28.794988Z"
    },
    "papermill": {
     "duration": 0.07411,
     "end_time": "2022-08-11T12:19:28.795777",
     "exception": false,
     "start_time": "2022-08-11T12:19:28.721667",
     "status": "completed"
    },
    "tags": []
   },
   "outputs": [
    {
     "data": {
      "text/html": [
       "<div>\n",
       "<style scoped>\n",
       "    .dataframe tbody tr th:only-of-type {\n",
       "        vertical-align: middle;\n",
       "    }\n",
       "\n",
       "    .dataframe tbody tr th {\n",
       "        vertical-align: top;\n",
       "    }\n",
       "\n",
       "    .dataframe thead th {\n",
       "        text-align: right;\n",
       "    }\n",
       "</style>\n",
       "<table border=\"1\" class=\"dataframe\">\n",
       "  <thead>\n",
       "    <tr style=\"text-align: right;\">\n",
       "      <th></th>\n",
       "      <th>Country/Region</th>\n",
       "      <th>Cases</th>\n",
       "      <th>Deaths</th>\n",
       "      <th>PCases</th>\n",
       "      <th>PDeaths</th>\n",
       "      <th>Cases (+)</th>\n",
       "      <th>Deaths (+)</th>\n",
       "      <th>Fatality Rate</th>\n",
       "      <th>Continent</th>\n",
       "    </tr>\n",
       "  </thead>\n",
       "  <tbody>\n",
       "    <tr>\n",
       "      <th>0</th>\n",
       "      <td>US</td>\n",
       "      <td>92562177</td>\n",
       "      <td>1035548</td>\n",
       "      <td>92341611</td>\n",
       "      <td>1034621</td>\n",
       "      <td>220566</td>\n",
       "      <td>927</td>\n",
       "      <td>1.12</td>\n",
       "      <td>North America</td>\n",
       "    </tr>\n",
       "    <tr>\n",
       "      <th>1</th>\n",
       "      <td>India</td>\n",
       "      <td>44206996</td>\n",
       "      <td>526879</td>\n",
       "      <td>44190697</td>\n",
       "      <td>526826</td>\n",
       "      <td>16299</td>\n",
       "      <td>53</td>\n",
       "      <td>1.19</td>\n",
       "      <td>Asia</td>\n",
       "    </tr>\n",
       "    <tr>\n",
       "      <th>2</th>\n",
       "      <td>France</td>\n",
       "      <td>34359013</td>\n",
       "      <td>153950</td>\n",
       "      <td>34331725</td>\n",
       "      <td>153862</td>\n",
       "      <td>27288</td>\n",
       "      <td>88</td>\n",
       "      <td>0.45</td>\n",
       "      <td>Europe</td>\n",
       "    </tr>\n",
       "    <tr>\n",
       "      <th>3</th>\n",
       "      <td>Brazil</td>\n",
       "      <td>34066000</td>\n",
       "      <td>680531</td>\n",
       "      <td>34066000</td>\n",
       "      <td>680531</td>\n",
       "      <td>0</td>\n",
       "      <td>0</td>\n",
       "      <td>2.00</td>\n",
       "      <td>South America</td>\n",
       "    </tr>\n",
       "    <tr>\n",
       "      <th>4</th>\n",
       "      <td>Germany</td>\n",
       "      <td>31439645</td>\n",
       "      <td>145394</td>\n",
       "      <td>31379757</td>\n",
       "      <td>145241</td>\n",
       "      <td>59888</td>\n",
       "      <td>153</td>\n",
       "      <td>0.46</td>\n",
       "      <td>Europe</td>\n",
       "    </tr>\n",
       "  </tbody>\n",
       "</table>\n",
       "</div>"
      ],
      "text/plain": [
       "  Country/Region     Cases   Deaths    PCases  PDeaths  Cases (+)  Deaths (+)  \\\n",
       "0             US  92562177  1035548  92341611  1034621     220566         927   \n",
       "1          India  44206996   526879  44190697   526826      16299          53   \n",
       "2         France  34359013   153950  34331725   153862      27288          88   \n",
       "3         Brazil  34066000   680531  34066000   680531          0           0   \n",
       "4        Germany  31439645   145394  31379757   145241      59888         153   \n",
       "\n",
       "   Fatality Rate      Continent  \n",
       "0           1.12  North America  \n",
       "1           1.19           Asia  \n",
       "2           0.45         Europe  \n",
       "3           2.00  South America  \n",
       "4           0.46         Europe  "
      ]
     },
     "execution_count": 13,
     "metadata": {},
     "output_type": "execute_result"
    }
   ],
   "source": [
    "#hide\n",
    "for c in 'Cases, Deaths'.split(', '):\n",
    "    df_table[f'{c} (+)'] = (df_table[c] - df_table[f'P{c}']).clip(0)\n",
    "    #Clip ça veut dire, les chiffres negatif sont interdit\n",
    "df_table['Fatality Rate'] = (100* df_table['Deaths']/ df_table['Cases']).round(2)\n",
    "df_table['Continent'] = df_table['Country/Region'].map(mapping['map.continent'])\n",
    "df_table.head(5)"
   ]
  },
  {
   "cell_type": "code",
   "execution_count": 14,
   "id": "aboriginal-bulgaria",
   "metadata": {
    "execution": {
     "iopub.execute_input": "2022-08-11T12:19:28.881831Z",
     "iopub.status.busy": "2022-08-11T12:19:28.880993Z",
     "iopub.status.idle": "2022-08-11T12:19:28.883636Z",
     "shell.execute_reply": "2022-08-11T12:19:28.884222Z"
    },
    "papermill": {
     "duration": 0.048862,
     "end_time": "2022-08-11T12:19:28.884390",
     "exception": false,
     "start_time": "2022-08-11T12:19:28.835528",
     "status": "completed"
    },
    "tags": []
   },
   "outputs": [],
   "source": [
    "#hide\n",
    "#delete problematic countries from table\n",
    "df_table = df_table[~df_table['Country/Region'].isin(['Cape Verde', 'Cruise Ship', 'Kosovo'])]"
   ]
  },
  {
   "cell_type": "code",
   "execution_count": 15,
   "id": "fantastic-effect",
   "metadata": {
    "execution": {
     "iopub.execute_input": "2022-08-11T12:19:28.971844Z",
     "iopub.status.busy": "2022-08-11T12:19:28.971066Z",
     "iopub.status.idle": "2022-08-11T12:19:28.993594Z",
     "shell.execute_reply": "2022-08-11T12:19:28.994327Z"
    },
    "papermill": {
     "duration": 0.071636,
     "end_time": "2022-08-11T12:19:28.994497",
     "exception": false,
     "start_time": "2022-08-11T12:19:28.922861",
     "status": "completed"
    },
    "tags": []
   },
   "outputs": [
    {
     "data": {
      "text/html": [
       "<div>\n",
       "<style scoped>\n",
       "    .dataframe tbody tr th:only-of-type {\n",
       "        vertical-align: middle;\n",
       "    }\n",
       "\n",
       "    .dataframe tbody tr th {\n",
       "        vertical-align: top;\n",
       "    }\n",
       "\n",
       "    .dataframe thead th {\n",
       "        text-align: right;\n",
       "    }\n",
       "</style>\n",
       "<table border=\"1\" class=\"dataframe\">\n",
       "  <thead>\n",
       "    <tr style=\"text-align: right;\">\n",
       "      <th></th>\n",
       "      <th>Country/Region</th>\n",
       "      <th>Cases</th>\n",
       "      <th>Deaths</th>\n",
       "      <th>PCases</th>\n",
       "      <th>PDeaths</th>\n",
       "      <th>Cases (+)</th>\n",
       "      <th>Deaths (+)</th>\n",
       "      <th>Fatality Rate</th>\n",
       "      <th>Continent</th>\n",
       "    </tr>\n",
       "  </thead>\n",
       "  <tbody>\n",
       "    <tr>\n",
       "      <th>0</th>\n",
       "      <td>US</td>\n",
       "      <td>92562177</td>\n",
       "      <td>1035548</td>\n",
       "      <td>92341611</td>\n",
       "      <td>1034621</td>\n",
       "      <td>220566</td>\n",
       "      <td>927</td>\n",
       "      <td>1.1</td>\n",
       "      <td>North America</td>\n",
       "    </tr>\n",
       "    <tr>\n",
       "      <th>1</th>\n",
       "      <td>India</td>\n",
       "      <td>44206996</td>\n",
       "      <td>526879</td>\n",
       "      <td>44190697</td>\n",
       "      <td>526826</td>\n",
       "      <td>16299</td>\n",
       "      <td>53</td>\n",
       "      <td>1.2</td>\n",
       "      <td>Asia</td>\n",
       "    </tr>\n",
       "    <tr>\n",
       "      <th>2</th>\n",
       "      <td>France</td>\n",
       "      <td>34359013</td>\n",
       "      <td>153950</td>\n",
       "      <td>34331725</td>\n",
       "      <td>153862</td>\n",
       "      <td>27288</td>\n",
       "      <td>88</td>\n",
       "      <td>0.4</td>\n",
       "      <td>Europe</td>\n",
       "    </tr>\n",
       "    <tr>\n",
       "      <th>3</th>\n",
       "      <td>Brazil</td>\n",
       "      <td>34066000</td>\n",
       "      <td>680531</td>\n",
       "      <td>34066000</td>\n",
       "      <td>680531</td>\n",
       "      <td>0</td>\n",
       "      <td>0</td>\n",
       "      <td>2.0</td>\n",
       "      <td>South America</td>\n",
       "    </tr>\n",
       "    <tr>\n",
       "      <th>4</th>\n",
       "      <td>Germany</td>\n",
       "      <td>31439645</td>\n",
       "      <td>145394</td>\n",
       "      <td>31379757</td>\n",
       "      <td>145241</td>\n",
       "      <td>59888</td>\n",
       "      <td>153</td>\n",
       "      <td>0.5</td>\n",
       "      <td>Europe</td>\n",
       "    </tr>\n",
       "  </tbody>\n",
       "</table>\n",
       "</div>"
      ],
      "text/plain": [
       "  Country/Region     Cases   Deaths    PCases  PDeaths  Cases (+)  Deaths (+)  \\\n",
       "0             US  92562177  1035548  92341611  1034621     220566         927   \n",
       "1          India  44206996   526879  44190697   526826      16299          53   \n",
       "2         France  34359013   153950  34331725   153862      27288          88   \n",
       "3         Brazil  34066000   680531  34066000   680531          0           0   \n",
       "4        Germany  31439645   145394  31379757   145241      59888         153   \n",
       "\n",
       "   Fatality Rate      Continent  \n",
       "0            1.1  North America  \n",
       "1            1.2           Asia  \n",
       "2            0.4         Europe  \n",
       "3            2.0  South America  \n",
       "4            0.5         Europe  "
      ]
     },
     "execution_count": 15,
     "metadata": {},
     "output_type": "execute_result"
    }
   ],
   "source": [
    "#hide\n",
    "df_table = (pd.DataFrame(dict(Cases=dfc_cases, Deaths=dfc_deaths, PCases=dfp_cases, PDeaths=dfp_deaths))\n",
    "             .sort_values(by=['Cases', 'Deaths'], ascending=[False, False])\n",
    "             .reset_index())\n",
    "df_table.rename(columns={'index': 'Country/Region'}, inplace=True)\n",
    "for c in 'Cases, Deaths'.split(', '):\n",
    "    df_table[f'{c} (+)'] = (df_table[c] - df_table[f'P{c}']).clip(0)  # DATA BUG\n",
    "df_table['Fatality Rate'] = (100 * df_table['Deaths'] / df_table['Cases']).round(1)\n",
    "df_table['Continent'] = df_table['Country/Region'].map(mapping['map.continent'])\n",
    "df_table.head(5)"
   ]
  },
  {
   "cell_type": "code",
   "execution_count": 16,
   "id": "fewer-occasion",
   "metadata": {
    "execution": {
     "iopub.execute_input": "2022-08-11T12:19:29.084400Z",
     "iopub.status.busy": "2022-08-11T12:19:29.083628Z",
     "iopub.status.idle": "2022-08-11T12:19:29.086342Z",
     "shell.execute_reply": "2022-08-11T12:19:29.086905Z"
    },
    "papermill": {
     "duration": 0.052221,
     "end_time": "2022-08-11T12:19:29.087139",
     "exception": false,
     "start_time": "2022-08-11T12:19:29.034918",
     "status": "completed"
    },
    "tags": []
   },
   "outputs": [],
   "source": [
    "#hide\n",
    "#delete problematic countries from table\n",
    "df_table = df_table[~df_table['Country/Region'].isin(['Cape Verde', 'Cruise Ship', 'Kosovo'])]"
   ]
  },
  {
   "cell_type": "code",
   "execution_count": 17,
   "id": "related-center",
   "metadata": {
    "execution": {
     "iopub.execute_input": "2022-08-11T12:19:29.186213Z",
     "iopub.status.busy": "2022-08-11T12:19:29.185430Z",
     "iopub.status.idle": "2022-08-11T12:19:29.196351Z",
     "shell.execute_reply": "2022-08-11T12:19:29.196936Z"
    },
    "papermill": {
     "duration": 0.066435,
     "end_time": "2022-08-11T12:19:29.197178",
     "exception": false,
     "start_time": "2022-08-11T12:19:29.130743",
     "status": "completed"
    },
    "tags": []
   },
   "outputs": [],
   "source": [
    "#hide\n",
    "metrics = [df_table.columns[index] for index in [1,2,5,6]]\n",
    "# s_china = df_table[df_table['Country/Region'].eq('China')][metrics].sum().add_prefix('China ')\n",
    "s_us = df_table[df_table['Country/Region'].eq('US')][metrics].sum().add_prefix('US ')\n",
    "s_eu = df_table[df_table['Continent'].eq('Europe')][metrics].sum().add_prefix('EU ')\n",
    "s_ind = df_table[df_table['Country/Region'].eq('India')][metrics].sum().add_prefix('India ')\n",
    "summary = {'updated': pd.to_datetime(dt_today), 'since': pd.to_datetime(dt_yday)}\n",
    "summary = {'updated': pd.to_datetime(dt_today), 'since': pd.to_datetime(dt_yday)}\n",
    "summary = {**summary, **df_table[metrics].sum(), **s_ind, **s_us, **s_eu}"
   ]
  },
  {
   "cell_type": "code",
   "execution_count": 18,
   "id": "engaging-syndrome",
   "metadata": {
    "execution": {
     "iopub.execute_input": "2022-08-11T12:19:29.284274Z",
     "iopub.status.busy": "2022-08-11T12:19:29.283507Z",
     "iopub.status.idle": "2022-08-11T12:19:29.307578Z",
     "shell.execute_reply": "2022-08-11T12:19:29.306925Z"
    },
    "papermill": {
     "duration": 0.070377,
     "end_time": "2022-08-11T12:19:29.307731",
     "exception": false,
     "start_time": "2022-08-11T12:19:29.237354",
     "status": "completed"
    },
    "tags": []
   },
   "outputs": [],
   "source": [
    "#hide\n",
    "dft_ct_new_cases = dft_cases.groupby(COL_REGION)[dt_cols].sum().diff(axis=1).fillna(0).astype(int)"
   ]
  },
  {
   "cell_type": "code",
   "execution_count": 19,
   "id": "neutral-assignment",
   "metadata": {
    "execution": {
     "iopub.execute_input": "2022-08-11T12:19:29.395424Z",
     "iopub.status.busy": "2022-08-11T12:19:29.394657Z",
     "iopub.status.idle": "2022-08-11T12:19:29.397936Z",
     "shell.execute_reply": "2022-08-11T12:19:29.397325Z"
    },
    "papermill": {
     "duration": 0.050373,
     "end_time": "2022-08-11T12:19:29.398080",
     "exception": false,
     "start_time": "2022-08-11T12:19:29.347707",
     "status": "completed"
    },
    "tags": []
   },
   "outputs": [],
   "source": [
    "#hide\n",
    "everydaycases = dft_ct_new_cases.cumsum(axis=1)"
   ]
  },
  {
   "cell_type": "code",
   "execution_count": 20,
   "id": "parliamentary-calgary",
   "metadata": {
    "execution": {
     "iopub.execute_input": "2022-08-11T12:19:29.485312Z",
     "iopub.status.busy": "2022-08-11T12:19:29.484539Z",
     "iopub.status.idle": "2022-08-11T12:19:30.237792Z",
     "shell.execute_reply": "2022-08-11T12:19:30.236340Z"
    },
    "papermill": {
     "duration": 0.799128,
     "end_time": "2022-08-11T12:19:30.237946",
     "exception": false,
     "start_time": "2022-08-11T12:19:29.438818",
     "status": "completed"
    },
    "tags": []
   },
   "outputs": [],
   "source": [
    "#hide\n",
    "import pandas as pd\n",
    "import matplotlib.pyplot as plt\n",
    "import matplotlib.ticker as ticker\n",
    "import matplotlib.animation as animation\n",
    "from IPython.display import HTML"
   ]
  },
  {
   "cell_type": "code",
   "execution_count": 21,
   "id": "lasting-extraction",
   "metadata": {
    "execution": {
     "iopub.execute_input": "2022-08-11T12:19:30.325416Z",
     "iopub.status.busy": "2022-08-11T12:19:30.324482Z",
     "iopub.status.idle": "2022-08-11T12:19:30.332588Z",
     "shell.execute_reply": "2022-08-11T12:19:30.331668Z"
    },
    "papermill": {
     "duration": 0.055009,
     "end_time": "2022-08-11T12:19:30.332739",
     "exception": false,
     "start_time": "2022-08-11T12:19:30.277730",
     "status": "completed"
    },
    "tags": []
   },
   "outputs": [],
   "source": [
    "#hide\n",
    "t = everydaycases.stack()"
   ]
  },
  {
   "cell_type": "code",
   "execution_count": 22,
   "id": "premier-sleeve",
   "metadata": {
    "execution": {
     "iopub.execute_input": "2022-08-11T12:19:30.417856Z",
     "iopub.status.busy": "2022-08-11T12:19:30.417060Z",
     "iopub.status.idle": "2022-08-11T12:19:30.430275Z",
     "shell.execute_reply": "2022-08-11T12:19:30.430834Z"
    },
    "papermill": {
     "duration": 0.058857,
     "end_time": "2022-08-11T12:19:30.431008",
     "exception": false,
     "start_time": "2022-08-11T12:19:30.372151",
     "status": "completed"
    },
    "tags": []
   },
   "outputs": [],
   "source": [
    "#hide\n",
    "g = t.reset_index(['Country/Region'])"
   ]
  },
  {
   "cell_type": "code",
   "execution_count": 23,
   "id": "distributed-pittsburgh",
   "metadata": {
    "execution": {
     "iopub.execute_input": "2022-08-11T12:19:30.515807Z",
     "iopub.status.busy": "2022-08-11T12:19:30.514986Z",
     "iopub.status.idle": "2022-08-11T12:19:30.517779Z",
     "shell.execute_reply": "2022-08-11T12:19:30.518368Z"
    },
    "papermill": {
     "duration": 0.047976,
     "end_time": "2022-08-11T12:19:30.518524",
     "exception": false,
     "start_time": "2022-08-11T12:19:30.470548",
     "status": "completed"
    },
    "tags": []
   },
   "outputs": [],
   "source": [
    "#hide\n",
    "g.index.name = 'date'"
   ]
  },
  {
   "cell_type": "code",
   "execution_count": 24,
   "id": "naked-donor",
   "metadata": {
    "execution": {
     "iopub.execute_input": "2022-08-11T12:19:30.601923Z",
     "iopub.status.busy": "2022-08-11T12:19:30.601181Z",
     "iopub.status.idle": "2022-08-11T12:19:30.604493Z",
     "shell.execute_reply": "2022-08-11T12:19:30.603886Z"
    },
    "papermill": {
     "duration": 0.047147,
     "end_time": "2022-08-11T12:19:30.604630",
     "exception": false,
     "start_time": "2022-08-11T12:19:30.557483",
     "status": "completed"
    },
    "tags": []
   },
   "outputs": [],
   "source": [
    "# #hide\n",
    "# g = g.reset_index(['date'])"
   ]
  },
  {
   "cell_type": "code",
   "execution_count": 25,
   "id": "incomplete-mustang",
   "metadata": {
    "execution": {
     "iopub.execute_input": "2022-08-11T12:19:30.689443Z",
     "iopub.status.busy": "2022-08-11T12:19:30.688664Z",
     "iopub.status.idle": "2022-08-11T12:19:30.691314Z",
     "shell.execute_reply": "2022-08-11T12:19:30.691894Z"
    },
    "papermill": {
     "duration": 0.047697,
     "end_time": "2022-08-11T12:19:30.692049",
     "exception": false,
     "start_time": "2022-08-11T12:19:30.644352",
     "status": "completed"
    },
    "tags": []
   },
   "outputs": [],
   "source": [
    "#hide\n",
    "# g.head()"
   ]
  },
  {
   "cell_type": "code",
   "execution_count": 26,
   "id": "specific-kruger",
   "metadata": {
    "execution": {
     "iopub.execute_input": "2022-08-11T12:19:30.776999Z",
     "iopub.status.busy": "2022-08-11T12:19:30.776227Z",
     "iopub.status.idle": "2022-08-11T12:19:30.779598Z",
     "shell.execute_reply": "2022-08-11T12:19:30.779015Z"
    },
    "papermill": {
     "duration": 0.046965,
     "end_time": "2022-08-11T12:19:30.779739",
     "exception": false,
     "start_time": "2022-08-11T12:19:30.732774",
     "status": "completed"
    },
    "tags": []
   },
   "outputs": [],
   "source": [
    "#hide\n",
    "# g.columns = ['date','country','cases']"
   ]
  },
  {
   "cell_type": "code",
   "execution_count": 27,
   "id": "tender-conversion",
   "metadata": {
    "execution": {
     "iopub.execute_input": "2022-08-11T12:19:30.864025Z",
     "iopub.status.busy": "2022-08-11T12:19:30.863263Z",
     "iopub.status.idle": "2022-08-11T12:19:30.866464Z",
     "shell.execute_reply": "2022-08-11T12:19:30.865729Z"
    },
    "papermill": {
     "duration": 0.04703,
     "end_time": "2022-08-11T12:19:30.866601",
     "exception": false,
     "start_time": "2022-08-11T12:19:30.819571",
     "status": "completed"
    },
    "tags": []
   },
   "outputs": [],
   "source": [
    "#hide\n",
    "# g['continent'] = g.country"
   ]
  },
  {
   "cell_type": "code",
   "execution_count": 28,
   "id": "substantial-wilderness",
   "metadata": {
    "execution": {
     "iopub.execute_input": "2022-08-11T12:19:30.950749Z",
     "iopub.status.busy": "2022-08-11T12:19:30.949999Z",
     "iopub.status.idle": "2022-08-11T12:19:30.953319Z",
     "shell.execute_reply": "2022-08-11T12:19:30.952658Z"
    },
    "papermill": {
     "duration": 0.047463,
     "end_time": "2022-08-11T12:19:30.953458",
     "exception": false,
     "start_time": "2022-08-11T12:19:30.905995",
     "status": "completed"
    },
    "tags": []
   },
   "outputs": [],
   "source": [
    "#hide\n",
    "# cols = list(g.columns.values)"
   ]
  },
  {
   "cell_type": "code",
   "execution_count": 29,
   "id": "solved-farming",
   "metadata": {
    "execution": {
     "iopub.execute_input": "2022-08-11T12:19:31.038360Z",
     "iopub.status.busy": "2022-08-11T12:19:31.037592Z",
     "iopub.status.idle": "2022-08-11T12:19:31.040956Z",
     "shell.execute_reply": "2022-08-11T12:19:31.040343Z"
    },
    "papermill": {
     "duration": 0.04742,
     "end_time": "2022-08-11T12:19:31.041095",
     "exception": false,
     "start_time": "2022-08-11T12:19:30.993675",
     "status": "completed"
    },
    "tags": []
   },
   "outputs": [],
   "source": [
    "#hide\n",
    "# cols.insert(0, cols.pop())"
   ]
  },
  {
   "cell_type": "code",
   "execution_count": 30,
   "id": "executed-adoption",
   "metadata": {
    "execution": {
     "iopub.execute_input": "2022-08-11T12:19:31.125462Z",
     "iopub.status.busy": "2022-08-11T12:19:31.124690Z",
     "iopub.status.idle": "2022-08-11T12:19:31.127461Z",
     "shell.execute_reply": "2022-08-11T12:19:31.128012Z"
    },
    "papermill": {
     "duration": 0.047114,
     "end_time": "2022-08-11T12:19:31.128170",
     "exception": false,
     "start_time": "2022-08-11T12:19:31.081056",
     "status": "completed"
    },
    "tags": []
   },
   "outputs": [],
   "source": [
    "#hide\n",
    "# g = g[cols]"
   ]
  },
  {
   "cell_type": "code",
   "execution_count": 31,
   "id": "subject-dublin",
   "metadata": {
    "execution": {
     "iopub.execute_input": "2022-08-11T12:19:31.214914Z",
     "iopub.status.busy": "2022-08-11T12:19:31.214154Z",
     "iopub.status.idle": "2022-08-11T12:19:31.217502Z",
     "shell.execute_reply": "2022-08-11T12:19:31.216739Z"
    },
    "papermill": {
     "duration": 0.046068,
     "end_time": "2022-08-11T12:19:31.217644",
     "exception": false,
     "start_time": "2022-08-11T12:19:31.171576",
     "status": "completed"
    },
    "tags": []
   },
   "outputs": [],
   "source": [
    "#hide\n",
    "# g['continent'] = g['continent'].map(mapping['map.continent'])"
   ]
  },
  {
   "cell_type": "code",
   "execution_count": 32,
   "id": "freelance-scout",
   "metadata": {
    "execution": {
     "iopub.execute_input": "2022-08-11T12:19:31.305998Z",
     "iopub.status.busy": "2022-08-11T12:19:31.305256Z",
     "iopub.status.idle": "2022-08-11T12:19:31.308494Z",
     "shell.execute_reply": "2022-08-11T12:19:31.307894Z"
    },
    "papermill": {
     "duration": 0.051343,
     "end_time": "2022-08-11T12:19:31.308629",
     "exception": false,
     "start_time": "2022-08-11T12:19:31.257286",
     "status": "completed"
    },
    "tags": []
   },
   "outputs": [],
   "source": [
    "#hide\n",
    "# g.head()"
   ]
  },
  {
   "cell_type": "code",
   "execution_count": 33,
   "id": "limited-engine",
   "metadata": {
    "execution": {
     "iopub.execute_input": "2022-08-11T12:19:31.393881Z",
     "iopub.status.busy": "2022-08-11T12:19:31.392973Z",
     "iopub.status.idle": "2022-08-11T12:19:31.396136Z",
     "shell.execute_reply": "2022-08-11T12:19:31.395519Z"
    },
    "papermill": {
     "duration": 0.046836,
     "end_time": "2022-08-11T12:19:31.396273",
     "exception": false,
     "start_time": "2022-08-11T12:19:31.349437",
     "status": "completed"
    },
    "tags": []
   },
   "outputs": [],
   "source": [
    "# hide\n",
    "# g['date'] = g['date'].astype('datetime64[ns]')"
   ]
  },
  {
   "cell_type": "code",
   "execution_count": 34,
   "id": "sophisticated-supervisor",
   "metadata": {
    "execution": {
     "iopub.execute_input": "2022-08-11T12:19:31.486831Z",
     "iopub.status.busy": "2022-08-11T12:19:31.486087Z",
     "iopub.status.idle": "2022-08-11T12:19:31.490167Z",
     "shell.execute_reply": "2022-08-11T12:19:31.489490Z"
    },
    "papermill": {
     "duration": 0.05471,
     "end_time": "2022-08-11T12:19:31.490304",
     "exception": false,
     "start_time": "2022-08-11T12:19:31.435594",
     "status": "completed"
    },
    "tags": []
   },
   "outputs": [],
   "source": [
    "#hide\n",
    "# g['date'] = g.date.dt.dayofyear"
   ]
  },
  {
   "cell_type": "code",
   "execution_count": 35,
   "id": "inside-dubai",
   "metadata": {
    "execution": {
     "iopub.execute_input": "2022-08-11T12:19:31.574856Z",
     "iopub.status.busy": "2022-08-11T12:19:31.574104Z",
     "iopub.status.idle": "2022-08-11T12:19:31.577326Z",
     "shell.execute_reply": "2022-08-11T12:19:31.576690Z"
    },
    "papermill": {
     "duration": 0.046631,
     "end_time": "2022-08-11T12:19:31.577464",
     "exception": false,
     "start_time": "2022-08-11T12:19:31.530833",
     "status": "completed"
    },
    "tags": []
   },
   "outputs": [],
   "source": [
    "#hide\n",
    "# g = g.rename(columns= {'continent':'group','country':'name','cases':'value'})"
   ]
  },
  {
   "cell_type": "code",
   "execution_count": 36,
   "id": "fleet-motorcycle",
   "metadata": {
    "execution": {
     "iopub.execute_input": "2022-08-11T12:19:31.660711Z",
     "iopub.status.busy": "2022-08-11T12:19:31.659974Z",
     "iopub.status.idle": "2022-08-11T12:19:31.663320Z",
     "shell.execute_reply": "2022-08-11T12:19:31.662716Z"
    },
    "papermill": {
     "duration": 0.047008,
     "end_time": "2022-08-11T12:19:31.663456",
     "exception": false,
     "start_time": "2022-08-11T12:19:31.616448",
     "status": "completed"
    },
    "tags": []
   },
   "outputs": [],
   "source": [
    "#hide\n",
    "# cols = ['name','group','day','value']"
   ]
  },
  {
   "cell_type": "code",
   "execution_count": 37,
   "id": "continued-sleeping",
   "metadata": {
    "execution": {
     "iopub.execute_input": "2022-08-11T12:19:31.746113Z",
     "iopub.status.busy": "2022-08-11T12:19:31.745357Z",
     "iopub.status.idle": "2022-08-11T12:19:31.748709Z",
     "shell.execute_reply": "2022-08-11T12:19:31.748102Z"
    },
    "papermill": {
     "duration": 0.045972,
     "end_time": "2022-08-11T12:19:31.748844",
     "exception": false,
     "start_time": "2022-08-11T12:19:31.702872",
     "status": "completed"
    },
    "tags": []
   },
   "outputs": [],
   "source": [
    "#hide\n",
    "# g.rename(columns= {'date':'day'},inplace = True)"
   ]
  },
  {
   "cell_type": "code",
   "execution_count": 38,
   "id": "major-fight",
   "metadata": {
    "execution": {
     "iopub.execute_input": "2022-08-11T12:19:31.831708Z",
     "iopub.status.busy": "2022-08-11T12:19:31.830968Z",
     "iopub.status.idle": "2022-08-11T12:19:31.834743Z",
     "shell.execute_reply": "2022-08-11T12:19:31.834131Z"
    },
    "papermill": {
     "duration": 0.047032,
     "end_time": "2022-08-11T12:19:31.834882",
     "exception": false,
     "start_time": "2022-08-11T12:19:31.787850",
     "status": "completed"
    },
    "tags": []
   },
   "outputs": [],
   "source": [
    "#hide\n",
    "# g = g[cols]"
   ]
  },
  {
   "cell_type": "code",
   "execution_count": 39,
   "id": "structured-mobile",
   "metadata": {
    "execution": {
     "iopub.execute_input": "2022-08-11T12:19:31.918506Z",
     "iopub.status.busy": "2022-08-11T12:19:31.917758Z",
     "iopub.status.idle": "2022-08-11T12:19:31.920372Z",
     "shell.execute_reply": "2022-08-11T12:19:31.920934Z"
    },
    "papermill": {
     "duration": 0.047276,
     "end_time": "2022-08-11T12:19:31.921091",
     "exception": false,
     "start_time": "2022-08-11T12:19:31.873815",
     "status": "completed"
    },
    "tags": []
   },
   "outputs": [],
   "source": [
    "# #hide\n",
    "# g = g[g.group.notna()]"
   ]
  },
  {
   "cell_type": "code",
   "execution_count": 40,
   "id": "determined-closing",
   "metadata": {
    "execution": {
     "iopub.execute_input": "2022-08-11T12:19:32.007636Z",
     "iopub.status.busy": "2022-08-11T12:19:32.006877Z",
     "iopub.status.idle": "2022-08-11T12:19:32.010310Z",
     "shell.execute_reply": "2022-08-11T12:19:32.009708Z"
    },
    "papermill": {
     "duration": 0.048244,
     "end_time": "2022-08-11T12:19:32.010445",
     "exception": false,
     "start_time": "2022-08-11T12:19:31.962201",
     "status": "completed"
    },
    "tags": []
   },
   "outputs": [],
   "source": [
    "# #hide\n",
    "# colors = dict(zip(\n",
    "#     [\"Oceania\", \"Europe\", \"Asia\", \"South America\", \"Middle East\", \"North America\", \"Africa\"],\n",
    "#     [\"#adb0ff\", \"#ffb3ff\", \"#90d595\", \"#e48381\", \"#aafbff\", \"#f7bb5f\", \"#eafb50\"]\n",
    "# ))\n",
    "# group_lk = g.set_index('name')['group'].to_dict()"
   ]
  },
  {
   "cell_type": "code",
   "execution_count": null,
   "id": "gross-drinking",
   "metadata": {
    "papermill": {
     "duration": 0.047301,
     "end_time": "2022-08-11T12:19:32.098285",
     "exception": false,
     "start_time": "2022-08-11T12:19:32.050984",
     "status": "completed"
    },
    "tags": []
   },
   "outputs": [],
   "source": []
  },
  {
   "cell_type": "code",
   "execution_count": 41,
   "id": "subject-macintosh",
   "metadata": {
    "execution": {
     "iopub.execute_input": "2022-08-11T12:19:32.184838Z",
     "iopub.status.busy": "2022-08-11T12:19:32.184010Z",
     "iopub.status.idle": "2022-08-11T12:19:32.188905Z",
     "shell.execute_reply": "2022-08-11T12:19:32.188286Z"
    },
    "papermill": {
     "duration": 0.05089,
     "end_time": "2022-08-11T12:19:32.189044",
     "exception": false,
     "start_time": "2022-08-11T12:19:32.138154",
     "status": "completed"
    },
    "tags": []
   },
   "outputs": [],
   "source": [
    "# #hide\n",
    "# fig, ax = plt.subplots(figsize=(15, 8))\n",
    "\n",
    "# def draw_barchart(current_day):\n",
    "#     dff = g[g['day'].eq(current_day)].sort_values(by='value', ascending=True).tail(10)\n",
    "#     ax.clear()\n",
    "#     ax.barh(dff['name'], dff['value'], color=[colors[group_lk[x]] for x in dff['name']])\n",
    "#     dx = dff['value'].max() / 200\n",
    "    \n",
    "#     for i, (value, name) in enumerate(zip(dff['value'], dff['name'])):\n",
    "#         ax.text(value-dx, i,     name,           size=14, weight=600, ha='right', va='bottom')\n",
    "#         ax.text(value-dx, i-.25, group_lk[name], size=10, color='#444444', ha='right', va='baseline')\n",
    "#         ax.text(value+dx, i,     f'{value:,.0f}',  size=14, ha='left',  va='center')\n",
    "#     ax.text(1, 0.4, current_day, transform=ax.transAxes, color='#777777', size=46, ha='right', weight=800)\n",
    "#     ax.text(0, 1.06, 'Population (thousands)', transform=ax.transAxes, size=12, color='#777777')\n",
    "#     ax.xaxis.set_major_formatter(ticker.StrMethodFormatter('{x:,.0f}'))\n",
    "#     ax.xaxis.set_ticks_position('top')\n",
    "#     ax.tick_params(axis='x', colors='#777777', labelsize=12)\n",
    "#     ax.set_yticks([])\n",
    "#     ax.margins(0, 0.01)\n",
    "#     ax.grid(which='major', axis='x', linestyle='-')\n",
    "#     ax.set_axisbelow(True)\n",
    "    \n",
    "#     ax.text(0, 1.15, 'Coronavirus',\n",
    "#             transform=ax.transAxes, size=24, weight=600, ha='left', va='top')\n",
    "# #     ax.text(1, 0, 'by @pratapvardhan; credit @jburnmurdoch', transform=ax.transAxes, color='#777777', ha='right',\n",
    "# #             bbox=dict(facecolor='white', alpha=0.8, edgecolor='white'))\n",
    "#     plt.box(False)"
   ]
  },
  {
   "cell_type": "code",
   "execution_count": 42,
   "id": "sexual-wages",
   "metadata": {
    "execution": {
     "iopub.execute_input": "2022-08-11T12:19:32.276833Z",
     "iopub.status.busy": "2022-08-11T12:19:32.276095Z",
     "iopub.status.idle": "2022-08-11T12:19:32.281345Z",
     "shell.execute_reply": "2022-08-11T12:19:32.280670Z"
    },
    "papermill": {
     "duration": 0.050656,
     "end_time": "2022-08-11T12:19:32.281492",
     "exception": false,
     "start_time": "2022-08-11T12:19:32.230836",
     "status": "completed"
    },
    "tags": []
   },
   "outputs": [],
   "source": [
    "# #hide_input\n",
    "# fig, ax = plt.subplots(figsize=(15, 8))\n",
    "# animator = animation.FuncAnimation(fig, draw_barchart, frames=range(g.day.values.min(), g.day.values.max()))\n",
    "# HTML(animator.to_jshtml())\n",
    "# # or use animator.to_html5_video() or animator.save() "
   ]
  },
  {
   "cell_type": "code",
   "execution_count": null,
   "id": "australian-container",
   "metadata": {
    "papermill": {
     "duration": 0.040027,
     "end_time": "2022-08-11T12:19:32.361677",
     "exception": false,
     "start_time": "2022-08-11T12:19:32.321650",
     "status": "completed"
    },
    "tags": []
   },
   "outputs": [],
   "source": []
  },
  {
   "cell_type": "code",
   "execution_count": null,
   "id": "mediterranean-pontiac",
   "metadata": {
    "papermill": {
     "duration": 0.038633,
     "end_time": "2022-08-11T12:19:32.439480",
     "exception": false,
     "start_time": "2022-08-11T12:19:32.400847",
     "status": "completed"
    },
    "tags": []
   },
   "outputs": [],
   "source": []
  },
  {
   "cell_type": "code",
   "execution_count": null,
   "id": "aging-legislature",
   "metadata": {
    "papermill": {
     "duration": 0.041492,
     "end_time": "2022-08-11T12:19:32.522937",
     "exception": false,
     "start_time": "2022-08-11T12:19:32.481445",
     "status": "completed"
    },
    "tags": []
   },
   "outputs": [],
   "source": []
  }
 ],
 "metadata": {
  "kernelspec": {
   "display_name": "Python 3",
   "language": "python",
   "name": "python3"
  },
  "language_info": {
   "codemirror_mode": {
    "name": "ipython",
    "version": 3
   },
   "file_extension": ".py",
   "mimetype": "text/x-python",
   "name": "python",
   "nbconvert_exporter": "python",
   "pygments_lexer": "ipython3",
   "version": "3.6.15"
  },
  "papermill": {
   "duration": 7.749963,
   "end_time": "2022-08-11T12:19:32.981566",
   "environment_variables": {},
   "exception": null,
   "input_path": "2020-03-21-covid19exp.ipynb",
   "output_path": "2020-03-21-covid19exp.ipynb",
   "parameters": {},
   "start_time": "2022-08-11T12:19:25.231603",
   "version": "2.0.0"
  }
 },
 "nbformat": 4,
 "nbformat_minor": 5
}