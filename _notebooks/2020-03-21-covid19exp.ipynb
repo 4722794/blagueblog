{
 "cells": [
  {
   "cell_type": "markdown",
   "id": "muslim-click",
   "metadata": {
    "papermill": {
     "duration": 0.033288,
     "end_time": "2022-02-14T12:12:55.845717",
     "exception": false,
     "start_time": "2022-02-14T12:12:55.812429",
     "status": "completed"
    },
    "tags": []
   },
   "source": [
    "# COVID-19 Case Race\n",
    "> A race chart to see rising cases around the world\n",
    "\n",
    "- author: Hargun Oberoi\n",
    "- image: images/covid-overview.png\n",
    "- hide: false\n",
    "- badges: false"
   ]
  },
  {
   "cell_type": "code",
   "execution_count": 1,
   "id": "proof-material",
   "metadata": {
    "execution": {
     "iopub.execute_input": "2022-02-14T12:12:55.918069Z",
     "iopub.status.busy": "2022-02-14T12:12:55.917407Z",
     "iopub.status.idle": "2022-02-14T12:12:56.246915Z",
     "shell.execute_reply": "2022-02-14T12:12:56.246284Z"
    },
    "papermill": {
     "duration": 0.368958,
     "end_time": "2022-02-14T12:12:56.247077",
     "exception": false,
     "start_time": "2022-02-14T12:12:55.878119",
     "status": "completed"
    },
    "tags": []
   },
   "outputs": [],
   "source": [
    "#hide\n",
    "import numpy as np\n",
    "import pandas as pd\n",
    "from jinja2 import Template\n",
    "from IPython.display import HTML"
   ]
  },
  {
   "cell_type": "code",
   "execution_count": 2,
   "id": "developed-terminology",
   "metadata": {
    "execution": {
     "iopub.execute_input": "2022-02-14T12:12:56.321178Z",
     "iopub.status.busy": "2022-02-14T12:12:56.320554Z",
     "iopub.status.idle": "2022-02-14T12:12:56.322964Z",
     "shell.execute_reply": "2022-02-14T12:12:56.322498Z"
    },
    "papermill": {
     "duration": 0.038503,
     "end_time": "2022-02-14T12:12:56.323080",
     "exception": false,
     "start_time": "2022-02-14T12:12:56.284577",
     "status": "completed"
    },
    "tags": []
   },
   "outputs": [],
   "source": [
    "#hide\n",
    "\n",
    "# FETCH\n",
    "base_url = 'https://raw.githubusercontent.com/pratapvardhan/notebooks/master/covid19/'\n",
    "paths = {\n",
    "    'mapping': base_url + 'mapping_countries.csv',\n",
    "    'overview': base_url + 'overview.tpl'\n",
    "}"
   ]
  },
  {
   "cell_type": "code",
   "execution_count": 3,
   "id": "dynamic-saver",
   "metadata": {
    "execution": {
     "iopub.execute_input": "2022-02-14T12:12:56.397184Z",
     "iopub.status.busy": "2022-02-14T12:12:56.396583Z",
     "iopub.status.idle": "2022-02-14T12:12:56.399288Z",
     "shell.execute_reply": "2022-02-14T12:12:56.399918Z"
    },
    "papermill": {
     "duration": 0.045152,
     "end_time": "2022-02-14T12:12:56.400136",
     "exception": false,
     "start_time": "2022-02-14T12:12:56.354984",
     "status": "completed"
    },
    "tags": []
   },
   "outputs": [
    {
     "data": {
      "text/plain": [
       "'https://raw.githubusercontent.com/pratapvardhan/notebooks/master/covid19/mapping_countries.csv'"
      ]
     },
     "execution_count": 3,
     "metadata": {},
     "output_type": "execute_result"
    }
   ],
   "source": [
    "#hide\n",
    "paths['mapping']"
   ]
  },
  {
   "cell_type": "code",
   "execution_count": 4,
   "id": "urban-software",
   "metadata": {
    "execution": {
     "iopub.execute_input": "2022-02-14T12:12:56.469146Z",
     "iopub.status.busy": "2022-02-14T12:12:56.468571Z",
     "iopub.status.idle": "2022-02-14T12:12:56.471831Z",
     "shell.execute_reply": "2022-02-14T12:12:56.472590Z"
    },
    "papermill": {
     "duration": 0.040097,
     "end_time": "2022-02-14T12:12:56.472733",
     "exception": false,
     "start_time": "2022-02-14T12:12:56.432636",
     "status": "completed"
    },
    "tags": []
   },
   "outputs": [],
   "source": [
    "#hide\n",
    "def get_mappings(url):\n",
    "    df = pd.read_csv(url)\n",
    "    return {\n",
    "        'df': df,\n",
    "        'replace.country': dict(df.dropna(subset=['Name']).set_index('Country')['Name']),\n",
    "        'map.continent': dict(df.set_index('Name')['Continent'])\n",
    "    }"
   ]
  },
  {
   "cell_type": "code",
   "execution_count": 5,
   "id": "intimate-machinery",
   "metadata": {
    "execution": {
     "iopub.execute_input": "2022-02-14T12:12:56.538698Z",
     "iopub.status.busy": "2022-02-14T12:12:56.538169Z",
     "iopub.status.idle": "2022-02-14T12:12:56.574268Z",
     "shell.execute_reply": "2022-02-14T12:12:56.574698Z"
    },
    "papermill": {
     "duration": 0.07201,
     "end_time": "2022-02-14T12:12:56.574818",
     "exception": false,
     "start_time": "2022-02-14T12:12:56.502808",
     "status": "completed"
    },
    "tags": []
   },
   "outputs": [],
   "source": [
    "#hide\n",
    "mapping = get_mappings(paths['mapping'])"
   ]
  },
  {
   "cell_type": "code",
   "execution_count": 6,
   "id": "certified-tactics",
   "metadata": {
    "execution": {
     "iopub.execute_input": "2022-02-14T12:12:56.638702Z",
     "iopub.status.busy": "2022-02-14T12:12:56.638179Z",
     "iopub.status.idle": "2022-02-14T12:12:56.640248Z",
     "shell.execute_reply": "2022-02-14T12:12:56.640756Z"
    },
    "papermill": {
     "duration": 0.036232,
     "end_time": "2022-02-14T12:12:56.640869",
     "exception": false,
     "start_time": "2022-02-14T12:12:56.604637",
     "status": "completed"
    },
    "tags": []
   },
   "outputs": [],
   "source": [
    "#hide\n",
    "def get_template(path):\n",
    "    from urllib.parse import urlparse\n",
    "    if bool(urlparse(path).netloc):\n",
    "        from urllib.request import urlopen\n",
    "        return urlopen(path).read().decode('utf8')\n",
    "    return open(path).read()"
   ]
  },
  {
   "cell_type": "code",
   "execution_count": 7,
   "id": "realistic-blast",
   "metadata": {
    "execution": {
     "iopub.execute_input": "2022-02-14T12:12:56.710199Z",
     "iopub.status.busy": "2022-02-14T12:12:56.709602Z",
     "iopub.status.idle": "2022-02-14T12:12:56.712484Z",
     "shell.execute_reply": "2022-02-14T12:12:56.713301Z"
    },
    "papermill": {
     "duration": 0.042625,
     "end_time": "2022-02-14T12:12:56.713442",
     "exception": false,
     "start_time": "2022-02-14T12:12:56.670817",
     "status": "completed"
    },
    "tags": []
   },
   "outputs": [],
   "source": [
    "#hide\n",
    "def get_frame(name):\n",
    "    url = (\n",
    "        'https://raw.githubusercontent.com/CSSEGISandData/COVID-19/master/csse_covid_19_data/'\n",
    "        f'csse_covid_19_time_series/time_series_covid19_{name}_global.csv')\n",
    "    df = pd.read_csv(url)\n",
    "    # rename countries\n",
    "    df['Country/Region'] = df['Country/Region'].replace(mapping['replace.country'])\n",
    "    return df"
   ]
  },
  {
   "cell_type": "code",
   "execution_count": 8,
   "id": "affiliated-characterization",
   "metadata": {
    "execution": {
     "iopub.execute_input": "2022-02-14T12:12:56.779357Z",
     "iopub.status.busy": "2022-02-14T12:12:56.778819Z",
     "iopub.status.idle": "2022-02-14T12:12:56.781100Z",
     "shell.execute_reply": "2022-02-14T12:12:56.780621Z"
    },
    "papermill": {
     "duration": 0.036816,
     "end_time": "2022-02-14T12:12:56.781209",
     "exception": false,
     "start_time": "2022-02-14T12:12:56.744393",
     "status": "completed"
    },
    "tags": []
   },
   "outputs": [],
   "source": [
    "#hide\n",
    "def get_dates(df):\n",
    "    dt_cols = df.columns[~df.columns.isin(['Province/State', 'Country/Region', 'Lat', 'Long'])]\n",
    "    LAST_DATE_I = -1\n",
    "    # sometimes last column may be empty, then go backwards\n",
    "    for i in range(-1, -len(dt_cols), -1):\n",
    "        if not df[dt_cols[i]].fillna(0).eq(0).all():\n",
    "            LAST_DATE_I = i\n",
    "            break\n",
    "    return LAST_DATE_I, dt_cols"
   ]
  },
  {
   "cell_type": "code",
   "execution_count": 9,
   "id": "recent-optimization",
   "metadata": {
    "execution": {
     "iopub.execute_input": "2022-02-14T12:12:56.855805Z",
     "iopub.status.busy": "2022-02-14T12:12:56.855022Z",
     "iopub.status.idle": "2022-02-14T12:12:57.281140Z",
     "shell.execute_reply": "2022-02-14T12:12:57.280545Z"
    },
    "papermill": {
     "duration": 0.467131,
     "end_time": "2022-02-14T12:12:57.281274",
     "exception": false,
     "start_time": "2022-02-14T12:12:56.814143",
     "status": "completed"
    },
    "tags": []
   },
   "outputs": [],
   "source": [
    "#hide\n",
    "COL_REGION = 'Country/Region'\n",
    "# Confirmed, Recovered, Deaths\n",
    "df = get_frame('confirmed')\n",
    "# dft_: timeseries, dfc_: today country agg\n",
    "dft_cases = df\n",
    "dft_deaths = get_frame('deaths')\n",
    "dft_recovered = get_frame('recovered')\n",
    "LAST_DATE_I, dt_cols = get_dates(df)"
   ]
  },
  {
   "cell_type": "code",
   "execution_count": 10,
   "id": "absolute-copper",
   "metadata": {
    "execution": {
     "iopub.execute_input": "2022-02-14T12:12:57.346723Z",
     "iopub.status.busy": "2022-02-14T12:12:57.346182Z",
     "iopub.status.idle": "2022-02-14T12:12:57.347932Z",
     "shell.execute_reply": "2022-02-14T12:12:57.348386Z"
    },
    "papermill": {
     "duration": 0.036399,
     "end_time": "2022-02-14T12:12:57.348507",
     "exception": false,
     "start_time": "2022-02-14T12:12:57.312108",
     "status": "completed"
    },
    "tags": []
   },
   "outputs": [],
   "source": [
    "#hide\n",
    "LAST_DATE_I, dt_cols = get_dates(df)\n",
    "dt_today =dt_cols[LAST_DATE_I]\n",
    "# dt_5day = dt_cols[LAST_DATE_I - 5]\n",
    "dt_yday = dt_cols[LAST_DATE_I - 1]"
   ]
  },
  {
   "cell_type": "code",
   "execution_count": 11,
   "id": "restricted-sheriff",
   "metadata": {
    "execution": {
     "iopub.execute_input": "2022-02-14T12:12:57.419967Z",
     "iopub.status.busy": "2022-02-14T12:12:57.419133Z",
     "iopub.status.idle": "2022-02-14T12:12:57.428616Z",
     "shell.execute_reply": "2022-02-14T12:12:57.428189Z"
    },
    "papermill": {
     "duration": 0.043571,
     "end_time": "2022-02-14T12:12:57.428724",
     "exception": false,
     "start_time": "2022-02-14T12:12:57.385153",
     "status": "completed"
    },
    "tags": []
   },
   "outputs": [],
   "source": [
    "#hide\n",
    "dfc_cases = dft_cases.groupby(COL_REGION)[dt_today].sum()\n",
    "dfc_deaths = dft_deaths.groupby(COL_REGION)[dt_today].sum()\n",
    "# dfp_cases = dft_cases.groupby(COL_REGION)[dt_5day].sum()\n",
    "# dfp_deaths = dft_deaths.groupby(COL_REGION)[dt_5day].sum()\n",
    "dfp_cases = dft_cases.groupby(COL_REGION)[dt_yday].sum()\n",
    "dfp_deaths = dft_deaths.groupby(COL_REGION)[dt_yday].sum()"
   ]
  },
  {
   "cell_type": "code",
   "execution_count": 12,
   "id": "deluxe-hepatitis",
   "metadata": {
    "execution": {
     "iopub.execute_input": "2022-02-14T12:12:57.496927Z",
     "iopub.status.busy": "2022-02-14T12:12:57.496401Z",
     "iopub.status.idle": "2022-02-14T12:12:57.501458Z",
     "shell.execute_reply": "2022-02-14T12:12:57.501965Z"
    },
    "papermill": {
     "duration": 0.043153,
     "end_time": "2022-02-14T12:12:57.502083",
     "exception": false,
     "start_time": "2022-02-14T12:12:57.458930",
     "status": "completed"
    },
    "tags": []
   },
   "outputs": [],
   "source": [
    "#hide\n",
    "df_table = (pd.DataFrame(dict(Cases = dfc_cases, Deaths = dfc_deaths, PCases = dfp_cases, PDeaths = dfp_deaths))\n",
    "            .sort_values(by = ['Cases','Deaths'], ascending = [False, False])\n",
    "            .reset_index())"
   ]
  },
  {
   "cell_type": "code",
   "execution_count": 13,
   "id": "educational-chancellor",
   "metadata": {
    "execution": {
     "iopub.execute_input": "2022-02-14T12:12:57.580341Z",
     "iopub.status.busy": "2022-02-14T12:12:57.575673Z",
     "iopub.status.idle": "2022-02-14T12:12:57.589376Z",
     "shell.execute_reply": "2022-02-14T12:12:57.588921Z"
    },
    "papermill": {
     "duration": 0.056543,
     "end_time": "2022-02-14T12:12:57.589485",
     "exception": false,
     "start_time": "2022-02-14T12:12:57.532942",
     "status": "completed"
    },
    "tags": []
   },
   "outputs": [
    {
     "data": {
      "text/html": [
       "<div>\n",
       "<style scoped>\n",
       "    .dataframe tbody tr th:only-of-type {\n",
       "        vertical-align: middle;\n",
       "    }\n",
       "\n",
       "    .dataframe tbody tr th {\n",
       "        vertical-align: top;\n",
       "    }\n",
       "\n",
       "    .dataframe thead th {\n",
       "        text-align: right;\n",
       "    }\n",
       "</style>\n",
       "<table border=\"1\" class=\"dataframe\">\n",
       "  <thead>\n",
       "    <tr style=\"text-align: right;\">\n",
       "      <th></th>\n",
       "      <th>Country/Region</th>\n",
       "      <th>Cases</th>\n",
       "      <th>Deaths</th>\n",
       "      <th>PCases</th>\n",
       "      <th>PDeaths</th>\n",
       "      <th>Cases (+)</th>\n",
       "      <th>Deaths (+)</th>\n",
       "      <th>Fatality Rate</th>\n",
       "      <th>Continent</th>\n",
       "    </tr>\n",
       "  </thead>\n",
       "  <tbody>\n",
       "    <tr>\n",
       "      <th>0</th>\n",
       "      <td>US</td>\n",
       "      <td>77739880</td>\n",
       "      <td>919696</td>\n",
       "      <td>77707349</td>\n",
       "      <td>919255</td>\n",
       "      <td>32531</td>\n",
       "      <td>441</td>\n",
       "      <td>1.18</td>\n",
       "      <td>North America</td>\n",
       "    </tr>\n",
       "    <tr>\n",
       "      <th>1</th>\n",
       "      <td>India</td>\n",
       "      <td>42665534</td>\n",
       "      <td>509011</td>\n",
       "      <td>42631421</td>\n",
       "      <td>508665</td>\n",
       "      <td>34113</td>\n",
       "      <td>346</td>\n",
       "      <td>1.19</td>\n",
       "      <td>Asia</td>\n",
       "    </tr>\n",
       "    <tr>\n",
       "      <th>2</th>\n",
       "      <td>Brazil</td>\n",
       "      <td>27492904</td>\n",
       "      <td>638673</td>\n",
       "      <td>27434286</td>\n",
       "      <td>638346</td>\n",
       "      <td>58618</td>\n",
       "      <td>327</td>\n",
       "      <td>2.32</td>\n",
       "      <td>South America</td>\n",
       "    </tr>\n",
       "    <tr>\n",
       "      <th>3</th>\n",
       "      <td>France</td>\n",
       "      <td>21851747</td>\n",
       "      <td>135802</td>\n",
       "      <td>21765182</td>\n",
       "      <td>135695</td>\n",
       "      <td>86565</td>\n",
       "      <td>107</td>\n",
       "      <td>0.62</td>\n",
       "      <td>Europe</td>\n",
       "    </tr>\n",
       "    <tr>\n",
       "      <th>4</th>\n",
       "      <td>United Kingdom</td>\n",
       "      <td>18433001</td>\n",
       "      <td>160128</td>\n",
       "      <td>18392137</td>\n",
       "      <td>160076</td>\n",
       "      <td>40864</td>\n",
       "      <td>52</td>\n",
       "      <td>0.87</td>\n",
       "      <td>Europe</td>\n",
       "    </tr>\n",
       "  </tbody>\n",
       "</table>\n",
       "</div>"
      ],
      "text/plain": [
       "   Country/Region     Cases  Deaths    PCases  PDeaths  Cases (+)  Deaths (+)  \\\n",
       "0              US  77739880  919696  77707349   919255      32531         441   \n",
       "1           India  42665534  509011  42631421   508665      34113         346   \n",
       "2          Brazil  27492904  638673  27434286   638346      58618         327   \n",
       "3          France  21851747  135802  21765182   135695      86565         107   \n",
       "4  United Kingdom  18433001  160128  18392137   160076      40864          52   \n",
       "\n",
       "   Fatality Rate      Continent  \n",
       "0           1.18  North America  \n",
       "1           1.19           Asia  \n",
       "2           2.32  South America  \n",
       "3           0.62         Europe  \n",
       "4           0.87         Europe  "
      ]
     },
     "execution_count": 13,
     "metadata": {},
     "output_type": "execute_result"
    }
   ],
   "source": [
    "#hide\n",
    "for c in 'Cases, Deaths'.split(', '):\n",
    "    df_table[f'{c} (+)'] = (df_table[c] - df_table[f'P{c}']).clip(0)\n",
    "    #Clip ça veut dire, les chiffres negatif sont interdit\n",
    "df_table['Fatality Rate'] = (100* df_table['Deaths']/ df_table['Cases']).round(2)\n",
    "df_table['Continent'] = df_table['Country/Region'].map(mapping['map.continent'])\n",
    "df_table.head(5)"
   ]
  },
  {
   "cell_type": "code",
   "execution_count": 14,
   "id": "aboriginal-bulgaria",
   "metadata": {
    "execution": {
     "iopub.execute_input": "2022-02-14T12:12:57.655714Z",
     "iopub.status.busy": "2022-02-14T12:12:57.655195Z",
     "iopub.status.idle": "2022-02-14T12:12:57.657867Z",
     "shell.execute_reply": "2022-02-14T12:12:57.658375Z"
    },
    "papermill": {
     "duration": 0.038139,
     "end_time": "2022-02-14T12:12:57.658489",
     "exception": false,
     "start_time": "2022-02-14T12:12:57.620350",
     "status": "completed"
    },
    "tags": []
   },
   "outputs": [],
   "source": [
    "#hide\n",
    "#delete problematic countries from table\n",
    "df_table = df_table[~df_table['Country/Region'].isin(['Cape Verde', 'Cruise Ship', 'Kosovo'])]"
   ]
  },
  {
   "cell_type": "code",
   "execution_count": 15,
   "id": "fantastic-effect",
   "metadata": {
    "execution": {
     "iopub.execute_input": "2022-02-14T12:12:57.729265Z",
     "iopub.status.busy": "2022-02-14T12:12:57.728681Z",
     "iopub.status.idle": "2022-02-14T12:12:57.749935Z",
     "shell.execute_reply": "2022-02-14T12:12:57.750389Z"
    },
    "papermill": {
     "duration": 0.061265,
     "end_time": "2022-02-14T12:12:57.750504",
     "exception": false,
     "start_time": "2022-02-14T12:12:57.689239",
     "status": "completed"
    },
    "tags": []
   },
   "outputs": [
    {
     "data": {
      "text/html": [
       "<div>\n",
       "<style scoped>\n",
       "    .dataframe tbody tr th:only-of-type {\n",
       "        vertical-align: middle;\n",
       "    }\n",
       "\n",
       "    .dataframe tbody tr th {\n",
       "        vertical-align: top;\n",
       "    }\n",
       "\n",
       "    .dataframe thead th {\n",
       "        text-align: right;\n",
       "    }\n",
       "</style>\n",
       "<table border=\"1\" class=\"dataframe\">\n",
       "  <thead>\n",
       "    <tr style=\"text-align: right;\">\n",
       "      <th></th>\n",
       "      <th>Country/Region</th>\n",
       "      <th>Cases</th>\n",
       "      <th>Deaths</th>\n",
       "      <th>PCases</th>\n",
       "      <th>PDeaths</th>\n",
       "      <th>Cases (+)</th>\n",
       "      <th>Deaths (+)</th>\n",
       "      <th>Fatality Rate</th>\n",
       "      <th>Continent</th>\n",
       "    </tr>\n",
       "  </thead>\n",
       "  <tbody>\n",
       "    <tr>\n",
       "      <th>0</th>\n",
       "      <td>US</td>\n",
       "      <td>77739880</td>\n",
       "      <td>919696</td>\n",
       "      <td>77707349</td>\n",
       "      <td>919255</td>\n",
       "      <td>32531</td>\n",
       "      <td>441</td>\n",
       "      <td>1.2</td>\n",
       "      <td>North America</td>\n",
       "    </tr>\n",
       "    <tr>\n",
       "      <th>1</th>\n",
       "      <td>India</td>\n",
       "      <td>42665534</td>\n",
       "      <td>509011</td>\n",
       "      <td>42631421</td>\n",
       "      <td>508665</td>\n",
       "      <td>34113</td>\n",
       "      <td>346</td>\n",
       "      <td>1.2</td>\n",
       "      <td>Asia</td>\n",
       "    </tr>\n",
       "    <tr>\n",
       "      <th>2</th>\n",
       "      <td>Brazil</td>\n",
       "      <td>27492904</td>\n",
       "      <td>638673</td>\n",
       "      <td>27434286</td>\n",
       "      <td>638346</td>\n",
       "      <td>58618</td>\n",
       "      <td>327</td>\n",
       "      <td>2.3</td>\n",
       "      <td>South America</td>\n",
       "    </tr>\n",
       "    <tr>\n",
       "      <th>3</th>\n",
       "      <td>France</td>\n",
       "      <td>21851747</td>\n",
       "      <td>135802</td>\n",
       "      <td>21765182</td>\n",
       "      <td>135695</td>\n",
       "      <td>86565</td>\n",
       "      <td>107</td>\n",
       "      <td>0.6</td>\n",
       "      <td>Europe</td>\n",
       "    </tr>\n",
       "    <tr>\n",
       "      <th>4</th>\n",
       "      <td>United Kingdom</td>\n",
       "      <td>18433001</td>\n",
       "      <td>160128</td>\n",
       "      <td>18392137</td>\n",
       "      <td>160076</td>\n",
       "      <td>40864</td>\n",
       "      <td>52</td>\n",
       "      <td>0.9</td>\n",
       "      <td>Europe</td>\n",
       "    </tr>\n",
       "  </tbody>\n",
       "</table>\n",
       "</div>"
      ],
      "text/plain": [
       "   Country/Region     Cases  Deaths    PCases  PDeaths  Cases (+)  Deaths (+)  \\\n",
       "0              US  77739880  919696  77707349   919255      32531         441   \n",
       "1           India  42665534  509011  42631421   508665      34113         346   \n",
       "2          Brazil  27492904  638673  27434286   638346      58618         327   \n",
       "3          France  21851747  135802  21765182   135695      86565         107   \n",
       "4  United Kingdom  18433001  160128  18392137   160076      40864          52   \n",
       "\n",
       "   Fatality Rate      Continent  \n",
       "0            1.2  North America  \n",
       "1            1.2           Asia  \n",
       "2            2.3  South America  \n",
       "3            0.6         Europe  \n",
       "4            0.9         Europe  "
      ]
     },
     "execution_count": 15,
     "metadata": {},
     "output_type": "execute_result"
    }
   ],
   "source": [
    "#hide\n",
    "df_table = (pd.DataFrame(dict(Cases=dfc_cases, Deaths=dfc_deaths, PCases=dfp_cases, PDeaths=dfp_deaths))\n",
    "             .sort_values(by=['Cases', 'Deaths'], ascending=[False, False])\n",
    "             .reset_index())\n",
    "df_table.rename(columns={'index': 'Country/Region'}, inplace=True)\n",
    "for c in 'Cases, Deaths'.split(', '):\n",
    "    df_table[f'{c} (+)'] = (df_table[c] - df_table[f'P{c}']).clip(0)  # DATA BUG\n",
    "df_table['Fatality Rate'] = (100 * df_table['Deaths'] / df_table['Cases']).round(1)\n",
    "df_table['Continent'] = df_table['Country/Region'].map(mapping['map.continent'])\n",
    "df_table.head(5)"
   ]
  },
  {
   "cell_type": "code",
   "execution_count": 16,
   "id": "fewer-occasion",
   "metadata": {
    "execution": {
     "iopub.execute_input": "2022-02-14T12:12:57.824868Z",
     "iopub.status.busy": "2022-02-14T12:12:57.824295Z",
     "iopub.status.idle": "2022-02-14T12:12:57.826696Z",
     "shell.execute_reply": "2022-02-14T12:12:57.826256Z"
    },
    "papermill": {
     "duration": 0.044367,
     "end_time": "2022-02-14T12:12:57.826810",
     "exception": false,
     "start_time": "2022-02-14T12:12:57.782443",
     "status": "completed"
    },
    "tags": []
   },
   "outputs": [],
   "source": [
    "#hide\n",
    "#delete problematic countries from table\n",
    "df_table = df_table[~df_table['Country/Region'].isin(['Cape Verde', 'Cruise Ship', 'Kosovo'])]"
   ]
  },
  {
   "cell_type": "code",
   "execution_count": 17,
   "id": "related-center",
   "metadata": {
    "execution": {
     "iopub.execute_input": "2022-02-14T12:12:57.906563Z",
     "iopub.status.busy": "2022-02-14T12:12:57.905966Z",
     "iopub.status.idle": "2022-02-14T12:12:57.913642Z",
     "shell.execute_reply": "2022-02-14T12:12:57.914161Z"
    },
    "papermill": {
     "duration": 0.054862,
     "end_time": "2022-02-14T12:12:57.914323",
     "exception": false,
     "start_time": "2022-02-14T12:12:57.859461",
     "status": "completed"
    },
    "tags": []
   },
   "outputs": [],
   "source": [
    "#hide\n",
    "metrics = [df_table.columns[index] for index in [1,2,5,6]]\n",
    "# s_china = df_table[df_table['Country/Region'].eq('China')][metrics].sum().add_prefix('China ')\n",
    "s_us = df_table[df_table['Country/Region'].eq('US')][metrics].sum().add_prefix('US ')\n",
    "s_eu = df_table[df_table['Continent'].eq('Europe')][metrics].sum().add_prefix('EU ')\n",
    "s_ind = df_table[df_table['Country/Region'].eq('India')][metrics].sum().add_prefix('India ')\n",
    "summary = {'updated': pd.to_datetime(dt_today), 'since': pd.to_datetime(dt_yday)}\n",
    "summary = {'updated': pd.to_datetime(dt_today), 'since': pd.to_datetime(dt_yday)}\n",
    "summary = {**summary, **df_table[metrics].sum(), **s_ind, **s_us, **s_eu}"
   ]
  },
  {
   "cell_type": "code",
   "execution_count": 18,
   "id": "engaging-syndrome",
   "metadata": {
    "execution": {
     "iopub.execute_input": "2022-02-14T12:12:57.984310Z",
     "iopub.status.busy": "2022-02-14T12:12:57.983756Z",
     "iopub.status.idle": "2022-02-14T12:12:58.000576Z",
     "shell.execute_reply": "2022-02-14T12:12:58.000100Z"
    },
    "papermill": {
     "duration": 0.053391,
     "end_time": "2022-02-14T12:12:58.000696",
     "exception": false,
     "start_time": "2022-02-14T12:12:57.947305",
     "status": "completed"
    },
    "tags": []
   },
   "outputs": [],
   "source": [
    "#hide\n",
    "dft_ct_new_cases = dft_cases.groupby(COL_REGION)[dt_cols].sum().diff(axis=1).fillna(0).astype(int)"
   ]
  },
  {
   "cell_type": "code",
   "execution_count": 19,
   "id": "neutral-assignment",
   "metadata": {
    "execution": {
     "iopub.execute_input": "2022-02-14T12:12:58.071360Z",
     "iopub.status.busy": "2022-02-14T12:12:58.070762Z",
     "iopub.status.idle": "2022-02-14T12:12:58.073062Z",
     "shell.execute_reply": "2022-02-14T12:12:58.073603Z"
    },
    "papermill": {
     "duration": 0.041343,
     "end_time": "2022-02-14T12:12:58.073724",
     "exception": false,
     "start_time": "2022-02-14T12:12:58.032381",
     "status": "completed"
    },
    "tags": []
   },
   "outputs": [],
   "source": [
    "#hide\n",
    "everydaycases = dft_ct_new_cases.cumsum(axis=1)"
   ]
  },
  {
   "cell_type": "code",
   "execution_count": 20,
   "id": "parliamentary-calgary",
   "metadata": {
    "execution": {
     "iopub.execute_input": "2022-02-14T12:12:58.144280Z",
     "iopub.status.busy": "2022-02-14T12:12:58.143738Z",
     "iopub.status.idle": "2022-02-14T12:12:58.758320Z",
     "shell.execute_reply": "2022-02-14T12:12:58.757839Z"
    },
    "papermill": {
     "duration": 0.649336,
     "end_time": "2022-02-14T12:12:58.758452",
     "exception": false,
     "start_time": "2022-02-14T12:12:58.109116",
     "status": "completed"
    },
    "tags": []
   },
   "outputs": [],
   "source": [
    "#hide\n",
    "import pandas as pd\n",
    "import matplotlib.pyplot as plt\n",
    "import matplotlib.ticker as ticker\n",
    "import matplotlib.animation as animation\n",
    "from IPython.display import HTML"
   ]
  },
  {
   "cell_type": "code",
   "execution_count": 21,
   "id": "lasting-extraction",
   "metadata": {
    "execution": {
     "iopub.execute_input": "2022-02-14T12:12:58.832068Z",
     "iopub.status.busy": "2022-02-14T12:12:58.831537Z",
     "iopub.status.idle": "2022-02-14T12:12:58.837600Z",
     "shell.execute_reply": "2022-02-14T12:12:58.838068Z"
    },
    "papermill": {
     "duration": 0.047248,
     "end_time": "2022-02-14T12:12:58.838193",
     "exception": false,
     "start_time": "2022-02-14T12:12:58.790945",
     "status": "completed"
    },
    "tags": []
   },
   "outputs": [],
   "source": [
    "#hide\n",
    "t = everydaycases.stack()"
   ]
  },
  {
   "cell_type": "code",
   "execution_count": 22,
   "id": "premier-sleeve",
   "metadata": {
    "execution": {
     "iopub.execute_input": "2022-02-14T12:12:58.908377Z",
     "iopub.status.busy": "2022-02-14T12:12:58.907678Z",
     "iopub.status.idle": "2022-02-14T12:12:58.919018Z",
     "shell.execute_reply": "2022-02-14T12:12:58.918508Z"
    },
    "papermill": {
     "duration": 0.049228,
     "end_time": "2022-02-14T12:12:58.919136",
     "exception": false,
     "start_time": "2022-02-14T12:12:58.869908",
     "status": "completed"
    },
    "tags": []
   },
   "outputs": [],
   "source": [
    "#hide\n",
    "g = t.reset_index(['Country/Region'])"
   ]
  },
  {
   "cell_type": "code",
   "execution_count": 23,
   "id": "distributed-pittsburgh",
   "metadata": {
    "execution": {
     "iopub.execute_input": "2022-02-14T12:12:58.989843Z",
     "iopub.status.busy": "2022-02-14T12:12:58.989150Z",
     "iopub.status.idle": "2022-02-14T12:12:58.991564Z",
     "shell.execute_reply": "2022-02-14T12:12:58.991030Z"
    },
    "papermill": {
     "duration": 0.041196,
     "end_time": "2022-02-14T12:12:58.991673",
     "exception": false,
     "start_time": "2022-02-14T12:12:58.950477",
     "status": "completed"
    },
    "tags": []
   },
   "outputs": [],
   "source": [
    "#hide\n",
    "g.index.name = 'date'"
   ]
  },
  {
   "cell_type": "code",
   "execution_count": 24,
   "id": "naked-donor",
   "metadata": {
    "execution": {
     "iopub.execute_input": "2022-02-14T12:12:59.070813Z",
     "iopub.status.busy": "2022-02-14T12:12:59.070012Z",
     "iopub.status.idle": "2022-02-14T12:12:59.073098Z",
     "shell.execute_reply": "2022-02-14T12:12:59.072500Z"
    },
    "papermill": {
     "duration": 0.046208,
     "end_time": "2022-02-14T12:12:59.073227",
     "exception": false,
     "start_time": "2022-02-14T12:12:59.027019",
     "status": "completed"
    },
    "tags": []
   },
   "outputs": [],
   "source": [
    "# #hide\n",
    "# g = g.reset_index(['date'])"
   ]
  },
  {
   "cell_type": "code",
   "execution_count": 25,
   "id": "incomplete-mustang",
   "metadata": {
    "execution": {
     "iopub.execute_input": "2022-02-14T12:12:59.147653Z",
     "iopub.status.busy": "2022-02-14T12:12:59.146873Z",
     "iopub.status.idle": "2022-02-14T12:12:59.149547Z",
     "shell.execute_reply": "2022-02-14T12:12:59.148956Z"
    },
    "papermill": {
     "duration": 0.040006,
     "end_time": "2022-02-14T12:12:59.149735",
     "exception": false,
     "start_time": "2022-02-14T12:12:59.109729",
     "status": "completed"
    },
    "tags": []
   },
   "outputs": [],
   "source": [
    "#hide\n",
    "# g.head()"
   ]
  },
  {
   "cell_type": "code",
   "execution_count": 26,
   "id": "specific-kruger",
   "metadata": {
    "execution": {
     "iopub.execute_input": "2022-02-14T12:12:59.216137Z",
     "iopub.status.busy": "2022-02-14T12:12:59.215607Z",
     "iopub.status.idle": "2022-02-14T12:12:59.218084Z",
     "shell.execute_reply": "2022-02-14T12:12:59.217391Z"
    },
    "papermill": {
     "duration": 0.037541,
     "end_time": "2022-02-14T12:12:59.218305",
     "exception": false,
     "start_time": "2022-02-14T12:12:59.180764",
     "status": "completed"
    },
    "tags": []
   },
   "outputs": [],
   "source": [
    "#hide\n",
    "# g.columns = ['date','country','cases']"
   ]
  },
  {
   "cell_type": "code",
   "execution_count": 27,
   "id": "tender-conversion",
   "metadata": {
    "execution": {
     "iopub.execute_input": "2022-02-14T12:12:59.284471Z",
     "iopub.status.busy": "2022-02-14T12:12:59.283944Z",
     "iopub.status.idle": "2022-02-14T12:12:59.286741Z",
     "shell.execute_reply": "2022-02-14T12:12:59.286027Z"
    },
    "papermill": {
     "duration": 0.036268,
     "end_time": "2022-02-14T12:12:59.286913",
     "exception": false,
     "start_time": "2022-02-14T12:12:59.250645",
     "status": "completed"
    },
    "tags": []
   },
   "outputs": [],
   "source": [
    "#hide\n",
    "# g['continent'] = g.country"
   ]
  },
  {
   "cell_type": "code",
   "execution_count": 28,
   "id": "substantial-wilderness",
   "metadata": {
    "execution": {
     "iopub.execute_input": "2022-02-14T12:12:59.358536Z",
     "iopub.status.busy": "2022-02-14T12:12:59.357789Z",
     "iopub.status.idle": "2022-02-14T12:12:59.360626Z",
     "shell.execute_reply": "2022-02-14T12:12:59.360151Z"
    },
    "papermill": {
     "duration": 0.039084,
     "end_time": "2022-02-14T12:12:59.360734",
     "exception": false,
     "start_time": "2022-02-14T12:12:59.321650",
     "status": "completed"
    },
    "tags": []
   },
   "outputs": [],
   "source": [
    "#hide\n",
    "# cols = list(g.columns.values)"
   ]
  },
  {
   "cell_type": "code",
   "execution_count": 29,
   "id": "solved-farming",
   "metadata": {
    "execution": {
     "iopub.execute_input": "2022-02-14T12:12:59.429781Z",
     "iopub.status.busy": "2022-02-14T12:12:59.429133Z",
     "iopub.status.idle": "2022-02-14T12:12:59.432852Z",
     "shell.execute_reply": "2022-02-14T12:12:59.433300Z"
    },
    "papermill": {
     "duration": 0.040153,
     "end_time": "2022-02-14T12:12:59.433431",
     "exception": false,
     "start_time": "2022-02-14T12:12:59.393278",
     "status": "completed"
    },
    "tags": []
   },
   "outputs": [],
   "source": [
    "#hide\n",
    "# cols.insert(0, cols.pop())"
   ]
  },
  {
   "cell_type": "code",
   "execution_count": 30,
   "id": "executed-adoption",
   "metadata": {
    "execution": {
     "iopub.execute_input": "2022-02-14T12:12:59.505950Z",
     "iopub.status.busy": "2022-02-14T12:12:59.505278Z",
     "iopub.status.idle": "2022-02-14T12:12:59.507373Z",
     "shell.execute_reply": "2022-02-14T12:12:59.506864Z"
    },
    "papermill": {
     "duration": 0.041097,
     "end_time": "2022-02-14T12:12:59.507478",
     "exception": false,
     "start_time": "2022-02-14T12:12:59.466381",
     "status": "completed"
    },
    "tags": []
   },
   "outputs": [],
   "source": [
    "#hide\n",
    "# g = g[cols]"
   ]
  },
  {
   "cell_type": "code",
   "execution_count": 31,
   "id": "subject-dublin",
   "metadata": {
    "execution": {
     "iopub.execute_input": "2022-02-14T12:12:59.572390Z",
     "iopub.status.busy": "2022-02-14T12:12:59.571800Z",
     "iopub.status.idle": "2022-02-14T12:12:59.573944Z",
     "shell.execute_reply": "2022-02-14T12:12:59.574340Z"
    },
    "papermill": {
     "duration": 0.036228,
     "end_time": "2022-02-14T12:12:59.574454",
     "exception": false,
     "start_time": "2022-02-14T12:12:59.538226",
     "status": "completed"
    },
    "tags": []
   },
   "outputs": [],
   "source": [
    "#hide\n",
    "# g['continent'] = g['continent'].map(mapping['map.continent'])"
   ]
  },
  {
   "cell_type": "code",
   "execution_count": 32,
   "id": "freelance-scout",
   "metadata": {
    "execution": {
     "iopub.execute_input": "2022-02-14T12:12:59.640049Z",
     "iopub.status.busy": "2022-02-14T12:12:59.639506Z",
     "iopub.status.idle": "2022-02-14T12:12:59.643439Z",
     "shell.execute_reply": "2022-02-14T12:12:59.642998Z"
    },
    "papermill": {
     "duration": 0.037715,
     "end_time": "2022-02-14T12:12:59.643542",
     "exception": false,
     "start_time": "2022-02-14T12:12:59.605827",
     "status": "completed"
    },
    "tags": []
   },
   "outputs": [],
   "source": [
    "#hide\n",
    "# g.head()"
   ]
  },
  {
   "cell_type": "code",
   "execution_count": 33,
   "id": "limited-engine",
   "metadata": {
    "execution": {
     "iopub.execute_input": "2022-02-14T12:12:59.708702Z",
     "iopub.status.busy": "2022-02-14T12:12:59.707999Z",
     "iopub.status.idle": "2022-02-14T12:12:59.711993Z",
     "shell.execute_reply": "2022-02-14T12:12:59.711557Z"
    },
    "papermill": {
     "duration": 0.037968,
     "end_time": "2022-02-14T12:12:59.712144",
     "exception": false,
     "start_time": "2022-02-14T12:12:59.674176",
     "status": "completed"
    },
    "tags": []
   },
   "outputs": [],
   "source": [
    "# hide\n",
    "# g['date'] = g['date'].astype('datetime64[ns]')"
   ]
  },
  {
   "cell_type": "code",
   "execution_count": 34,
   "id": "sophisticated-supervisor",
   "metadata": {
    "execution": {
     "iopub.execute_input": "2022-02-14T12:12:59.779532Z",
     "iopub.status.busy": "2022-02-14T12:12:59.779000Z",
     "iopub.status.idle": "2022-02-14T12:12:59.780722Z",
     "shell.execute_reply": "2022-02-14T12:12:59.781343Z"
    },
    "papermill": {
     "duration": 0.037607,
     "end_time": "2022-02-14T12:12:59.781490",
     "exception": false,
     "start_time": "2022-02-14T12:12:59.743883",
     "status": "completed"
    },
    "tags": []
   },
   "outputs": [],
   "source": [
    "#hide\n",
    "# g['date'] = g.date.dt.dayofyear"
   ]
  },
  {
   "cell_type": "code",
   "execution_count": 35,
   "id": "inside-dubai",
   "metadata": {
    "execution": {
     "iopub.execute_input": "2022-02-14T12:12:59.856587Z",
     "iopub.status.busy": "2022-02-14T12:12:59.856000Z",
     "iopub.status.idle": "2022-02-14T12:12:59.859516Z",
     "shell.execute_reply": "2022-02-14T12:12:59.860190Z"
    },
    "papermill": {
     "duration": 0.044319,
     "end_time": "2022-02-14T12:12:59.860322",
     "exception": false,
     "start_time": "2022-02-14T12:12:59.816003",
     "status": "completed"
    },
    "tags": []
   },
   "outputs": [],
   "source": [
    "#hide\n",
    "# g = g.rename(columns= {'continent':'group','country':'name','cases':'value'})"
   ]
  },
  {
   "cell_type": "code",
   "execution_count": 36,
   "id": "fleet-motorcycle",
   "metadata": {
    "execution": {
     "iopub.execute_input": "2022-02-14T12:12:59.937479Z",
     "iopub.status.busy": "2022-02-14T12:12:59.936759Z",
     "iopub.status.idle": "2022-02-14T12:12:59.939146Z",
     "shell.execute_reply": "2022-02-14T12:12:59.938647Z"
    },
    "papermill": {
     "duration": 0.042517,
     "end_time": "2022-02-14T12:12:59.939277",
     "exception": false,
     "start_time": "2022-02-14T12:12:59.896760",
     "status": "completed"
    },
    "tags": []
   },
   "outputs": [],
   "source": [
    "#hide\n",
    "# cols = ['name','group','day','value']"
   ]
  },
  {
   "cell_type": "code",
   "execution_count": 37,
   "id": "continued-sleeping",
   "metadata": {
    "execution": {
     "iopub.execute_input": "2022-02-14T12:13:00.008773Z",
     "iopub.status.busy": "2022-02-14T12:13:00.007990Z",
     "iopub.status.idle": "2022-02-14T12:13:00.011116Z",
     "shell.execute_reply": "2022-02-14T12:13:00.010458Z"
    },
    "papermill": {
     "duration": 0.040088,
     "end_time": "2022-02-14T12:13:00.011284",
     "exception": false,
     "start_time": "2022-02-14T12:12:59.971196",
     "status": "completed"
    },
    "tags": []
   },
   "outputs": [],
   "source": [
    "#hide\n",
    "# g.rename(columns= {'date':'day'},inplace = True)"
   ]
  },
  {
   "cell_type": "code",
   "execution_count": 38,
   "id": "major-fight",
   "metadata": {
    "execution": {
     "iopub.execute_input": "2022-02-14T12:13:00.087498Z",
     "iopub.status.busy": "2022-02-14T12:13:00.086857Z",
     "iopub.status.idle": "2022-02-14T12:13:00.089171Z",
     "shell.execute_reply": "2022-02-14T12:13:00.089653Z"
    },
    "papermill": {
     "duration": 0.041936,
     "end_time": "2022-02-14T12:13:00.089790",
     "exception": false,
     "start_time": "2022-02-14T12:13:00.047854",
     "status": "completed"
    },
    "tags": []
   },
   "outputs": [],
   "source": [
    "#hide\n",
    "# g = g[cols]"
   ]
  },
  {
   "cell_type": "code",
   "execution_count": 39,
   "id": "structured-mobile",
   "metadata": {
    "execution": {
     "iopub.execute_input": "2022-02-14T12:13:00.168667Z",
     "iopub.status.busy": "2022-02-14T12:13:00.167998Z",
     "iopub.status.idle": "2022-02-14T12:13:00.171336Z",
     "shell.execute_reply": "2022-02-14T12:13:00.171865Z"
    },
    "papermill": {
     "duration": 0.045092,
     "end_time": "2022-02-14T12:13:00.172005",
     "exception": false,
     "start_time": "2022-02-14T12:13:00.126913",
     "status": "completed"
    },
    "tags": []
   },
   "outputs": [],
   "source": [
    "# #hide\n",
    "# g = g[g.group.notna()]"
   ]
  },
  {
   "cell_type": "code",
   "execution_count": 40,
   "id": "determined-closing",
   "metadata": {
    "execution": {
     "iopub.execute_input": "2022-02-14T12:13:00.242638Z",
     "iopub.status.busy": "2022-02-14T12:13:00.242044Z",
     "iopub.status.idle": "2022-02-14T12:13:00.244228Z",
     "shell.execute_reply": "2022-02-14T12:13:00.244716Z"
    },
    "papermill": {
     "duration": 0.038862,
     "end_time": "2022-02-14T12:13:00.244863",
     "exception": false,
     "start_time": "2022-02-14T12:13:00.206001",
     "status": "completed"
    },
    "tags": []
   },
   "outputs": [],
   "source": [
    "# #hide\n",
    "# colors = dict(zip(\n",
    "#     [\"Oceania\", \"Europe\", \"Asia\", \"South America\", \"Middle East\", \"North America\", \"Africa\"],\n",
    "#     [\"#adb0ff\", \"#ffb3ff\", \"#90d595\", \"#e48381\", \"#aafbff\", \"#f7bb5f\", \"#eafb50\"]\n",
    "# ))\n",
    "# group_lk = g.set_index('name')['group'].to_dict()"
   ]
  },
  {
   "cell_type": "code",
   "execution_count": null,
   "id": "gross-drinking",
   "metadata": {
    "papermill": {
     "duration": 0.032933,
     "end_time": "2022-02-14T12:13:00.310259",
     "exception": false,
     "start_time": "2022-02-14T12:13:00.277326",
     "status": "completed"
    },
    "tags": []
   },
   "outputs": [],
   "source": []
  },
  {
   "cell_type": "code",
   "execution_count": 41,
   "id": "subject-macintosh",
   "metadata": {
    "execution": {
     "iopub.execute_input": "2022-02-14T12:13:00.377723Z",
     "iopub.status.busy": "2022-02-14T12:13:00.377157Z",
     "iopub.status.idle": "2022-02-14T12:13:00.381142Z",
     "shell.execute_reply": "2022-02-14T12:13:00.380564Z"
    },
    "papermill": {
     "duration": 0.039683,
     "end_time": "2022-02-14T12:13:00.381255",
     "exception": false,
     "start_time": "2022-02-14T12:13:00.341572",
     "status": "completed"
    },
    "tags": []
   },
   "outputs": [],
   "source": [
    "# #hide\n",
    "# fig, ax = plt.subplots(figsize=(15, 8))\n",
    "\n",
    "# def draw_barchart(current_day):\n",
    "#     dff = g[g['day'].eq(current_day)].sort_values(by='value', ascending=True).tail(10)\n",
    "#     ax.clear()\n",
    "#     ax.barh(dff['name'], dff['value'], color=[colors[group_lk[x]] for x in dff['name']])\n",
    "#     dx = dff['value'].max() / 200\n",
    "    \n",
    "#     for i, (value, name) in enumerate(zip(dff['value'], dff['name'])):\n",
    "#         ax.text(value-dx, i,     name,           size=14, weight=600, ha='right', va='bottom')\n",
    "#         ax.text(value-dx, i-.25, group_lk[name], size=10, color='#444444', ha='right', va='baseline')\n",
    "#         ax.text(value+dx, i,     f'{value:,.0f}',  size=14, ha='left',  va='center')\n",
    "#     ax.text(1, 0.4, current_day, transform=ax.transAxes, color='#777777', size=46, ha='right', weight=800)\n",
    "#     ax.text(0, 1.06, 'Population (thousands)', transform=ax.transAxes, size=12, color='#777777')\n",
    "#     ax.xaxis.set_major_formatter(ticker.StrMethodFormatter('{x:,.0f}'))\n",
    "#     ax.xaxis.set_ticks_position('top')\n",
    "#     ax.tick_params(axis='x', colors='#777777', labelsize=12)\n",
    "#     ax.set_yticks([])\n",
    "#     ax.margins(0, 0.01)\n",
    "#     ax.grid(which='major', axis='x', linestyle='-')\n",
    "#     ax.set_axisbelow(True)\n",
    "    \n",
    "#     ax.text(0, 1.15, 'Coronavirus',\n",
    "#             transform=ax.transAxes, size=24, weight=600, ha='left', va='top')\n",
    "# #     ax.text(1, 0, 'by @pratapvardhan; credit @jburnmurdoch', transform=ax.transAxes, color='#777777', ha='right',\n",
    "# #             bbox=dict(facecolor='white', alpha=0.8, edgecolor='white'))\n",
    "#     plt.box(False)"
   ]
  },
  {
   "cell_type": "code",
   "execution_count": 42,
   "id": "sexual-wages",
   "metadata": {
    "execution": {
     "iopub.execute_input": "2022-02-14T12:13:00.450423Z",
     "iopub.status.busy": "2022-02-14T12:13:00.449630Z",
     "iopub.status.idle": "2022-02-14T12:13:00.451246Z",
     "shell.execute_reply": "2022-02-14T12:13:00.451683Z"
    },
    "papermill": {
     "duration": 0.037489,
     "end_time": "2022-02-14T12:13:00.451806",
     "exception": false,
     "start_time": "2022-02-14T12:13:00.414317",
     "status": "completed"
    },
    "tags": []
   },
   "outputs": [],
   "source": [
    "# #hide_input\n",
    "# fig, ax = plt.subplots(figsize=(15, 8))\n",
    "# animator = animation.FuncAnimation(fig, draw_barchart, frames=range(g.day.values.min(), g.day.values.max()))\n",
    "# HTML(animator.to_jshtml())\n",
    "# # or use animator.to_html5_video() or animator.save() "
   ]
  },
  {
   "cell_type": "code",
   "execution_count": null,
   "id": "australian-container",
   "metadata": {
    "papermill": {
     "duration": 0.032866,
     "end_time": "2022-02-14T12:13:00.517489",
     "exception": false,
     "start_time": "2022-02-14T12:13:00.484623",
     "status": "completed"
    },
    "tags": []
   },
   "outputs": [],
   "source": []
  },
  {
   "cell_type": "code",
   "execution_count": null,
   "id": "mediterranean-pontiac",
   "metadata": {
    "papermill": {
     "duration": 0.031462,
     "end_time": "2022-02-14T12:13:00.579959",
     "exception": false,
     "start_time": "2022-02-14T12:13:00.548497",
     "status": "completed"
    },
    "tags": []
   },
   "outputs": [],
   "source": []
  },
  {
   "cell_type": "code",
   "execution_count": null,
   "id": "aging-legislature",
   "metadata": {
    "papermill": {
     "duration": 0.033992,
     "end_time": "2022-02-14T12:13:00.645574",
     "exception": false,
     "start_time": "2022-02-14T12:13:00.611582",
     "status": "completed"
    },
    "tags": []
   },
   "outputs": [],
   "source": []
  }
 ],
 "metadata": {
  "kernelspec": {
   "display_name": "Python 3",
   "language": "python",
   "name": "python3"
  },
  "language_info": {
   "codemirror_mode": {
    "name": "ipython",
    "version": 3
   },
   "file_extension": ".py",
   "mimetype": "text/x-python",
   "name": "python",
   "nbconvert_exporter": "python",
   "pygments_lexer": "ipython3",
   "version": "3.6.15"
  },
  "papermill": {
   "duration": 6.165785,
   "end_time": "2022-02-14T12:13:01.002418",
   "environment_variables": {},
   "exception": null,
   "input_path": "2020-03-21-covid19exp.ipynb",
   "output_path": "2020-03-21-covid19exp.ipynb",
   "parameters": {},
   "start_time": "2022-02-14T12:12:54.836633",
   "version": "2.0.0"
  }
 },
 "nbformat": 4,
 "nbformat_minor": 5
}