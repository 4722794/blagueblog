{
 "cells": [
  {
   "cell_type": "markdown",
   "id": "muslim-click",
   "metadata": {
    "papermill": {
     "duration": 0.041011,
     "end_time": "2021-12-07T12:12:58.660989",
     "exception": false,
     "start_time": "2021-12-07T12:12:58.619978",
     "status": "completed"
    },
    "tags": []
   },
   "source": [
    "# COVID-19 Case Race\n",
    "> A race chart to see rising cases around the world\n",
    "\n",
    "- author: Hargun Oberoi\n",
    "- image: images/covid-overview.png\n",
    "- hide: false\n",
    "- badges: false"
   ]
  },
  {
   "cell_type": "code",
   "execution_count": 1,
   "id": "proof-material",
   "metadata": {
    "execution": {
     "iopub.execute_input": "2021-12-07T12:12:58.745642Z",
     "iopub.status.busy": "2021-12-07T12:12:58.744975Z",
     "iopub.status.idle": "2021-12-07T12:12:59.126449Z",
     "shell.execute_reply": "2021-12-07T12:12:59.125875Z"
    },
    "papermill": {
     "duration": 0.428056,
     "end_time": "2021-12-07T12:12:59.126605",
     "exception": false,
     "start_time": "2021-12-07T12:12:58.698549",
     "status": "completed"
    },
    "tags": []
   },
   "outputs": [],
   "source": [
    "#hide\n",
    "import numpy as np\n",
    "import pandas as pd\n",
    "from jinja2 import Template\n",
    "from IPython.display import HTML"
   ]
  },
  {
   "cell_type": "code",
   "execution_count": 2,
   "id": "developed-terminology",
   "metadata": {
    "execution": {
     "iopub.execute_input": "2021-12-07T12:12:59.204326Z",
     "iopub.status.busy": "2021-12-07T12:12:59.203533Z",
     "iopub.status.idle": "2021-12-07T12:12:59.206618Z",
     "shell.execute_reply": "2021-12-07T12:12:59.207072Z"
    },
    "papermill": {
     "duration": 0.045686,
     "end_time": "2021-12-07T12:12:59.207245",
     "exception": false,
     "start_time": "2021-12-07T12:12:59.161559",
     "status": "completed"
    },
    "tags": []
   },
   "outputs": [],
   "source": [
    "#hide\n",
    "\n",
    "# FETCH\n",
    "base_url = 'https://raw.githubusercontent.com/pratapvardhan/notebooks/master/covid19/'\n",
    "paths = {\n",
    "    'mapping': base_url + 'mapping_countries.csv',\n",
    "    'overview': base_url + 'overview.tpl'\n",
    "}"
   ]
  },
  {
   "cell_type": "code",
   "execution_count": 3,
   "id": "dynamic-saver",
   "metadata": {
    "execution": {
     "iopub.execute_input": "2021-12-07T12:12:59.292274Z",
     "iopub.status.busy": "2021-12-07T12:12:59.291548Z",
     "iopub.status.idle": "2021-12-07T12:12:59.294607Z",
     "shell.execute_reply": "2021-12-07T12:12:59.295070Z"
    },
    "papermill": {
     "duration": 0.052383,
     "end_time": "2021-12-07T12:12:59.295208",
     "exception": false,
     "start_time": "2021-12-07T12:12:59.242825",
     "status": "completed"
    },
    "tags": []
   },
   "outputs": [
    {
     "data": {
      "text/plain": [
       "'https://raw.githubusercontent.com/pratapvardhan/notebooks/master/covid19/mapping_countries.csv'"
      ]
     },
     "execution_count": 3,
     "metadata": {},
     "output_type": "execute_result"
    }
   ],
   "source": [
    "#hide\n",
    "paths['mapping']"
   ]
  },
  {
   "cell_type": "code",
   "execution_count": 4,
   "id": "urban-software",
   "metadata": {
    "execution": {
     "iopub.execute_input": "2021-12-07T12:12:59.372875Z",
     "iopub.status.busy": "2021-12-07T12:12:59.372268Z",
     "iopub.status.idle": "2021-12-07T12:12:59.374866Z",
     "shell.execute_reply": "2021-12-07T12:12:59.374287Z"
    },
    "papermill": {
     "duration": 0.044639,
     "end_time": "2021-12-07T12:12:59.374981",
     "exception": false,
     "start_time": "2021-12-07T12:12:59.330342",
     "status": "completed"
    },
    "tags": []
   },
   "outputs": [],
   "source": [
    "#hide\n",
    "def get_mappings(url):\n",
    "    df = pd.read_csv(url)\n",
    "    return {\n",
    "        'df': df,\n",
    "        'replace.country': dict(df.dropna(subset=['Name']).set_index('Country')['Name']),\n",
    "        'map.continent': dict(df.set_index('Name')['Continent'])\n",
    "    }"
   ]
  },
  {
   "cell_type": "code",
   "execution_count": 5,
   "id": "intimate-machinery",
   "metadata": {
    "execution": {
     "iopub.execute_input": "2021-12-07T12:12:59.454673Z",
     "iopub.status.busy": "2021-12-07T12:12:59.453802Z",
     "iopub.status.idle": "2021-12-07T12:12:59.486160Z",
     "shell.execute_reply": "2021-12-07T12:12:59.485597Z"
    },
    "papermill": {
     "duration": 0.075761,
     "end_time": "2021-12-07T12:12:59.486302",
     "exception": false,
     "start_time": "2021-12-07T12:12:59.410541",
     "status": "completed"
    },
    "tags": []
   },
   "outputs": [],
   "source": [
    "#hide\n",
    "mapping = get_mappings(paths['mapping'])"
   ]
  },
  {
   "cell_type": "code",
   "execution_count": 6,
   "id": "certified-tactics",
   "metadata": {
    "execution": {
     "iopub.execute_input": "2021-12-07T12:12:59.564062Z",
     "iopub.status.busy": "2021-12-07T12:12:59.563310Z",
     "iopub.status.idle": "2021-12-07T12:12:59.565965Z",
     "shell.execute_reply": "2021-12-07T12:12:59.565457Z"
    },
    "papermill": {
     "duration": 0.043152,
     "end_time": "2021-12-07T12:12:59.566134",
     "exception": false,
     "start_time": "2021-12-07T12:12:59.522982",
     "status": "completed"
    },
    "tags": []
   },
   "outputs": [],
   "source": [
    "#hide\n",
    "def get_template(path):\n",
    "    from urllib.parse import urlparse\n",
    "    if bool(urlparse(path).netloc):\n",
    "        from urllib.request import urlopen\n",
    "        return urlopen(path).read().decode('utf8')\n",
    "    return open(path).read()"
   ]
  },
  {
   "cell_type": "code",
   "execution_count": 7,
   "id": "realistic-blast",
   "metadata": {
    "execution": {
     "iopub.execute_input": "2021-12-07T12:12:59.642457Z",
     "iopub.status.busy": "2021-12-07T12:12:59.641849Z",
     "iopub.status.idle": "2021-12-07T12:12:59.643993Z",
     "shell.execute_reply": "2021-12-07T12:12:59.644533Z"
    },
    "papermill": {
     "duration": 0.042615,
     "end_time": "2021-12-07T12:12:59.644675",
     "exception": false,
     "start_time": "2021-12-07T12:12:59.602060",
     "status": "completed"
    },
    "tags": []
   },
   "outputs": [],
   "source": [
    "#hide\n",
    "def get_frame(name):\n",
    "    url = (\n",
    "        'https://raw.githubusercontent.com/CSSEGISandData/COVID-19/master/csse_covid_19_data/'\n",
    "        f'csse_covid_19_time_series/time_series_covid19_{name}_global.csv')\n",
    "    df = pd.read_csv(url)\n",
    "    # rename countries\n",
    "    df['Country/Region'] = df['Country/Region'].replace(mapping['replace.country'])\n",
    "    return df"
   ]
  },
  {
   "cell_type": "code",
   "execution_count": 8,
   "id": "affiliated-characterization",
   "metadata": {
    "execution": {
     "iopub.execute_input": "2021-12-07T12:12:59.725446Z",
     "iopub.status.busy": "2021-12-07T12:12:59.724747Z",
     "iopub.status.idle": "2021-12-07T12:12:59.727360Z",
     "shell.execute_reply": "2021-12-07T12:12:59.726814Z"
    },
    "papermill": {
     "duration": 0.044099,
     "end_time": "2021-12-07T12:12:59.727504",
     "exception": false,
     "start_time": "2021-12-07T12:12:59.683405",
     "status": "completed"
    },
    "tags": []
   },
   "outputs": [],
   "source": [
    "#hide\n",
    "def get_dates(df):\n",
    "    dt_cols = df.columns[~df.columns.isin(['Province/State', 'Country/Region', 'Lat', 'Long'])]\n",
    "    LAST_DATE_I = -1\n",
    "    # sometimes last column may be empty, then go backwards\n",
    "    for i in range(-1, -len(dt_cols), -1):\n",
    "        if not df[dt_cols[i]].fillna(0).eq(0).all():\n",
    "            LAST_DATE_I = i\n",
    "            break\n",
    "    return LAST_DATE_I, dt_cols"
   ]
  },
  {
   "cell_type": "code",
   "execution_count": 9,
   "id": "recent-optimization",
   "metadata": {
    "execution": {
     "iopub.execute_input": "2021-12-07T12:12:59.805973Z",
     "iopub.status.busy": "2021-12-07T12:12:59.805203Z",
     "iopub.status.idle": "2021-12-07T12:13:00.165269Z",
     "shell.execute_reply": "2021-12-07T12:13:00.164658Z"
    },
    "papermill": {
     "duration": 0.399807,
     "end_time": "2021-12-07T12:13:00.165400",
     "exception": false,
     "start_time": "2021-12-07T12:12:59.765593",
     "status": "completed"
    },
    "tags": []
   },
   "outputs": [],
   "source": [
    "#hide\n",
    "COL_REGION = 'Country/Region'\n",
    "# Confirmed, Recovered, Deaths\n",
    "df = get_frame('confirmed')\n",
    "# dft_: timeseries, dfc_: today country agg\n",
    "dft_cases = df\n",
    "dft_deaths = get_frame('deaths')\n",
    "dft_recovered = get_frame('recovered')\n",
    "LAST_DATE_I, dt_cols = get_dates(df)"
   ]
  },
  {
   "cell_type": "code",
   "execution_count": 10,
   "id": "absolute-copper",
   "metadata": {
    "execution": {
     "iopub.execute_input": "2021-12-07T12:13:00.243724Z",
     "iopub.status.busy": "2021-12-07T12:13:00.242869Z",
     "iopub.status.idle": "2021-12-07T12:13:00.247364Z",
     "shell.execute_reply": "2021-12-07T12:13:00.246877Z"
    },
    "papermill": {
     "duration": 0.045029,
     "end_time": "2021-12-07T12:13:00.247488",
     "exception": false,
     "start_time": "2021-12-07T12:13:00.202459",
     "status": "completed"
    },
    "tags": []
   },
   "outputs": [],
   "source": [
    "#hide\n",
    "LAST_DATE_I, dt_cols = get_dates(df)\n",
    "dt_today =dt_cols[LAST_DATE_I]\n",
    "# dt_5day = dt_cols[LAST_DATE_I - 5]\n",
    "dt_yday = dt_cols[LAST_DATE_I - 1]"
   ]
  },
  {
   "cell_type": "code",
   "execution_count": 11,
   "id": "restricted-sheriff",
   "metadata": {
    "execution": {
     "iopub.execute_input": "2021-12-07T12:13:00.332570Z",
     "iopub.status.busy": "2021-12-07T12:13:00.331786Z",
     "iopub.status.idle": "2021-12-07T12:13:00.339117Z",
     "shell.execute_reply": "2021-12-07T12:13:00.339680Z"
    },
    "papermill": {
     "duration": 0.053547,
     "end_time": "2021-12-07T12:13:00.339818",
     "exception": false,
     "start_time": "2021-12-07T12:13:00.286271",
     "status": "completed"
    },
    "tags": []
   },
   "outputs": [],
   "source": [
    "#hide\n",
    "dfc_cases = dft_cases.groupby(COL_REGION)[dt_today].sum()\n",
    "dfc_deaths = dft_deaths.groupby(COL_REGION)[dt_today].sum()\n",
    "# dfp_cases = dft_cases.groupby(COL_REGION)[dt_5day].sum()\n",
    "# dfp_deaths = dft_deaths.groupby(COL_REGION)[dt_5day].sum()\n",
    "dfp_cases = dft_cases.groupby(COL_REGION)[dt_yday].sum()\n",
    "dfp_deaths = dft_deaths.groupby(COL_REGION)[dt_yday].sum()"
   ]
  },
  {
   "cell_type": "code",
   "execution_count": 12,
   "id": "deluxe-hepatitis",
   "metadata": {
    "execution": {
     "iopub.execute_input": "2021-12-07T12:13:00.418061Z",
     "iopub.status.busy": "2021-12-07T12:13:00.417413Z",
     "iopub.status.idle": "2021-12-07T12:13:00.422610Z",
     "shell.execute_reply": "2021-12-07T12:13:00.423199Z"
    },
    "papermill": {
     "duration": 0.048041,
     "end_time": "2021-12-07T12:13:00.423350",
     "exception": false,
     "start_time": "2021-12-07T12:13:00.375309",
     "status": "completed"
    },
    "tags": []
   },
   "outputs": [],
   "source": [
    "#hide\n",
    "df_table = (pd.DataFrame(dict(Cases = dfc_cases, Deaths = dfc_deaths, PCases = dfp_cases, PDeaths = dfp_deaths))\n",
    "            .sort_values(by = ['Cases','Deaths'], ascending = [False, False])\n",
    "            .reset_index())"
   ]
  },
  {
   "cell_type": "code",
   "execution_count": 13,
   "id": "educational-chancellor",
   "metadata": {
    "execution": {
     "iopub.execute_input": "2021-12-07T12:13:00.518791Z",
     "iopub.status.busy": "2021-12-07T12:13:00.518142Z",
     "iopub.status.idle": "2021-12-07T12:13:00.527628Z",
     "shell.execute_reply": "2021-12-07T12:13:00.528198Z"
    },
    "papermill": {
     "duration": 0.069697,
     "end_time": "2021-12-07T12:13:00.528333",
     "exception": false,
     "start_time": "2021-12-07T12:13:00.458636",
     "status": "completed"
    },
    "tags": []
   },
   "outputs": [
    {
     "data": {
      "text/html": [
       "<div>\n",
       "<style scoped>\n",
       "    .dataframe tbody tr th:only-of-type {\n",
       "        vertical-align: middle;\n",
       "    }\n",
       "\n",
       "    .dataframe tbody tr th {\n",
       "        vertical-align: top;\n",
       "    }\n",
       "\n",
       "    .dataframe thead th {\n",
       "        text-align: right;\n",
       "    }\n",
       "</style>\n",
       "<table border=\"1\" class=\"dataframe\">\n",
       "  <thead>\n",
       "    <tr style=\"text-align: right;\">\n",
       "      <th></th>\n",
       "      <th>Country/Region</th>\n",
       "      <th>Cases</th>\n",
       "      <th>Deaths</th>\n",
       "      <th>PCases</th>\n",
       "      <th>PDeaths</th>\n",
       "      <th>Cases (+)</th>\n",
       "      <th>Deaths (+)</th>\n",
       "      <th>Fatality Rate</th>\n",
       "      <th>Continent</th>\n",
       "    </tr>\n",
       "  </thead>\n",
       "  <tbody>\n",
       "    <tr>\n",
       "      <th>0</th>\n",
       "      <td>US</td>\n",
       "      <td>49278278</td>\n",
       "      <td>789745</td>\n",
       "      <td>49085361</td>\n",
       "      <td>788363</td>\n",
       "      <td>192917</td>\n",
       "      <td>1382</td>\n",
       "      <td>1.60</td>\n",
       "      <td>North America</td>\n",
       "    </tr>\n",
       "    <tr>\n",
       "      <th>1</th>\n",
       "      <td>India</td>\n",
       "      <td>34648383</td>\n",
       "      <td>473757</td>\n",
       "      <td>34641561</td>\n",
       "      <td>473537</td>\n",
       "      <td>6822</td>\n",
       "      <td>220</td>\n",
       "      <td>1.37</td>\n",
       "      <td>Asia</td>\n",
       "    </tr>\n",
       "    <tr>\n",
       "      <th>2</th>\n",
       "      <td>Brazil</td>\n",
       "      <td>22147476</td>\n",
       "      <td>615744</td>\n",
       "      <td>22143091</td>\n",
       "      <td>615636</td>\n",
       "      <td>4385</td>\n",
       "      <td>108</td>\n",
       "      <td>2.78</td>\n",
       "      <td>South America</td>\n",
       "    </tr>\n",
       "    <tr>\n",
       "      <th>3</th>\n",
       "      <td>United Kingdom</td>\n",
       "      <td>10575062</td>\n",
       "      <td>146101</td>\n",
       "      <td>10523316</td>\n",
       "      <td>146055</td>\n",
       "      <td>51746</td>\n",
       "      <td>46</td>\n",
       "      <td>1.38</td>\n",
       "      <td>Europe</td>\n",
       "    </tr>\n",
       "    <tr>\n",
       "      <th>4</th>\n",
       "      <td>Russia</td>\n",
       "      <td>9661865</td>\n",
       "      <td>276979</td>\n",
       "      <td>9630296</td>\n",
       "      <td>275824</td>\n",
       "      <td>31569</td>\n",
       "      <td>1155</td>\n",
       "      <td>2.87</td>\n",
       "      <td>Europe</td>\n",
       "    </tr>\n",
       "  </tbody>\n",
       "</table>\n",
       "</div>"
      ],
      "text/plain": [
       "   Country/Region     Cases  Deaths    PCases  PDeaths  Cases (+)  Deaths (+)  \\\n",
       "0              US  49278278  789745  49085361   788363     192917        1382   \n",
       "1           India  34648383  473757  34641561   473537       6822         220   \n",
       "2          Brazil  22147476  615744  22143091   615636       4385         108   \n",
       "3  United Kingdom  10575062  146101  10523316   146055      51746          46   \n",
       "4          Russia   9661865  276979   9630296   275824      31569        1155   \n",
       "\n",
       "   Fatality Rate      Continent  \n",
       "0           1.60  North America  \n",
       "1           1.37           Asia  \n",
       "2           2.78  South America  \n",
       "3           1.38         Europe  \n",
       "4           2.87         Europe  "
      ]
     },
     "execution_count": 13,
     "metadata": {},
     "output_type": "execute_result"
    }
   ],
   "source": [
    "#hide\n",
    "for c in 'Cases, Deaths'.split(', '):\n",
    "    df_table[f'{c} (+)'] = (df_table[c] - df_table[f'P{c}']).clip(0)\n",
    "    #Clip ça veut dire, les chiffres negatif sont interdit\n",
    "df_table['Fatality Rate'] = (100* df_table['Deaths']/ df_table['Cases']).round(2)\n",
    "df_table['Continent'] = df_table['Country/Region'].map(mapping['map.continent'])\n",
    "df_table.head(5)"
   ]
  },
  {
   "cell_type": "code",
   "execution_count": 14,
   "id": "aboriginal-bulgaria",
   "metadata": {
    "execution": {
     "iopub.execute_input": "2021-12-07T12:13:00.609377Z",
     "iopub.status.busy": "2021-12-07T12:13:00.608777Z",
     "iopub.status.idle": "2021-12-07T12:13:00.611242Z",
     "shell.execute_reply": "2021-12-07T12:13:00.611917Z"
    },
    "papermill": {
     "duration": 0.045949,
     "end_time": "2021-12-07T12:13:00.612070",
     "exception": false,
     "start_time": "2021-12-07T12:13:00.566121",
     "status": "completed"
    },
    "tags": []
   },
   "outputs": [],
   "source": [
    "#hide\n",
    "#delete problematic countries from table\n",
    "df_table = df_table[~df_table['Country/Region'].isin(['Cape Verde', 'Cruise Ship', 'Kosovo'])]"
   ]
  },
  {
   "cell_type": "code",
   "execution_count": 15,
   "id": "fantastic-effect",
   "metadata": {
    "execution": {
     "iopub.execute_input": "2021-12-07T12:13:00.687340Z",
     "iopub.status.busy": "2021-12-07T12:13:00.686744Z",
     "iopub.status.idle": "2021-12-07T12:13:00.715463Z",
     "shell.execute_reply": "2021-12-07T12:13:00.716117Z"
    },
    "papermill": {
     "duration": 0.068478,
     "end_time": "2021-12-07T12:13:00.716245",
     "exception": false,
     "start_time": "2021-12-07T12:13:00.647767",
     "status": "completed"
    },
    "tags": []
   },
   "outputs": [
    {
     "data": {
      "text/html": [
       "<div>\n",
       "<style scoped>\n",
       "    .dataframe tbody tr th:only-of-type {\n",
       "        vertical-align: middle;\n",
       "    }\n",
       "\n",
       "    .dataframe tbody tr th {\n",
       "        vertical-align: top;\n",
       "    }\n",
       "\n",
       "    .dataframe thead th {\n",
       "        text-align: right;\n",
       "    }\n",
       "</style>\n",
       "<table border=\"1\" class=\"dataframe\">\n",
       "  <thead>\n",
       "    <tr style=\"text-align: right;\">\n",
       "      <th></th>\n",
       "      <th>Country/Region</th>\n",
       "      <th>Cases</th>\n",
       "      <th>Deaths</th>\n",
       "      <th>PCases</th>\n",
       "      <th>PDeaths</th>\n",
       "      <th>Cases (+)</th>\n",
       "      <th>Deaths (+)</th>\n",
       "      <th>Fatality Rate</th>\n",
       "      <th>Continent</th>\n",
       "    </tr>\n",
       "  </thead>\n",
       "  <tbody>\n",
       "    <tr>\n",
       "      <th>0</th>\n",
       "      <td>US</td>\n",
       "      <td>49278278</td>\n",
       "      <td>789745</td>\n",
       "      <td>49085361</td>\n",
       "      <td>788363</td>\n",
       "      <td>192917</td>\n",
       "      <td>1382</td>\n",
       "      <td>1.6</td>\n",
       "      <td>North America</td>\n",
       "    </tr>\n",
       "    <tr>\n",
       "      <th>1</th>\n",
       "      <td>India</td>\n",
       "      <td>34648383</td>\n",
       "      <td>473757</td>\n",
       "      <td>34641561</td>\n",
       "      <td>473537</td>\n",
       "      <td>6822</td>\n",
       "      <td>220</td>\n",
       "      <td>1.4</td>\n",
       "      <td>Asia</td>\n",
       "    </tr>\n",
       "    <tr>\n",
       "      <th>2</th>\n",
       "      <td>Brazil</td>\n",
       "      <td>22147476</td>\n",
       "      <td>615744</td>\n",
       "      <td>22143091</td>\n",
       "      <td>615636</td>\n",
       "      <td>4385</td>\n",
       "      <td>108</td>\n",
       "      <td>2.8</td>\n",
       "      <td>South America</td>\n",
       "    </tr>\n",
       "    <tr>\n",
       "      <th>3</th>\n",
       "      <td>United Kingdom</td>\n",
       "      <td>10575062</td>\n",
       "      <td>146101</td>\n",
       "      <td>10523316</td>\n",
       "      <td>146055</td>\n",
       "      <td>51746</td>\n",
       "      <td>46</td>\n",
       "      <td>1.4</td>\n",
       "      <td>Europe</td>\n",
       "    </tr>\n",
       "    <tr>\n",
       "      <th>4</th>\n",
       "      <td>Russia</td>\n",
       "      <td>9661865</td>\n",
       "      <td>276979</td>\n",
       "      <td>9630296</td>\n",
       "      <td>275824</td>\n",
       "      <td>31569</td>\n",
       "      <td>1155</td>\n",
       "      <td>2.9</td>\n",
       "      <td>Europe</td>\n",
       "    </tr>\n",
       "  </tbody>\n",
       "</table>\n",
       "</div>"
      ],
      "text/plain": [
       "   Country/Region     Cases  Deaths    PCases  PDeaths  Cases (+)  Deaths (+)  \\\n",
       "0              US  49278278  789745  49085361   788363     192917        1382   \n",
       "1           India  34648383  473757  34641561   473537       6822         220   \n",
       "2          Brazil  22147476  615744  22143091   615636       4385         108   \n",
       "3  United Kingdom  10575062  146101  10523316   146055      51746          46   \n",
       "4          Russia   9661865  276979   9630296   275824      31569        1155   \n",
       "\n",
       "   Fatality Rate      Continent  \n",
       "0            1.6  North America  \n",
       "1            1.4           Asia  \n",
       "2            2.8  South America  \n",
       "3            1.4         Europe  \n",
       "4            2.9         Europe  "
      ]
     },
     "execution_count": 15,
     "metadata": {},
     "output_type": "execute_result"
    }
   ],
   "source": [
    "#hide\n",
    "df_table = (pd.DataFrame(dict(Cases=dfc_cases, Deaths=dfc_deaths, PCases=dfp_cases, PDeaths=dfp_deaths))\n",
    "             .sort_values(by=['Cases', 'Deaths'], ascending=[False, False])\n",
    "             .reset_index())\n",
    "df_table.rename(columns={'index': 'Country/Region'}, inplace=True)\n",
    "for c in 'Cases, Deaths'.split(', '):\n",
    "    df_table[f'{c} (+)'] = (df_table[c] - df_table[f'P{c}']).clip(0)  # DATA BUG\n",
    "df_table['Fatality Rate'] = (100 * df_table['Deaths'] / df_table['Cases']).round(1)\n",
    "df_table['Continent'] = df_table['Country/Region'].map(mapping['map.continent'])\n",
    "df_table.head(5)"
   ]
  },
  {
   "cell_type": "code",
   "execution_count": 16,
   "id": "fewer-occasion",
   "metadata": {
    "execution": {
     "iopub.execute_input": "2021-12-07T12:13:00.795820Z",
     "iopub.status.busy": "2021-12-07T12:13:00.795135Z",
     "iopub.status.idle": "2021-12-07T12:13:00.797430Z",
     "shell.execute_reply": "2021-12-07T12:13:00.797934Z"
    },
    "papermill": {
     "duration": 0.045769,
     "end_time": "2021-12-07T12:13:00.798059",
     "exception": false,
     "start_time": "2021-12-07T12:13:00.752290",
     "status": "completed"
    },
    "tags": []
   },
   "outputs": [],
   "source": [
    "#hide\n",
    "#delete problematic countries from table\n",
    "df_table = df_table[~df_table['Country/Region'].isin(['Cape Verde', 'Cruise Ship', 'Kosovo'])]"
   ]
  },
  {
   "cell_type": "code",
   "execution_count": 17,
   "id": "related-center",
   "metadata": {
    "execution": {
     "iopub.execute_input": "2021-12-07T12:13:00.884189Z",
     "iopub.status.busy": "2021-12-07T12:13:00.883531Z",
     "iopub.status.idle": "2021-12-07T12:13:00.899930Z",
     "shell.execute_reply": "2021-12-07T12:13:00.900444Z"
    },
    "papermill": {
     "duration": 0.066368,
     "end_time": "2021-12-07T12:13:00.900586",
     "exception": false,
     "start_time": "2021-12-07T12:13:00.834218",
     "status": "completed"
    },
    "tags": []
   },
   "outputs": [],
   "source": [
    "#hide\n",
    "metrics = [df_table.columns[index] for index in [1,2,5,6]]\n",
    "# s_china = df_table[df_table['Country/Region'].eq('China')][metrics].sum().add_prefix('China ')\n",
    "s_us = df_table[df_table['Country/Region'].eq('US')][metrics].sum().add_prefix('US ')\n",
    "s_eu = df_table[df_table['Continent'].eq('Europe')][metrics].sum().add_prefix('EU ')\n",
    "s_ind = df_table[df_table['Country/Region'].eq('India')][metrics].sum().add_prefix('India ')\n",
    "summary = {'updated': pd.to_datetime(dt_today), 'since': pd.to_datetime(dt_yday)}\n",
    "summary = {'updated': pd.to_datetime(dt_today), 'since': pd.to_datetime(dt_yday)}\n",
    "summary = {**summary, **df_table[metrics].sum(), **s_ind, **s_us, **s_eu}"
   ]
  },
  {
   "cell_type": "code",
   "execution_count": 18,
   "id": "engaging-syndrome",
   "metadata": {
    "execution": {
     "iopub.execute_input": "2021-12-07T12:13:00.979835Z",
     "iopub.status.busy": "2021-12-07T12:13:00.979137Z",
     "iopub.status.idle": "2021-12-07T12:13:00.993711Z",
     "shell.execute_reply": "2021-12-07T12:13:00.994311Z"
    },
    "papermill": {
     "duration": 0.057055,
     "end_time": "2021-12-07T12:13:00.994434",
     "exception": false,
     "start_time": "2021-12-07T12:13:00.937379",
     "status": "completed"
    },
    "tags": []
   },
   "outputs": [],
   "source": [
    "#hide\n",
    "dft_ct_new_cases = dft_cases.groupby(COL_REGION)[dt_cols].sum().diff(axis=1).fillna(0).astype(int)"
   ]
  },
  {
   "cell_type": "code",
   "execution_count": 19,
   "id": "neutral-assignment",
   "metadata": {
    "execution": {
     "iopub.execute_input": "2021-12-07T12:13:01.078350Z",
     "iopub.status.busy": "2021-12-07T12:13:01.077520Z",
     "iopub.status.idle": "2021-12-07T12:13:01.081732Z",
     "shell.execute_reply": "2021-12-07T12:13:01.079584Z"
    },
    "papermill": {
     "duration": 0.049461,
     "end_time": "2021-12-07T12:13:01.081860",
     "exception": false,
     "start_time": "2021-12-07T12:13:01.032399",
     "status": "completed"
    },
    "tags": []
   },
   "outputs": [],
   "source": [
    "#hide\n",
    "everydaycases = dft_ct_new_cases.cumsum(axis=1)"
   ]
  },
  {
   "cell_type": "code",
   "execution_count": 20,
   "id": "parliamentary-calgary",
   "metadata": {
    "execution": {
     "iopub.execute_input": "2021-12-07T12:13:01.164292Z",
     "iopub.status.busy": "2021-12-07T12:13:01.163582Z",
     "iopub.status.idle": "2021-12-07T12:13:01.887538Z",
     "shell.execute_reply": "2021-12-07T12:13:01.886926Z"
    },
    "papermill": {
     "duration": 0.766458,
     "end_time": "2021-12-07T12:13:01.887765",
     "exception": false,
     "start_time": "2021-12-07T12:13:01.121307",
     "status": "completed"
    },
    "tags": []
   },
   "outputs": [],
   "source": [
    "#hide\n",
    "import pandas as pd\n",
    "import matplotlib.pyplot as plt\n",
    "import matplotlib.ticker as ticker\n",
    "import matplotlib.animation as animation\n",
    "from IPython.display import HTML"
   ]
  },
  {
   "cell_type": "code",
   "execution_count": 21,
   "id": "lasting-extraction",
   "metadata": {
    "execution": {
     "iopub.execute_input": "2021-12-07T12:13:01.972713Z",
     "iopub.status.busy": "2021-12-07T12:13:01.972067Z",
     "iopub.status.idle": "2021-12-07T12:13:01.978145Z",
     "shell.execute_reply": "2021-12-07T12:13:01.978737Z"
    },
    "papermill": {
     "duration": 0.050848,
     "end_time": "2021-12-07T12:13:01.978872",
     "exception": false,
     "start_time": "2021-12-07T12:13:01.928024",
     "status": "completed"
    },
    "tags": []
   },
   "outputs": [],
   "source": [
    "#hide\n",
    "t = everydaycases.stack()"
   ]
  },
  {
   "cell_type": "code",
   "execution_count": 22,
   "id": "premier-sleeve",
   "metadata": {
    "execution": {
     "iopub.execute_input": "2021-12-07T12:13:02.063341Z",
     "iopub.status.busy": "2021-12-07T12:13:02.062654Z",
     "iopub.status.idle": "2021-12-07T12:13:02.073846Z",
     "shell.execute_reply": "2021-12-07T12:13:02.073304Z"
    },
    "papermill": {
     "duration": 0.05603,
     "end_time": "2021-12-07T12:13:02.073997",
     "exception": false,
     "start_time": "2021-12-07T12:13:02.017967",
     "status": "completed"
    },
    "tags": []
   },
   "outputs": [],
   "source": [
    "#hide\n",
    "g = t.reset_index(['Country/Region'])"
   ]
  },
  {
   "cell_type": "code",
   "execution_count": 23,
   "id": "distributed-pittsburgh",
   "metadata": {
    "execution": {
     "iopub.execute_input": "2021-12-07T12:13:02.153290Z",
     "iopub.status.busy": "2021-12-07T12:13:02.152560Z",
     "iopub.status.idle": "2021-12-07T12:13:02.156069Z",
     "shell.execute_reply": "2021-12-07T12:13:02.156602Z"
    },
    "papermill": {
     "duration": 0.044277,
     "end_time": "2021-12-07T12:13:02.156731",
     "exception": false,
     "start_time": "2021-12-07T12:13:02.112454",
     "status": "completed"
    },
    "tags": []
   },
   "outputs": [],
   "source": [
    "#hide\n",
    "g.index.name = 'date'"
   ]
  },
  {
   "cell_type": "code",
   "execution_count": 24,
   "id": "naked-donor",
   "metadata": {
    "execution": {
     "iopub.execute_input": "2021-12-07T12:13:02.237496Z",
     "iopub.status.busy": "2021-12-07T12:13:02.236804Z",
     "iopub.status.idle": "2021-12-07T12:13:02.239820Z",
     "shell.execute_reply": "2021-12-07T12:13:02.239161Z"
    },
    "papermill": {
     "duration": 0.045151,
     "end_time": "2021-12-07T12:13:02.239951",
     "exception": false,
     "start_time": "2021-12-07T12:13:02.194800",
     "status": "completed"
    },
    "tags": []
   },
   "outputs": [],
   "source": [
    "# #hide\n",
    "# g = g.reset_index(['date'])"
   ]
  },
  {
   "cell_type": "code",
   "execution_count": 25,
   "id": "incomplete-mustang",
   "metadata": {
    "execution": {
     "iopub.execute_input": "2021-12-07T12:13:02.335382Z",
     "iopub.status.busy": "2021-12-07T12:13:02.334604Z",
     "iopub.status.idle": "2021-12-07T12:13:02.337374Z",
     "shell.execute_reply": "2021-12-07T12:13:02.336797Z"
    },
    "papermill": {
     "duration": 0.058242,
     "end_time": "2021-12-07T12:13:02.337504",
     "exception": false,
     "start_time": "2021-12-07T12:13:02.279262",
     "status": "completed"
    },
    "tags": []
   },
   "outputs": [],
   "source": [
    "#hide\n",
    "# g.head()"
   ]
  },
  {
   "cell_type": "code",
   "execution_count": 26,
   "id": "specific-kruger",
   "metadata": {
    "execution": {
     "iopub.execute_input": "2021-12-07T12:13:02.420836Z",
     "iopub.status.busy": "2021-12-07T12:13:02.420210Z",
     "iopub.status.idle": "2021-12-07T12:13:02.422957Z",
     "shell.execute_reply": "2021-12-07T12:13:02.422390Z"
    },
    "papermill": {
     "duration": 0.045984,
     "end_time": "2021-12-07T12:13:02.423097",
     "exception": false,
     "start_time": "2021-12-07T12:13:02.377113",
     "status": "completed"
    },
    "tags": []
   },
   "outputs": [],
   "source": [
    "#hide\n",
    "# g.columns = ['date','country','cases']"
   ]
  },
  {
   "cell_type": "code",
   "execution_count": 27,
   "id": "tender-conversion",
   "metadata": {
    "execution": {
     "iopub.execute_input": "2021-12-07T12:13:02.505194Z",
     "iopub.status.busy": "2021-12-07T12:13:02.504529Z",
     "iopub.status.idle": "2021-12-07T12:13:02.507066Z",
     "shell.execute_reply": "2021-12-07T12:13:02.506497Z"
    },
    "papermill": {
     "duration": 0.044915,
     "end_time": "2021-12-07T12:13:02.507193",
     "exception": false,
     "start_time": "2021-12-07T12:13:02.462278",
     "status": "completed"
    },
    "tags": []
   },
   "outputs": [],
   "source": [
    "#hide\n",
    "# g['continent'] = g.country"
   ]
  },
  {
   "cell_type": "code",
   "execution_count": 28,
   "id": "substantial-wilderness",
   "metadata": {
    "execution": {
     "iopub.execute_input": "2021-12-07T12:13:02.591250Z",
     "iopub.status.busy": "2021-12-07T12:13:02.590587Z",
     "iopub.status.idle": "2021-12-07T12:13:02.593626Z",
     "shell.execute_reply": "2021-12-07T12:13:02.593092Z"
    },
    "papermill": {
     "duration": 0.047031,
     "end_time": "2021-12-07T12:13:02.593752",
     "exception": false,
     "start_time": "2021-12-07T12:13:02.546721",
     "status": "completed"
    },
    "tags": []
   },
   "outputs": [],
   "source": [
    "#hide\n",
    "# cols = list(g.columns.values)"
   ]
  },
  {
   "cell_type": "code",
   "execution_count": 29,
   "id": "solved-farming",
   "metadata": {
    "execution": {
     "iopub.execute_input": "2021-12-07T12:13:02.678294Z",
     "iopub.status.busy": "2021-12-07T12:13:02.677603Z",
     "iopub.status.idle": "2021-12-07T12:13:02.680090Z",
     "shell.execute_reply": "2021-12-07T12:13:02.680923Z"
    },
    "papermill": {
     "duration": 0.047545,
     "end_time": "2021-12-07T12:13:02.681072",
     "exception": false,
     "start_time": "2021-12-07T12:13:02.633527",
     "status": "completed"
    },
    "tags": []
   },
   "outputs": [],
   "source": [
    "#hide\n",
    "# cols.insert(0, cols.pop())"
   ]
  },
  {
   "cell_type": "code",
   "execution_count": 30,
   "id": "executed-adoption",
   "metadata": {
    "execution": {
     "iopub.execute_input": "2021-12-07T12:13:02.764338Z",
     "iopub.status.busy": "2021-12-07T12:13:02.763586Z",
     "iopub.status.idle": "2021-12-07T12:13:02.765666Z",
     "shell.execute_reply": "2021-12-07T12:13:02.766220Z"
    },
    "papermill": {
     "duration": 0.044876,
     "end_time": "2021-12-07T12:13:02.766375",
     "exception": false,
     "start_time": "2021-12-07T12:13:02.721499",
     "status": "completed"
    },
    "tags": []
   },
   "outputs": [],
   "source": [
    "#hide\n",
    "# g = g[cols]"
   ]
  },
  {
   "cell_type": "code",
   "execution_count": 31,
   "id": "subject-dublin",
   "metadata": {
    "execution": {
     "iopub.execute_input": "2021-12-07T12:13:02.854006Z",
     "iopub.status.busy": "2021-12-07T12:13:02.853181Z",
     "iopub.status.idle": "2021-12-07T12:13:02.855767Z",
     "shell.execute_reply": "2021-12-07T12:13:02.855068Z"
    },
    "papermill": {
     "duration": 0.049165,
     "end_time": "2021-12-07T12:13:02.855898",
     "exception": false,
     "start_time": "2021-12-07T12:13:02.806733",
     "status": "completed"
    },
    "tags": []
   },
   "outputs": [],
   "source": [
    "#hide\n",
    "# g['continent'] = g['continent'].map(mapping['map.continent'])"
   ]
  },
  {
   "cell_type": "code",
   "execution_count": 32,
   "id": "freelance-scout",
   "metadata": {
    "execution": {
     "iopub.execute_input": "2021-12-07T12:13:02.938819Z",
     "iopub.status.busy": "2021-12-07T12:13:02.938134Z",
     "iopub.status.idle": "2021-12-07T12:13:02.942239Z",
     "shell.execute_reply": "2021-12-07T12:13:02.942787Z"
    },
    "papermill": {
     "duration": 0.046965,
     "end_time": "2021-12-07T12:13:02.943153",
     "exception": false,
     "start_time": "2021-12-07T12:13:02.896188",
     "status": "completed"
    },
    "tags": []
   },
   "outputs": [],
   "source": [
    "#hide\n",
    "# g.head()"
   ]
  },
  {
   "cell_type": "code",
   "execution_count": 33,
   "id": "limited-engine",
   "metadata": {
    "execution": {
     "iopub.execute_input": "2021-12-07T12:13:03.025787Z",
     "iopub.status.busy": "2021-12-07T12:13:03.025007Z",
     "iopub.status.idle": "2021-12-07T12:13:03.027765Z",
     "shell.execute_reply": "2021-12-07T12:13:03.027135Z"
    },
    "papermill": {
     "duration": 0.045779,
     "end_time": "2021-12-07T12:13:03.027895",
     "exception": false,
     "start_time": "2021-12-07T12:13:02.982116",
     "status": "completed"
    },
    "tags": []
   },
   "outputs": [],
   "source": [
    "# hide\n",
    "# g['date'] = g['date'].astype('datetime64[ns]')"
   ]
  },
  {
   "cell_type": "code",
   "execution_count": 34,
   "id": "sophisticated-supervisor",
   "metadata": {
    "execution": {
     "iopub.execute_input": "2021-12-07T12:13:03.110056Z",
     "iopub.status.busy": "2021-12-07T12:13:03.109397Z",
     "iopub.status.idle": "2021-12-07T12:13:03.112022Z",
     "shell.execute_reply": "2021-12-07T12:13:03.111443Z"
    },
    "papermill": {
     "duration": 0.044607,
     "end_time": "2021-12-07T12:13:03.112150",
     "exception": false,
     "start_time": "2021-12-07T12:13:03.067543",
     "status": "completed"
    },
    "tags": []
   },
   "outputs": [],
   "source": [
    "#hide\n",
    "# g['date'] = g.date.dt.dayofyear"
   ]
  },
  {
   "cell_type": "code",
   "execution_count": 35,
   "id": "inside-dubai",
   "metadata": {
    "execution": {
     "iopub.execute_input": "2021-12-07T12:13:03.193926Z",
     "iopub.status.busy": "2021-12-07T12:13:03.193201Z",
     "iopub.status.idle": "2021-12-07T12:13:03.196099Z",
     "shell.execute_reply": "2021-12-07T12:13:03.195450Z"
    },
    "papermill": {
     "duration": 0.044971,
     "end_time": "2021-12-07T12:13:03.196228",
     "exception": false,
     "start_time": "2021-12-07T12:13:03.151257",
     "status": "completed"
    },
    "tags": []
   },
   "outputs": [],
   "source": [
    "#hide\n",
    "# g = g.rename(columns= {'continent':'group','country':'name','cases':'value'})"
   ]
  },
  {
   "cell_type": "code",
   "execution_count": 36,
   "id": "fleet-motorcycle",
   "metadata": {
    "execution": {
     "iopub.execute_input": "2021-12-07T12:13:03.281140Z",
     "iopub.status.busy": "2021-12-07T12:13:03.280427Z",
     "iopub.status.idle": "2021-12-07T12:13:03.282970Z",
     "shell.execute_reply": "2021-12-07T12:13:03.282309Z"
    },
    "papermill": {
     "duration": 0.046161,
     "end_time": "2021-12-07T12:13:03.283100",
     "exception": false,
     "start_time": "2021-12-07T12:13:03.236939",
     "status": "completed"
    },
    "tags": []
   },
   "outputs": [],
   "source": [
    "#hide\n",
    "# cols = ['name','group','day','value']"
   ]
  },
  {
   "cell_type": "code",
   "execution_count": 37,
   "id": "continued-sleeping",
   "metadata": {
    "execution": {
     "iopub.execute_input": "2021-12-07T12:13:03.365745Z",
     "iopub.status.busy": "2021-12-07T12:13:03.365037Z",
     "iopub.status.idle": "2021-12-07T12:13:03.367286Z",
     "shell.execute_reply": "2021-12-07T12:13:03.367967Z"
    },
    "papermill": {
     "duration": 0.045582,
     "end_time": "2021-12-07T12:13:03.368106",
     "exception": false,
     "start_time": "2021-12-07T12:13:03.322524",
     "status": "completed"
    },
    "tags": []
   },
   "outputs": [],
   "source": [
    "#hide\n",
    "# g.rename(columns= {'date':'day'},inplace = True)"
   ]
  },
  {
   "cell_type": "code",
   "execution_count": 38,
   "id": "major-fight",
   "metadata": {
    "execution": {
     "iopub.execute_input": "2021-12-07T12:13:03.450070Z",
     "iopub.status.busy": "2021-12-07T12:13:03.449299Z",
     "iopub.status.idle": "2021-12-07T12:13:03.453289Z",
     "shell.execute_reply": "2021-12-07T12:13:03.453808Z"
    },
    "papermill": {
     "duration": 0.047758,
     "end_time": "2021-12-07T12:13:03.453961",
     "exception": false,
     "start_time": "2021-12-07T12:13:03.406203",
     "status": "completed"
    },
    "tags": []
   },
   "outputs": [],
   "source": [
    "#hide\n",
    "# g = g[cols]"
   ]
  },
  {
   "cell_type": "code",
   "execution_count": 39,
   "id": "structured-mobile",
   "metadata": {
    "execution": {
     "iopub.execute_input": "2021-12-07T12:13:03.546491Z",
     "iopub.status.busy": "2021-12-07T12:13:03.545757Z",
     "iopub.status.idle": "2021-12-07T12:13:03.548154Z",
     "shell.execute_reply": "2021-12-07T12:13:03.549176Z"
    },
    "papermill": {
     "duration": 0.056757,
     "end_time": "2021-12-07T12:13:03.549388",
     "exception": false,
     "start_time": "2021-12-07T12:13:03.492631",
     "status": "completed"
    },
    "tags": []
   },
   "outputs": [],
   "source": [
    "# #hide\n",
    "# g = g[g.group.notna()]"
   ]
  },
  {
   "cell_type": "code",
   "execution_count": 40,
   "id": "determined-closing",
   "metadata": {
    "execution": {
     "iopub.execute_input": "2021-12-07T12:13:03.634424Z",
     "iopub.status.busy": "2021-12-07T12:13:03.633723Z",
     "iopub.status.idle": "2021-12-07T12:13:03.636262Z",
     "shell.execute_reply": "2021-12-07T12:13:03.636846Z"
    },
    "papermill": {
     "duration": 0.046361,
     "end_time": "2021-12-07T12:13:03.636992",
     "exception": false,
     "start_time": "2021-12-07T12:13:03.590631",
     "status": "completed"
    },
    "tags": []
   },
   "outputs": [],
   "source": [
    "# #hide\n",
    "# colors = dict(zip(\n",
    "#     [\"Oceania\", \"Europe\", \"Asia\", \"South America\", \"Middle East\", \"North America\", \"Africa\"],\n",
    "#     [\"#adb0ff\", \"#ffb3ff\", \"#90d595\", \"#e48381\", \"#aafbff\", \"#f7bb5f\", \"#eafb50\"]\n",
    "# ))\n",
    "# group_lk = g.set_index('name')['group'].to_dict()"
   ]
  },
  {
   "cell_type": "code",
   "execution_count": null,
   "id": "gross-drinking",
   "metadata": {
    "papermill": {
     "duration": 0.039972,
     "end_time": "2021-12-07T12:13:03.715325",
     "exception": false,
     "start_time": "2021-12-07T12:13:03.675353",
     "status": "completed"
    },
    "tags": []
   },
   "outputs": [],
   "source": []
  },
  {
   "cell_type": "code",
   "execution_count": 41,
   "id": "subject-macintosh",
   "metadata": {
    "execution": {
     "iopub.execute_input": "2021-12-07T12:13:03.801265Z",
     "iopub.status.busy": "2021-12-07T12:13:03.800535Z",
     "iopub.status.idle": "2021-12-07T12:13:03.803323Z",
     "shell.execute_reply": "2021-12-07T12:13:03.802740Z"
    },
    "papermill": {
     "duration": 0.047636,
     "end_time": "2021-12-07T12:13:03.803454",
     "exception": false,
     "start_time": "2021-12-07T12:13:03.755818",
     "status": "completed"
    },
    "tags": []
   },
   "outputs": [],
   "source": [
    "# #hide\n",
    "# fig, ax = plt.subplots(figsize=(15, 8))\n",
    "\n",
    "# def draw_barchart(current_day):\n",
    "#     dff = g[g['day'].eq(current_day)].sort_values(by='value', ascending=True).tail(10)\n",
    "#     ax.clear()\n",
    "#     ax.barh(dff['name'], dff['value'], color=[colors[group_lk[x]] for x in dff['name']])\n",
    "#     dx = dff['value'].max() / 200\n",
    "    \n",
    "#     for i, (value, name) in enumerate(zip(dff['value'], dff['name'])):\n",
    "#         ax.text(value-dx, i,     name,           size=14, weight=600, ha='right', va='bottom')\n",
    "#         ax.text(value-dx, i-.25, group_lk[name], size=10, color='#444444', ha='right', va='baseline')\n",
    "#         ax.text(value+dx, i,     f'{value:,.0f}',  size=14, ha='left',  va='center')\n",
    "#     ax.text(1, 0.4, current_day, transform=ax.transAxes, color='#777777', size=46, ha='right', weight=800)\n",
    "#     ax.text(0, 1.06, 'Population (thousands)', transform=ax.transAxes, size=12, color='#777777')\n",
    "#     ax.xaxis.set_major_formatter(ticker.StrMethodFormatter('{x:,.0f}'))\n",
    "#     ax.xaxis.set_ticks_position('top')\n",
    "#     ax.tick_params(axis='x', colors='#777777', labelsize=12)\n",
    "#     ax.set_yticks([])\n",
    "#     ax.margins(0, 0.01)\n",
    "#     ax.grid(which='major', axis='x', linestyle='-')\n",
    "#     ax.set_axisbelow(True)\n",
    "    \n",
    "#     ax.text(0, 1.15, 'Coronavirus',\n",
    "#             transform=ax.transAxes, size=24, weight=600, ha='left', va='top')\n",
    "# #     ax.text(1, 0, 'by @pratapvardhan; credit @jburnmurdoch', transform=ax.transAxes, color='#777777', ha='right',\n",
    "# #             bbox=dict(facecolor='white', alpha=0.8, edgecolor='white'))\n",
    "#     plt.box(False)"
   ]
  },
  {
   "cell_type": "code",
   "execution_count": 42,
   "id": "sexual-wages",
   "metadata": {
    "execution": {
     "iopub.execute_input": "2021-12-07T12:13:03.888917Z",
     "iopub.status.busy": "2021-12-07T12:13:03.888074Z",
     "iopub.status.idle": "2021-12-07T12:13:03.892043Z",
     "shell.execute_reply": "2021-12-07T12:13:03.892761Z"
    },
    "papermill": {
     "duration": 0.048337,
     "end_time": "2021-12-07T12:13:03.892918",
     "exception": false,
     "start_time": "2021-12-07T12:13:03.844581",
     "status": "completed"
    },
    "tags": []
   },
   "outputs": [],
   "source": [
    "# #hide_input\n",
    "# fig, ax = plt.subplots(figsize=(15, 8))\n",
    "# animator = animation.FuncAnimation(fig, draw_barchart, frames=range(g.day.values.min(), g.day.values.max()))\n",
    "# HTML(animator.to_jshtml())\n",
    "# # or use animator.to_html5_video() or animator.save() "
   ]
  },
  {
   "cell_type": "code",
   "execution_count": null,
   "id": "australian-container",
   "metadata": {
    "papermill": {
     "duration": 0.038867,
     "end_time": "2021-12-07T12:13:03.972463",
     "exception": false,
     "start_time": "2021-12-07T12:13:03.933596",
     "status": "completed"
    },
    "tags": []
   },
   "outputs": [],
   "source": []
  },
  {
   "cell_type": "code",
   "execution_count": null,
   "id": "mediterranean-pontiac",
   "metadata": {
    "papermill": {
     "duration": 0.039923,
     "end_time": "2021-12-07T12:13:04.051319",
     "exception": false,
     "start_time": "2021-12-07T12:13:04.011396",
     "status": "completed"
    },
    "tags": []
   },
   "outputs": [],
   "source": []
  },
  {
   "cell_type": "code",
   "execution_count": null,
   "id": "aging-legislature",
   "metadata": {
    "papermill": {
     "duration": 0.039766,
     "end_time": "2021-12-07T12:13:04.131277",
     "exception": false,
     "start_time": "2021-12-07T12:13:04.091511",
     "status": "completed"
    },
    "tags": []
   },
   "outputs": [],
   "source": []
  }
 ],
 "metadata": {
  "kernelspec": {
   "display_name": "Python 3",
   "language": "python",
   "name": "python3"
  },
  "language_info": {
   "codemirror_mode": {
    "name": "ipython",
    "version": 3
   },
   "file_extension": ".py",
   "mimetype": "text/x-python",
   "name": "python",
   "nbconvert_exporter": "python",
   "pygments_lexer": "ipython3",
   "version": "3.6.15"
  },
  "papermill": {
   "duration": 7.164145,
   "end_time": "2021-12-07T12:13:04.482752",
   "environment_variables": {},
   "exception": null,
   "input_path": "2020-03-21-covid19exp.ipynb",
   "output_path": "2020-03-21-covid19exp.ipynb",
   "parameters": {},
   "start_time": "2021-12-07T12:12:57.318607",
   "version": "2.0.0"
  }
 },
 "nbformat": 4,
 "nbformat_minor": 5
}