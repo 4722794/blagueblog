{
 "cells": [
  {
   "cell_type": "markdown",
   "id": "muslim-click",
   "metadata": {
    "papermill": {
     "duration": 0.035726,
     "end_time": "2022-10-21T00:54:45.901298",
     "exception": false,
     "start_time": "2022-10-21T00:54:45.865572",
     "status": "completed"
    },
    "tags": []
   },
   "source": [
    "# COVID-19 Case Race\n",
    "> A race chart to see rising cases around the world\n",
    "\n",
    "- author: Hargun Oberoi\n",
    "- image: images/covid-overview.png\n",
    "- hide: false\n",
    "- badges: false"
   ]
  },
  {
   "cell_type": "code",
   "execution_count": 1,
   "id": "proof-material",
   "metadata": {
    "execution": {
     "iopub.execute_input": "2022-10-21T00:54:45.970741Z",
     "iopub.status.busy": "2022-10-21T00:54:45.970142Z",
     "iopub.status.idle": "2022-10-21T00:54:46.311033Z",
     "shell.execute_reply": "2022-10-21T00:54:46.309997Z"
    },
    "papermill": {
     "duration": 0.37974,
     "end_time": "2022-10-21T00:54:46.311197",
     "exception": false,
     "start_time": "2022-10-21T00:54:45.931457",
     "status": "completed"
    },
    "tags": []
   },
   "outputs": [],
   "source": [
    "#hide\n",
    "import numpy as np\n",
    "import pandas as pd\n",
    "from jinja2 import Template\n",
    "from IPython.display import HTML"
   ]
  },
  {
   "cell_type": "code",
   "execution_count": 2,
   "id": "developed-terminology",
   "metadata": {
    "execution": {
     "iopub.execute_input": "2022-10-21T00:54:46.376104Z",
     "iopub.status.busy": "2022-10-21T00:54:46.375386Z",
     "iopub.status.idle": "2022-10-21T00:54:46.377656Z",
     "shell.execute_reply": "2022-10-21T00:54:46.377020Z"
    },
    "papermill": {
     "duration": 0.036933,
     "end_time": "2022-10-21T00:54:46.377778",
     "exception": false,
     "start_time": "2022-10-21T00:54:46.340845",
     "status": "completed"
    },
    "tags": []
   },
   "outputs": [],
   "source": [
    "#hide\n",
    "\n",
    "# FETCH\n",
    "base_url = 'https://raw.githubusercontent.com/pratapvardhan/notebooks/master/covid19/'\n",
    "paths = {\n",
    "    'mapping': base_url + 'mapping_countries.csv',\n",
    "    'overview': base_url + 'overview.tpl'\n",
    "}"
   ]
  },
  {
   "cell_type": "code",
   "execution_count": 3,
   "id": "dynamic-saver",
   "metadata": {
    "execution": {
     "iopub.execute_input": "2022-10-21T00:54:46.447739Z",
     "iopub.status.busy": "2022-10-21T00:54:46.447111Z",
     "iopub.status.idle": "2022-10-21T00:54:46.450201Z",
     "shell.execute_reply": "2022-10-21T00:54:46.450742Z"
    },
    "papermill": {
     "duration": 0.043004,
     "end_time": "2022-10-21T00:54:46.450873",
     "exception": false,
     "start_time": "2022-10-21T00:54:46.407869",
     "status": "completed"
    },
    "tags": []
   },
   "outputs": [
    {
     "data": {
      "text/plain": [
       "'https://raw.githubusercontent.com/pratapvardhan/notebooks/master/covid19/mapping_countries.csv'"
      ]
     },
     "execution_count": 3,
     "metadata": {},
     "output_type": "execute_result"
    }
   ],
   "source": [
    "#hide\n",
    "paths['mapping']"
   ]
  },
  {
   "cell_type": "code",
   "execution_count": 4,
   "id": "urban-software",
   "metadata": {
    "execution": {
     "iopub.execute_input": "2022-10-21T00:54:46.516230Z",
     "iopub.status.busy": "2022-10-21T00:54:46.515605Z",
     "iopub.status.idle": "2022-10-21T00:54:46.518036Z",
     "shell.execute_reply": "2022-10-21T00:54:46.517553Z"
    },
    "papermill": {
     "duration": 0.037491,
     "end_time": "2022-10-21T00:54:46.518144",
     "exception": false,
     "start_time": "2022-10-21T00:54:46.480653",
     "status": "completed"
    },
    "tags": []
   },
   "outputs": [],
   "source": [
    "#hide\n",
    "def get_mappings(url):\n",
    "    df = pd.read_csv(url)\n",
    "    return {\n",
    "        'df': df,\n",
    "        'replace.country': dict(df.dropna(subset=['Name']).set_index('Country')['Name']),\n",
    "        'map.continent': dict(df.set_index('Name')['Continent'])\n",
    "    }"
   ]
  },
  {
   "cell_type": "code",
   "execution_count": 5,
   "id": "intimate-machinery",
   "metadata": {
    "execution": {
     "iopub.execute_input": "2022-10-21T00:54:46.583514Z",
     "iopub.status.busy": "2022-10-21T00:54:46.582875Z",
     "iopub.status.idle": "2022-10-21T00:54:46.651185Z",
     "shell.execute_reply": "2022-10-21T00:54:46.650182Z"
    },
    "papermill": {
     "duration": 0.103812,
     "end_time": "2022-10-21T00:54:46.651367",
     "exception": false,
     "start_time": "2022-10-21T00:54:46.547555",
     "status": "completed"
    },
    "tags": []
   },
   "outputs": [],
   "source": [
    "#hide\n",
    "mapping = get_mappings(paths['mapping'])"
   ]
  },
  {
   "cell_type": "code",
   "execution_count": 6,
   "id": "certified-tactics",
   "metadata": {
    "execution": {
     "iopub.execute_input": "2022-10-21T00:54:46.730998Z",
     "iopub.status.busy": "2022-10-21T00:54:46.730375Z",
     "iopub.status.idle": "2022-10-21T00:54:46.733150Z",
     "shell.execute_reply": "2022-10-21T00:54:46.732679Z"
    },
    "papermill": {
     "duration": 0.040545,
     "end_time": "2022-10-21T00:54:46.733257",
     "exception": false,
     "start_time": "2022-10-21T00:54:46.692712",
     "status": "completed"
    },
    "tags": []
   },
   "outputs": [],
   "source": [
    "#hide\n",
    "def get_template(path):\n",
    "    from urllib.parse import urlparse\n",
    "    if bool(urlparse(path).netloc):\n",
    "        from urllib.request import urlopen\n",
    "        return urlopen(path).read().decode('utf8')\n",
    "    return open(path).read()"
   ]
  },
  {
   "cell_type": "code",
   "execution_count": 7,
   "id": "realistic-blast",
   "metadata": {
    "execution": {
     "iopub.execute_input": "2022-10-21T00:54:46.798029Z",
     "iopub.status.busy": "2022-10-21T00:54:46.797404Z",
     "iopub.status.idle": "2022-10-21T00:54:46.800257Z",
     "shell.execute_reply": "2022-10-21T00:54:46.799763Z"
    },
    "papermill": {
     "duration": 0.037435,
     "end_time": "2022-10-21T00:54:46.800364",
     "exception": false,
     "start_time": "2022-10-21T00:54:46.762929",
     "status": "completed"
    },
    "tags": []
   },
   "outputs": [],
   "source": [
    "#hide\n",
    "def get_frame(name):\n",
    "    url = (\n",
    "        'https://raw.githubusercontent.com/CSSEGISandData/COVID-19/master/csse_covid_19_data/'\n",
    "        f'csse_covid_19_time_series/time_series_covid19_{name}_global.csv')\n",
    "    df = pd.read_csv(url)\n",
    "    # rename countries\n",
    "    df['Country/Region'] = df['Country/Region'].replace(mapping['replace.country'])\n",
    "    return df"
   ]
  },
  {
   "cell_type": "code",
   "execution_count": 8,
   "id": "affiliated-characterization",
   "metadata": {
    "execution": {
     "iopub.execute_input": "2022-10-21T00:54:46.867634Z",
     "iopub.status.busy": "2022-10-21T00:54:46.866929Z",
     "iopub.status.idle": "2022-10-21T00:54:46.869478Z",
     "shell.execute_reply": "2022-10-21T00:54:46.868961Z"
    },
    "papermill": {
     "duration": 0.039129,
     "end_time": "2022-10-21T00:54:46.869594",
     "exception": false,
     "start_time": "2022-10-21T00:54:46.830465",
     "status": "completed"
    },
    "tags": []
   },
   "outputs": [],
   "source": [
    "#hide\n",
    "def get_dates(df):\n",
    "    dt_cols = df.columns[~df.columns.isin(['Province/State', 'Country/Region', 'Lat', 'Long'])]\n",
    "    LAST_DATE_I = -1\n",
    "    # sometimes last column may be empty, then go backwards\n",
    "    for i in range(-1, -len(dt_cols), -1):\n",
    "        if not df[dt_cols[i]].fillna(0).eq(0).all():\n",
    "            LAST_DATE_I = i\n",
    "            break\n",
    "    return LAST_DATE_I, dt_cols"
   ]
  },
  {
   "cell_type": "code",
   "execution_count": 9,
   "id": "recent-optimization",
   "metadata": {
    "execution": {
     "iopub.execute_input": "2022-10-21T00:54:46.934344Z",
     "iopub.status.busy": "2022-10-21T00:54:46.933753Z",
     "iopub.status.idle": "2022-10-21T00:54:47.633364Z",
     "shell.execute_reply": "2022-10-21T00:54:47.632839Z"
    },
    "papermill": {
     "duration": 0.734301,
     "end_time": "2022-10-21T00:54:47.633495",
     "exception": false,
     "start_time": "2022-10-21T00:54:46.899194",
     "status": "completed"
    },
    "tags": []
   },
   "outputs": [],
   "source": [
    "#hide\n",
    "COL_REGION = 'Country/Region'\n",
    "# Confirmed, Recovered, Deaths\n",
    "df = get_frame('confirmed')\n",
    "# dft_: timeseries, dfc_: today country agg\n",
    "dft_cases = df\n",
    "dft_deaths = get_frame('deaths')\n",
    "dft_recovered = get_frame('recovered')\n",
    "LAST_DATE_I, dt_cols = get_dates(df)"
   ]
  },
  {
   "cell_type": "code",
   "execution_count": 10,
   "id": "absolute-copper",
   "metadata": {
    "execution": {
     "iopub.execute_input": "2022-10-21T00:54:47.698733Z",
     "iopub.status.busy": "2022-10-21T00:54:47.698143Z",
     "iopub.status.idle": "2022-10-21T00:54:47.700638Z",
     "shell.execute_reply": "2022-10-21T00:54:47.701184Z"
    },
    "papermill": {
     "duration": 0.038113,
     "end_time": "2022-10-21T00:54:47.701310",
     "exception": false,
     "start_time": "2022-10-21T00:54:47.663197",
     "status": "completed"
    },
    "tags": []
   },
   "outputs": [],
   "source": [
    "#hide\n",
    "LAST_DATE_I, dt_cols = get_dates(df)\n",
    "dt_today =dt_cols[LAST_DATE_I]\n",
    "# dt_5day = dt_cols[LAST_DATE_I - 5]\n",
    "dt_yday = dt_cols[LAST_DATE_I - 1]"
   ]
  },
  {
   "cell_type": "code",
   "execution_count": 11,
   "id": "restricted-sheriff",
   "metadata": {
    "execution": {
     "iopub.execute_input": "2022-10-21T00:54:47.766817Z",
     "iopub.status.busy": "2022-10-21T00:54:47.766219Z",
     "iopub.status.idle": "2022-10-21T00:54:47.774248Z",
     "shell.execute_reply": "2022-10-21T00:54:47.773769Z"
    },
    "papermill": {
     "duration": 0.043495,
     "end_time": "2022-10-21T00:54:47.774359",
     "exception": false,
     "start_time": "2022-10-21T00:54:47.730864",
     "status": "completed"
    },
    "tags": []
   },
   "outputs": [],
   "source": [
    "#hide\n",
    "dfc_cases = dft_cases.groupby(COL_REGION)[dt_today].sum()\n",
    "dfc_deaths = dft_deaths.groupby(COL_REGION)[dt_today].sum()\n",
    "# dfp_cases = dft_cases.groupby(COL_REGION)[dt_5day].sum()\n",
    "# dfp_deaths = dft_deaths.groupby(COL_REGION)[dt_5day].sum()\n",
    "dfp_cases = dft_cases.groupby(COL_REGION)[dt_yday].sum()\n",
    "dfp_deaths = dft_deaths.groupby(COL_REGION)[dt_yday].sum()"
   ]
  },
  {
   "cell_type": "code",
   "execution_count": 12,
   "id": "deluxe-hepatitis",
   "metadata": {
    "execution": {
     "iopub.execute_input": "2022-10-21T00:54:47.840006Z",
     "iopub.status.busy": "2022-10-21T00:54:47.839419Z",
     "iopub.status.idle": "2022-10-21T00:54:47.843863Z",
     "shell.execute_reply": "2022-10-21T00:54:47.844413Z"
    },
    "papermill": {
     "duration": 0.040626,
     "end_time": "2022-10-21T00:54:47.844543",
     "exception": false,
     "start_time": "2022-10-21T00:54:47.803917",
     "status": "completed"
    },
    "tags": []
   },
   "outputs": [],
   "source": [
    "#hide\n",
    "df_table = (pd.DataFrame(dict(Cases = dfc_cases, Deaths = dfc_deaths, PCases = dfp_cases, PDeaths = dfp_deaths))\n",
    "            .sort_values(by = ['Cases','Deaths'], ascending = [False, False])\n",
    "            .reset_index())"
   ]
  },
  {
   "cell_type": "code",
   "execution_count": 13,
   "id": "educational-chancellor",
   "metadata": {
    "execution": {
     "iopub.execute_input": "2022-10-21T00:54:47.921979Z",
     "iopub.status.busy": "2022-10-21T00:54:47.921392Z",
     "iopub.status.idle": "2022-10-21T00:54:47.929159Z",
     "shell.execute_reply": "2022-10-21T00:54:47.929700Z"
    },
    "papermill": {
     "duration": 0.055773,
     "end_time": "2022-10-21T00:54:47.929827",
     "exception": false,
     "start_time": "2022-10-21T00:54:47.874054",
     "status": "completed"
    },
    "tags": []
   },
   "outputs": [
    {
     "data": {
      "text/html": [
       "<div>\n",
       "<style scoped>\n",
       "    .dataframe tbody tr th:only-of-type {\n",
       "        vertical-align: middle;\n",
       "    }\n",
       "\n",
       "    .dataframe tbody tr th {\n",
       "        vertical-align: top;\n",
       "    }\n",
       "\n",
       "    .dataframe thead th {\n",
       "        text-align: right;\n",
       "    }\n",
       "</style>\n",
       "<table border=\"1\" class=\"dataframe\">\n",
       "  <thead>\n",
       "    <tr style=\"text-align: right;\">\n",
       "      <th></th>\n",
       "      <th>Country/Region</th>\n",
       "      <th>Cases</th>\n",
       "      <th>Deaths</th>\n",
       "      <th>PCases</th>\n",
       "      <th>PDeaths</th>\n",
       "      <th>Cases (+)</th>\n",
       "      <th>Deaths (+)</th>\n",
       "      <th>Fatality Rate</th>\n",
       "      <th>Continent</th>\n",
       "    </tr>\n",
       "  </thead>\n",
       "  <tbody>\n",
       "    <tr>\n",
       "      <th>0</th>\n",
       "      <td>US</td>\n",
       "      <td>97083662</td>\n",
       "      <td>1066584</td>\n",
       "      <td>97023525</td>\n",
       "      <td>1065838</td>\n",
       "      <td>60137</td>\n",
       "      <td>746</td>\n",
       "      <td>1.10</td>\n",
       "      <td>North America</td>\n",
       "    </tr>\n",
       "    <tr>\n",
       "      <th>1</th>\n",
       "      <td>India</td>\n",
       "      <td>44636517</td>\n",
       "      <td>528943</td>\n",
       "      <td>44634376</td>\n",
       "      <td>528923</td>\n",
       "      <td>2141</td>\n",
       "      <td>20</td>\n",
       "      <td>1.19</td>\n",
       "      <td>Asia</td>\n",
       "    </tr>\n",
       "    <tr>\n",
       "      <th>2</th>\n",
       "      <td>France</td>\n",
       "      <td>36636069</td>\n",
       "      <td>157227</td>\n",
       "      <td>36573007</td>\n",
       "      <td>157121</td>\n",
       "      <td>63062</td>\n",
       "      <td>106</td>\n",
       "      <td>0.43</td>\n",
       "      <td>Europe</td>\n",
       "    </tr>\n",
       "    <tr>\n",
       "      <th>3</th>\n",
       "      <td>Germany</td>\n",
       "      <td>35005769</td>\n",
       "      <td>152100</td>\n",
       "      <td>34888963</td>\n",
       "      <td>151877</td>\n",
       "      <td>116806</td>\n",
       "      <td>223</td>\n",
       "      <td>0.43</td>\n",
       "      <td>Europe</td>\n",
       "    </tr>\n",
       "    <tr>\n",
       "      <th>4</th>\n",
       "      <td>Brazil</td>\n",
       "      <td>34771320</td>\n",
       "      <td>687423</td>\n",
       "      <td>34746462</td>\n",
       "      <td>687144</td>\n",
       "      <td>24858</td>\n",
       "      <td>279</td>\n",
       "      <td>1.98</td>\n",
       "      <td>South America</td>\n",
       "    </tr>\n",
       "  </tbody>\n",
       "</table>\n",
       "</div>"
      ],
      "text/plain": [
       "  Country/Region     Cases   Deaths    PCases  PDeaths  Cases (+)  Deaths (+)  \\\n",
       "0             US  97083662  1066584  97023525  1065838      60137         746   \n",
       "1          India  44636517   528943  44634376   528923       2141          20   \n",
       "2         France  36636069   157227  36573007   157121      63062         106   \n",
       "3        Germany  35005769   152100  34888963   151877     116806         223   \n",
       "4         Brazil  34771320   687423  34746462   687144      24858         279   \n",
       "\n",
       "   Fatality Rate      Continent  \n",
       "0           1.10  North America  \n",
       "1           1.19           Asia  \n",
       "2           0.43         Europe  \n",
       "3           0.43         Europe  \n",
       "4           1.98  South America  "
      ]
     },
     "execution_count": 13,
     "metadata": {},
     "output_type": "execute_result"
    }
   ],
   "source": [
    "#hide\n",
    "for c in 'Cases, Deaths'.split(', '):\n",
    "    df_table[f'{c} (+)'] = (df_table[c] - df_table[f'P{c}']).clip(0)\n",
    "    #Clip ça veut dire, les chiffres negatif sont interdit\n",
    "df_table['Fatality Rate'] = (100* df_table['Deaths']/ df_table['Cases']).round(2)\n",
    "df_table['Continent'] = df_table['Country/Region'].map(mapping['map.continent'])\n",
    "df_table.head(5)"
   ]
  },
  {
   "cell_type": "code",
   "execution_count": 14,
   "id": "aboriginal-bulgaria",
   "metadata": {
    "execution": {
     "iopub.execute_input": "2022-10-21T00:54:47.995410Z",
     "iopub.status.busy": "2022-10-21T00:54:47.994811Z",
     "iopub.status.idle": "2022-10-21T00:54:47.997919Z",
     "shell.execute_reply": "2022-10-21T00:54:47.998470Z"
    },
    "papermill": {
     "duration": 0.038839,
     "end_time": "2022-10-21T00:54:47.998596",
     "exception": false,
     "start_time": "2022-10-21T00:54:47.959757",
     "status": "completed"
    },
    "tags": []
   },
   "outputs": [],
   "source": [
    "#hide\n",
    "#delete problematic countries from table\n",
    "df_table = df_table[~df_table['Country/Region'].isin(['Cape Verde', 'Cruise Ship', 'Kosovo'])]"
   ]
  },
  {
   "cell_type": "code",
   "execution_count": 15,
   "id": "fantastic-effect",
   "metadata": {
    "execution": {
     "iopub.execute_input": "2022-10-21T00:54:48.066089Z",
     "iopub.status.busy": "2022-10-21T00:54:48.065512Z",
     "iopub.status.idle": "2022-10-21T00:54:48.083773Z",
     "shell.execute_reply": "2022-10-21T00:54:48.083290Z"
    },
    "papermill": {
     "duration": 0.05552,
     "end_time": "2022-10-21T00:54:48.083889",
     "exception": false,
     "start_time": "2022-10-21T00:54:48.028369",
     "status": "completed"
    },
    "tags": []
   },
   "outputs": [
    {
     "data": {
      "text/html": [
       "<div>\n",
       "<style scoped>\n",
       "    .dataframe tbody tr th:only-of-type {\n",
       "        vertical-align: middle;\n",
       "    }\n",
       "\n",
       "    .dataframe tbody tr th {\n",
       "        vertical-align: top;\n",
       "    }\n",
       "\n",
       "    .dataframe thead th {\n",
       "        text-align: right;\n",
       "    }\n",
       "</style>\n",
       "<table border=\"1\" class=\"dataframe\">\n",
       "  <thead>\n",
       "    <tr style=\"text-align: right;\">\n",
       "      <th></th>\n",
       "      <th>Country/Region</th>\n",
       "      <th>Cases</th>\n",
       "      <th>Deaths</th>\n",
       "      <th>PCases</th>\n",
       "      <th>PDeaths</th>\n",
       "      <th>Cases (+)</th>\n",
       "      <th>Deaths (+)</th>\n",
       "      <th>Fatality Rate</th>\n",
       "      <th>Continent</th>\n",
       "    </tr>\n",
       "  </thead>\n",
       "  <tbody>\n",
       "    <tr>\n",
       "      <th>0</th>\n",
       "      <td>US</td>\n",
       "      <td>97083662</td>\n",
       "      <td>1066584</td>\n",
       "      <td>97023525</td>\n",
       "      <td>1065838</td>\n",
       "      <td>60137</td>\n",
       "      <td>746</td>\n",
       "      <td>1.1</td>\n",
       "      <td>North America</td>\n",
       "    </tr>\n",
       "    <tr>\n",
       "      <th>1</th>\n",
       "      <td>India</td>\n",
       "      <td>44636517</td>\n",
       "      <td>528943</td>\n",
       "      <td>44634376</td>\n",
       "      <td>528923</td>\n",
       "      <td>2141</td>\n",
       "      <td>20</td>\n",
       "      <td>1.2</td>\n",
       "      <td>Asia</td>\n",
       "    </tr>\n",
       "    <tr>\n",
       "      <th>2</th>\n",
       "      <td>France</td>\n",
       "      <td>36636069</td>\n",
       "      <td>157227</td>\n",
       "      <td>36573007</td>\n",
       "      <td>157121</td>\n",
       "      <td>63062</td>\n",
       "      <td>106</td>\n",
       "      <td>0.4</td>\n",
       "      <td>Europe</td>\n",
       "    </tr>\n",
       "    <tr>\n",
       "      <th>3</th>\n",
       "      <td>Germany</td>\n",
       "      <td>35005769</td>\n",
       "      <td>152100</td>\n",
       "      <td>34888963</td>\n",
       "      <td>151877</td>\n",
       "      <td>116806</td>\n",
       "      <td>223</td>\n",
       "      <td>0.4</td>\n",
       "      <td>Europe</td>\n",
       "    </tr>\n",
       "    <tr>\n",
       "      <th>4</th>\n",
       "      <td>Brazil</td>\n",
       "      <td>34771320</td>\n",
       "      <td>687423</td>\n",
       "      <td>34746462</td>\n",
       "      <td>687144</td>\n",
       "      <td>24858</td>\n",
       "      <td>279</td>\n",
       "      <td>2.0</td>\n",
       "      <td>South America</td>\n",
       "    </tr>\n",
       "  </tbody>\n",
       "</table>\n",
       "</div>"
      ],
      "text/plain": [
       "  Country/Region     Cases   Deaths    PCases  PDeaths  Cases (+)  Deaths (+)  \\\n",
       "0             US  97083662  1066584  97023525  1065838      60137         746   \n",
       "1          India  44636517   528943  44634376   528923       2141          20   \n",
       "2         France  36636069   157227  36573007   157121      63062         106   \n",
       "3        Germany  35005769   152100  34888963   151877     116806         223   \n",
       "4         Brazil  34771320   687423  34746462   687144      24858         279   \n",
       "\n",
       "   Fatality Rate      Continent  \n",
       "0            1.1  North America  \n",
       "1            1.2           Asia  \n",
       "2            0.4         Europe  \n",
       "3            0.4         Europe  \n",
       "4            2.0  South America  "
      ]
     },
     "execution_count": 15,
     "metadata": {},
     "output_type": "execute_result"
    }
   ],
   "source": [
    "#hide\n",
    "df_table = (pd.DataFrame(dict(Cases=dfc_cases, Deaths=dfc_deaths, PCases=dfp_cases, PDeaths=dfp_deaths))\n",
    "             .sort_values(by=['Cases', 'Deaths'], ascending=[False, False])\n",
    "             .reset_index())\n",
    "df_table.rename(columns={'index': 'Country/Region'}, inplace=True)\n",
    "for c in 'Cases, Deaths'.split(', '):\n",
    "    df_table[f'{c} (+)'] = (df_table[c] - df_table[f'P{c}']).clip(0)  # DATA BUG\n",
    "df_table['Fatality Rate'] = (100 * df_table['Deaths'] / df_table['Cases']).round(1)\n",
    "df_table['Continent'] = df_table['Country/Region'].map(mapping['map.continent'])\n",
    "df_table.head(5)"
   ]
  },
  {
   "cell_type": "code",
   "execution_count": 16,
   "id": "fewer-occasion",
   "metadata": {
    "execution": {
     "iopub.execute_input": "2022-10-21T00:54:48.152032Z",
     "iopub.status.busy": "2022-10-21T00:54:48.151346Z",
     "iopub.status.idle": "2022-10-21T00:54:48.153703Z",
     "shell.execute_reply": "2022-10-21T00:54:48.153139Z"
    },
    "papermill": {
     "duration": 0.038778,
     "end_time": "2022-10-21T00:54:48.153811",
     "exception": false,
     "start_time": "2022-10-21T00:54:48.115033",
     "status": "completed"
    },
    "tags": []
   },
   "outputs": [],
   "source": [
    "#hide\n",
    "#delete problematic countries from table\n",
    "df_table = df_table[~df_table['Country/Region'].isin(['Cape Verde', 'Cruise Ship', 'Kosovo'])]"
   ]
  },
  {
   "cell_type": "code",
   "execution_count": 17,
   "id": "related-center",
   "metadata": {
    "execution": {
     "iopub.execute_input": "2022-10-21T00:54:48.228984Z",
     "iopub.status.busy": "2022-10-21T00:54:48.228390Z",
     "iopub.status.idle": "2022-10-21T00:54:48.236348Z",
     "shell.execute_reply": "2022-10-21T00:54:48.236796Z"
    },
    "papermill": {
     "duration": 0.051981,
     "end_time": "2022-10-21T00:54:48.236926",
     "exception": false,
     "start_time": "2022-10-21T00:54:48.184945",
     "status": "completed"
    },
    "tags": []
   },
   "outputs": [],
   "source": [
    "#hide\n",
    "metrics = [df_table.columns[index] for index in [1,2,5,6]]\n",
    "# s_china = df_table[df_table['Country/Region'].eq('China')][metrics].sum().add_prefix('China ')\n",
    "s_us = df_table[df_table['Country/Region'].eq('US')][metrics].sum().add_prefix('US ')\n",
    "s_eu = df_table[df_table['Continent'].eq('Europe')][metrics].sum().add_prefix('EU ')\n",
    "s_ind = df_table[df_table['Country/Region'].eq('India')][metrics].sum().add_prefix('India ')\n",
    "summary = {'updated': pd.to_datetime(dt_today), 'since': pd.to_datetime(dt_yday)}\n",
    "summary = {'updated': pd.to_datetime(dt_today), 'since': pd.to_datetime(dt_yday)}\n",
    "summary = {**summary, **df_table[metrics].sum(), **s_ind, **s_us, **s_eu}"
   ]
  },
  {
   "cell_type": "code",
   "execution_count": 18,
   "id": "engaging-syndrome",
   "metadata": {
    "execution": {
     "iopub.execute_input": "2022-10-21T00:54:48.303764Z",
     "iopub.status.busy": "2022-10-21T00:54:48.303137Z",
     "iopub.status.idle": "2022-10-21T00:54:48.326148Z",
     "shell.execute_reply": "2022-10-21T00:54:48.325598Z"
    },
    "papermill": {
     "duration": 0.058855,
     "end_time": "2022-10-21T00:54:48.326277",
     "exception": false,
     "start_time": "2022-10-21T00:54:48.267422",
     "status": "completed"
    },
    "tags": []
   },
   "outputs": [],
   "source": [
    "#hide\n",
    "dft_ct_new_cases = dft_cases.groupby(COL_REGION)[dt_cols].sum().diff(axis=1).fillna(0).astype(int)"
   ]
  },
  {
   "cell_type": "code",
   "execution_count": 19,
   "id": "neutral-assignment",
   "metadata": {
    "execution": {
     "iopub.execute_input": "2022-10-21T00:54:48.392168Z",
     "iopub.status.busy": "2022-10-21T00:54:48.391566Z",
     "iopub.status.idle": "2022-10-21T00:54:48.397244Z",
     "shell.execute_reply": "2022-10-21T00:54:48.397715Z"
    },
    "papermill": {
     "duration": 0.040905,
     "end_time": "2022-10-21T00:54:48.397847",
     "exception": false,
     "start_time": "2022-10-21T00:54:48.356942",
     "status": "completed"
    },
    "tags": []
   },
   "outputs": [],
   "source": [
    "#hide\n",
    "everydaycases = dft_ct_new_cases.cumsum(axis=1)"
   ]
  },
  {
   "cell_type": "code",
   "execution_count": 20,
   "id": "parliamentary-calgary",
   "metadata": {
    "execution": {
     "iopub.execute_input": "2022-10-21T00:54:48.463590Z",
     "iopub.status.busy": "2022-10-21T00:54:48.462958Z",
     "iopub.status.idle": "2022-10-21T00:54:49.032107Z",
     "shell.execute_reply": "2022-10-21T00:54:49.032652Z"
    },
    "papermill": {
     "duration": 0.604493,
     "end_time": "2022-10-21T00:54:49.032819",
     "exception": false,
     "start_time": "2022-10-21T00:54:48.428326",
     "status": "completed"
    },
    "tags": []
   },
   "outputs": [],
   "source": [
    "#hide\n",
    "import pandas as pd\n",
    "import matplotlib.pyplot as plt\n",
    "import matplotlib.ticker as ticker\n",
    "import matplotlib.animation as animation\n",
    "from IPython.display import HTML"
   ]
  },
  {
   "cell_type": "code",
   "execution_count": 21,
   "id": "lasting-extraction",
   "metadata": {
    "execution": {
     "iopub.execute_input": "2022-10-21T00:54:49.102121Z",
     "iopub.status.busy": "2022-10-21T00:54:49.101499Z",
     "iopub.status.idle": "2022-10-21T00:54:49.109796Z",
     "shell.execute_reply": "2022-10-21T00:54:49.109306Z"
    },
    "papermill": {
     "duration": 0.046284,
     "end_time": "2022-10-21T00:54:49.109914",
     "exception": false,
     "start_time": "2022-10-21T00:54:49.063630",
     "status": "completed"
    },
    "tags": []
   },
   "outputs": [],
   "source": [
    "#hide\n",
    "t = everydaycases.stack()"
   ]
  },
  {
   "cell_type": "code",
   "execution_count": 22,
   "id": "premier-sleeve",
   "metadata": {
    "execution": {
     "iopub.execute_input": "2022-10-21T00:54:49.177000Z",
     "iopub.status.busy": "2022-10-21T00:54:49.176395Z",
     "iopub.status.idle": "2022-10-21T00:54:49.188876Z",
     "shell.execute_reply": "2022-10-21T00:54:49.189302Z"
    },
    "papermill": {
     "duration": 0.048174,
     "end_time": "2022-10-21T00:54:49.189443",
     "exception": false,
     "start_time": "2022-10-21T00:54:49.141269",
     "status": "completed"
    },
    "tags": []
   },
   "outputs": [],
   "source": [
    "#hide\n",
    "g = t.reset_index(['Country/Region'])"
   ]
  },
  {
   "cell_type": "code",
   "execution_count": 23,
   "id": "distributed-pittsburgh",
   "metadata": {
    "execution": {
     "iopub.execute_input": "2022-10-21T00:54:49.256929Z",
     "iopub.status.busy": "2022-10-21T00:54:49.256345Z",
     "iopub.status.idle": "2022-10-21T00:54:49.258882Z",
     "shell.execute_reply": "2022-10-21T00:54:49.258409Z"
    },
    "papermill": {
     "duration": 0.039074,
     "end_time": "2022-10-21T00:54:49.258992",
     "exception": false,
     "start_time": "2022-10-21T00:54:49.219918",
     "status": "completed"
    },
    "tags": []
   },
   "outputs": [],
   "source": [
    "#hide\n",
    "g.index.name = 'date'"
   ]
  },
  {
   "cell_type": "code",
   "execution_count": 24,
   "id": "naked-donor",
   "metadata": {
    "execution": {
     "iopub.execute_input": "2022-10-21T00:54:49.324506Z",
     "iopub.status.busy": "2022-10-21T00:54:49.323805Z",
     "iopub.status.idle": "2022-10-21T00:54:49.326426Z",
     "shell.execute_reply": "2022-10-21T00:54:49.325779Z"
    },
    "papermill": {
     "duration": 0.037044,
     "end_time": "2022-10-21T00:54:49.326550",
     "exception": false,
     "start_time": "2022-10-21T00:54:49.289506",
     "status": "completed"
    },
    "tags": []
   },
   "outputs": [],
   "source": [
    "# #hide\n",
    "# g = g.reset_index(['date'])"
   ]
  },
  {
   "cell_type": "code",
   "execution_count": 25,
   "id": "incomplete-mustang",
   "metadata": {
    "execution": {
     "iopub.execute_input": "2022-10-21T00:54:49.392763Z",
     "iopub.status.busy": "2022-10-21T00:54:49.392147Z",
     "iopub.status.idle": "2022-10-21T00:54:49.394711Z",
     "shell.execute_reply": "2022-10-21T00:54:49.394235Z"
    },
    "papermill": {
     "duration": 0.037198,
     "end_time": "2022-10-21T00:54:49.394822",
     "exception": false,
     "start_time": "2022-10-21T00:54:49.357624",
     "status": "completed"
    },
    "tags": []
   },
   "outputs": [],
   "source": [
    "#hide\n",
    "# g.head()"
   ]
  },
  {
   "cell_type": "code",
   "execution_count": 26,
   "id": "specific-kruger",
   "metadata": {
    "execution": {
     "iopub.execute_input": "2022-10-21T00:54:49.460081Z",
     "iopub.status.busy": "2022-10-21T00:54:49.459384Z",
     "iopub.status.idle": "2022-10-21T00:54:49.461994Z",
     "shell.execute_reply": "2022-10-21T00:54:49.461342Z"
    },
    "papermill": {
     "duration": 0.036761,
     "end_time": "2022-10-21T00:54:49.462118",
     "exception": false,
     "start_time": "2022-10-21T00:54:49.425357",
     "status": "completed"
    },
    "tags": []
   },
   "outputs": [],
   "source": [
    "#hide\n",
    "# g.columns = ['date','country','cases']"
   ]
  },
  {
   "cell_type": "code",
   "execution_count": 27,
   "id": "tender-conversion",
   "metadata": {
    "execution": {
     "iopub.execute_input": "2022-10-21T00:54:49.527647Z",
     "iopub.status.busy": "2022-10-21T00:54:49.526918Z",
     "iopub.status.idle": "2022-10-21T00:54:49.529566Z",
     "shell.execute_reply": "2022-10-21T00:54:49.529022Z"
    },
    "papermill": {
     "duration": 0.036976,
     "end_time": "2022-10-21T00:54:49.529696",
     "exception": false,
     "start_time": "2022-10-21T00:54:49.492720",
     "status": "completed"
    },
    "tags": []
   },
   "outputs": [],
   "source": [
    "#hide\n",
    "# g['continent'] = g.country"
   ]
  },
  {
   "cell_type": "code",
   "execution_count": 28,
   "id": "substantial-wilderness",
   "metadata": {
    "execution": {
     "iopub.execute_input": "2022-10-21T00:54:49.595861Z",
     "iopub.status.busy": "2022-10-21T00:54:49.595170Z",
     "iopub.status.idle": "2022-10-21T00:54:49.598452Z",
     "shell.execute_reply": "2022-10-21T00:54:49.597979Z"
    },
    "papermill": {
     "duration": 0.03766,
     "end_time": "2022-10-21T00:54:49.598561",
     "exception": false,
     "start_time": "2022-10-21T00:54:49.560901",
     "status": "completed"
    },
    "tags": []
   },
   "outputs": [],
   "source": [
    "#hide\n",
    "# cols = list(g.columns.values)"
   ]
  },
  {
   "cell_type": "code",
   "execution_count": 29,
   "id": "solved-farming",
   "metadata": {
    "execution": {
     "iopub.execute_input": "2022-10-21T00:54:49.663265Z",
     "iopub.status.busy": "2022-10-21T00:54:49.662659Z",
     "iopub.status.idle": "2022-10-21T00:54:49.665060Z",
     "shell.execute_reply": "2022-10-21T00:54:49.665528Z"
    },
    "papermill": {
     "duration": 0.036815,
     "end_time": "2022-10-21T00:54:49.665651",
     "exception": false,
     "start_time": "2022-10-21T00:54:49.628836",
     "status": "completed"
    },
    "tags": []
   },
   "outputs": [],
   "source": [
    "#hide\n",
    "# cols.insert(0, cols.pop())"
   ]
  },
  {
   "cell_type": "code",
   "execution_count": 30,
   "id": "executed-adoption",
   "metadata": {
    "execution": {
     "iopub.execute_input": "2022-10-21T00:54:49.730983Z",
     "iopub.status.busy": "2022-10-21T00:54:49.730369Z",
     "iopub.status.idle": "2022-10-21T00:54:49.732924Z",
     "shell.execute_reply": "2022-10-21T00:54:49.732360Z"
    },
    "papermill": {
     "duration": 0.036846,
     "end_time": "2022-10-21T00:54:49.733030",
     "exception": false,
     "start_time": "2022-10-21T00:54:49.696184",
     "status": "completed"
    },
    "tags": []
   },
   "outputs": [],
   "source": [
    "#hide\n",
    "# g = g[cols]"
   ]
  },
  {
   "cell_type": "code",
   "execution_count": 31,
   "id": "subject-dublin",
   "metadata": {
    "execution": {
     "iopub.execute_input": "2022-10-21T00:54:49.798418Z",
     "iopub.status.busy": "2022-10-21T00:54:49.797728Z",
     "iopub.status.idle": "2022-10-21T00:54:49.801612Z",
     "shell.execute_reply": "2022-10-21T00:54:49.802046Z"
    },
    "papermill": {
     "duration": 0.038705,
     "end_time": "2022-10-21T00:54:49.802179",
     "exception": false,
     "start_time": "2022-10-21T00:54:49.763474",
     "status": "completed"
    },
    "tags": []
   },
   "outputs": [],
   "source": [
    "#hide\n",
    "# g['continent'] = g['continent'].map(mapping['map.continent'])"
   ]
  },
  {
   "cell_type": "code",
   "execution_count": 32,
   "id": "freelance-scout",
   "metadata": {
    "execution": {
     "iopub.execute_input": "2022-10-21T00:54:49.867639Z",
     "iopub.status.busy": "2022-10-21T00:54:49.866913Z",
     "iopub.status.idle": "2022-10-21T00:54:49.869588Z",
     "shell.execute_reply": "2022-10-21T00:54:49.869050Z"
    },
    "papermill": {
     "duration": 0.03679,
     "end_time": "2022-10-21T00:54:49.869706",
     "exception": false,
     "start_time": "2022-10-21T00:54:49.832916",
     "status": "completed"
    },
    "tags": []
   },
   "outputs": [],
   "source": [
    "#hide\n",
    "# g.head()"
   ]
  },
  {
   "cell_type": "code",
   "execution_count": 33,
   "id": "limited-engine",
   "metadata": {
    "execution": {
     "iopub.execute_input": "2022-10-21T00:54:49.936101Z",
     "iopub.status.busy": "2022-10-21T00:54:49.935488Z",
     "iopub.status.idle": "2022-10-21T00:54:49.937997Z",
     "shell.execute_reply": "2022-10-21T00:54:49.937528Z"
    },
    "papermill": {
     "duration": 0.037935,
     "end_time": "2022-10-21T00:54:49.938102",
     "exception": false,
     "start_time": "2022-10-21T00:54:49.900167",
     "status": "completed"
    },
    "tags": []
   },
   "outputs": [],
   "source": [
    "# hide\n",
    "# g['date'] = g['date'].astype('datetime64[ns]')"
   ]
  },
  {
   "cell_type": "code",
   "execution_count": 34,
   "id": "sophisticated-supervisor",
   "metadata": {
    "execution": {
     "iopub.execute_input": "2022-10-21T00:54:50.003345Z",
     "iopub.status.busy": "2022-10-21T00:54:50.002621Z",
     "iopub.status.idle": "2022-10-21T00:54:50.005229Z",
     "shell.execute_reply": "2022-10-21T00:54:50.004608Z"
    },
    "papermill": {
     "duration": 0.036733,
     "end_time": "2022-10-21T00:54:50.005341",
     "exception": false,
     "start_time": "2022-10-21T00:54:49.968608",
     "status": "completed"
    },
    "tags": []
   },
   "outputs": [],
   "source": [
    "#hide\n",
    "# g['date'] = g.date.dt.dayofyear"
   ]
  },
  {
   "cell_type": "code",
   "execution_count": 35,
   "id": "inside-dubai",
   "metadata": {
    "execution": {
     "iopub.execute_input": "2022-10-21T00:54:50.070655Z",
     "iopub.status.busy": "2022-10-21T00:54:50.069974Z",
     "iopub.status.idle": "2022-10-21T00:54:50.072556Z",
     "shell.execute_reply": "2022-10-21T00:54:50.071926Z"
    },
    "papermill": {
     "duration": 0.036894,
     "end_time": "2022-10-21T00:54:50.072675",
     "exception": false,
     "start_time": "2022-10-21T00:54:50.035781",
     "status": "completed"
    },
    "tags": []
   },
   "outputs": [],
   "source": [
    "#hide\n",
    "# g = g.rename(columns= {'continent':'group','country':'name','cases':'value'})"
   ]
  },
  {
   "cell_type": "code",
   "execution_count": 36,
   "id": "fleet-motorcycle",
   "metadata": {
    "execution": {
     "iopub.execute_input": "2022-10-21T00:54:50.138543Z",
     "iopub.status.busy": "2022-10-21T00:54:50.137944Z",
     "iopub.status.idle": "2022-10-21T00:54:50.141594Z",
     "shell.execute_reply": "2022-10-21T00:54:50.142052Z"
    },
    "papermill": {
     "duration": 0.038614,
     "end_time": "2022-10-21T00:54:50.142185",
     "exception": false,
     "start_time": "2022-10-21T00:54:50.103571",
     "status": "completed"
    },
    "tags": []
   },
   "outputs": [],
   "source": [
    "#hide\n",
    "# cols = ['name','group','day','value']"
   ]
  },
  {
   "cell_type": "code",
   "execution_count": 37,
   "id": "continued-sleeping",
   "metadata": {
    "execution": {
     "iopub.execute_input": "2022-10-21T00:54:50.207309Z",
     "iopub.status.busy": "2022-10-21T00:54:50.206609Z",
     "iopub.status.idle": "2022-10-21T00:54:50.208742Z",
     "shell.execute_reply": "2022-10-21T00:54:50.209220Z"
    },
    "papermill": {
     "duration": 0.03687,
     "end_time": "2022-10-21T00:54:50.209360",
     "exception": false,
     "start_time": "2022-10-21T00:54:50.172490",
     "status": "completed"
    },
    "tags": []
   },
   "outputs": [],
   "source": [
    "#hide\n",
    "# g.rename(columns= {'date':'day'},inplace = True)"
   ]
  },
  {
   "cell_type": "code",
   "execution_count": 38,
   "id": "major-fight",
   "metadata": {
    "execution": {
     "iopub.execute_input": "2022-10-21T00:54:50.274863Z",
     "iopub.status.busy": "2022-10-21T00:54:50.274153Z",
     "iopub.status.idle": "2022-10-21T00:54:50.276676Z",
     "shell.execute_reply": "2022-10-21T00:54:50.276024Z"
    },
    "papermill": {
     "duration": 0.036952,
     "end_time": "2022-10-21T00:54:50.276799",
     "exception": false,
     "start_time": "2022-10-21T00:54:50.239847",
     "status": "completed"
    },
    "tags": []
   },
   "outputs": [],
   "source": [
    "#hide\n",
    "# g = g[cols]"
   ]
  },
  {
   "cell_type": "code",
   "execution_count": 39,
   "id": "structured-mobile",
   "metadata": {
    "execution": {
     "iopub.execute_input": "2022-10-21T00:54:50.342922Z",
     "iopub.status.busy": "2022-10-21T00:54:50.342226Z",
     "iopub.status.idle": "2022-10-21T00:54:50.346114Z",
     "shell.execute_reply": "2022-10-21T00:54:50.346533Z"
    },
    "papermill": {
     "duration": 0.038778,
     "end_time": "2022-10-21T00:54:50.346668",
     "exception": false,
     "start_time": "2022-10-21T00:54:50.307890",
     "status": "completed"
    },
    "tags": []
   },
   "outputs": [],
   "source": [
    "# #hide\n",
    "# g = g[g.group.notna()]"
   ]
  },
  {
   "cell_type": "code",
   "execution_count": 40,
   "id": "determined-closing",
   "metadata": {
    "execution": {
     "iopub.execute_input": "2022-10-21T00:54:50.412771Z",
     "iopub.status.busy": "2022-10-21T00:54:50.412056Z",
     "iopub.status.idle": "2022-10-21T00:54:50.414143Z",
     "shell.execute_reply": "2022-10-21T00:54:50.413497Z"
    },
    "papermill": {
     "duration": 0.036847,
     "end_time": "2022-10-21T00:54:50.414267",
     "exception": false,
     "start_time": "2022-10-21T00:54:50.377420",
     "status": "completed"
    },
    "tags": []
   },
   "outputs": [],
   "source": [
    "# #hide\n",
    "# colors = dict(zip(\n",
    "#     [\"Oceania\", \"Europe\", \"Asia\", \"South America\", \"Middle East\", \"North America\", \"Africa\"],\n",
    "#     [\"#adb0ff\", \"#ffb3ff\", \"#90d595\", \"#e48381\", \"#aafbff\", \"#f7bb5f\", \"#eafb50\"]\n",
    "# ))\n",
    "# group_lk = g.set_index('name')['group'].to_dict()"
   ]
  },
  {
   "cell_type": "code",
   "execution_count": null,
   "id": "gross-drinking",
   "metadata": {
    "papermill": {
     "duration": 0.030741,
     "end_time": "2022-10-21T00:54:50.475665",
     "exception": false,
     "start_time": "2022-10-21T00:54:50.444924",
     "status": "completed"
    },
    "tags": []
   },
   "outputs": [],
   "source": []
  },
  {
   "cell_type": "code",
   "execution_count": 41,
   "id": "subject-macintosh",
   "metadata": {
    "execution": {
     "iopub.execute_input": "2022-10-21T00:54:50.543790Z",
     "iopub.status.busy": "2022-10-21T00:54:50.542995Z",
     "iopub.status.idle": "2022-10-21T00:54:50.545391Z",
     "shell.execute_reply": "2022-10-21T00:54:50.544744Z"
    },
    "papermill": {
     "duration": 0.039289,
     "end_time": "2022-10-21T00:54:50.545512",
     "exception": false,
     "start_time": "2022-10-21T00:54:50.506223",
     "status": "completed"
    },
    "tags": []
   },
   "outputs": [],
   "source": [
    "# #hide\n",
    "# fig, ax = plt.subplots(figsize=(15, 8))\n",
    "\n",
    "# def draw_barchart(current_day):\n",
    "#     dff = g[g['day'].eq(current_day)].sort_values(by='value', ascending=True).tail(10)\n",
    "#     ax.clear()\n",
    "#     ax.barh(dff['name'], dff['value'], color=[colors[group_lk[x]] for x in dff['name']])\n",
    "#     dx = dff['value'].max() / 200\n",
    "    \n",
    "#     for i, (value, name) in enumerate(zip(dff['value'], dff['name'])):\n",
    "#         ax.text(value-dx, i,     name,           size=14, weight=600, ha='right', va='bottom')\n",
    "#         ax.text(value-dx, i-.25, group_lk[name], size=10, color='#444444', ha='right', va='baseline')\n",
    "#         ax.text(value+dx, i,     f'{value:,.0f}',  size=14, ha='left',  va='center')\n",
    "#     ax.text(1, 0.4, current_day, transform=ax.transAxes, color='#777777', size=46, ha='right', weight=800)\n",
    "#     ax.text(0, 1.06, 'Population (thousands)', transform=ax.transAxes, size=12, color='#777777')\n",
    "#     ax.xaxis.set_major_formatter(ticker.StrMethodFormatter('{x:,.0f}'))\n",
    "#     ax.xaxis.set_ticks_position('top')\n",
    "#     ax.tick_params(axis='x', colors='#777777', labelsize=12)\n",
    "#     ax.set_yticks([])\n",
    "#     ax.margins(0, 0.01)\n",
    "#     ax.grid(which='major', axis='x', linestyle='-')\n",
    "#     ax.set_axisbelow(True)\n",
    "    \n",
    "#     ax.text(0, 1.15, 'Coronavirus',\n",
    "#             transform=ax.transAxes, size=24, weight=600, ha='left', va='top')\n",
    "# #     ax.text(1, 0, 'by @pratapvardhan; credit @jburnmurdoch', transform=ax.transAxes, color='#777777', ha='right',\n",
    "# #             bbox=dict(facecolor='white', alpha=0.8, edgecolor='white'))\n",
    "#     plt.box(False)"
   ]
  },
  {
   "cell_type": "code",
   "execution_count": 42,
   "id": "sexual-wages",
   "metadata": {
    "execution": {
     "iopub.execute_input": "2022-10-21T00:54:50.611579Z",
     "iopub.status.busy": "2022-10-21T00:54:50.610931Z",
     "iopub.status.idle": "2022-10-21T00:54:50.614506Z",
     "shell.execute_reply": "2022-10-21T00:54:50.614028Z"
    },
    "papermill": {
     "duration": 0.038089,
     "end_time": "2022-10-21T00:54:50.614614",
     "exception": false,
     "start_time": "2022-10-21T00:54:50.576525",
     "status": "completed"
    },
    "tags": []
   },
   "outputs": [],
   "source": [
    "# #hide_input\n",
    "# fig, ax = plt.subplots(figsize=(15, 8))\n",
    "# animator = animation.FuncAnimation(fig, draw_barchart, frames=range(g.day.values.min(), g.day.values.max()))\n",
    "# HTML(animator.to_jshtml())\n",
    "# # or use animator.to_html5_video() or animator.save() "
   ]
  },
  {
   "cell_type": "code",
   "execution_count": null,
   "id": "australian-container",
   "metadata": {
    "papermill": {
     "duration": 0.030516,
     "end_time": "2022-10-21T00:54:50.675708",
     "exception": false,
     "start_time": "2022-10-21T00:54:50.645192",
     "status": "completed"
    },
    "tags": []
   },
   "outputs": [],
   "source": []
  },
  {
   "cell_type": "code",
   "execution_count": null,
   "id": "mediterranean-pontiac",
   "metadata": {
    "papermill": {
     "duration": 0.030483,
     "end_time": "2022-10-21T00:54:50.736497",
     "exception": false,
     "start_time": "2022-10-21T00:54:50.706014",
     "status": "completed"
    },
    "tags": []
   },
   "outputs": [],
   "source": []
  },
  {
   "cell_type": "code",
   "execution_count": null,
   "id": "aging-legislature",
   "metadata": {
    "papermill": {
     "duration": 0.030442,
     "end_time": "2022-10-21T00:54:50.797579",
     "exception": false,
     "start_time": "2022-10-21T00:54:50.767137",
     "status": "completed"
    },
    "tags": []
   },
   "outputs": [],
   "source": []
  }
 ],
 "metadata": {
  "kernelspec": {
   "display_name": "Python 3",
   "language": "python",
   "name": "python3"
  },
  "language_info": {
   "codemirror_mode": {
    "name": "ipython",
    "version": 3
   },
   "file_extension": ".py",
   "mimetype": "text/x-python",
   "name": "python",
   "nbconvert_exporter": "python",
   "pygments_lexer": "ipython3",
   "version": "3.6.15"
  },
  "papermill": {
   "duration": 6.437089,
   "end_time": "2022-10-21T00:54:51.247408",
   "environment_variables": {},
   "exception": null,
   "input_path": "2020-03-21-covid19exp.ipynb",
   "output_path": "2020-03-21-covid19exp.ipynb",
   "parameters": {},
   "start_time": "2022-10-21T00:54:44.810319",
   "version": "2.0.0"
  }
 },
 "nbformat": 4,
 "nbformat_minor": 5
}