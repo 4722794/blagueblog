{
 "cells": [
  {
   "cell_type": "markdown",
   "id": "muslim-click",
   "metadata": {
    "papermill": {
     "duration": 0.034546,
     "end_time": "2022-12-01T12:18:11.780551",
     "exception": false,
     "start_time": "2022-12-01T12:18:11.746005",
     "status": "completed"
    },
    "tags": []
   },
   "source": [
    "# COVID-19 Case Race\n",
    "> A race chart to see rising cases around the world\n",
    "\n",
    "- author: Hargun Oberoi\n",
    "- image: images/covid-overview.png\n",
    "- hide: false\n",
    "- badges: false"
   ]
  },
  {
   "cell_type": "code",
   "execution_count": 1,
   "id": "proof-material",
   "metadata": {
    "execution": {
     "iopub.execute_input": "2022-12-01T12:18:11.850264Z",
     "iopub.status.busy": "2022-12-01T12:18:11.849645Z",
     "iopub.status.idle": "2022-12-01T12:18:12.166918Z",
     "shell.execute_reply": "2022-12-01T12:18:12.166409Z"
    },
    "papermill": {
     "duration": 0.356095,
     "end_time": "2022-12-01T12:18:12.167051",
     "exception": false,
     "start_time": "2022-12-01T12:18:11.810956",
     "status": "completed"
    },
    "tags": []
   },
   "outputs": [],
   "source": [
    "#hide\n",
    "import numpy as np\n",
    "import pandas as pd\n",
    "from jinja2 import Template\n",
    "from IPython.display import HTML"
   ]
  },
  {
   "cell_type": "code",
   "execution_count": 2,
   "id": "developed-terminology",
   "metadata": {
    "execution": {
     "iopub.execute_input": "2022-12-01T12:18:12.231714Z",
     "iopub.status.busy": "2022-12-01T12:18:12.231146Z",
     "iopub.status.idle": "2022-12-01T12:18:12.233018Z",
     "shell.execute_reply": "2022-12-01T12:18:12.233515Z"
    },
    "papermill": {
     "duration": 0.036622,
     "end_time": "2022-12-01T12:18:12.233633",
     "exception": false,
     "start_time": "2022-12-01T12:18:12.197011",
     "status": "completed"
    },
    "tags": []
   },
   "outputs": [],
   "source": [
    "#hide\n",
    "\n",
    "# FETCH\n",
    "base_url = 'https://raw.githubusercontent.com/pratapvardhan/notebooks/master/covid19/'\n",
    "paths = {\n",
    "    'mapping': base_url + 'mapping_countries.csv',\n",
    "    'overview': base_url + 'overview.tpl'\n",
    "}"
   ]
  },
  {
   "cell_type": "code",
   "execution_count": 3,
   "id": "dynamic-saver",
   "metadata": {
    "execution": {
     "iopub.execute_input": "2022-12-01T12:18:12.295972Z",
     "iopub.status.busy": "2022-12-01T12:18:12.295424Z",
     "iopub.status.idle": "2022-12-01T12:18:12.304286Z",
     "shell.execute_reply": "2022-12-01T12:18:12.304794Z"
    },
    "papermill": {
     "duration": 0.041478,
     "end_time": "2022-12-01T12:18:12.304917",
     "exception": false,
     "start_time": "2022-12-01T12:18:12.263439",
     "status": "completed"
    },
    "tags": []
   },
   "outputs": [
    {
     "data": {
      "text/plain": [
       "'https://raw.githubusercontent.com/pratapvardhan/notebooks/master/covid19/mapping_countries.csv'"
      ]
     },
     "execution_count": 3,
     "metadata": {},
     "output_type": "execute_result"
    }
   ],
   "source": [
    "#hide\n",
    "paths['mapping']"
   ]
  },
  {
   "cell_type": "code",
   "execution_count": 4,
   "id": "urban-software",
   "metadata": {
    "execution": {
     "iopub.execute_input": "2022-12-01T12:18:12.370613Z",
     "iopub.status.busy": "2022-12-01T12:18:12.370014Z",
     "iopub.status.idle": "2022-12-01T12:18:12.372396Z",
     "shell.execute_reply": "2022-12-01T12:18:12.371933Z"
    },
    "papermill": {
     "duration": 0.037238,
     "end_time": "2022-12-01T12:18:12.372505",
     "exception": false,
     "start_time": "2022-12-01T12:18:12.335267",
     "status": "completed"
    },
    "tags": []
   },
   "outputs": [],
   "source": [
    "#hide\n",
    "def get_mappings(url):\n",
    "    df = pd.read_csv(url)\n",
    "    return {\n",
    "        'df': df,\n",
    "        'replace.country': dict(df.dropna(subset=['Name']).set_index('Country')['Name']),\n",
    "        'map.continent': dict(df.set_index('Name')['Continent'])\n",
    "    }"
   ]
  },
  {
   "cell_type": "code",
   "execution_count": 5,
   "id": "intimate-machinery",
   "metadata": {
    "execution": {
     "iopub.execute_input": "2022-12-01T12:18:12.438248Z",
     "iopub.status.busy": "2022-12-01T12:18:12.437646Z",
     "iopub.status.idle": "2022-12-01T12:18:12.474711Z",
     "shell.execute_reply": "2022-12-01T12:18:12.475174Z"
    },
    "papermill": {
     "duration": 0.072563,
     "end_time": "2022-12-01T12:18:12.475305",
     "exception": false,
     "start_time": "2022-12-01T12:18:12.402742",
     "status": "completed"
    },
    "tags": []
   },
   "outputs": [],
   "source": [
    "#hide\n",
    "mapping = get_mappings(paths['mapping'])"
   ]
  },
  {
   "cell_type": "code",
   "execution_count": 6,
   "id": "certified-tactics",
   "metadata": {
    "execution": {
     "iopub.execute_input": "2022-12-01T12:18:12.540912Z",
     "iopub.status.busy": "2022-12-01T12:18:12.540345Z",
     "iopub.status.idle": "2022-12-01T12:18:12.542709Z",
     "shell.execute_reply": "2022-12-01T12:18:12.542266Z"
    },
    "papermill": {
     "duration": 0.037155,
     "end_time": "2022-12-01T12:18:12.542812",
     "exception": false,
     "start_time": "2022-12-01T12:18:12.505657",
     "status": "completed"
    },
    "tags": []
   },
   "outputs": [],
   "source": [
    "#hide\n",
    "def get_template(path):\n",
    "    from urllib.parse import urlparse\n",
    "    if bool(urlparse(path).netloc):\n",
    "        from urllib.request import urlopen\n",
    "        return urlopen(path).read().decode('utf8')\n",
    "    return open(path).read()"
   ]
  },
  {
   "cell_type": "code",
   "execution_count": 7,
   "id": "realistic-blast",
   "metadata": {
    "execution": {
     "iopub.execute_input": "2022-12-01T12:18:12.608061Z",
     "iopub.status.busy": "2022-12-01T12:18:12.607493Z",
     "iopub.status.idle": "2022-12-01T12:18:12.609361Z",
     "shell.execute_reply": "2022-12-01T12:18:12.609793Z"
    },
    "papermill": {
     "duration": 0.036944,
     "end_time": "2022-12-01T12:18:12.609914",
     "exception": false,
     "start_time": "2022-12-01T12:18:12.572970",
     "status": "completed"
    },
    "tags": []
   },
   "outputs": [],
   "source": [
    "#hide\n",
    "def get_frame(name):\n",
    "    url = (\n",
    "        'https://raw.githubusercontent.com/CSSEGISandData/COVID-19/master/csse_covid_19_data/'\n",
    "        f'csse_covid_19_time_series/time_series_covid19_{name}_global.csv')\n",
    "    df = pd.read_csv(url)\n",
    "    # rename countries\n",
    "    df['Country/Region'] = df['Country/Region'].replace(mapping['replace.country'])\n",
    "    return df"
   ]
  },
  {
   "cell_type": "code",
   "execution_count": 8,
   "id": "affiliated-characterization",
   "metadata": {
    "execution": {
     "iopub.execute_input": "2022-12-01T12:18:12.675899Z",
     "iopub.status.busy": "2022-12-01T12:18:12.675305Z",
     "iopub.status.idle": "2022-12-01T12:18:12.678893Z",
     "shell.execute_reply": "2022-12-01T12:18:12.679301Z"
    },
    "papermill": {
     "duration": 0.039308,
     "end_time": "2022-12-01T12:18:12.679429",
     "exception": false,
     "start_time": "2022-12-01T12:18:12.640121",
     "status": "completed"
    },
    "tags": []
   },
   "outputs": [],
   "source": [
    "#hide\n",
    "def get_dates(df):\n",
    "    dt_cols = df.columns[~df.columns.isin(['Province/State', 'Country/Region', 'Lat', 'Long'])]\n",
    "    LAST_DATE_I = -1\n",
    "    # sometimes last column may be empty, then go backwards\n",
    "    for i in range(-1, -len(dt_cols), -1):\n",
    "        if not df[dt_cols[i]].fillna(0).eq(0).all():\n",
    "            LAST_DATE_I = i\n",
    "            break\n",
    "    return LAST_DATE_I, dt_cols"
   ]
  },
  {
   "cell_type": "code",
   "execution_count": 9,
   "id": "recent-optimization",
   "metadata": {
    "execution": {
     "iopub.execute_input": "2022-12-01T12:18:12.744456Z",
     "iopub.status.busy": "2022-12-01T12:18:12.743880Z",
     "iopub.status.idle": "2022-12-01T12:18:13.219550Z",
     "shell.execute_reply": "2022-12-01T12:18:13.219072Z"
    },
    "papermill": {
     "duration": 0.510269,
     "end_time": "2022-12-01T12:18:13.219669",
     "exception": false,
     "start_time": "2022-12-01T12:18:12.709400",
     "status": "completed"
    },
    "tags": []
   },
   "outputs": [],
   "source": [
    "#hide\n",
    "COL_REGION = 'Country/Region'\n",
    "# Confirmed, Recovered, Deaths\n",
    "df = get_frame('confirmed')\n",
    "# dft_: timeseries, dfc_: today country agg\n",
    "dft_cases = df\n",
    "dft_deaths = get_frame('deaths')\n",
    "dft_recovered = get_frame('recovered')\n",
    "LAST_DATE_I, dt_cols = get_dates(df)"
   ]
  },
  {
   "cell_type": "code",
   "execution_count": 10,
   "id": "absolute-copper",
   "metadata": {
    "execution": {
     "iopub.execute_input": "2022-12-01T12:18:13.285494Z",
     "iopub.status.busy": "2022-12-01T12:18:13.284930Z",
     "iopub.status.idle": "2022-12-01T12:18:13.286809Z",
     "shell.execute_reply": "2022-12-01T12:18:13.287309Z"
    },
    "papermill": {
     "duration": 0.037222,
     "end_time": "2022-12-01T12:18:13.287435",
     "exception": false,
     "start_time": "2022-12-01T12:18:13.250213",
     "status": "completed"
    },
    "tags": []
   },
   "outputs": [],
   "source": [
    "#hide\n",
    "LAST_DATE_I, dt_cols = get_dates(df)\n",
    "dt_today =dt_cols[LAST_DATE_I]\n",
    "# dt_5day = dt_cols[LAST_DATE_I - 5]\n",
    "dt_yday = dt_cols[LAST_DATE_I - 1]"
   ]
  },
  {
   "cell_type": "code",
   "execution_count": 11,
   "id": "restricted-sheriff",
   "metadata": {
    "execution": {
     "iopub.execute_input": "2022-12-01T12:18:13.352779Z",
     "iopub.status.busy": "2022-12-01T12:18:13.352204Z",
     "iopub.status.idle": "2022-12-01T12:18:13.359408Z",
     "shell.execute_reply": "2022-12-01T12:18:13.359845Z"
    },
    "papermill": {
     "duration": 0.042552,
     "end_time": "2022-12-01T12:18:13.359969",
     "exception": false,
     "start_time": "2022-12-01T12:18:13.317417",
     "status": "completed"
    },
    "tags": []
   },
   "outputs": [],
   "source": [
    "#hide\n",
    "dfc_cases = dft_cases.groupby(COL_REGION)[dt_today].sum()\n",
    "dfc_deaths = dft_deaths.groupby(COL_REGION)[dt_today].sum()\n",
    "# dfp_cases = dft_cases.groupby(COL_REGION)[dt_5day].sum()\n",
    "# dfp_deaths = dft_deaths.groupby(COL_REGION)[dt_5day].sum()\n",
    "dfp_cases = dft_cases.groupby(COL_REGION)[dt_yday].sum()\n",
    "dfp_deaths = dft_deaths.groupby(COL_REGION)[dt_yday].sum()"
   ]
  },
  {
   "cell_type": "code",
   "execution_count": 12,
   "id": "deluxe-hepatitis",
   "metadata": {
    "execution": {
     "iopub.execute_input": "2022-12-01T12:18:13.426510Z",
     "iopub.status.busy": "2022-12-01T12:18:13.425921Z",
     "iopub.status.idle": "2022-12-01T12:18:13.430539Z",
     "shell.execute_reply": "2022-12-01T12:18:13.430945Z"
    },
    "papermill": {
     "duration": 0.040882,
     "end_time": "2022-12-01T12:18:13.431071",
     "exception": false,
     "start_time": "2022-12-01T12:18:13.390189",
     "status": "completed"
    },
    "tags": []
   },
   "outputs": [],
   "source": [
    "#hide\n",
    "df_table = (pd.DataFrame(dict(Cases = dfc_cases, Deaths = dfc_deaths, PCases = dfp_cases, PDeaths = dfp_deaths))\n",
    "            .sort_values(by = ['Cases','Deaths'], ascending = [False, False])\n",
    "            .reset_index())"
   ]
  },
  {
   "cell_type": "code",
   "execution_count": 13,
   "id": "educational-chancellor",
   "metadata": {
    "execution": {
     "iopub.execute_input": "2022-12-01T12:18:13.503986Z",
     "iopub.status.busy": "2022-12-01T12:18:13.503418Z",
     "iopub.status.idle": "2022-12-01T12:18:13.515456Z",
     "shell.execute_reply": "2022-12-01T12:18:13.515004Z"
    },
    "papermill": {
     "duration": 0.054483,
     "end_time": "2022-12-01T12:18:13.515563",
     "exception": false,
     "start_time": "2022-12-01T12:18:13.461080",
     "status": "completed"
    },
    "tags": []
   },
   "outputs": [
    {
     "data": {
      "text/html": [
       "<div>\n",
       "<style scoped>\n",
       "    .dataframe tbody tr th:only-of-type {\n",
       "        vertical-align: middle;\n",
       "    }\n",
       "\n",
       "    .dataframe tbody tr th {\n",
       "        vertical-align: top;\n",
       "    }\n",
       "\n",
       "    .dataframe thead th {\n",
       "        text-align: right;\n",
       "    }\n",
       "</style>\n",
       "<table border=\"1\" class=\"dataframe\">\n",
       "  <thead>\n",
       "    <tr style=\"text-align: right;\">\n",
       "      <th></th>\n",
       "      <th>Country/Region</th>\n",
       "      <th>Cases</th>\n",
       "      <th>Deaths</th>\n",
       "      <th>PCases</th>\n",
       "      <th>PDeaths</th>\n",
       "      <th>Cases (+)</th>\n",
       "      <th>Deaths (+)</th>\n",
       "      <th>Fatality Rate</th>\n",
       "      <th>Continent</th>\n",
       "    </tr>\n",
       "  </thead>\n",
       "  <tbody>\n",
       "    <tr>\n",
       "      <th>0</th>\n",
       "      <td>US</td>\n",
       "      <td>98788140</td>\n",
       "      <td>1080444</td>\n",
       "      <td>98678154</td>\n",
       "      <td>1079877</td>\n",
       "      <td>109986</td>\n",
       "      <td>567</td>\n",
       "      <td>1.09</td>\n",
       "      <td>North America</td>\n",
       "    </tr>\n",
       "    <tr>\n",
       "      <th>1</th>\n",
       "      <td>India</td>\n",
       "      <td>44673863</td>\n",
       "      <td>530622</td>\n",
       "      <td>44673567</td>\n",
       "      <td>530620</td>\n",
       "      <td>296</td>\n",
       "      <td>2</td>\n",
       "      <td>1.19</td>\n",
       "      <td>Asia</td>\n",
       "    </tr>\n",
       "    <tr>\n",
       "      <th>2</th>\n",
       "      <td>France</td>\n",
       "      <td>38046448</td>\n",
       "      <td>159990</td>\n",
       "      <td>37979248</td>\n",
       "      <td>159915</td>\n",
       "      <td>67200</td>\n",
       "      <td>75</td>\n",
       "      <td>0.42</td>\n",
       "      <td>Europe</td>\n",
       "    </tr>\n",
       "    <tr>\n",
       "      <th>3</th>\n",
       "      <td>Germany</td>\n",
       "      <td>36499600</td>\n",
       "      <td>157943</td>\n",
       "      <td>36463485</td>\n",
       "      <td>157791</td>\n",
       "      <td>36115</td>\n",
       "      <td>152</td>\n",
       "      <td>0.43</td>\n",
       "      <td>Europe</td>\n",
       "    </tr>\n",
       "    <tr>\n",
       "      <th>4</th>\n",
       "      <td>Brazil</td>\n",
       "      <td>35227599</td>\n",
       "      <td>689665</td>\n",
       "      <td>35227599</td>\n",
       "      <td>689665</td>\n",
       "      <td>0</td>\n",
       "      <td>0</td>\n",
       "      <td>1.96</td>\n",
       "      <td>South America</td>\n",
       "    </tr>\n",
       "  </tbody>\n",
       "</table>\n",
       "</div>"
      ],
      "text/plain": [
       "  Country/Region     Cases   Deaths    PCases  PDeaths  Cases (+)  Deaths (+)  \\\n",
       "0             US  98788140  1080444  98678154  1079877     109986         567   \n",
       "1          India  44673863   530622  44673567   530620        296           2   \n",
       "2         France  38046448   159990  37979248   159915      67200          75   \n",
       "3        Germany  36499600   157943  36463485   157791      36115         152   \n",
       "4         Brazil  35227599   689665  35227599   689665          0           0   \n",
       "\n",
       "   Fatality Rate      Continent  \n",
       "0           1.09  North America  \n",
       "1           1.19           Asia  \n",
       "2           0.42         Europe  \n",
       "3           0.43         Europe  \n",
       "4           1.96  South America  "
      ]
     },
     "execution_count": 13,
     "metadata": {},
     "output_type": "execute_result"
    }
   ],
   "source": [
    "#hide\n",
    "for c in 'Cases, Deaths'.split(', '):\n",
    "    df_table[f'{c} (+)'] = (df_table[c] - df_table[f'P{c}']).clip(0)\n",
    "    #Clip ça veut dire, les chiffres negatif sont interdit\n",
    "df_table['Fatality Rate'] = (100* df_table['Deaths']/ df_table['Cases']).round(2)\n",
    "df_table['Continent'] = df_table['Country/Region'].map(mapping['map.continent'])\n",
    "df_table.head(5)"
   ]
  },
  {
   "cell_type": "code",
   "execution_count": 14,
   "id": "aboriginal-bulgaria",
   "metadata": {
    "execution": {
     "iopub.execute_input": "2022-12-01T12:18:13.582895Z",
     "iopub.status.busy": "2022-12-01T12:18:13.582341Z",
     "iopub.status.idle": "2022-12-01T12:18:13.584614Z",
     "shell.execute_reply": "2022-12-01T12:18:13.585062Z"
    },
    "papermill": {
     "duration": 0.038755,
     "end_time": "2022-12-01T12:18:13.585187",
     "exception": false,
     "start_time": "2022-12-01T12:18:13.546432",
     "status": "completed"
    },
    "tags": []
   },
   "outputs": [],
   "source": [
    "#hide\n",
    "#delete problematic countries from table\n",
    "df_table = df_table[~df_table['Country/Region'].isin(['Cape Verde', 'Cruise Ship', 'Kosovo'])]"
   ]
  },
  {
   "cell_type": "code",
   "execution_count": 15,
   "id": "fantastic-effect",
   "metadata": {
    "execution": {
     "iopub.execute_input": "2022-12-01T12:18:13.653453Z",
     "iopub.status.busy": "2022-12-01T12:18:13.652893Z",
     "iopub.status.idle": "2022-12-01T12:18:13.670946Z",
     "shell.execute_reply": "2022-12-01T12:18:13.670488Z"
    },
    "papermill": {
     "duration": 0.055256,
     "end_time": "2022-12-01T12:18:13.671054",
     "exception": false,
     "start_time": "2022-12-01T12:18:13.615798",
     "status": "completed"
    },
    "tags": []
   },
   "outputs": [
    {
     "data": {
      "text/html": [
       "<div>\n",
       "<style scoped>\n",
       "    .dataframe tbody tr th:only-of-type {\n",
       "        vertical-align: middle;\n",
       "    }\n",
       "\n",
       "    .dataframe tbody tr th {\n",
       "        vertical-align: top;\n",
       "    }\n",
       "\n",
       "    .dataframe thead th {\n",
       "        text-align: right;\n",
       "    }\n",
       "</style>\n",
       "<table border=\"1\" class=\"dataframe\">\n",
       "  <thead>\n",
       "    <tr style=\"text-align: right;\">\n",
       "      <th></th>\n",
       "      <th>Country/Region</th>\n",
       "      <th>Cases</th>\n",
       "      <th>Deaths</th>\n",
       "      <th>PCases</th>\n",
       "      <th>PDeaths</th>\n",
       "      <th>Cases (+)</th>\n",
       "      <th>Deaths (+)</th>\n",
       "      <th>Fatality Rate</th>\n",
       "      <th>Continent</th>\n",
       "    </tr>\n",
       "  </thead>\n",
       "  <tbody>\n",
       "    <tr>\n",
       "      <th>0</th>\n",
       "      <td>US</td>\n",
       "      <td>98788140</td>\n",
       "      <td>1080444</td>\n",
       "      <td>98678154</td>\n",
       "      <td>1079877</td>\n",
       "      <td>109986</td>\n",
       "      <td>567</td>\n",
       "      <td>1.1</td>\n",
       "      <td>North America</td>\n",
       "    </tr>\n",
       "    <tr>\n",
       "      <th>1</th>\n",
       "      <td>India</td>\n",
       "      <td>44673863</td>\n",
       "      <td>530622</td>\n",
       "      <td>44673567</td>\n",
       "      <td>530620</td>\n",
       "      <td>296</td>\n",
       "      <td>2</td>\n",
       "      <td>1.2</td>\n",
       "      <td>Asia</td>\n",
       "    </tr>\n",
       "    <tr>\n",
       "      <th>2</th>\n",
       "      <td>France</td>\n",
       "      <td>38046448</td>\n",
       "      <td>159990</td>\n",
       "      <td>37979248</td>\n",
       "      <td>159915</td>\n",
       "      <td>67200</td>\n",
       "      <td>75</td>\n",
       "      <td>0.4</td>\n",
       "      <td>Europe</td>\n",
       "    </tr>\n",
       "    <tr>\n",
       "      <th>3</th>\n",
       "      <td>Germany</td>\n",
       "      <td>36499600</td>\n",
       "      <td>157943</td>\n",
       "      <td>36463485</td>\n",
       "      <td>157791</td>\n",
       "      <td>36115</td>\n",
       "      <td>152</td>\n",
       "      <td>0.4</td>\n",
       "      <td>Europe</td>\n",
       "    </tr>\n",
       "    <tr>\n",
       "      <th>4</th>\n",
       "      <td>Brazil</td>\n",
       "      <td>35227599</td>\n",
       "      <td>689665</td>\n",
       "      <td>35227599</td>\n",
       "      <td>689665</td>\n",
       "      <td>0</td>\n",
       "      <td>0</td>\n",
       "      <td>2.0</td>\n",
       "      <td>South America</td>\n",
       "    </tr>\n",
       "  </tbody>\n",
       "</table>\n",
       "</div>"
      ],
      "text/plain": [
       "  Country/Region     Cases   Deaths    PCases  PDeaths  Cases (+)  Deaths (+)  \\\n",
       "0             US  98788140  1080444  98678154  1079877     109986         567   \n",
       "1          India  44673863   530622  44673567   530620        296           2   \n",
       "2         France  38046448   159990  37979248   159915      67200          75   \n",
       "3        Germany  36499600   157943  36463485   157791      36115         152   \n",
       "4         Brazil  35227599   689665  35227599   689665          0           0   \n",
       "\n",
       "   Fatality Rate      Continent  \n",
       "0            1.1  North America  \n",
       "1            1.2           Asia  \n",
       "2            0.4         Europe  \n",
       "3            0.4         Europe  \n",
       "4            2.0  South America  "
      ]
     },
     "execution_count": 15,
     "metadata": {},
     "output_type": "execute_result"
    }
   ],
   "source": [
    "#hide\n",
    "df_table = (pd.DataFrame(dict(Cases=dfc_cases, Deaths=dfc_deaths, PCases=dfp_cases, PDeaths=dfp_deaths))\n",
    "             .sort_values(by=['Cases', 'Deaths'], ascending=[False, False])\n",
    "             .reset_index())\n",
    "df_table.rename(columns={'index': 'Country/Region'}, inplace=True)\n",
    "for c in 'Cases, Deaths'.split(', '):\n",
    "    df_table[f'{c} (+)'] = (df_table[c] - df_table[f'P{c}']).clip(0)  # DATA BUG\n",
    "df_table['Fatality Rate'] = (100 * df_table['Deaths'] / df_table['Cases']).round(1)\n",
    "df_table['Continent'] = df_table['Country/Region'].map(mapping['map.continent'])\n",
    "df_table.head(5)"
   ]
  },
  {
   "cell_type": "code",
   "execution_count": 16,
   "id": "fewer-occasion",
   "metadata": {
    "execution": {
     "iopub.execute_input": "2022-12-01T12:18:13.736453Z",
     "iopub.status.busy": "2022-12-01T12:18:13.735902Z",
     "iopub.status.idle": "2022-12-01T12:18:13.740203Z",
     "shell.execute_reply": "2022-12-01T12:18:13.740711Z"
    },
    "papermill": {
     "duration": 0.038572,
     "end_time": "2022-12-01T12:18:13.740836",
     "exception": false,
     "start_time": "2022-12-01T12:18:13.702264",
     "status": "completed"
    },
    "tags": []
   },
   "outputs": [],
   "source": [
    "#hide\n",
    "#delete problematic countries from table\n",
    "df_table = df_table[~df_table['Country/Region'].isin(['Cape Verde', 'Cruise Ship', 'Kosovo'])]"
   ]
  },
  {
   "cell_type": "code",
   "execution_count": 17,
   "id": "related-center",
   "metadata": {
    "execution": {
     "iopub.execute_input": "2022-12-01T12:18:13.805957Z",
     "iopub.status.busy": "2022-12-01T12:18:13.805361Z",
     "iopub.status.idle": "2022-12-01T12:18:13.822117Z",
     "shell.execute_reply": "2022-12-01T12:18:13.821641Z"
    },
    "papermill": {
     "duration": 0.050074,
     "end_time": "2022-12-01T12:18:13.822227",
     "exception": false,
     "start_time": "2022-12-01T12:18:13.772153",
     "status": "completed"
    },
    "tags": []
   },
   "outputs": [],
   "source": [
    "#hide\n",
    "metrics = [df_table.columns[index] for index in [1,2,5,6]]\n",
    "# s_china = df_table[df_table['Country/Region'].eq('China')][metrics].sum().add_prefix('China ')\n",
    "s_us = df_table[df_table['Country/Region'].eq('US')][metrics].sum().add_prefix('US ')\n",
    "s_eu = df_table[df_table['Continent'].eq('Europe')][metrics].sum().add_prefix('EU ')\n",
    "s_ind = df_table[df_table['Country/Region'].eq('India')][metrics].sum().add_prefix('India ')\n",
    "summary = {'updated': pd.to_datetime(dt_today), 'since': pd.to_datetime(dt_yday)}\n",
    "summary = {'updated': pd.to_datetime(dt_today), 'since': pd.to_datetime(dt_yday)}\n",
    "summary = {**summary, **df_table[metrics].sum(), **s_ind, **s_us, **s_eu}"
   ]
  },
  {
   "cell_type": "code",
   "execution_count": 18,
   "id": "engaging-syndrome",
   "metadata": {
    "execution": {
     "iopub.execute_input": "2022-12-01T12:18:13.889277Z",
     "iopub.status.busy": "2022-12-01T12:18:13.888706Z",
     "iopub.status.idle": "2022-12-01T12:18:13.908251Z",
     "shell.execute_reply": "2022-12-01T12:18:13.907789Z"
    },
    "papermill": {
     "duration": 0.055044,
     "end_time": "2022-12-01T12:18:13.908362",
     "exception": false,
     "start_time": "2022-12-01T12:18:13.853318",
     "status": "completed"
    },
    "tags": []
   },
   "outputs": [],
   "source": [
    "#hide\n",
    "dft_ct_new_cases = dft_cases.groupby(COL_REGION)[dt_cols].sum().diff(axis=1).fillna(0).astype(int)"
   ]
  },
  {
   "cell_type": "code",
   "execution_count": 19,
   "id": "neutral-assignment",
   "metadata": {
    "execution": {
     "iopub.execute_input": "2022-12-01T12:18:13.976575Z",
     "iopub.status.busy": "2022-12-01T12:18:13.976024Z",
     "iopub.status.idle": "2022-12-01T12:18:13.977919Z",
     "shell.execute_reply": "2022-12-01T12:18:13.978418Z"
    },
    "papermill": {
     "duration": 0.039123,
     "end_time": "2022-12-01T12:18:13.978536",
     "exception": false,
     "start_time": "2022-12-01T12:18:13.939413",
     "status": "completed"
    },
    "tags": []
   },
   "outputs": [],
   "source": [
    "#hide\n",
    "everydaycases = dft_ct_new_cases.cumsum(axis=1)"
   ]
  },
  {
   "cell_type": "code",
   "execution_count": 20,
   "id": "parliamentary-calgary",
   "metadata": {
    "execution": {
     "iopub.execute_input": "2022-12-01T12:18:14.043431Z",
     "iopub.status.busy": "2022-12-01T12:18:14.042871Z",
     "iopub.status.idle": "2022-12-01T12:18:14.689411Z",
     "shell.execute_reply": "2022-12-01T12:18:14.688934Z"
    },
    "papermill": {
     "duration": 0.679917,
     "end_time": "2022-12-01T12:18:14.689527",
     "exception": false,
     "start_time": "2022-12-01T12:18:14.009610",
     "status": "completed"
    },
    "tags": []
   },
   "outputs": [],
   "source": [
    "#hide\n",
    "import pandas as pd\n",
    "import matplotlib.pyplot as plt\n",
    "import matplotlib.ticker as ticker\n",
    "import matplotlib.animation as animation\n",
    "from IPython.display import HTML"
   ]
  },
  {
   "cell_type": "code",
   "execution_count": 21,
   "id": "lasting-extraction",
   "metadata": {
    "execution": {
     "iopub.execute_input": "2022-12-01T12:18:14.758717Z",
     "iopub.status.busy": "2022-12-01T12:18:14.758146Z",
     "iopub.status.idle": "2022-12-01T12:18:14.765188Z",
     "shell.execute_reply": "2022-12-01T12:18:14.765621Z"
    },
    "papermill": {
     "duration": 0.045185,
     "end_time": "2022-12-01T12:18:14.765768",
     "exception": false,
     "start_time": "2022-12-01T12:18:14.720583",
     "status": "completed"
    },
    "tags": []
   },
   "outputs": [],
   "source": [
    "#hide\n",
    "t = everydaycases.stack()"
   ]
  },
  {
   "cell_type": "code",
   "execution_count": 22,
   "id": "premier-sleeve",
   "metadata": {
    "execution": {
     "iopub.execute_input": "2022-12-01T12:18:14.832271Z",
     "iopub.status.busy": "2022-12-01T12:18:14.831710Z",
     "iopub.status.idle": "2022-12-01T12:18:14.845658Z",
     "shell.execute_reply": "2022-12-01T12:18:14.845193Z"
    },
    "papermill": {
     "duration": 0.048786,
     "end_time": "2022-12-01T12:18:14.845793",
     "exception": false,
     "start_time": "2022-12-01T12:18:14.797007",
     "status": "completed"
    },
    "tags": []
   },
   "outputs": [],
   "source": [
    "#hide\n",
    "g = t.reset_index(['Country/Region'])"
   ]
  },
  {
   "cell_type": "code",
   "execution_count": 23,
   "id": "distributed-pittsburgh",
   "metadata": {
    "execution": {
     "iopub.execute_input": "2022-12-01T12:18:14.912989Z",
     "iopub.status.busy": "2022-12-01T12:18:14.911783Z",
     "iopub.status.idle": "2022-12-01T12:18:14.913612Z",
     "shell.execute_reply": "2022-12-01T12:18:14.914049Z"
    },
    "papermill": {
     "duration": 0.037263,
     "end_time": "2022-12-01T12:18:14.914168",
     "exception": false,
     "start_time": "2022-12-01T12:18:14.876905",
     "status": "completed"
    },
    "tags": []
   },
   "outputs": [],
   "source": [
    "#hide\n",
    "g.index.name = 'date'"
   ]
  },
  {
   "cell_type": "code",
   "execution_count": 24,
   "id": "naked-donor",
   "metadata": {
    "execution": {
     "iopub.execute_input": "2022-12-01T12:18:14.980083Z",
     "iopub.status.busy": "2022-12-01T12:18:14.979510Z",
     "iopub.status.idle": "2022-12-01T12:18:14.982094Z",
     "shell.execute_reply": "2022-12-01T12:18:14.981543Z"
    },
    "papermill": {
     "duration": 0.036937,
     "end_time": "2022-12-01T12:18:14.982198",
     "exception": false,
     "start_time": "2022-12-01T12:18:14.945261",
     "status": "completed"
    },
    "tags": []
   },
   "outputs": [],
   "source": [
    "# #hide\n",
    "# g = g.reset_index(['date'])"
   ]
  },
  {
   "cell_type": "code",
   "execution_count": 25,
   "id": "incomplete-mustang",
   "metadata": {
    "execution": {
     "iopub.execute_input": "2022-12-01T12:18:15.047856Z",
     "iopub.status.busy": "2022-12-01T12:18:15.047304Z",
     "iopub.status.idle": "2022-12-01T12:18:15.051055Z",
     "shell.execute_reply": "2022-12-01T12:18:15.050590Z"
    },
    "papermill": {
     "duration": 0.037997,
     "end_time": "2022-12-01T12:18:15.051160",
     "exception": false,
     "start_time": "2022-12-01T12:18:15.013163",
     "status": "completed"
    },
    "tags": []
   },
   "outputs": [],
   "source": [
    "#hide\n",
    "# g.head()"
   ]
  },
  {
   "cell_type": "code",
   "execution_count": 26,
   "id": "specific-kruger",
   "metadata": {
    "execution": {
     "iopub.execute_input": "2022-12-01T12:18:15.117286Z",
     "iopub.status.busy": "2022-12-01T12:18:15.116717Z",
     "iopub.status.idle": "2022-12-01T12:18:15.119112Z",
     "shell.execute_reply": "2022-12-01T12:18:15.118585Z"
    },
    "papermill": {
     "duration": 0.036798,
     "end_time": "2022-12-01T12:18:15.119215",
     "exception": false,
     "start_time": "2022-12-01T12:18:15.082417",
     "status": "completed"
    },
    "tags": []
   },
   "outputs": [],
   "source": [
    "#hide\n",
    "# g.columns = ['date','country','cases']"
   ]
  },
  {
   "cell_type": "code",
   "execution_count": 27,
   "id": "tender-conversion",
   "metadata": {
    "execution": {
     "iopub.execute_input": "2022-12-01T12:18:15.184757Z",
     "iopub.status.busy": "2022-12-01T12:18:15.184177Z",
     "iopub.status.idle": "2022-12-01T12:18:15.186623Z",
     "shell.execute_reply": "2022-12-01T12:18:15.186206Z"
    },
    "papermill": {
     "duration": 0.036567,
     "end_time": "2022-12-01T12:18:15.186724",
     "exception": false,
     "start_time": "2022-12-01T12:18:15.150157",
     "status": "completed"
    },
    "tags": []
   },
   "outputs": [],
   "source": [
    "#hide\n",
    "# g['continent'] = g.country"
   ]
  },
  {
   "cell_type": "code",
   "execution_count": 28,
   "id": "substantial-wilderness",
   "metadata": {
    "execution": {
     "iopub.execute_input": "2022-12-01T12:18:15.252281Z",
     "iopub.status.busy": "2022-12-01T12:18:15.251714Z",
     "iopub.status.idle": "2022-12-01T12:18:15.254144Z",
     "shell.execute_reply": "2022-12-01T12:18:15.253594Z"
    },
    "papermill": {
     "duration": 0.03647,
     "end_time": "2022-12-01T12:18:15.254247",
     "exception": false,
     "start_time": "2022-12-01T12:18:15.217777",
     "status": "completed"
    },
    "tags": []
   },
   "outputs": [],
   "source": [
    "#hide\n",
    "# cols = list(g.columns.values)"
   ]
  },
  {
   "cell_type": "code",
   "execution_count": 29,
   "id": "solved-farming",
   "metadata": {
    "execution": {
     "iopub.execute_input": "2022-12-01T12:18:15.320009Z",
     "iopub.status.busy": "2022-12-01T12:18:15.319452Z",
     "iopub.status.idle": "2022-12-01T12:18:15.321895Z",
     "shell.execute_reply": "2022-12-01T12:18:15.321458Z"
    },
    "papermill": {
     "duration": 0.036708,
     "end_time": "2022-12-01T12:18:15.322003",
     "exception": false,
     "start_time": "2022-12-01T12:18:15.285295",
     "status": "completed"
    },
    "tags": []
   },
   "outputs": [],
   "source": [
    "#hide\n",
    "# cols.insert(0, cols.pop())"
   ]
  },
  {
   "cell_type": "code",
   "execution_count": 30,
   "id": "executed-adoption",
   "metadata": {
    "execution": {
     "iopub.execute_input": "2022-12-01T12:18:15.387648Z",
     "iopub.status.busy": "2022-12-01T12:18:15.387090Z",
     "iopub.status.idle": "2022-12-01T12:18:15.389122Z",
     "shell.execute_reply": "2022-12-01T12:18:15.388612Z"
    },
    "papermill": {
     "duration": 0.036223,
     "end_time": "2022-12-01T12:18:15.389222",
     "exception": false,
     "start_time": "2022-12-01T12:18:15.352999",
     "status": "completed"
    },
    "tags": []
   },
   "outputs": [],
   "source": [
    "#hide\n",
    "# g = g[cols]"
   ]
  },
  {
   "cell_type": "code",
   "execution_count": 31,
   "id": "subject-dublin",
   "metadata": {
    "execution": {
     "iopub.execute_input": "2022-12-01T12:18:15.455062Z",
     "iopub.status.busy": "2022-12-01T12:18:15.454508Z",
     "iopub.status.idle": "2022-12-01T12:18:15.457989Z",
     "shell.execute_reply": "2022-12-01T12:18:15.458403Z"
    },
    "papermill": {
     "duration": 0.038167,
     "end_time": "2022-12-01T12:18:15.458524",
     "exception": false,
     "start_time": "2022-12-01T12:18:15.420357",
     "status": "completed"
    },
    "tags": []
   },
   "outputs": [],
   "source": [
    "#hide\n",
    "# g['continent'] = g['continent'].map(mapping['map.continent'])"
   ]
  },
  {
   "cell_type": "code",
   "execution_count": 32,
   "id": "freelance-scout",
   "metadata": {
    "execution": {
     "iopub.execute_input": "2022-12-01T12:18:15.523987Z",
     "iopub.status.busy": "2022-12-01T12:18:15.523426Z",
     "iopub.status.idle": "2022-12-01T12:18:15.525336Z",
     "shell.execute_reply": "2022-12-01T12:18:15.525771Z"
    },
    "papermill": {
     "duration": 0.036421,
     "end_time": "2022-12-01T12:18:15.525892",
     "exception": false,
     "start_time": "2022-12-01T12:18:15.489471",
     "status": "completed"
    },
    "tags": []
   },
   "outputs": [],
   "source": [
    "#hide\n",
    "# g.head()"
   ]
  },
  {
   "cell_type": "code",
   "execution_count": 33,
   "id": "limited-engine",
   "metadata": {
    "execution": {
     "iopub.execute_input": "2022-12-01T12:18:15.591502Z",
     "iopub.status.busy": "2022-12-01T12:18:15.590927Z",
     "iopub.status.idle": "2022-12-01T12:18:15.593089Z",
     "shell.execute_reply": "2022-12-01T12:18:15.593496Z"
    },
    "papermill": {
     "duration": 0.036758,
     "end_time": "2022-12-01T12:18:15.593620",
     "exception": false,
     "start_time": "2022-12-01T12:18:15.556862",
     "status": "completed"
    },
    "tags": []
   },
   "outputs": [],
   "source": [
    "# hide\n",
    "# g['date'] = g['date'].astype('datetime64[ns]')"
   ]
  },
  {
   "cell_type": "code",
   "execution_count": 34,
   "id": "sophisticated-supervisor",
   "metadata": {
    "execution": {
     "iopub.execute_input": "2022-12-01T12:18:15.659147Z",
     "iopub.status.busy": "2022-12-01T12:18:15.658591Z",
     "iopub.status.idle": "2022-12-01T12:18:15.660430Z",
     "shell.execute_reply": "2022-12-01T12:18:15.659917Z"
    },
    "papermill": {
     "duration": 0.035954,
     "end_time": "2022-12-01T12:18:15.660531",
     "exception": false,
     "start_time": "2022-12-01T12:18:15.624577",
     "status": "completed"
    },
    "tags": []
   },
   "outputs": [],
   "source": [
    "#hide\n",
    "# g['date'] = g.date.dt.dayofyear"
   ]
  },
  {
   "cell_type": "code",
   "execution_count": 35,
   "id": "inside-dubai",
   "metadata": {
    "execution": {
     "iopub.execute_input": "2022-12-01T12:18:15.726128Z",
     "iopub.status.busy": "2022-12-01T12:18:15.725546Z",
     "iopub.status.idle": "2022-12-01T12:18:15.728701Z",
     "shell.execute_reply": "2022-12-01T12:18:15.728265Z"
    },
    "papermill": {
     "duration": 0.037254,
     "end_time": "2022-12-01T12:18:15.728803",
     "exception": false,
     "start_time": "2022-12-01T12:18:15.691549",
     "status": "completed"
    },
    "tags": []
   },
   "outputs": [],
   "source": [
    "#hide\n",
    "# g = g.rename(columns= {'continent':'group','country':'name','cases':'value'})"
   ]
  },
  {
   "cell_type": "code",
   "execution_count": 36,
   "id": "fleet-motorcycle",
   "metadata": {
    "execution": {
     "iopub.execute_input": "2022-12-01T12:18:15.794628Z",
     "iopub.status.busy": "2022-12-01T12:18:15.794066Z",
     "iopub.status.idle": "2022-12-01T12:18:15.796408Z",
     "shell.execute_reply": "2022-12-01T12:18:15.795865Z"
    },
    "papermill": {
     "duration": 0.036696,
     "end_time": "2022-12-01T12:18:15.796514",
     "exception": false,
     "start_time": "2022-12-01T12:18:15.759818",
     "status": "completed"
    },
    "tags": []
   },
   "outputs": [],
   "source": [
    "#hide\n",
    "# cols = ['name','group','day','value']"
   ]
  },
  {
   "cell_type": "code",
   "execution_count": 37,
   "id": "continued-sleeping",
   "metadata": {
    "execution": {
     "iopub.execute_input": "2022-12-01T12:18:15.862341Z",
     "iopub.status.busy": "2022-12-01T12:18:15.861739Z",
     "iopub.status.idle": "2022-12-01T12:18:15.864057Z",
     "shell.execute_reply": "2022-12-01T12:18:15.863527Z"
    },
    "papermill": {
     "duration": 0.036644,
     "end_time": "2022-12-01T12:18:15.864162",
     "exception": false,
     "start_time": "2022-12-01T12:18:15.827518",
     "status": "completed"
    },
    "tags": []
   },
   "outputs": [],
   "source": [
    "#hide\n",
    "# g.rename(columns= {'date':'day'},inplace = True)"
   ]
  },
  {
   "cell_type": "code",
   "execution_count": 38,
   "id": "major-fight",
   "metadata": {
    "execution": {
     "iopub.execute_input": "2022-12-01T12:18:15.929924Z",
     "iopub.status.busy": "2022-12-01T12:18:15.929339Z",
     "iopub.status.idle": "2022-12-01T12:18:15.931523Z",
     "shell.execute_reply": "2022-12-01T12:18:15.931006Z"
    },
    "papermill": {
     "duration": 0.036221,
     "end_time": "2022-12-01T12:18:15.931624",
     "exception": false,
     "start_time": "2022-12-01T12:18:15.895403",
     "status": "completed"
    },
    "tags": []
   },
   "outputs": [],
   "source": [
    "#hide\n",
    "# g = g[cols]"
   ]
  },
  {
   "cell_type": "code",
   "execution_count": 39,
   "id": "structured-mobile",
   "metadata": {
    "execution": {
     "iopub.execute_input": "2022-12-01T12:18:15.997326Z",
     "iopub.status.busy": "2022-12-01T12:18:15.996761Z",
     "iopub.status.idle": "2022-12-01T12:18:15.999197Z",
     "shell.execute_reply": "2022-12-01T12:18:15.998734Z"
    },
    "papermill": {
     "duration": 0.036741,
     "end_time": "2022-12-01T12:18:15.999297",
     "exception": false,
     "start_time": "2022-12-01T12:18:15.962556",
     "status": "completed"
    },
    "tags": []
   },
   "outputs": [],
   "source": [
    "# #hide\n",
    "# g = g[g.group.notna()]"
   ]
  },
  {
   "cell_type": "code",
   "execution_count": 40,
   "id": "determined-closing",
   "metadata": {
    "execution": {
     "iopub.execute_input": "2022-12-01T12:18:16.065532Z",
     "iopub.status.busy": "2022-12-01T12:18:16.064950Z",
     "iopub.status.idle": "2022-12-01T12:18:16.067381Z",
     "shell.execute_reply": "2022-12-01T12:18:16.066940Z"
    },
    "papermill": {
     "duration": 0.036977,
     "end_time": "2022-12-01T12:18:16.067482",
     "exception": false,
     "start_time": "2022-12-01T12:18:16.030505",
     "status": "completed"
    },
    "tags": []
   },
   "outputs": [],
   "source": [
    "# #hide\n",
    "# colors = dict(zip(\n",
    "#     [\"Oceania\", \"Europe\", \"Asia\", \"South America\", \"Middle East\", \"North America\", \"Africa\"],\n",
    "#     [\"#adb0ff\", \"#ffb3ff\", \"#90d595\", \"#e48381\", \"#aafbff\", \"#f7bb5f\", \"#eafb50\"]\n",
    "# ))\n",
    "# group_lk = g.set_index('name')['group'].to_dict()"
   ]
  },
  {
   "cell_type": "code",
   "execution_count": null,
   "id": "gross-drinking",
   "metadata": {
    "papermill": {
     "duration": 0.03156,
     "end_time": "2022-12-01T12:18:16.130080",
     "exception": false,
     "start_time": "2022-12-01T12:18:16.098520",
     "status": "completed"
    },
    "tags": []
   },
   "outputs": [],
   "source": []
  },
  {
   "cell_type": "code",
   "execution_count": 41,
   "id": "subject-macintosh",
   "metadata": {
    "execution": {
     "iopub.execute_input": "2022-12-01T12:18:16.196934Z",
     "iopub.status.busy": "2022-12-01T12:18:16.196347Z",
     "iopub.status.idle": "2022-12-01T12:18:16.198454Z",
     "shell.execute_reply": "2022-12-01T12:18:16.198848Z"
    },
    "papermill": {
     "duration": 0.037746,
     "end_time": "2022-12-01T12:18:16.198972",
     "exception": false,
     "start_time": "2022-12-01T12:18:16.161226",
     "status": "completed"
    },
    "tags": []
   },
   "outputs": [],
   "source": [
    "# #hide\n",
    "# fig, ax = plt.subplots(figsize=(15, 8))\n",
    "\n",
    "# def draw_barchart(current_day):\n",
    "#     dff = g[g['day'].eq(current_day)].sort_values(by='value', ascending=True).tail(10)\n",
    "#     ax.clear()\n",
    "#     ax.barh(dff['name'], dff['value'], color=[colors[group_lk[x]] for x in dff['name']])\n",
    "#     dx = dff['value'].max() / 200\n",
    "    \n",
    "#     for i, (value, name) in enumerate(zip(dff['value'], dff['name'])):\n",
    "#         ax.text(value-dx, i,     name,           size=14, weight=600, ha='right', va='bottom')\n",
    "#         ax.text(value-dx, i-.25, group_lk[name], size=10, color='#444444', ha='right', va='baseline')\n",
    "#         ax.text(value+dx, i,     f'{value:,.0f}',  size=14, ha='left',  va='center')\n",
    "#     ax.text(1, 0.4, current_day, transform=ax.transAxes, color='#777777', size=46, ha='right', weight=800)\n",
    "#     ax.text(0, 1.06, 'Population (thousands)', transform=ax.transAxes, size=12, color='#777777')\n",
    "#     ax.xaxis.set_major_formatter(ticker.StrMethodFormatter('{x:,.0f}'))\n",
    "#     ax.xaxis.set_ticks_position('top')\n",
    "#     ax.tick_params(axis='x', colors='#777777', labelsize=12)\n",
    "#     ax.set_yticks([])\n",
    "#     ax.margins(0, 0.01)\n",
    "#     ax.grid(which='major', axis='x', linestyle='-')\n",
    "#     ax.set_axisbelow(True)\n",
    "    \n",
    "#     ax.text(0, 1.15, 'Coronavirus',\n",
    "#             transform=ax.transAxes, size=24, weight=600, ha='left', va='top')\n",
    "# #     ax.text(1, 0, 'by @pratapvardhan; credit @jburnmurdoch', transform=ax.transAxes, color='#777777', ha='right',\n",
    "# #             bbox=dict(facecolor='white', alpha=0.8, edgecolor='white'))\n",
    "#     plt.box(False)"
   ]
  },
  {
   "cell_type": "code",
   "execution_count": 42,
   "id": "sexual-wages",
   "metadata": {
    "execution": {
     "iopub.execute_input": "2022-12-01T12:18:16.264818Z",
     "iopub.status.busy": "2022-12-01T12:18:16.264242Z",
     "iopub.status.idle": "2022-12-01T12:18:16.266689Z",
     "shell.execute_reply": "2022-12-01T12:18:16.266248Z"
    },
    "papermill": {
     "duration": 0.036822,
     "end_time": "2022-12-01T12:18:16.266792",
     "exception": false,
     "start_time": "2022-12-01T12:18:16.229970",
     "status": "completed"
    },
    "tags": []
   },
   "outputs": [],
   "source": [
    "# #hide_input\n",
    "# fig, ax = plt.subplots(figsize=(15, 8))\n",
    "# animator = animation.FuncAnimation(fig, draw_barchart, frames=range(g.day.values.min(), g.day.values.max()))\n",
    "# HTML(animator.to_jshtml())\n",
    "# # or use animator.to_html5_video() or animator.save() "
   ]
  },
  {
   "cell_type": "code",
   "execution_count": null,
   "id": "australian-container",
   "metadata": {
    "papermill": {
     "duration": 0.031229,
     "end_time": "2022-12-01T12:18:16.329550",
     "exception": false,
     "start_time": "2022-12-01T12:18:16.298321",
     "status": "completed"
    },
    "tags": []
   },
   "outputs": [],
   "source": []
  },
  {
   "cell_type": "code",
   "execution_count": null,
   "id": "mediterranean-pontiac",
   "metadata": {
    "papermill": {
     "duration": 0.030869,
     "end_time": "2022-12-01T12:18:16.391304",
     "exception": false,
     "start_time": "2022-12-01T12:18:16.360435",
     "status": "completed"
    },
    "tags": []
   },
   "outputs": [],
   "source": []
  },
  {
   "cell_type": "code",
   "execution_count": null,
   "id": "aging-legislature",
   "metadata": {
    "papermill": {
     "duration": 0.031231,
     "end_time": "2022-12-01T12:18:16.453568",
     "exception": false,
     "start_time": "2022-12-01T12:18:16.422337",
     "status": "completed"
    },
    "tags": []
   },
   "outputs": [],
   "source": []
  }
 ],
 "metadata": {
  "kernelspec": {
   "display_name": "Python 3",
   "language": "python",
   "name": "python3"
  },
  "language_info": {
   "codemirror_mode": {
    "name": "ipython",
    "version": 3
   },
   "file_extension": ".py",
   "mimetype": "text/x-python",
   "name": "python",
   "nbconvert_exporter": "python",
   "pygments_lexer": "ipython3",
   "version": "3.6.15"
  },
  "papermill": {
   "duration": 5.996574,
   "end_time": "2022-12-01T12:18:16.802174",
   "environment_variables": {},
   "exception": null,
   "input_path": "2020-03-21-covid19exp.ipynb",
   "output_path": "2020-03-21-covid19exp.ipynb",
   "parameters": {},
   "start_time": "2022-12-01T12:18:10.805600",
   "version": "2.0.0"
  }
 },
 "nbformat": 4,
 "nbformat_minor": 5
}