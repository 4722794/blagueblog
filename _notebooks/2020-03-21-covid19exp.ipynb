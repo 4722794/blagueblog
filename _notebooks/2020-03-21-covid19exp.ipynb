{
 "cells": [
  {
   "cell_type": "markdown",
   "id": "muslim-click",
   "metadata": {
    "papermill": {
     "duration": 0.034739,
     "end_time": "2022-06-09T12:18:08.931954",
     "exception": false,
     "start_time": "2022-06-09T12:18:08.897215",
     "status": "completed"
    },
    "tags": []
   },
   "source": [
    "# COVID-19 Case Race\n",
    "> A race chart to see rising cases around the world\n",
    "\n",
    "- author: Hargun Oberoi\n",
    "- image: images/covid-overview.png\n",
    "- hide: false\n",
    "- badges: false"
   ]
  },
  {
   "cell_type": "code",
   "execution_count": 1,
   "id": "proof-material",
   "metadata": {
    "execution": {
     "iopub.execute_input": "2022-06-09T12:18:09.001648Z",
     "iopub.status.busy": "2022-06-09T12:18:09.001080Z",
     "iopub.status.idle": "2022-06-09T12:18:09.318648Z",
     "shell.execute_reply": "2022-06-09T12:18:09.318157Z"
    },
    "papermill": {
     "duration": 0.356411,
     "end_time": "2022-06-09T12:18:09.318774",
     "exception": false,
     "start_time": "2022-06-09T12:18:08.962363",
     "status": "completed"
    },
    "tags": []
   },
   "outputs": [],
   "source": [
    "#hide\n",
    "import numpy as np\n",
    "import pandas as pd\n",
    "from jinja2 import Template\n",
    "from IPython.display import HTML"
   ]
  },
  {
   "cell_type": "code",
   "execution_count": 2,
   "id": "developed-terminology",
   "metadata": {
    "execution": {
     "iopub.execute_input": "2022-06-09T12:18:09.383168Z",
     "iopub.status.busy": "2022-06-09T12:18:09.382594Z",
     "iopub.status.idle": "2022-06-09T12:18:09.385236Z",
     "shell.execute_reply": "2022-06-09T12:18:09.384787Z"
    },
    "papermill": {
     "duration": 0.03655,
     "end_time": "2022-06-09T12:18:09.385338",
     "exception": false,
     "start_time": "2022-06-09T12:18:09.348788",
     "status": "completed"
    },
    "tags": []
   },
   "outputs": [],
   "source": [
    "#hide\n",
    "\n",
    "# FETCH\n",
    "base_url = 'https://raw.githubusercontent.com/pratapvardhan/notebooks/master/covid19/'\n",
    "paths = {\n",
    "    'mapping': base_url + 'mapping_countries.csv',\n",
    "    'overview': base_url + 'overview.tpl'\n",
    "}"
   ]
  },
  {
   "cell_type": "code",
   "execution_count": 3,
   "id": "dynamic-saver",
   "metadata": {
    "execution": {
     "iopub.execute_input": "2022-06-09T12:18:09.452789Z",
     "iopub.status.busy": "2022-06-09T12:18:09.452225Z",
     "iopub.status.idle": "2022-06-09T12:18:09.456441Z",
     "shell.execute_reply": "2022-06-09T12:18:09.455984Z"
    },
    "papermill": {
     "duration": 0.041484,
     "end_time": "2022-06-09T12:18:09.456542",
     "exception": false,
     "start_time": "2022-06-09T12:18:09.415058",
     "status": "completed"
    },
    "tags": []
   },
   "outputs": [
    {
     "data": {
      "text/plain": [
       "'https://raw.githubusercontent.com/pratapvardhan/notebooks/master/covid19/mapping_countries.csv'"
      ]
     },
     "execution_count": 3,
     "metadata": {},
     "output_type": "execute_result"
    }
   ],
   "source": [
    "#hide\n",
    "paths['mapping']"
   ]
  },
  {
   "cell_type": "code",
   "execution_count": 4,
   "id": "urban-software",
   "metadata": {
    "execution": {
     "iopub.execute_input": "2022-06-09T12:18:09.521925Z",
     "iopub.status.busy": "2022-06-09T12:18:09.521343Z",
     "iopub.status.idle": "2022-06-09T12:18:09.523822Z",
     "shell.execute_reply": "2022-06-09T12:18:09.523377Z"
    },
    "papermill": {
     "duration": 0.037212,
     "end_time": "2022-06-09T12:18:09.523921",
     "exception": false,
     "start_time": "2022-06-09T12:18:09.486709",
     "status": "completed"
    },
    "tags": []
   },
   "outputs": [],
   "source": [
    "#hide\n",
    "def get_mappings(url):\n",
    "    df = pd.read_csv(url)\n",
    "    return {\n",
    "        'df': df,\n",
    "        'replace.country': dict(df.dropna(subset=['Name']).set_index('Country')['Name']),\n",
    "        'map.continent': dict(df.set_index('Name')['Continent'])\n",
    "    }"
   ]
  },
  {
   "cell_type": "code",
   "execution_count": 5,
   "id": "intimate-machinery",
   "metadata": {
    "execution": {
     "iopub.execute_input": "2022-06-09T12:18:09.589505Z",
     "iopub.status.busy": "2022-06-09T12:18:09.588934Z",
     "iopub.status.idle": "2022-06-09T12:18:09.633664Z",
     "shell.execute_reply": "2022-06-09T12:18:09.633185Z"
    },
    "papermill": {
     "duration": 0.079565,
     "end_time": "2022-06-09T12:18:09.633770",
     "exception": false,
     "start_time": "2022-06-09T12:18:09.554205",
     "status": "completed"
    },
    "tags": []
   },
   "outputs": [],
   "source": [
    "#hide\n",
    "mapping = get_mappings(paths['mapping'])"
   ]
  },
  {
   "cell_type": "code",
   "execution_count": 6,
   "id": "certified-tactics",
   "metadata": {
    "execution": {
     "iopub.execute_input": "2022-06-09T12:18:09.698479Z",
     "iopub.status.busy": "2022-06-09T12:18:09.696351Z",
     "iopub.status.idle": "2022-06-09T12:18:09.700863Z",
     "shell.execute_reply": "2022-06-09T12:18:09.700421Z"
    },
    "papermill": {
     "duration": 0.037009,
     "end_time": "2022-06-09T12:18:09.700964",
     "exception": false,
     "start_time": "2022-06-09T12:18:09.663955",
     "status": "completed"
    },
    "tags": []
   },
   "outputs": [],
   "source": [
    "#hide\n",
    "def get_template(path):\n",
    "    from urllib.parse import urlparse\n",
    "    if bool(urlparse(path).netloc):\n",
    "        from urllib.request import urlopen\n",
    "        return urlopen(path).read().decode('utf8')\n",
    "    return open(path).read()"
   ]
  },
  {
   "cell_type": "code",
   "execution_count": 7,
   "id": "realistic-blast",
   "metadata": {
    "execution": {
     "iopub.execute_input": "2022-06-09T12:18:09.766059Z",
     "iopub.status.busy": "2022-06-09T12:18:09.765489Z",
     "iopub.status.idle": "2022-06-09T12:18:09.767937Z",
     "shell.execute_reply": "2022-06-09T12:18:09.767484Z"
    },
    "papermill": {
     "duration": 0.036731,
     "end_time": "2022-06-09T12:18:09.768040",
     "exception": false,
     "start_time": "2022-06-09T12:18:09.731309",
     "status": "completed"
    },
    "tags": []
   },
   "outputs": [],
   "source": [
    "#hide\n",
    "def get_frame(name):\n",
    "    url = (\n",
    "        'https://raw.githubusercontent.com/CSSEGISandData/COVID-19/master/csse_covid_19_data/'\n",
    "        f'csse_covid_19_time_series/time_series_covid19_{name}_global.csv')\n",
    "    df = pd.read_csv(url)\n",
    "    # rename countries\n",
    "    df['Country/Region'] = df['Country/Region'].replace(mapping['replace.country'])\n",
    "    return df"
   ]
  },
  {
   "cell_type": "code",
   "execution_count": 8,
   "id": "affiliated-characterization",
   "metadata": {
    "execution": {
     "iopub.execute_input": "2022-06-09T12:18:09.834204Z",
     "iopub.status.busy": "2022-06-09T12:18:09.833603Z",
     "iopub.status.idle": "2022-06-09T12:18:09.836053Z",
     "shell.execute_reply": "2022-06-09T12:18:09.835614Z"
    },
    "papermill": {
     "duration": 0.037926,
     "end_time": "2022-06-09T12:18:09.836152",
     "exception": false,
     "start_time": "2022-06-09T12:18:09.798226",
     "status": "completed"
    },
    "tags": []
   },
   "outputs": [],
   "source": [
    "#hide\n",
    "def get_dates(df):\n",
    "    dt_cols = df.columns[~df.columns.isin(['Province/State', 'Country/Region', 'Lat', 'Long'])]\n",
    "    LAST_DATE_I = -1\n",
    "    # sometimes last column may be empty, then go backwards\n",
    "    for i in range(-1, -len(dt_cols), -1):\n",
    "        if not df[dt_cols[i]].fillna(0).eq(0).all():\n",
    "            LAST_DATE_I = i\n",
    "            break\n",
    "    return LAST_DATE_I, dt_cols"
   ]
  },
  {
   "cell_type": "code",
   "execution_count": 9,
   "id": "recent-optimization",
   "metadata": {
    "execution": {
     "iopub.execute_input": "2022-06-09T12:18:09.901380Z",
     "iopub.status.busy": "2022-06-09T12:18:09.900805Z",
     "iopub.status.idle": "2022-06-09T12:18:10.405002Z",
     "shell.execute_reply": "2022-06-09T12:18:10.404525Z"
    },
    "papermill": {
     "duration": 0.539014,
     "end_time": "2022-06-09T12:18:10.405121",
     "exception": false,
     "start_time": "2022-06-09T12:18:09.866107",
     "status": "completed"
    },
    "tags": []
   },
   "outputs": [],
   "source": [
    "#hide\n",
    "COL_REGION = 'Country/Region'\n",
    "# Confirmed, Recovered, Deaths\n",
    "df = get_frame('confirmed')\n",
    "# dft_: timeseries, dfc_: today country agg\n",
    "dft_cases = df\n",
    "dft_deaths = get_frame('deaths')\n",
    "dft_recovered = get_frame('recovered')\n",
    "LAST_DATE_I, dt_cols = get_dates(df)"
   ]
  },
  {
   "cell_type": "code",
   "execution_count": 10,
   "id": "absolute-copper",
   "metadata": {
    "execution": {
     "iopub.execute_input": "2022-06-09T12:18:10.470909Z",
     "iopub.status.busy": "2022-06-09T12:18:10.470341Z",
     "iopub.status.idle": "2022-06-09T12:18:10.472634Z",
     "shell.execute_reply": "2022-06-09T12:18:10.472120Z"
    },
    "papermill": {
     "duration": 0.037297,
     "end_time": "2022-06-09T12:18:10.472734",
     "exception": false,
     "start_time": "2022-06-09T12:18:10.435437",
     "status": "completed"
    },
    "tags": []
   },
   "outputs": [],
   "source": [
    "#hide\n",
    "LAST_DATE_I, dt_cols = get_dates(df)\n",
    "dt_today =dt_cols[LAST_DATE_I]\n",
    "# dt_5day = dt_cols[LAST_DATE_I - 5]\n",
    "dt_yday = dt_cols[LAST_DATE_I - 1]"
   ]
  },
  {
   "cell_type": "code",
   "execution_count": 11,
   "id": "restricted-sheriff",
   "metadata": {
    "execution": {
     "iopub.execute_input": "2022-06-09T12:18:10.537692Z",
     "iopub.status.busy": "2022-06-09T12:18:10.537129Z",
     "iopub.status.idle": "2022-06-09T12:18:10.544119Z",
     "shell.execute_reply": "2022-06-09T12:18:10.544545Z"
    },
    "papermill": {
     "duration": 0.042068,
     "end_time": "2022-06-09T12:18:10.544667",
     "exception": false,
     "start_time": "2022-06-09T12:18:10.502599",
     "status": "completed"
    },
    "tags": []
   },
   "outputs": [],
   "source": [
    "#hide\n",
    "dfc_cases = dft_cases.groupby(COL_REGION)[dt_today].sum()\n",
    "dfc_deaths = dft_deaths.groupby(COL_REGION)[dt_today].sum()\n",
    "# dfp_cases = dft_cases.groupby(COL_REGION)[dt_5day].sum()\n",
    "# dfp_deaths = dft_deaths.groupby(COL_REGION)[dt_5day].sum()\n",
    "dfp_cases = dft_cases.groupby(COL_REGION)[dt_yday].sum()\n",
    "dfp_deaths = dft_deaths.groupby(COL_REGION)[dt_yday].sum()"
   ]
  },
  {
   "cell_type": "code",
   "execution_count": 12,
   "id": "deluxe-hepatitis",
   "metadata": {
    "execution": {
     "iopub.execute_input": "2022-06-09T12:18:10.610537Z",
     "iopub.status.busy": "2022-06-09T12:18:10.609959Z",
     "iopub.status.idle": "2022-06-09T12:18:10.614559Z",
     "shell.execute_reply": "2022-06-09T12:18:10.614001Z"
    },
    "papermill": {
     "duration": 0.03994,
     "end_time": "2022-06-09T12:18:10.614661",
     "exception": false,
     "start_time": "2022-06-09T12:18:10.574721",
     "status": "completed"
    },
    "tags": []
   },
   "outputs": [],
   "source": [
    "#hide\n",
    "df_table = (pd.DataFrame(dict(Cases = dfc_cases, Deaths = dfc_deaths, PCases = dfp_cases, PDeaths = dfp_deaths))\n",
    "            .sort_values(by = ['Cases','Deaths'], ascending = [False, False])\n",
    "            .reset_index())"
   ]
  },
  {
   "cell_type": "code",
   "execution_count": 13,
   "id": "educational-chancellor",
   "metadata": {
    "execution": {
     "iopub.execute_input": "2022-06-09T12:18:10.687098Z",
     "iopub.status.busy": "2022-06-09T12:18:10.686528Z",
     "iopub.status.idle": "2022-06-09T12:18:10.698022Z",
     "shell.execute_reply": "2022-06-09T12:18:10.698497Z"
    },
    "papermill": {
     "duration": 0.053986,
     "end_time": "2022-06-09T12:18:10.698623",
     "exception": false,
     "start_time": "2022-06-09T12:18:10.644637",
     "status": "completed"
    },
    "tags": []
   },
   "outputs": [
    {
     "data": {
      "text/html": [
       "<div>\n",
       "<style scoped>\n",
       "    .dataframe tbody tr th:only-of-type {\n",
       "        vertical-align: middle;\n",
       "    }\n",
       "\n",
       "    .dataframe tbody tr th {\n",
       "        vertical-align: top;\n",
       "    }\n",
       "\n",
       "    .dataframe thead th {\n",
       "        text-align: right;\n",
       "    }\n",
       "</style>\n",
       "<table border=\"1\" class=\"dataframe\">\n",
       "  <thead>\n",
       "    <tr style=\"text-align: right;\">\n",
       "      <th></th>\n",
       "      <th>Country/Region</th>\n",
       "      <th>Cases</th>\n",
       "      <th>Deaths</th>\n",
       "      <th>PCases</th>\n",
       "      <th>PDeaths</th>\n",
       "      <th>Cases (+)</th>\n",
       "      <th>Deaths (+)</th>\n",
       "      <th>Fatality Rate</th>\n",
       "      <th>Continent</th>\n",
       "    </tr>\n",
       "  </thead>\n",
       "  <tbody>\n",
       "    <tr>\n",
       "      <th>0</th>\n",
       "      <td>US</td>\n",
       "      <td>85214036</td>\n",
       "      <td>1010520</td>\n",
       "      <td>85003945</td>\n",
       "      <td>1009326</td>\n",
       "      <td>210091</td>\n",
       "      <td>1194</td>\n",
       "      <td>1.19</td>\n",
       "      <td>North America</td>\n",
       "    </tr>\n",
       "    <tr>\n",
       "      <th>1</th>\n",
       "      <td>India</td>\n",
       "      <td>43197522</td>\n",
       "      <td>524723</td>\n",
       "      <td>43190282</td>\n",
       "      <td>524715</td>\n",
       "      <td>7240</td>\n",
       "      <td>8</td>\n",
       "      <td>1.21</td>\n",
       "      <td>Asia</td>\n",
       "    </tr>\n",
       "    <tr>\n",
       "      <th>2</th>\n",
       "      <td>Brazil</td>\n",
       "      <td>31315777</td>\n",
       "      <td>667647</td>\n",
       "      <td>31266163</td>\n",
       "      <td>667348</td>\n",
       "      <td>49614</td>\n",
       "      <td>299</td>\n",
       "      <td>2.13</td>\n",
       "      <td>South America</td>\n",
       "    </tr>\n",
       "    <tr>\n",
       "      <th>3</th>\n",
       "      <td>France</td>\n",
       "      <td>29906452</td>\n",
       "      <td>149707</td>\n",
       "      <td>29852463</td>\n",
       "      <td>149630</td>\n",
       "      <td>53989</td>\n",
       "      <td>77</td>\n",
       "      <td>0.50</td>\n",
       "      <td>Europe</td>\n",
       "    </tr>\n",
       "    <tr>\n",
       "      <th>4</th>\n",
       "      <td>Germany</td>\n",
       "      <td>26660652</td>\n",
       "      <td>139623</td>\n",
       "      <td>26583016</td>\n",
       "      <td>139533</td>\n",
       "      <td>77636</td>\n",
       "      <td>90</td>\n",
       "      <td>0.52</td>\n",
       "      <td>Europe</td>\n",
       "    </tr>\n",
       "  </tbody>\n",
       "</table>\n",
       "</div>"
      ],
      "text/plain": [
       "  Country/Region     Cases   Deaths    PCases  PDeaths  Cases (+)  Deaths (+)  \\\n",
       "0             US  85214036  1010520  85003945  1009326     210091        1194   \n",
       "1          India  43197522   524723  43190282   524715       7240           8   \n",
       "2         Brazil  31315777   667647  31266163   667348      49614         299   \n",
       "3         France  29906452   149707  29852463   149630      53989          77   \n",
       "4        Germany  26660652   139623  26583016   139533      77636          90   \n",
       "\n",
       "   Fatality Rate      Continent  \n",
       "0           1.19  North America  \n",
       "1           1.21           Asia  \n",
       "2           2.13  South America  \n",
       "3           0.50         Europe  \n",
       "4           0.52         Europe  "
      ]
     },
     "execution_count": 13,
     "metadata": {},
     "output_type": "execute_result"
    }
   ],
   "source": [
    "#hide\n",
    "for c in 'Cases, Deaths'.split(', '):\n",
    "    df_table[f'{c} (+)'] = (df_table[c] - df_table[f'P{c}']).clip(0)\n",
    "    #Clip ça veut dire, les chiffres negatif sont interdit\n",
    "df_table['Fatality Rate'] = (100* df_table['Deaths']/ df_table['Cases']).round(2)\n",
    "df_table['Continent'] = df_table['Country/Region'].map(mapping['map.continent'])\n",
    "df_table.head(5)"
   ]
  },
  {
   "cell_type": "code",
   "execution_count": 14,
   "id": "aboriginal-bulgaria",
   "metadata": {
    "execution": {
     "iopub.execute_input": "2022-06-09T12:18:10.765092Z",
     "iopub.status.busy": "2022-06-09T12:18:10.764505Z",
     "iopub.status.idle": "2022-06-09T12:18:10.766960Z",
     "shell.execute_reply": "2022-06-09T12:18:10.766521Z"
    },
    "papermill": {
     "duration": 0.037808,
     "end_time": "2022-06-09T12:18:10.767061",
     "exception": false,
     "start_time": "2022-06-09T12:18:10.729253",
     "status": "completed"
    },
    "tags": []
   },
   "outputs": [],
   "source": [
    "#hide\n",
    "#delete problematic countries from table\n",
    "df_table = df_table[~df_table['Country/Region'].isin(['Cape Verde', 'Cruise Ship', 'Kosovo'])]"
   ]
  },
  {
   "cell_type": "code",
   "execution_count": 15,
   "id": "fantastic-effect",
   "metadata": {
    "execution": {
     "iopub.execute_input": "2022-06-09T12:18:10.835981Z",
     "iopub.status.busy": "2022-06-09T12:18:10.835423Z",
     "iopub.status.idle": "2022-06-09T12:18:10.852495Z",
     "shell.execute_reply": "2022-06-09T12:18:10.852036Z"
    },
    "papermill": {
     "duration": 0.054877,
     "end_time": "2022-06-09T12:18:10.852596",
     "exception": false,
     "start_time": "2022-06-09T12:18:10.797719",
     "status": "completed"
    },
    "tags": []
   },
   "outputs": [
    {
     "data": {
      "text/html": [
       "<div>\n",
       "<style scoped>\n",
       "    .dataframe tbody tr th:only-of-type {\n",
       "        vertical-align: middle;\n",
       "    }\n",
       "\n",
       "    .dataframe tbody tr th {\n",
       "        vertical-align: top;\n",
       "    }\n",
       "\n",
       "    .dataframe thead th {\n",
       "        text-align: right;\n",
       "    }\n",
       "</style>\n",
       "<table border=\"1\" class=\"dataframe\">\n",
       "  <thead>\n",
       "    <tr style=\"text-align: right;\">\n",
       "      <th></th>\n",
       "      <th>Country/Region</th>\n",
       "      <th>Cases</th>\n",
       "      <th>Deaths</th>\n",
       "      <th>PCases</th>\n",
       "      <th>PDeaths</th>\n",
       "      <th>Cases (+)</th>\n",
       "      <th>Deaths (+)</th>\n",
       "      <th>Fatality Rate</th>\n",
       "      <th>Continent</th>\n",
       "    </tr>\n",
       "  </thead>\n",
       "  <tbody>\n",
       "    <tr>\n",
       "      <th>0</th>\n",
       "      <td>US</td>\n",
       "      <td>85214036</td>\n",
       "      <td>1010520</td>\n",
       "      <td>85003945</td>\n",
       "      <td>1009326</td>\n",
       "      <td>210091</td>\n",
       "      <td>1194</td>\n",
       "      <td>1.2</td>\n",
       "      <td>North America</td>\n",
       "    </tr>\n",
       "    <tr>\n",
       "      <th>1</th>\n",
       "      <td>India</td>\n",
       "      <td>43197522</td>\n",
       "      <td>524723</td>\n",
       "      <td>43190282</td>\n",
       "      <td>524715</td>\n",
       "      <td>7240</td>\n",
       "      <td>8</td>\n",
       "      <td>1.2</td>\n",
       "      <td>Asia</td>\n",
       "    </tr>\n",
       "    <tr>\n",
       "      <th>2</th>\n",
       "      <td>Brazil</td>\n",
       "      <td>31315777</td>\n",
       "      <td>667647</td>\n",
       "      <td>31266163</td>\n",
       "      <td>667348</td>\n",
       "      <td>49614</td>\n",
       "      <td>299</td>\n",
       "      <td>2.1</td>\n",
       "      <td>South America</td>\n",
       "    </tr>\n",
       "    <tr>\n",
       "      <th>3</th>\n",
       "      <td>France</td>\n",
       "      <td>29906452</td>\n",
       "      <td>149707</td>\n",
       "      <td>29852463</td>\n",
       "      <td>149630</td>\n",
       "      <td>53989</td>\n",
       "      <td>77</td>\n",
       "      <td>0.5</td>\n",
       "      <td>Europe</td>\n",
       "    </tr>\n",
       "    <tr>\n",
       "      <th>4</th>\n",
       "      <td>Germany</td>\n",
       "      <td>26660652</td>\n",
       "      <td>139623</td>\n",
       "      <td>26583016</td>\n",
       "      <td>139533</td>\n",
       "      <td>77636</td>\n",
       "      <td>90</td>\n",
       "      <td>0.5</td>\n",
       "      <td>Europe</td>\n",
       "    </tr>\n",
       "  </tbody>\n",
       "</table>\n",
       "</div>"
      ],
      "text/plain": [
       "  Country/Region     Cases   Deaths    PCases  PDeaths  Cases (+)  Deaths (+)  \\\n",
       "0             US  85214036  1010520  85003945  1009326     210091        1194   \n",
       "1          India  43197522   524723  43190282   524715       7240           8   \n",
       "2         Brazil  31315777   667647  31266163   667348      49614         299   \n",
       "3         France  29906452   149707  29852463   149630      53989          77   \n",
       "4        Germany  26660652   139623  26583016   139533      77636          90   \n",
       "\n",
       "   Fatality Rate      Continent  \n",
       "0            1.2  North America  \n",
       "1            1.2           Asia  \n",
       "2            2.1  South America  \n",
       "3            0.5         Europe  \n",
       "4            0.5         Europe  "
      ]
     },
     "execution_count": 15,
     "metadata": {},
     "output_type": "execute_result"
    }
   ],
   "source": [
    "#hide\n",
    "df_table = (pd.DataFrame(dict(Cases=dfc_cases, Deaths=dfc_deaths, PCases=dfp_cases, PDeaths=dfp_deaths))\n",
    "             .sort_values(by=['Cases', 'Deaths'], ascending=[False, False])\n",
    "             .reset_index())\n",
    "df_table.rename(columns={'index': 'Country/Region'}, inplace=True)\n",
    "for c in 'Cases, Deaths'.split(', '):\n",
    "    df_table[f'{c} (+)'] = (df_table[c] - df_table[f'P{c}']).clip(0)  # DATA BUG\n",
    "df_table['Fatality Rate'] = (100 * df_table['Deaths'] / df_table['Cases']).round(1)\n",
    "df_table['Continent'] = df_table['Country/Region'].map(mapping['map.continent'])\n",
    "df_table.head(5)"
   ]
  },
  {
   "cell_type": "code",
   "execution_count": 16,
   "id": "fewer-occasion",
   "metadata": {
    "execution": {
     "iopub.execute_input": "2022-06-09T12:18:10.920548Z",
     "iopub.status.busy": "2022-06-09T12:18:10.919977Z",
     "iopub.status.idle": "2022-06-09T12:18:10.922224Z",
     "shell.execute_reply": "2022-06-09T12:18:10.922659Z"
    },
    "papermill": {
     "duration": 0.038874,
     "end_time": "2022-06-09T12:18:10.922774",
     "exception": false,
     "start_time": "2022-06-09T12:18:10.883900",
     "status": "completed"
    },
    "tags": []
   },
   "outputs": [],
   "source": [
    "#hide\n",
    "#delete problematic countries from table\n",
    "df_table = df_table[~df_table['Country/Region'].isin(['Cape Verde', 'Cruise Ship', 'Kosovo'])]"
   ]
  },
  {
   "cell_type": "code",
   "execution_count": 17,
   "id": "related-center",
   "metadata": {
    "execution": {
     "iopub.execute_input": "2022-06-09T12:18:10.991165Z",
     "iopub.status.busy": "2022-06-09T12:18:10.990603Z",
     "iopub.status.idle": "2022-06-09T12:18:11.003741Z",
     "shell.execute_reply": "2022-06-09T12:18:11.003191Z"
    },
    "papermill": {
     "duration": 0.050121,
     "end_time": "2022-06-09T12:18:11.003845",
     "exception": false,
     "start_time": "2022-06-09T12:18:10.953724",
     "status": "completed"
    },
    "tags": []
   },
   "outputs": [],
   "source": [
    "#hide\n",
    "metrics = [df_table.columns[index] for index in [1,2,5,6]]\n",
    "# s_china = df_table[df_table['Country/Region'].eq('China')][metrics].sum().add_prefix('China ')\n",
    "s_us = df_table[df_table['Country/Region'].eq('US')][metrics].sum().add_prefix('US ')\n",
    "s_eu = df_table[df_table['Continent'].eq('Europe')][metrics].sum().add_prefix('EU ')\n",
    "s_ind = df_table[df_table['Country/Region'].eq('India')][metrics].sum().add_prefix('India ')\n",
    "summary = {'updated': pd.to_datetime(dt_today), 'since': pd.to_datetime(dt_yday)}\n",
    "summary = {'updated': pd.to_datetime(dt_today), 'since': pd.to_datetime(dt_yday)}\n",
    "summary = {**summary, **df_table[metrics].sum(), **s_ind, **s_us, **s_eu}"
   ]
  },
  {
   "cell_type": "code",
   "execution_count": 18,
   "id": "engaging-syndrome",
   "metadata": {
    "execution": {
     "iopub.execute_input": "2022-06-09T12:18:11.070912Z",
     "iopub.status.busy": "2022-06-09T12:18:11.070349Z",
     "iopub.status.idle": "2022-06-09T12:18:11.088364Z",
     "shell.execute_reply": "2022-06-09T12:18:11.087884Z"
    },
    "papermill": {
     "duration": 0.053551,
     "end_time": "2022-06-09T12:18:11.088473",
     "exception": false,
     "start_time": "2022-06-09T12:18:11.034922",
     "status": "completed"
    },
    "tags": []
   },
   "outputs": [],
   "source": [
    "#hide\n",
    "dft_ct_new_cases = dft_cases.groupby(COL_REGION)[dt_cols].sum().diff(axis=1).fillna(0).astype(int)"
   ]
  },
  {
   "cell_type": "code",
   "execution_count": 19,
   "id": "neutral-assignment",
   "metadata": {
    "execution": {
     "iopub.execute_input": "2022-06-09T12:18:11.156777Z",
     "iopub.status.busy": "2022-06-09T12:18:11.156203Z",
     "iopub.status.idle": "2022-06-09T12:18:11.158587Z",
     "shell.execute_reply": "2022-06-09T12:18:11.158024Z"
    },
    "papermill": {
     "duration": 0.039003,
     "end_time": "2022-06-09T12:18:11.158691",
     "exception": false,
     "start_time": "2022-06-09T12:18:11.119688",
     "status": "completed"
    },
    "tags": []
   },
   "outputs": [],
   "source": [
    "#hide\n",
    "everydaycases = dft_ct_new_cases.cumsum(axis=1)"
   ]
  },
  {
   "cell_type": "code",
   "execution_count": 20,
   "id": "parliamentary-calgary",
   "metadata": {
    "execution": {
     "iopub.execute_input": "2022-06-09T12:18:11.225378Z",
     "iopub.status.busy": "2022-06-09T12:18:11.224812Z",
     "iopub.status.idle": "2022-06-09T12:18:11.765157Z",
     "shell.execute_reply": "2022-06-09T12:18:11.764677Z"
    },
    "papermill": {
     "duration": 0.575237,
     "end_time": "2022-06-09T12:18:11.765275",
     "exception": false,
     "start_time": "2022-06-09T12:18:11.190038",
     "status": "completed"
    },
    "tags": []
   },
   "outputs": [],
   "source": [
    "#hide\n",
    "import pandas as pd\n",
    "import matplotlib.pyplot as plt\n",
    "import matplotlib.ticker as ticker\n",
    "import matplotlib.animation as animation\n",
    "from IPython.display import HTML"
   ]
  },
  {
   "cell_type": "code",
   "execution_count": 21,
   "id": "lasting-extraction",
   "metadata": {
    "execution": {
     "iopub.execute_input": "2022-06-09T12:18:11.833033Z",
     "iopub.status.busy": "2022-06-09T12:18:11.832479Z",
     "iopub.status.idle": "2022-06-09T12:18:11.838622Z",
     "shell.execute_reply": "2022-06-09T12:18:11.839068Z"
    },
    "papermill": {
     "duration": 0.042966,
     "end_time": "2022-06-09T12:18:11.839190",
     "exception": false,
     "start_time": "2022-06-09T12:18:11.796224",
     "status": "completed"
    },
    "tags": []
   },
   "outputs": [],
   "source": [
    "#hide\n",
    "t = everydaycases.stack()"
   ]
  },
  {
   "cell_type": "code",
   "execution_count": 22,
   "id": "premier-sleeve",
   "metadata": {
    "execution": {
     "iopub.execute_input": "2022-06-09T12:18:11.905478Z",
     "iopub.status.busy": "2022-06-09T12:18:11.904927Z",
     "iopub.status.idle": "2022-06-09T12:18:11.915198Z",
     "shell.execute_reply": "2022-06-09T12:18:11.915641Z"
    },
    "papermill": {
     "duration": 0.045299,
     "end_time": "2022-06-09T12:18:11.915758",
     "exception": false,
     "start_time": "2022-06-09T12:18:11.870459",
     "status": "completed"
    },
    "tags": []
   },
   "outputs": [],
   "source": [
    "#hide\n",
    "g = t.reset_index(['Country/Region'])"
   ]
  },
  {
   "cell_type": "code",
   "execution_count": 23,
   "id": "distributed-pittsburgh",
   "metadata": {
    "execution": {
     "iopub.execute_input": "2022-06-09T12:18:11.981778Z",
     "iopub.status.busy": "2022-06-09T12:18:11.981212Z",
     "iopub.status.idle": "2022-06-09T12:18:11.983641Z",
     "shell.execute_reply": "2022-06-09T12:18:11.983202Z"
    },
    "papermill": {
     "duration": 0.036956,
     "end_time": "2022-06-09T12:18:11.983741",
     "exception": false,
     "start_time": "2022-06-09T12:18:11.946785",
     "status": "completed"
    },
    "tags": []
   },
   "outputs": [],
   "source": [
    "#hide\n",
    "g.index.name = 'date'"
   ]
  },
  {
   "cell_type": "code",
   "execution_count": 24,
   "id": "naked-donor",
   "metadata": {
    "execution": {
     "iopub.execute_input": "2022-06-09T12:18:12.049226Z",
     "iopub.status.busy": "2022-06-09T12:18:12.048630Z",
     "iopub.status.idle": "2022-06-09T12:18:12.050987Z",
     "shell.execute_reply": "2022-06-09T12:18:12.050465Z"
    },
    "papermill": {
     "duration": 0.036238,
     "end_time": "2022-06-09T12:18:12.051086",
     "exception": false,
     "start_time": "2022-06-09T12:18:12.014848",
     "status": "completed"
    },
    "tags": []
   },
   "outputs": [],
   "source": [
    "# #hide\n",
    "# g = g.reset_index(['date'])"
   ]
  },
  {
   "cell_type": "code",
   "execution_count": 25,
   "id": "incomplete-mustang",
   "metadata": {
    "execution": {
     "iopub.execute_input": "2022-06-09T12:18:12.116628Z",
     "iopub.status.busy": "2022-06-09T12:18:12.116055Z",
     "iopub.status.idle": "2022-06-09T12:18:12.118217Z",
     "shell.execute_reply": "2022-06-09T12:18:12.117781Z"
    },
    "papermill": {
     "duration": 0.03641,
     "end_time": "2022-06-09T12:18:12.118319",
     "exception": false,
     "start_time": "2022-06-09T12:18:12.081909",
     "status": "completed"
    },
    "tags": []
   },
   "outputs": [],
   "source": [
    "#hide\n",
    "# g.head()"
   ]
  },
  {
   "cell_type": "code",
   "execution_count": 26,
   "id": "specific-kruger",
   "metadata": {
    "execution": {
     "iopub.execute_input": "2022-06-09T12:18:12.184188Z",
     "iopub.status.busy": "2022-06-09T12:18:12.183616Z",
     "iopub.status.idle": "2022-06-09T12:18:12.185975Z",
     "shell.execute_reply": "2022-06-09T12:18:12.185447Z"
    },
    "papermill": {
     "duration": 0.036563,
     "end_time": "2022-06-09T12:18:12.186075",
     "exception": false,
     "start_time": "2022-06-09T12:18:12.149512",
     "status": "completed"
    },
    "tags": []
   },
   "outputs": [],
   "source": [
    "#hide\n",
    "# g.columns = ['date','country','cases']"
   ]
  },
  {
   "cell_type": "code",
   "execution_count": 27,
   "id": "tender-conversion",
   "metadata": {
    "execution": {
     "iopub.execute_input": "2022-06-09T12:18:12.251794Z",
     "iopub.status.busy": "2022-06-09T12:18:12.251232Z",
     "iopub.status.idle": "2022-06-09T12:18:12.253704Z",
     "shell.execute_reply": "2022-06-09T12:18:12.253250Z"
    },
    "papermill": {
     "duration": 0.036758,
     "end_time": "2022-06-09T12:18:12.253805",
     "exception": false,
     "start_time": "2022-06-09T12:18:12.217047",
     "status": "completed"
    },
    "tags": []
   },
   "outputs": [],
   "source": [
    "#hide\n",
    "# g['continent'] = g.country"
   ]
  },
  {
   "cell_type": "code",
   "execution_count": 28,
   "id": "substantial-wilderness",
   "metadata": {
    "execution": {
     "iopub.execute_input": "2022-06-09T12:18:12.319996Z",
     "iopub.status.busy": "2022-06-09T12:18:12.319426Z",
     "iopub.status.idle": "2022-06-09T12:18:12.321727Z",
     "shell.execute_reply": "2022-06-09T12:18:12.321203Z"
    },
    "papermill": {
     "duration": 0.036736,
     "end_time": "2022-06-09T12:18:12.321826",
     "exception": false,
     "start_time": "2022-06-09T12:18:12.285090",
     "status": "completed"
    },
    "tags": []
   },
   "outputs": [],
   "source": [
    "#hide\n",
    "# cols = list(g.columns.values)"
   ]
  },
  {
   "cell_type": "code",
   "execution_count": 29,
   "id": "solved-farming",
   "metadata": {
    "execution": {
     "iopub.execute_input": "2022-06-09T12:18:12.387454Z",
     "iopub.status.busy": "2022-06-09T12:18:12.386895Z",
     "iopub.status.idle": "2022-06-09T12:18:12.389263Z",
     "shell.execute_reply": "2022-06-09T12:18:12.388829Z"
    },
    "papermill": {
     "duration": 0.036555,
     "end_time": "2022-06-09T12:18:12.389361",
     "exception": false,
     "start_time": "2022-06-09T12:18:12.352806",
     "status": "completed"
    },
    "tags": []
   },
   "outputs": [],
   "source": [
    "#hide\n",
    "# cols.insert(0, cols.pop())"
   ]
  },
  {
   "cell_type": "code",
   "execution_count": 30,
   "id": "executed-adoption",
   "metadata": {
    "execution": {
     "iopub.execute_input": "2022-06-09T12:18:12.455993Z",
     "iopub.status.busy": "2022-06-09T12:18:12.455410Z",
     "iopub.status.idle": "2022-06-09T12:18:12.456765Z",
     "shell.execute_reply": "2022-06-09T12:18:12.457210Z"
    },
    "papermill": {
     "duration": 0.036791,
     "end_time": "2022-06-09T12:18:12.457333",
     "exception": false,
     "start_time": "2022-06-09T12:18:12.420542",
     "status": "completed"
    },
    "tags": []
   },
   "outputs": [],
   "source": [
    "#hide\n",
    "# g = g[cols]"
   ]
  },
  {
   "cell_type": "code",
   "execution_count": 31,
   "id": "subject-dublin",
   "metadata": {
    "execution": {
     "iopub.execute_input": "2022-06-09T12:18:12.522995Z",
     "iopub.status.busy": "2022-06-09T12:18:12.522419Z",
     "iopub.status.idle": "2022-06-09T12:18:12.524697Z",
     "shell.execute_reply": "2022-06-09T12:18:12.524171Z"
    },
    "papermill": {
     "duration": 0.036412,
     "end_time": "2022-06-09T12:18:12.524795",
     "exception": false,
     "start_time": "2022-06-09T12:18:12.488383",
     "status": "completed"
    },
    "tags": []
   },
   "outputs": [],
   "source": [
    "#hide\n",
    "# g['continent'] = g['continent'].map(mapping['map.continent'])"
   ]
  },
  {
   "cell_type": "code",
   "execution_count": 32,
   "id": "freelance-scout",
   "metadata": {
    "execution": {
     "iopub.execute_input": "2022-06-09T12:18:12.590683Z",
     "iopub.status.busy": "2022-06-09T12:18:12.590087Z",
     "iopub.status.idle": "2022-06-09T12:18:12.592559Z",
     "shell.execute_reply": "2022-06-09T12:18:12.592102Z"
    },
    "papermill": {
     "duration": 0.036622,
     "end_time": "2022-06-09T12:18:12.592657",
     "exception": false,
     "start_time": "2022-06-09T12:18:12.556035",
     "status": "completed"
    },
    "tags": []
   },
   "outputs": [],
   "source": [
    "#hide\n",
    "# g.head()"
   ]
  },
  {
   "cell_type": "code",
   "execution_count": 33,
   "id": "limited-engine",
   "metadata": {
    "execution": {
     "iopub.execute_input": "2022-06-09T12:18:12.658013Z",
     "iopub.status.busy": "2022-06-09T12:18:12.657442Z",
     "iopub.status.idle": "2022-06-09T12:18:12.659860Z",
     "shell.execute_reply": "2022-06-09T12:18:12.659318Z"
    },
    "papermill": {
     "duration": 0.03635,
     "end_time": "2022-06-09T12:18:12.659962",
     "exception": false,
     "start_time": "2022-06-09T12:18:12.623612",
     "status": "completed"
    },
    "tags": []
   },
   "outputs": [],
   "source": [
    "# hide\n",
    "# g['date'] = g['date'].astype('datetime64[ns]')"
   ]
  },
  {
   "cell_type": "code",
   "execution_count": 34,
   "id": "sophisticated-supervisor",
   "metadata": {
    "execution": {
     "iopub.execute_input": "2022-06-09T12:18:12.725957Z",
     "iopub.status.busy": "2022-06-09T12:18:12.725380Z",
     "iopub.status.idle": "2022-06-09T12:18:12.727815Z",
     "shell.execute_reply": "2022-06-09T12:18:12.727368Z"
    },
    "papermill": {
     "duration": 0.036705,
     "end_time": "2022-06-09T12:18:12.727917",
     "exception": false,
     "start_time": "2022-06-09T12:18:12.691212",
     "status": "completed"
    },
    "tags": []
   },
   "outputs": [],
   "source": [
    "#hide\n",
    "# g['date'] = g.date.dt.dayofyear"
   ]
  },
  {
   "cell_type": "code",
   "execution_count": 35,
   "id": "inside-dubai",
   "metadata": {
    "execution": {
     "iopub.execute_input": "2022-06-09T12:18:12.793559Z",
     "iopub.status.busy": "2022-06-09T12:18:12.792989Z",
     "iopub.status.idle": "2022-06-09T12:18:12.795003Z",
     "shell.execute_reply": "2022-06-09T12:18:12.795422Z"
    },
    "papermill": {
     "duration": 0.036618,
     "end_time": "2022-06-09T12:18:12.795538",
     "exception": false,
     "start_time": "2022-06-09T12:18:12.758920",
     "status": "completed"
    },
    "tags": []
   },
   "outputs": [],
   "source": [
    "#hide\n",
    "# g = g.rename(columns= {'continent':'group','country':'name','cases':'value'})"
   ]
  },
  {
   "cell_type": "code",
   "execution_count": 36,
   "id": "fleet-motorcycle",
   "metadata": {
    "execution": {
     "iopub.execute_input": "2022-06-09T12:18:12.861106Z",
     "iopub.status.busy": "2022-06-09T12:18:12.860541Z",
     "iopub.status.idle": "2022-06-09T12:18:12.862971Z",
     "shell.execute_reply": "2022-06-09T12:18:12.862530Z"
    },
    "papermill": {
     "duration": 0.036289,
     "end_time": "2022-06-09T12:18:12.863070",
     "exception": false,
     "start_time": "2022-06-09T12:18:12.826781",
     "status": "completed"
    },
    "tags": []
   },
   "outputs": [],
   "source": [
    "#hide\n",
    "# cols = ['name','group','day','value']"
   ]
  },
  {
   "cell_type": "code",
   "execution_count": 37,
   "id": "continued-sleeping",
   "metadata": {
    "execution": {
     "iopub.execute_input": "2022-06-09T12:18:12.928869Z",
     "iopub.status.busy": "2022-06-09T12:18:12.928285Z",
     "iopub.status.idle": "2022-06-09T12:18:12.930750Z",
     "shell.execute_reply": "2022-06-09T12:18:12.930296Z"
    },
    "papermill": {
     "duration": 0.03676,
     "end_time": "2022-06-09T12:18:12.930850",
     "exception": false,
     "start_time": "2022-06-09T12:18:12.894090",
     "status": "completed"
    },
    "tags": []
   },
   "outputs": [],
   "source": [
    "#hide\n",
    "# g.rename(columns= {'date':'day'},inplace = True)"
   ]
  },
  {
   "cell_type": "code",
   "execution_count": 38,
   "id": "major-fight",
   "metadata": {
    "execution": {
     "iopub.execute_input": "2022-06-09T12:18:12.996872Z",
     "iopub.status.busy": "2022-06-09T12:18:12.996315Z",
     "iopub.status.idle": "2022-06-09T12:18:12.998622Z",
     "shell.execute_reply": "2022-06-09T12:18:12.998168Z"
    },
    "papermill": {
     "duration": 0.036792,
     "end_time": "2022-06-09T12:18:12.998725",
     "exception": false,
     "start_time": "2022-06-09T12:18:12.961933",
     "status": "completed"
    },
    "tags": []
   },
   "outputs": [],
   "source": [
    "#hide\n",
    "# g = g[cols]"
   ]
  },
  {
   "cell_type": "code",
   "execution_count": 39,
   "id": "structured-mobile",
   "metadata": {
    "execution": {
     "iopub.execute_input": "2022-06-09T12:18:13.064540Z",
     "iopub.status.busy": "2022-06-09T12:18:13.063982Z",
     "iopub.status.idle": "2022-06-09T12:18:13.066210Z",
     "shell.execute_reply": "2022-06-09T12:18:13.065670Z"
    },
    "papermill": {
     "duration": 0.036548,
     "end_time": "2022-06-09T12:18:13.066313",
     "exception": false,
     "start_time": "2022-06-09T12:18:13.029765",
     "status": "completed"
    },
    "tags": []
   },
   "outputs": [],
   "source": [
    "# #hide\n",
    "# g = g[g.group.notna()]"
   ]
  },
  {
   "cell_type": "code",
   "execution_count": 40,
   "id": "determined-closing",
   "metadata": {
    "execution": {
     "iopub.execute_input": "2022-06-09T12:18:13.132872Z",
     "iopub.status.busy": "2022-06-09T12:18:13.132302Z",
     "iopub.status.idle": "2022-06-09T12:18:13.134762Z",
     "shell.execute_reply": "2022-06-09T12:18:13.134320Z"
    },
    "papermill": {
     "duration": 0.037416,
     "end_time": "2022-06-09T12:18:13.134861",
     "exception": false,
     "start_time": "2022-06-09T12:18:13.097445",
     "status": "completed"
    },
    "tags": []
   },
   "outputs": [],
   "source": [
    "# #hide\n",
    "# colors = dict(zip(\n",
    "#     [\"Oceania\", \"Europe\", \"Asia\", \"South America\", \"Middle East\", \"North America\", \"Africa\"],\n",
    "#     [\"#adb0ff\", \"#ffb3ff\", \"#90d595\", \"#e48381\", \"#aafbff\", \"#f7bb5f\", \"#eafb50\"]\n",
    "# ))\n",
    "# group_lk = g.set_index('name')['group'].to_dict()"
   ]
  },
  {
   "cell_type": "code",
   "execution_count": null,
   "id": "gross-drinking",
   "metadata": {
    "papermill": {
     "duration": 0.030934,
     "end_time": "2022-06-09T12:18:13.196702",
     "exception": false,
     "start_time": "2022-06-09T12:18:13.165768",
     "status": "completed"
    },
    "tags": []
   },
   "outputs": [],
   "source": []
  },
  {
   "cell_type": "code",
   "execution_count": 41,
   "id": "subject-macintosh",
   "metadata": {
    "execution": {
     "iopub.execute_input": "2022-06-09T12:18:13.263161Z",
     "iopub.status.busy": "2022-06-09T12:18:13.262591Z",
     "iopub.status.idle": "2022-06-09T12:18:13.264875Z",
     "shell.execute_reply": "2022-06-09T12:18:13.265298Z"
    },
    "papermill": {
     "duration": 0.037518,
     "end_time": "2022-06-09T12:18:13.265415",
     "exception": false,
     "start_time": "2022-06-09T12:18:13.227897",
     "status": "completed"
    },
    "tags": []
   },
   "outputs": [],
   "source": [
    "# #hide\n",
    "# fig, ax = plt.subplots(figsize=(15, 8))\n",
    "\n",
    "# def draw_barchart(current_day):\n",
    "#     dff = g[g['day'].eq(current_day)].sort_values(by='value', ascending=True).tail(10)\n",
    "#     ax.clear()\n",
    "#     ax.barh(dff['name'], dff['value'], color=[colors[group_lk[x]] for x in dff['name']])\n",
    "#     dx = dff['value'].max() / 200\n",
    "    \n",
    "#     for i, (value, name) in enumerate(zip(dff['value'], dff['name'])):\n",
    "#         ax.text(value-dx, i,     name,           size=14, weight=600, ha='right', va='bottom')\n",
    "#         ax.text(value-dx, i-.25, group_lk[name], size=10, color='#444444', ha='right', va='baseline')\n",
    "#         ax.text(value+dx, i,     f'{value:,.0f}',  size=14, ha='left',  va='center')\n",
    "#     ax.text(1, 0.4, current_day, transform=ax.transAxes, color='#777777', size=46, ha='right', weight=800)\n",
    "#     ax.text(0, 1.06, 'Population (thousands)', transform=ax.transAxes, size=12, color='#777777')\n",
    "#     ax.xaxis.set_major_formatter(ticker.StrMethodFormatter('{x:,.0f}'))\n",
    "#     ax.xaxis.set_ticks_position('top')\n",
    "#     ax.tick_params(axis='x', colors='#777777', labelsize=12)\n",
    "#     ax.set_yticks([])\n",
    "#     ax.margins(0, 0.01)\n",
    "#     ax.grid(which='major', axis='x', linestyle='-')\n",
    "#     ax.set_axisbelow(True)\n",
    "    \n",
    "#     ax.text(0, 1.15, 'Coronavirus',\n",
    "#             transform=ax.transAxes, size=24, weight=600, ha='left', va='top')\n",
    "# #     ax.text(1, 0, 'by @pratapvardhan; credit @jburnmurdoch', transform=ax.transAxes, color='#777777', ha='right',\n",
    "# #             bbox=dict(facecolor='white', alpha=0.8, edgecolor='white'))\n",
    "#     plt.box(False)"
   ]
  },
  {
   "cell_type": "code",
   "execution_count": 42,
   "id": "sexual-wages",
   "metadata": {
    "execution": {
     "iopub.execute_input": "2022-06-09T12:18:13.331310Z",
     "iopub.status.busy": "2022-06-09T12:18:13.330733Z",
     "iopub.status.idle": "2022-06-09T12:18:13.333103Z",
     "shell.execute_reply": "2022-06-09T12:18:13.332575Z"
    },
    "papermill": {
     "duration": 0.036721,
     "end_time": "2022-06-09T12:18:13.333204",
     "exception": false,
     "start_time": "2022-06-09T12:18:13.296483",
     "status": "completed"
    },
    "tags": []
   },
   "outputs": [],
   "source": [
    "# #hide_input\n",
    "# fig, ax = plt.subplots(figsize=(15, 8))\n",
    "# animator = animation.FuncAnimation(fig, draw_barchart, frames=range(g.day.values.min(), g.day.values.max()))\n",
    "# HTML(animator.to_jshtml())\n",
    "# # or use animator.to_html5_video() or animator.save() "
   ]
  },
  {
   "cell_type": "code",
   "execution_count": null,
   "id": "australian-container",
   "metadata": {
    "papermill": {
     "duration": 0.031205,
     "end_time": "2022-06-09T12:18:13.395629",
     "exception": false,
     "start_time": "2022-06-09T12:18:13.364424",
     "status": "completed"
    },
    "tags": []
   },
   "outputs": [],
   "source": []
  },
  {
   "cell_type": "code",
   "execution_count": null,
   "id": "mediterranean-pontiac",
   "metadata": {
    "papermill": {
     "duration": 0.030837,
     "end_time": "2022-06-09T12:18:13.457464",
     "exception": false,
     "start_time": "2022-06-09T12:18:13.426627",
     "status": "completed"
    },
    "tags": []
   },
   "outputs": [],
   "source": []
  },
  {
   "cell_type": "code",
   "execution_count": null,
   "id": "aging-legislature",
   "metadata": {
    "papermill": {
     "duration": 0.030911,
     "end_time": "2022-06-09T12:18:13.519624",
     "exception": false,
     "start_time": "2022-06-09T12:18:13.488713",
     "status": "completed"
    },
    "tags": []
   },
   "outputs": [],
   "source": []
  }
 ],
 "metadata": {
  "kernelspec": {
   "display_name": "Python 3",
   "language": "python",
   "name": "python3"
  },
  "language_info": {
   "codemirror_mode": {
    "name": "ipython",
    "version": 3
   },
   "file_extension": ".py",
   "mimetype": "text/x-python",
   "name": "python",
   "nbconvert_exporter": "python",
   "pygments_lexer": "ipython3",
   "version": "3.6.15"
  },
  "papermill": {
   "duration": 5.904263,
   "end_time": "2022-06-09T12:18:13.867782",
   "environment_variables": {},
   "exception": null,
   "input_path": "2020-03-21-covid19exp.ipynb",
   "output_path": "2020-03-21-covid19exp.ipynb",
   "parameters": {},
   "start_time": "2022-06-09T12:18:07.963519",
   "version": "2.0.0"
  }
 },
 "nbformat": 4,
 "nbformat_minor": 5
}