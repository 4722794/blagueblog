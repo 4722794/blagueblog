{
 "cells": [
  {
   "cell_type": "markdown",
   "id": "muslim-click",
   "metadata": {
    "papermill": {
     "duration": 0.073297,
     "end_time": "2021-10-24T12:10:52.133317",
     "exception": false,
     "start_time": "2021-10-24T12:10:52.060020",
     "status": "completed"
    },
    "tags": []
   },
   "source": [
    "# COVID-19 Case Race\n",
    "> A race chart to see rising cases around the world\n",
    "\n",
    "- author: Hargun Oberoi\n",
    "- image: images/covid-overview.png\n",
    "- hide: false\n",
    "- badges: false"
   ]
  },
  {
   "cell_type": "code",
   "execution_count": 1,
   "id": "proof-material",
   "metadata": {
    "execution": {
     "iopub.execute_input": "2021-10-24T12:10:52.226489Z",
     "iopub.status.busy": "2021-10-24T12:10:52.225887Z",
     "iopub.status.idle": "2021-10-24T12:10:52.602326Z",
     "shell.execute_reply": "2021-10-24T12:10:52.601850Z"
    },
    "papermill": {
     "duration": 0.421865,
     "end_time": "2021-10-24T12:10:52.602464",
     "exception": false,
     "start_time": "2021-10-24T12:10:52.180599",
     "status": "completed"
    },
    "tags": []
   },
   "outputs": [],
   "source": [
    "#hide\n",
    "import numpy as np\n",
    "import pandas as pd\n",
    "from jinja2 import Template\n",
    "from IPython.display import HTML"
   ]
  },
  {
   "cell_type": "code",
   "execution_count": 2,
   "id": "developed-terminology",
   "metadata": {
    "execution": {
     "iopub.execute_input": "2021-10-24T12:10:52.676478Z",
     "iopub.status.busy": "2021-10-24T12:10:52.675930Z",
     "iopub.status.idle": "2021-10-24T12:10:52.678216Z",
     "shell.execute_reply": "2021-10-24T12:10:52.677799Z"
    },
    "papermill": {
     "duration": 0.039616,
     "end_time": "2021-10-24T12:10:52.678321",
     "exception": false,
     "start_time": "2021-10-24T12:10:52.638705",
     "status": "completed"
    },
    "tags": []
   },
   "outputs": [],
   "source": [
    "#hide\n",
    "\n",
    "# FETCH\n",
    "base_url = 'https://raw.githubusercontent.com/pratapvardhan/notebooks/master/covid19/'\n",
    "paths = {\n",
    "    'mapping': base_url + 'mapping_countries.csv',\n",
    "    'overview': base_url + 'overview.tpl'\n",
    "}"
   ]
  },
  {
   "cell_type": "code",
   "execution_count": 3,
   "id": "dynamic-saver",
   "metadata": {
    "execution": {
     "iopub.execute_input": "2021-10-24T12:10:52.747880Z",
     "iopub.status.busy": "2021-10-24T12:10:52.746041Z",
     "iopub.status.idle": "2021-10-24T12:10:52.750449Z",
     "shell.execute_reply": "2021-10-24T12:10:52.750865Z"
    },
    "papermill": {
     "duration": 0.042426,
     "end_time": "2021-10-24T12:10:52.750973",
     "exception": false,
     "start_time": "2021-10-24T12:10:52.708547",
     "status": "completed"
    },
    "tags": []
   },
   "outputs": [
    {
     "data": {
      "text/plain": [
       "'https://raw.githubusercontent.com/pratapvardhan/notebooks/master/covid19/mapping_countries.csv'"
      ]
     },
     "execution_count": 3,
     "metadata": {},
     "output_type": "execute_result"
    }
   ],
   "source": [
    "#hide\n",
    "paths['mapping']"
   ]
  },
  {
   "cell_type": "code",
   "execution_count": 4,
   "id": "urban-software",
   "metadata": {
    "execution": {
     "iopub.execute_input": "2021-10-24T12:10:52.818345Z",
     "iopub.status.busy": "2021-10-24T12:10:52.817831Z",
     "iopub.status.idle": "2021-10-24T12:10:52.819951Z",
     "shell.execute_reply": "2021-10-24T12:10:52.819517Z"
    },
    "papermill": {
     "duration": 0.038372,
     "end_time": "2021-10-24T12:10:52.820049",
     "exception": false,
     "start_time": "2021-10-24T12:10:52.781677",
     "status": "completed"
    },
    "tags": []
   },
   "outputs": [],
   "source": [
    "#hide\n",
    "def get_mappings(url):\n",
    "    df = pd.read_csv(url)\n",
    "    return {\n",
    "        'df': df,\n",
    "        'replace.country': dict(df.dropna(subset=['Name']).set_index('Country')['Name']),\n",
    "        'map.continent': dict(df.set_index('Name')['Continent'])\n",
    "    }"
   ]
  },
  {
   "cell_type": "code",
   "execution_count": 5,
   "id": "intimate-machinery",
   "metadata": {
    "execution": {
     "iopub.execute_input": "2021-10-24T12:10:52.885110Z",
     "iopub.status.busy": "2021-10-24T12:10:52.884593Z",
     "iopub.status.idle": "2021-10-24T12:10:52.921891Z",
     "shell.execute_reply": "2021-10-24T12:10:52.922333Z"
    },
    "papermill": {
     "duration": 0.072269,
     "end_time": "2021-10-24T12:10:52.922441",
     "exception": false,
     "start_time": "2021-10-24T12:10:52.850172",
     "status": "completed"
    },
    "tags": []
   },
   "outputs": [],
   "source": [
    "#hide\n",
    "mapping = get_mappings(paths['mapping'])"
   ]
  },
  {
   "cell_type": "code",
   "execution_count": 6,
   "id": "certified-tactics",
   "metadata": {
    "execution": {
     "iopub.execute_input": "2021-10-24T12:10:52.997569Z",
     "iopub.status.busy": "2021-10-24T12:10:52.996793Z",
     "iopub.status.idle": "2021-10-24T12:10:52.999296Z",
     "shell.execute_reply": "2021-10-24T12:10:52.998790Z"
    },
    "papermill": {
     "duration": 0.043104,
     "end_time": "2021-10-24T12:10:52.999392",
     "exception": false,
     "start_time": "2021-10-24T12:10:52.956288",
     "status": "completed"
    },
    "tags": []
   },
   "outputs": [],
   "source": [
    "#hide\n",
    "def get_template(path):\n",
    "    from urllib.parse import urlparse\n",
    "    if bool(urlparse(path).netloc):\n",
    "        from urllib.request import urlopen\n",
    "        return urlopen(path).read().decode('utf8')\n",
    "    return open(path).read()"
   ]
  },
  {
   "cell_type": "code",
   "execution_count": 7,
   "id": "realistic-blast",
   "metadata": {
    "execution": {
     "iopub.execute_input": "2021-10-24T12:10:53.068138Z",
     "iopub.status.busy": "2021-10-24T12:10:53.067198Z",
     "iopub.status.idle": "2021-10-24T12:10:53.069898Z",
     "shell.execute_reply": "2021-10-24T12:10:53.069427Z"
    },
    "papermill": {
     "duration": 0.038051,
     "end_time": "2021-10-24T12:10:53.069993",
     "exception": false,
     "start_time": "2021-10-24T12:10:53.031942",
     "status": "completed"
    },
    "tags": []
   },
   "outputs": [],
   "source": [
    "#hide\n",
    "def get_frame(name):\n",
    "    url = (\n",
    "        'https://raw.githubusercontent.com/CSSEGISandData/COVID-19/master/csse_covid_19_data/'\n",
    "        f'csse_covid_19_time_series/time_series_covid19_{name}_global.csv')\n",
    "    df = pd.read_csv(url)\n",
    "    # rename countries\n",
    "    df['Country/Region'] = df['Country/Region'].replace(mapping['replace.country'])\n",
    "    return df"
   ]
  },
  {
   "cell_type": "code",
   "execution_count": 8,
   "id": "affiliated-characterization",
   "metadata": {
    "execution": {
     "iopub.execute_input": "2021-10-24T12:10:53.137756Z",
     "iopub.status.busy": "2021-10-24T12:10:53.137172Z",
     "iopub.status.idle": "2021-10-24T12:10:53.139572Z",
     "shell.execute_reply": "2021-10-24T12:10:53.140012Z"
    },
    "papermill": {
     "duration": 0.038494,
     "end_time": "2021-10-24T12:10:53.140121",
     "exception": false,
     "start_time": "2021-10-24T12:10:53.101627",
     "status": "completed"
    },
    "tags": []
   },
   "outputs": [],
   "source": [
    "#hide\n",
    "def get_dates(df):\n",
    "    dt_cols = df.columns[~df.columns.isin(['Province/State', 'Country/Region', 'Lat', 'Long'])]\n",
    "    LAST_DATE_I = -1\n",
    "    # sometimes last column may be empty, then go backwards\n",
    "    for i in range(-1, -len(dt_cols), -1):\n",
    "        if not df[dt_cols[i]].fillna(0).eq(0).all():\n",
    "            LAST_DATE_I = i\n",
    "            break\n",
    "    return LAST_DATE_I, dt_cols"
   ]
  },
  {
   "cell_type": "code",
   "execution_count": 9,
   "id": "recent-optimization",
   "metadata": {
    "execution": {
     "iopub.execute_input": "2021-10-24T12:10:53.213827Z",
     "iopub.status.busy": "2021-10-24T12:10:53.213168Z",
     "iopub.status.idle": "2021-10-24T12:10:53.617588Z",
     "shell.execute_reply": "2021-10-24T12:10:53.618068Z"
    },
    "papermill": {
     "duration": 0.445021,
     "end_time": "2021-10-24T12:10:53.618228",
     "exception": false,
     "start_time": "2021-10-24T12:10:53.173207",
     "status": "completed"
    },
    "tags": []
   },
   "outputs": [],
   "source": [
    "#hide\n",
    "COL_REGION = 'Country/Region'\n",
    "# Confirmed, Recovered, Deaths\n",
    "df = get_frame('confirmed')\n",
    "# dft_: timeseries, dfc_: today country agg\n",
    "dft_cases = df\n",
    "dft_deaths = get_frame('deaths')\n",
    "dft_recovered = get_frame('recovered')\n",
    "LAST_DATE_I, dt_cols = get_dates(df)"
   ]
  },
  {
   "cell_type": "code",
   "execution_count": 10,
   "id": "absolute-copper",
   "metadata": {
    "execution": {
     "iopub.execute_input": "2021-10-24T12:10:53.697819Z",
     "iopub.status.busy": "2021-10-24T12:10:53.697261Z",
     "iopub.status.idle": "2021-10-24T12:10:53.699516Z",
     "shell.execute_reply": "2021-10-24T12:10:53.699033Z"
    },
    "papermill": {
     "duration": 0.043006,
     "end_time": "2021-10-24T12:10:53.699699",
     "exception": false,
     "start_time": "2021-10-24T12:10:53.656693",
     "status": "completed"
    },
    "tags": []
   },
   "outputs": [],
   "source": [
    "#hide\n",
    "LAST_DATE_I, dt_cols = get_dates(df)\n",
    "dt_today =dt_cols[LAST_DATE_I]\n",
    "# dt_5day = dt_cols[LAST_DATE_I - 5]\n",
    "dt_yday = dt_cols[LAST_DATE_I - 1]"
   ]
  },
  {
   "cell_type": "code",
   "execution_count": 11,
   "id": "restricted-sheriff",
   "metadata": {
    "execution": {
     "iopub.execute_input": "2021-10-24T12:10:53.773069Z",
     "iopub.status.busy": "2021-10-24T12:10:53.772515Z",
     "iopub.status.idle": "2021-10-24T12:10:53.783107Z",
     "shell.execute_reply": "2021-10-24T12:10:53.782482Z"
    },
    "papermill": {
     "duration": 0.051017,
     "end_time": "2021-10-24T12:10:53.783223",
     "exception": false,
     "start_time": "2021-10-24T12:10:53.732206",
     "status": "completed"
    },
    "tags": []
   },
   "outputs": [],
   "source": [
    "#hide\n",
    "dfc_cases = dft_cases.groupby(COL_REGION)[dt_today].sum()\n",
    "dfc_deaths = dft_deaths.groupby(COL_REGION)[dt_today].sum()\n",
    "# dfp_cases = dft_cases.groupby(COL_REGION)[dt_5day].sum()\n",
    "# dfp_deaths = dft_deaths.groupby(COL_REGION)[dt_5day].sum()\n",
    "dfp_cases = dft_cases.groupby(COL_REGION)[dt_yday].sum()\n",
    "dfp_deaths = dft_deaths.groupby(COL_REGION)[dt_yday].sum()"
   ]
  },
  {
   "cell_type": "code",
   "execution_count": 12,
   "id": "deluxe-hepatitis",
   "metadata": {
    "execution": {
     "iopub.execute_input": "2021-10-24T12:10:53.861118Z",
     "iopub.status.busy": "2021-10-24T12:10:53.860494Z",
     "iopub.status.idle": "2021-10-24T12:10:53.865870Z",
     "shell.execute_reply": "2021-10-24T12:10:53.865124Z"
    },
    "papermill": {
     "duration": 0.048611,
     "end_time": "2021-10-24T12:10:53.866134",
     "exception": false,
     "start_time": "2021-10-24T12:10:53.817523",
     "status": "completed"
    },
    "tags": []
   },
   "outputs": [],
   "source": [
    "#hide\n",
    "df_table = (pd.DataFrame(dict(Cases = dfc_cases, Deaths = dfc_deaths, PCases = dfp_cases, PDeaths = dfp_deaths))\n",
    "            .sort_values(by = ['Cases','Deaths'], ascending = [False, False])\n",
    "            .reset_index())"
   ]
  },
  {
   "cell_type": "code",
   "execution_count": 13,
   "id": "educational-chancellor",
   "metadata": {
    "execution": {
     "iopub.execute_input": "2021-10-24T12:10:53.942061Z",
     "iopub.status.busy": "2021-10-24T12:10:53.941366Z",
     "iopub.status.idle": "2021-10-24T12:10:53.954988Z",
     "shell.execute_reply": "2021-10-24T12:10:53.954481Z"
    },
    "papermill": {
     "duration": 0.056523,
     "end_time": "2021-10-24T12:10:53.955084",
     "exception": false,
     "start_time": "2021-10-24T12:10:53.898561",
     "status": "completed"
    },
    "tags": []
   },
   "outputs": [
    {
     "data": {
      "text/html": [
       "<div>\n",
       "<style scoped>\n",
       "    .dataframe tbody tr th:only-of-type {\n",
       "        vertical-align: middle;\n",
       "    }\n",
       "\n",
       "    .dataframe tbody tr th {\n",
       "        vertical-align: top;\n",
       "    }\n",
       "\n",
       "    .dataframe thead th {\n",
       "        text-align: right;\n",
       "    }\n",
       "</style>\n",
       "<table border=\"1\" class=\"dataframe\">\n",
       "  <thead>\n",
       "    <tr style=\"text-align: right;\">\n",
       "      <th></th>\n",
       "      <th>Country/Region</th>\n",
       "      <th>Cases</th>\n",
       "      <th>Deaths</th>\n",
       "      <th>PCases</th>\n",
       "      <th>PDeaths</th>\n",
       "      <th>Cases (+)</th>\n",
       "      <th>Deaths (+)</th>\n",
       "      <th>Fatality Rate</th>\n",
       "      <th>Continent</th>\n",
       "    </tr>\n",
       "  </thead>\n",
       "  <tbody>\n",
       "    <tr>\n",
       "      <th>0</th>\n",
       "      <td>US</td>\n",
       "      <td>45427464</td>\n",
       "      <td>735800</td>\n",
       "      <td>45400466</td>\n",
       "      <td>735373</td>\n",
       "      <td>26998</td>\n",
       "      <td>427</td>\n",
       "      <td>1.62</td>\n",
       "      <td>North America</td>\n",
       "    </tr>\n",
       "    <tr>\n",
       "      <th>1</th>\n",
       "      <td>India</td>\n",
       "      <td>34175468</td>\n",
       "      <td>454269</td>\n",
       "      <td>34159562</td>\n",
       "      <td>453708</td>\n",
       "      <td>15906</td>\n",
       "      <td>561</td>\n",
       "      <td>1.33</td>\n",
       "      <td>Asia</td>\n",
       "    </tr>\n",
       "    <tr>\n",
       "      <th>2</th>\n",
       "      <td>Brazil</td>\n",
       "      <td>21723559</td>\n",
       "      <td>605457</td>\n",
       "      <td>21711843</td>\n",
       "      <td>605139</td>\n",
       "      <td>11716</td>\n",
       "      <td>318</td>\n",
       "      <td>2.79</td>\n",
       "      <td>South America</td>\n",
       "    </tr>\n",
       "    <tr>\n",
       "      <th>3</th>\n",
       "      <td>United Kingdom</td>\n",
       "      <td>8775889</td>\n",
       "      <td>139878</td>\n",
       "      <td>8730787</td>\n",
       "      <td>139743</td>\n",
       "      <td>45102</td>\n",
       "      <td>135</td>\n",
       "      <td>1.59</td>\n",
       "      <td>Europe</td>\n",
       "    </tr>\n",
       "    <tr>\n",
       "      <th>4</th>\n",
       "      <td>Russia</td>\n",
       "      <td>8078309</td>\n",
       "      <td>225417</td>\n",
       "      <td>8041581</td>\n",
       "      <td>224369</td>\n",
       "      <td>36728</td>\n",
       "      <td>1048</td>\n",
       "      <td>2.79</td>\n",
       "      <td>Europe</td>\n",
       "    </tr>\n",
       "  </tbody>\n",
       "</table>\n",
       "</div>"
      ],
      "text/plain": [
       "   Country/Region     Cases  Deaths    PCases  PDeaths  Cases (+)  Deaths (+)  \\\n",
       "0              US  45427464  735800  45400466   735373      26998         427   \n",
       "1           India  34175468  454269  34159562   453708      15906         561   \n",
       "2          Brazil  21723559  605457  21711843   605139      11716         318   \n",
       "3  United Kingdom   8775889  139878   8730787   139743      45102         135   \n",
       "4          Russia   8078309  225417   8041581   224369      36728        1048   \n",
       "\n",
       "   Fatality Rate      Continent  \n",
       "0           1.62  North America  \n",
       "1           1.33           Asia  \n",
       "2           2.79  South America  \n",
       "3           1.59         Europe  \n",
       "4           2.79         Europe  "
      ]
     },
     "execution_count": 13,
     "metadata": {},
     "output_type": "execute_result"
    }
   ],
   "source": [
    "#hide\n",
    "for c in 'Cases, Deaths'.split(', '):\n",
    "    df_table[f'{c} (+)'] = (df_table[c] - df_table[f'P{c}']).clip(0)\n",
    "    #Clip ça veut dire, les chiffres negatif sont interdit\n",
    "df_table['Fatality Rate'] = (100* df_table['Deaths']/ df_table['Cases']).round(2)\n",
    "df_table['Continent'] = df_table['Country/Region'].map(mapping['map.continent'])\n",
    "df_table.head(5)"
   ]
  },
  {
   "cell_type": "code",
   "execution_count": 14,
   "id": "aboriginal-bulgaria",
   "metadata": {
    "execution": {
     "iopub.execute_input": "2021-10-24T12:10:54.031676Z",
     "iopub.status.busy": "2021-10-24T12:10:54.031112Z",
     "iopub.status.idle": "2021-10-24T12:10:54.034133Z",
     "shell.execute_reply": "2021-10-24T12:10:54.033699Z"
    },
    "papermill": {
     "duration": 0.045876,
     "end_time": "2021-10-24T12:10:54.034239",
     "exception": false,
     "start_time": "2021-10-24T12:10:53.988363",
     "status": "completed"
    },
    "tags": []
   },
   "outputs": [],
   "source": [
    "#hide\n",
    "#delete problematic countries from table\n",
    "df_table = df_table[~df_table['Country/Region'].isin(['Cape Verde', 'Cruise Ship', 'Kosovo'])]"
   ]
  },
  {
   "cell_type": "code",
   "execution_count": 15,
   "id": "fantastic-effect",
   "metadata": {
    "execution": {
     "iopub.execute_input": "2021-10-24T12:10:54.106958Z",
     "iopub.status.busy": "2021-10-24T12:10:54.106400Z",
     "iopub.status.idle": "2021-10-24T12:10:54.128778Z",
     "shell.execute_reply": "2021-10-24T12:10:54.128170Z"
    },
    "papermill": {
     "duration": 0.060946,
     "end_time": "2021-10-24T12:10:54.128886",
     "exception": false,
     "start_time": "2021-10-24T12:10:54.067940",
     "status": "completed"
    },
    "tags": []
   },
   "outputs": [
    {
     "data": {
      "text/html": [
       "<div>\n",
       "<style scoped>\n",
       "    .dataframe tbody tr th:only-of-type {\n",
       "        vertical-align: middle;\n",
       "    }\n",
       "\n",
       "    .dataframe tbody tr th {\n",
       "        vertical-align: top;\n",
       "    }\n",
       "\n",
       "    .dataframe thead th {\n",
       "        text-align: right;\n",
       "    }\n",
       "</style>\n",
       "<table border=\"1\" class=\"dataframe\">\n",
       "  <thead>\n",
       "    <tr style=\"text-align: right;\">\n",
       "      <th></th>\n",
       "      <th>Country/Region</th>\n",
       "      <th>Cases</th>\n",
       "      <th>Deaths</th>\n",
       "      <th>PCases</th>\n",
       "      <th>PDeaths</th>\n",
       "      <th>Cases (+)</th>\n",
       "      <th>Deaths (+)</th>\n",
       "      <th>Fatality Rate</th>\n",
       "      <th>Continent</th>\n",
       "    </tr>\n",
       "  </thead>\n",
       "  <tbody>\n",
       "    <tr>\n",
       "      <th>0</th>\n",
       "      <td>US</td>\n",
       "      <td>45427464</td>\n",
       "      <td>735800</td>\n",
       "      <td>45400466</td>\n",
       "      <td>735373</td>\n",
       "      <td>26998</td>\n",
       "      <td>427</td>\n",
       "      <td>1.6</td>\n",
       "      <td>North America</td>\n",
       "    </tr>\n",
       "    <tr>\n",
       "      <th>1</th>\n",
       "      <td>India</td>\n",
       "      <td>34175468</td>\n",
       "      <td>454269</td>\n",
       "      <td>34159562</td>\n",
       "      <td>453708</td>\n",
       "      <td>15906</td>\n",
       "      <td>561</td>\n",
       "      <td>1.3</td>\n",
       "      <td>Asia</td>\n",
       "    </tr>\n",
       "    <tr>\n",
       "      <th>2</th>\n",
       "      <td>Brazil</td>\n",
       "      <td>21723559</td>\n",
       "      <td>605457</td>\n",
       "      <td>21711843</td>\n",
       "      <td>605139</td>\n",
       "      <td>11716</td>\n",
       "      <td>318</td>\n",
       "      <td>2.8</td>\n",
       "      <td>South America</td>\n",
       "    </tr>\n",
       "    <tr>\n",
       "      <th>3</th>\n",
       "      <td>United Kingdom</td>\n",
       "      <td>8775889</td>\n",
       "      <td>139878</td>\n",
       "      <td>8730787</td>\n",
       "      <td>139743</td>\n",
       "      <td>45102</td>\n",
       "      <td>135</td>\n",
       "      <td>1.6</td>\n",
       "      <td>Europe</td>\n",
       "    </tr>\n",
       "    <tr>\n",
       "      <th>4</th>\n",
       "      <td>Russia</td>\n",
       "      <td>8078309</td>\n",
       "      <td>225417</td>\n",
       "      <td>8041581</td>\n",
       "      <td>224369</td>\n",
       "      <td>36728</td>\n",
       "      <td>1048</td>\n",
       "      <td>2.8</td>\n",
       "      <td>Europe</td>\n",
       "    </tr>\n",
       "  </tbody>\n",
       "</table>\n",
       "</div>"
      ],
      "text/plain": [
       "   Country/Region     Cases  Deaths    PCases  PDeaths  Cases (+)  Deaths (+)  \\\n",
       "0              US  45427464  735800  45400466   735373      26998         427   \n",
       "1           India  34175468  454269  34159562   453708      15906         561   \n",
       "2          Brazil  21723559  605457  21711843   605139      11716         318   \n",
       "3  United Kingdom   8775889  139878   8730787   139743      45102         135   \n",
       "4          Russia   8078309  225417   8041581   224369      36728        1048   \n",
       "\n",
       "   Fatality Rate      Continent  \n",
       "0            1.6  North America  \n",
       "1            1.3           Asia  \n",
       "2            2.8  South America  \n",
       "3            1.6         Europe  \n",
       "4            2.8         Europe  "
      ]
     },
     "execution_count": 15,
     "metadata": {},
     "output_type": "execute_result"
    }
   ],
   "source": [
    "#hide\n",
    "df_table = (pd.DataFrame(dict(Cases=dfc_cases, Deaths=dfc_deaths, PCases=dfp_cases, PDeaths=dfp_deaths))\n",
    "             .sort_values(by=['Cases', 'Deaths'], ascending=[False, False])\n",
    "             .reset_index())\n",
    "df_table.rename(columns={'index': 'Country/Region'}, inplace=True)\n",
    "for c in 'Cases, Deaths'.split(', '):\n",
    "    df_table[f'{c} (+)'] = (df_table[c] - df_table[f'P{c}']).clip(0)  # DATA BUG\n",
    "df_table['Fatality Rate'] = (100 * df_table['Deaths'] / df_table['Cases']).round(1)\n",
    "df_table['Continent'] = df_table['Country/Region'].map(mapping['map.continent'])\n",
    "df_table.head(5)"
   ]
  },
  {
   "cell_type": "code",
   "execution_count": 16,
   "id": "fewer-occasion",
   "metadata": {
    "execution": {
     "iopub.execute_input": "2021-10-24T12:10:54.199534Z",
     "iopub.status.busy": "2021-10-24T12:10:54.198632Z",
     "iopub.status.idle": "2021-10-24T12:10:54.201126Z",
     "shell.execute_reply": "2021-10-24T12:10:54.201645Z"
    },
    "papermill": {
     "duration": 0.040678,
     "end_time": "2021-10-24T12:10:54.201755",
     "exception": false,
     "start_time": "2021-10-24T12:10:54.161077",
     "status": "completed"
    },
    "tags": []
   },
   "outputs": [],
   "source": [
    "#hide\n",
    "#delete problematic countries from table\n",
    "df_table = df_table[~df_table['Country/Region'].isin(['Cape Verde', 'Cruise Ship', 'Kosovo'])]"
   ]
  },
  {
   "cell_type": "code",
   "execution_count": 17,
   "id": "related-center",
   "metadata": {
    "execution": {
     "iopub.execute_input": "2021-10-24T12:10:54.277749Z",
     "iopub.status.busy": "2021-10-24T12:10:54.277172Z",
     "iopub.status.idle": "2021-10-24T12:10:54.285174Z",
     "shell.execute_reply": "2021-10-24T12:10:54.285691Z"
    },
    "papermill": {
     "duration": 0.052696,
     "end_time": "2021-10-24T12:10:54.285822",
     "exception": false,
     "start_time": "2021-10-24T12:10:54.233126",
     "status": "completed"
    },
    "tags": []
   },
   "outputs": [],
   "source": [
    "#hide\n",
    "metrics = [df_table.columns[index] for index in [1,2,5,6]]\n",
    "# s_china = df_table[df_table['Country/Region'].eq('China')][metrics].sum().add_prefix('China ')\n",
    "s_us = df_table[df_table['Country/Region'].eq('US')][metrics].sum().add_prefix('US ')\n",
    "s_eu = df_table[df_table['Continent'].eq('Europe')][metrics].sum().add_prefix('EU ')\n",
    "s_ind = df_table[df_table['Country/Region'].eq('India')][metrics].sum().add_prefix('India ')\n",
    "summary = {'updated': pd.to_datetime(dt_today), 'since': pd.to_datetime(dt_yday)}\n",
    "summary = {'updated': pd.to_datetime(dt_today), 'since': pd.to_datetime(dt_yday)}\n",
    "summary = {**summary, **df_table[metrics].sum(), **s_ind, **s_us, **s_eu}"
   ]
  },
  {
   "cell_type": "code",
   "execution_count": 18,
   "id": "engaging-syndrome",
   "metadata": {
    "execution": {
     "iopub.execute_input": "2021-10-24T12:10:54.355933Z",
     "iopub.status.busy": "2021-10-24T12:10:54.355309Z",
     "iopub.status.idle": "2021-10-24T12:10:54.368748Z",
     "shell.execute_reply": "2021-10-24T12:10:54.369374Z"
    },
    "papermill": {
     "duration": 0.051079,
     "end_time": "2021-10-24T12:10:54.369490",
     "exception": false,
     "start_time": "2021-10-24T12:10:54.318411",
     "status": "completed"
    },
    "tags": []
   },
   "outputs": [],
   "source": [
    "#hide\n",
    "dft_ct_new_cases = dft_cases.groupby(COL_REGION)[dt_cols].sum().diff(axis=1).fillna(0).astype(int)"
   ]
  },
  {
   "cell_type": "code",
   "execution_count": 19,
   "id": "neutral-assignment",
   "metadata": {
    "execution": {
     "iopub.execute_input": "2021-10-24T12:10:54.440229Z",
     "iopub.status.busy": "2021-10-24T12:10:54.439659Z",
     "iopub.status.idle": "2021-10-24T12:10:54.443042Z",
     "shell.execute_reply": "2021-10-24T12:10:54.442436Z"
    },
    "papermill": {
     "duration": 0.039424,
     "end_time": "2021-10-24T12:10:54.443144",
     "exception": false,
     "start_time": "2021-10-24T12:10:54.403720",
     "status": "completed"
    },
    "tags": []
   },
   "outputs": [],
   "source": [
    "#hide\n",
    "everydaycases = dft_ct_new_cases.cumsum(axis=1)"
   ]
  },
  {
   "cell_type": "code",
   "execution_count": 20,
   "id": "parliamentary-calgary",
   "metadata": {
    "execution": {
     "iopub.execute_input": "2021-10-24T12:10:54.515585Z",
     "iopub.status.busy": "2021-10-24T12:10:54.515060Z",
     "iopub.status.idle": "2021-10-24T12:10:55.123382Z",
     "shell.execute_reply": "2021-10-24T12:10:55.122909Z"
    },
    "papermill": {
     "duration": 0.648144,
     "end_time": "2021-10-24T12:10:55.123507",
     "exception": false,
     "start_time": "2021-10-24T12:10:54.475363",
     "status": "completed"
    },
    "tags": []
   },
   "outputs": [],
   "source": [
    "#hide\n",
    "import pandas as pd\n",
    "import matplotlib.pyplot as plt\n",
    "import matplotlib.ticker as ticker\n",
    "import matplotlib.animation as animation\n",
    "from IPython.display import HTML"
   ]
  },
  {
   "cell_type": "code",
   "execution_count": 21,
   "id": "lasting-extraction",
   "metadata": {
    "execution": {
     "iopub.execute_input": "2021-10-24T12:10:55.196943Z",
     "iopub.status.busy": "2021-10-24T12:10:55.196412Z",
     "iopub.status.idle": "2021-10-24T12:10:55.201674Z",
     "shell.execute_reply": "2021-10-24T12:10:55.202166Z"
    },
    "papermill": {
     "duration": 0.044277,
     "end_time": "2021-10-24T12:10:55.202282",
     "exception": false,
     "start_time": "2021-10-24T12:10:55.158005",
     "status": "completed"
    },
    "tags": []
   },
   "outputs": [],
   "source": [
    "#hide\n",
    "t = everydaycases.stack()"
   ]
  },
  {
   "cell_type": "code",
   "execution_count": 22,
   "id": "premier-sleeve",
   "metadata": {
    "execution": {
     "iopub.execute_input": "2021-10-24T12:10:55.274498Z",
     "iopub.status.busy": "2021-10-24T12:10:55.273915Z",
     "iopub.status.idle": "2021-10-24T12:10:55.282059Z",
     "shell.execute_reply": "2021-10-24T12:10:55.281612Z"
    },
    "papermill": {
     "duration": 0.04793,
     "end_time": "2021-10-24T12:10:55.282159",
     "exception": false,
     "start_time": "2021-10-24T12:10:55.234229",
     "status": "completed"
    },
    "tags": []
   },
   "outputs": [],
   "source": [
    "#hide\n",
    "g = t.reset_index(['Country/Region'])"
   ]
  },
  {
   "cell_type": "code",
   "execution_count": 23,
   "id": "distributed-pittsburgh",
   "metadata": {
    "execution": {
     "iopub.execute_input": "2021-10-24T12:10:55.358536Z",
     "iopub.status.busy": "2021-10-24T12:10:55.358014Z",
     "iopub.status.idle": "2021-10-24T12:10:55.360027Z",
     "shell.execute_reply": "2021-10-24T12:10:55.360477Z"
    },
    "papermill": {
     "duration": 0.04451,
     "end_time": "2021-10-24T12:10:55.360590",
     "exception": false,
     "start_time": "2021-10-24T12:10:55.316080",
     "status": "completed"
    },
    "tags": []
   },
   "outputs": [],
   "source": [
    "#hide\n",
    "g.index.name = 'date'"
   ]
  },
  {
   "cell_type": "code",
   "execution_count": 24,
   "id": "naked-donor",
   "metadata": {
    "execution": {
     "iopub.execute_input": "2021-10-24T12:10:55.430182Z",
     "iopub.status.busy": "2021-10-24T12:10:55.429303Z",
     "iopub.status.idle": "2021-10-24T12:10:55.431582Z",
     "shell.execute_reply": "2021-10-24T12:10:55.432030Z"
    },
    "papermill": {
     "duration": 0.037634,
     "end_time": "2021-10-24T12:10:55.432142",
     "exception": false,
     "start_time": "2021-10-24T12:10:55.394508",
     "status": "completed"
    },
    "tags": []
   },
   "outputs": [],
   "source": [
    "# #hide\n",
    "# g = g.reset_index(['date'])"
   ]
  },
  {
   "cell_type": "code",
   "execution_count": 25,
   "id": "incomplete-mustang",
   "metadata": {
    "execution": {
     "iopub.execute_input": "2021-10-24T12:10:55.499667Z",
     "iopub.status.busy": "2021-10-24T12:10:55.499144Z",
     "iopub.status.idle": "2021-10-24T12:10:55.501366Z",
     "shell.execute_reply": "2021-10-24T12:10:55.501861Z"
    },
    "papermill": {
     "duration": 0.037858,
     "end_time": "2021-10-24T12:10:55.501973",
     "exception": false,
     "start_time": "2021-10-24T12:10:55.464115",
     "status": "completed"
    },
    "tags": []
   },
   "outputs": [],
   "source": [
    "#hide\n",
    "# g.head()"
   ]
  },
  {
   "cell_type": "code",
   "execution_count": 26,
   "id": "specific-kruger",
   "metadata": {
    "execution": {
     "iopub.execute_input": "2021-10-24T12:10:55.568293Z",
     "iopub.status.busy": "2021-10-24T12:10:55.567769Z",
     "iopub.status.idle": "2021-10-24T12:10:55.570045Z",
     "shell.execute_reply": "2021-10-24T12:10:55.569602Z"
    },
    "papermill": {
     "duration": 0.036776,
     "end_time": "2021-10-24T12:10:55.570143",
     "exception": false,
     "start_time": "2021-10-24T12:10:55.533367",
     "status": "completed"
    },
    "tags": []
   },
   "outputs": [],
   "source": [
    "#hide\n",
    "# g.columns = ['date','country','cases']"
   ]
  },
  {
   "cell_type": "code",
   "execution_count": 27,
   "id": "tender-conversion",
   "metadata": {
    "execution": {
     "iopub.execute_input": "2021-10-24T12:10:55.642914Z",
     "iopub.status.busy": "2021-10-24T12:10:55.642253Z",
     "iopub.status.idle": "2021-10-24T12:10:55.645140Z",
     "shell.execute_reply": "2021-10-24T12:10:55.644475Z"
    },
    "papermill": {
     "duration": 0.041452,
     "end_time": "2021-10-24T12:10:55.645310",
     "exception": false,
     "start_time": "2021-10-24T12:10:55.603858",
     "status": "completed"
    },
    "tags": []
   },
   "outputs": [],
   "source": [
    "#hide\n",
    "# g['continent'] = g.country"
   ]
  },
  {
   "cell_type": "code",
   "execution_count": 28,
   "id": "substantial-wilderness",
   "metadata": {
    "execution": {
     "iopub.execute_input": "2021-10-24T12:10:55.715816Z",
     "iopub.status.busy": "2021-10-24T12:10:55.715294Z",
     "iopub.status.idle": "2021-10-24T12:10:55.717026Z",
     "shell.execute_reply": "2021-10-24T12:10:55.717502Z"
    },
    "papermill": {
     "duration": 0.037785,
     "end_time": "2021-10-24T12:10:55.717616",
     "exception": false,
     "start_time": "2021-10-24T12:10:55.679831",
     "status": "completed"
    },
    "tags": []
   },
   "outputs": [],
   "source": [
    "#hide\n",
    "# cols = list(g.columns.values)"
   ]
  },
  {
   "cell_type": "code",
   "execution_count": 29,
   "id": "solved-farming",
   "metadata": {
    "execution": {
     "iopub.execute_input": "2021-10-24T12:10:55.784362Z",
     "iopub.status.busy": "2021-10-24T12:10:55.783839Z",
     "iopub.status.idle": "2021-10-24T12:10:55.785952Z",
     "shell.execute_reply": "2021-10-24T12:10:55.786353Z"
    },
    "papermill": {
     "duration": 0.037686,
     "end_time": "2021-10-24T12:10:55.786467",
     "exception": false,
     "start_time": "2021-10-24T12:10:55.748781",
     "status": "completed"
    },
    "tags": []
   },
   "outputs": [],
   "source": [
    "#hide\n",
    "# cols.insert(0, cols.pop())"
   ]
  },
  {
   "cell_type": "code",
   "execution_count": 30,
   "id": "executed-adoption",
   "metadata": {
    "execution": {
     "iopub.execute_input": "2021-10-24T12:10:55.856091Z",
     "iopub.status.busy": "2021-10-24T12:10:55.855398Z",
     "iopub.status.idle": "2021-10-24T12:10:55.857259Z",
     "shell.execute_reply": "2021-10-24T12:10:55.857726Z"
    },
    "papermill": {
     "duration": 0.037599,
     "end_time": "2021-10-24T12:10:55.857838",
     "exception": false,
     "start_time": "2021-10-24T12:10:55.820239",
     "status": "completed"
    },
    "tags": []
   },
   "outputs": [],
   "source": [
    "#hide\n",
    "# g = g[cols]"
   ]
  },
  {
   "cell_type": "code",
   "execution_count": 31,
   "id": "subject-dublin",
   "metadata": {
    "execution": {
     "iopub.execute_input": "2021-10-24T12:10:55.924600Z",
     "iopub.status.busy": "2021-10-24T12:10:55.923998Z",
     "iopub.status.idle": "2021-10-24T12:10:55.926455Z",
     "shell.execute_reply": "2021-10-24T12:10:55.926012Z"
    },
    "papermill": {
     "duration": 0.036958,
     "end_time": "2021-10-24T12:10:55.926553",
     "exception": false,
     "start_time": "2021-10-24T12:10:55.889595",
     "status": "completed"
    },
    "tags": []
   },
   "outputs": [],
   "source": [
    "#hide\n",
    "# g['continent'] = g['continent'].map(mapping['map.continent'])"
   ]
  },
  {
   "cell_type": "code",
   "execution_count": 32,
   "id": "freelance-scout",
   "metadata": {
    "execution": {
     "iopub.execute_input": "2021-10-24T12:10:55.996371Z",
     "iopub.status.busy": "2021-10-24T12:10:55.995861Z",
     "iopub.status.idle": "2021-10-24T12:10:55.997630Z",
     "shell.execute_reply": "2021-10-24T12:10:55.998022Z"
    },
    "papermill": {
     "duration": 0.036425,
     "end_time": "2021-10-24T12:10:55.998132",
     "exception": false,
     "start_time": "2021-10-24T12:10:55.961707",
     "status": "completed"
    },
    "tags": []
   },
   "outputs": [],
   "source": [
    "#hide\n",
    "# g.head()"
   ]
  },
  {
   "cell_type": "code",
   "execution_count": 33,
   "id": "limited-engine",
   "metadata": {
    "execution": {
     "iopub.execute_input": "2021-10-24T12:10:56.069841Z",
     "iopub.status.busy": "2021-10-24T12:10:56.069260Z",
     "iopub.status.idle": "2021-10-24T12:10:56.071366Z",
     "shell.execute_reply": "2021-10-24T12:10:56.071863Z"
    },
    "papermill": {
     "duration": 0.042993,
     "end_time": "2021-10-24T12:10:56.071992",
     "exception": false,
     "start_time": "2021-10-24T12:10:56.028999",
     "status": "completed"
    },
    "tags": []
   },
   "outputs": [],
   "source": [
    "# hide\n",
    "# g['date'] = g['date'].astype('datetime64[ns]')"
   ]
  },
  {
   "cell_type": "code",
   "execution_count": 34,
   "id": "sophisticated-supervisor",
   "metadata": {
    "execution": {
     "iopub.execute_input": "2021-10-24T12:10:56.138223Z",
     "iopub.status.busy": "2021-10-24T12:10:56.137713Z",
     "iopub.status.idle": "2021-10-24T12:10:56.139507Z",
     "shell.execute_reply": "2021-10-24T12:10:56.139986Z"
    },
    "papermill": {
     "duration": 0.036546,
     "end_time": "2021-10-24T12:10:56.140095",
     "exception": false,
     "start_time": "2021-10-24T12:10:56.103549",
     "status": "completed"
    },
    "tags": []
   },
   "outputs": [],
   "source": [
    "#hide\n",
    "# g['date'] = g.date.dt.dayofyear"
   ]
  },
  {
   "cell_type": "code",
   "execution_count": 35,
   "id": "inside-dubai",
   "metadata": {
    "execution": {
     "iopub.execute_input": "2021-10-24T12:10:56.206490Z",
     "iopub.status.busy": "2021-10-24T12:10:56.205940Z",
     "iopub.status.idle": "2021-10-24T12:10:56.207741Z",
     "shell.execute_reply": "2021-10-24T12:10:56.208132Z"
    },
    "papermill": {
     "duration": 0.037791,
     "end_time": "2021-10-24T12:10:56.208244",
     "exception": false,
     "start_time": "2021-10-24T12:10:56.170453",
     "status": "completed"
    },
    "tags": []
   },
   "outputs": [],
   "source": [
    "#hide\n",
    "# g = g.rename(columns= {'continent':'group','country':'name','cases':'value'})"
   ]
  },
  {
   "cell_type": "code",
   "execution_count": 36,
   "id": "fleet-motorcycle",
   "metadata": {
    "execution": {
     "iopub.execute_input": "2021-10-24T12:10:56.284341Z",
     "iopub.status.busy": "2021-10-24T12:10:56.283783Z",
     "iopub.status.idle": "2021-10-24T12:10:56.286233Z",
     "shell.execute_reply": "2021-10-24T12:10:56.285602Z"
    },
    "papermill": {
     "duration": 0.045233,
     "end_time": "2021-10-24T12:10:56.286343",
     "exception": false,
     "start_time": "2021-10-24T12:10:56.241110",
     "status": "completed"
    },
    "tags": []
   },
   "outputs": [],
   "source": [
    "#hide\n",
    "# cols = ['name','group','day','value']"
   ]
  },
  {
   "cell_type": "code",
   "execution_count": 37,
   "id": "continued-sleeping",
   "metadata": {
    "execution": {
     "iopub.execute_input": "2021-10-24T12:10:56.355433Z",
     "iopub.status.busy": "2021-10-24T12:10:56.354891Z",
     "iopub.status.idle": "2021-10-24T12:10:56.357444Z",
     "shell.execute_reply": "2021-10-24T12:10:56.356972Z"
    },
    "papermill": {
     "duration": 0.037578,
     "end_time": "2021-10-24T12:10:56.357563",
     "exception": false,
     "start_time": "2021-10-24T12:10:56.319985",
     "status": "completed"
    },
    "tags": []
   },
   "outputs": [],
   "source": [
    "#hide\n",
    "# g.rename(columns= {'date':'day'},inplace = True)"
   ]
  },
  {
   "cell_type": "code",
   "execution_count": 38,
   "id": "major-fight",
   "metadata": {
    "execution": {
     "iopub.execute_input": "2021-10-24T12:10:56.425333Z",
     "iopub.status.busy": "2021-10-24T12:10:56.424746Z",
     "iopub.status.idle": "2021-10-24T12:10:56.426805Z",
     "shell.execute_reply": "2021-10-24T12:10:56.427384Z"
    },
    "papermill": {
     "duration": 0.038809,
     "end_time": "2021-10-24T12:10:56.427557",
     "exception": false,
     "start_time": "2021-10-24T12:10:56.388748",
     "status": "completed"
    },
    "tags": []
   },
   "outputs": [],
   "source": [
    "#hide\n",
    "# g = g[cols]"
   ]
  },
  {
   "cell_type": "code",
   "execution_count": 39,
   "id": "structured-mobile",
   "metadata": {
    "execution": {
     "iopub.execute_input": "2021-10-24T12:10:56.499762Z",
     "iopub.status.busy": "2021-10-24T12:10:56.499213Z",
     "iopub.status.idle": "2021-10-24T12:10:56.501088Z",
     "shell.execute_reply": "2021-10-24T12:10:56.501504Z"
    },
    "papermill": {
     "duration": 0.041929,
     "end_time": "2021-10-24T12:10:56.501619",
     "exception": false,
     "start_time": "2021-10-24T12:10:56.459690",
     "status": "completed"
    },
    "tags": []
   },
   "outputs": [],
   "source": [
    "# #hide\n",
    "# g = g[g.group.notna()]"
   ]
  },
  {
   "cell_type": "code",
   "execution_count": 40,
   "id": "determined-closing",
   "metadata": {
    "execution": {
     "iopub.execute_input": "2021-10-24T12:10:56.571396Z",
     "iopub.status.busy": "2021-10-24T12:10:56.570876Z",
     "iopub.status.idle": "2021-10-24T12:10:56.572851Z",
     "shell.execute_reply": "2021-10-24T12:10:56.573290Z"
    },
    "papermill": {
     "duration": 0.037752,
     "end_time": "2021-10-24T12:10:56.573408",
     "exception": false,
     "start_time": "2021-10-24T12:10:56.535656",
     "status": "completed"
    },
    "tags": []
   },
   "outputs": [],
   "source": [
    "# #hide\n",
    "# colors = dict(zip(\n",
    "#     [\"Oceania\", \"Europe\", \"Asia\", \"South America\", \"Middle East\", \"North America\", \"Africa\"],\n",
    "#     [\"#adb0ff\", \"#ffb3ff\", \"#90d595\", \"#e48381\", \"#aafbff\", \"#f7bb5f\", \"#eafb50\"]\n",
    "# ))\n",
    "# group_lk = g.set_index('name')['group'].to_dict()"
   ]
  },
  {
   "cell_type": "code",
   "execution_count": null,
   "id": "gross-drinking",
   "metadata": {
    "papermill": {
     "duration": 0.034159,
     "end_time": "2021-10-24T12:10:56.638989",
     "exception": false,
     "start_time": "2021-10-24T12:10:56.604830",
     "status": "completed"
    },
    "tags": []
   },
   "outputs": [],
   "source": []
  },
  {
   "cell_type": "code",
   "execution_count": 41,
   "id": "subject-macintosh",
   "metadata": {
    "execution": {
     "iopub.execute_input": "2021-10-24T12:10:56.708117Z",
     "iopub.status.busy": "2021-10-24T12:10:56.707585Z",
     "iopub.status.idle": "2021-10-24T12:10:56.709993Z",
     "shell.execute_reply": "2021-10-24T12:10:56.709399Z"
    },
    "papermill": {
     "duration": 0.038338,
     "end_time": "2021-10-24T12:10:56.710132",
     "exception": false,
     "start_time": "2021-10-24T12:10:56.671794",
     "status": "completed"
    },
    "tags": []
   },
   "outputs": [],
   "source": [
    "# #hide\n",
    "# fig, ax = plt.subplots(figsize=(15, 8))\n",
    "\n",
    "# def draw_barchart(current_day):\n",
    "#     dff = g[g['day'].eq(current_day)].sort_values(by='value', ascending=True).tail(10)\n",
    "#     ax.clear()\n",
    "#     ax.barh(dff['name'], dff['value'], color=[colors[group_lk[x]] for x in dff['name']])\n",
    "#     dx = dff['value'].max() / 200\n",
    "    \n",
    "#     for i, (value, name) in enumerate(zip(dff['value'], dff['name'])):\n",
    "#         ax.text(value-dx, i,     name,           size=14, weight=600, ha='right', va='bottom')\n",
    "#         ax.text(value-dx, i-.25, group_lk[name], size=10, color='#444444', ha='right', va='baseline')\n",
    "#         ax.text(value+dx, i,     f'{value:,.0f}',  size=14, ha='left',  va='center')\n",
    "#     ax.text(1, 0.4, current_day, transform=ax.transAxes, color='#777777', size=46, ha='right', weight=800)\n",
    "#     ax.text(0, 1.06, 'Population (thousands)', transform=ax.transAxes, size=12, color='#777777')\n",
    "#     ax.xaxis.set_major_formatter(ticker.StrMethodFormatter('{x:,.0f}'))\n",
    "#     ax.xaxis.set_ticks_position('top')\n",
    "#     ax.tick_params(axis='x', colors='#777777', labelsize=12)\n",
    "#     ax.set_yticks([])\n",
    "#     ax.margins(0, 0.01)\n",
    "#     ax.grid(which='major', axis='x', linestyle='-')\n",
    "#     ax.set_axisbelow(True)\n",
    "    \n",
    "#     ax.text(0, 1.15, 'Coronavirus',\n",
    "#             transform=ax.transAxes, size=24, weight=600, ha='left', va='top')\n",
    "# #     ax.text(1, 0, 'by @pratapvardhan; credit @jburnmurdoch', transform=ax.transAxes, color='#777777', ha='right',\n",
    "# #             bbox=dict(facecolor='white', alpha=0.8, edgecolor='white'))\n",
    "#     plt.box(False)"
   ]
  },
  {
   "cell_type": "code",
   "execution_count": 42,
   "id": "sexual-wages",
   "metadata": {
    "execution": {
     "iopub.execute_input": "2021-10-24T12:10:56.777783Z",
     "iopub.status.busy": "2021-10-24T12:10:56.777058Z",
     "iopub.status.idle": "2021-10-24T12:10:56.778852Z",
     "shell.execute_reply": "2021-10-24T12:10:56.779306Z"
    },
    "papermill": {
     "duration": 0.036452,
     "end_time": "2021-10-24T12:10:56.779417",
     "exception": false,
     "start_time": "2021-10-24T12:10:56.742965",
     "status": "completed"
    },
    "tags": []
   },
   "outputs": [],
   "source": [
    "# #hide_input\n",
    "# fig, ax = plt.subplots(figsize=(15, 8))\n",
    "# animator = animation.FuncAnimation(fig, draw_barchart, frames=range(g.day.values.min(), g.day.values.max()))\n",
    "# HTML(animator.to_jshtml())\n",
    "# # or use animator.to_html5_video() or animator.save() "
   ]
  },
  {
   "cell_type": "code",
   "execution_count": null,
   "id": "australian-container",
   "metadata": {
    "papermill": {
     "duration": 0.031385,
     "end_time": "2021-10-24T12:10:56.843596",
     "exception": false,
     "start_time": "2021-10-24T12:10:56.812211",
     "status": "completed"
    },
    "tags": []
   },
   "outputs": [],
   "source": []
  },
  {
   "cell_type": "code",
   "execution_count": null,
   "id": "mediterranean-pontiac",
   "metadata": {
    "papermill": {
     "duration": 0.033224,
     "end_time": "2021-10-24T12:10:56.908136",
     "exception": false,
     "start_time": "2021-10-24T12:10:56.874912",
     "status": "completed"
    },
    "tags": []
   },
   "outputs": [],
   "source": []
  },
  {
   "cell_type": "code",
   "execution_count": null,
   "id": "aging-legislature",
   "metadata": {
    "papermill": {
     "duration": 0.033691,
     "end_time": "2021-10-24T12:10:56.975222",
     "exception": false,
     "start_time": "2021-10-24T12:10:56.941531",
     "status": "completed"
    },
    "tags": []
   },
   "outputs": [],
   "source": []
  }
 ],
 "metadata": {
  "kernelspec": {
   "display_name": "Python 3",
   "language": "python",
   "name": "python3"
  },
  "language_info": {
   "codemirror_mode": {
    "name": "ipython",
    "version": 3
   },
   "file_extension": ".py",
   "mimetype": "text/x-python",
   "name": "python",
   "nbconvert_exporter": "python",
   "pygments_lexer": "ipython3",
   "version": "3.6.15"
  },
  "papermill": {
   "duration": 6.364519,
   "end_time": "2021-10-24T12:10:57.314958",
   "environment_variables": {},
   "exception": null,
   "input_path": "2020-03-21-covid19exp.ipynb",
   "output_path": "2020-03-21-covid19exp.ipynb",
   "parameters": {},
   "start_time": "2021-10-24T12:10:50.950439",
   "version": "2.0.0"
  }
 },
 "nbformat": 4,
 "nbformat_minor": 5
}