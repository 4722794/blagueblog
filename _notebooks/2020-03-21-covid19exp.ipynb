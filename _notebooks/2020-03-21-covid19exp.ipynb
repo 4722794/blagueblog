{
 "cells": [
  {
   "cell_type": "markdown",
   "id": "muslim-click",
   "metadata": {
    "papermill": {
     "duration": 0.044405,
     "end_time": "2021-12-29T00:27:18.685378",
     "exception": false,
     "start_time": "2021-12-29T00:27:18.640973",
     "status": "completed"
    },
    "tags": []
   },
   "source": [
    "# COVID-19 Case Race\n",
    "> A race chart to see rising cases around the world\n",
    "\n",
    "- author: Hargun Oberoi\n",
    "- image: images/covid-overview.png\n",
    "- hide: false\n",
    "- badges: false"
   ]
  },
  {
   "cell_type": "code",
   "execution_count": 1,
   "id": "proof-material",
   "metadata": {
    "execution": {
     "iopub.execute_input": "2021-12-29T00:27:18.775292Z",
     "iopub.status.busy": "2021-12-29T00:27:18.774508Z",
     "iopub.status.idle": "2021-12-29T00:27:19.191260Z",
     "shell.execute_reply": "2021-12-29T00:27:19.191783Z"
    },
    "papermill": {
     "duration": 0.467883,
     "end_time": "2021-12-29T00:27:19.191973",
     "exception": false,
     "start_time": "2021-12-29T00:27:18.724090",
     "status": "completed"
    },
    "tags": []
   },
   "outputs": [],
   "source": [
    "#hide\n",
    "import numpy as np\n",
    "import pandas as pd\n",
    "from jinja2 import Template\n",
    "from IPython.display import HTML"
   ]
  },
  {
   "cell_type": "code",
   "execution_count": 2,
   "id": "developed-terminology",
   "metadata": {
    "execution": {
     "iopub.execute_input": "2021-12-29T00:27:19.275500Z",
     "iopub.status.busy": "2021-12-29T00:27:19.274424Z",
     "iopub.status.idle": "2021-12-29T00:27:19.278077Z",
     "shell.execute_reply": "2021-12-29T00:27:19.277500Z"
    },
    "papermill": {
     "duration": 0.048192,
     "end_time": "2021-12-29T00:27:19.278236",
     "exception": false,
     "start_time": "2021-12-29T00:27:19.230044",
     "status": "completed"
    },
    "tags": []
   },
   "outputs": [],
   "source": [
    "#hide\n",
    "\n",
    "# FETCH\n",
    "base_url = 'https://raw.githubusercontent.com/pratapvardhan/notebooks/master/covid19/'\n",
    "paths = {\n",
    "    'mapping': base_url + 'mapping_countries.csv',\n",
    "    'overview': base_url + 'overview.tpl'\n",
    "}"
   ]
  },
  {
   "cell_type": "code",
   "execution_count": 3,
   "id": "dynamic-saver",
   "metadata": {
    "execution": {
     "iopub.execute_input": "2021-12-29T00:27:19.365472Z",
     "iopub.status.busy": "2021-12-29T00:27:19.362325Z",
     "iopub.status.idle": "2021-12-29T00:27:19.368842Z",
     "shell.execute_reply": "2021-12-29T00:27:19.369460Z"
    },
    "papermill": {
     "duration": 0.051365,
     "end_time": "2021-12-29T00:27:19.369597",
     "exception": false,
     "start_time": "2021-12-29T00:27:19.318232",
     "status": "completed"
    },
    "tags": []
   },
   "outputs": [
    {
     "data": {
      "text/plain": [
       "'https://raw.githubusercontent.com/pratapvardhan/notebooks/master/covid19/mapping_countries.csv'"
      ]
     },
     "execution_count": 3,
     "metadata": {},
     "output_type": "execute_result"
    }
   ],
   "source": [
    "#hide\n",
    "paths['mapping']"
   ]
  },
  {
   "cell_type": "code",
   "execution_count": 4,
   "id": "urban-software",
   "metadata": {
    "execution": {
     "iopub.execute_input": "2021-12-29T00:27:19.449568Z",
     "iopub.status.busy": "2021-12-29T00:27:19.448920Z",
     "iopub.status.idle": "2021-12-29T00:27:19.453073Z",
     "shell.execute_reply": "2021-12-29T00:27:19.452598Z"
    },
    "papermill": {
     "duration": 0.046947,
     "end_time": "2021-12-29T00:27:19.453188",
     "exception": false,
     "start_time": "2021-12-29T00:27:19.406241",
     "status": "completed"
    },
    "tags": []
   },
   "outputs": [],
   "source": [
    "#hide\n",
    "def get_mappings(url):\n",
    "    df = pd.read_csv(url)\n",
    "    return {\n",
    "        'df': df,\n",
    "        'replace.country': dict(df.dropna(subset=['Name']).set_index('Country')['Name']),\n",
    "        'map.continent': dict(df.set_index('Name')['Continent'])\n",
    "    }"
   ]
  },
  {
   "cell_type": "code",
   "execution_count": 5,
   "id": "intimate-machinery",
   "metadata": {
    "execution": {
     "iopub.execute_input": "2021-12-29T00:27:19.535134Z",
     "iopub.status.busy": "2021-12-29T00:27:19.534387Z",
     "iopub.status.idle": "2021-12-29T00:27:19.576240Z",
     "shell.execute_reply": "2021-12-29T00:27:19.576832Z"
    },
    "papermill": {
     "duration": 0.084592,
     "end_time": "2021-12-29T00:27:19.576968",
     "exception": false,
     "start_time": "2021-12-29T00:27:19.492376",
     "status": "completed"
    },
    "tags": []
   },
   "outputs": [],
   "source": [
    "#hide\n",
    "mapping = get_mappings(paths['mapping'])"
   ]
  },
  {
   "cell_type": "code",
   "execution_count": 6,
   "id": "certified-tactics",
   "metadata": {
    "execution": {
     "iopub.execute_input": "2021-12-29T00:27:19.658889Z",
     "iopub.status.busy": "2021-12-29T00:27:19.658207Z",
     "iopub.status.idle": "2021-12-29T00:27:19.660950Z",
     "shell.execute_reply": "2021-12-29T00:27:19.660246Z"
    },
    "papermill": {
     "duration": 0.044631,
     "end_time": "2021-12-29T00:27:19.661068",
     "exception": false,
     "start_time": "2021-12-29T00:27:19.616437",
     "status": "completed"
    },
    "tags": []
   },
   "outputs": [],
   "source": [
    "#hide\n",
    "def get_template(path):\n",
    "    from urllib.parse import urlparse\n",
    "    if bool(urlparse(path).netloc):\n",
    "        from urllib.request import urlopen\n",
    "        return urlopen(path).read().decode('utf8')\n",
    "    return open(path).read()"
   ]
  },
  {
   "cell_type": "code",
   "execution_count": 7,
   "id": "realistic-blast",
   "metadata": {
    "execution": {
     "iopub.execute_input": "2021-12-29T00:27:19.743981Z",
     "iopub.status.busy": "2021-12-29T00:27:19.743178Z",
     "iopub.status.idle": "2021-12-29T00:27:19.748318Z",
     "shell.execute_reply": "2021-12-29T00:27:19.747681Z"
    },
    "papermill": {
     "duration": 0.050076,
     "end_time": "2021-12-29T00:27:19.748451",
     "exception": false,
     "start_time": "2021-12-29T00:27:19.698375",
     "status": "completed"
    },
    "tags": []
   },
   "outputs": [],
   "source": [
    "#hide\n",
    "def get_frame(name):\n",
    "    url = (\n",
    "        'https://raw.githubusercontent.com/CSSEGISandData/COVID-19/master/csse_covid_19_data/'\n",
    "        f'csse_covid_19_time_series/time_series_covid19_{name}_global.csv')\n",
    "    df = pd.read_csv(url)\n",
    "    # rename countries\n",
    "    df['Country/Region'] = df['Country/Region'].replace(mapping['replace.country'])\n",
    "    return df"
   ]
  },
  {
   "cell_type": "code",
   "execution_count": 8,
   "id": "affiliated-characterization",
   "metadata": {
    "execution": {
     "iopub.execute_input": "2021-12-29T00:27:19.831336Z",
     "iopub.status.busy": "2021-12-29T00:27:19.830652Z",
     "iopub.status.idle": "2021-12-29T00:27:19.832577Z",
     "shell.execute_reply": "2021-12-29T00:27:19.833131Z"
    },
    "papermill": {
     "duration": 0.046722,
     "end_time": "2021-12-29T00:27:19.833274",
     "exception": false,
     "start_time": "2021-12-29T00:27:19.786552",
     "status": "completed"
    },
    "tags": []
   },
   "outputs": [],
   "source": [
    "#hide\n",
    "def get_dates(df):\n",
    "    dt_cols = df.columns[~df.columns.isin(['Province/State', 'Country/Region', 'Lat', 'Long'])]\n",
    "    LAST_DATE_I = -1\n",
    "    # sometimes last column may be empty, then go backwards\n",
    "    for i in range(-1, -len(dt_cols), -1):\n",
    "        if not df[dt_cols[i]].fillna(0).eq(0).all():\n",
    "            LAST_DATE_I = i\n",
    "            break\n",
    "    return LAST_DATE_I, dt_cols"
   ]
  },
  {
   "cell_type": "code",
   "execution_count": 9,
   "id": "recent-optimization",
   "metadata": {
    "execution": {
     "iopub.execute_input": "2021-12-29T00:27:19.917820Z",
     "iopub.status.busy": "2021-12-29T00:27:19.916165Z",
     "iopub.status.idle": "2021-12-29T00:27:20.392934Z",
     "shell.execute_reply": "2021-12-29T00:27:20.392381Z"
    },
    "papermill": {
     "duration": 0.517281,
     "end_time": "2021-12-29T00:27:20.393070",
     "exception": false,
     "start_time": "2021-12-29T00:27:19.875789",
     "status": "completed"
    },
    "tags": []
   },
   "outputs": [],
   "source": [
    "#hide\n",
    "COL_REGION = 'Country/Region'\n",
    "# Confirmed, Recovered, Deaths\n",
    "df = get_frame('confirmed')\n",
    "# dft_: timeseries, dfc_: today country agg\n",
    "dft_cases = df\n",
    "dft_deaths = get_frame('deaths')\n",
    "dft_recovered = get_frame('recovered')\n",
    "LAST_DATE_I, dt_cols = get_dates(df)"
   ]
  },
  {
   "cell_type": "code",
   "execution_count": 10,
   "id": "absolute-copper",
   "metadata": {
    "execution": {
     "iopub.execute_input": "2021-12-29T00:27:20.478926Z",
     "iopub.status.busy": "2021-12-29T00:27:20.478296Z",
     "iopub.status.idle": "2021-12-29T00:27:20.480426Z",
     "shell.execute_reply": "2021-12-29T00:27:20.480936Z"
    },
    "papermill": {
     "duration": 0.050473,
     "end_time": "2021-12-29T00:27:20.481077",
     "exception": false,
     "start_time": "2021-12-29T00:27:20.430604",
     "status": "completed"
    },
    "tags": []
   },
   "outputs": [],
   "source": [
    "#hide\n",
    "LAST_DATE_I, dt_cols = get_dates(df)\n",
    "dt_today =dt_cols[LAST_DATE_I]\n",
    "# dt_5day = dt_cols[LAST_DATE_I - 5]\n",
    "dt_yday = dt_cols[LAST_DATE_I - 1]"
   ]
  },
  {
   "cell_type": "code",
   "execution_count": 11,
   "id": "restricted-sheriff",
   "metadata": {
    "execution": {
     "iopub.execute_input": "2021-12-29T00:27:20.571662Z",
     "iopub.status.busy": "2021-12-29T00:27:20.571011Z",
     "iopub.status.idle": "2021-12-29T00:27:20.579274Z",
     "shell.execute_reply": "2021-12-29T00:27:20.578649Z"
    },
    "papermill": {
     "duration": 0.061198,
     "end_time": "2021-12-29T00:27:20.579403",
     "exception": false,
     "start_time": "2021-12-29T00:27:20.518205",
     "status": "completed"
    },
    "tags": []
   },
   "outputs": [],
   "source": [
    "#hide\n",
    "dfc_cases = dft_cases.groupby(COL_REGION)[dt_today].sum()\n",
    "dfc_deaths = dft_deaths.groupby(COL_REGION)[dt_today].sum()\n",
    "# dfp_cases = dft_cases.groupby(COL_REGION)[dt_5day].sum()\n",
    "# dfp_deaths = dft_deaths.groupby(COL_REGION)[dt_5day].sum()\n",
    "dfp_cases = dft_cases.groupby(COL_REGION)[dt_yday].sum()\n",
    "dfp_deaths = dft_deaths.groupby(COL_REGION)[dt_yday].sum()"
   ]
  },
  {
   "cell_type": "code",
   "execution_count": 12,
   "id": "deluxe-hepatitis",
   "metadata": {
    "execution": {
     "iopub.execute_input": "2021-12-29T00:27:20.662292Z",
     "iopub.status.busy": "2021-12-29T00:27:20.661580Z",
     "iopub.status.idle": "2021-12-29T00:27:20.667405Z",
     "shell.execute_reply": "2021-12-29T00:27:20.668042Z"
    },
    "papermill": {
     "duration": 0.05165,
     "end_time": "2021-12-29T00:27:20.668272",
     "exception": false,
     "start_time": "2021-12-29T00:27:20.616622",
     "status": "completed"
    },
    "tags": []
   },
   "outputs": [],
   "source": [
    "#hide\n",
    "df_table = (pd.DataFrame(dict(Cases = dfc_cases, Deaths = dfc_deaths, PCases = dfp_cases, PDeaths = dfp_deaths))\n",
    "            .sort_values(by = ['Cases','Deaths'], ascending = [False, False])\n",
    "            .reset_index())"
   ]
  },
  {
   "cell_type": "code",
   "execution_count": 13,
   "id": "educational-chancellor",
   "metadata": {
    "execution": {
     "iopub.execute_input": "2021-12-29T00:27:20.774245Z",
     "iopub.status.busy": "2021-12-29T00:27:20.773414Z",
     "iopub.status.idle": "2021-12-29T00:27:20.776702Z",
     "shell.execute_reply": "2021-12-29T00:27:20.777231Z"
    },
    "papermill": {
     "duration": 0.071182,
     "end_time": "2021-12-29T00:27:20.777365",
     "exception": false,
     "start_time": "2021-12-29T00:27:20.706183",
     "status": "completed"
    },
    "tags": []
   },
   "outputs": [
    {
     "data": {
      "text/html": [
       "<div>\n",
       "<style scoped>\n",
       "    .dataframe tbody tr th:only-of-type {\n",
       "        vertical-align: middle;\n",
       "    }\n",
       "\n",
       "    .dataframe tbody tr th {\n",
       "        vertical-align: top;\n",
       "    }\n",
       "\n",
       "    .dataframe thead th {\n",
       "        text-align: right;\n",
       "    }\n",
       "</style>\n",
       "<table border=\"1\" class=\"dataframe\">\n",
       "  <thead>\n",
       "    <tr style=\"text-align: right;\">\n",
       "      <th></th>\n",
       "      <th>Country/Region</th>\n",
       "      <th>Cases</th>\n",
       "      <th>Deaths</th>\n",
       "      <th>PCases</th>\n",
       "      <th>PDeaths</th>\n",
       "      <th>Cases (+)</th>\n",
       "      <th>Deaths (+)</th>\n",
       "      <th>Fatality Rate</th>\n",
       "      <th>Continent</th>\n",
       "    </tr>\n",
       "  </thead>\n",
       "  <tbody>\n",
       "    <tr>\n",
       "      <th>0</th>\n",
       "      <td>US</td>\n",
       "      <td>52793407</td>\n",
       "      <td>818371</td>\n",
       "      <td>52280854</td>\n",
       "      <td>816609</td>\n",
       "      <td>512553</td>\n",
       "      <td>1762</td>\n",
       "      <td>1.55</td>\n",
       "      <td>North America</td>\n",
       "    </tr>\n",
       "    <tr>\n",
       "      <th>1</th>\n",
       "      <td>India</td>\n",
       "      <td>34799691</td>\n",
       "      <td>480290</td>\n",
       "      <td>34793333</td>\n",
       "      <td>479997</td>\n",
       "      <td>6358</td>\n",
       "      <td>293</td>\n",
       "      <td>1.38</td>\n",
       "      <td>Asia</td>\n",
       "    </tr>\n",
       "    <tr>\n",
       "      <th>2</th>\n",
       "      <td>Brazil</td>\n",
       "      <td>22250218</td>\n",
       "      <td>618797</td>\n",
       "      <td>22243266</td>\n",
       "      <td>618732</td>\n",
       "      <td>6952</td>\n",
       "      <td>65</td>\n",
       "      <td>2.78</td>\n",
       "      <td>South America</td>\n",
       "    </tr>\n",
       "    <tr>\n",
       "      <th>3</th>\n",
       "      <td>United Kingdom</td>\n",
       "      <td>12277814</td>\n",
       "      <td>148470</td>\n",
       "      <td>11958928</td>\n",
       "      <td>148324</td>\n",
       "      <td>318886</td>\n",
       "      <td>146</td>\n",
       "      <td>1.21</td>\n",
       "      <td>Europe</td>\n",
       "    </tr>\n",
       "    <tr>\n",
       "      <th>4</th>\n",
       "      <td>Russia</td>\n",
       "      <td>10236301</td>\n",
       "      <td>299077</td>\n",
       "      <td>10213265</td>\n",
       "      <td>298165</td>\n",
       "      <td>23036</td>\n",
       "      <td>912</td>\n",
       "      <td>2.92</td>\n",
       "      <td>Europe</td>\n",
       "    </tr>\n",
       "  </tbody>\n",
       "</table>\n",
       "</div>"
      ],
      "text/plain": [
       "   Country/Region     Cases  Deaths    PCases  PDeaths  Cases (+)  Deaths (+)  \\\n",
       "0              US  52793407  818371  52280854   816609     512553        1762   \n",
       "1           India  34799691  480290  34793333   479997       6358         293   \n",
       "2          Brazil  22250218  618797  22243266   618732       6952          65   \n",
       "3  United Kingdom  12277814  148470  11958928   148324     318886         146   \n",
       "4          Russia  10236301  299077  10213265   298165      23036         912   \n",
       "\n",
       "   Fatality Rate      Continent  \n",
       "0           1.55  North America  \n",
       "1           1.38           Asia  \n",
       "2           2.78  South America  \n",
       "3           1.21         Europe  \n",
       "4           2.92         Europe  "
      ]
     },
     "execution_count": 13,
     "metadata": {},
     "output_type": "execute_result"
    }
   ],
   "source": [
    "#hide\n",
    "for c in 'Cases, Deaths'.split(', '):\n",
    "    df_table[f'{c} (+)'] = (df_table[c] - df_table[f'P{c}']).clip(0)\n",
    "    #Clip ça veut dire, les chiffres negatif sont interdit\n",
    "df_table['Fatality Rate'] = (100* df_table['Deaths']/ df_table['Cases']).round(2)\n",
    "df_table['Continent'] = df_table['Country/Region'].map(mapping['map.continent'])\n",
    "df_table.head(5)"
   ]
  },
  {
   "cell_type": "code",
   "execution_count": 14,
   "id": "aboriginal-bulgaria",
   "metadata": {
    "execution": {
     "iopub.execute_input": "2021-12-29T00:27:20.859396Z",
     "iopub.status.busy": "2021-12-29T00:27:20.858745Z",
     "iopub.status.idle": "2021-12-29T00:27:20.861075Z",
     "shell.execute_reply": "2021-12-29T00:27:20.860467Z"
    },
    "papermill": {
     "duration": 0.045119,
     "end_time": "2021-12-29T00:27:20.861198",
     "exception": false,
     "start_time": "2021-12-29T00:27:20.816079",
     "status": "completed"
    },
    "tags": []
   },
   "outputs": [],
   "source": [
    "#hide\n",
    "#delete problematic countries from table\n",
    "df_table = df_table[~df_table['Country/Region'].isin(['Cape Verde', 'Cruise Ship', 'Kosovo'])]"
   ]
  },
  {
   "cell_type": "code",
   "execution_count": 15,
   "id": "fantastic-effect",
   "metadata": {
    "execution": {
     "iopub.execute_input": "2021-12-29T00:27:20.946853Z",
     "iopub.status.busy": "2021-12-29T00:27:20.946116Z",
     "iopub.status.idle": "2021-12-29T00:27:20.967922Z",
     "shell.execute_reply": "2021-12-29T00:27:20.968364Z"
    },
    "papermill": {
     "duration": 0.070557,
     "end_time": "2021-12-29T00:27:20.968564",
     "exception": false,
     "start_time": "2021-12-29T00:27:20.898007",
     "status": "completed"
    },
    "tags": []
   },
   "outputs": [
    {
     "data": {
      "text/html": [
       "<div>\n",
       "<style scoped>\n",
       "    .dataframe tbody tr th:only-of-type {\n",
       "        vertical-align: middle;\n",
       "    }\n",
       "\n",
       "    .dataframe tbody tr th {\n",
       "        vertical-align: top;\n",
       "    }\n",
       "\n",
       "    .dataframe thead th {\n",
       "        text-align: right;\n",
       "    }\n",
       "</style>\n",
       "<table border=\"1\" class=\"dataframe\">\n",
       "  <thead>\n",
       "    <tr style=\"text-align: right;\">\n",
       "      <th></th>\n",
       "      <th>Country/Region</th>\n",
       "      <th>Cases</th>\n",
       "      <th>Deaths</th>\n",
       "      <th>PCases</th>\n",
       "      <th>PDeaths</th>\n",
       "      <th>Cases (+)</th>\n",
       "      <th>Deaths (+)</th>\n",
       "      <th>Fatality Rate</th>\n",
       "      <th>Continent</th>\n",
       "    </tr>\n",
       "  </thead>\n",
       "  <tbody>\n",
       "    <tr>\n",
       "      <th>0</th>\n",
       "      <td>US</td>\n",
       "      <td>52793407</td>\n",
       "      <td>818371</td>\n",
       "      <td>52280854</td>\n",
       "      <td>816609</td>\n",
       "      <td>512553</td>\n",
       "      <td>1762</td>\n",
       "      <td>1.6</td>\n",
       "      <td>North America</td>\n",
       "    </tr>\n",
       "    <tr>\n",
       "      <th>1</th>\n",
       "      <td>India</td>\n",
       "      <td>34799691</td>\n",
       "      <td>480290</td>\n",
       "      <td>34793333</td>\n",
       "      <td>479997</td>\n",
       "      <td>6358</td>\n",
       "      <td>293</td>\n",
       "      <td>1.4</td>\n",
       "      <td>Asia</td>\n",
       "    </tr>\n",
       "    <tr>\n",
       "      <th>2</th>\n",
       "      <td>Brazil</td>\n",
       "      <td>22250218</td>\n",
       "      <td>618797</td>\n",
       "      <td>22243266</td>\n",
       "      <td>618732</td>\n",
       "      <td>6952</td>\n",
       "      <td>65</td>\n",
       "      <td>2.8</td>\n",
       "      <td>South America</td>\n",
       "    </tr>\n",
       "    <tr>\n",
       "      <th>3</th>\n",
       "      <td>United Kingdom</td>\n",
       "      <td>12277814</td>\n",
       "      <td>148470</td>\n",
       "      <td>11958928</td>\n",
       "      <td>148324</td>\n",
       "      <td>318886</td>\n",
       "      <td>146</td>\n",
       "      <td>1.2</td>\n",
       "      <td>Europe</td>\n",
       "    </tr>\n",
       "    <tr>\n",
       "      <th>4</th>\n",
       "      <td>Russia</td>\n",
       "      <td>10236301</td>\n",
       "      <td>299077</td>\n",
       "      <td>10213265</td>\n",
       "      <td>298165</td>\n",
       "      <td>23036</td>\n",
       "      <td>912</td>\n",
       "      <td>2.9</td>\n",
       "      <td>Europe</td>\n",
       "    </tr>\n",
       "  </tbody>\n",
       "</table>\n",
       "</div>"
      ],
      "text/plain": [
       "   Country/Region     Cases  Deaths    PCases  PDeaths  Cases (+)  Deaths (+)  \\\n",
       "0              US  52793407  818371  52280854   816609     512553        1762   \n",
       "1           India  34799691  480290  34793333   479997       6358         293   \n",
       "2          Brazil  22250218  618797  22243266   618732       6952          65   \n",
       "3  United Kingdom  12277814  148470  11958928   148324     318886         146   \n",
       "4          Russia  10236301  299077  10213265   298165      23036         912   \n",
       "\n",
       "   Fatality Rate      Continent  \n",
       "0            1.6  North America  \n",
       "1            1.4           Asia  \n",
       "2            2.8  South America  \n",
       "3            1.2         Europe  \n",
       "4            2.9         Europe  "
      ]
     },
     "execution_count": 15,
     "metadata": {},
     "output_type": "execute_result"
    }
   ],
   "source": [
    "#hide\n",
    "df_table = (pd.DataFrame(dict(Cases=dfc_cases, Deaths=dfc_deaths, PCases=dfp_cases, PDeaths=dfp_deaths))\n",
    "             .sort_values(by=['Cases', 'Deaths'], ascending=[False, False])\n",
    "             .reset_index())\n",
    "df_table.rename(columns={'index': 'Country/Region'}, inplace=True)\n",
    "for c in 'Cases, Deaths'.split(', '):\n",
    "    df_table[f'{c} (+)'] = (df_table[c] - df_table[f'P{c}']).clip(0)  # DATA BUG\n",
    "df_table['Fatality Rate'] = (100 * df_table['Deaths'] / df_table['Cases']).round(1)\n",
    "df_table['Continent'] = df_table['Country/Region'].map(mapping['map.continent'])\n",
    "df_table.head(5)"
   ]
  },
  {
   "cell_type": "code",
   "execution_count": 16,
   "id": "fewer-occasion",
   "metadata": {
    "execution": {
     "iopub.execute_input": "2021-12-29T00:27:21.053935Z",
     "iopub.status.busy": "2021-12-29T00:27:21.053245Z",
     "iopub.status.idle": "2021-12-29T00:27:21.055865Z",
     "shell.execute_reply": "2021-12-29T00:27:21.055362Z"
    },
    "papermill": {
     "duration": 0.047538,
     "end_time": "2021-12-29T00:27:21.055983",
     "exception": false,
     "start_time": "2021-12-29T00:27:21.008445",
     "status": "completed"
    },
    "tags": []
   },
   "outputs": [],
   "source": [
    "#hide\n",
    "#delete problematic countries from table\n",
    "df_table = df_table[~df_table['Country/Region'].isin(['Cape Verde', 'Cruise Ship', 'Kosovo'])]"
   ]
  },
  {
   "cell_type": "code",
   "execution_count": 17,
   "id": "related-center",
   "metadata": {
    "execution": {
     "iopub.execute_input": "2021-12-29T00:27:21.185362Z",
     "iopub.status.busy": "2021-12-29T00:27:21.184664Z",
     "iopub.status.idle": "2021-12-29T00:27:21.201457Z",
     "shell.execute_reply": "2021-12-29T00:27:21.202120Z"
    },
    "papermill": {
     "duration": 0.068524,
     "end_time": "2021-12-29T00:27:21.202351",
     "exception": false,
     "start_time": "2021-12-29T00:27:21.133827",
     "status": "completed"
    },
    "tags": []
   },
   "outputs": [],
   "source": [
    "#hide\n",
    "metrics = [df_table.columns[index] for index in [1,2,5,6]]\n",
    "# s_china = df_table[df_table['Country/Region'].eq('China')][metrics].sum().add_prefix('China ')\n",
    "s_us = df_table[df_table['Country/Region'].eq('US')][metrics].sum().add_prefix('US ')\n",
    "s_eu = df_table[df_table['Continent'].eq('Europe')][metrics].sum().add_prefix('EU ')\n",
    "s_ind = df_table[df_table['Country/Region'].eq('India')][metrics].sum().add_prefix('India ')\n",
    "summary = {'updated': pd.to_datetime(dt_today), 'since': pd.to_datetime(dt_yday)}\n",
    "summary = {'updated': pd.to_datetime(dt_today), 'since': pd.to_datetime(dt_yday)}\n",
    "summary = {**summary, **df_table[metrics].sum(), **s_ind, **s_us, **s_eu}"
   ]
  },
  {
   "cell_type": "code",
   "execution_count": 18,
   "id": "engaging-syndrome",
   "metadata": {
    "execution": {
     "iopub.execute_input": "2021-12-29T00:27:21.293331Z",
     "iopub.status.busy": "2021-12-29T00:27:21.292353Z",
     "iopub.status.idle": "2021-12-29T00:27:21.307775Z",
     "shell.execute_reply": "2021-12-29T00:27:21.307210Z"
    },
    "papermill": {
     "duration": 0.060088,
     "end_time": "2021-12-29T00:27:21.307898",
     "exception": false,
     "start_time": "2021-12-29T00:27:21.247810",
     "status": "completed"
    },
    "tags": []
   },
   "outputs": [],
   "source": [
    "#hide\n",
    "dft_ct_new_cases = dft_cases.groupby(COL_REGION)[dt_cols].sum().diff(axis=1).fillna(0).astype(int)"
   ]
  },
  {
   "cell_type": "code",
   "execution_count": 19,
   "id": "neutral-assignment",
   "metadata": {
    "execution": {
     "iopub.execute_input": "2021-12-29T00:27:21.396512Z",
     "iopub.status.busy": "2021-12-29T00:27:21.395912Z",
     "iopub.status.idle": "2021-12-29T00:27:21.398221Z",
     "shell.execute_reply": "2021-12-29T00:27:21.398801Z"
    },
    "papermill": {
     "duration": 0.051716,
     "end_time": "2021-12-29T00:27:21.398966",
     "exception": false,
     "start_time": "2021-12-29T00:27:21.347250",
     "status": "completed"
    },
    "tags": []
   },
   "outputs": [],
   "source": [
    "#hide\n",
    "everydaycases = dft_ct_new_cases.cumsum(axis=1)"
   ]
  },
  {
   "cell_type": "code",
   "execution_count": 20,
   "id": "parliamentary-calgary",
   "metadata": {
    "execution": {
     "iopub.execute_input": "2021-12-29T00:27:21.479365Z",
     "iopub.status.busy": "2021-12-29T00:27:21.478757Z",
     "iopub.status.idle": "2021-12-29T00:27:22.396419Z",
     "shell.execute_reply": "2021-12-29T00:27:22.396985Z"
    },
    "papermill": {
     "duration": 0.96035,
     "end_time": "2021-12-29T00:27:22.397187",
     "exception": false,
     "start_time": "2021-12-29T00:27:21.436837",
     "status": "completed"
    },
    "tags": []
   },
   "outputs": [],
   "source": [
    "#hide\n",
    "import pandas as pd\n",
    "import matplotlib.pyplot as plt\n",
    "import matplotlib.ticker as ticker\n",
    "import matplotlib.animation as animation\n",
    "from IPython.display import HTML"
   ]
  },
  {
   "cell_type": "code",
   "execution_count": 21,
   "id": "lasting-extraction",
   "metadata": {
    "execution": {
     "iopub.execute_input": "2021-12-29T00:27:22.492390Z",
     "iopub.status.busy": "2021-12-29T00:27:22.491052Z",
     "iopub.status.idle": "2021-12-29T00:27:22.503556Z",
     "shell.execute_reply": "2021-12-29T00:27:22.502948Z"
    },
    "papermill": {
     "duration": 0.059628,
     "end_time": "2021-12-29T00:27:22.503681",
     "exception": false,
     "start_time": "2021-12-29T00:27:22.444053",
     "status": "completed"
    },
    "tags": []
   },
   "outputs": [],
   "source": [
    "#hide\n",
    "t = everydaycases.stack()"
   ]
  },
  {
   "cell_type": "code",
   "execution_count": 22,
   "id": "premier-sleeve",
   "metadata": {
    "execution": {
     "iopub.execute_input": "2021-12-29T00:27:22.589326Z",
     "iopub.status.busy": "2021-12-29T00:27:22.588647Z",
     "iopub.status.idle": "2021-12-29T00:27:22.598496Z",
     "shell.execute_reply": "2021-12-29T00:27:22.599173Z"
    },
    "papermill": {
     "duration": 0.053019,
     "end_time": "2021-12-29T00:27:22.599301",
     "exception": false,
     "start_time": "2021-12-29T00:27:22.546282",
     "status": "completed"
    },
    "tags": []
   },
   "outputs": [],
   "source": [
    "#hide\n",
    "g = t.reset_index(['Country/Region'])"
   ]
  },
  {
   "cell_type": "code",
   "execution_count": 23,
   "id": "distributed-pittsburgh",
   "metadata": {
    "execution": {
     "iopub.execute_input": "2021-12-29T00:27:22.675774Z",
     "iopub.status.busy": "2021-12-29T00:27:22.675135Z",
     "iopub.status.idle": "2021-12-29T00:27:22.678675Z",
     "shell.execute_reply": "2021-12-29T00:27:22.679327Z"
    },
    "papermill": {
     "duration": 0.041974,
     "end_time": "2021-12-29T00:27:22.679483",
     "exception": false,
     "start_time": "2021-12-29T00:27:22.637509",
     "status": "completed"
    },
    "tags": []
   },
   "outputs": [],
   "source": [
    "#hide\n",
    "g.index.name = 'date'"
   ]
  },
  {
   "cell_type": "code",
   "execution_count": 24,
   "id": "naked-donor",
   "metadata": {
    "execution": {
     "iopub.execute_input": "2021-12-29T00:27:22.761924Z",
     "iopub.status.busy": "2021-12-29T00:27:22.761210Z",
     "iopub.status.idle": "2021-12-29T00:27:22.763555Z",
     "shell.execute_reply": "2021-12-29T00:27:22.764144Z"
    },
    "papermill": {
     "duration": 0.044386,
     "end_time": "2021-12-29T00:27:22.764270",
     "exception": false,
     "start_time": "2021-12-29T00:27:22.719884",
     "status": "completed"
    },
    "tags": []
   },
   "outputs": [],
   "source": [
    "# #hide\n",
    "# g = g.reset_index(['date'])"
   ]
  },
  {
   "cell_type": "code",
   "execution_count": 25,
   "id": "incomplete-mustang",
   "metadata": {
    "execution": {
     "iopub.execute_input": "2021-12-29T00:27:22.857403Z",
     "iopub.status.busy": "2021-12-29T00:27:22.856781Z",
     "iopub.status.idle": "2021-12-29T00:27:22.859488Z",
     "shell.execute_reply": "2021-12-29T00:27:22.858780Z"
    },
    "papermill": {
     "duration": 0.05128,
     "end_time": "2021-12-29T00:27:22.859658",
     "exception": false,
     "start_time": "2021-12-29T00:27:22.808378",
     "status": "completed"
    },
    "tags": []
   },
   "outputs": [],
   "source": [
    "#hide\n",
    "# g.head()"
   ]
  },
  {
   "cell_type": "code",
   "execution_count": 26,
   "id": "specific-kruger",
   "metadata": {
    "execution": {
     "iopub.execute_input": "2021-12-29T00:27:22.942227Z",
     "iopub.status.busy": "2021-12-29T00:27:22.941247Z",
     "iopub.status.idle": "2021-12-29T00:27:22.945142Z",
     "shell.execute_reply": "2021-12-29T00:27:22.945859Z"
    },
    "papermill": {
     "duration": 0.047586,
     "end_time": "2021-12-29T00:27:22.946009",
     "exception": false,
     "start_time": "2021-12-29T00:27:22.898423",
     "status": "completed"
    },
    "tags": []
   },
   "outputs": [],
   "source": [
    "#hide\n",
    "# g.columns = ['date','country','cases']"
   ]
  },
  {
   "cell_type": "code",
   "execution_count": 27,
   "id": "tender-conversion",
   "metadata": {
    "execution": {
     "iopub.execute_input": "2021-12-29T00:27:23.037843Z",
     "iopub.status.busy": "2021-12-29T00:27:23.037191Z",
     "iopub.status.idle": "2021-12-29T00:27:23.038782Z",
     "shell.execute_reply": "2021-12-29T00:27:23.039476Z"
    },
    "papermill": {
     "duration": 0.045644,
     "end_time": "2021-12-29T00:27:23.039623",
     "exception": false,
     "start_time": "2021-12-29T00:27:22.993979",
     "status": "completed"
    },
    "tags": []
   },
   "outputs": [],
   "source": [
    "#hide\n",
    "# g['continent'] = g.country"
   ]
  },
  {
   "cell_type": "code",
   "execution_count": 28,
   "id": "substantial-wilderness",
   "metadata": {
    "execution": {
     "iopub.execute_input": "2021-12-29T00:27:23.123741Z",
     "iopub.status.busy": "2021-12-29T00:27:23.122960Z",
     "iopub.status.idle": "2021-12-29T00:27:23.127375Z",
     "shell.execute_reply": "2021-12-29T00:27:23.127872Z"
    },
    "papermill": {
     "duration": 0.048362,
     "end_time": "2021-12-29T00:27:23.128021",
     "exception": false,
     "start_time": "2021-12-29T00:27:23.079659",
     "status": "completed"
    },
    "tags": []
   },
   "outputs": [],
   "source": [
    "#hide\n",
    "# cols = list(g.columns.values)"
   ]
  },
  {
   "cell_type": "code",
   "execution_count": 29,
   "id": "solved-farming",
   "metadata": {
    "execution": {
     "iopub.execute_input": "2021-12-29T00:27:23.207609Z",
     "iopub.status.busy": "2021-12-29T00:27:23.207005Z",
     "iopub.status.idle": "2021-12-29T00:27:23.210754Z",
     "shell.execute_reply": "2021-12-29T00:27:23.211413Z"
    },
    "papermill": {
     "duration": 0.044489,
     "end_time": "2021-12-29T00:27:23.211575",
     "exception": false,
     "start_time": "2021-12-29T00:27:23.167086",
     "status": "completed"
    },
    "tags": []
   },
   "outputs": [],
   "source": [
    "#hide\n",
    "# cols.insert(0, cols.pop())"
   ]
  },
  {
   "cell_type": "code",
   "execution_count": 30,
   "id": "executed-adoption",
   "metadata": {
    "execution": {
     "iopub.execute_input": "2021-12-29T00:27:23.296195Z",
     "iopub.status.busy": "2021-12-29T00:27:23.295635Z",
     "iopub.status.idle": "2021-12-29T00:27:23.297863Z",
     "shell.execute_reply": "2021-12-29T00:27:23.298485Z"
    },
    "papermill": {
     "duration": 0.044538,
     "end_time": "2021-12-29T00:27:23.298640",
     "exception": false,
     "start_time": "2021-12-29T00:27:23.254102",
     "status": "completed"
    },
    "tags": []
   },
   "outputs": [],
   "source": [
    "#hide\n",
    "# g = g[cols]"
   ]
  },
  {
   "cell_type": "code",
   "execution_count": 31,
   "id": "subject-dublin",
   "metadata": {
    "execution": {
     "iopub.execute_input": "2021-12-29T00:27:23.381702Z",
     "iopub.status.busy": "2021-12-29T00:27:23.381035Z",
     "iopub.status.idle": "2021-12-29T00:27:23.385710Z",
     "shell.execute_reply": "2021-12-29T00:27:23.384880Z"
    },
    "papermill": {
     "duration": 0.049327,
     "end_time": "2021-12-29T00:27:23.385835",
     "exception": false,
     "start_time": "2021-12-29T00:27:23.336508",
     "status": "completed"
    },
    "tags": []
   },
   "outputs": [],
   "source": [
    "#hide\n",
    "# g['continent'] = g['continent'].map(mapping['map.continent'])"
   ]
  },
  {
   "cell_type": "code",
   "execution_count": 32,
   "id": "freelance-scout",
   "metadata": {
    "execution": {
     "iopub.execute_input": "2021-12-29T00:27:23.465234Z",
     "iopub.status.busy": "2021-12-29T00:27:23.464645Z",
     "iopub.status.idle": "2021-12-29T00:27:23.466372Z",
     "shell.execute_reply": "2021-12-29T00:27:23.466922Z"
    },
    "papermill": {
     "duration": 0.044015,
     "end_time": "2021-12-29T00:27:23.467048",
     "exception": false,
     "start_time": "2021-12-29T00:27:23.423033",
     "status": "completed"
    },
    "tags": []
   },
   "outputs": [],
   "source": [
    "#hide\n",
    "# g.head()"
   ]
  },
  {
   "cell_type": "code",
   "execution_count": 33,
   "id": "limited-engine",
   "metadata": {
    "execution": {
     "iopub.execute_input": "2021-12-29T00:27:23.547383Z",
     "iopub.status.busy": "2021-12-29T00:27:23.546800Z",
     "iopub.status.idle": "2021-12-29T00:27:23.550685Z",
     "shell.execute_reply": "2021-12-29T00:27:23.551263Z"
    },
    "papermill": {
     "duration": 0.045414,
     "end_time": "2021-12-29T00:27:23.551489",
     "exception": false,
     "start_time": "2021-12-29T00:27:23.506075",
     "status": "completed"
    },
    "tags": []
   },
   "outputs": [],
   "source": [
    "# hide\n",
    "# g['date'] = g['date'].astype('datetime64[ns]')"
   ]
  },
  {
   "cell_type": "code",
   "execution_count": 34,
   "id": "sophisticated-supervisor",
   "metadata": {
    "execution": {
     "iopub.execute_input": "2021-12-29T00:27:23.632811Z",
     "iopub.status.busy": "2021-12-29T00:27:23.632112Z",
     "iopub.status.idle": "2021-12-29T00:27:23.634788Z",
     "shell.execute_reply": "2021-12-29T00:27:23.634014Z"
    },
    "papermill": {
     "duration": 0.04556,
     "end_time": "2021-12-29T00:27:23.635048",
     "exception": false,
     "start_time": "2021-12-29T00:27:23.589488",
     "status": "completed"
    },
    "tags": []
   },
   "outputs": [],
   "source": [
    "#hide\n",
    "# g['date'] = g.date.dt.dayofyear"
   ]
  },
  {
   "cell_type": "code",
   "execution_count": 35,
   "id": "inside-dubai",
   "metadata": {
    "execution": {
     "iopub.execute_input": "2021-12-29T00:27:23.715164Z",
     "iopub.status.busy": "2021-12-29T00:27:23.714530Z",
     "iopub.status.idle": "2021-12-29T00:27:23.717175Z",
     "shell.execute_reply": "2021-12-29T00:27:23.716622Z"
    },
    "papermill": {
     "duration": 0.042916,
     "end_time": "2021-12-29T00:27:23.717301",
     "exception": false,
     "start_time": "2021-12-29T00:27:23.674385",
     "status": "completed"
    },
    "tags": []
   },
   "outputs": [],
   "source": [
    "#hide\n",
    "# g = g.rename(columns= {'continent':'group','country':'name','cases':'value'})"
   ]
  },
  {
   "cell_type": "code",
   "execution_count": 36,
   "id": "fleet-motorcycle",
   "metadata": {
    "execution": {
     "iopub.execute_input": "2021-12-29T00:27:23.799413Z",
     "iopub.status.busy": "2021-12-29T00:27:23.798824Z",
     "iopub.status.idle": "2021-12-29T00:27:23.801813Z",
     "shell.execute_reply": "2021-12-29T00:27:23.801190Z"
    },
    "papermill": {
     "duration": 0.046931,
     "end_time": "2021-12-29T00:27:23.801988",
     "exception": false,
     "start_time": "2021-12-29T00:27:23.755057",
     "status": "completed"
    },
    "tags": []
   },
   "outputs": [],
   "source": [
    "#hide\n",
    "# cols = ['name','group','day','value']"
   ]
  },
  {
   "cell_type": "code",
   "execution_count": 37,
   "id": "continued-sleeping",
   "metadata": {
    "execution": {
     "iopub.execute_input": "2021-12-29T00:27:23.879296Z",
     "iopub.status.busy": "2021-12-29T00:27:23.878698Z",
     "iopub.status.idle": "2021-12-29T00:27:23.881162Z",
     "shell.execute_reply": "2021-12-29T00:27:23.880470Z"
    },
    "papermill": {
     "duration": 0.041738,
     "end_time": "2021-12-29T00:27:23.881275",
     "exception": false,
     "start_time": "2021-12-29T00:27:23.839537",
     "status": "completed"
    },
    "tags": []
   },
   "outputs": [],
   "source": [
    "#hide\n",
    "# g.rename(columns= {'date':'day'},inplace = True)"
   ]
  },
  {
   "cell_type": "code",
   "execution_count": 38,
   "id": "major-fight",
   "metadata": {
    "execution": {
     "iopub.execute_input": "2021-12-29T00:27:23.961682Z",
     "iopub.status.busy": "2021-12-29T00:27:23.961044Z",
     "iopub.status.idle": "2021-12-29T00:27:23.963105Z",
     "shell.execute_reply": "2021-12-29T00:27:23.963568Z"
    },
    "papermill": {
     "duration": 0.043644,
     "end_time": "2021-12-29T00:27:23.963707",
     "exception": false,
     "start_time": "2021-12-29T00:27:23.920063",
     "status": "completed"
    },
    "tags": []
   },
   "outputs": [],
   "source": [
    "#hide\n",
    "# g = g[cols]"
   ]
  },
  {
   "cell_type": "code",
   "execution_count": 39,
   "id": "structured-mobile",
   "metadata": {
    "execution": {
     "iopub.execute_input": "2021-12-29T00:27:24.050953Z",
     "iopub.status.busy": "2021-12-29T00:27:24.050306Z",
     "iopub.status.idle": "2021-12-29T00:27:24.053573Z",
     "shell.execute_reply": "2021-12-29T00:27:24.053055Z"
    },
    "papermill": {
     "duration": 0.049011,
     "end_time": "2021-12-29T00:27:24.053696",
     "exception": false,
     "start_time": "2021-12-29T00:27:24.004685",
     "status": "completed"
    },
    "tags": []
   },
   "outputs": [],
   "source": [
    "# #hide\n",
    "# g = g[g.group.notna()]"
   ]
  },
  {
   "cell_type": "code",
   "execution_count": 40,
   "id": "determined-closing",
   "metadata": {
    "execution": {
     "iopub.execute_input": "2021-12-29T00:27:24.140330Z",
     "iopub.status.busy": "2021-12-29T00:27:24.139725Z",
     "iopub.status.idle": "2021-12-29T00:27:24.144093Z",
     "shell.execute_reply": "2021-12-29T00:27:24.144675Z"
    },
    "papermill": {
     "duration": 0.04762,
     "end_time": "2021-12-29T00:27:24.144912",
     "exception": false,
     "start_time": "2021-12-29T00:27:24.097292",
     "status": "completed"
    },
    "tags": []
   },
   "outputs": [],
   "source": [
    "# #hide\n",
    "# colors = dict(zip(\n",
    "#     [\"Oceania\", \"Europe\", \"Asia\", \"South America\", \"Middle East\", \"North America\", \"Africa\"],\n",
    "#     [\"#adb0ff\", \"#ffb3ff\", \"#90d595\", \"#e48381\", \"#aafbff\", \"#f7bb5f\", \"#eafb50\"]\n",
    "# ))\n",
    "# group_lk = g.set_index('name')['group'].to_dict()"
   ]
  },
  {
   "cell_type": "code",
   "execution_count": null,
   "id": "gross-drinking",
   "metadata": {
    "papermill": {
     "duration": 0.040594,
     "end_time": "2021-12-29T00:27:24.224362",
     "exception": false,
     "start_time": "2021-12-29T00:27:24.183768",
     "status": "completed"
    },
    "tags": []
   },
   "outputs": [],
   "source": []
  },
  {
   "cell_type": "code",
   "execution_count": 41,
   "id": "subject-macintosh",
   "metadata": {
    "execution": {
     "iopub.execute_input": "2021-12-29T00:27:24.313692Z",
     "iopub.status.busy": "2021-12-29T00:27:24.312976Z",
     "iopub.status.idle": "2021-12-29T00:27:24.315321Z",
     "shell.execute_reply": "2021-12-29T00:27:24.315895Z"
    },
    "papermill": {
     "duration": 0.050391,
     "end_time": "2021-12-29T00:27:24.316060",
     "exception": false,
     "start_time": "2021-12-29T00:27:24.265669",
     "status": "completed"
    },
    "tags": []
   },
   "outputs": [],
   "source": [
    "# #hide\n",
    "# fig, ax = plt.subplots(figsize=(15, 8))\n",
    "\n",
    "# def draw_barchart(current_day):\n",
    "#     dff = g[g['day'].eq(current_day)].sort_values(by='value', ascending=True).tail(10)\n",
    "#     ax.clear()\n",
    "#     ax.barh(dff['name'], dff['value'], color=[colors[group_lk[x]] for x in dff['name']])\n",
    "#     dx = dff['value'].max() / 200\n",
    "    \n",
    "#     for i, (value, name) in enumerate(zip(dff['value'], dff['name'])):\n",
    "#         ax.text(value-dx, i,     name,           size=14, weight=600, ha='right', va='bottom')\n",
    "#         ax.text(value-dx, i-.25, group_lk[name], size=10, color='#444444', ha='right', va='baseline')\n",
    "#         ax.text(value+dx, i,     f'{value:,.0f}',  size=14, ha='left',  va='center')\n",
    "#     ax.text(1, 0.4, current_day, transform=ax.transAxes, color='#777777', size=46, ha='right', weight=800)\n",
    "#     ax.text(0, 1.06, 'Population (thousands)', transform=ax.transAxes, size=12, color='#777777')\n",
    "#     ax.xaxis.set_major_formatter(ticker.StrMethodFormatter('{x:,.0f}'))\n",
    "#     ax.xaxis.set_ticks_position('top')\n",
    "#     ax.tick_params(axis='x', colors='#777777', labelsize=12)\n",
    "#     ax.set_yticks([])\n",
    "#     ax.margins(0, 0.01)\n",
    "#     ax.grid(which='major', axis='x', linestyle='-')\n",
    "#     ax.set_axisbelow(True)\n",
    "    \n",
    "#     ax.text(0, 1.15, 'Coronavirus',\n",
    "#             transform=ax.transAxes, size=24, weight=600, ha='left', va='top')\n",
    "# #     ax.text(1, 0, 'by @pratapvardhan; credit @jburnmurdoch', transform=ax.transAxes, color='#777777', ha='right',\n",
    "# #             bbox=dict(facecolor='white', alpha=0.8, edgecolor='white'))\n",
    "#     plt.box(False)"
   ]
  },
  {
   "cell_type": "code",
   "execution_count": 42,
   "id": "sexual-wages",
   "metadata": {
    "execution": {
     "iopub.execute_input": "2021-12-29T00:27:24.397281Z",
     "iopub.status.busy": "2021-12-29T00:27:24.396667Z",
     "iopub.status.idle": "2021-12-29T00:27:24.399354Z",
     "shell.execute_reply": "2021-12-29T00:27:24.398649Z"
    },
    "papermill": {
     "duration": 0.045008,
     "end_time": "2021-12-29T00:27:24.399469",
     "exception": false,
     "start_time": "2021-12-29T00:27:24.354461",
     "status": "completed"
    },
    "tags": []
   },
   "outputs": [],
   "source": [
    "# #hide_input\n",
    "# fig, ax = plt.subplots(figsize=(15, 8))\n",
    "# animator = animation.FuncAnimation(fig, draw_barchart, frames=range(g.day.values.min(), g.day.values.max()))\n",
    "# HTML(animator.to_jshtml())\n",
    "# # or use animator.to_html5_video() or animator.save() "
   ]
  },
  {
   "cell_type": "code",
   "execution_count": null,
   "id": "australian-container",
   "metadata": {
    "papermill": {
     "duration": 0.037403,
     "end_time": "2021-12-29T00:27:24.475606",
     "exception": false,
     "start_time": "2021-12-29T00:27:24.438203",
     "status": "completed"
    },
    "tags": []
   },
   "outputs": [],
   "source": []
  },
  {
   "cell_type": "code",
   "execution_count": null,
   "id": "mediterranean-pontiac",
   "metadata": {
    "papermill": {
     "duration": 0.04776,
     "end_time": "2021-12-29T00:27:24.562244",
     "exception": false,
     "start_time": "2021-12-29T00:27:24.514484",
     "status": "completed"
    },
    "tags": []
   },
   "outputs": [],
   "source": []
  },
  {
   "cell_type": "code",
   "execution_count": null,
   "id": "aging-legislature",
   "metadata": {
    "papermill": {
     "duration": 0.038782,
     "end_time": "2021-12-29T00:27:24.640068",
     "exception": false,
     "start_time": "2021-12-29T00:27:24.601286",
     "status": "completed"
    },
    "tags": []
   },
   "outputs": [],
   "source": []
  }
 ],
 "metadata": {
  "kernelspec": {
   "display_name": "Python 3",
   "language": "python",
   "name": "python3"
  },
  "language_info": {
   "codemirror_mode": {
    "name": "ipython",
    "version": 3
   },
   "file_extension": ".py",
   "mimetype": "text/x-python",
   "name": "python",
   "nbconvert_exporter": "python",
   "pygments_lexer": "ipython3",
   "version": "3.6.15"
  },
  "papermill": {
   "duration": 7.705664,
   "end_time": "2021-12-29T00:27:24.986788",
   "environment_variables": {},
   "exception": null,
   "input_path": "2020-03-21-covid19exp.ipynb",
   "output_path": "2020-03-21-covid19exp.ipynb",
   "parameters": {},
   "start_time": "2021-12-29T00:27:17.281124",
   "version": "2.0.0"
  }
 },
 "nbformat": 4,
 "nbformat_minor": 5
}