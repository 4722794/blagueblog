{
 "cells": [
  {
   "cell_type": "markdown",
   "id": "muslim-click",
   "metadata": {
    "papermill": {
     "duration": 0.042578,
     "end_time": "2021-12-23T12:13:10.142877",
     "exception": false,
     "start_time": "2021-12-23T12:13:10.100299",
     "status": "completed"
    },
    "tags": []
   },
   "source": [
    "# COVID-19 Case Race\n",
    "> A race chart to see rising cases around the world\n",
    "\n",
    "- author: Hargun Oberoi\n",
    "- image: images/covid-overview.png\n",
    "- hide: false\n",
    "- badges: false"
   ]
  },
  {
   "cell_type": "code",
   "execution_count": 1,
   "id": "proof-material",
   "metadata": {
    "execution": {
     "iopub.execute_input": "2021-12-23T12:13:10.226417Z",
     "iopub.status.busy": "2021-12-23T12:13:10.225743Z",
     "iopub.status.idle": "2021-12-23T12:13:10.630332Z",
     "shell.execute_reply": "2021-12-23T12:13:10.629425Z"
    },
    "papermill": {
     "duration": 0.451839,
     "end_time": "2021-12-23T12:13:10.630610",
     "exception": false,
     "start_time": "2021-12-23T12:13:10.178771",
     "status": "completed"
    },
    "tags": []
   },
   "outputs": [],
   "source": [
    "#hide\n",
    "import numpy as np\n",
    "import pandas as pd\n",
    "from jinja2 import Template\n",
    "from IPython.display import HTML"
   ]
  },
  {
   "cell_type": "code",
   "execution_count": 2,
   "id": "developed-terminology",
   "metadata": {
    "execution": {
     "iopub.execute_input": "2021-12-23T12:13:10.710156Z",
     "iopub.status.busy": "2021-12-23T12:13:10.709509Z",
     "iopub.status.idle": "2021-12-23T12:13:10.714139Z",
     "shell.execute_reply": "2021-12-23T12:13:10.712992Z"
    },
    "papermill": {
     "duration": 0.046422,
     "end_time": "2021-12-23T12:13:10.714273",
     "exception": false,
     "start_time": "2021-12-23T12:13:10.667851",
     "status": "completed"
    },
    "tags": []
   },
   "outputs": [],
   "source": [
    "#hide\n",
    "\n",
    "# FETCH\n",
    "base_url = 'https://raw.githubusercontent.com/pratapvardhan/notebooks/master/covid19/'\n",
    "paths = {\n",
    "    'mapping': base_url + 'mapping_countries.csv',\n",
    "    'overview': base_url + 'overview.tpl'\n",
    "}"
   ]
  },
  {
   "cell_type": "code",
   "execution_count": 3,
   "id": "dynamic-saver",
   "metadata": {
    "execution": {
     "iopub.execute_input": "2021-12-23T12:13:10.795659Z",
     "iopub.status.busy": "2021-12-23T12:13:10.795017Z",
     "iopub.status.idle": "2021-12-23T12:13:10.797210Z",
     "shell.execute_reply": "2021-12-23T12:13:10.797689Z"
    },
    "papermill": {
     "duration": 0.048841,
     "end_time": "2021-12-23T12:13:10.797830",
     "exception": false,
     "start_time": "2021-12-23T12:13:10.748989",
     "status": "completed"
    },
    "tags": []
   },
   "outputs": [
    {
     "data": {
      "text/plain": [
       "'https://raw.githubusercontent.com/pratapvardhan/notebooks/master/covid19/mapping_countries.csv'"
      ]
     },
     "execution_count": 3,
     "metadata": {},
     "output_type": "execute_result"
    }
   ],
   "source": [
    "#hide\n",
    "paths['mapping']"
   ]
  },
  {
   "cell_type": "code",
   "execution_count": 4,
   "id": "urban-software",
   "metadata": {
    "execution": {
     "iopub.execute_input": "2021-12-23T12:13:10.878667Z",
     "iopub.status.busy": "2021-12-23T12:13:10.877542Z",
     "iopub.status.idle": "2021-12-23T12:13:10.881692Z",
     "shell.execute_reply": "2021-12-23T12:13:10.881143Z"
    },
    "papermill": {
     "duration": 0.048008,
     "end_time": "2021-12-23T12:13:10.881822",
     "exception": false,
     "start_time": "2021-12-23T12:13:10.833814",
     "status": "completed"
    },
    "tags": []
   },
   "outputs": [],
   "source": [
    "#hide\n",
    "def get_mappings(url):\n",
    "    df = pd.read_csv(url)\n",
    "    return {\n",
    "        'df': df,\n",
    "        'replace.country': dict(df.dropna(subset=['Name']).set_index('Country')['Name']),\n",
    "        'map.continent': dict(df.set_index('Name')['Continent'])\n",
    "    }"
   ]
  },
  {
   "cell_type": "code",
   "execution_count": 5,
   "id": "intimate-machinery",
   "metadata": {
    "execution": {
     "iopub.execute_input": "2021-12-23T12:13:10.960468Z",
     "iopub.status.busy": "2021-12-23T12:13:10.959850Z",
     "iopub.status.idle": "2021-12-23T12:13:10.996755Z",
     "shell.execute_reply": "2021-12-23T12:13:10.995879Z"
    },
    "papermill": {
     "duration": 0.079985,
     "end_time": "2021-12-23T12:13:10.996933",
     "exception": false,
     "start_time": "2021-12-23T12:13:10.916948",
     "status": "completed"
    },
    "tags": []
   },
   "outputs": [],
   "source": [
    "#hide\n",
    "mapping = get_mappings(paths['mapping'])"
   ]
  },
  {
   "cell_type": "code",
   "execution_count": 6,
   "id": "certified-tactics",
   "metadata": {
    "execution": {
     "iopub.execute_input": "2021-12-23T12:13:11.074488Z",
     "iopub.status.busy": "2021-12-23T12:13:11.073815Z",
     "iopub.status.idle": "2021-12-23T12:13:11.076160Z",
     "shell.execute_reply": "2021-12-23T12:13:11.076653Z"
    },
    "papermill": {
     "duration": 0.043268,
     "end_time": "2021-12-23T12:13:11.076802",
     "exception": false,
     "start_time": "2021-12-23T12:13:11.033534",
     "status": "completed"
    },
    "tags": []
   },
   "outputs": [],
   "source": [
    "#hide\n",
    "def get_template(path):\n",
    "    from urllib.parse import urlparse\n",
    "    if bool(urlparse(path).netloc):\n",
    "        from urllib.request import urlopen\n",
    "        return urlopen(path).read().decode('utf8')\n",
    "    return open(path).read()"
   ]
  },
  {
   "cell_type": "code",
   "execution_count": 7,
   "id": "realistic-blast",
   "metadata": {
    "execution": {
     "iopub.execute_input": "2021-12-23T12:13:11.154669Z",
     "iopub.status.busy": "2021-12-23T12:13:11.153946Z",
     "iopub.status.idle": "2021-12-23T12:13:11.155664Z",
     "shell.execute_reply": "2021-12-23T12:13:11.156340Z"
    },
    "papermill": {
     "duration": 0.044516,
     "end_time": "2021-12-23T12:13:11.156500",
     "exception": false,
     "start_time": "2021-12-23T12:13:11.111984",
     "status": "completed"
    },
    "tags": []
   },
   "outputs": [],
   "source": [
    "#hide\n",
    "def get_frame(name):\n",
    "    url = (\n",
    "        'https://raw.githubusercontent.com/CSSEGISandData/COVID-19/master/csse_covid_19_data/'\n",
    "        f'csse_covid_19_time_series/time_series_covid19_{name}_global.csv')\n",
    "    df = pd.read_csv(url)\n",
    "    # rename countries\n",
    "    df['Country/Region'] = df['Country/Region'].replace(mapping['replace.country'])\n",
    "    return df"
   ]
  },
  {
   "cell_type": "code",
   "execution_count": 8,
   "id": "affiliated-characterization",
   "metadata": {
    "execution": {
     "iopub.execute_input": "2021-12-23T12:13:11.244186Z",
     "iopub.status.busy": "2021-12-23T12:13:11.243548Z",
     "iopub.status.idle": "2021-12-23T12:13:11.247329Z",
     "shell.execute_reply": "2021-12-23T12:13:11.247793Z"
    },
    "papermill": {
     "duration": 0.04948,
     "end_time": "2021-12-23T12:13:11.247944",
     "exception": false,
     "start_time": "2021-12-23T12:13:11.198464",
     "status": "completed"
    },
    "tags": []
   },
   "outputs": [],
   "source": [
    "#hide\n",
    "def get_dates(df):\n",
    "    dt_cols = df.columns[~df.columns.isin(['Province/State', 'Country/Region', 'Lat', 'Long'])]\n",
    "    LAST_DATE_I = -1\n",
    "    # sometimes last column may be empty, then go backwards\n",
    "    for i in range(-1, -len(dt_cols), -1):\n",
    "        if not df[dt_cols[i]].fillna(0).eq(0).all():\n",
    "            LAST_DATE_I = i\n",
    "            break\n",
    "    return LAST_DATE_I, dt_cols"
   ]
  },
  {
   "cell_type": "code",
   "execution_count": 9,
   "id": "recent-optimization",
   "metadata": {
    "execution": {
     "iopub.execute_input": "2021-12-23T12:13:11.323502Z",
     "iopub.status.busy": "2021-12-23T12:13:11.322827Z",
     "iopub.status.idle": "2021-12-23T12:13:11.707396Z",
     "shell.execute_reply": "2021-12-23T12:13:11.706472Z"
    },
    "papermill": {
     "duration": 0.424668,
     "end_time": "2021-12-23T12:13:11.707622",
     "exception": false,
     "start_time": "2021-12-23T12:13:11.282954",
     "status": "completed"
    },
    "tags": []
   },
   "outputs": [],
   "source": [
    "#hide\n",
    "COL_REGION = 'Country/Region'\n",
    "# Confirmed, Recovered, Deaths\n",
    "df = get_frame('confirmed')\n",
    "# dft_: timeseries, dfc_: today country agg\n",
    "dft_cases = df\n",
    "dft_deaths = get_frame('deaths')\n",
    "dft_recovered = get_frame('recovered')\n",
    "LAST_DATE_I, dt_cols = get_dates(df)"
   ]
  },
  {
   "cell_type": "code",
   "execution_count": 10,
   "id": "absolute-copper",
   "metadata": {
    "execution": {
     "iopub.execute_input": "2021-12-23T12:13:11.787243Z",
     "iopub.status.busy": "2021-12-23T12:13:11.786127Z",
     "iopub.status.idle": "2021-12-23T12:13:11.788346Z",
     "shell.execute_reply": "2021-12-23T12:13:11.789156Z"
    },
    "papermill": {
     "duration": 0.046039,
     "end_time": "2021-12-23T12:13:11.789388",
     "exception": false,
     "start_time": "2021-12-23T12:13:11.743349",
     "status": "completed"
    },
    "tags": []
   },
   "outputs": [],
   "source": [
    "#hide\n",
    "LAST_DATE_I, dt_cols = get_dates(df)\n",
    "dt_today =dt_cols[LAST_DATE_I]\n",
    "# dt_5day = dt_cols[LAST_DATE_I - 5]\n",
    "dt_yday = dt_cols[LAST_DATE_I - 1]"
   ]
  },
  {
   "cell_type": "code",
   "execution_count": 11,
   "id": "restricted-sheriff",
   "metadata": {
    "execution": {
     "iopub.execute_input": "2021-12-23T12:13:11.871161Z",
     "iopub.status.busy": "2021-12-23T12:13:11.868681Z",
     "iopub.status.idle": "2021-12-23T12:13:11.876299Z",
     "shell.execute_reply": "2021-12-23T12:13:11.875222Z"
    },
    "papermill": {
     "duration": 0.051908,
     "end_time": "2021-12-23T12:13:11.876428",
     "exception": false,
     "start_time": "2021-12-23T12:13:11.824520",
     "status": "completed"
    },
    "tags": []
   },
   "outputs": [],
   "source": [
    "#hide\n",
    "dfc_cases = dft_cases.groupby(COL_REGION)[dt_today].sum()\n",
    "dfc_deaths = dft_deaths.groupby(COL_REGION)[dt_today].sum()\n",
    "# dfp_cases = dft_cases.groupby(COL_REGION)[dt_5day].sum()\n",
    "# dfp_deaths = dft_deaths.groupby(COL_REGION)[dt_5day].sum()\n",
    "dfp_cases = dft_cases.groupby(COL_REGION)[dt_yday].sum()\n",
    "dfp_deaths = dft_deaths.groupby(COL_REGION)[dt_yday].sum()"
   ]
  },
  {
   "cell_type": "code",
   "execution_count": 12,
   "id": "deluxe-hepatitis",
   "metadata": {
    "execution": {
     "iopub.execute_input": "2021-12-23T12:13:11.955317Z",
     "iopub.status.busy": "2021-12-23T12:13:11.954697Z",
     "iopub.status.idle": "2021-12-23T12:13:11.958892Z",
     "shell.execute_reply": "2021-12-23T12:13:11.958341Z"
    },
    "papermill": {
     "duration": 0.046488,
     "end_time": "2021-12-23T12:13:11.959019",
     "exception": false,
     "start_time": "2021-12-23T12:13:11.912531",
     "status": "completed"
    },
    "tags": []
   },
   "outputs": [],
   "source": [
    "#hide\n",
    "df_table = (pd.DataFrame(dict(Cases = dfc_cases, Deaths = dfc_deaths, PCases = dfp_cases, PDeaths = dfp_deaths))\n",
    "            .sort_values(by = ['Cases','Deaths'], ascending = [False, False])\n",
    "            .reset_index())"
   ]
  },
  {
   "cell_type": "code",
   "execution_count": 13,
   "id": "educational-chancellor",
   "metadata": {
    "execution": {
     "iopub.execute_input": "2021-12-23T12:13:12.055000Z",
     "iopub.status.busy": "2021-12-23T12:13:12.048622Z",
     "iopub.status.idle": "2021-12-23T12:13:12.058649Z",
     "shell.execute_reply": "2021-12-23T12:13:12.059155Z"
    },
    "papermill": {
     "duration": 0.065398,
     "end_time": "2021-12-23T12:13:12.059302",
     "exception": false,
     "start_time": "2021-12-23T12:13:11.993904",
     "status": "completed"
    },
    "tags": []
   },
   "outputs": [
    {
     "data": {
      "text/html": [
       "<div>\n",
       "<style scoped>\n",
       "    .dataframe tbody tr th:only-of-type {\n",
       "        vertical-align: middle;\n",
       "    }\n",
       "\n",
       "    .dataframe tbody tr th {\n",
       "        vertical-align: top;\n",
       "    }\n",
       "\n",
       "    .dataframe thead th {\n",
       "        text-align: right;\n",
       "    }\n",
       "</style>\n",
       "<table border=\"1\" class=\"dataframe\">\n",
       "  <thead>\n",
       "    <tr style=\"text-align: right;\">\n",
       "      <th></th>\n",
       "      <th>Country/Region</th>\n",
       "      <th>Cases</th>\n",
       "      <th>Deaths</th>\n",
       "      <th>PCases</th>\n",
       "      <th>PDeaths</th>\n",
       "      <th>Cases (+)</th>\n",
       "      <th>Deaths (+)</th>\n",
       "      <th>Fatality Rate</th>\n",
       "      <th>Continent</th>\n",
       "    </tr>\n",
       "  </thead>\n",
       "  <tbody>\n",
       "    <tr>\n",
       "      <th>0</th>\n",
       "      <td>US</td>\n",
       "      <td>51545991</td>\n",
       "      <td>812069</td>\n",
       "      <td>51307613</td>\n",
       "      <td>810045</td>\n",
       "      <td>238378</td>\n",
       "      <td>2024</td>\n",
       "      <td>1.58</td>\n",
       "      <td>North America</td>\n",
       "    </tr>\n",
       "    <tr>\n",
       "      <th>1</th>\n",
       "      <td>India</td>\n",
       "      <td>34765976</td>\n",
       "      <td>478759</td>\n",
       "      <td>34758481</td>\n",
       "      <td>478325</td>\n",
       "      <td>7495</td>\n",
       "      <td>434</td>\n",
       "      <td>1.38</td>\n",
       "      <td>Asia</td>\n",
       "    </tr>\n",
       "    <tr>\n",
       "      <th>2</th>\n",
       "      <td>Brazil</td>\n",
       "      <td>22222928</td>\n",
       "      <td>618091</td>\n",
       "      <td>22219477</td>\n",
       "      <td>617948</td>\n",
       "      <td>3451</td>\n",
       "      <td>143</td>\n",
       "      <td>2.78</td>\n",
       "      <td>South America</td>\n",
       "    </tr>\n",
       "    <tr>\n",
       "      <th>3</th>\n",
       "      <td>United Kingdom</td>\n",
       "      <td>11713654</td>\n",
       "      <td>148038</td>\n",
       "      <td>11607864</td>\n",
       "      <td>147896</td>\n",
       "      <td>105790</td>\n",
       "      <td>142</td>\n",
       "      <td>1.26</td>\n",
       "      <td>Europe</td>\n",
       "    </tr>\n",
       "    <tr>\n",
       "      <th>4</th>\n",
       "      <td>Russia</td>\n",
       "      <td>10114983</td>\n",
       "      <td>294322</td>\n",
       "      <td>10089945</td>\n",
       "      <td>293329</td>\n",
       "      <td>25038</td>\n",
       "      <td>993</td>\n",
       "      <td>2.91</td>\n",
       "      <td>Europe</td>\n",
       "    </tr>\n",
       "  </tbody>\n",
       "</table>\n",
       "</div>"
      ],
      "text/plain": [
       "   Country/Region     Cases  Deaths    PCases  PDeaths  Cases (+)  Deaths (+)  \\\n",
       "0              US  51545991  812069  51307613   810045     238378        2024   \n",
       "1           India  34765976  478759  34758481   478325       7495         434   \n",
       "2          Brazil  22222928  618091  22219477   617948       3451         143   \n",
       "3  United Kingdom  11713654  148038  11607864   147896     105790         142   \n",
       "4          Russia  10114983  294322  10089945   293329      25038         993   \n",
       "\n",
       "   Fatality Rate      Continent  \n",
       "0           1.58  North America  \n",
       "1           1.38           Asia  \n",
       "2           2.78  South America  \n",
       "3           1.26         Europe  \n",
       "4           2.91         Europe  "
      ]
     },
     "execution_count": 13,
     "metadata": {},
     "output_type": "execute_result"
    }
   ],
   "source": [
    "#hide\n",
    "for c in 'Cases, Deaths'.split(', '):\n",
    "    df_table[f'{c} (+)'] = (df_table[c] - df_table[f'P{c}']).clip(0)\n",
    "    #Clip ça veut dire, les chiffres negatif sont interdit\n",
    "df_table['Fatality Rate'] = (100* df_table['Deaths']/ df_table['Cases']).round(2)\n",
    "df_table['Continent'] = df_table['Country/Region'].map(mapping['map.continent'])\n",
    "df_table.head(5)"
   ]
  },
  {
   "cell_type": "code",
   "execution_count": 14,
   "id": "aboriginal-bulgaria",
   "metadata": {
    "execution": {
     "iopub.execute_input": "2021-12-23T12:13:12.138643Z",
     "iopub.status.busy": "2021-12-23T12:13:12.137958Z",
     "iopub.status.idle": "2021-12-23T12:13:12.140395Z",
     "shell.execute_reply": "2021-12-23T12:13:12.139799Z"
    },
    "papermill": {
     "duration": 0.045167,
     "end_time": "2021-12-23T12:13:12.140523",
     "exception": false,
     "start_time": "2021-12-23T12:13:12.095356",
     "status": "completed"
    },
    "tags": []
   },
   "outputs": [],
   "source": [
    "#hide\n",
    "#delete problematic countries from table\n",
    "df_table = df_table[~df_table['Country/Region'].isin(['Cape Verde', 'Cruise Ship', 'Kosovo'])]"
   ]
  },
  {
   "cell_type": "code",
   "execution_count": 15,
   "id": "fantastic-effect",
   "metadata": {
    "execution": {
     "iopub.execute_input": "2021-12-23T12:13:12.223636Z",
     "iopub.status.busy": "2021-12-23T12:13:12.219907Z",
     "iopub.status.idle": "2021-12-23T12:13:12.244236Z",
     "shell.execute_reply": "2021-12-23T12:13:12.243443Z"
    },
    "papermill": {
     "duration": 0.068095,
     "end_time": "2021-12-23T12:13:12.244401",
     "exception": false,
     "start_time": "2021-12-23T12:13:12.176306",
     "status": "completed"
    },
    "tags": []
   },
   "outputs": [
    {
     "data": {
      "text/html": [
       "<div>\n",
       "<style scoped>\n",
       "    .dataframe tbody tr th:only-of-type {\n",
       "        vertical-align: middle;\n",
       "    }\n",
       "\n",
       "    .dataframe tbody tr th {\n",
       "        vertical-align: top;\n",
       "    }\n",
       "\n",
       "    .dataframe thead th {\n",
       "        text-align: right;\n",
       "    }\n",
       "</style>\n",
       "<table border=\"1\" class=\"dataframe\">\n",
       "  <thead>\n",
       "    <tr style=\"text-align: right;\">\n",
       "      <th></th>\n",
       "      <th>Country/Region</th>\n",
       "      <th>Cases</th>\n",
       "      <th>Deaths</th>\n",
       "      <th>PCases</th>\n",
       "      <th>PDeaths</th>\n",
       "      <th>Cases (+)</th>\n",
       "      <th>Deaths (+)</th>\n",
       "      <th>Fatality Rate</th>\n",
       "      <th>Continent</th>\n",
       "    </tr>\n",
       "  </thead>\n",
       "  <tbody>\n",
       "    <tr>\n",
       "      <th>0</th>\n",
       "      <td>US</td>\n",
       "      <td>51545991</td>\n",
       "      <td>812069</td>\n",
       "      <td>51307613</td>\n",
       "      <td>810045</td>\n",
       "      <td>238378</td>\n",
       "      <td>2024</td>\n",
       "      <td>1.6</td>\n",
       "      <td>North America</td>\n",
       "    </tr>\n",
       "    <tr>\n",
       "      <th>1</th>\n",
       "      <td>India</td>\n",
       "      <td>34765976</td>\n",
       "      <td>478759</td>\n",
       "      <td>34758481</td>\n",
       "      <td>478325</td>\n",
       "      <td>7495</td>\n",
       "      <td>434</td>\n",
       "      <td>1.4</td>\n",
       "      <td>Asia</td>\n",
       "    </tr>\n",
       "    <tr>\n",
       "      <th>2</th>\n",
       "      <td>Brazil</td>\n",
       "      <td>22222928</td>\n",
       "      <td>618091</td>\n",
       "      <td>22219477</td>\n",
       "      <td>617948</td>\n",
       "      <td>3451</td>\n",
       "      <td>143</td>\n",
       "      <td>2.8</td>\n",
       "      <td>South America</td>\n",
       "    </tr>\n",
       "    <tr>\n",
       "      <th>3</th>\n",
       "      <td>United Kingdom</td>\n",
       "      <td>11713654</td>\n",
       "      <td>148038</td>\n",
       "      <td>11607864</td>\n",
       "      <td>147896</td>\n",
       "      <td>105790</td>\n",
       "      <td>142</td>\n",
       "      <td>1.3</td>\n",
       "      <td>Europe</td>\n",
       "    </tr>\n",
       "    <tr>\n",
       "      <th>4</th>\n",
       "      <td>Russia</td>\n",
       "      <td>10114983</td>\n",
       "      <td>294322</td>\n",
       "      <td>10089945</td>\n",
       "      <td>293329</td>\n",
       "      <td>25038</td>\n",
       "      <td>993</td>\n",
       "      <td>2.9</td>\n",
       "      <td>Europe</td>\n",
       "    </tr>\n",
       "  </tbody>\n",
       "</table>\n",
       "</div>"
      ],
      "text/plain": [
       "   Country/Region     Cases  Deaths    PCases  PDeaths  Cases (+)  Deaths (+)  \\\n",
       "0              US  51545991  812069  51307613   810045     238378        2024   \n",
       "1           India  34765976  478759  34758481   478325       7495         434   \n",
       "2          Brazil  22222928  618091  22219477   617948       3451         143   \n",
       "3  United Kingdom  11713654  148038  11607864   147896     105790         142   \n",
       "4          Russia  10114983  294322  10089945   293329      25038         993   \n",
       "\n",
       "   Fatality Rate      Continent  \n",
       "0            1.6  North America  \n",
       "1            1.4           Asia  \n",
       "2            2.8  South America  \n",
       "3            1.3         Europe  \n",
       "4            2.9         Europe  "
      ]
     },
     "execution_count": 15,
     "metadata": {},
     "output_type": "execute_result"
    }
   ],
   "source": [
    "#hide\n",
    "df_table = (pd.DataFrame(dict(Cases=dfc_cases, Deaths=dfc_deaths, PCases=dfp_cases, PDeaths=dfp_deaths))\n",
    "             .sort_values(by=['Cases', 'Deaths'], ascending=[False, False])\n",
    "             .reset_index())\n",
    "df_table.rename(columns={'index': 'Country/Region'}, inplace=True)\n",
    "for c in 'Cases, Deaths'.split(', '):\n",
    "    df_table[f'{c} (+)'] = (df_table[c] - df_table[f'P{c}']).clip(0)  # DATA BUG\n",
    "df_table['Fatality Rate'] = (100 * df_table['Deaths'] / df_table['Cases']).round(1)\n",
    "df_table['Continent'] = df_table['Country/Region'].map(mapping['map.continent'])\n",
    "df_table.head(5)"
   ]
  },
  {
   "cell_type": "code",
   "execution_count": 16,
   "id": "fewer-occasion",
   "metadata": {
    "execution": {
     "iopub.execute_input": "2021-12-23T12:13:12.326179Z",
     "iopub.status.busy": "2021-12-23T12:13:12.325149Z",
     "iopub.status.idle": "2021-12-23T12:13:12.329302Z",
     "shell.execute_reply": "2021-12-23T12:13:12.329764Z"
    },
    "papermill": {
     "duration": 0.048829,
     "end_time": "2021-12-23T12:13:12.329912",
     "exception": false,
     "start_time": "2021-12-23T12:13:12.281083",
     "status": "completed"
    },
    "tags": []
   },
   "outputs": [],
   "source": [
    "#hide\n",
    "#delete problematic countries from table\n",
    "df_table = df_table[~df_table['Country/Region'].isin(['Cape Verde', 'Cruise Ship', 'Kosovo'])]"
   ]
  },
  {
   "cell_type": "code",
   "execution_count": 17,
   "id": "related-center",
   "metadata": {
    "execution": {
     "iopub.execute_input": "2021-12-23T12:13:12.421531Z",
     "iopub.status.busy": "2021-12-23T12:13:12.420554Z",
     "iopub.status.idle": "2021-12-23T12:13:12.424337Z",
     "shell.execute_reply": "2021-12-23T12:13:12.423525Z"
    },
    "papermill": {
     "duration": 0.058838,
     "end_time": "2021-12-23T12:13:12.424526",
     "exception": false,
     "start_time": "2021-12-23T12:13:12.365688",
     "status": "completed"
    },
    "tags": []
   },
   "outputs": [],
   "source": [
    "#hide\n",
    "metrics = [df_table.columns[index] for index in [1,2,5,6]]\n",
    "# s_china = df_table[df_table['Country/Region'].eq('China')][metrics].sum().add_prefix('China ')\n",
    "s_us = df_table[df_table['Country/Region'].eq('US')][metrics].sum().add_prefix('US ')\n",
    "s_eu = df_table[df_table['Continent'].eq('Europe')][metrics].sum().add_prefix('EU ')\n",
    "s_ind = df_table[df_table['Country/Region'].eq('India')][metrics].sum().add_prefix('India ')\n",
    "summary = {'updated': pd.to_datetime(dt_today), 'since': pd.to_datetime(dt_yday)}\n",
    "summary = {'updated': pd.to_datetime(dt_today), 'since': pd.to_datetime(dt_yday)}\n",
    "summary = {**summary, **df_table[metrics].sum(), **s_ind, **s_us, **s_eu}"
   ]
  },
  {
   "cell_type": "code",
   "execution_count": 18,
   "id": "engaging-syndrome",
   "metadata": {
    "execution": {
     "iopub.execute_input": "2021-12-23T12:13:12.503415Z",
     "iopub.status.busy": "2021-12-23T12:13:12.502778Z",
     "iopub.status.idle": "2021-12-23T12:13:12.518301Z",
     "shell.execute_reply": "2021-12-23T12:13:12.517799Z"
    },
    "papermill": {
     "duration": 0.056315,
     "end_time": "2021-12-23T12:13:12.518472",
     "exception": false,
     "start_time": "2021-12-23T12:13:12.462157",
     "status": "completed"
    },
    "tags": []
   },
   "outputs": [],
   "source": [
    "#hide\n",
    "dft_ct_new_cases = dft_cases.groupby(COL_REGION)[dt_cols].sum().diff(axis=1).fillna(0).astype(int)"
   ]
  },
  {
   "cell_type": "code",
   "execution_count": 19,
   "id": "neutral-assignment",
   "metadata": {
    "execution": {
     "iopub.execute_input": "2021-12-23T12:13:12.600521Z",
     "iopub.status.busy": "2021-12-23T12:13:12.599904Z",
     "iopub.status.idle": "2021-12-23T12:13:12.603026Z",
     "shell.execute_reply": "2021-12-23T12:13:12.602521Z"
    },
    "papermill": {
     "duration": 0.048161,
     "end_time": "2021-12-23T12:13:12.603157",
     "exception": false,
     "start_time": "2021-12-23T12:13:12.554996",
     "status": "completed"
    },
    "tags": []
   },
   "outputs": [],
   "source": [
    "#hide\n",
    "everydaycases = dft_ct_new_cases.cumsum(axis=1)"
   ]
  },
  {
   "cell_type": "code",
   "execution_count": 20,
   "id": "parliamentary-calgary",
   "metadata": {
    "execution": {
     "iopub.execute_input": "2021-12-23T12:13:12.681313Z",
     "iopub.status.busy": "2021-12-23T12:13:12.680683Z",
     "iopub.status.idle": "2021-12-23T12:13:13.405888Z",
     "shell.execute_reply": "2021-12-23T12:13:13.405004Z"
    },
    "papermill": {
     "duration": 0.76702,
     "end_time": "2021-12-23T12:13:13.406112",
     "exception": false,
     "start_time": "2021-12-23T12:13:12.639092",
     "status": "completed"
    },
    "tags": []
   },
   "outputs": [],
   "source": [
    "#hide\n",
    "import pandas as pd\n",
    "import matplotlib.pyplot as plt\n",
    "import matplotlib.ticker as ticker\n",
    "import matplotlib.animation as animation\n",
    "from IPython.display import HTML"
   ]
  },
  {
   "cell_type": "code",
   "execution_count": 21,
   "id": "lasting-extraction",
   "metadata": {
    "execution": {
     "iopub.execute_input": "2021-12-23T12:13:13.487933Z",
     "iopub.status.busy": "2021-12-23T12:13:13.487298Z",
     "iopub.status.idle": "2021-12-23T12:13:13.494184Z",
     "shell.execute_reply": "2021-12-23T12:13:13.494754Z"
    },
    "papermill": {
     "duration": 0.050907,
     "end_time": "2021-12-23T12:13:13.494908",
     "exception": false,
     "start_time": "2021-12-23T12:13:13.444001",
     "status": "completed"
    },
    "tags": []
   },
   "outputs": [],
   "source": [
    "#hide\n",
    "t = everydaycases.stack()"
   ]
  },
  {
   "cell_type": "code",
   "execution_count": 22,
   "id": "premier-sleeve",
   "metadata": {
    "execution": {
     "iopub.execute_input": "2021-12-23T12:13:13.571189Z",
     "iopub.status.busy": "2021-12-23T12:13:13.570556Z",
     "iopub.status.idle": "2021-12-23T12:13:13.581100Z",
     "shell.execute_reply": "2021-12-23T12:13:13.581689Z"
    },
    "papermill": {
     "duration": 0.050893,
     "end_time": "2021-12-23T12:13:13.581845",
     "exception": false,
     "start_time": "2021-12-23T12:13:13.530952",
     "status": "completed"
    },
    "tags": []
   },
   "outputs": [],
   "source": [
    "#hide\n",
    "g = t.reset_index(['Country/Region'])"
   ]
  },
  {
   "cell_type": "code",
   "execution_count": 23,
   "id": "distributed-pittsburgh",
   "metadata": {
    "execution": {
     "iopub.execute_input": "2021-12-23T12:13:13.658348Z",
     "iopub.status.busy": "2021-12-23T12:13:13.657642Z",
     "iopub.status.idle": "2021-12-23T12:13:13.659462Z",
     "shell.execute_reply": "2021-12-23T12:13:13.659986Z"
    },
    "papermill": {
     "duration": 0.042527,
     "end_time": "2021-12-23T12:13:13.660151",
     "exception": false,
     "start_time": "2021-12-23T12:13:13.617624",
     "status": "completed"
    },
    "tags": []
   },
   "outputs": [],
   "source": [
    "#hide\n",
    "g.index.name = 'date'"
   ]
  },
  {
   "cell_type": "code",
   "execution_count": 24,
   "id": "naked-donor",
   "metadata": {
    "execution": {
     "iopub.execute_input": "2021-12-23T12:13:13.740583Z",
     "iopub.status.busy": "2021-12-23T12:13:13.739958Z",
     "iopub.status.idle": "2021-12-23T12:13:13.742492Z",
     "shell.execute_reply": "2021-12-23T12:13:13.743088Z"
    },
    "papermill": {
     "duration": 0.044269,
     "end_time": "2021-12-23T12:13:13.743233",
     "exception": false,
     "start_time": "2021-12-23T12:13:13.698964",
     "status": "completed"
    },
    "tags": []
   },
   "outputs": [],
   "source": [
    "# #hide\n",
    "# g = g.reset_index(['date'])"
   ]
  },
  {
   "cell_type": "code",
   "execution_count": 25,
   "id": "incomplete-mustang",
   "metadata": {
    "execution": {
     "iopub.execute_input": "2021-12-23T12:13:13.821288Z",
     "iopub.status.busy": "2021-12-23T12:13:13.820673Z",
     "iopub.status.idle": "2021-12-23T12:13:13.823579Z",
     "shell.execute_reply": "2021-12-23T12:13:13.824163Z"
    },
    "papermill": {
     "duration": 0.044355,
     "end_time": "2021-12-23T12:13:13.824305",
     "exception": false,
     "start_time": "2021-12-23T12:13:13.779950",
     "status": "completed"
    },
    "tags": []
   },
   "outputs": [],
   "source": [
    "#hide\n",
    "# g.head()"
   ]
  },
  {
   "cell_type": "code",
   "execution_count": 26,
   "id": "specific-kruger",
   "metadata": {
    "execution": {
     "iopub.execute_input": "2021-12-23T12:13:13.907606Z",
     "iopub.status.busy": "2021-12-23T12:13:13.906966Z",
     "iopub.status.idle": "2021-12-23T12:13:13.911283Z",
     "shell.execute_reply": "2021-12-23T12:13:13.910779Z"
    },
    "papermill": {
     "duration": 0.04965,
     "end_time": "2021-12-23T12:13:13.911415",
     "exception": false,
     "start_time": "2021-12-23T12:13:13.861765",
     "status": "completed"
    },
    "tags": []
   },
   "outputs": [],
   "source": [
    "#hide\n",
    "# g.columns = ['date','country','cases']"
   ]
  },
  {
   "cell_type": "code",
   "execution_count": 27,
   "id": "tender-conversion",
   "metadata": {
    "execution": {
     "iopub.execute_input": "2021-12-23T12:13:13.987534Z",
     "iopub.status.busy": "2021-12-23T12:13:13.986894Z",
     "iopub.status.idle": "2021-12-23T12:13:13.989693Z",
     "shell.execute_reply": "2021-12-23T12:13:13.989198Z"
    },
    "papermill": {
     "duration": 0.042428,
     "end_time": "2021-12-23T12:13:13.989822",
     "exception": false,
     "start_time": "2021-12-23T12:13:13.947394",
     "status": "completed"
    },
    "tags": []
   },
   "outputs": [],
   "source": [
    "#hide\n",
    "# g['continent'] = g.country"
   ]
  },
  {
   "cell_type": "code",
   "execution_count": 28,
   "id": "substantial-wilderness",
   "metadata": {
    "execution": {
     "iopub.execute_input": "2021-12-23T12:13:14.067527Z",
     "iopub.status.busy": "2021-12-23T12:13:14.066462Z",
     "iopub.status.idle": "2021-12-23T12:13:14.069604Z",
     "shell.execute_reply": "2021-12-23T12:13:14.069107Z"
    },
    "papermill": {
     "duration": 0.043924,
     "end_time": "2021-12-23T12:13:14.069738",
     "exception": false,
     "start_time": "2021-12-23T12:13:14.025814",
     "status": "completed"
    },
    "tags": []
   },
   "outputs": [],
   "source": [
    "#hide\n",
    "# cols = list(g.columns.values)"
   ]
  },
  {
   "cell_type": "code",
   "execution_count": 29,
   "id": "solved-farming",
   "metadata": {
    "execution": {
     "iopub.execute_input": "2021-12-23T12:13:14.147506Z",
     "iopub.status.busy": "2021-12-23T12:13:14.146429Z",
     "iopub.status.idle": "2021-12-23T12:13:14.149864Z",
     "shell.execute_reply": "2021-12-23T12:13:14.149349Z"
    },
    "papermill": {
     "duration": 0.044465,
     "end_time": "2021-12-23T12:13:14.149991",
     "exception": false,
     "start_time": "2021-12-23T12:13:14.105526",
     "status": "completed"
    },
    "tags": []
   },
   "outputs": [],
   "source": [
    "#hide\n",
    "# cols.insert(0, cols.pop())"
   ]
  },
  {
   "cell_type": "code",
   "execution_count": 30,
   "id": "executed-adoption",
   "metadata": {
    "execution": {
     "iopub.execute_input": "2021-12-23T12:13:14.228926Z",
     "iopub.status.busy": "2021-12-23T12:13:14.227882Z",
     "iopub.status.idle": "2021-12-23T12:13:14.232779Z",
     "shell.execute_reply": "2021-12-23T12:13:14.232286Z"
    },
    "papermill": {
     "duration": 0.04596,
     "end_time": "2021-12-23T12:13:14.232911",
     "exception": false,
     "start_time": "2021-12-23T12:13:14.186951",
     "status": "completed"
    },
    "tags": []
   },
   "outputs": [],
   "source": [
    "#hide\n",
    "# g = g[cols]"
   ]
  },
  {
   "cell_type": "code",
   "execution_count": 31,
   "id": "subject-dublin",
   "metadata": {
    "execution": {
     "iopub.execute_input": "2021-12-23T12:13:14.309757Z",
     "iopub.status.busy": "2021-12-23T12:13:14.309141Z",
     "iopub.status.idle": "2021-12-23T12:13:14.312061Z",
     "shell.execute_reply": "2021-12-23T12:13:14.312590Z"
    },
    "papermill": {
     "duration": 0.043861,
     "end_time": "2021-12-23T12:13:14.312734",
     "exception": false,
     "start_time": "2021-12-23T12:13:14.268873",
     "status": "completed"
    },
    "tags": []
   },
   "outputs": [],
   "source": [
    "#hide\n",
    "# g['continent'] = g['continent'].map(mapping['map.continent'])"
   ]
  },
  {
   "cell_type": "code",
   "execution_count": 32,
   "id": "freelance-scout",
   "metadata": {
    "execution": {
     "iopub.execute_input": "2021-12-23T12:13:14.390522Z",
     "iopub.status.busy": "2021-12-23T12:13:14.389426Z",
     "iopub.status.idle": "2021-12-23T12:13:14.393878Z",
     "shell.execute_reply": "2021-12-23T12:13:14.393358Z"
    },
    "papermill": {
     "duration": 0.04529,
     "end_time": "2021-12-23T12:13:14.394002",
     "exception": false,
     "start_time": "2021-12-23T12:13:14.348712",
     "status": "completed"
    },
    "tags": []
   },
   "outputs": [],
   "source": [
    "#hide\n",
    "# g.head()"
   ]
  },
  {
   "cell_type": "code",
   "execution_count": 33,
   "id": "limited-engine",
   "metadata": {
    "execution": {
     "iopub.execute_input": "2021-12-23T12:13:14.471606Z",
     "iopub.status.busy": "2021-12-23T12:13:14.470554Z",
     "iopub.status.idle": "2021-12-23T12:13:14.474273Z",
     "shell.execute_reply": "2021-12-23T12:13:14.473605Z"
    },
    "papermill": {
     "duration": 0.044603,
     "end_time": "2021-12-23T12:13:14.474427",
     "exception": false,
     "start_time": "2021-12-23T12:13:14.429824",
     "status": "completed"
    },
    "tags": []
   },
   "outputs": [],
   "source": [
    "# hide\n",
    "# g['date'] = g['date'].astype('datetime64[ns]')"
   ]
  },
  {
   "cell_type": "code",
   "execution_count": 34,
   "id": "sophisticated-supervisor",
   "metadata": {
    "execution": {
     "iopub.execute_input": "2021-12-23T12:13:14.549539Z",
     "iopub.status.busy": "2021-12-23T12:13:14.548929Z",
     "iopub.status.idle": "2021-12-23T12:13:14.553514Z",
     "shell.execute_reply": "2021-12-23T12:13:14.553020Z"
    },
    "papermill": {
     "duration": 0.043042,
     "end_time": "2021-12-23T12:13:14.553642",
     "exception": false,
     "start_time": "2021-12-23T12:13:14.510600",
     "status": "completed"
    },
    "tags": []
   },
   "outputs": [],
   "source": [
    "#hide\n",
    "# g['date'] = g.date.dt.dayofyear"
   ]
  },
  {
   "cell_type": "code",
   "execution_count": 35,
   "id": "inside-dubai",
   "metadata": {
    "execution": {
     "iopub.execute_input": "2021-12-23T12:13:14.629642Z",
     "iopub.status.busy": "2021-12-23T12:13:14.629002Z",
     "iopub.status.idle": "2021-12-23T12:13:14.632766Z",
     "shell.execute_reply": "2021-12-23T12:13:14.633231Z"
    },
    "papermill": {
     "duration": 0.043983,
     "end_time": "2021-12-23T12:13:14.633386",
     "exception": false,
     "start_time": "2021-12-23T12:13:14.589403",
     "status": "completed"
    },
    "tags": []
   },
   "outputs": [],
   "source": [
    "#hide\n",
    "# g = g.rename(columns= {'continent':'group','country':'name','cases':'value'})"
   ]
  },
  {
   "cell_type": "code",
   "execution_count": 36,
   "id": "fleet-motorcycle",
   "metadata": {
    "execution": {
     "iopub.execute_input": "2021-12-23T12:13:14.713065Z",
     "iopub.status.busy": "2021-12-23T12:13:14.712440Z",
     "iopub.status.idle": "2021-12-23T12:13:14.715506Z",
     "shell.execute_reply": "2021-12-23T12:13:14.716000Z"
    },
    "papermill": {
     "duration": 0.045791,
     "end_time": "2021-12-23T12:13:14.716152",
     "exception": false,
     "start_time": "2021-12-23T12:13:14.670361",
     "status": "completed"
    },
    "tags": []
   },
   "outputs": [],
   "source": [
    "#hide\n",
    "# cols = ['name','group','day','value']"
   ]
  },
  {
   "cell_type": "code",
   "execution_count": 37,
   "id": "continued-sleeping",
   "metadata": {
    "execution": {
     "iopub.execute_input": "2021-12-23T12:13:14.795080Z",
     "iopub.status.busy": "2021-12-23T12:13:14.794170Z",
     "iopub.status.idle": "2021-12-23T12:13:14.798081Z",
     "shell.execute_reply": "2021-12-23T12:13:14.797395Z"
    },
    "papermill": {
     "duration": 0.044997,
     "end_time": "2021-12-23T12:13:14.798260",
     "exception": false,
     "start_time": "2021-12-23T12:13:14.753263",
     "status": "completed"
    },
    "tags": []
   },
   "outputs": [],
   "source": [
    "#hide\n",
    "# g.rename(columns= {'date':'day'},inplace = True)"
   ]
  },
  {
   "cell_type": "code",
   "execution_count": 38,
   "id": "major-fight",
   "metadata": {
    "execution": {
     "iopub.execute_input": "2021-12-23T12:13:14.874456Z",
     "iopub.status.busy": "2021-12-23T12:13:14.873695Z",
     "iopub.status.idle": "2021-12-23T12:13:14.875746Z",
     "shell.execute_reply": "2021-12-23T12:13:14.876651Z"
    },
    "papermill": {
     "duration": 0.04234,
     "end_time": "2021-12-23T12:13:14.876879",
     "exception": false,
     "start_time": "2021-12-23T12:13:14.834539",
     "status": "completed"
    },
    "tags": []
   },
   "outputs": [],
   "source": [
    "#hide\n",
    "# g = g[cols]"
   ]
  },
  {
   "cell_type": "code",
   "execution_count": 39,
   "id": "structured-mobile",
   "metadata": {
    "execution": {
     "iopub.execute_input": "2021-12-23T12:13:14.954772Z",
     "iopub.status.busy": "2021-12-23T12:13:14.954117Z",
     "iopub.status.idle": "2021-12-23T12:13:14.956590Z",
     "shell.execute_reply": "2021-12-23T12:13:14.957171Z"
    },
    "papermill": {
     "duration": 0.043675,
     "end_time": "2021-12-23T12:13:14.957317",
     "exception": false,
     "start_time": "2021-12-23T12:13:14.913642",
     "status": "completed"
    },
    "tags": []
   },
   "outputs": [],
   "source": [
    "# #hide\n",
    "# g = g[g.group.notna()]"
   ]
  },
  {
   "cell_type": "code",
   "execution_count": 40,
   "id": "determined-closing",
   "metadata": {
    "execution": {
     "iopub.execute_input": "2021-12-23T12:13:15.034015Z",
     "iopub.status.busy": "2021-12-23T12:13:15.033360Z",
     "iopub.status.idle": "2021-12-23T12:13:15.037603Z",
     "shell.execute_reply": "2021-12-23T12:13:15.037106Z"
    },
    "papermill": {
     "duration": 0.044178,
     "end_time": "2021-12-23T12:13:15.037735",
     "exception": false,
     "start_time": "2021-12-23T12:13:14.993557",
     "status": "completed"
    },
    "tags": []
   },
   "outputs": [],
   "source": [
    "# #hide\n",
    "# colors = dict(zip(\n",
    "#     [\"Oceania\", \"Europe\", \"Asia\", \"South America\", \"Middle East\", \"North America\", \"Africa\"],\n",
    "#     [\"#adb0ff\", \"#ffb3ff\", \"#90d595\", \"#e48381\", \"#aafbff\", \"#f7bb5f\", \"#eafb50\"]\n",
    "# ))\n",
    "# group_lk = g.set_index('name')['group'].to_dict()"
   ]
  },
  {
   "cell_type": "code",
   "execution_count": null,
   "id": "gross-drinking",
   "metadata": {
    "papermill": {
     "duration": 0.036077,
     "end_time": "2021-12-23T12:13:15.109884",
     "exception": false,
     "start_time": "2021-12-23T12:13:15.073807",
     "status": "completed"
    },
    "tags": []
   },
   "outputs": [],
   "source": []
  },
  {
   "cell_type": "code",
   "execution_count": 41,
   "id": "subject-macintosh",
   "metadata": {
    "execution": {
     "iopub.execute_input": "2021-12-23T12:13:15.187657Z",
     "iopub.status.busy": "2021-12-23T12:13:15.187006Z",
     "iopub.status.idle": "2021-12-23T12:13:15.189386Z",
     "shell.execute_reply": "2021-12-23T12:13:15.188775Z"
    },
    "papermill": {
     "duration": 0.043458,
     "end_time": "2021-12-23T12:13:15.189519",
     "exception": false,
     "start_time": "2021-12-23T12:13:15.146061",
     "status": "completed"
    },
    "tags": []
   },
   "outputs": [],
   "source": [
    "# #hide\n",
    "# fig, ax = plt.subplots(figsize=(15, 8))\n",
    "\n",
    "# def draw_barchart(current_day):\n",
    "#     dff = g[g['day'].eq(current_day)].sort_values(by='value', ascending=True).tail(10)\n",
    "#     ax.clear()\n",
    "#     ax.barh(dff['name'], dff['value'], color=[colors[group_lk[x]] for x in dff['name']])\n",
    "#     dx = dff['value'].max() / 200\n",
    "    \n",
    "#     for i, (value, name) in enumerate(zip(dff['value'], dff['name'])):\n",
    "#         ax.text(value-dx, i,     name,           size=14, weight=600, ha='right', va='bottom')\n",
    "#         ax.text(value-dx, i-.25, group_lk[name], size=10, color='#444444', ha='right', va='baseline')\n",
    "#         ax.text(value+dx, i,     f'{value:,.0f}',  size=14, ha='left',  va='center')\n",
    "#     ax.text(1, 0.4, current_day, transform=ax.transAxes, color='#777777', size=46, ha='right', weight=800)\n",
    "#     ax.text(0, 1.06, 'Population (thousands)', transform=ax.transAxes, size=12, color='#777777')\n",
    "#     ax.xaxis.set_major_formatter(ticker.StrMethodFormatter('{x:,.0f}'))\n",
    "#     ax.xaxis.set_ticks_position('top')\n",
    "#     ax.tick_params(axis='x', colors='#777777', labelsize=12)\n",
    "#     ax.set_yticks([])\n",
    "#     ax.margins(0, 0.01)\n",
    "#     ax.grid(which='major', axis='x', linestyle='-')\n",
    "#     ax.set_axisbelow(True)\n",
    "    \n",
    "#     ax.text(0, 1.15, 'Coronavirus',\n",
    "#             transform=ax.transAxes, size=24, weight=600, ha='left', va='top')\n",
    "# #     ax.text(1, 0, 'by @pratapvardhan; credit @jburnmurdoch', transform=ax.transAxes, color='#777777', ha='right',\n",
    "# #             bbox=dict(facecolor='white', alpha=0.8, edgecolor='white'))\n",
    "#     plt.box(False)"
   ]
  },
  {
   "cell_type": "code",
   "execution_count": 42,
   "id": "sexual-wages",
   "metadata": {
    "execution": {
     "iopub.execute_input": "2021-12-23T12:13:15.266580Z",
     "iopub.status.busy": "2021-12-23T12:13:15.265912Z",
     "iopub.status.idle": "2021-12-23T12:13:15.268347Z",
     "shell.execute_reply": "2021-12-23T12:13:15.267825Z"
    },
    "papermill": {
     "duration": 0.042817,
     "end_time": "2021-12-23T12:13:15.268476",
     "exception": false,
     "start_time": "2021-12-23T12:13:15.225659",
     "status": "completed"
    },
    "tags": []
   },
   "outputs": [],
   "source": [
    "# #hide_input\n",
    "# fig, ax = plt.subplots(figsize=(15, 8))\n",
    "# animator = animation.FuncAnimation(fig, draw_barchart, frames=range(g.day.values.min(), g.day.values.max()))\n",
    "# HTML(animator.to_jshtml())\n",
    "# # or use animator.to_html5_video() or animator.save() "
   ]
  },
  {
   "cell_type": "code",
   "execution_count": null,
   "id": "australian-container",
   "metadata": {
    "papermill": {
     "duration": 0.036374,
     "end_time": "2021-12-23T12:13:15.340938",
     "exception": false,
     "start_time": "2021-12-23T12:13:15.304564",
     "status": "completed"
    },
    "tags": []
   },
   "outputs": [],
   "source": []
  },
  {
   "cell_type": "code",
   "execution_count": null,
   "id": "mediterranean-pontiac",
   "metadata": {
    "papermill": {
     "duration": 0.035872,
     "end_time": "2021-12-23T12:13:15.412816",
     "exception": false,
     "start_time": "2021-12-23T12:13:15.376944",
     "status": "completed"
    },
    "tags": []
   },
   "outputs": [],
   "source": []
  },
  {
   "cell_type": "code",
   "execution_count": null,
   "id": "aging-legislature",
   "metadata": {
    "papermill": {
     "duration": 0.037046,
     "end_time": "2021-12-23T12:13:15.486029",
     "exception": false,
     "start_time": "2021-12-23T12:13:15.448983",
     "status": "completed"
    },
    "tags": []
   },
   "outputs": [],
   "source": []
  }
 ],
 "metadata": {
  "kernelspec": {
   "display_name": "Python 3",
   "language": "python",
   "name": "python3"
  },
  "language_info": {
   "codemirror_mode": {
    "name": "ipython",
    "version": 3
   },
   "file_extension": ".py",
   "mimetype": "text/x-python",
   "name": "python",
   "nbconvert_exporter": "python",
   "pygments_lexer": "ipython3",
   "version": "3.6.15"
  },
  "papermill": {
   "duration": 7.139272,
   "end_time": "2021-12-23T12:13:15.932466",
   "environment_variables": {},
   "exception": null,
   "input_path": "2020-03-21-covid19exp.ipynb",
   "output_path": "2020-03-21-covid19exp.ipynb",
   "parameters": {},
   "start_time": "2021-12-23T12:13:08.793194",
   "version": "2.0.0"
  }
 },
 "nbformat": 4,
 "nbformat_minor": 5
}