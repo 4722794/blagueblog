{
 "cells": [
  {
   "cell_type": "markdown",
   "metadata": {
    "papermill": {
     "duration": 0.040494,
     "end_time": "2020-11-24T00:11:11.723027",
     "exception": false,
     "start_time": "2020-11-24T00:11:11.682533",
     "status": "completed"
    },
    "tags": []
   },
   "source": [
    "# COVID-19 Case Race\n",
    "> A race chart to see rising cases around the world\n",
    "\n",
    "- author: Hargun Oberoi\n",
    "- image: images/covid-overview.png\n",
    "- hide: false\n",
    "- badges: false"
   ]
  },
  {
   "cell_type": "code",
   "execution_count": 1,
   "metadata": {
    "execution": {
     "iopub.execute_input": "2020-11-24T00:11:11.793589Z",
     "iopub.status.busy": "2020-11-24T00:11:11.792916Z",
     "iopub.status.idle": "2020-11-24T00:11:12.144361Z",
     "shell.execute_reply": "2020-11-24T00:11:12.144886Z"
    },
    "papermill": {
     "duration": 0.388729,
     "end_time": "2020-11-24T00:11:12.145081",
     "exception": false,
     "start_time": "2020-11-24T00:11:11.756352",
     "status": "completed"
    },
    "tags": []
   },
   "outputs": [],
   "source": [
    "#hide\n",
    "import numpy as np\n",
    "import pandas as pd\n",
    "from jinja2 import Template\n",
    "from IPython.display import HTML"
   ]
  },
  {
   "cell_type": "code",
   "execution_count": 2,
   "metadata": {
    "execution": {
     "iopub.execute_input": "2020-11-24T00:11:12.218801Z",
     "iopub.status.busy": "2020-11-24T00:11:12.218127Z",
     "iopub.status.idle": "2020-11-24T00:11:12.221133Z",
     "shell.execute_reply": "2020-11-24T00:11:12.220070Z"
    },
    "papermill": {
     "duration": 0.041687,
     "end_time": "2020-11-24T00:11:12.221273",
     "exception": false,
     "start_time": "2020-11-24T00:11:12.179586",
     "status": "completed"
    },
    "tags": []
   },
   "outputs": [],
   "source": [
    "#hide\n",
    "\n",
    "# FETCH\n",
    "base_url = 'https://raw.githubusercontent.com/pratapvardhan/notebooks/master/covid19/'\n",
    "paths = {\n",
    "    'mapping': base_url + 'mapping_countries.csv',\n",
    "    'overview': base_url + 'overview.tpl'\n",
    "}"
   ]
  },
  {
   "cell_type": "code",
   "execution_count": 3,
   "metadata": {
    "execution": {
     "iopub.execute_input": "2020-11-24T00:11:12.296883Z",
     "iopub.status.busy": "2020-11-24T00:11:12.296234Z",
     "iopub.status.idle": "2020-11-24T00:11:12.299839Z",
     "shell.execute_reply": "2020-11-24T00:11:12.299275Z"
    },
    "papermill": {
     "duration": 0.046454,
     "end_time": "2020-11-24T00:11:12.299966",
     "exception": false,
     "start_time": "2020-11-24T00:11:12.253512",
     "status": "completed"
    },
    "tags": []
   },
   "outputs": [
    {
     "data": {
      "text/plain": [
       "'https://raw.githubusercontent.com/pratapvardhan/notebooks/master/covid19/mapping_countries.csv'"
      ]
     },
     "execution_count": 3,
     "metadata": {},
     "output_type": "execute_result"
    }
   ],
   "source": [
    "#hide\n",
    "paths['mapping']"
   ]
  },
  {
   "cell_type": "code",
   "execution_count": 4,
   "metadata": {
    "execution": {
     "iopub.execute_input": "2020-11-24T00:11:12.370808Z",
     "iopub.status.busy": "2020-11-24T00:11:12.370125Z",
     "iopub.status.idle": "2020-11-24T00:11:12.372401Z",
     "shell.execute_reply": "2020-11-24T00:11:12.373009Z"
    },
    "papermill": {
     "duration": 0.039957,
     "end_time": "2020-11-24T00:11:12.373153",
     "exception": false,
     "start_time": "2020-11-24T00:11:12.333196",
     "status": "completed"
    },
    "tags": []
   },
   "outputs": [],
   "source": [
    "#hide\n",
    "def get_mappings(url):\n",
    "    df = pd.read_csv(url)\n",
    "    return {\n",
    "        'df': df,\n",
    "        'replace.country': dict(df.dropna(subset=['Name']).set_index('Country')['Name']),\n",
    "        'map.continent': dict(df.set_index('Name')['Continent'])\n",
    "    }"
   ]
  },
  {
   "cell_type": "code",
   "execution_count": 5,
   "metadata": {
    "execution": {
     "iopub.execute_input": "2020-11-24T00:11:12.443009Z",
     "iopub.status.busy": "2020-11-24T00:11:12.442305Z",
     "iopub.status.idle": "2020-11-24T00:11:12.529546Z",
     "shell.execute_reply": "2020-11-24T00:11:12.530060Z"
    },
    "papermill": {
     "duration": 0.124375,
     "end_time": "2020-11-24T00:11:12.530199",
     "exception": false,
     "start_time": "2020-11-24T00:11:12.405824",
     "status": "completed"
    },
    "tags": []
   },
   "outputs": [],
   "source": [
    "#hide\n",
    "mapping = get_mappings(paths['mapping'])"
   ]
  },
  {
   "cell_type": "code",
   "execution_count": 6,
   "metadata": {
    "execution": {
     "iopub.execute_input": "2020-11-24T00:11:12.603143Z",
     "iopub.status.busy": "2020-11-24T00:11:12.602280Z",
     "iopub.status.idle": "2020-11-24T00:11:12.604012Z",
     "shell.execute_reply": "2020-11-24T00:11:12.604554Z"
    },
    "papermill": {
     "duration": 0.042492,
     "end_time": "2020-11-24T00:11:12.604768",
     "exception": false,
     "start_time": "2020-11-24T00:11:12.562276",
     "status": "completed"
    },
    "tags": []
   },
   "outputs": [],
   "source": [
    "#hide\n",
    "def get_template(path):\n",
    "    from urllib.parse import urlparse\n",
    "    if bool(urlparse(path).netloc):\n",
    "        from urllib.request import urlopen\n",
    "        return urlopen(path).read().decode('utf8')\n",
    "    return open(path).read()"
   ]
  },
  {
   "cell_type": "code",
   "execution_count": 7,
   "metadata": {
    "execution": {
     "iopub.execute_input": "2020-11-24T00:11:12.681003Z",
     "iopub.status.busy": "2020-11-24T00:11:12.680345Z",
     "iopub.status.idle": "2020-11-24T00:11:12.683636Z",
     "shell.execute_reply": "2020-11-24T00:11:12.684167Z"
    },
    "papermill": {
     "duration": 0.045074,
     "end_time": "2020-11-24T00:11:12.684322",
     "exception": false,
     "start_time": "2020-11-24T00:11:12.639248",
     "status": "completed"
    },
    "tags": []
   },
   "outputs": [],
   "source": [
    "#hide\n",
    "def get_frame(name):\n",
    "    url = (\n",
    "        'https://raw.githubusercontent.com/CSSEGISandData/COVID-19/master/csse_covid_19_data/'\n",
    "        f'csse_covid_19_time_series/time_series_covid19_{name}_global.csv')\n",
    "    df = pd.read_csv(url)\n",
    "    # rename countries\n",
    "    df['Country/Region'] = df['Country/Region'].replace(mapping['replace.country'])\n",
    "    return df"
   ]
  },
  {
   "cell_type": "code",
   "execution_count": 8,
   "metadata": {
    "execution": {
     "iopub.execute_input": "2020-11-24T00:11:12.756968Z",
     "iopub.status.busy": "2020-11-24T00:11:12.755402Z",
     "iopub.status.idle": "2020-11-24T00:11:12.757657Z",
     "shell.execute_reply": "2020-11-24T00:11:12.758157Z"
    },
    "papermill": {
     "duration": 0.04013,
     "end_time": "2020-11-24T00:11:12.758326",
     "exception": false,
     "start_time": "2020-11-24T00:11:12.718196",
     "status": "completed"
    },
    "tags": []
   },
   "outputs": [],
   "source": [
    "#hide\n",
    "def get_dates(df):\n",
    "    dt_cols = df.columns[~df.columns.isin(['Province/State', 'Country/Region', 'Lat', 'Long'])]\n",
    "    LAST_DATE_I = -1\n",
    "    # sometimes last column may be empty, then go backwards\n",
    "    for i in range(-1, -len(dt_cols), -1):\n",
    "        if not df[dt_cols[i]].fillna(0).eq(0).all():\n",
    "            LAST_DATE_I = i\n",
    "            break\n",
    "    return LAST_DATE_I, dt_cols"
   ]
  },
  {
   "cell_type": "code",
   "execution_count": 9,
   "metadata": {
    "execution": {
     "iopub.execute_input": "2020-11-24T00:11:12.828432Z",
     "iopub.status.busy": "2020-11-24T00:11:12.827738Z",
     "iopub.status.idle": "2020-11-24T00:11:13.321227Z",
     "shell.execute_reply": "2020-11-24T00:11:13.320669Z"
    },
    "papermill": {
     "duration": 0.530441,
     "end_time": "2020-11-24T00:11:13.321396",
     "exception": false,
     "start_time": "2020-11-24T00:11:12.790955",
     "status": "completed"
    },
    "tags": []
   },
   "outputs": [],
   "source": [
    "#hide\n",
    "COL_REGION = 'Country/Region'\n",
    "# Confirmed, Recovered, Deaths\n",
    "df = get_frame('confirmed')\n",
    "# dft_: timeseries, dfc_: today country agg\n",
    "dft_cases = df\n",
    "dft_deaths = get_frame('deaths')\n",
    "dft_recovered = get_frame('recovered')\n",
    "LAST_DATE_I, dt_cols = get_dates(df)"
   ]
  },
  {
   "cell_type": "code",
   "execution_count": 10,
   "metadata": {
    "execution": {
     "iopub.execute_input": "2020-11-24T00:11:13.392753Z",
     "iopub.status.busy": "2020-11-24T00:11:13.391984Z",
     "iopub.status.idle": "2020-11-24T00:11:13.395337Z",
     "shell.execute_reply": "2020-11-24T00:11:13.395910Z"
    },
    "papermill": {
     "duration": 0.041081,
     "end_time": "2020-11-24T00:11:13.396086",
     "exception": false,
     "start_time": "2020-11-24T00:11:13.355005",
     "status": "completed"
    },
    "tags": []
   },
   "outputs": [],
   "source": [
    "#hide\n",
    "LAST_DATE_I, dt_cols = get_dates(df)\n",
    "dt_today =dt_cols[LAST_DATE_I]\n",
    "# dt_5day = dt_cols[LAST_DATE_I - 5]\n",
    "dt_yday = dt_cols[LAST_DATE_I - 1]"
   ]
  },
  {
   "cell_type": "code",
   "execution_count": 11,
   "metadata": {
    "execution": {
     "iopub.execute_input": "2020-11-24T00:11:13.467293Z",
     "iopub.status.busy": "2020-11-24T00:11:13.466586Z",
     "iopub.status.idle": "2020-11-24T00:11:13.475520Z",
     "shell.execute_reply": "2020-11-24T00:11:13.476124Z"
    },
    "papermill": {
     "duration": 0.04661,
     "end_time": "2020-11-24T00:11:13.476280",
     "exception": false,
     "start_time": "2020-11-24T00:11:13.429670",
     "status": "completed"
    },
    "tags": []
   },
   "outputs": [],
   "source": [
    "#hide\n",
    "dfc_cases = dft_cases.groupby(COL_REGION)[dt_today].sum()\n",
    "dfc_deaths = dft_deaths.groupby(COL_REGION)[dt_today].sum()\n",
    "# dfp_cases = dft_cases.groupby(COL_REGION)[dt_5day].sum()\n",
    "# dfp_deaths = dft_deaths.groupby(COL_REGION)[dt_5day].sum()\n",
    "dfp_cases = dft_cases.groupby(COL_REGION)[dt_yday].sum()\n",
    "dfp_deaths = dft_deaths.groupby(COL_REGION)[dt_yday].sum()"
   ]
  },
  {
   "cell_type": "code",
   "execution_count": 12,
   "metadata": {
    "execution": {
     "iopub.execute_input": "2020-11-24T00:11:13.547822Z",
     "iopub.status.busy": "2020-11-24T00:11:13.547136Z",
     "iopub.status.idle": "2020-11-24T00:11:13.552115Z",
     "shell.execute_reply": "2020-11-24T00:11:13.552654Z"
    },
    "papermill": {
     "duration": 0.044934,
     "end_time": "2020-11-24T00:11:13.552821",
     "exception": false,
     "start_time": "2020-11-24T00:11:13.507887",
     "status": "completed"
    },
    "tags": []
   },
   "outputs": [],
   "source": [
    "#hide\n",
    "df_table = (pd.DataFrame(dict(Cases = dfc_cases, Deaths = dfc_deaths, PCases = dfp_cases, PDeaths = dfp_deaths))\n",
    "            .sort_values(by = ['Cases','Deaths'], ascending = [False, False])\n",
    "            .reset_index())"
   ]
  },
  {
   "cell_type": "code",
   "execution_count": 13,
   "metadata": {
    "execution": {
     "iopub.execute_input": "2020-11-24T00:11:13.652444Z",
     "iopub.status.busy": "2020-11-24T00:11:13.651737Z",
     "iopub.status.idle": "2020-11-24T00:11:13.659752Z",
     "shell.execute_reply": "2020-11-24T00:11:13.660373Z"
    },
    "papermill": {
     "duration": 0.075433,
     "end_time": "2020-11-24T00:11:13.660521",
     "exception": false,
     "start_time": "2020-11-24T00:11:13.585088",
     "status": "completed"
    },
    "tags": []
   },
   "outputs": [
    {
     "data": {
      "text/html": [
       "<div>\n",
       "<style scoped>\n",
       "    .dataframe tbody tr th:only-of-type {\n",
       "        vertical-align: middle;\n",
       "    }\n",
       "\n",
       "    .dataframe tbody tr th {\n",
       "        vertical-align: top;\n",
       "    }\n",
       "\n",
       "    .dataframe thead th {\n",
       "        text-align: right;\n",
       "    }\n",
       "</style>\n",
       "<table border=\"1\" class=\"dataframe\">\n",
       "  <thead>\n",
       "    <tr style=\"text-align: right;\">\n",
       "      <th></th>\n",
       "      <th>Country/Region</th>\n",
       "      <th>Cases</th>\n",
       "      <th>Deaths</th>\n",
       "      <th>PCases</th>\n",
       "      <th>PDeaths</th>\n",
       "      <th>Cases (+)</th>\n",
       "      <th>Deaths (+)</th>\n",
       "      <th>Fatality Rate</th>\n",
       "      <th>Continent</th>\n",
       "    </tr>\n",
       "  </thead>\n",
       "  <tbody>\n",
       "    <tr>\n",
       "      <th>0</th>\n",
       "      <td>US</td>\n",
       "      <td>12246849</td>\n",
       "      <td>256782</td>\n",
       "      <td>12104117</td>\n",
       "      <td>255861</td>\n",
       "      <td>142732</td>\n",
       "      <td>921</td>\n",
       "      <td>2.10</td>\n",
       "      <td>North America</td>\n",
       "    </tr>\n",
       "    <tr>\n",
       "      <th>1</th>\n",
       "      <td>India</td>\n",
       "      <td>9139865</td>\n",
       "      <td>133738</td>\n",
       "      <td>9095806</td>\n",
       "      <td>133227</td>\n",
       "      <td>44059</td>\n",
       "      <td>511</td>\n",
       "      <td>1.46</td>\n",
       "      <td>Asia</td>\n",
       "    </tr>\n",
       "    <tr>\n",
       "      <th>2</th>\n",
       "      <td>Brazil</td>\n",
       "      <td>6071401</td>\n",
       "      <td>169183</td>\n",
       "      <td>6052786</td>\n",
       "      <td>168989</td>\n",
       "      <td>18615</td>\n",
       "      <td>194</td>\n",
       "      <td>2.79</td>\n",
       "      <td>South America</td>\n",
       "    </tr>\n",
       "    <tr>\n",
       "      <th>3</th>\n",
       "      <td>France</td>\n",
       "      <td>2191180</td>\n",
       "      <td>48807</td>\n",
       "      <td>2178023</td>\n",
       "      <td>48593</td>\n",
       "      <td>13157</td>\n",
       "      <td>214</td>\n",
       "      <td>2.23</td>\n",
       "      <td>Europe</td>\n",
       "    </tr>\n",
       "    <tr>\n",
       "      <th>4</th>\n",
       "      <td>Russia</td>\n",
       "      <td>2071858</td>\n",
       "      <td>35838</td>\n",
       "      <td>2047563</td>\n",
       "      <td>35442</td>\n",
       "      <td>24295</td>\n",
       "      <td>396</td>\n",
       "      <td>1.73</td>\n",
       "      <td>Europe</td>\n",
       "    </tr>\n",
       "  </tbody>\n",
       "</table>\n",
       "</div>"
      ],
      "text/plain": [
       "  Country/Region     Cases  Deaths    PCases  PDeaths  Cases (+)  Deaths (+)  \\\n",
       "0             US  12246849  256782  12104117   255861     142732         921   \n",
       "1          India   9139865  133738   9095806   133227      44059         511   \n",
       "2         Brazil   6071401  169183   6052786   168989      18615         194   \n",
       "3         France   2191180   48807   2178023    48593      13157         214   \n",
       "4         Russia   2071858   35838   2047563    35442      24295         396   \n",
       "\n",
       "   Fatality Rate      Continent  \n",
       "0           2.10  North America  \n",
       "1           1.46           Asia  \n",
       "2           2.79  South America  \n",
       "3           2.23         Europe  \n",
       "4           1.73         Europe  "
      ]
     },
     "execution_count": 13,
     "metadata": {},
     "output_type": "execute_result"
    }
   ],
   "source": [
    "#hide\n",
    "for c in 'Cases, Deaths'.split(', '):\n",
    "    df_table[f'{c} (+)'] = (df_table[c] - df_table[f'P{c}']).clip(0)\n",
    "    #Clip ça veut dire, les chiffres negatif sont interdit\n",
    "df_table['Fatality Rate'] = (100* df_table['Deaths']/ df_table['Cases']).round(2)\n",
    "df_table['Continent'] = df_table['Country/Region'].map(mapping['map.continent'])\n",
    "df_table.head(5)"
   ]
  },
  {
   "cell_type": "code",
   "execution_count": 14,
   "metadata": {
    "execution": {
     "iopub.execute_input": "2020-11-24T00:11:13.733615Z",
     "iopub.status.busy": "2020-11-24T00:11:13.732942Z",
     "iopub.status.idle": "2020-11-24T00:11:13.735504Z",
     "shell.execute_reply": "2020-11-24T00:11:13.734903Z"
    },
    "papermill": {
     "duration": 0.041873,
     "end_time": "2020-11-24T00:11:13.735638",
     "exception": false,
     "start_time": "2020-11-24T00:11:13.693765",
     "status": "completed"
    },
    "tags": []
   },
   "outputs": [],
   "source": [
    "#hide\n",
    "#delete problematic countries from table\n",
    "df_table = df_table[~df_table['Country/Region'].isin(['Cape Verde', 'Cruise Ship', 'Kosovo'])]"
   ]
  },
  {
   "cell_type": "code",
   "execution_count": 15,
   "metadata": {
    "execution": {
     "iopub.execute_input": "2020-11-24T00:11:13.812644Z",
     "iopub.status.busy": "2020-11-24T00:11:13.811985Z",
     "iopub.status.idle": "2020-11-24T00:11:13.832879Z",
     "shell.execute_reply": "2020-11-24T00:11:13.833465Z"
    },
    "papermill": {
     "duration": 0.064103,
     "end_time": "2020-11-24T00:11:13.833605",
     "exception": false,
     "start_time": "2020-11-24T00:11:13.769502",
     "status": "completed"
    },
    "tags": []
   },
   "outputs": [
    {
     "data": {
      "text/html": [
       "<div>\n",
       "<style scoped>\n",
       "    .dataframe tbody tr th:only-of-type {\n",
       "        vertical-align: middle;\n",
       "    }\n",
       "\n",
       "    .dataframe tbody tr th {\n",
       "        vertical-align: top;\n",
       "    }\n",
       "\n",
       "    .dataframe thead th {\n",
       "        text-align: right;\n",
       "    }\n",
       "</style>\n",
       "<table border=\"1\" class=\"dataframe\">\n",
       "  <thead>\n",
       "    <tr style=\"text-align: right;\">\n",
       "      <th></th>\n",
       "      <th>Country/Region</th>\n",
       "      <th>Cases</th>\n",
       "      <th>Deaths</th>\n",
       "      <th>PCases</th>\n",
       "      <th>PDeaths</th>\n",
       "      <th>Cases (+)</th>\n",
       "      <th>Deaths (+)</th>\n",
       "      <th>Fatality Rate</th>\n",
       "      <th>Continent</th>\n",
       "    </tr>\n",
       "  </thead>\n",
       "  <tbody>\n",
       "    <tr>\n",
       "      <th>0</th>\n",
       "      <td>US</td>\n",
       "      <td>12246849</td>\n",
       "      <td>256782</td>\n",
       "      <td>12104117</td>\n",
       "      <td>255861</td>\n",
       "      <td>142732</td>\n",
       "      <td>921</td>\n",
       "      <td>2.1</td>\n",
       "      <td>North America</td>\n",
       "    </tr>\n",
       "    <tr>\n",
       "      <th>1</th>\n",
       "      <td>India</td>\n",
       "      <td>9139865</td>\n",
       "      <td>133738</td>\n",
       "      <td>9095806</td>\n",
       "      <td>133227</td>\n",
       "      <td>44059</td>\n",
       "      <td>511</td>\n",
       "      <td>1.5</td>\n",
       "      <td>Asia</td>\n",
       "    </tr>\n",
       "    <tr>\n",
       "      <th>2</th>\n",
       "      <td>Brazil</td>\n",
       "      <td>6071401</td>\n",
       "      <td>169183</td>\n",
       "      <td>6052786</td>\n",
       "      <td>168989</td>\n",
       "      <td>18615</td>\n",
       "      <td>194</td>\n",
       "      <td>2.8</td>\n",
       "      <td>South America</td>\n",
       "    </tr>\n",
       "    <tr>\n",
       "      <th>3</th>\n",
       "      <td>France</td>\n",
       "      <td>2191180</td>\n",
       "      <td>48807</td>\n",
       "      <td>2178023</td>\n",
       "      <td>48593</td>\n",
       "      <td>13157</td>\n",
       "      <td>214</td>\n",
       "      <td>2.2</td>\n",
       "      <td>Europe</td>\n",
       "    </tr>\n",
       "    <tr>\n",
       "      <th>4</th>\n",
       "      <td>Russia</td>\n",
       "      <td>2071858</td>\n",
       "      <td>35838</td>\n",
       "      <td>2047563</td>\n",
       "      <td>35442</td>\n",
       "      <td>24295</td>\n",
       "      <td>396</td>\n",
       "      <td>1.7</td>\n",
       "      <td>Europe</td>\n",
       "    </tr>\n",
       "  </tbody>\n",
       "</table>\n",
       "</div>"
      ],
      "text/plain": [
       "  Country/Region     Cases  Deaths    PCases  PDeaths  Cases (+)  Deaths (+)  \\\n",
       "0             US  12246849  256782  12104117   255861     142732         921   \n",
       "1          India   9139865  133738   9095806   133227      44059         511   \n",
       "2         Brazil   6071401  169183   6052786   168989      18615         194   \n",
       "3         France   2191180   48807   2178023    48593      13157         214   \n",
       "4         Russia   2071858   35838   2047563    35442      24295         396   \n",
       "\n",
       "   Fatality Rate      Continent  \n",
       "0            2.1  North America  \n",
       "1            1.5           Asia  \n",
       "2            2.8  South America  \n",
       "3            2.2         Europe  \n",
       "4            1.7         Europe  "
      ]
     },
     "execution_count": 15,
     "metadata": {},
     "output_type": "execute_result"
    }
   ],
   "source": [
    "#hide\n",
    "df_table = (pd.DataFrame(dict(Cases=dfc_cases, Deaths=dfc_deaths, PCases=dfp_cases, PDeaths=dfp_deaths))\n",
    "             .sort_values(by=['Cases', 'Deaths'], ascending=[False, False])\n",
    "             .reset_index())\n",
    "df_table.rename(columns={'index': 'Country/Region'}, inplace=True)\n",
    "for c in 'Cases, Deaths'.split(', '):\n",
    "    df_table[f'{c} (+)'] = (df_table[c] - df_table[f'P{c}']).clip(0)  # DATA BUG\n",
    "df_table['Fatality Rate'] = (100 * df_table['Deaths'] / df_table['Cases']).round(1)\n",
    "df_table['Continent'] = df_table['Country/Region'].map(mapping['map.continent'])\n",
    "df_table.head(5)"
   ]
  },
  {
   "cell_type": "code",
   "execution_count": 16,
   "metadata": {
    "execution": {
     "iopub.execute_input": "2020-11-24T00:11:13.909213Z",
     "iopub.status.busy": "2020-11-24T00:11:13.908552Z",
     "iopub.status.idle": "2020-11-24T00:11:13.910804Z",
     "shell.execute_reply": "2020-11-24T00:11:13.911384Z"
    },
    "papermill": {
     "duration": 0.043712,
     "end_time": "2020-11-24T00:11:13.911551",
     "exception": false,
     "start_time": "2020-11-24T00:11:13.867839",
     "status": "completed"
    },
    "tags": []
   },
   "outputs": [],
   "source": [
    "#hide\n",
    "#delete problematic countries from table\n",
    "df_table = df_table[~df_table['Country/Region'].isin(['Cape Verde', 'Cruise Ship', 'Kosovo'])]"
   ]
  },
  {
   "cell_type": "code",
   "execution_count": 17,
   "metadata": {
    "execution": {
     "iopub.execute_input": "2020-11-24T00:11:13.993679Z",
     "iopub.status.busy": "2020-11-24T00:11:13.992760Z",
     "iopub.status.idle": "2020-11-24T00:11:14.013436Z",
     "shell.execute_reply": "2020-11-24T00:11:14.013959Z"
    },
    "papermill": {
     "duration": 0.068857,
     "end_time": "2020-11-24T00:11:14.014141",
     "exception": false,
     "start_time": "2020-11-24T00:11:13.945284",
     "status": "completed"
    },
    "tags": []
   },
   "outputs": [],
   "source": [
    "#hide\n",
    "metrics = [df_table.columns[index] for index in [1,2,5,6]]\n",
    "# s_china = df_table[df_table['Country/Region'].eq('China')][metrics].sum().add_prefix('China ')\n",
    "s_us = df_table[df_table['Country/Region'].eq('US')][metrics].sum().add_prefix('US ')\n",
    "s_eu = df_table[df_table['Continent'].eq('Europe')][metrics].sum().add_prefix('EU ')\n",
    "s_ind = df_table[df_table['Country/Region'].eq('India')][metrics].sum().add_prefix('India ')\n",
    "summary = {'updated': pd.to_datetime(dt_today), 'since': pd.to_datetime(dt_yday)}\n",
    "summary = {'updated': pd.to_datetime(dt_today), 'since': pd.to_datetime(dt_yday)}\n",
    "summary = {**summary, **df_table[metrics].sum(), **s_ind, **s_us, **s_eu}"
   ]
  },
  {
   "cell_type": "code",
   "execution_count": 18,
   "metadata": {
    "execution": {
     "iopub.execute_input": "2020-11-24T00:11:14.092344Z",
     "iopub.status.busy": "2020-11-24T00:11:14.091628Z",
     "iopub.status.idle": "2020-11-24T00:11:14.102266Z",
     "shell.execute_reply": "2020-11-24T00:11:14.102791Z"
    },
    "papermill": {
     "duration": 0.053604,
     "end_time": "2020-11-24T00:11:14.103015",
     "exception": false,
     "start_time": "2020-11-24T00:11:14.049411",
     "status": "completed"
    },
    "tags": []
   },
   "outputs": [],
   "source": [
    "#hide\n",
    "dft_ct_new_cases = dft_cases.groupby(COL_REGION)[dt_cols].sum().diff(axis=1).fillna(0).astype(int)"
   ]
  },
  {
   "cell_type": "code",
   "execution_count": 19,
   "metadata": {
    "execution": {
     "iopub.execute_input": "2020-11-24T00:11:14.178171Z",
     "iopub.status.busy": "2020-11-24T00:11:14.177445Z",
     "iopub.status.idle": "2020-11-24T00:11:14.182285Z",
     "shell.execute_reply": "2020-11-24T00:11:14.181740Z"
    },
    "papermill": {
     "duration": 0.043718,
     "end_time": "2020-11-24T00:11:14.182414",
     "exception": false,
     "start_time": "2020-11-24T00:11:14.138696",
     "status": "completed"
    },
    "tags": []
   },
   "outputs": [],
   "source": [
    "#hide\n",
    "everydaycases = dft_ct_new_cases.cumsum(axis=1)"
   ]
  },
  {
   "cell_type": "code",
   "execution_count": 20,
   "metadata": {
    "execution": {
     "iopub.execute_input": "2020-11-24T00:11:14.254449Z",
     "iopub.status.busy": "2020-11-24T00:11:14.253786Z",
     "iopub.status.idle": "2020-11-24T00:11:17.663946Z",
     "shell.execute_reply": "2020-11-24T00:11:17.663344Z"
    },
    "papermill": {
     "duration": 3.448099,
     "end_time": "2020-11-24T00:11:17.664121",
     "exception": false,
     "start_time": "2020-11-24T00:11:14.216022",
     "status": "completed"
    },
    "tags": []
   },
   "outputs": [],
   "source": [
    "#hide\n",
    "import pandas as pd\n",
    "import matplotlib.pyplot as plt\n",
    "import matplotlib.ticker as ticker\n",
    "import matplotlib.animation as animation\n",
    "from IPython.display import HTML"
   ]
  },
  {
   "cell_type": "code",
   "execution_count": 21,
   "metadata": {
    "execution": {
     "iopub.execute_input": "2020-11-24T00:11:17.740777Z",
     "iopub.status.busy": "2020-11-24T00:11:17.740116Z",
     "iopub.status.idle": "2020-11-24T00:11:17.745458Z",
     "shell.execute_reply": "2020-11-24T00:11:17.744933Z"
    },
    "papermill": {
     "duration": 0.046194,
     "end_time": "2020-11-24T00:11:17.745595",
     "exception": false,
     "start_time": "2020-11-24T00:11:17.699401",
     "status": "completed"
    },
    "tags": []
   },
   "outputs": [],
   "source": [
    "#hide\n",
    "t = everydaycases.stack()"
   ]
  },
  {
   "cell_type": "code",
   "execution_count": 22,
   "metadata": {
    "execution": {
     "iopub.execute_input": "2020-11-24T00:11:17.815845Z",
     "iopub.status.busy": "2020-11-24T00:11:17.815189Z",
     "iopub.status.idle": "2020-11-24T00:11:17.822154Z",
     "shell.execute_reply": "2020-11-24T00:11:17.821591Z"
    },
    "papermill": {
     "duration": 0.043776,
     "end_time": "2020-11-24T00:11:17.822285",
     "exception": false,
     "start_time": "2020-11-24T00:11:17.778509",
     "status": "completed"
    },
    "tags": []
   },
   "outputs": [],
   "source": [
    "#hide\n",
    "g = t.reset_index(['Country/Region'])"
   ]
  },
  {
   "cell_type": "code",
   "execution_count": 23,
   "metadata": {
    "execution": {
     "iopub.execute_input": "2020-11-24T00:11:17.894279Z",
     "iopub.status.busy": "2020-11-24T00:11:17.893351Z",
     "iopub.status.idle": "2020-11-24T00:11:17.895350Z",
     "shell.execute_reply": "2020-11-24T00:11:17.896601Z"
    },
    "papermill": {
     "duration": 0.041846,
     "end_time": "2020-11-24T00:11:17.896849",
     "exception": false,
     "start_time": "2020-11-24T00:11:17.855003",
     "status": "completed"
    },
    "tags": []
   },
   "outputs": [],
   "source": [
    "#hide\n",
    "g.index.name = 'date'"
   ]
  },
  {
   "cell_type": "code",
   "execution_count": 24,
   "metadata": {
    "execution": {
     "iopub.execute_input": "2020-11-24T00:11:17.967898Z",
     "iopub.status.busy": "2020-11-24T00:11:17.967205Z",
     "iopub.status.idle": "2020-11-24T00:11:17.969158Z",
     "shell.execute_reply": "2020-11-24T00:11:17.969694Z"
    },
    "papermill": {
     "duration": 0.038633,
     "end_time": "2020-11-24T00:11:17.969838",
     "exception": false,
     "start_time": "2020-11-24T00:11:17.931205",
     "status": "completed"
    },
    "tags": []
   },
   "outputs": [],
   "source": [
    "# #hide\n",
    "# g = g.reset_index(['date'])"
   ]
  },
  {
   "cell_type": "code",
   "execution_count": 25,
   "metadata": {
    "execution": {
     "iopub.execute_input": "2020-11-24T00:11:18.044458Z",
     "iopub.status.busy": "2020-11-24T00:11:18.043797Z",
     "iopub.status.idle": "2020-11-24T00:11:18.046393Z",
     "shell.execute_reply": "2020-11-24T00:11:18.045766Z"
    },
    "papermill": {
     "duration": 0.042901,
     "end_time": "2020-11-24T00:11:18.046543",
     "exception": false,
     "start_time": "2020-11-24T00:11:18.003642",
     "status": "completed"
    },
    "tags": []
   },
   "outputs": [],
   "source": [
    "#hide\n",
    "# g.head()"
   ]
  },
  {
   "cell_type": "code",
   "execution_count": 26,
   "metadata": {
    "execution": {
     "iopub.execute_input": "2020-11-24T00:11:18.116170Z",
     "iopub.status.busy": "2020-11-24T00:11:18.115593Z",
     "iopub.status.idle": "2020-11-24T00:11:18.117376Z",
     "shell.execute_reply": "2020-11-24T00:11:18.117964Z"
    },
    "papermill": {
     "duration": 0.03881,
     "end_time": "2020-11-24T00:11:18.118093",
     "exception": false,
     "start_time": "2020-11-24T00:11:18.079283",
     "status": "completed"
    },
    "tags": []
   },
   "outputs": [],
   "source": [
    "#hide\n",
    "# g.columns = ['date','country','cases']"
   ]
  },
  {
   "cell_type": "code",
   "execution_count": 27,
   "metadata": {
    "execution": {
     "iopub.execute_input": "2020-11-24T00:11:18.188310Z",
     "iopub.status.busy": "2020-11-24T00:11:18.187664Z",
     "iopub.status.idle": "2020-11-24T00:11:18.190087Z",
     "shell.execute_reply": "2020-11-24T00:11:18.189445Z"
    },
    "papermill": {
     "duration": 0.038801,
     "end_time": "2020-11-24T00:11:18.190222",
     "exception": false,
     "start_time": "2020-11-24T00:11:18.151421",
     "status": "completed"
    },
    "tags": []
   },
   "outputs": [],
   "source": [
    "#hide\n",
    "# g['continent'] = g.country"
   ]
  },
  {
   "cell_type": "code",
   "execution_count": 28,
   "metadata": {
    "execution": {
     "iopub.execute_input": "2020-11-24T00:11:18.265597Z",
     "iopub.status.busy": "2020-11-24T00:11:18.264912Z",
     "iopub.status.idle": "2020-11-24T00:11:18.267626Z",
     "shell.execute_reply": "2020-11-24T00:11:18.267009Z"
    },
    "papermill": {
     "duration": 0.03813,
     "end_time": "2020-11-24T00:11:18.267809",
     "exception": false,
     "start_time": "2020-11-24T00:11:18.229679",
     "status": "completed"
    },
    "tags": []
   },
   "outputs": [],
   "source": [
    "#hide\n",
    "# cols = list(g.columns.values)"
   ]
  },
  {
   "cell_type": "code",
   "execution_count": 29,
   "metadata": {
    "execution": {
     "iopub.execute_input": "2020-11-24T00:11:18.339150Z",
     "iopub.status.busy": "2020-11-24T00:11:18.338435Z",
     "iopub.status.idle": "2020-11-24T00:11:18.340926Z",
     "shell.execute_reply": "2020-11-24T00:11:18.340269Z"
    },
    "papermill": {
     "duration": 0.03998,
     "end_time": "2020-11-24T00:11:18.341065",
     "exception": false,
     "start_time": "2020-11-24T00:11:18.301085",
     "status": "completed"
    },
    "tags": []
   },
   "outputs": [],
   "source": [
    "#hide\n",
    "# cols.insert(0, cols.pop())"
   ]
  },
  {
   "cell_type": "code",
   "execution_count": 30,
   "metadata": {
    "execution": {
     "iopub.execute_input": "2020-11-24T00:11:18.414651Z",
     "iopub.status.busy": "2020-11-24T00:11:18.413980Z",
     "iopub.status.idle": "2020-11-24T00:11:18.416761Z",
     "shell.execute_reply": "2020-11-24T00:11:18.416112Z"
    },
    "papermill": {
     "duration": 0.041807,
     "end_time": "2020-11-24T00:11:18.416915",
     "exception": false,
     "start_time": "2020-11-24T00:11:18.375108",
     "status": "completed"
    },
    "tags": []
   },
   "outputs": [],
   "source": [
    "#hide\n",
    "# g = g[cols]"
   ]
  },
  {
   "cell_type": "code",
   "execution_count": 31,
   "metadata": {
    "execution": {
     "iopub.execute_input": "2020-11-24T00:11:18.488403Z",
     "iopub.status.busy": "2020-11-24T00:11:18.487767Z",
     "iopub.status.idle": "2020-11-24T00:11:18.490220Z",
     "shell.execute_reply": "2020-11-24T00:11:18.489587Z"
    },
    "papermill": {
     "duration": 0.039707,
     "end_time": "2020-11-24T00:11:18.490351",
     "exception": false,
     "start_time": "2020-11-24T00:11:18.450644",
     "status": "completed"
    },
    "tags": []
   },
   "outputs": [],
   "source": [
    "#hide\n",
    "# g['continent'] = g['continent'].map(mapping['map.continent'])"
   ]
  },
  {
   "cell_type": "code",
   "execution_count": 32,
   "metadata": {
    "execution": {
     "iopub.execute_input": "2020-11-24T00:11:18.561933Z",
     "iopub.status.busy": "2020-11-24T00:11:18.561246Z",
     "iopub.status.idle": "2020-11-24T00:11:18.566566Z",
     "shell.execute_reply": "2020-11-24T00:11:18.566062Z"
    },
    "papermill": {
     "duration": 0.042049,
     "end_time": "2020-11-24T00:11:18.566692",
     "exception": false,
     "start_time": "2020-11-24T00:11:18.524643",
     "status": "completed"
    },
    "tags": []
   },
   "outputs": [],
   "source": [
    "#hide\n",
    "# g.head()"
   ]
  },
  {
   "cell_type": "code",
   "execution_count": 33,
   "metadata": {
    "execution": {
     "iopub.execute_input": "2020-11-24T00:11:18.638314Z",
     "iopub.status.busy": "2020-11-24T00:11:18.637622Z",
     "iopub.status.idle": "2020-11-24T00:11:18.641859Z",
     "shell.execute_reply": "2020-11-24T00:11:18.641323Z"
    },
    "papermill": {
     "duration": 0.041397,
     "end_time": "2020-11-24T00:11:18.641991",
     "exception": false,
     "start_time": "2020-11-24T00:11:18.600594",
     "status": "completed"
    },
    "tags": []
   },
   "outputs": [],
   "source": [
    "# hide\n",
    "# g['date'] = g['date'].astype('datetime64[ns]')"
   ]
  },
  {
   "cell_type": "code",
   "execution_count": 34,
   "metadata": {
    "execution": {
     "iopub.execute_input": "2020-11-24T00:11:18.716193Z",
     "iopub.status.busy": "2020-11-24T00:11:18.715507Z",
     "iopub.status.idle": "2020-11-24T00:11:18.717662Z",
     "shell.execute_reply": "2020-11-24T00:11:18.718315Z"
    },
    "papermill": {
     "duration": 0.042605,
     "end_time": "2020-11-24T00:11:18.718460",
     "exception": false,
     "start_time": "2020-11-24T00:11:18.675855",
     "status": "completed"
    },
    "tags": []
   },
   "outputs": [],
   "source": [
    "#hide\n",
    "# g['date'] = g.date.dt.dayofyear"
   ]
  },
  {
   "cell_type": "code",
   "execution_count": 35,
   "metadata": {
    "execution": {
     "iopub.execute_input": "2020-11-24T00:11:18.790336Z",
     "iopub.status.busy": "2020-11-24T00:11:18.789606Z",
     "iopub.status.idle": "2020-11-24T00:11:18.792459Z",
     "shell.execute_reply": "2020-11-24T00:11:18.791773Z"
    },
    "papermill": {
     "duration": 0.039658,
     "end_time": "2020-11-24T00:11:18.792599",
     "exception": false,
     "start_time": "2020-11-24T00:11:18.752941",
     "status": "completed"
    },
    "tags": []
   },
   "outputs": [],
   "source": [
    "#hide\n",
    "# g = g.rename(columns= {'continent':'group','country':'name','cases':'value'})"
   ]
  },
  {
   "cell_type": "code",
   "execution_count": 36,
   "metadata": {
    "execution": {
     "iopub.execute_input": "2020-11-24T00:11:18.862242Z",
     "iopub.status.busy": "2020-11-24T00:11:18.861560Z",
     "iopub.status.idle": "2020-11-24T00:11:18.863551Z",
     "shell.execute_reply": "2020-11-24T00:11:18.864142Z"
    },
    "papermill": {
     "duration": 0.039011,
     "end_time": "2020-11-24T00:11:18.864284",
     "exception": false,
     "start_time": "2020-11-24T00:11:18.825273",
     "status": "completed"
    },
    "tags": []
   },
   "outputs": [],
   "source": [
    "#hide\n",
    "# cols = ['name','group','day','value']"
   ]
  },
  {
   "cell_type": "code",
   "execution_count": 37,
   "metadata": {
    "execution": {
     "iopub.execute_input": "2020-11-24T00:11:18.934499Z",
     "iopub.status.busy": "2020-11-24T00:11:18.933820Z",
     "iopub.status.idle": "2020-11-24T00:11:18.935886Z",
     "shell.execute_reply": "2020-11-24T00:11:18.936404Z"
    },
    "papermill": {
     "duration": 0.039585,
     "end_time": "2020-11-24T00:11:18.936548",
     "exception": false,
     "start_time": "2020-11-24T00:11:18.896963",
     "status": "completed"
    },
    "tags": []
   },
   "outputs": [],
   "source": [
    "#hide\n",
    "# g.rename(columns= {'date':'day'},inplace = True)"
   ]
  },
  {
   "cell_type": "code",
   "execution_count": 38,
   "metadata": {
    "execution": {
     "iopub.execute_input": "2020-11-24T00:11:19.005222Z",
     "iopub.status.busy": "2020-11-24T00:11:19.004588Z",
     "iopub.status.idle": "2020-11-24T00:11:19.007071Z",
     "shell.execute_reply": "2020-11-24T00:11:19.006470Z"
    },
    "papermill": {
     "duration": 0.038379,
     "end_time": "2020-11-24T00:11:19.007205",
     "exception": false,
     "start_time": "2020-11-24T00:11:18.968826",
     "status": "completed"
    },
    "tags": []
   },
   "outputs": [],
   "source": [
    "#hide\n",
    "# g = g[cols]"
   ]
  },
  {
   "cell_type": "code",
   "execution_count": 39,
   "metadata": {
    "execution": {
     "iopub.execute_input": "2020-11-24T00:11:19.078063Z",
     "iopub.status.busy": "2020-11-24T00:11:19.077405Z",
     "iopub.status.idle": "2020-11-24T00:11:19.080429Z",
     "shell.execute_reply": "2020-11-24T00:11:19.079444Z"
    },
    "papermill": {
     "duration": 0.038867,
     "end_time": "2020-11-24T00:11:19.080561",
     "exception": false,
     "start_time": "2020-11-24T00:11:19.041694",
     "status": "completed"
    },
    "tags": []
   },
   "outputs": [],
   "source": [
    "# #hide\n",
    "# g = g[g.group.notna()]"
   ]
  },
  {
   "cell_type": "code",
   "execution_count": 40,
   "metadata": {
    "execution": {
     "iopub.execute_input": "2020-11-24T00:11:19.150460Z",
     "iopub.status.busy": "2020-11-24T00:11:19.149802Z",
     "iopub.status.idle": "2020-11-24T00:11:19.152299Z",
     "shell.execute_reply": "2020-11-24T00:11:19.151786Z"
    },
    "papermill": {
     "duration": 0.03962,
     "end_time": "2020-11-24T00:11:19.152427",
     "exception": false,
     "start_time": "2020-11-24T00:11:19.112807",
     "status": "completed"
    },
    "tags": []
   },
   "outputs": [],
   "source": [
    "# #hide\n",
    "# colors = dict(zip(\n",
    "#     [\"Oceania\", \"Europe\", \"Asia\", \"South America\", \"Middle East\", \"North America\", \"Africa\"],\n",
    "#     [\"#adb0ff\", \"#ffb3ff\", \"#90d595\", \"#e48381\", \"#aafbff\", \"#f7bb5f\", \"#eafb50\"]\n",
    "# ))\n",
    "# group_lk = g.set_index('name')['group'].to_dict()"
   ]
  },
  {
   "cell_type": "code",
   "execution_count": null,
   "metadata": {
    "papermill": {
     "duration": 0.038049,
     "end_time": "2020-11-24T00:11:19.223317",
     "exception": false,
     "start_time": "2020-11-24T00:11:19.185268",
     "status": "completed"
    },
    "tags": []
   },
   "outputs": [],
   "source": []
  },
  {
   "cell_type": "code",
   "execution_count": 41,
   "metadata": {
    "execution": {
     "iopub.execute_input": "2020-11-24T00:11:19.299816Z",
     "iopub.status.busy": "2020-11-24T00:11:19.299151Z",
     "iopub.status.idle": "2020-11-24T00:11:19.300567Z",
     "shell.execute_reply": "2020-11-24T00:11:19.301207Z"
    },
    "papermill": {
     "duration": 0.043478,
     "end_time": "2020-11-24T00:11:19.301356",
     "exception": false,
     "start_time": "2020-11-24T00:11:19.257878",
     "status": "completed"
    },
    "tags": []
   },
   "outputs": [],
   "source": [
    "# #hide\n",
    "# fig, ax = plt.subplots(figsize=(15, 8))\n",
    "\n",
    "# def draw_barchart(current_day):\n",
    "#     dff = g[g['day'].eq(current_day)].sort_values(by='value', ascending=True).tail(10)\n",
    "#     ax.clear()\n",
    "#     ax.barh(dff['name'], dff['value'], color=[colors[group_lk[x]] for x in dff['name']])\n",
    "#     dx = dff['value'].max() / 200\n",
    "    \n",
    "#     for i, (value, name) in enumerate(zip(dff['value'], dff['name'])):\n",
    "#         ax.text(value-dx, i,     name,           size=14, weight=600, ha='right', va='bottom')\n",
    "#         ax.text(value-dx, i-.25, group_lk[name], size=10, color='#444444', ha='right', va='baseline')\n",
    "#         ax.text(value+dx, i,     f'{value:,.0f}',  size=14, ha='left',  va='center')\n",
    "#     ax.text(1, 0.4, current_day, transform=ax.transAxes, color='#777777', size=46, ha='right', weight=800)\n",
    "#     ax.text(0, 1.06, 'Population (thousands)', transform=ax.transAxes, size=12, color='#777777')\n",
    "#     ax.xaxis.set_major_formatter(ticker.StrMethodFormatter('{x:,.0f}'))\n",
    "#     ax.xaxis.set_ticks_position('top')\n",
    "#     ax.tick_params(axis='x', colors='#777777', labelsize=12)\n",
    "#     ax.set_yticks([])\n",
    "#     ax.margins(0, 0.01)\n",
    "#     ax.grid(which='major', axis='x', linestyle='-')\n",
    "#     ax.set_axisbelow(True)\n",
    "    \n",
    "#     ax.text(0, 1.15, 'Coronavirus',\n",
    "#             transform=ax.transAxes, size=24, weight=600, ha='left', va='top')\n",
    "# #     ax.text(1, 0, 'by @pratapvardhan; credit @jburnmurdoch', transform=ax.transAxes, color='#777777', ha='right',\n",
    "# #             bbox=dict(facecolor='white', alpha=0.8, edgecolor='white'))\n",
    "#     plt.box(False)"
   ]
  },
  {
   "cell_type": "code",
   "execution_count": 42,
   "metadata": {
    "execution": {
     "iopub.execute_input": "2020-11-24T00:11:19.378474Z",
     "iopub.status.busy": "2020-11-24T00:11:19.377796Z",
     "iopub.status.idle": "2020-11-24T00:11:19.380128Z",
     "shell.execute_reply": "2020-11-24T00:11:19.380710Z"
    },
    "papermill": {
     "duration": 0.039805,
     "end_time": "2020-11-24T00:11:19.380861",
     "exception": false,
     "start_time": "2020-11-24T00:11:19.341056",
     "status": "completed"
    },
    "tags": []
   },
   "outputs": [],
   "source": [
    "# #hide_input\n",
    "# fig, ax = plt.subplots(figsize=(15, 8))\n",
    "# animator = animation.FuncAnimation(fig, draw_barchart, frames=range(g.day.values.min(), g.day.values.max()))\n",
    "# HTML(animator.to_jshtml())\n",
    "# # or use animator.to_html5_video() or animator.save() "
   ]
  },
  {
   "cell_type": "code",
   "execution_count": null,
   "metadata": {
    "papermill": {
     "duration": 0.033988,
     "end_time": "2020-11-24T00:11:19.447768",
     "exception": false,
     "start_time": "2020-11-24T00:11:19.413780",
     "status": "completed"
    },
    "tags": []
   },
   "outputs": [],
   "source": []
  },
  {
   "cell_type": "code",
   "execution_count": null,
   "metadata": {
    "papermill": {
     "duration": 0.033179,
     "end_time": "2020-11-24T00:11:19.514880",
     "exception": false,
     "start_time": "2020-11-24T00:11:19.481701",
     "status": "completed"
    },
    "tags": []
   },
   "outputs": [],
   "source": []
  },
  {
   "cell_type": "code",
   "execution_count": null,
   "metadata": {
    "papermill": {
     "duration": 0.0324,
     "end_time": "2020-11-24T00:11:19.581351",
     "exception": false,
     "start_time": "2020-11-24T00:11:19.548951",
     "status": "completed"
    },
    "tags": []
   },
   "outputs": [],
   "source": []
  }
 ],
 "metadata": {
  "kernelspec": {
   "display_name": "Python 3",
   "language": "python",
   "name": "python3"
  },
  "language_info": {
   "codemirror_mode": {
    "name": "ipython",
    "version": 3
   },
   "file_extension": ".py",
   "mimetype": "text/x-python",
   "name": "python",
   "nbconvert_exporter": "python",
   "pygments_lexer": "ipython3",
   "version": "3.6.12"
  },
  "papermill": {
   "duration": 9.348322,
   "end_time": "2020-11-24T00:11:19.920581",
   "environment_variables": {},
   "exception": null,
   "input_path": "2020-03-21-covid19exp.ipynb",
   "output_path": "2020-03-21-covid19exp.ipynb",
   "parameters": {},
   "start_time": "2020-11-24T00:11:10.572259",
   "version": "2.0.0"
  }
 },
 "nbformat": 4,
 "nbformat_minor": 4
}