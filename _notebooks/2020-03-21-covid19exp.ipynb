{
 "cells": [
  {
   "cell_type": "markdown",
   "id": "muslim-click",
   "metadata": {
    "papermill": {
     "duration": 0.033902,
     "end_time": "2022-04-22T12:16:09.009713",
     "exception": false,
     "start_time": "2022-04-22T12:16:08.975811",
     "status": "completed"
    },
    "tags": []
   },
   "source": [
    "# COVID-19 Case Race\n",
    "> A race chart to see rising cases around the world\n",
    "\n",
    "- author: Hargun Oberoi\n",
    "- image: images/covid-overview.png\n",
    "- hide: false\n",
    "- badges: false"
   ]
  },
  {
   "cell_type": "code",
   "execution_count": 1,
   "id": "proof-material",
   "metadata": {
    "execution": {
     "iopub.execute_input": "2022-04-22T12:16:09.078822Z",
     "iopub.status.busy": "2022-04-22T12:16:09.078290Z",
     "iopub.status.idle": "2022-04-22T12:16:09.385249Z",
     "shell.execute_reply": "2022-04-22T12:16:09.384748Z"
    },
    "papermill": {
     "duration": 0.344579,
     "end_time": "2022-04-22T12:16:09.385385",
     "exception": false,
     "start_time": "2022-04-22T12:16:09.040806",
     "status": "completed"
    },
    "tags": []
   },
   "outputs": [],
   "source": [
    "#hide\n",
    "import numpy as np\n",
    "import pandas as pd\n",
    "from jinja2 import Template\n",
    "from IPython.display import HTML"
   ]
  },
  {
   "cell_type": "code",
   "execution_count": 2,
   "id": "developed-terminology",
   "metadata": {
    "execution": {
     "iopub.execute_input": "2022-04-22T12:16:09.449873Z",
     "iopub.status.busy": "2022-04-22T12:16:09.449321Z",
     "iopub.status.idle": "2022-04-22T12:16:09.451635Z",
     "shell.execute_reply": "2022-04-22T12:16:09.451225Z"
    },
    "papermill": {
     "duration": 0.036765,
     "end_time": "2022-04-22T12:16:09.451747",
     "exception": false,
     "start_time": "2022-04-22T12:16:09.414982",
     "status": "completed"
    },
    "tags": []
   },
   "outputs": [],
   "source": [
    "#hide\n",
    "\n",
    "# FETCH\n",
    "base_url = 'https://raw.githubusercontent.com/pratapvardhan/notebooks/master/covid19/'\n",
    "paths = {\n",
    "    'mapping': base_url + 'mapping_countries.csv',\n",
    "    'overview': base_url + 'overview.tpl'\n",
    "}"
   ]
  },
  {
   "cell_type": "code",
   "execution_count": 3,
   "id": "dynamic-saver",
   "metadata": {
    "execution": {
     "iopub.execute_input": "2022-04-22T12:16:09.513535Z",
     "iopub.status.busy": "2022-04-22T12:16:09.513013Z",
     "iopub.status.idle": "2022-04-22T12:16:09.526680Z",
     "shell.execute_reply": "2022-04-22T12:16:09.527076Z"
    },
    "papermill": {
     "duration": 0.046153,
     "end_time": "2022-04-22T12:16:09.527211",
     "exception": false,
     "start_time": "2022-04-22T12:16:09.481058",
     "status": "completed"
    },
    "tags": []
   },
   "outputs": [
    {
     "data": {
      "text/plain": [
       "'https://raw.githubusercontent.com/pratapvardhan/notebooks/master/covid19/mapping_countries.csv'"
      ]
     },
     "execution_count": 3,
     "metadata": {},
     "output_type": "execute_result"
    }
   ],
   "source": [
    "#hide\n",
    "paths['mapping']"
   ]
  },
  {
   "cell_type": "code",
   "execution_count": 4,
   "id": "urban-software",
   "metadata": {
    "execution": {
     "iopub.execute_input": "2022-04-22T12:16:09.591763Z",
     "iopub.status.busy": "2022-04-22T12:16:09.591305Z",
     "iopub.status.idle": "2022-04-22T12:16:09.593731Z",
     "shell.execute_reply": "2022-04-22T12:16:09.593314Z"
    },
    "papermill": {
     "duration": 0.036771,
     "end_time": "2022-04-22T12:16:09.593866",
     "exception": false,
     "start_time": "2022-04-22T12:16:09.557095",
     "status": "completed"
    },
    "tags": []
   },
   "outputs": [],
   "source": [
    "#hide\n",
    "def get_mappings(url):\n",
    "    df = pd.read_csv(url)\n",
    "    return {\n",
    "        'df': df,\n",
    "        'replace.country': dict(df.dropna(subset=['Name']).set_index('Country')['Name']),\n",
    "        'map.continent': dict(df.set_index('Name')['Continent'])\n",
    "    }"
   ]
  },
  {
   "cell_type": "code",
   "execution_count": 5,
   "id": "intimate-machinery",
   "metadata": {
    "execution": {
     "iopub.execute_input": "2022-04-22T12:16:09.658687Z",
     "iopub.status.busy": "2022-04-22T12:16:09.658151Z",
     "iopub.status.idle": "2022-04-22T12:16:09.682650Z",
     "shell.execute_reply": "2022-04-22T12:16:09.682219Z"
    },
    "papermill": {
     "duration": 0.059326,
     "end_time": "2022-04-22T12:16:09.682768",
     "exception": false,
     "start_time": "2022-04-22T12:16:09.623442",
     "status": "completed"
    },
    "tags": []
   },
   "outputs": [],
   "source": [
    "#hide\n",
    "mapping = get_mappings(paths['mapping'])"
   ]
  },
  {
   "cell_type": "code",
   "execution_count": 6,
   "id": "certified-tactics",
   "metadata": {
    "execution": {
     "iopub.execute_input": "2022-04-22T12:16:09.747854Z",
     "iopub.status.busy": "2022-04-22T12:16:09.747221Z",
     "iopub.status.idle": "2022-04-22T12:16:09.748478Z",
     "shell.execute_reply": "2022-04-22T12:16:09.749023Z"
    },
    "papermill": {
     "duration": 0.036598,
     "end_time": "2022-04-22T12:16:09.749163",
     "exception": false,
     "start_time": "2022-04-22T12:16:09.712565",
     "status": "completed"
    },
    "tags": []
   },
   "outputs": [],
   "source": [
    "#hide\n",
    "def get_template(path):\n",
    "    from urllib.parse import urlparse\n",
    "    if bool(urlparse(path).netloc):\n",
    "        from urllib.request import urlopen\n",
    "        return urlopen(path).read().decode('utf8')\n",
    "    return open(path).read()"
   ]
  },
  {
   "cell_type": "code",
   "execution_count": 7,
   "id": "realistic-blast",
   "metadata": {
    "execution": {
     "iopub.execute_input": "2022-04-22T12:16:09.807020Z",
     "iopub.status.busy": "2022-04-22T12:16:09.806425Z",
     "iopub.status.idle": "2022-04-22T12:16:09.809990Z",
     "shell.execute_reply": "2022-04-22T12:16:09.810437Z"
    },
    "papermill": {
     "duration": 0.034507,
     "end_time": "2022-04-22T12:16:09.810581",
     "exception": false,
     "start_time": "2022-04-22T12:16:09.776074",
     "status": "completed"
    },
    "tags": []
   },
   "outputs": [],
   "source": [
    "#hide\n",
    "def get_frame(name):\n",
    "    url = (\n",
    "        'https://raw.githubusercontent.com/CSSEGISandData/COVID-19/master/csse_covid_19_data/'\n",
    "        f'csse_covid_19_time_series/time_series_covid19_{name}_global.csv')\n",
    "    df = pd.read_csv(url)\n",
    "    # rename countries\n",
    "    df['Country/Region'] = df['Country/Region'].replace(mapping['replace.country'])\n",
    "    return df"
   ]
  },
  {
   "cell_type": "code",
   "execution_count": 8,
   "id": "affiliated-characterization",
   "metadata": {
    "execution": {
     "iopub.execute_input": "2022-04-22T12:16:09.876119Z",
     "iopub.status.busy": "2022-04-22T12:16:09.875588Z",
     "iopub.status.idle": "2022-04-22T12:16:09.877774Z",
     "shell.execute_reply": "2022-04-22T12:16:09.877367Z"
    },
    "papermill": {
     "duration": 0.037257,
     "end_time": "2022-04-22T12:16:09.877907",
     "exception": false,
     "start_time": "2022-04-22T12:16:09.840650",
     "status": "completed"
    },
    "tags": []
   },
   "outputs": [],
   "source": [
    "#hide\n",
    "def get_dates(df):\n",
    "    dt_cols = df.columns[~df.columns.isin(['Province/State', 'Country/Region', 'Lat', 'Long'])]\n",
    "    LAST_DATE_I = -1\n",
    "    # sometimes last column may be empty, then go backwards\n",
    "    for i in range(-1, -len(dt_cols), -1):\n",
    "        if not df[dt_cols[i]].fillna(0).eq(0).all():\n",
    "            LAST_DATE_I = i\n",
    "            break\n",
    "    return LAST_DATE_I, dt_cols"
   ]
  },
  {
   "cell_type": "code",
   "execution_count": 9,
   "id": "recent-optimization",
   "metadata": {
    "execution": {
     "iopub.execute_input": "2022-04-22T12:16:09.942360Z",
     "iopub.status.busy": "2022-04-22T12:16:09.941744Z",
     "iopub.status.idle": "2022-04-22T12:16:10.315291Z",
     "shell.execute_reply": "2022-04-22T12:16:10.314803Z"
    },
    "papermill": {
     "duration": 0.407798,
     "end_time": "2022-04-22T12:16:10.315413",
     "exception": false,
     "start_time": "2022-04-22T12:16:09.907615",
     "status": "completed"
    },
    "tags": []
   },
   "outputs": [],
   "source": [
    "#hide\n",
    "COL_REGION = 'Country/Region'\n",
    "# Confirmed, Recovered, Deaths\n",
    "df = get_frame('confirmed')\n",
    "# dft_: timeseries, dfc_: today country agg\n",
    "dft_cases = df\n",
    "dft_deaths = get_frame('deaths')\n",
    "dft_recovered = get_frame('recovered')\n",
    "LAST_DATE_I, dt_cols = get_dates(df)"
   ]
  },
  {
   "cell_type": "code",
   "execution_count": 10,
   "id": "absolute-copper",
   "metadata": {
    "execution": {
     "iopub.execute_input": "2022-04-22T12:16:10.380511Z",
     "iopub.status.busy": "2022-04-22T12:16:10.379998Z",
     "iopub.status.idle": "2022-04-22T12:16:10.382103Z",
     "shell.execute_reply": "2022-04-22T12:16:10.382512Z"
    },
    "papermill": {
     "duration": 0.037159,
     "end_time": "2022-04-22T12:16:10.382638",
     "exception": false,
     "start_time": "2022-04-22T12:16:10.345479",
     "status": "completed"
    },
    "tags": []
   },
   "outputs": [],
   "source": [
    "#hide\n",
    "LAST_DATE_I, dt_cols = get_dates(df)\n",
    "dt_today =dt_cols[LAST_DATE_I]\n",
    "# dt_5day = dt_cols[LAST_DATE_I - 5]\n",
    "dt_yday = dt_cols[LAST_DATE_I - 1]"
   ]
  },
  {
   "cell_type": "code",
   "execution_count": 11,
   "id": "restricted-sheriff",
   "metadata": {
    "execution": {
     "iopub.execute_input": "2022-04-22T12:16:10.448795Z",
     "iopub.status.busy": "2022-04-22T12:16:10.448282Z",
     "iopub.status.idle": "2022-04-22T12:16:10.453802Z",
     "shell.execute_reply": "2022-04-22T12:16:10.454215Z"
    },
    "papermill": {
     "duration": 0.042342,
     "end_time": "2022-04-22T12:16:10.454345",
     "exception": false,
     "start_time": "2022-04-22T12:16:10.412003",
     "status": "completed"
    },
    "tags": []
   },
   "outputs": [],
   "source": [
    "#hide\n",
    "dfc_cases = dft_cases.groupby(COL_REGION)[dt_today].sum()\n",
    "dfc_deaths = dft_deaths.groupby(COL_REGION)[dt_today].sum()\n",
    "# dfp_cases = dft_cases.groupby(COL_REGION)[dt_5day].sum()\n",
    "# dfp_deaths = dft_deaths.groupby(COL_REGION)[dt_5day].sum()\n",
    "dfp_cases = dft_cases.groupby(COL_REGION)[dt_yday].sum()\n",
    "dfp_deaths = dft_deaths.groupby(COL_REGION)[dt_yday].sum()"
   ]
  },
  {
   "cell_type": "code",
   "execution_count": 12,
   "id": "deluxe-hepatitis",
   "metadata": {
    "execution": {
     "iopub.execute_input": "2022-04-22T12:16:10.518578Z",
     "iopub.status.busy": "2022-04-22T12:16:10.518059Z",
     "iopub.status.idle": "2022-04-22T12:16:10.522447Z",
     "shell.execute_reply": "2022-04-22T12:16:10.526770Z"
    },
    "papermill": {
     "duration": 0.04309,
     "end_time": "2022-04-22T12:16:10.526902",
     "exception": false,
     "start_time": "2022-04-22T12:16:10.483812",
     "status": "completed"
    },
    "tags": []
   },
   "outputs": [],
   "source": [
    "#hide\n",
    "df_table = (pd.DataFrame(dict(Cases = dfc_cases, Deaths = dfc_deaths, PCases = dfp_cases, PDeaths = dfp_deaths))\n",
    "            .sort_values(by = ['Cases','Deaths'], ascending = [False, False])\n",
    "            .reset_index())"
   ]
  },
  {
   "cell_type": "code",
   "execution_count": 13,
   "id": "educational-chancellor",
   "metadata": {
    "execution": {
     "iopub.execute_input": "2022-04-22T12:16:10.603901Z",
     "iopub.status.busy": "2022-04-22T12:16:10.603375Z",
     "iopub.status.idle": "2022-04-22T12:16:10.610881Z",
     "shell.execute_reply": "2022-04-22T12:16:10.610474Z"
    },
    "papermill": {
     "duration": 0.054681,
     "end_time": "2022-04-22T12:16:10.610990",
     "exception": false,
     "start_time": "2022-04-22T12:16:10.556309",
     "status": "completed"
    },
    "tags": []
   },
   "outputs": [
    {
     "data": {
      "text/html": [
       "<div>\n",
       "<style scoped>\n",
       "    .dataframe tbody tr th:only-of-type {\n",
       "        vertical-align: middle;\n",
       "    }\n",
       "\n",
       "    .dataframe tbody tr th {\n",
       "        vertical-align: top;\n",
       "    }\n",
       "\n",
       "    .dataframe thead th {\n",
       "        text-align: right;\n",
       "    }\n",
       "</style>\n",
       "<table border=\"1\" class=\"dataframe\">\n",
       "  <thead>\n",
       "    <tr style=\"text-align: right;\">\n",
       "      <th></th>\n",
       "      <th>Country/Region</th>\n",
       "      <th>Cases</th>\n",
       "      <th>Deaths</th>\n",
       "      <th>PCases</th>\n",
       "      <th>PDeaths</th>\n",
       "      <th>Cases (+)</th>\n",
       "      <th>Deaths (+)</th>\n",
       "      <th>Fatality Rate</th>\n",
       "      <th>Continent</th>\n",
       "    </tr>\n",
       "  </thead>\n",
       "  <tbody>\n",
       "    <tr>\n",
       "      <th>0</th>\n",
       "      <td>US</td>\n",
       "      <td>80850913</td>\n",
       "      <td>990679</td>\n",
       "      <td>80801713</td>\n",
       "      <td>990208</td>\n",
       "      <td>49200</td>\n",
       "      <td>471</td>\n",
       "      <td>1.23</td>\n",
       "      <td>North America</td>\n",
       "    </tr>\n",
       "    <tr>\n",
       "      <th>1</th>\n",
       "      <td>India</td>\n",
       "      <td>43052425</td>\n",
       "      <td>522116</td>\n",
       "      <td>43049974</td>\n",
       "      <td>522062</td>\n",
       "      <td>2451</td>\n",
       "      <td>54</td>\n",
       "      <td>1.21</td>\n",
       "      <td>Asia</td>\n",
       "    </tr>\n",
       "    <tr>\n",
       "      <th>2</th>\n",
       "      <td>Brazil</td>\n",
       "      <td>30330629</td>\n",
       "      <td>662751</td>\n",
       "      <td>30311969</td>\n",
       "      <td>662659</td>\n",
       "      <td>18660</td>\n",
       "      <td>92</td>\n",
       "      <td>2.19</td>\n",
       "      <td>South America</td>\n",
       "    </tr>\n",
       "    <tr>\n",
       "      <th>3</th>\n",
       "      <td>France</td>\n",
       "      <td>28266009</td>\n",
       "      <td>145836</td>\n",
       "      <td>28162002</td>\n",
       "      <td>145651</td>\n",
       "      <td>104007</td>\n",
       "      <td>185</td>\n",
       "      <td>0.52</td>\n",
       "      <td>Europe</td>\n",
       "    </tr>\n",
       "    <tr>\n",
       "      <th>4</th>\n",
       "      <td>Germany</td>\n",
       "      <td>24006254</td>\n",
       "      <td>133921</td>\n",
       "      <td>23844536</td>\n",
       "      <td>133632</td>\n",
       "      <td>161718</td>\n",
       "      <td>289</td>\n",
       "      <td>0.56</td>\n",
       "      <td>Europe</td>\n",
       "    </tr>\n",
       "  </tbody>\n",
       "</table>\n",
       "</div>"
      ],
      "text/plain": [
       "  Country/Region     Cases  Deaths    PCases  PDeaths  Cases (+)  Deaths (+)  \\\n",
       "0             US  80850913  990679  80801713   990208      49200         471   \n",
       "1          India  43052425  522116  43049974   522062       2451          54   \n",
       "2         Brazil  30330629  662751  30311969   662659      18660          92   \n",
       "3         France  28266009  145836  28162002   145651     104007         185   \n",
       "4        Germany  24006254  133921  23844536   133632     161718         289   \n",
       "\n",
       "   Fatality Rate      Continent  \n",
       "0           1.23  North America  \n",
       "1           1.21           Asia  \n",
       "2           2.19  South America  \n",
       "3           0.52         Europe  \n",
       "4           0.56         Europe  "
      ]
     },
     "execution_count": 13,
     "metadata": {},
     "output_type": "execute_result"
    }
   ],
   "source": [
    "#hide\n",
    "for c in 'Cases, Deaths'.split(', '):\n",
    "    df_table[f'{c} (+)'] = (df_table[c] - df_table[f'P{c}']).clip(0)\n",
    "    #Clip ça veut dire, les chiffres negatif sont interdit\n",
    "df_table['Fatality Rate'] = (100* df_table['Deaths']/ df_table['Cases']).round(2)\n",
    "df_table['Continent'] = df_table['Country/Region'].map(mapping['map.continent'])\n",
    "df_table.head(5)"
   ]
  },
  {
   "cell_type": "code",
   "execution_count": 14,
   "id": "aboriginal-bulgaria",
   "metadata": {
    "execution": {
     "iopub.execute_input": "2022-04-22T12:16:10.675968Z",
     "iopub.status.busy": "2022-04-22T12:16:10.675464Z",
     "iopub.status.idle": "2022-04-22T12:16:10.678296Z",
     "shell.execute_reply": "2022-04-22T12:16:10.678729Z"
    },
    "papermill": {
     "duration": 0.03762,
     "end_time": "2022-04-22T12:16:10.678849",
     "exception": false,
     "start_time": "2022-04-22T12:16:10.641229",
     "status": "completed"
    },
    "tags": []
   },
   "outputs": [],
   "source": [
    "#hide\n",
    "#delete problematic countries from table\n",
    "df_table = df_table[~df_table['Country/Region'].isin(['Cape Verde', 'Cruise Ship', 'Kosovo'])]"
   ]
  },
  {
   "cell_type": "code",
   "execution_count": 15,
   "id": "fantastic-effect",
   "metadata": {
    "execution": {
     "iopub.execute_input": "2022-04-22T12:16:10.745288Z",
     "iopub.status.busy": "2022-04-22T12:16:10.744776Z",
     "iopub.status.idle": "2022-04-22T12:16:10.762149Z",
     "shell.execute_reply": "2022-04-22T12:16:10.762621Z"
    },
    "papermill": {
     "duration": 0.054123,
     "end_time": "2022-04-22T12:16:10.762751",
     "exception": false,
     "start_time": "2022-04-22T12:16:10.708628",
     "status": "completed"
    },
    "tags": []
   },
   "outputs": [
    {
     "data": {
      "text/html": [
       "<div>\n",
       "<style scoped>\n",
       "    .dataframe tbody tr th:only-of-type {\n",
       "        vertical-align: middle;\n",
       "    }\n",
       "\n",
       "    .dataframe tbody tr th {\n",
       "        vertical-align: top;\n",
       "    }\n",
       "\n",
       "    .dataframe thead th {\n",
       "        text-align: right;\n",
       "    }\n",
       "</style>\n",
       "<table border=\"1\" class=\"dataframe\">\n",
       "  <thead>\n",
       "    <tr style=\"text-align: right;\">\n",
       "      <th></th>\n",
       "      <th>Country/Region</th>\n",
       "      <th>Cases</th>\n",
       "      <th>Deaths</th>\n",
       "      <th>PCases</th>\n",
       "      <th>PDeaths</th>\n",
       "      <th>Cases (+)</th>\n",
       "      <th>Deaths (+)</th>\n",
       "      <th>Fatality Rate</th>\n",
       "      <th>Continent</th>\n",
       "    </tr>\n",
       "  </thead>\n",
       "  <tbody>\n",
       "    <tr>\n",
       "      <th>0</th>\n",
       "      <td>US</td>\n",
       "      <td>80850913</td>\n",
       "      <td>990679</td>\n",
       "      <td>80801713</td>\n",
       "      <td>990208</td>\n",
       "      <td>49200</td>\n",
       "      <td>471</td>\n",
       "      <td>1.2</td>\n",
       "      <td>North America</td>\n",
       "    </tr>\n",
       "    <tr>\n",
       "      <th>1</th>\n",
       "      <td>India</td>\n",
       "      <td>43052425</td>\n",
       "      <td>522116</td>\n",
       "      <td>43049974</td>\n",
       "      <td>522062</td>\n",
       "      <td>2451</td>\n",
       "      <td>54</td>\n",
       "      <td>1.2</td>\n",
       "      <td>Asia</td>\n",
       "    </tr>\n",
       "    <tr>\n",
       "      <th>2</th>\n",
       "      <td>Brazil</td>\n",
       "      <td>30330629</td>\n",
       "      <td>662751</td>\n",
       "      <td>30311969</td>\n",
       "      <td>662659</td>\n",
       "      <td>18660</td>\n",
       "      <td>92</td>\n",
       "      <td>2.2</td>\n",
       "      <td>South America</td>\n",
       "    </tr>\n",
       "    <tr>\n",
       "      <th>3</th>\n",
       "      <td>France</td>\n",
       "      <td>28266009</td>\n",
       "      <td>145836</td>\n",
       "      <td>28162002</td>\n",
       "      <td>145651</td>\n",
       "      <td>104007</td>\n",
       "      <td>185</td>\n",
       "      <td>0.5</td>\n",
       "      <td>Europe</td>\n",
       "    </tr>\n",
       "    <tr>\n",
       "      <th>4</th>\n",
       "      <td>Germany</td>\n",
       "      <td>24006254</td>\n",
       "      <td>133921</td>\n",
       "      <td>23844536</td>\n",
       "      <td>133632</td>\n",
       "      <td>161718</td>\n",
       "      <td>289</td>\n",
       "      <td>0.6</td>\n",
       "      <td>Europe</td>\n",
       "    </tr>\n",
       "  </tbody>\n",
       "</table>\n",
       "</div>"
      ],
      "text/plain": [
       "  Country/Region     Cases  Deaths    PCases  PDeaths  Cases (+)  Deaths (+)  \\\n",
       "0             US  80850913  990679  80801713   990208      49200         471   \n",
       "1          India  43052425  522116  43049974   522062       2451          54   \n",
       "2         Brazil  30330629  662751  30311969   662659      18660          92   \n",
       "3         France  28266009  145836  28162002   145651     104007         185   \n",
       "4        Germany  24006254  133921  23844536   133632     161718         289   \n",
       "\n",
       "   Fatality Rate      Continent  \n",
       "0            1.2  North America  \n",
       "1            1.2           Asia  \n",
       "2            2.2  South America  \n",
       "3            0.5         Europe  \n",
       "4            0.6         Europe  "
      ]
     },
     "execution_count": 15,
     "metadata": {},
     "output_type": "execute_result"
    }
   ],
   "source": [
    "#hide\n",
    "df_table = (pd.DataFrame(dict(Cases=dfc_cases, Deaths=dfc_deaths, PCases=dfp_cases, PDeaths=dfp_deaths))\n",
    "             .sort_values(by=['Cases', 'Deaths'], ascending=[False, False])\n",
    "             .reset_index())\n",
    "df_table.rename(columns={'index': 'Country/Region'}, inplace=True)\n",
    "for c in 'Cases, Deaths'.split(', '):\n",
    "    df_table[f'{c} (+)'] = (df_table[c] - df_table[f'P{c}']).clip(0)  # DATA BUG\n",
    "df_table['Fatality Rate'] = (100 * df_table['Deaths'] / df_table['Cases']).round(1)\n",
    "df_table['Continent'] = df_table['Country/Region'].map(mapping['map.continent'])\n",
    "df_table.head(5)"
   ]
  },
  {
   "cell_type": "code",
   "execution_count": 16,
   "id": "fewer-occasion",
   "metadata": {
    "execution": {
     "iopub.execute_input": "2022-04-22T12:16:10.830923Z",
     "iopub.status.busy": "2022-04-22T12:16:10.830399Z",
     "iopub.status.idle": "2022-04-22T12:16:10.832345Z",
     "shell.execute_reply": "2022-04-22T12:16:10.832727Z"
    },
    "papermill": {
     "duration": 0.038948,
     "end_time": "2022-04-22T12:16:10.832855",
     "exception": false,
     "start_time": "2022-04-22T12:16:10.793907",
     "status": "completed"
    },
    "tags": []
   },
   "outputs": [],
   "source": [
    "#hide\n",
    "#delete problematic countries from table\n",
    "df_table = df_table[~df_table['Country/Region'].isin(['Cape Verde', 'Cruise Ship', 'Kosovo'])]"
   ]
  },
  {
   "cell_type": "code",
   "execution_count": 17,
   "id": "related-center",
   "metadata": {
    "execution": {
     "iopub.execute_input": "2022-04-22T12:16:10.911756Z",
     "iopub.status.busy": "2022-04-22T12:16:10.911241Z",
     "iopub.status.idle": "2022-04-22T12:16:10.913216Z",
     "shell.execute_reply": "2022-04-22T12:16:10.913648Z"
    },
    "papermill": {
     "duration": 0.05044,
     "end_time": "2022-04-22T12:16:10.913771",
     "exception": false,
     "start_time": "2022-04-22T12:16:10.863331",
     "status": "completed"
    },
    "tags": []
   },
   "outputs": [],
   "source": [
    "#hide\n",
    "metrics = [df_table.columns[index] for index in [1,2,5,6]]\n",
    "# s_china = df_table[df_table['Country/Region'].eq('China')][metrics].sum().add_prefix('China ')\n",
    "s_us = df_table[df_table['Country/Region'].eq('US')][metrics].sum().add_prefix('US ')\n",
    "s_eu = df_table[df_table['Continent'].eq('Europe')][metrics].sum().add_prefix('EU ')\n",
    "s_ind = df_table[df_table['Country/Region'].eq('India')][metrics].sum().add_prefix('India ')\n",
    "summary = {'updated': pd.to_datetime(dt_today), 'since': pd.to_datetime(dt_yday)}\n",
    "summary = {'updated': pd.to_datetime(dt_today), 'since': pd.to_datetime(dt_yday)}\n",
    "summary = {**summary, **df_table[metrics].sum(), **s_ind, **s_us, **s_eu}"
   ]
  },
  {
   "cell_type": "code",
   "execution_count": 18,
   "id": "engaging-syndrome",
   "metadata": {
    "execution": {
     "iopub.execute_input": "2022-04-22T12:16:10.980131Z",
     "iopub.status.busy": "2022-04-22T12:16:10.979620Z",
     "iopub.status.idle": "2022-04-22T12:16:10.997779Z",
     "shell.execute_reply": "2022-04-22T12:16:10.997302Z"
    },
    "papermill": {
     "duration": 0.053507,
     "end_time": "2022-04-22T12:16:10.997940",
     "exception": false,
     "start_time": "2022-04-22T12:16:10.944433",
     "status": "completed"
    },
    "tags": []
   },
   "outputs": [],
   "source": [
    "#hide\n",
    "dft_ct_new_cases = dft_cases.groupby(COL_REGION)[dt_cols].sum().diff(axis=1).fillna(0).astype(int)"
   ]
  },
  {
   "cell_type": "code",
   "execution_count": 19,
   "id": "neutral-assignment",
   "metadata": {
    "execution": {
     "iopub.execute_input": "2022-04-22T12:16:11.066340Z",
     "iopub.status.busy": "2022-04-22T12:16:11.065785Z",
     "iopub.status.idle": "2022-04-22T12:16:11.067603Z",
     "shell.execute_reply": "2022-04-22T12:16:11.068010Z"
    },
    "papermill": {
     "duration": 0.038632,
     "end_time": "2022-04-22T12:16:11.068138",
     "exception": false,
     "start_time": "2022-04-22T12:16:11.029506",
     "status": "completed"
    },
    "tags": []
   },
   "outputs": [],
   "source": [
    "#hide\n",
    "everydaycases = dft_ct_new_cases.cumsum(axis=1)"
   ]
  },
  {
   "cell_type": "code",
   "execution_count": 20,
   "id": "parliamentary-calgary",
   "metadata": {
    "execution": {
     "iopub.execute_input": "2022-04-22T12:16:11.133565Z",
     "iopub.status.busy": "2022-04-22T12:16:11.133043Z",
     "iopub.status.idle": "2022-04-22T12:16:11.726644Z",
     "shell.execute_reply": "2022-04-22T12:16:11.722665Z"
    },
    "papermill": {
     "duration": 0.628067,
     "end_time": "2022-04-22T12:16:11.726780",
     "exception": false,
     "start_time": "2022-04-22T12:16:11.098713",
     "status": "completed"
    },
    "tags": []
   },
   "outputs": [],
   "source": [
    "#hide\n",
    "import pandas as pd\n",
    "import matplotlib.pyplot as plt\n",
    "import matplotlib.ticker as ticker\n",
    "import matplotlib.animation as animation\n",
    "from IPython.display import HTML"
   ]
  },
  {
   "cell_type": "code",
   "execution_count": 21,
   "id": "lasting-extraction",
   "metadata": {
    "execution": {
     "iopub.execute_input": "2022-04-22T12:16:11.795096Z",
     "iopub.status.busy": "2022-04-22T12:16:11.794492Z",
     "iopub.status.idle": "2022-04-22T12:16:11.800442Z",
     "shell.execute_reply": "2022-04-22T12:16:11.800015Z"
    },
    "papermill": {
     "duration": 0.042945,
     "end_time": "2022-04-22T12:16:11.800560",
     "exception": false,
     "start_time": "2022-04-22T12:16:11.757615",
     "status": "completed"
    },
    "tags": []
   },
   "outputs": [],
   "source": [
    "#hide\n",
    "t = everydaycases.stack()"
   ]
  },
  {
   "cell_type": "code",
   "execution_count": 22,
   "id": "premier-sleeve",
   "metadata": {
    "execution": {
     "iopub.execute_input": "2022-04-22T12:16:11.872100Z",
     "iopub.status.busy": "2022-04-22T12:16:11.871483Z",
     "iopub.status.idle": "2022-04-22T12:16:11.881754Z",
     "shell.execute_reply": "2022-04-22T12:16:11.881225Z"
    },
    "papermill": {
     "duration": 0.045011,
     "end_time": "2022-04-22T12:16:11.881895",
     "exception": false,
     "start_time": "2022-04-22T12:16:11.836884",
     "status": "completed"
    },
    "tags": []
   },
   "outputs": [],
   "source": [
    "#hide\n",
    "g = t.reset_index(['Country/Region'])"
   ]
  },
  {
   "cell_type": "code",
   "execution_count": 23,
   "id": "distributed-pittsburgh",
   "metadata": {
    "execution": {
     "iopub.execute_input": "2022-04-22T12:16:11.952165Z",
     "iopub.status.busy": "2022-04-22T12:16:11.951559Z",
     "iopub.status.idle": "2022-04-22T12:16:11.953087Z",
     "shell.execute_reply": "2022-04-22T12:16:11.953524Z"
    },
    "papermill": {
     "duration": 0.040955,
     "end_time": "2022-04-22T12:16:11.953669",
     "exception": false,
     "start_time": "2022-04-22T12:16:11.912714",
     "status": "completed"
    },
    "tags": []
   },
   "outputs": [],
   "source": [
    "#hide\n",
    "g.index.name = 'date'"
   ]
  },
  {
   "cell_type": "code",
   "execution_count": 24,
   "id": "naked-donor",
   "metadata": {
    "execution": {
     "iopub.execute_input": "2022-04-22T12:16:12.020707Z",
     "iopub.status.busy": "2022-04-22T12:16:12.020187Z",
     "iopub.status.idle": "2022-04-22T12:16:12.022416Z",
     "shell.execute_reply": "2022-04-22T12:16:12.022002Z"
    },
    "papermill": {
     "duration": 0.037285,
     "end_time": "2022-04-22T12:16:12.022530",
     "exception": false,
     "start_time": "2022-04-22T12:16:11.985245",
     "status": "completed"
    },
    "tags": []
   },
   "outputs": [],
   "source": [
    "# #hide\n",
    "# g = g.reset_index(['date'])"
   ]
  },
  {
   "cell_type": "code",
   "execution_count": 25,
   "id": "incomplete-mustang",
   "metadata": {
    "execution": {
     "iopub.execute_input": "2022-04-22T12:16:12.088179Z",
     "iopub.status.busy": "2022-04-22T12:16:12.087574Z",
     "iopub.status.idle": "2022-04-22T12:16:12.090988Z",
     "shell.execute_reply": "2022-04-22T12:16:12.091377Z"
    },
    "papermill": {
     "duration": 0.037968,
     "end_time": "2022-04-22T12:16:12.091508",
     "exception": false,
     "start_time": "2022-04-22T12:16:12.053540",
     "status": "completed"
    },
    "tags": []
   },
   "outputs": [],
   "source": [
    "#hide\n",
    "# g.head()"
   ]
  },
  {
   "cell_type": "code",
   "execution_count": 26,
   "id": "specific-kruger",
   "metadata": {
    "execution": {
     "iopub.execute_input": "2022-04-22T12:16:12.162016Z",
     "iopub.status.busy": "2022-04-22T12:16:12.161422Z",
     "iopub.status.idle": "2022-04-22T12:16:12.163553Z",
     "shell.execute_reply": "2022-04-22T12:16:12.163040Z"
    },
    "papermill": {
     "duration": 0.03729,
     "end_time": "2022-04-22T12:16:12.163666",
     "exception": false,
     "start_time": "2022-04-22T12:16:12.126376",
     "status": "completed"
    },
    "tags": []
   },
   "outputs": [],
   "source": [
    "#hide\n",
    "# g.columns = ['date','country','cases']"
   ]
  },
  {
   "cell_type": "code",
   "execution_count": 27,
   "id": "tender-conversion",
   "metadata": {
    "execution": {
     "iopub.execute_input": "2022-04-22T12:16:12.228543Z",
     "iopub.status.busy": "2022-04-22T12:16:12.228032Z",
     "iopub.status.idle": "2022-04-22T12:16:12.230314Z",
     "shell.execute_reply": "2022-04-22T12:16:12.229769Z"
    },
    "papermill": {
     "duration": 0.036192,
     "end_time": "2022-04-22T12:16:12.230425",
     "exception": false,
     "start_time": "2022-04-22T12:16:12.194233",
     "status": "completed"
    },
    "tags": []
   },
   "outputs": [],
   "source": [
    "#hide\n",
    "# g['continent'] = g.country"
   ]
  },
  {
   "cell_type": "code",
   "execution_count": 28,
   "id": "substantial-wilderness",
   "metadata": {
    "execution": {
     "iopub.execute_input": "2022-04-22T12:16:12.295351Z",
     "iopub.status.busy": "2022-04-22T12:16:12.294837Z",
     "iopub.status.idle": "2022-04-22T12:16:12.298010Z",
     "shell.execute_reply": "2022-04-22T12:16:12.298402Z"
    },
    "papermill": {
     "duration": 0.037234,
     "end_time": "2022-04-22T12:16:12.298530",
     "exception": false,
     "start_time": "2022-04-22T12:16:12.261296",
     "status": "completed"
    },
    "tags": []
   },
   "outputs": [],
   "source": [
    "#hide\n",
    "# cols = list(g.columns.values)"
   ]
  },
  {
   "cell_type": "code",
   "execution_count": 29,
   "id": "solved-farming",
   "metadata": {
    "execution": {
     "iopub.execute_input": "2022-04-22T12:16:12.363973Z",
     "iopub.status.busy": "2022-04-22T12:16:12.363371Z",
     "iopub.status.idle": "2022-04-22T12:16:12.364926Z",
     "shell.execute_reply": "2022-04-22T12:16:12.365360Z"
    },
    "papermill": {
     "duration": 0.036519,
     "end_time": "2022-04-22T12:16:12.365502",
     "exception": false,
     "start_time": "2022-04-22T12:16:12.328983",
     "status": "completed"
    },
    "tags": []
   },
   "outputs": [],
   "source": [
    "#hide\n",
    "# cols.insert(0, cols.pop())"
   ]
  },
  {
   "cell_type": "code",
   "execution_count": 30,
   "id": "executed-adoption",
   "metadata": {
    "execution": {
     "iopub.execute_input": "2022-04-22T12:16:12.434479Z",
     "iopub.status.busy": "2022-04-22T12:16:12.433869Z",
     "iopub.status.idle": "2022-04-22T12:16:12.436807Z",
     "shell.execute_reply": "2022-04-22T12:16:12.436340Z"
    },
    "papermill": {
     "duration": 0.040706,
     "end_time": "2022-04-22T12:16:12.436933",
     "exception": false,
     "start_time": "2022-04-22T12:16:12.396227",
     "status": "completed"
    },
    "tags": []
   },
   "outputs": [],
   "source": [
    "#hide\n",
    "# g = g[cols]"
   ]
  },
  {
   "cell_type": "code",
   "execution_count": 31,
   "id": "subject-dublin",
   "metadata": {
    "execution": {
     "iopub.execute_input": "2022-04-22T12:16:12.502242Z",
     "iopub.status.busy": "2022-04-22T12:16:12.501592Z",
     "iopub.status.idle": "2022-04-22T12:16:12.503171Z",
     "shell.execute_reply": "2022-04-22T12:16:12.503615Z"
    },
    "papermill": {
     "duration": 0.0362,
     "end_time": "2022-04-22T12:16:12.503756",
     "exception": false,
     "start_time": "2022-04-22T12:16:12.467556",
     "status": "completed"
    },
    "tags": []
   },
   "outputs": [],
   "source": [
    "#hide\n",
    "# g['continent'] = g['continent'].map(mapping['map.continent'])"
   ]
  },
  {
   "cell_type": "code",
   "execution_count": 32,
   "id": "freelance-scout",
   "metadata": {
    "execution": {
     "iopub.execute_input": "2022-04-22T12:16:12.574053Z",
     "iopub.status.busy": "2022-04-22T12:16:12.573473Z",
     "iopub.status.idle": "2022-04-22T12:16:12.575782Z",
     "shell.execute_reply": "2022-04-22T12:16:12.575373Z"
    },
    "papermill": {
     "duration": 0.036152,
     "end_time": "2022-04-22T12:16:12.575891",
     "exception": false,
     "start_time": "2022-04-22T12:16:12.539739",
     "status": "completed"
    },
    "tags": []
   },
   "outputs": [],
   "source": [
    "#hide\n",
    "# g.head()"
   ]
  },
  {
   "cell_type": "code",
   "execution_count": 33,
   "id": "limited-engine",
   "metadata": {
    "execution": {
     "iopub.execute_input": "2022-04-22T12:16:12.640348Z",
     "iopub.status.busy": "2022-04-22T12:16:12.639833Z",
     "iopub.status.idle": "2022-04-22T12:16:12.643380Z",
     "shell.execute_reply": "2022-04-22T12:16:12.642975Z"
    },
    "papermill": {
     "duration": 0.037168,
     "end_time": "2022-04-22T12:16:12.643490",
     "exception": false,
     "start_time": "2022-04-22T12:16:12.606322",
     "status": "completed"
    },
    "tags": []
   },
   "outputs": [],
   "source": [
    "# hide\n",
    "# g['date'] = g['date'].astype('datetime64[ns]')"
   ]
  },
  {
   "cell_type": "code",
   "execution_count": 34,
   "id": "sophisticated-supervisor",
   "metadata": {
    "execution": {
     "iopub.execute_input": "2022-04-22T12:16:12.708398Z",
     "iopub.status.busy": "2022-04-22T12:16:12.707806Z",
     "iopub.status.idle": "2022-04-22T12:16:12.709794Z",
     "shell.execute_reply": "2022-04-22T12:16:12.709223Z"
    },
    "papermill": {
     "duration": 0.035756,
     "end_time": "2022-04-22T12:16:12.709937",
     "exception": false,
     "start_time": "2022-04-22T12:16:12.674181",
     "status": "completed"
    },
    "tags": []
   },
   "outputs": [],
   "source": [
    "#hide\n",
    "# g['date'] = g.date.dt.dayofyear"
   ]
  },
  {
   "cell_type": "code",
   "execution_count": 35,
   "id": "inside-dubai",
   "metadata": {
    "execution": {
     "iopub.execute_input": "2022-04-22T12:16:12.775055Z",
     "iopub.status.busy": "2022-04-22T12:16:12.774541Z",
     "iopub.status.idle": "2022-04-22T12:16:12.776272Z",
     "shell.execute_reply": "2022-04-22T12:16:12.776652Z"
    },
    "papermill": {
     "duration": 0.036018,
     "end_time": "2022-04-22T12:16:12.776777",
     "exception": false,
     "start_time": "2022-04-22T12:16:12.740759",
     "status": "completed"
    },
    "tags": []
   },
   "outputs": [],
   "source": [
    "#hide\n",
    "# g = g.rename(columns= {'continent':'group','country':'name','cases':'value'})"
   ]
  },
  {
   "cell_type": "code",
   "execution_count": 36,
   "id": "fleet-motorcycle",
   "metadata": {
    "execution": {
     "iopub.execute_input": "2022-04-22T12:16:12.845367Z",
     "iopub.status.busy": "2022-04-22T12:16:12.844846Z",
     "iopub.status.idle": "2022-04-22T12:16:12.848229Z",
     "shell.execute_reply": "2022-04-22T12:16:12.848615Z"
    },
    "papermill": {
     "duration": 0.041379,
     "end_time": "2022-04-22T12:16:12.848743",
     "exception": false,
     "start_time": "2022-04-22T12:16:12.807364",
     "status": "completed"
    },
    "tags": []
   },
   "outputs": [],
   "source": [
    "#hide\n",
    "# cols = ['name','group','day','value']"
   ]
  },
  {
   "cell_type": "code",
   "execution_count": 37,
   "id": "continued-sleeping",
   "metadata": {
    "execution": {
     "iopub.execute_input": "2022-04-22T12:16:12.913769Z",
     "iopub.status.busy": "2022-04-22T12:16:12.913162Z",
     "iopub.status.idle": "2022-04-22T12:16:12.914905Z",
     "shell.execute_reply": "2022-04-22T12:16:12.915342Z"
    },
    "papermill": {
     "duration": 0.036283,
     "end_time": "2022-04-22T12:16:12.915479",
     "exception": false,
     "start_time": "2022-04-22T12:16:12.879196",
     "status": "completed"
    },
    "tags": []
   },
   "outputs": [],
   "source": [
    "#hide\n",
    "# g.rename(columns= {'date':'day'},inplace = True)"
   ]
  },
  {
   "cell_type": "code",
   "execution_count": 38,
   "id": "major-fight",
   "metadata": {
    "execution": {
     "iopub.execute_input": "2022-04-22T12:16:12.980698Z",
     "iopub.status.busy": "2022-04-22T12:16:12.980099Z",
     "iopub.status.idle": "2022-04-22T12:16:12.982135Z",
     "shell.execute_reply": "2022-04-22T12:16:12.981533Z"
    },
    "papermill": {
     "duration": 0.03596,
     "end_time": "2022-04-22T12:16:12.982259",
     "exception": false,
     "start_time": "2022-04-22T12:16:12.946299",
     "status": "completed"
    },
    "tags": []
   },
   "outputs": [],
   "source": [
    "#hide\n",
    "# g = g[cols]"
   ]
  },
  {
   "cell_type": "code",
   "execution_count": 39,
   "id": "structured-mobile",
   "metadata": {
    "execution": {
     "iopub.execute_input": "2022-04-22T12:16:13.046774Z",
     "iopub.status.busy": "2022-04-22T12:16:13.046262Z",
     "iopub.status.idle": "2022-04-22T12:16:13.048479Z",
     "shell.execute_reply": "2022-04-22T12:16:13.048076Z"
    },
    "papermill": {
     "duration": 0.035294,
     "end_time": "2022-04-22T12:16:13.048586",
     "exception": false,
     "start_time": "2022-04-22T12:16:13.013292",
     "status": "completed"
    },
    "tags": []
   },
   "outputs": [],
   "source": [
    "# #hide\n",
    "# g = g[g.group.notna()]"
   ]
  },
  {
   "cell_type": "code",
   "execution_count": 40,
   "id": "determined-closing",
   "metadata": {
    "execution": {
     "iopub.execute_input": "2022-04-22T12:16:13.114121Z",
     "iopub.status.busy": "2022-04-22T12:16:13.113540Z",
     "iopub.status.idle": "2022-04-22T12:16:13.115256Z",
     "shell.execute_reply": "2022-04-22T12:16:13.115637Z"
    },
    "papermill": {
     "duration": 0.035826,
     "end_time": "2022-04-22T12:16:13.115764",
     "exception": false,
     "start_time": "2022-04-22T12:16:13.079938",
     "status": "completed"
    },
    "tags": []
   },
   "outputs": [],
   "source": [
    "# #hide\n",
    "# colors = dict(zip(\n",
    "#     [\"Oceania\", \"Europe\", \"Asia\", \"South America\", \"Middle East\", \"North America\", \"Africa\"],\n",
    "#     [\"#adb0ff\", \"#ffb3ff\", \"#90d595\", \"#e48381\", \"#aafbff\", \"#f7bb5f\", \"#eafb50\"]\n",
    "# ))\n",
    "# group_lk = g.set_index('name')['group'].to_dict()"
   ]
  },
  {
   "cell_type": "code",
   "execution_count": null,
   "id": "gross-drinking",
   "metadata": {
    "papermill": {
     "duration": 0.030923,
     "end_time": "2022-04-22T12:16:13.177105",
     "exception": false,
     "start_time": "2022-04-22T12:16:13.146182",
     "status": "completed"
    },
    "tags": []
   },
   "outputs": [],
   "source": []
  },
  {
   "cell_type": "code",
   "execution_count": 41,
   "id": "subject-macintosh",
   "metadata": {
    "execution": {
     "iopub.execute_input": "2022-04-22T12:16:13.241737Z",
     "iopub.status.busy": "2022-04-22T12:16:13.241219Z",
     "iopub.status.idle": "2022-04-22T12:16:13.243786Z",
     "shell.execute_reply": "2022-04-22T12:16:13.243382Z"
    },
    "papermill": {
     "duration": 0.036276,
     "end_time": "2022-04-22T12:16:13.243892",
     "exception": false,
     "start_time": "2022-04-22T12:16:13.207616",
     "status": "completed"
    },
    "tags": []
   },
   "outputs": [],
   "source": [
    "# #hide\n",
    "# fig, ax = plt.subplots(figsize=(15, 8))\n",
    "\n",
    "# def draw_barchart(current_day):\n",
    "#     dff = g[g['day'].eq(current_day)].sort_values(by='value', ascending=True).tail(10)\n",
    "#     ax.clear()\n",
    "#     ax.barh(dff['name'], dff['value'], color=[colors[group_lk[x]] for x in dff['name']])\n",
    "#     dx = dff['value'].max() / 200\n",
    "    \n",
    "#     for i, (value, name) in enumerate(zip(dff['value'], dff['name'])):\n",
    "#         ax.text(value-dx, i,     name,           size=14, weight=600, ha='right', va='bottom')\n",
    "#         ax.text(value-dx, i-.25, group_lk[name], size=10, color='#444444', ha='right', va='baseline')\n",
    "#         ax.text(value+dx, i,     f'{value:,.0f}',  size=14, ha='left',  va='center')\n",
    "#     ax.text(1, 0.4, current_day, transform=ax.transAxes, color='#777777', size=46, ha='right', weight=800)\n",
    "#     ax.text(0, 1.06, 'Population (thousands)', transform=ax.transAxes, size=12, color='#777777')\n",
    "#     ax.xaxis.set_major_formatter(ticker.StrMethodFormatter('{x:,.0f}'))\n",
    "#     ax.xaxis.set_ticks_position('top')\n",
    "#     ax.tick_params(axis='x', colors='#777777', labelsize=12)\n",
    "#     ax.set_yticks([])\n",
    "#     ax.margins(0, 0.01)\n",
    "#     ax.grid(which='major', axis='x', linestyle='-')\n",
    "#     ax.set_axisbelow(True)\n",
    "    \n",
    "#     ax.text(0, 1.15, 'Coronavirus',\n",
    "#             transform=ax.transAxes, size=24, weight=600, ha='left', va='top')\n",
    "# #     ax.text(1, 0, 'by @pratapvardhan; credit @jburnmurdoch', transform=ax.transAxes, color='#777777', ha='right',\n",
    "# #             bbox=dict(facecolor='white', alpha=0.8, edgecolor='white'))\n",
    "#     plt.box(False)"
   ]
  },
  {
   "cell_type": "code",
   "execution_count": 42,
   "id": "sexual-wages",
   "metadata": {
    "execution": {
     "iopub.execute_input": "2022-04-22T12:16:13.308817Z",
     "iopub.status.busy": "2022-04-22T12:16:13.308208Z",
     "iopub.status.idle": "2022-04-22T12:16:13.309724Z",
     "shell.execute_reply": "2022-04-22T12:16:13.310221Z"
    },
    "papermill": {
     "duration": 0.035861,
     "end_time": "2022-04-22T12:16:13.310360",
     "exception": false,
     "start_time": "2022-04-22T12:16:13.274499",
     "status": "completed"
    },
    "tags": []
   },
   "outputs": [],
   "source": [
    "# #hide_input\n",
    "# fig, ax = plt.subplots(figsize=(15, 8))\n",
    "# animator = animation.FuncAnimation(fig, draw_barchart, frames=range(g.day.values.min(), g.day.values.max()))\n",
    "# HTML(animator.to_jshtml())\n",
    "# # or use animator.to_html5_video() or animator.save() "
   ]
  },
  {
   "cell_type": "code",
   "execution_count": null,
   "id": "australian-container",
   "metadata": {
    "papermill": {
     "duration": 0.030672,
     "end_time": "2022-04-22T12:16:13.375935",
     "exception": false,
     "start_time": "2022-04-22T12:16:13.345263",
     "status": "completed"
    },
    "tags": []
   },
   "outputs": [],
   "source": []
  },
  {
   "cell_type": "code",
   "execution_count": null,
   "id": "mediterranean-pontiac",
   "metadata": {
    "papermill": {
     "duration": 0.030223,
     "end_time": "2022-04-22T12:16:13.436553",
     "exception": false,
     "start_time": "2022-04-22T12:16:13.406330",
     "status": "completed"
    },
    "tags": []
   },
   "outputs": [],
   "source": []
  },
  {
   "cell_type": "code",
   "execution_count": null,
   "id": "aging-legislature",
   "metadata": {
    "papermill": {
     "duration": 0.030427,
     "end_time": "2022-04-22T12:16:13.497660",
     "exception": false,
     "start_time": "2022-04-22T12:16:13.467233",
     "status": "completed"
    },
    "tags": []
   },
   "outputs": [],
   "source": []
  }
 ],
 "metadata": {
  "kernelspec": {
   "display_name": "Python 3",
   "language": "python",
   "name": "python3"
  },
  "language_info": {
   "codemirror_mode": {
    "name": "ipython",
    "version": 3
   },
   "file_extension": ".py",
   "mimetype": "text/x-python",
   "name": "python",
   "nbconvert_exporter": "python",
   "pygments_lexer": "ipython3",
   "version": "3.6.15"
  },
  "papermill": {
   "duration": 5.989587,
   "end_time": "2022-04-22T12:16:13.845078",
   "environment_variables": {},
   "exception": null,
   "input_path": "2020-03-21-covid19exp.ipynb",
   "output_path": "2020-03-21-covid19exp.ipynb",
   "parameters": {},
   "start_time": "2022-04-22T12:16:07.855491",
   "version": "2.0.0"
  }
 },
 "nbformat": 4,
 "nbformat_minor": 5
}