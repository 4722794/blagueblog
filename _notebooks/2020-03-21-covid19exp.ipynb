{
 "cells": [
  {
   "cell_type": "markdown",
   "metadata": {
    "papermill": {
     "duration": 0.029856,
     "end_time": "2020-12-07T00:11:48.588444",
     "exception": false,
     "start_time": "2020-12-07T00:11:48.558588",
     "status": "completed"
    },
    "tags": []
   },
   "source": [
    "# COVID-19 Case Race\n",
    "> A race chart to see rising cases around the world\n",
    "\n",
    "- author: Hargun Oberoi\n",
    "- image: images/covid-overview.png\n",
    "- hide: false\n",
    "- badges: false"
   ]
  },
  {
   "cell_type": "code",
   "execution_count": 1,
   "metadata": {
    "execution": {
     "iopub.execute_input": "2020-12-07T00:11:48.645933Z",
     "iopub.status.busy": "2020-12-07T00:11:48.645426Z",
     "iopub.status.idle": "2020-12-07T00:11:48.939971Z",
     "shell.execute_reply": "2020-12-07T00:11:48.939456Z"
    },
    "papermill": {
     "duration": 0.325102,
     "end_time": "2020-12-07T00:11:48.940116",
     "exception": false,
     "start_time": "2020-12-07T00:11:48.615014",
     "status": "completed"
    },
    "tags": []
   },
   "outputs": [],
   "source": [
    "#hide\n",
    "import numpy as np\n",
    "import pandas as pd\n",
    "from jinja2 import Template\n",
    "from IPython.display import HTML"
   ]
  },
  {
   "cell_type": "code",
   "execution_count": 2,
   "metadata": {
    "execution": {
     "iopub.execute_input": "2020-12-07T00:11:48.998511Z",
     "iopub.status.busy": "2020-12-07T00:11:48.997893Z",
     "iopub.status.idle": "2020-12-07T00:11:48.999271Z",
     "shell.execute_reply": "2020-12-07T00:11:48.999776Z"
    },
    "papermill": {
     "duration": 0.033598,
     "end_time": "2020-12-07T00:11:48.999925",
     "exception": false,
     "start_time": "2020-12-07T00:11:48.966327",
     "status": "completed"
    },
    "tags": []
   },
   "outputs": [],
   "source": [
    "#hide\n",
    "\n",
    "# FETCH\n",
    "base_url = 'https://raw.githubusercontent.com/pratapvardhan/notebooks/master/covid19/'\n",
    "paths = {\n",
    "    'mapping': base_url + 'mapping_countries.csv',\n",
    "    'overview': base_url + 'overview.tpl'\n",
    "}"
   ]
  },
  {
   "cell_type": "code",
   "execution_count": 3,
   "metadata": {
    "execution": {
     "iopub.execute_input": "2020-12-07T00:11:49.060526Z",
     "iopub.status.busy": "2020-12-07T00:11:49.060030Z",
     "iopub.status.idle": "2020-12-07T00:11:49.062578Z",
     "shell.execute_reply": "2020-12-07T00:11:49.062087Z"
    },
    "papermill": {
     "duration": 0.036955,
     "end_time": "2020-12-07T00:11:49.062688",
     "exception": false,
     "start_time": "2020-12-07T00:11:49.025733",
     "status": "completed"
    },
    "tags": []
   },
   "outputs": [
    {
     "data": {
      "text/plain": [
       "'https://raw.githubusercontent.com/pratapvardhan/notebooks/master/covid19/mapping_countries.csv'"
      ]
     },
     "execution_count": 3,
     "metadata": {},
     "output_type": "execute_result"
    }
   ],
   "source": [
    "#hide\n",
    "paths['mapping']"
   ]
  },
  {
   "cell_type": "code",
   "execution_count": 4,
   "metadata": {
    "execution": {
     "iopub.execute_input": "2020-12-07T00:11:49.120499Z",
     "iopub.status.busy": "2020-12-07T00:11:49.119922Z",
     "iopub.status.idle": "2020-12-07T00:11:49.122003Z",
     "shell.execute_reply": "2020-12-07T00:11:49.121537Z"
    },
    "papermill": {
     "duration": 0.032987,
     "end_time": "2020-12-07T00:11:49.122111",
     "exception": false,
     "start_time": "2020-12-07T00:11:49.089124",
     "status": "completed"
    },
    "tags": []
   },
   "outputs": [],
   "source": [
    "#hide\n",
    "def get_mappings(url):\n",
    "    df = pd.read_csv(url)\n",
    "    return {\n",
    "        'df': df,\n",
    "        'replace.country': dict(df.dropna(subset=['Name']).set_index('Country')['Name']),\n",
    "        'map.continent': dict(df.set_index('Name')['Continent'])\n",
    "    }"
   ]
  },
  {
   "cell_type": "code",
   "execution_count": 5,
   "metadata": {
    "execution": {
     "iopub.execute_input": "2020-12-07T00:11:49.180050Z",
     "iopub.status.busy": "2020-12-07T00:11:49.179542Z",
     "iopub.status.idle": "2020-12-07T00:11:49.256147Z",
     "shell.execute_reply": "2020-12-07T00:11:49.255651Z"
    },
    "papermill": {
     "duration": 0.108233,
     "end_time": "2020-12-07T00:11:49.256281",
     "exception": false,
     "start_time": "2020-12-07T00:11:49.148048",
     "status": "completed"
    },
    "tags": []
   },
   "outputs": [],
   "source": [
    "#hide\n",
    "mapping = get_mappings(paths['mapping'])"
   ]
  },
  {
   "cell_type": "code",
   "execution_count": 6,
   "metadata": {
    "execution": {
     "iopub.execute_input": "2020-12-07T00:11:49.314957Z",
     "iopub.status.busy": "2020-12-07T00:11:49.314454Z",
     "iopub.status.idle": "2020-12-07T00:11:49.316553Z",
     "shell.execute_reply": "2020-12-07T00:11:49.316156Z"
    },
    "papermill": {
     "duration": 0.033056,
     "end_time": "2020-12-07T00:11:49.316665",
     "exception": false,
     "start_time": "2020-12-07T00:11:49.283609",
     "status": "completed"
    },
    "tags": []
   },
   "outputs": [],
   "source": [
    "#hide\n",
    "def get_template(path):\n",
    "    from urllib.parse import urlparse\n",
    "    if bool(urlparse(path).netloc):\n",
    "        from urllib.request import urlopen\n",
    "        return urlopen(path).read().decode('utf8')\n",
    "    return open(path).read()"
   ]
  },
  {
   "cell_type": "code",
   "execution_count": 7,
   "metadata": {
    "execution": {
     "iopub.execute_input": "2020-12-07T00:11:49.373545Z",
     "iopub.status.busy": "2020-12-07T00:11:49.372975Z",
     "iopub.status.idle": "2020-12-07T00:11:49.375106Z",
     "shell.execute_reply": "2020-12-07T00:11:49.374627Z"
    },
    "papermill": {
     "duration": 0.032561,
     "end_time": "2020-12-07T00:11:49.375226",
     "exception": false,
     "start_time": "2020-12-07T00:11:49.342665",
     "status": "completed"
    },
    "tags": []
   },
   "outputs": [],
   "source": [
    "#hide\n",
    "def get_frame(name):\n",
    "    url = (\n",
    "        'https://raw.githubusercontent.com/CSSEGISandData/COVID-19/master/csse_covid_19_data/'\n",
    "        f'csse_covid_19_time_series/time_series_covid19_{name}_global.csv')\n",
    "    df = pd.read_csv(url)\n",
    "    # rename countries\n",
    "    df['Country/Region'] = df['Country/Region'].replace(mapping['replace.country'])\n",
    "    return df"
   ]
  },
  {
   "cell_type": "code",
   "execution_count": 8,
   "metadata": {
    "execution": {
     "iopub.execute_input": "2020-12-07T00:11:49.433656Z",
     "iopub.status.busy": "2020-12-07T00:11:49.433161Z",
     "iopub.status.idle": "2020-12-07T00:11:49.434962Z",
     "shell.execute_reply": "2020-12-07T00:11:49.435379Z"
    },
    "papermill": {
     "duration": 0.034149,
     "end_time": "2020-12-07T00:11:49.435517",
     "exception": false,
     "start_time": "2020-12-07T00:11:49.401368",
     "status": "completed"
    },
    "tags": []
   },
   "outputs": [],
   "source": [
    "#hide\n",
    "def get_dates(df):\n",
    "    dt_cols = df.columns[~df.columns.isin(['Province/State', 'Country/Region', 'Lat', 'Long'])]\n",
    "    LAST_DATE_I = -1\n",
    "    # sometimes last column may be empty, then go backwards\n",
    "    for i in range(-1, -len(dt_cols), -1):\n",
    "        if not df[dt_cols[i]].fillna(0).eq(0).all():\n",
    "            LAST_DATE_I = i\n",
    "            break\n",
    "    return LAST_DATE_I, dt_cols"
   ]
  },
  {
   "cell_type": "code",
   "execution_count": 9,
   "metadata": {
    "execution": {
     "iopub.execute_input": "2020-12-07T00:11:49.491641Z",
     "iopub.status.busy": "2020-12-07T00:11:49.491120Z",
     "iopub.status.idle": "2020-12-07T00:11:49.944862Z",
     "shell.execute_reply": "2020-12-07T00:11:49.944374Z"
    },
    "papermill": {
     "duration": 0.483576,
     "end_time": "2020-12-07T00:11:49.944986",
     "exception": false,
     "start_time": "2020-12-07T00:11:49.461410",
     "status": "completed"
    },
    "tags": []
   },
   "outputs": [],
   "source": [
    "#hide\n",
    "COL_REGION = 'Country/Region'\n",
    "# Confirmed, Recovered, Deaths\n",
    "df = get_frame('confirmed')\n",
    "# dft_: timeseries, dfc_: today country agg\n",
    "dft_cases = df\n",
    "dft_deaths = get_frame('deaths')\n",
    "dft_recovered = get_frame('recovered')\n",
    "LAST_DATE_I, dt_cols = get_dates(df)"
   ]
  },
  {
   "cell_type": "code",
   "execution_count": 10,
   "metadata": {
    "execution": {
     "iopub.execute_input": "2020-12-07T00:11:50.003412Z",
     "iopub.status.busy": "2020-12-07T00:11:50.002732Z",
     "iopub.status.idle": "2020-12-07T00:11:50.004164Z",
     "shell.execute_reply": "2020-12-07T00:11:50.004693Z"
    },
    "papermill": {
     "duration": 0.033421,
     "end_time": "2020-12-07T00:11:50.004836",
     "exception": false,
     "start_time": "2020-12-07T00:11:49.971415",
     "status": "completed"
    },
    "tags": []
   },
   "outputs": [],
   "source": [
    "#hide\n",
    "LAST_DATE_I, dt_cols = get_dates(df)\n",
    "dt_today =dt_cols[LAST_DATE_I]\n",
    "# dt_5day = dt_cols[LAST_DATE_I - 5]\n",
    "dt_yday = dt_cols[LAST_DATE_I - 1]"
   ]
  },
  {
   "cell_type": "code",
   "execution_count": 11,
   "metadata": {
    "execution": {
     "iopub.execute_input": "2020-12-07T00:11:50.064901Z",
     "iopub.status.busy": "2020-12-07T00:11:50.064394Z",
     "iopub.status.idle": "2020-12-07T00:11:50.070219Z",
     "shell.execute_reply": "2020-12-07T00:11:50.070644Z"
    },
    "papermill": {
     "duration": 0.039775,
     "end_time": "2020-12-07T00:11:50.070776",
     "exception": false,
     "start_time": "2020-12-07T00:11:50.031001",
     "status": "completed"
    },
    "tags": []
   },
   "outputs": [],
   "source": [
    "#hide\n",
    "dfc_cases = dft_cases.groupby(COL_REGION)[dt_today].sum()\n",
    "dfc_deaths = dft_deaths.groupby(COL_REGION)[dt_today].sum()\n",
    "# dfp_cases = dft_cases.groupby(COL_REGION)[dt_5day].sum()\n",
    "# dfp_deaths = dft_deaths.groupby(COL_REGION)[dt_5day].sum()\n",
    "dfp_cases = dft_cases.groupby(COL_REGION)[dt_yday].sum()\n",
    "dfp_deaths = dft_deaths.groupby(COL_REGION)[dt_yday].sum()"
   ]
  },
  {
   "cell_type": "code",
   "execution_count": 12,
   "metadata": {
    "execution": {
     "iopub.execute_input": "2020-12-07T00:11:50.130265Z",
     "iopub.status.busy": "2020-12-07T00:11:50.129764Z",
     "iopub.status.idle": "2020-12-07T00:11:50.134570Z",
     "shell.execute_reply": "2020-12-07T00:11:50.134167Z"
    },
    "papermill": {
     "duration": 0.03756,
     "end_time": "2020-12-07T00:11:50.134686",
     "exception": false,
     "start_time": "2020-12-07T00:11:50.097126",
     "status": "completed"
    },
    "tags": []
   },
   "outputs": [],
   "source": [
    "#hide\n",
    "df_table = (pd.DataFrame(dict(Cases = dfc_cases, Deaths = dfc_deaths, PCases = dfp_cases, PDeaths = dfp_deaths))\n",
    "            .sort_values(by = ['Cases','Deaths'], ascending = [False, False])\n",
    "            .reset_index())"
   ]
  },
  {
   "cell_type": "code",
   "execution_count": 13,
   "metadata": {
    "execution": {
     "iopub.execute_input": "2020-12-07T00:11:50.204254Z",
     "iopub.status.busy": "2020-12-07T00:11:50.203719Z",
     "iopub.status.idle": "2020-12-07T00:11:50.210283Z",
     "shell.execute_reply": "2020-12-07T00:11:50.210763Z"
    },
    "papermill": {
     "duration": 0.050251,
     "end_time": "2020-12-07T00:11:50.210897",
     "exception": false,
     "start_time": "2020-12-07T00:11:50.160646",
     "status": "completed"
    },
    "tags": []
   },
   "outputs": [
    {
     "data": {
      "text/html": [
       "<div>\n",
       "<style scoped>\n",
       "    .dataframe tbody tr th:only-of-type {\n",
       "        vertical-align: middle;\n",
       "    }\n",
       "\n",
       "    .dataframe tbody tr th {\n",
       "        vertical-align: top;\n",
       "    }\n",
       "\n",
       "    .dataframe thead th {\n",
       "        text-align: right;\n",
       "    }\n",
       "</style>\n",
       "<table border=\"1\" class=\"dataframe\">\n",
       "  <thead>\n",
       "    <tr style=\"text-align: right;\">\n",
       "      <th></th>\n",
       "      <th>Country/Region</th>\n",
       "      <th>Cases</th>\n",
       "      <th>Deaths</th>\n",
       "      <th>PCases</th>\n",
       "      <th>PDeaths</th>\n",
       "      <th>Cases (+)</th>\n",
       "      <th>Deaths (+)</th>\n",
       "      <th>Fatality Rate</th>\n",
       "      <th>Continent</th>\n",
       "    </tr>\n",
       "  </thead>\n",
       "  <tbody>\n",
       "    <tr>\n",
       "      <th>0</th>\n",
       "      <td>US</td>\n",
       "      <td>14581337</td>\n",
       "      <td>281186</td>\n",
       "      <td>14367462</td>\n",
       "      <td>278932</td>\n",
       "      <td>213875</td>\n",
       "      <td>2254</td>\n",
       "      <td>1.93</td>\n",
       "      <td>North America</td>\n",
       "    </tr>\n",
       "    <tr>\n",
       "      <th>1</th>\n",
       "      <td>India</td>\n",
       "      <td>9644222</td>\n",
       "      <td>140182</td>\n",
       "      <td>9608211</td>\n",
       "      <td>139700</td>\n",
       "      <td>36011</td>\n",
       "      <td>482</td>\n",
       "      <td>1.45</td>\n",
       "      <td>Asia</td>\n",
       "    </tr>\n",
       "    <tr>\n",
       "      <th>2</th>\n",
       "      <td>Brazil</td>\n",
       "      <td>6577177</td>\n",
       "      <td>176628</td>\n",
       "      <td>6533968</td>\n",
       "      <td>175964</td>\n",
       "      <td>43209</td>\n",
       "      <td>664</td>\n",
       "      <td>2.69</td>\n",
       "      <td>South America</td>\n",
       "    </tr>\n",
       "    <tr>\n",
       "      <th>3</th>\n",
       "      <td>Russia</td>\n",
       "      <td>2410462</td>\n",
       "      <td>42228</td>\n",
       "      <td>2382012</td>\n",
       "      <td>41730</td>\n",
       "      <td>28450</td>\n",
       "      <td>498</td>\n",
       "      <td>1.75</td>\n",
       "      <td>Europe</td>\n",
       "    </tr>\n",
       "    <tr>\n",
       "      <th>4</th>\n",
       "      <td>France</td>\n",
       "      <td>2334626</td>\n",
       "      <td>55073</td>\n",
       "      <td>2321703</td>\n",
       "      <td>54859</td>\n",
       "      <td>12923</td>\n",
       "      <td>214</td>\n",
       "      <td>2.36</td>\n",
       "      <td>Europe</td>\n",
       "    </tr>\n",
       "  </tbody>\n",
       "</table>\n",
       "</div>"
      ],
      "text/plain": [
       "  Country/Region     Cases  Deaths    PCases  PDeaths  Cases (+)  Deaths (+)  \\\n",
       "0             US  14581337  281186  14367462   278932     213875        2254   \n",
       "1          India   9644222  140182   9608211   139700      36011         482   \n",
       "2         Brazil   6577177  176628   6533968   175964      43209         664   \n",
       "3         Russia   2410462   42228   2382012    41730      28450         498   \n",
       "4         France   2334626   55073   2321703    54859      12923         214   \n",
       "\n",
       "   Fatality Rate      Continent  \n",
       "0           1.93  North America  \n",
       "1           1.45           Asia  \n",
       "2           2.69  South America  \n",
       "3           1.75         Europe  \n",
       "4           2.36         Europe  "
      ]
     },
     "execution_count": 13,
     "metadata": {},
     "output_type": "execute_result"
    }
   ],
   "source": [
    "#hide\n",
    "for c in 'Cases, Deaths'.split(', '):\n",
    "    df_table[f'{c} (+)'] = (df_table[c] - df_table[f'P{c}']).clip(0)\n",
    "    #Clip ça veut dire, les chiffres negatif sont interdit\n",
    "df_table['Fatality Rate'] = (100* df_table['Deaths']/ df_table['Cases']).round(2)\n",
    "df_table['Continent'] = df_table['Country/Region'].map(mapping['map.continent'])\n",
    "df_table.head(5)"
   ]
  },
  {
   "cell_type": "code",
   "execution_count": 14,
   "metadata": {
    "execution": {
     "iopub.execute_input": "2020-12-07T00:11:50.270013Z",
     "iopub.status.busy": "2020-12-07T00:11:50.269515Z",
     "iopub.status.idle": "2020-12-07T00:11:50.271291Z",
     "shell.execute_reply": "2020-12-07T00:11:50.271686Z"
    },
    "papermill": {
     "duration": 0.034188,
     "end_time": "2020-12-07T00:11:50.271824",
     "exception": false,
     "start_time": "2020-12-07T00:11:50.237636",
     "status": "completed"
    },
    "tags": []
   },
   "outputs": [],
   "source": [
    "#hide\n",
    "#delete problematic countries from table\n",
    "df_table = df_table[~df_table['Country/Region'].isin(['Cape Verde', 'Cruise Ship', 'Kosovo'])]"
   ]
  },
  {
   "cell_type": "code",
   "execution_count": 15,
   "metadata": {
    "execution": {
     "iopub.execute_input": "2020-12-07T00:11:50.332630Z",
     "iopub.status.busy": "2020-12-07T00:11:50.332128Z",
     "iopub.status.idle": "2020-12-07T00:11:50.348539Z",
     "shell.execute_reply": "2020-12-07T00:11:50.348136Z"
    },
    "papermill": {
     "duration": 0.050468,
     "end_time": "2020-12-07T00:11:50.348653",
     "exception": false,
     "start_time": "2020-12-07T00:11:50.298185",
     "status": "completed"
    },
    "tags": []
   },
   "outputs": [
    {
     "data": {
      "text/html": [
       "<div>\n",
       "<style scoped>\n",
       "    .dataframe tbody tr th:only-of-type {\n",
       "        vertical-align: middle;\n",
       "    }\n",
       "\n",
       "    .dataframe tbody tr th {\n",
       "        vertical-align: top;\n",
       "    }\n",
       "\n",
       "    .dataframe thead th {\n",
       "        text-align: right;\n",
       "    }\n",
       "</style>\n",
       "<table border=\"1\" class=\"dataframe\">\n",
       "  <thead>\n",
       "    <tr style=\"text-align: right;\">\n",
       "      <th></th>\n",
       "      <th>Country/Region</th>\n",
       "      <th>Cases</th>\n",
       "      <th>Deaths</th>\n",
       "      <th>PCases</th>\n",
       "      <th>PDeaths</th>\n",
       "      <th>Cases (+)</th>\n",
       "      <th>Deaths (+)</th>\n",
       "      <th>Fatality Rate</th>\n",
       "      <th>Continent</th>\n",
       "    </tr>\n",
       "  </thead>\n",
       "  <tbody>\n",
       "    <tr>\n",
       "      <th>0</th>\n",
       "      <td>US</td>\n",
       "      <td>14581337</td>\n",
       "      <td>281186</td>\n",
       "      <td>14367462</td>\n",
       "      <td>278932</td>\n",
       "      <td>213875</td>\n",
       "      <td>2254</td>\n",
       "      <td>1.9</td>\n",
       "      <td>North America</td>\n",
       "    </tr>\n",
       "    <tr>\n",
       "      <th>1</th>\n",
       "      <td>India</td>\n",
       "      <td>9644222</td>\n",
       "      <td>140182</td>\n",
       "      <td>9608211</td>\n",
       "      <td>139700</td>\n",
       "      <td>36011</td>\n",
       "      <td>482</td>\n",
       "      <td>1.5</td>\n",
       "      <td>Asia</td>\n",
       "    </tr>\n",
       "    <tr>\n",
       "      <th>2</th>\n",
       "      <td>Brazil</td>\n",
       "      <td>6577177</td>\n",
       "      <td>176628</td>\n",
       "      <td>6533968</td>\n",
       "      <td>175964</td>\n",
       "      <td>43209</td>\n",
       "      <td>664</td>\n",
       "      <td>2.7</td>\n",
       "      <td>South America</td>\n",
       "    </tr>\n",
       "    <tr>\n",
       "      <th>3</th>\n",
       "      <td>Russia</td>\n",
       "      <td>2410462</td>\n",
       "      <td>42228</td>\n",
       "      <td>2382012</td>\n",
       "      <td>41730</td>\n",
       "      <td>28450</td>\n",
       "      <td>498</td>\n",
       "      <td>1.8</td>\n",
       "      <td>Europe</td>\n",
       "    </tr>\n",
       "    <tr>\n",
       "      <th>4</th>\n",
       "      <td>France</td>\n",
       "      <td>2334626</td>\n",
       "      <td>55073</td>\n",
       "      <td>2321703</td>\n",
       "      <td>54859</td>\n",
       "      <td>12923</td>\n",
       "      <td>214</td>\n",
       "      <td>2.4</td>\n",
       "      <td>Europe</td>\n",
       "    </tr>\n",
       "  </tbody>\n",
       "</table>\n",
       "</div>"
      ],
      "text/plain": [
       "  Country/Region     Cases  Deaths    PCases  PDeaths  Cases (+)  Deaths (+)  \\\n",
       "0             US  14581337  281186  14367462   278932     213875        2254   \n",
       "1          India   9644222  140182   9608211   139700      36011         482   \n",
       "2         Brazil   6577177  176628   6533968   175964      43209         664   \n",
       "3         Russia   2410462   42228   2382012    41730      28450         498   \n",
       "4         France   2334626   55073   2321703    54859      12923         214   \n",
       "\n",
       "   Fatality Rate      Continent  \n",
       "0            1.9  North America  \n",
       "1            1.5           Asia  \n",
       "2            2.7  South America  \n",
       "3            1.8         Europe  \n",
       "4            2.4         Europe  "
      ]
     },
     "execution_count": 15,
     "metadata": {},
     "output_type": "execute_result"
    }
   ],
   "source": [
    "#hide\n",
    "df_table = (pd.DataFrame(dict(Cases=dfc_cases, Deaths=dfc_deaths, PCases=dfp_cases, PDeaths=dfp_deaths))\n",
    "             .sort_values(by=['Cases', 'Deaths'], ascending=[False, False])\n",
    "             .reset_index())\n",
    "df_table.rename(columns={'index': 'Country/Region'}, inplace=True)\n",
    "for c in 'Cases, Deaths'.split(', '):\n",
    "    df_table[f'{c} (+)'] = (df_table[c] - df_table[f'P{c}']).clip(0)  # DATA BUG\n",
    "df_table['Fatality Rate'] = (100 * df_table['Deaths'] / df_table['Cases']).round(1)\n",
    "df_table['Continent'] = df_table['Country/Region'].map(mapping['map.continent'])\n",
    "df_table.head(5)"
   ]
  },
  {
   "cell_type": "code",
   "execution_count": 16,
   "metadata": {
    "execution": {
     "iopub.execute_input": "2020-12-07T00:11:50.407053Z",
     "iopub.status.busy": "2020-12-07T00:11:50.406565Z",
     "iopub.status.idle": "2020-12-07T00:11:50.409161Z",
     "shell.execute_reply": "2020-12-07T00:11:50.409564Z"
    },
    "papermill": {
     "duration": 0.034054,
     "end_time": "2020-12-07T00:11:50.409687",
     "exception": false,
     "start_time": "2020-12-07T00:11:50.375633",
     "status": "completed"
    },
    "tags": []
   },
   "outputs": [],
   "source": [
    "#hide\n",
    "#delete problematic countries from table\n",
    "df_table = df_table[~df_table['Country/Region'].isin(['Cape Verde', 'Cruise Ship', 'Kosovo'])]"
   ]
  },
  {
   "cell_type": "code",
   "execution_count": 17,
   "metadata": {
    "execution": {
     "iopub.execute_input": "2020-12-07T00:11:50.471994Z",
     "iopub.status.busy": "2020-12-07T00:11:50.471439Z",
     "iopub.status.idle": "2020-12-07T00:11:50.483587Z",
     "shell.execute_reply": "2020-12-07T00:11:50.483145Z"
    },
    "papermill": {
     "duration": 0.047161,
     "end_time": "2020-12-07T00:11:50.483709",
     "exception": false,
     "start_time": "2020-12-07T00:11:50.436548",
     "status": "completed"
    },
    "tags": []
   },
   "outputs": [],
   "source": [
    "#hide\n",
    "metrics = [df_table.columns[index] for index in [1,2,5,6]]\n",
    "# s_china = df_table[df_table['Country/Region'].eq('China')][metrics].sum().add_prefix('China ')\n",
    "s_us = df_table[df_table['Country/Region'].eq('US')][metrics].sum().add_prefix('US ')\n",
    "s_eu = df_table[df_table['Continent'].eq('Europe')][metrics].sum().add_prefix('EU ')\n",
    "s_ind = df_table[df_table['Country/Region'].eq('India')][metrics].sum().add_prefix('India ')\n",
    "summary = {'updated': pd.to_datetime(dt_today), 'since': pd.to_datetime(dt_yday)}\n",
    "summary = {'updated': pd.to_datetime(dt_today), 'since': pd.to_datetime(dt_yday)}\n",
    "summary = {**summary, **df_table[metrics].sum(), **s_ind, **s_us, **s_eu}"
   ]
  },
  {
   "cell_type": "code",
   "execution_count": 18,
   "metadata": {
    "execution": {
     "iopub.execute_input": "2020-12-07T00:11:50.544948Z",
     "iopub.status.busy": "2020-12-07T00:11:50.544423Z",
     "iopub.status.idle": "2020-12-07T00:11:50.553780Z",
     "shell.execute_reply": "2020-12-07T00:11:50.554210Z"
    },
    "papermill": {
     "duration": 0.043261,
     "end_time": "2020-12-07T00:11:50.554350",
     "exception": false,
     "start_time": "2020-12-07T00:11:50.511089",
     "status": "completed"
    },
    "tags": []
   },
   "outputs": [],
   "source": [
    "#hide\n",
    "dft_ct_new_cases = dft_cases.groupby(COL_REGION)[dt_cols].sum().diff(axis=1).fillna(0).astype(int)"
   ]
  },
  {
   "cell_type": "code",
   "execution_count": 19,
   "metadata": {
    "execution": {
     "iopub.execute_input": "2020-12-07T00:11:50.614822Z",
     "iopub.status.busy": "2020-12-07T00:11:50.614301Z",
     "iopub.status.idle": "2020-12-07T00:11:50.616444Z",
     "shell.execute_reply": "2020-12-07T00:11:50.616036Z"
    },
    "papermill": {
     "duration": 0.035069,
     "end_time": "2020-12-07T00:11:50.616559",
     "exception": false,
     "start_time": "2020-12-07T00:11:50.581490",
     "status": "completed"
    },
    "tags": []
   },
   "outputs": [],
   "source": [
    "#hide\n",
    "everydaycases = dft_ct_new_cases.cumsum(axis=1)"
   ]
  },
  {
   "cell_type": "code",
   "execution_count": 20,
   "metadata": {
    "execution": {
     "iopub.execute_input": "2020-12-07T00:11:50.675278Z",
     "iopub.status.busy": "2020-12-07T00:11:50.674773Z",
     "iopub.status.idle": "2020-12-07T00:11:51.698065Z",
     "shell.execute_reply": "2020-12-07T00:11:51.697551Z"
    },
    "papermill": {
     "duration": 1.054299,
     "end_time": "2020-12-07T00:11:51.698205",
     "exception": false,
     "start_time": "2020-12-07T00:11:50.643906",
     "status": "completed"
    },
    "tags": []
   },
   "outputs": [],
   "source": [
    "#hide\n",
    "import pandas as pd\n",
    "import matplotlib.pyplot as plt\n",
    "import matplotlib.ticker as ticker\n",
    "import matplotlib.animation as animation\n",
    "from IPython.display import HTML"
   ]
  },
  {
   "cell_type": "code",
   "execution_count": 21,
   "metadata": {
    "execution": {
     "iopub.execute_input": "2020-12-07T00:11:51.756967Z",
     "iopub.status.busy": "2020-12-07T00:11:51.756463Z",
     "iopub.status.idle": "2020-12-07T00:11:51.760627Z",
     "shell.execute_reply": "2020-12-07T00:11:51.761102Z"
    },
    "papermill": {
     "duration": 0.035676,
     "end_time": "2020-12-07T00:11:51.761228",
     "exception": false,
     "start_time": "2020-12-07T00:11:51.725552",
     "status": "completed"
    },
    "tags": []
   },
   "outputs": [],
   "source": [
    "#hide\n",
    "t = everydaycases.stack()"
   ]
  },
  {
   "cell_type": "code",
   "execution_count": 22,
   "metadata": {
    "execution": {
     "iopub.execute_input": "2020-12-07T00:11:51.820180Z",
     "iopub.status.busy": "2020-12-07T00:11:51.819684Z",
     "iopub.status.idle": "2020-12-07T00:11:51.825591Z",
     "shell.execute_reply": "2020-12-07T00:11:51.826071Z"
    },
    "papermill": {
     "duration": 0.037872,
     "end_time": "2020-12-07T00:11:51.826205",
     "exception": false,
     "start_time": "2020-12-07T00:11:51.788333",
     "status": "completed"
    },
    "tags": []
   },
   "outputs": [],
   "source": [
    "#hide\n",
    "g = t.reset_index(['Country/Region'])"
   ]
  },
  {
   "cell_type": "code",
   "execution_count": 23,
   "metadata": {
    "execution": {
     "iopub.execute_input": "2020-12-07T00:11:51.885455Z",
     "iopub.status.busy": "2020-12-07T00:11:51.884941Z",
     "iopub.status.idle": "2020-12-07T00:11:51.886642Z",
     "shell.execute_reply": "2020-12-07T00:11:51.887113Z"
    },
    "papermill": {
     "duration": 0.034068,
     "end_time": "2020-12-07T00:11:51.887243",
     "exception": false,
     "start_time": "2020-12-07T00:11:51.853175",
     "status": "completed"
    },
    "tags": []
   },
   "outputs": [],
   "source": [
    "#hide\n",
    "g.index.name = 'date'"
   ]
  },
  {
   "cell_type": "code",
   "execution_count": 24,
   "metadata": {
    "execution": {
     "iopub.execute_input": "2020-12-07T00:11:51.944792Z",
     "iopub.status.busy": "2020-12-07T00:11:51.944261Z",
     "iopub.status.idle": "2020-12-07T00:11:51.946439Z",
     "shell.execute_reply": "2020-12-07T00:11:51.945984Z"
    },
    "papermill": {
     "duration": 0.032114,
     "end_time": "2020-12-07T00:11:51.946547",
     "exception": false,
     "start_time": "2020-12-07T00:11:51.914433",
     "status": "completed"
    },
    "tags": []
   },
   "outputs": [],
   "source": [
    "# #hide\n",
    "# g = g.reset_index(['date'])"
   ]
  },
  {
   "cell_type": "code",
   "execution_count": 25,
   "metadata": {
    "execution": {
     "iopub.execute_input": "2020-12-07T00:11:52.004148Z",
     "iopub.status.busy": "2020-12-07T00:11:52.003637Z",
     "iopub.status.idle": "2020-12-07T00:11:52.005764Z",
     "shell.execute_reply": "2020-12-07T00:11:52.005355Z"
    },
    "papermill": {
     "duration": 0.032446,
     "end_time": "2020-12-07T00:11:52.005878",
     "exception": false,
     "start_time": "2020-12-07T00:11:51.973432",
     "status": "completed"
    },
    "tags": []
   },
   "outputs": [],
   "source": [
    "#hide\n",
    "# g.head()"
   ]
  },
  {
   "cell_type": "code",
   "execution_count": 26,
   "metadata": {
    "execution": {
     "iopub.execute_input": "2020-12-07T00:11:52.064838Z",
     "iopub.status.busy": "2020-12-07T00:11:52.064304Z",
     "iopub.status.idle": "2020-12-07T00:11:52.066789Z",
     "shell.execute_reply": "2020-12-07T00:11:52.067174Z"
    },
    "papermill": {
     "duration": 0.034289,
     "end_time": "2020-12-07T00:11:52.067310",
     "exception": false,
     "start_time": "2020-12-07T00:11:52.033021",
     "status": "completed"
    },
    "tags": []
   },
   "outputs": [],
   "source": [
    "#hide\n",
    "# g.columns = ['date','country','cases']"
   ]
  },
  {
   "cell_type": "code",
   "execution_count": 27,
   "metadata": {
    "execution": {
     "iopub.execute_input": "2020-12-07T00:11:52.124893Z",
     "iopub.status.busy": "2020-12-07T00:11:52.124304Z",
     "iopub.status.idle": "2020-12-07T00:11:52.126484Z",
     "shell.execute_reply": "2020-12-07T00:11:52.125937Z"
    },
    "papermill": {
     "duration": 0.032354,
     "end_time": "2020-12-07T00:11:52.126610",
     "exception": false,
     "start_time": "2020-12-07T00:11:52.094256",
     "status": "completed"
    },
    "tags": []
   },
   "outputs": [],
   "source": [
    "#hide\n",
    "# g['continent'] = g.country"
   ]
  },
  {
   "cell_type": "code",
   "execution_count": 28,
   "metadata": {
    "execution": {
     "iopub.execute_input": "2020-12-07T00:11:52.183982Z",
     "iopub.status.busy": "2020-12-07T00:11:52.183339Z",
     "iopub.status.idle": "2020-12-07T00:11:52.185536Z",
     "shell.execute_reply": "2020-12-07T00:11:52.184991Z"
    },
    "papermill": {
     "duration": 0.032147,
     "end_time": "2020-12-07T00:11:52.185658",
     "exception": false,
     "start_time": "2020-12-07T00:11:52.153511",
     "status": "completed"
    },
    "tags": []
   },
   "outputs": [],
   "source": [
    "#hide\n",
    "# cols = list(g.columns.values)"
   ]
  },
  {
   "cell_type": "code",
   "execution_count": 29,
   "metadata": {
    "execution": {
     "iopub.execute_input": "2020-12-07T00:11:52.243449Z",
     "iopub.status.busy": "2020-12-07T00:11:52.242925Z",
     "iopub.status.idle": "2020-12-07T00:11:52.244823Z",
     "shell.execute_reply": "2020-12-07T00:11:52.245250Z"
    },
    "papermill": {
     "duration": 0.032662,
     "end_time": "2020-12-07T00:11:52.245381",
     "exception": false,
     "start_time": "2020-12-07T00:11:52.212719",
     "status": "completed"
    },
    "tags": []
   },
   "outputs": [],
   "source": [
    "#hide\n",
    "# cols.insert(0, cols.pop())"
   ]
  },
  {
   "cell_type": "code",
   "execution_count": 30,
   "metadata": {
    "execution": {
     "iopub.execute_input": "2020-12-07T00:11:52.303544Z",
     "iopub.status.busy": "2020-12-07T00:11:52.302917Z",
     "iopub.status.idle": "2020-12-07T00:11:52.304413Z",
     "shell.execute_reply": "2020-12-07T00:11:52.304872Z"
    },
    "papermill": {
     "duration": 0.032305,
     "end_time": "2020-12-07T00:11:52.305016",
     "exception": false,
     "start_time": "2020-12-07T00:11:52.272711",
     "status": "completed"
    },
    "tags": []
   },
   "outputs": [],
   "source": [
    "#hide\n",
    "# g = g[cols]"
   ]
  },
  {
   "cell_type": "code",
   "execution_count": 31,
   "metadata": {
    "execution": {
     "iopub.execute_input": "2020-12-07T00:11:52.363306Z",
     "iopub.status.busy": "2020-12-07T00:11:52.362798Z",
     "iopub.status.idle": "2020-12-07T00:11:52.365062Z",
     "shell.execute_reply": "2020-12-07T00:11:52.364658Z"
    },
    "papermill": {
     "duration": 0.032636,
     "end_time": "2020-12-07T00:11:52.365178",
     "exception": false,
     "start_time": "2020-12-07T00:11:52.332542",
     "status": "completed"
    },
    "tags": []
   },
   "outputs": [],
   "source": [
    "#hide\n",
    "# g['continent'] = g['continent'].map(mapping['map.continent'])"
   ]
  },
  {
   "cell_type": "code",
   "execution_count": 32,
   "metadata": {
    "execution": {
     "iopub.execute_input": "2020-12-07T00:11:52.423362Z",
     "iopub.status.busy": "2020-12-07T00:11:52.422864Z",
     "iopub.status.idle": "2020-12-07T00:11:52.424610Z",
     "shell.execute_reply": "2020-12-07T00:11:52.425083Z"
    },
    "papermill": {
     "duration": 0.032699,
     "end_time": "2020-12-07T00:11:52.425212",
     "exception": false,
     "start_time": "2020-12-07T00:11:52.392513",
     "status": "completed"
    },
    "tags": []
   },
   "outputs": [],
   "source": [
    "#hide\n",
    "# g.head()"
   ]
  },
  {
   "cell_type": "code",
   "execution_count": 33,
   "metadata": {
    "execution": {
     "iopub.execute_input": "2020-12-07T00:11:52.482938Z",
     "iopub.status.busy": "2020-12-07T00:11:52.482445Z",
     "iopub.status.idle": "2020-12-07T00:11:52.484119Z",
     "shell.execute_reply": "2020-12-07T00:11:52.484541Z"
    },
    "papermill": {
     "duration": 0.032454,
     "end_time": "2020-12-07T00:11:52.484664",
     "exception": false,
     "start_time": "2020-12-07T00:11:52.452210",
     "status": "completed"
    },
    "tags": []
   },
   "outputs": [],
   "source": [
    "# hide\n",
    "# g['date'] = g['date'].astype('datetime64[ns]')"
   ]
  },
  {
   "cell_type": "code",
   "execution_count": 34,
   "metadata": {
    "execution": {
     "iopub.execute_input": "2020-12-07T00:11:52.542623Z",
     "iopub.status.busy": "2020-12-07T00:11:52.542133Z",
     "iopub.status.idle": "2020-12-07T00:11:52.543950Z",
     "shell.execute_reply": "2020-12-07T00:11:52.544373Z"
    },
    "papermill": {
     "duration": 0.032469,
     "end_time": "2020-12-07T00:11:52.544499",
     "exception": false,
     "start_time": "2020-12-07T00:11:52.512030",
     "status": "completed"
    },
    "tags": []
   },
   "outputs": [],
   "source": [
    "#hide\n",
    "# g['date'] = g.date.dt.dayofyear"
   ]
  },
  {
   "cell_type": "code",
   "execution_count": 35,
   "metadata": {
    "execution": {
     "iopub.execute_input": "2020-12-07T00:11:52.607093Z",
     "iopub.status.busy": "2020-12-07T00:11:52.606570Z",
     "iopub.status.idle": "2020-12-07T00:11:52.608561Z",
     "shell.execute_reply": "2020-12-07T00:11:52.609236Z"
    },
    "papermill": {
     "duration": 0.038045,
     "end_time": "2020-12-07T00:11:52.609369",
     "exception": false,
     "start_time": "2020-12-07T00:11:52.571324",
     "status": "completed"
    },
    "tags": []
   },
   "outputs": [],
   "source": [
    "#hide\n",
    "# g = g.rename(columns= {'continent':'group','country':'name','cases':'value'})"
   ]
  },
  {
   "cell_type": "code",
   "execution_count": 36,
   "metadata": {
    "execution": {
     "iopub.execute_input": "2020-12-07T00:11:53.231062Z",
     "iopub.status.busy": "2020-12-07T00:11:53.229741Z",
     "iopub.status.idle": "2020-12-07T00:11:53.231721Z",
     "shell.execute_reply": "2020-12-07T00:11:53.232173Z"
    },
    "papermill": {
     "duration": 0.594679,
     "end_time": "2020-12-07T00:11:53.232317",
     "exception": false,
     "start_time": "2020-12-07T00:11:52.637638",
     "status": "completed"
    },
    "tags": []
   },
   "outputs": [],
   "source": [
    "#hide\n",
    "# cols = ['name','group','day','value']"
   ]
  },
  {
   "cell_type": "code",
   "execution_count": 37,
   "metadata": {
    "execution": {
     "iopub.execute_input": "2020-12-07T00:11:53.290124Z",
     "iopub.status.busy": "2020-12-07T00:11:53.289537Z",
     "iopub.status.idle": "2020-12-07T00:11:53.291714Z",
     "shell.execute_reply": "2020-12-07T00:11:53.291207Z"
    },
    "papermill": {
     "duration": 0.032489,
     "end_time": "2020-12-07T00:11:53.291842",
     "exception": false,
     "start_time": "2020-12-07T00:11:53.259353",
     "status": "completed"
    },
    "tags": []
   },
   "outputs": [],
   "source": [
    "#hide\n",
    "# g.rename(columns= {'date':'day'},inplace = True)"
   ]
  },
  {
   "cell_type": "code",
   "execution_count": 38,
   "metadata": {
    "execution": {
     "iopub.execute_input": "2020-12-07T00:11:53.349697Z",
     "iopub.status.busy": "2020-12-07T00:11:53.349117Z",
     "iopub.status.idle": "2020-12-07T00:11:53.351268Z",
     "shell.execute_reply": "2020-12-07T00:11:53.350782Z"
    },
    "papermill": {
     "duration": 0.03198,
     "end_time": "2020-12-07T00:11:53.351392",
     "exception": false,
     "start_time": "2020-12-07T00:11:53.319412",
     "status": "completed"
    },
    "tags": []
   },
   "outputs": [],
   "source": [
    "#hide\n",
    "# g = g[cols]"
   ]
  },
  {
   "cell_type": "code",
   "execution_count": 39,
   "metadata": {
    "execution": {
     "iopub.execute_input": "2020-12-07T00:11:53.408906Z",
     "iopub.status.busy": "2020-12-07T00:11:53.408321Z",
     "iopub.status.idle": "2020-12-07T00:11:53.410382Z",
     "shell.execute_reply": "2020-12-07T00:11:53.409824Z"
    },
    "papermill": {
     "duration": 0.032039,
     "end_time": "2020-12-07T00:11:53.410507",
     "exception": false,
     "start_time": "2020-12-07T00:11:53.378468",
     "status": "completed"
    },
    "tags": []
   },
   "outputs": [],
   "source": [
    "# #hide\n",
    "# g = g[g.group.notna()]"
   ]
  },
  {
   "cell_type": "code",
   "execution_count": 40,
   "metadata": {
    "execution": {
     "iopub.execute_input": "2020-12-07T00:11:53.468191Z",
     "iopub.status.busy": "2020-12-07T00:11:53.467688Z",
     "iopub.status.idle": "2020-12-07T00:11:53.469838Z",
     "shell.execute_reply": "2020-12-07T00:11:53.469443Z"
    },
    "papermill": {
     "duration": 0.031943,
     "end_time": "2020-12-07T00:11:53.469947",
     "exception": false,
     "start_time": "2020-12-07T00:11:53.438004",
     "status": "completed"
    },
    "tags": []
   },
   "outputs": [],
   "source": [
    "# #hide\n",
    "# colors = dict(zip(\n",
    "#     [\"Oceania\", \"Europe\", \"Asia\", \"South America\", \"Middle East\", \"North America\", \"Africa\"],\n",
    "#     [\"#adb0ff\", \"#ffb3ff\", \"#90d595\", \"#e48381\", \"#aafbff\", \"#f7bb5f\", \"#eafb50\"]\n",
    "# ))\n",
    "# group_lk = g.set_index('name')['group'].to_dict()"
   ]
  },
  {
   "cell_type": "code",
   "execution_count": null,
   "metadata": {
    "papermill": {
     "duration": 0.02676,
     "end_time": "2020-12-07T00:11:53.523258",
     "exception": false,
     "start_time": "2020-12-07T00:11:53.496498",
     "status": "completed"
    },
    "tags": []
   },
   "outputs": [],
   "source": []
  },
  {
   "cell_type": "code",
   "execution_count": 41,
   "metadata": {
    "execution": {
     "iopub.execute_input": "2020-12-07T00:11:53.582233Z",
     "iopub.status.busy": "2020-12-07T00:11:53.581722Z",
     "iopub.status.idle": "2020-12-07T00:11:53.583703Z",
     "shell.execute_reply": "2020-12-07T00:11:53.584183Z"
    },
    "papermill": {
     "duration": 0.034099,
     "end_time": "2020-12-07T00:11:53.584311",
     "exception": false,
     "start_time": "2020-12-07T00:11:53.550212",
     "status": "completed"
    },
    "tags": []
   },
   "outputs": [],
   "source": [
    "# #hide\n",
    "# fig, ax = plt.subplots(figsize=(15, 8))\n",
    "\n",
    "# def draw_barchart(current_day):\n",
    "#     dff = g[g['day'].eq(current_day)].sort_values(by='value', ascending=True).tail(10)\n",
    "#     ax.clear()\n",
    "#     ax.barh(dff['name'], dff['value'], color=[colors[group_lk[x]] for x in dff['name']])\n",
    "#     dx = dff['value'].max() / 200\n",
    "    \n",
    "#     for i, (value, name) in enumerate(zip(dff['value'], dff['name'])):\n",
    "#         ax.text(value-dx, i,     name,           size=14, weight=600, ha='right', va='bottom')\n",
    "#         ax.text(value-dx, i-.25, group_lk[name], size=10, color='#444444', ha='right', va='baseline')\n",
    "#         ax.text(value+dx, i,     f'{value:,.0f}',  size=14, ha='left',  va='center')\n",
    "#     ax.text(1, 0.4, current_day, transform=ax.transAxes, color='#777777', size=46, ha='right', weight=800)\n",
    "#     ax.text(0, 1.06, 'Population (thousands)', transform=ax.transAxes, size=12, color='#777777')\n",
    "#     ax.xaxis.set_major_formatter(ticker.StrMethodFormatter('{x:,.0f}'))\n",
    "#     ax.xaxis.set_ticks_position('top')\n",
    "#     ax.tick_params(axis='x', colors='#777777', labelsize=12)\n",
    "#     ax.set_yticks([])\n",
    "#     ax.margins(0, 0.01)\n",
    "#     ax.grid(which='major', axis='x', linestyle='-')\n",
    "#     ax.set_axisbelow(True)\n",
    "    \n",
    "#     ax.text(0, 1.15, 'Coronavirus',\n",
    "#             transform=ax.transAxes, size=24, weight=600, ha='left', va='top')\n",
    "# #     ax.text(1, 0, 'by @pratapvardhan; credit @jburnmurdoch', transform=ax.transAxes, color='#777777', ha='right',\n",
    "# #             bbox=dict(facecolor='white', alpha=0.8, edgecolor='white'))\n",
    "#     plt.box(False)"
   ]
  },
  {
   "cell_type": "code",
   "execution_count": 42,
   "metadata": {
    "execution": {
     "iopub.execute_input": "2020-12-07T00:11:53.641649Z",
     "iopub.status.busy": "2020-12-07T00:11:53.641158Z",
     "iopub.status.idle": "2020-12-07T00:11:53.642981Z",
     "shell.execute_reply": "2020-12-07T00:11:53.643356Z"
    },
    "papermill": {
     "duration": 0.032422,
     "end_time": "2020-12-07T00:11:53.643484",
     "exception": false,
     "start_time": "2020-12-07T00:11:53.611062",
     "status": "completed"
    },
    "tags": []
   },
   "outputs": [],
   "source": [
    "# #hide_input\n",
    "# fig, ax = plt.subplots(figsize=(15, 8))\n",
    "# animator = animation.FuncAnimation(fig, draw_barchart, frames=range(g.day.values.min(), g.day.values.max()))\n",
    "# HTML(animator.to_jshtml())\n",
    "# # or use animator.to_html5_video() or animator.save() "
   ]
  },
  {
   "cell_type": "code",
   "execution_count": null,
   "metadata": {
    "papermill": {
     "duration": 0.026538,
     "end_time": "2020-12-07T00:11:53.697054",
     "exception": false,
     "start_time": "2020-12-07T00:11:53.670516",
     "status": "completed"
    },
    "tags": []
   },
   "outputs": [],
   "source": []
  },
  {
   "cell_type": "code",
   "execution_count": null,
   "metadata": {
    "papermill": {
     "duration": 0.026738,
     "end_time": "2020-12-07T00:11:53.750416",
     "exception": false,
     "start_time": "2020-12-07T00:11:53.723678",
     "status": "completed"
    },
    "tags": []
   },
   "outputs": [],
   "source": []
  },
  {
   "cell_type": "code",
   "execution_count": null,
   "metadata": {
    "papermill": {
     "duration": 0.026561,
     "end_time": "2020-12-07T00:11:53.803948",
     "exception": false,
     "start_time": "2020-12-07T00:11:53.777387",
     "status": "completed"
    },
    "tags": []
   },
   "outputs": [],
   "source": []
  }
 ],
 "metadata": {
  "kernelspec": {
   "display_name": "Python 3",
   "language": "python",
   "name": "python3"
  },
  "language_info": {
   "codemirror_mode": {
    "name": "ipython",
    "version": 3
   },
   "file_extension": ".py",
   "mimetype": "text/x-python",
   "name": "python",
   "nbconvert_exporter": "python",
   "pygments_lexer": "ipython3",
   "version": "3.6.12"
  },
  "papermill": {
   "duration": 6.622434,
   "end_time": "2020-12-07T00:11:54.137761",
   "environment_variables": {},
   "exception": null,
   "input_path": "2020-03-21-covid19exp.ipynb",
   "output_path": "2020-03-21-covid19exp.ipynb",
   "parameters": {},
   "start_time": "2020-12-07T00:11:47.515327",
   "version": "2.0.0"
  }
 },
 "nbformat": 4,
 "nbformat_minor": 4
}