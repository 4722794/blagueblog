{
 "cells": [
  {
   "cell_type": "markdown",
   "id": "muslim-click",
   "metadata": {
    "papermill": {
     "duration": 0.034184,
     "end_time": "2021-12-27T00:27:01.624730",
     "exception": false,
     "start_time": "2021-12-27T00:27:01.590546",
     "status": "completed"
    },
    "tags": []
   },
   "source": [
    "# COVID-19 Case Race\n",
    "> A race chart to see rising cases around the world\n",
    "\n",
    "- author: Hargun Oberoi\n",
    "- image: images/covid-overview.png\n",
    "- hide: false\n",
    "- badges: false"
   ]
  },
  {
   "cell_type": "code",
   "execution_count": 1,
   "id": "proof-material",
   "metadata": {
    "execution": {
     "iopub.execute_input": "2021-12-27T00:27:01.696059Z",
     "iopub.status.busy": "2021-12-27T00:27:01.695408Z",
     "iopub.status.idle": "2021-12-27T00:27:02.013282Z",
     "shell.execute_reply": "2021-12-27T00:27:02.012240Z"
    },
    "papermill": {
     "duration": 0.357864,
     "end_time": "2021-12-27T00:27:02.013496",
     "exception": false,
     "start_time": "2021-12-27T00:27:01.655632",
     "status": "completed"
    },
    "tags": []
   },
   "outputs": [],
   "source": [
    "#hide\n",
    "import numpy as np\n",
    "import pandas as pd\n",
    "from jinja2 import Template\n",
    "from IPython.display import HTML"
   ]
  },
  {
   "cell_type": "code",
   "execution_count": 2,
   "id": "developed-terminology",
   "metadata": {
    "execution": {
     "iopub.execute_input": "2021-12-27T00:27:02.080827Z",
     "iopub.status.busy": "2021-12-27T00:27:02.080249Z",
     "iopub.status.idle": "2021-12-27T00:27:02.082107Z",
     "shell.execute_reply": "2021-12-27T00:27:02.082510Z"
    },
    "papermill": {
     "duration": 0.038522,
     "end_time": "2021-12-27T00:27:02.082626",
     "exception": false,
     "start_time": "2021-12-27T00:27:02.044104",
     "status": "completed"
    },
    "tags": []
   },
   "outputs": [],
   "source": [
    "#hide\n",
    "\n",
    "# FETCH\n",
    "base_url = 'https://raw.githubusercontent.com/pratapvardhan/notebooks/master/covid19/'\n",
    "paths = {\n",
    "    'mapping': base_url + 'mapping_countries.csv',\n",
    "    'overview': base_url + 'overview.tpl'\n",
    "}"
   ]
  },
  {
   "cell_type": "code",
   "execution_count": 3,
   "id": "dynamic-saver",
   "metadata": {
    "execution": {
     "iopub.execute_input": "2021-12-27T00:27:02.151238Z",
     "iopub.status.busy": "2021-12-27T00:27:02.149779Z",
     "iopub.status.idle": "2021-12-27T00:27:02.153724Z",
     "shell.execute_reply": "2021-12-27T00:27:02.154436Z"
    },
    "papermill": {
     "duration": 0.042338,
     "end_time": "2021-12-27T00:27:02.154550",
     "exception": false,
     "start_time": "2021-12-27T00:27:02.112212",
     "status": "completed"
    },
    "tags": []
   },
   "outputs": [
    {
     "data": {
      "text/plain": [
       "'https://raw.githubusercontent.com/pratapvardhan/notebooks/master/covid19/mapping_countries.csv'"
      ]
     },
     "execution_count": 3,
     "metadata": {},
     "output_type": "execute_result"
    }
   ],
   "source": [
    "#hide\n",
    "paths['mapping']"
   ]
  },
  {
   "cell_type": "code",
   "execution_count": 4,
   "id": "urban-software",
   "metadata": {
    "execution": {
     "iopub.execute_input": "2021-12-27T00:27:02.218581Z",
     "iopub.status.busy": "2021-12-27T00:27:02.218043Z",
     "iopub.status.idle": "2021-12-27T00:27:02.220204Z",
     "shell.execute_reply": "2021-12-27T00:27:02.219757Z"
    },
    "papermill": {
     "duration": 0.036278,
     "end_time": "2021-12-27T00:27:02.220308",
     "exception": false,
     "start_time": "2021-12-27T00:27:02.184030",
     "status": "completed"
    },
    "tags": []
   },
   "outputs": [],
   "source": [
    "#hide\n",
    "def get_mappings(url):\n",
    "    df = pd.read_csv(url)\n",
    "    return {\n",
    "        'df': df,\n",
    "        'replace.country': dict(df.dropna(subset=['Name']).set_index('Country')['Name']),\n",
    "        'map.continent': dict(df.set_index('Name')['Continent'])\n",
    "    }"
   ]
  },
  {
   "cell_type": "code",
   "execution_count": 5,
   "id": "intimate-machinery",
   "metadata": {
    "execution": {
     "iopub.execute_input": "2021-12-27T00:27:02.283887Z",
     "iopub.status.busy": "2021-12-27T00:27:02.283369Z",
     "iopub.status.idle": "2021-12-27T00:27:02.321705Z",
     "shell.execute_reply": "2021-12-27T00:27:02.321145Z"
    },
    "papermill": {
     "duration": 0.071842,
     "end_time": "2021-12-27T00:27:02.321824",
     "exception": false,
     "start_time": "2021-12-27T00:27:02.249982",
     "status": "completed"
    },
    "tags": []
   },
   "outputs": [],
   "source": [
    "#hide\n",
    "mapping = get_mappings(paths['mapping'])"
   ]
  },
  {
   "cell_type": "code",
   "execution_count": 6,
   "id": "certified-tactics",
   "metadata": {
    "execution": {
     "iopub.execute_input": "2021-12-27T00:27:02.386413Z",
     "iopub.status.busy": "2021-12-27T00:27:02.385512Z",
     "iopub.status.idle": "2021-12-27T00:27:02.387925Z",
     "shell.execute_reply": "2021-12-27T00:27:02.387412Z"
    },
    "papermill": {
     "duration": 0.036329,
     "end_time": "2021-12-27T00:27:02.388026",
     "exception": false,
     "start_time": "2021-12-27T00:27:02.351697",
     "status": "completed"
    },
    "tags": []
   },
   "outputs": [],
   "source": [
    "#hide\n",
    "def get_template(path):\n",
    "    from urllib.parse import urlparse\n",
    "    if bool(urlparse(path).netloc):\n",
    "        from urllib.request import urlopen\n",
    "        return urlopen(path).read().decode('utf8')\n",
    "    return open(path).read()"
   ]
  },
  {
   "cell_type": "code",
   "execution_count": 7,
   "id": "realistic-blast",
   "metadata": {
    "execution": {
     "iopub.execute_input": "2021-12-27T00:27:02.454067Z",
     "iopub.status.busy": "2021-12-27T00:27:02.453463Z",
     "iopub.status.idle": "2021-12-27T00:27:02.455615Z",
     "shell.execute_reply": "2021-12-27T00:27:02.455052Z"
    },
    "papermill": {
     "duration": 0.036313,
     "end_time": "2021-12-27T00:27:02.455744",
     "exception": false,
     "start_time": "2021-12-27T00:27:02.419431",
     "status": "completed"
    },
    "tags": []
   },
   "outputs": [],
   "source": [
    "#hide\n",
    "def get_frame(name):\n",
    "    url = (\n",
    "        'https://raw.githubusercontent.com/CSSEGISandData/COVID-19/master/csse_covid_19_data/'\n",
    "        f'csse_covid_19_time_series/time_series_covid19_{name}_global.csv')\n",
    "    df = pd.read_csv(url)\n",
    "    # rename countries\n",
    "    df['Country/Region'] = df['Country/Region'].replace(mapping['replace.country'])\n",
    "    return df"
   ]
  },
  {
   "cell_type": "code",
   "execution_count": 8,
   "id": "affiliated-characterization",
   "metadata": {
    "execution": {
     "iopub.execute_input": "2021-12-27T00:27:02.524637Z",
     "iopub.status.busy": "2021-12-27T00:27:02.523781Z",
     "iopub.status.idle": "2021-12-27T00:27:02.525988Z",
     "shell.execute_reply": "2021-12-27T00:27:02.526491Z"
    },
    "papermill": {
     "duration": 0.039674,
     "end_time": "2021-12-27T00:27:02.526606",
     "exception": false,
     "start_time": "2021-12-27T00:27:02.486932",
     "status": "completed"
    },
    "tags": []
   },
   "outputs": [],
   "source": [
    "#hide\n",
    "def get_dates(df):\n",
    "    dt_cols = df.columns[~df.columns.isin(['Province/State', 'Country/Region', 'Lat', 'Long'])]\n",
    "    LAST_DATE_I = -1\n",
    "    # sometimes last column may be empty, then go backwards\n",
    "    for i in range(-1, -len(dt_cols), -1):\n",
    "        if not df[dt_cols[i]].fillna(0).eq(0).all():\n",
    "            LAST_DATE_I = i\n",
    "            break\n",
    "    return LAST_DATE_I, dt_cols"
   ]
  },
  {
   "cell_type": "code",
   "execution_count": 9,
   "id": "recent-optimization",
   "metadata": {
    "execution": {
     "iopub.execute_input": "2021-12-27T00:27:02.593403Z",
     "iopub.status.busy": "2021-12-27T00:27:02.592803Z",
     "iopub.status.idle": "2021-12-27T00:27:03.046242Z",
     "shell.execute_reply": "2021-12-27T00:27:03.045610Z"
    },
    "papermill": {
     "duration": 0.489093,
     "end_time": "2021-12-27T00:27:03.046369",
     "exception": false,
     "start_time": "2021-12-27T00:27:02.557276",
     "status": "completed"
    },
    "tags": []
   },
   "outputs": [],
   "source": [
    "#hide\n",
    "COL_REGION = 'Country/Region'\n",
    "# Confirmed, Recovered, Deaths\n",
    "df = get_frame('confirmed')\n",
    "# dft_: timeseries, dfc_: today country agg\n",
    "dft_cases = df\n",
    "dft_deaths = get_frame('deaths')\n",
    "dft_recovered = get_frame('recovered')\n",
    "LAST_DATE_I, dt_cols = get_dates(df)"
   ]
  },
  {
   "cell_type": "code",
   "execution_count": 10,
   "id": "absolute-copper",
   "metadata": {
    "execution": {
     "iopub.execute_input": "2021-12-27T00:27:03.111900Z",
     "iopub.status.busy": "2021-12-27T00:27:03.111379Z",
     "iopub.status.idle": "2021-12-27T00:27:03.113752Z",
     "shell.execute_reply": "2021-12-27T00:27:03.114153Z"
    },
    "papermill": {
     "duration": 0.036462,
     "end_time": "2021-12-27T00:27:03.114266",
     "exception": false,
     "start_time": "2021-12-27T00:27:03.077804",
     "status": "completed"
    },
    "tags": []
   },
   "outputs": [],
   "source": [
    "#hide\n",
    "LAST_DATE_I, dt_cols = get_dates(df)\n",
    "dt_today =dt_cols[LAST_DATE_I]\n",
    "# dt_5day = dt_cols[LAST_DATE_I - 5]\n",
    "dt_yday = dt_cols[LAST_DATE_I - 1]"
   ]
  },
  {
   "cell_type": "code",
   "execution_count": 11,
   "id": "restricted-sheriff",
   "metadata": {
    "execution": {
     "iopub.execute_input": "2021-12-27T00:27:03.182613Z",
     "iopub.status.busy": "2021-12-27T00:27:03.182091Z",
     "iopub.status.idle": "2021-12-27T00:27:03.188851Z",
     "shell.execute_reply": "2021-12-27T00:27:03.189337Z"
    },
    "papermill": {
     "duration": 0.044943,
     "end_time": "2021-12-27T00:27:03.189450",
     "exception": false,
     "start_time": "2021-12-27T00:27:03.144507",
     "status": "completed"
    },
    "tags": []
   },
   "outputs": [],
   "source": [
    "#hide\n",
    "dfc_cases = dft_cases.groupby(COL_REGION)[dt_today].sum()\n",
    "dfc_deaths = dft_deaths.groupby(COL_REGION)[dt_today].sum()\n",
    "# dfp_cases = dft_cases.groupby(COL_REGION)[dt_5day].sum()\n",
    "# dfp_deaths = dft_deaths.groupby(COL_REGION)[dt_5day].sum()\n",
    "dfp_cases = dft_cases.groupby(COL_REGION)[dt_yday].sum()\n",
    "dfp_deaths = dft_deaths.groupby(COL_REGION)[dt_yday].sum()"
   ]
  },
  {
   "cell_type": "code",
   "execution_count": 12,
   "id": "deluxe-hepatitis",
   "metadata": {
    "execution": {
     "iopub.execute_input": "2021-12-27T00:27:03.256308Z",
     "iopub.status.busy": "2021-12-27T00:27:03.255722Z",
     "iopub.status.idle": "2021-12-27T00:27:03.260166Z",
     "shell.execute_reply": "2021-12-27T00:27:03.260726Z"
    },
    "papermill": {
     "duration": 0.042027,
     "end_time": "2021-12-27T00:27:03.260851",
     "exception": false,
     "start_time": "2021-12-27T00:27:03.218824",
     "status": "completed"
    },
    "tags": []
   },
   "outputs": [],
   "source": [
    "#hide\n",
    "df_table = (pd.DataFrame(dict(Cases = dfc_cases, Deaths = dfc_deaths, PCases = dfp_cases, PDeaths = dfp_deaths))\n",
    "            .sort_values(by = ['Cases','Deaths'], ascending = [False, False])\n",
    "            .reset_index())"
   ]
  },
  {
   "cell_type": "code",
   "execution_count": 13,
   "id": "educational-chancellor",
   "metadata": {
    "execution": {
     "iopub.execute_input": "2021-12-27T00:27:03.340347Z",
     "iopub.status.busy": "2021-12-27T00:27:03.339804Z",
     "iopub.status.idle": "2021-12-27T00:27:03.347768Z",
     "shell.execute_reply": "2021-12-27T00:27:03.347311Z"
    },
    "papermill": {
     "duration": 0.05671,
     "end_time": "2021-12-27T00:27:03.347872",
     "exception": false,
     "start_time": "2021-12-27T00:27:03.291162",
     "status": "completed"
    },
    "tags": []
   },
   "outputs": [
    {
     "data": {
      "text/html": [
       "<div>\n",
       "<style scoped>\n",
       "    .dataframe tbody tr th:only-of-type {\n",
       "        vertical-align: middle;\n",
       "    }\n",
       "\n",
       "    .dataframe tbody tr th {\n",
       "        vertical-align: top;\n",
       "    }\n",
       "\n",
       "    .dataframe thead th {\n",
       "        text-align: right;\n",
       "    }\n",
       "</style>\n",
       "<table border=\"1\" class=\"dataframe\">\n",
       "  <thead>\n",
       "    <tr style=\"text-align: right;\">\n",
       "      <th></th>\n",
       "      <th>Country/Region</th>\n",
       "      <th>Cases</th>\n",
       "      <th>Deaths</th>\n",
       "      <th>PCases</th>\n",
       "      <th>PDeaths</th>\n",
       "      <th>Cases (+)</th>\n",
       "      <th>Deaths (+)</th>\n",
       "      <th>Fatality Rate</th>\n",
       "      <th>Continent</th>\n",
       "    </tr>\n",
       "  </thead>\n",
       "  <tbody>\n",
       "    <tr>\n",
       "      <th>0</th>\n",
       "      <td>US</td>\n",
       "      <td>52098906</td>\n",
       "      <td>816533</td>\n",
       "      <td>51966735</td>\n",
       "      <td>816436</td>\n",
       "      <td>132171</td>\n",
       "      <td>97</td>\n",
       "      <td>1.57</td>\n",
       "      <td>North America</td>\n",
       "    </tr>\n",
       "    <tr>\n",
       "      <th>1</th>\n",
       "      <td>India</td>\n",
       "      <td>34786802</td>\n",
       "      <td>479682</td>\n",
       "      <td>34779815</td>\n",
       "      <td>479520</td>\n",
       "      <td>6987</td>\n",
       "      <td>162</td>\n",
       "      <td>1.38</td>\n",
       "      <td>Asia</td>\n",
       "    </tr>\n",
       "    <tr>\n",
       "      <th>2</th>\n",
       "      <td>Brazil</td>\n",
       "      <td>22238297</td>\n",
       "      <td>618686</td>\n",
       "      <td>22234623</td>\n",
       "      <td>618655</td>\n",
       "      <td>3674</td>\n",
       "      <td>31</td>\n",
       "      <td>2.78</td>\n",
       "      <td>South America</td>\n",
       "    </tr>\n",
       "    <tr>\n",
       "      <th>3</th>\n",
       "      <td>United Kingdom</td>\n",
       "      <td>11958928</td>\n",
       "      <td>148324</td>\n",
       "      <td>11958841</td>\n",
       "      <td>148324</td>\n",
       "      <td>87</td>\n",
       "      <td>0</td>\n",
       "      <td>1.24</td>\n",
       "      <td>Europe</td>\n",
       "    </tr>\n",
       "    <tr>\n",
       "      <th>4</th>\n",
       "      <td>Russia</td>\n",
       "      <td>10189722</td>\n",
       "      <td>297223</td>\n",
       "      <td>10164951</td>\n",
       "      <td>296268</td>\n",
       "      <td>24771</td>\n",
       "      <td>955</td>\n",
       "      <td>2.92</td>\n",
       "      <td>Europe</td>\n",
       "    </tr>\n",
       "  </tbody>\n",
       "</table>\n",
       "</div>"
      ],
      "text/plain": [
       "   Country/Region     Cases  Deaths    PCases  PDeaths  Cases (+)  Deaths (+)  \\\n",
       "0              US  52098906  816533  51966735   816436     132171          97   \n",
       "1           India  34786802  479682  34779815   479520       6987         162   \n",
       "2          Brazil  22238297  618686  22234623   618655       3674          31   \n",
       "3  United Kingdom  11958928  148324  11958841   148324         87           0   \n",
       "4          Russia  10189722  297223  10164951   296268      24771         955   \n",
       "\n",
       "   Fatality Rate      Continent  \n",
       "0           1.57  North America  \n",
       "1           1.38           Asia  \n",
       "2           2.78  South America  \n",
       "3           1.24         Europe  \n",
       "4           2.92         Europe  "
      ]
     },
     "execution_count": 13,
     "metadata": {},
     "output_type": "execute_result"
    }
   ],
   "source": [
    "#hide\n",
    "for c in 'Cases, Deaths'.split(', '):\n",
    "    df_table[f'{c} (+)'] = (df_table[c] - df_table[f'P{c}']).clip(0)\n",
    "    #Clip ça veut dire, les chiffres negatif sont interdit\n",
    "df_table['Fatality Rate'] = (100* df_table['Deaths']/ df_table['Cases']).round(2)\n",
    "df_table['Continent'] = df_table['Country/Region'].map(mapping['map.continent'])\n",
    "df_table.head(5)"
   ]
  },
  {
   "cell_type": "code",
   "execution_count": 14,
   "id": "aboriginal-bulgaria",
   "metadata": {
    "execution": {
     "iopub.execute_input": "2021-12-27T00:27:03.414562Z",
     "iopub.status.busy": "2021-12-27T00:27:03.414004Z",
     "iopub.status.idle": "2021-12-27T00:27:03.416753Z",
     "shell.execute_reply": "2021-12-27T00:27:03.417213Z"
    },
    "papermill": {
     "duration": 0.038237,
     "end_time": "2021-12-27T00:27:03.417329",
     "exception": false,
     "start_time": "2021-12-27T00:27:03.379092",
     "status": "completed"
    },
    "tags": []
   },
   "outputs": [],
   "source": [
    "#hide\n",
    "#delete problematic countries from table\n",
    "df_table = df_table[~df_table['Country/Region'].isin(['Cape Verde', 'Cruise Ship', 'Kosovo'])]"
   ]
  },
  {
   "cell_type": "code",
   "execution_count": 15,
   "id": "fantastic-effect",
   "metadata": {
    "execution": {
     "iopub.execute_input": "2021-12-27T00:27:03.487608Z",
     "iopub.status.busy": "2021-12-27T00:27:03.487034Z",
     "iopub.status.idle": "2021-12-27T00:27:03.508146Z",
     "shell.execute_reply": "2021-12-27T00:27:03.507674Z"
    },
    "papermill": {
     "duration": 0.060775,
     "end_time": "2021-12-27T00:27:03.508255",
     "exception": false,
     "start_time": "2021-12-27T00:27:03.447480",
     "status": "completed"
    },
    "tags": []
   },
   "outputs": [
    {
     "data": {
      "text/html": [
       "<div>\n",
       "<style scoped>\n",
       "    .dataframe tbody tr th:only-of-type {\n",
       "        vertical-align: middle;\n",
       "    }\n",
       "\n",
       "    .dataframe tbody tr th {\n",
       "        vertical-align: top;\n",
       "    }\n",
       "\n",
       "    .dataframe thead th {\n",
       "        text-align: right;\n",
       "    }\n",
       "</style>\n",
       "<table border=\"1\" class=\"dataframe\">\n",
       "  <thead>\n",
       "    <tr style=\"text-align: right;\">\n",
       "      <th></th>\n",
       "      <th>Country/Region</th>\n",
       "      <th>Cases</th>\n",
       "      <th>Deaths</th>\n",
       "      <th>PCases</th>\n",
       "      <th>PDeaths</th>\n",
       "      <th>Cases (+)</th>\n",
       "      <th>Deaths (+)</th>\n",
       "      <th>Fatality Rate</th>\n",
       "      <th>Continent</th>\n",
       "    </tr>\n",
       "  </thead>\n",
       "  <tbody>\n",
       "    <tr>\n",
       "      <th>0</th>\n",
       "      <td>US</td>\n",
       "      <td>52098906</td>\n",
       "      <td>816533</td>\n",
       "      <td>51966735</td>\n",
       "      <td>816436</td>\n",
       "      <td>132171</td>\n",
       "      <td>97</td>\n",
       "      <td>1.6</td>\n",
       "      <td>North America</td>\n",
       "    </tr>\n",
       "    <tr>\n",
       "      <th>1</th>\n",
       "      <td>India</td>\n",
       "      <td>34786802</td>\n",
       "      <td>479682</td>\n",
       "      <td>34779815</td>\n",
       "      <td>479520</td>\n",
       "      <td>6987</td>\n",
       "      <td>162</td>\n",
       "      <td>1.4</td>\n",
       "      <td>Asia</td>\n",
       "    </tr>\n",
       "    <tr>\n",
       "      <th>2</th>\n",
       "      <td>Brazil</td>\n",
       "      <td>22238297</td>\n",
       "      <td>618686</td>\n",
       "      <td>22234623</td>\n",
       "      <td>618655</td>\n",
       "      <td>3674</td>\n",
       "      <td>31</td>\n",
       "      <td>2.8</td>\n",
       "      <td>South America</td>\n",
       "    </tr>\n",
       "    <tr>\n",
       "      <th>3</th>\n",
       "      <td>United Kingdom</td>\n",
       "      <td>11958928</td>\n",
       "      <td>148324</td>\n",
       "      <td>11958841</td>\n",
       "      <td>148324</td>\n",
       "      <td>87</td>\n",
       "      <td>0</td>\n",
       "      <td>1.2</td>\n",
       "      <td>Europe</td>\n",
       "    </tr>\n",
       "    <tr>\n",
       "      <th>4</th>\n",
       "      <td>Russia</td>\n",
       "      <td>10189722</td>\n",
       "      <td>297223</td>\n",
       "      <td>10164951</td>\n",
       "      <td>296268</td>\n",
       "      <td>24771</td>\n",
       "      <td>955</td>\n",
       "      <td>2.9</td>\n",
       "      <td>Europe</td>\n",
       "    </tr>\n",
       "  </tbody>\n",
       "</table>\n",
       "</div>"
      ],
      "text/plain": [
       "   Country/Region     Cases  Deaths    PCases  PDeaths  Cases (+)  Deaths (+)  \\\n",
       "0              US  52098906  816533  51966735   816436     132171          97   \n",
       "1           India  34786802  479682  34779815   479520       6987         162   \n",
       "2          Brazil  22238297  618686  22234623   618655       3674          31   \n",
       "3  United Kingdom  11958928  148324  11958841   148324         87           0   \n",
       "4          Russia  10189722  297223  10164951   296268      24771         955   \n",
       "\n",
       "   Fatality Rate      Continent  \n",
       "0            1.6  North America  \n",
       "1            1.4           Asia  \n",
       "2            2.8  South America  \n",
       "3            1.2         Europe  \n",
       "4            2.9         Europe  "
      ]
     },
     "execution_count": 15,
     "metadata": {},
     "output_type": "execute_result"
    }
   ],
   "source": [
    "#hide\n",
    "df_table = (pd.DataFrame(dict(Cases=dfc_cases, Deaths=dfc_deaths, PCases=dfp_cases, PDeaths=dfp_deaths))\n",
    "             .sort_values(by=['Cases', 'Deaths'], ascending=[False, False])\n",
    "             .reset_index())\n",
    "df_table.rename(columns={'index': 'Country/Region'}, inplace=True)\n",
    "for c in 'Cases, Deaths'.split(', '):\n",
    "    df_table[f'{c} (+)'] = (df_table[c] - df_table[f'P{c}']).clip(0)  # DATA BUG\n",
    "df_table['Fatality Rate'] = (100 * df_table['Deaths'] / df_table['Cases']).round(1)\n",
    "df_table['Continent'] = df_table['Country/Region'].map(mapping['map.continent'])\n",
    "df_table.head(5)"
   ]
  },
  {
   "cell_type": "code",
   "execution_count": 16,
   "id": "fewer-occasion",
   "metadata": {
    "execution": {
     "iopub.execute_input": "2021-12-27T00:27:03.576705Z",
     "iopub.status.busy": "2021-12-27T00:27:03.575833Z",
     "iopub.status.idle": "2021-12-27T00:27:03.578652Z",
     "shell.execute_reply": "2021-12-27T00:27:03.579173Z"
    },
    "papermill": {
     "duration": 0.038359,
     "end_time": "2021-12-27T00:27:03.579290",
     "exception": false,
     "start_time": "2021-12-27T00:27:03.540931",
     "status": "completed"
    },
    "tags": []
   },
   "outputs": [],
   "source": [
    "#hide\n",
    "#delete problematic countries from table\n",
    "df_table = df_table[~df_table['Country/Region'].isin(['Cape Verde', 'Cruise Ship', 'Kosovo'])]"
   ]
  },
  {
   "cell_type": "code",
   "execution_count": 17,
   "id": "related-center",
   "metadata": {
    "execution": {
     "iopub.execute_input": "2021-12-27T00:27:03.652469Z",
     "iopub.status.busy": "2021-12-27T00:27:03.651929Z",
     "iopub.status.idle": "2021-12-27T00:27:03.660083Z",
     "shell.execute_reply": "2021-12-27T00:27:03.659650Z"
    },
    "papermill": {
     "duration": 0.050228,
     "end_time": "2021-12-27T00:27:03.660188",
     "exception": false,
     "start_time": "2021-12-27T00:27:03.609960",
     "status": "completed"
    },
    "tags": []
   },
   "outputs": [],
   "source": [
    "#hide\n",
    "metrics = [df_table.columns[index] for index in [1,2,5,6]]\n",
    "# s_china = df_table[df_table['Country/Region'].eq('China')][metrics].sum().add_prefix('China ')\n",
    "s_us = df_table[df_table['Country/Region'].eq('US')][metrics].sum().add_prefix('US ')\n",
    "s_eu = df_table[df_table['Continent'].eq('Europe')][metrics].sum().add_prefix('EU ')\n",
    "s_ind = df_table[df_table['Country/Region'].eq('India')][metrics].sum().add_prefix('India ')\n",
    "summary = {'updated': pd.to_datetime(dt_today), 'since': pd.to_datetime(dt_yday)}\n",
    "summary = {'updated': pd.to_datetime(dt_today), 'since': pd.to_datetime(dt_yday)}\n",
    "summary = {**summary, **df_table[metrics].sum(), **s_ind, **s_us, **s_eu}"
   ]
  },
  {
   "cell_type": "code",
   "execution_count": 18,
   "id": "engaging-syndrome",
   "metadata": {
    "execution": {
     "iopub.execute_input": "2021-12-27T00:27:03.730444Z",
     "iopub.status.busy": "2021-12-27T00:27:03.729895Z",
     "iopub.status.idle": "2021-12-27T00:27:03.743682Z",
     "shell.execute_reply": "2021-12-27T00:27:03.743148Z"
    },
    "papermill": {
     "duration": 0.051617,
     "end_time": "2021-12-27T00:27:03.743818",
     "exception": false,
     "start_time": "2021-12-27T00:27:03.692201",
     "status": "completed"
    },
    "tags": []
   },
   "outputs": [],
   "source": [
    "#hide\n",
    "dft_ct_new_cases = dft_cases.groupby(COL_REGION)[dt_cols].sum().diff(axis=1).fillna(0).astype(int)"
   ]
  },
  {
   "cell_type": "code",
   "execution_count": 19,
   "id": "neutral-assignment",
   "metadata": {
    "execution": {
     "iopub.execute_input": "2021-12-27T00:27:03.812210Z",
     "iopub.status.busy": "2021-12-27T00:27:03.811662Z",
     "iopub.status.idle": "2021-12-27T00:27:03.814306Z",
     "shell.execute_reply": "2021-12-27T00:27:03.813850Z"
    },
    "papermill": {
     "duration": 0.038835,
     "end_time": "2021-12-27T00:27:03.814411",
     "exception": false,
     "start_time": "2021-12-27T00:27:03.775576",
     "status": "completed"
    },
    "tags": []
   },
   "outputs": [],
   "source": [
    "#hide\n",
    "everydaycases = dft_ct_new_cases.cumsum(axis=1)"
   ]
  },
  {
   "cell_type": "code",
   "execution_count": 20,
   "id": "parliamentary-calgary",
   "metadata": {
    "execution": {
     "iopub.execute_input": "2021-12-27T00:27:03.881794Z",
     "iopub.status.busy": "2021-12-27T00:27:03.881223Z",
     "iopub.status.idle": "2021-12-27T00:27:04.451881Z",
     "shell.execute_reply": "2021-12-27T00:27:04.452313Z"
    },
    "papermill": {
     "duration": 0.60679,
     "end_time": "2021-12-27T00:27:04.452471",
     "exception": false,
     "start_time": "2021-12-27T00:27:03.845681",
     "status": "completed"
    },
    "tags": []
   },
   "outputs": [],
   "source": [
    "#hide\n",
    "import pandas as pd\n",
    "import matplotlib.pyplot as plt\n",
    "import matplotlib.ticker as ticker\n",
    "import matplotlib.animation as animation\n",
    "from IPython.display import HTML"
   ]
  },
  {
   "cell_type": "code",
   "execution_count": 21,
   "id": "lasting-extraction",
   "metadata": {
    "execution": {
     "iopub.execute_input": "2021-12-27T00:27:04.520128Z",
     "iopub.status.busy": "2021-12-27T00:27:04.519607Z",
     "iopub.status.idle": "2021-12-27T00:27:04.526113Z",
     "shell.execute_reply": "2021-12-27T00:27:04.526661Z"
    },
    "papermill": {
     "duration": 0.04295,
     "end_time": "2021-12-27T00:27:04.526778",
     "exception": false,
     "start_time": "2021-12-27T00:27:04.483828",
     "status": "completed"
    },
    "tags": []
   },
   "outputs": [],
   "source": [
    "#hide\n",
    "t = everydaycases.stack()"
   ]
  },
  {
   "cell_type": "code",
   "execution_count": 22,
   "id": "premier-sleeve",
   "metadata": {
    "execution": {
     "iopub.execute_input": "2021-12-27T00:27:04.595507Z",
     "iopub.status.busy": "2021-12-27T00:27:04.594769Z",
     "iopub.status.idle": "2021-12-27T00:27:04.605718Z",
     "shell.execute_reply": "2021-12-27T00:27:04.604988Z"
    },
    "papermill": {
     "duration": 0.048114,
     "end_time": "2021-12-27T00:27:04.605836",
     "exception": false,
     "start_time": "2021-12-27T00:27:04.557722",
     "status": "completed"
    },
    "tags": []
   },
   "outputs": [],
   "source": [
    "#hide\n",
    "g = t.reset_index(['Country/Region'])"
   ]
  },
  {
   "cell_type": "code",
   "execution_count": 23,
   "id": "distributed-pittsburgh",
   "metadata": {
    "execution": {
     "iopub.execute_input": "2021-12-27T00:27:04.677773Z",
     "iopub.status.busy": "2021-12-27T00:27:04.677085Z",
     "iopub.status.idle": "2021-12-27T00:27:04.679549Z",
     "shell.execute_reply": "2021-12-27T00:27:04.678911Z"
    },
    "papermill": {
     "duration": 0.039272,
     "end_time": "2021-12-27T00:27:04.679722",
     "exception": false,
     "start_time": "2021-12-27T00:27:04.640450",
     "status": "completed"
    },
    "tags": []
   },
   "outputs": [],
   "source": [
    "#hide\n",
    "g.index.name = 'date'"
   ]
  },
  {
   "cell_type": "code",
   "execution_count": 24,
   "id": "naked-donor",
   "metadata": {
    "execution": {
     "iopub.execute_input": "2021-12-27T00:27:04.755551Z",
     "iopub.status.busy": "2021-12-27T00:27:04.754990Z",
     "iopub.status.idle": "2021-12-27T00:27:04.758147Z",
     "shell.execute_reply": "2021-12-27T00:27:04.757233Z"
    },
    "papermill": {
     "duration": 0.040356,
     "end_time": "2021-12-27T00:27:04.758258",
     "exception": false,
     "start_time": "2021-12-27T00:27:04.717902",
     "status": "completed"
    },
    "tags": []
   },
   "outputs": [],
   "source": [
    "# #hide\n",
    "# g = g.reset_index(['date'])"
   ]
  },
  {
   "cell_type": "code",
   "execution_count": 25,
   "id": "incomplete-mustang",
   "metadata": {
    "execution": {
     "iopub.execute_input": "2021-12-27T00:27:04.826407Z",
     "iopub.status.busy": "2021-12-27T00:27:04.825864Z",
     "iopub.status.idle": "2021-12-27T00:27:04.830306Z",
     "shell.execute_reply": "2021-12-27T00:27:04.830713Z"
    },
    "papermill": {
     "duration": 0.037928,
     "end_time": "2021-12-27T00:27:04.830834",
     "exception": false,
     "start_time": "2021-12-27T00:27:04.792906",
     "status": "completed"
    },
    "tags": []
   },
   "outputs": [],
   "source": [
    "#hide\n",
    "# g.head()"
   ]
  },
  {
   "cell_type": "code",
   "execution_count": 26,
   "id": "specific-kruger",
   "metadata": {
    "execution": {
     "iopub.execute_input": "2021-12-27T00:27:04.896830Z",
     "iopub.status.busy": "2021-12-27T00:27:04.896294Z",
     "iopub.status.idle": "2021-12-27T00:27:04.898335Z",
     "shell.execute_reply": "2021-12-27T00:27:04.898737Z"
    },
    "papermill": {
     "duration": 0.03625,
     "end_time": "2021-12-27T00:27:04.898855",
     "exception": false,
     "start_time": "2021-12-27T00:27:04.862605",
     "status": "completed"
    },
    "tags": []
   },
   "outputs": [],
   "source": [
    "#hide\n",
    "# g.columns = ['date','country','cases']"
   ]
  },
  {
   "cell_type": "code",
   "execution_count": 27,
   "id": "tender-conversion",
   "metadata": {
    "execution": {
     "iopub.execute_input": "2021-12-27T00:27:04.968845Z",
     "iopub.status.busy": "2021-12-27T00:27:04.968204Z",
     "iopub.status.idle": "2021-12-27T00:27:04.971943Z",
     "shell.execute_reply": "2021-12-27T00:27:04.972374Z"
    },
    "papermill": {
     "duration": 0.042378,
     "end_time": "2021-12-27T00:27:04.972510",
     "exception": false,
     "start_time": "2021-12-27T00:27:04.930132",
     "status": "completed"
    },
    "tags": []
   },
   "outputs": [],
   "source": [
    "#hide\n",
    "# g['continent'] = g.country"
   ]
  },
  {
   "cell_type": "code",
   "execution_count": 28,
   "id": "substantial-wilderness",
   "metadata": {
    "execution": {
     "iopub.execute_input": "2021-12-27T00:27:05.051974Z",
     "iopub.status.busy": "2021-12-27T00:27:05.051356Z",
     "iopub.status.idle": "2021-12-27T00:27:05.055098Z",
     "shell.execute_reply": "2021-12-27T00:27:05.055692Z"
    },
    "papermill": {
     "duration": 0.045974,
     "end_time": "2021-12-27T00:27:05.055853",
     "exception": false,
     "start_time": "2021-12-27T00:27:05.009879",
     "status": "completed"
    },
    "tags": []
   },
   "outputs": [],
   "source": [
    "#hide\n",
    "# cols = list(g.columns.values)"
   ]
  },
  {
   "cell_type": "code",
   "execution_count": 29,
   "id": "solved-farming",
   "metadata": {
    "execution": {
     "iopub.execute_input": "2021-12-27T00:27:05.136425Z",
     "iopub.status.busy": "2021-12-27T00:27:05.135677Z",
     "iopub.status.idle": "2021-12-27T00:27:05.137976Z",
     "shell.execute_reply": "2021-12-27T00:27:05.137297Z"
    },
    "papermill": {
     "duration": 0.04615,
     "end_time": "2021-12-27T00:27:05.138122",
     "exception": false,
     "start_time": "2021-12-27T00:27:05.091972",
     "status": "completed"
    },
    "tags": []
   },
   "outputs": [],
   "source": [
    "#hide\n",
    "# cols.insert(0, cols.pop())"
   ]
  },
  {
   "cell_type": "code",
   "execution_count": 30,
   "id": "executed-adoption",
   "metadata": {
    "execution": {
     "iopub.execute_input": "2021-12-27T00:27:05.220477Z",
     "iopub.status.busy": "2021-12-27T00:27:05.219738Z",
     "iopub.status.idle": "2021-12-27T00:27:05.222475Z",
     "shell.execute_reply": "2021-12-27T00:27:05.222019Z"
    },
    "papermill": {
     "duration": 0.042736,
     "end_time": "2021-12-27T00:27:05.222593",
     "exception": false,
     "start_time": "2021-12-27T00:27:05.179857",
     "status": "completed"
    },
    "tags": []
   },
   "outputs": [],
   "source": [
    "#hide\n",
    "# g = g[cols]"
   ]
  },
  {
   "cell_type": "code",
   "execution_count": 31,
   "id": "subject-dublin",
   "metadata": {
    "execution": {
     "iopub.execute_input": "2021-12-27T00:27:05.296795Z",
     "iopub.status.busy": "2021-12-27T00:27:05.296243Z",
     "iopub.status.idle": "2021-12-27T00:27:05.299520Z",
     "shell.execute_reply": "2021-12-27T00:27:05.299943Z"
    },
    "papermill": {
     "duration": 0.042102,
     "end_time": "2021-12-27T00:27:05.300075",
     "exception": false,
     "start_time": "2021-12-27T00:27:05.257973",
     "status": "completed"
    },
    "tags": []
   },
   "outputs": [],
   "source": [
    "#hide\n",
    "# g['continent'] = g['continent'].map(mapping['map.continent'])"
   ]
  },
  {
   "cell_type": "code",
   "execution_count": 32,
   "id": "freelance-scout",
   "metadata": {
    "execution": {
     "iopub.execute_input": "2021-12-27T00:27:05.371154Z",
     "iopub.status.busy": "2021-12-27T00:27:05.370608Z",
     "iopub.status.idle": "2021-12-27T00:27:05.373239Z",
     "shell.execute_reply": "2021-12-27T00:27:05.373706Z"
    },
    "papermill": {
     "duration": 0.038712,
     "end_time": "2021-12-27T00:27:05.373837",
     "exception": false,
     "start_time": "2021-12-27T00:27:05.335125",
     "status": "completed"
    },
    "tags": []
   },
   "outputs": [],
   "source": [
    "#hide\n",
    "# g.head()"
   ]
  },
  {
   "cell_type": "code",
   "execution_count": 33,
   "id": "limited-engine",
   "metadata": {
    "execution": {
     "iopub.execute_input": "2021-12-27T00:27:05.441357Z",
     "iopub.status.busy": "2021-12-27T00:27:05.440828Z",
     "iopub.status.idle": "2021-12-27T00:27:05.442913Z",
     "shell.execute_reply": "2021-12-27T00:27:05.443373Z"
    },
    "papermill": {
     "duration": 0.036953,
     "end_time": "2021-12-27T00:27:05.443489",
     "exception": false,
     "start_time": "2021-12-27T00:27:05.406536",
     "status": "completed"
    },
    "tags": []
   },
   "outputs": [],
   "source": [
    "# hide\n",
    "# g['date'] = g['date'].astype('datetime64[ns]')"
   ]
  },
  {
   "cell_type": "code",
   "execution_count": 34,
   "id": "sophisticated-supervisor",
   "metadata": {
    "execution": {
     "iopub.execute_input": "2021-12-27T00:27:05.508387Z",
     "iopub.status.busy": "2021-12-27T00:27:05.507850Z",
     "iopub.status.idle": "2021-12-27T00:27:05.510004Z",
     "shell.execute_reply": "2021-12-27T00:27:05.510506Z"
    },
    "papermill": {
     "duration": 0.036391,
     "end_time": "2021-12-27T00:27:05.510616",
     "exception": false,
     "start_time": "2021-12-27T00:27:05.474225",
     "status": "completed"
    },
    "tags": []
   },
   "outputs": [],
   "source": [
    "#hide\n",
    "# g['date'] = g.date.dt.dayofyear"
   ]
  },
  {
   "cell_type": "code",
   "execution_count": 35,
   "id": "inside-dubai",
   "metadata": {
    "execution": {
     "iopub.execute_input": "2021-12-27T00:27:05.578039Z",
     "iopub.status.busy": "2021-12-27T00:27:05.577436Z",
     "iopub.status.idle": "2021-12-27T00:27:05.580114Z",
     "shell.execute_reply": "2021-12-27T00:27:05.580539Z"
    },
    "papermill": {
     "duration": 0.036249,
     "end_time": "2021-12-27T00:27:05.580688",
     "exception": false,
     "start_time": "2021-12-27T00:27:05.544439",
     "status": "completed"
    },
    "tags": []
   },
   "outputs": [],
   "source": [
    "#hide\n",
    "# g = g.rename(columns= {'continent':'group','country':'name','cases':'value'})"
   ]
  },
  {
   "cell_type": "code",
   "execution_count": 36,
   "id": "fleet-motorcycle",
   "metadata": {
    "execution": {
     "iopub.execute_input": "2021-12-27T00:27:05.646397Z",
     "iopub.status.busy": "2021-12-27T00:27:05.645879Z",
     "iopub.status.idle": "2021-12-27T00:27:05.647812Z",
     "shell.execute_reply": "2021-12-27T00:27:05.648212Z"
    },
    "papermill": {
     "duration": 0.036632,
     "end_time": "2021-12-27T00:27:05.648326",
     "exception": false,
     "start_time": "2021-12-27T00:27:05.611694",
     "status": "completed"
    },
    "tags": []
   },
   "outputs": [],
   "source": [
    "#hide\n",
    "# cols = ['name','group','day','value']"
   ]
  },
  {
   "cell_type": "code",
   "execution_count": 37,
   "id": "continued-sleeping",
   "metadata": {
    "execution": {
     "iopub.execute_input": "2021-12-27T00:27:05.714225Z",
     "iopub.status.busy": "2021-12-27T00:27:05.713388Z",
     "iopub.status.idle": "2021-12-27T00:27:05.715854Z",
     "shell.execute_reply": "2021-12-27T00:27:05.715365Z"
    },
    "papermill": {
     "duration": 0.037046,
     "end_time": "2021-12-27T00:27:05.715962",
     "exception": false,
     "start_time": "2021-12-27T00:27:05.678916",
     "status": "completed"
    },
    "tags": []
   },
   "outputs": [],
   "source": [
    "#hide\n",
    "# g.rename(columns= {'date':'day'},inplace = True)"
   ]
  },
  {
   "cell_type": "code",
   "execution_count": 38,
   "id": "major-fight",
   "metadata": {
    "execution": {
     "iopub.execute_input": "2021-12-27T00:27:05.781383Z",
     "iopub.status.busy": "2021-12-27T00:27:05.780854Z",
     "iopub.status.idle": "2021-12-27T00:27:05.783073Z",
     "shell.execute_reply": "2021-12-27T00:27:05.782633Z"
    },
    "papermill": {
     "duration": 0.035731,
     "end_time": "2021-12-27T00:27:05.783177",
     "exception": false,
     "start_time": "2021-12-27T00:27:05.747446",
     "status": "completed"
    },
    "tags": []
   },
   "outputs": [],
   "source": [
    "#hide\n",
    "# g = g[cols]"
   ]
  },
  {
   "cell_type": "code",
   "execution_count": 39,
   "id": "structured-mobile",
   "metadata": {
    "execution": {
     "iopub.execute_input": "2021-12-27T00:27:05.848376Z",
     "iopub.status.busy": "2021-12-27T00:27:05.847823Z",
     "iopub.status.idle": "2021-12-27T00:27:05.850185Z",
     "shell.execute_reply": "2021-12-27T00:27:05.849764Z"
    },
    "papermill": {
     "duration": 0.036536,
     "end_time": "2021-12-27T00:27:05.850286",
     "exception": false,
     "start_time": "2021-12-27T00:27:05.813750",
     "status": "completed"
    },
    "tags": []
   },
   "outputs": [],
   "source": [
    "# #hide\n",
    "# g = g[g.group.notna()]"
   ]
  },
  {
   "cell_type": "code",
   "execution_count": 40,
   "id": "determined-closing",
   "metadata": {
    "execution": {
     "iopub.execute_input": "2021-12-27T00:27:05.920760Z",
     "iopub.status.busy": "2021-12-27T00:27:05.920180Z",
     "iopub.status.idle": "2021-12-27T00:27:05.922529Z",
     "shell.execute_reply": "2021-12-27T00:27:05.922015Z"
    },
    "papermill": {
     "duration": 0.036183,
     "end_time": "2021-12-27T00:27:05.922629",
     "exception": false,
     "start_time": "2021-12-27T00:27:05.886446",
     "status": "completed"
    },
    "tags": []
   },
   "outputs": [],
   "source": [
    "# #hide\n",
    "# colors = dict(zip(\n",
    "#     [\"Oceania\", \"Europe\", \"Asia\", \"South America\", \"Middle East\", \"North America\", \"Africa\"],\n",
    "#     [\"#adb0ff\", \"#ffb3ff\", \"#90d595\", \"#e48381\", \"#aafbff\", \"#f7bb5f\", \"#eafb50\"]\n",
    "# ))\n",
    "# group_lk = g.set_index('name')['group'].to_dict()"
   ]
  },
  {
   "cell_type": "code",
   "execution_count": null,
   "id": "gross-drinking",
   "metadata": {
    "papermill": {
     "duration": 0.03079,
     "end_time": "2021-12-27T00:27:05.983995",
     "exception": false,
     "start_time": "2021-12-27T00:27:05.953205",
     "status": "completed"
    },
    "tags": []
   },
   "outputs": [],
   "source": []
  },
  {
   "cell_type": "code",
   "execution_count": 41,
   "id": "subject-macintosh",
   "metadata": {
    "execution": {
     "iopub.execute_input": "2021-12-27T00:27:06.053214Z",
     "iopub.status.busy": "2021-12-27T00:27:06.052630Z",
     "iopub.status.idle": "2021-12-27T00:27:06.054922Z",
     "shell.execute_reply": "2021-12-27T00:27:06.054479Z"
    },
    "papermill": {
     "duration": 0.040083,
     "end_time": "2021-12-27T00:27:06.055022",
     "exception": false,
     "start_time": "2021-12-27T00:27:06.014939",
     "status": "completed"
    },
    "tags": []
   },
   "outputs": [],
   "source": [
    "# #hide\n",
    "# fig, ax = plt.subplots(figsize=(15, 8))\n",
    "\n",
    "# def draw_barchart(current_day):\n",
    "#     dff = g[g['day'].eq(current_day)].sort_values(by='value', ascending=True).tail(10)\n",
    "#     ax.clear()\n",
    "#     ax.barh(dff['name'], dff['value'], color=[colors[group_lk[x]] for x in dff['name']])\n",
    "#     dx = dff['value'].max() / 200\n",
    "    \n",
    "#     for i, (value, name) in enumerate(zip(dff['value'], dff['name'])):\n",
    "#         ax.text(value-dx, i,     name,           size=14, weight=600, ha='right', va='bottom')\n",
    "#         ax.text(value-dx, i-.25, group_lk[name], size=10, color='#444444', ha='right', va='baseline')\n",
    "#         ax.text(value+dx, i,     f'{value:,.0f}',  size=14, ha='left',  va='center')\n",
    "#     ax.text(1, 0.4, current_day, transform=ax.transAxes, color='#777777', size=46, ha='right', weight=800)\n",
    "#     ax.text(0, 1.06, 'Population (thousands)', transform=ax.transAxes, size=12, color='#777777')\n",
    "#     ax.xaxis.set_major_formatter(ticker.StrMethodFormatter('{x:,.0f}'))\n",
    "#     ax.xaxis.set_ticks_position('top')\n",
    "#     ax.tick_params(axis='x', colors='#777777', labelsize=12)\n",
    "#     ax.set_yticks([])\n",
    "#     ax.margins(0, 0.01)\n",
    "#     ax.grid(which='major', axis='x', linestyle='-')\n",
    "#     ax.set_axisbelow(True)\n",
    "    \n",
    "#     ax.text(0, 1.15, 'Coronavirus',\n",
    "#             transform=ax.transAxes, size=24, weight=600, ha='left', va='top')\n",
    "# #     ax.text(1, 0, 'by @pratapvardhan; credit @jburnmurdoch', transform=ax.transAxes, color='#777777', ha='right',\n",
    "# #             bbox=dict(facecolor='white', alpha=0.8, edgecolor='white'))\n",
    "#     plt.box(False)"
   ]
  },
  {
   "cell_type": "code",
   "execution_count": 42,
   "id": "sexual-wages",
   "metadata": {
    "execution": {
     "iopub.execute_input": "2021-12-27T00:27:06.121627Z",
     "iopub.status.busy": "2021-12-27T00:27:06.121047Z",
     "iopub.status.idle": "2021-12-27T00:27:06.124345Z",
     "shell.execute_reply": "2021-12-27T00:27:06.123875Z"
    },
    "papermill": {
     "duration": 0.037105,
     "end_time": "2021-12-27T00:27:06.124453",
     "exception": false,
     "start_time": "2021-12-27T00:27:06.087348",
     "status": "completed"
    },
    "tags": []
   },
   "outputs": [],
   "source": [
    "# #hide_input\n",
    "# fig, ax = plt.subplots(figsize=(15, 8))\n",
    "# animator = animation.FuncAnimation(fig, draw_barchart, frames=range(g.day.values.min(), g.day.values.max()))\n",
    "# HTML(animator.to_jshtml())\n",
    "# # or use animator.to_html5_video() or animator.save() "
   ]
  },
  {
   "cell_type": "code",
   "execution_count": null,
   "id": "australian-container",
   "metadata": {
    "papermill": {
     "duration": 0.030719,
     "end_time": "2021-12-27T00:27:06.186692",
     "exception": false,
     "start_time": "2021-12-27T00:27:06.155973",
     "status": "completed"
    },
    "tags": []
   },
   "outputs": [],
   "source": []
  },
  {
   "cell_type": "code",
   "execution_count": null,
   "id": "mediterranean-pontiac",
   "metadata": {
    "papermill": {
     "duration": 0.030486,
     "end_time": "2021-12-27T00:27:06.248478",
     "exception": false,
     "start_time": "2021-12-27T00:27:06.217992",
     "status": "completed"
    },
    "tags": []
   },
   "outputs": [],
   "source": []
  },
  {
   "cell_type": "code",
   "execution_count": null,
   "id": "aging-legislature",
   "metadata": {
    "papermill": {
     "duration": 0.030366,
     "end_time": "2021-12-27T00:27:06.309646",
     "exception": false,
     "start_time": "2021-12-27T00:27:06.279280",
     "status": "completed"
    },
    "tags": []
   },
   "outputs": [],
   "source": []
  }
 ],
 "metadata": {
  "kernelspec": {
   "display_name": "Python 3",
   "language": "python",
   "name": "python3"
  },
  "language_info": {
   "codemirror_mode": {
    "name": "ipython",
    "version": 3
   },
   "file_extension": ".py",
   "mimetype": "text/x-python",
   "name": "python",
   "nbconvert_exporter": "python",
   "pygments_lexer": "ipython3",
   "version": "3.6.15"
  },
  "papermill": {
   "duration": 6.001086,
   "end_time": "2021-12-27T00:27:06.648916",
   "environment_variables": {},
   "exception": null,
   "input_path": "2020-03-21-covid19exp.ipynb",
   "output_path": "2020-03-21-covid19exp.ipynb",
   "parameters": {},
   "start_time": "2021-12-27T00:27:00.647830",
   "version": "2.0.0"
  }
 },
 "nbformat": 4,
 "nbformat_minor": 5
}