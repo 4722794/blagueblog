{
 "cells": [
  {
   "cell_type": "markdown",
   "id": "muslim-click",
   "metadata": {
    "papermill": {
     "duration": 0.035458,
     "end_time": "2022-08-26T00:49:05.302238",
     "exception": false,
     "start_time": "2022-08-26T00:49:05.266780",
     "status": "completed"
    },
    "tags": []
   },
   "source": [
    "# COVID-19 Case Race\n",
    "> A race chart to see rising cases around the world\n",
    "\n",
    "- author: Hargun Oberoi\n",
    "- image: images/covid-overview.png\n",
    "- hide: false\n",
    "- badges: false"
   ]
  },
  {
   "cell_type": "code",
   "execution_count": 1,
   "id": "proof-material",
   "metadata": {
    "execution": {
     "iopub.execute_input": "2022-08-26T00:49:05.371446Z",
     "iopub.status.busy": "2022-08-26T00:49:05.370843Z",
     "iopub.status.idle": "2022-08-26T00:49:05.698734Z",
     "shell.execute_reply": "2022-08-26T00:49:05.697613Z"
    },
    "papermill": {
     "duration": 0.367002,
     "end_time": "2022-08-26T00:49:05.698898",
     "exception": false,
     "start_time": "2022-08-26T00:49:05.331896",
     "status": "completed"
    },
    "tags": []
   },
   "outputs": [],
   "source": [
    "#hide\n",
    "import numpy as np\n",
    "import pandas as pd\n",
    "from jinja2 import Template\n",
    "from IPython.display import HTML"
   ]
  },
  {
   "cell_type": "code",
   "execution_count": 2,
   "id": "developed-terminology",
   "metadata": {
    "execution": {
     "iopub.execute_input": "2022-08-26T00:49:05.761673Z",
     "iopub.status.busy": "2022-08-26T00:49:05.761001Z",
     "iopub.status.idle": "2022-08-26T00:49:05.762933Z",
     "shell.execute_reply": "2022-08-26T00:49:05.763372Z"
    },
    "papermill": {
     "duration": 0.035414,
     "end_time": "2022-08-26T00:49:05.763497",
     "exception": false,
     "start_time": "2022-08-26T00:49:05.728083",
     "status": "completed"
    },
    "tags": []
   },
   "outputs": [],
   "source": [
    "#hide\n",
    "\n",
    "# FETCH\n",
    "base_url = 'https://raw.githubusercontent.com/pratapvardhan/notebooks/master/covid19/'\n",
    "paths = {\n",
    "    'mapping': base_url + 'mapping_countries.csv',\n",
    "    'overview': base_url + 'overview.tpl'\n",
    "}"
   ]
  },
  {
   "cell_type": "code",
   "execution_count": 3,
   "id": "dynamic-saver",
   "metadata": {
    "execution": {
     "iopub.execute_input": "2022-08-26T00:49:05.830154Z",
     "iopub.status.busy": "2022-08-26T00:49:05.829576Z",
     "iopub.status.idle": "2022-08-26T00:49:05.832763Z",
     "shell.execute_reply": "2022-08-26T00:49:05.833211Z"
    },
    "papermill": {
     "duration": 0.041302,
     "end_time": "2022-08-26T00:49:05.833337",
     "exception": false,
     "start_time": "2022-08-26T00:49:05.792035",
     "status": "completed"
    },
    "tags": []
   },
   "outputs": [
    {
     "data": {
      "text/plain": [
       "'https://raw.githubusercontent.com/pratapvardhan/notebooks/master/covid19/mapping_countries.csv'"
      ]
     },
     "execution_count": 3,
     "metadata": {},
     "output_type": "execute_result"
    }
   ],
   "source": [
    "#hide\n",
    "paths['mapping']"
   ]
  },
  {
   "cell_type": "code",
   "execution_count": 4,
   "id": "urban-software",
   "metadata": {
    "execution": {
     "iopub.execute_input": "2022-08-26T00:49:05.894152Z",
     "iopub.status.busy": "2022-08-26T00:49:05.893579Z",
     "iopub.status.idle": "2022-08-26T00:49:05.899382Z",
     "shell.execute_reply": "2022-08-26T00:49:05.898908Z"
    },
    "papermill": {
     "duration": 0.037025,
     "end_time": "2022-08-26T00:49:05.899487",
     "exception": false,
     "start_time": "2022-08-26T00:49:05.862462",
     "status": "completed"
    },
    "tags": []
   },
   "outputs": [],
   "source": [
    "#hide\n",
    "def get_mappings(url):\n",
    "    df = pd.read_csv(url)\n",
    "    return {\n",
    "        'df': df,\n",
    "        'replace.country': dict(df.dropna(subset=['Name']).set_index('Country')['Name']),\n",
    "        'map.continent': dict(df.set_index('Name')['Continent'])\n",
    "    }"
   ]
  },
  {
   "cell_type": "code",
   "execution_count": 5,
   "id": "intimate-machinery",
   "metadata": {
    "execution": {
     "iopub.execute_input": "2022-08-26T00:49:05.962554Z",
     "iopub.status.busy": "2022-08-26T00:49:05.961978Z",
     "iopub.status.idle": "2022-08-26T00:49:06.026289Z",
     "shell.execute_reply": "2022-08-26T00:49:06.025754Z"
    },
    "papermill": {
     "duration": 0.098027,
     "end_time": "2022-08-26T00:49:06.026396",
     "exception": false,
     "start_time": "2022-08-26T00:49:05.928369",
     "status": "completed"
    },
    "tags": []
   },
   "outputs": [],
   "source": [
    "#hide\n",
    "mapping = get_mappings(paths['mapping'])"
   ]
  },
  {
   "cell_type": "code",
   "execution_count": 6,
   "id": "certified-tactics",
   "metadata": {
    "execution": {
     "iopub.execute_input": "2022-08-26T00:49:06.090680Z",
     "iopub.status.busy": "2022-08-26T00:49:06.090044Z",
     "iopub.status.idle": "2022-08-26T00:49:06.092704Z",
     "shell.execute_reply": "2022-08-26T00:49:06.092209Z"
    },
    "papermill": {
     "duration": 0.03737,
     "end_time": "2022-08-26T00:49:06.092824",
     "exception": false,
     "start_time": "2022-08-26T00:49:06.055454",
     "status": "completed"
    },
    "tags": []
   },
   "outputs": [],
   "source": [
    "#hide\n",
    "def get_template(path):\n",
    "    from urllib.parse import urlparse\n",
    "    if bool(urlparse(path).netloc):\n",
    "        from urllib.request import urlopen\n",
    "        return urlopen(path).read().decode('utf8')\n",
    "    return open(path).read()"
   ]
  },
  {
   "cell_type": "code",
   "execution_count": 7,
   "id": "realistic-blast",
   "metadata": {
    "execution": {
     "iopub.execute_input": "2022-08-26T00:49:06.156132Z",
     "iopub.status.busy": "2022-08-26T00:49:06.155552Z",
     "iopub.status.idle": "2022-08-26T00:49:06.157601Z",
     "shell.execute_reply": "2022-08-26T00:49:06.158151Z"
    },
    "papermill": {
     "duration": 0.036459,
     "end_time": "2022-08-26T00:49:06.158279",
     "exception": false,
     "start_time": "2022-08-26T00:49:06.121820",
     "status": "completed"
    },
    "tags": []
   },
   "outputs": [],
   "source": [
    "#hide\n",
    "def get_frame(name):\n",
    "    url = (\n",
    "        'https://raw.githubusercontent.com/CSSEGISandData/COVID-19/master/csse_covid_19_data/'\n",
    "        f'csse_covid_19_time_series/time_series_covid19_{name}_global.csv')\n",
    "    df = pd.read_csv(url)\n",
    "    # rename countries\n",
    "    df['Country/Region'] = df['Country/Region'].replace(mapping['replace.country'])\n",
    "    return df"
   ]
  },
  {
   "cell_type": "code",
   "execution_count": 8,
   "id": "affiliated-characterization",
   "metadata": {
    "execution": {
     "iopub.execute_input": "2022-08-26T00:49:06.222234Z",
     "iopub.status.busy": "2022-08-26T00:49:06.221655Z",
     "iopub.status.idle": "2022-08-26T00:49:06.224120Z",
     "shell.execute_reply": "2022-08-26T00:49:06.223658Z"
    },
    "papermill": {
     "duration": 0.036729,
     "end_time": "2022-08-26T00:49:06.224223",
     "exception": false,
     "start_time": "2022-08-26T00:49:06.187494",
     "status": "completed"
    },
    "tags": []
   },
   "outputs": [],
   "source": [
    "#hide\n",
    "def get_dates(df):\n",
    "    dt_cols = df.columns[~df.columns.isin(['Province/State', 'Country/Region', 'Lat', 'Long'])]\n",
    "    LAST_DATE_I = -1\n",
    "    # sometimes last column may be empty, then go backwards\n",
    "    for i in range(-1, -len(dt_cols), -1):\n",
    "        if not df[dt_cols[i]].fillna(0).eq(0).all():\n",
    "            LAST_DATE_I = i\n",
    "            break\n",
    "    return LAST_DATE_I, dt_cols"
   ]
  },
  {
   "cell_type": "code",
   "execution_count": 9,
   "id": "recent-optimization",
   "metadata": {
    "execution": {
     "iopub.execute_input": "2022-08-26T00:49:06.286450Z",
     "iopub.status.busy": "2022-08-26T00:49:06.285856Z",
     "iopub.status.idle": "2022-08-26T00:49:06.940818Z",
     "shell.execute_reply": "2022-08-26T00:49:06.939511Z"
    },
    "papermill": {
     "duration": 0.688094,
     "end_time": "2022-08-26T00:49:06.940968",
     "exception": false,
     "start_time": "2022-08-26T00:49:06.252874",
     "status": "completed"
    },
    "tags": []
   },
   "outputs": [],
   "source": [
    "#hide\n",
    "COL_REGION = 'Country/Region'\n",
    "# Confirmed, Recovered, Deaths\n",
    "df = get_frame('confirmed')\n",
    "# dft_: timeseries, dfc_: today country agg\n",
    "dft_cases = df\n",
    "dft_deaths = get_frame('deaths')\n",
    "dft_recovered = get_frame('recovered')\n",
    "LAST_DATE_I, dt_cols = get_dates(df)"
   ]
  },
  {
   "cell_type": "code",
   "execution_count": 10,
   "id": "absolute-copper",
   "metadata": {
    "execution": {
     "iopub.execute_input": "2022-08-26T00:49:07.007053Z",
     "iopub.status.busy": "2022-08-26T00:49:07.006381Z",
     "iopub.status.idle": "2022-08-26T00:49:07.008841Z",
     "shell.execute_reply": "2022-08-26T00:49:07.008279Z"
    },
    "papermill": {
     "duration": 0.036754,
     "end_time": "2022-08-26T00:49:07.008970",
     "exception": false,
     "start_time": "2022-08-26T00:49:06.972216",
     "status": "completed"
    },
    "tags": []
   },
   "outputs": [],
   "source": [
    "#hide\n",
    "LAST_DATE_I, dt_cols = get_dates(df)\n",
    "dt_today =dt_cols[LAST_DATE_I]\n",
    "# dt_5day = dt_cols[LAST_DATE_I - 5]\n",
    "dt_yday = dt_cols[LAST_DATE_I - 1]"
   ]
  },
  {
   "cell_type": "code",
   "execution_count": 11,
   "id": "restricted-sheriff",
   "metadata": {
    "execution": {
     "iopub.execute_input": "2022-08-26T00:49:07.072533Z",
     "iopub.status.busy": "2022-08-26T00:49:07.071958Z",
     "iopub.status.idle": "2022-08-26T00:49:07.079819Z",
     "shell.execute_reply": "2022-08-26T00:49:07.080353Z"
    },
    "papermill": {
     "duration": 0.042394,
     "end_time": "2022-08-26T00:49:07.080483",
     "exception": false,
     "start_time": "2022-08-26T00:49:07.038089",
     "status": "completed"
    },
    "tags": []
   },
   "outputs": [],
   "source": [
    "#hide\n",
    "dfc_cases = dft_cases.groupby(COL_REGION)[dt_today].sum()\n",
    "dfc_deaths = dft_deaths.groupby(COL_REGION)[dt_today].sum()\n",
    "# dfp_cases = dft_cases.groupby(COL_REGION)[dt_5day].sum()\n",
    "# dfp_deaths = dft_deaths.groupby(COL_REGION)[dt_5day].sum()\n",
    "dfp_cases = dft_cases.groupby(COL_REGION)[dt_yday].sum()\n",
    "dfp_deaths = dft_deaths.groupby(COL_REGION)[dt_yday].sum()"
   ]
  },
  {
   "cell_type": "code",
   "execution_count": 12,
   "id": "deluxe-hepatitis",
   "metadata": {
    "execution": {
     "iopub.execute_input": "2022-08-26T00:49:07.143920Z",
     "iopub.status.busy": "2022-08-26T00:49:07.143354Z",
     "iopub.status.idle": "2022-08-26T00:49:07.147642Z",
     "shell.execute_reply": "2022-08-26T00:49:07.148186Z"
    },
    "papermill": {
     "duration": 0.038928,
     "end_time": "2022-08-26T00:49:07.148307",
     "exception": false,
     "start_time": "2022-08-26T00:49:07.109379",
     "status": "completed"
    },
    "tags": []
   },
   "outputs": [],
   "source": [
    "#hide\n",
    "df_table = (pd.DataFrame(dict(Cases = dfc_cases, Deaths = dfc_deaths, PCases = dfp_cases, PDeaths = dfp_deaths))\n",
    "            .sort_values(by = ['Cases','Deaths'], ascending = [False, False])\n",
    "            .reset_index())"
   ]
  },
  {
   "cell_type": "code",
   "execution_count": 13,
   "id": "educational-chancellor",
   "metadata": {
    "execution": {
     "iopub.execute_input": "2022-08-26T00:49:07.224206Z",
     "iopub.status.busy": "2022-08-26T00:49:07.223636Z",
     "iopub.status.idle": "2022-08-26T00:49:07.232493Z",
     "shell.execute_reply": "2022-08-26T00:49:07.232031Z"
    },
    "papermill": {
     "duration": 0.0548,
     "end_time": "2022-08-26T00:49:07.232597",
     "exception": false,
     "start_time": "2022-08-26T00:49:07.177797",
     "status": "completed"
    },
    "tags": []
   },
   "outputs": [
    {
     "data": {
      "text/html": [
       "<div>\n",
       "<style scoped>\n",
       "    .dataframe tbody tr th:only-of-type {\n",
       "        vertical-align: middle;\n",
       "    }\n",
       "\n",
       "    .dataframe tbody tr th {\n",
       "        vertical-align: top;\n",
       "    }\n",
       "\n",
       "    .dataframe thead th {\n",
       "        text-align: right;\n",
       "    }\n",
       "</style>\n",
       "<table border=\"1\" class=\"dataframe\">\n",
       "  <thead>\n",
       "    <tr style=\"text-align: right;\">\n",
       "      <th></th>\n",
       "      <th>Country/Region</th>\n",
       "      <th>Cases</th>\n",
       "      <th>Deaths</th>\n",
       "      <th>PCases</th>\n",
       "      <th>PDeaths</th>\n",
       "      <th>Cases (+)</th>\n",
       "      <th>Deaths (+)</th>\n",
       "      <th>Fatality Rate</th>\n",
       "      <th>Continent</th>\n",
       "    </tr>\n",
       "  </thead>\n",
       "  <tbody>\n",
       "    <tr>\n",
       "      <th>0</th>\n",
       "      <td>US</td>\n",
       "      <td>93903884</td>\n",
       "      <td>1042494</td>\n",
       "      <td>93752912</td>\n",
       "      <td>1041561</td>\n",
       "      <td>150972</td>\n",
       "      <td>933</td>\n",
       "      <td>1.11</td>\n",
       "      <td>North America</td>\n",
       "    </tr>\n",
       "    <tr>\n",
       "      <th>1</th>\n",
       "      <td>India</td>\n",
       "      <td>44378920</td>\n",
       "      <td>527488</td>\n",
       "      <td>44368195</td>\n",
       "      <td>527452</td>\n",
       "      <td>10725</td>\n",
       "      <td>36</td>\n",
       "      <td>1.19</td>\n",
       "      <td>Asia</td>\n",
       "    </tr>\n",
       "    <tr>\n",
       "      <th>2</th>\n",
       "      <td>France</td>\n",
       "      <td>34624825</td>\n",
       "      <td>154802</td>\n",
       "      <td>34603400</td>\n",
       "      <td>154745</td>\n",
       "      <td>21425</td>\n",
       "      <td>57</td>\n",
       "      <td>0.45</td>\n",
       "      <td>Europe</td>\n",
       "    </tr>\n",
       "    <tr>\n",
       "      <th>3</th>\n",
       "      <td>Brazil</td>\n",
       "      <td>34329600</td>\n",
       "      <td>683076</td>\n",
       "      <td>34284864</td>\n",
       "      <td>682549</td>\n",
       "      <td>44736</td>\n",
       "      <td>527</td>\n",
       "      <td>1.99</td>\n",
       "      <td>South America</td>\n",
       "    </tr>\n",
       "    <tr>\n",
       "      <th>4</th>\n",
       "      <td>Germany</td>\n",
       "      <td>31921578</td>\n",
       "      <td>146797</td>\n",
       "      <td>31921578</td>\n",
       "      <td>146797</td>\n",
       "      <td>0</td>\n",
       "      <td>0</td>\n",
       "      <td>0.46</td>\n",
       "      <td>Europe</td>\n",
       "    </tr>\n",
       "  </tbody>\n",
       "</table>\n",
       "</div>"
      ],
      "text/plain": [
       "  Country/Region     Cases   Deaths    PCases  PDeaths  Cases (+)  Deaths (+)  \\\n",
       "0             US  93903884  1042494  93752912  1041561     150972         933   \n",
       "1          India  44378920   527488  44368195   527452      10725          36   \n",
       "2         France  34624825   154802  34603400   154745      21425          57   \n",
       "3         Brazil  34329600   683076  34284864   682549      44736         527   \n",
       "4        Germany  31921578   146797  31921578   146797          0           0   \n",
       "\n",
       "   Fatality Rate      Continent  \n",
       "0           1.11  North America  \n",
       "1           1.19           Asia  \n",
       "2           0.45         Europe  \n",
       "3           1.99  South America  \n",
       "4           0.46         Europe  "
      ]
     },
     "execution_count": 13,
     "metadata": {},
     "output_type": "execute_result"
    }
   ],
   "source": [
    "#hide\n",
    "for c in 'Cases, Deaths'.split(', '):\n",
    "    df_table[f'{c} (+)'] = (df_table[c] - df_table[f'P{c}']).clip(0)\n",
    "    #Clip ça veut dire, les chiffres negatif sont interdit\n",
    "df_table['Fatality Rate'] = (100* df_table['Deaths']/ df_table['Cases']).round(2)\n",
    "df_table['Continent'] = df_table['Country/Region'].map(mapping['map.continent'])\n",
    "df_table.head(5)"
   ]
  },
  {
   "cell_type": "code",
   "execution_count": 14,
   "id": "aboriginal-bulgaria",
   "metadata": {
    "execution": {
     "iopub.execute_input": "2022-08-26T00:49:07.296197Z",
     "iopub.status.busy": "2022-08-26T00:49:07.295634Z",
     "iopub.status.idle": "2022-08-26T00:49:07.298592Z",
     "shell.execute_reply": "2022-08-26T00:49:07.299171Z"
    },
    "papermill": {
     "duration": 0.037199,
     "end_time": "2022-08-26T00:49:07.299289",
     "exception": false,
     "start_time": "2022-08-26T00:49:07.262090",
     "status": "completed"
    },
    "tags": []
   },
   "outputs": [],
   "source": [
    "#hide\n",
    "#delete problematic countries from table\n",
    "df_table = df_table[~df_table['Country/Region'].isin(['Cape Verde', 'Cruise Ship', 'Kosovo'])]"
   ]
  },
  {
   "cell_type": "code",
   "execution_count": 15,
   "id": "fantastic-effect",
   "metadata": {
    "execution": {
     "iopub.execute_input": "2022-08-26T00:49:07.365803Z",
     "iopub.status.busy": "2022-08-26T00:49:07.365236Z",
     "iopub.status.idle": "2022-08-26T00:49:07.383726Z",
     "shell.execute_reply": "2022-08-26T00:49:07.383093Z"
    },
    "papermill": {
     "duration": 0.055418,
     "end_time": "2022-08-26T00:49:07.383845",
     "exception": false,
     "start_time": "2022-08-26T00:49:07.328427",
     "status": "completed"
    },
    "tags": []
   },
   "outputs": [
    {
     "data": {
      "text/html": [
       "<div>\n",
       "<style scoped>\n",
       "    .dataframe tbody tr th:only-of-type {\n",
       "        vertical-align: middle;\n",
       "    }\n",
       "\n",
       "    .dataframe tbody tr th {\n",
       "        vertical-align: top;\n",
       "    }\n",
       "\n",
       "    .dataframe thead th {\n",
       "        text-align: right;\n",
       "    }\n",
       "</style>\n",
       "<table border=\"1\" class=\"dataframe\">\n",
       "  <thead>\n",
       "    <tr style=\"text-align: right;\">\n",
       "      <th></th>\n",
       "      <th>Country/Region</th>\n",
       "      <th>Cases</th>\n",
       "      <th>Deaths</th>\n",
       "      <th>PCases</th>\n",
       "      <th>PDeaths</th>\n",
       "      <th>Cases (+)</th>\n",
       "      <th>Deaths (+)</th>\n",
       "      <th>Fatality Rate</th>\n",
       "      <th>Continent</th>\n",
       "    </tr>\n",
       "  </thead>\n",
       "  <tbody>\n",
       "    <tr>\n",
       "      <th>0</th>\n",
       "      <td>US</td>\n",
       "      <td>93903884</td>\n",
       "      <td>1042494</td>\n",
       "      <td>93752912</td>\n",
       "      <td>1041561</td>\n",
       "      <td>150972</td>\n",
       "      <td>933</td>\n",
       "      <td>1.1</td>\n",
       "      <td>North America</td>\n",
       "    </tr>\n",
       "    <tr>\n",
       "      <th>1</th>\n",
       "      <td>India</td>\n",
       "      <td>44378920</td>\n",
       "      <td>527488</td>\n",
       "      <td>44368195</td>\n",
       "      <td>527452</td>\n",
       "      <td>10725</td>\n",
       "      <td>36</td>\n",
       "      <td>1.2</td>\n",
       "      <td>Asia</td>\n",
       "    </tr>\n",
       "    <tr>\n",
       "      <th>2</th>\n",
       "      <td>France</td>\n",
       "      <td>34624825</td>\n",
       "      <td>154802</td>\n",
       "      <td>34603400</td>\n",
       "      <td>154745</td>\n",
       "      <td>21425</td>\n",
       "      <td>57</td>\n",
       "      <td>0.4</td>\n",
       "      <td>Europe</td>\n",
       "    </tr>\n",
       "    <tr>\n",
       "      <th>3</th>\n",
       "      <td>Brazil</td>\n",
       "      <td>34329600</td>\n",
       "      <td>683076</td>\n",
       "      <td>34284864</td>\n",
       "      <td>682549</td>\n",
       "      <td>44736</td>\n",
       "      <td>527</td>\n",
       "      <td>2.0</td>\n",
       "      <td>South America</td>\n",
       "    </tr>\n",
       "    <tr>\n",
       "      <th>4</th>\n",
       "      <td>Germany</td>\n",
       "      <td>31921578</td>\n",
       "      <td>146797</td>\n",
       "      <td>31921578</td>\n",
       "      <td>146797</td>\n",
       "      <td>0</td>\n",
       "      <td>0</td>\n",
       "      <td>0.5</td>\n",
       "      <td>Europe</td>\n",
       "    </tr>\n",
       "  </tbody>\n",
       "</table>\n",
       "</div>"
      ],
      "text/plain": [
       "  Country/Region     Cases   Deaths    PCases  PDeaths  Cases (+)  Deaths (+)  \\\n",
       "0             US  93903884  1042494  93752912  1041561     150972         933   \n",
       "1          India  44378920   527488  44368195   527452      10725          36   \n",
       "2         France  34624825   154802  34603400   154745      21425          57   \n",
       "3         Brazil  34329600   683076  34284864   682549      44736         527   \n",
       "4        Germany  31921578   146797  31921578   146797          0           0   \n",
       "\n",
       "   Fatality Rate      Continent  \n",
       "0            1.1  North America  \n",
       "1            1.2           Asia  \n",
       "2            0.4         Europe  \n",
       "3            2.0  South America  \n",
       "4            0.5         Europe  "
      ]
     },
     "execution_count": 15,
     "metadata": {},
     "output_type": "execute_result"
    }
   ],
   "source": [
    "#hide\n",
    "df_table = (pd.DataFrame(dict(Cases=dfc_cases, Deaths=dfc_deaths, PCases=dfp_cases, PDeaths=dfp_deaths))\n",
    "             .sort_values(by=['Cases', 'Deaths'], ascending=[False, False])\n",
    "             .reset_index())\n",
    "df_table.rename(columns={'index': 'Country/Region'}, inplace=True)\n",
    "for c in 'Cases, Deaths'.split(', '):\n",
    "    df_table[f'{c} (+)'] = (df_table[c] - df_table[f'P{c}']).clip(0)  # DATA BUG\n",
    "df_table['Fatality Rate'] = (100 * df_table['Deaths'] / df_table['Cases']).round(1)\n",
    "df_table['Continent'] = df_table['Country/Region'].map(mapping['map.continent'])\n",
    "df_table.head(5)"
   ]
  },
  {
   "cell_type": "code",
   "execution_count": 16,
   "id": "fewer-occasion",
   "metadata": {
    "execution": {
     "iopub.execute_input": "2022-08-26T00:49:07.449218Z",
     "iopub.status.busy": "2022-08-26T00:49:07.448610Z",
     "iopub.status.idle": "2022-08-26T00:49:07.452345Z",
     "shell.execute_reply": "2022-08-26T00:49:07.451881Z"
    },
    "papermill": {
     "duration": 0.037931,
     "end_time": "2022-08-26T00:49:07.452450",
     "exception": false,
     "start_time": "2022-08-26T00:49:07.414519",
     "status": "completed"
    },
    "tags": []
   },
   "outputs": [],
   "source": [
    "#hide\n",
    "#delete problematic countries from table\n",
    "df_table = df_table[~df_table['Country/Region'].isin(['Cape Verde', 'Cruise Ship', 'Kosovo'])]"
   ]
  },
  {
   "cell_type": "code",
   "execution_count": 17,
   "id": "related-center",
   "metadata": {
    "execution": {
     "iopub.execute_input": "2022-08-26T00:49:07.518896Z",
     "iopub.status.busy": "2022-08-26T00:49:07.518328Z",
     "iopub.status.idle": "2022-08-26T00:49:07.532419Z",
     "shell.execute_reply": "2022-08-26T00:49:07.531956Z"
    },
    "papermill": {
     "duration": 0.050286,
     "end_time": "2022-08-26T00:49:07.532528",
     "exception": false,
     "start_time": "2022-08-26T00:49:07.482242",
     "status": "completed"
    },
    "tags": []
   },
   "outputs": [],
   "source": [
    "#hide\n",
    "metrics = [df_table.columns[index] for index in [1,2,5,6]]\n",
    "# s_china = df_table[df_table['Country/Region'].eq('China')][metrics].sum().add_prefix('China ')\n",
    "s_us = df_table[df_table['Country/Region'].eq('US')][metrics].sum().add_prefix('US ')\n",
    "s_eu = df_table[df_table['Continent'].eq('Europe')][metrics].sum().add_prefix('EU ')\n",
    "s_ind = df_table[df_table['Country/Region'].eq('India')][metrics].sum().add_prefix('India ')\n",
    "summary = {'updated': pd.to_datetime(dt_today), 'since': pd.to_datetime(dt_yday)}\n",
    "summary = {'updated': pd.to_datetime(dt_today), 'since': pd.to_datetime(dt_yday)}\n",
    "summary = {**summary, **df_table[metrics].sum(), **s_ind, **s_us, **s_eu}"
   ]
  },
  {
   "cell_type": "code",
   "execution_count": 18,
   "id": "engaging-syndrome",
   "metadata": {
    "execution": {
     "iopub.execute_input": "2022-08-26T00:49:07.596993Z",
     "iopub.status.busy": "2022-08-26T00:49:07.596403Z",
     "iopub.status.idle": "2022-08-26T00:49:07.618675Z",
     "shell.execute_reply": "2022-08-26T00:49:07.618198Z"
    },
    "papermill": {
     "duration": 0.056325,
     "end_time": "2022-08-26T00:49:07.618798",
     "exception": false,
     "start_time": "2022-08-26T00:49:07.562473",
     "status": "completed"
    },
    "tags": []
   },
   "outputs": [],
   "source": [
    "#hide\n",
    "dft_ct_new_cases = dft_cases.groupby(COL_REGION)[dt_cols].sum().diff(axis=1).fillna(0).astype(int)"
   ]
  },
  {
   "cell_type": "code",
   "execution_count": 19,
   "id": "neutral-assignment",
   "metadata": {
    "execution": {
     "iopub.execute_input": "2022-08-26T00:49:07.685223Z",
     "iopub.status.busy": "2022-08-26T00:49:07.684604Z",
     "iopub.status.idle": "2022-08-26T00:49:07.687053Z",
     "shell.execute_reply": "2022-08-26T00:49:07.687492Z"
    },
    "papermill": {
     "duration": 0.038576,
     "end_time": "2022-08-26T00:49:07.687615",
     "exception": false,
     "start_time": "2022-08-26T00:49:07.649039",
     "status": "completed"
    },
    "tags": []
   },
   "outputs": [],
   "source": [
    "#hide\n",
    "everydaycases = dft_ct_new_cases.cumsum(axis=1)"
   ]
  },
  {
   "cell_type": "code",
   "execution_count": 20,
   "id": "parliamentary-calgary",
   "metadata": {
    "execution": {
     "iopub.execute_input": "2022-08-26T00:49:07.753520Z",
     "iopub.status.busy": "2022-08-26T00:49:07.752910Z",
     "iopub.status.idle": "2022-08-26T00:49:08.304024Z",
     "shell.execute_reply": "2022-08-26T00:49:08.303443Z"
    },
    "papermill": {
     "duration": 0.586343,
     "end_time": "2022-08-26T00:49:08.304168",
     "exception": false,
     "start_time": "2022-08-26T00:49:07.717825",
     "status": "completed"
    },
    "tags": []
   },
   "outputs": [],
   "source": [
    "#hide\n",
    "import pandas as pd\n",
    "import matplotlib.pyplot as plt\n",
    "import matplotlib.ticker as ticker\n",
    "import matplotlib.animation as animation\n",
    "from IPython.display import HTML"
   ]
  },
  {
   "cell_type": "code",
   "execution_count": 21,
   "id": "lasting-extraction",
   "metadata": {
    "execution": {
     "iopub.execute_input": "2022-08-26T00:49:08.372456Z",
     "iopub.status.busy": "2022-08-26T00:49:08.371858Z",
     "iopub.status.idle": "2022-08-26T00:49:08.379457Z",
     "shell.execute_reply": "2022-08-26T00:49:08.380014Z"
    },
    "papermill": {
     "duration": 0.04569,
     "end_time": "2022-08-26T00:49:08.380151",
     "exception": false,
     "start_time": "2022-08-26T00:49:08.334461",
     "status": "completed"
    },
    "tags": []
   },
   "outputs": [],
   "source": [
    "#hide\n",
    "t = everydaycases.stack()"
   ]
  },
  {
   "cell_type": "code",
   "execution_count": 22,
   "id": "premier-sleeve",
   "metadata": {
    "execution": {
     "iopub.execute_input": "2022-08-26T00:49:08.444562Z",
     "iopub.status.busy": "2022-08-26T00:49:08.443985Z",
     "iopub.status.idle": "2022-08-26T00:49:08.456044Z",
     "shell.execute_reply": "2022-08-26T00:49:08.456605Z"
    },
    "papermill": {
     "duration": 0.046565,
     "end_time": "2022-08-26T00:49:08.456768",
     "exception": false,
     "start_time": "2022-08-26T00:49:08.410203",
     "status": "completed"
    },
    "tags": []
   },
   "outputs": [],
   "source": [
    "#hide\n",
    "g = t.reset_index(['Country/Region'])"
   ]
  },
  {
   "cell_type": "code",
   "execution_count": 23,
   "id": "distributed-pittsburgh",
   "metadata": {
    "execution": {
     "iopub.execute_input": "2022-08-26T00:49:08.521332Z",
     "iopub.status.busy": "2022-08-26T00:49:08.520612Z",
     "iopub.status.idle": "2022-08-26T00:49:08.524076Z",
     "shell.execute_reply": "2022-08-26T00:49:08.523510Z"
    },
    "papermill": {
     "duration": 0.037441,
     "end_time": "2022-08-26T00:49:08.524202",
     "exception": false,
     "start_time": "2022-08-26T00:49:08.486761",
     "status": "completed"
    },
    "tags": []
   },
   "outputs": [],
   "source": [
    "#hide\n",
    "g.index.name = 'date'"
   ]
  },
  {
   "cell_type": "code",
   "execution_count": 24,
   "id": "naked-donor",
   "metadata": {
    "execution": {
     "iopub.execute_input": "2022-08-26T00:49:08.588366Z",
     "iopub.status.busy": "2022-08-26T00:49:08.587710Z",
     "iopub.status.idle": "2022-08-26T00:49:08.591678Z",
     "shell.execute_reply": "2022-08-26T00:49:08.591210Z"
    },
    "papermill": {
     "duration": 0.037184,
     "end_time": "2022-08-26T00:49:08.591786",
     "exception": false,
     "start_time": "2022-08-26T00:49:08.554602",
     "status": "completed"
    },
    "tags": []
   },
   "outputs": [],
   "source": [
    "# #hide\n",
    "# g = g.reset_index(['date'])"
   ]
  },
  {
   "cell_type": "code",
   "execution_count": 25,
   "id": "incomplete-mustang",
   "metadata": {
    "execution": {
     "iopub.execute_input": "2022-08-26T00:49:08.656111Z",
     "iopub.status.busy": "2022-08-26T00:49:08.655462Z",
     "iopub.status.idle": "2022-08-26T00:49:08.658064Z",
     "shell.execute_reply": "2022-08-26T00:49:08.657562Z"
    },
    "papermill": {
     "duration": 0.035582,
     "end_time": "2022-08-26T00:49:08.658183",
     "exception": false,
     "start_time": "2022-08-26T00:49:08.622601",
     "status": "completed"
    },
    "tags": []
   },
   "outputs": [],
   "source": [
    "#hide\n",
    "# g.head()"
   ]
  },
  {
   "cell_type": "code",
   "execution_count": 26,
   "id": "specific-kruger",
   "metadata": {
    "execution": {
     "iopub.execute_input": "2022-08-26T00:49:08.721739Z",
     "iopub.status.busy": "2022-08-26T00:49:08.721068Z",
     "iopub.status.idle": "2022-08-26T00:49:08.723480Z",
     "shell.execute_reply": "2022-08-26T00:49:08.723040Z"
    },
    "papermill": {
     "duration": 0.035237,
     "end_time": "2022-08-26T00:49:08.723587",
     "exception": false,
     "start_time": "2022-08-26T00:49:08.688350",
     "status": "completed"
    },
    "tags": []
   },
   "outputs": [],
   "source": [
    "#hide\n",
    "# g.columns = ['date','country','cases']"
   ]
  },
  {
   "cell_type": "code",
   "execution_count": 27,
   "id": "tender-conversion",
   "metadata": {
    "execution": {
     "iopub.execute_input": "2022-08-26T00:49:08.788465Z",
     "iopub.status.busy": "2022-08-26T00:49:08.787874Z",
     "iopub.status.idle": "2022-08-26T00:49:08.790485Z",
     "shell.execute_reply": "2022-08-26T00:49:08.791022Z"
    },
    "papermill": {
     "duration": 0.037345,
     "end_time": "2022-08-26T00:49:08.791154",
     "exception": false,
     "start_time": "2022-08-26T00:49:08.753809",
     "status": "completed"
    },
    "tags": []
   },
   "outputs": [],
   "source": [
    "#hide\n",
    "# g['continent'] = g.country"
   ]
  },
  {
   "cell_type": "code",
   "execution_count": 28,
   "id": "substantial-wilderness",
   "metadata": {
    "execution": {
     "iopub.execute_input": "2022-08-26T00:49:08.857081Z",
     "iopub.status.busy": "2022-08-26T00:49:08.856372Z",
     "iopub.status.idle": "2022-08-26T00:49:08.859282Z",
     "shell.execute_reply": "2022-08-26T00:49:08.858640Z"
    },
    "papermill": {
     "duration": 0.037334,
     "end_time": "2022-08-26T00:49:08.859402",
     "exception": false,
     "start_time": "2022-08-26T00:49:08.822068",
     "status": "completed"
    },
    "tags": []
   },
   "outputs": [],
   "source": [
    "#hide\n",
    "# cols = list(g.columns.values)"
   ]
  },
  {
   "cell_type": "code",
   "execution_count": 29,
   "id": "solved-farming",
   "metadata": {
    "execution": {
     "iopub.execute_input": "2022-08-26T00:49:08.923265Z",
     "iopub.status.busy": "2022-08-26T00:49:08.922610Z",
     "iopub.status.idle": "2022-08-26T00:49:08.925142Z",
     "shell.execute_reply": "2022-08-26T00:49:08.924642Z"
    },
    "papermill": {
     "duration": 0.035528,
     "end_time": "2022-08-26T00:49:08.925252",
     "exception": false,
     "start_time": "2022-08-26T00:49:08.889724",
     "status": "completed"
    },
    "tags": []
   },
   "outputs": [],
   "source": [
    "#hide\n",
    "# cols.insert(0, cols.pop())"
   ]
  },
  {
   "cell_type": "code",
   "execution_count": 30,
   "id": "executed-adoption",
   "metadata": {
    "execution": {
     "iopub.execute_input": "2022-08-26T00:49:08.988620Z",
     "iopub.status.busy": "2022-08-26T00:49:08.987960Z",
     "iopub.status.idle": "2022-08-26T00:49:08.992711Z",
     "shell.execute_reply": "2022-08-26T00:49:08.992134Z"
    },
    "papermill": {
     "duration": 0.037752,
     "end_time": "2022-08-26T00:49:08.992839",
     "exception": false,
     "start_time": "2022-08-26T00:49:08.955087",
     "status": "completed"
    },
    "tags": []
   },
   "outputs": [],
   "source": [
    "#hide\n",
    "# g = g[cols]"
   ]
  },
  {
   "cell_type": "code",
   "execution_count": 31,
   "id": "subject-dublin",
   "metadata": {
    "execution": {
     "iopub.execute_input": "2022-08-26T00:49:09.056482Z",
     "iopub.status.busy": "2022-08-26T00:49:09.055802Z",
     "iopub.status.idle": "2022-08-26T00:49:09.059505Z",
     "shell.execute_reply": "2022-08-26T00:49:09.059925Z"
    },
    "papermill": {
     "duration": 0.037265,
     "end_time": "2022-08-26T00:49:09.060057",
     "exception": false,
     "start_time": "2022-08-26T00:49:09.022792",
     "status": "completed"
    },
    "tags": []
   },
   "outputs": [],
   "source": [
    "#hide\n",
    "# g['continent'] = g['continent'].map(mapping['map.continent'])"
   ]
  },
  {
   "cell_type": "code",
   "execution_count": 32,
   "id": "freelance-scout",
   "metadata": {
    "execution": {
     "iopub.execute_input": "2022-08-26T00:49:09.123911Z",
     "iopub.status.busy": "2022-08-26T00:49:09.123255Z",
     "iopub.status.idle": "2022-08-26T00:49:09.125511Z",
     "shell.execute_reply": "2022-08-26T00:49:09.124870Z"
    },
    "papermill": {
     "duration": 0.035594,
     "end_time": "2022-08-26T00:49:09.125632",
     "exception": false,
     "start_time": "2022-08-26T00:49:09.090038",
     "status": "completed"
    },
    "tags": []
   },
   "outputs": [],
   "source": [
    "#hide\n",
    "# g.head()"
   ]
  },
  {
   "cell_type": "code",
   "execution_count": 33,
   "id": "limited-engine",
   "metadata": {
    "execution": {
     "iopub.execute_input": "2022-08-26T00:49:09.189362Z",
     "iopub.status.busy": "2022-08-26T00:49:09.188766Z",
     "iopub.status.idle": "2022-08-26T00:49:09.190932Z",
     "shell.execute_reply": "2022-08-26T00:49:09.191379Z"
    },
    "papermill": {
     "duration": 0.035914,
     "end_time": "2022-08-26T00:49:09.191507",
     "exception": false,
     "start_time": "2022-08-26T00:49:09.155593",
     "status": "completed"
    },
    "tags": []
   },
   "outputs": [],
   "source": [
    "# hide\n",
    "# g['date'] = g['date'].astype('datetime64[ns]')"
   ]
  },
  {
   "cell_type": "code",
   "execution_count": 34,
   "id": "sophisticated-supervisor",
   "metadata": {
    "execution": {
     "iopub.execute_input": "2022-08-26T00:49:09.255972Z",
     "iopub.status.busy": "2022-08-26T00:49:09.255293Z",
     "iopub.status.idle": "2022-08-26T00:49:09.258944Z",
     "shell.execute_reply": "2022-08-26T00:49:09.259452Z"
    },
    "papermill": {
     "duration": 0.037801,
     "end_time": "2022-08-26T00:49:09.259596",
     "exception": false,
     "start_time": "2022-08-26T00:49:09.221795",
     "status": "completed"
    },
    "tags": []
   },
   "outputs": [],
   "source": [
    "#hide\n",
    "# g['date'] = g.date.dt.dayofyear"
   ]
  },
  {
   "cell_type": "code",
   "execution_count": 35,
   "id": "inside-dubai",
   "metadata": {
    "execution": {
     "iopub.execute_input": "2022-08-26T00:49:09.322970Z",
     "iopub.status.busy": "2022-08-26T00:49:09.322400Z",
     "iopub.status.idle": "2022-08-26T00:49:09.325054Z",
     "shell.execute_reply": "2022-08-26T00:49:09.324467Z"
    },
    "papermill": {
     "duration": 0.035452,
     "end_time": "2022-08-26T00:49:09.325162",
     "exception": false,
     "start_time": "2022-08-26T00:49:09.289710",
     "status": "completed"
    },
    "tags": []
   },
   "outputs": [],
   "source": [
    "#hide\n",
    "# g = g.rename(columns= {'continent':'group','country':'name','cases':'value'})"
   ]
  },
  {
   "cell_type": "code",
   "execution_count": 36,
   "id": "fleet-motorcycle",
   "metadata": {
    "execution": {
     "iopub.execute_input": "2022-08-26T00:49:09.388189Z",
     "iopub.status.busy": "2022-08-26T00:49:09.387618Z",
     "iopub.status.idle": "2022-08-26T00:49:09.390392Z",
     "shell.execute_reply": "2022-08-26T00:49:09.389930Z"
    },
    "papermill": {
     "duration": 0.035495,
     "end_time": "2022-08-26T00:49:09.390495",
     "exception": false,
     "start_time": "2022-08-26T00:49:09.355000",
     "status": "completed"
    },
    "tags": []
   },
   "outputs": [],
   "source": [
    "#hide\n",
    "# cols = ['name','group','day','value']"
   ]
  },
  {
   "cell_type": "code",
   "execution_count": 37,
   "id": "continued-sleeping",
   "metadata": {
    "execution": {
     "iopub.execute_input": "2022-08-26T00:49:09.453899Z",
     "iopub.status.busy": "2022-08-26T00:49:09.453244Z",
     "iopub.status.idle": "2022-08-26T00:49:09.457055Z",
     "shell.execute_reply": "2022-08-26T00:49:09.456522Z"
    },
    "papermill": {
     "duration": 0.036805,
     "end_time": "2022-08-26T00:49:09.457163",
     "exception": false,
     "start_time": "2022-08-26T00:49:09.420358",
     "status": "completed"
    },
    "tags": []
   },
   "outputs": [],
   "source": [
    "#hide\n",
    "# g.rename(columns= {'date':'day'},inplace = True)"
   ]
  },
  {
   "cell_type": "code",
   "execution_count": 38,
   "id": "major-fight",
   "metadata": {
    "execution": {
     "iopub.execute_input": "2022-08-26T00:49:09.520269Z",
     "iopub.status.busy": "2022-08-26T00:49:09.519705Z",
     "iopub.status.idle": "2022-08-26T00:49:09.522495Z",
     "shell.execute_reply": "2022-08-26T00:49:09.522032Z"
    },
    "papermill": {
     "duration": 0.035625,
     "end_time": "2022-08-26T00:49:09.522598",
     "exception": false,
     "start_time": "2022-08-26T00:49:09.486973",
     "status": "completed"
    },
    "tags": []
   },
   "outputs": [],
   "source": [
    "#hide\n",
    "# g = g[cols]"
   ]
  },
  {
   "cell_type": "code",
   "execution_count": 39,
   "id": "structured-mobile",
   "metadata": {
    "execution": {
     "iopub.execute_input": "2022-08-26T00:49:09.586096Z",
     "iopub.status.busy": "2022-08-26T00:49:09.585420Z",
     "iopub.status.idle": "2022-08-26T00:49:09.587733Z",
     "shell.execute_reply": "2022-08-26T00:49:09.587170Z"
    },
    "papermill": {
     "duration": 0.035575,
     "end_time": "2022-08-26T00:49:09.587842",
     "exception": false,
     "start_time": "2022-08-26T00:49:09.552267",
     "status": "completed"
    },
    "tags": []
   },
   "outputs": [],
   "source": [
    "# #hide\n",
    "# g = g[g.group.notna()]"
   ]
  },
  {
   "cell_type": "code",
   "execution_count": 40,
   "id": "determined-closing",
   "metadata": {
    "execution": {
     "iopub.execute_input": "2022-08-26T00:49:09.651541Z",
     "iopub.status.busy": "2022-08-26T00:49:09.650870Z",
     "iopub.status.idle": "2022-08-26T00:49:09.653381Z",
     "shell.execute_reply": "2022-08-26T00:49:09.652731Z"
    },
    "papermill": {
     "duration": 0.035535,
     "end_time": "2022-08-26T00:49:09.653498",
     "exception": false,
     "start_time": "2022-08-26T00:49:09.617963",
     "status": "completed"
    },
    "tags": []
   },
   "outputs": [],
   "source": [
    "# #hide\n",
    "# colors = dict(zip(\n",
    "#     [\"Oceania\", \"Europe\", \"Asia\", \"South America\", \"Middle East\", \"North America\", \"Africa\"],\n",
    "#     [\"#adb0ff\", \"#ffb3ff\", \"#90d595\", \"#e48381\", \"#aafbff\", \"#f7bb5f\", \"#eafb50\"]\n",
    "# ))\n",
    "# group_lk = g.set_index('name')['group'].to_dict()"
   ]
  },
  {
   "cell_type": "code",
   "execution_count": null,
   "id": "gross-drinking",
   "metadata": {
    "papermill": {
     "duration": 0.029996,
     "end_time": "2022-08-26T00:49:09.713636",
     "exception": false,
     "start_time": "2022-08-26T00:49:09.683640",
     "status": "completed"
    },
    "tags": []
   },
   "outputs": [],
   "source": []
  },
  {
   "cell_type": "code",
   "execution_count": 41,
   "id": "subject-macintosh",
   "metadata": {
    "execution": {
     "iopub.execute_input": "2022-08-26T00:49:09.778600Z",
     "iopub.status.busy": "2022-08-26T00:49:09.777884Z",
     "iopub.status.idle": "2022-08-26T00:49:09.780337Z",
     "shell.execute_reply": "2022-08-26T00:49:09.779860Z"
    },
    "papermill": {
     "duration": 0.03688,
     "end_time": "2022-08-26T00:49:09.780446",
     "exception": false,
     "start_time": "2022-08-26T00:49:09.743566",
     "status": "completed"
    },
    "tags": []
   },
   "outputs": [],
   "source": [
    "# #hide\n",
    "# fig, ax = plt.subplots(figsize=(15, 8))\n",
    "\n",
    "# def draw_barchart(current_day):\n",
    "#     dff = g[g['day'].eq(current_day)].sort_values(by='value', ascending=True).tail(10)\n",
    "#     ax.clear()\n",
    "#     ax.barh(dff['name'], dff['value'], color=[colors[group_lk[x]] for x in dff['name']])\n",
    "#     dx = dff['value'].max() / 200\n",
    "    \n",
    "#     for i, (value, name) in enumerate(zip(dff['value'], dff['name'])):\n",
    "#         ax.text(value-dx, i,     name,           size=14, weight=600, ha='right', va='bottom')\n",
    "#         ax.text(value-dx, i-.25, group_lk[name], size=10, color='#444444', ha='right', va='baseline')\n",
    "#         ax.text(value+dx, i,     f'{value:,.0f}',  size=14, ha='left',  va='center')\n",
    "#     ax.text(1, 0.4, current_day, transform=ax.transAxes, color='#777777', size=46, ha='right', weight=800)\n",
    "#     ax.text(0, 1.06, 'Population (thousands)', transform=ax.transAxes, size=12, color='#777777')\n",
    "#     ax.xaxis.set_major_formatter(ticker.StrMethodFormatter('{x:,.0f}'))\n",
    "#     ax.xaxis.set_ticks_position('top')\n",
    "#     ax.tick_params(axis='x', colors='#777777', labelsize=12)\n",
    "#     ax.set_yticks([])\n",
    "#     ax.margins(0, 0.01)\n",
    "#     ax.grid(which='major', axis='x', linestyle='-')\n",
    "#     ax.set_axisbelow(True)\n",
    "    \n",
    "#     ax.text(0, 1.15, 'Coronavirus',\n",
    "#             transform=ax.transAxes, size=24, weight=600, ha='left', va='top')\n",
    "# #     ax.text(1, 0, 'by @pratapvardhan; credit @jburnmurdoch', transform=ax.transAxes, color='#777777', ha='right',\n",
    "# #             bbox=dict(facecolor='white', alpha=0.8, edgecolor='white'))\n",
    "#     plt.box(False)"
   ]
  },
  {
   "cell_type": "code",
   "execution_count": 42,
   "id": "sexual-wages",
   "metadata": {
    "execution": {
     "iopub.execute_input": "2022-08-26T00:49:09.843925Z",
     "iopub.status.busy": "2022-08-26T00:49:09.843262Z",
     "iopub.status.idle": "2022-08-26T00:49:09.846828Z",
     "shell.execute_reply": "2022-08-26T00:49:09.847335Z"
    },
    "papermill": {
     "duration": 0.037186,
     "end_time": "2022-08-26T00:49:09.847471",
     "exception": false,
     "start_time": "2022-08-26T00:49:09.810285",
     "status": "completed"
    },
    "tags": []
   },
   "outputs": [],
   "source": [
    "# #hide_input\n",
    "# fig, ax = plt.subplots(figsize=(15, 8))\n",
    "# animator = animation.FuncAnimation(fig, draw_barchart, frames=range(g.day.values.min(), g.day.values.max()))\n",
    "# HTML(animator.to_jshtml())\n",
    "# # or use animator.to_html5_video() or animator.save() "
   ]
  },
  {
   "cell_type": "code",
   "execution_count": null,
   "id": "australian-container",
   "metadata": {
    "papermill": {
     "duration": 0.029732,
     "end_time": "2022-08-26T00:49:09.908782",
     "exception": false,
     "start_time": "2022-08-26T00:49:09.879050",
     "status": "completed"
    },
    "tags": []
   },
   "outputs": [],
   "source": []
  },
  {
   "cell_type": "code",
   "execution_count": null,
   "id": "mediterranean-pontiac",
   "metadata": {
    "papermill": {
     "duration": 0.029687,
     "end_time": "2022-08-26T00:49:09.968228",
     "exception": false,
     "start_time": "2022-08-26T00:49:09.938541",
     "status": "completed"
    },
    "tags": []
   },
   "outputs": [],
   "source": []
  },
  {
   "cell_type": "code",
   "execution_count": null,
   "id": "aging-legislature",
   "metadata": {
    "papermill": {
     "duration": 0.029663,
     "end_time": "2022-08-26T00:49:10.027889",
     "exception": false,
     "start_time": "2022-08-26T00:49:09.998226",
     "status": "completed"
    },
    "tags": []
   },
   "outputs": [],
   "source": []
  }
 ],
 "metadata": {
  "kernelspec": {
   "display_name": "Python 3",
   "language": "python",
   "name": "python3"
  },
  "language_info": {
   "codemirror_mode": {
    "name": "ipython",
    "version": 3
   },
   "file_extension": ".py",
   "mimetype": "text/x-python",
   "name": "python",
   "nbconvert_exporter": "python",
   "pygments_lexer": "ipython3",
   "version": "3.6.15"
  },
  "papermill": {
   "duration": 6.058665,
   "end_time": "2022-08-26T00:49:10.375992",
   "environment_variables": {},
   "exception": null,
   "input_path": "2020-03-21-covid19exp.ipynb",
   "output_path": "2020-03-21-covid19exp.ipynb",
   "parameters": {},
   "start_time": "2022-08-26T00:49:04.317327",
   "version": "2.0.0"
  }
 },
 "nbformat": 4,
 "nbformat_minor": 5
}