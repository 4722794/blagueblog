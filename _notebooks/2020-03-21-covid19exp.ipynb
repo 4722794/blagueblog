{
 "cells": [
  {
   "cell_type": "markdown",
   "id": "muslim-click",
   "metadata": {
    "papermill": {
     "duration": 0.03796,
     "end_time": "2021-03-05T00:12:05.174488",
     "exception": false,
     "start_time": "2021-03-05T00:12:05.136528",
     "status": "completed"
    },
    "tags": []
   },
   "source": [
    "# COVID-19 Case Race\n",
    "> A race chart to see rising cases around the world\n",
    "\n",
    "- author: Hargun Oberoi\n",
    "- image: images/covid-overview.png\n",
    "- hide: false\n",
    "- badges: false"
   ]
  },
  {
   "cell_type": "code",
   "execution_count": 1,
   "id": "proof-material",
   "metadata": {
    "execution": {
     "iopub.execute_input": "2021-03-05T00:12:05.251763Z",
     "iopub.status.busy": "2021-03-05T00:12:05.251168Z",
     "iopub.status.idle": "2021-03-05T00:12:05.589998Z",
     "shell.execute_reply": "2021-03-05T00:12:05.590874Z"
    },
    "papermill": {
     "duration": 0.384691,
     "end_time": "2021-03-05T00:12:05.591156",
     "exception": false,
     "start_time": "2021-03-05T00:12:05.206465",
     "status": "completed"
    },
    "tags": []
   },
   "outputs": [],
   "source": [
    "#hide\n",
    "import numpy as np\n",
    "import pandas as pd\n",
    "from jinja2 import Template\n",
    "from IPython.display import HTML"
   ]
  },
  {
   "cell_type": "code",
   "execution_count": 2,
   "id": "developed-terminology",
   "metadata": {
    "execution": {
     "iopub.execute_input": "2021-03-05T00:12:05.665630Z",
     "iopub.status.busy": "2021-03-05T00:12:05.665077Z",
     "iopub.status.idle": "2021-03-05T00:12:05.667309Z",
     "shell.execute_reply": "2021-03-05T00:12:05.667872Z"
    },
    "papermill": {
     "duration": 0.041178,
     "end_time": "2021-03-05T00:12:05.668014",
     "exception": false,
     "start_time": "2021-03-05T00:12:05.626836",
     "status": "completed"
    },
    "tags": []
   },
   "outputs": [],
   "source": [
    "#hide\n",
    "\n",
    "# FETCH\n",
    "base_url = 'https://raw.githubusercontent.com/pratapvardhan/notebooks/master/covid19/'\n",
    "paths = {\n",
    "    'mapping': base_url + 'mapping_countries.csv',\n",
    "    'overview': base_url + 'overview.tpl'\n",
    "}"
   ]
  },
  {
   "cell_type": "code",
   "execution_count": 3,
   "id": "dynamic-saver",
   "metadata": {
    "execution": {
     "iopub.execute_input": "2021-03-05T00:12:05.743591Z",
     "iopub.status.busy": "2021-03-05T00:12:05.743008Z",
     "iopub.status.idle": "2021-03-05T00:12:05.745695Z",
     "shell.execute_reply": "2021-03-05T00:12:05.746274Z"
    },
    "papermill": {
     "duration": 0.045873,
     "end_time": "2021-03-05T00:12:05.746419",
     "exception": false,
     "start_time": "2021-03-05T00:12:05.700546",
     "status": "completed"
    },
    "tags": []
   },
   "outputs": [
    {
     "data": {
      "text/plain": [
       "'https://raw.githubusercontent.com/pratapvardhan/notebooks/master/covid19/mapping_countries.csv'"
      ]
     },
     "execution_count": 3,
     "metadata": {},
     "output_type": "execute_result"
    }
   ],
   "source": [
    "#hide\n",
    "paths['mapping']"
   ]
  },
  {
   "cell_type": "code",
   "execution_count": 4,
   "id": "urban-software",
   "metadata": {
    "execution": {
     "iopub.execute_input": "2021-03-05T00:12:05.820452Z",
     "iopub.status.busy": "2021-03-05T00:12:05.819420Z",
     "iopub.status.idle": "2021-03-05T00:12:05.821229Z",
     "shell.execute_reply": "2021-03-05T00:12:05.821657Z"
    },
    "papermill": {
     "duration": 0.042876,
     "end_time": "2021-03-05T00:12:05.821784",
     "exception": false,
     "start_time": "2021-03-05T00:12:05.778908",
     "status": "completed"
    },
    "tags": []
   },
   "outputs": [],
   "source": [
    "#hide\n",
    "def get_mappings(url):\n",
    "    df = pd.read_csv(url)\n",
    "    return {\n",
    "        'df': df,\n",
    "        'replace.country': dict(df.dropna(subset=['Name']).set_index('Country')['Name']),\n",
    "        'map.continent': dict(df.set_index('Name')['Continent'])\n",
    "    }"
   ]
  },
  {
   "cell_type": "code",
   "execution_count": 5,
   "id": "intimate-machinery",
   "metadata": {
    "execution": {
     "iopub.execute_input": "2021-03-05T00:12:05.895227Z",
     "iopub.status.busy": "2021-03-05T00:12:05.894611Z",
     "iopub.status.idle": "2021-03-05T00:12:05.927782Z",
     "shell.execute_reply": "2021-03-05T00:12:05.927002Z"
    },
    "papermill": {
     "duration": 0.072811,
     "end_time": "2021-03-05T00:12:05.927977",
     "exception": false,
     "start_time": "2021-03-05T00:12:05.855166",
     "status": "completed"
    },
    "tags": []
   },
   "outputs": [],
   "source": [
    "#hide\n",
    "mapping = get_mappings(paths['mapping'])"
   ]
  },
  {
   "cell_type": "code",
   "execution_count": 6,
   "id": "certified-tactics",
   "metadata": {
    "execution": {
     "iopub.execute_input": "2021-03-05T00:12:06.004986Z",
     "iopub.status.busy": "2021-03-05T00:12:06.004247Z",
     "iopub.status.idle": "2021-03-05T00:12:06.005607Z",
     "shell.execute_reply": "2021-03-05T00:12:06.006064Z"
    },
    "papermill": {
     "duration": 0.042149,
     "end_time": "2021-03-05T00:12:06.006229",
     "exception": false,
     "start_time": "2021-03-05T00:12:05.964080",
     "status": "completed"
    },
    "tags": []
   },
   "outputs": [],
   "source": [
    "#hide\n",
    "def get_template(path):\n",
    "    from urllib.parse import urlparse\n",
    "    if bool(urlparse(path).netloc):\n",
    "        from urllib.request import urlopen\n",
    "        return urlopen(path).read().decode('utf8')\n",
    "    return open(path).read()"
   ]
  },
  {
   "cell_type": "code",
   "execution_count": 7,
   "id": "realistic-blast",
   "metadata": {
    "execution": {
     "iopub.execute_input": "2021-03-05T00:12:06.075227Z",
     "iopub.status.busy": "2021-03-05T00:12:06.074634Z",
     "iopub.status.idle": "2021-03-05T00:12:06.076406Z",
     "shell.execute_reply": "2021-03-05T00:12:06.076846Z"
    },
    "papermill": {
     "duration": 0.037857,
     "end_time": "2021-03-05T00:12:06.076987",
     "exception": false,
     "start_time": "2021-03-05T00:12:06.039130",
     "status": "completed"
    },
    "tags": []
   },
   "outputs": [],
   "source": [
    "#hide\n",
    "def get_frame(name):\n",
    "    url = (\n",
    "        'https://raw.githubusercontent.com/CSSEGISandData/COVID-19/master/csse_covid_19_data/'\n",
    "        f'csse_covid_19_time_series/time_series_covid19_{name}_global.csv')\n",
    "    df = pd.read_csv(url)\n",
    "    # rename countries\n",
    "    df['Country/Region'] = df['Country/Region'].replace(mapping['replace.country'])\n",
    "    return df"
   ]
  },
  {
   "cell_type": "code",
   "execution_count": 8,
   "id": "affiliated-characterization",
   "metadata": {
    "execution": {
     "iopub.execute_input": "2021-03-05T00:12:06.147478Z",
     "iopub.status.busy": "2021-03-05T00:12:06.146915Z",
     "iopub.status.idle": "2021-03-05T00:12:06.148592Z",
     "shell.execute_reply": "2021-03-05T00:12:06.149033Z"
    },
    "papermill": {
     "duration": 0.039677,
     "end_time": "2021-03-05T00:12:06.149164",
     "exception": false,
     "start_time": "2021-03-05T00:12:06.109487",
     "status": "completed"
    },
    "tags": []
   },
   "outputs": [],
   "source": [
    "#hide\n",
    "def get_dates(df):\n",
    "    dt_cols = df.columns[~df.columns.isin(['Province/State', 'Country/Region', 'Lat', 'Long'])]\n",
    "    LAST_DATE_I = -1\n",
    "    # sometimes last column may be empty, then go backwards\n",
    "    for i in range(-1, -len(dt_cols), -1):\n",
    "        if not df[dt_cols[i]].fillna(0).eq(0).all():\n",
    "            LAST_DATE_I = i\n",
    "            break\n",
    "    return LAST_DATE_I, dt_cols"
   ]
  },
  {
   "cell_type": "code",
   "execution_count": 9,
   "id": "recent-optimization",
   "metadata": {
    "execution": {
     "iopub.execute_input": "2021-03-05T00:12:06.220306Z",
     "iopub.status.busy": "2021-03-05T00:12:06.219714Z",
     "iopub.status.idle": "2021-03-05T00:12:06.461937Z",
     "shell.execute_reply": "2021-03-05T00:12:06.462458Z"
    },
    "papermill": {
     "duration": 0.281265,
     "end_time": "2021-03-05T00:12:06.462623",
     "exception": false,
     "start_time": "2021-03-05T00:12:06.181358",
     "status": "completed"
    },
    "tags": []
   },
   "outputs": [],
   "source": [
    "#hide\n",
    "COL_REGION = 'Country/Region'\n",
    "# Confirmed, Recovered, Deaths\n",
    "df = get_frame('confirmed')\n",
    "# dft_: timeseries, dfc_: today country agg\n",
    "dft_cases = df\n",
    "dft_deaths = get_frame('deaths')\n",
    "dft_recovered = get_frame('recovered')\n",
    "LAST_DATE_I, dt_cols = get_dates(df)"
   ]
  },
  {
   "cell_type": "code",
   "execution_count": 10,
   "id": "absolute-copper",
   "metadata": {
    "execution": {
     "iopub.execute_input": "2021-03-05T00:12:06.539056Z",
     "iopub.status.busy": "2021-03-05T00:12:06.538479Z",
     "iopub.status.idle": "2021-03-05T00:12:06.540692Z",
     "shell.execute_reply": "2021-03-05T00:12:06.541202Z"
    },
    "papermill": {
     "duration": 0.044586,
     "end_time": "2021-03-05T00:12:06.541331",
     "exception": false,
     "start_time": "2021-03-05T00:12:06.496745",
     "status": "completed"
    },
    "tags": []
   },
   "outputs": [],
   "source": [
    "#hide\n",
    "LAST_DATE_I, dt_cols = get_dates(df)\n",
    "dt_today =dt_cols[LAST_DATE_I]\n",
    "# dt_5day = dt_cols[LAST_DATE_I - 5]\n",
    "dt_yday = dt_cols[LAST_DATE_I - 1]"
   ]
  },
  {
   "cell_type": "code",
   "execution_count": 11,
   "id": "restricted-sheriff",
   "metadata": {
    "execution": {
     "iopub.execute_input": "2021-03-05T00:12:06.614777Z",
     "iopub.status.busy": "2021-03-05T00:12:06.614184Z",
     "iopub.status.idle": "2021-03-05T00:12:06.621913Z",
     "shell.execute_reply": "2021-03-05T00:12:06.622348Z"
    },
    "papermill": {
     "duration": 0.048654,
     "end_time": "2021-03-05T00:12:06.622481",
     "exception": false,
     "start_time": "2021-03-05T00:12:06.573827",
     "status": "completed"
    },
    "tags": []
   },
   "outputs": [],
   "source": [
    "#hide\n",
    "dfc_cases = dft_cases.groupby(COL_REGION)[dt_today].sum()\n",
    "dfc_deaths = dft_deaths.groupby(COL_REGION)[dt_today].sum()\n",
    "# dfp_cases = dft_cases.groupby(COL_REGION)[dt_5day].sum()\n",
    "# dfp_deaths = dft_deaths.groupby(COL_REGION)[dt_5day].sum()\n",
    "dfp_cases = dft_cases.groupby(COL_REGION)[dt_yday].sum()\n",
    "dfp_deaths = dft_deaths.groupby(COL_REGION)[dt_yday].sum()"
   ]
  },
  {
   "cell_type": "code",
   "execution_count": 12,
   "id": "deluxe-hepatitis",
   "metadata": {
    "execution": {
     "iopub.execute_input": "2021-03-05T00:12:06.697186Z",
     "iopub.status.busy": "2021-03-05T00:12:06.696599Z",
     "iopub.status.idle": "2021-03-05T00:12:06.701480Z",
     "shell.execute_reply": "2021-03-05T00:12:06.700957Z"
    },
    "papermill": {
     "duration": 0.046775,
     "end_time": "2021-03-05T00:12:06.701603",
     "exception": false,
     "start_time": "2021-03-05T00:12:06.654828",
     "status": "completed"
    },
    "tags": []
   },
   "outputs": [],
   "source": [
    "#hide\n",
    "df_table = (pd.DataFrame(dict(Cases = dfc_cases, Deaths = dfc_deaths, PCases = dfp_cases, PDeaths = dfp_deaths))\n",
    "            .sort_values(by = ['Cases','Deaths'], ascending = [False, False])\n",
    "            .reset_index())"
   ]
  },
  {
   "cell_type": "code",
   "execution_count": 13,
   "id": "educational-chancellor",
   "metadata": {
    "execution": {
     "iopub.execute_input": "2021-03-05T00:12:06.790312Z",
     "iopub.status.busy": "2021-03-05T00:12:06.785666Z",
     "iopub.status.idle": "2021-03-05T00:12:06.797339Z",
     "shell.execute_reply": "2021-03-05T00:12:06.797865Z"
    },
    "papermill": {
     "duration": 0.062783,
     "end_time": "2021-03-05T00:12:06.798005",
     "exception": false,
     "start_time": "2021-03-05T00:12:06.735222",
     "status": "completed"
    },
    "tags": []
   },
   "outputs": [
    {
     "data": {
      "text/html": [
       "<div>\n",
       "<style scoped>\n",
       "    .dataframe tbody tr th:only-of-type {\n",
       "        vertical-align: middle;\n",
       "    }\n",
       "\n",
       "    .dataframe tbody tr th {\n",
       "        vertical-align: top;\n",
       "    }\n",
       "\n",
       "    .dataframe thead th {\n",
       "        text-align: right;\n",
       "    }\n",
       "</style>\n",
       "<table border=\"1\" class=\"dataframe\">\n",
       "  <thead>\n",
       "    <tr style=\"text-align: right;\">\n",
       "      <th></th>\n",
       "      <th>Country/Region</th>\n",
       "      <th>Cases</th>\n",
       "      <th>Deaths</th>\n",
       "      <th>PCases</th>\n",
       "      <th>PDeaths</th>\n",
       "      <th>Cases (+)</th>\n",
       "      <th>Deaths (+)</th>\n",
       "      <th>Fatality Rate</th>\n",
       "      <th>Continent</th>\n",
       "    </tr>\n",
       "  </thead>\n",
       "  <tbody>\n",
       "    <tr>\n",
       "      <th>0</th>\n",
       "      <td>US</td>\n",
       "      <td>28759980</td>\n",
       "      <td>518453</td>\n",
       "      <td>28694071</td>\n",
       "      <td>515985</td>\n",
       "      <td>65909</td>\n",
       "      <td>2468</td>\n",
       "      <td>1.80</td>\n",
       "      <td>North America</td>\n",
       "    </tr>\n",
       "    <tr>\n",
       "      <th>1</th>\n",
       "      <td>India</td>\n",
       "      <td>11156923</td>\n",
       "      <td>157435</td>\n",
       "      <td>11139516</td>\n",
       "      <td>157346</td>\n",
       "      <td>17407</td>\n",
       "      <td>89</td>\n",
       "      <td>1.41</td>\n",
       "      <td>Asia</td>\n",
       "    </tr>\n",
       "    <tr>\n",
       "      <th>2</th>\n",
       "      <td>Brazil</td>\n",
       "      <td>10718630</td>\n",
       "      <td>259271</td>\n",
       "      <td>10646926</td>\n",
       "      <td>257361</td>\n",
       "      <td>71704</td>\n",
       "      <td>1910</td>\n",
       "      <td>2.42</td>\n",
       "      <td>South America</td>\n",
       "    </tr>\n",
       "    <tr>\n",
       "      <th>3</th>\n",
       "      <td>Russia</td>\n",
       "      <td>4230707</td>\n",
       "      <td>85901</td>\n",
       "      <td>4220291</td>\n",
       "      <td>85458</td>\n",
       "      <td>10416</td>\n",
       "      <td>443</td>\n",
       "      <td>2.03</td>\n",
       "      <td>Europe</td>\n",
       "    </tr>\n",
       "    <tr>\n",
       "      <th>4</th>\n",
       "      <td>United Kingdom</td>\n",
       "      <td>4207120</td>\n",
       "      <td>124017</td>\n",
       "      <td>4200700</td>\n",
       "      <td>123530</td>\n",
       "      <td>6420</td>\n",
       "      <td>487</td>\n",
       "      <td>2.95</td>\n",
       "      <td>Europe</td>\n",
       "    </tr>\n",
       "  </tbody>\n",
       "</table>\n",
       "</div>"
      ],
      "text/plain": [
       "   Country/Region     Cases  Deaths    PCases  PDeaths  Cases (+)  Deaths (+)  \\\n",
       "0              US  28759980  518453  28694071   515985      65909        2468   \n",
       "1           India  11156923  157435  11139516   157346      17407          89   \n",
       "2          Brazil  10718630  259271  10646926   257361      71704        1910   \n",
       "3          Russia   4230707   85901   4220291    85458      10416         443   \n",
       "4  United Kingdom   4207120  124017   4200700   123530       6420         487   \n",
       "\n",
       "   Fatality Rate      Continent  \n",
       "0           1.80  North America  \n",
       "1           1.41           Asia  \n",
       "2           2.42  South America  \n",
       "3           2.03         Europe  \n",
       "4           2.95         Europe  "
      ]
     },
     "execution_count": 13,
     "metadata": {},
     "output_type": "execute_result"
    }
   ],
   "source": [
    "#hide\n",
    "for c in 'Cases, Deaths'.split(', '):\n",
    "    df_table[f'{c} (+)'] = (df_table[c] - df_table[f'P{c}']).clip(0)\n",
    "    #Clip ça veut dire, les chiffres negatif sont interdit\n",
    "df_table['Fatality Rate'] = (100* df_table['Deaths']/ df_table['Cases']).round(2)\n",
    "df_table['Continent'] = df_table['Country/Region'].map(mapping['map.continent'])\n",
    "df_table.head(5)"
   ]
  },
  {
   "cell_type": "code",
   "execution_count": 14,
   "id": "aboriginal-bulgaria",
   "metadata": {
    "execution": {
     "iopub.execute_input": "2021-03-05T00:12:06.872595Z",
     "iopub.status.busy": "2021-03-05T00:12:06.871983Z",
     "iopub.status.idle": "2021-03-05T00:12:06.874299Z",
     "shell.execute_reply": "2021-03-05T00:12:06.873814Z"
    },
    "papermill": {
     "duration": 0.042418,
     "end_time": "2021-03-05T00:12:06.874417",
     "exception": false,
     "start_time": "2021-03-05T00:12:06.831999",
     "status": "completed"
    },
    "tags": []
   },
   "outputs": [],
   "source": [
    "#hide\n",
    "#delete problematic countries from table\n",
    "df_table = df_table[~df_table['Country/Region'].isin(['Cape Verde', 'Cruise Ship', 'Kosovo'])]"
   ]
  },
  {
   "cell_type": "code",
   "execution_count": 15,
   "id": "fantastic-effect",
   "metadata": {
    "execution": {
     "iopub.execute_input": "2021-03-05T00:12:06.948444Z",
     "iopub.status.busy": "2021-03-05T00:12:06.947863Z",
     "iopub.status.idle": "2021-03-05T00:12:06.968489Z",
     "shell.execute_reply": "2021-03-05T00:12:06.969168Z"
    },
    "papermill": {
     "duration": 0.062356,
     "end_time": "2021-03-05T00:12:06.969351",
     "exception": false,
     "start_time": "2021-03-05T00:12:06.906995",
     "status": "completed"
    },
    "tags": []
   },
   "outputs": [
    {
     "data": {
      "text/html": [
       "<div>\n",
       "<style scoped>\n",
       "    .dataframe tbody tr th:only-of-type {\n",
       "        vertical-align: middle;\n",
       "    }\n",
       "\n",
       "    .dataframe tbody tr th {\n",
       "        vertical-align: top;\n",
       "    }\n",
       "\n",
       "    .dataframe thead th {\n",
       "        text-align: right;\n",
       "    }\n",
       "</style>\n",
       "<table border=\"1\" class=\"dataframe\">\n",
       "  <thead>\n",
       "    <tr style=\"text-align: right;\">\n",
       "      <th></th>\n",
       "      <th>Country/Region</th>\n",
       "      <th>Cases</th>\n",
       "      <th>Deaths</th>\n",
       "      <th>PCases</th>\n",
       "      <th>PDeaths</th>\n",
       "      <th>Cases (+)</th>\n",
       "      <th>Deaths (+)</th>\n",
       "      <th>Fatality Rate</th>\n",
       "      <th>Continent</th>\n",
       "    </tr>\n",
       "  </thead>\n",
       "  <tbody>\n",
       "    <tr>\n",
       "      <th>0</th>\n",
       "      <td>US</td>\n",
       "      <td>28759980</td>\n",
       "      <td>518453</td>\n",
       "      <td>28694071</td>\n",
       "      <td>515985</td>\n",
       "      <td>65909</td>\n",
       "      <td>2468</td>\n",
       "      <td>1.8</td>\n",
       "      <td>North America</td>\n",
       "    </tr>\n",
       "    <tr>\n",
       "      <th>1</th>\n",
       "      <td>India</td>\n",
       "      <td>11156923</td>\n",
       "      <td>157435</td>\n",
       "      <td>11139516</td>\n",
       "      <td>157346</td>\n",
       "      <td>17407</td>\n",
       "      <td>89</td>\n",
       "      <td>1.4</td>\n",
       "      <td>Asia</td>\n",
       "    </tr>\n",
       "    <tr>\n",
       "      <th>2</th>\n",
       "      <td>Brazil</td>\n",
       "      <td>10718630</td>\n",
       "      <td>259271</td>\n",
       "      <td>10646926</td>\n",
       "      <td>257361</td>\n",
       "      <td>71704</td>\n",
       "      <td>1910</td>\n",
       "      <td>2.4</td>\n",
       "      <td>South America</td>\n",
       "    </tr>\n",
       "    <tr>\n",
       "      <th>3</th>\n",
       "      <td>Russia</td>\n",
       "      <td>4230707</td>\n",
       "      <td>85901</td>\n",
       "      <td>4220291</td>\n",
       "      <td>85458</td>\n",
       "      <td>10416</td>\n",
       "      <td>443</td>\n",
       "      <td>2.0</td>\n",
       "      <td>Europe</td>\n",
       "    </tr>\n",
       "    <tr>\n",
       "      <th>4</th>\n",
       "      <td>United Kingdom</td>\n",
       "      <td>4207120</td>\n",
       "      <td>124017</td>\n",
       "      <td>4200700</td>\n",
       "      <td>123530</td>\n",
       "      <td>6420</td>\n",
       "      <td>487</td>\n",
       "      <td>2.9</td>\n",
       "      <td>Europe</td>\n",
       "    </tr>\n",
       "  </tbody>\n",
       "</table>\n",
       "</div>"
      ],
      "text/plain": [
       "   Country/Region     Cases  Deaths    PCases  PDeaths  Cases (+)  Deaths (+)  \\\n",
       "0              US  28759980  518453  28694071   515985      65909        2468   \n",
       "1           India  11156923  157435  11139516   157346      17407          89   \n",
       "2          Brazil  10718630  259271  10646926   257361      71704        1910   \n",
       "3          Russia   4230707   85901   4220291    85458      10416         443   \n",
       "4  United Kingdom   4207120  124017   4200700   123530       6420         487   \n",
       "\n",
       "   Fatality Rate      Continent  \n",
       "0            1.8  North America  \n",
       "1            1.4           Asia  \n",
       "2            2.4  South America  \n",
       "3            2.0         Europe  \n",
       "4            2.9         Europe  "
      ]
     },
     "execution_count": 15,
     "metadata": {},
     "output_type": "execute_result"
    }
   ],
   "source": [
    "#hide\n",
    "df_table = (pd.DataFrame(dict(Cases=dfc_cases, Deaths=dfc_deaths, PCases=dfp_cases, PDeaths=dfp_deaths))\n",
    "             .sort_values(by=['Cases', 'Deaths'], ascending=[False, False])\n",
    "             .reset_index())\n",
    "df_table.rename(columns={'index': 'Country/Region'}, inplace=True)\n",
    "for c in 'Cases, Deaths'.split(', '):\n",
    "    df_table[f'{c} (+)'] = (df_table[c] - df_table[f'P{c}']).clip(0)  # DATA BUG\n",
    "df_table['Fatality Rate'] = (100 * df_table['Deaths'] / df_table['Cases']).round(1)\n",
    "df_table['Continent'] = df_table['Country/Region'].map(mapping['map.continent'])\n",
    "df_table.head(5)"
   ]
  },
  {
   "cell_type": "code",
   "execution_count": 16,
   "id": "fewer-occasion",
   "metadata": {
    "execution": {
     "iopub.execute_input": "2021-03-05T00:12:07.045127Z",
     "iopub.status.busy": "2021-03-05T00:12:07.044519Z",
     "iopub.status.idle": "2021-03-05T00:12:07.046693Z",
     "shell.execute_reply": "2021-03-05T00:12:07.047203Z"
    },
    "papermill": {
     "duration": 0.043338,
     "end_time": "2021-03-05T00:12:07.047352",
     "exception": false,
     "start_time": "2021-03-05T00:12:07.004014",
     "status": "completed"
    },
    "tags": []
   },
   "outputs": [],
   "source": [
    "#hide\n",
    "#delete problematic countries from table\n",
    "df_table = df_table[~df_table['Country/Region'].isin(['Cape Verde', 'Cruise Ship', 'Kosovo'])]"
   ]
  },
  {
   "cell_type": "code",
   "execution_count": 17,
   "id": "related-center",
   "metadata": {
    "execution": {
     "iopub.execute_input": "2021-03-05T00:12:07.129421Z",
     "iopub.status.busy": "2021-03-05T00:12:07.128825Z",
     "iopub.status.idle": "2021-03-05T00:12:07.137767Z",
     "shell.execute_reply": "2021-03-05T00:12:07.137281Z"
    },
    "papermill": {
     "duration": 0.056146,
     "end_time": "2021-03-05T00:12:07.137898",
     "exception": false,
     "start_time": "2021-03-05T00:12:07.081752",
     "status": "completed"
    },
    "tags": []
   },
   "outputs": [],
   "source": [
    "#hide\n",
    "metrics = [df_table.columns[index] for index in [1,2,5,6]]\n",
    "# s_china = df_table[df_table['Country/Region'].eq('China')][metrics].sum().add_prefix('China ')\n",
    "s_us = df_table[df_table['Country/Region'].eq('US')][metrics].sum().add_prefix('US ')\n",
    "s_eu = df_table[df_table['Continent'].eq('Europe')][metrics].sum().add_prefix('EU ')\n",
    "s_ind = df_table[df_table['Country/Region'].eq('India')][metrics].sum().add_prefix('India ')\n",
    "summary = {'updated': pd.to_datetime(dt_today), 'since': pd.to_datetime(dt_yday)}\n",
    "summary = {'updated': pd.to_datetime(dt_today), 'since': pd.to_datetime(dt_yday)}\n",
    "summary = {**summary, **df_table[metrics].sum(), **s_ind, **s_us, **s_eu}"
   ]
  },
  {
   "cell_type": "code",
   "execution_count": 18,
   "id": "engaging-syndrome",
   "metadata": {
    "execution": {
     "iopub.execute_input": "2021-03-05T00:12:07.213361Z",
     "iopub.status.busy": "2021-03-05T00:12:07.212774Z",
     "iopub.status.idle": "2021-03-05T00:12:07.226071Z",
     "shell.execute_reply": "2021-03-05T00:12:07.225589Z"
    },
    "papermill": {
     "duration": 0.054011,
     "end_time": "2021-03-05T00:12:07.226238",
     "exception": false,
     "start_time": "2021-03-05T00:12:07.172227",
     "status": "completed"
    },
    "tags": []
   },
   "outputs": [],
   "source": [
    "#hide\n",
    "dft_ct_new_cases = dft_cases.groupby(COL_REGION)[dt_cols].sum().diff(axis=1).fillna(0).astype(int)"
   ]
  },
  {
   "cell_type": "code",
   "execution_count": 19,
   "id": "neutral-assignment",
   "metadata": {
    "execution": {
     "iopub.execute_input": "2021-03-05T00:12:07.300805Z",
     "iopub.status.busy": "2021-03-05T00:12:07.300197Z",
     "iopub.status.idle": "2021-03-05T00:12:07.302603Z",
     "shell.execute_reply": "2021-03-05T00:12:07.302074Z"
    },
    "papermill": {
     "duration": 0.04248,
     "end_time": "2021-03-05T00:12:07.302724",
     "exception": false,
     "start_time": "2021-03-05T00:12:07.260244",
     "status": "completed"
    },
    "tags": []
   },
   "outputs": [],
   "source": [
    "#hide\n",
    "everydaycases = dft_ct_new_cases.cumsum(axis=1)"
   ]
  },
  {
   "cell_type": "code",
   "execution_count": 20,
   "id": "parliamentary-calgary",
   "metadata": {
    "execution": {
     "iopub.execute_input": "2021-03-05T00:12:07.373016Z",
     "iopub.status.busy": "2021-03-05T00:12:07.372440Z",
     "iopub.status.idle": "2021-03-05T00:12:09.825168Z",
     "shell.execute_reply": "2021-03-05T00:12:09.823938Z"
    },
    "papermill": {
     "duration": 2.489458,
     "end_time": "2021-03-05T00:12:09.825313",
     "exception": false,
     "start_time": "2021-03-05T00:12:07.335855",
     "status": "completed"
    },
    "tags": []
   },
   "outputs": [],
   "source": [
    "#hide\n",
    "import pandas as pd\n",
    "import matplotlib.pyplot as plt\n",
    "import matplotlib.ticker as ticker\n",
    "import matplotlib.animation as animation\n",
    "from IPython.display import HTML"
   ]
  },
  {
   "cell_type": "code",
   "execution_count": 21,
   "id": "lasting-extraction",
   "metadata": {
    "execution": {
     "iopub.execute_input": "2021-03-05T00:12:09.899443Z",
     "iopub.status.busy": "2021-03-05T00:12:09.898832Z",
     "iopub.status.idle": "2021-03-05T00:12:09.903775Z",
     "shell.execute_reply": "2021-03-05T00:12:09.903186Z"
    },
    "papermill": {
     "duration": 0.044651,
     "end_time": "2021-03-05T00:12:09.903898",
     "exception": false,
     "start_time": "2021-03-05T00:12:09.859247",
     "status": "completed"
    },
    "tags": []
   },
   "outputs": [],
   "source": [
    "#hide\n",
    "t = everydaycases.stack()"
   ]
  },
  {
   "cell_type": "code",
   "execution_count": 22,
   "id": "premier-sleeve",
   "metadata": {
    "execution": {
     "iopub.execute_input": "2021-03-05T00:12:09.976629Z",
     "iopub.status.busy": "2021-03-05T00:12:09.974546Z",
     "iopub.status.idle": "2021-03-05T00:12:09.982313Z",
     "shell.execute_reply": "2021-03-05T00:12:09.981812Z"
    },
    "papermill": {
     "duration": 0.045307,
     "end_time": "2021-03-05T00:12:09.982434",
     "exception": false,
     "start_time": "2021-03-05T00:12:09.937127",
     "status": "completed"
    },
    "tags": []
   },
   "outputs": [],
   "source": [
    "#hide\n",
    "g = t.reset_index(['Country/Region'])"
   ]
  },
  {
   "cell_type": "code",
   "execution_count": 23,
   "id": "distributed-pittsburgh",
   "metadata": {
    "execution": {
     "iopub.execute_input": "2021-03-05T00:12:10.058736Z",
     "iopub.status.busy": "2021-03-05T00:12:10.057838Z",
     "iopub.status.idle": "2021-03-05T00:12:10.062507Z",
     "shell.execute_reply": "2021-03-05T00:12:10.061965Z"
    },
    "papermill": {
     "duration": 0.044529,
     "end_time": "2021-03-05T00:12:10.062639",
     "exception": false,
     "start_time": "2021-03-05T00:12:10.018110",
     "status": "completed"
    },
    "tags": []
   },
   "outputs": [],
   "source": [
    "#hide\n",
    "g.index.name = 'date'"
   ]
  },
  {
   "cell_type": "code",
   "execution_count": 24,
   "id": "naked-donor",
   "metadata": {
    "execution": {
     "iopub.execute_input": "2021-03-05T00:12:10.140675Z",
     "iopub.status.busy": "2021-03-05T00:12:10.139634Z",
     "iopub.status.idle": "2021-03-05T00:12:10.141654Z",
     "shell.execute_reply": "2021-03-05T00:12:10.142130Z"
    },
    "papermill": {
     "duration": 0.043617,
     "end_time": "2021-03-05T00:12:10.142272",
     "exception": false,
     "start_time": "2021-03-05T00:12:10.098655",
     "status": "completed"
    },
    "tags": []
   },
   "outputs": [],
   "source": [
    "# #hide\n",
    "# g = g.reset_index(['date'])"
   ]
  },
  {
   "cell_type": "code",
   "execution_count": 25,
   "id": "incomplete-mustang",
   "metadata": {
    "execution": {
     "iopub.execute_input": "2021-03-05T00:12:10.212775Z",
     "iopub.status.busy": "2021-03-05T00:12:10.212293Z",
     "iopub.status.idle": "2021-03-05T00:12:10.214837Z",
     "shell.execute_reply": "2021-03-05T00:12:10.214350Z"
    },
    "papermill": {
     "duration": 0.039395,
     "end_time": "2021-03-05T00:12:10.214959",
     "exception": false,
     "start_time": "2021-03-05T00:12:10.175564",
     "status": "completed"
    },
    "tags": []
   },
   "outputs": [],
   "source": [
    "#hide\n",
    "# g.head()"
   ]
  },
  {
   "cell_type": "code",
   "execution_count": 26,
   "id": "specific-kruger",
   "metadata": {
    "execution": {
     "iopub.execute_input": "2021-03-05T00:12:10.285789Z",
     "iopub.status.busy": "2021-03-05T00:12:10.285175Z",
     "iopub.status.idle": "2021-03-05T00:12:10.287636Z",
     "shell.execute_reply": "2021-03-05T00:12:10.286972Z"
    },
    "papermill": {
     "duration": 0.039611,
     "end_time": "2021-03-05T00:12:10.287767",
     "exception": false,
     "start_time": "2021-03-05T00:12:10.248156",
     "status": "completed"
    },
    "tags": []
   },
   "outputs": [],
   "source": [
    "#hide\n",
    "# g.columns = ['date','country','cases']"
   ]
  },
  {
   "cell_type": "code",
   "execution_count": 27,
   "id": "tender-conversion",
   "metadata": {
    "execution": {
     "iopub.execute_input": "2021-03-05T00:12:10.359895Z",
     "iopub.status.busy": "2021-03-05T00:12:10.359101Z",
     "iopub.status.idle": "2021-03-05T00:12:10.360725Z",
     "shell.execute_reply": "2021-03-05T00:12:10.361349Z"
    },
    "papermill": {
     "duration": 0.03969,
     "end_time": "2021-03-05T00:12:10.361524",
     "exception": false,
     "start_time": "2021-03-05T00:12:10.321834",
     "status": "completed"
    },
    "tags": []
   },
   "outputs": [],
   "source": [
    "#hide\n",
    "# g['continent'] = g.country"
   ]
  },
  {
   "cell_type": "code",
   "execution_count": 28,
   "id": "substantial-wilderness",
   "metadata": {
    "execution": {
     "iopub.execute_input": "2021-03-05T00:12:10.433241Z",
     "iopub.status.busy": "2021-03-05T00:12:10.432662Z",
     "iopub.status.idle": "2021-03-05T00:12:10.435270Z",
     "shell.execute_reply": "2021-03-05T00:12:10.435724Z"
    },
    "papermill": {
     "duration": 0.039512,
     "end_time": "2021-03-05T00:12:10.435843",
     "exception": false,
     "start_time": "2021-03-05T00:12:10.396331",
     "status": "completed"
    },
    "tags": []
   },
   "outputs": [],
   "source": [
    "#hide\n",
    "# cols = list(g.columns.values)"
   ]
  },
  {
   "cell_type": "code",
   "execution_count": 29,
   "id": "solved-farming",
   "metadata": {
    "execution": {
     "iopub.execute_input": "2021-03-05T00:12:10.506572Z",
     "iopub.status.busy": "2021-03-05T00:12:10.505946Z",
     "iopub.status.idle": "2021-03-05T00:12:10.508245Z",
     "shell.execute_reply": "2021-03-05T00:12:10.508811Z"
    },
    "papermill": {
     "duration": 0.039913,
     "end_time": "2021-03-05T00:12:10.508949",
     "exception": false,
     "start_time": "2021-03-05T00:12:10.469036",
     "status": "completed"
    },
    "tags": []
   },
   "outputs": [],
   "source": [
    "#hide\n",
    "# cols.insert(0, cols.pop())"
   ]
  },
  {
   "cell_type": "code",
   "execution_count": 30,
   "id": "executed-adoption",
   "metadata": {
    "execution": {
     "iopub.execute_input": "2021-03-05T00:12:10.579179Z",
     "iopub.status.busy": "2021-03-05T00:12:10.578591Z",
     "iopub.status.idle": "2021-03-05T00:12:10.581076Z",
     "shell.execute_reply": "2021-03-05T00:12:10.581545Z"
    },
    "papermill": {
     "duration": 0.039985,
     "end_time": "2021-03-05T00:12:10.581684",
     "exception": false,
     "start_time": "2021-03-05T00:12:10.541699",
     "status": "completed"
    },
    "tags": []
   },
   "outputs": [],
   "source": [
    "#hide\n",
    "# g = g[cols]"
   ]
  },
  {
   "cell_type": "code",
   "execution_count": 31,
   "id": "subject-dublin",
   "metadata": {
    "execution": {
     "iopub.execute_input": "2021-03-05T00:12:10.651927Z",
     "iopub.status.busy": "2021-03-05T00:12:10.650691Z",
     "iopub.status.idle": "2021-03-05T00:12:10.652578Z",
     "shell.execute_reply": "2021-03-05T00:12:10.653041Z"
    },
    "papermill": {
     "duration": 0.038935,
     "end_time": "2021-03-05T00:12:10.653175",
     "exception": false,
     "start_time": "2021-03-05T00:12:10.614240",
     "status": "completed"
    },
    "tags": []
   },
   "outputs": [],
   "source": [
    "#hide\n",
    "# g['continent'] = g['continent'].map(mapping['map.continent'])"
   ]
  },
  {
   "cell_type": "code",
   "execution_count": 32,
   "id": "freelance-scout",
   "metadata": {
    "execution": {
     "iopub.execute_input": "2021-03-05T00:12:10.724230Z",
     "iopub.status.busy": "2021-03-05T00:12:10.723644Z",
     "iopub.status.idle": "2021-03-05T00:12:10.725610Z",
     "shell.execute_reply": "2021-03-05T00:12:10.725210Z"
    },
    "papermill": {
     "duration": 0.039184,
     "end_time": "2021-03-05T00:12:10.725732",
     "exception": false,
     "start_time": "2021-03-05T00:12:10.686548",
     "status": "completed"
    },
    "tags": []
   },
   "outputs": [],
   "source": [
    "#hide\n",
    "# g.head()"
   ]
  },
  {
   "cell_type": "code",
   "execution_count": 33,
   "id": "limited-engine",
   "metadata": {
    "execution": {
     "iopub.execute_input": "2021-03-05T00:12:10.795252Z",
     "iopub.status.busy": "2021-03-05T00:12:10.794671Z",
     "iopub.status.idle": "2021-03-05T00:12:10.796858Z",
     "shell.execute_reply": "2021-03-05T00:12:10.796286Z"
    },
    "papermill": {
     "duration": 0.038992,
     "end_time": "2021-03-05T00:12:10.796977",
     "exception": false,
     "start_time": "2021-03-05T00:12:10.757985",
     "status": "completed"
    },
    "tags": []
   },
   "outputs": [],
   "source": [
    "# hide\n",
    "# g['date'] = g['date'].astype('datetime64[ns]')"
   ]
  },
  {
   "cell_type": "code",
   "execution_count": 34,
   "id": "sophisticated-supervisor",
   "metadata": {
    "execution": {
     "iopub.execute_input": "2021-03-05T00:12:10.867212Z",
     "iopub.status.busy": "2021-03-05T00:12:10.866628Z",
     "iopub.status.idle": "2021-03-05T00:12:10.868912Z",
     "shell.execute_reply": "2021-03-05T00:12:10.868422Z"
    },
    "papermill": {
     "duration": 0.038789,
     "end_time": "2021-03-05T00:12:10.869030",
     "exception": false,
     "start_time": "2021-03-05T00:12:10.830241",
     "status": "completed"
    },
    "tags": []
   },
   "outputs": [],
   "source": [
    "#hide\n",
    "# g['date'] = g.date.dt.dayofyear"
   ]
  },
  {
   "cell_type": "code",
   "execution_count": 35,
   "id": "inside-dubai",
   "metadata": {
    "execution": {
     "iopub.execute_input": "2021-03-05T00:12:10.939687Z",
     "iopub.status.busy": "2021-03-05T00:12:10.938986Z",
     "iopub.status.idle": "2021-03-05T00:12:10.940329Z",
     "shell.execute_reply": "2021-03-05T00:12:10.940974Z"
    },
    "papermill": {
     "duration": 0.038694,
     "end_time": "2021-03-05T00:12:10.941129",
     "exception": false,
     "start_time": "2021-03-05T00:12:10.902435",
     "status": "completed"
    },
    "tags": []
   },
   "outputs": [],
   "source": [
    "#hide\n",
    "# g = g.rename(columns= {'continent':'group','country':'name','cases':'value'})"
   ]
  },
  {
   "cell_type": "code",
   "execution_count": 36,
   "id": "fleet-motorcycle",
   "metadata": {
    "execution": {
     "iopub.execute_input": "2021-03-05T00:12:11.014253Z",
     "iopub.status.busy": "2021-03-05T00:12:11.013632Z",
     "iopub.status.idle": "2021-03-05T00:12:11.016091Z",
     "shell.execute_reply": "2021-03-05T00:12:11.016654Z"
    },
    "papermill": {
     "duration": 0.040997,
     "end_time": "2021-03-05T00:12:11.016786",
     "exception": false,
     "start_time": "2021-03-05T00:12:10.975789",
     "status": "completed"
    },
    "tags": []
   },
   "outputs": [],
   "source": [
    "#hide\n",
    "# cols = ['name','group','day','value']"
   ]
  },
  {
   "cell_type": "code",
   "execution_count": 37,
   "id": "continued-sleeping",
   "metadata": {
    "execution": {
     "iopub.execute_input": "2021-03-05T00:12:11.088184Z",
     "iopub.status.busy": "2021-03-05T00:12:11.087602Z",
     "iopub.status.idle": "2021-03-05T00:12:11.089812Z",
     "shell.execute_reply": "2021-03-05T00:12:11.090281Z"
    },
    "papermill": {
     "duration": 0.040358,
     "end_time": "2021-03-05T00:12:11.090427",
     "exception": false,
     "start_time": "2021-03-05T00:12:11.050069",
     "status": "completed"
    },
    "tags": []
   },
   "outputs": [],
   "source": [
    "#hide\n",
    "# g.rename(columns= {'date':'day'},inplace = True)"
   ]
  },
  {
   "cell_type": "code",
   "execution_count": 38,
   "id": "major-fight",
   "metadata": {
    "execution": {
     "iopub.execute_input": "2021-03-05T00:12:11.163425Z",
     "iopub.status.busy": "2021-03-05T00:12:11.162847Z",
     "iopub.status.idle": "2021-03-05T00:12:11.165719Z",
     "shell.execute_reply": "2021-03-05T00:12:11.166290Z"
    },
    "papermill": {
     "duration": 0.041608,
     "end_time": "2021-03-05T00:12:11.166425",
     "exception": false,
     "start_time": "2021-03-05T00:12:11.124817",
     "status": "completed"
    },
    "tags": []
   },
   "outputs": [],
   "source": [
    "#hide\n",
    "# g = g[cols]"
   ]
  },
  {
   "cell_type": "code",
   "execution_count": 39,
   "id": "structured-mobile",
   "metadata": {
    "execution": {
     "iopub.execute_input": "2021-03-05T00:12:11.240306Z",
     "iopub.status.busy": "2021-03-05T00:12:11.239281Z",
     "iopub.status.idle": "2021-03-05T00:12:11.241252Z",
     "shell.execute_reply": "2021-03-05T00:12:11.241936Z"
    },
    "papermill": {
     "duration": 0.042148,
     "end_time": "2021-03-05T00:12:11.242073",
     "exception": false,
     "start_time": "2021-03-05T00:12:11.199925",
     "status": "completed"
    },
    "tags": []
   },
   "outputs": [],
   "source": [
    "# #hide\n",
    "# g = g[g.group.notna()]"
   ]
  },
  {
   "cell_type": "code",
   "execution_count": 40,
   "id": "determined-closing",
   "metadata": {
    "execution": {
     "iopub.execute_input": "2021-03-05T00:12:11.313938Z",
     "iopub.status.busy": "2021-03-05T00:12:11.313353Z",
     "iopub.status.idle": "2021-03-05T00:12:11.315914Z",
     "shell.execute_reply": "2021-03-05T00:12:11.315404Z"
    },
    "papermill": {
     "duration": 0.039909,
     "end_time": "2021-03-05T00:12:11.316027",
     "exception": false,
     "start_time": "2021-03-05T00:12:11.276118",
     "status": "completed"
    },
    "tags": []
   },
   "outputs": [],
   "source": [
    "# #hide\n",
    "# colors = dict(zip(\n",
    "#     [\"Oceania\", \"Europe\", \"Asia\", \"South America\", \"Middle East\", \"North America\", \"Africa\"],\n",
    "#     [\"#adb0ff\", \"#ffb3ff\", \"#90d595\", \"#e48381\", \"#aafbff\", \"#f7bb5f\", \"#eafb50\"]\n",
    "# ))\n",
    "# group_lk = g.set_index('name')['group'].to_dict()"
   ]
  },
  {
   "cell_type": "code",
   "execution_count": null,
   "id": "gross-drinking",
   "metadata": {
    "papermill": {
     "duration": 0.032575,
     "end_time": "2021-03-05T00:12:11.382036",
     "exception": false,
     "start_time": "2021-03-05T00:12:11.349461",
     "status": "completed"
    },
    "tags": []
   },
   "outputs": [],
   "source": []
  },
  {
   "cell_type": "code",
   "execution_count": 41,
   "id": "subject-macintosh",
   "metadata": {
    "execution": {
     "iopub.execute_input": "2021-03-05T00:12:11.453577Z",
     "iopub.status.busy": "2021-03-05T00:12:11.452966Z",
     "iopub.status.idle": "2021-03-05T00:12:11.455694Z",
     "shell.execute_reply": "2021-03-05T00:12:11.456165Z"
    },
    "papermill": {
     "duration": 0.041268,
     "end_time": "2021-03-05T00:12:11.456307",
     "exception": false,
     "start_time": "2021-03-05T00:12:11.415039",
     "status": "completed"
    },
    "tags": []
   },
   "outputs": [],
   "source": [
    "# #hide\n",
    "# fig, ax = plt.subplots(figsize=(15, 8))\n",
    "\n",
    "# def draw_barchart(current_day):\n",
    "#     dff = g[g['day'].eq(current_day)].sort_values(by='value', ascending=True).tail(10)\n",
    "#     ax.clear()\n",
    "#     ax.barh(dff['name'], dff['value'], color=[colors[group_lk[x]] for x in dff['name']])\n",
    "#     dx = dff['value'].max() / 200\n",
    "    \n",
    "#     for i, (value, name) in enumerate(zip(dff['value'], dff['name'])):\n",
    "#         ax.text(value-dx, i,     name,           size=14, weight=600, ha='right', va='bottom')\n",
    "#         ax.text(value-dx, i-.25, group_lk[name], size=10, color='#444444', ha='right', va='baseline')\n",
    "#         ax.text(value+dx, i,     f'{value:,.0f}',  size=14, ha='left',  va='center')\n",
    "#     ax.text(1, 0.4, current_day, transform=ax.transAxes, color='#777777', size=46, ha='right', weight=800)\n",
    "#     ax.text(0, 1.06, 'Population (thousands)', transform=ax.transAxes, size=12, color='#777777')\n",
    "#     ax.xaxis.set_major_formatter(ticker.StrMethodFormatter('{x:,.0f}'))\n",
    "#     ax.xaxis.set_ticks_position('top')\n",
    "#     ax.tick_params(axis='x', colors='#777777', labelsize=12)\n",
    "#     ax.set_yticks([])\n",
    "#     ax.margins(0, 0.01)\n",
    "#     ax.grid(which='major', axis='x', linestyle='-')\n",
    "#     ax.set_axisbelow(True)\n",
    "    \n",
    "#     ax.text(0, 1.15, 'Coronavirus',\n",
    "#             transform=ax.transAxes, size=24, weight=600, ha='left', va='top')\n",
    "# #     ax.text(1, 0, 'by @pratapvardhan; credit @jburnmurdoch', transform=ax.transAxes, color='#777777', ha='right',\n",
    "# #             bbox=dict(facecolor='white', alpha=0.8, edgecolor='white'))\n",
    "#     plt.box(False)"
   ]
  },
  {
   "cell_type": "code",
   "execution_count": 42,
   "id": "sexual-wages",
   "metadata": {
    "execution": {
     "iopub.execute_input": "2021-03-05T00:12:11.527981Z",
     "iopub.status.busy": "2021-03-05T00:12:11.527395Z",
     "iopub.status.idle": "2021-03-05T00:12:11.529665Z",
     "shell.execute_reply": "2021-03-05T00:12:11.529164Z"
    },
    "papermill": {
     "duration": 0.040307,
     "end_time": "2021-03-05T00:12:11.529788",
     "exception": false,
     "start_time": "2021-03-05T00:12:11.489481",
     "status": "completed"
    },
    "tags": []
   },
   "outputs": [],
   "source": [
    "# #hide_input\n",
    "# fig, ax = plt.subplots(figsize=(15, 8))\n",
    "# animator = animation.FuncAnimation(fig, draw_barchart, frames=range(g.day.values.min(), g.day.values.max()))\n",
    "# HTML(animator.to_jshtml())\n",
    "# # or use animator.to_html5_video() or animator.save() "
   ]
  },
  {
   "cell_type": "code",
   "execution_count": null,
   "id": "australian-container",
   "metadata": {
    "papermill": {
     "duration": 0.033708,
     "end_time": "2021-03-05T00:12:11.597572",
     "exception": false,
     "start_time": "2021-03-05T00:12:11.563864",
     "status": "completed"
    },
    "tags": []
   },
   "outputs": [],
   "source": []
  },
  {
   "cell_type": "code",
   "execution_count": null,
   "id": "mediterranean-pontiac",
   "metadata": {
    "papermill": {
     "duration": 0.033912,
     "end_time": "2021-03-05T00:12:11.665280",
     "exception": false,
     "start_time": "2021-03-05T00:12:11.631368",
     "status": "completed"
    },
    "tags": []
   },
   "outputs": [],
   "source": []
  },
  {
   "cell_type": "code",
   "execution_count": null,
   "id": "aging-legislature",
   "metadata": {
    "papermill": {
     "duration": 0.033821,
     "end_time": "2021-03-05T00:12:11.733031",
     "exception": false,
     "start_time": "2021-03-05T00:12:11.699210",
     "status": "completed"
    },
    "tags": []
   },
   "outputs": [],
   "source": []
  }
 ],
 "metadata": {
  "kernelspec": {
   "display_name": "Python 3",
   "language": "python",
   "name": "python3"
  },
  "language_info": {
   "codemirror_mode": {
    "name": "ipython",
    "version": 3
   },
   "file_extension": ".py",
   "mimetype": "text/x-python",
   "name": "python",
   "nbconvert_exporter": "python",
   "pygments_lexer": "ipython3",
   "version": "3.6.13"
  },
  "papermill": {
   "duration": 8.243053,
   "end_time": "2021-03-05T00:12:12.073286",
   "environment_variables": {},
   "exception": null,
   "input_path": "2020-03-21-covid19exp.ipynb",
   "output_path": "2020-03-21-covid19exp.ipynb",
   "parameters": {},
   "start_time": "2021-03-05T00:12:03.830233",
   "version": "2.0.0"
  }
 },
 "nbformat": 4,
 "nbformat_minor": 5
}