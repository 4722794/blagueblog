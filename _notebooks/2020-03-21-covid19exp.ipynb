{
 "cells": [
  {
   "cell_type": "markdown",
   "id": "muslim-click",
   "metadata": {
    "papermill": {
     "duration": 0.033205,
     "end_time": "2022-07-03T00:43:22.573371",
     "exception": false,
     "start_time": "2022-07-03T00:43:22.540166",
     "status": "completed"
    },
    "tags": []
   },
   "source": [
    "# COVID-19 Case Race\n",
    "> A race chart to see rising cases around the world\n",
    "\n",
    "- author: Hargun Oberoi\n",
    "- image: images/covid-overview.png\n",
    "- hide: false\n",
    "- badges: false"
   ]
  },
  {
   "cell_type": "code",
   "execution_count": 1,
   "id": "proof-material",
   "metadata": {
    "execution": {
     "iopub.execute_input": "2022-07-03T00:43:22.644269Z",
     "iopub.status.busy": "2022-07-03T00:43:22.643659Z",
     "iopub.status.idle": "2022-07-03T00:43:22.973445Z",
     "shell.execute_reply": "2022-07-03T00:43:22.972885Z"
    },
    "papermill": {
     "duration": 0.369074,
     "end_time": "2022-07-03T00:43:22.973595",
     "exception": false,
     "start_time": "2022-07-03T00:43:22.604521",
     "status": "completed"
    },
    "tags": []
   },
   "outputs": [],
   "source": [
    "#hide\n",
    "import numpy as np\n",
    "import pandas as pd\n",
    "from jinja2 import Template\n",
    "from IPython.display import HTML"
   ]
  },
  {
   "cell_type": "code",
   "execution_count": 2,
   "id": "developed-terminology",
   "metadata": {
    "execution": {
     "iopub.execute_input": "2022-07-03T00:43:23.038330Z",
     "iopub.status.busy": "2022-07-03T00:43:23.037583Z",
     "iopub.status.idle": "2022-07-03T00:43:23.039356Z",
     "shell.execute_reply": "2022-07-03T00:43:23.039895Z"
    },
    "papermill": {
     "duration": 0.036867,
     "end_time": "2022-07-03T00:43:23.040040",
     "exception": false,
     "start_time": "2022-07-03T00:43:23.003173",
     "status": "completed"
    },
    "tags": []
   },
   "outputs": [],
   "source": [
    "#hide\n",
    "\n",
    "# FETCH\n",
    "base_url = 'https://raw.githubusercontent.com/pratapvardhan/notebooks/master/covid19/'\n",
    "paths = {\n",
    "    'mapping': base_url + 'mapping_countries.csv',\n",
    "    'overview': base_url + 'overview.tpl'\n",
    "}"
   ]
  },
  {
   "cell_type": "code",
   "execution_count": 3,
   "id": "dynamic-saver",
   "metadata": {
    "execution": {
     "iopub.execute_input": "2022-07-03T00:43:23.108581Z",
     "iopub.status.busy": "2022-07-03T00:43:23.107992Z",
     "iopub.status.idle": "2022-07-03T00:43:23.111011Z",
     "shell.execute_reply": "2022-07-03T00:43:23.111569Z"
    },
    "papermill": {
     "duration": 0.042186,
     "end_time": "2022-07-03T00:43:23.111701",
     "exception": false,
     "start_time": "2022-07-03T00:43:23.069515",
     "status": "completed"
    },
    "tags": []
   },
   "outputs": [
    {
     "data": {
      "text/plain": [
       "'https://raw.githubusercontent.com/pratapvardhan/notebooks/master/covid19/mapping_countries.csv'"
      ]
     },
     "execution_count": 3,
     "metadata": {},
     "output_type": "execute_result"
    }
   ],
   "source": [
    "#hide\n",
    "paths['mapping']"
   ]
  },
  {
   "cell_type": "code",
   "execution_count": 4,
   "id": "urban-software",
   "metadata": {
    "execution": {
     "iopub.execute_input": "2022-07-03T00:43:23.176658Z",
     "iopub.status.busy": "2022-07-03T00:43:23.176026Z",
     "iopub.status.idle": "2022-07-03T00:43:23.178567Z",
     "shell.execute_reply": "2022-07-03T00:43:23.178055Z"
    },
    "papermill": {
     "duration": 0.037223,
     "end_time": "2022-07-03T00:43:23.178679",
     "exception": false,
     "start_time": "2022-07-03T00:43:23.141456",
     "status": "completed"
    },
    "tags": []
   },
   "outputs": [],
   "source": [
    "#hide\n",
    "def get_mappings(url):\n",
    "    df = pd.read_csv(url)\n",
    "    return {\n",
    "        'df': df,\n",
    "        'replace.country': dict(df.dropna(subset=['Name']).set_index('Country')['Name']),\n",
    "        'map.continent': dict(df.set_index('Name')['Continent'])\n",
    "    }"
   ]
  },
  {
   "cell_type": "code",
   "execution_count": 5,
   "id": "intimate-machinery",
   "metadata": {
    "execution": {
     "iopub.execute_input": "2022-07-03T00:43:23.243120Z",
     "iopub.status.busy": "2022-07-03T00:43:23.242525Z",
     "iopub.status.idle": "2022-07-03T00:43:23.269306Z",
     "shell.execute_reply": "2022-07-03T00:43:23.268764Z"
    },
    "papermill": {
     "duration": 0.061504,
     "end_time": "2022-07-03T00:43:23.269426",
     "exception": false,
     "start_time": "2022-07-03T00:43:23.207922",
     "status": "completed"
    },
    "tags": []
   },
   "outputs": [],
   "source": [
    "#hide\n",
    "mapping = get_mappings(paths['mapping'])"
   ]
  },
  {
   "cell_type": "code",
   "execution_count": 6,
   "id": "certified-tactics",
   "metadata": {
    "execution": {
     "iopub.execute_input": "2022-07-03T00:43:23.335089Z",
     "iopub.status.busy": "2022-07-03T00:43:23.334376Z",
     "iopub.status.idle": "2022-07-03T00:43:23.336885Z",
     "shell.execute_reply": "2022-07-03T00:43:23.336344Z"
    },
    "papermill": {
     "duration": 0.037083,
     "end_time": "2022-07-03T00:43:23.337010",
     "exception": false,
     "start_time": "2022-07-03T00:43:23.299927",
     "status": "completed"
    },
    "tags": []
   },
   "outputs": [],
   "source": [
    "#hide\n",
    "def get_template(path):\n",
    "    from urllib.parse import urlparse\n",
    "    if bool(urlparse(path).netloc):\n",
    "        from urllib.request import urlopen\n",
    "        return urlopen(path).read().decode('utf8')\n",
    "    return open(path).read()"
   ]
  },
  {
   "cell_type": "code",
   "execution_count": 7,
   "id": "realistic-blast",
   "metadata": {
    "execution": {
     "iopub.execute_input": "2022-07-03T00:43:23.400795Z",
     "iopub.status.busy": "2022-07-03T00:43:23.400213Z",
     "iopub.status.idle": "2022-07-03T00:43:23.402292Z",
     "shell.execute_reply": "2022-07-03T00:43:23.402721Z"
    },
    "papermill": {
     "duration": 0.036435,
     "end_time": "2022-07-03T00:43:23.402844",
     "exception": false,
     "start_time": "2022-07-03T00:43:23.366409",
     "status": "completed"
    },
    "tags": []
   },
   "outputs": [],
   "source": [
    "#hide\n",
    "def get_frame(name):\n",
    "    url = (\n",
    "        'https://raw.githubusercontent.com/CSSEGISandData/COVID-19/master/csse_covid_19_data/'\n",
    "        f'csse_covid_19_time_series/time_series_covid19_{name}_global.csv')\n",
    "    df = pd.read_csv(url)\n",
    "    # rename countries\n",
    "    df['Country/Region'] = df['Country/Region'].replace(mapping['replace.country'])\n",
    "    return df"
   ]
  },
  {
   "cell_type": "code",
   "execution_count": 8,
   "id": "affiliated-characterization",
   "metadata": {
    "execution": {
     "iopub.execute_input": "2022-07-03T00:43:23.467540Z",
     "iopub.status.busy": "2022-07-03T00:43:23.466956Z",
     "iopub.status.idle": "2022-07-03T00:43:23.469337Z",
     "shell.execute_reply": "2022-07-03T00:43:23.469890Z"
    },
    "papermill": {
     "duration": 0.037872,
     "end_time": "2022-07-03T00:43:23.470014",
     "exception": false,
     "start_time": "2022-07-03T00:43:23.432142",
     "status": "completed"
    },
    "tags": []
   },
   "outputs": [],
   "source": [
    "#hide\n",
    "def get_dates(df):\n",
    "    dt_cols = df.columns[~df.columns.isin(['Province/State', 'Country/Region', 'Lat', 'Long'])]\n",
    "    LAST_DATE_I = -1\n",
    "    # sometimes last column may be empty, then go backwards\n",
    "    for i in range(-1, -len(dt_cols), -1):\n",
    "        if not df[dt_cols[i]].fillna(0).eq(0).all():\n",
    "            LAST_DATE_I = i\n",
    "            break\n",
    "    return LAST_DATE_I, dt_cols"
   ]
  },
  {
   "cell_type": "code",
   "execution_count": 9,
   "id": "recent-optimization",
   "metadata": {
    "execution": {
     "iopub.execute_input": "2022-07-03T00:43:23.533024Z",
     "iopub.status.busy": "2022-07-03T00:43:23.532442Z",
     "iopub.status.idle": "2022-07-03T00:43:23.929459Z",
     "shell.execute_reply": "2022-07-03T00:43:23.928903Z"
    },
    "papermill": {
     "duration": 0.430631,
     "end_time": "2022-07-03T00:43:23.929586",
     "exception": false,
     "start_time": "2022-07-03T00:43:23.498955",
     "status": "completed"
    },
    "tags": []
   },
   "outputs": [],
   "source": [
    "#hide\n",
    "COL_REGION = 'Country/Region'\n",
    "# Confirmed, Recovered, Deaths\n",
    "df = get_frame('confirmed')\n",
    "# dft_: timeseries, dfc_: today country agg\n",
    "dft_cases = df\n",
    "dft_deaths = get_frame('deaths')\n",
    "dft_recovered = get_frame('recovered')\n",
    "LAST_DATE_I, dt_cols = get_dates(df)"
   ]
  },
  {
   "cell_type": "code",
   "execution_count": 10,
   "id": "absolute-copper",
   "metadata": {
    "execution": {
     "iopub.execute_input": "2022-07-03T00:43:23.994248Z",
     "iopub.status.busy": "2022-07-03T00:43:23.993610Z",
     "iopub.status.idle": "2022-07-03T00:43:23.996160Z",
     "shell.execute_reply": "2022-07-03T00:43:23.995682Z"
    },
    "papermill": {
     "duration": 0.036815,
     "end_time": "2022-07-03T00:43:23.996269",
     "exception": false,
     "start_time": "2022-07-03T00:43:23.959454",
     "status": "completed"
    },
    "tags": []
   },
   "outputs": [],
   "source": [
    "#hide\n",
    "LAST_DATE_I, dt_cols = get_dates(df)\n",
    "dt_today =dt_cols[LAST_DATE_I]\n",
    "# dt_5day = dt_cols[LAST_DATE_I - 5]\n",
    "dt_yday = dt_cols[LAST_DATE_I - 1]"
   ]
  },
  {
   "cell_type": "code",
   "execution_count": 11,
   "id": "restricted-sheriff",
   "metadata": {
    "execution": {
     "iopub.execute_input": "2022-07-03T00:43:24.060587Z",
     "iopub.status.busy": "2022-07-03T00:43:24.060010Z",
     "iopub.status.idle": "2022-07-03T00:43:24.067171Z",
     "shell.execute_reply": "2022-07-03T00:43:24.067643Z"
    },
    "papermill": {
     "duration": 0.042439,
     "end_time": "2022-07-03T00:43:24.067773",
     "exception": false,
     "start_time": "2022-07-03T00:43:24.025334",
     "status": "completed"
    },
    "tags": []
   },
   "outputs": [],
   "source": [
    "#hide\n",
    "dfc_cases = dft_cases.groupby(COL_REGION)[dt_today].sum()\n",
    "dfc_deaths = dft_deaths.groupby(COL_REGION)[dt_today].sum()\n",
    "# dfp_cases = dft_cases.groupby(COL_REGION)[dt_5day].sum()\n",
    "# dfp_deaths = dft_deaths.groupby(COL_REGION)[dt_5day].sum()\n",
    "dfp_cases = dft_cases.groupby(COL_REGION)[dt_yday].sum()\n",
    "dfp_deaths = dft_deaths.groupby(COL_REGION)[dt_yday].sum()"
   ]
  },
  {
   "cell_type": "code",
   "execution_count": 12,
   "id": "deluxe-hepatitis",
   "metadata": {
    "execution": {
     "iopub.execute_input": "2022-07-03T00:43:24.131391Z",
     "iopub.status.busy": "2022-07-03T00:43:24.130808Z",
     "iopub.status.idle": "2022-07-03T00:43:24.135927Z",
     "shell.execute_reply": "2022-07-03T00:43:24.136400Z"
    },
    "papermill": {
     "duration": 0.039592,
     "end_time": "2022-07-03T00:43:24.136523",
     "exception": false,
     "start_time": "2022-07-03T00:43:24.096931",
     "status": "completed"
    },
    "tags": []
   },
   "outputs": [],
   "source": [
    "#hide\n",
    "df_table = (pd.DataFrame(dict(Cases = dfc_cases, Deaths = dfc_deaths, PCases = dfp_cases, PDeaths = dfp_deaths))\n",
    "            .sort_values(by = ['Cases','Deaths'], ascending = [False, False])\n",
    "            .reset_index())"
   ]
  },
  {
   "cell_type": "code",
   "execution_count": 13,
   "id": "educational-chancellor",
   "metadata": {
    "execution": {
     "iopub.execute_input": "2022-07-03T00:43:24.212709Z",
     "iopub.status.busy": "2022-07-03T00:43:24.212122Z",
     "iopub.status.idle": "2022-07-03T00:43:24.220318Z",
     "shell.execute_reply": "2022-07-03T00:43:24.219843Z"
    },
    "papermill": {
     "duration": 0.054705,
     "end_time": "2022-07-03T00:43:24.220422",
     "exception": false,
     "start_time": "2022-07-03T00:43:24.165717",
     "status": "completed"
    },
    "tags": []
   },
   "outputs": [
    {
     "data": {
      "text/html": [
       "<div>\n",
       "<style scoped>\n",
       "    .dataframe tbody tr th:only-of-type {\n",
       "        vertical-align: middle;\n",
       "    }\n",
       "\n",
       "    .dataframe tbody tr th {\n",
       "        vertical-align: top;\n",
       "    }\n",
       "\n",
       "    .dataframe thead th {\n",
       "        text-align: right;\n",
       "    }\n",
       "</style>\n",
       "<table border=\"1\" class=\"dataframe\">\n",
       "  <thead>\n",
       "    <tr style=\"text-align: right;\">\n",
       "      <th></th>\n",
       "      <th>Country/Region</th>\n",
       "      <th>Cases</th>\n",
       "      <th>Deaths</th>\n",
       "      <th>PCases</th>\n",
       "      <th>PDeaths</th>\n",
       "      <th>Cases (+)</th>\n",
       "      <th>Deaths (+)</th>\n",
       "      <th>Fatality Rate</th>\n",
       "      <th>Continent</th>\n",
       "    </tr>\n",
       "  </thead>\n",
       "  <tbody>\n",
       "    <tr>\n",
       "      <th>0</th>\n",
       "      <td>US</td>\n",
       "      <td>87821971</td>\n",
       "      <td>1017817</td>\n",
       "      <td>87627486</td>\n",
       "      <td>1017277</td>\n",
       "      <td>194485</td>\n",
       "      <td>540</td>\n",
       "      <td>1.16</td>\n",
       "      <td>North America</td>\n",
       "    </tr>\n",
       "    <tr>\n",
       "      <th>1</th>\n",
       "      <td>India</td>\n",
       "      <td>43486326</td>\n",
       "      <td>525168</td>\n",
       "      <td>43469234</td>\n",
       "      <td>525139</td>\n",
       "      <td>17092</td>\n",
       "      <td>29</td>\n",
       "      <td>1.21</td>\n",
       "      <td>Asia</td>\n",
       "    </tr>\n",
       "    <tr>\n",
       "      <th>2</th>\n",
       "      <td>Brazil</td>\n",
       "      <td>32434063</td>\n",
       "      <td>671700</td>\n",
       "      <td>32358018</td>\n",
       "      <td>671416</td>\n",
       "      <td>76045</td>\n",
       "      <td>284</td>\n",
       "      <td>2.07</td>\n",
       "      <td>South America</td>\n",
       "    </tr>\n",
       "    <tr>\n",
       "      <th>3</th>\n",
       "      <td>France</td>\n",
       "      <td>31410383</td>\n",
       "      <td>150624</td>\n",
       "      <td>31285317</td>\n",
       "      <td>150572</td>\n",
       "      <td>125066</td>\n",
       "      <td>52</td>\n",
       "      <td>0.48</td>\n",
       "      <td>Europe</td>\n",
       "    </tr>\n",
       "    <tr>\n",
       "      <th>4</th>\n",
       "      <td>Germany</td>\n",
       "      <td>28392629</td>\n",
       "      <td>141292</td>\n",
       "      <td>28293960</td>\n",
       "      <td>141189</td>\n",
       "      <td>98669</td>\n",
       "      <td>103</td>\n",
       "      <td>0.50</td>\n",
       "      <td>Europe</td>\n",
       "    </tr>\n",
       "  </tbody>\n",
       "</table>\n",
       "</div>"
      ],
      "text/plain": [
       "  Country/Region     Cases   Deaths    PCases  PDeaths  Cases (+)  Deaths (+)  \\\n",
       "0             US  87821971  1017817  87627486  1017277     194485         540   \n",
       "1          India  43486326   525168  43469234   525139      17092          29   \n",
       "2         Brazil  32434063   671700  32358018   671416      76045         284   \n",
       "3         France  31410383   150624  31285317   150572     125066          52   \n",
       "4        Germany  28392629   141292  28293960   141189      98669         103   \n",
       "\n",
       "   Fatality Rate      Continent  \n",
       "0           1.16  North America  \n",
       "1           1.21           Asia  \n",
       "2           2.07  South America  \n",
       "3           0.48         Europe  \n",
       "4           0.50         Europe  "
      ]
     },
     "execution_count": 13,
     "metadata": {},
     "output_type": "execute_result"
    }
   ],
   "source": [
    "#hide\n",
    "for c in 'Cases, Deaths'.split(', '):\n",
    "    df_table[f'{c} (+)'] = (df_table[c] - df_table[f'P{c}']).clip(0)\n",
    "    #Clip ça veut dire, les chiffres negatif sont interdit\n",
    "df_table['Fatality Rate'] = (100* df_table['Deaths']/ df_table['Cases']).round(2)\n",
    "df_table['Continent'] = df_table['Country/Region'].map(mapping['map.continent'])\n",
    "df_table.head(5)"
   ]
  },
  {
   "cell_type": "code",
   "execution_count": 14,
   "id": "aboriginal-bulgaria",
   "metadata": {
    "execution": {
     "iopub.execute_input": "2022-07-03T00:43:24.286994Z",
     "iopub.status.busy": "2022-07-03T00:43:24.286278Z",
     "iopub.status.idle": "2022-07-03T00:43:24.288636Z",
     "shell.execute_reply": "2022-07-03T00:43:24.288052Z"
    },
    "papermill": {
     "duration": 0.038447,
     "end_time": "2022-07-03T00:43:24.288750",
     "exception": false,
     "start_time": "2022-07-03T00:43:24.250303",
     "status": "completed"
    },
    "tags": []
   },
   "outputs": [],
   "source": [
    "#hide\n",
    "#delete problematic countries from table\n",
    "df_table = df_table[~df_table['Country/Region'].isin(['Cape Verde', 'Cruise Ship', 'Kosovo'])]"
   ]
  },
  {
   "cell_type": "code",
   "execution_count": 15,
   "id": "fantastic-effect",
   "metadata": {
    "execution": {
     "iopub.execute_input": "2022-07-03T00:43:24.357864Z",
     "iopub.status.busy": "2022-07-03T00:43:24.357267Z",
     "iopub.status.idle": "2022-07-03T00:43:24.375054Z",
     "shell.execute_reply": "2022-07-03T00:43:24.374474Z"
    },
    "papermill": {
     "duration": 0.056435,
     "end_time": "2022-07-03T00:43:24.375166",
     "exception": false,
     "start_time": "2022-07-03T00:43:24.318731",
     "status": "completed"
    },
    "tags": []
   },
   "outputs": [
    {
     "data": {
      "text/html": [
       "<div>\n",
       "<style scoped>\n",
       "    .dataframe tbody tr th:only-of-type {\n",
       "        vertical-align: middle;\n",
       "    }\n",
       "\n",
       "    .dataframe tbody tr th {\n",
       "        vertical-align: top;\n",
       "    }\n",
       "\n",
       "    .dataframe thead th {\n",
       "        text-align: right;\n",
       "    }\n",
       "</style>\n",
       "<table border=\"1\" class=\"dataframe\">\n",
       "  <thead>\n",
       "    <tr style=\"text-align: right;\">\n",
       "      <th></th>\n",
       "      <th>Country/Region</th>\n",
       "      <th>Cases</th>\n",
       "      <th>Deaths</th>\n",
       "      <th>PCases</th>\n",
       "      <th>PDeaths</th>\n",
       "      <th>Cases (+)</th>\n",
       "      <th>Deaths (+)</th>\n",
       "      <th>Fatality Rate</th>\n",
       "      <th>Continent</th>\n",
       "    </tr>\n",
       "  </thead>\n",
       "  <tbody>\n",
       "    <tr>\n",
       "      <th>0</th>\n",
       "      <td>US</td>\n",
       "      <td>87821971</td>\n",
       "      <td>1017817</td>\n",
       "      <td>87627486</td>\n",
       "      <td>1017277</td>\n",
       "      <td>194485</td>\n",
       "      <td>540</td>\n",
       "      <td>1.2</td>\n",
       "      <td>North America</td>\n",
       "    </tr>\n",
       "    <tr>\n",
       "      <th>1</th>\n",
       "      <td>India</td>\n",
       "      <td>43486326</td>\n",
       "      <td>525168</td>\n",
       "      <td>43469234</td>\n",
       "      <td>525139</td>\n",
       "      <td>17092</td>\n",
       "      <td>29</td>\n",
       "      <td>1.2</td>\n",
       "      <td>Asia</td>\n",
       "    </tr>\n",
       "    <tr>\n",
       "      <th>2</th>\n",
       "      <td>Brazil</td>\n",
       "      <td>32434063</td>\n",
       "      <td>671700</td>\n",
       "      <td>32358018</td>\n",
       "      <td>671416</td>\n",
       "      <td>76045</td>\n",
       "      <td>284</td>\n",
       "      <td>2.1</td>\n",
       "      <td>South America</td>\n",
       "    </tr>\n",
       "    <tr>\n",
       "      <th>3</th>\n",
       "      <td>France</td>\n",
       "      <td>31410383</td>\n",
       "      <td>150624</td>\n",
       "      <td>31285317</td>\n",
       "      <td>150572</td>\n",
       "      <td>125066</td>\n",
       "      <td>52</td>\n",
       "      <td>0.5</td>\n",
       "      <td>Europe</td>\n",
       "    </tr>\n",
       "    <tr>\n",
       "      <th>4</th>\n",
       "      <td>Germany</td>\n",
       "      <td>28392629</td>\n",
       "      <td>141292</td>\n",
       "      <td>28293960</td>\n",
       "      <td>141189</td>\n",
       "      <td>98669</td>\n",
       "      <td>103</td>\n",
       "      <td>0.5</td>\n",
       "      <td>Europe</td>\n",
       "    </tr>\n",
       "  </tbody>\n",
       "</table>\n",
       "</div>"
      ],
      "text/plain": [
       "  Country/Region     Cases   Deaths    PCases  PDeaths  Cases (+)  Deaths (+)  \\\n",
       "0             US  87821971  1017817  87627486  1017277     194485         540   \n",
       "1          India  43486326   525168  43469234   525139      17092          29   \n",
       "2         Brazil  32434063   671700  32358018   671416      76045         284   \n",
       "3         France  31410383   150624  31285317   150572     125066          52   \n",
       "4        Germany  28392629   141292  28293960   141189      98669         103   \n",
       "\n",
       "   Fatality Rate      Continent  \n",
       "0            1.2  North America  \n",
       "1            1.2           Asia  \n",
       "2            2.1  South America  \n",
       "3            0.5         Europe  \n",
       "4            0.5         Europe  "
      ]
     },
     "execution_count": 15,
     "metadata": {},
     "output_type": "execute_result"
    }
   ],
   "source": [
    "#hide\n",
    "df_table = (pd.DataFrame(dict(Cases=dfc_cases, Deaths=dfc_deaths, PCases=dfp_cases, PDeaths=dfp_deaths))\n",
    "             .sort_values(by=['Cases', 'Deaths'], ascending=[False, False])\n",
    "             .reset_index())\n",
    "df_table.rename(columns={'index': 'Country/Region'}, inplace=True)\n",
    "for c in 'Cases, Deaths'.split(', '):\n",
    "    df_table[f'{c} (+)'] = (df_table[c] - df_table[f'P{c}']).clip(0)  # DATA BUG\n",
    "df_table['Fatality Rate'] = (100 * df_table['Deaths'] / df_table['Cases']).round(1)\n",
    "df_table['Continent'] = df_table['Country/Region'].map(mapping['map.continent'])\n",
    "df_table.head(5)"
   ]
  },
  {
   "cell_type": "code",
   "execution_count": 16,
   "id": "fewer-occasion",
   "metadata": {
    "execution": {
     "iopub.execute_input": "2022-07-03T00:43:24.441065Z",
     "iopub.status.busy": "2022-07-03T00:43:24.440480Z",
     "iopub.status.idle": "2022-07-03T00:43:24.442824Z",
     "shell.execute_reply": "2022-07-03T00:43:24.443313Z"
    },
    "papermill": {
     "duration": 0.037853,
     "end_time": "2022-07-03T00:43:24.443443",
     "exception": false,
     "start_time": "2022-07-03T00:43:24.405590",
     "status": "completed"
    },
    "tags": []
   },
   "outputs": [],
   "source": [
    "#hide\n",
    "#delete problematic countries from table\n",
    "df_table = df_table[~df_table['Country/Region'].isin(['Cape Verde', 'Cruise Ship', 'Kosovo'])]"
   ]
  },
  {
   "cell_type": "code",
   "execution_count": 17,
   "id": "related-center",
   "metadata": {
    "execution": {
     "iopub.execute_input": "2022-07-03T00:43:24.511891Z",
     "iopub.status.busy": "2022-07-03T00:43:24.511306Z",
     "iopub.status.idle": "2022-07-03T00:43:24.523770Z",
     "shell.execute_reply": "2022-07-03T00:43:24.523287Z"
    },
    "papermill": {
     "duration": 0.050442,
     "end_time": "2022-07-03T00:43:24.523878",
     "exception": false,
     "start_time": "2022-07-03T00:43:24.473436",
     "status": "completed"
    },
    "tags": []
   },
   "outputs": [],
   "source": [
    "#hide\n",
    "metrics = [df_table.columns[index] for index in [1,2,5,6]]\n",
    "# s_china = df_table[df_table['Country/Region'].eq('China')][metrics].sum().add_prefix('China ')\n",
    "s_us = df_table[df_table['Country/Region'].eq('US')][metrics].sum().add_prefix('US ')\n",
    "s_eu = df_table[df_table['Continent'].eq('Europe')][metrics].sum().add_prefix('EU ')\n",
    "s_ind = df_table[df_table['Country/Region'].eq('India')][metrics].sum().add_prefix('India ')\n",
    "summary = {'updated': pd.to_datetime(dt_today), 'since': pd.to_datetime(dt_yday)}\n",
    "summary = {'updated': pd.to_datetime(dt_today), 'since': pd.to_datetime(dt_yday)}\n",
    "summary = {**summary, **df_table[metrics].sum(), **s_ind, **s_us, **s_eu}"
   ]
  },
  {
   "cell_type": "code",
   "execution_count": 18,
   "id": "engaging-syndrome",
   "metadata": {
    "execution": {
     "iopub.execute_input": "2022-07-03T00:43:24.590813Z",
     "iopub.status.busy": "2022-07-03T00:43:24.590196Z",
     "iopub.status.idle": "2022-07-03T00:43:24.608126Z",
     "shell.execute_reply": "2022-07-03T00:43:24.607637Z"
    },
    "papermill": {
     "duration": 0.05371,
     "end_time": "2022-07-03T00:43:24.608239",
     "exception": false,
     "start_time": "2022-07-03T00:43:24.554529",
     "status": "completed"
    },
    "tags": []
   },
   "outputs": [],
   "source": [
    "#hide\n",
    "dft_ct_new_cases = dft_cases.groupby(COL_REGION)[dt_cols].sum().diff(axis=1).fillna(0).astype(int)"
   ]
  },
  {
   "cell_type": "code",
   "execution_count": 19,
   "id": "neutral-assignment",
   "metadata": {
    "execution": {
     "iopub.execute_input": "2022-07-03T00:43:24.675316Z",
     "iopub.status.busy": "2022-07-03T00:43:24.674731Z",
     "iopub.status.idle": "2022-07-03T00:43:24.677468Z",
     "shell.execute_reply": "2022-07-03T00:43:24.676998Z"
    },
    "papermill": {
     "duration": 0.039184,
     "end_time": "2022-07-03T00:43:24.677579",
     "exception": false,
     "start_time": "2022-07-03T00:43:24.638395",
     "status": "completed"
    },
    "tags": []
   },
   "outputs": [],
   "source": [
    "#hide\n",
    "everydaycases = dft_ct_new_cases.cumsum(axis=1)"
   ]
  },
  {
   "cell_type": "code",
   "execution_count": 20,
   "id": "parliamentary-calgary",
   "metadata": {
    "execution": {
     "iopub.execute_input": "2022-07-03T00:43:24.743014Z",
     "iopub.status.busy": "2022-07-03T00:43:24.742394Z",
     "iopub.status.idle": "2022-07-03T00:43:25.322237Z",
     "shell.execute_reply": "2022-07-03T00:43:25.321625Z"
    },
    "papermill": {
     "duration": 0.614495,
     "end_time": "2022-07-03T00:43:25.322389",
     "exception": false,
     "start_time": "2022-07-03T00:43:24.707894",
     "status": "completed"
    },
    "tags": []
   },
   "outputs": [],
   "source": [
    "#hide\n",
    "import pandas as pd\n",
    "import matplotlib.pyplot as plt\n",
    "import matplotlib.ticker as ticker\n",
    "import matplotlib.animation as animation\n",
    "from IPython.display import HTML"
   ]
  },
  {
   "cell_type": "code",
   "execution_count": 21,
   "id": "lasting-extraction",
   "metadata": {
    "execution": {
     "iopub.execute_input": "2022-07-03T00:43:25.390859Z",
     "iopub.status.busy": "2022-07-03T00:43:25.390138Z",
     "iopub.status.idle": "2022-07-03T00:43:25.397565Z",
     "shell.execute_reply": "2022-07-03T00:43:25.396974Z"
    },
    "papermill": {
     "duration": 0.044663,
     "end_time": "2022-07-03T00:43:25.397678",
     "exception": false,
     "start_time": "2022-07-03T00:43:25.353015",
     "status": "completed"
    },
    "tags": []
   },
   "outputs": [],
   "source": [
    "#hide\n",
    "t = everydaycases.stack()"
   ]
  },
  {
   "cell_type": "code",
   "execution_count": 22,
   "id": "premier-sleeve",
   "metadata": {
    "execution": {
     "iopub.execute_input": "2022-07-03T00:43:25.463483Z",
     "iopub.status.busy": "2022-07-03T00:43:25.462869Z",
     "iopub.status.idle": "2022-07-03T00:43:25.474346Z",
     "shell.execute_reply": "2022-07-03T00:43:25.474913Z"
    },
    "papermill": {
     "duration": 0.046991,
     "end_time": "2022-07-03T00:43:25.475050",
     "exception": false,
     "start_time": "2022-07-03T00:43:25.428059",
     "status": "completed"
    },
    "tags": []
   },
   "outputs": [],
   "source": [
    "#hide\n",
    "g = t.reset_index(['Country/Region'])"
   ]
  },
  {
   "cell_type": "code",
   "execution_count": 23,
   "id": "distributed-pittsburgh",
   "metadata": {
    "execution": {
     "iopub.execute_input": "2022-07-03T00:43:25.539705Z",
     "iopub.status.busy": "2022-07-03T00:43:25.539101Z",
     "iopub.status.idle": "2022-07-03T00:43:25.541777Z",
     "shell.execute_reply": "2022-07-03T00:43:25.541205Z"
    },
    "papermill": {
     "duration": 0.036698,
     "end_time": "2022-07-03T00:43:25.541886",
     "exception": false,
     "start_time": "2022-07-03T00:43:25.505188",
     "status": "completed"
    },
    "tags": []
   },
   "outputs": [],
   "source": [
    "#hide\n",
    "g.index.name = 'date'"
   ]
  },
  {
   "cell_type": "code",
   "execution_count": 24,
   "id": "naked-donor",
   "metadata": {
    "execution": {
     "iopub.execute_input": "2022-07-03T00:43:25.606047Z",
     "iopub.status.busy": "2022-07-03T00:43:25.605376Z",
     "iopub.status.idle": "2022-07-03T00:43:25.608067Z",
     "shell.execute_reply": "2022-07-03T00:43:25.607419Z"
    },
    "papermill": {
     "duration": 0.035948,
     "end_time": "2022-07-03T00:43:25.608189",
     "exception": false,
     "start_time": "2022-07-03T00:43:25.572241",
     "status": "completed"
    },
    "tags": []
   },
   "outputs": [],
   "source": [
    "# #hide\n",
    "# g = g.reset_index(['date'])"
   ]
  },
  {
   "cell_type": "code",
   "execution_count": 25,
   "id": "incomplete-mustang",
   "metadata": {
    "execution": {
     "iopub.execute_input": "2022-07-03T00:43:25.672806Z",
     "iopub.status.busy": "2022-07-03T00:43:25.672110Z",
     "iopub.status.idle": "2022-07-03T00:43:25.674641Z",
     "shell.execute_reply": "2022-07-03T00:43:25.673959Z"
    },
    "papermill": {
     "duration": 0.036312,
     "end_time": "2022-07-03T00:43:25.674763",
     "exception": false,
     "start_time": "2022-07-03T00:43:25.638451",
     "status": "completed"
    },
    "tags": []
   },
   "outputs": [],
   "source": [
    "#hide\n",
    "# g.head()"
   ]
  },
  {
   "cell_type": "code",
   "execution_count": 26,
   "id": "specific-kruger",
   "metadata": {
    "execution": {
     "iopub.execute_input": "2022-07-03T00:43:25.739447Z",
     "iopub.status.busy": "2022-07-03T00:43:25.738758Z",
     "iopub.status.idle": "2022-07-03T00:43:25.741317Z",
     "shell.execute_reply": "2022-07-03T00:43:25.740845Z"
    },
    "papermill": {
     "duration": 0.03596,
     "end_time": "2022-07-03T00:43:25.741421",
     "exception": false,
     "start_time": "2022-07-03T00:43:25.705461",
     "status": "completed"
    },
    "tags": []
   },
   "outputs": [],
   "source": [
    "#hide\n",
    "# g.columns = ['date','country','cases']"
   ]
  },
  {
   "cell_type": "code",
   "execution_count": 27,
   "id": "tender-conversion",
   "metadata": {
    "execution": {
     "iopub.execute_input": "2022-07-03T00:43:25.805875Z",
     "iopub.status.busy": "2022-07-03T00:43:25.805165Z",
     "iopub.status.idle": "2022-07-03T00:43:25.807765Z",
     "shell.execute_reply": "2022-07-03T00:43:25.807225Z"
    },
    "papermill": {
     "duration": 0.036399,
     "end_time": "2022-07-03T00:43:25.807889",
     "exception": false,
     "start_time": "2022-07-03T00:43:25.771490",
     "status": "completed"
    },
    "tags": []
   },
   "outputs": [],
   "source": [
    "#hide\n",
    "# g['continent'] = g.country"
   ]
  },
  {
   "cell_type": "code",
   "execution_count": 28,
   "id": "substantial-wilderness",
   "metadata": {
    "execution": {
     "iopub.execute_input": "2022-07-03T00:43:25.873159Z",
     "iopub.status.busy": "2022-07-03T00:43:25.872496Z",
     "iopub.status.idle": "2022-07-03T00:43:25.874485Z",
     "shell.execute_reply": "2022-07-03T00:43:25.874950Z"
    },
    "papermill": {
     "duration": 0.036359,
     "end_time": "2022-07-03T00:43:25.875076",
     "exception": false,
     "start_time": "2022-07-03T00:43:25.838717",
     "status": "completed"
    },
    "tags": []
   },
   "outputs": [],
   "source": [
    "#hide\n",
    "# cols = list(g.columns.values)"
   ]
  },
  {
   "cell_type": "code",
   "execution_count": 29,
   "id": "solved-farming",
   "metadata": {
    "execution": {
     "iopub.execute_input": "2022-07-03T00:43:25.939150Z",
     "iopub.status.busy": "2022-07-03T00:43:25.938556Z",
     "iopub.status.idle": "2022-07-03T00:43:25.941313Z",
     "shell.execute_reply": "2022-07-03T00:43:25.940844Z"
    },
    "papermill": {
     "duration": 0.036348,
     "end_time": "2022-07-03T00:43:25.941420",
     "exception": false,
     "start_time": "2022-07-03T00:43:25.905072",
     "status": "completed"
    },
    "tags": []
   },
   "outputs": [],
   "source": [
    "#hide\n",
    "# cols.insert(0, cols.pop())"
   ]
  },
  {
   "cell_type": "code",
   "execution_count": 30,
   "id": "executed-adoption",
   "metadata": {
    "execution": {
     "iopub.execute_input": "2022-07-03T00:43:26.006383Z",
     "iopub.status.busy": "2022-07-03T00:43:26.005719Z",
     "iopub.status.idle": "2022-07-03T00:43:26.008233Z",
     "shell.execute_reply": "2022-07-03T00:43:26.007749Z"
    },
    "papermill": {
     "duration": 0.03656,
     "end_time": "2022-07-03T00:43:26.008344",
     "exception": false,
     "start_time": "2022-07-03T00:43:25.971784",
     "status": "completed"
    },
    "tags": []
   },
   "outputs": [],
   "source": [
    "#hide\n",
    "# g = g[cols]"
   ]
  },
  {
   "cell_type": "code",
   "execution_count": 31,
   "id": "subject-dublin",
   "metadata": {
    "execution": {
     "iopub.execute_input": "2022-07-03T00:43:26.072865Z",
     "iopub.status.busy": "2022-07-03T00:43:26.072278Z",
     "iopub.status.idle": "2022-07-03T00:43:26.074713Z",
     "shell.execute_reply": "2022-07-03T00:43:26.075139Z"
    },
    "papermill": {
     "duration": 0.036729,
     "end_time": "2022-07-03T00:43:26.075271",
     "exception": false,
     "start_time": "2022-07-03T00:43:26.038542",
     "status": "completed"
    },
    "tags": []
   },
   "outputs": [],
   "source": [
    "#hide\n",
    "# g['continent'] = g['continent'].map(mapping['map.continent'])"
   ]
  },
  {
   "cell_type": "code",
   "execution_count": 32,
   "id": "freelance-scout",
   "metadata": {
    "execution": {
     "iopub.execute_input": "2022-07-03T00:43:26.139921Z",
     "iopub.status.busy": "2022-07-03T00:43:26.139305Z",
     "iopub.status.idle": "2022-07-03T00:43:26.143187Z",
     "shell.execute_reply": "2022-07-03T00:43:26.143635Z"
    },
    "papermill": {
     "duration": 0.038189,
     "end_time": "2022-07-03T00:43:26.143766",
     "exception": false,
     "start_time": "2022-07-03T00:43:26.105577",
     "status": "completed"
    },
    "tags": []
   },
   "outputs": [],
   "source": [
    "#hide\n",
    "# g.head()"
   ]
  },
  {
   "cell_type": "code",
   "execution_count": 33,
   "id": "limited-engine",
   "metadata": {
    "execution": {
     "iopub.execute_input": "2022-07-03T00:43:26.208279Z",
     "iopub.status.busy": "2022-07-03T00:43:26.207574Z",
     "iopub.status.idle": "2022-07-03T00:43:26.210048Z",
     "shell.execute_reply": "2022-07-03T00:43:26.209460Z"
    },
    "papermill": {
     "duration": 0.036241,
     "end_time": "2022-07-03T00:43:26.210180",
     "exception": false,
     "start_time": "2022-07-03T00:43:26.173939",
     "status": "completed"
    },
    "tags": []
   },
   "outputs": [],
   "source": [
    "# hide\n",
    "# g['date'] = g['date'].astype('datetime64[ns]')"
   ]
  },
  {
   "cell_type": "code",
   "execution_count": 34,
   "id": "sophisticated-supervisor",
   "metadata": {
    "execution": {
     "iopub.execute_input": "2022-07-03T00:43:26.275308Z",
     "iopub.status.busy": "2022-07-03T00:43:26.274702Z",
     "iopub.status.idle": "2022-07-03T00:43:26.276983Z",
     "shell.execute_reply": "2022-07-03T00:43:26.277465Z"
    },
    "papermill": {
     "duration": 0.036921,
     "end_time": "2022-07-03T00:43:26.277598",
     "exception": false,
     "start_time": "2022-07-03T00:43:26.240677",
     "status": "completed"
    },
    "tags": []
   },
   "outputs": [],
   "source": [
    "#hide\n",
    "# g['date'] = g.date.dt.dayofyear"
   ]
  },
  {
   "cell_type": "code",
   "execution_count": 35,
   "id": "inside-dubai",
   "metadata": {
    "execution": {
     "iopub.execute_input": "2022-07-03T00:43:26.342002Z",
     "iopub.status.busy": "2022-07-03T00:43:26.341382Z",
     "iopub.status.idle": "2022-07-03T00:43:26.345540Z",
     "shell.execute_reply": "2022-07-03T00:43:26.345065Z"
    },
    "papermill": {
     "duration": 0.037962,
     "end_time": "2022-07-03T00:43:26.345648",
     "exception": false,
     "start_time": "2022-07-03T00:43:26.307686",
     "status": "completed"
    },
    "tags": []
   },
   "outputs": [],
   "source": [
    "#hide\n",
    "# g = g.rename(columns= {'continent':'group','country':'name','cases':'value'})"
   ]
  },
  {
   "cell_type": "code",
   "execution_count": 36,
   "id": "fleet-motorcycle",
   "metadata": {
    "execution": {
     "iopub.execute_input": "2022-07-03T00:43:26.411014Z",
     "iopub.status.busy": "2022-07-03T00:43:26.410304Z",
     "iopub.status.idle": "2022-07-03T00:43:26.412892Z",
     "shell.execute_reply": "2022-07-03T00:43:26.412343Z"
    },
    "papermill": {
     "duration": 0.036868,
     "end_time": "2022-07-03T00:43:26.413001",
     "exception": false,
     "start_time": "2022-07-03T00:43:26.376133",
     "status": "completed"
    },
    "tags": []
   },
   "outputs": [],
   "source": [
    "#hide\n",
    "# cols = ['name','group','day','value']"
   ]
  },
  {
   "cell_type": "code",
   "execution_count": 37,
   "id": "continued-sleeping",
   "metadata": {
    "execution": {
     "iopub.execute_input": "2022-07-03T00:43:26.478993Z",
     "iopub.status.busy": "2022-07-03T00:43:26.478261Z",
     "iopub.status.idle": "2022-07-03T00:43:26.480027Z",
     "shell.execute_reply": "2022-07-03T00:43:26.480538Z"
    },
    "papermill": {
     "duration": 0.036506,
     "end_time": "2022-07-03T00:43:26.480683",
     "exception": false,
     "start_time": "2022-07-03T00:43:26.444177",
     "status": "completed"
    },
    "tags": []
   },
   "outputs": [],
   "source": [
    "#hide\n",
    "# g.rename(columns= {'date':'day'},inplace = True)"
   ]
  },
  {
   "cell_type": "code",
   "execution_count": 38,
   "id": "major-fight",
   "metadata": {
    "execution": {
     "iopub.execute_input": "2022-07-03T00:43:26.545565Z",
     "iopub.status.busy": "2022-07-03T00:43:26.544950Z",
     "iopub.status.idle": "2022-07-03T00:43:26.548787Z",
     "shell.execute_reply": "2022-07-03T00:43:26.548305Z"
    },
    "papermill": {
     "duration": 0.037549,
     "end_time": "2022-07-03T00:43:26.548895",
     "exception": false,
     "start_time": "2022-07-03T00:43:26.511346",
     "status": "completed"
    },
    "tags": []
   },
   "outputs": [],
   "source": [
    "#hide\n",
    "# g = g[cols]"
   ]
  },
  {
   "cell_type": "code",
   "execution_count": 39,
   "id": "structured-mobile",
   "metadata": {
    "execution": {
     "iopub.execute_input": "2022-07-03T00:43:26.614130Z",
     "iopub.status.busy": "2022-07-03T00:43:26.613431Z",
     "iopub.status.idle": "2022-07-03T00:43:26.616052Z",
     "shell.execute_reply": "2022-07-03T00:43:26.615510Z"
    },
    "papermill": {
     "duration": 0.036548,
     "end_time": "2022-07-03T00:43:26.616178",
     "exception": false,
     "start_time": "2022-07-03T00:43:26.579630",
     "status": "completed"
    },
    "tags": []
   },
   "outputs": [],
   "source": [
    "# #hide\n",
    "# g = g[g.group.notna()]"
   ]
  },
  {
   "cell_type": "code",
   "execution_count": 40,
   "id": "determined-closing",
   "metadata": {
    "execution": {
     "iopub.execute_input": "2022-07-03T00:43:26.681253Z",
     "iopub.status.busy": "2022-07-03T00:43:26.680549Z",
     "iopub.status.idle": "2022-07-03T00:43:26.684148Z",
     "shell.execute_reply": "2022-07-03T00:43:26.684661Z"
    },
    "papermill": {
     "duration": 0.038093,
     "end_time": "2022-07-03T00:43:26.684797",
     "exception": false,
     "start_time": "2022-07-03T00:43:26.646704",
     "status": "completed"
    },
    "tags": []
   },
   "outputs": [],
   "source": [
    "# #hide\n",
    "# colors = dict(zip(\n",
    "#     [\"Oceania\", \"Europe\", \"Asia\", \"South America\", \"Middle East\", \"North America\", \"Africa\"],\n",
    "#     [\"#adb0ff\", \"#ffb3ff\", \"#90d595\", \"#e48381\", \"#aafbff\", \"#f7bb5f\", \"#eafb50\"]\n",
    "# ))\n",
    "# group_lk = g.set_index('name')['group'].to_dict()"
   ]
  },
  {
   "cell_type": "code",
   "execution_count": null,
   "id": "gross-drinking",
   "metadata": {
    "papermill": {
     "duration": 0.030041,
     "end_time": "2022-07-03T00:43:26.745259",
     "exception": false,
     "start_time": "2022-07-03T00:43:26.715218",
     "status": "completed"
    },
    "tags": []
   },
   "outputs": [],
   "source": []
  },
  {
   "cell_type": "code",
   "execution_count": 41,
   "id": "subject-macintosh",
   "metadata": {
    "execution": {
     "iopub.execute_input": "2022-07-03T00:43:26.810876Z",
     "iopub.status.busy": "2022-07-03T00:43:26.810221Z",
     "iopub.status.idle": "2022-07-03T00:43:26.812687Z",
     "shell.execute_reply": "2022-07-03T00:43:26.812202Z"
    },
    "papermill": {
     "duration": 0.03712,
     "end_time": "2022-07-03T00:43:26.812802",
     "exception": false,
     "start_time": "2022-07-03T00:43:26.775682",
     "status": "completed"
    },
    "tags": []
   },
   "outputs": [],
   "source": [
    "# #hide\n",
    "# fig, ax = plt.subplots(figsize=(15, 8))\n",
    "\n",
    "# def draw_barchart(current_day):\n",
    "#     dff = g[g['day'].eq(current_day)].sort_values(by='value', ascending=True).tail(10)\n",
    "#     ax.clear()\n",
    "#     ax.barh(dff['name'], dff['value'], color=[colors[group_lk[x]] for x in dff['name']])\n",
    "#     dx = dff['value'].max() / 200\n",
    "    \n",
    "#     for i, (value, name) in enumerate(zip(dff['value'], dff['name'])):\n",
    "#         ax.text(value-dx, i,     name,           size=14, weight=600, ha='right', va='bottom')\n",
    "#         ax.text(value-dx, i-.25, group_lk[name], size=10, color='#444444', ha='right', va='baseline')\n",
    "#         ax.text(value+dx, i,     f'{value:,.0f}',  size=14, ha='left',  va='center')\n",
    "#     ax.text(1, 0.4, current_day, transform=ax.transAxes, color='#777777', size=46, ha='right', weight=800)\n",
    "#     ax.text(0, 1.06, 'Population (thousands)', transform=ax.transAxes, size=12, color='#777777')\n",
    "#     ax.xaxis.set_major_formatter(ticker.StrMethodFormatter('{x:,.0f}'))\n",
    "#     ax.xaxis.set_ticks_position('top')\n",
    "#     ax.tick_params(axis='x', colors='#777777', labelsize=12)\n",
    "#     ax.set_yticks([])\n",
    "#     ax.margins(0, 0.01)\n",
    "#     ax.grid(which='major', axis='x', linestyle='-')\n",
    "#     ax.set_axisbelow(True)\n",
    "    \n",
    "#     ax.text(0, 1.15, 'Coronavirus',\n",
    "#             transform=ax.transAxes, size=24, weight=600, ha='left', va='top')\n",
    "# #     ax.text(1, 0, 'by @pratapvardhan; credit @jburnmurdoch', transform=ax.transAxes, color='#777777', ha='right',\n",
    "# #             bbox=dict(facecolor='white', alpha=0.8, edgecolor='white'))\n",
    "#     plt.box(False)"
   ]
  },
  {
   "cell_type": "code",
   "execution_count": 42,
   "id": "sexual-wages",
   "metadata": {
    "execution": {
     "iopub.execute_input": "2022-07-03T00:43:26.877870Z",
     "iopub.status.busy": "2022-07-03T00:43:26.877167Z",
     "iopub.status.idle": "2022-07-03T00:43:26.879340Z",
     "shell.execute_reply": "2022-07-03T00:43:26.879820Z"
    },
    "papermill": {
     "duration": 0.036885,
     "end_time": "2022-07-03T00:43:26.879965",
     "exception": false,
     "start_time": "2022-07-03T00:43:26.843080",
     "status": "completed"
    },
    "tags": []
   },
   "outputs": [],
   "source": [
    "# #hide_input\n",
    "# fig, ax = plt.subplots(figsize=(15, 8))\n",
    "# animator = animation.FuncAnimation(fig, draw_barchart, frames=range(g.day.values.min(), g.day.values.max()))\n",
    "# HTML(animator.to_jshtml())\n",
    "# # or use animator.to_html5_video() or animator.save() "
   ]
  },
  {
   "cell_type": "code",
   "execution_count": null,
   "id": "australian-container",
   "metadata": {
    "papermill": {
     "duration": 0.030196,
     "end_time": "2022-07-03T00:43:26.940570",
     "exception": false,
     "start_time": "2022-07-03T00:43:26.910374",
     "status": "completed"
    },
    "tags": []
   },
   "outputs": [],
   "source": []
  },
  {
   "cell_type": "code",
   "execution_count": null,
   "id": "mediterranean-pontiac",
   "metadata": {
    "papermill": {
     "duration": 0.030055,
     "end_time": "2022-07-03T00:43:27.000830",
     "exception": false,
     "start_time": "2022-07-03T00:43:26.970775",
     "status": "completed"
    },
    "tags": []
   },
   "outputs": [],
   "source": []
  },
  {
   "cell_type": "code",
   "execution_count": null,
   "id": "aging-legislature",
   "metadata": {
    "papermill": {
     "duration": 0.029953,
     "end_time": "2022-07-03T00:43:27.061117",
     "exception": false,
     "start_time": "2022-07-03T00:43:27.031164",
     "status": "completed"
    },
    "tags": []
   },
   "outputs": [],
   "source": []
  }
 ],
 "metadata": {
  "kernelspec": {
   "display_name": "Python 3",
   "language": "python",
   "name": "python3"
  },
  "language_info": {
   "codemirror_mode": {
    "name": "ipython",
    "version": 3
   },
   "file_extension": ".py",
   "mimetype": "text/x-python",
   "name": "python",
   "nbconvert_exporter": "python",
   "pygments_lexer": "ipython3",
   "version": "3.6.15"
  },
  "papermill": {
   "duration": 5.821121,
   "end_time": "2022-07-03T00:43:27.410265",
   "environment_variables": {},
   "exception": null,
   "input_path": "2020-03-21-covid19exp.ipynb",
   "output_path": "2020-03-21-covid19exp.ipynb",
   "parameters": {},
   "start_time": "2022-07-03T00:43:21.589144",
   "version": "2.0.0"
  }
 },
 "nbformat": 4,
 "nbformat_minor": 5
}