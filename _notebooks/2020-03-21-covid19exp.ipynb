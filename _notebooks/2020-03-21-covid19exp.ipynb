{
 "cells": [
  {
   "cell_type": "markdown",
   "id": "muslim-click",
   "metadata": {
    "papermill": {
     "duration": 0.035642,
     "end_time": "2022-08-29T00:49:23.716837",
     "exception": false,
     "start_time": "2022-08-29T00:49:23.681195",
     "status": "completed"
    },
    "tags": []
   },
   "source": [
    "# COVID-19 Case Race\n",
    "> A race chart to see rising cases around the world\n",
    "\n",
    "- author: Hargun Oberoi\n",
    "- image: images/covid-overview.png\n",
    "- hide: false\n",
    "- badges: false"
   ]
  },
  {
   "cell_type": "code",
   "execution_count": 1,
   "id": "proof-material",
   "metadata": {
    "execution": {
     "iopub.execute_input": "2022-08-29T00:49:23.786461Z",
     "iopub.status.busy": "2022-08-29T00:49:23.785838Z",
     "iopub.status.idle": "2022-08-29T00:49:24.109912Z",
     "shell.execute_reply": "2022-08-29T00:49:24.109276Z"
    },
    "papermill": {
     "duration": 0.363212,
     "end_time": "2022-08-29T00:49:24.110076",
     "exception": false,
     "start_time": "2022-08-29T00:49:23.746864",
     "status": "completed"
    },
    "tags": []
   },
   "outputs": [],
   "source": [
    "#hide\n",
    "import numpy as np\n",
    "import pandas as pd\n",
    "from jinja2 import Template\n",
    "from IPython.display import HTML"
   ]
  },
  {
   "cell_type": "code",
   "execution_count": 2,
   "id": "developed-terminology",
   "metadata": {
    "execution": {
     "iopub.execute_input": "2022-08-29T00:49:24.175063Z",
     "iopub.status.busy": "2022-08-29T00:49:24.174471Z",
     "iopub.status.idle": "2022-08-29T00:49:24.176773Z",
     "shell.execute_reply": "2022-08-29T00:49:24.177325Z"
    },
    "papermill": {
     "duration": 0.03636,
     "end_time": "2022-08-29T00:49:24.177455",
     "exception": false,
     "start_time": "2022-08-29T00:49:24.141095",
     "status": "completed"
    },
    "tags": []
   },
   "outputs": [],
   "source": [
    "#hide\n",
    "\n",
    "# FETCH\n",
    "base_url = 'https://raw.githubusercontent.com/pratapvardhan/notebooks/master/covid19/'\n",
    "paths = {\n",
    "    'mapping': base_url + 'mapping_countries.csv',\n",
    "    'overview': base_url + 'overview.tpl'\n",
    "}"
   ]
  },
  {
   "cell_type": "code",
   "execution_count": 3,
   "id": "dynamic-saver",
   "metadata": {
    "execution": {
     "iopub.execute_input": "2022-08-29T00:49:24.247491Z",
     "iopub.status.busy": "2022-08-29T00:49:24.246907Z",
     "iopub.status.idle": "2022-08-29T00:49:24.250175Z",
     "shell.execute_reply": "2022-08-29T00:49:24.250714Z"
    },
    "papermill": {
     "duration": 0.044325,
     "end_time": "2022-08-29T00:49:24.250840",
     "exception": false,
     "start_time": "2022-08-29T00:49:24.206515",
     "status": "completed"
    },
    "tags": []
   },
   "outputs": [
    {
     "data": {
      "text/plain": [
       "'https://raw.githubusercontent.com/pratapvardhan/notebooks/master/covid19/mapping_countries.csv'"
      ]
     },
     "execution_count": 3,
     "metadata": {},
     "output_type": "execute_result"
    }
   ],
   "source": [
    "#hide\n",
    "paths['mapping']"
   ]
  },
  {
   "cell_type": "code",
   "execution_count": 4,
   "id": "urban-software",
   "metadata": {
    "execution": {
     "iopub.execute_input": "2022-08-29T00:49:24.314587Z",
     "iopub.status.busy": "2022-08-29T00:49:24.314016Z",
     "iopub.status.idle": "2022-08-29T00:49:24.316410Z",
     "shell.execute_reply": "2022-08-29T00:49:24.316965Z"
    },
    "papermill": {
     "duration": 0.036832,
     "end_time": "2022-08-29T00:49:24.317089",
     "exception": false,
     "start_time": "2022-08-29T00:49:24.280257",
     "status": "completed"
    },
    "tags": []
   },
   "outputs": [],
   "source": [
    "#hide\n",
    "def get_mappings(url):\n",
    "    df = pd.read_csv(url)\n",
    "    return {\n",
    "        'df': df,\n",
    "        'replace.country': dict(df.dropna(subset=['Name']).set_index('Country')['Name']),\n",
    "        'map.continent': dict(df.set_index('Name')['Continent'])\n",
    "    }"
   ]
  },
  {
   "cell_type": "code",
   "execution_count": 5,
   "id": "intimate-machinery",
   "metadata": {
    "execution": {
     "iopub.execute_input": "2022-08-29T00:49:24.381183Z",
     "iopub.status.busy": "2022-08-29T00:49:24.380594Z",
     "iopub.status.idle": "2022-08-29T00:49:24.422339Z",
     "shell.execute_reply": "2022-08-29T00:49:24.421853Z"
    },
    "papermill": {
     "duration": 0.075899,
     "end_time": "2022-08-29T00:49:24.422451",
     "exception": false,
     "start_time": "2022-08-29T00:49:24.346552",
     "status": "completed"
    },
    "tags": []
   },
   "outputs": [],
   "source": [
    "#hide\n",
    "mapping = get_mappings(paths['mapping'])"
   ]
  },
  {
   "cell_type": "code",
   "execution_count": 6,
   "id": "certified-tactics",
   "metadata": {
    "execution": {
     "iopub.execute_input": "2022-08-29T00:49:24.486987Z",
     "iopub.status.busy": "2022-08-29T00:49:24.486372Z",
     "iopub.status.idle": "2022-08-29T00:49:24.488934Z",
     "shell.execute_reply": "2022-08-29T00:49:24.488464Z"
    },
    "papermill": {
     "duration": 0.036961,
     "end_time": "2022-08-29T00:49:24.489045",
     "exception": false,
     "start_time": "2022-08-29T00:49:24.452084",
     "status": "completed"
    },
    "tags": []
   },
   "outputs": [],
   "source": [
    "#hide\n",
    "def get_template(path):\n",
    "    from urllib.parse import urlparse\n",
    "    if bool(urlparse(path).netloc):\n",
    "        from urllib.request import urlopen\n",
    "        return urlopen(path).read().decode('utf8')\n",
    "    return open(path).read()"
   ]
  },
  {
   "cell_type": "code",
   "execution_count": 7,
   "id": "realistic-blast",
   "metadata": {
    "execution": {
     "iopub.execute_input": "2022-08-29T00:49:24.553353Z",
     "iopub.status.busy": "2022-08-29T00:49:24.552653Z",
     "iopub.status.idle": "2022-08-29T00:49:24.555149Z",
     "shell.execute_reply": "2022-08-29T00:49:24.554674Z"
    },
    "papermill": {
     "duration": 0.036775,
     "end_time": "2022-08-29T00:49:24.555262",
     "exception": false,
     "start_time": "2022-08-29T00:49:24.518487",
     "status": "completed"
    },
    "tags": []
   },
   "outputs": [],
   "source": [
    "#hide\n",
    "def get_frame(name):\n",
    "    url = (\n",
    "        'https://raw.githubusercontent.com/CSSEGISandData/COVID-19/master/csse_covid_19_data/'\n",
    "        f'csse_covid_19_time_series/time_series_covid19_{name}_global.csv')\n",
    "    df = pd.read_csv(url)\n",
    "    # rename countries\n",
    "    df['Country/Region'] = df['Country/Region'].replace(mapping['replace.country'])\n",
    "    return df"
   ]
  },
  {
   "cell_type": "code",
   "execution_count": 8,
   "id": "affiliated-characterization",
   "metadata": {
    "execution": {
     "iopub.execute_input": "2022-08-29T00:49:24.620079Z",
     "iopub.status.busy": "2022-08-29T00:49:24.619468Z",
     "iopub.status.idle": "2022-08-29T00:49:24.622477Z",
     "shell.execute_reply": "2022-08-29T00:49:24.622009Z"
    },
    "papermill": {
     "duration": 0.03783,
     "end_time": "2022-08-29T00:49:24.622587",
     "exception": false,
     "start_time": "2022-08-29T00:49:24.584757",
     "status": "completed"
    },
    "tags": []
   },
   "outputs": [],
   "source": [
    "#hide\n",
    "def get_dates(df):\n",
    "    dt_cols = df.columns[~df.columns.isin(['Province/State', 'Country/Region', 'Lat', 'Long'])]\n",
    "    LAST_DATE_I = -1\n",
    "    # sometimes last column may be empty, then go backwards\n",
    "    for i in range(-1, -len(dt_cols), -1):\n",
    "        if not df[dt_cols[i]].fillna(0).eq(0).all():\n",
    "            LAST_DATE_I = i\n",
    "            break\n",
    "    return LAST_DATE_I, dt_cols"
   ]
  },
  {
   "cell_type": "code",
   "execution_count": 9,
   "id": "recent-optimization",
   "metadata": {
    "execution": {
     "iopub.execute_input": "2022-08-29T00:49:24.686468Z",
     "iopub.status.busy": "2022-08-29T00:49:24.685865Z",
     "iopub.status.idle": "2022-08-29T00:49:25.175110Z",
     "shell.execute_reply": "2022-08-29T00:49:25.174521Z"
    },
    "papermill": {
     "duration": 0.523369,
     "end_time": "2022-08-29T00:49:25.175258",
     "exception": false,
     "start_time": "2022-08-29T00:49:24.651889",
     "status": "completed"
    },
    "tags": []
   },
   "outputs": [],
   "source": [
    "#hide\n",
    "COL_REGION = 'Country/Region'\n",
    "# Confirmed, Recovered, Deaths\n",
    "df = get_frame('confirmed')\n",
    "# dft_: timeseries, dfc_: today country agg\n",
    "dft_cases = df\n",
    "dft_deaths = get_frame('deaths')\n",
    "dft_recovered = get_frame('recovered')\n",
    "LAST_DATE_I, dt_cols = get_dates(df)"
   ]
  },
  {
   "cell_type": "code",
   "execution_count": 10,
   "id": "absolute-copper",
   "metadata": {
    "execution": {
     "iopub.execute_input": "2022-08-29T00:49:25.241585Z",
     "iopub.status.busy": "2022-08-29T00:49:25.240994Z",
     "iopub.status.idle": "2022-08-29T00:49:25.243057Z",
     "shell.execute_reply": "2022-08-29T00:49:25.243596Z"
    },
    "papermill": {
     "duration": 0.038171,
     "end_time": "2022-08-29T00:49:25.243725",
     "exception": false,
     "start_time": "2022-08-29T00:49:25.205554",
     "status": "completed"
    },
    "tags": []
   },
   "outputs": [],
   "source": [
    "#hide\n",
    "LAST_DATE_I, dt_cols = get_dates(df)\n",
    "dt_today =dt_cols[LAST_DATE_I]\n",
    "# dt_5day = dt_cols[LAST_DATE_I - 5]\n",
    "dt_yday = dt_cols[LAST_DATE_I - 1]"
   ]
  },
  {
   "cell_type": "code",
   "execution_count": 11,
   "id": "restricted-sheriff",
   "metadata": {
    "execution": {
     "iopub.execute_input": "2022-08-29T00:49:25.309812Z",
     "iopub.status.busy": "2022-08-29T00:49:25.309234Z",
     "iopub.status.idle": "2022-08-29T00:49:25.316732Z",
     "shell.execute_reply": "2022-08-29T00:49:25.316263Z"
    },
    "papermill": {
     "duration": 0.042025,
     "end_time": "2022-08-29T00:49:25.316839",
     "exception": false,
     "start_time": "2022-08-29T00:49:25.274814",
     "status": "completed"
    },
    "tags": []
   },
   "outputs": [],
   "source": [
    "#hide\n",
    "dfc_cases = dft_cases.groupby(COL_REGION)[dt_today].sum()\n",
    "dfc_deaths = dft_deaths.groupby(COL_REGION)[dt_today].sum()\n",
    "# dfp_cases = dft_cases.groupby(COL_REGION)[dt_5day].sum()\n",
    "# dfp_deaths = dft_deaths.groupby(COL_REGION)[dt_5day].sum()\n",
    "dfp_cases = dft_cases.groupby(COL_REGION)[dt_yday].sum()\n",
    "dfp_deaths = dft_deaths.groupby(COL_REGION)[dt_yday].sum()"
   ]
  },
  {
   "cell_type": "code",
   "execution_count": 12,
   "id": "deluxe-hepatitis",
   "metadata": {
    "execution": {
     "iopub.execute_input": "2022-08-29T00:49:25.381952Z",
     "iopub.status.busy": "2022-08-29T00:49:25.381346Z",
     "iopub.status.idle": "2022-08-29T00:49:25.386064Z",
     "shell.execute_reply": "2022-08-29T00:49:25.385497Z"
    },
    "papermill": {
     "duration": 0.040057,
     "end_time": "2022-08-29T00:49:25.386173",
     "exception": false,
     "start_time": "2022-08-29T00:49:25.346116",
     "status": "completed"
    },
    "tags": []
   },
   "outputs": [],
   "source": [
    "#hide\n",
    "df_table = (pd.DataFrame(dict(Cases = dfc_cases, Deaths = dfc_deaths, PCases = dfp_cases, PDeaths = dfp_deaths))\n",
    "            .sort_values(by = ['Cases','Deaths'], ascending = [False, False])\n",
    "            .reset_index())"
   ]
  },
  {
   "cell_type": "code",
   "execution_count": 13,
   "id": "educational-chancellor",
   "metadata": {
    "execution": {
     "iopub.execute_input": "2022-08-29T00:49:25.462592Z",
     "iopub.status.busy": "2022-08-29T00:49:25.461975Z",
     "iopub.status.idle": "2022-08-29T00:49:25.470311Z",
     "shell.execute_reply": "2022-08-29T00:49:25.470855Z"
    },
    "papermill": {
     "duration": 0.055459,
     "end_time": "2022-08-29T00:49:25.470989",
     "exception": false,
     "start_time": "2022-08-29T00:49:25.415530",
     "status": "completed"
    },
    "tags": []
   },
   "outputs": [
    {
     "data": {
      "text/html": [
       "<div>\n",
       "<style scoped>\n",
       "    .dataframe tbody tr th:only-of-type {\n",
       "        vertical-align: middle;\n",
       "    }\n",
       "\n",
       "    .dataframe tbody tr th {\n",
       "        vertical-align: top;\n",
       "    }\n",
       "\n",
       "    .dataframe thead th {\n",
       "        text-align: right;\n",
       "    }\n",
       "</style>\n",
       "<table border=\"1\" class=\"dataframe\">\n",
       "  <thead>\n",
       "    <tr style=\"text-align: right;\">\n",
       "      <th></th>\n",
       "      <th>Country/Region</th>\n",
       "      <th>Cases</th>\n",
       "      <th>Deaths</th>\n",
       "      <th>PCases</th>\n",
       "      <th>PDeaths</th>\n",
       "      <th>Cases (+)</th>\n",
       "      <th>Deaths (+)</th>\n",
       "      <th>Fatality Rate</th>\n",
       "      <th>Continent</th>\n",
       "    </tr>\n",
       "  </thead>\n",
       "  <tbody>\n",
       "    <tr>\n",
       "      <th>0</th>\n",
       "      <td>US</td>\n",
       "      <td>94184146</td>\n",
       "      <td>1043838</td>\n",
       "      <td>94171060</td>\n",
       "      <td>1043783</td>\n",
       "      <td>13086</td>\n",
       "      <td>55</td>\n",
       "      <td>1.11</td>\n",
       "      <td>North America</td>\n",
       "    </tr>\n",
       "    <tr>\n",
       "      <th>1</th>\n",
       "      <td>India</td>\n",
       "      <td>44408132</td>\n",
       "      <td>527754</td>\n",
       "      <td>44398696</td>\n",
       "      <td>527597</td>\n",
       "      <td>9436</td>\n",
       "      <td>157</td>\n",
       "      <td>1.19</td>\n",
       "      <td>Asia</td>\n",
       "    </tr>\n",
       "    <tr>\n",
       "      <th>2</th>\n",
       "      <td>France</td>\n",
       "      <td>34662834</td>\n",
       "      <td>154897</td>\n",
       "      <td>34662834</td>\n",
       "      <td>154897</td>\n",
       "      <td>0</td>\n",
       "      <td>0</td>\n",
       "      <td>0.45</td>\n",
       "      <td>Europe</td>\n",
       "    </tr>\n",
       "    <tr>\n",
       "      <th>3</th>\n",
       "      <td>Brazil</td>\n",
       "      <td>34368909</td>\n",
       "      <td>683397</td>\n",
       "      <td>34368909</td>\n",
       "      <td>683397</td>\n",
       "      <td>0</td>\n",
       "      <td>0</td>\n",
       "      <td>1.99</td>\n",
       "      <td>South America</td>\n",
       "    </tr>\n",
       "    <tr>\n",
       "      <th>4</th>\n",
       "      <td>Germany</td>\n",
       "      <td>32041349</td>\n",
       "      <td>147104</td>\n",
       "      <td>32041348</td>\n",
       "      <td>147104</td>\n",
       "      <td>1</td>\n",
       "      <td>0</td>\n",
       "      <td>0.46</td>\n",
       "      <td>Europe</td>\n",
       "    </tr>\n",
       "  </tbody>\n",
       "</table>\n",
       "</div>"
      ],
      "text/plain": [
       "  Country/Region     Cases   Deaths    PCases  PDeaths  Cases (+)  Deaths (+)  \\\n",
       "0             US  94184146  1043838  94171060  1043783      13086          55   \n",
       "1          India  44408132   527754  44398696   527597       9436         157   \n",
       "2         France  34662834   154897  34662834   154897          0           0   \n",
       "3         Brazil  34368909   683397  34368909   683397          0           0   \n",
       "4        Germany  32041349   147104  32041348   147104          1           0   \n",
       "\n",
       "   Fatality Rate      Continent  \n",
       "0           1.11  North America  \n",
       "1           1.19           Asia  \n",
       "2           0.45         Europe  \n",
       "3           1.99  South America  \n",
       "4           0.46         Europe  "
      ]
     },
     "execution_count": 13,
     "metadata": {},
     "output_type": "execute_result"
    }
   ],
   "source": [
    "#hide\n",
    "for c in 'Cases, Deaths'.split(', '):\n",
    "    df_table[f'{c} (+)'] = (df_table[c] - df_table[f'P{c}']).clip(0)\n",
    "    #Clip ça veut dire, les chiffres negatif sont interdit\n",
    "df_table['Fatality Rate'] = (100* df_table['Deaths']/ df_table['Cases']).round(2)\n",
    "df_table['Continent'] = df_table['Country/Region'].map(mapping['map.continent'])\n",
    "df_table.head(5)"
   ]
  },
  {
   "cell_type": "code",
   "execution_count": 14,
   "id": "aboriginal-bulgaria",
   "metadata": {
    "execution": {
     "iopub.execute_input": "2022-08-29T00:49:25.538968Z",
     "iopub.status.busy": "2022-08-29T00:49:25.538382Z",
     "iopub.status.idle": "2022-08-29T00:49:25.541589Z",
     "shell.execute_reply": "2022-08-29T00:49:25.542142Z"
    },
    "papermill": {
     "duration": 0.03936,
     "end_time": "2022-08-29T00:49:25.542277",
     "exception": false,
     "start_time": "2022-08-29T00:49:25.502917",
     "status": "completed"
    },
    "tags": []
   },
   "outputs": [],
   "source": [
    "#hide\n",
    "#delete problematic countries from table\n",
    "df_table = df_table[~df_table['Country/Region'].isin(['Cape Verde', 'Cruise Ship', 'Kosovo'])]"
   ]
  },
  {
   "cell_type": "code",
   "execution_count": 15,
   "id": "fantastic-effect",
   "metadata": {
    "execution": {
     "iopub.execute_input": "2022-08-29T00:49:25.610686Z",
     "iopub.status.busy": "2022-08-29T00:49:25.610100Z",
     "iopub.status.idle": "2022-08-29T00:49:25.628377Z",
     "shell.execute_reply": "2022-08-29T00:49:25.627892Z"
    },
    "papermill": {
     "duration": 0.056288,
     "end_time": "2022-08-29T00:49:25.628490",
     "exception": false,
     "start_time": "2022-08-29T00:49:25.572202",
     "status": "completed"
    },
    "tags": []
   },
   "outputs": [
    {
     "data": {
      "text/html": [
       "<div>\n",
       "<style scoped>\n",
       "    .dataframe tbody tr th:only-of-type {\n",
       "        vertical-align: middle;\n",
       "    }\n",
       "\n",
       "    .dataframe tbody tr th {\n",
       "        vertical-align: top;\n",
       "    }\n",
       "\n",
       "    .dataframe thead th {\n",
       "        text-align: right;\n",
       "    }\n",
       "</style>\n",
       "<table border=\"1\" class=\"dataframe\">\n",
       "  <thead>\n",
       "    <tr style=\"text-align: right;\">\n",
       "      <th></th>\n",
       "      <th>Country/Region</th>\n",
       "      <th>Cases</th>\n",
       "      <th>Deaths</th>\n",
       "      <th>PCases</th>\n",
       "      <th>PDeaths</th>\n",
       "      <th>Cases (+)</th>\n",
       "      <th>Deaths (+)</th>\n",
       "      <th>Fatality Rate</th>\n",
       "      <th>Continent</th>\n",
       "    </tr>\n",
       "  </thead>\n",
       "  <tbody>\n",
       "    <tr>\n",
       "      <th>0</th>\n",
       "      <td>US</td>\n",
       "      <td>94184146</td>\n",
       "      <td>1043838</td>\n",
       "      <td>94171060</td>\n",
       "      <td>1043783</td>\n",
       "      <td>13086</td>\n",
       "      <td>55</td>\n",
       "      <td>1.1</td>\n",
       "      <td>North America</td>\n",
       "    </tr>\n",
       "    <tr>\n",
       "      <th>1</th>\n",
       "      <td>India</td>\n",
       "      <td>44408132</td>\n",
       "      <td>527754</td>\n",
       "      <td>44398696</td>\n",
       "      <td>527597</td>\n",
       "      <td>9436</td>\n",
       "      <td>157</td>\n",
       "      <td>1.2</td>\n",
       "      <td>Asia</td>\n",
       "    </tr>\n",
       "    <tr>\n",
       "      <th>2</th>\n",
       "      <td>France</td>\n",
       "      <td>34662834</td>\n",
       "      <td>154897</td>\n",
       "      <td>34662834</td>\n",
       "      <td>154897</td>\n",
       "      <td>0</td>\n",
       "      <td>0</td>\n",
       "      <td>0.4</td>\n",
       "      <td>Europe</td>\n",
       "    </tr>\n",
       "    <tr>\n",
       "      <th>3</th>\n",
       "      <td>Brazil</td>\n",
       "      <td>34368909</td>\n",
       "      <td>683397</td>\n",
       "      <td>34368909</td>\n",
       "      <td>683397</td>\n",
       "      <td>0</td>\n",
       "      <td>0</td>\n",
       "      <td>2.0</td>\n",
       "      <td>South America</td>\n",
       "    </tr>\n",
       "    <tr>\n",
       "      <th>4</th>\n",
       "      <td>Germany</td>\n",
       "      <td>32041349</td>\n",
       "      <td>147104</td>\n",
       "      <td>32041348</td>\n",
       "      <td>147104</td>\n",
       "      <td>1</td>\n",
       "      <td>0</td>\n",
       "      <td>0.5</td>\n",
       "      <td>Europe</td>\n",
       "    </tr>\n",
       "  </tbody>\n",
       "</table>\n",
       "</div>"
      ],
      "text/plain": [
       "  Country/Region     Cases   Deaths    PCases  PDeaths  Cases (+)  Deaths (+)  \\\n",
       "0             US  94184146  1043838  94171060  1043783      13086          55   \n",
       "1          India  44408132   527754  44398696   527597       9436         157   \n",
       "2         France  34662834   154897  34662834   154897          0           0   \n",
       "3         Brazil  34368909   683397  34368909   683397          0           0   \n",
       "4        Germany  32041349   147104  32041348   147104          1           0   \n",
       "\n",
       "   Fatality Rate      Continent  \n",
       "0            1.1  North America  \n",
       "1            1.2           Asia  \n",
       "2            0.4         Europe  \n",
       "3            2.0  South America  \n",
       "4            0.5         Europe  "
      ]
     },
     "execution_count": 15,
     "metadata": {},
     "output_type": "execute_result"
    }
   ],
   "source": [
    "#hide\n",
    "df_table = (pd.DataFrame(dict(Cases=dfc_cases, Deaths=dfc_deaths, PCases=dfp_cases, PDeaths=dfp_deaths))\n",
    "             .sort_values(by=['Cases', 'Deaths'], ascending=[False, False])\n",
    "             .reset_index())\n",
    "df_table.rename(columns={'index': 'Country/Region'}, inplace=True)\n",
    "for c in 'Cases, Deaths'.split(', '):\n",
    "    df_table[f'{c} (+)'] = (df_table[c] - df_table[f'P{c}']).clip(0)  # DATA BUG\n",
    "df_table['Fatality Rate'] = (100 * df_table['Deaths'] / df_table['Cases']).round(1)\n",
    "df_table['Continent'] = df_table['Country/Region'].map(mapping['map.continent'])\n",
    "df_table.head(5)"
   ]
  },
  {
   "cell_type": "code",
   "execution_count": 16,
   "id": "fewer-occasion",
   "metadata": {
    "execution": {
     "iopub.execute_input": "2022-08-29T00:49:25.694887Z",
     "iopub.status.busy": "2022-08-29T00:49:25.694289Z",
     "iopub.status.idle": "2022-08-29T00:49:25.697681Z",
     "shell.execute_reply": "2022-08-29T00:49:25.698166Z"
    },
    "papermill": {
     "duration": 0.039088,
     "end_time": "2022-08-29T00:49:25.698301",
     "exception": false,
     "start_time": "2022-08-29T00:49:25.659213",
     "status": "completed"
    },
    "tags": []
   },
   "outputs": [],
   "source": [
    "#hide\n",
    "#delete problematic countries from table\n",
    "df_table = df_table[~df_table['Country/Region'].isin(['Cape Verde', 'Cruise Ship', 'Kosovo'])]"
   ]
  },
  {
   "cell_type": "code",
   "execution_count": 17,
   "id": "related-center",
   "metadata": {
    "execution": {
     "iopub.execute_input": "2022-08-29T00:49:25.778043Z",
     "iopub.status.busy": "2022-08-29T00:49:25.777435Z",
     "iopub.status.idle": "2022-08-29T00:49:25.780266Z",
     "shell.execute_reply": "2022-08-29T00:49:25.779664Z"
    },
    "papermill": {
     "duration": 0.051595,
     "end_time": "2022-08-29T00:49:25.780381",
     "exception": false,
     "start_time": "2022-08-29T00:49:25.728786",
     "status": "completed"
    },
    "tags": []
   },
   "outputs": [],
   "source": [
    "#hide\n",
    "metrics = [df_table.columns[index] for index in [1,2,5,6]]\n",
    "# s_china = df_table[df_table['Country/Region'].eq('China')][metrics].sum().add_prefix('China ')\n",
    "s_us = df_table[df_table['Country/Region'].eq('US')][metrics].sum().add_prefix('US ')\n",
    "s_eu = df_table[df_table['Continent'].eq('Europe')][metrics].sum().add_prefix('EU ')\n",
    "s_ind = df_table[df_table['Country/Region'].eq('India')][metrics].sum().add_prefix('India ')\n",
    "summary = {'updated': pd.to_datetime(dt_today), 'since': pd.to_datetime(dt_yday)}\n",
    "summary = {'updated': pd.to_datetime(dt_today), 'since': pd.to_datetime(dt_yday)}\n",
    "summary = {**summary, **df_table[metrics].sum(), **s_ind, **s_us, **s_eu}"
   ]
  },
  {
   "cell_type": "code",
   "execution_count": 18,
   "id": "engaging-syndrome",
   "metadata": {
    "execution": {
     "iopub.execute_input": "2022-08-29T00:49:25.849918Z",
     "iopub.status.busy": "2022-08-29T00:49:25.849289Z",
     "iopub.status.idle": "2022-08-29T00:49:25.871736Z",
     "shell.execute_reply": "2022-08-29T00:49:25.871207Z"
    },
    "papermill": {
     "duration": 0.058983,
     "end_time": "2022-08-29T00:49:25.871862",
     "exception": false,
     "start_time": "2022-08-29T00:49:25.812879",
     "status": "completed"
    },
    "tags": []
   },
   "outputs": [],
   "source": [
    "#hide\n",
    "dft_ct_new_cases = dft_cases.groupby(COL_REGION)[dt_cols].sum().diff(axis=1).fillna(0).astype(int)"
   ]
  },
  {
   "cell_type": "code",
   "execution_count": 19,
   "id": "neutral-assignment",
   "metadata": {
    "execution": {
     "iopub.execute_input": "2022-08-29T00:49:25.941608Z",
     "iopub.status.busy": "2022-08-29T00:49:25.940971Z",
     "iopub.status.idle": "2022-08-29T00:49:25.943495Z",
     "shell.execute_reply": "2022-08-29T00:49:25.942927Z"
    },
    "papermill": {
     "duration": 0.040654,
     "end_time": "2022-08-29T00:49:25.943611",
     "exception": false,
     "start_time": "2022-08-29T00:49:25.902957",
     "status": "completed"
    },
    "tags": []
   },
   "outputs": [],
   "source": [
    "#hide\n",
    "everydaycases = dft_ct_new_cases.cumsum(axis=1)"
   ]
  },
  {
   "cell_type": "code",
   "execution_count": 20,
   "id": "parliamentary-calgary",
   "metadata": {
    "execution": {
     "iopub.execute_input": "2022-08-29T00:49:26.013249Z",
     "iopub.status.busy": "2022-08-29T00:49:26.009544Z",
     "iopub.status.idle": "2022-08-29T00:49:26.563068Z",
     "shell.execute_reply": "2022-08-29T00:49:26.562473Z"
    },
    "papermill": {
     "duration": 0.588848,
     "end_time": "2022-08-29T00:49:26.563220",
     "exception": false,
     "start_time": "2022-08-29T00:49:25.974372",
     "status": "completed"
    },
    "tags": []
   },
   "outputs": [],
   "source": [
    "#hide\n",
    "import pandas as pd\n",
    "import matplotlib.pyplot as plt\n",
    "import matplotlib.ticker as ticker\n",
    "import matplotlib.animation as animation\n",
    "from IPython.display import HTML"
   ]
  },
  {
   "cell_type": "code",
   "execution_count": 21,
   "id": "lasting-extraction",
   "metadata": {
    "execution": {
     "iopub.execute_input": "2022-08-29T00:49:26.633977Z",
     "iopub.status.busy": "2022-08-29T00:49:26.633297Z",
     "iopub.status.idle": "2022-08-29T00:49:26.640282Z",
     "shell.execute_reply": "2022-08-29T00:49:26.640821Z"
    },
    "papermill": {
     "duration": 0.044563,
     "end_time": "2022-08-29T00:49:26.640953",
     "exception": false,
     "start_time": "2022-08-29T00:49:26.596390",
     "status": "completed"
    },
    "tags": []
   },
   "outputs": [],
   "source": [
    "#hide\n",
    "t = everydaycases.stack()"
   ]
  },
  {
   "cell_type": "code",
   "execution_count": 22,
   "id": "premier-sleeve",
   "metadata": {
    "execution": {
     "iopub.execute_input": "2022-08-29T00:49:26.706900Z",
     "iopub.status.busy": "2022-08-29T00:49:26.706315Z",
     "iopub.status.idle": "2022-08-29T00:49:26.718804Z",
     "shell.execute_reply": "2022-08-29T00:49:26.719228Z"
    },
    "papermill": {
     "duration": 0.047932,
     "end_time": "2022-08-29T00:49:26.719364",
     "exception": false,
     "start_time": "2022-08-29T00:49:26.671432",
     "status": "completed"
    },
    "tags": []
   },
   "outputs": [],
   "source": [
    "#hide\n",
    "g = t.reset_index(['Country/Region'])"
   ]
  },
  {
   "cell_type": "code",
   "execution_count": 23,
   "id": "distributed-pittsburgh",
   "metadata": {
    "execution": {
     "iopub.execute_input": "2022-08-29T00:49:26.784142Z",
     "iopub.status.busy": "2022-08-29T00:49:26.783535Z",
     "iopub.status.idle": "2022-08-29T00:49:26.786398Z",
     "shell.execute_reply": "2022-08-29T00:49:26.785933Z"
    },
    "papermill": {
     "duration": 0.036798,
     "end_time": "2022-08-29T00:49:26.786507",
     "exception": false,
     "start_time": "2022-08-29T00:49:26.749709",
     "status": "completed"
    },
    "tags": []
   },
   "outputs": [],
   "source": [
    "#hide\n",
    "g.index.name = 'date'"
   ]
  },
  {
   "cell_type": "code",
   "execution_count": 24,
   "id": "naked-donor",
   "metadata": {
    "execution": {
     "iopub.execute_input": "2022-08-29T00:49:26.851827Z",
     "iopub.status.busy": "2022-08-29T00:49:26.851151Z",
     "iopub.status.idle": "2022-08-29T00:49:26.853945Z",
     "shell.execute_reply": "2022-08-29T00:49:26.853438Z"
    },
    "papermill": {
     "duration": 0.037106,
     "end_time": "2022-08-29T00:49:26.854073",
     "exception": false,
     "start_time": "2022-08-29T00:49:26.816967",
     "status": "completed"
    },
    "tags": []
   },
   "outputs": [],
   "source": [
    "# #hide\n",
    "# g = g.reset_index(['date'])"
   ]
  },
  {
   "cell_type": "code",
   "execution_count": 25,
   "id": "incomplete-mustang",
   "metadata": {
    "execution": {
     "iopub.execute_input": "2022-08-29T00:49:26.918493Z",
     "iopub.status.busy": "2022-08-29T00:49:26.917915Z",
     "iopub.status.idle": "2022-08-29T00:49:26.921482Z",
     "shell.execute_reply": "2022-08-29T00:49:26.921903Z"
    },
    "papermill": {
     "duration": 0.037503,
     "end_time": "2022-08-29T00:49:26.922029",
     "exception": false,
     "start_time": "2022-08-29T00:49:26.884526",
     "status": "completed"
    },
    "tags": []
   },
   "outputs": [],
   "source": [
    "#hide\n",
    "# g.head()"
   ]
  },
  {
   "cell_type": "code",
   "execution_count": 26,
   "id": "specific-kruger",
   "metadata": {
    "execution": {
     "iopub.execute_input": "2022-08-29T00:49:26.988104Z",
     "iopub.status.busy": "2022-08-29T00:49:26.987393Z",
     "iopub.status.idle": "2022-08-29T00:49:26.989888Z",
     "shell.execute_reply": "2022-08-29T00:49:26.989415Z"
    },
    "papermill": {
     "duration": 0.03691,
     "end_time": "2022-08-29T00:49:26.989998",
     "exception": false,
     "start_time": "2022-08-29T00:49:26.953088",
     "status": "completed"
    },
    "tags": []
   },
   "outputs": [],
   "source": [
    "#hide\n",
    "# g.columns = ['date','country','cases']"
   ]
  },
  {
   "cell_type": "code",
   "execution_count": 27,
   "id": "tender-conversion",
   "metadata": {
    "execution": {
     "iopub.execute_input": "2022-08-29T00:49:27.054571Z",
     "iopub.status.busy": "2022-08-29T00:49:27.053890Z",
     "iopub.status.idle": "2022-08-29T00:49:27.056507Z",
     "shell.execute_reply": "2022-08-29T00:49:27.055933Z"
    },
    "papermill": {
     "duration": 0.036394,
     "end_time": "2022-08-29T00:49:27.056627",
     "exception": false,
     "start_time": "2022-08-29T00:49:27.020233",
     "status": "completed"
    },
    "tags": []
   },
   "outputs": [],
   "source": [
    "#hide\n",
    "# g['continent'] = g.country"
   ]
  },
  {
   "cell_type": "code",
   "execution_count": 28,
   "id": "substantial-wilderness",
   "metadata": {
    "execution": {
     "iopub.execute_input": "2022-08-29T00:49:27.122209Z",
     "iopub.status.busy": "2022-08-29T00:49:27.121617Z",
     "iopub.status.idle": "2022-08-29T00:49:27.125564Z",
     "shell.execute_reply": "2022-08-29T00:49:27.125985Z"
    },
    "papermill": {
     "duration": 0.038694,
     "end_time": "2022-08-29T00:49:27.126115",
     "exception": false,
     "start_time": "2022-08-29T00:49:27.087421",
     "status": "completed"
    },
    "tags": []
   },
   "outputs": [],
   "source": [
    "#hide\n",
    "# cols = list(g.columns.values)"
   ]
  },
  {
   "cell_type": "code",
   "execution_count": 29,
   "id": "solved-farming",
   "metadata": {
    "execution": {
     "iopub.execute_input": "2022-08-29T00:49:27.190480Z",
     "iopub.status.busy": "2022-08-29T00:49:27.189829Z",
     "iopub.status.idle": "2022-08-29T00:49:27.191843Z",
     "shell.execute_reply": "2022-08-29T00:49:27.192335Z"
    },
    "papermill": {
     "duration": 0.036046,
     "end_time": "2022-08-29T00:49:27.192458",
     "exception": false,
     "start_time": "2022-08-29T00:49:27.156412",
     "status": "completed"
    },
    "tags": []
   },
   "outputs": [],
   "source": [
    "#hide\n",
    "# cols.insert(0, cols.pop())"
   ]
  },
  {
   "cell_type": "code",
   "execution_count": 30,
   "id": "executed-adoption",
   "metadata": {
    "execution": {
     "iopub.execute_input": "2022-08-29T00:49:27.258531Z",
     "iopub.status.busy": "2022-08-29T00:49:27.257873Z",
     "iopub.status.idle": "2022-08-29T00:49:27.260493Z",
     "shell.execute_reply": "2022-08-29T00:49:27.259978Z"
    },
    "papermill": {
     "duration": 0.036235,
     "end_time": "2022-08-29T00:49:27.260616",
     "exception": false,
     "start_time": "2022-08-29T00:49:27.224381",
     "status": "completed"
    },
    "tags": []
   },
   "outputs": [],
   "source": [
    "#hide\n",
    "# g = g[cols]"
   ]
  },
  {
   "cell_type": "code",
   "execution_count": 31,
   "id": "subject-dublin",
   "metadata": {
    "execution": {
     "iopub.execute_input": "2022-08-29T00:49:27.324807Z",
     "iopub.status.busy": "2022-08-29T00:49:27.324214Z",
     "iopub.status.idle": "2022-08-29T00:49:27.326734Z",
     "shell.execute_reply": "2022-08-29T00:49:27.326271Z"
    },
    "papermill": {
     "duration": 0.035793,
     "end_time": "2022-08-29T00:49:27.326845",
     "exception": false,
     "start_time": "2022-08-29T00:49:27.291052",
     "status": "completed"
    },
    "tags": []
   },
   "outputs": [],
   "source": [
    "#hide\n",
    "# g['continent'] = g['continent'].map(mapping['map.continent'])"
   ]
  },
  {
   "cell_type": "code",
   "execution_count": 32,
   "id": "freelance-scout",
   "metadata": {
    "execution": {
     "iopub.execute_input": "2022-08-29T00:49:27.391613Z",
     "iopub.status.busy": "2022-08-29T00:49:27.390950Z",
     "iopub.status.idle": "2022-08-29T00:49:27.395300Z",
     "shell.execute_reply": "2022-08-29T00:49:27.394854Z"
    },
    "papermill": {
     "duration": 0.0383,
     "end_time": "2022-08-29T00:49:27.395409",
     "exception": false,
     "start_time": "2022-08-29T00:49:27.357109",
     "status": "completed"
    },
    "tags": []
   },
   "outputs": [],
   "source": [
    "#hide\n",
    "# g.head()"
   ]
  },
  {
   "cell_type": "code",
   "execution_count": 33,
   "id": "limited-engine",
   "metadata": {
    "execution": {
     "iopub.execute_input": "2022-08-29T00:49:27.460194Z",
     "iopub.status.busy": "2022-08-29T00:49:27.459477Z",
     "iopub.status.idle": "2022-08-29T00:49:27.462039Z",
     "shell.execute_reply": "2022-08-29T00:49:27.461505Z"
    },
    "papermill": {
     "duration": 0.036528,
     "end_time": "2022-08-29T00:49:27.462159",
     "exception": false,
     "start_time": "2022-08-29T00:49:27.425631",
     "status": "completed"
    },
    "tags": []
   },
   "outputs": [],
   "source": [
    "# hide\n",
    "# g['date'] = g['date'].astype('datetime64[ns]')"
   ]
  },
  {
   "cell_type": "code",
   "execution_count": 34,
   "id": "sophisticated-supervisor",
   "metadata": {
    "execution": {
     "iopub.execute_input": "2022-08-29T00:49:27.527396Z",
     "iopub.status.busy": "2022-08-29T00:49:27.526818Z",
     "iopub.status.idle": "2022-08-29T00:49:27.529571Z",
     "shell.execute_reply": "2022-08-29T00:49:27.529100Z"
    },
    "papermill": {
     "duration": 0.03645,
     "end_time": "2022-08-29T00:49:27.529679",
     "exception": false,
     "start_time": "2022-08-29T00:49:27.493229",
     "status": "completed"
    },
    "tags": []
   },
   "outputs": [],
   "source": [
    "#hide\n",
    "# g['date'] = g.date.dt.dayofyear"
   ]
  },
  {
   "cell_type": "code",
   "execution_count": 35,
   "id": "inside-dubai",
   "metadata": {
    "execution": {
     "iopub.execute_input": "2022-08-29T00:49:27.594896Z",
     "iopub.status.busy": "2022-08-29T00:49:27.594308Z",
     "iopub.status.idle": "2022-08-29T00:49:27.596532Z",
     "shell.execute_reply": "2022-08-29T00:49:27.597083Z"
    },
    "papermill": {
     "duration": 0.036908,
     "end_time": "2022-08-29T00:49:27.597214",
     "exception": false,
     "start_time": "2022-08-29T00:49:27.560306",
     "status": "completed"
    },
    "tags": []
   },
   "outputs": [],
   "source": [
    "#hide\n",
    "# g = g.rename(columns= {'continent':'group','country':'name','cases':'value'})"
   ]
  },
  {
   "cell_type": "code",
   "execution_count": 36,
   "id": "fleet-motorcycle",
   "metadata": {
    "execution": {
     "iopub.execute_input": "2022-08-29T00:49:27.661881Z",
     "iopub.status.busy": "2022-08-29T00:49:27.661312Z",
     "iopub.status.idle": "2022-08-29T00:49:27.663686Z",
     "shell.execute_reply": "2022-08-29T00:49:27.664157Z"
    },
    "papermill": {
     "duration": 0.036604,
     "end_time": "2022-08-29T00:49:27.664284",
     "exception": false,
     "start_time": "2022-08-29T00:49:27.627680",
     "status": "completed"
    },
    "tags": []
   },
   "outputs": [],
   "source": [
    "#hide\n",
    "# cols = ['name','group','day','value']"
   ]
  },
  {
   "cell_type": "code",
   "execution_count": 37,
   "id": "continued-sleeping",
   "metadata": {
    "execution": {
     "iopub.execute_input": "2022-08-29T00:49:27.728464Z",
     "iopub.status.busy": "2022-08-29T00:49:27.727769Z",
     "iopub.status.idle": "2022-08-29T00:49:27.730206Z",
     "shell.execute_reply": "2022-08-29T00:49:27.729734Z"
    },
    "papermill": {
     "duration": 0.035766,
     "end_time": "2022-08-29T00:49:27.730309",
     "exception": false,
     "start_time": "2022-08-29T00:49:27.694543",
     "status": "completed"
    },
    "tags": []
   },
   "outputs": [],
   "source": [
    "#hide\n",
    "# g.rename(columns= {'date':'day'},inplace = True)"
   ]
  },
  {
   "cell_type": "code",
   "execution_count": 38,
   "id": "major-fight",
   "metadata": {
    "execution": {
     "iopub.execute_input": "2022-08-29T00:49:27.794553Z",
     "iopub.status.busy": "2022-08-29T00:49:27.793893Z",
     "iopub.status.idle": "2022-08-29T00:49:27.796381Z",
     "shell.execute_reply": "2022-08-29T00:49:27.795716Z"
    },
    "papermill": {
     "duration": 0.035835,
     "end_time": "2022-08-29T00:49:27.796501",
     "exception": false,
     "start_time": "2022-08-29T00:49:27.760666",
     "status": "completed"
    },
    "tags": []
   },
   "outputs": [],
   "source": [
    "#hide\n",
    "# g = g[cols]"
   ]
  },
  {
   "cell_type": "code",
   "execution_count": 39,
   "id": "structured-mobile",
   "metadata": {
    "execution": {
     "iopub.execute_input": "2022-08-29T00:49:27.860695Z",
     "iopub.status.busy": "2022-08-29T00:49:27.860112Z",
     "iopub.status.idle": "2022-08-29T00:49:27.862283Z",
     "shell.execute_reply": "2022-08-29T00:49:27.862826Z"
    },
    "papermill": {
     "duration": 0.035905,
     "end_time": "2022-08-29T00:49:27.862942",
     "exception": false,
     "start_time": "2022-08-29T00:49:27.827037",
     "status": "completed"
    },
    "tags": []
   },
   "outputs": [],
   "source": [
    "# #hide\n",
    "# g = g[g.group.notna()]"
   ]
  },
  {
   "cell_type": "code",
   "execution_count": 40,
   "id": "determined-closing",
   "metadata": {
    "execution": {
     "iopub.execute_input": "2022-08-29T00:49:27.927443Z",
     "iopub.status.busy": "2022-08-29T00:49:27.926779Z",
     "iopub.status.idle": "2022-08-29T00:49:27.929325Z",
     "shell.execute_reply": "2022-08-29T00:49:27.928794Z"
    },
    "papermill": {
     "duration": 0.036042,
     "end_time": "2022-08-29T00:49:27.929440",
     "exception": false,
     "start_time": "2022-08-29T00:49:27.893398",
     "status": "completed"
    },
    "tags": []
   },
   "outputs": [],
   "source": [
    "# #hide\n",
    "# colors = dict(zip(\n",
    "#     [\"Oceania\", \"Europe\", \"Asia\", \"South America\", \"Middle East\", \"North America\", \"Africa\"],\n",
    "#     [\"#adb0ff\", \"#ffb3ff\", \"#90d595\", \"#e48381\", \"#aafbff\", \"#f7bb5f\", \"#eafb50\"]\n",
    "# ))\n",
    "# group_lk = g.set_index('name')['group'].to_dict()"
   ]
  },
  {
   "cell_type": "code",
   "execution_count": null,
   "id": "gross-drinking",
   "metadata": {
    "papermill": {
     "duration": 0.030176,
     "end_time": "2022-08-29T00:49:27.990689",
     "exception": false,
     "start_time": "2022-08-29T00:49:27.960513",
     "status": "completed"
    },
    "tags": []
   },
   "outputs": [],
   "source": []
  },
  {
   "cell_type": "code",
   "execution_count": 41,
   "id": "subject-macintosh",
   "metadata": {
    "execution": {
     "iopub.execute_input": "2022-08-29T00:49:28.055772Z",
     "iopub.status.busy": "2022-08-29T00:49:28.055153Z",
     "iopub.status.idle": "2022-08-29T00:49:28.057638Z",
     "shell.execute_reply": "2022-08-29T00:49:28.058110Z"
    },
    "papermill": {
     "duration": 0.037196,
     "end_time": "2022-08-29T00:49:28.058235",
     "exception": false,
     "start_time": "2022-08-29T00:49:28.021039",
     "status": "completed"
    },
    "tags": []
   },
   "outputs": [],
   "source": [
    "# #hide\n",
    "# fig, ax = plt.subplots(figsize=(15, 8))\n",
    "\n",
    "# def draw_barchart(current_day):\n",
    "#     dff = g[g['day'].eq(current_day)].sort_values(by='value', ascending=True).tail(10)\n",
    "#     ax.clear()\n",
    "#     ax.barh(dff['name'], dff['value'], color=[colors[group_lk[x]] for x in dff['name']])\n",
    "#     dx = dff['value'].max() / 200\n",
    "    \n",
    "#     for i, (value, name) in enumerate(zip(dff['value'], dff['name'])):\n",
    "#         ax.text(value-dx, i,     name,           size=14, weight=600, ha='right', va='bottom')\n",
    "#         ax.text(value-dx, i-.25, group_lk[name], size=10, color='#444444', ha='right', va='baseline')\n",
    "#         ax.text(value+dx, i,     f'{value:,.0f}',  size=14, ha='left',  va='center')\n",
    "#     ax.text(1, 0.4, current_day, transform=ax.transAxes, color='#777777', size=46, ha='right', weight=800)\n",
    "#     ax.text(0, 1.06, 'Population (thousands)', transform=ax.transAxes, size=12, color='#777777')\n",
    "#     ax.xaxis.set_major_formatter(ticker.StrMethodFormatter('{x:,.0f}'))\n",
    "#     ax.xaxis.set_ticks_position('top')\n",
    "#     ax.tick_params(axis='x', colors='#777777', labelsize=12)\n",
    "#     ax.set_yticks([])\n",
    "#     ax.margins(0, 0.01)\n",
    "#     ax.grid(which='major', axis='x', linestyle='-')\n",
    "#     ax.set_axisbelow(True)\n",
    "    \n",
    "#     ax.text(0, 1.15, 'Coronavirus',\n",
    "#             transform=ax.transAxes, size=24, weight=600, ha='left', va='top')\n",
    "# #     ax.text(1, 0, 'by @pratapvardhan; credit @jburnmurdoch', transform=ax.transAxes, color='#777777', ha='right',\n",
    "# #             bbox=dict(facecolor='white', alpha=0.8, edgecolor='white'))\n",
    "#     plt.box(False)"
   ]
  },
  {
   "cell_type": "code",
   "execution_count": 42,
   "id": "sexual-wages",
   "metadata": {
    "execution": {
     "iopub.execute_input": "2022-08-29T00:49:28.123022Z",
     "iopub.status.busy": "2022-08-29T00:49:28.122339Z",
     "iopub.status.idle": "2022-08-29T00:49:28.126161Z",
     "shell.execute_reply": "2022-08-29T00:49:28.126642Z"
    },
    "papermill": {
     "duration": 0.038157,
     "end_time": "2022-08-29T00:49:28.126767",
     "exception": false,
     "start_time": "2022-08-29T00:49:28.088610",
     "status": "completed"
    },
    "tags": []
   },
   "outputs": [],
   "source": [
    "# #hide_input\n",
    "# fig, ax = plt.subplots(figsize=(15, 8))\n",
    "# animator = animation.FuncAnimation(fig, draw_barchart, frames=range(g.day.values.min(), g.day.values.max()))\n",
    "# HTML(animator.to_jshtml())\n",
    "# # or use animator.to_html5_video() or animator.save() "
   ]
  },
  {
   "cell_type": "code",
   "execution_count": null,
   "id": "australian-container",
   "metadata": {
    "papermill": {
     "duration": 0.0303,
     "end_time": "2022-08-29T00:49:28.187552",
     "exception": false,
     "start_time": "2022-08-29T00:49:28.157252",
     "status": "completed"
    },
    "tags": []
   },
   "outputs": [],
   "source": []
  },
  {
   "cell_type": "code",
   "execution_count": null,
   "id": "mediterranean-pontiac",
   "metadata": {
    "papermill": {
     "duration": 0.03038,
     "end_time": "2022-08-29T00:49:28.248260",
     "exception": false,
     "start_time": "2022-08-29T00:49:28.217880",
     "status": "completed"
    },
    "tags": []
   },
   "outputs": [],
   "source": []
  },
  {
   "cell_type": "code",
   "execution_count": null,
   "id": "aging-legislature",
   "metadata": {
    "papermill": {
     "duration": 0.030204,
     "end_time": "2022-08-29T00:49:28.308981",
     "exception": false,
     "start_time": "2022-08-29T00:49:28.278777",
     "status": "completed"
    },
    "tags": []
   },
   "outputs": [],
   "source": []
  }
 ],
 "metadata": {
  "kernelspec": {
   "display_name": "Python 3",
   "language": "python",
   "name": "python3"
  },
  "language_info": {
   "codemirror_mode": {
    "name": "ipython",
    "version": 3
   },
   "file_extension": ".py",
   "mimetype": "text/x-python",
   "name": "python",
   "nbconvert_exporter": "python",
   "pygments_lexer": "ipython3",
   "version": "3.6.15"
  },
  "papermill": {
   "duration": 6.130648,
   "end_time": "2022-08-29T00:49:28.760814",
   "environment_variables": {},
   "exception": null,
   "input_path": "2020-03-21-covid19exp.ipynb",
   "output_path": "2020-03-21-covid19exp.ipynb",
   "parameters": {},
   "start_time": "2022-08-29T00:49:22.630166",
   "version": "2.0.0"
  }
 },
 "nbformat": 4,
 "nbformat_minor": 5
}