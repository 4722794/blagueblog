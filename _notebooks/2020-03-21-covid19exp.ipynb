{
 "cells": [
  {
   "cell_type": "markdown",
   "id": "muslim-click",
   "metadata": {
    "papermill": {
     "duration": 0.035447,
     "end_time": "2022-04-07T00:38:12.977728",
     "exception": false,
     "start_time": "2022-04-07T00:38:12.942281",
     "status": "completed"
    },
    "tags": []
   },
   "source": [
    "# COVID-19 Case Race\n",
    "> A race chart to see rising cases around the world\n",
    "\n",
    "- author: Hargun Oberoi\n",
    "- image: images/covid-overview.png\n",
    "- hide: false\n",
    "- badges: false"
   ]
  },
  {
   "cell_type": "code",
   "execution_count": 1,
   "id": "proof-material",
   "metadata": {
    "execution": {
     "iopub.execute_input": "2022-04-07T00:38:13.046897Z",
     "iopub.status.busy": "2022-04-07T00:38:13.046254Z",
     "iopub.status.idle": "2022-04-07T00:38:13.357998Z",
     "shell.execute_reply": "2022-04-07T00:38:13.358523Z"
    },
    "papermill": {
     "duration": 0.348226,
     "end_time": "2022-04-07T00:38:13.358730",
     "exception": false,
     "start_time": "2022-04-07T00:38:13.010504",
     "status": "completed"
    },
    "tags": []
   },
   "outputs": [],
   "source": [
    "#hide\n",
    "import numpy as np\n",
    "import pandas as pd\n",
    "from jinja2 import Template\n",
    "from IPython.display import HTML"
   ]
  },
  {
   "cell_type": "code",
   "execution_count": 2,
   "id": "developed-terminology",
   "metadata": {
    "execution": {
     "iopub.execute_input": "2022-04-07T00:38:13.418924Z",
     "iopub.status.busy": "2022-04-07T00:38:13.418307Z",
     "iopub.status.idle": "2022-04-07T00:38:13.422157Z",
     "shell.execute_reply": "2022-04-07T00:38:13.421777Z"
    },
    "papermill": {
     "duration": 0.034932,
     "end_time": "2022-04-07T00:38:13.422279",
     "exception": false,
     "start_time": "2022-04-07T00:38:13.387347",
     "status": "completed"
    },
    "tags": []
   },
   "outputs": [],
   "source": [
    "#hide\n",
    "\n",
    "# FETCH\n",
    "base_url = 'https://raw.githubusercontent.com/pratapvardhan/notebooks/master/covid19/'\n",
    "paths = {\n",
    "    'mapping': base_url + 'mapping_countries.csv',\n",
    "    'overview': base_url + 'overview.tpl'\n",
    "}"
   ]
  },
  {
   "cell_type": "code",
   "execution_count": 3,
   "id": "dynamic-saver",
   "metadata": {
    "execution": {
     "iopub.execute_input": "2022-04-07T00:38:13.484171Z",
     "iopub.status.busy": "2022-04-07T00:38:13.483697Z",
     "iopub.status.idle": "2022-04-07T00:38:13.485899Z",
     "shell.execute_reply": "2022-04-07T00:38:13.486240Z"
    },
    "papermill": {
     "duration": 0.038289,
     "end_time": "2022-04-07T00:38:13.486363",
     "exception": false,
     "start_time": "2022-04-07T00:38:13.448074",
     "status": "completed"
    },
    "tags": []
   },
   "outputs": [
    {
     "data": {
      "text/plain": [
       "'https://raw.githubusercontent.com/pratapvardhan/notebooks/master/covid19/mapping_countries.csv'"
      ]
     },
     "execution_count": 3,
     "metadata": {},
     "output_type": "execute_result"
    }
   ],
   "source": [
    "#hide\n",
    "paths['mapping']"
   ]
  },
  {
   "cell_type": "code",
   "execution_count": 4,
   "id": "urban-software",
   "metadata": {
    "execution": {
     "iopub.execute_input": "2022-04-07T00:38:13.544296Z",
     "iopub.status.busy": "2022-04-07T00:38:13.543816Z",
     "iopub.status.idle": "2022-04-07T00:38:13.546945Z",
     "shell.execute_reply": "2022-04-07T00:38:13.547289Z"
    },
    "papermill": {
     "duration": 0.034818,
     "end_time": "2022-04-07T00:38:13.547412",
     "exception": false,
     "start_time": "2022-04-07T00:38:13.512594",
     "status": "completed"
    },
    "tags": []
   },
   "outputs": [],
   "source": [
    "#hide\n",
    "def get_mappings(url):\n",
    "    df = pd.read_csv(url)\n",
    "    return {\n",
    "        'df': df,\n",
    "        'replace.country': dict(df.dropna(subset=['Name']).set_index('Country')['Name']),\n",
    "        'map.continent': dict(df.set_index('Name')['Continent'])\n",
    "    }"
   ]
  },
  {
   "cell_type": "code",
   "execution_count": 5,
   "id": "intimate-machinery",
   "metadata": {
    "execution": {
     "iopub.execute_input": "2022-04-07T00:38:13.604990Z",
     "iopub.status.busy": "2022-04-07T00:38:13.604502Z",
     "iopub.status.idle": "2022-04-07T00:38:13.639261Z",
     "shell.execute_reply": "2022-04-07T00:38:13.638749Z"
    },
    "papermill": {
     "duration": 0.065912,
     "end_time": "2022-04-07T00:38:13.639401",
     "exception": false,
     "start_time": "2022-04-07T00:38:13.573489",
     "status": "completed"
    },
    "tags": []
   },
   "outputs": [],
   "source": [
    "#hide\n",
    "mapping = get_mappings(paths['mapping'])"
   ]
  },
  {
   "cell_type": "code",
   "execution_count": 6,
   "id": "certified-tactics",
   "metadata": {
    "execution": {
     "iopub.execute_input": "2022-04-07T00:38:13.698843Z",
     "iopub.status.busy": "2022-04-07T00:38:13.698383Z",
     "iopub.status.idle": "2022-04-07T00:38:13.700650Z",
     "shell.execute_reply": "2022-04-07T00:38:13.700275Z"
    },
    "papermill": {
     "duration": 0.033361,
     "end_time": "2022-04-07T00:38:13.700758",
     "exception": false,
     "start_time": "2022-04-07T00:38:13.667397",
     "status": "completed"
    },
    "tags": []
   },
   "outputs": [],
   "source": [
    "#hide\n",
    "def get_template(path):\n",
    "    from urllib.parse import urlparse\n",
    "    if bool(urlparse(path).netloc):\n",
    "        from urllib.request import urlopen\n",
    "        return urlopen(path).read().decode('utf8')\n",
    "    return open(path).read()"
   ]
  },
  {
   "cell_type": "code",
   "execution_count": 7,
   "id": "realistic-blast",
   "metadata": {
    "execution": {
     "iopub.execute_input": "2022-04-07T00:38:13.757653Z",
     "iopub.status.busy": "2022-04-07T00:38:13.757197Z",
     "iopub.status.idle": "2022-04-07T00:38:13.759524Z",
     "shell.execute_reply": "2022-04-07T00:38:13.759160Z"
    },
    "papermill": {
     "duration": 0.032943,
     "end_time": "2022-04-07T00:38:13.759625",
     "exception": false,
     "start_time": "2022-04-07T00:38:13.726682",
     "status": "completed"
    },
    "tags": []
   },
   "outputs": [],
   "source": [
    "#hide\n",
    "def get_frame(name):\n",
    "    url = (\n",
    "        'https://raw.githubusercontent.com/CSSEGISandData/COVID-19/master/csse_covid_19_data/'\n",
    "        f'csse_covid_19_time_series/time_series_covid19_{name}_global.csv')\n",
    "    df = pd.read_csv(url)\n",
    "    # rename countries\n",
    "    df['Country/Region'] = df['Country/Region'].replace(mapping['replace.country'])\n",
    "    return df"
   ]
  },
  {
   "cell_type": "code",
   "execution_count": 8,
   "id": "affiliated-characterization",
   "metadata": {
    "execution": {
     "iopub.execute_input": "2022-04-07T00:38:13.817810Z",
     "iopub.status.busy": "2022-04-07T00:38:13.817356Z",
     "iopub.status.idle": "2022-04-07T00:38:13.819761Z",
     "shell.execute_reply": "2022-04-07T00:38:13.819408Z"
    },
    "papermill": {
     "duration": 0.034028,
     "end_time": "2022-04-07T00:38:13.819858",
     "exception": false,
     "start_time": "2022-04-07T00:38:13.785830",
     "status": "completed"
    },
    "tags": []
   },
   "outputs": [],
   "source": [
    "#hide\n",
    "def get_dates(df):\n",
    "    dt_cols = df.columns[~df.columns.isin(['Province/State', 'Country/Region', 'Lat', 'Long'])]\n",
    "    LAST_DATE_I = -1\n",
    "    # sometimes last column may be empty, then go backwards\n",
    "    for i in range(-1, -len(dt_cols), -1):\n",
    "        if not df[dt_cols[i]].fillna(0).eq(0).all():\n",
    "            LAST_DATE_I = i\n",
    "            break\n",
    "    return LAST_DATE_I, dt_cols"
   ]
  },
  {
   "cell_type": "code",
   "execution_count": 9,
   "id": "recent-optimization",
   "metadata": {
    "execution": {
     "iopub.execute_input": "2022-04-07T00:38:13.877096Z",
     "iopub.status.busy": "2022-04-07T00:38:13.876583Z",
     "iopub.status.idle": "2022-04-07T00:38:14.259599Z",
     "shell.execute_reply": "2022-04-07T00:38:14.259044Z"
    },
    "papermill": {
     "duration": 0.413992,
     "end_time": "2022-04-07T00:38:14.259754",
     "exception": false,
     "start_time": "2022-04-07T00:38:13.845762",
     "status": "completed"
    },
    "tags": []
   },
   "outputs": [],
   "source": [
    "#hide\n",
    "COL_REGION = 'Country/Region'\n",
    "# Confirmed, Recovered, Deaths\n",
    "df = get_frame('confirmed')\n",
    "# dft_: timeseries, dfc_: today country agg\n",
    "dft_cases = df\n",
    "dft_deaths = get_frame('deaths')\n",
    "dft_recovered = get_frame('recovered')\n",
    "LAST_DATE_I, dt_cols = get_dates(df)"
   ]
  },
  {
   "cell_type": "code",
   "execution_count": 10,
   "id": "absolute-copper",
   "metadata": {
    "execution": {
     "iopub.execute_input": "2022-04-07T00:38:14.326847Z",
     "iopub.status.busy": "2022-04-07T00:38:14.326211Z",
     "iopub.status.idle": "2022-04-07T00:38:14.327676Z",
     "shell.execute_reply": "2022-04-07T00:38:14.328176Z"
    },
    "papermill": {
     "duration": 0.037364,
     "end_time": "2022-04-07T00:38:14.328335",
     "exception": false,
     "start_time": "2022-04-07T00:38:14.290971",
     "status": "completed"
    },
    "tags": []
   },
   "outputs": [],
   "source": [
    "#hide\n",
    "LAST_DATE_I, dt_cols = get_dates(df)\n",
    "dt_today =dt_cols[LAST_DATE_I]\n",
    "# dt_5day = dt_cols[LAST_DATE_I - 5]\n",
    "dt_yday = dt_cols[LAST_DATE_I - 1]"
   ]
  },
  {
   "cell_type": "code",
   "execution_count": 11,
   "id": "restricted-sheriff",
   "metadata": {
    "execution": {
     "iopub.execute_input": "2022-04-07T00:38:14.388256Z",
     "iopub.status.busy": "2022-04-07T00:38:14.387795Z",
     "iopub.status.idle": "2022-04-07T00:38:14.393749Z",
     "shell.execute_reply": "2022-04-07T00:38:14.393381Z"
    },
    "papermill": {
     "duration": 0.039138,
     "end_time": "2022-04-07T00:38:14.393853",
     "exception": false,
     "start_time": "2022-04-07T00:38:14.354715",
     "status": "completed"
    },
    "tags": []
   },
   "outputs": [],
   "source": [
    "#hide\n",
    "dfc_cases = dft_cases.groupby(COL_REGION)[dt_today].sum()\n",
    "dfc_deaths = dft_deaths.groupby(COL_REGION)[dt_today].sum()\n",
    "# dfp_cases = dft_cases.groupby(COL_REGION)[dt_5day].sum()\n",
    "# dfp_deaths = dft_deaths.groupby(COL_REGION)[dt_5day].sum()\n",
    "dfp_cases = dft_cases.groupby(COL_REGION)[dt_yday].sum()\n",
    "dfp_deaths = dft_deaths.groupby(COL_REGION)[dt_yday].sum()"
   ]
  },
  {
   "cell_type": "code",
   "execution_count": 12,
   "id": "deluxe-hepatitis",
   "metadata": {
    "execution": {
     "iopub.execute_input": "2022-04-07T00:38:14.452492Z",
     "iopub.status.busy": "2022-04-07T00:38:14.452032Z",
     "iopub.status.idle": "2022-04-07T00:38:14.456461Z",
     "shell.execute_reply": "2022-04-07T00:38:14.456085Z"
    },
    "papermill": {
     "duration": 0.036443,
     "end_time": "2022-04-07T00:38:14.456568",
     "exception": false,
     "start_time": "2022-04-07T00:38:14.420125",
     "status": "completed"
    },
    "tags": []
   },
   "outputs": [],
   "source": [
    "#hide\n",
    "df_table = (pd.DataFrame(dict(Cases = dfc_cases, Deaths = dfc_deaths, PCases = dfp_cases, PDeaths = dfp_deaths))\n",
    "            .sort_values(by = ['Cases','Deaths'], ascending = [False, False])\n",
    "            .reset_index())"
   ]
  },
  {
   "cell_type": "code",
   "execution_count": 13,
   "id": "educational-chancellor",
   "metadata": {
    "execution": {
     "iopub.execute_input": "2022-04-07T00:38:14.525781Z",
     "iopub.status.busy": "2022-04-07T00:38:14.525314Z",
     "iopub.status.idle": "2022-04-07T00:38:14.531857Z",
     "shell.execute_reply": "2022-04-07T00:38:14.532243Z"
    },
    "papermill": {
     "duration": 0.04962,
     "end_time": "2022-04-07T00:38:14.532364",
     "exception": false,
     "start_time": "2022-04-07T00:38:14.482744",
     "status": "completed"
    },
    "tags": []
   },
   "outputs": [
    {
     "data": {
      "text/html": [
       "<div>\n",
       "<style scoped>\n",
       "    .dataframe tbody tr th:only-of-type {\n",
       "        vertical-align: middle;\n",
       "    }\n",
       "\n",
       "    .dataframe tbody tr th {\n",
       "        vertical-align: top;\n",
       "    }\n",
       "\n",
       "    .dataframe thead th {\n",
       "        text-align: right;\n",
       "    }\n",
       "</style>\n",
       "<table border=\"1\" class=\"dataframe\">\n",
       "  <thead>\n",
       "    <tr style=\"text-align: right;\">\n",
       "      <th></th>\n",
       "      <th>Country/Region</th>\n",
       "      <th>Cases</th>\n",
       "      <th>Deaths</th>\n",
       "      <th>PCases</th>\n",
       "      <th>PDeaths</th>\n",
       "      <th>Cases (+)</th>\n",
       "      <th>Deaths (+)</th>\n",
       "      <th>Fatality Rate</th>\n",
       "      <th>Continent</th>\n",
       "    </tr>\n",
       "  </thead>\n",
       "  <tbody>\n",
       "    <tr>\n",
       "      <th>0</th>\n",
       "      <td>US</td>\n",
       "      <td>80208810</td>\n",
       "      <td>982576</td>\n",
       "      <td>80179289</td>\n",
       "      <td>982099</td>\n",
       "      <td>29521</td>\n",
       "      <td>477</td>\n",
       "      <td>1.23</td>\n",
       "      <td>North America</td>\n",
       "    </tr>\n",
       "    <tr>\n",
       "      <th>1</th>\n",
       "      <td>India</td>\n",
       "      <td>43030925</td>\n",
       "      <td>521487</td>\n",
       "      <td>43029839</td>\n",
       "      <td>521416</td>\n",
       "      <td>1086</td>\n",
       "      <td>71</td>\n",
       "      <td>1.21</td>\n",
       "      <td>Asia</td>\n",
       "    </tr>\n",
       "    <tr>\n",
       "      <th>2</th>\n",
       "      <td>Brazil</td>\n",
       "      <td>30042272</td>\n",
       "      <td>660786</td>\n",
       "      <td>30015357</td>\n",
       "      <td>660570</td>\n",
       "      <td>26915</td>\n",
       "      <td>216</td>\n",
       "      <td>2.20</td>\n",
       "      <td>South America</td>\n",
       "    </tr>\n",
       "    <tr>\n",
       "      <th>3</th>\n",
       "      <td>France</td>\n",
       "      <td>26428476</td>\n",
       "      <td>143832</td>\n",
       "      <td>26218724</td>\n",
       "      <td>143699</td>\n",
       "      <td>209752</td>\n",
       "      <td>133</td>\n",
       "      <td>0.54</td>\n",
       "      <td>Europe</td>\n",
       "    </tr>\n",
       "    <tr>\n",
       "      <th>4</th>\n",
       "      <td>Germany</td>\n",
       "      <td>21886726</td>\n",
       "      <td>130368</td>\n",
       "      <td>21706329</td>\n",
       "      <td>130052</td>\n",
       "      <td>180397</td>\n",
       "      <td>316</td>\n",
       "      <td>0.60</td>\n",
       "      <td>Europe</td>\n",
       "    </tr>\n",
       "  </tbody>\n",
       "</table>\n",
       "</div>"
      ],
      "text/plain": [
       "  Country/Region     Cases  Deaths    PCases  PDeaths  Cases (+)  Deaths (+)  \\\n",
       "0             US  80208810  982576  80179289   982099      29521         477   \n",
       "1          India  43030925  521487  43029839   521416       1086          71   \n",
       "2         Brazil  30042272  660786  30015357   660570      26915         216   \n",
       "3         France  26428476  143832  26218724   143699     209752         133   \n",
       "4        Germany  21886726  130368  21706329   130052     180397         316   \n",
       "\n",
       "   Fatality Rate      Continent  \n",
       "0           1.23  North America  \n",
       "1           1.21           Asia  \n",
       "2           2.20  South America  \n",
       "3           0.54         Europe  \n",
       "4           0.60         Europe  "
      ]
     },
     "execution_count": 13,
     "metadata": {},
     "output_type": "execute_result"
    }
   ],
   "source": [
    "#hide\n",
    "for c in 'Cases, Deaths'.split(', '):\n",
    "    df_table[f'{c} (+)'] = (df_table[c] - df_table[f'P{c}']).clip(0)\n",
    "    #Clip ça veut dire, les chiffres negatif sont interdit\n",
    "df_table['Fatality Rate'] = (100* df_table['Deaths']/ df_table['Cases']).round(2)\n",
    "df_table['Continent'] = df_table['Country/Region'].map(mapping['map.continent'])\n",
    "df_table.head(5)"
   ]
  },
  {
   "cell_type": "code",
   "execution_count": 14,
   "id": "aboriginal-bulgaria",
   "metadata": {
    "execution": {
     "iopub.execute_input": "2022-04-07T00:38:14.591440Z",
     "iopub.status.busy": "2022-04-07T00:38:14.590983Z",
     "iopub.status.idle": "2022-04-07T00:38:14.593082Z",
     "shell.execute_reply": "2022-04-07T00:38:14.593525Z"
    },
    "papermill": {
     "duration": 0.034758,
     "end_time": "2022-04-07T00:38:14.593644",
     "exception": false,
     "start_time": "2022-04-07T00:38:14.558886",
     "status": "completed"
    },
    "tags": []
   },
   "outputs": [],
   "source": [
    "#hide\n",
    "#delete problematic countries from table\n",
    "df_table = df_table[~df_table['Country/Region'].isin(['Cape Verde', 'Cruise Ship', 'Kosovo'])]"
   ]
  },
  {
   "cell_type": "code",
   "execution_count": 15,
   "id": "fantastic-effect",
   "metadata": {
    "execution": {
     "iopub.execute_input": "2022-04-07T00:38:14.654469Z",
     "iopub.status.busy": "2022-04-07T00:38:14.654015Z",
     "iopub.status.idle": "2022-04-07T00:38:14.669784Z",
     "shell.execute_reply": "2022-04-07T00:38:14.670129Z"
    },
    "papermill": {
     "duration": 0.05023,
     "end_time": "2022-04-07T00:38:14.670251",
     "exception": false,
     "start_time": "2022-04-07T00:38:14.620021",
     "status": "completed"
    },
    "tags": []
   },
   "outputs": [
    {
     "data": {
      "text/html": [
       "<div>\n",
       "<style scoped>\n",
       "    .dataframe tbody tr th:only-of-type {\n",
       "        vertical-align: middle;\n",
       "    }\n",
       "\n",
       "    .dataframe tbody tr th {\n",
       "        vertical-align: top;\n",
       "    }\n",
       "\n",
       "    .dataframe thead th {\n",
       "        text-align: right;\n",
       "    }\n",
       "</style>\n",
       "<table border=\"1\" class=\"dataframe\">\n",
       "  <thead>\n",
       "    <tr style=\"text-align: right;\">\n",
       "      <th></th>\n",
       "      <th>Country/Region</th>\n",
       "      <th>Cases</th>\n",
       "      <th>Deaths</th>\n",
       "      <th>PCases</th>\n",
       "      <th>PDeaths</th>\n",
       "      <th>Cases (+)</th>\n",
       "      <th>Deaths (+)</th>\n",
       "      <th>Fatality Rate</th>\n",
       "      <th>Continent</th>\n",
       "    </tr>\n",
       "  </thead>\n",
       "  <tbody>\n",
       "    <tr>\n",
       "      <th>0</th>\n",
       "      <td>US</td>\n",
       "      <td>80208810</td>\n",
       "      <td>982576</td>\n",
       "      <td>80179289</td>\n",
       "      <td>982099</td>\n",
       "      <td>29521</td>\n",
       "      <td>477</td>\n",
       "      <td>1.2</td>\n",
       "      <td>North America</td>\n",
       "    </tr>\n",
       "    <tr>\n",
       "      <th>1</th>\n",
       "      <td>India</td>\n",
       "      <td>43030925</td>\n",
       "      <td>521487</td>\n",
       "      <td>43029839</td>\n",
       "      <td>521416</td>\n",
       "      <td>1086</td>\n",
       "      <td>71</td>\n",
       "      <td>1.2</td>\n",
       "      <td>Asia</td>\n",
       "    </tr>\n",
       "    <tr>\n",
       "      <th>2</th>\n",
       "      <td>Brazil</td>\n",
       "      <td>30042272</td>\n",
       "      <td>660786</td>\n",
       "      <td>30015357</td>\n",
       "      <td>660570</td>\n",
       "      <td>26915</td>\n",
       "      <td>216</td>\n",
       "      <td>2.2</td>\n",
       "      <td>South America</td>\n",
       "    </tr>\n",
       "    <tr>\n",
       "      <th>3</th>\n",
       "      <td>France</td>\n",
       "      <td>26428476</td>\n",
       "      <td>143832</td>\n",
       "      <td>26218724</td>\n",
       "      <td>143699</td>\n",
       "      <td>209752</td>\n",
       "      <td>133</td>\n",
       "      <td>0.5</td>\n",
       "      <td>Europe</td>\n",
       "    </tr>\n",
       "    <tr>\n",
       "      <th>4</th>\n",
       "      <td>Germany</td>\n",
       "      <td>21886726</td>\n",
       "      <td>130368</td>\n",
       "      <td>21706329</td>\n",
       "      <td>130052</td>\n",
       "      <td>180397</td>\n",
       "      <td>316</td>\n",
       "      <td>0.6</td>\n",
       "      <td>Europe</td>\n",
       "    </tr>\n",
       "  </tbody>\n",
       "</table>\n",
       "</div>"
      ],
      "text/plain": [
       "  Country/Region     Cases  Deaths    PCases  PDeaths  Cases (+)  Deaths (+)  \\\n",
       "0             US  80208810  982576  80179289   982099      29521         477   \n",
       "1          India  43030925  521487  43029839   521416       1086          71   \n",
       "2         Brazil  30042272  660786  30015357   660570      26915         216   \n",
       "3         France  26428476  143832  26218724   143699     209752         133   \n",
       "4        Germany  21886726  130368  21706329   130052     180397         316   \n",
       "\n",
       "   Fatality Rate      Continent  \n",
       "0            1.2  North America  \n",
       "1            1.2           Asia  \n",
       "2            2.2  South America  \n",
       "3            0.5         Europe  \n",
       "4            0.6         Europe  "
      ]
     },
     "execution_count": 15,
     "metadata": {},
     "output_type": "execute_result"
    }
   ],
   "source": [
    "#hide\n",
    "df_table = (pd.DataFrame(dict(Cases=dfc_cases, Deaths=dfc_deaths, PCases=dfp_cases, PDeaths=dfp_deaths))\n",
    "             .sort_values(by=['Cases', 'Deaths'], ascending=[False, False])\n",
    "             .reset_index())\n",
    "df_table.rename(columns={'index': 'Country/Region'}, inplace=True)\n",
    "for c in 'Cases, Deaths'.split(', '):\n",
    "    df_table[f'{c} (+)'] = (df_table[c] - df_table[f'P{c}']).clip(0)  # DATA BUG\n",
    "df_table['Fatality Rate'] = (100 * df_table['Deaths'] / df_table['Cases']).round(1)\n",
    "df_table['Continent'] = df_table['Country/Region'].map(mapping['map.continent'])\n",
    "df_table.head(5)"
   ]
  },
  {
   "cell_type": "code",
   "execution_count": 16,
   "id": "fewer-occasion",
   "metadata": {
    "execution": {
     "iopub.execute_input": "2022-04-07T00:38:14.728887Z",
     "iopub.status.busy": "2022-04-07T00:38:14.728407Z",
     "iopub.status.idle": "2022-04-07T00:38:14.731363Z",
     "shell.execute_reply": "2022-04-07T00:38:14.730996Z"
    },
    "papermill": {
     "duration": 0.034104,
     "end_time": "2022-04-07T00:38:14.731471",
     "exception": false,
     "start_time": "2022-04-07T00:38:14.697367",
     "status": "completed"
    },
    "tags": []
   },
   "outputs": [],
   "source": [
    "#hide\n",
    "#delete problematic countries from table\n",
    "df_table = df_table[~df_table['Country/Region'].isin(['Cape Verde', 'Cruise Ship', 'Kosovo'])]"
   ]
  },
  {
   "cell_type": "code",
   "execution_count": 17,
   "id": "related-center",
   "metadata": {
    "execution": {
     "iopub.execute_input": "2022-04-07T00:38:14.803102Z",
     "iopub.status.busy": "2022-04-07T00:38:14.802646Z",
     "iopub.status.idle": "2022-04-07T00:38:14.804855Z",
     "shell.execute_reply": "2022-04-07T00:38:14.804470Z"
    },
    "papermill": {
     "duration": 0.046644,
     "end_time": "2022-04-07T00:38:14.804975",
     "exception": false,
     "start_time": "2022-04-07T00:38:14.758331",
     "status": "completed"
    },
    "tags": []
   },
   "outputs": [],
   "source": [
    "#hide\n",
    "metrics = [df_table.columns[index] for index in [1,2,5,6]]\n",
    "# s_china = df_table[df_table['Country/Region'].eq('China')][metrics].sum().add_prefix('China ')\n",
    "s_us = df_table[df_table['Country/Region'].eq('US')][metrics].sum().add_prefix('US ')\n",
    "s_eu = df_table[df_table['Continent'].eq('Europe')][metrics].sum().add_prefix('EU ')\n",
    "s_ind = df_table[df_table['Country/Region'].eq('India')][metrics].sum().add_prefix('India ')\n",
    "summary = {'updated': pd.to_datetime(dt_today), 'since': pd.to_datetime(dt_yday)}\n",
    "summary = {'updated': pd.to_datetime(dt_today), 'since': pd.to_datetime(dt_yday)}\n",
    "summary = {**summary, **df_table[metrics].sum(), **s_ind, **s_us, **s_eu}"
   ]
  },
  {
   "cell_type": "code",
   "execution_count": 18,
   "id": "engaging-syndrome",
   "metadata": {
    "execution": {
     "iopub.execute_input": "2022-04-07T00:38:14.863932Z",
     "iopub.status.busy": "2022-04-07T00:38:14.863483Z",
     "iopub.status.idle": "2022-04-07T00:38:14.882307Z",
     "shell.execute_reply": "2022-04-07T00:38:14.881835Z"
    },
    "papermill": {
     "duration": 0.050331,
     "end_time": "2022-04-07T00:38:14.882435",
     "exception": false,
     "start_time": "2022-04-07T00:38:14.832104",
     "status": "completed"
    },
    "tags": []
   },
   "outputs": [],
   "source": [
    "#hide\n",
    "dft_ct_new_cases = dft_cases.groupby(COL_REGION)[dt_cols].sum().diff(axis=1).fillna(0).astype(int)"
   ]
  },
  {
   "cell_type": "code",
   "execution_count": 19,
   "id": "neutral-assignment",
   "metadata": {
    "execution": {
     "iopub.execute_input": "2022-04-07T00:38:14.944033Z",
     "iopub.status.busy": "2022-04-07T00:38:14.943579Z",
     "iopub.status.idle": "2022-04-07T00:38:14.945500Z",
     "shell.execute_reply": "2022-04-07T00:38:14.945844Z"
    },
    "papermill": {
     "duration": 0.035007,
     "end_time": "2022-04-07T00:38:14.945968",
     "exception": false,
     "start_time": "2022-04-07T00:38:14.910961",
     "status": "completed"
    },
    "tags": []
   },
   "outputs": [],
   "source": [
    "#hide\n",
    "everydaycases = dft_ct_new_cases.cumsum(axis=1)"
   ]
  },
  {
   "cell_type": "code",
   "execution_count": 20,
   "id": "parliamentary-calgary",
   "metadata": {
    "execution": {
     "iopub.execute_input": "2022-04-07T00:38:15.004953Z",
     "iopub.status.busy": "2022-04-07T00:38:15.004456Z",
     "iopub.status.idle": "2022-04-07T00:38:15.553171Z",
     "shell.execute_reply": "2022-04-07T00:38:15.552666Z"
    },
    "papermill": {
     "duration": 0.580033,
     "end_time": "2022-04-07T00:38:15.553310",
     "exception": false,
     "start_time": "2022-04-07T00:38:14.973277",
     "status": "completed"
    },
    "tags": []
   },
   "outputs": [],
   "source": [
    "#hide\n",
    "import pandas as pd\n",
    "import matplotlib.pyplot as plt\n",
    "import matplotlib.ticker as ticker\n",
    "import matplotlib.animation as animation\n",
    "from IPython.display import HTML"
   ]
  },
  {
   "cell_type": "code",
   "execution_count": 21,
   "id": "lasting-extraction",
   "metadata": {
    "execution": {
     "iopub.execute_input": "2022-04-07T00:38:15.614660Z",
     "iopub.status.busy": "2022-04-07T00:38:15.614188Z",
     "iopub.status.idle": "2022-04-07T00:38:15.620568Z",
     "shell.execute_reply": "2022-04-07T00:38:15.620982Z"
    },
    "papermill": {
     "duration": 0.040319,
     "end_time": "2022-04-07T00:38:15.621112",
     "exception": false,
     "start_time": "2022-04-07T00:38:15.580793",
     "status": "completed"
    },
    "tags": []
   },
   "outputs": [],
   "source": [
    "#hide\n",
    "t = everydaycases.stack()"
   ]
  },
  {
   "cell_type": "code",
   "execution_count": 22,
   "id": "premier-sleeve",
   "metadata": {
    "execution": {
     "iopub.execute_input": "2022-04-07T00:38:15.679450Z",
     "iopub.status.busy": "2022-04-07T00:38:15.678990Z",
     "iopub.status.idle": "2022-04-07T00:38:15.690405Z",
     "shell.execute_reply": "2022-04-07T00:38:15.690028Z"
    },
    "papermill": {
     "duration": 0.042339,
     "end_time": "2022-04-07T00:38:15.690507",
     "exception": false,
     "start_time": "2022-04-07T00:38:15.648168",
     "status": "completed"
    },
    "tags": []
   },
   "outputs": [],
   "source": [
    "#hide\n",
    "g = t.reset_index(['Country/Region'])"
   ]
  },
  {
   "cell_type": "code",
   "execution_count": 23,
   "id": "distributed-pittsburgh",
   "metadata": {
    "execution": {
     "iopub.execute_input": "2022-04-07T00:38:15.749192Z",
     "iopub.status.busy": "2022-04-07T00:38:15.748573Z",
     "iopub.status.idle": "2022-04-07T00:38:15.750111Z",
     "shell.execute_reply": "2022-04-07T00:38:15.750549Z"
    },
    "papermill": {
     "duration": 0.033252,
     "end_time": "2022-04-07T00:38:15.750697",
     "exception": false,
     "start_time": "2022-04-07T00:38:15.717445",
     "status": "completed"
    },
    "tags": []
   },
   "outputs": [],
   "source": [
    "#hide\n",
    "g.index.name = 'date'"
   ]
  },
  {
   "cell_type": "code",
   "execution_count": 24,
   "id": "naked-donor",
   "metadata": {
    "execution": {
     "iopub.execute_input": "2022-04-07T00:38:15.810578Z",
     "iopub.status.busy": "2022-04-07T00:38:15.809950Z",
     "iopub.status.idle": "2022-04-07T00:38:15.813751Z",
     "shell.execute_reply": "2022-04-07T00:38:15.814193Z"
    },
    "papermill": {
     "duration": 0.035421,
     "end_time": "2022-04-07T00:38:15.814351",
     "exception": false,
     "start_time": "2022-04-07T00:38:15.778930",
     "status": "completed"
    },
    "tags": []
   },
   "outputs": [],
   "source": [
    "# #hide\n",
    "# g = g.reset_index(['date'])"
   ]
  },
  {
   "cell_type": "code",
   "execution_count": 25,
   "id": "incomplete-mustang",
   "metadata": {
    "execution": {
     "iopub.execute_input": "2022-04-07T00:38:15.872715Z",
     "iopub.status.busy": "2022-04-07T00:38:15.872100Z",
     "iopub.status.idle": "2022-04-07T00:38:15.873478Z",
     "shell.execute_reply": "2022-04-07T00:38:15.874019Z"
    },
    "papermill": {
     "duration": 0.032235,
     "end_time": "2022-04-07T00:38:15.874168",
     "exception": false,
     "start_time": "2022-04-07T00:38:15.841933",
     "status": "completed"
    },
    "tags": []
   },
   "outputs": [],
   "source": [
    "#hide\n",
    "# g.head()"
   ]
  },
  {
   "cell_type": "code",
   "execution_count": 26,
   "id": "specific-kruger",
   "metadata": {
    "execution": {
     "iopub.execute_input": "2022-04-07T00:38:15.932790Z",
     "iopub.status.busy": "2022-04-07T00:38:15.932337Z",
     "iopub.status.idle": "2022-04-07T00:38:15.934242Z",
     "shell.execute_reply": "2022-04-07T00:38:15.934683Z"
    },
    "papermill": {
     "duration": 0.032534,
     "end_time": "2022-04-07T00:38:15.934799",
     "exception": false,
     "start_time": "2022-04-07T00:38:15.902265",
     "status": "completed"
    },
    "tags": []
   },
   "outputs": [],
   "source": [
    "#hide\n",
    "# g.columns = ['date','country','cases']"
   ]
  },
  {
   "cell_type": "code",
   "execution_count": 27,
   "id": "tender-conversion",
   "metadata": {
    "execution": {
     "iopub.execute_input": "2022-04-07T00:38:15.991829Z",
     "iopub.status.busy": "2022-04-07T00:38:15.991376Z",
     "iopub.status.idle": "2022-04-07T00:38:15.993609Z",
     "shell.execute_reply": "2022-04-07T00:38:15.993221Z"
    },
    "papermill": {
     "duration": 0.032105,
     "end_time": "2022-04-07T00:38:15.993706",
     "exception": false,
     "start_time": "2022-04-07T00:38:15.961601",
     "status": "completed"
    },
    "tags": []
   },
   "outputs": [],
   "source": [
    "#hide\n",
    "# g['continent'] = g.country"
   ]
  },
  {
   "cell_type": "code",
   "execution_count": 28,
   "id": "substantial-wilderness",
   "metadata": {
    "execution": {
     "iopub.execute_input": "2022-04-07T00:38:16.051536Z",
     "iopub.status.busy": "2022-04-07T00:38:16.051086Z",
     "iopub.status.idle": "2022-04-07T00:38:16.052952Z",
     "shell.execute_reply": "2022-04-07T00:38:16.053325Z"
    },
    "papermill": {
     "duration": 0.032615,
     "end_time": "2022-04-07T00:38:16.053441",
     "exception": false,
     "start_time": "2022-04-07T00:38:16.020826",
     "status": "completed"
    },
    "tags": []
   },
   "outputs": [],
   "source": [
    "#hide\n",
    "# cols = list(g.columns.values)"
   ]
  },
  {
   "cell_type": "code",
   "execution_count": 29,
   "id": "solved-farming",
   "metadata": {
    "execution": {
     "iopub.execute_input": "2022-04-07T00:38:16.111053Z",
     "iopub.status.busy": "2022-04-07T00:38:16.110457Z",
     "iopub.status.idle": "2022-04-07T00:38:16.112161Z",
     "shell.execute_reply": "2022-04-07T00:38:16.111713Z"
    },
    "papermill": {
     "duration": 0.031941,
     "end_time": "2022-04-07T00:38:16.112256",
     "exception": false,
     "start_time": "2022-04-07T00:38:16.080315",
     "status": "completed"
    },
    "tags": []
   },
   "outputs": [],
   "source": [
    "#hide\n",
    "# cols.insert(0, cols.pop())"
   ]
  },
  {
   "cell_type": "code",
   "execution_count": 30,
   "id": "executed-adoption",
   "metadata": {
    "execution": {
     "iopub.execute_input": "2022-04-07T00:38:16.170150Z",
     "iopub.status.busy": "2022-04-07T00:38:16.169558Z",
     "iopub.status.idle": "2022-04-07T00:38:16.171072Z",
     "shell.execute_reply": "2022-04-07T00:38:16.171535Z"
    },
    "papermill": {
     "duration": 0.032317,
     "end_time": "2022-04-07T00:38:16.171671",
     "exception": false,
     "start_time": "2022-04-07T00:38:16.139354",
     "status": "completed"
    },
    "tags": []
   },
   "outputs": [],
   "source": [
    "#hide\n",
    "# g = g[cols]"
   ]
  },
  {
   "cell_type": "code",
   "execution_count": 31,
   "id": "subject-dublin",
   "metadata": {
    "execution": {
     "iopub.execute_input": "2022-04-07T00:38:16.229185Z",
     "iopub.status.busy": "2022-04-07T00:38:16.228529Z",
     "iopub.status.idle": "2022-04-07T00:38:16.229968Z",
     "shell.execute_reply": "2022-04-07T00:38:16.230459Z"
    },
    "papermill": {
     "duration": 0.031925,
     "end_time": "2022-04-07T00:38:16.230599",
     "exception": false,
     "start_time": "2022-04-07T00:38:16.198674",
     "status": "completed"
    },
    "tags": []
   },
   "outputs": [],
   "source": [
    "#hide\n",
    "# g['continent'] = g['continent'].map(mapping['map.continent'])"
   ]
  },
  {
   "cell_type": "code",
   "execution_count": 32,
   "id": "freelance-scout",
   "metadata": {
    "execution": {
     "iopub.execute_input": "2022-04-07T00:38:16.288651Z",
     "iopub.status.busy": "2022-04-07T00:38:16.288066Z",
     "iopub.status.idle": "2022-04-07T00:38:16.291996Z",
     "shell.execute_reply": "2022-04-07T00:38:16.292435Z"
    },
    "papermill": {
     "duration": 0.034241,
     "end_time": "2022-04-07T00:38:16.292576",
     "exception": false,
     "start_time": "2022-04-07T00:38:16.258335",
     "status": "completed"
    },
    "tags": []
   },
   "outputs": [],
   "source": [
    "#hide\n",
    "# g.head()"
   ]
  },
  {
   "cell_type": "code",
   "execution_count": 33,
   "id": "limited-engine",
   "metadata": {
    "execution": {
     "iopub.execute_input": "2022-04-07T00:38:16.349433Z",
     "iopub.status.busy": "2022-04-07T00:38:16.348978Z",
     "iopub.status.idle": "2022-04-07T00:38:16.351243Z",
     "shell.execute_reply": "2022-04-07T00:38:16.350880Z"
    },
    "papermill": {
     "duration": 0.03147,
     "end_time": "2022-04-07T00:38:16.351337",
     "exception": false,
     "start_time": "2022-04-07T00:38:16.319867",
     "status": "completed"
    },
    "tags": []
   },
   "outputs": [],
   "source": [
    "# hide\n",
    "# g['date'] = g['date'].astype('datetime64[ns]')"
   ]
  },
  {
   "cell_type": "code",
   "execution_count": 34,
   "id": "sophisticated-supervisor",
   "metadata": {
    "execution": {
     "iopub.execute_input": "2022-04-07T00:38:16.409595Z",
     "iopub.status.busy": "2022-04-07T00:38:16.408992Z",
     "iopub.status.idle": "2022-04-07T00:38:16.410382Z",
     "shell.execute_reply": "2022-04-07T00:38:16.410874Z"
    },
    "papermill": {
     "duration": 0.032598,
     "end_time": "2022-04-07T00:38:16.411014",
     "exception": false,
     "start_time": "2022-04-07T00:38:16.378416",
     "status": "completed"
    },
    "tags": []
   },
   "outputs": [],
   "source": [
    "#hide\n",
    "# g['date'] = g.date.dt.dayofyear"
   ]
  },
  {
   "cell_type": "code",
   "execution_count": 35,
   "id": "inside-dubai",
   "metadata": {
    "execution": {
     "iopub.execute_input": "2022-04-07T00:38:16.469024Z",
     "iopub.status.busy": "2022-04-07T00:38:16.468528Z",
     "iopub.status.idle": "2022-04-07T00:38:16.471373Z",
     "shell.execute_reply": "2022-04-07T00:38:16.471010Z"
    },
    "papermill": {
     "duration": 0.032426,
     "end_time": "2022-04-07T00:38:16.471471",
     "exception": false,
     "start_time": "2022-04-07T00:38:16.439045",
     "status": "completed"
    },
    "tags": []
   },
   "outputs": [],
   "source": [
    "#hide\n",
    "# g = g.rename(columns= {'continent':'group','country':'name','cases':'value'})"
   ]
  },
  {
   "cell_type": "code",
   "execution_count": 36,
   "id": "fleet-motorcycle",
   "metadata": {
    "execution": {
     "iopub.execute_input": "2022-04-07T00:38:16.529438Z",
     "iopub.status.busy": "2022-04-07T00:38:16.528856Z",
     "iopub.status.idle": "2022-04-07T00:38:16.531517Z",
     "shell.execute_reply": "2022-04-07T00:38:16.531145Z"
    },
    "papermill": {
     "duration": 0.032971,
     "end_time": "2022-04-07T00:38:16.531620",
     "exception": false,
     "start_time": "2022-04-07T00:38:16.498649",
     "status": "completed"
    },
    "tags": []
   },
   "outputs": [],
   "source": [
    "#hide\n",
    "# cols = ['name','group','day','value']"
   ]
  },
  {
   "cell_type": "code",
   "execution_count": 37,
   "id": "continued-sleeping",
   "metadata": {
    "execution": {
     "iopub.execute_input": "2022-04-07T00:38:16.589442Z",
     "iopub.status.busy": "2022-04-07T00:38:16.588784Z",
     "iopub.status.idle": "2022-04-07T00:38:16.591513Z",
     "shell.execute_reply": "2022-04-07T00:38:16.591144Z"
    },
    "papermill": {
     "duration": 0.033066,
     "end_time": "2022-04-07T00:38:16.591617",
     "exception": false,
     "start_time": "2022-04-07T00:38:16.558551",
     "status": "completed"
    },
    "tags": []
   },
   "outputs": [],
   "source": [
    "#hide\n",
    "# g.rename(columns= {'date':'day'},inplace = True)"
   ]
  },
  {
   "cell_type": "code",
   "execution_count": 38,
   "id": "major-fight",
   "metadata": {
    "execution": {
     "iopub.execute_input": "2022-04-07T00:38:16.649171Z",
     "iopub.status.busy": "2022-04-07T00:38:16.648536Z",
     "iopub.status.idle": "2022-04-07T00:38:16.649976Z",
     "shell.execute_reply": "2022-04-07T00:38:16.650442Z"
    },
    "papermill": {
     "duration": 0.031804,
     "end_time": "2022-04-07T00:38:16.650579",
     "exception": false,
     "start_time": "2022-04-07T00:38:16.618775",
     "status": "completed"
    },
    "tags": []
   },
   "outputs": [],
   "source": [
    "#hide\n",
    "# g = g[cols]"
   ]
  },
  {
   "cell_type": "code",
   "execution_count": 39,
   "id": "structured-mobile",
   "metadata": {
    "execution": {
     "iopub.execute_input": "2022-04-07T00:38:16.708786Z",
     "iopub.status.busy": "2022-04-07T00:38:16.708278Z",
     "iopub.status.idle": "2022-04-07T00:38:16.712046Z",
     "shell.execute_reply": "2022-04-07T00:38:16.712392Z"
    },
    "papermill": {
     "duration": 0.034802,
     "end_time": "2022-04-07T00:38:16.712523",
     "exception": false,
     "start_time": "2022-04-07T00:38:16.677721",
     "status": "completed"
    },
    "tags": []
   },
   "outputs": [],
   "source": [
    "# #hide\n",
    "# g = g[g.group.notna()]"
   ]
  },
  {
   "cell_type": "code",
   "execution_count": 40,
   "id": "determined-closing",
   "metadata": {
    "execution": {
     "iopub.execute_input": "2022-04-07T00:38:16.771919Z",
     "iopub.status.busy": "2022-04-07T00:38:16.771250Z",
     "iopub.status.idle": "2022-04-07T00:38:16.774937Z",
     "shell.execute_reply": "2022-04-07T00:38:16.775379Z"
    },
    "papermill": {
     "duration": 0.035773,
     "end_time": "2022-04-07T00:38:16.775548",
     "exception": false,
     "start_time": "2022-04-07T00:38:16.739775",
     "status": "completed"
    },
    "tags": []
   },
   "outputs": [],
   "source": [
    "# #hide\n",
    "# colors = dict(zip(\n",
    "#     [\"Oceania\", \"Europe\", \"Asia\", \"South America\", \"Middle East\", \"North America\", \"Africa\"],\n",
    "#     [\"#adb0ff\", \"#ffb3ff\", \"#90d595\", \"#e48381\", \"#aafbff\", \"#f7bb5f\", \"#eafb50\"]\n",
    "# ))\n",
    "# group_lk = g.set_index('name')['group'].to_dict()"
   ]
  },
  {
   "cell_type": "code",
   "execution_count": null,
   "id": "gross-drinking",
   "metadata": {
    "papermill": {
     "duration": 0.026904,
     "end_time": "2022-04-07T00:38:16.829511",
     "exception": false,
     "start_time": "2022-04-07T00:38:16.802607",
     "status": "completed"
    },
    "tags": []
   },
   "outputs": [],
   "source": []
  },
  {
   "cell_type": "code",
   "execution_count": 41,
   "id": "subject-macintosh",
   "metadata": {
    "execution": {
     "iopub.execute_input": "2022-04-07T00:38:16.892850Z",
     "iopub.status.busy": "2022-04-07T00:38:16.892309Z",
     "iopub.status.idle": "2022-04-07T00:38:16.894576Z",
     "shell.execute_reply": "2022-04-07T00:38:16.895072Z"
    },
    "papermill": {
     "duration": 0.036559,
     "end_time": "2022-04-07T00:38:16.895224",
     "exception": false,
     "start_time": "2022-04-07T00:38:16.858665",
     "status": "completed"
    },
    "tags": []
   },
   "outputs": [],
   "source": [
    "# #hide\n",
    "# fig, ax = plt.subplots(figsize=(15, 8))\n",
    "\n",
    "# def draw_barchart(current_day):\n",
    "#     dff = g[g['day'].eq(current_day)].sort_values(by='value', ascending=True).tail(10)\n",
    "#     ax.clear()\n",
    "#     ax.barh(dff['name'], dff['value'], color=[colors[group_lk[x]] for x in dff['name']])\n",
    "#     dx = dff['value'].max() / 200\n",
    "    \n",
    "#     for i, (value, name) in enumerate(zip(dff['value'], dff['name'])):\n",
    "#         ax.text(value-dx, i,     name,           size=14, weight=600, ha='right', va='bottom')\n",
    "#         ax.text(value-dx, i-.25, group_lk[name], size=10, color='#444444', ha='right', va='baseline')\n",
    "#         ax.text(value+dx, i,     f'{value:,.0f}',  size=14, ha='left',  va='center')\n",
    "#     ax.text(1, 0.4, current_day, transform=ax.transAxes, color='#777777', size=46, ha='right', weight=800)\n",
    "#     ax.text(0, 1.06, 'Population (thousands)', transform=ax.transAxes, size=12, color='#777777')\n",
    "#     ax.xaxis.set_major_formatter(ticker.StrMethodFormatter('{x:,.0f}'))\n",
    "#     ax.xaxis.set_ticks_position('top')\n",
    "#     ax.tick_params(axis='x', colors='#777777', labelsize=12)\n",
    "#     ax.set_yticks([])\n",
    "#     ax.margins(0, 0.01)\n",
    "#     ax.grid(which='major', axis='x', linestyle='-')\n",
    "#     ax.set_axisbelow(True)\n",
    "    \n",
    "#     ax.text(0, 1.15, 'Coronavirus',\n",
    "#             transform=ax.transAxes, size=24, weight=600, ha='left', va='top')\n",
    "# #     ax.text(1, 0, 'by @pratapvardhan; credit @jburnmurdoch', transform=ax.transAxes, color='#777777', ha='right',\n",
    "# #             bbox=dict(facecolor='white', alpha=0.8, edgecolor='white'))\n",
    "#     plt.box(False)"
   ]
  },
  {
   "cell_type": "code",
   "execution_count": 42,
   "id": "sexual-wages",
   "metadata": {
    "execution": {
     "iopub.execute_input": "2022-04-07T00:38:16.953227Z",
     "iopub.status.busy": "2022-04-07T00:38:16.952580Z",
     "iopub.status.idle": "2022-04-07T00:38:16.955790Z",
     "shell.execute_reply": "2022-04-07T00:38:16.955210Z"
    },
    "papermill": {
     "duration": 0.033588,
     "end_time": "2022-04-07T00:38:16.955914",
     "exception": false,
     "start_time": "2022-04-07T00:38:16.922326",
     "status": "completed"
    },
    "tags": []
   },
   "outputs": [],
   "source": [
    "# #hide_input\n",
    "# fig, ax = plt.subplots(figsize=(15, 8))\n",
    "# animator = animation.FuncAnimation(fig, draw_barchart, frames=range(g.day.values.min(), g.day.values.max()))\n",
    "# HTML(animator.to_jshtml())\n",
    "# # or use animator.to_html5_video() or animator.save() "
   ]
  },
  {
   "cell_type": "code",
   "execution_count": null,
   "id": "australian-container",
   "metadata": {
    "papermill": {
     "duration": 0.027149,
     "end_time": "2022-04-07T00:38:17.010656",
     "exception": false,
     "start_time": "2022-04-07T00:38:16.983507",
     "status": "completed"
    },
    "tags": []
   },
   "outputs": [],
   "source": []
  },
  {
   "cell_type": "code",
   "execution_count": null,
   "id": "mediterranean-pontiac",
   "metadata": {
    "papermill": {
     "duration": 0.026759,
     "end_time": "2022-04-07T00:38:17.064138",
     "exception": false,
     "start_time": "2022-04-07T00:38:17.037379",
     "status": "completed"
    },
    "tags": []
   },
   "outputs": [],
   "source": []
  },
  {
   "cell_type": "code",
   "execution_count": null,
   "id": "aging-legislature",
   "metadata": {
    "papermill": {
     "duration": 0.027118,
     "end_time": "2022-04-07T00:38:17.118260",
     "exception": false,
     "start_time": "2022-04-07T00:38:17.091142",
     "status": "completed"
    },
    "tags": []
   },
   "outputs": [],
   "source": []
  }
 ],
 "metadata": {
  "kernelspec": {
   "display_name": "Python 3",
   "language": "python",
   "name": "python3"
  },
  "language_info": {
   "codemirror_mode": {
    "name": "ipython",
    "version": 3
   },
   "file_extension": ".py",
   "mimetype": "text/x-python",
   "name": "python",
   "nbconvert_exporter": "python",
   "pygments_lexer": "ipython3",
   "version": "3.6.15"
  },
  "papermill": {
   "duration": 5.719886,
   "end_time": "2022-04-07T00:38:17.564645",
   "environment_variables": {},
   "exception": null,
   "input_path": "2020-03-21-covid19exp.ipynb",
   "output_path": "2020-03-21-covid19exp.ipynb",
   "parameters": {},
   "start_time": "2022-04-07T00:38:11.844759",
   "version": "2.0.0"
  }
 },
 "nbformat": 4,
 "nbformat_minor": 5
}