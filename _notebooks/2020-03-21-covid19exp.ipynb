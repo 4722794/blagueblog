{
 "cells": [
  {
   "cell_type": "markdown",
   "id": "muslim-click",
   "metadata": {
    "papermill": {
     "duration": 0.048241,
     "end_time": "2021-05-05T12:07:48.180052",
     "exception": false,
     "start_time": "2021-05-05T12:07:48.131811",
     "status": "completed"
    },
    "tags": []
   },
   "source": [
    "# COVID-19 Case Race\n",
    "> A race chart to see rising cases around the world\n",
    "\n",
    "- author: Hargun Oberoi\n",
    "- image: images/covid-overview.png\n",
    "- hide: false\n",
    "- badges: false"
   ]
  },
  {
   "cell_type": "code",
   "execution_count": 1,
   "id": "proof-material",
   "metadata": {
    "execution": {
     "iopub.execute_input": "2021-05-05T12:07:48.263228Z",
     "iopub.status.busy": "2021-05-05T12:07:48.262518Z",
     "iopub.status.idle": "2021-05-05T12:07:48.611656Z",
     "shell.execute_reply": "2021-05-05T12:07:48.612164Z"
    },
    "papermill": {
     "duration": 0.395034,
     "end_time": "2021-05-05T12:07:48.612357",
     "exception": false,
     "start_time": "2021-05-05T12:07:48.217323",
     "status": "completed"
    },
    "tags": []
   },
   "outputs": [],
   "source": [
    "#hide\n",
    "import numpy as np\n",
    "import pandas as pd\n",
    "from jinja2 import Template\n",
    "from IPython.display import HTML"
   ]
  },
  {
   "cell_type": "code",
   "execution_count": 2,
   "id": "developed-terminology",
   "metadata": {
    "execution": {
     "iopub.execute_input": "2021-05-05T12:07:48.700352Z",
     "iopub.status.busy": "2021-05-05T12:07:48.699600Z",
     "iopub.status.idle": "2021-05-05T12:07:48.702777Z",
     "shell.execute_reply": "2021-05-05T12:07:48.703341Z"
    },
    "papermill": {
     "duration": 0.045768,
     "end_time": "2021-05-05T12:07:48.703493",
     "exception": false,
     "start_time": "2021-05-05T12:07:48.657725",
     "status": "completed"
    },
    "tags": []
   },
   "outputs": [],
   "source": [
    "#hide\n",
    "\n",
    "# FETCH\n",
    "base_url = 'https://raw.githubusercontent.com/pratapvardhan/notebooks/master/covid19/'\n",
    "paths = {\n",
    "    'mapping': base_url + 'mapping_countries.csv',\n",
    "    'overview': base_url + 'overview.tpl'\n",
    "}"
   ]
  },
  {
   "cell_type": "code",
   "execution_count": 3,
   "id": "dynamic-saver",
   "metadata": {
    "execution": {
     "iopub.execute_input": "2021-05-05T12:07:48.799178Z",
     "iopub.status.busy": "2021-05-05T12:07:48.798496Z",
     "iopub.status.idle": "2021-05-05T12:07:48.801811Z",
     "shell.execute_reply": "2021-05-05T12:07:48.801179Z"
    },
    "papermill": {
     "duration": 0.061302,
     "end_time": "2021-05-05T12:07:48.801948",
     "exception": false,
     "start_time": "2021-05-05T12:07:48.740646",
     "status": "completed"
    },
    "tags": []
   },
   "outputs": [
    {
     "data": {
      "text/plain": [
       "'https://raw.githubusercontent.com/pratapvardhan/notebooks/master/covid19/mapping_countries.csv'"
      ]
     },
     "execution_count": 3,
     "metadata": {},
     "output_type": "execute_result"
    }
   ],
   "source": [
    "#hide\n",
    "paths['mapping']"
   ]
  },
  {
   "cell_type": "code",
   "execution_count": 4,
   "id": "urban-software",
   "metadata": {
    "execution": {
     "iopub.execute_input": "2021-05-05T12:07:48.882442Z",
     "iopub.status.busy": "2021-05-05T12:07:48.881796Z",
     "iopub.status.idle": "2021-05-05T12:07:48.883319Z",
     "shell.execute_reply": "2021-05-05T12:07:48.883891Z"
    },
    "papermill": {
     "duration": 0.044085,
     "end_time": "2021-05-05T12:07:48.884029",
     "exception": false,
     "start_time": "2021-05-05T12:07:48.839944",
     "status": "completed"
    },
    "tags": []
   },
   "outputs": [],
   "source": [
    "#hide\n",
    "def get_mappings(url):\n",
    "    df = pd.read_csv(url)\n",
    "    return {\n",
    "        'df': df,\n",
    "        'replace.country': dict(df.dropna(subset=['Name']).set_index('Country')['Name']),\n",
    "        'map.continent': dict(df.set_index('Name')['Continent'])\n",
    "    }"
   ]
  },
  {
   "cell_type": "code",
   "execution_count": 5,
   "id": "intimate-machinery",
   "metadata": {
    "execution": {
     "iopub.execute_input": "2021-05-05T12:07:48.960554Z",
     "iopub.status.busy": "2021-05-05T12:07:48.959886Z",
     "iopub.status.idle": "2021-05-05T12:07:48.999686Z",
     "shell.execute_reply": "2021-05-05T12:07:48.999166Z"
    },
    "papermill": {
     "duration": 0.08033,
     "end_time": "2021-05-05T12:07:48.999806",
     "exception": false,
     "start_time": "2021-05-05T12:07:48.919476",
     "status": "completed"
    },
    "tags": []
   },
   "outputs": [],
   "source": [
    "#hide\n",
    "mapping = get_mappings(paths['mapping'])"
   ]
  },
  {
   "cell_type": "code",
   "execution_count": 6,
   "id": "certified-tactics",
   "metadata": {
    "execution": {
     "iopub.execute_input": "2021-05-05T12:07:49.078252Z",
     "iopub.status.busy": "2021-05-05T12:07:49.077630Z",
     "iopub.status.idle": "2021-05-05T12:07:49.080422Z",
     "shell.execute_reply": "2021-05-05T12:07:49.079890Z"
    },
    "papermill": {
     "duration": 0.045178,
     "end_time": "2021-05-05T12:07:49.080538",
     "exception": false,
     "start_time": "2021-05-05T12:07:49.035360",
     "status": "completed"
    },
    "tags": []
   },
   "outputs": [],
   "source": [
    "#hide\n",
    "def get_template(path):\n",
    "    from urllib.parse import urlparse\n",
    "    if bool(urlparse(path).netloc):\n",
    "        from urllib.request import urlopen\n",
    "        return urlopen(path).read().decode('utf8')\n",
    "    return open(path).read()"
   ]
  },
  {
   "cell_type": "code",
   "execution_count": 7,
   "id": "realistic-blast",
   "metadata": {
    "execution": {
     "iopub.execute_input": "2021-05-05T12:07:49.156443Z",
     "iopub.status.busy": "2021-05-05T12:07:49.155841Z",
     "iopub.status.idle": "2021-05-05T12:07:49.157758Z",
     "shell.execute_reply": "2021-05-05T12:07:49.158243Z"
    },
    "papermill": {
     "duration": 0.041149,
     "end_time": "2021-05-05T12:07:49.158364",
     "exception": false,
     "start_time": "2021-05-05T12:07:49.117215",
     "status": "completed"
    },
    "tags": []
   },
   "outputs": [],
   "source": [
    "#hide\n",
    "def get_frame(name):\n",
    "    url = (\n",
    "        'https://raw.githubusercontent.com/CSSEGISandData/COVID-19/master/csse_covid_19_data/'\n",
    "        f'csse_covid_19_time_series/time_series_covid19_{name}_global.csv')\n",
    "    df = pd.read_csv(url)\n",
    "    # rename countries\n",
    "    df['Country/Region'] = df['Country/Region'].replace(mapping['replace.country'])\n",
    "    return df"
   ]
  },
  {
   "cell_type": "code",
   "execution_count": 8,
   "id": "affiliated-characterization",
   "metadata": {
    "execution": {
     "iopub.execute_input": "2021-05-05T12:07:49.234947Z",
     "iopub.status.busy": "2021-05-05T12:07:49.234187Z",
     "iopub.status.idle": "2021-05-05T12:07:49.236253Z",
     "shell.execute_reply": "2021-05-05T12:07:49.236779Z"
    },
    "papermill": {
     "duration": 0.043589,
     "end_time": "2021-05-05T12:07:49.236911",
     "exception": false,
     "start_time": "2021-05-05T12:07:49.193322",
     "status": "completed"
    },
    "tags": []
   },
   "outputs": [],
   "source": [
    "#hide\n",
    "def get_dates(df):\n",
    "    dt_cols = df.columns[~df.columns.isin(['Province/State', 'Country/Region', 'Lat', 'Long'])]\n",
    "    LAST_DATE_I = -1\n",
    "    # sometimes last column may be empty, then go backwards\n",
    "    for i in range(-1, -len(dt_cols), -1):\n",
    "        if not df[dt_cols[i]].fillna(0).eq(0).all():\n",
    "            LAST_DATE_I = i\n",
    "            break\n",
    "    return LAST_DATE_I, dt_cols"
   ]
  },
  {
   "cell_type": "code",
   "execution_count": 9,
   "id": "recent-optimization",
   "metadata": {
    "execution": {
     "iopub.execute_input": "2021-05-05T12:07:49.314072Z",
     "iopub.status.busy": "2021-05-05T12:07:49.313321Z",
     "iopub.status.idle": "2021-05-05T12:07:49.656137Z",
     "shell.execute_reply": "2021-05-05T12:07:49.655616Z"
    },
    "papermill": {
     "duration": 0.383171,
     "end_time": "2021-05-05T12:07:49.656265",
     "exception": false,
     "start_time": "2021-05-05T12:07:49.273094",
     "status": "completed"
    },
    "tags": []
   },
   "outputs": [],
   "source": [
    "#hide\n",
    "COL_REGION = 'Country/Region'\n",
    "# Confirmed, Recovered, Deaths\n",
    "df = get_frame('confirmed')\n",
    "# dft_: timeseries, dfc_: today country agg\n",
    "dft_cases = df\n",
    "dft_deaths = get_frame('deaths')\n",
    "dft_recovered = get_frame('recovered')\n",
    "LAST_DATE_I, dt_cols = get_dates(df)"
   ]
  },
  {
   "cell_type": "code",
   "execution_count": 10,
   "id": "absolute-copper",
   "metadata": {
    "execution": {
     "iopub.execute_input": "2021-05-05T12:07:49.732607Z",
     "iopub.status.busy": "2021-05-05T12:07:49.732003Z",
     "iopub.status.idle": "2021-05-05T12:07:49.734419Z",
     "shell.execute_reply": "2021-05-05T12:07:49.733931Z"
    },
    "papermill": {
     "duration": 0.043364,
     "end_time": "2021-05-05T12:07:49.734540",
     "exception": false,
     "start_time": "2021-05-05T12:07:49.691176",
     "status": "completed"
    },
    "tags": []
   },
   "outputs": [],
   "source": [
    "#hide\n",
    "LAST_DATE_I, dt_cols = get_dates(df)\n",
    "dt_today =dt_cols[LAST_DATE_I]\n",
    "# dt_5day = dt_cols[LAST_DATE_I - 5]\n",
    "dt_yday = dt_cols[LAST_DATE_I - 1]"
   ]
  },
  {
   "cell_type": "code",
   "execution_count": 11,
   "id": "restricted-sheriff",
   "metadata": {
    "execution": {
     "iopub.execute_input": "2021-05-05T12:07:49.811813Z",
     "iopub.status.busy": "2021-05-05T12:07:49.811042Z",
     "iopub.status.idle": "2021-05-05T12:07:49.819654Z",
     "shell.execute_reply": "2021-05-05T12:07:49.819168Z"
    },
    "papermill": {
     "duration": 0.048624,
     "end_time": "2021-05-05T12:07:49.819765",
     "exception": false,
     "start_time": "2021-05-05T12:07:49.771141",
     "status": "completed"
    },
    "tags": []
   },
   "outputs": [],
   "source": [
    "#hide\n",
    "dfc_cases = dft_cases.groupby(COL_REGION)[dt_today].sum()\n",
    "dfc_deaths = dft_deaths.groupby(COL_REGION)[dt_today].sum()\n",
    "# dfp_cases = dft_cases.groupby(COL_REGION)[dt_5day].sum()\n",
    "# dfp_deaths = dft_deaths.groupby(COL_REGION)[dt_5day].sum()\n",
    "dfp_cases = dft_cases.groupby(COL_REGION)[dt_yday].sum()\n",
    "dfp_deaths = dft_deaths.groupby(COL_REGION)[dt_yday].sum()"
   ]
  },
  {
   "cell_type": "code",
   "execution_count": 12,
   "id": "deluxe-hepatitis",
   "metadata": {
    "execution": {
     "iopub.execute_input": "2021-05-05T12:07:49.895422Z",
     "iopub.status.busy": "2021-05-05T12:07:49.894765Z",
     "iopub.status.idle": "2021-05-05T12:07:49.899314Z",
     "shell.execute_reply": "2021-05-05T12:07:49.899868Z"
    },
    "papermill": {
     "duration": 0.045627,
     "end_time": "2021-05-05T12:07:49.899996",
     "exception": false,
     "start_time": "2021-05-05T12:07:49.854369",
     "status": "completed"
    },
    "tags": []
   },
   "outputs": [],
   "source": [
    "#hide\n",
    "df_table = (pd.DataFrame(dict(Cases = dfc_cases, Deaths = dfc_deaths, PCases = dfp_cases, PDeaths = dfp_deaths))\n",
    "            .sort_values(by = ['Cases','Deaths'], ascending = [False, False])\n",
    "            .reset_index())"
   ]
  },
  {
   "cell_type": "code",
   "execution_count": 13,
   "id": "educational-chancellor",
   "metadata": {
    "execution": {
     "iopub.execute_input": "2021-05-05T12:07:49.994029Z",
     "iopub.status.busy": "2021-05-05T12:07:49.993378Z",
     "iopub.status.idle": "2021-05-05T12:07:50.001359Z",
     "shell.execute_reply": "2021-05-05T12:07:50.002020Z"
    },
    "papermill": {
     "duration": 0.067052,
     "end_time": "2021-05-05T12:07:50.002489",
     "exception": false,
     "start_time": "2021-05-05T12:07:49.935437",
     "status": "completed"
    },
    "tags": []
   },
   "outputs": [
    {
     "data": {
      "text/html": [
       "<div>\n",
       "<style scoped>\n",
       "    .dataframe tbody tr th:only-of-type {\n",
       "        vertical-align: middle;\n",
       "    }\n",
       "\n",
       "    .dataframe tbody tr th {\n",
       "        vertical-align: top;\n",
       "    }\n",
       "\n",
       "    .dataframe thead th {\n",
       "        text-align: right;\n",
       "    }\n",
       "</style>\n",
       "<table border=\"1\" class=\"dataframe\">\n",
       "  <thead>\n",
       "    <tr style=\"text-align: right;\">\n",
       "      <th></th>\n",
       "      <th>Country/Region</th>\n",
       "      <th>Cases</th>\n",
       "      <th>Deaths</th>\n",
       "      <th>PCases</th>\n",
       "      <th>PDeaths</th>\n",
       "      <th>Cases (+)</th>\n",
       "      <th>Deaths (+)</th>\n",
       "      <th>Fatality Rate</th>\n",
       "      <th>Continent</th>\n",
       "    </tr>\n",
       "  </thead>\n",
       "  <tbody>\n",
       "    <tr>\n",
       "      <th>0</th>\n",
       "      <td>US</td>\n",
       "      <td>32512934</td>\n",
       "      <td>578499</td>\n",
       "      <td>32472201</td>\n",
       "      <td>577566</td>\n",
       "      <td>40733</td>\n",
       "      <td>933</td>\n",
       "      <td>1.78</td>\n",
       "      <td>North America</td>\n",
       "    </tr>\n",
       "    <tr>\n",
       "      <th>1</th>\n",
       "      <td>India</td>\n",
       "      <td>20664979</td>\n",
       "      <td>226188</td>\n",
       "      <td>20282833</td>\n",
       "      <td>222408</td>\n",
       "      <td>382146</td>\n",
       "      <td>3780</td>\n",
       "      <td>1.09</td>\n",
       "      <td>Asia</td>\n",
       "    </tr>\n",
       "    <tr>\n",
       "      <th>2</th>\n",
       "      <td>Brazil</td>\n",
       "      <td>14856888</td>\n",
       "      <td>411588</td>\n",
       "      <td>14779529</td>\n",
       "      <td>408622</td>\n",
       "      <td>77359</td>\n",
       "      <td>2966</td>\n",
       "      <td>2.77</td>\n",
       "      <td>South America</td>\n",
       "    </tr>\n",
       "    <tr>\n",
       "      <th>3</th>\n",
       "      <td>France</td>\n",
       "      <td>5741537</td>\n",
       "      <td>105548</td>\n",
       "      <td>5717160</td>\n",
       "      <td>105291</td>\n",
       "      <td>24377</td>\n",
       "      <td>257</td>\n",
       "      <td>1.84</td>\n",
       "      <td>Europe</td>\n",
       "    </tr>\n",
       "    <tr>\n",
       "      <th>4</th>\n",
       "      <td>Turkey</td>\n",
       "      <td>4929118</td>\n",
       "      <td>41527</td>\n",
       "      <td>4900121</td>\n",
       "      <td>41191</td>\n",
       "      <td>28997</td>\n",
       "      <td>336</td>\n",
       "      <td>0.84</td>\n",
       "      <td>Asia</td>\n",
       "    </tr>\n",
       "  </tbody>\n",
       "</table>\n",
       "</div>"
      ],
      "text/plain": [
       "  Country/Region     Cases  Deaths    PCases  PDeaths  Cases (+)  Deaths (+)  \\\n",
       "0             US  32512934  578499  32472201   577566      40733         933   \n",
       "1          India  20664979  226188  20282833   222408     382146        3780   \n",
       "2         Brazil  14856888  411588  14779529   408622      77359        2966   \n",
       "3         France   5741537  105548   5717160   105291      24377         257   \n",
       "4         Turkey   4929118   41527   4900121    41191      28997         336   \n",
       "\n",
       "   Fatality Rate      Continent  \n",
       "0           1.78  North America  \n",
       "1           1.09           Asia  \n",
       "2           2.77  South America  \n",
       "3           1.84         Europe  \n",
       "4           0.84           Asia  "
      ]
     },
     "execution_count": 13,
     "metadata": {},
     "output_type": "execute_result"
    }
   ],
   "source": [
    "#hide\n",
    "for c in 'Cases, Deaths'.split(', '):\n",
    "    df_table[f'{c} (+)'] = (df_table[c] - df_table[f'P{c}']).clip(0)\n",
    "    #Clip ça veut dire, les chiffres negatif sont interdit\n",
    "df_table['Fatality Rate'] = (100* df_table['Deaths']/ df_table['Cases']).round(2)\n",
    "df_table['Continent'] = df_table['Country/Region'].map(mapping['map.continent'])\n",
    "df_table.head(5)"
   ]
  },
  {
   "cell_type": "code",
   "execution_count": 14,
   "id": "aboriginal-bulgaria",
   "metadata": {
    "execution": {
     "iopub.execute_input": "2021-05-05T12:07:50.086768Z",
     "iopub.status.busy": "2021-05-05T12:07:50.086150Z",
     "iopub.status.idle": "2021-05-05T12:07:50.089556Z",
     "shell.execute_reply": "2021-05-05T12:07:50.089042Z"
    },
    "papermill": {
     "duration": 0.048329,
     "end_time": "2021-05-05T12:07:50.089678",
     "exception": false,
     "start_time": "2021-05-05T12:07:50.041349",
     "status": "completed"
    },
    "tags": []
   },
   "outputs": [],
   "source": [
    "#hide\n",
    "#delete problematic countries from table\n",
    "df_table = df_table[~df_table['Country/Region'].isin(['Cape Verde', 'Cruise Ship', 'Kosovo'])]"
   ]
  },
  {
   "cell_type": "code",
   "execution_count": 15,
   "id": "fantastic-effect",
   "metadata": {
    "execution": {
     "iopub.execute_input": "2021-05-05T12:07:50.169478Z",
     "iopub.status.busy": "2021-05-05T12:07:50.168854Z",
     "iopub.status.idle": "2021-05-05T12:07:50.192105Z",
     "shell.execute_reply": "2021-05-05T12:07:50.191517Z"
    },
    "papermill": {
     "duration": 0.066546,
     "end_time": "2021-05-05T12:07:50.192247",
     "exception": false,
     "start_time": "2021-05-05T12:07:50.125701",
     "status": "completed"
    },
    "tags": []
   },
   "outputs": [
    {
     "data": {
      "text/html": [
       "<div>\n",
       "<style scoped>\n",
       "    .dataframe tbody tr th:only-of-type {\n",
       "        vertical-align: middle;\n",
       "    }\n",
       "\n",
       "    .dataframe tbody tr th {\n",
       "        vertical-align: top;\n",
       "    }\n",
       "\n",
       "    .dataframe thead th {\n",
       "        text-align: right;\n",
       "    }\n",
       "</style>\n",
       "<table border=\"1\" class=\"dataframe\">\n",
       "  <thead>\n",
       "    <tr style=\"text-align: right;\">\n",
       "      <th></th>\n",
       "      <th>Country/Region</th>\n",
       "      <th>Cases</th>\n",
       "      <th>Deaths</th>\n",
       "      <th>PCases</th>\n",
       "      <th>PDeaths</th>\n",
       "      <th>Cases (+)</th>\n",
       "      <th>Deaths (+)</th>\n",
       "      <th>Fatality Rate</th>\n",
       "      <th>Continent</th>\n",
       "    </tr>\n",
       "  </thead>\n",
       "  <tbody>\n",
       "    <tr>\n",
       "      <th>0</th>\n",
       "      <td>US</td>\n",
       "      <td>32512934</td>\n",
       "      <td>578499</td>\n",
       "      <td>32472201</td>\n",
       "      <td>577566</td>\n",
       "      <td>40733</td>\n",
       "      <td>933</td>\n",
       "      <td>1.8</td>\n",
       "      <td>North America</td>\n",
       "    </tr>\n",
       "    <tr>\n",
       "      <th>1</th>\n",
       "      <td>India</td>\n",
       "      <td>20664979</td>\n",
       "      <td>226188</td>\n",
       "      <td>20282833</td>\n",
       "      <td>222408</td>\n",
       "      <td>382146</td>\n",
       "      <td>3780</td>\n",
       "      <td>1.1</td>\n",
       "      <td>Asia</td>\n",
       "    </tr>\n",
       "    <tr>\n",
       "      <th>2</th>\n",
       "      <td>Brazil</td>\n",
       "      <td>14856888</td>\n",
       "      <td>411588</td>\n",
       "      <td>14779529</td>\n",
       "      <td>408622</td>\n",
       "      <td>77359</td>\n",
       "      <td>2966</td>\n",
       "      <td>2.8</td>\n",
       "      <td>South America</td>\n",
       "    </tr>\n",
       "    <tr>\n",
       "      <th>3</th>\n",
       "      <td>France</td>\n",
       "      <td>5741537</td>\n",
       "      <td>105548</td>\n",
       "      <td>5717160</td>\n",
       "      <td>105291</td>\n",
       "      <td>24377</td>\n",
       "      <td>257</td>\n",
       "      <td>1.8</td>\n",
       "      <td>Europe</td>\n",
       "    </tr>\n",
       "    <tr>\n",
       "      <th>4</th>\n",
       "      <td>Turkey</td>\n",
       "      <td>4929118</td>\n",
       "      <td>41527</td>\n",
       "      <td>4900121</td>\n",
       "      <td>41191</td>\n",
       "      <td>28997</td>\n",
       "      <td>336</td>\n",
       "      <td>0.8</td>\n",
       "      <td>Asia</td>\n",
       "    </tr>\n",
       "  </tbody>\n",
       "</table>\n",
       "</div>"
      ],
      "text/plain": [
       "  Country/Region     Cases  Deaths    PCases  PDeaths  Cases (+)  Deaths (+)  \\\n",
       "0             US  32512934  578499  32472201   577566      40733         933   \n",
       "1          India  20664979  226188  20282833   222408     382146        3780   \n",
       "2         Brazil  14856888  411588  14779529   408622      77359        2966   \n",
       "3         France   5741537  105548   5717160   105291      24377         257   \n",
       "4         Turkey   4929118   41527   4900121    41191      28997         336   \n",
       "\n",
       "   Fatality Rate      Continent  \n",
       "0            1.8  North America  \n",
       "1            1.1           Asia  \n",
       "2            2.8  South America  \n",
       "3            1.8         Europe  \n",
       "4            0.8           Asia  "
      ]
     },
     "execution_count": 15,
     "metadata": {},
     "output_type": "execute_result"
    }
   ],
   "source": [
    "#hide\n",
    "df_table = (pd.DataFrame(dict(Cases=dfc_cases, Deaths=dfc_deaths, PCases=dfp_cases, PDeaths=dfp_deaths))\n",
    "             .sort_values(by=['Cases', 'Deaths'], ascending=[False, False])\n",
    "             .reset_index())\n",
    "df_table.rename(columns={'index': 'Country/Region'}, inplace=True)\n",
    "for c in 'Cases, Deaths'.split(', '):\n",
    "    df_table[f'{c} (+)'] = (df_table[c] - df_table[f'P{c}']).clip(0)  # DATA BUG\n",
    "df_table['Fatality Rate'] = (100 * df_table['Deaths'] / df_table['Cases']).round(1)\n",
    "df_table['Continent'] = df_table['Country/Region'].map(mapping['map.continent'])\n",
    "df_table.head(5)"
   ]
  },
  {
   "cell_type": "code",
   "execution_count": 16,
   "id": "fewer-occasion",
   "metadata": {
    "execution": {
     "iopub.execute_input": "2021-05-05T12:07:50.287920Z",
     "iopub.status.busy": "2021-05-05T12:07:50.287276Z",
     "iopub.status.idle": "2021-05-05T12:07:50.289691Z",
     "shell.execute_reply": "2021-05-05T12:07:50.289144Z"
    },
    "papermill": {
     "duration": 0.050136,
     "end_time": "2021-05-05T12:07:50.289822",
     "exception": false,
     "start_time": "2021-05-05T12:07:50.239686",
     "status": "completed"
    },
    "tags": []
   },
   "outputs": [],
   "source": [
    "#hide\n",
    "#delete problematic countries from table\n",
    "df_table = df_table[~df_table['Country/Region'].isin(['Cape Verde', 'Cruise Ship', 'Kosovo'])]"
   ]
  },
  {
   "cell_type": "code",
   "execution_count": 17,
   "id": "related-center",
   "metadata": {
    "execution": {
     "iopub.execute_input": "2021-05-05T12:07:50.394230Z",
     "iopub.status.busy": "2021-05-05T12:07:50.393571Z",
     "iopub.status.idle": "2021-05-05T12:07:50.397563Z",
     "shell.execute_reply": "2021-05-05T12:07:50.396542Z"
    },
    "papermill": {
     "duration": 0.064534,
     "end_time": "2021-05-05T12:07:50.398203",
     "exception": false,
     "start_time": "2021-05-05T12:07:50.333669",
     "status": "completed"
    },
    "tags": []
   },
   "outputs": [],
   "source": [
    "#hide\n",
    "metrics = [df_table.columns[index] for index in [1,2,5,6]]\n",
    "# s_china = df_table[df_table['Country/Region'].eq('China')][metrics].sum().add_prefix('China ')\n",
    "s_us = df_table[df_table['Country/Region'].eq('US')][metrics].sum().add_prefix('US ')\n",
    "s_eu = df_table[df_table['Continent'].eq('Europe')][metrics].sum().add_prefix('EU ')\n",
    "s_ind = df_table[df_table['Country/Region'].eq('India')][metrics].sum().add_prefix('India ')\n",
    "summary = {'updated': pd.to_datetime(dt_today), 'since': pd.to_datetime(dt_yday)}\n",
    "summary = {'updated': pd.to_datetime(dt_today), 'since': pd.to_datetime(dt_yday)}\n",
    "summary = {**summary, **df_table[metrics].sum(), **s_ind, **s_us, **s_eu}"
   ]
  },
  {
   "cell_type": "code",
   "execution_count": 18,
   "id": "engaging-syndrome",
   "metadata": {
    "execution": {
     "iopub.execute_input": "2021-05-05T12:07:50.493333Z",
     "iopub.status.busy": "2021-05-05T12:07:50.492667Z",
     "iopub.status.idle": "2021-05-05T12:07:50.505510Z",
     "shell.execute_reply": "2021-05-05T12:07:50.505013Z"
    },
    "papermill": {
     "duration": 0.056236,
     "end_time": "2021-05-05T12:07:50.505639",
     "exception": false,
     "start_time": "2021-05-05T12:07:50.449403",
     "status": "completed"
    },
    "tags": []
   },
   "outputs": [],
   "source": [
    "#hide\n",
    "dft_ct_new_cases = dft_cases.groupby(COL_REGION)[dt_cols].sum().diff(axis=1).fillna(0).astype(int)"
   ]
  },
  {
   "cell_type": "code",
   "execution_count": 19,
   "id": "neutral-assignment",
   "metadata": {
    "execution": {
     "iopub.execute_input": "2021-05-05T12:07:50.592292Z",
     "iopub.status.busy": "2021-05-05T12:07:50.591635Z",
     "iopub.status.idle": "2021-05-05T12:07:50.593551Z",
     "shell.execute_reply": "2021-05-05T12:07:50.594044Z"
    },
    "papermill": {
     "duration": 0.048998,
     "end_time": "2021-05-05T12:07:50.594196",
     "exception": false,
     "start_time": "2021-05-05T12:07:50.545198",
     "status": "completed"
    },
    "tags": []
   },
   "outputs": [],
   "source": [
    "#hide\n",
    "everydaycases = dft_ct_new_cases.cumsum(axis=1)"
   ]
  },
  {
   "cell_type": "code",
   "execution_count": 20,
   "id": "parliamentary-calgary",
   "metadata": {
    "execution": {
     "iopub.execute_input": "2021-05-05T12:07:50.675875Z",
     "iopub.status.busy": "2021-05-05T12:07:50.675245Z",
     "iopub.status.idle": "2021-05-05T12:07:51.262556Z",
     "shell.execute_reply": "2021-05-05T12:07:51.263118Z"
    },
    "papermill": {
     "duration": 0.629966,
     "end_time": "2021-05-05T12:07:51.263295",
     "exception": false,
     "start_time": "2021-05-05T12:07:50.633329",
     "status": "completed"
    },
    "tags": []
   },
   "outputs": [],
   "source": [
    "#hide\n",
    "import pandas as pd\n",
    "import matplotlib.pyplot as plt\n",
    "import matplotlib.ticker as ticker\n",
    "import matplotlib.animation as animation\n",
    "from IPython.display import HTML"
   ]
  },
  {
   "cell_type": "code",
   "execution_count": 21,
   "id": "lasting-extraction",
   "metadata": {
    "execution": {
     "iopub.execute_input": "2021-05-05T12:07:51.342131Z",
     "iopub.status.busy": "2021-05-05T12:07:51.341534Z",
     "iopub.status.idle": "2021-05-05T12:07:51.346955Z",
     "shell.execute_reply": "2021-05-05T12:07:51.347442Z"
    },
    "papermill": {
     "duration": 0.046496,
     "end_time": "2021-05-05T12:07:51.347571",
     "exception": false,
     "start_time": "2021-05-05T12:07:51.301075",
     "status": "completed"
    },
    "tags": []
   },
   "outputs": [],
   "source": [
    "#hide\n",
    "t = everydaycases.stack()"
   ]
  },
  {
   "cell_type": "code",
   "execution_count": 22,
   "id": "premier-sleeve",
   "metadata": {
    "execution": {
     "iopub.execute_input": "2021-05-05T12:07:51.426651Z",
     "iopub.status.busy": "2021-05-05T12:07:51.425747Z",
     "iopub.status.idle": "2021-05-05T12:07:51.432891Z",
     "shell.execute_reply": "2021-05-05T12:07:51.433354Z"
    },
    "papermill": {
     "duration": 0.047991,
     "end_time": "2021-05-05T12:07:51.433480",
     "exception": false,
     "start_time": "2021-05-05T12:07:51.385489",
     "status": "completed"
    },
    "tags": []
   },
   "outputs": [],
   "source": [
    "#hide\n",
    "g = t.reset_index(['Country/Region'])"
   ]
  },
  {
   "cell_type": "code",
   "execution_count": 23,
   "id": "distributed-pittsburgh",
   "metadata": {
    "execution": {
     "iopub.execute_input": "2021-05-05T12:07:51.513609Z",
     "iopub.status.busy": "2021-05-05T12:07:51.512995Z",
     "iopub.status.idle": "2021-05-05T12:07:51.515568Z",
     "shell.execute_reply": "2021-05-05T12:07:51.514981Z"
    },
    "papermill": {
     "duration": 0.044643,
     "end_time": "2021-05-05T12:07:51.515681",
     "exception": false,
     "start_time": "2021-05-05T12:07:51.471038",
     "status": "completed"
    },
    "tags": []
   },
   "outputs": [],
   "source": [
    "#hide\n",
    "g.index.name = 'date'"
   ]
  },
  {
   "cell_type": "code",
   "execution_count": 24,
   "id": "naked-donor",
   "metadata": {
    "execution": {
     "iopub.execute_input": "2021-05-05T12:07:51.595248Z",
     "iopub.status.busy": "2021-05-05T12:07:51.594580Z",
     "iopub.status.idle": "2021-05-05T12:07:51.597089Z",
     "shell.execute_reply": "2021-05-05T12:07:51.597555Z"
    },
    "papermill": {
     "duration": 0.045174,
     "end_time": "2021-05-05T12:07:51.597695",
     "exception": false,
     "start_time": "2021-05-05T12:07:51.552521",
     "status": "completed"
    },
    "tags": []
   },
   "outputs": [],
   "source": [
    "# #hide\n",
    "# g = g.reset_index(['date'])"
   ]
  },
  {
   "cell_type": "code",
   "execution_count": 25,
   "id": "incomplete-mustang",
   "metadata": {
    "execution": {
     "iopub.execute_input": "2021-05-05T12:07:51.674903Z",
     "iopub.status.busy": "2021-05-05T12:07:51.674273Z",
     "iopub.status.idle": "2021-05-05T12:07:51.676859Z",
     "shell.execute_reply": "2021-05-05T12:07:51.676348Z"
    },
    "papermill": {
     "duration": 0.042326,
     "end_time": "2021-05-05T12:07:51.676977",
     "exception": false,
     "start_time": "2021-05-05T12:07:51.634651",
     "status": "completed"
    },
    "tags": []
   },
   "outputs": [],
   "source": [
    "#hide\n",
    "# g.head()"
   ]
  },
  {
   "cell_type": "code",
   "execution_count": 26,
   "id": "specific-kruger",
   "metadata": {
    "execution": {
     "iopub.execute_input": "2021-05-05T12:07:51.756219Z",
     "iopub.status.busy": "2021-05-05T12:07:51.755527Z",
     "iopub.status.idle": "2021-05-05T12:07:51.758613Z",
     "shell.execute_reply": "2021-05-05T12:07:51.757535Z"
    },
    "papermill": {
     "duration": 0.04356,
     "end_time": "2021-05-05T12:07:51.758743",
     "exception": false,
     "start_time": "2021-05-05T12:07:51.715183",
     "status": "completed"
    },
    "tags": []
   },
   "outputs": [],
   "source": [
    "#hide\n",
    "# g.columns = ['date','country','cases']"
   ]
  },
  {
   "cell_type": "code",
   "execution_count": 27,
   "id": "tender-conversion",
   "metadata": {
    "execution": {
     "iopub.execute_input": "2021-05-05T12:07:51.838410Z",
     "iopub.status.busy": "2021-05-05T12:07:51.837229Z",
     "iopub.status.idle": "2021-05-05T12:07:51.839613Z",
     "shell.execute_reply": "2021-05-05T12:07:51.840074Z"
    },
    "papermill": {
     "duration": 0.043762,
     "end_time": "2021-05-05T12:07:51.840210",
     "exception": false,
     "start_time": "2021-05-05T12:07:51.796448",
     "status": "completed"
    },
    "tags": []
   },
   "outputs": [],
   "source": [
    "#hide\n",
    "# g['continent'] = g.country"
   ]
  },
  {
   "cell_type": "code",
   "execution_count": 28,
   "id": "substantial-wilderness",
   "metadata": {
    "execution": {
     "iopub.execute_input": "2021-05-05T12:07:51.916079Z",
     "iopub.status.busy": "2021-05-05T12:07:51.915476Z",
     "iopub.status.idle": "2021-05-05T12:07:51.917406Z",
     "shell.execute_reply": "2021-05-05T12:07:51.917869Z"
    },
    "papermill": {
     "duration": 0.040855,
     "end_time": "2021-05-05T12:07:51.918007",
     "exception": false,
     "start_time": "2021-05-05T12:07:51.877152",
     "status": "completed"
    },
    "tags": []
   },
   "outputs": [],
   "source": [
    "#hide\n",
    "# cols = list(g.columns.values)"
   ]
  },
  {
   "cell_type": "code",
   "execution_count": 29,
   "id": "solved-farming",
   "metadata": {
    "execution": {
     "iopub.execute_input": "2021-05-05T12:07:51.993914Z",
     "iopub.status.busy": "2021-05-05T12:07:51.993287Z",
     "iopub.status.idle": "2021-05-05T12:07:51.995622Z",
     "shell.execute_reply": "2021-05-05T12:07:51.995137Z"
    },
    "papermill": {
     "duration": 0.04183,
     "end_time": "2021-05-05T12:07:51.995733",
     "exception": false,
     "start_time": "2021-05-05T12:07:51.953903",
     "status": "completed"
    },
    "tags": []
   },
   "outputs": [],
   "source": [
    "#hide\n",
    "# cols.insert(0, cols.pop())"
   ]
  },
  {
   "cell_type": "code",
   "execution_count": 30,
   "id": "executed-adoption",
   "metadata": {
    "execution": {
     "iopub.execute_input": "2021-05-05T12:07:52.072487Z",
     "iopub.status.busy": "2021-05-05T12:07:52.071855Z",
     "iopub.status.idle": "2021-05-05T12:07:52.085962Z",
     "shell.execute_reply": "2021-05-05T12:07:52.078924Z"
    },
    "papermill": {
     "duration": 0.055206,
     "end_time": "2021-05-05T12:07:52.086113",
     "exception": false,
     "start_time": "2021-05-05T12:07:52.030907",
     "status": "completed"
    },
    "tags": []
   },
   "outputs": [],
   "source": [
    "#hide\n",
    "# g = g[cols]"
   ]
  },
  {
   "cell_type": "code",
   "execution_count": 31,
   "id": "subject-dublin",
   "metadata": {
    "execution": {
     "iopub.execute_input": "2021-05-05T12:07:52.167194Z",
     "iopub.status.busy": "2021-05-05T12:07:52.166573Z",
     "iopub.status.idle": "2021-05-05T12:07:52.168999Z",
     "shell.execute_reply": "2021-05-05T12:07:52.168403Z"
    },
    "papermill": {
     "duration": 0.042779,
     "end_time": "2021-05-05T12:07:52.169120",
     "exception": false,
     "start_time": "2021-05-05T12:07:52.126341",
     "status": "completed"
    },
    "tags": []
   },
   "outputs": [],
   "source": [
    "#hide\n",
    "# g['continent'] = g['continent'].map(mapping['map.continent'])"
   ]
  },
  {
   "cell_type": "code",
   "execution_count": 32,
   "id": "freelance-scout",
   "metadata": {
    "execution": {
     "iopub.execute_input": "2021-05-05T12:07:52.250146Z",
     "iopub.status.busy": "2021-05-05T12:07:52.249540Z",
     "iopub.status.idle": "2021-05-05T12:07:52.252667Z",
     "shell.execute_reply": "2021-05-05T12:07:52.252105Z"
    },
    "papermill": {
     "duration": 0.044384,
     "end_time": "2021-05-05T12:07:52.252780",
     "exception": false,
     "start_time": "2021-05-05T12:07:52.208396",
     "status": "completed"
    },
    "tags": []
   },
   "outputs": [],
   "source": [
    "#hide\n",
    "# g.head()"
   ]
  },
  {
   "cell_type": "code",
   "execution_count": 33,
   "id": "limited-engine",
   "metadata": {
    "execution": {
     "iopub.execute_input": "2021-05-05T12:07:52.327721Z",
     "iopub.status.busy": "2021-05-05T12:07:52.327115Z",
     "iopub.status.idle": "2021-05-05T12:07:52.328988Z",
     "shell.execute_reply": "2021-05-05T12:07:52.329846Z"
    },
    "papermill": {
     "duration": 0.041822,
     "end_time": "2021-05-05T12:07:52.329997",
     "exception": false,
     "start_time": "2021-05-05T12:07:52.288175",
     "status": "completed"
    },
    "tags": []
   },
   "outputs": [],
   "source": [
    "# hide\n",
    "# g['date'] = g['date'].astype('datetime64[ns]')"
   ]
  },
  {
   "cell_type": "code",
   "execution_count": 34,
   "id": "sophisticated-supervisor",
   "metadata": {
    "execution": {
     "iopub.execute_input": "2021-05-05T12:07:52.404698Z",
     "iopub.status.busy": "2021-05-05T12:07:52.404099Z",
     "iopub.status.idle": "2021-05-05T12:07:52.406153Z",
     "shell.execute_reply": "2021-05-05T12:07:52.406590Z"
    },
    "papermill": {
     "duration": 0.041915,
     "end_time": "2021-05-05T12:07:52.406718",
     "exception": false,
     "start_time": "2021-05-05T12:07:52.364803",
     "status": "completed"
    },
    "tags": []
   },
   "outputs": [],
   "source": [
    "#hide\n",
    "# g['date'] = g.date.dt.dayofyear"
   ]
  },
  {
   "cell_type": "code",
   "execution_count": 35,
   "id": "inside-dubai",
   "metadata": {
    "execution": {
     "iopub.execute_input": "2021-05-05T12:07:52.485767Z",
     "iopub.status.busy": "2021-05-05T12:07:52.485083Z",
     "iopub.status.idle": "2021-05-05T12:07:52.487409Z",
     "shell.execute_reply": "2021-05-05T12:07:52.486831Z"
    },
    "papermill": {
     "duration": 0.04365,
     "end_time": "2021-05-05T12:07:52.487518",
     "exception": false,
     "start_time": "2021-05-05T12:07:52.443868",
     "status": "completed"
    },
    "tags": []
   },
   "outputs": [],
   "source": [
    "#hide\n",
    "# g = g.rename(columns= {'continent':'group','country':'name','cases':'value'})"
   ]
  },
  {
   "cell_type": "code",
   "execution_count": 36,
   "id": "fleet-motorcycle",
   "metadata": {
    "execution": {
     "iopub.execute_input": "2021-05-05T12:07:52.568260Z",
     "iopub.status.busy": "2021-05-05T12:07:52.567575Z",
     "iopub.status.idle": "2021-05-05T12:07:52.570291Z",
     "shell.execute_reply": "2021-05-05T12:07:52.569749Z"
    },
    "papermill": {
     "duration": 0.042998,
     "end_time": "2021-05-05T12:07:52.570447",
     "exception": false,
     "start_time": "2021-05-05T12:07:52.527449",
     "status": "completed"
    },
    "tags": []
   },
   "outputs": [],
   "source": [
    "#hide\n",
    "# cols = ['name','group','day','value']"
   ]
  },
  {
   "cell_type": "code",
   "execution_count": 37,
   "id": "continued-sleeping",
   "metadata": {
    "execution": {
     "iopub.execute_input": "2021-05-05T12:07:52.653781Z",
     "iopub.status.busy": "2021-05-05T12:07:52.653037Z",
     "iopub.status.idle": "2021-05-05T12:07:52.655819Z",
     "shell.execute_reply": "2021-05-05T12:07:52.655289Z"
    },
    "papermill": {
     "duration": 0.044663,
     "end_time": "2021-05-05T12:07:52.655936",
     "exception": false,
     "start_time": "2021-05-05T12:07:52.611273",
     "status": "completed"
    },
    "tags": []
   },
   "outputs": [],
   "source": [
    "#hide\n",
    "# g.rename(columns= {'date':'day'},inplace = True)"
   ]
  },
  {
   "cell_type": "code",
   "execution_count": 38,
   "id": "major-fight",
   "metadata": {
    "execution": {
     "iopub.execute_input": "2021-05-05T12:07:52.735955Z",
     "iopub.status.busy": "2021-05-05T12:07:52.734858Z",
     "iopub.status.idle": "2021-05-05T12:07:52.737654Z",
     "shell.execute_reply": "2021-05-05T12:07:52.736993Z"
    },
    "papermill": {
     "duration": 0.043485,
     "end_time": "2021-05-05T12:07:52.737793",
     "exception": false,
     "start_time": "2021-05-05T12:07:52.694308",
     "status": "completed"
    },
    "tags": []
   },
   "outputs": [],
   "source": [
    "#hide\n",
    "# g = g[cols]"
   ]
  },
  {
   "cell_type": "code",
   "execution_count": 39,
   "id": "structured-mobile",
   "metadata": {
    "execution": {
     "iopub.execute_input": "2021-05-05T12:07:52.817053Z",
     "iopub.status.busy": "2021-05-05T12:07:52.816405Z",
     "iopub.status.idle": "2021-05-05T12:07:52.818584Z",
     "shell.execute_reply": "2021-05-05T12:07:52.817996Z"
    },
    "papermill": {
     "duration": 0.043919,
     "end_time": "2021-05-05T12:07:52.818696",
     "exception": false,
     "start_time": "2021-05-05T12:07:52.774777",
     "status": "completed"
    },
    "tags": []
   },
   "outputs": [],
   "source": [
    "# #hide\n",
    "# g = g[g.group.notna()]"
   ]
  },
  {
   "cell_type": "code",
   "execution_count": 40,
   "id": "determined-closing",
   "metadata": {
    "execution": {
     "iopub.execute_input": "2021-05-05T12:07:52.895117Z",
     "iopub.status.busy": "2021-05-05T12:07:52.894468Z",
     "iopub.status.idle": "2021-05-05T12:07:52.897876Z",
     "shell.execute_reply": "2021-05-05T12:07:52.896343Z"
    },
    "papermill": {
     "duration": 0.042506,
     "end_time": "2021-05-05T12:07:52.898022",
     "exception": false,
     "start_time": "2021-05-05T12:07:52.855516",
     "status": "completed"
    },
    "tags": []
   },
   "outputs": [],
   "source": [
    "# #hide\n",
    "# colors = dict(zip(\n",
    "#     [\"Oceania\", \"Europe\", \"Asia\", \"South America\", \"Middle East\", \"North America\", \"Africa\"],\n",
    "#     [\"#adb0ff\", \"#ffb3ff\", \"#90d595\", \"#e48381\", \"#aafbff\", \"#f7bb5f\", \"#eafb50\"]\n",
    "# ))\n",
    "# group_lk = g.set_index('name')['group'].to_dict()"
   ]
  },
  {
   "cell_type": "code",
   "execution_count": null,
   "id": "gross-drinking",
   "metadata": {
    "papermill": {
     "duration": 0.038848,
     "end_time": "2021-05-05T12:07:52.974690",
     "exception": false,
     "start_time": "2021-05-05T12:07:52.935842",
     "status": "completed"
    },
    "tags": []
   },
   "outputs": [],
   "source": []
  },
  {
   "cell_type": "code",
   "execution_count": 41,
   "id": "subject-macintosh",
   "metadata": {
    "execution": {
     "iopub.execute_input": "2021-05-05T12:07:53.052506Z",
     "iopub.status.busy": "2021-05-05T12:07:53.051892Z",
     "iopub.status.idle": "2021-05-05T12:07:53.054414Z",
     "shell.execute_reply": "2021-05-05T12:07:53.053928Z"
    },
    "papermill": {
     "duration": 0.041881,
     "end_time": "2021-05-05T12:07:53.054570",
     "exception": false,
     "start_time": "2021-05-05T12:07:53.012689",
     "status": "completed"
    },
    "tags": []
   },
   "outputs": [],
   "source": [
    "# #hide\n",
    "# fig, ax = plt.subplots(figsize=(15, 8))\n",
    "\n",
    "# def draw_barchart(current_day):\n",
    "#     dff = g[g['day'].eq(current_day)].sort_values(by='value', ascending=True).tail(10)\n",
    "#     ax.clear()\n",
    "#     ax.barh(dff['name'], dff['value'], color=[colors[group_lk[x]] for x in dff['name']])\n",
    "#     dx = dff['value'].max() / 200\n",
    "    \n",
    "#     for i, (value, name) in enumerate(zip(dff['value'], dff['name'])):\n",
    "#         ax.text(value-dx, i,     name,           size=14, weight=600, ha='right', va='bottom')\n",
    "#         ax.text(value-dx, i-.25, group_lk[name], size=10, color='#444444', ha='right', va='baseline')\n",
    "#         ax.text(value+dx, i,     f'{value:,.0f}',  size=14, ha='left',  va='center')\n",
    "#     ax.text(1, 0.4, current_day, transform=ax.transAxes, color='#777777', size=46, ha='right', weight=800)\n",
    "#     ax.text(0, 1.06, 'Population (thousands)', transform=ax.transAxes, size=12, color='#777777')\n",
    "#     ax.xaxis.set_major_formatter(ticker.StrMethodFormatter('{x:,.0f}'))\n",
    "#     ax.xaxis.set_ticks_position('top')\n",
    "#     ax.tick_params(axis='x', colors='#777777', labelsize=12)\n",
    "#     ax.set_yticks([])\n",
    "#     ax.margins(0, 0.01)\n",
    "#     ax.grid(which='major', axis='x', linestyle='-')\n",
    "#     ax.set_axisbelow(True)\n",
    "    \n",
    "#     ax.text(0, 1.15, 'Coronavirus',\n",
    "#             transform=ax.transAxes, size=24, weight=600, ha='left', va='top')\n",
    "# #     ax.text(1, 0, 'by @pratapvardhan; credit @jburnmurdoch', transform=ax.transAxes, color='#777777', ha='right',\n",
    "# #             bbox=dict(facecolor='white', alpha=0.8, edgecolor='white'))\n",
    "#     plt.box(False)"
   ]
  },
  {
   "cell_type": "code",
   "execution_count": 42,
   "id": "sexual-wages",
   "metadata": {
    "execution": {
     "iopub.execute_input": "2021-05-05T12:07:53.130973Z",
     "iopub.status.busy": "2021-05-05T12:07:53.130325Z",
     "iopub.status.idle": "2021-05-05T12:07:53.132661Z",
     "shell.execute_reply": "2021-05-05T12:07:53.132176Z"
    },
    "papermill": {
     "duration": 0.040717,
     "end_time": "2021-05-05T12:07:53.132776",
     "exception": false,
     "start_time": "2021-05-05T12:07:53.092059",
     "status": "completed"
    },
    "tags": []
   },
   "outputs": [],
   "source": [
    "# #hide_input\n",
    "# fig, ax = plt.subplots(figsize=(15, 8))\n",
    "# animator = animation.FuncAnimation(fig, draw_barchart, frames=range(g.day.values.min(), g.day.values.max()))\n",
    "# HTML(animator.to_jshtml())\n",
    "# # or use animator.to_html5_video() or animator.save() "
   ]
  },
  {
   "cell_type": "code",
   "execution_count": null,
   "id": "australian-container",
   "metadata": {
    "papermill": {
     "duration": 0.036391,
     "end_time": "2021-05-05T12:07:53.205442",
     "exception": false,
     "start_time": "2021-05-05T12:07:53.169051",
     "status": "completed"
    },
    "tags": []
   },
   "outputs": [],
   "source": []
  },
  {
   "cell_type": "code",
   "execution_count": null,
   "id": "mediterranean-pontiac",
   "metadata": {
    "papermill": {
     "duration": 0.035187,
     "end_time": "2021-05-05T12:07:53.277155",
     "exception": false,
     "start_time": "2021-05-05T12:07:53.241968",
     "status": "completed"
    },
    "tags": []
   },
   "outputs": [],
   "source": []
  },
  {
   "cell_type": "code",
   "execution_count": null,
   "id": "aging-legislature",
   "metadata": {
    "papermill": {
     "duration": 0.035272,
     "end_time": "2021-05-05T12:07:53.349185",
     "exception": false,
     "start_time": "2021-05-05T12:07:53.313913",
     "status": "completed"
    },
    "tags": []
   },
   "outputs": [],
   "source": []
  }
 ],
 "metadata": {
  "kernelspec": {
   "display_name": "Python 3",
   "language": "python",
   "name": "python3"
  },
  "language_info": {
   "codemirror_mode": {
    "name": "ipython",
    "version": 3
   },
   "file_extension": ".py",
   "mimetype": "text/x-python",
   "name": "python",
   "nbconvert_exporter": "python",
   "pygments_lexer": "ipython3",
   "version": "3.6.13"
  },
  "papermill": {
   "duration": 6.876252,
   "end_time": "2021-05-05T12:07:53.690856",
   "environment_variables": {},
   "exception": null,
   "input_path": "2020-03-21-covid19exp.ipynb",
   "output_path": "2020-03-21-covid19exp.ipynb",
   "parameters": {},
   "start_time": "2021-05-05T12:07:46.814604",
   "version": "2.0.0"
  }
 },
 "nbformat": 4,
 "nbformat_minor": 5
}