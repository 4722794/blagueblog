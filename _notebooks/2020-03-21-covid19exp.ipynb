{
 "cells": [
  {
   "cell_type": "markdown",
   "id": "muslim-click",
   "metadata": {
    "papermill": {
     "duration": 0.040924,
     "end_time": "2021-11-03T00:23:52.346614",
     "exception": false,
     "start_time": "2021-11-03T00:23:52.305690",
     "status": "completed"
    },
    "tags": []
   },
   "source": [
    "# COVID-19 Case Race\n",
    "> A race chart to see rising cases around the world\n",
    "\n",
    "- author: Hargun Oberoi\n",
    "- image: images/covid-overview.png\n",
    "- hide: false\n",
    "- badges: false"
   ]
  },
  {
   "cell_type": "code",
   "execution_count": 1,
   "id": "proof-material",
   "metadata": {
    "execution": {
     "iopub.execute_input": "2021-11-03T00:23:52.433522Z",
     "iopub.status.busy": "2021-11-03T00:23:52.432848Z",
     "iopub.status.idle": "2021-11-03T00:23:52.821925Z",
     "shell.execute_reply": "2021-11-03T00:23:52.820942Z"
    },
    "papermill": {
     "duration": 0.438073,
     "end_time": "2021-11-03T00:23:52.822084",
     "exception": false,
     "start_time": "2021-11-03T00:23:52.384011",
     "status": "completed"
    },
    "tags": []
   },
   "outputs": [],
   "source": [
    "#hide\n",
    "import numpy as np\n",
    "import pandas as pd\n",
    "from jinja2 import Template\n",
    "from IPython.display import HTML"
   ]
  },
  {
   "cell_type": "code",
   "execution_count": 2,
   "id": "developed-terminology",
   "metadata": {
    "execution": {
     "iopub.execute_input": "2021-11-03T00:23:52.902178Z",
     "iopub.status.busy": "2021-11-03T00:23:52.901537Z",
     "iopub.status.idle": "2021-11-03T00:23:52.904424Z",
     "shell.execute_reply": "2021-11-03T00:23:52.903875Z"
    },
    "papermill": {
     "duration": 0.04468,
     "end_time": "2021-11-03T00:23:52.904585",
     "exception": false,
     "start_time": "2021-11-03T00:23:52.859905",
     "status": "completed"
    },
    "tags": []
   },
   "outputs": [],
   "source": [
    "#hide\n",
    "\n",
    "# FETCH\n",
    "base_url = 'https://raw.githubusercontent.com/pratapvardhan/notebooks/master/covid19/'\n",
    "paths = {\n",
    "    'mapping': base_url + 'mapping_countries.csv',\n",
    "    'overview': base_url + 'overview.tpl'\n",
    "}"
   ]
  },
  {
   "cell_type": "code",
   "execution_count": 3,
   "id": "dynamic-saver",
   "metadata": {
    "execution": {
     "iopub.execute_input": "2021-11-03T00:23:52.988658Z",
     "iopub.status.busy": "2021-11-03T00:23:52.988011Z",
     "iopub.status.idle": "2021-11-03T00:23:52.991382Z",
     "shell.execute_reply": "2021-11-03T00:23:52.990768Z"
    },
    "papermill": {
     "duration": 0.050791,
     "end_time": "2021-11-03T00:23:52.991503",
     "exception": false,
     "start_time": "2021-11-03T00:23:52.940712",
     "status": "completed"
    },
    "tags": []
   },
   "outputs": [
    {
     "data": {
      "text/plain": [
       "'https://raw.githubusercontent.com/pratapvardhan/notebooks/master/covid19/mapping_countries.csv'"
      ]
     },
     "execution_count": 3,
     "metadata": {},
     "output_type": "execute_result"
    }
   ],
   "source": [
    "#hide\n",
    "paths['mapping']"
   ]
  },
  {
   "cell_type": "code",
   "execution_count": 4,
   "id": "urban-software",
   "metadata": {
    "execution": {
     "iopub.execute_input": "2021-11-03T00:23:53.077868Z",
     "iopub.status.busy": "2021-11-03T00:23:53.077192Z",
     "iopub.status.idle": "2021-11-03T00:23:53.079911Z",
     "shell.execute_reply": "2021-11-03T00:23:53.079320Z"
    },
    "papermill": {
     "duration": 0.052618,
     "end_time": "2021-11-03T00:23:53.080033",
     "exception": false,
     "start_time": "2021-11-03T00:23:53.027415",
     "status": "completed"
    },
    "tags": []
   },
   "outputs": [],
   "source": [
    "#hide\n",
    "def get_mappings(url):\n",
    "    df = pd.read_csv(url)\n",
    "    return {\n",
    "        'df': df,\n",
    "        'replace.country': dict(df.dropna(subset=['Name']).set_index('Country')['Name']),\n",
    "        'map.continent': dict(df.set_index('Name')['Continent'])\n",
    "    }"
   ]
  },
  {
   "cell_type": "code",
   "execution_count": 5,
   "id": "intimate-machinery",
   "metadata": {
    "execution": {
     "iopub.execute_input": "2021-11-03T00:23:53.157511Z",
     "iopub.status.busy": "2021-11-03T00:23:53.156866Z",
     "iopub.status.idle": "2021-11-03T00:23:53.209835Z",
     "shell.execute_reply": "2021-11-03T00:23:53.210327Z"
    },
    "papermill": {
     "duration": 0.093541,
     "end_time": "2021-11-03T00:23:53.210499",
     "exception": false,
     "start_time": "2021-11-03T00:23:53.116958",
     "status": "completed"
    },
    "tags": []
   },
   "outputs": [],
   "source": [
    "#hide\n",
    "mapping = get_mappings(paths['mapping'])"
   ]
  },
  {
   "cell_type": "code",
   "execution_count": 6,
   "id": "certified-tactics",
   "metadata": {
    "execution": {
     "iopub.execute_input": "2021-11-03T00:23:53.287793Z",
     "iopub.status.busy": "2021-11-03T00:23:53.287149Z",
     "iopub.status.idle": "2021-11-03T00:23:53.289177Z",
     "shell.execute_reply": "2021-11-03T00:23:53.289756Z"
    },
    "papermill": {
     "duration": 0.044257,
     "end_time": "2021-11-03T00:23:53.289886",
     "exception": false,
     "start_time": "2021-11-03T00:23:53.245629",
     "status": "completed"
    },
    "tags": []
   },
   "outputs": [],
   "source": [
    "#hide\n",
    "def get_template(path):\n",
    "    from urllib.parse import urlparse\n",
    "    if bool(urlparse(path).netloc):\n",
    "        from urllib.request import urlopen\n",
    "        return urlopen(path).read().decode('utf8')\n",
    "    return open(path).read()"
   ]
  },
  {
   "cell_type": "code",
   "execution_count": 7,
   "id": "realistic-blast",
   "metadata": {
    "execution": {
     "iopub.execute_input": "2021-11-03T00:23:53.366233Z",
     "iopub.status.busy": "2021-11-03T00:23:53.365534Z",
     "iopub.status.idle": "2021-11-03T00:23:53.367917Z",
     "shell.execute_reply": "2021-11-03T00:23:53.368446Z"
    },
    "papermill": {
     "duration": 0.042451,
     "end_time": "2021-11-03T00:23:53.368597",
     "exception": false,
     "start_time": "2021-11-03T00:23:53.326146",
     "status": "completed"
    },
    "tags": []
   },
   "outputs": [],
   "source": [
    "#hide\n",
    "def get_frame(name):\n",
    "    url = (\n",
    "        'https://raw.githubusercontent.com/CSSEGISandData/COVID-19/master/csse_covid_19_data/'\n",
    "        f'csse_covid_19_time_series/time_series_covid19_{name}_global.csv')\n",
    "    df = pd.read_csv(url)\n",
    "    # rename countries\n",
    "    df['Country/Region'] = df['Country/Region'].replace(mapping['replace.country'])\n",
    "    return df"
   ]
  },
  {
   "cell_type": "code",
   "execution_count": 8,
   "id": "affiliated-characterization",
   "metadata": {
    "execution": {
     "iopub.execute_input": "2021-11-03T00:23:53.445979Z",
     "iopub.status.busy": "2021-11-03T00:23:53.445347Z",
     "iopub.status.idle": "2021-11-03T00:23:53.448179Z",
     "shell.execute_reply": "2021-11-03T00:23:53.447665Z"
    },
    "papermill": {
     "duration": 0.043969,
     "end_time": "2021-11-03T00:23:53.448293",
     "exception": false,
     "start_time": "2021-11-03T00:23:53.404324",
     "status": "completed"
    },
    "tags": []
   },
   "outputs": [],
   "source": [
    "#hide\n",
    "def get_dates(df):\n",
    "    dt_cols = df.columns[~df.columns.isin(['Province/State', 'Country/Region', 'Lat', 'Long'])]\n",
    "    LAST_DATE_I = -1\n",
    "    # sometimes last column may be empty, then go backwards\n",
    "    for i in range(-1, -len(dt_cols), -1):\n",
    "        if not df[dt_cols[i]].fillna(0).eq(0).all():\n",
    "            LAST_DATE_I = i\n",
    "            break\n",
    "    return LAST_DATE_I, dt_cols"
   ]
  },
  {
   "cell_type": "code",
   "execution_count": 9,
   "id": "recent-optimization",
   "metadata": {
    "execution": {
     "iopub.execute_input": "2021-11-03T00:23:53.527240Z",
     "iopub.status.busy": "2021-11-03T00:23:53.526504Z",
     "iopub.status.idle": "2021-11-03T00:23:54.147247Z",
     "shell.execute_reply": "2021-11-03T00:23:54.146674Z"
    },
    "papermill": {
     "duration": 0.662288,
     "end_time": "2021-11-03T00:23:54.147387",
     "exception": false,
     "start_time": "2021-11-03T00:23:53.485099",
     "status": "completed"
    },
    "tags": []
   },
   "outputs": [],
   "source": [
    "#hide\n",
    "COL_REGION = 'Country/Region'\n",
    "# Confirmed, Recovered, Deaths\n",
    "df = get_frame('confirmed')\n",
    "# dft_: timeseries, dfc_: today country agg\n",
    "dft_cases = df\n",
    "dft_deaths = get_frame('deaths')\n",
    "dft_recovered = get_frame('recovered')\n",
    "LAST_DATE_I, dt_cols = get_dates(df)"
   ]
  },
  {
   "cell_type": "code",
   "execution_count": 10,
   "id": "absolute-copper",
   "metadata": {
    "execution": {
     "iopub.execute_input": "2021-11-03T00:23:54.229254Z",
     "iopub.status.busy": "2021-11-03T00:23:54.228606Z",
     "iopub.status.idle": "2021-11-03T00:23:54.231151Z",
     "shell.execute_reply": "2021-11-03T00:23:54.230570Z"
    },
    "papermill": {
     "duration": 0.044182,
     "end_time": "2021-11-03T00:23:54.231271",
     "exception": false,
     "start_time": "2021-11-03T00:23:54.187089",
     "status": "completed"
    },
    "tags": []
   },
   "outputs": [],
   "source": [
    "#hide\n",
    "LAST_DATE_I, dt_cols = get_dates(df)\n",
    "dt_today =dt_cols[LAST_DATE_I]\n",
    "# dt_5day = dt_cols[LAST_DATE_I - 5]\n",
    "dt_yday = dt_cols[LAST_DATE_I - 1]"
   ]
  },
  {
   "cell_type": "code",
   "execution_count": 11,
   "id": "restricted-sheriff",
   "metadata": {
    "execution": {
     "iopub.execute_input": "2021-11-03T00:23:54.309633Z",
     "iopub.status.busy": "2021-11-03T00:23:54.308993Z",
     "iopub.status.idle": "2021-11-03T00:23:54.317059Z",
     "shell.execute_reply": "2021-11-03T00:23:54.317554Z"
    },
    "papermill": {
     "duration": 0.050708,
     "end_time": "2021-11-03T00:23:54.317701",
     "exception": false,
     "start_time": "2021-11-03T00:23:54.266993",
     "status": "completed"
    },
    "tags": []
   },
   "outputs": [],
   "source": [
    "#hide\n",
    "dfc_cases = dft_cases.groupby(COL_REGION)[dt_today].sum()\n",
    "dfc_deaths = dft_deaths.groupby(COL_REGION)[dt_today].sum()\n",
    "# dfp_cases = dft_cases.groupby(COL_REGION)[dt_5day].sum()\n",
    "# dfp_deaths = dft_deaths.groupby(COL_REGION)[dt_5day].sum()\n",
    "dfp_cases = dft_cases.groupby(COL_REGION)[dt_yday].sum()\n",
    "dfp_deaths = dft_deaths.groupby(COL_REGION)[dt_yday].sum()"
   ]
  },
  {
   "cell_type": "code",
   "execution_count": 12,
   "id": "deluxe-hepatitis",
   "metadata": {
    "execution": {
     "iopub.execute_input": "2021-11-03T00:23:54.394757Z",
     "iopub.status.busy": "2021-11-03T00:23:54.394073Z",
     "iopub.status.idle": "2021-11-03T00:23:54.398518Z",
     "shell.execute_reply": "2021-11-03T00:23:54.399160Z"
    },
    "papermill": {
     "duration": 0.046267,
     "end_time": "2021-11-03T00:23:54.399290",
     "exception": false,
     "start_time": "2021-11-03T00:23:54.353023",
     "status": "completed"
    },
    "tags": []
   },
   "outputs": [],
   "source": [
    "#hide\n",
    "df_table = (pd.DataFrame(dict(Cases = dfc_cases, Deaths = dfc_deaths, PCases = dfp_cases, PDeaths = dfp_deaths))\n",
    "            .sort_values(by = ['Cases','Deaths'], ascending = [False, False])\n",
    "            .reset_index())"
   ]
  },
  {
   "cell_type": "code",
   "execution_count": 13,
   "id": "educational-chancellor",
   "metadata": {
    "execution": {
     "iopub.execute_input": "2021-11-03T00:23:54.492282Z",
     "iopub.status.busy": "2021-11-03T00:23:54.491603Z",
     "iopub.status.idle": "2021-11-03T00:23:54.499974Z",
     "shell.execute_reply": "2021-11-03T00:23:54.500540Z"
    },
    "papermill": {
     "duration": 0.064821,
     "end_time": "2021-11-03T00:23:54.500705",
     "exception": false,
     "start_time": "2021-11-03T00:23:54.435884",
     "status": "completed"
    },
    "tags": []
   },
   "outputs": [
    {
     "data": {
      "text/html": [
       "<div>\n",
       "<style scoped>\n",
       "    .dataframe tbody tr th:only-of-type {\n",
       "        vertical-align: middle;\n",
       "    }\n",
       "\n",
       "    .dataframe tbody tr th {\n",
       "        vertical-align: top;\n",
       "    }\n",
       "\n",
       "    .dataframe thead th {\n",
       "        text-align: right;\n",
       "    }\n",
       "</style>\n",
       "<table border=\"1\" class=\"dataframe\">\n",
       "  <thead>\n",
       "    <tr style=\"text-align: right;\">\n",
       "      <th></th>\n",
       "      <th>Country/Region</th>\n",
       "      <th>Cases</th>\n",
       "      <th>Deaths</th>\n",
       "      <th>PCases</th>\n",
       "      <th>PDeaths</th>\n",
       "      <th>Cases (+)</th>\n",
       "      <th>Deaths (+)</th>\n",
       "      <th>Fatality Rate</th>\n",
       "      <th>Continent</th>\n",
       "    </tr>\n",
       "  </thead>\n",
       "  <tbody>\n",
       "    <tr>\n",
       "      <th>0</th>\n",
       "      <td>US</td>\n",
       "      <td>46096258</td>\n",
       "      <td>747057</td>\n",
       "      <td>45970785</td>\n",
       "      <td>745832</td>\n",
       "      <td>125473</td>\n",
       "      <td>1225</td>\n",
       "      <td>1.62</td>\n",
       "      <td>North America</td>\n",
       "    </tr>\n",
       "    <tr>\n",
       "      <th>1</th>\n",
       "      <td>India</td>\n",
       "      <td>34296237</td>\n",
       "      <td>458880</td>\n",
       "      <td>34285814</td>\n",
       "      <td>458437</td>\n",
       "      <td>10423</td>\n",
       "      <td>443</td>\n",
       "      <td>1.34</td>\n",
       "      <td>Asia</td>\n",
       "    </tr>\n",
       "    <tr>\n",
       "      <th>2</th>\n",
       "      <td>Brazil</td>\n",
       "      <td>21814693</td>\n",
       "      <td>607922</td>\n",
       "      <td>21810855</td>\n",
       "      <td>607824</td>\n",
       "      <td>3838</td>\n",
       "      <td>98</td>\n",
       "      <td>2.79</td>\n",
       "      <td>South America</td>\n",
       "    </tr>\n",
       "    <tr>\n",
       "      <th>3</th>\n",
       "      <td>United Kingdom</td>\n",
       "      <td>9140441</td>\n",
       "      <td>141098</td>\n",
       "      <td>9100442</td>\n",
       "      <td>141055</td>\n",
       "      <td>39999</td>\n",
       "      <td>43</td>\n",
       "      <td>1.54</td>\n",
       "      <td>Europe</td>\n",
       "    </tr>\n",
       "    <tr>\n",
       "      <th>4</th>\n",
       "      <td>Russia</td>\n",
       "      <td>8417305</td>\n",
       "      <td>235318</td>\n",
       "      <td>8377984</td>\n",
       "      <td>234194</td>\n",
       "      <td>39321</td>\n",
       "      <td>1124</td>\n",
       "      <td>2.80</td>\n",
       "      <td>Europe</td>\n",
       "    </tr>\n",
       "  </tbody>\n",
       "</table>\n",
       "</div>"
      ],
      "text/plain": [
       "   Country/Region     Cases  Deaths    PCases  PDeaths  Cases (+)  Deaths (+)  \\\n",
       "0              US  46096258  747057  45970785   745832     125473        1225   \n",
       "1           India  34296237  458880  34285814   458437      10423         443   \n",
       "2          Brazil  21814693  607922  21810855   607824       3838          98   \n",
       "3  United Kingdom   9140441  141098   9100442   141055      39999          43   \n",
       "4          Russia   8417305  235318   8377984   234194      39321        1124   \n",
       "\n",
       "   Fatality Rate      Continent  \n",
       "0           1.62  North America  \n",
       "1           1.34           Asia  \n",
       "2           2.79  South America  \n",
       "3           1.54         Europe  \n",
       "4           2.80         Europe  "
      ]
     },
     "execution_count": 13,
     "metadata": {},
     "output_type": "execute_result"
    }
   ],
   "source": [
    "#hide\n",
    "for c in 'Cases, Deaths'.split(', '):\n",
    "    df_table[f'{c} (+)'] = (df_table[c] - df_table[f'P{c}']).clip(0)\n",
    "    #Clip ça veut dire, les chiffres negatif sont interdit\n",
    "df_table['Fatality Rate'] = (100* df_table['Deaths']/ df_table['Cases']).round(2)\n",
    "df_table['Continent'] = df_table['Country/Region'].map(mapping['map.continent'])\n",
    "df_table.head(5)"
   ]
  },
  {
   "cell_type": "code",
   "execution_count": 14,
   "id": "aboriginal-bulgaria",
   "metadata": {
    "execution": {
     "iopub.execute_input": "2021-11-03T00:23:54.580728Z",
     "iopub.status.busy": "2021-11-03T00:23:54.580072Z",
     "iopub.status.idle": "2021-11-03T00:23:54.582067Z",
     "shell.execute_reply": "2021-11-03T00:23:54.582698Z"
    },
    "papermill": {
     "duration": 0.04505,
     "end_time": "2021-11-03T00:23:54.582826",
     "exception": false,
     "start_time": "2021-11-03T00:23:54.537776",
     "status": "completed"
    },
    "tags": []
   },
   "outputs": [],
   "source": [
    "#hide\n",
    "#delete problematic countries from table\n",
    "df_table = df_table[~df_table['Country/Region'].isin(['Cape Verde', 'Cruise Ship', 'Kosovo'])]"
   ]
  },
  {
   "cell_type": "code",
   "execution_count": 15,
   "id": "fantastic-effect",
   "metadata": {
    "execution": {
     "iopub.execute_input": "2021-11-03T00:23:54.663811Z",
     "iopub.status.busy": "2021-11-03T00:23:54.663167Z",
     "iopub.status.idle": "2021-11-03T00:23:54.684418Z",
     "shell.execute_reply": "2021-11-03T00:23:54.684988Z"
    },
    "papermill": {
     "duration": 0.065646,
     "end_time": "2021-11-03T00:23:54.685120",
     "exception": false,
     "start_time": "2021-11-03T00:23:54.619474",
     "status": "completed"
    },
    "tags": []
   },
   "outputs": [
    {
     "data": {
      "text/html": [
       "<div>\n",
       "<style scoped>\n",
       "    .dataframe tbody tr th:only-of-type {\n",
       "        vertical-align: middle;\n",
       "    }\n",
       "\n",
       "    .dataframe tbody tr th {\n",
       "        vertical-align: top;\n",
       "    }\n",
       "\n",
       "    .dataframe thead th {\n",
       "        text-align: right;\n",
       "    }\n",
       "</style>\n",
       "<table border=\"1\" class=\"dataframe\">\n",
       "  <thead>\n",
       "    <tr style=\"text-align: right;\">\n",
       "      <th></th>\n",
       "      <th>Country/Region</th>\n",
       "      <th>Cases</th>\n",
       "      <th>Deaths</th>\n",
       "      <th>PCases</th>\n",
       "      <th>PDeaths</th>\n",
       "      <th>Cases (+)</th>\n",
       "      <th>Deaths (+)</th>\n",
       "      <th>Fatality Rate</th>\n",
       "      <th>Continent</th>\n",
       "    </tr>\n",
       "  </thead>\n",
       "  <tbody>\n",
       "    <tr>\n",
       "      <th>0</th>\n",
       "      <td>US</td>\n",
       "      <td>46096258</td>\n",
       "      <td>747057</td>\n",
       "      <td>45970785</td>\n",
       "      <td>745832</td>\n",
       "      <td>125473</td>\n",
       "      <td>1225</td>\n",
       "      <td>1.6</td>\n",
       "      <td>North America</td>\n",
       "    </tr>\n",
       "    <tr>\n",
       "      <th>1</th>\n",
       "      <td>India</td>\n",
       "      <td>34296237</td>\n",
       "      <td>458880</td>\n",
       "      <td>34285814</td>\n",
       "      <td>458437</td>\n",
       "      <td>10423</td>\n",
       "      <td>443</td>\n",
       "      <td>1.3</td>\n",
       "      <td>Asia</td>\n",
       "    </tr>\n",
       "    <tr>\n",
       "      <th>2</th>\n",
       "      <td>Brazil</td>\n",
       "      <td>21814693</td>\n",
       "      <td>607922</td>\n",
       "      <td>21810855</td>\n",
       "      <td>607824</td>\n",
       "      <td>3838</td>\n",
       "      <td>98</td>\n",
       "      <td>2.8</td>\n",
       "      <td>South America</td>\n",
       "    </tr>\n",
       "    <tr>\n",
       "      <th>3</th>\n",
       "      <td>United Kingdom</td>\n",
       "      <td>9140441</td>\n",
       "      <td>141098</td>\n",
       "      <td>9100442</td>\n",
       "      <td>141055</td>\n",
       "      <td>39999</td>\n",
       "      <td>43</td>\n",
       "      <td>1.5</td>\n",
       "      <td>Europe</td>\n",
       "    </tr>\n",
       "    <tr>\n",
       "      <th>4</th>\n",
       "      <td>Russia</td>\n",
       "      <td>8417305</td>\n",
       "      <td>235318</td>\n",
       "      <td>8377984</td>\n",
       "      <td>234194</td>\n",
       "      <td>39321</td>\n",
       "      <td>1124</td>\n",
       "      <td>2.8</td>\n",
       "      <td>Europe</td>\n",
       "    </tr>\n",
       "  </tbody>\n",
       "</table>\n",
       "</div>"
      ],
      "text/plain": [
       "   Country/Region     Cases  Deaths    PCases  PDeaths  Cases (+)  Deaths (+)  \\\n",
       "0              US  46096258  747057  45970785   745832     125473        1225   \n",
       "1           India  34296237  458880  34285814   458437      10423         443   \n",
       "2          Brazil  21814693  607922  21810855   607824       3838          98   \n",
       "3  United Kingdom   9140441  141098   9100442   141055      39999          43   \n",
       "4          Russia   8417305  235318   8377984   234194      39321        1124   \n",
       "\n",
       "   Fatality Rate      Continent  \n",
       "0            1.6  North America  \n",
       "1            1.3           Asia  \n",
       "2            2.8  South America  \n",
       "3            1.5         Europe  \n",
       "4            2.8         Europe  "
      ]
     },
     "execution_count": 15,
     "metadata": {},
     "output_type": "execute_result"
    }
   ],
   "source": [
    "#hide\n",
    "df_table = (pd.DataFrame(dict(Cases=dfc_cases, Deaths=dfc_deaths, PCases=dfp_cases, PDeaths=dfp_deaths))\n",
    "             .sort_values(by=['Cases', 'Deaths'], ascending=[False, False])\n",
    "             .reset_index())\n",
    "df_table.rename(columns={'index': 'Country/Region'}, inplace=True)\n",
    "for c in 'Cases, Deaths'.split(', '):\n",
    "    df_table[f'{c} (+)'] = (df_table[c] - df_table[f'P{c}']).clip(0)  # DATA BUG\n",
    "df_table['Fatality Rate'] = (100 * df_table['Deaths'] / df_table['Cases']).round(1)\n",
    "df_table['Continent'] = df_table['Country/Region'].map(mapping['map.continent'])\n",
    "df_table.head(5)"
   ]
  },
  {
   "cell_type": "code",
   "execution_count": 16,
   "id": "fewer-occasion",
   "metadata": {
    "execution": {
     "iopub.execute_input": "2021-11-03T00:23:54.765378Z",
     "iopub.status.busy": "2021-11-03T00:23:54.764688Z",
     "iopub.status.idle": "2021-11-03T00:23:54.767094Z",
     "shell.execute_reply": "2021-11-03T00:23:54.767707Z"
    },
    "papermill": {
     "duration": 0.044134,
     "end_time": "2021-11-03T00:23:54.767850",
     "exception": false,
     "start_time": "2021-11-03T00:23:54.723716",
     "status": "completed"
    },
    "tags": []
   },
   "outputs": [],
   "source": [
    "#hide\n",
    "#delete problematic countries from table\n",
    "df_table = df_table[~df_table['Country/Region'].isin(['Cape Verde', 'Cruise Ship', 'Kosovo'])]"
   ]
  },
  {
   "cell_type": "code",
   "execution_count": 17,
   "id": "related-center",
   "metadata": {
    "execution": {
     "iopub.execute_input": "2021-11-03T00:23:54.862116Z",
     "iopub.status.busy": "2021-11-03T00:23:54.861482Z",
     "iopub.status.idle": "2021-11-03T00:23:54.863537Z",
     "shell.execute_reply": "2021-11-03T00:23:54.864112Z"
    },
    "papermill": {
     "duration": 0.059969,
     "end_time": "2021-11-03T00:23:54.864256",
     "exception": false,
     "start_time": "2021-11-03T00:23:54.804287",
     "status": "completed"
    },
    "tags": []
   },
   "outputs": [],
   "source": [
    "#hide\n",
    "metrics = [df_table.columns[index] for index in [1,2,5,6]]\n",
    "# s_china = df_table[df_table['Country/Region'].eq('China')][metrics].sum().add_prefix('China ')\n",
    "s_us = df_table[df_table['Country/Region'].eq('US')][metrics].sum().add_prefix('US ')\n",
    "s_eu = df_table[df_table['Continent'].eq('Europe')][metrics].sum().add_prefix('EU ')\n",
    "s_ind = df_table[df_table['Country/Region'].eq('India')][metrics].sum().add_prefix('India ')\n",
    "summary = {'updated': pd.to_datetime(dt_today), 'since': pd.to_datetime(dt_yday)}\n",
    "summary = {'updated': pd.to_datetime(dt_today), 'since': pd.to_datetime(dt_yday)}\n",
    "summary = {**summary, **df_table[metrics].sum(), **s_ind, **s_us, **s_eu}"
   ]
  },
  {
   "cell_type": "code",
   "execution_count": 18,
   "id": "engaging-syndrome",
   "metadata": {
    "execution": {
     "iopub.execute_input": "2021-11-03T00:23:54.946320Z",
     "iopub.status.busy": "2021-11-03T00:23:54.945706Z",
     "iopub.status.idle": "2021-11-03T00:23:54.960103Z",
     "shell.execute_reply": "2021-11-03T00:23:54.959610Z"
    },
    "papermill": {
     "duration": 0.056029,
     "end_time": "2021-11-03T00:23:54.960228",
     "exception": false,
     "start_time": "2021-11-03T00:23:54.904199",
     "status": "completed"
    },
    "tags": []
   },
   "outputs": [],
   "source": [
    "#hide\n",
    "dft_ct_new_cases = dft_cases.groupby(COL_REGION)[dt_cols].sum().diff(axis=1).fillna(0).astype(int)"
   ]
  },
  {
   "cell_type": "code",
   "execution_count": 19,
   "id": "neutral-assignment",
   "metadata": {
    "execution": {
     "iopub.execute_input": "2021-11-03T00:23:55.040753Z",
     "iopub.status.busy": "2021-11-03T00:23:55.040112Z",
     "iopub.status.idle": "2021-11-03T00:23:55.042561Z",
     "shell.execute_reply": "2021-11-03T00:23:55.042075Z"
    },
    "papermill": {
     "duration": 0.045324,
     "end_time": "2021-11-03T00:23:55.042722",
     "exception": false,
     "start_time": "2021-11-03T00:23:54.997398",
     "status": "completed"
    },
    "tags": []
   },
   "outputs": [],
   "source": [
    "#hide\n",
    "everydaycases = dft_ct_new_cases.cumsum(axis=1)"
   ]
  },
  {
   "cell_type": "code",
   "execution_count": 20,
   "id": "parliamentary-calgary",
   "metadata": {
    "execution": {
     "iopub.execute_input": "2021-11-03T00:23:55.124374Z",
     "iopub.status.busy": "2021-11-03T00:23:55.123719Z",
     "iopub.status.idle": "2021-11-03T00:23:55.756390Z",
     "shell.execute_reply": "2021-11-03T00:23:55.755781Z"
    },
    "papermill": {
     "duration": 0.67416,
     "end_time": "2021-11-03T00:23:55.756586",
     "exception": false,
     "start_time": "2021-11-03T00:23:55.082426",
     "status": "completed"
    },
    "tags": []
   },
   "outputs": [],
   "source": [
    "#hide\n",
    "import pandas as pd\n",
    "import matplotlib.pyplot as plt\n",
    "import matplotlib.ticker as ticker\n",
    "import matplotlib.animation as animation\n",
    "from IPython.display import HTML"
   ]
  },
  {
   "cell_type": "code",
   "execution_count": 21,
   "id": "lasting-extraction",
   "metadata": {
    "execution": {
     "iopub.execute_input": "2021-11-03T00:23:55.837493Z",
     "iopub.status.busy": "2021-11-03T00:23:55.836870Z",
     "iopub.status.idle": "2021-11-03T00:23:55.843352Z",
     "shell.execute_reply": "2021-11-03T00:23:55.842867Z"
    },
    "papermill": {
     "duration": 0.048486,
     "end_time": "2021-11-03T00:23:55.843486",
     "exception": false,
     "start_time": "2021-11-03T00:23:55.795000",
     "status": "completed"
    },
    "tags": []
   },
   "outputs": [],
   "source": [
    "#hide\n",
    "t = everydaycases.stack()"
   ]
  },
  {
   "cell_type": "code",
   "execution_count": 22,
   "id": "premier-sleeve",
   "metadata": {
    "execution": {
     "iopub.execute_input": "2021-11-03T00:23:55.920950Z",
     "iopub.status.busy": "2021-11-03T00:23:55.920281Z",
     "iopub.status.idle": "2021-11-03T00:23:55.930158Z",
     "shell.execute_reply": "2021-11-03T00:23:55.930779Z"
    },
    "papermill": {
     "duration": 0.050826,
     "end_time": "2021-11-03T00:23:55.930910",
     "exception": false,
     "start_time": "2021-11-03T00:23:55.880084",
     "status": "completed"
    },
    "tags": []
   },
   "outputs": [],
   "source": [
    "#hide\n",
    "g = t.reset_index(['Country/Region'])"
   ]
  },
  {
   "cell_type": "code",
   "execution_count": 23,
   "id": "distributed-pittsburgh",
   "metadata": {
    "execution": {
     "iopub.execute_input": "2021-11-03T00:23:56.007899Z",
     "iopub.status.busy": "2021-11-03T00:23:56.007261Z",
     "iopub.status.idle": "2021-11-03T00:23:56.009868Z",
     "shell.execute_reply": "2021-11-03T00:23:56.009337Z"
    },
    "papermill": {
     "duration": 0.04298,
     "end_time": "2021-11-03T00:23:56.009986",
     "exception": false,
     "start_time": "2021-11-03T00:23:55.967006",
     "status": "completed"
    },
    "tags": []
   },
   "outputs": [],
   "source": [
    "#hide\n",
    "g.index.name = 'date'"
   ]
  },
  {
   "cell_type": "code",
   "execution_count": 24,
   "id": "naked-donor",
   "metadata": {
    "execution": {
     "iopub.execute_input": "2021-11-03T00:23:56.088688Z",
     "iopub.status.busy": "2021-11-03T00:23:56.088006Z",
     "iopub.status.idle": "2021-11-03T00:23:56.090102Z",
     "shell.execute_reply": "2021-11-03T00:23:56.090709Z"
    },
    "papermill": {
     "duration": 0.044746,
     "end_time": "2021-11-03T00:23:56.090841",
     "exception": false,
     "start_time": "2021-11-03T00:23:56.046095",
     "status": "completed"
    },
    "tags": []
   },
   "outputs": [],
   "source": [
    "# #hide\n",
    "# g = g.reset_index(['date'])"
   ]
  },
  {
   "cell_type": "code",
   "execution_count": 25,
   "id": "incomplete-mustang",
   "metadata": {
    "execution": {
     "iopub.execute_input": "2021-11-03T00:23:56.168405Z",
     "iopub.status.busy": "2021-11-03T00:23:56.167708Z",
     "iopub.status.idle": "2021-11-03T00:23:56.169767Z",
     "shell.execute_reply": "2021-11-03T00:23:56.170233Z"
    },
    "papermill": {
     "duration": 0.042784,
     "end_time": "2021-11-03T00:23:56.170384",
     "exception": false,
     "start_time": "2021-11-03T00:23:56.127600",
     "status": "completed"
    },
    "tags": []
   },
   "outputs": [],
   "source": [
    "#hide\n",
    "# g.head()"
   ]
  },
  {
   "cell_type": "code",
   "execution_count": 26,
   "id": "specific-kruger",
   "metadata": {
    "execution": {
     "iopub.execute_input": "2021-11-03T00:23:56.249509Z",
     "iopub.status.busy": "2021-11-03T00:23:56.248826Z",
     "iopub.status.idle": "2021-11-03T00:23:56.250945Z",
     "shell.execute_reply": "2021-11-03T00:23:56.251493Z"
    },
    "papermill": {
     "duration": 0.04356,
     "end_time": "2021-11-03T00:23:56.251661",
     "exception": false,
     "start_time": "2021-11-03T00:23:56.208101",
     "status": "completed"
    },
    "tags": []
   },
   "outputs": [],
   "source": [
    "#hide\n",
    "# g.columns = ['date','country','cases']"
   ]
  },
  {
   "cell_type": "code",
   "execution_count": 27,
   "id": "tender-conversion",
   "metadata": {
    "execution": {
     "iopub.execute_input": "2021-11-03T00:23:56.330802Z",
     "iopub.status.busy": "2021-11-03T00:23:56.330140Z",
     "iopub.status.idle": "2021-11-03T00:23:56.332150Z",
     "shell.execute_reply": "2021-11-03T00:23:56.332806Z"
    },
    "papermill": {
     "duration": 0.044073,
     "end_time": "2021-11-03T00:23:56.332937",
     "exception": false,
     "start_time": "2021-11-03T00:23:56.288864",
     "status": "completed"
    },
    "tags": []
   },
   "outputs": [],
   "source": [
    "#hide\n",
    "# g['continent'] = g.country"
   ]
  },
  {
   "cell_type": "code",
   "execution_count": 28,
   "id": "substantial-wilderness",
   "metadata": {
    "execution": {
     "iopub.execute_input": "2021-11-03T00:23:56.412947Z",
     "iopub.status.busy": "2021-11-03T00:23:56.412182Z",
     "iopub.status.idle": "2021-11-03T00:23:56.414541Z",
     "shell.execute_reply": "2021-11-03T00:23:56.413919Z"
    },
    "papermill": {
     "duration": 0.044266,
     "end_time": "2021-11-03T00:23:56.414660",
     "exception": false,
     "start_time": "2021-11-03T00:23:56.370394",
     "status": "completed"
    },
    "tags": []
   },
   "outputs": [],
   "source": [
    "#hide\n",
    "# cols = list(g.columns.values)"
   ]
  },
  {
   "cell_type": "code",
   "execution_count": 29,
   "id": "solved-farming",
   "metadata": {
    "execution": {
     "iopub.execute_input": "2021-11-03T00:23:56.493910Z",
     "iopub.status.busy": "2021-11-03T00:23:56.493296Z",
     "iopub.status.idle": "2021-11-03T00:23:56.495370Z",
     "shell.execute_reply": "2021-11-03T00:23:56.495890Z"
    },
    "papermill": {
     "duration": 0.042435,
     "end_time": "2021-11-03T00:23:56.496032",
     "exception": false,
     "start_time": "2021-11-03T00:23:56.453597",
     "status": "completed"
    },
    "tags": []
   },
   "outputs": [],
   "source": [
    "#hide\n",
    "# cols.insert(0, cols.pop())"
   ]
  },
  {
   "cell_type": "code",
   "execution_count": 30,
   "id": "executed-adoption",
   "metadata": {
    "execution": {
     "iopub.execute_input": "2021-11-03T00:23:56.574429Z",
     "iopub.status.busy": "2021-11-03T00:23:56.573758Z",
     "iopub.status.idle": "2021-11-03T00:23:56.576433Z",
     "shell.execute_reply": "2021-11-03T00:23:56.575869Z"
    },
    "papermill": {
     "duration": 0.043604,
     "end_time": "2021-11-03T00:23:56.576554",
     "exception": false,
     "start_time": "2021-11-03T00:23:56.532950",
     "status": "completed"
    },
    "tags": []
   },
   "outputs": [],
   "source": [
    "#hide\n",
    "# g = g[cols]"
   ]
  },
  {
   "cell_type": "code",
   "execution_count": 31,
   "id": "subject-dublin",
   "metadata": {
    "execution": {
     "iopub.execute_input": "2021-11-03T00:23:56.653548Z",
     "iopub.status.busy": "2021-11-03T00:23:56.652906Z",
     "iopub.status.idle": "2021-11-03T00:23:56.655565Z",
     "shell.execute_reply": "2021-11-03T00:23:56.655036Z"
    },
    "papermill": {
     "duration": 0.042027,
     "end_time": "2021-11-03T00:23:56.655681",
     "exception": false,
     "start_time": "2021-11-03T00:23:56.613654",
     "status": "completed"
    },
    "tags": []
   },
   "outputs": [],
   "source": [
    "#hide\n",
    "# g['continent'] = g['continent'].map(mapping['map.continent'])"
   ]
  },
  {
   "cell_type": "code",
   "execution_count": 32,
   "id": "freelance-scout",
   "metadata": {
    "execution": {
     "iopub.execute_input": "2021-11-03T00:23:56.734772Z",
     "iopub.status.busy": "2021-11-03T00:23:56.734166Z",
     "iopub.status.idle": "2021-11-03T00:23:56.736508Z",
     "shell.execute_reply": "2021-11-03T00:23:56.737114Z"
    },
    "papermill": {
     "duration": 0.044486,
     "end_time": "2021-11-03T00:23:56.737259",
     "exception": false,
     "start_time": "2021-11-03T00:23:56.692773",
     "status": "completed"
    },
    "tags": []
   },
   "outputs": [],
   "source": [
    "#hide\n",
    "# g.head()"
   ]
  },
  {
   "cell_type": "code",
   "execution_count": 33,
   "id": "limited-engine",
   "metadata": {
    "execution": {
     "iopub.execute_input": "2021-11-03T00:23:56.815666Z",
     "iopub.status.busy": "2021-11-03T00:23:56.814329Z",
     "iopub.status.idle": "2021-11-03T00:23:56.816398Z",
     "shell.execute_reply": "2021-11-03T00:23:56.816911Z"
    },
    "papermill": {
     "duration": 0.043202,
     "end_time": "2021-11-03T00:23:56.817038",
     "exception": false,
     "start_time": "2021-11-03T00:23:56.773836",
     "status": "completed"
    },
    "tags": []
   },
   "outputs": [],
   "source": [
    "# hide\n",
    "# g['date'] = g['date'].astype('datetime64[ns]')"
   ]
  },
  {
   "cell_type": "code",
   "execution_count": 34,
   "id": "sophisticated-supervisor",
   "metadata": {
    "execution": {
     "iopub.execute_input": "2021-11-03T00:23:56.893291Z",
     "iopub.status.busy": "2021-11-03T00:23:56.892668Z",
     "iopub.status.idle": "2021-11-03T00:23:56.894553Z",
     "shell.execute_reply": "2021-11-03T00:23:56.895014Z"
    },
    "papermill": {
     "duration": 0.04129,
     "end_time": "2021-11-03T00:23:56.895138",
     "exception": false,
     "start_time": "2021-11-03T00:23:56.853848",
     "status": "completed"
    },
    "tags": []
   },
   "outputs": [],
   "source": [
    "#hide\n",
    "# g['date'] = g.date.dt.dayofyear"
   ]
  },
  {
   "cell_type": "code",
   "execution_count": 35,
   "id": "inside-dubai",
   "metadata": {
    "execution": {
     "iopub.execute_input": "2021-11-03T00:23:56.973286Z",
     "iopub.status.busy": "2021-11-03T00:23:56.972515Z",
     "iopub.status.idle": "2021-11-03T00:23:56.974522Z",
     "shell.execute_reply": "2021-11-03T00:23:56.975089Z"
    },
    "papermill": {
     "duration": 0.043121,
     "end_time": "2021-11-03T00:23:56.975219",
     "exception": false,
     "start_time": "2021-11-03T00:23:56.932098",
     "status": "completed"
    },
    "tags": []
   },
   "outputs": [],
   "source": [
    "#hide\n",
    "# g = g.rename(columns= {'continent':'group','country':'name','cases':'value'})"
   ]
  },
  {
   "cell_type": "code",
   "execution_count": 36,
   "id": "fleet-motorcycle",
   "metadata": {
    "execution": {
     "iopub.execute_input": "2021-11-03T00:23:57.055824Z",
     "iopub.status.busy": "2021-11-03T00:23:57.055175Z",
     "iopub.status.idle": "2021-11-03T00:23:57.057302Z",
     "shell.execute_reply": "2021-11-03T00:23:57.057891Z"
    },
    "papermill": {
     "duration": 0.04554,
     "end_time": "2021-11-03T00:23:57.058054",
     "exception": false,
     "start_time": "2021-11-03T00:23:57.012514",
     "status": "completed"
    },
    "tags": []
   },
   "outputs": [],
   "source": [
    "#hide\n",
    "# cols = ['name','group','day','value']"
   ]
  },
  {
   "cell_type": "code",
   "execution_count": 37,
   "id": "continued-sleeping",
   "metadata": {
    "execution": {
     "iopub.execute_input": "2021-11-03T00:23:57.140109Z",
     "iopub.status.busy": "2021-11-03T00:23:57.139471Z",
     "iopub.status.idle": "2021-11-03T00:23:57.141939Z",
     "shell.execute_reply": "2021-11-03T00:23:57.141310Z"
    },
    "papermill": {
     "duration": 0.044962,
     "end_time": "2021-11-03T00:23:57.142059",
     "exception": false,
     "start_time": "2021-11-03T00:23:57.097097",
     "status": "completed"
    },
    "tags": []
   },
   "outputs": [],
   "source": [
    "#hide\n",
    "# g.rename(columns= {'date':'day'},inplace = True)"
   ]
  },
  {
   "cell_type": "code",
   "execution_count": 38,
   "id": "major-fight",
   "metadata": {
    "execution": {
     "iopub.execute_input": "2021-11-03T00:23:57.222974Z",
     "iopub.status.busy": "2021-11-03T00:23:57.222337Z",
     "iopub.status.idle": "2021-11-03T00:23:57.224906Z",
     "shell.execute_reply": "2021-11-03T00:23:57.225605Z"
    },
    "papermill": {
     "duration": 0.044482,
     "end_time": "2021-11-03T00:23:57.225764",
     "exception": false,
     "start_time": "2021-11-03T00:23:57.181282",
     "status": "completed"
    },
    "tags": []
   },
   "outputs": [],
   "source": [
    "#hide\n",
    "# g = g[cols]"
   ]
  },
  {
   "cell_type": "code",
   "execution_count": 39,
   "id": "structured-mobile",
   "metadata": {
    "execution": {
     "iopub.execute_input": "2021-11-03T00:23:57.303103Z",
     "iopub.status.busy": "2021-11-03T00:23:57.302499Z",
     "iopub.status.idle": "2021-11-03T00:23:57.306935Z",
     "shell.execute_reply": "2021-11-03T00:23:57.304494Z"
    },
    "papermill": {
     "duration": 0.044298,
     "end_time": "2021-11-03T00:23:57.307060",
     "exception": false,
     "start_time": "2021-11-03T00:23:57.262762",
     "status": "completed"
    },
    "tags": []
   },
   "outputs": [],
   "source": [
    "# #hide\n",
    "# g = g[g.group.notna()]"
   ]
  },
  {
   "cell_type": "code",
   "execution_count": 40,
   "id": "determined-closing",
   "metadata": {
    "execution": {
     "iopub.execute_input": "2021-11-03T00:23:57.384647Z",
     "iopub.status.busy": "2021-11-03T00:23:57.383935Z",
     "iopub.status.idle": "2021-11-03T00:23:57.386377Z",
     "shell.execute_reply": "2021-11-03T00:23:57.387056Z"
    },
    "papermill": {
     "duration": 0.043646,
     "end_time": "2021-11-03T00:23:57.387232",
     "exception": false,
     "start_time": "2021-11-03T00:23:57.343586",
     "status": "completed"
    },
    "tags": []
   },
   "outputs": [],
   "source": [
    "# #hide\n",
    "# colors = dict(zip(\n",
    "#     [\"Oceania\", \"Europe\", \"Asia\", \"South America\", \"Middle East\", \"North America\", \"Africa\"],\n",
    "#     [\"#adb0ff\", \"#ffb3ff\", \"#90d595\", \"#e48381\", \"#aafbff\", \"#f7bb5f\", \"#eafb50\"]\n",
    "# ))\n",
    "# group_lk = g.set_index('name')['group'].to_dict()"
   ]
  },
  {
   "cell_type": "code",
   "execution_count": null,
   "id": "gross-drinking",
   "metadata": {
    "papermill": {
     "duration": 0.036411,
     "end_time": "2021-11-03T00:23:57.460684",
     "exception": false,
     "start_time": "2021-11-03T00:23:57.424273",
     "status": "completed"
    },
    "tags": []
   },
   "outputs": [],
   "source": []
  },
  {
   "cell_type": "code",
   "execution_count": 41,
   "id": "subject-macintosh",
   "metadata": {
    "execution": {
     "iopub.execute_input": "2021-11-03T00:23:57.541014Z",
     "iopub.status.busy": "2021-11-03T00:23:57.540335Z",
     "iopub.status.idle": "2021-11-03T00:23:57.542389Z",
     "shell.execute_reply": "2021-11-03T00:23:57.542938Z"
    },
    "papermill": {
     "duration": 0.045763,
     "end_time": "2021-11-03T00:23:57.543122",
     "exception": false,
     "start_time": "2021-11-03T00:23:57.497359",
     "status": "completed"
    },
    "tags": []
   },
   "outputs": [],
   "source": [
    "# #hide\n",
    "# fig, ax = plt.subplots(figsize=(15, 8))\n",
    "\n",
    "# def draw_barchart(current_day):\n",
    "#     dff = g[g['day'].eq(current_day)].sort_values(by='value', ascending=True).tail(10)\n",
    "#     ax.clear()\n",
    "#     ax.barh(dff['name'], dff['value'], color=[colors[group_lk[x]] for x in dff['name']])\n",
    "#     dx = dff['value'].max() / 200\n",
    "    \n",
    "#     for i, (value, name) in enumerate(zip(dff['value'], dff['name'])):\n",
    "#         ax.text(value-dx, i,     name,           size=14, weight=600, ha='right', va='bottom')\n",
    "#         ax.text(value-dx, i-.25, group_lk[name], size=10, color='#444444', ha='right', va='baseline')\n",
    "#         ax.text(value+dx, i,     f'{value:,.0f}',  size=14, ha='left',  va='center')\n",
    "#     ax.text(1, 0.4, current_day, transform=ax.transAxes, color='#777777', size=46, ha='right', weight=800)\n",
    "#     ax.text(0, 1.06, 'Population (thousands)', transform=ax.transAxes, size=12, color='#777777')\n",
    "#     ax.xaxis.set_major_formatter(ticker.StrMethodFormatter('{x:,.0f}'))\n",
    "#     ax.xaxis.set_ticks_position('top')\n",
    "#     ax.tick_params(axis='x', colors='#777777', labelsize=12)\n",
    "#     ax.set_yticks([])\n",
    "#     ax.margins(0, 0.01)\n",
    "#     ax.grid(which='major', axis='x', linestyle='-')\n",
    "#     ax.set_axisbelow(True)\n",
    "    \n",
    "#     ax.text(0, 1.15, 'Coronavirus',\n",
    "#             transform=ax.transAxes, size=24, weight=600, ha='left', va='top')\n",
    "# #     ax.text(1, 0, 'by @pratapvardhan; credit @jburnmurdoch', transform=ax.transAxes, color='#777777', ha='right',\n",
    "# #             bbox=dict(facecolor='white', alpha=0.8, edgecolor='white'))\n",
    "#     plt.box(False)"
   ]
  },
  {
   "cell_type": "code",
   "execution_count": 42,
   "id": "sexual-wages",
   "metadata": {
    "execution": {
     "iopub.execute_input": "2021-11-03T00:23:57.622588Z",
     "iopub.status.busy": "2021-11-03T00:23:57.621939Z",
     "iopub.status.idle": "2021-11-03T00:23:57.624192Z",
     "shell.execute_reply": "2021-11-03T00:23:57.624761Z"
    },
    "papermill": {
     "duration": 0.043993,
     "end_time": "2021-11-03T00:23:57.624894",
     "exception": false,
     "start_time": "2021-11-03T00:23:57.580901",
     "status": "completed"
    },
    "tags": []
   },
   "outputs": [],
   "source": [
    "# #hide_input\n",
    "# fig, ax = plt.subplots(figsize=(15, 8))\n",
    "# animator = animation.FuncAnimation(fig, draw_barchart, frames=range(g.day.values.min(), g.day.values.max()))\n",
    "# HTML(animator.to_jshtml())\n",
    "# # or use animator.to_html5_video() or animator.save() "
   ]
  },
  {
   "cell_type": "code",
   "execution_count": null,
   "id": "australian-container",
   "metadata": {
    "papermill": {
     "duration": 0.036789,
     "end_time": "2021-11-03T00:23:57.698449",
     "exception": false,
     "start_time": "2021-11-03T00:23:57.661660",
     "status": "completed"
    },
    "tags": []
   },
   "outputs": [],
   "source": []
  },
  {
   "cell_type": "code",
   "execution_count": null,
   "id": "mediterranean-pontiac",
   "metadata": {
    "papermill": {
     "duration": 0.036949,
     "end_time": "2021-11-03T00:23:57.771975",
     "exception": false,
     "start_time": "2021-11-03T00:23:57.735026",
     "status": "completed"
    },
    "tags": []
   },
   "outputs": [],
   "source": []
  },
  {
   "cell_type": "code",
   "execution_count": null,
   "id": "aging-legislature",
   "metadata": {
    "papermill": {
     "duration": 0.036101,
     "end_time": "2021-11-03T00:23:57.846498",
     "exception": false,
     "start_time": "2021-11-03T00:23:57.810397",
     "status": "completed"
    },
    "tags": []
   },
   "outputs": [],
   "source": []
  }
 ],
 "metadata": {
  "kernelspec": {
   "display_name": "Python 3",
   "language": "python",
   "name": "python3"
  },
  "language_info": {
   "codemirror_mode": {
    "name": "ipython",
    "version": 3
   },
   "file_extension": ".py",
   "mimetype": "text/x-python",
   "name": "python",
   "nbconvert_exporter": "python",
   "pygments_lexer": "ipython3",
   "version": "3.6.15"
  },
  "papermill": {
   "duration": 6.981238,
   "end_time": "2021-11-03T00:23:58.190348",
   "environment_variables": {},
   "exception": null,
   "input_path": "2020-03-21-covid19exp.ipynb",
   "output_path": "2020-03-21-covid19exp.ipynb",
   "parameters": {},
   "start_time": "2021-11-03T00:23:51.209110",
   "version": "2.0.0"
  }
 },
 "nbformat": 4,
 "nbformat_minor": 5
}