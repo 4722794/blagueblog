{
 "cells": [
  {
   "cell_type": "markdown",
   "id": "muslim-click",
   "metadata": {
    "papermill": {
     "duration": 0.04319,
     "end_time": "2021-07-18T00:20:41.131132",
     "exception": false,
     "start_time": "2021-07-18T00:20:41.087942",
     "status": "completed"
    },
    "tags": []
   },
   "source": [
    "# COVID-19 Case Race\n",
    "> A race chart to see rising cases around the world\n",
    "\n",
    "- author: Hargun Oberoi\n",
    "- image: images/covid-overview.png\n",
    "- hide: false\n",
    "- badges: false"
   ]
  },
  {
   "cell_type": "code",
   "execution_count": 1,
   "id": "proof-material",
   "metadata": {
    "execution": {
     "iopub.execute_input": "2021-07-18T00:20:41.219836Z",
     "iopub.status.busy": "2021-07-18T00:20:41.219133Z",
     "iopub.status.idle": "2021-07-18T00:20:41.594009Z",
     "shell.execute_reply": "2021-07-18T00:20:41.593409Z"
    },
    "papermill": {
     "duration": 0.425129,
     "end_time": "2021-07-18T00:20:41.594189",
     "exception": false,
     "start_time": "2021-07-18T00:20:41.169060",
     "status": "completed"
    },
    "tags": []
   },
   "outputs": [],
   "source": [
    "#hide\n",
    "import numpy as np\n",
    "import pandas as pd\n",
    "from jinja2 import Template\n",
    "from IPython.display import HTML"
   ]
  },
  {
   "cell_type": "code",
   "execution_count": 2,
   "id": "developed-terminology",
   "metadata": {
    "execution": {
     "iopub.execute_input": "2021-07-18T00:20:41.669900Z",
     "iopub.status.busy": "2021-07-18T00:20:41.669275Z",
     "iopub.status.idle": "2021-07-18T00:20:41.670968Z",
     "shell.execute_reply": "2021-07-18T00:20:41.671410Z"
    },
    "papermill": {
     "duration": 0.041324,
     "end_time": "2021-07-18T00:20:41.671533",
     "exception": false,
     "start_time": "2021-07-18T00:20:41.630209",
     "status": "completed"
    },
    "tags": []
   },
   "outputs": [],
   "source": [
    "#hide\n",
    "\n",
    "# FETCH\n",
    "base_url = 'https://raw.githubusercontent.com/pratapvardhan/notebooks/master/covid19/'\n",
    "paths = {\n",
    "    'mapping': base_url + 'mapping_countries.csv',\n",
    "    'overview': base_url + 'overview.tpl'\n",
    "}"
   ]
  },
  {
   "cell_type": "code",
   "execution_count": 3,
   "id": "dynamic-saver",
   "metadata": {
    "execution": {
     "iopub.execute_input": "2021-07-18T00:20:41.755274Z",
     "iopub.status.busy": "2021-07-18T00:20:41.754744Z",
     "iopub.status.idle": "2021-07-18T00:20:41.757802Z",
     "shell.execute_reply": "2021-07-18T00:20:41.757226Z"
    },
    "papermill": {
     "duration": 0.048367,
     "end_time": "2021-07-18T00:20:41.757909",
     "exception": false,
     "start_time": "2021-07-18T00:20:41.709542",
     "status": "completed"
    },
    "tags": []
   },
   "outputs": [
    {
     "data": {
      "text/plain": [
       "'https://raw.githubusercontent.com/pratapvardhan/notebooks/master/covid19/mapping_countries.csv'"
      ]
     },
     "execution_count": 3,
     "metadata": {},
     "output_type": "execute_result"
    }
   ],
   "source": [
    "#hide\n",
    "paths['mapping']"
   ]
  },
  {
   "cell_type": "code",
   "execution_count": 4,
   "id": "urban-software",
   "metadata": {
    "execution": {
     "iopub.execute_input": "2021-07-18T00:20:41.838043Z",
     "iopub.status.busy": "2021-07-18T00:20:41.837154Z",
     "iopub.status.idle": "2021-07-18T00:20:41.839606Z",
     "shell.execute_reply": "2021-07-18T00:20:41.839134Z"
    },
    "papermill": {
     "duration": 0.047275,
     "end_time": "2021-07-18T00:20:41.839719",
     "exception": false,
     "start_time": "2021-07-18T00:20:41.792444",
     "status": "completed"
    },
    "tags": []
   },
   "outputs": [],
   "source": [
    "#hide\n",
    "def get_mappings(url):\n",
    "    df = pd.read_csv(url)\n",
    "    return {\n",
    "        'df': df,\n",
    "        'replace.country': dict(df.dropna(subset=['Name']).set_index('Country')['Name']),\n",
    "        'map.continent': dict(df.set_index('Name')['Continent'])\n",
    "    }"
   ]
  },
  {
   "cell_type": "code",
   "execution_count": 5,
   "id": "intimate-machinery",
   "metadata": {
    "execution": {
     "iopub.execute_input": "2021-07-18T00:20:41.915725Z",
     "iopub.status.busy": "2021-07-18T00:20:41.915156Z",
     "iopub.status.idle": "2021-07-18T00:20:41.951213Z",
     "shell.execute_reply": "2021-07-18T00:20:41.951974Z"
    },
    "papermill": {
     "duration": 0.074686,
     "end_time": "2021-07-18T00:20:41.952155",
     "exception": false,
     "start_time": "2021-07-18T00:20:41.877469",
     "status": "completed"
    },
    "tags": []
   },
   "outputs": [],
   "source": [
    "#hide\n",
    "mapping = get_mappings(paths['mapping'])"
   ]
  },
  {
   "cell_type": "code",
   "execution_count": 6,
   "id": "certified-tactics",
   "metadata": {
    "execution": {
     "iopub.execute_input": "2021-07-18T00:20:42.027711Z",
     "iopub.status.busy": "2021-07-18T00:20:42.027036Z",
     "iopub.status.idle": "2021-07-18T00:20:42.029612Z",
     "shell.execute_reply": "2021-07-18T00:20:42.029092Z"
    },
    "papermill": {
     "duration": 0.042776,
     "end_time": "2021-07-18T00:20:42.029720",
     "exception": false,
     "start_time": "2021-07-18T00:20:41.986944",
     "status": "completed"
    },
    "tags": []
   },
   "outputs": [],
   "source": [
    "#hide\n",
    "def get_template(path):\n",
    "    from urllib.parse import urlparse\n",
    "    if bool(urlparse(path).netloc):\n",
    "        from urllib.request import urlopen\n",
    "        return urlopen(path).read().decode('utf8')\n",
    "    return open(path).read()"
   ]
  },
  {
   "cell_type": "code",
   "execution_count": 7,
   "id": "realistic-blast",
   "metadata": {
    "execution": {
     "iopub.execute_input": "2021-07-18T00:20:42.103169Z",
     "iopub.status.busy": "2021-07-18T00:20:42.102242Z",
     "iopub.status.idle": "2021-07-18T00:20:42.104886Z",
     "shell.execute_reply": "2021-07-18T00:20:42.104449Z"
    },
    "papermill": {
     "duration": 0.041459,
     "end_time": "2021-07-18T00:20:42.104994",
     "exception": false,
     "start_time": "2021-07-18T00:20:42.063535",
     "status": "completed"
    },
    "tags": []
   },
   "outputs": [],
   "source": [
    "#hide\n",
    "def get_frame(name):\n",
    "    url = (\n",
    "        'https://raw.githubusercontent.com/CSSEGISandData/COVID-19/master/csse_covid_19_data/'\n",
    "        f'csse_covid_19_time_series/time_series_covid19_{name}_global.csv')\n",
    "    df = pd.read_csv(url)\n",
    "    # rename countries\n",
    "    df['Country/Region'] = df['Country/Region'].replace(mapping['replace.country'])\n",
    "    return df"
   ]
  },
  {
   "cell_type": "code",
   "execution_count": 8,
   "id": "affiliated-characterization",
   "metadata": {
    "execution": {
     "iopub.execute_input": "2021-07-18T00:20:42.178785Z",
     "iopub.status.busy": "2021-07-18T00:20:42.178216Z",
     "iopub.status.idle": "2021-07-18T00:20:42.180462Z",
     "shell.execute_reply": "2021-07-18T00:20:42.179986Z"
    },
    "papermill": {
     "duration": 0.042965,
     "end_time": "2021-07-18T00:20:42.180571",
     "exception": false,
     "start_time": "2021-07-18T00:20:42.137606",
     "status": "completed"
    },
    "tags": []
   },
   "outputs": [],
   "source": [
    "#hide\n",
    "def get_dates(df):\n",
    "    dt_cols = df.columns[~df.columns.isin(['Province/State', 'Country/Region', 'Lat', 'Long'])]\n",
    "    LAST_DATE_I = -1\n",
    "    # sometimes last column may be empty, then go backwards\n",
    "    for i in range(-1, -len(dt_cols), -1):\n",
    "        if not df[dt_cols[i]].fillna(0).eq(0).all():\n",
    "            LAST_DATE_I = i\n",
    "            break\n",
    "    return LAST_DATE_I, dt_cols"
   ]
  },
  {
   "cell_type": "code",
   "execution_count": 9,
   "id": "recent-optimization",
   "metadata": {
    "execution": {
     "iopub.execute_input": "2021-07-18T00:20:42.255162Z",
     "iopub.status.busy": "2021-07-18T00:20:42.254581Z",
     "iopub.status.idle": "2021-07-18T00:20:42.571657Z",
     "shell.execute_reply": "2021-07-18T00:20:42.571038Z"
    },
    "papermill": {
     "duration": 0.355909,
     "end_time": "2021-07-18T00:20:42.571791",
     "exception": false,
     "start_time": "2021-07-18T00:20:42.215882",
     "status": "completed"
    },
    "tags": []
   },
   "outputs": [],
   "source": [
    "#hide\n",
    "COL_REGION = 'Country/Region'\n",
    "# Confirmed, Recovered, Deaths\n",
    "df = get_frame('confirmed')\n",
    "# dft_: timeseries, dfc_: today country agg\n",
    "dft_cases = df\n",
    "dft_deaths = get_frame('deaths')\n",
    "dft_recovered = get_frame('recovered')\n",
    "LAST_DATE_I, dt_cols = get_dates(df)"
   ]
  },
  {
   "cell_type": "code",
   "execution_count": 10,
   "id": "absolute-copper",
   "metadata": {
    "execution": {
     "iopub.execute_input": "2021-07-18T00:20:42.646691Z",
     "iopub.status.busy": "2021-07-18T00:20:42.646133Z",
     "iopub.status.idle": "2021-07-18T00:20:42.648020Z",
     "shell.execute_reply": "2021-07-18T00:20:42.648961Z"
    },
    "papermill": {
     "duration": 0.043615,
     "end_time": "2021-07-18T00:20:42.649259",
     "exception": false,
     "start_time": "2021-07-18T00:20:42.605644",
     "status": "completed"
    },
    "tags": []
   },
   "outputs": [],
   "source": [
    "#hide\n",
    "LAST_DATE_I, dt_cols = get_dates(df)\n",
    "dt_today =dt_cols[LAST_DATE_I]\n",
    "# dt_5day = dt_cols[LAST_DATE_I - 5]\n",
    "dt_yday = dt_cols[LAST_DATE_I - 1]"
   ]
  },
  {
   "cell_type": "code",
   "execution_count": 11,
   "id": "restricted-sheriff",
   "metadata": {
    "execution": {
     "iopub.execute_input": "2021-07-18T00:20:42.727288Z",
     "iopub.status.busy": "2021-07-18T00:20:42.726747Z",
     "iopub.status.idle": "2021-07-18T00:20:42.735346Z",
     "shell.execute_reply": "2021-07-18T00:20:42.735829Z"
    },
    "papermill": {
     "duration": 0.050465,
     "end_time": "2021-07-18T00:20:42.736015",
     "exception": false,
     "start_time": "2021-07-18T00:20:42.685550",
     "status": "completed"
    },
    "tags": []
   },
   "outputs": [],
   "source": [
    "#hide\n",
    "dfc_cases = dft_cases.groupby(COL_REGION)[dt_today].sum()\n",
    "dfc_deaths = dft_deaths.groupby(COL_REGION)[dt_today].sum()\n",
    "# dfp_cases = dft_cases.groupby(COL_REGION)[dt_5day].sum()\n",
    "# dfp_deaths = dft_deaths.groupby(COL_REGION)[dt_5day].sum()\n",
    "dfp_cases = dft_cases.groupby(COL_REGION)[dt_yday].sum()\n",
    "dfp_deaths = dft_deaths.groupby(COL_REGION)[dt_yday].sum()"
   ]
  },
  {
   "cell_type": "code",
   "execution_count": 12,
   "id": "deluxe-hepatitis",
   "metadata": {
    "execution": {
     "iopub.execute_input": "2021-07-18T00:20:42.808314Z",
     "iopub.status.busy": "2021-07-18T00:20:42.807699Z",
     "iopub.status.idle": "2021-07-18T00:20:42.813175Z",
     "shell.execute_reply": "2021-07-18T00:20:42.813812Z"
    },
    "papermill": {
     "duration": 0.044818,
     "end_time": "2021-07-18T00:20:42.813954",
     "exception": false,
     "start_time": "2021-07-18T00:20:42.769136",
     "status": "completed"
    },
    "tags": []
   },
   "outputs": [],
   "source": [
    "#hide\n",
    "df_table = (pd.DataFrame(dict(Cases = dfc_cases, Deaths = dfc_deaths, PCases = dfp_cases, PDeaths = dfp_deaths))\n",
    "            .sort_values(by = ['Cases','Deaths'], ascending = [False, False])\n",
    "            .reset_index())"
   ]
  },
  {
   "cell_type": "code",
   "execution_count": 13,
   "id": "educational-chancellor",
   "metadata": {
    "execution": {
     "iopub.execute_input": "2021-07-18T00:20:42.897529Z",
     "iopub.status.busy": "2021-07-18T00:20:42.896831Z",
     "iopub.status.idle": "2021-07-18T00:20:42.910797Z",
     "shell.execute_reply": "2021-07-18T00:20:42.910292Z"
    },
    "papermill": {
     "duration": 0.063297,
     "end_time": "2021-07-18T00:20:42.910931",
     "exception": false,
     "start_time": "2021-07-18T00:20:42.847634",
     "status": "completed"
    },
    "tags": []
   },
   "outputs": [
    {
     "data": {
      "text/html": [
       "<div>\n",
       "<style scoped>\n",
       "    .dataframe tbody tr th:only-of-type {\n",
       "        vertical-align: middle;\n",
       "    }\n",
       "\n",
       "    .dataframe tbody tr th {\n",
       "        vertical-align: top;\n",
       "    }\n",
       "\n",
       "    .dataframe thead th {\n",
       "        text-align: right;\n",
       "    }\n",
       "</style>\n",
       "<table border=\"1\" class=\"dataframe\">\n",
       "  <thead>\n",
       "    <tr style=\"text-align: right;\">\n",
       "      <th></th>\n",
       "      <th>Country/Region</th>\n",
       "      <th>Cases</th>\n",
       "      <th>Deaths</th>\n",
       "      <th>PCases</th>\n",
       "      <th>PDeaths</th>\n",
       "      <th>Cases (+)</th>\n",
       "      <th>Deaths (+)</th>\n",
       "      <th>Fatality Rate</th>\n",
       "      <th>Continent</th>\n",
       "    </tr>\n",
       "  </thead>\n",
       "  <tbody>\n",
       "    <tr>\n",
       "      <th>0</th>\n",
       "      <td>US</td>\n",
       "      <td>34054952</td>\n",
       "      <td>608815</td>\n",
       "      <td>33975642</td>\n",
       "      <td>608398</td>\n",
       "      <td>79310</td>\n",
       "      <td>417</td>\n",
       "      <td>1.79</td>\n",
       "      <td>North America</td>\n",
       "    </tr>\n",
       "    <tr>\n",
       "      <th>1</th>\n",
       "      <td>India</td>\n",
       "      <td>31064908</td>\n",
       "      <td>413091</td>\n",
       "      <td>31026829</td>\n",
       "      <td>412531</td>\n",
       "      <td>38079</td>\n",
       "      <td>560</td>\n",
       "      <td>1.33</td>\n",
       "      <td>Asia</td>\n",
       "    </tr>\n",
       "    <tr>\n",
       "      <th>2</th>\n",
       "      <td>Brazil</td>\n",
       "      <td>19308109</td>\n",
       "      <td>540398</td>\n",
       "      <td>19262518</td>\n",
       "      <td>538942</td>\n",
       "      <td>45591</td>\n",
       "      <td>1456</td>\n",
       "      <td>2.80</td>\n",
       "      <td>South America</td>\n",
       "    </tr>\n",
       "    <tr>\n",
       "      <th>3</th>\n",
       "      <td>France</td>\n",
       "      <td>5906448</td>\n",
       "      <td>111641</td>\n",
       "      <td>5895453</td>\n",
       "      <td>111619</td>\n",
       "      <td>10995</td>\n",
       "      <td>22</td>\n",
       "      <td>1.89</td>\n",
       "      <td>Europe</td>\n",
       "    </tr>\n",
       "    <tr>\n",
       "      <th>4</th>\n",
       "      <td>Russia</td>\n",
       "      <td>5835523</td>\n",
       "      <td>144446</td>\n",
       "      <td>5810335</td>\n",
       "      <td>143657</td>\n",
       "      <td>25188</td>\n",
       "      <td>789</td>\n",
       "      <td>2.48</td>\n",
       "      <td>Europe</td>\n",
       "    </tr>\n",
       "  </tbody>\n",
       "</table>\n",
       "</div>"
      ],
      "text/plain": [
       "  Country/Region     Cases  Deaths    PCases  PDeaths  Cases (+)  Deaths (+)  \\\n",
       "0             US  34054952  608815  33975642   608398      79310         417   \n",
       "1          India  31064908  413091  31026829   412531      38079         560   \n",
       "2         Brazil  19308109  540398  19262518   538942      45591        1456   \n",
       "3         France   5906448  111641   5895453   111619      10995          22   \n",
       "4         Russia   5835523  144446   5810335   143657      25188         789   \n",
       "\n",
       "   Fatality Rate      Continent  \n",
       "0           1.79  North America  \n",
       "1           1.33           Asia  \n",
       "2           2.80  South America  \n",
       "3           1.89         Europe  \n",
       "4           2.48         Europe  "
      ]
     },
     "execution_count": 13,
     "metadata": {},
     "output_type": "execute_result"
    }
   ],
   "source": [
    "#hide\n",
    "for c in 'Cases, Deaths'.split(', '):\n",
    "    df_table[f'{c} (+)'] = (df_table[c] - df_table[f'P{c}']).clip(0)\n",
    "    #Clip ça veut dire, les chiffres negatif sont interdit\n",
    "df_table['Fatality Rate'] = (100* df_table['Deaths']/ df_table['Cases']).round(2)\n",
    "df_table['Continent'] = df_table['Country/Region'].map(mapping['map.continent'])\n",
    "df_table.head(5)"
   ]
  },
  {
   "cell_type": "code",
   "execution_count": 14,
   "id": "aboriginal-bulgaria",
   "metadata": {
    "execution": {
     "iopub.execute_input": "2021-07-18T00:20:42.990536Z",
     "iopub.status.busy": "2021-07-18T00:20:42.989969Z",
     "iopub.status.idle": "2021-07-18T00:20:42.991807Z",
     "shell.execute_reply": "2021-07-18T00:20:42.992405Z"
    },
    "papermill": {
     "duration": 0.045499,
     "end_time": "2021-07-18T00:20:42.992555",
     "exception": false,
     "start_time": "2021-07-18T00:20:42.947056",
     "status": "completed"
    },
    "tags": []
   },
   "outputs": [],
   "source": [
    "#hide\n",
    "#delete problematic countries from table\n",
    "df_table = df_table[~df_table['Country/Region'].isin(['Cape Verde', 'Cruise Ship', 'Kosovo'])]"
   ]
  },
  {
   "cell_type": "code",
   "execution_count": 15,
   "id": "fantastic-effect",
   "metadata": {
    "execution": {
     "iopub.execute_input": "2021-07-18T00:20:43.078558Z",
     "iopub.status.busy": "2021-07-18T00:20:43.077942Z",
     "iopub.status.idle": "2021-07-18T00:20:43.100569Z",
     "shell.execute_reply": "2021-07-18T00:20:43.100006Z"
    },
    "papermill": {
     "duration": 0.072298,
     "end_time": "2021-07-18T00:20:43.100721",
     "exception": false,
     "start_time": "2021-07-18T00:20:43.028423",
     "status": "completed"
    },
    "tags": []
   },
   "outputs": [
    {
     "data": {
      "text/html": [
       "<div>\n",
       "<style scoped>\n",
       "    .dataframe tbody tr th:only-of-type {\n",
       "        vertical-align: middle;\n",
       "    }\n",
       "\n",
       "    .dataframe tbody tr th {\n",
       "        vertical-align: top;\n",
       "    }\n",
       "\n",
       "    .dataframe thead th {\n",
       "        text-align: right;\n",
       "    }\n",
       "</style>\n",
       "<table border=\"1\" class=\"dataframe\">\n",
       "  <thead>\n",
       "    <tr style=\"text-align: right;\">\n",
       "      <th></th>\n",
       "      <th>Country/Region</th>\n",
       "      <th>Cases</th>\n",
       "      <th>Deaths</th>\n",
       "      <th>PCases</th>\n",
       "      <th>PDeaths</th>\n",
       "      <th>Cases (+)</th>\n",
       "      <th>Deaths (+)</th>\n",
       "      <th>Fatality Rate</th>\n",
       "      <th>Continent</th>\n",
       "    </tr>\n",
       "  </thead>\n",
       "  <tbody>\n",
       "    <tr>\n",
       "      <th>0</th>\n",
       "      <td>US</td>\n",
       "      <td>34054952</td>\n",
       "      <td>608815</td>\n",
       "      <td>33975642</td>\n",
       "      <td>608398</td>\n",
       "      <td>79310</td>\n",
       "      <td>417</td>\n",
       "      <td>1.8</td>\n",
       "      <td>North America</td>\n",
       "    </tr>\n",
       "    <tr>\n",
       "      <th>1</th>\n",
       "      <td>India</td>\n",
       "      <td>31064908</td>\n",
       "      <td>413091</td>\n",
       "      <td>31026829</td>\n",
       "      <td>412531</td>\n",
       "      <td>38079</td>\n",
       "      <td>560</td>\n",
       "      <td>1.3</td>\n",
       "      <td>Asia</td>\n",
       "    </tr>\n",
       "    <tr>\n",
       "      <th>2</th>\n",
       "      <td>Brazil</td>\n",
       "      <td>19308109</td>\n",
       "      <td>540398</td>\n",
       "      <td>19262518</td>\n",
       "      <td>538942</td>\n",
       "      <td>45591</td>\n",
       "      <td>1456</td>\n",
       "      <td>2.8</td>\n",
       "      <td>South America</td>\n",
       "    </tr>\n",
       "    <tr>\n",
       "      <th>3</th>\n",
       "      <td>France</td>\n",
       "      <td>5906448</td>\n",
       "      <td>111641</td>\n",
       "      <td>5895453</td>\n",
       "      <td>111619</td>\n",
       "      <td>10995</td>\n",
       "      <td>22</td>\n",
       "      <td>1.9</td>\n",
       "      <td>Europe</td>\n",
       "    </tr>\n",
       "    <tr>\n",
       "      <th>4</th>\n",
       "      <td>Russia</td>\n",
       "      <td>5835523</td>\n",
       "      <td>144446</td>\n",
       "      <td>5810335</td>\n",
       "      <td>143657</td>\n",
       "      <td>25188</td>\n",
       "      <td>789</td>\n",
       "      <td>2.5</td>\n",
       "      <td>Europe</td>\n",
       "    </tr>\n",
       "  </tbody>\n",
       "</table>\n",
       "</div>"
      ],
      "text/plain": [
       "  Country/Region     Cases  Deaths    PCases  PDeaths  Cases (+)  Deaths (+)  \\\n",
       "0             US  34054952  608815  33975642   608398      79310         417   \n",
       "1          India  31064908  413091  31026829   412531      38079         560   \n",
       "2         Brazil  19308109  540398  19262518   538942      45591        1456   \n",
       "3         France   5906448  111641   5895453   111619      10995          22   \n",
       "4         Russia   5835523  144446   5810335   143657      25188         789   \n",
       "\n",
       "   Fatality Rate      Continent  \n",
       "0            1.8  North America  \n",
       "1            1.3           Asia  \n",
       "2            2.8  South America  \n",
       "3            1.9         Europe  \n",
       "4            2.5         Europe  "
      ]
     },
     "execution_count": 15,
     "metadata": {},
     "output_type": "execute_result"
    }
   ],
   "source": [
    "#hide\n",
    "df_table = (pd.DataFrame(dict(Cases=dfc_cases, Deaths=dfc_deaths, PCases=dfp_cases, PDeaths=dfp_deaths))\n",
    "             .sort_values(by=['Cases', 'Deaths'], ascending=[False, False])\n",
    "             .reset_index())\n",
    "df_table.rename(columns={'index': 'Country/Region'}, inplace=True)\n",
    "for c in 'Cases, Deaths'.split(', '):\n",
    "    df_table[f'{c} (+)'] = (df_table[c] - df_table[f'P{c}']).clip(0)  # DATA BUG\n",
    "df_table['Fatality Rate'] = (100 * df_table['Deaths'] / df_table['Cases']).round(1)\n",
    "df_table['Continent'] = df_table['Country/Region'].map(mapping['map.continent'])\n",
    "df_table.head(5)"
   ]
  },
  {
   "cell_type": "code",
   "execution_count": 16,
   "id": "fewer-occasion",
   "metadata": {
    "execution": {
     "iopub.execute_input": "2021-07-18T00:20:43.187529Z",
     "iopub.status.busy": "2021-07-18T00:20:43.186734Z",
     "iopub.status.idle": "2021-07-18T00:20:43.189603Z",
     "shell.execute_reply": "2021-07-18T00:20:43.189025Z"
    },
    "papermill": {
     "duration": 0.048596,
     "end_time": "2021-07-18T00:20:43.189819",
     "exception": false,
     "start_time": "2021-07-18T00:20:43.141223",
     "status": "completed"
    },
    "tags": []
   },
   "outputs": [],
   "source": [
    "#hide\n",
    "#delete problematic countries from table\n",
    "df_table = df_table[~df_table['Country/Region'].isin(['Cape Verde', 'Cruise Ship', 'Kosovo'])]"
   ]
  },
  {
   "cell_type": "code",
   "execution_count": 17,
   "id": "related-center",
   "metadata": {
    "execution": {
     "iopub.execute_input": "2021-07-18T00:20:43.286221Z",
     "iopub.status.busy": "2021-07-18T00:20:43.285627Z",
     "iopub.status.idle": "2021-07-18T00:20:43.288428Z",
     "shell.execute_reply": "2021-07-18T00:20:43.287965Z"
    },
    "papermill": {
     "duration": 0.05972,
     "end_time": "2021-07-18T00:20:43.288544",
     "exception": false,
     "start_time": "2021-07-18T00:20:43.228824",
     "status": "completed"
    },
    "tags": []
   },
   "outputs": [],
   "source": [
    "#hide\n",
    "metrics = [df_table.columns[index] for index in [1,2,5,6]]\n",
    "# s_china = df_table[df_table['Country/Region'].eq('China')][metrics].sum().add_prefix('China ')\n",
    "s_us = df_table[df_table['Country/Region'].eq('US')][metrics].sum().add_prefix('US ')\n",
    "s_eu = df_table[df_table['Continent'].eq('Europe')][metrics].sum().add_prefix('EU ')\n",
    "s_ind = df_table[df_table['Country/Region'].eq('India')][metrics].sum().add_prefix('India ')\n",
    "summary = {'updated': pd.to_datetime(dt_today), 'since': pd.to_datetime(dt_yday)}\n",
    "summary = {'updated': pd.to_datetime(dt_today), 'since': pd.to_datetime(dt_yday)}\n",
    "summary = {**summary, **df_table[metrics].sum(), **s_ind, **s_us, **s_eu}"
   ]
  },
  {
   "cell_type": "code",
   "execution_count": 18,
   "id": "engaging-syndrome",
   "metadata": {
    "execution": {
     "iopub.execute_input": "2021-07-18T00:20:43.362800Z",
     "iopub.status.busy": "2021-07-18T00:20:43.362274Z",
     "iopub.status.idle": "2021-07-18T00:20:43.376362Z",
     "shell.execute_reply": "2021-07-18T00:20:43.375875Z"
    },
    "papermill": {
     "duration": 0.053959,
     "end_time": "2021-07-18T00:20:43.376477",
     "exception": false,
     "start_time": "2021-07-18T00:20:43.322518",
     "status": "completed"
    },
    "tags": []
   },
   "outputs": [],
   "source": [
    "#hide\n",
    "dft_ct_new_cases = dft_cases.groupby(COL_REGION)[dt_cols].sum().diff(axis=1).fillna(0).astype(int)"
   ]
  },
  {
   "cell_type": "code",
   "execution_count": 19,
   "id": "neutral-assignment",
   "metadata": {
    "execution": {
     "iopub.execute_input": "2021-07-18T00:20:43.458324Z",
     "iopub.status.busy": "2021-07-18T00:20:43.457766Z",
     "iopub.status.idle": "2021-07-18T00:20:43.460350Z",
     "shell.execute_reply": "2021-07-18T00:20:43.459870Z"
    },
    "papermill": {
     "duration": 0.045784,
     "end_time": "2021-07-18T00:20:43.460469",
     "exception": false,
     "start_time": "2021-07-18T00:20:43.414685",
     "status": "completed"
    },
    "tags": []
   },
   "outputs": [],
   "source": [
    "#hide\n",
    "everydaycases = dft_ct_new_cases.cumsum(axis=1)"
   ]
  },
  {
   "cell_type": "code",
   "execution_count": 20,
   "id": "parliamentary-calgary",
   "metadata": {
    "execution": {
     "iopub.execute_input": "2021-07-18T00:20:43.534216Z",
     "iopub.status.busy": "2021-07-18T00:20:43.533582Z",
     "iopub.status.idle": "2021-07-18T00:20:44.179802Z",
     "shell.execute_reply": "2021-07-18T00:20:44.179315Z"
    },
    "papermill": {
     "duration": 0.685781,
     "end_time": "2021-07-18T00:20:44.179935",
     "exception": false,
     "start_time": "2021-07-18T00:20:43.494154",
     "status": "completed"
    },
    "tags": []
   },
   "outputs": [],
   "source": [
    "#hide\n",
    "import pandas as pd\n",
    "import matplotlib.pyplot as plt\n",
    "import matplotlib.ticker as ticker\n",
    "import matplotlib.animation as animation\n",
    "from IPython.display import HTML"
   ]
  },
  {
   "cell_type": "code",
   "execution_count": 21,
   "id": "lasting-extraction",
   "metadata": {
    "execution": {
     "iopub.execute_input": "2021-07-18T00:20:44.257782Z",
     "iopub.status.busy": "2021-07-18T00:20:44.257124Z",
     "iopub.status.idle": "2021-07-18T00:20:44.262941Z",
     "shell.execute_reply": "2021-07-18T00:20:44.262390Z"
    },
    "papermill": {
     "duration": 0.049073,
     "end_time": "2021-07-18T00:20:44.263056",
     "exception": false,
     "start_time": "2021-07-18T00:20:44.213983",
     "status": "completed"
    },
    "tags": []
   },
   "outputs": [],
   "source": [
    "#hide\n",
    "t = everydaycases.stack()"
   ]
  },
  {
   "cell_type": "code",
   "execution_count": 22,
   "id": "premier-sleeve",
   "metadata": {
    "execution": {
     "iopub.execute_input": "2021-07-18T00:20:44.353606Z",
     "iopub.status.busy": "2021-07-18T00:20:44.352833Z",
     "iopub.status.idle": "2021-07-18T00:20:44.361280Z",
     "shell.execute_reply": "2021-07-18T00:20:44.361777Z"
    },
    "papermill": {
     "duration": 0.061727,
     "end_time": "2021-07-18T00:20:44.361926",
     "exception": false,
     "start_time": "2021-07-18T00:20:44.300199",
     "status": "completed"
    },
    "tags": []
   },
   "outputs": [],
   "source": [
    "#hide\n",
    "g = t.reset_index(['Country/Region'])"
   ]
  },
  {
   "cell_type": "code",
   "execution_count": 23,
   "id": "distributed-pittsburgh",
   "metadata": {
    "execution": {
     "iopub.execute_input": "2021-07-18T00:20:44.448185Z",
     "iopub.status.busy": "2021-07-18T00:20:44.446690Z",
     "iopub.status.idle": "2021-07-18T00:20:44.448925Z",
     "shell.execute_reply": "2021-07-18T00:20:44.449514Z"
    },
    "papermill": {
     "duration": 0.047495,
     "end_time": "2021-07-18T00:20:44.449657",
     "exception": false,
     "start_time": "2021-07-18T00:20:44.402162",
     "status": "completed"
    },
    "tags": []
   },
   "outputs": [],
   "source": [
    "#hide\n",
    "g.index.name = 'date'"
   ]
  },
  {
   "cell_type": "code",
   "execution_count": 24,
   "id": "naked-donor",
   "metadata": {
    "execution": {
     "iopub.execute_input": "2021-07-18T00:20:44.527640Z",
     "iopub.status.busy": "2021-07-18T00:20:44.527073Z",
     "iopub.status.idle": "2021-07-18T00:20:44.528726Z",
     "shell.execute_reply": "2021-07-18T00:20:44.529387Z"
    },
    "papermill": {
     "duration": 0.043346,
     "end_time": "2021-07-18T00:20:44.529564",
     "exception": false,
     "start_time": "2021-07-18T00:20:44.486218",
     "status": "completed"
    },
    "tags": []
   },
   "outputs": [],
   "source": [
    "# #hide\n",
    "# g = g.reset_index(['date'])"
   ]
  },
  {
   "cell_type": "code",
   "execution_count": 25,
   "id": "incomplete-mustang",
   "metadata": {
    "execution": {
     "iopub.execute_input": "2021-07-18T00:20:44.610708Z",
     "iopub.status.busy": "2021-07-18T00:20:44.609437Z",
     "iopub.status.idle": "2021-07-18T00:20:44.611522Z",
     "shell.execute_reply": "2021-07-18T00:20:44.612164Z"
    },
    "papermill": {
     "duration": 0.045324,
     "end_time": "2021-07-18T00:20:44.612302",
     "exception": false,
     "start_time": "2021-07-18T00:20:44.566978",
     "status": "completed"
    },
    "tags": []
   },
   "outputs": [],
   "source": [
    "#hide\n",
    "# g.head()"
   ]
  },
  {
   "cell_type": "code",
   "execution_count": 26,
   "id": "specific-kruger",
   "metadata": {
    "execution": {
     "iopub.execute_input": "2021-07-18T00:20:44.692164Z",
     "iopub.status.busy": "2021-07-18T00:20:44.691588Z",
     "iopub.status.idle": "2021-07-18T00:20:44.693992Z",
     "shell.execute_reply": "2021-07-18T00:20:44.693509Z"
    },
    "papermill": {
     "duration": 0.044924,
     "end_time": "2021-07-18T00:20:44.694107",
     "exception": false,
     "start_time": "2021-07-18T00:20:44.649183",
     "status": "completed"
    },
    "tags": []
   },
   "outputs": [],
   "source": [
    "#hide\n",
    "# g.columns = ['date','country','cases']"
   ]
  },
  {
   "cell_type": "code",
   "execution_count": 27,
   "id": "tender-conversion",
   "metadata": {
    "execution": {
     "iopub.execute_input": "2021-07-18T00:20:44.771823Z",
     "iopub.status.busy": "2021-07-18T00:20:44.771278Z",
     "iopub.status.idle": "2021-07-18T00:20:44.773486Z",
     "shell.execute_reply": "2021-07-18T00:20:44.773996Z"
    },
    "papermill": {
     "duration": 0.044337,
     "end_time": "2021-07-18T00:20:44.774125",
     "exception": false,
     "start_time": "2021-07-18T00:20:44.729788",
     "status": "completed"
    },
    "tags": []
   },
   "outputs": [],
   "source": [
    "#hide\n",
    "# g['continent'] = g.country"
   ]
  },
  {
   "cell_type": "code",
   "execution_count": 28,
   "id": "substantial-wilderness",
   "metadata": {
    "execution": {
     "iopub.execute_input": "2021-07-18T00:20:44.855320Z",
     "iopub.status.busy": "2021-07-18T00:20:44.854632Z",
     "iopub.status.idle": "2021-07-18T00:20:44.856866Z",
     "shell.execute_reply": "2021-07-18T00:20:44.857362Z"
    },
    "papermill": {
     "duration": 0.045553,
     "end_time": "2021-07-18T00:20:44.857500",
     "exception": false,
     "start_time": "2021-07-18T00:20:44.811947",
     "status": "completed"
    },
    "tags": []
   },
   "outputs": [],
   "source": [
    "#hide\n",
    "# cols = list(g.columns.values)"
   ]
  },
  {
   "cell_type": "code",
   "execution_count": 29,
   "id": "solved-farming",
   "metadata": {
    "execution": {
     "iopub.execute_input": "2021-07-18T00:20:44.937717Z",
     "iopub.status.busy": "2021-07-18T00:20:44.936992Z",
     "iopub.status.idle": "2021-07-18T00:20:44.938648Z",
     "shell.execute_reply": "2021-07-18T00:20:44.939280Z"
    },
    "papermill": {
     "duration": 0.044707,
     "end_time": "2021-07-18T00:20:44.939419",
     "exception": false,
     "start_time": "2021-07-18T00:20:44.894712",
     "status": "completed"
    },
    "tags": []
   },
   "outputs": [],
   "source": [
    "#hide\n",
    "# cols.insert(0, cols.pop())"
   ]
  },
  {
   "cell_type": "code",
   "execution_count": 30,
   "id": "executed-adoption",
   "metadata": {
    "execution": {
     "iopub.execute_input": "2021-07-18T00:20:45.015017Z",
     "iopub.status.busy": "2021-07-18T00:20:45.014387Z",
     "iopub.status.idle": "2021-07-18T00:20:45.016995Z",
     "shell.execute_reply": "2021-07-18T00:20:45.016403Z"
    },
    "papermill": {
     "duration": 0.042176,
     "end_time": "2021-07-18T00:20:45.017114",
     "exception": false,
     "start_time": "2021-07-18T00:20:44.974938",
     "status": "completed"
    },
    "tags": []
   },
   "outputs": [],
   "source": [
    "#hide\n",
    "# g = g[cols]"
   ]
  },
  {
   "cell_type": "code",
   "execution_count": 31,
   "id": "subject-dublin",
   "metadata": {
    "execution": {
     "iopub.execute_input": "2021-07-18T00:20:45.094885Z",
     "iopub.status.busy": "2021-07-18T00:20:45.094323Z",
     "iopub.status.idle": "2021-07-18T00:20:45.096550Z",
     "shell.execute_reply": "2021-07-18T00:20:45.096095Z"
    },
    "papermill": {
     "duration": 0.044456,
     "end_time": "2021-07-18T00:20:45.096660",
     "exception": false,
     "start_time": "2021-07-18T00:20:45.052204",
     "status": "completed"
    },
    "tags": []
   },
   "outputs": [],
   "source": [
    "#hide\n",
    "# g['continent'] = g['continent'].map(mapping['map.continent'])"
   ]
  },
  {
   "cell_type": "code",
   "execution_count": 32,
   "id": "freelance-scout",
   "metadata": {
    "execution": {
     "iopub.execute_input": "2021-07-18T00:20:45.169746Z",
     "iopub.status.busy": "2021-07-18T00:20:45.169099Z",
     "iopub.status.idle": "2021-07-18T00:20:45.171158Z",
     "shell.execute_reply": "2021-07-18T00:20:45.170707Z"
    },
    "papermill": {
     "duration": 0.0401,
     "end_time": "2021-07-18T00:20:45.171269",
     "exception": false,
     "start_time": "2021-07-18T00:20:45.131169",
     "status": "completed"
    },
    "tags": []
   },
   "outputs": [],
   "source": [
    "#hide\n",
    "# g.head()"
   ]
  },
  {
   "cell_type": "code",
   "execution_count": 33,
   "id": "limited-engine",
   "metadata": {
    "execution": {
     "iopub.execute_input": "2021-07-18T00:20:45.244923Z",
     "iopub.status.busy": "2021-07-18T00:20:45.244323Z",
     "iopub.status.idle": "2021-07-18T00:20:45.247030Z",
     "shell.execute_reply": "2021-07-18T00:20:45.246533Z"
    },
    "papermill": {
     "duration": 0.041637,
     "end_time": "2021-07-18T00:20:45.247177",
     "exception": false,
     "start_time": "2021-07-18T00:20:45.205540",
     "status": "completed"
    },
    "tags": []
   },
   "outputs": [],
   "source": [
    "# hide\n",
    "# g['date'] = g['date'].astype('datetime64[ns]')"
   ]
  },
  {
   "cell_type": "code",
   "execution_count": 34,
   "id": "sophisticated-supervisor",
   "metadata": {
    "execution": {
     "iopub.execute_input": "2021-07-18T00:20:45.323033Z",
     "iopub.status.busy": "2021-07-18T00:20:45.322479Z",
     "iopub.status.idle": "2021-07-18T00:20:45.324576Z",
     "shell.execute_reply": "2021-07-18T00:20:45.325126Z"
    },
    "papermill": {
     "duration": 0.04043,
     "end_time": "2021-07-18T00:20:45.325320",
     "exception": false,
     "start_time": "2021-07-18T00:20:45.284890",
     "status": "completed"
    },
    "tags": []
   },
   "outputs": [],
   "source": [
    "#hide\n",
    "# g['date'] = g.date.dt.dayofyear"
   ]
  },
  {
   "cell_type": "code",
   "execution_count": 35,
   "id": "inside-dubai",
   "metadata": {
    "execution": {
     "iopub.execute_input": "2021-07-18T00:20:45.396413Z",
     "iopub.status.busy": "2021-07-18T00:20:45.395775Z",
     "iopub.status.idle": "2021-07-18T00:20:45.399415Z",
     "shell.execute_reply": "2021-07-18T00:20:45.400429Z"
    },
    "papermill": {
     "duration": 0.040821,
     "end_time": "2021-07-18T00:20:45.400692",
     "exception": false,
     "start_time": "2021-07-18T00:20:45.359871",
     "status": "completed"
    },
    "tags": []
   },
   "outputs": [],
   "source": [
    "#hide\n",
    "# g = g.rename(columns= {'continent':'group','country':'name','cases':'value'})"
   ]
  },
  {
   "cell_type": "code",
   "execution_count": 36,
   "id": "fleet-motorcycle",
   "metadata": {
    "execution": {
     "iopub.execute_input": "2021-07-18T00:20:45.475508Z",
     "iopub.status.busy": "2021-07-18T00:20:45.474889Z",
     "iopub.status.idle": "2021-07-18T00:20:45.476877Z",
     "shell.execute_reply": "2021-07-18T00:20:45.477466Z"
    },
    "papermill": {
     "duration": 0.041037,
     "end_time": "2021-07-18T00:20:45.477583",
     "exception": false,
     "start_time": "2021-07-18T00:20:45.436546",
     "status": "completed"
    },
    "tags": []
   },
   "outputs": [],
   "source": [
    "#hide\n",
    "# cols = ['name','group','day','value']"
   ]
  },
  {
   "cell_type": "code",
   "execution_count": 37,
   "id": "continued-sleeping",
   "metadata": {
    "execution": {
     "iopub.execute_input": "2021-07-18T00:20:45.547816Z",
     "iopub.status.busy": "2021-07-18T00:20:45.547115Z",
     "iopub.status.idle": "2021-07-18T00:20:45.549771Z",
     "shell.execute_reply": "2021-07-18T00:20:45.549033Z"
    },
    "papermill": {
     "duration": 0.041447,
     "end_time": "2021-07-18T00:20:45.549899",
     "exception": false,
     "start_time": "2021-07-18T00:20:45.508452",
     "status": "completed"
    },
    "tags": []
   },
   "outputs": [],
   "source": [
    "#hide\n",
    "# g.rename(columns= {'date':'day'},inplace = True)"
   ]
  },
  {
   "cell_type": "code",
   "execution_count": 38,
   "id": "major-fight",
   "metadata": {
    "execution": {
     "iopub.execute_input": "2021-07-18T00:20:45.626943Z",
     "iopub.status.busy": "2021-07-18T00:20:45.626289Z",
     "iopub.status.idle": "2021-07-18T00:20:45.628204Z",
     "shell.execute_reply": "2021-07-18T00:20:45.628670Z"
    },
    "papermill": {
     "duration": 0.041438,
     "end_time": "2021-07-18T00:20:45.628811",
     "exception": false,
     "start_time": "2021-07-18T00:20:45.587373",
     "status": "completed"
    },
    "tags": []
   },
   "outputs": [],
   "source": [
    "#hide\n",
    "# g = g[cols]"
   ]
  },
  {
   "cell_type": "code",
   "execution_count": 39,
   "id": "structured-mobile",
   "metadata": {
    "execution": {
     "iopub.execute_input": "2021-07-18T00:20:45.706172Z",
     "iopub.status.busy": "2021-07-18T00:20:45.705584Z",
     "iopub.status.idle": "2021-07-18T00:20:45.707654Z",
     "shell.execute_reply": "2021-07-18T00:20:45.707090Z"
    },
    "papermill": {
     "duration": 0.04226,
     "end_time": "2021-07-18T00:20:45.707767",
     "exception": false,
     "start_time": "2021-07-18T00:20:45.665507",
     "status": "completed"
    },
    "tags": []
   },
   "outputs": [],
   "source": [
    "# #hide\n",
    "# g = g[g.group.notna()]"
   ]
  },
  {
   "cell_type": "code",
   "execution_count": 40,
   "id": "determined-closing",
   "metadata": {
    "execution": {
     "iopub.execute_input": "2021-07-18T00:20:45.781990Z",
     "iopub.status.busy": "2021-07-18T00:20:45.781405Z",
     "iopub.status.idle": "2021-07-18T00:20:45.782697Z",
     "shell.execute_reply": "2021-07-18T00:20:45.783289Z"
    },
    "papermill": {
     "duration": 0.040246,
     "end_time": "2021-07-18T00:20:45.783494",
     "exception": false,
     "start_time": "2021-07-18T00:20:45.743248",
     "status": "completed"
    },
    "tags": []
   },
   "outputs": [],
   "source": [
    "# #hide\n",
    "# colors = dict(zip(\n",
    "#     [\"Oceania\", \"Europe\", \"Asia\", \"South America\", \"Middle East\", \"North America\", \"Africa\"],\n",
    "#     [\"#adb0ff\", \"#ffb3ff\", \"#90d595\", \"#e48381\", \"#aafbff\", \"#f7bb5f\", \"#eafb50\"]\n",
    "# ))\n",
    "# group_lk = g.set_index('name')['group'].to_dict()"
   ]
  },
  {
   "cell_type": "code",
   "execution_count": null,
   "id": "gross-drinking",
   "metadata": {
    "papermill": {
     "duration": 0.034508,
     "end_time": "2021-07-18T00:20:45.852642",
     "exception": false,
     "start_time": "2021-07-18T00:20:45.818134",
     "status": "completed"
    },
    "tags": []
   },
   "outputs": [],
   "source": []
  },
  {
   "cell_type": "code",
   "execution_count": 41,
   "id": "subject-macintosh",
   "metadata": {
    "execution": {
     "iopub.execute_input": "2021-07-18T00:20:45.936066Z",
     "iopub.status.busy": "2021-07-18T00:20:45.935508Z",
     "iopub.status.idle": "2021-07-18T00:20:45.937310Z",
     "shell.execute_reply": "2021-07-18T00:20:45.937757Z"
    },
    "papermill": {
     "duration": 0.043906,
     "end_time": "2021-07-18T00:20:45.937879",
     "exception": false,
     "start_time": "2021-07-18T00:20:45.893973",
     "status": "completed"
    },
    "tags": []
   },
   "outputs": [],
   "source": [
    "# #hide\n",
    "# fig, ax = plt.subplots(figsize=(15, 8))\n",
    "\n",
    "# def draw_barchart(current_day):\n",
    "#     dff = g[g['day'].eq(current_day)].sort_values(by='value', ascending=True).tail(10)\n",
    "#     ax.clear()\n",
    "#     ax.barh(dff['name'], dff['value'], color=[colors[group_lk[x]] for x in dff['name']])\n",
    "#     dx = dff['value'].max() / 200\n",
    "    \n",
    "#     for i, (value, name) in enumerate(zip(dff['value'], dff['name'])):\n",
    "#         ax.text(value-dx, i,     name,           size=14, weight=600, ha='right', va='bottom')\n",
    "#         ax.text(value-dx, i-.25, group_lk[name], size=10, color='#444444', ha='right', va='baseline')\n",
    "#         ax.text(value+dx, i,     f'{value:,.0f}',  size=14, ha='left',  va='center')\n",
    "#     ax.text(1, 0.4, current_day, transform=ax.transAxes, color='#777777', size=46, ha='right', weight=800)\n",
    "#     ax.text(0, 1.06, 'Population (thousands)', transform=ax.transAxes, size=12, color='#777777')\n",
    "#     ax.xaxis.set_major_formatter(ticker.StrMethodFormatter('{x:,.0f}'))\n",
    "#     ax.xaxis.set_ticks_position('top')\n",
    "#     ax.tick_params(axis='x', colors='#777777', labelsize=12)\n",
    "#     ax.set_yticks([])\n",
    "#     ax.margins(0, 0.01)\n",
    "#     ax.grid(which='major', axis='x', linestyle='-')\n",
    "#     ax.set_axisbelow(True)\n",
    "    \n",
    "#     ax.text(0, 1.15, 'Coronavirus',\n",
    "#             transform=ax.transAxes, size=24, weight=600, ha='left', va='top')\n",
    "# #     ax.text(1, 0, 'by @pratapvardhan; credit @jburnmurdoch', transform=ax.transAxes, color='#777777', ha='right',\n",
    "# #             bbox=dict(facecolor='white', alpha=0.8, edgecolor='white'))\n",
    "#     plt.box(False)"
   ]
  },
  {
   "cell_type": "code",
   "execution_count": 42,
   "id": "sexual-wages",
   "metadata": {
    "execution": {
     "iopub.execute_input": "2021-07-18T00:20:46.012813Z",
     "iopub.status.busy": "2021-07-18T00:20:46.011975Z",
     "iopub.status.idle": "2021-07-18T00:20:46.015211Z",
     "shell.execute_reply": "2021-07-18T00:20:46.014691Z"
    },
    "papermill": {
     "duration": 0.044887,
     "end_time": "2021-07-18T00:20:46.015324",
     "exception": false,
     "start_time": "2021-07-18T00:20:45.970437",
     "status": "completed"
    },
    "tags": []
   },
   "outputs": [],
   "source": [
    "# #hide_input\n",
    "# fig, ax = plt.subplots(figsize=(15, 8))\n",
    "# animator = animation.FuncAnimation(fig, draw_barchart, frames=range(g.day.values.min(), g.day.values.max()))\n",
    "# HTML(animator.to_jshtml())\n",
    "# # or use animator.to_html5_video() or animator.save() "
   ]
  },
  {
   "cell_type": "code",
   "execution_count": null,
   "id": "australian-container",
   "metadata": {
    "papermill": {
     "duration": 0.039094,
     "end_time": "2021-07-18T00:20:46.089863",
     "exception": false,
     "start_time": "2021-07-18T00:20:46.050769",
     "status": "completed"
    },
    "tags": []
   },
   "outputs": [],
   "source": []
  },
  {
   "cell_type": "code",
   "execution_count": null,
   "id": "mediterranean-pontiac",
   "metadata": {
    "papermill": {
     "duration": 0.033048,
     "end_time": "2021-07-18T00:20:46.156365",
     "exception": false,
     "start_time": "2021-07-18T00:20:46.123317",
     "status": "completed"
    },
    "tags": []
   },
   "outputs": [],
   "source": []
  },
  {
   "cell_type": "code",
   "execution_count": null,
   "id": "aging-legislature",
   "metadata": {
    "papermill": {
     "duration": 0.035512,
     "end_time": "2021-07-18T00:20:46.226272",
     "exception": false,
     "start_time": "2021-07-18T00:20:46.190760",
     "status": "completed"
    },
    "tags": []
   },
   "outputs": [],
   "source": []
  }
 ],
 "metadata": {
  "kernelspec": {
   "display_name": "Python 3",
   "language": "python",
   "name": "python3"
  },
  "language_info": {
   "codemirror_mode": {
    "name": "ipython",
    "version": 3
   },
   "file_extension": ".py",
   "mimetype": "text/x-python",
   "name": "python",
   "nbconvert_exporter": "python",
   "pygments_lexer": "ipython3",
   "version": "3.6.14"
  },
  "papermill": {
   "duration": 6.551575,
   "end_time": "2021-07-18T00:20:46.568697",
   "environment_variables": {},
   "exception": null,
   "input_path": "2020-03-21-covid19exp.ipynb",
   "output_path": "2020-03-21-covid19exp.ipynb",
   "parameters": {},
   "start_time": "2021-07-18T00:20:40.017122",
   "version": "2.0.0"
  }
 },
 "nbformat": 4,
 "nbformat_minor": 5
}