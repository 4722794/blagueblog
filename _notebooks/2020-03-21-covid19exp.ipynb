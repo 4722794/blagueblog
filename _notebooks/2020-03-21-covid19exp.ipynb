{
 "cells": [
  {
   "cell_type": "markdown",
   "id": "muslim-click",
   "metadata": {
    "papermill": {
     "duration": 0.033955,
     "end_time": "2022-06-29T12:15:22.817890",
     "exception": false,
     "start_time": "2022-06-29T12:15:22.783935",
     "status": "completed"
    },
    "tags": []
   },
   "source": [
    "# COVID-19 Case Race\n",
    "> A race chart to see rising cases around the world\n",
    "\n",
    "- author: Hargun Oberoi\n",
    "- image: images/covid-overview.png\n",
    "- hide: false\n",
    "- badges: false"
   ]
  },
  {
   "cell_type": "code",
   "execution_count": 1,
   "id": "proof-material",
   "metadata": {
    "execution": {
     "iopub.execute_input": "2022-06-29T12:15:22.889498Z",
     "iopub.status.busy": "2022-06-29T12:15:22.888880Z",
     "iopub.status.idle": "2022-06-29T12:15:23.208654Z",
     "shell.execute_reply": "2022-06-29T12:15:23.208158Z"
    },
    "papermill": {
     "duration": 0.359242,
     "end_time": "2022-06-29T12:15:23.208781",
     "exception": false,
     "start_time": "2022-06-29T12:15:22.849539",
     "status": "completed"
    },
    "tags": []
   },
   "outputs": [],
   "source": [
    "#hide\n",
    "import numpy as np\n",
    "import pandas as pd\n",
    "from jinja2 import Template\n",
    "from IPython.display import HTML"
   ]
  },
  {
   "cell_type": "code",
   "execution_count": 2,
   "id": "developed-terminology",
   "metadata": {
    "execution": {
     "iopub.execute_input": "2022-06-29T12:15:23.273918Z",
     "iopub.status.busy": "2022-06-29T12:15:23.273321Z",
     "iopub.status.idle": "2022-06-29T12:15:23.275714Z",
     "shell.execute_reply": "2022-06-29T12:15:23.275165Z"
    },
    "papermill": {
     "duration": 0.036817,
     "end_time": "2022-06-29T12:15:23.275820",
     "exception": false,
     "start_time": "2022-06-29T12:15:23.239003",
     "status": "completed"
    },
    "tags": []
   },
   "outputs": [],
   "source": [
    "#hide\n",
    "\n",
    "# FETCH\n",
    "base_url = 'https://raw.githubusercontent.com/pratapvardhan/notebooks/master/covid19/'\n",
    "paths = {\n",
    "    'mapping': base_url + 'mapping_countries.csv',\n",
    "    'overview': base_url + 'overview.tpl'\n",
    "}"
   ]
  },
  {
   "cell_type": "code",
   "execution_count": 3,
   "id": "dynamic-saver",
   "metadata": {
    "execution": {
     "iopub.execute_input": "2022-06-29T12:15:23.344195Z",
     "iopub.status.busy": "2022-06-29T12:15:23.343350Z",
     "iopub.status.idle": "2022-06-29T12:15:23.347136Z",
     "shell.execute_reply": "2022-06-29T12:15:23.347594Z"
    },
    "papermill": {
     "duration": 0.041933,
     "end_time": "2022-06-29T12:15:23.347714",
     "exception": false,
     "start_time": "2022-06-29T12:15:23.305781",
     "status": "completed"
    },
    "tags": []
   },
   "outputs": [
    {
     "data": {
      "text/plain": [
       "'https://raw.githubusercontent.com/pratapvardhan/notebooks/master/covid19/mapping_countries.csv'"
      ]
     },
     "execution_count": 3,
     "metadata": {},
     "output_type": "execute_result"
    }
   ],
   "source": [
    "#hide\n",
    "paths['mapping']"
   ]
  },
  {
   "cell_type": "code",
   "execution_count": 4,
   "id": "urban-software",
   "metadata": {
    "execution": {
     "iopub.execute_input": "2022-06-29T12:15:23.413539Z",
     "iopub.status.busy": "2022-06-29T12:15:23.412927Z",
     "iopub.status.idle": "2022-06-29T12:15:23.415356Z",
     "shell.execute_reply": "2022-06-29T12:15:23.414804Z"
    },
    "papermill": {
     "duration": 0.037321,
     "end_time": "2022-06-29T12:15:23.415463",
     "exception": false,
     "start_time": "2022-06-29T12:15:23.378142",
     "status": "completed"
    },
    "tags": []
   },
   "outputs": [],
   "source": [
    "#hide\n",
    "def get_mappings(url):\n",
    "    df = pd.read_csv(url)\n",
    "    return {\n",
    "        'df': df,\n",
    "        'replace.country': dict(df.dropna(subset=['Name']).set_index('Country')['Name']),\n",
    "        'map.continent': dict(df.set_index('Name')['Continent'])\n",
    "    }"
   ]
  },
  {
   "cell_type": "code",
   "execution_count": 5,
   "id": "intimate-machinery",
   "metadata": {
    "execution": {
     "iopub.execute_input": "2022-06-29T12:15:23.481641Z",
     "iopub.status.busy": "2022-06-29T12:15:23.481044Z",
     "iopub.status.idle": "2022-06-29T12:15:23.517710Z",
     "shell.execute_reply": "2022-06-29T12:15:23.517242Z"
    },
    "papermill": {
     "duration": 0.072065,
     "end_time": "2022-06-29T12:15:23.517830",
     "exception": false,
     "start_time": "2022-06-29T12:15:23.445765",
     "status": "completed"
    },
    "tags": []
   },
   "outputs": [],
   "source": [
    "#hide\n",
    "mapping = get_mappings(paths['mapping'])"
   ]
  },
  {
   "cell_type": "code",
   "execution_count": 6,
   "id": "certified-tactics",
   "metadata": {
    "execution": {
     "iopub.execute_input": "2022-06-29T12:15:23.583928Z",
     "iopub.status.busy": "2022-06-29T12:15:23.583359Z",
     "iopub.status.idle": "2022-06-29T12:15:23.585284Z",
     "shell.execute_reply": "2022-06-29T12:15:23.585704Z"
    },
    "papermill": {
     "duration": 0.037385,
     "end_time": "2022-06-29T12:15:23.585819",
     "exception": false,
     "start_time": "2022-06-29T12:15:23.548434",
     "status": "completed"
    },
    "tags": []
   },
   "outputs": [],
   "source": [
    "#hide\n",
    "def get_template(path):\n",
    "    from urllib.parse import urlparse\n",
    "    if bool(urlparse(path).netloc):\n",
    "        from urllib.request import urlopen\n",
    "        return urlopen(path).read().decode('utf8')\n",
    "    return open(path).read()"
   ]
  },
  {
   "cell_type": "code",
   "execution_count": 7,
   "id": "realistic-blast",
   "metadata": {
    "execution": {
     "iopub.execute_input": "2022-06-29T12:15:23.651365Z",
     "iopub.status.busy": "2022-06-29T12:15:23.650775Z",
     "iopub.status.idle": "2022-06-29T12:15:23.652533Z",
     "shell.execute_reply": "2022-06-29T12:15:23.652949Z"
    },
    "papermill": {
     "duration": 0.037043,
     "end_time": "2022-06-29T12:15:23.653083",
     "exception": false,
     "start_time": "2022-06-29T12:15:23.616040",
     "status": "completed"
    },
    "tags": []
   },
   "outputs": [],
   "source": [
    "#hide\n",
    "def get_frame(name):\n",
    "    url = (\n",
    "        'https://raw.githubusercontent.com/CSSEGISandData/COVID-19/master/csse_covid_19_data/'\n",
    "        f'csse_covid_19_time_series/time_series_covid19_{name}_global.csv')\n",
    "    df = pd.read_csv(url)\n",
    "    # rename countries\n",
    "    df['Country/Region'] = df['Country/Region'].replace(mapping['replace.country'])\n",
    "    return df"
   ]
  },
  {
   "cell_type": "code",
   "execution_count": 8,
   "id": "affiliated-characterization",
   "metadata": {
    "execution": {
     "iopub.execute_input": "2022-06-29T12:15:23.719202Z",
     "iopub.status.busy": "2022-06-29T12:15:23.718617Z",
     "iopub.status.idle": "2022-06-29T12:15:23.720929Z",
     "shell.execute_reply": "2022-06-29T12:15:23.721366Z"
    },
    "papermill": {
     "duration": 0.038284,
     "end_time": "2022-06-29T12:15:23.721486",
     "exception": false,
     "start_time": "2022-06-29T12:15:23.683202",
     "status": "completed"
    },
    "tags": []
   },
   "outputs": [],
   "source": [
    "#hide\n",
    "def get_dates(df):\n",
    "    dt_cols = df.columns[~df.columns.isin(['Province/State', 'Country/Region', 'Lat', 'Long'])]\n",
    "    LAST_DATE_I = -1\n",
    "    # sometimes last column may be empty, then go backwards\n",
    "    for i in range(-1, -len(dt_cols), -1):\n",
    "        if not df[dt_cols[i]].fillna(0).eq(0).all():\n",
    "            LAST_DATE_I = i\n",
    "            break\n",
    "    return LAST_DATE_I, dt_cols"
   ]
  },
  {
   "cell_type": "code",
   "execution_count": 9,
   "id": "recent-optimization",
   "metadata": {
    "execution": {
     "iopub.execute_input": "2022-06-29T12:15:23.785880Z",
     "iopub.status.busy": "2022-06-29T12:15:23.785298Z",
     "iopub.status.idle": "2022-06-29T12:15:24.254282Z",
     "shell.execute_reply": "2022-06-29T12:15:24.253802Z"
    },
    "papermill": {
     "duration": 0.502949,
     "end_time": "2022-06-29T12:15:24.254400",
     "exception": false,
     "start_time": "2022-06-29T12:15:23.751451",
     "status": "completed"
    },
    "tags": []
   },
   "outputs": [],
   "source": [
    "#hide\n",
    "COL_REGION = 'Country/Region'\n",
    "# Confirmed, Recovered, Deaths\n",
    "df = get_frame('confirmed')\n",
    "# dft_: timeseries, dfc_: today country agg\n",
    "dft_cases = df\n",
    "dft_deaths = get_frame('deaths')\n",
    "dft_recovered = get_frame('recovered')\n",
    "LAST_DATE_I, dt_cols = get_dates(df)"
   ]
  },
  {
   "cell_type": "code",
   "execution_count": 10,
   "id": "absolute-copper",
   "metadata": {
    "execution": {
     "iopub.execute_input": "2022-06-29T12:15:24.331327Z",
     "iopub.status.busy": "2022-06-29T12:15:24.330701Z",
     "iopub.status.idle": "2022-06-29T12:15:24.333103Z",
     "shell.execute_reply": "2022-06-29T12:15:24.332636Z"
    },
    "papermill": {
     "duration": 0.038384,
     "end_time": "2022-06-29T12:15:24.333214",
     "exception": false,
     "start_time": "2022-06-29T12:15:24.294830",
     "status": "completed"
    },
    "tags": []
   },
   "outputs": [],
   "source": [
    "#hide\n",
    "LAST_DATE_I, dt_cols = get_dates(df)\n",
    "dt_today =dt_cols[LAST_DATE_I]\n",
    "# dt_5day = dt_cols[LAST_DATE_I - 5]\n",
    "dt_yday = dt_cols[LAST_DATE_I - 1]"
   ]
  },
  {
   "cell_type": "code",
   "execution_count": 11,
   "id": "restricted-sheriff",
   "metadata": {
    "execution": {
     "iopub.execute_input": "2022-06-29T12:15:24.400057Z",
     "iopub.status.busy": "2022-06-29T12:15:24.398417Z",
     "iopub.status.idle": "2022-06-29T12:15:24.405627Z",
     "shell.execute_reply": "2022-06-29T12:15:24.406085Z"
    },
    "papermill": {
     "duration": 0.042572,
     "end_time": "2022-06-29T12:15:24.406204",
     "exception": false,
     "start_time": "2022-06-29T12:15:24.363632",
     "status": "completed"
    },
    "tags": []
   },
   "outputs": [],
   "source": [
    "#hide\n",
    "dfc_cases = dft_cases.groupby(COL_REGION)[dt_today].sum()\n",
    "dfc_deaths = dft_deaths.groupby(COL_REGION)[dt_today].sum()\n",
    "# dfp_cases = dft_cases.groupby(COL_REGION)[dt_5day].sum()\n",
    "# dfp_deaths = dft_deaths.groupby(COL_REGION)[dt_5day].sum()\n",
    "dfp_cases = dft_cases.groupby(COL_REGION)[dt_yday].sum()\n",
    "dfp_deaths = dft_deaths.groupby(COL_REGION)[dt_yday].sum()"
   ]
  },
  {
   "cell_type": "code",
   "execution_count": 12,
   "id": "deluxe-hepatitis",
   "metadata": {
    "execution": {
     "iopub.execute_input": "2022-06-29T12:15:24.472774Z",
     "iopub.status.busy": "2022-06-29T12:15:24.472189Z",
     "iopub.status.idle": "2022-06-29T12:15:24.476454Z",
     "shell.execute_reply": "2022-06-29T12:15:24.476876Z"
    },
    "papermill": {
     "duration": 0.040565,
     "end_time": "2022-06-29T12:15:24.476997",
     "exception": false,
     "start_time": "2022-06-29T12:15:24.436432",
     "status": "completed"
    },
    "tags": []
   },
   "outputs": [],
   "source": [
    "#hide\n",
    "df_table = (pd.DataFrame(dict(Cases = dfc_cases, Deaths = dfc_deaths, PCases = dfp_cases, PDeaths = dfp_deaths))\n",
    "            .sort_values(by = ['Cases','Deaths'], ascending = [False, False])\n",
    "            .reset_index())"
   ]
  },
  {
   "cell_type": "code",
   "execution_count": 13,
   "id": "educational-chancellor",
   "metadata": {
    "execution": {
     "iopub.execute_input": "2022-06-29T12:15:24.554965Z",
     "iopub.status.busy": "2022-06-29T12:15:24.554396Z",
     "iopub.status.idle": "2022-06-29T12:15:24.562089Z",
     "shell.execute_reply": "2022-06-29T12:15:24.561550Z"
    },
    "papermill": {
     "duration": 0.054004,
     "end_time": "2022-06-29T12:15:24.562191",
     "exception": false,
     "start_time": "2022-06-29T12:15:24.508187",
     "status": "completed"
    },
    "tags": []
   },
   "outputs": [
    {
     "data": {
      "text/html": [
       "<div>\n",
       "<style scoped>\n",
       "    .dataframe tbody tr th:only-of-type {\n",
       "        vertical-align: middle;\n",
       "    }\n",
       "\n",
       "    .dataframe tbody tr th {\n",
       "        vertical-align: top;\n",
       "    }\n",
       "\n",
       "    .dataframe thead th {\n",
       "        text-align: right;\n",
       "    }\n",
       "</style>\n",
       "<table border=\"1\" class=\"dataframe\">\n",
       "  <thead>\n",
       "    <tr style=\"text-align: right;\">\n",
       "      <th></th>\n",
       "      <th>Country/Region</th>\n",
       "      <th>Cases</th>\n",
       "      <th>Deaths</th>\n",
       "      <th>PCases</th>\n",
       "      <th>PDeaths</th>\n",
       "      <th>Cases (+)</th>\n",
       "      <th>Deaths (+)</th>\n",
       "      <th>Fatality Rate</th>\n",
       "      <th>Continent</th>\n",
       "    </tr>\n",
       "  </thead>\n",
       "  <tbody>\n",
       "    <tr>\n",
       "      <th>0</th>\n",
       "      <td>US</td>\n",
       "      <td>87217673</td>\n",
       "      <td>1016757</td>\n",
       "      <td>87092233</td>\n",
       "      <td>1016208</td>\n",
       "      <td>125440</td>\n",
       "      <td>549</td>\n",
       "      <td>1.17</td>\n",
       "      <td>North America</td>\n",
       "    </tr>\n",
       "    <tr>\n",
       "      <th>1</th>\n",
       "      <td>India</td>\n",
       "      <td>43433345</td>\n",
       "      <td>525077</td>\n",
       "      <td>43418839</td>\n",
       "      <td>525047</td>\n",
       "      <td>14506</td>\n",
       "      <td>30</td>\n",
       "      <td>1.21</td>\n",
       "      <td>Asia</td>\n",
       "    </tr>\n",
       "    <tr>\n",
       "      <th>2</th>\n",
       "      <td>Brazil</td>\n",
       "      <td>32206954</td>\n",
       "      <td>670848</td>\n",
       "      <td>32130316</td>\n",
       "      <td>670532</td>\n",
       "      <td>76638</td>\n",
       "      <td>316</td>\n",
       "      <td>2.08</td>\n",
       "      <td>South America</td>\n",
       "    </tr>\n",
       "    <tr>\n",
       "      <th>3</th>\n",
       "      <td>France</td>\n",
       "      <td>31027099</td>\n",
       "      <td>150482</td>\n",
       "      <td>30879062</td>\n",
       "      <td>150445</td>\n",
       "      <td>148037</td>\n",
       "      <td>37</td>\n",
       "      <td>0.49</td>\n",
       "      <td>Europe</td>\n",
       "    </tr>\n",
       "    <tr>\n",
       "      <th>4</th>\n",
       "      <td>Germany</td>\n",
       "      <td>28048190</td>\n",
       "      <td>141022</td>\n",
       "      <td>27914240</td>\n",
       "      <td>140847</td>\n",
       "      <td>133950</td>\n",
       "      <td>175</td>\n",
       "      <td>0.50</td>\n",
       "      <td>Europe</td>\n",
       "    </tr>\n",
       "  </tbody>\n",
       "</table>\n",
       "</div>"
      ],
      "text/plain": [
       "  Country/Region     Cases   Deaths    PCases  PDeaths  Cases (+)  Deaths (+)  \\\n",
       "0             US  87217673  1016757  87092233  1016208     125440         549   \n",
       "1          India  43433345   525077  43418839   525047      14506          30   \n",
       "2         Brazil  32206954   670848  32130316   670532      76638         316   \n",
       "3         France  31027099   150482  30879062   150445     148037          37   \n",
       "4        Germany  28048190   141022  27914240   140847     133950         175   \n",
       "\n",
       "   Fatality Rate      Continent  \n",
       "0           1.17  North America  \n",
       "1           1.21           Asia  \n",
       "2           2.08  South America  \n",
       "3           0.49         Europe  \n",
       "4           0.50         Europe  "
      ]
     },
     "execution_count": 13,
     "metadata": {},
     "output_type": "execute_result"
    }
   ],
   "source": [
    "#hide\n",
    "for c in 'Cases, Deaths'.split(', '):\n",
    "    df_table[f'{c} (+)'] = (df_table[c] - df_table[f'P{c}']).clip(0)\n",
    "    #Clip ça veut dire, les chiffres negatif sont interdit\n",
    "df_table['Fatality Rate'] = (100* df_table['Deaths']/ df_table['Cases']).round(2)\n",
    "df_table['Continent'] = df_table['Country/Region'].map(mapping['map.continent'])\n",
    "df_table.head(5)"
   ]
  },
  {
   "cell_type": "code",
   "execution_count": 14,
   "id": "aboriginal-bulgaria",
   "metadata": {
    "execution": {
     "iopub.execute_input": "2022-06-29T12:15:24.629712Z",
     "iopub.status.busy": "2022-06-29T12:15:24.629092Z",
     "iopub.status.idle": "2022-06-29T12:15:24.631312Z",
     "shell.execute_reply": "2022-06-29T12:15:24.630778Z"
    },
    "papermill": {
     "duration": 0.038575,
     "end_time": "2022-06-29T12:15:24.631418",
     "exception": false,
     "start_time": "2022-06-29T12:15:24.592843",
     "status": "completed"
    },
    "tags": []
   },
   "outputs": [],
   "source": [
    "#hide\n",
    "#delete problematic countries from table\n",
    "df_table = df_table[~df_table['Country/Region'].isin(['Cape Verde', 'Cruise Ship', 'Kosovo'])]"
   ]
  },
  {
   "cell_type": "code",
   "execution_count": 15,
   "id": "fantastic-effect",
   "metadata": {
    "execution": {
     "iopub.execute_input": "2022-06-29T12:15:24.700540Z",
     "iopub.status.busy": "2022-06-29T12:15:24.699960Z",
     "iopub.status.idle": "2022-06-29T12:15:24.717576Z",
     "shell.execute_reply": "2022-06-29T12:15:24.717111Z"
    },
    "papermill": {
     "duration": 0.055643,
     "end_time": "2022-06-29T12:15:24.717684",
     "exception": false,
     "start_time": "2022-06-29T12:15:24.662041",
     "status": "completed"
    },
    "tags": []
   },
   "outputs": [
    {
     "data": {
      "text/html": [
       "<div>\n",
       "<style scoped>\n",
       "    .dataframe tbody tr th:only-of-type {\n",
       "        vertical-align: middle;\n",
       "    }\n",
       "\n",
       "    .dataframe tbody tr th {\n",
       "        vertical-align: top;\n",
       "    }\n",
       "\n",
       "    .dataframe thead th {\n",
       "        text-align: right;\n",
       "    }\n",
       "</style>\n",
       "<table border=\"1\" class=\"dataframe\">\n",
       "  <thead>\n",
       "    <tr style=\"text-align: right;\">\n",
       "      <th></th>\n",
       "      <th>Country/Region</th>\n",
       "      <th>Cases</th>\n",
       "      <th>Deaths</th>\n",
       "      <th>PCases</th>\n",
       "      <th>PDeaths</th>\n",
       "      <th>Cases (+)</th>\n",
       "      <th>Deaths (+)</th>\n",
       "      <th>Fatality Rate</th>\n",
       "      <th>Continent</th>\n",
       "    </tr>\n",
       "  </thead>\n",
       "  <tbody>\n",
       "    <tr>\n",
       "      <th>0</th>\n",
       "      <td>US</td>\n",
       "      <td>87217673</td>\n",
       "      <td>1016757</td>\n",
       "      <td>87092233</td>\n",
       "      <td>1016208</td>\n",
       "      <td>125440</td>\n",
       "      <td>549</td>\n",
       "      <td>1.2</td>\n",
       "      <td>North America</td>\n",
       "    </tr>\n",
       "    <tr>\n",
       "      <th>1</th>\n",
       "      <td>India</td>\n",
       "      <td>43433345</td>\n",
       "      <td>525077</td>\n",
       "      <td>43418839</td>\n",
       "      <td>525047</td>\n",
       "      <td>14506</td>\n",
       "      <td>30</td>\n",
       "      <td>1.2</td>\n",
       "      <td>Asia</td>\n",
       "    </tr>\n",
       "    <tr>\n",
       "      <th>2</th>\n",
       "      <td>Brazil</td>\n",
       "      <td>32206954</td>\n",
       "      <td>670848</td>\n",
       "      <td>32130316</td>\n",
       "      <td>670532</td>\n",
       "      <td>76638</td>\n",
       "      <td>316</td>\n",
       "      <td>2.1</td>\n",
       "      <td>South America</td>\n",
       "    </tr>\n",
       "    <tr>\n",
       "      <th>3</th>\n",
       "      <td>France</td>\n",
       "      <td>31027099</td>\n",
       "      <td>150482</td>\n",
       "      <td>30879062</td>\n",
       "      <td>150445</td>\n",
       "      <td>148037</td>\n",
       "      <td>37</td>\n",
       "      <td>0.5</td>\n",
       "      <td>Europe</td>\n",
       "    </tr>\n",
       "    <tr>\n",
       "      <th>4</th>\n",
       "      <td>Germany</td>\n",
       "      <td>28048190</td>\n",
       "      <td>141022</td>\n",
       "      <td>27914240</td>\n",
       "      <td>140847</td>\n",
       "      <td>133950</td>\n",
       "      <td>175</td>\n",
       "      <td>0.5</td>\n",
       "      <td>Europe</td>\n",
       "    </tr>\n",
       "  </tbody>\n",
       "</table>\n",
       "</div>"
      ],
      "text/plain": [
       "  Country/Region     Cases   Deaths    PCases  PDeaths  Cases (+)  Deaths (+)  \\\n",
       "0             US  87217673  1016757  87092233  1016208     125440         549   \n",
       "1          India  43433345   525077  43418839   525047      14506          30   \n",
       "2         Brazil  32206954   670848  32130316   670532      76638         316   \n",
       "3         France  31027099   150482  30879062   150445     148037          37   \n",
       "4        Germany  28048190   141022  27914240   140847     133950         175   \n",
       "\n",
       "   Fatality Rate      Continent  \n",
       "0            1.2  North America  \n",
       "1            1.2           Asia  \n",
       "2            2.1  South America  \n",
       "3            0.5         Europe  \n",
       "4            0.5         Europe  "
      ]
     },
     "execution_count": 15,
     "metadata": {},
     "output_type": "execute_result"
    }
   ],
   "source": [
    "#hide\n",
    "df_table = (pd.DataFrame(dict(Cases=dfc_cases, Deaths=dfc_deaths, PCases=dfp_cases, PDeaths=dfp_deaths))\n",
    "             .sort_values(by=['Cases', 'Deaths'], ascending=[False, False])\n",
    "             .reset_index())\n",
    "df_table.rename(columns={'index': 'Country/Region'}, inplace=True)\n",
    "for c in 'Cases, Deaths'.split(', '):\n",
    "    df_table[f'{c} (+)'] = (df_table[c] - df_table[f'P{c}']).clip(0)  # DATA BUG\n",
    "df_table['Fatality Rate'] = (100 * df_table['Deaths'] / df_table['Cases']).round(1)\n",
    "df_table['Continent'] = df_table['Country/Region'].map(mapping['map.continent'])\n",
    "df_table.head(5)"
   ]
  },
  {
   "cell_type": "code",
   "execution_count": 16,
   "id": "fewer-occasion",
   "metadata": {
    "execution": {
     "iopub.execute_input": "2022-06-29T12:15:24.785410Z",
     "iopub.status.busy": "2022-06-29T12:15:24.784821Z",
     "iopub.status.idle": "2022-06-29T12:15:24.787033Z",
     "shell.execute_reply": "2022-06-29T12:15:24.787476Z"
    },
    "papermill": {
     "duration": 0.038682,
     "end_time": "2022-06-29T12:15:24.787590",
     "exception": false,
     "start_time": "2022-06-29T12:15:24.748908",
     "status": "completed"
    },
    "tags": []
   },
   "outputs": [],
   "source": [
    "#hide\n",
    "#delete problematic countries from table\n",
    "df_table = df_table[~df_table['Country/Region'].isin(['Cape Verde', 'Cruise Ship', 'Kosovo'])]"
   ]
  },
  {
   "cell_type": "code",
   "execution_count": 17,
   "id": "related-center",
   "metadata": {
    "execution": {
     "iopub.execute_input": "2022-06-29T12:15:24.861581Z",
     "iopub.status.busy": "2022-06-29T12:15:24.860959Z",
     "iopub.status.idle": "2022-06-29T12:15:24.869151Z",
     "shell.execute_reply": "2022-06-29T12:15:24.868580Z"
    },
    "papermill": {
     "duration": 0.050557,
     "end_time": "2022-06-29T12:15:24.869257",
     "exception": false,
     "start_time": "2022-06-29T12:15:24.818700",
     "status": "completed"
    },
    "tags": []
   },
   "outputs": [],
   "source": [
    "#hide\n",
    "metrics = [df_table.columns[index] for index in [1,2,5,6]]\n",
    "# s_china = df_table[df_table['Country/Region'].eq('China')][metrics].sum().add_prefix('China ')\n",
    "s_us = df_table[df_table['Country/Region'].eq('US')][metrics].sum().add_prefix('US ')\n",
    "s_eu = df_table[df_table['Continent'].eq('Europe')][metrics].sum().add_prefix('EU ')\n",
    "s_ind = df_table[df_table['Country/Region'].eq('India')][metrics].sum().add_prefix('India ')\n",
    "summary = {'updated': pd.to_datetime(dt_today), 'since': pd.to_datetime(dt_yday)}\n",
    "summary = {'updated': pd.to_datetime(dt_today), 'since': pd.to_datetime(dt_yday)}\n",
    "summary = {**summary, **df_table[metrics].sum(), **s_ind, **s_us, **s_eu}"
   ]
  },
  {
   "cell_type": "code",
   "execution_count": 18,
   "id": "engaging-syndrome",
   "metadata": {
    "execution": {
     "iopub.execute_input": "2022-06-29T12:15:24.936460Z",
     "iopub.status.busy": "2022-06-29T12:15:24.935881Z",
     "iopub.status.idle": "2022-06-29T12:15:24.954508Z",
     "shell.execute_reply": "2022-06-29T12:15:24.954966Z"
    },
    "papermill": {
     "duration": 0.054686,
     "end_time": "2022-06-29T12:15:24.955094",
     "exception": false,
     "start_time": "2022-06-29T12:15:24.900408",
     "status": "completed"
    },
    "tags": []
   },
   "outputs": [],
   "source": [
    "#hide\n",
    "dft_ct_new_cases = dft_cases.groupby(COL_REGION)[dt_cols].sum().diff(axis=1).fillna(0).astype(int)"
   ]
  },
  {
   "cell_type": "code",
   "execution_count": 19,
   "id": "neutral-assignment",
   "metadata": {
    "execution": {
     "iopub.execute_input": "2022-06-29T12:15:25.023337Z",
     "iopub.status.busy": "2022-06-29T12:15:25.022781Z",
     "iopub.status.idle": "2022-06-29T12:15:25.025511Z",
     "shell.execute_reply": "2022-06-29T12:15:25.025049Z"
    },
    "papermill": {
     "duration": 0.039202,
     "end_time": "2022-06-29T12:15:25.025612",
     "exception": false,
     "start_time": "2022-06-29T12:15:24.986410",
     "status": "completed"
    },
    "tags": []
   },
   "outputs": [],
   "source": [
    "#hide\n",
    "everydaycases = dft_ct_new_cases.cumsum(axis=1)"
   ]
  },
  {
   "cell_type": "code",
   "execution_count": 20,
   "id": "parliamentary-calgary",
   "metadata": {
    "execution": {
     "iopub.execute_input": "2022-06-29T12:15:25.091964Z",
     "iopub.status.busy": "2022-06-29T12:15:25.091381Z",
     "iopub.status.idle": "2022-06-29T12:15:25.658746Z",
     "shell.execute_reply": "2022-06-29T12:15:25.657826Z"
    },
    "papermill": {
     "duration": 0.602085,
     "end_time": "2022-06-29T12:15:25.658869",
     "exception": false,
     "start_time": "2022-06-29T12:15:25.056784",
     "status": "completed"
    },
    "tags": []
   },
   "outputs": [],
   "source": [
    "#hide\n",
    "import pandas as pd\n",
    "import matplotlib.pyplot as plt\n",
    "import matplotlib.ticker as ticker\n",
    "import matplotlib.animation as animation\n",
    "from IPython.display import HTML"
   ]
  },
  {
   "cell_type": "code",
   "execution_count": 21,
   "id": "lasting-extraction",
   "metadata": {
    "execution": {
     "iopub.execute_input": "2022-06-29T12:15:25.727119Z",
     "iopub.status.busy": "2022-06-29T12:15:25.726559Z",
     "iopub.status.idle": "2022-06-29T12:15:25.733053Z",
     "shell.execute_reply": "2022-06-29T12:15:25.732620Z"
    },
    "papermill": {
     "duration": 0.043144,
     "end_time": "2022-06-29T12:15:25.733177",
     "exception": false,
     "start_time": "2022-06-29T12:15:25.690033",
     "status": "completed"
    },
    "tags": []
   },
   "outputs": [],
   "source": [
    "#hide\n",
    "t = everydaycases.stack()"
   ]
  },
  {
   "cell_type": "code",
   "execution_count": 22,
   "id": "premier-sleeve",
   "metadata": {
    "execution": {
     "iopub.execute_input": "2022-06-29T12:15:25.799769Z",
     "iopub.status.busy": "2022-06-29T12:15:25.799201Z",
     "iopub.status.idle": "2022-06-29T12:15:25.809770Z",
     "shell.execute_reply": "2022-06-29T12:15:25.810228Z"
    },
    "papermill": {
     "duration": 0.046155,
     "end_time": "2022-06-29T12:15:25.810350",
     "exception": false,
     "start_time": "2022-06-29T12:15:25.764195",
     "status": "completed"
    },
    "tags": []
   },
   "outputs": [],
   "source": [
    "#hide\n",
    "g = t.reset_index(['Country/Region'])"
   ]
  },
  {
   "cell_type": "code",
   "execution_count": 23,
   "id": "distributed-pittsburgh",
   "metadata": {
    "execution": {
     "iopub.execute_input": "2022-06-29T12:15:25.876187Z",
     "iopub.status.busy": "2022-06-29T12:15:25.875633Z",
     "iopub.status.idle": "2022-06-29T12:15:25.877917Z",
     "shell.execute_reply": "2022-06-29T12:15:25.877394Z"
    },
    "papermill": {
     "duration": 0.036783,
     "end_time": "2022-06-29T12:15:25.878015",
     "exception": false,
     "start_time": "2022-06-29T12:15:25.841232",
     "status": "completed"
    },
    "tags": []
   },
   "outputs": [],
   "source": [
    "#hide\n",
    "g.index.name = 'date'"
   ]
  },
  {
   "cell_type": "code",
   "execution_count": 24,
   "id": "naked-donor",
   "metadata": {
    "execution": {
     "iopub.execute_input": "2022-06-29T12:15:25.944408Z",
     "iopub.status.busy": "2022-06-29T12:15:25.943835Z",
     "iopub.status.idle": "2022-06-29T12:15:25.947678Z",
     "shell.execute_reply": "2022-06-29T12:15:25.947215Z"
    },
    "papermill": {
     "duration": 0.038442,
     "end_time": "2022-06-29T12:15:25.947782",
     "exception": false,
     "start_time": "2022-06-29T12:15:25.909340",
     "status": "completed"
    },
    "tags": []
   },
   "outputs": [],
   "source": [
    "# #hide\n",
    "# g = g.reset_index(['date'])"
   ]
  },
  {
   "cell_type": "code",
   "execution_count": 25,
   "id": "incomplete-mustang",
   "metadata": {
    "execution": {
     "iopub.execute_input": "2022-06-29T12:15:26.013816Z",
     "iopub.status.busy": "2022-06-29T12:15:26.013235Z",
     "iopub.status.idle": "2022-06-29T12:15:26.015530Z",
     "shell.execute_reply": "2022-06-29T12:15:26.014998Z"
    },
    "papermill": {
     "duration": 0.036784,
     "end_time": "2022-06-29T12:15:26.015631",
     "exception": false,
     "start_time": "2022-06-29T12:15:25.978847",
     "status": "completed"
    },
    "tags": []
   },
   "outputs": [],
   "source": [
    "#hide\n",
    "# g.head()"
   ]
  },
  {
   "cell_type": "code",
   "execution_count": 26,
   "id": "specific-kruger",
   "metadata": {
    "execution": {
     "iopub.execute_input": "2022-06-29T12:15:26.081576Z",
     "iopub.status.busy": "2022-06-29T12:15:26.080973Z",
     "iopub.status.idle": "2022-06-29T12:15:26.083427Z",
     "shell.execute_reply": "2022-06-29T12:15:26.083006Z"
    },
    "papermill": {
     "duration": 0.036723,
     "end_time": "2022-06-29T12:15:26.083527",
     "exception": false,
     "start_time": "2022-06-29T12:15:26.046804",
     "status": "completed"
    },
    "tags": []
   },
   "outputs": [],
   "source": [
    "#hide\n",
    "# g.columns = ['date','country','cases']"
   ]
  },
  {
   "cell_type": "code",
   "execution_count": 27,
   "id": "tender-conversion",
   "metadata": {
    "execution": {
     "iopub.execute_input": "2022-06-29T12:15:26.149567Z",
     "iopub.status.busy": "2022-06-29T12:15:26.148976Z",
     "iopub.status.idle": "2022-06-29T12:15:26.151433Z",
     "shell.execute_reply": "2022-06-29T12:15:26.150916Z"
    },
    "papermill": {
     "duration": 0.037081,
     "end_time": "2022-06-29T12:15:26.151531",
     "exception": false,
     "start_time": "2022-06-29T12:15:26.114450",
     "status": "completed"
    },
    "tags": []
   },
   "outputs": [],
   "source": [
    "#hide\n",
    "# g['continent'] = g.country"
   ]
  },
  {
   "cell_type": "code",
   "execution_count": 28,
   "id": "substantial-wilderness",
   "metadata": {
    "execution": {
     "iopub.execute_input": "2022-06-29T12:15:26.217567Z",
     "iopub.status.busy": "2022-06-29T12:15:26.216969Z",
     "iopub.status.idle": "2022-06-29T12:15:26.219417Z",
     "shell.execute_reply": "2022-06-29T12:15:26.218881Z"
    },
    "papermill": {
     "duration": 0.036822,
     "end_time": "2022-06-29T12:15:26.219517",
     "exception": false,
     "start_time": "2022-06-29T12:15:26.182695",
     "status": "completed"
    },
    "tags": []
   },
   "outputs": [],
   "source": [
    "#hide\n",
    "# cols = list(g.columns.values)"
   ]
  },
  {
   "cell_type": "code",
   "execution_count": 29,
   "id": "solved-farming",
   "metadata": {
    "execution": {
     "iopub.execute_input": "2022-06-29T12:15:26.285379Z",
     "iopub.status.busy": "2022-06-29T12:15:26.284768Z",
     "iopub.status.idle": "2022-06-29T12:15:26.286834Z",
     "shell.execute_reply": "2022-06-29T12:15:26.287237Z"
    },
    "papermill": {
     "duration": 0.036794,
     "end_time": "2022-06-29T12:15:26.287360",
     "exception": false,
     "start_time": "2022-06-29T12:15:26.250566",
     "status": "completed"
    },
    "tags": []
   },
   "outputs": [],
   "source": [
    "#hide\n",
    "# cols.insert(0, cols.pop())"
   ]
  },
  {
   "cell_type": "code",
   "execution_count": 30,
   "id": "executed-adoption",
   "metadata": {
    "execution": {
     "iopub.execute_input": "2022-06-29T12:15:26.354762Z",
     "iopub.status.busy": "2022-06-29T12:15:26.354190Z",
     "iopub.status.idle": "2022-06-29T12:15:26.356639Z",
     "shell.execute_reply": "2022-06-29T12:15:26.356199Z"
    },
    "papermill": {
     "duration": 0.038318,
     "end_time": "2022-06-29T12:15:26.356738",
     "exception": false,
     "start_time": "2022-06-29T12:15:26.318420",
     "status": "completed"
    },
    "tags": []
   },
   "outputs": [],
   "source": [
    "#hide\n",
    "# g = g[cols]"
   ]
  },
  {
   "cell_type": "code",
   "execution_count": 31,
   "id": "subject-dublin",
   "metadata": {
    "execution": {
     "iopub.execute_input": "2022-06-29T12:15:26.422290Z",
     "iopub.status.busy": "2022-06-29T12:15:26.421710Z",
     "iopub.status.idle": "2022-06-29T12:15:26.424163Z",
     "shell.execute_reply": "2022-06-29T12:15:26.423632Z"
    },
    "papermill": {
     "duration": 0.036654,
     "end_time": "2022-06-29T12:15:26.424265",
     "exception": false,
     "start_time": "2022-06-29T12:15:26.387611",
     "status": "completed"
    },
    "tags": []
   },
   "outputs": [],
   "source": [
    "#hide\n",
    "# g['continent'] = g['continent'].map(mapping['map.continent'])"
   ]
  },
  {
   "cell_type": "code",
   "execution_count": 32,
   "id": "freelance-scout",
   "metadata": {
    "execution": {
     "iopub.execute_input": "2022-06-29T12:15:26.490121Z",
     "iopub.status.busy": "2022-06-29T12:15:26.489527Z",
     "iopub.status.idle": "2022-06-29T12:15:26.492044Z",
     "shell.execute_reply": "2022-06-29T12:15:26.491596Z"
    },
    "papermill": {
     "duration": 0.036946,
     "end_time": "2022-06-29T12:15:26.492148",
     "exception": false,
     "start_time": "2022-06-29T12:15:26.455202",
     "status": "completed"
    },
    "tags": []
   },
   "outputs": [],
   "source": [
    "#hide\n",
    "# g.head()"
   ]
  },
  {
   "cell_type": "code",
   "execution_count": 33,
   "id": "limited-engine",
   "metadata": {
    "execution": {
     "iopub.execute_input": "2022-06-29T12:15:26.558060Z",
     "iopub.status.busy": "2022-06-29T12:15:26.557491Z",
     "iopub.status.idle": "2022-06-29T12:15:26.561024Z",
     "shell.execute_reply": "2022-06-29T12:15:26.561486Z"
    },
    "papermill": {
     "duration": 0.038319,
     "end_time": "2022-06-29T12:15:26.561610",
     "exception": false,
     "start_time": "2022-06-29T12:15:26.523291",
     "status": "completed"
    },
    "tags": []
   },
   "outputs": [],
   "source": [
    "# hide\n",
    "# g['date'] = g['date'].astype('datetime64[ns]')"
   ]
  },
  {
   "cell_type": "code",
   "execution_count": 34,
   "id": "sophisticated-supervisor",
   "metadata": {
    "execution": {
     "iopub.execute_input": "2022-06-29T12:15:26.630652Z",
     "iopub.status.busy": "2022-06-29T12:15:26.630073Z",
     "iopub.status.idle": "2022-06-29T12:15:26.632339Z",
     "shell.execute_reply": "2022-06-29T12:15:26.632749Z"
    },
    "papermill": {
     "duration": 0.039948,
     "end_time": "2022-06-29T12:15:26.632874",
     "exception": false,
     "start_time": "2022-06-29T12:15:26.592926",
     "status": "completed"
    },
    "tags": []
   },
   "outputs": [],
   "source": [
    "#hide\n",
    "# g['date'] = g.date.dt.dayofyear"
   ]
  },
  {
   "cell_type": "code",
   "execution_count": 35,
   "id": "inside-dubai",
   "metadata": {
    "execution": {
     "iopub.execute_input": "2022-06-29T12:15:26.698572Z",
     "iopub.status.busy": "2022-06-29T12:15:26.698014Z",
     "iopub.status.idle": "2022-06-29T12:15:26.700197Z",
     "shell.execute_reply": "2022-06-29T12:15:26.699678Z"
    },
    "papermill": {
     "duration": 0.036401,
     "end_time": "2022-06-29T12:15:26.700297",
     "exception": false,
     "start_time": "2022-06-29T12:15:26.663896",
     "status": "completed"
    },
    "tags": []
   },
   "outputs": [],
   "source": [
    "#hide\n",
    "# g = g.rename(columns= {'continent':'group','country':'name','cases':'value'})"
   ]
  },
  {
   "cell_type": "code",
   "execution_count": 36,
   "id": "fleet-motorcycle",
   "metadata": {
    "execution": {
     "iopub.execute_input": "2022-06-29T12:15:26.766318Z",
     "iopub.status.busy": "2022-06-29T12:15:26.765750Z",
     "iopub.status.idle": "2022-06-29T12:15:26.768140Z",
     "shell.execute_reply": "2022-06-29T12:15:26.767615Z"
    },
    "papermill": {
     "duration": 0.036829,
     "end_time": "2022-06-29T12:15:26.768238",
     "exception": false,
     "start_time": "2022-06-29T12:15:26.731409",
     "status": "completed"
    },
    "tags": []
   },
   "outputs": [],
   "source": [
    "#hide\n",
    "# cols = ['name','group','day','value']"
   ]
  },
  {
   "cell_type": "code",
   "execution_count": 37,
   "id": "continued-sleeping",
   "metadata": {
    "execution": {
     "iopub.execute_input": "2022-06-29T12:15:26.833601Z",
     "iopub.status.busy": "2022-06-29T12:15:26.833003Z",
     "iopub.status.idle": "2022-06-29T12:15:26.835286Z",
     "shell.execute_reply": "2022-06-29T12:15:26.834822Z"
    },
    "papermill": {
     "duration": 0.036233,
     "end_time": "2022-06-29T12:15:26.835391",
     "exception": false,
     "start_time": "2022-06-29T12:15:26.799158",
     "status": "completed"
    },
    "tags": []
   },
   "outputs": [],
   "source": [
    "#hide\n",
    "# g.rename(columns= {'date':'day'},inplace = True)"
   ]
  },
  {
   "cell_type": "code",
   "execution_count": 38,
   "id": "major-fight",
   "metadata": {
    "execution": {
     "iopub.execute_input": "2022-06-29T12:15:26.900741Z",
     "iopub.status.busy": "2022-06-29T12:15:26.900168Z",
     "iopub.status.idle": "2022-06-29T12:15:26.902105Z",
     "shell.execute_reply": "2022-06-29T12:15:26.902524Z"
    },
    "papermill": {
     "duration": 0.036262,
     "end_time": "2022-06-29T12:15:26.902634",
     "exception": false,
     "start_time": "2022-06-29T12:15:26.866372",
     "status": "completed"
    },
    "tags": []
   },
   "outputs": [],
   "source": [
    "#hide\n",
    "# g = g[cols]"
   ]
  },
  {
   "cell_type": "code",
   "execution_count": 39,
   "id": "structured-mobile",
   "metadata": {
    "execution": {
     "iopub.execute_input": "2022-06-29T12:15:26.968035Z",
     "iopub.status.busy": "2022-06-29T12:15:26.967470Z",
     "iopub.status.idle": "2022-06-29T12:15:26.969452Z",
     "shell.execute_reply": "2022-06-29T12:15:26.969892Z"
    },
    "papermill": {
     "duration": 0.036486,
     "end_time": "2022-06-29T12:15:26.970007",
     "exception": false,
     "start_time": "2022-06-29T12:15:26.933521",
     "status": "completed"
    },
    "tags": []
   },
   "outputs": [],
   "source": [
    "# #hide\n",
    "# g = g[g.group.notna()]"
   ]
  },
  {
   "cell_type": "code",
   "execution_count": 40,
   "id": "determined-closing",
   "metadata": {
    "execution": {
     "iopub.execute_input": "2022-06-29T12:15:27.035868Z",
     "iopub.status.busy": "2022-06-29T12:15:27.035279Z",
     "iopub.status.idle": "2022-06-29T12:15:27.037504Z",
     "shell.execute_reply": "2022-06-29T12:15:27.037904Z"
    },
    "papermill": {
     "duration": 0.037022,
     "end_time": "2022-06-29T12:15:27.038028",
     "exception": false,
     "start_time": "2022-06-29T12:15:27.001006",
     "status": "completed"
    },
    "tags": []
   },
   "outputs": [],
   "source": [
    "# #hide\n",
    "# colors = dict(zip(\n",
    "#     [\"Oceania\", \"Europe\", \"Asia\", \"South America\", \"Middle East\", \"North America\", \"Africa\"],\n",
    "#     [\"#adb0ff\", \"#ffb3ff\", \"#90d595\", \"#e48381\", \"#aafbff\", \"#f7bb5f\", \"#eafb50\"]\n",
    "# ))\n",
    "# group_lk = g.set_index('name')['group'].to_dict()"
   ]
  },
  {
   "cell_type": "code",
   "execution_count": null,
   "id": "gross-drinking",
   "metadata": {
    "papermill": {
     "duration": 0.03088,
     "end_time": "2022-06-29T12:15:27.100095",
     "exception": false,
     "start_time": "2022-06-29T12:15:27.069215",
     "status": "completed"
    },
    "tags": []
   },
   "outputs": [],
   "source": []
  },
  {
   "cell_type": "code",
   "execution_count": 41,
   "id": "subject-macintosh",
   "metadata": {
    "execution": {
     "iopub.execute_input": "2022-06-29T12:15:27.166454Z",
     "iopub.status.busy": "2022-06-29T12:15:27.165878Z",
     "iopub.status.idle": "2022-06-29T12:15:27.168620Z",
     "shell.execute_reply": "2022-06-29T12:15:27.168139Z"
    },
    "papermill": {
     "duration": 0.037748,
     "end_time": "2022-06-29T12:15:27.168719",
     "exception": false,
     "start_time": "2022-06-29T12:15:27.130971",
     "status": "completed"
    },
    "tags": []
   },
   "outputs": [],
   "source": [
    "# #hide\n",
    "# fig, ax = plt.subplots(figsize=(15, 8))\n",
    "\n",
    "# def draw_barchart(current_day):\n",
    "#     dff = g[g['day'].eq(current_day)].sort_values(by='value', ascending=True).tail(10)\n",
    "#     ax.clear()\n",
    "#     ax.barh(dff['name'], dff['value'], color=[colors[group_lk[x]] for x in dff['name']])\n",
    "#     dx = dff['value'].max() / 200\n",
    "    \n",
    "#     for i, (value, name) in enumerate(zip(dff['value'], dff['name'])):\n",
    "#         ax.text(value-dx, i,     name,           size=14, weight=600, ha='right', va='bottom')\n",
    "#         ax.text(value-dx, i-.25, group_lk[name], size=10, color='#444444', ha='right', va='baseline')\n",
    "#         ax.text(value+dx, i,     f'{value:,.0f}',  size=14, ha='left',  va='center')\n",
    "#     ax.text(1, 0.4, current_day, transform=ax.transAxes, color='#777777', size=46, ha='right', weight=800)\n",
    "#     ax.text(0, 1.06, 'Population (thousands)', transform=ax.transAxes, size=12, color='#777777')\n",
    "#     ax.xaxis.set_major_formatter(ticker.StrMethodFormatter('{x:,.0f}'))\n",
    "#     ax.xaxis.set_ticks_position('top')\n",
    "#     ax.tick_params(axis='x', colors='#777777', labelsize=12)\n",
    "#     ax.set_yticks([])\n",
    "#     ax.margins(0, 0.01)\n",
    "#     ax.grid(which='major', axis='x', linestyle='-')\n",
    "#     ax.set_axisbelow(True)\n",
    "    \n",
    "#     ax.text(0, 1.15, 'Coronavirus',\n",
    "#             transform=ax.transAxes, size=24, weight=600, ha='left', va='top')\n",
    "# #     ax.text(1, 0, 'by @pratapvardhan; credit @jburnmurdoch', transform=ax.transAxes, color='#777777', ha='right',\n",
    "# #             bbox=dict(facecolor='white', alpha=0.8, edgecolor='white'))\n",
    "#     plt.box(False)"
   ]
  },
  {
   "cell_type": "code",
   "execution_count": 42,
   "id": "sexual-wages",
   "metadata": {
    "execution": {
     "iopub.execute_input": "2022-06-29T12:15:27.234457Z",
     "iopub.status.busy": "2022-06-29T12:15:27.233877Z",
     "iopub.status.idle": "2022-06-29T12:15:27.235763Z",
     "shell.execute_reply": "2022-06-29T12:15:27.235242Z"
    },
    "papermill": {
     "duration": 0.036287,
     "end_time": "2022-06-29T12:15:27.235863",
     "exception": false,
     "start_time": "2022-06-29T12:15:27.199576",
     "status": "completed"
    },
    "tags": []
   },
   "outputs": [],
   "source": [
    "# #hide_input\n",
    "# fig, ax = plt.subplots(figsize=(15, 8))\n",
    "# animator = animation.FuncAnimation(fig, draw_barchart, frames=range(g.day.values.min(), g.day.values.max()))\n",
    "# HTML(animator.to_jshtml())\n",
    "# # or use animator.to_html5_video() or animator.save() "
   ]
  },
  {
   "cell_type": "code",
   "execution_count": null,
   "id": "australian-container",
   "metadata": {
    "papermill": {
     "duration": 0.030796,
     "end_time": "2022-06-29T12:15:27.297605",
     "exception": false,
     "start_time": "2022-06-29T12:15:27.266809",
     "status": "completed"
    },
    "tags": []
   },
   "outputs": [],
   "source": []
  },
  {
   "cell_type": "code",
   "execution_count": null,
   "id": "mediterranean-pontiac",
   "metadata": {
    "papermill": {
     "duration": 0.030832,
     "end_time": "2022-06-29T12:15:27.359194",
     "exception": false,
     "start_time": "2022-06-29T12:15:27.328362",
     "status": "completed"
    },
    "tags": []
   },
   "outputs": [],
   "source": []
  },
  {
   "cell_type": "code",
   "execution_count": null,
   "id": "aging-legislature",
   "metadata": {
    "papermill": {
     "duration": 0.030762,
     "end_time": "2022-06-29T12:15:27.420891",
     "exception": false,
     "start_time": "2022-06-29T12:15:27.390129",
     "status": "completed"
    },
    "tags": []
   },
   "outputs": [],
   "source": []
  }
 ],
 "metadata": {
  "kernelspec": {
   "display_name": "Python 3",
   "language": "python",
   "name": "python3"
  },
  "language_info": {
   "codemirror_mode": {
    "name": "ipython",
    "version": 3
   },
   "file_extension": ".py",
   "mimetype": "text/x-python",
   "name": "python",
   "nbconvert_exporter": "python",
   "pygments_lexer": "ipython3",
   "version": "3.6.15"
  },
  "papermill": {
   "duration": 5.92072,
   "end_time": "2022-06-29T12:15:27.769189",
   "environment_variables": {},
   "exception": null,
   "input_path": "2020-03-21-covid19exp.ipynb",
   "output_path": "2020-03-21-covid19exp.ipynb",
   "parameters": {},
   "start_time": "2022-06-29T12:15:21.848469",
   "version": "2.0.0"
  }
 },
 "nbformat": 4,
 "nbformat_minor": 5
}