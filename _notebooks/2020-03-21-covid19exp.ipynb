{
 "cells": [
  {
   "cell_type": "markdown",
   "id": "muslim-click",
   "metadata": {
    "papermill": {
     "duration": 0.031072,
     "end_time": "2022-01-17T00:27:38.855786",
     "exception": false,
     "start_time": "2022-01-17T00:27:38.824714",
     "status": "completed"
    },
    "tags": []
   },
   "source": [
    "# COVID-19 Case Race\n",
    "> A race chart to see rising cases around the world\n",
    "\n",
    "- author: Hargun Oberoi\n",
    "- image: images/covid-overview.png\n",
    "- hide: false\n",
    "- badges: false"
   ]
  },
  {
   "cell_type": "code",
   "execution_count": 1,
   "id": "proof-material",
   "metadata": {
    "execution": {
     "iopub.execute_input": "2022-01-17T00:27:38.918718Z",
     "iopub.status.busy": "2022-01-17T00:27:38.918219Z",
     "iopub.status.idle": "2022-01-17T00:27:39.207534Z",
     "shell.execute_reply": "2022-01-17T00:27:39.206951Z"
    },
    "papermill": {
     "duration": 0.325444,
     "end_time": "2022-01-17T00:27:39.207705",
     "exception": false,
     "start_time": "2022-01-17T00:27:38.882261",
     "status": "completed"
    },
    "tags": []
   },
   "outputs": [],
   "source": [
    "#hide\n",
    "import numpy as np\n",
    "import pandas as pd\n",
    "from jinja2 import Template\n",
    "from IPython.display import HTML"
   ]
  },
  {
   "cell_type": "code",
   "execution_count": 2,
   "id": "developed-terminology",
   "metadata": {
    "execution": {
     "iopub.execute_input": "2022-01-17T00:27:39.265637Z",
     "iopub.status.busy": "2022-01-17T00:27:39.265005Z",
     "iopub.status.idle": "2022-01-17T00:27:39.268325Z",
     "shell.execute_reply": "2022-01-17T00:27:39.268762Z"
    },
    "papermill": {
     "duration": 0.034461,
     "end_time": "2022-01-17T00:27:39.268905",
     "exception": false,
     "start_time": "2022-01-17T00:27:39.234444",
     "status": "completed"
    },
    "tags": []
   },
   "outputs": [],
   "source": [
    "#hide\n",
    "\n",
    "# FETCH\n",
    "base_url = 'https://raw.githubusercontent.com/pratapvardhan/notebooks/master/covid19/'\n",
    "paths = {\n",
    "    'mapping': base_url + 'mapping_countries.csv',\n",
    "    'overview': base_url + 'overview.tpl'\n",
    "}"
   ]
  },
  {
   "cell_type": "code",
   "execution_count": 3,
   "id": "dynamic-saver",
   "metadata": {
    "execution": {
     "iopub.execute_input": "2022-01-17T00:27:39.331472Z",
     "iopub.status.busy": "2022-01-17T00:27:39.330943Z",
     "iopub.status.idle": "2022-01-17T00:27:39.333605Z",
     "shell.execute_reply": "2022-01-17T00:27:39.333938Z"
    },
    "papermill": {
     "duration": 0.038668,
     "end_time": "2022-01-17T00:27:39.334050",
     "exception": false,
     "start_time": "2022-01-17T00:27:39.295382",
     "status": "completed"
    },
    "tags": []
   },
   "outputs": [
    {
     "data": {
      "text/plain": [
       "'https://raw.githubusercontent.com/pratapvardhan/notebooks/master/covid19/mapping_countries.csv'"
      ]
     },
     "execution_count": 3,
     "metadata": {},
     "output_type": "execute_result"
    }
   ],
   "source": [
    "#hide\n",
    "paths['mapping']"
   ]
  },
  {
   "cell_type": "code",
   "execution_count": 4,
   "id": "urban-software",
   "metadata": {
    "execution": {
     "iopub.execute_input": "2022-01-17T00:27:39.390785Z",
     "iopub.status.busy": "2022-01-17T00:27:39.390254Z",
     "iopub.status.idle": "2022-01-17T00:27:39.392165Z",
     "shell.execute_reply": "2022-01-17T00:27:39.391686Z"
    },
    "papermill": {
     "duration": 0.032026,
     "end_time": "2022-01-17T00:27:39.392262",
     "exception": false,
     "start_time": "2022-01-17T00:27:39.360236",
     "status": "completed"
    },
    "tags": []
   },
   "outputs": [],
   "source": [
    "#hide\n",
    "def get_mappings(url):\n",
    "    df = pd.read_csv(url)\n",
    "    return {\n",
    "        'df': df,\n",
    "        'replace.country': dict(df.dropna(subset=['Name']).set_index('Country')['Name']),\n",
    "        'map.continent': dict(df.set_index('Name')['Continent'])\n",
    "    }"
   ]
  },
  {
   "cell_type": "code",
   "execution_count": 5,
   "id": "intimate-machinery",
   "metadata": {
    "execution": {
     "iopub.execute_input": "2022-01-17T00:27:39.450046Z",
     "iopub.status.busy": "2022-01-17T00:27:39.449584Z",
     "iopub.status.idle": "2022-01-17T00:27:39.525369Z",
     "shell.execute_reply": "2022-01-17T00:27:39.524847Z"
    },
    "papermill": {
     "duration": 0.107121,
     "end_time": "2022-01-17T00:27:39.525507",
     "exception": false,
     "start_time": "2022-01-17T00:27:39.418386",
     "status": "completed"
    },
    "tags": []
   },
   "outputs": [],
   "source": [
    "#hide\n",
    "mapping = get_mappings(paths['mapping'])"
   ]
  },
  {
   "cell_type": "code",
   "execution_count": 6,
   "id": "certified-tactics",
   "metadata": {
    "execution": {
     "iopub.execute_input": "2022-01-17T00:27:39.585479Z",
     "iopub.status.busy": "2022-01-17T00:27:39.585002Z",
     "iopub.status.idle": "2022-01-17T00:27:39.586823Z",
     "shell.execute_reply": "2022-01-17T00:27:39.587192Z"
    },
    "papermill": {
     "duration": 0.033262,
     "end_time": "2022-01-17T00:27:39.587312",
     "exception": false,
     "start_time": "2022-01-17T00:27:39.554050",
     "status": "completed"
    },
    "tags": []
   },
   "outputs": [],
   "source": [
    "#hide\n",
    "def get_template(path):\n",
    "    from urllib.parse import urlparse\n",
    "    if bool(urlparse(path).netloc):\n",
    "        from urllib.request import urlopen\n",
    "        return urlopen(path).read().decode('utf8')\n",
    "    return open(path).read()"
   ]
  },
  {
   "cell_type": "code",
   "execution_count": 7,
   "id": "realistic-blast",
   "metadata": {
    "execution": {
     "iopub.execute_input": "2022-01-17T00:27:39.644581Z",
     "iopub.status.busy": "2022-01-17T00:27:39.644115Z",
     "iopub.status.idle": "2022-01-17T00:27:39.646034Z",
     "shell.execute_reply": "2022-01-17T00:27:39.646376Z"
    },
    "papermill": {
     "duration": 0.033061,
     "end_time": "2022-01-17T00:27:39.646496",
     "exception": false,
     "start_time": "2022-01-17T00:27:39.613435",
     "status": "completed"
    },
    "tags": []
   },
   "outputs": [],
   "source": [
    "#hide\n",
    "def get_frame(name):\n",
    "    url = (\n",
    "        'https://raw.githubusercontent.com/CSSEGISandData/COVID-19/master/csse_covid_19_data/'\n",
    "        f'csse_covid_19_time_series/time_series_covid19_{name}_global.csv')\n",
    "    df = pd.read_csv(url)\n",
    "    # rename countries\n",
    "    df['Country/Region'] = df['Country/Region'].replace(mapping['replace.country'])\n",
    "    return df"
   ]
  },
  {
   "cell_type": "code",
   "execution_count": 8,
   "id": "affiliated-characterization",
   "metadata": {
    "execution": {
     "iopub.execute_input": "2022-01-17T00:27:39.704250Z",
     "iopub.status.busy": "2022-01-17T00:27:39.703787Z",
     "iopub.status.idle": "2022-01-17T00:27:39.705624Z",
     "shell.execute_reply": "2022-01-17T00:27:39.705983Z"
    },
    "papermill": {
     "duration": 0.033077,
     "end_time": "2022-01-17T00:27:39.706095",
     "exception": false,
     "start_time": "2022-01-17T00:27:39.673018",
     "status": "completed"
    },
    "tags": []
   },
   "outputs": [],
   "source": [
    "#hide\n",
    "def get_dates(df):\n",
    "    dt_cols = df.columns[~df.columns.isin(['Province/State', 'Country/Region', 'Lat', 'Long'])]\n",
    "    LAST_DATE_I = -1\n",
    "    # sometimes last column may be empty, then go backwards\n",
    "    for i in range(-1, -len(dt_cols), -1):\n",
    "        if not df[dt_cols[i]].fillna(0).eq(0).all():\n",
    "            LAST_DATE_I = i\n",
    "            break\n",
    "    return LAST_DATE_I, dt_cols"
   ]
  },
  {
   "cell_type": "code",
   "execution_count": 9,
   "id": "recent-optimization",
   "metadata": {
    "execution": {
     "iopub.execute_input": "2022-01-17T00:27:39.763540Z",
     "iopub.status.busy": "2022-01-17T00:27:39.763054Z",
     "iopub.status.idle": "2022-01-17T00:27:40.357265Z",
     "shell.execute_reply": "2022-01-17T00:27:40.357705Z"
    },
    "papermill": {
     "duration": 0.625565,
     "end_time": "2022-01-17T00:27:40.357864",
     "exception": false,
     "start_time": "2022-01-17T00:27:39.732299",
     "status": "completed"
    },
    "tags": []
   },
   "outputs": [],
   "source": [
    "#hide\n",
    "COL_REGION = 'Country/Region'\n",
    "# Confirmed, Recovered, Deaths\n",
    "df = get_frame('confirmed')\n",
    "# dft_: timeseries, dfc_: today country agg\n",
    "dft_cases = df\n",
    "dft_deaths = get_frame('deaths')\n",
    "dft_recovered = get_frame('recovered')\n",
    "LAST_DATE_I, dt_cols = get_dates(df)"
   ]
  },
  {
   "cell_type": "code",
   "execution_count": 10,
   "id": "absolute-copper",
   "metadata": {
    "execution": {
     "iopub.execute_input": "2022-01-17T00:27:40.423529Z",
     "iopub.status.busy": "2022-01-17T00:27:40.422904Z",
     "iopub.status.idle": "2022-01-17T00:27:40.424207Z",
     "shell.execute_reply": "2022-01-17T00:27:40.424750Z"
    },
    "papermill": {
     "duration": 0.036688,
     "end_time": "2022-01-17T00:27:40.424892",
     "exception": false,
     "start_time": "2022-01-17T00:27:40.388204",
     "status": "completed"
    },
    "tags": []
   },
   "outputs": [],
   "source": [
    "#hide\n",
    "LAST_DATE_I, dt_cols = get_dates(df)\n",
    "dt_today =dt_cols[LAST_DATE_I]\n",
    "# dt_5day = dt_cols[LAST_DATE_I - 5]\n",
    "dt_yday = dt_cols[LAST_DATE_I - 1]"
   ]
  },
  {
   "cell_type": "code",
   "execution_count": 11,
   "id": "restricted-sheriff",
   "metadata": {
    "execution": {
     "iopub.execute_input": "2022-01-17T00:27:40.483008Z",
     "iopub.status.busy": "2022-01-17T00:27:40.482529Z",
     "iopub.status.idle": "2022-01-17T00:27:40.489410Z",
     "shell.execute_reply": "2022-01-17T00:27:40.489770Z"
    },
    "papermill": {
     "duration": 0.037532,
     "end_time": "2022-01-17T00:27:40.489881",
     "exception": false,
     "start_time": "2022-01-17T00:27:40.452349",
     "status": "completed"
    },
    "tags": []
   },
   "outputs": [],
   "source": [
    "#hide\n",
    "dfc_cases = dft_cases.groupby(COL_REGION)[dt_today].sum()\n",
    "dfc_deaths = dft_deaths.groupby(COL_REGION)[dt_today].sum()\n",
    "# dfp_cases = dft_cases.groupby(COL_REGION)[dt_5day].sum()\n",
    "# dfp_deaths = dft_deaths.groupby(COL_REGION)[dt_5day].sum()\n",
    "dfp_cases = dft_cases.groupby(COL_REGION)[dt_yday].sum()\n",
    "dfp_deaths = dft_deaths.groupby(COL_REGION)[dt_yday].sum()"
   ]
  },
  {
   "cell_type": "code",
   "execution_count": 12,
   "id": "deluxe-hepatitis",
   "metadata": {
    "execution": {
     "iopub.execute_input": "2022-01-17T00:27:40.547833Z",
     "iopub.status.busy": "2022-01-17T00:27:40.547377Z",
     "iopub.status.idle": "2022-01-17T00:27:40.551976Z",
     "shell.execute_reply": "2022-01-17T00:27:40.551615Z"
    },
    "papermill": {
     "duration": 0.035978,
     "end_time": "2022-01-17T00:27:40.552072",
     "exception": false,
     "start_time": "2022-01-17T00:27:40.516094",
     "status": "completed"
    },
    "tags": []
   },
   "outputs": [],
   "source": [
    "#hide\n",
    "df_table = (pd.DataFrame(dict(Cases = dfc_cases, Deaths = dfc_deaths, PCases = dfp_cases, PDeaths = dfp_deaths))\n",
    "            .sort_values(by = ['Cases','Deaths'], ascending = [False, False])\n",
    "            .reset_index())"
   ]
  },
  {
   "cell_type": "code",
   "execution_count": 13,
   "id": "educational-chancellor",
   "metadata": {
    "execution": {
     "iopub.execute_input": "2022-01-17T00:27:40.622605Z",
     "iopub.status.busy": "2022-01-17T00:27:40.618221Z",
     "iopub.status.idle": "2022-01-17T00:27:40.629597Z",
     "shell.execute_reply": "2022-01-17T00:27:40.630032Z"
    },
    "papermill": {
     "duration": 0.051622,
     "end_time": "2022-01-17T00:27:40.630147",
     "exception": false,
     "start_time": "2022-01-17T00:27:40.578525",
     "status": "completed"
    },
    "tags": []
   },
   "outputs": [
    {
     "data": {
      "text/html": [
       "<div>\n",
       "<style scoped>\n",
       "    .dataframe tbody tr th:only-of-type {\n",
       "        vertical-align: middle;\n",
       "    }\n",
       "\n",
       "    .dataframe tbody tr th {\n",
       "        vertical-align: top;\n",
       "    }\n",
       "\n",
       "    .dataframe thead th {\n",
       "        text-align: right;\n",
       "    }\n",
       "</style>\n",
       "<table border=\"1\" class=\"dataframe\">\n",
       "  <thead>\n",
       "    <tr style=\"text-align: right;\">\n",
       "      <th></th>\n",
       "      <th>Country/Region</th>\n",
       "      <th>Cases</th>\n",
       "      <th>Deaths</th>\n",
       "      <th>PCases</th>\n",
       "      <th>PDeaths</th>\n",
       "      <th>Cases (+)</th>\n",
       "      <th>Deaths (+)</th>\n",
       "      <th>Fatality Rate</th>\n",
       "      <th>Continent</th>\n",
       "    </tr>\n",
       "  </thead>\n",
       "  <tbody>\n",
       "    <tr>\n",
       "      <th>0</th>\n",
       "      <td>US</td>\n",
       "      <td>65445397</td>\n",
       "      <td>850060</td>\n",
       "      <td>64920604</td>\n",
       "      <td>849256</td>\n",
       "      <td>524793</td>\n",
       "      <td>804</td>\n",
       "      <td>1.30</td>\n",
       "      <td>North America</td>\n",
       "    </tr>\n",
       "    <tr>\n",
       "      <th>1</th>\n",
       "      <td>India</td>\n",
       "      <td>37122164</td>\n",
       "      <td>486066</td>\n",
       "      <td>36850962</td>\n",
       "      <td>485752</td>\n",
       "      <td>271202</td>\n",
       "      <td>314</td>\n",
       "      <td>1.31</td>\n",
       "      <td>Asia</td>\n",
       "    </tr>\n",
       "    <tr>\n",
       "      <th>2</th>\n",
       "      <td>Brazil</td>\n",
       "      <td>22981851</td>\n",
       "      <td>621233</td>\n",
       "      <td>22933289</td>\n",
       "      <td>621063</td>\n",
       "      <td>48562</td>\n",
       "      <td>170</td>\n",
       "      <td>2.70</td>\n",
       "      <td>South America</td>\n",
       "    </tr>\n",
       "    <tr>\n",
       "      <th>3</th>\n",
       "      <td>United Kingdom</td>\n",
       "      <td>15246179</td>\n",
       "      <td>152395</td>\n",
       "      <td>15165209</td>\n",
       "      <td>152107</td>\n",
       "      <td>80970</td>\n",
       "      <td>288</td>\n",
       "      <td>1.00</td>\n",
       "      <td>Europe</td>\n",
       "    </tr>\n",
       "    <tr>\n",
       "      <th>4</th>\n",
       "      <td>France</td>\n",
       "      <td>14005385</td>\n",
       "      <td>127859</td>\n",
       "      <td>13680775</td>\n",
       "      <td>127711</td>\n",
       "      <td>324610</td>\n",
       "      <td>148</td>\n",
       "      <td>0.91</td>\n",
       "      <td>Europe</td>\n",
       "    </tr>\n",
       "  </tbody>\n",
       "</table>\n",
       "</div>"
      ],
      "text/plain": [
       "   Country/Region     Cases  Deaths    PCases  PDeaths  Cases (+)  Deaths (+)  \\\n",
       "0              US  65445397  850060  64920604   849256     524793         804   \n",
       "1           India  37122164  486066  36850962   485752     271202         314   \n",
       "2          Brazil  22981851  621233  22933289   621063      48562         170   \n",
       "3  United Kingdom  15246179  152395  15165209   152107      80970         288   \n",
       "4          France  14005385  127859  13680775   127711     324610         148   \n",
       "\n",
       "   Fatality Rate      Continent  \n",
       "0           1.30  North America  \n",
       "1           1.31           Asia  \n",
       "2           2.70  South America  \n",
       "3           1.00         Europe  \n",
       "4           0.91         Europe  "
      ]
     },
     "execution_count": 13,
     "metadata": {},
     "output_type": "execute_result"
    }
   ],
   "source": [
    "#hide\n",
    "for c in 'Cases, Deaths'.split(', '):\n",
    "    df_table[f'{c} (+)'] = (df_table[c] - df_table[f'P{c}']).clip(0)\n",
    "    #Clip ça veut dire, les chiffres negatif sont interdit\n",
    "df_table['Fatality Rate'] = (100* df_table['Deaths']/ df_table['Cases']).round(2)\n",
    "df_table['Continent'] = df_table['Country/Region'].map(mapping['map.continent'])\n",
    "df_table.head(5)"
   ]
  },
  {
   "cell_type": "code",
   "execution_count": 14,
   "id": "aboriginal-bulgaria",
   "metadata": {
    "execution": {
     "iopub.execute_input": "2022-01-17T00:27:40.689036Z",
     "iopub.status.busy": "2022-01-17T00:27:40.688447Z",
     "iopub.status.idle": "2022-01-17T00:27:40.691395Z",
     "shell.execute_reply": "2022-01-17T00:27:40.691735Z"
    },
    "papermill": {
     "duration": 0.034956,
     "end_time": "2022-01-17T00:27:40.691842",
     "exception": false,
     "start_time": "2022-01-17T00:27:40.656886",
     "status": "completed"
    },
    "tags": []
   },
   "outputs": [],
   "source": [
    "#hide\n",
    "#delete problematic countries from table\n",
    "df_table = df_table[~df_table['Country/Region'].isin(['Cape Verde', 'Cruise Ship', 'Kosovo'])]"
   ]
  },
  {
   "cell_type": "code",
   "execution_count": 15,
   "id": "fantastic-effect",
   "metadata": {
    "execution": {
     "iopub.execute_input": "2022-01-17T00:27:40.752120Z",
     "iopub.status.busy": "2022-01-17T00:27:40.751661Z",
     "iopub.status.idle": "2022-01-17T00:27:40.769045Z",
     "shell.execute_reply": "2022-01-17T00:27:40.768556Z"
    },
    "papermill": {
     "duration": 0.050869,
     "end_time": "2022-01-17T00:27:40.769158",
     "exception": false,
     "start_time": "2022-01-17T00:27:40.718289",
     "status": "completed"
    },
    "tags": []
   },
   "outputs": [
    {
     "data": {
      "text/html": [
       "<div>\n",
       "<style scoped>\n",
       "    .dataframe tbody tr th:only-of-type {\n",
       "        vertical-align: middle;\n",
       "    }\n",
       "\n",
       "    .dataframe tbody tr th {\n",
       "        vertical-align: top;\n",
       "    }\n",
       "\n",
       "    .dataframe thead th {\n",
       "        text-align: right;\n",
       "    }\n",
       "</style>\n",
       "<table border=\"1\" class=\"dataframe\">\n",
       "  <thead>\n",
       "    <tr style=\"text-align: right;\">\n",
       "      <th></th>\n",
       "      <th>Country/Region</th>\n",
       "      <th>Cases</th>\n",
       "      <th>Deaths</th>\n",
       "      <th>PCases</th>\n",
       "      <th>PDeaths</th>\n",
       "      <th>Cases (+)</th>\n",
       "      <th>Deaths (+)</th>\n",
       "      <th>Fatality Rate</th>\n",
       "      <th>Continent</th>\n",
       "    </tr>\n",
       "  </thead>\n",
       "  <tbody>\n",
       "    <tr>\n",
       "      <th>0</th>\n",
       "      <td>US</td>\n",
       "      <td>65445397</td>\n",
       "      <td>850060</td>\n",
       "      <td>64920604</td>\n",
       "      <td>849256</td>\n",
       "      <td>524793</td>\n",
       "      <td>804</td>\n",
       "      <td>1.3</td>\n",
       "      <td>North America</td>\n",
       "    </tr>\n",
       "    <tr>\n",
       "      <th>1</th>\n",
       "      <td>India</td>\n",
       "      <td>37122164</td>\n",
       "      <td>486066</td>\n",
       "      <td>36850962</td>\n",
       "      <td>485752</td>\n",
       "      <td>271202</td>\n",
       "      <td>314</td>\n",
       "      <td>1.3</td>\n",
       "      <td>Asia</td>\n",
       "    </tr>\n",
       "    <tr>\n",
       "      <th>2</th>\n",
       "      <td>Brazil</td>\n",
       "      <td>22981851</td>\n",
       "      <td>621233</td>\n",
       "      <td>22933289</td>\n",
       "      <td>621063</td>\n",
       "      <td>48562</td>\n",
       "      <td>170</td>\n",
       "      <td>2.7</td>\n",
       "      <td>South America</td>\n",
       "    </tr>\n",
       "    <tr>\n",
       "      <th>3</th>\n",
       "      <td>United Kingdom</td>\n",
       "      <td>15246179</td>\n",
       "      <td>152395</td>\n",
       "      <td>15165209</td>\n",
       "      <td>152107</td>\n",
       "      <td>80970</td>\n",
       "      <td>288</td>\n",
       "      <td>1.0</td>\n",
       "      <td>Europe</td>\n",
       "    </tr>\n",
       "    <tr>\n",
       "      <th>4</th>\n",
       "      <td>France</td>\n",
       "      <td>14005385</td>\n",
       "      <td>127859</td>\n",
       "      <td>13680775</td>\n",
       "      <td>127711</td>\n",
       "      <td>324610</td>\n",
       "      <td>148</td>\n",
       "      <td>0.9</td>\n",
       "      <td>Europe</td>\n",
       "    </tr>\n",
       "  </tbody>\n",
       "</table>\n",
       "</div>"
      ],
      "text/plain": [
       "   Country/Region     Cases  Deaths    PCases  PDeaths  Cases (+)  Deaths (+)  \\\n",
       "0              US  65445397  850060  64920604   849256     524793         804   \n",
       "1           India  37122164  486066  36850962   485752     271202         314   \n",
       "2          Brazil  22981851  621233  22933289   621063      48562         170   \n",
       "3  United Kingdom  15246179  152395  15165209   152107      80970         288   \n",
       "4          France  14005385  127859  13680775   127711     324610         148   \n",
       "\n",
       "   Fatality Rate      Continent  \n",
       "0            1.3  North America  \n",
       "1            1.3           Asia  \n",
       "2            2.7  South America  \n",
       "3            1.0         Europe  \n",
       "4            0.9         Europe  "
      ]
     },
     "execution_count": 15,
     "metadata": {},
     "output_type": "execute_result"
    }
   ],
   "source": [
    "#hide\n",
    "df_table = (pd.DataFrame(dict(Cases=dfc_cases, Deaths=dfc_deaths, PCases=dfp_cases, PDeaths=dfp_deaths))\n",
    "             .sort_values(by=['Cases', 'Deaths'], ascending=[False, False])\n",
    "             .reset_index())\n",
    "df_table.rename(columns={'index': 'Country/Region'}, inplace=True)\n",
    "for c in 'Cases, Deaths'.split(', '):\n",
    "    df_table[f'{c} (+)'] = (df_table[c] - df_table[f'P{c}']).clip(0)  # DATA BUG\n",
    "df_table['Fatality Rate'] = (100 * df_table['Deaths'] / df_table['Cases']).round(1)\n",
    "df_table['Continent'] = df_table['Country/Region'].map(mapping['map.continent'])\n",
    "df_table.head(5)"
   ]
  },
  {
   "cell_type": "code",
   "execution_count": 16,
   "id": "fewer-occasion",
   "metadata": {
    "execution": {
     "iopub.execute_input": "2022-01-17T00:27:40.829238Z",
     "iopub.status.busy": "2022-01-17T00:27:40.828785Z",
     "iopub.status.idle": "2022-01-17T00:27:40.831365Z",
     "shell.execute_reply": "2022-01-17T00:27:40.831799Z"
    },
    "papermill": {
     "duration": 0.034094,
     "end_time": "2022-01-17T00:27:40.831901",
     "exception": false,
     "start_time": "2022-01-17T00:27:40.797807",
     "status": "completed"
    },
    "tags": []
   },
   "outputs": [],
   "source": [
    "#hide\n",
    "#delete problematic countries from table\n",
    "df_table = df_table[~df_table['Country/Region'].isin(['Cape Verde', 'Cruise Ship', 'Kosovo'])]"
   ]
  },
  {
   "cell_type": "code",
   "execution_count": 17,
   "id": "related-center",
   "metadata": {
    "execution": {
     "iopub.execute_input": "2022-01-17T00:27:40.903322Z",
     "iopub.status.busy": "2022-01-17T00:27:40.902830Z",
     "iopub.status.idle": "2022-01-17T00:27:40.905142Z",
     "shell.execute_reply": "2022-01-17T00:27:40.904783Z"
    },
    "papermill": {
     "duration": 0.046453,
     "end_time": "2022-01-17T00:27:40.905235",
     "exception": false,
     "start_time": "2022-01-17T00:27:40.858782",
     "status": "completed"
    },
    "tags": []
   },
   "outputs": [],
   "source": [
    "#hide\n",
    "metrics = [df_table.columns[index] for index in [1,2,5,6]]\n",
    "# s_china = df_table[df_table['Country/Region'].eq('China')][metrics].sum().add_prefix('China ')\n",
    "s_us = df_table[df_table['Country/Region'].eq('US')][metrics].sum().add_prefix('US ')\n",
    "s_eu = df_table[df_table['Continent'].eq('Europe')][metrics].sum().add_prefix('EU ')\n",
    "s_ind = df_table[df_table['Country/Region'].eq('India')][metrics].sum().add_prefix('India ')\n",
    "summary = {'updated': pd.to_datetime(dt_today), 'since': pd.to_datetime(dt_yday)}\n",
    "summary = {'updated': pd.to_datetime(dt_today), 'since': pd.to_datetime(dt_yday)}\n",
    "summary = {**summary, **df_table[metrics].sum(), **s_ind, **s_us, **s_eu}"
   ]
  },
  {
   "cell_type": "code",
   "execution_count": 18,
   "id": "engaging-syndrome",
   "metadata": {
    "execution": {
     "iopub.execute_input": "2022-01-17T00:27:40.963571Z",
     "iopub.status.busy": "2022-01-17T00:27:40.963102Z",
     "iopub.status.idle": "2022-01-17T00:27:40.977227Z",
     "shell.execute_reply": "2022-01-17T00:27:40.977660Z"
    },
    "papermill": {
     "duration": 0.045462,
     "end_time": "2022-01-17T00:27:40.977773",
     "exception": false,
     "start_time": "2022-01-17T00:27:40.932311",
     "status": "completed"
    },
    "tags": []
   },
   "outputs": [],
   "source": [
    "#hide\n",
    "dft_ct_new_cases = dft_cases.groupby(COL_REGION)[dt_cols].sum().diff(axis=1).fillna(0).astype(int)"
   ]
  },
  {
   "cell_type": "code",
   "execution_count": 19,
   "id": "neutral-assignment",
   "metadata": {
    "execution": {
     "iopub.execute_input": "2022-01-17T00:27:41.037310Z",
     "iopub.status.busy": "2022-01-17T00:27:41.036848Z",
     "iopub.status.idle": "2022-01-17T00:27:41.039949Z",
     "shell.execute_reply": "2022-01-17T00:27:41.039586Z"
    },
    "papermill": {
     "duration": 0.034878,
     "end_time": "2022-01-17T00:27:41.040048",
     "exception": false,
     "start_time": "2022-01-17T00:27:41.005170",
     "status": "completed"
    },
    "tags": []
   },
   "outputs": [],
   "source": [
    "#hide\n",
    "everydaycases = dft_ct_new_cases.cumsum(axis=1)"
   ]
  },
  {
   "cell_type": "code",
   "execution_count": 20,
   "id": "parliamentary-calgary",
   "metadata": {
    "execution": {
     "iopub.execute_input": "2022-01-17T00:27:41.098788Z",
     "iopub.status.busy": "2022-01-17T00:27:41.098315Z",
     "iopub.status.idle": "2022-01-17T00:27:41.697024Z",
     "shell.execute_reply": "2022-01-17T00:27:41.696482Z"
    },
    "papermill": {
     "duration": 0.629778,
     "end_time": "2022-01-17T00:27:41.697170",
     "exception": false,
     "start_time": "2022-01-17T00:27:41.067392",
     "status": "completed"
    },
    "tags": []
   },
   "outputs": [],
   "source": [
    "#hide\n",
    "import pandas as pd\n",
    "import matplotlib.pyplot as plt\n",
    "import matplotlib.ticker as ticker\n",
    "import matplotlib.animation as animation\n",
    "from IPython.display import HTML"
   ]
  },
  {
   "cell_type": "code",
   "execution_count": 21,
   "id": "lasting-extraction",
   "metadata": {
    "execution": {
     "iopub.execute_input": "2022-01-17T00:27:41.758286Z",
     "iopub.status.busy": "2022-01-17T00:27:41.757818Z",
     "iopub.status.idle": "2022-01-17T00:27:41.763644Z",
     "shell.execute_reply": "2022-01-17T00:27:41.764074Z"
    },
    "papermill": {
     "duration": 0.039223,
     "end_time": "2022-01-17T00:27:41.764192",
     "exception": false,
     "start_time": "2022-01-17T00:27:41.724969",
     "status": "completed"
    },
    "tags": []
   },
   "outputs": [],
   "source": [
    "#hide\n",
    "t = everydaycases.stack()"
   ]
  },
  {
   "cell_type": "code",
   "execution_count": 22,
   "id": "premier-sleeve",
   "metadata": {
    "execution": {
     "iopub.execute_input": "2022-01-17T00:27:41.821992Z",
     "iopub.status.busy": "2022-01-17T00:27:41.821528Z",
     "iopub.status.idle": "2022-01-17T00:27:41.830673Z",
     "shell.execute_reply": "2022-01-17T00:27:41.831130Z"
    },
    "papermill": {
     "duration": 0.039931,
     "end_time": "2022-01-17T00:27:41.831239",
     "exception": false,
     "start_time": "2022-01-17T00:27:41.791308",
     "status": "completed"
    },
    "tags": []
   },
   "outputs": [],
   "source": [
    "#hide\n",
    "g = t.reset_index(['Country/Region'])"
   ]
  },
  {
   "cell_type": "code",
   "execution_count": 23,
   "id": "distributed-pittsburgh",
   "metadata": {
    "execution": {
     "iopub.execute_input": "2022-01-17T00:27:41.887855Z",
     "iopub.status.busy": "2022-01-17T00:27:41.887402Z",
     "iopub.status.idle": "2022-01-17T00:27:41.889244Z",
     "shell.execute_reply": "2022-01-17T00:27:41.889602Z"
    },
    "papermill": {
     "duration": 0.031751,
     "end_time": "2022-01-17T00:27:41.889704",
     "exception": false,
     "start_time": "2022-01-17T00:27:41.857953",
     "status": "completed"
    },
    "tags": []
   },
   "outputs": [],
   "source": [
    "#hide\n",
    "g.index.name = 'date'"
   ]
  },
  {
   "cell_type": "code",
   "execution_count": 24,
   "id": "naked-donor",
   "metadata": {
    "execution": {
     "iopub.execute_input": "2022-01-17T00:27:41.947164Z",
     "iopub.status.busy": "2022-01-17T00:27:41.946539Z",
     "iopub.status.idle": "2022-01-17T00:27:41.949698Z",
     "shell.execute_reply": "2022-01-17T00:27:41.949234Z"
    },
    "papermill": {
     "duration": 0.033223,
     "end_time": "2022-01-17T00:27:41.949816",
     "exception": false,
     "start_time": "2022-01-17T00:27:41.916593",
     "status": "completed"
    },
    "tags": []
   },
   "outputs": [],
   "source": [
    "# #hide\n",
    "# g = g.reset_index(['date'])"
   ]
  },
  {
   "cell_type": "code",
   "execution_count": 25,
   "id": "incomplete-mustang",
   "metadata": {
    "execution": {
     "iopub.execute_input": "2022-01-17T00:27:42.014476Z",
     "iopub.status.busy": "2022-01-17T00:27:42.014020Z",
     "iopub.status.idle": "2022-01-17T00:27:42.016169Z",
     "shell.execute_reply": "2022-01-17T00:27:42.015723Z"
    },
    "papermill": {
     "duration": 0.035445,
     "end_time": "2022-01-17T00:27:42.016255",
     "exception": false,
     "start_time": "2022-01-17T00:27:41.980810",
     "status": "completed"
    },
    "tags": []
   },
   "outputs": [],
   "source": [
    "#hide\n",
    "# g.head()"
   ]
  },
  {
   "cell_type": "code",
   "execution_count": 26,
   "id": "specific-kruger",
   "metadata": {
    "execution": {
     "iopub.execute_input": "2022-01-17T00:27:42.073966Z",
     "iopub.status.busy": "2022-01-17T00:27:42.073405Z",
     "iopub.status.idle": "2022-01-17T00:27:42.076939Z",
     "shell.execute_reply": "2022-01-17T00:27:42.076528Z"
    },
    "papermill": {
     "duration": 0.033725,
     "end_time": "2022-01-17T00:27:42.077046",
     "exception": false,
     "start_time": "2022-01-17T00:27:42.043321",
     "status": "completed"
    },
    "tags": []
   },
   "outputs": [],
   "source": [
    "#hide\n",
    "# g.columns = ['date','country','cases']"
   ]
  },
  {
   "cell_type": "code",
   "execution_count": 27,
   "id": "tender-conversion",
   "metadata": {
    "execution": {
     "iopub.execute_input": "2022-01-17T00:27:42.140968Z",
     "iopub.status.busy": "2022-01-17T00:27:42.140413Z",
     "iopub.status.idle": "2022-01-17T00:27:42.143316Z",
     "shell.execute_reply": "2022-01-17T00:27:42.142899Z"
    },
    "papermill": {
     "duration": 0.035815,
     "end_time": "2022-01-17T00:27:42.143422",
     "exception": false,
     "start_time": "2022-01-17T00:27:42.107607",
     "status": "completed"
    },
    "tags": []
   },
   "outputs": [],
   "source": [
    "#hide\n",
    "# g['continent'] = g.country"
   ]
  },
  {
   "cell_type": "code",
   "execution_count": 28,
   "id": "substantial-wilderness",
   "metadata": {
    "execution": {
     "iopub.execute_input": "2022-01-17T00:27:42.207610Z",
     "iopub.status.busy": "2022-01-17T00:27:42.207149Z",
     "iopub.status.idle": "2022-01-17T00:27:42.210364Z",
     "shell.execute_reply": "2022-01-17T00:27:42.210000Z"
    },
    "papermill": {
     "duration": 0.036515,
     "end_time": "2022-01-17T00:27:42.210457",
     "exception": false,
     "start_time": "2022-01-17T00:27:42.173942",
     "status": "completed"
    },
    "tags": []
   },
   "outputs": [],
   "source": [
    "#hide\n",
    "# cols = list(g.columns.values)"
   ]
  },
  {
   "cell_type": "code",
   "execution_count": 29,
   "id": "solved-farming",
   "metadata": {
    "execution": {
     "iopub.execute_input": "2022-01-17T00:27:42.267873Z",
     "iopub.status.busy": "2022-01-17T00:27:42.267267Z",
     "iopub.status.idle": "2022-01-17T00:27:42.269096Z",
     "shell.execute_reply": "2022-01-17T00:27:42.268529Z"
    },
    "papermill": {
     "duration": 0.031934,
     "end_time": "2022-01-17T00:27:42.269216",
     "exception": false,
     "start_time": "2022-01-17T00:27:42.237282",
     "status": "completed"
    },
    "tags": []
   },
   "outputs": [],
   "source": [
    "#hide\n",
    "# cols.insert(0, cols.pop())"
   ]
  },
  {
   "cell_type": "code",
   "execution_count": 30,
   "id": "executed-adoption",
   "metadata": {
    "execution": {
     "iopub.execute_input": "2022-01-17T00:27:42.335182Z",
     "iopub.status.busy": "2022-01-17T00:27:42.334615Z",
     "iopub.status.idle": "2022-01-17T00:27:42.336330Z",
     "shell.execute_reply": "2022-01-17T00:27:42.336720Z"
    },
    "papermill": {
     "duration": 0.035783,
     "end_time": "2022-01-17T00:27:42.336854",
     "exception": false,
     "start_time": "2022-01-17T00:27:42.301071",
     "status": "completed"
    },
    "tags": []
   },
   "outputs": [],
   "source": [
    "#hide\n",
    "# g = g[cols]"
   ]
  },
  {
   "cell_type": "code",
   "execution_count": 31,
   "id": "subject-dublin",
   "metadata": {
    "execution": {
     "iopub.execute_input": "2022-01-17T00:27:42.396009Z",
     "iopub.status.busy": "2022-01-17T00:27:42.395406Z",
     "iopub.status.idle": "2022-01-17T00:27:42.396751Z",
     "shell.execute_reply": "2022-01-17T00:27:42.397235Z"
    },
    "papermill": {
     "duration": 0.033413,
     "end_time": "2022-01-17T00:27:42.397367",
     "exception": false,
     "start_time": "2022-01-17T00:27:42.363954",
     "status": "completed"
    },
    "tags": []
   },
   "outputs": [],
   "source": [
    "#hide\n",
    "# g['continent'] = g['continent'].map(mapping['map.continent'])"
   ]
  },
  {
   "cell_type": "code",
   "execution_count": 32,
   "id": "freelance-scout",
   "metadata": {
    "execution": {
     "iopub.execute_input": "2022-01-17T00:27:42.461977Z",
     "iopub.status.busy": "2022-01-17T00:27:42.461509Z",
     "iopub.status.idle": "2022-01-17T00:27:42.463591Z",
     "shell.execute_reply": "2022-01-17T00:27:42.463208Z"
    },
    "papermill": {
     "duration": 0.035469,
     "end_time": "2022-01-17T00:27:42.463685",
     "exception": false,
     "start_time": "2022-01-17T00:27:42.428216",
     "status": "completed"
    },
    "tags": []
   },
   "outputs": [],
   "source": [
    "#hide\n",
    "# g.head()"
   ]
  },
  {
   "cell_type": "code",
   "execution_count": 33,
   "id": "limited-engine",
   "metadata": {
    "execution": {
     "iopub.execute_input": "2022-01-17T00:27:42.520623Z",
     "iopub.status.busy": "2022-01-17T00:27:42.520038Z",
     "iopub.status.idle": "2022-01-17T00:27:42.523619Z",
     "shell.execute_reply": "2022-01-17T00:27:42.523205Z"
    },
    "papermill": {
     "duration": 0.033291,
     "end_time": "2022-01-17T00:27:42.523726",
     "exception": false,
     "start_time": "2022-01-17T00:27:42.490435",
     "status": "completed"
    },
    "tags": []
   },
   "outputs": [],
   "source": [
    "# hide\n",
    "# g['date'] = g['date'].astype('datetime64[ns]')"
   ]
  },
  {
   "cell_type": "code",
   "execution_count": 34,
   "id": "sophisticated-supervisor",
   "metadata": {
    "execution": {
     "iopub.execute_input": "2022-01-17T00:27:42.588438Z",
     "iopub.status.busy": "2022-01-17T00:27:42.587840Z",
     "iopub.status.idle": "2022-01-17T00:27:42.589992Z",
     "shell.execute_reply": "2022-01-17T00:27:42.589522Z"
    },
    "papermill": {
     "duration": 0.035804,
     "end_time": "2022-01-17T00:27:42.590114",
     "exception": false,
     "start_time": "2022-01-17T00:27:42.554310",
     "status": "completed"
    },
    "tags": []
   },
   "outputs": [],
   "source": [
    "#hide\n",
    "# g['date'] = g.date.dt.dayofyear"
   ]
  },
  {
   "cell_type": "code",
   "execution_count": 35,
   "id": "inside-dubai",
   "metadata": {
    "execution": {
     "iopub.execute_input": "2022-01-17T00:27:42.648395Z",
     "iopub.status.busy": "2022-01-17T00:27:42.647789Z",
     "iopub.status.idle": "2022-01-17T00:27:42.649144Z",
     "shell.execute_reply": "2022-01-17T00:27:42.649635Z"
    },
    "papermill": {
     "duration": 0.032084,
     "end_time": "2022-01-17T00:27:42.649771",
     "exception": false,
     "start_time": "2022-01-17T00:27:42.617687",
     "status": "completed"
    },
    "tags": []
   },
   "outputs": [],
   "source": [
    "#hide\n",
    "# g = g.rename(columns= {'continent':'group','country':'name','cases':'value'})"
   ]
  },
  {
   "cell_type": "code",
   "execution_count": 36,
   "id": "fleet-motorcycle",
   "metadata": {
    "execution": {
     "iopub.execute_input": "2022-01-17T00:27:42.715472Z",
     "iopub.status.busy": "2022-01-17T00:27:42.714985Z",
     "iopub.status.idle": "2022-01-17T00:27:42.717433Z",
     "shell.execute_reply": "2022-01-17T00:27:42.717046Z"
    },
    "papermill": {
     "duration": 0.03613,
     "end_time": "2022-01-17T00:27:42.717533",
     "exception": false,
     "start_time": "2022-01-17T00:27:42.681403",
     "status": "completed"
    },
    "tags": []
   },
   "outputs": [],
   "source": [
    "#hide\n",
    "# cols = ['name','group','day','value']"
   ]
  },
  {
   "cell_type": "code",
   "execution_count": 37,
   "id": "continued-sleeping",
   "metadata": {
    "execution": {
     "iopub.execute_input": "2022-01-17T00:27:42.775643Z",
     "iopub.status.busy": "2022-01-17T00:27:42.775043Z",
     "iopub.status.idle": "2022-01-17T00:27:42.777560Z",
     "shell.execute_reply": "2022-01-17T00:27:42.777130Z"
    },
    "papermill": {
     "duration": 0.032854,
     "end_time": "2022-01-17T00:27:42.777669",
     "exception": false,
     "start_time": "2022-01-17T00:27:42.744815",
     "status": "completed"
    },
    "tags": []
   },
   "outputs": [],
   "source": [
    "#hide\n",
    "# g.rename(columns= {'date':'day'},inplace = True)"
   ]
  },
  {
   "cell_type": "code",
   "execution_count": 38,
   "id": "major-fight",
   "metadata": {
    "execution": {
     "iopub.execute_input": "2022-01-17T00:27:42.842658Z",
     "iopub.status.busy": "2022-01-17T00:27:42.842131Z",
     "iopub.status.idle": "2022-01-17T00:27:42.844510Z",
     "shell.execute_reply": "2022-01-17T00:27:42.844074Z"
    },
    "papermill": {
     "duration": 0.036121,
     "end_time": "2022-01-17T00:27:42.844629",
     "exception": false,
     "start_time": "2022-01-17T00:27:42.808508",
     "status": "completed"
    },
    "tags": []
   },
   "outputs": [],
   "source": [
    "#hide\n",
    "# g = g[cols]"
   ]
  },
  {
   "cell_type": "code",
   "execution_count": 39,
   "id": "structured-mobile",
   "metadata": {
    "execution": {
     "iopub.execute_input": "2022-01-17T00:27:42.910877Z",
     "iopub.status.busy": "2022-01-17T00:27:42.910222Z",
     "iopub.status.idle": "2022-01-17T00:27:42.913982Z",
     "shell.execute_reply": "2022-01-17T00:27:42.913494Z"
    },
    "papermill": {
     "duration": 0.038534,
     "end_time": "2022-01-17T00:27:42.914117",
     "exception": false,
     "start_time": "2022-01-17T00:27:42.875583",
     "status": "completed"
    },
    "tags": []
   },
   "outputs": [],
   "source": [
    "# #hide\n",
    "# g = g[g.group.notna()]"
   ]
  },
  {
   "cell_type": "code",
   "execution_count": 40,
   "id": "determined-closing",
   "metadata": {
    "execution": {
     "iopub.execute_input": "2022-01-17T00:27:42.974281Z",
     "iopub.status.busy": "2022-01-17T00:27:42.973691Z",
     "iopub.status.idle": "2022-01-17T00:27:42.975096Z",
     "shell.execute_reply": "2022-01-17T00:27:42.975522Z"
    },
    "papermill": {
     "duration": 0.032872,
     "end_time": "2022-01-17T00:27:42.975667",
     "exception": false,
     "start_time": "2022-01-17T00:27:42.942795",
     "status": "completed"
    },
    "tags": []
   },
   "outputs": [],
   "source": [
    "# #hide\n",
    "# colors = dict(zip(\n",
    "#     [\"Oceania\", \"Europe\", \"Asia\", \"South America\", \"Middle East\", \"North America\", \"Africa\"],\n",
    "#     [\"#adb0ff\", \"#ffb3ff\", \"#90d595\", \"#e48381\", \"#aafbff\", \"#f7bb5f\", \"#eafb50\"]\n",
    "# ))\n",
    "# group_lk = g.set_index('name')['group'].to_dict()"
   ]
  },
  {
   "cell_type": "code",
   "execution_count": null,
   "id": "gross-drinking",
   "metadata": {
    "papermill": {
     "duration": 0.031272,
     "end_time": "2022-01-17T00:27:43.037779",
     "exception": false,
     "start_time": "2022-01-17T00:27:43.006507",
     "status": "completed"
    },
    "tags": []
   },
   "outputs": [],
   "source": []
  },
  {
   "cell_type": "code",
   "execution_count": 41,
   "id": "subject-macintosh",
   "metadata": {
    "execution": {
     "iopub.execute_input": "2022-01-17T00:27:43.104362Z",
     "iopub.status.busy": "2022-01-17T00:27:43.103723Z",
     "iopub.status.idle": "2022-01-17T00:27:43.107184Z",
     "shell.execute_reply": "2022-01-17T00:27:43.107639Z"
    },
    "papermill": {
     "duration": 0.038994,
     "end_time": "2022-01-17T00:27:43.107800",
     "exception": false,
     "start_time": "2022-01-17T00:27:43.068806",
     "status": "completed"
    },
    "tags": []
   },
   "outputs": [],
   "source": [
    "# #hide\n",
    "# fig, ax = plt.subplots(figsize=(15, 8))\n",
    "\n",
    "# def draw_barchart(current_day):\n",
    "#     dff = g[g['day'].eq(current_day)].sort_values(by='value', ascending=True).tail(10)\n",
    "#     ax.clear()\n",
    "#     ax.barh(dff['name'], dff['value'], color=[colors[group_lk[x]] for x in dff['name']])\n",
    "#     dx = dff['value'].max() / 200\n",
    "    \n",
    "#     for i, (value, name) in enumerate(zip(dff['value'], dff['name'])):\n",
    "#         ax.text(value-dx, i,     name,           size=14, weight=600, ha='right', va='bottom')\n",
    "#         ax.text(value-dx, i-.25, group_lk[name], size=10, color='#444444', ha='right', va='baseline')\n",
    "#         ax.text(value+dx, i,     f'{value:,.0f}',  size=14, ha='left',  va='center')\n",
    "#     ax.text(1, 0.4, current_day, transform=ax.transAxes, color='#777777', size=46, ha='right', weight=800)\n",
    "#     ax.text(0, 1.06, 'Population (thousands)', transform=ax.transAxes, size=12, color='#777777')\n",
    "#     ax.xaxis.set_major_formatter(ticker.StrMethodFormatter('{x:,.0f}'))\n",
    "#     ax.xaxis.set_ticks_position('top')\n",
    "#     ax.tick_params(axis='x', colors='#777777', labelsize=12)\n",
    "#     ax.set_yticks([])\n",
    "#     ax.margins(0, 0.01)\n",
    "#     ax.grid(which='major', axis='x', linestyle='-')\n",
    "#     ax.set_axisbelow(True)\n",
    "    \n",
    "#     ax.text(0, 1.15, 'Coronavirus',\n",
    "#             transform=ax.transAxes, size=24, weight=600, ha='left', va='top')\n",
    "# #     ax.text(1, 0, 'by @pratapvardhan; credit @jburnmurdoch', transform=ax.transAxes, color='#777777', ha='right',\n",
    "# #             bbox=dict(facecolor='white', alpha=0.8, edgecolor='white'))\n",
    "#     plt.box(False)"
   ]
  },
  {
   "cell_type": "code",
   "execution_count": 42,
   "id": "sexual-wages",
   "metadata": {
    "execution": {
     "iopub.execute_input": "2022-01-17T00:27:43.166564Z",
     "iopub.status.busy": "2022-01-17T00:27:43.166014Z",
     "iopub.status.idle": "2022-01-17T00:27:43.167995Z",
     "shell.execute_reply": "2022-01-17T00:27:43.167556Z"
    },
    "papermill": {
     "duration": 0.032524,
     "end_time": "2022-01-17T00:27:43.168108",
     "exception": false,
     "start_time": "2022-01-17T00:27:43.135584",
     "status": "completed"
    },
    "tags": []
   },
   "outputs": [],
   "source": [
    "# #hide_input\n",
    "# fig, ax = plt.subplots(figsize=(15, 8))\n",
    "# animator = animation.FuncAnimation(fig, draw_barchart, frames=range(g.day.values.min(), g.day.values.max()))\n",
    "# HTML(animator.to_jshtml())\n",
    "# # or use animator.to_html5_video() or animator.save() "
   ]
  },
  {
   "cell_type": "code",
   "execution_count": null,
   "id": "australian-container",
   "metadata": {
    "papermill": {
     "duration": 0.030878,
     "end_time": "2022-01-17T00:27:43.229979",
     "exception": false,
     "start_time": "2022-01-17T00:27:43.199101",
     "status": "completed"
    },
    "tags": []
   },
   "outputs": [],
   "source": []
  },
  {
   "cell_type": "code",
   "execution_count": null,
   "id": "mediterranean-pontiac",
   "metadata": {
    "papermill": {
     "duration": 0.030715,
     "end_time": "2022-01-17T00:27:43.291476",
     "exception": false,
     "start_time": "2022-01-17T00:27:43.260761",
     "status": "completed"
    },
    "tags": []
   },
   "outputs": [],
   "source": []
  },
  {
   "cell_type": "code",
   "execution_count": null,
   "id": "aging-legislature",
   "metadata": {
    "papermill": {
     "duration": 0.030767,
     "end_time": "2022-01-17T00:27:43.353237",
     "exception": false,
     "start_time": "2022-01-17T00:27:43.322470",
     "status": "completed"
    },
    "tags": []
   },
   "outputs": [],
   "source": []
  }
 ],
 "metadata": {
  "kernelspec": {
   "display_name": "Python 3",
   "language": "python",
   "name": "python3"
  },
  "language_info": {
   "codemirror_mode": {
    "name": "ipython",
    "version": 3
   },
   "file_extension": ".py",
   "mimetype": "text/x-python",
   "name": "python",
   "nbconvert_exporter": "python",
   "pygments_lexer": "ipython3",
   "version": "3.6.15"
  },
  "papermill": {
   "duration": 5.959555,
   "end_time": "2022-01-17T00:27:43.701643",
   "environment_variables": {},
   "exception": null,
   "input_path": "2020-03-21-covid19exp.ipynb",
   "output_path": "2020-03-21-covid19exp.ipynb",
   "parameters": {},
   "start_time": "2022-01-17T00:27:37.742088",
   "version": "2.0.0"
  }
 },
 "nbformat": 4,
 "nbformat_minor": 5
}