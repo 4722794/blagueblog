{
 "cells": [
  {
   "cell_type": "markdown",
   "metadata": {
    "papermill": {
     "duration": 0.038838,
     "end_time": "2020-12-16T00:12:08.830181",
     "exception": false,
     "start_time": "2020-12-16T00:12:08.791343",
     "status": "completed"
    },
    "tags": []
   },
   "source": [
    "# COVID-19 Case Race\n",
    "> A race chart to see rising cases around the world\n",
    "\n",
    "- author: Hargun Oberoi\n",
    "- image: images/covid-overview.png\n",
    "- hide: false\n",
    "- badges: false"
   ]
  },
  {
   "cell_type": "code",
   "execution_count": 1,
   "metadata": {
    "execution": {
     "iopub.execute_input": "2020-12-16T00:12:08.910819Z",
     "iopub.status.busy": "2020-12-16T00:12:08.910150Z",
     "iopub.status.idle": "2020-12-16T00:12:09.274466Z",
     "shell.execute_reply": "2020-12-16T00:12:09.273738Z"
    },
    "papermill": {
     "duration": 0.409553,
     "end_time": "2020-12-16T00:12:09.274672",
     "exception": false,
     "start_time": "2020-12-16T00:12:08.865119",
     "status": "completed"
    },
    "tags": []
   },
   "outputs": [],
   "source": [
    "#hide\n",
    "import numpy as np\n",
    "import pandas as pd\n",
    "from jinja2 import Template\n",
    "from IPython.display import HTML"
   ]
  },
  {
   "cell_type": "code",
   "execution_count": 2,
   "metadata": {
    "execution": {
     "iopub.execute_input": "2020-12-16T00:12:09.350145Z",
     "iopub.status.busy": "2020-12-16T00:12:09.349414Z",
     "iopub.status.idle": "2020-12-16T00:12:09.351358Z",
     "shell.execute_reply": "2020-12-16T00:12:09.352017Z"
    },
    "papermill": {
     "duration": 0.04133,
     "end_time": "2020-12-16T00:12:09.352176",
     "exception": false,
     "start_time": "2020-12-16T00:12:09.310846",
     "status": "completed"
    },
    "tags": []
   },
   "outputs": [],
   "source": [
    "#hide\n",
    "\n",
    "# FETCH\n",
    "base_url = 'https://raw.githubusercontent.com/pratapvardhan/notebooks/master/covid19/'\n",
    "paths = {\n",
    "    'mapping': base_url + 'mapping_countries.csv',\n",
    "    'overview': base_url + 'overview.tpl'\n",
    "}"
   ]
  },
  {
   "cell_type": "code",
   "execution_count": 3,
   "metadata": {
    "execution": {
     "iopub.execute_input": "2020-12-16T00:12:09.431491Z",
     "iopub.status.busy": "2020-12-16T00:12:09.430727Z",
     "iopub.status.idle": "2020-12-16T00:12:09.433576Z",
     "shell.execute_reply": "2020-12-16T00:12:09.434443Z"
    },
    "papermill": {
     "duration": 0.047845,
     "end_time": "2020-12-16T00:12:09.434606",
     "exception": false,
     "start_time": "2020-12-16T00:12:09.386761",
     "status": "completed"
    },
    "tags": []
   },
   "outputs": [
    {
     "data": {
      "text/plain": [
       "'https://raw.githubusercontent.com/pratapvardhan/notebooks/master/covid19/mapping_countries.csv'"
      ]
     },
     "execution_count": 3,
     "metadata": {},
     "output_type": "execute_result"
    }
   ],
   "source": [
    "#hide\n",
    "paths['mapping']"
   ]
  },
  {
   "cell_type": "code",
   "execution_count": 4,
   "metadata": {
    "execution": {
     "iopub.execute_input": "2020-12-16T00:12:09.508508Z",
     "iopub.status.busy": "2020-12-16T00:12:09.507797Z",
     "iopub.status.idle": "2020-12-16T00:12:09.510462Z",
     "shell.execute_reply": "2020-12-16T00:12:09.509706Z"
    },
    "papermill": {
     "duration": 0.041672,
     "end_time": "2020-12-16T00:12:09.510592",
     "exception": false,
     "start_time": "2020-12-16T00:12:09.468920",
     "status": "completed"
    },
    "tags": []
   },
   "outputs": [],
   "source": [
    "#hide\n",
    "def get_mappings(url):\n",
    "    df = pd.read_csv(url)\n",
    "    return {\n",
    "        'df': df,\n",
    "        'replace.country': dict(df.dropna(subset=['Name']).set_index('Country')['Name']),\n",
    "        'map.continent': dict(df.set_index('Name')['Continent'])\n",
    "    }"
   ]
  },
  {
   "cell_type": "code",
   "execution_count": 5,
   "metadata": {
    "execution": {
     "iopub.execute_input": "2020-12-16T00:12:09.583408Z",
     "iopub.status.busy": "2020-12-16T00:12:09.582658Z",
     "iopub.status.idle": "2020-12-16T00:12:09.632441Z",
     "shell.execute_reply": "2020-12-16T00:12:09.631823Z"
    },
    "papermill": {
     "duration": 0.088315,
     "end_time": "2020-12-16T00:12:09.632601",
     "exception": false,
     "start_time": "2020-12-16T00:12:09.544286",
     "status": "completed"
    },
    "tags": []
   },
   "outputs": [],
   "source": [
    "#hide\n",
    "mapping = get_mappings(paths['mapping'])"
   ]
  },
  {
   "cell_type": "code",
   "execution_count": 6,
   "metadata": {
    "execution": {
     "iopub.execute_input": "2020-12-16T00:12:09.709614Z",
     "iopub.status.busy": "2020-12-16T00:12:09.708904Z",
     "iopub.status.idle": "2020-12-16T00:12:09.711541Z",
     "shell.execute_reply": "2020-12-16T00:12:09.710923Z"
    },
    "papermill": {
     "duration": 0.04407,
     "end_time": "2020-12-16T00:12:09.711695",
     "exception": false,
     "start_time": "2020-12-16T00:12:09.667625",
     "status": "completed"
    },
    "tags": []
   },
   "outputs": [],
   "source": [
    "#hide\n",
    "def get_template(path):\n",
    "    from urllib.parse import urlparse\n",
    "    if bool(urlparse(path).netloc):\n",
    "        from urllib.request import urlopen\n",
    "        return urlopen(path).read().decode('utf8')\n",
    "    return open(path).read()"
   ]
  },
  {
   "cell_type": "code",
   "execution_count": 7,
   "metadata": {
    "execution": {
     "iopub.execute_input": "2020-12-16T00:12:09.786644Z",
     "iopub.status.busy": "2020-12-16T00:12:09.786032Z",
     "iopub.status.idle": "2020-12-16T00:12:09.788653Z",
     "shell.execute_reply": "2020-12-16T00:12:09.787997Z"
    },
    "papermill": {
     "duration": 0.042179,
     "end_time": "2020-12-16T00:12:09.788781",
     "exception": false,
     "start_time": "2020-12-16T00:12:09.746602",
     "status": "completed"
    },
    "tags": []
   },
   "outputs": [],
   "source": [
    "#hide\n",
    "def get_frame(name):\n",
    "    url = (\n",
    "        'https://raw.githubusercontent.com/CSSEGISandData/COVID-19/master/csse_covid_19_data/'\n",
    "        f'csse_covid_19_time_series/time_series_covid19_{name}_global.csv')\n",
    "    df = pd.read_csv(url)\n",
    "    # rename countries\n",
    "    df['Country/Region'] = df['Country/Region'].replace(mapping['replace.country'])\n",
    "    return df"
   ]
  },
  {
   "cell_type": "code",
   "execution_count": 8,
   "metadata": {
    "execution": {
     "iopub.execute_input": "2020-12-16T00:12:09.862650Z",
     "iopub.status.busy": "2020-12-16T00:12:09.861831Z",
     "iopub.status.idle": "2020-12-16T00:12:09.863494Z",
     "shell.execute_reply": "2020-12-16T00:12:09.864062Z"
    },
    "papermill": {
     "duration": 0.040541,
     "end_time": "2020-12-16T00:12:09.864206",
     "exception": false,
     "start_time": "2020-12-16T00:12:09.823665",
     "status": "completed"
    },
    "tags": []
   },
   "outputs": [],
   "source": [
    "#hide\n",
    "def get_dates(df):\n",
    "    dt_cols = df.columns[~df.columns.isin(['Province/State', 'Country/Region', 'Lat', 'Long'])]\n",
    "    LAST_DATE_I = -1\n",
    "    # sometimes last column may be empty, then go backwards\n",
    "    for i in range(-1, -len(dt_cols), -1):\n",
    "        if not df[dt_cols[i]].fillna(0).eq(0).all():\n",
    "            LAST_DATE_I = i\n",
    "            break\n",
    "    return LAST_DATE_I, dt_cols"
   ]
  },
  {
   "cell_type": "code",
   "execution_count": 9,
   "metadata": {
    "execution": {
     "iopub.execute_input": "2020-12-16T00:12:09.937939Z",
     "iopub.status.busy": "2020-12-16T00:12:09.937104Z",
     "iopub.status.idle": "2020-12-16T00:12:10.309183Z",
     "shell.execute_reply": "2020-12-16T00:12:10.308573Z"
    },
    "papermill": {
     "duration": 0.411181,
     "end_time": "2020-12-16T00:12:10.309345",
     "exception": false,
     "start_time": "2020-12-16T00:12:09.898164",
     "status": "completed"
    },
    "tags": []
   },
   "outputs": [],
   "source": [
    "#hide\n",
    "COL_REGION = 'Country/Region'\n",
    "# Confirmed, Recovered, Deaths\n",
    "df = get_frame('confirmed')\n",
    "# dft_: timeseries, dfc_: today country agg\n",
    "dft_cases = df\n",
    "dft_deaths = get_frame('deaths')\n",
    "dft_recovered = get_frame('recovered')\n",
    "LAST_DATE_I, dt_cols = get_dates(df)"
   ]
  },
  {
   "cell_type": "code",
   "execution_count": 10,
   "metadata": {
    "execution": {
     "iopub.execute_input": "2020-12-16T00:12:10.383246Z",
     "iopub.status.busy": "2020-12-16T00:12:10.382532Z",
     "iopub.status.idle": "2020-12-16T00:12:10.384380Z",
     "shell.execute_reply": "2020-12-16T00:12:10.385136Z"
    },
    "papermill": {
     "duration": 0.043742,
     "end_time": "2020-12-16T00:12:10.385293",
     "exception": false,
     "start_time": "2020-12-16T00:12:10.341551",
     "status": "completed"
    },
    "tags": []
   },
   "outputs": [],
   "source": [
    "#hide\n",
    "LAST_DATE_I, dt_cols = get_dates(df)\n",
    "dt_today =dt_cols[LAST_DATE_I]\n",
    "# dt_5day = dt_cols[LAST_DATE_I - 5]\n",
    "dt_yday = dt_cols[LAST_DATE_I - 1]"
   ]
  },
  {
   "cell_type": "code",
   "execution_count": 11,
   "metadata": {
    "execution": {
     "iopub.execute_input": "2020-12-16T00:12:10.463150Z",
     "iopub.status.busy": "2020-12-16T00:12:10.462364Z",
     "iopub.status.idle": "2020-12-16T00:12:10.470026Z",
     "shell.execute_reply": "2020-12-16T00:12:10.469405Z"
    },
    "papermill": {
     "duration": 0.050583,
     "end_time": "2020-12-16T00:12:10.470169",
     "exception": false,
     "start_time": "2020-12-16T00:12:10.419586",
     "status": "completed"
    },
    "tags": []
   },
   "outputs": [],
   "source": [
    "#hide\n",
    "dfc_cases = dft_cases.groupby(COL_REGION)[dt_today].sum()\n",
    "dfc_deaths = dft_deaths.groupby(COL_REGION)[dt_today].sum()\n",
    "# dfp_cases = dft_cases.groupby(COL_REGION)[dt_5day].sum()\n",
    "# dfp_deaths = dft_deaths.groupby(COL_REGION)[dt_5day].sum()\n",
    "dfp_cases = dft_cases.groupby(COL_REGION)[dt_yday].sum()\n",
    "dfp_deaths = dft_deaths.groupby(COL_REGION)[dt_yday].sum()"
   ]
  },
  {
   "cell_type": "code",
   "execution_count": 12,
   "metadata": {
    "execution": {
     "iopub.execute_input": "2020-12-16T00:12:10.545422Z",
     "iopub.status.busy": "2020-12-16T00:12:10.544777Z",
     "iopub.status.idle": "2020-12-16T00:12:10.551181Z",
     "shell.execute_reply": "2020-12-16T00:12:10.550655Z"
    },
    "papermill": {
     "duration": 0.046609,
     "end_time": "2020-12-16T00:12:10.551310",
     "exception": false,
     "start_time": "2020-12-16T00:12:10.504701",
     "status": "completed"
    },
    "tags": []
   },
   "outputs": [],
   "source": [
    "#hide\n",
    "df_table = (pd.DataFrame(dict(Cases = dfc_cases, Deaths = dfc_deaths, PCases = dfp_cases, PDeaths = dfp_deaths))\n",
    "            .sort_values(by = ['Cases','Deaths'], ascending = [False, False])\n",
    "            .reset_index())"
   ]
  },
  {
   "cell_type": "code",
   "execution_count": 13,
   "metadata": {
    "execution": {
     "iopub.execute_input": "2020-12-16T00:12:10.640461Z",
     "iopub.status.busy": "2020-12-16T00:12:10.639754Z",
     "iopub.status.idle": "2020-12-16T00:12:10.648628Z",
     "shell.execute_reply": "2020-12-16T00:12:10.649247Z"
    },
    "papermill": {
     "duration": 0.063665,
     "end_time": "2020-12-16T00:12:10.649412",
     "exception": false,
     "start_time": "2020-12-16T00:12:10.585747",
     "status": "completed"
    },
    "tags": []
   },
   "outputs": [
    {
     "data": {
      "text/html": [
       "<div>\n",
       "<style scoped>\n",
       "    .dataframe tbody tr th:only-of-type {\n",
       "        vertical-align: middle;\n",
       "    }\n",
       "\n",
       "    .dataframe tbody tr th {\n",
       "        vertical-align: top;\n",
       "    }\n",
       "\n",
       "    .dataframe thead th {\n",
       "        text-align: right;\n",
       "    }\n",
       "</style>\n",
       "<table border=\"1\" class=\"dataframe\">\n",
       "  <thead>\n",
       "    <tr style=\"text-align: right;\">\n",
       "      <th></th>\n",
       "      <th>Country/Region</th>\n",
       "      <th>Cases</th>\n",
       "      <th>Deaths</th>\n",
       "      <th>PCases</th>\n",
       "      <th>PDeaths</th>\n",
       "      <th>Cases (+)</th>\n",
       "      <th>Deaths (+)</th>\n",
       "      <th>Fatality Rate</th>\n",
       "      <th>Continent</th>\n",
       "    </tr>\n",
       "  </thead>\n",
       "  <tbody>\n",
       "    <tr>\n",
       "      <th>0</th>\n",
       "      <td>US</td>\n",
       "      <td>16518487</td>\n",
       "      <td>300479</td>\n",
       "      <td>16326008</td>\n",
       "      <td>299168</td>\n",
       "      <td>192479</td>\n",
       "      <td>1311</td>\n",
       "      <td>1.82</td>\n",
       "      <td>North America</td>\n",
       "    </tr>\n",
       "    <tr>\n",
       "      <th>1</th>\n",
       "      <td>India</td>\n",
       "      <td>9906165</td>\n",
       "      <td>143709</td>\n",
       "      <td>9884100</td>\n",
       "      <td>143355</td>\n",
       "      <td>22065</td>\n",
       "      <td>354</td>\n",
       "      <td>1.45</td>\n",
       "      <td>Asia</td>\n",
       "    </tr>\n",
       "    <tr>\n",
       "      <th>2</th>\n",
       "      <td>Brazil</td>\n",
       "      <td>6927145</td>\n",
       "      <td>181835</td>\n",
       "      <td>6901952</td>\n",
       "      <td>181402</td>\n",
       "      <td>25193</td>\n",
       "      <td>433</td>\n",
       "      <td>2.62</td>\n",
       "      <td>South America</td>\n",
       "    </tr>\n",
       "    <tr>\n",
       "      <th>3</th>\n",
       "      <td>Russia</td>\n",
       "      <td>2656601</td>\n",
       "      <td>46846</td>\n",
       "      <td>2629699</td>\n",
       "      <td>46404</td>\n",
       "      <td>26902</td>\n",
       "      <td>442</td>\n",
       "      <td>1.76</td>\n",
       "      <td>Europe</td>\n",
       "    </tr>\n",
       "    <tr>\n",
       "      <th>4</th>\n",
       "      <td>France</td>\n",
       "      <td>2433859</td>\n",
       "      <td>58391</td>\n",
       "      <td>2430612</td>\n",
       "      <td>58015</td>\n",
       "      <td>3247</td>\n",
       "      <td>376</td>\n",
       "      <td>2.40</td>\n",
       "      <td>Europe</td>\n",
       "    </tr>\n",
       "  </tbody>\n",
       "</table>\n",
       "</div>"
      ],
      "text/plain": [
       "  Country/Region     Cases  Deaths    PCases  PDeaths  Cases (+)  Deaths (+)  \\\n",
       "0             US  16518487  300479  16326008   299168     192479        1311   \n",
       "1          India   9906165  143709   9884100   143355      22065         354   \n",
       "2         Brazil   6927145  181835   6901952   181402      25193         433   \n",
       "3         Russia   2656601   46846   2629699    46404      26902         442   \n",
       "4         France   2433859   58391   2430612    58015       3247         376   \n",
       "\n",
       "   Fatality Rate      Continent  \n",
       "0           1.82  North America  \n",
       "1           1.45           Asia  \n",
       "2           2.62  South America  \n",
       "3           1.76         Europe  \n",
       "4           2.40         Europe  "
      ]
     },
     "execution_count": 13,
     "metadata": {},
     "output_type": "execute_result"
    }
   ],
   "source": [
    "#hide\n",
    "for c in 'Cases, Deaths'.split(', '):\n",
    "    df_table[f'{c} (+)'] = (df_table[c] - df_table[f'P{c}']).clip(0)\n",
    "    #Clip ça veut dire, les chiffres negatif sont interdit\n",
    "df_table['Fatality Rate'] = (100* df_table['Deaths']/ df_table['Cases']).round(2)\n",
    "df_table['Continent'] = df_table['Country/Region'].map(mapping['map.continent'])\n",
    "df_table.head(5)"
   ]
  },
  {
   "cell_type": "code",
   "execution_count": 14,
   "metadata": {
    "execution": {
     "iopub.execute_input": "2020-12-16T00:12:10.726861Z",
     "iopub.status.busy": "2020-12-16T00:12:10.726213Z",
     "iopub.status.idle": "2020-12-16T00:12:10.728031Z",
     "shell.execute_reply": "2020-12-16T00:12:10.728739Z"
    },
    "papermill": {
     "duration": 0.04409,
     "end_time": "2020-12-16T00:12:10.728990",
     "exception": false,
     "start_time": "2020-12-16T00:12:10.684900",
     "status": "completed"
    },
    "tags": []
   },
   "outputs": [],
   "source": [
    "#hide\n",
    "#delete problematic countries from table\n",
    "df_table = df_table[~df_table['Country/Region'].isin(['Cape Verde', 'Cruise Ship', 'Kosovo'])]"
   ]
  },
  {
   "cell_type": "code",
   "execution_count": 15,
   "metadata": {
    "execution": {
     "iopub.execute_input": "2020-12-16T00:12:10.807326Z",
     "iopub.status.busy": "2020-12-16T00:12:10.806224Z",
     "iopub.status.idle": "2020-12-16T00:12:10.828552Z",
     "shell.execute_reply": "2020-12-16T00:12:10.827917Z"
    },
    "papermill": {
     "duration": 0.06536,
     "end_time": "2020-12-16T00:12:10.828694",
     "exception": false,
     "start_time": "2020-12-16T00:12:10.763334",
     "status": "completed"
    },
    "tags": []
   },
   "outputs": [
    {
     "data": {
      "text/html": [
       "<div>\n",
       "<style scoped>\n",
       "    .dataframe tbody tr th:only-of-type {\n",
       "        vertical-align: middle;\n",
       "    }\n",
       "\n",
       "    .dataframe tbody tr th {\n",
       "        vertical-align: top;\n",
       "    }\n",
       "\n",
       "    .dataframe thead th {\n",
       "        text-align: right;\n",
       "    }\n",
       "</style>\n",
       "<table border=\"1\" class=\"dataframe\">\n",
       "  <thead>\n",
       "    <tr style=\"text-align: right;\">\n",
       "      <th></th>\n",
       "      <th>Country/Region</th>\n",
       "      <th>Cases</th>\n",
       "      <th>Deaths</th>\n",
       "      <th>PCases</th>\n",
       "      <th>PDeaths</th>\n",
       "      <th>Cases (+)</th>\n",
       "      <th>Deaths (+)</th>\n",
       "      <th>Fatality Rate</th>\n",
       "      <th>Continent</th>\n",
       "    </tr>\n",
       "  </thead>\n",
       "  <tbody>\n",
       "    <tr>\n",
       "      <th>0</th>\n",
       "      <td>US</td>\n",
       "      <td>16518487</td>\n",
       "      <td>300479</td>\n",
       "      <td>16326008</td>\n",
       "      <td>299168</td>\n",
       "      <td>192479</td>\n",
       "      <td>1311</td>\n",
       "      <td>1.8</td>\n",
       "      <td>North America</td>\n",
       "    </tr>\n",
       "    <tr>\n",
       "      <th>1</th>\n",
       "      <td>India</td>\n",
       "      <td>9906165</td>\n",
       "      <td>143709</td>\n",
       "      <td>9884100</td>\n",
       "      <td>143355</td>\n",
       "      <td>22065</td>\n",
       "      <td>354</td>\n",
       "      <td>1.5</td>\n",
       "      <td>Asia</td>\n",
       "    </tr>\n",
       "    <tr>\n",
       "      <th>2</th>\n",
       "      <td>Brazil</td>\n",
       "      <td>6927145</td>\n",
       "      <td>181835</td>\n",
       "      <td>6901952</td>\n",
       "      <td>181402</td>\n",
       "      <td>25193</td>\n",
       "      <td>433</td>\n",
       "      <td>2.6</td>\n",
       "      <td>South America</td>\n",
       "    </tr>\n",
       "    <tr>\n",
       "      <th>3</th>\n",
       "      <td>Russia</td>\n",
       "      <td>2656601</td>\n",
       "      <td>46846</td>\n",
       "      <td>2629699</td>\n",
       "      <td>46404</td>\n",
       "      <td>26902</td>\n",
       "      <td>442</td>\n",
       "      <td>1.8</td>\n",
       "      <td>Europe</td>\n",
       "    </tr>\n",
       "    <tr>\n",
       "      <th>4</th>\n",
       "      <td>France</td>\n",
       "      <td>2433859</td>\n",
       "      <td>58391</td>\n",
       "      <td>2430612</td>\n",
       "      <td>58015</td>\n",
       "      <td>3247</td>\n",
       "      <td>376</td>\n",
       "      <td>2.4</td>\n",
       "      <td>Europe</td>\n",
       "    </tr>\n",
       "  </tbody>\n",
       "</table>\n",
       "</div>"
      ],
      "text/plain": [
       "  Country/Region     Cases  Deaths    PCases  PDeaths  Cases (+)  Deaths (+)  \\\n",
       "0             US  16518487  300479  16326008   299168     192479        1311   \n",
       "1          India   9906165  143709   9884100   143355      22065         354   \n",
       "2         Brazil   6927145  181835   6901952   181402      25193         433   \n",
       "3         Russia   2656601   46846   2629699    46404      26902         442   \n",
       "4         France   2433859   58391   2430612    58015       3247         376   \n",
       "\n",
       "   Fatality Rate      Continent  \n",
       "0            1.8  North America  \n",
       "1            1.5           Asia  \n",
       "2            2.6  South America  \n",
       "3            1.8         Europe  \n",
       "4            2.4         Europe  "
      ]
     },
     "execution_count": 15,
     "metadata": {},
     "output_type": "execute_result"
    }
   ],
   "source": [
    "#hide\n",
    "df_table = (pd.DataFrame(dict(Cases=dfc_cases, Deaths=dfc_deaths, PCases=dfp_cases, PDeaths=dfp_deaths))\n",
    "             .sort_values(by=['Cases', 'Deaths'], ascending=[False, False])\n",
    "             .reset_index())\n",
    "df_table.rename(columns={'index': 'Country/Region'}, inplace=True)\n",
    "for c in 'Cases, Deaths'.split(', '):\n",
    "    df_table[f'{c} (+)'] = (df_table[c] - df_table[f'P{c}']).clip(0)  # DATA BUG\n",
    "df_table['Fatality Rate'] = (100 * df_table['Deaths'] / df_table['Cases']).round(1)\n",
    "df_table['Continent'] = df_table['Country/Region'].map(mapping['map.continent'])\n",
    "df_table.head(5)"
   ]
  },
  {
   "cell_type": "code",
   "execution_count": 16,
   "metadata": {
    "execution": {
     "iopub.execute_input": "2020-12-16T00:12:10.906235Z",
     "iopub.status.busy": "2020-12-16T00:12:10.905575Z",
     "iopub.status.idle": "2020-12-16T00:12:10.908323Z",
     "shell.execute_reply": "2020-12-16T00:12:10.907739Z"
    },
    "papermill": {
     "duration": 0.043821,
     "end_time": "2020-12-16T00:12:10.908458",
     "exception": false,
     "start_time": "2020-12-16T00:12:10.864637",
     "status": "completed"
    },
    "tags": []
   },
   "outputs": [],
   "source": [
    "#hide\n",
    "#delete problematic countries from table\n",
    "df_table = df_table[~df_table['Country/Region'].isin(['Cape Verde', 'Cruise Ship', 'Kosovo'])]"
   ]
  },
  {
   "cell_type": "code",
   "execution_count": 17,
   "metadata": {
    "execution": {
     "iopub.execute_input": "2020-12-16T00:12:10.986541Z",
     "iopub.status.busy": "2020-12-16T00:12:10.985823Z",
     "iopub.status.idle": "2020-12-16T00:12:11.003396Z",
     "shell.execute_reply": "2020-12-16T00:12:11.002577Z"
    },
    "papermill": {
     "duration": 0.060547,
     "end_time": "2020-12-16T00:12:11.003634",
     "exception": false,
     "start_time": "2020-12-16T00:12:10.943087",
     "status": "completed"
    },
    "tags": []
   },
   "outputs": [],
   "source": [
    "#hide\n",
    "metrics = [df_table.columns[index] for index in [1,2,5,6]]\n",
    "# s_china = df_table[df_table['Country/Region'].eq('China')][metrics].sum().add_prefix('China ')\n",
    "s_us = df_table[df_table['Country/Region'].eq('US')][metrics].sum().add_prefix('US ')\n",
    "s_eu = df_table[df_table['Continent'].eq('Europe')][metrics].sum().add_prefix('EU ')\n",
    "s_ind = df_table[df_table['Country/Region'].eq('India')][metrics].sum().add_prefix('India ')\n",
    "summary = {'updated': pd.to_datetime(dt_today), 'since': pd.to_datetime(dt_yday)}\n",
    "summary = {'updated': pd.to_datetime(dt_today), 'since': pd.to_datetime(dt_yday)}\n",
    "summary = {**summary, **df_table[metrics].sum(), **s_ind, **s_us, **s_eu}"
   ]
  },
  {
   "cell_type": "code",
   "execution_count": 18,
   "metadata": {
    "execution": {
     "iopub.execute_input": "2020-12-16T00:12:11.084772Z",
     "iopub.status.busy": "2020-12-16T00:12:11.084019Z",
     "iopub.status.idle": "2020-12-16T00:12:11.101089Z",
     "shell.execute_reply": "2020-12-16T00:12:11.101654Z"
    },
    "papermill": {
     "duration": 0.061264,
     "end_time": "2020-12-16T00:12:11.101815",
     "exception": false,
     "start_time": "2020-12-16T00:12:11.040551",
     "status": "completed"
    },
    "tags": []
   },
   "outputs": [],
   "source": [
    "#hide\n",
    "dft_ct_new_cases = dft_cases.groupby(COL_REGION)[dt_cols].sum().diff(axis=1).fillna(0).astype(int)"
   ]
  },
  {
   "cell_type": "code",
   "execution_count": 19,
   "metadata": {
    "execution": {
     "iopub.execute_input": "2020-12-16T00:12:11.180016Z",
     "iopub.status.busy": "2020-12-16T00:12:11.179373Z",
     "iopub.status.idle": "2020-12-16T00:12:11.182360Z",
     "shell.execute_reply": "2020-12-16T00:12:11.181709Z"
    },
    "papermill": {
     "duration": 0.044804,
     "end_time": "2020-12-16T00:12:11.182533",
     "exception": false,
     "start_time": "2020-12-16T00:12:11.137729",
     "status": "completed"
    },
    "tags": []
   },
   "outputs": [],
   "source": [
    "#hide\n",
    "everydaycases = dft_ct_new_cases.cumsum(axis=1)"
   ]
  },
  {
   "cell_type": "code",
   "execution_count": 20,
   "metadata": {
    "execution": {
     "iopub.execute_input": "2020-12-16T00:12:11.258253Z",
     "iopub.status.busy": "2020-12-16T00:12:11.257400Z",
     "iopub.status.idle": "2020-12-16T00:12:12.563134Z",
     "shell.execute_reply": "2020-12-16T00:12:12.562429Z"
    },
    "papermill": {
     "duration": 1.345013,
     "end_time": "2020-12-16T00:12:12.563291",
     "exception": false,
     "start_time": "2020-12-16T00:12:11.218278",
     "status": "completed"
    },
    "tags": []
   },
   "outputs": [],
   "source": [
    "#hide\n",
    "import pandas as pd\n",
    "import matplotlib.pyplot as plt\n",
    "import matplotlib.ticker as ticker\n",
    "import matplotlib.animation as animation\n",
    "from IPython.display import HTML"
   ]
  },
  {
   "cell_type": "code",
   "execution_count": 21,
   "metadata": {
    "execution": {
     "iopub.execute_input": "2020-12-16T00:12:12.640739Z",
     "iopub.status.busy": "2020-12-16T00:12:12.640058Z",
     "iopub.status.idle": "2020-12-16T00:12:12.645253Z",
     "shell.execute_reply": "2020-12-16T00:12:12.644716Z"
    },
    "papermill": {
     "duration": 0.047163,
     "end_time": "2020-12-16T00:12:12.645395",
     "exception": false,
     "start_time": "2020-12-16T00:12:12.598232",
     "status": "completed"
    },
    "tags": []
   },
   "outputs": [],
   "source": [
    "#hide\n",
    "t = everydaycases.stack()"
   ]
  },
  {
   "cell_type": "code",
   "execution_count": 22,
   "metadata": {
    "execution": {
     "iopub.execute_input": "2020-12-16T00:12:12.721651Z",
     "iopub.status.busy": "2020-12-16T00:12:12.720993Z",
     "iopub.status.idle": "2020-12-16T00:12:12.727628Z",
     "shell.execute_reply": "2020-12-16T00:12:12.728272Z"
    },
    "papermill": {
     "duration": 0.047713,
     "end_time": "2020-12-16T00:12:12.728446",
     "exception": false,
     "start_time": "2020-12-16T00:12:12.680733",
     "status": "completed"
    },
    "tags": []
   },
   "outputs": [],
   "source": [
    "#hide\n",
    "g = t.reset_index(['Country/Region'])"
   ]
  },
  {
   "cell_type": "code",
   "execution_count": 23,
   "metadata": {
    "execution": {
     "iopub.execute_input": "2020-12-16T00:12:12.804418Z",
     "iopub.status.busy": "2020-12-16T00:12:12.803738Z",
     "iopub.status.idle": "2020-12-16T00:12:12.806237Z",
     "shell.execute_reply": "2020-12-16T00:12:12.805539Z"
    },
    "papermill": {
     "duration": 0.042677,
     "end_time": "2020-12-16T00:12:12.806439",
     "exception": false,
     "start_time": "2020-12-16T00:12:12.763762",
     "status": "completed"
    },
    "tags": []
   },
   "outputs": [],
   "source": [
    "#hide\n",
    "g.index.name = 'date'"
   ]
  },
  {
   "cell_type": "code",
   "execution_count": 24,
   "metadata": {
    "execution": {
     "iopub.execute_input": "2020-12-16T00:12:12.881914Z",
     "iopub.status.busy": "2020-12-16T00:12:12.881083Z",
     "iopub.status.idle": "2020-12-16T00:12:12.883251Z",
     "shell.execute_reply": "2020-12-16T00:12:12.883847Z"
    },
    "papermill": {
     "duration": 0.041382,
     "end_time": "2020-12-16T00:12:12.883996",
     "exception": false,
     "start_time": "2020-12-16T00:12:12.842614",
     "status": "completed"
    },
    "tags": []
   },
   "outputs": [],
   "source": [
    "# #hide\n",
    "# g = g.reset_index(['date'])"
   ]
  },
  {
   "cell_type": "code",
   "execution_count": 25,
   "metadata": {
    "execution": {
     "iopub.execute_input": "2020-12-16T00:12:12.960562Z",
     "iopub.status.busy": "2020-12-16T00:12:12.959829Z",
     "iopub.status.idle": "2020-12-16T00:12:12.962803Z",
     "shell.execute_reply": "2020-12-16T00:12:12.961936Z"
    },
    "papermill": {
     "duration": 0.042809,
     "end_time": "2020-12-16T00:12:12.962953",
     "exception": false,
     "start_time": "2020-12-16T00:12:12.920144",
     "status": "completed"
    },
    "tags": []
   },
   "outputs": [],
   "source": [
    "#hide\n",
    "# g.head()"
   ]
  },
  {
   "cell_type": "code",
   "execution_count": 26,
   "metadata": {
    "execution": {
     "iopub.execute_input": "2020-12-16T00:12:13.036564Z",
     "iopub.status.busy": "2020-12-16T00:12:13.035983Z",
     "iopub.status.idle": "2020-12-16T00:12:13.038078Z",
     "shell.execute_reply": "2020-12-16T00:12:13.038714Z"
    },
    "papermill": {
     "duration": 0.039958,
     "end_time": "2020-12-16T00:12:13.038991",
     "exception": false,
     "start_time": "2020-12-16T00:12:12.999033",
     "status": "completed"
    },
    "tags": []
   },
   "outputs": [],
   "source": [
    "#hide\n",
    "# g.columns = ['date','country','cases']"
   ]
  },
  {
   "cell_type": "code",
   "execution_count": 27,
   "metadata": {
    "execution": {
     "iopub.execute_input": "2020-12-16T00:12:13.113233Z",
     "iopub.status.busy": "2020-12-16T00:12:13.112557Z",
     "iopub.status.idle": "2020-12-16T00:12:13.115058Z",
     "shell.execute_reply": "2020-12-16T00:12:13.114502Z"
    },
    "papermill": {
     "duration": 0.03999,
     "end_time": "2020-12-16T00:12:13.115191",
     "exception": false,
     "start_time": "2020-12-16T00:12:13.075201",
     "status": "completed"
    },
    "tags": []
   },
   "outputs": [],
   "source": [
    "#hide\n",
    "# g['continent'] = g.country"
   ]
  },
  {
   "cell_type": "code",
   "execution_count": 28,
   "metadata": {
    "execution": {
     "iopub.execute_input": "2020-12-16T00:12:13.191412Z",
     "iopub.status.busy": "2020-12-16T00:12:13.190650Z",
     "iopub.status.idle": "2020-12-16T00:12:13.193366Z",
     "shell.execute_reply": "2020-12-16T00:12:13.192731Z"
    },
    "papermill": {
     "duration": 0.042611,
     "end_time": "2020-12-16T00:12:13.193501",
     "exception": false,
     "start_time": "2020-12-16T00:12:13.150890",
     "status": "completed"
    },
    "tags": []
   },
   "outputs": [],
   "source": [
    "#hide\n",
    "# cols = list(g.columns.values)"
   ]
  },
  {
   "cell_type": "code",
   "execution_count": 29,
   "metadata": {
    "execution": {
     "iopub.execute_input": "2020-12-16T00:12:13.268312Z",
     "iopub.status.busy": "2020-12-16T00:12:13.267619Z",
     "iopub.status.idle": "2020-12-16T00:12:13.269542Z",
     "shell.execute_reply": "2020-12-16T00:12:13.270127Z"
    },
    "papermill": {
     "duration": 0.04117,
     "end_time": "2020-12-16T00:12:13.270286",
     "exception": false,
     "start_time": "2020-12-16T00:12:13.229116",
     "status": "completed"
    },
    "tags": []
   },
   "outputs": [],
   "source": [
    "#hide\n",
    "# cols.insert(0, cols.pop())"
   ]
  },
  {
   "cell_type": "code",
   "execution_count": 30,
   "metadata": {
    "execution": {
     "iopub.execute_input": "2020-12-16T00:12:13.343079Z",
     "iopub.status.busy": "2020-12-16T00:12:13.342288Z",
     "iopub.status.idle": "2020-12-16T00:12:13.344460Z",
     "shell.execute_reply": "2020-12-16T00:12:13.345094Z"
    },
    "papermill": {
     "duration": 0.040738,
     "end_time": "2020-12-16T00:12:13.345260",
     "exception": false,
     "start_time": "2020-12-16T00:12:13.304522",
     "status": "completed"
    },
    "tags": []
   },
   "outputs": [],
   "source": [
    "#hide\n",
    "# g = g[cols]"
   ]
  },
  {
   "cell_type": "code",
   "execution_count": 31,
   "metadata": {
    "execution": {
     "iopub.execute_input": "2020-12-16T00:12:13.420370Z",
     "iopub.status.busy": "2020-12-16T00:12:13.419686Z",
     "iopub.status.idle": "2020-12-16T00:12:13.422289Z",
     "shell.execute_reply": "2020-12-16T00:12:13.421680Z"
    },
    "papermill": {
     "duration": 0.042066,
     "end_time": "2020-12-16T00:12:13.422432",
     "exception": false,
     "start_time": "2020-12-16T00:12:13.380366",
     "status": "completed"
    },
    "tags": []
   },
   "outputs": [],
   "source": [
    "#hide\n",
    "# g['continent'] = g['continent'].map(mapping['map.continent'])"
   ]
  },
  {
   "cell_type": "code",
   "execution_count": 32,
   "metadata": {
    "execution": {
     "iopub.execute_input": "2020-12-16T00:12:13.498802Z",
     "iopub.status.busy": "2020-12-16T00:12:13.498052Z",
     "iopub.status.idle": "2020-12-16T00:12:13.500614Z",
     "shell.execute_reply": "2020-12-16T00:12:13.499932Z"
    },
    "papermill": {
     "duration": 0.042143,
     "end_time": "2020-12-16T00:12:13.500751",
     "exception": false,
     "start_time": "2020-12-16T00:12:13.458608",
     "status": "completed"
    },
    "tags": []
   },
   "outputs": [],
   "source": [
    "#hide\n",
    "# g.head()"
   ]
  },
  {
   "cell_type": "code",
   "execution_count": 33,
   "metadata": {
    "execution": {
     "iopub.execute_input": "2020-12-16T00:12:13.577650Z",
     "iopub.status.busy": "2020-12-16T00:12:13.576964Z",
     "iopub.status.idle": "2020-12-16T00:12:13.578664Z",
     "shell.execute_reply": "2020-12-16T00:12:13.579285Z"
    },
    "papermill": {
     "duration": 0.042416,
     "end_time": "2020-12-16T00:12:13.579441",
     "exception": false,
     "start_time": "2020-12-16T00:12:13.537025",
     "status": "completed"
    },
    "tags": []
   },
   "outputs": [],
   "source": [
    "# hide\n",
    "# g['date'] = g['date'].astype('datetime64[ns]')"
   ]
  },
  {
   "cell_type": "code",
   "execution_count": 34,
   "metadata": {
    "execution": {
     "iopub.execute_input": "2020-12-16T00:12:13.657461Z",
     "iopub.status.busy": "2020-12-16T00:12:13.656747Z",
     "iopub.status.idle": "2020-12-16T00:12:13.659278Z",
     "shell.execute_reply": "2020-12-16T00:12:13.659927Z"
    },
    "papermill": {
     "duration": 0.044409,
     "end_time": "2020-12-16T00:12:13.660082",
     "exception": false,
     "start_time": "2020-12-16T00:12:13.615673",
     "status": "completed"
    },
    "tags": []
   },
   "outputs": [],
   "source": [
    "#hide\n",
    "# g['date'] = g.date.dt.dayofyear"
   ]
  },
  {
   "cell_type": "code",
   "execution_count": 35,
   "metadata": {
    "execution": {
     "iopub.execute_input": "2020-12-16T00:12:13.737144Z",
     "iopub.status.busy": "2020-12-16T00:12:13.736439Z",
     "iopub.status.idle": "2020-12-16T00:12:13.738930Z",
     "shell.execute_reply": "2020-12-16T00:12:13.738236Z"
    },
    "papermill": {
     "duration": 0.042942,
     "end_time": "2020-12-16T00:12:13.739097",
     "exception": false,
     "start_time": "2020-12-16T00:12:13.696155",
     "status": "completed"
    },
    "tags": []
   },
   "outputs": [],
   "source": [
    "#hide\n",
    "# g = g.rename(columns= {'continent':'group','country':'name','cases':'value'})"
   ]
  },
  {
   "cell_type": "code",
   "execution_count": 36,
   "metadata": {
    "execution": {
     "iopub.execute_input": "2020-12-16T00:12:13.816243Z",
     "iopub.status.busy": "2020-12-16T00:12:13.815543Z",
     "iopub.status.idle": "2020-12-16T00:12:13.817529Z",
     "shell.execute_reply": "2020-12-16T00:12:13.818118Z"
    },
    "papermill": {
     "duration": 0.042895,
     "end_time": "2020-12-16T00:12:13.818300",
     "exception": false,
     "start_time": "2020-12-16T00:12:13.775405",
     "status": "completed"
    },
    "tags": []
   },
   "outputs": [],
   "source": [
    "#hide\n",
    "# cols = ['name','group','day','value']"
   ]
  },
  {
   "cell_type": "code",
   "execution_count": 37,
   "metadata": {
    "execution": {
     "iopub.execute_input": "2020-12-16T00:12:13.896355Z",
     "iopub.status.busy": "2020-12-16T00:12:13.895643Z",
     "iopub.status.idle": "2020-12-16T00:12:13.897766Z",
     "shell.execute_reply": "2020-12-16T00:12:13.898349Z"
    },
    "papermill": {
     "duration": 0.043079,
     "end_time": "2020-12-16T00:12:13.898528",
     "exception": false,
     "start_time": "2020-12-16T00:12:13.855449",
     "status": "completed"
    },
    "tags": []
   },
   "outputs": [],
   "source": [
    "#hide\n",
    "# g.rename(columns= {'date':'day'},inplace = True)"
   ]
  },
  {
   "cell_type": "code",
   "execution_count": 38,
   "metadata": {
    "execution": {
     "iopub.execute_input": "2020-12-16T00:12:13.975126Z",
     "iopub.status.busy": "2020-12-16T00:12:13.974450Z",
     "iopub.status.idle": "2020-12-16T00:12:13.980164Z",
     "shell.execute_reply": "2020-12-16T00:12:13.979537Z"
    },
    "papermill": {
     "duration": 0.045392,
     "end_time": "2020-12-16T00:12:13.980309",
     "exception": false,
     "start_time": "2020-12-16T00:12:13.934917",
     "status": "completed"
    },
    "tags": []
   },
   "outputs": [],
   "source": [
    "#hide\n",
    "# g = g[cols]"
   ]
  },
  {
   "cell_type": "code",
   "execution_count": 39,
   "metadata": {
    "execution": {
     "iopub.execute_input": "2020-12-16T00:12:14.058981Z",
     "iopub.status.busy": "2020-12-16T00:12:14.058240Z",
     "iopub.status.idle": "2020-12-16T00:12:14.060724Z",
     "shell.execute_reply": "2020-12-16T00:12:14.060160Z"
    },
    "papermill": {
     "duration": 0.044667,
     "end_time": "2020-12-16T00:12:14.060900",
     "exception": false,
     "start_time": "2020-12-16T00:12:14.016233",
     "status": "completed"
    },
    "tags": []
   },
   "outputs": [],
   "source": [
    "# #hide\n",
    "# g = g[g.group.notna()]"
   ]
  },
  {
   "cell_type": "code",
   "execution_count": 40,
   "metadata": {
    "execution": {
     "iopub.execute_input": "2020-12-16T00:12:14.143994Z",
     "iopub.status.busy": "2020-12-16T00:12:14.143318Z",
     "iopub.status.idle": "2020-12-16T00:12:14.145932Z",
     "shell.execute_reply": "2020-12-16T00:12:14.145303Z"
    },
    "papermill": {
     "duration": 0.041668,
     "end_time": "2020-12-16T00:12:14.146078",
     "exception": false,
     "start_time": "2020-12-16T00:12:14.104410",
     "status": "completed"
    },
    "tags": []
   },
   "outputs": [],
   "source": [
    "# #hide\n",
    "# colors = dict(zip(\n",
    "#     [\"Oceania\", \"Europe\", \"Asia\", \"South America\", \"Middle East\", \"North America\", \"Africa\"],\n",
    "#     [\"#adb0ff\", \"#ffb3ff\", \"#90d595\", \"#e48381\", \"#aafbff\", \"#f7bb5f\", \"#eafb50\"]\n",
    "# ))\n",
    "# group_lk = g.set_index('name')['group'].to_dict()"
   ]
  },
  {
   "cell_type": "code",
   "execution_count": null,
   "metadata": {
    "papermill": {
     "duration": 0.034777,
     "end_time": "2020-12-16T00:12:14.214937",
     "exception": false,
     "start_time": "2020-12-16T00:12:14.180160",
     "status": "completed"
    },
    "tags": []
   },
   "outputs": [],
   "source": []
  },
  {
   "cell_type": "code",
   "execution_count": 41,
   "metadata": {
    "execution": {
     "iopub.execute_input": "2020-12-16T00:12:14.289770Z",
     "iopub.status.busy": "2020-12-16T00:12:14.288973Z",
     "iopub.status.idle": "2020-12-16T00:12:14.291389Z",
     "shell.execute_reply": "2020-12-16T00:12:14.292027Z"
    },
    "papermill": {
     "duration": 0.042407,
     "end_time": "2020-12-16T00:12:14.292185",
     "exception": false,
     "start_time": "2020-12-16T00:12:14.249778",
     "status": "completed"
    },
    "tags": []
   },
   "outputs": [],
   "source": [
    "# #hide\n",
    "# fig, ax = plt.subplots(figsize=(15, 8))\n",
    "\n",
    "# def draw_barchart(current_day):\n",
    "#     dff = g[g['day'].eq(current_day)].sort_values(by='value', ascending=True).tail(10)\n",
    "#     ax.clear()\n",
    "#     ax.barh(dff['name'], dff['value'], color=[colors[group_lk[x]] for x in dff['name']])\n",
    "#     dx = dff['value'].max() / 200\n",
    "    \n",
    "#     for i, (value, name) in enumerate(zip(dff['value'], dff['name'])):\n",
    "#         ax.text(value-dx, i,     name,           size=14, weight=600, ha='right', va='bottom')\n",
    "#         ax.text(value-dx, i-.25, group_lk[name], size=10, color='#444444', ha='right', va='baseline')\n",
    "#         ax.text(value+dx, i,     f'{value:,.0f}',  size=14, ha='left',  va='center')\n",
    "#     ax.text(1, 0.4, current_day, transform=ax.transAxes, color='#777777', size=46, ha='right', weight=800)\n",
    "#     ax.text(0, 1.06, 'Population (thousands)', transform=ax.transAxes, size=12, color='#777777')\n",
    "#     ax.xaxis.set_major_formatter(ticker.StrMethodFormatter('{x:,.0f}'))\n",
    "#     ax.xaxis.set_ticks_position('top')\n",
    "#     ax.tick_params(axis='x', colors='#777777', labelsize=12)\n",
    "#     ax.set_yticks([])\n",
    "#     ax.margins(0, 0.01)\n",
    "#     ax.grid(which='major', axis='x', linestyle='-')\n",
    "#     ax.set_axisbelow(True)\n",
    "    \n",
    "#     ax.text(0, 1.15, 'Coronavirus',\n",
    "#             transform=ax.transAxes, size=24, weight=600, ha='left', va='top')\n",
    "# #     ax.text(1, 0, 'by @pratapvardhan; credit @jburnmurdoch', transform=ax.transAxes, color='#777777', ha='right',\n",
    "# #             bbox=dict(facecolor='white', alpha=0.8, edgecolor='white'))\n",
    "#     plt.box(False)"
   ]
  },
  {
   "cell_type": "code",
   "execution_count": 42,
   "metadata": {
    "execution": {
     "iopub.execute_input": "2020-12-16T00:12:14.364966Z",
     "iopub.status.busy": "2020-12-16T00:12:14.364264Z",
     "iopub.status.idle": "2020-12-16T00:12:14.366313Z",
     "shell.execute_reply": "2020-12-16T00:12:14.366910Z"
    },
    "papermill": {
     "duration": 0.041922,
     "end_time": "2020-12-16T00:12:14.367068",
     "exception": false,
     "start_time": "2020-12-16T00:12:14.325146",
     "status": "completed"
    },
    "tags": []
   },
   "outputs": [],
   "source": [
    "# #hide_input\n",
    "# fig, ax = plt.subplots(figsize=(15, 8))\n",
    "# animator = animation.FuncAnimation(fig, draw_barchart, frames=range(g.day.values.min(), g.day.values.max()))\n",
    "# HTML(animator.to_jshtml())\n",
    "# # or use animator.to_html5_video() or animator.save() "
   ]
  },
  {
   "cell_type": "code",
   "execution_count": null,
   "metadata": {
    "papermill": {
     "duration": 0.03515,
     "end_time": "2020-12-16T00:12:14.438079",
     "exception": false,
     "start_time": "2020-12-16T00:12:14.402929",
     "status": "completed"
    },
    "tags": []
   },
   "outputs": [],
   "source": []
  },
  {
   "cell_type": "code",
   "execution_count": null,
   "metadata": {
    "papermill": {
     "duration": 0.035622,
     "end_time": "2020-12-16T00:12:14.510055",
     "exception": false,
     "start_time": "2020-12-16T00:12:14.474433",
     "status": "completed"
    },
    "tags": []
   },
   "outputs": [],
   "source": []
  },
  {
   "cell_type": "code",
   "execution_count": null,
   "metadata": {
    "papermill": {
     "duration": 0.035457,
     "end_time": "2020-12-16T00:12:14.581474",
     "exception": false,
     "start_time": "2020-12-16T00:12:14.546017",
     "status": "completed"
    },
    "tags": []
   },
   "outputs": [],
   "source": []
  }
 ],
 "metadata": {
  "kernelspec": {
   "display_name": "Python 3",
   "language": "python",
   "name": "python3"
  },
  "language_info": {
   "codemirror_mode": {
    "name": "ipython",
    "version": 3
   },
   "file_extension": ".py",
   "mimetype": "text/x-python",
   "name": "python",
   "nbconvert_exporter": "python",
   "pygments_lexer": "ipython3",
   "version": "3.6.12"
  },
  "papermill": {
   "duration": 7.264365,
   "end_time": "2020-12-16T00:12:14.924627",
   "environment_variables": {},
   "exception": null,
   "input_path": "2020-03-21-covid19exp.ipynb",
   "output_path": "2020-03-21-covid19exp.ipynb",
   "parameters": {},
   "start_time": "2020-12-16T00:12:07.660262",
   "version": "2.0.0"
  }
 },
 "nbformat": 4,
 "nbformat_minor": 4
}