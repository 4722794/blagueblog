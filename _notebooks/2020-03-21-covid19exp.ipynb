{
 "cells": [
  {
   "cell_type": "markdown",
   "id": "muslim-click",
   "metadata": {
    "papermill": {
     "duration": 0.041287,
     "end_time": "2021-02-01T00:14:42.100057",
     "exception": false,
     "start_time": "2021-02-01T00:14:42.058770",
     "status": "completed"
    },
    "tags": []
   },
   "source": [
    "# COVID-19 Case Race\n",
    "> A race chart to see rising cases around the world\n",
    "\n",
    "- author: Hargun Oberoi\n",
    "- image: images/covid-overview.png\n",
    "- hide: false\n",
    "- badges: false"
   ]
  },
  {
   "cell_type": "code",
   "execution_count": 1,
   "id": "proof-material",
   "metadata": {
    "execution": {
     "iopub.execute_input": "2021-02-01T00:14:42.193779Z",
     "iopub.status.busy": "2021-02-01T00:14:42.193119Z",
     "iopub.status.idle": "2021-02-01T00:14:42.540425Z",
     "shell.execute_reply": "2021-02-01T00:14:42.539841Z"
    },
    "papermill": {
     "duration": 0.405164,
     "end_time": "2021-02-01T00:14:42.540587",
     "exception": false,
     "start_time": "2021-02-01T00:14:42.135423",
     "status": "completed"
    },
    "tags": []
   },
   "outputs": [],
   "source": [
    "#hide\n",
    "import numpy as np\n",
    "import pandas as pd\n",
    "from jinja2 import Template\n",
    "from IPython.display import HTML"
   ]
  },
  {
   "cell_type": "code",
   "execution_count": 2,
   "id": "developed-terminology",
   "metadata": {
    "execution": {
     "iopub.execute_input": "2021-02-01T00:14:42.617362Z",
     "iopub.status.busy": "2021-02-01T00:14:42.616295Z",
     "iopub.status.idle": "2021-02-01T00:14:42.618481Z",
     "shell.execute_reply": "2021-02-01T00:14:42.618963Z"
    },
    "papermill": {
     "duration": 0.043993,
     "end_time": "2021-02-01T00:14:42.619111",
     "exception": false,
     "start_time": "2021-02-01T00:14:42.575118",
     "status": "completed"
    },
    "tags": []
   },
   "outputs": [],
   "source": [
    "#hide\n",
    "\n",
    "# FETCH\n",
    "base_url = 'https://raw.githubusercontent.com/pratapvardhan/notebooks/master/covid19/'\n",
    "paths = {\n",
    "    'mapping': base_url + 'mapping_countries.csv',\n",
    "    'overview': base_url + 'overview.tpl'\n",
    "}"
   ]
  },
  {
   "cell_type": "code",
   "execution_count": 3,
   "id": "dynamic-saver",
   "metadata": {
    "execution": {
     "iopub.execute_input": "2021-02-01T00:14:42.704612Z",
     "iopub.status.busy": "2021-02-01T00:14:42.699886Z",
     "iopub.status.idle": "2021-02-01T00:14:42.708855Z",
     "shell.execute_reply": "2021-02-01T00:14:42.708356Z"
    },
    "papermill": {
     "duration": 0.054222,
     "end_time": "2021-02-01T00:14:42.708989",
     "exception": false,
     "start_time": "2021-02-01T00:14:42.654767",
     "status": "completed"
    },
    "tags": []
   },
   "outputs": [
    {
     "data": {
      "text/plain": [
       "'https://raw.githubusercontent.com/pratapvardhan/notebooks/master/covid19/mapping_countries.csv'"
      ]
     },
     "execution_count": 3,
     "metadata": {},
     "output_type": "execute_result"
    }
   ],
   "source": [
    "#hide\n",
    "paths['mapping']"
   ]
  },
  {
   "cell_type": "code",
   "execution_count": 4,
   "id": "urban-software",
   "metadata": {
    "execution": {
     "iopub.execute_input": "2021-02-01T00:14:42.791766Z",
     "iopub.status.busy": "2021-02-01T00:14:42.791138Z",
     "iopub.status.idle": "2021-02-01T00:14:42.793577Z",
     "shell.execute_reply": "2021-02-01T00:14:42.793052Z"
    },
    "papermill": {
     "duration": 0.047769,
     "end_time": "2021-02-01T00:14:42.793746",
     "exception": false,
     "start_time": "2021-02-01T00:14:42.745977",
     "status": "completed"
    },
    "tags": []
   },
   "outputs": [],
   "source": [
    "#hide\n",
    "def get_mappings(url):\n",
    "    df = pd.read_csv(url)\n",
    "    return {\n",
    "        'df': df,\n",
    "        'replace.country': dict(df.dropna(subset=['Name']).set_index('Country')['Name']),\n",
    "        'map.continent': dict(df.set_index('Name')['Continent'])\n",
    "    }"
   ]
  },
  {
   "cell_type": "code",
   "execution_count": 5,
   "id": "intimate-machinery",
   "metadata": {
    "execution": {
     "iopub.execute_input": "2021-02-01T00:14:42.872908Z",
     "iopub.status.busy": "2021-02-01T00:14:42.872288Z",
     "iopub.status.idle": "2021-02-01T00:14:42.902759Z",
     "shell.execute_reply": "2021-02-01T00:14:42.902243Z"
    },
    "papermill": {
     "duration": 0.07426,
     "end_time": "2021-02-01T00:14:42.902898",
     "exception": false,
     "start_time": "2021-02-01T00:14:42.828638",
     "status": "completed"
    },
    "tags": []
   },
   "outputs": [],
   "source": [
    "#hide\n",
    "mapping = get_mappings(paths['mapping'])"
   ]
  },
  {
   "cell_type": "code",
   "execution_count": 6,
   "id": "certified-tactics",
   "metadata": {
    "execution": {
     "iopub.execute_input": "2021-02-01T00:14:42.980114Z",
     "iopub.status.busy": "2021-02-01T00:14:42.979500Z",
     "iopub.status.idle": "2021-02-01T00:14:42.982179Z",
     "shell.execute_reply": "2021-02-01T00:14:42.981646Z"
    },
    "papermill": {
     "duration": 0.044235,
     "end_time": "2021-02-01T00:14:42.982312",
     "exception": false,
     "start_time": "2021-02-01T00:14:42.938077",
     "status": "completed"
    },
    "tags": []
   },
   "outputs": [],
   "source": [
    "#hide\n",
    "def get_template(path):\n",
    "    from urllib.parse import urlparse\n",
    "    if bool(urlparse(path).netloc):\n",
    "        from urllib.request import urlopen\n",
    "        return urlopen(path).read().decode('utf8')\n",
    "    return open(path).read()"
   ]
  },
  {
   "cell_type": "code",
   "execution_count": 7,
   "id": "realistic-blast",
   "metadata": {
    "execution": {
     "iopub.execute_input": "2021-02-01T00:14:43.058875Z",
     "iopub.status.busy": "2021-02-01T00:14:43.058266Z",
     "iopub.status.idle": "2021-02-01T00:14:43.060489Z",
     "shell.execute_reply": "2021-02-01T00:14:43.060957Z"
    },
    "papermill": {
     "duration": 0.042954,
     "end_time": "2021-02-01T00:14:43.061111",
     "exception": false,
     "start_time": "2021-02-01T00:14:43.018157",
     "status": "completed"
    },
    "tags": []
   },
   "outputs": [],
   "source": [
    "#hide\n",
    "def get_frame(name):\n",
    "    url = (\n",
    "        'https://raw.githubusercontent.com/CSSEGISandData/COVID-19/master/csse_covid_19_data/'\n",
    "        f'csse_covid_19_time_series/time_series_covid19_{name}_global.csv')\n",
    "    df = pd.read_csv(url)\n",
    "    # rename countries\n",
    "    df['Country/Region'] = df['Country/Region'].replace(mapping['replace.country'])\n",
    "    return df"
   ]
  },
  {
   "cell_type": "code",
   "execution_count": 8,
   "id": "affiliated-characterization",
   "metadata": {
    "execution": {
     "iopub.execute_input": "2021-02-01T00:14:43.141000Z",
     "iopub.status.busy": "2021-02-01T00:14:43.140380Z",
     "iopub.status.idle": "2021-02-01T00:14:43.142853Z",
     "shell.execute_reply": "2021-02-01T00:14:43.142232Z"
    },
    "papermill": {
     "duration": 0.043486,
     "end_time": "2021-02-01T00:14:43.142984",
     "exception": false,
     "start_time": "2021-02-01T00:14:43.099498",
     "status": "completed"
    },
    "tags": []
   },
   "outputs": [],
   "source": [
    "#hide\n",
    "def get_dates(df):\n",
    "    dt_cols = df.columns[~df.columns.isin(['Province/State', 'Country/Region', 'Lat', 'Long'])]\n",
    "    LAST_DATE_I = -1\n",
    "    # sometimes last column may be empty, then go backwards\n",
    "    for i in range(-1, -len(dt_cols), -1):\n",
    "        if not df[dt_cols[i]].fillna(0).eq(0).all():\n",
    "            LAST_DATE_I = i\n",
    "            break\n",
    "    return LAST_DATE_I, dt_cols"
   ]
  },
  {
   "cell_type": "code",
   "execution_count": 9,
   "id": "recent-optimization",
   "metadata": {
    "execution": {
     "iopub.execute_input": "2021-02-01T00:14:43.224783Z",
     "iopub.status.busy": "2021-02-01T00:14:43.223295Z",
     "iopub.status.idle": "2021-02-01T00:14:43.480020Z",
     "shell.execute_reply": "2021-02-01T00:14:43.478698Z"
    },
    "papermill": {
     "duration": 0.300437,
     "end_time": "2021-02-01T00:14:43.480172",
     "exception": false,
     "start_time": "2021-02-01T00:14:43.179735",
     "status": "completed"
    },
    "tags": []
   },
   "outputs": [],
   "source": [
    "#hide\n",
    "COL_REGION = 'Country/Region'\n",
    "# Confirmed, Recovered, Deaths\n",
    "df = get_frame('confirmed')\n",
    "# dft_: timeseries, dfc_: today country agg\n",
    "dft_cases = df\n",
    "dft_deaths = get_frame('deaths')\n",
    "dft_recovered = get_frame('recovered')\n",
    "LAST_DATE_I, dt_cols = get_dates(df)"
   ]
  },
  {
   "cell_type": "code",
   "execution_count": 10,
   "id": "absolute-copper",
   "metadata": {
    "execution": {
     "iopub.execute_input": "2021-02-01T00:14:43.558948Z",
     "iopub.status.busy": "2021-02-01T00:14:43.557901Z",
     "iopub.status.idle": "2021-02-01T00:14:43.560029Z",
     "shell.execute_reply": "2021-02-01T00:14:43.560837Z"
    },
    "papermill": {
     "duration": 0.045238,
     "end_time": "2021-02-01T00:14:43.561052",
     "exception": false,
     "start_time": "2021-02-01T00:14:43.515814",
     "status": "completed"
    },
    "tags": []
   },
   "outputs": [],
   "source": [
    "#hide\n",
    "LAST_DATE_I, dt_cols = get_dates(df)\n",
    "dt_today =dt_cols[LAST_DATE_I]\n",
    "# dt_5day = dt_cols[LAST_DATE_I - 5]\n",
    "dt_yday = dt_cols[LAST_DATE_I - 1]"
   ]
  },
  {
   "cell_type": "code",
   "execution_count": 11,
   "id": "restricted-sheriff",
   "metadata": {
    "execution": {
     "iopub.execute_input": "2021-02-01T00:14:43.635616Z",
     "iopub.status.busy": "2021-02-01T00:14:43.635012Z",
     "iopub.status.idle": "2021-02-01T00:14:43.642773Z",
     "shell.execute_reply": "2021-02-01T00:14:43.642254Z"
    },
    "papermill": {
     "duration": 0.047658,
     "end_time": "2021-02-01T00:14:43.642900",
     "exception": false,
     "start_time": "2021-02-01T00:14:43.595242",
     "status": "completed"
    },
    "tags": []
   },
   "outputs": [],
   "source": [
    "#hide\n",
    "dfc_cases = dft_cases.groupby(COL_REGION)[dt_today].sum()\n",
    "dfc_deaths = dft_deaths.groupby(COL_REGION)[dt_today].sum()\n",
    "# dfp_cases = dft_cases.groupby(COL_REGION)[dt_5day].sum()\n",
    "# dfp_deaths = dft_deaths.groupby(COL_REGION)[dt_5day].sum()\n",
    "dfp_cases = dft_cases.groupby(COL_REGION)[dt_yday].sum()\n",
    "dfp_deaths = dft_deaths.groupby(COL_REGION)[dt_yday].sum()"
   ]
  },
  {
   "cell_type": "code",
   "execution_count": 12,
   "id": "deluxe-hepatitis",
   "metadata": {
    "execution": {
     "iopub.execute_input": "2021-02-01T00:14:43.718895Z",
     "iopub.status.busy": "2021-02-01T00:14:43.718291Z",
     "iopub.status.idle": "2021-02-01T00:14:43.724982Z",
     "shell.execute_reply": "2021-02-01T00:14:43.724473Z"
    },
    "papermill": {
     "duration": 0.047797,
     "end_time": "2021-02-01T00:14:43.725114",
     "exception": false,
     "start_time": "2021-02-01T00:14:43.677317",
     "status": "completed"
    },
    "tags": []
   },
   "outputs": [],
   "source": [
    "#hide\n",
    "df_table = (pd.DataFrame(dict(Cases = dfc_cases, Deaths = dfc_deaths, PCases = dfp_cases, PDeaths = dfp_deaths))\n",
    "            .sort_values(by = ['Cases','Deaths'], ascending = [False, False])\n",
    "            .reset_index())"
   ]
  },
  {
   "cell_type": "code",
   "execution_count": 13,
   "id": "educational-chancellor",
   "metadata": {
    "execution": {
     "iopub.execute_input": "2021-02-01T00:14:43.816912Z",
     "iopub.status.busy": "2021-02-01T00:14:43.797462Z",
     "iopub.status.idle": "2021-02-01T00:14:43.824392Z",
     "shell.execute_reply": "2021-02-01T00:14:43.824957Z"
    },
    "papermill": {
     "duration": 0.065506,
     "end_time": "2021-02-01T00:14:43.825107",
     "exception": false,
     "start_time": "2021-02-01T00:14:43.759601",
     "status": "completed"
    },
    "tags": []
   },
   "outputs": [
    {
     "data": {
      "text/html": [
       "<div>\n",
       "<style scoped>\n",
       "    .dataframe tbody tr th:only-of-type {\n",
       "        vertical-align: middle;\n",
       "    }\n",
       "\n",
       "    .dataframe tbody tr th {\n",
       "        vertical-align: top;\n",
       "    }\n",
       "\n",
       "    .dataframe thead th {\n",
       "        text-align: right;\n",
       "    }\n",
       "</style>\n",
       "<table border=\"1\" class=\"dataframe\">\n",
       "  <thead>\n",
       "    <tr style=\"text-align: right;\">\n",
       "      <th></th>\n",
       "      <th>Country/Region</th>\n",
       "      <th>Cases</th>\n",
       "      <th>Deaths</th>\n",
       "      <th>PCases</th>\n",
       "      <th>PDeaths</th>\n",
       "      <th>Cases (+)</th>\n",
       "      <th>Deaths (+)</th>\n",
       "      <th>Fatality Rate</th>\n",
       "      <th>Continent</th>\n",
       "    </tr>\n",
       "  </thead>\n",
       "  <tbody>\n",
       "    <tr>\n",
       "      <th>0</th>\n",
       "      <td>US</td>\n",
       "      <td>26074885</td>\n",
       "      <td>439530</td>\n",
       "      <td>25932794</td>\n",
       "      <td>436799</td>\n",
       "      <td>142091</td>\n",
       "      <td>2731</td>\n",
       "      <td>1.69</td>\n",
       "      <td>North America</td>\n",
       "    </tr>\n",
       "    <tr>\n",
       "      <th>1</th>\n",
       "      <td>India</td>\n",
       "      <td>10746174</td>\n",
       "      <td>154274</td>\n",
       "      <td>10733130</td>\n",
       "      <td>154147</td>\n",
       "      <td>13044</td>\n",
       "      <td>127</td>\n",
       "      <td>1.44</td>\n",
       "      <td>Asia</td>\n",
       "    </tr>\n",
       "    <tr>\n",
       "      <th>2</th>\n",
       "      <td>Brazil</td>\n",
       "      <td>9176975</td>\n",
       "      <td>223945</td>\n",
       "      <td>9118513</td>\n",
       "      <td>222666</td>\n",
       "      <td>58462</td>\n",
       "      <td>1279</td>\n",
       "      <td>2.44</td>\n",
       "      <td>South America</td>\n",
       "    </tr>\n",
       "    <tr>\n",
       "      <th>3</th>\n",
       "      <td>United Kingdom</td>\n",
       "      <td>3806993</td>\n",
       "      <td>105777</td>\n",
       "      <td>3783593</td>\n",
       "      <td>104572</td>\n",
       "      <td>23400</td>\n",
       "      <td>1205</td>\n",
       "      <td>2.78</td>\n",
       "      <td>Europe</td>\n",
       "    </tr>\n",
       "    <tr>\n",
       "      <th>4</th>\n",
       "      <td>Russia</td>\n",
       "      <td>3790265</td>\n",
       "      <td>71556</td>\n",
       "      <td>3771514</td>\n",
       "      <td>71054</td>\n",
       "      <td>18751</td>\n",
       "      <td>502</td>\n",
       "      <td>1.89</td>\n",
       "      <td>Europe</td>\n",
       "    </tr>\n",
       "  </tbody>\n",
       "</table>\n",
       "</div>"
      ],
      "text/plain": [
       "   Country/Region     Cases  Deaths    PCases  PDeaths  Cases (+)  Deaths (+)  \\\n",
       "0              US  26074885  439530  25932794   436799     142091        2731   \n",
       "1           India  10746174  154274  10733130   154147      13044         127   \n",
       "2          Brazil   9176975  223945   9118513   222666      58462        1279   \n",
       "3  United Kingdom   3806993  105777   3783593   104572      23400        1205   \n",
       "4          Russia   3790265   71556   3771514    71054      18751         502   \n",
       "\n",
       "   Fatality Rate      Continent  \n",
       "0           1.69  North America  \n",
       "1           1.44           Asia  \n",
       "2           2.44  South America  \n",
       "3           2.78         Europe  \n",
       "4           1.89         Europe  "
      ]
     },
     "execution_count": 13,
     "metadata": {},
     "output_type": "execute_result"
    }
   ],
   "source": [
    "#hide\n",
    "for c in 'Cases, Deaths'.split(', '):\n",
    "    df_table[f'{c} (+)'] = (df_table[c] - df_table[f'P{c}']).clip(0)\n",
    "    #Clip ça veut dire, les chiffres negatif sont interdit\n",
    "df_table['Fatality Rate'] = (100* df_table['Deaths']/ df_table['Cases']).round(2)\n",
    "df_table['Continent'] = df_table['Country/Region'].map(mapping['map.continent'])\n",
    "df_table.head(5)"
   ]
  },
  {
   "cell_type": "code",
   "execution_count": 14,
   "id": "aboriginal-bulgaria",
   "metadata": {
    "execution": {
     "iopub.execute_input": "2021-02-01T00:14:43.902957Z",
     "iopub.status.busy": "2021-02-01T00:14:43.902358Z",
     "iopub.status.idle": "2021-02-01T00:14:43.905220Z",
     "shell.execute_reply": "2021-02-01T00:14:43.905828Z"
    },
    "papermill": {
     "duration": 0.045923,
     "end_time": "2021-02-01T00:14:43.905975",
     "exception": false,
     "start_time": "2021-02-01T00:14:43.860052",
     "status": "completed"
    },
    "tags": []
   },
   "outputs": [],
   "source": [
    "#hide\n",
    "#delete problematic countries from table\n",
    "df_table = df_table[~df_table['Country/Region'].isin(['Cape Verde', 'Cruise Ship', 'Kosovo'])]"
   ]
  },
  {
   "cell_type": "code",
   "execution_count": 15,
   "id": "fantastic-effect",
   "metadata": {
    "execution": {
     "iopub.execute_input": "2021-02-01T00:14:43.987159Z",
     "iopub.status.busy": "2021-02-01T00:14:43.986551Z",
     "iopub.status.idle": "2021-02-01T00:14:44.006674Z",
     "shell.execute_reply": "2021-02-01T00:14:44.007249Z"
    },
    "papermill": {
     "duration": 0.066783,
     "end_time": "2021-02-01T00:14:44.007393",
     "exception": false,
     "start_time": "2021-02-01T00:14:43.940610",
     "status": "completed"
    },
    "tags": []
   },
   "outputs": [
    {
     "data": {
      "text/html": [
       "<div>\n",
       "<style scoped>\n",
       "    .dataframe tbody tr th:only-of-type {\n",
       "        vertical-align: middle;\n",
       "    }\n",
       "\n",
       "    .dataframe tbody tr th {\n",
       "        vertical-align: top;\n",
       "    }\n",
       "\n",
       "    .dataframe thead th {\n",
       "        text-align: right;\n",
       "    }\n",
       "</style>\n",
       "<table border=\"1\" class=\"dataframe\">\n",
       "  <thead>\n",
       "    <tr style=\"text-align: right;\">\n",
       "      <th></th>\n",
       "      <th>Country/Region</th>\n",
       "      <th>Cases</th>\n",
       "      <th>Deaths</th>\n",
       "      <th>PCases</th>\n",
       "      <th>PDeaths</th>\n",
       "      <th>Cases (+)</th>\n",
       "      <th>Deaths (+)</th>\n",
       "      <th>Fatality Rate</th>\n",
       "      <th>Continent</th>\n",
       "    </tr>\n",
       "  </thead>\n",
       "  <tbody>\n",
       "    <tr>\n",
       "      <th>0</th>\n",
       "      <td>US</td>\n",
       "      <td>26074885</td>\n",
       "      <td>439530</td>\n",
       "      <td>25932794</td>\n",
       "      <td>436799</td>\n",
       "      <td>142091</td>\n",
       "      <td>2731</td>\n",
       "      <td>1.7</td>\n",
       "      <td>North America</td>\n",
       "    </tr>\n",
       "    <tr>\n",
       "      <th>1</th>\n",
       "      <td>India</td>\n",
       "      <td>10746174</td>\n",
       "      <td>154274</td>\n",
       "      <td>10733130</td>\n",
       "      <td>154147</td>\n",
       "      <td>13044</td>\n",
       "      <td>127</td>\n",
       "      <td>1.4</td>\n",
       "      <td>Asia</td>\n",
       "    </tr>\n",
       "    <tr>\n",
       "      <th>2</th>\n",
       "      <td>Brazil</td>\n",
       "      <td>9176975</td>\n",
       "      <td>223945</td>\n",
       "      <td>9118513</td>\n",
       "      <td>222666</td>\n",
       "      <td>58462</td>\n",
       "      <td>1279</td>\n",
       "      <td>2.4</td>\n",
       "      <td>South America</td>\n",
       "    </tr>\n",
       "    <tr>\n",
       "      <th>3</th>\n",
       "      <td>United Kingdom</td>\n",
       "      <td>3806993</td>\n",
       "      <td>105777</td>\n",
       "      <td>3783593</td>\n",
       "      <td>104572</td>\n",
       "      <td>23400</td>\n",
       "      <td>1205</td>\n",
       "      <td>2.8</td>\n",
       "      <td>Europe</td>\n",
       "    </tr>\n",
       "    <tr>\n",
       "      <th>4</th>\n",
       "      <td>Russia</td>\n",
       "      <td>3790265</td>\n",
       "      <td>71556</td>\n",
       "      <td>3771514</td>\n",
       "      <td>71054</td>\n",
       "      <td>18751</td>\n",
       "      <td>502</td>\n",
       "      <td>1.9</td>\n",
       "      <td>Europe</td>\n",
       "    </tr>\n",
       "  </tbody>\n",
       "</table>\n",
       "</div>"
      ],
      "text/plain": [
       "   Country/Region     Cases  Deaths    PCases  PDeaths  Cases (+)  Deaths (+)  \\\n",
       "0              US  26074885  439530  25932794   436799     142091        2731   \n",
       "1           India  10746174  154274  10733130   154147      13044         127   \n",
       "2          Brazil   9176975  223945   9118513   222666      58462        1279   \n",
       "3  United Kingdom   3806993  105777   3783593   104572      23400        1205   \n",
       "4          Russia   3790265   71556   3771514    71054      18751         502   \n",
       "\n",
       "   Fatality Rate      Continent  \n",
       "0            1.7  North America  \n",
       "1            1.4           Asia  \n",
       "2            2.4  South America  \n",
       "3            2.8         Europe  \n",
       "4            1.9         Europe  "
      ]
     },
     "execution_count": 15,
     "metadata": {},
     "output_type": "execute_result"
    }
   ],
   "source": [
    "#hide\n",
    "df_table = (pd.DataFrame(dict(Cases=dfc_cases, Deaths=dfc_deaths, PCases=dfp_cases, PDeaths=dfp_deaths))\n",
    "             .sort_values(by=['Cases', 'Deaths'], ascending=[False, False])\n",
    "             .reset_index())\n",
    "df_table.rename(columns={'index': 'Country/Region'}, inplace=True)\n",
    "for c in 'Cases, Deaths'.split(', '):\n",
    "    df_table[f'{c} (+)'] = (df_table[c] - df_table[f'P{c}']).clip(0)  # DATA BUG\n",
    "df_table['Fatality Rate'] = (100 * df_table['Deaths'] / df_table['Cases']).round(1)\n",
    "df_table['Continent'] = df_table['Country/Region'].map(mapping['map.continent'])\n",
    "df_table.head(5)"
   ]
  },
  {
   "cell_type": "code",
   "execution_count": 16,
   "id": "fewer-occasion",
   "metadata": {
    "execution": {
     "iopub.execute_input": "2021-02-01T00:14:44.084645Z",
     "iopub.status.busy": "2021-02-01T00:14:44.084038Z",
     "iopub.status.idle": "2021-02-01T00:14:44.087835Z",
     "shell.execute_reply": "2021-02-01T00:14:44.087345Z"
    },
    "papermill": {
     "duration": 0.045088,
     "end_time": "2021-02-01T00:14:44.087967",
     "exception": false,
     "start_time": "2021-02-01T00:14:44.042879",
     "status": "completed"
    },
    "tags": []
   },
   "outputs": [],
   "source": [
    "#hide\n",
    "#delete problematic countries from table\n",
    "df_table = df_table[~df_table['Country/Region'].isin(['Cape Verde', 'Cruise Ship', 'Kosovo'])]"
   ]
  },
  {
   "cell_type": "code",
   "execution_count": 17,
   "id": "related-center",
   "metadata": {
    "execution": {
     "iopub.execute_input": "2021-02-01T00:14:44.183057Z",
     "iopub.status.busy": "2021-02-01T00:14:44.182413Z",
     "iopub.status.idle": "2021-02-01T00:14:44.185186Z",
     "shell.execute_reply": "2021-02-01T00:14:44.184645Z"
    },
    "papermill": {
     "duration": 0.062116,
     "end_time": "2021-02-01T00:14:44.185323",
     "exception": false,
     "start_time": "2021-02-01T00:14:44.123207",
     "status": "completed"
    },
    "tags": []
   },
   "outputs": [],
   "source": [
    "#hide\n",
    "metrics = [df_table.columns[index] for index in [1,2,5,6]]\n",
    "# s_china = df_table[df_table['Country/Region'].eq('China')][metrics].sum().add_prefix('China ')\n",
    "s_us = df_table[df_table['Country/Region'].eq('US')][metrics].sum().add_prefix('US ')\n",
    "s_eu = df_table[df_table['Continent'].eq('Europe')][metrics].sum().add_prefix('EU ')\n",
    "s_ind = df_table[df_table['Country/Region'].eq('India')][metrics].sum().add_prefix('India ')\n",
    "summary = {'updated': pd.to_datetime(dt_today), 'since': pd.to_datetime(dt_yday)}\n",
    "summary = {'updated': pd.to_datetime(dt_today), 'since': pd.to_datetime(dt_yday)}\n",
    "summary = {**summary, **df_table[metrics].sum(), **s_ind, **s_us, **s_eu}"
   ]
  },
  {
   "cell_type": "code",
   "execution_count": 18,
   "id": "engaging-syndrome",
   "metadata": {
    "execution": {
     "iopub.execute_input": "2021-02-01T00:14:44.262919Z",
     "iopub.status.busy": "2021-02-01T00:14:44.262314Z",
     "iopub.status.idle": "2021-02-01T00:14:44.273830Z",
     "shell.execute_reply": "2021-02-01T00:14:44.273272Z"
    },
    "papermill": {
     "duration": 0.052907,
     "end_time": "2021-02-01T00:14:44.273963",
     "exception": false,
     "start_time": "2021-02-01T00:14:44.221056",
     "status": "completed"
    },
    "tags": []
   },
   "outputs": [],
   "source": [
    "#hide\n",
    "dft_ct_new_cases = dft_cases.groupby(COL_REGION)[dt_cols].sum().diff(axis=1).fillna(0).astype(int)"
   ]
  },
  {
   "cell_type": "code",
   "execution_count": 19,
   "id": "neutral-assignment",
   "metadata": {
    "execution": {
     "iopub.execute_input": "2021-02-01T00:14:44.351595Z",
     "iopub.status.busy": "2021-02-01T00:14:44.350990Z",
     "iopub.status.idle": "2021-02-01T00:14:44.353287Z",
     "shell.execute_reply": "2021-02-01T00:14:44.352766Z"
    },
    "papermill": {
     "duration": 0.043514,
     "end_time": "2021-02-01T00:14:44.353416",
     "exception": false,
     "start_time": "2021-02-01T00:14:44.309902",
     "status": "completed"
    },
    "tags": []
   },
   "outputs": [],
   "source": [
    "#hide\n",
    "everydaycases = dft_ct_new_cases.cumsum(axis=1)"
   ]
  },
  {
   "cell_type": "code",
   "execution_count": 20,
   "id": "parliamentary-calgary",
   "metadata": {
    "execution": {
     "iopub.execute_input": "2021-02-01T00:14:44.429589Z",
     "iopub.status.busy": "2021-02-01T00:14:44.428974Z",
     "iopub.status.idle": "2021-02-01T00:14:46.170422Z",
     "shell.execute_reply": "2021-02-01T00:14:46.169832Z"
    },
    "papermill": {
     "duration": 1.781744,
     "end_time": "2021-02-01T00:14:46.170563",
     "exception": false,
     "start_time": "2021-02-01T00:14:44.388819",
     "status": "completed"
    },
    "tags": []
   },
   "outputs": [],
   "source": [
    "#hide\n",
    "import pandas as pd\n",
    "import matplotlib.pyplot as plt\n",
    "import matplotlib.ticker as ticker\n",
    "import matplotlib.animation as animation\n",
    "from IPython.display import HTML"
   ]
  },
  {
   "cell_type": "code",
   "execution_count": 21,
   "id": "lasting-extraction",
   "metadata": {
    "execution": {
     "iopub.execute_input": "2021-02-01T00:14:46.252867Z",
     "iopub.status.busy": "2021-02-01T00:14:46.250977Z",
     "iopub.status.idle": "2021-02-01T00:14:46.260564Z",
     "shell.execute_reply": "2021-02-01T00:14:46.261062Z"
    },
    "papermill": {
     "duration": 0.053453,
     "end_time": "2021-02-01T00:14:46.261220",
     "exception": false,
     "start_time": "2021-02-01T00:14:46.207767",
     "status": "completed"
    },
    "tags": []
   },
   "outputs": [],
   "source": [
    "#hide\n",
    "t = everydaycases.stack()"
   ]
  },
  {
   "cell_type": "code",
   "execution_count": 22,
   "id": "premier-sleeve",
   "metadata": {
    "execution": {
     "iopub.execute_input": "2021-02-01T00:14:46.348486Z",
     "iopub.status.busy": "2021-02-01T00:14:46.345473Z",
     "iopub.status.idle": "2021-02-01T00:14:46.353072Z",
     "shell.execute_reply": "2021-02-01T00:14:46.352538Z"
    },
    "papermill": {
     "duration": 0.050188,
     "end_time": "2021-02-01T00:14:46.353205",
     "exception": false,
     "start_time": "2021-02-01T00:14:46.303017",
     "status": "completed"
    },
    "tags": []
   },
   "outputs": [],
   "source": [
    "#hide\n",
    "g = t.reset_index(['Country/Region'])"
   ]
  },
  {
   "cell_type": "code",
   "execution_count": 23,
   "id": "distributed-pittsburgh",
   "metadata": {
    "execution": {
     "iopub.execute_input": "2021-02-01T00:14:46.434035Z",
     "iopub.status.busy": "2021-02-01T00:14:46.433389Z",
     "iopub.status.idle": "2021-02-01T00:14:46.436472Z",
     "shell.execute_reply": "2021-02-01T00:14:46.437051Z"
    },
    "papermill": {
     "duration": 0.04701,
     "end_time": "2021-02-01T00:14:46.437199",
     "exception": false,
     "start_time": "2021-02-01T00:14:46.390189",
     "status": "completed"
    },
    "tags": []
   },
   "outputs": [],
   "source": [
    "#hide\n",
    "g.index.name = 'date'"
   ]
  },
  {
   "cell_type": "code",
   "execution_count": 24,
   "id": "naked-donor",
   "metadata": {
    "execution": {
     "iopub.execute_input": "2021-02-01T00:14:46.520727Z",
     "iopub.status.busy": "2021-02-01T00:14:46.518176Z",
     "iopub.status.idle": "2021-02-01T00:14:46.521403Z",
     "shell.execute_reply": "2021-02-01T00:14:46.521923Z"
    },
    "papermill": {
     "duration": 0.047092,
     "end_time": "2021-02-01T00:14:46.522073",
     "exception": false,
     "start_time": "2021-02-01T00:14:46.474981",
     "status": "completed"
    },
    "tags": []
   },
   "outputs": [],
   "source": [
    "# #hide\n",
    "# g = g.reset_index(['date'])"
   ]
  },
  {
   "cell_type": "code",
   "execution_count": 25,
   "id": "incomplete-mustang",
   "metadata": {
    "execution": {
     "iopub.execute_input": "2021-02-01T00:14:46.600194Z",
     "iopub.status.busy": "2021-02-01T00:14:46.599584Z",
     "iopub.status.idle": "2021-02-01T00:14:46.601416Z",
     "shell.execute_reply": "2021-02-01T00:14:46.601904Z"
    },
    "papermill": {
     "duration": 0.043635,
     "end_time": "2021-02-01T00:14:46.602059",
     "exception": false,
     "start_time": "2021-02-01T00:14:46.558424",
     "status": "completed"
    },
    "tags": []
   },
   "outputs": [],
   "source": [
    "#hide\n",
    "# g.head()"
   ]
  },
  {
   "cell_type": "code",
   "execution_count": 26,
   "id": "specific-kruger",
   "metadata": {
    "execution": {
     "iopub.execute_input": "2021-02-01T00:14:46.680027Z",
     "iopub.status.busy": "2021-02-01T00:14:46.679011Z",
     "iopub.status.idle": "2021-02-01T00:14:46.680988Z",
     "shell.execute_reply": "2021-02-01T00:14:46.681468Z"
    },
    "papermill": {
     "duration": 0.043237,
     "end_time": "2021-02-01T00:14:46.681642",
     "exception": false,
     "start_time": "2021-02-01T00:14:46.638405",
     "status": "completed"
    },
    "tags": []
   },
   "outputs": [],
   "source": [
    "#hide\n",
    "# g.columns = ['date','country','cases']"
   ]
  },
  {
   "cell_type": "code",
   "execution_count": 27,
   "id": "tender-conversion",
   "metadata": {
    "execution": {
     "iopub.execute_input": "2021-02-01T00:14:46.757272Z",
     "iopub.status.busy": "2021-02-01T00:14:46.756669Z",
     "iopub.status.idle": "2021-02-01T00:14:46.759459Z",
     "shell.execute_reply": "2021-02-01T00:14:46.760038Z"
    },
    "papermill": {
     "duration": 0.043084,
     "end_time": "2021-02-01T00:14:46.760185",
     "exception": false,
     "start_time": "2021-02-01T00:14:46.717101",
     "status": "completed"
    },
    "tags": []
   },
   "outputs": [],
   "source": [
    "#hide\n",
    "# g['continent'] = g.country"
   ]
  },
  {
   "cell_type": "code",
   "execution_count": 28,
   "id": "substantial-wilderness",
   "metadata": {
    "execution": {
     "iopub.execute_input": "2021-02-01T00:14:46.835783Z",
     "iopub.status.busy": "2021-02-01T00:14:46.835177Z",
     "iopub.status.idle": "2021-02-01T00:14:46.837564Z",
     "shell.execute_reply": "2021-02-01T00:14:46.838179Z"
    },
    "papermill": {
     "duration": 0.042479,
     "end_time": "2021-02-01T00:14:46.838327",
     "exception": false,
     "start_time": "2021-02-01T00:14:46.795848",
     "status": "completed"
    },
    "tags": []
   },
   "outputs": [],
   "source": [
    "#hide\n",
    "# cols = list(g.columns.values)"
   ]
  },
  {
   "cell_type": "code",
   "execution_count": 29,
   "id": "solved-farming",
   "metadata": {
    "execution": {
     "iopub.execute_input": "2021-02-01T00:14:46.913808Z",
     "iopub.status.busy": "2021-02-01T00:14:46.913164Z",
     "iopub.status.idle": "2021-02-01T00:14:46.916618Z",
     "shell.execute_reply": "2021-02-01T00:14:46.916093Z"
    },
    "papermill": {
     "duration": 0.043379,
     "end_time": "2021-02-01T00:14:46.916745",
     "exception": false,
     "start_time": "2021-02-01T00:14:46.873366",
     "status": "completed"
    },
    "tags": []
   },
   "outputs": [],
   "source": [
    "#hide\n",
    "# cols.insert(0, cols.pop())"
   ]
  },
  {
   "cell_type": "code",
   "execution_count": 30,
   "id": "executed-adoption",
   "metadata": {
    "execution": {
     "iopub.execute_input": "2021-02-01T00:14:46.993349Z",
     "iopub.status.busy": "2021-02-01T00:14:46.992749Z",
     "iopub.status.idle": "2021-02-01T00:14:46.995237Z",
     "shell.execute_reply": "2021-02-01T00:14:46.995726Z"
    },
    "papermill": {
     "duration": 0.043239,
     "end_time": "2021-02-01T00:14:46.995866",
     "exception": false,
     "start_time": "2021-02-01T00:14:46.952627",
     "status": "completed"
    },
    "tags": []
   },
   "outputs": [],
   "source": [
    "#hide\n",
    "# g = g[cols]"
   ]
  },
  {
   "cell_type": "code",
   "execution_count": 31,
   "id": "subject-dublin",
   "metadata": {
    "execution": {
     "iopub.execute_input": "2021-02-01T00:14:47.076148Z",
     "iopub.status.busy": "2021-02-01T00:14:47.075537Z",
     "iopub.status.idle": "2021-02-01T00:14:47.077834Z",
     "shell.execute_reply": "2021-02-01T00:14:47.077290Z"
    },
    "papermill": {
     "duration": 0.042928,
     "end_time": "2021-02-01T00:14:47.077961",
     "exception": false,
     "start_time": "2021-02-01T00:14:47.035033",
     "status": "completed"
    },
    "tags": []
   },
   "outputs": [],
   "source": [
    "#hide\n",
    "# g['continent'] = g['continent'].map(mapping['map.continent'])"
   ]
  },
  {
   "cell_type": "code",
   "execution_count": 32,
   "id": "freelance-scout",
   "metadata": {
    "execution": {
     "iopub.execute_input": "2021-02-01T00:14:47.158054Z",
     "iopub.status.busy": "2021-02-01T00:14:47.157334Z",
     "iopub.status.idle": "2021-02-01T00:14:47.159695Z",
     "shell.execute_reply": "2021-02-01T00:14:47.159147Z"
    },
    "papermill": {
     "duration": 0.045661,
     "end_time": "2021-02-01T00:14:47.159825",
     "exception": false,
     "start_time": "2021-02-01T00:14:47.114164",
     "status": "completed"
    },
    "tags": []
   },
   "outputs": [],
   "source": [
    "#hide\n",
    "# g.head()"
   ]
  },
  {
   "cell_type": "code",
   "execution_count": 33,
   "id": "limited-engine",
   "metadata": {
    "execution": {
     "iopub.execute_input": "2021-02-01T00:14:47.237032Z",
     "iopub.status.busy": "2021-02-01T00:14:47.235319Z",
     "iopub.status.idle": "2021-02-01T00:14:47.237730Z",
     "shell.execute_reply": "2021-02-01T00:14:47.238230Z"
    },
    "papermill": {
     "duration": 0.042855,
     "end_time": "2021-02-01T00:14:47.238372",
     "exception": false,
     "start_time": "2021-02-01T00:14:47.195517",
     "status": "completed"
    },
    "tags": []
   },
   "outputs": [],
   "source": [
    "# hide\n",
    "# g['date'] = g['date'].astype('datetime64[ns]')"
   ]
  },
  {
   "cell_type": "code",
   "execution_count": 34,
   "id": "sophisticated-supervisor",
   "metadata": {
    "execution": {
     "iopub.execute_input": "2021-02-01T00:14:47.314569Z",
     "iopub.status.busy": "2021-02-01T00:14:47.313962Z",
     "iopub.status.idle": "2021-02-01T00:14:47.315807Z",
     "shell.execute_reply": "2021-02-01T00:14:47.316298Z"
    },
    "papermill": {
     "duration": 0.042176,
     "end_time": "2021-02-01T00:14:47.316442",
     "exception": false,
     "start_time": "2021-02-01T00:14:47.274266",
     "status": "completed"
    },
    "tags": []
   },
   "outputs": [],
   "source": [
    "#hide\n",
    "# g['date'] = g.date.dt.dayofyear"
   ]
  },
  {
   "cell_type": "code",
   "execution_count": 35,
   "id": "inside-dubai",
   "metadata": {
    "execution": {
     "iopub.execute_input": "2021-02-01T00:14:47.593085Z",
     "iopub.status.busy": "2021-02-01T00:14:47.592451Z",
     "iopub.status.idle": "2021-02-01T00:14:47.594782Z",
     "shell.execute_reply": "2021-02-01T00:14:47.594279Z"
    },
    "papermill": {
     "duration": 0.044802,
     "end_time": "2021-02-01T00:14:47.594918",
     "exception": false,
     "start_time": "2021-02-01T00:14:47.550116",
     "status": "completed"
    },
    "tags": []
   },
   "outputs": [],
   "source": [
    "#hide\n",
    "# g = g.rename(columns= {'continent':'group','country':'name','cases':'value'})"
   ]
  },
  {
   "cell_type": "code",
   "execution_count": 36,
   "id": "fleet-motorcycle",
   "metadata": {
    "execution": {
     "iopub.execute_input": "2021-02-01T00:14:47.670688Z",
     "iopub.status.busy": "2021-02-01T00:14:47.670080Z",
     "iopub.status.idle": "2021-02-01T00:14:47.672500Z",
     "shell.execute_reply": "2021-02-01T00:14:47.673078Z"
    },
    "papermill": {
     "duration": 0.042704,
     "end_time": "2021-02-01T00:14:47.673225",
     "exception": false,
     "start_time": "2021-02-01T00:14:47.630521",
     "status": "completed"
    },
    "tags": []
   },
   "outputs": [],
   "source": [
    "#hide\n",
    "# cols = ['name','group','day','value']"
   ]
  },
  {
   "cell_type": "code",
   "execution_count": 37,
   "id": "continued-sleeping",
   "metadata": {
    "execution": {
     "iopub.execute_input": "2021-02-01T00:14:47.748452Z",
     "iopub.status.busy": "2021-02-01T00:14:47.747853Z",
     "iopub.status.idle": "2021-02-01T00:14:47.750713Z",
     "shell.execute_reply": "2021-02-01T00:14:47.751278Z"
    },
    "papermill": {
     "duration": 0.042787,
     "end_time": "2021-02-01T00:14:47.751420",
     "exception": false,
     "start_time": "2021-02-01T00:14:47.708633",
     "status": "completed"
    },
    "tags": []
   },
   "outputs": [],
   "source": [
    "#hide\n",
    "# g.rename(columns= {'date':'day'},inplace = True)"
   ]
  },
  {
   "cell_type": "code",
   "execution_count": 38,
   "id": "major-fight",
   "metadata": {
    "execution": {
     "iopub.execute_input": "2021-02-01T00:14:47.826849Z",
     "iopub.status.busy": "2021-02-01T00:14:47.826237Z",
     "iopub.status.idle": "2021-02-01T00:14:47.828534Z",
     "shell.execute_reply": "2021-02-01T00:14:47.828017Z"
    },
    "papermill": {
     "duration": 0.041802,
     "end_time": "2021-02-01T00:14:47.828661",
     "exception": false,
     "start_time": "2021-02-01T00:14:47.786859",
     "status": "completed"
    },
    "tags": []
   },
   "outputs": [],
   "source": [
    "#hide\n",
    "# g = g[cols]"
   ]
  },
  {
   "cell_type": "code",
   "execution_count": 39,
   "id": "structured-mobile",
   "metadata": {
    "execution": {
     "iopub.execute_input": "2021-02-01T00:14:47.903191Z",
     "iopub.status.busy": "2021-02-01T00:14:47.902553Z",
     "iopub.status.idle": "2021-02-01T00:14:47.904355Z",
     "shell.execute_reply": "2021-02-01T00:14:47.904942Z"
    },
    "papermill": {
     "duration": 0.04104,
     "end_time": "2021-02-01T00:14:47.905092",
     "exception": false,
     "start_time": "2021-02-01T00:14:47.864052",
     "status": "completed"
    },
    "tags": []
   },
   "outputs": [],
   "source": [
    "# #hide\n",
    "# g = g[g.group.notna()]"
   ]
  },
  {
   "cell_type": "code",
   "execution_count": 40,
   "id": "determined-closing",
   "metadata": {
    "execution": {
     "iopub.execute_input": "2021-02-01T00:14:47.983785Z",
     "iopub.status.busy": "2021-02-01T00:14:47.982597Z",
     "iopub.status.idle": "2021-02-01T00:14:47.985033Z",
     "shell.execute_reply": "2021-02-01T00:14:47.986336Z"
    },
    "papermill": {
     "duration": 0.045335,
     "end_time": "2021-02-01T00:14:47.986722",
     "exception": false,
     "start_time": "2021-02-01T00:14:47.941387",
     "status": "completed"
    },
    "tags": []
   },
   "outputs": [],
   "source": [
    "# #hide\n",
    "# colors = dict(zip(\n",
    "#     [\"Oceania\", \"Europe\", \"Asia\", \"South America\", \"Middle East\", \"North America\", \"Africa\"],\n",
    "#     [\"#adb0ff\", \"#ffb3ff\", \"#90d595\", \"#e48381\", \"#aafbff\", \"#f7bb5f\", \"#eafb50\"]\n",
    "# ))\n",
    "# group_lk = g.set_index('name')['group'].to_dict()"
   ]
  },
  {
   "cell_type": "code",
   "execution_count": null,
   "id": "gross-drinking",
   "metadata": {
    "papermill": {
     "duration": 0.039121,
     "end_time": "2021-02-01T00:14:48.064378",
     "exception": false,
     "start_time": "2021-02-01T00:14:48.025257",
     "status": "completed"
    },
    "tags": []
   },
   "outputs": [],
   "source": []
  },
  {
   "cell_type": "code",
   "execution_count": 41,
   "id": "subject-macintosh",
   "metadata": {
    "execution": {
     "iopub.execute_input": "2021-02-01T00:14:48.146365Z",
     "iopub.status.busy": "2021-02-01T00:14:48.145716Z",
     "iopub.status.idle": "2021-02-01T00:14:48.148099Z",
     "shell.execute_reply": "2021-02-01T00:14:48.148681Z"
    },
    "papermill": {
     "duration": 0.047981,
     "end_time": "2021-02-01T00:14:48.148835",
     "exception": false,
     "start_time": "2021-02-01T00:14:48.100854",
     "status": "completed"
    },
    "tags": []
   },
   "outputs": [],
   "source": [
    "# #hide\n",
    "# fig, ax = plt.subplots(figsize=(15, 8))\n",
    "\n",
    "# def draw_barchart(current_day):\n",
    "#     dff = g[g['day'].eq(current_day)].sort_values(by='value', ascending=True).tail(10)\n",
    "#     ax.clear()\n",
    "#     ax.barh(dff['name'], dff['value'], color=[colors[group_lk[x]] for x in dff['name']])\n",
    "#     dx = dff['value'].max() / 200\n",
    "    \n",
    "#     for i, (value, name) in enumerate(zip(dff['value'], dff['name'])):\n",
    "#         ax.text(value-dx, i,     name,           size=14, weight=600, ha='right', va='bottom')\n",
    "#         ax.text(value-dx, i-.25, group_lk[name], size=10, color='#444444', ha='right', va='baseline')\n",
    "#         ax.text(value+dx, i,     f'{value:,.0f}',  size=14, ha='left',  va='center')\n",
    "#     ax.text(1, 0.4, current_day, transform=ax.transAxes, color='#777777', size=46, ha='right', weight=800)\n",
    "#     ax.text(0, 1.06, 'Population (thousands)', transform=ax.transAxes, size=12, color='#777777')\n",
    "#     ax.xaxis.set_major_formatter(ticker.StrMethodFormatter('{x:,.0f}'))\n",
    "#     ax.xaxis.set_ticks_position('top')\n",
    "#     ax.tick_params(axis='x', colors='#777777', labelsize=12)\n",
    "#     ax.set_yticks([])\n",
    "#     ax.margins(0, 0.01)\n",
    "#     ax.grid(which='major', axis='x', linestyle='-')\n",
    "#     ax.set_axisbelow(True)\n",
    "    \n",
    "#     ax.text(0, 1.15, 'Coronavirus',\n",
    "#             transform=ax.transAxes, size=24, weight=600, ha='left', va='top')\n",
    "# #     ax.text(1, 0, 'by @pratapvardhan; credit @jburnmurdoch', transform=ax.transAxes, color='#777777', ha='right',\n",
    "# #             bbox=dict(facecolor='white', alpha=0.8, edgecolor='white'))\n",
    "#     plt.box(False)"
   ]
  },
  {
   "cell_type": "code",
   "execution_count": 42,
   "id": "sexual-wages",
   "metadata": {
    "execution": {
     "iopub.execute_input": "2021-02-01T00:14:48.227798Z",
     "iopub.status.busy": "2021-02-01T00:14:48.227182Z",
     "iopub.status.idle": "2021-02-01T00:14:48.229462Z",
     "shell.execute_reply": "2021-02-01T00:14:48.230077Z"
    },
    "papermill": {
     "duration": 0.044735,
     "end_time": "2021-02-01T00:14:48.230232",
     "exception": false,
     "start_time": "2021-02-01T00:14:48.185497",
     "status": "completed"
    },
    "tags": []
   },
   "outputs": [],
   "source": [
    "# #hide_input\n",
    "# fig, ax = plt.subplots(figsize=(15, 8))\n",
    "# animator = animation.FuncAnimation(fig, draw_barchart, frames=range(g.day.values.min(), g.day.values.max()))\n",
    "# HTML(animator.to_jshtml())\n",
    "# # or use animator.to_html5_video() or animator.save() "
   ]
  },
  {
   "cell_type": "code",
   "execution_count": null,
   "id": "australian-container",
   "metadata": {
    "papermill": {
     "duration": 0.036604,
     "end_time": "2021-02-01T00:14:48.303291",
     "exception": false,
     "start_time": "2021-02-01T00:14:48.266687",
     "status": "completed"
    },
    "tags": []
   },
   "outputs": [],
   "source": []
  },
  {
   "cell_type": "code",
   "execution_count": null,
   "id": "mediterranean-pontiac",
   "metadata": {
    "papermill": {
     "duration": 0.035693,
     "end_time": "2021-02-01T00:14:48.382343",
     "exception": false,
     "start_time": "2021-02-01T00:14:48.346650",
     "status": "completed"
    },
    "tags": []
   },
   "outputs": [],
   "source": []
  },
  {
   "cell_type": "code",
   "execution_count": null,
   "id": "aging-legislature",
   "metadata": {
    "papermill": {
     "duration": 0.03711,
     "end_time": "2021-02-01T00:14:48.455869",
     "exception": false,
     "start_time": "2021-02-01T00:14:48.418759",
     "status": "completed"
    },
    "tags": []
   },
   "outputs": [],
   "source": []
  }
 ],
 "metadata": {
  "kernelspec": {
   "display_name": "Python 3",
   "language": "python",
   "name": "python3"
  },
  "language_info": {
   "codemirror_mode": {
    "name": "ipython",
    "version": 3
   },
   "file_extension": ".py",
   "mimetype": "text/x-python",
   "name": "python",
   "nbconvert_exporter": "python",
   "pygments_lexer": "ipython3",
   "version": "3.6.12"
  },
  "papermill": {
   "duration": 7.858497,
   "end_time": "2021-02-01T00:14:48.799783",
   "environment_variables": {},
   "exception": null,
   "input_path": "2020-03-21-covid19exp.ipynb",
   "output_path": "2020-03-21-covid19exp.ipynb",
   "parameters": {},
   "start_time": "2021-02-01T00:14:40.941286",
   "version": "2.0.0"
  }
 },
 "nbformat": 4,
 "nbformat_minor": 5
}