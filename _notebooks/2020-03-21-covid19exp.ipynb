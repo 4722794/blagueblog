{
 "cells": [
  {
   "cell_type": "markdown",
   "id": "muslim-click",
   "metadata": {
    "papermill": {
     "duration": 0.043196,
     "end_time": "2021-05-09T00:15:00.029789",
     "exception": false,
     "start_time": "2021-05-09T00:14:59.986593",
     "status": "completed"
    },
    "tags": []
   },
   "source": [
    "# COVID-19 Case Race\n",
    "> A race chart to see rising cases around the world\n",
    "\n",
    "- author: Hargun Oberoi\n",
    "- image: images/covid-overview.png\n",
    "- hide: false\n",
    "- badges: false"
   ]
  },
  {
   "cell_type": "code",
   "execution_count": 1,
   "id": "proof-material",
   "metadata": {
    "execution": {
     "iopub.execute_input": "2021-05-09T00:15:00.127770Z",
     "iopub.status.busy": "2021-05-09T00:15:00.127074Z",
     "iopub.status.idle": "2021-05-09T00:15:00.488691Z",
     "shell.execute_reply": "2021-05-09T00:15:00.488101Z"
    },
    "papermill": {
     "duration": 0.416631,
     "end_time": "2021-05-09T00:15:00.488848",
     "exception": false,
     "start_time": "2021-05-09T00:15:00.072217",
     "status": "completed"
    },
    "tags": []
   },
   "outputs": [],
   "source": [
    "#hide\n",
    "import numpy as np\n",
    "import pandas as pd\n",
    "from jinja2 import Template\n",
    "from IPython.display import HTML"
   ]
  },
  {
   "cell_type": "code",
   "execution_count": 2,
   "id": "developed-terminology",
   "metadata": {
    "execution": {
     "iopub.execute_input": "2021-05-09T00:15:00.573436Z",
     "iopub.status.busy": "2021-05-09T00:15:00.572181Z",
     "iopub.status.idle": "2021-05-09T00:15:00.574249Z",
     "shell.execute_reply": "2021-05-09T00:15:00.574808Z"
    },
    "papermill": {
     "duration": 0.046946,
     "end_time": "2021-05-09T00:15:00.574993",
     "exception": false,
     "start_time": "2021-05-09T00:15:00.528047",
     "status": "completed"
    },
    "tags": []
   },
   "outputs": [],
   "source": [
    "#hide\n",
    "\n",
    "# FETCH\n",
    "base_url = 'https://raw.githubusercontent.com/pratapvardhan/notebooks/master/covid19/'\n",
    "paths = {\n",
    "    'mapping': base_url + 'mapping_countries.csv',\n",
    "    'overview': base_url + 'overview.tpl'\n",
    "}"
   ]
  },
  {
   "cell_type": "code",
   "execution_count": 3,
   "id": "dynamic-saver",
   "metadata": {
    "execution": {
     "iopub.execute_input": "2021-05-09T00:15:00.664907Z",
     "iopub.status.busy": "2021-05-09T00:15:00.664286Z",
     "iopub.status.idle": "2021-05-09T00:15:00.667548Z",
     "shell.execute_reply": "2021-05-09T00:15:00.666914Z"
    },
    "papermill": {
     "duration": 0.051639,
     "end_time": "2021-05-09T00:15:00.667692",
     "exception": false,
     "start_time": "2021-05-09T00:15:00.616053",
     "status": "completed"
    },
    "tags": []
   },
   "outputs": [
    {
     "data": {
      "text/plain": [
       "'https://raw.githubusercontent.com/pratapvardhan/notebooks/master/covid19/mapping_countries.csv'"
      ]
     },
     "execution_count": 3,
     "metadata": {},
     "output_type": "execute_result"
    }
   ],
   "source": [
    "#hide\n",
    "paths['mapping']"
   ]
  },
  {
   "cell_type": "code",
   "execution_count": 4,
   "id": "urban-software",
   "metadata": {
    "execution": {
     "iopub.execute_input": "2021-05-09T00:15:00.749525Z",
     "iopub.status.busy": "2021-05-09T00:15:00.748970Z",
     "iopub.status.idle": "2021-05-09T00:15:00.751376Z",
     "shell.execute_reply": "2021-05-09T00:15:00.750855Z"
    },
    "papermill": {
     "duration": 0.044586,
     "end_time": "2021-05-09T00:15:00.751502",
     "exception": false,
     "start_time": "2021-05-09T00:15:00.706916",
     "status": "completed"
    },
    "tags": []
   },
   "outputs": [],
   "source": [
    "#hide\n",
    "def get_mappings(url):\n",
    "    df = pd.read_csv(url)\n",
    "    return {\n",
    "        'df': df,\n",
    "        'replace.country': dict(df.dropna(subset=['Name']).set_index('Country')['Name']),\n",
    "        'map.continent': dict(df.set_index('Name')['Continent'])\n",
    "    }"
   ]
  },
  {
   "cell_type": "code",
   "execution_count": 5,
   "id": "intimate-machinery",
   "metadata": {
    "execution": {
     "iopub.execute_input": "2021-05-09T00:15:00.830136Z",
     "iopub.status.busy": "2021-05-09T00:15:00.829499Z",
     "iopub.status.idle": "2021-05-09T00:15:00.857421Z",
     "shell.execute_reply": "2021-05-09T00:15:00.857953Z"
    },
    "papermill": {
     "duration": 0.069707,
     "end_time": "2021-05-09T00:15:00.858093",
     "exception": false,
     "start_time": "2021-05-09T00:15:00.788386",
     "status": "completed"
    },
    "tags": []
   },
   "outputs": [],
   "source": [
    "#hide\n",
    "mapping = get_mappings(paths['mapping'])"
   ]
  },
  {
   "cell_type": "code",
   "execution_count": 6,
   "id": "certified-tactics",
   "metadata": {
    "execution": {
     "iopub.execute_input": "2021-05-09T00:15:00.942517Z",
     "iopub.status.busy": "2021-05-09T00:15:00.941964Z",
     "iopub.status.idle": "2021-05-09T00:15:00.943875Z",
     "shell.execute_reply": "2021-05-09T00:15:00.944452Z"
    },
    "papermill": {
     "duration": 0.044291,
     "end_time": "2021-05-09T00:15:00.944590",
     "exception": false,
     "start_time": "2021-05-09T00:15:00.900299",
     "status": "completed"
    },
    "tags": []
   },
   "outputs": [],
   "source": [
    "#hide\n",
    "def get_template(path):\n",
    "    from urllib.parse import urlparse\n",
    "    if bool(urlparse(path).netloc):\n",
    "        from urllib.request import urlopen\n",
    "        return urlopen(path).read().decode('utf8')\n",
    "    return open(path).read()"
   ]
  },
  {
   "cell_type": "code",
   "execution_count": 7,
   "id": "realistic-blast",
   "metadata": {
    "execution": {
     "iopub.execute_input": "2021-05-09T00:15:01.027913Z",
     "iopub.status.busy": "2021-05-09T00:15:01.027117Z",
     "iopub.status.idle": "2021-05-09T00:15:01.028821Z",
     "shell.execute_reply": "2021-05-09T00:15:01.029570Z"
    },
    "papermill": {
     "duration": 0.048418,
     "end_time": "2021-05-09T00:15:01.029757",
     "exception": false,
     "start_time": "2021-05-09T00:15:00.981339",
     "status": "completed"
    },
    "tags": []
   },
   "outputs": [],
   "source": [
    "#hide\n",
    "def get_frame(name):\n",
    "    url = (\n",
    "        'https://raw.githubusercontent.com/CSSEGISandData/COVID-19/master/csse_covid_19_data/'\n",
    "        f'csse_covid_19_time_series/time_series_covid19_{name}_global.csv')\n",
    "    df = pd.read_csv(url)\n",
    "    # rename countries\n",
    "    df['Country/Region'] = df['Country/Region'].replace(mapping['replace.country'])\n",
    "    return df"
   ]
  },
  {
   "cell_type": "code",
   "execution_count": 8,
   "id": "affiliated-characterization",
   "metadata": {
    "execution": {
     "iopub.execute_input": "2021-05-09T00:15:01.114526Z",
     "iopub.status.busy": "2021-05-09T00:15:01.113862Z",
     "iopub.status.idle": "2021-05-09T00:15:01.115362Z",
     "shell.execute_reply": "2021-05-09T00:15:01.115993Z"
    },
    "papermill": {
     "duration": 0.047481,
     "end_time": "2021-05-09T00:15:01.116117",
     "exception": false,
     "start_time": "2021-05-09T00:15:01.068636",
     "status": "completed"
    },
    "tags": []
   },
   "outputs": [],
   "source": [
    "#hide\n",
    "def get_dates(df):\n",
    "    dt_cols = df.columns[~df.columns.isin(['Province/State', 'Country/Region', 'Lat', 'Long'])]\n",
    "    LAST_DATE_I = -1\n",
    "    # sometimes last column may be empty, then go backwards\n",
    "    for i in range(-1, -len(dt_cols), -1):\n",
    "        if not df[dt_cols[i]].fillna(0).eq(0).all():\n",
    "            LAST_DATE_I = i\n",
    "            break\n",
    "    return LAST_DATE_I, dt_cols"
   ]
  },
  {
   "cell_type": "code",
   "execution_count": 9,
   "id": "recent-optimization",
   "metadata": {
    "execution": {
     "iopub.execute_input": "2021-05-09T00:15:01.196606Z",
     "iopub.status.busy": "2021-05-09T00:15:01.195692Z",
     "iopub.status.idle": "2021-05-09T00:15:01.480033Z",
     "shell.execute_reply": "2021-05-09T00:15:01.479434Z"
    },
    "papermill": {
     "duration": 0.327537,
     "end_time": "2021-05-09T00:15:01.480162",
     "exception": false,
     "start_time": "2021-05-09T00:15:01.152625",
     "status": "completed"
    },
    "tags": []
   },
   "outputs": [],
   "source": [
    "#hide\n",
    "COL_REGION = 'Country/Region'\n",
    "# Confirmed, Recovered, Deaths\n",
    "df = get_frame('confirmed')\n",
    "# dft_: timeseries, dfc_: today country agg\n",
    "dft_cases = df\n",
    "dft_deaths = get_frame('deaths')\n",
    "dft_recovered = get_frame('recovered')\n",
    "LAST_DATE_I, dt_cols = get_dates(df)"
   ]
  },
  {
   "cell_type": "code",
   "execution_count": 10,
   "id": "absolute-copper",
   "metadata": {
    "execution": {
     "iopub.execute_input": "2021-05-09T00:15:01.567780Z",
     "iopub.status.busy": "2021-05-09T00:15:01.566445Z",
     "iopub.status.idle": "2021-05-09T00:15:01.568424Z",
     "shell.execute_reply": "2021-05-09T00:15:01.568906Z"
    },
    "papermill": {
     "duration": 0.045148,
     "end_time": "2021-05-09T00:15:01.569044",
     "exception": false,
     "start_time": "2021-05-09T00:15:01.523896",
     "status": "completed"
    },
    "tags": []
   },
   "outputs": [],
   "source": [
    "#hide\n",
    "LAST_DATE_I, dt_cols = get_dates(df)\n",
    "dt_today =dt_cols[LAST_DATE_I]\n",
    "# dt_5day = dt_cols[LAST_DATE_I - 5]\n",
    "dt_yday = dt_cols[LAST_DATE_I - 1]"
   ]
  },
  {
   "cell_type": "code",
   "execution_count": 11,
   "id": "restricted-sheriff",
   "metadata": {
    "execution": {
     "iopub.execute_input": "2021-05-09T00:15:01.650215Z",
     "iopub.status.busy": "2021-05-09T00:15:01.649571Z",
     "iopub.status.idle": "2021-05-09T00:15:01.657984Z",
     "shell.execute_reply": "2021-05-09T00:15:01.657460Z"
    },
    "papermill": {
     "duration": 0.053104,
     "end_time": "2021-05-09T00:15:01.658095",
     "exception": false,
     "start_time": "2021-05-09T00:15:01.604991",
     "status": "completed"
    },
    "tags": []
   },
   "outputs": [],
   "source": [
    "#hide\n",
    "dfc_cases = dft_cases.groupby(COL_REGION)[dt_today].sum()\n",
    "dfc_deaths = dft_deaths.groupby(COL_REGION)[dt_today].sum()\n",
    "# dfp_cases = dft_cases.groupby(COL_REGION)[dt_5day].sum()\n",
    "# dfp_deaths = dft_deaths.groupby(COL_REGION)[dt_5day].sum()\n",
    "dfp_cases = dft_cases.groupby(COL_REGION)[dt_yday].sum()\n",
    "dfp_deaths = dft_deaths.groupby(COL_REGION)[dt_yday].sum()"
   ]
  },
  {
   "cell_type": "code",
   "execution_count": 12,
   "id": "deluxe-hepatitis",
   "metadata": {
    "execution": {
     "iopub.execute_input": "2021-05-09T00:15:01.740018Z",
     "iopub.status.busy": "2021-05-09T00:15:01.739329Z",
     "iopub.status.idle": "2021-05-09T00:15:01.744525Z",
     "shell.execute_reply": "2021-05-09T00:15:01.743929Z"
    },
    "papermill": {
     "duration": 0.050896,
     "end_time": "2021-05-09T00:15:01.744665",
     "exception": false,
     "start_time": "2021-05-09T00:15:01.693769",
     "status": "completed"
    },
    "tags": []
   },
   "outputs": [],
   "source": [
    "#hide\n",
    "df_table = (pd.DataFrame(dict(Cases = dfc_cases, Deaths = dfc_deaths, PCases = dfp_cases, PDeaths = dfp_deaths))\n",
    "            .sort_values(by = ['Cases','Deaths'], ascending = [False, False])\n",
    "            .reset_index())"
   ]
  },
  {
   "cell_type": "code",
   "execution_count": 13,
   "id": "educational-chancellor",
   "metadata": {
    "execution": {
     "iopub.execute_input": "2021-05-09T00:15:01.844866Z",
     "iopub.status.busy": "2021-05-09T00:15:01.844214Z",
     "iopub.status.idle": "2021-05-09T00:15:01.853408Z",
     "shell.execute_reply": "2021-05-09T00:15:01.852841Z"
    },
    "papermill": {
     "duration": 0.070363,
     "end_time": "2021-05-09T00:15:01.853530",
     "exception": false,
     "start_time": "2021-05-09T00:15:01.783167",
     "status": "completed"
    },
    "tags": []
   },
   "outputs": [
    {
     "data": {
      "text/html": [
       "<div>\n",
       "<style scoped>\n",
       "    .dataframe tbody tr th:only-of-type {\n",
       "        vertical-align: middle;\n",
       "    }\n",
       "\n",
       "    .dataframe tbody tr th {\n",
       "        vertical-align: top;\n",
       "    }\n",
       "\n",
       "    .dataframe thead th {\n",
       "        text-align: right;\n",
       "    }\n",
       "</style>\n",
       "<table border=\"1\" class=\"dataframe\">\n",
       "  <thead>\n",
       "    <tr style=\"text-align: right;\">\n",
       "      <th></th>\n",
       "      <th>Country/Region</th>\n",
       "      <th>Cases</th>\n",
       "      <th>Deaths</th>\n",
       "      <th>PCases</th>\n",
       "      <th>PDeaths</th>\n",
       "      <th>Cases (+)</th>\n",
       "      <th>Deaths (+)</th>\n",
       "      <th>Fatality Rate</th>\n",
       "      <th>Continent</th>\n",
       "    </tr>\n",
       "  </thead>\n",
       "  <tbody>\n",
       "    <tr>\n",
       "      <th>0</th>\n",
       "      <td>US</td>\n",
       "      <td>32651865</td>\n",
       "      <td>580901</td>\n",
       "      <td>32604810</td>\n",
       "      <td>580064</td>\n",
       "      <td>47055</td>\n",
       "      <td>837</td>\n",
       "      <td>1.78</td>\n",
       "      <td>North America</td>\n",
       "    </tr>\n",
       "    <tr>\n",
       "      <th>1</th>\n",
       "      <td>India</td>\n",
       "      <td>21892676</td>\n",
       "      <td>238270</td>\n",
       "      <td>21491598</td>\n",
       "      <td>234083</td>\n",
       "      <td>401078</td>\n",
       "      <td>4187</td>\n",
       "      <td>1.09</td>\n",
       "      <td>Asia</td>\n",
       "    </tr>\n",
       "    <tr>\n",
       "      <th>2</th>\n",
       "      <td>Brazil</td>\n",
       "      <td>15082449</td>\n",
       "      <td>419114</td>\n",
       "      <td>15003563</td>\n",
       "      <td>416949</td>\n",
       "      <td>78886</td>\n",
       "      <td>2165</td>\n",
       "      <td>2.78</td>\n",
       "      <td>South America</td>\n",
       "    </tr>\n",
       "    <tr>\n",
       "      <th>3</th>\n",
       "      <td>France</td>\n",
       "      <td>5808421</td>\n",
       "      <td>106262</td>\n",
       "      <td>5789283</td>\n",
       "      <td>106011</td>\n",
       "      <td>19138</td>\n",
       "      <td>251</td>\n",
       "      <td>1.83</td>\n",
       "      <td>Europe</td>\n",
       "    </tr>\n",
       "    <tr>\n",
       "      <th>4</th>\n",
       "      <td>Turkey</td>\n",
       "      <td>4998089</td>\n",
       "      <td>42465</td>\n",
       "      <td>4977982</td>\n",
       "      <td>42187</td>\n",
       "      <td>20107</td>\n",
       "      <td>278</td>\n",
       "      <td>0.85</td>\n",
       "      <td>Asia</td>\n",
       "    </tr>\n",
       "  </tbody>\n",
       "</table>\n",
       "</div>"
      ],
      "text/plain": [
       "  Country/Region     Cases  Deaths    PCases  PDeaths  Cases (+)  Deaths (+)  \\\n",
       "0             US  32651865  580901  32604810   580064      47055         837   \n",
       "1          India  21892676  238270  21491598   234083     401078        4187   \n",
       "2         Brazil  15082449  419114  15003563   416949      78886        2165   \n",
       "3         France   5808421  106262   5789283   106011      19138         251   \n",
       "4         Turkey   4998089   42465   4977982    42187      20107         278   \n",
       "\n",
       "   Fatality Rate      Continent  \n",
       "0           1.78  North America  \n",
       "1           1.09           Asia  \n",
       "2           2.78  South America  \n",
       "3           1.83         Europe  \n",
       "4           0.85           Asia  "
      ]
     },
     "execution_count": 13,
     "metadata": {},
     "output_type": "execute_result"
    }
   ],
   "source": [
    "#hide\n",
    "for c in 'Cases, Deaths'.split(', '):\n",
    "    df_table[f'{c} (+)'] = (df_table[c] - df_table[f'P{c}']).clip(0)\n",
    "    #Clip ça veut dire, les chiffres negatif sont interdit\n",
    "df_table['Fatality Rate'] = (100* df_table['Deaths']/ df_table['Cases']).round(2)\n",
    "df_table['Continent'] = df_table['Country/Region'].map(mapping['map.continent'])\n",
    "df_table.head(5)"
   ]
  },
  {
   "cell_type": "code",
   "execution_count": 14,
   "id": "aboriginal-bulgaria",
   "metadata": {
    "execution": {
     "iopub.execute_input": "2021-05-09T00:15:01.944504Z",
     "iopub.status.busy": "2021-05-09T00:15:01.943864Z",
     "iopub.status.idle": "2021-05-09T00:15:01.945726Z",
     "shell.execute_reply": "2021-05-09T00:15:01.946218Z"
    },
    "papermill": {
     "duration": 0.049675,
     "end_time": "2021-05-09T00:15:01.946365",
     "exception": false,
     "start_time": "2021-05-09T00:15:01.896690",
     "status": "completed"
    },
    "tags": []
   },
   "outputs": [],
   "source": [
    "#hide\n",
    "#delete problematic countries from table\n",
    "df_table = df_table[~df_table['Country/Region'].isin(['Cape Verde', 'Cruise Ship', 'Kosovo'])]"
   ]
  },
  {
   "cell_type": "code",
   "execution_count": 15,
   "id": "fantastic-effect",
   "metadata": {
    "execution": {
     "iopub.execute_input": "2021-05-09T00:15:02.038004Z",
     "iopub.status.busy": "2021-05-09T00:15:02.037338Z",
     "iopub.status.idle": "2021-05-09T00:15:02.060148Z",
     "shell.execute_reply": "2021-05-09T00:15:02.059179Z"
    },
    "papermill": {
     "duration": 0.072586,
     "end_time": "2021-05-09T00:15:02.060294",
     "exception": false,
     "start_time": "2021-05-09T00:15:01.987708",
     "status": "completed"
    },
    "tags": []
   },
   "outputs": [
    {
     "data": {
      "text/html": [
       "<div>\n",
       "<style scoped>\n",
       "    .dataframe tbody tr th:only-of-type {\n",
       "        vertical-align: middle;\n",
       "    }\n",
       "\n",
       "    .dataframe tbody tr th {\n",
       "        vertical-align: top;\n",
       "    }\n",
       "\n",
       "    .dataframe thead th {\n",
       "        text-align: right;\n",
       "    }\n",
       "</style>\n",
       "<table border=\"1\" class=\"dataframe\">\n",
       "  <thead>\n",
       "    <tr style=\"text-align: right;\">\n",
       "      <th></th>\n",
       "      <th>Country/Region</th>\n",
       "      <th>Cases</th>\n",
       "      <th>Deaths</th>\n",
       "      <th>PCases</th>\n",
       "      <th>PDeaths</th>\n",
       "      <th>Cases (+)</th>\n",
       "      <th>Deaths (+)</th>\n",
       "      <th>Fatality Rate</th>\n",
       "      <th>Continent</th>\n",
       "    </tr>\n",
       "  </thead>\n",
       "  <tbody>\n",
       "    <tr>\n",
       "      <th>0</th>\n",
       "      <td>US</td>\n",
       "      <td>32651865</td>\n",
       "      <td>580901</td>\n",
       "      <td>32604810</td>\n",
       "      <td>580064</td>\n",
       "      <td>47055</td>\n",
       "      <td>837</td>\n",
       "      <td>1.8</td>\n",
       "      <td>North America</td>\n",
       "    </tr>\n",
       "    <tr>\n",
       "      <th>1</th>\n",
       "      <td>India</td>\n",
       "      <td>21892676</td>\n",
       "      <td>238270</td>\n",
       "      <td>21491598</td>\n",
       "      <td>234083</td>\n",
       "      <td>401078</td>\n",
       "      <td>4187</td>\n",
       "      <td>1.1</td>\n",
       "      <td>Asia</td>\n",
       "    </tr>\n",
       "    <tr>\n",
       "      <th>2</th>\n",
       "      <td>Brazil</td>\n",
       "      <td>15082449</td>\n",
       "      <td>419114</td>\n",
       "      <td>15003563</td>\n",
       "      <td>416949</td>\n",
       "      <td>78886</td>\n",
       "      <td>2165</td>\n",
       "      <td>2.8</td>\n",
       "      <td>South America</td>\n",
       "    </tr>\n",
       "    <tr>\n",
       "      <th>3</th>\n",
       "      <td>France</td>\n",
       "      <td>5808421</td>\n",
       "      <td>106262</td>\n",
       "      <td>5789283</td>\n",
       "      <td>106011</td>\n",
       "      <td>19138</td>\n",
       "      <td>251</td>\n",
       "      <td>1.8</td>\n",
       "      <td>Europe</td>\n",
       "    </tr>\n",
       "    <tr>\n",
       "      <th>4</th>\n",
       "      <td>Turkey</td>\n",
       "      <td>4998089</td>\n",
       "      <td>42465</td>\n",
       "      <td>4977982</td>\n",
       "      <td>42187</td>\n",
       "      <td>20107</td>\n",
       "      <td>278</td>\n",
       "      <td>0.8</td>\n",
       "      <td>Asia</td>\n",
       "    </tr>\n",
       "  </tbody>\n",
       "</table>\n",
       "</div>"
      ],
      "text/plain": [
       "  Country/Region     Cases  Deaths    PCases  PDeaths  Cases (+)  Deaths (+)  \\\n",
       "0             US  32651865  580901  32604810   580064      47055         837   \n",
       "1          India  21892676  238270  21491598   234083     401078        4187   \n",
       "2         Brazil  15082449  419114  15003563   416949      78886        2165   \n",
       "3         France   5808421  106262   5789283   106011      19138         251   \n",
       "4         Turkey   4998089   42465   4977982    42187      20107         278   \n",
       "\n",
       "   Fatality Rate      Continent  \n",
       "0            1.8  North America  \n",
       "1            1.1           Asia  \n",
       "2            2.8  South America  \n",
       "3            1.8         Europe  \n",
       "4            0.8           Asia  "
      ]
     },
     "execution_count": 15,
     "metadata": {},
     "output_type": "execute_result"
    }
   ],
   "source": [
    "#hide\n",
    "df_table = (pd.DataFrame(dict(Cases=dfc_cases, Deaths=dfc_deaths, PCases=dfp_cases, PDeaths=dfp_deaths))\n",
    "             .sort_values(by=['Cases', 'Deaths'], ascending=[False, False])\n",
    "             .reset_index())\n",
    "df_table.rename(columns={'index': 'Country/Region'}, inplace=True)\n",
    "for c in 'Cases, Deaths'.split(', '):\n",
    "    df_table[f'{c} (+)'] = (df_table[c] - df_table[f'P{c}']).clip(0)  # DATA BUG\n",
    "df_table['Fatality Rate'] = (100 * df_table['Deaths'] / df_table['Cases']).round(1)\n",
    "df_table['Continent'] = df_table['Country/Region'].map(mapping['map.continent'])\n",
    "df_table.head(5)"
   ]
  },
  {
   "cell_type": "code",
   "execution_count": 16,
   "id": "fewer-occasion",
   "metadata": {
    "execution": {
     "iopub.execute_input": "2021-05-09T00:15:02.149942Z",
     "iopub.status.busy": "2021-05-09T00:15:02.149238Z",
     "iopub.status.idle": "2021-05-09T00:15:02.151500Z",
     "shell.execute_reply": "2021-05-09T00:15:02.152048Z"
    },
    "papermill": {
     "duration": 0.05153,
     "end_time": "2021-05-09T00:15:02.152193",
     "exception": false,
     "start_time": "2021-05-09T00:15:02.100663",
     "status": "completed"
    },
    "tags": []
   },
   "outputs": [],
   "source": [
    "#hide\n",
    "#delete problematic countries from table\n",
    "df_table = df_table[~df_table['Country/Region'].isin(['Cape Verde', 'Cruise Ship', 'Kosovo'])]"
   ]
  },
  {
   "cell_type": "code",
   "execution_count": 17,
   "id": "related-center",
   "metadata": {
    "execution": {
     "iopub.execute_input": "2021-05-09T00:15:02.253521Z",
     "iopub.status.busy": "2021-05-09T00:15:02.252853Z",
     "iopub.status.idle": "2021-05-09T00:15:02.254915Z",
     "shell.execute_reply": "2021-05-09T00:15:02.255427Z"
    },
    "papermill": {
     "duration": 0.063707,
     "end_time": "2021-05-09T00:15:02.255598",
     "exception": false,
     "start_time": "2021-05-09T00:15:02.191891",
     "status": "completed"
    },
    "tags": []
   },
   "outputs": [],
   "source": [
    "#hide\n",
    "metrics = [df_table.columns[index] for index in [1,2,5,6]]\n",
    "# s_china = df_table[df_table['Country/Region'].eq('China')][metrics].sum().add_prefix('China ')\n",
    "s_us = df_table[df_table['Country/Region'].eq('US')][metrics].sum().add_prefix('US ')\n",
    "s_eu = df_table[df_table['Continent'].eq('Europe')][metrics].sum().add_prefix('EU ')\n",
    "s_ind = df_table[df_table['Country/Region'].eq('India')][metrics].sum().add_prefix('India ')\n",
    "summary = {'updated': pd.to_datetime(dt_today), 'since': pd.to_datetime(dt_yday)}\n",
    "summary = {'updated': pd.to_datetime(dt_today), 'since': pd.to_datetime(dt_yday)}\n",
    "summary = {**summary, **df_table[metrics].sum(), **s_ind, **s_us, **s_eu}"
   ]
  },
  {
   "cell_type": "code",
   "execution_count": 18,
   "id": "engaging-syndrome",
   "metadata": {
    "execution": {
     "iopub.execute_input": "2021-05-09T00:15:02.342619Z",
     "iopub.status.busy": "2021-05-09T00:15:02.341956Z",
     "iopub.status.idle": "2021-05-09T00:15:02.354794Z",
     "shell.execute_reply": "2021-05-09T00:15:02.354161Z"
    },
    "papermill": {
     "duration": 0.058857,
     "end_time": "2021-05-09T00:15:02.354918",
     "exception": false,
     "start_time": "2021-05-09T00:15:02.296061",
     "status": "completed"
    },
    "tags": []
   },
   "outputs": [],
   "source": [
    "#hide\n",
    "dft_ct_new_cases = dft_cases.groupby(COL_REGION)[dt_cols].sum().diff(axis=1).fillna(0).astype(int)"
   ]
  },
  {
   "cell_type": "code",
   "execution_count": 19,
   "id": "neutral-assignment",
   "metadata": {
    "execution": {
     "iopub.execute_input": "2021-05-09T00:15:02.444479Z",
     "iopub.status.busy": "2021-05-09T00:15:02.443773Z",
     "iopub.status.idle": "2021-05-09T00:15:02.446156Z",
     "shell.execute_reply": "2021-05-09T00:15:02.445527Z"
    },
    "papermill": {
     "duration": 0.052024,
     "end_time": "2021-05-09T00:15:02.446268",
     "exception": false,
     "start_time": "2021-05-09T00:15:02.394244",
     "status": "completed"
    },
    "tags": []
   },
   "outputs": [],
   "source": [
    "#hide\n",
    "everydaycases = dft_ct_new_cases.cumsum(axis=1)"
   ]
  },
  {
   "cell_type": "code",
   "execution_count": 20,
   "id": "parliamentary-calgary",
   "metadata": {
    "execution": {
     "iopub.execute_input": "2021-05-09T00:15:02.526371Z",
     "iopub.status.busy": "2021-05-09T00:15:02.525714Z",
     "iopub.status.idle": "2021-05-09T00:15:03.077312Z",
     "shell.execute_reply": "2021-05-09T00:15:03.076735Z"
    },
    "papermill": {
     "duration": 0.592638,
     "end_time": "2021-05-09T00:15:03.077467",
     "exception": false,
     "start_time": "2021-05-09T00:15:02.484829",
     "status": "completed"
    },
    "tags": []
   },
   "outputs": [],
   "source": [
    "#hide\n",
    "import pandas as pd\n",
    "import matplotlib.pyplot as plt\n",
    "import matplotlib.ticker as ticker\n",
    "import matplotlib.animation as animation\n",
    "from IPython.display import HTML"
   ]
  },
  {
   "cell_type": "code",
   "execution_count": 21,
   "id": "lasting-extraction",
   "metadata": {
    "execution": {
     "iopub.execute_input": "2021-05-09T00:15:03.159277Z",
     "iopub.status.busy": "2021-05-09T00:15:03.158629Z",
     "iopub.status.idle": "2021-05-09T00:15:03.163992Z",
     "shell.execute_reply": "2021-05-09T00:15:03.164505Z"
    },
    "papermill": {
     "duration": 0.050365,
     "end_time": "2021-05-09T00:15:03.164636",
     "exception": false,
     "start_time": "2021-05-09T00:15:03.114271",
     "status": "completed"
    },
    "tags": []
   },
   "outputs": [],
   "source": [
    "#hide\n",
    "t = everydaycases.stack()"
   ]
  },
  {
   "cell_type": "code",
   "execution_count": 22,
   "id": "premier-sleeve",
   "metadata": {
    "execution": {
     "iopub.execute_input": "2021-05-09T00:15:03.251981Z",
     "iopub.status.busy": "2021-05-09T00:15:03.251295Z",
     "iopub.status.idle": "2021-05-09T00:15:03.258822Z",
     "shell.execute_reply": "2021-05-09T00:15:03.259383Z"
    },
    "papermill": {
     "duration": 0.055509,
     "end_time": "2021-05-09T00:15:03.259548",
     "exception": false,
     "start_time": "2021-05-09T00:15:03.204039",
     "status": "completed"
    },
    "tags": []
   },
   "outputs": [],
   "source": [
    "#hide\n",
    "g = t.reset_index(['Country/Region'])"
   ]
  },
  {
   "cell_type": "code",
   "execution_count": 23,
   "id": "distributed-pittsburgh",
   "metadata": {
    "execution": {
     "iopub.execute_input": "2021-05-09T00:15:03.339456Z",
     "iopub.status.busy": "2021-05-09T00:15:03.338838Z",
     "iopub.status.idle": "2021-05-09T00:15:03.340684Z",
     "shell.execute_reply": "2021-05-09T00:15:03.341289Z"
    },
    "papermill": {
     "duration": 0.043862,
     "end_time": "2021-05-09T00:15:03.341424",
     "exception": false,
     "start_time": "2021-05-09T00:15:03.297562",
     "status": "completed"
    },
    "tags": []
   },
   "outputs": [],
   "source": [
    "#hide\n",
    "g.index.name = 'date'"
   ]
  },
  {
   "cell_type": "code",
   "execution_count": 24,
   "id": "naked-donor",
   "metadata": {
    "execution": {
     "iopub.execute_input": "2021-05-09T00:15:03.435817Z",
     "iopub.status.busy": "2021-05-09T00:15:03.434280Z",
     "iopub.status.idle": "2021-05-09T00:15:03.436815Z",
     "shell.execute_reply": "2021-05-09T00:15:03.437368Z"
    },
    "papermill": {
     "duration": 0.049842,
     "end_time": "2021-05-09T00:15:03.437525",
     "exception": false,
     "start_time": "2021-05-09T00:15:03.387683",
     "status": "completed"
    },
    "tags": []
   },
   "outputs": [],
   "source": [
    "# #hide\n",
    "# g = g.reset_index(['date'])"
   ]
  },
  {
   "cell_type": "code",
   "execution_count": 25,
   "id": "incomplete-mustang",
   "metadata": {
    "execution": {
     "iopub.execute_input": "2021-05-09T00:15:03.518746Z",
     "iopub.status.busy": "2021-05-09T00:15:03.518185Z",
     "iopub.status.idle": "2021-05-09T00:15:03.520102Z",
     "shell.execute_reply": "2021-05-09T00:15:03.520632Z"
    },
    "papermill": {
     "duration": 0.043907,
     "end_time": "2021-05-09T00:15:03.520767",
     "exception": false,
     "start_time": "2021-05-09T00:15:03.476860",
     "status": "completed"
    },
    "tags": []
   },
   "outputs": [],
   "source": [
    "#hide\n",
    "# g.head()"
   ]
  },
  {
   "cell_type": "code",
   "execution_count": 26,
   "id": "specific-kruger",
   "metadata": {
    "execution": {
     "iopub.execute_input": "2021-05-09T00:15:03.607656Z",
     "iopub.status.busy": "2021-05-09T00:15:03.606983Z",
     "iopub.status.idle": "2021-05-09T00:15:03.609694Z",
     "shell.execute_reply": "2021-05-09T00:15:03.609049Z"
    },
    "papermill": {
     "duration": 0.04541,
     "end_time": "2021-05-09T00:15:03.609829",
     "exception": false,
     "start_time": "2021-05-09T00:15:03.564419",
     "status": "completed"
    },
    "tags": []
   },
   "outputs": [],
   "source": [
    "#hide\n",
    "# g.columns = ['date','country','cases']"
   ]
  },
  {
   "cell_type": "code",
   "execution_count": 27,
   "id": "tender-conversion",
   "metadata": {
    "execution": {
     "iopub.execute_input": "2021-05-09T00:15:03.690228Z",
     "iopub.status.busy": "2021-05-09T00:15:03.689590Z",
     "iopub.status.idle": "2021-05-09T00:15:03.691584Z",
     "shell.execute_reply": "2021-05-09T00:15:03.692156Z"
    },
    "papermill": {
     "duration": 0.043428,
     "end_time": "2021-05-09T00:15:03.692280",
     "exception": false,
     "start_time": "2021-05-09T00:15:03.648852",
     "status": "completed"
    },
    "tags": []
   },
   "outputs": [],
   "source": [
    "#hide\n",
    "# g['continent'] = g.country"
   ]
  },
  {
   "cell_type": "code",
   "execution_count": 28,
   "id": "substantial-wilderness",
   "metadata": {
    "execution": {
     "iopub.execute_input": "2021-05-09T00:15:03.772326Z",
     "iopub.status.busy": "2021-05-09T00:15:03.771636Z",
     "iopub.status.idle": "2021-05-09T00:15:03.774348Z",
     "shell.execute_reply": "2021-05-09T00:15:03.773803Z"
    },
    "papermill": {
     "duration": 0.044847,
     "end_time": "2021-05-09T00:15:03.774458",
     "exception": false,
     "start_time": "2021-05-09T00:15:03.729611",
     "status": "completed"
    },
    "tags": []
   },
   "outputs": [],
   "source": [
    "#hide\n",
    "# cols = list(g.columns.values)"
   ]
  },
  {
   "cell_type": "code",
   "execution_count": 29,
   "id": "solved-farming",
   "metadata": {
    "execution": {
     "iopub.execute_input": "2021-05-09T00:15:03.860084Z",
     "iopub.status.busy": "2021-05-09T00:15:03.859316Z",
     "iopub.status.idle": "2021-05-09T00:15:03.860967Z",
     "shell.execute_reply": "2021-05-09T00:15:03.861621Z"
    },
    "papermill": {
     "duration": 0.04762,
     "end_time": "2021-05-09T00:15:03.861762",
     "exception": false,
     "start_time": "2021-05-09T00:15:03.814142",
     "status": "completed"
    },
    "tags": []
   },
   "outputs": [],
   "source": [
    "#hide\n",
    "# cols.insert(0, cols.pop())"
   ]
  },
  {
   "cell_type": "code",
   "execution_count": 30,
   "id": "executed-adoption",
   "metadata": {
    "execution": {
     "iopub.execute_input": "2021-05-09T00:15:03.946039Z",
     "iopub.status.busy": "2021-05-09T00:15:03.945413Z",
     "iopub.status.idle": "2021-05-09T00:15:03.947949Z",
     "shell.execute_reply": "2021-05-09T00:15:03.947375Z"
    },
    "papermill": {
     "duration": 0.046055,
     "end_time": "2021-05-09T00:15:03.948081",
     "exception": false,
     "start_time": "2021-05-09T00:15:03.902026",
     "status": "completed"
    },
    "tags": []
   },
   "outputs": [],
   "source": [
    "#hide\n",
    "# g = g[cols]"
   ]
  },
  {
   "cell_type": "code",
   "execution_count": 31,
   "id": "subject-dublin",
   "metadata": {
    "execution": {
     "iopub.execute_input": "2021-05-09T00:15:04.028633Z",
     "iopub.status.busy": "2021-05-09T00:15:04.027981Z",
     "iopub.status.idle": "2021-05-09T00:15:04.030109Z",
     "shell.execute_reply": "2021-05-09T00:15:04.030605Z"
    },
    "papermill": {
     "duration": 0.044445,
     "end_time": "2021-05-09T00:15:04.030730",
     "exception": false,
     "start_time": "2021-05-09T00:15:03.986285",
     "status": "completed"
    },
    "tags": []
   },
   "outputs": [],
   "source": [
    "#hide\n",
    "# g['continent'] = g['continent'].map(mapping['map.continent'])"
   ]
  },
  {
   "cell_type": "code",
   "execution_count": 32,
   "id": "freelance-scout",
   "metadata": {
    "execution": {
     "iopub.execute_input": "2021-05-09T00:15:04.112381Z",
     "iopub.status.busy": "2021-05-09T00:15:04.111146Z",
     "iopub.status.idle": "2021-05-09T00:15:04.113244Z",
     "shell.execute_reply": "2021-05-09T00:15:04.113708Z"
    },
    "papermill": {
     "duration": 0.043993,
     "end_time": "2021-05-09T00:15:04.113849",
     "exception": false,
     "start_time": "2021-05-09T00:15:04.069856",
     "status": "completed"
    },
    "tags": []
   },
   "outputs": [],
   "source": [
    "#hide\n",
    "# g.head()"
   ]
  },
  {
   "cell_type": "code",
   "execution_count": 33,
   "id": "limited-engine",
   "metadata": {
    "execution": {
     "iopub.execute_input": "2021-05-09T00:15:04.192504Z",
     "iopub.status.busy": "2021-05-09T00:15:04.191909Z",
     "iopub.status.idle": "2021-05-09T00:15:04.194645Z",
     "shell.execute_reply": "2021-05-09T00:15:04.194070Z"
    },
    "papermill": {
     "duration": 0.044064,
     "end_time": "2021-05-09T00:15:04.194767",
     "exception": false,
     "start_time": "2021-05-09T00:15:04.150703",
     "status": "completed"
    },
    "tags": []
   },
   "outputs": [],
   "source": [
    "# hide\n",
    "# g['date'] = g['date'].astype('datetime64[ns]')"
   ]
  },
  {
   "cell_type": "code",
   "execution_count": 34,
   "id": "sophisticated-supervisor",
   "metadata": {
    "execution": {
     "iopub.execute_input": "2021-05-09T00:15:04.272938Z",
     "iopub.status.busy": "2021-05-09T00:15:04.272362Z",
     "iopub.status.idle": "2021-05-09T00:15:04.275103Z",
     "shell.execute_reply": "2021-05-09T00:15:04.274470Z"
    },
    "papermill": {
     "duration": 0.044058,
     "end_time": "2021-05-09T00:15:04.275212",
     "exception": false,
     "start_time": "2021-05-09T00:15:04.231154",
     "status": "completed"
    },
    "tags": []
   },
   "outputs": [],
   "source": [
    "#hide\n",
    "# g['date'] = g.date.dt.dayofyear"
   ]
  },
  {
   "cell_type": "code",
   "execution_count": 35,
   "id": "inside-dubai",
   "metadata": {
    "execution": {
     "iopub.execute_input": "2021-05-09T00:15:04.353837Z",
     "iopub.status.busy": "2021-05-09T00:15:04.353245Z",
     "iopub.status.idle": "2021-05-09T00:15:04.358710Z",
     "shell.execute_reply": "2021-05-09T00:15:04.359228Z"
    },
    "papermill": {
     "duration": 0.045657,
     "end_time": "2021-05-09T00:15:04.359363",
     "exception": false,
     "start_time": "2021-05-09T00:15:04.313706",
     "status": "completed"
    },
    "tags": []
   },
   "outputs": [],
   "source": [
    "#hide\n",
    "# g = g.rename(columns= {'continent':'group','country':'name','cases':'value'})"
   ]
  },
  {
   "cell_type": "code",
   "execution_count": 36,
   "id": "fleet-motorcycle",
   "metadata": {
    "execution": {
     "iopub.execute_input": "2021-05-09T00:15:04.443685Z",
     "iopub.status.busy": "2021-05-09T00:15:04.443082Z",
     "iopub.status.idle": "2021-05-09T00:15:04.445896Z",
     "shell.execute_reply": "2021-05-09T00:15:04.445391Z"
    },
    "papermill": {
     "duration": 0.047522,
     "end_time": "2021-05-09T00:15:04.446012",
     "exception": false,
     "start_time": "2021-05-09T00:15:04.398490",
     "status": "completed"
    },
    "tags": []
   },
   "outputs": [],
   "source": [
    "#hide\n",
    "# cols = ['name','group','day','value']"
   ]
  },
  {
   "cell_type": "code",
   "execution_count": 37,
   "id": "continued-sleeping",
   "metadata": {
    "execution": {
     "iopub.execute_input": "2021-05-09T00:15:04.527686Z",
     "iopub.status.busy": "2021-05-09T00:15:04.527017Z",
     "iopub.status.idle": "2021-05-09T00:15:04.529642Z",
     "shell.execute_reply": "2021-05-09T00:15:04.529134Z"
    },
    "papermill": {
     "duration": 0.043176,
     "end_time": "2021-05-09T00:15:04.529751",
     "exception": false,
     "start_time": "2021-05-09T00:15:04.486575",
     "status": "completed"
    },
    "tags": []
   },
   "outputs": [],
   "source": [
    "#hide\n",
    "# g.rename(columns= {'date':'day'},inplace = True)"
   ]
  },
  {
   "cell_type": "code",
   "execution_count": 38,
   "id": "major-fight",
   "metadata": {
    "execution": {
     "iopub.execute_input": "2021-05-09T00:15:04.608379Z",
     "iopub.status.busy": "2021-05-09T00:15:04.607681Z",
     "iopub.status.idle": "2021-05-09T00:15:04.609857Z",
     "shell.execute_reply": "2021-05-09T00:15:04.610432Z"
    },
    "papermill": {
     "duration": 0.044452,
     "end_time": "2021-05-09T00:15:04.610557",
     "exception": false,
     "start_time": "2021-05-09T00:15:04.566105",
     "status": "completed"
    },
    "tags": []
   },
   "outputs": [],
   "source": [
    "#hide\n",
    "# g = g[cols]"
   ]
  },
  {
   "cell_type": "code",
   "execution_count": 39,
   "id": "structured-mobile",
   "metadata": {
    "execution": {
     "iopub.execute_input": "2021-05-09T00:15:04.688581Z",
     "iopub.status.busy": "2021-05-09T00:15:04.687973Z",
     "iopub.status.idle": "2021-05-09T00:15:04.690280Z",
     "shell.execute_reply": "2021-05-09T00:15:04.689761Z"
    },
    "papermill": {
     "duration": 0.043311,
     "end_time": "2021-05-09T00:15:04.690393",
     "exception": false,
     "start_time": "2021-05-09T00:15:04.647082",
     "status": "completed"
    },
    "tags": []
   },
   "outputs": [],
   "source": [
    "# #hide\n",
    "# g = g[g.group.notna()]"
   ]
  },
  {
   "cell_type": "code",
   "execution_count": 40,
   "id": "determined-closing",
   "metadata": {
    "execution": {
     "iopub.execute_input": "2021-05-09T00:15:04.768996Z",
     "iopub.status.busy": "2021-05-09T00:15:04.768343Z",
     "iopub.status.idle": "2021-05-09T00:15:04.770181Z",
     "shell.execute_reply": "2021-05-09T00:15:04.770820Z"
    },
    "papermill": {
     "duration": 0.045021,
     "end_time": "2021-05-09T00:15:04.770956",
     "exception": false,
     "start_time": "2021-05-09T00:15:04.725935",
     "status": "completed"
    },
    "tags": []
   },
   "outputs": [],
   "source": [
    "# #hide\n",
    "# colors = dict(zip(\n",
    "#     [\"Oceania\", \"Europe\", \"Asia\", \"South America\", \"Middle East\", \"North America\", \"Africa\"],\n",
    "#     [\"#adb0ff\", \"#ffb3ff\", \"#90d595\", \"#e48381\", \"#aafbff\", \"#f7bb5f\", \"#eafb50\"]\n",
    "# ))\n",
    "# group_lk = g.set_index('name')['group'].to_dict()"
   ]
  },
  {
   "cell_type": "code",
   "execution_count": null,
   "id": "gross-drinking",
   "metadata": {
    "papermill": {
     "duration": 0.038223,
     "end_time": "2021-05-09T00:15:04.849208",
     "exception": false,
     "start_time": "2021-05-09T00:15:04.810985",
     "status": "completed"
    },
    "tags": []
   },
   "outputs": [],
   "source": []
  },
  {
   "cell_type": "code",
   "execution_count": 41,
   "id": "subject-macintosh",
   "metadata": {
    "execution": {
     "iopub.execute_input": "2021-05-09T00:15:04.941242Z",
     "iopub.status.busy": "2021-05-09T00:15:04.940321Z",
     "iopub.status.idle": "2021-05-09T00:15:04.942077Z",
     "shell.execute_reply": "2021-05-09T00:15:04.942787Z"
    },
    "papermill": {
     "duration": 0.054867,
     "end_time": "2021-05-09T00:15:04.942928",
     "exception": false,
     "start_time": "2021-05-09T00:15:04.888061",
     "status": "completed"
    },
    "tags": []
   },
   "outputs": [],
   "source": [
    "# #hide\n",
    "# fig, ax = plt.subplots(figsize=(15, 8))\n",
    "\n",
    "# def draw_barchart(current_day):\n",
    "#     dff = g[g['day'].eq(current_day)].sort_values(by='value', ascending=True).tail(10)\n",
    "#     ax.clear()\n",
    "#     ax.barh(dff['name'], dff['value'], color=[colors[group_lk[x]] for x in dff['name']])\n",
    "#     dx = dff['value'].max() / 200\n",
    "    \n",
    "#     for i, (value, name) in enumerate(zip(dff['value'], dff['name'])):\n",
    "#         ax.text(value-dx, i,     name,           size=14, weight=600, ha='right', va='bottom')\n",
    "#         ax.text(value-dx, i-.25, group_lk[name], size=10, color='#444444', ha='right', va='baseline')\n",
    "#         ax.text(value+dx, i,     f'{value:,.0f}',  size=14, ha='left',  va='center')\n",
    "#     ax.text(1, 0.4, current_day, transform=ax.transAxes, color='#777777', size=46, ha='right', weight=800)\n",
    "#     ax.text(0, 1.06, 'Population (thousands)', transform=ax.transAxes, size=12, color='#777777')\n",
    "#     ax.xaxis.set_major_formatter(ticker.StrMethodFormatter('{x:,.0f}'))\n",
    "#     ax.xaxis.set_ticks_position('top')\n",
    "#     ax.tick_params(axis='x', colors='#777777', labelsize=12)\n",
    "#     ax.set_yticks([])\n",
    "#     ax.margins(0, 0.01)\n",
    "#     ax.grid(which='major', axis='x', linestyle='-')\n",
    "#     ax.set_axisbelow(True)\n",
    "    \n",
    "#     ax.text(0, 1.15, 'Coronavirus',\n",
    "#             transform=ax.transAxes, size=24, weight=600, ha='left', va='top')\n",
    "# #     ax.text(1, 0, 'by @pratapvardhan; credit @jburnmurdoch', transform=ax.transAxes, color='#777777', ha='right',\n",
    "# #             bbox=dict(facecolor='white', alpha=0.8, edgecolor='white'))\n",
    "#     plt.box(False)"
   ]
  },
  {
   "cell_type": "code",
   "execution_count": 42,
   "id": "sexual-wages",
   "metadata": {
    "execution": {
     "iopub.execute_input": "2021-05-09T00:15:05.028536Z",
     "iopub.status.busy": "2021-05-09T00:15:05.027821Z",
     "iopub.status.idle": "2021-05-09T00:15:05.030267Z",
     "shell.execute_reply": "2021-05-09T00:15:05.029683Z"
    },
    "papermill": {
     "duration": 0.044482,
     "end_time": "2021-05-09T00:15:05.030385",
     "exception": false,
     "start_time": "2021-05-09T00:15:04.985903",
     "status": "completed"
    },
    "tags": []
   },
   "outputs": [],
   "source": [
    "# #hide_input\n",
    "# fig, ax = plt.subplots(figsize=(15, 8))\n",
    "# animator = animation.FuncAnimation(fig, draw_barchart, frames=range(g.day.values.min(), g.day.values.max()))\n",
    "# HTML(animator.to_jshtml())\n",
    "# # or use animator.to_html5_video() or animator.save() "
   ]
  },
  {
   "cell_type": "code",
   "execution_count": null,
   "id": "australian-container",
   "metadata": {
    "papermill": {
     "duration": 0.041896,
     "end_time": "2021-05-09T00:15:05.113571",
     "exception": false,
     "start_time": "2021-05-09T00:15:05.071675",
     "status": "completed"
    },
    "tags": []
   },
   "outputs": [],
   "source": []
  },
  {
   "cell_type": "code",
   "execution_count": null,
   "id": "mediterranean-pontiac",
   "metadata": {
    "papermill": {
     "duration": 0.040156,
     "end_time": "2021-05-09T00:15:05.194910",
     "exception": false,
     "start_time": "2021-05-09T00:15:05.154754",
     "status": "completed"
    },
    "tags": []
   },
   "outputs": [],
   "source": []
  },
  {
   "cell_type": "code",
   "execution_count": null,
   "id": "aging-legislature",
   "metadata": {
    "papermill": {
     "duration": 0.038666,
     "end_time": "2021-05-09T00:15:05.276826",
     "exception": false,
     "start_time": "2021-05-09T00:15:05.238160",
     "status": "completed"
    },
    "tags": []
   },
   "outputs": [],
   "source": []
  }
 ],
 "metadata": {
  "kernelspec": {
   "display_name": "Python 3",
   "language": "python",
   "name": "python3"
  },
  "language_info": {
   "codemirror_mode": {
    "name": "ipython",
    "version": 3
   },
   "file_extension": ".py",
   "mimetype": "text/x-python",
   "name": "python",
   "nbconvert_exporter": "python",
   "pygments_lexer": "ipython3",
   "version": "3.6.13"
  },
  "papermill": {
   "duration": 6.949118,
   "end_time": "2021-05-09T00:15:05.622641",
   "environment_variables": {},
   "exception": null,
   "input_path": "2020-03-21-covid19exp.ipynb",
   "output_path": "2020-03-21-covid19exp.ipynb",
   "parameters": {},
   "start_time": "2021-05-09T00:14:58.673523",
   "version": "2.0.0"
  }
 },
 "nbformat": 4,
 "nbformat_minor": 5
}