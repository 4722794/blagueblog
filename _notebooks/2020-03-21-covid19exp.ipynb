{
 "cells": [
  {
   "cell_type": "markdown",
   "id": "muslim-click",
   "metadata": {
    "papermill": {
     "duration": 0.034162,
     "end_time": "2021-06-22T00:20:04.285355",
     "exception": false,
     "start_time": "2021-06-22T00:20:04.251193",
     "status": "completed"
    },
    "tags": []
   },
   "source": [
    "# COVID-19 Case Race\n",
    "> A race chart to see rising cases around the world\n",
    "\n",
    "- author: Hargun Oberoi\n",
    "- image: images/covid-overview.png\n",
    "- hide: false\n",
    "- badges: false"
   ]
  },
  {
   "cell_type": "code",
   "execution_count": 1,
   "id": "proof-material",
   "metadata": {
    "execution": {
     "iopub.execute_input": "2021-06-22T00:20:04.355921Z",
     "iopub.status.busy": "2021-06-22T00:20:04.355348Z",
     "iopub.status.idle": "2021-06-22T00:20:04.693669Z",
     "shell.execute_reply": "2021-06-22T00:20:04.693195Z"
    },
    "papermill": {
     "duration": 0.377971,
     "end_time": "2021-06-22T00:20:04.693806",
     "exception": false,
     "start_time": "2021-06-22T00:20:04.315835",
     "status": "completed"
    },
    "tags": []
   },
   "outputs": [],
   "source": [
    "#hide\n",
    "import numpy as np\n",
    "import pandas as pd\n",
    "from jinja2 import Template\n",
    "from IPython.display import HTML"
   ]
  },
  {
   "cell_type": "code",
   "execution_count": 2,
   "id": "developed-terminology",
   "metadata": {
    "execution": {
     "iopub.execute_input": "2021-06-22T00:20:04.758938Z",
     "iopub.status.busy": "2021-06-22T00:20:04.758418Z",
     "iopub.status.idle": "2021-06-22T00:20:04.760101Z",
     "shell.execute_reply": "2021-06-22T00:20:04.760483Z"
    },
    "papermill": {
     "duration": 0.036477,
     "end_time": "2021-06-22T00:20:04.760617",
     "exception": false,
     "start_time": "2021-06-22T00:20:04.724140",
     "status": "completed"
    },
    "tags": []
   },
   "outputs": [],
   "source": [
    "#hide\n",
    "\n",
    "# FETCH\n",
    "base_url = 'https://raw.githubusercontent.com/pratapvardhan/notebooks/master/covid19/'\n",
    "paths = {\n",
    "    'mapping': base_url + 'mapping_countries.csv',\n",
    "    'overview': base_url + 'overview.tpl'\n",
    "}"
   ]
  },
  {
   "cell_type": "code",
   "execution_count": 3,
   "id": "dynamic-saver",
   "metadata": {
    "execution": {
     "iopub.execute_input": "2021-06-22T00:20:04.830707Z",
     "iopub.status.busy": "2021-06-22T00:20:04.830163Z",
     "iopub.status.idle": "2021-06-22T00:20:04.835063Z",
     "shell.execute_reply": "2021-06-22T00:20:04.835464Z"
    },
    "papermill": {
     "duration": 0.04515,
     "end_time": "2021-06-22T00:20:04.835601",
     "exception": false,
     "start_time": "2021-06-22T00:20:04.790451",
     "status": "completed"
    },
    "tags": []
   },
   "outputs": [
    {
     "data": {
      "text/plain": [
       "'https://raw.githubusercontent.com/pratapvardhan/notebooks/master/covid19/mapping_countries.csv'"
      ]
     },
     "execution_count": 3,
     "metadata": {},
     "output_type": "execute_result"
    }
   ],
   "source": [
    "#hide\n",
    "paths['mapping']"
   ]
  },
  {
   "cell_type": "code",
   "execution_count": 4,
   "id": "urban-software",
   "metadata": {
    "execution": {
     "iopub.execute_input": "2021-06-22T00:20:04.902735Z",
     "iopub.status.busy": "2021-06-22T00:20:04.902207Z",
     "iopub.status.idle": "2021-06-22T00:20:04.904425Z",
     "shell.execute_reply": "2021-06-22T00:20:04.903987Z"
    },
    "papermill": {
     "duration": 0.03852,
     "end_time": "2021-06-22T00:20:04.904541",
     "exception": false,
     "start_time": "2021-06-22T00:20:04.866021",
     "status": "completed"
    },
    "tags": []
   },
   "outputs": [],
   "source": [
    "#hide\n",
    "def get_mappings(url):\n",
    "    df = pd.read_csv(url)\n",
    "    return {\n",
    "        'df': df,\n",
    "        'replace.country': dict(df.dropna(subset=['Name']).set_index('Country')['Name']),\n",
    "        'map.continent': dict(df.set_index('Name')['Continent'])\n",
    "    }"
   ]
  },
  {
   "cell_type": "code",
   "execution_count": 5,
   "id": "intimate-machinery",
   "metadata": {
    "execution": {
     "iopub.execute_input": "2021-06-22T00:20:04.970691Z",
     "iopub.status.busy": "2021-06-22T00:20:04.970174Z",
     "iopub.status.idle": "2021-06-22T00:20:05.033016Z",
     "shell.execute_reply": "2021-06-22T00:20:05.033494Z"
    },
    "papermill": {
     "duration": 0.098993,
     "end_time": "2021-06-22T00:20:05.033667",
     "exception": false,
     "start_time": "2021-06-22T00:20:04.934674",
     "status": "completed"
    },
    "tags": []
   },
   "outputs": [],
   "source": [
    "#hide\n",
    "mapping = get_mappings(paths['mapping'])"
   ]
  },
  {
   "cell_type": "code",
   "execution_count": 6,
   "id": "certified-tactics",
   "metadata": {
    "execution": {
     "iopub.execute_input": "2021-06-22T00:20:05.100292Z",
     "iopub.status.busy": "2021-06-22T00:20:05.099717Z",
     "iopub.status.idle": "2021-06-22T00:20:05.101787Z",
     "shell.execute_reply": "2021-06-22T00:20:05.101356Z"
    },
    "papermill": {
     "duration": 0.037184,
     "end_time": "2021-06-22T00:20:05.101900",
     "exception": false,
     "start_time": "2021-06-22T00:20:05.064716",
     "status": "completed"
    },
    "tags": []
   },
   "outputs": [],
   "source": [
    "#hide\n",
    "def get_template(path):\n",
    "    from urllib.parse import urlparse\n",
    "    if bool(urlparse(path).netloc):\n",
    "        from urllib.request import urlopen\n",
    "        return urlopen(path).read().decode('utf8')\n",
    "    return open(path).read()"
   ]
  },
  {
   "cell_type": "code",
   "execution_count": 7,
   "id": "realistic-blast",
   "metadata": {
    "execution": {
     "iopub.execute_input": "2021-06-22T00:20:05.167571Z",
     "iopub.status.busy": "2021-06-22T00:20:05.167056Z",
     "iopub.status.idle": "2021-06-22T00:20:05.168878Z",
     "shell.execute_reply": "2021-06-22T00:20:05.169279Z"
    },
    "papermill": {
     "duration": 0.037307,
     "end_time": "2021-06-22T00:20:05.169409",
     "exception": false,
     "start_time": "2021-06-22T00:20:05.132102",
     "status": "completed"
    },
    "tags": []
   },
   "outputs": [],
   "source": [
    "#hide\n",
    "def get_frame(name):\n",
    "    url = (\n",
    "        'https://raw.githubusercontent.com/CSSEGISandData/COVID-19/master/csse_covid_19_data/'\n",
    "        f'csse_covid_19_time_series/time_series_covid19_{name}_global.csv')\n",
    "    df = pd.read_csv(url)\n",
    "    # rename countries\n",
    "    df['Country/Region'] = df['Country/Region'].replace(mapping['replace.country'])\n",
    "    return df"
   ]
  },
  {
   "cell_type": "code",
   "execution_count": 8,
   "id": "affiliated-characterization",
   "metadata": {
    "execution": {
     "iopub.execute_input": "2021-06-22T00:20:05.235829Z",
     "iopub.status.busy": "2021-06-22T00:20:05.235308Z",
     "iopub.status.idle": "2021-06-22T00:20:05.237277Z",
     "shell.execute_reply": "2021-06-22T00:20:05.236850Z"
    },
    "papermill": {
     "duration": 0.037678,
     "end_time": "2021-06-22T00:20:05.237389",
     "exception": false,
     "start_time": "2021-06-22T00:20:05.199711",
     "status": "completed"
    },
    "tags": []
   },
   "outputs": [],
   "source": [
    "#hide\n",
    "def get_dates(df):\n",
    "    dt_cols = df.columns[~df.columns.isin(['Province/State', 'Country/Region', 'Lat', 'Long'])]\n",
    "    LAST_DATE_I = -1\n",
    "    # sometimes last column may be empty, then go backwards\n",
    "    for i in range(-1, -len(dt_cols), -1):\n",
    "        if not df[dt_cols[i]].fillna(0).eq(0).all():\n",
    "            LAST_DATE_I = i\n",
    "            break\n",
    "    return LAST_DATE_I, dt_cols"
   ]
  },
  {
   "cell_type": "code",
   "execution_count": 9,
   "id": "recent-optimization",
   "metadata": {
    "execution": {
     "iopub.execute_input": "2021-06-22T00:20:05.303198Z",
     "iopub.status.busy": "2021-06-22T00:20:05.302585Z",
     "iopub.status.idle": "2021-06-22T00:20:05.950360Z",
     "shell.execute_reply": "2021-06-22T00:20:05.949837Z"
    },
    "papermill": {
     "duration": 0.683022,
     "end_time": "2021-06-22T00:20:05.950500",
     "exception": false,
     "start_time": "2021-06-22T00:20:05.267478",
     "status": "completed"
    },
    "tags": []
   },
   "outputs": [],
   "source": [
    "#hide\n",
    "COL_REGION = 'Country/Region'\n",
    "# Confirmed, Recovered, Deaths\n",
    "df = get_frame('confirmed')\n",
    "# dft_: timeseries, dfc_: today country agg\n",
    "dft_cases = df\n",
    "dft_deaths = get_frame('deaths')\n",
    "dft_recovered = get_frame('recovered')\n",
    "LAST_DATE_I, dt_cols = get_dates(df)"
   ]
  },
  {
   "cell_type": "code",
   "execution_count": 10,
   "id": "absolute-copper",
   "metadata": {
    "execution": {
     "iopub.execute_input": "2021-06-22T00:20:06.017897Z",
     "iopub.status.busy": "2021-06-22T00:20:06.017368Z",
     "iopub.status.idle": "2021-06-22T00:20:06.019407Z",
     "shell.execute_reply": "2021-06-22T00:20:06.019000Z"
    },
    "papermill": {
     "duration": 0.03799,
     "end_time": "2021-06-22T00:20:06.019528",
     "exception": false,
     "start_time": "2021-06-22T00:20:05.981538",
     "status": "completed"
    },
    "tags": []
   },
   "outputs": [],
   "source": [
    "#hide\n",
    "LAST_DATE_I, dt_cols = get_dates(df)\n",
    "dt_today =dt_cols[LAST_DATE_I]\n",
    "# dt_5day = dt_cols[LAST_DATE_I - 5]\n",
    "dt_yday = dt_cols[LAST_DATE_I - 1]"
   ]
  },
  {
   "cell_type": "code",
   "execution_count": 11,
   "id": "restricted-sheriff",
   "metadata": {
    "execution": {
     "iopub.execute_input": "2021-06-22T00:20:06.087460Z",
     "iopub.status.busy": "2021-06-22T00:20:06.086927Z",
     "iopub.status.idle": "2021-06-22T00:20:06.093159Z",
     "shell.execute_reply": "2021-06-22T00:20:06.092741Z"
    },
    "papermill": {
     "duration": 0.043651,
     "end_time": "2021-06-22T00:20:06.093279",
     "exception": false,
     "start_time": "2021-06-22T00:20:06.049628",
     "status": "completed"
    },
    "tags": []
   },
   "outputs": [],
   "source": [
    "#hide\n",
    "dfc_cases = dft_cases.groupby(COL_REGION)[dt_today].sum()\n",
    "dfc_deaths = dft_deaths.groupby(COL_REGION)[dt_today].sum()\n",
    "# dfp_cases = dft_cases.groupby(COL_REGION)[dt_5day].sum()\n",
    "# dfp_deaths = dft_deaths.groupby(COL_REGION)[dt_5day].sum()\n",
    "dfp_cases = dft_cases.groupby(COL_REGION)[dt_yday].sum()\n",
    "dfp_deaths = dft_deaths.groupby(COL_REGION)[dt_yday].sum()"
   ]
  },
  {
   "cell_type": "code",
   "execution_count": 12,
   "id": "deluxe-hepatitis",
   "metadata": {
    "execution": {
     "iopub.execute_input": "2021-06-22T00:20:06.159797Z",
     "iopub.status.busy": "2021-06-22T00:20:06.159277Z",
     "iopub.status.idle": "2021-06-22T00:20:06.164064Z",
     "shell.execute_reply": "2021-06-22T00:20:06.164505Z"
    },
    "papermill": {
     "duration": 0.041022,
     "end_time": "2021-06-22T00:20:06.164646",
     "exception": false,
     "start_time": "2021-06-22T00:20:06.123624",
     "status": "completed"
    },
    "tags": []
   },
   "outputs": [],
   "source": [
    "#hide\n",
    "df_table = (pd.DataFrame(dict(Cases = dfc_cases, Deaths = dfc_deaths, PCases = dfp_cases, PDeaths = dfp_deaths))\n",
    "            .sort_values(by = ['Cases','Deaths'], ascending = [False, False])\n",
    "            .reset_index())"
   ]
  },
  {
   "cell_type": "code",
   "execution_count": 13,
   "id": "educational-chancellor",
   "metadata": {
    "execution": {
     "iopub.execute_input": "2021-06-22T00:20:06.243102Z",
     "iopub.status.busy": "2021-06-22T00:20:06.242571Z",
     "iopub.status.idle": "2021-06-22T00:20:06.249830Z",
     "shell.execute_reply": "2021-06-22T00:20:06.250235Z"
    },
    "papermill": {
     "duration": 0.055569,
     "end_time": "2021-06-22T00:20:06.250376",
     "exception": false,
     "start_time": "2021-06-22T00:20:06.194807",
     "status": "completed"
    },
    "tags": []
   },
   "outputs": [
    {
     "data": {
      "text/html": [
       "<div>\n",
       "<style scoped>\n",
       "    .dataframe tbody tr th:only-of-type {\n",
       "        vertical-align: middle;\n",
       "    }\n",
       "\n",
       "    .dataframe tbody tr th {\n",
       "        vertical-align: top;\n",
       "    }\n",
       "\n",
       "    .dataframe thead th {\n",
       "        text-align: right;\n",
       "    }\n",
       "</style>\n",
       "<table border=\"1\" class=\"dataframe\">\n",
       "  <thead>\n",
       "    <tr style=\"text-align: right;\">\n",
       "      <th></th>\n",
       "      <th>Country/Region</th>\n",
       "      <th>Cases</th>\n",
       "      <th>Deaths</th>\n",
       "      <th>PCases</th>\n",
       "      <th>PDeaths</th>\n",
       "      <th>Cases (+)</th>\n",
       "      <th>Deaths (+)</th>\n",
       "      <th>Fatality Rate</th>\n",
       "      <th>Continent</th>\n",
       "    </tr>\n",
       "  </thead>\n",
       "  <tbody>\n",
       "    <tr>\n",
       "      <th>0</th>\n",
       "      <td>US</td>\n",
       "      <td>33541887</td>\n",
       "      <td>601824</td>\n",
       "      <td>33537995</td>\n",
       "      <td>601741</td>\n",
       "      <td>3892</td>\n",
       "      <td>83</td>\n",
       "      <td>1.79</td>\n",
       "      <td>North America</td>\n",
       "    </tr>\n",
       "    <tr>\n",
       "      <th>1</th>\n",
       "      <td>India</td>\n",
       "      <td>29935221</td>\n",
       "      <td>388135</td>\n",
       "      <td>29881772</td>\n",
       "      <td>386708</td>\n",
       "      <td>53449</td>\n",
       "      <td>1427</td>\n",
       "      <td>1.30</td>\n",
       "      <td>Asia</td>\n",
       "    </tr>\n",
       "    <tr>\n",
       "      <th>2</th>\n",
       "      <td>Brazil</td>\n",
       "      <td>17927928</td>\n",
       "      <td>501825</td>\n",
       "      <td>17883750</td>\n",
       "      <td>500800</td>\n",
       "      <td>44178</td>\n",
       "      <td>1025</td>\n",
       "      <td>2.80</td>\n",
       "      <td>South America</td>\n",
       "    </tr>\n",
       "    <tr>\n",
       "      <th>3</th>\n",
       "      <td>France</td>\n",
       "      <td>5819088</td>\n",
       "      <td>110900</td>\n",
       "      <td>5817272</td>\n",
       "      <td>110886</td>\n",
       "      <td>1816</td>\n",
       "      <td>14</td>\n",
       "      <td>1.91</td>\n",
       "      <td>Europe</td>\n",
       "    </tr>\n",
       "    <tr>\n",
       "      <th>4</th>\n",
       "      <td>Turkey</td>\n",
       "      <td>5370299</td>\n",
       "      <td>49185</td>\n",
       "      <td>5365208</td>\n",
       "      <td>49122</td>\n",
       "      <td>5091</td>\n",
       "      <td>63</td>\n",
       "      <td>0.92</td>\n",
       "      <td>Asia</td>\n",
       "    </tr>\n",
       "  </tbody>\n",
       "</table>\n",
       "</div>"
      ],
      "text/plain": [
       "  Country/Region     Cases  Deaths    PCases  PDeaths  Cases (+)  Deaths (+)  \\\n",
       "0             US  33541887  601824  33537995   601741       3892          83   \n",
       "1          India  29935221  388135  29881772   386708      53449        1427   \n",
       "2         Brazil  17927928  501825  17883750   500800      44178        1025   \n",
       "3         France   5819088  110900   5817272   110886       1816          14   \n",
       "4         Turkey   5370299   49185   5365208    49122       5091          63   \n",
       "\n",
       "   Fatality Rate      Continent  \n",
       "0           1.79  North America  \n",
       "1           1.30           Asia  \n",
       "2           2.80  South America  \n",
       "3           1.91         Europe  \n",
       "4           0.92           Asia  "
      ]
     },
     "execution_count": 13,
     "metadata": {},
     "output_type": "execute_result"
    }
   ],
   "source": [
    "#hide\n",
    "for c in 'Cases, Deaths'.split(', '):\n",
    "    df_table[f'{c} (+)'] = (df_table[c] - df_table[f'P{c}']).clip(0)\n",
    "    #Clip ça veut dire, les chiffres negatif sont interdit\n",
    "df_table['Fatality Rate'] = (100* df_table['Deaths']/ df_table['Cases']).round(2)\n",
    "df_table['Continent'] = df_table['Country/Region'].map(mapping['map.continent'])\n",
    "df_table.head(5)"
   ]
  },
  {
   "cell_type": "code",
   "execution_count": 14,
   "id": "aboriginal-bulgaria",
   "metadata": {
    "execution": {
     "iopub.execute_input": "2021-06-22T00:20:06.316507Z",
     "iopub.status.busy": "2021-06-22T00:20:06.315996Z",
     "iopub.status.idle": "2021-06-22T00:20:06.318993Z",
     "shell.execute_reply": "2021-06-22T00:20:06.319473Z"
    },
    "papermill": {
     "duration": 0.038539,
     "end_time": "2021-06-22T00:20:06.319607",
     "exception": false,
     "start_time": "2021-06-22T00:20:06.281068",
     "status": "completed"
    },
    "tags": []
   },
   "outputs": [],
   "source": [
    "#hide\n",
    "#delete problematic countries from table\n",
    "df_table = df_table[~df_table['Country/Region'].isin(['Cape Verde', 'Cruise Ship', 'Kosovo'])]"
   ]
  },
  {
   "cell_type": "code",
   "execution_count": 15,
   "id": "fantastic-effect",
   "metadata": {
    "execution": {
     "iopub.execute_input": "2021-06-22T00:20:06.389669Z",
     "iopub.status.busy": "2021-06-22T00:20:06.389155Z",
     "iopub.status.idle": "2021-06-22T00:20:06.406393Z",
     "shell.execute_reply": "2021-06-22T00:20:06.405890Z"
    },
    "papermill": {
     "duration": 0.056329,
     "end_time": "2021-06-22T00:20:06.406527",
     "exception": false,
     "start_time": "2021-06-22T00:20:06.350198",
     "status": "completed"
    },
    "tags": []
   },
   "outputs": [
    {
     "data": {
      "text/html": [
       "<div>\n",
       "<style scoped>\n",
       "    .dataframe tbody tr th:only-of-type {\n",
       "        vertical-align: middle;\n",
       "    }\n",
       "\n",
       "    .dataframe tbody tr th {\n",
       "        vertical-align: top;\n",
       "    }\n",
       "\n",
       "    .dataframe thead th {\n",
       "        text-align: right;\n",
       "    }\n",
       "</style>\n",
       "<table border=\"1\" class=\"dataframe\">\n",
       "  <thead>\n",
       "    <tr style=\"text-align: right;\">\n",
       "      <th></th>\n",
       "      <th>Country/Region</th>\n",
       "      <th>Cases</th>\n",
       "      <th>Deaths</th>\n",
       "      <th>PCases</th>\n",
       "      <th>PDeaths</th>\n",
       "      <th>Cases (+)</th>\n",
       "      <th>Deaths (+)</th>\n",
       "      <th>Fatality Rate</th>\n",
       "      <th>Continent</th>\n",
       "    </tr>\n",
       "  </thead>\n",
       "  <tbody>\n",
       "    <tr>\n",
       "      <th>0</th>\n",
       "      <td>US</td>\n",
       "      <td>33541887</td>\n",
       "      <td>601824</td>\n",
       "      <td>33537995</td>\n",
       "      <td>601741</td>\n",
       "      <td>3892</td>\n",
       "      <td>83</td>\n",
       "      <td>1.8</td>\n",
       "      <td>North America</td>\n",
       "    </tr>\n",
       "    <tr>\n",
       "      <th>1</th>\n",
       "      <td>India</td>\n",
       "      <td>29935221</td>\n",
       "      <td>388135</td>\n",
       "      <td>29881772</td>\n",
       "      <td>386708</td>\n",
       "      <td>53449</td>\n",
       "      <td>1427</td>\n",
       "      <td>1.3</td>\n",
       "      <td>Asia</td>\n",
       "    </tr>\n",
       "    <tr>\n",
       "      <th>2</th>\n",
       "      <td>Brazil</td>\n",
       "      <td>17927928</td>\n",
       "      <td>501825</td>\n",
       "      <td>17883750</td>\n",
       "      <td>500800</td>\n",
       "      <td>44178</td>\n",
       "      <td>1025</td>\n",
       "      <td>2.8</td>\n",
       "      <td>South America</td>\n",
       "    </tr>\n",
       "    <tr>\n",
       "      <th>3</th>\n",
       "      <td>France</td>\n",
       "      <td>5819088</td>\n",
       "      <td>110900</td>\n",
       "      <td>5817272</td>\n",
       "      <td>110886</td>\n",
       "      <td>1816</td>\n",
       "      <td>14</td>\n",
       "      <td>1.9</td>\n",
       "      <td>Europe</td>\n",
       "    </tr>\n",
       "    <tr>\n",
       "      <th>4</th>\n",
       "      <td>Turkey</td>\n",
       "      <td>5370299</td>\n",
       "      <td>49185</td>\n",
       "      <td>5365208</td>\n",
       "      <td>49122</td>\n",
       "      <td>5091</td>\n",
       "      <td>63</td>\n",
       "      <td>0.9</td>\n",
       "      <td>Asia</td>\n",
       "    </tr>\n",
       "  </tbody>\n",
       "</table>\n",
       "</div>"
      ],
      "text/plain": [
       "  Country/Region     Cases  Deaths    PCases  PDeaths  Cases (+)  Deaths (+)  \\\n",
       "0             US  33541887  601824  33537995   601741       3892          83   \n",
       "1          India  29935221  388135  29881772   386708      53449        1427   \n",
       "2         Brazil  17927928  501825  17883750   500800      44178        1025   \n",
       "3         France   5819088  110900   5817272   110886       1816          14   \n",
       "4         Turkey   5370299   49185   5365208    49122       5091          63   \n",
       "\n",
       "   Fatality Rate      Continent  \n",
       "0            1.8  North America  \n",
       "1            1.3           Asia  \n",
       "2            2.8  South America  \n",
       "3            1.9         Europe  \n",
       "4            0.9           Asia  "
      ]
     },
     "execution_count": 15,
     "metadata": {},
     "output_type": "execute_result"
    }
   ],
   "source": [
    "#hide\n",
    "df_table = (pd.DataFrame(dict(Cases=dfc_cases, Deaths=dfc_deaths, PCases=dfp_cases, PDeaths=dfp_deaths))\n",
    "             .sort_values(by=['Cases', 'Deaths'], ascending=[False, False])\n",
    "             .reset_index())\n",
    "df_table.rename(columns={'index': 'Country/Region'}, inplace=True)\n",
    "for c in 'Cases, Deaths'.split(', '):\n",
    "    df_table[f'{c} (+)'] = (df_table[c] - df_table[f'P{c}']).clip(0)  # DATA BUG\n",
    "df_table['Fatality Rate'] = (100 * df_table['Deaths'] / df_table['Cases']).round(1)\n",
    "df_table['Continent'] = df_table['Country/Region'].map(mapping['map.continent'])\n",
    "df_table.head(5)"
   ]
  },
  {
   "cell_type": "code",
   "execution_count": 16,
   "id": "fewer-occasion",
   "metadata": {
    "execution": {
     "iopub.execute_input": "2021-06-22T00:20:06.476042Z",
     "iopub.status.busy": "2021-06-22T00:20:06.475491Z",
     "iopub.status.idle": "2021-06-22T00:20:06.477457Z",
     "shell.execute_reply": "2021-06-22T00:20:06.476961Z"
    },
    "papermill": {
     "duration": 0.038701,
     "end_time": "2021-06-22T00:20:06.477574",
     "exception": false,
     "start_time": "2021-06-22T00:20:06.438873",
     "status": "completed"
    },
    "tags": []
   },
   "outputs": [],
   "source": [
    "#hide\n",
    "#delete problematic countries from table\n",
    "df_table = df_table[~df_table['Country/Region'].isin(['Cape Verde', 'Cruise Ship', 'Kosovo'])]"
   ]
  },
  {
   "cell_type": "code",
   "execution_count": 17,
   "id": "related-center",
   "metadata": {
    "execution": {
     "iopub.execute_input": "2021-06-22T00:20:06.551734Z",
     "iopub.status.busy": "2021-06-22T00:20:06.551197Z",
     "iopub.status.idle": "2021-06-22T00:20:06.560967Z",
     "shell.execute_reply": "2021-06-22T00:20:06.560542Z"
    },
    "papermill": {
     "duration": 0.051635,
     "end_time": "2021-06-22T00:20:06.561091",
     "exception": false,
     "start_time": "2021-06-22T00:20:06.509456",
     "status": "completed"
    },
    "tags": []
   },
   "outputs": [],
   "source": [
    "#hide\n",
    "metrics = [df_table.columns[index] for index in [1,2,5,6]]\n",
    "# s_china = df_table[df_table['Country/Region'].eq('China')][metrics].sum().add_prefix('China ')\n",
    "s_us = df_table[df_table['Country/Region'].eq('US')][metrics].sum().add_prefix('US ')\n",
    "s_eu = df_table[df_table['Continent'].eq('Europe')][metrics].sum().add_prefix('EU ')\n",
    "s_ind = df_table[df_table['Country/Region'].eq('India')][metrics].sum().add_prefix('India ')\n",
    "summary = {'updated': pd.to_datetime(dt_today), 'since': pd.to_datetime(dt_yday)}\n",
    "summary = {'updated': pd.to_datetime(dt_today), 'since': pd.to_datetime(dt_yday)}\n",
    "summary = {**summary, **df_table[metrics].sum(), **s_ind, **s_us, **s_eu}"
   ]
  },
  {
   "cell_type": "code",
   "execution_count": 18,
   "id": "engaging-syndrome",
   "metadata": {
    "execution": {
     "iopub.execute_input": "2021-06-22T00:20:06.628754Z",
     "iopub.status.busy": "2021-06-22T00:20:06.628232Z",
     "iopub.status.idle": "2021-06-22T00:20:06.640283Z",
     "shell.execute_reply": "2021-06-22T00:20:06.639826Z"
    },
    "papermill": {
     "duration": 0.048058,
     "end_time": "2021-06-22T00:20:06.640408",
     "exception": false,
     "start_time": "2021-06-22T00:20:06.592350",
     "status": "completed"
    },
    "tags": []
   },
   "outputs": [],
   "source": [
    "#hide\n",
    "dft_ct_new_cases = dft_cases.groupby(COL_REGION)[dt_cols].sum().diff(axis=1).fillna(0).astype(int)"
   ]
  },
  {
   "cell_type": "code",
   "execution_count": 19,
   "id": "neutral-assignment",
   "metadata": {
    "execution": {
     "iopub.execute_input": "2021-06-22T00:20:06.708697Z",
     "iopub.status.busy": "2021-06-22T00:20:06.708132Z",
     "iopub.status.idle": "2021-06-22T00:20:06.710144Z",
     "shell.execute_reply": "2021-06-22T00:20:06.709707Z"
    },
    "papermill": {
     "duration": 0.038752,
     "end_time": "2021-06-22T00:20:06.710260",
     "exception": false,
     "start_time": "2021-06-22T00:20:06.671508",
     "status": "completed"
    },
    "tags": []
   },
   "outputs": [],
   "source": [
    "#hide\n",
    "everydaycases = dft_ct_new_cases.cumsum(axis=1)"
   ]
  },
  {
   "cell_type": "code",
   "execution_count": 20,
   "id": "parliamentary-calgary",
   "metadata": {
    "execution": {
     "iopub.execute_input": "2021-06-22T00:20:06.776672Z",
     "iopub.status.busy": "2021-06-22T00:20:06.776156Z",
     "iopub.status.idle": "2021-06-22T00:20:07.370918Z",
     "shell.execute_reply": "2021-06-22T00:20:07.370397Z"
    },
    "papermill": {
     "duration": 0.629633,
     "end_time": "2021-06-22T00:20:07.371059",
     "exception": false,
     "start_time": "2021-06-22T00:20:06.741426",
     "status": "completed"
    },
    "tags": []
   },
   "outputs": [],
   "source": [
    "#hide\n",
    "import pandas as pd\n",
    "import matplotlib.pyplot as plt\n",
    "import matplotlib.ticker as ticker\n",
    "import matplotlib.animation as animation\n",
    "from IPython.display import HTML"
   ]
  },
  {
   "cell_type": "code",
   "execution_count": 21,
   "id": "lasting-extraction",
   "metadata": {
    "execution": {
     "iopub.execute_input": "2021-06-22T00:20:07.439741Z",
     "iopub.status.busy": "2021-06-22T00:20:07.439237Z",
     "iopub.status.idle": "2021-06-22T00:20:07.444261Z",
     "shell.execute_reply": "2021-06-22T00:20:07.444666Z"
    },
    "papermill": {
     "duration": 0.041689,
     "end_time": "2021-06-22T00:20:07.444800",
     "exception": false,
     "start_time": "2021-06-22T00:20:07.403111",
     "status": "completed"
    },
    "tags": []
   },
   "outputs": [],
   "source": [
    "#hide\n",
    "t = everydaycases.stack()"
   ]
  },
  {
   "cell_type": "code",
   "execution_count": 22,
   "id": "premier-sleeve",
   "metadata": {
    "execution": {
     "iopub.execute_input": "2021-06-22T00:20:07.511289Z",
     "iopub.status.busy": "2021-06-22T00:20:07.510774Z",
     "iopub.status.idle": "2021-06-22T00:20:07.518727Z",
     "shell.execute_reply": "2021-06-22T00:20:07.518315Z"
    },
    "papermill": {
     "duration": 0.043032,
     "end_time": "2021-06-22T00:20:07.518844",
     "exception": false,
     "start_time": "2021-06-22T00:20:07.475812",
     "status": "completed"
    },
    "tags": []
   },
   "outputs": [],
   "source": [
    "#hide\n",
    "g = t.reset_index(['Country/Region'])"
   ]
  },
  {
   "cell_type": "code",
   "execution_count": 23,
   "id": "distributed-pittsburgh",
   "metadata": {
    "execution": {
     "iopub.execute_input": "2021-06-22T00:20:07.585507Z",
     "iopub.status.busy": "2021-06-22T00:20:07.584445Z",
     "iopub.status.idle": "2021-06-22T00:20:07.586073Z",
     "shell.execute_reply": "2021-06-22T00:20:07.586460Z"
    },
    "papermill": {
     "duration": 0.036875,
     "end_time": "2021-06-22T00:20:07.586588",
     "exception": false,
     "start_time": "2021-06-22T00:20:07.549713",
     "status": "completed"
    },
    "tags": []
   },
   "outputs": [],
   "source": [
    "#hide\n",
    "g.index.name = 'date'"
   ]
  },
  {
   "cell_type": "code",
   "execution_count": 24,
   "id": "naked-donor",
   "metadata": {
    "execution": {
     "iopub.execute_input": "2021-06-22T00:20:07.652544Z",
     "iopub.status.busy": "2021-06-22T00:20:07.652022Z",
     "iopub.status.idle": "2021-06-22T00:20:07.654169Z",
     "shell.execute_reply": "2021-06-22T00:20:07.653769Z"
    },
    "papermill": {
     "duration": 0.036452,
     "end_time": "2021-06-22T00:20:07.654289",
     "exception": false,
     "start_time": "2021-06-22T00:20:07.617837",
     "status": "completed"
    },
    "tags": []
   },
   "outputs": [],
   "source": [
    "# #hide\n",
    "# g = g.reset_index(['date'])"
   ]
  },
  {
   "cell_type": "code",
   "execution_count": 25,
   "id": "incomplete-mustang",
   "metadata": {
    "execution": {
     "iopub.execute_input": "2021-06-22T00:20:07.720094Z",
     "iopub.status.busy": "2021-06-22T00:20:07.719533Z",
     "iopub.status.idle": "2021-06-22T00:20:07.721705Z",
     "shell.execute_reply": "2021-06-22T00:20:07.721305Z"
    },
    "papermill": {
     "duration": 0.036513,
     "end_time": "2021-06-22T00:20:07.721817",
     "exception": false,
     "start_time": "2021-06-22T00:20:07.685304",
     "status": "completed"
    },
    "tags": []
   },
   "outputs": [],
   "source": [
    "#hide\n",
    "# g.head()"
   ]
  },
  {
   "cell_type": "code",
   "execution_count": 26,
   "id": "specific-kruger",
   "metadata": {
    "execution": {
     "iopub.execute_input": "2021-06-22T00:20:07.787574Z",
     "iopub.status.busy": "2021-06-22T00:20:07.787073Z",
     "iopub.status.idle": "2021-06-22T00:20:07.789162Z",
     "shell.execute_reply": "2021-06-22T00:20:07.788739Z"
    },
    "papermill": {
     "duration": 0.036386,
     "end_time": "2021-06-22T00:20:07.789269",
     "exception": false,
     "start_time": "2021-06-22T00:20:07.752883",
     "status": "completed"
    },
    "tags": []
   },
   "outputs": [],
   "source": [
    "#hide\n",
    "# g.columns = ['date','country','cases']"
   ]
  },
  {
   "cell_type": "code",
   "execution_count": 27,
   "id": "tender-conversion",
   "metadata": {
    "execution": {
     "iopub.execute_input": "2021-06-22T00:20:07.854840Z",
     "iopub.status.busy": "2021-06-22T00:20:07.854330Z",
     "iopub.status.idle": "2021-06-22T00:20:07.856543Z",
     "shell.execute_reply": "2021-06-22T00:20:07.856114Z"
    },
    "papermill": {
     "duration": 0.036619,
     "end_time": "2021-06-22T00:20:07.856656",
     "exception": false,
     "start_time": "2021-06-22T00:20:07.820037",
     "status": "completed"
    },
    "tags": []
   },
   "outputs": [],
   "source": [
    "#hide\n",
    "# g['continent'] = g.country"
   ]
  },
  {
   "cell_type": "code",
   "execution_count": 28,
   "id": "substantial-wilderness",
   "metadata": {
    "execution": {
     "iopub.execute_input": "2021-06-22T00:20:07.922621Z",
     "iopub.status.busy": "2021-06-22T00:20:07.922096Z",
     "iopub.status.idle": "2021-06-22T00:20:07.923900Z",
     "shell.execute_reply": "2021-06-22T00:20:07.924330Z"
    },
    "papermill": {
     "duration": 0.036713,
     "end_time": "2021-06-22T00:20:07.924465",
     "exception": false,
     "start_time": "2021-06-22T00:20:07.887752",
     "status": "completed"
    },
    "tags": []
   },
   "outputs": [],
   "source": [
    "#hide\n",
    "# cols = list(g.columns.values)"
   ]
  },
  {
   "cell_type": "code",
   "execution_count": 29,
   "id": "solved-farming",
   "metadata": {
    "execution": {
     "iopub.execute_input": "2021-06-22T00:20:07.990151Z",
     "iopub.status.busy": "2021-06-22T00:20:07.989630Z",
     "iopub.status.idle": "2021-06-22T00:20:07.991287Z",
     "shell.execute_reply": "2021-06-22T00:20:07.991689Z"
    },
    "papermill": {
     "duration": 0.036511,
     "end_time": "2021-06-22T00:20:07.991824",
     "exception": false,
     "start_time": "2021-06-22T00:20:07.955313",
     "status": "completed"
    },
    "tags": []
   },
   "outputs": [],
   "source": [
    "#hide\n",
    "# cols.insert(0, cols.pop())"
   ]
  },
  {
   "cell_type": "code",
   "execution_count": 30,
   "id": "executed-adoption",
   "metadata": {
    "execution": {
     "iopub.execute_input": "2021-06-22T00:20:08.057732Z",
     "iopub.status.busy": "2021-06-22T00:20:08.057214Z",
     "iopub.status.idle": "2021-06-22T00:20:08.059376Z",
     "shell.execute_reply": "2021-06-22T00:20:08.058972Z"
    },
    "papermill": {
     "duration": 0.036531,
     "end_time": "2021-06-22T00:20:08.059494",
     "exception": false,
     "start_time": "2021-06-22T00:20:08.022963",
     "status": "completed"
    },
    "tags": []
   },
   "outputs": [],
   "source": [
    "#hide\n",
    "# g = g[cols]"
   ]
  },
  {
   "cell_type": "code",
   "execution_count": 31,
   "id": "subject-dublin",
   "metadata": {
    "execution": {
     "iopub.execute_input": "2021-06-22T00:20:08.125212Z",
     "iopub.status.busy": "2021-06-22T00:20:08.124699Z",
     "iopub.status.idle": "2021-06-22T00:20:08.126941Z",
     "shell.execute_reply": "2021-06-22T00:20:08.126530Z"
    },
    "papermill": {
     "duration": 0.036629,
     "end_time": "2021-06-22T00:20:08.127061",
     "exception": false,
     "start_time": "2021-06-22T00:20:08.090432",
     "status": "completed"
    },
    "tags": []
   },
   "outputs": [],
   "source": [
    "#hide\n",
    "# g['continent'] = g['continent'].map(mapping['map.continent'])"
   ]
  },
  {
   "cell_type": "code",
   "execution_count": 32,
   "id": "freelance-scout",
   "metadata": {
    "execution": {
     "iopub.execute_input": "2021-06-22T00:20:08.193147Z",
     "iopub.status.busy": "2021-06-22T00:20:08.192632Z",
     "iopub.status.idle": "2021-06-22T00:20:08.194731Z",
     "shell.execute_reply": "2021-06-22T00:20:08.194308Z"
    },
    "papermill": {
     "duration": 0.036583,
     "end_time": "2021-06-22T00:20:08.194843",
     "exception": false,
     "start_time": "2021-06-22T00:20:08.158260",
     "status": "completed"
    },
    "tags": []
   },
   "outputs": [],
   "source": [
    "#hide\n",
    "# g.head()"
   ]
  },
  {
   "cell_type": "code",
   "execution_count": 33,
   "id": "limited-engine",
   "metadata": {
    "execution": {
     "iopub.execute_input": "2021-06-22T00:20:08.261322Z",
     "iopub.status.busy": "2021-06-22T00:20:08.260785Z",
     "iopub.status.idle": "2021-06-22T00:20:08.262962Z",
     "shell.execute_reply": "2021-06-22T00:20:08.262555Z"
    },
    "papermill": {
     "duration": 0.037035,
     "end_time": "2021-06-22T00:20:08.263079",
     "exception": false,
     "start_time": "2021-06-22T00:20:08.226044",
     "status": "completed"
    },
    "tags": []
   },
   "outputs": [],
   "source": [
    "# hide\n",
    "# g['date'] = g['date'].astype('datetime64[ns]')"
   ]
  },
  {
   "cell_type": "code",
   "execution_count": 34,
   "id": "sophisticated-supervisor",
   "metadata": {
    "execution": {
     "iopub.execute_input": "2021-06-22T00:20:08.329113Z",
     "iopub.status.busy": "2021-06-22T00:20:08.328604Z",
     "iopub.status.idle": "2021-06-22T00:20:08.331077Z",
     "shell.execute_reply": "2021-06-22T00:20:08.331455Z"
    },
    "papermill": {
     "duration": 0.037236,
     "end_time": "2021-06-22T00:20:08.331590",
     "exception": false,
     "start_time": "2021-06-22T00:20:08.294354",
     "status": "completed"
    },
    "tags": []
   },
   "outputs": [],
   "source": [
    "#hide\n",
    "# g['date'] = g.date.dt.dayofyear"
   ]
  },
  {
   "cell_type": "code",
   "execution_count": 35,
   "id": "inside-dubai",
   "metadata": {
    "execution": {
     "iopub.execute_input": "2021-06-22T00:20:08.397037Z",
     "iopub.status.busy": "2021-06-22T00:20:08.396534Z",
     "iopub.status.idle": "2021-06-22T00:20:08.398740Z",
     "shell.execute_reply": "2021-06-22T00:20:08.398316Z"
    },
    "papermill": {
     "duration": 0.036286,
     "end_time": "2021-06-22T00:20:08.398850",
     "exception": false,
     "start_time": "2021-06-22T00:20:08.362564",
     "status": "completed"
    },
    "tags": []
   },
   "outputs": [],
   "source": [
    "#hide\n",
    "# g = g.rename(columns= {'continent':'group','country':'name','cases':'value'})"
   ]
  },
  {
   "cell_type": "code",
   "execution_count": 36,
   "id": "fleet-motorcycle",
   "metadata": {
    "execution": {
     "iopub.execute_input": "2021-06-22T00:20:08.464778Z",
     "iopub.status.busy": "2021-06-22T00:20:08.464259Z",
     "iopub.status.idle": "2021-06-22T00:20:08.466449Z",
     "shell.execute_reply": "2021-06-22T00:20:08.466040Z"
    },
    "papermill": {
     "duration": 0.036623,
     "end_time": "2021-06-22T00:20:08.466561",
     "exception": false,
     "start_time": "2021-06-22T00:20:08.429938",
     "status": "completed"
    },
    "tags": []
   },
   "outputs": [],
   "source": [
    "#hide\n",
    "# cols = ['name','group','day','value']"
   ]
  },
  {
   "cell_type": "code",
   "execution_count": 37,
   "id": "continued-sleeping",
   "metadata": {
    "execution": {
     "iopub.execute_input": "2021-06-22T00:20:08.532874Z",
     "iopub.status.busy": "2021-06-22T00:20:08.532355Z",
     "iopub.status.idle": "2021-06-22T00:20:08.534460Z",
     "shell.execute_reply": "2021-06-22T00:20:08.534025Z"
    },
    "papermill": {
     "duration": 0.037093,
     "end_time": "2021-06-22T00:20:08.534574",
     "exception": false,
     "start_time": "2021-06-22T00:20:08.497481",
     "status": "completed"
    },
    "tags": []
   },
   "outputs": [],
   "source": [
    "#hide\n",
    "# g.rename(columns= {'date':'day'},inplace = True)"
   ]
  },
  {
   "cell_type": "code",
   "execution_count": 38,
   "id": "major-fight",
   "metadata": {
    "execution": {
     "iopub.execute_input": "2021-06-22T00:20:08.600531Z",
     "iopub.status.busy": "2021-06-22T00:20:08.599995Z",
     "iopub.status.idle": "2021-06-22T00:20:08.601762Z",
     "shell.execute_reply": "2021-06-22T00:20:08.602140Z"
    },
    "papermill": {
     "duration": 0.036609,
     "end_time": "2021-06-22T00:20:08.602276",
     "exception": false,
     "start_time": "2021-06-22T00:20:08.565667",
     "status": "completed"
    },
    "tags": []
   },
   "outputs": [],
   "source": [
    "#hide\n",
    "# g = g[cols]"
   ]
  },
  {
   "cell_type": "code",
   "execution_count": 39,
   "id": "structured-mobile",
   "metadata": {
    "execution": {
     "iopub.execute_input": "2021-06-22T00:20:08.668569Z",
     "iopub.status.busy": "2021-06-22T00:20:08.668035Z",
     "iopub.status.idle": "2021-06-22T00:20:08.670146Z",
     "shell.execute_reply": "2021-06-22T00:20:08.670573Z"
    },
    "papermill": {
     "duration": 0.037394,
     "end_time": "2021-06-22T00:20:08.670707",
     "exception": false,
     "start_time": "2021-06-22T00:20:08.633313",
     "status": "completed"
    },
    "tags": []
   },
   "outputs": [],
   "source": [
    "# #hide\n",
    "# g = g[g.group.notna()]"
   ]
  },
  {
   "cell_type": "code",
   "execution_count": 40,
   "id": "determined-closing",
   "metadata": {
    "execution": {
     "iopub.execute_input": "2021-06-22T00:20:08.737574Z",
     "iopub.status.busy": "2021-06-22T00:20:08.737046Z",
     "iopub.status.idle": "2021-06-22T00:20:08.739237Z",
     "shell.execute_reply": "2021-06-22T00:20:08.738833Z"
    },
    "papermill": {
     "duration": 0.037413,
     "end_time": "2021-06-22T00:20:08.739349",
     "exception": false,
     "start_time": "2021-06-22T00:20:08.701936",
     "status": "completed"
    },
    "tags": []
   },
   "outputs": [],
   "source": [
    "# #hide\n",
    "# colors = dict(zip(\n",
    "#     [\"Oceania\", \"Europe\", \"Asia\", \"South America\", \"Middle East\", \"North America\", \"Africa\"],\n",
    "#     [\"#adb0ff\", \"#ffb3ff\", \"#90d595\", \"#e48381\", \"#aafbff\", \"#f7bb5f\", \"#eafb50\"]\n",
    "# ))\n",
    "# group_lk = g.set_index('name')['group'].to_dict()"
   ]
  },
  {
   "cell_type": "code",
   "execution_count": null,
   "id": "gross-drinking",
   "metadata": {
    "papermill": {
     "duration": 0.030692,
     "end_time": "2021-06-22T00:20:08.800972",
     "exception": false,
     "start_time": "2021-06-22T00:20:08.770280",
     "status": "completed"
    },
    "tags": []
   },
   "outputs": [],
   "source": []
  },
  {
   "cell_type": "code",
   "execution_count": 41,
   "id": "subject-macintosh",
   "metadata": {
    "execution": {
     "iopub.execute_input": "2021-06-22T00:20:08.867394Z",
     "iopub.status.busy": "2021-06-22T00:20:08.866868Z",
     "iopub.status.idle": "2021-06-22T00:20:08.868641Z",
     "shell.execute_reply": "2021-06-22T00:20:08.869041Z"
    },
    "papermill": {
     "duration": 0.037125,
     "end_time": "2021-06-22T00:20:08.869173",
     "exception": false,
     "start_time": "2021-06-22T00:20:08.832048",
     "status": "completed"
    },
    "tags": []
   },
   "outputs": [],
   "source": [
    "# #hide\n",
    "# fig, ax = plt.subplots(figsize=(15, 8))\n",
    "\n",
    "# def draw_barchart(current_day):\n",
    "#     dff = g[g['day'].eq(current_day)].sort_values(by='value', ascending=True).tail(10)\n",
    "#     ax.clear()\n",
    "#     ax.barh(dff['name'], dff['value'], color=[colors[group_lk[x]] for x in dff['name']])\n",
    "#     dx = dff['value'].max() / 200\n",
    "    \n",
    "#     for i, (value, name) in enumerate(zip(dff['value'], dff['name'])):\n",
    "#         ax.text(value-dx, i,     name,           size=14, weight=600, ha='right', va='bottom')\n",
    "#         ax.text(value-dx, i-.25, group_lk[name], size=10, color='#444444', ha='right', va='baseline')\n",
    "#         ax.text(value+dx, i,     f'{value:,.0f}',  size=14, ha='left',  va='center')\n",
    "#     ax.text(1, 0.4, current_day, transform=ax.transAxes, color='#777777', size=46, ha='right', weight=800)\n",
    "#     ax.text(0, 1.06, 'Population (thousands)', transform=ax.transAxes, size=12, color='#777777')\n",
    "#     ax.xaxis.set_major_formatter(ticker.StrMethodFormatter('{x:,.0f}'))\n",
    "#     ax.xaxis.set_ticks_position('top')\n",
    "#     ax.tick_params(axis='x', colors='#777777', labelsize=12)\n",
    "#     ax.set_yticks([])\n",
    "#     ax.margins(0, 0.01)\n",
    "#     ax.grid(which='major', axis='x', linestyle='-')\n",
    "#     ax.set_axisbelow(True)\n",
    "    \n",
    "#     ax.text(0, 1.15, 'Coronavirus',\n",
    "#             transform=ax.transAxes, size=24, weight=600, ha='left', va='top')\n",
    "# #     ax.text(1, 0, 'by @pratapvardhan; credit @jburnmurdoch', transform=ax.transAxes, color='#777777', ha='right',\n",
    "# #             bbox=dict(facecolor='white', alpha=0.8, edgecolor='white'))\n",
    "#     plt.box(False)"
   ]
  },
  {
   "cell_type": "code",
   "execution_count": 42,
   "id": "sexual-wages",
   "metadata": {
    "execution": {
     "iopub.execute_input": "2021-06-22T00:20:08.934985Z",
     "iopub.status.busy": "2021-06-22T00:20:08.934470Z",
     "iopub.status.idle": "2021-06-22T00:20:08.936697Z",
     "shell.execute_reply": "2021-06-22T00:20:08.936288Z"
    },
    "papermill": {
     "duration": 0.036685,
     "end_time": "2021-06-22T00:20:08.936811",
     "exception": false,
     "start_time": "2021-06-22T00:20:08.900126",
     "status": "completed"
    },
    "tags": []
   },
   "outputs": [],
   "source": [
    "# #hide_input\n",
    "# fig, ax = plt.subplots(figsize=(15, 8))\n",
    "# animator = animation.FuncAnimation(fig, draw_barchart, frames=range(g.day.values.min(), g.day.values.max()))\n",
    "# HTML(animator.to_jshtml())\n",
    "# # or use animator.to_html5_video() or animator.save() "
   ]
  },
  {
   "cell_type": "code",
   "execution_count": null,
   "id": "australian-container",
   "metadata": {
    "papermill": {
     "duration": 0.03076,
     "end_time": "2021-06-22T00:20:08.998786",
     "exception": false,
     "start_time": "2021-06-22T00:20:08.968026",
     "status": "completed"
    },
    "tags": []
   },
   "outputs": [],
   "source": []
  },
  {
   "cell_type": "code",
   "execution_count": null,
   "id": "mediterranean-pontiac",
   "metadata": {
    "papermill": {
     "duration": 0.030632,
     "end_time": "2021-06-22T00:20:09.060269",
     "exception": false,
     "start_time": "2021-06-22T00:20:09.029637",
     "status": "completed"
    },
    "tags": []
   },
   "outputs": [],
   "source": []
  },
  {
   "cell_type": "code",
   "execution_count": null,
   "id": "aging-legislature",
   "metadata": {
    "papermill": {
     "duration": 0.030854,
     "end_time": "2021-06-22T00:20:09.122169",
     "exception": false,
     "start_time": "2021-06-22T00:20:09.091315",
     "status": "completed"
    },
    "tags": []
   },
   "outputs": [],
   "source": []
  }
 ],
 "metadata": {
  "kernelspec": {
   "display_name": "Python 3",
   "language": "python",
   "name": "python3"
  },
  "language_info": {
   "codemirror_mode": {
    "name": "ipython",
    "version": 3
   },
   "file_extension": ".py",
   "mimetype": "text/x-python",
   "name": "python",
   "nbconvert_exporter": "python",
   "pygments_lexer": "ipython3",
   "version": "3.6.13"
  },
  "papermill": {
   "duration": 7.335765,
   "end_time": "2021-06-22T00:20:10.518498",
   "environment_variables": {},
   "exception": null,
   "input_path": "2020-03-21-covid19exp.ipynb",
   "output_path": "2020-03-21-covid19exp.ipynb",
   "parameters": {},
   "start_time": "2021-06-22T00:20:03.182733",
   "version": "2.0.0"
  }
 },
 "nbformat": 4,
 "nbformat_minor": 5
}