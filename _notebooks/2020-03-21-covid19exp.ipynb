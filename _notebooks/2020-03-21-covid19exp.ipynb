{
 "cells": [
  {
   "cell_type": "markdown",
   "id": "muslim-click",
   "metadata": {
    "papermill": {
     "duration": 0.033535,
     "end_time": "2021-02-06T12:06:41.131720",
     "exception": false,
     "start_time": "2021-02-06T12:06:41.098185",
     "status": "completed"
    },
    "tags": []
   },
   "source": [
    "# COVID-19 Case Race\n",
    "> A race chart to see rising cases around the world\n",
    "\n",
    "- author: Hargun Oberoi\n",
    "- image: images/covid-overview.png\n",
    "- hide: false\n",
    "- badges: false"
   ]
  },
  {
   "cell_type": "code",
   "execution_count": 1,
   "id": "proof-material",
   "metadata": {
    "execution": {
     "iopub.execute_input": "2021-02-06T12:06:41.203548Z",
     "iopub.status.busy": "2021-02-06T12:06:41.202993Z",
     "iopub.status.idle": "2021-02-06T12:06:41.511525Z",
     "shell.execute_reply": "2021-02-06T12:06:41.511046Z"
    },
    "papermill": {
     "duration": 0.350372,
     "end_time": "2021-02-06T12:06:41.511670",
     "exception": false,
     "start_time": "2021-02-06T12:06:41.161298",
     "status": "completed"
    },
    "tags": []
   },
   "outputs": [],
   "source": [
    "#hide\n",
    "import numpy as np\n",
    "import pandas as pd\n",
    "from jinja2 import Template\n",
    "from IPython.display import HTML"
   ]
  },
  {
   "cell_type": "code",
   "execution_count": 2,
   "id": "developed-terminology",
   "metadata": {
    "execution": {
     "iopub.execute_input": "2021-02-06T12:06:41.575878Z",
     "iopub.status.busy": "2021-02-06T12:06:41.575269Z",
     "iopub.status.idle": "2021-02-06T12:06:41.577664Z",
     "shell.execute_reply": "2021-02-06T12:06:41.577167Z"
    },
    "papermill": {
     "duration": 0.035483,
     "end_time": "2021-02-06T12:06:41.577778",
     "exception": false,
     "start_time": "2021-02-06T12:06:41.542295",
     "status": "completed"
    },
    "tags": []
   },
   "outputs": [],
   "source": [
    "#hide\n",
    "\n",
    "# FETCH\n",
    "base_url = 'https://raw.githubusercontent.com/pratapvardhan/notebooks/master/covid19/'\n",
    "paths = {\n",
    "    'mapping': base_url + 'mapping_countries.csv',\n",
    "    'overview': base_url + 'overview.tpl'\n",
    "}"
   ]
  },
  {
   "cell_type": "code",
   "execution_count": 3,
   "id": "dynamic-saver",
   "metadata": {
    "execution": {
     "iopub.execute_input": "2021-02-06T12:06:41.652807Z",
     "iopub.status.busy": "2021-02-06T12:06:41.652068Z",
     "iopub.status.idle": "2021-02-06T12:06:41.655972Z",
     "shell.execute_reply": "2021-02-06T12:06:41.655539Z"
    },
    "papermill": {
     "duration": 0.041821,
     "end_time": "2021-02-06T12:06:41.656074",
     "exception": false,
     "start_time": "2021-02-06T12:06:41.614253",
     "status": "completed"
    },
    "tags": []
   },
   "outputs": [
    {
     "data": {
      "text/plain": [
       "'https://raw.githubusercontent.com/pratapvardhan/notebooks/master/covid19/mapping_countries.csv'"
      ]
     },
     "execution_count": 3,
     "metadata": {},
     "output_type": "execute_result"
    }
   ],
   "source": [
    "#hide\n",
    "paths['mapping']"
   ]
  },
  {
   "cell_type": "code",
   "execution_count": 4,
   "id": "urban-software",
   "metadata": {
    "execution": {
     "iopub.execute_input": "2021-02-06T12:06:41.718020Z",
     "iopub.status.busy": "2021-02-06T12:06:41.717433Z",
     "iopub.status.idle": "2021-02-06T12:06:41.719749Z",
     "shell.execute_reply": "2021-02-06T12:06:41.719301Z"
    },
    "papermill": {
     "duration": 0.0356,
     "end_time": "2021-02-06T12:06:41.719858",
     "exception": false,
     "start_time": "2021-02-06T12:06:41.684258",
     "status": "completed"
    },
    "tags": []
   },
   "outputs": [],
   "source": [
    "#hide\n",
    "def get_mappings(url):\n",
    "    df = pd.read_csv(url)\n",
    "    return {\n",
    "        'df': df,\n",
    "        'replace.country': dict(df.dropna(subset=['Name']).set_index('Country')['Name']),\n",
    "        'map.continent': dict(df.set_index('Name')['Continent'])\n",
    "    }"
   ]
  },
  {
   "cell_type": "code",
   "execution_count": 5,
   "id": "intimate-machinery",
   "metadata": {
    "execution": {
     "iopub.execute_input": "2021-02-06T12:06:41.786642Z",
     "iopub.status.busy": "2021-02-06T12:06:41.786065Z",
     "iopub.status.idle": "2021-02-06T12:06:41.849948Z",
     "shell.execute_reply": "2021-02-06T12:06:41.849520Z"
    },
    "papermill": {
     "duration": 0.100184,
     "end_time": "2021-02-06T12:06:41.850060",
     "exception": false,
     "start_time": "2021-02-06T12:06:41.749876",
     "status": "completed"
    },
    "tags": []
   },
   "outputs": [],
   "source": [
    "#hide\n",
    "mapping = get_mappings(paths['mapping'])"
   ]
  },
  {
   "cell_type": "code",
   "execution_count": 6,
   "id": "certified-tactics",
   "metadata": {
    "execution": {
     "iopub.execute_input": "2021-02-06T12:06:41.914173Z",
     "iopub.status.busy": "2021-02-06T12:06:41.913626Z",
     "iopub.status.idle": "2021-02-06T12:06:41.915785Z",
     "shell.execute_reply": "2021-02-06T12:06:41.915338Z"
    },
    "papermill": {
     "duration": 0.036864,
     "end_time": "2021-02-06T12:06:41.915893",
     "exception": false,
     "start_time": "2021-02-06T12:06:41.879029",
     "status": "completed"
    },
    "tags": []
   },
   "outputs": [],
   "source": [
    "#hide\n",
    "def get_template(path):\n",
    "    from urllib.parse import urlparse\n",
    "    if bool(urlparse(path).netloc):\n",
    "        from urllib.request import urlopen\n",
    "        return urlopen(path).read().decode('utf8')\n",
    "    return open(path).read()"
   ]
  },
  {
   "cell_type": "code",
   "execution_count": 7,
   "id": "realistic-blast",
   "metadata": {
    "execution": {
     "iopub.execute_input": "2021-02-06T12:06:41.981755Z",
     "iopub.status.busy": "2021-02-06T12:06:41.981192Z",
     "iopub.status.idle": "2021-02-06T12:06:41.983067Z",
     "shell.execute_reply": "2021-02-06T12:06:41.983527Z"
    },
    "papermill": {
     "duration": 0.036059,
     "end_time": "2021-02-06T12:06:41.983699",
     "exception": false,
     "start_time": "2021-02-06T12:06:41.947640",
     "status": "completed"
    },
    "tags": []
   },
   "outputs": [],
   "source": [
    "#hide\n",
    "def get_frame(name):\n",
    "    url = (\n",
    "        'https://raw.githubusercontent.com/CSSEGISandData/COVID-19/master/csse_covid_19_data/'\n",
    "        f'csse_covid_19_time_series/time_series_covid19_{name}_global.csv')\n",
    "    df = pd.read_csv(url)\n",
    "    # rename countries\n",
    "    df['Country/Region'] = df['Country/Region'].replace(mapping['replace.country'])\n",
    "    return df"
   ]
  },
  {
   "cell_type": "code",
   "execution_count": 8,
   "id": "affiliated-characterization",
   "metadata": {
    "execution": {
     "iopub.execute_input": "2021-02-06T12:06:42.046596Z",
     "iopub.status.busy": "2021-02-06T12:06:42.046032Z",
     "iopub.status.idle": "2021-02-06T12:06:42.047791Z",
     "shell.execute_reply": "2021-02-06T12:06:42.048209Z"
    },
    "papermill": {
     "duration": 0.036161,
     "end_time": "2021-02-06T12:06:42.048346",
     "exception": false,
     "start_time": "2021-02-06T12:06:42.012185",
     "status": "completed"
    },
    "tags": []
   },
   "outputs": [],
   "source": [
    "#hide\n",
    "def get_dates(df):\n",
    "    dt_cols = df.columns[~df.columns.isin(['Province/State', 'Country/Region', 'Lat', 'Long'])]\n",
    "    LAST_DATE_I = -1\n",
    "    # sometimes last column may be empty, then go backwards\n",
    "    for i in range(-1, -len(dt_cols), -1):\n",
    "        if not df[dt_cols[i]].fillna(0).eq(0).all():\n",
    "            LAST_DATE_I = i\n",
    "            break\n",
    "    return LAST_DATE_I, dt_cols"
   ]
  },
  {
   "cell_type": "code",
   "execution_count": 9,
   "id": "recent-optimization",
   "metadata": {
    "execution": {
     "iopub.execute_input": "2021-02-06T12:06:42.110810Z",
     "iopub.status.busy": "2021-02-06T12:06:42.110300Z",
     "iopub.status.idle": "2021-02-06T12:06:42.561510Z",
     "shell.execute_reply": "2021-02-06T12:06:42.560990Z"
    },
    "papermill": {
     "duration": 0.483661,
     "end_time": "2021-02-06T12:06:42.561637",
     "exception": false,
     "start_time": "2021-02-06T12:06:42.077976",
     "status": "completed"
    },
    "tags": []
   },
   "outputs": [],
   "source": [
    "#hide\n",
    "COL_REGION = 'Country/Region'\n",
    "# Confirmed, Recovered, Deaths\n",
    "df = get_frame('confirmed')\n",
    "# dft_: timeseries, dfc_: today country agg\n",
    "dft_cases = df\n",
    "dft_deaths = get_frame('deaths')\n",
    "dft_recovered = get_frame('recovered')\n",
    "LAST_DATE_I, dt_cols = get_dates(df)"
   ]
  },
  {
   "cell_type": "code",
   "execution_count": 10,
   "id": "absolute-copper",
   "metadata": {
    "execution": {
     "iopub.execute_input": "2021-02-06T12:06:42.625663Z",
     "iopub.status.busy": "2021-02-06T12:06:42.625160Z",
     "iopub.status.idle": "2021-02-06T12:06:42.627887Z",
     "shell.execute_reply": "2021-02-06T12:06:42.628379Z"
    },
    "papermill": {
     "duration": 0.036875,
     "end_time": "2021-02-06T12:06:42.628538",
     "exception": false,
     "start_time": "2021-02-06T12:06:42.591663",
     "status": "completed"
    },
    "tags": []
   },
   "outputs": [],
   "source": [
    "#hide\n",
    "LAST_DATE_I, dt_cols = get_dates(df)\n",
    "dt_today =dt_cols[LAST_DATE_I]\n",
    "# dt_5day = dt_cols[LAST_DATE_I - 5]\n",
    "dt_yday = dt_cols[LAST_DATE_I - 1]"
   ]
  },
  {
   "cell_type": "code",
   "execution_count": 11,
   "id": "restricted-sheriff",
   "metadata": {
    "execution": {
     "iopub.execute_input": "2021-02-06T12:06:42.692172Z",
     "iopub.status.busy": "2021-02-06T12:06:42.691635Z",
     "iopub.status.idle": "2021-02-06T12:06:42.699620Z",
     "shell.execute_reply": "2021-02-06T12:06:42.700036Z"
    },
    "papermill": {
     "duration": 0.043716,
     "end_time": "2021-02-06T12:06:42.700150",
     "exception": false,
     "start_time": "2021-02-06T12:06:42.656434",
     "status": "completed"
    },
    "tags": []
   },
   "outputs": [],
   "source": [
    "#hide\n",
    "dfc_cases = dft_cases.groupby(COL_REGION)[dt_today].sum()\n",
    "dfc_deaths = dft_deaths.groupby(COL_REGION)[dt_today].sum()\n",
    "# dfp_cases = dft_cases.groupby(COL_REGION)[dt_5day].sum()\n",
    "# dfp_deaths = dft_deaths.groupby(COL_REGION)[dt_5day].sum()\n",
    "dfp_cases = dft_cases.groupby(COL_REGION)[dt_yday].sum()\n",
    "dfp_deaths = dft_deaths.groupby(COL_REGION)[dt_yday].sum()"
   ]
  },
  {
   "cell_type": "code",
   "execution_count": 12,
   "id": "deluxe-hepatitis",
   "metadata": {
    "execution": {
     "iopub.execute_input": "2021-02-06T12:06:42.764376Z",
     "iopub.status.busy": "2021-02-06T12:06:42.763811Z",
     "iopub.status.idle": "2021-02-06T12:06:42.768637Z",
     "shell.execute_reply": "2021-02-06T12:06:42.769418Z"
    },
    "papermill": {
     "duration": 0.039989,
     "end_time": "2021-02-06T12:06:42.769547",
     "exception": false,
     "start_time": "2021-02-06T12:06:42.729558",
     "status": "completed"
    },
    "tags": []
   },
   "outputs": [],
   "source": [
    "#hide\n",
    "df_table = (pd.DataFrame(dict(Cases = dfc_cases, Deaths = dfc_deaths, PCases = dfp_cases, PDeaths = dfp_deaths))\n",
    "            .sort_values(by = ['Cases','Deaths'], ascending = [False, False])\n",
    "            .reset_index())"
   ]
  },
  {
   "cell_type": "code",
   "execution_count": 13,
   "id": "educational-chancellor",
   "metadata": {
    "execution": {
     "iopub.execute_input": "2021-02-06T12:06:42.856518Z",
     "iopub.status.busy": "2021-02-06T12:06:42.855986Z",
     "iopub.status.idle": "2021-02-06T12:06:42.863890Z",
     "shell.execute_reply": "2021-02-06T12:06:42.863454Z"
    },
    "papermill": {
     "duration": 0.059063,
     "end_time": "2021-02-06T12:06:42.863997",
     "exception": false,
     "start_time": "2021-02-06T12:06:42.804934",
     "status": "completed"
    },
    "tags": []
   },
   "outputs": [
    {
     "data": {
      "text/html": [
       "<div>\n",
       "<style scoped>\n",
       "    .dataframe tbody tr th:only-of-type {\n",
       "        vertical-align: middle;\n",
       "    }\n",
       "\n",
       "    .dataframe tbody tr th {\n",
       "        vertical-align: top;\n",
       "    }\n",
       "\n",
       "    .dataframe thead th {\n",
       "        text-align: right;\n",
       "    }\n",
       "</style>\n",
       "<table border=\"1\" class=\"dataframe\">\n",
       "  <thead>\n",
       "    <tr style=\"text-align: right;\">\n",
       "      <th></th>\n",
       "      <th>Country/Region</th>\n",
       "      <th>Cases</th>\n",
       "      <th>Deaths</th>\n",
       "      <th>PCases</th>\n",
       "      <th>PDeaths</th>\n",
       "      <th>Cases (+)</th>\n",
       "      <th>Deaths (+)</th>\n",
       "      <th>Fatality Rate</th>\n",
       "      <th>Continent</th>\n",
       "    </tr>\n",
       "  </thead>\n",
       "  <tbody>\n",
       "    <tr>\n",
       "      <th>0</th>\n",
       "      <td>US</td>\n",
       "      <td>26813772</td>\n",
       "      <td>459555</td>\n",
       "      <td>26680214</td>\n",
       "      <td>455881</td>\n",
       "      <td>133558</td>\n",
       "      <td>3674</td>\n",
       "      <td>1.71</td>\n",
       "      <td>North America</td>\n",
       "    </tr>\n",
       "    <tr>\n",
       "      <th>1</th>\n",
       "      <td>India</td>\n",
       "      <td>10814304</td>\n",
       "      <td>154918</td>\n",
       "      <td>10802591</td>\n",
       "      <td>154823</td>\n",
       "      <td>11713</td>\n",
       "      <td>95</td>\n",
       "      <td>1.43</td>\n",
       "      <td>Asia</td>\n",
       "    </tr>\n",
       "    <tr>\n",
       "      <th>2</th>\n",
       "      <td>Brazil</td>\n",
       "      <td>9447165</td>\n",
       "      <td>230034</td>\n",
       "      <td>9396293</td>\n",
       "      <td>228795</td>\n",
       "      <td>50872</td>\n",
       "      <td>1239</td>\n",
       "      <td>2.43</td>\n",
       "      <td>South America</td>\n",
       "    </tr>\n",
       "    <tr>\n",
       "      <th>3</th>\n",
       "      <td>United Kingdom</td>\n",
       "      <td>3922910</td>\n",
       "      <td>111477</td>\n",
       "      <td>3903706</td>\n",
       "      <td>110462</td>\n",
       "      <td>19204</td>\n",
       "      <td>1015</td>\n",
       "      <td>2.84</td>\n",
       "      <td>Europe</td>\n",
       "    </tr>\n",
       "    <tr>\n",
       "      <th>4</th>\n",
       "      <td>Russia</td>\n",
       "      <td>3891274</td>\n",
       "      <td>74520</td>\n",
       "      <td>3874830</td>\n",
       "      <td>74005</td>\n",
       "      <td>16444</td>\n",
       "      <td>515</td>\n",
       "      <td>1.92</td>\n",
       "      <td>Europe</td>\n",
       "    </tr>\n",
       "  </tbody>\n",
       "</table>\n",
       "</div>"
      ],
      "text/plain": [
       "   Country/Region     Cases  Deaths    PCases  PDeaths  Cases (+)  Deaths (+)  \\\n",
       "0              US  26813772  459555  26680214   455881     133558        3674   \n",
       "1           India  10814304  154918  10802591   154823      11713          95   \n",
       "2          Brazil   9447165  230034   9396293   228795      50872        1239   \n",
       "3  United Kingdom   3922910  111477   3903706   110462      19204        1015   \n",
       "4          Russia   3891274   74520   3874830    74005      16444         515   \n",
       "\n",
       "   Fatality Rate      Continent  \n",
       "0           1.71  North America  \n",
       "1           1.43           Asia  \n",
       "2           2.43  South America  \n",
       "3           2.84         Europe  \n",
       "4           1.92         Europe  "
      ]
     },
     "execution_count": 13,
     "metadata": {},
     "output_type": "execute_result"
    }
   ],
   "source": [
    "#hide\n",
    "for c in 'Cases, Deaths'.split(', '):\n",
    "    df_table[f'{c} (+)'] = (df_table[c] - df_table[f'P{c}']).clip(0)\n",
    "    #Clip ça veut dire, les chiffres negatif sont interdit\n",
    "df_table['Fatality Rate'] = (100* df_table['Deaths']/ df_table['Cases']).round(2)\n",
    "df_table['Continent'] = df_table['Country/Region'].map(mapping['map.continent'])\n",
    "df_table.head(5)"
   ]
  },
  {
   "cell_type": "code",
   "execution_count": 14,
   "id": "aboriginal-bulgaria",
   "metadata": {
    "execution": {
     "iopub.execute_input": "2021-02-06T12:06:42.938238Z",
     "iopub.status.busy": "2021-02-06T12:06:42.937689Z",
     "iopub.status.idle": "2021-02-06T12:06:42.944659Z",
     "shell.execute_reply": "2021-02-06T12:06:42.942505Z"
    },
    "papermill": {
     "duration": 0.049775,
     "end_time": "2021-02-06T12:06:42.944957",
     "exception": false,
     "start_time": "2021-02-06T12:06:42.895182",
     "status": "completed"
    },
    "tags": []
   },
   "outputs": [],
   "source": [
    "#hide\n",
    "#delete problematic countries from table\n",
    "df_table = df_table[~df_table['Country/Region'].isin(['Cape Verde', 'Cruise Ship', 'Kosovo'])]"
   ]
  },
  {
   "cell_type": "code",
   "execution_count": 15,
   "id": "fantastic-effect",
   "metadata": {
    "execution": {
     "iopub.execute_input": "2021-02-06T12:06:43.010686Z",
     "iopub.status.busy": "2021-02-06T12:06:43.010175Z",
     "iopub.status.idle": "2021-02-06T12:06:43.028935Z",
     "shell.execute_reply": "2021-02-06T12:06:43.028505Z"
    },
    "papermill": {
     "duration": 0.05425,
     "end_time": "2021-02-06T12:06:43.029081",
     "exception": false,
     "start_time": "2021-02-06T12:06:42.974831",
     "status": "completed"
    },
    "tags": []
   },
   "outputs": [
    {
     "data": {
      "text/html": [
       "<div>\n",
       "<style scoped>\n",
       "    .dataframe tbody tr th:only-of-type {\n",
       "        vertical-align: middle;\n",
       "    }\n",
       "\n",
       "    .dataframe tbody tr th {\n",
       "        vertical-align: top;\n",
       "    }\n",
       "\n",
       "    .dataframe thead th {\n",
       "        text-align: right;\n",
       "    }\n",
       "</style>\n",
       "<table border=\"1\" class=\"dataframe\">\n",
       "  <thead>\n",
       "    <tr style=\"text-align: right;\">\n",
       "      <th></th>\n",
       "      <th>Country/Region</th>\n",
       "      <th>Cases</th>\n",
       "      <th>Deaths</th>\n",
       "      <th>PCases</th>\n",
       "      <th>PDeaths</th>\n",
       "      <th>Cases (+)</th>\n",
       "      <th>Deaths (+)</th>\n",
       "      <th>Fatality Rate</th>\n",
       "      <th>Continent</th>\n",
       "    </tr>\n",
       "  </thead>\n",
       "  <tbody>\n",
       "    <tr>\n",
       "      <th>0</th>\n",
       "      <td>US</td>\n",
       "      <td>26813772</td>\n",
       "      <td>459555</td>\n",
       "      <td>26680214</td>\n",
       "      <td>455881</td>\n",
       "      <td>133558</td>\n",
       "      <td>3674</td>\n",
       "      <td>1.7</td>\n",
       "      <td>North America</td>\n",
       "    </tr>\n",
       "    <tr>\n",
       "      <th>1</th>\n",
       "      <td>India</td>\n",
       "      <td>10814304</td>\n",
       "      <td>154918</td>\n",
       "      <td>10802591</td>\n",
       "      <td>154823</td>\n",
       "      <td>11713</td>\n",
       "      <td>95</td>\n",
       "      <td>1.4</td>\n",
       "      <td>Asia</td>\n",
       "    </tr>\n",
       "    <tr>\n",
       "      <th>2</th>\n",
       "      <td>Brazil</td>\n",
       "      <td>9447165</td>\n",
       "      <td>230034</td>\n",
       "      <td>9396293</td>\n",
       "      <td>228795</td>\n",
       "      <td>50872</td>\n",
       "      <td>1239</td>\n",
       "      <td>2.4</td>\n",
       "      <td>South America</td>\n",
       "    </tr>\n",
       "    <tr>\n",
       "      <th>3</th>\n",
       "      <td>United Kingdom</td>\n",
       "      <td>3922910</td>\n",
       "      <td>111477</td>\n",
       "      <td>3903706</td>\n",
       "      <td>110462</td>\n",
       "      <td>19204</td>\n",
       "      <td>1015</td>\n",
       "      <td>2.8</td>\n",
       "      <td>Europe</td>\n",
       "    </tr>\n",
       "    <tr>\n",
       "      <th>4</th>\n",
       "      <td>Russia</td>\n",
       "      <td>3891274</td>\n",
       "      <td>74520</td>\n",
       "      <td>3874830</td>\n",
       "      <td>74005</td>\n",
       "      <td>16444</td>\n",
       "      <td>515</td>\n",
       "      <td>1.9</td>\n",
       "      <td>Europe</td>\n",
       "    </tr>\n",
       "  </tbody>\n",
       "</table>\n",
       "</div>"
      ],
      "text/plain": [
       "   Country/Region     Cases  Deaths    PCases  PDeaths  Cases (+)  Deaths (+)  \\\n",
       "0              US  26813772  459555  26680214   455881     133558        3674   \n",
       "1           India  10814304  154918  10802591   154823      11713          95   \n",
       "2          Brazil   9447165  230034   9396293   228795      50872        1239   \n",
       "3  United Kingdom   3922910  111477   3903706   110462      19204        1015   \n",
       "4          Russia   3891274   74520   3874830    74005      16444         515   \n",
       "\n",
       "   Fatality Rate      Continent  \n",
       "0            1.7  North America  \n",
       "1            1.4           Asia  \n",
       "2            2.4  South America  \n",
       "3            2.8         Europe  \n",
       "4            1.9         Europe  "
      ]
     },
     "execution_count": 15,
     "metadata": {},
     "output_type": "execute_result"
    }
   ],
   "source": [
    "#hide\n",
    "df_table = (pd.DataFrame(dict(Cases=dfc_cases, Deaths=dfc_deaths, PCases=dfp_cases, PDeaths=dfp_deaths))\n",
    "             .sort_values(by=['Cases', 'Deaths'], ascending=[False, False])\n",
    "             .reset_index())\n",
    "df_table.rename(columns={'index': 'Country/Region'}, inplace=True)\n",
    "for c in 'Cases, Deaths'.split(', '):\n",
    "    df_table[f'{c} (+)'] = (df_table[c] - df_table[f'P{c}']).clip(0)  # DATA BUG\n",
    "df_table['Fatality Rate'] = (100 * df_table['Deaths'] / df_table['Cases']).round(1)\n",
    "df_table['Continent'] = df_table['Country/Region'].map(mapping['map.continent'])\n",
    "df_table.head(5)"
   ]
  },
  {
   "cell_type": "code",
   "execution_count": 16,
   "id": "fewer-occasion",
   "metadata": {
    "execution": {
     "iopub.execute_input": "2021-02-06T12:06:43.093502Z",
     "iopub.status.busy": "2021-02-06T12:06:43.092967Z",
     "iopub.status.idle": "2021-02-06T12:06:43.096459Z",
     "shell.execute_reply": "2021-02-06T12:06:43.095922Z"
    },
    "papermill": {
     "duration": 0.036964,
     "end_time": "2021-02-06T12:06:43.096592",
     "exception": false,
     "start_time": "2021-02-06T12:06:43.059628",
     "status": "completed"
    },
    "tags": []
   },
   "outputs": [],
   "source": [
    "#hide\n",
    "#delete problematic countries from table\n",
    "df_table = df_table[~df_table['Country/Region'].isin(['Cape Verde', 'Cruise Ship', 'Kosovo'])]"
   ]
  },
  {
   "cell_type": "code",
   "execution_count": 17,
   "id": "related-center",
   "metadata": {
    "execution": {
     "iopub.execute_input": "2021-02-06T12:06:43.161516Z",
     "iopub.status.busy": "2021-02-06T12:06:43.160979Z",
     "iopub.status.idle": "2021-02-06T12:06:43.173448Z",
     "shell.execute_reply": "2021-02-06T12:06:43.172995Z"
    },
    "papermill": {
     "duration": 0.047132,
     "end_time": "2021-02-06T12:06:43.173556",
     "exception": false,
     "start_time": "2021-02-06T12:06:43.126424",
     "status": "completed"
    },
    "tags": []
   },
   "outputs": [],
   "source": [
    "#hide\n",
    "metrics = [df_table.columns[index] for index in [1,2,5,6]]\n",
    "# s_china = df_table[df_table['Country/Region'].eq('China')][metrics].sum().add_prefix('China ')\n",
    "s_us = df_table[df_table['Country/Region'].eq('US')][metrics].sum().add_prefix('US ')\n",
    "s_eu = df_table[df_table['Continent'].eq('Europe')][metrics].sum().add_prefix('EU ')\n",
    "s_ind = df_table[df_table['Country/Region'].eq('India')][metrics].sum().add_prefix('India ')\n",
    "summary = {'updated': pd.to_datetime(dt_today), 'since': pd.to_datetime(dt_yday)}\n",
    "summary = {'updated': pd.to_datetime(dt_today), 'since': pd.to_datetime(dt_yday)}\n",
    "summary = {**summary, **df_table[metrics].sum(), **s_ind, **s_us, **s_eu}"
   ]
  },
  {
   "cell_type": "code",
   "execution_count": 18,
   "id": "engaging-syndrome",
   "metadata": {
    "execution": {
     "iopub.execute_input": "2021-02-06T12:06:43.239092Z",
     "iopub.status.busy": "2021-02-06T12:06:43.238588Z",
     "iopub.status.idle": "2021-02-06T12:06:43.250261Z",
     "shell.execute_reply": "2021-02-06T12:06:43.249371Z"
    },
    "papermill": {
     "duration": 0.046105,
     "end_time": "2021-02-06T12:06:43.250370",
     "exception": false,
     "start_time": "2021-02-06T12:06:43.204265",
     "status": "completed"
    },
    "tags": []
   },
   "outputs": [],
   "source": [
    "#hide\n",
    "dft_ct_new_cases = dft_cases.groupby(COL_REGION)[dt_cols].sum().diff(axis=1).fillna(0).astype(int)"
   ]
  },
  {
   "cell_type": "code",
   "execution_count": 19,
   "id": "neutral-assignment",
   "metadata": {
    "execution": {
     "iopub.execute_input": "2021-02-06T12:06:43.314001Z",
     "iopub.status.busy": "2021-02-06T12:06:43.313499Z",
     "iopub.status.idle": "2021-02-06T12:06:43.315835Z",
     "shell.execute_reply": "2021-02-06T12:06:43.316522Z"
    },
    "papermill": {
     "duration": 0.036394,
     "end_time": "2021-02-06T12:06:43.316635",
     "exception": false,
     "start_time": "2021-02-06T12:06:43.280241",
     "status": "completed"
    },
    "tags": []
   },
   "outputs": [],
   "source": [
    "#hide\n",
    "everydaycases = dft_ct_new_cases.cumsum(axis=1)"
   ]
  },
  {
   "cell_type": "code",
   "execution_count": 20,
   "id": "parliamentary-calgary",
   "metadata": {
    "execution": {
     "iopub.execute_input": "2021-02-06T12:06:43.380473Z",
     "iopub.status.busy": "2021-02-06T12:06:43.379964Z",
     "iopub.status.idle": "2021-02-06T12:06:43.981906Z",
     "shell.execute_reply": "2021-02-06T12:06:43.982366Z"
    },
    "papermill": {
     "duration": 0.635273,
     "end_time": "2021-02-06T12:06:43.982520",
     "exception": false,
     "start_time": "2021-02-06T12:06:43.347247",
     "status": "completed"
    },
    "tags": []
   },
   "outputs": [],
   "source": [
    "#hide\n",
    "import pandas as pd\n",
    "import matplotlib.pyplot as plt\n",
    "import matplotlib.ticker as ticker\n",
    "import matplotlib.animation as animation\n",
    "from IPython.display import HTML"
   ]
  },
  {
   "cell_type": "code",
   "execution_count": 21,
   "id": "lasting-extraction",
   "metadata": {
    "execution": {
     "iopub.execute_input": "2021-02-06T12:06:44.048055Z",
     "iopub.status.busy": "2021-02-06T12:06:44.047530Z",
     "iopub.status.idle": "2021-02-06T12:06:44.052912Z",
     "shell.execute_reply": "2021-02-06T12:06:44.052364Z"
    },
    "papermill": {
     "duration": 0.039571,
     "end_time": "2021-02-06T12:06:44.053028",
     "exception": false,
     "start_time": "2021-02-06T12:06:44.013457",
     "status": "completed"
    },
    "tags": []
   },
   "outputs": [],
   "source": [
    "#hide\n",
    "t = everydaycases.stack()"
   ]
  },
  {
   "cell_type": "code",
   "execution_count": 22,
   "id": "premier-sleeve",
   "metadata": {
    "execution": {
     "iopub.execute_input": "2021-02-06T12:06:44.119077Z",
     "iopub.status.busy": "2021-02-06T12:06:44.118494Z",
     "iopub.status.idle": "2021-02-06T12:06:44.124414Z",
     "shell.execute_reply": "2021-02-06T12:06:44.125132Z"
    },
    "papermill": {
     "duration": 0.040127,
     "end_time": "2021-02-06T12:06:44.125258",
     "exception": false,
     "start_time": "2021-02-06T12:06:44.085131",
     "status": "completed"
    },
    "tags": []
   },
   "outputs": [],
   "source": [
    "#hide\n",
    "g = t.reset_index(['Country/Region'])"
   ]
  },
  {
   "cell_type": "code",
   "execution_count": 23,
   "id": "distributed-pittsburgh",
   "metadata": {
    "execution": {
     "iopub.execute_input": "2021-02-06T12:06:44.190102Z",
     "iopub.status.busy": "2021-02-06T12:06:44.189381Z",
     "iopub.status.idle": "2021-02-06T12:06:44.191969Z",
     "shell.execute_reply": "2021-02-06T12:06:44.191551Z"
    },
    "papermill": {
     "duration": 0.035803,
     "end_time": "2021-02-06T12:06:44.192079",
     "exception": false,
     "start_time": "2021-02-06T12:06:44.156276",
     "status": "completed"
    },
    "tags": []
   },
   "outputs": [],
   "source": [
    "#hide\n",
    "g.index.name = 'date'"
   ]
  },
  {
   "cell_type": "code",
   "execution_count": 24,
   "id": "naked-donor",
   "metadata": {
    "execution": {
     "iopub.execute_input": "2021-02-06T12:06:44.254910Z",
     "iopub.status.busy": "2021-02-06T12:06:44.254378Z",
     "iopub.status.idle": "2021-02-06T12:06:44.256158Z",
     "shell.execute_reply": "2021-02-06T12:06:44.256573Z"
    },
    "papermill": {
     "duration": 0.03489,
     "end_time": "2021-02-06T12:06:44.256717",
     "exception": false,
     "start_time": "2021-02-06T12:06:44.221827",
     "status": "completed"
    },
    "tags": []
   },
   "outputs": [],
   "source": [
    "# #hide\n",
    "# g = g.reset_index(['date'])"
   ]
  },
  {
   "cell_type": "code",
   "execution_count": 25,
   "id": "incomplete-mustang",
   "metadata": {
    "execution": {
     "iopub.execute_input": "2021-02-06T12:06:44.321357Z",
     "iopub.status.busy": "2021-02-06T12:06:44.320834Z",
     "iopub.status.idle": "2021-02-06T12:06:44.323287Z",
     "shell.execute_reply": "2021-02-06T12:06:44.322840Z"
    },
    "papermill": {
     "duration": 0.035493,
     "end_time": "2021-02-06T12:06:44.323392",
     "exception": false,
     "start_time": "2021-02-06T12:06:44.287899",
     "status": "completed"
    },
    "tags": []
   },
   "outputs": [],
   "source": [
    "#hide\n",
    "# g.head()"
   ]
  },
  {
   "cell_type": "code",
   "execution_count": 26,
   "id": "specific-kruger",
   "metadata": {
    "execution": {
     "iopub.execute_input": "2021-02-06T12:06:44.388147Z",
     "iopub.status.busy": "2021-02-06T12:06:44.387562Z",
     "iopub.status.idle": "2021-02-06T12:06:44.390030Z",
     "shell.execute_reply": "2021-02-06T12:06:44.389542Z"
    },
    "papermill": {
     "duration": 0.036477,
     "end_time": "2021-02-06T12:06:44.390136",
     "exception": false,
     "start_time": "2021-02-06T12:06:44.353659",
     "status": "completed"
    },
    "tags": []
   },
   "outputs": [],
   "source": [
    "#hide\n",
    "# g.columns = ['date','country','cases']"
   ]
  },
  {
   "cell_type": "code",
   "execution_count": 27,
   "id": "tender-conversion",
   "metadata": {
    "execution": {
     "iopub.execute_input": "2021-02-06T12:06:44.461248Z",
     "iopub.status.busy": "2021-02-06T12:06:44.460589Z",
     "iopub.status.idle": "2021-02-06T12:06:44.462964Z",
     "shell.execute_reply": "2021-02-06T12:06:44.462400Z"
    },
    "papermill": {
     "duration": 0.041596,
     "end_time": "2021-02-06T12:06:44.463097",
     "exception": false,
     "start_time": "2021-02-06T12:06:44.421501",
     "status": "completed"
    },
    "tags": []
   },
   "outputs": [],
   "source": [
    "#hide\n",
    "# g['continent'] = g.country"
   ]
  },
  {
   "cell_type": "code",
   "execution_count": 28,
   "id": "substantial-wilderness",
   "metadata": {
    "execution": {
     "iopub.execute_input": "2021-02-06T12:06:44.531995Z",
     "iopub.status.busy": "2021-02-06T12:06:44.531314Z",
     "iopub.status.idle": "2021-02-06T12:06:44.533988Z",
     "shell.execute_reply": "2021-02-06T12:06:44.533255Z"
    },
    "papermill": {
     "duration": 0.03854,
     "end_time": "2021-02-06T12:06:44.534124",
     "exception": false,
     "start_time": "2021-02-06T12:06:44.495584",
     "status": "completed"
    },
    "tags": []
   },
   "outputs": [],
   "source": [
    "#hide\n",
    "# cols = list(g.columns.values)"
   ]
  },
  {
   "cell_type": "code",
   "execution_count": 29,
   "id": "solved-farming",
   "metadata": {
    "execution": {
     "iopub.execute_input": "2021-02-06T12:06:44.598379Z",
     "iopub.status.busy": "2021-02-06T12:06:44.597867Z",
     "iopub.status.idle": "2021-02-06T12:06:44.600045Z",
     "shell.execute_reply": "2021-02-06T12:06:44.599637Z"
    },
    "papermill": {
     "duration": 0.034708,
     "end_time": "2021-02-06T12:06:44.600154",
     "exception": false,
     "start_time": "2021-02-06T12:06:44.565446",
     "status": "completed"
    },
    "tags": []
   },
   "outputs": [],
   "source": [
    "#hide\n",
    "# cols.insert(0, cols.pop())"
   ]
  },
  {
   "cell_type": "code",
   "execution_count": 30,
   "id": "executed-adoption",
   "metadata": {
    "execution": {
     "iopub.execute_input": "2021-02-06T12:06:44.664820Z",
     "iopub.status.busy": "2021-02-06T12:06:44.664245Z",
     "iopub.status.idle": "2021-02-06T12:06:44.666628Z",
     "shell.execute_reply": "2021-02-06T12:06:44.666219Z"
    },
    "papermill": {
     "duration": 0.034735,
     "end_time": "2021-02-06T12:06:44.666731",
     "exception": false,
     "start_time": "2021-02-06T12:06:44.631996",
     "status": "completed"
    },
    "tags": []
   },
   "outputs": [],
   "source": [
    "#hide\n",
    "# g = g[cols]"
   ]
  },
  {
   "cell_type": "code",
   "execution_count": 31,
   "id": "subject-dublin",
   "metadata": {
    "execution": {
     "iopub.execute_input": "2021-02-06T12:06:44.729216Z",
     "iopub.status.busy": "2021-02-06T12:06:44.728589Z",
     "iopub.status.idle": "2021-02-06T12:06:44.730730Z",
     "shell.execute_reply": "2021-02-06T12:06:44.730304Z"
    },
    "papermill": {
     "duration": 0.03424,
     "end_time": "2021-02-06T12:06:44.730830",
     "exception": false,
     "start_time": "2021-02-06T12:06:44.696590",
     "status": "completed"
    },
    "tags": []
   },
   "outputs": [],
   "source": [
    "#hide\n",
    "# g['continent'] = g['continent'].map(mapping['map.continent'])"
   ]
  },
  {
   "cell_type": "code",
   "execution_count": 32,
   "id": "freelance-scout",
   "metadata": {
    "execution": {
     "iopub.execute_input": "2021-02-06T12:06:44.796341Z",
     "iopub.status.busy": "2021-02-06T12:06:44.795688Z",
     "iopub.status.idle": "2021-02-06T12:06:44.797632Z",
     "shell.execute_reply": "2021-02-06T12:06:44.798105Z"
    },
    "papermill": {
     "duration": 0.035756,
     "end_time": "2021-02-06T12:06:44.798219",
     "exception": false,
     "start_time": "2021-02-06T12:06:44.762463",
     "status": "completed"
    },
    "tags": []
   },
   "outputs": [],
   "source": [
    "#hide\n",
    "# g.head()"
   ]
  },
  {
   "cell_type": "code",
   "execution_count": 33,
   "id": "limited-engine",
   "metadata": {
    "execution": {
     "iopub.execute_input": "2021-02-06T12:06:44.863137Z",
     "iopub.status.busy": "2021-02-06T12:06:44.862406Z",
     "iopub.status.idle": "2021-02-06T12:06:44.864844Z",
     "shell.execute_reply": "2021-02-06T12:06:44.864389Z"
    },
    "papermill": {
     "duration": 0.034375,
     "end_time": "2021-02-06T12:06:44.864947",
     "exception": false,
     "start_time": "2021-02-06T12:06:44.830572",
     "status": "completed"
    },
    "tags": []
   },
   "outputs": [],
   "source": [
    "# hide\n",
    "# g['date'] = g['date'].astype('datetime64[ns]')"
   ]
  },
  {
   "cell_type": "code",
   "execution_count": 34,
   "id": "sophisticated-supervisor",
   "metadata": {
    "execution": {
     "iopub.execute_input": "2021-02-06T12:06:44.926542Z",
     "iopub.status.busy": "2021-02-06T12:06:44.925979Z",
     "iopub.status.idle": "2021-02-06T12:06:44.928110Z",
     "shell.execute_reply": "2021-02-06T12:06:44.927662Z"
    },
    "papermill": {
     "duration": 0.0337,
     "end_time": "2021-02-06T12:06:44.928220",
     "exception": false,
     "start_time": "2021-02-06T12:06:44.894520",
     "status": "completed"
    },
    "tags": []
   },
   "outputs": [],
   "source": [
    "#hide\n",
    "# g['date'] = g.date.dt.dayofyear"
   ]
  },
  {
   "cell_type": "code",
   "execution_count": 35,
   "id": "inside-dubai",
   "metadata": {
    "execution": {
     "iopub.execute_input": "2021-02-06T12:06:44.998545Z",
     "iopub.status.busy": "2021-02-06T12:06:44.997993Z",
     "iopub.status.idle": "2021-02-06T12:06:45.000390Z",
     "shell.execute_reply": "2021-02-06T12:06:44.999943Z"
    },
    "papermill": {
     "duration": 0.038845,
     "end_time": "2021-02-06T12:06:45.000516",
     "exception": false,
     "start_time": "2021-02-06T12:06:44.961671",
     "status": "completed"
    },
    "tags": []
   },
   "outputs": [],
   "source": [
    "#hide\n",
    "# g = g.rename(columns= {'continent':'group','country':'name','cases':'value'})"
   ]
  },
  {
   "cell_type": "code",
   "execution_count": 36,
   "id": "fleet-motorcycle",
   "metadata": {
    "execution": {
     "iopub.execute_input": "2021-02-06T12:06:45.066480Z",
     "iopub.status.busy": "2021-02-06T12:06:45.065799Z",
     "iopub.status.idle": "2021-02-06T12:06:45.067834Z",
     "shell.execute_reply": "2021-02-06T12:06:45.068288Z"
    },
    "papermill": {
     "duration": 0.036824,
     "end_time": "2021-02-06T12:06:45.068414",
     "exception": false,
     "start_time": "2021-02-06T12:06:45.031590",
     "status": "completed"
    },
    "tags": []
   },
   "outputs": [],
   "source": [
    "#hide\n",
    "# cols = ['name','group','day','value']"
   ]
  },
  {
   "cell_type": "code",
   "execution_count": 37,
   "id": "continued-sleeping",
   "metadata": {
    "execution": {
     "iopub.execute_input": "2021-02-06T12:06:45.130954Z",
     "iopub.status.busy": "2021-02-06T12:06:45.130453Z",
     "iopub.status.idle": "2021-02-06T12:06:45.132730Z",
     "shell.execute_reply": "2021-02-06T12:06:45.132278Z"
    },
    "papermill": {
     "duration": 0.034318,
     "end_time": "2021-02-06T12:06:45.132833",
     "exception": false,
     "start_time": "2021-02-06T12:06:45.098515",
     "status": "completed"
    },
    "tags": []
   },
   "outputs": [],
   "source": [
    "#hide\n",
    "# g.rename(columns= {'date':'day'},inplace = True)"
   ]
  },
  {
   "cell_type": "code",
   "execution_count": 38,
   "id": "major-fight",
   "metadata": {
    "execution": {
     "iopub.execute_input": "2021-02-06T12:06:45.198001Z",
     "iopub.status.busy": "2021-02-06T12:06:45.197375Z",
     "iopub.status.idle": "2021-02-06T12:06:45.199788Z",
     "shell.execute_reply": "2021-02-06T12:06:45.199343Z"
    },
    "papermill": {
     "duration": 0.035123,
     "end_time": "2021-02-06T12:06:45.199893",
     "exception": false,
     "start_time": "2021-02-06T12:06:45.164770",
     "status": "completed"
    },
    "tags": []
   },
   "outputs": [],
   "source": [
    "#hide\n",
    "# g = g[cols]"
   ]
  },
  {
   "cell_type": "code",
   "execution_count": 39,
   "id": "structured-mobile",
   "metadata": {
    "execution": {
     "iopub.execute_input": "2021-02-06T12:06:45.262057Z",
     "iopub.status.busy": "2021-02-06T12:06:45.261461Z",
     "iopub.status.idle": "2021-02-06T12:06:45.263748Z",
     "shell.execute_reply": "2021-02-06T12:06:45.263301Z"
    },
    "papermill": {
     "duration": 0.035263,
     "end_time": "2021-02-06T12:06:45.263858",
     "exception": false,
     "start_time": "2021-02-06T12:06:45.228595",
     "status": "completed"
    },
    "tags": []
   },
   "outputs": [],
   "source": [
    "# #hide\n",
    "# g = g[g.group.notna()]"
   ]
  },
  {
   "cell_type": "code",
   "execution_count": 40,
   "id": "determined-closing",
   "metadata": {
    "execution": {
     "iopub.execute_input": "2021-02-06T12:06:45.333215Z",
     "iopub.status.busy": "2021-02-06T12:06:45.332618Z",
     "iopub.status.idle": "2021-02-06T12:06:45.334802Z",
     "shell.execute_reply": "2021-02-06T12:06:45.334354Z"
    },
    "papermill": {
     "duration": 0.034943,
     "end_time": "2021-02-06T12:06:45.334909",
     "exception": false,
     "start_time": "2021-02-06T12:06:45.299966",
     "status": "completed"
    },
    "tags": []
   },
   "outputs": [],
   "source": [
    "# #hide\n",
    "# colors = dict(zip(\n",
    "#     [\"Oceania\", \"Europe\", \"Asia\", \"South America\", \"Middle East\", \"North America\", \"Africa\"],\n",
    "#     [\"#adb0ff\", \"#ffb3ff\", \"#90d595\", \"#e48381\", \"#aafbff\", \"#f7bb5f\", \"#eafb50\"]\n",
    "# ))\n",
    "# group_lk = g.set_index('name')['group'].to_dict()"
   ]
  },
  {
   "cell_type": "code",
   "execution_count": null,
   "id": "gross-drinking",
   "metadata": {
    "papermill": {
     "duration": 0.029622,
     "end_time": "2021-02-06T12:06:45.394401",
     "exception": false,
     "start_time": "2021-02-06T12:06:45.364779",
     "status": "completed"
    },
    "tags": []
   },
   "outputs": [],
   "source": []
  },
  {
   "cell_type": "code",
   "execution_count": 41,
   "id": "subject-macintosh",
   "metadata": {
    "execution": {
     "iopub.execute_input": "2021-02-06T12:06:45.459447Z",
     "iopub.status.busy": "2021-02-06T12:06:45.458389Z",
     "iopub.status.idle": "2021-02-06T12:06:45.460237Z",
     "shell.execute_reply": "2021-02-06T12:06:45.460771Z"
    },
    "papermill": {
     "duration": 0.036056,
     "end_time": "2021-02-06T12:06:45.460893",
     "exception": false,
     "start_time": "2021-02-06T12:06:45.424837",
     "status": "completed"
    },
    "tags": []
   },
   "outputs": [],
   "source": [
    "# #hide\n",
    "# fig, ax = plt.subplots(figsize=(15, 8))\n",
    "\n",
    "# def draw_barchart(current_day):\n",
    "#     dff = g[g['day'].eq(current_day)].sort_values(by='value', ascending=True).tail(10)\n",
    "#     ax.clear()\n",
    "#     ax.barh(dff['name'], dff['value'], color=[colors[group_lk[x]] for x in dff['name']])\n",
    "#     dx = dff['value'].max() / 200\n",
    "    \n",
    "#     for i, (value, name) in enumerate(zip(dff['value'], dff['name'])):\n",
    "#         ax.text(value-dx, i,     name,           size=14, weight=600, ha='right', va='bottom')\n",
    "#         ax.text(value-dx, i-.25, group_lk[name], size=10, color='#444444', ha='right', va='baseline')\n",
    "#         ax.text(value+dx, i,     f'{value:,.0f}',  size=14, ha='left',  va='center')\n",
    "#     ax.text(1, 0.4, current_day, transform=ax.transAxes, color='#777777', size=46, ha='right', weight=800)\n",
    "#     ax.text(0, 1.06, 'Population (thousands)', transform=ax.transAxes, size=12, color='#777777')\n",
    "#     ax.xaxis.set_major_formatter(ticker.StrMethodFormatter('{x:,.0f}'))\n",
    "#     ax.xaxis.set_ticks_position('top')\n",
    "#     ax.tick_params(axis='x', colors='#777777', labelsize=12)\n",
    "#     ax.set_yticks([])\n",
    "#     ax.margins(0, 0.01)\n",
    "#     ax.grid(which='major', axis='x', linestyle='-')\n",
    "#     ax.set_axisbelow(True)\n",
    "    \n",
    "#     ax.text(0, 1.15, 'Coronavirus',\n",
    "#             transform=ax.transAxes, size=24, weight=600, ha='left', va='top')\n",
    "# #     ax.text(1, 0, 'by @pratapvardhan; credit @jburnmurdoch', transform=ax.transAxes, color='#777777', ha='right',\n",
    "# #             bbox=dict(facecolor='white', alpha=0.8, edgecolor='white'))\n",
    "#     plt.box(False)"
   ]
  },
  {
   "cell_type": "code",
   "execution_count": 42,
   "id": "sexual-wages",
   "metadata": {
    "execution": {
     "iopub.execute_input": "2021-02-06T12:06:45.527618Z",
     "iopub.status.busy": "2021-02-06T12:06:45.527004Z",
     "iopub.status.idle": "2021-02-06T12:06:45.529447Z",
     "shell.execute_reply": "2021-02-06T12:06:45.529001Z"
    },
    "papermill": {
     "duration": 0.03672,
     "end_time": "2021-02-06T12:06:45.529576",
     "exception": false,
     "start_time": "2021-02-06T12:06:45.492856",
     "status": "completed"
    },
    "tags": []
   },
   "outputs": [],
   "source": [
    "# #hide_input\n",
    "# fig, ax = plt.subplots(figsize=(15, 8))\n",
    "# animator = animation.FuncAnimation(fig, draw_barchart, frames=range(g.day.values.min(), g.day.values.max()))\n",
    "# HTML(animator.to_jshtml())\n",
    "# # or use animator.to_html5_video() or animator.save() "
   ]
  },
  {
   "cell_type": "code",
   "execution_count": null,
   "id": "australian-container",
   "metadata": {
    "papermill": {
     "duration": 0.031936,
     "end_time": "2021-02-06T12:06:45.592084",
     "exception": false,
     "start_time": "2021-02-06T12:06:45.560148",
     "status": "completed"
    },
    "tags": []
   },
   "outputs": [],
   "source": []
  },
  {
   "cell_type": "code",
   "execution_count": null,
   "id": "mediterranean-pontiac",
   "metadata": {
    "papermill": {
     "duration": 0.032779,
     "end_time": "2021-02-06T12:06:45.658004",
     "exception": false,
     "start_time": "2021-02-06T12:06:45.625225",
     "status": "completed"
    },
    "tags": []
   },
   "outputs": [],
   "source": []
  },
  {
   "cell_type": "code",
   "execution_count": null,
   "id": "aging-legislature",
   "metadata": {
    "papermill": {
     "duration": 0.029856,
     "end_time": "2021-02-06T12:06:45.717675",
     "exception": false,
     "start_time": "2021-02-06T12:06:45.687819",
     "status": "completed"
    },
    "tags": []
   },
   "outputs": [],
   "source": []
  }
 ],
 "metadata": {
  "kernelspec": {
   "display_name": "Python 3",
   "language": "python",
   "name": "python3"
  },
  "language_info": {
   "codemirror_mode": {
    "name": "ipython",
    "version": 3
   },
   "file_extension": ".py",
   "mimetype": "text/x-python",
   "name": "python",
   "nbconvert_exporter": "python",
   "pygments_lexer": "ipython3",
   "version": "3.6.12"
  },
  "papermill": {
   "duration": 6.040778,
   "end_time": "2021-02-06T12:06:46.058411",
   "environment_variables": {},
   "exception": null,
   "input_path": "2020-03-21-covid19exp.ipynb",
   "output_path": "2020-03-21-covid19exp.ipynb",
   "parameters": {},
   "start_time": "2021-02-06T12:06:40.017633",
   "version": "2.0.0"
  }
 },
 "nbformat": 4,
 "nbformat_minor": 5
}