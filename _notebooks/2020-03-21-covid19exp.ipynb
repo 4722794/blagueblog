{
 "cells": [
  {
   "cell_type": "markdown",
   "id": "muslim-click",
   "metadata": {
    "papermill": {
     "duration": 0.034046,
     "end_time": "2022-04-24T12:13:28.902918",
     "exception": false,
     "start_time": "2022-04-24T12:13:28.868872",
     "status": "completed"
    },
    "tags": []
   },
   "source": [
    "# COVID-19 Case Race\n",
    "> A race chart to see rising cases around the world\n",
    "\n",
    "- author: Hargun Oberoi\n",
    "- image: images/covid-overview.png\n",
    "- hide: false\n",
    "- badges: false"
   ]
  },
  {
   "cell_type": "code",
   "execution_count": 1,
   "id": "proof-material",
   "metadata": {
    "execution": {
     "iopub.execute_input": "2022-04-24T12:13:28.977164Z",
     "iopub.status.busy": "2022-04-24T12:13:28.976612Z",
     "iopub.status.idle": "2022-04-24T12:13:29.281801Z",
     "shell.execute_reply": "2022-04-24T12:13:29.281349Z"
    },
    "papermill": {
     "duration": 0.347034,
     "end_time": "2022-04-24T12:13:29.281928",
     "exception": false,
     "start_time": "2022-04-24T12:13:28.934894",
     "status": "completed"
    },
    "tags": []
   },
   "outputs": [],
   "source": [
    "#hide\n",
    "import numpy as np\n",
    "import pandas as pd\n",
    "from jinja2 import Template\n",
    "from IPython.display import HTML"
   ]
  },
  {
   "cell_type": "code",
   "execution_count": 2,
   "id": "developed-terminology",
   "metadata": {
    "execution": {
     "iopub.execute_input": "2022-04-24T12:13:29.347434Z",
     "iopub.status.busy": "2022-04-24T12:13:29.346908Z",
     "iopub.status.idle": "2022-04-24T12:13:29.348876Z",
     "shell.execute_reply": "2022-04-24T12:13:29.348439Z"
    },
    "papermill": {
     "duration": 0.036516,
     "end_time": "2022-04-24T12:13:29.348977",
     "exception": false,
     "start_time": "2022-04-24T12:13:29.312461",
     "status": "completed"
    },
    "tags": []
   },
   "outputs": [],
   "source": [
    "#hide\n",
    "\n",
    "# FETCH\n",
    "base_url = 'https://raw.githubusercontent.com/pratapvardhan/notebooks/master/covid19/'\n",
    "paths = {\n",
    "    'mapping': base_url + 'mapping_countries.csv',\n",
    "    'overview': base_url + 'overview.tpl'\n",
    "}"
   ]
  },
  {
   "cell_type": "code",
   "execution_count": 3,
   "id": "dynamic-saver",
   "metadata": {
    "execution": {
     "iopub.execute_input": "2022-04-24T12:13:29.417417Z",
     "iopub.status.busy": "2022-04-24T12:13:29.416918Z",
     "iopub.status.idle": "2022-04-24T12:13:29.420735Z",
     "shell.execute_reply": "2022-04-24T12:13:29.420313Z"
    },
    "papermill": {
     "duration": 0.041369,
     "end_time": "2022-04-24T12:13:29.420837",
     "exception": false,
     "start_time": "2022-04-24T12:13:29.379468",
     "status": "completed"
    },
    "tags": []
   },
   "outputs": [
    {
     "data": {
      "text/plain": [
       "'https://raw.githubusercontent.com/pratapvardhan/notebooks/master/covid19/mapping_countries.csv'"
      ]
     },
     "execution_count": 3,
     "metadata": {},
     "output_type": "execute_result"
    }
   ],
   "source": [
    "#hide\n",
    "paths['mapping']"
   ]
  },
  {
   "cell_type": "code",
   "execution_count": 4,
   "id": "urban-software",
   "metadata": {
    "execution": {
     "iopub.execute_input": "2022-04-24T12:13:29.487263Z",
     "iopub.status.busy": "2022-04-24T12:13:29.486761Z",
     "iopub.status.idle": "2022-04-24T12:13:29.488660Z",
     "shell.execute_reply": "2022-04-24T12:13:29.488258Z"
    },
    "papermill": {
     "duration": 0.037049,
     "end_time": "2022-04-24T12:13:29.488774",
     "exception": false,
     "start_time": "2022-04-24T12:13:29.451725",
     "status": "completed"
    },
    "tags": []
   },
   "outputs": [],
   "source": [
    "#hide\n",
    "def get_mappings(url):\n",
    "    df = pd.read_csv(url)\n",
    "    return {\n",
    "        'df': df,\n",
    "        'replace.country': dict(df.dropna(subset=['Name']).set_index('Country')['Name']),\n",
    "        'map.continent': dict(df.set_index('Name')['Continent'])\n",
    "    }"
   ]
  },
  {
   "cell_type": "code",
   "execution_count": 5,
   "id": "intimate-machinery",
   "metadata": {
    "execution": {
     "iopub.execute_input": "2022-04-24T12:13:29.555325Z",
     "iopub.status.busy": "2022-04-24T12:13:29.554817Z",
     "iopub.status.idle": "2022-04-24T12:13:29.579211Z",
     "shell.execute_reply": "2022-04-24T12:13:29.579620Z"
    },
    "papermill": {
     "duration": 0.060135,
     "end_time": "2022-04-24T12:13:29.579736",
     "exception": false,
     "start_time": "2022-04-24T12:13:29.519601",
     "status": "completed"
    },
    "tags": []
   },
   "outputs": [],
   "source": [
    "#hide\n",
    "mapping = get_mappings(paths['mapping'])"
   ]
  },
  {
   "cell_type": "code",
   "execution_count": 6,
   "id": "certified-tactics",
   "metadata": {
    "execution": {
     "iopub.execute_input": "2022-04-24T12:13:29.645769Z",
     "iopub.status.busy": "2022-04-24T12:13:29.645254Z",
     "iopub.status.idle": "2022-04-24T12:13:29.647241Z",
     "shell.execute_reply": "2022-04-24T12:13:29.646814Z"
    },
    "papermill": {
     "duration": 0.036727,
     "end_time": "2022-04-24T12:13:29.647337",
     "exception": false,
     "start_time": "2022-04-24T12:13:29.610610",
     "status": "completed"
    },
    "tags": []
   },
   "outputs": [],
   "source": [
    "#hide\n",
    "def get_template(path):\n",
    "    from urllib.parse import urlparse\n",
    "    if bool(urlparse(path).netloc):\n",
    "        from urllib.request import urlopen\n",
    "        return urlopen(path).read().decode('utf8')\n",
    "    return open(path).read()"
   ]
  },
  {
   "cell_type": "code",
   "execution_count": 7,
   "id": "realistic-blast",
   "metadata": {
    "execution": {
     "iopub.execute_input": "2022-04-24T12:13:29.713185Z",
     "iopub.status.busy": "2022-04-24T12:13:29.712650Z",
     "iopub.status.idle": "2022-04-24T12:13:29.714392Z",
     "shell.execute_reply": "2022-04-24T12:13:29.714782Z"
    },
    "papermill": {
     "duration": 0.036603,
     "end_time": "2022-04-24T12:13:29.714892",
     "exception": false,
     "start_time": "2022-04-24T12:13:29.678289",
     "status": "completed"
    },
    "tags": []
   },
   "outputs": [],
   "source": [
    "#hide\n",
    "def get_frame(name):\n",
    "    url = (\n",
    "        'https://raw.githubusercontent.com/CSSEGISandData/COVID-19/master/csse_covid_19_data/'\n",
    "        f'csse_covid_19_time_series/time_series_covid19_{name}_global.csv')\n",
    "    df = pd.read_csv(url)\n",
    "    # rename countries\n",
    "    df['Country/Region'] = df['Country/Region'].replace(mapping['replace.country'])\n",
    "    return df"
   ]
  },
  {
   "cell_type": "code",
   "execution_count": 8,
   "id": "affiliated-characterization",
   "metadata": {
    "execution": {
     "iopub.execute_input": "2022-04-24T12:13:29.782104Z",
     "iopub.status.busy": "2022-04-24T12:13:29.781592Z",
     "iopub.status.idle": "2022-04-24T12:13:29.783232Z",
     "shell.execute_reply": "2022-04-24T12:13:29.783601Z"
    },
    "papermill": {
     "duration": 0.038,
     "end_time": "2022-04-24T12:13:29.783716",
     "exception": false,
     "start_time": "2022-04-24T12:13:29.745716",
     "status": "completed"
    },
    "tags": []
   },
   "outputs": [],
   "source": [
    "#hide\n",
    "def get_dates(df):\n",
    "    dt_cols = df.columns[~df.columns.isin(['Province/State', 'Country/Region', 'Lat', 'Long'])]\n",
    "    LAST_DATE_I = -1\n",
    "    # sometimes last column may be empty, then go backwards\n",
    "    for i in range(-1, -len(dt_cols), -1):\n",
    "        if not df[dt_cols[i]].fillna(0).eq(0).all():\n",
    "            LAST_DATE_I = i\n",
    "            break\n",
    "    return LAST_DATE_I, dt_cols"
   ]
  },
  {
   "cell_type": "code",
   "execution_count": 9,
   "id": "recent-optimization",
   "metadata": {
    "execution": {
     "iopub.execute_input": "2022-04-24T12:13:29.850081Z",
     "iopub.status.busy": "2022-04-24T12:13:29.849557Z",
     "iopub.status.idle": "2022-04-24T12:13:30.189228Z",
     "shell.execute_reply": "2022-04-24T12:13:30.189679Z"
    },
    "papermill": {
     "duration": 0.375475,
     "end_time": "2022-04-24T12:13:30.189810",
     "exception": false,
     "start_time": "2022-04-24T12:13:29.814335",
     "status": "completed"
    },
    "tags": []
   },
   "outputs": [],
   "source": [
    "#hide\n",
    "COL_REGION = 'Country/Region'\n",
    "# Confirmed, Recovered, Deaths\n",
    "df = get_frame('confirmed')\n",
    "# dft_: timeseries, dfc_: today country agg\n",
    "dft_cases = df\n",
    "dft_deaths = get_frame('deaths')\n",
    "dft_recovered = get_frame('recovered')\n",
    "LAST_DATE_I, dt_cols = get_dates(df)"
   ]
  },
  {
   "cell_type": "code",
   "execution_count": 10,
   "id": "absolute-copper",
   "metadata": {
    "execution": {
     "iopub.execute_input": "2022-04-24T12:13:30.256235Z",
     "iopub.status.busy": "2022-04-24T12:13:30.255705Z",
     "iopub.status.idle": "2022-04-24T12:13:30.257676Z",
     "shell.execute_reply": "2022-04-24T12:13:30.257283Z"
    },
    "papermill": {
     "duration": 0.036993,
     "end_time": "2022-04-24T12:13:30.257775",
     "exception": false,
     "start_time": "2022-04-24T12:13:30.220782",
     "status": "completed"
    },
    "tags": []
   },
   "outputs": [],
   "source": [
    "#hide\n",
    "LAST_DATE_I, dt_cols = get_dates(df)\n",
    "dt_today =dt_cols[LAST_DATE_I]\n",
    "# dt_5day = dt_cols[LAST_DATE_I - 5]\n",
    "dt_yday = dt_cols[LAST_DATE_I - 1]"
   ]
  },
  {
   "cell_type": "code",
   "execution_count": 11,
   "id": "restricted-sheriff",
   "metadata": {
    "execution": {
     "iopub.execute_input": "2022-04-24T12:13:30.325482Z",
     "iopub.status.busy": "2022-04-24T12:13:30.324983Z",
     "iopub.status.idle": "2022-04-24T12:13:30.330279Z",
     "shell.execute_reply": "2022-04-24T12:13:30.330664Z"
    },
    "papermill": {
     "duration": 0.042406,
     "end_time": "2022-04-24T12:13:30.330780",
     "exception": false,
     "start_time": "2022-04-24T12:13:30.288374",
     "status": "completed"
    },
    "tags": []
   },
   "outputs": [],
   "source": [
    "#hide\n",
    "dfc_cases = dft_cases.groupby(COL_REGION)[dt_today].sum()\n",
    "dfc_deaths = dft_deaths.groupby(COL_REGION)[dt_today].sum()\n",
    "# dfp_cases = dft_cases.groupby(COL_REGION)[dt_5day].sum()\n",
    "# dfp_deaths = dft_deaths.groupby(COL_REGION)[dt_5day].sum()\n",
    "dfp_cases = dft_cases.groupby(COL_REGION)[dt_yday].sum()\n",
    "dfp_deaths = dft_deaths.groupby(COL_REGION)[dt_yday].sum()"
   ]
  },
  {
   "cell_type": "code",
   "execution_count": 12,
   "id": "deluxe-hepatitis",
   "metadata": {
    "execution": {
     "iopub.execute_input": "2022-04-24T12:13:30.397583Z",
     "iopub.status.busy": "2022-04-24T12:13:30.397091Z",
     "iopub.status.idle": "2022-04-24T12:13:30.400845Z",
     "shell.execute_reply": "2022-04-24T12:13:30.401217Z"
    },
    "papermill": {
     "duration": 0.039915,
     "end_time": "2022-04-24T12:13:30.401327",
     "exception": false,
     "start_time": "2022-04-24T12:13:30.361412",
     "status": "completed"
    },
    "tags": []
   },
   "outputs": [],
   "source": [
    "#hide\n",
    "df_table = (pd.DataFrame(dict(Cases = dfc_cases, Deaths = dfc_deaths, PCases = dfp_cases, PDeaths = dfp_deaths))\n",
    "            .sort_values(by = ['Cases','Deaths'], ascending = [False, False])\n",
    "            .reset_index())"
   ]
  },
  {
   "cell_type": "code",
   "execution_count": 13,
   "id": "educational-chancellor",
   "metadata": {
    "execution": {
     "iopub.execute_input": "2022-04-24T12:13:30.478802Z",
     "iopub.status.busy": "2022-04-24T12:13:30.478288Z",
     "iopub.status.idle": "2022-04-24T12:13:30.486331Z",
     "shell.execute_reply": "2022-04-24T12:13:30.486737Z"
    },
    "papermill": {
     "duration": 0.054889,
     "end_time": "2022-04-24T12:13:30.486848",
     "exception": false,
     "start_time": "2022-04-24T12:13:30.431959",
     "status": "completed"
    },
    "tags": []
   },
   "outputs": [
    {
     "data": {
      "text/html": [
       "<div>\n",
       "<style scoped>\n",
       "    .dataframe tbody tr th:only-of-type {\n",
       "        vertical-align: middle;\n",
       "    }\n",
       "\n",
       "    .dataframe tbody tr th {\n",
       "        vertical-align: top;\n",
       "    }\n",
       "\n",
       "    .dataframe thead th {\n",
       "        text-align: right;\n",
       "    }\n",
       "</style>\n",
       "<table border=\"1\" class=\"dataframe\">\n",
       "  <thead>\n",
       "    <tr style=\"text-align: right;\">\n",
       "      <th></th>\n",
       "      <th>Country/Region</th>\n",
       "      <th>Cases</th>\n",
       "      <th>Deaths</th>\n",
       "      <th>PCases</th>\n",
       "      <th>PDeaths</th>\n",
       "      <th>Cases (+)</th>\n",
       "      <th>Deaths (+)</th>\n",
       "      <th>Fatality Rate</th>\n",
       "      <th>Continent</th>\n",
       "    </tr>\n",
       "  </thead>\n",
       "  <tbody>\n",
       "    <tr>\n",
       "      <th>0</th>\n",
       "      <td>US</td>\n",
       "      <td>80971930</td>\n",
       "      <td>991231</td>\n",
       "      <td>80952268</td>\n",
       "      <td>991169</td>\n",
       "      <td>19662</td>\n",
       "      <td>62</td>\n",
       "      <td>1.22</td>\n",
       "      <td>North America</td>\n",
       "    </tr>\n",
       "    <tr>\n",
       "      <th>1</th>\n",
       "      <td>India</td>\n",
       "      <td>43057545</td>\n",
       "      <td>522193</td>\n",
       "      <td>43054952</td>\n",
       "      <td>522149</td>\n",
       "      <td>2593</td>\n",
       "      <td>44</td>\n",
       "      <td>1.21</td>\n",
       "      <td>Asia</td>\n",
       "    </tr>\n",
       "    <tr>\n",
       "      <th>2</th>\n",
       "      <td>Brazil</td>\n",
       "      <td>30345808</td>\n",
       "      <td>662855</td>\n",
       "      <td>30338697</td>\n",
       "      <td>662802</td>\n",
       "      <td>7111</td>\n",
       "      <td>53</td>\n",
       "      <td>2.18</td>\n",
       "      <td>South America</td>\n",
       "    </tr>\n",
       "    <tr>\n",
       "      <th>3</th>\n",
       "      <td>France</td>\n",
       "      <td>28435100</td>\n",
       "      <td>146057</td>\n",
       "      <td>28354529</td>\n",
       "      <td>145982</td>\n",
       "      <td>80571</td>\n",
       "      <td>75</td>\n",
       "      <td>0.51</td>\n",
       "      <td>Europe</td>\n",
       "    </tr>\n",
       "    <tr>\n",
       "      <th>4</th>\n",
       "      <td>Germany</td>\n",
       "      <td>24180512</td>\n",
       "      <td>134179</td>\n",
       "      <td>24141333</td>\n",
       "      <td>134155</td>\n",
       "      <td>39179</td>\n",
       "      <td>24</td>\n",
       "      <td>0.55</td>\n",
       "      <td>Europe</td>\n",
       "    </tr>\n",
       "  </tbody>\n",
       "</table>\n",
       "</div>"
      ],
      "text/plain": [
       "  Country/Region     Cases  Deaths    PCases  PDeaths  Cases (+)  Deaths (+)  \\\n",
       "0             US  80971930  991231  80952268   991169      19662          62   \n",
       "1          India  43057545  522193  43054952   522149       2593          44   \n",
       "2         Brazil  30345808  662855  30338697   662802       7111          53   \n",
       "3         France  28435100  146057  28354529   145982      80571          75   \n",
       "4        Germany  24180512  134179  24141333   134155      39179          24   \n",
       "\n",
       "   Fatality Rate      Continent  \n",
       "0           1.22  North America  \n",
       "1           1.21           Asia  \n",
       "2           2.18  South America  \n",
       "3           0.51         Europe  \n",
       "4           0.55         Europe  "
      ]
     },
     "execution_count": 13,
     "metadata": {},
     "output_type": "execute_result"
    }
   ],
   "source": [
    "#hide\n",
    "for c in 'Cases, Deaths'.split(', '):\n",
    "    df_table[f'{c} (+)'] = (df_table[c] - df_table[f'P{c}']).clip(0)\n",
    "    #Clip ça veut dire, les chiffres negatif sont interdit\n",
    "df_table['Fatality Rate'] = (100* df_table['Deaths']/ df_table['Cases']).round(2)\n",
    "df_table['Continent'] = df_table['Country/Region'].map(mapping['map.continent'])\n",
    "df_table.head(5)"
   ]
  },
  {
   "cell_type": "code",
   "execution_count": 14,
   "id": "aboriginal-bulgaria",
   "metadata": {
    "execution": {
     "iopub.execute_input": "2022-04-24T12:13:30.553895Z",
     "iopub.status.busy": "2022-04-24T12:13:30.553370Z",
     "iopub.status.idle": "2022-04-24T12:13:30.555451Z",
     "shell.execute_reply": "2022-04-24T12:13:30.555026Z"
    },
    "papermill": {
     "duration": 0.037352,
     "end_time": "2022-04-24T12:13:30.555547",
     "exception": false,
     "start_time": "2022-04-24T12:13:30.518195",
     "status": "completed"
    },
    "tags": []
   },
   "outputs": [],
   "source": [
    "#hide\n",
    "#delete problematic countries from table\n",
    "df_table = df_table[~df_table['Country/Region'].isin(['Cape Verde', 'Cruise Ship', 'Kosovo'])]"
   ]
  },
  {
   "cell_type": "code",
   "execution_count": 15,
   "id": "fantastic-effect",
   "metadata": {
    "execution": {
     "iopub.execute_input": "2022-04-24T12:13:30.625155Z",
     "iopub.status.busy": "2022-04-24T12:13:30.624427Z",
     "iopub.status.idle": "2022-04-24T12:13:30.642436Z",
     "shell.execute_reply": "2022-04-24T12:13:30.642034Z"
    },
    "papermill": {
     "duration": 0.055491,
     "end_time": "2022-04-24T12:13:30.642536",
     "exception": false,
     "start_time": "2022-04-24T12:13:30.587045",
     "status": "completed"
    },
    "tags": []
   },
   "outputs": [
    {
     "data": {
      "text/html": [
       "<div>\n",
       "<style scoped>\n",
       "    .dataframe tbody tr th:only-of-type {\n",
       "        vertical-align: middle;\n",
       "    }\n",
       "\n",
       "    .dataframe tbody tr th {\n",
       "        vertical-align: top;\n",
       "    }\n",
       "\n",
       "    .dataframe thead th {\n",
       "        text-align: right;\n",
       "    }\n",
       "</style>\n",
       "<table border=\"1\" class=\"dataframe\">\n",
       "  <thead>\n",
       "    <tr style=\"text-align: right;\">\n",
       "      <th></th>\n",
       "      <th>Country/Region</th>\n",
       "      <th>Cases</th>\n",
       "      <th>Deaths</th>\n",
       "      <th>PCases</th>\n",
       "      <th>PDeaths</th>\n",
       "      <th>Cases (+)</th>\n",
       "      <th>Deaths (+)</th>\n",
       "      <th>Fatality Rate</th>\n",
       "      <th>Continent</th>\n",
       "    </tr>\n",
       "  </thead>\n",
       "  <tbody>\n",
       "    <tr>\n",
       "      <th>0</th>\n",
       "      <td>US</td>\n",
       "      <td>80971930</td>\n",
       "      <td>991231</td>\n",
       "      <td>80952268</td>\n",
       "      <td>991169</td>\n",
       "      <td>19662</td>\n",
       "      <td>62</td>\n",
       "      <td>1.2</td>\n",
       "      <td>North America</td>\n",
       "    </tr>\n",
       "    <tr>\n",
       "      <th>1</th>\n",
       "      <td>India</td>\n",
       "      <td>43057545</td>\n",
       "      <td>522193</td>\n",
       "      <td>43054952</td>\n",
       "      <td>522149</td>\n",
       "      <td>2593</td>\n",
       "      <td>44</td>\n",
       "      <td>1.2</td>\n",
       "      <td>Asia</td>\n",
       "    </tr>\n",
       "    <tr>\n",
       "      <th>2</th>\n",
       "      <td>Brazil</td>\n",
       "      <td>30345808</td>\n",
       "      <td>662855</td>\n",
       "      <td>30338697</td>\n",
       "      <td>662802</td>\n",
       "      <td>7111</td>\n",
       "      <td>53</td>\n",
       "      <td>2.2</td>\n",
       "      <td>South America</td>\n",
       "    </tr>\n",
       "    <tr>\n",
       "      <th>3</th>\n",
       "      <td>France</td>\n",
       "      <td>28435100</td>\n",
       "      <td>146057</td>\n",
       "      <td>28354529</td>\n",
       "      <td>145982</td>\n",
       "      <td>80571</td>\n",
       "      <td>75</td>\n",
       "      <td>0.5</td>\n",
       "      <td>Europe</td>\n",
       "    </tr>\n",
       "    <tr>\n",
       "      <th>4</th>\n",
       "      <td>Germany</td>\n",
       "      <td>24180512</td>\n",
       "      <td>134179</td>\n",
       "      <td>24141333</td>\n",
       "      <td>134155</td>\n",
       "      <td>39179</td>\n",
       "      <td>24</td>\n",
       "      <td>0.6</td>\n",
       "      <td>Europe</td>\n",
       "    </tr>\n",
       "  </tbody>\n",
       "</table>\n",
       "</div>"
      ],
      "text/plain": [
       "  Country/Region     Cases  Deaths    PCases  PDeaths  Cases (+)  Deaths (+)  \\\n",
       "0             US  80971930  991231  80952268   991169      19662          62   \n",
       "1          India  43057545  522193  43054952   522149       2593          44   \n",
       "2         Brazil  30345808  662855  30338697   662802       7111          53   \n",
       "3         France  28435100  146057  28354529   145982      80571          75   \n",
       "4        Germany  24180512  134179  24141333   134155      39179          24   \n",
       "\n",
       "   Fatality Rate      Continent  \n",
       "0            1.2  North America  \n",
       "1            1.2           Asia  \n",
       "2            2.2  South America  \n",
       "3            0.5         Europe  \n",
       "4            0.6         Europe  "
      ]
     },
     "execution_count": 15,
     "metadata": {},
     "output_type": "execute_result"
    }
   ],
   "source": [
    "#hide\n",
    "df_table = (pd.DataFrame(dict(Cases=dfc_cases, Deaths=dfc_deaths, PCases=dfp_cases, PDeaths=dfp_deaths))\n",
    "             .sort_values(by=['Cases', 'Deaths'], ascending=[False, False])\n",
    "             .reset_index())\n",
    "df_table.rename(columns={'index': 'Country/Region'}, inplace=True)\n",
    "for c in 'Cases, Deaths'.split(', '):\n",
    "    df_table[f'{c} (+)'] = (df_table[c] - df_table[f'P{c}']).clip(0)  # DATA BUG\n",
    "df_table['Fatality Rate'] = (100 * df_table['Deaths'] / df_table['Cases']).round(1)\n",
    "df_table['Continent'] = df_table['Country/Region'].map(mapping['map.continent'])\n",
    "df_table.head(5)"
   ]
  },
  {
   "cell_type": "code",
   "execution_count": 16,
   "id": "fewer-occasion",
   "metadata": {
    "execution": {
     "iopub.execute_input": "2022-04-24T12:13:30.710111Z",
     "iopub.status.busy": "2022-04-24T12:13:30.709616Z",
     "iopub.status.idle": "2022-04-24T12:13:30.712626Z",
     "shell.execute_reply": "2022-04-24T12:13:30.712230Z"
    },
    "papermill": {
     "duration": 0.038259,
     "end_time": "2022-04-24T12:13:30.712744",
     "exception": false,
     "start_time": "2022-04-24T12:13:30.674485",
     "status": "completed"
    },
    "tags": []
   },
   "outputs": [],
   "source": [
    "#hide\n",
    "#delete problematic countries from table\n",
    "df_table = df_table[~df_table['Country/Region'].isin(['Cape Verde', 'Cruise Ship', 'Kosovo'])]"
   ]
  },
  {
   "cell_type": "code",
   "execution_count": 17,
   "id": "related-center",
   "metadata": {
    "execution": {
     "iopub.execute_input": "2022-04-24T12:13:30.792481Z",
     "iopub.status.busy": "2022-04-24T12:13:30.791968Z",
     "iopub.status.idle": "2022-04-24T12:13:30.795193Z",
     "shell.execute_reply": "2022-04-24T12:13:30.794770Z"
    },
    "papermill": {
     "duration": 0.051032,
     "end_time": "2022-04-24T12:13:30.795289",
     "exception": false,
     "start_time": "2022-04-24T12:13:30.744257",
     "status": "completed"
    },
    "tags": []
   },
   "outputs": [],
   "source": [
    "#hide\n",
    "metrics = [df_table.columns[index] for index in [1,2,5,6]]\n",
    "# s_china = df_table[df_table['Country/Region'].eq('China')][metrics].sum().add_prefix('China ')\n",
    "s_us = df_table[df_table['Country/Region'].eq('US')][metrics].sum().add_prefix('US ')\n",
    "s_eu = df_table[df_table['Continent'].eq('Europe')][metrics].sum().add_prefix('EU ')\n",
    "s_ind = df_table[df_table['Country/Region'].eq('India')][metrics].sum().add_prefix('India ')\n",
    "summary = {'updated': pd.to_datetime(dt_today), 'since': pd.to_datetime(dt_yday)}\n",
    "summary = {'updated': pd.to_datetime(dt_today), 'since': pd.to_datetime(dt_yday)}\n",
    "summary = {**summary, **df_table[metrics].sum(), **s_ind, **s_us, **s_eu}"
   ]
  },
  {
   "cell_type": "code",
   "execution_count": 18,
   "id": "engaging-syndrome",
   "metadata": {
    "execution": {
     "iopub.execute_input": "2022-04-24T12:13:30.863835Z",
     "iopub.status.busy": "2022-04-24T12:13:30.863322Z",
     "iopub.status.idle": "2022-04-24T12:13:30.878762Z",
     "shell.execute_reply": "2022-04-24T12:13:30.878355Z"
    },
    "papermill": {
     "duration": 0.051771,
     "end_time": "2022-04-24T12:13:30.878867",
     "exception": false,
     "start_time": "2022-04-24T12:13:30.827096",
     "status": "completed"
    },
    "tags": []
   },
   "outputs": [],
   "source": [
    "#hide\n",
    "dft_ct_new_cases = dft_cases.groupby(COL_REGION)[dt_cols].sum().diff(axis=1).fillna(0).astype(int)"
   ]
  },
  {
   "cell_type": "code",
   "execution_count": 19,
   "id": "neutral-assignment",
   "metadata": {
    "execution": {
     "iopub.execute_input": "2022-04-24T12:13:30.948308Z",
     "iopub.status.busy": "2022-04-24T12:13:30.947812Z",
     "iopub.status.idle": "2022-04-24T12:13:30.950034Z",
     "shell.execute_reply": "2022-04-24T12:13:30.949634Z"
    },
    "papermill": {
     "duration": 0.03928,
     "end_time": "2022-04-24T12:13:30.950137",
     "exception": false,
     "start_time": "2022-04-24T12:13:30.910857",
     "status": "completed"
    },
    "tags": []
   },
   "outputs": [],
   "source": [
    "#hide\n",
    "everydaycases = dft_ct_new_cases.cumsum(axis=1)"
   ]
  },
  {
   "cell_type": "code",
   "execution_count": 20,
   "id": "parliamentary-calgary",
   "metadata": {
    "execution": {
     "iopub.execute_input": "2022-04-24T12:13:31.017458Z",
     "iopub.status.busy": "2022-04-24T12:13:31.016954Z",
     "iopub.status.idle": "2022-04-24T12:13:31.552259Z",
     "shell.execute_reply": "2022-04-24T12:13:31.551813Z"
    },
    "papermill": {
     "duration": 0.570542,
     "end_time": "2022-04-24T12:13:31.552373",
     "exception": false,
     "start_time": "2022-04-24T12:13:30.981831",
     "status": "completed"
    },
    "tags": []
   },
   "outputs": [],
   "source": [
    "#hide\n",
    "import pandas as pd\n",
    "import matplotlib.pyplot as plt\n",
    "import matplotlib.ticker as ticker\n",
    "import matplotlib.animation as animation\n",
    "from IPython.display import HTML"
   ]
  },
  {
   "cell_type": "code",
   "execution_count": 21,
   "id": "lasting-extraction",
   "metadata": {
    "execution": {
     "iopub.execute_input": "2022-04-24T12:13:31.621511Z",
     "iopub.status.busy": "2022-04-24T12:13:31.620989Z",
     "iopub.status.idle": "2022-04-24T12:13:31.626640Z",
     "shell.execute_reply": "2022-04-24T12:13:31.626252Z"
    },
    "papermill": {
     "duration": 0.042383,
     "end_time": "2022-04-24T12:13:31.626743",
     "exception": false,
     "start_time": "2022-04-24T12:13:31.584360",
     "status": "completed"
    },
    "tags": []
   },
   "outputs": [],
   "source": [
    "#hide\n",
    "t = everydaycases.stack()"
   ]
  },
  {
   "cell_type": "code",
   "execution_count": 22,
   "id": "premier-sleeve",
   "metadata": {
    "execution": {
     "iopub.execute_input": "2022-04-24T12:13:31.694725Z",
     "iopub.status.busy": "2022-04-24T12:13:31.694210Z",
     "iopub.status.idle": "2022-04-24T12:13:31.704226Z",
     "shell.execute_reply": "2022-04-24T12:13:31.703827Z"
    },
    "papermill": {
     "duration": 0.045692,
     "end_time": "2022-04-24T12:13:31.704329",
     "exception": false,
     "start_time": "2022-04-24T12:13:31.658637",
     "status": "completed"
    },
    "tags": []
   },
   "outputs": [],
   "source": [
    "#hide\n",
    "g = t.reset_index(['Country/Region'])"
   ]
  },
  {
   "cell_type": "code",
   "execution_count": 23,
   "id": "distributed-pittsburgh",
   "metadata": {
    "execution": {
     "iopub.execute_input": "2022-04-24T12:13:31.771653Z",
     "iopub.status.busy": "2022-04-24T12:13:31.771148Z",
     "iopub.status.idle": "2022-04-24T12:13:31.773003Z",
     "shell.execute_reply": "2022-04-24T12:13:31.772517Z"
    },
    "papermill": {
     "duration": 0.036924,
     "end_time": "2022-04-24T12:13:31.773104",
     "exception": false,
     "start_time": "2022-04-24T12:13:31.736180",
     "status": "completed"
    },
    "tags": []
   },
   "outputs": [],
   "source": [
    "#hide\n",
    "g.index.name = 'date'"
   ]
  },
  {
   "cell_type": "code",
   "execution_count": 24,
   "id": "naked-donor",
   "metadata": {
    "execution": {
     "iopub.execute_input": "2022-04-24T12:13:31.840217Z",
     "iopub.status.busy": "2022-04-24T12:13:31.839708Z",
     "iopub.status.idle": "2022-04-24T12:13:31.841762Z",
     "shell.execute_reply": "2022-04-24T12:13:31.841305Z"
    },
    "papermill": {
     "duration": 0.03678,
     "end_time": "2022-04-24T12:13:31.841861",
     "exception": false,
     "start_time": "2022-04-24T12:13:31.805081",
     "status": "completed"
    },
    "tags": []
   },
   "outputs": [],
   "source": [
    "# #hide\n",
    "# g = g.reset_index(['date'])"
   ]
  },
  {
   "cell_type": "code",
   "execution_count": 25,
   "id": "incomplete-mustang",
   "metadata": {
    "execution": {
     "iopub.execute_input": "2022-04-24T12:13:31.908172Z",
     "iopub.status.busy": "2022-04-24T12:13:31.907662Z",
     "iopub.status.idle": "2022-04-24T12:13:31.909227Z",
     "shell.execute_reply": "2022-04-24T12:13:31.909623Z"
    },
    "papermill": {
     "duration": 0.036302,
     "end_time": "2022-04-24T12:13:31.909732",
     "exception": false,
     "start_time": "2022-04-24T12:13:31.873430",
     "status": "completed"
    },
    "tags": []
   },
   "outputs": [],
   "source": [
    "#hide\n",
    "# g.head()"
   ]
  },
  {
   "cell_type": "code",
   "execution_count": 26,
   "id": "specific-kruger",
   "metadata": {
    "execution": {
     "iopub.execute_input": "2022-04-24T12:13:31.976385Z",
     "iopub.status.busy": "2022-04-24T12:13:31.975864Z",
     "iopub.status.idle": "2022-04-24T12:13:31.979313Z",
     "shell.execute_reply": "2022-04-24T12:13:31.978911Z"
    },
    "papermill": {
     "duration": 0.037971,
     "end_time": "2022-04-24T12:13:31.979416",
     "exception": false,
     "start_time": "2022-04-24T12:13:31.941445",
     "status": "completed"
    },
    "tags": []
   },
   "outputs": [],
   "source": [
    "#hide\n",
    "# g.columns = ['date','country','cases']"
   ]
  },
  {
   "cell_type": "code",
   "execution_count": 27,
   "id": "tender-conversion",
   "metadata": {
    "execution": {
     "iopub.execute_input": "2022-04-24T12:13:32.045512Z",
     "iopub.status.busy": "2022-04-24T12:13:32.045024Z",
     "iopub.status.idle": "2022-04-24T12:13:32.047040Z",
     "shell.execute_reply": "2022-04-24T12:13:32.046578Z"
    },
    "papermill": {
     "duration": 0.03616,
     "end_time": "2022-04-24T12:13:32.047134",
     "exception": false,
     "start_time": "2022-04-24T12:13:32.010974",
     "status": "completed"
    },
    "tags": []
   },
   "outputs": [],
   "source": [
    "#hide\n",
    "# g['continent'] = g.country"
   ]
  },
  {
   "cell_type": "code",
   "execution_count": 28,
   "id": "substantial-wilderness",
   "metadata": {
    "execution": {
     "iopub.execute_input": "2022-04-24T12:13:32.113518Z",
     "iopub.status.busy": "2022-04-24T12:13:32.113002Z",
     "iopub.status.idle": "2022-04-24T12:13:32.114715Z",
     "shell.execute_reply": "2022-04-24T12:13:32.115093Z"
    },
    "papermill": {
     "duration": 0.036277,
     "end_time": "2022-04-24T12:13:32.115205",
     "exception": false,
     "start_time": "2022-04-24T12:13:32.078928",
     "status": "completed"
    },
    "tags": []
   },
   "outputs": [],
   "source": [
    "#hide\n",
    "# cols = list(g.columns.values)"
   ]
  },
  {
   "cell_type": "code",
   "execution_count": 29,
   "id": "solved-farming",
   "metadata": {
    "execution": {
     "iopub.execute_input": "2022-04-24T12:13:32.181507Z",
     "iopub.status.busy": "2022-04-24T12:13:32.180987Z",
     "iopub.status.idle": "2022-04-24T12:13:32.183299Z",
     "shell.execute_reply": "2022-04-24T12:13:32.182887Z"
    },
    "papermill": {
     "duration": 0.036727,
     "end_time": "2022-04-24T12:13:32.183398",
     "exception": false,
     "start_time": "2022-04-24T12:13:32.146671",
     "status": "completed"
    },
    "tags": []
   },
   "outputs": [],
   "source": [
    "#hide\n",
    "# cols.insert(0, cols.pop())"
   ]
  },
  {
   "cell_type": "code",
   "execution_count": 30,
   "id": "executed-adoption",
   "metadata": {
    "execution": {
     "iopub.execute_input": "2022-04-24T12:13:32.252296Z",
     "iopub.status.busy": "2022-04-24T12:13:32.251803Z",
     "iopub.status.idle": "2022-04-24T12:13:32.253830Z",
     "shell.execute_reply": "2022-04-24T12:13:32.253448Z"
    },
    "papermill": {
     "duration": 0.038917,
     "end_time": "2022-04-24T12:13:32.253925",
     "exception": false,
     "start_time": "2022-04-24T12:13:32.215008",
     "status": "completed"
    },
    "tags": []
   },
   "outputs": [],
   "source": [
    "#hide\n",
    "# g = g[cols]"
   ]
  },
  {
   "cell_type": "code",
   "execution_count": 31,
   "id": "subject-dublin",
   "metadata": {
    "execution": {
     "iopub.execute_input": "2022-04-24T12:13:32.319872Z",
     "iopub.status.busy": "2022-04-24T12:13:32.319363Z",
     "iopub.status.idle": "2022-04-24T12:13:32.321033Z",
     "shell.execute_reply": "2022-04-24T12:13:32.321406Z"
    },
    "papermill": {
     "duration": 0.036092,
     "end_time": "2022-04-24T12:13:32.321515",
     "exception": false,
     "start_time": "2022-04-24T12:13:32.285423",
     "status": "completed"
    },
    "tags": []
   },
   "outputs": [],
   "source": [
    "#hide\n",
    "# g['continent'] = g['continent'].map(mapping['map.continent'])"
   ]
  },
  {
   "cell_type": "code",
   "execution_count": 32,
   "id": "freelance-scout",
   "metadata": {
    "execution": {
     "iopub.execute_input": "2022-04-24T12:13:32.387626Z",
     "iopub.status.busy": "2022-04-24T12:13:32.387108Z",
     "iopub.status.idle": "2022-04-24T12:13:32.388753Z",
     "shell.execute_reply": "2022-04-24T12:13:32.389126Z"
    },
    "papermill": {
     "duration": 0.036145,
     "end_time": "2022-04-24T12:13:32.389235",
     "exception": false,
     "start_time": "2022-04-24T12:13:32.353090",
     "status": "completed"
    },
    "tags": []
   },
   "outputs": [],
   "source": [
    "#hide\n",
    "# g.head()"
   ]
  },
  {
   "cell_type": "code",
   "execution_count": 33,
   "id": "limited-engine",
   "metadata": {
    "execution": {
     "iopub.execute_input": "2022-04-24T12:13:32.455113Z",
     "iopub.status.busy": "2022-04-24T12:13:32.454617Z",
     "iopub.status.idle": "2022-04-24T12:13:32.456811Z",
     "shell.execute_reply": "2022-04-24T12:13:32.456385Z"
    },
    "papermill": {
     "duration": 0.03623,
     "end_time": "2022-04-24T12:13:32.456907",
     "exception": false,
     "start_time": "2022-04-24T12:13:32.420677",
     "status": "completed"
    },
    "tags": []
   },
   "outputs": [],
   "source": [
    "# hide\n",
    "# g['date'] = g['date'].astype('datetime64[ns]')"
   ]
  },
  {
   "cell_type": "code",
   "execution_count": 34,
   "id": "sophisticated-supervisor",
   "metadata": {
    "execution": {
     "iopub.execute_input": "2022-04-24T12:13:32.522926Z",
     "iopub.status.busy": "2022-04-24T12:13:32.522415Z",
     "iopub.status.idle": "2022-04-24T12:13:32.524101Z",
     "shell.execute_reply": "2022-04-24T12:13:32.523642Z"
    },
    "papermill": {
     "duration": 0.035739,
     "end_time": "2022-04-24T12:13:32.524191",
     "exception": false,
     "start_time": "2022-04-24T12:13:32.488452",
     "status": "completed"
    },
    "tags": []
   },
   "outputs": [],
   "source": [
    "#hide\n",
    "# g['date'] = g.date.dt.dayofyear"
   ]
  },
  {
   "cell_type": "code",
   "execution_count": 35,
   "id": "inside-dubai",
   "metadata": {
    "execution": {
     "iopub.execute_input": "2022-04-24T12:13:32.590556Z",
     "iopub.status.busy": "2022-04-24T12:13:32.590065Z",
     "iopub.status.idle": "2022-04-24T12:13:32.592281Z",
     "shell.execute_reply": "2022-04-24T12:13:32.591805Z"
    },
    "papermill": {
     "duration": 0.0367,
     "end_time": "2022-04-24T12:13:32.592380",
     "exception": false,
     "start_time": "2022-04-24T12:13:32.555680",
     "status": "completed"
    },
    "tags": []
   },
   "outputs": [],
   "source": [
    "#hide\n",
    "# g = g.rename(columns= {'continent':'group','country':'name','cases':'value'})"
   ]
  },
  {
   "cell_type": "code",
   "execution_count": 36,
   "id": "fleet-motorcycle",
   "metadata": {
    "execution": {
     "iopub.execute_input": "2022-04-24T12:13:32.659387Z",
     "iopub.status.busy": "2022-04-24T12:13:32.658887Z",
     "iopub.status.idle": "2022-04-24T12:13:32.660655Z",
     "shell.execute_reply": "2022-04-24T12:13:32.660185Z"
    },
    "papermill": {
     "duration": 0.036628,
     "end_time": "2022-04-24T12:13:32.660770",
     "exception": false,
     "start_time": "2022-04-24T12:13:32.624142",
     "status": "completed"
    },
    "tags": []
   },
   "outputs": [],
   "source": [
    "#hide\n",
    "# cols = ['name','group','day','value']"
   ]
  },
  {
   "cell_type": "code",
   "execution_count": 37,
   "id": "continued-sleeping",
   "metadata": {
    "execution": {
     "iopub.execute_input": "2022-04-24T12:13:32.727147Z",
     "iopub.status.busy": "2022-04-24T12:13:32.726644Z",
     "iopub.status.idle": "2022-04-24T12:13:32.728806Z",
     "shell.execute_reply": "2022-04-24T12:13:32.728316Z"
    },
    "papermill": {
     "duration": 0.03649,
     "end_time": "2022-04-24T12:13:32.728906",
     "exception": false,
     "start_time": "2022-04-24T12:13:32.692416",
     "status": "completed"
    },
    "tags": []
   },
   "outputs": [],
   "source": [
    "#hide\n",
    "# g.rename(columns= {'date':'day'},inplace = True)"
   ]
  },
  {
   "cell_type": "code",
   "execution_count": 38,
   "id": "major-fight",
   "metadata": {
    "execution": {
     "iopub.execute_input": "2022-04-24T12:13:32.795452Z",
     "iopub.status.busy": "2022-04-24T12:13:32.794934Z",
     "iopub.status.idle": "2022-04-24T12:13:32.796598Z",
     "shell.execute_reply": "2022-04-24T12:13:32.796136Z"
    },
    "papermill": {
     "duration": 0.036083,
     "end_time": "2022-04-24T12:13:32.796720",
     "exception": false,
     "start_time": "2022-04-24T12:13:32.760637",
     "status": "completed"
    },
    "tags": []
   },
   "outputs": [],
   "source": [
    "#hide\n",
    "# g = g[cols]"
   ]
  },
  {
   "cell_type": "code",
   "execution_count": 39,
   "id": "structured-mobile",
   "metadata": {
    "execution": {
     "iopub.execute_input": "2022-04-24T12:13:32.862624Z",
     "iopub.status.busy": "2022-04-24T12:13:32.862116Z",
     "iopub.status.idle": "2022-04-24T12:13:32.863789Z",
     "shell.execute_reply": "2022-04-24T12:13:32.863330Z"
    },
    "papermill": {
     "duration": 0.035572,
     "end_time": "2022-04-24T12:13:32.863881",
     "exception": false,
     "start_time": "2022-04-24T12:13:32.828309",
     "status": "completed"
    },
    "tags": []
   },
   "outputs": [],
   "source": [
    "# #hide\n",
    "# g = g[g.group.notna()]"
   ]
  },
  {
   "cell_type": "code",
   "execution_count": 40,
   "id": "determined-closing",
   "metadata": {
    "execution": {
     "iopub.execute_input": "2022-04-24T12:13:32.932562Z",
     "iopub.status.busy": "2022-04-24T12:13:32.932055Z",
     "iopub.status.idle": "2022-04-24T12:13:32.933797Z",
     "shell.execute_reply": "2022-04-24T12:13:32.934169Z"
    },
    "papermill": {
     "duration": 0.038892,
     "end_time": "2022-04-24T12:13:32.934278",
     "exception": false,
     "start_time": "2022-04-24T12:13:32.895386",
     "status": "completed"
    },
    "tags": []
   },
   "outputs": [],
   "source": [
    "# #hide\n",
    "# colors = dict(zip(\n",
    "#     [\"Oceania\", \"Europe\", \"Asia\", \"South America\", \"Middle East\", \"North America\", \"Africa\"],\n",
    "#     [\"#adb0ff\", \"#ffb3ff\", \"#90d595\", \"#e48381\", \"#aafbff\", \"#f7bb5f\", \"#eafb50\"]\n",
    "# ))\n",
    "# group_lk = g.set_index('name')['group'].to_dict()"
   ]
  },
  {
   "cell_type": "code",
   "execution_count": null,
   "id": "gross-drinking",
   "metadata": {
    "papermill": {
     "duration": 0.031488,
     "end_time": "2022-04-24T12:13:32.997206",
     "exception": false,
     "start_time": "2022-04-24T12:13:32.965718",
     "status": "completed"
    },
    "tags": []
   },
   "outputs": [],
   "source": []
  },
  {
   "cell_type": "code",
   "execution_count": 41,
   "id": "subject-macintosh",
   "metadata": {
    "execution": {
     "iopub.execute_input": "2022-04-24T12:13:33.063681Z",
     "iopub.status.busy": "2022-04-24T12:13:33.063164Z",
     "iopub.status.idle": "2022-04-24T12:13:33.064991Z",
     "shell.execute_reply": "2022-04-24T12:13:33.065366Z"
    },
    "papermill": {
     "duration": 0.036742,
     "end_time": "2022-04-24T12:13:33.065475",
     "exception": false,
     "start_time": "2022-04-24T12:13:33.028733",
     "status": "completed"
    },
    "tags": []
   },
   "outputs": [],
   "source": [
    "# #hide\n",
    "# fig, ax = plt.subplots(figsize=(15, 8))\n",
    "\n",
    "# def draw_barchart(current_day):\n",
    "#     dff = g[g['day'].eq(current_day)].sort_values(by='value', ascending=True).tail(10)\n",
    "#     ax.clear()\n",
    "#     ax.barh(dff['name'], dff['value'], color=[colors[group_lk[x]] for x in dff['name']])\n",
    "#     dx = dff['value'].max() / 200\n",
    "    \n",
    "#     for i, (value, name) in enumerate(zip(dff['value'], dff['name'])):\n",
    "#         ax.text(value-dx, i,     name,           size=14, weight=600, ha='right', va='bottom')\n",
    "#         ax.text(value-dx, i-.25, group_lk[name], size=10, color='#444444', ha='right', va='baseline')\n",
    "#         ax.text(value+dx, i,     f'{value:,.0f}',  size=14, ha='left',  va='center')\n",
    "#     ax.text(1, 0.4, current_day, transform=ax.transAxes, color='#777777', size=46, ha='right', weight=800)\n",
    "#     ax.text(0, 1.06, 'Population (thousands)', transform=ax.transAxes, size=12, color='#777777')\n",
    "#     ax.xaxis.set_major_formatter(ticker.StrMethodFormatter('{x:,.0f}'))\n",
    "#     ax.xaxis.set_ticks_position('top')\n",
    "#     ax.tick_params(axis='x', colors='#777777', labelsize=12)\n",
    "#     ax.set_yticks([])\n",
    "#     ax.margins(0, 0.01)\n",
    "#     ax.grid(which='major', axis='x', linestyle='-')\n",
    "#     ax.set_axisbelow(True)\n",
    "    \n",
    "#     ax.text(0, 1.15, 'Coronavirus',\n",
    "#             transform=ax.transAxes, size=24, weight=600, ha='left', va='top')\n",
    "# #     ax.text(1, 0, 'by @pratapvardhan; credit @jburnmurdoch', transform=ax.transAxes, color='#777777', ha='right',\n",
    "# #             bbox=dict(facecolor='white', alpha=0.8, edgecolor='white'))\n",
    "#     plt.box(False)"
   ]
  },
  {
   "cell_type": "code",
   "execution_count": 42,
   "id": "sexual-wages",
   "metadata": {
    "execution": {
     "iopub.execute_input": "2022-04-24T12:13:33.131597Z",
     "iopub.status.busy": "2022-04-24T12:13:33.131079Z",
     "iopub.status.idle": "2022-04-24T12:13:33.132797Z",
     "shell.execute_reply": "2022-04-24T12:13:33.132316Z"
    },
    "papermill": {
     "duration": 0.035885,
     "end_time": "2022-04-24T12:13:33.132891",
     "exception": false,
     "start_time": "2022-04-24T12:13:33.097006",
     "status": "completed"
    },
    "tags": []
   },
   "outputs": [],
   "source": [
    "# #hide_input\n",
    "# fig, ax = plt.subplots(figsize=(15, 8))\n",
    "# animator = animation.FuncAnimation(fig, draw_barchart, frames=range(g.day.values.min(), g.day.values.max()))\n",
    "# HTML(animator.to_jshtml())\n",
    "# # or use animator.to_html5_video() or animator.save() "
   ]
  },
  {
   "cell_type": "code",
   "execution_count": null,
   "id": "australian-container",
   "metadata": {
    "papermill": {
     "duration": 0.03158,
     "end_time": "2022-04-24T12:13:33.196059",
     "exception": false,
     "start_time": "2022-04-24T12:13:33.164479",
     "status": "completed"
    },
    "tags": []
   },
   "outputs": [],
   "source": []
  },
  {
   "cell_type": "code",
   "execution_count": null,
   "id": "mediterranean-pontiac",
   "metadata": {
    "papermill": {
     "duration": 0.031735,
     "end_time": "2022-04-24T12:13:33.259268",
     "exception": false,
     "start_time": "2022-04-24T12:13:33.227533",
     "status": "completed"
    },
    "tags": []
   },
   "outputs": [],
   "source": []
  },
  {
   "cell_type": "code",
   "execution_count": null,
   "id": "aging-legislature",
   "metadata": {
    "papermill": {
     "duration": 0.031682,
     "end_time": "2022-04-24T12:13:33.322530",
     "exception": false,
     "start_time": "2022-04-24T12:13:33.290848",
     "status": "completed"
    },
    "tags": []
   },
   "outputs": [],
   "source": []
  }
 ],
 "metadata": {
  "kernelspec": {
   "display_name": "Python 3",
   "language": "python",
   "name": "python3"
  },
  "language_info": {
   "codemirror_mode": {
    "name": "ipython",
    "version": 3
   },
   "file_extension": ".py",
   "mimetype": "text/x-python",
   "name": "python",
   "nbconvert_exporter": "python",
   "pygments_lexer": "ipython3",
   "version": "3.6.15"
  },
  "papermill": {
   "duration": 5.717201,
   "end_time": "2022-04-24T12:13:33.671014",
   "environment_variables": {},
   "exception": null,
   "input_path": "2020-03-21-covid19exp.ipynb",
   "output_path": "2020-03-21-covid19exp.ipynb",
   "parameters": {},
   "start_time": "2022-04-24T12:13:27.953813",
   "version": "2.0.0"
  }
 },
 "nbformat": 4,
 "nbformat_minor": 5
}