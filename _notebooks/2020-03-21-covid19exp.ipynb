{
 "cells": [
  {
   "cell_type": "markdown",
   "id": "muslim-click",
   "metadata": {
    "papermill": {
     "duration": 0.033746,
     "end_time": "2022-01-26T12:11:33.622128",
     "exception": false,
     "start_time": "2022-01-26T12:11:33.588382",
     "status": "completed"
    },
    "tags": []
   },
   "source": [
    "# COVID-19 Case Race\n",
    "> A race chart to see rising cases around the world\n",
    "\n",
    "- author: Hargun Oberoi\n",
    "- image: images/covid-overview.png\n",
    "- hide: false\n",
    "- badges: false"
   ]
  },
  {
   "cell_type": "code",
   "execution_count": 1,
   "id": "proof-material",
   "metadata": {
    "execution": {
     "iopub.execute_input": "2022-01-26T12:11:33.691397Z",
     "iopub.status.busy": "2022-01-26T12:11:33.690882Z",
     "iopub.status.idle": "2022-01-26T12:11:34.010990Z",
     "shell.execute_reply": "2022-01-26T12:11:34.010423Z"
    },
    "papermill": {
     "duration": 0.359281,
     "end_time": "2022-01-26T12:11:34.011150",
     "exception": false,
     "start_time": "2022-01-26T12:11:33.651869",
     "status": "completed"
    },
    "tags": []
   },
   "outputs": [],
   "source": [
    "#hide\n",
    "import numpy as np\n",
    "import pandas as pd\n",
    "from jinja2 import Template\n",
    "from IPython.display import HTML"
   ]
  },
  {
   "cell_type": "code",
   "execution_count": 2,
   "id": "developed-terminology",
   "metadata": {
    "execution": {
     "iopub.execute_input": "2022-01-26T12:11:34.076309Z",
     "iopub.status.busy": "2022-01-26T12:11:34.075685Z",
     "iopub.status.idle": "2022-01-26T12:11:34.077069Z",
     "shell.execute_reply": "2022-01-26T12:11:34.077596Z"
    },
    "papermill": {
     "duration": 0.036176,
     "end_time": "2022-01-26T12:11:34.077747",
     "exception": false,
     "start_time": "2022-01-26T12:11:34.041571",
     "status": "completed"
    },
    "tags": []
   },
   "outputs": [],
   "source": [
    "#hide\n",
    "\n",
    "# FETCH\n",
    "base_url = 'https://raw.githubusercontent.com/pratapvardhan/notebooks/master/covid19/'\n",
    "paths = {\n",
    "    'mapping': base_url + 'mapping_countries.csv',\n",
    "    'overview': base_url + 'overview.tpl'\n",
    "}"
   ]
  },
  {
   "cell_type": "code",
   "execution_count": 3,
   "id": "dynamic-saver",
   "metadata": {
    "execution": {
     "iopub.execute_input": "2022-01-26T12:11:34.146202Z",
     "iopub.status.busy": "2022-01-26T12:11:34.145631Z",
     "iopub.status.idle": "2022-01-26T12:11:34.148401Z",
     "shell.execute_reply": "2022-01-26T12:11:34.147968Z"
    },
    "papermill": {
     "duration": 0.04144,
     "end_time": "2022-01-26T12:11:34.148513",
     "exception": false,
     "start_time": "2022-01-26T12:11:34.107073",
     "status": "completed"
    },
    "tags": []
   },
   "outputs": [
    {
     "data": {
      "text/plain": [
       "'https://raw.githubusercontent.com/pratapvardhan/notebooks/master/covid19/mapping_countries.csv'"
      ]
     },
     "execution_count": 3,
     "metadata": {},
     "output_type": "execute_result"
    }
   ],
   "source": [
    "#hide\n",
    "paths['mapping']"
   ]
  },
  {
   "cell_type": "code",
   "execution_count": 4,
   "id": "urban-software",
   "metadata": {
    "execution": {
     "iopub.execute_input": "2022-01-26T12:11:34.212528Z",
     "iopub.status.busy": "2022-01-26T12:11:34.212012Z",
     "iopub.status.idle": "2022-01-26T12:11:34.215828Z",
     "shell.execute_reply": "2022-01-26T12:11:34.215390Z"
    },
    "papermill": {
     "duration": 0.037909,
     "end_time": "2022-01-26T12:11:34.215936",
     "exception": false,
     "start_time": "2022-01-26T12:11:34.178027",
     "status": "completed"
    },
    "tags": []
   },
   "outputs": [],
   "source": [
    "#hide\n",
    "def get_mappings(url):\n",
    "    df = pd.read_csv(url)\n",
    "    return {\n",
    "        'df': df,\n",
    "        'replace.country': dict(df.dropna(subset=['Name']).set_index('Country')['Name']),\n",
    "        'map.continent': dict(df.set_index('Name')['Continent'])\n",
    "    }"
   ]
  },
  {
   "cell_type": "code",
   "execution_count": 5,
   "id": "intimate-machinery",
   "metadata": {
    "execution": {
     "iopub.execute_input": "2022-01-26T12:11:34.279170Z",
     "iopub.status.busy": "2022-01-26T12:11:34.278662Z",
     "iopub.status.idle": "2022-01-26T12:11:34.320632Z",
     "shell.execute_reply": "2022-01-26T12:11:34.320168Z"
    },
    "papermill": {
     "duration": 0.075509,
     "end_time": "2022-01-26T12:11:34.320757",
     "exception": false,
     "start_time": "2022-01-26T12:11:34.245248",
     "status": "completed"
    },
    "tags": []
   },
   "outputs": [],
   "source": [
    "#hide\n",
    "mapping = get_mappings(paths['mapping'])"
   ]
  },
  {
   "cell_type": "code",
   "execution_count": 6,
   "id": "certified-tactics",
   "metadata": {
    "execution": {
     "iopub.execute_input": "2022-01-26T12:11:34.383919Z",
     "iopub.status.busy": "2022-01-26T12:11:34.383414Z",
     "iopub.status.idle": "2022-01-26T12:11:34.385358Z",
     "shell.execute_reply": "2022-01-26T12:11:34.385823Z"
    },
    "papermill": {
     "duration": 0.0358,
     "end_time": "2022-01-26T12:11:34.385969",
     "exception": false,
     "start_time": "2022-01-26T12:11:34.350169",
     "status": "completed"
    },
    "tags": []
   },
   "outputs": [],
   "source": [
    "#hide\n",
    "def get_template(path):\n",
    "    from urllib.parse import urlparse\n",
    "    if bool(urlparse(path).netloc):\n",
    "        from urllib.request import urlopen\n",
    "        return urlopen(path).read().decode('utf8')\n",
    "    return open(path).read()"
   ]
  },
  {
   "cell_type": "code",
   "execution_count": 7,
   "id": "realistic-blast",
   "metadata": {
    "execution": {
     "iopub.execute_input": "2022-01-26T12:11:34.448778Z",
     "iopub.status.busy": "2022-01-26T12:11:34.448193Z",
     "iopub.status.idle": "2022-01-26T12:11:34.450492Z",
     "shell.execute_reply": "2022-01-26T12:11:34.450051Z"
    },
    "papermill": {
     "duration": 0.035605,
     "end_time": "2022-01-26T12:11:34.450599",
     "exception": false,
     "start_time": "2022-01-26T12:11:34.414994",
     "status": "completed"
    },
    "tags": []
   },
   "outputs": [],
   "source": [
    "#hide\n",
    "def get_frame(name):\n",
    "    url = (\n",
    "        'https://raw.githubusercontent.com/CSSEGISandData/COVID-19/master/csse_covid_19_data/'\n",
    "        f'csse_covid_19_time_series/time_series_covid19_{name}_global.csv')\n",
    "    df = pd.read_csv(url)\n",
    "    # rename countries\n",
    "    df['Country/Region'] = df['Country/Region'].replace(mapping['replace.country'])\n",
    "    return df"
   ]
  },
  {
   "cell_type": "code",
   "execution_count": 8,
   "id": "affiliated-characterization",
   "metadata": {
    "execution": {
     "iopub.execute_input": "2022-01-26T12:11:34.514273Z",
     "iopub.status.busy": "2022-01-26T12:11:34.513667Z",
     "iopub.status.idle": "2022-01-26T12:11:34.515386Z",
     "shell.execute_reply": "2022-01-26T12:11:34.515809Z"
    },
    "papermill": {
     "duration": 0.036088,
     "end_time": "2022-01-26T12:11:34.515929",
     "exception": false,
     "start_time": "2022-01-26T12:11:34.479841",
     "status": "completed"
    },
    "tags": []
   },
   "outputs": [],
   "source": [
    "#hide\n",
    "def get_dates(df):\n",
    "    dt_cols = df.columns[~df.columns.isin(['Province/State', 'Country/Region', 'Lat', 'Long'])]\n",
    "    LAST_DATE_I = -1\n",
    "    # sometimes last column may be empty, then go backwards\n",
    "    for i in range(-1, -len(dt_cols), -1):\n",
    "        if not df[dt_cols[i]].fillna(0).eq(0).all():\n",
    "            LAST_DATE_I = i\n",
    "            break\n",
    "    return LAST_DATE_I, dt_cols"
   ]
  },
  {
   "cell_type": "code",
   "execution_count": 9,
   "id": "recent-optimization",
   "metadata": {
    "execution": {
     "iopub.execute_input": "2022-01-26T12:11:34.577728Z",
     "iopub.status.busy": "2022-01-26T12:11:34.577223Z",
     "iopub.status.idle": "2022-01-26T12:11:35.013637Z",
     "shell.execute_reply": "2022-01-26T12:11:35.013097Z"
    },
    "papermill": {
     "duration": 0.468906,
     "end_time": "2022-01-26T12:11:35.013782",
     "exception": false,
     "start_time": "2022-01-26T12:11:34.544876",
     "status": "completed"
    },
    "tags": []
   },
   "outputs": [],
   "source": [
    "#hide\n",
    "COL_REGION = 'Country/Region'\n",
    "# Confirmed, Recovered, Deaths\n",
    "df = get_frame('confirmed')\n",
    "# dft_: timeseries, dfc_: today country agg\n",
    "dft_cases = df\n",
    "dft_deaths = get_frame('deaths')\n",
    "dft_recovered = get_frame('recovered')\n",
    "LAST_DATE_I, dt_cols = get_dates(df)"
   ]
  },
  {
   "cell_type": "code",
   "execution_count": 10,
   "id": "absolute-copper",
   "metadata": {
    "execution": {
     "iopub.execute_input": "2022-01-26T12:11:35.079441Z",
     "iopub.status.busy": "2022-01-26T12:11:35.078833Z",
     "iopub.status.idle": "2022-01-26T12:11:35.080312Z",
     "shell.execute_reply": "2022-01-26T12:11:35.080771Z"
    },
    "papermill": {
     "duration": 0.036746,
     "end_time": "2022-01-26T12:11:35.080918",
     "exception": false,
     "start_time": "2022-01-26T12:11:35.044172",
     "status": "completed"
    },
    "tags": []
   },
   "outputs": [],
   "source": [
    "#hide\n",
    "LAST_DATE_I, dt_cols = get_dates(df)\n",
    "dt_today =dt_cols[LAST_DATE_I]\n",
    "# dt_5day = dt_cols[LAST_DATE_I - 5]\n",
    "dt_yday = dt_cols[LAST_DATE_I - 1]"
   ]
  },
  {
   "cell_type": "code",
   "execution_count": 11,
   "id": "restricted-sheriff",
   "metadata": {
    "execution": {
     "iopub.execute_input": "2022-01-26T12:11:35.145742Z",
     "iopub.status.busy": "2022-01-26T12:11:35.145238Z",
     "iopub.status.idle": "2022-01-26T12:11:35.152177Z",
     "shell.execute_reply": "2022-01-26T12:11:35.151768Z"
    },
    "papermill": {
     "duration": 0.041591,
     "end_time": "2022-01-26T12:11:35.152287",
     "exception": false,
     "start_time": "2022-01-26T12:11:35.110696",
     "status": "completed"
    },
    "tags": []
   },
   "outputs": [],
   "source": [
    "#hide\n",
    "dfc_cases = dft_cases.groupby(COL_REGION)[dt_today].sum()\n",
    "dfc_deaths = dft_deaths.groupby(COL_REGION)[dt_today].sum()\n",
    "# dfp_cases = dft_cases.groupby(COL_REGION)[dt_5day].sum()\n",
    "# dfp_deaths = dft_deaths.groupby(COL_REGION)[dt_5day].sum()\n",
    "dfp_cases = dft_cases.groupby(COL_REGION)[dt_yday].sum()\n",
    "dfp_deaths = dft_deaths.groupby(COL_REGION)[dt_yday].sum()"
   ]
  },
  {
   "cell_type": "code",
   "execution_count": 12,
   "id": "deluxe-hepatitis",
   "metadata": {
    "execution": {
     "iopub.execute_input": "2022-01-26T12:11:35.217209Z",
     "iopub.status.busy": "2022-01-26T12:11:35.216704Z",
     "iopub.status.idle": "2022-01-26T12:11:35.221244Z",
     "shell.execute_reply": "2022-01-26T12:11:35.220826Z"
    },
    "papermill": {
     "duration": 0.039596,
     "end_time": "2022-01-26T12:11:35.221358",
     "exception": false,
     "start_time": "2022-01-26T12:11:35.181762",
     "status": "completed"
    },
    "tags": []
   },
   "outputs": [],
   "source": [
    "#hide\n",
    "df_table = (pd.DataFrame(dict(Cases = dfc_cases, Deaths = dfc_deaths, PCases = dfp_cases, PDeaths = dfp_deaths))\n",
    "            .sort_values(by = ['Cases','Deaths'], ascending = [False, False])\n",
    "            .reset_index())"
   ]
  },
  {
   "cell_type": "code",
   "execution_count": 13,
   "id": "educational-chancellor",
   "metadata": {
    "execution": {
     "iopub.execute_input": "2022-01-26T12:11:35.298409Z",
     "iopub.status.busy": "2022-01-26T12:11:35.297855Z",
     "iopub.status.idle": "2022-01-26T12:11:35.304860Z",
     "shell.execute_reply": "2022-01-26T12:11:35.305261Z"
    },
    "papermill": {
     "duration": 0.054543,
     "end_time": "2022-01-26T12:11:35.305391",
     "exception": false,
     "start_time": "2022-01-26T12:11:35.250848",
     "status": "completed"
    },
    "tags": []
   },
   "outputs": [
    {
     "data": {
      "text/html": [
       "<div>\n",
       "<style scoped>\n",
       "    .dataframe tbody tr th:only-of-type {\n",
       "        vertical-align: middle;\n",
       "    }\n",
       "\n",
       "    .dataframe tbody tr th {\n",
       "        vertical-align: top;\n",
       "    }\n",
       "\n",
       "    .dataframe thead th {\n",
       "        text-align: right;\n",
       "    }\n",
       "</style>\n",
       "<table border=\"1\" class=\"dataframe\">\n",
       "  <thead>\n",
       "    <tr style=\"text-align: right;\">\n",
       "      <th></th>\n",
       "      <th>Country/Region</th>\n",
       "      <th>Cases</th>\n",
       "      <th>Deaths</th>\n",
       "      <th>PCases</th>\n",
       "      <th>PDeaths</th>\n",
       "      <th>Cases (+)</th>\n",
       "      <th>Deaths (+)</th>\n",
       "      <th>Fatality Rate</th>\n",
       "      <th>Continent</th>\n",
       "    </tr>\n",
       "  </thead>\n",
       "  <tbody>\n",
       "    <tr>\n",
       "      <th>0</th>\n",
       "      <td>US</td>\n",
       "      <td>72171208</td>\n",
       "      <td>871937</td>\n",
       "      <td>71741698</td>\n",
       "      <td>869026</td>\n",
       "      <td>429510</td>\n",
       "      <td>2911</td>\n",
       "      <td>1.21</td>\n",
       "      <td>North America</td>\n",
       "    </tr>\n",
       "    <tr>\n",
       "      <th>1</th>\n",
       "      <td>India</td>\n",
       "      <td>40085116</td>\n",
       "      <td>491127</td>\n",
       "      <td>39799202</td>\n",
       "      <td>490462</td>\n",
       "      <td>285914</td>\n",
       "      <td>665</td>\n",
       "      <td>1.23</td>\n",
       "      <td>Asia</td>\n",
       "    </tr>\n",
       "    <tr>\n",
       "      <th>2</th>\n",
       "      <td>Brazil</td>\n",
       "      <td>24342322</td>\n",
       "      <td>624129</td>\n",
       "      <td>24142032</td>\n",
       "      <td>623636</td>\n",
       "      <td>200290</td>\n",
       "      <td>493</td>\n",
       "      <td>2.56</td>\n",
       "      <td>South America</td>\n",
       "    </tr>\n",
       "    <tr>\n",
       "      <th>3</th>\n",
       "      <td>France</td>\n",
       "      <td>17420569</td>\n",
       "      <td>130483</td>\n",
       "      <td>16917220</td>\n",
       "      <td>130013</td>\n",
       "      <td>503349</td>\n",
       "      <td>470</td>\n",
       "      <td>0.75</td>\n",
       "      <td>Europe</td>\n",
       "    </tr>\n",
       "    <tr>\n",
       "      <th>4</th>\n",
       "      <td>United Kingdom</td>\n",
       "      <td>16158455</td>\n",
       "      <td>154875</td>\n",
       "      <td>16063010</td>\n",
       "      <td>154430</td>\n",
       "      <td>95445</td>\n",
       "      <td>445</td>\n",
       "      <td>0.96</td>\n",
       "      <td>Europe</td>\n",
       "    </tr>\n",
       "  </tbody>\n",
       "</table>\n",
       "</div>"
      ],
      "text/plain": [
       "   Country/Region     Cases  Deaths    PCases  PDeaths  Cases (+)  Deaths (+)  \\\n",
       "0              US  72171208  871937  71741698   869026     429510        2911   \n",
       "1           India  40085116  491127  39799202   490462     285914         665   \n",
       "2          Brazil  24342322  624129  24142032   623636     200290         493   \n",
       "3          France  17420569  130483  16917220   130013     503349         470   \n",
       "4  United Kingdom  16158455  154875  16063010   154430      95445         445   \n",
       "\n",
       "   Fatality Rate      Continent  \n",
       "0           1.21  North America  \n",
       "1           1.23           Asia  \n",
       "2           2.56  South America  \n",
       "3           0.75         Europe  \n",
       "4           0.96         Europe  "
      ]
     },
     "execution_count": 13,
     "metadata": {},
     "output_type": "execute_result"
    }
   ],
   "source": [
    "#hide\n",
    "for c in 'Cases, Deaths'.split(', '):\n",
    "    df_table[f'{c} (+)'] = (df_table[c] - df_table[f'P{c}']).clip(0)\n",
    "    #Clip ça veut dire, les chiffres negatif sont interdit\n",
    "df_table['Fatality Rate'] = (100* df_table['Deaths']/ df_table['Cases']).round(2)\n",
    "df_table['Continent'] = df_table['Country/Region'].map(mapping['map.continent'])\n",
    "df_table.head(5)"
   ]
  },
  {
   "cell_type": "code",
   "execution_count": 14,
   "id": "aboriginal-bulgaria",
   "metadata": {
    "execution": {
     "iopub.execute_input": "2022-01-26T12:11:35.370157Z",
     "iopub.status.busy": "2022-01-26T12:11:35.369626Z",
     "iopub.status.idle": "2022-01-26T12:11:35.372707Z",
     "shell.execute_reply": "2022-01-26T12:11:35.372298Z"
    },
    "papermill": {
     "duration": 0.037541,
     "end_time": "2022-01-26T12:11:35.372815",
     "exception": false,
     "start_time": "2022-01-26T12:11:35.335274",
     "status": "completed"
    },
    "tags": []
   },
   "outputs": [],
   "source": [
    "#hide\n",
    "#delete problematic countries from table\n",
    "df_table = df_table[~df_table['Country/Region'].isin(['Cape Verde', 'Cruise Ship', 'Kosovo'])]"
   ]
  },
  {
   "cell_type": "code",
   "execution_count": 15,
   "id": "fantastic-effect",
   "metadata": {
    "execution": {
     "iopub.execute_input": "2022-01-26T12:11:35.439280Z",
     "iopub.status.busy": "2022-01-26T12:11:35.438777Z",
     "iopub.status.idle": "2022-01-26T12:11:35.456822Z",
     "shell.execute_reply": "2022-01-26T12:11:35.456356Z"
    },
    "papermill": {
     "duration": 0.054495,
     "end_time": "2022-01-26T12:11:35.456946",
     "exception": false,
     "start_time": "2022-01-26T12:11:35.402451",
     "status": "completed"
    },
    "tags": []
   },
   "outputs": [
    {
     "data": {
      "text/html": [
       "<div>\n",
       "<style scoped>\n",
       "    .dataframe tbody tr th:only-of-type {\n",
       "        vertical-align: middle;\n",
       "    }\n",
       "\n",
       "    .dataframe tbody tr th {\n",
       "        vertical-align: top;\n",
       "    }\n",
       "\n",
       "    .dataframe thead th {\n",
       "        text-align: right;\n",
       "    }\n",
       "</style>\n",
       "<table border=\"1\" class=\"dataframe\">\n",
       "  <thead>\n",
       "    <tr style=\"text-align: right;\">\n",
       "      <th></th>\n",
       "      <th>Country/Region</th>\n",
       "      <th>Cases</th>\n",
       "      <th>Deaths</th>\n",
       "      <th>PCases</th>\n",
       "      <th>PDeaths</th>\n",
       "      <th>Cases (+)</th>\n",
       "      <th>Deaths (+)</th>\n",
       "      <th>Fatality Rate</th>\n",
       "      <th>Continent</th>\n",
       "    </tr>\n",
       "  </thead>\n",
       "  <tbody>\n",
       "    <tr>\n",
       "      <th>0</th>\n",
       "      <td>US</td>\n",
       "      <td>72171208</td>\n",
       "      <td>871937</td>\n",
       "      <td>71741698</td>\n",
       "      <td>869026</td>\n",
       "      <td>429510</td>\n",
       "      <td>2911</td>\n",
       "      <td>1.2</td>\n",
       "      <td>North America</td>\n",
       "    </tr>\n",
       "    <tr>\n",
       "      <th>1</th>\n",
       "      <td>India</td>\n",
       "      <td>40085116</td>\n",
       "      <td>491127</td>\n",
       "      <td>39799202</td>\n",
       "      <td>490462</td>\n",
       "      <td>285914</td>\n",
       "      <td>665</td>\n",
       "      <td>1.2</td>\n",
       "      <td>Asia</td>\n",
       "    </tr>\n",
       "    <tr>\n",
       "      <th>2</th>\n",
       "      <td>Brazil</td>\n",
       "      <td>24342322</td>\n",
       "      <td>624129</td>\n",
       "      <td>24142032</td>\n",
       "      <td>623636</td>\n",
       "      <td>200290</td>\n",
       "      <td>493</td>\n",
       "      <td>2.6</td>\n",
       "      <td>South America</td>\n",
       "    </tr>\n",
       "    <tr>\n",
       "      <th>3</th>\n",
       "      <td>France</td>\n",
       "      <td>17420569</td>\n",
       "      <td>130483</td>\n",
       "      <td>16917220</td>\n",
       "      <td>130013</td>\n",
       "      <td>503349</td>\n",
       "      <td>470</td>\n",
       "      <td>0.7</td>\n",
       "      <td>Europe</td>\n",
       "    </tr>\n",
       "    <tr>\n",
       "      <th>4</th>\n",
       "      <td>United Kingdom</td>\n",
       "      <td>16158455</td>\n",
       "      <td>154875</td>\n",
       "      <td>16063010</td>\n",
       "      <td>154430</td>\n",
       "      <td>95445</td>\n",
       "      <td>445</td>\n",
       "      <td>1.0</td>\n",
       "      <td>Europe</td>\n",
       "    </tr>\n",
       "  </tbody>\n",
       "</table>\n",
       "</div>"
      ],
      "text/plain": [
       "   Country/Region     Cases  Deaths    PCases  PDeaths  Cases (+)  Deaths (+)  \\\n",
       "0              US  72171208  871937  71741698   869026     429510        2911   \n",
       "1           India  40085116  491127  39799202   490462     285914         665   \n",
       "2          Brazil  24342322  624129  24142032   623636     200290         493   \n",
       "3          France  17420569  130483  16917220   130013     503349         470   \n",
       "4  United Kingdom  16158455  154875  16063010   154430      95445         445   \n",
       "\n",
       "   Fatality Rate      Continent  \n",
       "0            1.2  North America  \n",
       "1            1.2           Asia  \n",
       "2            2.6  South America  \n",
       "3            0.7         Europe  \n",
       "4            1.0         Europe  "
      ]
     },
     "execution_count": 15,
     "metadata": {},
     "output_type": "execute_result"
    }
   ],
   "source": [
    "#hide\n",
    "df_table = (pd.DataFrame(dict(Cases=dfc_cases, Deaths=dfc_deaths, PCases=dfp_cases, PDeaths=dfp_deaths))\n",
    "             .sort_values(by=['Cases', 'Deaths'], ascending=[False, False])\n",
    "             .reset_index())\n",
    "df_table.rename(columns={'index': 'Country/Region'}, inplace=True)\n",
    "for c in 'Cases, Deaths'.split(', '):\n",
    "    df_table[f'{c} (+)'] = (df_table[c] - df_table[f'P{c}']).clip(0)  # DATA BUG\n",
    "df_table['Fatality Rate'] = (100 * df_table['Deaths'] / df_table['Cases']).round(1)\n",
    "df_table['Continent'] = df_table['Country/Region'].map(mapping['map.continent'])\n",
    "df_table.head(5)"
   ]
  },
  {
   "cell_type": "code",
   "execution_count": 16,
   "id": "fewer-occasion",
   "metadata": {
    "execution": {
     "iopub.execute_input": "2022-01-26T12:11:35.522591Z",
     "iopub.status.busy": "2022-01-26T12:11:35.522080Z",
     "iopub.status.idle": "2022-01-26T12:11:35.525222Z",
     "shell.execute_reply": "2022-01-26T12:11:35.524815Z"
    },
    "papermill": {
     "duration": 0.037491,
     "end_time": "2022-01-26T12:11:35.525328",
     "exception": false,
     "start_time": "2022-01-26T12:11:35.487837",
     "status": "completed"
    },
    "tags": []
   },
   "outputs": [],
   "source": [
    "#hide\n",
    "#delete problematic countries from table\n",
    "df_table = df_table[~df_table['Country/Region'].isin(['Cape Verde', 'Cruise Ship', 'Kosovo'])]"
   ]
  },
  {
   "cell_type": "code",
   "execution_count": 17,
   "id": "related-center",
   "metadata": {
    "execution": {
     "iopub.execute_input": "2022-01-26T12:11:35.599032Z",
     "iopub.status.busy": "2022-01-26T12:11:35.598492Z",
     "iopub.status.idle": "2022-01-26T12:11:35.606326Z",
     "shell.execute_reply": "2022-01-26T12:11:35.606713Z"
    },
    "papermill": {
     "duration": 0.051491,
     "end_time": "2022-01-26T12:11:35.606858",
     "exception": false,
     "start_time": "2022-01-26T12:11:35.555367",
     "status": "completed"
    },
    "tags": []
   },
   "outputs": [],
   "source": [
    "#hide\n",
    "metrics = [df_table.columns[index] for index in [1,2,5,6]]\n",
    "# s_china = df_table[df_table['Country/Region'].eq('China')][metrics].sum().add_prefix('China ')\n",
    "s_us = df_table[df_table['Country/Region'].eq('US')][metrics].sum().add_prefix('US ')\n",
    "s_eu = df_table[df_table['Continent'].eq('Europe')][metrics].sum().add_prefix('EU ')\n",
    "s_ind = df_table[df_table['Country/Region'].eq('India')][metrics].sum().add_prefix('India ')\n",
    "summary = {'updated': pd.to_datetime(dt_today), 'since': pd.to_datetime(dt_yday)}\n",
    "summary = {'updated': pd.to_datetime(dt_today), 'since': pd.to_datetime(dt_yday)}\n",
    "summary = {**summary, **df_table[metrics].sum(), **s_ind, **s_us, **s_eu}"
   ]
  },
  {
   "cell_type": "code",
   "execution_count": 18,
   "id": "engaging-syndrome",
   "metadata": {
    "execution": {
     "iopub.execute_input": "2022-01-26T12:11:35.673149Z",
     "iopub.status.busy": "2022-01-26T12:11:35.672616Z",
     "iopub.status.idle": "2022-01-26T12:11:35.688662Z",
     "shell.execute_reply": "2022-01-26T12:11:35.688220Z"
    },
    "papermill": {
     "duration": 0.051493,
     "end_time": "2022-01-26T12:11:35.688793",
     "exception": false,
     "start_time": "2022-01-26T12:11:35.637300",
     "status": "completed"
    },
    "tags": []
   },
   "outputs": [],
   "source": [
    "#hide\n",
    "dft_ct_new_cases = dft_cases.groupby(COL_REGION)[dt_cols].sum().diff(axis=1).fillna(0).astype(int)"
   ]
  },
  {
   "cell_type": "code",
   "execution_count": 19,
   "id": "neutral-assignment",
   "metadata": {
    "execution": {
     "iopub.execute_input": "2022-01-26T12:11:35.756733Z",
     "iopub.status.busy": "2022-01-26T12:11:35.756116Z",
     "iopub.status.idle": "2022-01-26T12:11:35.757616Z",
     "shell.execute_reply": "2022-01-26T12:11:35.758064Z"
    },
    "papermill": {
     "duration": 0.038921,
     "end_time": "2022-01-26T12:11:35.758202",
     "exception": false,
     "start_time": "2022-01-26T12:11:35.719281",
     "status": "completed"
    },
    "tags": []
   },
   "outputs": [],
   "source": [
    "#hide\n",
    "everydaycases = dft_ct_new_cases.cumsum(axis=1)"
   ]
  },
  {
   "cell_type": "code",
   "execution_count": 20,
   "id": "parliamentary-calgary",
   "metadata": {
    "execution": {
     "iopub.execute_input": "2022-01-26T12:11:35.823473Z",
     "iopub.status.busy": "2022-01-26T12:11:35.822953Z",
     "iopub.status.idle": "2022-01-26T12:11:36.412435Z",
     "shell.execute_reply": "2022-01-26T12:11:36.411862Z"
    },
    "papermill": {
     "duration": 0.623931,
     "end_time": "2022-01-26T12:11:36.412585",
     "exception": false,
     "start_time": "2022-01-26T12:11:35.788654",
     "status": "completed"
    },
    "tags": []
   },
   "outputs": [],
   "source": [
    "#hide\n",
    "import pandas as pd\n",
    "import matplotlib.pyplot as plt\n",
    "import matplotlib.ticker as ticker\n",
    "import matplotlib.animation as animation\n",
    "from IPython.display import HTML"
   ]
  },
  {
   "cell_type": "code",
   "execution_count": 21,
   "id": "lasting-extraction",
   "metadata": {
    "execution": {
     "iopub.execute_input": "2022-01-26T12:11:36.484790Z",
     "iopub.status.busy": "2022-01-26T12:11:36.484079Z",
     "iopub.status.idle": "2022-01-26T12:11:36.490900Z",
     "shell.execute_reply": "2022-01-26T12:11:36.490467Z"
    },
    "papermill": {
     "duration": 0.042896,
     "end_time": "2022-01-26T12:11:36.491011",
     "exception": false,
     "start_time": "2022-01-26T12:11:36.448115",
     "status": "completed"
    },
    "tags": []
   },
   "outputs": [],
   "source": [
    "#hide\n",
    "t = everydaycases.stack()"
   ]
  },
  {
   "cell_type": "code",
   "execution_count": 22,
   "id": "premier-sleeve",
   "metadata": {
    "execution": {
     "iopub.execute_input": "2022-01-26T12:11:36.556008Z",
     "iopub.status.busy": "2022-01-26T12:11:36.555488Z",
     "iopub.status.idle": "2022-01-26T12:11:36.566379Z",
     "shell.execute_reply": "2022-01-26T12:11:36.566759Z"
    },
    "papermill": {
     "duration": 0.04568,
     "end_time": "2022-01-26T12:11:36.566958",
     "exception": false,
     "start_time": "2022-01-26T12:11:36.521278",
     "status": "completed"
    },
    "tags": []
   },
   "outputs": [],
   "source": [
    "#hide\n",
    "g = t.reset_index(['Country/Region'])"
   ]
  },
  {
   "cell_type": "code",
   "execution_count": 23,
   "id": "distributed-pittsburgh",
   "metadata": {
    "execution": {
     "iopub.execute_input": "2022-01-26T12:11:36.631460Z",
     "iopub.status.busy": "2022-01-26T12:11:36.630869Z",
     "iopub.status.idle": "2022-01-26T12:11:36.633274Z",
     "shell.execute_reply": "2022-01-26T12:11:36.632847Z"
    },
    "papermill": {
     "duration": 0.036349,
     "end_time": "2022-01-26T12:11:36.633380",
     "exception": false,
     "start_time": "2022-01-26T12:11:36.597031",
     "status": "completed"
    },
    "tags": []
   },
   "outputs": [],
   "source": [
    "#hide\n",
    "g.index.name = 'date'"
   ]
  },
  {
   "cell_type": "code",
   "execution_count": 24,
   "id": "naked-donor",
   "metadata": {
    "execution": {
     "iopub.execute_input": "2022-01-26T12:11:36.698145Z",
     "iopub.status.busy": "2022-01-26T12:11:36.697514Z",
     "iopub.status.idle": "2022-01-26T12:11:36.700530Z",
     "shell.execute_reply": "2022-01-26T12:11:36.700962Z"
    },
    "papermill": {
     "duration": 0.037373,
     "end_time": "2022-01-26T12:11:36.701136",
     "exception": false,
     "start_time": "2022-01-26T12:11:36.663763",
     "status": "completed"
    },
    "tags": []
   },
   "outputs": [],
   "source": [
    "# #hide\n",
    "# g = g.reset_index(['date'])"
   ]
  },
  {
   "cell_type": "code",
   "execution_count": 25,
   "id": "incomplete-mustang",
   "metadata": {
    "execution": {
     "iopub.execute_input": "2022-01-26T12:11:36.765273Z",
     "iopub.status.busy": "2022-01-26T12:11:36.764730Z",
     "iopub.status.idle": "2022-01-26T12:11:36.767010Z",
     "shell.execute_reply": "2022-01-26T12:11:36.766518Z"
    },
    "papermill": {
     "duration": 0.035533,
     "end_time": "2022-01-26T12:11:36.767119",
     "exception": false,
     "start_time": "2022-01-26T12:11:36.731586",
     "status": "completed"
    },
    "tags": []
   },
   "outputs": [],
   "source": [
    "#hide\n",
    "# g.head()"
   ]
  },
  {
   "cell_type": "code",
   "execution_count": 26,
   "id": "specific-kruger",
   "metadata": {
    "execution": {
     "iopub.execute_input": "2022-01-26T12:11:36.833556Z",
     "iopub.status.busy": "2022-01-26T12:11:36.832948Z",
     "iopub.status.idle": "2022-01-26T12:11:36.834712Z",
     "shell.execute_reply": "2022-01-26T12:11:36.835144Z"
    },
    "papermill": {
     "duration": 0.035535,
     "end_time": "2022-01-26T12:11:36.835290",
     "exception": false,
     "start_time": "2022-01-26T12:11:36.799755",
     "status": "completed"
    },
    "tags": []
   },
   "outputs": [],
   "source": [
    "#hide\n",
    "# g.columns = ['date','country','cases']"
   ]
  },
  {
   "cell_type": "code",
   "execution_count": 27,
   "id": "tender-conversion",
   "metadata": {
    "execution": {
     "iopub.execute_input": "2022-01-26T12:11:36.899055Z",
     "iopub.status.busy": "2022-01-26T12:11:36.898533Z",
     "iopub.status.idle": "2022-01-26T12:11:36.900785Z",
     "shell.execute_reply": "2022-01-26T12:11:36.900293Z"
    },
    "papermill": {
     "duration": 0.035417,
     "end_time": "2022-01-26T12:11:36.900890",
     "exception": false,
     "start_time": "2022-01-26T12:11:36.865473",
     "status": "completed"
    },
    "tags": []
   },
   "outputs": [],
   "source": [
    "#hide\n",
    "# g['continent'] = g.country"
   ]
  },
  {
   "cell_type": "code",
   "execution_count": 28,
   "id": "substantial-wilderness",
   "metadata": {
    "execution": {
     "iopub.execute_input": "2022-01-26T12:11:36.964931Z",
     "iopub.status.busy": "2022-01-26T12:11:36.964426Z",
     "iopub.status.idle": "2022-01-26T12:11:36.967765Z",
     "shell.execute_reply": "2022-01-26T12:11:36.967332Z"
    },
    "papermill": {
     "duration": 0.036635,
     "end_time": "2022-01-26T12:11:36.967867",
     "exception": false,
     "start_time": "2022-01-26T12:11:36.931232",
     "status": "completed"
    },
    "tags": []
   },
   "outputs": [],
   "source": [
    "#hide\n",
    "# cols = list(g.columns.values)"
   ]
  },
  {
   "cell_type": "code",
   "execution_count": 29,
   "id": "solved-farming",
   "metadata": {
    "execution": {
     "iopub.execute_input": "2022-01-26T12:11:37.031372Z",
     "iopub.status.busy": "2022-01-26T12:11:37.030855Z",
     "iopub.status.idle": "2022-01-26T12:11:37.032676Z",
     "shell.execute_reply": "2022-01-26T12:11:37.033052Z"
    },
    "papermill": {
     "duration": 0.035183,
     "end_time": "2022-01-26T12:11:37.033178",
     "exception": false,
     "start_time": "2022-01-26T12:11:36.997995",
     "status": "completed"
    },
    "tags": []
   },
   "outputs": [],
   "source": [
    "#hide\n",
    "# cols.insert(0, cols.pop())"
   ]
  },
  {
   "cell_type": "code",
   "execution_count": 30,
   "id": "executed-adoption",
   "metadata": {
    "execution": {
     "iopub.execute_input": "2022-01-26T12:11:37.105632Z",
     "iopub.status.busy": "2022-01-26T12:11:37.105031Z",
     "iopub.status.idle": "2022-01-26T12:11:37.109245Z",
     "shell.execute_reply": "2022-01-26T12:11:37.109626Z"
    },
    "papermill": {
     "duration": 0.046323,
     "end_time": "2022-01-26T12:11:37.109760",
     "exception": false,
     "start_time": "2022-01-26T12:11:37.063437",
     "status": "completed"
    },
    "tags": []
   },
   "outputs": [],
   "source": [
    "#hide\n",
    "# g = g[cols]"
   ]
  },
  {
   "cell_type": "code",
   "execution_count": 31,
   "id": "subject-dublin",
   "metadata": {
    "execution": {
     "iopub.execute_input": "2022-01-26T12:11:37.212642Z",
     "iopub.status.busy": "2022-01-26T12:11:37.212094Z",
     "iopub.status.idle": "2022-01-26T12:11:37.217777Z",
     "shell.execute_reply": "2022-01-26T12:11:37.218811Z"
    },
    "papermill": {
     "duration": 0.048521,
     "end_time": "2022-01-26T12:11:37.219140",
     "exception": false,
     "start_time": "2022-01-26T12:11:37.170619",
     "status": "completed"
    },
    "tags": []
   },
   "outputs": [],
   "source": [
    "#hide\n",
    "# g['continent'] = g['continent'].map(mapping['map.continent'])"
   ]
  },
  {
   "cell_type": "code",
   "execution_count": 32,
   "id": "freelance-scout",
   "metadata": {
    "execution": {
     "iopub.execute_input": "2022-01-26T12:11:37.313590Z",
     "iopub.status.busy": "2022-01-26T12:11:37.313064Z",
     "iopub.status.idle": "2022-01-26T12:11:37.316080Z",
     "shell.execute_reply": "2022-01-26T12:11:37.315665Z"
    },
    "papermill": {
     "duration": 0.045201,
     "end_time": "2022-01-26T12:11:37.316192",
     "exception": false,
     "start_time": "2022-01-26T12:11:37.270991",
     "status": "completed"
    },
    "tags": []
   },
   "outputs": [],
   "source": [
    "#hide\n",
    "# g.head()"
   ]
  },
  {
   "cell_type": "code",
   "execution_count": 33,
   "id": "limited-engine",
   "metadata": {
    "execution": {
     "iopub.execute_input": "2022-01-26T12:11:37.480444Z",
     "iopub.status.busy": "2022-01-26T12:11:37.479884Z",
     "iopub.status.idle": "2022-01-26T12:11:37.483390Z",
     "shell.execute_reply": "2022-01-26T12:11:37.482947Z"
    },
    "papermill": {
     "duration": 0.069613,
     "end_time": "2022-01-26T12:11:37.483510",
     "exception": false,
     "start_time": "2022-01-26T12:11:37.413897",
     "status": "completed"
    },
    "tags": []
   },
   "outputs": [],
   "source": [
    "# hide\n",
    "# g['date'] = g['date'].astype('datetime64[ns]')"
   ]
  },
  {
   "cell_type": "code",
   "execution_count": 34,
   "id": "sophisticated-supervisor",
   "metadata": {
    "execution": {
     "iopub.execute_input": "2022-01-26T12:11:37.618398Z",
     "iopub.status.busy": "2022-01-26T12:11:37.617751Z",
     "iopub.status.idle": "2022-01-26T12:11:37.620967Z",
     "shell.execute_reply": "2022-01-26T12:11:37.620549Z"
    },
    "papermill": {
     "duration": 0.106289,
     "end_time": "2022-01-26T12:11:37.621081",
     "exception": false,
     "start_time": "2022-01-26T12:11:37.514792",
     "status": "completed"
    },
    "tags": []
   },
   "outputs": [],
   "source": [
    "#hide\n",
    "# g['date'] = g.date.dt.dayofyear"
   ]
  },
  {
   "cell_type": "code",
   "execution_count": 35,
   "id": "inside-dubai",
   "metadata": {
    "execution": {
     "iopub.execute_input": "2022-01-26T12:11:37.728348Z",
     "iopub.status.busy": "2022-01-26T12:11:37.727832Z",
     "iopub.status.idle": "2022-01-26T12:11:37.730033Z",
     "shell.execute_reply": "2022-01-26T12:11:37.729496Z"
    },
    "papermill": {
     "duration": 0.052254,
     "end_time": "2022-01-26T12:11:37.730146",
     "exception": false,
     "start_time": "2022-01-26T12:11:37.677892",
     "status": "completed"
    },
    "tags": []
   },
   "outputs": [],
   "source": [
    "#hide\n",
    "# g = g.rename(columns= {'continent':'group','country':'name','cases':'value'})"
   ]
  },
  {
   "cell_type": "code",
   "execution_count": 36,
   "id": "fleet-motorcycle",
   "metadata": {
    "execution": {
     "iopub.execute_input": "2022-01-26T12:11:37.794660Z",
     "iopub.status.busy": "2022-01-26T12:11:37.794114Z",
     "iopub.status.idle": "2022-01-26T12:11:37.796993Z",
     "shell.execute_reply": "2022-01-26T12:11:37.796525Z"
    },
    "papermill": {
     "duration": 0.036492,
     "end_time": "2022-01-26T12:11:37.797107",
     "exception": false,
     "start_time": "2022-01-26T12:11:37.760615",
     "status": "completed"
    },
    "tags": []
   },
   "outputs": [],
   "source": [
    "#hide\n",
    "# cols = ['name','group','day','value']"
   ]
  },
  {
   "cell_type": "code",
   "execution_count": 37,
   "id": "continued-sleeping",
   "metadata": {
    "execution": {
     "iopub.execute_input": "2022-01-26T12:11:37.861929Z",
     "iopub.status.busy": "2022-01-26T12:11:37.861313Z",
     "iopub.status.idle": "2022-01-26T12:11:37.863508Z",
     "shell.execute_reply": "2022-01-26T12:11:37.863096Z"
    },
    "papermill": {
     "duration": 0.03596,
     "end_time": "2022-01-26T12:11:37.863620",
     "exception": false,
     "start_time": "2022-01-26T12:11:37.827660",
     "status": "completed"
    },
    "tags": []
   },
   "outputs": [],
   "source": [
    "#hide\n",
    "# g.rename(columns= {'date':'day'},inplace = True)"
   ]
  },
  {
   "cell_type": "code",
   "execution_count": 38,
   "id": "major-fight",
   "metadata": {
    "execution": {
     "iopub.execute_input": "2022-01-26T12:11:37.928282Z",
     "iopub.status.busy": "2022-01-26T12:11:37.927678Z",
     "iopub.status.idle": "2022-01-26T12:11:37.929210Z",
     "shell.execute_reply": "2022-01-26T12:11:37.929641Z"
    },
    "papermill": {
     "duration": 0.035826,
     "end_time": "2022-01-26T12:11:37.929795",
     "exception": false,
     "start_time": "2022-01-26T12:11:37.893969",
     "status": "completed"
    },
    "tags": []
   },
   "outputs": [],
   "source": [
    "#hide\n",
    "# g = g[cols]"
   ]
  },
  {
   "cell_type": "code",
   "execution_count": 39,
   "id": "structured-mobile",
   "metadata": {
    "execution": {
     "iopub.execute_input": "2022-01-26T12:11:37.994711Z",
     "iopub.status.busy": "2022-01-26T12:11:37.994119Z",
     "iopub.status.idle": "2022-01-26T12:11:37.995736Z",
     "shell.execute_reply": "2022-01-26T12:11:37.996112Z"
    },
    "papermill": {
     "duration": 0.035392,
     "end_time": "2022-01-26T12:11:37.996245",
     "exception": false,
     "start_time": "2022-01-26T12:11:37.960853",
     "status": "completed"
    },
    "tags": []
   },
   "outputs": [],
   "source": [
    "# #hide\n",
    "# g = g[g.group.notna()]"
   ]
  },
  {
   "cell_type": "code",
   "execution_count": 40,
   "id": "determined-closing",
   "metadata": {
    "execution": {
     "iopub.execute_input": "2022-01-26T12:11:38.060719Z",
     "iopub.status.busy": "2022-01-26T12:11:38.060116Z",
     "iopub.status.idle": "2022-01-26T12:11:38.061662Z",
     "shell.execute_reply": "2022-01-26T12:11:38.062122Z"
    },
    "papermill": {
     "duration": 0.035865,
     "end_time": "2022-01-26T12:11:38.062273",
     "exception": false,
     "start_time": "2022-01-26T12:11:38.026408",
     "status": "completed"
    },
    "tags": []
   },
   "outputs": [],
   "source": [
    "# #hide\n",
    "# colors = dict(zip(\n",
    "#     [\"Oceania\", \"Europe\", \"Asia\", \"South America\", \"Middle East\", \"North America\", \"Africa\"],\n",
    "#     [\"#adb0ff\", \"#ffb3ff\", \"#90d595\", \"#e48381\", \"#aafbff\", \"#f7bb5f\", \"#eafb50\"]\n",
    "# ))\n",
    "# group_lk = g.set_index('name')['group'].to_dict()"
   ]
  },
  {
   "cell_type": "code",
   "execution_count": null,
   "id": "gross-drinking",
   "metadata": {
    "papermill": {
     "duration": 0.030158,
     "end_time": "2022-01-26T12:11:38.122972",
     "exception": false,
     "start_time": "2022-01-26T12:11:38.092814",
     "status": "completed"
    },
    "tags": []
   },
   "outputs": [],
   "source": []
  },
  {
   "cell_type": "code",
   "execution_count": 41,
   "id": "subject-macintosh",
   "metadata": {
    "execution": {
     "iopub.execute_input": "2022-01-26T12:11:38.187534Z",
     "iopub.status.busy": "2022-01-26T12:11:38.187005Z",
     "iopub.status.idle": "2022-01-26T12:11:38.189042Z",
     "shell.execute_reply": "2022-01-26T12:11:38.189473Z"
    },
    "papermill": {
     "duration": 0.036454,
     "end_time": "2022-01-26T12:11:38.189606",
     "exception": false,
     "start_time": "2022-01-26T12:11:38.153152",
     "status": "completed"
    },
    "tags": []
   },
   "outputs": [],
   "source": [
    "# #hide\n",
    "# fig, ax = plt.subplots(figsize=(15, 8))\n",
    "\n",
    "# def draw_barchart(current_day):\n",
    "#     dff = g[g['day'].eq(current_day)].sort_values(by='value', ascending=True).tail(10)\n",
    "#     ax.clear()\n",
    "#     ax.barh(dff['name'], dff['value'], color=[colors[group_lk[x]] for x in dff['name']])\n",
    "#     dx = dff['value'].max() / 200\n",
    "    \n",
    "#     for i, (value, name) in enumerate(zip(dff['value'], dff['name'])):\n",
    "#         ax.text(value-dx, i,     name,           size=14, weight=600, ha='right', va='bottom')\n",
    "#         ax.text(value-dx, i-.25, group_lk[name], size=10, color='#444444', ha='right', va='baseline')\n",
    "#         ax.text(value+dx, i,     f'{value:,.0f}',  size=14, ha='left',  va='center')\n",
    "#     ax.text(1, 0.4, current_day, transform=ax.transAxes, color='#777777', size=46, ha='right', weight=800)\n",
    "#     ax.text(0, 1.06, 'Population (thousands)', transform=ax.transAxes, size=12, color='#777777')\n",
    "#     ax.xaxis.set_major_formatter(ticker.StrMethodFormatter('{x:,.0f}'))\n",
    "#     ax.xaxis.set_ticks_position('top')\n",
    "#     ax.tick_params(axis='x', colors='#777777', labelsize=12)\n",
    "#     ax.set_yticks([])\n",
    "#     ax.margins(0, 0.01)\n",
    "#     ax.grid(which='major', axis='x', linestyle='-')\n",
    "#     ax.set_axisbelow(True)\n",
    "    \n",
    "#     ax.text(0, 1.15, 'Coronavirus',\n",
    "#             transform=ax.transAxes, size=24, weight=600, ha='left', va='top')\n",
    "# #     ax.text(1, 0, 'by @pratapvardhan; credit @jburnmurdoch', transform=ax.transAxes, color='#777777', ha='right',\n",
    "# #             bbox=dict(facecolor='white', alpha=0.8, edgecolor='white'))\n",
    "#     plt.box(False)"
   ]
  },
  {
   "cell_type": "code",
   "execution_count": 42,
   "id": "sexual-wages",
   "metadata": {
    "execution": {
     "iopub.execute_input": "2022-01-26T12:11:38.253390Z",
     "iopub.status.busy": "2022-01-26T12:11:38.252791Z",
     "iopub.status.idle": "2022-01-26T12:11:38.254982Z",
     "shell.execute_reply": "2022-01-26T12:11:38.254421Z"
    },
    "papermill": {
     "duration": 0.035548,
     "end_time": "2022-01-26T12:11:38.255101",
     "exception": false,
     "start_time": "2022-01-26T12:11:38.219553",
     "status": "completed"
    },
    "tags": []
   },
   "outputs": [],
   "source": [
    "# #hide_input\n",
    "# fig, ax = plt.subplots(figsize=(15, 8))\n",
    "# animator = animation.FuncAnimation(fig, draw_barchart, frames=range(g.day.values.min(), g.day.values.max()))\n",
    "# HTML(animator.to_jshtml())\n",
    "# # or use animator.to_html5_video() or animator.save() "
   ]
  },
  {
   "cell_type": "code",
   "execution_count": null,
   "id": "australian-container",
   "metadata": {
    "papermill": {
     "duration": 0.030103,
     "end_time": "2022-01-26T12:11:38.315947",
     "exception": false,
     "start_time": "2022-01-26T12:11:38.285844",
     "status": "completed"
    },
    "tags": []
   },
   "outputs": [],
   "source": []
  },
  {
   "cell_type": "code",
   "execution_count": null,
   "id": "mediterranean-pontiac",
   "metadata": {
    "papermill": {
     "duration": 0.030022,
     "end_time": "2022-01-26T12:11:38.375918",
     "exception": false,
     "start_time": "2022-01-26T12:11:38.345896",
     "status": "completed"
    },
    "tags": []
   },
   "outputs": [],
   "source": []
  },
  {
   "cell_type": "code",
   "execution_count": null,
   "id": "aging-legislature",
   "metadata": {
    "papermill": {
     "duration": 0.030021,
     "end_time": "2022-01-26T12:11:38.436192",
     "exception": false,
     "start_time": "2022-01-26T12:11:38.406171",
     "status": "completed"
    },
    "tags": []
   },
   "outputs": [],
   "source": []
  }
 ],
 "metadata": {
  "kernelspec": {
   "display_name": "Python 3",
   "language": "python",
   "name": "python3"
  },
  "language_info": {
   "codemirror_mode": {
    "name": "ipython",
    "version": 3
   },
   "file_extension": ".py",
   "mimetype": "text/x-python",
   "name": "python",
   "nbconvert_exporter": "python",
   "pygments_lexer": "ipython3",
   "version": "3.6.15"
  },
  "papermill": {
   "duration": 6.126097,
   "end_time": "2022-01-26T12:11:38.785023",
   "environment_variables": {},
   "exception": null,
   "input_path": "2020-03-21-covid19exp.ipynb",
   "output_path": "2020-03-21-covid19exp.ipynb",
   "parameters": {},
   "start_time": "2022-01-26T12:11:32.658926",
   "version": "2.0.0"
  }
 },
 "nbformat": 4,
 "nbformat_minor": 5
}