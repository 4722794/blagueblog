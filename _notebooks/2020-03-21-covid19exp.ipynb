{
 "cells": [
  {
   "cell_type": "markdown",
   "id": "muslim-click",
   "metadata": {
    "papermill": {
     "duration": 0.042608,
     "end_time": "2021-06-03T01:04:38.678272",
     "exception": false,
     "start_time": "2021-06-03T01:04:38.635664",
     "status": "completed"
    },
    "tags": []
   },
   "source": [
    "# COVID-19 Case Race\n",
    "> A race chart to see rising cases around the world\n",
    "\n",
    "- author: Hargun Oberoi\n",
    "- image: images/covid-overview.png\n",
    "- hide: false\n",
    "- badges: false"
   ]
  },
  {
   "cell_type": "code",
   "execution_count": 1,
   "id": "proof-material",
   "metadata": {
    "execution": {
     "iopub.execute_input": "2021-06-03T01:04:38.767841Z",
     "iopub.status.busy": "2021-06-03T01:04:38.766970Z",
     "iopub.status.idle": "2021-06-03T01:04:39.183891Z",
     "shell.execute_reply": "2021-06-03T01:04:39.183126Z"
    },
    "papermill": {
     "duration": 0.466952,
     "end_time": "2021-06-03T01:04:39.184058",
     "exception": false,
     "start_time": "2021-06-03T01:04:38.717106",
     "status": "completed"
    },
    "tags": []
   },
   "outputs": [],
   "source": [
    "#hide\n",
    "import numpy as np\n",
    "import pandas as pd\n",
    "from jinja2 import Template\n",
    "from IPython.display import HTML"
   ]
  },
  {
   "cell_type": "code",
   "execution_count": 2,
   "id": "developed-terminology",
   "metadata": {
    "execution": {
     "iopub.execute_input": "2021-06-03T01:04:39.269040Z",
     "iopub.status.busy": "2021-06-03T01:04:39.268333Z",
     "iopub.status.idle": "2021-06-03T01:04:39.272232Z",
     "shell.execute_reply": "2021-06-03T01:04:39.272929Z"
    },
    "papermill": {
     "duration": 0.048934,
     "end_time": "2021-06-03T01:04:39.273091",
     "exception": false,
     "start_time": "2021-06-03T01:04:39.224157",
     "status": "completed"
    },
    "tags": []
   },
   "outputs": [],
   "source": [
    "#hide\n",
    "\n",
    "# FETCH\n",
    "base_url = 'https://raw.githubusercontent.com/pratapvardhan/notebooks/master/covid19/'\n",
    "paths = {\n",
    "    'mapping': base_url + 'mapping_countries.csv',\n",
    "    'overview': base_url + 'overview.tpl'\n",
    "}"
   ]
  },
  {
   "cell_type": "code",
   "execution_count": 3,
   "id": "dynamic-saver",
   "metadata": {
    "execution": {
     "iopub.execute_input": "2021-06-03T01:04:39.365499Z",
     "iopub.status.busy": "2021-06-03T01:04:39.364086Z",
     "iopub.status.idle": "2021-06-03T01:04:39.367956Z",
     "shell.execute_reply": "2021-06-03T01:04:39.367373Z"
    },
    "papermill": {
     "duration": 0.055974,
     "end_time": "2021-06-03T01:04:39.368095",
     "exception": false,
     "start_time": "2021-06-03T01:04:39.312121",
     "status": "completed"
    },
    "tags": []
   },
   "outputs": [
    {
     "data": {
      "text/plain": [
       "'https://raw.githubusercontent.com/pratapvardhan/notebooks/master/covid19/mapping_countries.csv'"
      ]
     },
     "execution_count": 3,
     "metadata": {},
     "output_type": "execute_result"
    }
   ],
   "source": [
    "#hide\n",
    "paths['mapping']"
   ]
  },
  {
   "cell_type": "code",
   "execution_count": 4,
   "id": "urban-software",
   "metadata": {
    "execution": {
     "iopub.execute_input": "2021-06-03T01:04:39.465809Z",
     "iopub.status.busy": "2021-06-03T01:04:39.465094Z",
     "iopub.status.idle": "2021-06-03T01:04:39.469020Z",
     "shell.execute_reply": "2021-06-03T01:04:39.469554Z"
    },
    "papermill": {
     "duration": 0.061032,
     "end_time": "2021-06-03T01:04:39.469703",
     "exception": false,
     "start_time": "2021-06-03T01:04:39.408671",
     "status": "completed"
    },
    "tags": []
   },
   "outputs": [],
   "source": [
    "#hide\n",
    "def get_mappings(url):\n",
    "    df = pd.read_csv(url)\n",
    "    return {\n",
    "        'df': df,\n",
    "        'replace.country': dict(df.dropna(subset=['Name']).set_index('Country')['Name']),\n",
    "        'map.continent': dict(df.set_index('Name')['Continent'])\n",
    "    }"
   ]
  },
  {
   "cell_type": "code",
   "execution_count": 5,
   "id": "intimate-machinery",
   "metadata": {
    "execution": {
     "iopub.execute_input": "2021-06-03T01:04:39.556560Z",
     "iopub.status.busy": "2021-06-03T01:04:39.555871Z",
     "iopub.status.idle": "2021-06-03T01:04:39.588154Z",
     "shell.execute_reply": "2021-06-03T01:04:39.587526Z"
    },
    "papermill": {
     "duration": 0.07754,
     "end_time": "2021-06-03T01:04:39.588317",
     "exception": false,
     "start_time": "2021-06-03T01:04:39.510777",
     "status": "completed"
    },
    "tags": []
   },
   "outputs": [],
   "source": [
    "#hide\n",
    "mapping = get_mappings(paths['mapping'])"
   ]
  },
  {
   "cell_type": "code",
   "execution_count": 6,
   "id": "certified-tactics",
   "metadata": {
    "execution": {
     "iopub.execute_input": "2021-06-03T01:04:39.675608Z",
     "iopub.status.busy": "2021-06-03T01:04:39.674927Z",
     "iopub.status.idle": "2021-06-03T01:04:39.678739Z",
     "shell.execute_reply": "2021-06-03T01:04:39.679250Z"
    },
    "papermill": {
     "duration": 0.050253,
     "end_time": "2021-06-03T01:04:39.679403",
     "exception": false,
     "start_time": "2021-06-03T01:04:39.629150",
     "status": "completed"
    },
    "tags": []
   },
   "outputs": [],
   "source": [
    "#hide\n",
    "def get_template(path):\n",
    "    from urllib.parse import urlparse\n",
    "    if bool(urlparse(path).netloc):\n",
    "        from urllib.request import urlopen\n",
    "        return urlopen(path).read().decode('utf8')\n",
    "    return open(path).read()"
   ]
  },
  {
   "cell_type": "code",
   "execution_count": 7,
   "id": "realistic-blast",
   "metadata": {
    "execution": {
     "iopub.execute_input": "2021-06-03T01:04:39.764944Z",
     "iopub.status.busy": "2021-06-03T01:04:39.764284Z",
     "iopub.status.idle": "2021-06-03T01:04:39.766923Z",
     "shell.execute_reply": "2021-06-03T01:04:39.766254Z"
    },
    "papermill": {
     "duration": 0.048627,
     "end_time": "2021-06-03T01:04:39.767055",
     "exception": false,
     "start_time": "2021-06-03T01:04:39.718428",
     "status": "completed"
    },
    "tags": []
   },
   "outputs": [],
   "source": [
    "#hide\n",
    "def get_frame(name):\n",
    "    url = (\n",
    "        'https://raw.githubusercontent.com/CSSEGISandData/COVID-19/master/csse_covid_19_data/'\n",
    "        f'csse_covid_19_time_series/time_series_covid19_{name}_global.csv')\n",
    "    df = pd.read_csv(url)\n",
    "    # rename countries\n",
    "    df['Country/Region'] = df['Country/Region'].replace(mapping['replace.country'])\n",
    "    return df"
   ]
  },
  {
   "cell_type": "code",
   "execution_count": 8,
   "id": "affiliated-characterization",
   "metadata": {
    "execution": {
     "iopub.execute_input": "2021-06-03T01:04:39.856037Z",
     "iopub.status.busy": "2021-06-03T01:04:39.855357Z",
     "iopub.status.idle": "2021-06-03T01:04:39.859028Z",
     "shell.execute_reply": "2021-06-03T01:04:39.859561Z"
    },
    "papermill": {
     "duration": 0.052599,
     "end_time": "2021-06-03T01:04:39.859704",
     "exception": false,
     "start_time": "2021-06-03T01:04:39.807105",
     "status": "completed"
    },
    "tags": []
   },
   "outputs": [],
   "source": [
    "#hide\n",
    "def get_dates(df):\n",
    "    dt_cols = df.columns[~df.columns.isin(['Province/State', 'Country/Region', 'Lat', 'Long'])]\n",
    "    LAST_DATE_I = -1\n",
    "    # sometimes last column may be empty, then go backwards\n",
    "    for i in range(-1, -len(dt_cols), -1):\n",
    "        if not df[dt_cols[i]].fillna(0).eq(0).all():\n",
    "            LAST_DATE_I = i\n",
    "            break\n",
    "    return LAST_DATE_I, dt_cols"
   ]
  },
  {
   "cell_type": "code",
   "execution_count": 9,
   "id": "recent-optimization",
   "metadata": {
    "execution": {
     "iopub.execute_input": "2021-06-03T01:04:39.947907Z",
     "iopub.status.busy": "2021-06-03T01:04:39.947190Z",
     "iopub.status.idle": "2021-06-03T01:04:40.284249Z",
     "shell.execute_reply": "2021-06-03T01:04:40.283612Z"
    },
    "papermill": {
     "duration": 0.386245,
     "end_time": "2021-06-03T01:04:40.284402",
     "exception": false,
     "start_time": "2021-06-03T01:04:39.898157",
     "status": "completed"
    },
    "tags": []
   },
   "outputs": [],
   "source": [
    "#hide\n",
    "COL_REGION = 'Country/Region'\n",
    "# Confirmed, Recovered, Deaths\n",
    "df = get_frame('confirmed')\n",
    "# dft_: timeseries, dfc_: today country agg\n",
    "dft_cases = df\n",
    "dft_deaths = get_frame('deaths')\n",
    "dft_recovered = get_frame('recovered')\n",
    "LAST_DATE_I, dt_cols = get_dates(df)"
   ]
  },
  {
   "cell_type": "code",
   "execution_count": 10,
   "id": "absolute-copper",
   "metadata": {
    "execution": {
     "iopub.execute_input": "2021-06-03T01:04:40.371767Z",
     "iopub.status.busy": "2021-06-03T01:04:40.371091Z",
     "iopub.status.idle": "2021-06-03T01:04:40.375060Z",
     "shell.execute_reply": "2021-06-03T01:04:40.375585Z"
    },
    "papermill": {
     "duration": 0.049907,
     "end_time": "2021-06-03T01:04:40.375759",
     "exception": false,
     "start_time": "2021-06-03T01:04:40.325852",
     "status": "completed"
    },
    "tags": []
   },
   "outputs": [],
   "source": [
    "#hide\n",
    "LAST_DATE_I, dt_cols = get_dates(df)\n",
    "dt_today =dt_cols[LAST_DATE_I]\n",
    "# dt_5day = dt_cols[LAST_DATE_I - 5]\n",
    "dt_yday = dt_cols[LAST_DATE_I - 1]"
   ]
  },
  {
   "cell_type": "code",
   "execution_count": 11,
   "id": "restricted-sheriff",
   "metadata": {
    "execution": {
     "iopub.execute_input": "2021-06-03T01:04:40.469162Z",
     "iopub.status.busy": "2021-06-03T01:04:40.467886Z",
     "iopub.status.idle": "2021-06-03T01:04:40.475017Z",
     "shell.execute_reply": "2021-06-03T01:04:40.475551Z"
    },
    "papermill": {
     "duration": 0.056668,
     "end_time": "2021-06-03T01:04:40.475721",
     "exception": false,
     "start_time": "2021-06-03T01:04:40.419053",
     "status": "completed"
    },
    "tags": []
   },
   "outputs": [],
   "source": [
    "#hide\n",
    "dfc_cases = dft_cases.groupby(COL_REGION)[dt_today].sum()\n",
    "dfc_deaths = dft_deaths.groupby(COL_REGION)[dt_today].sum()\n",
    "# dfp_cases = dft_cases.groupby(COL_REGION)[dt_5day].sum()\n",
    "# dfp_deaths = dft_deaths.groupby(COL_REGION)[dt_5day].sum()\n",
    "dfp_cases = dft_cases.groupby(COL_REGION)[dt_yday].sum()\n",
    "dfp_deaths = dft_deaths.groupby(COL_REGION)[dt_yday].sum()"
   ]
  },
  {
   "cell_type": "code",
   "execution_count": 12,
   "id": "deluxe-hepatitis",
   "metadata": {
    "execution": {
     "iopub.execute_input": "2021-06-03T01:04:40.562811Z",
     "iopub.status.busy": "2021-06-03T01:04:40.562083Z",
     "iopub.status.idle": "2021-06-03T01:04:40.567961Z",
     "shell.execute_reply": "2021-06-03T01:04:40.567347Z"
    },
    "papermill": {
     "duration": 0.051559,
     "end_time": "2021-06-03T01:04:40.568092",
     "exception": false,
     "start_time": "2021-06-03T01:04:40.516533",
     "status": "completed"
    },
    "tags": []
   },
   "outputs": [],
   "source": [
    "#hide\n",
    "df_table = (pd.DataFrame(dict(Cases = dfc_cases, Deaths = dfc_deaths, PCases = dfp_cases, PDeaths = dfp_deaths))\n",
    "            .sort_values(by = ['Cases','Deaths'], ascending = [False, False])\n",
    "            .reset_index())"
   ]
  },
  {
   "cell_type": "code",
   "execution_count": 13,
   "id": "educational-chancellor",
   "metadata": {
    "execution": {
     "iopub.execute_input": "2021-06-03T01:04:40.665590Z",
     "iopub.status.busy": "2021-06-03T01:04:40.664669Z",
     "iopub.status.idle": "2021-06-03T01:04:40.675154Z",
     "shell.execute_reply": "2021-06-03T01:04:40.674535Z"
    },
    "papermill": {
     "duration": 0.068591,
     "end_time": "2021-06-03T01:04:40.675410",
     "exception": false,
     "start_time": "2021-06-03T01:04:40.606819",
     "status": "completed"
    },
    "tags": []
   },
   "outputs": [
    {
     "data": {
      "text/html": [
       "<div>\n",
       "<style scoped>\n",
       "    .dataframe tbody tr th:only-of-type {\n",
       "        vertical-align: middle;\n",
       "    }\n",
       "\n",
       "    .dataframe tbody tr th {\n",
       "        vertical-align: top;\n",
       "    }\n",
       "\n",
       "    .dataframe thead th {\n",
       "        text-align: right;\n",
       "    }\n",
       "</style>\n",
       "<table border=\"1\" class=\"dataframe\">\n",
       "  <thead>\n",
       "    <tr style=\"text-align: right;\">\n",
       "      <th></th>\n",
       "      <th>Country/Region</th>\n",
       "      <th>Cases</th>\n",
       "      <th>Deaths</th>\n",
       "      <th>PCases</th>\n",
       "      <th>PDeaths</th>\n",
       "      <th>Cases (+)</th>\n",
       "      <th>Deaths (+)</th>\n",
       "      <th>Fatality Rate</th>\n",
       "      <th>Continent</th>\n",
       "    </tr>\n",
       "  </thead>\n",
       "  <tbody>\n",
       "    <tr>\n",
       "      <th>0</th>\n",
       "      <td>US</td>\n",
       "      <td>33290450</td>\n",
       "      <td>595223</td>\n",
       "      <td>33267507</td>\n",
       "      <td>594585</td>\n",
       "      <td>22943</td>\n",
       "      <td>638</td>\n",
       "      <td>1.79</td>\n",
       "      <td>North America</td>\n",
       "    </tr>\n",
       "    <tr>\n",
       "      <th>1</th>\n",
       "      <td>India</td>\n",
       "      <td>28307832</td>\n",
       "      <td>335102</td>\n",
       "      <td>28175044</td>\n",
       "      <td>331895</td>\n",
       "      <td>132788</td>\n",
       "      <td>3207</td>\n",
       "      <td>1.18</td>\n",
       "      <td>Asia</td>\n",
       "    </tr>\n",
       "    <tr>\n",
       "      <th>2</th>\n",
       "      <td>Brazil</td>\n",
       "      <td>16624480</td>\n",
       "      <td>465199</td>\n",
       "      <td>16545554</td>\n",
       "      <td>462791</td>\n",
       "      <td>78926</td>\n",
       "      <td>2408</td>\n",
       "      <td>2.80</td>\n",
       "      <td>South America</td>\n",
       "    </tr>\n",
       "    <tr>\n",
       "      <th>3</th>\n",
       "      <td>France</td>\n",
       "      <td>5738641</td>\n",
       "      <td>109824</td>\n",
       "      <td>5728788</td>\n",
       "      <td>109690</td>\n",
       "      <td>9853</td>\n",
       "      <td>134</td>\n",
       "      <td>1.91</td>\n",
       "      <td>Europe</td>\n",
       "    </tr>\n",
       "    <tr>\n",
       "      <th>4</th>\n",
       "      <td>Turkey</td>\n",
       "      <td>5256516</td>\n",
       "      <td>47656</td>\n",
       "      <td>5249404</td>\n",
       "      <td>47527</td>\n",
       "      <td>7112</td>\n",
       "      <td>129</td>\n",
       "      <td>0.91</td>\n",
       "      <td>Asia</td>\n",
       "    </tr>\n",
       "  </tbody>\n",
       "</table>\n",
       "</div>"
      ],
      "text/plain": [
       "  Country/Region     Cases  Deaths    PCases  PDeaths  Cases (+)  Deaths (+)  \\\n",
       "0             US  33290450  595223  33267507   594585      22943         638   \n",
       "1          India  28307832  335102  28175044   331895     132788        3207   \n",
       "2         Brazil  16624480  465199  16545554   462791      78926        2408   \n",
       "3         France   5738641  109824   5728788   109690       9853         134   \n",
       "4         Turkey   5256516   47656   5249404    47527       7112         129   \n",
       "\n",
       "   Fatality Rate      Continent  \n",
       "0           1.79  North America  \n",
       "1           1.18           Asia  \n",
       "2           2.80  South America  \n",
       "3           1.91         Europe  \n",
       "4           0.91           Asia  "
      ]
     },
     "execution_count": 13,
     "metadata": {},
     "output_type": "execute_result"
    }
   ],
   "source": [
    "#hide\n",
    "for c in 'Cases, Deaths'.split(', '):\n",
    "    df_table[f'{c} (+)'] = (df_table[c] - df_table[f'P{c}']).clip(0)\n",
    "    #Clip ça veut dire, les chiffres negatif sont interdit\n",
    "df_table['Fatality Rate'] = (100* df_table['Deaths']/ df_table['Cases']).round(2)\n",
    "df_table['Continent'] = df_table['Country/Region'].map(mapping['map.continent'])\n",
    "df_table.head(5)"
   ]
  },
  {
   "cell_type": "code",
   "execution_count": 14,
   "id": "aboriginal-bulgaria",
   "metadata": {
    "execution": {
     "iopub.execute_input": "2021-06-03T01:04:40.760776Z",
     "iopub.status.busy": "2021-06-03T01:04:40.760083Z",
     "iopub.status.idle": "2021-06-03T01:04:40.762697Z",
     "shell.execute_reply": "2021-06-03T01:04:40.761965Z"
    },
    "papermill": {
     "duration": 0.047585,
     "end_time": "2021-06-03T01:04:40.762820",
     "exception": false,
     "start_time": "2021-06-03T01:04:40.715235",
     "status": "completed"
    },
    "tags": []
   },
   "outputs": [],
   "source": [
    "#hide\n",
    "#delete problematic countries from table\n",
    "df_table = df_table[~df_table['Country/Region'].isin(['Cape Verde', 'Cruise Ship', 'Kosovo'])]"
   ]
  },
  {
   "cell_type": "code",
   "execution_count": 15,
   "id": "fantastic-effect",
   "metadata": {
    "execution": {
     "iopub.execute_input": "2021-06-03T01:04:40.850279Z",
     "iopub.status.busy": "2021-06-03T01:04:40.849591Z",
     "iopub.status.idle": "2021-06-03T01:04:40.877950Z",
     "shell.execute_reply": "2021-06-03T01:04:40.878546Z"
    },
    "papermill": {
     "duration": 0.076994,
     "end_time": "2021-06-03T01:04:40.878735",
     "exception": false,
     "start_time": "2021-06-03T01:04:40.801741",
     "status": "completed"
    },
    "tags": []
   },
   "outputs": [
    {
     "data": {
      "text/html": [
       "<div>\n",
       "<style scoped>\n",
       "    .dataframe tbody tr th:only-of-type {\n",
       "        vertical-align: middle;\n",
       "    }\n",
       "\n",
       "    .dataframe tbody tr th {\n",
       "        vertical-align: top;\n",
       "    }\n",
       "\n",
       "    .dataframe thead th {\n",
       "        text-align: right;\n",
       "    }\n",
       "</style>\n",
       "<table border=\"1\" class=\"dataframe\">\n",
       "  <thead>\n",
       "    <tr style=\"text-align: right;\">\n",
       "      <th></th>\n",
       "      <th>Country/Region</th>\n",
       "      <th>Cases</th>\n",
       "      <th>Deaths</th>\n",
       "      <th>PCases</th>\n",
       "      <th>PDeaths</th>\n",
       "      <th>Cases (+)</th>\n",
       "      <th>Deaths (+)</th>\n",
       "      <th>Fatality Rate</th>\n",
       "      <th>Continent</th>\n",
       "    </tr>\n",
       "  </thead>\n",
       "  <tbody>\n",
       "    <tr>\n",
       "      <th>0</th>\n",
       "      <td>US</td>\n",
       "      <td>33290450</td>\n",
       "      <td>595223</td>\n",
       "      <td>33267507</td>\n",
       "      <td>594585</td>\n",
       "      <td>22943</td>\n",
       "      <td>638</td>\n",
       "      <td>1.8</td>\n",
       "      <td>North America</td>\n",
       "    </tr>\n",
       "    <tr>\n",
       "      <th>1</th>\n",
       "      <td>India</td>\n",
       "      <td>28307832</td>\n",
       "      <td>335102</td>\n",
       "      <td>28175044</td>\n",
       "      <td>331895</td>\n",
       "      <td>132788</td>\n",
       "      <td>3207</td>\n",
       "      <td>1.2</td>\n",
       "      <td>Asia</td>\n",
       "    </tr>\n",
       "    <tr>\n",
       "      <th>2</th>\n",
       "      <td>Brazil</td>\n",
       "      <td>16624480</td>\n",
       "      <td>465199</td>\n",
       "      <td>16545554</td>\n",
       "      <td>462791</td>\n",
       "      <td>78926</td>\n",
       "      <td>2408</td>\n",
       "      <td>2.8</td>\n",
       "      <td>South America</td>\n",
       "    </tr>\n",
       "    <tr>\n",
       "      <th>3</th>\n",
       "      <td>France</td>\n",
       "      <td>5738641</td>\n",
       "      <td>109824</td>\n",
       "      <td>5728788</td>\n",
       "      <td>109690</td>\n",
       "      <td>9853</td>\n",
       "      <td>134</td>\n",
       "      <td>1.9</td>\n",
       "      <td>Europe</td>\n",
       "    </tr>\n",
       "    <tr>\n",
       "      <th>4</th>\n",
       "      <td>Turkey</td>\n",
       "      <td>5256516</td>\n",
       "      <td>47656</td>\n",
       "      <td>5249404</td>\n",
       "      <td>47527</td>\n",
       "      <td>7112</td>\n",
       "      <td>129</td>\n",
       "      <td>0.9</td>\n",
       "      <td>Asia</td>\n",
       "    </tr>\n",
       "  </tbody>\n",
       "</table>\n",
       "</div>"
      ],
      "text/plain": [
       "  Country/Region     Cases  Deaths    PCases  PDeaths  Cases (+)  Deaths (+)  \\\n",
       "0             US  33290450  595223  33267507   594585      22943         638   \n",
       "1          India  28307832  335102  28175044   331895     132788        3207   \n",
       "2         Brazil  16624480  465199  16545554   462791      78926        2408   \n",
       "3         France   5738641  109824   5728788   109690       9853         134   \n",
       "4         Turkey   5256516   47656   5249404    47527       7112         129   \n",
       "\n",
       "   Fatality Rate      Continent  \n",
       "0            1.8  North America  \n",
       "1            1.2           Asia  \n",
       "2            2.8  South America  \n",
       "3            1.9         Europe  \n",
       "4            0.9           Asia  "
      ]
     },
     "execution_count": 15,
     "metadata": {},
     "output_type": "execute_result"
    }
   ],
   "source": [
    "#hide\n",
    "df_table = (pd.DataFrame(dict(Cases=dfc_cases, Deaths=dfc_deaths, PCases=dfp_cases, PDeaths=dfp_deaths))\n",
    "             .sort_values(by=['Cases', 'Deaths'], ascending=[False, False])\n",
    "             .reset_index())\n",
    "df_table.rename(columns={'index': 'Country/Region'}, inplace=True)\n",
    "for c in 'Cases, Deaths'.split(', '):\n",
    "    df_table[f'{c} (+)'] = (df_table[c] - df_table[f'P{c}']).clip(0)  # DATA BUG\n",
    "df_table['Fatality Rate'] = (100 * df_table['Deaths'] / df_table['Cases']).round(1)\n",
    "df_table['Continent'] = df_table['Country/Region'].map(mapping['map.continent'])\n",
    "df_table.head(5)"
   ]
  },
  {
   "cell_type": "code",
   "execution_count": 16,
   "id": "fewer-occasion",
   "metadata": {
    "execution": {
     "iopub.execute_input": "2021-06-03T01:04:40.966332Z",
     "iopub.status.busy": "2021-06-03T01:04:40.965583Z",
     "iopub.status.idle": "2021-06-03T01:04:40.967880Z",
     "shell.execute_reply": "2021-06-03T01:04:40.968475Z"
    },
    "papermill": {
     "duration": 0.048999,
     "end_time": "2021-06-03T01:04:40.968624",
     "exception": false,
     "start_time": "2021-06-03T01:04:40.919625",
     "status": "completed"
    },
    "tags": []
   },
   "outputs": [],
   "source": [
    "#hide\n",
    "#delete problematic countries from table\n",
    "df_table = df_table[~df_table['Country/Region'].isin(['Cape Verde', 'Cruise Ship', 'Kosovo'])]"
   ]
  },
  {
   "cell_type": "code",
   "execution_count": 17,
   "id": "related-center",
   "metadata": {
    "execution": {
     "iopub.execute_input": "2021-06-03T01:04:41.072034Z",
     "iopub.status.busy": "2021-06-03T01:04:41.071204Z",
     "iopub.status.idle": "2021-06-03T01:04:41.074159Z",
     "shell.execute_reply": "2021-06-03T01:04:41.073429Z"
    },
    "papermill": {
     "duration": 0.065799,
     "end_time": "2021-06-03T01:04:41.074325",
     "exception": false,
     "start_time": "2021-06-03T01:04:41.008526",
     "status": "completed"
    },
    "tags": []
   },
   "outputs": [],
   "source": [
    "#hide\n",
    "metrics = [df_table.columns[index] for index in [1,2,5,6]]\n",
    "# s_china = df_table[df_table['Country/Region'].eq('China')][metrics].sum().add_prefix('China ')\n",
    "s_us = df_table[df_table['Country/Region'].eq('US')][metrics].sum().add_prefix('US ')\n",
    "s_eu = df_table[df_table['Continent'].eq('Europe')][metrics].sum().add_prefix('EU ')\n",
    "s_ind = df_table[df_table['Country/Region'].eq('India')][metrics].sum().add_prefix('India ')\n",
    "summary = {'updated': pd.to_datetime(dt_today), 'since': pd.to_datetime(dt_yday)}\n",
    "summary = {'updated': pd.to_datetime(dt_today), 'since': pd.to_datetime(dt_yday)}\n",
    "summary = {**summary, **df_table[metrics].sum(), **s_ind, **s_us, **s_eu}"
   ]
  },
  {
   "cell_type": "code",
   "execution_count": 18,
   "id": "engaging-syndrome",
   "metadata": {
    "execution": {
     "iopub.execute_input": "2021-06-03T01:04:41.162588Z",
     "iopub.status.busy": "2021-06-03T01:04:41.161804Z",
     "iopub.status.idle": "2021-06-03T01:04:41.176029Z",
     "shell.execute_reply": "2021-06-03T01:04:41.176673Z"
    },
    "papermill": {
     "duration": 0.061082,
     "end_time": "2021-06-03T01:04:41.176842",
     "exception": false,
     "start_time": "2021-06-03T01:04:41.115760",
     "status": "completed"
    },
    "tags": []
   },
   "outputs": [],
   "source": [
    "#hide\n",
    "dft_ct_new_cases = dft_cases.groupby(COL_REGION)[dt_cols].sum().diff(axis=1).fillna(0).astype(int)"
   ]
  },
  {
   "cell_type": "code",
   "execution_count": 19,
   "id": "neutral-assignment",
   "metadata": {
    "execution": {
     "iopub.execute_input": "2021-06-03T01:04:41.267368Z",
     "iopub.status.busy": "2021-06-03T01:04:41.266280Z",
     "iopub.status.idle": "2021-06-03T01:04:41.275681Z",
     "shell.execute_reply": "2021-06-03T01:04:41.276543Z"
    },
    "papermill": {
     "duration": 0.057359,
     "end_time": "2021-06-03T01:04:41.276771",
     "exception": false,
     "start_time": "2021-06-03T01:04:41.219412",
     "status": "completed"
    },
    "tags": []
   },
   "outputs": [],
   "source": [
    "#hide\n",
    "everydaycases = dft_ct_new_cases.cumsum(axis=1)"
   ]
  },
  {
   "cell_type": "code",
   "execution_count": 20,
   "id": "parliamentary-calgary",
   "metadata": {
    "execution": {
     "iopub.execute_input": "2021-06-03T01:04:41.363885Z",
     "iopub.status.busy": "2021-06-03T01:04:41.363223Z",
     "iopub.status.idle": "2021-06-03T01:04:42.003723Z",
     "shell.execute_reply": "2021-06-03T01:04:42.002727Z"
    },
    "papermill": {
     "duration": 0.686321,
     "end_time": "2021-06-03T01:04:42.003878",
     "exception": false,
     "start_time": "2021-06-03T01:04:41.317557",
     "status": "completed"
    },
    "tags": []
   },
   "outputs": [],
   "source": [
    "#hide\n",
    "import pandas as pd\n",
    "import matplotlib.pyplot as plt\n",
    "import matplotlib.ticker as ticker\n",
    "import matplotlib.animation as animation\n",
    "from IPython.display import HTML"
   ]
  },
  {
   "cell_type": "code",
   "execution_count": 21,
   "id": "lasting-extraction",
   "metadata": {
    "execution": {
     "iopub.execute_input": "2021-06-03T01:04:42.093288Z",
     "iopub.status.busy": "2021-06-03T01:04:42.092601Z",
     "iopub.status.idle": "2021-06-03T01:04:42.100082Z",
     "shell.execute_reply": "2021-06-03T01:04:42.100802Z"
    },
    "papermill": {
     "duration": 0.055344,
     "end_time": "2021-06-03T01:04:42.100963",
     "exception": false,
     "start_time": "2021-06-03T01:04:42.045619",
     "status": "completed"
    },
    "tags": []
   },
   "outputs": [],
   "source": [
    "#hide\n",
    "t = everydaycases.stack()"
   ]
  },
  {
   "cell_type": "code",
   "execution_count": 22,
   "id": "premier-sleeve",
   "metadata": {
    "execution": {
     "iopub.execute_input": "2021-06-03T01:04:42.189023Z",
     "iopub.status.busy": "2021-06-03T01:04:42.188287Z",
     "iopub.status.idle": "2021-06-03T01:04:42.196958Z",
     "shell.execute_reply": "2021-06-03T01:04:42.197639Z"
    },
    "papermill": {
     "duration": 0.055691,
     "end_time": "2021-06-03T01:04:42.197793",
     "exception": false,
     "start_time": "2021-06-03T01:04:42.142102",
     "status": "completed"
    },
    "tags": []
   },
   "outputs": [],
   "source": [
    "#hide\n",
    "g = t.reset_index(['Country/Region'])"
   ]
  },
  {
   "cell_type": "code",
   "execution_count": 23,
   "id": "distributed-pittsburgh",
   "metadata": {
    "execution": {
     "iopub.execute_input": "2021-06-03T01:04:42.287071Z",
     "iopub.status.busy": "2021-06-03T01:04:42.286378Z",
     "iopub.status.idle": "2021-06-03T01:04:42.288453Z",
     "shell.execute_reply": "2021-06-03T01:04:42.289055Z"
    },
    "papermill": {
     "duration": 0.049358,
     "end_time": "2021-06-03T01:04:42.289203",
     "exception": false,
     "start_time": "2021-06-03T01:04:42.239845",
     "status": "completed"
    },
    "tags": []
   },
   "outputs": [],
   "source": [
    "#hide\n",
    "g.index.name = 'date'"
   ]
  },
  {
   "cell_type": "code",
   "execution_count": 24,
   "id": "naked-donor",
   "metadata": {
    "execution": {
     "iopub.execute_input": "2021-06-03T01:04:42.378186Z",
     "iopub.status.busy": "2021-06-03T01:04:42.376737Z",
     "iopub.status.idle": "2021-06-03T01:04:42.378994Z",
     "shell.execute_reply": "2021-06-03T01:04:42.379537Z"
    },
    "papermill": {
     "duration": 0.049391,
     "end_time": "2021-06-03T01:04:42.379729",
     "exception": false,
     "start_time": "2021-06-03T01:04:42.330338",
     "status": "completed"
    },
    "tags": []
   },
   "outputs": [],
   "source": [
    "# #hide\n",
    "# g = g.reset_index(['date'])"
   ]
  },
  {
   "cell_type": "code",
   "execution_count": 25,
   "id": "incomplete-mustang",
   "metadata": {
    "execution": {
     "iopub.execute_input": "2021-06-03T01:04:42.469015Z",
     "iopub.status.busy": "2021-06-03T01:04:42.468219Z",
     "iopub.status.idle": "2021-06-03T01:04:42.472253Z",
     "shell.execute_reply": "2021-06-03T01:04:42.472805Z"
    },
    "papermill": {
     "duration": 0.051485,
     "end_time": "2021-06-03T01:04:42.472984",
     "exception": false,
     "start_time": "2021-06-03T01:04:42.421499",
     "status": "completed"
    },
    "tags": []
   },
   "outputs": [],
   "source": [
    "#hide\n",
    "# g.head()"
   ]
  },
  {
   "cell_type": "code",
   "execution_count": 26,
   "id": "specific-kruger",
   "metadata": {
    "execution": {
     "iopub.execute_input": "2021-06-03T01:04:42.562397Z",
     "iopub.status.busy": "2021-06-03T01:04:42.560836Z",
     "iopub.status.idle": "2021-06-03T01:04:42.563219Z",
     "shell.execute_reply": "2021-06-03T01:04:42.563765Z"
    },
    "papermill": {
     "duration": 0.049168,
     "end_time": "2021-06-03T01:04:42.563919",
     "exception": false,
     "start_time": "2021-06-03T01:04:42.514751",
     "status": "completed"
    },
    "tags": []
   },
   "outputs": [],
   "source": [
    "#hide\n",
    "# g.columns = ['date','country','cases']"
   ]
  },
  {
   "cell_type": "code",
   "execution_count": 27,
   "id": "tender-conversion",
   "metadata": {
    "execution": {
     "iopub.execute_input": "2021-06-03T01:04:42.651595Z",
     "iopub.status.busy": "2021-06-03T01:04:42.650940Z",
     "iopub.status.idle": "2021-06-03T01:04:42.655101Z",
     "shell.execute_reply": "2021-06-03T01:04:42.654551Z"
    },
    "papermill": {
     "duration": 0.050106,
     "end_time": "2021-06-03T01:04:42.655232",
     "exception": false,
     "start_time": "2021-06-03T01:04:42.605126",
     "status": "completed"
    },
    "tags": []
   },
   "outputs": [],
   "source": [
    "#hide\n",
    "# g['continent'] = g.country"
   ]
  },
  {
   "cell_type": "code",
   "execution_count": 28,
   "id": "substantial-wilderness",
   "metadata": {
    "execution": {
     "iopub.execute_input": "2021-06-03T01:04:42.741610Z",
     "iopub.status.busy": "2021-06-03T01:04:42.740173Z",
     "iopub.status.idle": "2021-06-03T01:04:42.742494Z",
     "shell.execute_reply": "2021-06-03T01:04:42.743071Z"
    },
    "papermill": {
     "duration": 0.046806,
     "end_time": "2021-06-03T01:04:42.743221",
     "exception": false,
     "start_time": "2021-06-03T01:04:42.696415",
     "status": "completed"
    },
    "tags": []
   },
   "outputs": [],
   "source": [
    "#hide\n",
    "# cols = list(g.columns.values)"
   ]
  },
  {
   "cell_type": "code",
   "execution_count": 29,
   "id": "solved-farming",
   "metadata": {
    "execution": {
     "iopub.execute_input": "2021-06-03T01:04:42.832984Z",
     "iopub.status.busy": "2021-06-03T01:04:42.832277Z",
     "iopub.status.idle": "2021-06-03T01:04:42.836234Z",
     "shell.execute_reply": "2021-06-03T01:04:42.836753Z"
    },
    "papermill": {
     "duration": 0.050982,
     "end_time": "2021-06-03T01:04:42.836907",
     "exception": false,
     "start_time": "2021-06-03T01:04:42.785925",
     "status": "completed"
    },
    "tags": []
   },
   "outputs": [],
   "source": [
    "#hide\n",
    "# cols.insert(0, cols.pop())"
   ]
  },
  {
   "cell_type": "code",
   "execution_count": 30,
   "id": "executed-adoption",
   "metadata": {
    "execution": {
     "iopub.execute_input": "2021-06-03T01:04:42.922197Z",
     "iopub.status.busy": "2021-06-03T01:04:42.921373Z",
     "iopub.status.idle": "2021-06-03T01:04:42.923769Z",
     "shell.execute_reply": "2021-06-03T01:04:42.923105Z"
    },
    "papermill": {
     "duration": 0.046327,
     "end_time": "2021-06-03T01:04:42.923902",
     "exception": false,
     "start_time": "2021-06-03T01:04:42.877575",
     "status": "completed"
    },
    "tags": []
   },
   "outputs": [],
   "source": [
    "#hide\n",
    "# g = g[cols]"
   ]
  },
  {
   "cell_type": "code",
   "execution_count": 31,
   "id": "subject-dublin",
   "metadata": {
    "execution": {
     "iopub.execute_input": "2021-06-03T01:04:43.016771Z",
     "iopub.status.busy": "2021-06-03T01:04:43.016042Z",
     "iopub.status.idle": "2021-06-03T01:04:43.018152Z",
     "shell.execute_reply": "2021-06-03T01:04:43.018756Z"
    },
    "papermill": {
     "duration": 0.051649,
     "end_time": "2021-06-03T01:04:43.018907",
     "exception": false,
     "start_time": "2021-06-03T01:04:42.967258",
     "status": "completed"
    },
    "tags": []
   },
   "outputs": [],
   "source": [
    "#hide\n",
    "# g['continent'] = g['continent'].map(mapping['map.continent'])"
   ]
  },
  {
   "cell_type": "code",
   "execution_count": 32,
   "id": "freelance-scout",
   "metadata": {
    "execution": {
     "iopub.execute_input": "2021-06-03T01:04:43.108569Z",
     "iopub.status.busy": "2021-06-03T01:04:43.107840Z",
     "iopub.status.idle": "2021-06-03T01:04:43.110642Z",
     "shell.execute_reply": "2021-06-03T01:04:43.110005Z"
    },
    "papermill": {
     "duration": 0.048123,
     "end_time": "2021-06-03T01:04:43.110777",
     "exception": false,
     "start_time": "2021-06-03T01:04:43.062654",
     "status": "completed"
    },
    "tags": []
   },
   "outputs": [],
   "source": [
    "#hide\n",
    "# g.head()"
   ]
  },
  {
   "cell_type": "code",
   "execution_count": 33,
   "id": "limited-engine",
   "metadata": {
    "execution": {
     "iopub.execute_input": "2021-06-03T01:04:43.200181Z",
     "iopub.status.busy": "2021-06-03T01:04:43.199502Z",
     "iopub.status.idle": "2021-06-03T01:04:43.202165Z",
     "shell.execute_reply": "2021-06-03T01:04:43.201548Z"
    },
    "papermill": {
     "duration": 0.047975,
     "end_time": "2021-06-03T01:04:43.202319",
     "exception": false,
     "start_time": "2021-06-03T01:04:43.154344",
     "status": "completed"
    },
    "tags": []
   },
   "outputs": [],
   "source": [
    "# hide\n",
    "# g['date'] = g['date'].astype('datetime64[ns]')"
   ]
  },
  {
   "cell_type": "code",
   "execution_count": 34,
   "id": "sophisticated-supervisor",
   "metadata": {
    "execution": {
     "iopub.execute_input": "2021-06-03T01:04:43.288373Z",
     "iopub.status.busy": "2021-06-03T01:04:43.287682Z",
     "iopub.status.idle": "2021-06-03T01:04:43.289676Z",
     "shell.execute_reply": "2021-06-03T01:04:43.290251Z"
    },
    "papermill": {
     "duration": 0.047775,
     "end_time": "2021-06-03T01:04:43.290417",
     "exception": false,
     "start_time": "2021-06-03T01:04:43.242642",
     "status": "completed"
    },
    "tags": []
   },
   "outputs": [],
   "source": [
    "#hide\n",
    "# g['date'] = g.date.dt.dayofyear"
   ]
  },
  {
   "cell_type": "code",
   "execution_count": 35,
   "id": "inside-dubai",
   "metadata": {
    "execution": {
     "iopub.execute_input": "2021-06-03T01:04:43.381954Z",
     "iopub.status.busy": "2021-06-03T01:04:43.380603Z",
     "iopub.status.idle": "2021-06-03T01:04:43.382777Z",
     "shell.execute_reply": "2021-06-03T01:04:43.383326Z"
    },
    "papermill": {
     "duration": 0.052011,
     "end_time": "2021-06-03T01:04:43.383480",
     "exception": false,
     "start_time": "2021-06-03T01:04:43.331469",
     "status": "completed"
    },
    "tags": []
   },
   "outputs": [],
   "source": [
    "#hide\n",
    "# g = g.rename(columns= {'continent':'group','country':'name','cases':'value'})"
   ]
  },
  {
   "cell_type": "code",
   "execution_count": 36,
   "id": "fleet-motorcycle",
   "metadata": {
    "execution": {
     "iopub.execute_input": "2021-06-03T01:04:43.474300Z",
     "iopub.status.busy": "2021-06-03T01:04:43.473588Z",
     "iopub.status.idle": "2021-06-03T01:04:43.477024Z",
     "shell.execute_reply": "2021-06-03T01:04:43.477792Z"
    },
    "papermill": {
     "duration": 0.052759,
     "end_time": "2021-06-03T01:04:43.478006",
     "exception": false,
     "start_time": "2021-06-03T01:04:43.425247",
     "status": "completed"
    },
    "tags": []
   },
   "outputs": [],
   "source": [
    "#hide\n",
    "# cols = ['name','group','day','value']"
   ]
  },
  {
   "cell_type": "code",
   "execution_count": 37,
   "id": "continued-sleeping",
   "metadata": {
    "execution": {
     "iopub.execute_input": "2021-06-03T01:04:43.563278Z",
     "iopub.status.busy": "2021-06-03T01:04:43.562544Z",
     "iopub.status.idle": "2021-06-03T01:04:43.565144Z",
     "shell.execute_reply": "2021-06-03T01:04:43.564600Z"
    },
    "papermill": {
     "duration": 0.046848,
     "end_time": "2021-06-03T01:04:43.565276",
     "exception": false,
     "start_time": "2021-06-03T01:04:43.518428",
     "status": "completed"
    },
    "tags": []
   },
   "outputs": [],
   "source": [
    "#hide\n",
    "# g.rename(columns= {'date':'day'},inplace = True)"
   ]
  },
  {
   "cell_type": "code",
   "execution_count": 38,
   "id": "major-fight",
   "metadata": {
    "execution": {
     "iopub.execute_input": "2021-06-03T01:04:43.648064Z",
     "iopub.status.busy": "2021-06-03T01:04:43.647389Z",
     "iopub.status.idle": "2021-06-03T01:04:43.650081Z",
     "shell.execute_reply": "2021-06-03T01:04:43.649517Z"
    },
    "papermill": {
     "duration": 0.045286,
     "end_time": "2021-06-03T01:04:43.650245",
     "exception": false,
     "start_time": "2021-06-03T01:04:43.604959",
     "status": "completed"
    },
    "tags": []
   },
   "outputs": [],
   "source": [
    "#hide\n",
    "# g = g[cols]"
   ]
  },
  {
   "cell_type": "code",
   "execution_count": 39,
   "id": "structured-mobile",
   "metadata": {
    "execution": {
     "iopub.execute_input": "2021-06-03T01:04:43.735004Z",
     "iopub.status.busy": "2021-06-03T01:04:43.734360Z",
     "iopub.status.idle": "2021-06-03T01:04:43.736941Z",
     "shell.execute_reply": "2021-06-03T01:04:43.736217Z"
    },
    "papermill": {
     "duration": 0.045503,
     "end_time": "2021-06-03T01:04:43.737086",
     "exception": false,
     "start_time": "2021-06-03T01:04:43.691583",
     "status": "completed"
    },
    "tags": []
   },
   "outputs": [],
   "source": [
    "# #hide\n",
    "# g = g[g.group.notna()]"
   ]
  },
  {
   "cell_type": "code",
   "execution_count": 40,
   "id": "determined-closing",
   "metadata": {
    "execution": {
     "iopub.execute_input": "2021-06-03T01:04:43.821898Z",
     "iopub.status.busy": "2021-06-03T01:04:43.821086Z",
     "iopub.status.idle": "2021-06-03T01:04:43.823781Z",
     "shell.execute_reply": "2021-06-03T01:04:43.823237Z"
    },
    "papermill": {
     "duration": 0.047149,
     "end_time": "2021-06-03T01:04:43.823903",
     "exception": false,
     "start_time": "2021-06-03T01:04:43.776754",
     "status": "completed"
    },
    "tags": []
   },
   "outputs": [],
   "source": [
    "# #hide\n",
    "# colors = dict(zip(\n",
    "#     [\"Oceania\", \"Europe\", \"Asia\", \"South America\", \"Middle East\", \"North America\", \"Africa\"],\n",
    "#     [\"#adb0ff\", \"#ffb3ff\", \"#90d595\", \"#e48381\", \"#aafbff\", \"#f7bb5f\", \"#eafb50\"]\n",
    "# ))\n",
    "# group_lk = g.set_index('name')['group'].to_dict()"
   ]
  },
  {
   "cell_type": "code",
   "execution_count": null,
   "id": "gross-drinking",
   "metadata": {
    "papermill": {
     "duration": 0.03982,
     "end_time": "2021-06-03T01:04:43.903606",
     "exception": false,
     "start_time": "2021-06-03T01:04:43.863786",
     "status": "completed"
    },
    "tags": []
   },
   "outputs": [],
   "source": []
  },
  {
   "cell_type": "code",
   "execution_count": 41,
   "id": "subject-macintosh",
   "metadata": {
    "execution": {
     "iopub.execute_input": "2021-06-03T01:04:43.987556Z",
     "iopub.status.busy": "2021-06-03T01:04:43.986831Z",
     "iopub.status.idle": "2021-06-03T01:04:43.989183Z",
     "shell.execute_reply": "2021-06-03T01:04:43.989816Z"
    },
    "papermill": {
     "duration": 0.047544,
     "end_time": "2021-06-03T01:04:43.989966",
     "exception": false,
     "start_time": "2021-06-03T01:04:43.942422",
     "status": "completed"
    },
    "tags": []
   },
   "outputs": [],
   "source": [
    "# #hide\n",
    "# fig, ax = plt.subplots(figsize=(15, 8))\n",
    "\n",
    "# def draw_barchart(current_day):\n",
    "#     dff = g[g['day'].eq(current_day)].sort_values(by='value', ascending=True).tail(10)\n",
    "#     ax.clear()\n",
    "#     ax.barh(dff['name'], dff['value'], color=[colors[group_lk[x]] for x in dff['name']])\n",
    "#     dx = dff['value'].max() / 200\n",
    "    \n",
    "#     for i, (value, name) in enumerate(zip(dff['value'], dff['name'])):\n",
    "#         ax.text(value-dx, i,     name,           size=14, weight=600, ha='right', va='bottom')\n",
    "#         ax.text(value-dx, i-.25, group_lk[name], size=10, color='#444444', ha='right', va='baseline')\n",
    "#         ax.text(value+dx, i,     f'{value:,.0f}',  size=14, ha='left',  va='center')\n",
    "#     ax.text(1, 0.4, current_day, transform=ax.transAxes, color='#777777', size=46, ha='right', weight=800)\n",
    "#     ax.text(0, 1.06, 'Population (thousands)', transform=ax.transAxes, size=12, color='#777777')\n",
    "#     ax.xaxis.set_major_formatter(ticker.StrMethodFormatter('{x:,.0f}'))\n",
    "#     ax.xaxis.set_ticks_position('top')\n",
    "#     ax.tick_params(axis='x', colors='#777777', labelsize=12)\n",
    "#     ax.set_yticks([])\n",
    "#     ax.margins(0, 0.01)\n",
    "#     ax.grid(which='major', axis='x', linestyle='-')\n",
    "#     ax.set_axisbelow(True)\n",
    "    \n",
    "#     ax.text(0, 1.15, 'Coronavirus',\n",
    "#             transform=ax.transAxes, size=24, weight=600, ha='left', va='top')\n",
    "# #     ax.text(1, 0, 'by @pratapvardhan; credit @jburnmurdoch', transform=ax.transAxes, color='#777777', ha='right',\n",
    "# #             bbox=dict(facecolor='white', alpha=0.8, edgecolor='white'))\n",
    "#     plt.box(False)"
   ]
  },
  {
   "cell_type": "code",
   "execution_count": 42,
   "id": "sexual-wages",
   "metadata": {
    "execution": {
     "iopub.execute_input": "2021-06-03T01:04:44.075174Z",
     "iopub.status.busy": "2021-06-03T01:04:44.074465Z",
     "iopub.status.idle": "2021-06-03T01:04:44.076373Z",
     "shell.execute_reply": "2021-06-03T01:04:44.076995Z"
    },
    "papermill": {
     "duration": 0.046795,
     "end_time": "2021-06-03T01:04:44.077152",
     "exception": false,
     "start_time": "2021-06-03T01:04:44.030357",
     "status": "completed"
    },
    "tags": []
   },
   "outputs": [],
   "source": [
    "# #hide_input\n",
    "# fig, ax = plt.subplots(figsize=(15, 8))\n",
    "# animator = animation.FuncAnimation(fig, draw_barchart, frames=range(g.day.values.min(), g.day.values.max()))\n",
    "# HTML(animator.to_jshtml())\n",
    "# # or use animator.to_html5_video() or animator.save() "
   ]
  },
  {
   "cell_type": "code",
   "execution_count": null,
   "id": "australian-container",
   "metadata": {
    "papermill": {
     "duration": 0.039987,
     "end_time": "2021-06-03T01:04:44.156893",
     "exception": false,
     "start_time": "2021-06-03T01:04:44.116906",
     "status": "completed"
    },
    "tags": []
   },
   "outputs": [],
   "source": []
  },
  {
   "cell_type": "code",
   "execution_count": null,
   "id": "mediterranean-pontiac",
   "metadata": {
    "papermill": {
     "duration": 0.040534,
     "end_time": "2021-06-03T01:04:44.238574",
     "exception": false,
     "start_time": "2021-06-03T01:04:44.198040",
     "status": "completed"
    },
    "tags": []
   },
   "outputs": [],
   "source": []
  },
  {
   "cell_type": "code",
   "execution_count": null,
   "id": "aging-legislature",
   "metadata": {
    "papermill": {
     "duration": 0.040979,
     "end_time": "2021-06-03T01:04:44.320189",
     "exception": false,
     "start_time": "2021-06-03T01:04:44.279210",
     "status": "completed"
    },
    "tags": []
   },
   "outputs": [],
   "source": []
  }
 ],
 "metadata": {
  "kernelspec": {
   "display_name": "Python 3",
   "language": "python",
   "name": "python3"
  },
  "language_info": {
   "codemirror_mode": {
    "name": "ipython",
    "version": 3
   },
   "file_extension": ".py",
   "mimetype": "text/x-python",
   "name": "python",
   "nbconvert_exporter": "python",
   "pygments_lexer": "ipython3",
   "version": "3.6.13"
  },
  "papermill": {
   "duration": 7.208685,
   "end_time": "2021-06-03T01:04:44.668660",
   "environment_variables": {},
   "exception": null,
   "input_path": "2020-03-21-covid19exp.ipynb",
   "output_path": "2020-03-21-covid19exp.ipynb",
   "parameters": {},
   "start_time": "2021-06-03T01:04:37.459975",
   "version": "2.0.0"
  }
 },
 "nbformat": 4,
 "nbformat_minor": 5
}