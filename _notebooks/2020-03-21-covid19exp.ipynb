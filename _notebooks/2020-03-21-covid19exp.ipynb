{
 "cells": [
  {
   "cell_type": "markdown",
   "id": "muslim-click",
   "metadata": {
    "papermill": {
     "duration": 0.03474,
     "end_time": "2022-10-26T12:20:43.552811",
     "exception": false,
     "start_time": "2022-10-26T12:20:43.518071",
     "status": "completed"
    },
    "tags": []
   },
   "source": [
    "# COVID-19 Case Race\n",
    "> A race chart to see rising cases around the world\n",
    "\n",
    "- author: Hargun Oberoi\n",
    "- image: images/covid-overview.png\n",
    "- hide: false\n",
    "- badges: false"
   ]
  },
  {
   "cell_type": "code",
   "execution_count": 1,
   "id": "proof-material",
   "metadata": {
    "execution": {
     "iopub.execute_input": "2022-10-26T12:20:43.621995Z",
     "iopub.status.busy": "2022-10-26T12:20:43.621428Z",
     "iopub.status.idle": "2022-10-26T12:20:43.979928Z",
     "shell.execute_reply": "2022-10-26T12:20:43.979443Z"
    },
    "papermill": {
     "duration": 0.397093,
     "end_time": "2022-10-26T12:20:43.980057",
     "exception": false,
     "start_time": "2022-10-26T12:20:43.582964",
     "status": "completed"
    },
    "tags": []
   },
   "outputs": [],
   "source": [
    "#hide\n",
    "import numpy as np\n",
    "import pandas as pd\n",
    "from jinja2 import Template\n",
    "from IPython.display import HTML"
   ]
  },
  {
   "cell_type": "code",
   "execution_count": 2,
   "id": "developed-terminology",
   "metadata": {
    "execution": {
     "iopub.execute_input": "2022-10-26T12:20:44.043817Z",
     "iopub.status.busy": "2022-10-26T12:20:44.043223Z",
     "iopub.status.idle": "2022-10-26T12:20:44.045940Z",
     "shell.execute_reply": "2022-10-26T12:20:44.045490Z"
    },
    "papermill": {
     "duration": 0.036359,
     "end_time": "2022-10-26T12:20:44.046045",
     "exception": false,
     "start_time": "2022-10-26T12:20:44.009686",
     "status": "completed"
    },
    "tags": []
   },
   "outputs": [],
   "source": [
    "#hide\n",
    "\n",
    "# FETCH\n",
    "base_url = 'https://raw.githubusercontent.com/pratapvardhan/notebooks/master/covid19/'\n",
    "paths = {\n",
    "    'mapping': base_url + 'mapping_countries.csv',\n",
    "    'overview': base_url + 'overview.tpl'\n",
    "}"
   ]
  },
  {
   "cell_type": "code",
   "execution_count": 3,
   "id": "dynamic-saver",
   "metadata": {
    "execution": {
     "iopub.execute_input": "2022-10-26T12:20:44.114247Z",
     "iopub.status.busy": "2022-10-26T12:20:44.113643Z",
     "iopub.status.idle": "2022-10-26T12:20:44.117045Z",
     "shell.execute_reply": "2022-10-26T12:20:44.116598Z"
    },
    "papermill": {
     "duration": 0.041767,
     "end_time": "2022-10-26T12:20:44.117150",
     "exception": false,
     "start_time": "2022-10-26T12:20:44.075383",
     "status": "completed"
    },
    "tags": []
   },
   "outputs": [
    {
     "data": {
      "text/plain": [
       "'https://raw.githubusercontent.com/pratapvardhan/notebooks/master/covid19/mapping_countries.csv'"
      ]
     },
     "execution_count": 3,
     "metadata": {},
     "output_type": "execute_result"
    }
   ],
   "source": [
    "#hide\n",
    "paths['mapping']"
   ]
  },
  {
   "cell_type": "code",
   "execution_count": 4,
   "id": "urban-software",
   "metadata": {
    "execution": {
     "iopub.execute_input": "2022-10-26T12:20:44.182500Z",
     "iopub.status.busy": "2022-10-26T12:20:44.181912Z",
     "iopub.status.idle": "2022-10-26T12:20:44.184322Z",
     "shell.execute_reply": "2022-10-26T12:20:44.183866Z"
    },
    "papermill": {
     "duration": 0.037315,
     "end_time": "2022-10-26T12:20:44.184424",
     "exception": false,
     "start_time": "2022-10-26T12:20:44.147109",
     "status": "completed"
    },
    "tags": []
   },
   "outputs": [],
   "source": [
    "#hide\n",
    "def get_mappings(url):\n",
    "    df = pd.read_csv(url)\n",
    "    return {\n",
    "        'df': df,\n",
    "        'replace.country': dict(df.dropna(subset=['Name']).set_index('Country')['Name']),\n",
    "        'map.continent': dict(df.set_index('Name')['Continent'])\n",
    "    }"
   ]
  },
  {
   "cell_type": "code",
   "execution_count": 5,
   "id": "intimate-machinery",
   "metadata": {
    "execution": {
     "iopub.execute_input": "2022-10-26T12:20:44.249343Z",
     "iopub.status.busy": "2022-10-26T12:20:44.248770Z",
     "iopub.status.idle": "2022-10-26T12:20:44.312611Z",
     "shell.execute_reply": "2022-10-26T12:20:44.313055Z"
    },
    "papermill": {
     "duration": 0.098975,
     "end_time": "2022-10-26T12:20:44.313192",
     "exception": false,
     "start_time": "2022-10-26T12:20:44.214217",
     "status": "completed"
    },
    "tags": []
   },
   "outputs": [],
   "source": [
    "#hide\n",
    "mapping = get_mappings(paths['mapping'])"
   ]
  },
  {
   "cell_type": "code",
   "execution_count": 6,
   "id": "certified-tactics",
   "metadata": {
    "execution": {
     "iopub.execute_input": "2022-10-26T12:20:44.378213Z",
     "iopub.status.busy": "2022-10-26T12:20:44.377626Z",
     "iopub.status.idle": "2022-10-26T12:20:44.380019Z",
     "shell.execute_reply": "2022-10-26T12:20:44.379477Z"
    },
    "papermill": {
     "duration": 0.036834,
     "end_time": "2022-10-26T12:20:44.380121",
     "exception": false,
     "start_time": "2022-10-26T12:20:44.343287",
     "status": "completed"
    },
    "tags": []
   },
   "outputs": [],
   "source": [
    "#hide\n",
    "def get_template(path):\n",
    "    from urllib.parse import urlparse\n",
    "    if bool(urlparse(path).netloc):\n",
    "        from urllib.request import urlopen\n",
    "        return urlopen(path).read().decode('utf8')\n",
    "    return open(path).read()"
   ]
  },
  {
   "cell_type": "code",
   "execution_count": 7,
   "id": "realistic-blast",
   "metadata": {
    "execution": {
     "iopub.execute_input": "2022-10-26T12:20:44.444818Z",
     "iopub.status.busy": "2022-10-26T12:20:44.444236Z",
     "iopub.status.idle": "2022-10-26T12:20:44.446965Z",
     "shell.execute_reply": "2022-10-26T12:20:44.446472Z"
    },
    "papermill": {
     "duration": 0.037038,
     "end_time": "2022-10-26T12:20:44.447097",
     "exception": false,
     "start_time": "2022-10-26T12:20:44.410059",
     "status": "completed"
    },
    "tags": []
   },
   "outputs": [],
   "source": [
    "#hide\n",
    "def get_frame(name):\n",
    "    url = (\n",
    "        'https://raw.githubusercontent.com/CSSEGISandData/COVID-19/master/csse_covid_19_data/'\n",
    "        f'csse_covid_19_time_series/time_series_covid19_{name}_global.csv')\n",
    "    df = pd.read_csv(url)\n",
    "    # rename countries\n",
    "    df['Country/Region'] = df['Country/Region'].replace(mapping['replace.country'])\n",
    "    return df"
   ]
  },
  {
   "cell_type": "code",
   "execution_count": 8,
   "id": "affiliated-characterization",
   "metadata": {
    "execution": {
     "iopub.execute_input": "2022-10-26T12:20:44.513130Z",
     "iopub.status.busy": "2022-10-26T12:20:44.512525Z",
     "iopub.status.idle": "2022-10-26T12:20:44.514897Z",
     "shell.execute_reply": "2022-10-26T12:20:44.514446Z"
    },
    "papermill": {
     "duration": 0.037917,
     "end_time": "2022-10-26T12:20:44.515003",
     "exception": false,
     "start_time": "2022-10-26T12:20:44.477086",
     "status": "completed"
    },
    "tags": []
   },
   "outputs": [],
   "source": [
    "#hide\n",
    "def get_dates(df):\n",
    "    dt_cols = df.columns[~df.columns.isin(['Province/State', 'Country/Region', 'Lat', 'Long'])]\n",
    "    LAST_DATE_I = -1\n",
    "    # sometimes last column may be empty, then go backwards\n",
    "    for i in range(-1, -len(dt_cols), -1):\n",
    "        if not df[dt_cols[i]].fillna(0).eq(0).all():\n",
    "            LAST_DATE_I = i\n",
    "            break\n",
    "    return LAST_DATE_I, dt_cols"
   ]
  },
  {
   "cell_type": "code",
   "execution_count": 9,
   "id": "recent-optimization",
   "metadata": {
    "execution": {
     "iopub.execute_input": "2022-10-26T12:20:44.580098Z",
     "iopub.status.busy": "2022-10-26T12:20:44.579483Z",
     "iopub.status.idle": "2022-10-26T12:20:45.319152Z",
     "shell.execute_reply": "2022-10-26T12:20:45.318614Z"
    },
    "papermill": {
     "duration": 0.774461,
     "end_time": "2022-10-26T12:20:45.319270",
     "exception": false,
     "start_time": "2022-10-26T12:20:44.544809",
     "status": "completed"
    },
    "tags": []
   },
   "outputs": [],
   "source": [
    "#hide\n",
    "COL_REGION = 'Country/Region'\n",
    "# Confirmed, Recovered, Deaths\n",
    "df = get_frame('confirmed')\n",
    "# dft_: timeseries, dfc_: today country agg\n",
    "dft_cases = df\n",
    "dft_deaths = get_frame('deaths')\n",
    "dft_recovered = get_frame('recovered')\n",
    "LAST_DATE_I, dt_cols = get_dates(df)"
   ]
  },
  {
   "cell_type": "code",
   "execution_count": 10,
   "id": "absolute-copper",
   "metadata": {
    "execution": {
     "iopub.execute_input": "2022-10-26T12:20:45.384622Z",
     "iopub.status.busy": "2022-10-26T12:20:45.383916Z",
     "iopub.status.idle": "2022-10-26T12:20:45.386368Z",
     "shell.execute_reply": "2022-10-26T12:20:45.385913Z"
    },
    "papermill": {
     "duration": 0.037199,
     "end_time": "2022-10-26T12:20:45.386473",
     "exception": false,
     "start_time": "2022-10-26T12:20:45.349274",
     "status": "completed"
    },
    "tags": []
   },
   "outputs": [],
   "source": [
    "#hide\n",
    "LAST_DATE_I, dt_cols = get_dates(df)\n",
    "dt_today =dt_cols[LAST_DATE_I]\n",
    "# dt_5day = dt_cols[LAST_DATE_I - 5]\n",
    "dt_yday = dt_cols[LAST_DATE_I - 1]"
   ]
  },
  {
   "cell_type": "code",
   "execution_count": 11,
   "id": "restricted-sheriff",
   "metadata": {
    "execution": {
     "iopub.execute_input": "2022-10-26T12:20:45.452105Z",
     "iopub.status.busy": "2022-10-26T12:20:45.451549Z",
     "iopub.status.idle": "2022-10-26T12:20:45.459008Z",
     "shell.execute_reply": "2022-10-26T12:20:45.458528Z"
    },
    "papermill": {
     "duration": 0.042954,
     "end_time": "2022-10-26T12:20:45.459140",
     "exception": false,
     "start_time": "2022-10-26T12:20:45.416186",
     "status": "completed"
    },
    "tags": []
   },
   "outputs": [],
   "source": [
    "#hide\n",
    "dfc_cases = dft_cases.groupby(COL_REGION)[dt_today].sum()\n",
    "dfc_deaths = dft_deaths.groupby(COL_REGION)[dt_today].sum()\n",
    "# dfp_cases = dft_cases.groupby(COL_REGION)[dt_5day].sum()\n",
    "# dfp_deaths = dft_deaths.groupby(COL_REGION)[dt_5day].sum()\n",
    "dfp_cases = dft_cases.groupby(COL_REGION)[dt_yday].sum()\n",
    "dfp_deaths = dft_deaths.groupby(COL_REGION)[dt_yday].sum()"
   ]
  },
  {
   "cell_type": "code",
   "execution_count": 12,
   "id": "deluxe-hepatitis",
   "metadata": {
    "execution": {
     "iopub.execute_input": "2022-10-26T12:20:45.524994Z",
     "iopub.status.busy": "2022-10-26T12:20:45.524392Z",
     "iopub.status.idle": "2022-10-26T12:20:45.529570Z",
     "shell.execute_reply": "2022-10-26T12:20:45.529094Z"
    },
    "papermill": {
     "duration": 0.040601,
     "end_time": "2022-10-26T12:20:45.529681",
     "exception": false,
     "start_time": "2022-10-26T12:20:45.489080",
     "status": "completed"
    },
    "tags": []
   },
   "outputs": [],
   "source": [
    "#hide\n",
    "df_table = (pd.DataFrame(dict(Cases = dfc_cases, Deaths = dfc_deaths, PCases = dfp_cases, PDeaths = dfp_deaths))\n",
    "            .sort_values(by = ['Cases','Deaths'], ascending = [False, False])\n",
    "            .reset_index())"
   ]
  },
  {
   "cell_type": "code",
   "execution_count": 13,
   "id": "educational-chancellor",
   "metadata": {
    "execution": {
     "iopub.execute_input": "2022-10-26T12:20:45.602350Z",
     "iopub.status.busy": "2022-10-26T12:20:45.601772Z",
     "iopub.status.idle": "2022-10-26T12:20:45.614233Z",
     "shell.execute_reply": "2022-10-26T12:20:45.613776Z"
    },
    "papermill": {
     "duration": 0.054797,
     "end_time": "2022-10-26T12:20:45.614341",
     "exception": false,
     "start_time": "2022-10-26T12:20:45.559544",
     "status": "completed"
    },
    "tags": []
   },
   "outputs": [
    {
     "data": {
      "text/html": [
       "<div>\n",
       "<style scoped>\n",
       "    .dataframe tbody tr th:only-of-type {\n",
       "        vertical-align: middle;\n",
       "    }\n",
       "\n",
       "    .dataframe tbody tr th {\n",
       "        vertical-align: top;\n",
       "    }\n",
       "\n",
       "    .dataframe thead th {\n",
       "        text-align: right;\n",
       "    }\n",
       "</style>\n",
       "<table border=\"1\" class=\"dataframe\">\n",
       "  <thead>\n",
       "    <tr style=\"text-align: right;\">\n",
       "      <th></th>\n",
       "      <th>Country/Region</th>\n",
       "      <th>Cases</th>\n",
       "      <th>Deaths</th>\n",
       "      <th>PCases</th>\n",
       "      <th>PDeaths</th>\n",
       "      <th>Cases (+)</th>\n",
       "      <th>Deaths (+)</th>\n",
       "      <th>Fatality Rate</th>\n",
       "      <th>Continent</th>\n",
       "    </tr>\n",
       "  </thead>\n",
       "  <tbody>\n",
       "    <tr>\n",
       "      <th>0</th>\n",
       "      <td>US</td>\n",
       "      <td>97268173</td>\n",
       "      <td>1068297</td>\n",
       "      <td>97239469</td>\n",
       "      <td>1067882</td>\n",
       "      <td>28704</td>\n",
       "      <td>415</td>\n",
       "      <td>1.10</td>\n",
       "      <td>North America</td>\n",
       "    </tr>\n",
       "    <tr>\n",
       "      <th>1</th>\n",
       "      <td>India</td>\n",
       "      <td>44645768</td>\n",
       "      <td>528981</td>\n",
       "      <td>44644938</td>\n",
       "      <td>528980</td>\n",
       "      <td>830</td>\n",
       "      <td>1</td>\n",
       "      <td>1.18</td>\n",
       "      <td>Asia</td>\n",
       "    </tr>\n",
       "    <tr>\n",
       "      <th>2</th>\n",
       "      <td>France</td>\n",
       "      <td>36883805</td>\n",
       "      <td>157680</td>\n",
       "      <td>36824097</td>\n",
       "      <td>157549</td>\n",
       "      <td>59708</td>\n",
       "      <td>131</td>\n",
       "      <td>0.43</td>\n",
       "      <td>Europe</td>\n",
       "    </tr>\n",
       "    <tr>\n",
       "      <th>3</th>\n",
       "      <td>Germany</td>\n",
       "      <td>35383015</td>\n",
       "      <td>152997</td>\n",
       "      <td>35288228</td>\n",
       "      <td>152755</td>\n",
       "      <td>94787</td>\n",
       "      <td>242</td>\n",
       "      <td>0.43</td>\n",
       "      <td>Europe</td>\n",
       "    </tr>\n",
       "    <tr>\n",
       "      <th>4</th>\n",
       "      <td>Brazil</td>\n",
       "      <td>34799324</td>\n",
       "      <td>687710</td>\n",
       "      <td>34783786</td>\n",
       "      <td>687574</td>\n",
       "      <td>15538</td>\n",
       "      <td>136</td>\n",
       "      <td>1.98</td>\n",
       "      <td>South America</td>\n",
       "    </tr>\n",
       "  </tbody>\n",
       "</table>\n",
       "</div>"
      ],
      "text/plain": [
       "  Country/Region     Cases   Deaths    PCases  PDeaths  Cases (+)  Deaths (+)  \\\n",
       "0             US  97268173  1068297  97239469  1067882      28704         415   \n",
       "1          India  44645768   528981  44644938   528980        830           1   \n",
       "2         France  36883805   157680  36824097   157549      59708         131   \n",
       "3        Germany  35383015   152997  35288228   152755      94787         242   \n",
       "4         Brazil  34799324   687710  34783786   687574      15538         136   \n",
       "\n",
       "   Fatality Rate      Continent  \n",
       "0           1.10  North America  \n",
       "1           1.18           Asia  \n",
       "2           0.43         Europe  \n",
       "3           0.43         Europe  \n",
       "4           1.98  South America  "
      ]
     },
     "execution_count": 13,
     "metadata": {},
     "output_type": "execute_result"
    }
   ],
   "source": [
    "#hide\n",
    "for c in 'Cases, Deaths'.split(', '):\n",
    "    df_table[f'{c} (+)'] = (df_table[c] - df_table[f'P{c}']).clip(0)\n",
    "    #Clip ça veut dire, les chiffres negatif sont interdit\n",
    "df_table['Fatality Rate'] = (100* df_table['Deaths']/ df_table['Cases']).round(2)\n",
    "df_table['Continent'] = df_table['Country/Region'].map(mapping['map.continent'])\n",
    "df_table.head(5)"
   ]
  },
  {
   "cell_type": "code",
   "execution_count": 14,
   "id": "aboriginal-bulgaria",
   "metadata": {
    "execution": {
     "iopub.execute_input": "2022-10-26T12:20:45.680896Z",
     "iopub.status.busy": "2022-10-26T12:20:45.680310Z",
     "iopub.status.idle": "2022-10-26T12:20:45.682756Z",
     "shell.execute_reply": "2022-10-26T12:20:45.682232Z"
    },
    "papermill": {
     "duration": 0.03808,
     "end_time": "2022-10-26T12:20:45.682862",
     "exception": false,
     "start_time": "2022-10-26T12:20:45.644782",
     "status": "completed"
    },
    "tags": []
   },
   "outputs": [],
   "source": [
    "#hide\n",
    "#delete problematic countries from table\n",
    "df_table = df_table[~df_table['Country/Region'].isin(['Cape Verde', 'Cruise Ship', 'Kosovo'])]"
   ]
  },
  {
   "cell_type": "code",
   "execution_count": 15,
   "id": "fantastic-effect",
   "metadata": {
    "execution": {
     "iopub.execute_input": "2022-10-26T12:20:45.751468Z",
     "iopub.status.busy": "2022-10-26T12:20:45.750839Z",
     "iopub.status.idle": "2022-10-26T12:20:45.768817Z",
     "shell.execute_reply": "2022-10-26T12:20:45.768371Z"
    },
    "papermill": {
     "duration": 0.055858,
     "end_time": "2022-10-26T12:20:45.768929",
     "exception": false,
     "start_time": "2022-10-26T12:20:45.713071",
     "status": "completed"
    },
    "tags": []
   },
   "outputs": [
    {
     "data": {
      "text/html": [
       "<div>\n",
       "<style scoped>\n",
       "    .dataframe tbody tr th:only-of-type {\n",
       "        vertical-align: middle;\n",
       "    }\n",
       "\n",
       "    .dataframe tbody tr th {\n",
       "        vertical-align: top;\n",
       "    }\n",
       "\n",
       "    .dataframe thead th {\n",
       "        text-align: right;\n",
       "    }\n",
       "</style>\n",
       "<table border=\"1\" class=\"dataframe\">\n",
       "  <thead>\n",
       "    <tr style=\"text-align: right;\">\n",
       "      <th></th>\n",
       "      <th>Country/Region</th>\n",
       "      <th>Cases</th>\n",
       "      <th>Deaths</th>\n",
       "      <th>PCases</th>\n",
       "      <th>PDeaths</th>\n",
       "      <th>Cases (+)</th>\n",
       "      <th>Deaths (+)</th>\n",
       "      <th>Fatality Rate</th>\n",
       "      <th>Continent</th>\n",
       "    </tr>\n",
       "  </thead>\n",
       "  <tbody>\n",
       "    <tr>\n",
       "      <th>0</th>\n",
       "      <td>US</td>\n",
       "      <td>97268173</td>\n",
       "      <td>1068297</td>\n",
       "      <td>97239469</td>\n",
       "      <td>1067882</td>\n",
       "      <td>28704</td>\n",
       "      <td>415</td>\n",
       "      <td>1.1</td>\n",
       "      <td>North America</td>\n",
       "    </tr>\n",
       "    <tr>\n",
       "      <th>1</th>\n",
       "      <td>India</td>\n",
       "      <td>44645768</td>\n",
       "      <td>528981</td>\n",
       "      <td>44644938</td>\n",
       "      <td>528980</td>\n",
       "      <td>830</td>\n",
       "      <td>1</td>\n",
       "      <td>1.2</td>\n",
       "      <td>Asia</td>\n",
       "    </tr>\n",
       "    <tr>\n",
       "      <th>2</th>\n",
       "      <td>France</td>\n",
       "      <td>36883805</td>\n",
       "      <td>157680</td>\n",
       "      <td>36824097</td>\n",
       "      <td>157549</td>\n",
       "      <td>59708</td>\n",
       "      <td>131</td>\n",
       "      <td>0.4</td>\n",
       "      <td>Europe</td>\n",
       "    </tr>\n",
       "    <tr>\n",
       "      <th>3</th>\n",
       "      <td>Germany</td>\n",
       "      <td>35383015</td>\n",
       "      <td>152997</td>\n",
       "      <td>35288228</td>\n",
       "      <td>152755</td>\n",
       "      <td>94787</td>\n",
       "      <td>242</td>\n",
       "      <td>0.4</td>\n",
       "      <td>Europe</td>\n",
       "    </tr>\n",
       "    <tr>\n",
       "      <th>4</th>\n",
       "      <td>Brazil</td>\n",
       "      <td>34799324</td>\n",
       "      <td>687710</td>\n",
       "      <td>34783786</td>\n",
       "      <td>687574</td>\n",
       "      <td>15538</td>\n",
       "      <td>136</td>\n",
       "      <td>2.0</td>\n",
       "      <td>South America</td>\n",
       "    </tr>\n",
       "  </tbody>\n",
       "</table>\n",
       "</div>"
      ],
      "text/plain": [
       "  Country/Region     Cases   Deaths    PCases  PDeaths  Cases (+)  Deaths (+)  \\\n",
       "0             US  97268173  1068297  97239469  1067882      28704         415   \n",
       "1          India  44645768   528981  44644938   528980        830           1   \n",
       "2         France  36883805   157680  36824097   157549      59708         131   \n",
       "3        Germany  35383015   152997  35288228   152755      94787         242   \n",
       "4         Brazil  34799324   687710  34783786   687574      15538         136   \n",
       "\n",
       "   Fatality Rate      Continent  \n",
       "0            1.1  North America  \n",
       "1            1.2           Asia  \n",
       "2            0.4         Europe  \n",
       "3            0.4         Europe  \n",
       "4            2.0  South America  "
      ]
     },
     "execution_count": 15,
     "metadata": {},
     "output_type": "execute_result"
    }
   ],
   "source": [
    "#hide\n",
    "df_table = (pd.DataFrame(dict(Cases=dfc_cases, Deaths=dfc_deaths, PCases=dfp_cases, PDeaths=dfp_deaths))\n",
    "             .sort_values(by=['Cases', 'Deaths'], ascending=[False, False])\n",
    "             .reset_index())\n",
    "df_table.rename(columns={'index': 'Country/Region'}, inplace=True)\n",
    "for c in 'Cases, Deaths'.split(', '):\n",
    "    df_table[f'{c} (+)'] = (df_table[c] - df_table[f'P{c}']).clip(0)  # DATA BUG\n",
    "df_table['Fatality Rate'] = (100 * df_table['Deaths'] / df_table['Cases']).round(1)\n",
    "df_table['Continent'] = df_table['Country/Region'].map(mapping['map.continent'])\n",
    "df_table.head(5)"
   ]
  },
  {
   "cell_type": "code",
   "execution_count": 16,
   "id": "fewer-occasion",
   "metadata": {
    "execution": {
     "iopub.execute_input": "2022-10-26T12:20:45.837114Z",
     "iopub.status.busy": "2022-10-26T12:20:45.836480Z",
     "iopub.status.idle": "2022-10-26T12:20:45.839220Z",
     "shell.execute_reply": "2022-10-26T12:20:45.838725Z"
    },
    "papermill": {
     "duration": 0.039422,
     "end_time": "2022-10-26T12:20:45.839338",
     "exception": false,
     "start_time": "2022-10-26T12:20:45.799916",
     "status": "completed"
    },
    "tags": []
   },
   "outputs": [],
   "source": [
    "#hide\n",
    "#delete problematic countries from table\n",
    "df_table = df_table[~df_table['Country/Region'].isin(['Cape Verde', 'Cruise Ship', 'Kosovo'])]"
   ]
  },
  {
   "cell_type": "code",
   "execution_count": 17,
   "id": "related-center",
   "metadata": {
    "execution": {
     "iopub.execute_input": "2022-10-26T12:20:45.919693Z",
     "iopub.status.busy": "2022-10-26T12:20:45.919048Z",
     "iopub.status.idle": "2022-10-26T12:20:45.921320Z",
     "shell.execute_reply": "2022-10-26T12:20:45.920768Z"
    },
    "papermill": {
     "duration": 0.050529,
     "end_time": "2022-10-26T12:20:45.921428",
     "exception": false,
     "start_time": "2022-10-26T12:20:45.870899",
     "status": "completed"
    },
    "tags": []
   },
   "outputs": [],
   "source": [
    "#hide\n",
    "metrics = [df_table.columns[index] for index in [1,2,5,6]]\n",
    "# s_china = df_table[df_table['Country/Region'].eq('China')][metrics].sum().add_prefix('China ')\n",
    "s_us = df_table[df_table['Country/Region'].eq('US')][metrics].sum().add_prefix('US ')\n",
    "s_eu = df_table[df_table['Continent'].eq('Europe')][metrics].sum().add_prefix('EU ')\n",
    "s_ind = df_table[df_table['Country/Region'].eq('India')][metrics].sum().add_prefix('India ')\n",
    "summary = {'updated': pd.to_datetime(dt_today), 'since': pd.to_datetime(dt_yday)}\n",
    "summary = {'updated': pd.to_datetime(dt_today), 'since': pd.to_datetime(dt_yday)}\n",
    "summary = {**summary, **df_table[metrics].sum(), **s_ind, **s_us, **s_eu}"
   ]
  },
  {
   "cell_type": "code",
   "execution_count": 18,
   "id": "engaging-syndrome",
   "metadata": {
    "execution": {
     "iopub.execute_input": "2022-10-26T12:20:45.988703Z",
     "iopub.status.busy": "2022-10-26T12:20:45.988091Z",
     "iopub.status.idle": "2022-10-26T12:20:46.009972Z",
     "shell.execute_reply": "2022-10-26T12:20:46.010441Z"
    },
    "papermill": {
     "duration": 0.058316,
     "end_time": "2022-10-26T12:20:46.010579",
     "exception": false,
     "start_time": "2022-10-26T12:20:45.952263",
     "status": "completed"
    },
    "tags": []
   },
   "outputs": [],
   "source": [
    "#hide\n",
    "dft_ct_new_cases = dft_cases.groupby(COL_REGION)[dt_cols].sum().diff(axis=1).fillna(0).astype(int)"
   ]
  },
  {
   "cell_type": "code",
   "execution_count": 19,
   "id": "neutral-assignment",
   "metadata": {
    "execution": {
     "iopub.execute_input": "2022-10-26T12:20:46.078399Z",
     "iopub.status.busy": "2022-10-26T12:20:46.077801Z",
     "iopub.status.idle": "2022-10-26T12:20:46.080132Z",
     "shell.execute_reply": "2022-10-26T12:20:46.079581Z"
    },
    "papermill": {
     "duration": 0.038874,
     "end_time": "2022-10-26T12:20:46.080240",
     "exception": false,
     "start_time": "2022-10-26T12:20:46.041366",
     "status": "completed"
    },
    "tags": []
   },
   "outputs": [],
   "source": [
    "#hide\n",
    "everydaycases = dft_ct_new_cases.cumsum(axis=1)"
   ]
  },
  {
   "cell_type": "code",
   "execution_count": 20,
   "id": "parliamentary-calgary",
   "metadata": {
    "execution": {
     "iopub.execute_input": "2022-10-26T12:20:46.146906Z",
     "iopub.status.busy": "2022-10-26T12:20:46.146346Z",
     "iopub.status.idle": "2022-10-26T12:20:46.696113Z",
     "shell.execute_reply": "2022-10-26T12:20:46.695631Z"
    },
    "papermill": {
     "duration": 0.584865,
     "end_time": "2022-10-26T12:20:46.696228",
     "exception": false,
     "start_time": "2022-10-26T12:20:46.111363",
     "status": "completed"
    },
    "tags": []
   },
   "outputs": [],
   "source": [
    "#hide\n",
    "import pandas as pd\n",
    "import matplotlib.pyplot as plt\n",
    "import matplotlib.ticker as ticker\n",
    "import matplotlib.animation as animation\n",
    "from IPython.display import HTML"
   ]
  },
  {
   "cell_type": "code",
   "execution_count": 21,
   "id": "lasting-extraction",
   "metadata": {
    "execution": {
     "iopub.execute_input": "2022-10-26T12:20:46.764173Z",
     "iopub.status.busy": "2022-10-26T12:20:46.763605Z",
     "iopub.status.idle": "2022-10-26T12:20:46.770512Z",
     "shell.execute_reply": "2022-10-26T12:20:46.770965Z"
    },
    "papermill": {
     "duration": 0.044121,
     "end_time": "2022-10-26T12:20:46.771111",
     "exception": false,
     "start_time": "2022-10-26T12:20:46.726990",
     "status": "completed"
    },
    "tags": []
   },
   "outputs": [],
   "source": [
    "#hide\n",
    "t = everydaycases.stack()"
   ]
  },
  {
   "cell_type": "code",
   "execution_count": 22,
   "id": "premier-sleeve",
   "metadata": {
    "execution": {
     "iopub.execute_input": "2022-10-26T12:20:46.837428Z",
     "iopub.status.busy": "2022-10-26T12:20:46.836863Z",
     "iopub.status.idle": "2022-10-26T12:20:46.850575Z",
     "shell.execute_reply": "2022-10-26T12:20:46.851052Z"
    },
    "papermill": {
     "duration": 0.049249,
     "end_time": "2022-10-26T12:20:46.851183",
     "exception": false,
     "start_time": "2022-10-26T12:20:46.801934",
     "status": "completed"
    },
    "tags": []
   },
   "outputs": [],
   "source": [
    "#hide\n",
    "g = t.reset_index(['Country/Region'])"
   ]
  },
  {
   "cell_type": "code",
   "execution_count": 23,
   "id": "distributed-pittsburgh",
   "metadata": {
    "execution": {
     "iopub.execute_input": "2022-10-26T12:20:46.917239Z",
     "iopub.status.busy": "2022-10-26T12:20:46.916671Z",
     "iopub.status.idle": "2022-10-26T12:20:46.919312Z",
     "shell.execute_reply": "2022-10-26T12:20:46.918751Z"
    },
    "papermill": {
     "duration": 0.036921,
     "end_time": "2022-10-26T12:20:46.919419",
     "exception": false,
     "start_time": "2022-10-26T12:20:46.882498",
     "status": "completed"
    },
    "tags": []
   },
   "outputs": [],
   "source": [
    "#hide\n",
    "g.index.name = 'date'"
   ]
  },
  {
   "cell_type": "code",
   "execution_count": 24,
   "id": "naked-donor",
   "metadata": {
    "execution": {
     "iopub.execute_input": "2022-10-26T12:20:46.985235Z",
     "iopub.status.busy": "2022-10-26T12:20:46.984640Z",
     "iopub.status.idle": "2022-10-26T12:20:46.987204Z",
     "shell.execute_reply": "2022-10-26T12:20:46.986748Z"
    },
    "papermill": {
     "duration": 0.036877,
     "end_time": "2022-10-26T12:20:46.987315",
     "exception": false,
     "start_time": "2022-10-26T12:20:46.950438",
     "status": "completed"
    },
    "tags": []
   },
   "outputs": [],
   "source": [
    "# #hide\n",
    "# g = g.reset_index(['date'])"
   ]
  },
  {
   "cell_type": "code",
   "execution_count": 25,
   "id": "incomplete-mustang",
   "metadata": {
    "execution": {
     "iopub.execute_input": "2022-10-26T12:20:47.052923Z",
     "iopub.status.busy": "2022-10-26T12:20:47.052341Z",
     "iopub.status.idle": "2022-10-26T12:20:47.054831Z",
     "shell.execute_reply": "2022-10-26T12:20:47.054275Z"
    },
    "papermill": {
     "duration": 0.036783,
     "end_time": "2022-10-26T12:20:47.054941",
     "exception": false,
     "start_time": "2022-10-26T12:20:47.018158",
     "status": "completed"
    },
    "tags": []
   },
   "outputs": [],
   "source": [
    "#hide\n",
    "# g.head()"
   ]
  },
  {
   "cell_type": "code",
   "execution_count": 26,
   "id": "specific-kruger",
   "metadata": {
    "execution": {
     "iopub.execute_input": "2022-10-26T12:20:47.120748Z",
     "iopub.status.busy": "2022-10-26T12:20:47.120187Z",
     "iopub.status.idle": "2022-10-26T12:20:47.123787Z",
     "shell.execute_reply": "2022-10-26T12:20:47.124210Z"
    },
    "papermill": {
     "duration": 0.038505,
     "end_time": "2022-10-26T12:20:47.124342",
     "exception": false,
     "start_time": "2022-10-26T12:20:47.085837",
     "status": "completed"
    },
    "tags": []
   },
   "outputs": [],
   "source": [
    "#hide\n",
    "# g.columns = ['date','country','cases']"
   ]
  },
  {
   "cell_type": "code",
   "execution_count": 27,
   "id": "tender-conversion",
   "metadata": {
    "execution": {
     "iopub.execute_input": "2022-10-26T12:20:47.189771Z",
     "iopub.status.busy": "2022-10-26T12:20:47.189101Z",
     "iopub.status.idle": "2022-10-26T12:20:47.191529Z",
     "shell.execute_reply": "2022-10-26T12:20:47.190970Z"
    },
    "papermill": {
     "duration": 0.036537,
     "end_time": "2022-10-26T12:20:47.191635",
     "exception": false,
     "start_time": "2022-10-26T12:20:47.155098",
     "status": "completed"
    },
    "tags": []
   },
   "outputs": [],
   "source": [
    "#hide\n",
    "# g['continent'] = g.country"
   ]
  },
  {
   "cell_type": "code",
   "execution_count": 28,
   "id": "substantial-wilderness",
   "metadata": {
    "execution": {
     "iopub.execute_input": "2022-10-26T12:20:47.257406Z",
     "iopub.status.busy": "2022-10-26T12:20:47.256835Z",
     "iopub.status.idle": "2022-10-26T12:20:47.259184Z",
     "shell.execute_reply": "2022-10-26T12:20:47.258635Z"
    },
    "papermill": {
     "duration": 0.03666,
     "end_time": "2022-10-26T12:20:47.259288",
     "exception": false,
     "start_time": "2022-10-26T12:20:47.222628",
     "status": "completed"
    },
    "tags": []
   },
   "outputs": [],
   "source": [
    "#hide\n",
    "# cols = list(g.columns.values)"
   ]
  },
  {
   "cell_type": "code",
   "execution_count": 29,
   "id": "solved-farming",
   "metadata": {
    "execution": {
     "iopub.execute_input": "2022-10-26T12:20:47.324416Z",
     "iopub.status.busy": "2022-10-26T12:20:47.323838Z",
     "iopub.status.idle": "2022-10-26T12:20:47.326208Z",
     "shell.execute_reply": "2022-10-26T12:20:47.325669Z"
    },
    "papermill": {
     "duration": 0.036346,
     "end_time": "2022-10-26T12:20:47.326315",
     "exception": false,
     "start_time": "2022-10-26T12:20:47.289969",
     "status": "completed"
    },
    "tags": []
   },
   "outputs": [],
   "source": [
    "#hide\n",
    "# cols.insert(0, cols.pop())"
   ]
  },
  {
   "cell_type": "code",
   "execution_count": 30,
   "id": "executed-adoption",
   "metadata": {
    "execution": {
     "iopub.execute_input": "2022-10-26T12:20:47.391919Z",
     "iopub.status.busy": "2022-10-26T12:20:47.391311Z",
     "iopub.status.idle": "2022-10-26T12:20:47.393403Z",
     "shell.execute_reply": "2022-10-26T12:20:47.393833Z"
    },
    "papermill": {
     "duration": 0.036755,
     "end_time": "2022-10-26T12:20:47.393959",
     "exception": false,
     "start_time": "2022-10-26T12:20:47.357204",
     "status": "completed"
    },
    "tags": []
   },
   "outputs": [],
   "source": [
    "#hide\n",
    "# g = g[cols]"
   ]
  },
  {
   "cell_type": "code",
   "execution_count": 31,
   "id": "subject-dublin",
   "metadata": {
    "execution": {
     "iopub.execute_input": "2022-10-26T12:20:47.459309Z",
     "iopub.status.busy": "2022-10-26T12:20:47.458665Z",
     "iopub.status.idle": "2022-10-26T12:20:47.461044Z",
     "shell.execute_reply": "2022-10-26T12:20:47.460491Z"
    },
    "papermill": {
     "duration": 0.036451,
     "end_time": "2022-10-26T12:20:47.461155",
     "exception": false,
     "start_time": "2022-10-26T12:20:47.424704",
     "status": "completed"
    },
    "tags": []
   },
   "outputs": [],
   "source": [
    "#hide\n",
    "# g['continent'] = g['continent'].map(mapping['map.continent'])"
   ]
  },
  {
   "cell_type": "code",
   "execution_count": 32,
   "id": "freelance-scout",
   "metadata": {
    "execution": {
     "iopub.execute_input": "2022-10-26T12:20:47.526972Z",
     "iopub.status.busy": "2022-10-26T12:20:47.526390Z",
     "iopub.status.idle": "2022-10-26T12:20:47.528683Z",
     "shell.execute_reply": "2022-10-26T12:20:47.529107Z"
    },
    "papermill": {
     "duration": 0.037225,
     "end_time": "2022-10-26T12:20:47.529348",
     "exception": false,
     "start_time": "2022-10-26T12:20:47.492123",
     "status": "completed"
    },
    "tags": []
   },
   "outputs": [],
   "source": [
    "#hide\n",
    "# g.head()"
   ]
  },
  {
   "cell_type": "code",
   "execution_count": 33,
   "id": "limited-engine",
   "metadata": {
    "execution": {
     "iopub.execute_input": "2022-10-26T12:20:47.595005Z",
     "iopub.status.busy": "2022-10-26T12:20:47.594416Z",
     "iopub.status.idle": "2022-10-26T12:20:47.596716Z",
     "shell.execute_reply": "2022-10-26T12:20:47.597122Z"
    },
    "papermill": {
     "duration": 0.036998,
     "end_time": "2022-10-26T12:20:47.597249",
     "exception": false,
     "start_time": "2022-10-26T12:20:47.560251",
     "status": "completed"
    },
    "tags": []
   },
   "outputs": [],
   "source": [
    "# hide\n",
    "# g['date'] = g['date'].astype('datetime64[ns]')"
   ]
  },
  {
   "cell_type": "code",
   "execution_count": 34,
   "id": "sophisticated-supervisor",
   "metadata": {
    "execution": {
     "iopub.execute_input": "2022-10-26T12:20:47.663441Z",
     "iopub.status.busy": "2022-10-26T12:20:47.662812Z",
     "iopub.status.idle": "2022-10-26T12:20:47.665187Z",
     "shell.execute_reply": "2022-10-26T12:20:47.665611Z"
    },
    "papermill": {
     "duration": 0.037444,
     "end_time": "2022-10-26T12:20:47.665744",
     "exception": false,
     "start_time": "2022-10-26T12:20:47.628300",
     "status": "completed"
    },
    "tags": []
   },
   "outputs": [],
   "source": [
    "#hide\n",
    "# g['date'] = g.date.dt.dayofyear"
   ]
  },
  {
   "cell_type": "code",
   "execution_count": 35,
   "id": "inside-dubai",
   "metadata": {
    "execution": {
     "iopub.execute_input": "2022-10-26T12:20:47.731080Z",
     "iopub.status.busy": "2022-10-26T12:20:47.730465Z",
     "iopub.status.idle": "2022-10-26T12:20:47.732729Z",
     "shell.execute_reply": "2022-10-26T12:20:47.733145Z"
    },
    "papermill": {
     "duration": 0.036715,
     "end_time": "2022-10-26T12:20:47.733275",
     "exception": false,
     "start_time": "2022-10-26T12:20:47.696560",
     "status": "completed"
    },
    "tags": []
   },
   "outputs": [],
   "source": [
    "#hide\n",
    "# g = g.rename(columns= {'continent':'group','country':'name','cases':'value'})"
   ]
  },
  {
   "cell_type": "code",
   "execution_count": 36,
   "id": "fleet-motorcycle",
   "metadata": {
    "execution": {
     "iopub.execute_input": "2022-10-26T12:20:47.799027Z",
     "iopub.status.busy": "2022-10-26T12:20:47.798445Z",
     "iopub.status.idle": "2022-10-26T12:20:47.800363Z",
     "shell.execute_reply": "2022-10-26T12:20:47.799831Z"
    },
    "papermill": {
     "duration": 0.036339,
     "end_time": "2022-10-26T12:20:47.800466",
     "exception": false,
     "start_time": "2022-10-26T12:20:47.764127",
     "status": "completed"
    },
    "tags": []
   },
   "outputs": [],
   "source": [
    "#hide\n",
    "# cols = ['name','group','day','value']"
   ]
  },
  {
   "cell_type": "code",
   "execution_count": 37,
   "id": "continued-sleeping",
   "metadata": {
    "execution": {
     "iopub.execute_input": "2022-10-26T12:20:47.865822Z",
     "iopub.status.busy": "2022-10-26T12:20:47.865256Z",
     "iopub.status.idle": "2022-10-26T12:20:47.867419Z",
     "shell.execute_reply": "2022-10-26T12:20:47.866953Z"
    },
    "papermill": {
     "duration": 0.036314,
     "end_time": "2022-10-26T12:20:47.867522",
     "exception": false,
     "start_time": "2022-10-26T12:20:47.831208",
     "status": "completed"
    },
    "tags": []
   },
   "outputs": [],
   "source": [
    "#hide\n",
    "# g.rename(columns= {'date':'day'},inplace = True)"
   ]
  },
  {
   "cell_type": "code",
   "execution_count": 38,
   "id": "major-fight",
   "metadata": {
    "execution": {
     "iopub.execute_input": "2022-10-26T12:20:47.933631Z",
     "iopub.status.busy": "2022-10-26T12:20:47.933051Z",
     "iopub.status.idle": "2022-10-26T12:20:47.934985Z",
     "shell.execute_reply": "2022-10-26T12:20:47.935444Z"
    },
    "papermill": {
     "duration": 0.036347,
     "end_time": "2022-10-26T12:20:47.935566",
     "exception": false,
     "start_time": "2022-10-26T12:20:47.899219",
     "status": "completed"
    },
    "tags": []
   },
   "outputs": [],
   "source": [
    "#hide\n",
    "# g = g[cols]"
   ]
  },
  {
   "cell_type": "code",
   "execution_count": 39,
   "id": "structured-mobile",
   "metadata": {
    "execution": {
     "iopub.execute_input": "2022-10-26T12:20:48.000868Z",
     "iopub.status.busy": "2022-10-26T12:20:48.000281Z",
     "iopub.status.idle": "2022-10-26T12:20:48.002854Z",
     "shell.execute_reply": "2022-10-26T12:20:48.002372Z"
    },
    "papermill": {
     "duration": 0.036701,
     "end_time": "2022-10-26T12:20:48.002961",
     "exception": false,
     "start_time": "2022-10-26T12:20:47.966260",
     "status": "completed"
    },
    "tags": []
   },
   "outputs": [],
   "source": [
    "# #hide\n",
    "# g = g[g.group.notna()]"
   ]
  },
  {
   "cell_type": "code",
   "execution_count": 40,
   "id": "determined-closing",
   "metadata": {
    "execution": {
     "iopub.execute_input": "2022-10-26T12:20:48.068978Z",
     "iopub.status.busy": "2022-10-26T12:20:48.068390Z",
     "iopub.status.idle": "2022-10-26T12:20:48.070843Z",
     "shell.execute_reply": "2022-10-26T12:20:48.070288Z"
    },
    "papermill": {
     "duration": 0.036815,
     "end_time": "2022-10-26T12:20:48.070954",
     "exception": false,
     "start_time": "2022-10-26T12:20:48.034139",
     "status": "completed"
    },
    "tags": []
   },
   "outputs": [],
   "source": [
    "# #hide\n",
    "# colors = dict(zip(\n",
    "#     [\"Oceania\", \"Europe\", \"Asia\", \"South America\", \"Middle East\", \"North America\", \"Africa\"],\n",
    "#     [\"#adb0ff\", \"#ffb3ff\", \"#90d595\", \"#e48381\", \"#aafbff\", \"#f7bb5f\", \"#eafb50\"]\n",
    "# ))\n",
    "# group_lk = g.set_index('name')['group'].to_dict()"
   ]
  },
  {
   "cell_type": "code",
   "execution_count": null,
   "id": "gross-drinking",
   "metadata": {
    "papermill": {
     "duration": 0.030763,
     "end_time": "2022-10-26T12:20:48.132579",
     "exception": false,
     "start_time": "2022-10-26T12:20:48.101816",
     "status": "completed"
    },
    "tags": []
   },
   "outputs": [],
   "source": []
  },
  {
   "cell_type": "code",
   "execution_count": 41,
   "id": "subject-macintosh",
   "metadata": {
    "execution": {
     "iopub.execute_input": "2022-10-26T12:20:48.198923Z",
     "iopub.status.busy": "2022-10-26T12:20:48.198345Z",
     "iopub.status.idle": "2022-10-26T12:20:48.201158Z",
     "shell.execute_reply": "2022-10-26T12:20:48.200693Z"
    },
    "papermill": {
     "duration": 0.03782,
     "end_time": "2022-10-26T12:20:48.201266",
     "exception": false,
     "start_time": "2022-10-26T12:20:48.163446",
     "status": "completed"
    },
    "tags": []
   },
   "outputs": [],
   "source": [
    "# #hide\n",
    "# fig, ax = plt.subplots(figsize=(15, 8))\n",
    "\n",
    "# def draw_barchart(current_day):\n",
    "#     dff = g[g['day'].eq(current_day)].sort_values(by='value', ascending=True).tail(10)\n",
    "#     ax.clear()\n",
    "#     ax.barh(dff['name'], dff['value'], color=[colors[group_lk[x]] for x in dff['name']])\n",
    "#     dx = dff['value'].max() / 200\n",
    "    \n",
    "#     for i, (value, name) in enumerate(zip(dff['value'], dff['name'])):\n",
    "#         ax.text(value-dx, i,     name,           size=14, weight=600, ha='right', va='bottom')\n",
    "#         ax.text(value-dx, i-.25, group_lk[name], size=10, color='#444444', ha='right', va='baseline')\n",
    "#         ax.text(value+dx, i,     f'{value:,.0f}',  size=14, ha='left',  va='center')\n",
    "#     ax.text(1, 0.4, current_day, transform=ax.transAxes, color='#777777', size=46, ha='right', weight=800)\n",
    "#     ax.text(0, 1.06, 'Population (thousands)', transform=ax.transAxes, size=12, color='#777777')\n",
    "#     ax.xaxis.set_major_formatter(ticker.StrMethodFormatter('{x:,.0f}'))\n",
    "#     ax.xaxis.set_ticks_position('top')\n",
    "#     ax.tick_params(axis='x', colors='#777777', labelsize=12)\n",
    "#     ax.set_yticks([])\n",
    "#     ax.margins(0, 0.01)\n",
    "#     ax.grid(which='major', axis='x', linestyle='-')\n",
    "#     ax.set_axisbelow(True)\n",
    "    \n",
    "#     ax.text(0, 1.15, 'Coronavirus',\n",
    "#             transform=ax.transAxes, size=24, weight=600, ha='left', va='top')\n",
    "# #     ax.text(1, 0, 'by @pratapvardhan; credit @jburnmurdoch', transform=ax.transAxes, color='#777777', ha='right',\n",
    "# #             bbox=dict(facecolor='white', alpha=0.8, edgecolor='white'))\n",
    "#     plt.box(False)"
   ]
  },
  {
   "cell_type": "code",
   "execution_count": 42,
   "id": "sexual-wages",
   "metadata": {
    "execution": {
     "iopub.execute_input": "2022-10-26T12:20:48.266805Z",
     "iopub.status.busy": "2022-10-26T12:20:48.266203Z",
     "iopub.status.idle": "2022-10-26T12:20:48.268684Z",
     "shell.execute_reply": "2022-10-26T12:20:48.268237Z"
    },
    "papermill": {
     "duration": 0.036615,
     "end_time": "2022-10-26T12:20:48.268792",
     "exception": false,
     "start_time": "2022-10-26T12:20:48.232177",
     "status": "completed"
    },
    "tags": []
   },
   "outputs": [],
   "source": [
    "# #hide_input\n",
    "# fig, ax = plt.subplots(figsize=(15, 8))\n",
    "# animator = animation.FuncAnimation(fig, draw_barchart, frames=range(g.day.values.min(), g.day.values.max()))\n",
    "# HTML(animator.to_jshtml())\n",
    "# # or use animator.to_html5_video() or animator.save() "
   ]
  },
  {
   "cell_type": "code",
   "execution_count": null,
   "id": "australian-container",
   "metadata": {
    "papermill": {
     "duration": 0.030853,
     "end_time": "2022-10-26T12:20:48.331421",
     "exception": false,
     "start_time": "2022-10-26T12:20:48.300568",
     "status": "completed"
    },
    "tags": []
   },
   "outputs": [],
   "source": []
  },
  {
   "cell_type": "code",
   "execution_count": null,
   "id": "mediterranean-pontiac",
   "metadata": {
    "papermill": {
     "duration": 0.0363,
     "end_time": "2022-10-26T12:20:48.399314",
     "exception": false,
     "start_time": "2022-10-26T12:20:48.363014",
     "status": "completed"
    },
    "tags": []
   },
   "outputs": [],
   "source": []
  },
  {
   "cell_type": "code",
   "execution_count": null,
   "id": "aging-legislature",
   "metadata": {
    "papermill": {
     "duration": 0.040258,
     "end_time": "2022-10-26T12:20:48.502536",
     "exception": false,
     "start_time": "2022-10-26T12:20:48.462278",
     "status": "completed"
    },
    "tags": []
   },
   "outputs": [],
   "source": []
  }
 ],
 "metadata": {
  "kernelspec": {
   "display_name": "Python 3",
   "language": "python",
   "name": "python3"
  },
  "language_info": {
   "codemirror_mode": {
    "name": "ipython",
    "version": 3
   },
   "file_extension": ".py",
   "mimetype": "text/x-python",
   "name": "python",
   "nbconvert_exporter": "python",
   "pygments_lexer": "ipython3",
   "version": "3.6.15"
  },
  "papermill": {
   "duration": 6.406466,
   "end_time": "2022-10-26T12:20:48.977188",
   "environment_variables": {},
   "exception": null,
   "input_path": "2020-03-21-covid19exp.ipynb",
   "output_path": "2020-03-21-covid19exp.ipynb",
   "parameters": {},
   "start_time": "2022-10-26T12:20:42.570722",
   "version": "2.0.0"
  }
 },
 "nbformat": 4,
 "nbformat_minor": 5
}