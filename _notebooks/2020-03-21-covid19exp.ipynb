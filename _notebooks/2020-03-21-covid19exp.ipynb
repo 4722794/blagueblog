{
 "cells": [
  {
   "cell_type": "markdown",
   "id": "muslim-click",
   "metadata": {
    "papermill": {
     "duration": 0.038212,
     "end_time": "2022-05-10T12:18:27.741957",
     "exception": false,
     "start_time": "2022-05-10T12:18:27.703745",
     "status": "completed"
    },
    "tags": []
   },
   "source": [
    "# COVID-19 Case Race\n",
    "> A race chart to see rising cases around the world\n",
    "\n",
    "- author: Hargun Oberoi\n",
    "- image: images/covid-overview.png\n",
    "- hide: false\n",
    "- badges: false"
   ]
  },
  {
   "cell_type": "code",
   "execution_count": 1,
   "id": "proof-material",
   "metadata": {
    "execution": {
     "iopub.execute_input": "2022-05-10T12:18:27.820897Z",
     "iopub.status.busy": "2022-05-10T12:18:27.820316Z",
     "iopub.status.idle": "2022-05-10T12:18:28.178540Z",
     "shell.execute_reply": "2022-05-10T12:18:28.179078Z"
    },
    "papermill": {
     "duration": 0.40211,
     "end_time": "2022-05-10T12:18:28.179258",
     "exception": false,
     "start_time": "2022-05-10T12:18:27.777148",
     "status": "completed"
    },
    "tags": []
   },
   "outputs": [],
   "source": [
    "#hide\n",
    "import numpy as np\n",
    "import pandas as pd\n",
    "from jinja2 import Template\n",
    "from IPython.display import HTML"
   ]
  },
  {
   "cell_type": "code",
   "execution_count": 2,
   "id": "developed-terminology",
   "metadata": {
    "execution": {
     "iopub.execute_input": "2022-05-10T12:18:28.253464Z",
     "iopub.status.busy": "2022-05-10T12:18:28.252817Z",
     "iopub.status.idle": "2022-05-10T12:18:28.255376Z",
     "shell.execute_reply": "2022-05-10T12:18:28.254904Z"
    },
    "papermill": {
     "duration": 0.041615,
     "end_time": "2022-05-10T12:18:28.255536",
     "exception": false,
     "start_time": "2022-05-10T12:18:28.213921",
     "status": "completed"
    },
    "tags": []
   },
   "outputs": [],
   "source": [
    "#hide\n",
    "\n",
    "# FETCH\n",
    "base_url = 'https://raw.githubusercontent.com/pratapvardhan/notebooks/master/covid19/'\n",
    "paths = {\n",
    "    'mapping': base_url + 'mapping_countries.csv',\n",
    "    'overview': base_url + 'overview.tpl'\n",
    "}"
   ]
  },
  {
   "cell_type": "code",
   "execution_count": 3,
   "id": "dynamic-saver",
   "metadata": {
    "execution": {
     "iopub.execute_input": "2022-05-10T12:18:28.334397Z",
     "iopub.status.busy": "2022-05-10T12:18:28.331800Z",
     "iopub.status.idle": "2022-05-10T12:18:28.337289Z",
     "shell.execute_reply": "2022-05-10T12:18:28.337979Z"
    },
    "papermill": {
     "duration": 0.04809,
     "end_time": "2022-05-10T12:18:28.338135",
     "exception": false,
     "start_time": "2022-05-10T12:18:28.290045",
     "status": "completed"
    },
    "tags": []
   },
   "outputs": [
    {
     "data": {
      "text/plain": [
       "'https://raw.githubusercontent.com/pratapvardhan/notebooks/master/covid19/mapping_countries.csv'"
      ]
     },
     "execution_count": 3,
     "metadata": {},
     "output_type": "execute_result"
    }
   ],
   "source": [
    "#hide\n",
    "paths['mapping']"
   ]
  },
  {
   "cell_type": "code",
   "execution_count": 4,
   "id": "urban-software",
   "metadata": {
    "execution": {
     "iopub.execute_input": "2022-05-10T12:18:28.412887Z",
     "iopub.status.busy": "2022-05-10T12:18:28.412179Z",
     "iopub.status.idle": "2022-05-10T12:18:28.414914Z",
     "shell.execute_reply": "2022-05-10T12:18:28.414415Z"
    },
    "papermill": {
     "duration": 0.042368,
     "end_time": "2022-05-10T12:18:28.415042",
     "exception": false,
     "start_time": "2022-05-10T12:18:28.372674",
     "status": "completed"
    },
    "tags": []
   },
   "outputs": [],
   "source": [
    "#hide\n",
    "def get_mappings(url):\n",
    "    df = pd.read_csv(url)\n",
    "    return {\n",
    "        'df': df,\n",
    "        'replace.country': dict(df.dropna(subset=['Name']).set_index('Country')['Name']),\n",
    "        'map.continent': dict(df.set_index('Name')['Continent'])\n",
    "    }"
   ]
  },
  {
   "cell_type": "code",
   "execution_count": 5,
   "id": "intimate-machinery",
   "metadata": {
    "execution": {
     "iopub.execute_input": "2022-05-10T12:18:28.489125Z",
     "iopub.status.busy": "2022-05-10T12:18:28.488492Z",
     "iopub.status.idle": "2022-05-10T12:18:28.517236Z",
     "shell.execute_reply": "2022-05-10T12:18:28.516762Z"
    },
    "papermill": {
     "duration": 0.068045,
     "end_time": "2022-05-10T12:18:28.517384",
     "exception": false,
     "start_time": "2022-05-10T12:18:28.449339",
     "status": "completed"
    },
    "tags": []
   },
   "outputs": [],
   "source": [
    "#hide\n",
    "mapping = get_mappings(paths['mapping'])"
   ]
  },
  {
   "cell_type": "code",
   "execution_count": 6,
   "id": "certified-tactics",
   "metadata": {
    "execution": {
     "iopub.execute_input": "2022-05-10T12:18:28.591542Z",
     "iopub.status.busy": "2022-05-10T12:18:28.590830Z",
     "iopub.status.idle": "2022-05-10T12:18:28.592780Z",
     "shell.execute_reply": "2022-05-10T12:18:28.593248Z"
    },
    "papermill": {
     "duration": 0.041453,
     "end_time": "2022-05-10T12:18:28.593379",
     "exception": false,
     "start_time": "2022-05-10T12:18:28.551926",
     "status": "completed"
    },
    "tags": []
   },
   "outputs": [],
   "source": [
    "#hide\n",
    "def get_template(path):\n",
    "    from urllib.parse import urlparse\n",
    "    if bool(urlparse(path).netloc):\n",
    "        from urllib.request import urlopen\n",
    "        return urlopen(path).read().decode('utf8')\n",
    "    return open(path).read()"
   ]
  },
  {
   "cell_type": "code",
   "execution_count": 7,
   "id": "realistic-blast",
   "metadata": {
    "execution": {
     "iopub.execute_input": "2022-05-10T12:18:28.674659Z",
     "iopub.status.busy": "2022-05-10T12:18:28.674050Z",
     "iopub.status.idle": "2022-05-10T12:18:28.677188Z",
     "shell.execute_reply": "2022-05-10T12:18:28.676618Z"
    },
    "papermill": {
     "duration": 0.041927,
     "end_time": "2022-05-10T12:18:28.677309",
     "exception": false,
     "start_time": "2022-05-10T12:18:28.635382",
     "status": "completed"
    },
    "tags": []
   },
   "outputs": [],
   "source": [
    "#hide\n",
    "def get_frame(name):\n",
    "    url = (\n",
    "        'https://raw.githubusercontent.com/CSSEGISandData/COVID-19/master/csse_covid_19_data/'\n",
    "        f'csse_covid_19_time_series/time_series_covid19_{name}_global.csv')\n",
    "    df = pd.read_csv(url)\n",
    "    # rename countries\n",
    "    df['Country/Region'] = df['Country/Region'].replace(mapping['replace.country'])\n",
    "    return df"
   ]
  },
  {
   "cell_type": "code",
   "execution_count": 8,
   "id": "affiliated-characterization",
   "metadata": {
    "execution": {
     "iopub.execute_input": "2022-05-10T12:18:28.752276Z",
     "iopub.status.busy": "2022-05-10T12:18:28.751608Z",
     "iopub.status.idle": "2022-05-10T12:18:28.753698Z",
     "shell.execute_reply": "2022-05-10T12:18:28.754317Z"
    },
    "papermill": {
     "duration": 0.042211,
     "end_time": "2022-05-10T12:18:28.754456",
     "exception": false,
     "start_time": "2022-05-10T12:18:28.712245",
     "status": "completed"
    },
    "tags": []
   },
   "outputs": [],
   "source": [
    "#hide\n",
    "def get_dates(df):\n",
    "    dt_cols = df.columns[~df.columns.isin(['Province/State', 'Country/Region', 'Lat', 'Long'])]\n",
    "    LAST_DATE_I = -1\n",
    "    # sometimes last column may be empty, then go backwards\n",
    "    for i in range(-1, -len(dt_cols), -1):\n",
    "        if not df[dt_cols[i]].fillna(0).eq(0).all():\n",
    "            LAST_DATE_I = i\n",
    "            break\n",
    "    return LAST_DATE_I, dt_cols"
   ]
  },
  {
   "cell_type": "code",
   "execution_count": 9,
   "id": "recent-optimization",
   "metadata": {
    "execution": {
     "iopub.execute_input": "2022-05-10T12:18:28.832131Z",
     "iopub.status.busy": "2022-05-10T12:18:28.831465Z",
     "iopub.status.idle": "2022-05-10T12:18:29.225340Z",
     "shell.execute_reply": "2022-05-10T12:18:29.224818Z"
    },
    "papermill": {
     "duration": 0.433367,
     "end_time": "2022-05-10T12:18:29.225479",
     "exception": false,
     "start_time": "2022-05-10T12:18:28.792112",
     "status": "completed"
    },
    "tags": []
   },
   "outputs": [],
   "source": [
    "#hide\n",
    "COL_REGION = 'Country/Region'\n",
    "# Confirmed, Recovered, Deaths\n",
    "df = get_frame('confirmed')\n",
    "# dft_: timeseries, dfc_: today country agg\n",
    "dft_cases = df\n",
    "dft_deaths = get_frame('deaths')\n",
    "dft_recovered = get_frame('recovered')\n",
    "LAST_DATE_I, dt_cols = get_dates(df)"
   ]
  },
  {
   "cell_type": "code",
   "execution_count": 10,
   "id": "absolute-copper",
   "metadata": {
    "execution": {
     "iopub.execute_input": "2022-05-10T12:18:29.301935Z",
     "iopub.status.busy": "2022-05-10T12:18:29.301332Z",
     "iopub.status.idle": "2022-05-10T12:18:29.303915Z",
     "shell.execute_reply": "2022-05-10T12:18:29.303313Z"
    },
    "papermill": {
     "duration": 0.042789,
     "end_time": "2022-05-10T12:18:29.304033",
     "exception": false,
     "start_time": "2022-05-10T12:18:29.261244",
     "status": "completed"
    },
    "tags": []
   },
   "outputs": [],
   "source": [
    "#hide\n",
    "LAST_DATE_I, dt_cols = get_dates(df)\n",
    "dt_today =dt_cols[LAST_DATE_I]\n",
    "# dt_5day = dt_cols[LAST_DATE_I - 5]\n",
    "dt_yday = dt_cols[LAST_DATE_I - 1]"
   ]
  },
  {
   "cell_type": "code",
   "execution_count": 11,
   "id": "restricted-sheriff",
   "metadata": {
    "execution": {
     "iopub.execute_input": "2022-05-10T12:18:29.382254Z",
     "iopub.status.busy": "2022-05-10T12:18:29.381565Z",
     "iopub.status.idle": "2022-05-10T12:18:29.387066Z",
     "shell.execute_reply": "2022-05-10T12:18:29.387696Z"
    },
    "papermill": {
     "duration": 0.048258,
     "end_time": "2022-05-10T12:18:29.387840",
     "exception": false,
     "start_time": "2022-05-10T12:18:29.339582",
     "status": "completed"
    },
    "tags": []
   },
   "outputs": [],
   "source": [
    "#hide\n",
    "dfc_cases = dft_cases.groupby(COL_REGION)[dt_today].sum()\n",
    "dfc_deaths = dft_deaths.groupby(COL_REGION)[dt_today].sum()\n",
    "# dfp_cases = dft_cases.groupby(COL_REGION)[dt_5day].sum()\n",
    "# dfp_deaths = dft_deaths.groupby(COL_REGION)[dt_5day].sum()\n",
    "dfp_cases = dft_cases.groupby(COL_REGION)[dt_yday].sum()\n",
    "dfp_deaths = dft_deaths.groupby(COL_REGION)[dt_yday].sum()"
   ]
  },
  {
   "cell_type": "code",
   "execution_count": 12,
   "id": "deluxe-hepatitis",
   "metadata": {
    "execution": {
     "iopub.execute_input": "2022-05-10T12:18:29.464684Z",
     "iopub.status.busy": "2022-05-10T12:18:29.464007Z",
     "iopub.status.idle": "2022-05-10T12:18:29.469482Z",
     "shell.execute_reply": "2022-05-10T12:18:29.468942Z"
    },
    "papermill": {
     "duration": 0.047714,
     "end_time": "2022-05-10T12:18:29.469597",
     "exception": false,
     "start_time": "2022-05-10T12:18:29.421883",
     "status": "completed"
    },
    "tags": []
   },
   "outputs": [],
   "source": [
    "#hide\n",
    "df_table = (pd.DataFrame(dict(Cases = dfc_cases, Deaths = dfc_deaths, PCases = dfp_cases, PDeaths = dfp_deaths))\n",
    "            .sort_values(by = ['Cases','Deaths'], ascending = [False, False])\n",
    "            .reset_index())"
   ]
  },
  {
   "cell_type": "code",
   "execution_count": 13,
   "id": "educational-chancellor",
   "metadata": {
    "execution": {
     "iopub.execute_input": "2022-05-10T12:18:29.560111Z",
     "iopub.status.busy": "2022-05-10T12:18:29.559514Z",
     "iopub.status.idle": "2022-05-10T12:18:29.567283Z",
     "shell.execute_reply": "2022-05-10T12:18:29.567973Z"
    },
    "papermill": {
     "duration": 0.063377,
     "end_time": "2022-05-10T12:18:29.568105",
     "exception": false,
     "start_time": "2022-05-10T12:18:29.504728",
     "status": "completed"
    },
    "tags": []
   },
   "outputs": [
    {
     "data": {
      "text/html": [
       "<div>\n",
       "<style scoped>\n",
       "    .dataframe tbody tr th:only-of-type {\n",
       "        vertical-align: middle;\n",
       "    }\n",
       "\n",
       "    .dataframe tbody tr th {\n",
       "        vertical-align: top;\n",
       "    }\n",
       "\n",
       "    .dataframe thead th {\n",
       "        text-align: right;\n",
       "    }\n",
       "</style>\n",
       "<table border=\"1\" class=\"dataframe\">\n",
       "  <thead>\n",
       "    <tr style=\"text-align: right;\">\n",
       "      <th></th>\n",
       "      <th>Country/Region</th>\n",
       "      <th>Cases</th>\n",
       "      <th>Deaths</th>\n",
       "      <th>PCases</th>\n",
       "      <th>PDeaths</th>\n",
       "      <th>Cases (+)</th>\n",
       "      <th>Deaths (+)</th>\n",
       "      <th>Fatality Rate</th>\n",
       "      <th>Continent</th>\n",
       "    </tr>\n",
       "  </thead>\n",
       "  <tbody>\n",
       "    <tr>\n",
       "      <th>0</th>\n",
       "      <td>US</td>\n",
       "      <td>81973661</td>\n",
       "      <td>998040</td>\n",
       "      <td>81863479</td>\n",
       "      <td>997526</td>\n",
       "      <td>110182</td>\n",
       "      <td>514</td>\n",
       "      <td>1.22</td>\n",
       "      <td>North America</td>\n",
       "    </tr>\n",
       "    <tr>\n",
       "      <th>1</th>\n",
       "      <td>India</td>\n",
       "      <td>43107689</td>\n",
       "      <td>524103</td>\n",
       "      <td>43105401</td>\n",
       "      <td>524093</td>\n",
       "      <td>2288</td>\n",
       "      <td>10</td>\n",
       "      <td>1.22</td>\n",
       "      <td>Asia</td>\n",
       "    </tr>\n",
       "    <tr>\n",
       "      <th>2</th>\n",
       "      <td>Brazil</td>\n",
       "      <td>30574245</td>\n",
       "      <td>664426</td>\n",
       "      <td>30564536</td>\n",
       "      <td>664374</td>\n",
       "      <td>9709</td>\n",
       "      <td>52</td>\n",
       "      <td>2.17</td>\n",
       "      <td>South America</td>\n",
       "    </tr>\n",
       "    <tr>\n",
       "      <th>3</th>\n",
       "      <td>France</td>\n",
       "      <td>29155815</td>\n",
       "      <td>147893</td>\n",
       "      <td>29148451</td>\n",
       "      <td>147761</td>\n",
       "      <td>7364</td>\n",
       "      <td>132</td>\n",
       "      <td>0.51</td>\n",
       "      <td>Europe</td>\n",
       "    </tr>\n",
       "    <tr>\n",
       "      <th>4</th>\n",
       "      <td>Germany</td>\n",
       "      <td>25406868</td>\n",
       "      <td>136756</td>\n",
       "      <td>25299300</td>\n",
       "      <td>136538</td>\n",
       "      <td>107568</td>\n",
       "      <td>218</td>\n",
       "      <td>0.54</td>\n",
       "      <td>Europe</td>\n",
       "    </tr>\n",
       "  </tbody>\n",
       "</table>\n",
       "</div>"
      ],
      "text/plain": [
       "  Country/Region     Cases  Deaths    PCases  PDeaths  Cases (+)  Deaths (+)  \\\n",
       "0             US  81973661  998040  81863479   997526     110182         514   \n",
       "1          India  43107689  524103  43105401   524093       2288          10   \n",
       "2         Brazil  30574245  664426  30564536   664374       9709          52   \n",
       "3         France  29155815  147893  29148451   147761       7364         132   \n",
       "4        Germany  25406868  136756  25299300   136538     107568         218   \n",
       "\n",
       "   Fatality Rate      Continent  \n",
       "0           1.22  North America  \n",
       "1           1.22           Asia  \n",
       "2           2.17  South America  \n",
       "3           0.51         Europe  \n",
       "4           0.54         Europe  "
      ]
     },
     "execution_count": 13,
     "metadata": {},
     "output_type": "execute_result"
    }
   ],
   "source": [
    "#hide\n",
    "for c in 'Cases, Deaths'.split(', '):\n",
    "    df_table[f'{c} (+)'] = (df_table[c] - df_table[f'P{c}']).clip(0)\n",
    "    #Clip ça veut dire, les chiffres negatif sont interdit\n",
    "df_table['Fatality Rate'] = (100* df_table['Deaths']/ df_table['Cases']).round(2)\n",
    "df_table['Continent'] = df_table['Country/Region'].map(mapping['map.continent'])\n",
    "df_table.head(5)"
   ]
  },
  {
   "cell_type": "code",
   "execution_count": 14,
   "id": "aboriginal-bulgaria",
   "metadata": {
    "execution": {
     "iopub.execute_input": "2022-05-10T12:18:29.644744Z",
     "iopub.status.busy": "2022-05-10T12:18:29.644115Z",
     "iopub.status.idle": "2022-05-10T12:18:29.647140Z",
     "shell.execute_reply": "2022-05-10T12:18:29.647703Z"
    },
    "papermill": {
     "duration": 0.042172,
     "end_time": "2022-05-10T12:18:29.647835",
     "exception": false,
     "start_time": "2022-05-10T12:18:29.605663",
     "status": "completed"
    },
    "tags": []
   },
   "outputs": [],
   "source": [
    "#hide\n",
    "#delete problematic countries from table\n",
    "df_table = df_table[~df_table['Country/Region'].isin(['Cape Verde', 'Cruise Ship', 'Kosovo'])]"
   ]
  },
  {
   "cell_type": "code",
   "execution_count": 15,
   "id": "fantastic-effect",
   "metadata": {
    "execution": {
     "iopub.execute_input": "2022-05-10T12:18:29.723864Z",
     "iopub.status.busy": "2022-05-10T12:18:29.723199Z",
     "iopub.status.idle": "2022-05-10T12:18:29.743047Z",
     "shell.execute_reply": "2022-05-10T12:18:29.743611Z"
    },
    "papermill": {
     "duration": 0.061923,
     "end_time": "2022-05-10T12:18:29.743754",
     "exception": false,
     "start_time": "2022-05-10T12:18:29.681831",
     "status": "completed"
    },
    "tags": []
   },
   "outputs": [
    {
     "data": {
      "text/html": [
       "<div>\n",
       "<style scoped>\n",
       "    .dataframe tbody tr th:only-of-type {\n",
       "        vertical-align: middle;\n",
       "    }\n",
       "\n",
       "    .dataframe tbody tr th {\n",
       "        vertical-align: top;\n",
       "    }\n",
       "\n",
       "    .dataframe thead th {\n",
       "        text-align: right;\n",
       "    }\n",
       "</style>\n",
       "<table border=\"1\" class=\"dataframe\">\n",
       "  <thead>\n",
       "    <tr style=\"text-align: right;\">\n",
       "      <th></th>\n",
       "      <th>Country/Region</th>\n",
       "      <th>Cases</th>\n",
       "      <th>Deaths</th>\n",
       "      <th>PCases</th>\n",
       "      <th>PDeaths</th>\n",
       "      <th>Cases (+)</th>\n",
       "      <th>Deaths (+)</th>\n",
       "      <th>Fatality Rate</th>\n",
       "      <th>Continent</th>\n",
       "    </tr>\n",
       "  </thead>\n",
       "  <tbody>\n",
       "    <tr>\n",
       "      <th>0</th>\n",
       "      <td>US</td>\n",
       "      <td>81973661</td>\n",
       "      <td>998040</td>\n",
       "      <td>81863479</td>\n",
       "      <td>997526</td>\n",
       "      <td>110182</td>\n",
       "      <td>514</td>\n",
       "      <td>1.2</td>\n",
       "      <td>North America</td>\n",
       "    </tr>\n",
       "    <tr>\n",
       "      <th>1</th>\n",
       "      <td>India</td>\n",
       "      <td>43107689</td>\n",
       "      <td>524103</td>\n",
       "      <td>43105401</td>\n",
       "      <td>524093</td>\n",
       "      <td>2288</td>\n",
       "      <td>10</td>\n",
       "      <td>1.2</td>\n",
       "      <td>Asia</td>\n",
       "    </tr>\n",
       "    <tr>\n",
       "      <th>2</th>\n",
       "      <td>Brazil</td>\n",
       "      <td>30574245</td>\n",
       "      <td>664426</td>\n",
       "      <td>30564536</td>\n",
       "      <td>664374</td>\n",
       "      <td>9709</td>\n",
       "      <td>52</td>\n",
       "      <td>2.2</td>\n",
       "      <td>South America</td>\n",
       "    </tr>\n",
       "    <tr>\n",
       "      <th>3</th>\n",
       "      <td>France</td>\n",
       "      <td>29155815</td>\n",
       "      <td>147893</td>\n",
       "      <td>29148451</td>\n",
       "      <td>147761</td>\n",
       "      <td>7364</td>\n",
       "      <td>132</td>\n",
       "      <td>0.5</td>\n",
       "      <td>Europe</td>\n",
       "    </tr>\n",
       "    <tr>\n",
       "      <th>4</th>\n",
       "      <td>Germany</td>\n",
       "      <td>25406868</td>\n",
       "      <td>136756</td>\n",
       "      <td>25299300</td>\n",
       "      <td>136538</td>\n",
       "      <td>107568</td>\n",
       "      <td>218</td>\n",
       "      <td>0.5</td>\n",
       "      <td>Europe</td>\n",
       "    </tr>\n",
       "  </tbody>\n",
       "</table>\n",
       "</div>"
      ],
      "text/plain": [
       "  Country/Region     Cases  Deaths    PCases  PDeaths  Cases (+)  Deaths (+)  \\\n",
       "0             US  81973661  998040  81863479   997526     110182         514   \n",
       "1          India  43107689  524103  43105401   524093       2288          10   \n",
       "2         Brazil  30574245  664426  30564536   664374       9709          52   \n",
       "3         France  29155815  147893  29148451   147761       7364         132   \n",
       "4        Germany  25406868  136756  25299300   136538     107568         218   \n",
       "\n",
       "   Fatality Rate      Continent  \n",
       "0            1.2  North America  \n",
       "1            1.2           Asia  \n",
       "2            2.2  South America  \n",
       "3            0.5         Europe  \n",
       "4            0.5         Europe  "
      ]
     },
     "execution_count": 15,
     "metadata": {},
     "output_type": "execute_result"
    }
   ],
   "source": [
    "#hide\n",
    "df_table = (pd.DataFrame(dict(Cases=dfc_cases, Deaths=dfc_deaths, PCases=dfp_cases, PDeaths=dfp_deaths))\n",
    "             .sort_values(by=['Cases', 'Deaths'], ascending=[False, False])\n",
    "             .reset_index())\n",
    "df_table.rename(columns={'index': 'Country/Region'}, inplace=True)\n",
    "for c in 'Cases, Deaths'.split(', '):\n",
    "    df_table[f'{c} (+)'] = (df_table[c] - df_table[f'P{c}']).clip(0)  # DATA BUG\n",
    "df_table['Fatality Rate'] = (100 * df_table['Deaths'] / df_table['Cases']).round(1)\n",
    "df_table['Continent'] = df_table['Country/Region'].map(mapping['map.continent'])\n",
    "df_table.head(5)"
   ]
  },
  {
   "cell_type": "code",
   "execution_count": 16,
   "id": "fewer-occasion",
   "metadata": {
    "execution": {
     "iopub.execute_input": "2022-05-10T12:18:29.828502Z",
     "iopub.status.busy": "2022-05-10T12:18:29.827886Z",
     "iopub.status.idle": "2022-05-10T12:18:29.830048Z",
     "shell.execute_reply": "2022-05-10T12:18:29.830651Z"
    },
    "papermill": {
     "duration": 0.045277,
     "end_time": "2022-05-10T12:18:29.830783",
     "exception": false,
     "start_time": "2022-05-10T12:18:29.785506",
     "status": "completed"
    },
    "tags": []
   },
   "outputs": [],
   "source": [
    "#hide\n",
    "#delete problematic countries from table\n",
    "df_table = df_table[~df_table['Country/Region'].isin(['Cape Verde', 'Cruise Ship', 'Kosovo'])]"
   ]
  },
  {
   "cell_type": "code",
   "execution_count": 17,
   "id": "related-center",
   "metadata": {
    "execution": {
     "iopub.execute_input": "2022-05-10T12:18:29.921723Z",
     "iopub.status.busy": "2022-05-10T12:18:29.921095Z",
     "iopub.status.idle": "2022-05-10T12:18:29.924857Z",
     "shell.execute_reply": "2022-05-10T12:18:29.925304Z"
    },
    "papermill": {
     "duration": 0.058947,
     "end_time": "2022-05-10T12:18:29.925433",
     "exception": false,
     "start_time": "2022-05-10T12:18:29.866486",
     "status": "completed"
    },
    "tags": []
   },
   "outputs": [],
   "source": [
    "#hide\n",
    "metrics = [df_table.columns[index] for index in [1,2,5,6]]\n",
    "# s_china = df_table[df_table['Country/Region'].eq('China')][metrics].sum().add_prefix('China ')\n",
    "s_us = df_table[df_table['Country/Region'].eq('US')][metrics].sum().add_prefix('US ')\n",
    "s_eu = df_table[df_table['Continent'].eq('Europe')][metrics].sum().add_prefix('EU ')\n",
    "s_ind = df_table[df_table['Country/Region'].eq('India')][metrics].sum().add_prefix('India ')\n",
    "summary = {'updated': pd.to_datetime(dt_today), 'since': pd.to_datetime(dt_yday)}\n",
    "summary = {'updated': pd.to_datetime(dt_today), 'since': pd.to_datetime(dt_yday)}\n",
    "summary = {**summary, **df_table[metrics].sum(), **s_ind, **s_us, **s_eu}"
   ]
  },
  {
   "cell_type": "code",
   "execution_count": 18,
   "id": "engaging-syndrome",
   "metadata": {
    "execution": {
     "iopub.execute_input": "2022-05-10T12:18:29.998346Z",
     "iopub.status.busy": "2022-05-10T12:18:29.997679Z",
     "iopub.status.idle": "2022-05-10T12:18:30.017899Z",
     "shell.execute_reply": "2022-05-10T12:18:30.017332Z"
    },
    "papermill": {
     "duration": 0.057645,
     "end_time": "2022-05-10T12:18:30.018033",
     "exception": false,
     "start_time": "2022-05-10T12:18:29.960388",
     "status": "completed"
    },
    "tags": []
   },
   "outputs": [],
   "source": [
    "#hide\n",
    "dft_ct_new_cases = dft_cases.groupby(COL_REGION)[dt_cols].sum().diff(axis=1).fillna(0).astype(int)"
   ]
  },
  {
   "cell_type": "code",
   "execution_count": 19,
   "id": "neutral-assignment",
   "metadata": {
    "execution": {
     "iopub.execute_input": "2022-05-10T12:18:30.096042Z",
     "iopub.status.busy": "2022-05-10T12:18:30.095458Z",
     "iopub.status.idle": "2022-05-10T12:18:30.098519Z",
     "shell.execute_reply": "2022-05-10T12:18:30.097983Z"
    },
    "papermill": {
     "duration": 0.043843,
     "end_time": "2022-05-10T12:18:30.098643",
     "exception": false,
     "start_time": "2022-05-10T12:18:30.054800",
     "status": "completed"
    },
    "tags": []
   },
   "outputs": [],
   "source": [
    "#hide\n",
    "everydaycases = dft_ct_new_cases.cumsum(axis=1)"
   ]
  },
  {
   "cell_type": "code",
   "execution_count": 20,
   "id": "parliamentary-calgary",
   "metadata": {
    "execution": {
     "iopub.execute_input": "2022-05-10T12:18:30.178487Z",
     "iopub.status.busy": "2022-05-10T12:18:30.177662Z",
     "iopub.status.idle": "2022-05-10T12:18:30.796646Z",
     "shell.execute_reply": "2022-05-10T12:18:30.796108Z"
    },
    "papermill": {
     "duration": 0.662068,
     "end_time": "2022-05-10T12:18:30.796781",
     "exception": false,
     "start_time": "2022-05-10T12:18:30.134713",
     "status": "completed"
    },
    "tags": []
   },
   "outputs": [],
   "source": [
    "#hide\n",
    "import pandas as pd\n",
    "import matplotlib.pyplot as plt\n",
    "import matplotlib.ticker as ticker\n",
    "import matplotlib.animation as animation\n",
    "from IPython.display import HTML"
   ]
  },
  {
   "cell_type": "code",
   "execution_count": 21,
   "id": "lasting-extraction",
   "metadata": {
    "execution": {
     "iopub.execute_input": "2022-05-10T12:18:30.875084Z",
     "iopub.status.busy": "2022-05-10T12:18:30.874348Z",
     "iopub.status.idle": "2022-05-10T12:18:30.881088Z",
     "shell.execute_reply": "2022-05-10T12:18:30.880621Z"
    },
    "papermill": {
     "duration": 0.048662,
     "end_time": "2022-05-10T12:18:30.881205",
     "exception": false,
     "start_time": "2022-05-10T12:18:30.832543",
     "status": "completed"
    },
    "tags": []
   },
   "outputs": [],
   "source": [
    "#hide\n",
    "t = everydaycases.stack()"
   ]
  },
  {
   "cell_type": "code",
   "execution_count": 22,
   "id": "premier-sleeve",
   "metadata": {
    "execution": {
     "iopub.execute_input": "2022-05-10T12:18:30.955993Z",
     "iopub.status.busy": "2022-05-10T12:18:30.955216Z",
     "iopub.status.idle": "2022-05-10T12:18:30.966321Z",
     "shell.execute_reply": "2022-05-10T12:18:30.966904Z"
    },
    "papermill": {
     "duration": 0.050508,
     "end_time": "2022-05-10T12:18:30.967037",
     "exception": false,
     "start_time": "2022-05-10T12:18:30.916529",
     "status": "completed"
    },
    "tags": []
   },
   "outputs": [],
   "source": [
    "#hide\n",
    "g = t.reset_index(['Country/Region'])"
   ]
  },
  {
   "cell_type": "code",
   "execution_count": 23,
   "id": "distributed-pittsburgh",
   "metadata": {
    "execution": {
     "iopub.execute_input": "2022-05-10T12:18:31.040806Z",
     "iopub.status.busy": "2022-05-10T12:18:31.040182Z",
     "iopub.status.idle": "2022-05-10T12:18:31.043822Z",
     "shell.execute_reply": "2022-05-10T12:18:31.044292Z"
    },
    "papermill": {
     "duration": 0.043051,
     "end_time": "2022-05-10T12:18:31.044424",
     "exception": false,
     "start_time": "2022-05-10T12:18:31.001373",
     "status": "completed"
    },
    "tags": []
   },
   "outputs": [],
   "source": [
    "#hide\n",
    "g.index.name = 'date'"
   ]
  },
  {
   "cell_type": "code",
   "execution_count": 24,
   "id": "naked-donor",
   "metadata": {
    "execution": {
     "iopub.execute_input": "2022-05-10T12:18:31.118925Z",
     "iopub.status.busy": "2022-05-10T12:18:31.118300Z",
     "iopub.status.idle": "2022-05-10T12:18:31.120348Z",
     "shell.execute_reply": "2022-05-10T12:18:31.120863Z"
    },
    "papermill": {
     "duration": 0.040891,
     "end_time": "2022-05-10T12:18:31.120988",
     "exception": false,
     "start_time": "2022-05-10T12:18:31.080097",
     "status": "completed"
    },
    "tags": []
   },
   "outputs": [],
   "source": [
    "# #hide\n",
    "# g = g.reset_index(['date'])"
   ]
  },
  {
   "cell_type": "code",
   "execution_count": 25,
   "id": "incomplete-mustang",
   "metadata": {
    "execution": {
     "iopub.execute_input": "2022-05-10T12:18:31.198883Z",
     "iopub.status.busy": "2022-05-10T12:18:31.198208Z",
     "iopub.status.idle": "2022-05-10T12:18:31.200959Z",
     "shell.execute_reply": "2022-05-10T12:18:31.200438Z"
    },
    "papermill": {
     "duration": 0.043014,
     "end_time": "2022-05-10T12:18:31.201088",
     "exception": false,
     "start_time": "2022-05-10T12:18:31.158074",
     "status": "completed"
    },
    "tags": []
   },
   "outputs": [],
   "source": [
    "#hide\n",
    "# g.head()"
   ]
  },
  {
   "cell_type": "code",
   "execution_count": 26,
   "id": "specific-kruger",
   "metadata": {
    "execution": {
     "iopub.execute_input": "2022-05-10T12:18:31.281217Z",
     "iopub.status.busy": "2022-05-10T12:18:31.280588Z",
     "iopub.status.idle": "2022-05-10T12:18:31.283023Z",
     "shell.execute_reply": "2022-05-10T12:18:31.282532Z"
    },
    "papermill": {
     "duration": 0.045001,
     "end_time": "2022-05-10T12:18:31.283146",
     "exception": false,
     "start_time": "2022-05-10T12:18:31.238145",
     "status": "completed"
    },
    "tags": []
   },
   "outputs": [],
   "source": [
    "#hide\n",
    "# g.columns = ['date','country','cases']"
   ]
  },
  {
   "cell_type": "code",
   "execution_count": 27,
   "id": "tender-conversion",
   "metadata": {
    "execution": {
     "iopub.execute_input": "2022-05-10T12:18:31.360341Z",
     "iopub.status.busy": "2022-05-10T12:18:31.359714Z",
     "iopub.status.idle": "2022-05-10T12:18:31.363285Z",
     "shell.execute_reply": "2022-05-10T12:18:31.363793Z"
    },
    "papermill": {
     "duration": 0.043774,
     "end_time": "2022-05-10T12:18:31.363934",
     "exception": false,
     "start_time": "2022-05-10T12:18:31.320160",
     "status": "completed"
    },
    "tags": []
   },
   "outputs": [],
   "source": [
    "#hide\n",
    "# g['continent'] = g.country"
   ]
  },
  {
   "cell_type": "code",
   "execution_count": 28,
   "id": "substantial-wilderness",
   "metadata": {
    "execution": {
     "iopub.execute_input": "2022-05-10T12:18:31.442231Z",
     "iopub.status.busy": "2022-05-10T12:18:31.441650Z",
     "iopub.status.idle": "2022-05-10T12:18:31.443664Z",
     "shell.execute_reply": "2022-05-10T12:18:31.444139Z"
    },
    "papermill": {
     "duration": 0.04205,
     "end_time": "2022-05-10T12:18:31.444266",
     "exception": false,
     "start_time": "2022-05-10T12:18:31.402216",
     "status": "completed"
    },
    "tags": []
   },
   "outputs": [],
   "source": [
    "#hide\n",
    "# cols = list(g.columns.values)"
   ]
  },
  {
   "cell_type": "code",
   "execution_count": 29,
   "id": "solved-farming",
   "metadata": {
    "execution": {
     "iopub.execute_input": "2022-05-10T12:18:31.518815Z",
     "iopub.status.busy": "2022-05-10T12:18:31.518193Z",
     "iopub.status.idle": "2022-05-10T12:18:31.521826Z",
     "shell.execute_reply": "2022-05-10T12:18:31.522282Z"
    },
    "papermill": {
     "duration": 0.042068,
     "end_time": "2022-05-10T12:18:31.522416",
     "exception": false,
     "start_time": "2022-05-10T12:18:31.480348",
     "status": "completed"
    },
    "tags": []
   },
   "outputs": [],
   "source": [
    "#hide\n",
    "# cols.insert(0, cols.pop())"
   ]
  },
  {
   "cell_type": "code",
   "execution_count": 30,
   "id": "executed-adoption",
   "metadata": {
    "execution": {
     "iopub.execute_input": "2022-05-10T12:18:31.598657Z",
     "iopub.status.busy": "2022-05-10T12:18:31.598015Z",
     "iopub.status.idle": "2022-05-10T12:18:31.600156Z",
     "shell.execute_reply": "2022-05-10T12:18:31.600855Z"
    },
    "papermill": {
     "duration": 0.042517,
     "end_time": "2022-05-10T12:18:31.600998",
     "exception": false,
     "start_time": "2022-05-10T12:18:31.558481",
     "status": "completed"
    },
    "tags": []
   },
   "outputs": [],
   "source": [
    "#hide\n",
    "# g = g[cols]"
   ]
  },
  {
   "cell_type": "code",
   "execution_count": 31,
   "id": "subject-dublin",
   "metadata": {
    "execution": {
     "iopub.execute_input": "2022-05-10T12:18:31.676295Z",
     "iopub.status.busy": "2022-05-10T12:18:31.675697Z",
     "iopub.status.idle": "2022-05-10T12:18:31.679618Z",
     "shell.execute_reply": "2022-05-10T12:18:31.679091Z"
    },
    "papermill": {
     "duration": 0.043825,
     "end_time": "2022-05-10T12:18:31.679733",
     "exception": false,
     "start_time": "2022-05-10T12:18:31.635908",
     "status": "completed"
    },
    "tags": []
   },
   "outputs": [],
   "source": [
    "#hide\n",
    "# g['continent'] = g['continent'].map(mapping['map.continent'])"
   ]
  },
  {
   "cell_type": "code",
   "execution_count": 32,
   "id": "freelance-scout",
   "metadata": {
    "execution": {
     "iopub.execute_input": "2022-05-10T12:18:31.755104Z",
     "iopub.status.busy": "2022-05-10T12:18:31.754486Z",
     "iopub.status.idle": "2022-05-10T12:18:31.756579Z",
     "shell.execute_reply": "2022-05-10T12:18:31.757109Z"
    },
    "papermill": {
     "duration": 0.040999,
     "end_time": "2022-05-10T12:18:31.757260",
     "exception": false,
     "start_time": "2022-05-10T12:18:31.716261",
     "status": "completed"
    },
    "tags": []
   },
   "outputs": [],
   "source": [
    "#hide\n",
    "# g.head()"
   ]
  },
  {
   "cell_type": "code",
   "execution_count": 33,
   "id": "limited-engine",
   "metadata": {
    "execution": {
     "iopub.execute_input": "2022-05-10T12:18:31.833209Z",
     "iopub.status.busy": "2022-05-10T12:18:31.832382Z",
     "iopub.status.idle": "2022-05-10T12:18:31.834810Z",
     "shell.execute_reply": "2022-05-10T12:18:31.835289Z"
    },
    "papermill": {
     "duration": 0.040526,
     "end_time": "2022-05-10T12:18:31.835432",
     "exception": false,
     "start_time": "2022-05-10T12:18:31.794906",
     "status": "completed"
    },
    "tags": []
   },
   "outputs": [],
   "source": [
    "# hide\n",
    "# g['date'] = g['date'].astype('datetime64[ns]')"
   ]
  },
  {
   "cell_type": "code",
   "execution_count": 34,
   "id": "sophisticated-supervisor",
   "metadata": {
    "execution": {
     "iopub.execute_input": "2022-05-10T12:18:31.909942Z",
     "iopub.status.busy": "2022-05-10T12:18:31.909256Z",
     "iopub.status.idle": "2022-05-10T12:18:31.911474Z",
     "shell.execute_reply": "2022-05-10T12:18:31.911992Z"
    },
    "papermill": {
     "duration": 0.042217,
     "end_time": "2022-05-10T12:18:31.912123",
     "exception": false,
     "start_time": "2022-05-10T12:18:31.869906",
     "status": "completed"
    },
    "tags": []
   },
   "outputs": [],
   "source": [
    "#hide\n",
    "# g['date'] = g.date.dt.dayofyear"
   ]
  },
  {
   "cell_type": "code",
   "execution_count": 35,
   "id": "inside-dubai",
   "metadata": {
    "execution": {
     "iopub.execute_input": "2022-05-10T12:18:31.988651Z",
     "iopub.status.busy": "2022-05-10T12:18:31.987984Z",
     "iopub.status.idle": "2022-05-10T12:18:31.990580Z",
     "shell.execute_reply": "2022-05-10T12:18:31.989956Z"
    },
    "papermill": {
     "duration": 0.041442,
     "end_time": "2022-05-10T12:18:31.990729",
     "exception": false,
     "start_time": "2022-05-10T12:18:31.949287",
     "status": "completed"
    },
    "tags": []
   },
   "outputs": [],
   "source": [
    "#hide\n",
    "# g = g.rename(columns= {'continent':'group','country':'name','cases':'value'})"
   ]
  },
  {
   "cell_type": "code",
   "execution_count": 36,
   "id": "fleet-motorcycle",
   "metadata": {
    "execution": {
     "iopub.execute_input": "2022-05-10T12:18:32.066283Z",
     "iopub.status.busy": "2022-05-10T12:18:32.065623Z",
     "iopub.status.idle": "2022-05-10T12:18:32.067820Z",
     "shell.execute_reply": "2022-05-10T12:18:32.068295Z"
    },
    "papermill": {
     "duration": 0.041668,
     "end_time": "2022-05-10T12:18:32.068424",
     "exception": false,
     "start_time": "2022-05-10T12:18:32.026756",
     "status": "completed"
    },
    "tags": []
   },
   "outputs": [],
   "source": [
    "#hide\n",
    "# cols = ['name','group','day','value']"
   ]
  },
  {
   "cell_type": "code",
   "execution_count": 37,
   "id": "continued-sleeping",
   "metadata": {
    "execution": {
     "iopub.execute_input": "2022-05-10T12:18:32.144142Z",
     "iopub.status.busy": "2022-05-10T12:18:32.143501Z",
     "iopub.status.idle": "2022-05-10T12:18:32.146186Z",
     "shell.execute_reply": "2022-05-10T12:18:32.145609Z"
    },
    "papermill": {
     "duration": 0.041832,
     "end_time": "2022-05-10T12:18:32.146300",
     "exception": false,
     "start_time": "2022-05-10T12:18:32.104468",
     "status": "completed"
    },
    "tags": []
   },
   "outputs": [],
   "source": [
    "#hide\n",
    "# g.rename(columns= {'date':'day'},inplace = True)"
   ]
  },
  {
   "cell_type": "code",
   "execution_count": 38,
   "id": "major-fight",
   "metadata": {
    "execution": {
     "iopub.execute_input": "2022-05-10T12:18:32.222220Z",
     "iopub.status.busy": "2022-05-10T12:18:32.221590Z",
     "iopub.status.idle": "2022-05-10T12:18:32.225386Z",
     "shell.execute_reply": "2022-05-10T12:18:32.225925Z"
    },
    "papermill": {
     "duration": 0.042444,
     "end_time": "2022-05-10T12:18:32.226137",
     "exception": false,
     "start_time": "2022-05-10T12:18:32.183693",
     "status": "completed"
    },
    "tags": []
   },
   "outputs": [],
   "source": [
    "#hide\n",
    "# g = g[cols]"
   ]
  },
  {
   "cell_type": "code",
   "execution_count": 39,
   "id": "structured-mobile",
   "metadata": {
    "execution": {
     "iopub.execute_input": "2022-05-10T12:18:32.307070Z",
     "iopub.status.busy": "2022-05-10T12:18:32.306289Z",
     "iopub.status.idle": "2022-05-10T12:18:32.308666Z",
     "shell.execute_reply": "2022-05-10T12:18:32.309182Z"
    },
    "papermill": {
     "duration": 0.044681,
     "end_time": "2022-05-10T12:18:32.309330",
     "exception": false,
     "start_time": "2022-05-10T12:18:32.264649",
     "status": "completed"
    },
    "tags": []
   },
   "outputs": [],
   "source": [
    "# #hide\n",
    "# g = g[g.group.notna()]"
   ]
  },
  {
   "cell_type": "code",
   "execution_count": 40,
   "id": "determined-closing",
   "metadata": {
    "execution": {
     "iopub.execute_input": "2022-05-10T12:18:32.388735Z",
     "iopub.status.busy": "2022-05-10T12:18:32.388054Z",
     "iopub.status.idle": "2022-05-10T12:18:32.391924Z",
     "shell.execute_reply": "2022-05-10T12:18:32.392432Z"
    },
    "papermill": {
     "duration": 0.044725,
     "end_time": "2022-05-10T12:18:32.392572",
     "exception": false,
     "start_time": "2022-05-10T12:18:32.347847",
     "status": "completed"
    },
    "tags": []
   },
   "outputs": [],
   "source": [
    "# #hide\n",
    "# colors = dict(zip(\n",
    "#     [\"Oceania\", \"Europe\", \"Asia\", \"South America\", \"Middle East\", \"North America\", \"Africa\"],\n",
    "#     [\"#adb0ff\", \"#ffb3ff\", \"#90d595\", \"#e48381\", \"#aafbff\", \"#f7bb5f\", \"#eafb50\"]\n",
    "# ))\n",
    "# group_lk = g.set_index('name')['group'].to_dict()"
   ]
  },
  {
   "cell_type": "code",
   "execution_count": null,
   "id": "gross-drinking",
   "metadata": {
    "papermill": {
     "duration": 0.039836,
     "end_time": "2022-05-10T12:18:32.468885",
     "exception": false,
     "start_time": "2022-05-10T12:18:32.429049",
     "status": "completed"
    },
    "tags": []
   },
   "outputs": [],
   "source": []
  },
  {
   "cell_type": "code",
   "execution_count": 41,
   "id": "subject-macintosh",
   "metadata": {
    "execution": {
     "iopub.execute_input": "2022-05-10T12:18:32.546113Z",
     "iopub.status.busy": "2022-05-10T12:18:32.545411Z",
     "iopub.status.idle": "2022-05-10T12:18:32.548466Z",
     "shell.execute_reply": "2022-05-10T12:18:32.547932Z"
    },
    "papermill": {
     "duration": 0.042899,
     "end_time": "2022-05-10T12:18:32.548694",
     "exception": false,
     "start_time": "2022-05-10T12:18:32.505795",
     "status": "completed"
    },
    "tags": []
   },
   "outputs": [],
   "source": [
    "# #hide\n",
    "# fig, ax = plt.subplots(figsize=(15, 8))\n",
    "\n",
    "# def draw_barchart(current_day):\n",
    "#     dff = g[g['day'].eq(current_day)].sort_values(by='value', ascending=True).tail(10)\n",
    "#     ax.clear()\n",
    "#     ax.barh(dff['name'], dff['value'], color=[colors[group_lk[x]] for x in dff['name']])\n",
    "#     dx = dff['value'].max() / 200\n",
    "    \n",
    "#     for i, (value, name) in enumerate(zip(dff['value'], dff['name'])):\n",
    "#         ax.text(value-dx, i,     name,           size=14, weight=600, ha='right', va='bottom')\n",
    "#         ax.text(value-dx, i-.25, group_lk[name], size=10, color='#444444', ha='right', va='baseline')\n",
    "#         ax.text(value+dx, i,     f'{value:,.0f}',  size=14, ha='left',  va='center')\n",
    "#     ax.text(1, 0.4, current_day, transform=ax.transAxes, color='#777777', size=46, ha='right', weight=800)\n",
    "#     ax.text(0, 1.06, 'Population (thousands)', transform=ax.transAxes, size=12, color='#777777')\n",
    "#     ax.xaxis.set_major_formatter(ticker.StrMethodFormatter('{x:,.0f}'))\n",
    "#     ax.xaxis.set_ticks_position('top')\n",
    "#     ax.tick_params(axis='x', colors='#777777', labelsize=12)\n",
    "#     ax.set_yticks([])\n",
    "#     ax.margins(0, 0.01)\n",
    "#     ax.grid(which='major', axis='x', linestyle='-')\n",
    "#     ax.set_axisbelow(True)\n",
    "    \n",
    "#     ax.text(0, 1.15, 'Coronavirus',\n",
    "#             transform=ax.transAxes, size=24, weight=600, ha='left', va='top')\n",
    "# #     ax.text(1, 0, 'by @pratapvardhan; credit @jburnmurdoch', transform=ax.transAxes, color='#777777', ha='right',\n",
    "# #             bbox=dict(facecolor='white', alpha=0.8, edgecolor='white'))\n",
    "#     plt.box(False)"
   ]
  },
  {
   "cell_type": "code",
   "execution_count": 42,
   "id": "sexual-wages",
   "metadata": {
    "execution": {
     "iopub.execute_input": "2022-05-10T12:18:32.623231Z",
     "iopub.status.busy": "2022-05-10T12:18:32.622633Z",
     "iopub.status.idle": "2022-05-10T12:18:32.625141Z",
     "shell.execute_reply": "2022-05-10T12:18:32.624640Z"
    },
    "papermill": {
     "duration": 0.041454,
     "end_time": "2022-05-10T12:18:32.625256",
     "exception": false,
     "start_time": "2022-05-10T12:18:32.583802",
     "status": "completed"
    },
    "tags": []
   },
   "outputs": [],
   "source": [
    "# #hide_input\n",
    "# fig, ax = plt.subplots(figsize=(15, 8))\n",
    "# animator = animation.FuncAnimation(fig, draw_barchart, frames=range(g.day.values.min(), g.day.values.max()))\n",
    "# HTML(animator.to_jshtml())\n",
    "# # or use animator.to_html5_video() or animator.save() "
   ]
  },
  {
   "cell_type": "code",
   "execution_count": null,
   "id": "australian-container",
   "metadata": {
    "papermill": {
     "duration": 0.035353,
     "end_time": "2022-05-10T12:18:32.697040",
     "exception": false,
     "start_time": "2022-05-10T12:18:32.661687",
     "status": "completed"
    },
    "tags": []
   },
   "outputs": [],
   "source": []
  },
  {
   "cell_type": "code",
   "execution_count": null,
   "id": "mediterranean-pontiac",
   "metadata": {
    "papermill": {
     "duration": 0.036319,
     "end_time": "2022-05-10T12:18:32.772447",
     "exception": false,
     "start_time": "2022-05-10T12:18:32.736128",
     "status": "completed"
    },
    "tags": []
   },
   "outputs": [],
   "source": []
  },
  {
   "cell_type": "code",
   "execution_count": null,
   "id": "aging-legislature",
   "metadata": {
    "papermill": {
     "duration": 0.035077,
     "end_time": "2022-05-10T12:18:32.844576",
     "exception": false,
     "start_time": "2022-05-10T12:18:32.809499",
     "status": "completed"
    },
    "tags": []
   },
   "outputs": [],
   "source": []
  }
 ],
 "metadata": {
  "kernelspec": {
   "display_name": "Python 3",
   "language": "python",
   "name": "python3"
  },
  "language_info": {
   "codemirror_mode": {
    "name": "ipython",
    "version": 3
   },
   "file_extension": ".py",
   "mimetype": "text/x-python",
   "name": "python",
   "nbconvert_exporter": "python",
   "pygments_lexer": "ipython3",
   "version": "3.6.15"
  },
  "papermill": {
   "duration": 6.784088,
   "end_time": "2022-05-10T12:18:33.199652",
   "environment_variables": {},
   "exception": null,
   "input_path": "2020-03-21-covid19exp.ipynb",
   "output_path": "2020-03-21-covid19exp.ipynb",
   "parameters": {},
   "start_time": "2022-05-10T12:18:26.415564",
   "version": "2.0.0"
  }
 },
 "nbformat": 4,
 "nbformat_minor": 5
}