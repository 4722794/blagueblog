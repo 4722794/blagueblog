{
 "cells": [
  {
   "cell_type": "markdown",
   "id": "muslim-click",
   "metadata": {
    "papermill": {
     "duration": 0.03742,
     "end_time": "2021-04-13T00:07:04.021998",
     "exception": false,
     "start_time": "2021-04-13T00:07:03.984578",
     "status": "completed"
    },
    "tags": []
   },
   "source": [
    "# COVID-19 Case Race\n",
    "> A race chart to see rising cases around the world\n",
    "\n",
    "- author: Hargun Oberoi\n",
    "- image: images/covid-overview.png\n",
    "- hide: false\n",
    "- badges: false"
   ]
  },
  {
   "cell_type": "code",
   "execution_count": 1,
   "id": "proof-material",
   "metadata": {
    "execution": {
     "iopub.execute_input": "2021-04-13T00:07:04.094868Z",
     "iopub.status.busy": "2021-04-13T00:07:04.094280Z",
     "iopub.status.idle": "2021-04-13T00:07:04.387268Z",
     "shell.execute_reply": "2021-04-13T00:07:04.386345Z"
    },
    "papermill": {
     "duration": 0.334261,
     "end_time": "2021-04-13T00:07:04.387425",
     "exception": false,
     "start_time": "2021-04-13T00:07:04.053164",
     "status": "completed"
    },
    "tags": []
   },
   "outputs": [],
   "source": [
    "#hide\n",
    "import numpy as np\n",
    "import pandas as pd\n",
    "from jinja2 import Template\n",
    "from IPython.display import HTML"
   ]
  },
  {
   "cell_type": "code",
   "execution_count": 2,
   "id": "developed-terminology",
   "metadata": {
    "execution": {
     "iopub.execute_input": "2021-04-13T00:07:04.448168Z",
     "iopub.status.busy": "2021-04-13T00:07:04.447710Z",
     "iopub.status.idle": "2021-04-13T00:07:04.450078Z",
     "shell.execute_reply": "2021-04-13T00:07:04.449575Z"
    },
    "papermill": {
     "duration": 0.031734,
     "end_time": "2021-04-13T00:07:04.450197",
     "exception": false,
     "start_time": "2021-04-13T00:07:04.418463",
     "status": "completed"
    },
    "tags": []
   },
   "outputs": [],
   "source": [
    "#hide\n",
    "\n",
    "# FETCH\n",
    "base_url = 'https://raw.githubusercontent.com/pratapvardhan/notebooks/master/covid19/'\n",
    "paths = {\n",
    "    'mapping': base_url + 'mapping_countries.csv',\n",
    "    'overview': base_url + 'overview.tpl'\n",
    "}"
   ]
  },
  {
   "cell_type": "code",
   "execution_count": 3,
   "id": "dynamic-saver",
   "metadata": {
    "execution": {
     "iopub.execute_input": "2021-04-13T00:07:04.512091Z",
     "iopub.status.busy": "2021-04-13T00:07:04.511652Z",
     "iopub.status.idle": "2021-04-13T00:07:04.514478Z",
     "shell.execute_reply": "2021-04-13T00:07:04.514109Z"
    },
    "papermill": {
     "duration": 0.037936,
     "end_time": "2021-04-13T00:07:04.514581",
     "exception": false,
     "start_time": "2021-04-13T00:07:04.476645",
     "status": "completed"
    },
    "tags": []
   },
   "outputs": [
    {
     "data": {
      "text/plain": [
       "'https://raw.githubusercontent.com/pratapvardhan/notebooks/master/covid19/mapping_countries.csv'"
      ]
     },
     "execution_count": 3,
     "metadata": {},
     "output_type": "execute_result"
    }
   ],
   "source": [
    "#hide\n",
    "paths['mapping']"
   ]
  },
  {
   "cell_type": "code",
   "execution_count": 4,
   "id": "urban-software",
   "metadata": {
    "execution": {
     "iopub.execute_input": "2021-04-13T00:07:04.570779Z",
     "iopub.status.busy": "2021-04-13T00:07:04.570358Z",
     "iopub.status.idle": "2021-04-13T00:07:04.572072Z",
     "shell.execute_reply": "2021-04-13T00:07:04.572486Z"
    },
    "papermill": {
     "duration": 0.03249,
     "end_time": "2021-04-13T00:07:04.572579",
     "exception": false,
     "start_time": "2021-04-13T00:07:04.540089",
     "status": "completed"
    },
    "tags": []
   },
   "outputs": [],
   "source": [
    "#hide\n",
    "def get_mappings(url):\n",
    "    df = pd.read_csv(url)\n",
    "    return {\n",
    "        'df': df,\n",
    "        'replace.country': dict(df.dropna(subset=['Name']).set_index('Country')['Name']),\n",
    "        'map.continent': dict(df.set_index('Name')['Continent'])\n",
    "    }"
   ]
  },
  {
   "cell_type": "code",
   "execution_count": 5,
   "id": "intimate-machinery",
   "metadata": {
    "execution": {
     "iopub.execute_input": "2021-04-13T00:07:04.628704Z",
     "iopub.status.busy": "2021-04-13T00:07:04.628228Z",
     "iopub.status.idle": "2021-04-13T00:07:04.652514Z",
     "shell.execute_reply": "2021-04-13T00:07:04.652136Z"
    },
    "papermill": {
     "duration": 0.054057,
     "end_time": "2021-04-13T00:07:04.652621",
     "exception": false,
     "start_time": "2021-04-13T00:07:04.598564",
     "status": "completed"
    },
    "tags": []
   },
   "outputs": [],
   "source": [
    "#hide\n",
    "mapping = get_mappings(paths['mapping'])"
   ]
  },
  {
   "cell_type": "code",
   "execution_count": 6,
   "id": "certified-tactics",
   "metadata": {
    "execution": {
     "iopub.execute_input": "2021-04-13T00:07:04.709442Z",
     "iopub.status.busy": "2021-04-13T00:07:04.709005Z",
     "iopub.status.idle": "2021-04-13T00:07:04.711068Z",
     "shell.execute_reply": "2021-04-13T00:07:04.710721Z"
    },
    "papermill": {
     "duration": 0.03255,
     "end_time": "2021-04-13T00:07:04.711155",
     "exception": false,
     "start_time": "2021-04-13T00:07:04.678605",
     "status": "completed"
    },
    "tags": []
   },
   "outputs": [],
   "source": [
    "#hide\n",
    "def get_template(path):\n",
    "    from urllib.parse import urlparse\n",
    "    if bool(urlparse(path).netloc):\n",
    "        from urllib.request import urlopen\n",
    "        return urlopen(path).read().decode('utf8')\n",
    "    return open(path).read()"
   ]
  },
  {
   "cell_type": "code",
   "execution_count": 7,
   "id": "realistic-blast",
   "metadata": {
    "execution": {
     "iopub.execute_input": "2021-04-13T00:07:04.767264Z",
     "iopub.status.busy": "2021-04-13T00:07:04.766838Z",
     "iopub.status.idle": "2021-04-13T00:07:04.768756Z",
     "shell.execute_reply": "2021-04-13T00:07:04.768419Z"
    },
    "papermill": {
     "duration": 0.031529,
     "end_time": "2021-04-13T00:07:04.768837",
     "exception": false,
     "start_time": "2021-04-13T00:07:04.737308",
     "status": "completed"
    },
    "tags": []
   },
   "outputs": [],
   "source": [
    "#hide\n",
    "def get_frame(name):\n",
    "    url = (\n",
    "        'https://raw.githubusercontent.com/CSSEGISandData/COVID-19/master/csse_covid_19_data/'\n",
    "        f'csse_covid_19_time_series/time_series_covid19_{name}_global.csv')\n",
    "    df = pd.read_csv(url)\n",
    "    # rename countries\n",
    "    df['Country/Region'] = df['Country/Region'].replace(mapping['replace.country'])\n",
    "    return df"
   ]
  },
  {
   "cell_type": "code",
   "execution_count": 8,
   "id": "affiliated-characterization",
   "metadata": {
    "execution": {
     "iopub.execute_input": "2021-04-13T00:07:04.824969Z",
     "iopub.status.busy": "2021-04-13T00:07:04.824518Z",
     "iopub.status.idle": "2021-04-13T00:07:04.826413Z",
     "shell.execute_reply": "2021-04-13T00:07:04.826049Z"
    },
    "papermill": {
     "duration": 0.031873,
     "end_time": "2021-04-13T00:07:04.826496",
     "exception": false,
     "start_time": "2021-04-13T00:07:04.794623",
     "status": "completed"
    },
    "tags": []
   },
   "outputs": [],
   "source": [
    "#hide\n",
    "def get_dates(df):\n",
    "    dt_cols = df.columns[~df.columns.isin(['Province/State', 'Country/Region', 'Lat', 'Long'])]\n",
    "    LAST_DATE_I = -1\n",
    "    # sometimes last column may be empty, then go backwards\n",
    "    for i in range(-1, -len(dt_cols), -1):\n",
    "        if not df[dt_cols[i]].fillna(0).eq(0).all():\n",
    "            LAST_DATE_I = i\n",
    "            break\n",
    "    return LAST_DATE_I, dt_cols"
   ]
  },
  {
   "cell_type": "code",
   "execution_count": 9,
   "id": "recent-optimization",
   "metadata": {
    "execution": {
     "iopub.execute_input": "2021-04-13T00:07:04.883257Z",
     "iopub.status.busy": "2021-04-13T00:07:04.882519Z",
     "iopub.status.idle": "2021-04-13T00:07:05.087674Z",
     "shell.execute_reply": "2021-04-13T00:07:05.088144Z"
    },
    "papermill": {
     "duration": 0.235649,
     "end_time": "2021-04-13T00:07:05.088305",
     "exception": false,
     "start_time": "2021-04-13T00:07:04.852656",
     "status": "completed"
    },
    "tags": []
   },
   "outputs": [],
   "source": [
    "#hide\n",
    "COL_REGION = 'Country/Region'\n",
    "# Confirmed, Recovered, Deaths\n",
    "df = get_frame('confirmed')\n",
    "# dft_: timeseries, dfc_: today country agg\n",
    "dft_cases = df\n",
    "dft_deaths = get_frame('deaths')\n",
    "dft_recovered = get_frame('recovered')\n",
    "LAST_DATE_I, dt_cols = get_dates(df)"
   ]
  },
  {
   "cell_type": "code",
   "execution_count": 10,
   "id": "absolute-copper",
   "metadata": {
    "execution": {
     "iopub.execute_input": "2021-04-13T00:07:05.147194Z",
     "iopub.status.busy": "2021-04-13T00:07:05.146613Z",
     "iopub.status.idle": "2021-04-13T00:07:05.150870Z",
     "shell.execute_reply": "2021-04-13T00:07:05.150391Z"
    },
    "papermill": {
     "duration": 0.035712,
     "end_time": "2021-04-13T00:07:05.150983",
     "exception": false,
     "start_time": "2021-04-13T00:07:05.115271",
     "status": "completed"
    },
    "tags": []
   },
   "outputs": [],
   "source": [
    "#hide\n",
    "LAST_DATE_I, dt_cols = get_dates(df)\n",
    "dt_today =dt_cols[LAST_DATE_I]\n",
    "# dt_5day = dt_cols[LAST_DATE_I - 5]\n",
    "dt_yday = dt_cols[LAST_DATE_I - 1]"
   ]
  },
  {
   "cell_type": "code",
   "execution_count": 11,
   "id": "restricted-sheriff",
   "metadata": {
    "execution": {
     "iopub.execute_input": "2021-04-13T00:07:05.211745Z",
     "iopub.status.busy": "2021-04-13T00:07:05.211307Z",
     "iopub.status.idle": "2021-04-13T00:07:05.215853Z",
     "shell.execute_reply": "2021-04-13T00:07:05.215476Z"
    },
    "papermill": {
     "duration": 0.038472,
     "end_time": "2021-04-13T00:07:05.215944",
     "exception": false,
     "start_time": "2021-04-13T00:07:05.177472",
     "status": "completed"
    },
    "tags": []
   },
   "outputs": [],
   "source": [
    "#hide\n",
    "dfc_cases = dft_cases.groupby(COL_REGION)[dt_today].sum()\n",
    "dfc_deaths = dft_deaths.groupby(COL_REGION)[dt_today].sum()\n",
    "# dfp_cases = dft_cases.groupby(COL_REGION)[dt_5day].sum()\n",
    "# dfp_deaths = dft_deaths.groupby(COL_REGION)[dt_5day].sum()\n",
    "dfp_cases = dft_cases.groupby(COL_REGION)[dt_yday].sum()\n",
    "dfp_deaths = dft_deaths.groupby(COL_REGION)[dt_yday].sum()"
   ]
  },
  {
   "cell_type": "code",
   "execution_count": 12,
   "id": "deluxe-hepatitis",
   "metadata": {
    "execution": {
     "iopub.execute_input": "2021-04-13T00:07:05.274839Z",
     "iopub.status.busy": "2021-04-13T00:07:05.274433Z",
     "iopub.status.idle": "2021-04-13T00:07:05.278040Z",
     "shell.execute_reply": "2021-04-13T00:07:05.277700Z"
    },
    "papermill": {
     "duration": 0.035111,
     "end_time": "2021-04-13T00:07:05.278129",
     "exception": false,
     "start_time": "2021-04-13T00:07:05.243018",
     "status": "completed"
    },
    "tags": []
   },
   "outputs": [],
   "source": [
    "#hide\n",
    "df_table = (pd.DataFrame(dict(Cases = dfc_cases, Deaths = dfc_deaths, PCases = dfp_cases, PDeaths = dfp_deaths))\n",
    "            .sort_values(by = ['Cases','Deaths'], ascending = [False, False])\n",
    "            .reset_index())"
   ]
  },
  {
   "cell_type": "code",
   "execution_count": 13,
   "id": "educational-chancellor",
   "metadata": {
    "execution": {
     "iopub.execute_input": "2021-04-13T00:07:05.345336Z",
     "iopub.status.busy": "2021-04-13T00:07:05.344892Z",
     "iopub.status.idle": "2021-04-13T00:07:05.351265Z",
     "shell.execute_reply": "2021-04-13T00:07:05.350911Z"
    },
    "papermill": {
     "duration": 0.047095,
     "end_time": "2021-04-13T00:07:05.351358",
     "exception": false,
     "start_time": "2021-04-13T00:07:05.304263",
     "status": "completed"
    },
    "tags": []
   },
   "outputs": [
    {
     "data": {
      "text/html": [
       "<div>\n",
       "<style scoped>\n",
       "    .dataframe tbody tr th:only-of-type {\n",
       "        vertical-align: middle;\n",
       "    }\n",
       "\n",
       "    .dataframe tbody tr th {\n",
       "        vertical-align: top;\n",
       "    }\n",
       "\n",
       "    .dataframe thead th {\n",
       "        text-align: right;\n",
       "    }\n",
       "</style>\n",
       "<table border=\"1\" class=\"dataframe\">\n",
       "  <thead>\n",
       "    <tr style=\"text-align: right;\">\n",
       "      <th></th>\n",
       "      <th>Country/Region</th>\n",
       "      <th>Cases</th>\n",
       "      <th>Deaths</th>\n",
       "      <th>PCases</th>\n",
       "      <th>PDeaths</th>\n",
       "      <th>Cases (+)</th>\n",
       "      <th>Deaths (+)</th>\n",
       "      <th>Fatality Rate</th>\n",
       "      <th>Continent</th>\n",
       "    </tr>\n",
       "  </thead>\n",
       "  <tbody>\n",
       "    <tr>\n",
       "      <th>0</th>\n",
       "      <td>US</td>\n",
       "      <td>31197873</td>\n",
       "      <td>562066</td>\n",
       "      <td>31151495</td>\n",
       "      <td>561783</td>\n",
       "      <td>46378</td>\n",
       "      <td>283</td>\n",
       "      <td>1.80</td>\n",
       "      <td>North America</td>\n",
       "    </tr>\n",
       "    <tr>\n",
       "      <th>1</th>\n",
       "      <td>India</td>\n",
       "      <td>13527717</td>\n",
       "      <td>170179</td>\n",
       "      <td>13358805</td>\n",
       "      <td>169275</td>\n",
       "      <td>168912</td>\n",
       "      <td>904</td>\n",
       "      <td>1.26</td>\n",
       "      <td>Asia</td>\n",
       "    </tr>\n",
       "    <tr>\n",
       "      <th>2</th>\n",
       "      <td>Brazil</td>\n",
       "      <td>13482023</td>\n",
       "      <td>353137</td>\n",
       "      <td>13445006</td>\n",
       "      <td>351334</td>\n",
       "      <td>37017</td>\n",
       "      <td>1803</td>\n",
       "      <td>2.62</td>\n",
       "      <td>South America</td>\n",
       "    </tr>\n",
       "    <tr>\n",
       "      <th>3</th>\n",
       "      <td>France</td>\n",
       "      <td>5119585</td>\n",
       "      <td>98909</td>\n",
       "      <td>5001685</td>\n",
       "      <td>98213</td>\n",
       "      <td>117900</td>\n",
       "      <td>696</td>\n",
       "      <td>1.93</td>\n",
       "      <td>Europe</td>\n",
       "    </tr>\n",
       "    <tr>\n",
       "      <th>4</th>\n",
       "      <td>Russia</td>\n",
       "      <td>4589209</td>\n",
       "      <td>101282</td>\n",
       "      <td>4580633</td>\n",
       "      <td>100949</td>\n",
       "      <td>8576</td>\n",
       "      <td>333</td>\n",
       "      <td>2.21</td>\n",
       "      <td>Europe</td>\n",
       "    </tr>\n",
       "  </tbody>\n",
       "</table>\n",
       "</div>"
      ],
      "text/plain": [
       "  Country/Region     Cases  Deaths    PCases  PDeaths  Cases (+)  Deaths (+)  \\\n",
       "0             US  31197873  562066  31151495   561783      46378         283   \n",
       "1          India  13527717  170179  13358805   169275     168912         904   \n",
       "2         Brazil  13482023  353137  13445006   351334      37017        1803   \n",
       "3         France   5119585   98909   5001685    98213     117900         696   \n",
       "4         Russia   4589209  101282   4580633   100949       8576         333   \n",
       "\n",
       "   Fatality Rate      Continent  \n",
       "0           1.80  North America  \n",
       "1           1.26           Asia  \n",
       "2           2.62  South America  \n",
       "3           1.93         Europe  \n",
       "4           2.21         Europe  "
      ]
     },
     "execution_count": 13,
     "metadata": {},
     "output_type": "execute_result"
    }
   ],
   "source": [
    "#hide\n",
    "for c in 'Cases, Deaths'.split(', '):\n",
    "    df_table[f'{c} (+)'] = (df_table[c] - df_table[f'P{c}']).clip(0)\n",
    "    #Clip ça veut dire, les chiffres negatif sont interdit\n",
    "df_table['Fatality Rate'] = (100* df_table['Deaths']/ df_table['Cases']).round(2)\n",
    "df_table['Continent'] = df_table['Country/Region'].map(mapping['map.continent'])\n",
    "df_table.head(5)"
   ]
  },
  {
   "cell_type": "code",
   "execution_count": 14,
   "id": "aboriginal-bulgaria",
   "metadata": {
    "execution": {
     "iopub.execute_input": "2021-04-13T00:07:05.409398Z",
     "iopub.status.busy": "2021-04-13T00:07:05.408974Z",
     "iopub.status.idle": "2021-04-13T00:07:05.410677Z",
     "shell.execute_reply": "2021-04-13T00:07:05.411091Z"
    },
    "papermill": {
     "duration": 0.033243,
     "end_time": "2021-04-13T00:07:05.411189",
     "exception": false,
     "start_time": "2021-04-13T00:07:05.377946",
     "status": "completed"
    },
    "tags": []
   },
   "outputs": [],
   "source": [
    "#hide\n",
    "#delete problematic countries from table\n",
    "df_table = df_table[~df_table['Country/Region'].isin(['Cape Verde', 'Cruise Ship', 'Kosovo'])]"
   ]
  },
  {
   "cell_type": "code",
   "execution_count": 15,
   "id": "fantastic-effect",
   "metadata": {
    "execution": {
     "iopub.execute_input": "2021-04-13T00:07:05.470214Z",
     "iopub.status.busy": "2021-04-13T00:07:05.469791Z",
     "iopub.status.idle": "2021-04-13T00:07:05.483124Z",
     "shell.execute_reply": "2021-04-13T00:07:05.483495Z"
    },
    "papermill": {
     "duration": 0.046366,
     "end_time": "2021-04-13T00:07:05.483593",
     "exception": false,
     "start_time": "2021-04-13T00:07:05.437227",
     "status": "completed"
    },
    "tags": []
   },
   "outputs": [
    {
     "data": {
      "text/html": [
       "<div>\n",
       "<style scoped>\n",
       "    .dataframe tbody tr th:only-of-type {\n",
       "        vertical-align: middle;\n",
       "    }\n",
       "\n",
       "    .dataframe tbody tr th {\n",
       "        vertical-align: top;\n",
       "    }\n",
       "\n",
       "    .dataframe thead th {\n",
       "        text-align: right;\n",
       "    }\n",
       "</style>\n",
       "<table border=\"1\" class=\"dataframe\">\n",
       "  <thead>\n",
       "    <tr style=\"text-align: right;\">\n",
       "      <th></th>\n",
       "      <th>Country/Region</th>\n",
       "      <th>Cases</th>\n",
       "      <th>Deaths</th>\n",
       "      <th>PCases</th>\n",
       "      <th>PDeaths</th>\n",
       "      <th>Cases (+)</th>\n",
       "      <th>Deaths (+)</th>\n",
       "      <th>Fatality Rate</th>\n",
       "      <th>Continent</th>\n",
       "    </tr>\n",
       "  </thead>\n",
       "  <tbody>\n",
       "    <tr>\n",
       "      <th>0</th>\n",
       "      <td>US</td>\n",
       "      <td>31197873</td>\n",
       "      <td>562066</td>\n",
       "      <td>31151495</td>\n",
       "      <td>561783</td>\n",
       "      <td>46378</td>\n",
       "      <td>283</td>\n",
       "      <td>1.8</td>\n",
       "      <td>North America</td>\n",
       "    </tr>\n",
       "    <tr>\n",
       "      <th>1</th>\n",
       "      <td>India</td>\n",
       "      <td>13527717</td>\n",
       "      <td>170179</td>\n",
       "      <td>13358805</td>\n",
       "      <td>169275</td>\n",
       "      <td>168912</td>\n",
       "      <td>904</td>\n",
       "      <td>1.3</td>\n",
       "      <td>Asia</td>\n",
       "    </tr>\n",
       "    <tr>\n",
       "      <th>2</th>\n",
       "      <td>Brazil</td>\n",
       "      <td>13482023</td>\n",
       "      <td>353137</td>\n",
       "      <td>13445006</td>\n",
       "      <td>351334</td>\n",
       "      <td>37017</td>\n",
       "      <td>1803</td>\n",
       "      <td>2.6</td>\n",
       "      <td>South America</td>\n",
       "    </tr>\n",
       "    <tr>\n",
       "      <th>3</th>\n",
       "      <td>France</td>\n",
       "      <td>5119585</td>\n",
       "      <td>98909</td>\n",
       "      <td>5001685</td>\n",
       "      <td>98213</td>\n",
       "      <td>117900</td>\n",
       "      <td>696</td>\n",
       "      <td>1.9</td>\n",
       "      <td>Europe</td>\n",
       "    </tr>\n",
       "    <tr>\n",
       "      <th>4</th>\n",
       "      <td>Russia</td>\n",
       "      <td>4589209</td>\n",
       "      <td>101282</td>\n",
       "      <td>4580633</td>\n",
       "      <td>100949</td>\n",
       "      <td>8576</td>\n",
       "      <td>333</td>\n",
       "      <td>2.2</td>\n",
       "      <td>Europe</td>\n",
       "    </tr>\n",
       "  </tbody>\n",
       "</table>\n",
       "</div>"
      ],
      "text/plain": [
       "  Country/Region     Cases  Deaths    PCases  PDeaths  Cases (+)  Deaths (+)  \\\n",
       "0             US  31197873  562066  31151495   561783      46378         283   \n",
       "1          India  13527717  170179  13358805   169275     168912         904   \n",
       "2         Brazil  13482023  353137  13445006   351334      37017        1803   \n",
       "3         France   5119585   98909   5001685    98213     117900         696   \n",
       "4         Russia   4589209  101282   4580633   100949       8576         333   \n",
       "\n",
       "   Fatality Rate      Continent  \n",
       "0            1.8  North America  \n",
       "1            1.3           Asia  \n",
       "2            2.6  South America  \n",
       "3            1.9         Europe  \n",
       "4            2.2         Europe  "
      ]
     },
     "execution_count": 15,
     "metadata": {},
     "output_type": "execute_result"
    }
   ],
   "source": [
    "#hide\n",
    "df_table = (pd.DataFrame(dict(Cases=dfc_cases, Deaths=dfc_deaths, PCases=dfp_cases, PDeaths=dfp_deaths))\n",
    "             .sort_values(by=['Cases', 'Deaths'], ascending=[False, False])\n",
    "             .reset_index())\n",
    "df_table.rename(columns={'index': 'Country/Region'}, inplace=True)\n",
    "for c in 'Cases, Deaths'.split(', '):\n",
    "    df_table[f'{c} (+)'] = (df_table[c] - df_table[f'P{c}']).clip(0)  # DATA BUG\n",
    "df_table['Fatality Rate'] = (100 * df_table['Deaths'] / df_table['Cases']).round(1)\n",
    "df_table['Continent'] = df_table['Country/Region'].map(mapping['map.continent'])\n",
    "df_table.head(5)"
   ]
  },
  {
   "cell_type": "code",
   "execution_count": 16,
   "id": "fewer-occasion",
   "metadata": {
    "execution": {
     "iopub.execute_input": "2021-04-13T00:07:05.541623Z",
     "iopub.status.busy": "2021-04-13T00:07:05.541224Z",
     "iopub.status.idle": "2021-04-13T00:07:05.543611Z",
     "shell.execute_reply": "2021-04-13T00:07:05.543265Z"
    },
    "papermill": {
     "duration": 0.033196,
     "end_time": "2021-04-13T00:07:05.543698",
     "exception": false,
     "start_time": "2021-04-13T00:07:05.510502",
     "status": "completed"
    },
    "tags": []
   },
   "outputs": [],
   "source": [
    "#hide\n",
    "#delete problematic countries from table\n",
    "df_table = df_table[~df_table['Country/Region'].isin(['Cape Verde', 'Cruise Ship', 'Kosovo'])]"
   ]
  },
  {
   "cell_type": "code",
   "execution_count": 17,
   "id": "related-center",
   "metadata": {
    "execution": {
     "iopub.execute_input": "2021-04-13T00:07:05.608152Z",
     "iopub.status.busy": "2021-04-13T00:07:05.607714Z",
     "iopub.status.idle": "2021-04-13T00:07:05.615781Z",
     "shell.execute_reply": "2021-04-13T00:07:05.615426Z"
    },
    "papermill": {
     "duration": 0.045107,
     "end_time": "2021-04-13T00:07:05.615870",
     "exception": false,
     "start_time": "2021-04-13T00:07:05.570763",
     "status": "completed"
    },
    "tags": []
   },
   "outputs": [],
   "source": [
    "#hide\n",
    "metrics = [df_table.columns[index] for index in [1,2,5,6]]\n",
    "# s_china = df_table[df_table['Country/Region'].eq('China')][metrics].sum().add_prefix('China ')\n",
    "s_us = df_table[df_table['Country/Region'].eq('US')][metrics].sum().add_prefix('US ')\n",
    "s_eu = df_table[df_table['Continent'].eq('Europe')][metrics].sum().add_prefix('EU ')\n",
    "s_ind = df_table[df_table['Country/Region'].eq('India')][metrics].sum().add_prefix('India ')\n",
    "summary = {'updated': pd.to_datetime(dt_today), 'since': pd.to_datetime(dt_yday)}\n",
    "summary = {'updated': pd.to_datetime(dt_today), 'since': pd.to_datetime(dt_yday)}\n",
    "summary = {**summary, **df_table[metrics].sum(), **s_ind, **s_us, **s_eu}"
   ]
  },
  {
   "cell_type": "code",
   "execution_count": 18,
   "id": "engaging-syndrome",
   "metadata": {
    "execution": {
     "iopub.execute_input": "2021-04-13T00:07:05.674531Z",
     "iopub.status.busy": "2021-04-13T00:07:05.674087Z",
     "iopub.status.idle": "2021-04-13T00:07:05.685331Z",
     "shell.execute_reply": "2021-04-13T00:07:05.685662Z"
    },
    "papermill": {
     "duration": 0.042812,
     "end_time": "2021-04-13T00:07:05.685763",
     "exception": false,
     "start_time": "2021-04-13T00:07:05.642951",
     "status": "completed"
    },
    "tags": []
   },
   "outputs": [],
   "source": [
    "#hide\n",
    "dft_ct_new_cases = dft_cases.groupby(COL_REGION)[dt_cols].sum().diff(axis=1).fillna(0).astype(int)"
   ]
  },
  {
   "cell_type": "code",
   "execution_count": 19,
   "id": "neutral-assignment",
   "metadata": {
    "execution": {
     "iopub.execute_input": "2021-04-13T00:07:05.744200Z",
     "iopub.status.busy": "2021-04-13T00:07:05.743801Z",
     "iopub.status.idle": "2021-04-13T00:07:05.746722Z",
     "shell.execute_reply": "2021-04-13T00:07:05.747126Z"
    },
    "papermill": {
     "duration": 0.034115,
     "end_time": "2021-04-13T00:07:05.747223",
     "exception": false,
     "start_time": "2021-04-13T00:07:05.713108",
     "status": "completed"
    },
    "tags": []
   },
   "outputs": [],
   "source": [
    "#hide\n",
    "everydaycases = dft_ct_new_cases.cumsum(axis=1)"
   ]
  },
  {
   "cell_type": "code",
   "execution_count": 20,
   "id": "parliamentary-calgary",
   "metadata": {
    "execution": {
     "iopub.execute_input": "2021-04-13T00:07:05.805042Z",
     "iopub.status.busy": "2021-04-13T00:07:05.804575Z",
     "iopub.status.idle": "2021-04-13T00:07:06.212706Z",
     "shell.execute_reply": "2021-04-13T00:07:06.212158Z"
    },
    "papermill": {
     "duration": 0.438626,
     "end_time": "2021-04-13T00:07:06.212857",
     "exception": false,
     "start_time": "2021-04-13T00:07:05.774231",
     "status": "completed"
    },
    "tags": []
   },
   "outputs": [],
   "source": [
    "#hide\n",
    "import pandas as pd\n",
    "import matplotlib.pyplot as plt\n",
    "import matplotlib.ticker as ticker\n",
    "import matplotlib.animation as animation\n",
    "from IPython.display import HTML"
   ]
  },
  {
   "cell_type": "code",
   "execution_count": 21,
   "id": "lasting-extraction",
   "metadata": {
    "execution": {
     "iopub.execute_input": "2021-04-13T00:07:06.273957Z",
     "iopub.status.busy": "2021-04-13T00:07:06.273543Z",
     "iopub.status.idle": "2021-04-13T00:07:06.279021Z",
     "shell.execute_reply": "2021-04-13T00:07:06.278668Z"
    },
    "papermill": {
     "duration": 0.037439,
     "end_time": "2021-04-13T00:07:06.279118",
     "exception": false,
     "start_time": "2021-04-13T00:07:06.241679",
     "status": "completed"
    },
    "tags": []
   },
   "outputs": [],
   "source": [
    "#hide\n",
    "t = everydaycases.stack()"
   ]
  },
  {
   "cell_type": "code",
   "execution_count": 22,
   "id": "premier-sleeve",
   "metadata": {
    "execution": {
     "iopub.execute_input": "2021-04-13T00:07:06.339434Z",
     "iopub.status.busy": "2021-04-13T00:07:06.338926Z",
     "iopub.status.idle": "2021-04-13T00:07:06.356662Z",
     "shell.execute_reply": "2021-04-13T00:07:06.355513Z"
    },
    "papermill": {
     "duration": 0.050604,
     "end_time": "2021-04-13T00:07:06.356782",
     "exception": false,
     "start_time": "2021-04-13T00:07:06.306178",
     "status": "completed"
    },
    "tags": []
   },
   "outputs": [],
   "source": [
    "#hide\n",
    "g = t.reset_index(['Country/Region'])"
   ]
  },
  {
   "cell_type": "code",
   "execution_count": 23,
   "id": "distributed-pittsburgh",
   "metadata": {
    "execution": {
     "iopub.execute_input": "2021-04-13T00:07:06.417052Z",
     "iopub.status.busy": "2021-04-13T00:07:06.416455Z",
     "iopub.status.idle": "2021-04-13T00:07:06.418480Z",
     "shell.execute_reply": "2021-04-13T00:07:06.418033Z"
    },
    "papermill": {
     "duration": 0.032349,
     "end_time": "2021-04-13T00:07:06.418597",
     "exception": false,
     "start_time": "2021-04-13T00:07:06.386248",
     "status": "completed"
    },
    "tags": []
   },
   "outputs": [],
   "source": [
    "#hide\n",
    "g.index.name = 'date'"
   ]
  },
  {
   "cell_type": "code",
   "execution_count": 24,
   "id": "naked-donor",
   "metadata": {
    "execution": {
     "iopub.execute_input": "2021-04-13T00:07:06.477623Z",
     "iopub.status.busy": "2021-04-13T00:07:06.477037Z",
     "iopub.status.idle": "2021-04-13T00:07:06.478879Z",
     "shell.execute_reply": "2021-04-13T00:07:06.478330Z"
    },
    "papermill": {
     "duration": 0.032515,
     "end_time": "2021-04-13T00:07:06.478998",
     "exception": false,
     "start_time": "2021-04-13T00:07:06.446483",
     "status": "completed"
    },
    "tags": []
   },
   "outputs": [],
   "source": [
    "# #hide\n",
    "# g = g.reset_index(['date'])"
   ]
  },
  {
   "cell_type": "code",
   "execution_count": 25,
   "id": "incomplete-mustang",
   "metadata": {
    "execution": {
     "iopub.execute_input": "2021-04-13T00:07:06.538209Z",
     "iopub.status.busy": "2021-04-13T00:07:06.537718Z",
     "iopub.status.idle": "2021-04-13T00:07:06.539659Z",
     "shell.execute_reply": "2021-04-13T00:07:06.539207Z"
    },
    "papermill": {
     "duration": 0.032883,
     "end_time": "2021-04-13T00:07:06.539763",
     "exception": false,
     "start_time": "2021-04-13T00:07:06.506880",
     "status": "completed"
    },
    "tags": []
   },
   "outputs": [],
   "source": [
    "#hide\n",
    "# g.head()"
   ]
  },
  {
   "cell_type": "code",
   "execution_count": 26,
   "id": "specific-kruger",
   "metadata": {
    "execution": {
     "iopub.execute_input": "2021-04-13T00:07:06.597294Z",
     "iopub.status.busy": "2021-04-13T00:07:06.596881Z",
     "iopub.status.idle": "2021-04-13T00:07:06.598627Z",
     "shell.execute_reply": "2021-04-13T00:07:06.599050Z"
    },
    "papermill": {
     "duration": 0.03188,
     "end_time": "2021-04-13T00:07:06.599162",
     "exception": false,
     "start_time": "2021-04-13T00:07:06.567282",
     "status": "completed"
    },
    "tags": []
   },
   "outputs": [],
   "source": [
    "#hide\n",
    "# g.columns = ['date','country','cases']"
   ]
  },
  {
   "cell_type": "code",
   "execution_count": 27,
   "id": "tender-conversion",
   "metadata": {
    "execution": {
     "iopub.execute_input": "2021-04-13T00:07:06.656865Z",
     "iopub.status.busy": "2021-04-13T00:07:06.656386Z",
     "iopub.status.idle": "2021-04-13T00:07:06.658300Z",
     "shell.execute_reply": "2021-04-13T00:07:06.658653Z"
    },
    "papermill": {
     "duration": 0.032522,
     "end_time": "2021-04-13T00:07:06.658764",
     "exception": false,
     "start_time": "2021-04-13T00:07:06.626242",
     "status": "completed"
    },
    "tags": []
   },
   "outputs": [],
   "source": [
    "#hide\n",
    "# g['continent'] = g.country"
   ]
  },
  {
   "cell_type": "code",
   "execution_count": 28,
   "id": "substantial-wilderness",
   "metadata": {
    "execution": {
     "iopub.execute_input": "2021-04-13T00:07:06.717302Z",
     "iopub.status.busy": "2021-04-13T00:07:06.716849Z",
     "iopub.status.idle": "2021-04-13T00:07:06.718562Z",
     "shell.execute_reply": "2021-04-13T00:07:06.718978Z"
    },
    "papermill": {
     "duration": 0.032972,
     "end_time": "2021-04-13T00:07:06.719092",
     "exception": false,
     "start_time": "2021-04-13T00:07:06.686120",
     "status": "completed"
    },
    "tags": []
   },
   "outputs": [],
   "source": [
    "#hide\n",
    "# cols = list(g.columns.values)"
   ]
  },
  {
   "cell_type": "code",
   "execution_count": 29,
   "id": "solved-farming",
   "metadata": {
    "execution": {
     "iopub.execute_input": "2021-04-13T00:07:06.776721Z",
     "iopub.status.busy": "2021-04-13T00:07:06.776266Z",
     "iopub.status.idle": "2021-04-13T00:07:06.778022Z",
     "shell.execute_reply": "2021-04-13T00:07:06.778352Z"
    },
    "papermill": {
     "duration": 0.031897,
     "end_time": "2021-04-13T00:07:06.778471",
     "exception": false,
     "start_time": "2021-04-13T00:07:06.746574",
     "status": "completed"
    },
    "tags": []
   },
   "outputs": [],
   "source": [
    "#hide\n",
    "# cols.insert(0, cols.pop())"
   ]
  },
  {
   "cell_type": "code",
   "execution_count": 30,
   "id": "executed-adoption",
   "metadata": {
    "execution": {
     "iopub.execute_input": "2021-04-13T00:07:06.835142Z",
     "iopub.status.busy": "2021-04-13T00:07:06.834708Z",
     "iopub.status.idle": "2021-04-13T00:07:06.836354Z",
     "shell.execute_reply": "2021-04-13T00:07:06.836788Z"
    },
    "papermill": {
     "duration": 0.030968,
     "end_time": "2021-04-13T00:07:06.836889",
     "exception": false,
     "start_time": "2021-04-13T00:07:06.805921",
     "status": "completed"
    },
    "tags": []
   },
   "outputs": [],
   "source": [
    "#hide\n",
    "# g = g[cols]"
   ]
  },
  {
   "cell_type": "code",
   "execution_count": 31,
   "id": "subject-dublin",
   "metadata": {
    "execution": {
     "iopub.execute_input": "2021-04-13T00:07:06.893865Z",
     "iopub.status.busy": "2021-04-13T00:07:06.893295Z",
     "iopub.status.idle": "2021-04-13T00:07:06.894597Z",
     "shell.execute_reply": "2021-04-13T00:07:06.895042Z"
    },
    "papermill": {
     "duration": 0.031344,
     "end_time": "2021-04-13T00:07:06.895165",
     "exception": false,
     "start_time": "2021-04-13T00:07:06.863821",
     "status": "completed"
    },
    "tags": []
   },
   "outputs": [],
   "source": [
    "#hide\n",
    "# g['continent'] = g['continent'].map(mapping['map.continent'])"
   ]
  },
  {
   "cell_type": "code",
   "execution_count": 32,
   "id": "freelance-scout",
   "metadata": {
    "execution": {
     "iopub.execute_input": "2021-04-13T00:07:06.952049Z",
     "iopub.status.busy": "2021-04-13T00:07:06.951618Z",
     "iopub.status.idle": "2021-04-13T00:07:06.953732Z",
     "shell.execute_reply": "2021-04-13T00:07:06.953392Z"
    },
    "papermill": {
     "duration": 0.031215,
     "end_time": "2021-04-13T00:07:06.953837",
     "exception": false,
     "start_time": "2021-04-13T00:07:06.922622",
     "status": "completed"
    },
    "tags": []
   },
   "outputs": [],
   "source": [
    "#hide\n",
    "# g.head()"
   ]
  },
  {
   "cell_type": "code",
   "execution_count": 33,
   "id": "limited-engine",
   "metadata": {
    "execution": {
     "iopub.execute_input": "2021-04-13T00:07:07.009408Z",
     "iopub.status.busy": "2021-04-13T00:07:07.008984Z",
     "iopub.status.idle": "2021-04-13T00:07:07.010509Z",
     "shell.execute_reply": "2021-04-13T00:07:07.010820Z"
    },
    "papermill": {
     "duration": 0.030721,
     "end_time": "2021-04-13T00:07:07.010913",
     "exception": false,
     "start_time": "2021-04-13T00:07:06.980192",
     "status": "completed"
    },
    "tags": []
   },
   "outputs": [],
   "source": [
    "# hide\n",
    "# g['date'] = g['date'].astype('datetime64[ns]')"
   ]
  },
  {
   "cell_type": "code",
   "execution_count": 34,
   "id": "sophisticated-supervisor",
   "metadata": {
    "execution": {
     "iopub.execute_input": "2021-04-13T00:07:07.067759Z",
     "iopub.status.busy": "2021-04-13T00:07:07.067359Z",
     "iopub.status.idle": "2021-04-13T00:07:07.069167Z",
     "shell.execute_reply": "2021-04-13T00:07:07.069496Z"
    },
    "papermill": {
     "duration": 0.032014,
     "end_time": "2021-04-13T00:07:07.069595",
     "exception": false,
     "start_time": "2021-04-13T00:07:07.037581",
     "status": "completed"
    },
    "tags": []
   },
   "outputs": [],
   "source": [
    "#hide\n",
    "# g['date'] = g.date.dt.dayofyear"
   ]
  },
  {
   "cell_type": "code",
   "execution_count": 35,
   "id": "inside-dubai",
   "metadata": {
    "execution": {
     "iopub.execute_input": "2021-04-13T00:07:07.125860Z",
     "iopub.status.busy": "2021-04-13T00:07:07.125434Z",
     "iopub.status.idle": "2021-04-13T00:07:07.127163Z",
     "shell.execute_reply": "2021-04-13T00:07:07.127486Z"
    },
    "papermill": {
     "duration": 0.031329,
     "end_time": "2021-04-13T00:07:07.127575",
     "exception": false,
     "start_time": "2021-04-13T00:07:07.096246",
     "status": "completed"
    },
    "tags": []
   },
   "outputs": [],
   "source": [
    "#hide\n",
    "# g = g.rename(columns= {'continent':'group','country':'name','cases':'value'})"
   ]
  },
  {
   "cell_type": "code",
   "execution_count": 36,
   "id": "fleet-motorcycle",
   "metadata": {
    "execution": {
     "iopub.execute_input": "2021-04-13T00:07:07.183977Z",
     "iopub.status.busy": "2021-04-13T00:07:07.183578Z",
     "iopub.status.idle": "2021-04-13T00:07:07.185381Z",
     "shell.execute_reply": "2021-04-13T00:07:07.185731Z"
    },
    "papermill": {
     "duration": 0.031574,
     "end_time": "2021-04-13T00:07:07.185828",
     "exception": false,
     "start_time": "2021-04-13T00:07:07.154254",
     "status": "completed"
    },
    "tags": []
   },
   "outputs": [],
   "source": [
    "#hide\n",
    "# cols = ['name','group','day','value']"
   ]
  },
  {
   "cell_type": "code",
   "execution_count": 37,
   "id": "continued-sleeping",
   "metadata": {
    "execution": {
     "iopub.execute_input": "2021-04-13T00:07:07.242652Z",
     "iopub.status.busy": "2021-04-13T00:07:07.241687Z",
     "iopub.status.idle": "2021-04-13T00:07:07.243201Z",
     "shell.execute_reply": "2021-04-13T00:07:07.243616Z"
    },
    "papermill": {
     "duration": 0.031261,
     "end_time": "2021-04-13T00:07:07.243708",
     "exception": false,
     "start_time": "2021-04-13T00:07:07.212447",
     "status": "completed"
    },
    "tags": []
   },
   "outputs": [],
   "source": [
    "#hide\n",
    "# g.rename(columns= {'date':'day'},inplace = True)"
   ]
  },
  {
   "cell_type": "code",
   "execution_count": 38,
   "id": "major-fight",
   "metadata": {
    "execution": {
     "iopub.execute_input": "2021-04-13T00:07:07.300887Z",
     "iopub.status.busy": "2021-04-13T00:07:07.300293Z",
     "iopub.status.idle": "2021-04-13T00:07:07.302126Z",
     "shell.execute_reply": "2021-04-13T00:07:07.301584Z"
    },
    "papermill": {
     "duration": 0.031405,
     "end_time": "2021-04-13T00:07:07.302233",
     "exception": false,
     "start_time": "2021-04-13T00:07:07.270828",
     "status": "completed"
    },
    "tags": []
   },
   "outputs": [],
   "source": [
    "#hide\n",
    "# g = g[cols]"
   ]
  },
  {
   "cell_type": "code",
   "execution_count": 39,
   "id": "structured-mobile",
   "metadata": {
    "execution": {
     "iopub.execute_input": "2021-04-13T00:07:07.358752Z",
     "iopub.status.busy": "2021-04-13T00:07:07.358191Z",
     "iopub.status.idle": "2021-04-13T00:07:07.359563Z",
     "shell.execute_reply": "2021-04-13T00:07:07.360010Z"
    },
    "papermill": {
     "duration": 0.031333,
     "end_time": "2021-04-13T00:07:07.360134",
     "exception": false,
     "start_time": "2021-04-13T00:07:07.328801",
     "status": "completed"
    },
    "tags": []
   },
   "outputs": [],
   "source": [
    "# #hide\n",
    "# g = g[g.group.notna()]"
   ]
  },
  {
   "cell_type": "code",
   "execution_count": 40,
   "id": "determined-closing",
   "metadata": {
    "execution": {
     "iopub.execute_input": "2021-04-13T00:07:07.417184Z",
     "iopub.status.busy": "2021-04-13T00:07:07.416766Z",
     "iopub.status.idle": "2021-04-13T00:07:07.418797Z",
     "shell.execute_reply": "2021-04-13T00:07:07.418475Z"
    },
    "papermill": {
     "duration": 0.031566,
     "end_time": "2021-04-13T00:07:07.418876",
     "exception": false,
     "start_time": "2021-04-13T00:07:07.387310",
     "status": "completed"
    },
    "tags": []
   },
   "outputs": [],
   "source": [
    "# #hide\n",
    "# colors = dict(zip(\n",
    "#     [\"Oceania\", \"Europe\", \"Asia\", \"South America\", \"Middle East\", \"North America\", \"Africa\"],\n",
    "#     [\"#adb0ff\", \"#ffb3ff\", \"#90d595\", \"#e48381\", \"#aafbff\", \"#f7bb5f\", \"#eafb50\"]\n",
    "# ))\n",
    "# group_lk = g.set_index('name')['group'].to_dict()"
   ]
  },
  {
   "cell_type": "code",
   "execution_count": null,
   "id": "gross-drinking",
   "metadata": {
    "papermill": {
     "duration": 0.026329,
     "end_time": "2021-04-13T00:07:07.471587",
     "exception": false,
     "start_time": "2021-04-13T00:07:07.445258",
     "status": "completed"
    },
    "tags": []
   },
   "outputs": [],
   "source": []
  },
  {
   "cell_type": "code",
   "execution_count": 41,
   "id": "subject-macintosh",
   "metadata": {
    "execution": {
     "iopub.execute_input": "2021-04-13T00:07:07.528199Z",
     "iopub.status.busy": "2021-04-13T00:07:07.527760Z",
     "iopub.status.idle": "2021-04-13T00:07:07.529906Z",
     "shell.execute_reply": "2021-04-13T00:07:07.529559Z"
    },
    "papermill": {
     "duration": 0.032075,
     "end_time": "2021-04-13T00:07:07.529993",
     "exception": false,
     "start_time": "2021-04-13T00:07:07.497918",
     "status": "completed"
    },
    "tags": []
   },
   "outputs": [],
   "source": [
    "# #hide\n",
    "# fig, ax = plt.subplots(figsize=(15, 8))\n",
    "\n",
    "# def draw_barchart(current_day):\n",
    "#     dff = g[g['day'].eq(current_day)].sort_values(by='value', ascending=True).tail(10)\n",
    "#     ax.clear()\n",
    "#     ax.barh(dff['name'], dff['value'], color=[colors[group_lk[x]] for x in dff['name']])\n",
    "#     dx = dff['value'].max() / 200\n",
    "    \n",
    "#     for i, (value, name) in enumerate(zip(dff['value'], dff['name'])):\n",
    "#         ax.text(value-dx, i,     name,           size=14, weight=600, ha='right', va='bottom')\n",
    "#         ax.text(value-dx, i-.25, group_lk[name], size=10, color='#444444', ha='right', va='baseline')\n",
    "#         ax.text(value+dx, i,     f'{value:,.0f}',  size=14, ha='left',  va='center')\n",
    "#     ax.text(1, 0.4, current_day, transform=ax.transAxes, color='#777777', size=46, ha='right', weight=800)\n",
    "#     ax.text(0, 1.06, 'Population (thousands)', transform=ax.transAxes, size=12, color='#777777')\n",
    "#     ax.xaxis.set_major_formatter(ticker.StrMethodFormatter('{x:,.0f}'))\n",
    "#     ax.xaxis.set_ticks_position('top')\n",
    "#     ax.tick_params(axis='x', colors='#777777', labelsize=12)\n",
    "#     ax.set_yticks([])\n",
    "#     ax.margins(0, 0.01)\n",
    "#     ax.grid(which='major', axis='x', linestyle='-')\n",
    "#     ax.set_axisbelow(True)\n",
    "    \n",
    "#     ax.text(0, 1.15, 'Coronavirus',\n",
    "#             transform=ax.transAxes, size=24, weight=600, ha='left', va='top')\n",
    "# #     ax.text(1, 0, 'by @pratapvardhan; credit @jburnmurdoch', transform=ax.transAxes, color='#777777', ha='right',\n",
    "# #             bbox=dict(facecolor='white', alpha=0.8, edgecolor='white'))\n",
    "#     plt.box(False)"
   ]
  },
  {
   "cell_type": "code",
   "execution_count": 42,
   "id": "sexual-wages",
   "metadata": {
    "execution": {
     "iopub.execute_input": "2021-04-13T00:07:07.586197Z",
     "iopub.status.busy": "2021-04-13T00:07:07.585759Z",
     "iopub.status.idle": "2021-04-13T00:07:07.587295Z",
     "shell.execute_reply": "2021-04-13T00:07:07.587638Z"
    },
    "papermill": {
     "duration": 0.031172,
     "end_time": "2021-04-13T00:07:07.587727",
     "exception": false,
     "start_time": "2021-04-13T00:07:07.556555",
     "status": "completed"
    },
    "tags": []
   },
   "outputs": [],
   "source": [
    "# #hide_input\n",
    "# fig, ax = plt.subplots(figsize=(15, 8))\n",
    "# animator = animation.FuncAnimation(fig, draw_barchart, frames=range(g.day.values.min(), g.day.values.max()))\n",
    "# HTML(animator.to_jshtml())\n",
    "# # or use animator.to_html5_video() or animator.save() "
   ]
  },
  {
   "cell_type": "code",
   "execution_count": null,
   "id": "australian-container",
   "metadata": {
    "papermill": {
     "duration": 0.025944,
     "end_time": "2021-04-13T00:07:07.640171",
     "exception": false,
     "start_time": "2021-04-13T00:07:07.614227",
     "status": "completed"
    },
    "tags": []
   },
   "outputs": [],
   "source": []
  },
  {
   "cell_type": "code",
   "execution_count": null,
   "id": "mediterranean-pontiac",
   "metadata": {
    "papermill": {
     "duration": 0.027221,
     "end_time": "2021-04-13T00:07:07.694072",
     "exception": false,
     "start_time": "2021-04-13T00:07:07.666851",
     "status": "completed"
    },
    "tags": []
   },
   "outputs": [],
   "source": []
  },
  {
   "cell_type": "code",
   "execution_count": null,
   "id": "aging-legislature",
   "metadata": {
    "papermill": {
     "duration": 0.027011,
     "end_time": "2021-04-13T00:07:07.748537",
     "exception": false,
     "start_time": "2021-04-13T00:07:07.721526",
     "status": "completed"
    },
    "tags": []
   },
   "outputs": [],
   "source": []
  }
 ],
 "metadata": {
  "kernelspec": {
   "display_name": "Python 3",
   "language": "python",
   "name": "python3"
  },
  "language_info": {
   "codemirror_mode": {
    "name": "ipython",
    "version": 3
   },
   "file_extension": ".py",
   "mimetype": "text/x-python",
   "name": "python",
   "nbconvert_exporter": "python",
   "pygments_lexer": "ipython3",
   "version": "3.6.13"
  },
  "papermill": {
   "duration": 5.109384,
   "end_time": "2021-04-13T00:07:08.082559",
   "environment_variables": {},
   "exception": null,
   "input_path": "2020-03-21-covid19exp.ipynb",
   "output_path": "2020-03-21-covid19exp.ipynb",
   "parameters": {},
   "start_time": "2021-04-13T00:07:02.973175",
   "version": "2.0.0"
  }
 },
 "nbformat": 4,
 "nbformat_minor": 5
}