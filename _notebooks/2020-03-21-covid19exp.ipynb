{
 "cells": [
  {
   "cell_type": "markdown",
   "id": "muslim-click",
   "metadata": {
    "papermill": {
     "duration": 0.043394,
     "end_time": "2021-11-10T12:12:05.443128",
     "exception": false,
     "start_time": "2021-11-10T12:12:05.399734",
     "status": "completed"
    },
    "tags": []
   },
   "source": [
    "# COVID-19 Case Race\n",
    "> A race chart to see rising cases around the world\n",
    "\n",
    "- author: Hargun Oberoi\n",
    "- image: images/covid-overview.png\n",
    "- hide: false\n",
    "- badges: false"
   ]
  },
  {
   "cell_type": "code",
   "execution_count": 1,
   "id": "proof-material",
   "metadata": {
    "execution": {
     "iopub.execute_input": "2021-11-10T12:12:05.529892Z",
     "iopub.status.busy": "2021-11-10T12:12:05.529223Z",
     "iopub.status.idle": "2021-11-10T12:12:05.922396Z",
     "shell.execute_reply": "2021-11-10T12:12:05.921807Z"
    },
    "papermill": {
     "duration": 0.442805,
     "end_time": "2021-11-10T12:12:05.922569",
     "exception": false,
     "start_time": "2021-11-10T12:12:05.479764",
     "status": "completed"
    },
    "tags": []
   },
   "outputs": [],
   "source": [
    "#hide\n",
    "import numpy as np\n",
    "import pandas as pd\n",
    "from jinja2 import Template\n",
    "from IPython.display import HTML"
   ]
  },
  {
   "cell_type": "code",
   "execution_count": 2,
   "id": "developed-terminology",
   "metadata": {
    "execution": {
     "iopub.execute_input": "2021-11-10T12:12:06.007514Z",
     "iopub.status.busy": "2021-11-10T12:12:06.006838Z",
     "iopub.status.idle": "2021-11-10T12:12:06.009850Z",
     "shell.execute_reply": "2021-11-10T12:12:06.009278Z"
    },
    "papermill": {
     "duration": 0.04594,
     "end_time": "2021-11-10T12:12:06.009984",
     "exception": false,
     "start_time": "2021-11-10T12:12:05.964044",
     "status": "completed"
    },
    "tags": []
   },
   "outputs": [],
   "source": [
    "#hide\n",
    "\n",
    "# FETCH\n",
    "base_url = 'https://raw.githubusercontent.com/pratapvardhan/notebooks/master/covid19/'\n",
    "paths = {\n",
    "    'mapping': base_url + 'mapping_countries.csv',\n",
    "    'overview': base_url + 'overview.tpl'\n",
    "}"
   ]
  },
  {
   "cell_type": "code",
   "execution_count": 3,
   "id": "dynamic-saver",
   "metadata": {
    "execution": {
     "iopub.execute_input": "2021-11-10T12:12:06.098193Z",
     "iopub.status.busy": "2021-11-10T12:12:06.097572Z",
     "iopub.status.idle": "2021-11-10T12:12:06.100665Z",
     "shell.execute_reply": "2021-11-10T12:12:06.101138Z"
    },
    "papermill": {
     "duration": 0.052794,
     "end_time": "2021-11-10T12:12:06.101301",
     "exception": false,
     "start_time": "2021-11-10T12:12:06.048507",
     "status": "completed"
    },
    "tags": []
   },
   "outputs": [
    {
     "data": {
      "text/plain": [
       "'https://raw.githubusercontent.com/pratapvardhan/notebooks/master/covid19/mapping_countries.csv'"
      ]
     },
     "execution_count": 3,
     "metadata": {},
     "output_type": "execute_result"
    }
   ],
   "source": [
    "#hide\n",
    "paths['mapping']"
   ]
  },
  {
   "cell_type": "code",
   "execution_count": 4,
   "id": "urban-software",
   "metadata": {
    "execution": {
     "iopub.execute_input": "2021-11-10T12:12:06.183639Z",
     "iopub.status.busy": "2021-11-10T12:12:06.182987Z",
     "iopub.status.idle": "2021-11-10T12:12:06.185800Z",
     "shell.execute_reply": "2021-11-10T12:12:06.185022Z"
    },
    "papermill": {
     "duration": 0.046896,
     "end_time": "2021-11-10T12:12:06.185917",
     "exception": false,
     "start_time": "2021-11-10T12:12:06.139021",
     "status": "completed"
    },
    "tags": []
   },
   "outputs": [],
   "source": [
    "#hide\n",
    "def get_mappings(url):\n",
    "    df = pd.read_csv(url)\n",
    "    return {\n",
    "        'df': df,\n",
    "        'replace.country': dict(df.dropna(subset=['Name']).set_index('Country')['Name']),\n",
    "        'map.continent': dict(df.set_index('Name')['Continent'])\n",
    "    }"
   ]
  },
  {
   "cell_type": "code",
   "execution_count": 5,
   "id": "intimate-machinery",
   "metadata": {
    "execution": {
     "iopub.execute_input": "2021-11-10T12:12:06.269604Z",
     "iopub.status.busy": "2021-11-10T12:12:06.268134Z",
     "iopub.status.idle": "2021-11-10T12:12:06.306849Z",
     "shell.execute_reply": "2021-11-10T12:12:06.307438Z"
    },
    "papermill": {
     "duration": 0.083292,
     "end_time": "2021-11-10T12:12:06.307572",
     "exception": false,
     "start_time": "2021-11-10T12:12:06.224280",
     "status": "completed"
    },
    "tags": []
   },
   "outputs": [],
   "source": [
    "#hide\n",
    "mapping = get_mappings(paths['mapping'])"
   ]
  },
  {
   "cell_type": "code",
   "execution_count": 6,
   "id": "certified-tactics",
   "metadata": {
    "execution": {
     "iopub.execute_input": "2021-11-10T12:12:06.387687Z",
     "iopub.status.busy": "2021-11-10T12:12:06.387012Z",
     "iopub.status.idle": "2021-11-10T12:12:06.389123Z",
     "shell.execute_reply": "2021-11-10T12:12:06.389637Z"
    },
    "papermill": {
     "duration": 0.044315,
     "end_time": "2021-11-10T12:12:06.389796",
     "exception": false,
     "start_time": "2021-11-10T12:12:06.345481",
     "status": "completed"
    },
    "tags": []
   },
   "outputs": [],
   "source": [
    "#hide\n",
    "def get_template(path):\n",
    "    from urllib.parse import urlparse\n",
    "    if bool(urlparse(path).netloc):\n",
    "        from urllib.request import urlopen\n",
    "        return urlopen(path).read().decode('utf8')\n",
    "    return open(path).read()"
   ]
  },
  {
   "cell_type": "code",
   "execution_count": 7,
   "id": "realistic-blast",
   "metadata": {
    "execution": {
     "iopub.execute_input": "2021-11-10T12:12:06.471181Z",
     "iopub.status.busy": "2021-11-10T12:12:06.470562Z",
     "iopub.status.idle": "2021-11-10T12:12:06.474212Z",
     "shell.execute_reply": "2021-11-10T12:12:06.474689Z"
    },
    "papermill": {
     "duration": 0.046841,
     "end_time": "2021-11-10T12:12:06.474892",
     "exception": false,
     "start_time": "2021-11-10T12:12:06.428051",
     "status": "completed"
    },
    "tags": []
   },
   "outputs": [],
   "source": [
    "#hide\n",
    "def get_frame(name):\n",
    "    url = (\n",
    "        'https://raw.githubusercontent.com/CSSEGISandData/COVID-19/master/csse_covid_19_data/'\n",
    "        f'csse_covid_19_time_series/time_series_covid19_{name}_global.csv')\n",
    "    df = pd.read_csv(url)\n",
    "    # rename countries\n",
    "    df['Country/Region'] = df['Country/Region'].replace(mapping['replace.country'])\n",
    "    return df"
   ]
  },
  {
   "cell_type": "code",
   "execution_count": 8,
   "id": "affiliated-characterization",
   "metadata": {
    "execution": {
     "iopub.execute_input": "2021-11-10T12:12:06.563333Z",
     "iopub.status.busy": "2021-11-10T12:12:06.562581Z",
     "iopub.status.idle": "2021-11-10T12:12:06.565955Z",
     "shell.execute_reply": "2021-11-10T12:12:06.565390Z"
    },
    "papermill": {
     "duration": 0.052404,
     "end_time": "2021-11-10T12:12:06.566082",
     "exception": false,
     "start_time": "2021-11-10T12:12:06.513678",
     "status": "completed"
    },
    "tags": []
   },
   "outputs": [],
   "source": [
    "#hide\n",
    "def get_dates(df):\n",
    "    dt_cols = df.columns[~df.columns.isin(['Province/State', 'Country/Region', 'Lat', 'Long'])]\n",
    "    LAST_DATE_I = -1\n",
    "    # sometimes last column may be empty, then go backwards\n",
    "    for i in range(-1, -len(dt_cols), -1):\n",
    "        if not df[dt_cols[i]].fillna(0).eq(0).all():\n",
    "            LAST_DATE_I = i\n",
    "            break\n",
    "    return LAST_DATE_I, dt_cols"
   ]
  },
  {
   "cell_type": "code",
   "execution_count": 9,
   "id": "recent-optimization",
   "metadata": {
    "execution": {
     "iopub.execute_input": "2021-11-10T12:12:06.646741Z",
     "iopub.status.busy": "2021-11-10T12:12:06.645966Z",
     "iopub.status.idle": "2021-11-10T12:12:07.008655Z",
     "shell.execute_reply": "2021-11-10T12:12:07.007438Z"
    },
    "papermill": {
     "duration": 0.404494,
     "end_time": "2021-11-10T12:12:07.008965",
     "exception": false,
     "start_time": "2021-11-10T12:12:06.604471",
     "status": "completed"
    },
    "tags": []
   },
   "outputs": [],
   "source": [
    "#hide\n",
    "COL_REGION = 'Country/Region'\n",
    "# Confirmed, Recovered, Deaths\n",
    "df = get_frame('confirmed')\n",
    "# dft_: timeseries, dfc_: today country agg\n",
    "dft_cases = df\n",
    "dft_deaths = get_frame('deaths')\n",
    "dft_recovered = get_frame('recovered')\n",
    "LAST_DATE_I, dt_cols = get_dates(df)"
   ]
  },
  {
   "cell_type": "code",
   "execution_count": 10,
   "id": "absolute-copper",
   "metadata": {
    "execution": {
     "iopub.execute_input": "2021-11-10T12:12:07.092355Z",
     "iopub.status.busy": "2021-11-10T12:12:07.091693Z",
     "iopub.status.idle": "2021-11-10T12:12:07.094307Z",
     "shell.execute_reply": "2021-11-10T12:12:07.093645Z"
    },
    "papermill": {
     "duration": 0.047072,
     "end_time": "2021-11-10T12:12:07.094433",
     "exception": false,
     "start_time": "2021-11-10T12:12:07.047361",
     "status": "completed"
    },
    "tags": []
   },
   "outputs": [],
   "source": [
    "#hide\n",
    "LAST_DATE_I, dt_cols = get_dates(df)\n",
    "dt_today =dt_cols[LAST_DATE_I]\n",
    "# dt_5day = dt_cols[LAST_DATE_I - 5]\n",
    "dt_yday = dt_cols[LAST_DATE_I - 1]"
   ]
  },
  {
   "cell_type": "code",
   "execution_count": 11,
   "id": "restricted-sheriff",
   "metadata": {
    "execution": {
     "iopub.execute_input": "2021-11-10T12:12:07.176304Z",
     "iopub.status.busy": "2021-11-10T12:12:07.175723Z",
     "iopub.status.idle": "2021-11-10T12:12:07.183896Z",
     "shell.execute_reply": "2021-11-10T12:12:07.183385Z"
    },
    "papermill": {
     "duration": 0.05217,
     "end_time": "2021-11-10T12:12:07.184109",
     "exception": false,
     "start_time": "2021-11-10T12:12:07.131939",
     "status": "completed"
    },
    "tags": []
   },
   "outputs": [],
   "source": [
    "#hide\n",
    "dfc_cases = dft_cases.groupby(COL_REGION)[dt_today].sum()\n",
    "dfc_deaths = dft_deaths.groupby(COL_REGION)[dt_today].sum()\n",
    "# dfp_cases = dft_cases.groupby(COL_REGION)[dt_5day].sum()\n",
    "# dfp_deaths = dft_deaths.groupby(COL_REGION)[dt_5day].sum()\n",
    "dfp_cases = dft_cases.groupby(COL_REGION)[dt_yday].sum()\n",
    "dfp_deaths = dft_deaths.groupby(COL_REGION)[dt_yday].sum()"
   ]
  },
  {
   "cell_type": "code",
   "execution_count": 12,
   "id": "deluxe-hepatitis",
   "metadata": {
    "execution": {
     "iopub.execute_input": "2021-11-10T12:12:07.267903Z",
     "iopub.status.busy": "2021-11-10T12:12:07.267156Z",
     "iopub.status.idle": "2021-11-10T12:12:07.272314Z",
     "shell.execute_reply": "2021-11-10T12:12:07.272920Z"
    },
    "papermill": {
     "duration": 0.048518,
     "end_time": "2021-11-10T12:12:07.273064",
     "exception": false,
     "start_time": "2021-11-10T12:12:07.224546",
     "status": "completed"
    },
    "tags": []
   },
   "outputs": [],
   "source": [
    "#hide\n",
    "df_table = (pd.DataFrame(dict(Cases = dfc_cases, Deaths = dfc_deaths, PCases = dfp_cases, PDeaths = dfp_deaths))\n",
    "            .sort_values(by = ['Cases','Deaths'], ascending = [False, False])\n",
    "            .reset_index())"
   ]
  },
  {
   "cell_type": "code",
   "execution_count": 13,
   "id": "educational-chancellor",
   "metadata": {
    "execution": {
     "iopub.execute_input": "2021-11-10T12:12:07.361798Z",
     "iopub.status.busy": "2021-11-10T12:12:07.361198Z",
     "iopub.status.idle": "2021-11-10T12:12:07.376790Z",
     "shell.execute_reply": "2021-11-10T12:12:07.376260Z"
    },
    "papermill": {
     "duration": 0.066643,
     "end_time": "2021-11-10T12:12:07.376906",
     "exception": false,
     "start_time": "2021-11-10T12:12:07.310263",
     "status": "completed"
    },
    "tags": []
   },
   "outputs": [
    {
     "data": {
      "text/html": [
       "<div>\n",
       "<style scoped>\n",
       "    .dataframe tbody tr th:only-of-type {\n",
       "        vertical-align: middle;\n",
       "    }\n",
       "\n",
       "    .dataframe tbody tr th {\n",
       "        vertical-align: top;\n",
       "    }\n",
       "\n",
       "    .dataframe thead th {\n",
       "        text-align: right;\n",
       "    }\n",
       "</style>\n",
       "<table border=\"1\" class=\"dataframe\">\n",
       "  <thead>\n",
       "    <tr style=\"text-align: right;\">\n",
       "      <th></th>\n",
       "      <th>Country/Region</th>\n",
       "      <th>Cases</th>\n",
       "      <th>Deaths</th>\n",
       "      <th>PCases</th>\n",
       "      <th>PDeaths</th>\n",
       "      <th>Cases (+)</th>\n",
       "      <th>Deaths (+)</th>\n",
       "      <th>Fatality Rate</th>\n",
       "      <th>Continent</th>\n",
       "    </tr>\n",
       "  </thead>\n",
       "  <tbody>\n",
       "    <tr>\n",
       "      <th>0</th>\n",
       "      <td>US</td>\n",
       "      <td>46693111</td>\n",
       "      <td>757309</td>\n",
       "      <td>46613282</td>\n",
       "      <td>755647</td>\n",
       "      <td>79829</td>\n",
       "      <td>1662</td>\n",
       "      <td>1.62</td>\n",
       "      <td>North America</td>\n",
       "    </tr>\n",
       "    <tr>\n",
       "      <th>1</th>\n",
       "      <td>India</td>\n",
       "      <td>34388579</td>\n",
       "      <td>461849</td>\n",
       "      <td>34377113</td>\n",
       "      <td>461389</td>\n",
       "      <td>11466</td>\n",
       "      <td>460</td>\n",
       "      <td>1.34</td>\n",
       "      <td>Asia</td>\n",
       "    </tr>\n",
       "    <tr>\n",
       "      <th>2</th>\n",
       "      <td>Brazil</td>\n",
       "      <td>21897025</td>\n",
       "      <td>609756</td>\n",
       "      <td>21886077</td>\n",
       "      <td>609573</td>\n",
       "      <td>10948</td>\n",
       "      <td>183</td>\n",
       "      <td>2.78</td>\n",
       "      <td>South America</td>\n",
       "    </tr>\n",
       "    <tr>\n",
       "      <th>3</th>\n",
       "      <td>United Kingdom</td>\n",
       "      <td>9412185</td>\n",
       "      <td>142556</td>\n",
       "      <td>9379286</td>\n",
       "      <td>142293</td>\n",
       "      <td>32899</td>\n",
       "      <td>263</td>\n",
       "      <td>1.51</td>\n",
       "      <td>Europe</td>\n",
       "    </tr>\n",
       "    <tr>\n",
       "      <th>4</th>\n",
       "      <td>Russia</td>\n",
       "      <td>8727817</td>\n",
       "      <td>244588</td>\n",
       "      <td>8689818</td>\n",
       "      <td>243405</td>\n",
       "      <td>37999</td>\n",
       "      <td>1183</td>\n",
       "      <td>2.80</td>\n",
       "      <td>Europe</td>\n",
       "    </tr>\n",
       "  </tbody>\n",
       "</table>\n",
       "</div>"
      ],
      "text/plain": [
       "   Country/Region     Cases  Deaths    PCases  PDeaths  Cases (+)  Deaths (+)  \\\n",
       "0              US  46693111  757309  46613282   755647      79829        1662   \n",
       "1           India  34388579  461849  34377113   461389      11466         460   \n",
       "2          Brazil  21897025  609756  21886077   609573      10948         183   \n",
       "3  United Kingdom   9412185  142556   9379286   142293      32899         263   \n",
       "4          Russia   8727817  244588   8689818   243405      37999        1183   \n",
       "\n",
       "   Fatality Rate      Continent  \n",
       "0           1.62  North America  \n",
       "1           1.34           Asia  \n",
       "2           2.78  South America  \n",
       "3           1.51         Europe  \n",
       "4           2.80         Europe  "
      ]
     },
     "execution_count": 13,
     "metadata": {},
     "output_type": "execute_result"
    }
   ],
   "source": [
    "#hide\n",
    "for c in 'Cases, Deaths'.split(', '):\n",
    "    df_table[f'{c} (+)'] = (df_table[c] - df_table[f'P{c}']).clip(0)\n",
    "    #Clip ça veut dire, les chiffres negatif sont interdit\n",
    "df_table['Fatality Rate'] = (100* df_table['Deaths']/ df_table['Cases']).round(2)\n",
    "df_table['Continent'] = df_table['Country/Region'].map(mapping['map.continent'])\n",
    "df_table.head(5)"
   ]
  },
  {
   "cell_type": "code",
   "execution_count": 14,
   "id": "aboriginal-bulgaria",
   "metadata": {
    "execution": {
     "iopub.execute_input": "2021-11-10T12:12:07.457841Z",
     "iopub.status.busy": "2021-11-10T12:12:07.456830Z",
     "iopub.status.idle": "2021-11-10T12:12:07.460815Z",
     "shell.execute_reply": "2021-11-10T12:12:07.461290Z"
    },
    "papermill": {
     "duration": 0.047116,
     "end_time": "2021-11-10T12:12:07.461427",
     "exception": false,
     "start_time": "2021-11-10T12:12:07.414311",
     "status": "completed"
    },
    "tags": []
   },
   "outputs": [],
   "source": [
    "#hide\n",
    "#delete problematic countries from table\n",
    "df_table = df_table[~df_table['Country/Region'].isin(['Cape Verde', 'Cruise Ship', 'Kosovo'])]"
   ]
  },
  {
   "cell_type": "code",
   "execution_count": 15,
   "id": "fantastic-effect",
   "metadata": {
    "execution": {
     "iopub.execute_input": "2021-11-10T12:12:07.545567Z",
     "iopub.status.busy": "2021-11-10T12:12:07.544962Z",
     "iopub.status.idle": "2021-11-10T12:12:07.569483Z",
     "shell.execute_reply": "2021-11-10T12:12:07.570074Z"
    },
    "papermill": {
     "duration": 0.070888,
     "end_time": "2021-11-10T12:12:07.570209",
     "exception": false,
     "start_time": "2021-11-10T12:12:07.499321",
     "status": "completed"
    },
    "tags": []
   },
   "outputs": [
    {
     "data": {
      "text/html": [
       "<div>\n",
       "<style scoped>\n",
       "    .dataframe tbody tr th:only-of-type {\n",
       "        vertical-align: middle;\n",
       "    }\n",
       "\n",
       "    .dataframe tbody tr th {\n",
       "        vertical-align: top;\n",
       "    }\n",
       "\n",
       "    .dataframe thead th {\n",
       "        text-align: right;\n",
       "    }\n",
       "</style>\n",
       "<table border=\"1\" class=\"dataframe\">\n",
       "  <thead>\n",
       "    <tr style=\"text-align: right;\">\n",
       "      <th></th>\n",
       "      <th>Country/Region</th>\n",
       "      <th>Cases</th>\n",
       "      <th>Deaths</th>\n",
       "      <th>PCases</th>\n",
       "      <th>PDeaths</th>\n",
       "      <th>Cases (+)</th>\n",
       "      <th>Deaths (+)</th>\n",
       "      <th>Fatality Rate</th>\n",
       "      <th>Continent</th>\n",
       "    </tr>\n",
       "  </thead>\n",
       "  <tbody>\n",
       "    <tr>\n",
       "      <th>0</th>\n",
       "      <td>US</td>\n",
       "      <td>46693111</td>\n",
       "      <td>757309</td>\n",
       "      <td>46613282</td>\n",
       "      <td>755647</td>\n",
       "      <td>79829</td>\n",
       "      <td>1662</td>\n",
       "      <td>1.6</td>\n",
       "      <td>North America</td>\n",
       "    </tr>\n",
       "    <tr>\n",
       "      <th>1</th>\n",
       "      <td>India</td>\n",
       "      <td>34388579</td>\n",
       "      <td>461849</td>\n",
       "      <td>34377113</td>\n",
       "      <td>461389</td>\n",
       "      <td>11466</td>\n",
       "      <td>460</td>\n",
       "      <td>1.3</td>\n",
       "      <td>Asia</td>\n",
       "    </tr>\n",
       "    <tr>\n",
       "      <th>2</th>\n",
       "      <td>Brazil</td>\n",
       "      <td>21897025</td>\n",
       "      <td>609756</td>\n",
       "      <td>21886077</td>\n",
       "      <td>609573</td>\n",
       "      <td>10948</td>\n",
       "      <td>183</td>\n",
       "      <td>2.8</td>\n",
       "      <td>South America</td>\n",
       "    </tr>\n",
       "    <tr>\n",
       "      <th>3</th>\n",
       "      <td>United Kingdom</td>\n",
       "      <td>9412185</td>\n",
       "      <td>142556</td>\n",
       "      <td>9379286</td>\n",
       "      <td>142293</td>\n",
       "      <td>32899</td>\n",
       "      <td>263</td>\n",
       "      <td>1.5</td>\n",
       "      <td>Europe</td>\n",
       "    </tr>\n",
       "    <tr>\n",
       "      <th>4</th>\n",
       "      <td>Russia</td>\n",
       "      <td>8727817</td>\n",
       "      <td>244588</td>\n",
       "      <td>8689818</td>\n",
       "      <td>243405</td>\n",
       "      <td>37999</td>\n",
       "      <td>1183</td>\n",
       "      <td>2.8</td>\n",
       "      <td>Europe</td>\n",
       "    </tr>\n",
       "  </tbody>\n",
       "</table>\n",
       "</div>"
      ],
      "text/plain": [
       "   Country/Region     Cases  Deaths    PCases  PDeaths  Cases (+)  Deaths (+)  \\\n",
       "0              US  46693111  757309  46613282   755647      79829        1662   \n",
       "1           India  34388579  461849  34377113   461389      11466         460   \n",
       "2          Brazil  21897025  609756  21886077   609573      10948         183   \n",
       "3  United Kingdom   9412185  142556   9379286   142293      32899         263   \n",
       "4          Russia   8727817  244588   8689818   243405      37999        1183   \n",
       "\n",
       "   Fatality Rate      Continent  \n",
       "0            1.6  North America  \n",
       "1            1.3           Asia  \n",
       "2            2.8  South America  \n",
       "3            1.5         Europe  \n",
       "4            2.8         Europe  "
      ]
     },
     "execution_count": 15,
     "metadata": {},
     "output_type": "execute_result"
    }
   ],
   "source": [
    "#hide\n",
    "df_table = (pd.DataFrame(dict(Cases=dfc_cases, Deaths=dfc_deaths, PCases=dfp_cases, PDeaths=dfp_deaths))\n",
    "             .sort_values(by=['Cases', 'Deaths'], ascending=[False, False])\n",
    "             .reset_index())\n",
    "df_table.rename(columns={'index': 'Country/Region'}, inplace=True)\n",
    "for c in 'Cases, Deaths'.split(', '):\n",
    "    df_table[f'{c} (+)'] = (df_table[c] - df_table[f'P{c}']).clip(0)  # DATA BUG\n",
    "df_table['Fatality Rate'] = (100 * df_table['Deaths'] / df_table['Cases']).round(1)\n",
    "df_table['Continent'] = df_table['Country/Region'].map(mapping['map.continent'])\n",
    "df_table.head(5)"
   ]
  },
  {
   "cell_type": "code",
   "execution_count": 16,
   "id": "fewer-occasion",
   "metadata": {
    "execution": {
     "iopub.execute_input": "2021-11-10T12:12:07.660699Z",
     "iopub.status.busy": "2021-11-10T12:12:07.660029Z",
     "iopub.status.idle": "2021-11-10T12:12:07.665135Z",
     "shell.execute_reply": "2021-11-10T12:12:07.664467Z"
    },
    "papermill": {
     "duration": 0.051376,
     "end_time": "2021-11-10T12:12:07.665263",
     "exception": false,
     "start_time": "2021-11-10T12:12:07.613887",
     "status": "completed"
    },
    "tags": []
   },
   "outputs": [],
   "source": [
    "#hide\n",
    "#delete problematic countries from table\n",
    "df_table = df_table[~df_table['Country/Region'].isin(['Cape Verde', 'Cruise Ship', 'Kosovo'])]"
   ]
  },
  {
   "cell_type": "code",
   "execution_count": 17,
   "id": "related-center",
   "metadata": {
    "execution": {
     "iopub.execute_input": "2021-11-10T12:12:07.754281Z",
     "iopub.status.busy": "2021-11-10T12:12:07.753588Z",
     "iopub.status.idle": "2021-11-10T12:12:07.768052Z",
     "shell.execute_reply": "2021-11-10T12:12:07.768641Z"
    },
    "papermill": {
     "duration": 0.061509,
     "end_time": "2021-11-10T12:12:07.768777",
     "exception": false,
     "start_time": "2021-11-10T12:12:07.707268",
     "status": "completed"
    },
    "tags": []
   },
   "outputs": [],
   "source": [
    "#hide\n",
    "metrics = [df_table.columns[index] for index in [1,2,5,6]]\n",
    "# s_china = df_table[df_table['Country/Region'].eq('China')][metrics].sum().add_prefix('China ')\n",
    "s_us = df_table[df_table['Country/Region'].eq('US')][metrics].sum().add_prefix('US ')\n",
    "s_eu = df_table[df_table['Continent'].eq('Europe')][metrics].sum().add_prefix('EU ')\n",
    "s_ind = df_table[df_table['Country/Region'].eq('India')][metrics].sum().add_prefix('India ')\n",
    "summary = {'updated': pd.to_datetime(dt_today), 'since': pd.to_datetime(dt_yday)}\n",
    "summary = {'updated': pd.to_datetime(dt_today), 'since': pd.to_datetime(dt_yday)}\n",
    "summary = {**summary, **df_table[metrics].sum(), **s_ind, **s_us, **s_eu}"
   ]
  },
  {
   "cell_type": "code",
   "execution_count": 18,
   "id": "engaging-syndrome",
   "metadata": {
    "execution": {
     "iopub.execute_input": "2021-11-10T12:12:07.853180Z",
     "iopub.status.busy": "2021-11-10T12:12:07.852536Z",
     "iopub.status.idle": "2021-11-10T12:12:07.869771Z",
     "shell.execute_reply": "2021-11-10T12:12:07.869162Z"
    },
    "papermill": {
     "duration": 0.060536,
     "end_time": "2021-11-10T12:12:07.869891",
     "exception": false,
     "start_time": "2021-11-10T12:12:07.809355",
     "status": "completed"
    },
    "tags": []
   },
   "outputs": [],
   "source": [
    "#hide\n",
    "dft_ct_new_cases = dft_cases.groupby(COL_REGION)[dt_cols].sum().diff(axis=1).fillna(0).astype(int)"
   ]
  },
  {
   "cell_type": "code",
   "execution_count": 19,
   "id": "neutral-assignment",
   "metadata": {
    "execution": {
     "iopub.execute_input": "2021-11-10T12:12:07.951291Z",
     "iopub.status.busy": "2021-11-10T12:12:07.950619Z",
     "iopub.status.idle": "2021-11-10T12:12:07.954866Z",
     "shell.execute_reply": "2021-11-10T12:12:07.955396Z"
    },
    "papermill": {
     "duration": 0.047236,
     "end_time": "2021-11-10T12:12:07.955528",
     "exception": false,
     "start_time": "2021-11-10T12:12:07.908292",
     "status": "completed"
    },
    "tags": []
   },
   "outputs": [],
   "source": [
    "#hide\n",
    "everydaycases = dft_ct_new_cases.cumsum(axis=1)"
   ]
  },
  {
   "cell_type": "code",
   "execution_count": 20,
   "id": "parliamentary-calgary",
   "metadata": {
    "execution": {
     "iopub.execute_input": "2021-11-10T12:12:08.039020Z",
     "iopub.status.busy": "2021-11-10T12:12:08.038399Z",
     "iopub.status.idle": "2021-11-10T12:12:08.684889Z",
     "shell.execute_reply": "2021-11-10T12:12:08.684318Z"
    },
    "papermill": {
     "duration": 0.688908,
     "end_time": "2021-11-10T12:12:08.685071",
     "exception": false,
     "start_time": "2021-11-10T12:12:07.996163",
     "status": "completed"
    },
    "tags": []
   },
   "outputs": [],
   "source": [
    "#hide\n",
    "import pandas as pd\n",
    "import matplotlib.pyplot as plt\n",
    "import matplotlib.ticker as ticker\n",
    "import matplotlib.animation as animation\n",
    "from IPython.display import HTML"
   ]
  },
  {
   "cell_type": "code",
   "execution_count": 21,
   "id": "lasting-extraction",
   "metadata": {
    "execution": {
     "iopub.execute_input": "2021-11-10T12:12:08.772093Z",
     "iopub.status.busy": "2021-11-10T12:12:08.771360Z",
     "iopub.status.idle": "2021-11-10T12:12:08.777762Z",
     "shell.execute_reply": "2021-11-10T12:12:08.778314Z"
    },
    "papermill": {
     "duration": 0.052236,
     "end_time": "2021-11-10T12:12:08.778457",
     "exception": false,
     "start_time": "2021-11-10T12:12:08.726221",
     "status": "completed"
    },
    "tags": []
   },
   "outputs": [],
   "source": [
    "#hide\n",
    "t = everydaycases.stack()"
   ]
  },
  {
   "cell_type": "code",
   "execution_count": 22,
   "id": "premier-sleeve",
   "metadata": {
    "execution": {
     "iopub.execute_input": "2021-11-10T12:12:08.864889Z",
     "iopub.status.busy": "2021-11-10T12:12:08.864148Z",
     "iopub.status.idle": "2021-11-10T12:12:08.874819Z",
     "shell.execute_reply": "2021-11-10T12:12:08.874217Z"
    },
    "papermill": {
     "duration": 0.055769,
     "end_time": "2021-11-10T12:12:08.874943",
     "exception": false,
     "start_time": "2021-11-10T12:12:08.819174",
     "status": "completed"
    },
    "tags": []
   },
   "outputs": [],
   "source": [
    "#hide\n",
    "g = t.reset_index(['Country/Region'])"
   ]
  },
  {
   "cell_type": "code",
   "execution_count": 23,
   "id": "distributed-pittsburgh",
   "metadata": {
    "execution": {
     "iopub.execute_input": "2021-11-10T12:12:08.958717Z",
     "iopub.status.busy": "2021-11-10T12:12:08.958098Z",
     "iopub.status.idle": "2021-11-10T12:12:08.961064Z",
     "shell.execute_reply": "2021-11-10T12:12:08.960542Z"
    },
    "papermill": {
     "duration": 0.045412,
     "end_time": "2021-11-10T12:12:08.961179",
     "exception": false,
     "start_time": "2021-11-10T12:12:08.915767",
     "status": "completed"
    },
    "tags": []
   },
   "outputs": [],
   "source": [
    "#hide\n",
    "g.index.name = 'date'"
   ]
  },
  {
   "cell_type": "code",
   "execution_count": 24,
   "id": "naked-donor",
   "metadata": {
    "execution": {
     "iopub.execute_input": "2021-11-10T12:12:09.040165Z",
     "iopub.status.busy": "2021-11-10T12:12:09.039346Z",
     "iopub.status.idle": "2021-11-10T12:12:09.042317Z",
     "shell.execute_reply": "2021-11-10T12:12:09.041736Z"
    },
    "papermill": {
     "duration": 0.043348,
     "end_time": "2021-11-10T12:12:09.042456",
     "exception": false,
     "start_time": "2021-11-10T12:12:08.999108",
     "status": "completed"
    },
    "tags": []
   },
   "outputs": [],
   "source": [
    "# #hide\n",
    "# g = g.reset_index(['date'])"
   ]
  },
  {
   "cell_type": "code",
   "execution_count": 25,
   "id": "incomplete-mustang",
   "metadata": {
    "execution": {
     "iopub.execute_input": "2021-11-10T12:12:09.125494Z",
     "iopub.status.busy": "2021-11-10T12:12:09.124618Z",
     "iopub.status.idle": "2021-11-10T12:12:09.126810Z",
     "shell.execute_reply": "2021-11-10T12:12:09.127387Z"
    },
    "papermill": {
     "duration": 0.044452,
     "end_time": "2021-11-10T12:12:09.127524",
     "exception": false,
     "start_time": "2021-11-10T12:12:09.083072",
     "status": "completed"
    },
    "tags": []
   },
   "outputs": [],
   "source": [
    "#hide\n",
    "# g.head()"
   ]
  },
  {
   "cell_type": "code",
   "execution_count": 26,
   "id": "specific-kruger",
   "metadata": {
    "execution": {
     "iopub.execute_input": "2021-11-10T12:12:09.209068Z",
     "iopub.status.busy": "2021-11-10T12:12:09.208419Z",
     "iopub.status.idle": "2021-11-10T12:12:09.211855Z",
     "shell.execute_reply": "2021-11-10T12:12:09.213221Z"
    },
    "papermill": {
     "duration": 0.046519,
     "end_time": "2021-11-10T12:12:09.213451",
     "exception": false,
     "start_time": "2021-11-10T12:12:09.166932",
     "status": "completed"
    },
    "tags": []
   },
   "outputs": [],
   "source": [
    "#hide\n",
    "# g.columns = ['date','country','cases']"
   ]
  },
  {
   "cell_type": "code",
   "execution_count": 27,
   "id": "tender-conversion",
   "metadata": {
    "execution": {
     "iopub.execute_input": "2021-11-10T12:12:09.292946Z",
     "iopub.status.busy": "2021-11-10T12:12:09.292096Z",
     "iopub.status.idle": "2021-11-10T12:12:09.294831Z",
     "shell.execute_reply": "2021-11-10T12:12:09.294125Z"
    },
    "papermill": {
     "duration": 0.043604,
     "end_time": "2021-11-10T12:12:09.295056",
     "exception": false,
     "start_time": "2021-11-10T12:12:09.251452",
     "status": "completed"
    },
    "tags": []
   },
   "outputs": [],
   "source": [
    "#hide\n",
    "# g['continent'] = g.country"
   ]
  },
  {
   "cell_type": "code",
   "execution_count": 28,
   "id": "substantial-wilderness",
   "metadata": {
    "execution": {
     "iopub.execute_input": "2021-11-10T12:12:09.376418Z",
     "iopub.status.busy": "2021-11-10T12:12:09.375785Z",
     "iopub.status.idle": "2021-11-10T12:12:09.379413Z",
     "shell.execute_reply": "2021-11-10T12:12:09.379880Z"
    },
    "papermill": {
     "duration": 0.045586,
     "end_time": "2021-11-10T12:12:09.380103",
     "exception": false,
     "start_time": "2021-11-10T12:12:09.334517",
     "status": "completed"
    },
    "tags": []
   },
   "outputs": [],
   "source": [
    "#hide\n",
    "# cols = list(g.columns.values)"
   ]
  },
  {
   "cell_type": "code",
   "execution_count": 29,
   "id": "solved-farming",
   "metadata": {
    "execution": {
     "iopub.execute_input": "2021-11-10T12:12:09.463825Z",
     "iopub.status.busy": "2021-11-10T12:12:09.463165Z",
     "iopub.status.idle": "2021-11-10T12:12:09.466044Z",
     "shell.execute_reply": "2021-11-10T12:12:09.465435Z"
    },
    "papermill": {
     "duration": 0.045467,
     "end_time": "2021-11-10T12:12:09.466157",
     "exception": false,
     "start_time": "2021-11-10T12:12:09.420690",
     "status": "completed"
    },
    "tags": []
   },
   "outputs": [],
   "source": [
    "#hide\n",
    "# cols.insert(0, cols.pop())"
   ]
  },
  {
   "cell_type": "code",
   "execution_count": 30,
   "id": "executed-adoption",
   "metadata": {
    "execution": {
     "iopub.execute_input": "2021-11-10T12:12:09.547705Z",
     "iopub.status.busy": "2021-11-10T12:12:09.546963Z",
     "iopub.status.idle": "2021-11-10T12:12:09.551662Z",
     "shell.execute_reply": "2021-11-10T12:12:09.551076Z"
    },
    "papermill": {
     "duration": 0.047555,
     "end_time": "2021-11-10T12:12:09.551780",
     "exception": false,
     "start_time": "2021-11-10T12:12:09.504225",
     "status": "completed"
    },
    "tags": []
   },
   "outputs": [],
   "source": [
    "#hide\n",
    "# g = g[cols]"
   ]
  },
  {
   "cell_type": "code",
   "execution_count": 31,
   "id": "subject-dublin",
   "metadata": {
    "execution": {
     "iopub.execute_input": "2021-11-10T12:12:09.633080Z",
     "iopub.status.busy": "2021-11-10T12:12:09.632361Z",
     "iopub.status.idle": "2021-11-10T12:12:09.635697Z",
     "shell.execute_reply": "2021-11-10T12:12:09.636390Z"
    },
    "papermill": {
     "duration": 0.045911,
     "end_time": "2021-11-10T12:12:09.636632",
     "exception": false,
     "start_time": "2021-11-10T12:12:09.590721",
     "status": "completed"
    },
    "tags": []
   },
   "outputs": [],
   "source": [
    "#hide\n",
    "# g['continent'] = g['continent'].map(mapping['map.continent'])"
   ]
  },
  {
   "cell_type": "code",
   "execution_count": 32,
   "id": "freelance-scout",
   "metadata": {
    "execution": {
     "iopub.execute_input": "2021-11-10T12:12:09.720274Z",
     "iopub.status.busy": "2021-11-10T12:12:09.719104Z",
     "iopub.status.idle": "2021-11-10T12:12:09.720989Z",
     "shell.execute_reply": "2021-11-10T12:12:09.721586Z"
    },
    "papermill": {
     "duration": 0.044456,
     "end_time": "2021-11-10T12:12:09.721726",
     "exception": false,
     "start_time": "2021-11-10T12:12:09.677270",
     "status": "completed"
    },
    "tags": []
   },
   "outputs": [],
   "source": [
    "#hide\n",
    "# g.head()"
   ]
  },
  {
   "cell_type": "code",
   "execution_count": 33,
   "id": "limited-engine",
   "metadata": {
    "execution": {
     "iopub.execute_input": "2021-11-10T12:12:09.800679Z",
     "iopub.status.busy": "2021-11-10T12:12:09.799837Z",
     "iopub.status.idle": "2021-11-10T12:12:09.802540Z",
     "shell.execute_reply": "2021-11-10T12:12:09.801808Z"
    },
    "papermill": {
     "duration": 0.042724,
     "end_time": "2021-11-10T12:12:09.802780",
     "exception": false,
     "start_time": "2021-11-10T12:12:09.760056",
     "status": "completed"
    },
    "tags": []
   },
   "outputs": [],
   "source": [
    "# hide\n",
    "# g['date'] = g['date'].astype('datetime64[ns]')"
   ]
  },
  {
   "cell_type": "code",
   "execution_count": 34,
   "id": "sophisticated-supervisor",
   "metadata": {
    "execution": {
     "iopub.execute_input": "2021-11-10T12:12:09.883985Z",
     "iopub.status.busy": "2021-11-10T12:12:09.883309Z",
     "iopub.status.idle": "2021-11-10T12:12:09.888722Z",
     "shell.execute_reply": "2021-11-10T12:12:09.887964Z"
    },
    "papermill": {
     "duration": 0.046275,
     "end_time": "2021-11-10T12:12:09.888881",
     "exception": false,
     "start_time": "2021-11-10T12:12:09.842606",
     "status": "completed"
    },
    "tags": []
   },
   "outputs": [],
   "source": [
    "#hide\n",
    "# g['date'] = g.date.dt.dayofyear"
   ]
  },
  {
   "cell_type": "code",
   "execution_count": 35,
   "id": "inside-dubai",
   "metadata": {
    "execution": {
     "iopub.execute_input": "2021-11-10T12:12:09.975697Z",
     "iopub.status.busy": "2021-11-10T12:12:09.975025Z",
     "iopub.status.idle": "2021-11-10T12:12:09.978057Z",
     "shell.execute_reply": "2021-11-10T12:12:09.977590Z"
    },
    "papermill": {
     "duration": 0.051178,
     "end_time": "2021-11-10T12:12:09.978194",
     "exception": false,
     "start_time": "2021-11-10T12:12:09.927016",
     "status": "completed"
    },
    "tags": []
   },
   "outputs": [],
   "source": [
    "#hide\n",
    "# g = g.rename(columns= {'continent':'group','country':'name','cases':'value'})"
   ]
  },
  {
   "cell_type": "code",
   "execution_count": 36,
   "id": "fleet-motorcycle",
   "metadata": {
    "execution": {
     "iopub.execute_input": "2021-11-10T12:12:10.057620Z",
     "iopub.status.busy": "2021-11-10T12:12:10.057004Z",
     "iopub.status.idle": "2021-11-10T12:12:10.059407Z",
     "shell.execute_reply": "2021-11-10T12:12:10.058926Z"
    },
    "papermill": {
     "duration": 0.043252,
     "end_time": "2021-11-10T12:12:10.059545",
     "exception": false,
     "start_time": "2021-11-10T12:12:10.016293",
     "status": "completed"
    },
    "tags": []
   },
   "outputs": [],
   "source": [
    "#hide\n",
    "# cols = ['name','group','day','value']"
   ]
  },
  {
   "cell_type": "code",
   "execution_count": 37,
   "id": "continued-sleeping",
   "metadata": {
    "execution": {
     "iopub.execute_input": "2021-11-10T12:12:10.141906Z",
     "iopub.status.busy": "2021-11-10T12:12:10.141218Z",
     "iopub.status.idle": "2021-11-10T12:12:10.142748Z",
     "shell.execute_reply": "2021-11-10T12:12:10.143304Z"
    },
    "papermill": {
     "duration": 0.044439,
     "end_time": "2021-11-10T12:12:10.143449",
     "exception": false,
     "start_time": "2021-11-10T12:12:10.099010",
     "status": "completed"
    },
    "tags": []
   },
   "outputs": [],
   "source": [
    "#hide\n",
    "# g.rename(columns= {'date':'day'},inplace = True)"
   ]
  },
  {
   "cell_type": "code",
   "execution_count": 38,
   "id": "major-fight",
   "metadata": {
    "execution": {
     "iopub.execute_input": "2021-11-10T12:12:10.222841Z",
     "iopub.status.busy": "2021-11-10T12:12:10.222084Z",
     "iopub.status.idle": "2021-11-10T12:12:10.224125Z",
     "shell.execute_reply": "2021-11-10T12:12:10.224609Z"
    },
    "papermill": {
     "duration": 0.043231,
     "end_time": "2021-11-10T12:12:10.224744",
     "exception": false,
     "start_time": "2021-11-10T12:12:10.181513",
     "status": "completed"
    },
    "tags": []
   },
   "outputs": [],
   "source": [
    "#hide\n",
    "# g = g[cols]"
   ]
  },
  {
   "cell_type": "code",
   "execution_count": 39,
   "id": "structured-mobile",
   "metadata": {
    "execution": {
     "iopub.execute_input": "2021-11-10T12:12:10.306705Z",
     "iopub.status.busy": "2021-11-10T12:12:10.306049Z",
     "iopub.status.idle": "2021-11-10T12:12:10.310556Z",
     "shell.execute_reply": "2021-11-10T12:12:10.310091Z"
    },
    "papermill": {
     "duration": 0.045811,
     "end_time": "2021-11-10T12:12:10.310668",
     "exception": false,
     "start_time": "2021-11-10T12:12:10.264857",
     "status": "completed"
    },
    "tags": []
   },
   "outputs": [],
   "source": [
    "# #hide\n",
    "# g = g[g.group.notna()]"
   ]
  },
  {
   "cell_type": "code",
   "execution_count": 40,
   "id": "determined-closing",
   "metadata": {
    "execution": {
     "iopub.execute_input": "2021-11-10T12:12:10.391012Z",
     "iopub.status.busy": "2021-11-10T12:12:10.390369Z",
     "iopub.status.idle": "2021-11-10T12:12:10.392287Z",
     "shell.execute_reply": "2021-11-10T12:12:10.392789Z"
    },
    "papermill": {
     "duration": 0.043962,
     "end_time": "2021-11-10T12:12:10.392932",
     "exception": false,
     "start_time": "2021-11-10T12:12:10.348970",
     "status": "completed"
    },
    "tags": []
   },
   "outputs": [],
   "source": [
    "# #hide\n",
    "# colors = dict(zip(\n",
    "#     [\"Oceania\", \"Europe\", \"Asia\", \"South America\", \"Middle East\", \"North America\", \"Africa\"],\n",
    "#     [\"#adb0ff\", \"#ffb3ff\", \"#90d595\", \"#e48381\", \"#aafbff\", \"#f7bb5f\", \"#eafb50\"]\n",
    "# ))\n",
    "# group_lk = g.set_index('name')['group'].to_dict()"
   ]
  },
  {
   "cell_type": "code",
   "execution_count": null,
   "id": "gross-drinking",
   "metadata": {
    "papermill": {
     "duration": 0.036428,
     "end_time": "2021-11-10T12:12:10.472726",
     "exception": false,
     "start_time": "2021-11-10T12:12:10.436298",
     "status": "completed"
    },
    "tags": []
   },
   "outputs": [],
   "source": []
  },
  {
   "cell_type": "code",
   "execution_count": 41,
   "id": "subject-macintosh",
   "metadata": {
    "execution": {
     "iopub.execute_input": "2021-11-10T12:12:10.554597Z",
     "iopub.status.busy": "2021-11-10T12:12:10.553805Z",
     "iopub.status.idle": "2021-11-10T12:12:10.557821Z",
     "shell.execute_reply": "2021-11-10T12:12:10.558286Z"
    },
    "papermill": {
     "duration": 0.046758,
     "end_time": "2021-11-10T12:12:10.558444",
     "exception": false,
     "start_time": "2021-11-10T12:12:10.511686",
     "status": "completed"
    },
    "tags": []
   },
   "outputs": [],
   "source": [
    "# #hide\n",
    "# fig, ax = plt.subplots(figsize=(15, 8))\n",
    "\n",
    "# def draw_barchart(current_day):\n",
    "#     dff = g[g['day'].eq(current_day)].sort_values(by='value', ascending=True).tail(10)\n",
    "#     ax.clear()\n",
    "#     ax.barh(dff['name'], dff['value'], color=[colors[group_lk[x]] for x in dff['name']])\n",
    "#     dx = dff['value'].max() / 200\n",
    "    \n",
    "#     for i, (value, name) in enumerate(zip(dff['value'], dff['name'])):\n",
    "#         ax.text(value-dx, i,     name,           size=14, weight=600, ha='right', va='bottom')\n",
    "#         ax.text(value-dx, i-.25, group_lk[name], size=10, color='#444444', ha='right', va='baseline')\n",
    "#         ax.text(value+dx, i,     f'{value:,.0f}',  size=14, ha='left',  va='center')\n",
    "#     ax.text(1, 0.4, current_day, transform=ax.transAxes, color='#777777', size=46, ha='right', weight=800)\n",
    "#     ax.text(0, 1.06, 'Population (thousands)', transform=ax.transAxes, size=12, color='#777777')\n",
    "#     ax.xaxis.set_major_formatter(ticker.StrMethodFormatter('{x:,.0f}'))\n",
    "#     ax.xaxis.set_ticks_position('top')\n",
    "#     ax.tick_params(axis='x', colors='#777777', labelsize=12)\n",
    "#     ax.set_yticks([])\n",
    "#     ax.margins(0, 0.01)\n",
    "#     ax.grid(which='major', axis='x', linestyle='-')\n",
    "#     ax.set_axisbelow(True)\n",
    "    \n",
    "#     ax.text(0, 1.15, 'Coronavirus',\n",
    "#             transform=ax.transAxes, size=24, weight=600, ha='left', va='top')\n",
    "# #     ax.text(1, 0, 'by @pratapvardhan; credit @jburnmurdoch', transform=ax.transAxes, color='#777777', ha='right',\n",
    "# #             bbox=dict(facecolor='white', alpha=0.8, edgecolor='white'))\n",
    "#     plt.box(False)"
   ]
  },
  {
   "cell_type": "code",
   "execution_count": 42,
   "id": "sexual-wages",
   "metadata": {
    "execution": {
     "iopub.execute_input": "2021-11-10T12:12:10.639281Z",
     "iopub.status.busy": "2021-11-10T12:12:10.638636Z",
     "iopub.status.idle": "2021-11-10T12:12:10.640677Z",
     "shell.execute_reply": "2021-11-10T12:12:10.640022Z"
    },
    "papermill": {
     "duration": 0.04401,
     "end_time": "2021-11-10T12:12:10.640839",
     "exception": false,
     "start_time": "2021-11-10T12:12:10.596829",
     "status": "completed"
    },
    "tags": []
   },
   "outputs": [],
   "source": [
    "# #hide_input\n",
    "# fig, ax = plt.subplots(figsize=(15, 8))\n",
    "# animator = animation.FuncAnimation(fig, draw_barchart, frames=range(g.day.values.min(), g.day.values.max()))\n",
    "# HTML(animator.to_jshtml())\n",
    "# # or use animator.to_html5_video() or animator.save() "
   ]
  },
  {
   "cell_type": "code",
   "execution_count": null,
   "id": "australian-container",
   "metadata": {
    "papermill": {
     "duration": 0.037911,
     "end_time": "2021-11-10T12:12:10.717161",
     "exception": false,
     "start_time": "2021-11-10T12:12:10.679250",
     "status": "completed"
    },
    "tags": []
   },
   "outputs": [],
   "source": []
  },
  {
   "cell_type": "code",
   "execution_count": null,
   "id": "mediterranean-pontiac",
   "metadata": {
    "papermill": {
     "duration": 0.037183,
     "end_time": "2021-11-10T12:12:10.791726",
     "exception": false,
     "start_time": "2021-11-10T12:12:10.754543",
     "status": "completed"
    },
    "tags": []
   },
   "outputs": [],
   "source": []
  },
  {
   "cell_type": "code",
   "execution_count": null,
   "id": "aging-legislature",
   "metadata": {
    "papermill": {
     "duration": 0.037124,
     "end_time": "2021-11-10T12:12:10.867728",
     "exception": false,
     "start_time": "2021-11-10T12:12:10.830604",
     "status": "completed"
    },
    "tags": []
   },
   "outputs": [],
   "source": []
  }
 ],
 "metadata": {
  "kernelspec": {
   "display_name": "Python 3",
   "language": "python",
   "name": "python3"
  },
  "language_info": {
   "codemirror_mode": {
    "name": "ipython",
    "version": 3
   },
   "file_extension": ".py",
   "mimetype": "text/x-python",
   "name": "python",
   "nbconvert_exporter": "python",
   "pygments_lexer": "ipython3",
   "version": "3.6.15"
  },
  "papermill": {
   "duration": 6.929739,
   "end_time": "2021-11-10T12:12:11.214362",
   "environment_variables": {},
   "exception": null,
   "input_path": "2020-03-21-covid19exp.ipynb",
   "output_path": "2020-03-21-covid19exp.ipynb",
   "parameters": {},
   "start_time": "2021-11-10T12:12:04.284623",
   "version": "2.0.0"
  }
 },
 "nbformat": 4,
 "nbformat_minor": 5
}