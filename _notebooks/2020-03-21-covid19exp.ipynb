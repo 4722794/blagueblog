{
 "cells": [
  {
   "cell_type": "markdown",
   "id": "muslim-click",
   "metadata": {
    "papermill": {
     "duration": 0.034011,
     "end_time": "2022-02-05T00:22:02.664629",
     "exception": false,
     "start_time": "2022-02-05T00:22:02.630618",
     "status": "completed"
    },
    "tags": []
   },
   "source": [
    "# COVID-19 Case Race\n",
    "> A race chart to see rising cases around the world\n",
    "\n",
    "- author: Hargun Oberoi\n",
    "- image: images/covid-overview.png\n",
    "- hide: false\n",
    "- badges: false"
   ]
  },
  {
   "cell_type": "code",
   "execution_count": 1,
   "id": "proof-material",
   "metadata": {
    "execution": {
     "iopub.execute_input": "2022-02-05T00:22:02.736618Z",
     "iopub.status.busy": "2022-02-05T00:22:02.736048Z",
     "iopub.status.idle": "2022-02-05T00:22:03.084757Z",
     "shell.execute_reply": "2022-02-05T00:22:03.085168Z"
    },
    "papermill": {
     "duration": 0.390487,
     "end_time": "2022-02-05T00:22:03.085336",
     "exception": false,
     "start_time": "2022-02-05T00:22:02.694849",
     "status": "completed"
    },
    "tags": []
   },
   "outputs": [],
   "source": [
    "#hide\n",
    "import numpy as np\n",
    "import pandas as pd\n",
    "from jinja2 import Template\n",
    "from IPython.display import HTML"
   ]
  },
  {
   "cell_type": "code",
   "execution_count": 2,
   "id": "developed-terminology",
   "metadata": {
    "execution": {
     "iopub.execute_input": "2022-02-05T00:22:03.144103Z",
     "iopub.status.busy": "2022-02-05T00:22:03.143489Z",
     "iopub.status.idle": "2022-02-05T00:22:03.146332Z",
     "shell.execute_reply": "2022-02-05T00:22:03.145901Z"
    },
    "papermill": {
     "duration": 0.034507,
     "end_time": "2022-02-05T00:22:03.146457",
     "exception": false,
     "start_time": "2022-02-05T00:22:03.111950",
     "status": "completed"
    },
    "tags": []
   },
   "outputs": [],
   "source": [
    "#hide\n",
    "\n",
    "# FETCH\n",
    "base_url = 'https://raw.githubusercontent.com/pratapvardhan/notebooks/master/covid19/'\n",
    "paths = {\n",
    "    'mapping': base_url + 'mapping_countries.csv',\n",
    "    'overview': base_url + 'overview.tpl'\n",
    "}"
   ]
  },
  {
   "cell_type": "code",
   "execution_count": 3,
   "id": "dynamic-saver",
   "metadata": {
    "execution": {
     "iopub.execute_input": "2022-02-05T00:22:03.216032Z",
     "iopub.status.busy": "2022-02-05T00:22:03.215522Z",
     "iopub.status.idle": "2022-02-05T00:22:03.218280Z",
     "shell.execute_reply": "2022-02-05T00:22:03.217881Z"
    },
    "papermill": {
     "duration": 0.042338,
     "end_time": "2022-02-05T00:22:03.218386",
     "exception": false,
     "start_time": "2022-02-05T00:22:03.176048",
     "status": "completed"
    },
    "tags": []
   },
   "outputs": [
    {
     "data": {
      "text/plain": [
       "'https://raw.githubusercontent.com/pratapvardhan/notebooks/master/covid19/mapping_countries.csv'"
      ]
     },
     "execution_count": 3,
     "metadata": {},
     "output_type": "execute_result"
    }
   ],
   "source": [
    "#hide\n",
    "paths['mapping']"
   ]
  },
  {
   "cell_type": "code",
   "execution_count": 4,
   "id": "urban-software",
   "metadata": {
    "execution": {
     "iopub.execute_input": "2022-02-05T00:22:03.277374Z",
     "iopub.status.busy": "2022-02-05T00:22:03.276796Z",
     "iopub.status.idle": "2022-02-05T00:22:03.280239Z",
     "shell.execute_reply": "2022-02-05T00:22:03.279853Z"
    },
    "papermill": {
     "duration": 0.035462,
     "end_time": "2022-02-05T00:22:03.280347",
     "exception": false,
     "start_time": "2022-02-05T00:22:03.244885",
     "status": "completed"
    },
    "tags": []
   },
   "outputs": [],
   "source": [
    "#hide\n",
    "def get_mappings(url):\n",
    "    df = pd.read_csv(url)\n",
    "    return {\n",
    "        'df': df,\n",
    "        'replace.country': dict(df.dropna(subset=['Name']).set_index('Country')['Name']),\n",
    "        'map.continent': dict(df.set_index('Name')['Continent'])\n",
    "    }"
   ]
  },
  {
   "cell_type": "code",
   "execution_count": 5,
   "id": "intimate-machinery",
   "metadata": {
    "execution": {
     "iopub.execute_input": "2022-02-05T00:22:03.337915Z",
     "iopub.status.busy": "2022-02-05T00:22:03.337421Z",
     "iopub.status.idle": "2022-02-05T00:22:03.398408Z",
     "shell.execute_reply": "2022-02-05T00:22:03.397449Z"
    },
    "papermill": {
     "duration": 0.091901,
     "end_time": "2022-02-05T00:22:03.398534",
     "exception": false,
     "start_time": "2022-02-05T00:22:03.306633",
     "status": "completed"
    },
    "tags": []
   },
   "outputs": [],
   "source": [
    "#hide\n",
    "mapping = get_mappings(paths['mapping'])"
   ]
  },
  {
   "cell_type": "code",
   "execution_count": 6,
   "id": "certified-tactics",
   "metadata": {
    "execution": {
     "iopub.execute_input": "2022-02-05T00:22:03.456157Z",
     "iopub.status.busy": "2022-02-05T00:22:03.455656Z",
     "iopub.status.idle": "2022-02-05T00:22:03.457786Z",
     "shell.execute_reply": "2022-02-05T00:22:03.457420Z"
    },
    "papermill": {
     "duration": 0.032849,
     "end_time": "2022-02-05T00:22:03.457891",
     "exception": false,
     "start_time": "2022-02-05T00:22:03.425042",
     "status": "completed"
    },
    "tags": []
   },
   "outputs": [],
   "source": [
    "#hide\n",
    "def get_template(path):\n",
    "    from urllib.parse import urlparse\n",
    "    if bool(urlparse(path).netloc):\n",
    "        from urllib.request import urlopen\n",
    "        return urlopen(path).read().decode('utf8')\n",
    "    return open(path).read()"
   ]
  },
  {
   "cell_type": "code",
   "execution_count": 7,
   "id": "realistic-blast",
   "metadata": {
    "execution": {
     "iopub.execute_input": "2022-02-05T00:22:03.516105Z",
     "iopub.status.busy": "2022-02-05T00:22:03.515523Z",
     "iopub.status.idle": "2022-02-05T00:22:03.516908Z",
     "shell.execute_reply": "2022-02-05T00:22:03.517310Z"
    },
    "papermill": {
     "duration": 0.033298,
     "end_time": "2022-02-05T00:22:03.517446",
     "exception": false,
     "start_time": "2022-02-05T00:22:03.484148",
     "status": "completed"
    },
    "tags": []
   },
   "outputs": [],
   "source": [
    "#hide\n",
    "def get_frame(name):\n",
    "    url = (\n",
    "        'https://raw.githubusercontent.com/CSSEGISandData/COVID-19/master/csse_covid_19_data/'\n",
    "        f'csse_covid_19_time_series/time_series_covid19_{name}_global.csv')\n",
    "    df = pd.read_csv(url)\n",
    "    # rename countries\n",
    "    df['Country/Region'] = df['Country/Region'].replace(mapping['replace.country'])\n",
    "    return df"
   ]
  },
  {
   "cell_type": "code",
   "execution_count": 8,
   "id": "affiliated-characterization",
   "metadata": {
    "execution": {
     "iopub.execute_input": "2022-02-05T00:22:03.583629Z",
     "iopub.status.busy": "2022-02-05T00:22:03.583067Z",
     "iopub.status.idle": "2022-02-05T00:22:03.584993Z",
     "shell.execute_reply": "2022-02-05T00:22:03.585353Z"
    },
    "papermill": {
     "duration": 0.03812,
     "end_time": "2022-02-05T00:22:03.585475",
     "exception": false,
     "start_time": "2022-02-05T00:22:03.547355",
     "status": "completed"
    },
    "tags": []
   },
   "outputs": [],
   "source": [
    "#hide\n",
    "def get_dates(df):\n",
    "    dt_cols = df.columns[~df.columns.isin(['Province/State', 'Country/Region', 'Lat', 'Long'])]\n",
    "    LAST_DATE_I = -1\n",
    "    # sometimes last column may be empty, then go backwards\n",
    "    for i in range(-1, -len(dt_cols), -1):\n",
    "        if not df[dt_cols[i]].fillna(0).eq(0).all():\n",
    "            LAST_DATE_I = i\n",
    "            break\n",
    "    return LAST_DATE_I, dt_cols"
   ]
  },
  {
   "cell_type": "code",
   "execution_count": 9,
   "id": "recent-optimization",
   "metadata": {
    "execution": {
     "iopub.execute_input": "2022-02-05T00:22:03.642517Z",
     "iopub.status.busy": "2022-02-05T00:22:03.641971Z",
     "iopub.status.idle": "2022-02-05T00:22:04.210285Z",
     "shell.execute_reply": "2022-02-05T00:22:04.210765Z"
    },
    "papermill": {
     "duration": 0.599327,
     "end_time": "2022-02-05T00:22:04.210932",
     "exception": false,
     "start_time": "2022-02-05T00:22:03.611605",
     "status": "completed"
    },
    "tags": []
   },
   "outputs": [],
   "source": [
    "#hide\n",
    "COL_REGION = 'Country/Region'\n",
    "# Confirmed, Recovered, Deaths\n",
    "df = get_frame('confirmed')\n",
    "# dft_: timeseries, dfc_: today country agg\n",
    "dft_cases = df\n",
    "dft_deaths = get_frame('deaths')\n",
    "dft_recovered = get_frame('recovered')\n",
    "LAST_DATE_I, dt_cols = get_dates(df)"
   ]
  },
  {
   "cell_type": "code",
   "execution_count": 10,
   "id": "absolute-copper",
   "metadata": {
    "execution": {
     "iopub.execute_input": "2022-02-05T00:22:04.270600Z",
     "iopub.status.busy": "2022-02-05T00:22:04.270050Z",
     "iopub.status.idle": "2022-02-05T00:22:04.272204Z",
     "shell.execute_reply": "2022-02-05T00:22:04.271722Z"
    },
    "papermill": {
     "duration": 0.033658,
     "end_time": "2022-02-05T00:22:04.272332",
     "exception": false,
     "start_time": "2022-02-05T00:22:04.238674",
     "status": "completed"
    },
    "tags": []
   },
   "outputs": [],
   "source": [
    "#hide\n",
    "LAST_DATE_I, dt_cols = get_dates(df)\n",
    "dt_today =dt_cols[LAST_DATE_I]\n",
    "# dt_5day = dt_cols[LAST_DATE_I - 5]\n",
    "dt_yday = dt_cols[LAST_DATE_I - 1]"
   ]
  },
  {
   "cell_type": "code",
   "execution_count": 11,
   "id": "restricted-sheriff",
   "metadata": {
    "execution": {
     "iopub.execute_input": "2022-02-05T00:22:04.338113Z",
     "iopub.status.busy": "2022-02-05T00:22:04.337586Z",
     "iopub.status.idle": "2022-02-05T00:22:04.344236Z",
     "shell.execute_reply": "2022-02-05T00:22:04.343805Z"
    },
    "papermill": {
     "duration": 0.042108,
     "end_time": "2022-02-05T00:22:04.344356",
     "exception": false,
     "start_time": "2022-02-05T00:22:04.302248",
     "status": "completed"
    },
    "tags": []
   },
   "outputs": [],
   "source": [
    "#hide\n",
    "dfc_cases = dft_cases.groupby(COL_REGION)[dt_today].sum()\n",
    "dfc_deaths = dft_deaths.groupby(COL_REGION)[dt_today].sum()\n",
    "# dfp_cases = dft_cases.groupby(COL_REGION)[dt_5day].sum()\n",
    "# dfp_deaths = dft_deaths.groupby(COL_REGION)[dt_5day].sum()\n",
    "dfp_cases = dft_cases.groupby(COL_REGION)[dt_yday].sum()\n",
    "dfp_deaths = dft_deaths.groupby(COL_REGION)[dt_yday].sum()"
   ]
  },
  {
   "cell_type": "code",
   "execution_count": 12,
   "id": "deluxe-hepatitis",
   "metadata": {
    "execution": {
     "iopub.execute_input": "2022-02-05T00:22:04.410980Z",
     "iopub.status.busy": "2022-02-05T00:22:04.410440Z",
     "iopub.status.idle": "2022-02-05T00:22:04.414042Z",
     "shell.execute_reply": "2022-02-05T00:22:04.414478Z"
    },
    "papermill": {
     "duration": 0.040277,
     "end_time": "2022-02-05T00:22:04.414619",
     "exception": false,
     "start_time": "2022-02-05T00:22:04.374342",
     "status": "completed"
    },
    "tags": []
   },
   "outputs": [],
   "source": [
    "#hide\n",
    "df_table = (pd.DataFrame(dict(Cases = dfc_cases, Deaths = dfc_deaths, PCases = dfp_cases, PDeaths = dfp_deaths))\n",
    "            .sort_values(by = ['Cases','Deaths'], ascending = [False, False])\n",
    "            .reset_index())"
   ]
  },
  {
   "cell_type": "code",
   "execution_count": 13,
   "id": "educational-chancellor",
   "metadata": {
    "execution": {
     "iopub.execute_input": "2022-02-05T00:22:04.476901Z",
     "iopub.status.busy": "2022-02-05T00:22:04.476389Z",
     "iopub.status.idle": "2022-02-05T00:22:04.497402Z",
     "shell.execute_reply": "2022-02-05T00:22:04.496960Z"
    },
    "papermill": {
     "duration": 0.053213,
     "end_time": "2022-02-05T00:22:04.497519",
     "exception": false,
     "start_time": "2022-02-05T00:22:04.444306",
     "status": "completed"
    },
    "tags": []
   },
   "outputs": [
    {
     "data": {
      "text/html": [
       "<div>\n",
       "<style scoped>\n",
       "    .dataframe tbody tr th:only-of-type {\n",
       "        vertical-align: middle;\n",
       "    }\n",
       "\n",
       "    .dataframe tbody tr th {\n",
       "        vertical-align: top;\n",
       "    }\n",
       "\n",
       "    .dataframe thead th {\n",
       "        text-align: right;\n",
       "    }\n",
       "</style>\n",
       "<table border=\"1\" class=\"dataframe\">\n",
       "  <thead>\n",
       "    <tr style=\"text-align: right;\">\n",
       "      <th></th>\n",
       "      <th>Country/Region</th>\n",
       "      <th>Cases</th>\n",
       "      <th>Deaths</th>\n",
       "      <th>PCases</th>\n",
       "      <th>PDeaths</th>\n",
       "      <th>Cases (+)</th>\n",
       "      <th>Deaths (+)</th>\n",
       "      <th>Fatality Rate</th>\n",
       "      <th>Continent</th>\n",
       "    </tr>\n",
       "  </thead>\n",
       "  <tbody>\n",
       "    <tr>\n",
       "      <th>0</th>\n",
       "      <td>US</td>\n",
       "      <td>75982593</td>\n",
       "      <td>897237</td>\n",
       "      <td>75731527</td>\n",
       "      <td>894996</td>\n",
       "      <td>251066</td>\n",
       "      <td>2241</td>\n",
       "      <td>1.18</td>\n",
       "      <td>North America</td>\n",
       "    </tr>\n",
       "    <tr>\n",
       "      <th>1</th>\n",
       "      <td>India</td>\n",
       "      <td>41952712</td>\n",
       "      <td>500055</td>\n",
       "      <td>41803318</td>\n",
       "      <td>498983</td>\n",
       "      <td>149394</td>\n",
       "      <td>1072</td>\n",
       "      <td>1.19</td>\n",
       "      <td>Asia</td>\n",
       "    </tr>\n",
       "    <tr>\n",
       "      <th>2</th>\n",
       "      <td>Brazil</td>\n",
       "      <td>26107894</td>\n",
       "      <td>630301</td>\n",
       "      <td>25820745</td>\n",
       "      <td>629301</td>\n",
       "      <td>287149</td>\n",
       "      <td>1000</td>\n",
       "      <td>2.41</td>\n",
       "      <td>South America</td>\n",
       "    </tr>\n",
       "    <tr>\n",
       "      <th>3</th>\n",
       "      <td>France</td>\n",
       "      <td>20274710</td>\n",
       "      <td>132847</td>\n",
       "      <td>19998301</td>\n",
       "      <td>132583</td>\n",
       "      <td>276409</td>\n",
       "      <td>264</td>\n",
       "      <td>0.66</td>\n",
       "      <td>Europe</td>\n",
       "    </tr>\n",
       "    <tr>\n",
       "      <th>4</th>\n",
       "      <td>United Kingdom</td>\n",
       "      <td>17727681</td>\n",
       "      <td>158266</td>\n",
       "      <td>17632062</td>\n",
       "      <td>157938</td>\n",
       "      <td>95619</td>\n",
       "      <td>328</td>\n",
       "      <td>0.89</td>\n",
       "      <td>Europe</td>\n",
       "    </tr>\n",
       "  </tbody>\n",
       "</table>\n",
       "</div>"
      ],
      "text/plain": [
       "   Country/Region     Cases  Deaths    PCases  PDeaths  Cases (+)  Deaths (+)  \\\n",
       "0              US  75982593  897237  75731527   894996     251066        2241   \n",
       "1           India  41952712  500055  41803318   498983     149394        1072   \n",
       "2          Brazil  26107894  630301  25820745   629301     287149        1000   \n",
       "3          France  20274710  132847  19998301   132583     276409         264   \n",
       "4  United Kingdom  17727681  158266  17632062   157938      95619         328   \n",
       "\n",
       "   Fatality Rate      Continent  \n",
       "0           1.18  North America  \n",
       "1           1.19           Asia  \n",
       "2           2.41  South America  \n",
       "3           0.66         Europe  \n",
       "4           0.89         Europe  "
      ]
     },
     "execution_count": 13,
     "metadata": {},
     "output_type": "execute_result"
    }
   ],
   "source": [
    "#hide\n",
    "for c in 'Cases, Deaths'.split(', '):\n",
    "    df_table[f'{c} (+)'] = (df_table[c] - df_table[f'P{c}']).clip(0)\n",
    "    #Clip ça veut dire, les chiffres negatif sont interdit\n",
    "df_table['Fatality Rate'] = (100* df_table['Deaths']/ df_table['Cases']).round(2)\n",
    "df_table['Continent'] = df_table['Country/Region'].map(mapping['map.continent'])\n",
    "df_table.head(5)"
   ]
  },
  {
   "cell_type": "code",
   "execution_count": 14,
   "id": "aboriginal-bulgaria",
   "metadata": {
    "execution": {
     "iopub.execute_input": "2022-02-05T00:22:04.563997Z",
     "iopub.status.busy": "2022-02-05T00:22:04.563473Z",
     "iopub.status.idle": "2022-02-05T00:22:04.565607Z",
     "shell.execute_reply": "2022-02-05T00:22:04.565237Z"
    },
    "papermill": {
     "duration": 0.03773,
     "end_time": "2022-02-05T00:22:04.565714",
     "exception": false,
     "start_time": "2022-02-05T00:22:04.527984",
     "status": "completed"
    },
    "tags": []
   },
   "outputs": [],
   "source": [
    "#hide\n",
    "#delete problematic countries from table\n",
    "df_table = df_table[~df_table['Country/Region'].isin(['Cape Verde', 'Cruise Ship', 'Kosovo'])]"
   ]
  },
  {
   "cell_type": "code",
   "execution_count": 15,
   "id": "fantastic-effect",
   "metadata": {
    "execution": {
     "iopub.execute_input": "2022-02-05T00:22:04.627320Z",
     "iopub.status.busy": "2022-02-05T00:22:04.626838Z",
     "iopub.status.idle": "2022-02-05T00:22:04.643678Z",
     "shell.execute_reply": "2022-02-05T00:22:04.644030Z"
    },
    "papermill": {
     "duration": 0.051598,
     "end_time": "2022-02-05T00:22:04.644162",
     "exception": false,
     "start_time": "2022-02-05T00:22:04.592564",
     "status": "completed"
    },
    "tags": []
   },
   "outputs": [
    {
     "data": {
      "text/html": [
       "<div>\n",
       "<style scoped>\n",
       "    .dataframe tbody tr th:only-of-type {\n",
       "        vertical-align: middle;\n",
       "    }\n",
       "\n",
       "    .dataframe tbody tr th {\n",
       "        vertical-align: top;\n",
       "    }\n",
       "\n",
       "    .dataframe thead th {\n",
       "        text-align: right;\n",
       "    }\n",
       "</style>\n",
       "<table border=\"1\" class=\"dataframe\">\n",
       "  <thead>\n",
       "    <tr style=\"text-align: right;\">\n",
       "      <th></th>\n",
       "      <th>Country/Region</th>\n",
       "      <th>Cases</th>\n",
       "      <th>Deaths</th>\n",
       "      <th>PCases</th>\n",
       "      <th>PDeaths</th>\n",
       "      <th>Cases (+)</th>\n",
       "      <th>Deaths (+)</th>\n",
       "      <th>Fatality Rate</th>\n",
       "      <th>Continent</th>\n",
       "    </tr>\n",
       "  </thead>\n",
       "  <tbody>\n",
       "    <tr>\n",
       "      <th>0</th>\n",
       "      <td>US</td>\n",
       "      <td>75982593</td>\n",
       "      <td>897237</td>\n",
       "      <td>75731527</td>\n",
       "      <td>894996</td>\n",
       "      <td>251066</td>\n",
       "      <td>2241</td>\n",
       "      <td>1.2</td>\n",
       "      <td>North America</td>\n",
       "    </tr>\n",
       "    <tr>\n",
       "      <th>1</th>\n",
       "      <td>India</td>\n",
       "      <td>41952712</td>\n",
       "      <td>500055</td>\n",
       "      <td>41803318</td>\n",
       "      <td>498983</td>\n",
       "      <td>149394</td>\n",
       "      <td>1072</td>\n",
       "      <td>1.2</td>\n",
       "      <td>Asia</td>\n",
       "    </tr>\n",
       "    <tr>\n",
       "      <th>2</th>\n",
       "      <td>Brazil</td>\n",
       "      <td>26107894</td>\n",
       "      <td>630301</td>\n",
       "      <td>25820745</td>\n",
       "      <td>629301</td>\n",
       "      <td>287149</td>\n",
       "      <td>1000</td>\n",
       "      <td>2.4</td>\n",
       "      <td>South America</td>\n",
       "    </tr>\n",
       "    <tr>\n",
       "      <th>3</th>\n",
       "      <td>France</td>\n",
       "      <td>20274710</td>\n",
       "      <td>132847</td>\n",
       "      <td>19998301</td>\n",
       "      <td>132583</td>\n",
       "      <td>276409</td>\n",
       "      <td>264</td>\n",
       "      <td>0.7</td>\n",
       "      <td>Europe</td>\n",
       "    </tr>\n",
       "    <tr>\n",
       "      <th>4</th>\n",
       "      <td>United Kingdom</td>\n",
       "      <td>17727681</td>\n",
       "      <td>158266</td>\n",
       "      <td>17632062</td>\n",
       "      <td>157938</td>\n",
       "      <td>95619</td>\n",
       "      <td>328</td>\n",
       "      <td>0.9</td>\n",
       "      <td>Europe</td>\n",
       "    </tr>\n",
       "  </tbody>\n",
       "</table>\n",
       "</div>"
      ],
      "text/plain": [
       "   Country/Region     Cases  Deaths    PCases  PDeaths  Cases (+)  Deaths (+)  \\\n",
       "0              US  75982593  897237  75731527   894996     251066        2241   \n",
       "1           India  41952712  500055  41803318   498983     149394        1072   \n",
       "2          Brazil  26107894  630301  25820745   629301     287149        1000   \n",
       "3          France  20274710  132847  19998301   132583     276409         264   \n",
       "4  United Kingdom  17727681  158266  17632062   157938      95619         328   \n",
       "\n",
       "   Fatality Rate      Continent  \n",
       "0            1.2  North America  \n",
       "1            1.2           Asia  \n",
       "2            2.4  South America  \n",
       "3            0.7         Europe  \n",
       "4            0.9         Europe  "
      ]
     },
     "execution_count": 15,
     "metadata": {},
     "output_type": "execute_result"
    }
   ],
   "source": [
    "#hide\n",
    "df_table = (pd.DataFrame(dict(Cases=dfc_cases, Deaths=dfc_deaths, PCases=dfp_cases, PDeaths=dfp_deaths))\n",
    "             .sort_values(by=['Cases', 'Deaths'], ascending=[False, False])\n",
    "             .reset_index())\n",
    "df_table.rename(columns={'index': 'Country/Region'}, inplace=True)\n",
    "for c in 'Cases, Deaths'.split(', '):\n",
    "    df_table[f'{c} (+)'] = (df_table[c] - df_table[f'P{c}']).clip(0)  # DATA BUG\n",
    "df_table['Fatality Rate'] = (100 * df_table['Deaths'] / df_table['Cases']).round(1)\n",
    "df_table['Continent'] = df_table['Country/Region'].map(mapping['map.continent'])\n",
    "df_table.head(5)"
   ]
  },
  {
   "cell_type": "code",
   "execution_count": 16,
   "id": "fewer-occasion",
   "metadata": {
    "execution": {
     "iopub.execute_input": "2022-02-05T00:22:04.704012Z",
     "iopub.status.busy": "2022-02-05T00:22:04.703512Z",
     "iopub.status.idle": "2022-02-05T00:22:04.705233Z",
     "shell.execute_reply": "2022-02-05T00:22:04.705590Z"
    },
    "papermill": {
     "duration": 0.034365,
     "end_time": "2022-02-05T00:22:04.705710",
     "exception": false,
     "start_time": "2022-02-05T00:22:04.671345",
     "status": "completed"
    },
    "tags": []
   },
   "outputs": [],
   "source": [
    "#hide\n",
    "#delete problematic countries from table\n",
    "df_table = df_table[~df_table['Country/Region'].isin(['Cape Verde', 'Cruise Ship', 'Kosovo'])]"
   ]
  },
  {
   "cell_type": "code",
   "execution_count": 17,
   "id": "related-center",
   "metadata": {
    "execution": {
     "iopub.execute_input": "2022-02-05T00:22:04.772455Z",
     "iopub.status.busy": "2022-02-05T00:22:04.771953Z",
     "iopub.status.idle": "2022-02-05T00:22:04.779369Z",
     "shell.execute_reply": "2022-02-05T00:22:04.779792Z"
    },
    "papermill": {
     "duration": 0.047253,
     "end_time": "2022-02-05T00:22:04.779925",
     "exception": false,
     "start_time": "2022-02-05T00:22:04.732672",
     "status": "completed"
    },
    "tags": []
   },
   "outputs": [],
   "source": [
    "#hide\n",
    "metrics = [df_table.columns[index] for index in [1,2,5,6]]\n",
    "# s_china = df_table[df_table['Country/Region'].eq('China')][metrics].sum().add_prefix('China ')\n",
    "s_us = df_table[df_table['Country/Region'].eq('US')][metrics].sum().add_prefix('US ')\n",
    "s_eu = df_table[df_table['Continent'].eq('Europe')][metrics].sum().add_prefix('EU ')\n",
    "s_ind = df_table[df_table['Country/Region'].eq('India')][metrics].sum().add_prefix('India ')\n",
    "summary = {'updated': pd.to_datetime(dt_today), 'since': pd.to_datetime(dt_yday)}\n",
    "summary = {'updated': pd.to_datetime(dt_today), 'since': pd.to_datetime(dt_yday)}\n",
    "summary = {**summary, **df_table[metrics].sum(), **s_ind, **s_us, **s_eu}"
   ]
  },
  {
   "cell_type": "code",
   "execution_count": 18,
   "id": "engaging-syndrome",
   "metadata": {
    "execution": {
     "iopub.execute_input": "2022-02-05T00:22:04.839268Z",
     "iopub.status.busy": "2022-02-05T00:22:04.838801Z",
     "iopub.status.idle": "2022-02-05T00:22:04.854448Z",
     "shell.execute_reply": "2022-02-05T00:22:04.854053Z"
    },
    "papermill": {
     "duration": 0.047472,
     "end_time": "2022-02-05T00:22:04.854558",
     "exception": false,
     "start_time": "2022-02-05T00:22:04.807086",
     "status": "completed"
    },
    "tags": []
   },
   "outputs": [],
   "source": [
    "#hide\n",
    "dft_ct_new_cases = dft_cases.groupby(COL_REGION)[dt_cols].sum().diff(axis=1).fillna(0).astype(int)"
   ]
  },
  {
   "cell_type": "code",
   "execution_count": 19,
   "id": "neutral-assignment",
   "metadata": {
    "execution": {
     "iopub.execute_input": "2022-02-05T00:22:04.915006Z",
     "iopub.status.busy": "2022-02-05T00:22:04.914531Z",
     "iopub.status.idle": "2022-02-05T00:22:04.916352Z",
     "shell.execute_reply": "2022-02-05T00:22:04.916733Z"
    },
    "papermill": {
     "duration": 0.034956,
     "end_time": "2022-02-05T00:22:04.916858",
     "exception": false,
     "start_time": "2022-02-05T00:22:04.881902",
     "status": "completed"
    },
    "tags": []
   },
   "outputs": [],
   "source": [
    "#hide\n",
    "everydaycases = dft_ct_new_cases.cumsum(axis=1)"
   ]
  },
  {
   "cell_type": "code",
   "execution_count": 20,
   "id": "parliamentary-calgary",
   "metadata": {
    "execution": {
     "iopub.execute_input": "2022-02-05T00:22:04.975714Z",
     "iopub.status.busy": "2022-02-05T00:22:04.975217Z",
     "iopub.status.idle": "2022-02-05T00:22:05.598069Z",
     "shell.execute_reply": "2022-02-05T00:22:05.597545Z"
    },
    "papermill": {
     "duration": 0.654186,
     "end_time": "2022-02-05T00:22:05.598206",
     "exception": false,
     "start_time": "2022-02-05T00:22:04.944020",
     "status": "completed"
    },
    "tags": []
   },
   "outputs": [],
   "source": [
    "#hide\n",
    "import pandas as pd\n",
    "import matplotlib.pyplot as plt\n",
    "import matplotlib.ticker as ticker\n",
    "import matplotlib.animation as animation\n",
    "from IPython.display import HTML"
   ]
  },
  {
   "cell_type": "code",
   "execution_count": 21,
   "id": "lasting-extraction",
   "metadata": {
    "execution": {
     "iopub.execute_input": "2022-02-05T00:22:05.659081Z",
     "iopub.status.busy": "2022-02-05T00:22:05.658604Z",
     "iopub.status.idle": "2022-02-05T00:22:05.664557Z",
     "shell.execute_reply": "2022-02-05T00:22:05.664992Z"
    },
    "papermill": {
     "duration": 0.03927,
     "end_time": "2022-02-05T00:22:05.665118",
     "exception": false,
     "start_time": "2022-02-05T00:22:05.625848",
     "status": "completed"
    },
    "tags": []
   },
   "outputs": [],
   "source": [
    "#hide\n",
    "t = everydaycases.stack()"
   ]
  },
  {
   "cell_type": "code",
   "execution_count": 22,
   "id": "premier-sleeve",
   "metadata": {
    "execution": {
     "iopub.execute_input": "2022-02-05T00:22:05.724010Z",
     "iopub.status.busy": "2022-02-05T00:22:05.723534Z",
     "iopub.status.idle": "2022-02-05T00:22:05.733320Z",
     "shell.execute_reply": "2022-02-05T00:22:05.732929Z"
    },
    "papermill": {
     "duration": 0.041055,
     "end_time": "2022-02-05T00:22:05.733425",
     "exception": false,
     "start_time": "2022-02-05T00:22:05.692370",
     "status": "completed"
    },
    "tags": []
   },
   "outputs": [],
   "source": [
    "#hide\n",
    "g = t.reset_index(['Country/Region'])"
   ]
  },
  {
   "cell_type": "code",
   "execution_count": 23,
   "id": "distributed-pittsburgh",
   "metadata": {
    "execution": {
     "iopub.execute_input": "2022-02-05T00:22:05.791925Z",
     "iopub.status.busy": "2022-02-05T00:22:05.791416Z",
     "iopub.status.idle": "2022-02-05T00:22:05.793508Z",
     "shell.execute_reply": "2022-02-05T00:22:05.793886Z"
    },
    "papermill": {
     "duration": 0.033591,
     "end_time": "2022-02-05T00:22:05.794007",
     "exception": false,
     "start_time": "2022-02-05T00:22:05.760416",
     "status": "completed"
    },
    "tags": []
   },
   "outputs": [],
   "source": [
    "#hide\n",
    "g.index.name = 'date'"
   ]
  },
  {
   "cell_type": "code",
   "execution_count": 24,
   "id": "naked-donor",
   "metadata": {
    "execution": {
     "iopub.execute_input": "2022-02-05T00:22:05.851978Z",
     "iopub.status.busy": "2022-02-05T00:22:05.851434Z",
     "iopub.status.idle": "2022-02-05T00:22:05.853220Z",
     "shell.execute_reply": "2022-02-05T00:22:05.853583Z"
    },
    "papermill": {
     "duration": 0.032626,
     "end_time": "2022-02-05T00:22:05.853704",
     "exception": false,
     "start_time": "2022-02-05T00:22:05.821078",
     "status": "completed"
    },
    "tags": []
   },
   "outputs": [],
   "source": [
    "# #hide\n",
    "# g = g.reset_index(['date'])"
   ]
  },
  {
   "cell_type": "code",
   "execution_count": 25,
   "id": "incomplete-mustang",
   "metadata": {
    "execution": {
     "iopub.execute_input": "2022-02-05T00:22:05.911316Z",
     "iopub.status.busy": "2022-02-05T00:22:05.910861Z",
     "iopub.status.idle": "2022-02-05T00:22:05.912774Z",
     "shell.execute_reply": "2022-02-05T00:22:05.913132Z"
    },
    "papermill": {
     "duration": 0.032578,
     "end_time": "2022-02-05T00:22:05.913252",
     "exception": false,
     "start_time": "2022-02-05T00:22:05.880674",
     "status": "completed"
    },
    "tags": []
   },
   "outputs": [],
   "source": [
    "#hide\n",
    "# g.head()"
   ]
  },
  {
   "cell_type": "code",
   "execution_count": 26,
   "id": "specific-kruger",
   "metadata": {
    "execution": {
     "iopub.execute_input": "2022-02-05T00:22:05.970748Z",
     "iopub.status.busy": "2022-02-05T00:22:05.970284Z",
     "iopub.status.idle": "2022-02-05T00:22:05.972186Z",
     "shell.execute_reply": "2022-02-05T00:22:05.972548Z"
    },
    "papermill": {
     "duration": 0.032408,
     "end_time": "2022-02-05T00:22:05.972666",
     "exception": false,
     "start_time": "2022-02-05T00:22:05.940258",
     "status": "completed"
    },
    "tags": []
   },
   "outputs": [],
   "source": [
    "#hide\n",
    "# g.columns = ['date','country','cases']"
   ]
  },
  {
   "cell_type": "code",
   "execution_count": 27,
   "id": "tender-conversion",
   "metadata": {
    "execution": {
     "iopub.execute_input": "2022-02-05T00:22:06.030038Z",
     "iopub.status.busy": "2022-02-05T00:22:06.029577Z",
     "iopub.status.idle": "2022-02-05T00:22:06.031422Z",
     "shell.execute_reply": "2022-02-05T00:22:06.031809Z"
    },
    "papermill": {
     "duration": 0.032382,
     "end_time": "2022-02-05T00:22:06.031931",
     "exception": false,
     "start_time": "2022-02-05T00:22:05.999549",
     "status": "completed"
    },
    "tags": []
   },
   "outputs": [],
   "source": [
    "#hide\n",
    "# g['continent'] = g.country"
   ]
  },
  {
   "cell_type": "code",
   "execution_count": 28,
   "id": "substantial-wilderness",
   "metadata": {
    "execution": {
     "iopub.execute_input": "2022-02-05T00:22:06.089548Z",
     "iopub.status.busy": "2022-02-05T00:22:06.089080Z",
     "iopub.status.idle": "2022-02-05T00:22:06.090932Z",
     "shell.execute_reply": "2022-02-05T00:22:06.091295Z"
    },
    "papermill": {
     "duration": 0.032363,
     "end_time": "2022-02-05T00:22:06.091418",
     "exception": false,
     "start_time": "2022-02-05T00:22:06.059055",
     "status": "completed"
    },
    "tags": []
   },
   "outputs": [],
   "source": [
    "#hide\n",
    "# cols = list(g.columns.values)"
   ]
  },
  {
   "cell_type": "code",
   "execution_count": 29,
   "id": "solved-farming",
   "metadata": {
    "execution": {
     "iopub.execute_input": "2022-02-05T00:22:06.149375Z",
     "iopub.status.busy": "2022-02-05T00:22:06.148768Z",
     "iopub.status.idle": "2022-02-05T00:22:06.152272Z",
     "shell.execute_reply": "2022-02-05T00:22:06.151898Z"
    },
    "papermill": {
     "duration": 0.034048,
     "end_time": "2022-02-05T00:22:06.152381",
     "exception": false,
     "start_time": "2022-02-05T00:22:06.118333",
     "status": "completed"
    },
    "tags": []
   },
   "outputs": [],
   "source": [
    "#hide\n",
    "# cols.insert(0, cols.pop())"
   ]
  },
  {
   "cell_type": "code",
   "execution_count": 30,
   "id": "executed-adoption",
   "metadata": {
    "execution": {
     "iopub.execute_input": "2022-02-05T00:22:06.210362Z",
     "iopub.status.busy": "2022-02-05T00:22:06.209821Z",
     "iopub.status.idle": "2022-02-05T00:22:06.211846Z",
     "shell.execute_reply": "2022-02-05T00:22:06.211401Z"
    },
    "papermill": {
     "duration": 0.032283,
     "end_time": "2022-02-05T00:22:06.211964",
     "exception": false,
     "start_time": "2022-02-05T00:22:06.179681",
     "status": "completed"
    },
    "tags": []
   },
   "outputs": [],
   "source": [
    "#hide\n",
    "# g = g[cols]"
   ]
  },
  {
   "cell_type": "code",
   "execution_count": 31,
   "id": "subject-dublin",
   "metadata": {
    "execution": {
     "iopub.execute_input": "2022-02-05T00:22:06.276877Z",
     "iopub.status.busy": "2022-02-05T00:22:06.276355Z",
     "iopub.status.idle": "2022-02-05T00:22:06.278753Z",
     "shell.execute_reply": "2022-02-05T00:22:06.278341Z"
    },
    "papermill": {
     "duration": 0.036341,
     "end_time": "2022-02-05T00:22:06.278866",
     "exception": false,
     "start_time": "2022-02-05T00:22:06.242525",
     "status": "completed"
    },
    "tags": []
   },
   "outputs": [],
   "source": [
    "#hide\n",
    "# g['continent'] = g['continent'].map(mapping['map.continent'])"
   ]
  },
  {
   "cell_type": "code",
   "execution_count": 32,
   "id": "freelance-scout",
   "metadata": {
    "execution": {
     "iopub.execute_input": "2022-02-05T00:22:06.344222Z",
     "iopub.status.busy": "2022-02-05T00:22:06.343729Z",
     "iopub.status.idle": "2022-02-05T00:22:06.345647Z",
     "shell.execute_reply": "2022-02-05T00:22:06.345282Z"
    },
    "papermill": {
     "duration": 0.036177,
     "end_time": "2022-02-05T00:22:06.345750",
     "exception": false,
     "start_time": "2022-02-05T00:22:06.309573",
     "status": "completed"
    },
    "tags": []
   },
   "outputs": [],
   "source": [
    "#hide\n",
    "# g.head()"
   ]
  },
  {
   "cell_type": "code",
   "execution_count": 33,
   "id": "limited-engine",
   "metadata": {
    "execution": {
     "iopub.execute_input": "2022-02-05T00:22:06.403635Z",
     "iopub.status.busy": "2022-02-05T00:22:06.402986Z",
     "iopub.status.idle": "2022-02-05T00:22:06.406306Z",
     "shell.execute_reply": "2022-02-05T00:22:06.405867Z"
    },
    "papermill": {
     "duration": 0.033604,
     "end_time": "2022-02-05T00:22:06.406421",
     "exception": false,
     "start_time": "2022-02-05T00:22:06.372817",
     "status": "completed"
    },
    "tags": []
   },
   "outputs": [],
   "source": [
    "# hide\n",
    "# g['date'] = g['date'].astype('datetime64[ns]')"
   ]
  },
  {
   "cell_type": "code",
   "execution_count": 34,
   "id": "sophisticated-supervisor",
   "metadata": {
    "execution": {
     "iopub.execute_input": "2022-02-05T00:22:06.472126Z",
     "iopub.status.busy": "2022-02-05T00:22:06.471422Z",
     "iopub.status.idle": "2022-02-05T00:22:06.472999Z",
     "shell.execute_reply": "2022-02-05T00:22:06.473462Z"
    },
    "papermill": {
     "duration": 0.036371,
     "end_time": "2022-02-05T00:22:06.473609",
     "exception": false,
     "start_time": "2022-02-05T00:22:06.437238",
     "status": "completed"
    },
    "tags": []
   },
   "outputs": [],
   "source": [
    "#hide\n",
    "# g['date'] = g.date.dt.dayofyear"
   ]
  },
  {
   "cell_type": "code",
   "execution_count": 35,
   "id": "inside-dubai",
   "metadata": {
    "execution": {
     "iopub.execute_input": "2022-02-05T00:22:06.532146Z",
     "iopub.status.busy": "2022-02-05T00:22:06.531526Z",
     "iopub.status.idle": "2022-02-05T00:22:06.534376Z",
     "shell.execute_reply": "2022-02-05T00:22:06.533900Z"
    },
    "papermill": {
     "duration": 0.033204,
     "end_time": "2022-02-05T00:22:06.534508",
     "exception": false,
     "start_time": "2022-02-05T00:22:06.501304",
     "status": "completed"
    },
    "tags": []
   },
   "outputs": [],
   "source": [
    "#hide\n",
    "# g = g.rename(columns= {'continent':'group','country':'name','cases':'value'})"
   ]
  },
  {
   "cell_type": "code",
   "execution_count": 36,
   "id": "fleet-motorcycle",
   "metadata": {
    "execution": {
     "iopub.execute_input": "2022-02-05T00:22:06.600346Z",
     "iopub.status.busy": "2022-02-05T00:22:06.599855Z",
     "iopub.status.idle": "2022-02-05T00:22:06.603047Z",
     "shell.execute_reply": "2022-02-05T00:22:06.602632Z"
    },
    "papermill": {
     "duration": 0.037526,
     "end_time": "2022-02-05T00:22:06.603149",
     "exception": false,
     "start_time": "2022-02-05T00:22:06.565623",
     "status": "completed"
    },
    "tags": []
   },
   "outputs": [],
   "source": [
    "#hide\n",
    "# cols = ['name','group','day','value']"
   ]
  },
  {
   "cell_type": "code",
   "execution_count": 37,
   "id": "continued-sleeping",
   "metadata": {
    "execution": {
     "iopub.execute_input": "2022-02-05T00:22:06.660811Z",
     "iopub.status.busy": "2022-02-05T00:22:06.660319Z",
     "iopub.status.idle": "2022-02-05T00:22:06.662223Z",
     "shell.execute_reply": "2022-02-05T00:22:06.662610Z"
    },
    "papermill": {
     "duration": 0.032584,
     "end_time": "2022-02-05T00:22:06.662733",
     "exception": false,
     "start_time": "2022-02-05T00:22:06.630149",
     "status": "completed"
    },
    "tags": []
   },
   "outputs": [],
   "source": [
    "#hide\n",
    "# g.rename(columns= {'date':'day'},inplace = True)"
   ]
  },
  {
   "cell_type": "code",
   "execution_count": 38,
   "id": "major-fight",
   "metadata": {
    "execution": {
     "iopub.execute_input": "2022-02-05T00:22:06.720955Z",
     "iopub.status.busy": "2022-02-05T00:22:06.720408Z",
     "iopub.status.idle": "2022-02-05T00:22:06.722385Z",
     "shell.execute_reply": "2022-02-05T00:22:06.721890Z"
    },
    "papermill": {
     "duration": 0.032662,
     "end_time": "2022-02-05T00:22:06.722499",
     "exception": false,
     "start_time": "2022-02-05T00:22:06.689837",
     "status": "completed"
    },
    "tags": []
   },
   "outputs": [],
   "source": [
    "#hide\n",
    "# g = g[cols]"
   ]
  },
  {
   "cell_type": "code",
   "execution_count": 39,
   "id": "structured-mobile",
   "metadata": {
    "execution": {
     "iopub.execute_input": "2022-02-05T00:22:06.787711Z",
     "iopub.status.busy": "2022-02-05T00:22:06.787077Z",
     "iopub.status.idle": "2022-02-05T00:22:06.789318Z",
     "shell.execute_reply": "2022-02-05T00:22:06.788855Z"
    },
    "papermill": {
     "duration": 0.036431,
     "end_time": "2022-02-05T00:22:06.789442",
     "exception": false,
     "start_time": "2022-02-05T00:22:06.753011",
     "status": "completed"
    },
    "tags": []
   },
   "outputs": [],
   "source": [
    "# #hide\n",
    "# g = g[g.group.notna()]"
   ]
  },
  {
   "cell_type": "code",
   "execution_count": 40,
   "id": "determined-closing",
   "metadata": {
    "execution": {
     "iopub.execute_input": "2022-02-05T00:22:06.848268Z",
     "iopub.status.busy": "2022-02-05T00:22:06.847784Z",
     "iopub.status.idle": "2022-02-05T00:22:06.849645Z",
     "shell.execute_reply": "2022-02-05T00:22:06.850026Z"
    },
    "papermill": {
     "duration": 0.032913,
     "end_time": "2022-02-05T00:22:06.850146",
     "exception": false,
     "start_time": "2022-02-05T00:22:06.817233",
     "status": "completed"
    },
    "tags": []
   },
   "outputs": [],
   "source": [
    "# #hide\n",
    "# colors = dict(zip(\n",
    "#     [\"Oceania\", \"Europe\", \"Asia\", \"South America\", \"Middle East\", \"North America\", \"Africa\"],\n",
    "#     [\"#adb0ff\", \"#ffb3ff\", \"#90d595\", \"#e48381\", \"#aafbff\", \"#f7bb5f\", \"#eafb50\"]\n",
    "# ))\n",
    "# group_lk = g.set_index('name')['group'].to_dict()"
   ]
  },
  {
   "cell_type": "code",
   "execution_count": null,
   "id": "gross-drinking",
   "metadata": {
    "papermill": {
     "duration": 0.026878,
     "end_time": "2022-02-05T00:22:06.903887",
     "exception": false,
     "start_time": "2022-02-05T00:22:06.877009",
     "status": "completed"
    },
    "tags": []
   },
   "outputs": [],
   "source": []
  },
  {
   "cell_type": "code",
   "execution_count": 41,
   "id": "subject-macintosh",
   "metadata": {
    "execution": {
     "iopub.execute_input": "2022-02-05T00:22:06.962003Z",
     "iopub.status.busy": "2022-02-05T00:22:06.961524Z",
     "iopub.status.idle": "2022-02-05T00:22:06.963302Z",
     "shell.execute_reply": "2022-02-05T00:22:06.963688Z"
    },
    "papermill": {
     "duration": 0.032951,
     "end_time": "2022-02-05T00:22:06.963815",
     "exception": false,
     "start_time": "2022-02-05T00:22:06.930864",
     "status": "completed"
    },
    "tags": []
   },
   "outputs": [],
   "source": [
    "# #hide\n",
    "# fig, ax = plt.subplots(figsize=(15, 8))\n",
    "\n",
    "# def draw_barchart(current_day):\n",
    "#     dff = g[g['day'].eq(current_day)].sort_values(by='value', ascending=True).tail(10)\n",
    "#     ax.clear()\n",
    "#     ax.barh(dff['name'], dff['value'], color=[colors[group_lk[x]] for x in dff['name']])\n",
    "#     dx = dff['value'].max() / 200\n",
    "    \n",
    "#     for i, (value, name) in enumerate(zip(dff['value'], dff['name'])):\n",
    "#         ax.text(value-dx, i,     name,           size=14, weight=600, ha='right', va='bottom')\n",
    "#         ax.text(value-dx, i-.25, group_lk[name], size=10, color='#444444', ha='right', va='baseline')\n",
    "#         ax.text(value+dx, i,     f'{value:,.0f}',  size=14, ha='left',  va='center')\n",
    "#     ax.text(1, 0.4, current_day, transform=ax.transAxes, color='#777777', size=46, ha='right', weight=800)\n",
    "#     ax.text(0, 1.06, 'Population (thousands)', transform=ax.transAxes, size=12, color='#777777')\n",
    "#     ax.xaxis.set_major_formatter(ticker.StrMethodFormatter('{x:,.0f}'))\n",
    "#     ax.xaxis.set_ticks_position('top')\n",
    "#     ax.tick_params(axis='x', colors='#777777', labelsize=12)\n",
    "#     ax.set_yticks([])\n",
    "#     ax.margins(0, 0.01)\n",
    "#     ax.grid(which='major', axis='x', linestyle='-')\n",
    "#     ax.set_axisbelow(True)\n",
    "    \n",
    "#     ax.text(0, 1.15, 'Coronavirus',\n",
    "#             transform=ax.transAxes, size=24, weight=600, ha='left', va='top')\n",
    "# #     ax.text(1, 0, 'by @pratapvardhan; credit @jburnmurdoch', transform=ax.transAxes, color='#777777', ha='right',\n",
    "# #             bbox=dict(facecolor='white', alpha=0.8, edgecolor='white'))\n",
    "#     plt.box(False)"
   ]
  },
  {
   "cell_type": "code",
   "execution_count": 42,
   "id": "sexual-wages",
   "metadata": {
    "execution": {
     "iopub.execute_input": "2022-02-05T00:22:07.022024Z",
     "iopub.status.busy": "2022-02-05T00:22:07.021408Z",
     "iopub.status.idle": "2022-02-05T00:22:07.024766Z",
     "shell.execute_reply": "2022-02-05T00:22:07.025205Z"
    },
    "papermill": {
     "duration": 0.034605,
     "end_time": "2022-02-05T00:22:07.025359",
     "exception": false,
     "start_time": "2022-02-05T00:22:06.990754",
     "status": "completed"
    },
    "tags": []
   },
   "outputs": [],
   "source": [
    "# #hide_input\n",
    "# fig, ax = plt.subplots(figsize=(15, 8))\n",
    "# animator = animation.FuncAnimation(fig, draw_barchart, frames=range(g.day.values.min(), g.day.values.max()))\n",
    "# HTML(animator.to_jshtml())\n",
    "# # or use animator.to_html5_video() or animator.save() "
   ]
  },
  {
   "cell_type": "code",
   "execution_count": null,
   "id": "australian-container",
   "metadata": {
    "papermill": {
     "duration": 0.030928,
     "end_time": "2022-02-05T00:22:07.087243",
     "exception": false,
     "start_time": "2022-02-05T00:22:07.056315",
     "status": "completed"
    },
    "tags": []
   },
   "outputs": [],
   "source": []
  },
  {
   "cell_type": "code",
   "execution_count": null,
   "id": "mediterranean-pontiac",
   "metadata": {
    "papermill": {
     "duration": 0.030457,
     "end_time": "2022-02-05T00:22:07.148185",
     "exception": false,
     "start_time": "2022-02-05T00:22:07.117728",
     "status": "completed"
    },
    "tags": []
   },
   "outputs": [],
   "source": []
  },
  {
   "cell_type": "code",
   "execution_count": null,
   "id": "aging-legislature",
   "metadata": {
    "papermill": {
     "duration": 0.03085,
     "end_time": "2022-02-05T00:22:07.209663",
     "exception": false,
     "start_time": "2022-02-05T00:22:07.178813",
     "status": "completed"
    },
    "tags": []
   },
   "outputs": [],
   "source": []
  }
 ],
 "metadata": {
  "kernelspec": {
   "display_name": "Python 3",
   "language": "python",
   "name": "python3"
  },
  "language_info": {
   "codemirror_mode": {
    "name": "ipython",
    "version": 3
   },
   "file_extension": ".py",
   "mimetype": "text/x-python",
   "name": "python",
   "nbconvert_exporter": "python",
   "pygments_lexer": "ipython3",
   "version": "3.6.15"
  },
  "papermill": {
   "duration": 6.186216,
   "end_time": "2022-02-05T00:22:07.659966",
   "environment_variables": {},
   "exception": null,
   "input_path": "2020-03-21-covid19exp.ipynb",
   "output_path": "2020-03-21-covid19exp.ipynb",
   "parameters": {},
   "start_time": "2022-02-05T00:22:01.473750",
   "version": "2.0.0"
  }
 },
 "nbformat": 4,
 "nbformat_minor": 5
}