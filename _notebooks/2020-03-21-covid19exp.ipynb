{
 "cells": [
  {
   "cell_type": "markdown",
   "id": "muslim-click",
   "metadata": {
    "papermill": {
     "duration": 0.030083,
     "end_time": "2022-01-31T12:13:00.784940",
     "exception": false,
     "start_time": "2022-01-31T12:13:00.754857",
     "status": "completed"
    },
    "tags": []
   },
   "source": [
    "# COVID-19 Case Race\n",
    "> A race chart to see rising cases around the world\n",
    "\n",
    "- author: Hargun Oberoi\n",
    "- image: images/covid-overview.png\n",
    "- hide: false\n",
    "- badges: false"
   ]
  },
  {
   "cell_type": "code",
   "execution_count": 1,
   "id": "proof-material",
   "metadata": {
    "execution": {
     "iopub.execute_input": "2022-01-31T12:13:00.849228Z",
     "iopub.status.busy": "2022-01-31T12:13:00.848760Z",
     "iopub.status.idle": "2022-01-31T12:13:01.189384Z",
     "shell.execute_reply": "2022-01-31T12:13:01.188832Z"
    },
    "papermill": {
     "duration": 0.378035,
     "end_time": "2022-01-31T12:13:01.189544",
     "exception": false,
     "start_time": "2022-01-31T12:13:00.811509",
     "status": "completed"
    },
    "tags": []
   },
   "outputs": [],
   "source": [
    "#hide\n",
    "import numpy as np\n",
    "import pandas as pd\n",
    "from jinja2 import Template\n",
    "from IPython.display import HTML"
   ]
  },
  {
   "cell_type": "code",
   "execution_count": 2,
   "id": "developed-terminology",
   "metadata": {
    "execution": {
     "iopub.execute_input": "2022-01-31T12:13:01.248424Z",
     "iopub.status.busy": "2022-01-31T12:13:01.247841Z",
     "iopub.status.idle": "2022-01-31T12:13:01.250855Z",
     "shell.execute_reply": "2022-01-31T12:13:01.250432Z"
    },
    "papermill": {
     "duration": 0.033836,
     "end_time": "2022-01-31T12:13:01.250972",
     "exception": false,
     "start_time": "2022-01-31T12:13:01.217136",
     "status": "completed"
    },
    "tags": []
   },
   "outputs": [],
   "source": [
    "#hide\n",
    "\n",
    "# FETCH\n",
    "base_url = 'https://raw.githubusercontent.com/pratapvardhan/notebooks/master/covid19/'\n",
    "paths = {\n",
    "    'mapping': base_url + 'mapping_countries.csv',\n",
    "    'overview': base_url + 'overview.tpl'\n",
    "}"
   ]
  },
  {
   "cell_type": "code",
   "execution_count": 3,
   "id": "dynamic-saver",
   "metadata": {
    "execution": {
     "iopub.execute_input": "2022-01-31T12:13:01.319838Z",
     "iopub.status.busy": "2022-01-31T12:13:01.319312Z",
     "iopub.status.idle": "2022-01-31T12:13:01.321287Z",
     "shell.execute_reply": "2022-01-31T12:13:01.321755Z"
    },
    "papermill": {
     "duration": 0.041314,
     "end_time": "2022-01-31T12:13:01.321885",
     "exception": false,
     "start_time": "2022-01-31T12:13:01.280571",
     "status": "completed"
    },
    "tags": []
   },
   "outputs": [
    {
     "data": {
      "text/plain": [
       "'https://raw.githubusercontent.com/pratapvardhan/notebooks/master/covid19/mapping_countries.csv'"
      ]
     },
     "execution_count": 3,
     "metadata": {},
     "output_type": "execute_result"
    }
   ],
   "source": [
    "#hide\n",
    "paths['mapping']"
   ]
  },
  {
   "cell_type": "code",
   "execution_count": 4,
   "id": "urban-software",
   "metadata": {
    "execution": {
     "iopub.execute_input": "2022-01-31T12:13:01.386685Z",
     "iopub.status.busy": "2022-01-31T12:13:01.386168Z",
     "iopub.status.idle": "2022-01-31T12:13:01.388744Z",
     "shell.execute_reply": "2022-01-31T12:13:01.388330Z"
    },
    "papermill": {
     "duration": 0.037159,
     "end_time": "2022-01-31T12:13:01.388857",
     "exception": false,
     "start_time": "2022-01-31T12:13:01.351698",
     "status": "completed"
    },
    "tags": []
   },
   "outputs": [],
   "source": [
    "#hide\n",
    "def get_mappings(url):\n",
    "    df = pd.read_csv(url)\n",
    "    return {\n",
    "        'df': df,\n",
    "        'replace.country': dict(df.dropna(subset=['Name']).set_index('Country')['Name']),\n",
    "        'map.continent': dict(df.set_index('Name')['Continent'])\n",
    "    }"
   ]
  },
  {
   "cell_type": "code",
   "execution_count": 5,
   "id": "intimate-machinery",
   "metadata": {
    "execution": {
     "iopub.execute_input": "2022-01-31T12:13:01.453198Z",
     "iopub.status.busy": "2022-01-31T12:13:01.452675Z",
     "iopub.status.idle": "2022-01-31T12:13:01.477830Z",
     "shell.execute_reply": "2022-01-31T12:13:01.477327Z"
    },
    "papermill": {
     "duration": 0.059564,
     "end_time": "2022-01-31T12:13:01.477965",
     "exception": false,
     "start_time": "2022-01-31T12:13:01.418401",
     "status": "completed"
    },
    "tags": []
   },
   "outputs": [],
   "source": [
    "#hide\n",
    "mapping = get_mappings(paths['mapping'])"
   ]
  },
  {
   "cell_type": "code",
   "execution_count": 6,
   "id": "certified-tactics",
   "metadata": {
    "execution": {
     "iopub.execute_input": "2022-01-31T12:13:01.543218Z",
     "iopub.status.busy": "2022-01-31T12:13:01.542678Z",
     "iopub.status.idle": "2022-01-31T12:13:01.544222Z",
     "shell.execute_reply": "2022-01-31T12:13:01.544653Z"
    },
    "papermill": {
     "duration": 0.03671,
     "end_time": "2022-01-31T12:13:01.544785",
     "exception": false,
     "start_time": "2022-01-31T12:13:01.508075",
     "status": "completed"
    },
    "tags": []
   },
   "outputs": [],
   "source": [
    "#hide\n",
    "def get_template(path):\n",
    "    from urllib.parse import urlparse\n",
    "    if bool(urlparse(path).netloc):\n",
    "        from urllib.request import urlopen\n",
    "        return urlopen(path).read().decode('utf8')\n",
    "    return open(path).read()"
   ]
  },
  {
   "cell_type": "code",
   "execution_count": 7,
   "id": "realistic-blast",
   "metadata": {
    "execution": {
     "iopub.execute_input": "2022-01-31T12:13:01.611332Z",
     "iopub.status.busy": "2022-01-31T12:13:01.610657Z",
     "iopub.status.idle": "2022-01-31T12:13:01.612270Z",
     "shell.execute_reply": "2022-01-31T12:13:01.611820Z"
    },
    "papermill": {
     "duration": 0.038129,
     "end_time": "2022-01-31T12:13:01.612400",
     "exception": false,
     "start_time": "2022-01-31T12:13:01.574271",
     "status": "completed"
    },
    "tags": []
   },
   "outputs": [],
   "source": [
    "#hide\n",
    "def get_frame(name):\n",
    "    url = (\n",
    "        'https://raw.githubusercontent.com/CSSEGISandData/COVID-19/master/csse_covid_19_data/'\n",
    "        f'csse_covid_19_time_series/time_series_covid19_{name}_global.csv')\n",
    "    df = pd.read_csv(url)\n",
    "    # rename countries\n",
    "    df['Country/Region'] = df['Country/Region'].replace(mapping['replace.country'])\n",
    "    return df"
   ]
  },
  {
   "cell_type": "code",
   "execution_count": 8,
   "id": "affiliated-characterization",
   "metadata": {
    "execution": {
     "iopub.execute_input": "2022-01-31T12:13:01.677227Z",
     "iopub.status.busy": "2022-01-31T12:13:01.676745Z",
     "iopub.status.idle": "2022-01-31T12:13:01.679131Z",
     "shell.execute_reply": "2022-01-31T12:13:01.678690Z"
    },
    "papermill": {
     "duration": 0.036965,
     "end_time": "2022-01-31T12:13:01.679239",
     "exception": false,
     "start_time": "2022-01-31T12:13:01.642274",
     "status": "completed"
    },
    "tags": []
   },
   "outputs": [],
   "source": [
    "#hide\n",
    "def get_dates(df):\n",
    "    dt_cols = df.columns[~df.columns.isin(['Province/State', 'Country/Region', 'Lat', 'Long'])]\n",
    "    LAST_DATE_I = -1\n",
    "    # sometimes last column may be empty, then go backwards\n",
    "    for i in range(-1, -len(dt_cols), -1):\n",
    "        if not df[dt_cols[i]].fillna(0).eq(0).all():\n",
    "            LAST_DATE_I = i\n",
    "            break\n",
    "    return LAST_DATE_I, dt_cols"
   ]
  },
  {
   "cell_type": "code",
   "execution_count": 9,
   "id": "recent-optimization",
   "metadata": {
    "execution": {
     "iopub.execute_input": "2022-01-31T12:13:01.735851Z",
     "iopub.status.busy": "2022-01-31T12:13:01.735299Z",
     "iopub.status.idle": "2022-01-31T12:13:02.033597Z",
     "shell.execute_reply": "2022-01-31T12:13:02.033153Z"
    },
    "papermill": {
     "duration": 0.328411,
     "end_time": "2022-01-31T12:13:02.033712",
     "exception": false,
     "start_time": "2022-01-31T12:13:01.705301",
     "status": "completed"
    },
    "tags": []
   },
   "outputs": [],
   "source": [
    "#hide\n",
    "COL_REGION = 'Country/Region'\n",
    "# Confirmed, Recovered, Deaths\n",
    "df = get_frame('confirmed')\n",
    "# dft_: timeseries, dfc_: today country agg\n",
    "dft_cases = df\n",
    "dft_deaths = get_frame('deaths')\n",
    "dft_recovered = get_frame('recovered')\n",
    "LAST_DATE_I, dt_cols = get_dates(df)"
   ]
  },
  {
   "cell_type": "code",
   "execution_count": 10,
   "id": "absolute-copper",
   "metadata": {
    "execution": {
     "iopub.execute_input": "2022-01-31T12:13:02.093018Z",
     "iopub.status.busy": "2022-01-31T12:13:02.091906Z",
     "iopub.status.idle": "2022-01-31T12:13:02.093542Z",
     "shell.execute_reply": "2022-01-31T12:13:02.093897Z"
    },
    "papermill": {
     "duration": 0.033666,
     "end_time": "2022-01-31T12:13:02.094017",
     "exception": false,
     "start_time": "2022-01-31T12:13:02.060351",
     "status": "completed"
    },
    "tags": []
   },
   "outputs": [],
   "source": [
    "#hide\n",
    "LAST_DATE_I, dt_cols = get_dates(df)\n",
    "dt_today =dt_cols[LAST_DATE_I]\n",
    "# dt_5day = dt_cols[LAST_DATE_I - 5]\n",
    "dt_yday = dt_cols[LAST_DATE_I - 1]"
   ]
  },
  {
   "cell_type": "code",
   "execution_count": 11,
   "id": "restricted-sheriff",
   "metadata": {
    "execution": {
     "iopub.execute_input": "2022-01-31T12:13:02.153293Z",
     "iopub.status.busy": "2022-01-31T12:13:02.151884Z",
     "iopub.status.idle": "2022-01-31T12:13:02.158630Z",
     "shell.execute_reply": "2022-01-31T12:13:02.158971Z"
    },
    "papermill": {
     "duration": 0.038921,
     "end_time": "2022-01-31T12:13:02.159097",
     "exception": false,
     "start_time": "2022-01-31T12:13:02.120176",
     "status": "completed"
    },
    "tags": []
   },
   "outputs": [],
   "source": [
    "#hide\n",
    "dfc_cases = dft_cases.groupby(COL_REGION)[dt_today].sum()\n",
    "dfc_deaths = dft_deaths.groupby(COL_REGION)[dt_today].sum()\n",
    "# dfp_cases = dft_cases.groupby(COL_REGION)[dt_5day].sum()\n",
    "# dfp_deaths = dft_deaths.groupby(COL_REGION)[dt_5day].sum()\n",
    "dfp_cases = dft_cases.groupby(COL_REGION)[dt_yday].sum()\n",
    "dfp_deaths = dft_deaths.groupby(COL_REGION)[dt_yday].sum()"
   ]
  },
  {
   "cell_type": "code",
   "execution_count": 12,
   "id": "deluxe-hepatitis",
   "metadata": {
    "execution": {
     "iopub.execute_input": "2022-01-31T12:13:02.217219Z",
     "iopub.status.busy": "2022-01-31T12:13:02.216478Z",
     "iopub.status.idle": "2022-01-31T12:13:02.220954Z",
     "shell.execute_reply": "2022-01-31T12:13:02.221387Z"
    },
    "papermill": {
     "duration": 0.036166,
     "end_time": "2022-01-31T12:13:02.221525",
     "exception": false,
     "start_time": "2022-01-31T12:13:02.185359",
     "status": "completed"
    },
    "tags": []
   },
   "outputs": [],
   "source": [
    "#hide\n",
    "df_table = (pd.DataFrame(dict(Cases = dfc_cases, Deaths = dfc_deaths, PCases = dfp_cases, PDeaths = dfp_deaths))\n",
    "            .sort_values(by = ['Cases','Deaths'], ascending = [False, False])\n",
    "            .reset_index())"
   ]
  },
  {
   "cell_type": "code",
   "execution_count": 13,
   "id": "educational-chancellor",
   "metadata": {
    "execution": {
     "iopub.execute_input": "2022-01-31T12:13:02.291755Z",
     "iopub.status.busy": "2022-01-31T12:13:02.287150Z",
     "iopub.status.idle": "2022-01-31T12:13:02.298909Z",
     "shell.execute_reply": "2022-01-31T12:13:02.299360Z"
    },
    "papermill": {
     "duration": 0.05204,
     "end_time": "2022-01-31T12:13:02.299478",
     "exception": false,
     "start_time": "2022-01-31T12:13:02.247438",
     "status": "completed"
    },
    "tags": []
   },
   "outputs": [
    {
     "data": {
      "text/html": [
       "<div>\n",
       "<style scoped>\n",
       "    .dataframe tbody tr th:only-of-type {\n",
       "        vertical-align: middle;\n",
       "    }\n",
       "\n",
       "    .dataframe tbody tr th {\n",
       "        vertical-align: top;\n",
       "    }\n",
       "\n",
       "    .dataframe thead th {\n",
       "        text-align: right;\n",
       "    }\n",
       "</style>\n",
       "<table border=\"1\" class=\"dataframe\">\n",
       "  <thead>\n",
       "    <tr style=\"text-align: right;\">\n",
       "      <th></th>\n",
       "      <th>Country/Region</th>\n",
       "      <th>Cases</th>\n",
       "      <th>Deaths</th>\n",
       "      <th>PCases</th>\n",
       "      <th>PDeaths</th>\n",
       "      <th>Cases (+)</th>\n",
       "      <th>Deaths (+)</th>\n",
       "      <th>Fatality Rate</th>\n",
       "      <th>Continent</th>\n",
       "    </tr>\n",
       "  </thead>\n",
       "  <tbody>\n",
       "    <tr>\n",
       "      <th>0</th>\n",
       "      <td>US</td>\n",
       "      <td>74333001</td>\n",
       "      <td>884260</td>\n",
       "      <td>74236114</td>\n",
       "      <td>883939</td>\n",
       "      <td>96887</td>\n",
       "      <td>321</td>\n",
       "      <td>1.19</td>\n",
       "      <td>North America</td>\n",
       "    </tr>\n",
       "    <tr>\n",
       "      <th>1</th>\n",
       "      <td>India</td>\n",
       "      <td>41302440</td>\n",
       "      <td>495050</td>\n",
       "      <td>41092522</td>\n",
       "      <td>494091</td>\n",
       "      <td>209918</td>\n",
       "      <td>959</td>\n",
       "      <td>1.20</td>\n",
       "      <td>Asia</td>\n",
       "    </tr>\n",
       "    <tr>\n",
       "      <th>2</th>\n",
       "      <td>Brazil</td>\n",
       "      <td>25360647</td>\n",
       "      <td>627150</td>\n",
       "      <td>25256198</td>\n",
       "      <td>626870</td>\n",
       "      <td>104449</td>\n",
       "      <td>280</td>\n",
       "      <td>2.47</td>\n",
       "      <td>South America</td>\n",
       "    </tr>\n",
       "    <tr>\n",
       "      <th>3</th>\n",
       "      <td>France</td>\n",
       "      <td>19178039</td>\n",
       "      <td>131576</td>\n",
       "      <td>18928572</td>\n",
       "      <td>131449</td>\n",
       "      <td>249467</td>\n",
       "      <td>127</td>\n",
       "      <td>0.69</td>\n",
       "      <td>Europe</td>\n",
       "    </tr>\n",
       "    <tr>\n",
       "      <th>4</th>\n",
       "      <td>United Kingdom</td>\n",
       "      <td>16582263</td>\n",
       "      <td>156222</td>\n",
       "      <td>16519768</td>\n",
       "      <td>156137</td>\n",
       "      <td>62495</td>\n",
       "      <td>85</td>\n",
       "      <td>0.94</td>\n",
       "      <td>Europe</td>\n",
       "    </tr>\n",
       "  </tbody>\n",
       "</table>\n",
       "</div>"
      ],
      "text/plain": [
       "   Country/Region     Cases  Deaths    PCases  PDeaths  Cases (+)  Deaths (+)  \\\n",
       "0              US  74333001  884260  74236114   883939      96887         321   \n",
       "1           India  41302440  495050  41092522   494091     209918         959   \n",
       "2          Brazil  25360647  627150  25256198   626870     104449         280   \n",
       "3          France  19178039  131576  18928572   131449     249467         127   \n",
       "4  United Kingdom  16582263  156222  16519768   156137      62495          85   \n",
       "\n",
       "   Fatality Rate      Continent  \n",
       "0           1.19  North America  \n",
       "1           1.20           Asia  \n",
       "2           2.47  South America  \n",
       "3           0.69         Europe  \n",
       "4           0.94         Europe  "
      ]
     },
     "execution_count": 13,
     "metadata": {},
     "output_type": "execute_result"
    }
   ],
   "source": [
    "#hide\n",
    "for c in 'Cases, Deaths'.split(', '):\n",
    "    df_table[f'{c} (+)'] = (df_table[c] - df_table[f'P{c}']).clip(0)\n",
    "    #Clip ça veut dire, les chiffres negatif sont interdit\n",
    "df_table['Fatality Rate'] = (100* df_table['Deaths']/ df_table['Cases']).round(2)\n",
    "df_table['Continent'] = df_table['Country/Region'].map(mapping['map.continent'])\n",
    "df_table.head(5)"
   ]
  },
  {
   "cell_type": "code",
   "execution_count": 14,
   "id": "aboriginal-bulgaria",
   "metadata": {
    "execution": {
     "iopub.execute_input": "2022-01-31T12:13:02.357679Z",
     "iopub.status.busy": "2022-01-31T12:13:02.357203Z",
     "iopub.status.idle": "2022-01-31T12:13:02.359547Z",
     "shell.execute_reply": "2022-01-31T12:13:02.359184Z"
    },
    "papermill": {
     "duration": 0.033559,
     "end_time": "2022-01-31T12:13:02.359648",
     "exception": false,
     "start_time": "2022-01-31T12:13:02.326089",
     "status": "completed"
    },
    "tags": []
   },
   "outputs": [],
   "source": [
    "#hide\n",
    "#delete problematic countries from table\n",
    "df_table = df_table[~df_table['Country/Region'].isin(['Cape Verde', 'Cruise Ship', 'Kosovo'])]"
   ]
  },
  {
   "cell_type": "code",
   "execution_count": 15,
   "id": "fantastic-effect",
   "metadata": {
    "execution": {
     "iopub.execute_input": "2022-01-31T12:13:02.419971Z",
     "iopub.status.busy": "2022-01-31T12:13:02.419513Z",
     "iopub.status.idle": "2022-01-31T12:13:02.436427Z",
     "shell.execute_reply": "2022-01-31T12:13:02.436014Z"
    },
    "papermill": {
     "duration": 0.050451,
     "end_time": "2022-01-31T12:13:02.436527",
     "exception": false,
     "start_time": "2022-01-31T12:13:02.386076",
     "status": "completed"
    },
    "tags": []
   },
   "outputs": [
    {
     "data": {
      "text/html": [
       "<div>\n",
       "<style scoped>\n",
       "    .dataframe tbody tr th:only-of-type {\n",
       "        vertical-align: middle;\n",
       "    }\n",
       "\n",
       "    .dataframe tbody tr th {\n",
       "        vertical-align: top;\n",
       "    }\n",
       "\n",
       "    .dataframe thead th {\n",
       "        text-align: right;\n",
       "    }\n",
       "</style>\n",
       "<table border=\"1\" class=\"dataframe\">\n",
       "  <thead>\n",
       "    <tr style=\"text-align: right;\">\n",
       "      <th></th>\n",
       "      <th>Country/Region</th>\n",
       "      <th>Cases</th>\n",
       "      <th>Deaths</th>\n",
       "      <th>PCases</th>\n",
       "      <th>PDeaths</th>\n",
       "      <th>Cases (+)</th>\n",
       "      <th>Deaths (+)</th>\n",
       "      <th>Fatality Rate</th>\n",
       "      <th>Continent</th>\n",
       "    </tr>\n",
       "  </thead>\n",
       "  <tbody>\n",
       "    <tr>\n",
       "      <th>0</th>\n",
       "      <td>US</td>\n",
       "      <td>74333001</td>\n",
       "      <td>884260</td>\n",
       "      <td>74236114</td>\n",
       "      <td>883939</td>\n",
       "      <td>96887</td>\n",
       "      <td>321</td>\n",
       "      <td>1.2</td>\n",
       "      <td>North America</td>\n",
       "    </tr>\n",
       "    <tr>\n",
       "      <th>1</th>\n",
       "      <td>India</td>\n",
       "      <td>41302440</td>\n",
       "      <td>495050</td>\n",
       "      <td>41092522</td>\n",
       "      <td>494091</td>\n",
       "      <td>209918</td>\n",
       "      <td>959</td>\n",
       "      <td>1.2</td>\n",
       "      <td>Asia</td>\n",
       "    </tr>\n",
       "    <tr>\n",
       "      <th>2</th>\n",
       "      <td>Brazil</td>\n",
       "      <td>25360647</td>\n",
       "      <td>627150</td>\n",
       "      <td>25256198</td>\n",
       "      <td>626870</td>\n",
       "      <td>104449</td>\n",
       "      <td>280</td>\n",
       "      <td>2.5</td>\n",
       "      <td>South America</td>\n",
       "    </tr>\n",
       "    <tr>\n",
       "      <th>3</th>\n",
       "      <td>France</td>\n",
       "      <td>19178039</td>\n",
       "      <td>131576</td>\n",
       "      <td>18928572</td>\n",
       "      <td>131449</td>\n",
       "      <td>249467</td>\n",
       "      <td>127</td>\n",
       "      <td>0.7</td>\n",
       "      <td>Europe</td>\n",
       "    </tr>\n",
       "    <tr>\n",
       "      <th>4</th>\n",
       "      <td>United Kingdom</td>\n",
       "      <td>16582263</td>\n",
       "      <td>156222</td>\n",
       "      <td>16519768</td>\n",
       "      <td>156137</td>\n",
       "      <td>62495</td>\n",
       "      <td>85</td>\n",
       "      <td>0.9</td>\n",
       "      <td>Europe</td>\n",
       "    </tr>\n",
       "  </tbody>\n",
       "</table>\n",
       "</div>"
      ],
      "text/plain": [
       "   Country/Region     Cases  Deaths    PCases  PDeaths  Cases (+)  Deaths (+)  \\\n",
       "0              US  74333001  884260  74236114   883939      96887         321   \n",
       "1           India  41302440  495050  41092522   494091     209918         959   \n",
       "2          Brazil  25360647  627150  25256198   626870     104449         280   \n",
       "3          France  19178039  131576  18928572   131449     249467         127   \n",
       "4  United Kingdom  16582263  156222  16519768   156137      62495          85   \n",
       "\n",
       "   Fatality Rate      Continent  \n",
       "0            1.2  North America  \n",
       "1            1.2           Asia  \n",
       "2            2.5  South America  \n",
       "3            0.7         Europe  \n",
       "4            0.9         Europe  "
      ]
     },
     "execution_count": 15,
     "metadata": {},
     "output_type": "execute_result"
    }
   ],
   "source": [
    "#hide\n",
    "df_table = (pd.DataFrame(dict(Cases=dfc_cases, Deaths=dfc_deaths, PCases=dfp_cases, PDeaths=dfp_deaths))\n",
    "             .sort_values(by=['Cases', 'Deaths'], ascending=[False, False])\n",
    "             .reset_index())\n",
    "df_table.rename(columns={'index': 'Country/Region'}, inplace=True)\n",
    "for c in 'Cases, Deaths'.split(', '):\n",
    "    df_table[f'{c} (+)'] = (df_table[c] - df_table[f'P{c}']).clip(0)  # DATA BUG\n",
    "df_table['Fatality Rate'] = (100 * df_table['Deaths'] / df_table['Cases']).round(1)\n",
    "df_table['Continent'] = df_table['Country/Region'].map(mapping['map.continent'])\n",
    "df_table.head(5)"
   ]
  },
  {
   "cell_type": "code",
   "execution_count": 16,
   "id": "fewer-occasion",
   "metadata": {
    "execution": {
     "iopub.execute_input": "2022-01-31T12:13:02.495207Z",
     "iopub.status.busy": "2022-01-31T12:13:02.494755Z",
     "iopub.status.idle": "2022-01-31T12:13:02.496565Z",
     "shell.execute_reply": "2022-01-31T12:13:02.496928Z"
    },
    "papermill": {
     "duration": 0.033565,
     "end_time": "2022-01-31T12:13:02.497039",
     "exception": false,
     "start_time": "2022-01-31T12:13:02.463474",
     "status": "completed"
    },
    "tags": []
   },
   "outputs": [],
   "source": [
    "#hide\n",
    "#delete problematic countries from table\n",
    "df_table = df_table[~df_table['Country/Region'].isin(['Cape Verde', 'Cruise Ship', 'Kosovo'])]"
   ]
  },
  {
   "cell_type": "code",
   "execution_count": 17,
   "id": "related-center",
   "metadata": {
    "execution": {
     "iopub.execute_input": "2022-01-31T12:13:02.568772Z",
     "iopub.status.busy": "2022-01-31T12:13:02.568302Z",
     "iopub.status.idle": "2022-01-31T12:13:02.570629Z",
     "shell.execute_reply": "2022-01-31T12:13:02.570267Z"
    },
    "papermill": {
     "duration": 0.046974,
     "end_time": "2022-01-31T12:13:02.570728",
     "exception": false,
     "start_time": "2022-01-31T12:13:02.523754",
     "status": "completed"
    },
    "tags": []
   },
   "outputs": [],
   "source": [
    "#hide\n",
    "metrics = [df_table.columns[index] for index in [1,2,5,6]]\n",
    "# s_china = df_table[df_table['Country/Region'].eq('China')][metrics].sum().add_prefix('China ')\n",
    "s_us = df_table[df_table['Country/Region'].eq('US')][metrics].sum().add_prefix('US ')\n",
    "s_eu = df_table[df_table['Continent'].eq('Europe')][metrics].sum().add_prefix('EU ')\n",
    "s_ind = df_table[df_table['Country/Region'].eq('India')][metrics].sum().add_prefix('India ')\n",
    "summary = {'updated': pd.to_datetime(dt_today), 'since': pd.to_datetime(dt_yday)}\n",
    "summary = {'updated': pd.to_datetime(dt_today), 'since': pd.to_datetime(dt_yday)}\n",
    "summary = {**summary, **df_table[metrics].sum(), **s_ind, **s_us, **s_eu}"
   ]
  },
  {
   "cell_type": "code",
   "execution_count": 18,
   "id": "engaging-syndrome",
   "metadata": {
    "execution": {
     "iopub.execute_input": "2022-01-31T12:13:02.631457Z",
     "iopub.status.busy": "2022-01-31T12:13:02.628408Z",
     "iopub.status.idle": "2022-01-31T12:13:02.644543Z",
     "shell.execute_reply": "2022-01-31T12:13:02.643668Z"
    },
    "papermill": {
     "duration": 0.047046,
     "end_time": "2022-01-31T12:13:02.644658",
     "exception": false,
     "start_time": "2022-01-31T12:13:02.597612",
     "status": "completed"
    },
    "tags": []
   },
   "outputs": [],
   "source": [
    "#hide\n",
    "dft_ct_new_cases = dft_cases.groupby(COL_REGION)[dt_cols].sum().diff(axis=1).fillna(0).astype(int)"
   ]
  },
  {
   "cell_type": "code",
   "execution_count": 19,
   "id": "neutral-assignment",
   "metadata": {
    "execution": {
     "iopub.execute_input": "2022-01-31T12:13:02.703585Z",
     "iopub.status.busy": "2022-01-31T12:13:02.701653Z",
     "iopub.status.idle": "2022-01-31T12:13:02.705469Z",
     "shell.execute_reply": "2022-01-31T12:13:02.705810Z"
    },
    "papermill": {
     "duration": 0.034297,
     "end_time": "2022-01-31T12:13:02.705929",
     "exception": false,
     "start_time": "2022-01-31T12:13:02.671632",
     "status": "completed"
    },
    "tags": []
   },
   "outputs": [],
   "source": [
    "#hide\n",
    "everydaycases = dft_ct_new_cases.cumsum(axis=1)"
   ]
  },
  {
   "cell_type": "code",
   "execution_count": 20,
   "id": "parliamentary-calgary",
   "metadata": {
    "execution": {
     "iopub.execute_input": "2022-01-31T12:13:02.763955Z",
     "iopub.status.busy": "2022-01-31T12:13:02.763413Z",
     "iopub.status.idle": "2022-01-31T12:13:03.350716Z",
     "shell.execute_reply": "2022-01-31T12:13:03.350190Z"
    },
    "papermill": {
     "duration": 0.618015,
     "end_time": "2022-01-31T12:13:03.350853",
     "exception": false,
     "start_time": "2022-01-31T12:13:02.732838",
     "status": "completed"
    },
    "tags": []
   },
   "outputs": [],
   "source": [
    "#hide\n",
    "import pandas as pd\n",
    "import matplotlib.pyplot as plt\n",
    "import matplotlib.ticker as ticker\n",
    "import matplotlib.animation as animation\n",
    "from IPython.display import HTML"
   ]
  },
  {
   "cell_type": "code",
   "execution_count": 21,
   "id": "lasting-extraction",
   "metadata": {
    "execution": {
     "iopub.execute_input": "2022-01-31T12:13:03.411373Z",
     "iopub.status.busy": "2022-01-31T12:13:03.410912Z",
     "iopub.status.idle": "2022-01-31T12:13:03.416789Z",
     "shell.execute_reply": "2022-01-31T12:13:03.417252Z"
    },
    "papermill": {
     "duration": 0.038885,
     "end_time": "2022-01-31T12:13:03.417368",
     "exception": false,
     "start_time": "2022-01-31T12:13:03.378483",
     "status": "completed"
    },
    "tags": []
   },
   "outputs": [],
   "source": [
    "#hide\n",
    "t = everydaycases.stack()"
   ]
  },
  {
   "cell_type": "code",
   "execution_count": 22,
   "id": "premier-sleeve",
   "metadata": {
    "execution": {
     "iopub.execute_input": "2022-01-31T12:13:03.476761Z",
     "iopub.status.busy": "2022-01-31T12:13:03.474187Z",
     "iopub.status.idle": "2022-01-31T12:13:03.483966Z",
     "shell.execute_reply": "2022-01-31T12:13:03.483499Z"
    },
    "papermill": {
     "duration": 0.039734,
     "end_time": "2022-01-31T12:13:03.484113",
     "exception": false,
     "start_time": "2022-01-31T12:13:03.444379",
     "status": "completed"
    },
    "tags": []
   },
   "outputs": [],
   "source": [
    "#hide\n",
    "g = t.reset_index(['Country/Region'])"
   ]
  },
  {
   "cell_type": "code",
   "execution_count": 23,
   "id": "distributed-pittsburgh",
   "metadata": {
    "execution": {
     "iopub.execute_input": "2022-01-31T12:13:03.548481Z",
     "iopub.status.busy": "2022-01-31T12:13:03.547850Z",
     "iopub.status.idle": "2022-01-31T12:13:03.550140Z",
     "shell.execute_reply": "2022-01-31T12:13:03.549577Z"
    },
    "papermill": {
     "duration": 0.03592,
     "end_time": "2022-01-31T12:13:03.550257",
     "exception": false,
     "start_time": "2022-01-31T12:13:03.514337",
     "status": "completed"
    },
    "tags": []
   },
   "outputs": [],
   "source": [
    "#hide\n",
    "g.index.name = 'date'"
   ]
  },
  {
   "cell_type": "code",
   "execution_count": 24,
   "id": "naked-donor",
   "metadata": {
    "execution": {
     "iopub.execute_input": "2022-01-31T12:13:03.607717Z",
     "iopub.status.busy": "2022-01-31T12:13:03.607271Z",
     "iopub.status.idle": "2022-01-31T12:13:03.609198Z",
     "shell.execute_reply": "2022-01-31T12:13:03.609579Z"
    },
    "papermill": {
     "duration": 0.031524,
     "end_time": "2022-01-31T12:13:03.609686",
     "exception": false,
     "start_time": "2022-01-31T12:13:03.578162",
     "status": "completed"
    },
    "tags": []
   },
   "outputs": [],
   "source": [
    "# #hide\n",
    "# g = g.reset_index(['date'])"
   ]
  },
  {
   "cell_type": "code",
   "execution_count": 25,
   "id": "incomplete-mustang",
   "metadata": {
    "execution": {
     "iopub.execute_input": "2022-01-31T12:13:03.665932Z",
     "iopub.status.busy": "2022-01-31T12:13:03.665485Z",
     "iopub.status.idle": "2022-01-31T12:13:03.667821Z",
     "shell.execute_reply": "2022-01-31T12:13:03.667377Z"
    },
    "papermill": {
     "duration": 0.031544,
     "end_time": "2022-01-31T12:13:03.667912",
     "exception": false,
     "start_time": "2022-01-31T12:13:03.636368",
     "status": "completed"
    },
    "tags": []
   },
   "outputs": [],
   "source": [
    "#hide\n",
    "# g.head()"
   ]
  },
  {
   "cell_type": "code",
   "execution_count": 26,
   "id": "specific-kruger",
   "metadata": {
    "execution": {
     "iopub.execute_input": "2022-01-31T12:13:03.724820Z",
     "iopub.status.busy": "2022-01-31T12:13:03.724229Z",
     "iopub.status.idle": "2022-01-31T12:13:03.727980Z",
     "shell.execute_reply": "2022-01-31T12:13:03.727578Z"
    },
    "papermill": {
     "duration": 0.033293,
     "end_time": "2022-01-31T12:13:03.728108",
     "exception": false,
     "start_time": "2022-01-31T12:13:03.694815",
     "status": "completed"
    },
    "tags": []
   },
   "outputs": [],
   "source": [
    "#hide\n",
    "# g.columns = ['date','country','cases']"
   ]
  },
  {
   "cell_type": "code",
   "execution_count": 27,
   "id": "tender-conversion",
   "metadata": {
    "execution": {
     "iopub.execute_input": "2022-01-31T12:13:03.791855Z",
     "iopub.status.busy": "2022-01-31T12:13:03.791279Z",
     "iopub.status.idle": "2022-01-31T12:13:03.793306Z",
     "shell.execute_reply": "2022-01-31T12:13:03.792732Z"
    },
    "papermill": {
     "duration": 0.035141,
     "end_time": "2022-01-31T12:13:03.793421",
     "exception": false,
     "start_time": "2022-01-31T12:13:03.758280",
     "status": "completed"
    },
    "tags": []
   },
   "outputs": [],
   "source": [
    "#hide\n",
    "# g['continent'] = g.country"
   ]
  },
  {
   "cell_type": "code",
   "execution_count": 28,
   "id": "substantial-wilderness",
   "metadata": {
    "execution": {
     "iopub.execute_input": "2022-01-31T12:13:03.851518Z",
     "iopub.status.busy": "2022-01-31T12:13:03.850939Z",
     "iopub.status.idle": "2022-01-31T12:13:03.852861Z",
     "shell.execute_reply": "2022-01-31T12:13:03.852290Z"
    },
    "papermill": {
     "duration": 0.031567,
     "end_time": "2022-01-31T12:13:03.852977",
     "exception": false,
     "start_time": "2022-01-31T12:13:03.821410",
     "status": "completed"
    },
    "tags": []
   },
   "outputs": [],
   "source": [
    "#hide\n",
    "# cols = list(g.columns.values)"
   ]
  },
  {
   "cell_type": "code",
   "execution_count": 29,
   "id": "solved-farming",
   "metadata": {
    "execution": {
     "iopub.execute_input": "2022-01-31T12:13:03.917891Z",
     "iopub.status.busy": "2022-01-31T12:13:03.917301Z",
     "iopub.status.idle": "2022-01-31T12:13:03.920909Z",
     "shell.execute_reply": "2022-01-31T12:13:03.920531Z"
    },
    "papermill": {
     "duration": 0.036769,
     "end_time": "2022-01-31T12:13:03.921002",
     "exception": false,
     "start_time": "2022-01-31T12:13:03.884233",
     "status": "completed"
    },
    "tags": []
   },
   "outputs": [],
   "source": [
    "#hide\n",
    "# cols.insert(0, cols.pop())"
   ]
  },
  {
   "cell_type": "code",
   "execution_count": 30,
   "id": "executed-adoption",
   "metadata": {
    "execution": {
     "iopub.execute_input": "2022-01-31T12:13:03.978109Z",
     "iopub.status.busy": "2022-01-31T12:13:03.977521Z",
     "iopub.status.idle": "2022-01-31T12:13:03.979426Z",
     "shell.execute_reply": "2022-01-31T12:13:03.978866Z"
    },
    "papermill": {
     "duration": 0.031754,
     "end_time": "2022-01-31T12:13:03.979541",
     "exception": false,
     "start_time": "2022-01-31T12:13:03.947787",
     "status": "completed"
    },
    "tags": []
   },
   "outputs": [],
   "source": [
    "#hide\n",
    "# g = g[cols]"
   ]
  },
  {
   "cell_type": "code",
   "execution_count": 31,
   "id": "subject-dublin",
   "metadata": {
    "execution": {
     "iopub.execute_input": "2022-01-31T12:13:04.043531Z",
     "iopub.status.busy": "2022-01-31T12:13:04.042947Z",
     "iopub.status.idle": "2022-01-31T12:13:04.044920Z",
     "shell.execute_reply": "2022-01-31T12:13:04.044410Z"
    },
    "papermill": {
     "duration": 0.035263,
     "end_time": "2022-01-31T12:13:04.045024",
     "exception": false,
     "start_time": "2022-01-31T12:13:04.009761",
     "status": "completed"
    },
    "tags": []
   },
   "outputs": [],
   "source": [
    "#hide\n",
    "# g['continent'] = g['continent'].map(mapping['map.continent'])"
   ]
  },
  {
   "cell_type": "code",
   "execution_count": 32,
   "id": "freelance-scout",
   "metadata": {
    "execution": {
     "iopub.execute_input": "2022-01-31T12:13:04.109743Z",
     "iopub.status.busy": "2022-01-31T12:13:04.109149Z",
     "iopub.status.idle": "2022-01-31T12:13:04.111194Z",
     "shell.execute_reply": "2022-01-31T12:13:04.110764Z"
    },
    "papermill": {
     "duration": 0.035896,
     "end_time": "2022-01-31T12:13:04.111302",
     "exception": false,
     "start_time": "2022-01-31T12:13:04.075406",
     "status": "completed"
    },
    "tags": []
   },
   "outputs": [],
   "source": [
    "#hide\n",
    "# g.head()"
   ]
  },
  {
   "cell_type": "code",
   "execution_count": 33,
   "id": "limited-engine",
   "metadata": {
    "execution": {
     "iopub.execute_input": "2022-01-31T12:13:04.175542Z",
     "iopub.status.busy": "2022-01-31T12:13:04.174935Z",
     "iopub.status.idle": "2022-01-31T12:13:04.177142Z",
     "shell.execute_reply": "2022-01-31T12:13:04.176654Z"
    },
    "papermill": {
     "duration": 0.035758,
     "end_time": "2022-01-31T12:13:04.177260",
     "exception": false,
     "start_time": "2022-01-31T12:13:04.141502",
     "status": "completed"
    },
    "tags": []
   },
   "outputs": [],
   "source": [
    "# hide\n",
    "# g['date'] = g['date'].astype('datetime64[ns]')"
   ]
  },
  {
   "cell_type": "code",
   "execution_count": 34,
   "id": "sophisticated-supervisor",
   "metadata": {
    "execution": {
     "iopub.execute_input": "2022-01-31T12:13:04.236091Z",
     "iopub.status.busy": "2022-01-31T12:13:04.235472Z",
     "iopub.status.idle": "2022-01-31T12:13:04.237604Z",
     "shell.execute_reply": "2022-01-31T12:13:04.237040Z"
    },
    "papermill": {
     "duration": 0.03208,
     "end_time": "2022-01-31T12:13:04.237721",
     "exception": false,
     "start_time": "2022-01-31T12:13:04.205641",
     "status": "completed"
    },
    "tags": []
   },
   "outputs": [],
   "source": [
    "#hide\n",
    "# g['date'] = g.date.dt.dayofyear"
   ]
  },
  {
   "cell_type": "code",
   "execution_count": 35,
   "id": "inside-dubai",
   "metadata": {
    "execution": {
     "iopub.execute_input": "2022-01-31T12:13:04.302526Z",
     "iopub.status.busy": "2022-01-31T12:13:04.301946Z",
     "iopub.status.idle": "2022-01-31T12:13:04.304159Z",
     "shell.execute_reply": "2022-01-31T12:13:04.303648Z"
    },
    "papermill": {
     "duration": 0.035462,
     "end_time": "2022-01-31T12:13:04.304270",
     "exception": false,
     "start_time": "2022-01-31T12:13:04.268808",
     "status": "completed"
    },
    "tags": []
   },
   "outputs": [],
   "source": [
    "#hide\n",
    "# g = g.rename(columns= {'continent':'group','country':'name','cases':'value'})"
   ]
  },
  {
   "cell_type": "code",
   "execution_count": 36,
   "id": "fleet-motorcycle",
   "metadata": {
    "execution": {
     "iopub.execute_input": "2022-01-31T12:13:04.361547Z",
     "iopub.status.busy": "2022-01-31T12:13:04.360966Z",
     "iopub.status.idle": "2022-01-31T12:13:04.363963Z",
     "shell.execute_reply": "2022-01-31T12:13:04.364351Z"
    },
    "papermill": {
     "duration": 0.033304,
     "end_time": "2022-01-31T12:13:04.364463",
     "exception": false,
     "start_time": "2022-01-31T12:13:04.331159",
     "status": "completed"
    },
    "tags": []
   },
   "outputs": [],
   "source": [
    "#hide\n",
    "# cols = ['name','group','day','value']"
   ]
  },
  {
   "cell_type": "code",
   "execution_count": 37,
   "id": "continued-sleeping",
   "metadata": {
    "execution": {
     "iopub.execute_input": "2022-01-31T12:13:04.421791Z",
     "iopub.status.busy": "2022-01-31T12:13:04.421194Z",
     "iopub.status.idle": "2022-01-31T12:13:04.424486Z",
     "shell.execute_reply": "2022-01-31T12:13:04.424923Z"
    },
    "papermill": {
     "duration": 0.033828,
     "end_time": "2022-01-31T12:13:04.425065",
     "exception": false,
     "start_time": "2022-01-31T12:13:04.391237",
     "status": "completed"
    },
    "tags": []
   },
   "outputs": [],
   "source": [
    "#hide\n",
    "# g.rename(columns= {'date':'day'},inplace = True)"
   ]
  },
  {
   "cell_type": "code",
   "execution_count": 38,
   "id": "major-fight",
   "metadata": {
    "execution": {
     "iopub.execute_input": "2022-01-31T12:13:04.489658Z",
     "iopub.status.busy": "2022-01-31T12:13:04.489083Z",
     "iopub.status.idle": "2022-01-31T12:13:04.492923Z",
     "shell.execute_reply": "2022-01-31T12:13:04.492461Z"
    },
    "papermill": {
     "duration": 0.037412,
     "end_time": "2022-01-31T12:13:04.493043",
     "exception": false,
     "start_time": "2022-01-31T12:13:04.455631",
     "status": "completed"
    },
    "tags": []
   },
   "outputs": [],
   "source": [
    "#hide\n",
    "# g = g[cols]"
   ]
  },
  {
   "cell_type": "code",
   "execution_count": 39,
   "id": "structured-mobile",
   "metadata": {
    "execution": {
     "iopub.execute_input": "2022-01-31T12:13:04.551309Z",
     "iopub.status.busy": "2022-01-31T12:13:04.550840Z",
     "iopub.status.idle": "2022-01-31T12:13:04.553112Z",
     "shell.execute_reply": "2022-01-31T12:13:04.552751Z"
    },
    "papermill": {
     "duration": 0.03237,
     "end_time": "2022-01-31T12:13:04.553215",
     "exception": false,
     "start_time": "2022-01-31T12:13:04.520845",
     "status": "completed"
    },
    "tags": []
   },
   "outputs": [],
   "source": [
    "# #hide\n",
    "# g = g[g.group.notna()]"
   ]
  },
  {
   "cell_type": "code",
   "execution_count": 40,
   "id": "determined-closing",
   "metadata": {
    "execution": {
     "iopub.execute_input": "2022-01-31T12:13:04.609966Z",
     "iopub.status.busy": "2022-01-31T12:13:04.609451Z",
     "iopub.status.idle": "2022-01-31T12:13:04.611367Z",
     "shell.execute_reply": "2022-01-31T12:13:04.610869Z"
    },
    "papermill": {
     "duration": 0.031429,
     "end_time": "2022-01-31T12:13:04.611472",
     "exception": false,
     "start_time": "2022-01-31T12:13:04.580043",
     "status": "completed"
    },
    "tags": []
   },
   "outputs": [],
   "source": [
    "# #hide\n",
    "# colors = dict(zip(\n",
    "#     [\"Oceania\", \"Europe\", \"Asia\", \"South America\", \"Middle East\", \"North America\", \"Africa\"],\n",
    "#     [\"#adb0ff\", \"#ffb3ff\", \"#90d595\", \"#e48381\", \"#aafbff\", \"#f7bb5f\", \"#eafb50\"]\n",
    "# ))\n",
    "# group_lk = g.set_index('name')['group'].to_dict()"
   ]
  },
  {
   "cell_type": "code",
   "execution_count": null,
   "id": "gross-drinking",
   "metadata": {
    "papermill": {
     "duration": 0.030172,
     "end_time": "2022-01-31T12:13:04.671944",
     "exception": false,
     "start_time": "2022-01-31T12:13:04.641772",
     "status": "completed"
    },
    "tags": []
   },
   "outputs": [],
   "source": []
  },
  {
   "cell_type": "code",
   "execution_count": 41,
   "id": "subject-macintosh",
   "metadata": {
    "execution": {
     "iopub.execute_input": "2022-01-31T12:13:04.737406Z",
     "iopub.status.busy": "2022-01-31T12:13:04.736798Z",
     "iopub.status.idle": "2022-01-31T12:13:04.738247Z",
     "shell.execute_reply": "2022-01-31T12:13:04.738738Z"
    },
    "papermill": {
     "duration": 0.036522,
     "end_time": "2022-01-31T12:13:04.738874",
     "exception": false,
     "start_time": "2022-01-31T12:13:04.702352",
     "status": "completed"
    },
    "tags": []
   },
   "outputs": [],
   "source": [
    "# #hide\n",
    "# fig, ax = plt.subplots(figsize=(15, 8))\n",
    "\n",
    "# def draw_barchart(current_day):\n",
    "#     dff = g[g['day'].eq(current_day)].sort_values(by='value', ascending=True).tail(10)\n",
    "#     ax.clear()\n",
    "#     ax.barh(dff['name'], dff['value'], color=[colors[group_lk[x]] for x in dff['name']])\n",
    "#     dx = dff['value'].max() / 200\n",
    "    \n",
    "#     for i, (value, name) in enumerate(zip(dff['value'], dff['name'])):\n",
    "#         ax.text(value-dx, i,     name,           size=14, weight=600, ha='right', va='bottom')\n",
    "#         ax.text(value-dx, i-.25, group_lk[name], size=10, color='#444444', ha='right', va='baseline')\n",
    "#         ax.text(value+dx, i,     f'{value:,.0f}',  size=14, ha='left',  va='center')\n",
    "#     ax.text(1, 0.4, current_day, transform=ax.transAxes, color='#777777', size=46, ha='right', weight=800)\n",
    "#     ax.text(0, 1.06, 'Population (thousands)', transform=ax.transAxes, size=12, color='#777777')\n",
    "#     ax.xaxis.set_major_formatter(ticker.StrMethodFormatter('{x:,.0f}'))\n",
    "#     ax.xaxis.set_ticks_position('top')\n",
    "#     ax.tick_params(axis='x', colors='#777777', labelsize=12)\n",
    "#     ax.set_yticks([])\n",
    "#     ax.margins(0, 0.01)\n",
    "#     ax.grid(which='major', axis='x', linestyle='-')\n",
    "#     ax.set_axisbelow(True)\n",
    "    \n",
    "#     ax.text(0, 1.15, 'Coronavirus',\n",
    "#             transform=ax.transAxes, size=24, weight=600, ha='left', va='top')\n",
    "# #     ax.text(1, 0, 'by @pratapvardhan; credit @jburnmurdoch', transform=ax.transAxes, color='#777777', ha='right',\n",
    "# #             bbox=dict(facecolor='white', alpha=0.8, edgecolor='white'))\n",
    "#     plt.box(False)"
   ]
  },
  {
   "cell_type": "code",
   "execution_count": 42,
   "id": "sexual-wages",
   "metadata": {
    "execution": {
     "iopub.execute_input": "2022-01-31T12:13:04.796515Z",
     "iopub.status.busy": "2022-01-31T12:13:04.796008Z",
     "iopub.status.idle": "2022-01-31T12:13:04.797928Z",
     "shell.execute_reply": "2022-01-31T12:13:04.798266Z"
    },
    "papermill": {
     "duration": 0.031797,
     "end_time": "2022-01-31T12:13:04.798375",
     "exception": false,
     "start_time": "2022-01-31T12:13:04.766578",
     "status": "completed"
    },
    "tags": []
   },
   "outputs": [],
   "source": [
    "# #hide_input\n",
    "# fig, ax = plt.subplots(figsize=(15, 8))\n",
    "# animator = animation.FuncAnimation(fig, draw_barchart, frames=range(g.day.values.min(), g.day.values.max()))\n",
    "# HTML(animator.to_jshtml())\n",
    "# # or use animator.to_html5_video() or animator.save() "
   ]
  },
  {
   "cell_type": "code",
   "execution_count": null,
   "id": "australian-container",
   "metadata": {
    "papermill": {
     "duration": 0.026836,
     "end_time": "2022-01-31T12:13:04.852129",
     "exception": false,
     "start_time": "2022-01-31T12:13:04.825293",
     "status": "completed"
    },
    "tags": []
   },
   "outputs": [],
   "source": []
  },
  {
   "cell_type": "code",
   "execution_count": null,
   "id": "mediterranean-pontiac",
   "metadata": {
    "papermill": {
     "duration": 0.026785,
     "end_time": "2022-01-31T12:13:04.905809",
     "exception": false,
     "start_time": "2022-01-31T12:13:04.879024",
     "status": "completed"
    },
    "tags": []
   },
   "outputs": [],
   "source": []
  },
  {
   "cell_type": "code",
   "execution_count": null,
   "id": "aging-legislature",
   "metadata": {
    "papermill": {
     "duration": 0.026543,
     "end_time": "2022-01-31T12:13:04.959754",
     "exception": false,
     "start_time": "2022-01-31T12:13:04.933211",
     "status": "completed"
    },
    "tags": []
   },
   "outputs": [],
   "source": []
  }
 ],
 "metadata": {
  "kernelspec": {
   "display_name": "Python 3",
   "language": "python",
   "name": "python3"
  },
  "language_info": {
   "codemirror_mode": {
    "name": "ipython",
    "version": 3
   },
   "file_extension": ".py",
   "mimetype": "text/x-python",
   "name": "python",
   "nbconvert_exporter": "python",
   "pygments_lexer": "ipython3",
   "version": "3.6.15"
  },
  "papermill": {
   "duration": 5.667892,
   "end_time": "2022-01-31T12:13:05.304177",
   "environment_variables": {},
   "exception": null,
   "input_path": "2020-03-21-covid19exp.ipynb",
   "output_path": "2020-03-21-covid19exp.ipynb",
   "parameters": {},
   "start_time": "2022-01-31T12:12:59.636285",
   "version": "2.0.0"
  }
 },
 "nbformat": 4,
 "nbformat_minor": 5
}