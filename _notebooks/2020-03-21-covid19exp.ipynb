{
 "cells": [
  {
   "cell_type": "markdown",
   "metadata": {
    "papermill": {
     "duration": 0.032941,
     "end_time": "2020-11-26T00:10:11.920534",
     "exception": false,
     "start_time": "2020-11-26T00:10:11.887593",
     "status": "completed"
    },
    "tags": []
   },
   "source": [
    "# COVID-19 Case Race\n",
    "> A race chart to see rising cases around the world\n",
    "\n",
    "- author: Hargun Oberoi\n",
    "- image: images/covid-overview.png\n",
    "- hide: false\n",
    "- badges: false"
   ]
  },
  {
   "cell_type": "code",
   "execution_count": 1,
   "metadata": {
    "execution": {
     "iopub.execute_input": "2020-11-26T00:10:11.995051Z",
     "iopub.status.busy": "2020-11-26T00:10:11.994409Z",
     "iopub.status.idle": "2020-11-26T00:10:12.342664Z",
     "shell.execute_reply": "2020-11-26T00:10:12.341804Z"
    },
    "papermill": {
     "duration": 0.387898,
     "end_time": "2020-11-26T00:10:12.342813",
     "exception": false,
     "start_time": "2020-11-26T00:10:11.954915",
     "status": "completed"
    },
    "tags": []
   },
   "outputs": [],
   "source": [
    "#hide\n",
    "import numpy as np\n",
    "import pandas as pd\n",
    "from jinja2 import Template\n",
    "from IPython.display import HTML"
   ]
  },
  {
   "cell_type": "code",
   "execution_count": 2,
   "metadata": {
    "execution": {
     "iopub.execute_input": "2020-11-26T00:10:12.421118Z",
     "iopub.status.busy": "2020-11-26T00:10:12.420554Z",
     "iopub.status.idle": "2020-11-26T00:10:12.422558Z",
     "shell.execute_reply": "2020-11-26T00:10:12.422053Z"
    },
    "papermill": {
     "duration": 0.044499,
     "end_time": "2020-11-26T00:10:12.422673",
     "exception": false,
     "start_time": "2020-11-26T00:10:12.378174",
     "status": "completed"
    },
    "tags": []
   },
   "outputs": [],
   "source": [
    "#hide\n",
    "\n",
    "# FETCH\n",
    "base_url = 'https://raw.githubusercontent.com/pratapvardhan/notebooks/master/covid19/'\n",
    "paths = {\n",
    "    'mapping': base_url + 'mapping_countries.csv',\n",
    "    'overview': base_url + 'overview.tpl'\n",
    "}"
   ]
  },
  {
   "cell_type": "code",
   "execution_count": 3,
   "metadata": {
    "execution": {
     "iopub.execute_input": "2020-11-26T00:10:12.496481Z",
     "iopub.status.busy": "2020-11-26T00:10:12.495861Z",
     "iopub.status.idle": "2020-11-26T00:10:12.498492Z",
     "shell.execute_reply": "2020-11-26T00:10:12.499090Z"
    },
    "papermill": {
     "duration": 0.047707,
     "end_time": "2020-11-26T00:10:12.499222",
     "exception": false,
     "start_time": "2020-11-26T00:10:12.451515",
     "status": "completed"
    },
    "tags": []
   },
   "outputs": [
    {
     "data": {
      "text/plain": [
       "'https://raw.githubusercontent.com/pratapvardhan/notebooks/master/covid19/mapping_countries.csv'"
      ]
     },
     "execution_count": 3,
     "metadata": {},
     "output_type": "execute_result"
    }
   ],
   "source": [
    "#hide\n",
    "paths['mapping']"
   ]
  },
  {
   "cell_type": "code",
   "execution_count": 4,
   "metadata": {
    "execution": {
     "iopub.execute_input": "2020-11-26T00:10:12.564209Z",
     "iopub.status.busy": "2020-11-26T00:10:12.563568Z",
     "iopub.status.idle": "2020-11-26T00:10:12.565587Z",
     "shell.execute_reply": "2020-11-26T00:10:12.566112Z"
    },
    "papermill": {
     "duration": 0.038505,
     "end_time": "2020-11-26T00:10:12.566243",
     "exception": false,
     "start_time": "2020-11-26T00:10:12.527738",
     "status": "completed"
    },
    "tags": []
   },
   "outputs": [],
   "source": [
    "#hide\n",
    "def get_mappings(url):\n",
    "    df = pd.read_csv(url)\n",
    "    return {\n",
    "        'df': df,\n",
    "        'replace.country': dict(df.dropna(subset=['Name']).set_index('Country')['Name']),\n",
    "        'map.continent': dict(df.set_index('Name')['Continent'])\n",
    "    }"
   ]
  },
  {
   "cell_type": "code",
   "execution_count": 5,
   "metadata": {
    "execution": {
     "iopub.execute_input": "2020-11-26T00:10:12.634392Z",
     "iopub.status.busy": "2020-11-26T00:10:12.633861Z",
     "iopub.status.idle": "2020-11-26T00:10:12.678995Z",
     "shell.execute_reply": "2020-11-26T00:10:12.678468Z"
    },
    "papermill": {
     "duration": 0.082577,
     "end_time": "2020-11-26T00:10:12.679118",
     "exception": false,
     "start_time": "2020-11-26T00:10:12.596541",
     "status": "completed"
    },
    "tags": []
   },
   "outputs": [],
   "source": [
    "#hide\n",
    "mapping = get_mappings(paths['mapping'])"
   ]
  },
  {
   "cell_type": "code",
   "execution_count": 6,
   "metadata": {
    "execution": {
     "iopub.execute_input": "2020-11-26T00:10:12.742755Z",
     "iopub.status.busy": "2020-11-26T00:10:12.742158Z",
     "iopub.status.idle": "2020-11-26T00:10:12.744360Z",
     "shell.execute_reply": "2020-11-26T00:10:12.744901Z"
    },
    "papermill": {
     "duration": 0.038486,
     "end_time": "2020-11-26T00:10:12.745023",
     "exception": false,
     "start_time": "2020-11-26T00:10:12.706537",
     "status": "completed"
    },
    "tags": []
   },
   "outputs": [],
   "source": [
    "#hide\n",
    "def get_template(path):\n",
    "    from urllib.parse import urlparse\n",
    "    if bool(urlparse(path).netloc):\n",
    "        from urllib.request import urlopen\n",
    "        return urlopen(path).read().decode('utf8')\n",
    "    return open(path).read()"
   ]
  },
  {
   "cell_type": "code",
   "execution_count": 7,
   "metadata": {
    "execution": {
     "iopub.execute_input": "2020-11-26T00:10:12.811695Z",
     "iopub.status.busy": "2020-11-26T00:10:12.811037Z",
     "iopub.status.idle": "2020-11-26T00:10:12.813724Z",
     "shell.execute_reply": "2020-11-26T00:10:12.813235Z"
    },
    "papermill": {
     "duration": 0.037506,
     "end_time": "2020-11-26T00:10:12.813841",
     "exception": false,
     "start_time": "2020-11-26T00:10:12.776335",
     "status": "completed"
    },
    "tags": []
   },
   "outputs": [],
   "source": [
    "#hide\n",
    "def get_frame(name):\n",
    "    url = (\n",
    "        'https://raw.githubusercontent.com/CSSEGISandData/COVID-19/master/csse_covid_19_data/'\n",
    "        f'csse_covid_19_time_series/time_series_covid19_{name}_global.csv')\n",
    "    df = pd.read_csv(url)\n",
    "    # rename countries\n",
    "    df['Country/Region'] = df['Country/Region'].replace(mapping['replace.country'])\n",
    "    return df"
   ]
  },
  {
   "cell_type": "code",
   "execution_count": 8,
   "metadata": {
    "execution": {
     "iopub.execute_input": "2020-11-26T00:10:12.892611Z",
     "iopub.status.busy": "2020-11-26T00:10:12.892037Z",
     "iopub.status.idle": "2020-11-26T00:10:12.894403Z",
     "shell.execute_reply": "2020-11-26T00:10:12.894926Z"
    },
    "papermill": {
     "duration": 0.048439,
     "end_time": "2020-11-26T00:10:12.895271",
     "exception": false,
     "start_time": "2020-11-26T00:10:12.846832",
     "status": "completed"
    },
    "tags": []
   },
   "outputs": [],
   "source": [
    "#hide\n",
    "def get_dates(df):\n",
    "    dt_cols = df.columns[~df.columns.isin(['Province/State', 'Country/Region', 'Lat', 'Long'])]\n",
    "    LAST_DATE_I = -1\n",
    "    # sometimes last column may be empty, then go backwards\n",
    "    for i in range(-1, -len(dt_cols), -1):\n",
    "        if not df[dt_cols[i]].fillna(0).eq(0).all():\n",
    "            LAST_DATE_I = i\n",
    "            break\n",
    "    return LAST_DATE_I, dt_cols"
   ]
  },
  {
   "cell_type": "code",
   "execution_count": 9,
   "metadata": {
    "execution": {
     "iopub.execute_input": "2020-11-26T00:10:12.958373Z",
     "iopub.status.busy": "2020-11-26T00:10:12.957697Z",
     "iopub.status.idle": "2020-11-26T00:10:13.332483Z",
     "shell.execute_reply": "2020-11-26T00:10:13.332029Z"
    },
    "papermill": {
     "duration": 0.408689,
     "end_time": "2020-11-26T00:10:13.332940",
     "exception": false,
     "start_time": "2020-11-26T00:10:12.924251",
     "status": "completed"
    },
    "tags": []
   },
   "outputs": [],
   "source": [
    "#hide\n",
    "COL_REGION = 'Country/Region'\n",
    "# Confirmed, Recovered, Deaths\n",
    "df = get_frame('confirmed')\n",
    "# dft_: timeseries, dfc_: today country agg\n",
    "dft_cases = df\n",
    "dft_deaths = get_frame('deaths')\n",
    "dft_recovered = get_frame('recovered')\n",
    "LAST_DATE_I, dt_cols = get_dates(df)"
   ]
  },
  {
   "cell_type": "code",
   "execution_count": 10,
   "metadata": {
    "execution": {
     "iopub.execute_input": "2020-11-26T00:10:13.405989Z",
     "iopub.status.busy": "2020-11-26T00:10:13.405469Z",
     "iopub.status.idle": "2020-11-26T00:10:13.407181Z",
     "shell.execute_reply": "2020-11-26T00:10:13.407776Z"
    },
    "papermill": {
     "duration": 0.040324,
     "end_time": "2020-11-26T00:10:13.407902",
     "exception": false,
     "start_time": "2020-11-26T00:10:13.367578",
     "status": "completed"
    },
    "tags": []
   },
   "outputs": [],
   "source": [
    "#hide\n",
    "LAST_DATE_I, dt_cols = get_dates(df)\n",
    "dt_today =dt_cols[LAST_DATE_I]\n",
    "# dt_5day = dt_cols[LAST_DATE_I - 5]\n",
    "dt_yday = dt_cols[LAST_DATE_I - 1]"
   ]
  },
  {
   "cell_type": "code",
   "execution_count": 11,
   "metadata": {
    "execution": {
     "iopub.execute_input": "2020-11-26T00:10:13.478605Z",
     "iopub.status.busy": "2020-11-26T00:10:13.478062Z",
     "iopub.status.idle": "2020-11-26T00:10:13.485060Z",
     "shell.execute_reply": "2020-11-26T00:10:13.484543Z"
    },
    "papermill": {
     "duration": 0.047414,
     "end_time": "2020-11-26T00:10:13.485188",
     "exception": false,
     "start_time": "2020-11-26T00:10:13.437774",
     "status": "completed"
    },
    "tags": []
   },
   "outputs": [],
   "source": [
    "#hide\n",
    "dfc_cases = dft_cases.groupby(COL_REGION)[dt_today].sum()\n",
    "dfc_deaths = dft_deaths.groupby(COL_REGION)[dt_today].sum()\n",
    "# dfp_cases = dft_cases.groupby(COL_REGION)[dt_5day].sum()\n",
    "# dfp_deaths = dft_deaths.groupby(COL_REGION)[dt_5day].sum()\n",
    "dfp_cases = dft_cases.groupby(COL_REGION)[dt_yday].sum()\n",
    "dfp_deaths = dft_deaths.groupby(COL_REGION)[dt_yday].sum()"
   ]
  },
  {
   "cell_type": "code",
   "execution_count": 12,
   "metadata": {
    "execution": {
     "iopub.execute_input": "2020-11-26T00:10:13.552844Z",
     "iopub.status.busy": "2020-11-26T00:10:13.552178Z",
     "iopub.status.idle": "2020-11-26T00:10:13.557386Z",
     "shell.execute_reply": "2020-11-26T00:10:13.557918Z"
    },
    "papermill": {
     "duration": 0.044635,
     "end_time": "2020-11-26T00:10:13.558045",
     "exception": false,
     "start_time": "2020-11-26T00:10:13.513410",
     "status": "completed"
    },
    "tags": []
   },
   "outputs": [],
   "source": [
    "#hide\n",
    "df_table = (pd.DataFrame(dict(Cases = dfc_cases, Deaths = dfc_deaths, PCases = dfp_cases, PDeaths = dfp_deaths))\n",
    "            .sort_values(by = ['Cases','Deaths'], ascending = [False, False])\n",
    "            .reset_index())"
   ]
  },
  {
   "cell_type": "code",
   "execution_count": 13,
   "metadata": {
    "execution": {
     "iopub.execute_input": "2020-11-26T00:10:13.639809Z",
     "iopub.status.busy": "2020-11-26T00:10:13.639098Z",
     "iopub.status.idle": "2020-11-26T00:10:13.646686Z",
     "shell.execute_reply": "2020-11-26T00:10:13.647237Z"
    },
    "papermill": {
     "duration": 0.060806,
     "end_time": "2020-11-26T00:10:13.647379",
     "exception": false,
     "start_time": "2020-11-26T00:10:13.586573",
     "status": "completed"
    },
    "tags": []
   },
   "outputs": [
    {
     "data": {
      "text/html": [
       "<div>\n",
       "<style scoped>\n",
       "    .dataframe tbody tr th:only-of-type {\n",
       "        vertical-align: middle;\n",
       "    }\n",
       "\n",
       "    .dataframe tbody tr th {\n",
       "        vertical-align: top;\n",
       "    }\n",
       "\n",
       "    .dataframe thead th {\n",
       "        text-align: right;\n",
       "    }\n",
       "</style>\n",
       "<table border=\"1\" class=\"dataframe\">\n",
       "  <thead>\n",
       "    <tr style=\"text-align: right;\">\n",
       "      <th></th>\n",
       "      <th>Country/Region</th>\n",
       "      <th>Cases</th>\n",
       "      <th>Deaths</th>\n",
       "      <th>PCases</th>\n",
       "      <th>PDeaths</th>\n",
       "      <th>Cases (+)</th>\n",
       "      <th>Deaths (+)</th>\n",
       "      <th>Fatality Rate</th>\n",
       "      <th>Continent</th>\n",
       "    </tr>\n",
       "  </thead>\n",
       "  <tbody>\n",
       "    <tr>\n",
       "      <th>0</th>\n",
       "      <td>US</td>\n",
       "      <td>12591163</td>\n",
       "      <td>259925</td>\n",
       "      <td>12418228</td>\n",
       "      <td>257779</td>\n",
       "      <td>172935</td>\n",
       "      <td>2146</td>\n",
       "      <td>2.06</td>\n",
       "      <td>North America</td>\n",
       "    </tr>\n",
       "    <tr>\n",
       "      <th>1</th>\n",
       "      <td>India</td>\n",
       "      <td>9222216</td>\n",
       "      <td>134699</td>\n",
       "      <td>9177840</td>\n",
       "      <td>134218</td>\n",
       "      <td>44376</td>\n",
       "      <td>481</td>\n",
       "      <td>1.46</td>\n",
       "      <td>Asia</td>\n",
       "    </tr>\n",
       "    <tr>\n",
       "      <th>2</th>\n",
       "      <td>Brazil</td>\n",
       "      <td>6118708</td>\n",
       "      <td>170115</td>\n",
       "      <td>6087608</td>\n",
       "      <td>169485</td>\n",
       "      <td>31100</td>\n",
       "      <td>630</td>\n",
       "      <td>2.78</td>\n",
       "      <td>South America</td>\n",
       "    </tr>\n",
       "    <tr>\n",
       "      <th>3</th>\n",
       "      <td>France</td>\n",
       "      <td>2206126</td>\n",
       "      <td>50324</td>\n",
       "      <td>2195940</td>\n",
       "      <td>49312</td>\n",
       "      <td>10186</td>\n",
       "      <td>1012</td>\n",
       "      <td>2.28</td>\n",
       "      <td>Europe</td>\n",
       "    </tr>\n",
       "    <tr>\n",
       "      <th>4</th>\n",
       "      <td>Russia</td>\n",
       "      <td>2120836</td>\n",
       "      <td>36675</td>\n",
       "      <td>2096749</td>\n",
       "      <td>36192</td>\n",
       "      <td>24087</td>\n",
       "      <td>483</td>\n",
       "      <td>1.73</td>\n",
       "      <td>Europe</td>\n",
       "    </tr>\n",
       "  </tbody>\n",
       "</table>\n",
       "</div>"
      ],
      "text/plain": [
       "  Country/Region     Cases  Deaths    PCases  PDeaths  Cases (+)  Deaths (+)  \\\n",
       "0             US  12591163  259925  12418228   257779     172935        2146   \n",
       "1          India   9222216  134699   9177840   134218      44376         481   \n",
       "2         Brazil   6118708  170115   6087608   169485      31100         630   \n",
       "3         France   2206126   50324   2195940    49312      10186        1012   \n",
       "4         Russia   2120836   36675   2096749    36192      24087         483   \n",
       "\n",
       "   Fatality Rate      Continent  \n",
       "0           2.06  North America  \n",
       "1           1.46           Asia  \n",
       "2           2.78  South America  \n",
       "3           2.28         Europe  \n",
       "4           1.73         Europe  "
      ]
     },
     "execution_count": 13,
     "metadata": {},
     "output_type": "execute_result"
    }
   ],
   "source": [
    "#hide\n",
    "for c in 'Cases, Deaths'.split(', '):\n",
    "    df_table[f'{c} (+)'] = (df_table[c] - df_table[f'P{c}']).clip(0)\n",
    "    #Clip ça veut dire, les chiffres negatif sont interdit\n",
    "df_table['Fatality Rate'] = (100* df_table['Deaths']/ df_table['Cases']).round(2)\n",
    "df_table['Continent'] = df_table['Country/Region'].map(mapping['map.continent'])\n",
    "df_table.head(5)"
   ]
  },
  {
   "cell_type": "code",
   "execution_count": 14,
   "metadata": {
    "execution": {
     "iopub.execute_input": "2020-11-26T00:10:13.716990Z",
     "iopub.status.busy": "2020-11-26T00:10:13.716453Z",
     "iopub.status.idle": "2020-11-26T00:10:13.718216Z",
     "shell.execute_reply": "2020-11-26T00:10:13.718722Z"
    },
    "papermill": {
     "duration": 0.043174,
     "end_time": "2020-11-26T00:10:13.718846",
     "exception": false,
     "start_time": "2020-11-26T00:10:13.675672",
     "status": "completed"
    },
    "tags": []
   },
   "outputs": [],
   "source": [
    "#hide\n",
    "#delete problematic countries from table\n",
    "df_table = df_table[~df_table['Country/Region'].isin(['Cape Verde', 'Cruise Ship', 'Kosovo'])]"
   ]
  },
  {
   "cell_type": "code",
   "execution_count": 15,
   "metadata": {
    "execution": {
     "iopub.execute_input": "2020-11-26T00:10:13.796499Z",
     "iopub.status.busy": "2020-11-26T00:10:13.795858Z",
     "iopub.status.idle": "2020-11-26T00:10:13.816819Z",
     "shell.execute_reply": "2020-11-26T00:10:13.816294Z"
    },
    "papermill": {
     "duration": 0.06194,
     "end_time": "2020-11-26T00:10:13.817144",
     "exception": false,
     "start_time": "2020-11-26T00:10:13.755204",
     "status": "completed"
    },
    "tags": []
   },
   "outputs": [
    {
     "data": {
      "text/html": [
       "<div>\n",
       "<style scoped>\n",
       "    .dataframe tbody tr th:only-of-type {\n",
       "        vertical-align: middle;\n",
       "    }\n",
       "\n",
       "    .dataframe tbody tr th {\n",
       "        vertical-align: top;\n",
       "    }\n",
       "\n",
       "    .dataframe thead th {\n",
       "        text-align: right;\n",
       "    }\n",
       "</style>\n",
       "<table border=\"1\" class=\"dataframe\">\n",
       "  <thead>\n",
       "    <tr style=\"text-align: right;\">\n",
       "      <th></th>\n",
       "      <th>Country/Region</th>\n",
       "      <th>Cases</th>\n",
       "      <th>Deaths</th>\n",
       "      <th>PCases</th>\n",
       "      <th>PDeaths</th>\n",
       "      <th>Cases (+)</th>\n",
       "      <th>Deaths (+)</th>\n",
       "      <th>Fatality Rate</th>\n",
       "      <th>Continent</th>\n",
       "    </tr>\n",
       "  </thead>\n",
       "  <tbody>\n",
       "    <tr>\n",
       "      <th>0</th>\n",
       "      <td>US</td>\n",
       "      <td>12591163</td>\n",
       "      <td>259925</td>\n",
       "      <td>12418228</td>\n",
       "      <td>257779</td>\n",
       "      <td>172935</td>\n",
       "      <td>2146</td>\n",
       "      <td>2.1</td>\n",
       "      <td>North America</td>\n",
       "    </tr>\n",
       "    <tr>\n",
       "      <th>1</th>\n",
       "      <td>India</td>\n",
       "      <td>9222216</td>\n",
       "      <td>134699</td>\n",
       "      <td>9177840</td>\n",
       "      <td>134218</td>\n",
       "      <td>44376</td>\n",
       "      <td>481</td>\n",
       "      <td>1.5</td>\n",
       "      <td>Asia</td>\n",
       "    </tr>\n",
       "    <tr>\n",
       "      <th>2</th>\n",
       "      <td>Brazil</td>\n",
       "      <td>6118708</td>\n",
       "      <td>170115</td>\n",
       "      <td>6087608</td>\n",
       "      <td>169485</td>\n",
       "      <td>31100</td>\n",
       "      <td>630</td>\n",
       "      <td>2.8</td>\n",
       "      <td>South America</td>\n",
       "    </tr>\n",
       "    <tr>\n",
       "      <th>3</th>\n",
       "      <td>France</td>\n",
       "      <td>2206126</td>\n",
       "      <td>50324</td>\n",
       "      <td>2195940</td>\n",
       "      <td>49312</td>\n",
       "      <td>10186</td>\n",
       "      <td>1012</td>\n",
       "      <td>2.3</td>\n",
       "      <td>Europe</td>\n",
       "    </tr>\n",
       "    <tr>\n",
       "      <th>4</th>\n",
       "      <td>Russia</td>\n",
       "      <td>2120836</td>\n",
       "      <td>36675</td>\n",
       "      <td>2096749</td>\n",
       "      <td>36192</td>\n",
       "      <td>24087</td>\n",
       "      <td>483</td>\n",
       "      <td>1.7</td>\n",
       "      <td>Europe</td>\n",
       "    </tr>\n",
       "  </tbody>\n",
       "</table>\n",
       "</div>"
      ],
      "text/plain": [
       "  Country/Region     Cases  Deaths    PCases  PDeaths  Cases (+)  Deaths (+)  \\\n",
       "0             US  12591163  259925  12418228   257779     172935        2146   \n",
       "1          India   9222216  134699   9177840   134218      44376         481   \n",
       "2         Brazil   6118708  170115   6087608   169485      31100         630   \n",
       "3         France   2206126   50324   2195940    49312      10186        1012   \n",
       "4         Russia   2120836   36675   2096749    36192      24087         483   \n",
       "\n",
       "   Fatality Rate      Continent  \n",
       "0            2.1  North America  \n",
       "1            1.5           Asia  \n",
       "2            2.8  South America  \n",
       "3            2.3         Europe  \n",
       "4            1.7         Europe  "
      ]
     },
     "execution_count": 15,
     "metadata": {},
     "output_type": "execute_result"
    }
   ],
   "source": [
    "#hide\n",
    "df_table = (pd.DataFrame(dict(Cases=dfc_cases, Deaths=dfc_deaths, PCases=dfp_cases, PDeaths=dfp_deaths))\n",
    "             .sort_values(by=['Cases', 'Deaths'], ascending=[False, False])\n",
    "             .reset_index())\n",
    "df_table.rename(columns={'index': 'Country/Region'}, inplace=True)\n",
    "for c in 'Cases, Deaths'.split(', '):\n",
    "    df_table[f'{c} (+)'] = (df_table[c] - df_table[f'P{c}']).clip(0)  # DATA BUG\n",
    "df_table['Fatality Rate'] = (100 * df_table['Deaths'] / df_table['Cases']).round(1)\n",
    "df_table['Continent'] = df_table['Country/Region'].map(mapping['map.continent'])\n",
    "df_table.head(5)"
   ]
  },
  {
   "cell_type": "code",
   "execution_count": 16,
   "metadata": {
    "execution": {
     "iopub.execute_input": "2020-11-26T00:10:13.889339Z",
     "iopub.status.busy": "2020-11-26T00:10:13.888759Z",
     "iopub.status.idle": "2020-11-26T00:10:13.893325Z",
     "shell.execute_reply": "2020-11-26T00:10:13.892773Z"
    },
    "papermill": {
     "duration": 0.043846,
     "end_time": "2020-11-26T00:10:13.893445",
     "exception": false,
     "start_time": "2020-11-26T00:10:13.849599",
     "status": "completed"
    },
    "tags": []
   },
   "outputs": [],
   "source": [
    "#hide\n",
    "#delete problematic countries from table\n",
    "df_table = df_table[~df_table['Country/Region'].isin(['Cape Verde', 'Cruise Ship', 'Kosovo'])]"
   ]
  },
  {
   "cell_type": "code",
   "execution_count": 17,
   "metadata": {
    "execution": {
     "iopub.execute_input": "2020-11-26T00:10:13.979358Z",
     "iopub.status.busy": "2020-11-26T00:10:13.978772Z",
     "iopub.status.idle": "2020-11-26T00:10:13.981382Z",
     "shell.execute_reply": "2020-11-26T00:10:13.980897Z"
    },
    "papermill": {
     "duration": 0.054014,
     "end_time": "2020-11-26T00:10:13.981502",
     "exception": false,
     "start_time": "2020-11-26T00:10:13.927488",
     "status": "completed"
    },
    "tags": []
   },
   "outputs": [],
   "source": [
    "#hide\n",
    "metrics = [df_table.columns[index] for index in [1,2,5,6]]\n",
    "# s_china = df_table[df_table['Country/Region'].eq('China')][metrics].sum().add_prefix('China ')\n",
    "s_us = df_table[df_table['Country/Region'].eq('US')][metrics].sum().add_prefix('US ')\n",
    "s_eu = df_table[df_table['Continent'].eq('Europe')][metrics].sum().add_prefix('EU ')\n",
    "s_ind = df_table[df_table['Country/Region'].eq('India')][metrics].sum().add_prefix('India ')\n",
    "summary = {'updated': pd.to_datetime(dt_today), 'since': pd.to_datetime(dt_yday)}\n",
    "summary = {'updated': pd.to_datetime(dt_today), 'since': pd.to_datetime(dt_yday)}\n",
    "summary = {**summary, **df_table[metrics].sum(), **s_ind, **s_us, **s_eu}"
   ]
  },
  {
   "cell_type": "code",
   "execution_count": 18,
   "metadata": {
    "execution": {
     "iopub.execute_input": "2020-11-26T00:10:14.058944Z",
     "iopub.status.busy": "2020-11-26T00:10:14.058339Z",
     "iopub.status.idle": "2020-11-26T00:10:14.068326Z",
     "shell.execute_reply": "2020-11-26T00:10:14.066568Z"
    },
    "papermill": {
     "duration": 0.052872,
     "end_time": "2020-11-26T00:10:14.068501",
     "exception": false,
     "start_time": "2020-11-26T00:10:14.015629",
     "status": "completed"
    },
    "tags": []
   },
   "outputs": [],
   "source": [
    "#hide\n",
    "dft_ct_new_cases = dft_cases.groupby(COL_REGION)[dt_cols].sum().diff(axis=1).fillna(0).astype(int)"
   ]
  },
  {
   "cell_type": "code",
   "execution_count": 19,
   "metadata": {
    "execution": {
     "iopub.execute_input": "2020-11-26T00:10:14.141341Z",
     "iopub.status.busy": "2020-11-26T00:10:14.140680Z",
     "iopub.status.idle": "2020-11-26T00:10:14.143607Z",
     "shell.execute_reply": "2020-11-26T00:10:14.142740Z"
    },
    "papermill": {
     "duration": 0.040711,
     "end_time": "2020-11-26T00:10:14.143758",
     "exception": false,
     "start_time": "2020-11-26T00:10:14.103047",
     "status": "completed"
    },
    "tags": []
   },
   "outputs": [],
   "source": [
    "#hide\n",
    "everydaycases = dft_ct_new_cases.cumsum(axis=1)"
   ]
  },
  {
   "cell_type": "code",
   "execution_count": 20,
   "metadata": {
    "execution": {
     "iopub.execute_input": "2020-11-26T00:10:14.219380Z",
     "iopub.status.busy": "2020-11-26T00:10:14.218605Z",
     "iopub.status.idle": "2020-11-26T00:10:15.201952Z",
     "shell.execute_reply": "2020-11-26T00:10:15.201423Z"
    },
    "papermill": {
     "duration": 1.024135,
     "end_time": "2020-11-26T00:10:15.202091",
     "exception": false,
     "start_time": "2020-11-26T00:10:14.177956",
     "status": "completed"
    },
    "tags": []
   },
   "outputs": [],
   "source": [
    "#hide\n",
    "import pandas as pd\n",
    "import matplotlib.pyplot as plt\n",
    "import matplotlib.ticker as ticker\n",
    "import matplotlib.animation as animation\n",
    "from IPython.display import HTML"
   ]
  },
  {
   "cell_type": "code",
   "execution_count": 21,
   "metadata": {
    "execution": {
     "iopub.execute_input": "2020-11-26T00:10:15.273249Z",
     "iopub.status.busy": "2020-11-26T00:10:15.272555Z",
     "iopub.status.idle": "2020-11-26T00:10:15.277793Z",
     "shell.execute_reply": "2020-11-26T00:10:15.278324Z"
    },
    "papermill": {
     "duration": 0.043713,
     "end_time": "2020-11-26T00:10:15.278511",
     "exception": false,
     "start_time": "2020-11-26T00:10:15.234798",
     "status": "completed"
    },
    "tags": []
   },
   "outputs": [],
   "source": [
    "#hide\n",
    "t = everydaycases.stack()"
   ]
  },
  {
   "cell_type": "code",
   "execution_count": 22,
   "metadata": {
    "execution": {
     "iopub.execute_input": "2020-11-26T00:10:15.354926Z",
     "iopub.status.busy": "2020-11-26T00:10:15.354337Z",
     "iopub.status.idle": "2020-11-26T00:10:15.361518Z",
     "shell.execute_reply": "2020-11-26T00:10:15.360963Z"
    },
    "papermill": {
     "duration": 0.048285,
     "end_time": "2020-11-26T00:10:15.361645",
     "exception": false,
     "start_time": "2020-11-26T00:10:15.313360",
     "status": "completed"
    },
    "tags": []
   },
   "outputs": [],
   "source": [
    "#hide\n",
    "g = t.reset_index(['Country/Region'])"
   ]
  },
  {
   "cell_type": "code",
   "execution_count": 23,
   "metadata": {
    "execution": {
     "iopub.execute_input": "2020-11-26T00:10:15.426116Z",
     "iopub.status.busy": "2020-11-26T00:10:15.425465Z",
     "iopub.status.idle": "2020-11-26T00:10:15.432426Z",
     "shell.execute_reply": "2020-11-26T00:10:15.431939Z"
    },
    "papermill": {
     "duration": 0.040578,
     "end_time": "2020-11-26T00:10:15.432546",
     "exception": false,
     "start_time": "2020-11-26T00:10:15.391968",
     "status": "completed"
    },
    "tags": []
   },
   "outputs": [],
   "source": [
    "#hide\n",
    "g.index.name = 'date'"
   ]
  },
  {
   "cell_type": "code",
   "execution_count": 24,
   "metadata": {
    "execution": {
     "iopub.execute_input": "2020-11-26T00:10:15.506067Z",
     "iopub.status.busy": "2020-11-26T00:10:15.504643Z",
     "iopub.status.idle": "2020-11-26T00:10:15.507000Z",
     "shell.execute_reply": "2020-11-26T00:10:15.507534Z"
    },
    "papermill": {
     "duration": 0.039229,
     "end_time": "2020-11-26T00:10:15.507660",
     "exception": false,
     "start_time": "2020-11-26T00:10:15.468431",
     "status": "completed"
    },
    "tags": []
   },
   "outputs": [],
   "source": [
    "# #hide\n",
    "# g = g.reset_index(['date'])"
   ]
  },
  {
   "cell_type": "code",
   "execution_count": 25,
   "metadata": {
    "execution": {
     "iopub.execute_input": "2020-11-26T00:10:15.572837Z",
     "iopub.status.busy": "2020-11-26T00:10:15.572009Z",
     "iopub.status.idle": "2020-11-26T00:10:15.573707Z",
     "shell.execute_reply": "2020-11-26T00:10:15.574410Z"
    },
    "papermill": {
     "duration": 0.035171,
     "end_time": "2020-11-26T00:10:15.574545",
     "exception": false,
     "start_time": "2020-11-26T00:10:15.539374",
     "status": "completed"
    },
    "tags": []
   },
   "outputs": [],
   "source": [
    "#hide\n",
    "# g.head()"
   ]
  },
  {
   "cell_type": "code",
   "execution_count": 26,
   "metadata": {
    "execution": {
     "iopub.execute_input": "2020-11-26T00:10:15.640616Z",
     "iopub.status.busy": "2020-11-26T00:10:15.640007Z",
     "iopub.status.idle": "2020-11-26T00:10:15.641717Z",
     "shell.execute_reply": "2020-11-26T00:10:15.642202Z"
    },
    "papermill": {
     "duration": 0.036056,
     "end_time": "2020-11-26T00:10:15.642324",
     "exception": false,
     "start_time": "2020-11-26T00:10:15.606268",
     "status": "completed"
    },
    "tags": []
   },
   "outputs": [],
   "source": [
    "#hide\n",
    "# g.columns = ['date','country','cases']"
   ]
  },
  {
   "cell_type": "code",
   "execution_count": 27,
   "metadata": {
    "execution": {
     "iopub.execute_input": "2020-11-26T00:10:15.711252Z",
     "iopub.status.busy": "2020-11-26T00:10:15.710506Z",
     "iopub.status.idle": "2020-11-26T00:10:15.713513Z",
     "shell.execute_reply": "2020-11-26T00:10:15.712926Z"
    },
    "papermill": {
     "duration": 0.042237,
     "end_time": "2020-11-26T00:10:15.713759",
     "exception": false,
     "start_time": "2020-11-26T00:10:15.671522",
     "status": "completed"
    },
    "tags": []
   },
   "outputs": [],
   "source": [
    "#hide\n",
    "# g['continent'] = g.country"
   ]
  },
  {
   "cell_type": "code",
   "execution_count": 28,
   "metadata": {
    "execution": {
     "iopub.execute_input": "2020-11-26T00:10:15.786649Z",
     "iopub.status.busy": "2020-11-26T00:10:15.785877Z",
     "iopub.status.idle": "2020-11-26T00:10:15.788498Z",
     "shell.execute_reply": "2020-11-26T00:10:15.789020Z"
    },
    "papermill": {
     "duration": 0.039273,
     "end_time": "2020-11-26T00:10:15.789168",
     "exception": false,
     "start_time": "2020-11-26T00:10:15.749895",
     "status": "completed"
    },
    "tags": []
   },
   "outputs": [],
   "source": [
    "#hide\n",
    "# cols = list(g.columns.values)"
   ]
  },
  {
   "cell_type": "code",
   "execution_count": 29,
   "metadata": {
    "execution": {
     "iopub.execute_input": "2020-11-26T00:10:15.865053Z",
     "iopub.status.busy": "2020-11-26T00:10:15.864392Z",
     "iopub.status.idle": "2020-11-26T00:10:15.866330Z",
     "shell.execute_reply": "2020-11-26T00:10:15.866945Z"
    },
    "papermill": {
     "duration": 0.042302,
     "end_time": "2020-11-26T00:10:15.867135",
     "exception": false,
     "start_time": "2020-11-26T00:10:15.824833",
     "status": "completed"
    },
    "tags": []
   },
   "outputs": [],
   "source": [
    "#hide\n",
    "# cols.insert(0, cols.pop())"
   ]
  },
  {
   "cell_type": "code",
   "execution_count": 30,
   "metadata": {
    "execution": {
     "iopub.execute_input": "2020-11-26T00:10:15.944541Z",
     "iopub.status.busy": "2020-11-26T00:10:15.943884Z",
     "iopub.status.idle": "2020-11-26T00:10:15.946506Z",
     "shell.execute_reply": "2020-11-26T00:10:15.945973Z"
    },
    "papermill": {
     "duration": 0.044943,
     "end_time": "2020-11-26T00:10:15.946634",
     "exception": false,
     "start_time": "2020-11-26T00:10:15.901691",
     "status": "completed"
    },
    "tags": []
   },
   "outputs": [],
   "source": [
    "#hide\n",
    "# g = g[cols]"
   ]
  },
  {
   "cell_type": "code",
   "execution_count": 31,
   "metadata": {
    "execution": {
     "iopub.execute_input": "2020-11-26T00:10:16.025623Z",
     "iopub.status.busy": "2020-11-26T00:10:16.025066Z",
     "iopub.status.idle": "2020-11-26T00:10:16.026818Z",
     "shell.execute_reply": "2020-11-26T00:10:16.027279Z"
    },
    "papermill": {
     "duration": 0.042573,
     "end_time": "2020-11-26T00:10:16.027414",
     "exception": false,
     "start_time": "2020-11-26T00:10:15.984841",
     "status": "completed"
    },
    "tags": []
   },
   "outputs": [],
   "source": [
    "#hide\n",
    "# g['continent'] = g['continent'].map(mapping['map.continent'])"
   ]
  },
  {
   "cell_type": "code",
   "execution_count": 32,
   "metadata": {
    "execution": {
     "iopub.execute_input": "2020-11-26T00:10:16.104854Z",
     "iopub.status.busy": "2020-11-26T00:10:16.103878Z",
     "iopub.status.idle": "2020-11-26T00:10:16.106702Z",
     "shell.execute_reply": "2020-11-26T00:10:16.106070Z"
    },
    "papermill": {
     "duration": 0.04803,
     "end_time": "2020-11-26T00:10:16.106893",
     "exception": false,
     "start_time": "2020-11-26T00:10:16.058863",
     "status": "completed"
    },
    "tags": []
   },
   "outputs": [],
   "source": [
    "#hide\n",
    "# g.head()"
   ]
  },
  {
   "cell_type": "code",
   "execution_count": 33,
   "metadata": {
    "execution": {
     "iopub.execute_input": "2020-11-26T00:10:16.279694Z",
     "iopub.status.busy": "2020-11-26T00:10:16.278838Z",
     "iopub.status.idle": "2020-11-26T00:10:16.282948Z",
     "shell.execute_reply": "2020-11-26T00:10:16.283364Z"
    },
    "papermill": {
     "duration": 0.043089,
     "end_time": "2020-11-26T00:10:16.283510",
     "exception": false,
     "start_time": "2020-11-26T00:10:16.240421",
     "status": "completed"
    },
    "tags": []
   },
   "outputs": [],
   "source": [
    "# hide\n",
    "# g['date'] = g['date'].astype('datetime64[ns]')"
   ]
  },
  {
   "cell_type": "code",
   "execution_count": 34,
   "metadata": {
    "execution": {
     "iopub.execute_input": "2020-11-26T00:10:16.350381Z",
     "iopub.status.busy": "2020-11-26T00:10:16.349776Z",
     "iopub.status.idle": "2020-11-26T00:10:16.352077Z",
     "shell.execute_reply": "2020-11-26T00:10:16.351588Z"
    },
    "papermill": {
     "duration": 0.036734,
     "end_time": "2020-11-26T00:10:16.352236",
     "exception": false,
     "start_time": "2020-11-26T00:10:16.315502",
     "status": "completed"
    },
    "tags": []
   },
   "outputs": [],
   "source": [
    "#hide\n",
    "# g['date'] = g.date.dt.dayofyear"
   ]
  },
  {
   "cell_type": "code",
   "execution_count": 35,
   "metadata": {
    "execution": {
     "iopub.execute_input": "2020-11-26T00:10:16.428104Z",
     "iopub.status.busy": "2020-11-26T00:10:16.427470Z",
     "iopub.status.idle": "2020-11-26T00:10:16.430135Z",
     "shell.execute_reply": "2020-11-26T00:10:16.429541Z"
    },
    "papermill": {
     "duration": 0.037325,
     "end_time": "2020-11-26T00:10:16.430252",
     "exception": false,
     "start_time": "2020-11-26T00:10:16.392927",
     "status": "completed"
    },
    "tags": []
   },
   "outputs": [],
   "source": [
    "#hide\n",
    "# g = g.rename(columns= {'continent':'group','country':'name','cases':'value'})"
   ]
  },
  {
   "cell_type": "code",
   "execution_count": 36,
   "metadata": {
    "execution": {
     "iopub.execute_input": "2020-11-26T00:10:16.498052Z",
     "iopub.status.busy": "2020-11-26T00:10:16.497388Z",
     "iopub.status.idle": "2020-11-26T00:10:16.500231Z",
     "shell.execute_reply": "2020-11-26T00:10:16.499788Z"
    },
    "papermill": {
     "duration": 0.040049,
     "end_time": "2020-11-26T00:10:16.500344",
     "exception": false,
     "start_time": "2020-11-26T00:10:16.460295",
     "status": "completed"
    },
    "tags": []
   },
   "outputs": [],
   "source": [
    "#hide\n",
    "# cols = ['name','group','day','value']"
   ]
  },
  {
   "cell_type": "code",
   "execution_count": 37,
   "metadata": {
    "execution": {
     "iopub.execute_input": "2020-11-26T00:10:16.575769Z",
     "iopub.status.busy": "2020-11-26T00:10:16.575138Z",
     "iopub.status.idle": "2020-11-26T00:10:16.577611Z",
     "shell.execute_reply": "2020-11-26T00:10:16.577087Z"
    },
    "papermill": {
     "duration": 0.043466,
     "end_time": "2020-11-26T00:10:16.577730",
     "exception": false,
     "start_time": "2020-11-26T00:10:16.534264",
     "status": "completed"
    },
    "tags": []
   },
   "outputs": [],
   "source": [
    "#hide\n",
    "# g.rename(columns= {'date':'day'},inplace = True)"
   ]
  },
  {
   "cell_type": "code",
   "execution_count": 38,
   "metadata": {
    "execution": {
     "iopub.execute_input": "2020-11-26T00:10:16.649226Z",
     "iopub.status.busy": "2020-11-26T00:10:16.648619Z",
     "iopub.status.idle": "2020-11-26T00:10:16.650464Z",
     "shell.execute_reply": "2020-11-26T00:10:16.650922Z"
    },
    "papermill": {
     "duration": 0.039011,
     "end_time": "2020-11-26T00:10:16.651053",
     "exception": false,
     "start_time": "2020-11-26T00:10:16.612042",
     "status": "completed"
    },
    "tags": []
   },
   "outputs": [],
   "source": [
    "#hide\n",
    "# g = g[cols]"
   ]
  },
  {
   "cell_type": "code",
   "execution_count": 39,
   "metadata": {
    "execution": {
     "iopub.execute_input": "2020-11-26T00:10:16.716581Z",
     "iopub.status.busy": "2020-11-26T00:10:16.715942Z",
     "iopub.status.idle": "2020-11-26T00:10:16.718376Z",
     "shell.execute_reply": "2020-11-26T00:10:16.717864Z"
    },
    "papermill": {
     "duration": 0.038271,
     "end_time": "2020-11-26T00:10:16.718565",
     "exception": false,
     "start_time": "2020-11-26T00:10:16.680294",
     "status": "completed"
    },
    "tags": []
   },
   "outputs": [],
   "source": [
    "# #hide\n",
    "# g = g[g.group.notna()]"
   ]
  },
  {
   "cell_type": "code",
   "execution_count": 40,
   "metadata": {
    "execution": {
     "iopub.execute_input": "2020-11-26T00:10:16.785990Z",
     "iopub.status.busy": "2020-11-26T00:10:16.785106Z",
     "iopub.status.idle": "2020-11-26T00:10:16.787532Z",
     "shell.execute_reply": "2020-11-26T00:10:16.788016Z"
    },
    "papermill": {
     "duration": 0.038637,
     "end_time": "2020-11-26T00:10:16.788147",
     "exception": false,
     "start_time": "2020-11-26T00:10:16.749510",
     "status": "completed"
    },
    "tags": []
   },
   "outputs": [],
   "source": [
    "# #hide\n",
    "# colors = dict(zip(\n",
    "#     [\"Oceania\", \"Europe\", \"Asia\", \"South America\", \"Middle East\", \"North America\", \"Africa\"],\n",
    "#     [\"#adb0ff\", \"#ffb3ff\", \"#90d595\", \"#e48381\", \"#aafbff\", \"#f7bb5f\", \"#eafb50\"]\n",
    "# ))\n",
    "# group_lk = g.set_index('name')['group'].to_dict()"
   ]
  },
  {
   "cell_type": "code",
   "execution_count": null,
   "metadata": {
    "papermill": {
     "duration": 0.030117,
     "end_time": "2020-11-26T00:10:16.856569",
     "exception": false,
     "start_time": "2020-11-26T00:10:16.826452",
     "status": "completed"
    },
    "tags": []
   },
   "outputs": [],
   "source": []
  },
  {
   "cell_type": "code",
   "execution_count": 41,
   "metadata": {
    "execution": {
     "iopub.execute_input": "2020-11-26T00:10:16.931090Z",
     "iopub.status.busy": "2020-11-26T00:10:16.930289Z",
     "iopub.status.idle": "2020-11-26T00:10:16.932653Z",
     "shell.execute_reply": "2020-11-26T00:10:16.932085Z"
    },
    "papermill": {
     "duration": 0.040823,
     "end_time": "2020-11-26T00:10:16.932772",
     "exception": false,
     "start_time": "2020-11-26T00:10:16.891949",
     "status": "completed"
    },
    "tags": []
   },
   "outputs": [],
   "source": [
    "# #hide\n",
    "# fig, ax = plt.subplots(figsize=(15, 8))\n",
    "\n",
    "# def draw_barchart(current_day):\n",
    "#     dff = g[g['day'].eq(current_day)].sort_values(by='value', ascending=True).tail(10)\n",
    "#     ax.clear()\n",
    "#     ax.barh(dff['name'], dff['value'], color=[colors[group_lk[x]] for x in dff['name']])\n",
    "#     dx = dff['value'].max() / 200\n",
    "    \n",
    "#     for i, (value, name) in enumerate(zip(dff['value'], dff['name'])):\n",
    "#         ax.text(value-dx, i,     name,           size=14, weight=600, ha='right', va='bottom')\n",
    "#         ax.text(value-dx, i-.25, group_lk[name], size=10, color='#444444', ha='right', va='baseline')\n",
    "#         ax.text(value+dx, i,     f'{value:,.0f}',  size=14, ha='left',  va='center')\n",
    "#     ax.text(1, 0.4, current_day, transform=ax.transAxes, color='#777777', size=46, ha='right', weight=800)\n",
    "#     ax.text(0, 1.06, 'Population (thousands)', transform=ax.transAxes, size=12, color='#777777')\n",
    "#     ax.xaxis.set_major_formatter(ticker.StrMethodFormatter('{x:,.0f}'))\n",
    "#     ax.xaxis.set_ticks_position('top')\n",
    "#     ax.tick_params(axis='x', colors='#777777', labelsize=12)\n",
    "#     ax.set_yticks([])\n",
    "#     ax.margins(0, 0.01)\n",
    "#     ax.grid(which='major', axis='x', linestyle='-')\n",
    "#     ax.set_axisbelow(True)\n",
    "    \n",
    "#     ax.text(0, 1.15, 'Coronavirus',\n",
    "#             transform=ax.transAxes, size=24, weight=600, ha='left', va='top')\n",
    "# #     ax.text(1, 0, 'by @pratapvardhan; credit @jburnmurdoch', transform=ax.transAxes, color='#777777', ha='right',\n",
    "# #             bbox=dict(facecolor='white', alpha=0.8, edgecolor='white'))\n",
    "#     plt.box(False)"
   ]
  },
  {
   "cell_type": "code",
   "execution_count": 42,
   "metadata": {
    "execution": {
     "iopub.execute_input": "2020-11-26T00:10:17.004111Z",
     "iopub.status.busy": "2020-11-26T00:10:17.003563Z",
     "iopub.status.idle": "2020-11-26T00:10:17.006142Z",
     "shell.execute_reply": "2020-11-26T00:10:17.006847Z"
    },
    "papermill": {
     "duration": 0.043151,
     "end_time": "2020-11-26T00:10:17.007011",
     "exception": false,
     "start_time": "2020-11-26T00:10:16.963860",
     "status": "completed"
    },
    "tags": []
   },
   "outputs": [],
   "source": [
    "# #hide_input\n",
    "# fig, ax = plt.subplots(figsize=(15, 8))\n",
    "# animator = animation.FuncAnimation(fig, draw_barchart, frames=range(g.day.values.min(), g.day.values.max()))\n",
    "# HTML(animator.to_jshtml())\n",
    "# # or use animator.to_html5_video() or animator.save() "
   ]
  },
  {
   "cell_type": "code",
   "execution_count": null,
   "metadata": {
    "papermill": {
     "duration": 0.031755,
     "end_time": "2020-11-26T00:10:17.073188",
     "exception": false,
     "start_time": "2020-11-26T00:10:17.041433",
     "status": "completed"
    },
    "tags": []
   },
   "outputs": [],
   "source": []
  },
  {
   "cell_type": "code",
   "execution_count": null,
   "metadata": {
    "papermill": {
     "duration": 0.03119,
     "end_time": "2020-11-26T00:10:17.135843",
     "exception": false,
     "start_time": "2020-11-26T00:10:17.104653",
     "status": "completed"
    },
    "tags": []
   },
   "outputs": [],
   "source": []
  },
  {
   "cell_type": "code",
   "execution_count": null,
   "metadata": {
    "papermill": {
     "duration": 0.031855,
     "end_time": "2020-11-26T00:10:17.198263",
     "exception": false,
     "start_time": "2020-11-26T00:10:17.166408",
     "status": "completed"
    },
    "tags": []
   },
   "outputs": [],
   "source": []
  }
 ],
 "metadata": {
  "kernelspec": {
   "display_name": "Python 3",
   "language": "python",
   "name": "python3"
  },
  "language_info": {
   "codemirror_mode": {
    "name": "ipython",
    "version": 3
   },
   "file_extension": ".py",
   "mimetype": "text/x-python",
   "name": "python",
   "nbconvert_exporter": "python",
   "pygments_lexer": "ipython3",
   "version": "3.6.12"
  },
  "papermill": {
   "duration": 6.749011,
   "end_time": "2020-11-26T00:10:17.538623",
   "environment_variables": {},
   "exception": null,
   "input_path": "2020-03-21-covid19exp.ipynb",
   "output_path": "2020-03-21-covid19exp.ipynb",
   "parameters": {},
   "start_time": "2020-11-26T00:10:10.789612",
   "version": "2.0.0"
  }
 },
 "nbformat": 4,
 "nbformat_minor": 4
}