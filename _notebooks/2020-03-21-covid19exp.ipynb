{
 "cells": [
  {
   "cell_type": "markdown",
   "id": "muslim-click",
   "metadata": {
    "papermill": {
     "duration": 0.038441,
     "end_time": "2021-05-24T12:12:01.497465",
     "exception": false,
     "start_time": "2021-05-24T12:12:01.459024",
     "status": "completed"
    },
    "tags": []
   },
   "source": [
    "# COVID-19 Case Race\n",
    "> A race chart to see rising cases around the world\n",
    "\n",
    "- author: Hargun Oberoi\n",
    "- image: images/covid-overview.png\n",
    "- hide: false\n",
    "- badges: false"
   ]
  },
  {
   "cell_type": "code",
   "execution_count": 1,
   "id": "proof-material",
   "metadata": {
    "execution": {
     "iopub.execute_input": "2021-05-24T12:12:01.579248Z",
     "iopub.status.busy": "2021-05-24T12:12:01.578629Z",
     "iopub.status.idle": "2021-05-24T12:12:01.946008Z",
     "shell.execute_reply": "2021-05-24T12:12:01.945060Z"
    },
    "papermill": {
     "duration": 0.414482,
     "end_time": "2021-05-24T12:12:01.946232",
     "exception": false,
     "start_time": "2021-05-24T12:12:01.531750",
     "status": "completed"
    },
    "tags": []
   },
   "outputs": [],
   "source": [
    "#hide\n",
    "import numpy as np\n",
    "import pandas as pd\n",
    "from jinja2 import Template\n",
    "from IPython.display import HTML"
   ]
  },
  {
   "cell_type": "code",
   "execution_count": 2,
   "id": "developed-terminology",
   "metadata": {
    "execution": {
     "iopub.execute_input": "2021-05-24T12:12:02.021223Z",
     "iopub.status.busy": "2021-05-24T12:12:02.020581Z",
     "iopub.status.idle": "2021-05-24T12:12:02.022000Z",
     "shell.execute_reply": "2021-05-24T12:12:02.022530Z"
    },
    "papermill": {
     "duration": 0.041659,
     "end_time": "2021-05-24T12:12:02.022678",
     "exception": false,
     "start_time": "2021-05-24T12:12:01.981019",
     "status": "completed"
    },
    "tags": []
   },
   "outputs": [],
   "source": [
    "#hide\n",
    "\n",
    "# FETCH\n",
    "base_url = 'https://raw.githubusercontent.com/pratapvardhan/notebooks/master/covid19/'\n",
    "paths = {\n",
    "    'mapping': base_url + 'mapping_countries.csv',\n",
    "    'overview': base_url + 'overview.tpl'\n",
    "}"
   ]
  },
  {
   "cell_type": "code",
   "execution_count": 3,
   "id": "dynamic-saver",
   "metadata": {
    "execution": {
     "iopub.execute_input": "2021-05-24T12:12:02.104807Z",
     "iopub.status.busy": "2021-05-24T12:12:02.103621Z",
     "iopub.status.idle": "2021-05-24T12:12:02.108053Z",
     "shell.execute_reply": "2021-05-24T12:12:02.107557Z"
    },
    "papermill": {
     "duration": 0.051789,
     "end_time": "2021-05-24T12:12:02.108178",
     "exception": false,
     "start_time": "2021-05-24T12:12:02.056389",
     "status": "completed"
    },
    "tags": []
   },
   "outputs": [
    {
     "data": {
      "text/plain": [
       "'https://raw.githubusercontent.com/pratapvardhan/notebooks/master/covid19/mapping_countries.csv'"
      ]
     },
     "execution_count": 3,
     "metadata": {},
     "output_type": "execute_result"
    }
   ],
   "source": [
    "#hide\n",
    "paths['mapping']"
   ]
  },
  {
   "cell_type": "code",
   "execution_count": 4,
   "id": "urban-software",
   "metadata": {
    "execution": {
     "iopub.execute_input": "2021-05-24T12:12:02.184748Z",
     "iopub.status.busy": "2021-05-24T12:12:02.184151Z",
     "iopub.status.idle": "2021-05-24T12:12:02.186340Z",
     "shell.execute_reply": "2021-05-24T12:12:02.185883Z"
    },
    "papermill": {
     "duration": 0.043811,
     "end_time": "2021-05-24T12:12:02.186453",
     "exception": false,
     "start_time": "2021-05-24T12:12:02.142642",
     "status": "completed"
    },
    "tags": []
   },
   "outputs": [],
   "source": [
    "#hide\n",
    "def get_mappings(url):\n",
    "    df = pd.read_csv(url)\n",
    "    return {\n",
    "        'df': df,\n",
    "        'replace.country': dict(df.dropna(subset=['Name']).set_index('Country')['Name']),\n",
    "        'map.continent': dict(df.set_index('Name')['Continent'])\n",
    "    }"
   ]
  },
  {
   "cell_type": "code",
   "execution_count": 5,
   "id": "intimate-machinery",
   "metadata": {
    "execution": {
     "iopub.execute_input": "2021-05-24T12:12:02.259797Z",
     "iopub.status.busy": "2021-05-24T12:12:02.259215Z",
     "iopub.status.idle": "2021-05-24T12:12:02.291187Z",
     "shell.execute_reply": "2021-05-24T12:12:02.290112Z"
    },
    "papermill": {
     "duration": 0.071139,
     "end_time": "2021-05-24T12:12:02.291320",
     "exception": false,
     "start_time": "2021-05-24T12:12:02.220181",
     "status": "completed"
    },
    "tags": []
   },
   "outputs": [],
   "source": [
    "#hide\n",
    "mapping = get_mappings(paths['mapping'])"
   ]
  },
  {
   "cell_type": "code",
   "execution_count": 6,
   "id": "certified-tactics",
   "metadata": {
    "execution": {
     "iopub.execute_input": "2021-05-24T12:12:02.366417Z",
     "iopub.status.busy": "2021-05-24T12:12:02.365815Z",
     "iopub.status.idle": "2021-05-24T12:12:02.367242Z",
     "shell.execute_reply": "2021-05-24T12:12:02.367731Z"
    },
    "papermill": {
     "duration": 0.042506,
     "end_time": "2021-05-24T12:12:02.367869",
     "exception": false,
     "start_time": "2021-05-24T12:12:02.325363",
     "status": "completed"
    },
    "tags": []
   },
   "outputs": [],
   "source": [
    "#hide\n",
    "def get_template(path):\n",
    "    from urllib.parse import urlparse\n",
    "    if bool(urlparse(path).netloc):\n",
    "        from urllib.request import urlopen\n",
    "        return urlopen(path).read().decode('utf8')\n",
    "    return open(path).read()"
   ]
  },
  {
   "cell_type": "code",
   "execution_count": 7,
   "id": "realistic-blast",
   "metadata": {
    "execution": {
     "iopub.execute_input": "2021-05-24T12:12:02.442136Z",
     "iopub.status.busy": "2021-05-24T12:12:02.441540Z",
     "iopub.status.idle": "2021-05-24T12:12:02.444376Z",
     "shell.execute_reply": "2021-05-24T12:12:02.444896Z"
    },
    "papermill": {
     "duration": 0.043587,
     "end_time": "2021-05-24T12:12:02.445054",
     "exception": false,
     "start_time": "2021-05-24T12:12:02.401467",
     "status": "completed"
    },
    "tags": []
   },
   "outputs": [],
   "source": [
    "#hide\n",
    "def get_frame(name):\n",
    "    url = (\n",
    "        'https://raw.githubusercontent.com/CSSEGISandData/COVID-19/master/csse_covid_19_data/'\n",
    "        f'csse_covid_19_time_series/time_series_covid19_{name}_global.csv')\n",
    "    df = pd.read_csv(url)\n",
    "    # rename countries\n",
    "    df['Country/Region'] = df['Country/Region'].replace(mapping['replace.country'])\n",
    "    return df"
   ]
  },
  {
   "cell_type": "code",
   "execution_count": 8,
   "id": "affiliated-characterization",
   "metadata": {
    "execution": {
     "iopub.execute_input": "2021-05-24T12:12:02.520988Z",
     "iopub.status.busy": "2021-05-24T12:12:02.520391Z",
     "iopub.status.idle": "2021-05-24T12:12:02.522172Z",
     "shell.execute_reply": "2021-05-24T12:12:02.522641Z"
    },
    "papermill": {
     "duration": 0.043775,
     "end_time": "2021-05-24T12:12:02.522784",
     "exception": false,
     "start_time": "2021-05-24T12:12:02.479009",
     "status": "completed"
    },
    "tags": []
   },
   "outputs": [],
   "source": [
    "#hide\n",
    "def get_dates(df):\n",
    "    dt_cols = df.columns[~df.columns.isin(['Province/State', 'Country/Region', 'Lat', 'Long'])]\n",
    "    LAST_DATE_I = -1\n",
    "    # sometimes last column may be empty, then go backwards\n",
    "    for i in range(-1, -len(dt_cols), -1):\n",
    "        if not df[dt_cols[i]].fillna(0).eq(0).all():\n",
    "            LAST_DATE_I = i\n",
    "            break\n",
    "    return LAST_DATE_I, dt_cols"
   ]
  },
  {
   "cell_type": "code",
   "execution_count": 9,
   "id": "recent-optimization",
   "metadata": {
    "execution": {
     "iopub.execute_input": "2021-05-24T12:12:02.595457Z",
     "iopub.status.busy": "2021-05-24T12:12:02.594912Z",
     "iopub.status.idle": "2021-05-24T12:12:02.885497Z",
     "shell.execute_reply": "2021-05-24T12:12:02.884911Z"
    },
    "papermill": {
     "duration": 0.329619,
     "end_time": "2021-05-24T12:12:02.885631",
     "exception": false,
     "start_time": "2021-05-24T12:12:02.556012",
     "status": "completed"
    },
    "tags": []
   },
   "outputs": [],
   "source": [
    "#hide\n",
    "COL_REGION = 'Country/Region'\n",
    "# Confirmed, Recovered, Deaths\n",
    "df = get_frame('confirmed')\n",
    "# dft_: timeseries, dfc_: today country agg\n",
    "dft_cases = df\n",
    "dft_deaths = get_frame('deaths')\n",
    "dft_recovered = get_frame('recovered')\n",
    "LAST_DATE_I, dt_cols = get_dates(df)"
   ]
  },
  {
   "cell_type": "code",
   "execution_count": 10,
   "id": "absolute-copper",
   "metadata": {
    "execution": {
     "iopub.execute_input": "2021-05-24T12:12:02.958404Z",
     "iopub.status.busy": "2021-05-24T12:12:02.957820Z",
     "iopub.status.idle": "2021-05-24T12:12:02.961894Z",
     "shell.execute_reply": "2021-05-24T12:12:02.961424Z"
    },
    "papermill": {
     "duration": 0.042562,
     "end_time": "2021-05-24T12:12:02.962007",
     "exception": false,
     "start_time": "2021-05-24T12:12:02.919445",
     "status": "completed"
    },
    "tags": []
   },
   "outputs": [],
   "source": [
    "#hide\n",
    "LAST_DATE_I, dt_cols = get_dates(df)\n",
    "dt_today =dt_cols[LAST_DATE_I]\n",
    "# dt_5day = dt_cols[LAST_DATE_I - 5]\n",
    "dt_yday = dt_cols[LAST_DATE_I - 1]"
   ]
  },
  {
   "cell_type": "code",
   "execution_count": 11,
   "id": "restricted-sheriff",
   "metadata": {
    "execution": {
     "iopub.execute_input": "2021-05-24T12:12:03.037275Z",
     "iopub.status.busy": "2021-05-24T12:12:03.036657Z",
     "iopub.status.idle": "2021-05-24T12:12:03.044424Z",
     "shell.execute_reply": "2021-05-24T12:12:03.043953Z"
    },
    "papermill": {
     "duration": 0.049501,
     "end_time": "2021-05-24T12:12:03.044553",
     "exception": false,
     "start_time": "2021-05-24T12:12:02.995052",
     "status": "completed"
    },
    "tags": []
   },
   "outputs": [],
   "source": [
    "#hide\n",
    "dfc_cases = dft_cases.groupby(COL_REGION)[dt_today].sum()\n",
    "dfc_deaths = dft_deaths.groupby(COL_REGION)[dt_today].sum()\n",
    "# dfp_cases = dft_cases.groupby(COL_REGION)[dt_5day].sum()\n",
    "# dfp_deaths = dft_deaths.groupby(COL_REGION)[dt_5day].sum()\n",
    "dfp_cases = dft_cases.groupby(COL_REGION)[dt_yday].sum()\n",
    "dfp_deaths = dft_deaths.groupby(COL_REGION)[dt_yday].sum()"
   ]
  },
  {
   "cell_type": "code",
   "execution_count": 12,
   "id": "deluxe-hepatitis",
   "metadata": {
    "execution": {
     "iopub.execute_input": "2021-05-24T12:12:03.120644Z",
     "iopub.status.busy": "2021-05-24T12:12:03.118830Z",
     "iopub.status.idle": "2021-05-24T12:12:03.125843Z",
     "shell.execute_reply": "2021-05-24T12:12:03.125264Z"
    },
    "papermill": {
     "duration": 0.047177,
     "end_time": "2021-05-24T12:12:03.125965",
     "exception": false,
     "start_time": "2021-05-24T12:12:03.078788",
     "status": "completed"
    },
    "tags": []
   },
   "outputs": [],
   "source": [
    "#hide\n",
    "df_table = (pd.DataFrame(dict(Cases = dfc_cases, Deaths = dfc_deaths, PCases = dfp_cases, PDeaths = dfp_deaths))\n",
    "            .sort_values(by = ['Cases','Deaths'], ascending = [False, False])\n",
    "            .reset_index())"
   ]
  },
  {
   "cell_type": "code",
   "execution_count": 13,
   "id": "educational-chancellor",
   "metadata": {
    "execution": {
     "iopub.execute_input": "2021-05-24T12:12:03.214276Z",
     "iopub.status.busy": "2021-05-24T12:12:03.213663Z",
     "iopub.status.idle": "2021-05-24T12:12:03.221954Z",
     "shell.execute_reply": "2021-05-24T12:12:03.221431Z"
    },
    "papermill": {
     "duration": 0.062147,
     "end_time": "2021-05-24T12:12:03.222080",
     "exception": false,
     "start_time": "2021-05-24T12:12:03.159933",
     "status": "completed"
    },
    "tags": []
   },
   "outputs": [
    {
     "data": {
      "text/html": [
       "<div>\n",
       "<style scoped>\n",
       "    .dataframe tbody tr th:only-of-type {\n",
       "        vertical-align: middle;\n",
       "    }\n",
       "\n",
       "    .dataframe tbody tr th {\n",
       "        vertical-align: top;\n",
       "    }\n",
       "\n",
       "    .dataframe thead th {\n",
       "        text-align: right;\n",
       "    }\n",
       "</style>\n",
       "<table border=\"1\" class=\"dataframe\">\n",
       "  <thead>\n",
       "    <tr style=\"text-align: right;\">\n",
       "      <th></th>\n",
       "      <th>Country/Region</th>\n",
       "      <th>Cases</th>\n",
       "      <th>Deaths</th>\n",
       "      <th>PCases</th>\n",
       "      <th>PDeaths</th>\n",
       "      <th>Cases (+)</th>\n",
       "      <th>Deaths (+)</th>\n",
       "      <th>Fatality Rate</th>\n",
       "      <th>Continent</th>\n",
       "    </tr>\n",
       "  </thead>\n",
       "  <tbody>\n",
       "    <tr>\n",
       "      <th>0</th>\n",
       "      <td>US</td>\n",
       "      <td>33117737</td>\n",
       "      <td>589893</td>\n",
       "      <td>33104884</td>\n",
       "      <td>589703</td>\n",
       "      <td>12853</td>\n",
       "      <td>190</td>\n",
       "      <td>1.78</td>\n",
       "      <td>North America</td>\n",
       "    </tr>\n",
       "    <tr>\n",
       "      <th>1</th>\n",
       "      <td>India</td>\n",
       "      <td>26752447</td>\n",
       "      <td>303720</td>\n",
       "      <td>26530132</td>\n",
       "      <td>299266</td>\n",
       "      <td>222315</td>\n",
       "      <td>4454</td>\n",
       "      <td>1.14</td>\n",
       "      <td>Asia</td>\n",
       "    </tr>\n",
       "    <tr>\n",
       "      <th>2</th>\n",
       "      <td>Brazil</td>\n",
       "      <td>16083258</td>\n",
       "      <td>449068</td>\n",
       "      <td>16047439</td>\n",
       "      <td>448208</td>\n",
       "      <td>35819</td>\n",
       "      <td>860</td>\n",
       "      <td>2.79</td>\n",
       "      <td>South America</td>\n",
       "    </tr>\n",
       "    <tr>\n",
       "      <th>3</th>\n",
       "      <td>France</td>\n",
       "      <td>5980325</td>\n",
       "      <td>108358</td>\n",
       "      <td>5979597</td>\n",
       "      <td>108345</td>\n",
       "      <td>728</td>\n",
       "      <td>13</td>\n",
       "      <td>1.81</td>\n",
       "      <td>Europe</td>\n",
       "    </tr>\n",
       "    <tr>\n",
       "      <th>4</th>\n",
       "      <td>Turkey</td>\n",
       "      <td>5186487</td>\n",
       "      <td>46268</td>\n",
       "      <td>5178648</td>\n",
       "      <td>46071</td>\n",
       "      <td>7839</td>\n",
       "      <td>197</td>\n",
       "      <td>0.89</td>\n",
       "      <td>Asia</td>\n",
       "    </tr>\n",
       "  </tbody>\n",
       "</table>\n",
       "</div>"
      ],
      "text/plain": [
       "  Country/Region     Cases  Deaths    PCases  PDeaths  Cases (+)  Deaths (+)  \\\n",
       "0             US  33117737  589893  33104884   589703      12853         190   \n",
       "1          India  26752447  303720  26530132   299266     222315        4454   \n",
       "2         Brazil  16083258  449068  16047439   448208      35819         860   \n",
       "3         France   5980325  108358   5979597   108345        728          13   \n",
       "4         Turkey   5186487   46268   5178648    46071       7839         197   \n",
       "\n",
       "   Fatality Rate      Continent  \n",
       "0           1.78  North America  \n",
       "1           1.14           Asia  \n",
       "2           2.79  South America  \n",
       "3           1.81         Europe  \n",
       "4           0.89           Asia  "
      ]
     },
     "execution_count": 13,
     "metadata": {},
     "output_type": "execute_result"
    }
   ],
   "source": [
    "#hide\n",
    "for c in 'Cases, Deaths'.split(', '):\n",
    "    df_table[f'{c} (+)'] = (df_table[c] - df_table[f'P{c}']).clip(0)\n",
    "    #Clip ça veut dire, les chiffres negatif sont interdit\n",
    "df_table['Fatality Rate'] = (100* df_table['Deaths']/ df_table['Cases']).round(2)\n",
    "df_table['Continent'] = df_table['Country/Region'].map(mapping['map.continent'])\n",
    "df_table.head(5)"
   ]
  },
  {
   "cell_type": "code",
   "execution_count": 14,
   "id": "aboriginal-bulgaria",
   "metadata": {
    "execution": {
     "iopub.execute_input": "2021-05-24T12:12:03.300644Z",
     "iopub.status.busy": "2021-05-24T12:12:03.300064Z",
     "iopub.status.idle": "2021-05-24T12:12:03.302303Z",
     "shell.execute_reply": "2021-05-24T12:12:03.301814Z"
    },
    "papermill": {
     "duration": 0.045488,
     "end_time": "2021-05-24T12:12:03.302423",
     "exception": false,
     "start_time": "2021-05-24T12:12:03.256935",
     "status": "completed"
    },
    "tags": []
   },
   "outputs": [],
   "source": [
    "#hide\n",
    "#delete problematic countries from table\n",
    "df_table = df_table[~df_table['Country/Region'].isin(['Cape Verde', 'Cruise Ship', 'Kosovo'])]"
   ]
  },
  {
   "cell_type": "code",
   "execution_count": 15,
   "id": "fantastic-effect",
   "metadata": {
    "execution": {
     "iopub.execute_input": "2021-05-24T12:12:03.379898Z",
     "iopub.status.busy": "2021-05-24T12:12:03.379313Z",
     "iopub.status.idle": "2021-05-24T12:12:03.399848Z",
     "shell.execute_reply": "2021-05-24T12:12:03.400559Z"
    },
    "papermill": {
     "duration": 0.064003,
     "end_time": "2021-05-24T12:12:03.400703",
     "exception": false,
     "start_time": "2021-05-24T12:12:03.336700",
     "status": "completed"
    },
    "tags": []
   },
   "outputs": [
    {
     "data": {
      "text/html": [
       "<div>\n",
       "<style scoped>\n",
       "    .dataframe tbody tr th:only-of-type {\n",
       "        vertical-align: middle;\n",
       "    }\n",
       "\n",
       "    .dataframe tbody tr th {\n",
       "        vertical-align: top;\n",
       "    }\n",
       "\n",
       "    .dataframe thead th {\n",
       "        text-align: right;\n",
       "    }\n",
       "</style>\n",
       "<table border=\"1\" class=\"dataframe\">\n",
       "  <thead>\n",
       "    <tr style=\"text-align: right;\">\n",
       "      <th></th>\n",
       "      <th>Country/Region</th>\n",
       "      <th>Cases</th>\n",
       "      <th>Deaths</th>\n",
       "      <th>PCases</th>\n",
       "      <th>PDeaths</th>\n",
       "      <th>Cases (+)</th>\n",
       "      <th>Deaths (+)</th>\n",
       "      <th>Fatality Rate</th>\n",
       "      <th>Continent</th>\n",
       "    </tr>\n",
       "  </thead>\n",
       "  <tbody>\n",
       "    <tr>\n",
       "      <th>0</th>\n",
       "      <td>US</td>\n",
       "      <td>33117737</td>\n",
       "      <td>589893</td>\n",
       "      <td>33104884</td>\n",
       "      <td>589703</td>\n",
       "      <td>12853</td>\n",
       "      <td>190</td>\n",
       "      <td>1.8</td>\n",
       "      <td>North America</td>\n",
       "    </tr>\n",
       "    <tr>\n",
       "      <th>1</th>\n",
       "      <td>India</td>\n",
       "      <td>26752447</td>\n",
       "      <td>303720</td>\n",
       "      <td>26530132</td>\n",
       "      <td>299266</td>\n",
       "      <td>222315</td>\n",
       "      <td>4454</td>\n",
       "      <td>1.1</td>\n",
       "      <td>Asia</td>\n",
       "    </tr>\n",
       "    <tr>\n",
       "      <th>2</th>\n",
       "      <td>Brazil</td>\n",
       "      <td>16083258</td>\n",
       "      <td>449068</td>\n",
       "      <td>16047439</td>\n",
       "      <td>448208</td>\n",
       "      <td>35819</td>\n",
       "      <td>860</td>\n",
       "      <td>2.8</td>\n",
       "      <td>South America</td>\n",
       "    </tr>\n",
       "    <tr>\n",
       "      <th>3</th>\n",
       "      <td>France</td>\n",
       "      <td>5980325</td>\n",
       "      <td>108358</td>\n",
       "      <td>5979597</td>\n",
       "      <td>108345</td>\n",
       "      <td>728</td>\n",
       "      <td>13</td>\n",
       "      <td>1.8</td>\n",
       "      <td>Europe</td>\n",
       "    </tr>\n",
       "    <tr>\n",
       "      <th>4</th>\n",
       "      <td>Turkey</td>\n",
       "      <td>5186487</td>\n",
       "      <td>46268</td>\n",
       "      <td>5178648</td>\n",
       "      <td>46071</td>\n",
       "      <td>7839</td>\n",
       "      <td>197</td>\n",
       "      <td>0.9</td>\n",
       "      <td>Asia</td>\n",
       "    </tr>\n",
       "  </tbody>\n",
       "</table>\n",
       "</div>"
      ],
      "text/plain": [
       "  Country/Region     Cases  Deaths    PCases  PDeaths  Cases (+)  Deaths (+)  \\\n",
       "0             US  33117737  589893  33104884   589703      12853         190   \n",
       "1          India  26752447  303720  26530132   299266     222315        4454   \n",
       "2         Brazil  16083258  449068  16047439   448208      35819         860   \n",
       "3         France   5980325  108358   5979597   108345        728          13   \n",
       "4         Turkey   5186487   46268   5178648    46071       7839         197   \n",
       "\n",
       "   Fatality Rate      Continent  \n",
       "0            1.8  North America  \n",
       "1            1.1           Asia  \n",
       "2            2.8  South America  \n",
       "3            1.8         Europe  \n",
       "4            0.9           Asia  "
      ]
     },
     "execution_count": 15,
     "metadata": {},
     "output_type": "execute_result"
    }
   ],
   "source": [
    "#hide\n",
    "df_table = (pd.DataFrame(dict(Cases=dfc_cases, Deaths=dfc_deaths, PCases=dfp_cases, PDeaths=dfp_deaths))\n",
    "             .sort_values(by=['Cases', 'Deaths'], ascending=[False, False])\n",
    "             .reset_index())\n",
    "df_table.rename(columns={'index': 'Country/Region'}, inplace=True)\n",
    "for c in 'Cases, Deaths'.split(', '):\n",
    "    df_table[f'{c} (+)'] = (df_table[c] - df_table[f'P{c}']).clip(0)  # DATA BUG\n",
    "df_table['Fatality Rate'] = (100 * df_table['Deaths'] / df_table['Cases']).round(1)\n",
    "df_table['Continent'] = df_table['Country/Region'].map(mapping['map.continent'])\n",
    "df_table.head(5)"
   ]
  },
  {
   "cell_type": "code",
   "execution_count": 16,
   "id": "fewer-occasion",
   "metadata": {
    "execution": {
     "iopub.execute_input": "2021-05-24T12:12:03.479417Z",
     "iopub.status.busy": "2021-05-24T12:12:03.478382Z",
     "iopub.status.idle": "2021-05-24T12:12:03.480349Z",
     "shell.execute_reply": "2021-05-24T12:12:03.480804Z"
    },
    "papermill": {
     "duration": 0.045339,
     "end_time": "2021-05-24T12:12:03.480946",
     "exception": false,
     "start_time": "2021-05-24T12:12:03.435607",
     "status": "completed"
    },
    "tags": []
   },
   "outputs": [],
   "source": [
    "#hide\n",
    "#delete problematic countries from table\n",
    "df_table = df_table[~df_table['Country/Region'].isin(['Cape Verde', 'Cruise Ship', 'Kosovo'])]"
   ]
  },
  {
   "cell_type": "code",
   "execution_count": 17,
   "id": "related-center",
   "metadata": {
    "execution": {
     "iopub.execute_input": "2021-05-24T12:12:03.563182Z",
     "iopub.status.busy": "2021-05-24T12:12:03.562593Z",
     "iopub.status.idle": "2021-05-24T12:12:03.575736Z",
     "shell.execute_reply": "2021-05-24T12:12:03.575240Z"
    },
    "papermill": {
     "duration": 0.06021,
     "end_time": "2021-05-24T12:12:03.575860",
     "exception": false,
     "start_time": "2021-05-24T12:12:03.515650",
     "status": "completed"
    },
    "tags": []
   },
   "outputs": [],
   "source": [
    "#hide\n",
    "metrics = [df_table.columns[index] for index in [1,2,5,6]]\n",
    "# s_china = df_table[df_table['Country/Region'].eq('China')][metrics].sum().add_prefix('China ')\n",
    "s_us = df_table[df_table['Country/Region'].eq('US')][metrics].sum().add_prefix('US ')\n",
    "s_eu = df_table[df_table['Continent'].eq('Europe')][metrics].sum().add_prefix('EU ')\n",
    "s_ind = df_table[df_table['Country/Region'].eq('India')][metrics].sum().add_prefix('India ')\n",
    "summary = {'updated': pd.to_datetime(dt_today), 'since': pd.to_datetime(dt_yday)}\n",
    "summary = {'updated': pd.to_datetime(dt_today), 'since': pd.to_datetime(dt_yday)}\n",
    "summary = {**summary, **df_table[metrics].sum(), **s_ind, **s_us, **s_eu}"
   ]
  },
  {
   "cell_type": "code",
   "execution_count": 18,
   "id": "engaging-syndrome",
   "metadata": {
    "execution": {
     "iopub.execute_input": "2021-05-24T12:12:03.652157Z",
     "iopub.status.busy": "2021-05-24T12:12:03.651564Z",
     "iopub.status.idle": "2021-05-24T12:12:03.664272Z",
     "shell.execute_reply": "2021-05-24T12:12:03.664710Z"
    },
    "papermill": {
     "duration": 0.054228,
     "end_time": "2021-05-24T12:12:03.664856",
     "exception": false,
     "start_time": "2021-05-24T12:12:03.610628",
     "status": "completed"
    },
    "tags": []
   },
   "outputs": [],
   "source": [
    "#hide\n",
    "dft_ct_new_cases = dft_cases.groupby(COL_REGION)[dt_cols].sum().diff(axis=1).fillna(0).astype(int)"
   ]
  },
  {
   "cell_type": "code",
   "execution_count": 19,
   "id": "neutral-assignment",
   "metadata": {
    "execution": {
     "iopub.execute_input": "2021-05-24T12:12:03.742049Z",
     "iopub.status.busy": "2021-05-24T12:12:03.741466Z",
     "iopub.status.idle": "2021-05-24T12:12:03.745307Z",
     "shell.execute_reply": "2021-05-24T12:12:03.744780Z"
    },
    "papermill": {
     "duration": 0.04562,
     "end_time": "2021-05-24T12:12:03.745430",
     "exception": false,
     "start_time": "2021-05-24T12:12:03.699810",
     "status": "completed"
    },
    "tags": []
   },
   "outputs": [],
   "source": [
    "#hide\n",
    "everydaycases = dft_ct_new_cases.cumsum(axis=1)"
   ]
  },
  {
   "cell_type": "code",
   "execution_count": 20,
   "id": "parliamentary-calgary",
   "metadata": {
    "execution": {
     "iopub.execute_input": "2021-05-24T12:12:03.819578Z",
     "iopub.status.busy": "2021-05-24T12:12:03.818991Z",
     "iopub.status.idle": "2021-05-24T12:12:04.409126Z",
     "shell.execute_reply": "2021-05-24T12:12:04.408227Z"
    },
    "papermill": {
     "duration": 0.628963,
     "end_time": "2021-05-24T12:12:04.409351",
     "exception": false,
     "start_time": "2021-05-24T12:12:03.780388",
     "status": "completed"
    },
    "tags": []
   },
   "outputs": [],
   "source": [
    "#hide\n",
    "import pandas as pd\n",
    "import matplotlib.pyplot as plt\n",
    "import matplotlib.ticker as ticker\n",
    "import matplotlib.animation as animation\n",
    "from IPython.display import HTML"
   ]
  },
  {
   "cell_type": "code",
   "execution_count": 21,
   "id": "lasting-extraction",
   "metadata": {
    "execution": {
     "iopub.execute_input": "2021-05-24T12:12:04.486184Z",
     "iopub.status.busy": "2021-05-24T12:12:04.485612Z",
     "iopub.status.idle": "2021-05-24T12:12:04.491081Z",
     "shell.execute_reply": "2021-05-24T12:12:04.490582Z"
    },
    "papermill": {
     "duration": 0.046144,
     "end_time": "2021-05-24T12:12:04.491204",
     "exception": false,
     "start_time": "2021-05-24T12:12:04.445060",
     "status": "completed"
    },
    "tags": []
   },
   "outputs": [],
   "source": [
    "#hide\n",
    "t = everydaycases.stack()"
   ]
  },
  {
   "cell_type": "code",
   "execution_count": 22,
   "id": "premier-sleeve",
   "metadata": {
    "execution": {
     "iopub.execute_input": "2021-05-24T12:12:04.566115Z",
     "iopub.status.busy": "2021-05-24T12:12:04.565538Z",
     "iopub.status.idle": "2021-05-24T12:12:04.573661Z",
     "shell.execute_reply": "2021-05-24T12:12:04.573187Z"
    },
    "papermill": {
     "duration": 0.04816,
     "end_time": "2021-05-24T12:12:04.573787",
     "exception": false,
     "start_time": "2021-05-24T12:12:04.525627",
     "status": "completed"
    },
    "tags": []
   },
   "outputs": [],
   "source": [
    "#hide\n",
    "g = t.reset_index(['Country/Region'])"
   ]
  },
  {
   "cell_type": "code",
   "execution_count": 23,
   "id": "distributed-pittsburgh",
   "metadata": {
    "execution": {
     "iopub.execute_input": "2021-05-24T12:12:04.647870Z",
     "iopub.status.busy": "2021-05-24T12:12:04.647292Z",
     "iopub.status.idle": "2021-05-24T12:12:04.649959Z",
     "shell.execute_reply": "2021-05-24T12:12:04.649461Z"
    },
    "papermill": {
     "duration": 0.041564,
     "end_time": "2021-05-24T12:12:04.650080",
     "exception": false,
     "start_time": "2021-05-24T12:12:04.608516",
     "status": "completed"
    },
    "tags": []
   },
   "outputs": [],
   "source": [
    "#hide\n",
    "g.index.name = 'date'"
   ]
  },
  {
   "cell_type": "code",
   "execution_count": 24,
   "id": "naked-donor",
   "metadata": {
    "execution": {
     "iopub.execute_input": "2021-05-24T12:12:04.723967Z",
     "iopub.status.busy": "2021-05-24T12:12:04.723383Z",
     "iopub.status.idle": "2021-05-24T12:12:04.725743Z",
     "shell.execute_reply": "2021-05-24T12:12:04.726293Z"
    },
    "papermill": {
     "duration": 0.042089,
     "end_time": "2021-05-24T12:12:04.726433",
     "exception": false,
     "start_time": "2021-05-24T12:12:04.684344",
     "status": "completed"
    },
    "tags": []
   },
   "outputs": [],
   "source": [
    "# #hide\n",
    "# g = g.reset_index(['date'])"
   ]
  },
  {
   "cell_type": "code",
   "execution_count": 25,
   "id": "incomplete-mustang",
   "metadata": {
    "execution": {
     "iopub.execute_input": "2021-05-24T12:12:04.800104Z",
     "iopub.status.busy": "2021-05-24T12:12:04.799518Z",
     "iopub.status.idle": "2021-05-24T12:12:04.801381Z",
     "shell.execute_reply": "2021-05-24T12:12:04.801881Z"
    },
    "papermill": {
     "duration": 0.041187,
     "end_time": "2021-05-24T12:12:04.802019",
     "exception": false,
     "start_time": "2021-05-24T12:12:04.760832",
     "status": "completed"
    },
    "tags": []
   },
   "outputs": [],
   "source": [
    "#hide\n",
    "# g.head()"
   ]
  },
  {
   "cell_type": "code",
   "execution_count": 26,
   "id": "specific-kruger",
   "metadata": {
    "execution": {
     "iopub.execute_input": "2021-05-24T12:12:04.875601Z",
     "iopub.status.busy": "2021-05-24T12:12:04.875024Z",
     "iopub.status.idle": "2021-05-24T12:12:04.877803Z",
     "shell.execute_reply": "2021-05-24T12:12:04.878355Z"
    },
    "papermill": {
     "duration": 0.04172,
     "end_time": "2021-05-24T12:12:04.878492",
     "exception": false,
     "start_time": "2021-05-24T12:12:04.836772",
     "status": "completed"
    },
    "tags": []
   },
   "outputs": [],
   "source": [
    "#hide\n",
    "# g.columns = ['date','country','cases']"
   ]
  },
  {
   "cell_type": "code",
   "execution_count": 27,
   "id": "tender-conversion",
   "metadata": {
    "execution": {
     "iopub.execute_input": "2021-05-24T12:12:04.952765Z",
     "iopub.status.busy": "2021-05-24T12:12:04.952182Z",
     "iopub.status.idle": "2021-05-24T12:12:04.954581Z",
     "shell.execute_reply": "2021-05-24T12:12:04.954091Z"
    },
    "papermill": {
     "duration": 0.041383,
     "end_time": "2021-05-24T12:12:04.954701",
     "exception": false,
     "start_time": "2021-05-24T12:12:04.913318",
     "status": "completed"
    },
    "tags": []
   },
   "outputs": [],
   "source": [
    "#hide\n",
    "# g['continent'] = g.country"
   ]
  },
  {
   "cell_type": "code",
   "execution_count": 28,
   "id": "substantial-wilderness",
   "metadata": {
    "execution": {
     "iopub.execute_input": "2021-05-24T12:12:05.029412Z",
     "iopub.status.busy": "2021-05-24T12:12:05.028813Z",
     "iopub.status.idle": "2021-05-24T12:12:05.031147Z",
     "shell.execute_reply": "2021-05-24T12:12:05.031699Z"
    },
    "papermill": {
     "duration": 0.042231,
     "end_time": "2021-05-24T12:12:05.031866",
     "exception": false,
     "start_time": "2021-05-24T12:12:04.989635",
     "status": "completed"
    },
    "tags": []
   },
   "outputs": [],
   "source": [
    "#hide\n",
    "# cols = list(g.columns.values)"
   ]
  },
  {
   "cell_type": "code",
   "execution_count": 29,
   "id": "solved-farming",
   "metadata": {
    "execution": {
     "iopub.execute_input": "2021-05-24T12:12:05.106195Z",
     "iopub.status.busy": "2021-05-24T12:12:05.105617Z",
     "iopub.status.idle": "2021-05-24T12:12:05.107890Z",
     "shell.execute_reply": "2021-05-24T12:12:05.108391Z"
    },
    "papermill": {
     "duration": 0.042085,
     "end_time": "2021-05-24T12:12:05.108523",
     "exception": false,
     "start_time": "2021-05-24T12:12:05.066438",
     "status": "completed"
    },
    "tags": []
   },
   "outputs": [],
   "source": [
    "#hide\n",
    "# cols.insert(0, cols.pop())"
   ]
  },
  {
   "cell_type": "code",
   "execution_count": 30,
   "id": "executed-adoption",
   "metadata": {
    "execution": {
     "iopub.execute_input": "2021-05-24T12:12:05.182752Z",
     "iopub.status.busy": "2021-05-24T12:12:05.182177Z",
     "iopub.status.idle": "2021-05-24T12:12:05.184970Z",
     "shell.execute_reply": "2021-05-24T12:12:05.184487Z"
    },
    "papermill": {
     "duration": 0.041972,
     "end_time": "2021-05-24T12:12:05.185112",
     "exception": false,
     "start_time": "2021-05-24T12:12:05.143140",
     "status": "completed"
    },
    "tags": []
   },
   "outputs": [],
   "source": [
    "#hide\n",
    "# g = g[cols]"
   ]
  },
  {
   "cell_type": "code",
   "execution_count": 31,
   "id": "subject-dublin",
   "metadata": {
    "execution": {
     "iopub.execute_input": "2021-05-24T12:12:05.259855Z",
     "iopub.status.busy": "2021-05-24T12:12:05.259262Z",
     "iopub.status.idle": "2021-05-24T12:12:05.261720Z",
     "shell.execute_reply": "2021-05-24T12:12:05.262270Z"
    },
    "papermill": {
     "duration": 0.042457,
     "end_time": "2021-05-24T12:12:05.262408",
     "exception": false,
     "start_time": "2021-05-24T12:12:05.219951",
     "status": "completed"
    },
    "tags": []
   },
   "outputs": [],
   "source": [
    "#hide\n",
    "# g['continent'] = g['continent'].map(mapping['map.continent'])"
   ]
  },
  {
   "cell_type": "code",
   "execution_count": 32,
   "id": "freelance-scout",
   "metadata": {
    "execution": {
     "iopub.execute_input": "2021-05-24T12:12:05.337049Z",
     "iopub.status.busy": "2021-05-24T12:12:05.336433Z",
     "iopub.status.idle": "2021-05-24T12:12:05.337643Z",
     "shell.execute_reply": "2021-05-24T12:12:05.338177Z"
    },
    "papermill": {
     "duration": 0.040993,
     "end_time": "2021-05-24T12:12:05.338310",
     "exception": false,
     "start_time": "2021-05-24T12:12:05.297317",
     "status": "completed"
    },
    "tags": []
   },
   "outputs": [],
   "source": [
    "#hide\n",
    "# g.head()"
   ]
  },
  {
   "cell_type": "code",
   "execution_count": 33,
   "id": "limited-engine",
   "metadata": {
    "execution": {
     "iopub.execute_input": "2021-05-24T12:12:05.412500Z",
     "iopub.status.busy": "2021-05-24T12:12:05.411924Z",
     "iopub.status.idle": "2021-05-24T12:12:05.414354Z",
     "shell.execute_reply": "2021-05-24T12:12:05.414908Z"
    },
    "papermill": {
     "duration": 0.042151,
     "end_time": "2021-05-24T12:12:05.415045",
     "exception": false,
     "start_time": "2021-05-24T12:12:05.372894",
     "status": "completed"
    },
    "tags": []
   },
   "outputs": [],
   "source": [
    "# hide\n",
    "# g['date'] = g['date'].astype('datetime64[ns]')"
   ]
  },
  {
   "cell_type": "code",
   "execution_count": 34,
   "id": "sophisticated-supervisor",
   "metadata": {
    "execution": {
     "iopub.execute_input": "2021-05-24T12:12:05.490014Z",
     "iopub.status.busy": "2021-05-24T12:12:05.489423Z",
     "iopub.status.idle": "2021-05-24T12:12:05.491620Z",
     "shell.execute_reply": "2021-05-24T12:12:05.491133Z"
    },
    "papermill": {
     "duration": 0.041516,
     "end_time": "2021-05-24T12:12:05.491740",
     "exception": false,
     "start_time": "2021-05-24T12:12:05.450224",
     "status": "completed"
    },
    "tags": []
   },
   "outputs": [],
   "source": [
    "#hide\n",
    "# g['date'] = g.date.dt.dayofyear"
   ]
  },
  {
   "cell_type": "code",
   "execution_count": 35,
   "id": "inside-dubai",
   "metadata": {
    "execution": {
     "iopub.execute_input": "2021-05-24T12:12:05.565436Z",
     "iopub.status.busy": "2021-05-24T12:12:05.564816Z",
     "iopub.status.idle": "2021-05-24T12:12:05.567247Z",
     "shell.execute_reply": "2021-05-24T12:12:05.567793Z"
    },
    "papermill": {
     "duration": 0.041541,
     "end_time": "2021-05-24T12:12:05.567930",
     "exception": false,
     "start_time": "2021-05-24T12:12:05.526389",
     "status": "completed"
    },
    "tags": []
   },
   "outputs": [],
   "source": [
    "#hide\n",
    "# g = g.rename(columns= {'continent':'group','country':'name','cases':'value'})"
   ]
  },
  {
   "cell_type": "code",
   "execution_count": 36,
   "id": "fleet-motorcycle",
   "metadata": {
    "execution": {
     "iopub.execute_input": "2021-05-24T12:12:05.642384Z",
     "iopub.status.busy": "2021-05-24T12:12:05.641771Z",
     "iopub.status.idle": "2021-05-24T12:12:05.644052Z",
     "shell.execute_reply": "2021-05-24T12:12:05.643481Z"
    },
    "papermill": {
     "duration": 0.04147,
     "end_time": "2021-05-24T12:12:05.644173",
     "exception": false,
     "start_time": "2021-05-24T12:12:05.602703",
     "status": "completed"
    },
    "tags": []
   },
   "outputs": [],
   "source": [
    "#hide\n",
    "# cols = ['name','group','day','value']"
   ]
  },
  {
   "cell_type": "code",
   "execution_count": 37,
   "id": "continued-sleeping",
   "metadata": {
    "execution": {
     "iopub.execute_input": "2021-05-24T12:12:05.719799Z",
     "iopub.status.busy": "2021-05-24T12:12:05.718781Z",
     "iopub.status.idle": "2021-05-24T12:12:05.720864Z",
     "shell.execute_reply": "2021-05-24T12:12:05.721713Z"
    },
    "papermill": {
     "duration": 0.042669,
     "end_time": "2021-05-24T12:12:05.721928",
     "exception": false,
     "start_time": "2021-05-24T12:12:05.679259",
     "status": "completed"
    },
    "tags": []
   },
   "outputs": [],
   "source": [
    "#hide\n",
    "# g.rename(columns= {'date':'day'},inplace = True)"
   ]
  },
  {
   "cell_type": "code",
   "execution_count": 38,
   "id": "major-fight",
   "metadata": {
    "execution": {
     "iopub.execute_input": "2021-05-24T12:12:05.795724Z",
     "iopub.status.busy": "2021-05-24T12:12:05.795141Z",
     "iopub.status.idle": "2021-05-24T12:12:05.797232Z",
     "shell.execute_reply": "2021-05-24T12:12:05.797706Z"
    },
    "papermill": {
     "duration": 0.041382,
     "end_time": "2021-05-24T12:12:05.797846",
     "exception": false,
     "start_time": "2021-05-24T12:12:05.756464",
     "status": "completed"
    },
    "tags": []
   },
   "outputs": [],
   "source": [
    "#hide\n",
    "# g = g[cols]"
   ]
  },
  {
   "cell_type": "code",
   "execution_count": 39,
   "id": "structured-mobile",
   "metadata": {
    "execution": {
     "iopub.execute_input": "2021-05-24T12:12:05.870115Z",
     "iopub.status.busy": "2021-05-24T12:12:05.869537Z",
     "iopub.status.idle": "2021-05-24T12:12:05.871751Z",
     "shell.execute_reply": "2021-05-24T12:12:05.871268Z"
    },
    "papermill": {
     "duration": 0.040082,
     "end_time": "2021-05-24T12:12:05.871869",
     "exception": false,
     "start_time": "2021-05-24T12:12:05.831787",
     "status": "completed"
    },
    "tags": []
   },
   "outputs": [],
   "source": [
    "# #hide\n",
    "# g = g[g.group.notna()]"
   ]
  },
  {
   "cell_type": "code",
   "execution_count": 40,
   "id": "determined-closing",
   "metadata": {
    "execution": {
     "iopub.execute_input": "2021-05-24T12:12:05.946327Z",
     "iopub.status.busy": "2021-05-24T12:12:05.945727Z",
     "iopub.status.idle": "2021-05-24T12:12:05.947938Z",
     "shell.execute_reply": "2021-05-24T12:12:05.947444Z"
    },
    "papermill": {
     "duration": 0.041374,
     "end_time": "2021-05-24T12:12:05.948057",
     "exception": false,
     "start_time": "2021-05-24T12:12:05.906683",
     "status": "completed"
    },
    "tags": []
   },
   "outputs": [],
   "source": [
    "# #hide\n",
    "# colors = dict(zip(\n",
    "#     [\"Oceania\", \"Europe\", \"Asia\", \"South America\", \"Middle East\", \"North America\", \"Africa\"],\n",
    "#     [\"#adb0ff\", \"#ffb3ff\", \"#90d595\", \"#e48381\", \"#aafbff\", \"#f7bb5f\", \"#eafb50\"]\n",
    "# ))\n",
    "# group_lk = g.set_index('name')['group'].to_dict()"
   ]
  },
  {
   "cell_type": "code",
   "execution_count": null,
   "id": "gross-drinking",
   "metadata": {
    "papermill": {
     "duration": 0.034576,
     "end_time": "2021-05-24T12:12:06.017184",
     "exception": false,
     "start_time": "2021-05-24T12:12:05.982608",
     "status": "completed"
    },
    "tags": []
   },
   "outputs": [],
   "source": []
  },
  {
   "cell_type": "code",
   "execution_count": 41,
   "id": "subject-macintosh",
   "metadata": {
    "execution": {
     "iopub.execute_input": "2021-05-24T12:12:06.093390Z",
     "iopub.status.busy": "2021-05-24T12:12:06.092737Z",
     "iopub.status.idle": "2021-05-24T12:12:06.095162Z",
     "shell.execute_reply": "2021-05-24T12:12:06.095656Z"
    },
    "papermill": {
     "duration": 0.043538,
     "end_time": "2021-05-24T12:12:06.095797",
     "exception": false,
     "start_time": "2021-05-24T12:12:06.052259",
     "status": "completed"
    },
    "tags": []
   },
   "outputs": [],
   "source": [
    "# #hide\n",
    "# fig, ax = plt.subplots(figsize=(15, 8))\n",
    "\n",
    "# def draw_barchart(current_day):\n",
    "#     dff = g[g['day'].eq(current_day)].sort_values(by='value', ascending=True).tail(10)\n",
    "#     ax.clear()\n",
    "#     ax.barh(dff['name'], dff['value'], color=[colors[group_lk[x]] for x in dff['name']])\n",
    "#     dx = dff['value'].max() / 200\n",
    "    \n",
    "#     for i, (value, name) in enumerate(zip(dff['value'], dff['name'])):\n",
    "#         ax.text(value-dx, i,     name,           size=14, weight=600, ha='right', va='bottom')\n",
    "#         ax.text(value-dx, i-.25, group_lk[name], size=10, color='#444444', ha='right', va='baseline')\n",
    "#         ax.text(value+dx, i,     f'{value:,.0f}',  size=14, ha='left',  va='center')\n",
    "#     ax.text(1, 0.4, current_day, transform=ax.transAxes, color='#777777', size=46, ha='right', weight=800)\n",
    "#     ax.text(0, 1.06, 'Population (thousands)', transform=ax.transAxes, size=12, color='#777777')\n",
    "#     ax.xaxis.set_major_formatter(ticker.StrMethodFormatter('{x:,.0f}'))\n",
    "#     ax.xaxis.set_ticks_position('top')\n",
    "#     ax.tick_params(axis='x', colors='#777777', labelsize=12)\n",
    "#     ax.set_yticks([])\n",
    "#     ax.margins(0, 0.01)\n",
    "#     ax.grid(which='major', axis='x', linestyle='-')\n",
    "#     ax.set_axisbelow(True)\n",
    "    \n",
    "#     ax.text(0, 1.15, 'Coronavirus',\n",
    "#             transform=ax.transAxes, size=24, weight=600, ha='left', va='top')\n",
    "# #     ax.text(1, 0, 'by @pratapvardhan; credit @jburnmurdoch', transform=ax.transAxes, color='#777777', ha='right',\n",
    "# #             bbox=dict(facecolor='white', alpha=0.8, edgecolor='white'))\n",
    "#     plt.box(False)"
   ]
  },
  {
   "cell_type": "code",
   "execution_count": 42,
   "id": "sexual-wages",
   "metadata": {
    "execution": {
     "iopub.execute_input": "2021-05-24T12:12:06.169235Z",
     "iopub.status.busy": "2021-05-24T12:12:06.168624Z",
     "iopub.status.idle": "2021-05-24T12:12:06.170861Z",
     "shell.execute_reply": "2021-05-24T12:12:06.170368Z"
    },
    "papermill": {
     "duration": 0.041145,
     "end_time": "2021-05-24T12:12:06.170981",
     "exception": false,
     "start_time": "2021-05-24T12:12:06.129836",
     "status": "completed"
    },
    "tags": []
   },
   "outputs": [],
   "source": [
    "# #hide_input\n",
    "# fig, ax = plt.subplots(figsize=(15, 8))\n",
    "# animator = animation.FuncAnimation(fig, draw_barchart, frames=range(g.day.values.min(), g.day.values.max()))\n",
    "# HTML(animator.to_jshtml())\n",
    "# # or use animator.to_html5_video() or animator.save() "
   ]
  },
  {
   "cell_type": "code",
   "execution_count": null,
   "id": "australian-container",
   "metadata": {
    "papermill": {
     "duration": 0.0346,
     "end_time": "2021-05-24T12:12:06.240468",
     "exception": false,
     "start_time": "2021-05-24T12:12:06.205868",
     "status": "completed"
    },
    "tags": []
   },
   "outputs": [],
   "source": []
  },
  {
   "cell_type": "code",
   "execution_count": null,
   "id": "mediterranean-pontiac",
   "metadata": {
    "papermill": {
     "duration": 0.03465,
     "end_time": "2021-05-24T12:12:06.309333",
     "exception": false,
     "start_time": "2021-05-24T12:12:06.274683",
     "status": "completed"
    },
    "tags": []
   },
   "outputs": [],
   "source": []
  },
  {
   "cell_type": "code",
   "execution_count": null,
   "id": "aging-legislature",
   "metadata": {
    "papermill": {
     "duration": 0.034371,
     "end_time": "2021-05-24T12:12:06.378495",
     "exception": false,
     "start_time": "2021-05-24T12:12:06.344124",
     "status": "completed"
    },
    "tags": []
   },
   "outputs": [],
   "source": []
  }
 ],
 "metadata": {
  "kernelspec": {
   "display_name": "Python 3",
   "language": "python",
   "name": "python3"
  },
  "language_info": {
   "codemirror_mode": {
    "name": "ipython",
    "version": 3
   },
   "file_extension": ".py",
   "mimetype": "text/x-python",
   "name": "python",
   "nbconvert_exporter": "python",
   "pygments_lexer": "ipython3",
   "version": "3.6.13"
  },
  "papermill": {
   "duration": 7.3521,
   "end_time": "2021-05-24T12:12:07.716221",
   "environment_variables": {},
   "exception": null,
   "input_path": "2020-03-21-covid19exp.ipynb",
   "output_path": "2020-03-21-covid19exp.ipynb",
   "parameters": {},
   "start_time": "2021-05-24T12:12:00.364121",
   "version": "2.0.0"
  }
 },
 "nbformat": 4,
 "nbformat_minor": 5
}