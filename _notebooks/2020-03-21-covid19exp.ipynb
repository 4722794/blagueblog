{
 "cells": [
  {
   "cell_type": "markdown",
   "id": "muslim-click",
   "metadata": {
    "papermill": {
     "duration": 0.045678,
     "end_time": "2021-08-07T12:10:15.397287",
     "exception": false,
     "start_time": "2021-08-07T12:10:15.351609",
     "status": "completed"
    },
    "tags": []
   },
   "source": [
    "# COVID-19 Case Race\n",
    "> A race chart to see rising cases around the world\n",
    "\n",
    "- author: Hargun Oberoi\n",
    "- image: images/covid-overview.png\n",
    "- hide: false\n",
    "- badges: false"
   ]
  },
  {
   "cell_type": "code",
   "execution_count": 1,
   "id": "proof-material",
   "metadata": {
    "execution": {
     "iopub.execute_input": "2021-08-07T12:10:15.477272Z",
     "iopub.status.busy": "2021-08-07T12:10:15.476604Z",
     "iopub.status.idle": "2021-08-07T12:10:15.867815Z",
     "shell.execute_reply": "2021-08-07T12:10:15.867051Z"
    },
    "papermill": {
     "duration": 0.436683,
     "end_time": "2021-08-07T12:10:15.867981",
     "exception": false,
     "start_time": "2021-08-07T12:10:15.431298",
     "status": "completed"
    },
    "tags": []
   },
   "outputs": [],
   "source": [
    "#hide\n",
    "import numpy as np\n",
    "import pandas as pd\n",
    "from jinja2 import Template\n",
    "from IPython.display import HTML"
   ]
  },
  {
   "cell_type": "code",
   "execution_count": 2,
   "id": "developed-terminology",
   "metadata": {
    "execution": {
     "iopub.execute_input": "2021-08-07T12:10:15.941896Z",
     "iopub.status.busy": "2021-08-07T12:10:15.941278Z",
     "iopub.status.idle": "2021-08-07T12:10:15.943589Z",
     "shell.execute_reply": "2021-08-07T12:10:15.943089Z"
    },
    "papermill": {
     "duration": 0.041072,
     "end_time": "2021-08-07T12:10:15.943709",
     "exception": false,
     "start_time": "2021-08-07T12:10:15.902637",
     "status": "completed"
    },
    "tags": []
   },
   "outputs": [],
   "source": [
    "#hide\n",
    "\n",
    "# FETCH\n",
    "base_url = 'https://raw.githubusercontent.com/pratapvardhan/notebooks/master/covid19/'\n",
    "paths = {\n",
    "    'mapping': base_url + 'mapping_countries.csv',\n",
    "    'overview': base_url + 'overview.tpl'\n",
    "}"
   ]
  },
  {
   "cell_type": "code",
   "execution_count": 3,
   "id": "dynamic-saver",
   "metadata": {
    "execution": {
     "iopub.execute_input": "2021-08-07T12:10:16.023889Z",
     "iopub.status.busy": "2021-08-07T12:10:16.023289Z",
     "iopub.status.idle": "2021-08-07T12:10:16.026525Z",
     "shell.execute_reply": "2021-08-07T12:10:16.026065Z"
    },
    "papermill": {
     "duration": 0.049781,
     "end_time": "2021-08-07T12:10:16.026637",
     "exception": false,
     "start_time": "2021-08-07T12:10:15.976856",
     "status": "completed"
    },
    "tags": []
   },
   "outputs": [
    {
     "data": {
      "text/plain": [
       "'https://raw.githubusercontent.com/pratapvardhan/notebooks/master/covid19/mapping_countries.csv'"
      ]
     },
     "execution_count": 3,
     "metadata": {},
     "output_type": "execute_result"
    }
   ],
   "source": [
    "#hide\n",
    "paths['mapping']"
   ]
  },
  {
   "cell_type": "code",
   "execution_count": 4,
   "id": "urban-software",
   "metadata": {
    "execution": {
     "iopub.execute_input": "2021-08-07T12:10:16.106996Z",
     "iopub.status.busy": "2021-08-07T12:10:16.106390Z",
     "iopub.status.idle": "2021-08-07T12:10:16.111236Z",
     "shell.execute_reply": "2021-08-07T12:10:16.110730Z"
    },
    "papermill": {
     "duration": 0.050615,
     "end_time": "2021-08-07T12:10:16.111358",
     "exception": false,
     "start_time": "2021-08-07T12:10:16.060743",
     "status": "completed"
    },
    "tags": []
   },
   "outputs": [],
   "source": [
    "#hide\n",
    "def get_mappings(url):\n",
    "    df = pd.read_csv(url)\n",
    "    return {\n",
    "        'df': df,\n",
    "        'replace.country': dict(df.dropna(subset=['Name']).set_index('Country')['Name']),\n",
    "        'map.continent': dict(df.set_index('Name')['Continent'])\n",
    "    }"
   ]
  },
  {
   "cell_type": "code",
   "execution_count": 5,
   "id": "intimate-machinery",
   "metadata": {
    "execution": {
     "iopub.execute_input": "2021-08-07T12:10:16.186272Z",
     "iopub.status.busy": "2021-08-07T12:10:16.185672Z",
     "iopub.status.idle": "2021-08-07T12:10:16.226037Z",
     "shell.execute_reply": "2021-08-07T12:10:16.224977Z"
    },
    "papermill": {
     "duration": 0.080671,
     "end_time": "2021-08-07T12:10:16.226169",
     "exception": false,
     "start_time": "2021-08-07T12:10:16.145498",
     "status": "completed"
    },
    "tags": []
   },
   "outputs": [],
   "source": [
    "#hide\n",
    "mapping = get_mappings(paths['mapping'])"
   ]
  },
  {
   "cell_type": "code",
   "execution_count": 6,
   "id": "certified-tactics",
   "metadata": {
    "execution": {
     "iopub.execute_input": "2021-08-07T12:10:16.298373Z",
     "iopub.status.busy": "2021-08-07T12:10:16.297785Z",
     "iopub.status.idle": "2021-08-07T12:10:16.300029Z",
     "shell.execute_reply": "2021-08-07T12:10:16.300466Z"
    },
    "papermill": {
     "duration": 0.040885,
     "end_time": "2021-08-07T12:10:16.300594",
     "exception": false,
     "start_time": "2021-08-07T12:10:16.259709",
     "status": "completed"
    },
    "tags": []
   },
   "outputs": [],
   "source": [
    "#hide\n",
    "def get_template(path):\n",
    "    from urllib.parse import urlparse\n",
    "    if bool(urlparse(path).netloc):\n",
    "        from urllib.request import urlopen\n",
    "        return urlopen(path).read().decode('utf8')\n",
    "    return open(path).read()"
   ]
  },
  {
   "cell_type": "code",
   "execution_count": 7,
   "id": "realistic-blast",
   "metadata": {
    "execution": {
     "iopub.execute_input": "2021-08-07T12:10:16.375022Z",
     "iopub.status.busy": "2021-08-07T12:10:16.374433Z",
     "iopub.status.idle": "2021-08-07T12:10:16.377534Z",
     "shell.execute_reply": "2021-08-07T12:10:16.378031Z"
    },
    "papermill": {
     "duration": 0.044102,
     "end_time": "2021-08-07T12:10:16.378168",
     "exception": false,
     "start_time": "2021-08-07T12:10:16.334066",
     "status": "completed"
    },
    "tags": []
   },
   "outputs": [],
   "source": [
    "#hide\n",
    "def get_frame(name):\n",
    "    url = (\n",
    "        'https://raw.githubusercontent.com/CSSEGISandData/COVID-19/master/csse_covid_19_data/'\n",
    "        f'csse_covid_19_time_series/time_series_covid19_{name}_global.csv')\n",
    "    df = pd.read_csv(url)\n",
    "    # rename countries\n",
    "    df['Country/Region'] = df['Country/Region'].replace(mapping['replace.country'])\n",
    "    return df"
   ]
  },
  {
   "cell_type": "code",
   "execution_count": 8,
   "id": "affiliated-characterization",
   "metadata": {
    "execution": {
     "iopub.execute_input": "2021-08-07T12:10:16.456429Z",
     "iopub.status.busy": "2021-08-07T12:10:16.455360Z",
     "iopub.status.idle": "2021-08-07T12:10:16.457540Z",
     "shell.execute_reply": "2021-08-07T12:10:16.458033Z"
    },
    "papermill": {
     "duration": 0.044541,
     "end_time": "2021-08-07T12:10:16.458172",
     "exception": false,
     "start_time": "2021-08-07T12:10:16.413631",
     "status": "completed"
    },
    "tags": []
   },
   "outputs": [],
   "source": [
    "#hide\n",
    "def get_dates(df):\n",
    "    dt_cols = df.columns[~df.columns.isin(['Province/State', 'Country/Region', 'Lat', 'Long'])]\n",
    "    LAST_DATE_I = -1\n",
    "    # sometimes last column may be empty, then go backwards\n",
    "    for i in range(-1, -len(dt_cols), -1):\n",
    "        if not df[dt_cols[i]].fillna(0).eq(0).all():\n",
    "            LAST_DATE_I = i\n",
    "            break\n",
    "    return LAST_DATE_I, dt_cols"
   ]
  },
  {
   "cell_type": "code",
   "execution_count": 9,
   "id": "recent-optimization",
   "metadata": {
    "execution": {
     "iopub.execute_input": "2021-08-07T12:10:16.534054Z",
     "iopub.status.busy": "2021-08-07T12:10:16.533459Z",
     "iopub.status.idle": "2021-08-07T12:10:16.920835Z",
     "shell.execute_reply": "2021-08-07T12:10:16.920049Z"
    },
    "papermill": {
     "duration": 0.429375,
     "end_time": "2021-08-07T12:10:16.921026",
     "exception": false,
     "start_time": "2021-08-07T12:10:16.491651",
     "status": "completed"
    },
    "tags": []
   },
   "outputs": [],
   "source": [
    "#hide\n",
    "COL_REGION = 'Country/Region'\n",
    "# Confirmed, Recovered, Deaths\n",
    "df = get_frame('confirmed')\n",
    "# dft_: timeseries, dfc_: today country agg\n",
    "dft_cases = df\n",
    "dft_deaths = get_frame('deaths')\n",
    "dft_recovered = get_frame('recovered')\n",
    "LAST_DATE_I, dt_cols = get_dates(df)"
   ]
  },
  {
   "cell_type": "code",
   "execution_count": 10,
   "id": "absolute-copper",
   "metadata": {
    "execution": {
     "iopub.execute_input": "2021-08-07T12:10:16.997056Z",
     "iopub.status.busy": "2021-08-07T12:10:16.996430Z",
     "iopub.status.idle": "2021-08-07T12:10:16.998465Z",
     "shell.execute_reply": "2021-08-07T12:10:16.999001Z"
    },
    "papermill": {
     "duration": 0.04354,
     "end_time": "2021-08-07T12:10:16.999133",
     "exception": false,
     "start_time": "2021-08-07T12:10:16.955593",
     "status": "completed"
    },
    "tags": []
   },
   "outputs": [],
   "source": [
    "#hide\n",
    "LAST_DATE_I, dt_cols = get_dates(df)\n",
    "dt_today =dt_cols[LAST_DATE_I]\n",
    "# dt_5day = dt_cols[LAST_DATE_I - 5]\n",
    "dt_yday = dt_cols[LAST_DATE_I - 1]"
   ]
  },
  {
   "cell_type": "code",
   "execution_count": 11,
   "id": "restricted-sheriff",
   "metadata": {
    "execution": {
     "iopub.execute_input": "2021-08-07T12:10:17.090489Z",
     "iopub.status.busy": "2021-08-07T12:10:17.089898Z",
     "iopub.status.idle": "2021-08-07T12:10:17.097704Z",
     "shell.execute_reply": "2021-08-07T12:10:17.097228Z"
    },
    "papermill": {
     "duration": 0.057916,
     "end_time": "2021-08-07T12:10:17.097827",
     "exception": false,
     "start_time": "2021-08-07T12:10:17.039911",
     "status": "completed"
    },
    "tags": []
   },
   "outputs": [],
   "source": [
    "#hide\n",
    "dfc_cases = dft_cases.groupby(COL_REGION)[dt_today].sum()\n",
    "dfc_deaths = dft_deaths.groupby(COL_REGION)[dt_today].sum()\n",
    "# dfp_cases = dft_cases.groupby(COL_REGION)[dt_5day].sum()\n",
    "# dfp_deaths = dft_deaths.groupby(COL_REGION)[dt_5day].sum()\n",
    "dfp_cases = dft_cases.groupby(COL_REGION)[dt_yday].sum()\n",
    "dfp_deaths = dft_deaths.groupby(COL_REGION)[dt_yday].sum()"
   ]
  },
  {
   "cell_type": "code",
   "execution_count": 12,
   "id": "deluxe-hepatitis",
   "metadata": {
    "execution": {
     "iopub.execute_input": "2021-08-07T12:10:17.181935Z",
     "iopub.status.busy": "2021-08-07T12:10:17.181339Z",
     "iopub.status.idle": "2021-08-07T12:10:17.186795Z",
     "shell.execute_reply": "2021-08-07T12:10:17.186260Z"
    },
    "papermill": {
     "duration": 0.046894,
     "end_time": "2021-08-07T12:10:17.186963",
     "exception": false,
     "start_time": "2021-08-07T12:10:17.140069",
     "status": "completed"
    },
    "tags": []
   },
   "outputs": [],
   "source": [
    "#hide\n",
    "df_table = (pd.DataFrame(dict(Cases = dfc_cases, Deaths = dfc_deaths, PCases = dfp_cases, PDeaths = dfp_deaths))\n",
    "            .sort_values(by = ['Cases','Deaths'], ascending = [False, False])\n",
    "            .reset_index())"
   ]
  },
  {
   "cell_type": "code",
   "execution_count": 13,
   "id": "educational-chancellor",
   "metadata": {
    "execution": {
     "iopub.execute_input": "2021-08-07T12:10:17.280160Z",
     "iopub.status.busy": "2021-08-07T12:10:17.279547Z",
     "iopub.status.idle": "2021-08-07T12:10:17.287712Z",
     "shell.execute_reply": "2021-08-07T12:10:17.288182Z"
    },
    "papermill": {
     "duration": 0.061769,
     "end_time": "2021-08-07T12:10:17.288325",
     "exception": false,
     "start_time": "2021-08-07T12:10:17.226556",
     "status": "completed"
    },
    "tags": []
   },
   "outputs": [
    {
     "data": {
      "text/html": [
       "<div>\n",
       "<style scoped>\n",
       "    .dataframe tbody tr th:only-of-type {\n",
       "        vertical-align: middle;\n",
       "    }\n",
       "\n",
       "    .dataframe tbody tr th {\n",
       "        vertical-align: top;\n",
       "    }\n",
       "\n",
       "    .dataframe thead th {\n",
       "        text-align: right;\n",
       "    }\n",
       "</style>\n",
       "<table border=\"1\" class=\"dataframe\">\n",
       "  <thead>\n",
       "    <tr style=\"text-align: right;\">\n",
       "      <th></th>\n",
       "      <th>Country/Region</th>\n",
       "      <th>Cases</th>\n",
       "      <th>Deaths</th>\n",
       "      <th>PCases</th>\n",
       "      <th>PDeaths</th>\n",
       "      <th>Cases (+)</th>\n",
       "      <th>Deaths (+)</th>\n",
       "      <th>Fatality Rate</th>\n",
       "      <th>Continent</th>\n",
       "    </tr>\n",
       "  </thead>\n",
       "  <tbody>\n",
       "    <tr>\n",
       "      <th>0</th>\n",
       "      <td>US</td>\n",
       "      <td>35695469</td>\n",
       "      <td>616493</td>\n",
       "      <td>35440488</td>\n",
       "      <td>615320</td>\n",
       "      <td>254981</td>\n",
       "      <td>1173</td>\n",
       "      <td>1.73</td>\n",
       "      <td>North America</td>\n",
       "    </tr>\n",
       "    <tr>\n",
       "      <th>1</th>\n",
       "      <td>India</td>\n",
       "      <td>31895385</td>\n",
       "      <td>427371</td>\n",
       "      <td>31856757</td>\n",
       "      <td>426754</td>\n",
       "      <td>38628</td>\n",
       "      <td>617</td>\n",
       "      <td>1.34</td>\n",
       "      <td>Asia</td>\n",
       "    </tr>\n",
       "    <tr>\n",
       "      <th>2</th>\n",
       "      <td>Brazil</td>\n",
       "      <td>20108746</td>\n",
       "      <td>561762</td>\n",
       "      <td>20066587</td>\n",
       "      <td>560706</td>\n",
       "      <td>42159</td>\n",
       "      <td>1056</td>\n",
       "      <td>2.79</td>\n",
       "      <td>South America</td>\n",
       "    </tr>\n",
       "    <tr>\n",
       "      <th>3</th>\n",
       "      <td>France</td>\n",
       "      <td>6325144</td>\n",
       "      <td>112347</td>\n",
       "      <td>6299138</td>\n",
       "      <td>112283</td>\n",
       "      <td>26006</td>\n",
       "      <td>64</td>\n",
       "      <td>1.78</td>\n",
       "      <td>Europe</td>\n",
       "    </tr>\n",
       "    <tr>\n",
       "      <th>4</th>\n",
       "      <td>Russia</td>\n",
       "      <td>6318643</td>\n",
       "      <td>160574</td>\n",
       "      <td>6296570</td>\n",
       "      <td>159803</td>\n",
       "      <td>22073</td>\n",
       "      <td>771</td>\n",
       "      <td>2.54</td>\n",
       "      <td>Europe</td>\n",
       "    </tr>\n",
       "  </tbody>\n",
       "</table>\n",
       "</div>"
      ],
      "text/plain": [
       "  Country/Region     Cases  Deaths    PCases  PDeaths  Cases (+)  Deaths (+)  \\\n",
       "0             US  35695469  616493  35440488   615320     254981        1173   \n",
       "1          India  31895385  427371  31856757   426754      38628         617   \n",
       "2         Brazil  20108746  561762  20066587   560706      42159        1056   \n",
       "3         France   6325144  112347   6299138   112283      26006          64   \n",
       "4         Russia   6318643  160574   6296570   159803      22073         771   \n",
       "\n",
       "   Fatality Rate      Continent  \n",
       "0           1.73  North America  \n",
       "1           1.34           Asia  \n",
       "2           2.79  South America  \n",
       "3           1.78         Europe  \n",
       "4           2.54         Europe  "
      ]
     },
     "execution_count": 13,
     "metadata": {},
     "output_type": "execute_result"
    }
   ],
   "source": [
    "#hide\n",
    "for c in 'Cases, Deaths'.split(', '):\n",
    "    df_table[f'{c} (+)'] = (df_table[c] - df_table[f'P{c}']).clip(0)\n",
    "    #Clip ça veut dire, les chiffres negatif sont interdit\n",
    "df_table['Fatality Rate'] = (100* df_table['Deaths']/ df_table['Cases']).round(2)\n",
    "df_table['Continent'] = df_table['Country/Region'].map(mapping['map.continent'])\n",
    "df_table.head(5)"
   ]
  },
  {
   "cell_type": "code",
   "execution_count": 14,
   "id": "aboriginal-bulgaria",
   "metadata": {
    "execution": {
     "iopub.execute_input": "2021-08-07T12:10:17.373813Z",
     "iopub.status.busy": "2021-08-07T12:10:17.373228Z",
     "iopub.status.idle": "2021-08-07T12:10:17.375346Z",
     "shell.execute_reply": "2021-08-07T12:10:17.374911Z"
    },
    "papermill": {
     "duration": 0.044975,
     "end_time": "2021-08-07T12:10:17.375461",
     "exception": false,
     "start_time": "2021-08-07T12:10:17.330486",
     "status": "completed"
    },
    "tags": []
   },
   "outputs": [],
   "source": [
    "#hide\n",
    "#delete problematic countries from table\n",
    "df_table = df_table[~df_table['Country/Region'].isin(['Cape Verde', 'Cruise Ship', 'Kosovo'])]"
   ]
  },
  {
   "cell_type": "code",
   "execution_count": 15,
   "id": "fantastic-effect",
   "metadata": {
    "execution": {
     "iopub.execute_input": "2021-08-07T12:10:17.456403Z",
     "iopub.status.busy": "2021-08-07T12:10:17.455355Z",
     "iopub.status.idle": "2021-08-07T12:10:17.476359Z",
     "shell.execute_reply": "2021-08-07T12:10:17.475830Z"
    },
    "papermill": {
     "duration": 0.066864,
     "end_time": "2021-08-07T12:10:17.476488",
     "exception": false,
     "start_time": "2021-08-07T12:10:17.409624",
     "status": "completed"
    },
    "tags": []
   },
   "outputs": [
    {
     "data": {
      "text/html": [
       "<div>\n",
       "<style scoped>\n",
       "    .dataframe tbody tr th:only-of-type {\n",
       "        vertical-align: middle;\n",
       "    }\n",
       "\n",
       "    .dataframe tbody tr th {\n",
       "        vertical-align: top;\n",
       "    }\n",
       "\n",
       "    .dataframe thead th {\n",
       "        text-align: right;\n",
       "    }\n",
       "</style>\n",
       "<table border=\"1\" class=\"dataframe\">\n",
       "  <thead>\n",
       "    <tr style=\"text-align: right;\">\n",
       "      <th></th>\n",
       "      <th>Country/Region</th>\n",
       "      <th>Cases</th>\n",
       "      <th>Deaths</th>\n",
       "      <th>PCases</th>\n",
       "      <th>PDeaths</th>\n",
       "      <th>Cases (+)</th>\n",
       "      <th>Deaths (+)</th>\n",
       "      <th>Fatality Rate</th>\n",
       "      <th>Continent</th>\n",
       "    </tr>\n",
       "  </thead>\n",
       "  <tbody>\n",
       "    <tr>\n",
       "      <th>0</th>\n",
       "      <td>US</td>\n",
       "      <td>35695469</td>\n",
       "      <td>616493</td>\n",
       "      <td>35440488</td>\n",
       "      <td>615320</td>\n",
       "      <td>254981</td>\n",
       "      <td>1173</td>\n",
       "      <td>1.7</td>\n",
       "      <td>North America</td>\n",
       "    </tr>\n",
       "    <tr>\n",
       "      <th>1</th>\n",
       "      <td>India</td>\n",
       "      <td>31895385</td>\n",
       "      <td>427371</td>\n",
       "      <td>31856757</td>\n",
       "      <td>426754</td>\n",
       "      <td>38628</td>\n",
       "      <td>617</td>\n",
       "      <td>1.3</td>\n",
       "      <td>Asia</td>\n",
       "    </tr>\n",
       "    <tr>\n",
       "      <th>2</th>\n",
       "      <td>Brazil</td>\n",
       "      <td>20108746</td>\n",
       "      <td>561762</td>\n",
       "      <td>20066587</td>\n",
       "      <td>560706</td>\n",
       "      <td>42159</td>\n",
       "      <td>1056</td>\n",
       "      <td>2.8</td>\n",
       "      <td>South America</td>\n",
       "    </tr>\n",
       "    <tr>\n",
       "      <th>3</th>\n",
       "      <td>France</td>\n",
       "      <td>6325144</td>\n",
       "      <td>112347</td>\n",
       "      <td>6299138</td>\n",
       "      <td>112283</td>\n",
       "      <td>26006</td>\n",
       "      <td>64</td>\n",
       "      <td>1.8</td>\n",
       "      <td>Europe</td>\n",
       "    </tr>\n",
       "    <tr>\n",
       "      <th>4</th>\n",
       "      <td>Russia</td>\n",
       "      <td>6318643</td>\n",
       "      <td>160574</td>\n",
       "      <td>6296570</td>\n",
       "      <td>159803</td>\n",
       "      <td>22073</td>\n",
       "      <td>771</td>\n",
       "      <td>2.5</td>\n",
       "      <td>Europe</td>\n",
       "    </tr>\n",
       "  </tbody>\n",
       "</table>\n",
       "</div>"
      ],
      "text/plain": [
       "  Country/Region     Cases  Deaths    PCases  PDeaths  Cases (+)  Deaths (+)  \\\n",
       "0             US  35695469  616493  35440488   615320     254981        1173   \n",
       "1          India  31895385  427371  31856757   426754      38628         617   \n",
       "2         Brazil  20108746  561762  20066587   560706      42159        1056   \n",
       "3         France   6325144  112347   6299138   112283      26006          64   \n",
       "4         Russia   6318643  160574   6296570   159803      22073         771   \n",
       "\n",
       "   Fatality Rate      Continent  \n",
       "0            1.7  North America  \n",
       "1            1.3           Asia  \n",
       "2            2.8  South America  \n",
       "3            1.8         Europe  \n",
       "4            2.5         Europe  "
      ]
     },
     "execution_count": 15,
     "metadata": {},
     "output_type": "execute_result"
    }
   ],
   "source": [
    "#hide\n",
    "df_table = (pd.DataFrame(dict(Cases=dfc_cases, Deaths=dfc_deaths, PCases=dfp_cases, PDeaths=dfp_deaths))\n",
    "             .sort_values(by=['Cases', 'Deaths'], ascending=[False, False])\n",
    "             .reset_index())\n",
    "df_table.rename(columns={'index': 'Country/Region'}, inplace=True)\n",
    "for c in 'Cases, Deaths'.split(', '):\n",
    "    df_table[f'{c} (+)'] = (df_table[c] - df_table[f'P{c}']).clip(0)  # DATA BUG\n",
    "df_table['Fatality Rate'] = (100 * df_table['Deaths'] / df_table['Cases']).round(1)\n",
    "df_table['Continent'] = df_table['Country/Region'].map(mapping['map.continent'])\n",
    "df_table.head(5)"
   ]
  },
  {
   "cell_type": "code",
   "execution_count": 16,
   "id": "fewer-occasion",
   "metadata": {
    "execution": {
     "iopub.execute_input": "2021-08-07T12:10:17.554671Z",
     "iopub.status.busy": "2021-08-07T12:10:17.554086Z",
     "iopub.status.idle": "2021-08-07T12:10:17.555908Z",
     "shell.execute_reply": "2021-08-07T12:10:17.556348Z"
    },
    "papermill": {
     "duration": 0.04478,
     "end_time": "2021-08-07T12:10:17.556489",
     "exception": false,
     "start_time": "2021-08-07T12:10:17.511709",
     "status": "completed"
    },
    "tags": []
   },
   "outputs": [],
   "source": [
    "#hide\n",
    "#delete problematic countries from table\n",
    "df_table = df_table[~df_table['Country/Region'].isin(['Cape Verde', 'Cruise Ship', 'Kosovo'])]"
   ]
  },
  {
   "cell_type": "code",
   "execution_count": 17,
   "id": "related-center",
   "metadata": {
    "execution": {
     "iopub.execute_input": "2021-08-07T12:10:17.638572Z",
     "iopub.status.busy": "2021-08-07T12:10:17.637984Z",
     "iopub.status.idle": "2021-08-07T12:10:17.651469Z",
     "shell.execute_reply": "2021-08-07T12:10:17.650885Z"
    },
    "papermill": {
     "duration": 0.05939,
     "end_time": "2021-08-07T12:10:17.651589",
     "exception": false,
     "start_time": "2021-08-07T12:10:17.592199",
     "status": "completed"
    },
    "tags": []
   },
   "outputs": [],
   "source": [
    "#hide\n",
    "metrics = [df_table.columns[index] for index in [1,2,5,6]]\n",
    "# s_china = df_table[df_table['Country/Region'].eq('China')][metrics].sum().add_prefix('China ')\n",
    "s_us = df_table[df_table['Country/Region'].eq('US')][metrics].sum().add_prefix('US ')\n",
    "s_eu = df_table[df_table['Continent'].eq('Europe')][metrics].sum().add_prefix('EU ')\n",
    "s_ind = df_table[df_table['Country/Region'].eq('India')][metrics].sum().add_prefix('India ')\n",
    "summary = {'updated': pd.to_datetime(dt_today), 'since': pd.to_datetime(dt_yday)}\n",
    "summary = {'updated': pd.to_datetime(dt_today), 'since': pd.to_datetime(dt_yday)}\n",
    "summary = {**summary, **df_table[metrics].sum(), **s_ind, **s_us, **s_eu}"
   ]
  },
  {
   "cell_type": "code",
   "execution_count": 18,
   "id": "engaging-syndrome",
   "metadata": {
    "execution": {
     "iopub.execute_input": "2021-08-07T12:10:17.731004Z",
     "iopub.status.busy": "2021-08-07T12:10:17.730380Z",
     "iopub.status.idle": "2021-08-07T12:10:17.744032Z",
     "shell.execute_reply": "2021-08-07T12:10:17.743521Z"
    },
    "papermill": {
     "duration": 0.056751,
     "end_time": "2021-08-07T12:10:17.744158",
     "exception": false,
     "start_time": "2021-08-07T12:10:17.687407",
     "status": "completed"
    },
    "tags": []
   },
   "outputs": [],
   "source": [
    "#hide\n",
    "dft_ct_new_cases = dft_cases.groupby(COL_REGION)[dt_cols].sum().diff(axis=1).fillna(0).astype(int)"
   ]
  },
  {
   "cell_type": "code",
   "execution_count": 19,
   "id": "neutral-assignment",
   "metadata": {
    "execution": {
     "iopub.execute_input": "2021-08-07T12:10:17.821547Z",
     "iopub.status.busy": "2021-08-07T12:10:17.820935Z",
     "iopub.status.idle": "2021-08-07T12:10:17.823559Z",
     "shell.execute_reply": "2021-08-07T12:10:17.823087Z"
    },
    "papermill": {
     "duration": 0.044368,
     "end_time": "2021-08-07T12:10:17.823682",
     "exception": false,
     "start_time": "2021-08-07T12:10:17.779314",
     "status": "completed"
    },
    "tags": []
   },
   "outputs": [],
   "source": [
    "#hide\n",
    "everydaycases = dft_ct_new_cases.cumsum(axis=1)"
   ]
  },
  {
   "cell_type": "code",
   "execution_count": 20,
   "id": "parliamentary-calgary",
   "metadata": {
    "execution": {
     "iopub.execute_input": "2021-08-07T12:10:17.901339Z",
     "iopub.status.busy": "2021-08-07T12:10:17.900724Z",
     "iopub.status.idle": "2021-08-07T12:10:18.534278Z",
     "shell.execute_reply": "2021-08-07T12:10:18.533736Z"
    },
    "papermill": {
     "duration": 0.673369,
     "end_time": "2021-08-07T12:10:18.534406",
     "exception": false,
     "start_time": "2021-08-07T12:10:17.861037",
     "status": "completed"
    },
    "tags": []
   },
   "outputs": [],
   "source": [
    "#hide\n",
    "import pandas as pd\n",
    "import matplotlib.pyplot as plt\n",
    "import matplotlib.ticker as ticker\n",
    "import matplotlib.animation as animation\n",
    "from IPython.display import HTML"
   ]
  },
  {
   "cell_type": "code",
   "execution_count": 21,
   "id": "lasting-extraction",
   "metadata": {
    "execution": {
     "iopub.execute_input": "2021-08-07T12:10:18.613988Z",
     "iopub.status.busy": "2021-08-07T12:10:18.613388Z",
     "iopub.status.idle": "2021-08-07T12:10:18.620380Z",
     "shell.execute_reply": "2021-08-07T12:10:18.621020Z"
    },
    "papermill": {
     "duration": 0.050494,
     "end_time": "2021-08-07T12:10:18.621173",
     "exception": false,
     "start_time": "2021-08-07T12:10:18.570679",
     "status": "completed"
    },
    "tags": []
   },
   "outputs": [],
   "source": [
    "#hide\n",
    "t = everydaycases.stack()"
   ]
  },
  {
   "cell_type": "code",
   "execution_count": 22,
   "id": "premier-sleeve",
   "metadata": {
    "execution": {
     "iopub.execute_input": "2021-08-07T12:10:18.700078Z",
     "iopub.status.busy": "2021-08-07T12:10:18.699499Z",
     "iopub.status.idle": "2021-08-07T12:10:18.709458Z",
     "shell.execute_reply": "2021-08-07T12:10:18.709015Z"
    },
    "papermill": {
     "duration": 0.052634,
     "end_time": "2021-08-07T12:10:18.709575",
     "exception": false,
     "start_time": "2021-08-07T12:10:18.656941",
     "status": "completed"
    },
    "tags": []
   },
   "outputs": [],
   "source": [
    "#hide\n",
    "g = t.reset_index(['Country/Region'])"
   ]
  },
  {
   "cell_type": "code",
   "execution_count": 23,
   "id": "distributed-pittsburgh",
   "metadata": {
    "execution": {
     "iopub.execute_input": "2021-08-07T12:10:18.791632Z",
     "iopub.status.busy": "2021-08-07T12:10:18.791071Z",
     "iopub.status.idle": "2021-08-07T12:10:18.793328Z",
     "shell.execute_reply": "2021-08-07T12:10:18.792744Z"
    },
    "papermill": {
     "duration": 0.04557,
     "end_time": "2021-08-07T12:10:18.793462",
     "exception": false,
     "start_time": "2021-08-07T12:10:18.747892",
     "status": "completed"
    },
    "tags": []
   },
   "outputs": [],
   "source": [
    "#hide\n",
    "g.index.name = 'date'"
   ]
  },
  {
   "cell_type": "code",
   "execution_count": 24,
   "id": "naked-donor",
   "metadata": {
    "execution": {
     "iopub.execute_input": "2021-08-07T12:10:18.875241Z",
     "iopub.status.busy": "2021-08-07T12:10:18.874553Z",
     "iopub.status.idle": "2021-08-07T12:10:18.875852Z",
     "shell.execute_reply": "2021-08-07T12:10:18.876310Z"
    },
    "papermill": {
     "duration": 0.046021,
     "end_time": "2021-08-07T12:10:18.876448",
     "exception": false,
     "start_time": "2021-08-07T12:10:18.830427",
     "status": "completed"
    },
    "tags": []
   },
   "outputs": [],
   "source": [
    "# #hide\n",
    "# g = g.reset_index(['date'])"
   ]
  },
  {
   "cell_type": "code",
   "execution_count": 25,
   "id": "incomplete-mustang",
   "metadata": {
    "execution": {
     "iopub.execute_input": "2021-08-07T12:10:18.951869Z",
     "iopub.status.busy": "2021-08-07T12:10:18.951290Z",
     "iopub.status.idle": "2021-08-07T12:10:18.953689Z",
     "shell.execute_reply": "2021-08-07T12:10:18.954283Z"
    },
    "papermill": {
     "duration": 0.043418,
     "end_time": "2021-08-07T12:10:18.954427",
     "exception": false,
     "start_time": "2021-08-07T12:10:18.911009",
     "status": "completed"
    },
    "tags": []
   },
   "outputs": [],
   "source": [
    "#hide\n",
    "# g.head()"
   ]
  },
  {
   "cell_type": "code",
   "execution_count": 26,
   "id": "specific-kruger",
   "metadata": {
    "execution": {
     "iopub.execute_input": "2021-08-07T12:10:19.030080Z",
     "iopub.status.busy": "2021-08-07T12:10:19.029499Z",
     "iopub.status.idle": "2021-08-07T12:10:19.032499Z",
     "shell.execute_reply": "2021-08-07T12:10:19.031930Z"
    },
    "papermill": {
     "duration": 0.041552,
     "end_time": "2021-08-07T12:10:19.032634",
     "exception": false,
     "start_time": "2021-08-07T12:10:18.991082",
     "status": "completed"
    },
    "tags": []
   },
   "outputs": [],
   "source": [
    "#hide\n",
    "# g.columns = ['date','country','cases']"
   ]
  },
  {
   "cell_type": "code",
   "execution_count": 27,
   "id": "tender-conversion",
   "metadata": {
    "execution": {
     "iopub.execute_input": "2021-08-07T12:10:19.107708Z",
     "iopub.status.busy": "2021-08-07T12:10:19.107126Z",
     "iopub.status.idle": "2021-08-07T12:10:19.109850Z",
     "shell.execute_reply": "2021-08-07T12:10:19.109368Z"
    },
    "papermill": {
     "duration": 0.042135,
     "end_time": "2021-08-07T12:10:19.109978",
     "exception": false,
     "start_time": "2021-08-07T12:10:19.067843",
     "status": "completed"
    },
    "tags": []
   },
   "outputs": [],
   "source": [
    "#hide\n",
    "# g['continent'] = g.country"
   ]
  },
  {
   "cell_type": "code",
   "execution_count": 28,
   "id": "substantial-wilderness",
   "metadata": {
    "execution": {
     "iopub.execute_input": "2021-08-07T12:10:19.184738Z",
     "iopub.status.busy": "2021-08-07T12:10:19.184131Z",
     "iopub.status.idle": "2021-08-07T12:10:19.186426Z",
     "shell.execute_reply": "2021-08-07T12:10:19.185934Z"
    },
    "papermill": {
     "duration": 0.042282,
     "end_time": "2021-08-07T12:10:19.186542",
     "exception": false,
     "start_time": "2021-08-07T12:10:19.144260",
     "status": "completed"
    },
    "tags": []
   },
   "outputs": [],
   "source": [
    "#hide\n",
    "# cols = list(g.columns.values)"
   ]
  },
  {
   "cell_type": "code",
   "execution_count": 29,
   "id": "solved-farming",
   "metadata": {
    "execution": {
     "iopub.execute_input": "2021-08-07T12:10:19.262797Z",
     "iopub.status.busy": "2021-08-07T12:10:19.262212Z",
     "iopub.status.idle": "2021-08-07T12:10:19.264538Z",
     "shell.execute_reply": "2021-08-07T12:10:19.265123Z"
    },
    "papermill": {
     "duration": 0.042536,
     "end_time": "2021-08-07T12:10:19.265263",
     "exception": false,
     "start_time": "2021-08-07T12:10:19.222727",
     "status": "completed"
    },
    "tags": []
   },
   "outputs": [],
   "source": [
    "#hide\n",
    "# cols.insert(0, cols.pop())"
   ]
  },
  {
   "cell_type": "code",
   "execution_count": 30,
   "id": "executed-adoption",
   "metadata": {
    "execution": {
     "iopub.execute_input": "2021-08-07T12:10:19.341573Z",
     "iopub.status.busy": "2021-08-07T12:10:19.340983Z",
     "iopub.status.idle": "2021-08-07T12:10:19.342706Z",
     "shell.execute_reply": "2021-08-07T12:10:19.343200Z"
    },
    "papermill": {
     "duration": 0.041392,
     "end_time": "2021-08-07T12:10:19.343337",
     "exception": false,
     "start_time": "2021-08-07T12:10:19.301945",
     "status": "completed"
    },
    "tags": []
   },
   "outputs": [],
   "source": [
    "#hide\n",
    "# g = g[cols]"
   ]
  },
  {
   "cell_type": "code",
   "execution_count": 31,
   "id": "subject-dublin",
   "metadata": {
    "execution": {
     "iopub.execute_input": "2021-08-07T12:10:19.434522Z",
     "iopub.status.busy": "2021-08-07T12:10:19.433923Z",
     "iopub.status.idle": "2021-08-07T12:10:19.437672Z",
     "shell.execute_reply": "2021-08-07T12:10:19.437169Z"
    },
    "papermill": {
     "duration": 0.052747,
     "end_time": "2021-08-07T12:10:19.437796",
     "exception": false,
     "start_time": "2021-08-07T12:10:19.385049",
     "status": "completed"
    },
    "tags": []
   },
   "outputs": [],
   "source": [
    "#hide\n",
    "# g['continent'] = g['continent'].map(mapping['map.continent'])"
   ]
  },
  {
   "cell_type": "code",
   "execution_count": 32,
   "id": "freelance-scout",
   "metadata": {
    "execution": {
     "iopub.execute_input": "2021-08-07T12:10:19.518280Z",
     "iopub.status.busy": "2021-08-07T12:10:19.517681Z",
     "iopub.status.idle": "2021-08-07T12:10:19.520015Z",
     "shell.execute_reply": "2021-08-07T12:10:19.520568Z"
    },
    "papermill": {
     "duration": 0.047518,
     "end_time": "2021-08-07T12:10:19.520722",
     "exception": false,
     "start_time": "2021-08-07T12:10:19.473204",
     "status": "completed"
    },
    "tags": []
   },
   "outputs": [],
   "source": [
    "#hide\n",
    "# g.head()"
   ]
  },
  {
   "cell_type": "code",
   "execution_count": 33,
   "id": "limited-engine",
   "metadata": {
    "execution": {
     "iopub.execute_input": "2021-08-07T12:10:19.603870Z",
     "iopub.status.busy": "2021-08-07T12:10:19.603066Z",
     "iopub.status.idle": "2021-08-07T12:10:19.605775Z",
     "shell.execute_reply": "2021-08-07T12:10:19.605282Z"
    },
    "papermill": {
     "duration": 0.05006,
     "end_time": "2021-08-07T12:10:19.605896",
     "exception": false,
     "start_time": "2021-08-07T12:10:19.555836",
     "status": "completed"
    },
    "tags": []
   },
   "outputs": [],
   "source": [
    "# hide\n",
    "# g['date'] = g['date'].astype('datetime64[ns]')"
   ]
  },
  {
   "cell_type": "code",
   "execution_count": 34,
   "id": "sophisticated-supervisor",
   "metadata": {
    "execution": {
     "iopub.execute_input": "2021-08-07T12:10:19.689586Z",
     "iopub.status.busy": "2021-08-07T12:10:19.688500Z",
     "iopub.status.idle": "2021-08-07T12:10:19.690677Z",
     "shell.execute_reply": "2021-08-07T12:10:19.691483Z"
    },
    "papermill": {
     "duration": 0.043693,
     "end_time": "2021-08-07T12:10:19.691707",
     "exception": false,
     "start_time": "2021-08-07T12:10:19.648014",
     "status": "completed"
    },
    "tags": []
   },
   "outputs": [],
   "source": [
    "#hide\n",
    "# g['date'] = g.date.dt.dayofyear"
   ]
  },
  {
   "cell_type": "code",
   "execution_count": 35,
   "id": "inside-dubai",
   "metadata": {
    "execution": {
     "iopub.execute_input": "2021-08-07T12:10:19.769364Z",
     "iopub.status.busy": "2021-08-07T12:10:19.768772Z",
     "iopub.status.idle": "2021-08-07T12:10:19.770973Z",
     "shell.execute_reply": "2021-08-07T12:10:19.770478Z"
    },
    "papermill": {
     "duration": 0.041352,
     "end_time": "2021-08-07T12:10:19.771091",
     "exception": false,
     "start_time": "2021-08-07T12:10:19.729739",
     "status": "completed"
    },
    "tags": []
   },
   "outputs": [],
   "source": [
    "#hide\n",
    "# g = g.rename(columns= {'continent':'group','country':'name','cases':'value'})"
   ]
  },
  {
   "cell_type": "code",
   "execution_count": 36,
   "id": "fleet-motorcycle",
   "metadata": {
    "execution": {
     "iopub.execute_input": "2021-08-07T12:10:19.847880Z",
     "iopub.status.busy": "2021-08-07T12:10:19.847265Z",
     "iopub.status.idle": "2021-08-07T12:10:19.849893Z",
     "shell.execute_reply": "2021-08-07T12:10:19.849427Z"
    },
    "papermill": {
     "duration": 0.04252,
     "end_time": "2021-08-07T12:10:19.850017",
     "exception": false,
     "start_time": "2021-08-07T12:10:19.807497",
     "status": "completed"
    },
    "tags": []
   },
   "outputs": [],
   "source": [
    "#hide\n",
    "# cols = ['name','group','day','value']"
   ]
  },
  {
   "cell_type": "code",
   "execution_count": 37,
   "id": "continued-sleeping",
   "metadata": {
    "execution": {
     "iopub.execute_input": "2021-08-07T12:10:19.927374Z",
     "iopub.status.busy": "2021-08-07T12:10:19.926829Z",
     "iopub.status.idle": "2021-08-07T12:10:19.929306Z",
     "shell.execute_reply": "2021-08-07T12:10:19.929846Z"
    },
    "papermill": {
     "duration": 0.044884,
     "end_time": "2021-08-07T12:10:19.929982",
     "exception": false,
     "start_time": "2021-08-07T12:10:19.885098",
     "status": "completed"
    },
    "tags": []
   },
   "outputs": [],
   "source": [
    "#hide\n",
    "# g.rename(columns= {'date':'day'},inplace = True)"
   ]
  },
  {
   "cell_type": "code",
   "execution_count": 38,
   "id": "major-fight",
   "metadata": {
    "execution": {
     "iopub.execute_input": "2021-08-07T12:10:20.009335Z",
     "iopub.status.busy": "2021-08-07T12:10:20.008742Z",
     "iopub.status.idle": "2021-08-07T12:10:20.011205Z",
     "shell.execute_reply": "2021-08-07T12:10:20.010716Z"
    },
    "papermill": {
     "duration": 0.046517,
     "end_time": "2021-08-07T12:10:20.011323",
     "exception": false,
     "start_time": "2021-08-07T12:10:19.964806",
     "status": "completed"
    },
    "tags": []
   },
   "outputs": [],
   "source": [
    "#hide\n",
    "# g = g[cols]"
   ]
  },
  {
   "cell_type": "code",
   "execution_count": 39,
   "id": "structured-mobile",
   "metadata": {
    "execution": {
     "iopub.execute_input": "2021-08-07T12:10:20.086832Z",
     "iopub.status.busy": "2021-08-07T12:10:20.086241Z",
     "iopub.status.idle": "2021-08-07T12:10:20.087976Z",
     "shell.execute_reply": "2021-08-07T12:10:20.088469Z"
    },
    "papermill": {
     "duration": 0.040813,
     "end_time": "2021-08-07T12:10:20.088607",
     "exception": false,
     "start_time": "2021-08-07T12:10:20.047794",
     "status": "completed"
    },
    "tags": []
   },
   "outputs": [],
   "source": [
    "# #hide\n",
    "# g = g[g.group.notna()]"
   ]
  },
  {
   "cell_type": "code",
   "execution_count": 40,
   "id": "determined-closing",
   "metadata": {
    "execution": {
     "iopub.execute_input": "2021-08-07T12:10:20.167240Z",
     "iopub.status.busy": "2021-08-07T12:10:20.166199Z",
     "iopub.status.idle": "2021-08-07T12:10:20.168321Z",
     "shell.execute_reply": "2021-08-07T12:10:20.169170Z"
    },
    "papermill": {
     "duration": 0.042882,
     "end_time": "2021-08-07T12:10:20.169394",
     "exception": false,
     "start_time": "2021-08-07T12:10:20.126512",
     "status": "completed"
    },
    "tags": []
   },
   "outputs": [],
   "source": [
    "# #hide\n",
    "# colors = dict(zip(\n",
    "#     [\"Oceania\", \"Europe\", \"Asia\", \"South America\", \"Middle East\", \"North America\", \"Africa\"],\n",
    "#     [\"#adb0ff\", \"#ffb3ff\", \"#90d595\", \"#e48381\", \"#aafbff\", \"#f7bb5f\", \"#eafb50\"]\n",
    "# ))\n",
    "# group_lk = g.set_index('name')['group'].to_dict()"
   ]
  },
  {
   "cell_type": "code",
   "execution_count": null,
   "id": "gross-drinking",
   "metadata": {
    "papermill": {
     "duration": 0.035089,
     "end_time": "2021-08-07T12:10:20.241961",
     "exception": false,
     "start_time": "2021-08-07T12:10:20.206872",
     "status": "completed"
    },
    "tags": []
   },
   "outputs": [],
   "source": []
  },
  {
   "cell_type": "code",
   "execution_count": 41,
   "id": "subject-macintosh",
   "metadata": {
    "execution": {
     "iopub.execute_input": "2021-08-07T12:10:20.320184Z",
     "iopub.status.busy": "2021-08-07T12:10:20.319546Z",
     "iopub.status.idle": "2021-08-07T12:10:20.321049Z",
     "shell.execute_reply": "2021-08-07T12:10:20.321588Z"
    },
    "papermill": {
     "duration": 0.044272,
     "end_time": "2021-08-07T12:10:20.321722",
     "exception": false,
     "start_time": "2021-08-07T12:10:20.277450",
     "status": "completed"
    },
    "tags": []
   },
   "outputs": [],
   "source": [
    "# #hide\n",
    "# fig, ax = plt.subplots(figsize=(15, 8))\n",
    "\n",
    "# def draw_barchart(current_day):\n",
    "#     dff = g[g['day'].eq(current_day)].sort_values(by='value', ascending=True).tail(10)\n",
    "#     ax.clear()\n",
    "#     ax.barh(dff['name'], dff['value'], color=[colors[group_lk[x]] for x in dff['name']])\n",
    "#     dx = dff['value'].max() / 200\n",
    "    \n",
    "#     for i, (value, name) in enumerate(zip(dff['value'], dff['name'])):\n",
    "#         ax.text(value-dx, i,     name,           size=14, weight=600, ha='right', va='bottom')\n",
    "#         ax.text(value-dx, i-.25, group_lk[name], size=10, color='#444444', ha='right', va='baseline')\n",
    "#         ax.text(value+dx, i,     f'{value:,.0f}',  size=14, ha='left',  va='center')\n",
    "#     ax.text(1, 0.4, current_day, transform=ax.transAxes, color='#777777', size=46, ha='right', weight=800)\n",
    "#     ax.text(0, 1.06, 'Population (thousands)', transform=ax.transAxes, size=12, color='#777777')\n",
    "#     ax.xaxis.set_major_formatter(ticker.StrMethodFormatter('{x:,.0f}'))\n",
    "#     ax.xaxis.set_ticks_position('top')\n",
    "#     ax.tick_params(axis='x', colors='#777777', labelsize=12)\n",
    "#     ax.set_yticks([])\n",
    "#     ax.margins(0, 0.01)\n",
    "#     ax.grid(which='major', axis='x', linestyle='-')\n",
    "#     ax.set_axisbelow(True)\n",
    "    \n",
    "#     ax.text(0, 1.15, 'Coronavirus',\n",
    "#             transform=ax.transAxes, size=24, weight=600, ha='left', va='top')\n",
    "# #     ax.text(1, 0, 'by @pratapvardhan; credit @jburnmurdoch', transform=ax.transAxes, color='#777777', ha='right',\n",
    "# #             bbox=dict(facecolor='white', alpha=0.8, edgecolor='white'))\n",
    "#     plt.box(False)"
   ]
  },
  {
   "cell_type": "code",
   "execution_count": 42,
   "id": "sexual-wages",
   "metadata": {
    "execution": {
     "iopub.execute_input": "2021-08-07T12:10:20.401678Z",
     "iopub.status.busy": "2021-08-07T12:10:20.401090Z",
     "iopub.status.idle": "2021-08-07T12:10:20.403548Z",
     "shell.execute_reply": "2021-08-07T12:10:20.404063Z"
    },
    "papermill": {
     "duration": 0.042913,
     "end_time": "2021-08-07T12:10:20.404196",
     "exception": false,
     "start_time": "2021-08-07T12:10:20.361283",
     "status": "completed"
    },
    "tags": []
   },
   "outputs": [],
   "source": [
    "# #hide_input\n",
    "# fig, ax = plt.subplots(figsize=(15, 8))\n",
    "# animator = animation.FuncAnimation(fig, draw_barchart, frames=range(g.day.values.min(), g.day.values.max()))\n",
    "# HTML(animator.to_jshtml())\n",
    "# # or use animator.to_html5_video() or animator.save() "
   ]
  },
  {
   "cell_type": "code",
   "execution_count": null,
   "id": "australian-container",
   "metadata": {
    "papermill": {
     "duration": 0.034811,
     "end_time": "2021-08-07T12:10:20.474461",
     "exception": false,
     "start_time": "2021-08-07T12:10:20.439650",
     "status": "completed"
    },
    "tags": []
   },
   "outputs": [],
   "source": []
  },
  {
   "cell_type": "code",
   "execution_count": null,
   "id": "mediterranean-pontiac",
   "metadata": {
    "papermill": {
     "duration": 0.034532,
     "end_time": "2021-08-07T12:10:20.544705",
     "exception": false,
     "start_time": "2021-08-07T12:10:20.510173",
     "status": "completed"
    },
    "tags": []
   },
   "outputs": [],
   "source": []
  },
  {
   "cell_type": "code",
   "execution_count": null,
   "id": "aging-legislature",
   "metadata": {
    "papermill": {
     "duration": 0.036824,
     "end_time": "2021-08-07T12:10:20.617599",
     "exception": false,
     "start_time": "2021-08-07T12:10:20.580775",
     "status": "completed"
    },
    "tags": []
   },
   "outputs": [],
   "source": []
  }
 ],
 "metadata": {
  "kernelspec": {
   "display_name": "Python 3",
   "language": "python",
   "name": "python3"
  },
  "language_info": {
   "codemirror_mode": {
    "name": "ipython",
    "version": 3
   },
   "file_extension": ".py",
   "mimetype": "text/x-python",
   "name": "python",
   "nbconvert_exporter": "python",
   "pygments_lexer": "ipython3",
   "version": "3.6.14"
  },
  "papermill": {
   "duration": 6.722707,
   "end_time": "2021-08-07T12:10:20.961073",
   "environment_variables": {},
   "exception": null,
   "input_path": "2020-03-21-covid19exp.ipynb",
   "output_path": "2020-03-21-covid19exp.ipynb",
   "parameters": {},
   "start_time": "2021-08-07T12:10:14.238366",
   "version": "2.0.0"
  }
 },
 "nbformat": 4,
 "nbformat_minor": 5
}