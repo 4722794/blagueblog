{
 "cells": [
  {
   "cell_type": "markdown",
   "id": "muslim-click",
   "metadata": {
    "papermill": {
     "duration": 0.033952,
     "end_time": "2021-10-11T12:11:18.923567",
     "exception": false,
     "start_time": "2021-10-11T12:11:18.889615",
     "status": "completed"
    },
    "tags": []
   },
   "source": [
    "# COVID-19 Case Race\n",
    "> A race chart to see rising cases around the world\n",
    "\n",
    "- author: Hargun Oberoi\n",
    "- image: images/covid-overview.png\n",
    "- hide: false\n",
    "- badges: false"
   ]
  },
  {
   "cell_type": "code",
   "execution_count": 1,
   "id": "proof-material",
   "metadata": {
    "execution": {
     "iopub.execute_input": "2021-10-11T12:11:18.992562Z",
     "iopub.status.busy": "2021-10-11T12:11:18.992002Z",
     "iopub.status.idle": "2021-10-11T12:11:19.327412Z",
     "shell.execute_reply": "2021-10-11T12:11:19.326832Z"
    },
    "papermill": {
     "duration": 0.374049,
     "end_time": "2021-10-11T12:11:19.327583",
     "exception": false,
     "start_time": "2021-10-11T12:11:18.953534",
     "status": "completed"
    },
    "tags": []
   },
   "outputs": [],
   "source": [
    "#hide\n",
    "import numpy as np\n",
    "import pandas as pd\n",
    "from jinja2 import Template\n",
    "from IPython.display import HTML"
   ]
  },
  {
   "cell_type": "code",
   "execution_count": 2,
   "id": "developed-terminology",
   "metadata": {
    "execution": {
     "iopub.execute_input": "2021-10-11T12:11:19.394058Z",
     "iopub.status.busy": "2021-10-11T12:11:19.393430Z",
     "iopub.status.idle": "2021-10-11T12:11:19.394882Z",
     "shell.execute_reply": "2021-10-11T12:11:19.395339Z"
    },
    "papermill": {
     "duration": 0.03751,
     "end_time": "2021-10-11T12:11:19.395472",
     "exception": false,
     "start_time": "2021-10-11T12:11:19.357962",
     "status": "completed"
    },
    "tags": []
   },
   "outputs": [],
   "source": [
    "#hide\n",
    "\n",
    "# FETCH\n",
    "base_url = 'https://raw.githubusercontent.com/pratapvardhan/notebooks/master/covid19/'\n",
    "paths = {\n",
    "    'mapping': base_url + 'mapping_countries.csv',\n",
    "    'overview': base_url + 'overview.tpl'\n",
    "}"
   ]
  },
  {
   "cell_type": "code",
   "execution_count": 3,
   "id": "dynamic-saver",
   "metadata": {
    "execution": {
     "iopub.execute_input": "2021-10-11T12:11:19.464850Z",
     "iopub.status.busy": "2021-10-11T12:11:19.463903Z",
     "iopub.status.idle": "2021-10-11T12:11:19.467037Z",
     "shell.execute_reply": "2021-10-11T12:11:19.466594Z"
    },
    "papermill": {
     "duration": 0.042383,
     "end_time": "2021-10-11T12:11:19.467152",
     "exception": false,
     "start_time": "2021-10-11T12:11:19.424769",
     "status": "completed"
    },
    "tags": []
   },
   "outputs": [
    {
     "data": {
      "text/plain": [
       "'https://raw.githubusercontent.com/pratapvardhan/notebooks/master/covid19/mapping_countries.csv'"
      ]
     },
     "execution_count": 3,
     "metadata": {},
     "output_type": "execute_result"
    }
   ],
   "source": [
    "#hide\n",
    "paths['mapping']"
   ]
  },
  {
   "cell_type": "code",
   "execution_count": 4,
   "id": "urban-software",
   "metadata": {
    "execution": {
     "iopub.execute_input": "2021-10-11T12:11:19.532185Z",
     "iopub.status.busy": "2021-10-11T12:11:19.531650Z",
     "iopub.status.idle": "2021-10-11T12:11:19.533736Z",
     "shell.execute_reply": "2021-10-11T12:11:19.534214Z"
    },
    "papermill": {
     "duration": 0.03727,
     "end_time": "2021-10-11T12:11:19.534346",
     "exception": false,
     "start_time": "2021-10-11T12:11:19.497076",
     "status": "completed"
    },
    "tags": []
   },
   "outputs": [],
   "source": [
    "#hide\n",
    "def get_mappings(url):\n",
    "    df = pd.read_csv(url)\n",
    "    return {\n",
    "        'df': df,\n",
    "        'replace.country': dict(df.dropna(subset=['Name']).set_index('Country')['Name']),\n",
    "        'map.continent': dict(df.set_index('Name')['Continent'])\n",
    "    }"
   ]
  },
  {
   "cell_type": "code",
   "execution_count": 5,
   "id": "intimate-machinery",
   "metadata": {
    "execution": {
     "iopub.execute_input": "2021-10-11T12:11:19.598487Z",
     "iopub.status.busy": "2021-10-11T12:11:19.597966Z",
     "iopub.status.idle": "2021-10-11T12:11:19.625103Z",
     "shell.execute_reply": "2021-10-11T12:11:19.624608Z"
    },
    "papermill": {
     "duration": 0.061448,
     "end_time": "2021-10-11T12:11:19.625235",
     "exception": false,
     "start_time": "2021-10-11T12:11:19.563787",
     "status": "completed"
    },
    "tags": []
   },
   "outputs": [],
   "source": [
    "#hide\n",
    "mapping = get_mappings(paths['mapping'])"
   ]
  },
  {
   "cell_type": "code",
   "execution_count": 6,
   "id": "certified-tactics",
   "metadata": {
    "execution": {
     "iopub.execute_input": "2021-10-11T12:11:19.689871Z",
     "iopub.status.busy": "2021-10-11T12:11:19.689351Z",
     "iopub.status.idle": "2021-10-11T12:11:19.691793Z",
     "shell.execute_reply": "2021-10-11T12:11:19.691372Z"
    },
    "papermill": {
     "duration": 0.036649,
     "end_time": "2021-10-11T12:11:19.691904",
     "exception": false,
     "start_time": "2021-10-11T12:11:19.655255",
     "status": "completed"
    },
    "tags": []
   },
   "outputs": [],
   "source": [
    "#hide\n",
    "def get_template(path):\n",
    "    from urllib.parse import urlparse\n",
    "    if bool(urlparse(path).netloc):\n",
    "        from urllib.request import urlopen\n",
    "        return urlopen(path).read().decode('utf8')\n",
    "    return open(path).read()"
   ]
  },
  {
   "cell_type": "code",
   "execution_count": 7,
   "id": "realistic-blast",
   "metadata": {
    "execution": {
     "iopub.execute_input": "2021-10-11T12:11:19.756005Z",
     "iopub.status.busy": "2021-10-11T12:11:19.755476Z",
     "iopub.status.idle": "2021-10-11T12:11:19.757609Z",
     "shell.execute_reply": "2021-10-11T12:11:19.757172Z"
    },
    "papermill": {
     "duration": 0.036367,
     "end_time": "2021-10-11T12:11:19.757717",
     "exception": false,
     "start_time": "2021-10-11T12:11:19.721350",
     "status": "completed"
    },
    "tags": []
   },
   "outputs": [],
   "source": [
    "#hide\n",
    "def get_frame(name):\n",
    "    url = (\n",
    "        'https://raw.githubusercontent.com/CSSEGISandData/COVID-19/master/csse_covid_19_data/'\n",
    "        f'csse_covid_19_time_series/time_series_covid19_{name}_global.csv')\n",
    "    df = pd.read_csv(url)\n",
    "    # rename countries\n",
    "    df['Country/Region'] = df['Country/Region'].replace(mapping['replace.country'])\n",
    "    return df"
   ]
  },
  {
   "cell_type": "code",
   "execution_count": 8,
   "id": "affiliated-characterization",
   "metadata": {
    "execution": {
     "iopub.execute_input": "2021-10-11T12:11:19.822728Z",
     "iopub.status.busy": "2021-10-11T12:11:19.822199Z",
     "iopub.status.idle": "2021-10-11T12:11:19.824219Z",
     "shell.execute_reply": "2021-10-11T12:11:19.824654Z"
    },
    "papermill": {
     "duration": 0.037545,
     "end_time": "2021-10-11T12:11:19.824785",
     "exception": false,
     "start_time": "2021-10-11T12:11:19.787240",
     "status": "completed"
    },
    "tags": []
   },
   "outputs": [],
   "source": [
    "#hide\n",
    "def get_dates(df):\n",
    "    dt_cols = df.columns[~df.columns.isin(['Province/State', 'Country/Region', 'Lat', 'Long'])]\n",
    "    LAST_DATE_I = -1\n",
    "    # sometimes last column may be empty, then go backwards\n",
    "    for i in range(-1, -len(dt_cols), -1):\n",
    "        if not df[dt_cols[i]].fillna(0).eq(0).all():\n",
    "            LAST_DATE_I = i\n",
    "            break\n",
    "    return LAST_DATE_I, dt_cols"
   ]
  },
  {
   "cell_type": "code",
   "execution_count": 9,
   "id": "recent-optimization",
   "metadata": {
    "execution": {
     "iopub.execute_input": "2021-10-11T12:11:19.889242Z",
     "iopub.status.busy": "2021-10-11T12:11:19.888589Z",
     "iopub.status.idle": "2021-10-11T12:11:20.187463Z",
     "shell.execute_reply": "2021-10-11T12:11:20.187973Z"
    },
    "papermill": {
     "duration": 0.333925,
     "end_time": "2021-10-11T12:11:20.188126",
     "exception": false,
     "start_time": "2021-10-11T12:11:19.854201",
     "status": "completed"
    },
    "tags": []
   },
   "outputs": [],
   "source": [
    "#hide\n",
    "COL_REGION = 'Country/Region'\n",
    "# Confirmed, Recovered, Deaths\n",
    "df = get_frame('confirmed')\n",
    "# dft_: timeseries, dfc_: today country agg\n",
    "dft_cases = df\n",
    "dft_deaths = get_frame('deaths')\n",
    "dft_recovered = get_frame('recovered')\n",
    "LAST_DATE_I, dt_cols = get_dates(df)"
   ]
  },
  {
   "cell_type": "code",
   "execution_count": 10,
   "id": "absolute-copper",
   "metadata": {
    "execution": {
     "iopub.execute_input": "2021-10-11T12:11:20.253980Z",
     "iopub.status.busy": "2021-10-11T12:11:20.253446Z",
     "iopub.status.idle": "2021-10-11T12:11:20.255671Z",
     "shell.execute_reply": "2021-10-11T12:11:20.255214Z"
    },
    "papermill": {
     "duration": 0.037746,
     "end_time": "2021-10-11T12:11:20.255793",
     "exception": false,
     "start_time": "2021-10-11T12:11:20.218047",
     "status": "completed"
    },
    "tags": []
   },
   "outputs": [],
   "source": [
    "#hide\n",
    "LAST_DATE_I, dt_cols = get_dates(df)\n",
    "dt_today =dt_cols[LAST_DATE_I]\n",
    "# dt_5day = dt_cols[LAST_DATE_I - 5]\n",
    "dt_yday = dt_cols[LAST_DATE_I - 1]"
   ]
  },
  {
   "cell_type": "code",
   "execution_count": 11,
   "id": "restricted-sheriff",
   "metadata": {
    "execution": {
     "iopub.execute_input": "2021-10-11T12:11:20.321544Z",
     "iopub.status.busy": "2021-10-11T12:11:20.321027Z",
     "iopub.status.idle": "2021-10-11T12:11:20.327839Z",
     "shell.execute_reply": "2021-10-11T12:11:20.328273Z"
    },
    "papermill": {
     "duration": 0.042676,
     "end_time": "2021-10-11T12:11:20.328404",
     "exception": false,
     "start_time": "2021-10-11T12:11:20.285728",
     "status": "completed"
    },
    "tags": []
   },
   "outputs": [],
   "source": [
    "#hide\n",
    "dfc_cases = dft_cases.groupby(COL_REGION)[dt_today].sum()\n",
    "dfc_deaths = dft_deaths.groupby(COL_REGION)[dt_today].sum()\n",
    "# dfp_cases = dft_cases.groupby(COL_REGION)[dt_5day].sum()\n",
    "# dfp_deaths = dft_deaths.groupby(COL_REGION)[dt_5day].sum()\n",
    "dfp_cases = dft_cases.groupby(COL_REGION)[dt_yday].sum()\n",
    "dfp_deaths = dft_deaths.groupby(COL_REGION)[dt_yday].sum()"
   ]
  },
  {
   "cell_type": "code",
   "execution_count": 12,
   "id": "deluxe-hepatitis",
   "metadata": {
    "execution": {
     "iopub.execute_input": "2021-10-11T12:11:20.394420Z",
     "iopub.status.busy": "2021-10-11T12:11:20.393901Z",
     "iopub.status.idle": "2021-10-11T12:11:20.397553Z",
     "shell.execute_reply": "2021-10-11T12:11:20.398047Z"
    },
    "papermill": {
     "duration": 0.040023,
     "end_time": "2021-10-11T12:11:20.398181",
     "exception": false,
     "start_time": "2021-10-11T12:11:20.358158",
     "status": "completed"
    },
    "tags": []
   },
   "outputs": [],
   "source": [
    "#hide\n",
    "df_table = (pd.DataFrame(dict(Cases = dfc_cases, Deaths = dfc_deaths, PCases = dfp_cases, PDeaths = dfp_deaths))\n",
    "            .sort_values(by = ['Cases','Deaths'], ascending = [False, False])\n",
    "            .reset_index())"
   ]
  },
  {
   "cell_type": "code",
   "execution_count": 13,
   "id": "educational-chancellor",
   "metadata": {
    "execution": {
     "iopub.execute_input": "2021-10-11T12:11:20.475340Z",
     "iopub.status.busy": "2021-10-11T12:11:20.474768Z",
     "iopub.status.idle": "2021-10-11T12:11:20.481583Z",
     "shell.execute_reply": "2021-10-11T12:11:20.481993Z"
    },
    "papermill": {
     "duration": 0.054224,
     "end_time": "2021-10-11T12:11:20.482129",
     "exception": false,
     "start_time": "2021-10-11T12:11:20.427905",
     "status": "completed"
    },
    "tags": []
   },
   "outputs": [
    {
     "data": {
      "text/html": [
       "<div>\n",
       "<style scoped>\n",
       "    .dataframe tbody tr th:only-of-type {\n",
       "        vertical-align: middle;\n",
       "    }\n",
       "\n",
       "    .dataframe tbody tr th {\n",
       "        vertical-align: top;\n",
       "    }\n",
       "\n",
       "    .dataframe thead th {\n",
       "        text-align: right;\n",
       "    }\n",
       "</style>\n",
       "<table border=\"1\" class=\"dataframe\">\n",
       "  <thead>\n",
       "    <tr style=\"text-align: right;\">\n",
       "      <th></th>\n",
       "      <th>Country/Region</th>\n",
       "      <th>Cases</th>\n",
       "      <th>Deaths</th>\n",
       "      <th>PCases</th>\n",
       "      <th>PDeaths</th>\n",
       "      <th>Cases (+)</th>\n",
       "      <th>Deaths (+)</th>\n",
       "      <th>Fatality Rate</th>\n",
       "      <th>Continent</th>\n",
       "    </tr>\n",
       "  </thead>\n",
       "  <tbody>\n",
       "    <tr>\n",
       "      <th>0</th>\n",
       "      <td>US</td>\n",
       "      <td>44339747</td>\n",
       "      <td>713227</td>\n",
       "      <td>44317553</td>\n",
       "      <td>712972</td>\n",
       "      <td>22194</td>\n",
       "      <td>255</td>\n",
       "      <td>1.61</td>\n",
       "      <td>North America</td>\n",
       "    </tr>\n",
       "    <tr>\n",
       "      <th>1</th>\n",
       "      <td>India</td>\n",
       "      <td>33971607</td>\n",
       "      <td>450782</td>\n",
       "      <td>33953475</td>\n",
       "      <td>450589</td>\n",
       "      <td>18132</td>\n",
       "      <td>193</td>\n",
       "      <td>1.33</td>\n",
       "      <td>Asia</td>\n",
       "    </tr>\n",
       "    <tr>\n",
       "      <th>2</th>\n",
       "      <td>Brazil</td>\n",
       "      <td>21575820</td>\n",
       "      <td>601011</td>\n",
       "      <td>21567181</td>\n",
       "      <td>600829</td>\n",
       "      <td>8639</td>\n",
       "      <td>182</td>\n",
       "      <td>2.79</td>\n",
       "      <td>South America</td>\n",
       "    </tr>\n",
       "    <tr>\n",
       "      <th>3</th>\n",
       "      <td>United Kingdom</td>\n",
       "      <td>8192589</td>\n",
       "      <td>138139</td>\n",
       "      <td>8158935</td>\n",
       "      <td>138101</td>\n",
       "      <td>33654</td>\n",
       "      <td>38</td>\n",
       "      <td>1.69</td>\n",
       "      <td>Europe</td>\n",
       "    </tr>\n",
       "    <tr>\n",
       "      <th>4</th>\n",
       "      <td>Russia</td>\n",
       "      <td>7658923</td>\n",
       "      <td>212576</td>\n",
       "      <td>7631034</td>\n",
       "      <td>211627</td>\n",
       "      <td>27889</td>\n",
       "      <td>949</td>\n",
       "      <td>2.78</td>\n",
       "      <td>Europe</td>\n",
       "    </tr>\n",
       "  </tbody>\n",
       "</table>\n",
       "</div>"
      ],
      "text/plain": [
       "   Country/Region     Cases  Deaths    PCases  PDeaths  Cases (+)  Deaths (+)  \\\n",
       "0              US  44339747  713227  44317553   712972      22194         255   \n",
       "1           India  33971607  450782  33953475   450589      18132         193   \n",
       "2          Brazil  21575820  601011  21567181   600829       8639         182   \n",
       "3  United Kingdom   8192589  138139   8158935   138101      33654          38   \n",
       "4          Russia   7658923  212576   7631034   211627      27889         949   \n",
       "\n",
       "   Fatality Rate      Continent  \n",
       "0           1.61  North America  \n",
       "1           1.33           Asia  \n",
       "2           2.79  South America  \n",
       "3           1.69         Europe  \n",
       "4           2.78         Europe  "
      ]
     },
     "execution_count": 13,
     "metadata": {},
     "output_type": "execute_result"
    }
   ],
   "source": [
    "#hide\n",
    "for c in 'Cases, Deaths'.split(', '):\n",
    "    df_table[f'{c} (+)'] = (df_table[c] - df_table[f'P{c}']).clip(0)\n",
    "    #Clip ça veut dire, les chiffres negatif sont interdit\n",
    "df_table['Fatality Rate'] = (100* df_table['Deaths']/ df_table['Cases']).round(2)\n",
    "df_table['Continent'] = df_table['Country/Region'].map(mapping['map.continent'])\n",
    "df_table.head(5)"
   ]
  },
  {
   "cell_type": "code",
   "execution_count": 14,
   "id": "aboriginal-bulgaria",
   "metadata": {
    "execution": {
     "iopub.execute_input": "2021-10-11T12:11:20.548222Z",
     "iopub.status.busy": "2021-10-11T12:11:20.547691Z",
     "iopub.status.idle": "2021-10-11T12:11:20.550203Z",
     "shell.execute_reply": "2021-10-11T12:11:20.549788Z"
    },
    "papermill": {
     "duration": 0.037994,
     "end_time": "2021-10-11T12:11:20.550320",
     "exception": false,
     "start_time": "2021-10-11T12:11:20.512326",
     "status": "completed"
    },
    "tags": []
   },
   "outputs": [],
   "source": [
    "#hide\n",
    "#delete problematic countries from table\n",
    "df_table = df_table[~df_table['Country/Region'].isin(['Cape Verde', 'Cruise Ship', 'Kosovo'])]"
   ]
  },
  {
   "cell_type": "code",
   "execution_count": 15,
   "id": "fantastic-effect",
   "metadata": {
    "execution": {
     "iopub.execute_input": "2021-10-11T12:11:20.618097Z",
     "iopub.status.busy": "2021-10-11T12:11:20.617548Z",
     "iopub.status.idle": "2021-10-11T12:11:20.634565Z",
     "shell.execute_reply": "2021-10-11T12:11:20.634134Z"
    },
    "papermill": {
     "duration": 0.0544,
     "end_time": "2021-10-11T12:11:20.634690",
     "exception": false,
     "start_time": "2021-10-11T12:11:20.580290",
     "status": "completed"
    },
    "tags": []
   },
   "outputs": [
    {
     "data": {
      "text/html": [
       "<div>\n",
       "<style scoped>\n",
       "    .dataframe tbody tr th:only-of-type {\n",
       "        vertical-align: middle;\n",
       "    }\n",
       "\n",
       "    .dataframe tbody tr th {\n",
       "        vertical-align: top;\n",
       "    }\n",
       "\n",
       "    .dataframe thead th {\n",
       "        text-align: right;\n",
       "    }\n",
       "</style>\n",
       "<table border=\"1\" class=\"dataframe\">\n",
       "  <thead>\n",
       "    <tr style=\"text-align: right;\">\n",
       "      <th></th>\n",
       "      <th>Country/Region</th>\n",
       "      <th>Cases</th>\n",
       "      <th>Deaths</th>\n",
       "      <th>PCases</th>\n",
       "      <th>PDeaths</th>\n",
       "      <th>Cases (+)</th>\n",
       "      <th>Deaths (+)</th>\n",
       "      <th>Fatality Rate</th>\n",
       "      <th>Continent</th>\n",
       "    </tr>\n",
       "  </thead>\n",
       "  <tbody>\n",
       "    <tr>\n",
       "      <th>0</th>\n",
       "      <td>US</td>\n",
       "      <td>44339747</td>\n",
       "      <td>713227</td>\n",
       "      <td>44317553</td>\n",
       "      <td>712972</td>\n",
       "      <td>22194</td>\n",
       "      <td>255</td>\n",
       "      <td>1.6</td>\n",
       "      <td>North America</td>\n",
       "    </tr>\n",
       "    <tr>\n",
       "      <th>1</th>\n",
       "      <td>India</td>\n",
       "      <td>33971607</td>\n",
       "      <td>450782</td>\n",
       "      <td>33953475</td>\n",
       "      <td>450589</td>\n",
       "      <td>18132</td>\n",
       "      <td>193</td>\n",
       "      <td>1.3</td>\n",
       "      <td>Asia</td>\n",
       "    </tr>\n",
       "    <tr>\n",
       "      <th>2</th>\n",
       "      <td>Brazil</td>\n",
       "      <td>21575820</td>\n",
       "      <td>601011</td>\n",
       "      <td>21567181</td>\n",
       "      <td>600829</td>\n",
       "      <td>8639</td>\n",
       "      <td>182</td>\n",
       "      <td>2.8</td>\n",
       "      <td>South America</td>\n",
       "    </tr>\n",
       "    <tr>\n",
       "      <th>3</th>\n",
       "      <td>United Kingdom</td>\n",
       "      <td>8192589</td>\n",
       "      <td>138139</td>\n",
       "      <td>8158935</td>\n",
       "      <td>138101</td>\n",
       "      <td>33654</td>\n",
       "      <td>38</td>\n",
       "      <td>1.7</td>\n",
       "      <td>Europe</td>\n",
       "    </tr>\n",
       "    <tr>\n",
       "      <th>4</th>\n",
       "      <td>Russia</td>\n",
       "      <td>7658923</td>\n",
       "      <td>212576</td>\n",
       "      <td>7631034</td>\n",
       "      <td>211627</td>\n",
       "      <td>27889</td>\n",
       "      <td>949</td>\n",
       "      <td>2.8</td>\n",
       "      <td>Europe</td>\n",
       "    </tr>\n",
       "  </tbody>\n",
       "</table>\n",
       "</div>"
      ],
      "text/plain": [
       "   Country/Region     Cases  Deaths    PCases  PDeaths  Cases (+)  Deaths (+)  \\\n",
       "0              US  44339747  713227  44317553   712972      22194         255   \n",
       "1           India  33971607  450782  33953475   450589      18132         193   \n",
       "2          Brazil  21575820  601011  21567181   600829       8639         182   \n",
       "3  United Kingdom   8192589  138139   8158935   138101      33654          38   \n",
       "4          Russia   7658923  212576   7631034   211627      27889         949   \n",
       "\n",
       "   Fatality Rate      Continent  \n",
       "0            1.6  North America  \n",
       "1            1.3           Asia  \n",
       "2            2.8  South America  \n",
       "3            1.7         Europe  \n",
       "4            2.8         Europe  "
      ]
     },
     "execution_count": 15,
     "metadata": {},
     "output_type": "execute_result"
    }
   ],
   "source": [
    "#hide\n",
    "df_table = (pd.DataFrame(dict(Cases=dfc_cases, Deaths=dfc_deaths, PCases=dfp_cases, PDeaths=dfp_deaths))\n",
    "             .sort_values(by=['Cases', 'Deaths'], ascending=[False, False])\n",
    "             .reset_index())\n",
    "df_table.rename(columns={'index': 'Country/Region'}, inplace=True)\n",
    "for c in 'Cases, Deaths'.split(', '):\n",
    "    df_table[f'{c} (+)'] = (df_table[c] - df_table[f'P{c}']).clip(0)  # DATA BUG\n",
    "df_table['Fatality Rate'] = (100 * df_table['Deaths'] / df_table['Cases']).round(1)\n",
    "df_table['Continent'] = df_table['Country/Region'].map(mapping['map.continent'])\n",
    "df_table.head(5)"
   ]
  },
  {
   "cell_type": "code",
   "execution_count": 16,
   "id": "fewer-occasion",
   "metadata": {
    "execution": {
     "iopub.execute_input": "2021-10-11T12:11:20.701900Z",
     "iopub.status.busy": "2021-10-11T12:11:20.701380Z",
     "iopub.status.idle": "2021-10-11T12:11:20.703964Z",
     "shell.execute_reply": "2021-10-11T12:11:20.703540Z"
    },
    "papermill": {
     "duration": 0.038625,
     "end_time": "2021-10-11T12:11:20.704084",
     "exception": false,
     "start_time": "2021-10-11T12:11:20.665459",
     "status": "completed"
    },
    "tags": []
   },
   "outputs": [],
   "source": [
    "#hide\n",
    "#delete problematic countries from table\n",
    "df_table = df_table[~df_table['Country/Region'].isin(['Cape Verde', 'Cruise Ship', 'Kosovo'])]"
   ]
  },
  {
   "cell_type": "code",
   "execution_count": 17,
   "id": "related-center",
   "metadata": {
    "execution": {
     "iopub.execute_input": "2021-10-11T12:11:20.784273Z",
     "iopub.status.busy": "2021-10-11T12:11:20.783705Z",
     "iopub.status.idle": "2021-10-11T12:11:20.786164Z",
     "shell.execute_reply": "2021-10-11T12:11:20.785738Z"
    },
    "papermill": {
     "duration": 0.051786,
     "end_time": "2021-10-11T12:11:20.786288",
     "exception": false,
     "start_time": "2021-10-11T12:11:20.734502",
     "status": "completed"
    },
    "tags": []
   },
   "outputs": [],
   "source": [
    "#hide\n",
    "metrics = [df_table.columns[index] for index in [1,2,5,6]]\n",
    "# s_china = df_table[df_table['Country/Region'].eq('China')][metrics].sum().add_prefix('China ')\n",
    "s_us = df_table[df_table['Country/Region'].eq('US')][metrics].sum().add_prefix('US ')\n",
    "s_eu = df_table[df_table['Continent'].eq('Europe')][metrics].sum().add_prefix('EU ')\n",
    "s_ind = df_table[df_table['Country/Region'].eq('India')][metrics].sum().add_prefix('India ')\n",
    "summary = {'updated': pd.to_datetime(dt_today), 'since': pd.to_datetime(dt_yday)}\n",
    "summary = {'updated': pd.to_datetime(dt_today), 'since': pd.to_datetime(dt_yday)}\n",
    "summary = {**summary, **df_table[metrics].sum(), **s_ind, **s_us, **s_eu}"
   ]
  },
  {
   "cell_type": "code",
   "execution_count": 18,
   "id": "engaging-syndrome",
   "metadata": {
    "execution": {
     "iopub.execute_input": "2021-10-11T12:11:20.852971Z",
     "iopub.status.busy": "2021-10-11T12:11:20.852446Z",
     "iopub.status.idle": "2021-10-11T12:11:20.866837Z",
     "shell.execute_reply": "2021-10-11T12:11:20.866397Z"
    },
    "papermill": {
     "duration": 0.049873,
     "end_time": "2021-10-11T12:11:20.866962",
     "exception": false,
     "start_time": "2021-10-11T12:11:20.817089",
     "status": "completed"
    },
    "tags": []
   },
   "outputs": [],
   "source": [
    "#hide\n",
    "dft_ct_new_cases = dft_cases.groupby(COL_REGION)[dt_cols].sum().diff(axis=1).fillna(0).astype(int)"
   ]
  },
  {
   "cell_type": "code",
   "execution_count": 19,
   "id": "neutral-assignment",
   "metadata": {
    "execution": {
     "iopub.execute_input": "2021-10-11T12:11:20.934597Z",
     "iopub.status.busy": "2021-10-11T12:11:20.934076Z",
     "iopub.status.idle": "2021-10-11T12:11:20.936242Z",
     "shell.execute_reply": "2021-10-11T12:11:20.935806Z"
    },
    "papermill": {
     "duration": 0.038786,
     "end_time": "2021-10-11T12:11:20.936357",
     "exception": false,
     "start_time": "2021-10-11T12:11:20.897571",
     "status": "completed"
    },
    "tags": []
   },
   "outputs": [],
   "source": [
    "#hide\n",
    "everydaycases = dft_ct_new_cases.cumsum(axis=1)"
   ]
  },
  {
   "cell_type": "code",
   "execution_count": 20,
   "id": "parliamentary-calgary",
   "metadata": {
    "execution": {
     "iopub.execute_input": "2021-10-11T12:11:21.002356Z",
     "iopub.status.busy": "2021-10-11T12:11:21.001815Z",
     "iopub.status.idle": "2021-10-11T12:11:21.598562Z",
     "shell.execute_reply": "2021-10-11T12:11:21.597515Z"
    },
    "papermill": {
     "duration": 0.631675,
     "end_time": "2021-10-11T12:11:21.598723",
     "exception": false,
     "start_time": "2021-10-11T12:11:20.967048",
     "status": "completed"
    },
    "tags": []
   },
   "outputs": [],
   "source": [
    "#hide\n",
    "import pandas as pd\n",
    "import matplotlib.pyplot as plt\n",
    "import matplotlib.ticker as ticker\n",
    "import matplotlib.animation as animation\n",
    "from IPython.display import HTML"
   ]
  },
  {
   "cell_type": "code",
   "execution_count": 21,
   "id": "lasting-extraction",
   "metadata": {
    "execution": {
     "iopub.execute_input": "2021-10-11T12:11:21.665975Z",
     "iopub.status.busy": "2021-10-11T12:11:21.665445Z",
     "iopub.status.idle": "2021-10-11T12:11:21.671059Z",
     "shell.execute_reply": "2021-10-11T12:11:21.670620Z"
    },
    "papermill": {
     "duration": 0.04134,
     "end_time": "2021-10-11T12:11:21.671173",
     "exception": false,
     "start_time": "2021-10-11T12:11:21.629833",
     "status": "completed"
    },
    "tags": []
   },
   "outputs": [],
   "source": [
    "#hide\n",
    "t = everydaycases.stack()"
   ]
  },
  {
   "cell_type": "code",
   "execution_count": 22,
   "id": "premier-sleeve",
   "metadata": {
    "execution": {
     "iopub.execute_input": "2021-10-11T12:11:21.736272Z",
     "iopub.status.busy": "2021-10-11T12:11:21.735752Z",
     "iopub.status.idle": "2021-10-11T12:11:21.744383Z",
     "shell.execute_reply": "2021-10-11T12:11:21.743970Z"
    },
    "papermill": {
     "duration": 0.04274,
     "end_time": "2021-10-11T12:11:21.744497",
     "exception": false,
     "start_time": "2021-10-11T12:11:21.701757",
     "status": "completed"
    },
    "tags": []
   },
   "outputs": [],
   "source": [
    "#hide\n",
    "g = t.reset_index(['Country/Region'])"
   ]
  },
  {
   "cell_type": "code",
   "execution_count": 23,
   "id": "distributed-pittsburgh",
   "metadata": {
    "execution": {
     "iopub.execute_input": "2021-10-11T12:11:21.808805Z",
     "iopub.status.busy": "2021-10-11T12:11:21.808295Z",
     "iopub.status.idle": "2021-10-11T12:11:21.810833Z",
     "shell.execute_reply": "2021-10-11T12:11:21.810420Z"
    },
    "papermill": {
     "duration": 0.036308,
     "end_time": "2021-10-11T12:11:21.810943",
     "exception": false,
     "start_time": "2021-10-11T12:11:21.774635",
     "status": "completed"
    },
    "tags": []
   },
   "outputs": [],
   "source": [
    "#hide\n",
    "g.index.name = 'date'"
   ]
  },
  {
   "cell_type": "code",
   "execution_count": 24,
   "id": "naked-donor",
   "metadata": {
    "execution": {
     "iopub.execute_input": "2021-10-11T12:11:21.874819Z",
     "iopub.status.busy": "2021-10-11T12:11:21.874306Z",
     "iopub.status.idle": "2021-10-11T12:11:21.876449Z",
     "shell.execute_reply": "2021-10-11T12:11:21.876043Z"
    },
    "papermill": {
     "duration": 0.035343,
     "end_time": "2021-10-11T12:11:21.876558",
     "exception": false,
     "start_time": "2021-10-11T12:11:21.841215",
     "status": "completed"
    },
    "tags": []
   },
   "outputs": [],
   "source": [
    "# #hide\n",
    "# g = g.reset_index(['date'])"
   ]
  },
  {
   "cell_type": "code",
   "execution_count": 25,
   "id": "incomplete-mustang",
   "metadata": {
    "execution": {
     "iopub.execute_input": "2021-10-11T12:11:21.940810Z",
     "iopub.status.busy": "2021-10-11T12:11:21.940297Z",
     "iopub.status.idle": "2021-10-11T12:11:21.942293Z",
     "shell.execute_reply": "2021-10-11T12:11:21.942783Z"
    },
    "papermill": {
     "duration": 0.036217,
     "end_time": "2021-10-11T12:11:21.942910",
     "exception": false,
     "start_time": "2021-10-11T12:11:21.906693",
     "status": "completed"
    },
    "tags": []
   },
   "outputs": [],
   "source": [
    "#hide\n",
    "# g.head()"
   ]
  },
  {
   "cell_type": "code",
   "execution_count": 26,
   "id": "specific-kruger",
   "metadata": {
    "execution": {
     "iopub.execute_input": "2021-10-11T12:11:22.007803Z",
     "iopub.status.busy": "2021-10-11T12:11:22.007237Z",
     "iopub.status.idle": "2021-10-11T12:11:22.009051Z",
     "shell.execute_reply": "2021-10-11T12:11:22.009433Z"
    },
    "papermill": {
     "duration": 0.036181,
     "end_time": "2021-10-11T12:11:22.009566",
     "exception": false,
     "start_time": "2021-10-11T12:11:21.973385",
     "status": "completed"
    },
    "tags": []
   },
   "outputs": [],
   "source": [
    "#hide\n",
    "# g.columns = ['date','country','cases']"
   ]
  },
  {
   "cell_type": "code",
   "execution_count": 27,
   "id": "tender-conversion",
   "metadata": {
    "execution": {
     "iopub.execute_input": "2021-10-11T12:11:22.074168Z",
     "iopub.status.busy": "2021-10-11T12:11:22.073651Z",
     "iopub.status.idle": "2021-10-11T12:11:22.075402Z",
     "shell.execute_reply": "2021-10-11T12:11:22.075900Z"
    },
    "papermill": {
     "duration": 0.036166,
     "end_time": "2021-10-11T12:11:22.076031",
     "exception": false,
     "start_time": "2021-10-11T12:11:22.039865",
     "status": "completed"
    },
    "tags": []
   },
   "outputs": [],
   "source": [
    "#hide\n",
    "# g['continent'] = g.country"
   ]
  },
  {
   "cell_type": "code",
   "execution_count": 28,
   "id": "substantial-wilderness",
   "metadata": {
    "execution": {
     "iopub.execute_input": "2021-10-11T12:11:22.140715Z",
     "iopub.status.busy": "2021-10-11T12:11:22.140197Z",
     "iopub.status.idle": "2021-10-11T12:11:22.143887Z",
     "shell.execute_reply": "2021-10-11T12:11:22.143470Z"
    },
    "papermill": {
     "duration": 0.037484,
     "end_time": "2021-10-11T12:11:22.143999",
     "exception": false,
     "start_time": "2021-10-11T12:11:22.106515",
     "status": "completed"
    },
    "tags": []
   },
   "outputs": [],
   "source": [
    "#hide\n",
    "# cols = list(g.columns.values)"
   ]
  },
  {
   "cell_type": "code",
   "execution_count": 29,
   "id": "solved-farming",
   "metadata": {
    "execution": {
     "iopub.execute_input": "2021-10-11T12:11:22.208758Z",
     "iopub.status.busy": "2021-10-11T12:11:22.208245Z",
     "iopub.status.idle": "2021-10-11T12:11:22.210589Z",
     "shell.execute_reply": "2021-10-11T12:11:22.210175Z"
    },
    "papermill": {
     "duration": 0.03624,
     "end_time": "2021-10-11T12:11:22.210704",
     "exception": false,
     "start_time": "2021-10-11T12:11:22.174464",
     "status": "completed"
    },
    "tags": []
   },
   "outputs": [],
   "source": [
    "#hide\n",
    "# cols.insert(0, cols.pop())"
   ]
  },
  {
   "cell_type": "code",
   "execution_count": 30,
   "id": "executed-adoption",
   "metadata": {
    "execution": {
     "iopub.execute_input": "2021-10-11T12:11:22.275513Z",
     "iopub.status.busy": "2021-10-11T12:11:22.274960Z",
     "iopub.status.idle": "2021-10-11T12:11:22.277046Z",
     "shell.execute_reply": "2021-10-11T12:11:22.276632Z"
    },
    "papermill": {
     "duration": 0.035928,
     "end_time": "2021-10-11T12:11:22.277161",
     "exception": false,
     "start_time": "2021-10-11T12:11:22.241233",
     "status": "completed"
    },
    "tags": []
   },
   "outputs": [],
   "source": [
    "#hide\n",
    "# g = g[cols]"
   ]
  },
  {
   "cell_type": "code",
   "execution_count": 31,
   "id": "subject-dublin",
   "metadata": {
    "execution": {
     "iopub.execute_input": "2021-10-11T12:11:22.341488Z",
     "iopub.status.busy": "2021-10-11T12:11:22.340977Z",
     "iopub.status.idle": "2021-10-11T12:11:22.343230Z",
     "shell.execute_reply": "2021-10-11T12:11:22.342820Z"
    },
    "papermill": {
     "duration": 0.03588,
     "end_time": "2021-10-11T12:11:22.343374",
     "exception": false,
     "start_time": "2021-10-11T12:11:22.307494",
     "status": "completed"
    },
    "tags": []
   },
   "outputs": [],
   "source": [
    "#hide\n",
    "# g['continent'] = g['continent'].map(mapping['map.continent'])"
   ]
  },
  {
   "cell_type": "code",
   "execution_count": 32,
   "id": "freelance-scout",
   "metadata": {
    "execution": {
     "iopub.execute_input": "2021-10-11T12:11:22.408151Z",
     "iopub.status.busy": "2021-10-11T12:11:22.407619Z",
     "iopub.status.idle": "2021-10-11T12:11:22.409671Z",
     "shell.execute_reply": "2021-10-11T12:11:22.409261Z"
    },
    "papermill": {
     "duration": 0.03594,
     "end_time": "2021-10-11T12:11:22.409783",
     "exception": false,
     "start_time": "2021-10-11T12:11:22.373843",
     "status": "completed"
    },
    "tags": []
   },
   "outputs": [],
   "source": [
    "#hide\n",
    "# g.head()"
   ]
  },
  {
   "cell_type": "code",
   "execution_count": 33,
   "id": "limited-engine",
   "metadata": {
    "execution": {
     "iopub.execute_input": "2021-10-11T12:11:22.474490Z",
     "iopub.status.busy": "2021-10-11T12:11:22.473966Z",
     "iopub.status.idle": "2021-10-11T12:11:22.475926Z",
     "shell.execute_reply": "2021-10-11T12:11:22.476341Z"
    },
    "papermill": {
     "duration": 0.036426,
     "end_time": "2021-10-11T12:11:22.476472",
     "exception": false,
     "start_time": "2021-10-11T12:11:22.440046",
     "status": "completed"
    },
    "tags": []
   },
   "outputs": [],
   "source": [
    "# hide\n",
    "# g['date'] = g['date'].astype('datetime64[ns]')"
   ]
  },
  {
   "cell_type": "code",
   "execution_count": 34,
   "id": "sophisticated-supervisor",
   "metadata": {
    "execution": {
     "iopub.execute_input": "2021-10-11T12:11:22.550212Z",
     "iopub.status.busy": "2021-10-11T12:11:22.549662Z",
     "iopub.status.idle": "2021-10-11T12:11:22.556409Z",
     "shell.execute_reply": "2021-10-11T12:11:22.556848Z"
    },
    "papermill": {
     "duration": 0.04815,
     "end_time": "2021-10-11T12:11:22.556989",
     "exception": false,
     "start_time": "2021-10-11T12:11:22.508839",
     "status": "completed"
    },
    "tags": []
   },
   "outputs": [],
   "source": [
    "#hide\n",
    "# g['date'] = g.date.dt.dayofyear"
   ]
  },
  {
   "cell_type": "code",
   "execution_count": 35,
   "id": "inside-dubai",
   "metadata": {
    "execution": {
     "iopub.execute_input": "2021-10-11T12:11:22.622053Z",
     "iopub.status.busy": "2021-10-11T12:11:22.621524Z",
     "iopub.status.idle": "2021-10-11T12:11:22.623166Z",
     "shell.execute_reply": "2021-10-11T12:11:22.623597Z"
    },
    "papermill": {
     "duration": 0.035931,
     "end_time": "2021-10-11T12:11:22.623729",
     "exception": false,
     "start_time": "2021-10-11T12:11:22.587798",
     "status": "completed"
    },
    "tags": []
   },
   "outputs": [],
   "source": [
    "#hide\n",
    "# g = g.rename(columns= {'continent':'group','country':'name','cases':'value'})"
   ]
  },
  {
   "cell_type": "code",
   "execution_count": 36,
   "id": "fleet-motorcycle",
   "metadata": {
    "execution": {
     "iopub.execute_input": "2021-10-11T12:11:22.688376Z",
     "iopub.status.busy": "2021-10-11T12:11:22.687862Z",
     "iopub.status.idle": "2021-10-11T12:11:22.690094Z",
     "shell.execute_reply": "2021-10-11T12:11:22.689681Z"
    },
    "papermill": {
     "duration": 0.03604,
     "end_time": "2021-10-11T12:11:22.690209",
     "exception": false,
     "start_time": "2021-10-11T12:11:22.654169",
     "status": "completed"
    },
    "tags": []
   },
   "outputs": [],
   "source": [
    "#hide\n",
    "# cols = ['name','group','day','value']"
   ]
  },
  {
   "cell_type": "code",
   "execution_count": 37,
   "id": "continued-sleeping",
   "metadata": {
    "execution": {
     "iopub.execute_input": "2021-10-11T12:11:22.755181Z",
     "iopub.status.busy": "2021-10-11T12:11:22.754649Z",
     "iopub.status.idle": "2021-10-11T12:11:22.756513Z",
     "shell.execute_reply": "2021-10-11T12:11:22.756900Z"
    },
    "papermill": {
     "duration": 0.036435,
     "end_time": "2021-10-11T12:11:22.757036",
     "exception": false,
     "start_time": "2021-10-11T12:11:22.720601",
     "status": "completed"
    },
    "tags": []
   },
   "outputs": [],
   "source": [
    "#hide\n",
    "# g.rename(columns= {'date':'day'},inplace = True)"
   ]
  },
  {
   "cell_type": "code",
   "execution_count": 38,
   "id": "major-fight",
   "metadata": {
    "execution": {
     "iopub.execute_input": "2021-10-11T12:11:22.822131Z",
     "iopub.status.busy": "2021-10-11T12:11:22.821616Z",
     "iopub.status.idle": "2021-10-11T12:11:22.823390Z",
     "shell.execute_reply": "2021-10-11T12:11:22.823782Z"
    },
    "papermill": {
     "duration": 0.036304,
     "end_time": "2021-10-11T12:11:22.823915",
     "exception": false,
     "start_time": "2021-10-11T12:11:22.787611",
     "status": "completed"
    },
    "tags": []
   },
   "outputs": [],
   "source": [
    "#hide\n",
    "# g = g[cols]"
   ]
  },
  {
   "cell_type": "code",
   "execution_count": 39,
   "id": "structured-mobile",
   "metadata": {
    "execution": {
     "iopub.execute_input": "2021-10-11T12:11:22.888588Z",
     "iopub.status.busy": "2021-10-11T12:11:22.888073Z",
     "iopub.status.idle": "2021-10-11T12:11:22.890642Z",
     "shell.execute_reply": "2021-10-11T12:11:22.890226Z"
    },
    "papermill": {
     "duration": 0.036647,
     "end_time": "2021-10-11T12:11:22.890755",
     "exception": false,
     "start_time": "2021-10-11T12:11:22.854108",
     "status": "completed"
    },
    "tags": []
   },
   "outputs": [],
   "source": [
    "# #hide\n",
    "# g = g[g.group.notna()]"
   ]
  },
  {
   "cell_type": "code",
   "execution_count": 40,
   "id": "determined-closing",
   "metadata": {
    "execution": {
     "iopub.execute_input": "2021-10-11T12:11:22.955706Z",
     "iopub.status.busy": "2021-10-11T12:11:22.955144Z",
     "iopub.status.idle": "2021-10-11T12:11:22.956938Z",
     "shell.execute_reply": "2021-10-11T12:11:22.957323Z"
    },
    "papermill": {
     "duration": 0.036099,
     "end_time": "2021-10-11T12:11:22.957452",
     "exception": false,
     "start_time": "2021-10-11T12:11:22.921353",
     "status": "completed"
    },
    "tags": []
   },
   "outputs": [],
   "source": [
    "# #hide\n",
    "# colors = dict(zip(\n",
    "#     [\"Oceania\", \"Europe\", \"Asia\", \"South America\", \"Middle East\", \"North America\", \"Africa\"],\n",
    "#     [\"#adb0ff\", \"#ffb3ff\", \"#90d595\", \"#e48381\", \"#aafbff\", \"#f7bb5f\", \"#eafb50\"]\n",
    "# ))\n",
    "# group_lk = g.set_index('name')['group'].to_dict()"
   ]
  },
  {
   "cell_type": "code",
   "execution_count": null,
   "id": "gross-drinking",
   "metadata": {
    "papermill": {
     "duration": 0.030296,
     "end_time": "2021-10-11T12:11:23.017938",
     "exception": false,
     "start_time": "2021-10-11T12:11:22.987642",
     "status": "completed"
    },
    "tags": []
   },
   "outputs": [],
   "source": []
  },
  {
   "cell_type": "code",
   "execution_count": 41,
   "id": "subject-macintosh",
   "metadata": {
    "execution": {
     "iopub.execute_input": "2021-10-11T12:11:23.083506Z",
     "iopub.status.busy": "2021-10-11T12:11:23.082948Z",
     "iopub.status.idle": "2021-10-11T12:11:23.085163Z",
     "shell.execute_reply": "2021-10-11T12:11:23.084728Z"
    },
    "papermill": {
     "duration": 0.036867,
     "end_time": "2021-10-11T12:11:23.085275",
     "exception": false,
     "start_time": "2021-10-11T12:11:23.048408",
     "status": "completed"
    },
    "tags": []
   },
   "outputs": [],
   "source": [
    "# #hide\n",
    "# fig, ax = plt.subplots(figsize=(15, 8))\n",
    "\n",
    "# def draw_barchart(current_day):\n",
    "#     dff = g[g['day'].eq(current_day)].sort_values(by='value', ascending=True).tail(10)\n",
    "#     ax.clear()\n",
    "#     ax.barh(dff['name'], dff['value'], color=[colors[group_lk[x]] for x in dff['name']])\n",
    "#     dx = dff['value'].max() / 200\n",
    "    \n",
    "#     for i, (value, name) in enumerate(zip(dff['value'], dff['name'])):\n",
    "#         ax.text(value-dx, i,     name,           size=14, weight=600, ha='right', va='bottom')\n",
    "#         ax.text(value-dx, i-.25, group_lk[name], size=10, color='#444444', ha='right', va='baseline')\n",
    "#         ax.text(value+dx, i,     f'{value:,.0f}',  size=14, ha='left',  va='center')\n",
    "#     ax.text(1, 0.4, current_day, transform=ax.transAxes, color='#777777', size=46, ha='right', weight=800)\n",
    "#     ax.text(0, 1.06, 'Population (thousands)', transform=ax.transAxes, size=12, color='#777777')\n",
    "#     ax.xaxis.set_major_formatter(ticker.StrMethodFormatter('{x:,.0f}'))\n",
    "#     ax.xaxis.set_ticks_position('top')\n",
    "#     ax.tick_params(axis='x', colors='#777777', labelsize=12)\n",
    "#     ax.set_yticks([])\n",
    "#     ax.margins(0, 0.01)\n",
    "#     ax.grid(which='major', axis='x', linestyle='-')\n",
    "#     ax.set_axisbelow(True)\n",
    "    \n",
    "#     ax.text(0, 1.15, 'Coronavirus',\n",
    "#             transform=ax.transAxes, size=24, weight=600, ha='left', va='top')\n",
    "# #     ax.text(1, 0, 'by @pratapvardhan; credit @jburnmurdoch', transform=ax.transAxes, color='#777777', ha='right',\n",
    "# #             bbox=dict(facecolor='white', alpha=0.8, edgecolor='white'))\n",
    "#     plt.box(False)"
   ]
  },
  {
   "cell_type": "code",
   "execution_count": 42,
   "id": "sexual-wages",
   "metadata": {
    "execution": {
     "iopub.execute_input": "2021-10-11T12:11:23.150212Z",
     "iopub.status.busy": "2021-10-11T12:11:23.149696Z",
     "iopub.status.idle": "2021-10-11T12:11:23.151474Z",
     "shell.execute_reply": "2021-10-11T12:11:23.151863Z"
    },
    "papermill": {
     "duration": 0.036223,
     "end_time": "2021-10-11T12:11:23.151997",
     "exception": false,
     "start_time": "2021-10-11T12:11:23.115774",
     "status": "completed"
    },
    "tags": []
   },
   "outputs": [],
   "source": [
    "# #hide_input\n",
    "# fig, ax = plt.subplots(figsize=(15, 8))\n",
    "# animator = animation.FuncAnimation(fig, draw_barchart, frames=range(g.day.values.min(), g.day.values.max()))\n",
    "# HTML(animator.to_jshtml())\n",
    "# # or use animator.to_html5_video() or animator.save() "
   ]
  },
  {
   "cell_type": "code",
   "execution_count": null,
   "id": "australian-container",
   "metadata": {
    "papermill": {
     "duration": 0.030373,
     "end_time": "2021-10-11T12:11:23.213079",
     "exception": false,
     "start_time": "2021-10-11T12:11:23.182706",
     "status": "completed"
    },
    "tags": []
   },
   "outputs": [],
   "source": []
  },
  {
   "cell_type": "code",
   "execution_count": null,
   "id": "mediterranean-pontiac",
   "metadata": {
    "papermill": {
     "duration": 0.030493,
     "end_time": "2021-10-11T12:11:23.273923",
     "exception": false,
     "start_time": "2021-10-11T12:11:23.243430",
     "status": "completed"
    },
    "tags": []
   },
   "outputs": [],
   "source": []
  },
  {
   "cell_type": "code",
   "execution_count": null,
   "id": "aging-legislature",
   "metadata": {
    "papermill": {
     "duration": 0.030371,
     "end_time": "2021-10-11T12:11:23.334936",
     "exception": false,
     "start_time": "2021-10-11T12:11:23.304565",
     "status": "completed"
    },
    "tags": []
   },
   "outputs": [],
   "source": []
  }
 ],
 "metadata": {
  "kernelspec": {
   "display_name": "Python 3",
   "language": "python",
   "name": "python3"
  },
  "language_info": {
   "codemirror_mode": {
    "name": "ipython",
    "version": 3
   },
   "file_extension": ".py",
   "mimetype": "text/x-python",
   "name": "python",
   "nbconvert_exporter": "python",
   "pygments_lexer": "ipython3",
   "version": "3.6.15"
  },
  "papermill": {
   "duration": 5.928671,
   "end_time": "2021-10-11T12:11:23.773438",
   "environment_variables": {},
   "exception": null,
   "input_path": "2020-03-21-covid19exp.ipynb",
   "output_path": "2020-03-21-covid19exp.ipynb",
   "parameters": {},
   "start_time": "2021-10-11T12:11:17.844767",
   "version": "2.0.0"
  }
 },
 "nbformat": 4,
 "nbformat_minor": 5
}