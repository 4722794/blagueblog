{
 "cells": [
  {
   "cell_type": "markdown",
   "id": "muslim-click",
   "metadata": {
    "papermill": {
     "duration": 0.034059,
     "end_time": "2021-11-10T00:24:36.526551",
     "exception": false,
     "start_time": "2021-11-10T00:24:36.492492",
     "status": "completed"
    },
    "tags": []
   },
   "source": [
    "# COVID-19 Case Race\n",
    "> A race chart to see rising cases around the world\n",
    "\n",
    "- author: Hargun Oberoi\n",
    "- image: images/covid-overview.png\n",
    "- hide: false\n",
    "- badges: false"
   ]
  },
  {
   "cell_type": "code",
   "execution_count": 1,
   "id": "proof-material",
   "metadata": {
    "execution": {
     "iopub.execute_input": "2021-11-10T00:24:36.599215Z",
     "iopub.status.busy": "2021-11-10T00:24:36.594509Z",
     "iopub.status.idle": "2021-11-10T00:24:36.916889Z",
     "shell.execute_reply": "2021-11-10T00:24:36.916352Z"
    },
    "papermill": {
     "duration": 0.360771,
     "end_time": "2021-11-10T00:24:36.917043",
     "exception": false,
     "start_time": "2021-11-10T00:24:36.556272",
     "status": "completed"
    },
    "tags": []
   },
   "outputs": [],
   "source": [
    "#hide\n",
    "import numpy as np\n",
    "import pandas as pd\n",
    "from jinja2 import Template\n",
    "from IPython.display import HTML"
   ]
  },
  {
   "cell_type": "code",
   "execution_count": 2,
   "id": "developed-terminology",
   "metadata": {
    "execution": {
     "iopub.execute_input": "2021-11-10T00:24:36.982936Z",
     "iopub.status.busy": "2021-11-10T00:24:36.982295Z",
     "iopub.status.idle": "2021-11-10T00:24:36.983713Z",
     "shell.execute_reply": "2021-11-10T00:24:36.984245Z"
    },
    "papermill": {
     "duration": 0.036002,
     "end_time": "2021-11-10T00:24:36.984384",
     "exception": false,
     "start_time": "2021-11-10T00:24:36.948382",
     "status": "completed"
    },
    "tags": []
   },
   "outputs": [],
   "source": [
    "#hide\n",
    "\n",
    "# FETCH\n",
    "base_url = 'https://raw.githubusercontent.com/pratapvardhan/notebooks/master/covid19/'\n",
    "paths = {\n",
    "    'mapping': base_url + 'mapping_countries.csv',\n",
    "    'overview': base_url + 'overview.tpl'\n",
    "}"
   ]
  },
  {
   "cell_type": "code",
   "execution_count": 3,
   "id": "dynamic-saver",
   "metadata": {
    "execution": {
     "iopub.execute_input": "2021-11-10T00:24:37.052354Z",
     "iopub.status.busy": "2021-11-10T00:24:37.051826Z",
     "iopub.status.idle": "2021-11-10T00:24:37.054068Z",
     "shell.execute_reply": "2021-11-10T00:24:37.054540Z"
    },
    "papermill": {
     "duration": 0.041068,
     "end_time": "2021-11-10T00:24:37.054688",
     "exception": false,
     "start_time": "2021-11-10T00:24:37.013620",
     "status": "completed"
    },
    "tags": []
   },
   "outputs": [
    {
     "data": {
      "text/plain": [
       "'https://raw.githubusercontent.com/pratapvardhan/notebooks/master/covid19/mapping_countries.csv'"
      ]
     },
     "execution_count": 3,
     "metadata": {},
     "output_type": "execute_result"
    }
   ],
   "source": [
    "#hide\n",
    "paths['mapping']"
   ]
  },
  {
   "cell_type": "code",
   "execution_count": 4,
   "id": "urban-software",
   "metadata": {
    "execution": {
     "iopub.execute_input": "2021-11-10T00:24:37.119543Z",
     "iopub.status.busy": "2021-11-10T00:24:37.118969Z",
     "iopub.status.idle": "2021-11-10T00:24:37.120338Z",
     "shell.execute_reply": "2021-11-10T00:24:37.120770Z"
    },
    "papermill": {
     "duration": 0.036321,
     "end_time": "2021-11-10T00:24:37.120896",
     "exception": false,
     "start_time": "2021-11-10T00:24:37.084575",
     "status": "completed"
    },
    "tags": []
   },
   "outputs": [],
   "source": [
    "#hide\n",
    "def get_mappings(url):\n",
    "    df = pd.read_csv(url)\n",
    "    return {\n",
    "        'df': df,\n",
    "        'replace.country': dict(df.dropna(subset=['Name']).set_index('Country')['Name']),\n",
    "        'map.continent': dict(df.set_index('Name')['Continent'])\n",
    "    }"
   ]
  },
  {
   "cell_type": "code",
   "execution_count": 5,
   "id": "intimate-machinery",
   "metadata": {
    "execution": {
     "iopub.execute_input": "2021-11-10T00:24:37.184574Z",
     "iopub.status.busy": "2021-11-10T00:24:37.184055Z",
     "iopub.status.idle": "2021-11-10T00:24:37.212106Z",
     "shell.execute_reply": "2021-11-10T00:24:37.211631Z"
    },
    "papermill": {
     "duration": 0.062034,
     "end_time": "2021-11-10T00:24:37.212234",
     "exception": false,
     "start_time": "2021-11-10T00:24:37.150200",
     "status": "completed"
    },
    "tags": []
   },
   "outputs": [],
   "source": [
    "#hide\n",
    "mapping = get_mappings(paths['mapping'])"
   ]
  },
  {
   "cell_type": "code",
   "execution_count": 6,
   "id": "certified-tactics",
   "metadata": {
    "execution": {
     "iopub.execute_input": "2021-11-10T00:24:37.277289Z",
     "iopub.status.busy": "2021-11-10T00:24:37.276776Z",
     "iopub.status.idle": "2021-11-10T00:24:37.279320Z",
     "shell.execute_reply": "2021-11-10T00:24:37.278911Z"
    },
    "papermill": {
     "duration": 0.036463,
     "end_time": "2021-11-10T00:24:37.279429",
     "exception": false,
     "start_time": "2021-11-10T00:24:37.242966",
     "status": "completed"
    },
    "tags": []
   },
   "outputs": [],
   "source": [
    "#hide\n",
    "def get_template(path):\n",
    "    from urllib.parse import urlparse\n",
    "    if bool(urlparse(path).netloc):\n",
    "        from urllib.request import urlopen\n",
    "        return urlopen(path).read().decode('utf8')\n",
    "    return open(path).read()"
   ]
  },
  {
   "cell_type": "code",
   "execution_count": 7,
   "id": "realistic-blast",
   "metadata": {
    "execution": {
     "iopub.execute_input": "2021-11-10T00:24:37.343173Z",
     "iopub.status.busy": "2021-11-10T00:24:37.342584Z",
     "iopub.status.idle": "2021-11-10T00:24:37.344151Z",
     "shell.execute_reply": "2021-11-10T00:24:37.344528Z"
    },
    "papermill": {
     "duration": 0.035926,
     "end_time": "2021-11-10T00:24:37.344654",
     "exception": false,
     "start_time": "2021-11-10T00:24:37.308728",
     "status": "completed"
    },
    "tags": []
   },
   "outputs": [],
   "source": [
    "#hide\n",
    "def get_frame(name):\n",
    "    url = (\n",
    "        'https://raw.githubusercontent.com/CSSEGISandData/COVID-19/master/csse_covid_19_data/'\n",
    "        f'csse_covid_19_time_series/time_series_covid19_{name}_global.csv')\n",
    "    df = pd.read_csv(url)\n",
    "    # rename countries\n",
    "    df['Country/Region'] = df['Country/Region'].replace(mapping['replace.country'])\n",
    "    return df"
   ]
  },
  {
   "cell_type": "code",
   "execution_count": 8,
   "id": "affiliated-characterization",
   "metadata": {
    "execution": {
     "iopub.execute_input": "2021-11-10T00:24:37.408893Z",
     "iopub.status.busy": "2021-11-10T00:24:37.408379Z",
     "iopub.status.idle": "2021-11-10T00:24:37.410972Z",
     "shell.execute_reply": "2021-11-10T00:24:37.410532Z"
    },
    "papermill": {
     "duration": 0.03705,
     "end_time": "2021-11-10T00:24:37.411085",
     "exception": false,
     "start_time": "2021-11-10T00:24:37.374035",
     "status": "completed"
    },
    "tags": []
   },
   "outputs": [],
   "source": [
    "#hide\n",
    "def get_dates(df):\n",
    "    dt_cols = df.columns[~df.columns.isin(['Province/State', 'Country/Region', 'Lat', 'Long'])]\n",
    "    LAST_DATE_I = -1\n",
    "    # sometimes last column may be empty, then go backwards\n",
    "    for i in range(-1, -len(dt_cols), -1):\n",
    "        if not df[dt_cols[i]].fillna(0).eq(0).all():\n",
    "            LAST_DATE_I = i\n",
    "            break\n",
    "    return LAST_DATE_I, dt_cols"
   ]
  },
  {
   "cell_type": "code",
   "execution_count": 9,
   "id": "recent-optimization",
   "metadata": {
    "execution": {
     "iopub.execute_input": "2021-11-10T00:24:37.474340Z",
     "iopub.status.busy": "2021-11-10T00:24:37.473799Z",
     "iopub.status.idle": "2021-11-10T00:24:37.771349Z",
     "shell.execute_reply": "2021-11-10T00:24:37.770288Z"
    },
    "papermill": {
     "duration": 0.331122,
     "end_time": "2021-11-10T00:24:37.771485",
     "exception": false,
     "start_time": "2021-11-10T00:24:37.440363",
     "status": "completed"
    },
    "tags": []
   },
   "outputs": [],
   "source": [
    "#hide\n",
    "COL_REGION = 'Country/Region'\n",
    "# Confirmed, Recovered, Deaths\n",
    "df = get_frame('confirmed')\n",
    "# dft_: timeseries, dfc_: today country agg\n",
    "dft_cases = df\n",
    "dft_deaths = get_frame('deaths')\n",
    "dft_recovered = get_frame('recovered')\n",
    "LAST_DATE_I, dt_cols = get_dates(df)"
   ]
  },
  {
   "cell_type": "code",
   "execution_count": 10,
   "id": "absolute-copper",
   "metadata": {
    "execution": {
     "iopub.execute_input": "2021-11-10T00:24:37.835802Z",
     "iopub.status.busy": "2021-11-10T00:24:37.835213Z",
     "iopub.status.idle": "2021-11-10T00:24:37.837340Z",
     "shell.execute_reply": "2021-11-10T00:24:37.836851Z"
    },
    "papermill": {
     "duration": 0.036207,
     "end_time": "2021-11-10T00:24:37.837458",
     "exception": false,
     "start_time": "2021-11-10T00:24:37.801251",
     "status": "completed"
    },
    "tags": []
   },
   "outputs": [],
   "source": [
    "#hide\n",
    "LAST_DATE_I, dt_cols = get_dates(df)\n",
    "dt_today =dt_cols[LAST_DATE_I]\n",
    "# dt_5day = dt_cols[LAST_DATE_I - 5]\n",
    "dt_yday = dt_cols[LAST_DATE_I - 1]"
   ]
  },
  {
   "cell_type": "code",
   "execution_count": 11,
   "id": "restricted-sheriff",
   "metadata": {
    "execution": {
     "iopub.execute_input": "2021-11-10T00:24:37.901558Z",
     "iopub.status.busy": "2021-11-10T00:24:37.901039Z",
     "iopub.status.idle": "2021-11-10T00:24:37.908303Z",
     "shell.execute_reply": "2021-11-10T00:24:37.907873Z"
    },
    "papermill": {
     "duration": 0.041391,
     "end_time": "2021-11-10T00:24:37.908410",
     "exception": false,
     "start_time": "2021-11-10T00:24:37.867019",
     "status": "completed"
    },
    "tags": []
   },
   "outputs": [],
   "source": [
    "#hide\n",
    "dfc_cases = dft_cases.groupby(COL_REGION)[dt_today].sum()\n",
    "dfc_deaths = dft_deaths.groupby(COL_REGION)[dt_today].sum()\n",
    "# dfp_cases = dft_cases.groupby(COL_REGION)[dt_5day].sum()\n",
    "# dfp_deaths = dft_deaths.groupby(COL_REGION)[dt_5day].sum()\n",
    "dfp_cases = dft_cases.groupby(COL_REGION)[dt_yday].sum()\n",
    "dfp_deaths = dft_deaths.groupby(COL_REGION)[dt_yday].sum()"
   ]
  },
  {
   "cell_type": "code",
   "execution_count": 12,
   "id": "deluxe-hepatitis",
   "metadata": {
    "execution": {
     "iopub.execute_input": "2021-11-10T00:24:37.973435Z",
     "iopub.status.busy": "2021-11-10T00:24:37.972924Z",
     "iopub.status.idle": "2021-11-10T00:24:37.976470Z",
     "shell.execute_reply": "2021-11-10T00:24:37.976851Z"
    },
    "papermill": {
     "duration": 0.039333,
     "end_time": "2021-11-10T00:24:37.976977",
     "exception": false,
     "start_time": "2021-11-10T00:24:37.937644",
     "status": "completed"
    },
    "tags": []
   },
   "outputs": [],
   "source": [
    "#hide\n",
    "df_table = (pd.DataFrame(dict(Cases = dfc_cases, Deaths = dfc_deaths, PCases = dfp_cases, PDeaths = dfp_deaths))\n",
    "            .sort_values(by = ['Cases','Deaths'], ascending = [False, False])\n",
    "            .reset_index())"
   ]
  },
  {
   "cell_type": "code",
   "execution_count": 13,
   "id": "educational-chancellor",
   "metadata": {
    "execution": {
     "iopub.execute_input": "2021-11-10T00:24:38.049129Z",
     "iopub.status.busy": "2021-11-10T00:24:38.048618Z",
     "iopub.status.idle": "2021-11-10T00:24:38.060457Z",
     "shell.execute_reply": "2021-11-10T00:24:38.060051Z"
    },
    "papermill": {
     "duration": 0.054298,
     "end_time": "2021-11-10T00:24:38.060575",
     "exception": false,
     "start_time": "2021-11-10T00:24:38.006277",
     "status": "completed"
    },
    "tags": []
   },
   "outputs": [
    {
     "data": {
      "text/html": [
       "<div>\n",
       "<style scoped>\n",
       "    .dataframe tbody tr th:only-of-type {\n",
       "        vertical-align: middle;\n",
       "    }\n",
       "\n",
       "    .dataframe tbody tr th {\n",
       "        vertical-align: top;\n",
       "    }\n",
       "\n",
       "    .dataframe thead th {\n",
       "        text-align: right;\n",
       "    }\n",
       "</style>\n",
       "<table border=\"1\" class=\"dataframe\">\n",
       "  <thead>\n",
       "    <tr style=\"text-align: right;\">\n",
       "      <th></th>\n",
       "      <th>Country/Region</th>\n",
       "      <th>Cases</th>\n",
       "      <th>Deaths</th>\n",
       "      <th>PCases</th>\n",
       "      <th>PDeaths</th>\n",
       "      <th>Cases (+)</th>\n",
       "      <th>Deaths (+)</th>\n",
       "      <th>Fatality Rate</th>\n",
       "      <th>Continent</th>\n",
       "    </tr>\n",
       "  </thead>\n",
       "  <tbody>\n",
       "    <tr>\n",
       "      <th>0</th>\n",
       "      <td>US</td>\n",
       "      <td>46613282</td>\n",
       "      <td>755647</td>\n",
       "      <td>46487791</td>\n",
       "      <td>754429</td>\n",
       "      <td>125491</td>\n",
       "      <td>1218</td>\n",
       "      <td>1.62</td>\n",
       "      <td>North America</td>\n",
       "    </tr>\n",
       "    <tr>\n",
       "      <th>1</th>\n",
       "      <td>India</td>\n",
       "      <td>34377113</td>\n",
       "      <td>461389</td>\n",
       "      <td>34366987</td>\n",
       "      <td>461057</td>\n",
       "      <td>10126</td>\n",
       "      <td>332</td>\n",
       "      <td>1.34</td>\n",
       "      <td>Asia</td>\n",
       "    </tr>\n",
       "    <tr>\n",
       "      <th>2</th>\n",
       "      <td>Brazil</td>\n",
       "      <td>21886077</td>\n",
       "      <td>609573</td>\n",
       "      <td>21880439</td>\n",
       "      <td>609447</td>\n",
       "      <td>5638</td>\n",
       "      <td>126</td>\n",
       "      <td>2.79</td>\n",
       "      <td>South America</td>\n",
       "    </tr>\n",
       "    <tr>\n",
       "      <th>3</th>\n",
       "      <td>United Kingdom</td>\n",
       "      <td>9379286</td>\n",
       "      <td>142293</td>\n",
       "      <td>9346961</td>\n",
       "      <td>142236</td>\n",
       "      <td>32325</td>\n",
       "      <td>57</td>\n",
       "      <td>1.52</td>\n",
       "      <td>Europe</td>\n",
       "    </tr>\n",
       "    <tr>\n",
       "      <th>4</th>\n",
       "      <td>Russia</td>\n",
       "      <td>8689818</td>\n",
       "      <td>243405</td>\n",
       "      <td>8651561</td>\n",
       "      <td>242241</td>\n",
       "      <td>38257</td>\n",
       "      <td>1164</td>\n",
       "      <td>2.80</td>\n",
       "      <td>Europe</td>\n",
       "    </tr>\n",
       "  </tbody>\n",
       "</table>\n",
       "</div>"
      ],
      "text/plain": [
       "   Country/Region     Cases  Deaths    PCases  PDeaths  Cases (+)  Deaths (+)  \\\n",
       "0              US  46613282  755647  46487791   754429     125491        1218   \n",
       "1           India  34377113  461389  34366987   461057      10126         332   \n",
       "2          Brazil  21886077  609573  21880439   609447       5638         126   \n",
       "3  United Kingdom   9379286  142293   9346961   142236      32325          57   \n",
       "4          Russia   8689818  243405   8651561   242241      38257        1164   \n",
       "\n",
       "   Fatality Rate      Continent  \n",
       "0           1.62  North America  \n",
       "1           1.34           Asia  \n",
       "2           2.79  South America  \n",
       "3           1.52         Europe  \n",
       "4           2.80         Europe  "
      ]
     },
     "execution_count": 13,
     "metadata": {},
     "output_type": "execute_result"
    }
   ],
   "source": [
    "#hide\n",
    "for c in 'Cases, Deaths'.split(', '):\n",
    "    df_table[f'{c} (+)'] = (df_table[c] - df_table[f'P{c}']).clip(0)\n",
    "    #Clip ça veut dire, les chiffres negatif sont interdit\n",
    "df_table['Fatality Rate'] = (100* df_table['Deaths']/ df_table['Cases']).round(2)\n",
    "df_table['Continent'] = df_table['Country/Region'].map(mapping['map.continent'])\n",
    "df_table.head(5)"
   ]
  },
  {
   "cell_type": "code",
   "execution_count": 14,
   "id": "aboriginal-bulgaria",
   "metadata": {
    "execution": {
     "iopub.execute_input": "2021-11-10T00:24:38.125817Z",
     "iopub.status.busy": "2021-11-10T00:24:38.125296Z",
     "iopub.status.idle": "2021-11-10T00:24:38.127460Z",
     "shell.execute_reply": "2021-11-10T00:24:38.127055Z"
    },
    "papermill": {
     "duration": 0.036938,
     "end_time": "2021-11-10T00:24:38.127570",
     "exception": false,
     "start_time": "2021-11-10T00:24:38.090632",
     "status": "completed"
    },
    "tags": []
   },
   "outputs": [],
   "source": [
    "#hide\n",
    "#delete problematic countries from table\n",
    "df_table = df_table[~df_table['Country/Region'].isin(['Cape Verde', 'Cruise Ship', 'Kosovo'])]"
   ]
  },
  {
   "cell_type": "code",
   "execution_count": 15,
   "id": "fantastic-effect",
   "metadata": {
    "execution": {
     "iopub.execute_input": "2021-11-10T00:24:38.194866Z",
     "iopub.status.busy": "2021-11-10T00:24:38.194323Z",
     "iopub.status.idle": "2021-11-10T00:24:38.212015Z",
     "shell.execute_reply": "2021-11-10T00:24:38.211611Z"
    },
    "papermill": {
     "duration": 0.054961,
     "end_time": "2021-11-10T00:24:38.212125",
     "exception": false,
     "start_time": "2021-11-10T00:24:38.157164",
     "status": "completed"
    },
    "tags": []
   },
   "outputs": [
    {
     "data": {
      "text/html": [
       "<div>\n",
       "<style scoped>\n",
       "    .dataframe tbody tr th:only-of-type {\n",
       "        vertical-align: middle;\n",
       "    }\n",
       "\n",
       "    .dataframe tbody tr th {\n",
       "        vertical-align: top;\n",
       "    }\n",
       "\n",
       "    .dataframe thead th {\n",
       "        text-align: right;\n",
       "    }\n",
       "</style>\n",
       "<table border=\"1\" class=\"dataframe\">\n",
       "  <thead>\n",
       "    <tr style=\"text-align: right;\">\n",
       "      <th></th>\n",
       "      <th>Country/Region</th>\n",
       "      <th>Cases</th>\n",
       "      <th>Deaths</th>\n",
       "      <th>PCases</th>\n",
       "      <th>PDeaths</th>\n",
       "      <th>Cases (+)</th>\n",
       "      <th>Deaths (+)</th>\n",
       "      <th>Fatality Rate</th>\n",
       "      <th>Continent</th>\n",
       "    </tr>\n",
       "  </thead>\n",
       "  <tbody>\n",
       "    <tr>\n",
       "      <th>0</th>\n",
       "      <td>US</td>\n",
       "      <td>46613282</td>\n",
       "      <td>755647</td>\n",
       "      <td>46487791</td>\n",
       "      <td>754429</td>\n",
       "      <td>125491</td>\n",
       "      <td>1218</td>\n",
       "      <td>1.6</td>\n",
       "      <td>North America</td>\n",
       "    </tr>\n",
       "    <tr>\n",
       "      <th>1</th>\n",
       "      <td>India</td>\n",
       "      <td>34377113</td>\n",
       "      <td>461389</td>\n",
       "      <td>34366987</td>\n",
       "      <td>461057</td>\n",
       "      <td>10126</td>\n",
       "      <td>332</td>\n",
       "      <td>1.3</td>\n",
       "      <td>Asia</td>\n",
       "    </tr>\n",
       "    <tr>\n",
       "      <th>2</th>\n",
       "      <td>Brazil</td>\n",
       "      <td>21886077</td>\n",
       "      <td>609573</td>\n",
       "      <td>21880439</td>\n",
       "      <td>609447</td>\n",
       "      <td>5638</td>\n",
       "      <td>126</td>\n",
       "      <td>2.8</td>\n",
       "      <td>South America</td>\n",
       "    </tr>\n",
       "    <tr>\n",
       "      <th>3</th>\n",
       "      <td>United Kingdom</td>\n",
       "      <td>9379286</td>\n",
       "      <td>142293</td>\n",
       "      <td>9346961</td>\n",
       "      <td>142236</td>\n",
       "      <td>32325</td>\n",
       "      <td>57</td>\n",
       "      <td>1.5</td>\n",
       "      <td>Europe</td>\n",
       "    </tr>\n",
       "    <tr>\n",
       "      <th>4</th>\n",
       "      <td>Russia</td>\n",
       "      <td>8689818</td>\n",
       "      <td>243405</td>\n",
       "      <td>8651561</td>\n",
       "      <td>242241</td>\n",
       "      <td>38257</td>\n",
       "      <td>1164</td>\n",
       "      <td>2.8</td>\n",
       "      <td>Europe</td>\n",
       "    </tr>\n",
       "  </tbody>\n",
       "</table>\n",
       "</div>"
      ],
      "text/plain": [
       "   Country/Region     Cases  Deaths    PCases  PDeaths  Cases (+)  Deaths (+)  \\\n",
       "0              US  46613282  755647  46487791   754429     125491        1218   \n",
       "1           India  34377113  461389  34366987   461057      10126         332   \n",
       "2          Brazil  21886077  609573  21880439   609447       5638         126   \n",
       "3  United Kingdom   9379286  142293   9346961   142236      32325          57   \n",
       "4          Russia   8689818  243405   8651561   242241      38257        1164   \n",
       "\n",
       "   Fatality Rate      Continent  \n",
       "0            1.6  North America  \n",
       "1            1.3           Asia  \n",
       "2            2.8  South America  \n",
       "3            1.5         Europe  \n",
       "4            2.8         Europe  "
      ]
     },
     "execution_count": 15,
     "metadata": {},
     "output_type": "execute_result"
    }
   ],
   "source": [
    "#hide\n",
    "df_table = (pd.DataFrame(dict(Cases=dfc_cases, Deaths=dfc_deaths, PCases=dfp_cases, PDeaths=dfp_deaths))\n",
    "             .sort_values(by=['Cases', 'Deaths'], ascending=[False, False])\n",
    "             .reset_index())\n",
    "df_table.rename(columns={'index': 'Country/Region'}, inplace=True)\n",
    "for c in 'Cases, Deaths'.split(', '):\n",
    "    df_table[f'{c} (+)'] = (df_table[c] - df_table[f'P{c}']).clip(0)  # DATA BUG\n",
    "df_table['Fatality Rate'] = (100 * df_table['Deaths'] / df_table['Cases']).round(1)\n",
    "df_table['Continent'] = df_table['Country/Region'].map(mapping['map.continent'])\n",
    "df_table.head(5)"
   ]
  },
  {
   "cell_type": "code",
   "execution_count": 16,
   "id": "fewer-occasion",
   "metadata": {
    "execution": {
     "iopub.execute_input": "2021-11-10T00:24:38.277816Z",
     "iopub.status.busy": "2021-11-10T00:24:38.277307Z",
     "iopub.status.idle": "2021-11-10T00:24:38.279285Z",
     "shell.execute_reply": "2021-11-10T00:24:38.279717Z"
    },
    "papermill": {
     "duration": 0.037458,
     "end_time": "2021-11-10T00:24:38.279839",
     "exception": false,
     "start_time": "2021-11-10T00:24:38.242381",
     "status": "completed"
    },
    "tags": []
   },
   "outputs": [],
   "source": [
    "#hide\n",
    "#delete problematic countries from table\n",
    "df_table = df_table[~df_table['Country/Region'].isin(['Cape Verde', 'Cruise Ship', 'Kosovo'])]"
   ]
  },
  {
   "cell_type": "code",
   "execution_count": 17,
   "id": "related-center",
   "metadata": {
    "execution": {
     "iopub.execute_input": "2021-11-10T00:24:38.365064Z",
     "iopub.status.busy": "2021-11-10T00:24:38.364537Z",
     "iopub.status.idle": "2021-11-10T00:24:38.366168Z",
     "shell.execute_reply": "2021-11-10T00:24:38.366580Z"
    },
    "papermill": {
     "duration": 0.052784,
     "end_time": "2021-11-10T00:24:38.366731",
     "exception": false,
     "start_time": "2021-11-10T00:24:38.313947",
     "status": "completed"
    },
    "tags": []
   },
   "outputs": [],
   "source": [
    "#hide\n",
    "metrics = [df_table.columns[index] for index in [1,2,5,6]]\n",
    "# s_china = df_table[df_table['Country/Region'].eq('China')][metrics].sum().add_prefix('China ')\n",
    "s_us = df_table[df_table['Country/Region'].eq('US')][metrics].sum().add_prefix('US ')\n",
    "s_eu = df_table[df_table['Continent'].eq('Europe')][metrics].sum().add_prefix('EU ')\n",
    "s_ind = df_table[df_table['Country/Region'].eq('India')][metrics].sum().add_prefix('India ')\n",
    "summary = {'updated': pd.to_datetime(dt_today), 'since': pd.to_datetime(dt_yday)}\n",
    "summary = {'updated': pd.to_datetime(dt_today), 'since': pd.to_datetime(dt_yday)}\n",
    "summary = {**summary, **df_table[metrics].sum(), **s_ind, **s_us, **s_eu}"
   ]
  },
  {
   "cell_type": "code",
   "execution_count": 18,
   "id": "engaging-syndrome",
   "metadata": {
    "execution": {
     "iopub.execute_input": "2021-11-10T00:24:38.431492Z",
     "iopub.status.busy": "2021-11-10T00:24:38.430974Z",
     "iopub.status.idle": "2021-11-10T00:24:38.444087Z",
     "shell.execute_reply": "2021-11-10T00:24:38.444470Z"
    },
    "papermill": {
     "duration": 0.047687,
     "end_time": "2021-11-10T00:24:38.444600",
     "exception": false,
     "start_time": "2021-11-10T00:24:38.396913",
     "status": "completed"
    },
    "tags": []
   },
   "outputs": [],
   "source": [
    "#hide\n",
    "dft_ct_new_cases = dft_cases.groupby(COL_REGION)[dt_cols].sum().diff(axis=1).fillna(0).astype(int)"
   ]
  },
  {
   "cell_type": "code",
   "execution_count": 19,
   "id": "neutral-assignment",
   "metadata": {
    "execution": {
     "iopub.execute_input": "2021-11-10T00:24:38.510346Z",
     "iopub.status.busy": "2021-11-10T00:24:38.509839Z",
     "iopub.status.idle": "2021-11-10T00:24:38.511954Z",
     "shell.execute_reply": "2021-11-10T00:24:38.512334Z"
    },
    "papermill": {
     "duration": 0.037823,
     "end_time": "2021-11-10T00:24:38.512455",
     "exception": false,
     "start_time": "2021-11-10T00:24:38.474632",
     "status": "completed"
    },
    "tags": []
   },
   "outputs": [],
   "source": [
    "#hide\n",
    "everydaycases = dft_ct_new_cases.cumsum(axis=1)"
   ]
  },
  {
   "cell_type": "code",
   "execution_count": 20,
   "id": "parliamentary-calgary",
   "metadata": {
    "execution": {
     "iopub.execute_input": "2021-11-10T00:24:38.576149Z",
     "iopub.status.busy": "2021-11-10T00:24:38.575636Z",
     "iopub.status.idle": "2021-11-10T00:24:39.190267Z",
     "shell.execute_reply": "2021-11-10T00:24:39.189810Z"
    },
    "papermill": {
     "duration": 0.647985,
     "end_time": "2021-11-10T00:24:39.190395",
     "exception": false,
     "start_time": "2021-11-10T00:24:38.542410",
     "status": "completed"
    },
    "tags": []
   },
   "outputs": [],
   "source": [
    "#hide\n",
    "import pandas as pd\n",
    "import matplotlib.pyplot as plt\n",
    "import matplotlib.ticker as ticker\n",
    "import matplotlib.animation as animation\n",
    "from IPython.display import HTML"
   ]
  },
  {
   "cell_type": "code",
   "execution_count": 21,
   "id": "lasting-extraction",
   "metadata": {
    "execution": {
     "iopub.execute_input": "2021-11-10T00:24:39.256695Z",
     "iopub.status.busy": "2021-11-10T00:24:39.256176Z",
     "iopub.status.idle": "2021-11-10T00:24:39.261622Z",
     "shell.execute_reply": "2021-11-10T00:24:39.262097Z"
    },
    "papermill": {
     "duration": 0.041197,
     "end_time": "2021-11-10T00:24:39.262218",
     "exception": false,
     "start_time": "2021-11-10T00:24:39.221021",
     "status": "completed"
    },
    "tags": []
   },
   "outputs": [],
   "source": [
    "#hide\n",
    "t = everydaycases.stack()"
   ]
  },
  {
   "cell_type": "code",
   "execution_count": 22,
   "id": "premier-sleeve",
   "metadata": {
    "execution": {
     "iopub.execute_input": "2021-11-10T00:24:39.326026Z",
     "iopub.status.busy": "2021-11-10T00:24:39.325525Z",
     "iopub.status.idle": "2021-11-10T00:24:39.335550Z",
     "shell.execute_reply": "2021-11-10T00:24:39.335122Z"
    },
    "papermill": {
     "duration": 0.043307,
     "end_time": "2021-11-10T00:24:39.335655",
     "exception": false,
     "start_time": "2021-11-10T00:24:39.292348",
     "status": "completed"
    },
    "tags": []
   },
   "outputs": [],
   "source": [
    "#hide\n",
    "g = t.reset_index(['Country/Region'])"
   ]
  },
  {
   "cell_type": "code",
   "execution_count": 23,
   "id": "distributed-pittsburgh",
   "metadata": {
    "execution": {
     "iopub.execute_input": "2021-11-10T00:24:39.399288Z",
     "iopub.status.busy": "2021-11-10T00:24:39.398682Z",
     "iopub.status.idle": "2021-11-10T00:24:39.400830Z",
     "shell.execute_reply": "2021-11-10T00:24:39.400276Z"
    },
    "papermill": {
     "duration": 0.035405,
     "end_time": "2021-11-10T00:24:39.400946",
     "exception": false,
     "start_time": "2021-11-10T00:24:39.365541",
     "status": "completed"
    },
    "tags": []
   },
   "outputs": [],
   "source": [
    "#hide\n",
    "g.index.name = 'date'"
   ]
  },
  {
   "cell_type": "code",
   "execution_count": 24,
   "id": "naked-donor",
   "metadata": {
    "execution": {
     "iopub.execute_input": "2021-11-10T00:24:39.464504Z",
     "iopub.status.busy": "2021-11-10T00:24:39.463979Z",
     "iopub.status.idle": "2021-11-10T00:24:39.467761Z",
     "shell.execute_reply": "2021-11-10T00:24:39.467331Z"
    },
    "papermill": {
     "duration": 0.03658,
     "end_time": "2021-11-10T00:24:39.467865",
     "exception": false,
     "start_time": "2021-11-10T00:24:39.431285",
     "status": "completed"
    },
    "tags": []
   },
   "outputs": [],
   "source": [
    "# #hide\n",
    "# g = g.reset_index(['date'])"
   ]
  },
  {
   "cell_type": "code",
   "execution_count": 25,
   "id": "incomplete-mustang",
   "metadata": {
    "execution": {
     "iopub.execute_input": "2021-11-10T00:24:39.531228Z",
     "iopub.status.busy": "2021-11-10T00:24:39.530628Z",
     "iopub.status.idle": "2021-11-10T00:24:39.532783Z",
     "shell.execute_reply": "2021-11-10T00:24:39.532301Z"
    },
    "papermill": {
     "duration": 0.035183,
     "end_time": "2021-11-10T00:24:39.532897",
     "exception": false,
     "start_time": "2021-11-10T00:24:39.497714",
     "status": "completed"
    },
    "tags": []
   },
   "outputs": [],
   "source": [
    "#hide\n",
    "# g.head()"
   ]
  },
  {
   "cell_type": "code",
   "execution_count": 26,
   "id": "specific-kruger",
   "metadata": {
    "execution": {
     "iopub.execute_input": "2021-11-10T00:24:39.596356Z",
     "iopub.status.busy": "2021-11-10T00:24:39.595839Z",
     "iopub.status.idle": "2021-11-10T00:24:39.598129Z",
     "shell.execute_reply": "2021-11-10T00:24:39.597701Z"
    },
    "papermill": {
     "duration": 0.035154,
     "end_time": "2021-11-10T00:24:39.598231",
     "exception": false,
     "start_time": "2021-11-10T00:24:39.563077",
     "status": "completed"
    },
    "tags": []
   },
   "outputs": [],
   "source": [
    "#hide\n",
    "# g.columns = ['date','country','cases']"
   ]
  },
  {
   "cell_type": "code",
   "execution_count": 27,
   "id": "tender-conversion",
   "metadata": {
    "execution": {
     "iopub.execute_input": "2021-11-10T00:24:39.661214Z",
     "iopub.status.busy": "2021-11-10T00:24:39.660683Z",
     "iopub.status.idle": "2021-11-10T00:24:39.662859Z",
     "shell.execute_reply": "2021-11-10T00:24:39.662413Z"
    },
    "papermill": {
     "duration": 0.034843,
     "end_time": "2021-11-10T00:24:39.662968",
     "exception": false,
     "start_time": "2021-11-10T00:24:39.628125",
     "status": "completed"
    },
    "tags": []
   },
   "outputs": [],
   "source": [
    "#hide\n",
    "# g['continent'] = g.country"
   ]
  },
  {
   "cell_type": "code",
   "execution_count": 28,
   "id": "substantial-wilderness",
   "metadata": {
    "execution": {
     "iopub.execute_input": "2021-11-10T00:24:39.726734Z",
     "iopub.status.busy": "2021-11-10T00:24:39.726105Z",
     "iopub.status.idle": "2021-11-10T00:24:39.727743Z",
     "shell.execute_reply": "2021-11-10T00:24:39.728151Z"
    },
    "papermill": {
     "duration": 0.035096,
     "end_time": "2021-11-10T00:24:39.728273",
     "exception": false,
     "start_time": "2021-11-10T00:24:39.693177",
     "status": "completed"
    },
    "tags": []
   },
   "outputs": [],
   "source": [
    "#hide\n",
    "# cols = list(g.columns.values)"
   ]
  },
  {
   "cell_type": "code",
   "execution_count": 29,
   "id": "solved-farming",
   "metadata": {
    "execution": {
     "iopub.execute_input": "2021-11-10T00:24:39.791598Z",
     "iopub.status.busy": "2021-11-10T00:24:39.790993Z",
     "iopub.status.idle": "2021-11-10T00:24:39.792473Z",
     "shell.execute_reply": "2021-11-10T00:24:39.792934Z"
    },
    "papermill": {
     "duration": 0.034908,
     "end_time": "2021-11-10T00:24:39.793067",
     "exception": false,
     "start_time": "2021-11-10T00:24:39.758159",
     "status": "completed"
    },
    "tags": []
   },
   "outputs": [],
   "source": [
    "#hide\n",
    "# cols.insert(0, cols.pop())"
   ]
  },
  {
   "cell_type": "code",
   "execution_count": 30,
   "id": "executed-adoption",
   "metadata": {
    "execution": {
     "iopub.execute_input": "2021-11-10T00:24:39.857092Z",
     "iopub.status.busy": "2021-11-10T00:24:39.856507Z",
     "iopub.status.idle": "2021-11-10T00:24:39.860161Z",
     "shell.execute_reply": "2021-11-10T00:24:39.859756Z"
    },
    "papermill": {
     "duration": 0.036482,
     "end_time": "2021-11-10T00:24:39.860270",
     "exception": false,
     "start_time": "2021-11-10T00:24:39.823788",
     "status": "completed"
    },
    "tags": []
   },
   "outputs": [],
   "source": [
    "#hide\n",
    "# g = g[cols]"
   ]
  },
  {
   "cell_type": "code",
   "execution_count": 31,
   "id": "subject-dublin",
   "metadata": {
    "execution": {
     "iopub.execute_input": "2021-11-10T00:24:39.924085Z",
     "iopub.status.busy": "2021-11-10T00:24:39.923494Z",
     "iopub.status.idle": "2021-11-10T00:24:39.925192Z",
     "shell.execute_reply": "2021-11-10T00:24:39.925628Z"
    },
    "papermill": {
     "duration": 0.035454,
     "end_time": "2021-11-10T00:24:39.925769",
     "exception": false,
     "start_time": "2021-11-10T00:24:39.890315",
     "status": "completed"
    },
    "tags": []
   },
   "outputs": [],
   "source": [
    "#hide\n",
    "# g['continent'] = g['continent'].map(mapping['map.continent'])"
   ]
  },
  {
   "cell_type": "code",
   "execution_count": 32,
   "id": "freelance-scout",
   "metadata": {
    "execution": {
     "iopub.execute_input": "2021-11-10T00:24:39.989762Z",
     "iopub.status.busy": "2021-11-10T00:24:39.989169Z",
     "iopub.status.idle": "2021-11-10T00:24:39.992794Z",
     "shell.execute_reply": "2021-11-10T00:24:39.992384Z"
    },
    "papermill": {
     "duration": 0.036651,
     "end_time": "2021-11-10T00:24:39.992902",
     "exception": false,
     "start_time": "2021-11-10T00:24:39.956251",
     "status": "completed"
    },
    "tags": []
   },
   "outputs": [],
   "source": [
    "#hide\n",
    "# g.head()"
   ]
  },
  {
   "cell_type": "code",
   "execution_count": 33,
   "id": "limited-engine",
   "metadata": {
    "execution": {
     "iopub.execute_input": "2021-11-10T00:24:40.056711Z",
     "iopub.status.busy": "2021-11-10T00:24:40.056118Z",
     "iopub.status.idle": "2021-11-10T00:24:40.058118Z",
     "shell.execute_reply": "2021-11-10T00:24:40.057546Z"
    },
    "papermill": {
     "duration": 0.035274,
     "end_time": "2021-11-10T00:24:40.058236",
     "exception": false,
     "start_time": "2021-11-10T00:24:40.022962",
     "status": "completed"
    },
    "tags": []
   },
   "outputs": [],
   "source": [
    "# hide\n",
    "# g['date'] = g['date'].astype('datetime64[ns]')"
   ]
  },
  {
   "cell_type": "code",
   "execution_count": 34,
   "id": "sophisticated-supervisor",
   "metadata": {
    "execution": {
     "iopub.execute_input": "2021-11-10T00:24:40.122925Z",
     "iopub.status.busy": "2021-11-10T00:24:40.122338Z",
     "iopub.status.idle": "2021-11-10T00:24:40.123997Z",
     "shell.execute_reply": "2021-11-10T00:24:40.124380Z"
    },
    "papermill": {
     "duration": 0.035628,
     "end_time": "2021-11-10T00:24:40.124505",
     "exception": false,
     "start_time": "2021-11-10T00:24:40.088877",
     "status": "completed"
    },
    "tags": []
   },
   "outputs": [],
   "source": [
    "#hide\n",
    "# g['date'] = g.date.dt.dayofyear"
   ]
  },
  {
   "cell_type": "code",
   "execution_count": 35,
   "id": "inside-dubai",
   "metadata": {
    "execution": {
     "iopub.execute_input": "2021-11-10T00:24:40.187987Z",
     "iopub.status.busy": "2021-11-10T00:24:40.187382Z",
     "iopub.status.idle": "2021-11-10T00:24:40.191256Z",
     "shell.execute_reply": "2021-11-10T00:24:40.190786Z"
    },
    "papermill": {
     "duration": 0.036953,
     "end_time": "2021-11-10T00:24:40.191379",
     "exception": false,
     "start_time": "2021-11-10T00:24:40.154426",
     "status": "completed"
    },
    "tags": []
   },
   "outputs": [],
   "source": [
    "#hide\n",
    "# g = g.rename(columns= {'continent':'group','country':'name','cases':'value'})"
   ]
  },
  {
   "cell_type": "code",
   "execution_count": 36,
   "id": "fleet-motorcycle",
   "metadata": {
    "execution": {
     "iopub.execute_input": "2021-11-10T00:24:40.254977Z",
     "iopub.status.busy": "2021-11-10T00:24:40.254427Z",
     "iopub.status.idle": "2021-11-10T00:24:40.256264Z",
     "shell.execute_reply": "2021-11-10T00:24:40.255757Z"
    },
    "papermill": {
     "duration": 0.034738,
     "end_time": "2021-11-10T00:24:40.256370",
     "exception": false,
     "start_time": "2021-11-10T00:24:40.221632",
     "status": "completed"
    },
    "tags": []
   },
   "outputs": [],
   "source": [
    "#hide\n",
    "# cols = ['name','group','day','value']"
   ]
  },
  {
   "cell_type": "code",
   "execution_count": 37,
   "id": "continued-sleeping",
   "metadata": {
    "execution": {
     "iopub.execute_input": "2021-11-10T00:24:40.320013Z",
     "iopub.status.busy": "2021-11-10T00:24:40.319423Z",
     "iopub.status.idle": "2021-11-10T00:24:40.321119Z",
     "shell.execute_reply": "2021-11-10T00:24:40.321559Z"
    },
    "papermill": {
     "duration": 0.035327,
     "end_time": "2021-11-10T00:24:40.321701",
     "exception": false,
     "start_time": "2021-11-10T00:24:40.286374",
     "status": "completed"
    },
    "tags": []
   },
   "outputs": [],
   "source": [
    "#hide\n",
    "# g.rename(columns= {'date':'day'},inplace = True)"
   ]
  },
  {
   "cell_type": "code",
   "execution_count": 38,
   "id": "major-fight",
   "metadata": {
    "execution": {
     "iopub.execute_input": "2021-11-10T00:24:40.385833Z",
     "iopub.status.busy": "2021-11-10T00:24:40.385257Z",
     "iopub.status.idle": "2021-11-10T00:24:40.388384Z",
     "shell.execute_reply": "2021-11-10T00:24:40.388769Z"
    },
    "papermill": {
     "duration": 0.03652,
     "end_time": "2021-11-10T00:24:40.388893",
     "exception": false,
     "start_time": "2021-11-10T00:24:40.352373",
     "status": "completed"
    },
    "tags": []
   },
   "outputs": [],
   "source": [
    "#hide\n",
    "# g = g[cols]"
   ]
  },
  {
   "cell_type": "code",
   "execution_count": 39,
   "id": "structured-mobile",
   "metadata": {
    "execution": {
     "iopub.execute_input": "2021-11-10T00:24:40.452654Z",
     "iopub.status.busy": "2021-11-10T00:24:40.452044Z",
     "iopub.status.idle": "2021-11-10T00:24:40.453812Z",
     "shell.execute_reply": "2021-11-10T00:24:40.453254Z"
    },
    "papermill": {
     "duration": 0.035096,
     "end_time": "2021-11-10T00:24:40.453930",
     "exception": false,
     "start_time": "2021-11-10T00:24:40.418834",
     "status": "completed"
    },
    "tags": []
   },
   "outputs": [],
   "source": [
    "# #hide\n",
    "# g = g[g.group.notna()]"
   ]
  },
  {
   "cell_type": "code",
   "execution_count": 40,
   "id": "determined-closing",
   "metadata": {
    "execution": {
     "iopub.execute_input": "2021-11-10T00:24:40.518094Z",
     "iopub.status.busy": "2021-11-10T00:24:40.517563Z",
     "iopub.status.idle": "2021-11-10T00:24:40.519187Z",
     "shell.execute_reply": "2021-11-10T00:24:40.519571Z"
    },
    "papermill": {
     "duration": 0.035231,
     "end_time": "2021-11-10T00:24:40.519701",
     "exception": false,
     "start_time": "2021-11-10T00:24:40.484470",
     "status": "completed"
    },
    "tags": []
   },
   "outputs": [],
   "source": [
    "# #hide\n",
    "# colors = dict(zip(\n",
    "#     [\"Oceania\", \"Europe\", \"Asia\", \"South America\", \"Middle East\", \"North America\", \"Africa\"],\n",
    "#     [\"#adb0ff\", \"#ffb3ff\", \"#90d595\", \"#e48381\", \"#aafbff\", \"#f7bb5f\", \"#eafb50\"]\n",
    "# ))\n",
    "# group_lk = g.set_index('name')['group'].to_dict()"
   ]
  },
  {
   "cell_type": "code",
   "execution_count": null,
   "id": "gross-drinking",
   "metadata": {
    "papermill": {
     "duration": 0.029966,
     "end_time": "2021-11-10T00:24:40.579602",
     "exception": false,
     "start_time": "2021-11-10T00:24:40.549636",
     "status": "completed"
    },
    "tags": []
   },
   "outputs": [],
   "source": []
  },
  {
   "cell_type": "code",
   "execution_count": 41,
   "id": "subject-macintosh",
   "metadata": {
    "execution": {
     "iopub.execute_input": "2021-11-10T00:24:40.644879Z",
     "iopub.status.busy": "2021-11-10T00:24:40.644258Z",
     "iopub.status.idle": "2021-11-10T00:24:40.648196Z",
     "shell.execute_reply": "2021-11-10T00:24:40.647732Z"
    },
    "papermill": {
     "duration": 0.037973,
     "end_time": "2021-11-10T00:24:40.648317",
     "exception": false,
     "start_time": "2021-11-10T00:24:40.610344",
     "status": "completed"
    },
    "tags": []
   },
   "outputs": [],
   "source": [
    "# #hide\n",
    "# fig, ax = plt.subplots(figsize=(15, 8))\n",
    "\n",
    "# def draw_barchart(current_day):\n",
    "#     dff = g[g['day'].eq(current_day)].sort_values(by='value', ascending=True).tail(10)\n",
    "#     ax.clear()\n",
    "#     ax.barh(dff['name'], dff['value'], color=[colors[group_lk[x]] for x in dff['name']])\n",
    "#     dx = dff['value'].max() / 200\n",
    "    \n",
    "#     for i, (value, name) in enumerate(zip(dff['value'], dff['name'])):\n",
    "#         ax.text(value-dx, i,     name,           size=14, weight=600, ha='right', va='bottom')\n",
    "#         ax.text(value-dx, i-.25, group_lk[name], size=10, color='#444444', ha='right', va='baseline')\n",
    "#         ax.text(value+dx, i,     f'{value:,.0f}',  size=14, ha='left',  va='center')\n",
    "#     ax.text(1, 0.4, current_day, transform=ax.transAxes, color='#777777', size=46, ha='right', weight=800)\n",
    "#     ax.text(0, 1.06, 'Population (thousands)', transform=ax.transAxes, size=12, color='#777777')\n",
    "#     ax.xaxis.set_major_formatter(ticker.StrMethodFormatter('{x:,.0f}'))\n",
    "#     ax.xaxis.set_ticks_position('top')\n",
    "#     ax.tick_params(axis='x', colors='#777777', labelsize=12)\n",
    "#     ax.set_yticks([])\n",
    "#     ax.margins(0, 0.01)\n",
    "#     ax.grid(which='major', axis='x', linestyle='-')\n",
    "#     ax.set_axisbelow(True)\n",
    "    \n",
    "#     ax.text(0, 1.15, 'Coronavirus',\n",
    "#             transform=ax.transAxes, size=24, weight=600, ha='left', va='top')\n",
    "# #     ax.text(1, 0, 'by @pratapvardhan; credit @jburnmurdoch', transform=ax.transAxes, color='#777777', ha='right',\n",
    "# #             bbox=dict(facecolor='white', alpha=0.8, edgecolor='white'))\n",
    "#     plt.box(False)"
   ]
  },
  {
   "cell_type": "code",
   "execution_count": 42,
   "id": "sexual-wages",
   "metadata": {
    "execution": {
     "iopub.execute_input": "2021-11-10T00:24:40.712740Z",
     "iopub.status.busy": "2021-11-10T00:24:40.712125Z",
     "iopub.status.idle": "2021-11-10T00:24:40.714134Z",
     "shell.execute_reply": "2021-11-10T00:24:40.713556Z"
    },
    "papermill": {
     "duration": 0.035992,
     "end_time": "2021-11-10T00:24:40.714438",
     "exception": false,
     "start_time": "2021-11-10T00:24:40.678446",
     "status": "completed"
    },
    "tags": []
   },
   "outputs": [],
   "source": [
    "# #hide_input\n",
    "# fig, ax = plt.subplots(figsize=(15, 8))\n",
    "# animator = animation.FuncAnimation(fig, draw_barchart, frames=range(g.day.values.min(), g.day.values.max()))\n",
    "# HTML(animator.to_jshtml())\n",
    "# # or use animator.to_html5_video() or animator.save() "
   ]
  },
  {
   "cell_type": "code",
   "execution_count": null,
   "id": "australian-container",
   "metadata": {
    "papermill": {
     "duration": 0.030064,
     "end_time": "2021-11-10T00:24:40.775552",
     "exception": false,
     "start_time": "2021-11-10T00:24:40.745488",
     "status": "completed"
    },
    "tags": []
   },
   "outputs": [],
   "source": []
  },
  {
   "cell_type": "code",
   "execution_count": null,
   "id": "mediterranean-pontiac",
   "metadata": {
    "papermill": {
     "duration": 0.030274,
     "end_time": "2021-11-10T00:24:40.836188",
     "exception": false,
     "start_time": "2021-11-10T00:24:40.805914",
     "status": "completed"
    },
    "tags": []
   },
   "outputs": [],
   "source": []
  },
  {
   "cell_type": "code",
   "execution_count": null,
   "id": "aging-legislature",
   "metadata": {
    "papermill": {
     "duration": 0.030623,
     "end_time": "2021-11-10T00:24:40.897404",
     "exception": false,
     "start_time": "2021-11-10T00:24:40.866781",
     "status": "completed"
    },
    "tags": []
   },
   "outputs": [],
   "source": []
  }
 ],
 "metadata": {
  "kernelspec": {
   "display_name": "Python 3",
   "language": "python",
   "name": "python3"
  },
  "language_info": {
   "codemirror_mode": {
    "name": "ipython",
    "version": 3
   },
   "file_extension": ".py",
   "mimetype": "text/x-python",
   "name": "python",
   "nbconvert_exporter": "python",
   "pygments_lexer": "ipython3",
   "version": "3.6.15"
  },
  "papermill": {
   "duration": 5.919756,
   "end_time": "2021-11-10T00:24:41.235262",
   "environment_variables": {},
   "exception": null,
   "input_path": "2020-03-21-covid19exp.ipynb",
   "output_path": "2020-03-21-covid19exp.ipynb",
   "parameters": {},
   "start_time": "2021-11-10T00:24:35.315506",
   "version": "2.0.0"
  }
 },
 "nbformat": 4,
 "nbformat_minor": 5
}