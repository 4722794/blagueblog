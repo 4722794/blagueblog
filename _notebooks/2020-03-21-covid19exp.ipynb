{
 "cells": [
  {
   "cell_type": "markdown",
   "id": "muslim-click",
   "metadata": {
    "papermill": {
     "duration": 0.040021,
     "end_time": "2022-05-16T00:41:00.222744",
     "exception": false,
     "start_time": "2022-05-16T00:41:00.182723",
     "status": "completed"
    },
    "tags": []
   },
   "source": [
    "# COVID-19 Case Race\n",
    "> A race chart to see rising cases around the world\n",
    "\n",
    "- author: Hargun Oberoi\n",
    "- image: images/covid-overview.png\n",
    "- hide: false\n",
    "- badges: false"
   ]
  },
  {
   "cell_type": "code",
   "execution_count": 1,
   "id": "proof-material",
   "metadata": {
    "execution": {
     "iopub.execute_input": "2022-05-16T00:41:00.305035Z",
     "iopub.status.busy": "2022-05-16T00:41:00.304353Z",
     "iopub.status.idle": "2022-05-16T00:41:00.745390Z",
     "shell.execute_reply": "2022-05-16T00:41:00.744648Z"
    },
    "papermill": {
     "duration": 0.487007,
     "end_time": "2022-05-16T00:41:00.745591",
     "exception": false,
     "start_time": "2022-05-16T00:41:00.258584",
     "status": "completed"
    },
    "tags": []
   },
   "outputs": [],
   "source": [
    "#hide\n",
    "import numpy as np\n",
    "import pandas as pd\n",
    "from jinja2 import Template\n",
    "from IPython.display import HTML"
   ]
  },
  {
   "cell_type": "code",
   "execution_count": 2,
   "id": "developed-terminology",
   "metadata": {
    "execution": {
     "iopub.execute_input": "2022-05-16T00:41:00.821071Z",
     "iopub.status.busy": "2022-05-16T00:41:00.820457Z",
     "iopub.status.idle": "2022-05-16T00:41:00.824466Z",
     "shell.execute_reply": "2022-05-16T00:41:00.823951Z"
    },
    "papermill": {
     "duration": 0.044735,
     "end_time": "2022-05-16T00:41:00.824596",
     "exception": false,
     "start_time": "2022-05-16T00:41:00.779861",
     "status": "completed"
    },
    "tags": []
   },
   "outputs": [],
   "source": [
    "#hide\n",
    "\n",
    "# FETCH\n",
    "base_url = 'https://raw.githubusercontent.com/pratapvardhan/notebooks/master/covid19/'\n",
    "paths = {\n",
    "    'mapping': base_url + 'mapping_countries.csv',\n",
    "    'overview': base_url + 'overview.tpl'\n",
    "}"
   ]
  },
  {
   "cell_type": "code",
   "execution_count": 3,
   "id": "dynamic-saver",
   "metadata": {
    "execution": {
     "iopub.execute_input": "2022-05-16T00:41:00.902800Z",
     "iopub.status.busy": "2022-05-16T00:41:00.899183Z",
     "iopub.status.idle": "2022-05-16T00:41:00.905077Z",
     "shell.execute_reply": "2022-05-16T00:41:00.905546Z"
    },
    "papermill": {
     "duration": 0.047857,
     "end_time": "2022-05-16T00:41:00.905693",
     "exception": false,
     "start_time": "2022-05-16T00:41:00.857836",
     "status": "completed"
    },
    "tags": []
   },
   "outputs": [
    {
     "data": {
      "text/plain": [
       "'https://raw.githubusercontent.com/pratapvardhan/notebooks/master/covid19/mapping_countries.csv'"
      ]
     },
     "execution_count": 3,
     "metadata": {},
     "output_type": "execute_result"
    }
   ],
   "source": [
    "#hide\n",
    "paths['mapping']"
   ]
  },
  {
   "cell_type": "code",
   "execution_count": 4,
   "id": "urban-software",
   "metadata": {
    "execution": {
     "iopub.execute_input": "2022-05-16T00:41:00.979443Z",
     "iopub.status.busy": "2022-05-16T00:41:00.978664Z",
     "iopub.status.idle": "2022-05-16T00:41:00.981861Z",
     "shell.execute_reply": "2022-05-16T00:41:00.981159Z"
    },
    "papermill": {
     "duration": 0.042557,
     "end_time": "2022-05-16T00:41:00.981993",
     "exception": false,
     "start_time": "2022-05-16T00:41:00.939436",
     "status": "completed"
    },
    "tags": []
   },
   "outputs": [],
   "source": [
    "#hide\n",
    "def get_mappings(url):\n",
    "    df = pd.read_csv(url)\n",
    "    return {\n",
    "        'df': df,\n",
    "        'replace.country': dict(df.dropna(subset=['Name']).set_index('Country')['Name']),\n",
    "        'map.continent': dict(df.set_index('Name')['Continent'])\n",
    "    }"
   ]
  },
  {
   "cell_type": "code",
   "execution_count": 5,
   "id": "intimate-machinery",
   "metadata": {
    "execution": {
     "iopub.execute_input": "2022-05-16T00:41:01.064747Z",
     "iopub.status.busy": "2022-05-16T00:41:01.064116Z",
     "iopub.status.idle": "2022-05-16T00:41:01.097049Z",
     "shell.execute_reply": "2022-05-16T00:41:01.097541Z"
    },
    "papermill": {
     "duration": 0.077677,
     "end_time": "2022-05-16T00:41:01.097710",
     "exception": false,
     "start_time": "2022-05-16T00:41:01.020033",
     "status": "completed"
    },
    "tags": []
   },
   "outputs": [],
   "source": [
    "#hide\n",
    "mapping = get_mappings(paths['mapping'])"
   ]
  },
  {
   "cell_type": "code",
   "execution_count": 6,
   "id": "certified-tactics",
   "metadata": {
    "execution": {
     "iopub.execute_input": "2022-05-16T00:41:01.186304Z",
     "iopub.status.busy": "2022-05-16T00:41:01.185662Z",
     "iopub.status.idle": "2022-05-16T00:41:01.189242Z",
     "shell.execute_reply": "2022-05-16T00:41:01.189698Z"
    },
    "papermill": {
     "duration": 0.053825,
     "end_time": "2022-05-16T00:41:01.189855",
     "exception": false,
     "start_time": "2022-05-16T00:41:01.136030",
     "status": "completed"
    },
    "tags": []
   },
   "outputs": [],
   "source": [
    "#hide\n",
    "def get_template(path):\n",
    "    from urllib.parse import urlparse\n",
    "    if bool(urlparse(path).netloc):\n",
    "        from urllib.request import urlopen\n",
    "        return urlopen(path).read().decode('utf8')\n",
    "    return open(path).read()"
   ]
  },
  {
   "cell_type": "code",
   "execution_count": 7,
   "id": "realistic-blast",
   "metadata": {
    "execution": {
     "iopub.execute_input": "2022-05-16T00:41:01.263822Z",
     "iopub.status.busy": "2022-05-16T00:41:01.263193Z",
     "iopub.status.idle": "2022-05-16T00:41:01.267554Z",
     "shell.execute_reply": "2022-05-16T00:41:01.266985Z"
    },
    "papermill": {
     "duration": 0.043582,
     "end_time": "2022-05-16T00:41:01.267722",
     "exception": false,
     "start_time": "2022-05-16T00:41:01.224140",
     "status": "completed"
    },
    "tags": []
   },
   "outputs": [],
   "source": [
    "#hide\n",
    "def get_frame(name):\n",
    "    url = (\n",
    "        'https://raw.githubusercontent.com/CSSEGISandData/COVID-19/master/csse_covid_19_data/'\n",
    "        f'csse_covid_19_time_series/time_series_covid19_{name}_global.csv')\n",
    "    df = pd.read_csv(url)\n",
    "    # rename countries\n",
    "    df['Country/Region'] = df['Country/Region'].replace(mapping['replace.country'])\n",
    "    return df"
   ]
  },
  {
   "cell_type": "code",
   "execution_count": 8,
   "id": "affiliated-characterization",
   "metadata": {
    "execution": {
     "iopub.execute_input": "2022-05-16T00:41:01.355632Z",
     "iopub.status.busy": "2022-05-16T00:41:01.354327Z",
     "iopub.status.idle": "2022-05-16T00:41:01.357443Z",
     "shell.execute_reply": "2022-05-16T00:41:01.356584Z"
    },
    "papermill": {
     "duration": 0.051854,
     "end_time": "2022-05-16T00:41:01.357646",
     "exception": false,
     "start_time": "2022-05-16T00:41:01.305792",
     "status": "completed"
    },
    "tags": []
   },
   "outputs": [],
   "source": [
    "#hide\n",
    "def get_dates(df):\n",
    "    dt_cols = df.columns[~df.columns.isin(['Province/State', 'Country/Region', 'Lat', 'Long'])]\n",
    "    LAST_DATE_I = -1\n",
    "    # sometimes last column may be empty, then go backwards\n",
    "    for i in range(-1, -len(dt_cols), -1):\n",
    "        if not df[dt_cols[i]].fillna(0).eq(0).all():\n",
    "            LAST_DATE_I = i\n",
    "            break\n",
    "    return LAST_DATE_I, dt_cols"
   ]
  },
  {
   "cell_type": "code",
   "execution_count": 9,
   "id": "recent-optimization",
   "metadata": {
    "execution": {
     "iopub.execute_input": "2022-05-16T00:41:01.430493Z",
     "iopub.status.busy": "2022-05-16T00:41:01.429847Z",
     "iopub.status.idle": "2022-05-16T00:41:01.865161Z",
     "shell.execute_reply": "2022-05-16T00:41:01.864480Z"
    },
    "papermill": {
     "duration": 0.473899,
     "end_time": "2022-05-16T00:41:01.865332",
     "exception": false,
     "start_time": "2022-05-16T00:41:01.391433",
     "status": "completed"
    },
    "tags": []
   },
   "outputs": [],
   "source": [
    "#hide\n",
    "COL_REGION = 'Country/Region'\n",
    "# Confirmed, Recovered, Deaths\n",
    "df = get_frame('confirmed')\n",
    "# dft_: timeseries, dfc_: today country agg\n",
    "dft_cases = df\n",
    "dft_deaths = get_frame('deaths')\n",
    "dft_recovered = get_frame('recovered')\n",
    "LAST_DATE_I, dt_cols = get_dates(df)"
   ]
  },
  {
   "cell_type": "code",
   "execution_count": 10,
   "id": "absolute-copper",
   "metadata": {
    "execution": {
     "iopub.execute_input": "2022-05-16T00:41:01.940244Z",
     "iopub.status.busy": "2022-05-16T00:41:01.938987Z",
     "iopub.status.idle": "2022-05-16T00:41:01.941010Z",
     "shell.execute_reply": "2022-05-16T00:41:01.941481Z"
    },
    "papermill": {
     "duration": 0.042153,
     "end_time": "2022-05-16T00:41:01.941627",
     "exception": false,
     "start_time": "2022-05-16T00:41:01.899474",
     "status": "completed"
    },
    "tags": []
   },
   "outputs": [],
   "source": [
    "#hide\n",
    "LAST_DATE_I, dt_cols = get_dates(df)\n",
    "dt_today =dt_cols[LAST_DATE_I]\n",
    "# dt_5day = dt_cols[LAST_DATE_I - 5]\n",
    "dt_yday = dt_cols[LAST_DATE_I - 1]"
   ]
  },
  {
   "cell_type": "code",
   "execution_count": 11,
   "id": "restricted-sheriff",
   "metadata": {
    "execution": {
     "iopub.execute_input": "2022-05-16T00:41:02.019757Z",
     "iopub.status.busy": "2022-05-16T00:41:02.018422Z",
     "iopub.status.idle": "2022-05-16T00:41:02.024921Z",
     "shell.execute_reply": "2022-05-16T00:41:02.024429Z"
    },
    "papermill": {
     "duration": 0.049769,
     "end_time": "2022-05-16T00:41:02.025054",
     "exception": false,
     "start_time": "2022-05-16T00:41:01.975285",
     "status": "completed"
    },
    "tags": []
   },
   "outputs": [],
   "source": [
    "#hide\n",
    "dfc_cases = dft_cases.groupby(COL_REGION)[dt_today].sum()\n",
    "dfc_deaths = dft_deaths.groupby(COL_REGION)[dt_today].sum()\n",
    "# dfp_cases = dft_cases.groupby(COL_REGION)[dt_5day].sum()\n",
    "# dfp_deaths = dft_deaths.groupby(COL_REGION)[dt_5day].sum()\n",
    "dfp_cases = dft_cases.groupby(COL_REGION)[dt_yday].sum()\n",
    "dfp_deaths = dft_deaths.groupby(COL_REGION)[dt_yday].sum()"
   ]
  },
  {
   "cell_type": "code",
   "execution_count": 12,
   "id": "deluxe-hepatitis",
   "metadata": {
    "execution": {
     "iopub.execute_input": "2022-05-16T00:41:02.102296Z",
     "iopub.status.busy": "2022-05-16T00:41:02.101615Z",
     "iopub.status.idle": "2022-05-16T00:41:02.106105Z",
     "shell.execute_reply": "2022-05-16T00:41:02.106653Z"
    },
    "papermill": {
     "duration": 0.047847,
     "end_time": "2022-05-16T00:41:02.106816",
     "exception": false,
     "start_time": "2022-05-16T00:41:02.058969",
     "status": "completed"
    },
    "tags": []
   },
   "outputs": [],
   "source": [
    "#hide\n",
    "df_table = (pd.DataFrame(dict(Cases = dfc_cases, Deaths = dfc_deaths, PCases = dfp_cases, PDeaths = dfp_deaths))\n",
    "            .sort_values(by = ['Cases','Deaths'], ascending = [False, False])\n",
    "            .reset_index())"
   ]
  },
  {
   "cell_type": "code",
   "execution_count": 13,
   "id": "educational-chancellor",
   "metadata": {
    "execution": {
     "iopub.execute_input": "2022-05-16T00:41:02.197484Z",
     "iopub.status.busy": "2022-05-16T00:41:02.196830Z",
     "iopub.status.idle": "2022-05-16T00:41:02.205427Z",
     "shell.execute_reply": "2022-05-16T00:41:02.206002Z"
    },
    "papermill": {
     "duration": 0.065181,
     "end_time": "2022-05-16T00:41:02.206162",
     "exception": false,
     "start_time": "2022-05-16T00:41:02.140981",
     "status": "completed"
    },
    "tags": []
   },
   "outputs": [
    {
     "data": {
      "text/html": [
       "<div>\n",
       "<style scoped>\n",
       "    .dataframe tbody tr th:only-of-type {\n",
       "        vertical-align: middle;\n",
       "    }\n",
       "\n",
       "    .dataframe tbody tr th {\n",
       "        vertical-align: top;\n",
       "    }\n",
       "\n",
       "    .dataframe thead th {\n",
       "        text-align: right;\n",
       "    }\n",
       "</style>\n",
       "<table border=\"1\" class=\"dataframe\">\n",
       "  <thead>\n",
       "    <tr style=\"text-align: right;\">\n",
       "      <th></th>\n",
       "      <th>Country/Region</th>\n",
       "      <th>Cases</th>\n",
       "      <th>Deaths</th>\n",
       "      <th>PCases</th>\n",
       "      <th>PDeaths</th>\n",
       "      <th>Cases (+)</th>\n",
       "      <th>Deaths (+)</th>\n",
       "      <th>Fatality Rate</th>\n",
       "      <th>Continent</th>\n",
       "    </tr>\n",
       "  </thead>\n",
       "  <tbody>\n",
       "    <tr>\n",
       "      <th>0</th>\n",
       "      <td>US</td>\n",
       "      <td>82437716</td>\n",
       "      <td>999570</td>\n",
       "      <td>82421624</td>\n",
       "      <td>999518</td>\n",
       "      <td>16092</td>\n",
       "      <td>52</td>\n",
       "      <td>1.21</td>\n",
       "      <td>North America</td>\n",
       "    </tr>\n",
       "    <tr>\n",
       "      <th>1</th>\n",
       "      <td>India</td>\n",
       "      <td>43121599</td>\n",
       "      <td>524214</td>\n",
       "      <td>43119112</td>\n",
       "      <td>524201</td>\n",
       "      <td>2487</td>\n",
       "      <td>13</td>\n",
       "      <td>1.22</td>\n",
       "      <td>Asia</td>\n",
       "    </tr>\n",
       "    <tr>\n",
       "      <th>2</th>\n",
       "      <td>Brazil</td>\n",
       "      <td>30682094</td>\n",
       "      <td>665104</td>\n",
       "      <td>30664739</td>\n",
       "      <td>665012</td>\n",
       "      <td>17355</td>\n",
       "      <td>92</td>\n",
       "      <td>2.17</td>\n",
       "      <td>South America</td>\n",
       "    </tr>\n",
       "    <tr>\n",
       "      <th>3</th>\n",
       "      <td>France</td>\n",
       "      <td>29352290</td>\n",
       "      <td>148306</td>\n",
       "      <td>29321831</td>\n",
       "      <td>148295</td>\n",
       "      <td>30459</td>\n",
       "      <td>11</td>\n",
       "      <td>0.51</td>\n",
       "      <td>Europe</td>\n",
       "    </tr>\n",
       "    <tr>\n",
       "      <th>4</th>\n",
       "      <td>Germany</td>\n",
       "      <td>25729848</td>\n",
       "      <td>137499</td>\n",
       "      <td>25723697</td>\n",
       "      <td>137492</td>\n",
       "      <td>6151</td>\n",
       "      <td>7</td>\n",
       "      <td>0.53</td>\n",
       "      <td>Europe</td>\n",
       "    </tr>\n",
       "  </tbody>\n",
       "</table>\n",
       "</div>"
      ],
      "text/plain": [
       "  Country/Region     Cases  Deaths    PCases  PDeaths  Cases (+)  Deaths (+)  \\\n",
       "0             US  82437716  999570  82421624   999518      16092          52   \n",
       "1          India  43121599  524214  43119112   524201       2487          13   \n",
       "2         Brazil  30682094  665104  30664739   665012      17355          92   \n",
       "3         France  29352290  148306  29321831   148295      30459          11   \n",
       "4        Germany  25729848  137499  25723697   137492       6151           7   \n",
       "\n",
       "   Fatality Rate      Continent  \n",
       "0           1.21  North America  \n",
       "1           1.22           Asia  \n",
       "2           2.17  South America  \n",
       "3           0.51         Europe  \n",
       "4           0.53         Europe  "
      ]
     },
     "execution_count": 13,
     "metadata": {},
     "output_type": "execute_result"
    }
   ],
   "source": [
    "#hide\n",
    "for c in 'Cases, Deaths'.split(', '):\n",
    "    df_table[f'{c} (+)'] = (df_table[c] - df_table[f'P{c}']).clip(0)\n",
    "    #Clip ça veut dire, les chiffres negatif sont interdit\n",
    "df_table['Fatality Rate'] = (100* df_table['Deaths']/ df_table['Cases']).round(2)\n",
    "df_table['Continent'] = df_table['Country/Region'].map(mapping['map.continent'])\n",
    "df_table.head(5)"
   ]
  },
  {
   "cell_type": "code",
   "execution_count": 14,
   "id": "aboriginal-bulgaria",
   "metadata": {
    "execution": {
     "iopub.execute_input": "2022-05-16T00:41:02.281709Z",
     "iopub.status.busy": "2022-05-16T00:41:02.281072Z",
     "iopub.status.idle": "2022-05-16T00:41:02.283679Z",
     "shell.execute_reply": "2022-05-16T00:41:02.282886Z"
    },
    "papermill": {
     "duration": 0.042856,
     "end_time": "2022-05-16T00:41:02.283826",
     "exception": false,
     "start_time": "2022-05-16T00:41:02.240970",
     "status": "completed"
    },
    "tags": []
   },
   "outputs": [],
   "source": [
    "#hide\n",
    "#delete problematic countries from table\n",
    "df_table = df_table[~df_table['Country/Region'].isin(['Cape Verde', 'Cruise Ship', 'Kosovo'])]"
   ]
  },
  {
   "cell_type": "code",
   "execution_count": 15,
   "id": "fantastic-effect",
   "metadata": {
    "execution": {
     "iopub.execute_input": "2022-05-16T00:41:02.376755Z",
     "iopub.status.busy": "2022-05-16T00:41:02.376116Z",
     "iopub.status.idle": "2022-05-16T00:41:02.395480Z",
     "shell.execute_reply": "2022-05-16T00:41:02.396251Z"
    },
    "papermill": {
     "duration": 0.072224,
     "end_time": "2022-05-16T00:41:02.396459",
     "exception": false,
     "start_time": "2022-05-16T00:41:02.324235",
     "status": "completed"
    },
    "tags": []
   },
   "outputs": [
    {
     "data": {
      "text/html": [
       "<div>\n",
       "<style scoped>\n",
       "    .dataframe tbody tr th:only-of-type {\n",
       "        vertical-align: middle;\n",
       "    }\n",
       "\n",
       "    .dataframe tbody tr th {\n",
       "        vertical-align: top;\n",
       "    }\n",
       "\n",
       "    .dataframe thead th {\n",
       "        text-align: right;\n",
       "    }\n",
       "</style>\n",
       "<table border=\"1\" class=\"dataframe\">\n",
       "  <thead>\n",
       "    <tr style=\"text-align: right;\">\n",
       "      <th></th>\n",
       "      <th>Country/Region</th>\n",
       "      <th>Cases</th>\n",
       "      <th>Deaths</th>\n",
       "      <th>PCases</th>\n",
       "      <th>PDeaths</th>\n",
       "      <th>Cases (+)</th>\n",
       "      <th>Deaths (+)</th>\n",
       "      <th>Fatality Rate</th>\n",
       "      <th>Continent</th>\n",
       "    </tr>\n",
       "  </thead>\n",
       "  <tbody>\n",
       "    <tr>\n",
       "      <th>0</th>\n",
       "      <td>US</td>\n",
       "      <td>82437716</td>\n",
       "      <td>999570</td>\n",
       "      <td>82421624</td>\n",
       "      <td>999518</td>\n",
       "      <td>16092</td>\n",
       "      <td>52</td>\n",
       "      <td>1.2</td>\n",
       "      <td>North America</td>\n",
       "    </tr>\n",
       "    <tr>\n",
       "      <th>1</th>\n",
       "      <td>India</td>\n",
       "      <td>43121599</td>\n",
       "      <td>524214</td>\n",
       "      <td>43119112</td>\n",
       "      <td>524201</td>\n",
       "      <td>2487</td>\n",
       "      <td>13</td>\n",
       "      <td>1.2</td>\n",
       "      <td>Asia</td>\n",
       "    </tr>\n",
       "    <tr>\n",
       "      <th>2</th>\n",
       "      <td>Brazil</td>\n",
       "      <td>30682094</td>\n",
       "      <td>665104</td>\n",
       "      <td>30664739</td>\n",
       "      <td>665012</td>\n",
       "      <td>17355</td>\n",
       "      <td>92</td>\n",
       "      <td>2.2</td>\n",
       "      <td>South America</td>\n",
       "    </tr>\n",
       "    <tr>\n",
       "      <th>3</th>\n",
       "      <td>France</td>\n",
       "      <td>29352290</td>\n",
       "      <td>148306</td>\n",
       "      <td>29321831</td>\n",
       "      <td>148295</td>\n",
       "      <td>30459</td>\n",
       "      <td>11</td>\n",
       "      <td>0.5</td>\n",
       "      <td>Europe</td>\n",
       "    </tr>\n",
       "    <tr>\n",
       "      <th>4</th>\n",
       "      <td>Germany</td>\n",
       "      <td>25729848</td>\n",
       "      <td>137499</td>\n",
       "      <td>25723697</td>\n",
       "      <td>137492</td>\n",
       "      <td>6151</td>\n",
       "      <td>7</td>\n",
       "      <td>0.5</td>\n",
       "      <td>Europe</td>\n",
       "    </tr>\n",
       "  </tbody>\n",
       "</table>\n",
       "</div>"
      ],
      "text/plain": [
       "  Country/Region     Cases  Deaths    PCases  PDeaths  Cases (+)  Deaths (+)  \\\n",
       "0             US  82437716  999570  82421624   999518      16092          52   \n",
       "1          India  43121599  524214  43119112   524201       2487          13   \n",
       "2         Brazil  30682094  665104  30664739   665012      17355          92   \n",
       "3         France  29352290  148306  29321831   148295      30459          11   \n",
       "4        Germany  25729848  137499  25723697   137492       6151           7   \n",
       "\n",
       "   Fatality Rate      Continent  \n",
       "0            1.2  North America  \n",
       "1            1.2           Asia  \n",
       "2            2.2  South America  \n",
       "3            0.5         Europe  \n",
       "4            0.5         Europe  "
      ]
     },
     "execution_count": 15,
     "metadata": {},
     "output_type": "execute_result"
    }
   ],
   "source": [
    "#hide\n",
    "df_table = (pd.DataFrame(dict(Cases=dfc_cases, Deaths=dfc_deaths, PCases=dfp_cases, PDeaths=dfp_deaths))\n",
    "             .sort_values(by=['Cases', 'Deaths'], ascending=[False, False])\n",
    "             .reset_index())\n",
    "df_table.rename(columns={'index': 'Country/Region'}, inplace=True)\n",
    "for c in 'Cases, Deaths'.split(', '):\n",
    "    df_table[f'{c} (+)'] = (df_table[c] - df_table[f'P{c}']).clip(0)  # DATA BUG\n",
    "df_table['Fatality Rate'] = (100 * df_table['Deaths'] / df_table['Cases']).round(1)\n",
    "df_table['Continent'] = df_table['Country/Region'].map(mapping['map.continent'])\n",
    "df_table.head(5)"
   ]
  },
  {
   "cell_type": "code",
   "execution_count": 16,
   "id": "fewer-occasion",
   "metadata": {
    "execution": {
     "iopub.execute_input": "2022-05-16T00:41:02.485883Z",
     "iopub.status.busy": "2022-05-16T00:41:02.485242Z",
     "iopub.status.idle": "2022-05-16T00:41:02.489519Z",
     "shell.execute_reply": "2022-05-16T00:41:02.489033Z"
    },
    "papermill": {
     "duration": 0.052699,
     "end_time": "2022-05-16T00:41:02.489654",
     "exception": false,
     "start_time": "2022-05-16T00:41:02.436955",
     "status": "completed"
    },
    "tags": []
   },
   "outputs": [],
   "source": [
    "#hide\n",
    "#delete problematic countries from table\n",
    "df_table = df_table[~df_table['Country/Region'].isin(['Cape Verde', 'Cruise Ship', 'Kosovo'])]"
   ]
  },
  {
   "cell_type": "code",
   "execution_count": 17,
   "id": "related-center",
   "metadata": {
    "execution": {
     "iopub.execute_input": "2022-05-16T00:41:02.580051Z",
     "iopub.status.busy": "2022-05-16T00:41:02.579036Z",
     "iopub.status.idle": "2022-05-16T00:41:02.580979Z",
     "shell.execute_reply": "2022-05-16T00:41:02.581652Z"
    },
    "papermill": {
     "duration": 0.057695,
     "end_time": "2022-05-16T00:41:02.581858",
     "exception": false,
     "start_time": "2022-05-16T00:41:02.524163",
     "status": "completed"
    },
    "tags": []
   },
   "outputs": [],
   "source": [
    "#hide\n",
    "metrics = [df_table.columns[index] for index in [1,2,5,6]]\n",
    "# s_china = df_table[df_table['Country/Region'].eq('China')][metrics].sum().add_prefix('China ')\n",
    "s_us = df_table[df_table['Country/Region'].eq('US')][metrics].sum().add_prefix('US ')\n",
    "s_eu = df_table[df_table['Continent'].eq('Europe')][metrics].sum().add_prefix('EU ')\n",
    "s_ind = df_table[df_table['Country/Region'].eq('India')][metrics].sum().add_prefix('India ')\n",
    "summary = {'updated': pd.to_datetime(dt_today), 'since': pd.to_datetime(dt_yday)}\n",
    "summary = {'updated': pd.to_datetime(dt_today), 'since': pd.to_datetime(dt_yday)}\n",
    "summary = {**summary, **df_table[metrics].sum(), **s_ind, **s_us, **s_eu}"
   ]
  },
  {
   "cell_type": "code",
   "execution_count": 18,
   "id": "engaging-syndrome",
   "metadata": {
    "execution": {
     "iopub.execute_input": "2022-05-16T00:41:02.660689Z",
     "iopub.status.busy": "2022-05-16T00:41:02.660065Z",
     "iopub.status.idle": "2022-05-16T00:41:02.681848Z",
     "shell.execute_reply": "2022-05-16T00:41:02.681136Z"
    },
    "papermill": {
     "duration": 0.063529,
     "end_time": "2022-05-16T00:41:02.682019",
     "exception": false,
     "start_time": "2022-05-16T00:41:02.618490",
     "status": "completed"
    },
    "tags": []
   },
   "outputs": [],
   "source": [
    "#hide\n",
    "dft_ct_new_cases = dft_cases.groupby(COL_REGION)[dt_cols].sum().diff(axis=1).fillna(0).astype(int)"
   ]
  },
  {
   "cell_type": "code",
   "execution_count": 19,
   "id": "neutral-assignment",
   "metadata": {
    "execution": {
     "iopub.execute_input": "2022-05-16T00:41:02.761638Z",
     "iopub.status.busy": "2022-05-16T00:41:02.761031Z",
     "iopub.status.idle": "2022-05-16T00:41:02.763329Z",
     "shell.execute_reply": "2022-05-16T00:41:02.763778Z"
    },
    "papermill": {
     "duration": 0.045703,
     "end_time": "2022-05-16T00:41:02.763929",
     "exception": false,
     "start_time": "2022-05-16T00:41:02.718226",
     "status": "completed"
    },
    "tags": []
   },
   "outputs": [],
   "source": [
    "#hide\n",
    "everydaycases = dft_ct_new_cases.cumsum(axis=1)"
   ]
  },
  {
   "cell_type": "code",
   "execution_count": 20,
   "id": "parliamentary-calgary",
   "metadata": {
    "execution": {
     "iopub.execute_input": "2022-05-16T00:41:02.839685Z",
     "iopub.status.busy": "2022-05-16T00:41:02.839053Z",
     "iopub.status.idle": "2022-05-16T00:41:03.486208Z",
     "shell.execute_reply": "2022-05-16T00:41:03.485151Z"
    },
    "papermill": {
     "duration": 0.687789,
     "end_time": "2022-05-16T00:41:03.486367",
     "exception": false,
     "start_time": "2022-05-16T00:41:02.798578",
     "status": "completed"
    },
    "tags": []
   },
   "outputs": [],
   "source": [
    "#hide\n",
    "import pandas as pd\n",
    "import matplotlib.pyplot as plt\n",
    "import matplotlib.ticker as ticker\n",
    "import matplotlib.animation as animation\n",
    "from IPython.display import HTML"
   ]
  },
  {
   "cell_type": "code",
   "execution_count": 21,
   "id": "lasting-extraction",
   "metadata": {
    "execution": {
     "iopub.execute_input": "2022-05-16T00:41:03.563458Z",
     "iopub.status.busy": "2022-05-16T00:41:03.562824Z",
     "iopub.status.idle": "2022-05-16T00:41:03.570213Z",
     "shell.execute_reply": "2022-05-16T00:41:03.569642Z"
    },
    "papermill": {
     "duration": 0.049274,
     "end_time": "2022-05-16T00:41:03.570348",
     "exception": false,
     "start_time": "2022-05-16T00:41:03.521074",
     "status": "completed"
    },
    "tags": []
   },
   "outputs": [],
   "source": [
    "#hide\n",
    "t = everydaycases.stack()"
   ]
  },
  {
   "cell_type": "code",
   "execution_count": 22,
   "id": "premier-sleeve",
   "metadata": {
    "execution": {
     "iopub.execute_input": "2022-05-16T00:41:03.672971Z",
     "iopub.status.busy": "2022-05-16T00:41:03.672346Z",
     "iopub.status.idle": "2022-05-16T00:41:03.685252Z",
     "shell.execute_reply": "2022-05-16T00:41:03.684745Z"
    },
    "papermill": {
     "duration": 0.072521,
     "end_time": "2022-05-16T00:41:03.685390",
     "exception": false,
     "start_time": "2022-05-16T00:41:03.612869",
     "status": "completed"
    },
    "tags": []
   },
   "outputs": [],
   "source": [
    "#hide\n",
    "g = t.reset_index(['Country/Region'])"
   ]
  },
  {
   "cell_type": "code",
   "execution_count": 23,
   "id": "distributed-pittsburgh",
   "metadata": {
    "execution": {
     "iopub.execute_input": "2022-05-16T00:41:03.766285Z",
     "iopub.status.busy": "2022-05-16T00:41:03.765658Z",
     "iopub.status.idle": "2022-05-16T00:41:03.770079Z",
     "shell.execute_reply": "2022-05-16T00:41:03.769459Z"
    },
    "papermill": {
     "duration": 0.047897,
     "end_time": "2022-05-16T00:41:03.770215",
     "exception": false,
     "start_time": "2022-05-16T00:41:03.722318",
     "status": "completed"
    },
    "tags": []
   },
   "outputs": [],
   "source": [
    "#hide\n",
    "g.index.name = 'date'"
   ]
  },
  {
   "cell_type": "code",
   "execution_count": 24,
   "id": "naked-donor",
   "metadata": {
    "execution": {
     "iopub.execute_input": "2022-05-16T00:41:03.843901Z",
     "iopub.status.busy": "2022-05-16T00:41:03.843076Z",
     "iopub.status.idle": "2022-05-16T00:41:03.844648Z",
     "shell.execute_reply": "2022-05-16T00:41:03.845272Z"
    },
    "papermill": {
     "duration": 0.040702,
     "end_time": "2022-05-16T00:41:03.845438",
     "exception": false,
     "start_time": "2022-05-16T00:41:03.804736",
     "status": "completed"
    },
    "tags": []
   },
   "outputs": [],
   "source": [
    "# #hide\n",
    "# g = g.reset_index(['date'])"
   ]
  },
  {
   "cell_type": "code",
   "execution_count": 25,
   "id": "incomplete-mustang",
   "metadata": {
    "execution": {
     "iopub.execute_input": "2022-05-16T00:41:03.932641Z",
     "iopub.status.busy": "2022-05-16T00:41:03.932000Z",
     "iopub.status.idle": "2022-05-16T00:41:03.934761Z",
     "shell.execute_reply": "2022-05-16T00:41:03.934190Z"
    },
    "papermill": {
     "duration": 0.046969,
     "end_time": "2022-05-16T00:41:03.934904",
     "exception": false,
     "start_time": "2022-05-16T00:41:03.887935",
     "status": "completed"
    },
    "tags": []
   },
   "outputs": [],
   "source": [
    "#hide\n",
    "# g.head()"
   ]
  },
  {
   "cell_type": "code",
   "execution_count": 26,
   "id": "specific-kruger",
   "metadata": {
    "execution": {
     "iopub.execute_input": "2022-05-16T00:41:04.025248Z",
     "iopub.status.busy": "2022-05-16T00:41:04.024172Z",
     "iopub.status.idle": "2022-05-16T00:41:04.029369Z",
     "shell.execute_reply": "2022-05-16T00:41:04.029817Z"
    },
    "papermill": {
     "duration": 0.057103,
     "end_time": "2022-05-16T00:41:04.029969",
     "exception": false,
     "start_time": "2022-05-16T00:41:03.972866",
     "status": "completed"
    },
    "tags": []
   },
   "outputs": [],
   "source": [
    "#hide\n",
    "# g.columns = ['date','country','cases']"
   ]
  },
  {
   "cell_type": "code",
   "execution_count": 27,
   "id": "tender-conversion",
   "metadata": {
    "execution": {
     "iopub.execute_input": "2022-05-16T00:41:04.104263Z",
     "iopub.status.busy": "2022-05-16T00:41:04.103361Z",
     "iopub.status.idle": "2022-05-16T00:41:04.105003Z",
     "shell.execute_reply": "2022-05-16T00:41:04.105490Z"
    },
    "papermill": {
     "duration": 0.04082,
     "end_time": "2022-05-16T00:41:04.105643",
     "exception": false,
     "start_time": "2022-05-16T00:41:04.064823",
     "status": "completed"
    },
    "tags": []
   },
   "outputs": [],
   "source": [
    "#hide\n",
    "# g['continent'] = g.country"
   ]
  },
  {
   "cell_type": "code",
   "execution_count": 28,
   "id": "substantial-wilderness",
   "metadata": {
    "execution": {
     "iopub.execute_input": "2022-05-16T00:41:04.190246Z",
     "iopub.status.busy": "2022-05-16T00:41:04.189200Z",
     "iopub.status.idle": "2022-05-16T00:41:04.193412Z",
     "shell.execute_reply": "2022-05-16T00:41:04.193869Z"
    },
    "papermill": {
     "duration": 0.046166,
     "end_time": "2022-05-16T00:41:04.194020",
     "exception": false,
     "start_time": "2022-05-16T00:41:04.147854",
     "status": "completed"
    },
    "tags": []
   },
   "outputs": [],
   "source": [
    "#hide\n",
    "# cols = list(g.columns.values)"
   ]
  },
  {
   "cell_type": "code",
   "execution_count": 29,
   "id": "solved-farming",
   "metadata": {
    "execution": {
     "iopub.execute_input": "2022-05-16T00:41:04.271040Z",
     "iopub.status.busy": "2022-05-16T00:41:04.270342Z",
     "iopub.status.idle": "2022-05-16T00:41:04.280954Z",
     "shell.execute_reply": "2022-05-16T00:41:04.278758Z"
    },
    "papermill": {
     "duration": 0.052317,
     "end_time": "2022-05-16T00:41:04.281172",
     "exception": false,
     "start_time": "2022-05-16T00:41:04.228855",
     "status": "completed"
    },
    "tags": []
   },
   "outputs": [],
   "source": [
    "#hide\n",
    "# cols.insert(0, cols.pop())"
   ]
  },
  {
   "cell_type": "code",
   "execution_count": 30,
   "id": "executed-adoption",
   "metadata": {
    "execution": {
     "iopub.execute_input": "2022-05-16T00:41:04.371858Z",
     "iopub.status.busy": "2022-05-16T00:41:04.370795Z",
     "iopub.status.idle": "2022-05-16T00:41:04.374053Z",
     "shell.execute_reply": "2022-05-16T00:41:04.373253Z"
    },
    "papermill": {
     "duration": 0.055165,
     "end_time": "2022-05-16T00:41:04.374182",
     "exception": false,
     "start_time": "2022-05-16T00:41:04.319017",
     "status": "completed"
    },
    "tags": []
   },
   "outputs": [],
   "source": [
    "#hide\n",
    "# g = g[cols]"
   ]
  },
  {
   "cell_type": "code",
   "execution_count": 31,
   "id": "subject-dublin",
   "metadata": {
    "execution": {
     "iopub.execute_input": "2022-05-16T00:41:04.447842Z",
     "iopub.status.busy": "2022-05-16T00:41:04.447190Z",
     "iopub.status.idle": "2022-05-16T00:41:04.454131Z",
     "shell.execute_reply": "2022-05-16T00:41:04.453617Z"
    },
    "papermill": {
     "duration": 0.045281,
     "end_time": "2022-05-16T00:41:04.454270",
     "exception": false,
     "start_time": "2022-05-16T00:41:04.408989",
     "status": "completed"
    },
    "tags": []
   },
   "outputs": [],
   "source": [
    "#hide\n",
    "# g['continent'] = g['continent'].map(mapping['map.continent'])"
   ]
  },
  {
   "cell_type": "code",
   "execution_count": 32,
   "id": "freelance-scout",
   "metadata": {
    "execution": {
     "iopub.execute_input": "2022-05-16T00:41:04.544680Z",
     "iopub.status.busy": "2022-05-16T00:41:04.544069Z",
     "iopub.status.idle": "2022-05-16T00:41:04.547941Z",
     "shell.execute_reply": "2022-05-16T00:41:04.546851Z"
    },
    "papermill": {
     "duration": 0.049555,
     "end_time": "2022-05-16T00:41:04.548090",
     "exception": false,
     "start_time": "2022-05-16T00:41:04.498535",
     "status": "completed"
    },
    "tags": []
   },
   "outputs": [],
   "source": [
    "#hide\n",
    "# g.head()"
   ]
  },
  {
   "cell_type": "code",
   "execution_count": 33,
   "id": "limited-engine",
   "metadata": {
    "execution": {
     "iopub.execute_input": "2022-05-16T00:41:04.642691Z",
     "iopub.status.busy": "2022-05-16T00:41:04.641590Z",
     "iopub.status.idle": "2022-05-16T00:41:04.643796Z",
     "shell.execute_reply": "2022-05-16T00:41:04.644603Z"
    },
    "papermill": {
     "duration": 0.047271,
     "end_time": "2022-05-16T00:41:04.644835",
     "exception": false,
     "start_time": "2022-05-16T00:41:04.597564",
     "status": "completed"
    },
    "tags": []
   },
   "outputs": [],
   "source": [
    "# hide\n",
    "# g['date'] = g['date'].astype('datetime64[ns]')"
   ]
  },
  {
   "cell_type": "code",
   "execution_count": 34,
   "id": "sophisticated-supervisor",
   "metadata": {
    "execution": {
     "iopub.execute_input": "2022-05-16T00:41:04.719907Z",
     "iopub.status.busy": "2022-05-16T00:41:04.719282Z",
     "iopub.status.idle": "2022-05-16T00:41:04.720828Z",
     "shell.execute_reply": "2022-05-16T00:41:04.721327Z"
    },
    "papermill": {
     "duration": 0.040688,
     "end_time": "2022-05-16T00:41:04.721500",
     "exception": false,
     "start_time": "2022-05-16T00:41:04.680812",
     "status": "completed"
    },
    "tags": []
   },
   "outputs": [],
   "source": [
    "#hide\n",
    "# g['date'] = g.date.dt.dayofyear"
   ]
  },
  {
   "cell_type": "code",
   "execution_count": 35,
   "id": "inside-dubai",
   "metadata": {
    "execution": {
     "iopub.execute_input": "2022-05-16T00:41:04.807698Z",
     "iopub.status.busy": "2022-05-16T00:41:04.806612Z",
     "iopub.status.idle": "2022-05-16T00:41:04.808798Z",
     "shell.execute_reply": "2022-05-16T00:41:04.809611Z"
    },
    "papermill": {
     "duration": 0.051042,
     "end_time": "2022-05-16T00:41:04.809864",
     "exception": false,
     "start_time": "2022-05-16T00:41:04.758822",
     "status": "completed"
    },
    "tags": []
   },
   "outputs": [],
   "source": [
    "#hide\n",
    "# g = g.rename(columns= {'continent':'group','country':'name','cases':'value'})"
   ]
  },
  {
   "cell_type": "code",
   "execution_count": 36,
   "id": "fleet-motorcycle",
   "metadata": {
    "execution": {
     "iopub.execute_input": "2022-05-16T00:41:04.883623Z",
     "iopub.status.busy": "2022-05-16T00:41:04.882958Z",
     "iopub.status.idle": "2022-05-16T00:41:04.886903Z",
     "shell.execute_reply": "2022-05-16T00:41:04.887357Z"
    },
    "papermill": {
     "duration": 0.042631,
     "end_time": "2022-05-16T00:41:04.887517",
     "exception": false,
     "start_time": "2022-05-16T00:41:04.844886",
     "status": "completed"
    },
    "tags": []
   },
   "outputs": [],
   "source": [
    "#hide\n",
    "# cols = ['name','group','day','value']"
   ]
  },
  {
   "cell_type": "code",
   "execution_count": 37,
   "id": "continued-sleeping",
   "metadata": {
    "execution": {
     "iopub.execute_input": "2022-05-16T00:41:04.973873Z",
     "iopub.status.busy": "2022-05-16T00:41:04.972806Z",
     "iopub.status.idle": "2022-05-16T00:41:04.974529Z",
     "shell.execute_reply": "2022-05-16T00:41:04.975002Z"
    },
    "papermill": {
     "duration": 0.045105,
     "end_time": "2022-05-16T00:41:04.975152",
     "exception": false,
     "start_time": "2022-05-16T00:41:04.930047",
     "status": "completed"
    },
    "tags": []
   },
   "outputs": [],
   "source": [
    "#hide\n",
    "# g.rename(columns= {'date':'day'},inplace = True)"
   ]
  },
  {
   "cell_type": "code",
   "execution_count": 38,
   "id": "major-fight",
   "metadata": {
    "execution": {
     "iopub.execute_input": "2022-05-16T00:41:05.048341Z",
     "iopub.status.busy": "2022-05-16T00:41:05.047715Z",
     "iopub.status.idle": "2022-05-16T00:41:05.049573Z",
     "shell.execute_reply": "2022-05-16T00:41:05.050022Z"
    },
    "papermill": {
     "duration": 0.040488,
     "end_time": "2022-05-16T00:41:05.050171",
     "exception": false,
     "start_time": "2022-05-16T00:41:05.009683",
     "status": "completed"
    },
    "tags": []
   },
   "outputs": [],
   "source": [
    "#hide\n",
    "# g = g[cols]"
   ]
  },
  {
   "cell_type": "code",
   "execution_count": 39,
   "id": "structured-mobile",
   "metadata": {
    "execution": {
     "iopub.execute_input": "2022-05-16T00:41:05.139839Z",
     "iopub.status.busy": "2022-05-16T00:41:05.139037Z",
     "iopub.status.idle": "2022-05-16T00:41:05.144345Z",
     "shell.execute_reply": "2022-05-16T00:41:05.143716Z"
    },
    "papermill": {
     "duration": 0.056791,
     "end_time": "2022-05-16T00:41:05.144512",
     "exception": false,
     "start_time": "2022-05-16T00:41:05.087721",
     "status": "completed"
    },
    "tags": []
   },
   "outputs": [],
   "source": [
    "# #hide\n",
    "# g = g[g.group.notna()]"
   ]
  },
  {
   "cell_type": "code",
   "execution_count": 40,
   "id": "determined-closing",
   "metadata": {
    "execution": {
     "iopub.execute_input": "2022-05-16T00:41:05.218282Z",
     "iopub.status.busy": "2022-05-16T00:41:05.217648Z",
     "iopub.status.idle": "2022-05-16T00:41:05.219617Z",
     "shell.execute_reply": "2022-05-16T00:41:05.219002Z"
    },
    "papermill": {
     "duration": 0.040284,
     "end_time": "2022-05-16T00:41:05.219747",
     "exception": false,
     "start_time": "2022-05-16T00:41:05.179463",
     "status": "completed"
    },
    "tags": []
   },
   "outputs": [],
   "source": [
    "# #hide\n",
    "# colors = dict(zip(\n",
    "#     [\"Oceania\", \"Europe\", \"Asia\", \"South America\", \"Middle East\", \"North America\", \"Africa\"],\n",
    "#     [\"#adb0ff\", \"#ffb3ff\", \"#90d595\", \"#e48381\", \"#aafbff\", \"#f7bb5f\", \"#eafb50\"]\n",
    "# ))\n",
    "# group_lk = g.set_index('name')['group'].to_dict()"
   ]
  },
  {
   "cell_type": "code",
   "execution_count": null,
   "id": "gross-drinking",
   "metadata": {
    "papermill": {
     "duration": 0.035383,
     "end_time": "2022-05-16T00:41:05.290291",
     "exception": false,
     "start_time": "2022-05-16T00:41:05.254908",
     "status": "completed"
    },
    "tags": []
   },
   "outputs": [],
   "source": []
  },
  {
   "cell_type": "code",
   "execution_count": 41,
   "id": "subject-macintosh",
   "metadata": {
    "execution": {
     "iopub.execute_input": "2022-05-16T00:41:05.364754Z",
     "iopub.status.busy": "2022-05-16T00:41:05.363817Z",
     "iopub.status.idle": "2022-05-16T00:41:05.368406Z",
     "shell.execute_reply": "2022-05-16T00:41:05.367913Z"
    },
    "papermill": {
     "duration": 0.043444,
     "end_time": "2022-05-16T00:41:05.368538",
     "exception": false,
     "start_time": "2022-05-16T00:41:05.325094",
     "status": "completed"
    },
    "tags": []
   },
   "outputs": [],
   "source": [
    "# #hide\n",
    "# fig, ax = plt.subplots(figsize=(15, 8))\n",
    "\n",
    "# def draw_barchart(current_day):\n",
    "#     dff = g[g['day'].eq(current_day)].sort_values(by='value', ascending=True).tail(10)\n",
    "#     ax.clear()\n",
    "#     ax.barh(dff['name'], dff['value'], color=[colors[group_lk[x]] for x in dff['name']])\n",
    "#     dx = dff['value'].max() / 200\n",
    "    \n",
    "#     for i, (value, name) in enumerate(zip(dff['value'], dff['name'])):\n",
    "#         ax.text(value-dx, i,     name,           size=14, weight=600, ha='right', va='bottom')\n",
    "#         ax.text(value-dx, i-.25, group_lk[name], size=10, color='#444444', ha='right', va='baseline')\n",
    "#         ax.text(value+dx, i,     f'{value:,.0f}',  size=14, ha='left',  va='center')\n",
    "#     ax.text(1, 0.4, current_day, transform=ax.transAxes, color='#777777', size=46, ha='right', weight=800)\n",
    "#     ax.text(0, 1.06, 'Population (thousands)', transform=ax.transAxes, size=12, color='#777777')\n",
    "#     ax.xaxis.set_major_formatter(ticker.StrMethodFormatter('{x:,.0f}'))\n",
    "#     ax.xaxis.set_ticks_position('top')\n",
    "#     ax.tick_params(axis='x', colors='#777777', labelsize=12)\n",
    "#     ax.set_yticks([])\n",
    "#     ax.margins(0, 0.01)\n",
    "#     ax.grid(which='major', axis='x', linestyle='-')\n",
    "#     ax.set_axisbelow(True)\n",
    "    \n",
    "#     ax.text(0, 1.15, 'Coronavirus',\n",
    "#             transform=ax.transAxes, size=24, weight=600, ha='left', va='top')\n",
    "# #     ax.text(1, 0, 'by @pratapvardhan; credit @jburnmurdoch', transform=ax.transAxes, color='#777777', ha='right',\n",
    "# #             bbox=dict(facecolor='white', alpha=0.8, edgecolor='white'))\n",
    "#     plt.box(False)"
   ]
  },
  {
   "cell_type": "code",
   "execution_count": 42,
   "id": "sexual-wages",
   "metadata": {
    "execution": {
     "iopub.execute_input": "2022-05-16T00:41:05.442106Z",
     "iopub.status.busy": "2022-05-16T00:41:05.441465Z",
     "iopub.status.idle": "2022-05-16T00:41:05.443807Z",
     "shell.execute_reply": "2022-05-16T00:41:05.443131Z"
    },
    "papermill": {
     "duration": 0.040688,
     "end_time": "2022-05-16T00:41:05.443943",
     "exception": false,
     "start_time": "2022-05-16T00:41:05.403255",
     "status": "completed"
    },
    "tags": []
   },
   "outputs": [],
   "source": [
    "# #hide_input\n",
    "# fig, ax = plt.subplots(figsize=(15, 8))\n",
    "# animator = animation.FuncAnimation(fig, draw_barchart, frames=range(g.day.values.min(), g.day.values.max()))\n",
    "# HTML(animator.to_jshtml())\n",
    "# # or use animator.to_html5_video() or animator.save() "
   ]
  },
  {
   "cell_type": "code",
   "execution_count": null,
   "id": "australian-container",
   "metadata": {
    "papermill": {
     "duration": 0.04212,
     "end_time": "2022-05-16T00:41:05.537801",
     "exception": false,
     "start_time": "2022-05-16T00:41:05.495681",
     "status": "completed"
    },
    "tags": []
   },
   "outputs": [],
   "source": []
  },
  {
   "cell_type": "code",
   "execution_count": null,
   "id": "mediterranean-pontiac",
   "metadata": {
    "papermill": {
     "duration": 0.044807,
     "end_time": "2022-05-16T00:41:05.625986",
     "exception": false,
     "start_time": "2022-05-16T00:41:05.581179",
     "status": "completed"
    },
    "tags": []
   },
   "outputs": [],
   "source": []
  },
  {
   "cell_type": "code",
   "execution_count": null,
   "id": "aging-legislature",
   "metadata": {
    "papermill": {
     "duration": 0.03721,
     "end_time": "2022-05-16T00:41:05.702850",
     "exception": false,
     "start_time": "2022-05-16T00:41:05.665640",
     "status": "completed"
    },
    "tags": []
   },
   "outputs": [],
   "source": []
  }
 ],
 "metadata": {
  "kernelspec": {
   "display_name": "Python 3",
   "language": "python",
   "name": "python3"
  },
  "language_info": {
   "codemirror_mode": {
    "name": "ipython",
    "version": 3
   },
   "file_extension": ".py",
   "mimetype": "text/x-python",
   "name": "python",
   "nbconvert_exporter": "python",
   "pygments_lexer": "ipython3",
   "version": "3.6.15"
  },
  "papermill": {
   "duration": 7.335609,
   "end_time": "2022-05-16T00:41:06.163686",
   "environment_variables": {},
   "exception": null,
   "input_path": "2020-03-21-covid19exp.ipynb",
   "output_path": "2020-03-21-covid19exp.ipynb",
   "parameters": {},
   "start_time": "2022-05-16T00:40:58.828077",
   "version": "2.0.0"
  }
 },
 "nbformat": 4,
 "nbformat_minor": 5
}