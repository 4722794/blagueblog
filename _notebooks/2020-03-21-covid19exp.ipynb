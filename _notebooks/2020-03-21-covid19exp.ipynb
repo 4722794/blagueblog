{
 "cells": [
  {
   "cell_type": "markdown",
   "id": "muslim-click",
   "metadata": {
    "papermill": {
     "duration": 0.033626,
     "end_time": "2021-12-26T00:28:30.067096",
     "exception": false,
     "start_time": "2021-12-26T00:28:30.033470",
     "status": "completed"
    },
    "tags": []
   },
   "source": [
    "# COVID-19 Case Race\n",
    "> A race chart to see rising cases around the world\n",
    "\n",
    "- author: Hargun Oberoi\n",
    "- image: images/covid-overview.png\n",
    "- hide: false\n",
    "- badges: false"
   ]
  },
  {
   "cell_type": "code",
   "execution_count": 1,
   "id": "proof-material",
   "metadata": {
    "execution": {
     "iopub.execute_input": "2021-12-26T00:28:30.135980Z",
     "iopub.status.busy": "2021-12-26T00:28:30.135442Z",
     "iopub.status.idle": "2021-12-26T00:28:30.462634Z",
     "shell.execute_reply": "2021-12-26T00:28:30.462100Z"
    },
    "papermill": {
     "duration": 0.36583,
     "end_time": "2021-12-26T00:28:30.462786",
     "exception": false,
     "start_time": "2021-12-26T00:28:30.096956",
     "status": "completed"
    },
    "tags": []
   },
   "outputs": [],
   "source": [
    "#hide\n",
    "import numpy as np\n",
    "import pandas as pd\n",
    "from jinja2 import Template\n",
    "from IPython.display import HTML"
   ]
  },
  {
   "cell_type": "code",
   "execution_count": 2,
   "id": "developed-terminology",
   "metadata": {
    "execution": {
     "iopub.execute_input": "2021-12-26T00:28:30.528147Z",
     "iopub.status.busy": "2021-12-26T00:28:30.527619Z",
     "iopub.status.idle": "2021-12-26T00:28:30.530136Z",
     "shell.execute_reply": "2021-12-26T00:28:30.529717Z"
    },
    "papermill": {
     "duration": 0.037505,
     "end_time": "2021-12-26T00:28:30.530250",
     "exception": false,
     "start_time": "2021-12-26T00:28:30.492745",
     "status": "completed"
    },
    "tags": []
   },
   "outputs": [],
   "source": [
    "#hide\n",
    "\n",
    "# FETCH\n",
    "base_url = 'https://raw.githubusercontent.com/pratapvardhan/notebooks/master/covid19/'\n",
    "paths = {\n",
    "    'mapping': base_url + 'mapping_countries.csv',\n",
    "    'overview': base_url + 'overview.tpl'\n",
    "}"
   ]
  },
  {
   "cell_type": "code",
   "execution_count": 3,
   "id": "dynamic-saver",
   "metadata": {
    "execution": {
     "iopub.execute_input": "2021-12-26T00:28:30.597975Z",
     "iopub.status.busy": "2021-12-26T00:28:30.597446Z",
     "iopub.status.idle": "2021-12-26T00:28:30.600196Z",
     "shell.execute_reply": "2021-12-26T00:28:30.599765Z"
    },
    "papermill": {
     "duration": 0.041017,
     "end_time": "2021-12-26T00:28:30.600306",
     "exception": false,
     "start_time": "2021-12-26T00:28:30.559289",
     "status": "completed"
    },
    "tags": []
   },
   "outputs": [
    {
     "data": {
      "text/plain": [
       "'https://raw.githubusercontent.com/pratapvardhan/notebooks/master/covid19/mapping_countries.csv'"
      ]
     },
     "execution_count": 3,
     "metadata": {},
     "output_type": "execute_result"
    }
   ],
   "source": [
    "#hide\n",
    "paths['mapping']"
   ]
  },
  {
   "cell_type": "code",
   "execution_count": 4,
   "id": "urban-software",
   "metadata": {
    "execution": {
     "iopub.execute_input": "2021-12-26T00:28:30.664566Z",
     "iopub.status.busy": "2021-12-26T00:28:30.664015Z",
     "iopub.status.idle": "2021-12-26T00:28:30.666150Z",
     "shell.execute_reply": "2021-12-26T00:28:30.665714Z"
    },
    "papermill": {
     "duration": 0.036476,
     "end_time": "2021-12-26T00:28:30.666262",
     "exception": false,
     "start_time": "2021-12-26T00:28:30.629786",
     "status": "completed"
    },
    "tags": []
   },
   "outputs": [],
   "source": [
    "#hide\n",
    "def get_mappings(url):\n",
    "    df = pd.read_csv(url)\n",
    "    return {\n",
    "        'df': df,\n",
    "        'replace.country': dict(df.dropna(subset=['Name']).set_index('Country')['Name']),\n",
    "        'map.continent': dict(df.set_index('Name')['Continent'])\n",
    "    }"
   ]
  },
  {
   "cell_type": "code",
   "execution_count": 5,
   "id": "intimate-machinery",
   "metadata": {
    "execution": {
     "iopub.execute_input": "2021-12-26T00:28:30.730352Z",
     "iopub.status.busy": "2021-12-26T00:28:30.729842Z",
     "iopub.status.idle": "2021-12-26T00:28:30.786789Z",
     "shell.execute_reply": "2021-12-26T00:28:30.786279Z"
    },
    "papermill": {
     "duration": 0.091362,
     "end_time": "2021-12-26T00:28:30.786925",
     "exception": false,
     "start_time": "2021-12-26T00:28:30.695563",
     "status": "completed"
    },
    "tags": []
   },
   "outputs": [],
   "source": [
    "#hide\n",
    "mapping = get_mappings(paths['mapping'])"
   ]
  },
  {
   "cell_type": "code",
   "execution_count": 6,
   "id": "certified-tactics",
   "metadata": {
    "execution": {
     "iopub.execute_input": "2021-12-26T00:28:30.853045Z",
     "iopub.status.busy": "2021-12-26T00:28:30.852400Z",
     "iopub.status.idle": "2021-12-26T00:28:30.853914Z",
     "shell.execute_reply": "2021-12-26T00:28:30.854378Z"
    },
    "papermill": {
     "duration": 0.036869,
     "end_time": "2021-12-26T00:28:30.854523",
     "exception": false,
     "start_time": "2021-12-26T00:28:30.817654",
     "status": "completed"
    },
    "tags": []
   },
   "outputs": [],
   "source": [
    "#hide\n",
    "def get_template(path):\n",
    "    from urllib.parse import urlparse\n",
    "    if bool(urlparse(path).netloc):\n",
    "        from urllib.request import urlopen\n",
    "        return urlopen(path).read().decode('utf8')\n",
    "    return open(path).read()"
   ]
  },
  {
   "cell_type": "code",
   "execution_count": 7,
   "id": "realistic-blast",
   "metadata": {
    "execution": {
     "iopub.execute_input": "2021-12-26T00:28:30.918604Z",
     "iopub.status.busy": "2021-12-26T00:28:30.918064Z",
     "iopub.status.idle": "2021-12-26T00:28:30.920104Z",
     "shell.execute_reply": "2021-12-26T00:28:30.919692Z"
    },
    "papermill": {
     "duration": 0.03621,
     "end_time": "2021-12-26T00:28:30.920217",
     "exception": false,
     "start_time": "2021-12-26T00:28:30.884007",
     "status": "completed"
    },
    "tags": []
   },
   "outputs": [],
   "source": [
    "#hide\n",
    "def get_frame(name):\n",
    "    url = (\n",
    "        'https://raw.githubusercontent.com/CSSEGISandData/COVID-19/master/csse_covid_19_data/'\n",
    "        f'csse_covid_19_time_series/time_series_covid19_{name}_global.csv')\n",
    "    df = pd.read_csv(url)\n",
    "    # rename countries\n",
    "    df['Country/Region'] = df['Country/Region'].replace(mapping['replace.country'])\n",
    "    return df"
   ]
  },
  {
   "cell_type": "code",
   "execution_count": 8,
   "id": "affiliated-characterization",
   "metadata": {
    "execution": {
     "iopub.execute_input": "2021-12-26T00:28:30.985747Z",
     "iopub.status.busy": "2021-12-26T00:28:30.985127Z",
     "iopub.status.idle": "2021-12-26T00:28:30.986574Z",
     "shell.execute_reply": "2021-12-26T00:28:30.987038Z"
    },
    "papermill": {
     "duration": 0.037455,
     "end_time": "2021-12-26T00:28:30.987185",
     "exception": false,
     "start_time": "2021-12-26T00:28:30.949730",
     "status": "completed"
    },
    "tags": []
   },
   "outputs": [],
   "source": [
    "#hide\n",
    "def get_dates(df):\n",
    "    dt_cols = df.columns[~df.columns.isin(['Province/State', 'Country/Region', 'Lat', 'Long'])]\n",
    "    LAST_DATE_I = -1\n",
    "    # sometimes last column may be empty, then go backwards\n",
    "    for i in range(-1, -len(dt_cols), -1):\n",
    "        if not df[dt_cols[i]].fillna(0).eq(0).all():\n",
    "            LAST_DATE_I = i\n",
    "            break\n",
    "    return LAST_DATE_I, dt_cols"
   ]
  },
  {
   "cell_type": "code",
   "execution_count": 9,
   "id": "recent-optimization",
   "metadata": {
    "execution": {
     "iopub.execute_input": "2021-12-26T00:28:31.051553Z",
     "iopub.status.busy": "2021-12-26T00:28:31.051015Z",
     "iopub.status.idle": "2021-12-26T00:28:31.601303Z",
     "shell.execute_reply": "2021-12-26T00:28:31.600266Z"
    },
    "papermill": {
     "duration": 0.584608,
     "end_time": "2021-12-26T00:28:31.601458",
     "exception": false,
     "start_time": "2021-12-26T00:28:31.016850",
     "status": "completed"
    },
    "tags": []
   },
   "outputs": [],
   "source": [
    "#hide\n",
    "COL_REGION = 'Country/Region'\n",
    "# Confirmed, Recovered, Deaths\n",
    "df = get_frame('confirmed')\n",
    "# dft_: timeseries, dfc_: today country agg\n",
    "dft_cases = df\n",
    "dft_deaths = get_frame('deaths')\n",
    "dft_recovered = get_frame('recovered')\n",
    "LAST_DATE_I, dt_cols = get_dates(df)"
   ]
  },
  {
   "cell_type": "code",
   "execution_count": 10,
   "id": "absolute-copper",
   "metadata": {
    "execution": {
     "iopub.execute_input": "2021-12-26T00:28:31.667969Z",
     "iopub.status.busy": "2021-12-26T00:28:31.667347Z",
     "iopub.status.idle": "2021-12-26T00:28:31.670765Z",
     "shell.execute_reply": "2021-12-26T00:28:31.671159Z"
    },
    "papermill": {
     "duration": 0.039153,
     "end_time": "2021-12-26T00:28:31.671295",
     "exception": false,
     "start_time": "2021-12-26T00:28:31.632142",
     "status": "completed"
    },
    "tags": []
   },
   "outputs": [],
   "source": [
    "#hide\n",
    "LAST_DATE_I, dt_cols = get_dates(df)\n",
    "dt_today =dt_cols[LAST_DATE_I]\n",
    "# dt_5day = dt_cols[LAST_DATE_I - 5]\n",
    "dt_yday = dt_cols[LAST_DATE_I - 1]"
   ]
  },
  {
   "cell_type": "code",
   "execution_count": 11,
   "id": "restricted-sheriff",
   "metadata": {
    "execution": {
     "iopub.execute_input": "2021-12-26T00:28:31.737848Z",
     "iopub.status.busy": "2021-12-26T00:28:31.737238Z",
     "iopub.status.idle": "2021-12-26T00:28:31.743150Z",
     "shell.execute_reply": "2021-12-26T00:28:31.742720Z"
    },
    "papermill": {
     "duration": 0.042534,
     "end_time": "2021-12-26T00:28:31.743272",
     "exception": false,
     "start_time": "2021-12-26T00:28:31.700738",
     "status": "completed"
    },
    "tags": []
   },
   "outputs": [],
   "source": [
    "#hide\n",
    "dfc_cases = dft_cases.groupby(COL_REGION)[dt_today].sum()\n",
    "dfc_deaths = dft_deaths.groupby(COL_REGION)[dt_today].sum()\n",
    "# dfp_cases = dft_cases.groupby(COL_REGION)[dt_5day].sum()\n",
    "# dfp_deaths = dft_deaths.groupby(COL_REGION)[dt_5day].sum()\n",
    "dfp_cases = dft_cases.groupby(COL_REGION)[dt_yday].sum()\n",
    "dfp_deaths = dft_deaths.groupby(COL_REGION)[dt_yday].sum()"
   ]
  },
  {
   "cell_type": "code",
   "execution_count": 12,
   "id": "deluxe-hepatitis",
   "metadata": {
    "execution": {
     "iopub.execute_input": "2021-12-26T00:28:31.808197Z",
     "iopub.status.busy": "2021-12-26T00:28:31.807674Z",
     "iopub.status.idle": "2021-12-26T00:28:31.811575Z",
     "shell.execute_reply": "2021-12-26T00:28:31.812068Z"
    },
    "papermill": {
     "duration": 0.039267,
     "end_time": "2021-12-26T00:28:31.812201",
     "exception": false,
     "start_time": "2021-12-26T00:28:31.772934",
     "status": "completed"
    },
    "tags": []
   },
   "outputs": [],
   "source": [
    "#hide\n",
    "df_table = (pd.DataFrame(dict(Cases = dfc_cases, Deaths = dfc_deaths, PCases = dfp_cases, PDeaths = dfp_deaths))\n",
    "            .sort_values(by = ['Cases','Deaths'], ascending = [False, False])\n",
    "            .reset_index())"
   ]
  },
  {
   "cell_type": "code",
   "execution_count": 13,
   "id": "educational-chancellor",
   "metadata": {
    "execution": {
     "iopub.execute_input": "2021-12-26T00:28:31.889276Z",
     "iopub.status.busy": "2021-12-26T00:28:31.888677Z",
     "iopub.status.idle": "2021-12-26T00:28:31.895480Z",
     "shell.execute_reply": "2021-12-26T00:28:31.895867Z"
    },
    "papermill": {
     "duration": 0.054416,
     "end_time": "2021-12-26T00:28:31.896000",
     "exception": false,
     "start_time": "2021-12-26T00:28:31.841584",
     "status": "completed"
    },
    "tags": []
   },
   "outputs": [
    {
     "data": {
      "text/html": [
       "<div>\n",
       "<style scoped>\n",
       "    .dataframe tbody tr th:only-of-type {\n",
       "        vertical-align: middle;\n",
       "    }\n",
       "\n",
       "    .dataframe tbody tr th {\n",
       "        vertical-align: top;\n",
       "    }\n",
       "\n",
       "    .dataframe thead th {\n",
       "        text-align: right;\n",
       "    }\n",
       "</style>\n",
       "<table border=\"1\" class=\"dataframe\">\n",
       "  <thead>\n",
       "    <tr style=\"text-align: right;\">\n",
       "      <th></th>\n",
       "      <th>Country/Region</th>\n",
       "      <th>Cases</th>\n",
       "      <th>Deaths</th>\n",
       "      <th>PCases</th>\n",
       "      <th>PDeaths</th>\n",
       "      <th>Cases (+)</th>\n",
       "      <th>Deaths (+)</th>\n",
       "      <th>Fatality Rate</th>\n",
       "      <th>Continent</th>\n",
       "    </tr>\n",
       "  </thead>\n",
       "  <tbody>\n",
       "    <tr>\n",
       "      <th>0</th>\n",
       "      <td>US</td>\n",
       "      <td>51966735</td>\n",
       "      <td>816436</td>\n",
       "      <td>51814820</td>\n",
       "      <td>815423</td>\n",
       "      <td>151915</td>\n",
       "      <td>1013</td>\n",
       "      <td>1.57</td>\n",
       "      <td>North America</td>\n",
       "    </tr>\n",
       "    <tr>\n",
       "      <th>1</th>\n",
       "      <td>India</td>\n",
       "      <td>34779815</td>\n",
       "      <td>479520</td>\n",
       "      <td>34772626</td>\n",
       "      <td>479133</td>\n",
       "      <td>7189</td>\n",
       "      <td>387</td>\n",
       "      <td>1.38</td>\n",
       "      <td>Asia</td>\n",
       "    </tr>\n",
       "    <tr>\n",
       "      <th>2</th>\n",
       "      <td>Brazil</td>\n",
       "      <td>22234623</td>\n",
       "      <td>618655</td>\n",
       "      <td>22230943</td>\n",
       "      <td>618492</td>\n",
       "      <td>3680</td>\n",
       "      <td>163</td>\n",
       "      <td>2.78</td>\n",
       "      <td>South America</td>\n",
       "    </tr>\n",
       "    <tr>\n",
       "      <th>3</th>\n",
       "      <td>United Kingdom</td>\n",
       "      <td>11958841</td>\n",
       "      <td>148324</td>\n",
       "      <td>11836909</td>\n",
       "      <td>148187</td>\n",
       "      <td>121932</td>\n",
       "      <td>137</td>\n",
       "      <td>1.24</td>\n",
       "      <td>Europe</td>\n",
       "    </tr>\n",
       "    <tr>\n",
       "      <th>4</th>\n",
       "      <td>Russia</td>\n",
       "      <td>10164951</td>\n",
       "      <td>296268</td>\n",
       "      <td>10140429</td>\n",
       "      <td>295296</td>\n",
       "      <td>24522</td>\n",
       "      <td>972</td>\n",
       "      <td>2.91</td>\n",
       "      <td>Europe</td>\n",
       "    </tr>\n",
       "  </tbody>\n",
       "</table>\n",
       "</div>"
      ],
      "text/plain": [
       "   Country/Region     Cases  Deaths    PCases  PDeaths  Cases (+)  Deaths (+)  \\\n",
       "0              US  51966735  816436  51814820   815423     151915        1013   \n",
       "1           India  34779815  479520  34772626   479133       7189         387   \n",
       "2          Brazil  22234623  618655  22230943   618492       3680         163   \n",
       "3  United Kingdom  11958841  148324  11836909   148187     121932         137   \n",
       "4          Russia  10164951  296268  10140429   295296      24522         972   \n",
       "\n",
       "   Fatality Rate      Continent  \n",
       "0           1.57  North America  \n",
       "1           1.38           Asia  \n",
       "2           2.78  South America  \n",
       "3           1.24         Europe  \n",
       "4           2.91         Europe  "
      ]
     },
     "execution_count": 13,
     "metadata": {},
     "output_type": "execute_result"
    }
   ],
   "source": [
    "#hide\n",
    "for c in 'Cases, Deaths'.split(', '):\n",
    "    df_table[f'{c} (+)'] = (df_table[c] - df_table[f'P{c}']).clip(0)\n",
    "    #Clip ça veut dire, les chiffres negatif sont interdit\n",
    "df_table['Fatality Rate'] = (100* df_table['Deaths']/ df_table['Cases']).round(2)\n",
    "df_table['Continent'] = df_table['Country/Region'].map(mapping['map.continent'])\n",
    "df_table.head(5)"
   ]
  },
  {
   "cell_type": "code",
   "execution_count": 14,
   "id": "aboriginal-bulgaria",
   "metadata": {
    "execution": {
     "iopub.execute_input": "2021-12-26T00:28:31.962055Z",
     "iopub.status.busy": "2021-12-26T00:28:31.961441Z",
     "iopub.status.idle": "2021-12-26T00:28:31.965509Z",
     "shell.execute_reply": "2021-12-26T00:28:31.965016Z"
    },
    "papermill": {
     "duration": 0.039489,
     "end_time": "2021-12-26T00:28:31.965646",
     "exception": false,
     "start_time": "2021-12-26T00:28:31.926157",
     "status": "completed"
    },
    "tags": []
   },
   "outputs": [],
   "source": [
    "#hide\n",
    "#delete problematic countries from table\n",
    "df_table = df_table[~df_table['Country/Region'].isin(['Cape Verde', 'Cruise Ship', 'Kosovo'])]"
   ]
  },
  {
   "cell_type": "code",
   "execution_count": 15,
   "id": "fantastic-effect",
   "metadata": {
    "execution": {
     "iopub.execute_input": "2021-12-26T00:28:32.034109Z",
     "iopub.status.busy": "2021-12-26T00:28:32.033587Z",
     "iopub.status.idle": "2021-12-26T00:28:32.051359Z",
     "shell.execute_reply": "2021-12-26T00:28:32.051832Z"
    },
    "papermill": {
     "duration": 0.056618,
     "end_time": "2021-12-26T00:28:32.051980",
     "exception": false,
     "start_time": "2021-12-26T00:28:31.995362",
     "status": "completed"
    },
    "tags": []
   },
   "outputs": [
    {
     "data": {
      "text/html": [
       "<div>\n",
       "<style scoped>\n",
       "    .dataframe tbody tr th:only-of-type {\n",
       "        vertical-align: middle;\n",
       "    }\n",
       "\n",
       "    .dataframe tbody tr th {\n",
       "        vertical-align: top;\n",
       "    }\n",
       "\n",
       "    .dataframe thead th {\n",
       "        text-align: right;\n",
       "    }\n",
       "</style>\n",
       "<table border=\"1\" class=\"dataframe\">\n",
       "  <thead>\n",
       "    <tr style=\"text-align: right;\">\n",
       "      <th></th>\n",
       "      <th>Country/Region</th>\n",
       "      <th>Cases</th>\n",
       "      <th>Deaths</th>\n",
       "      <th>PCases</th>\n",
       "      <th>PDeaths</th>\n",
       "      <th>Cases (+)</th>\n",
       "      <th>Deaths (+)</th>\n",
       "      <th>Fatality Rate</th>\n",
       "      <th>Continent</th>\n",
       "    </tr>\n",
       "  </thead>\n",
       "  <tbody>\n",
       "    <tr>\n",
       "      <th>0</th>\n",
       "      <td>US</td>\n",
       "      <td>51966735</td>\n",
       "      <td>816436</td>\n",
       "      <td>51814820</td>\n",
       "      <td>815423</td>\n",
       "      <td>151915</td>\n",
       "      <td>1013</td>\n",
       "      <td>1.6</td>\n",
       "      <td>North America</td>\n",
       "    </tr>\n",
       "    <tr>\n",
       "      <th>1</th>\n",
       "      <td>India</td>\n",
       "      <td>34779815</td>\n",
       "      <td>479520</td>\n",
       "      <td>34772626</td>\n",
       "      <td>479133</td>\n",
       "      <td>7189</td>\n",
       "      <td>387</td>\n",
       "      <td>1.4</td>\n",
       "      <td>Asia</td>\n",
       "    </tr>\n",
       "    <tr>\n",
       "      <th>2</th>\n",
       "      <td>Brazil</td>\n",
       "      <td>22234623</td>\n",
       "      <td>618655</td>\n",
       "      <td>22230943</td>\n",
       "      <td>618492</td>\n",
       "      <td>3680</td>\n",
       "      <td>163</td>\n",
       "      <td>2.8</td>\n",
       "      <td>South America</td>\n",
       "    </tr>\n",
       "    <tr>\n",
       "      <th>3</th>\n",
       "      <td>United Kingdom</td>\n",
       "      <td>11958841</td>\n",
       "      <td>148324</td>\n",
       "      <td>11836909</td>\n",
       "      <td>148187</td>\n",
       "      <td>121932</td>\n",
       "      <td>137</td>\n",
       "      <td>1.2</td>\n",
       "      <td>Europe</td>\n",
       "    </tr>\n",
       "    <tr>\n",
       "      <th>4</th>\n",
       "      <td>Russia</td>\n",
       "      <td>10164951</td>\n",
       "      <td>296268</td>\n",
       "      <td>10140429</td>\n",
       "      <td>295296</td>\n",
       "      <td>24522</td>\n",
       "      <td>972</td>\n",
       "      <td>2.9</td>\n",
       "      <td>Europe</td>\n",
       "    </tr>\n",
       "  </tbody>\n",
       "</table>\n",
       "</div>"
      ],
      "text/plain": [
       "   Country/Region     Cases  Deaths    PCases  PDeaths  Cases (+)  Deaths (+)  \\\n",
       "0              US  51966735  816436  51814820   815423     151915        1013   \n",
       "1           India  34779815  479520  34772626   479133       7189         387   \n",
       "2          Brazil  22234623  618655  22230943   618492       3680         163   \n",
       "3  United Kingdom  11958841  148324  11836909   148187     121932         137   \n",
       "4          Russia  10164951  296268  10140429   295296      24522         972   \n",
       "\n",
       "   Fatality Rate      Continent  \n",
       "0            1.6  North America  \n",
       "1            1.4           Asia  \n",
       "2            2.8  South America  \n",
       "3            1.2         Europe  \n",
       "4            2.9         Europe  "
      ]
     },
     "execution_count": 15,
     "metadata": {},
     "output_type": "execute_result"
    }
   ],
   "source": [
    "#hide\n",
    "df_table = (pd.DataFrame(dict(Cases=dfc_cases, Deaths=dfc_deaths, PCases=dfp_cases, PDeaths=dfp_deaths))\n",
    "             .sort_values(by=['Cases', 'Deaths'], ascending=[False, False])\n",
    "             .reset_index())\n",
    "df_table.rename(columns={'index': 'Country/Region'}, inplace=True)\n",
    "for c in 'Cases, Deaths'.split(', '):\n",
    "    df_table[f'{c} (+)'] = (df_table[c] - df_table[f'P{c}']).clip(0)  # DATA BUG\n",
    "df_table['Fatality Rate'] = (100 * df_table['Deaths'] / df_table['Cases']).round(1)\n",
    "df_table['Continent'] = df_table['Country/Region'].map(mapping['map.continent'])\n",
    "df_table.head(5)"
   ]
  },
  {
   "cell_type": "code",
   "execution_count": 16,
   "id": "fewer-occasion",
   "metadata": {
    "execution": {
     "iopub.execute_input": "2021-12-26T00:28:32.119347Z",
     "iopub.status.busy": "2021-12-26T00:28:32.118829Z",
     "iopub.status.idle": "2021-12-26T00:28:32.120829Z",
     "shell.execute_reply": "2021-12-26T00:28:32.121276Z"
    },
    "papermill": {
     "duration": 0.038188,
     "end_time": "2021-12-26T00:28:32.121406",
     "exception": false,
     "start_time": "2021-12-26T00:28:32.083218",
     "status": "completed"
    },
    "tags": []
   },
   "outputs": [],
   "source": [
    "#hide\n",
    "#delete problematic countries from table\n",
    "df_table = df_table[~df_table['Country/Region'].isin(['Cape Verde', 'Cruise Ship', 'Kosovo'])]"
   ]
  },
  {
   "cell_type": "code",
   "execution_count": 17,
   "id": "related-center",
   "metadata": {
    "execution": {
     "iopub.execute_input": "2021-12-26T00:28:32.190519Z",
     "iopub.status.busy": "2021-12-26T00:28:32.189996Z",
     "iopub.status.idle": "2021-12-26T00:28:32.201964Z",
     "shell.execute_reply": "2021-12-26T00:28:32.201546Z"
    },
    "papermill": {
     "duration": 0.050632,
     "end_time": "2021-12-26T00:28:32.202082",
     "exception": false,
     "start_time": "2021-12-26T00:28:32.151450",
     "status": "completed"
    },
    "tags": []
   },
   "outputs": [],
   "source": [
    "#hide\n",
    "metrics = [df_table.columns[index] for index in [1,2,5,6]]\n",
    "# s_china = df_table[df_table['Country/Region'].eq('China')][metrics].sum().add_prefix('China ')\n",
    "s_us = df_table[df_table['Country/Region'].eq('US')][metrics].sum().add_prefix('US ')\n",
    "s_eu = df_table[df_table['Continent'].eq('Europe')][metrics].sum().add_prefix('EU ')\n",
    "s_ind = df_table[df_table['Country/Region'].eq('India')][metrics].sum().add_prefix('India ')\n",
    "summary = {'updated': pd.to_datetime(dt_today), 'since': pd.to_datetime(dt_yday)}\n",
    "summary = {'updated': pd.to_datetime(dt_today), 'since': pd.to_datetime(dt_yday)}\n",
    "summary = {**summary, **df_table[metrics].sum(), **s_ind, **s_us, **s_eu}"
   ]
  },
  {
   "cell_type": "code",
   "execution_count": 18,
   "id": "engaging-syndrome",
   "metadata": {
    "execution": {
     "iopub.execute_input": "2021-12-26T00:28:32.267826Z",
     "iopub.status.busy": "2021-12-26T00:28:32.267305Z",
     "iopub.status.idle": "2021-12-26T00:28:32.281619Z",
     "shell.execute_reply": "2021-12-26T00:28:32.281168Z"
    },
    "papermill": {
     "duration": 0.049339,
     "end_time": "2021-12-26T00:28:32.281742",
     "exception": false,
     "start_time": "2021-12-26T00:28:32.232403",
     "status": "completed"
    },
    "tags": []
   },
   "outputs": [],
   "source": [
    "#hide\n",
    "dft_ct_new_cases = dft_cases.groupby(COL_REGION)[dt_cols].sum().diff(axis=1).fillna(0).astype(int)"
   ]
  },
  {
   "cell_type": "code",
   "execution_count": 19,
   "id": "neutral-assignment",
   "metadata": {
    "execution": {
     "iopub.execute_input": "2021-12-26T00:28:32.349710Z",
     "iopub.status.busy": "2021-12-26T00:28:32.349171Z",
     "iopub.status.idle": "2021-12-26T00:28:32.351308Z",
     "shell.execute_reply": "2021-12-26T00:28:32.351688Z"
    },
    "papermill": {
     "duration": 0.039882,
     "end_time": "2021-12-26T00:28:32.351823",
     "exception": false,
     "start_time": "2021-12-26T00:28:32.311941",
     "status": "completed"
    },
    "tags": []
   },
   "outputs": [],
   "source": [
    "#hide\n",
    "everydaycases = dft_ct_new_cases.cumsum(axis=1)"
   ]
  },
  {
   "cell_type": "code",
   "execution_count": 20,
   "id": "parliamentary-calgary",
   "metadata": {
    "execution": {
     "iopub.execute_input": "2021-12-26T00:28:32.416974Z",
     "iopub.status.busy": "2021-12-26T00:28:32.416418Z",
     "iopub.status.idle": "2021-12-26T00:28:33.059937Z",
     "shell.execute_reply": "2021-12-26T00:28:33.059407Z"
    },
    "papermill": {
     "duration": 0.677662,
     "end_time": "2021-12-26T00:28:33.060079",
     "exception": false,
     "start_time": "2021-12-26T00:28:32.382417",
     "status": "completed"
    },
    "tags": []
   },
   "outputs": [],
   "source": [
    "#hide\n",
    "import pandas as pd\n",
    "import matplotlib.pyplot as plt\n",
    "import matplotlib.ticker as ticker\n",
    "import matplotlib.animation as animation\n",
    "from IPython.display import HTML"
   ]
  },
  {
   "cell_type": "code",
   "execution_count": 21,
   "id": "lasting-extraction",
   "metadata": {
    "execution": {
     "iopub.execute_input": "2021-12-26T00:28:33.127340Z",
     "iopub.status.busy": "2021-12-26T00:28:33.126806Z",
     "iopub.status.idle": "2021-12-26T00:28:33.132323Z",
     "shell.execute_reply": "2021-12-26T00:28:33.132734Z"
    },
    "papermill": {
     "duration": 0.041936,
     "end_time": "2021-12-26T00:28:33.132892",
     "exception": false,
     "start_time": "2021-12-26T00:28:33.090956",
     "status": "completed"
    },
    "tags": []
   },
   "outputs": [],
   "source": [
    "#hide\n",
    "t = everydaycases.stack()"
   ]
  },
  {
   "cell_type": "code",
   "execution_count": 22,
   "id": "premier-sleeve",
   "metadata": {
    "execution": {
     "iopub.execute_input": "2021-12-26T00:28:33.197955Z",
     "iopub.status.busy": "2021-12-26T00:28:33.197407Z",
     "iopub.status.idle": "2021-12-26T00:28:33.207229Z",
     "shell.execute_reply": "2021-12-26T00:28:33.206793Z"
    },
    "papermill": {
     "duration": 0.044185,
     "end_time": "2021-12-26T00:28:33.207349",
     "exception": false,
     "start_time": "2021-12-26T00:28:33.163164",
     "status": "completed"
    },
    "tags": []
   },
   "outputs": [],
   "source": [
    "#hide\n",
    "g = t.reset_index(['Country/Region'])"
   ]
  },
  {
   "cell_type": "code",
   "execution_count": 23,
   "id": "distributed-pittsburgh",
   "metadata": {
    "execution": {
     "iopub.execute_input": "2021-12-26T00:28:33.272191Z",
     "iopub.status.busy": "2021-12-26T00:28:33.271578Z",
     "iopub.status.idle": "2021-12-26T00:28:33.273154Z",
     "shell.execute_reply": "2021-12-26T00:28:33.273622Z"
    },
    "papermill": {
     "duration": 0.036154,
     "end_time": "2021-12-26T00:28:33.273763",
     "exception": false,
     "start_time": "2021-12-26T00:28:33.237609",
     "status": "completed"
    },
    "tags": []
   },
   "outputs": [],
   "source": [
    "#hide\n",
    "g.index.name = 'date'"
   ]
  },
  {
   "cell_type": "code",
   "execution_count": 24,
   "id": "naked-donor",
   "metadata": {
    "execution": {
     "iopub.execute_input": "2021-12-26T00:28:33.338746Z",
     "iopub.status.busy": "2021-12-26T00:28:33.338119Z",
     "iopub.status.idle": "2021-12-26T00:28:33.341706Z",
     "shell.execute_reply": "2021-12-26T00:28:33.341266Z"
    },
    "papermill": {
     "duration": 0.037108,
     "end_time": "2021-12-26T00:28:33.341822",
     "exception": false,
     "start_time": "2021-12-26T00:28:33.304714",
     "status": "completed"
    },
    "tags": []
   },
   "outputs": [],
   "source": [
    "# #hide\n",
    "# g = g.reset_index(['date'])"
   ]
  },
  {
   "cell_type": "code",
   "execution_count": 25,
   "id": "incomplete-mustang",
   "metadata": {
    "execution": {
     "iopub.execute_input": "2021-12-26T00:28:33.406337Z",
     "iopub.status.busy": "2021-12-26T00:28:33.405740Z",
     "iopub.status.idle": "2021-12-26T00:28:33.407223Z",
     "shell.execute_reply": "2021-12-26T00:28:33.407682Z"
    },
    "papermill": {
     "duration": 0.035983,
     "end_time": "2021-12-26T00:28:33.407824",
     "exception": false,
     "start_time": "2021-12-26T00:28:33.371841",
     "status": "completed"
    },
    "tags": []
   },
   "outputs": [],
   "source": [
    "#hide\n",
    "# g.head()"
   ]
  },
  {
   "cell_type": "code",
   "execution_count": 26,
   "id": "specific-kruger",
   "metadata": {
    "execution": {
     "iopub.execute_input": "2021-12-26T00:28:33.472429Z",
     "iopub.status.busy": "2021-12-26T00:28:33.471820Z",
     "iopub.status.idle": "2021-12-26T00:28:33.475057Z",
     "shell.execute_reply": "2021-12-26T00:28:33.475510Z"
    },
    "papermill": {
     "duration": 0.037264,
     "end_time": "2021-12-26T00:28:33.475652",
     "exception": false,
     "start_time": "2021-12-26T00:28:33.438388",
     "status": "completed"
    },
    "tags": []
   },
   "outputs": [],
   "source": [
    "#hide\n",
    "# g.columns = ['date','country','cases']"
   ]
  },
  {
   "cell_type": "code",
   "execution_count": 27,
   "id": "tender-conversion",
   "metadata": {
    "execution": {
     "iopub.execute_input": "2021-12-26T00:28:33.539762Z",
     "iopub.status.busy": "2021-12-26T00:28:33.539147Z",
     "iopub.status.idle": "2021-12-26T00:28:33.541172Z",
     "shell.execute_reply": "2021-12-26T00:28:33.540575Z"
    },
    "papermill": {
     "duration": 0.035555,
     "end_time": "2021-12-26T00:28:33.541300",
     "exception": false,
     "start_time": "2021-12-26T00:28:33.505745",
     "status": "completed"
    },
    "tags": []
   },
   "outputs": [],
   "source": [
    "#hide\n",
    "# g['continent'] = g.country"
   ]
  },
  {
   "cell_type": "code",
   "execution_count": 28,
   "id": "substantial-wilderness",
   "metadata": {
    "execution": {
     "iopub.execute_input": "2021-12-26T00:28:33.605782Z",
     "iopub.status.busy": "2021-12-26T00:28:33.605224Z",
     "iopub.status.idle": "2021-12-26T00:28:33.607319Z",
     "shell.execute_reply": "2021-12-26T00:28:33.606905Z"
    },
    "papermill": {
     "duration": 0.035641,
     "end_time": "2021-12-26T00:28:33.607434",
     "exception": false,
     "start_time": "2021-12-26T00:28:33.571793",
     "status": "completed"
    },
    "tags": []
   },
   "outputs": [],
   "source": [
    "#hide\n",
    "# cols = list(g.columns.values)"
   ]
  },
  {
   "cell_type": "code",
   "execution_count": 29,
   "id": "solved-farming",
   "metadata": {
    "execution": {
     "iopub.execute_input": "2021-12-26T00:28:33.671495Z",
     "iopub.status.busy": "2021-12-26T00:28:33.670878Z",
     "iopub.status.idle": "2021-12-26T00:28:33.674381Z",
     "shell.execute_reply": "2021-12-26T00:28:33.674828Z"
    },
    "papermill": {
     "duration": 0.037489,
     "end_time": "2021-12-26T00:28:33.674980",
     "exception": false,
     "start_time": "2021-12-26T00:28:33.637491",
     "status": "completed"
    },
    "tags": []
   },
   "outputs": [],
   "source": [
    "#hide\n",
    "# cols.insert(0, cols.pop())"
   ]
  },
  {
   "cell_type": "code",
   "execution_count": 30,
   "id": "executed-adoption",
   "metadata": {
    "execution": {
     "iopub.execute_input": "2021-12-26T00:28:33.739435Z",
     "iopub.status.busy": "2021-12-26T00:28:33.738823Z",
     "iopub.status.idle": "2021-12-26T00:28:33.742271Z",
     "shell.execute_reply": "2021-12-26T00:28:33.742710Z"
    },
    "papermill": {
     "duration": 0.037564,
     "end_time": "2021-12-26T00:28:33.742862",
     "exception": false,
     "start_time": "2021-12-26T00:28:33.705298",
     "status": "completed"
    },
    "tags": []
   },
   "outputs": [],
   "source": [
    "#hide\n",
    "# g = g[cols]"
   ]
  },
  {
   "cell_type": "code",
   "execution_count": 31,
   "id": "subject-dublin",
   "metadata": {
    "execution": {
     "iopub.execute_input": "2021-12-26T00:28:33.807622Z",
     "iopub.status.busy": "2021-12-26T00:28:33.807015Z",
     "iopub.status.idle": "2021-12-26T00:28:33.810747Z",
     "shell.execute_reply": "2021-12-26T00:28:33.810331Z"
    },
    "papermill": {
     "duration": 0.037323,
     "end_time": "2021-12-26T00:28:33.810864",
     "exception": false,
     "start_time": "2021-12-26T00:28:33.773541",
     "status": "completed"
    },
    "tags": []
   },
   "outputs": [],
   "source": [
    "#hide\n",
    "# g['continent'] = g['continent'].map(mapping['map.continent'])"
   ]
  },
  {
   "cell_type": "code",
   "execution_count": 32,
   "id": "freelance-scout",
   "metadata": {
    "execution": {
     "iopub.execute_input": "2021-12-26T00:28:33.875449Z",
     "iopub.status.busy": "2021-12-26T00:28:33.874836Z",
     "iopub.status.idle": "2021-12-26T00:28:33.876839Z",
     "shell.execute_reply": "2021-12-26T00:28:33.876245Z"
    },
    "papermill": {
     "duration": 0.035787,
     "end_time": "2021-12-26T00:28:33.876968",
     "exception": false,
     "start_time": "2021-12-26T00:28:33.841181",
     "status": "completed"
    },
    "tags": []
   },
   "outputs": [],
   "source": [
    "#hide\n",
    "# g.head()"
   ]
  },
  {
   "cell_type": "code",
   "execution_count": 33,
   "id": "limited-engine",
   "metadata": {
    "execution": {
     "iopub.execute_input": "2021-12-26T00:28:33.941268Z",
     "iopub.status.busy": "2021-12-26T00:28:33.940676Z",
     "iopub.status.idle": "2021-12-26T00:28:33.943591Z",
     "shell.execute_reply": "2021-12-26T00:28:33.943177Z"
    },
    "papermill": {
     "duration": 0.036405,
     "end_time": "2021-12-26T00:28:33.943705",
     "exception": false,
     "start_time": "2021-12-26T00:28:33.907300",
     "status": "completed"
    },
    "tags": []
   },
   "outputs": [],
   "source": [
    "# hide\n",
    "# g['date'] = g['date'].astype('datetime64[ns]')"
   ]
  },
  {
   "cell_type": "code",
   "execution_count": 34,
   "id": "sophisticated-supervisor",
   "metadata": {
    "execution": {
     "iopub.execute_input": "2021-12-26T00:28:34.008204Z",
     "iopub.status.busy": "2021-12-26T00:28:34.007591Z",
     "iopub.status.idle": "2021-12-26T00:28:34.011148Z",
     "shell.execute_reply": "2021-12-26T00:28:34.011543Z"
    },
    "papermill": {
     "duration": 0.037711,
     "end_time": "2021-12-26T00:28:34.011679",
     "exception": false,
     "start_time": "2021-12-26T00:28:33.973968",
     "status": "completed"
    },
    "tags": []
   },
   "outputs": [],
   "source": [
    "#hide\n",
    "# g['date'] = g.date.dt.dayofyear"
   ]
  },
  {
   "cell_type": "code",
   "execution_count": 35,
   "id": "inside-dubai",
   "metadata": {
    "execution": {
     "iopub.execute_input": "2021-12-26T00:28:34.076008Z",
     "iopub.status.busy": "2021-12-26T00:28:34.075390Z",
     "iopub.status.idle": "2021-12-26T00:28:34.077390Z",
     "shell.execute_reply": "2021-12-26T00:28:34.076776Z"
    },
    "papermill": {
     "duration": 0.035737,
     "end_time": "2021-12-26T00:28:34.077523",
     "exception": false,
     "start_time": "2021-12-26T00:28:34.041786",
     "status": "completed"
    },
    "tags": []
   },
   "outputs": [],
   "source": [
    "#hide\n",
    "# g = g.rename(columns= {'continent':'group','country':'name','cases':'value'})"
   ]
  },
  {
   "cell_type": "code",
   "execution_count": 36,
   "id": "fleet-motorcycle",
   "metadata": {
    "execution": {
     "iopub.execute_input": "2021-12-26T00:28:34.142734Z",
     "iopub.status.busy": "2021-12-26T00:28:34.142129Z",
     "iopub.status.idle": "2021-12-26T00:28:34.145430Z",
     "shell.execute_reply": "2021-12-26T00:28:34.145813Z"
    },
    "papermill": {
     "duration": 0.037305,
     "end_time": "2021-12-26T00:28:34.145948",
     "exception": false,
     "start_time": "2021-12-26T00:28:34.108643",
     "status": "completed"
    },
    "tags": []
   },
   "outputs": [],
   "source": [
    "#hide\n",
    "# cols = ['name','group','day','value']"
   ]
  },
  {
   "cell_type": "code",
   "execution_count": 37,
   "id": "continued-sleeping",
   "metadata": {
    "execution": {
     "iopub.execute_input": "2021-12-26T00:28:34.210055Z",
     "iopub.status.busy": "2021-12-26T00:28:34.209443Z",
     "iopub.status.idle": "2021-12-26T00:28:34.211358Z",
     "shell.execute_reply": "2021-12-26T00:28:34.210784Z"
    },
    "papermill": {
     "duration": 0.035415,
     "end_time": "2021-12-26T00:28:34.211483",
     "exception": false,
     "start_time": "2021-12-26T00:28:34.176068",
     "status": "completed"
    },
    "tags": []
   },
   "outputs": [],
   "source": [
    "#hide\n",
    "# g.rename(columns= {'date':'day'},inplace = True)"
   ]
  },
  {
   "cell_type": "code",
   "execution_count": 38,
   "id": "major-fight",
   "metadata": {
    "execution": {
     "iopub.execute_input": "2021-12-26T00:28:34.276306Z",
     "iopub.status.busy": "2021-12-26T00:28:34.275722Z",
     "iopub.status.idle": "2021-12-26T00:28:34.278973Z",
     "shell.execute_reply": "2021-12-26T00:28:34.279365Z"
    },
    "papermill": {
     "duration": 0.037359,
     "end_time": "2021-12-26T00:28:34.279505",
     "exception": false,
     "start_time": "2021-12-26T00:28:34.242146",
     "status": "completed"
    },
    "tags": []
   },
   "outputs": [],
   "source": [
    "#hide\n",
    "# g = g[cols]"
   ]
  },
  {
   "cell_type": "code",
   "execution_count": 39,
   "id": "structured-mobile",
   "metadata": {
    "execution": {
     "iopub.execute_input": "2021-12-26T00:28:34.343614Z",
     "iopub.status.busy": "2021-12-26T00:28:34.343016Z",
     "iopub.status.idle": "2021-12-26T00:28:34.344958Z",
     "shell.execute_reply": "2021-12-26T00:28:34.344380Z"
    },
    "papermill": {
     "duration": 0.035485,
     "end_time": "2021-12-26T00:28:34.345086",
     "exception": false,
     "start_time": "2021-12-26T00:28:34.309601",
     "status": "completed"
    },
    "tags": []
   },
   "outputs": [],
   "source": [
    "# #hide\n",
    "# g = g[g.group.notna()]"
   ]
  },
  {
   "cell_type": "code",
   "execution_count": 40,
   "id": "determined-closing",
   "metadata": {
    "execution": {
     "iopub.execute_input": "2021-12-26T00:28:34.409828Z",
     "iopub.status.busy": "2021-12-26T00:28:34.409287Z",
     "iopub.status.idle": "2021-12-26T00:28:34.411189Z",
     "shell.execute_reply": "2021-12-26T00:28:34.411575Z"
    },
    "papermill": {
     "duration": 0.035976,
     "end_time": "2021-12-26T00:28:34.411705",
     "exception": false,
     "start_time": "2021-12-26T00:28:34.375729",
     "status": "completed"
    },
    "tags": []
   },
   "outputs": [],
   "source": [
    "# #hide\n",
    "# colors = dict(zip(\n",
    "#     [\"Oceania\", \"Europe\", \"Asia\", \"South America\", \"Middle East\", \"North America\", \"Africa\"],\n",
    "#     [\"#adb0ff\", \"#ffb3ff\", \"#90d595\", \"#e48381\", \"#aafbff\", \"#f7bb5f\", \"#eafb50\"]\n",
    "# ))\n",
    "# group_lk = g.set_index('name')['group'].to_dict()"
   ]
  },
  {
   "cell_type": "code",
   "execution_count": null,
   "id": "gross-drinking",
   "metadata": {
    "papermill": {
     "duration": 0.030021,
     "end_time": "2021-12-26T00:28:34.471751",
     "exception": false,
     "start_time": "2021-12-26T00:28:34.441730",
     "status": "completed"
    },
    "tags": []
   },
   "outputs": [],
   "source": []
  },
  {
   "cell_type": "code",
   "execution_count": 41,
   "id": "subject-macintosh",
   "metadata": {
    "execution": {
     "iopub.execute_input": "2021-12-26T00:28:34.536218Z",
     "iopub.status.busy": "2021-12-26T00:28:34.535671Z",
     "iopub.status.idle": "2021-12-26T00:28:34.537503Z",
     "shell.execute_reply": "2021-12-26T00:28:34.536985Z"
    },
    "papermill": {
     "duration": 0.035731,
     "end_time": "2021-12-26T00:28:34.537616",
     "exception": false,
     "start_time": "2021-12-26T00:28:34.501885",
     "status": "completed"
    },
    "tags": []
   },
   "outputs": [],
   "source": [
    "# #hide\n",
    "# fig, ax = plt.subplots(figsize=(15, 8))\n",
    "\n",
    "# def draw_barchart(current_day):\n",
    "#     dff = g[g['day'].eq(current_day)].sort_values(by='value', ascending=True).tail(10)\n",
    "#     ax.clear()\n",
    "#     ax.barh(dff['name'], dff['value'], color=[colors[group_lk[x]] for x in dff['name']])\n",
    "#     dx = dff['value'].max() / 200\n",
    "    \n",
    "#     for i, (value, name) in enumerate(zip(dff['value'], dff['name'])):\n",
    "#         ax.text(value-dx, i,     name,           size=14, weight=600, ha='right', va='bottom')\n",
    "#         ax.text(value-dx, i-.25, group_lk[name], size=10, color='#444444', ha='right', va='baseline')\n",
    "#         ax.text(value+dx, i,     f'{value:,.0f}',  size=14, ha='left',  va='center')\n",
    "#     ax.text(1, 0.4, current_day, transform=ax.transAxes, color='#777777', size=46, ha='right', weight=800)\n",
    "#     ax.text(0, 1.06, 'Population (thousands)', transform=ax.transAxes, size=12, color='#777777')\n",
    "#     ax.xaxis.set_major_formatter(ticker.StrMethodFormatter('{x:,.0f}'))\n",
    "#     ax.xaxis.set_ticks_position('top')\n",
    "#     ax.tick_params(axis='x', colors='#777777', labelsize=12)\n",
    "#     ax.set_yticks([])\n",
    "#     ax.margins(0, 0.01)\n",
    "#     ax.grid(which='major', axis='x', linestyle='-')\n",
    "#     ax.set_axisbelow(True)\n",
    "    \n",
    "#     ax.text(0, 1.15, 'Coronavirus',\n",
    "#             transform=ax.transAxes, size=24, weight=600, ha='left', va='top')\n",
    "# #     ax.text(1, 0, 'by @pratapvardhan; credit @jburnmurdoch', transform=ax.transAxes, color='#777777', ha='right',\n",
    "# #             bbox=dict(facecolor='white', alpha=0.8, edgecolor='white'))\n",
    "#     plt.box(False)"
   ]
  },
  {
   "cell_type": "code",
   "execution_count": 42,
   "id": "sexual-wages",
   "metadata": {
    "execution": {
     "iopub.execute_input": "2021-12-26T00:28:34.601944Z",
     "iopub.status.busy": "2021-12-26T00:28:34.601329Z",
     "iopub.status.idle": "2021-12-26T00:28:34.604600Z",
     "shell.execute_reply": "2021-12-26T00:28:34.605013Z"
    },
    "papermill": {
     "duration": 0.037382,
     "end_time": "2021-12-26T00:28:34.605150",
     "exception": false,
     "start_time": "2021-12-26T00:28:34.567768",
     "status": "completed"
    },
    "tags": []
   },
   "outputs": [],
   "source": [
    "# #hide_input\n",
    "# fig, ax = plt.subplots(figsize=(15, 8))\n",
    "# animator = animation.FuncAnimation(fig, draw_barchart, frames=range(g.day.values.min(), g.day.values.max()))\n",
    "# HTML(animator.to_jshtml())\n",
    "# # or use animator.to_html5_video() or animator.save() "
   ]
  },
  {
   "cell_type": "code",
   "execution_count": null,
   "id": "australian-container",
   "metadata": {
    "papermill": {
     "duration": 0.03,
     "end_time": "2021-12-26T00:28:34.665354",
     "exception": false,
     "start_time": "2021-12-26T00:28:34.635354",
     "status": "completed"
    },
    "tags": []
   },
   "outputs": [],
   "source": []
  },
  {
   "cell_type": "code",
   "execution_count": null,
   "id": "mediterranean-pontiac",
   "metadata": {
    "papermill": {
     "duration": 0.029865,
     "end_time": "2021-12-26T00:28:34.725182",
     "exception": false,
     "start_time": "2021-12-26T00:28:34.695317",
     "status": "completed"
    },
    "tags": []
   },
   "outputs": [],
   "source": []
  },
  {
   "cell_type": "code",
   "execution_count": null,
   "id": "aging-legislature",
   "metadata": {
    "papermill": {
     "duration": 0.029886,
     "end_time": "2021-12-26T00:28:34.785225",
     "exception": false,
     "start_time": "2021-12-26T00:28:34.755339",
     "status": "completed"
    },
    "tags": []
   },
   "outputs": [],
   "source": []
  }
 ],
 "metadata": {
  "kernelspec": {
   "display_name": "Python 3",
   "language": "python",
   "name": "python3"
  },
  "language_info": {
   "codemirror_mode": {
    "name": "ipython",
    "version": 3
   },
   "file_extension": ".py",
   "mimetype": "text/x-python",
   "name": "python",
   "nbconvert_exporter": "python",
   "pygments_lexer": "ipython3",
   "version": "3.6.15"
  },
  "papermill": {
   "duration": 6.125996,
   "end_time": "2021-12-26T00:28:35.223489",
   "environment_variables": {},
   "exception": null,
   "input_path": "2020-03-21-covid19exp.ipynb",
   "output_path": "2020-03-21-covid19exp.ipynb",
   "parameters": {},
   "start_time": "2021-12-26T00:28:29.097493",
   "version": "2.0.0"
  }
 },
 "nbformat": 4,
 "nbformat_minor": 5
}