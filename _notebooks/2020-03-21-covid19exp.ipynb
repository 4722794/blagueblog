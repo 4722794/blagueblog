{
 "cells": [
  {
   "cell_type": "markdown",
   "id": "muslim-click",
   "metadata": {
    "papermill": {
     "duration": 0.035717,
     "end_time": "2022-11-29T00:41:51.721581",
     "exception": false,
     "start_time": "2022-11-29T00:41:51.685864",
     "status": "completed"
    },
    "tags": []
   },
   "source": [
    "# COVID-19 Case Race\n",
    "> A race chart to see rising cases around the world\n",
    "\n",
    "- author: Hargun Oberoi\n",
    "- image: images/covid-overview.png\n",
    "- hide: false\n",
    "- badges: false"
   ]
  },
  {
   "cell_type": "code",
   "execution_count": 1,
   "id": "proof-material",
   "metadata": {
    "execution": {
     "iopub.execute_input": "2022-11-29T00:41:51.791432Z",
     "iopub.status.busy": "2022-11-29T00:41:51.790824Z",
     "iopub.status.idle": "2022-11-29T00:41:52.118450Z",
     "shell.execute_reply": "2022-11-29T00:41:52.117625Z"
    },
    "papermill": {
     "duration": 0.367153,
     "end_time": "2022-11-29T00:41:52.118608",
     "exception": false,
     "start_time": "2022-11-29T00:41:51.751455",
     "status": "completed"
    },
    "tags": []
   },
   "outputs": [],
   "source": [
    "#hide\n",
    "import numpy as np\n",
    "import pandas as pd\n",
    "from jinja2 import Template\n",
    "from IPython.display import HTML"
   ]
  },
  {
   "cell_type": "code",
   "execution_count": 2,
   "id": "developed-terminology",
   "metadata": {
    "execution": {
     "iopub.execute_input": "2022-11-29T00:41:52.183379Z",
     "iopub.status.busy": "2022-11-29T00:41:52.182778Z",
     "iopub.status.idle": "2022-11-29T00:41:52.184898Z",
     "shell.execute_reply": "2022-11-29T00:41:52.185471Z"
    },
    "papermill": {
     "duration": 0.036822,
     "end_time": "2022-11-29T00:41:52.185601",
     "exception": false,
     "start_time": "2022-11-29T00:41:52.148779",
     "status": "completed"
    },
    "tags": []
   },
   "outputs": [],
   "source": [
    "#hide\n",
    "\n",
    "# FETCH\n",
    "base_url = 'https://raw.githubusercontent.com/pratapvardhan/notebooks/master/covid19/'\n",
    "paths = {\n",
    "    'mapping': base_url + 'mapping_countries.csv',\n",
    "    'overview': base_url + 'overview.tpl'\n",
    "}"
   ]
  },
  {
   "cell_type": "code",
   "execution_count": 3,
   "id": "dynamic-saver",
   "metadata": {
    "execution": {
     "iopub.execute_input": "2022-11-29T00:41:52.246858Z",
     "iopub.status.busy": "2022-11-29T00:41:52.246275Z",
     "iopub.status.idle": "2022-11-29T00:41:52.256490Z",
     "shell.execute_reply": "2022-11-29T00:41:52.257038Z"
    },
    "papermill": {
     "duration": 0.042512,
     "end_time": "2022-11-29T00:41:52.257166",
     "exception": false,
     "start_time": "2022-11-29T00:41:52.214654",
     "status": "completed"
    },
    "tags": []
   },
   "outputs": [
    {
     "data": {
      "text/plain": [
       "'https://raw.githubusercontent.com/pratapvardhan/notebooks/master/covid19/mapping_countries.csv'"
      ]
     },
     "execution_count": 3,
     "metadata": {},
     "output_type": "execute_result"
    }
   ],
   "source": [
    "#hide\n",
    "paths['mapping']"
   ]
  },
  {
   "cell_type": "code",
   "execution_count": 4,
   "id": "urban-software",
   "metadata": {
    "execution": {
     "iopub.execute_input": "2022-11-29T00:41:52.319050Z",
     "iopub.status.busy": "2022-11-29T00:41:52.318478Z",
     "iopub.status.idle": "2022-11-29T00:41:52.323269Z",
     "shell.execute_reply": "2022-11-29T00:41:52.323821Z"
    },
    "papermill": {
     "duration": 0.037156,
     "end_time": "2022-11-29T00:41:52.323940",
     "exception": false,
     "start_time": "2022-11-29T00:41:52.286784",
     "status": "completed"
    },
    "tags": []
   },
   "outputs": [],
   "source": [
    "#hide\n",
    "def get_mappings(url):\n",
    "    df = pd.read_csv(url)\n",
    "    return {\n",
    "        'df': df,\n",
    "        'replace.country': dict(df.dropna(subset=['Name']).set_index('Country')['Name']),\n",
    "        'map.continent': dict(df.set_index('Name')['Continent'])\n",
    "    }"
   ]
  },
  {
   "cell_type": "code",
   "execution_count": 5,
   "id": "intimate-machinery",
   "metadata": {
    "execution": {
     "iopub.execute_input": "2022-11-29T00:41:52.387786Z",
     "iopub.status.busy": "2022-11-29T00:41:52.387214Z",
     "iopub.status.idle": "2022-11-29T00:41:52.451097Z",
     "shell.execute_reply": "2022-11-29T00:41:52.450546Z"
    },
    "papermill": {
     "duration": 0.097962,
     "end_time": "2022-11-29T00:41:52.451223",
     "exception": false,
     "start_time": "2022-11-29T00:41:52.353261",
     "status": "completed"
    },
    "tags": []
   },
   "outputs": [],
   "source": [
    "#hide\n",
    "mapping = get_mappings(paths['mapping'])"
   ]
  },
  {
   "cell_type": "code",
   "execution_count": 6,
   "id": "certified-tactics",
   "metadata": {
    "execution": {
     "iopub.execute_input": "2022-11-29T00:41:52.516925Z",
     "iopub.status.busy": "2022-11-29T00:41:52.516334Z",
     "iopub.status.idle": "2022-11-29T00:41:52.518492Z",
     "shell.execute_reply": "2022-11-29T00:41:52.518965Z"
    },
    "papermill": {
     "duration": 0.037252,
     "end_time": "2022-11-29T00:41:52.519086",
     "exception": false,
     "start_time": "2022-11-29T00:41:52.481834",
     "status": "completed"
    },
    "tags": []
   },
   "outputs": [],
   "source": [
    "#hide\n",
    "def get_template(path):\n",
    "    from urllib.parse import urlparse\n",
    "    if bool(urlparse(path).netloc):\n",
    "        from urllib.request import urlopen\n",
    "        return urlopen(path).read().decode('utf8')\n",
    "    return open(path).read()"
   ]
  },
  {
   "cell_type": "code",
   "execution_count": 7,
   "id": "realistic-blast",
   "metadata": {
    "execution": {
     "iopub.execute_input": "2022-11-29T00:41:52.580788Z",
     "iopub.status.busy": "2022-11-29T00:41:52.580213Z",
     "iopub.status.idle": "2022-11-29T00:41:52.585322Z",
     "shell.execute_reply": "2022-11-29T00:41:52.584734Z"
    },
    "papermill": {
     "duration": 0.036855,
     "end_time": "2022-11-29T00:41:52.585432",
     "exception": false,
     "start_time": "2022-11-29T00:41:52.548577",
     "status": "completed"
    },
    "tags": []
   },
   "outputs": [],
   "source": [
    "#hide\n",
    "def get_frame(name):\n",
    "    url = (\n",
    "        'https://raw.githubusercontent.com/CSSEGISandData/COVID-19/master/csse_covid_19_data/'\n",
    "        f'csse_covid_19_time_series/time_series_covid19_{name}_global.csv')\n",
    "    df = pd.read_csv(url)\n",
    "    # rename countries\n",
    "    df['Country/Region'] = df['Country/Region'].replace(mapping['replace.country'])\n",
    "    return df"
   ]
  },
  {
   "cell_type": "code",
   "execution_count": 8,
   "id": "affiliated-characterization",
   "metadata": {
    "execution": {
     "iopub.execute_input": "2022-11-29T00:41:52.651307Z",
     "iopub.status.busy": "2022-11-29T00:41:52.650711Z",
     "iopub.status.idle": "2022-11-29T00:41:52.653080Z",
     "shell.execute_reply": "2022-11-29T00:41:52.653574Z"
    },
    "papermill": {
     "duration": 0.037271,
     "end_time": "2022-11-29T00:41:52.653696",
     "exception": false,
     "start_time": "2022-11-29T00:41:52.616425",
     "status": "completed"
    },
    "tags": []
   },
   "outputs": [],
   "source": [
    "#hide\n",
    "def get_dates(df):\n",
    "    dt_cols = df.columns[~df.columns.isin(['Province/State', 'Country/Region', 'Lat', 'Long'])]\n",
    "    LAST_DATE_I = -1\n",
    "    # sometimes last column may be empty, then go backwards\n",
    "    for i in range(-1, -len(dt_cols), -1):\n",
    "        if not df[dt_cols[i]].fillna(0).eq(0).all():\n",
    "            LAST_DATE_I = i\n",
    "            break\n",
    "    return LAST_DATE_I, dt_cols"
   ]
  },
  {
   "cell_type": "code",
   "execution_count": 9,
   "id": "recent-optimization",
   "metadata": {
    "execution": {
     "iopub.execute_input": "2022-11-29T00:41:52.716607Z",
     "iopub.status.busy": "2022-11-29T00:41:52.716021Z",
     "iopub.status.idle": "2022-11-29T00:41:53.402980Z",
     "shell.execute_reply": "2022-11-29T00:41:53.402396Z"
    },
    "papermill": {
     "duration": 0.720179,
     "end_time": "2022-11-29T00:41:53.403130",
     "exception": false,
     "start_time": "2022-11-29T00:41:52.682951",
     "status": "completed"
    },
    "tags": []
   },
   "outputs": [],
   "source": [
    "#hide\n",
    "COL_REGION = 'Country/Region'\n",
    "# Confirmed, Recovered, Deaths\n",
    "df = get_frame('confirmed')\n",
    "# dft_: timeseries, dfc_: today country agg\n",
    "dft_cases = df\n",
    "dft_deaths = get_frame('deaths')\n",
    "dft_recovered = get_frame('recovered')\n",
    "LAST_DATE_I, dt_cols = get_dates(df)"
   ]
  },
  {
   "cell_type": "code",
   "execution_count": 10,
   "id": "absolute-copper",
   "metadata": {
    "execution": {
     "iopub.execute_input": "2022-11-29T00:41:53.469841Z",
     "iopub.status.busy": "2022-11-29T00:41:53.469179Z",
     "iopub.status.idle": "2022-11-29T00:41:53.471058Z",
     "shell.execute_reply": "2022-11-29T00:41:53.471533Z"
    },
    "papermill": {
     "duration": 0.038187,
     "end_time": "2022-11-29T00:41:53.471667",
     "exception": false,
     "start_time": "2022-11-29T00:41:53.433480",
     "status": "completed"
    },
    "tags": []
   },
   "outputs": [],
   "source": [
    "#hide\n",
    "LAST_DATE_I, dt_cols = get_dates(df)\n",
    "dt_today =dt_cols[LAST_DATE_I]\n",
    "# dt_5day = dt_cols[LAST_DATE_I - 5]\n",
    "dt_yday = dt_cols[LAST_DATE_I - 1]"
   ]
  },
  {
   "cell_type": "code",
   "execution_count": 11,
   "id": "restricted-sheriff",
   "metadata": {
    "execution": {
     "iopub.execute_input": "2022-11-29T00:41:53.538829Z",
     "iopub.status.busy": "2022-11-29T00:41:53.538231Z",
     "iopub.status.idle": "2022-11-29T00:41:53.544413Z",
     "shell.execute_reply": "2022-11-29T00:41:53.543936Z"
    },
    "papermill": {
     "duration": 0.04325,
     "end_time": "2022-11-29T00:41:53.544524",
     "exception": false,
     "start_time": "2022-11-29T00:41:53.501274",
     "status": "completed"
    },
    "tags": []
   },
   "outputs": [],
   "source": [
    "#hide\n",
    "dfc_cases = dft_cases.groupby(COL_REGION)[dt_today].sum()\n",
    "dfc_deaths = dft_deaths.groupby(COL_REGION)[dt_today].sum()\n",
    "# dfp_cases = dft_cases.groupby(COL_REGION)[dt_5day].sum()\n",
    "# dfp_deaths = dft_deaths.groupby(COL_REGION)[dt_5day].sum()\n",
    "dfp_cases = dft_cases.groupby(COL_REGION)[dt_yday].sum()\n",
    "dfp_deaths = dft_deaths.groupby(COL_REGION)[dt_yday].sum()"
   ]
  },
  {
   "cell_type": "code",
   "execution_count": 12,
   "id": "deluxe-hepatitis",
   "metadata": {
    "execution": {
     "iopub.execute_input": "2022-11-29T00:41:53.610045Z",
     "iopub.status.busy": "2022-11-29T00:41:53.609447Z",
     "iopub.status.idle": "2022-11-29T00:41:53.613806Z",
     "shell.execute_reply": "2022-11-29T00:41:53.614278Z"
    },
    "papermill": {
     "duration": 0.040241,
     "end_time": "2022-11-29T00:41:53.614406",
     "exception": false,
     "start_time": "2022-11-29T00:41:53.574165",
     "status": "completed"
    },
    "tags": []
   },
   "outputs": [],
   "source": [
    "#hide\n",
    "df_table = (pd.DataFrame(dict(Cases = dfc_cases, Deaths = dfc_deaths, PCases = dfp_cases, PDeaths = dfp_deaths))\n",
    "            .sort_values(by = ['Cases','Deaths'], ascending = [False, False])\n",
    "            .reset_index())"
   ]
  },
  {
   "cell_type": "code",
   "execution_count": 13,
   "id": "educational-chancellor",
   "metadata": {
    "execution": {
     "iopub.execute_input": "2022-11-29T00:41:53.690198Z",
     "iopub.status.busy": "2022-11-29T00:41:53.689596Z",
     "iopub.status.idle": "2022-11-29T00:41:53.698207Z",
     "shell.execute_reply": "2022-11-29T00:41:53.697630Z"
    },
    "papermill": {
     "duration": 0.054484,
     "end_time": "2022-11-29T00:41:53.698322",
     "exception": false,
     "start_time": "2022-11-29T00:41:53.643838",
     "status": "completed"
    },
    "tags": []
   },
   "outputs": [
    {
     "data": {
      "text/html": [
       "<div>\n",
       "<style scoped>\n",
       "    .dataframe tbody tr th:only-of-type {\n",
       "        vertical-align: middle;\n",
       "    }\n",
       "\n",
       "    .dataframe tbody tr th {\n",
       "        vertical-align: top;\n",
       "    }\n",
       "\n",
       "    .dataframe thead th {\n",
       "        text-align: right;\n",
       "    }\n",
       "</style>\n",
       "<table border=\"1\" class=\"dataframe\">\n",
       "  <thead>\n",
       "    <tr style=\"text-align: right;\">\n",
       "      <th></th>\n",
       "      <th>Country/Region</th>\n",
       "      <th>Cases</th>\n",
       "      <th>Deaths</th>\n",
       "      <th>PCases</th>\n",
       "      <th>PDeaths</th>\n",
       "      <th>Cases (+)</th>\n",
       "      <th>Deaths (+)</th>\n",
       "      <th>Fatality Rate</th>\n",
       "      <th>Continent</th>\n",
       "    </tr>\n",
       "  </thead>\n",
       "  <tbody>\n",
       "    <tr>\n",
       "      <th>0</th>\n",
       "      <td>US</td>\n",
       "      <td>98568849</td>\n",
       "      <td>1079197</td>\n",
       "      <td>98564494</td>\n",
       "      <td>1079197</td>\n",
       "      <td>4355</td>\n",
       "      <td>0</td>\n",
       "      <td>1.09</td>\n",
       "      <td>North America</td>\n",
       "    </tr>\n",
       "    <tr>\n",
       "      <th>1</th>\n",
       "      <td>India</td>\n",
       "      <td>44673078</td>\n",
       "      <td>530614</td>\n",
       "      <td>44672787</td>\n",
       "      <td>530612</td>\n",
       "      <td>291</td>\n",
       "      <td>2</td>\n",
       "      <td>1.19</td>\n",
       "      <td>Asia</td>\n",
       "    </tr>\n",
       "    <tr>\n",
       "      <th>2</th>\n",
       "      <td>France</td>\n",
       "      <td>37789817</td>\n",
       "      <td>159679</td>\n",
       "      <td>37789817</td>\n",
       "      <td>159679</td>\n",
       "      <td>0</td>\n",
       "      <td>0</td>\n",
       "      <td>0.42</td>\n",
       "      <td>Europe</td>\n",
       "    </tr>\n",
       "    <tr>\n",
       "      <th>3</th>\n",
       "      <td>Germany</td>\n",
       "      <td>36373165</td>\n",
       "      <td>157495</td>\n",
       "      <td>36373164</td>\n",
       "      <td>157495</td>\n",
       "      <td>1</td>\n",
       "      <td>0</td>\n",
       "      <td>0.43</td>\n",
       "      <td>Europe</td>\n",
       "    </tr>\n",
       "    <tr>\n",
       "      <th>4</th>\n",
       "      <td>Brazil</td>\n",
       "      <td>35149503</td>\n",
       "      <td>689442</td>\n",
       "      <td>35149503</td>\n",
       "      <td>689442</td>\n",
       "      <td>0</td>\n",
       "      <td>0</td>\n",
       "      <td>1.96</td>\n",
       "      <td>South America</td>\n",
       "    </tr>\n",
       "  </tbody>\n",
       "</table>\n",
       "</div>"
      ],
      "text/plain": [
       "  Country/Region     Cases   Deaths    PCases  PDeaths  Cases (+)  Deaths (+)  \\\n",
       "0             US  98568849  1079197  98564494  1079197       4355           0   \n",
       "1          India  44673078   530614  44672787   530612        291           2   \n",
       "2         France  37789817   159679  37789817   159679          0           0   \n",
       "3        Germany  36373165   157495  36373164   157495          1           0   \n",
       "4         Brazil  35149503   689442  35149503   689442          0           0   \n",
       "\n",
       "   Fatality Rate      Continent  \n",
       "0           1.09  North America  \n",
       "1           1.19           Asia  \n",
       "2           0.42         Europe  \n",
       "3           0.43         Europe  \n",
       "4           1.96  South America  "
      ]
     },
     "execution_count": 13,
     "metadata": {},
     "output_type": "execute_result"
    }
   ],
   "source": [
    "#hide\n",
    "for c in 'Cases, Deaths'.split(', '):\n",
    "    df_table[f'{c} (+)'] = (df_table[c] - df_table[f'P{c}']).clip(0)\n",
    "    #Clip ça veut dire, les chiffres negatif sont interdit\n",
    "df_table['Fatality Rate'] = (100* df_table['Deaths']/ df_table['Cases']).round(2)\n",
    "df_table['Continent'] = df_table['Country/Region'].map(mapping['map.continent'])\n",
    "df_table.head(5)"
   ]
  },
  {
   "cell_type": "code",
   "execution_count": 14,
   "id": "aboriginal-bulgaria",
   "metadata": {
    "execution": {
     "iopub.execute_input": "2022-11-29T00:41:53.763757Z",
     "iopub.status.busy": "2022-11-29T00:41:53.763178Z",
     "iopub.status.idle": "2022-11-29T00:41:53.765179Z",
     "shell.execute_reply": "2022-11-29T00:41:53.765754Z"
    },
    "papermill": {
     "duration": 0.037482,
     "end_time": "2022-11-29T00:41:53.765878",
     "exception": false,
     "start_time": "2022-11-29T00:41:53.728396",
     "status": "completed"
    },
    "tags": []
   },
   "outputs": [],
   "source": [
    "#hide\n",
    "#delete problematic countries from table\n",
    "df_table = df_table[~df_table['Country/Region'].isin(['Cape Verde', 'Cruise Ship', 'Kosovo'])]"
   ]
  },
  {
   "cell_type": "code",
   "execution_count": 15,
   "id": "fantastic-effect",
   "metadata": {
    "execution": {
     "iopub.execute_input": "2022-11-29T00:41:53.834403Z",
     "iopub.status.busy": "2022-11-29T00:41:53.833804Z",
     "iopub.status.idle": "2022-11-29T00:41:53.851364Z",
     "shell.execute_reply": "2022-11-29T00:41:53.850887Z"
    },
    "papermill": {
     "duration": 0.055565,
     "end_time": "2022-11-29T00:41:53.851477",
     "exception": false,
     "start_time": "2022-11-29T00:41:53.795912",
     "status": "completed"
    },
    "tags": []
   },
   "outputs": [
    {
     "data": {
      "text/html": [
       "<div>\n",
       "<style scoped>\n",
       "    .dataframe tbody tr th:only-of-type {\n",
       "        vertical-align: middle;\n",
       "    }\n",
       "\n",
       "    .dataframe tbody tr th {\n",
       "        vertical-align: top;\n",
       "    }\n",
       "\n",
       "    .dataframe thead th {\n",
       "        text-align: right;\n",
       "    }\n",
       "</style>\n",
       "<table border=\"1\" class=\"dataframe\">\n",
       "  <thead>\n",
       "    <tr style=\"text-align: right;\">\n",
       "      <th></th>\n",
       "      <th>Country/Region</th>\n",
       "      <th>Cases</th>\n",
       "      <th>Deaths</th>\n",
       "      <th>PCases</th>\n",
       "      <th>PDeaths</th>\n",
       "      <th>Cases (+)</th>\n",
       "      <th>Deaths (+)</th>\n",
       "      <th>Fatality Rate</th>\n",
       "      <th>Continent</th>\n",
       "    </tr>\n",
       "  </thead>\n",
       "  <tbody>\n",
       "    <tr>\n",
       "      <th>0</th>\n",
       "      <td>US</td>\n",
       "      <td>98568849</td>\n",
       "      <td>1079197</td>\n",
       "      <td>98564494</td>\n",
       "      <td>1079197</td>\n",
       "      <td>4355</td>\n",
       "      <td>0</td>\n",
       "      <td>1.1</td>\n",
       "      <td>North America</td>\n",
       "    </tr>\n",
       "    <tr>\n",
       "      <th>1</th>\n",
       "      <td>India</td>\n",
       "      <td>44673078</td>\n",
       "      <td>530614</td>\n",
       "      <td>44672787</td>\n",
       "      <td>530612</td>\n",
       "      <td>291</td>\n",
       "      <td>2</td>\n",
       "      <td>1.2</td>\n",
       "      <td>Asia</td>\n",
       "    </tr>\n",
       "    <tr>\n",
       "      <th>2</th>\n",
       "      <td>France</td>\n",
       "      <td>37789817</td>\n",
       "      <td>159679</td>\n",
       "      <td>37789817</td>\n",
       "      <td>159679</td>\n",
       "      <td>0</td>\n",
       "      <td>0</td>\n",
       "      <td>0.4</td>\n",
       "      <td>Europe</td>\n",
       "    </tr>\n",
       "    <tr>\n",
       "      <th>3</th>\n",
       "      <td>Germany</td>\n",
       "      <td>36373165</td>\n",
       "      <td>157495</td>\n",
       "      <td>36373164</td>\n",
       "      <td>157495</td>\n",
       "      <td>1</td>\n",
       "      <td>0</td>\n",
       "      <td>0.4</td>\n",
       "      <td>Europe</td>\n",
       "    </tr>\n",
       "    <tr>\n",
       "      <th>4</th>\n",
       "      <td>Brazil</td>\n",
       "      <td>35149503</td>\n",
       "      <td>689442</td>\n",
       "      <td>35149503</td>\n",
       "      <td>689442</td>\n",
       "      <td>0</td>\n",
       "      <td>0</td>\n",
       "      <td>2.0</td>\n",
       "      <td>South America</td>\n",
       "    </tr>\n",
       "  </tbody>\n",
       "</table>\n",
       "</div>"
      ],
      "text/plain": [
       "  Country/Region     Cases   Deaths    PCases  PDeaths  Cases (+)  Deaths (+)  \\\n",
       "0             US  98568849  1079197  98564494  1079197       4355           0   \n",
       "1          India  44673078   530614  44672787   530612        291           2   \n",
       "2         France  37789817   159679  37789817   159679          0           0   \n",
       "3        Germany  36373165   157495  36373164   157495          1           0   \n",
       "4         Brazil  35149503   689442  35149503   689442          0           0   \n",
       "\n",
       "   Fatality Rate      Continent  \n",
       "0            1.1  North America  \n",
       "1            1.2           Asia  \n",
       "2            0.4         Europe  \n",
       "3            0.4         Europe  \n",
       "4            2.0  South America  "
      ]
     },
     "execution_count": 15,
     "metadata": {},
     "output_type": "execute_result"
    }
   ],
   "source": [
    "#hide\n",
    "df_table = (pd.DataFrame(dict(Cases=dfc_cases, Deaths=dfc_deaths, PCases=dfp_cases, PDeaths=dfp_deaths))\n",
    "             .sort_values(by=['Cases', 'Deaths'], ascending=[False, False])\n",
    "             .reset_index())\n",
    "df_table.rename(columns={'index': 'Country/Region'}, inplace=True)\n",
    "for c in 'Cases, Deaths'.split(', '):\n",
    "    df_table[f'{c} (+)'] = (df_table[c] - df_table[f'P{c}']).clip(0)  # DATA BUG\n",
    "df_table['Fatality Rate'] = (100 * df_table['Deaths'] / df_table['Cases']).round(1)\n",
    "df_table['Continent'] = df_table['Country/Region'].map(mapping['map.continent'])\n",
    "df_table.head(5)"
   ]
  },
  {
   "cell_type": "code",
   "execution_count": 16,
   "id": "fewer-occasion",
   "metadata": {
    "execution": {
     "iopub.execute_input": "2022-11-29T00:41:53.915456Z",
     "iopub.status.busy": "2022-11-29T00:41:53.914873Z",
     "iopub.status.idle": "2022-11-29T00:41:53.920189Z",
     "shell.execute_reply": "2022-11-29T00:41:53.920741Z"
    },
    "papermill": {
     "duration": 0.038707,
     "end_time": "2022-11-29T00:41:53.920864",
     "exception": false,
     "start_time": "2022-11-29T00:41:53.882157",
     "status": "completed"
    },
    "tags": []
   },
   "outputs": [],
   "source": [
    "#hide\n",
    "#delete problematic countries from table\n",
    "df_table = df_table[~df_table['Country/Region'].isin(['Cape Verde', 'Cruise Ship', 'Kosovo'])]"
   ]
  },
  {
   "cell_type": "code",
   "execution_count": 17,
   "id": "related-center",
   "metadata": {
    "execution": {
     "iopub.execute_input": "2022-11-29T00:41:53.998873Z",
     "iopub.status.busy": "2022-11-29T00:41:53.998269Z",
     "iopub.status.idle": "2022-11-29T00:41:54.000979Z",
     "shell.execute_reply": "2022-11-29T00:41:54.000407Z"
    },
    "papermill": {
     "duration": 0.050122,
     "end_time": "2022-11-29T00:41:54.001092",
     "exception": false,
     "start_time": "2022-11-29T00:41:53.950970",
     "status": "completed"
    },
    "tags": []
   },
   "outputs": [],
   "source": [
    "#hide\n",
    "metrics = [df_table.columns[index] for index in [1,2,5,6]]\n",
    "# s_china = df_table[df_table['Country/Region'].eq('China')][metrics].sum().add_prefix('China ')\n",
    "s_us = df_table[df_table['Country/Region'].eq('US')][metrics].sum().add_prefix('US ')\n",
    "s_eu = df_table[df_table['Continent'].eq('Europe')][metrics].sum().add_prefix('EU ')\n",
    "s_ind = df_table[df_table['Country/Region'].eq('India')][metrics].sum().add_prefix('India ')\n",
    "summary = {'updated': pd.to_datetime(dt_today), 'since': pd.to_datetime(dt_yday)}\n",
    "summary = {'updated': pd.to_datetime(dt_today), 'since': pd.to_datetime(dt_yday)}\n",
    "summary = {**summary, **df_table[metrics].sum(), **s_ind, **s_us, **s_eu}"
   ]
  },
  {
   "cell_type": "code",
   "execution_count": 18,
   "id": "engaging-syndrome",
   "metadata": {
    "execution": {
     "iopub.execute_input": "2022-11-29T00:41:54.064999Z",
     "iopub.status.busy": "2022-11-29T00:41:54.064413Z",
     "iopub.status.idle": "2022-11-29T00:41:54.088649Z",
     "shell.execute_reply": "2022-11-29T00:41:54.089144Z"
    },
    "papermill": {
     "duration": 0.057383,
     "end_time": "2022-11-29T00:41:54.089285",
     "exception": false,
     "start_time": "2022-11-29T00:41:54.031902",
     "status": "completed"
    },
    "tags": []
   },
   "outputs": [],
   "source": [
    "#hide\n",
    "dft_ct_new_cases = dft_cases.groupby(COL_REGION)[dt_cols].sum().diff(axis=1).fillna(0).astype(int)"
   ]
  },
  {
   "cell_type": "code",
   "execution_count": 19,
   "id": "neutral-assignment",
   "metadata": {
    "execution": {
     "iopub.execute_input": "2022-11-29T00:41:54.158531Z",
     "iopub.status.busy": "2022-11-29T00:41:54.157924Z",
     "iopub.status.idle": "2022-11-29T00:41:54.159754Z",
     "shell.execute_reply": "2022-11-29T00:41:54.160203Z"
    },
    "papermill": {
     "duration": 0.039775,
     "end_time": "2022-11-29T00:41:54.160331",
     "exception": false,
     "start_time": "2022-11-29T00:41:54.120556",
     "status": "completed"
    },
    "tags": []
   },
   "outputs": [],
   "source": [
    "#hide\n",
    "everydaycases = dft_ct_new_cases.cumsum(axis=1)"
   ]
  },
  {
   "cell_type": "code",
   "execution_count": 20,
   "id": "parliamentary-calgary",
   "metadata": {
    "execution": {
     "iopub.execute_input": "2022-11-29T00:41:54.226355Z",
     "iopub.status.busy": "2022-11-29T00:41:54.225739Z",
     "iopub.status.idle": "2022-11-29T00:41:54.773856Z",
     "shell.execute_reply": "2022-11-29T00:41:54.772783Z"
    },
    "papermill": {
     "duration": 0.583135,
     "end_time": "2022-11-29T00:41:54.774009",
     "exception": false,
     "start_time": "2022-11-29T00:41:54.190874",
     "status": "completed"
    },
    "tags": []
   },
   "outputs": [],
   "source": [
    "#hide\n",
    "import pandas as pd\n",
    "import matplotlib.pyplot as plt\n",
    "import matplotlib.ticker as ticker\n",
    "import matplotlib.animation as animation\n",
    "from IPython.display import HTML"
   ]
  },
  {
   "cell_type": "code",
   "execution_count": 21,
   "id": "lasting-extraction",
   "metadata": {
    "execution": {
     "iopub.execute_input": "2022-11-29T00:41:54.842310Z",
     "iopub.status.busy": "2022-11-29T00:41:54.841719Z",
     "iopub.status.idle": "2022-11-29T00:41:54.850129Z",
     "shell.execute_reply": "2022-11-29T00:41:54.849556Z"
    },
    "papermill": {
     "duration": 0.045108,
     "end_time": "2022-11-29T00:41:54.850245",
     "exception": false,
     "start_time": "2022-11-29T00:41:54.805137",
     "status": "completed"
    },
    "tags": []
   },
   "outputs": [],
   "source": [
    "#hide\n",
    "t = everydaycases.stack()"
   ]
  },
  {
   "cell_type": "code",
   "execution_count": 22,
   "id": "premier-sleeve",
   "metadata": {
    "execution": {
     "iopub.execute_input": "2022-11-29T00:41:54.915739Z",
     "iopub.status.busy": "2022-11-29T00:41:54.915160Z",
     "iopub.status.idle": "2022-11-29T00:41:54.928058Z",
     "shell.execute_reply": "2022-11-29T00:41:54.928505Z"
    },
    "papermill": {
     "duration": 0.047967,
     "end_time": "2022-11-29T00:41:54.928634",
     "exception": false,
     "start_time": "2022-11-29T00:41:54.880667",
     "status": "completed"
    },
    "tags": []
   },
   "outputs": [],
   "source": [
    "#hide\n",
    "g = t.reset_index(['Country/Region'])"
   ]
  },
  {
   "cell_type": "code",
   "execution_count": 23,
   "id": "distributed-pittsburgh",
   "metadata": {
    "execution": {
     "iopub.execute_input": "2022-11-29T00:41:54.994131Z",
     "iopub.status.busy": "2022-11-29T00:41:54.993527Z",
     "iopub.status.idle": "2022-11-29T00:41:54.995827Z",
     "shell.execute_reply": "2022-11-29T00:41:54.996379Z"
    },
    "papermill": {
     "duration": 0.037313,
     "end_time": "2022-11-29T00:41:54.996508",
     "exception": false,
     "start_time": "2022-11-29T00:41:54.959195",
     "status": "completed"
    },
    "tags": []
   },
   "outputs": [],
   "source": [
    "#hide\n",
    "g.index.name = 'date'"
   ]
  },
  {
   "cell_type": "code",
   "execution_count": 24,
   "id": "naked-donor",
   "metadata": {
    "execution": {
     "iopub.execute_input": "2022-11-29T00:41:55.061386Z",
     "iopub.status.busy": "2022-11-29T00:41:55.060756Z",
     "iopub.status.idle": "2022-11-29T00:41:55.063402Z",
     "shell.execute_reply": "2022-11-29T00:41:55.062932Z"
    },
    "papermill": {
     "duration": 0.036641,
     "end_time": "2022-11-29T00:41:55.063510",
     "exception": false,
     "start_time": "2022-11-29T00:41:55.026869",
     "status": "completed"
    },
    "tags": []
   },
   "outputs": [],
   "source": [
    "# #hide\n",
    "# g = g.reset_index(['date'])"
   ]
  },
  {
   "cell_type": "code",
   "execution_count": 25,
   "id": "incomplete-mustang",
   "metadata": {
    "execution": {
     "iopub.execute_input": "2022-11-29T00:41:55.128469Z",
     "iopub.status.busy": "2022-11-29T00:41:55.127776Z",
     "iopub.status.idle": "2022-11-29T00:41:55.130414Z",
     "shell.execute_reply": "2022-11-29T00:41:55.129748Z"
    },
    "papermill": {
     "duration": 0.036616,
     "end_time": "2022-11-29T00:41:55.130543",
     "exception": false,
     "start_time": "2022-11-29T00:41:55.093927",
     "status": "completed"
    },
    "tags": []
   },
   "outputs": [],
   "source": [
    "#hide\n",
    "# g.head()"
   ]
  },
  {
   "cell_type": "code",
   "execution_count": 26,
   "id": "specific-kruger",
   "metadata": {
    "execution": {
     "iopub.execute_input": "2022-11-29T00:41:55.197175Z",
     "iopub.status.busy": "2022-11-29T00:41:55.196583Z",
     "iopub.status.idle": "2022-11-29T00:41:55.198597Z",
     "shell.execute_reply": "2022-11-29T00:41:55.199021Z"
    },
    "papermill": {
     "duration": 0.037613,
     "end_time": "2022-11-29T00:41:55.199153",
     "exception": false,
     "start_time": "2022-11-29T00:41:55.161540",
     "status": "completed"
    },
    "tags": []
   },
   "outputs": [],
   "source": [
    "#hide\n",
    "# g.columns = ['date','country','cases']"
   ]
  },
  {
   "cell_type": "code",
   "execution_count": 27,
   "id": "tender-conversion",
   "metadata": {
    "execution": {
     "iopub.execute_input": "2022-11-29T00:41:55.263736Z",
     "iopub.status.busy": "2022-11-29T00:41:55.263065Z",
     "iopub.status.idle": "2022-11-29T00:41:55.265717Z",
     "shell.execute_reply": "2022-11-29T00:41:55.265041Z"
    },
    "papermill": {
     "duration": 0.036464,
     "end_time": "2022-11-29T00:41:55.265851",
     "exception": false,
     "start_time": "2022-11-29T00:41:55.229387",
     "status": "completed"
    },
    "tags": []
   },
   "outputs": [],
   "source": [
    "#hide\n",
    "# g['continent'] = g.country"
   ]
  },
  {
   "cell_type": "code",
   "execution_count": 28,
   "id": "substantial-wilderness",
   "metadata": {
    "execution": {
     "iopub.execute_input": "2022-11-29T00:41:55.331285Z",
     "iopub.status.busy": "2022-11-29T00:41:55.330587Z",
     "iopub.status.idle": "2022-11-29T00:41:55.332337Z",
     "shell.execute_reply": "2022-11-29T00:41:55.332844Z"
    },
    "papermill": {
     "duration": 0.036419,
     "end_time": "2022-11-29T00:41:55.332990",
     "exception": false,
     "start_time": "2022-11-29T00:41:55.296571",
     "status": "completed"
    },
    "tags": []
   },
   "outputs": [],
   "source": [
    "#hide\n",
    "# cols = list(g.columns.values)"
   ]
  },
  {
   "cell_type": "code",
   "execution_count": 29,
   "id": "solved-farming",
   "metadata": {
    "execution": {
     "iopub.execute_input": "2022-11-29T00:41:55.397472Z",
     "iopub.status.busy": "2022-11-29T00:41:55.396763Z",
     "iopub.status.idle": "2022-11-29T00:41:55.399090Z",
     "shell.execute_reply": "2022-11-29T00:41:55.398532Z"
    },
    "papermill": {
     "duration": 0.035612,
     "end_time": "2022-11-29T00:41:55.399197",
     "exception": false,
     "start_time": "2022-11-29T00:41:55.363585",
     "status": "completed"
    },
    "tags": []
   },
   "outputs": [],
   "source": [
    "#hide\n",
    "# cols.insert(0, cols.pop())"
   ]
  },
  {
   "cell_type": "code",
   "execution_count": 30,
   "id": "executed-adoption",
   "metadata": {
    "execution": {
     "iopub.execute_input": "2022-11-29T00:41:55.462882Z",
     "iopub.status.busy": "2022-11-29T00:41:55.462169Z",
     "iopub.status.idle": "2022-11-29T00:41:55.465185Z",
     "shell.execute_reply": "2022-11-29T00:41:55.465682Z"
    },
    "papermill": {
     "duration": 0.036191,
     "end_time": "2022-11-29T00:41:55.465803",
     "exception": false,
     "start_time": "2022-11-29T00:41:55.429612",
     "status": "completed"
    },
    "tags": []
   },
   "outputs": [],
   "source": [
    "#hide\n",
    "# g = g[cols]"
   ]
  },
  {
   "cell_type": "code",
   "execution_count": 31,
   "id": "subject-dublin",
   "metadata": {
    "execution": {
     "iopub.execute_input": "2022-11-29T00:41:55.530285Z",
     "iopub.status.busy": "2022-11-29T00:41:55.529603Z",
     "iopub.status.idle": "2022-11-29T00:41:55.531986Z",
     "shell.execute_reply": "2022-11-29T00:41:55.531509Z"
    },
    "papermill": {
     "duration": 0.036181,
     "end_time": "2022-11-29T00:41:55.532093",
     "exception": false,
     "start_time": "2022-11-29T00:41:55.495912",
     "status": "completed"
    },
    "tags": []
   },
   "outputs": [],
   "source": [
    "#hide\n",
    "# g['continent'] = g['continent'].map(mapping['map.continent'])"
   ]
  },
  {
   "cell_type": "code",
   "execution_count": 32,
   "id": "freelance-scout",
   "metadata": {
    "execution": {
     "iopub.execute_input": "2022-11-29T00:41:55.596483Z",
     "iopub.status.busy": "2022-11-29T00:41:55.595824Z",
     "iopub.status.idle": "2022-11-29T00:41:55.598341Z",
     "shell.execute_reply": "2022-11-29T00:41:55.597693Z"
    },
    "papermill": {
     "duration": 0.035979,
     "end_time": "2022-11-29T00:41:55.598460",
     "exception": false,
     "start_time": "2022-11-29T00:41:55.562481",
     "status": "completed"
    },
    "tags": []
   },
   "outputs": [],
   "source": [
    "#hide\n",
    "# g.head()"
   ]
  },
  {
   "cell_type": "code",
   "execution_count": 33,
   "id": "limited-engine",
   "metadata": {
    "execution": {
     "iopub.execute_input": "2022-11-29T00:41:55.662691Z",
     "iopub.status.busy": "2022-11-29T00:41:55.662070Z",
     "iopub.status.idle": "2022-11-29T00:41:55.664381Z",
     "shell.execute_reply": "2022-11-29T00:41:55.663820Z"
    },
    "papermill": {
     "duration": 0.035626,
     "end_time": "2022-11-29T00:41:55.664488",
     "exception": false,
     "start_time": "2022-11-29T00:41:55.628862",
     "status": "completed"
    },
    "tags": []
   },
   "outputs": [],
   "source": [
    "# hide\n",
    "# g['date'] = g['date'].astype('datetime64[ns]')"
   ]
  },
  {
   "cell_type": "code",
   "execution_count": 34,
   "id": "sophisticated-supervisor",
   "metadata": {
    "execution": {
     "iopub.execute_input": "2022-11-29T00:41:55.728996Z",
     "iopub.status.busy": "2022-11-29T00:41:55.728417Z",
     "iopub.status.idle": "2022-11-29T00:41:55.730560Z",
     "shell.execute_reply": "2022-11-29T00:41:55.731111Z"
    },
    "papermill": {
     "duration": 0.036259,
     "end_time": "2022-11-29T00:41:55.731232",
     "exception": false,
     "start_time": "2022-11-29T00:41:55.694973",
     "status": "completed"
    },
    "tags": []
   },
   "outputs": [],
   "source": [
    "#hide\n",
    "# g['date'] = g.date.dt.dayofyear"
   ]
  },
  {
   "cell_type": "code",
   "execution_count": 35,
   "id": "inside-dubai",
   "metadata": {
    "execution": {
     "iopub.execute_input": "2022-11-29T00:41:55.795520Z",
     "iopub.status.busy": "2022-11-29T00:41:55.794928Z",
     "iopub.status.idle": "2022-11-29T00:41:55.798312Z",
     "shell.execute_reply": "2022-11-29T00:41:55.798737Z"
    },
    "papermill": {
     "duration": 0.037369,
     "end_time": "2022-11-29T00:41:55.798869",
     "exception": false,
     "start_time": "2022-11-29T00:41:55.761500",
     "status": "completed"
    },
    "tags": []
   },
   "outputs": [],
   "source": [
    "#hide\n",
    "# g = g.rename(columns= {'continent':'group','country':'name','cases':'value'})"
   ]
  },
  {
   "cell_type": "code",
   "execution_count": 36,
   "id": "fleet-motorcycle",
   "metadata": {
    "execution": {
     "iopub.execute_input": "2022-11-29T00:41:55.863009Z",
     "iopub.status.busy": "2022-11-29T00:41:55.862344Z",
     "iopub.status.idle": "2022-11-29T00:41:55.864171Z",
     "shell.execute_reply": "2022-11-29T00:41:55.864679Z"
    },
    "papermill": {
     "duration": 0.035672,
     "end_time": "2022-11-29T00:41:55.864816",
     "exception": false,
     "start_time": "2022-11-29T00:41:55.829144",
     "status": "completed"
    },
    "tags": []
   },
   "outputs": [],
   "source": [
    "#hide\n",
    "# cols = ['name','group','day','value']"
   ]
  },
  {
   "cell_type": "code",
   "execution_count": 37,
   "id": "continued-sleeping",
   "metadata": {
    "execution": {
     "iopub.execute_input": "2022-11-29T00:41:55.929675Z",
     "iopub.status.busy": "2022-11-29T00:41:55.928968Z",
     "iopub.status.idle": "2022-11-29T00:41:55.931447Z",
     "shell.execute_reply": "2022-11-29T00:41:55.930805Z"
    },
    "papermill": {
     "duration": 0.035873,
     "end_time": "2022-11-29T00:41:55.931573",
     "exception": false,
     "start_time": "2022-11-29T00:41:55.895700",
     "status": "completed"
    },
    "tags": []
   },
   "outputs": [],
   "source": [
    "#hide\n",
    "# g.rename(columns= {'date':'day'},inplace = True)"
   ]
  },
  {
   "cell_type": "code",
   "execution_count": 38,
   "id": "major-fight",
   "metadata": {
    "execution": {
     "iopub.execute_input": "2022-11-29T00:41:55.996157Z",
     "iopub.status.busy": "2022-11-29T00:41:55.995480Z",
     "iopub.status.idle": "2022-11-29T00:41:55.997998Z",
     "shell.execute_reply": "2022-11-29T00:41:55.997496Z"
    },
    "papermill": {
     "duration": 0.035655,
     "end_time": "2022-11-29T00:41:55.998103",
     "exception": false,
     "start_time": "2022-11-29T00:41:55.962448",
     "status": "completed"
    },
    "tags": []
   },
   "outputs": [],
   "source": [
    "#hide\n",
    "# g = g[cols]"
   ]
  },
  {
   "cell_type": "code",
   "execution_count": 39,
   "id": "structured-mobile",
   "metadata": {
    "execution": {
     "iopub.execute_input": "2022-11-29T00:41:56.062551Z",
     "iopub.status.busy": "2022-11-29T00:41:56.061959Z",
     "iopub.status.idle": "2022-11-29T00:41:56.064464Z",
     "shell.execute_reply": "2022-11-29T00:41:56.063992Z"
    },
    "papermill": {
     "duration": 0.036308,
     "end_time": "2022-11-29T00:41:56.064571",
     "exception": false,
     "start_time": "2022-11-29T00:41:56.028263",
     "status": "completed"
    },
    "tags": []
   },
   "outputs": [],
   "source": [
    "# #hide\n",
    "# g = g[g.group.notna()]"
   ]
  },
  {
   "cell_type": "code",
   "execution_count": 40,
   "id": "determined-closing",
   "metadata": {
    "execution": {
     "iopub.execute_input": "2022-11-29T00:41:56.128196Z",
     "iopub.status.busy": "2022-11-29T00:41:56.127612Z",
     "iopub.status.idle": "2022-11-29T00:41:56.131064Z",
     "shell.execute_reply": "2022-11-29T00:41:56.131609Z"
    },
    "papermill": {
     "duration": 0.036557,
     "end_time": "2022-11-29T00:41:56.131731",
     "exception": false,
     "start_time": "2022-11-29T00:41:56.095174",
     "status": "completed"
    },
    "tags": []
   },
   "outputs": [],
   "source": [
    "# #hide\n",
    "# colors = dict(zip(\n",
    "#     [\"Oceania\", \"Europe\", \"Asia\", \"South America\", \"Middle East\", \"North America\", \"Africa\"],\n",
    "#     [\"#adb0ff\", \"#ffb3ff\", \"#90d595\", \"#e48381\", \"#aafbff\", \"#f7bb5f\", \"#eafb50\"]\n",
    "# ))\n",
    "# group_lk = g.set_index('name')['group'].to_dict()"
   ]
  },
  {
   "cell_type": "code",
   "execution_count": null,
   "id": "gross-drinking",
   "metadata": {
    "papermill": {
     "duration": 0.030219,
     "end_time": "2022-11-29T00:41:56.192020",
     "exception": false,
     "start_time": "2022-11-29T00:41:56.161801",
     "status": "completed"
    },
    "tags": []
   },
   "outputs": [],
   "source": []
  },
  {
   "cell_type": "code",
   "execution_count": 41,
   "id": "subject-macintosh",
   "metadata": {
    "execution": {
     "iopub.execute_input": "2022-11-29T00:41:56.257677Z",
     "iopub.status.busy": "2022-11-29T00:41:56.256926Z",
     "iopub.status.idle": "2022-11-29T00:41:56.258753Z",
     "shell.execute_reply": "2022-11-29T00:41:56.259292Z"
    },
    "papermill": {
     "duration": 0.037052,
     "end_time": "2022-11-29T00:41:56.259432",
     "exception": false,
     "start_time": "2022-11-29T00:41:56.222380",
     "status": "completed"
    },
    "tags": []
   },
   "outputs": [],
   "source": [
    "# #hide\n",
    "# fig, ax = plt.subplots(figsize=(15, 8))\n",
    "\n",
    "# def draw_barchart(current_day):\n",
    "#     dff = g[g['day'].eq(current_day)].sort_values(by='value', ascending=True).tail(10)\n",
    "#     ax.clear()\n",
    "#     ax.barh(dff['name'], dff['value'], color=[colors[group_lk[x]] for x in dff['name']])\n",
    "#     dx = dff['value'].max() / 200\n",
    "    \n",
    "#     for i, (value, name) in enumerate(zip(dff['value'], dff['name'])):\n",
    "#         ax.text(value-dx, i,     name,           size=14, weight=600, ha='right', va='bottom')\n",
    "#         ax.text(value-dx, i-.25, group_lk[name], size=10, color='#444444', ha='right', va='baseline')\n",
    "#         ax.text(value+dx, i,     f'{value:,.0f}',  size=14, ha='left',  va='center')\n",
    "#     ax.text(1, 0.4, current_day, transform=ax.transAxes, color='#777777', size=46, ha='right', weight=800)\n",
    "#     ax.text(0, 1.06, 'Population (thousands)', transform=ax.transAxes, size=12, color='#777777')\n",
    "#     ax.xaxis.set_major_formatter(ticker.StrMethodFormatter('{x:,.0f}'))\n",
    "#     ax.xaxis.set_ticks_position('top')\n",
    "#     ax.tick_params(axis='x', colors='#777777', labelsize=12)\n",
    "#     ax.set_yticks([])\n",
    "#     ax.margins(0, 0.01)\n",
    "#     ax.grid(which='major', axis='x', linestyle='-')\n",
    "#     ax.set_axisbelow(True)\n",
    "    \n",
    "#     ax.text(0, 1.15, 'Coronavirus',\n",
    "#             transform=ax.transAxes, size=24, weight=600, ha='left', va='top')\n",
    "# #     ax.text(1, 0, 'by @pratapvardhan; credit @jburnmurdoch', transform=ax.transAxes, color='#777777', ha='right',\n",
    "# #             bbox=dict(facecolor='white', alpha=0.8, edgecolor='white'))\n",
    "#     plt.box(False)"
   ]
  },
  {
   "cell_type": "code",
   "execution_count": 42,
   "id": "sexual-wages",
   "metadata": {
    "execution": {
     "iopub.execute_input": "2022-11-29T00:41:56.323923Z",
     "iopub.status.busy": "2022-11-29T00:41:56.323317Z",
     "iopub.status.idle": "2022-11-29T00:41:56.326858Z",
     "shell.execute_reply": "2022-11-29T00:41:56.327281Z"
    },
    "papermill": {
     "duration": 0.037322,
     "end_time": "2022-11-29T00:41:56.327407",
     "exception": false,
     "start_time": "2022-11-29T00:41:56.290085",
     "status": "completed"
    },
    "tags": []
   },
   "outputs": [],
   "source": [
    "# #hide_input\n",
    "# fig, ax = plt.subplots(figsize=(15, 8))\n",
    "# animator = animation.FuncAnimation(fig, draw_barchart, frames=range(g.day.values.min(), g.day.values.max()))\n",
    "# HTML(animator.to_jshtml())\n",
    "# # or use animator.to_html5_video() or animator.save() "
   ]
  },
  {
   "cell_type": "code",
   "execution_count": null,
   "id": "australian-container",
   "metadata": {
    "papermill": {
     "duration": 0.030199,
     "end_time": "2022-11-29T00:41:56.388029",
     "exception": false,
     "start_time": "2022-11-29T00:41:56.357830",
     "status": "completed"
    },
    "tags": []
   },
   "outputs": [],
   "source": []
  },
  {
   "cell_type": "code",
   "execution_count": null,
   "id": "mediterranean-pontiac",
   "metadata": {
    "papermill": {
     "duration": 0.030419,
     "end_time": "2022-11-29T00:41:56.448781",
     "exception": false,
     "start_time": "2022-11-29T00:41:56.418362",
     "status": "completed"
    },
    "tags": []
   },
   "outputs": [],
   "source": []
  },
  {
   "cell_type": "code",
   "execution_count": null,
   "id": "aging-legislature",
   "metadata": {
    "papermill": {
     "duration": 0.030162,
     "end_time": "2022-11-29T00:41:56.509467",
     "exception": false,
     "start_time": "2022-11-29T00:41:56.479305",
     "status": "completed"
    },
    "tags": []
   },
   "outputs": [],
   "source": []
  }
 ],
 "metadata": {
  "kernelspec": {
   "display_name": "Python 3",
   "language": "python",
   "name": "python3"
  },
  "language_info": {
   "codemirror_mode": {
    "name": "ipython",
    "version": 3
   },
   "file_extension": ".py",
   "mimetype": "text/x-python",
   "name": "python",
   "nbconvert_exporter": "python",
   "pygments_lexer": "ipython3",
   "version": "3.6.15"
  },
  "papermill": {
   "duration": 6.11999,
   "end_time": "2022-11-29T00:41:56.858373",
   "environment_variables": {},
   "exception": null,
   "input_path": "2020-03-21-covid19exp.ipynb",
   "output_path": "2020-03-21-covid19exp.ipynb",
   "parameters": {},
   "start_time": "2022-11-29T00:41:50.738383",
   "version": "2.0.0"
  }
 },
 "nbformat": 4,
 "nbformat_minor": 5
}