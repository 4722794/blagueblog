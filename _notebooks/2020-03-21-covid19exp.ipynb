{
 "cells": [
  {
   "cell_type": "markdown",
   "id": "muslim-click",
   "metadata": {
    "papermill": {
     "duration": 0.039656,
     "end_time": "2022-03-21T00:33:35.951941",
     "exception": false,
     "start_time": "2022-03-21T00:33:35.912285",
     "status": "completed"
    },
    "tags": []
   },
   "source": [
    "# COVID-19 Case Race\n",
    "> A race chart to see rising cases around the world\n",
    "\n",
    "- author: Hargun Oberoi\n",
    "- image: images/covid-overview.png\n",
    "- hide: false\n",
    "- badges: false"
   ]
  },
  {
   "cell_type": "code",
   "execution_count": 1,
   "id": "proof-material",
   "metadata": {
    "execution": {
     "iopub.execute_input": "2022-03-21T00:33:36.031897Z",
     "iopub.status.busy": "2022-03-21T00:33:36.031273Z",
     "iopub.status.idle": "2022-03-21T00:33:36.403864Z",
     "shell.execute_reply": "2022-03-21T00:33:36.403309Z"
    },
    "papermill": {
     "duration": 0.416421,
     "end_time": "2022-03-21T00:33:36.404024",
     "exception": false,
     "start_time": "2022-03-21T00:33:35.987603",
     "status": "completed"
    },
    "tags": []
   },
   "outputs": [],
   "source": [
    "#hide\n",
    "import numpy as np\n",
    "import pandas as pd\n",
    "from jinja2 import Template\n",
    "from IPython.display import HTML"
   ]
  },
  {
   "cell_type": "code",
   "execution_count": 2,
   "id": "developed-terminology",
   "metadata": {
    "execution": {
     "iopub.execute_input": "2022-03-21T00:33:36.475563Z",
     "iopub.status.busy": "2022-03-21T00:33:36.474938Z",
     "iopub.status.idle": "2022-03-21T00:33:36.478395Z",
     "shell.execute_reply": "2022-03-21T00:33:36.478842Z"
    },
    "papermill": {
     "duration": 0.042086,
     "end_time": "2022-03-21T00:33:36.478988",
     "exception": false,
     "start_time": "2022-03-21T00:33:36.436902",
     "status": "completed"
    },
    "tags": []
   },
   "outputs": [],
   "source": [
    "#hide\n",
    "\n",
    "# FETCH\n",
    "base_url = 'https://raw.githubusercontent.com/pratapvardhan/notebooks/master/covid19/'\n",
    "paths = {\n",
    "    'mapping': base_url + 'mapping_countries.csv',\n",
    "    'overview': base_url + 'overview.tpl'\n",
    "}"
   ]
  },
  {
   "cell_type": "code",
   "execution_count": 3,
   "id": "dynamic-saver",
   "metadata": {
    "execution": {
     "iopub.execute_input": "2022-03-21T00:33:36.556061Z",
     "iopub.status.busy": "2022-03-21T00:33:36.553447Z",
     "iopub.status.idle": "2022-03-21T00:33:36.559240Z",
     "shell.execute_reply": "2022-03-21T00:33:36.558748Z"
    },
    "papermill": {
     "duration": 0.048704,
     "end_time": "2022-03-21T00:33:36.560720",
     "exception": false,
     "start_time": "2022-03-21T00:33:36.512016",
     "status": "completed"
    },
    "tags": []
   },
   "outputs": [
    {
     "data": {
      "text/plain": [
       "'https://raw.githubusercontent.com/pratapvardhan/notebooks/master/covid19/mapping_countries.csv'"
      ]
     },
     "execution_count": 3,
     "metadata": {},
     "output_type": "execute_result"
    }
   ],
   "source": [
    "#hide\n",
    "paths['mapping']"
   ]
  },
  {
   "cell_type": "code",
   "execution_count": 4,
   "id": "urban-software",
   "metadata": {
    "execution": {
     "iopub.execute_input": "2022-03-21T00:33:36.640988Z",
     "iopub.status.busy": "2022-03-21T00:33:36.640261Z",
     "iopub.status.idle": "2022-03-21T00:33:36.644631Z",
     "shell.execute_reply": "2022-03-21T00:33:36.644188Z"
    },
    "papermill": {
     "duration": 0.046553,
     "end_time": "2022-03-21T00:33:36.644763",
     "exception": false,
     "start_time": "2022-03-21T00:33:36.598210",
     "status": "completed"
    },
    "tags": []
   },
   "outputs": [],
   "source": [
    "#hide\n",
    "def get_mappings(url):\n",
    "    df = pd.read_csv(url)\n",
    "    return {\n",
    "        'df': df,\n",
    "        'replace.country': dict(df.dropna(subset=['Name']).set_index('Country')['Name']),\n",
    "        'map.continent': dict(df.set_index('Name')['Continent'])\n",
    "    }"
   ]
  },
  {
   "cell_type": "code",
   "execution_count": 5,
   "id": "intimate-machinery",
   "metadata": {
    "execution": {
     "iopub.execute_input": "2022-03-21T00:33:36.718724Z",
     "iopub.status.busy": "2022-03-21T00:33:36.718117Z",
     "iopub.status.idle": "2022-03-21T00:33:36.748743Z",
     "shell.execute_reply": "2022-03-21T00:33:36.748153Z"
    },
    "papermill": {
     "duration": 0.070501,
     "end_time": "2022-03-21T00:33:36.748898",
     "exception": false,
     "start_time": "2022-03-21T00:33:36.678397",
     "status": "completed"
    },
    "tags": []
   },
   "outputs": [],
   "source": [
    "#hide\n",
    "mapping = get_mappings(paths['mapping'])"
   ]
  },
  {
   "cell_type": "code",
   "execution_count": 6,
   "id": "certified-tactics",
   "metadata": {
    "execution": {
     "iopub.execute_input": "2022-03-21T00:33:36.824593Z",
     "iopub.status.busy": "2022-03-21T00:33:36.823850Z",
     "iopub.status.idle": "2022-03-21T00:33:36.826931Z",
     "shell.execute_reply": "2022-03-21T00:33:36.826458Z"
    },
    "papermill": {
     "duration": 0.043263,
     "end_time": "2022-03-21T00:33:36.827063",
     "exception": false,
     "start_time": "2022-03-21T00:33:36.783800",
     "status": "completed"
    },
    "tags": []
   },
   "outputs": [],
   "source": [
    "#hide\n",
    "def get_template(path):\n",
    "    from urllib.parse import urlparse\n",
    "    if bool(urlparse(path).netloc):\n",
    "        from urllib.request import urlopen\n",
    "        return urlopen(path).read().decode('utf8')\n",
    "    return open(path).read()"
   ]
  },
  {
   "cell_type": "code",
   "execution_count": 7,
   "id": "realistic-blast",
   "metadata": {
    "execution": {
     "iopub.execute_input": "2022-03-21T00:33:36.900779Z",
     "iopub.status.busy": "2022-03-21T00:33:36.900169Z",
     "iopub.status.idle": "2022-03-21T00:33:36.901684Z",
     "shell.execute_reply": "2022-03-21T00:33:36.902267Z"
    },
    "papermill": {
     "duration": 0.041317,
     "end_time": "2022-03-21T00:33:36.902412",
     "exception": false,
     "start_time": "2022-03-21T00:33:36.861095",
     "status": "completed"
    },
    "tags": []
   },
   "outputs": [],
   "source": [
    "#hide\n",
    "def get_frame(name):\n",
    "    url = (\n",
    "        'https://raw.githubusercontent.com/CSSEGISandData/COVID-19/master/csse_covid_19_data/'\n",
    "        f'csse_covid_19_time_series/time_series_covid19_{name}_global.csv')\n",
    "    df = pd.read_csv(url)\n",
    "    # rename countries\n",
    "    df['Country/Region'] = df['Country/Region'].replace(mapping['replace.country'])\n",
    "    return df"
   ]
  },
  {
   "cell_type": "code",
   "execution_count": 8,
   "id": "affiliated-characterization",
   "metadata": {
    "execution": {
     "iopub.execute_input": "2022-03-21T00:33:36.977561Z",
     "iopub.status.busy": "2022-03-21T00:33:36.976924Z",
     "iopub.status.idle": "2022-03-21T00:33:36.979212Z",
     "shell.execute_reply": "2022-03-21T00:33:36.978700Z"
    },
    "papermill": {
     "duration": 0.04253,
     "end_time": "2022-03-21T00:33:36.979339",
     "exception": false,
     "start_time": "2022-03-21T00:33:36.936809",
     "status": "completed"
    },
    "tags": []
   },
   "outputs": [],
   "source": [
    "#hide\n",
    "def get_dates(df):\n",
    "    dt_cols = df.columns[~df.columns.isin(['Province/State', 'Country/Region', 'Lat', 'Long'])]\n",
    "    LAST_DATE_I = -1\n",
    "    # sometimes last column may be empty, then go backwards\n",
    "    for i in range(-1, -len(dt_cols), -1):\n",
    "        if not df[dt_cols[i]].fillna(0).eq(0).all():\n",
    "            LAST_DATE_I = i\n",
    "            break\n",
    "    return LAST_DATE_I, dt_cols"
   ]
  },
  {
   "cell_type": "code",
   "execution_count": 9,
   "id": "recent-optimization",
   "metadata": {
    "execution": {
     "iopub.execute_input": "2022-03-21T00:33:37.052258Z",
     "iopub.status.busy": "2022-03-21T00:33:37.051659Z",
     "iopub.status.idle": "2022-03-21T00:33:37.432810Z",
     "shell.execute_reply": "2022-03-21T00:33:37.432264Z"
    },
    "papermill": {
     "duration": 0.419708,
     "end_time": "2022-03-21T00:33:37.432954",
     "exception": false,
     "start_time": "2022-03-21T00:33:37.013246",
     "status": "completed"
    },
    "tags": []
   },
   "outputs": [],
   "source": [
    "#hide\n",
    "COL_REGION = 'Country/Region'\n",
    "# Confirmed, Recovered, Deaths\n",
    "df = get_frame('confirmed')\n",
    "# dft_: timeseries, dfc_: today country agg\n",
    "dft_cases = df\n",
    "dft_deaths = get_frame('deaths')\n",
    "dft_recovered = get_frame('recovered')\n",
    "LAST_DATE_I, dt_cols = get_dates(df)"
   ]
  },
  {
   "cell_type": "code",
   "execution_count": 10,
   "id": "absolute-copper",
   "metadata": {
    "execution": {
     "iopub.execute_input": "2022-03-21T00:33:37.510749Z",
     "iopub.status.busy": "2022-03-21T00:33:37.510187Z",
     "iopub.status.idle": "2022-03-21T00:33:37.513116Z",
     "shell.execute_reply": "2022-03-21T00:33:37.512621Z"
    },
    "papermill": {
     "duration": 0.044091,
     "end_time": "2022-03-21T00:33:37.513246",
     "exception": false,
     "start_time": "2022-03-21T00:33:37.469155",
     "status": "completed"
    },
    "tags": []
   },
   "outputs": [],
   "source": [
    "#hide\n",
    "LAST_DATE_I, dt_cols = get_dates(df)\n",
    "dt_today =dt_cols[LAST_DATE_I]\n",
    "# dt_5day = dt_cols[LAST_DATE_I - 5]\n",
    "dt_yday = dt_cols[LAST_DATE_I - 1]"
   ]
  },
  {
   "cell_type": "code",
   "execution_count": 11,
   "id": "restricted-sheriff",
   "metadata": {
    "execution": {
     "iopub.execute_input": "2022-03-21T00:33:37.592869Z",
     "iopub.status.busy": "2022-03-21T00:33:37.592266Z",
     "iopub.status.idle": "2022-03-21T00:33:37.600265Z",
     "shell.execute_reply": "2022-03-21T00:33:37.599764Z"
    },
    "papermill": {
     "duration": 0.04924,
     "end_time": "2022-03-21T00:33:37.600391",
     "exception": false,
     "start_time": "2022-03-21T00:33:37.551151",
     "status": "completed"
    },
    "tags": []
   },
   "outputs": [],
   "source": [
    "#hide\n",
    "dfc_cases = dft_cases.groupby(COL_REGION)[dt_today].sum()\n",
    "dfc_deaths = dft_deaths.groupby(COL_REGION)[dt_today].sum()\n",
    "# dfp_cases = dft_cases.groupby(COL_REGION)[dt_5day].sum()\n",
    "# dfp_deaths = dft_deaths.groupby(COL_REGION)[dt_5day].sum()\n",
    "dfp_cases = dft_cases.groupby(COL_REGION)[dt_yday].sum()\n",
    "dfp_deaths = dft_deaths.groupby(COL_REGION)[dt_yday].sum()"
   ]
  },
  {
   "cell_type": "code",
   "execution_count": 12,
   "id": "deluxe-hepatitis",
   "metadata": {
    "execution": {
     "iopub.execute_input": "2022-03-21T00:33:37.674769Z",
     "iopub.status.busy": "2022-03-21T00:33:37.674070Z",
     "iopub.status.idle": "2022-03-21T00:33:37.679726Z",
     "shell.execute_reply": "2022-03-21T00:33:37.679198Z"
    },
    "papermill": {
     "duration": 0.045368,
     "end_time": "2022-03-21T00:33:37.679858",
     "exception": false,
     "start_time": "2022-03-21T00:33:37.634490",
     "status": "completed"
    },
    "tags": []
   },
   "outputs": [],
   "source": [
    "#hide\n",
    "df_table = (pd.DataFrame(dict(Cases = dfc_cases, Deaths = dfc_deaths, PCases = dfp_cases, PDeaths = dfp_deaths))\n",
    "            .sort_values(by = ['Cases','Deaths'], ascending = [False, False])\n",
    "            .reset_index())"
   ]
  },
  {
   "cell_type": "code",
   "execution_count": 13,
   "id": "educational-chancellor",
   "metadata": {
    "execution": {
     "iopub.execute_input": "2022-03-21T00:33:37.767679Z",
     "iopub.status.busy": "2022-03-21T00:33:37.767038Z",
     "iopub.status.idle": "2022-03-21T00:33:37.775757Z",
     "shell.execute_reply": "2022-03-21T00:33:37.775271Z"
    },
    "papermill": {
     "duration": 0.062326,
     "end_time": "2022-03-21T00:33:37.775890",
     "exception": false,
     "start_time": "2022-03-21T00:33:37.713564",
     "status": "completed"
    },
    "tags": []
   },
   "outputs": [
    {
     "data": {
      "text/html": [
       "<div>\n",
       "<style scoped>\n",
       "    .dataframe tbody tr th:only-of-type {\n",
       "        vertical-align: middle;\n",
       "    }\n",
       "\n",
       "    .dataframe tbody tr th {\n",
       "        vertical-align: top;\n",
       "    }\n",
       "\n",
       "    .dataframe thead th {\n",
       "        text-align: right;\n",
       "    }\n",
       "</style>\n",
       "<table border=\"1\" class=\"dataframe\">\n",
       "  <thead>\n",
       "    <tr style=\"text-align: right;\">\n",
       "      <th></th>\n",
       "      <th>Country/Region</th>\n",
       "      <th>Cases</th>\n",
       "      <th>Deaths</th>\n",
       "      <th>PCases</th>\n",
       "      <th>PDeaths</th>\n",
       "      <th>Cases (+)</th>\n",
       "      <th>Deaths (+)</th>\n",
       "      <th>Fatality Rate</th>\n",
       "      <th>Continent</th>\n",
       "    </tr>\n",
       "  </thead>\n",
       "  <tbody>\n",
       "    <tr>\n",
       "      <th>0</th>\n",
       "      <td>US</td>\n",
       "      <td>79728165</td>\n",
       "      <td>971087</td>\n",
       "      <td>79717247</td>\n",
       "      <td>970806</td>\n",
       "      <td>10918</td>\n",
       "      <td>281</td>\n",
       "      <td>1.22</td>\n",
       "      <td>North America</td>\n",
       "    </tr>\n",
       "    <tr>\n",
       "      <th>1</th>\n",
       "      <td>India</td>\n",
       "      <td>43007841</td>\n",
       "      <td>516479</td>\n",
       "      <td>43006080</td>\n",
       "      <td>516352</td>\n",
       "      <td>1761</td>\n",
       "      <td>127</td>\n",
       "      <td>1.20</td>\n",
       "      <td>Asia</td>\n",
       "    </tr>\n",
       "    <tr>\n",
       "      <th>2</th>\n",
       "      <td>Brazil</td>\n",
       "      <td>29624435</td>\n",
       "      <td>657389</td>\n",
       "      <td>29584800</td>\n",
       "      <td>657098</td>\n",
       "      <td>39635</td>\n",
       "      <td>291</td>\n",
       "      <td>2.22</td>\n",
       "      <td>South America</td>\n",
       "    </tr>\n",
       "    <tr>\n",
       "      <th>3</th>\n",
       "      <td>France</td>\n",
       "      <td>24241956</td>\n",
       "      <td>141931</td>\n",
       "      <td>24143852</td>\n",
       "      <td>141869</td>\n",
       "      <td>98104</td>\n",
       "      <td>62</td>\n",
       "      <td>0.59</td>\n",
       "      <td>Europe</td>\n",
       "    </tr>\n",
       "    <tr>\n",
       "      <th>4</th>\n",
       "      <td>United Kingdom</td>\n",
       "      <td>20243940</td>\n",
       "      <td>164099</td>\n",
       "      <td>20243940</td>\n",
       "      <td>164099</td>\n",
       "      <td>0</td>\n",
       "      <td>0</td>\n",
       "      <td>0.81</td>\n",
       "      <td>Europe</td>\n",
       "    </tr>\n",
       "  </tbody>\n",
       "</table>\n",
       "</div>"
      ],
      "text/plain": [
       "   Country/Region     Cases  Deaths    PCases  PDeaths  Cases (+)  Deaths (+)  \\\n",
       "0              US  79728165  971087  79717247   970806      10918         281   \n",
       "1           India  43007841  516479  43006080   516352       1761         127   \n",
       "2          Brazil  29624435  657389  29584800   657098      39635         291   \n",
       "3          France  24241956  141931  24143852   141869      98104          62   \n",
       "4  United Kingdom  20243940  164099  20243940   164099          0           0   \n",
       "\n",
       "   Fatality Rate      Continent  \n",
       "0           1.22  North America  \n",
       "1           1.20           Asia  \n",
       "2           2.22  South America  \n",
       "3           0.59         Europe  \n",
       "4           0.81         Europe  "
      ]
     },
     "execution_count": 13,
     "metadata": {},
     "output_type": "execute_result"
    }
   ],
   "source": [
    "#hide\n",
    "for c in 'Cases, Deaths'.split(', '):\n",
    "    df_table[f'{c} (+)'] = (df_table[c] - df_table[f'P{c}']).clip(0)\n",
    "    #Clip ça veut dire, les chiffres negatif sont interdit\n",
    "df_table['Fatality Rate'] = (100* df_table['Deaths']/ df_table['Cases']).round(2)\n",
    "df_table['Continent'] = df_table['Country/Region'].map(mapping['map.continent'])\n",
    "df_table.head(5)"
   ]
  },
  {
   "cell_type": "code",
   "execution_count": 14,
   "id": "aboriginal-bulgaria",
   "metadata": {
    "execution": {
     "iopub.execute_input": "2022-03-21T00:33:37.850425Z",
     "iopub.status.busy": "2022-03-21T00:33:37.849815Z",
     "iopub.status.idle": "2022-03-21T00:33:37.852131Z",
     "shell.execute_reply": "2022-03-21T00:33:37.852683Z"
    },
    "papermill": {
     "duration": 0.042842,
     "end_time": "2022-03-21T00:33:37.852822",
     "exception": false,
     "start_time": "2022-03-21T00:33:37.809980",
     "status": "completed"
    },
    "tags": []
   },
   "outputs": [],
   "source": [
    "#hide\n",
    "#delete problematic countries from table\n",
    "df_table = df_table[~df_table['Country/Region'].isin(['Cape Verde', 'Cruise Ship', 'Kosovo'])]"
   ]
  },
  {
   "cell_type": "code",
   "execution_count": 15,
   "id": "fantastic-effect",
   "metadata": {
    "execution": {
     "iopub.execute_input": "2022-03-21T00:33:37.930456Z",
     "iopub.status.busy": "2022-03-21T00:33:37.929837Z",
     "iopub.status.idle": "2022-03-21T00:33:37.949680Z",
     "shell.execute_reply": "2022-03-21T00:33:37.949069Z"
    },
    "papermill": {
     "duration": 0.062811,
     "end_time": "2022-03-21T00:33:37.949856",
     "exception": false,
     "start_time": "2022-03-21T00:33:37.887045",
     "status": "completed"
    },
    "tags": []
   },
   "outputs": [
    {
     "data": {
      "text/html": [
       "<div>\n",
       "<style scoped>\n",
       "    .dataframe tbody tr th:only-of-type {\n",
       "        vertical-align: middle;\n",
       "    }\n",
       "\n",
       "    .dataframe tbody tr th {\n",
       "        vertical-align: top;\n",
       "    }\n",
       "\n",
       "    .dataframe thead th {\n",
       "        text-align: right;\n",
       "    }\n",
       "</style>\n",
       "<table border=\"1\" class=\"dataframe\">\n",
       "  <thead>\n",
       "    <tr style=\"text-align: right;\">\n",
       "      <th></th>\n",
       "      <th>Country/Region</th>\n",
       "      <th>Cases</th>\n",
       "      <th>Deaths</th>\n",
       "      <th>PCases</th>\n",
       "      <th>PDeaths</th>\n",
       "      <th>Cases (+)</th>\n",
       "      <th>Deaths (+)</th>\n",
       "      <th>Fatality Rate</th>\n",
       "      <th>Continent</th>\n",
       "    </tr>\n",
       "  </thead>\n",
       "  <tbody>\n",
       "    <tr>\n",
       "      <th>0</th>\n",
       "      <td>US</td>\n",
       "      <td>79728165</td>\n",
       "      <td>971087</td>\n",
       "      <td>79717247</td>\n",
       "      <td>970806</td>\n",
       "      <td>10918</td>\n",
       "      <td>281</td>\n",
       "      <td>1.2</td>\n",
       "      <td>North America</td>\n",
       "    </tr>\n",
       "    <tr>\n",
       "      <th>1</th>\n",
       "      <td>India</td>\n",
       "      <td>43007841</td>\n",
       "      <td>516479</td>\n",
       "      <td>43006080</td>\n",
       "      <td>516352</td>\n",
       "      <td>1761</td>\n",
       "      <td>127</td>\n",
       "      <td>1.2</td>\n",
       "      <td>Asia</td>\n",
       "    </tr>\n",
       "    <tr>\n",
       "      <th>2</th>\n",
       "      <td>Brazil</td>\n",
       "      <td>29624435</td>\n",
       "      <td>657389</td>\n",
       "      <td>29584800</td>\n",
       "      <td>657098</td>\n",
       "      <td>39635</td>\n",
       "      <td>291</td>\n",
       "      <td>2.2</td>\n",
       "      <td>South America</td>\n",
       "    </tr>\n",
       "    <tr>\n",
       "      <th>3</th>\n",
       "      <td>France</td>\n",
       "      <td>24241956</td>\n",
       "      <td>141931</td>\n",
       "      <td>24143852</td>\n",
       "      <td>141869</td>\n",
       "      <td>98104</td>\n",
       "      <td>62</td>\n",
       "      <td>0.6</td>\n",
       "      <td>Europe</td>\n",
       "    </tr>\n",
       "    <tr>\n",
       "      <th>4</th>\n",
       "      <td>United Kingdom</td>\n",
       "      <td>20243940</td>\n",
       "      <td>164099</td>\n",
       "      <td>20243940</td>\n",
       "      <td>164099</td>\n",
       "      <td>0</td>\n",
       "      <td>0</td>\n",
       "      <td>0.8</td>\n",
       "      <td>Europe</td>\n",
       "    </tr>\n",
       "  </tbody>\n",
       "</table>\n",
       "</div>"
      ],
      "text/plain": [
       "   Country/Region     Cases  Deaths    PCases  PDeaths  Cases (+)  Deaths (+)  \\\n",
       "0              US  79728165  971087  79717247   970806      10918         281   \n",
       "1           India  43007841  516479  43006080   516352       1761         127   \n",
       "2          Brazil  29624435  657389  29584800   657098      39635         291   \n",
       "3          France  24241956  141931  24143852   141869      98104          62   \n",
       "4  United Kingdom  20243940  164099  20243940   164099          0           0   \n",
       "\n",
       "   Fatality Rate      Continent  \n",
       "0            1.2  North America  \n",
       "1            1.2           Asia  \n",
       "2            2.2  South America  \n",
       "3            0.6         Europe  \n",
       "4            0.8         Europe  "
      ]
     },
     "execution_count": 15,
     "metadata": {},
     "output_type": "execute_result"
    }
   ],
   "source": [
    "#hide\n",
    "df_table = (pd.DataFrame(dict(Cases=dfc_cases, Deaths=dfc_deaths, PCases=dfp_cases, PDeaths=dfp_deaths))\n",
    "             .sort_values(by=['Cases', 'Deaths'], ascending=[False, False])\n",
    "             .reset_index())\n",
    "df_table.rename(columns={'index': 'Country/Region'}, inplace=True)\n",
    "for c in 'Cases, Deaths'.split(', '):\n",
    "    df_table[f'{c} (+)'] = (df_table[c] - df_table[f'P{c}']).clip(0)  # DATA BUG\n",
    "df_table['Fatality Rate'] = (100 * df_table['Deaths'] / df_table['Cases']).round(1)\n",
    "df_table['Continent'] = df_table['Country/Region'].map(mapping['map.continent'])\n",
    "df_table.head(5)"
   ]
  },
  {
   "cell_type": "code",
   "execution_count": 16,
   "id": "fewer-occasion",
   "metadata": {
    "execution": {
     "iopub.execute_input": "2022-03-21T00:33:38.027738Z",
     "iopub.status.busy": "2022-03-21T00:33:38.027123Z",
     "iopub.status.idle": "2022-03-21T00:33:38.029553Z",
     "shell.execute_reply": "2022-03-21T00:33:38.030036Z"
    },
    "papermill": {
     "duration": 0.04404,
     "end_time": "2022-03-21T00:33:38.030190",
     "exception": false,
     "start_time": "2022-03-21T00:33:37.986150",
     "status": "completed"
    },
    "tags": []
   },
   "outputs": [],
   "source": [
    "#hide\n",
    "#delete problematic countries from table\n",
    "df_table = df_table[~df_table['Country/Region'].isin(['Cape Verde', 'Cruise Ship', 'Kosovo'])]"
   ]
  },
  {
   "cell_type": "code",
   "execution_count": 17,
   "id": "related-center",
   "metadata": {
    "execution": {
     "iopub.execute_input": "2022-03-21T00:33:38.119977Z",
     "iopub.status.busy": "2022-03-21T00:33:38.119326Z",
     "iopub.status.idle": "2022-03-21T00:33:38.121144Z",
     "shell.execute_reply": "2022-03-21T00:33:38.121580Z"
    },
    "papermill": {
     "duration": 0.056978,
     "end_time": "2022-03-21T00:33:38.121760",
     "exception": false,
     "start_time": "2022-03-21T00:33:38.064782",
     "status": "completed"
    },
    "tags": []
   },
   "outputs": [],
   "source": [
    "#hide\n",
    "metrics = [df_table.columns[index] for index in [1,2,5,6]]\n",
    "# s_china = df_table[df_table['Country/Region'].eq('China')][metrics].sum().add_prefix('China ')\n",
    "s_us = df_table[df_table['Country/Region'].eq('US')][metrics].sum().add_prefix('US ')\n",
    "s_eu = df_table[df_table['Continent'].eq('Europe')][metrics].sum().add_prefix('EU ')\n",
    "s_ind = df_table[df_table['Country/Region'].eq('India')][metrics].sum().add_prefix('India ')\n",
    "summary = {'updated': pd.to_datetime(dt_today), 'since': pd.to_datetime(dt_yday)}\n",
    "summary = {'updated': pd.to_datetime(dt_today), 'since': pd.to_datetime(dt_yday)}\n",
    "summary = {**summary, **df_table[metrics].sum(), **s_ind, **s_us, **s_eu}"
   ]
  },
  {
   "cell_type": "code",
   "execution_count": 18,
   "id": "engaging-syndrome",
   "metadata": {
    "execution": {
     "iopub.execute_input": "2022-03-21T00:33:38.197673Z",
     "iopub.status.busy": "2022-03-21T00:33:38.197076Z",
     "iopub.status.idle": "2022-03-21T00:33:38.217177Z",
     "shell.execute_reply": "2022-03-21T00:33:38.216688Z"
    },
    "papermill": {
     "duration": 0.060368,
     "end_time": "2022-03-21T00:33:38.217339",
     "exception": false,
     "start_time": "2022-03-21T00:33:38.156971",
     "status": "completed"
    },
    "tags": []
   },
   "outputs": [],
   "source": [
    "#hide\n",
    "dft_ct_new_cases = dft_cases.groupby(COL_REGION)[dt_cols].sum().diff(axis=1).fillna(0).astype(int)"
   ]
  },
  {
   "cell_type": "code",
   "execution_count": 19,
   "id": "neutral-assignment",
   "metadata": {
    "execution": {
     "iopub.execute_input": "2022-03-21T00:33:38.293323Z",
     "iopub.status.busy": "2022-03-21T00:33:38.292694Z",
     "iopub.status.idle": "2022-03-21T00:33:38.294957Z",
     "shell.execute_reply": "2022-03-21T00:33:38.294374Z"
    },
    "papermill": {
     "duration": 0.043281,
     "end_time": "2022-03-21T00:33:38.295080",
     "exception": false,
     "start_time": "2022-03-21T00:33:38.251799",
     "status": "completed"
    },
    "tags": []
   },
   "outputs": [],
   "source": [
    "#hide\n",
    "everydaycases = dft_ct_new_cases.cumsum(axis=1)"
   ]
  },
  {
   "cell_type": "code",
   "execution_count": 20,
   "id": "parliamentary-calgary",
   "metadata": {
    "execution": {
     "iopub.execute_input": "2022-03-21T00:33:38.370271Z",
     "iopub.status.busy": "2022-03-21T00:33:38.369617Z",
     "iopub.status.idle": "2022-03-21T00:33:39.039830Z",
     "shell.execute_reply": "2022-03-21T00:33:39.039215Z"
    },
    "papermill": {
     "duration": 0.709949,
     "end_time": "2022-03-21T00:33:39.039989",
     "exception": false,
     "start_time": "2022-03-21T00:33:38.330040",
     "status": "completed"
    },
    "tags": []
   },
   "outputs": [],
   "source": [
    "#hide\n",
    "import pandas as pd\n",
    "import matplotlib.pyplot as plt\n",
    "import matplotlib.ticker as ticker\n",
    "import matplotlib.animation as animation\n",
    "from IPython.display import HTML"
   ]
  },
  {
   "cell_type": "code",
   "execution_count": 21,
   "id": "lasting-extraction",
   "metadata": {
    "execution": {
     "iopub.execute_input": "2022-03-21T00:33:39.117344Z",
     "iopub.status.busy": "2022-03-21T00:33:39.116766Z",
     "iopub.status.idle": "2022-03-21T00:33:39.125973Z",
     "shell.execute_reply": "2022-03-21T00:33:39.124867Z"
    },
    "papermill": {
     "duration": 0.050808,
     "end_time": "2022-03-21T00:33:39.126111",
     "exception": false,
     "start_time": "2022-03-21T00:33:39.075303",
     "status": "completed"
    },
    "tags": []
   },
   "outputs": [],
   "source": [
    "#hide\n",
    "t = everydaycases.stack()"
   ]
  },
  {
   "cell_type": "code",
   "execution_count": 22,
   "id": "premier-sleeve",
   "metadata": {
    "execution": {
     "iopub.execute_input": "2022-03-21T00:33:39.201250Z",
     "iopub.status.busy": "2022-03-21T00:33:39.200500Z",
     "iopub.status.idle": "2022-03-21T00:33:39.212203Z",
     "shell.execute_reply": "2022-03-21T00:33:39.211667Z"
    },
    "papermill": {
     "duration": 0.05131,
     "end_time": "2022-03-21T00:33:39.212335",
     "exception": false,
     "start_time": "2022-03-21T00:33:39.161025",
     "status": "completed"
    },
    "tags": []
   },
   "outputs": [],
   "source": [
    "#hide\n",
    "g = t.reset_index(['Country/Region'])"
   ]
  },
  {
   "cell_type": "code",
   "execution_count": 23,
   "id": "distributed-pittsburgh",
   "metadata": {
    "execution": {
     "iopub.execute_input": "2022-03-21T00:33:39.286758Z",
     "iopub.status.busy": "2022-03-21T00:33:39.286132Z",
     "iopub.status.idle": "2022-03-21T00:33:39.289532Z",
     "shell.execute_reply": "2022-03-21T00:33:39.290013Z"
    },
    "papermill": {
     "duration": 0.042769,
     "end_time": "2022-03-21T00:33:39.290167",
     "exception": false,
     "start_time": "2022-03-21T00:33:39.247398",
     "status": "completed"
    },
    "tags": []
   },
   "outputs": [],
   "source": [
    "#hide\n",
    "g.index.name = 'date'"
   ]
  },
  {
   "cell_type": "code",
   "execution_count": 24,
   "id": "naked-donor",
   "metadata": {
    "execution": {
     "iopub.execute_input": "2022-03-21T00:33:39.364794Z",
     "iopub.status.busy": "2022-03-21T00:33:39.364047Z",
     "iopub.status.idle": "2022-03-21T00:33:39.367858Z",
     "shell.execute_reply": "2022-03-21T00:33:39.368310Z"
    },
    "papermill": {
     "duration": 0.043184,
     "end_time": "2022-03-21T00:33:39.368463",
     "exception": false,
     "start_time": "2022-03-21T00:33:39.325279",
     "status": "completed"
    },
    "tags": []
   },
   "outputs": [],
   "source": [
    "# #hide\n",
    "# g = g.reset_index(['date'])"
   ]
  },
  {
   "cell_type": "code",
   "execution_count": 25,
   "id": "incomplete-mustang",
   "metadata": {
    "execution": {
     "iopub.execute_input": "2022-03-21T00:33:39.443524Z",
     "iopub.status.busy": "2022-03-21T00:33:39.442781Z",
     "iopub.status.idle": "2022-03-21T00:33:39.444929Z",
     "shell.execute_reply": "2022-03-21T00:33:39.444254Z"
    },
    "papermill": {
     "duration": 0.041198,
     "end_time": "2022-03-21T00:33:39.445067",
     "exception": false,
     "start_time": "2022-03-21T00:33:39.403869",
     "status": "completed"
    },
    "tags": []
   },
   "outputs": [],
   "source": [
    "#hide\n",
    "# g.head()"
   ]
  },
  {
   "cell_type": "code",
   "execution_count": 26,
   "id": "specific-kruger",
   "metadata": {
    "execution": {
     "iopub.execute_input": "2022-03-21T00:33:39.520326Z",
     "iopub.status.busy": "2022-03-21T00:33:39.519363Z",
     "iopub.status.idle": "2022-03-21T00:33:39.522313Z",
     "shell.execute_reply": "2022-03-21T00:33:39.522764Z"
    },
    "papermill": {
     "duration": 0.042296,
     "end_time": "2022-03-21T00:33:39.522913",
     "exception": false,
     "start_time": "2022-03-21T00:33:39.480617",
     "status": "completed"
    },
    "tags": []
   },
   "outputs": [],
   "source": [
    "#hide\n",
    "# g.columns = ['date','country','cases']"
   ]
  },
  {
   "cell_type": "code",
   "execution_count": 27,
   "id": "tender-conversion",
   "metadata": {
    "execution": {
     "iopub.execute_input": "2022-03-21T00:33:39.596966Z",
     "iopub.status.busy": "2022-03-21T00:33:39.596239Z",
     "iopub.status.idle": "2022-03-21T00:33:39.597697Z",
     "shell.execute_reply": "2022-03-21T00:33:39.598429Z"
    },
    "papermill": {
     "duration": 0.040961,
     "end_time": "2022-03-21T00:33:39.598591",
     "exception": false,
     "start_time": "2022-03-21T00:33:39.557630",
     "status": "completed"
    },
    "tags": []
   },
   "outputs": [],
   "source": [
    "#hide\n",
    "# g['continent'] = g.country"
   ]
  },
  {
   "cell_type": "code",
   "execution_count": 28,
   "id": "substantial-wilderness",
   "metadata": {
    "execution": {
     "iopub.execute_input": "2022-03-21T00:33:39.672599Z",
     "iopub.status.busy": "2022-03-21T00:33:39.671978Z",
     "iopub.status.idle": "2022-03-21T00:33:39.676177Z",
     "shell.execute_reply": "2022-03-21T00:33:39.675696Z"
    },
    "papermill": {
     "duration": 0.042763,
     "end_time": "2022-03-21T00:33:39.676305",
     "exception": false,
     "start_time": "2022-03-21T00:33:39.633542",
     "status": "completed"
    },
    "tags": []
   },
   "outputs": [],
   "source": [
    "#hide\n",
    "# cols = list(g.columns.values)"
   ]
  },
  {
   "cell_type": "code",
   "execution_count": 29,
   "id": "solved-farming",
   "metadata": {
    "execution": {
     "iopub.execute_input": "2022-03-21T00:33:39.750523Z",
     "iopub.status.busy": "2022-03-21T00:33:39.749645Z",
     "iopub.status.idle": "2022-03-21T00:33:39.751824Z",
     "shell.execute_reply": "2022-03-21T00:33:39.751246Z"
    },
    "papermill": {
     "duration": 0.040842,
     "end_time": "2022-03-21T00:33:39.751946",
     "exception": false,
     "start_time": "2022-03-21T00:33:39.711104",
     "status": "completed"
    },
    "tags": []
   },
   "outputs": [],
   "source": [
    "#hide\n",
    "# cols.insert(0, cols.pop())"
   ]
  },
  {
   "cell_type": "code",
   "execution_count": 30,
   "id": "executed-adoption",
   "metadata": {
    "execution": {
     "iopub.execute_input": "2022-03-21T00:33:39.825887Z",
     "iopub.status.busy": "2022-03-21T00:33:39.825226Z",
     "iopub.status.idle": "2022-03-21T00:33:39.828867Z",
     "shell.execute_reply": "2022-03-21T00:33:39.828393Z"
    },
    "papermill": {
     "duration": 0.041989,
     "end_time": "2022-03-21T00:33:39.828994",
     "exception": false,
     "start_time": "2022-03-21T00:33:39.787005",
     "status": "completed"
    },
    "tags": []
   },
   "outputs": [],
   "source": [
    "#hide\n",
    "# g = g[cols]"
   ]
  },
  {
   "cell_type": "code",
   "execution_count": 31,
   "id": "subject-dublin",
   "metadata": {
    "execution": {
     "iopub.execute_input": "2022-03-21T00:33:39.902283Z",
     "iopub.status.busy": "2022-03-21T00:33:39.901609Z",
     "iopub.status.idle": "2022-03-21T00:33:39.904907Z",
     "shell.execute_reply": "2022-03-21T00:33:39.904408Z"
    },
    "papermill": {
     "duration": 0.041635,
     "end_time": "2022-03-21T00:33:39.905031",
     "exception": false,
     "start_time": "2022-03-21T00:33:39.863396",
     "status": "completed"
    },
    "tags": []
   },
   "outputs": [],
   "source": [
    "#hide\n",
    "# g['continent'] = g['continent'].map(mapping['map.continent'])"
   ]
  },
  {
   "cell_type": "code",
   "execution_count": 32,
   "id": "freelance-scout",
   "metadata": {
    "execution": {
     "iopub.execute_input": "2022-03-21T00:33:39.983354Z",
     "iopub.status.busy": "2022-03-21T00:33:39.982675Z",
     "iopub.status.idle": "2022-03-21T00:33:39.984778Z",
     "shell.execute_reply": "2022-03-21T00:33:39.985292Z"
    },
    "papermill": {
     "duration": 0.042616,
     "end_time": "2022-03-21T00:33:39.985447",
     "exception": false,
     "start_time": "2022-03-21T00:33:39.942831",
     "status": "completed"
    },
    "tags": []
   },
   "outputs": [],
   "source": [
    "#hide\n",
    "# g.head()"
   ]
  },
  {
   "cell_type": "code",
   "execution_count": 33,
   "id": "limited-engine",
   "metadata": {
    "execution": {
     "iopub.execute_input": "2022-03-21T00:33:40.059700Z",
     "iopub.status.busy": "2022-03-21T00:33:40.059113Z",
     "iopub.status.idle": "2022-03-21T00:33:40.060967Z",
     "shell.execute_reply": "2022-03-21T00:33:40.061413Z"
    },
    "papermill": {
     "duration": 0.040768,
     "end_time": "2022-03-21T00:33:40.061588",
     "exception": false,
     "start_time": "2022-03-21T00:33:40.020820",
     "status": "completed"
    },
    "tags": []
   },
   "outputs": [],
   "source": [
    "# hide\n",
    "# g['date'] = g['date'].astype('datetime64[ns]')"
   ]
  },
  {
   "cell_type": "code",
   "execution_count": 34,
   "id": "sophisticated-supervisor",
   "metadata": {
    "execution": {
     "iopub.execute_input": "2022-03-21T00:33:40.145506Z",
     "iopub.status.busy": "2022-03-21T00:33:40.144869Z",
     "iopub.status.idle": "2022-03-21T00:33:40.147286Z",
     "shell.execute_reply": "2022-03-21T00:33:40.146696Z"
    },
    "papermill": {
     "duration": 0.045962,
     "end_time": "2022-03-21T00:33:40.147408",
     "exception": false,
     "start_time": "2022-03-21T00:33:40.101446",
     "status": "completed"
    },
    "tags": []
   },
   "outputs": [],
   "source": [
    "#hide\n",
    "# g['date'] = g.date.dt.dayofyear"
   ]
  },
  {
   "cell_type": "code",
   "execution_count": 35,
   "id": "inside-dubai",
   "metadata": {
    "execution": {
     "iopub.execute_input": "2022-03-21T00:33:40.223797Z",
     "iopub.status.busy": "2022-03-21T00:33:40.222979Z",
     "iopub.status.idle": "2022-03-21T00:33:40.227841Z",
     "shell.execute_reply": "2022-03-21T00:33:40.227270Z"
    },
    "papermill": {
     "duration": 0.044748,
     "end_time": "2022-03-21T00:33:40.227991",
     "exception": false,
     "start_time": "2022-03-21T00:33:40.183243",
     "status": "completed"
    },
    "tags": []
   },
   "outputs": [],
   "source": [
    "#hide\n",
    "# g = g.rename(columns= {'continent':'group','country':'name','cases':'value'})"
   ]
  },
  {
   "cell_type": "code",
   "execution_count": 36,
   "id": "fleet-motorcycle",
   "metadata": {
    "execution": {
     "iopub.execute_input": "2022-03-21T00:33:40.301223Z",
     "iopub.status.busy": "2022-03-21T00:33:40.300599Z",
     "iopub.status.idle": "2022-03-21T00:33:40.302178Z",
     "shell.execute_reply": "2022-03-21T00:33:40.302681Z"
    },
    "papermill": {
     "duration": 0.040154,
     "end_time": "2022-03-21T00:33:40.302825",
     "exception": false,
     "start_time": "2022-03-21T00:33:40.262671",
     "status": "completed"
    },
    "tags": []
   },
   "outputs": [],
   "source": [
    "#hide\n",
    "# cols = ['name','group','day','value']"
   ]
  },
  {
   "cell_type": "code",
   "execution_count": 37,
   "id": "continued-sleeping",
   "metadata": {
    "execution": {
     "iopub.execute_input": "2022-03-21T00:33:40.380144Z",
     "iopub.status.busy": "2022-03-21T00:33:40.379493Z",
     "iopub.status.idle": "2022-03-21T00:33:40.383584Z",
     "shell.execute_reply": "2022-03-21T00:33:40.383102Z"
    },
    "papermill": {
     "duration": 0.043066,
     "end_time": "2022-03-21T00:33:40.383709",
     "exception": false,
     "start_time": "2022-03-21T00:33:40.340643",
     "status": "completed"
    },
    "tags": []
   },
   "outputs": [],
   "source": [
    "#hide\n",
    "# g.rename(columns= {'date':'day'},inplace = True)"
   ]
  },
  {
   "cell_type": "code",
   "execution_count": 38,
   "id": "major-fight",
   "metadata": {
    "execution": {
     "iopub.execute_input": "2022-03-21T00:33:40.456858Z",
     "iopub.status.busy": "2022-03-21T00:33:40.456223Z",
     "iopub.status.idle": "2022-03-21T00:33:40.458545Z",
     "shell.execute_reply": "2022-03-21T00:33:40.458063Z"
    },
    "papermill": {
     "duration": 0.040108,
     "end_time": "2022-03-21T00:33:40.458669",
     "exception": false,
     "start_time": "2022-03-21T00:33:40.418561",
     "status": "completed"
    },
    "tags": []
   },
   "outputs": [],
   "source": [
    "#hide\n",
    "# g = g[cols]"
   ]
  },
  {
   "cell_type": "code",
   "execution_count": 39,
   "id": "structured-mobile",
   "metadata": {
    "execution": {
     "iopub.execute_input": "2022-03-21T00:33:40.531943Z",
     "iopub.status.busy": "2022-03-21T00:33:40.531309Z",
     "iopub.status.idle": "2022-03-21T00:33:40.535636Z",
     "shell.execute_reply": "2022-03-21T00:33:40.535140Z"
    },
    "papermill": {
     "duration": 0.042333,
     "end_time": "2022-03-21T00:33:40.535765",
     "exception": false,
     "start_time": "2022-03-21T00:33:40.493432",
     "status": "completed"
    },
    "tags": []
   },
   "outputs": [],
   "source": [
    "# #hide\n",
    "# g = g[g.group.notna()]"
   ]
  },
  {
   "cell_type": "code",
   "execution_count": 40,
   "id": "determined-closing",
   "metadata": {
    "execution": {
     "iopub.execute_input": "2022-03-21T00:33:40.616395Z",
     "iopub.status.busy": "2022-03-21T00:33:40.615653Z",
     "iopub.status.idle": "2022-03-21T00:33:40.617941Z",
     "shell.execute_reply": "2022-03-21T00:33:40.617261Z"
    },
    "papermill": {
     "duration": 0.044951,
     "end_time": "2022-03-21T00:33:40.618071",
     "exception": false,
     "start_time": "2022-03-21T00:33:40.573120",
     "status": "completed"
    },
    "tags": []
   },
   "outputs": [],
   "source": [
    "# #hide\n",
    "# colors = dict(zip(\n",
    "#     [\"Oceania\", \"Europe\", \"Asia\", \"South America\", \"Middle East\", \"North America\", \"Africa\"],\n",
    "#     [\"#adb0ff\", \"#ffb3ff\", \"#90d595\", \"#e48381\", \"#aafbff\", \"#f7bb5f\", \"#eafb50\"]\n",
    "# ))\n",
    "# group_lk = g.set_index('name')['group'].to_dict()"
   ]
  },
  {
   "cell_type": "code",
   "execution_count": null,
   "id": "gross-drinking",
   "metadata": {
    "papermill": {
     "duration": 0.036042,
     "end_time": "2022-03-21T00:33:40.689620",
     "exception": false,
     "start_time": "2022-03-21T00:33:40.653578",
     "status": "completed"
    },
    "tags": []
   },
   "outputs": [],
   "source": []
  },
  {
   "cell_type": "code",
   "execution_count": 41,
   "id": "subject-macintosh",
   "metadata": {
    "execution": {
     "iopub.execute_input": "2022-03-21T00:33:40.770506Z",
     "iopub.status.busy": "2022-03-21T00:33:40.769855Z",
     "iopub.status.idle": "2022-03-21T00:33:40.772825Z",
     "shell.execute_reply": "2022-03-21T00:33:40.773302Z"
    },
    "papermill": {
     "duration": 0.043453,
     "end_time": "2022-03-21T00:33:40.773453",
     "exception": false,
     "start_time": "2022-03-21T00:33:40.730000",
     "status": "completed"
    },
    "tags": []
   },
   "outputs": [],
   "source": [
    "# #hide\n",
    "# fig, ax = plt.subplots(figsize=(15, 8))\n",
    "\n",
    "# def draw_barchart(current_day):\n",
    "#     dff = g[g['day'].eq(current_day)].sort_values(by='value', ascending=True).tail(10)\n",
    "#     ax.clear()\n",
    "#     ax.barh(dff['name'], dff['value'], color=[colors[group_lk[x]] for x in dff['name']])\n",
    "#     dx = dff['value'].max() / 200\n",
    "    \n",
    "#     for i, (value, name) in enumerate(zip(dff['value'], dff['name'])):\n",
    "#         ax.text(value-dx, i,     name,           size=14, weight=600, ha='right', va='bottom')\n",
    "#         ax.text(value-dx, i-.25, group_lk[name], size=10, color='#444444', ha='right', va='baseline')\n",
    "#         ax.text(value+dx, i,     f'{value:,.0f}',  size=14, ha='left',  va='center')\n",
    "#     ax.text(1, 0.4, current_day, transform=ax.transAxes, color='#777777', size=46, ha='right', weight=800)\n",
    "#     ax.text(0, 1.06, 'Population (thousands)', transform=ax.transAxes, size=12, color='#777777')\n",
    "#     ax.xaxis.set_major_formatter(ticker.StrMethodFormatter('{x:,.0f}'))\n",
    "#     ax.xaxis.set_ticks_position('top')\n",
    "#     ax.tick_params(axis='x', colors='#777777', labelsize=12)\n",
    "#     ax.set_yticks([])\n",
    "#     ax.margins(0, 0.01)\n",
    "#     ax.grid(which='major', axis='x', linestyle='-')\n",
    "#     ax.set_axisbelow(True)\n",
    "    \n",
    "#     ax.text(0, 1.15, 'Coronavirus',\n",
    "#             transform=ax.transAxes, size=24, weight=600, ha='left', va='top')\n",
    "# #     ax.text(1, 0, 'by @pratapvardhan; credit @jburnmurdoch', transform=ax.transAxes, color='#777777', ha='right',\n",
    "# #             bbox=dict(facecolor='white', alpha=0.8, edgecolor='white'))\n",
    "#     plt.box(False)"
   ]
  },
  {
   "cell_type": "code",
   "execution_count": 42,
   "id": "sexual-wages",
   "metadata": {
    "execution": {
     "iopub.execute_input": "2022-03-21T00:33:40.853041Z",
     "iopub.status.busy": "2022-03-21T00:33:40.852431Z",
     "iopub.status.idle": "2022-03-21T00:33:40.855142Z",
     "shell.execute_reply": "2022-03-21T00:33:40.854641Z"
    },
    "papermill": {
     "duration": 0.041573,
     "end_time": "2022-03-21T00:33:40.855275",
     "exception": false,
     "start_time": "2022-03-21T00:33:40.813702",
     "status": "completed"
    },
    "tags": []
   },
   "outputs": [],
   "source": [
    "# #hide_input\n",
    "# fig, ax = plt.subplots(figsize=(15, 8))\n",
    "# animator = animation.FuncAnimation(fig, draw_barchart, frames=range(g.day.values.min(), g.day.values.max()))\n",
    "# HTML(animator.to_jshtml())\n",
    "# # or use animator.to_html5_video() or animator.save() "
   ]
  },
  {
   "cell_type": "code",
   "execution_count": null,
   "id": "australian-container",
   "metadata": {
    "papermill": {
     "duration": 0.035211,
     "end_time": "2022-03-21T00:33:40.925580",
     "exception": false,
     "start_time": "2022-03-21T00:33:40.890369",
     "status": "completed"
    },
    "tags": []
   },
   "outputs": [],
   "source": []
  },
  {
   "cell_type": "code",
   "execution_count": null,
   "id": "mediterranean-pontiac",
   "metadata": {
    "papermill": {
     "duration": 0.034616,
     "end_time": "2022-03-21T00:33:40.995025",
     "exception": false,
     "start_time": "2022-03-21T00:33:40.960409",
     "status": "completed"
    },
    "tags": []
   },
   "outputs": [],
   "source": []
  },
  {
   "cell_type": "code",
   "execution_count": null,
   "id": "aging-legislature",
   "metadata": {
    "papermill": {
     "duration": 0.034337,
     "end_time": "2022-03-21T00:33:41.064914",
     "exception": false,
     "start_time": "2022-03-21T00:33:41.030577",
     "status": "completed"
    },
    "tags": []
   },
   "outputs": [],
   "source": []
  }
 ],
 "metadata": {
  "kernelspec": {
   "display_name": "Python 3",
   "language": "python",
   "name": "python3"
  },
  "language_info": {
   "codemirror_mode": {
    "name": "ipython",
    "version": 3
   },
   "file_extension": ".py",
   "mimetype": "text/x-python",
   "name": "python",
   "nbconvert_exporter": "python",
   "pygments_lexer": "ipython3",
   "version": "3.6.15"
  },
  "papermill": {
   "duration": 6.900169,
   "end_time": "2022-03-21T00:33:41.518303",
   "environment_variables": {},
   "exception": null,
   "input_path": "2020-03-21-covid19exp.ipynb",
   "output_path": "2020-03-21-covid19exp.ipynb",
   "parameters": {},
   "start_time": "2022-03-21T00:33:34.618134",
   "version": "2.0.0"
  }
 },
 "nbformat": 4,
 "nbformat_minor": 5
}