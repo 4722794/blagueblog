{
 "cells": [
  {
   "cell_type": "markdown",
   "id": "muslim-click",
   "metadata": {
    "papermill": {
     "duration": 0.03437,
     "end_time": "2022-06-16T00:40:53.243305",
     "exception": false,
     "start_time": "2022-06-16T00:40:53.208935",
     "status": "completed"
    },
    "tags": []
   },
   "source": [
    "# COVID-19 Case Race\n",
    "> A race chart to see rising cases around the world\n",
    "\n",
    "- author: Hargun Oberoi\n",
    "- image: images/covid-overview.png\n",
    "- hide: false\n",
    "- badges: false"
   ]
  },
  {
   "cell_type": "code",
   "execution_count": 1,
   "id": "proof-material",
   "metadata": {
    "execution": {
     "iopub.execute_input": "2022-06-16T00:40:53.312102Z",
     "iopub.status.busy": "2022-06-16T00:40:53.310777Z",
     "iopub.status.idle": "2022-06-16T00:40:53.617544Z",
     "shell.execute_reply": "2022-06-16T00:40:53.617058Z"
    },
    "papermill": {
     "duration": 0.344229,
     "end_time": "2022-06-16T00:40:53.617671",
     "exception": false,
     "start_time": "2022-06-16T00:40:53.273442",
     "status": "completed"
    },
    "tags": []
   },
   "outputs": [],
   "source": [
    "#hide\n",
    "import numpy as np\n",
    "import pandas as pd\n",
    "from jinja2 import Template\n",
    "from IPython.display import HTML"
   ]
  },
  {
   "cell_type": "code",
   "execution_count": 2,
   "id": "developed-terminology",
   "metadata": {
    "execution": {
     "iopub.execute_input": "2022-06-16T00:40:53.682253Z",
     "iopub.status.busy": "2022-06-16T00:40:53.681671Z",
     "iopub.status.idle": "2022-06-16T00:40:53.684065Z",
     "shell.execute_reply": "2022-06-16T00:40:53.683623Z"
    },
    "papermill": {
     "duration": 0.036381,
     "end_time": "2022-06-16T00:40:53.684163",
     "exception": false,
     "start_time": "2022-06-16T00:40:53.647782",
     "status": "completed"
    },
    "tags": []
   },
   "outputs": [],
   "source": [
    "#hide\n",
    "\n",
    "# FETCH\n",
    "base_url = 'https://raw.githubusercontent.com/pratapvardhan/notebooks/master/covid19/'\n",
    "paths = {\n",
    "    'mapping': base_url + 'mapping_countries.csv',\n",
    "    'overview': base_url + 'overview.tpl'\n",
    "}"
   ]
  },
  {
   "cell_type": "code",
   "execution_count": 3,
   "id": "dynamic-saver",
   "metadata": {
    "execution": {
     "iopub.execute_input": "2022-06-16T00:40:53.751638Z",
     "iopub.status.busy": "2022-06-16T00:40:53.750528Z",
     "iopub.status.idle": "2022-06-16T00:40:53.754832Z",
     "shell.execute_reply": "2022-06-16T00:40:53.754383Z"
    },
    "papermill": {
     "duration": 0.041213,
     "end_time": "2022-06-16T00:40:53.754930",
     "exception": false,
     "start_time": "2022-06-16T00:40:53.713717",
     "status": "completed"
    },
    "tags": []
   },
   "outputs": [
    {
     "data": {
      "text/plain": [
       "'https://raw.githubusercontent.com/pratapvardhan/notebooks/master/covid19/mapping_countries.csv'"
      ]
     },
     "execution_count": 3,
     "metadata": {},
     "output_type": "execute_result"
    }
   ],
   "source": [
    "#hide\n",
    "paths['mapping']"
   ]
  },
  {
   "cell_type": "code",
   "execution_count": 4,
   "id": "urban-software",
   "metadata": {
    "execution": {
     "iopub.execute_input": "2022-06-16T00:40:53.819973Z",
     "iopub.status.busy": "2022-06-16T00:40:53.819419Z",
     "iopub.status.idle": "2022-06-16T00:40:53.821756Z",
     "shell.execute_reply": "2022-06-16T00:40:53.821314Z"
    },
    "papermill": {
     "duration": 0.036883,
     "end_time": "2022-06-16T00:40:53.821851",
     "exception": false,
     "start_time": "2022-06-16T00:40:53.784968",
     "status": "completed"
    },
    "tags": []
   },
   "outputs": [],
   "source": [
    "#hide\n",
    "def get_mappings(url):\n",
    "    df = pd.read_csv(url)\n",
    "    return {\n",
    "        'df': df,\n",
    "        'replace.country': dict(df.dropna(subset=['Name']).set_index('Country')['Name']),\n",
    "        'map.continent': dict(df.set_index('Name')['Continent'])\n",
    "    }"
   ]
  },
  {
   "cell_type": "code",
   "execution_count": 5,
   "id": "intimate-machinery",
   "metadata": {
    "execution": {
     "iopub.execute_input": "2022-06-16T00:40:53.886326Z",
     "iopub.status.busy": "2022-06-16T00:40:53.885767Z",
     "iopub.status.idle": "2022-06-16T00:40:53.942975Z",
     "shell.execute_reply": "2022-06-16T00:40:53.942512Z"
    },
    "papermill": {
     "duration": 0.091428,
     "end_time": "2022-06-16T00:40:53.943073",
     "exception": false,
     "start_time": "2022-06-16T00:40:53.851645",
     "status": "completed"
    },
    "tags": []
   },
   "outputs": [],
   "source": [
    "#hide\n",
    "mapping = get_mappings(paths['mapping'])"
   ]
  },
  {
   "cell_type": "code",
   "execution_count": 6,
   "id": "certified-tactics",
   "metadata": {
    "execution": {
     "iopub.execute_input": "2022-06-16T00:40:54.007391Z",
     "iopub.status.busy": "2022-06-16T00:40:54.006842Z",
     "iopub.status.idle": "2022-06-16T00:40:54.009538Z",
     "shell.execute_reply": "2022-06-16T00:40:54.009094Z"
    },
    "papermill": {
     "duration": 0.036616,
     "end_time": "2022-06-16T00:40:54.009633",
     "exception": false,
     "start_time": "2022-06-16T00:40:53.973017",
     "status": "completed"
    },
    "tags": []
   },
   "outputs": [],
   "source": [
    "#hide\n",
    "def get_template(path):\n",
    "    from urllib.parse import urlparse\n",
    "    if bool(urlparse(path).netloc):\n",
    "        from urllib.request import urlopen\n",
    "        return urlopen(path).read().decode('utf8')\n",
    "    return open(path).read()"
   ]
  },
  {
   "cell_type": "code",
   "execution_count": 7,
   "id": "realistic-blast",
   "metadata": {
    "execution": {
     "iopub.execute_input": "2022-06-16T00:40:54.073354Z",
     "iopub.status.busy": "2022-06-16T00:40:54.072789Z",
     "iopub.status.idle": "2022-06-16T00:40:54.075262Z",
     "shell.execute_reply": "2022-06-16T00:40:54.074739Z"
    },
    "papermill": {
     "duration": 0.035985,
     "end_time": "2022-06-16T00:40:54.075358",
     "exception": false,
     "start_time": "2022-06-16T00:40:54.039373",
     "status": "completed"
    },
    "tags": []
   },
   "outputs": [],
   "source": [
    "#hide\n",
    "def get_frame(name):\n",
    "    url = (\n",
    "        'https://raw.githubusercontent.com/CSSEGISandData/COVID-19/master/csse_covid_19_data/'\n",
    "        f'csse_covid_19_time_series/time_series_covid19_{name}_global.csv')\n",
    "    df = pd.read_csv(url)\n",
    "    # rename countries\n",
    "    df['Country/Region'] = df['Country/Region'].replace(mapping['replace.country'])\n",
    "    return df"
   ]
  },
  {
   "cell_type": "code",
   "execution_count": 8,
   "id": "affiliated-characterization",
   "metadata": {
    "execution": {
     "iopub.execute_input": "2022-06-16T00:40:54.141116Z",
     "iopub.status.busy": "2022-06-16T00:40:54.140549Z",
     "iopub.status.idle": "2022-06-16T00:40:54.143217Z",
     "shell.execute_reply": "2022-06-16T00:40:54.142781Z"
    },
    "papermill": {
     "duration": 0.037841,
     "end_time": "2022-06-16T00:40:54.143313",
     "exception": false,
     "start_time": "2022-06-16T00:40:54.105472",
     "status": "completed"
    },
    "tags": []
   },
   "outputs": [],
   "source": [
    "#hide\n",
    "def get_dates(df):\n",
    "    dt_cols = df.columns[~df.columns.isin(['Province/State', 'Country/Region', 'Lat', 'Long'])]\n",
    "    LAST_DATE_I = -1\n",
    "    # sometimes last column may be empty, then go backwards\n",
    "    for i in range(-1, -len(dt_cols), -1):\n",
    "        if not df[dt_cols[i]].fillna(0).eq(0).all():\n",
    "            LAST_DATE_I = i\n",
    "            break\n",
    "    return LAST_DATE_I, dt_cols"
   ]
  },
  {
   "cell_type": "code",
   "execution_count": 9,
   "id": "recent-optimization",
   "metadata": {
    "execution": {
     "iopub.execute_input": "2022-06-16T00:40:54.207709Z",
     "iopub.status.busy": "2022-06-16T00:40:54.207141Z",
     "iopub.status.idle": "2022-06-16T00:40:54.739403Z",
     "shell.execute_reply": "2022-06-16T00:40:54.738905Z"
    },
    "papermill": {
     "duration": 0.566615,
     "end_time": "2022-06-16T00:40:54.739512",
     "exception": false,
     "start_time": "2022-06-16T00:40:54.172897",
     "status": "completed"
    },
    "tags": []
   },
   "outputs": [],
   "source": [
    "#hide\n",
    "COL_REGION = 'Country/Region'\n",
    "# Confirmed, Recovered, Deaths\n",
    "df = get_frame('confirmed')\n",
    "# dft_: timeseries, dfc_: today country agg\n",
    "dft_cases = df\n",
    "dft_deaths = get_frame('deaths')\n",
    "dft_recovered = get_frame('recovered')\n",
    "LAST_DATE_I, dt_cols = get_dates(df)"
   ]
  },
  {
   "cell_type": "code",
   "execution_count": 10,
   "id": "absolute-copper",
   "metadata": {
    "execution": {
     "iopub.execute_input": "2022-06-16T00:40:54.804794Z",
     "iopub.status.busy": "2022-06-16T00:40:54.804234Z",
     "iopub.status.idle": "2022-06-16T00:40:54.806886Z",
     "shell.execute_reply": "2022-06-16T00:40:54.806389Z"
    },
    "papermill": {
     "duration": 0.037364,
     "end_time": "2022-06-16T00:40:54.806989",
     "exception": false,
     "start_time": "2022-06-16T00:40:54.769625",
     "status": "completed"
    },
    "tags": []
   },
   "outputs": [],
   "source": [
    "#hide\n",
    "LAST_DATE_I, dt_cols = get_dates(df)\n",
    "dt_today =dt_cols[LAST_DATE_I]\n",
    "# dt_5day = dt_cols[LAST_DATE_I - 5]\n",
    "dt_yday = dt_cols[LAST_DATE_I - 1]"
   ]
  },
  {
   "cell_type": "code",
   "execution_count": 11,
   "id": "restricted-sheriff",
   "metadata": {
    "execution": {
     "iopub.execute_input": "2022-06-16T00:40:54.871699Z",
     "iopub.status.busy": "2022-06-16T00:40:54.871134Z",
     "iopub.status.idle": "2022-06-16T00:40:54.878154Z",
     "shell.execute_reply": "2022-06-16T00:40:54.877619Z"
    },
    "papermill": {
     "duration": 0.041478,
     "end_time": "2022-06-16T00:40:54.878252",
     "exception": false,
     "start_time": "2022-06-16T00:40:54.836774",
     "status": "completed"
    },
    "tags": []
   },
   "outputs": [],
   "source": [
    "#hide\n",
    "dfc_cases = dft_cases.groupby(COL_REGION)[dt_today].sum()\n",
    "dfc_deaths = dft_deaths.groupby(COL_REGION)[dt_today].sum()\n",
    "# dfp_cases = dft_cases.groupby(COL_REGION)[dt_5day].sum()\n",
    "# dfp_deaths = dft_deaths.groupby(COL_REGION)[dt_5day].sum()\n",
    "dfp_cases = dft_cases.groupby(COL_REGION)[dt_yday].sum()\n",
    "dfp_deaths = dft_deaths.groupby(COL_REGION)[dt_yday].sum()"
   ]
  },
  {
   "cell_type": "code",
   "execution_count": 12,
   "id": "deluxe-hepatitis",
   "metadata": {
    "execution": {
     "iopub.execute_input": "2022-06-16T00:40:54.943342Z",
     "iopub.status.busy": "2022-06-16T00:40:54.942791Z",
     "iopub.status.idle": "2022-06-16T00:40:54.946921Z",
     "shell.execute_reply": "2022-06-16T00:40:54.947432Z"
    },
    "papermill": {
     "duration": 0.039415,
     "end_time": "2022-06-16T00:40:54.947543",
     "exception": false,
     "start_time": "2022-06-16T00:40:54.908128",
     "status": "completed"
    },
    "tags": []
   },
   "outputs": [],
   "source": [
    "#hide\n",
    "df_table = (pd.DataFrame(dict(Cases = dfc_cases, Deaths = dfc_deaths, PCases = dfp_cases, PDeaths = dfp_deaths))\n",
    "            .sort_values(by = ['Cases','Deaths'], ascending = [False, False])\n",
    "            .reset_index())"
   ]
  },
  {
   "cell_type": "code",
   "execution_count": 13,
   "id": "educational-chancellor",
   "metadata": {
    "execution": {
     "iopub.execute_input": "2022-06-16T00:40:55.019517Z",
     "iopub.status.busy": "2022-06-16T00:40:55.018953Z",
     "iopub.status.idle": "2022-06-16T00:40:55.030636Z",
     "shell.execute_reply": "2022-06-16T00:40:55.030175Z"
    },
    "papermill": {
     "duration": 0.05358,
     "end_time": "2022-06-16T00:40:55.030736",
     "exception": false,
     "start_time": "2022-06-16T00:40:54.977156",
     "status": "completed"
    },
    "tags": []
   },
   "outputs": [
    {
     "data": {
      "text/html": [
       "<div>\n",
       "<style scoped>\n",
       "    .dataframe tbody tr th:only-of-type {\n",
       "        vertical-align: middle;\n",
       "    }\n",
       "\n",
       "    .dataframe tbody tr th {\n",
       "        vertical-align: top;\n",
       "    }\n",
       "\n",
       "    .dataframe thead th {\n",
       "        text-align: right;\n",
       "    }\n",
       "</style>\n",
       "<table border=\"1\" class=\"dataframe\">\n",
       "  <thead>\n",
       "    <tr style=\"text-align: right;\">\n",
       "      <th></th>\n",
       "      <th>Country/Region</th>\n",
       "      <th>Cases</th>\n",
       "      <th>Deaths</th>\n",
       "      <th>PCases</th>\n",
       "      <th>PDeaths</th>\n",
       "      <th>Cases (+)</th>\n",
       "      <th>Deaths (+)</th>\n",
       "      <th>Fatality Rate</th>\n",
       "      <th>Continent</th>\n",
       "    </tr>\n",
       "  </thead>\n",
       "  <tbody>\n",
       "    <tr>\n",
       "      <th>0</th>\n",
       "      <td>US</td>\n",
       "      <td>85758638</td>\n",
       "      <td>1011925</td>\n",
       "      <td>85632808</td>\n",
       "      <td>1011543</td>\n",
       "      <td>125830</td>\n",
       "      <td>382</td>\n",
       "      <td>1.18</td>\n",
       "      <td>North America</td>\n",
       "    </tr>\n",
       "    <tr>\n",
       "      <th>1</th>\n",
       "      <td>India</td>\n",
       "      <td>43245517</td>\n",
       "      <td>524792</td>\n",
       "      <td>43236695</td>\n",
       "      <td>524777</td>\n",
       "      <td>8822</td>\n",
       "      <td>15</td>\n",
       "      <td>1.21</td>\n",
       "      <td>Asia</td>\n",
       "    </tr>\n",
       "    <tr>\n",
       "      <th>2</th>\n",
       "      <td>Brazil</td>\n",
       "      <td>31541479</td>\n",
       "      <td>668354</td>\n",
       "      <td>31497038</td>\n",
       "      <td>668180</td>\n",
       "      <td>44441</td>\n",
       "      <td>174</td>\n",
       "      <td>2.12</td>\n",
       "      <td>South America</td>\n",
       "    </tr>\n",
       "    <tr>\n",
       "      <th>3</th>\n",
       "      <td>France</td>\n",
       "      <td>30123426</td>\n",
       "      <td>149937</td>\n",
       "      <td>29946647</td>\n",
       "      <td>149788</td>\n",
       "      <td>176779</td>\n",
       "      <td>149</td>\n",
       "      <td>0.50</td>\n",
       "      <td>Europe</td>\n",
       "    </tr>\n",
       "    <tr>\n",
       "      <th>4</th>\n",
       "      <td>Germany</td>\n",
       "      <td>27007429</td>\n",
       "      <td>140026</td>\n",
       "      <td>26915085</td>\n",
       "      <td>139914</td>\n",
       "      <td>92344</td>\n",
       "      <td>112</td>\n",
       "      <td>0.52</td>\n",
       "      <td>Europe</td>\n",
       "    </tr>\n",
       "  </tbody>\n",
       "</table>\n",
       "</div>"
      ],
      "text/plain": [
       "  Country/Region     Cases   Deaths    PCases  PDeaths  Cases (+)  Deaths (+)  \\\n",
       "0             US  85758638  1011925  85632808  1011543     125830         382   \n",
       "1          India  43245517   524792  43236695   524777       8822          15   \n",
       "2         Brazil  31541479   668354  31497038   668180      44441         174   \n",
       "3         France  30123426   149937  29946647   149788     176779         149   \n",
       "4        Germany  27007429   140026  26915085   139914      92344         112   \n",
       "\n",
       "   Fatality Rate      Continent  \n",
       "0           1.18  North America  \n",
       "1           1.21           Asia  \n",
       "2           2.12  South America  \n",
       "3           0.50         Europe  \n",
       "4           0.52         Europe  "
      ]
     },
     "execution_count": 13,
     "metadata": {},
     "output_type": "execute_result"
    }
   ],
   "source": [
    "#hide\n",
    "for c in 'Cases, Deaths'.split(', '):\n",
    "    df_table[f'{c} (+)'] = (df_table[c] - df_table[f'P{c}']).clip(0)\n",
    "    #Clip ça veut dire, les chiffres negatif sont interdit\n",
    "df_table['Fatality Rate'] = (100* df_table['Deaths']/ df_table['Cases']).round(2)\n",
    "df_table['Continent'] = df_table['Country/Region'].map(mapping['map.continent'])\n",
    "df_table.head(5)"
   ]
  },
  {
   "cell_type": "code",
   "execution_count": 14,
   "id": "aboriginal-bulgaria",
   "metadata": {
    "execution": {
     "iopub.execute_input": "2022-06-16T00:40:55.096950Z",
     "iopub.status.busy": "2022-06-16T00:40:55.096367Z",
     "iopub.status.idle": "2022-06-16T00:40:55.098733Z",
     "shell.execute_reply": "2022-06-16T00:40:55.098187Z"
    },
    "papermill": {
     "duration": 0.03776,
     "end_time": "2022-06-16T00:40:55.098832",
     "exception": false,
     "start_time": "2022-06-16T00:40:55.061072",
     "status": "completed"
    },
    "tags": []
   },
   "outputs": [],
   "source": [
    "#hide\n",
    "#delete problematic countries from table\n",
    "df_table = df_table[~df_table['Country/Region'].isin(['Cape Verde', 'Cruise Ship', 'Kosovo'])]"
   ]
  },
  {
   "cell_type": "code",
   "execution_count": 15,
   "id": "fantastic-effect",
   "metadata": {
    "execution": {
     "iopub.execute_input": "2022-06-16T00:40:55.166290Z",
     "iopub.status.busy": "2022-06-16T00:40:55.165730Z",
     "iopub.status.idle": "2022-06-16T00:40:55.182454Z",
     "shell.execute_reply": "2022-06-16T00:40:55.182907Z"
    },
    "papermill": {
     "duration": 0.05397,
     "end_time": "2022-06-16T00:40:55.183019",
     "exception": false,
     "start_time": "2022-06-16T00:40:55.129049",
     "status": "completed"
    },
    "tags": []
   },
   "outputs": [
    {
     "data": {
      "text/html": [
       "<div>\n",
       "<style scoped>\n",
       "    .dataframe tbody tr th:only-of-type {\n",
       "        vertical-align: middle;\n",
       "    }\n",
       "\n",
       "    .dataframe tbody tr th {\n",
       "        vertical-align: top;\n",
       "    }\n",
       "\n",
       "    .dataframe thead th {\n",
       "        text-align: right;\n",
       "    }\n",
       "</style>\n",
       "<table border=\"1\" class=\"dataframe\">\n",
       "  <thead>\n",
       "    <tr style=\"text-align: right;\">\n",
       "      <th></th>\n",
       "      <th>Country/Region</th>\n",
       "      <th>Cases</th>\n",
       "      <th>Deaths</th>\n",
       "      <th>PCases</th>\n",
       "      <th>PDeaths</th>\n",
       "      <th>Cases (+)</th>\n",
       "      <th>Deaths (+)</th>\n",
       "      <th>Fatality Rate</th>\n",
       "      <th>Continent</th>\n",
       "    </tr>\n",
       "  </thead>\n",
       "  <tbody>\n",
       "    <tr>\n",
       "      <th>0</th>\n",
       "      <td>US</td>\n",
       "      <td>85758638</td>\n",
       "      <td>1011925</td>\n",
       "      <td>85632808</td>\n",
       "      <td>1011543</td>\n",
       "      <td>125830</td>\n",
       "      <td>382</td>\n",
       "      <td>1.2</td>\n",
       "      <td>North America</td>\n",
       "    </tr>\n",
       "    <tr>\n",
       "      <th>1</th>\n",
       "      <td>India</td>\n",
       "      <td>43245517</td>\n",
       "      <td>524792</td>\n",
       "      <td>43236695</td>\n",
       "      <td>524777</td>\n",
       "      <td>8822</td>\n",
       "      <td>15</td>\n",
       "      <td>1.2</td>\n",
       "      <td>Asia</td>\n",
       "    </tr>\n",
       "    <tr>\n",
       "      <th>2</th>\n",
       "      <td>Brazil</td>\n",
       "      <td>31541479</td>\n",
       "      <td>668354</td>\n",
       "      <td>31497038</td>\n",
       "      <td>668180</td>\n",
       "      <td>44441</td>\n",
       "      <td>174</td>\n",
       "      <td>2.1</td>\n",
       "      <td>South America</td>\n",
       "    </tr>\n",
       "    <tr>\n",
       "      <th>3</th>\n",
       "      <td>France</td>\n",
       "      <td>30123426</td>\n",
       "      <td>149937</td>\n",
       "      <td>29946647</td>\n",
       "      <td>149788</td>\n",
       "      <td>176779</td>\n",
       "      <td>149</td>\n",
       "      <td>0.5</td>\n",
       "      <td>Europe</td>\n",
       "    </tr>\n",
       "    <tr>\n",
       "      <th>4</th>\n",
       "      <td>Germany</td>\n",
       "      <td>27007429</td>\n",
       "      <td>140026</td>\n",
       "      <td>26915085</td>\n",
       "      <td>139914</td>\n",
       "      <td>92344</td>\n",
       "      <td>112</td>\n",
       "      <td>0.5</td>\n",
       "      <td>Europe</td>\n",
       "    </tr>\n",
       "  </tbody>\n",
       "</table>\n",
       "</div>"
      ],
      "text/plain": [
       "  Country/Region     Cases   Deaths    PCases  PDeaths  Cases (+)  Deaths (+)  \\\n",
       "0             US  85758638  1011925  85632808  1011543     125830         382   \n",
       "1          India  43245517   524792  43236695   524777       8822          15   \n",
       "2         Brazil  31541479   668354  31497038   668180      44441         174   \n",
       "3         France  30123426   149937  29946647   149788     176779         149   \n",
       "4        Germany  27007429   140026  26915085   139914      92344         112   \n",
       "\n",
       "   Fatality Rate      Continent  \n",
       "0            1.2  North America  \n",
       "1            1.2           Asia  \n",
       "2            2.1  South America  \n",
       "3            0.5         Europe  \n",
       "4            0.5         Europe  "
      ]
     },
     "execution_count": 15,
     "metadata": {},
     "output_type": "execute_result"
    }
   ],
   "source": [
    "#hide\n",
    "df_table = (pd.DataFrame(dict(Cases=dfc_cases, Deaths=dfc_deaths, PCases=dfp_cases, PDeaths=dfp_deaths))\n",
    "             .sort_values(by=['Cases', 'Deaths'], ascending=[False, False])\n",
    "             .reset_index())\n",
    "df_table.rename(columns={'index': 'Country/Region'}, inplace=True)\n",
    "for c in 'Cases, Deaths'.split(', '):\n",
    "    df_table[f'{c} (+)'] = (df_table[c] - df_table[f'P{c}']).clip(0)  # DATA BUG\n",
    "df_table['Fatality Rate'] = (100 * df_table['Deaths'] / df_table['Cases']).round(1)\n",
    "df_table['Continent'] = df_table['Country/Region'].map(mapping['map.continent'])\n",
    "df_table.head(5)"
   ]
  },
  {
   "cell_type": "code",
   "execution_count": 16,
   "id": "fewer-occasion",
   "metadata": {
    "execution": {
     "iopub.execute_input": "2022-06-16T00:40:55.249820Z",
     "iopub.status.busy": "2022-06-16T00:40:55.249256Z",
     "iopub.status.idle": "2022-06-16T00:40:55.251750Z",
     "shell.execute_reply": "2022-06-16T00:40:55.251307Z"
    },
    "papermill": {
     "duration": 0.037838,
     "end_time": "2022-06-16T00:40:55.251846",
     "exception": false,
     "start_time": "2022-06-16T00:40:55.214008",
     "status": "completed"
    },
    "tags": []
   },
   "outputs": [],
   "source": [
    "#hide\n",
    "#delete problematic countries from table\n",
    "df_table = df_table[~df_table['Country/Region'].isin(['Cape Verde', 'Cruise Ship', 'Kosovo'])]"
   ]
  },
  {
   "cell_type": "code",
   "execution_count": 17,
   "id": "related-center",
   "metadata": {
    "execution": {
     "iopub.execute_input": "2022-06-16T00:40:55.315741Z",
     "iopub.status.busy": "2022-06-16T00:40:55.315196Z",
     "iopub.status.idle": "2022-06-16T00:40:55.331579Z",
     "shell.execute_reply": "2022-06-16T00:40:55.331147Z"
    },
    "papermill": {
     "duration": 0.049019,
     "end_time": "2022-06-16T00:40:55.331673",
     "exception": false,
     "start_time": "2022-06-16T00:40:55.282654",
     "status": "completed"
    },
    "tags": []
   },
   "outputs": [],
   "source": [
    "#hide\n",
    "metrics = [df_table.columns[index] for index in [1,2,5,6]]\n",
    "# s_china = df_table[df_table['Country/Region'].eq('China')][metrics].sum().add_prefix('China ')\n",
    "s_us = df_table[df_table['Country/Region'].eq('US')][metrics].sum().add_prefix('US ')\n",
    "s_eu = df_table[df_table['Continent'].eq('Europe')][metrics].sum().add_prefix('EU ')\n",
    "s_ind = df_table[df_table['Country/Region'].eq('India')][metrics].sum().add_prefix('India ')\n",
    "summary = {'updated': pd.to_datetime(dt_today), 'since': pd.to_datetime(dt_yday)}\n",
    "summary = {'updated': pd.to_datetime(dt_today), 'since': pd.to_datetime(dt_yday)}\n",
    "summary = {**summary, **df_table[metrics].sum(), **s_ind, **s_us, **s_eu}"
   ]
  },
  {
   "cell_type": "code",
   "execution_count": 18,
   "id": "engaging-syndrome",
   "metadata": {
    "execution": {
     "iopub.execute_input": "2022-06-16T00:40:55.397525Z",
     "iopub.status.busy": "2022-06-16T00:40:55.396965Z",
     "iopub.status.idle": "2022-06-16T00:40:55.413906Z",
     "shell.execute_reply": "2022-06-16T00:40:55.414365Z"
    },
    "papermill": {
     "duration": 0.052073,
     "end_time": "2022-06-16T00:40:55.414477",
     "exception": false,
     "start_time": "2022-06-16T00:40:55.362404",
     "status": "completed"
    },
    "tags": []
   },
   "outputs": [],
   "source": [
    "#hide\n",
    "dft_ct_new_cases = dft_cases.groupby(COL_REGION)[dt_cols].sum().diff(axis=1).fillna(0).astype(int)"
   ]
  },
  {
   "cell_type": "code",
   "execution_count": 19,
   "id": "neutral-assignment",
   "metadata": {
    "execution": {
     "iopub.execute_input": "2022-06-16T00:40:55.479715Z",
     "iopub.status.busy": "2022-06-16T00:40:55.479117Z",
     "iopub.status.idle": "2022-06-16T00:40:55.483378Z",
     "shell.execute_reply": "2022-06-16T00:40:55.482862Z"
    },
    "papermill": {
     "duration": 0.038275,
     "end_time": "2022-06-16T00:40:55.483474",
     "exception": false,
     "start_time": "2022-06-16T00:40:55.445199",
     "status": "completed"
    },
    "tags": []
   },
   "outputs": [],
   "source": [
    "#hide\n",
    "everydaycases = dft_ct_new_cases.cumsum(axis=1)"
   ]
  },
  {
   "cell_type": "code",
   "execution_count": 20,
   "id": "parliamentary-calgary",
   "metadata": {
    "execution": {
     "iopub.execute_input": "2022-06-16T00:40:55.548919Z",
     "iopub.status.busy": "2022-06-16T00:40:55.548350Z",
     "iopub.status.idle": "2022-06-16T00:40:56.092915Z",
     "shell.execute_reply": "2022-06-16T00:40:56.092443Z"
    },
    "papermill": {
     "duration": 0.578777,
     "end_time": "2022-06-16T00:40:56.093029",
     "exception": false,
     "start_time": "2022-06-16T00:40:55.514252",
     "status": "completed"
    },
    "tags": []
   },
   "outputs": [],
   "source": [
    "#hide\n",
    "import pandas as pd\n",
    "import matplotlib.pyplot as plt\n",
    "import matplotlib.ticker as ticker\n",
    "import matplotlib.animation as animation\n",
    "from IPython.display import HTML"
   ]
  },
  {
   "cell_type": "code",
   "execution_count": 21,
   "id": "lasting-extraction",
   "metadata": {
    "execution": {
     "iopub.execute_input": "2022-06-16T00:40:56.160509Z",
     "iopub.status.busy": "2022-06-16T00:40:56.159952Z",
     "iopub.status.idle": "2022-06-16T00:40:56.165951Z",
     "shell.execute_reply": "2022-06-16T00:40:56.166405Z"
    },
    "papermill": {
     "duration": 0.042632,
     "end_time": "2022-06-16T00:40:56.166522",
     "exception": false,
     "start_time": "2022-06-16T00:40:56.123890",
     "status": "completed"
    },
    "tags": []
   },
   "outputs": [],
   "source": [
    "#hide\n",
    "t = everydaycases.stack()"
   ]
  },
  {
   "cell_type": "code",
   "execution_count": 22,
   "id": "premier-sleeve",
   "metadata": {
    "execution": {
     "iopub.execute_input": "2022-06-16T00:40:56.232152Z",
     "iopub.status.busy": "2022-06-16T00:40:56.231586Z",
     "iopub.status.idle": "2022-06-16T00:40:56.242193Z",
     "shell.execute_reply": "2022-06-16T00:40:56.241755Z"
    },
    "papermill": {
     "duration": 0.044793,
     "end_time": "2022-06-16T00:40:56.242290",
     "exception": false,
     "start_time": "2022-06-16T00:40:56.197497",
     "status": "completed"
    },
    "tags": []
   },
   "outputs": [],
   "source": [
    "#hide\n",
    "g = t.reset_index(['Country/Region'])"
   ]
  },
  {
   "cell_type": "code",
   "execution_count": 23,
   "id": "distributed-pittsburgh",
   "metadata": {
    "execution": {
     "iopub.execute_input": "2022-06-16T00:40:56.307532Z",
     "iopub.status.busy": "2022-06-16T00:40:56.306973Z",
     "iopub.status.idle": "2022-06-16T00:40:56.309474Z",
     "shell.execute_reply": "2022-06-16T00:40:56.308968Z"
    },
    "papermill": {
     "duration": 0.036618,
     "end_time": "2022-06-16T00:40:56.309572",
     "exception": false,
     "start_time": "2022-06-16T00:40:56.272954",
     "status": "completed"
    },
    "tags": []
   },
   "outputs": [],
   "source": [
    "#hide\n",
    "g.index.name = 'date'"
   ]
  },
  {
   "cell_type": "code",
   "execution_count": 24,
   "id": "naked-donor",
   "metadata": {
    "execution": {
     "iopub.execute_input": "2022-06-16T00:40:56.374750Z",
     "iopub.status.busy": "2022-06-16T00:40:56.374165Z",
     "iopub.status.idle": "2022-06-16T00:40:56.376583Z",
     "shell.execute_reply": "2022-06-16T00:40:56.376066Z"
    },
    "papermill": {
     "duration": 0.036218,
     "end_time": "2022-06-16T00:40:56.376680",
     "exception": false,
     "start_time": "2022-06-16T00:40:56.340462",
     "status": "completed"
    },
    "tags": []
   },
   "outputs": [],
   "source": [
    "# #hide\n",
    "# g = g.reset_index(['date'])"
   ]
  },
  {
   "cell_type": "code",
   "execution_count": 25,
   "id": "incomplete-mustang",
   "metadata": {
    "execution": {
     "iopub.execute_input": "2022-06-16T00:40:56.441627Z",
     "iopub.status.busy": "2022-06-16T00:40:56.441069Z",
     "iopub.status.idle": "2022-06-16T00:40:56.443586Z",
     "shell.execute_reply": "2022-06-16T00:40:56.443144Z"
    },
    "papermill": {
     "duration": 0.036107,
     "end_time": "2022-06-16T00:40:56.443682",
     "exception": false,
     "start_time": "2022-06-16T00:40:56.407575",
     "status": "completed"
    },
    "tags": []
   },
   "outputs": [],
   "source": [
    "#hide\n",
    "# g.head()"
   ]
  },
  {
   "cell_type": "code",
   "execution_count": 26,
   "id": "specific-kruger",
   "metadata": {
    "execution": {
     "iopub.execute_input": "2022-06-16T00:40:56.508791Z",
     "iopub.status.busy": "2022-06-16T00:40:56.508227Z",
     "iopub.status.idle": "2022-06-16T00:40:56.510645Z",
     "shell.execute_reply": "2022-06-16T00:40:56.510097Z"
    },
    "papermill": {
     "duration": 0.036238,
     "end_time": "2022-06-16T00:40:56.510743",
     "exception": false,
     "start_time": "2022-06-16T00:40:56.474505",
     "status": "completed"
    },
    "tags": []
   },
   "outputs": [],
   "source": [
    "#hide\n",
    "# g.columns = ['date','country','cases']"
   ]
  },
  {
   "cell_type": "code",
   "execution_count": 27,
   "id": "tender-conversion",
   "metadata": {
    "execution": {
     "iopub.execute_input": "2022-06-16T00:40:56.575413Z",
     "iopub.status.busy": "2022-06-16T00:40:56.574846Z",
     "iopub.status.idle": "2022-06-16T00:40:56.577336Z",
     "shell.execute_reply": "2022-06-16T00:40:56.576815Z"
    },
    "papermill": {
     "duration": 0.036076,
     "end_time": "2022-06-16T00:40:56.577429",
     "exception": false,
     "start_time": "2022-06-16T00:40:56.541353",
     "status": "completed"
    },
    "tags": []
   },
   "outputs": [],
   "source": [
    "#hide\n",
    "# g['continent'] = g.country"
   ]
  },
  {
   "cell_type": "code",
   "execution_count": 28,
   "id": "substantial-wilderness",
   "metadata": {
    "execution": {
     "iopub.execute_input": "2022-06-16T00:40:56.642904Z",
     "iopub.status.busy": "2022-06-16T00:40:56.642311Z",
     "iopub.status.idle": "2022-06-16T00:40:56.644824Z",
     "shell.execute_reply": "2022-06-16T00:40:56.644376Z"
    },
    "papermill": {
     "duration": 0.036463,
     "end_time": "2022-06-16T00:40:56.644922",
     "exception": false,
     "start_time": "2022-06-16T00:40:56.608459",
     "status": "completed"
    },
    "tags": []
   },
   "outputs": [],
   "source": [
    "#hide\n",
    "# cols = list(g.columns.values)"
   ]
  },
  {
   "cell_type": "code",
   "execution_count": 29,
   "id": "solved-farming",
   "metadata": {
    "execution": {
     "iopub.execute_input": "2022-06-16T00:40:56.710330Z",
     "iopub.status.busy": "2022-06-16T00:40:56.709771Z",
     "iopub.status.idle": "2022-06-16T00:40:56.711918Z",
     "shell.execute_reply": "2022-06-16T00:40:56.711404Z"
    },
    "papermill": {
     "duration": 0.036409,
     "end_time": "2022-06-16T00:40:56.712016",
     "exception": false,
     "start_time": "2022-06-16T00:40:56.675607",
     "status": "completed"
    },
    "tags": []
   },
   "outputs": [],
   "source": [
    "#hide\n",
    "# cols.insert(0, cols.pop())"
   ]
  },
  {
   "cell_type": "code",
   "execution_count": 30,
   "id": "executed-adoption",
   "metadata": {
    "execution": {
     "iopub.execute_input": "2022-06-16T00:40:56.777404Z",
     "iopub.status.busy": "2022-06-16T00:40:56.776815Z",
     "iopub.status.idle": "2022-06-16T00:40:56.779337Z",
     "shell.execute_reply": "2022-06-16T00:40:56.778897Z"
    },
    "papermill": {
     "duration": 0.036473,
     "end_time": "2022-06-16T00:40:56.779433",
     "exception": false,
     "start_time": "2022-06-16T00:40:56.742960",
     "status": "completed"
    },
    "tags": []
   },
   "outputs": [],
   "source": [
    "#hide\n",
    "# g = g[cols]"
   ]
  },
  {
   "cell_type": "code",
   "execution_count": 31,
   "id": "subject-dublin",
   "metadata": {
    "execution": {
     "iopub.execute_input": "2022-06-16T00:40:56.844176Z",
     "iopub.status.busy": "2022-06-16T00:40:56.843623Z",
     "iopub.status.idle": "2022-06-16T00:40:56.847380Z",
     "shell.execute_reply": "2022-06-16T00:40:56.847782Z"
    },
    "papermill": {
     "duration": 0.037723,
     "end_time": "2022-06-16T00:40:56.847896",
     "exception": false,
     "start_time": "2022-06-16T00:40:56.810173",
     "status": "completed"
    },
    "tags": []
   },
   "outputs": [],
   "source": [
    "#hide\n",
    "# g['continent'] = g['continent'].map(mapping['map.continent'])"
   ]
  },
  {
   "cell_type": "code",
   "execution_count": 32,
   "id": "freelance-scout",
   "metadata": {
    "execution": {
     "iopub.execute_input": "2022-06-16T00:40:56.912609Z",
     "iopub.status.busy": "2022-06-16T00:40:56.912049Z",
     "iopub.status.idle": "2022-06-16T00:40:56.914435Z",
     "shell.execute_reply": "2022-06-16T00:40:56.913892Z"
    },
    "papermill": {
     "duration": 0.0358,
     "end_time": "2022-06-16T00:40:56.914531",
     "exception": false,
     "start_time": "2022-06-16T00:40:56.878731",
     "status": "completed"
    },
    "tags": []
   },
   "outputs": [],
   "source": [
    "#hide\n",
    "# g.head()"
   ]
  },
  {
   "cell_type": "code",
   "execution_count": 33,
   "id": "limited-engine",
   "metadata": {
    "execution": {
     "iopub.execute_input": "2022-06-16T00:40:56.979484Z",
     "iopub.status.busy": "2022-06-16T00:40:56.978925Z",
     "iopub.status.idle": "2022-06-16T00:40:56.981326Z",
     "shell.execute_reply": "2022-06-16T00:40:56.980809Z"
    },
    "papermill": {
     "duration": 0.036367,
     "end_time": "2022-06-16T00:40:56.981420",
     "exception": false,
     "start_time": "2022-06-16T00:40:56.945053",
     "status": "completed"
    },
    "tags": []
   },
   "outputs": [],
   "source": [
    "# hide\n",
    "# g['date'] = g['date'].astype('datetime64[ns]')"
   ]
  },
  {
   "cell_type": "code",
   "execution_count": 34,
   "id": "sophisticated-supervisor",
   "metadata": {
    "execution": {
     "iopub.execute_input": "2022-06-16T00:40:57.046222Z",
     "iopub.status.busy": "2022-06-16T00:40:57.045671Z",
     "iopub.status.idle": "2022-06-16T00:40:57.047947Z",
     "shell.execute_reply": "2022-06-16T00:40:57.047515Z"
    },
    "papermill": {
     "duration": 0.035834,
     "end_time": "2022-06-16T00:40:57.048039",
     "exception": false,
     "start_time": "2022-06-16T00:40:57.012205",
     "status": "completed"
    },
    "tags": []
   },
   "outputs": [],
   "source": [
    "#hide\n",
    "# g['date'] = g.date.dt.dayofyear"
   ]
  },
  {
   "cell_type": "code",
   "execution_count": 35,
   "id": "inside-dubai",
   "metadata": {
    "execution": {
     "iopub.execute_input": "2022-06-16T00:40:57.115417Z",
     "iopub.status.busy": "2022-06-16T00:40:57.114863Z",
     "iopub.status.idle": "2022-06-16T00:40:57.116734Z",
     "shell.execute_reply": "2022-06-16T00:40:57.117146Z"
    },
    "papermill": {
     "duration": 0.03853,
     "end_time": "2022-06-16T00:40:57.117253",
     "exception": false,
     "start_time": "2022-06-16T00:40:57.078723",
     "status": "completed"
    },
    "tags": []
   },
   "outputs": [],
   "source": [
    "#hide\n",
    "# g = g.rename(columns= {'continent':'group','country':'name','cases':'value'})"
   ]
  },
  {
   "cell_type": "code",
   "execution_count": 36,
   "id": "fleet-motorcycle",
   "metadata": {
    "execution": {
     "iopub.execute_input": "2022-06-16T00:40:57.182084Z",
     "iopub.status.busy": "2022-06-16T00:40:57.181515Z",
     "iopub.status.idle": "2022-06-16T00:40:57.184019Z",
     "shell.execute_reply": "2022-06-16T00:40:57.183587Z"
    },
    "papermill": {
     "duration": 0.036096,
     "end_time": "2022-06-16T00:40:57.184113",
     "exception": false,
     "start_time": "2022-06-16T00:40:57.148017",
     "status": "completed"
    },
    "tags": []
   },
   "outputs": [],
   "source": [
    "#hide\n",
    "# cols = ['name','group','day','value']"
   ]
  },
  {
   "cell_type": "code",
   "execution_count": 37,
   "id": "continued-sleeping",
   "metadata": {
    "execution": {
     "iopub.execute_input": "2022-06-16T00:40:57.248703Z",
     "iopub.status.busy": "2022-06-16T00:40:57.248149Z",
     "iopub.status.idle": "2022-06-16T00:40:57.250965Z",
     "shell.execute_reply": "2022-06-16T00:40:57.250503Z"
    },
    "papermill": {
     "duration": 0.036223,
     "end_time": "2022-06-16T00:40:57.251060",
     "exception": false,
     "start_time": "2022-06-16T00:40:57.214837",
     "status": "completed"
    },
    "tags": []
   },
   "outputs": [],
   "source": [
    "#hide\n",
    "# g.rename(columns= {'date':'day'},inplace = True)"
   ]
  },
  {
   "cell_type": "code",
   "execution_count": 38,
   "id": "major-fight",
   "metadata": {
    "execution": {
     "iopub.execute_input": "2022-06-16T00:40:57.315818Z",
     "iopub.status.busy": "2022-06-16T00:40:57.315267Z",
     "iopub.status.idle": "2022-06-16T00:40:57.317761Z",
     "shell.execute_reply": "2022-06-16T00:40:57.317317Z"
    },
    "papermill": {
     "duration": 0.035879,
     "end_time": "2022-06-16T00:40:57.317853",
     "exception": false,
     "start_time": "2022-06-16T00:40:57.281974",
     "status": "completed"
    },
    "tags": []
   },
   "outputs": [],
   "source": [
    "#hide\n",
    "# g = g[cols]"
   ]
  },
  {
   "cell_type": "code",
   "execution_count": 39,
   "id": "structured-mobile",
   "metadata": {
    "execution": {
     "iopub.execute_input": "2022-06-16T00:40:57.382398Z",
     "iopub.status.busy": "2022-06-16T00:40:57.381821Z",
     "iopub.status.idle": "2022-06-16T00:40:57.384273Z",
     "shell.execute_reply": "2022-06-16T00:40:57.383755Z"
    },
    "papermill": {
     "duration": 0.035797,
     "end_time": "2022-06-16T00:40:57.384365",
     "exception": false,
     "start_time": "2022-06-16T00:40:57.348568",
     "status": "completed"
    },
    "tags": []
   },
   "outputs": [],
   "source": [
    "# #hide\n",
    "# g = g[g.group.notna()]"
   ]
  },
  {
   "cell_type": "code",
   "execution_count": 40,
   "id": "determined-closing",
   "metadata": {
    "execution": {
     "iopub.execute_input": "2022-06-16T00:40:57.449556Z",
     "iopub.status.busy": "2022-06-16T00:40:57.448988Z",
     "iopub.status.idle": "2022-06-16T00:40:57.451357Z",
     "shell.execute_reply": "2022-06-16T00:40:57.450832Z"
    },
    "papermill": {
     "duration": 0.03626,
     "end_time": "2022-06-16T00:40:57.451451",
     "exception": false,
     "start_time": "2022-06-16T00:40:57.415191",
     "status": "completed"
    },
    "tags": []
   },
   "outputs": [],
   "source": [
    "# #hide\n",
    "# colors = dict(zip(\n",
    "#     [\"Oceania\", \"Europe\", \"Asia\", \"South America\", \"Middle East\", \"North America\", \"Africa\"],\n",
    "#     [\"#adb0ff\", \"#ffb3ff\", \"#90d595\", \"#e48381\", \"#aafbff\", \"#f7bb5f\", \"#eafb50\"]\n",
    "# ))\n",
    "# group_lk = g.set_index('name')['group'].to_dict()"
   ]
  },
  {
   "cell_type": "code",
   "execution_count": null,
   "id": "gross-drinking",
   "metadata": {
    "papermill": {
     "duration": 0.030655,
     "end_time": "2022-06-16T00:40:57.513146",
     "exception": false,
     "start_time": "2022-06-16T00:40:57.482491",
     "status": "completed"
    },
    "tags": []
   },
   "outputs": [],
   "source": []
  },
  {
   "cell_type": "code",
   "execution_count": 41,
   "id": "subject-macintosh",
   "metadata": {
    "execution": {
     "iopub.execute_input": "2022-06-16T00:40:57.578525Z",
     "iopub.status.busy": "2022-06-16T00:40:57.577940Z",
     "iopub.status.idle": "2022-06-16T00:40:57.580323Z",
     "shell.execute_reply": "2022-06-16T00:40:57.579803Z"
    },
    "papermill": {
     "duration": 0.036509,
     "end_time": "2022-06-16T00:40:57.580415",
     "exception": false,
     "start_time": "2022-06-16T00:40:57.543906",
     "status": "completed"
    },
    "tags": []
   },
   "outputs": [],
   "source": [
    "# #hide\n",
    "# fig, ax = plt.subplots(figsize=(15, 8))\n",
    "\n",
    "# def draw_barchart(current_day):\n",
    "#     dff = g[g['day'].eq(current_day)].sort_values(by='value', ascending=True).tail(10)\n",
    "#     ax.clear()\n",
    "#     ax.barh(dff['name'], dff['value'], color=[colors[group_lk[x]] for x in dff['name']])\n",
    "#     dx = dff['value'].max() / 200\n",
    "    \n",
    "#     for i, (value, name) in enumerate(zip(dff['value'], dff['name'])):\n",
    "#         ax.text(value-dx, i,     name,           size=14, weight=600, ha='right', va='bottom')\n",
    "#         ax.text(value-dx, i-.25, group_lk[name], size=10, color='#444444', ha='right', va='baseline')\n",
    "#         ax.text(value+dx, i,     f'{value:,.0f}',  size=14, ha='left',  va='center')\n",
    "#     ax.text(1, 0.4, current_day, transform=ax.transAxes, color='#777777', size=46, ha='right', weight=800)\n",
    "#     ax.text(0, 1.06, 'Population (thousands)', transform=ax.transAxes, size=12, color='#777777')\n",
    "#     ax.xaxis.set_major_formatter(ticker.StrMethodFormatter('{x:,.0f}'))\n",
    "#     ax.xaxis.set_ticks_position('top')\n",
    "#     ax.tick_params(axis='x', colors='#777777', labelsize=12)\n",
    "#     ax.set_yticks([])\n",
    "#     ax.margins(0, 0.01)\n",
    "#     ax.grid(which='major', axis='x', linestyle='-')\n",
    "#     ax.set_axisbelow(True)\n",
    "    \n",
    "#     ax.text(0, 1.15, 'Coronavirus',\n",
    "#             transform=ax.transAxes, size=24, weight=600, ha='left', va='top')\n",
    "# #     ax.text(1, 0, 'by @pratapvardhan; credit @jburnmurdoch', transform=ax.transAxes, color='#777777', ha='right',\n",
    "# #             bbox=dict(facecolor='white', alpha=0.8, edgecolor='white'))\n",
    "#     plt.box(False)"
   ]
  },
  {
   "cell_type": "code",
   "execution_count": 42,
   "id": "sexual-wages",
   "metadata": {
    "execution": {
     "iopub.execute_input": "2022-06-16T00:40:57.644863Z",
     "iopub.status.busy": "2022-06-16T00:40:57.644292Z",
     "iopub.status.idle": "2022-06-16T00:40:57.646661Z",
     "shell.execute_reply": "2022-06-16T00:40:57.646213Z"
    },
    "papermill": {
     "duration": 0.035661,
     "end_time": "2022-06-16T00:40:57.646753",
     "exception": false,
     "start_time": "2022-06-16T00:40:57.611092",
     "status": "completed"
    },
    "tags": []
   },
   "outputs": [],
   "source": [
    "# #hide_input\n",
    "# fig, ax = plt.subplots(figsize=(15, 8))\n",
    "# animator = animation.FuncAnimation(fig, draw_barchart, frames=range(g.day.values.min(), g.day.values.max()))\n",
    "# HTML(animator.to_jshtml())\n",
    "# # or use animator.to_html5_video() or animator.save() "
   ]
  },
  {
   "cell_type": "code",
   "execution_count": null,
   "id": "australian-container",
   "metadata": {
    "papermill": {
     "duration": 0.030658,
     "end_time": "2022-06-16T00:40:57.708225",
     "exception": false,
     "start_time": "2022-06-16T00:40:57.677567",
     "status": "completed"
    },
    "tags": []
   },
   "outputs": [],
   "source": []
  },
  {
   "cell_type": "code",
   "execution_count": null,
   "id": "mediterranean-pontiac",
   "metadata": {
    "papermill": {
     "duration": 0.030633,
     "end_time": "2022-06-16T00:40:57.769437",
     "exception": false,
     "start_time": "2022-06-16T00:40:57.738804",
     "status": "completed"
    },
    "tags": []
   },
   "outputs": [],
   "source": []
  },
  {
   "cell_type": "code",
   "execution_count": null,
   "id": "aging-legislature",
   "metadata": {
    "papermill": {
     "duration": 0.030739,
     "end_time": "2022-06-16T00:40:57.830941",
     "exception": false,
     "start_time": "2022-06-16T00:40:57.800202",
     "status": "completed"
    },
    "tags": []
   },
   "outputs": [],
   "source": []
  }
 ],
 "metadata": {
  "kernelspec": {
   "display_name": "Python 3",
   "language": "python",
   "name": "python3"
  },
  "language_info": {
   "codemirror_mode": {
    "name": "ipython",
    "version": 3
   },
   "file_extension": ".py",
   "mimetype": "text/x-python",
   "name": "python",
   "nbconvert_exporter": "python",
   "pygments_lexer": "ipython3",
   "version": "3.6.15"
  },
  "papermill": {
   "duration": 5.899266,
   "end_time": "2022-06-16T00:40:58.178496",
   "environment_variables": {},
   "exception": null,
   "input_path": "2020-03-21-covid19exp.ipynb",
   "output_path": "2020-03-21-covid19exp.ipynb",
   "parameters": {},
   "start_time": "2022-06-16T00:40:52.279230",
   "version": "2.0.0"
  }
 },
 "nbformat": 4,
 "nbformat_minor": 5
}