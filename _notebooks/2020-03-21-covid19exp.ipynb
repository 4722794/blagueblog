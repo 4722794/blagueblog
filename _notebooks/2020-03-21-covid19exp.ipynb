{
 "cells": [
  {
   "cell_type": "markdown",
   "id": "muslim-click",
   "metadata": {
    "papermill": {
     "duration": 0.034586,
     "end_time": "2022-09-06T00:50:40.479062",
     "exception": false,
     "start_time": "2022-09-06T00:50:40.444476",
     "status": "completed"
    },
    "tags": []
   },
   "source": [
    "# COVID-19 Case Race\n",
    "> A race chart to see rising cases around the world\n",
    "\n",
    "- author: Hargun Oberoi\n",
    "- image: images/covid-overview.png\n",
    "- hide: false\n",
    "- badges: false"
   ]
  },
  {
   "cell_type": "code",
   "execution_count": 1,
   "id": "proof-material",
   "metadata": {
    "execution": {
     "iopub.execute_input": "2022-09-06T00:50:40.547565Z",
     "iopub.status.busy": "2022-09-06T00:50:40.546968Z",
     "iopub.status.idle": "2022-09-06T00:50:40.868279Z",
     "shell.execute_reply": "2022-09-06T00:50:40.867220Z"
    },
    "papermill": {
     "duration": 0.360044,
     "end_time": "2022-09-06T00:50:40.868437",
     "exception": false,
     "start_time": "2022-09-06T00:50:40.508393",
     "status": "completed"
    },
    "tags": []
   },
   "outputs": [],
   "source": [
    "#hide\n",
    "import numpy as np\n",
    "import pandas as pd\n",
    "from jinja2 import Template\n",
    "from IPython.display import HTML"
   ]
  },
  {
   "cell_type": "code",
   "execution_count": 2,
   "id": "developed-terminology",
   "metadata": {
    "execution": {
     "iopub.execute_input": "2022-09-06T00:50:40.931050Z",
     "iopub.status.busy": "2022-09-06T00:50:40.930414Z",
     "iopub.status.idle": "2022-09-06T00:50:40.933040Z",
     "shell.execute_reply": "2022-09-06T00:50:40.932569Z"
    },
    "papermill": {
     "duration": 0.035746,
     "end_time": "2022-09-06T00:50:40.933148",
     "exception": false,
     "start_time": "2022-09-06T00:50:40.897402",
     "status": "completed"
    },
    "tags": []
   },
   "outputs": [],
   "source": [
    "#hide\n",
    "\n",
    "# FETCH\n",
    "base_url = 'https://raw.githubusercontent.com/pratapvardhan/notebooks/master/covid19/'\n",
    "paths = {\n",
    "    'mapping': base_url + 'mapping_countries.csv',\n",
    "    'overview': base_url + 'overview.tpl'\n",
    "}"
   ]
  },
  {
   "cell_type": "code",
   "execution_count": 3,
   "id": "dynamic-saver",
   "metadata": {
    "execution": {
     "iopub.execute_input": "2022-09-06T00:50:40.999508Z",
     "iopub.status.busy": "2022-09-06T00:50:40.998919Z",
     "iopub.status.idle": "2022-09-06T00:50:41.002046Z",
     "shell.execute_reply": "2022-09-06T00:50:41.002517Z"
    },
    "papermill": {
     "duration": 0.041008,
     "end_time": "2022-09-06T00:50:41.002660",
     "exception": false,
     "start_time": "2022-09-06T00:50:40.961652",
     "status": "completed"
    },
    "tags": []
   },
   "outputs": [
    {
     "data": {
      "text/plain": [
       "'https://raw.githubusercontent.com/pratapvardhan/notebooks/master/covid19/mapping_countries.csv'"
      ]
     },
     "execution_count": 3,
     "metadata": {},
     "output_type": "execute_result"
    }
   ],
   "source": [
    "#hide\n",
    "paths['mapping']"
   ]
  },
  {
   "cell_type": "code",
   "execution_count": 4,
   "id": "urban-software",
   "metadata": {
    "execution": {
     "iopub.execute_input": "2022-09-06T00:50:41.065488Z",
     "iopub.status.busy": "2022-09-06T00:50:41.064908Z",
     "iopub.status.idle": "2022-09-06T00:50:41.067415Z",
     "shell.execute_reply": "2022-09-06T00:50:41.066943Z"
    },
    "papermill": {
     "duration": 0.035854,
     "end_time": "2022-09-06T00:50:41.067516",
     "exception": false,
     "start_time": "2022-09-06T00:50:41.031662",
     "status": "completed"
    },
    "tags": []
   },
   "outputs": [],
   "source": [
    "#hide\n",
    "def get_mappings(url):\n",
    "    df = pd.read_csv(url)\n",
    "    return {\n",
    "        'df': df,\n",
    "        'replace.country': dict(df.dropna(subset=['Name']).set_index('Country')['Name']),\n",
    "        'map.continent': dict(df.set_index('Name')['Continent'])\n",
    "    }"
   ]
  },
  {
   "cell_type": "code",
   "execution_count": 5,
   "id": "intimate-machinery",
   "metadata": {
    "execution": {
     "iopub.execute_input": "2022-09-06T00:50:41.130496Z",
     "iopub.status.busy": "2022-09-06T00:50:41.129921Z",
     "iopub.status.idle": "2022-09-06T00:50:41.169238Z",
     "shell.execute_reply": "2022-09-06T00:50:41.168655Z"
    },
    "papermill": {
     "duration": 0.072851,
     "end_time": "2022-09-06T00:50:41.169366",
     "exception": false,
     "start_time": "2022-09-06T00:50:41.096515",
     "status": "completed"
    },
    "tags": []
   },
   "outputs": [],
   "source": [
    "#hide\n",
    "mapping = get_mappings(paths['mapping'])"
   ]
  },
  {
   "cell_type": "code",
   "execution_count": 6,
   "id": "certified-tactics",
   "metadata": {
    "execution": {
     "iopub.execute_input": "2022-09-06T00:50:41.238370Z",
     "iopub.status.busy": "2022-09-06T00:50:41.237771Z",
     "iopub.status.idle": "2022-09-06T00:50:41.240158Z",
     "shell.execute_reply": "2022-09-06T00:50:41.240580Z"
    },
    "papermill": {
     "duration": 0.038535,
     "end_time": "2022-09-06T00:50:41.240706",
     "exception": false,
     "start_time": "2022-09-06T00:50:41.202171",
     "status": "completed"
    },
    "tags": []
   },
   "outputs": [],
   "source": [
    "#hide\n",
    "def get_template(path):\n",
    "    from urllib.parse import urlparse\n",
    "    if bool(urlparse(path).netloc):\n",
    "        from urllib.request import urlopen\n",
    "        return urlopen(path).read().decode('utf8')\n",
    "    return open(path).read()"
   ]
  },
  {
   "cell_type": "code",
   "execution_count": 7,
   "id": "realistic-blast",
   "metadata": {
    "execution": {
     "iopub.execute_input": "2022-09-06T00:50:41.308650Z",
     "iopub.status.busy": "2022-09-06T00:50:41.307955Z",
     "iopub.status.idle": "2022-09-06T00:50:41.311051Z",
     "shell.execute_reply": "2022-09-06T00:50:41.310437Z"
    },
    "papermill": {
     "duration": 0.041458,
     "end_time": "2022-09-06T00:50:41.311163",
     "exception": false,
     "start_time": "2022-09-06T00:50:41.269705",
     "status": "completed"
    },
    "tags": []
   },
   "outputs": [],
   "source": [
    "#hide\n",
    "def get_frame(name):\n",
    "    url = (\n",
    "        'https://raw.githubusercontent.com/CSSEGISandData/COVID-19/master/csse_covid_19_data/'\n",
    "        f'csse_covid_19_time_series/time_series_covid19_{name}_global.csv')\n",
    "    df = pd.read_csv(url)\n",
    "    # rename countries\n",
    "    df['Country/Region'] = df['Country/Region'].replace(mapping['replace.country'])\n",
    "    return df"
   ]
  },
  {
   "cell_type": "code",
   "execution_count": 8,
   "id": "affiliated-characterization",
   "metadata": {
    "execution": {
     "iopub.execute_input": "2022-09-06T00:50:41.406017Z",
     "iopub.status.busy": "2022-09-06T00:50:41.405239Z",
     "iopub.status.idle": "2022-09-06T00:50:41.411912Z",
     "shell.execute_reply": "2022-09-06T00:50:41.412898Z"
    },
    "papermill": {
     "duration": 0.061022,
     "end_time": "2022-09-06T00:50:41.413036",
     "exception": false,
     "start_time": "2022-09-06T00:50:41.352014",
     "status": "completed"
    },
    "tags": []
   },
   "outputs": [],
   "source": [
    "#hide\n",
    "def get_dates(df):\n",
    "    dt_cols = df.columns[~df.columns.isin(['Province/State', 'Country/Region', 'Lat', 'Long'])]\n",
    "    LAST_DATE_I = -1\n",
    "    # sometimes last column may be empty, then go backwards\n",
    "    for i in range(-1, -len(dt_cols), -1):\n",
    "        if not df[dt_cols[i]].fillna(0).eq(0).all():\n",
    "            LAST_DATE_I = i\n",
    "            break\n",
    "    return LAST_DATE_I, dt_cols"
   ]
  },
  {
   "cell_type": "code",
   "execution_count": 9,
   "id": "recent-optimization",
   "metadata": {
    "execution": {
     "iopub.execute_input": "2022-09-06T00:50:41.496730Z",
     "iopub.status.busy": "2022-09-06T00:50:41.496026Z",
     "iopub.status.idle": "2022-09-06T00:50:41.975896Z",
     "shell.execute_reply": "2022-09-06T00:50:41.974856Z"
    },
    "papermill": {
     "duration": 0.533118,
     "end_time": "2022-09-06T00:50:41.976076",
     "exception": false,
     "start_time": "2022-09-06T00:50:41.442958",
     "status": "completed"
    },
    "tags": []
   },
   "outputs": [],
   "source": [
    "#hide\n",
    "COL_REGION = 'Country/Region'\n",
    "# Confirmed, Recovered, Deaths\n",
    "df = get_frame('confirmed')\n",
    "# dft_: timeseries, dfc_: today country agg\n",
    "dft_cases = df\n",
    "dft_deaths = get_frame('deaths')\n",
    "dft_recovered = get_frame('recovered')\n",
    "LAST_DATE_I, dt_cols = get_dates(df)"
   ]
  },
  {
   "cell_type": "code",
   "execution_count": 10,
   "id": "absolute-copper",
   "metadata": {
    "execution": {
     "iopub.execute_input": "2022-09-06T00:50:42.039765Z",
     "iopub.status.busy": "2022-09-06T00:50:42.039081Z",
     "iopub.status.idle": "2022-09-06T00:50:42.040880Z",
     "shell.execute_reply": "2022-09-06T00:50:42.041390Z"
    },
    "papermill": {
     "duration": 0.035972,
     "end_time": "2022-09-06T00:50:42.041527",
     "exception": false,
     "start_time": "2022-09-06T00:50:42.005555",
     "status": "completed"
    },
    "tags": []
   },
   "outputs": [],
   "source": [
    "#hide\n",
    "LAST_DATE_I, dt_cols = get_dates(df)\n",
    "dt_today =dt_cols[LAST_DATE_I]\n",
    "# dt_5day = dt_cols[LAST_DATE_I - 5]\n",
    "dt_yday = dt_cols[LAST_DATE_I - 1]"
   ]
  },
  {
   "cell_type": "code",
   "execution_count": 11,
   "id": "restricted-sheriff",
   "metadata": {
    "execution": {
     "iopub.execute_input": "2022-09-06T00:50:42.105172Z",
     "iopub.status.busy": "2022-09-06T00:50:42.104596Z",
     "iopub.status.idle": "2022-09-06T00:50:42.112593Z",
     "shell.execute_reply": "2022-09-06T00:50:42.113065Z"
    },
    "papermill": {
     "duration": 0.04217,
     "end_time": "2022-09-06T00:50:42.113186",
     "exception": false,
     "start_time": "2022-09-06T00:50:42.071016",
     "status": "completed"
    },
    "tags": []
   },
   "outputs": [],
   "source": [
    "#hide\n",
    "dfc_cases = dft_cases.groupby(COL_REGION)[dt_today].sum()\n",
    "dfc_deaths = dft_deaths.groupby(COL_REGION)[dt_today].sum()\n",
    "# dfp_cases = dft_cases.groupby(COL_REGION)[dt_5day].sum()\n",
    "# dfp_deaths = dft_deaths.groupby(COL_REGION)[dt_5day].sum()\n",
    "dfp_cases = dft_cases.groupby(COL_REGION)[dt_yday].sum()\n",
    "dfp_deaths = dft_deaths.groupby(COL_REGION)[dt_yday].sum()"
   ]
  },
  {
   "cell_type": "code",
   "execution_count": 12,
   "id": "deluxe-hepatitis",
   "metadata": {
    "execution": {
     "iopub.execute_input": "2022-09-06T00:50:42.176770Z",
     "iopub.status.busy": "2022-09-06T00:50:42.176201Z",
     "iopub.status.idle": "2022-09-06T00:50:42.180925Z",
     "shell.execute_reply": "2022-09-06T00:50:42.181462Z"
    },
    "papermill": {
     "duration": 0.03954,
     "end_time": "2022-09-06T00:50:42.181577",
     "exception": false,
     "start_time": "2022-09-06T00:50:42.142037",
     "status": "completed"
    },
    "tags": []
   },
   "outputs": [],
   "source": [
    "#hide\n",
    "df_table = (pd.DataFrame(dict(Cases = dfc_cases, Deaths = dfc_deaths, PCases = dfp_cases, PDeaths = dfp_deaths))\n",
    "            .sort_values(by = ['Cases','Deaths'], ascending = [False, False])\n",
    "            .reset_index())"
   ]
  },
  {
   "cell_type": "code",
   "execution_count": 13,
   "id": "educational-chancellor",
   "metadata": {
    "execution": {
     "iopub.execute_input": "2022-09-06T00:50:42.256950Z",
     "iopub.status.busy": "2022-09-06T00:50:42.256317Z",
     "iopub.status.idle": "2022-09-06T00:50:42.264542Z",
     "shell.execute_reply": "2022-09-06T00:50:42.264075Z"
    },
    "papermill": {
     "duration": 0.054201,
     "end_time": "2022-09-06T00:50:42.264641",
     "exception": false,
     "start_time": "2022-09-06T00:50:42.210440",
     "status": "completed"
    },
    "tags": []
   },
   "outputs": [
    {
     "data": {
      "text/html": [
       "<div>\n",
       "<style scoped>\n",
       "    .dataframe tbody tr th:only-of-type {\n",
       "        vertical-align: middle;\n",
       "    }\n",
       "\n",
       "    .dataframe tbody tr th {\n",
       "        vertical-align: top;\n",
       "    }\n",
       "\n",
       "    .dataframe thead th {\n",
       "        text-align: right;\n",
       "    }\n",
       "</style>\n",
       "<table border=\"1\" class=\"dataframe\">\n",
       "  <thead>\n",
       "    <tr style=\"text-align: right;\">\n",
       "      <th></th>\n",
       "      <th>Country/Region</th>\n",
       "      <th>Cases</th>\n",
       "      <th>Deaths</th>\n",
       "      <th>PCases</th>\n",
       "      <th>PDeaths</th>\n",
       "      <th>Cases (+)</th>\n",
       "      <th>Deaths (+)</th>\n",
       "      <th>Fatality Rate</th>\n",
       "      <th>Continent</th>\n",
       "    </tr>\n",
       "  </thead>\n",
       "  <tbody>\n",
       "    <tr>\n",
       "      <th>0</th>\n",
       "      <td>US</td>\n",
       "      <td>94748404</td>\n",
       "      <td>1047498</td>\n",
       "      <td>94742293</td>\n",
       "      <td>1047497</td>\n",
       "      <td>6111</td>\n",
       "      <td>1</td>\n",
       "      <td>1.11</td>\n",
       "      <td>North America</td>\n",
       "    </tr>\n",
       "    <tr>\n",
       "      <th>1</th>\n",
       "      <td>India</td>\n",
       "      <td>44462445</td>\n",
       "      <td>528007</td>\n",
       "      <td>44456535</td>\n",
       "      <td>527991</td>\n",
       "      <td>5910</td>\n",
       "      <td>16</td>\n",
       "      <td>1.19</td>\n",
       "      <td>Asia</td>\n",
       "    </tr>\n",
       "    <tr>\n",
       "      <th>2</th>\n",
       "      <td>France</td>\n",
       "      <td>34780903</td>\n",
       "      <td>155229</td>\n",
       "      <td>34780903</td>\n",
       "      <td>155229</td>\n",
       "      <td>0</td>\n",
       "      <td>0</td>\n",
       "      <td>0.45</td>\n",
       "      <td>Europe</td>\n",
       "    </tr>\n",
       "    <tr>\n",
       "      <th>3</th>\n",
       "      <td>Brazil</td>\n",
       "      <td>34456145</td>\n",
       "      <td>684262</td>\n",
       "      <td>34456145</td>\n",
       "      <td>684262</td>\n",
       "      <td>0</td>\n",
       "      <td>0</td>\n",
       "      <td>1.99</td>\n",
       "      <td>South America</td>\n",
       "    </tr>\n",
       "    <tr>\n",
       "      <th>4</th>\n",
       "      <td>Germany</td>\n",
       "      <td>32247828</td>\n",
       "      <td>147762</td>\n",
       "      <td>32247828</td>\n",
       "      <td>147762</td>\n",
       "      <td>0</td>\n",
       "      <td>0</td>\n",
       "      <td>0.46</td>\n",
       "      <td>Europe</td>\n",
       "    </tr>\n",
       "  </tbody>\n",
       "</table>\n",
       "</div>"
      ],
      "text/plain": [
       "  Country/Region     Cases   Deaths    PCases  PDeaths  Cases (+)  Deaths (+)  \\\n",
       "0             US  94748404  1047498  94742293  1047497       6111           1   \n",
       "1          India  44462445   528007  44456535   527991       5910          16   \n",
       "2         France  34780903   155229  34780903   155229          0           0   \n",
       "3         Brazil  34456145   684262  34456145   684262          0           0   \n",
       "4        Germany  32247828   147762  32247828   147762          0           0   \n",
       "\n",
       "   Fatality Rate      Continent  \n",
       "0           1.11  North America  \n",
       "1           1.19           Asia  \n",
       "2           0.45         Europe  \n",
       "3           1.99  South America  \n",
       "4           0.46         Europe  "
      ]
     },
     "execution_count": 13,
     "metadata": {},
     "output_type": "execute_result"
    }
   ],
   "source": [
    "#hide\n",
    "for c in 'Cases, Deaths'.split(', '):\n",
    "    df_table[f'{c} (+)'] = (df_table[c] - df_table[f'P{c}']).clip(0)\n",
    "    #Clip ça veut dire, les chiffres negatif sont interdit\n",
    "df_table['Fatality Rate'] = (100* df_table['Deaths']/ df_table['Cases']).round(2)\n",
    "df_table['Continent'] = df_table['Country/Region'].map(mapping['map.continent'])\n",
    "df_table.head(5)"
   ]
  },
  {
   "cell_type": "code",
   "execution_count": 14,
   "id": "aboriginal-bulgaria",
   "metadata": {
    "execution": {
     "iopub.execute_input": "2022-09-06T00:50:42.327930Z",
     "iopub.status.busy": "2022-09-06T00:50:42.327365Z",
     "iopub.status.idle": "2022-09-06T00:50:42.330341Z",
     "shell.execute_reply": "2022-09-06T00:50:42.330916Z"
    },
    "papermill": {
     "duration": 0.036895,
     "end_time": "2022-09-06T00:50:42.331030",
     "exception": false,
     "start_time": "2022-09-06T00:50:42.294135",
     "status": "completed"
    },
    "tags": []
   },
   "outputs": [],
   "source": [
    "#hide\n",
    "#delete problematic countries from table\n",
    "df_table = df_table[~df_table['Country/Region'].isin(['Cape Verde', 'Cruise Ship', 'Kosovo'])]"
   ]
  },
  {
   "cell_type": "code",
   "execution_count": 15,
   "id": "fantastic-effect",
   "metadata": {
    "execution": {
     "iopub.execute_input": "2022-09-06T00:50:42.396930Z",
     "iopub.status.busy": "2022-09-06T00:50:42.396359Z",
     "iopub.status.idle": "2022-09-06T00:50:42.414719Z",
     "shell.execute_reply": "2022-09-06T00:50:42.414144Z"
    },
    "papermill": {
     "duration": 0.054577,
     "end_time": "2022-09-06T00:50:42.414821",
     "exception": false,
     "start_time": "2022-09-06T00:50:42.360244",
     "status": "completed"
    },
    "tags": []
   },
   "outputs": [
    {
     "data": {
      "text/html": [
       "<div>\n",
       "<style scoped>\n",
       "    .dataframe tbody tr th:only-of-type {\n",
       "        vertical-align: middle;\n",
       "    }\n",
       "\n",
       "    .dataframe tbody tr th {\n",
       "        vertical-align: top;\n",
       "    }\n",
       "\n",
       "    .dataframe thead th {\n",
       "        text-align: right;\n",
       "    }\n",
       "</style>\n",
       "<table border=\"1\" class=\"dataframe\">\n",
       "  <thead>\n",
       "    <tr style=\"text-align: right;\">\n",
       "      <th></th>\n",
       "      <th>Country/Region</th>\n",
       "      <th>Cases</th>\n",
       "      <th>Deaths</th>\n",
       "      <th>PCases</th>\n",
       "      <th>PDeaths</th>\n",
       "      <th>Cases (+)</th>\n",
       "      <th>Deaths (+)</th>\n",
       "      <th>Fatality Rate</th>\n",
       "      <th>Continent</th>\n",
       "    </tr>\n",
       "  </thead>\n",
       "  <tbody>\n",
       "    <tr>\n",
       "      <th>0</th>\n",
       "      <td>US</td>\n",
       "      <td>94748404</td>\n",
       "      <td>1047498</td>\n",
       "      <td>94742293</td>\n",
       "      <td>1047497</td>\n",
       "      <td>6111</td>\n",
       "      <td>1</td>\n",
       "      <td>1.1</td>\n",
       "      <td>North America</td>\n",
       "    </tr>\n",
       "    <tr>\n",
       "      <th>1</th>\n",
       "      <td>India</td>\n",
       "      <td>44462445</td>\n",
       "      <td>528007</td>\n",
       "      <td>44456535</td>\n",
       "      <td>527991</td>\n",
       "      <td>5910</td>\n",
       "      <td>16</td>\n",
       "      <td>1.2</td>\n",
       "      <td>Asia</td>\n",
       "    </tr>\n",
       "    <tr>\n",
       "      <th>2</th>\n",
       "      <td>France</td>\n",
       "      <td>34780903</td>\n",
       "      <td>155229</td>\n",
       "      <td>34780903</td>\n",
       "      <td>155229</td>\n",
       "      <td>0</td>\n",
       "      <td>0</td>\n",
       "      <td>0.4</td>\n",
       "      <td>Europe</td>\n",
       "    </tr>\n",
       "    <tr>\n",
       "      <th>3</th>\n",
       "      <td>Brazil</td>\n",
       "      <td>34456145</td>\n",
       "      <td>684262</td>\n",
       "      <td>34456145</td>\n",
       "      <td>684262</td>\n",
       "      <td>0</td>\n",
       "      <td>0</td>\n",
       "      <td>2.0</td>\n",
       "      <td>South America</td>\n",
       "    </tr>\n",
       "    <tr>\n",
       "      <th>4</th>\n",
       "      <td>Germany</td>\n",
       "      <td>32247828</td>\n",
       "      <td>147762</td>\n",
       "      <td>32247828</td>\n",
       "      <td>147762</td>\n",
       "      <td>0</td>\n",
       "      <td>0</td>\n",
       "      <td>0.5</td>\n",
       "      <td>Europe</td>\n",
       "    </tr>\n",
       "  </tbody>\n",
       "</table>\n",
       "</div>"
      ],
      "text/plain": [
       "  Country/Region     Cases   Deaths    PCases  PDeaths  Cases (+)  Deaths (+)  \\\n",
       "0             US  94748404  1047498  94742293  1047497       6111           1   \n",
       "1          India  44462445   528007  44456535   527991       5910          16   \n",
       "2         France  34780903   155229  34780903   155229          0           0   \n",
       "3         Brazil  34456145   684262  34456145   684262          0           0   \n",
       "4        Germany  32247828   147762  32247828   147762          0           0   \n",
       "\n",
       "   Fatality Rate      Continent  \n",
       "0            1.1  North America  \n",
       "1            1.2           Asia  \n",
       "2            0.4         Europe  \n",
       "3            2.0  South America  \n",
       "4            0.5         Europe  "
      ]
     },
     "execution_count": 15,
     "metadata": {},
     "output_type": "execute_result"
    }
   ],
   "source": [
    "#hide\n",
    "df_table = (pd.DataFrame(dict(Cases=dfc_cases, Deaths=dfc_deaths, PCases=dfp_cases, PDeaths=dfp_deaths))\n",
    "             .sort_values(by=['Cases', 'Deaths'], ascending=[False, False])\n",
    "             .reset_index())\n",
    "df_table.rename(columns={'index': 'Country/Region'}, inplace=True)\n",
    "for c in 'Cases, Deaths'.split(', '):\n",
    "    df_table[f'{c} (+)'] = (df_table[c] - df_table[f'P{c}']).clip(0)  # DATA BUG\n",
    "df_table['Fatality Rate'] = (100 * df_table['Deaths'] / df_table['Cases']).round(1)\n",
    "df_table['Continent'] = df_table['Country/Region'].map(mapping['map.continent'])\n",
    "df_table.head(5)"
   ]
  },
  {
   "cell_type": "code",
   "execution_count": 16,
   "id": "fewer-occasion",
   "metadata": {
    "execution": {
     "iopub.execute_input": "2022-09-06T00:50:42.479313Z",
     "iopub.status.busy": "2022-09-06T00:50:42.478731Z",
     "iopub.status.idle": "2022-09-06T00:50:42.481723Z",
     "shell.execute_reply": "2022-09-06T00:50:42.482197Z"
    },
    "papermill": {
     "duration": 0.03752,
     "end_time": "2022-09-06T00:50:42.482308",
     "exception": false,
     "start_time": "2022-09-06T00:50:42.444788",
     "status": "completed"
    },
    "tags": []
   },
   "outputs": [],
   "source": [
    "#hide\n",
    "#delete problematic countries from table\n",
    "df_table = df_table[~df_table['Country/Region'].isin(['Cape Verde', 'Cruise Ship', 'Kosovo'])]"
   ]
  },
  {
   "cell_type": "code",
   "execution_count": 17,
   "id": "related-center",
   "metadata": {
    "execution": {
     "iopub.execute_input": "2022-09-06T00:50:42.549566Z",
     "iopub.status.busy": "2022-09-06T00:50:42.548993Z",
     "iopub.status.idle": "2022-09-06T00:50:42.561862Z",
     "shell.execute_reply": "2022-09-06T00:50:42.561305Z"
    },
    "papermill": {
     "duration": 0.049933,
     "end_time": "2022-09-06T00:50:42.561958",
     "exception": false,
     "start_time": "2022-09-06T00:50:42.512025",
     "status": "completed"
    },
    "tags": []
   },
   "outputs": [],
   "source": [
    "#hide\n",
    "metrics = [df_table.columns[index] for index in [1,2,5,6]]\n",
    "# s_china = df_table[df_table['Country/Region'].eq('China')][metrics].sum().add_prefix('China ')\n",
    "s_us = df_table[df_table['Country/Region'].eq('US')][metrics].sum().add_prefix('US ')\n",
    "s_eu = df_table[df_table['Continent'].eq('Europe')][metrics].sum().add_prefix('EU ')\n",
    "s_ind = df_table[df_table['Country/Region'].eq('India')][metrics].sum().add_prefix('India ')\n",
    "summary = {'updated': pd.to_datetime(dt_today), 'since': pd.to_datetime(dt_yday)}\n",
    "summary = {'updated': pd.to_datetime(dt_today), 'since': pd.to_datetime(dt_yday)}\n",
    "summary = {**summary, **df_table[metrics].sum(), **s_ind, **s_us, **s_eu}"
   ]
  },
  {
   "cell_type": "code",
   "execution_count": 18,
   "id": "engaging-syndrome",
   "metadata": {
    "execution": {
     "iopub.execute_input": "2022-09-06T00:50:42.626848Z",
     "iopub.status.busy": "2022-09-06T00:50:42.626251Z",
     "iopub.status.idle": "2022-09-06T00:50:42.645369Z",
     "shell.execute_reply": "2022-09-06T00:50:42.645814Z"
    },
    "papermill": {
     "duration": 0.053565,
     "end_time": "2022-09-06T00:50:42.645937",
     "exception": false,
     "start_time": "2022-09-06T00:50:42.592372",
     "status": "completed"
    },
    "tags": []
   },
   "outputs": [],
   "source": [
    "#hide\n",
    "dft_ct_new_cases = dft_cases.groupby(COL_REGION)[dt_cols].sum().diff(axis=1).fillna(0).astype(int)"
   ]
  },
  {
   "cell_type": "code",
   "execution_count": 19,
   "id": "neutral-assignment",
   "metadata": {
    "execution": {
     "iopub.execute_input": "2022-09-06T00:50:42.709357Z",
     "iopub.status.busy": "2022-09-06T00:50:42.708770Z",
     "iopub.status.idle": "2022-09-06T00:50:42.713046Z",
     "shell.execute_reply": "2022-09-06T00:50:42.713595Z"
    },
    "papermill": {
     "duration": 0.037821,
     "end_time": "2022-09-06T00:50:42.713708",
     "exception": false,
     "start_time": "2022-09-06T00:50:42.675887",
     "status": "completed"
    },
    "tags": []
   },
   "outputs": [],
   "source": [
    "#hide\n",
    "everydaycases = dft_ct_new_cases.cumsum(axis=1)"
   ]
  },
  {
   "cell_type": "code",
   "execution_count": 20,
   "id": "parliamentary-calgary",
   "metadata": {
    "execution": {
     "iopub.execute_input": "2022-09-06T00:50:42.778177Z",
     "iopub.status.busy": "2022-09-06T00:50:42.777605Z",
     "iopub.status.idle": "2022-09-06T00:50:43.321763Z",
     "shell.execute_reply": "2022-09-06T00:50:43.322294Z"
    },
    "papermill": {
     "duration": 0.578457,
     "end_time": "2022-09-06T00:50:43.322462",
     "exception": false,
     "start_time": "2022-09-06T00:50:42.744005",
     "status": "completed"
    },
    "tags": []
   },
   "outputs": [],
   "source": [
    "#hide\n",
    "import pandas as pd\n",
    "import matplotlib.pyplot as plt\n",
    "import matplotlib.ticker as ticker\n",
    "import matplotlib.animation as animation\n",
    "from IPython.display import HTML"
   ]
  },
  {
   "cell_type": "code",
   "execution_count": 21,
   "id": "lasting-extraction",
   "metadata": {
    "execution": {
     "iopub.execute_input": "2022-09-06T00:50:43.389558Z",
     "iopub.status.busy": "2022-09-06T00:50:43.388970Z",
     "iopub.status.idle": "2022-09-06T00:50:43.397342Z",
     "shell.execute_reply": "2022-09-06T00:50:43.396871Z"
    },
    "papermill": {
     "duration": 0.044673,
     "end_time": "2022-09-06T00:50:43.397448",
     "exception": false,
     "start_time": "2022-09-06T00:50:43.352775",
     "status": "completed"
    },
    "tags": []
   },
   "outputs": [],
   "source": [
    "#hide\n",
    "t = everydaycases.stack()"
   ]
  },
  {
   "cell_type": "code",
   "execution_count": 22,
   "id": "premier-sleeve",
   "metadata": {
    "execution": {
     "iopub.execute_input": "2022-09-06T00:50:43.461392Z",
     "iopub.status.busy": "2022-09-06T00:50:43.460818Z",
     "iopub.status.idle": "2022-09-06T00:50:43.472878Z",
     "shell.execute_reply": "2022-09-06T00:50:43.473420Z"
    },
    "papermill": {
     "duration": 0.045961,
     "end_time": "2022-09-06T00:50:43.473536",
     "exception": false,
     "start_time": "2022-09-06T00:50:43.427575",
     "status": "completed"
    },
    "tags": []
   },
   "outputs": [],
   "source": [
    "#hide\n",
    "g = t.reset_index(['Country/Region'])"
   ]
  },
  {
   "cell_type": "code",
   "execution_count": 23,
   "id": "distributed-pittsburgh",
   "metadata": {
    "execution": {
     "iopub.execute_input": "2022-09-06T00:50:43.537422Z",
     "iopub.status.busy": "2022-09-06T00:50:43.536666Z",
     "iopub.status.idle": "2022-09-06T00:50:43.539226Z",
     "shell.execute_reply": "2022-09-06T00:50:43.538750Z"
    },
    "papermill": {
     "duration": 0.035896,
     "end_time": "2022-09-06T00:50:43.539334",
     "exception": false,
     "start_time": "2022-09-06T00:50:43.503438",
     "status": "completed"
    },
    "tags": []
   },
   "outputs": [],
   "source": [
    "#hide\n",
    "g.index.name = 'date'"
   ]
  },
  {
   "cell_type": "code",
   "execution_count": 24,
   "id": "naked-donor",
   "metadata": {
    "execution": {
     "iopub.execute_input": "2022-09-06T00:50:43.602557Z",
     "iopub.status.busy": "2022-09-06T00:50:43.601987Z",
     "iopub.status.idle": "2022-09-06T00:50:43.604121Z",
     "shell.execute_reply": "2022-09-06T00:50:43.604673Z"
    },
    "papermill": {
     "duration": 0.035552,
     "end_time": "2022-09-06T00:50:43.604787",
     "exception": false,
     "start_time": "2022-09-06T00:50:43.569235",
     "status": "completed"
    },
    "tags": []
   },
   "outputs": [],
   "source": [
    "# #hide\n",
    "# g = g.reset_index(['date'])"
   ]
  },
  {
   "cell_type": "code",
   "execution_count": 25,
   "id": "incomplete-mustang",
   "metadata": {
    "execution": {
     "iopub.execute_input": "2022-09-06T00:50:43.666966Z",
     "iopub.status.busy": "2022-09-06T00:50:43.666368Z",
     "iopub.status.idle": "2022-09-06T00:50:43.670468Z",
     "shell.execute_reply": "2022-09-06T00:50:43.670967Z"
    },
    "papermill": {
     "duration": 0.036508,
     "end_time": "2022-09-06T00:50:43.671099",
     "exception": false,
     "start_time": "2022-09-06T00:50:43.634591",
     "status": "completed"
    },
    "tags": []
   },
   "outputs": [],
   "source": [
    "#hide\n",
    "# g.head()"
   ]
  },
  {
   "cell_type": "code",
   "execution_count": 26,
   "id": "specific-kruger",
   "metadata": {
    "execution": {
     "iopub.execute_input": "2022-09-06T00:50:43.734185Z",
     "iopub.status.busy": "2022-09-06T00:50:43.733613Z",
     "iopub.status.idle": "2022-09-06T00:50:43.735947Z",
     "shell.execute_reply": "2022-09-06T00:50:43.736496Z"
    },
    "papermill": {
     "duration": 0.035545,
     "end_time": "2022-09-06T00:50:43.736607",
     "exception": false,
     "start_time": "2022-09-06T00:50:43.701062",
     "status": "completed"
    },
    "tags": []
   },
   "outputs": [],
   "source": [
    "#hide\n",
    "# g.columns = ['date','country','cases']"
   ]
  },
  {
   "cell_type": "code",
   "execution_count": 27,
   "id": "tender-conversion",
   "metadata": {
    "execution": {
     "iopub.execute_input": "2022-09-06T00:50:43.800013Z",
     "iopub.status.busy": "2022-09-06T00:50:43.799447Z",
     "iopub.status.idle": "2022-09-06T00:50:43.802053Z",
     "shell.execute_reply": "2022-09-06T00:50:43.801591Z"
    },
    "papermill": {
     "duration": 0.03575,
     "end_time": "2022-09-06T00:50:43.802151",
     "exception": false,
     "start_time": "2022-09-06T00:50:43.766401",
     "status": "completed"
    },
    "tags": []
   },
   "outputs": [],
   "source": [
    "#hide\n",
    "# g['continent'] = g.country"
   ]
  },
  {
   "cell_type": "code",
   "execution_count": 28,
   "id": "substantial-wilderness",
   "metadata": {
    "execution": {
     "iopub.execute_input": "2022-09-06T00:50:43.865145Z",
     "iopub.status.busy": "2022-09-06T00:50:43.864579Z",
     "iopub.status.idle": "2022-09-06T00:50:43.867169Z",
     "shell.execute_reply": "2022-09-06T00:50:43.867647Z"
    },
    "papermill": {
     "duration": 0.035541,
     "end_time": "2022-09-06T00:50:43.867760",
     "exception": false,
     "start_time": "2022-09-06T00:50:43.832219",
     "status": "completed"
    },
    "tags": []
   },
   "outputs": [],
   "source": [
    "#hide\n",
    "# cols = list(g.columns.values)"
   ]
  },
  {
   "cell_type": "code",
   "execution_count": 29,
   "id": "solved-farming",
   "metadata": {
    "execution": {
     "iopub.execute_input": "2022-09-06T00:50:43.930580Z",
     "iopub.status.busy": "2022-09-06T00:50:43.930003Z",
     "iopub.status.idle": "2022-09-06T00:50:43.932622Z",
     "shell.execute_reply": "2022-09-06T00:50:43.932062Z"
    },
    "papermill": {
     "duration": 0.035176,
     "end_time": "2022-09-06T00:50:43.932721",
     "exception": false,
     "start_time": "2022-09-06T00:50:43.897545",
     "status": "completed"
    },
    "tags": []
   },
   "outputs": [],
   "source": [
    "#hide\n",
    "# cols.insert(0, cols.pop())"
   ]
  },
  {
   "cell_type": "code",
   "execution_count": 30,
   "id": "executed-adoption",
   "metadata": {
    "execution": {
     "iopub.execute_input": "2022-09-06T00:50:43.996417Z",
     "iopub.status.busy": "2022-09-06T00:50:43.995683Z",
     "iopub.status.idle": "2022-09-06T00:50:43.998292Z",
     "shell.execute_reply": "2022-09-06T00:50:43.997738Z"
    },
    "papermill": {
     "duration": 0.035703,
     "end_time": "2022-09-06T00:50:43.998405",
     "exception": false,
     "start_time": "2022-09-06T00:50:43.962702",
     "status": "completed"
    },
    "tags": []
   },
   "outputs": [],
   "source": [
    "#hide\n",
    "# g = g[cols]"
   ]
  },
  {
   "cell_type": "code",
   "execution_count": 31,
   "id": "subject-dublin",
   "metadata": {
    "execution": {
     "iopub.execute_input": "2022-09-06T00:50:44.062531Z",
     "iopub.status.busy": "2022-09-06T00:50:44.061791Z",
     "iopub.status.idle": "2022-09-06T00:50:44.063983Z",
     "shell.execute_reply": "2022-09-06T00:50:44.064437Z"
    },
    "papermill": {
     "duration": 0.03571,
     "end_time": "2022-09-06T00:50:44.064558",
     "exception": false,
     "start_time": "2022-09-06T00:50:44.028848",
     "status": "completed"
    },
    "tags": []
   },
   "outputs": [],
   "source": [
    "#hide\n",
    "# g['continent'] = g['continent'].map(mapping['map.continent'])"
   ]
  },
  {
   "cell_type": "code",
   "execution_count": 32,
   "id": "freelance-scout",
   "metadata": {
    "execution": {
     "iopub.execute_input": "2022-09-06T00:50:44.128472Z",
     "iopub.status.busy": "2022-09-06T00:50:44.127763Z",
     "iopub.status.idle": "2022-09-06T00:50:44.132067Z",
     "shell.execute_reply": "2022-09-06T00:50:44.132551Z"
    },
    "papermill": {
     "duration": 0.038097,
     "end_time": "2022-09-06T00:50:44.132694",
     "exception": false,
     "start_time": "2022-09-06T00:50:44.094597",
     "status": "completed"
    },
    "tags": []
   },
   "outputs": [],
   "source": [
    "#hide\n",
    "# g.head()"
   ]
  },
  {
   "cell_type": "code",
   "execution_count": 33,
   "id": "limited-engine",
   "metadata": {
    "execution": {
     "iopub.execute_input": "2022-09-06T00:50:44.195836Z",
     "iopub.status.busy": "2022-09-06T00:50:44.195267Z",
     "iopub.status.idle": "2022-09-06T00:50:44.198108Z",
     "shell.execute_reply": "2022-09-06T00:50:44.197643Z"
    },
    "papermill": {
     "duration": 0.035388,
     "end_time": "2022-09-06T00:50:44.198208",
     "exception": false,
     "start_time": "2022-09-06T00:50:44.162820",
     "status": "completed"
    },
    "tags": []
   },
   "outputs": [],
   "source": [
    "# hide\n",
    "# g['date'] = g['date'].astype('datetime64[ns]')"
   ]
  },
  {
   "cell_type": "code",
   "execution_count": 34,
   "id": "sophisticated-supervisor",
   "metadata": {
    "execution": {
     "iopub.execute_input": "2022-09-06T00:50:44.261804Z",
     "iopub.status.busy": "2022-09-06T00:50:44.261236Z",
     "iopub.status.idle": "2022-09-06T00:50:44.263723Z",
     "shell.execute_reply": "2022-09-06T00:50:44.264198Z"
    },
    "papermill": {
     "duration": 0.035943,
     "end_time": "2022-09-06T00:50:44.264309",
     "exception": false,
     "start_time": "2022-09-06T00:50:44.228366",
     "status": "completed"
    },
    "tags": []
   },
   "outputs": [],
   "source": [
    "#hide\n",
    "# g['date'] = g.date.dt.dayofyear"
   ]
  },
  {
   "cell_type": "code",
   "execution_count": 35,
   "id": "inside-dubai",
   "metadata": {
    "execution": {
     "iopub.execute_input": "2022-09-06T00:50:44.327226Z",
     "iopub.status.busy": "2022-09-06T00:50:44.326616Z",
     "iopub.status.idle": "2022-09-06T00:50:44.329800Z",
     "shell.execute_reply": "2022-09-06T00:50:44.329336Z"
    },
    "papermill": {
     "duration": 0.035798,
     "end_time": "2022-09-06T00:50:44.329899",
     "exception": false,
     "start_time": "2022-09-06T00:50:44.294101",
     "status": "completed"
    },
    "tags": []
   },
   "outputs": [],
   "source": [
    "#hide\n",
    "# g = g.rename(columns= {'continent':'group','country':'name','cases':'value'})"
   ]
  },
  {
   "cell_type": "code",
   "execution_count": 36,
   "id": "fleet-motorcycle",
   "metadata": {
    "execution": {
     "iopub.execute_input": "2022-09-06T00:50:44.393666Z",
     "iopub.status.busy": "2022-09-06T00:50:44.393011Z",
     "iopub.status.idle": "2022-09-06T00:50:44.395141Z",
     "shell.execute_reply": "2022-09-06T00:50:44.395622Z"
    },
    "papermill": {
     "duration": 0.03581,
     "end_time": "2022-09-06T00:50:44.395751",
     "exception": false,
     "start_time": "2022-09-06T00:50:44.359941",
     "status": "completed"
    },
    "tags": []
   },
   "outputs": [],
   "source": [
    "#hide\n",
    "# cols = ['name','group','day','value']"
   ]
  },
  {
   "cell_type": "code",
   "execution_count": 37,
   "id": "continued-sleeping",
   "metadata": {
    "execution": {
     "iopub.execute_input": "2022-09-06T00:50:44.459326Z",
     "iopub.status.busy": "2022-09-06T00:50:44.458568Z",
     "iopub.status.idle": "2022-09-06T00:50:44.460229Z",
     "shell.execute_reply": "2022-09-06T00:50:44.460701Z"
    },
    "papermill": {
     "duration": 0.034864,
     "end_time": "2022-09-06T00:50:44.460811",
     "exception": false,
     "start_time": "2022-09-06T00:50:44.425947",
     "status": "completed"
    },
    "tags": []
   },
   "outputs": [],
   "source": [
    "#hide\n",
    "# g.rename(columns= {'date':'day'},inplace = True)"
   ]
  },
  {
   "cell_type": "code",
   "execution_count": 38,
   "id": "major-fight",
   "metadata": {
    "execution": {
     "iopub.execute_input": "2022-09-06T00:50:44.524117Z",
     "iopub.status.busy": "2022-09-06T00:50:44.523547Z",
     "iopub.status.idle": "2022-09-06T00:50:44.526148Z",
     "shell.execute_reply": "2022-09-06T00:50:44.526595Z"
    },
    "papermill": {
     "duration": 0.035957,
     "end_time": "2022-09-06T00:50:44.526728",
     "exception": false,
     "start_time": "2022-09-06T00:50:44.490771",
     "status": "completed"
    },
    "tags": []
   },
   "outputs": [],
   "source": [
    "#hide\n",
    "# g = g[cols]"
   ]
  },
  {
   "cell_type": "code",
   "execution_count": 39,
   "id": "structured-mobile",
   "metadata": {
    "execution": {
     "iopub.execute_input": "2022-09-06T00:50:44.589775Z",
     "iopub.status.busy": "2022-09-06T00:50:44.589101Z",
     "iopub.status.idle": "2022-09-06T00:50:44.591655Z",
     "shell.execute_reply": "2022-09-06T00:50:44.591043Z"
    },
    "papermill": {
     "duration": 0.035365,
     "end_time": "2022-09-06T00:50:44.591755",
     "exception": false,
     "start_time": "2022-09-06T00:50:44.556390",
     "status": "completed"
    },
    "tags": []
   },
   "outputs": [],
   "source": [
    "# #hide\n",
    "# g = g[g.group.notna()]"
   ]
  },
  {
   "cell_type": "code",
   "execution_count": 40,
   "id": "determined-closing",
   "metadata": {
    "execution": {
     "iopub.execute_input": "2022-09-06T00:50:44.655234Z",
     "iopub.status.busy": "2022-09-06T00:50:44.654614Z",
     "iopub.status.idle": "2022-09-06T00:50:44.657019Z",
     "shell.execute_reply": "2022-09-06T00:50:44.657467Z"
    },
    "papermill": {
     "duration": 0.035889,
     "end_time": "2022-09-06T00:50:44.657577",
     "exception": false,
     "start_time": "2022-09-06T00:50:44.621688",
     "status": "completed"
    },
    "tags": []
   },
   "outputs": [],
   "source": [
    "# #hide\n",
    "# colors = dict(zip(\n",
    "#     [\"Oceania\", \"Europe\", \"Asia\", \"South America\", \"Middle East\", \"North America\", \"Africa\"],\n",
    "#     [\"#adb0ff\", \"#ffb3ff\", \"#90d595\", \"#e48381\", \"#aafbff\", \"#f7bb5f\", \"#eafb50\"]\n",
    "# ))\n",
    "# group_lk = g.set_index('name')['group'].to_dict()"
   ]
  },
  {
   "cell_type": "code",
   "execution_count": null,
   "id": "gross-drinking",
   "metadata": {
    "papermill": {
     "duration": 0.029802,
     "end_time": "2022-09-06T00:50:44.717136",
     "exception": false,
     "start_time": "2022-09-06T00:50:44.687334",
     "status": "completed"
    },
    "tags": []
   },
   "outputs": [],
   "source": []
  },
  {
   "cell_type": "code",
   "execution_count": 41,
   "id": "subject-macintosh",
   "metadata": {
    "execution": {
     "iopub.execute_input": "2022-09-06T00:50:44.781889Z",
     "iopub.status.busy": "2022-09-06T00:50:44.781200Z",
     "iopub.status.idle": "2022-09-06T00:50:44.783753Z",
     "shell.execute_reply": "2022-09-06T00:50:44.783177Z"
    },
    "papermill": {
     "duration": 0.036784,
     "end_time": "2022-09-06T00:50:44.783854",
     "exception": false,
     "start_time": "2022-09-06T00:50:44.747070",
     "status": "completed"
    },
    "tags": []
   },
   "outputs": [],
   "source": [
    "# #hide\n",
    "# fig, ax = plt.subplots(figsize=(15, 8))\n",
    "\n",
    "# def draw_barchart(current_day):\n",
    "#     dff = g[g['day'].eq(current_day)].sort_values(by='value', ascending=True).tail(10)\n",
    "#     ax.clear()\n",
    "#     ax.barh(dff['name'], dff['value'], color=[colors[group_lk[x]] for x in dff['name']])\n",
    "#     dx = dff['value'].max() / 200\n",
    "    \n",
    "#     for i, (value, name) in enumerate(zip(dff['value'], dff['name'])):\n",
    "#         ax.text(value-dx, i,     name,           size=14, weight=600, ha='right', va='bottom')\n",
    "#         ax.text(value-dx, i-.25, group_lk[name], size=10, color='#444444', ha='right', va='baseline')\n",
    "#         ax.text(value+dx, i,     f'{value:,.0f}',  size=14, ha='left',  va='center')\n",
    "#     ax.text(1, 0.4, current_day, transform=ax.transAxes, color='#777777', size=46, ha='right', weight=800)\n",
    "#     ax.text(0, 1.06, 'Population (thousands)', transform=ax.transAxes, size=12, color='#777777')\n",
    "#     ax.xaxis.set_major_formatter(ticker.StrMethodFormatter('{x:,.0f}'))\n",
    "#     ax.xaxis.set_ticks_position('top')\n",
    "#     ax.tick_params(axis='x', colors='#777777', labelsize=12)\n",
    "#     ax.set_yticks([])\n",
    "#     ax.margins(0, 0.01)\n",
    "#     ax.grid(which='major', axis='x', linestyle='-')\n",
    "#     ax.set_axisbelow(True)\n",
    "    \n",
    "#     ax.text(0, 1.15, 'Coronavirus',\n",
    "#             transform=ax.transAxes, size=24, weight=600, ha='left', va='top')\n",
    "# #     ax.text(1, 0, 'by @pratapvardhan; credit @jburnmurdoch', transform=ax.transAxes, color='#777777', ha='right',\n",
    "# #             bbox=dict(facecolor='white', alpha=0.8, edgecolor='white'))\n",
    "#     plt.box(False)"
   ]
  },
  {
   "cell_type": "code",
   "execution_count": 42,
   "id": "sexual-wages",
   "metadata": {
    "execution": {
     "iopub.execute_input": "2022-09-06T00:50:44.847737Z",
     "iopub.status.busy": "2022-09-06T00:50:44.847071Z",
     "iopub.status.idle": "2022-09-06T00:50:44.849676Z",
     "shell.execute_reply": "2022-09-06T00:50:44.849035Z"
    },
    "papermill": {
     "duration": 0.035559,
     "end_time": "2022-09-06T00:50:44.849790",
     "exception": false,
     "start_time": "2022-09-06T00:50:44.814231",
     "status": "completed"
    },
    "tags": []
   },
   "outputs": [],
   "source": [
    "# #hide_input\n",
    "# fig, ax = plt.subplots(figsize=(15, 8))\n",
    "# animator = animation.FuncAnimation(fig, draw_barchart, frames=range(g.day.values.min(), g.day.values.max()))\n",
    "# HTML(animator.to_jshtml())\n",
    "# # or use animator.to_html5_video() or animator.save() "
   ]
  },
  {
   "cell_type": "code",
   "execution_count": null,
   "id": "australian-container",
   "metadata": {
    "papermill": {
     "duration": 0.029823,
     "end_time": "2022-09-06T00:50:44.910056",
     "exception": false,
     "start_time": "2022-09-06T00:50:44.880233",
     "status": "completed"
    },
    "tags": []
   },
   "outputs": [],
   "source": []
  },
  {
   "cell_type": "code",
   "execution_count": null,
   "id": "mediterranean-pontiac",
   "metadata": {
    "papermill": {
     "duration": 0.029757,
     "end_time": "2022-09-06T00:50:44.969628",
     "exception": false,
     "start_time": "2022-09-06T00:50:44.939871",
     "status": "completed"
    },
    "tags": []
   },
   "outputs": [],
   "source": []
  },
  {
   "cell_type": "code",
   "execution_count": null,
   "id": "aging-legislature",
   "metadata": {
    "papermill": {
     "duration": 0.029666,
     "end_time": "2022-09-06T00:50:45.029176",
     "exception": false,
     "start_time": "2022-09-06T00:50:44.999510",
     "status": "completed"
    },
    "tags": []
   },
   "outputs": [],
   "source": []
  }
 ],
 "metadata": {
  "kernelspec": {
   "display_name": "Python 3",
   "language": "python",
   "name": "python3"
  },
  "language_info": {
   "codemirror_mode": {
    "name": "ipython",
    "version": 3
   },
   "file_extension": ".py",
   "mimetype": "text/x-python",
   "name": "python",
   "nbconvert_exporter": "python",
   "pygments_lexer": "ipython3",
   "version": "3.6.15"
  },
  "papermill": {
   "duration": 5.870363,
   "end_time": "2022-09-06T00:50:45.376858",
   "environment_variables": {},
   "exception": null,
   "input_path": "2020-03-21-covid19exp.ipynb",
   "output_path": "2020-03-21-covid19exp.ipynb",
   "parameters": {},
   "start_time": "2022-09-06T00:50:39.506495",
   "version": "2.0.0"
  }
 },
 "nbformat": 4,
 "nbformat_minor": 5
}