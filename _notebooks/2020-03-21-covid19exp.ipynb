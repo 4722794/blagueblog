{
 "cells": [
  {
   "cell_type": "markdown",
   "id": "muslim-click",
   "metadata": {
    "papermill": {
     "duration": 0.035419,
     "end_time": "2022-08-30T00:55:48.090808",
     "exception": false,
     "start_time": "2022-08-30T00:55:48.055389",
     "status": "completed"
    },
    "tags": []
   },
   "source": [
    "# COVID-19 Case Race\n",
    "> A race chart to see rising cases around the world\n",
    "\n",
    "- author: Hargun Oberoi\n",
    "- image: images/covid-overview.png\n",
    "- hide: false\n",
    "- badges: false"
   ]
  },
  {
   "cell_type": "code",
   "execution_count": 1,
   "id": "proof-material",
   "metadata": {
    "execution": {
     "iopub.execute_input": "2022-08-30T00:55:48.161699Z",
     "iopub.status.busy": "2022-08-30T00:55:48.161058Z",
     "iopub.status.idle": "2022-08-30T00:55:48.507552Z",
     "shell.execute_reply": "2022-08-30T00:55:48.506850Z"
    },
    "papermill": {
     "duration": 0.386682,
     "end_time": "2022-08-30T00:55:48.507691",
     "exception": false,
     "start_time": "2022-08-30T00:55:48.121009",
     "status": "completed"
    },
    "tags": []
   },
   "outputs": [],
   "source": [
    "#hide\n",
    "import numpy as np\n",
    "import pandas as pd\n",
    "from jinja2 import Template\n",
    "from IPython.display import HTML"
   ]
  },
  {
   "cell_type": "code",
   "execution_count": 2,
   "id": "developed-terminology",
   "metadata": {
    "execution": {
     "iopub.execute_input": "2022-08-30T00:55:48.573354Z",
     "iopub.status.busy": "2022-08-30T00:55:48.572632Z",
     "iopub.status.idle": "2022-08-30T00:55:48.574399Z",
     "shell.execute_reply": "2022-08-30T00:55:48.574976Z"
    },
    "papermill": {
     "duration": 0.037411,
     "end_time": "2022-08-30T00:55:48.575126",
     "exception": false,
     "start_time": "2022-08-30T00:55:48.537715",
     "status": "completed"
    },
    "tags": []
   },
   "outputs": [],
   "source": [
    "#hide\n",
    "\n",
    "# FETCH\n",
    "base_url = 'https://raw.githubusercontent.com/pratapvardhan/notebooks/master/covid19/'\n",
    "paths = {\n",
    "    'mapping': base_url + 'mapping_countries.csv',\n",
    "    'overview': base_url + 'overview.tpl'\n",
    "}"
   ]
  },
  {
   "cell_type": "code",
   "execution_count": 3,
   "id": "dynamic-saver",
   "metadata": {
    "execution": {
     "iopub.execute_input": "2022-08-30T00:55:48.644962Z",
     "iopub.status.busy": "2022-08-30T00:55:48.644358Z",
     "iopub.status.idle": "2022-08-30T00:55:48.647587Z",
     "shell.execute_reply": "2022-08-30T00:55:48.647113Z"
    },
    "papermill": {
     "duration": 0.04285,
     "end_time": "2022-08-30T00:55:48.647700",
     "exception": false,
     "start_time": "2022-08-30T00:55:48.604850",
     "status": "completed"
    },
    "tags": []
   },
   "outputs": [
    {
     "data": {
      "text/plain": [
       "'https://raw.githubusercontent.com/pratapvardhan/notebooks/master/covid19/mapping_countries.csv'"
      ]
     },
     "execution_count": 3,
     "metadata": {},
     "output_type": "execute_result"
    }
   ],
   "source": [
    "#hide\n",
    "paths['mapping']"
   ]
  },
  {
   "cell_type": "code",
   "execution_count": 4,
   "id": "urban-software",
   "metadata": {
    "execution": {
     "iopub.execute_input": "2022-08-30T00:55:48.712892Z",
     "iopub.status.busy": "2022-08-30T00:55:48.712295Z",
     "iopub.status.idle": "2022-08-30T00:55:48.714685Z",
     "shell.execute_reply": "2022-08-30T00:55:48.715242Z"
    },
    "papermill": {
     "duration": 0.037924,
     "end_time": "2022-08-30T00:55:48.715376",
     "exception": false,
     "start_time": "2022-08-30T00:55:48.677452",
     "status": "completed"
    },
    "tags": []
   },
   "outputs": [],
   "source": [
    "#hide\n",
    "def get_mappings(url):\n",
    "    df = pd.read_csv(url)\n",
    "    return {\n",
    "        'df': df,\n",
    "        'replace.country': dict(df.dropna(subset=['Name']).set_index('Country')['Name']),\n",
    "        'map.continent': dict(df.set_index('Name')['Continent'])\n",
    "    }"
   ]
  },
  {
   "cell_type": "code",
   "execution_count": 5,
   "id": "intimate-machinery",
   "metadata": {
    "execution": {
     "iopub.execute_input": "2022-08-30T00:55:48.781313Z",
     "iopub.status.busy": "2022-08-30T00:55:48.780673Z",
     "iopub.status.idle": "2022-08-30T00:55:48.823845Z",
     "shell.execute_reply": "2022-08-30T00:55:48.823218Z"
    },
    "papermill": {
     "duration": 0.078838,
     "end_time": "2022-08-30T00:55:48.823984",
     "exception": false,
     "start_time": "2022-08-30T00:55:48.745146",
     "status": "completed"
    },
    "tags": []
   },
   "outputs": [],
   "source": [
    "#hide\n",
    "mapping = get_mappings(paths['mapping'])"
   ]
  },
  {
   "cell_type": "code",
   "execution_count": 6,
   "id": "certified-tactics",
   "metadata": {
    "execution": {
     "iopub.execute_input": "2022-08-30T00:55:48.891966Z",
     "iopub.status.busy": "2022-08-30T00:55:48.891284Z",
     "iopub.status.idle": "2022-08-30T00:55:48.893812Z",
     "shell.execute_reply": "2022-08-30T00:55:48.893332Z"
    },
    "papermill": {
     "duration": 0.038727,
     "end_time": "2022-08-30T00:55:48.893928",
     "exception": false,
     "start_time": "2022-08-30T00:55:48.855201",
     "status": "completed"
    },
    "tags": []
   },
   "outputs": [],
   "source": [
    "#hide\n",
    "def get_template(path):\n",
    "    from urllib.parse import urlparse\n",
    "    if bool(urlparse(path).netloc):\n",
    "        from urllib.request import urlopen\n",
    "        return urlopen(path).read().decode('utf8')\n",
    "    return open(path).read()"
   ]
  },
  {
   "cell_type": "code",
   "execution_count": 7,
   "id": "realistic-blast",
   "metadata": {
    "execution": {
     "iopub.execute_input": "2022-08-30T00:55:48.959665Z",
     "iopub.status.busy": "2022-08-30T00:55:48.958931Z",
     "iopub.status.idle": "2022-08-30T00:55:48.960693Z",
     "shell.execute_reply": "2022-08-30T00:55:48.961234Z"
    },
    "papermill": {
     "duration": 0.037677,
     "end_time": "2022-08-30T00:55:48.961383",
     "exception": false,
     "start_time": "2022-08-30T00:55:48.923706",
     "status": "completed"
    },
    "tags": []
   },
   "outputs": [],
   "source": [
    "#hide\n",
    "def get_frame(name):\n",
    "    url = (\n",
    "        'https://raw.githubusercontent.com/CSSEGISandData/COVID-19/master/csse_covid_19_data/'\n",
    "        f'csse_covid_19_time_series/time_series_covid19_{name}_global.csv')\n",
    "    df = pd.read_csv(url)\n",
    "    # rename countries\n",
    "    df['Country/Region'] = df['Country/Region'].replace(mapping['replace.country'])\n",
    "    return df"
   ]
  },
  {
   "cell_type": "code",
   "execution_count": 8,
   "id": "affiliated-characterization",
   "metadata": {
    "execution": {
     "iopub.execute_input": "2022-08-30T00:55:49.028645Z",
     "iopub.status.busy": "2022-08-30T00:55:49.027978Z",
     "iopub.status.idle": "2022-08-30T00:55:49.030475Z",
     "shell.execute_reply": "2022-08-30T00:55:49.029981Z"
    },
    "papermill": {
     "duration": 0.038653,
     "end_time": "2022-08-30T00:55:49.030592",
     "exception": false,
     "start_time": "2022-08-30T00:55:48.991939",
     "status": "completed"
    },
    "tags": []
   },
   "outputs": [],
   "source": [
    "#hide\n",
    "def get_dates(df):\n",
    "    dt_cols = df.columns[~df.columns.isin(['Province/State', 'Country/Region', 'Lat', 'Long'])]\n",
    "    LAST_DATE_I = -1\n",
    "    # sometimes last column may be empty, then go backwards\n",
    "    for i in range(-1, -len(dt_cols), -1):\n",
    "        if not df[dt_cols[i]].fillna(0).eq(0).all():\n",
    "            LAST_DATE_I = i\n",
    "            break\n",
    "    return LAST_DATE_I, dt_cols"
   ]
  },
  {
   "cell_type": "code",
   "execution_count": 9,
   "id": "recent-optimization",
   "metadata": {
    "execution": {
     "iopub.execute_input": "2022-08-30T00:55:49.096295Z",
     "iopub.status.busy": "2022-08-30T00:55:49.095672Z",
     "iopub.status.idle": "2022-08-30T00:55:49.571193Z",
     "shell.execute_reply": "2022-08-30T00:55:49.570151Z"
    },
    "papermill": {
     "duration": 0.51104,
     "end_time": "2022-08-30T00:55:49.571343",
     "exception": false,
     "start_time": "2022-08-30T00:55:49.060303",
     "status": "completed"
    },
    "tags": []
   },
   "outputs": [],
   "source": [
    "#hide\n",
    "COL_REGION = 'Country/Region'\n",
    "# Confirmed, Recovered, Deaths\n",
    "df = get_frame('confirmed')\n",
    "# dft_: timeseries, dfc_: today country agg\n",
    "dft_cases = df\n",
    "dft_deaths = get_frame('deaths')\n",
    "dft_recovered = get_frame('recovered')\n",
    "LAST_DATE_I, dt_cols = get_dates(df)"
   ]
  },
  {
   "cell_type": "code",
   "execution_count": 10,
   "id": "absolute-copper",
   "metadata": {
    "execution": {
     "iopub.execute_input": "2022-08-30T00:55:49.640471Z",
     "iopub.status.busy": "2022-08-30T00:55:49.637332Z",
     "iopub.status.idle": "2022-08-30T00:55:49.641216Z",
     "shell.execute_reply": "2022-08-30T00:55:49.641661Z"
    },
    "papermill": {
     "duration": 0.040222,
     "end_time": "2022-08-30T00:55:49.641800",
     "exception": false,
     "start_time": "2022-08-30T00:55:49.601578",
     "status": "completed"
    },
    "tags": []
   },
   "outputs": [],
   "source": [
    "#hide\n",
    "LAST_DATE_I, dt_cols = get_dates(df)\n",
    "dt_today =dt_cols[LAST_DATE_I]\n",
    "# dt_5day = dt_cols[LAST_DATE_I - 5]\n",
    "dt_yday = dt_cols[LAST_DATE_I - 1]"
   ]
  },
  {
   "cell_type": "code",
   "execution_count": 11,
   "id": "restricted-sheriff",
   "metadata": {
    "execution": {
     "iopub.execute_input": "2022-08-30T00:55:49.708039Z",
     "iopub.status.busy": "2022-08-30T00:55:49.707426Z",
     "iopub.status.idle": "2022-08-30T00:55:49.715299Z",
     "shell.execute_reply": "2022-08-30T00:55:49.715849Z"
    },
    "papermill": {
     "duration": 0.04438,
     "end_time": "2022-08-30T00:55:49.715987",
     "exception": false,
     "start_time": "2022-08-30T00:55:49.671607",
     "status": "completed"
    },
    "tags": []
   },
   "outputs": [],
   "source": [
    "#hide\n",
    "dfc_cases = dft_cases.groupby(COL_REGION)[dt_today].sum()\n",
    "dfc_deaths = dft_deaths.groupby(COL_REGION)[dt_today].sum()\n",
    "# dfp_cases = dft_cases.groupby(COL_REGION)[dt_5day].sum()\n",
    "# dfp_deaths = dft_deaths.groupby(COL_REGION)[dt_5day].sum()\n",
    "dfp_cases = dft_cases.groupby(COL_REGION)[dt_yday].sum()\n",
    "dfp_deaths = dft_deaths.groupby(COL_REGION)[dt_yday].sum()"
   ]
  },
  {
   "cell_type": "code",
   "execution_count": 12,
   "id": "deluxe-hepatitis",
   "metadata": {
    "execution": {
     "iopub.execute_input": "2022-08-30T00:55:49.782486Z",
     "iopub.status.busy": "2022-08-30T00:55:49.781888Z",
     "iopub.status.idle": "2022-08-30T00:55:49.786358Z",
     "shell.execute_reply": "2022-08-30T00:55:49.786952Z"
    },
    "papermill": {
     "duration": 0.041022,
     "end_time": "2022-08-30T00:55:49.787091",
     "exception": false,
     "start_time": "2022-08-30T00:55:49.746069",
     "status": "completed"
    },
    "tags": []
   },
   "outputs": [],
   "source": [
    "#hide\n",
    "df_table = (pd.DataFrame(dict(Cases = dfc_cases, Deaths = dfc_deaths, PCases = dfp_cases, PDeaths = dfp_deaths))\n",
    "            .sort_values(by = ['Cases','Deaths'], ascending = [False, False])\n",
    "            .reset_index())"
   ]
  },
  {
   "cell_type": "code",
   "execution_count": 13,
   "id": "educational-chancellor",
   "metadata": {
    "execution": {
     "iopub.execute_input": "2022-08-30T00:55:49.865035Z",
     "iopub.status.busy": "2022-08-30T00:55:49.864419Z",
     "iopub.status.idle": "2022-08-30T00:55:49.872076Z",
     "shell.execute_reply": "2022-08-30T00:55:49.872554Z"
    },
    "papermill": {
     "duration": 0.055864,
     "end_time": "2022-08-30T00:55:49.872693",
     "exception": false,
     "start_time": "2022-08-30T00:55:49.816829",
     "status": "completed"
    },
    "tags": []
   },
   "outputs": [
    {
     "data": {
      "text/html": [
       "<div>\n",
       "<style scoped>\n",
       "    .dataframe tbody tr th:only-of-type {\n",
       "        vertical-align: middle;\n",
       "    }\n",
       "\n",
       "    .dataframe tbody tr th {\n",
       "        vertical-align: top;\n",
       "    }\n",
       "\n",
       "    .dataframe thead th {\n",
       "        text-align: right;\n",
       "    }\n",
       "</style>\n",
       "<table border=\"1\" class=\"dataframe\">\n",
       "  <thead>\n",
       "    <tr style=\"text-align: right;\">\n",
       "      <th></th>\n",
       "      <th>Country/Region</th>\n",
       "      <th>Cases</th>\n",
       "      <th>Deaths</th>\n",
       "      <th>PCases</th>\n",
       "      <th>PDeaths</th>\n",
       "      <th>Cases (+)</th>\n",
       "      <th>Deaths (+)</th>\n",
       "      <th>Fatality Rate</th>\n",
       "      <th>Continent</th>\n",
       "    </tr>\n",
       "  </thead>\n",
       "  <tbody>\n",
       "    <tr>\n",
       "      <th>0</th>\n",
       "      <td>US</td>\n",
       "      <td>94190979</td>\n",
       "      <td>1043840</td>\n",
       "      <td>94184146</td>\n",
       "      <td>1043838</td>\n",
       "      <td>6833</td>\n",
       "      <td>2</td>\n",
       "      <td>1.11</td>\n",
       "      <td>North America</td>\n",
       "    </tr>\n",
       "    <tr>\n",
       "      <th>1</th>\n",
       "      <td>India</td>\n",
       "      <td>44415723</td>\n",
       "      <td>527799</td>\n",
       "      <td>44408132</td>\n",
       "      <td>527754</td>\n",
       "      <td>7591</td>\n",
       "      <td>45</td>\n",
       "      <td>1.19</td>\n",
       "      <td>Asia</td>\n",
       "    </tr>\n",
       "    <tr>\n",
       "      <th>2</th>\n",
       "      <td>France</td>\n",
       "      <td>34662834</td>\n",
       "      <td>154897</td>\n",
       "      <td>34662834</td>\n",
       "      <td>154897</td>\n",
       "      <td>0</td>\n",
       "      <td>0</td>\n",
       "      <td>0.45</td>\n",
       "      <td>Europe</td>\n",
       "    </tr>\n",
       "    <tr>\n",
       "      <th>3</th>\n",
       "      <td>Brazil</td>\n",
       "      <td>34368909</td>\n",
       "      <td>683397</td>\n",
       "      <td>34368909</td>\n",
       "      <td>683397</td>\n",
       "      <td>0</td>\n",
       "      <td>0</td>\n",
       "      <td>1.99</td>\n",
       "      <td>South America</td>\n",
       "    </tr>\n",
       "    <tr>\n",
       "      <th>4</th>\n",
       "      <td>Germany</td>\n",
       "      <td>32041350</td>\n",
       "      <td>147104</td>\n",
       "      <td>32041349</td>\n",
       "      <td>147104</td>\n",
       "      <td>1</td>\n",
       "      <td>0</td>\n",
       "      <td>0.46</td>\n",
       "      <td>Europe</td>\n",
       "    </tr>\n",
       "  </tbody>\n",
       "</table>\n",
       "</div>"
      ],
      "text/plain": [
       "  Country/Region     Cases   Deaths    PCases  PDeaths  Cases (+)  Deaths (+)  \\\n",
       "0             US  94190979  1043840  94184146  1043838       6833           2   \n",
       "1          India  44415723   527799  44408132   527754       7591          45   \n",
       "2         France  34662834   154897  34662834   154897          0           0   \n",
       "3         Brazil  34368909   683397  34368909   683397          0           0   \n",
       "4        Germany  32041350   147104  32041349   147104          1           0   \n",
       "\n",
       "   Fatality Rate      Continent  \n",
       "0           1.11  North America  \n",
       "1           1.19           Asia  \n",
       "2           0.45         Europe  \n",
       "3           1.99  South America  \n",
       "4           0.46         Europe  "
      ]
     },
     "execution_count": 13,
     "metadata": {},
     "output_type": "execute_result"
    }
   ],
   "source": [
    "#hide\n",
    "for c in 'Cases, Deaths'.split(', '):\n",
    "    df_table[f'{c} (+)'] = (df_table[c] - df_table[f'P{c}']).clip(0)\n",
    "    #Clip ça veut dire, les chiffres negatif sont interdit\n",
    "df_table['Fatality Rate'] = (100* df_table['Deaths']/ df_table['Cases']).round(2)\n",
    "df_table['Continent'] = df_table['Country/Region'].map(mapping['map.continent'])\n",
    "df_table.head(5)"
   ]
  },
  {
   "cell_type": "code",
   "execution_count": 14,
   "id": "aboriginal-bulgaria",
   "metadata": {
    "execution": {
     "iopub.execute_input": "2022-08-30T00:55:49.940424Z",
     "iopub.status.busy": "2022-08-30T00:55:49.939793Z",
     "iopub.status.idle": "2022-08-30T00:55:49.942593Z",
     "shell.execute_reply": "2022-08-30T00:55:49.942122Z"
    },
    "papermill": {
     "duration": 0.039519,
     "end_time": "2022-08-30T00:55:49.942736",
     "exception": false,
     "start_time": "2022-08-30T00:55:49.903217",
     "status": "completed"
    },
    "tags": []
   },
   "outputs": [],
   "source": [
    "#hide\n",
    "#delete problematic countries from table\n",
    "df_table = df_table[~df_table['Country/Region'].isin(['Cape Verde', 'Cruise Ship', 'Kosovo'])]"
   ]
  },
  {
   "cell_type": "code",
   "execution_count": 15,
   "id": "fantastic-effect",
   "metadata": {
    "execution": {
     "iopub.execute_input": "2022-08-30T00:55:50.011442Z",
     "iopub.status.busy": "2022-08-30T00:55:50.010826Z",
     "iopub.status.idle": "2022-08-30T00:55:50.029737Z",
     "shell.execute_reply": "2022-08-30T00:55:50.029159Z"
    },
    "papermill": {
     "duration": 0.056805,
     "end_time": "2022-08-30T00:55:50.029857",
     "exception": false,
     "start_time": "2022-08-30T00:55:49.973052",
     "status": "completed"
    },
    "tags": []
   },
   "outputs": [
    {
     "data": {
      "text/html": [
       "<div>\n",
       "<style scoped>\n",
       "    .dataframe tbody tr th:only-of-type {\n",
       "        vertical-align: middle;\n",
       "    }\n",
       "\n",
       "    .dataframe tbody tr th {\n",
       "        vertical-align: top;\n",
       "    }\n",
       "\n",
       "    .dataframe thead th {\n",
       "        text-align: right;\n",
       "    }\n",
       "</style>\n",
       "<table border=\"1\" class=\"dataframe\">\n",
       "  <thead>\n",
       "    <tr style=\"text-align: right;\">\n",
       "      <th></th>\n",
       "      <th>Country/Region</th>\n",
       "      <th>Cases</th>\n",
       "      <th>Deaths</th>\n",
       "      <th>PCases</th>\n",
       "      <th>PDeaths</th>\n",
       "      <th>Cases (+)</th>\n",
       "      <th>Deaths (+)</th>\n",
       "      <th>Fatality Rate</th>\n",
       "      <th>Continent</th>\n",
       "    </tr>\n",
       "  </thead>\n",
       "  <tbody>\n",
       "    <tr>\n",
       "      <th>0</th>\n",
       "      <td>US</td>\n",
       "      <td>94190979</td>\n",
       "      <td>1043840</td>\n",
       "      <td>94184146</td>\n",
       "      <td>1043838</td>\n",
       "      <td>6833</td>\n",
       "      <td>2</td>\n",
       "      <td>1.1</td>\n",
       "      <td>North America</td>\n",
       "    </tr>\n",
       "    <tr>\n",
       "      <th>1</th>\n",
       "      <td>India</td>\n",
       "      <td>44415723</td>\n",
       "      <td>527799</td>\n",
       "      <td>44408132</td>\n",
       "      <td>527754</td>\n",
       "      <td>7591</td>\n",
       "      <td>45</td>\n",
       "      <td>1.2</td>\n",
       "      <td>Asia</td>\n",
       "    </tr>\n",
       "    <tr>\n",
       "      <th>2</th>\n",
       "      <td>France</td>\n",
       "      <td>34662834</td>\n",
       "      <td>154897</td>\n",
       "      <td>34662834</td>\n",
       "      <td>154897</td>\n",
       "      <td>0</td>\n",
       "      <td>0</td>\n",
       "      <td>0.4</td>\n",
       "      <td>Europe</td>\n",
       "    </tr>\n",
       "    <tr>\n",
       "      <th>3</th>\n",
       "      <td>Brazil</td>\n",
       "      <td>34368909</td>\n",
       "      <td>683397</td>\n",
       "      <td>34368909</td>\n",
       "      <td>683397</td>\n",
       "      <td>0</td>\n",
       "      <td>0</td>\n",
       "      <td>2.0</td>\n",
       "      <td>South America</td>\n",
       "    </tr>\n",
       "    <tr>\n",
       "      <th>4</th>\n",
       "      <td>Germany</td>\n",
       "      <td>32041350</td>\n",
       "      <td>147104</td>\n",
       "      <td>32041349</td>\n",
       "      <td>147104</td>\n",
       "      <td>1</td>\n",
       "      <td>0</td>\n",
       "      <td>0.5</td>\n",
       "      <td>Europe</td>\n",
       "    </tr>\n",
       "  </tbody>\n",
       "</table>\n",
       "</div>"
      ],
      "text/plain": [
       "  Country/Region     Cases   Deaths    PCases  PDeaths  Cases (+)  Deaths (+)  \\\n",
       "0             US  94190979  1043840  94184146  1043838       6833           2   \n",
       "1          India  44415723   527799  44408132   527754       7591          45   \n",
       "2         France  34662834   154897  34662834   154897          0           0   \n",
       "3         Brazil  34368909   683397  34368909   683397          0           0   \n",
       "4        Germany  32041350   147104  32041349   147104          1           0   \n",
       "\n",
       "   Fatality Rate      Continent  \n",
       "0            1.1  North America  \n",
       "1            1.2           Asia  \n",
       "2            0.4         Europe  \n",
       "3            2.0  South America  \n",
       "4            0.5         Europe  "
      ]
     },
     "execution_count": 15,
     "metadata": {},
     "output_type": "execute_result"
    }
   ],
   "source": [
    "#hide\n",
    "df_table = (pd.DataFrame(dict(Cases=dfc_cases, Deaths=dfc_deaths, PCases=dfp_cases, PDeaths=dfp_deaths))\n",
    "             .sort_values(by=['Cases', 'Deaths'], ascending=[False, False])\n",
    "             .reset_index())\n",
    "df_table.rename(columns={'index': 'Country/Region'}, inplace=True)\n",
    "for c in 'Cases, Deaths'.split(', '):\n",
    "    df_table[f'{c} (+)'] = (df_table[c] - df_table[f'P{c}']).clip(0)  # DATA BUG\n",
    "df_table['Fatality Rate'] = (100 * df_table['Deaths'] / df_table['Cases']).round(1)\n",
    "df_table['Continent'] = df_table['Country/Region'].map(mapping['map.continent'])\n",
    "df_table.head(5)"
   ]
  },
  {
   "cell_type": "code",
   "execution_count": 16,
   "id": "fewer-occasion",
   "metadata": {
    "execution": {
     "iopub.execute_input": "2022-08-30T00:55:50.098670Z",
     "iopub.status.busy": "2022-08-30T00:55:50.098052Z",
     "iopub.status.idle": "2022-08-30T00:55:50.101212Z",
     "shell.execute_reply": "2022-08-30T00:55:50.101688Z"
    },
    "papermill": {
     "duration": 0.040534,
     "end_time": "2022-08-30T00:55:50.101819",
     "exception": false,
     "start_time": "2022-08-30T00:55:50.061285",
     "status": "completed"
    },
    "tags": []
   },
   "outputs": [],
   "source": [
    "#hide\n",
    "#delete problematic countries from table\n",
    "df_table = df_table[~df_table['Country/Region'].isin(['Cape Verde', 'Cruise Ship', 'Kosovo'])]"
   ]
  },
  {
   "cell_type": "code",
   "execution_count": 17,
   "id": "related-center",
   "metadata": {
    "execution": {
     "iopub.execute_input": "2022-08-30T00:55:50.182668Z",
     "iopub.status.busy": "2022-08-30T00:55:50.182001Z",
     "iopub.status.idle": "2022-08-30T00:55:50.184582Z",
     "shell.execute_reply": "2022-08-30T00:55:50.184100Z"
    },
    "papermill": {
     "duration": 0.052056,
     "end_time": "2022-08-30T00:55:50.184701",
     "exception": false,
     "start_time": "2022-08-30T00:55:50.132645",
     "status": "completed"
    },
    "tags": []
   },
   "outputs": [],
   "source": [
    "#hide\n",
    "metrics = [df_table.columns[index] for index in [1,2,5,6]]\n",
    "# s_china = df_table[df_table['Country/Region'].eq('China')][metrics].sum().add_prefix('China ')\n",
    "s_us = df_table[df_table['Country/Region'].eq('US')][metrics].sum().add_prefix('US ')\n",
    "s_eu = df_table[df_table['Continent'].eq('Europe')][metrics].sum().add_prefix('EU ')\n",
    "s_ind = df_table[df_table['Country/Region'].eq('India')][metrics].sum().add_prefix('India ')\n",
    "summary = {'updated': pd.to_datetime(dt_today), 'since': pd.to_datetime(dt_yday)}\n",
    "summary = {'updated': pd.to_datetime(dt_today), 'since': pd.to_datetime(dt_yday)}\n",
    "summary = {**summary, **df_table[metrics].sum(), **s_ind, **s_us, **s_eu}"
   ]
  },
  {
   "cell_type": "code",
   "execution_count": 18,
   "id": "engaging-syndrome",
   "metadata": {
    "execution": {
     "iopub.execute_input": "2022-08-30T00:55:50.253101Z",
     "iopub.status.busy": "2022-08-30T00:55:50.252461Z",
     "iopub.status.idle": "2022-08-30T00:55:50.275795Z",
     "shell.execute_reply": "2022-08-30T00:55:50.275253Z"
    },
    "papermill": {
     "duration": 0.060088,
     "end_time": "2022-08-30T00:55:50.275921",
     "exception": false,
     "start_time": "2022-08-30T00:55:50.215833",
     "status": "completed"
    },
    "tags": []
   },
   "outputs": [],
   "source": [
    "#hide\n",
    "dft_ct_new_cases = dft_cases.groupby(COL_REGION)[dt_cols].sum().diff(axis=1).fillna(0).astype(int)"
   ]
  },
  {
   "cell_type": "code",
   "execution_count": 19,
   "id": "neutral-assignment",
   "metadata": {
    "execution": {
     "iopub.execute_input": "2022-08-30T00:55:50.345118Z",
     "iopub.status.busy": "2022-08-30T00:55:50.342075Z",
     "iopub.status.idle": "2022-08-30T00:55:50.347446Z",
     "shell.execute_reply": "2022-08-30T00:55:50.347894Z"
    },
    "papermill": {
     "duration": 0.041068,
     "end_time": "2022-08-30T00:55:50.348030",
     "exception": false,
     "start_time": "2022-08-30T00:55:50.306962",
     "status": "completed"
    },
    "tags": []
   },
   "outputs": [],
   "source": [
    "#hide\n",
    "everydaycases = dft_ct_new_cases.cumsum(axis=1)"
   ]
  },
  {
   "cell_type": "code",
   "execution_count": 20,
   "id": "parliamentary-calgary",
   "metadata": {
    "execution": {
     "iopub.execute_input": "2022-08-30T00:55:50.420480Z",
     "iopub.status.busy": "2022-08-30T00:55:50.414865Z",
     "iopub.status.idle": "2022-08-30T00:55:51.009160Z",
     "shell.execute_reply": "2022-08-30T00:55:51.009629Z"
    },
    "papermill": {
     "duration": 0.630703,
     "end_time": "2022-08-30T00:55:51.009781",
     "exception": false,
     "start_time": "2022-08-30T00:55:50.379078",
     "status": "completed"
    },
    "tags": []
   },
   "outputs": [],
   "source": [
    "#hide\n",
    "import pandas as pd\n",
    "import matplotlib.pyplot as plt\n",
    "import matplotlib.ticker as ticker\n",
    "import matplotlib.animation as animation\n",
    "from IPython.display import HTML"
   ]
  },
  {
   "cell_type": "code",
   "execution_count": 21,
   "id": "lasting-extraction",
   "metadata": {
    "execution": {
     "iopub.execute_input": "2022-08-30T00:55:51.079668Z",
     "iopub.status.busy": "2022-08-30T00:55:51.079040Z",
     "iopub.status.idle": "2022-08-30T00:55:51.086534Z",
     "shell.execute_reply": "2022-08-30T00:55:51.087047Z"
    },
    "papermill": {
     "duration": 0.046294,
     "end_time": "2022-08-30T00:55:51.087193",
     "exception": false,
     "start_time": "2022-08-30T00:55:51.040899",
     "status": "completed"
    },
    "tags": []
   },
   "outputs": [],
   "source": [
    "#hide\n",
    "t = everydaycases.stack()"
   ]
  },
  {
   "cell_type": "code",
   "execution_count": 22,
   "id": "premier-sleeve",
   "metadata": {
    "execution": {
     "iopub.execute_input": "2022-08-30T00:55:51.155395Z",
     "iopub.status.busy": "2022-08-30T00:55:51.154770Z",
     "iopub.status.idle": "2022-08-30T00:55:51.167507Z",
     "shell.execute_reply": "2022-08-30T00:55:51.167997Z"
    },
    "papermill": {
     "duration": 0.049422,
     "end_time": "2022-08-30T00:55:51.168142",
     "exception": false,
     "start_time": "2022-08-30T00:55:51.118720",
     "status": "completed"
    },
    "tags": []
   },
   "outputs": [],
   "source": [
    "#hide\n",
    "g = t.reset_index(['Country/Region'])"
   ]
  },
  {
   "cell_type": "code",
   "execution_count": 23,
   "id": "distributed-pittsburgh",
   "metadata": {
    "execution": {
     "iopub.execute_input": "2022-08-30T00:55:51.235010Z",
     "iopub.status.busy": "2022-08-30T00:55:51.234351Z",
     "iopub.status.idle": "2022-08-30T00:55:51.236908Z",
     "shell.execute_reply": "2022-08-30T00:55:51.236454Z"
    },
    "papermill": {
     "duration": 0.037946,
     "end_time": "2022-08-30T00:55:51.237026",
     "exception": false,
     "start_time": "2022-08-30T00:55:51.199080",
     "status": "completed"
    },
    "tags": []
   },
   "outputs": [],
   "source": [
    "#hide\n",
    "g.index.name = 'date'"
   ]
  },
  {
   "cell_type": "code",
   "execution_count": 24,
   "id": "naked-donor",
   "metadata": {
    "execution": {
     "iopub.execute_input": "2022-08-30T00:55:51.305232Z",
     "iopub.status.busy": "2022-08-30T00:55:51.304630Z",
     "iopub.status.idle": "2022-08-30T00:55:51.306938Z",
     "shell.execute_reply": "2022-08-30T00:55:51.307393Z"
    },
    "papermill": {
     "duration": 0.03795,
     "end_time": "2022-08-30T00:55:51.307527",
     "exception": false,
     "start_time": "2022-08-30T00:55:51.269577",
     "status": "completed"
    },
    "tags": []
   },
   "outputs": [],
   "source": [
    "# #hide\n",
    "# g = g.reset_index(['date'])"
   ]
  },
  {
   "cell_type": "code",
   "execution_count": 25,
   "id": "incomplete-mustang",
   "metadata": {
    "execution": {
     "iopub.execute_input": "2022-08-30T00:55:51.373083Z",
     "iopub.status.busy": "2022-08-30T00:55:51.372486Z",
     "iopub.status.idle": "2022-08-30T00:55:51.375721Z",
     "shell.execute_reply": "2022-08-30T00:55:51.376199Z"
    },
    "papermill": {
     "duration": 0.037827,
     "end_time": "2022-08-30T00:55:51.376338",
     "exception": false,
     "start_time": "2022-08-30T00:55:51.338511",
     "status": "completed"
    },
    "tags": []
   },
   "outputs": [],
   "source": [
    "#hide\n",
    "# g.head()"
   ]
  },
  {
   "cell_type": "code",
   "execution_count": 26,
   "id": "specific-kruger",
   "metadata": {
    "execution": {
     "iopub.execute_input": "2022-08-30T00:55:51.442853Z",
     "iopub.status.busy": "2022-08-30T00:55:51.442124Z",
     "iopub.status.idle": "2022-08-30T00:55:51.444698Z",
     "shell.execute_reply": "2022-08-30T00:55:51.444046Z"
    },
    "papermill": {
     "duration": 0.037353,
     "end_time": "2022-08-30T00:55:51.444810",
     "exception": false,
     "start_time": "2022-08-30T00:55:51.407457",
     "status": "completed"
    },
    "tags": []
   },
   "outputs": [],
   "source": [
    "#hide\n",
    "# g.columns = ['date','country','cases']"
   ]
  },
  {
   "cell_type": "code",
   "execution_count": 27,
   "id": "tender-conversion",
   "metadata": {
    "execution": {
     "iopub.execute_input": "2022-08-30T00:55:51.511455Z",
     "iopub.status.busy": "2022-08-30T00:55:51.510728Z",
     "iopub.status.idle": "2022-08-30T00:55:51.513462Z",
     "shell.execute_reply": "2022-08-30T00:55:51.512912Z"
    },
    "papermill": {
     "duration": 0.037958,
     "end_time": "2022-08-30T00:55:51.513595",
     "exception": false,
     "start_time": "2022-08-30T00:55:51.475637",
     "status": "completed"
    },
    "tags": []
   },
   "outputs": [],
   "source": [
    "#hide\n",
    "# g['continent'] = g.country"
   ]
  },
  {
   "cell_type": "code",
   "execution_count": 28,
   "id": "substantial-wilderness",
   "metadata": {
    "execution": {
     "iopub.execute_input": "2022-08-30T00:55:51.580270Z",
     "iopub.status.busy": "2022-08-30T00:55:51.579688Z",
     "iopub.status.idle": "2022-08-30T00:55:51.582240Z",
     "shell.execute_reply": "2022-08-30T00:55:51.582821Z"
    },
    "papermill": {
     "duration": 0.037857,
     "end_time": "2022-08-30T00:55:51.582955",
     "exception": false,
     "start_time": "2022-08-30T00:55:51.545098",
     "status": "completed"
    },
    "tags": []
   },
   "outputs": [],
   "source": [
    "#hide\n",
    "# cols = list(g.columns.values)"
   ]
  },
  {
   "cell_type": "code",
   "execution_count": 29,
   "id": "solved-farming",
   "metadata": {
    "execution": {
     "iopub.execute_input": "2022-08-30T00:55:51.649250Z",
     "iopub.status.busy": "2022-08-30T00:55:51.648634Z",
     "iopub.status.idle": "2022-08-30T00:55:51.652380Z",
     "shell.execute_reply": "2022-08-30T00:55:51.652807Z"
    },
    "papermill": {
     "duration": 0.03916,
     "end_time": "2022-08-30T00:55:51.652943",
     "exception": false,
     "start_time": "2022-08-30T00:55:51.613783",
     "status": "completed"
    },
    "tags": []
   },
   "outputs": [],
   "source": [
    "#hide\n",
    "# cols.insert(0, cols.pop())"
   ]
  },
  {
   "cell_type": "code",
   "execution_count": 30,
   "id": "executed-adoption",
   "metadata": {
    "execution": {
     "iopub.execute_input": "2022-08-30T00:55:51.719983Z",
     "iopub.status.busy": "2022-08-30T00:55:51.719323Z",
     "iopub.status.idle": "2022-08-30T00:55:51.721802Z",
     "shell.execute_reply": "2022-08-30T00:55:51.721325Z"
    },
    "papermill": {
     "duration": 0.037816,
     "end_time": "2022-08-30T00:55:51.721918",
     "exception": false,
     "start_time": "2022-08-30T00:55:51.684102",
     "status": "completed"
    },
    "tags": []
   },
   "outputs": [],
   "source": [
    "#hide\n",
    "# g = g[cols]"
   ]
  },
  {
   "cell_type": "code",
   "execution_count": 31,
   "id": "subject-dublin",
   "metadata": {
    "execution": {
     "iopub.execute_input": "2022-08-30T00:55:51.788794Z",
     "iopub.status.busy": "2022-08-30T00:55:51.788048Z",
     "iopub.status.idle": "2022-08-30T00:55:51.789846Z",
     "shell.execute_reply": "2022-08-30T00:55:51.790391Z"
    },
    "papermill": {
     "duration": 0.037493,
     "end_time": "2022-08-30T00:55:51.790545",
     "exception": false,
     "start_time": "2022-08-30T00:55:51.753052",
     "status": "completed"
    },
    "tags": []
   },
   "outputs": [],
   "source": [
    "#hide\n",
    "# g['continent'] = g['continent'].map(mapping['map.continent'])"
   ]
  },
  {
   "cell_type": "code",
   "execution_count": 32,
   "id": "freelance-scout",
   "metadata": {
    "execution": {
     "iopub.execute_input": "2022-08-30T00:55:51.859310Z",
     "iopub.status.busy": "2022-08-30T00:55:51.858537Z",
     "iopub.status.idle": "2022-08-30T00:55:51.860357Z",
     "shell.execute_reply": "2022-08-30T00:55:51.860903Z"
    },
    "papermill": {
     "duration": 0.03911,
     "end_time": "2022-08-30T00:55:51.861057",
     "exception": false,
     "start_time": "2022-08-30T00:55:51.821947",
     "status": "completed"
    },
    "tags": []
   },
   "outputs": [],
   "source": [
    "#hide\n",
    "# g.head()"
   ]
  },
  {
   "cell_type": "code",
   "execution_count": 33,
   "id": "limited-engine",
   "metadata": {
    "execution": {
     "iopub.execute_input": "2022-08-30T00:55:51.927922Z",
     "iopub.status.busy": "2022-08-30T00:55:51.927197Z",
     "iopub.status.idle": "2022-08-30T00:55:51.931533Z",
     "shell.execute_reply": "2022-08-30T00:55:51.931041Z"
    },
    "papermill": {
     "duration": 0.039481,
     "end_time": "2022-08-30T00:55:51.931653",
     "exception": false,
     "start_time": "2022-08-30T00:55:51.892172",
     "status": "completed"
    },
    "tags": []
   },
   "outputs": [],
   "source": [
    "# hide\n",
    "# g['date'] = g['date'].astype('datetime64[ns]')"
   ]
  },
  {
   "cell_type": "code",
   "execution_count": 34,
   "id": "sophisticated-supervisor",
   "metadata": {
    "execution": {
     "iopub.execute_input": "2022-08-30T00:55:51.998317Z",
     "iopub.status.busy": "2022-08-30T00:55:51.997676Z",
     "iopub.status.idle": "2022-08-30T00:55:52.002027Z",
     "shell.execute_reply": "2022-08-30T00:55:52.001561Z"
    },
    "papermill": {
     "duration": 0.039072,
     "end_time": "2022-08-30T00:55:52.002154",
     "exception": false,
     "start_time": "2022-08-30T00:55:51.963082",
     "status": "completed"
    },
    "tags": []
   },
   "outputs": [],
   "source": [
    "#hide\n",
    "# g['date'] = g.date.dt.dayofyear"
   ]
  },
  {
   "cell_type": "code",
   "execution_count": 35,
   "id": "inside-dubai",
   "metadata": {
    "execution": {
     "iopub.execute_input": "2022-08-30T00:55:52.068610Z",
     "iopub.status.busy": "2022-08-30T00:55:52.067986Z",
     "iopub.status.idle": "2022-08-30T00:55:52.070551Z",
     "shell.execute_reply": "2022-08-30T00:55:52.070070Z"
    },
    "papermill": {
     "duration": 0.037489,
     "end_time": "2022-08-30T00:55:52.070686",
     "exception": false,
     "start_time": "2022-08-30T00:55:52.033197",
     "status": "completed"
    },
    "tags": []
   },
   "outputs": [],
   "source": [
    "#hide\n",
    "# g = g.rename(columns= {'continent':'group','country':'name','cases':'value'})"
   ]
  },
  {
   "cell_type": "code",
   "execution_count": 36,
   "id": "fleet-motorcycle",
   "metadata": {
    "execution": {
     "iopub.execute_input": "2022-08-30T00:55:52.138281Z",
     "iopub.status.busy": "2022-08-30T00:55:52.137596Z",
     "iopub.status.idle": "2022-08-30T00:55:52.140091Z",
     "shell.execute_reply": "2022-08-30T00:55:52.139505Z"
    },
    "papermill": {
     "duration": 0.038464,
     "end_time": "2022-08-30T00:55:52.140212",
     "exception": false,
     "start_time": "2022-08-30T00:55:52.101748",
     "status": "completed"
    },
    "tags": []
   },
   "outputs": [],
   "source": [
    "#hide\n",
    "# cols = ['name','group','day','value']"
   ]
  },
  {
   "cell_type": "code",
   "execution_count": 37,
   "id": "continued-sleeping",
   "metadata": {
    "execution": {
     "iopub.execute_input": "2022-08-30T00:55:52.206835Z",
     "iopub.status.busy": "2022-08-30T00:55:52.206213Z",
     "iopub.status.idle": "2022-08-30T00:55:52.209112Z",
     "shell.execute_reply": "2022-08-30T00:55:52.208634Z"
    },
    "papermill": {
     "duration": 0.037566,
     "end_time": "2022-08-30T00:55:52.209225",
     "exception": false,
     "start_time": "2022-08-30T00:55:52.171659",
     "status": "completed"
    },
    "tags": []
   },
   "outputs": [],
   "source": [
    "#hide\n",
    "# g.rename(columns= {'date':'day'},inplace = True)"
   ]
  },
  {
   "cell_type": "code",
   "execution_count": 38,
   "id": "major-fight",
   "metadata": {
    "execution": {
     "iopub.execute_input": "2022-08-30T00:55:52.275815Z",
     "iopub.status.busy": "2022-08-30T00:55:52.275097Z",
     "iopub.status.idle": "2022-08-30T00:55:52.276977Z",
     "shell.execute_reply": "2022-08-30T00:55:52.277487Z"
    },
    "papermill": {
     "duration": 0.037533,
     "end_time": "2022-08-30T00:55:52.277638",
     "exception": false,
     "start_time": "2022-08-30T00:55:52.240105",
     "status": "completed"
    },
    "tags": []
   },
   "outputs": [],
   "source": [
    "#hide\n",
    "# g = g[cols]"
   ]
  },
  {
   "cell_type": "code",
   "execution_count": 39,
   "id": "structured-mobile",
   "metadata": {
    "execution": {
     "iopub.execute_input": "2022-08-30T00:55:52.344807Z",
     "iopub.status.busy": "2022-08-30T00:55:52.344068Z",
     "iopub.status.idle": "2022-08-30T00:55:52.345914Z",
     "shell.execute_reply": "2022-08-30T00:55:52.346431Z"
    },
    "papermill": {
     "duration": 0.037664,
     "end_time": "2022-08-30T00:55:52.346580",
     "exception": false,
     "start_time": "2022-08-30T00:55:52.308916",
     "status": "completed"
    },
    "tags": []
   },
   "outputs": [],
   "source": [
    "# #hide\n",
    "# g = g[g.group.notna()]"
   ]
  },
  {
   "cell_type": "code",
   "execution_count": 40,
   "id": "determined-closing",
   "metadata": {
    "execution": {
     "iopub.execute_input": "2022-08-30T00:55:52.414003Z",
     "iopub.status.busy": "2022-08-30T00:55:52.413366Z",
     "iopub.status.idle": "2022-08-30T00:55:52.415803Z",
     "shell.execute_reply": "2022-08-30T00:55:52.415326Z"
    },
    "papermill": {
     "duration": 0.037557,
     "end_time": "2022-08-30T00:55:52.415917",
     "exception": false,
     "start_time": "2022-08-30T00:55:52.378360",
     "status": "completed"
    },
    "tags": []
   },
   "outputs": [],
   "source": [
    "# #hide\n",
    "# colors = dict(zip(\n",
    "#     [\"Oceania\", \"Europe\", \"Asia\", \"South America\", \"Middle East\", \"North America\", \"Africa\"],\n",
    "#     [\"#adb0ff\", \"#ffb3ff\", \"#90d595\", \"#e48381\", \"#aafbff\", \"#f7bb5f\", \"#eafb50\"]\n",
    "# ))\n",
    "# group_lk = g.set_index('name')['group'].to_dict()"
   ]
  },
  {
   "cell_type": "code",
   "execution_count": null,
   "id": "gross-drinking",
   "metadata": {
    "papermill": {
     "duration": 0.030777,
     "end_time": "2022-08-30T00:55:52.477851",
     "exception": false,
     "start_time": "2022-08-30T00:55:52.447074",
     "status": "completed"
    },
    "tags": []
   },
   "outputs": [],
   "source": []
  },
  {
   "cell_type": "code",
   "execution_count": 41,
   "id": "subject-macintosh",
   "metadata": {
    "execution": {
     "iopub.execute_input": "2022-08-30T00:55:52.545803Z",
     "iopub.status.busy": "2022-08-30T00:55:52.545128Z",
     "iopub.status.idle": "2022-08-30T00:55:52.547576Z",
     "shell.execute_reply": "2022-08-30T00:55:52.547088Z"
    },
    "papermill": {
     "duration": 0.038646,
     "end_time": "2022-08-30T00:55:52.547696",
     "exception": false,
     "start_time": "2022-08-30T00:55:52.509050",
     "status": "completed"
    },
    "tags": []
   },
   "outputs": [],
   "source": [
    "# #hide\n",
    "# fig, ax = plt.subplots(figsize=(15, 8))\n",
    "\n",
    "# def draw_barchart(current_day):\n",
    "#     dff = g[g['day'].eq(current_day)].sort_values(by='value', ascending=True).tail(10)\n",
    "#     ax.clear()\n",
    "#     ax.barh(dff['name'], dff['value'], color=[colors[group_lk[x]] for x in dff['name']])\n",
    "#     dx = dff['value'].max() / 200\n",
    "    \n",
    "#     for i, (value, name) in enumerate(zip(dff['value'], dff['name'])):\n",
    "#         ax.text(value-dx, i,     name,           size=14, weight=600, ha='right', va='bottom')\n",
    "#         ax.text(value-dx, i-.25, group_lk[name], size=10, color='#444444', ha='right', va='baseline')\n",
    "#         ax.text(value+dx, i,     f'{value:,.0f}',  size=14, ha='left',  va='center')\n",
    "#     ax.text(1, 0.4, current_day, transform=ax.transAxes, color='#777777', size=46, ha='right', weight=800)\n",
    "#     ax.text(0, 1.06, 'Population (thousands)', transform=ax.transAxes, size=12, color='#777777')\n",
    "#     ax.xaxis.set_major_formatter(ticker.StrMethodFormatter('{x:,.0f}'))\n",
    "#     ax.xaxis.set_ticks_position('top')\n",
    "#     ax.tick_params(axis='x', colors='#777777', labelsize=12)\n",
    "#     ax.set_yticks([])\n",
    "#     ax.margins(0, 0.01)\n",
    "#     ax.grid(which='major', axis='x', linestyle='-')\n",
    "#     ax.set_axisbelow(True)\n",
    "    \n",
    "#     ax.text(0, 1.15, 'Coronavirus',\n",
    "#             transform=ax.transAxes, size=24, weight=600, ha='left', va='top')\n",
    "# #     ax.text(1, 0, 'by @pratapvardhan; credit @jburnmurdoch', transform=ax.transAxes, color='#777777', ha='right',\n",
    "# #             bbox=dict(facecolor='white', alpha=0.8, edgecolor='white'))\n",
    "#     plt.box(False)"
   ]
  },
  {
   "cell_type": "code",
   "execution_count": 42,
   "id": "sexual-wages",
   "metadata": {
    "execution": {
     "iopub.execute_input": "2022-08-30T00:55:52.614714Z",
     "iopub.status.busy": "2022-08-30T00:55:52.613950Z",
     "iopub.status.idle": "2022-08-30T00:55:52.618122Z",
     "shell.execute_reply": "2022-08-30T00:55:52.617624Z"
    },
    "papermill": {
     "duration": 0.039315,
     "end_time": "2022-08-30T00:55:52.618245",
     "exception": false,
     "start_time": "2022-08-30T00:55:52.578930",
     "status": "completed"
    },
    "tags": []
   },
   "outputs": [],
   "source": [
    "# #hide_input\n",
    "# fig, ax = plt.subplots(figsize=(15, 8))\n",
    "# animator = animation.FuncAnimation(fig, draw_barchart, frames=range(g.day.values.min(), g.day.values.max()))\n",
    "# HTML(animator.to_jshtml())\n",
    "# # or use animator.to_html5_video() or animator.save() "
   ]
  },
  {
   "cell_type": "code",
   "execution_count": null,
   "id": "australian-container",
   "metadata": {
    "papermill": {
     "duration": 0.03236,
     "end_time": "2022-08-30T00:55:52.681816",
     "exception": false,
     "start_time": "2022-08-30T00:55:52.649456",
     "status": "completed"
    },
    "tags": []
   },
   "outputs": [],
   "source": []
  },
  {
   "cell_type": "code",
   "execution_count": null,
   "id": "mediterranean-pontiac",
   "metadata": {
    "papermill": {
     "duration": 0.030846,
     "end_time": "2022-08-30T00:55:52.743523",
     "exception": false,
     "start_time": "2022-08-30T00:55:52.712677",
     "status": "completed"
    },
    "tags": []
   },
   "outputs": [],
   "source": []
  },
  {
   "cell_type": "code",
   "execution_count": null,
   "id": "aging-legislature",
   "metadata": {
    "papermill": {
     "duration": 0.031118,
     "end_time": "2022-08-30T00:55:52.805716",
     "exception": false,
     "start_time": "2022-08-30T00:55:52.774598",
     "status": "completed"
    },
    "tags": []
   },
   "outputs": [],
   "source": []
  }
 ],
 "metadata": {
  "kernelspec": {
   "display_name": "Python 3",
   "language": "python",
   "name": "python3"
  },
  "language_info": {
   "codemirror_mode": {
    "name": "ipython",
    "version": 3
   },
   "file_extension": ".py",
   "mimetype": "text/x-python",
   "name": "python",
   "nbconvert_exporter": "python",
   "pygments_lexer": "ipython3",
   "version": "3.6.15"
  },
  "papermill": {
   "duration": 6.45967,
   "end_time": "2022-08-30T00:55:53.256230",
   "environment_variables": {},
   "exception": null,
   "input_path": "2020-03-21-covid19exp.ipynb",
   "output_path": "2020-03-21-covid19exp.ipynb",
   "parameters": {},
   "start_time": "2022-08-30T00:55:46.796560",
   "version": "2.0.0"
  }
 },
 "nbformat": 4,
 "nbformat_minor": 5
}