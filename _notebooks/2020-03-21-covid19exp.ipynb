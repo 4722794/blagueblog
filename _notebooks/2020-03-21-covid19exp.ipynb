{
 "cells": [
  {
   "cell_type": "markdown",
   "id": "muslim-click",
   "metadata": {
    "papermill": {
     "duration": 0.041653,
     "end_time": "2022-06-07T12:16:24.866459",
     "exception": false,
     "start_time": "2022-06-07T12:16:24.824806",
     "status": "completed"
    },
    "tags": []
   },
   "source": [
    "# COVID-19 Case Race\n",
    "> A race chart to see rising cases around the world\n",
    "\n",
    "- author: Hargun Oberoi\n",
    "- image: images/covid-overview.png\n",
    "- hide: false\n",
    "- badges: false"
   ]
  },
  {
   "cell_type": "code",
   "execution_count": 1,
   "id": "proof-material",
   "metadata": {
    "execution": {
     "iopub.execute_input": "2022-06-07T12:16:24.956744Z",
     "iopub.status.busy": "2022-06-07T12:16:24.951629Z",
     "iopub.status.idle": "2022-06-07T12:16:25.340086Z",
     "shell.execute_reply": "2022-06-07T12:16:25.338766Z"
    },
    "papermill": {
     "duration": 0.436619,
     "end_time": "2022-06-07T12:16:25.340244",
     "exception": false,
     "start_time": "2022-06-07T12:16:24.903625",
     "status": "completed"
    },
    "tags": []
   },
   "outputs": [],
   "source": [
    "#hide\n",
    "import numpy as np\n",
    "import pandas as pd\n",
    "from jinja2 import Template\n",
    "from IPython.display import HTML"
   ]
  },
  {
   "cell_type": "code",
   "execution_count": 2,
   "id": "developed-terminology",
   "metadata": {
    "execution": {
     "iopub.execute_input": "2022-06-07T12:16:25.413607Z",
     "iopub.status.busy": "2022-06-07T12:16:25.412804Z",
     "iopub.status.idle": "2022-06-07T12:16:25.415378Z",
     "shell.execute_reply": "2022-06-07T12:16:25.415868Z"
    },
    "papermill": {
     "duration": 0.041795,
     "end_time": "2022-06-07T12:16:25.416040",
     "exception": false,
     "start_time": "2022-06-07T12:16:25.374245",
     "status": "completed"
    },
    "tags": []
   },
   "outputs": [],
   "source": [
    "#hide\n",
    "\n",
    "# FETCH\n",
    "base_url = 'https://raw.githubusercontent.com/pratapvardhan/notebooks/master/covid19/'\n",
    "paths = {\n",
    "    'mapping': base_url + 'mapping_countries.csv',\n",
    "    'overview': base_url + 'overview.tpl'\n",
    "}"
   ]
  },
  {
   "cell_type": "code",
   "execution_count": 3,
   "id": "dynamic-saver",
   "metadata": {
    "execution": {
     "iopub.execute_input": "2022-06-07T12:16:25.496281Z",
     "iopub.status.busy": "2022-06-07T12:16:25.495509Z",
     "iopub.status.idle": "2022-06-07T12:16:25.500414Z",
     "shell.execute_reply": "2022-06-07T12:16:25.499828Z"
    },
    "papermill": {
     "duration": 0.05171,
     "end_time": "2022-06-07T12:16:25.500573",
     "exception": false,
     "start_time": "2022-06-07T12:16:25.448863",
     "status": "completed"
    },
    "tags": []
   },
   "outputs": [
    {
     "data": {
      "text/plain": [
       "'https://raw.githubusercontent.com/pratapvardhan/notebooks/master/covid19/mapping_countries.csv'"
      ]
     },
     "execution_count": 3,
     "metadata": {},
     "output_type": "execute_result"
    }
   ],
   "source": [
    "#hide\n",
    "paths['mapping']"
   ]
  },
  {
   "cell_type": "code",
   "execution_count": 4,
   "id": "urban-software",
   "metadata": {
    "execution": {
     "iopub.execute_input": "2022-06-07T12:16:25.575537Z",
     "iopub.status.busy": "2022-06-07T12:16:25.574824Z",
     "iopub.status.idle": "2022-06-07T12:16:25.577664Z",
     "shell.execute_reply": "2022-06-07T12:16:25.577105Z"
    },
    "papermill": {
     "duration": 0.043753,
     "end_time": "2022-06-07T12:16:25.577791",
     "exception": false,
     "start_time": "2022-06-07T12:16:25.534038",
     "status": "completed"
    },
    "tags": []
   },
   "outputs": [],
   "source": [
    "#hide\n",
    "def get_mappings(url):\n",
    "    df = pd.read_csv(url)\n",
    "    return {\n",
    "        'df': df,\n",
    "        'replace.country': dict(df.dropna(subset=['Name']).set_index('Country')['Name']),\n",
    "        'map.continent': dict(df.set_index('Name')['Continent'])\n",
    "    }"
   ]
  },
  {
   "cell_type": "code",
   "execution_count": 5,
   "id": "intimate-machinery",
   "metadata": {
    "execution": {
     "iopub.execute_input": "2022-06-07T12:16:25.653108Z",
     "iopub.status.busy": "2022-06-07T12:16:25.652403Z",
     "iopub.status.idle": "2022-06-07T12:16:25.684815Z",
     "shell.execute_reply": "2022-06-07T12:16:25.684090Z"
    },
    "papermill": {
     "duration": 0.074054,
     "end_time": "2022-06-07T12:16:25.684975",
     "exception": false,
     "start_time": "2022-06-07T12:16:25.610921",
     "status": "completed"
    },
    "tags": []
   },
   "outputs": [],
   "source": [
    "#hide\n",
    "mapping = get_mappings(paths['mapping'])"
   ]
  },
  {
   "cell_type": "code",
   "execution_count": 6,
   "id": "certified-tactics",
   "metadata": {
    "execution": {
     "iopub.execute_input": "2022-06-07T12:16:25.759045Z",
     "iopub.status.busy": "2022-06-07T12:16:25.758334Z",
     "iopub.status.idle": "2022-06-07T12:16:25.761291Z",
     "shell.execute_reply": "2022-06-07T12:16:25.760625Z"
    },
    "papermill": {
     "duration": 0.043776,
     "end_time": "2022-06-07T12:16:25.761415",
     "exception": false,
     "start_time": "2022-06-07T12:16:25.717639",
     "status": "completed"
    },
    "tags": []
   },
   "outputs": [],
   "source": [
    "#hide\n",
    "def get_template(path):\n",
    "    from urllib.parse import urlparse\n",
    "    if bool(urlparse(path).netloc):\n",
    "        from urllib.request import urlopen\n",
    "        return urlopen(path).read().decode('utf8')\n",
    "    return open(path).read()"
   ]
  },
  {
   "cell_type": "code",
   "execution_count": 7,
   "id": "realistic-blast",
   "metadata": {
    "execution": {
     "iopub.execute_input": "2022-06-07T12:16:25.836401Z",
     "iopub.status.busy": "2022-06-07T12:16:25.835100Z",
     "iopub.status.idle": "2022-06-07T12:16:25.837721Z",
     "shell.execute_reply": "2022-06-07T12:16:25.838619Z"
    },
    "papermill": {
     "duration": 0.044623,
     "end_time": "2022-06-07T12:16:25.838866",
     "exception": false,
     "start_time": "2022-06-07T12:16:25.794243",
     "status": "completed"
    },
    "tags": []
   },
   "outputs": [],
   "source": [
    "#hide\n",
    "def get_frame(name):\n",
    "    url = (\n",
    "        'https://raw.githubusercontent.com/CSSEGISandData/COVID-19/master/csse_covid_19_data/'\n",
    "        f'csse_covid_19_time_series/time_series_covid19_{name}_global.csv')\n",
    "    df = pd.read_csv(url)\n",
    "    # rename countries\n",
    "    df['Country/Region'] = df['Country/Region'].replace(mapping['replace.country'])\n",
    "    return df"
   ]
  },
  {
   "cell_type": "code",
   "execution_count": 8,
   "id": "affiliated-characterization",
   "metadata": {
    "execution": {
     "iopub.execute_input": "2022-06-07T12:16:25.913291Z",
     "iopub.status.busy": "2022-06-07T12:16:25.912429Z",
     "iopub.status.idle": "2022-06-07T12:16:25.915396Z",
     "shell.execute_reply": "2022-06-07T12:16:25.914830Z"
    },
    "papermill": {
     "duration": 0.04297,
     "end_time": "2022-06-07T12:16:25.915523",
     "exception": false,
     "start_time": "2022-06-07T12:16:25.872553",
     "status": "completed"
    },
    "tags": []
   },
   "outputs": [],
   "source": [
    "#hide\n",
    "def get_dates(df):\n",
    "    dt_cols = df.columns[~df.columns.isin(['Province/State', 'Country/Region', 'Lat', 'Long'])]\n",
    "    LAST_DATE_I = -1\n",
    "    # sometimes last column may be empty, then go backwards\n",
    "    for i in range(-1, -len(dt_cols), -1):\n",
    "        if not df[dt_cols[i]].fillna(0).eq(0).all():\n",
    "            LAST_DATE_I = i\n",
    "            break\n",
    "    return LAST_DATE_I, dt_cols"
   ]
  },
  {
   "cell_type": "code",
   "execution_count": 9,
   "id": "recent-optimization",
   "metadata": {
    "execution": {
     "iopub.execute_input": "2022-06-07T12:16:25.989591Z",
     "iopub.status.busy": "2022-06-07T12:16:25.988622Z",
     "iopub.status.idle": "2022-06-07T12:16:26.377985Z",
     "shell.execute_reply": "2022-06-07T12:16:26.377432Z"
    },
    "papermill": {
     "duration": 0.429627,
     "end_time": "2022-06-07T12:16:26.378120",
     "exception": false,
     "start_time": "2022-06-07T12:16:25.948493",
     "status": "completed"
    },
    "tags": []
   },
   "outputs": [],
   "source": [
    "#hide\n",
    "COL_REGION = 'Country/Region'\n",
    "# Confirmed, Recovered, Deaths\n",
    "df = get_frame('confirmed')\n",
    "# dft_: timeseries, dfc_: today country agg\n",
    "dft_cases = df\n",
    "dft_deaths = get_frame('deaths')\n",
    "dft_recovered = get_frame('recovered')\n",
    "LAST_DATE_I, dt_cols = get_dates(df)"
   ]
  },
  {
   "cell_type": "code",
   "execution_count": 10,
   "id": "absolute-copper",
   "metadata": {
    "execution": {
     "iopub.execute_input": "2022-06-07T12:16:26.454695Z",
     "iopub.status.busy": "2022-06-07T12:16:26.453480Z",
     "iopub.status.idle": "2022-06-07T12:16:26.456040Z",
     "shell.execute_reply": "2022-06-07T12:16:26.456969Z"
    },
    "papermill": {
     "duration": 0.045839,
     "end_time": "2022-06-07T12:16:26.457190",
     "exception": false,
     "start_time": "2022-06-07T12:16:26.411351",
     "status": "completed"
    },
    "tags": []
   },
   "outputs": [],
   "source": [
    "#hide\n",
    "LAST_DATE_I, dt_cols = get_dates(df)\n",
    "dt_today =dt_cols[LAST_DATE_I]\n",
    "# dt_5day = dt_cols[LAST_DATE_I - 5]\n",
    "dt_yday = dt_cols[LAST_DATE_I - 1]"
   ]
  },
  {
   "cell_type": "code",
   "execution_count": 11,
   "id": "restricted-sheriff",
   "metadata": {
    "execution": {
     "iopub.execute_input": "2022-06-07T12:16:26.530998Z",
     "iopub.status.busy": "2022-06-07T12:16:26.530297Z",
     "iopub.status.idle": "2022-06-07T12:16:26.538424Z",
     "shell.execute_reply": "2022-06-07T12:16:26.538942Z"
    },
    "papermill": {
     "duration": 0.049362,
     "end_time": "2022-06-07T12:16:26.539086",
     "exception": false,
     "start_time": "2022-06-07T12:16:26.489724",
     "status": "completed"
    },
    "tags": []
   },
   "outputs": [],
   "source": [
    "#hide\n",
    "dfc_cases = dft_cases.groupby(COL_REGION)[dt_today].sum()\n",
    "dfc_deaths = dft_deaths.groupby(COL_REGION)[dt_today].sum()\n",
    "# dfp_cases = dft_cases.groupby(COL_REGION)[dt_5day].sum()\n",
    "# dfp_deaths = dft_deaths.groupby(COL_REGION)[dt_5day].sum()\n",
    "dfp_cases = dft_cases.groupby(COL_REGION)[dt_yday].sum()\n",
    "dfp_deaths = dft_deaths.groupby(COL_REGION)[dt_yday].sum()"
   ]
  },
  {
   "cell_type": "code",
   "execution_count": 12,
   "id": "deluxe-hepatitis",
   "metadata": {
    "execution": {
     "iopub.execute_input": "2022-06-07T12:16:26.613584Z",
     "iopub.status.busy": "2022-06-07T12:16:26.612883Z",
     "iopub.status.idle": "2022-06-07T12:16:26.618627Z",
     "shell.execute_reply": "2022-06-07T12:16:26.618092Z"
    },
    "papermill": {
     "duration": 0.04664,
     "end_time": "2022-06-07T12:16:26.618765",
     "exception": false,
     "start_time": "2022-06-07T12:16:26.572125",
     "status": "completed"
    },
    "tags": []
   },
   "outputs": [],
   "source": [
    "#hide\n",
    "df_table = (pd.DataFrame(dict(Cases = dfc_cases, Deaths = dfc_deaths, PCases = dfp_cases, PDeaths = dfp_deaths))\n",
    "            .sort_values(by = ['Cases','Deaths'], ascending = [False, False])\n",
    "            .reset_index())"
   ]
  },
  {
   "cell_type": "code",
   "execution_count": 13,
   "id": "educational-chancellor",
   "metadata": {
    "execution": {
     "iopub.execute_input": "2022-06-07T12:16:26.707824Z",
     "iopub.status.busy": "2022-06-07T12:16:26.707111Z",
     "iopub.status.idle": "2022-06-07T12:16:26.716508Z",
     "shell.execute_reply": "2022-06-07T12:16:26.715912Z"
    },
    "papermill": {
     "duration": 0.064509,
     "end_time": "2022-06-07T12:16:26.716643",
     "exception": false,
     "start_time": "2022-06-07T12:16:26.652134",
     "status": "completed"
    },
    "tags": []
   },
   "outputs": [
    {
     "data": {
      "text/html": [
       "<div>\n",
       "<style scoped>\n",
       "    .dataframe tbody tr th:only-of-type {\n",
       "        vertical-align: middle;\n",
       "    }\n",
       "\n",
       "    .dataframe tbody tr th {\n",
       "        vertical-align: top;\n",
       "    }\n",
       "\n",
       "    .dataframe thead th {\n",
       "        text-align: right;\n",
       "    }\n",
       "</style>\n",
       "<table border=\"1\" class=\"dataframe\">\n",
       "  <thead>\n",
       "    <tr style=\"text-align: right;\">\n",
       "      <th></th>\n",
       "      <th>Country/Region</th>\n",
       "      <th>Cases</th>\n",
       "      <th>Deaths</th>\n",
       "      <th>PCases</th>\n",
       "      <th>PDeaths</th>\n",
       "      <th>Cases (+)</th>\n",
       "      <th>Deaths (+)</th>\n",
       "      <th>Fatality Rate</th>\n",
       "      <th>Continent</th>\n",
       "    </tr>\n",
       "  </thead>\n",
       "  <tbody>\n",
       "    <tr>\n",
       "      <th>0</th>\n",
       "      <td>US</td>\n",
       "      <td>84882287</td>\n",
       "      <td>1008857</td>\n",
       "      <td>84762022</td>\n",
       "      <td>1008585</td>\n",
       "      <td>120265</td>\n",
       "      <td>272</td>\n",
       "      <td>1.19</td>\n",
       "      <td>North America</td>\n",
       "    </tr>\n",
       "    <tr>\n",
       "      <th>1</th>\n",
       "      <td>India</td>\n",
       "      <td>43185049</td>\n",
       "      <td>524708</td>\n",
       "      <td>43181335</td>\n",
       "      <td>524701</td>\n",
       "      <td>3714</td>\n",
       "      <td>7</td>\n",
       "      <td>1.22</td>\n",
       "      <td>Asia</td>\n",
       "    </tr>\n",
       "    <tr>\n",
       "      <th>2</th>\n",
       "      <td>Brazil</td>\n",
       "      <td>31195118</td>\n",
       "      <td>667041</td>\n",
       "      <td>31137479</td>\n",
       "      <td>666971</td>\n",
       "      <td>57639</td>\n",
       "      <td>70</td>\n",
       "      <td>2.14</td>\n",
       "      <td>South America</td>\n",
       "    </tr>\n",
       "    <tr>\n",
       "      <th>3</th>\n",
       "      <td>France</td>\n",
       "      <td>29840626</td>\n",
       "      <td>149509</td>\n",
       "      <td>29834390</td>\n",
       "      <td>149509</td>\n",
       "      <td>6236</td>\n",
       "      <td>0</td>\n",
       "      <td>0.50</td>\n",
       "      <td>Europe</td>\n",
       "    </tr>\n",
       "    <tr>\n",
       "      <th>4</th>\n",
       "      <td>Germany</td>\n",
       "      <td>26498361</td>\n",
       "      <td>139388</td>\n",
       "      <td>26496611</td>\n",
       "      <td>139386</td>\n",
       "      <td>1750</td>\n",
       "      <td>2</td>\n",
       "      <td>0.53</td>\n",
       "      <td>Europe</td>\n",
       "    </tr>\n",
       "  </tbody>\n",
       "</table>\n",
       "</div>"
      ],
      "text/plain": [
       "  Country/Region     Cases   Deaths    PCases  PDeaths  Cases (+)  Deaths (+)  \\\n",
       "0             US  84882287  1008857  84762022  1008585     120265         272   \n",
       "1          India  43185049   524708  43181335   524701       3714           7   \n",
       "2         Brazil  31195118   667041  31137479   666971      57639          70   \n",
       "3         France  29840626   149509  29834390   149509       6236           0   \n",
       "4        Germany  26498361   139388  26496611   139386       1750           2   \n",
       "\n",
       "   Fatality Rate      Continent  \n",
       "0           1.19  North America  \n",
       "1           1.22           Asia  \n",
       "2           2.14  South America  \n",
       "3           0.50         Europe  \n",
       "4           0.53         Europe  "
      ]
     },
     "execution_count": 13,
     "metadata": {},
     "output_type": "execute_result"
    }
   ],
   "source": [
    "#hide\n",
    "for c in 'Cases, Deaths'.split(', '):\n",
    "    df_table[f'{c} (+)'] = (df_table[c] - df_table[f'P{c}']).clip(0)\n",
    "    #Clip ça veut dire, les chiffres negatif sont interdit\n",
    "df_table['Fatality Rate'] = (100* df_table['Deaths']/ df_table['Cases']).round(2)\n",
    "df_table['Continent'] = df_table['Country/Region'].map(mapping['map.continent'])\n",
    "df_table.head(5)"
   ]
  },
  {
   "cell_type": "code",
   "execution_count": 14,
   "id": "aboriginal-bulgaria",
   "metadata": {
    "execution": {
     "iopub.execute_input": "2022-06-07T12:16:26.792981Z",
     "iopub.status.busy": "2022-06-07T12:16:26.792278Z",
     "iopub.status.idle": "2022-06-07T12:16:26.795707Z",
     "shell.execute_reply": "2022-06-07T12:16:26.796303Z"
    },
    "papermill": {
     "duration": 0.04466,
     "end_time": "2022-06-07T12:16:26.796461",
     "exception": false,
     "start_time": "2022-06-07T12:16:26.751801",
     "status": "completed"
    },
    "tags": []
   },
   "outputs": [],
   "source": [
    "#hide\n",
    "#delete problematic countries from table\n",
    "df_table = df_table[~df_table['Country/Region'].isin(['Cape Verde', 'Cruise Ship', 'Kosovo'])]"
   ]
  },
  {
   "cell_type": "code",
   "execution_count": 15,
   "id": "fantastic-effect",
   "metadata": {
    "execution": {
     "iopub.execute_input": "2022-06-07T12:16:26.876140Z",
     "iopub.status.busy": "2022-06-07T12:16:26.875396Z",
     "iopub.status.idle": "2022-06-07T12:16:26.895837Z",
     "shell.execute_reply": "2022-06-07T12:16:26.895166Z"
    },
    "papermill": {
     "duration": 0.065915,
     "end_time": "2022-06-07T12:16:26.895994",
     "exception": false,
     "start_time": "2022-06-07T12:16:26.830079",
     "status": "completed"
    },
    "tags": []
   },
   "outputs": [
    {
     "data": {
      "text/html": [
       "<div>\n",
       "<style scoped>\n",
       "    .dataframe tbody tr th:only-of-type {\n",
       "        vertical-align: middle;\n",
       "    }\n",
       "\n",
       "    .dataframe tbody tr th {\n",
       "        vertical-align: top;\n",
       "    }\n",
       "\n",
       "    .dataframe thead th {\n",
       "        text-align: right;\n",
       "    }\n",
       "</style>\n",
       "<table border=\"1\" class=\"dataframe\">\n",
       "  <thead>\n",
       "    <tr style=\"text-align: right;\">\n",
       "      <th></th>\n",
       "      <th>Country/Region</th>\n",
       "      <th>Cases</th>\n",
       "      <th>Deaths</th>\n",
       "      <th>PCases</th>\n",
       "      <th>PDeaths</th>\n",
       "      <th>Cases (+)</th>\n",
       "      <th>Deaths (+)</th>\n",
       "      <th>Fatality Rate</th>\n",
       "      <th>Continent</th>\n",
       "    </tr>\n",
       "  </thead>\n",
       "  <tbody>\n",
       "    <tr>\n",
       "      <th>0</th>\n",
       "      <td>US</td>\n",
       "      <td>84882287</td>\n",
       "      <td>1008857</td>\n",
       "      <td>84762022</td>\n",
       "      <td>1008585</td>\n",
       "      <td>120265</td>\n",
       "      <td>272</td>\n",
       "      <td>1.2</td>\n",
       "      <td>North America</td>\n",
       "    </tr>\n",
       "    <tr>\n",
       "      <th>1</th>\n",
       "      <td>India</td>\n",
       "      <td>43185049</td>\n",
       "      <td>524708</td>\n",
       "      <td>43181335</td>\n",
       "      <td>524701</td>\n",
       "      <td>3714</td>\n",
       "      <td>7</td>\n",
       "      <td>1.2</td>\n",
       "      <td>Asia</td>\n",
       "    </tr>\n",
       "    <tr>\n",
       "      <th>2</th>\n",
       "      <td>Brazil</td>\n",
       "      <td>31195118</td>\n",
       "      <td>667041</td>\n",
       "      <td>31137479</td>\n",
       "      <td>666971</td>\n",
       "      <td>57639</td>\n",
       "      <td>70</td>\n",
       "      <td>2.1</td>\n",
       "      <td>South America</td>\n",
       "    </tr>\n",
       "    <tr>\n",
       "      <th>3</th>\n",
       "      <td>France</td>\n",
       "      <td>29840626</td>\n",
       "      <td>149509</td>\n",
       "      <td>29834390</td>\n",
       "      <td>149509</td>\n",
       "      <td>6236</td>\n",
       "      <td>0</td>\n",
       "      <td>0.5</td>\n",
       "      <td>Europe</td>\n",
       "    </tr>\n",
       "    <tr>\n",
       "      <th>4</th>\n",
       "      <td>Germany</td>\n",
       "      <td>26498361</td>\n",
       "      <td>139388</td>\n",
       "      <td>26496611</td>\n",
       "      <td>139386</td>\n",
       "      <td>1750</td>\n",
       "      <td>2</td>\n",
       "      <td>0.5</td>\n",
       "      <td>Europe</td>\n",
       "    </tr>\n",
       "  </tbody>\n",
       "</table>\n",
       "</div>"
      ],
      "text/plain": [
       "  Country/Region     Cases   Deaths    PCases  PDeaths  Cases (+)  Deaths (+)  \\\n",
       "0             US  84882287  1008857  84762022  1008585     120265         272   \n",
       "1          India  43185049   524708  43181335   524701       3714           7   \n",
       "2         Brazil  31195118   667041  31137479   666971      57639          70   \n",
       "3         France  29840626   149509  29834390   149509       6236           0   \n",
       "4        Germany  26498361   139388  26496611   139386       1750           2   \n",
       "\n",
       "   Fatality Rate      Continent  \n",
       "0            1.2  North America  \n",
       "1            1.2           Asia  \n",
       "2            2.1  South America  \n",
       "3            0.5         Europe  \n",
       "4            0.5         Europe  "
      ]
     },
     "execution_count": 15,
     "metadata": {},
     "output_type": "execute_result"
    }
   ],
   "source": [
    "#hide\n",
    "df_table = (pd.DataFrame(dict(Cases=dfc_cases, Deaths=dfc_deaths, PCases=dfp_cases, PDeaths=dfp_deaths))\n",
    "             .sort_values(by=['Cases', 'Deaths'], ascending=[False, False])\n",
    "             .reset_index())\n",
    "df_table.rename(columns={'index': 'Country/Region'}, inplace=True)\n",
    "for c in 'Cases, Deaths'.split(', '):\n",
    "    df_table[f'{c} (+)'] = (df_table[c] - df_table[f'P{c}']).clip(0)  # DATA BUG\n",
    "df_table['Fatality Rate'] = (100 * df_table['Deaths'] / df_table['Cases']).round(1)\n",
    "df_table['Continent'] = df_table['Country/Region'].map(mapping['map.continent'])\n",
    "df_table.head(5)"
   ]
  },
  {
   "cell_type": "code",
   "execution_count": 16,
   "id": "fewer-occasion",
   "metadata": {
    "execution": {
     "iopub.execute_input": "2022-06-07T12:16:26.974657Z",
     "iopub.status.busy": "2022-06-07T12:16:26.973930Z",
     "iopub.status.idle": "2022-06-07T12:16:26.978128Z",
     "shell.execute_reply": "2022-06-07T12:16:26.978592Z"
    },
    "papermill": {
     "duration": 0.047963,
     "end_time": "2022-06-07T12:16:26.978739",
     "exception": false,
     "start_time": "2022-06-07T12:16:26.930776",
     "status": "completed"
    },
    "tags": []
   },
   "outputs": [],
   "source": [
    "#hide\n",
    "#delete problematic countries from table\n",
    "df_table = df_table[~df_table['Country/Region'].isin(['Cape Verde', 'Cruise Ship', 'Kosovo'])]"
   ]
  },
  {
   "cell_type": "code",
   "execution_count": 17,
   "id": "related-center",
   "metadata": {
    "execution": {
     "iopub.execute_input": "2022-06-07T12:16:27.069349Z",
     "iopub.status.busy": "2022-06-07T12:16:27.068305Z",
     "iopub.status.idle": "2022-06-07T12:16:27.070430Z",
     "shell.execute_reply": "2022-06-07T12:16:27.071176Z"
    },
    "papermill": {
     "duration": 0.058122,
     "end_time": "2022-06-07T12:16:27.071390",
     "exception": false,
     "start_time": "2022-06-07T12:16:27.013268",
     "status": "completed"
    },
    "tags": []
   },
   "outputs": [],
   "source": [
    "#hide\n",
    "metrics = [df_table.columns[index] for index in [1,2,5,6]]\n",
    "# s_china = df_table[df_table['Country/Region'].eq('China')][metrics].sum().add_prefix('China ')\n",
    "s_us = df_table[df_table['Country/Region'].eq('US')][metrics].sum().add_prefix('US ')\n",
    "s_eu = df_table[df_table['Continent'].eq('Europe')][metrics].sum().add_prefix('EU ')\n",
    "s_ind = df_table[df_table['Country/Region'].eq('India')][metrics].sum().add_prefix('India ')\n",
    "summary = {'updated': pd.to_datetime(dt_today), 'since': pd.to_datetime(dt_yday)}\n",
    "summary = {'updated': pd.to_datetime(dt_today), 'since': pd.to_datetime(dt_yday)}\n",
    "summary = {**summary, **df_table[metrics].sum(), **s_ind, **s_us, **s_eu}"
   ]
  },
  {
   "cell_type": "code",
   "execution_count": 18,
   "id": "engaging-syndrome",
   "metadata": {
    "execution": {
     "iopub.execute_input": "2022-06-07T12:16:27.147758Z",
     "iopub.status.busy": "2022-06-07T12:16:27.147101Z",
     "iopub.status.idle": "2022-06-07T12:16:27.168295Z",
     "shell.execute_reply": "2022-06-07T12:16:27.167712Z"
    },
    "papermill": {
     "duration": 0.061391,
     "end_time": "2022-06-07T12:16:27.168436",
     "exception": false,
     "start_time": "2022-06-07T12:16:27.107045",
     "status": "completed"
    },
    "tags": []
   },
   "outputs": [],
   "source": [
    "#hide\n",
    "dft_ct_new_cases = dft_cases.groupby(COL_REGION)[dt_cols].sum().diff(axis=1).fillna(0).astype(int)"
   ]
  },
  {
   "cell_type": "code",
   "execution_count": 19,
   "id": "neutral-assignment",
   "metadata": {
    "execution": {
     "iopub.execute_input": "2022-06-07T12:16:27.245084Z",
     "iopub.status.busy": "2022-06-07T12:16:27.244270Z",
     "iopub.status.idle": "2022-06-07T12:16:27.246156Z",
     "shell.execute_reply": "2022-06-07T12:16:27.246781Z"
    },
    "papermill": {
     "duration": 0.044832,
     "end_time": "2022-06-07T12:16:27.246948",
     "exception": false,
     "start_time": "2022-06-07T12:16:27.202116",
     "status": "completed"
    },
    "tags": []
   },
   "outputs": [],
   "source": [
    "#hide\n",
    "everydaycases = dft_ct_new_cases.cumsum(axis=1)"
   ]
  },
  {
   "cell_type": "code",
   "execution_count": 20,
   "id": "parliamentary-calgary",
   "metadata": {
    "execution": {
     "iopub.execute_input": "2022-06-07T12:16:27.321319Z",
     "iopub.status.busy": "2022-06-07T12:16:27.320610Z",
     "iopub.status.idle": "2022-06-07T12:16:27.947938Z",
     "shell.execute_reply": "2022-06-07T12:16:27.946974Z"
    },
    "papermill": {
     "duration": 0.667377,
     "end_time": "2022-06-07T12:16:27.948183",
     "exception": false,
     "start_time": "2022-06-07T12:16:27.280806",
     "status": "completed"
    },
    "tags": []
   },
   "outputs": [],
   "source": [
    "#hide\n",
    "import pandas as pd\n",
    "import matplotlib.pyplot as plt\n",
    "import matplotlib.ticker as ticker\n",
    "import matplotlib.animation as animation\n",
    "from IPython.display import HTML"
   ]
  },
  {
   "cell_type": "code",
   "execution_count": 21,
   "id": "lasting-extraction",
   "metadata": {
    "execution": {
     "iopub.execute_input": "2022-06-07T12:16:28.033399Z",
     "iopub.status.busy": "2022-06-07T12:16:28.032707Z",
     "iopub.status.idle": "2022-06-07T12:16:28.040632Z",
     "shell.execute_reply": "2022-06-07T12:16:28.039897Z"
    },
    "papermill": {
     "duration": 0.054361,
     "end_time": "2022-06-07T12:16:28.040769",
     "exception": false,
     "start_time": "2022-06-07T12:16:27.986408",
     "status": "completed"
    },
    "tags": []
   },
   "outputs": [],
   "source": [
    "#hide\n",
    "t = everydaycases.stack()"
   ]
  },
  {
   "cell_type": "code",
   "execution_count": 22,
   "id": "premier-sleeve",
   "metadata": {
    "execution": {
     "iopub.execute_input": "2022-06-07T12:16:28.126624Z",
     "iopub.status.busy": "2022-06-07T12:16:28.125920Z",
     "iopub.status.idle": "2022-06-07T12:16:28.141357Z",
     "shell.execute_reply": "2022-06-07T12:16:28.140815Z"
    },
    "papermill": {
     "duration": 0.059414,
     "end_time": "2022-06-07T12:16:28.141494",
     "exception": false,
     "start_time": "2022-06-07T12:16:28.082080",
     "status": "completed"
    },
    "tags": []
   },
   "outputs": [],
   "source": [
    "#hide\n",
    "g = t.reset_index(['Country/Region'])"
   ]
  },
  {
   "cell_type": "code",
   "execution_count": 23,
   "id": "distributed-pittsburgh",
   "metadata": {
    "execution": {
     "iopub.execute_input": "2022-06-07T12:16:28.216392Z",
     "iopub.status.busy": "2022-06-07T12:16:28.215658Z",
     "iopub.status.idle": "2022-06-07T12:16:28.220367Z",
     "shell.execute_reply": "2022-06-07T12:16:28.219757Z"
    },
    "papermill": {
     "duration": 0.044468,
     "end_time": "2022-06-07T12:16:28.220503",
     "exception": false,
     "start_time": "2022-06-07T12:16:28.176035",
     "status": "completed"
    },
    "tags": []
   },
   "outputs": [],
   "source": [
    "#hide\n",
    "g.index.name = 'date'"
   ]
  },
  {
   "cell_type": "code",
   "execution_count": 24,
   "id": "naked-donor",
   "metadata": {
    "execution": {
     "iopub.execute_input": "2022-06-07T12:16:28.293911Z",
     "iopub.status.busy": "2022-06-07T12:16:28.293210Z",
     "iopub.status.idle": "2022-06-07T12:16:28.296056Z",
     "shell.execute_reply": "2022-06-07T12:16:28.295477Z"
    },
    "papermill": {
     "duration": 0.041186,
     "end_time": "2022-06-07T12:16:28.296189",
     "exception": false,
     "start_time": "2022-06-07T12:16:28.255003",
     "status": "completed"
    },
    "tags": []
   },
   "outputs": [],
   "source": [
    "# #hide\n",
    "# g = g.reset_index(['date'])"
   ]
  },
  {
   "cell_type": "code",
   "execution_count": 25,
   "id": "incomplete-mustang",
   "metadata": {
    "execution": {
     "iopub.execute_input": "2022-06-07T12:16:28.372415Z",
     "iopub.status.busy": "2022-06-07T12:16:28.371138Z",
     "iopub.status.idle": "2022-06-07T12:16:28.373750Z",
     "shell.execute_reply": "2022-06-07T12:16:28.374521Z"
    },
    "papermill": {
     "duration": 0.043967,
     "end_time": "2022-06-07T12:16:28.374678",
     "exception": false,
     "start_time": "2022-06-07T12:16:28.330711",
     "status": "completed"
    },
    "tags": []
   },
   "outputs": [],
   "source": [
    "#hide\n",
    "# g.head()"
   ]
  },
  {
   "cell_type": "code",
   "execution_count": 26,
   "id": "specific-kruger",
   "metadata": {
    "execution": {
     "iopub.execute_input": "2022-06-07T12:16:28.449944Z",
     "iopub.status.busy": "2022-06-07T12:16:28.449232Z",
     "iopub.status.idle": "2022-06-07T12:16:28.453465Z",
     "shell.execute_reply": "2022-06-07T12:16:28.452927Z"
    },
    "papermill": {
     "duration": 0.044094,
     "end_time": "2022-06-07T12:16:28.453600",
     "exception": false,
     "start_time": "2022-06-07T12:16:28.409506",
     "status": "completed"
    },
    "tags": []
   },
   "outputs": [],
   "source": [
    "#hide\n",
    "# g.columns = ['date','country','cases']"
   ]
  },
  {
   "cell_type": "code",
   "execution_count": 27,
   "id": "tender-conversion",
   "metadata": {
    "execution": {
     "iopub.execute_input": "2022-06-07T12:16:28.528698Z",
     "iopub.status.busy": "2022-06-07T12:16:28.527935Z",
     "iopub.status.idle": "2022-06-07T12:16:28.530597Z",
     "shell.execute_reply": "2022-06-07T12:16:28.530027Z"
    },
    "papermill": {
     "duration": 0.042339,
     "end_time": "2022-06-07T12:16:28.530727",
     "exception": false,
     "start_time": "2022-06-07T12:16:28.488388",
     "status": "completed"
    },
    "tags": []
   },
   "outputs": [],
   "source": [
    "#hide\n",
    "# g['continent'] = g.country"
   ]
  },
  {
   "cell_type": "code",
   "execution_count": 28,
   "id": "substantial-wilderness",
   "metadata": {
    "execution": {
     "iopub.execute_input": "2022-06-07T12:16:28.605020Z",
     "iopub.status.busy": "2022-06-07T12:16:28.604326Z",
     "iopub.status.idle": "2022-06-07T12:16:28.608173Z",
     "shell.execute_reply": "2022-06-07T12:16:28.608832Z"
    },
    "papermill": {
     "duration": 0.043412,
     "end_time": "2022-06-07T12:16:28.608989",
     "exception": false,
     "start_time": "2022-06-07T12:16:28.565577",
     "status": "completed"
    },
    "tags": []
   },
   "outputs": [],
   "source": [
    "#hide\n",
    "# cols = list(g.columns.values)"
   ]
  },
  {
   "cell_type": "code",
   "execution_count": 29,
   "id": "solved-farming",
   "metadata": {
    "execution": {
     "iopub.execute_input": "2022-06-07T12:16:28.684997Z",
     "iopub.status.busy": "2022-06-07T12:16:28.683690Z",
     "iopub.status.idle": "2022-06-07T12:16:28.686315Z",
     "shell.execute_reply": "2022-06-07T12:16:28.687226Z"
    },
    "papermill": {
     "duration": 0.044153,
     "end_time": "2022-06-07T12:16:28.687475",
     "exception": false,
     "start_time": "2022-06-07T12:16:28.643322",
     "status": "completed"
    },
    "tags": []
   },
   "outputs": [],
   "source": [
    "#hide\n",
    "# cols.insert(0, cols.pop())"
   ]
  },
  {
   "cell_type": "code",
   "execution_count": 30,
   "id": "executed-adoption",
   "metadata": {
    "execution": {
     "iopub.execute_input": "2022-06-07T12:16:28.762223Z",
     "iopub.status.busy": "2022-06-07T12:16:28.761513Z",
     "iopub.status.idle": "2022-06-07T12:16:28.765458Z",
     "shell.execute_reply": "2022-06-07T12:16:28.765953Z"
    },
    "papermill": {
     "duration": 0.043429,
     "end_time": "2022-06-07T12:16:28.766110",
     "exception": false,
     "start_time": "2022-06-07T12:16:28.722681",
     "status": "completed"
    },
    "tags": []
   },
   "outputs": [],
   "source": [
    "#hide\n",
    "# g = g[cols]"
   ]
  },
  {
   "cell_type": "code",
   "execution_count": 31,
   "id": "subject-dublin",
   "metadata": {
    "execution": {
     "iopub.execute_input": "2022-06-07T12:16:28.841277Z",
     "iopub.status.busy": "2022-06-07T12:16:28.840584Z",
     "iopub.status.idle": "2022-06-07T12:16:28.844260Z",
     "shell.execute_reply": "2022-06-07T12:16:28.843671Z"
    },
    "papermill": {
     "duration": 0.043141,
     "end_time": "2022-06-07T12:16:28.844393",
     "exception": false,
     "start_time": "2022-06-07T12:16:28.801252",
     "status": "completed"
    },
    "tags": []
   },
   "outputs": [],
   "source": [
    "#hide\n",
    "# g['continent'] = g['continent'].map(mapping['map.continent'])"
   ]
  },
  {
   "cell_type": "code",
   "execution_count": 32,
   "id": "freelance-scout",
   "metadata": {
    "execution": {
     "iopub.execute_input": "2022-06-07T12:16:28.918756Z",
     "iopub.status.busy": "2022-06-07T12:16:28.917281Z",
     "iopub.status.idle": "2022-06-07T12:16:28.921938Z",
     "shell.execute_reply": "2022-06-07T12:16:28.922489Z"
    },
    "papermill": {
     "duration": 0.043724,
     "end_time": "2022-06-07T12:16:28.922644",
     "exception": false,
     "start_time": "2022-06-07T12:16:28.878920",
     "status": "completed"
    },
    "tags": []
   },
   "outputs": [],
   "source": [
    "#hide\n",
    "# g.head()"
   ]
  },
  {
   "cell_type": "code",
   "execution_count": 33,
   "id": "limited-engine",
   "metadata": {
    "execution": {
     "iopub.execute_input": "2022-06-07T12:16:28.997551Z",
     "iopub.status.busy": "2022-06-07T12:16:28.996278Z",
     "iopub.status.idle": "2022-06-07T12:16:28.998723Z",
     "shell.execute_reply": "2022-06-07T12:16:28.999528Z"
    },
    "papermill": {
     "duration": 0.042908,
     "end_time": "2022-06-07T12:16:28.999748",
     "exception": false,
     "start_time": "2022-06-07T12:16:28.956840",
     "status": "completed"
    },
    "tags": []
   },
   "outputs": [],
   "source": [
    "# hide\n",
    "# g['date'] = g['date'].astype('datetime64[ns]')"
   ]
  },
  {
   "cell_type": "code",
   "execution_count": 34,
   "id": "sophisticated-supervisor",
   "metadata": {
    "execution": {
     "iopub.execute_input": "2022-06-07T12:16:29.075508Z",
     "iopub.status.busy": "2022-06-07T12:16:29.074820Z",
     "iopub.status.idle": "2022-06-07T12:16:29.078917Z",
     "shell.execute_reply": "2022-06-07T12:16:29.079412Z"
    },
    "papermill": {
     "duration": 0.043727,
     "end_time": "2022-06-07T12:16:29.079564",
     "exception": false,
     "start_time": "2022-06-07T12:16:29.035837",
     "status": "completed"
    },
    "tags": []
   },
   "outputs": [],
   "source": [
    "#hide\n",
    "# g['date'] = g.date.dt.dayofyear"
   ]
  },
  {
   "cell_type": "code",
   "execution_count": 35,
   "id": "inside-dubai",
   "metadata": {
    "execution": {
     "iopub.execute_input": "2022-06-07T12:16:29.153978Z",
     "iopub.status.busy": "2022-06-07T12:16:29.153295Z",
     "iopub.status.idle": "2022-06-07T12:16:29.157154Z",
     "shell.execute_reply": "2022-06-07T12:16:29.156475Z"
    },
    "papermill": {
     "duration": 0.043111,
     "end_time": "2022-06-07T12:16:29.157285",
     "exception": false,
     "start_time": "2022-06-07T12:16:29.114174",
     "status": "completed"
    },
    "tags": []
   },
   "outputs": [],
   "source": [
    "#hide\n",
    "# g = g.rename(columns= {'continent':'group','country':'name','cases':'value'})"
   ]
  },
  {
   "cell_type": "code",
   "execution_count": 36,
   "id": "fleet-motorcycle",
   "metadata": {
    "execution": {
     "iopub.execute_input": "2022-06-07T12:16:29.230783Z",
     "iopub.status.busy": "2022-06-07T12:16:29.230114Z",
     "iopub.status.idle": "2022-06-07T12:16:29.233564Z",
     "shell.execute_reply": "2022-06-07T12:16:29.234228Z"
    },
    "papermill": {
     "duration": 0.043223,
     "end_time": "2022-06-07T12:16:29.234382",
     "exception": false,
     "start_time": "2022-06-07T12:16:29.191159",
     "status": "completed"
    },
    "tags": []
   },
   "outputs": [],
   "source": [
    "#hide\n",
    "# cols = ['name','group','day','value']"
   ]
  },
  {
   "cell_type": "code",
   "execution_count": 37,
   "id": "continued-sleeping",
   "metadata": {
    "execution": {
     "iopub.execute_input": "2022-06-07T12:16:29.307471Z",
     "iopub.status.busy": "2022-06-07T12:16:29.306793Z",
     "iopub.status.idle": "2022-06-07T12:16:29.309608Z",
     "shell.execute_reply": "2022-06-07T12:16:29.309024Z"
    },
    "papermill": {
     "duration": 0.041178,
     "end_time": "2022-06-07T12:16:29.309734",
     "exception": false,
     "start_time": "2022-06-07T12:16:29.268556",
     "status": "completed"
    },
    "tags": []
   },
   "outputs": [],
   "source": [
    "#hide\n",
    "# g.rename(columns= {'date':'day'},inplace = True)"
   ]
  },
  {
   "cell_type": "code",
   "execution_count": 38,
   "id": "major-fight",
   "metadata": {
    "execution": {
     "iopub.execute_input": "2022-06-07T12:16:29.384094Z",
     "iopub.status.busy": "2022-06-07T12:16:29.382835Z",
     "iopub.status.idle": "2022-06-07T12:16:29.385413Z",
     "shell.execute_reply": "2022-06-07T12:16:29.386307Z"
    },
    "papermill": {
     "duration": 0.042679,
     "end_time": "2022-06-07T12:16:29.386546",
     "exception": false,
     "start_time": "2022-06-07T12:16:29.343867",
     "status": "completed"
    },
    "tags": []
   },
   "outputs": [],
   "source": [
    "#hide\n",
    "# g = g[cols]"
   ]
  },
  {
   "cell_type": "code",
   "execution_count": 39,
   "id": "structured-mobile",
   "metadata": {
    "execution": {
     "iopub.execute_input": "2022-06-07T12:16:29.463013Z",
     "iopub.status.busy": "2022-06-07T12:16:29.462326Z",
     "iopub.status.idle": "2022-06-07T12:16:29.464601Z",
     "shell.execute_reply": "2022-06-07T12:16:29.465121Z"
    },
    "papermill": {
     "duration": 0.043221,
     "end_time": "2022-06-07T12:16:29.465275",
     "exception": false,
     "start_time": "2022-06-07T12:16:29.422054",
     "status": "completed"
    },
    "tags": []
   },
   "outputs": [],
   "source": [
    "# #hide\n",
    "# g = g[g.group.notna()]"
   ]
  },
  {
   "cell_type": "code",
   "execution_count": 40,
   "id": "determined-closing",
   "metadata": {
    "execution": {
     "iopub.execute_input": "2022-06-07T12:16:29.539576Z",
     "iopub.status.busy": "2022-06-07T12:16:29.538349Z",
     "iopub.status.idle": "2022-06-07T12:16:29.544482Z",
     "shell.execute_reply": "2022-06-07T12:16:29.543862Z"
    },
    "papermill": {
     "duration": 0.045962,
     "end_time": "2022-06-07T12:16:29.544619",
     "exception": false,
     "start_time": "2022-06-07T12:16:29.498657",
     "status": "completed"
    },
    "tags": []
   },
   "outputs": [],
   "source": [
    "# #hide\n",
    "# colors = dict(zip(\n",
    "#     [\"Oceania\", \"Europe\", \"Asia\", \"South America\", \"Middle East\", \"North America\", \"Africa\"],\n",
    "#     [\"#adb0ff\", \"#ffb3ff\", \"#90d595\", \"#e48381\", \"#aafbff\", \"#f7bb5f\", \"#eafb50\"]\n",
    "# ))\n",
    "# group_lk = g.set_index('name')['group'].to_dict()"
   ]
  },
  {
   "cell_type": "code",
   "execution_count": null,
   "id": "gross-drinking",
   "metadata": {
    "papermill": {
     "duration": 0.033285,
     "end_time": "2022-06-07T12:16:29.612521",
     "exception": false,
     "start_time": "2022-06-07T12:16:29.579236",
     "status": "completed"
    },
    "tags": []
   },
   "outputs": [],
   "source": []
  },
  {
   "cell_type": "code",
   "execution_count": 41,
   "id": "subject-macintosh",
   "metadata": {
    "execution": {
     "iopub.execute_input": "2022-06-07T12:16:29.687177Z",
     "iopub.status.busy": "2022-06-07T12:16:29.686457Z",
     "iopub.status.idle": "2022-06-07T12:16:29.689017Z",
     "shell.execute_reply": "2022-06-07T12:16:29.688392Z"
    },
    "papermill": {
     "duration": 0.043081,
     "end_time": "2022-06-07T12:16:29.689137",
     "exception": false,
     "start_time": "2022-06-07T12:16:29.646056",
     "status": "completed"
    },
    "tags": []
   },
   "outputs": [],
   "source": [
    "# #hide\n",
    "# fig, ax = plt.subplots(figsize=(15, 8))\n",
    "\n",
    "# def draw_barchart(current_day):\n",
    "#     dff = g[g['day'].eq(current_day)].sort_values(by='value', ascending=True).tail(10)\n",
    "#     ax.clear()\n",
    "#     ax.barh(dff['name'], dff['value'], color=[colors[group_lk[x]] for x in dff['name']])\n",
    "#     dx = dff['value'].max() / 200\n",
    "    \n",
    "#     for i, (value, name) in enumerate(zip(dff['value'], dff['name'])):\n",
    "#         ax.text(value-dx, i,     name,           size=14, weight=600, ha='right', va='bottom')\n",
    "#         ax.text(value-dx, i-.25, group_lk[name], size=10, color='#444444', ha='right', va='baseline')\n",
    "#         ax.text(value+dx, i,     f'{value:,.0f}',  size=14, ha='left',  va='center')\n",
    "#     ax.text(1, 0.4, current_day, transform=ax.transAxes, color='#777777', size=46, ha='right', weight=800)\n",
    "#     ax.text(0, 1.06, 'Population (thousands)', transform=ax.transAxes, size=12, color='#777777')\n",
    "#     ax.xaxis.set_major_formatter(ticker.StrMethodFormatter('{x:,.0f}'))\n",
    "#     ax.xaxis.set_ticks_position('top')\n",
    "#     ax.tick_params(axis='x', colors='#777777', labelsize=12)\n",
    "#     ax.set_yticks([])\n",
    "#     ax.margins(0, 0.01)\n",
    "#     ax.grid(which='major', axis='x', linestyle='-')\n",
    "#     ax.set_axisbelow(True)\n",
    "    \n",
    "#     ax.text(0, 1.15, 'Coronavirus',\n",
    "#             transform=ax.transAxes, size=24, weight=600, ha='left', va='top')\n",
    "# #     ax.text(1, 0, 'by @pratapvardhan; credit @jburnmurdoch', transform=ax.transAxes, color='#777777', ha='right',\n",
    "# #             bbox=dict(facecolor='white', alpha=0.8, edgecolor='white'))\n",
    "#     plt.box(False)"
   ]
  },
  {
   "cell_type": "code",
   "execution_count": 42,
   "id": "sexual-wages",
   "metadata": {
    "execution": {
     "iopub.execute_input": "2022-06-07T12:16:29.761146Z",
     "iopub.status.busy": "2022-06-07T12:16:29.760427Z",
     "iopub.status.idle": "2022-06-07T12:16:29.764693Z",
     "shell.execute_reply": "2022-06-07T12:16:29.764157Z"
    },
    "papermill": {
     "duration": 0.04289,
     "end_time": "2022-06-07T12:16:29.764826",
     "exception": false,
     "start_time": "2022-06-07T12:16:29.721936",
     "status": "completed"
    },
    "tags": []
   },
   "outputs": [],
   "source": [
    "# #hide_input\n",
    "# fig, ax = plt.subplots(figsize=(15, 8))\n",
    "# animator = animation.FuncAnimation(fig, draw_barchart, frames=range(g.day.values.min(), g.day.values.max()))\n",
    "# HTML(animator.to_jshtml())\n",
    "# # or use animator.to_html5_video() or animator.save() "
   ]
  },
  {
   "cell_type": "code",
   "execution_count": null,
   "id": "australian-container",
   "metadata": {
    "papermill": {
     "duration": 0.033834,
     "end_time": "2022-06-07T12:16:29.833311",
     "exception": false,
     "start_time": "2022-06-07T12:16:29.799477",
     "status": "completed"
    },
    "tags": []
   },
   "outputs": [],
   "source": []
  },
  {
   "cell_type": "code",
   "execution_count": null,
   "id": "mediterranean-pontiac",
   "metadata": {
    "papermill": {
     "duration": 0.033635,
     "end_time": "2022-06-07T12:16:29.899756",
     "exception": false,
     "start_time": "2022-06-07T12:16:29.866121",
     "status": "completed"
    },
    "tags": []
   },
   "outputs": [],
   "source": []
  },
  {
   "cell_type": "code",
   "execution_count": null,
   "id": "aging-legislature",
   "metadata": {
    "papermill": {
     "duration": 0.034523,
     "end_time": "2022-06-07T12:16:29.968923",
     "exception": false,
     "start_time": "2022-06-07T12:16:29.934400",
     "status": "completed"
    },
    "tags": []
   },
   "outputs": [],
   "source": []
  }
 ],
 "metadata": {
  "kernelspec": {
   "display_name": "Python 3",
   "language": "python",
   "name": "python3"
  },
  "language_info": {
   "codemirror_mode": {
    "name": "ipython",
    "version": 3
   },
   "file_extension": ".py",
   "mimetype": "text/x-python",
   "name": "python",
   "nbconvert_exporter": "python",
   "pygments_lexer": "ipython3",
   "version": "3.6.15"
  },
  "papermill": {
   "duration": 6.774141,
   "end_time": "2022-06-07T12:16:30.425191",
   "environment_variables": {},
   "exception": null,
   "input_path": "2020-03-21-covid19exp.ipynb",
   "output_path": "2020-03-21-covid19exp.ipynb",
   "parameters": {},
   "start_time": "2022-06-07T12:16:23.651050",
   "version": "2.0.0"
  }
 },
 "nbformat": 4,
 "nbformat_minor": 5
}