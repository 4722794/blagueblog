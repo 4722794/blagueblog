{
 "cells": [
  {
   "cell_type": "markdown",
   "id": "muslim-click",
   "metadata": {
    "papermill": {
     "duration": 0.039239,
     "end_time": "2022-04-26T12:17:18.987877",
     "exception": false,
     "start_time": "2022-04-26T12:17:18.948638",
     "status": "completed"
    },
    "tags": []
   },
   "source": [
    "# COVID-19 Case Race\n",
    "> A race chart to see rising cases around the world\n",
    "\n",
    "- author: Hargun Oberoi\n",
    "- image: images/covid-overview.png\n",
    "- hide: false\n",
    "- badges: false"
   ]
  },
  {
   "cell_type": "code",
   "execution_count": 1,
   "id": "proof-material",
   "metadata": {
    "execution": {
     "iopub.execute_input": "2022-04-26T12:17:19.068261Z",
     "iopub.status.busy": "2022-04-26T12:17:19.067667Z",
     "iopub.status.idle": "2022-04-26T12:17:19.448088Z",
     "shell.execute_reply": "2022-04-26T12:17:19.447484Z"
    },
    "papermill": {
     "duration": 0.425464,
     "end_time": "2022-04-26T12:17:19.448249",
     "exception": false,
     "start_time": "2022-04-26T12:17:19.022785",
     "status": "completed"
    },
    "tags": []
   },
   "outputs": [],
   "source": [
    "#hide\n",
    "import numpy as np\n",
    "import pandas as pd\n",
    "from jinja2 import Template\n",
    "from IPython.display import HTML"
   ]
  },
  {
   "cell_type": "code",
   "execution_count": 2,
   "id": "developed-terminology",
   "metadata": {
    "execution": {
     "iopub.execute_input": "2022-04-26T12:17:19.524981Z",
     "iopub.status.busy": "2022-04-26T12:17:19.524256Z",
     "iopub.status.idle": "2022-04-26T12:17:19.526255Z",
     "shell.execute_reply": "2022-04-26T12:17:19.526794Z"
    },
    "papermill": {
     "duration": 0.04241,
     "end_time": "2022-04-26T12:17:19.527014",
     "exception": false,
     "start_time": "2022-04-26T12:17:19.484604",
     "status": "completed"
    },
    "tags": []
   },
   "outputs": [],
   "source": [
    "#hide\n",
    "\n",
    "# FETCH\n",
    "base_url = 'https://raw.githubusercontent.com/pratapvardhan/notebooks/master/covid19/'\n",
    "paths = {\n",
    "    'mapping': base_url + 'mapping_countries.csv',\n",
    "    'overview': base_url + 'overview.tpl'\n",
    "}"
   ]
  },
  {
   "cell_type": "code",
   "execution_count": 3,
   "id": "dynamic-saver",
   "metadata": {
    "execution": {
     "iopub.execute_input": "2022-04-26T12:17:19.610713Z",
     "iopub.status.busy": "2022-04-26T12:17:19.610077Z",
     "iopub.status.idle": "2022-04-26T12:17:19.613543Z",
     "shell.execute_reply": "2022-04-26T12:17:19.613006Z"
    },
    "papermill": {
     "duration": 0.050578,
     "end_time": "2022-04-26T12:17:19.613670",
     "exception": false,
     "start_time": "2022-04-26T12:17:19.563092",
     "status": "completed"
    },
    "tags": []
   },
   "outputs": [
    {
     "data": {
      "text/plain": [
       "'https://raw.githubusercontent.com/pratapvardhan/notebooks/master/covid19/mapping_countries.csv'"
      ]
     },
     "execution_count": 3,
     "metadata": {},
     "output_type": "execute_result"
    }
   ],
   "source": [
    "#hide\n",
    "paths['mapping']"
   ]
  },
  {
   "cell_type": "code",
   "execution_count": 4,
   "id": "urban-software",
   "metadata": {
    "execution": {
     "iopub.execute_input": "2022-04-26T12:17:19.692304Z",
     "iopub.status.busy": "2022-04-26T12:17:19.691658Z",
     "iopub.status.idle": "2022-04-26T12:17:19.694077Z",
     "shell.execute_reply": "2022-04-26T12:17:19.693441Z"
    },
    "papermill": {
     "duration": 0.043711,
     "end_time": "2022-04-26T12:17:19.694206",
     "exception": false,
     "start_time": "2022-04-26T12:17:19.650495",
     "status": "completed"
    },
    "tags": []
   },
   "outputs": [],
   "source": [
    "#hide\n",
    "def get_mappings(url):\n",
    "    df = pd.read_csv(url)\n",
    "    return {\n",
    "        'df': df,\n",
    "        'replace.country': dict(df.dropna(subset=['Name']).set_index('Country')['Name']),\n",
    "        'map.continent': dict(df.set_index('Name')['Continent'])\n",
    "    }"
   ]
  },
  {
   "cell_type": "code",
   "execution_count": 5,
   "id": "intimate-machinery",
   "metadata": {
    "execution": {
     "iopub.execute_input": "2022-04-26T12:17:19.771635Z",
     "iopub.status.busy": "2022-04-26T12:17:19.771008Z",
     "iopub.status.idle": "2022-04-26T12:17:19.798036Z",
     "shell.execute_reply": "2022-04-26T12:17:19.798496Z"
    },
    "papermill": {
     "duration": 0.068167,
     "end_time": "2022-04-26T12:17:19.798650",
     "exception": false,
     "start_time": "2022-04-26T12:17:19.730483",
     "status": "completed"
    },
    "tags": []
   },
   "outputs": [],
   "source": [
    "#hide\n",
    "mapping = get_mappings(paths['mapping'])"
   ]
  },
  {
   "cell_type": "code",
   "execution_count": 6,
   "id": "certified-tactics",
   "metadata": {
    "execution": {
     "iopub.execute_input": "2022-04-26T12:17:19.873705Z",
     "iopub.status.busy": "2022-04-26T12:17:19.873085Z",
     "iopub.status.idle": "2022-04-26T12:17:19.875607Z",
     "shell.execute_reply": "2022-04-26T12:17:19.875082Z"
    },
    "papermill": {
     "duration": 0.042731,
     "end_time": "2022-04-26T12:17:19.875733",
     "exception": false,
     "start_time": "2022-04-26T12:17:19.833002",
     "status": "completed"
    },
    "tags": []
   },
   "outputs": [],
   "source": [
    "#hide\n",
    "def get_template(path):\n",
    "    from urllib.parse import urlparse\n",
    "    if bool(urlparse(path).netloc):\n",
    "        from urllib.request import urlopen\n",
    "        return urlopen(path).read().decode('utf8')\n",
    "    return open(path).read()"
   ]
  },
  {
   "cell_type": "code",
   "execution_count": 7,
   "id": "realistic-blast",
   "metadata": {
    "execution": {
     "iopub.execute_input": "2022-04-26T12:17:19.959033Z",
     "iopub.status.busy": "2022-04-26T12:17:19.958383Z",
     "iopub.status.idle": "2022-04-26T12:17:19.961081Z",
     "shell.execute_reply": "2022-04-26T12:17:19.960380Z"
    },
    "papermill": {
     "duration": 0.049206,
     "end_time": "2022-04-26T12:17:19.961218",
     "exception": false,
     "start_time": "2022-04-26T12:17:19.912012",
     "status": "completed"
    },
    "tags": []
   },
   "outputs": [],
   "source": [
    "#hide\n",
    "def get_frame(name):\n",
    "    url = (\n",
    "        'https://raw.githubusercontent.com/CSSEGISandData/COVID-19/master/csse_covid_19_data/'\n",
    "        f'csse_covid_19_time_series/time_series_covid19_{name}_global.csv')\n",
    "    df = pd.read_csv(url)\n",
    "    # rename countries\n",
    "    df['Country/Region'] = df['Country/Region'].replace(mapping['replace.country'])\n",
    "    return df"
   ]
  },
  {
   "cell_type": "code",
   "execution_count": 8,
   "id": "affiliated-characterization",
   "metadata": {
    "execution": {
     "iopub.execute_input": "2022-04-26T12:17:20.046224Z",
     "iopub.status.busy": "2022-04-26T12:17:20.045529Z",
     "iopub.status.idle": "2022-04-26T12:17:20.049471Z",
     "shell.execute_reply": "2022-04-26T12:17:20.049978Z"
    },
    "papermill": {
     "duration": 0.05073,
     "end_time": "2022-04-26T12:17:20.050150",
     "exception": false,
     "start_time": "2022-04-26T12:17:19.999420",
     "status": "completed"
    },
    "tags": []
   },
   "outputs": [],
   "source": [
    "#hide\n",
    "def get_dates(df):\n",
    "    dt_cols = df.columns[~df.columns.isin(['Province/State', 'Country/Region', 'Lat', 'Long'])]\n",
    "    LAST_DATE_I = -1\n",
    "    # sometimes last column may be empty, then go backwards\n",
    "    for i in range(-1, -len(dt_cols), -1):\n",
    "        if not df[dt_cols[i]].fillna(0).eq(0).all():\n",
    "            LAST_DATE_I = i\n",
    "            break\n",
    "    return LAST_DATE_I, dt_cols"
   ]
  },
  {
   "cell_type": "code",
   "execution_count": 9,
   "id": "recent-optimization",
   "metadata": {
    "execution": {
     "iopub.execute_input": "2022-04-26T12:17:20.133075Z",
     "iopub.status.busy": "2022-04-26T12:17:20.131787Z",
     "iopub.status.idle": "2022-04-26T12:17:20.536413Z",
     "shell.execute_reply": "2022-04-26T12:17:20.536945Z"
    },
    "papermill": {
     "duration": 0.447399,
     "end_time": "2022-04-26T12:17:20.537115",
     "exception": false,
     "start_time": "2022-04-26T12:17:20.089716",
     "status": "completed"
    },
    "tags": []
   },
   "outputs": [],
   "source": [
    "#hide\n",
    "COL_REGION = 'Country/Region'\n",
    "# Confirmed, Recovered, Deaths\n",
    "df = get_frame('confirmed')\n",
    "# dft_: timeseries, dfc_: today country agg\n",
    "dft_cases = df\n",
    "dft_deaths = get_frame('deaths')\n",
    "dft_recovered = get_frame('recovered')\n",
    "LAST_DATE_I, dt_cols = get_dates(df)"
   ]
  },
  {
   "cell_type": "code",
   "execution_count": 10,
   "id": "absolute-copper",
   "metadata": {
    "execution": {
     "iopub.execute_input": "2022-04-26T12:17:20.621052Z",
     "iopub.status.busy": "2022-04-26T12:17:20.619683Z",
     "iopub.status.idle": "2022-04-26T12:17:20.621976Z",
     "shell.execute_reply": "2022-04-26T12:17:20.622451Z"
    },
    "papermill": {
     "duration": 0.047909,
     "end_time": "2022-04-26T12:17:20.622583",
     "exception": false,
     "start_time": "2022-04-26T12:17:20.574674",
     "status": "completed"
    },
    "tags": []
   },
   "outputs": [],
   "source": [
    "#hide\n",
    "LAST_DATE_I, dt_cols = get_dates(df)\n",
    "dt_today =dt_cols[LAST_DATE_I]\n",
    "# dt_5day = dt_cols[LAST_DATE_I - 5]\n",
    "dt_yday = dt_cols[LAST_DATE_I - 1]"
   ]
  },
  {
   "cell_type": "code",
   "execution_count": 11,
   "id": "restricted-sheriff",
   "metadata": {
    "execution": {
     "iopub.execute_input": "2022-04-26T12:17:20.707658Z",
     "iopub.status.busy": "2022-04-26T12:17:20.706988Z",
     "iopub.status.idle": "2022-04-26T12:17:20.710590Z",
     "shell.execute_reply": "2022-04-26T12:17:20.711208Z"
    },
    "papermill": {
     "duration": 0.053742,
     "end_time": "2022-04-26T12:17:20.711351",
     "exception": false,
     "start_time": "2022-04-26T12:17:20.657609",
     "status": "completed"
    },
    "tags": []
   },
   "outputs": [],
   "source": [
    "#hide\n",
    "dfc_cases = dft_cases.groupby(COL_REGION)[dt_today].sum()\n",
    "dfc_deaths = dft_deaths.groupby(COL_REGION)[dt_today].sum()\n",
    "# dfp_cases = dft_cases.groupby(COL_REGION)[dt_5day].sum()\n",
    "# dfp_deaths = dft_deaths.groupby(COL_REGION)[dt_5day].sum()\n",
    "dfp_cases = dft_cases.groupby(COL_REGION)[dt_yday].sum()\n",
    "dfp_deaths = dft_deaths.groupby(COL_REGION)[dt_yday].sum()"
   ]
  },
  {
   "cell_type": "code",
   "execution_count": 12,
   "id": "deluxe-hepatitis",
   "metadata": {
    "execution": {
     "iopub.execute_input": "2022-04-26T12:17:20.790393Z",
     "iopub.status.busy": "2022-04-26T12:17:20.789739Z",
     "iopub.status.idle": "2022-04-26T12:17:20.795648Z",
     "shell.execute_reply": "2022-04-26T12:17:20.796246Z"
    },
    "papermill": {
     "duration": 0.049398,
     "end_time": "2022-04-26T12:17:20.796390",
     "exception": false,
     "start_time": "2022-04-26T12:17:20.746992",
     "status": "completed"
    },
    "tags": []
   },
   "outputs": [],
   "source": [
    "#hide\n",
    "df_table = (pd.DataFrame(dict(Cases = dfc_cases, Deaths = dfc_deaths, PCases = dfp_cases, PDeaths = dfp_deaths))\n",
    "            .sort_values(by = ['Cases','Deaths'], ascending = [False, False])\n",
    "            .reset_index())"
   ]
  },
  {
   "cell_type": "code",
   "execution_count": 13,
   "id": "educational-chancellor",
   "metadata": {
    "execution": {
     "iopub.execute_input": "2022-04-26T12:17:20.883812Z",
     "iopub.status.busy": "2022-04-26T12:17:20.883219Z",
     "iopub.status.idle": "2022-04-26T12:17:20.891248Z",
     "shell.execute_reply": "2022-04-26T12:17:20.891700Z"
    },
    "papermill": {
     "duration": 0.060954,
     "end_time": "2022-04-26T12:17:20.891828",
     "exception": false,
     "start_time": "2022-04-26T12:17:20.830874",
     "status": "completed"
    },
    "tags": []
   },
   "outputs": [
    {
     "data": {
      "text/html": [
       "<div>\n",
       "<style scoped>\n",
       "    .dataframe tbody tr th:only-of-type {\n",
       "        vertical-align: middle;\n",
       "    }\n",
       "\n",
       "    .dataframe tbody tr th {\n",
       "        vertical-align: top;\n",
       "    }\n",
       "\n",
       "    .dataframe thead th {\n",
       "        text-align: right;\n",
       "    }\n",
       "</style>\n",
       "<table border=\"1\" class=\"dataframe\">\n",
       "  <thead>\n",
       "    <tr style=\"text-align: right;\">\n",
       "      <th></th>\n",
       "      <th>Country/Region</th>\n",
       "      <th>Cases</th>\n",
       "      <th>Deaths</th>\n",
       "      <th>PCases</th>\n",
       "      <th>PDeaths</th>\n",
       "      <th>Cases (+)</th>\n",
       "      <th>Deaths (+)</th>\n",
       "      <th>Fatality Rate</th>\n",
       "      <th>Continent</th>\n",
       "    </tr>\n",
       "  </thead>\n",
       "  <tbody>\n",
       "    <tr>\n",
       "      <th>0</th>\n",
       "      <td>US</td>\n",
       "      <td>81043315</td>\n",
       "      <td>991609</td>\n",
       "      <td>80984214</td>\n",
       "      <td>991326</td>\n",
       "      <td>59101</td>\n",
       "      <td>283</td>\n",
       "      <td>1.22</td>\n",
       "      <td>North America</td>\n",
       "    </tr>\n",
       "    <tr>\n",
       "      <th>1</th>\n",
       "      <td>India</td>\n",
       "      <td>43060097</td>\n",
       "      <td>522223</td>\n",
       "      <td>43060086</td>\n",
       "      <td>522223</td>\n",
       "      <td>11</td>\n",
       "      <td>0</td>\n",
       "      <td>1.21</td>\n",
       "      <td>Asia</td>\n",
       "    </tr>\n",
       "    <tr>\n",
       "      <th>2</th>\n",
       "      <td>Brazil</td>\n",
       "      <td>30355919</td>\n",
       "      <td>662964</td>\n",
       "      <td>30349463</td>\n",
       "      <td>662891</td>\n",
       "      <td>6456</td>\n",
       "      <td>73</td>\n",
       "      <td>2.18</td>\n",
       "      <td>South America</td>\n",
       "    </tr>\n",
       "    <tr>\n",
       "      <th>3</th>\n",
       "      <td>France</td>\n",
       "      <td>28508116</td>\n",
       "      <td>146294</td>\n",
       "      <td>28494054</td>\n",
       "      <td>146097</td>\n",
       "      <td>14062</td>\n",
       "      <td>197</td>\n",
       "      <td>0.51</td>\n",
       "      <td>Europe</td>\n",
       "    </tr>\n",
       "    <tr>\n",
       "      <th>4</th>\n",
       "      <td>Germany</td>\n",
       "      <td>24337394</td>\n",
       "      <td>134489</td>\n",
       "      <td>24200596</td>\n",
       "      <td>134185</td>\n",
       "      <td>136798</td>\n",
       "      <td>304</td>\n",
       "      <td>0.55</td>\n",
       "      <td>Europe</td>\n",
       "    </tr>\n",
       "  </tbody>\n",
       "</table>\n",
       "</div>"
      ],
      "text/plain": [
       "  Country/Region     Cases  Deaths    PCases  PDeaths  Cases (+)  Deaths (+)  \\\n",
       "0             US  81043315  991609  80984214   991326      59101         283   \n",
       "1          India  43060097  522223  43060086   522223         11           0   \n",
       "2         Brazil  30355919  662964  30349463   662891       6456          73   \n",
       "3         France  28508116  146294  28494054   146097      14062         197   \n",
       "4        Germany  24337394  134489  24200596   134185     136798         304   \n",
       "\n",
       "   Fatality Rate      Continent  \n",
       "0           1.22  North America  \n",
       "1           1.21           Asia  \n",
       "2           2.18  South America  \n",
       "3           0.51         Europe  \n",
       "4           0.55         Europe  "
      ]
     },
     "execution_count": 13,
     "metadata": {},
     "output_type": "execute_result"
    }
   ],
   "source": [
    "#hide\n",
    "for c in 'Cases, Deaths'.split(', '):\n",
    "    df_table[f'{c} (+)'] = (df_table[c] - df_table[f'P{c}']).clip(0)\n",
    "    #Clip ça veut dire, les chiffres negatif sont interdit\n",
    "df_table['Fatality Rate'] = (100* df_table['Deaths']/ df_table['Cases']).round(2)\n",
    "df_table['Continent'] = df_table['Country/Region'].map(mapping['map.continent'])\n",
    "df_table.head(5)"
   ]
  },
  {
   "cell_type": "code",
   "execution_count": 14,
   "id": "aboriginal-bulgaria",
   "metadata": {
    "execution": {
     "iopub.execute_input": "2022-04-26T12:17:20.965951Z",
     "iopub.status.busy": "2022-04-26T12:17:20.965368Z",
     "iopub.status.idle": "2022-04-26T12:17:20.968007Z",
     "shell.execute_reply": "2022-04-26T12:17:20.968588Z"
    },
    "papermill": {
     "duration": 0.042084,
     "end_time": "2022-04-26T12:17:20.968715",
     "exception": false,
     "start_time": "2022-04-26T12:17:20.926631",
     "status": "completed"
    },
    "tags": []
   },
   "outputs": [],
   "source": [
    "#hide\n",
    "#delete problematic countries from table\n",
    "df_table = df_table[~df_table['Country/Region'].isin(['Cape Verde', 'Cruise Ship', 'Kosovo'])]"
   ]
  },
  {
   "cell_type": "code",
   "execution_count": 15,
   "id": "fantastic-effect",
   "metadata": {
    "execution": {
     "iopub.execute_input": "2022-04-26T12:17:21.047966Z",
     "iopub.status.busy": "2022-04-26T12:17:21.047357Z",
     "iopub.status.idle": "2022-04-26T12:17:21.069566Z",
     "shell.execute_reply": "2022-04-26T12:17:21.070139Z"
    },
    "papermill": {
     "duration": 0.06772,
     "end_time": "2022-04-26T12:17:21.070278",
     "exception": false,
     "start_time": "2022-04-26T12:17:21.002558",
     "status": "completed"
    },
    "tags": []
   },
   "outputs": [
    {
     "data": {
      "text/html": [
       "<div>\n",
       "<style scoped>\n",
       "    .dataframe tbody tr th:only-of-type {\n",
       "        vertical-align: middle;\n",
       "    }\n",
       "\n",
       "    .dataframe tbody tr th {\n",
       "        vertical-align: top;\n",
       "    }\n",
       "\n",
       "    .dataframe thead th {\n",
       "        text-align: right;\n",
       "    }\n",
       "</style>\n",
       "<table border=\"1\" class=\"dataframe\">\n",
       "  <thead>\n",
       "    <tr style=\"text-align: right;\">\n",
       "      <th></th>\n",
       "      <th>Country/Region</th>\n",
       "      <th>Cases</th>\n",
       "      <th>Deaths</th>\n",
       "      <th>PCases</th>\n",
       "      <th>PDeaths</th>\n",
       "      <th>Cases (+)</th>\n",
       "      <th>Deaths (+)</th>\n",
       "      <th>Fatality Rate</th>\n",
       "      <th>Continent</th>\n",
       "    </tr>\n",
       "  </thead>\n",
       "  <tbody>\n",
       "    <tr>\n",
       "      <th>0</th>\n",
       "      <td>US</td>\n",
       "      <td>81043315</td>\n",
       "      <td>991609</td>\n",
       "      <td>80984214</td>\n",
       "      <td>991326</td>\n",
       "      <td>59101</td>\n",
       "      <td>283</td>\n",
       "      <td>1.2</td>\n",
       "      <td>North America</td>\n",
       "    </tr>\n",
       "    <tr>\n",
       "      <th>1</th>\n",
       "      <td>India</td>\n",
       "      <td>43060097</td>\n",
       "      <td>522223</td>\n",
       "      <td>43060086</td>\n",
       "      <td>522223</td>\n",
       "      <td>11</td>\n",
       "      <td>0</td>\n",
       "      <td>1.2</td>\n",
       "      <td>Asia</td>\n",
       "    </tr>\n",
       "    <tr>\n",
       "      <th>2</th>\n",
       "      <td>Brazil</td>\n",
       "      <td>30355919</td>\n",
       "      <td>662964</td>\n",
       "      <td>30349463</td>\n",
       "      <td>662891</td>\n",
       "      <td>6456</td>\n",
       "      <td>73</td>\n",
       "      <td>2.2</td>\n",
       "      <td>South America</td>\n",
       "    </tr>\n",
       "    <tr>\n",
       "      <th>3</th>\n",
       "      <td>France</td>\n",
       "      <td>28508116</td>\n",
       "      <td>146294</td>\n",
       "      <td>28494054</td>\n",
       "      <td>146097</td>\n",
       "      <td>14062</td>\n",
       "      <td>197</td>\n",
       "      <td>0.5</td>\n",
       "      <td>Europe</td>\n",
       "    </tr>\n",
       "    <tr>\n",
       "      <th>4</th>\n",
       "      <td>Germany</td>\n",
       "      <td>24337394</td>\n",
       "      <td>134489</td>\n",
       "      <td>24200596</td>\n",
       "      <td>134185</td>\n",
       "      <td>136798</td>\n",
       "      <td>304</td>\n",
       "      <td>0.6</td>\n",
       "      <td>Europe</td>\n",
       "    </tr>\n",
       "  </tbody>\n",
       "</table>\n",
       "</div>"
      ],
      "text/plain": [
       "  Country/Region     Cases  Deaths    PCases  PDeaths  Cases (+)  Deaths (+)  \\\n",
       "0             US  81043315  991609  80984214   991326      59101         283   \n",
       "1          India  43060097  522223  43060086   522223         11           0   \n",
       "2         Brazil  30355919  662964  30349463   662891       6456          73   \n",
       "3         France  28508116  146294  28494054   146097      14062         197   \n",
       "4        Germany  24337394  134489  24200596   134185     136798         304   \n",
       "\n",
       "   Fatality Rate      Continent  \n",
       "0            1.2  North America  \n",
       "1            1.2           Asia  \n",
       "2            2.2  South America  \n",
       "3            0.5         Europe  \n",
       "4            0.6         Europe  "
      ]
     },
     "execution_count": 15,
     "metadata": {},
     "output_type": "execute_result"
    }
   ],
   "source": [
    "#hide\n",
    "df_table = (pd.DataFrame(dict(Cases=dfc_cases, Deaths=dfc_deaths, PCases=dfp_cases, PDeaths=dfp_deaths))\n",
    "             .sort_values(by=['Cases', 'Deaths'], ascending=[False, False])\n",
    "             .reset_index())\n",
    "df_table.rename(columns={'index': 'Country/Region'}, inplace=True)\n",
    "for c in 'Cases, Deaths'.split(', '):\n",
    "    df_table[f'{c} (+)'] = (df_table[c] - df_table[f'P{c}']).clip(0)  # DATA BUG\n",
    "df_table['Fatality Rate'] = (100 * df_table['Deaths'] / df_table['Cases']).round(1)\n",
    "df_table['Continent'] = df_table['Country/Region'].map(mapping['map.continent'])\n",
    "df_table.head(5)"
   ]
  },
  {
   "cell_type": "code",
   "execution_count": 16,
   "id": "fewer-occasion",
   "metadata": {
    "execution": {
     "iopub.execute_input": "2022-04-26T12:17:21.145183Z",
     "iopub.status.busy": "2022-04-26T12:17:21.144586Z",
     "iopub.status.idle": "2022-04-26T12:17:21.147244Z",
     "shell.execute_reply": "2022-04-26T12:17:21.147857Z"
    },
    "papermill": {
     "duration": 0.042953,
     "end_time": "2022-04-26T12:17:21.147988",
     "exception": false,
     "start_time": "2022-04-26T12:17:21.105035",
     "status": "completed"
    },
    "tags": []
   },
   "outputs": [],
   "source": [
    "#hide\n",
    "#delete problematic countries from table\n",
    "df_table = df_table[~df_table['Country/Region'].isin(['Cape Verde', 'Cruise Ship', 'Kosovo'])]"
   ]
  },
  {
   "cell_type": "code",
   "execution_count": 17,
   "id": "related-center",
   "metadata": {
    "execution": {
     "iopub.execute_input": "2022-04-26T12:17:21.243708Z",
     "iopub.status.busy": "2022-04-26T12:17:21.243017Z",
     "iopub.status.idle": "2022-04-26T12:17:21.245844Z",
     "shell.execute_reply": "2022-04-26T12:17:21.246350Z"
    },
    "papermill": {
     "duration": 0.063206,
     "end_time": "2022-04-26T12:17:21.246500",
     "exception": false,
     "start_time": "2022-04-26T12:17:21.183294",
     "status": "completed"
    },
    "tags": []
   },
   "outputs": [],
   "source": [
    "#hide\n",
    "metrics = [df_table.columns[index] for index in [1,2,5,6]]\n",
    "# s_china = df_table[df_table['Country/Region'].eq('China')][metrics].sum().add_prefix('China ')\n",
    "s_us = df_table[df_table['Country/Region'].eq('US')][metrics].sum().add_prefix('US ')\n",
    "s_eu = df_table[df_table['Continent'].eq('Europe')][metrics].sum().add_prefix('EU ')\n",
    "s_ind = df_table[df_table['Country/Region'].eq('India')][metrics].sum().add_prefix('India ')\n",
    "summary = {'updated': pd.to_datetime(dt_today), 'since': pd.to_datetime(dt_yday)}\n",
    "summary = {'updated': pd.to_datetime(dt_today), 'since': pd.to_datetime(dt_yday)}\n",
    "summary = {**summary, **df_table[metrics].sum(), **s_ind, **s_us, **s_eu}"
   ]
  },
  {
   "cell_type": "code",
   "execution_count": 18,
   "id": "engaging-syndrome",
   "metadata": {
    "execution": {
     "iopub.execute_input": "2022-04-26T12:17:21.321960Z",
     "iopub.status.busy": "2022-04-26T12:17:21.321299Z",
     "iopub.status.idle": "2022-04-26T12:17:21.339253Z",
     "shell.execute_reply": "2022-04-26T12:17:21.340711Z"
    },
    "papermill": {
     "duration": 0.05891,
     "end_time": "2022-04-26T12:17:21.340908",
     "exception": false,
     "start_time": "2022-04-26T12:17:21.281998",
     "status": "completed"
    },
    "tags": []
   },
   "outputs": [],
   "source": [
    "#hide\n",
    "dft_ct_new_cases = dft_cases.groupby(COL_REGION)[dt_cols].sum().diff(axis=1).fillna(0).astype(int)"
   ]
  },
  {
   "cell_type": "code",
   "execution_count": 19,
   "id": "neutral-assignment",
   "metadata": {
    "execution": {
     "iopub.execute_input": "2022-04-26T12:17:21.417414Z",
     "iopub.status.busy": "2022-04-26T12:17:21.416756Z",
     "iopub.status.idle": "2022-04-26T12:17:21.419051Z",
     "shell.execute_reply": "2022-04-26T12:17:21.419755Z"
    },
    "papermill": {
     "duration": 0.043803,
     "end_time": "2022-04-26T12:17:21.419910",
     "exception": false,
     "start_time": "2022-04-26T12:17:21.376107",
     "status": "completed"
    },
    "tags": []
   },
   "outputs": [],
   "source": [
    "#hide\n",
    "everydaycases = dft_ct_new_cases.cumsum(axis=1)"
   ]
  },
  {
   "cell_type": "code",
   "execution_count": 20,
   "id": "parliamentary-calgary",
   "metadata": {
    "execution": {
     "iopub.execute_input": "2022-04-26T12:17:21.497564Z",
     "iopub.status.busy": "2022-04-26T12:17:21.496871Z",
     "iopub.status.idle": "2022-04-26T12:17:22.135904Z",
     "shell.execute_reply": "2022-04-26T12:17:22.136410Z"
    },
    "papermill": {
     "duration": 0.680275,
     "end_time": "2022-04-26T12:17:22.136634",
     "exception": false,
     "start_time": "2022-04-26T12:17:21.456359",
     "status": "completed"
    },
    "tags": []
   },
   "outputs": [],
   "source": [
    "#hide\n",
    "import pandas as pd\n",
    "import matplotlib.pyplot as plt\n",
    "import matplotlib.ticker as ticker\n",
    "import matplotlib.animation as animation\n",
    "from IPython.display import HTML"
   ]
  },
  {
   "cell_type": "code",
   "execution_count": 21,
   "id": "lasting-extraction",
   "metadata": {
    "execution": {
     "iopub.execute_input": "2022-04-26T12:17:22.222282Z",
     "iopub.status.busy": "2022-04-26T12:17:22.221659Z",
     "iopub.status.idle": "2022-04-26T12:17:22.227711Z",
     "shell.execute_reply": "2022-04-26T12:17:22.228303Z"
    },
    "papermill": {
     "duration": 0.053196,
     "end_time": "2022-04-26T12:17:22.228450",
     "exception": false,
     "start_time": "2022-04-26T12:17:22.175254",
     "status": "completed"
    },
    "tags": []
   },
   "outputs": [],
   "source": [
    "#hide\n",
    "t = everydaycases.stack()"
   ]
  },
  {
   "cell_type": "code",
   "execution_count": 22,
   "id": "premier-sleeve",
   "metadata": {
    "execution": {
     "iopub.execute_input": "2022-04-26T12:17:22.306570Z",
     "iopub.status.busy": "2022-04-26T12:17:22.305933Z",
     "iopub.status.idle": "2022-04-26T12:17:22.317907Z",
     "shell.execute_reply": "2022-04-26T12:17:22.317393Z"
    },
    "papermill": {
     "duration": 0.053201,
     "end_time": "2022-04-26T12:17:22.318038",
     "exception": false,
     "start_time": "2022-04-26T12:17:22.264837",
     "status": "completed"
    },
    "tags": []
   },
   "outputs": [],
   "source": [
    "#hide\n",
    "g = t.reset_index(['Country/Region'])"
   ]
  },
  {
   "cell_type": "code",
   "execution_count": 23,
   "id": "distributed-pittsburgh",
   "metadata": {
    "execution": {
     "iopub.execute_input": "2022-04-26T12:17:22.393537Z",
     "iopub.status.busy": "2022-04-26T12:17:22.392647Z",
     "iopub.status.idle": "2022-04-26T12:17:22.395712Z",
     "shell.execute_reply": "2022-04-26T12:17:22.395192Z"
    },
    "papermill": {
     "duration": 0.04266,
     "end_time": "2022-04-26T12:17:22.395836",
     "exception": false,
     "start_time": "2022-04-26T12:17:22.353176",
     "status": "completed"
    },
    "tags": []
   },
   "outputs": [],
   "source": [
    "#hide\n",
    "g.index.name = 'date'"
   ]
  },
  {
   "cell_type": "code",
   "execution_count": 24,
   "id": "naked-donor",
   "metadata": {
    "execution": {
     "iopub.execute_input": "2022-04-26T12:17:22.474853Z",
     "iopub.status.busy": "2022-04-26T12:17:22.474230Z",
     "iopub.status.idle": "2022-04-26T12:17:22.476578Z",
     "shell.execute_reply": "2022-04-26T12:17:22.475929Z"
    },
    "papermill": {
     "duration": 0.043656,
     "end_time": "2022-04-26T12:17:22.476710",
     "exception": false,
     "start_time": "2022-04-26T12:17:22.433054",
     "status": "completed"
    },
    "tags": []
   },
   "outputs": [],
   "source": [
    "# #hide\n",
    "# g = g.reset_index(['date'])"
   ]
  },
  {
   "cell_type": "code",
   "execution_count": 25,
   "id": "incomplete-mustang",
   "metadata": {
    "execution": {
     "iopub.execute_input": "2022-04-26T12:17:22.555087Z",
     "iopub.status.busy": "2022-04-26T12:17:22.554466Z",
     "iopub.status.idle": "2022-04-26T12:17:22.557051Z",
     "shell.execute_reply": "2022-04-26T12:17:22.556530Z"
    },
    "papermill": {
     "duration": 0.043062,
     "end_time": "2022-04-26T12:17:22.557173",
     "exception": false,
     "start_time": "2022-04-26T12:17:22.514111",
     "status": "completed"
    },
    "tags": []
   },
   "outputs": [],
   "source": [
    "#hide\n",
    "# g.head()"
   ]
  },
  {
   "cell_type": "code",
   "execution_count": 26,
   "id": "specific-kruger",
   "metadata": {
    "execution": {
     "iopub.execute_input": "2022-04-26T12:17:22.637570Z",
     "iopub.status.busy": "2022-04-26T12:17:22.636907Z",
     "iopub.status.idle": "2022-04-26T12:17:22.638963Z",
     "shell.execute_reply": "2022-04-26T12:17:22.639571Z"
    },
    "papermill": {
     "duration": 0.045254,
     "end_time": "2022-04-26T12:17:22.639722",
     "exception": false,
     "start_time": "2022-04-26T12:17:22.594468",
     "status": "completed"
    },
    "tags": []
   },
   "outputs": [],
   "source": [
    "#hide\n",
    "# g.columns = ['date','country','cases']"
   ]
  },
  {
   "cell_type": "code",
   "execution_count": 27,
   "id": "tender-conversion",
   "metadata": {
    "execution": {
     "iopub.execute_input": "2022-04-26T12:17:22.719929Z",
     "iopub.status.busy": "2022-04-26T12:17:22.719305Z",
     "iopub.status.idle": "2022-04-26T12:17:22.721909Z",
     "shell.execute_reply": "2022-04-26T12:17:22.721348Z"
    },
    "papermill": {
     "duration": 0.04319,
     "end_time": "2022-04-26T12:17:22.722035",
     "exception": false,
     "start_time": "2022-04-26T12:17:22.678845",
     "status": "completed"
    },
    "tags": []
   },
   "outputs": [],
   "source": [
    "#hide\n",
    "# g['continent'] = g.country"
   ]
  },
  {
   "cell_type": "code",
   "execution_count": 28,
   "id": "substantial-wilderness",
   "metadata": {
    "execution": {
     "iopub.execute_input": "2022-04-26T12:17:22.799516Z",
     "iopub.status.busy": "2022-04-26T12:17:22.798889Z",
     "iopub.status.idle": "2022-04-26T12:17:22.803041Z",
     "shell.execute_reply": "2022-04-26T12:17:22.802503Z"
    },
    "papermill": {
     "duration": 0.044123,
     "end_time": "2022-04-26T12:17:22.803164",
     "exception": false,
     "start_time": "2022-04-26T12:17:22.759041",
     "status": "completed"
    },
    "tags": []
   },
   "outputs": [],
   "source": [
    "#hide\n",
    "# cols = list(g.columns.values)"
   ]
  },
  {
   "cell_type": "code",
   "execution_count": 29,
   "id": "solved-farming",
   "metadata": {
    "execution": {
     "iopub.execute_input": "2022-04-26T12:17:22.877265Z",
     "iopub.status.busy": "2022-04-26T12:17:22.876636Z",
     "iopub.status.idle": "2022-04-26T12:17:22.879203Z",
     "shell.execute_reply": "2022-04-26T12:17:22.878670Z"
    },
    "papermill": {
     "duration": 0.04153,
     "end_time": "2022-04-26T12:17:22.879325",
     "exception": false,
     "start_time": "2022-04-26T12:17:22.837795",
     "status": "completed"
    },
    "tags": []
   },
   "outputs": [],
   "source": [
    "#hide\n",
    "# cols.insert(0, cols.pop())"
   ]
  },
  {
   "cell_type": "code",
   "execution_count": 30,
   "id": "executed-adoption",
   "metadata": {
    "execution": {
     "iopub.execute_input": "2022-04-26T12:17:22.957852Z",
     "iopub.status.busy": "2022-04-26T12:17:22.957144Z",
     "iopub.status.idle": "2022-04-26T12:17:22.959547Z",
     "shell.execute_reply": "2022-04-26T12:17:22.958937Z"
    },
    "papermill": {
     "duration": 0.043797,
     "end_time": "2022-04-26T12:17:22.959672",
     "exception": false,
     "start_time": "2022-04-26T12:17:22.915875",
     "status": "completed"
    },
    "tags": []
   },
   "outputs": [],
   "source": [
    "#hide\n",
    "# g = g[cols]"
   ]
  },
  {
   "cell_type": "code",
   "execution_count": 31,
   "id": "subject-dublin",
   "metadata": {
    "execution": {
     "iopub.execute_input": "2022-04-26T12:17:23.037053Z",
     "iopub.status.busy": "2022-04-26T12:17:23.036350Z",
     "iopub.status.idle": "2022-04-26T12:17:23.038556Z",
     "shell.execute_reply": "2022-04-26T12:17:23.039061Z"
    },
    "papermill": {
     "duration": 0.04279,
     "end_time": "2022-04-26T12:17:23.039194",
     "exception": false,
     "start_time": "2022-04-26T12:17:22.996404",
     "status": "completed"
    },
    "tags": []
   },
   "outputs": [],
   "source": [
    "#hide\n",
    "# g['continent'] = g['continent'].map(mapping['map.continent'])"
   ]
  },
  {
   "cell_type": "code",
   "execution_count": 32,
   "id": "freelance-scout",
   "metadata": {
    "execution": {
     "iopub.execute_input": "2022-04-26T12:17:23.116522Z",
     "iopub.status.busy": "2022-04-26T12:17:23.115530Z",
     "iopub.status.idle": "2022-04-26T12:17:23.117486Z",
     "shell.execute_reply": "2022-04-26T12:17:23.118019Z"
    },
    "papermill": {
     "duration": 0.04352,
     "end_time": "2022-04-26T12:17:23.118162",
     "exception": false,
     "start_time": "2022-04-26T12:17:23.074642",
     "status": "completed"
    },
    "tags": []
   },
   "outputs": [],
   "source": [
    "#hide\n",
    "# g.head()"
   ]
  },
  {
   "cell_type": "code",
   "execution_count": 33,
   "id": "limited-engine",
   "metadata": {
    "execution": {
     "iopub.execute_input": "2022-04-26T12:17:23.198199Z",
     "iopub.status.busy": "2022-04-26T12:17:23.197582Z",
     "iopub.status.idle": "2022-04-26T12:17:23.201302Z",
     "shell.execute_reply": "2022-04-26T12:17:23.201780Z"
    },
    "papermill": {
     "duration": 0.045535,
     "end_time": "2022-04-26T12:17:23.201921",
     "exception": false,
     "start_time": "2022-04-26T12:17:23.156386",
     "status": "completed"
    },
    "tags": []
   },
   "outputs": [],
   "source": [
    "# hide\n",
    "# g['date'] = g['date'].astype('datetime64[ns]')"
   ]
  },
  {
   "cell_type": "code",
   "execution_count": 34,
   "id": "sophisticated-supervisor",
   "metadata": {
    "execution": {
     "iopub.execute_input": "2022-04-26T12:17:23.280124Z",
     "iopub.status.busy": "2022-04-26T12:17:23.279430Z",
     "iopub.status.idle": "2022-04-26T12:17:23.284752Z",
     "shell.execute_reply": "2022-04-26T12:17:23.284194Z"
    },
    "papermill": {
     "duration": 0.045503,
     "end_time": "2022-04-26T12:17:23.284890",
     "exception": false,
     "start_time": "2022-04-26T12:17:23.239387",
     "status": "completed"
    },
    "tags": []
   },
   "outputs": [],
   "source": [
    "#hide\n",
    "# g['date'] = g.date.dt.dayofyear"
   ]
  },
  {
   "cell_type": "code",
   "execution_count": 35,
   "id": "inside-dubai",
   "metadata": {
    "execution": {
     "iopub.execute_input": "2022-04-26T12:17:23.361812Z",
     "iopub.status.busy": "2022-04-26T12:17:23.361170Z",
     "iopub.status.idle": "2022-04-26T12:17:23.365399Z",
     "shell.execute_reply": "2022-04-26T12:17:23.364898Z"
    },
    "papermill": {
     "duration": 0.043632,
     "end_time": "2022-04-26T12:17:23.365526",
     "exception": false,
     "start_time": "2022-04-26T12:17:23.321894",
     "status": "completed"
    },
    "tags": []
   },
   "outputs": [],
   "source": [
    "#hide\n",
    "# g = g.rename(columns= {'continent':'group','country':'name','cases':'value'})"
   ]
  },
  {
   "cell_type": "code",
   "execution_count": 36,
   "id": "fleet-motorcycle",
   "metadata": {
    "execution": {
     "iopub.execute_input": "2022-04-26T12:17:23.444604Z",
     "iopub.status.busy": "2022-04-26T12:17:23.443944Z",
     "iopub.status.idle": "2022-04-26T12:17:23.446561Z",
     "shell.execute_reply": "2022-04-26T12:17:23.446034Z"
    },
    "papermill": {
     "duration": 0.043951,
     "end_time": "2022-04-26T12:17:23.446691",
     "exception": false,
     "start_time": "2022-04-26T12:17:23.402740",
     "status": "completed"
    },
    "tags": []
   },
   "outputs": [],
   "source": [
    "#hide\n",
    "# cols = ['name','group','day','value']"
   ]
  },
  {
   "cell_type": "code",
   "execution_count": 37,
   "id": "continued-sleeping",
   "metadata": {
    "execution": {
     "iopub.execute_input": "2022-04-26T12:17:23.526046Z",
     "iopub.status.busy": "2022-04-26T12:17:23.525430Z",
     "iopub.status.idle": "2022-04-26T12:17:23.527845Z",
     "shell.execute_reply": "2022-04-26T12:17:23.527316Z"
    },
    "papermill": {
     "duration": 0.046048,
     "end_time": "2022-04-26T12:17:23.527968",
     "exception": false,
     "start_time": "2022-04-26T12:17:23.481920",
     "status": "completed"
    },
    "tags": []
   },
   "outputs": [],
   "source": [
    "#hide\n",
    "# g.rename(columns= {'date':'day'},inplace = True)"
   ]
  },
  {
   "cell_type": "code",
   "execution_count": 38,
   "id": "major-fight",
   "metadata": {
    "execution": {
     "iopub.execute_input": "2022-04-26T12:17:23.610222Z",
     "iopub.status.busy": "2022-04-26T12:17:23.609545Z",
     "iopub.status.idle": "2022-04-26T12:17:23.612766Z",
     "shell.execute_reply": "2022-04-26T12:17:23.611781Z"
    },
    "papermill": {
     "duration": 0.047666,
     "end_time": "2022-04-26T12:17:23.613027",
     "exception": false,
     "start_time": "2022-04-26T12:17:23.565361",
     "status": "completed"
    },
    "tags": []
   },
   "outputs": [],
   "source": [
    "#hide\n",
    "# g = g[cols]"
   ]
  },
  {
   "cell_type": "code",
   "execution_count": 39,
   "id": "structured-mobile",
   "metadata": {
    "execution": {
     "iopub.execute_input": "2022-04-26T12:17:23.697332Z",
     "iopub.status.busy": "2022-04-26T12:17:23.696670Z",
     "iopub.status.idle": "2022-04-26T12:17:23.698691Z",
     "shell.execute_reply": "2022-04-26T12:17:23.699226Z"
    },
    "papermill": {
     "duration": 0.04729,
     "end_time": "2022-04-26T12:17:23.699380",
     "exception": false,
     "start_time": "2022-04-26T12:17:23.652090",
     "status": "completed"
    },
    "tags": []
   },
   "outputs": [],
   "source": [
    "# #hide\n",
    "# g = g[g.group.notna()]"
   ]
  },
  {
   "cell_type": "code",
   "execution_count": 40,
   "id": "determined-closing",
   "metadata": {
    "execution": {
     "iopub.execute_input": "2022-04-26T12:17:23.779907Z",
     "iopub.status.busy": "2022-04-26T12:17:23.779037Z",
     "iopub.status.idle": "2022-04-26T12:17:23.782914Z",
     "shell.execute_reply": "2022-04-26T12:17:23.783362Z"
    },
    "papermill": {
     "duration": 0.045144,
     "end_time": "2022-04-26T12:17:23.783498",
     "exception": false,
     "start_time": "2022-04-26T12:17:23.738354",
     "status": "completed"
    },
    "tags": []
   },
   "outputs": [],
   "source": [
    "# #hide\n",
    "# colors = dict(zip(\n",
    "#     [\"Oceania\", \"Europe\", \"Asia\", \"South America\", \"Middle East\", \"North America\", \"Africa\"],\n",
    "#     [\"#adb0ff\", \"#ffb3ff\", \"#90d595\", \"#e48381\", \"#aafbff\", \"#f7bb5f\", \"#eafb50\"]\n",
    "# ))\n",
    "# group_lk = g.set_index('name')['group'].to_dict()"
   ]
  },
  {
   "cell_type": "code",
   "execution_count": null,
   "id": "gross-drinking",
   "metadata": {
    "papermill": {
     "duration": 0.036406,
     "end_time": "2022-04-26T12:17:23.856213",
     "exception": false,
     "start_time": "2022-04-26T12:17:23.819807",
     "status": "completed"
    },
    "tags": []
   },
   "outputs": [],
   "source": []
  },
  {
   "cell_type": "code",
   "execution_count": 41,
   "id": "subject-macintosh",
   "metadata": {
    "execution": {
     "iopub.execute_input": "2022-04-26T12:17:23.932473Z",
     "iopub.status.busy": "2022-04-26T12:17:23.931775Z",
     "iopub.status.idle": "2022-04-26T12:17:23.934338Z",
     "shell.execute_reply": "2022-04-26T12:17:23.933760Z"
    },
    "papermill": {
     "duration": 0.043504,
     "end_time": "2022-04-26T12:17:23.934477",
     "exception": false,
     "start_time": "2022-04-26T12:17:23.890973",
     "status": "completed"
    },
    "tags": []
   },
   "outputs": [],
   "source": [
    "# #hide\n",
    "# fig, ax = plt.subplots(figsize=(15, 8))\n",
    "\n",
    "# def draw_barchart(current_day):\n",
    "#     dff = g[g['day'].eq(current_day)].sort_values(by='value', ascending=True).tail(10)\n",
    "#     ax.clear()\n",
    "#     ax.barh(dff['name'], dff['value'], color=[colors[group_lk[x]] for x in dff['name']])\n",
    "#     dx = dff['value'].max() / 200\n",
    "    \n",
    "#     for i, (value, name) in enumerate(zip(dff['value'], dff['name'])):\n",
    "#         ax.text(value-dx, i,     name,           size=14, weight=600, ha='right', va='bottom')\n",
    "#         ax.text(value-dx, i-.25, group_lk[name], size=10, color='#444444', ha='right', va='baseline')\n",
    "#         ax.text(value+dx, i,     f'{value:,.0f}',  size=14, ha='left',  va='center')\n",
    "#     ax.text(1, 0.4, current_day, transform=ax.transAxes, color='#777777', size=46, ha='right', weight=800)\n",
    "#     ax.text(0, 1.06, 'Population (thousands)', transform=ax.transAxes, size=12, color='#777777')\n",
    "#     ax.xaxis.set_major_formatter(ticker.StrMethodFormatter('{x:,.0f}'))\n",
    "#     ax.xaxis.set_ticks_position('top')\n",
    "#     ax.tick_params(axis='x', colors='#777777', labelsize=12)\n",
    "#     ax.set_yticks([])\n",
    "#     ax.margins(0, 0.01)\n",
    "#     ax.grid(which='major', axis='x', linestyle='-')\n",
    "#     ax.set_axisbelow(True)\n",
    "    \n",
    "#     ax.text(0, 1.15, 'Coronavirus',\n",
    "#             transform=ax.transAxes, size=24, weight=600, ha='left', va='top')\n",
    "# #     ax.text(1, 0, 'by @pratapvardhan; credit @jburnmurdoch', transform=ax.transAxes, color='#777777', ha='right',\n",
    "# #             bbox=dict(facecolor='white', alpha=0.8, edgecolor='white'))\n",
    "#     plt.box(False)"
   ]
  },
  {
   "cell_type": "code",
   "execution_count": 42,
   "id": "sexual-wages",
   "metadata": {
    "execution": {
     "iopub.execute_input": "2022-04-26T12:17:24.017892Z",
     "iopub.status.busy": "2022-04-26T12:17:24.017200Z",
     "iopub.status.idle": "2022-04-26T12:17:24.019785Z",
     "shell.execute_reply": "2022-04-26T12:17:24.020342Z"
    },
    "papermill": {
     "duration": 0.045509,
     "end_time": "2022-04-26T12:17:24.020563",
     "exception": false,
     "start_time": "2022-04-26T12:17:23.975054",
     "status": "completed"
    },
    "tags": []
   },
   "outputs": [],
   "source": [
    "# #hide_input\n",
    "# fig, ax = plt.subplots(figsize=(15, 8))\n",
    "# animator = animation.FuncAnimation(fig, draw_barchart, frames=range(g.day.values.min(), g.day.values.max()))\n",
    "# HTML(animator.to_jshtml())\n",
    "# # or use animator.to_html5_video() or animator.save() "
   ]
  },
  {
   "cell_type": "code",
   "execution_count": null,
   "id": "australian-container",
   "metadata": {
    "papermill": {
     "duration": 0.041488,
     "end_time": "2022-04-26T12:17:24.105220",
     "exception": false,
     "start_time": "2022-04-26T12:17:24.063732",
     "status": "completed"
    },
    "tags": []
   },
   "outputs": [],
   "source": []
  },
  {
   "cell_type": "code",
   "execution_count": null,
   "id": "mediterranean-pontiac",
   "metadata": {
    "papermill": {
     "duration": 0.039848,
     "end_time": "2022-04-26T12:17:24.184156",
     "exception": false,
     "start_time": "2022-04-26T12:17:24.144308",
     "status": "completed"
    },
    "tags": []
   },
   "outputs": [],
   "source": []
  },
  {
   "cell_type": "code",
   "execution_count": null,
   "id": "aging-legislature",
   "metadata": {
    "papermill": {
     "duration": 0.04082,
     "end_time": "2022-04-26T12:17:24.265837",
     "exception": false,
     "start_time": "2022-04-26T12:17:24.225017",
     "status": "completed"
    },
    "tags": []
   },
   "outputs": [],
   "source": []
  }
 ],
 "metadata": {
  "kernelspec": {
   "display_name": "Python 3",
   "language": "python",
   "name": "python3"
  },
  "language_info": {
   "codemirror_mode": {
    "name": "ipython",
    "version": 3
   },
   "file_extension": ".py",
   "mimetype": "text/x-python",
   "name": "python",
   "nbconvert_exporter": "python",
   "pygments_lexer": "ipython3",
   "version": "3.6.15"
  },
  "papermill": {
   "duration": 6.980161,
   "end_time": "2022-04-26T12:17:24.626523",
   "environment_variables": {},
   "exception": null,
   "input_path": "2020-03-21-covid19exp.ipynb",
   "output_path": "2020-03-21-covid19exp.ipynb",
   "parameters": {},
   "start_time": "2022-04-26T12:17:17.646362",
   "version": "2.0.0"
  }
 },
 "nbformat": 4,
 "nbformat_minor": 5
}