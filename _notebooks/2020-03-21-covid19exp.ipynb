{
 "cells": [
  {
   "cell_type": "markdown",
   "id": "muslim-click",
   "metadata": {
    "papermill": {
     "duration": 0.033414,
     "end_time": "2022-05-04T12:17:22.400118",
     "exception": false,
     "start_time": "2022-05-04T12:17:22.366704",
     "status": "completed"
    },
    "tags": []
   },
   "source": [
    "# COVID-19 Case Race\n",
    "> A race chart to see rising cases around the world\n",
    "\n",
    "- author: Hargun Oberoi\n",
    "- image: images/covid-overview.png\n",
    "- hide: false\n",
    "- badges: false"
   ]
  },
  {
   "cell_type": "code",
   "execution_count": 1,
   "id": "proof-material",
   "metadata": {
    "execution": {
     "iopub.execute_input": "2022-05-04T12:17:22.472317Z",
     "iopub.status.busy": "2022-05-04T12:17:22.471706Z",
     "iopub.status.idle": "2022-05-04T12:17:22.816154Z",
     "shell.execute_reply": "2022-05-04T12:17:22.815615Z"
    },
    "papermill": {
     "duration": 0.384689,
     "end_time": "2022-05-04T12:17:22.816304",
     "exception": false,
     "start_time": "2022-05-04T12:17:22.431615",
     "status": "completed"
    },
    "tags": []
   },
   "outputs": [],
   "source": [
    "#hide\n",
    "import numpy as np\n",
    "import pandas as pd\n",
    "from jinja2 import Template\n",
    "from IPython.display import HTML"
   ]
  },
  {
   "cell_type": "code",
   "execution_count": 2,
   "id": "developed-terminology",
   "metadata": {
    "execution": {
     "iopub.execute_input": "2022-05-04T12:17:22.880545Z",
     "iopub.status.busy": "2022-05-04T12:17:22.879989Z",
     "iopub.status.idle": "2022-05-04T12:17:22.881633Z",
     "shell.execute_reply": "2022-05-04T12:17:22.882019Z"
    },
    "papermill": {
     "duration": 0.036223,
     "end_time": "2022-05-04T12:17:22.882157",
     "exception": false,
     "start_time": "2022-05-04T12:17:22.845934",
     "status": "completed"
    },
    "tags": []
   },
   "outputs": [],
   "source": [
    "#hide\n",
    "\n",
    "# FETCH\n",
    "base_url = 'https://raw.githubusercontent.com/pratapvardhan/notebooks/master/covid19/'\n",
    "paths = {\n",
    "    'mapping': base_url + 'mapping_countries.csv',\n",
    "    'overview': base_url + 'overview.tpl'\n",
    "}"
   ]
  },
  {
   "cell_type": "code",
   "execution_count": 3,
   "id": "dynamic-saver",
   "metadata": {
    "execution": {
     "iopub.execute_input": "2022-05-04T12:17:22.950784Z",
     "iopub.status.busy": "2022-05-04T12:17:22.950215Z",
     "iopub.status.idle": "2022-05-04T12:17:22.952324Z",
     "shell.execute_reply": "2022-05-04T12:17:22.952796Z"
    },
    "papermill": {
     "duration": 0.041514,
     "end_time": "2022-05-04T12:17:22.952926",
     "exception": false,
     "start_time": "2022-05-04T12:17:22.911412",
     "status": "completed"
    },
    "tags": []
   },
   "outputs": [
    {
     "data": {
      "text/plain": [
       "'https://raw.githubusercontent.com/pratapvardhan/notebooks/master/covid19/mapping_countries.csv'"
      ]
     },
     "execution_count": 3,
     "metadata": {},
     "output_type": "execute_result"
    }
   ],
   "source": [
    "#hide\n",
    "paths['mapping']"
   ]
  },
  {
   "cell_type": "code",
   "execution_count": 4,
   "id": "urban-software",
   "metadata": {
    "execution": {
     "iopub.execute_input": "2022-05-04T12:17:23.017482Z",
     "iopub.status.busy": "2022-05-04T12:17:23.016879Z",
     "iopub.status.idle": "2022-05-04T12:17:23.018332Z",
     "shell.execute_reply": "2022-05-04T12:17:23.018844Z"
    },
    "papermill": {
     "duration": 0.036403,
     "end_time": "2022-05-04T12:17:23.018988",
     "exception": false,
     "start_time": "2022-05-04T12:17:22.982585",
     "status": "completed"
    },
    "tags": []
   },
   "outputs": [],
   "source": [
    "#hide\n",
    "def get_mappings(url):\n",
    "    df = pd.read_csv(url)\n",
    "    return {\n",
    "        'df': df,\n",
    "        'replace.country': dict(df.dropna(subset=['Name']).set_index('Country')['Name']),\n",
    "        'map.continent': dict(df.set_index('Name')['Continent'])\n",
    "    }"
   ]
  },
  {
   "cell_type": "code",
   "execution_count": 5,
   "id": "intimate-machinery",
   "metadata": {
    "execution": {
     "iopub.execute_input": "2022-05-04T12:17:23.083904Z",
     "iopub.status.busy": "2022-05-04T12:17:23.083372Z",
     "iopub.status.idle": "2022-05-04T12:17:23.146176Z",
     "shell.execute_reply": "2022-05-04T12:17:23.145654Z"
    },
    "papermill": {
     "duration": 0.097656,
     "end_time": "2022-05-04T12:17:23.146314",
     "exception": false,
     "start_time": "2022-05-04T12:17:23.048658",
     "status": "completed"
    },
    "tags": []
   },
   "outputs": [],
   "source": [
    "#hide\n",
    "mapping = get_mappings(paths['mapping'])"
   ]
  },
  {
   "cell_type": "code",
   "execution_count": 6,
   "id": "certified-tactics",
   "metadata": {
    "execution": {
     "iopub.execute_input": "2022-05-04T12:17:23.212007Z",
     "iopub.status.busy": "2022-05-04T12:17:23.211401Z",
     "iopub.status.idle": "2022-05-04T12:17:23.212901Z",
     "shell.execute_reply": "2022-05-04T12:17:23.213365Z"
    },
    "papermill": {
     "duration": 0.036696,
     "end_time": "2022-05-04T12:17:23.213505",
     "exception": false,
     "start_time": "2022-05-04T12:17:23.176809",
     "status": "completed"
    },
    "tags": []
   },
   "outputs": [],
   "source": [
    "#hide\n",
    "def get_template(path):\n",
    "    from urllib.parse import urlparse\n",
    "    if bool(urlparse(path).netloc):\n",
    "        from urllib.request import urlopen\n",
    "        return urlopen(path).read().decode('utf8')\n",
    "    return open(path).read()"
   ]
  },
  {
   "cell_type": "code",
   "execution_count": 7,
   "id": "realistic-blast",
   "metadata": {
    "execution": {
     "iopub.execute_input": "2022-05-04T12:17:23.276612Z",
     "iopub.status.busy": "2022-05-04T12:17:23.276104Z",
     "iopub.status.idle": "2022-05-04T12:17:23.278455Z",
     "shell.execute_reply": "2022-05-04T12:17:23.278048Z"
    },
    "papermill": {
     "duration": 0.035757,
     "end_time": "2022-05-04T12:17:23.278563",
     "exception": false,
     "start_time": "2022-05-04T12:17:23.242806",
     "status": "completed"
    },
    "tags": []
   },
   "outputs": [],
   "source": [
    "#hide\n",
    "def get_frame(name):\n",
    "    url = (\n",
    "        'https://raw.githubusercontent.com/CSSEGISandData/COVID-19/master/csse_covid_19_data/'\n",
    "        f'csse_covid_19_time_series/time_series_covid19_{name}_global.csv')\n",
    "    df = pd.read_csv(url)\n",
    "    # rename countries\n",
    "    df['Country/Region'] = df['Country/Region'].replace(mapping['replace.country'])\n",
    "    return df"
   ]
  },
  {
   "cell_type": "code",
   "execution_count": 8,
   "id": "affiliated-characterization",
   "metadata": {
    "execution": {
     "iopub.execute_input": "2022-05-04T12:17:23.344104Z",
     "iopub.status.busy": "2022-05-04T12:17:23.343471Z",
     "iopub.status.idle": "2022-05-04T12:17:23.344936Z",
     "shell.execute_reply": "2022-05-04T12:17:23.345385Z"
    },
    "papermill": {
     "duration": 0.037204,
     "end_time": "2022-05-04T12:17:23.345513",
     "exception": false,
     "start_time": "2022-05-04T12:17:23.308309",
     "status": "completed"
    },
    "tags": []
   },
   "outputs": [],
   "source": [
    "#hide\n",
    "def get_dates(df):\n",
    "    dt_cols = df.columns[~df.columns.isin(['Province/State', 'Country/Region', 'Lat', 'Long'])]\n",
    "    LAST_DATE_I = -1\n",
    "    # sometimes last column may be empty, then go backwards\n",
    "    for i in range(-1, -len(dt_cols), -1):\n",
    "        if not df[dt_cols[i]].fillna(0).eq(0).all():\n",
    "            LAST_DATE_I = i\n",
    "            break\n",
    "    return LAST_DATE_I, dt_cols"
   ]
  },
  {
   "cell_type": "code",
   "execution_count": 9,
   "id": "recent-optimization",
   "metadata": {
    "execution": {
     "iopub.execute_input": "2022-05-04T12:17:23.409111Z",
     "iopub.status.busy": "2022-05-04T12:17:23.408567Z",
     "iopub.status.idle": "2022-05-04T12:17:24.023084Z",
     "shell.execute_reply": "2022-05-04T12:17:24.023581Z"
    },
    "papermill": {
     "duration": 0.648936,
     "end_time": "2022-05-04T12:17:24.023752",
     "exception": false,
     "start_time": "2022-05-04T12:17:23.374816",
     "status": "completed"
    },
    "tags": []
   },
   "outputs": [],
   "source": [
    "#hide\n",
    "COL_REGION = 'Country/Region'\n",
    "# Confirmed, Recovered, Deaths\n",
    "df = get_frame('confirmed')\n",
    "# dft_: timeseries, dfc_: today country agg\n",
    "dft_cases = df\n",
    "dft_deaths = get_frame('deaths')\n",
    "dft_recovered = get_frame('recovered')\n",
    "LAST_DATE_I, dt_cols = get_dates(df)"
   ]
  },
  {
   "cell_type": "code",
   "execution_count": 10,
   "id": "absolute-copper",
   "metadata": {
    "execution": {
     "iopub.execute_input": "2022-05-04T12:17:24.090081Z",
     "iopub.status.busy": "2022-05-04T12:17:24.089510Z",
     "iopub.status.idle": "2022-05-04T12:17:24.091669Z",
     "shell.execute_reply": "2022-05-04T12:17:24.091245Z"
    },
    "papermill": {
     "duration": 0.037685,
     "end_time": "2022-05-04T12:17:24.091785",
     "exception": false,
     "start_time": "2022-05-04T12:17:24.054100",
     "status": "completed"
    },
    "tags": []
   },
   "outputs": [],
   "source": [
    "#hide\n",
    "LAST_DATE_I, dt_cols = get_dates(df)\n",
    "dt_today =dt_cols[LAST_DATE_I]\n",
    "# dt_5day = dt_cols[LAST_DATE_I - 5]\n",
    "dt_yday = dt_cols[LAST_DATE_I - 1]"
   ]
  },
  {
   "cell_type": "code",
   "execution_count": 11,
   "id": "restricted-sheriff",
   "metadata": {
    "execution": {
     "iopub.execute_input": "2022-05-04T12:17:24.156978Z",
     "iopub.status.busy": "2022-05-04T12:17:24.156420Z",
     "iopub.status.idle": "2022-05-04T12:17:24.165401Z",
     "shell.execute_reply": "2022-05-04T12:17:24.164929Z"
    },
    "papermill": {
     "duration": 0.044057,
     "end_time": "2022-05-04T12:17:24.165531",
     "exception": false,
     "start_time": "2022-05-04T12:17:24.121474",
     "status": "completed"
    },
    "tags": []
   },
   "outputs": [],
   "source": [
    "#hide\n",
    "dfc_cases = dft_cases.groupby(COL_REGION)[dt_today].sum()\n",
    "dfc_deaths = dft_deaths.groupby(COL_REGION)[dt_today].sum()\n",
    "# dfp_cases = dft_cases.groupby(COL_REGION)[dt_5day].sum()\n",
    "# dfp_deaths = dft_deaths.groupby(COL_REGION)[dt_5day].sum()\n",
    "dfp_cases = dft_cases.groupby(COL_REGION)[dt_yday].sum()\n",
    "dfp_deaths = dft_deaths.groupby(COL_REGION)[dt_yday].sum()"
   ]
  },
  {
   "cell_type": "code",
   "execution_count": 12,
   "id": "deluxe-hepatitis",
   "metadata": {
    "execution": {
     "iopub.execute_input": "2022-05-04T12:17:24.232231Z",
     "iopub.status.busy": "2022-05-04T12:17:24.231642Z",
     "iopub.status.idle": "2022-05-04T12:17:24.236371Z",
     "shell.execute_reply": "2022-05-04T12:17:24.236789Z"
    },
    "papermill": {
     "duration": 0.04129,
     "end_time": "2022-05-04T12:17:24.236944",
     "exception": false,
     "start_time": "2022-05-04T12:17:24.195654",
     "status": "completed"
    },
    "tags": []
   },
   "outputs": [],
   "source": [
    "#hide\n",
    "df_table = (pd.DataFrame(dict(Cases = dfc_cases, Deaths = dfc_deaths, PCases = dfp_cases, PDeaths = dfp_deaths))\n",
    "            .sort_values(by = ['Cases','Deaths'], ascending = [False, False])\n",
    "            .reset_index())"
   ]
  },
  {
   "cell_type": "code",
   "execution_count": 13,
   "id": "educational-chancellor",
   "metadata": {
    "execution": {
     "iopub.execute_input": "2022-05-04T12:17:24.314693Z",
     "iopub.status.busy": "2022-05-04T12:17:24.314081Z",
     "iopub.status.idle": "2022-05-04T12:17:24.322136Z",
     "shell.execute_reply": "2022-05-04T12:17:24.321710Z"
    },
    "papermill": {
     "duration": 0.055716,
     "end_time": "2022-05-04T12:17:24.322256",
     "exception": false,
     "start_time": "2022-05-04T12:17:24.266540",
     "status": "completed"
    },
    "tags": []
   },
   "outputs": [
    {
     "data": {
      "text/html": [
       "<div>\n",
       "<style scoped>\n",
       "    .dataframe tbody tr th:only-of-type {\n",
       "        vertical-align: middle;\n",
       "    }\n",
       "\n",
       "    .dataframe tbody tr th {\n",
       "        vertical-align: top;\n",
       "    }\n",
       "\n",
       "    .dataframe thead th {\n",
       "        text-align: right;\n",
       "    }\n",
       "</style>\n",
       "<table border=\"1\" class=\"dataframe\">\n",
       "  <thead>\n",
       "    <tr style=\"text-align: right;\">\n",
       "      <th></th>\n",
       "      <th>Country/Region</th>\n",
       "      <th>Cases</th>\n",
       "      <th>Deaths</th>\n",
       "      <th>PCases</th>\n",
       "      <th>PDeaths</th>\n",
       "      <th>Cases (+)</th>\n",
       "      <th>Deaths (+)</th>\n",
       "      <th>Fatality Rate</th>\n",
       "      <th>Continent</th>\n",
       "    </tr>\n",
       "  </thead>\n",
       "  <tbody>\n",
       "    <tr>\n",
       "      <th>0</th>\n",
       "      <td>US</td>\n",
       "      <td>81506075</td>\n",
       "      <td>994744</td>\n",
       "      <td>81444332</td>\n",
       "      <td>993999</td>\n",
       "      <td>61743</td>\n",
       "      <td>745</td>\n",
       "      <td>1.22</td>\n",
       "      <td>North America</td>\n",
       "    </tr>\n",
       "    <tr>\n",
       "      <th>1</th>\n",
       "      <td>India</td>\n",
       "      <td>43088118</td>\n",
       "      <td>523920</td>\n",
       "      <td>43084913</td>\n",
       "      <td>523889</td>\n",
       "      <td>3205</td>\n",
       "      <td>31</td>\n",
       "      <td>1.22</td>\n",
       "      <td>Asia</td>\n",
       "    </tr>\n",
       "    <tr>\n",
       "      <th>2</th>\n",
       "      <td>Brazil</td>\n",
       "      <td>30482429</td>\n",
       "      <td>663930</td>\n",
       "      <td>30460997</td>\n",
       "      <td>663838</td>\n",
       "      <td>21432</td>\n",
       "      <td>92</td>\n",
       "      <td>2.18</td>\n",
       "      <td>South America</td>\n",
       "    </tr>\n",
       "    <tr>\n",
       "      <th>3</th>\n",
       "      <td>France</td>\n",
       "      <td>28948497</td>\n",
       "      <td>147299</td>\n",
       "      <td>28881384</td>\n",
       "      <td>147179</td>\n",
       "      <td>67113</td>\n",
       "      <td>120</td>\n",
       "      <td>0.51</td>\n",
       "      <td>Europe</td>\n",
       "    </tr>\n",
       "    <tr>\n",
       "      <th>4</th>\n",
       "      <td>Germany</td>\n",
       "      <td>25033970</td>\n",
       "      <td>135942</td>\n",
       "      <td>24927339</td>\n",
       "      <td>135701</td>\n",
       "      <td>106631</td>\n",
       "      <td>241</td>\n",
       "      <td>0.54</td>\n",
       "      <td>Europe</td>\n",
       "    </tr>\n",
       "  </tbody>\n",
       "</table>\n",
       "</div>"
      ],
      "text/plain": [
       "  Country/Region     Cases  Deaths    PCases  PDeaths  Cases (+)  Deaths (+)  \\\n",
       "0             US  81506075  994744  81444332   993999      61743         745   \n",
       "1          India  43088118  523920  43084913   523889       3205          31   \n",
       "2         Brazil  30482429  663930  30460997   663838      21432          92   \n",
       "3         France  28948497  147299  28881384   147179      67113         120   \n",
       "4        Germany  25033970  135942  24927339   135701     106631         241   \n",
       "\n",
       "   Fatality Rate      Continent  \n",
       "0           1.22  North America  \n",
       "1           1.22           Asia  \n",
       "2           2.18  South America  \n",
       "3           0.51         Europe  \n",
       "4           0.54         Europe  "
      ]
     },
     "execution_count": 13,
     "metadata": {},
     "output_type": "execute_result"
    }
   ],
   "source": [
    "#hide\n",
    "for c in 'Cases, Deaths'.split(', '):\n",
    "    df_table[f'{c} (+)'] = (df_table[c] - df_table[f'P{c}']).clip(0)\n",
    "    #Clip ça veut dire, les chiffres negatif sont interdit\n",
    "df_table['Fatality Rate'] = (100* df_table['Deaths']/ df_table['Cases']).round(2)\n",
    "df_table['Continent'] = df_table['Country/Region'].map(mapping['map.continent'])\n",
    "df_table.head(5)"
   ]
  },
  {
   "cell_type": "code",
   "execution_count": 14,
   "id": "aboriginal-bulgaria",
   "metadata": {
    "execution": {
     "iopub.execute_input": "2022-05-04T12:17:24.387918Z",
     "iopub.status.busy": "2022-05-04T12:17:24.387388Z",
     "iopub.status.idle": "2022-05-04T12:17:24.390017Z",
     "shell.execute_reply": "2022-05-04T12:17:24.390493Z"
    },
    "papermill": {
     "duration": 0.038056,
     "end_time": "2022-05-04T12:17:24.390647",
     "exception": false,
     "start_time": "2022-05-04T12:17:24.352591",
     "status": "completed"
    },
    "tags": []
   },
   "outputs": [],
   "source": [
    "#hide\n",
    "#delete problematic countries from table\n",
    "df_table = df_table[~df_table['Country/Region'].isin(['Cape Verde', 'Cruise Ship', 'Kosovo'])]"
   ]
  },
  {
   "cell_type": "code",
   "execution_count": 15,
   "id": "fantastic-effect",
   "metadata": {
    "execution": {
     "iopub.execute_input": "2022-05-04T12:17:24.458795Z",
     "iopub.status.busy": "2022-05-04T12:17:24.458242Z",
     "iopub.status.idle": "2022-05-04T12:17:24.475053Z",
     "shell.execute_reply": "2022-05-04T12:17:24.474632Z"
    },
    "papermill": {
     "duration": 0.054614,
     "end_time": "2022-05-04T12:17:24.475169",
     "exception": false,
     "start_time": "2022-05-04T12:17:24.420555",
     "status": "completed"
    },
    "tags": []
   },
   "outputs": [
    {
     "data": {
      "text/html": [
       "<div>\n",
       "<style scoped>\n",
       "    .dataframe tbody tr th:only-of-type {\n",
       "        vertical-align: middle;\n",
       "    }\n",
       "\n",
       "    .dataframe tbody tr th {\n",
       "        vertical-align: top;\n",
       "    }\n",
       "\n",
       "    .dataframe thead th {\n",
       "        text-align: right;\n",
       "    }\n",
       "</style>\n",
       "<table border=\"1\" class=\"dataframe\">\n",
       "  <thead>\n",
       "    <tr style=\"text-align: right;\">\n",
       "      <th></th>\n",
       "      <th>Country/Region</th>\n",
       "      <th>Cases</th>\n",
       "      <th>Deaths</th>\n",
       "      <th>PCases</th>\n",
       "      <th>PDeaths</th>\n",
       "      <th>Cases (+)</th>\n",
       "      <th>Deaths (+)</th>\n",
       "      <th>Fatality Rate</th>\n",
       "      <th>Continent</th>\n",
       "    </tr>\n",
       "  </thead>\n",
       "  <tbody>\n",
       "    <tr>\n",
       "      <th>0</th>\n",
       "      <td>US</td>\n",
       "      <td>81506075</td>\n",
       "      <td>994744</td>\n",
       "      <td>81444332</td>\n",
       "      <td>993999</td>\n",
       "      <td>61743</td>\n",
       "      <td>745</td>\n",
       "      <td>1.2</td>\n",
       "      <td>North America</td>\n",
       "    </tr>\n",
       "    <tr>\n",
       "      <th>1</th>\n",
       "      <td>India</td>\n",
       "      <td>43088118</td>\n",
       "      <td>523920</td>\n",
       "      <td>43084913</td>\n",
       "      <td>523889</td>\n",
       "      <td>3205</td>\n",
       "      <td>31</td>\n",
       "      <td>1.2</td>\n",
       "      <td>Asia</td>\n",
       "    </tr>\n",
       "    <tr>\n",
       "      <th>2</th>\n",
       "      <td>Brazil</td>\n",
       "      <td>30482429</td>\n",
       "      <td>663930</td>\n",
       "      <td>30460997</td>\n",
       "      <td>663838</td>\n",
       "      <td>21432</td>\n",
       "      <td>92</td>\n",
       "      <td>2.2</td>\n",
       "      <td>South America</td>\n",
       "    </tr>\n",
       "    <tr>\n",
       "      <th>3</th>\n",
       "      <td>France</td>\n",
       "      <td>28948497</td>\n",
       "      <td>147299</td>\n",
       "      <td>28881384</td>\n",
       "      <td>147179</td>\n",
       "      <td>67113</td>\n",
       "      <td>120</td>\n",
       "      <td>0.5</td>\n",
       "      <td>Europe</td>\n",
       "    </tr>\n",
       "    <tr>\n",
       "      <th>4</th>\n",
       "      <td>Germany</td>\n",
       "      <td>25033970</td>\n",
       "      <td>135942</td>\n",
       "      <td>24927339</td>\n",
       "      <td>135701</td>\n",
       "      <td>106631</td>\n",
       "      <td>241</td>\n",
       "      <td>0.5</td>\n",
       "      <td>Europe</td>\n",
       "    </tr>\n",
       "  </tbody>\n",
       "</table>\n",
       "</div>"
      ],
      "text/plain": [
       "  Country/Region     Cases  Deaths    PCases  PDeaths  Cases (+)  Deaths (+)  \\\n",
       "0             US  81506075  994744  81444332   993999      61743         745   \n",
       "1          India  43088118  523920  43084913   523889       3205          31   \n",
       "2         Brazil  30482429  663930  30460997   663838      21432          92   \n",
       "3         France  28948497  147299  28881384   147179      67113         120   \n",
       "4        Germany  25033970  135942  24927339   135701     106631         241   \n",
       "\n",
       "   Fatality Rate      Continent  \n",
       "0            1.2  North America  \n",
       "1            1.2           Asia  \n",
       "2            2.2  South America  \n",
       "3            0.5         Europe  \n",
       "4            0.5         Europe  "
      ]
     },
     "execution_count": 15,
     "metadata": {},
     "output_type": "execute_result"
    }
   ],
   "source": [
    "#hide\n",
    "df_table = (pd.DataFrame(dict(Cases=dfc_cases, Deaths=dfc_deaths, PCases=dfp_cases, PDeaths=dfp_deaths))\n",
    "             .sort_values(by=['Cases', 'Deaths'], ascending=[False, False])\n",
    "             .reset_index())\n",
    "df_table.rename(columns={'index': 'Country/Region'}, inplace=True)\n",
    "for c in 'Cases, Deaths'.split(', '):\n",
    "    df_table[f'{c} (+)'] = (df_table[c] - df_table[f'P{c}']).clip(0)  # DATA BUG\n",
    "df_table['Fatality Rate'] = (100 * df_table['Deaths'] / df_table['Cases']).round(1)\n",
    "df_table['Continent'] = df_table['Country/Region'].map(mapping['map.continent'])\n",
    "df_table.head(5)"
   ]
  },
  {
   "cell_type": "code",
   "execution_count": 16,
   "id": "fewer-occasion",
   "metadata": {
    "execution": {
     "iopub.execute_input": "2022-05-04T12:17:24.541604Z",
     "iopub.status.busy": "2022-05-04T12:17:24.541000Z",
     "iopub.status.idle": "2022-05-04T12:17:24.542646Z",
     "shell.execute_reply": "2022-05-04T12:17:24.543150Z"
    },
    "papermill": {
     "duration": 0.037701,
     "end_time": "2022-05-04T12:17:24.543287",
     "exception": false,
     "start_time": "2022-05-04T12:17:24.505586",
     "status": "completed"
    },
    "tags": []
   },
   "outputs": [],
   "source": [
    "#hide\n",
    "#delete problematic countries from table\n",
    "df_table = df_table[~df_table['Country/Region'].isin(['Cape Verde', 'Cruise Ship', 'Kosovo'])]"
   ]
  },
  {
   "cell_type": "code",
   "execution_count": 17,
   "id": "related-center",
   "metadata": {
    "execution": {
     "iopub.execute_input": "2022-05-04T12:17:24.621581Z",
     "iopub.status.busy": "2022-05-04T12:17:24.621070Z",
     "iopub.status.idle": "2022-05-04T12:17:24.623395Z",
     "shell.execute_reply": "2022-05-04T12:17:24.622963Z"
    },
    "papermill": {
     "duration": 0.049661,
     "end_time": "2022-05-04T12:17:24.623503",
     "exception": false,
     "start_time": "2022-05-04T12:17:24.573842",
     "status": "completed"
    },
    "tags": []
   },
   "outputs": [],
   "source": [
    "#hide\n",
    "metrics = [df_table.columns[index] for index in [1,2,5,6]]\n",
    "# s_china = df_table[df_table['Country/Region'].eq('China')][metrics].sum().add_prefix('China ')\n",
    "s_us = df_table[df_table['Country/Region'].eq('US')][metrics].sum().add_prefix('US ')\n",
    "s_eu = df_table[df_table['Continent'].eq('Europe')][metrics].sum().add_prefix('EU ')\n",
    "s_ind = df_table[df_table['Country/Region'].eq('India')][metrics].sum().add_prefix('India ')\n",
    "summary = {'updated': pd.to_datetime(dt_today), 'since': pd.to_datetime(dt_yday)}\n",
    "summary = {'updated': pd.to_datetime(dt_today), 'since': pd.to_datetime(dt_yday)}\n",
    "summary = {**summary, **df_table[metrics].sum(), **s_ind, **s_us, **s_eu}"
   ]
  },
  {
   "cell_type": "code",
   "execution_count": 18,
   "id": "engaging-syndrome",
   "metadata": {
    "execution": {
     "iopub.execute_input": "2022-05-04T12:17:24.688352Z",
     "iopub.status.busy": "2022-05-04T12:17:24.687863Z",
     "iopub.status.idle": "2022-05-04T12:17:24.705148Z",
     "shell.execute_reply": "2022-05-04T12:17:24.704744Z"
    },
    "papermill": {
     "duration": 0.051605,
     "end_time": "2022-05-04T12:17:24.705257",
     "exception": false,
     "start_time": "2022-05-04T12:17:24.653652",
     "status": "completed"
    },
    "tags": []
   },
   "outputs": [],
   "source": [
    "#hide\n",
    "dft_ct_new_cases = dft_cases.groupby(COL_REGION)[dt_cols].sum().diff(axis=1).fillna(0).astype(int)"
   ]
  },
  {
   "cell_type": "code",
   "execution_count": 19,
   "id": "neutral-assignment",
   "metadata": {
    "execution": {
     "iopub.execute_input": "2022-05-04T12:17:24.770287Z",
     "iopub.status.busy": "2022-05-04T12:17:24.769785Z",
     "iopub.status.idle": "2022-05-04T12:17:24.772777Z",
     "shell.execute_reply": "2022-05-04T12:17:24.772378Z"
    },
    "papermill": {
     "duration": 0.037221,
     "end_time": "2022-05-04T12:17:24.772881",
     "exception": false,
     "start_time": "2022-05-04T12:17:24.735660",
     "status": "completed"
    },
    "tags": []
   },
   "outputs": [],
   "source": [
    "#hide\n",
    "everydaycases = dft_ct_new_cases.cumsum(axis=1)"
   ]
  },
  {
   "cell_type": "code",
   "execution_count": 20,
   "id": "parliamentary-calgary",
   "metadata": {
    "execution": {
     "iopub.execute_input": "2022-05-04T12:17:24.837812Z",
     "iopub.status.busy": "2022-05-04T12:17:24.837301Z",
     "iopub.status.idle": "2022-05-04T12:17:25.375026Z",
     "shell.execute_reply": "2022-05-04T12:17:25.374457Z"
    },
    "papermill": {
     "duration": 0.571684,
     "end_time": "2022-05-04T12:17:25.375168",
     "exception": false,
     "start_time": "2022-05-04T12:17:24.803484",
     "status": "completed"
    },
    "tags": []
   },
   "outputs": [],
   "source": [
    "#hide\n",
    "import pandas as pd\n",
    "import matplotlib.pyplot as plt\n",
    "import matplotlib.ticker as ticker\n",
    "import matplotlib.animation as animation\n",
    "from IPython.display import HTML"
   ]
  },
  {
   "cell_type": "code",
   "execution_count": 21,
   "id": "lasting-extraction",
   "metadata": {
    "execution": {
     "iopub.execute_input": "2022-05-04T12:17:25.443144Z",
     "iopub.status.busy": "2022-05-04T12:17:25.442631Z",
     "iopub.status.idle": "2022-05-04T12:17:25.448933Z",
     "shell.execute_reply": "2022-05-04T12:17:25.449365Z"
    },
    "papermill": {
     "duration": 0.042811,
     "end_time": "2022-05-04T12:17:25.449487",
     "exception": false,
     "start_time": "2022-05-04T12:17:25.406676",
     "status": "completed"
    },
    "tags": []
   },
   "outputs": [],
   "source": [
    "#hide\n",
    "t = everydaycases.stack()"
   ]
  },
  {
   "cell_type": "code",
   "execution_count": 22,
   "id": "premier-sleeve",
   "metadata": {
    "execution": {
     "iopub.execute_input": "2022-05-04T12:17:25.513395Z",
     "iopub.status.busy": "2022-05-04T12:17:25.512894Z",
     "iopub.status.idle": "2022-05-04T12:17:25.523101Z",
     "shell.execute_reply": "2022-05-04T12:17:25.522689Z"
    },
    "papermill": {
     "duration": 0.04364,
     "end_time": "2022-05-04T12:17:25.523206",
     "exception": false,
     "start_time": "2022-05-04T12:17:25.479566",
     "status": "completed"
    },
    "tags": []
   },
   "outputs": [],
   "source": [
    "#hide\n",
    "g = t.reset_index(['Country/Region'])"
   ]
  },
  {
   "cell_type": "code",
   "execution_count": 23,
   "id": "distributed-pittsburgh",
   "metadata": {
    "execution": {
     "iopub.execute_input": "2022-05-04T12:17:25.586628Z",
     "iopub.status.busy": "2022-05-04T12:17:25.586023Z",
     "iopub.status.idle": "2022-05-04T12:17:25.587703Z",
     "shell.execute_reply": "2022-05-04T12:17:25.588161Z"
    },
    "papermill": {
     "duration": 0.035143,
     "end_time": "2022-05-04T12:17:25.588289",
     "exception": false,
     "start_time": "2022-05-04T12:17:25.553146",
     "status": "completed"
    },
    "tags": []
   },
   "outputs": [],
   "source": [
    "#hide\n",
    "g.index.name = 'date'"
   ]
  },
  {
   "cell_type": "code",
   "execution_count": 24,
   "id": "naked-donor",
   "metadata": {
    "execution": {
     "iopub.execute_input": "2022-05-04T12:17:25.652474Z",
     "iopub.status.busy": "2022-05-04T12:17:25.651897Z",
     "iopub.status.idle": "2022-05-04T12:17:25.654051Z",
     "shell.execute_reply": "2022-05-04T12:17:25.653540Z"
    },
    "papermill": {
     "duration": 0.034795,
     "end_time": "2022-05-04T12:17:25.654149",
     "exception": false,
     "start_time": "2022-05-04T12:17:25.619354",
     "status": "completed"
    },
    "tags": []
   },
   "outputs": [],
   "source": [
    "# #hide\n",
    "# g = g.reset_index(['date'])"
   ]
  },
  {
   "cell_type": "code",
   "execution_count": 25,
   "id": "incomplete-mustang",
   "metadata": {
    "execution": {
     "iopub.execute_input": "2022-05-04T12:17:25.717341Z",
     "iopub.status.busy": "2022-05-04T12:17:25.716766Z",
     "iopub.status.idle": "2022-05-04T12:17:25.720065Z",
     "shell.execute_reply": "2022-05-04T12:17:25.720496Z"
    },
    "papermill": {
     "duration": 0.0365,
     "end_time": "2022-05-04T12:17:25.720627",
     "exception": false,
     "start_time": "2022-05-04T12:17:25.684127",
     "status": "completed"
    },
    "tags": []
   },
   "outputs": [],
   "source": [
    "#hide\n",
    "# g.head()"
   ]
  },
  {
   "cell_type": "code",
   "execution_count": 26,
   "id": "specific-kruger",
   "metadata": {
    "execution": {
     "iopub.execute_input": "2022-05-04T12:17:25.784842Z",
     "iopub.status.busy": "2022-05-04T12:17:25.783808Z",
     "iopub.status.idle": "2022-05-04T12:17:25.786213Z",
     "shell.execute_reply": "2022-05-04T12:17:25.785636Z"
    },
    "papermill": {
     "duration": 0.035033,
     "end_time": "2022-05-04T12:17:25.786312",
     "exception": false,
     "start_time": "2022-05-04T12:17:25.751279",
     "status": "completed"
    },
    "tags": []
   },
   "outputs": [],
   "source": [
    "#hide\n",
    "# g.columns = ['date','country','cases']"
   ]
  },
  {
   "cell_type": "code",
   "execution_count": 27,
   "id": "tender-conversion",
   "metadata": {
    "execution": {
     "iopub.execute_input": "2022-05-04T12:17:25.849386Z",
     "iopub.status.busy": "2022-05-04T12:17:25.848807Z",
     "iopub.status.idle": "2022-05-04T12:17:25.850991Z",
     "shell.execute_reply": "2022-05-04T12:17:25.850501Z"
    },
    "papermill": {
     "duration": 0.03486,
     "end_time": "2022-05-04T12:17:25.851108",
     "exception": false,
     "start_time": "2022-05-04T12:17:25.816248",
     "status": "completed"
    },
    "tags": []
   },
   "outputs": [],
   "source": [
    "#hide\n",
    "# g['continent'] = g.country"
   ]
  },
  {
   "cell_type": "code",
   "execution_count": 28,
   "id": "substantial-wilderness",
   "metadata": {
    "execution": {
     "iopub.execute_input": "2022-05-04T12:17:25.915664Z",
     "iopub.status.busy": "2022-05-04T12:17:25.915090Z",
     "iopub.status.idle": "2022-05-04T12:17:25.916764Z",
     "shell.execute_reply": "2022-05-04T12:17:25.917192Z"
    },
    "papermill": {
     "duration": 0.035229,
     "end_time": "2022-05-04T12:17:25.917326",
     "exception": false,
     "start_time": "2022-05-04T12:17:25.882097",
     "status": "completed"
    },
    "tags": []
   },
   "outputs": [],
   "source": [
    "#hide\n",
    "# cols = list(g.columns.values)"
   ]
  },
  {
   "cell_type": "code",
   "execution_count": 29,
   "id": "solved-farming",
   "metadata": {
    "execution": {
     "iopub.execute_input": "2022-05-04T12:17:25.980503Z",
     "iopub.status.busy": "2022-05-04T12:17:25.979982Z",
     "iopub.status.idle": "2022-05-04T12:17:25.982148Z",
     "shell.execute_reply": "2022-05-04T12:17:25.981734Z"
    },
    "papermill": {
     "duration": 0.035017,
     "end_time": "2022-05-04T12:17:25.982253",
     "exception": false,
     "start_time": "2022-05-04T12:17:25.947236",
     "status": "completed"
    },
    "tags": []
   },
   "outputs": [],
   "source": [
    "#hide\n",
    "# cols.insert(0, cols.pop())"
   ]
  },
  {
   "cell_type": "code",
   "execution_count": 30,
   "id": "executed-adoption",
   "metadata": {
    "execution": {
     "iopub.execute_input": "2022-05-04T12:17:26.046246Z",
     "iopub.status.busy": "2022-05-04T12:17:26.045662Z",
     "iopub.status.idle": "2022-05-04T12:17:26.047357Z",
     "shell.execute_reply": "2022-05-04T12:17:26.047787Z"
    },
    "papermill": {
     "duration": 0.03525,
     "end_time": "2022-05-04T12:17:26.047922",
     "exception": false,
     "start_time": "2022-05-04T12:17:26.012672",
     "status": "completed"
    },
    "tags": []
   },
   "outputs": [],
   "source": [
    "#hide\n",
    "# g = g[cols]"
   ]
  },
  {
   "cell_type": "code",
   "execution_count": 31,
   "id": "subject-dublin",
   "metadata": {
    "execution": {
     "iopub.execute_input": "2022-05-04T12:17:26.111201Z",
     "iopub.status.busy": "2022-05-04T12:17:26.110642Z",
     "iopub.status.idle": "2022-05-04T12:17:26.112529Z",
     "shell.execute_reply": "2022-05-04T12:17:26.112040Z"
    },
    "papermill": {
     "duration": 0.034554,
     "end_time": "2022-05-04T12:17:26.112627",
     "exception": false,
     "start_time": "2022-05-04T12:17:26.078073",
     "status": "completed"
    },
    "tags": []
   },
   "outputs": [],
   "source": [
    "#hide\n",
    "# g['continent'] = g['continent'].map(mapping['map.continent'])"
   ]
  },
  {
   "cell_type": "code",
   "execution_count": 32,
   "id": "freelance-scout",
   "metadata": {
    "execution": {
     "iopub.execute_input": "2022-05-04T12:17:26.176239Z",
     "iopub.status.busy": "2022-05-04T12:17:26.175673Z",
     "iopub.status.idle": "2022-05-04T12:17:26.177774Z",
     "shell.execute_reply": "2022-05-04T12:17:26.177320Z"
    },
    "papermill": {
     "duration": 0.035113,
     "end_time": "2022-05-04T12:17:26.177887",
     "exception": false,
     "start_time": "2022-05-04T12:17:26.142774",
     "status": "completed"
    },
    "tags": []
   },
   "outputs": [],
   "source": [
    "#hide\n",
    "# g.head()"
   ]
  },
  {
   "cell_type": "code",
   "execution_count": 33,
   "id": "limited-engine",
   "metadata": {
    "execution": {
     "iopub.execute_input": "2022-05-04T12:17:26.241202Z",
     "iopub.status.busy": "2022-05-04T12:17:26.240631Z",
     "iopub.status.idle": "2022-05-04T12:17:26.244041Z",
     "shell.execute_reply": "2022-05-04T12:17:26.244421Z"
    },
    "papermill": {
     "duration": 0.036306,
     "end_time": "2022-05-04T12:17:26.244537",
     "exception": false,
     "start_time": "2022-05-04T12:17:26.208231",
     "status": "completed"
    },
    "tags": []
   },
   "outputs": [],
   "source": [
    "# hide\n",
    "# g['date'] = g['date'].astype('datetime64[ns]')"
   ]
  },
  {
   "cell_type": "code",
   "execution_count": 34,
   "id": "sophisticated-supervisor",
   "metadata": {
    "execution": {
     "iopub.execute_input": "2022-05-04T12:17:26.308442Z",
     "iopub.status.busy": "2022-05-04T12:17:26.307875Z",
     "iopub.status.idle": "2022-05-04T12:17:26.309489Z",
     "shell.execute_reply": "2022-05-04T12:17:26.309916Z"
    },
    "papermill": {
     "duration": 0.035398,
     "end_time": "2022-05-04T12:17:26.310041",
     "exception": false,
     "start_time": "2022-05-04T12:17:26.274643",
     "status": "completed"
    },
    "tags": []
   },
   "outputs": [],
   "source": [
    "#hide\n",
    "# g['date'] = g.date.dt.dayofyear"
   ]
  },
  {
   "cell_type": "code",
   "execution_count": 35,
   "id": "inside-dubai",
   "metadata": {
    "execution": {
     "iopub.execute_input": "2022-05-04T12:17:26.373339Z",
     "iopub.status.busy": "2022-05-04T12:17:26.372768Z",
     "iopub.status.idle": "2022-05-04T12:17:26.374435Z",
     "shell.execute_reply": "2022-05-04T12:17:26.374894Z"
    },
    "papermill": {
     "duration": 0.034685,
     "end_time": "2022-05-04T12:17:26.375011",
     "exception": false,
     "start_time": "2022-05-04T12:17:26.340326",
     "status": "completed"
    },
    "tags": []
   },
   "outputs": [],
   "source": [
    "#hide\n",
    "# g = g.rename(columns= {'continent':'group','country':'name','cases':'value'})"
   ]
  },
  {
   "cell_type": "code",
   "execution_count": 36,
   "id": "fleet-motorcycle",
   "metadata": {
    "execution": {
     "iopub.execute_input": "2022-05-04T12:17:26.438139Z",
     "iopub.status.busy": "2022-05-04T12:17:26.437558Z",
     "iopub.status.idle": "2022-05-04T12:17:26.439693Z",
     "shell.execute_reply": "2022-05-04T12:17:26.439238Z"
    },
    "papermill": {
     "duration": 0.03487,
     "end_time": "2022-05-04T12:17:26.439805",
     "exception": false,
     "start_time": "2022-05-04T12:17:26.404935",
     "status": "completed"
    },
    "tags": []
   },
   "outputs": [],
   "source": [
    "#hide\n",
    "# cols = ['name','group','day','value']"
   ]
  },
  {
   "cell_type": "code",
   "execution_count": 37,
   "id": "continued-sleeping",
   "metadata": {
    "execution": {
     "iopub.execute_input": "2022-05-04T12:17:26.503916Z",
     "iopub.status.busy": "2022-05-04T12:17:26.503305Z",
     "iopub.status.idle": "2022-05-04T12:17:26.506773Z",
     "shell.execute_reply": "2022-05-04T12:17:26.507157Z"
    },
    "papermill": {
     "duration": 0.036534,
     "end_time": "2022-05-04T12:17:26.507270",
     "exception": false,
     "start_time": "2022-05-04T12:17:26.470736",
     "status": "completed"
    },
    "tags": []
   },
   "outputs": [],
   "source": [
    "#hide\n",
    "# g.rename(columns= {'date':'day'},inplace = True)"
   ]
  },
  {
   "cell_type": "code",
   "execution_count": 38,
   "id": "major-fight",
   "metadata": {
    "execution": {
     "iopub.execute_input": "2022-05-04T12:17:26.570300Z",
     "iopub.status.busy": "2022-05-04T12:17:26.569725Z",
     "iopub.status.idle": "2022-05-04T12:17:26.571841Z",
     "shell.execute_reply": "2022-05-04T12:17:26.571389Z"
    },
    "papermill": {
     "duration": 0.034712,
     "end_time": "2022-05-04T12:17:26.571953",
     "exception": false,
     "start_time": "2022-05-04T12:17:26.537241",
     "status": "completed"
    },
    "tags": []
   },
   "outputs": [],
   "source": [
    "#hide\n",
    "# g = g[cols]"
   ]
  },
  {
   "cell_type": "code",
   "execution_count": 39,
   "id": "structured-mobile",
   "metadata": {
    "execution": {
     "iopub.execute_input": "2022-05-04T12:17:26.636078Z",
     "iopub.status.busy": "2022-05-04T12:17:26.635499Z",
     "iopub.status.idle": "2022-05-04T12:17:26.637565Z",
     "shell.execute_reply": "2022-05-04T12:17:26.637087Z"
    },
    "papermill": {
     "duration": 0.035009,
     "end_time": "2022-05-04T12:17:26.637673",
     "exception": false,
     "start_time": "2022-05-04T12:17:26.602664",
     "status": "completed"
    },
    "tags": []
   },
   "outputs": [],
   "source": [
    "# #hide\n",
    "# g = g[g.group.notna()]"
   ]
  },
  {
   "cell_type": "code",
   "execution_count": 40,
   "id": "determined-closing",
   "metadata": {
    "execution": {
     "iopub.execute_input": "2022-05-04T12:17:26.701038Z",
     "iopub.status.busy": "2022-05-04T12:17:26.700530Z",
     "iopub.status.idle": "2022-05-04T12:17:26.702699Z",
     "shell.execute_reply": "2022-05-04T12:17:26.702272Z"
    },
    "papermill": {
     "duration": 0.03468,
     "end_time": "2022-05-04T12:17:26.702802",
     "exception": false,
     "start_time": "2022-05-04T12:17:26.668122",
     "status": "completed"
    },
    "tags": []
   },
   "outputs": [],
   "source": [
    "# #hide\n",
    "# colors = dict(zip(\n",
    "#     [\"Oceania\", \"Europe\", \"Asia\", \"South America\", \"Middle East\", \"North America\", \"Africa\"],\n",
    "#     [\"#adb0ff\", \"#ffb3ff\", \"#90d595\", \"#e48381\", \"#aafbff\", \"#f7bb5f\", \"#eafb50\"]\n",
    "# ))\n",
    "# group_lk = g.set_index('name')['group'].to_dict()"
   ]
  },
  {
   "cell_type": "code",
   "execution_count": null,
   "id": "gross-drinking",
   "metadata": {
    "papermill": {
     "duration": 0.029691,
     "end_time": "2022-05-04T12:17:26.762398",
     "exception": false,
     "start_time": "2022-05-04T12:17:26.732707",
     "status": "completed"
    },
    "tags": []
   },
   "outputs": [],
   "source": []
  },
  {
   "cell_type": "code",
   "execution_count": 41,
   "id": "subject-macintosh",
   "metadata": {
    "execution": {
     "iopub.execute_input": "2022-05-04T12:17:26.826765Z",
     "iopub.status.busy": "2022-05-04T12:17:26.826132Z",
     "iopub.status.idle": "2022-05-04T12:17:26.828258Z",
     "shell.execute_reply": "2022-05-04T12:17:26.827775Z"
    },
    "papermill": {
     "duration": 0.035565,
     "end_time": "2022-05-04T12:17:26.828368",
     "exception": false,
     "start_time": "2022-05-04T12:17:26.792803",
     "status": "completed"
    },
    "tags": []
   },
   "outputs": [],
   "source": [
    "# #hide\n",
    "# fig, ax = plt.subplots(figsize=(15, 8))\n",
    "\n",
    "# def draw_barchart(current_day):\n",
    "#     dff = g[g['day'].eq(current_day)].sort_values(by='value', ascending=True).tail(10)\n",
    "#     ax.clear()\n",
    "#     ax.barh(dff['name'], dff['value'], color=[colors[group_lk[x]] for x in dff['name']])\n",
    "#     dx = dff['value'].max() / 200\n",
    "    \n",
    "#     for i, (value, name) in enumerate(zip(dff['value'], dff['name'])):\n",
    "#         ax.text(value-dx, i,     name,           size=14, weight=600, ha='right', va='bottom')\n",
    "#         ax.text(value-dx, i-.25, group_lk[name], size=10, color='#444444', ha='right', va='baseline')\n",
    "#         ax.text(value+dx, i,     f'{value:,.0f}',  size=14, ha='left',  va='center')\n",
    "#     ax.text(1, 0.4, current_day, transform=ax.transAxes, color='#777777', size=46, ha='right', weight=800)\n",
    "#     ax.text(0, 1.06, 'Population (thousands)', transform=ax.transAxes, size=12, color='#777777')\n",
    "#     ax.xaxis.set_major_formatter(ticker.StrMethodFormatter('{x:,.0f}'))\n",
    "#     ax.xaxis.set_ticks_position('top')\n",
    "#     ax.tick_params(axis='x', colors='#777777', labelsize=12)\n",
    "#     ax.set_yticks([])\n",
    "#     ax.margins(0, 0.01)\n",
    "#     ax.grid(which='major', axis='x', linestyle='-')\n",
    "#     ax.set_axisbelow(True)\n",
    "    \n",
    "#     ax.text(0, 1.15, 'Coronavirus',\n",
    "#             transform=ax.transAxes, size=24, weight=600, ha='left', va='top')\n",
    "# #     ax.text(1, 0, 'by @pratapvardhan; credit @jburnmurdoch', transform=ax.transAxes, color='#777777', ha='right',\n",
    "# #             bbox=dict(facecolor='white', alpha=0.8, edgecolor='white'))\n",
    "#     plt.box(False)"
   ]
  },
  {
   "cell_type": "code",
   "execution_count": 42,
   "id": "sexual-wages",
   "metadata": {
    "execution": {
     "iopub.execute_input": "2022-05-04T12:17:26.891669Z",
     "iopub.status.busy": "2022-05-04T12:17:26.891096Z",
     "iopub.status.idle": "2022-05-04T12:17:26.892742Z",
     "shell.execute_reply": "2022-05-04T12:17:26.893115Z"
    },
    "papermill": {
     "duration": 0.034537,
     "end_time": "2022-05-04T12:17:26.893228",
     "exception": false,
     "start_time": "2022-05-04T12:17:26.858691",
     "status": "completed"
    },
    "tags": []
   },
   "outputs": [],
   "source": [
    "# #hide_input\n",
    "# fig, ax = plt.subplots(figsize=(15, 8))\n",
    "# animator = animation.FuncAnimation(fig, draw_barchart, frames=range(g.day.values.min(), g.day.values.max()))\n",
    "# HTML(animator.to_jshtml())\n",
    "# # or use animator.to_html5_video() or animator.save() "
   ]
  },
  {
   "cell_type": "code",
   "execution_count": null,
   "id": "australian-container",
   "metadata": {
    "papermill": {
     "duration": 0.029794,
     "end_time": "2022-05-04T12:17:26.952914",
     "exception": false,
     "start_time": "2022-05-04T12:17:26.923120",
     "status": "completed"
    },
    "tags": []
   },
   "outputs": [],
   "source": []
  },
  {
   "cell_type": "code",
   "execution_count": null,
   "id": "mediterranean-pontiac",
   "metadata": {
    "papermill": {
     "duration": 0.029788,
     "end_time": "2022-05-04T12:17:27.012715",
     "exception": false,
     "start_time": "2022-05-04T12:17:26.982927",
     "status": "completed"
    },
    "tags": []
   },
   "outputs": [],
   "source": []
  },
  {
   "cell_type": "code",
   "execution_count": null,
   "id": "aging-legislature",
   "metadata": {
    "papermill": {
     "duration": 0.029671,
     "end_time": "2022-05-04T12:17:27.072342",
     "exception": false,
     "start_time": "2022-05-04T12:17:27.042671",
     "status": "completed"
    },
    "tags": []
   },
   "outputs": [],
   "source": []
  }
 ],
 "metadata": {
  "kernelspec": {
   "display_name": "Python 3",
   "language": "python",
   "name": "python3"
  },
  "language_info": {
   "codemirror_mode": {
    "name": "ipython",
    "version": 3
   },
   "file_extension": ".py",
   "mimetype": "text/x-python",
   "name": "python",
   "nbconvert_exporter": "python",
   "pygments_lexer": "ipython3",
   "version": "3.6.15"
  },
  "papermill": {
   "duration": 6.096743,
   "end_time": "2022-05-04T12:17:27.420555",
   "environment_variables": {},
   "exception": null,
   "input_path": "2020-03-21-covid19exp.ipynb",
   "output_path": "2020-03-21-covid19exp.ipynb",
   "parameters": {},
   "start_time": "2022-05-04T12:17:21.323812",
   "version": "2.0.0"
  }
 },
 "nbformat": 4,
 "nbformat_minor": 5
}