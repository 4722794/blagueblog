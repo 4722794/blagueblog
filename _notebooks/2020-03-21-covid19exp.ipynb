{
 "cells": [
  {
   "cell_type": "markdown",
   "id": "muslim-click",
   "metadata": {
    "papermill": {
     "duration": 0.033625,
     "end_time": "2022-04-15T00:35:19.321326",
     "exception": false,
     "start_time": "2022-04-15T00:35:19.287701",
     "status": "completed"
    },
    "tags": []
   },
   "source": [
    "# COVID-19 Case Race\n",
    "> A race chart to see rising cases around the world\n",
    "\n",
    "- author: Hargun Oberoi\n",
    "- image: images/covid-overview.png\n",
    "- hide: false\n",
    "- badges: false"
   ]
  },
  {
   "cell_type": "code",
   "execution_count": 1,
   "id": "proof-material",
   "metadata": {
    "execution": {
     "iopub.execute_input": "2022-04-15T00:35:19.391383Z",
     "iopub.status.busy": "2022-04-15T00:35:19.390835Z",
     "iopub.status.idle": "2022-04-15T00:35:19.710736Z",
     "shell.execute_reply": "2022-04-15T00:35:19.711166Z"
    },
    "papermill": {
     "duration": 0.359171,
     "end_time": "2022-04-15T00:35:19.711336",
     "exception": false,
     "start_time": "2022-04-15T00:35:19.352165",
     "status": "completed"
    },
    "tags": []
   },
   "outputs": [],
   "source": [
    "#hide\n",
    "import numpy as np\n",
    "import pandas as pd\n",
    "from jinja2 import Template\n",
    "from IPython.display import HTML"
   ]
  },
  {
   "cell_type": "code",
   "execution_count": 2,
   "id": "developed-terminology",
   "metadata": {
    "execution": {
     "iopub.execute_input": "2022-04-15T00:35:19.775342Z",
     "iopub.status.busy": "2022-04-15T00:35:19.774747Z",
     "iopub.status.idle": "2022-04-15T00:35:19.776890Z",
     "shell.execute_reply": "2022-04-15T00:35:19.776400Z"
    },
    "papermill": {
     "duration": 0.036352,
     "end_time": "2022-04-15T00:35:19.777013",
     "exception": false,
     "start_time": "2022-04-15T00:35:19.740661",
     "status": "completed"
    },
    "tags": []
   },
   "outputs": [],
   "source": [
    "#hide\n",
    "\n",
    "# FETCH\n",
    "base_url = 'https://raw.githubusercontent.com/pratapvardhan/notebooks/master/covid19/'\n",
    "paths = {\n",
    "    'mapping': base_url + 'mapping_countries.csv',\n",
    "    'overview': base_url + 'overview.tpl'\n",
    "}"
   ]
  },
  {
   "cell_type": "code",
   "execution_count": 3,
   "id": "dynamic-saver",
   "metadata": {
    "execution": {
     "iopub.execute_input": "2022-04-15T00:35:19.844746Z",
     "iopub.status.busy": "2022-04-15T00:35:19.842821Z",
     "iopub.status.idle": "2022-04-15T00:35:19.847572Z",
     "shell.execute_reply": "2022-04-15T00:35:19.847145Z"
    },
    "papermill": {
     "duration": 0.041087,
     "end_time": "2022-04-15T00:35:19.847696",
     "exception": false,
     "start_time": "2022-04-15T00:35:19.806609",
     "status": "completed"
    },
    "tags": []
   },
   "outputs": [
    {
     "data": {
      "text/plain": [
       "'https://raw.githubusercontent.com/pratapvardhan/notebooks/master/covid19/mapping_countries.csv'"
      ]
     },
     "execution_count": 3,
     "metadata": {},
     "output_type": "execute_result"
    }
   ],
   "source": [
    "#hide\n",
    "paths['mapping']"
   ]
  },
  {
   "cell_type": "code",
   "execution_count": 4,
   "id": "urban-software",
   "metadata": {
    "execution": {
     "iopub.execute_input": "2022-04-15T00:35:19.911405Z",
     "iopub.status.busy": "2022-04-15T00:35:19.910819Z",
     "iopub.status.idle": "2022-04-15T00:35:19.913079Z",
     "shell.execute_reply": "2022-04-15T00:35:19.912638Z"
    },
    "papermill": {
     "duration": 0.036118,
     "end_time": "2022-04-15T00:35:19.913182",
     "exception": false,
     "start_time": "2022-04-15T00:35:19.877064",
     "status": "completed"
    },
    "tags": []
   },
   "outputs": [],
   "source": [
    "#hide\n",
    "def get_mappings(url):\n",
    "    df = pd.read_csv(url)\n",
    "    return {\n",
    "        'df': df,\n",
    "        'replace.country': dict(df.dropna(subset=['Name']).set_index('Country')['Name']),\n",
    "        'map.continent': dict(df.set_index('Name')['Continent'])\n",
    "    }"
   ]
  },
  {
   "cell_type": "code",
   "execution_count": 5,
   "id": "intimate-machinery",
   "metadata": {
    "execution": {
     "iopub.execute_input": "2022-04-15T00:35:19.977679Z",
     "iopub.status.busy": "2022-04-15T00:35:19.977166Z",
     "iopub.status.idle": "2022-04-15T00:35:20.038476Z",
     "shell.execute_reply": "2022-04-15T00:35:20.037964Z"
    },
    "papermill": {
     "duration": 0.095854,
     "end_time": "2022-04-15T00:35:20.038611",
     "exception": false,
     "start_time": "2022-04-15T00:35:19.942757",
     "status": "completed"
    },
    "tags": []
   },
   "outputs": [],
   "source": [
    "#hide\n",
    "mapping = get_mappings(paths['mapping'])"
   ]
  },
  {
   "cell_type": "code",
   "execution_count": 6,
   "id": "certified-tactics",
   "metadata": {
    "execution": {
     "iopub.execute_input": "2022-04-15T00:35:20.104623Z",
     "iopub.status.busy": "2022-04-15T00:35:20.103978Z",
     "iopub.status.idle": "2022-04-15T00:35:20.105422Z",
     "shell.execute_reply": "2022-04-15T00:35:20.105913Z"
    },
    "papermill": {
     "duration": 0.036699,
     "end_time": "2022-04-15T00:35:20.106058",
     "exception": false,
     "start_time": "2022-04-15T00:35:20.069359",
     "status": "completed"
    },
    "tags": []
   },
   "outputs": [],
   "source": [
    "#hide\n",
    "def get_template(path):\n",
    "    from urllib.parse import urlparse\n",
    "    if bool(urlparse(path).netloc):\n",
    "        from urllib.request import urlopen\n",
    "        return urlopen(path).read().decode('utf8')\n",
    "    return open(path).read()"
   ]
  },
  {
   "cell_type": "code",
   "execution_count": 7,
   "id": "realistic-blast",
   "metadata": {
    "execution": {
     "iopub.execute_input": "2022-04-15T00:35:20.168740Z",
     "iopub.status.busy": "2022-04-15T00:35:20.168186Z",
     "iopub.status.idle": "2022-04-15T00:35:20.172325Z",
     "shell.execute_reply": "2022-04-15T00:35:20.171911Z"
    },
    "papermill": {
     "duration": 0.036777,
     "end_time": "2022-04-15T00:35:20.172437",
     "exception": false,
     "start_time": "2022-04-15T00:35:20.135660",
     "status": "completed"
    },
    "tags": []
   },
   "outputs": [],
   "source": [
    "#hide\n",
    "def get_frame(name):\n",
    "    url = (\n",
    "        'https://raw.githubusercontent.com/CSSEGISandData/COVID-19/master/csse_covid_19_data/'\n",
    "        f'csse_covid_19_time_series/time_series_covid19_{name}_global.csv')\n",
    "    df = pd.read_csv(url)\n",
    "    # rename countries\n",
    "    df['Country/Region'] = df['Country/Region'].replace(mapping['replace.country'])\n",
    "    return df"
   ]
  },
  {
   "cell_type": "code",
   "execution_count": 8,
   "id": "affiliated-characterization",
   "metadata": {
    "execution": {
     "iopub.execute_input": "2022-04-15T00:35:20.236766Z",
     "iopub.status.busy": "2022-04-15T00:35:20.236201Z",
     "iopub.status.idle": "2022-04-15T00:35:20.238739Z",
     "shell.execute_reply": "2022-04-15T00:35:20.238335Z"
    },
    "papermill": {
     "duration": 0.036978,
     "end_time": "2022-04-15T00:35:20.238846",
     "exception": false,
     "start_time": "2022-04-15T00:35:20.201868",
     "status": "completed"
    },
    "tags": []
   },
   "outputs": [],
   "source": [
    "#hide\n",
    "def get_dates(df):\n",
    "    dt_cols = df.columns[~df.columns.isin(['Province/State', 'Country/Region', 'Lat', 'Long'])]\n",
    "    LAST_DATE_I = -1\n",
    "    # sometimes last column may be empty, then go backwards\n",
    "    for i in range(-1, -len(dt_cols), -1):\n",
    "        if not df[dt_cols[i]].fillna(0).eq(0).all():\n",
    "            LAST_DATE_I = i\n",
    "            break\n",
    "    return LAST_DATE_I, dt_cols"
   ]
  },
  {
   "cell_type": "code",
   "execution_count": 9,
   "id": "recent-optimization",
   "metadata": {
    "execution": {
     "iopub.execute_input": "2022-04-15T00:35:20.302303Z",
     "iopub.status.busy": "2022-04-15T00:35:20.301793Z",
     "iopub.status.idle": "2022-04-15T00:35:20.905975Z",
     "shell.execute_reply": "2022-04-15T00:35:20.905458Z"
    },
    "papermill": {
     "duration": 0.637971,
     "end_time": "2022-04-15T00:35:20.906112",
     "exception": false,
     "start_time": "2022-04-15T00:35:20.268141",
     "status": "completed"
    },
    "tags": []
   },
   "outputs": [],
   "source": [
    "#hide\n",
    "COL_REGION = 'Country/Region'\n",
    "# Confirmed, Recovered, Deaths\n",
    "df = get_frame('confirmed')\n",
    "# dft_: timeseries, dfc_: today country agg\n",
    "dft_cases = df\n",
    "dft_deaths = get_frame('deaths')\n",
    "dft_recovered = get_frame('recovered')\n",
    "LAST_DATE_I, dt_cols = get_dates(df)"
   ]
  },
  {
   "cell_type": "code",
   "execution_count": 10,
   "id": "absolute-copper",
   "metadata": {
    "execution": {
     "iopub.execute_input": "2022-04-15T00:35:20.970774Z",
     "iopub.status.busy": "2022-04-15T00:35:20.970260Z",
     "iopub.status.idle": "2022-04-15T00:35:20.972736Z",
     "shell.execute_reply": "2022-04-15T00:35:20.972304Z"
    },
    "papermill": {
     "duration": 0.036608,
     "end_time": "2022-04-15T00:35:20.972849",
     "exception": false,
     "start_time": "2022-04-15T00:35:20.936241",
     "status": "completed"
    },
    "tags": []
   },
   "outputs": [],
   "source": [
    "#hide\n",
    "LAST_DATE_I, dt_cols = get_dates(df)\n",
    "dt_today =dt_cols[LAST_DATE_I]\n",
    "# dt_5day = dt_cols[LAST_DATE_I - 5]\n",
    "dt_yday = dt_cols[LAST_DATE_I - 1]"
   ]
  },
  {
   "cell_type": "code",
   "execution_count": 11,
   "id": "restricted-sheriff",
   "metadata": {
    "execution": {
     "iopub.execute_input": "2022-04-15T00:35:21.037010Z",
     "iopub.status.busy": "2022-04-15T00:35:21.036472Z",
     "iopub.status.idle": "2022-04-15T00:35:21.043915Z",
     "shell.execute_reply": "2022-04-15T00:35:21.043510Z"
    },
    "papermill": {
     "duration": 0.042014,
     "end_time": "2022-04-15T00:35:21.044022",
     "exception": false,
     "start_time": "2022-04-15T00:35:21.002008",
     "status": "completed"
    },
    "tags": []
   },
   "outputs": [],
   "source": [
    "#hide\n",
    "dfc_cases = dft_cases.groupby(COL_REGION)[dt_today].sum()\n",
    "dfc_deaths = dft_deaths.groupby(COL_REGION)[dt_today].sum()\n",
    "# dfp_cases = dft_cases.groupby(COL_REGION)[dt_5day].sum()\n",
    "# dfp_deaths = dft_deaths.groupby(COL_REGION)[dt_5day].sum()\n",
    "dfp_cases = dft_cases.groupby(COL_REGION)[dt_yday].sum()\n",
    "dfp_deaths = dft_deaths.groupby(COL_REGION)[dt_yday].sum()"
   ]
  },
  {
   "cell_type": "code",
   "execution_count": 12,
   "id": "deluxe-hepatitis",
   "metadata": {
    "execution": {
     "iopub.execute_input": "2022-04-15T00:35:21.109454Z",
     "iopub.status.busy": "2022-04-15T00:35:21.108910Z",
     "iopub.status.idle": "2022-04-15T00:35:21.113620Z",
     "shell.execute_reply": "2022-04-15T00:35:21.113184Z"
    },
    "papermill": {
     "duration": 0.040219,
     "end_time": "2022-04-15T00:35:21.113727",
     "exception": false,
     "start_time": "2022-04-15T00:35:21.073508",
     "status": "completed"
    },
    "tags": []
   },
   "outputs": [],
   "source": [
    "#hide\n",
    "df_table = (pd.DataFrame(dict(Cases = dfc_cases, Deaths = dfc_deaths, PCases = dfp_cases, PDeaths = dfp_deaths))\n",
    "            .sort_values(by = ['Cases','Deaths'], ascending = [False, False])\n",
    "            .reset_index())"
   ]
  },
  {
   "cell_type": "code",
   "execution_count": 13,
   "id": "educational-chancellor",
   "metadata": {
    "execution": {
     "iopub.execute_input": "2022-04-15T00:35:21.190286Z",
     "iopub.status.busy": "2022-04-15T00:35:21.189741Z",
     "iopub.status.idle": "2022-04-15T00:35:21.198623Z",
     "shell.execute_reply": "2022-04-15T00:35:21.198200Z"
    },
    "papermill": {
     "duration": 0.055605,
     "end_time": "2022-04-15T00:35:21.198740",
     "exception": false,
     "start_time": "2022-04-15T00:35:21.143135",
     "status": "completed"
    },
    "tags": []
   },
   "outputs": [
    {
     "data": {
      "text/html": [
       "<div>\n",
       "<style scoped>\n",
       "    .dataframe tbody tr th:only-of-type {\n",
       "        vertical-align: middle;\n",
       "    }\n",
       "\n",
       "    .dataframe tbody tr th {\n",
       "        vertical-align: top;\n",
       "    }\n",
       "\n",
       "    .dataframe thead th {\n",
       "        text-align: right;\n",
       "    }\n",
       "</style>\n",
       "<table border=\"1\" class=\"dataframe\">\n",
       "  <thead>\n",
       "    <tr style=\"text-align: right;\">\n",
       "      <th></th>\n",
       "      <th>Country/Region</th>\n",
       "      <th>Cases</th>\n",
       "      <th>Deaths</th>\n",
       "      <th>PCases</th>\n",
       "      <th>PDeaths</th>\n",
       "      <th>Cases (+)</th>\n",
       "      <th>Deaths (+)</th>\n",
       "      <th>Fatality Rate</th>\n",
       "      <th>Continent</th>\n",
       "    </tr>\n",
       "  </thead>\n",
       "  <tbody>\n",
       "    <tr>\n",
       "      <th>0</th>\n",
       "      <td>US</td>\n",
       "      <td>80518989</td>\n",
       "      <td>987343</td>\n",
       "      <td>80477797</td>\n",
       "      <td>986387</td>\n",
       "      <td>41192</td>\n",
       "      <td>956</td>\n",
       "      <td>1.23</td>\n",
       "      <td>North America</td>\n",
       "    </tr>\n",
       "    <tr>\n",
       "      <th>1</th>\n",
       "      <td>India</td>\n",
       "      <td>43039023</td>\n",
       "      <td>521737</td>\n",
       "      <td>43038016</td>\n",
       "      <td>521736</td>\n",
       "      <td>1007</td>\n",
       "      <td>1</td>\n",
       "      <td>1.21</td>\n",
       "      <td>Asia</td>\n",
       "    </tr>\n",
       "    <tr>\n",
       "      <th>2</th>\n",
       "      <td>Brazil</td>\n",
       "      <td>30210934</td>\n",
       "      <td>661904</td>\n",
       "      <td>30184286</td>\n",
       "      <td>661741</td>\n",
       "      <td>26648</td>\n",
       "      <td>163</td>\n",
       "      <td>2.19</td>\n",
       "      <td>South America</td>\n",
       "    </tr>\n",
       "    <tr>\n",
       "      <th>3</th>\n",
       "      <td>France</td>\n",
       "      <td>27499728</td>\n",
       "      <td>144814</td>\n",
       "      <td>27353225</td>\n",
       "      <td>144662</td>\n",
       "      <td>146503</td>\n",
       "      <td>152</td>\n",
       "      <td>0.53</td>\n",
       "      <td>Europe</td>\n",
       "    </tr>\n",
       "    <tr>\n",
       "      <th>4</th>\n",
       "      <td>Germany</td>\n",
       "      <td>23182447</td>\n",
       "      <td>132688</td>\n",
       "      <td>23017079</td>\n",
       "      <td>132378</td>\n",
       "      <td>165368</td>\n",
       "      <td>310</td>\n",
       "      <td>0.57</td>\n",
       "      <td>Europe</td>\n",
       "    </tr>\n",
       "  </tbody>\n",
       "</table>\n",
       "</div>"
      ],
      "text/plain": [
       "  Country/Region     Cases  Deaths    PCases  PDeaths  Cases (+)  Deaths (+)  \\\n",
       "0             US  80518989  987343  80477797   986387      41192         956   \n",
       "1          India  43039023  521737  43038016   521736       1007           1   \n",
       "2         Brazil  30210934  661904  30184286   661741      26648         163   \n",
       "3         France  27499728  144814  27353225   144662     146503         152   \n",
       "4        Germany  23182447  132688  23017079   132378     165368         310   \n",
       "\n",
       "   Fatality Rate      Continent  \n",
       "0           1.23  North America  \n",
       "1           1.21           Asia  \n",
       "2           2.19  South America  \n",
       "3           0.53         Europe  \n",
       "4           0.57         Europe  "
      ]
     },
     "execution_count": 13,
     "metadata": {},
     "output_type": "execute_result"
    }
   ],
   "source": [
    "#hide\n",
    "for c in 'Cases, Deaths'.split(', '):\n",
    "    df_table[f'{c} (+)'] = (df_table[c] - df_table[f'P{c}']).clip(0)\n",
    "    #Clip ça veut dire, les chiffres negatif sont interdit\n",
    "df_table['Fatality Rate'] = (100* df_table['Deaths']/ df_table['Cases']).round(2)\n",
    "df_table['Continent'] = df_table['Country/Region'].map(mapping['map.continent'])\n",
    "df_table.head(5)"
   ]
  },
  {
   "cell_type": "code",
   "execution_count": 14,
   "id": "aboriginal-bulgaria",
   "metadata": {
    "execution": {
     "iopub.execute_input": "2022-04-15T00:35:21.264699Z",
     "iopub.status.busy": "2022-04-15T00:35:21.264162Z",
     "iopub.status.idle": "2022-04-15T00:35:21.266188Z",
     "shell.execute_reply": "2022-04-15T00:35:21.266674Z"
    },
    "papermill": {
     "duration": 0.037884,
     "end_time": "2022-04-15T00:35:21.266800",
     "exception": false,
     "start_time": "2022-04-15T00:35:21.228916",
     "status": "completed"
    },
    "tags": []
   },
   "outputs": [],
   "source": [
    "#hide\n",
    "#delete problematic countries from table\n",
    "df_table = df_table[~df_table['Country/Region'].isin(['Cape Verde', 'Cruise Ship', 'Kosovo'])]"
   ]
  },
  {
   "cell_type": "code",
   "execution_count": 15,
   "id": "fantastic-effect",
   "metadata": {
    "execution": {
     "iopub.execute_input": "2022-04-15T00:35:21.334847Z",
     "iopub.status.busy": "2022-04-15T00:35:21.334335Z",
     "iopub.status.idle": "2022-04-15T00:35:21.351437Z",
     "shell.execute_reply": "2022-04-15T00:35:21.351899Z"
    },
    "papermill": {
     "duration": 0.055306,
     "end_time": "2022-04-15T00:35:21.352042",
     "exception": false,
     "start_time": "2022-04-15T00:35:21.296736",
     "status": "completed"
    },
    "tags": []
   },
   "outputs": [
    {
     "data": {
      "text/html": [
       "<div>\n",
       "<style scoped>\n",
       "    .dataframe tbody tr th:only-of-type {\n",
       "        vertical-align: middle;\n",
       "    }\n",
       "\n",
       "    .dataframe tbody tr th {\n",
       "        vertical-align: top;\n",
       "    }\n",
       "\n",
       "    .dataframe thead th {\n",
       "        text-align: right;\n",
       "    }\n",
       "</style>\n",
       "<table border=\"1\" class=\"dataframe\">\n",
       "  <thead>\n",
       "    <tr style=\"text-align: right;\">\n",
       "      <th></th>\n",
       "      <th>Country/Region</th>\n",
       "      <th>Cases</th>\n",
       "      <th>Deaths</th>\n",
       "      <th>PCases</th>\n",
       "      <th>PDeaths</th>\n",
       "      <th>Cases (+)</th>\n",
       "      <th>Deaths (+)</th>\n",
       "      <th>Fatality Rate</th>\n",
       "      <th>Continent</th>\n",
       "    </tr>\n",
       "  </thead>\n",
       "  <tbody>\n",
       "    <tr>\n",
       "      <th>0</th>\n",
       "      <td>US</td>\n",
       "      <td>80518989</td>\n",
       "      <td>987343</td>\n",
       "      <td>80477797</td>\n",
       "      <td>986387</td>\n",
       "      <td>41192</td>\n",
       "      <td>956</td>\n",
       "      <td>1.2</td>\n",
       "      <td>North America</td>\n",
       "    </tr>\n",
       "    <tr>\n",
       "      <th>1</th>\n",
       "      <td>India</td>\n",
       "      <td>43039023</td>\n",
       "      <td>521737</td>\n",
       "      <td>43038016</td>\n",
       "      <td>521736</td>\n",
       "      <td>1007</td>\n",
       "      <td>1</td>\n",
       "      <td>1.2</td>\n",
       "      <td>Asia</td>\n",
       "    </tr>\n",
       "    <tr>\n",
       "      <th>2</th>\n",
       "      <td>Brazil</td>\n",
       "      <td>30210934</td>\n",
       "      <td>661904</td>\n",
       "      <td>30184286</td>\n",
       "      <td>661741</td>\n",
       "      <td>26648</td>\n",
       "      <td>163</td>\n",
       "      <td>2.2</td>\n",
       "      <td>South America</td>\n",
       "    </tr>\n",
       "    <tr>\n",
       "      <th>3</th>\n",
       "      <td>France</td>\n",
       "      <td>27499728</td>\n",
       "      <td>144814</td>\n",
       "      <td>27353225</td>\n",
       "      <td>144662</td>\n",
       "      <td>146503</td>\n",
       "      <td>152</td>\n",
       "      <td>0.5</td>\n",
       "      <td>Europe</td>\n",
       "    </tr>\n",
       "    <tr>\n",
       "      <th>4</th>\n",
       "      <td>Germany</td>\n",
       "      <td>23182447</td>\n",
       "      <td>132688</td>\n",
       "      <td>23017079</td>\n",
       "      <td>132378</td>\n",
       "      <td>165368</td>\n",
       "      <td>310</td>\n",
       "      <td>0.6</td>\n",
       "      <td>Europe</td>\n",
       "    </tr>\n",
       "  </tbody>\n",
       "</table>\n",
       "</div>"
      ],
      "text/plain": [
       "  Country/Region     Cases  Deaths    PCases  PDeaths  Cases (+)  Deaths (+)  \\\n",
       "0             US  80518989  987343  80477797   986387      41192         956   \n",
       "1          India  43039023  521737  43038016   521736       1007           1   \n",
       "2         Brazil  30210934  661904  30184286   661741      26648         163   \n",
       "3         France  27499728  144814  27353225   144662     146503         152   \n",
       "4        Germany  23182447  132688  23017079   132378     165368         310   \n",
       "\n",
       "   Fatality Rate      Continent  \n",
       "0            1.2  North America  \n",
       "1            1.2           Asia  \n",
       "2            2.2  South America  \n",
       "3            0.5         Europe  \n",
       "4            0.6         Europe  "
      ]
     },
     "execution_count": 15,
     "metadata": {},
     "output_type": "execute_result"
    }
   ],
   "source": [
    "#hide\n",
    "df_table = (pd.DataFrame(dict(Cases=dfc_cases, Deaths=dfc_deaths, PCases=dfp_cases, PDeaths=dfp_deaths))\n",
    "             .sort_values(by=['Cases', 'Deaths'], ascending=[False, False])\n",
    "             .reset_index())\n",
    "df_table.rename(columns={'index': 'Country/Region'}, inplace=True)\n",
    "for c in 'Cases, Deaths'.split(', '):\n",
    "    df_table[f'{c} (+)'] = (df_table[c] - df_table[f'P{c}']).clip(0)  # DATA BUG\n",
    "df_table['Fatality Rate'] = (100 * df_table['Deaths'] / df_table['Cases']).round(1)\n",
    "df_table['Continent'] = df_table['Country/Region'].map(mapping['map.continent'])\n",
    "df_table.head(5)"
   ]
  },
  {
   "cell_type": "code",
   "execution_count": 16,
   "id": "fewer-occasion",
   "metadata": {
    "execution": {
     "iopub.execute_input": "2022-04-15T00:35:21.419598Z",
     "iopub.status.busy": "2022-04-15T00:35:21.419084Z",
     "iopub.status.idle": "2022-04-15T00:35:21.422035Z",
     "shell.execute_reply": "2022-04-15T00:35:21.421608Z"
    },
    "papermill": {
     "duration": 0.038759,
     "end_time": "2022-04-15T00:35:21.422140",
     "exception": false,
     "start_time": "2022-04-15T00:35:21.383381",
     "status": "completed"
    },
    "tags": []
   },
   "outputs": [],
   "source": [
    "#hide\n",
    "#delete problematic countries from table\n",
    "df_table = df_table[~df_table['Country/Region'].isin(['Cape Verde', 'Cruise Ship', 'Kosovo'])]"
   ]
  },
  {
   "cell_type": "code",
   "execution_count": 17,
   "id": "related-center",
   "metadata": {
    "execution": {
     "iopub.execute_input": "2022-04-15T00:35:21.500423Z",
     "iopub.status.busy": "2022-04-15T00:35:21.499888Z",
     "iopub.status.idle": "2022-04-15T00:35:21.502055Z",
     "shell.execute_reply": "2022-04-15T00:35:21.501555Z"
    },
    "papermill": {
     "duration": 0.049843,
     "end_time": "2022-04-15T00:35:21.502166",
     "exception": false,
     "start_time": "2022-04-15T00:35:21.452323",
     "status": "completed"
    },
    "tags": []
   },
   "outputs": [],
   "source": [
    "#hide\n",
    "metrics = [df_table.columns[index] for index in [1,2,5,6]]\n",
    "# s_china = df_table[df_table['Country/Region'].eq('China')][metrics].sum().add_prefix('China ')\n",
    "s_us = df_table[df_table['Country/Region'].eq('US')][metrics].sum().add_prefix('US ')\n",
    "s_eu = df_table[df_table['Continent'].eq('Europe')][metrics].sum().add_prefix('EU ')\n",
    "s_ind = df_table[df_table['Country/Region'].eq('India')][metrics].sum().add_prefix('India ')\n",
    "summary = {'updated': pd.to_datetime(dt_today), 'since': pd.to_datetime(dt_yday)}\n",
    "summary = {'updated': pd.to_datetime(dt_today), 'since': pd.to_datetime(dt_yday)}\n",
    "summary = {**summary, **df_table[metrics].sum(), **s_ind, **s_us, **s_eu}"
   ]
  },
  {
   "cell_type": "code",
   "execution_count": 18,
   "id": "engaging-syndrome",
   "metadata": {
    "execution": {
     "iopub.execute_input": "2022-04-15T00:35:21.568546Z",
     "iopub.status.busy": "2022-04-15T00:35:21.568014Z",
     "iopub.status.idle": "2022-04-15T00:35:21.584480Z",
     "shell.execute_reply": "2022-04-15T00:35:21.584966Z"
    },
    "papermill": {
     "duration": 0.052317,
     "end_time": "2022-04-15T00:35:21.585116",
     "exception": false,
     "start_time": "2022-04-15T00:35:21.532799",
     "status": "completed"
    },
    "tags": []
   },
   "outputs": [],
   "source": [
    "#hide\n",
    "dft_ct_new_cases = dft_cases.groupby(COL_REGION)[dt_cols].sum().diff(axis=1).fillna(0).astype(int)"
   ]
  },
  {
   "cell_type": "code",
   "execution_count": 19,
   "id": "neutral-assignment",
   "metadata": {
    "execution": {
     "iopub.execute_input": "2022-04-15T00:35:21.653180Z",
     "iopub.status.busy": "2022-04-15T00:35:21.652660Z",
     "iopub.status.idle": "2022-04-15T00:35:21.654724Z",
     "shell.execute_reply": "2022-04-15T00:35:21.655105Z"
    },
    "papermill": {
     "duration": 0.038906,
     "end_time": "2022-04-15T00:35:21.655233",
     "exception": false,
     "start_time": "2022-04-15T00:35:21.616327",
     "status": "completed"
    },
    "tags": []
   },
   "outputs": [],
   "source": [
    "#hide\n",
    "everydaycases = dft_ct_new_cases.cumsum(axis=1)"
   ]
  },
  {
   "cell_type": "code",
   "execution_count": 20,
   "id": "parliamentary-calgary",
   "metadata": {
    "execution": {
     "iopub.execute_input": "2022-04-15T00:35:21.720897Z",
     "iopub.status.busy": "2022-04-15T00:35:21.720327Z",
     "iopub.status.idle": "2022-04-15T00:35:22.341086Z",
     "shell.execute_reply": "2022-04-15T00:35:22.340582Z"
    },
    "papermill": {
     "duration": 0.655416,
     "end_time": "2022-04-15T00:35:22.341204",
     "exception": false,
     "start_time": "2022-04-15T00:35:21.685788",
     "status": "completed"
    },
    "tags": []
   },
   "outputs": [],
   "source": [
    "#hide\n",
    "import pandas as pd\n",
    "import matplotlib.pyplot as plt\n",
    "import matplotlib.ticker as ticker\n",
    "import matplotlib.animation as animation\n",
    "from IPython.display import HTML"
   ]
  },
  {
   "cell_type": "code",
   "execution_count": 21,
   "id": "lasting-extraction",
   "metadata": {
    "execution": {
     "iopub.execute_input": "2022-04-15T00:35:22.408416Z",
     "iopub.status.busy": "2022-04-15T00:35:22.407903Z",
     "iopub.status.idle": "2022-04-15T00:35:22.413825Z",
     "shell.execute_reply": "2022-04-15T00:35:22.414259Z"
    },
    "papermill": {
     "duration": 0.042783,
     "end_time": "2022-04-15T00:35:22.414392",
     "exception": false,
     "start_time": "2022-04-15T00:35:22.371609",
     "status": "completed"
    },
    "tags": []
   },
   "outputs": [],
   "source": [
    "#hide\n",
    "t = everydaycases.stack()"
   ]
  },
  {
   "cell_type": "code",
   "execution_count": 22,
   "id": "premier-sleeve",
   "metadata": {
    "execution": {
     "iopub.execute_input": "2022-04-15T00:35:22.479368Z",
     "iopub.status.busy": "2022-04-15T00:35:22.478847Z",
     "iopub.status.idle": "2022-04-15T00:35:22.490259Z",
     "shell.execute_reply": "2022-04-15T00:35:22.489849Z"
    },
    "papermill": {
     "duration": 0.045599,
     "end_time": "2022-04-15T00:35:22.490370",
     "exception": false,
     "start_time": "2022-04-15T00:35:22.444771",
     "status": "completed"
    },
    "tags": []
   },
   "outputs": [],
   "source": [
    "#hide\n",
    "g = t.reset_index(['Country/Region'])"
   ]
  },
  {
   "cell_type": "code",
   "execution_count": 23,
   "id": "distributed-pittsburgh",
   "metadata": {
    "execution": {
     "iopub.execute_input": "2022-04-15T00:35:22.554233Z",
     "iopub.status.busy": "2022-04-15T00:35:22.553734Z",
     "iopub.status.idle": "2022-04-15T00:35:22.555767Z",
     "shell.execute_reply": "2022-04-15T00:35:22.556250Z"
    },
    "papermill": {
     "duration": 0.035931,
     "end_time": "2022-04-15T00:35:22.556371",
     "exception": false,
     "start_time": "2022-04-15T00:35:22.520440",
     "status": "completed"
    },
    "tags": []
   },
   "outputs": [],
   "source": [
    "#hide\n",
    "g.index.name = 'date'"
   ]
  },
  {
   "cell_type": "code",
   "execution_count": 24,
   "id": "naked-donor",
   "metadata": {
    "execution": {
     "iopub.execute_input": "2022-04-15T00:35:22.619862Z",
     "iopub.status.busy": "2022-04-15T00:35:22.619342Z",
     "iopub.status.idle": "2022-04-15T00:35:22.621573Z",
     "shell.execute_reply": "2022-04-15T00:35:22.621076Z"
    },
    "papermill": {
     "duration": 0.035353,
     "end_time": "2022-04-15T00:35:22.621679",
     "exception": false,
     "start_time": "2022-04-15T00:35:22.586326",
     "status": "completed"
    },
    "tags": []
   },
   "outputs": [],
   "source": [
    "# #hide\n",
    "# g = g.reset_index(['date'])"
   ]
  },
  {
   "cell_type": "code",
   "execution_count": 25,
   "id": "incomplete-mustang",
   "metadata": {
    "execution": {
     "iopub.execute_input": "2022-04-15T00:35:22.686179Z",
     "iopub.status.busy": "2022-04-15T00:35:22.685654Z",
     "iopub.status.idle": "2022-04-15T00:35:22.687745Z",
     "shell.execute_reply": "2022-04-15T00:35:22.687242Z"
    },
    "papermill": {
     "duration": 0.035548,
     "end_time": "2022-04-15T00:35:22.687852",
     "exception": false,
     "start_time": "2022-04-15T00:35:22.652304",
     "status": "completed"
    },
    "tags": []
   },
   "outputs": [],
   "source": [
    "#hide\n",
    "# g.head()"
   ]
  },
  {
   "cell_type": "code",
   "execution_count": 26,
   "id": "specific-kruger",
   "metadata": {
    "execution": {
     "iopub.execute_input": "2022-04-15T00:35:22.751547Z",
     "iopub.status.busy": "2022-04-15T00:35:22.751039Z",
     "iopub.status.idle": "2022-04-15T00:35:22.754591Z",
     "shell.execute_reply": "2022-04-15T00:35:22.754182Z"
    },
    "papermill": {
     "duration": 0.036573,
     "end_time": "2022-04-15T00:35:22.754700",
     "exception": false,
     "start_time": "2022-04-15T00:35:22.718127",
     "status": "completed"
    },
    "tags": []
   },
   "outputs": [],
   "source": [
    "#hide\n",
    "# g.columns = ['date','country','cases']"
   ]
  },
  {
   "cell_type": "code",
   "execution_count": 27,
   "id": "tender-conversion",
   "metadata": {
    "execution": {
     "iopub.execute_input": "2022-04-15T00:35:22.819021Z",
     "iopub.status.busy": "2022-04-15T00:35:22.818420Z",
     "iopub.status.idle": "2022-04-15T00:35:22.820691Z",
     "shell.execute_reply": "2022-04-15T00:35:22.820164Z"
    },
    "papermill": {
     "duration": 0.03597,
     "end_time": "2022-04-15T00:35:22.820817",
     "exception": false,
     "start_time": "2022-04-15T00:35:22.784847",
     "status": "completed"
    },
    "tags": []
   },
   "outputs": [],
   "source": [
    "#hide\n",
    "# g['continent'] = g.country"
   ]
  },
  {
   "cell_type": "code",
   "execution_count": 28,
   "id": "substantial-wilderness",
   "metadata": {
    "execution": {
     "iopub.execute_input": "2022-04-15T00:35:22.886005Z",
     "iopub.status.busy": "2022-04-15T00:35:22.885404Z",
     "iopub.status.idle": "2022-04-15T00:35:22.886938Z",
     "shell.execute_reply": "2022-04-15T00:35:22.887375Z"
    },
    "papermill": {
     "duration": 0.035958,
     "end_time": "2022-04-15T00:35:22.887518",
     "exception": false,
     "start_time": "2022-04-15T00:35:22.851560",
     "status": "completed"
    },
    "tags": []
   },
   "outputs": [],
   "source": [
    "#hide\n",
    "# cols = list(g.columns.values)"
   ]
  },
  {
   "cell_type": "code",
   "execution_count": 29,
   "id": "solved-farming",
   "metadata": {
    "execution": {
     "iopub.execute_input": "2022-04-15T00:35:22.952557Z",
     "iopub.status.busy": "2022-04-15T00:35:22.951941Z",
     "iopub.status.idle": "2022-04-15T00:35:22.953465Z",
     "shell.execute_reply": "2022-04-15T00:35:22.953847Z"
    },
    "papermill": {
     "duration": 0.035553,
     "end_time": "2022-04-15T00:35:22.953974",
     "exception": false,
     "start_time": "2022-04-15T00:35:22.918421",
     "status": "completed"
    },
    "tags": []
   },
   "outputs": [],
   "source": [
    "#hide\n",
    "# cols.insert(0, cols.pop())"
   ]
  },
  {
   "cell_type": "code",
   "execution_count": 30,
   "id": "executed-adoption",
   "metadata": {
    "execution": {
     "iopub.execute_input": "2022-04-15T00:35:23.017602Z",
     "iopub.status.busy": "2022-04-15T00:35:23.017016Z",
     "iopub.status.idle": "2022-04-15T00:35:23.019203Z",
     "shell.execute_reply": "2022-04-15T00:35:23.018683Z"
    },
    "papermill": {
     "duration": 0.035087,
     "end_time": "2022-04-15T00:35:23.019323",
     "exception": false,
     "start_time": "2022-04-15T00:35:22.984236",
     "status": "completed"
    },
    "tags": []
   },
   "outputs": [],
   "source": [
    "#hide\n",
    "# g = g[cols]"
   ]
  },
  {
   "cell_type": "code",
   "execution_count": 31,
   "id": "subject-dublin",
   "metadata": {
    "execution": {
     "iopub.execute_input": "2022-04-15T00:35:23.084872Z",
     "iopub.status.busy": "2022-04-15T00:35:23.084227Z",
     "iopub.status.idle": "2022-04-15T00:35:23.085739Z",
     "shell.execute_reply": "2022-04-15T00:35:23.086140Z"
    },
    "papermill": {
     "duration": 0.035798,
     "end_time": "2022-04-15T00:35:23.086267",
     "exception": false,
     "start_time": "2022-04-15T00:35:23.050469",
     "status": "completed"
    },
    "tags": []
   },
   "outputs": [],
   "source": [
    "#hide\n",
    "# g['continent'] = g['continent'].map(mapping['map.continent'])"
   ]
  },
  {
   "cell_type": "code",
   "execution_count": 32,
   "id": "freelance-scout",
   "metadata": {
    "execution": {
     "iopub.execute_input": "2022-04-15T00:35:23.149883Z",
     "iopub.status.busy": "2022-04-15T00:35:23.149375Z",
     "iopub.status.idle": "2022-04-15T00:35:23.152827Z",
     "shell.execute_reply": "2022-04-15T00:35:23.152393Z"
    },
    "papermill": {
     "duration": 0.036105,
     "end_time": "2022-04-15T00:35:23.152941",
     "exception": false,
     "start_time": "2022-04-15T00:35:23.116836",
     "status": "completed"
    },
    "tags": []
   },
   "outputs": [],
   "source": [
    "#hide\n",
    "# g.head()"
   ]
  },
  {
   "cell_type": "code",
   "execution_count": 33,
   "id": "limited-engine",
   "metadata": {
    "execution": {
     "iopub.execute_input": "2022-04-15T00:35:23.217054Z",
     "iopub.status.busy": "2022-04-15T00:35:23.216406Z",
     "iopub.status.idle": "2022-04-15T00:35:23.219344Z",
     "shell.execute_reply": "2022-04-15T00:35:23.218938Z"
    },
    "papermill": {
     "duration": 0.036474,
     "end_time": "2022-04-15T00:35:23.219454",
     "exception": false,
     "start_time": "2022-04-15T00:35:23.182980",
     "status": "completed"
    },
    "tags": []
   },
   "outputs": [],
   "source": [
    "# hide\n",
    "# g['date'] = g['date'].astype('datetime64[ns]')"
   ]
  },
  {
   "cell_type": "code",
   "execution_count": 34,
   "id": "sophisticated-supervisor",
   "metadata": {
    "execution": {
     "iopub.execute_input": "2022-04-15T00:35:23.283970Z",
     "iopub.status.busy": "2022-04-15T00:35:23.283377Z",
     "iopub.status.idle": "2022-04-15T00:35:23.285542Z",
     "shell.execute_reply": "2022-04-15T00:35:23.285050Z"
    },
    "papermill": {
     "duration": 0.035724,
     "end_time": "2022-04-15T00:35:23.285661",
     "exception": false,
     "start_time": "2022-04-15T00:35:23.249937",
     "status": "completed"
    },
    "tags": []
   },
   "outputs": [],
   "source": [
    "#hide\n",
    "# g['date'] = g.date.dt.dayofyear"
   ]
  },
  {
   "cell_type": "code",
   "execution_count": 35,
   "id": "inside-dubai",
   "metadata": {
    "execution": {
     "iopub.execute_input": "2022-04-15T00:35:23.349670Z",
     "iopub.status.busy": "2022-04-15T00:35:23.349154Z",
     "iopub.status.idle": "2022-04-15T00:35:23.351336Z",
     "shell.execute_reply": "2022-04-15T00:35:23.350834Z"
    },
    "papermill": {
     "duration": 0.03534,
     "end_time": "2022-04-15T00:35:23.351444",
     "exception": false,
     "start_time": "2022-04-15T00:35:23.316104",
     "status": "completed"
    },
    "tags": []
   },
   "outputs": [],
   "source": [
    "#hide\n",
    "# g = g.rename(columns= {'continent':'group','country':'name','cases':'value'})"
   ]
  },
  {
   "cell_type": "code",
   "execution_count": 36,
   "id": "fleet-motorcycle",
   "metadata": {
    "execution": {
     "iopub.execute_input": "2022-04-15T00:35:23.415598Z",
     "iopub.status.busy": "2022-04-15T00:35:23.414996Z",
     "iopub.status.idle": "2022-04-15T00:35:23.416737Z",
     "shell.execute_reply": "2022-04-15T00:35:23.417186Z"
    },
    "papermill": {
     "duration": 0.035649,
     "end_time": "2022-04-15T00:35:23.417328",
     "exception": false,
     "start_time": "2022-04-15T00:35:23.381679",
     "status": "completed"
    },
    "tags": []
   },
   "outputs": [],
   "source": [
    "#hide\n",
    "# cols = ['name','group','day','value']"
   ]
  },
  {
   "cell_type": "code",
   "execution_count": 37,
   "id": "continued-sleeping",
   "metadata": {
    "execution": {
     "iopub.execute_input": "2022-04-15T00:35:23.482253Z",
     "iopub.status.busy": "2022-04-15T00:35:23.481720Z",
     "iopub.status.idle": "2022-04-15T00:35:23.483732Z",
     "shell.execute_reply": "2022-04-15T00:35:23.483219Z"
    },
    "papermill": {
     "duration": 0.03571,
     "end_time": "2022-04-15T00:35:23.483842",
     "exception": false,
     "start_time": "2022-04-15T00:35:23.448132",
     "status": "completed"
    },
    "tags": []
   },
   "outputs": [],
   "source": [
    "#hide\n",
    "# g.rename(columns= {'date':'day'},inplace = True)"
   ]
  },
  {
   "cell_type": "code",
   "execution_count": 38,
   "id": "major-fight",
   "metadata": {
    "execution": {
     "iopub.execute_input": "2022-04-15T00:35:23.549391Z",
     "iopub.status.busy": "2022-04-15T00:35:23.548760Z",
     "iopub.status.idle": "2022-04-15T00:35:23.551590Z",
     "shell.execute_reply": "2022-04-15T00:35:23.551010Z"
    },
    "papermill": {
     "duration": 0.037186,
     "end_time": "2022-04-15T00:35:23.551719",
     "exception": false,
     "start_time": "2022-04-15T00:35:23.514533",
     "status": "completed"
    },
    "tags": []
   },
   "outputs": [],
   "source": [
    "#hide\n",
    "# g = g[cols]"
   ]
  },
  {
   "cell_type": "code",
   "execution_count": 39,
   "id": "structured-mobile",
   "metadata": {
    "execution": {
     "iopub.execute_input": "2022-04-15T00:35:23.616700Z",
     "iopub.status.busy": "2022-04-15T00:35:23.616067Z",
     "iopub.status.idle": "2022-04-15T00:35:23.617651Z",
     "shell.execute_reply": "2022-04-15T00:35:23.618087Z"
    },
    "papermill": {
     "duration": 0.035738,
     "end_time": "2022-04-15T00:35:23.618230",
     "exception": false,
     "start_time": "2022-04-15T00:35:23.582492",
     "status": "completed"
    },
    "tags": []
   },
   "outputs": [],
   "source": [
    "# #hide\n",
    "# g = g[g.group.notna()]"
   ]
  },
  {
   "cell_type": "code",
   "execution_count": 40,
   "id": "determined-closing",
   "metadata": {
    "execution": {
     "iopub.execute_input": "2022-04-15T00:35:23.683901Z",
     "iopub.status.busy": "2022-04-15T00:35:23.683295Z",
     "iopub.status.idle": "2022-04-15T00:35:23.687009Z",
     "shell.execute_reply": "2022-04-15T00:35:23.686602Z"
    },
    "papermill": {
     "duration": 0.037647,
     "end_time": "2022-04-15T00:35:23.687118",
     "exception": false,
     "start_time": "2022-04-15T00:35:23.649471",
     "status": "completed"
    },
    "tags": []
   },
   "outputs": [],
   "source": [
    "# #hide\n",
    "# colors = dict(zip(\n",
    "#     [\"Oceania\", \"Europe\", \"Asia\", \"South America\", \"Middle East\", \"North America\", \"Africa\"],\n",
    "#     [\"#adb0ff\", \"#ffb3ff\", \"#90d595\", \"#e48381\", \"#aafbff\", \"#f7bb5f\", \"#eafb50\"]\n",
    "# ))\n",
    "# group_lk = g.set_index('name')['group'].to_dict()"
   ]
  },
  {
   "cell_type": "code",
   "execution_count": null,
   "id": "gross-drinking",
   "metadata": {
    "papermill": {
     "duration": 0.030154,
     "end_time": "2022-04-15T00:35:23.747392",
     "exception": false,
     "start_time": "2022-04-15T00:35:23.717238",
     "status": "completed"
    },
    "tags": []
   },
   "outputs": [],
   "source": []
  },
  {
   "cell_type": "code",
   "execution_count": 41,
   "id": "subject-macintosh",
   "metadata": {
    "execution": {
     "iopub.execute_input": "2022-04-15T00:35:23.812078Z",
     "iopub.status.busy": "2022-04-15T00:35:23.811467Z",
     "iopub.status.idle": "2022-04-15T00:35:23.813649Z",
     "shell.execute_reply": "2022-04-15T00:35:23.813160Z"
    },
    "papermill": {
     "duration": 0.036167,
     "end_time": "2022-04-15T00:35:23.813766",
     "exception": false,
     "start_time": "2022-04-15T00:35:23.777599",
     "status": "completed"
    },
    "tags": []
   },
   "outputs": [],
   "source": [
    "# #hide\n",
    "# fig, ax = plt.subplots(figsize=(15, 8))\n",
    "\n",
    "# def draw_barchart(current_day):\n",
    "#     dff = g[g['day'].eq(current_day)].sort_values(by='value', ascending=True).tail(10)\n",
    "#     ax.clear()\n",
    "#     ax.barh(dff['name'], dff['value'], color=[colors[group_lk[x]] for x in dff['name']])\n",
    "#     dx = dff['value'].max() / 200\n",
    "    \n",
    "#     for i, (value, name) in enumerate(zip(dff['value'], dff['name'])):\n",
    "#         ax.text(value-dx, i,     name,           size=14, weight=600, ha='right', va='bottom')\n",
    "#         ax.text(value-dx, i-.25, group_lk[name], size=10, color='#444444', ha='right', va='baseline')\n",
    "#         ax.text(value+dx, i,     f'{value:,.0f}',  size=14, ha='left',  va='center')\n",
    "#     ax.text(1, 0.4, current_day, transform=ax.transAxes, color='#777777', size=46, ha='right', weight=800)\n",
    "#     ax.text(0, 1.06, 'Population (thousands)', transform=ax.transAxes, size=12, color='#777777')\n",
    "#     ax.xaxis.set_major_formatter(ticker.StrMethodFormatter('{x:,.0f}'))\n",
    "#     ax.xaxis.set_ticks_position('top')\n",
    "#     ax.tick_params(axis='x', colors='#777777', labelsize=12)\n",
    "#     ax.set_yticks([])\n",
    "#     ax.margins(0, 0.01)\n",
    "#     ax.grid(which='major', axis='x', linestyle='-')\n",
    "#     ax.set_axisbelow(True)\n",
    "    \n",
    "#     ax.text(0, 1.15, 'Coronavirus',\n",
    "#             transform=ax.transAxes, size=24, weight=600, ha='left', va='top')\n",
    "# #     ax.text(1, 0, 'by @pratapvardhan; credit @jburnmurdoch', transform=ax.transAxes, color='#777777', ha='right',\n",
    "# #             bbox=dict(facecolor='white', alpha=0.8, edgecolor='white'))\n",
    "#     plt.box(False)"
   ]
  },
  {
   "cell_type": "code",
   "execution_count": 42,
   "id": "sexual-wages",
   "metadata": {
    "execution": {
     "iopub.execute_input": "2022-04-15T00:35:23.878531Z",
     "iopub.status.busy": "2022-04-15T00:35:23.877916Z",
     "iopub.status.idle": "2022-04-15T00:35:23.879397Z",
     "shell.execute_reply": "2022-04-15T00:35:23.879781Z"
    },
    "papermill": {
     "duration": 0.03563,
     "end_time": "2022-04-15T00:35:23.879913",
     "exception": false,
     "start_time": "2022-04-15T00:35:23.844283",
     "status": "completed"
    },
    "tags": []
   },
   "outputs": [],
   "source": [
    "# #hide_input\n",
    "# fig, ax = plt.subplots(figsize=(15, 8))\n",
    "# animator = animation.FuncAnimation(fig, draw_barchart, frames=range(g.day.values.min(), g.day.values.max()))\n",
    "# HTML(animator.to_jshtml())\n",
    "# # or use animator.to_html5_video() or animator.save() "
   ]
  },
  {
   "cell_type": "code",
   "execution_count": null,
   "id": "australian-container",
   "metadata": {
    "papermill": {
     "duration": 0.030367,
     "end_time": "2022-04-15T00:35:23.940802",
     "exception": false,
     "start_time": "2022-04-15T00:35:23.910435",
     "status": "completed"
    },
    "tags": []
   },
   "outputs": [],
   "source": []
  },
  {
   "cell_type": "code",
   "execution_count": null,
   "id": "mediterranean-pontiac",
   "metadata": {
    "papermill": {
     "duration": 0.030095,
     "end_time": "2022-04-15T00:35:24.001103",
     "exception": false,
     "start_time": "2022-04-15T00:35:23.971008",
     "status": "completed"
    },
    "tags": []
   },
   "outputs": [],
   "source": []
  },
  {
   "cell_type": "code",
   "execution_count": null,
   "id": "aging-legislature",
   "metadata": {
    "papermill": {
     "duration": 0.030296,
     "end_time": "2022-04-15T00:35:24.061943",
     "exception": false,
     "start_time": "2022-04-15T00:35:24.031647",
     "status": "completed"
    },
    "tags": []
   },
   "outputs": [],
   "source": []
  }
 ],
 "metadata": {
  "kernelspec": {
   "display_name": "Python 3",
   "language": "python",
   "name": "python3"
  },
  "language_info": {
   "codemirror_mode": {
    "name": "ipython",
    "version": 3
   },
   "file_extension": ".py",
   "mimetype": "text/x-python",
   "name": "python",
   "nbconvert_exporter": "python",
   "pygments_lexer": "ipython3",
   "version": "3.6.15"
  },
  "papermill": {
   "duration": 6.059848,
   "end_time": "2022-04-15T00:35:24.411122",
   "environment_variables": {},
   "exception": null,
   "input_path": "2020-03-21-covid19exp.ipynb",
   "output_path": "2020-03-21-covid19exp.ipynb",
   "parameters": {},
   "start_time": "2022-04-15T00:35:18.351274",
   "version": "2.0.0"
  }
 },
 "nbformat": 4,
 "nbformat_minor": 5
}