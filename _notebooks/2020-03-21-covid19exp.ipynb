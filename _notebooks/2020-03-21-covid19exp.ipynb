{
 "cells": [
  {
   "cell_type": "markdown",
   "id": "muslim-click",
   "metadata": {
    "papermill": {
     "duration": 0.039656,
     "end_time": "2021-09-18T12:11:19.003388",
     "exception": false,
     "start_time": "2021-09-18T12:11:18.963732",
     "status": "completed"
    },
    "tags": []
   },
   "source": [
    "# COVID-19 Case Race\n",
    "> A race chart to see rising cases around the world\n",
    "\n",
    "- author: Hargun Oberoi\n",
    "- image: images/covid-overview.png\n",
    "- hide: false\n",
    "- badges: false"
   ]
  },
  {
   "cell_type": "code",
   "execution_count": 1,
   "id": "proof-material",
   "metadata": {
    "execution": {
     "iopub.execute_input": "2021-09-18T12:11:19.079482Z",
     "iopub.status.busy": "2021-09-18T12:11:19.078905Z",
     "iopub.status.idle": "2021-09-18T12:11:19.448932Z",
     "shell.execute_reply": "2021-09-18T12:11:19.448044Z"
    },
    "papermill": {
     "duration": 0.412803,
     "end_time": "2021-09-18T12:11:19.449202",
     "exception": false,
     "start_time": "2021-09-18T12:11:19.036399",
     "status": "completed"
    },
    "tags": []
   },
   "outputs": [],
   "source": [
    "#hide\n",
    "import numpy as np\n",
    "import pandas as pd\n",
    "from jinja2 import Template\n",
    "from IPython.display import HTML"
   ]
  },
  {
   "cell_type": "code",
   "execution_count": 2,
   "id": "developed-terminology",
   "metadata": {
    "execution": {
     "iopub.execute_input": "2021-09-18T12:11:19.519714Z",
     "iopub.status.busy": "2021-09-18T12:11:19.519110Z",
     "iopub.status.idle": "2021-09-18T12:11:19.521360Z",
     "shell.execute_reply": "2021-09-18T12:11:19.521916Z"
    },
    "papermill": {
     "duration": 0.040813,
     "end_time": "2021-09-18T12:11:19.522051",
     "exception": false,
     "start_time": "2021-09-18T12:11:19.481238",
     "status": "completed"
    },
    "tags": []
   },
   "outputs": [],
   "source": [
    "#hide\n",
    "\n",
    "# FETCH\n",
    "base_url = 'https://raw.githubusercontent.com/pratapvardhan/notebooks/master/covid19/'\n",
    "paths = {\n",
    "    'mapping': base_url + 'mapping_countries.csv',\n",
    "    'overview': base_url + 'overview.tpl'\n",
    "}"
   ]
  },
  {
   "cell_type": "code",
   "execution_count": 3,
   "id": "dynamic-saver",
   "metadata": {
    "execution": {
     "iopub.execute_input": "2021-09-18T12:11:19.595432Z",
     "iopub.status.busy": "2021-09-18T12:11:19.594858Z",
     "iopub.status.idle": "2021-09-18T12:11:19.598624Z",
     "shell.execute_reply": "2021-09-18T12:11:19.599154Z"
    },
    "papermill": {
     "duration": 0.046178,
     "end_time": "2021-09-18T12:11:19.599290",
     "exception": false,
     "start_time": "2021-09-18T12:11:19.553112",
     "status": "completed"
    },
    "tags": []
   },
   "outputs": [
    {
     "data": {
      "text/plain": [
       "'https://raw.githubusercontent.com/pratapvardhan/notebooks/master/covid19/mapping_countries.csv'"
      ]
     },
     "execution_count": 3,
     "metadata": {},
     "output_type": "execute_result"
    }
   ],
   "source": [
    "#hide\n",
    "paths['mapping']"
   ]
  },
  {
   "cell_type": "code",
   "execution_count": 4,
   "id": "urban-software",
   "metadata": {
    "execution": {
     "iopub.execute_input": "2021-09-18T12:11:19.670888Z",
     "iopub.status.busy": "2021-09-18T12:11:19.670340Z",
     "iopub.status.idle": "2021-09-18T12:11:19.672717Z",
     "shell.execute_reply": "2021-09-18T12:11:19.673287Z"
    },
    "papermill": {
     "duration": 0.04163,
     "end_time": "2021-09-18T12:11:19.673421",
     "exception": false,
     "start_time": "2021-09-18T12:11:19.631791",
     "status": "completed"
    },
    "tags": []
   },
   "outputs": [],
   "source": [
    "#hide\n",
    "def get_mappings(url):\n",
    "    df = pd.read_csv(url)\n",
    "    return {\n",
    "        'df': df,\n",
    "        'replace.country': dict(df.dropna(subset=['Name']).set_index('Country')['Name']),\n",
    "        'map.continent': dict(df.set_index('Name')['Continent'])\n",
    "    }"
   ]
  },
  {
   "cell_type": "code",
   "execution_count": 5,
   "id": "intimate-machinery",
   "metadata": {
    "execution": {
     "iopub.execute_input": "2021-09-18T12:11:19.744417Z",
     "iopub.status.busy": "2021-09-18T12:11:19.743835Z",
     "iopub.status.idle": "2021-09-18T12:11:19.785923Z",
     "shell.execute_reply": "2021-09-18T12:11:19.786352Z"
    },
    "papermill": {
     "duration": 0.08218,
     "end_time": "2021-09-18T12:11:19.786491",
     "exception": false,
     "start_time": "2021-09-18T12:11:19.704311",
     "status": "completed"
    },
    "tags": []
   },
   "outputs": [],
   "source": [
    "#hide\n",
    "mapping = get_mappings(paths['mapping'])"
   ]
  },
  {
   "cell_type": "code",
   "execution_count": 6,
   "id": "certified-tactics",
   "metadata": {
    "execution": {
     "iopub.execute_input": "2021-09-18T12:11:19.857077Z",
     "iopub.status.busy": "2021-09-18T12:11:19.856425Z",
     "iopub.status.idle": "2021-09-18T12:11:19.858674Z",
     "shell.execute_reply": "2021-09-18T12:11:19.859190Z"
    },
    "papermill": {
     "duration": 0.040288,
     "end_time": "2021-09-18T12:11:19.859324",
     "exception": false,
     "start_time": "2021-09-18T12:11:19.819036",
     "status": "completed"
    },
    "tags": []
   },
   "outputs": [],
   "source": [
    "#hide\n",
    "def get_template(path):\n",
    "    from urllib.parse import urlparse\n",
    "    if bool(urlparse(path).netloc):\n",
    "        from urllib.request import urlopen\n",
    "        return urlopen(path).read().decode('utf8')\n",
    "    return open(path).read()"
   ]
  },
  {
   "cell_type": "code",
   "execution_count": 7,
   "id": "realistic-blast",
   "metadata": {
    "execution": {
     "iopub.execute_input": "2021-09-18T12:11:19.930846Z",
     "iopub.status.busy": "2021-09-18T12:11:19.930258Z",
     "iopub.status.idle": "2021-09-18T12:11:19.932423Z",
     "shell.execute_reply": "2021-09-18T12:11:19.931935Z"
    },
    "papermill": {
     "duration": 0.040117,
     "end_time": "2021-09-18T12:11:19.932638",
     "exception": false,
     "start_time": "2021-09-18T12:11:19.892521",
     "status": "completed"
    },
    "tags": []
   },
   "outputs": [],
   "source": [
    "#hide\n",
    "def get_frame(name):\n",
    "    url = (\n",
    "        'https://raw.githubusercontent.com/CSSEGISandData/COVID-19/master/csse_covid_19_data/'\n",
    "        f'csse_covid_19_time_series/time_series_covid19_{name}_global.csv')\n",
    "    df = pd.read_csv(url)\n",
    "    # rename countries\n",
    "    df['Country/Region'] = df['Country/Region'].replace(mapping['replace.country'])\n",
    "    return df"
   ]
  },
  {
   "cell_type": "code",
   "execution_count": 8,
   "id": "affiliated-characterization",
   "metadata": {
    "execution": {
     "iopub.execute_input": "2021-09-18T12:11:20.005253Z",
     "iopub.status.busy": "2021-09-18T12:11:20.004635Z",
     "iopub.status.idle": "2021-09-18T12:11:20.006937Z",
     "shell.execute_reply": "2021-09-18T12:11:20.007473Z"
    },
    "papermill": {
     "duration": 0.041031,
     "end_time": "2021-09-18T12:11:20.007599",
     "exception": false,
     "start_time": "2021-09-18T12:11:19.966568",
     "status": "completed"
    },
    "tags": []
   },
   "outputs": [],
   "source": [
    "#hide\n",
    "def get_dates(df):\n",
    "    dt_cols = df.columns[~df.columns.isin(['Province/State', 'Country/Region', 'Lat', 'Long'])]\n",
    "    LAST_DATE_I = -1\n",
    "    # sometimes last column may be empty, then go backwards\n",
    "    for i in range(-1, -len(dt_cols), -1):\n",
    "        if not df[dt_cols[i]].fillna(0).eq(0).all():\n",
    "            LAST_DATE_I = i\n",
    "            break\n",
    "    return LAST_DATE_I, dt_cols"
   ]
  },
  {
   "cell_type": "code",
   "execution_count": 9,
   "id": "recent-optimization",
   "metadata": {
    "execution": {
     "iopub.execute_input": "2021-09-18T12:11:20.080215Z",
     "iopub.status.busy": "2021-09-18T12:11:20.079649Z",
     "iopub.status.idle": "2021-09-18T12:11:20.452894Z",
     "shell.execute_reply": "2021-09-18T12:11:20.452304Z"
    },
    "papermill": {
     "duration": 0.413289,
     "end_time": "2021-09-18T12:11:20.453059",
     "exception": false,
     "start_time": "2021-09-18T12:11:20.039770",
     "status": "completed"
    },
    "tags": []
   },
   "outputs": [],
   "source": [
    "#hide\n",
    "COL_REGION = 'Country/Region'\n",
    "# Confirmed, Recovered, Deaths\n",
    "df = get_frame('confirmed')\n",
    "# dft_: timeseries, dfc_: today country agg\n",
    "dft_cases = df\n",
    "dft_deaths = get_frame('deaths')\n",
    "dft_recovered = get_frame('recovered')\n",
    "LAST_DATE_I, dt_cols = get_dates(df)"
   ]
  },
  {
   "cell_type": "code",
   "execution_count": 10,
   "id": "absolute-copper",
   "metadata": {
    "execution": {
     "iopub.execute_input": "2021-09-18T12:11:20.526337Z",
     "iopub.status.busy": "2021-09-18T12:11:20.525747Z",
     "iopub.status.idle": "2021-09-18T12:11:20.527963Z",
     "shell.execute_reply": "2021-09-18T12:11:20.527476Z"
    },
    "papermill": {
     "duration": 0.041051,
     "end_time": "2021-09-18T12:11:20.528081",
     "exception": false,
     "start_time": "2021-09-18T12:11:20.487030",
     "status": "completed"
    },
    "tags": []
   },
   "outputs": [],
   "source": [
    "#hide\n",
    "LAST_DATE_I, dt_cols = get_dates(df)\n",
    "dt_today =dt_cols[LAST_DATE_I]\n",
    "# dt_5day = dt_cols[LAST_DATE_I - 5]\n",
    "dt_yday = dt_cols[LAST_DATE_I - 1]"
   ]
  },
  {
   "cell_type": "code",
   "execution_count": 11,
   "id": "restricted-sheriff",
   "metadata": {
    "execution": {
     "iopub.execute_input": "2021-09-18T12:11:20.601440Z",
     "iopub.status.busy": "2021-09-18T12:11:20.600820Z",
     "iopub.status.idle": "2021-09-18T12:11:20.608259Z",
     "shell.execute_reply": "2021-09-18T12:11:20.607767Z"
    },
    "papermill": {
     "duration": 0.046805,
     "end_time": "2021-09-18T12:11:20.608377",
     "exception": false,
     "start_time": "2021-09-18T12:11:20.561572",
     "status": "completed"
    },
    "tags": []
   },
   "outputs": [],
   "source": [
    "#hide\n",
    "dfc_cases = dft_cases.groupby(COL_REGION)[dt_today].sum()\n",
    "dfc_deaths = dft_deaths.groupby(COL_REGION)[dt_today].sum()\n",
    "# dfp_cases = dft_cases.groupby(COL_REGION)[dt_5day].sum()\n",
    "# dfp_deaths = dft_deaths.groupby(COL_REGION)[dt_5day].sum()\n",
    "dfp_cases = dft_cases.groupby(COL_REGION)[dt_yday].sum()\n",
    "dfp_deaths = dft_deaths.groupby(COL_REGION)[dt_yday].sum()"
   ]
  },
  {
   "cell_type": "code",
   "execution_count": 12,
   "id": "deluxe-hepatitis",
   "metadata": {
    "execution": {
     "iopub.execute_input": "2021-09-18T12:11:20.679569Z",
     "iopub.status.busy": "2021-09-18T12:11:20.679067Z",
     "iopub.status.idle": "2021-09-18T12:11:20.683937Z",
     "shell.execute_reply": "2021-09-18T12:11:20.684369Z"
    },
    "papermill": {
     "duration": 0.043822,
     "end_time": "2021-09-18T12:11:20.684493",
     "exception": false,
     "start_time": "2021-09-18T12:11:20.640671",
     "status": "completed"
    },
    "tags": []
   },
   "outputs": [],
   "source": [
    "#hide\n",
    "df_table = (pd.DataFrame(dict(Cases = dfc_cases, Deaths = dfc_deaths, PCases = dfp_cases, PDeaths = dfp_deaths))\n",
    "            .sort_values(by = ['Cases','Deaths'], ascending = [False, False])\n",
    "            .reset_index())"
   ]
  },
  {
   "cell_type": "code",
   "execution_count": 13,
   "id": "educational-chancellor",
   "metadata": {
    "execution": {
     "iopub.execute_input": "2021-09-18T12:11:20.766109Z",
     "iopub.status.busy": "2021-09-18T12:11:20.765552Z",
     "iopub.status.idle": "2021-09-18T12:11:20.774608Z",
     "shell.execute_reply": "2021-09-18T12:11:20.774111Z"
    },
    "papermill": {
     "duration": 0.058496,
     "end_time": "2021-09-18T12:11:20.774726",
     "exception": false,
     "start_time": "2021-09-18T12:11:20.716230",
     "status": "completed"
    },
    "tags": []
   },
   "outputs": [
    {
     "data": {
      "text/html": [
       "<div>\n",
       "<style scoped>\n",
       "    .dataframe tbody tr th:only-of-type {\n",
       "        vertical-align: middle;\n",
       "    }\n",
       "\n",
       "    .dataframe tbody tr th {\n",
       "        vertical-align: top;\n",
       "    }\n",
       "\n",
       "    .dataframe thead th {\n",
       "        text-align: right;\n",
       "    }\n",
       "</style>\n",
       "<table border=\"1\" class=\"dataframe\">\n",
       "  <thead>\n",
       "    <tr style=\"text-align: right;\">\n",
       "      <th></th>\n",
       "      <th>Country/Region</th>\n",
       "      <th>Cases</th>\n",
       "      <th>Deaths</th>\n",
       "      <th>PCases</th>\n",
       "      <th>PDeaths</th>\n",
       "      <th>Cases (+)</th>\n",
       "      <th>Deaths (+)</th>\n",
       "      <th>Fatality Rate</th>\n",
       "      <th>Continent</th>\n",
       "    </tr>\n",
       "  </thead>\n",
       "  <tbody>\n",
       "    <tr>\n",
       "      <th>0</th>\n",
       "      <td>US</td>\n",
       "      <td>41993789</td>\n",
       "      <td>672635</td>\n",
       "      <td>41785903</td>\n",
       "      <td>670000</td>\n",
       "      <td>207886</td>\n",
       "      <td>2635</td>\n",
       "      <td>1.60</td>\n",
       "      <td>North America</td>\n",
       "    </tr>\n",
       "    <tr>\n",
       "      <th>1</th>\n",
       "      <td>India</td>\n",
       "      <td>33417390</td>\n",
       "      <td>444529</td>\n",
       "      <td>33381728</td>\n",
       "      <td>444248</td>\n",
       "      <td>35662</td>\n",
       "      <td>281</td>\n",
       "      <td>1.33</td>\n",
       "      <td>Asia</td>\n",
       "    </tr>\n",
       "    <tr>\n",
       "      <th>2</th>\n",
       "      <td>Brazil</td>\n",
       "      <td>21080219</td>\n",
       "      <td>589573</td>\n",
       "      <td>21069017</td>\n",
       "      <td>589246</td>\n",
       "      <td>11202</td>\n",
       "      <td>327</td>\n",
       "      <td>2.80</td>\n",
       "      <td>South America</td>\n",
       "    </tr>\n",
       "    <tr>\n",
       "      <th>3</th>\n",
       "      <td>United Kingdom</td>\n",
       "      <td>7406017</td>\n",
       "      <td>135314</td>\n",
       "      <td>7373451</td>\n",
       "      <td>135134</td>\n",
       "      <td>32566</td>\n",
       "      <td>180</td>\n",
       "      <td>1.83</td>\n",
       "      <td>Europe</td>\n",
       "    </tr>\n",
       "    <tr>\n",
       "      <th>4</th>\n",
       "      <td>Russia</td>\n",
       "      <td>7130245</td>\n",
       "      <td>193111</td>\n",
       "      <td>7110656</td>\n",
       "      <td>192340</td>\n",
       "      <td>19589</td>\n",
       "      <td>771</td>\n",
       "      <td>2.71</td>\n",
       "      <td>Europe</td>\n",
       "    </tr>\n",
       "  </tbody>\n",
       "</table>\n",
       "</div>"
      ],
      "text/plain": [
       "   Country/Region     Cases  Deaths    PCases  PDeaths  Cases (+)  Deaths (+)  \\\n",
       "0              US  41993789  672635  41785903   670000     207886        2635   \n",
       "1           India  33417390  444529  33381728   444248      35662         281   \n",
       "2          Brazil  21080219  589573  21069017   589246      11202         327   \n",
       "3  United Kingdom   7406017  135314   7373451   135134      32566         180   \n",
       "4          Russia   7130245  193111   7110656   192340      19589         771   \n",
       "\n",
       "   Fatality Rate      Continent  \n",
       "0           1.60  North America  \n",
       "1           1.33           Asia  \n",
       "2           2.80  South America  \n",
       "3           1.83         Europe  \n",
       "4           2.71         Europe  "
      ]
     },
     "execution_count": 13,
     "metadata": {},
     "output_type": "execute_result"
    }
   ],
   "source": [
    "#hide\n",
    "for c in 'Cases, Deaths'.split(', '):\n",
    "    df_table[f'{c} (+)'] = (df_table[c] - df_table[f'P{c}']).clip(0)\n",
    "    #Clip ça veut dire, les chiffres negatif sont interdit\n",
    "df_table['Fatality Rate'] = (100* df_table['Deaths']/ df_table['Cases']).round(2)\n",
    "df_table['Continent'] = df_table['Country/Region'].map(mapping['map.continent'])\n",
    "df_table.head(5)"
   ]
  },
  {
   "cell_type": "code",
   "execution_count": 14,
   "id": "aboriginal-bulgaria",
   "metadata": {
    "execution": {
     "iopub.execute_input": "2021-09-18T12:11:20.845594Z",
     "iopub.status.busy": "2021-09-18T12:11:20.845022Z",
     "iopub.status.idle": "2021-09-18T12:11:20.846630Z",
     "shell.execute_reply": "2021-09-18T12:11:20.847175Z"
    },
    "papermill": {
     "duration": 0.040212,
     "end_time": "2021-09-18T12:11:20.847307",
     "exception": false,
     "start_time": "2021-09-18T12:11:20.807095",
     "status": "completed"
    },
    "tags": []
   },
   "outputs": [],
   "source": [
    "#hide\n",
    "#delete problematic countries from table\n",
    "df_table = df_table[~df_table['Country/Region'].isin(['Cape Verde', 'Cruise Ship', 'Kosovo'])]"
   ]
  },
  {
   "cell_type": "code",
   "execution_count": 15,
   "id": "fantastic-effect",
   "metadata": {
    "execution": {
     "iopub.execute_input": "2021-09-18T12:11:20.925168Z",
     "iopub.status.busy": "2021-09-18T12:11:20.923911Z",
     "iopub.status.idle": "2021-09-18T12:11:20.942368Z",
     "shell.execute_reply": "2021-09-18T12:11:20.942778Z"
    },
    "papermill": {
     "duration": 0.06295,
     "end_time": "2021-09-18T12:11:20.942931",
     "exception": false,
     "start_time": "2021-09-18T12:11:20.879981",
     "status": "completed"
    },
    "tags": []
   },
   "outputs": [
    {
     "data": {
      "text/html": [
       "<div>\n",
       "<style scoped>\n",
       "    .dataframe tbody tr th:only-of-type {\n",
       "        vertical-align: middle;\n",
       "    }\n",
       "\n",
       "    .dataframe tbody tr th {\n",
       "        vertical-align: top;\n",
       "    }\n",
       "\n",
       "    .dataframe thead th {\n",
       "        text-align: right;\n",
       "    }\n",
       "</style>\n",
       "<table border=\"1\" class=\"dataframe\">\n",
       "  <thead>\n",
       "    <tr style=\"text-align: right;\">\n",
       "      <th></th>\n",
       "      <th>Country/Region</th>\n",
       "      <th>Cases</th>\n",
       "      <th>Deaths</th>\n",
       "      <th>PCases</th>\n",
       "      <th>PDeaths</th>\n",
       "      <th>Cases (+)</th>\n",
       "      <th>Deaths (+)</th>\n",
       "      <th>Fatality Rate</th>\n",
       "      <th>Continent</th>\n",
       "    </tr>\n",
       "  </thead>\n",
       "  <tbody>\n",
       "    <tr>\n",
       "      <th>0</th>\n",
       "      <td>US</td>\n",
       "      <td>41993789</td>\n",
       "      <td>672635</td>\n",
       "      <td>41785903</td>\n",
       "      <td>670000</td>\n",
       "      <td>207886</td>\n",
       "      <td>2635</td>\n",
       "      <td>1.6</td>\n",
       "      <td>North America</td>\n",
       "    </tr>\n",
       "    <tr>\n",
       "      <th>1</th>\n",
       "      <td>India</td>\n",
       "      <td>33417390</td>\n",
       "      <td>444529</td>\n",
       "      <td>33381728</td>\n",
       "      <td>444248</td>\n",
       "      <td>35662</td>\n",
       "      <td>281</td>\n",
       "      <td>1.3</td>\n",
       "      <td>Asia</td>\n",
       "    </tr>\n",
       "    <tr>\n",
       "      <th>2</th>\n",
       "      <td>Brazil</td>\n",
       "      <td>21080219</td>\n",
       "      <td>589573</td>\n",
       "      <td>21069017</td>\n",
       "      <td>589246</td>\n",
       "      <td>11202</td>\n",
       "      <td>327</td>\n",
       "      <td>2.8</td>\n",
       "      <td>South America</td>\n",
       "    </tr>\n",
       "    <tr>\n",
       "      <th>3</th>\n",
       "      <td>United Kingdom</td>\n",
       "      <td>7406017</td>\n",
       "      <td>135314</td>\n",
       "      <td>7373451</td>\n",
       "      <td>135134</td>\n",
       "      <td>32566</td>\n",
       "      <td>180</td>\n",
       "      <td>1.8</td>\n",
       "      <td>Europe</td>\n",
       "    </tr>\n",
       "    <tr>\n",
       "      <th>4</th>\n",
       "      <td>Russia</td>\n",
       "      <td>7130245</td>\n",
       "      <td>193111</td>\n",
       "      <td>7110656</td>\n",
       "      <td>192340</td>\n",
       "      <td>19589</td>\n",
       "      <td>771</td>\n",
       "      <td>2.7</td>\n",
       "      <td>Europe</td>\n",
       "    </tr>\n",
       "  </tbody>\n",
       "</table>\n",
       "</div>"
      ],
      "text/plain": [
       "   Country/Region     Cases  Deaths    PCases  PDeaths  Cases (+)  Deaths (+)  \\\n",
       "0              US  41993789  672635  41785903   670000     207886        2635   \n",
       "1           India  33417390  444529  33381728   444248      35662         281   \n",
       "2          Brazil  21080219  589573  21069017   589246      11202         327   \n",
       "3  United Kingdom   7406017  135314   7373451   135134      32566         180   \n",
       "4          Russia   7130245  193111   7110656   192340      19589         771   \n",
       "\n",
       "   Fatality Rate      Continent  \n",
       "0            1.6  North America  \n",
       "1            1.3           Asia  \n",
       "2            2.8  South America  \n",
       "3            1.8         Europe  \n",
       "4            2.7         Europe  "
      ]
     },
     "execution_count": 15,
     "metadata": {},
     "output_type": "execute_result"
    }
   ],
   "source": [
    "#hide\n",
    "df_table = (pd.DataFrame(dict(Cases=dfc_cases, Deaths=dfc_deaths, PCases=dfp_cases, PDeaths=dfp_deaths))\n",
    "             .sort_values(by=['Cases', 'Deaths'], ascending=[False, False])\n",
    "             .reset_index())\n",
    "df_table.rename(columns={'index': 'Country/Region'}, inplace=True)\n",
    "for c in 'Cases, Deaths'.split(', '):\n",
    "    df_table[f'{c} (+)'] = (df_table[c] - df_table[f'P{c}']).clip(0)  # DATA BUG\n",
    "df_table['Fatality Rate'] = (100 * df_table['Deaths'] / df_table['Cases']).round(1)\n",
    "df_table['Continent'] = df_table['Country/Region'].map(mapping['map.continent'])\n",
    "df_table.head(5)"
   ]
  },
  {
   "cell_type": "code",
   "execution_count": 16,
   "id": "fewer-occasion",
   "metadata": {
    "execution": {
     "iopub.execute_input": "2021-09-18T12:11:21.012941Z",
     "iopub.status.busy": "2021-09-18T12:11:21.012407Z",
     "iopub.status.idle": "2021-09-18T12:11:21.014153Z",
     "shell.execute_reply": "2021-09-18T12:11:21.014643Z"
    },
    "papermill": {
     "duration": 0.039611,
     "end_time": "2021-09-18T12:11:21.014775",
     "exception": false,
     "start_time": "2021-09-18T12:11:20.975164",
     "status": "completed"
    },
    "tags": []
   },
   "outputs": [],
   "source": [
    "#hide\n",
    "#delete problematic countries from table\n",
    "df_table = df_table[~df_table['Country/Region'].isin(['Cape Verde', 'Cruise Ship', 'Kosovo'])]"
   ]
  },
  {
   "cell_type": "code",
   "execution_count": 17,
   "id": "related-center",
   "metadata": {
    "execution": {
     "iopub.execute_input": "2021-09-18T12:11:21.089046Z",
     "iopub.status.busy": "2021-09-18T12:11:21.088435Z",
     "iopub.status.idle": "2021-09-18T12:11:21.101672Z",
     "shell.execute_reply": "2021-09-18T12:11:21.101173Z"
    },
    "papermill": {
     "duration": 0.054649,
     "end_time": "2021-09-18T12:11:21.101792",
     "exception": false,
     "start_time": "2021-09-18T12:11:21.047143",
     "status": "completed"
    },
    "tags": []
   },
   "outputs": [],
   "source": [
    "#hide\n",
    "metrics = [df_table.columns[index] for index in [1,2,5,6]]\n",
    "# s_china = df_table[df_table['Country/Region'].eq('China')][metrics].sum().add_prefix('China ')\n",
    "s_us = df_table[df_table['Country/Region'].eq('US')][metrics].sum().add_prefix('US ')\n",
    "s_eu = df_table[df_table['Continent'].eq('Europe')][metrics].sum().add_prefix('EU ')\n",
    "s_ind = df_table[df_table['Country/Region'].eq('India')][metrics].sum().add_prefix('India ')\n",
    "summary = {'updated': pd.to_datetime(dt_today), 'since': pd.to_datetime(dt_yday)}\n",
    "summary = {'updated': pd.to_datetime(dt_today), 'since': pd.to_datetime(dt_yday)}\n",
    "summary = {**summary, **df_table[metrics].sum(), **s_ind, **s_us, **s_eu}"
   ]
  },
  {
   "cell_type": "code",
   "execution_count": 18,
   "id": "engaging-syndrome",
   "metadata": {
    "execution": {
     "iopub.execute_input": "2021-09-18T12:11:21.177071Z",
     "iopub.status.busy": "2021-09-18T12:11:21.176452Z",
     "iopub.status.idle": "2021-09-18T12:11:21.191961Z",
     "shell.execute_reply": "2021-09-18T12:11:21.191472Z"
    },
    "papermill": {
     "duration": 0.056453,
     "end_time": "2021-09-18T12:11:21.192077",
     "exception": false,
     "start_time": "2021-09-18T12:11:21.135624",
     "status": "completed"
    },
    "tags": []
   },
   "outputs": [],
   "source": [
    "#hide\n",
    "dft_ct_new_cases = dft_cases.groupby(COL_REGION)[dt_cols].sum().diff(axis=1).fillna(0).astype(int)"
   ]
  },
  {
   "cell_type": "code",
   "execution_count": 19,
   "id": "neutral-assignment",
   "metadata": {
    "execution": {
     "iopub.execute_input": "2021-09-18T12:11:21.265203Z",
     "iopub.status.busy": "2021-09-18T12:11:21.264639Z",
     "iopub.status.idle": "2021-09-18T12:11:21.270295Z",
     "shell.execute_reply": "2021-09-18T12:11:21.269858Z"
    },
    "papermill": {
     "duration": 0.044041,
     "end_time": "2021-09-18T12:11:21.270408",
     "exception": false,
     "start_time": "2021-09-18T12:11:21.226367",
     "status": "completed"
    },
    "tags": []
   },
   "outputs": [],
   "source": [
    "#hide\n",
    "everydaycases = dft_ct_new_cases.cumsum(axis=1)"
   ]
  },
  {
   "cell_type": "code",
   "execution_count": 20,
   "id": "parliamentary-calgary",
   "metadata": {
    "execution": {
     "iopub.execute_input": "2021-09-18T12:11:21.343088Z",
     "iopub.status.busy": "2021-09-18T12:11:21.342504Z",
     "iopub.status.idle": "2021-09-18T12:11:22.010877Z",
     "shell.execute_reply": "2021-09-18T12:11:22.009933Z"
    },
    "papermill": {
     "duration": 0.70665,
     "end_time": "2021-09-18T12:11:22.011009",
     "exception": false,
     "start_time": "2021-09-18T12:11:21.304359",
     "status": "completed"
    },
    "tags": []
   },
   "outputs": [],
   "source": [
    "#hide\n",
    "import pandas as pd\n",
    "import matplotlib.pyplot as plt\n",
    "import matplotlib.ticker as ticker\n",
    "import matplotlib.animation as animation\n",
    "from IPython.display import HTML"
   ]
  },
  {
   "cell_type": "code",
   "execution_count": 21,
   "id": "lasting-extraction",
   "metadata": {
    "execution": {
     "iopub.execute_input": "2021-09-18T12:11:22.085973Z",
     "iopub.status.busy": "2021-09-18T12:11:22.085366Z",
     "iopub.status.idle": "2021-09-18T12:11:22.094103Z",
     "shell.execute_reply": "2021-09-18T12:11:22.094576Z"
    },
    "papermill": {
     "duration": 0.049659,
     "end_time": "2021-09-18T12:11:22.094722",
     "exception": false,
     "start_time": "2021-09-18T12:11:22.045063",
     "status": "completed"
    },
    "tags": []
   },
   "outputs": [],
   "source": [
    "#hide\n",
    "t = everydaycases.stack()"
   ]
  },
  {
   "cell_type": "code",
   "execution_count": 22,
   "id": "premier-sleeve",
   "metadata": {
    "execution": {
     "iopub.execute_input": "2021-09-18T12:11:22.168258Z",
     "iopub.status.busy": "2021-09-18T12:11:22.167664Z",
     "iopub.status.idle": "2021-09-18T12:11:22.177947Z",
     "shell.execute_reply": "2021-09-18T12:11:22.177470Z"
    },
    "papermill": {
     "duration": 0.049282,
     "end_time": "2021-09-18T12:11:22.178072",
     "exception": false,
     "start_time": "2021-09-18T12:11:22.128790",
     "status": "completed"
    },
    "tags": []
   },
   "outputs": [],
   "source": [
    "#hide\n",
    "g = t.reset_index(['Country/Region'])"
   ]
  },
  {
   "cell_type": "code",
   "execution_count": 23,
   "id": "distributed-pittsburgh",
   "metadata": {
    "execution": {
     "iopub.execute_input": "2021-09-18T12:11:22.251998Z",
     "iopub.status.busy": "2021-09-18T12:11:22.251398Z",
     "iopub.status.idle": "2021-09-18T12:11:22.254917Z",
     "shell.execute_reply": "2021-09-18T12:11:22.254436Z"
    },
    "papermill": {
     "duration": 0.043602,
     "end_time": "2021-09-18T12:11:22.255040",
     "exception": false,
     "start_time": "2021-09-18T12:11:22.211438",
     "status": "completed"
    },
    "tags": []
   },
   "outputs": [],
   "source": [
    "#hide\n",
    "g.index.name = 'date'"
   ]
  },
  {
   "cell_type": "code",
   "execution_count": 24,
   "id": "naked-donor",
   "metadata": {
    "execution": {
     "iopub.execute_input": "2021-09-18T12:11:22.328816Z",
     "iopub.status.busy": "2021-09-18T12:11:22.328226Z",
     "iopub.status.idle": "2021-09-18T12:11:22.331285Z",
     "shell.execute_reply": "2021-09-18T12:11:22.331836Z"
    },
    "papermill": {
     "duration": 0.042409,
     "end_time": "2021-09-18T12:11:22.331971",
     "exception": false,
     "start_time": "2021-09-18T12:11:22.289562",
     "status": "completed"
    },
    "tags": []
   },
   "outputs": [],
   "source": [
    "# #hide\n",
    "# g = g.reset_index(['date'])"
   ]
  },
  {
   "cell_type": "code",
   "execution_count": 25,
   "id": "incomplete-mustang",
   "metadata": {
    "execution": {
     "iopub.execute_input": "2021-09-18T12:11:22.405308Z",
     "iopub.status.busy": "2021-09-18T12:11:22.404655Z",
     "iopub.status.idle": "2021-09-18T12:11:22.406899Z",
     "shell.execute_reply": "2021-09-18T12:11:22.406319Z"
    },
    "papermill": {
     "duration": 0.040469,
     "end_time": "2021-09-18T12:11:22.407019",
     "exception": false,
     "start_time": "2021-09-18T12:11:22.366550",
     "status": "completed"
    },
    "tags": []
   },
   "outputs": [],
   "source": [
    "#hide\n",
    "# g.head()"
   ]
  },
  {
   "cell_type": "code",
   "execution_count": 26,
   "id": "specific-kruger",
   "metadata": {
    "execution": {
     "iopub.execute_input": "2021-09-18T12:11:22.481153Z",
     "iopub.status.busy": "2021-09-18T12:11:22.480492Z",
     "iopub.status.idle": "2021-09-18T12:11:22.482742Z",
     "shell.execute_reply": "2021-09-18T12:11:22.483240Z"
    },
    "papermill": {
     "duration": 0.041756,
     "end_time": "2021-09-18T12:11:22.483386",
     "exception": false,
     "start_time": "2021-09-18T12:11:22.441630",
     "status": "completed"
    },
    "tags": []
   },
   "outputs": [],
   "source": [
    "#hide\n",
    "# g.columns = ['date','country','cases']"
   ]
  },
  {
   "cell_type": "code",
   "execution_count": 27,
   "id": "tender-conversion",
   "metadata": {
    "execution": {
     "iopub.execute_input": "2021-09-18T12:11:22.557456Z",
     "iopub.status.busy": "2021-09-18T12:11:22.556832Z",
     "iopub.status.idle": "2021-09-18T12:11:22.559005Z",
     "shell.execute_reply": "2021-09-18T12:11:22.558429Z"
    },
    "papermill": {
     "duration": 0.041091,
     "end_time": "2021-09-18T12:11:22.559125",
     "exception": false,
     "start_time": "2021-09-18T12:11:22.518034",
     "status": "completed"
    },
    "tags": []
   },
   "outputs": [],
   "source": [
    "#hide\n",
    "# g['continent'] = g.country"
   ]
  },
  {
   "cell_type": "code",
   "execution_count": 28,
   "id": "substantial-wilderness",
   "metadata": {
    "execution": {
     "iopub.execute_input": "2021-09-18T12:11:22.631560Z",
     "iopub.status.busy": "2021-09-18T12:11:22.630971Z",
     "iopub.status.idle": "2021-09-18T12:11:22.633856Z",
     "shell.execute_reply": "2021-09-18T12:11:22.632647Z"
    },
    "papermill": {
     "duration": 0.040316,
     "end_time": "2021-09-18T12:11:22.633978",
     "exception": false,
     "start_time": "2021-09-18T12:11:22.593662",
     "status": "completed"
    },
    "tags": []
   },
   "outputs": [],
   "source": [
    "#hide\n",
    "# cols = list(g.columns.values)"
   ]
  },
  {
   "cell_type": "code",
   "execution_count": 29,
   "id": "solved-farming",
   "metadata": {
    "execution": {
     "iopub.execute_input": "2021-09-18T12:11:22.706498Z",
     "iopub.status.busy": "2021-09-18T12:11:22.705914Z",
     "iopub.status.idle": "2021-09-18T12:11:22.708152Z",
     "shell.execute_reply": "2021-09-18T12:11:22.707664Z"
    },
    "papermill": {
     "duration": 0.039965,
     "end_time": "2021-09-18T12:11:22.708271",
     "exception": false,
     "start_time": "2021-09-18T12:11:22.668306",
     "status": "completed"
    },
    "tags": []
   },
   "outputs": [],
   "source": [
    "#hide\n",
    "# cols.insert(0, cols.pop())"
   ]
  },
  {
   "cell_type": "code",
   "execution_count": 30,
   "id": "executed-adoption",
   "metadata": {
    "execution": {
     "iopub.execute_input": "2021-09-18T12:11:22.781558Z",
     "iopub.status.busy": "2021-09-18T12:11:22.780932Z",
     "iopub.status.idle": "2021-09-18T12:11:22.783084Z",
     "shell.execute_reply": "2021-09-18T12:11:22.782598Z"
    },
    "papermill": {
     "duration": 0.04018,
     "end_time": "2021-09-18T12:11:22.783200",
     "exception": false,
     "start_time": "2021-09-18T12:11:22.743020",
     "status": "completed"
    },
    "tags": []
   },
   "outputs": [],
   "source": [
    "#hide\n",
    "# g = g[cols]"
   ]
  },
  {
   "cell_type": "code",
   "execution_count": 31,
   "id": "subject-dublin",
   "metadata": {
    "execution": {
     "iopub.execute_input": "2021-09-18T12:11:22.855419Z",
     "iopub.status.busy": "2021-09-18T12:11:22.854842Z",
     "iopub.status.idle": "2021-09-18T12:11:22.857518Z",
     "shell.execute_reply": "2021-09-18T12:11:22.858036Z"
    },
    "papermill": {
     "duration": 0.040673,
     "end_time": "2021-09-18T12:11:22.858165",
     "exception": false,
     "start_time": "2021-09-18T12:11:22.817492",
     "status": "completed"
    },
    "tags": []
   },
   "outputs": [],
   "source": [
    "#hide\n",
    "# g['continent'] = g['continent'].map(mapping['map.continent'])"
   ]
  },
  {
   "cell_type": "code",
   "execution_count": 32,
   "id": "freelance-scout",
   "metadata": {
    "execution": {
     "iopub.execute_input": "2021-09-18T12:11:22.929299Z",
     "iopub.status.busy": "2021-09-18T12:11:22.928687Z",
     "iopub.status.idle": "2021-09-18T12:11:22.932028Z",
     "shell.execute_reply": "2021-09-18T12:11:22.931564Z"
    },
    "papermill": {
     "duration": 0.040963,
     "end_time": "2021-09-18T12:11:22.932148",
     "exception": false,
     "start_time": "2021-09-18T12:11:22.891185",
     "status": "completed"
    },
    "tags": []
   },
   "outputs": [],
   "source": [
    "#hide\n",
    "# g.head()"
   ]
  },
  {
   "cell_type": "code",
   "execution_count": 33,
   "id": "limited-engine",
   "metadata": {
    "execution": {
     "iopub.execute_input": "2021-09-18T12:11:23.003807Z",
     "iopub.status.busy": "2021-09-18T12:11:23.003223Z",
     "iopub.status.idle": "2021-09-18T12:11:23.005026Z",
     "shell.execute_reply": "2021-09-18T12:11:23.005476Z"
    },
    "papermill": {
     "duration": 0.039313,
     "end_time": "2021-09-18T12:11:23.005616",
     "exception": false,
     "start_time": "2021-09-18T12:11:22.966303",
     "status": "completed"
    },
    "tags": []
   },
   "outputs": [],
   "source": [
    "# hide\n",
    "# g['date'] = g['date'].astype('datetime64[ns]')"
   ]
  },
  {
   "cell_type": "code",
   "execution_count": 34,
   "id": "sophisticated-supervisor",
   "metadata": {
    "execution": {
     "iopub.execute_input": "2021-09-18T12:11:23.076127Z",
     "iopub.status.busy": "2021-09-18T12:11:23.075549Z",
     "iopub.status.idle": "2021-09-18T12:11:23.079767Z",
     "shell.execute_reply": "2021-09-18T12:11:23.080235Z"
    },
    "papermill": {
     "duration": 0.041293,
     "end_time": "2021-09-18T12:11:23.080371",
     "exception": false,
     "start_time": "2021-09-18T12:11:23.039078",
     "status": "completed"
    },
    "tags": []
   },
   "outputs": [],
   "source": [
    "#hide\n",
    "# g['date'] = g.date.dt.dayofyear"
   ]
  },
  {
   "cell_type": "code",
   "execution_count": 35,
   "id": "inside-dubai",
   "metadata": {
    "execution": {
     "iopub.execute_input": "2021-09-18T12:11:23.151756Z",
     "iopub.status.busy": "2021-09-18T12:11:23.151172Z",
     "iopub.status.idle": "2021-09-18T12:11:23.153986Z",
     "shell.execute_reply": "2021-09-18T12:11:23.153517Z"
    },
    "papermill": {
     "duration": 0.040378,
     "end_time": "2021-09-18T12:11:23.154107",
     "exception": false,
     "start_time": "2021-09-18T12:11:23.113729",
     "status": "completed"
    },
    "tags": []
   },
   "outputs": [],
   "source": [
    "#hide\n",
    "# g = g.rename(columns= {'continent':'group','country':'name','cases':'value'})"
   ]
  },
  {
   "cell_type": "code",
   "execution_count": 36,
   "id": "fleet-motorcycle",
   "metadata": {
    "execution": {
     "iopub.execute_input": "2021-09-18T12:11:23.226813Z",
     "iopub.status.busy": "2021-09-18T12:11:23.226232Z",
     "iopub.status.idle": "2021-09-18T12:11:23.228052Z",
     "shell.execute_reply": "2021-09-18T12:11:23.228549Z"
    },
    "papermill": {
     "duration": 0.040008,
     "end_time": "2021-09-18T12:11:23.228710",
     "exception": false,
     "start_time": "2021-09-18T12:11:23.188702",
     "status": "completed"
    },
    "tags": []
   },
   "outputs": [],
   "source": [
    "#hide\n",
    "# cols = ['name','group','day','value']"
   ]
  },
  {
   "cell_type": "code",
   "execution_count": 37,
   "id": "continued-sleeping",
   "metadata": {
    "execution": {
     "iopub.execute_input": "2021-09-18T12:11:23.302288Z",
     "iopub.status.busy": "2021-09-18T12:11:23.301696Z",
     "iopub.status.idle": "2021-09-18T12:11:23.304094Z",
     "shell.execute_reply": "2021-09-18T12:11:23.304649Z"
    },
    "papermill": {
     "duration": 0.042135,
     "end_time": "2021-09-18T12:11:23.304791",
     "exception": false,
     "start_time": "2021-09-18T12:11:23.262656",
     "status": "completed"
    },
    "tags": []
   },
   "outputs": [],
   "source": [
    "#hide\n",
    "# g.rename(columns= {'date':'day'},inplace = True)"
   ]
  },
  {
   "cell_type": "code",
   "execution_count": 38,
   "id": "major-fight",
   "metadata": {
    "execution": {
     "iopub.execute_input": "2021-09-18T12:11:23.377245Z",
     "iopub.status.busy": "2021-09-18T12:11:23.376671Z",
     "iopub.status.idle": "2021-09-18T12:11:23.378885Z",
     "shell.execute_reply": "2021-09-18T12:11:23.378397Z"
    },
    "papermill": {
     "duration": 0.039671,
     "end_time": "2021-09-18T12:11:23.379003",
     "exception": false,
     "start_time": "2021-09-18T12:11:23.339332",
     "status": "completed"
    },
    "tags": []
   },
   "outputs": [],
   "source": [
    "#hide\n",
    "# g = g[cols]"
   ]
  },
  {
   "cell_type": "code",
   "execution_count": 39,
   "id": "structured-mobile",
   "metadata": {
    "execution": {
     "iopub.execute_input": "2021-09-18T12:11:23.448503Z",
     "iopub.status.busy": "2021-09-18T12:11:23.447920Z",
     "iopub.status.idle": "2021-09-18T12:11:23.450689Z",
     "shell.execute_reply": "2021-09-18T12:11:23.450216Z"
    },
    "papermill": {
     "duration": 0.039354,
     "end_time": "2021-09-18T12:11:23.450806",
     "exception": false,
     "start_time": "2021-09-18T12:11:23.411452",
     "status": "completed"
    },
    "tags": []
   },
   "outputs": [],
   "source": [
    "# #hide\n",
    "# g = g[g.group.notna()]"
   ]
  },
  {
   "cell_type": "code",
   "execution_count": 40,
   "id": "determined-closing",
   "metadata": {
    "execution": {
     "iopub.execute_input": "2021-09-18T12:11:23.523100Z",
     "iopub.status.busy": "2021-09-18T12:11:23.522497Z",
     "iopub.status.idle": "2021-09-18T12:11:23.526394Z",
     "shell.execute_reply": "2021-09-18T12:11:23.525904Z"
    },
    "papermill": {
     "duration": 0.041897,
     "end_time": "2021-09-18T12:11:23.526522",
     "exception": false,
     "start_time": "2021-09-18T12:11:23.484625",
     "status": "completed"
    },
    "tags": []
   },
   "outputs": [],
   "source": [
    "# #hide\n",
    "# colors = dict(zip(\n",
    "#     [\"Oceania\", \"Europe\", \"Asia\", \"South America\", \"Middle East\", \"North America\", \"Africa\"],\n",
    "#     [\"#adb0ff\", \"#ffb3ff\", \"#90d595\", \"#e48381\", \"#aafbff\", \"#f7bb5f\", \"#eafb50\"]\n",
    "# ))\n",
    "# group_lk = g.set_index('name')['group'].to_dict()"
   ]
  },
  {
   "cell_type": "code",
   "execution_count": null,
   "id": "gross-drinking",
   "metadata": {
    "papermill": {
     "duration": 0.033342,
     "end_time": "2021-09-18T12:11:23.593442",
     "exception": false,
     "start_time": "2021-09-18T12:11:23.560100",
     "status": "completed"
    },
    "tags": []
   },
   "outputs": [],
   "source": []
  },
  {
   "cell_type": "code",
   "execution_count": 41,
   "id": "subject-macintosh",
   "metadata": {
    "execution": {
     "iopub.execute_input": "2021-09-18T12:11:23.667310Z",
     "iopub.status.busy": "2021-09-18T12:11:23.666696Z",
     "iopub.status.idle": "2021-09-18T12:11:23.668973Z",
     "shell.execute_reply": "2021-09-18T12:11:23.669576Z"
    },
    "papermill": {
     "duration": 0.041952,
     "end_time": "2021-09-18T12:11:23.669709",
     "exception": false,
     "start_time": "2021-09-18T12:11:23.627757",
     "status": "completed"
    },
    "tags": []
   },
   "outputs": [],
   "source": [
    "# #hide\n",
    "# fig, ax = plt.subplots(figsize=(15, 8))\n",
    "\n",
    "# def draw_barchart(current_day):\n",
    "#     dff = g[g['day'].eq(current_day)].sort_values(by='value', ascending=True).tail(10)\n",
    "#     ax.clear()\n",
    "#     ax.barh(dff['name'], dff['value'], color=[colors[group_lk[x]] for x in dff['name']])\n",
    "#     dx = dff['value'].max() / 200\n",
    "    \n",
    "#     for i, (value, name) in enumerate(zip(dff['value'], dff['name'])):\n",
    "#         ax.text(value-dx, i,     name,           size=14, weight=600, ha='right', va='bottom')\n",
    "#         ax.text(value-dx, i-.25, group_lk[name], size=10, color='#444444', ha='right', va='baseline')\n",
    "#         ax.text(value+dx, i,     f'{value:,.0f}',  size=14, ha='left',  va='center')\n",
    "#     ax.text(1, 0.4, current_day, transform=ax.transAxes, color='#777777', size=46, ha='right', weight=800)\n",
    "#     ax.text(0, 1.06, 'Population (thousands)', transform=ax.transAxes, size=12, color='#777777')\n",
    "#     ax.xaxis.set_major_formatter(ticker.StrMethodFormatter('{x:,.0f}'))\n",
    "#     ax.xaxis.set_ticks_position('top')\n",
    "#     ax.tick_params(axis='x', colors='#777777', labelsize=12)\n",
    "#     ax.set_yticks([])\n",
    "#     ax.margins(0, 0.01)\n",
    "#     ax.grid(which='major', axis='x', linestyle='-')\n",
    "#     ax.set_axisbelow(True)\n",
    "    \n",
    "#     ax.text(0, 1.15, 'Coronavirus',\n",
    "#             transform=ax.transAxes, size=24, weight=600, ha='left', va='top')\n",
    "# #     ax.text(1, 0, 'by @pratapvardhan; credit @jburnmurdoch', transform=ax.transAxes, color='#777777', ha='right',\n",
    "# #             bbox=dict(facecolor='white', alpha=0.8, edgecolor='white'))\n",
    "#     plt.box(False)"
   ]
  },
  {
   "cell_type": "code",
   "execution_count": 42,
   "id": "sexual-wages",
   "metadata": {
    "execution": {
     "iopub.execute_input": "2021-09-18T12:11:23.741718Z",
     "iopub.status.busy": "2021-09-18T12:11:23.741130Z",
     "iopub.status.idle": "2021-09-18T12:11:23.743566Z",
     "shell.execute_reply": "2021-09-18T12:11:23.744059Z"
    },
    "papermill": {
     "duration": 0.040917,
     "end_time": "2021-09-18T12:11:23.744195",
     "exception": false,
     "start_time": "2021-09-18T12:11:23.703278",
     "status": "completed"
    },
    "tags": []
   },
   "outputs": [],
   "source": [
    "# #hide_input\n",
    "# fig, ax = plt.subplots(figsize=(15, 8))\n",
    "# animator = animation.FuncAnimation(fig, draw_barchart, frames=range(g.day.values.min(), g.day.values.max()))\n",
    "# HTML(animator.to_jshtml())\n",
    "# # or use animator.to_html5_video() or animator.save() "
   ]
  },
  {
   "cell_type": "code",
   "execution_count": null,
   "id": "australian-container",
   "metadata": {
    "papermill": {
     "duration": 0.033831,
     "end_time": "2021-09-18T12:11:23.811952",
     "exception": false,
     "start_time": "2021-09-18T12:11:23.778121",
     "status": "completed"
    },
    "tags": []
   },
   "outputs": [],
   "source": []
  },
  {
   "cell_type": "code",
   "execution_count": null,
   "id": "mediterranean-pontiac",
   "metadata": {
    "papermill": {
     "duration": 0.034322,
     "end_time": "2021-09-18T12:11:23.880183",
     "exception": false,
     "start_time": "2021-09-18T12:11:23.845861",
     "status": "completed"
    },
    "tags": []
   },
   "outputs": [],
   "source": []
  },
  {
   "cell_type": "code",
   "execution_count": null,
   "id": "aging-legislature",
   "metadata": {
    "papermill": {
     "duration": 0.033895,
     "end_time": "2021-09-18T12:11:23.948478",
     "exception": false,
     "start_time": "2021-09-18T12:11:23.914583",
     "status": "completed"
    },
    "tags": []
   },
   "outputs": [],
   "source": []
  }
 ],
 "metadata": {
  "kernelspec": {
   "display_name": "Python 3",
   "language": "python",
   "name": "python3"
  },
  "language_info": {
   "codemirror_mode": {
    "name": "ipython",
    "version": 3
   },
   "file_extension": ".py",
   "mimetype": "text/x-python",
   "name": "python",
   "nbconvert_exporter": "python",
   "pygments_lexer": "ipython3",
   "version": "3.6.15"
  },
  "papermill": {
   "duration": 6.41075,
   "end_time": "2021-09-18T12:11:24.289933",
   "environment_variables": {},
   "exception": null,
   "input_path": "2020-03-21-covid19exp.ipynb",
   "output_path": "2020-03-21-covid19exp.ipynb",
   "parameters": {},
   "start_time": "2021-09-18T12:11:17.879183",
   "version": "2.0.0"
  }
 },
 "nbformat": 4,
 "nbformat_minor": 5
}