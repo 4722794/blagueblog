{
 "cells": [
  {
   "cell_type": "markdown",
   "id": "muslim-click",
   "metadata": {
    "papermill": {
     "duration": 0.0358,
     "end_time": "2021-03-21T12:11:51.225534",
     "exception": false,
     "start_time": "2021-03-21T12:11:51.189734",
     "status": "completed"
    },
    "tags": []
   },
   "source": [
    "# COVID-19 Case Race\n",
    "> A race chart to see rising cases around the world\n",
    "\n",
    "- author: Hargun Oberoi\n",
    "- image: images/covid-overview.png\n",
    "- hide: false\n",
    "- badges: false"
   ]
  },
  {
   "cell_type": "code",
   "execution_count": 1,
   "id": "proof-material",
   "metadata": {
    "execution": {
     "iopub.execute_input": "2021-03-21T12:11:51.301786Z",
     "iopub.status.busy": "2021-03-21T12:11:51.301183Z",
     "iopub.status.idle": "2021-03-21T12:11:51.606705Z",
     "shell.execute_reply": "2021-03-21T12:11:51.606007Z"
    },
    "papermill": {
     "duration": 0.349458,
     "end_time": "2021-03-21T12:11:51.606838",
     "exception": false,
     "start_time": "2021-03-21T12:11:51.257380",
     "status": "completed"
    },
    "tags": []
   },
   "outputs": [],
   "source": [
    "#hide\n",
    "import numpy as np\n",
    "import pandas as pd\n",
    "from jinja2 import Template\n",
    "from IPython.display import HTML"
   ]
  },
  {
   "cell_type": "code",
   "execution_count": 2,
   "id": "developed-terminology",
   "metadata": {
    "execution": {
     "iopub.execute_input": "2021-03-21T12:11:51.672828Z",
     "iopub.status.busy": "2021-03-21T12:11:51.672219Z",
     "iopub.status.idle": "2021-03-21T12:11:51.674688Z",
     "shell.execute_reply": "2021-03-21T12:11:51.674260Z"
    },
    "papermill": {
     "duration": 0.035917,
     "end_time": "2021-03-21T12:11:51.674789",
     "exception": false,
     "start_time": "2021-03-21T12:11:51.638872",
     "status": "completed"
    },
    "tags": []
   },
   "outputs": [],
   "source": [
    "#hide\n",
    "\n",
    "# FETCH\n",
    "base_url = 'https://raw.githubusercontent.com/pratapvardhan/notebooks/master/covid19/'\n",
    "paths = {\n",
    "    'mapping': base_url + 'mapping_countries.csv',\n",
    "    'overview': base_url + 'overview.tpl'\n",
    "}"
   ]
  },
  {
   "cell_type": "code",
   "execution_count": 3,
   "id": "dynamic-saver",
   "metadata": {
    "execution": {
     "iopub.execute_input": "2021-03-21T12:11:51.747324Z",
     "iopub.status.busy": "2021-03-21T12:11:51.746775Z",
     "iopub.status.idle": "2021-03-21T12:11:51.755092Z",
     "shell.execute_reply": "2021-03-21T12:11:51.755625Z"
    },
    "papermill": {
     "duration": 0.051045,
     "end_time": "2021-03-21T12:11:51.755741",
     "exception": false,
     "start_time": "2021-03-21T12:11:51.704696",
     "status": "completed"
    },
    "tags": []
   },
   "outputs": [
    {
     "data": {
      "text/plain": [
       "'https://raw.githubusercontent.com/pratapvardhan/notebooks/master/covid19/mapping_countries.csv'"
      ]
     },
     "execution_count": 3,
     "metadata": {},
     "output_type": "execute_result"
    }
   ],
   "source": [
    "#hide\n",
    "paths['mapping']"
   ]
  },
  {
   "cell_type": "code",
   "execution_count": 4,
   "id": "urban-software",
   "metadata": {
    "execution": {
     "iopub.execute_input": "2021-03-21T12:11:51.828157Z",
     "iopub.status.busy": "2021-03-21T12:11:51.827451Z",
     "iopub.status.idle": "2021-03-21T12:11:51.830310Z",
     "shell.execute_reply": "2021-03-21T12:11:51.829851Z"
    },
    "papermill": {
     "duration": 0.041963,
     "end_time": "2021-03-21T12:11:51.830442",
     "exception": false,
     "start_time": "2021-03-21T12:11:51.788479",
     "status": "completed"
    },
    "tags": []
   },
   "outputs": [],
   "source": [
    "#hide\n",
    "def get_mappings(url):\n",
    "    df = pd.read_csv(url)\n",
    "    return {\n",
    "        'df': df,\n",
    "        'replace.country': dict(df.dropna(subset=['Name']).set_index('Country')['Name']),\n",
    "        'map.continent': dict(df.set_index('Name')['Continent'])\n",
    "    }"
   ]
  },
  {
   "cell_type": "code",
   "execution_count": 5,
   "id": "intimate-machinery",
   "metadata": {
    "execution": {
     "iopub.execute_input": "2021-03-21T12:11:51.895280Z",
     "iopub.status.busy": "2021-03-21T12:11:51.894704Z",
     "iopub.status.idle": "2021-03-21T12:11:51.922686Z",
     "shell.execute_reply": "2021-03-21T12:11:51.923306Z"
    },
    "papermill": {
     "duration": 0.062538,
     "end_time": "2021-03-21T12:11:51.923431",
     "exception": false,
     "start_time": "2021-03-21T12:11:51.860893",
     "status": "completed"
    },
    "tags": []
   },
   "outputs": [],
   "source": [
    "#hide\n",
    "mapping = get_mappings(paths['mapping'])"
   ]
  },
  {
   "cell_type": "code",
   "execution_count": 6,
   "id": "certified-tactics",
   "metadata": {
    "execution": {
     "iopub.execute_input": "2021-03-21T12:11:51.991737Z",
     "iopub.status.busy": "2021-03-21T12:11:51.991220Z",
     "iopub.status.idle": "2021-03-21T12:11:51.993128Z",
     "shell.execute_reply": "2021-03-21T12:11:51.993537Z"
    },
    "papermill": {
     "duration": 0.037233,
     "end_time": "2021-03-21T12:11:51.993655",
     "exception": false,
     "start_time": "2021-03-21T12:11:51.956422",
     "status": "completed"
    },
    "tags": []
   },
   "outputs": [],
   "source": [
    "#hide\n",
    "def get_template(path):\n",
    "    from urllib.parse import urlparse\n",
    "    if bool(urlparse(path).netloc):\n",
    "        from urllib.request import urlopen\n",
    "        return urlopen(path).read().decode('utf8')\n",
    "    return open(path).read()"
   ]
  },
  {
   "cell_type": "code",
   "execution_count": 7,
   "id": "realistic-blast",
   "metadata": {
    "execution": {
     "iopub.execute_input": "2021-03-21T12:11:52.062391Z",
     "iopub.status.busy": "2021-03-21T12:11:52.061748Z",
     "iopub.status.idle": "2021-03-21T12:11:52.064164Z",
     "shell.execute_reply": "2021-03-21T12:11:52.063687Z"
    },
    "papermill": {
     "duration": 0.040913,
     "end_time": "2021-03-21T12:11:52.064276",
     "exception": false,
     "start_time": "2021-03-21T12:11:52.023363",
     "status": "completed"
    },
    "tags": []
   },
   "outputs": [],
   "source": [
    "#hide\n",
    "def get_frame(name):\n",
    "    url = (\n",
    "        'https://raw.githubusercontent.com/CSSEGISandData/COVID-19/master/csse_covid_19_data/'\n",
    "        f'csse_covid_19_time_series/time_series_covid19_{name}_global.csv')\n",
    "    df = pd.read_csv(url)\n",
    "    # rename countries\n",
    "    df['Country/Region'] = df['Country/Region'].replace(mapping['replace.country'])\n",
    "    return df"
   ]
  },
  {
   "cell_type": "code",
   "execution_count": 8,
   "id": "affiliated-characterization",
   "metadata": {
    "execution": {
     "iopub.execute_input": "2021-03-21T12:11:52.132340Z",
     "iopub.status.busy": "2021-03-21T12:11:52.131777Z",
     "iopub.status.idle": "2021-03-21T12:11:52.134008Z",
     "shell.execute_reply": "2021-03-21T12:11:52.134537Z"
    },
    "papermill": {
     "duration": 0.038691,
     "end_time": "2021-03-21T12:11:52.134649",
     "exception": false,
     "start_time": "2021-03-21T12:11:52.095958",
     "status": "completed"
    },
    "tags": []
   },
   "outputs": [],
   "source": [
    "#hide\n",
    "def get_dates(df):\n",
    "    dt_cols = df.columns[~df.columns.isin(['Province/State', 'Country/Region', 'Lat', 'Long'])]\n",
    "    LAST_DATE_I = -1\n",
    "    # sometimes last column may be empty, then go backwards\n",
    "    for i in range(-1, -len(dt_cols), -1):\n",
    "        if not df[dt_cols[i]].fillna(0).eq(0).all():\n",
    "            LAST_DATE_I = i\n",
    "            break\n",
    "    return LAST_DATE_I, dt_cols"
   ]
  },
  {
   "cell_type": "code",
   "execution_count": 9,
   "id": "recent-optimization",
   "metadata": {
    "execution": {
     "iopub.execute_input": "2021-03-21T12:11:52.206729Z",
     "iopub.status.busy": "2021-03-21T12:11:52.206104Z",
     "iopub.status.idle": "2021-03-21T12:11:52.459967Z",
     "shell.execute_reply": "2021-03-21T12:11:52.458842Z"
    },
    "papermill": {
     "duration": 0.292168,
     "end_time": "2021-03-21T12:11:52.460099",
     "exception": false,
     "start_time": "2021-03-21T12:11:52.167931",
     "status": "completed"
    },
    "tags": []
   },
   "outputs": [],
   "source": [
    "#hide\n",
    "COL_REGION = 'Country/Region'\n",
    "# Confirmed, Recovered, Deaths\n",
    "df = get_frame('confirmed')\n",
    "# dft_: timeseries, dfc_: today country agg\n",
    "dft_cases = df\n",
    "dft_deaths = get_frame('deaths')\n",
    "dft_recovered = get_frame('recovered')\n",
    "LAST_DATE_I, dt_cols = get_dates(df)"
   ]
  },
  {
   "cell_type": "code",
   "execution_count": 10,
   "id": "absolute-copper",
   "metadata": {
    "execution": {
     "iopub.execute_input": "2021-03-21T12:11:52.536939Z",
     "iopub.status.busy": "2021-03-21T12:11:52.536351Z",
     "iopub.status.idle": "2021-03-21T12:11:52.538019Z",
     "shell.execute_reply": "2021-03-21T12:11:52.538592Z"
    },
    "papermill": {
     "duration": 0.042222,
     "end_time": "2021-03-21T12:11:52.538735",
     "exception": false,
     "start_time": "2021-03-21T12:11:52.496513",
     "status": "completed"
    },
    "tags": []
   },
   "outputs": [],
   "source": [
    "#hide\n",
    "LAST_DATE_I, dt_cols = get_dates(df)\n",
    "dt_today =dt_cols[LAST_DATE_I]\n",
    "# dt_5day = dt_cols[LAST_DATE_I - 5]\n",
    "dt_yday = dt_cols[LAST_DATE_I - 1]"
   ]
  },
  {
   "cell_type": "code",
   "execution_count": 11,
   "id": "restricted-sheriff",
   "metadata": {
    "execution": {
     "iopub.execute_input": "2021-03-21T12:11:52.625012Z",
     "iopub.status.busy": "2021-03-21T12:11:52.624435Z",
     "iopub.status.idle": "2021-03-21T12:11:52.629837Z",
     "shell.execute_reply": "2021-03-21T12:11:52.630398Z"
    },
    "papermill": {
     "duration": 0.056215,
     "end_time": "2021-03-21T12:11:52.630519",
     "exception": false,
     "start_time": "2021-03-21T12:11:52.574304",
     "status": "completed"
    },
    "tags": []
   },
   "outputs": [],
   "source": [
    "#hide\n",
    "dfc_cases = dft_cases.groupby(COL_REGION)[dt_today].sum()\n",
    "dfc_deaths = dft_deaths.groupby(COL_REGION)[dt_today].sum()\n",
    "# dfp_cases = dft_cases.groupby(COL_REGION)[dt_5day].sum()\n",
    "# dfp_deaths = dft_deaths.groupby(COL_REGION)[dt_5day].sum()\n",
    "dfp_cases = dft_cases.groupby(COL_REGION)[dt_yday].sum()\n",
    "dfp_deaths = dft_deaths.groupby(COL_REGION)[dt_yday].sum()"
   ]
  },
  {
   "cell_type": "code",
   "execution_count": 12,
   "id": "deluxe-hepatitis",
   "metadata": {
    "execution": {
     "iopub.execute_input": "2021-03-21T12:11:52.697512Z",
     "iopub.status.busy": "2021-03-21T12:11:52.696944Z",
     "iopub.status.idle": "2021-03-21T12:11:52.701343Z",
     "shell.execute_reply": "2021-03-21T12:11:52.703082Z"
    },
    "papermill": {
     "duration": 0.04188,
     "end_time": "2021-03-21T12:11:52.703230",
     "exception": false,
     "start_time": "2021-03-21T12:11:52.661350",
     "status": "completed"
    },
    "tags": []
   },
   "outputs": [],
   "source": [
    "#hide\n",
    "df_table = (pd.DataFrame(dict(Cases = dfc_cases, Deaths = dfc_deaths, PCases = dfp_cases, PDeaths = dfp_deaths))\n",
    "            .sort_values(by = ['Cases','Deaths'], ascending = [False, False])\n",
    "            .reset_index())"
   ]
  },
  {
   "cell_type": "code",
   "execution_count": 13,
   "id": "educational-chancellor",
   "metadata": {
    "execution": {
     "iopub.execute_input": "2021-03-21T12:11:52.785012Z",
     "iopub.status.busy": "2021-03-21T12:11:52.784430Z",
     "iopub.status.idle": "2021-03-21T12:11:52.793123Z",
     "shell.execute_reply": "2021-03-21T12:11:52.792512Z"
    },
    "papermill": {
     "duration": 0.059375,
     "end_time": "2021-03-21T12:11:52.793262",
     "exception": false,
     "start_time": "2021-03-21T12:11:52.733887",
     "status": "completed"
    },
    "tags": []
   },
   "outputs": [
    {
     "data": {
      "text/html": [
       "<div>\n",
       "<style scoped>\n",
       "    .dataframe tbody tr th:only-of-type {\n",
       "        vertical-align: middle;\n",
       "    }\n",
       "\n",
       "    .dataframe tbody tr th {\n",
       "        vertical-align: top;\n",
       "    }\n",
       "\n",
       "    .dataframe thead th {\n",
       "        text-align: right;\n",
       "    }\n",
       "</style>\n",
       "<table border=\"1\" class=\"dataframe\">\n",
       "  <thead>\n",
       "    <tr style=\"text-align: right;\">\n",
       "      <th></th>\n",
       "      <th>Country/Region</th>\n",
       "      <th>Cases</th>\n",
       "      <th>Deaths</th>\n",
       "      <th>PCases</th>\n",
       "      <th>PDeaths</th>\n",
       "      <th>Cases (+)</th>\n",
       "      <th>Deaths (+)</th>\n",
       "      <th>Fatality Rate</th>\n",
       "      <th>Continent</th>\n",
       "    </tr>\n",
       "  </thead>\n",
       "  <tbody>\n",
       "    <tr>\n",
       "      <th>0</th>\n",
       "      <td>US</td>\n",
       "      <td>29783722</td>\n",
       "      <td>541914</td>\n",
       "      <td>29730000</td>\n",
       "      <td>541143</td>\n",
       "      <td>53722</td>\n",
       "      <td>771</td>\n",
       "      <td>1.82</td>\n",
       "      <td>North America</td>\n",
       "    </tr>\n",
       "    <tr>\n",
       "      <th>1</th>\n",
       "      <td>Brazil</td>\n",
       "      <td>11950459</td>\n",
       "      <td>292752</td>\n",
       "      <td>11871390</td>\n",
       "      <td>290314</td>\n",
       "      <td>79069</td>\n",
       "      <td>2438</td>\n",
       "      <td>2.45</td>\n",
       "      <td>South America</td>\n",
       "    </tr>\n",
       "    <tr>\n",
       "      <th>2</th>\n",
       "      <td>India</td>\n",
       "      <td>11599130</td>\n",
       "      <td>159755</td>\n",
       "      <td>11555284</td>\n",
       "      <td>159558</td>\n",
       "      <td>43846</td>\n",
       "      <td>197</td>\n",
       "      <td>1.38</td>\n",
       "      <td>Asia</td>\n",
       "    </tr>\n",
       "    <tr>\n",
       "      <th>3</th>\n",
       "      <td>Russia</td>\n",
       "      <td>4397816</td>\n",
       "      <td>93090</td>\n",
       "      <td>4388268</td>\n",
       "      <td>92704</td>\n",
       "      <td>9548</td>\n",
       "      <td>386</td>\n",
       "      <td>2.12</td>\n",
       "      <td>Europe</td>\n",
       "    </tr>\n",
       "    <tr>\n",
       "      <th>4</th>\n",
       "      <td>United Kingdom</td>\n",
       "      <td>4304839</td>\n",
       "      <td>126359</td>\n",
       "      <td>4299200</td>\n",
       "      <td>126263</td>\n",
       "      <td>5639</td>\n",
       "      <td>96</td>\n",
       "      <td>2.94</td>\n",
       "      <td>Europe</td>\n",
       "    </tr>\n",
       "  </tbody>\n",
       "</table>\n",
       "</div>"
      ],
      "text/plain": [
       "   Country/Region     Cases  Deaths    PCases  PDeaths  Cases (+)  Deaths (+)  \\\n",
       "0              US  29783722  541914  29730000   541143      53722         771   \n",
       "1          Brazil  11950459  292752  11871390   290314      79069        2438   \n",
       "2           India  11599130  159755  11555284   159558      43846         197   \n",
       "3          Russia   4397816   93090   4388268    92704       9548         386   \n",
       "4  United Kingdom   4304839  126359   4299200   126263       5639          96   \n",
       "\n",
       "   Fatality Rate      Continent  \n",
       "0           1.82  North America  \n",
       "1           2.45  South America  \n",
       "2           1.38           Asia  \n",
       "3           2.12         Europe  \n",
       "4           2.94         Europe  "
      ]
     },
     "execution_count": 13,
     "metadata": {},
     "output_type": "execute_result"
    }
   ],
   "source": [
    "#hide\n",
    "for c in 'Cases, Deaths'.split(', '):\n",
    "    df_table[f'{c} (+)'] = (df_table[c] - df_table[f'P{c}']).clip(0)\n",
    "    #Clip ça veut dire, les chiffres negatif sont interdit\n",
    "df_table['Fatality Rate'] = (100* df_table['Deaths']/ df_table['Cases']).round(2)\n",
    "df_table['Continent'] = df_table['Country/Region'].map(mapping['map.continent'])\n",
    "df_table.head(5)"
   ]
  },
  {
   "cell_type": "code",
   "execution_count": 14,
   "id": "aboriginal-bulgaria",
   "metadata": {
    "execution": {
     "iopub.execute_input": "2021-03-21T12:11:52.873126Z",
     "iopub.status.busy": "2021-03-21T12:11:52.872604Z",
     "iopub.status.idle": "2021-03-21T12:11:52.874719Z",
     "shell.execute_reply": "2021-03-21T12:11:52.875226Z"
    },
    "papermill": {
     "duration": 0.041743,
     "end_time": "2021-03-21T12:11:52.875445",
     "exception": false,
     "start_time": "2021-03-21T12:11:52.833702",
     "status": "completed"
    },
    "tags": []
   },
   "outputs": [],
   "source": [
    "#hide\n",
    "#delete problematic countries from table\n",
    "df_table = df_table[~df_table['Country/Region'].isin(['Cape Verde', 'Cruise Ship', 'Kosovo'])]"
   ]
  },
  {
   "cell_type": "code",
   "execution_count": 15,
   "id": "fantastic-effect",
   "metadata": {
    "execution": {
     "iopub.execute_input": "2021-03-21T12:11:52.950955Z",
     "iopub.status.busy": "2021-03-21T12:11:52.950364Z",
     "iopub.status.idle": "2021-03-21T12:11:52.970371Z",
     "shell.execute_reply": "2021-03-21T12:11:52.969919Z"
    },
    "papermill": {
     "duration": 0.060803,
     "end_time": "2021-03-21T12:11:52.970498",
     "exception": false,
     "start_time": "2021-03-21T12:11:52.909695",
     "status": "completed"
    },
    "tags": []
   },
   "outputs": [
    {
     "data": {
      "text/html": [
       "<div>\n",
       "<style scoped>\n",
       "    .dataframe tbody tr th:only-of-type {\n",
       "        vertical-align: middle;\n",
       "    }\n",
       "\n",
       "    .dataframe tbody tr th {\n",
       "        vertical-align: top;\n",
       "    }\n",
       "\n",
       "    .dataframe thead th {\n",
       "        text-align: right;\n",
       "    }\n",
       "</style>\n",
       "<table border=\"1\" class=\"dataframe\">\n",
       "  <thead>\n",
       "    <tr style=\"text-align: right;\">\n",
       "      <th></th>\n",
       "      <th>Country/Region</th>\n",
       "      <th>Cases</th>\n",
       "      <th>Deaths</th>\n",
       "      <th>PCases</th>\n",
       "      <th>PDeaths</th>\n",
       "      <th>Cases (+)</th>\n",
       "      <th>Deaths (+)</th>\n",
       "      <th>Fatality Rate</th>\n",
       "      <th>Continent</th>\n",
       "    </tr>\n",
       "  </thead>\n",
       "  <tbody>\n",
       "    <tr>\n",
       "      <th>0</th>\n",
       "      <td>US</td>\n",
       "      <td>29783722</td>\n",
       "      <td>541914</td>\n",
       "      <td>29730000</td>\n",
       "      <td>541143</td>\n",
       "      <td>53722</td>\n",
       "      <td>771</td>\n",
       "      <td>1.8</td>\n",
       "      <td>North America</td>\n",
       "    </tr>\n",
       "    <tr>\n",
       "      <th>1</th>\n",
       "      <td>Brazil</td>\n",
       "      <td>11950459</td>\n",
       "      <td>292752</td>\n",
       "      <td>11871390</td>\n",
       "      <td>290314</td>\n",
       "      <td>79069</td>\n",
       "      <td>2438</td>\n",
       "      <td>2.4</td>\n",
       "      <td>South America</td>\n",
       "    </tr>\n",
       "    <tr>\n",
       "      <th>2</th>\n",
       "      <td>India</td>\n",
       "      <td>11599130</td>\n",
       "      <td>159755</td>\n",
       "      <td>11555284</td>\n",
       "      <td>159558</td>\n",
       "      <td>43846</td>\n",
       "      <td>197</td>\n",
       "      <td>1.4</td>\n",
       "      <td>Asia</td>\n",
       "    </tr>\n",
       "    <tr>\n",
       "      <th>3</th>\n",
       "      <td>Russia</td>\n",
       "      <td>4397816</td>\n",
       "      <td>93090</td>\n",
       "      <td>4388268</td>\n",
       "      <td>92704</td>\n",
       "      <td>9548</td>\n",
       "      <td>386</td>\n",
       "      <td>2.1</td>\n",
       "      <td>Europe</td>\n",
       "    </tr>\n",
       "    <tr>\n",
       "      <th>4</th>\n",
       "      <td>United Kingdom</td>\n",
       "      <td>4304839</td>\n",
       "      <td>126359</td>\n",
       "      <td>4299200</td>\n",
       "      <td>126263</td>\n",
       "      <td>5639</td>\n",
       "      <td>96</td>\n",
       "      <td>2.9</td>\n",
       "      <td>Europe</td>\n",
       "    </tr>\n",
       "  </tbody>\n",
       "</table>\n",
       "</div>"
      ],
      "text/plain": [
       "   Country/Region     Cases  Deaths    PCases  PDeaths  Cases (+)  Deaths (+)  \\\n",
       "0              US  29783722  541914  29730000   541143      53722         771   \n",
       "1          Brazil  11950459  292752  11871390   290314      79069        2438   \n",
       "2           India  11599130  159755  11555284   159558      43846         197   \n",
       "3          Russia   4397816   93090   4388268    92704       9548         386   \n",
       "4  United Kingdom   4304839  126359   4299200   126263       5639          96   \n",
       "\n",
       "   Fatality Rate      Continent  \n",
       "0            1.8  North America  \n",
       "1            2.4  South America  \n",
       "2            1.4           Asia  \n",
       "3            2.1         Europe  \n",
       "4            2.9         Europe  "
      ]
     },
     "execution_count": 15,
     "metadata": {},
     "output_type": "execute_result"
    }
   ],
   "source": [
    "#hide\n",
    "df_table = (pd.DataFrame(dict(Cases=dfc_cases, Deaths=dfc_deaths, PCases=dfp_cases, PDeaths=dfp_deaths))\n",
    "             .sort_values(by=['Cases', 'Deaths'], ascending=[False, False])\n",
    "             .reset_index())\n",
    "df_table.rename(columns={'index': 'Country/Region'}, inplace=True)\n",
    "for c in 'Cases, Deaths'.split(', '):\n",
    "    df_table[f'{c} (+)'] = (df_table[c] - df_table[f'P{c}']).clip(0)  # DATA BUG\n",
    "df_table['Fatality Rate'] = (100 * df_table['Deaths'] / df_table['Cases']).round(1)\n",
    "df_table['Continent'] = df_table['Country/Region'].map(mapping['map.continent'])\n",
    "df_table.head(5)"
   ]
  },
  {
   "cell_type": "code",
   "execution_count": 16,
   "id": "fewer-occasion",
   "metadata": {
    "execution": {
     "iopub.execute_input": "2021-03-21T12:11:53.045492Z",
     "iopub.status.busy": "2021-03-21T12:11:53.044792Z",
     "iopub.status.idle": "2021-03-21T12:11:53.047284Z",
     "shell.execute_reply": "2021-03-21T12:11:53.047729Z"
    },
    "papermill": {
     "duration": 0.043485,
     "end_time": "2021-03-21T12:11:53.047870",
     "exception": false,
     "start_time": "2021-03-21T12:11:53.004385",
     "status": "completed"
    },
    "tags": []
   },
   "outputs": [],
   "source": [
    "#hide\n",
    "#delete problematic countries from table\n",
    "df_table = df_table[~df_table['Country/Region'].isin(['Cape Verde', 'Cruise Ship', 'Kosovo'])]"
   ]
  },
  {
   "cell_type": "code",
   "execution_count": 17,
   "id": "related-center",
   "metadata": {
    "execution": {
     "iopub.execute_input": "2021-03-21T12:11:53.120767Z",
     "iopub.status.busy": "2021-03-21T12:11:53.120249Z",
     "iopub.status.idle": "2021-03-21T12:11:53.134271Z",
     "shell.execute_reply": "2021-03-21T12:11:53.133826Z"
    },
    "papermill": {
     "duration": 0.05239,
     "end_time": "2021-03-21T12:11:53.134392",
     "exception": false,
     "start_time": "2021-03-21T12:11:53.082002",
     "status": "completed"
    },
    "tags": []
   },
   "outputs": [],
   "source": [
    "#hide\n",
    "metrics = [df_table.columns[index] for index in [1,2,5,6]]\n",
    "# s_china = df_table[df_table['Country/Region'].eq('China')][metrics].sum().add_prefix('China ')\n",
    "s_us = df_table[df_table['Country/Region'].eq('US')][metrics].sum().add_prefix('US ')\n",
    "s_eu = df_table[df_table['Continent'].eq('Europe')][metrics].sum().add_prefix('EU ')\n",
    "s_ind = df_table[df_table['Country/Region'].eq('India')][metrics].sum().add_prefix('India ')\n",
    "summary = {'updated': pd.to_datetime(dt_today), 'since': pd.to_datetime(dt_yday)}\n",
    "summary = {'updated': pd.to_datetime(dt_today), 'since': pd.to_datetime(dt_yday)}\n",
    "summary = {**summary, **df_table[metrics].sum(), **s_ind, **s_us, **s_eu}"
   ]
  },
  {
   "cell_type": "code",
   "execution_count": 18,
   "id": "engaging-syndrome",
   "metadata": {
    "execution": {
     "iopub.execute_input": "2021-03-21T12:11:53.203849Z",
     "iopub.status.busy": "2021-03-21T12:11:53.203257Z",
     "iopub.status.idle": "2021-03-21T12:11:53.213478Z",
     "shell.execute_reply": "2021-03-21T12:11:53.213958Z"
    },
    "papermill": {
     "duration": 0.046214,
     "end_time": "2021-03-21T12:11:53.214070",
     "exception": false,
     "start_time": "2021-03-21T12:11:53.167856",
     "status": "completed"
    },
    "tags": []
   },
   "outputs": [],
   "source": [
    "#hide\n",
    "dft_ct_new_cases = dft_cases.groupby(COL_REGION)[dt_cols].sum().diff(axis=1).fillna(0).astype(int)"
   ]
  },
  {
   "cell_type": "code",
   "execution_count": 19,
   "id": "neutral-assignment",
   "metadata": {
    "execution": {
     "iopub.execute_input": "2021-03-21T12:11:53.284483Z",
     "iopub.status.busy": "2021-03-21T12:11:53.283966Z",
     "iopub.status.idle": "2021-03-21T12:11:53.286120Z",
     "shell.execute_reply": "2021-03-21T12:11:53.286593Z"
    },
    "papermill": {
     "duration": 0.040435,
     "end_time": "2021-03-21T12:11:53.286707",
     "exception": false,
     "start_time": "2021-03-21T12:11:53.246272",
     "status": "completed"
    },
    "tags": []
   },
   "outputs": [],
   "source": [
    "#hide\n",
    "everydaycases = dft_ct_new_cases.cumsum(axis=1)"
   ]
  },
  {
   "cell_type": "code",
   "execution_count": 20,
   "id": "parliamentary-calgary",
   "metadata": {
    "execution": {
     "iopub.execute_input": "2021-03-21T12:11:53.360020Z",
     "iopub.status.busy": "2021-03-21T12:11:53.357557Z",
     "iopub.status.idle": "2021-03-21T12:11:54.106920Z",
     "shell.execute_reply": "2021-03-21T12:11:54.107446Z"
    },
    "papermill": {
     "duration": 0.789054,
     "end_time": "2021-03-21T12:11:54.107634",
     "exception": false,
     "start_time": "2021-03-21T12:11:53.318580",
     "status": "completed"
    },
    "tags": []
   },
   "outputs": [],
   "source": [
    "#hide\n",
    "import pandas as pd\n",
    "import matplotlib.pyplot as plt\n",
    "import matplotlib.ticker as ticker\n",
    "import matplotlib.animation as animation\n",
    "from IPython.display import HTML"
   ]
  },
  {
   "cell_type": "code",
   "execution_count": 21,
   "id": "lasting-extraction",
   "metadata": {
    "execution": {
     "iopub.execute_input": "2021-03-21T12:11:54.190687Z",
     "iopub.status.busy": "2021-03-21T12:11:54.190070Z",
     "iopub.status.idle": "2021-03-21T12:11:54.195528Z",
     "shell.execute_reply": "2021-03-21T12:11:54.195989Z"
    },
    "papermill": {
     "duration": 0.047804,
     "end_time": "2021-03-21T12:11:54.196108",
     "exception": false,
     "start_time": "2021-03-21T12:11:54.148304",
     "status": "completed"
    },
    "tags": []
   },
   "outputs": [],
   "source": [
    "#hide\n",
    "t = everydaycases.stack()"
   ]
  },
  {
   "cell_type": "code",
   "execution_count": 22,
   "id": "premier-sleeve",
   "metadata": {
    "execution": {
     "iopub.execute_input": "2021-03-21T12:11:54.271121Z",
     "iopub.status.busy": "2021-03-21T12:11:54.270536Z",
     "iopub.status.idle": "2021-03-21T12:11:54.276878Z",
     "shell.execute_reply": "2021-03-21T12:11:54.277374Z"
    },
    "papermill": {
     "duration": 0.046011,
     "end_time": "2021-03-21T12:11:54.277508",
     "exception": false,
     "start_time": "2021-03-21T12:11:54.231497",
     "status": "completed"
    },
    "tags": []
   },
   "outputs": [],
   "source": [
    "#hide\n",
    "g = t.reset_index(['Country/Region'])"
   ]
  },
  {
   "cell_type": "code",
   "execution_count": 23,
   "id": "distributed-pittsburgh",
   "metadata": {
    "execution": {
     "iopub.execute_input": "2021-03-21T12:11:54.350544Z",
     "iopub.status.busy": "2021-03-21T12:11:54.349948Z",
     "iopub.status.idle": "2021-03-21T12:11:54.352431Z",
     "shell.execute_reply": "2021-03-21T12:11:54.351852Z"
    },
    "papermill": {
     "duration": 0.042304,
     "end_time": "2021-03-21T12:11:54.352558",
     "exception": false,
     "start_time": "2021-03-21T12:11:54.310254",
     "status": "completed"
    },
    "tags": []
   },
   "outputs": [],
   "source": [
    "#hide\n",
    "g.index.name = 'date'"
   ]
  },
  {
   "cell_type": "code",
   "execution_count": 24,
   "id": "naked-donor",
   "metadata": {
    "execution": {
     "iopub.execute_input": "2021-03-21T12:11:54.423194Z",
     "iopub.status.busy": "2021-03-21T12:11:54.422562Z",
     "iopub.status.idle": "2021-03-21T12:11:54.424960Z",
     "shell.execute_reply": "2021-03-21T12:11:54.424488Z"
    },
    "papermill": {
     "duration": 0.038836,
     "end_time": "2021-03-21T12:11:54.425056",
     "exception": false,
     "start_time": "2021-03-21T12:11:54.386220",
     "status": "completed"
    },
    "tags": []
   },
   "outputs": [],
   "source": [
    "# #hide\n",
    "# g = g.reset_index(['date'])"
   ]
  },
  {
   "cell_type": "code",
   "execution_count": 25,
   "id": "incomplete-mustang",
   "metadata": {
    "execution": {
     "iopub.execute_input": "2021-03-21T12:11:54.496364Z",
     "iopub.status.busy": "2021-03-21T12:11:54.495818Z",
     "iopub.status.idle": "2021-03-21T12:11:54.497775Z",
     "shell.execute_reply": "2021-03-21T12:11:54.498272Z"
    },
    "papermill": {
     "duration": 0.038216,
     "end_time": "2021-03-21T12:11:54.498543",
     "exception": false,
     "start_time": "2021-03-21T12:11:54.460327",
     "status": "completed"
    },
    "tags": []
   },
   "outputs": [],
   "source": [
    "#hide\n",
    "# g.head()"
   ]
  },
  {
   "cell_type": "code",
   "execution_count": 26,
   "id": "specific-kruger",
   "metadata": {
    "execution": {
     "iopub.execute_input": "2021-03-21T12:11:54.581429Z",
     "iopub.status.busy": "2021-03-21T12:11:54.580850Z",
     "iopub.status.idle": "2021-03-21T12:11:54.582689Z",
     "shell.execute_reply": "2021-03-21T12:11:54.583170Z"
    },
    "papermill": {
     "duration": 0.046909,
     "end_time": "2021-03-21T12:11:54.583305",
     "exception": false,
     "start_time": "2021-03-21T12:11:54.536396",
     "status": "completed"
    },
    "tags": []
   },
   "outputs": [],
   "source": [
    "#hide\n",
    "# g.columns = ['date','country','cases']"
   ]
  },
  {
   "cell_type": "code",
   "execution_count": 27,
   "id": "tender-conversion",
   "metadata": {
    "execution": {
     "iopub.execute_input": "2021-03-21T12:11:54.651840Z",
     "iopub.status.busy": "2021-03-21T12:11:54.651347Z",
     "iopub.status.idle": "2021-03-21T12:11:54.653308Z",
     "shell.execute_reply": "2021-03-21T12:11:54.653823Z"
    },
    "papermill": {
     "duration": 0.037333,
     "end_time": "2021-03-21T12:11:54.653931",
     "exception": false,
     "start_time": "2021-03-21T12:11:54.616598",
     "status": "completed"
    },
    "tags": []
   },
   "outputs": [],
   "source": [
    "#hide\n",
    "# g['continent'] = g.country"
   ]
  },
  {
   "cell_type": "code",
   "execution_count": 28,
   "id": "substantial-wilderness",
   "metadata": {
    "execution": {
     "iopub.execute_input": "2021-03-21T12:11:54.727270Z",
     "iopub.status.busy": "2021-03-21T12:11:54.726737Z",
     "iopub.status.idle": "2021-03-21T12:11:54.728614Z",
     "shell.execute_reply": "2021-03-21T12:11:54.729047Z"
    },
    "papermill": {
     "duration": 0.036699,
     "end_time": "2021-03-21T12:11:54.729161",
     "exception": false,
     "start_time": "2021-03-21T12:11:54.692462",
     "status": "completed"
    },
    "tags": []
   },
   "outputs": [],
   "source": [
    "#hide\n",
    "# cols = list(g.columns.values)"
   ]
  },
  {
   "cell_type": "code",
   "execution_count": 29,
   "id": "solved-farming",
   "metadata": {
    "execution": {
     "iopub.execute_input": "2021-03-21T12:11:54.798173Z",
     "iopub.status.busy": "2021-03-21T12:11:54.797670Z",
     "iopub.status.idle": "2021-03-21T12:11:54.799534Z",
     "shell.execute_reply": "2021-03-21T12:11:54.799967Z"
    },
    "papermill": {
     "duration": 0.039077,
     "end_time": "2021-03-21T12:11:54.800082",
     "exception": false,
     "start_time": "2021-03-21T12:11:54.761005",
     "status": "completed"
    },
    "tags": []
   },
   "outputs": [],
   "source": [
    "#hide\n",
    "# cols.insert(0, cols.pop())"
   ]
  },
  {
   "cell_type": "code",
   "execution_count": 30,
   "id": "executed-adoption",
   "metadata": {
    "execution": {
     "iopub.execute_input": "2021-03-21T12:11:54.868871Z",
     "iopub.status.busy": "2021-03-21T12:11:54.868322Z",
     "iopub.status.idle": "2021-03-21T12:11:54.870289Z",
     "shell.execute_reply": "2021-03-21T12:11:54.870721Z"
    },
    "papermill": {
     "duration": 0.039105,
     "end_time": "2021-03-21T12:11:54.870831",
     "exception": false,
     "start_time": "2021-03-21T12:11:54.831726",
     "status": "completed"
    },
    "tags": []
   },
   "outputs": [],
   "source": [
    "#hide\n",
    "# g = g[cols]"
   ]
  },
  {
   "cell_type": "code",
   "execution_count": 31,
   "id": "subject-dublin",
   "metadata": {
    "execution": {
     "iopub.execute_input": "2021-03-21T12:11:54.949562Z",
     "iopub.status.busy": "2021-03-21T12:11:54.948932Z",
     "iopub.status.idle": "2021-03-21T12:11:54.951273Z",
     "shell.execute_reply": "2021-03-21T12:11:54.950780Z"
    },
    "papermill": {
     "duration": 0.045972,
     "end_time": "2021-03-21T12:11:54.951375",
     "exception": false,
     "start_time": "2021-03-21T12:11:54.905403",
     "status": "completed"
    },
    "tags": []
   },
   "outputs": [],
   "source": [
    "#hide\n",
    "# g['continent'] = g['continent'].map(mapping['map.continent'])"
   ]
  },
  {
   "cell_type": "code",
   "execution_count": 32,
   "id": "freelance-scout",
   "metadata": {
    "execution": {
     "iopub.execute_input": "2021-03-21T12:11:55.027878Z",
     "iopub.status.busy": "2021-03-21T12:11:55.027345Z",
     "iopub.status.idle": "2021-03-21T12:11:55.029320Z",
     "shell.execute_reply": "2021-03-21T12:11:55.029969Z"
    },
    "papermill": {
     "duration": 0.043146,
     "end_time": "2021-03-21T12:11:55.030161",
     "exception": false,
     "start_time": "2021-03-21T12:11:54.987015",
     "status": "completed"
    },
    "tags": []
   },
   "outputs": [],
   "source": [
    "#hide\n",
    "# g.head()"
   ]
  },
  {
   "cell_type": "code",
   "execution_count": 33,
   "id": "limited-engine",
   "metadata": {
    "execution": {
     "iopub.execute_input": "2021-03-21T12:11:55.100664Z",
     "iopub.status.busy": "2021-03-21T12:11:55.100064Z",
     "iopub.status.idle": "2021-03-21T12:11:55.102088Z",
     "shell.execute_reply": "2021-03-21T12:11:55.102641Z"
    },
    "papermill": {
     "duration": 0.040167,
     "end_time": "2021-03-21T12:11:55.102778",
     "exception": false,
     "start_time": "2021-03-21T12:11:55.062611",
     "status": "completed"
    },
    "tags": []
   },
   "outputs": [],
   "source": [
    "# hide\n",
    "# g['date'] = g['date'].astype('datetime64[ns]')"
   ]
  },
  {
   "cell_type": "code",
   "execution_count": 34,
   "id": "sophisticated-supervisor",
   "metadata": {
    "execution": {
     "iopub.execute_input": "2021-03-21T12:11:55.175686Z",
     "iopub.status.busy": "2021-03-21T12:11:55.175075Z",
     "iopub.status.idle": "2021-03-21T12:11:55.177397Z",
     "shell.execute_reply": "2021-03-21T12:11:55.176875Z"
    },
    "papermill": {
     "duration": 0.039238,
     "end_time": "2021-03-21T12:11:55.177531",
     "exception": false,
     "start_time": "2021-03-21T12:11:55.138293",
     "status": "completed"
    },
    "tags": []
   },
   "outputs": [],
   "source": [
    "#hide\n",
    "# g['date'] = g.date.dt.dayofyear"
   ]
  },
  {
   "cell_type": "code",
   "execution_count": 35,
   "id": "inside-dubai",
   "metadata": {
    "execution": {
     "iopub.execute_input": "2021-03-21T12:11:55.252678Z",
     "iopub.status.busy": "2021-03-21T12:11:55.252065Z",
     "iopub.status.idle": "2021-03-21T12:11:55.254511Z",
     "shell.execute_reply": "2021-03-21T12:11:55.254011Z"
    },
    "papermill": {
     "duration": 0.041846,
     "end_time": "2021-03-21T12:11:55.254642",
     "exception": false,
     "start_time": "2021-03-21T12:11:55.212796",
     "status": "completed"
    },
    "tags": []
   },
   "outputs": [],
   "source": [
    "#hide\n",
    "# g = g.rename(columns= {'continent':'group','country':'name','cases':'value'})"
   ]
  },
  {
   "cell_type": "code",
   "execution_count": 36,
   "id": "fleet-motorcycle",
   "metadata": {
    "execution": {
     "iopub.execute_input": "2021-03-21T12:11:55.323915Z",
     "iopub.status.busy": "2021-03-21T12:11:55.323302Z",
     "iopub.status.idle": "2021-03-21T12:11:55.325429Z",
     "shell.execute_reply": "2021-03-21T12:11:55.325940Z"
    },
    "papermill": {
     "duration": 0.038513,
     "end_time": "2021-03-21T12:11:55.326054",
     "exception": false,
     "start_time": "2021-03-21T12:11:55.287541",
     "status": "completed"
    },
    "tags": []
   },
   "outputs": [],
   "source": [
    "#hide\n",
    "# cols = ['name','group','day','value']"
   ]
  },
  {
   "cell_type": "code",
   "execution_count": 37,
   "id": "continued-sleeping",
   "metadata": {
    "execution": {
     "iopub.execute_input": "2021-03-21T12:11:55.396345Z",
     "iopub.status.busy": "2021-03-21T12:11:55.395789Z",
     "iopub.status.idle": "2021-03-21T12:11:55.398276Z",
     "shell.execute_reply": "2021-03-21T12:11:55.397839Z"
    },
    "papermill": {
     "duration": 0.037879,
     "end_time": "2021-03-21T12:11:55.398378",
     "exception": false,
     "start_time": "2021-03-21T12:11:55.360499",
     "status": "completed"
    },
    "tags": []
   },
   "outputs": [],
   "source": [
    "#hide\n",
    "# g.rename(columns= {'date':'day'},inplace = True)"
   ]
  },
  {
   "cell_type": "code",
   "execution_count": 38,
   "id": "major-fight",
   "metadata": {
    "execution": {
     "iopub.execute_input": "2021-03-21T12:11:55.467465Z",
     "iopub.status.busy": "2021-03-21T12:11:55.466743Z",
     "iopub.status.idle": "2021-03-21T12:11:55.468931Z",
     "shell.execute_reply": "2021-03-21T12:11:55.469367Z"
    },
    "papermill": {
     "duration": 0.039813,
     "end_time": "2021-03-21T12:11:55.469487",
     "exception": false,
     "start_time": "2021-03-21T12:11:55.429674",
     "status": "completed"
    },
    "tags": []
   },
   "outputs": [],
   "source": [
    "#hide\n",
    "# g = g[cols]"
   ]
  },
  {
   "cell_type": "code",
   "execution_count": 39,
   "id": "structured-mobile",
   "metadata": {
    "execution": {
     "iopub.execute_input": "2021-03-21T12:11:55.536697Z",
     "iopub.status.busy": "2021-03-21T12:11:55.536150Z",
     "iopub.status.idle": "2021-03-21T12:11:55.538109Z",
     "shell.execute_reply": "2021-03-21T12:11:55.538607Z"
    },
    "papermill": {
     "duration": 0.038083,
     "end_time": "2021-03-21T12:11:55.538718",
     "exception": false,
     "start_time": "2021-03-21T12:11:55.500635",
     "status": "completed"
    },
    "tags": []
   },
   "outputs": [],
   "source": [
    "# #hide\n",
    "# g = g[g.group.notna()]"
   ]
  },
  {
   "cell_type": "code",
   "execution_count": 40,
   "id": "determined-closing",
   "metadata": {
    "execution": {
     "iopub.execute_input": "2021-03-21T12:11:55.611688Z",
     "iopub.status.busy": "2021-03-21T12:11:55.611117Z",
     "iopub.status.idle": "2021-03-21T12:11:55.613266Z",
     "shell.execute_reply": "2021-03-21T12:11:55.613765Z"
    },
    "papermill": {
     "duration": 0.042126,
     "end_time": "2021-03-21T12:11:55.613883",
     "exception": false,
     "start_time": "2021-03-21T12:11:55.571757",
     "status": "completed"
    },
    "tags": []
   },
   "outputs": [],
   "source": [
    "# #hide\n",
    "# colors = dict(zip(\n",
    "#     [\"Oceania\", \"Europe\", \"Asia\", \"South America\", \"Middle East\", \"North America\", \"Africa\"],\n",
    "#     [\"#adb0ff\", \"#ffb3ff\", \"#90d595\", \"#e48381\", \"#aafbff\", \"#f7bb5f\", \"#eafb50\"]\n",
    "# ))\n",
    "# group_lk = g.set_index('name')['group'].to_dict()"
   ]
  },
  {
   "cell_type": "code",
   "execution_count": null,
   "id": "gross-drinking",
   "metadata": {
    "papermill": {
     "duration": 0.03357,
     "end_time": "2021-03-21T12:11:55.680340",
     "exception": false,
     "start_time": "2021-03-21T12:11:55.646770",
     "status": "completed"
    },
    "tags": []
   },
   "outputs": [],
   "source": []
  },
  {
   "cell_type": "code",
   "execution_count": 41,
   "id": "subject-macintosh",
   "metadata": {
    "execution": {
     "iopub.execute_input": "2021-03-21T12:11:55.748516Z",
     "iopub.status.busy": "2021-03-21T12:11:55.747807Z",
     "iopub.status.idle": "2021-03-21T12:11:55.750463Z",
     "shell.execute_reply": "2021-03-21T12:11:55.750012Z"
    },
    "papermill": {
     "duration": 0.038339,
     "end_time": "2021-03-21T12:11:55.750587",
     "exception": false,
     "start_time": "2021-03-21T12:11:55.712248",
     "status": "completed"
    },
    "tags": []
   },
   "outputs": [],
   "source": [
    "# #hide\n",
    "# fig, ax = plt.subplots(figsize=(15, 8))\n",
    "\n",
    "# def draw_barchart(current_day):\n",
    "#     dff = g[g['day'].eq(current_day)].sort_values(by='value', ascending=True).tail(10)\n",
    "#     ax.clear()\n",
    "#     ax.barh(dff['name'], dff['value'], color=[colors[group_lk[x]] for x in dff['name']])\n",
    "#     dx = dff['value'].max() / 200\n",
    "    \n",
    "#     for i, (value, name) in enumerate(zip(dff['value'], dff['name'])):\n",
    "#         ax.text(value-dx, i,     name,           size=14, weight=600, ha='right', va='bottom')\n",
    "#         ax.text(value-dx, i-.25, group_lk[name], size=10, color='#444444', ha='right', va='baseline')\n",
    "#         ax.text(value+dx, i,     f'{value:,.0f}',  size=14, ha='left',  va='center')\n",
    "#     ax.text(1, 0.4, current_day, transform=ax.transAxes, color='#777777', size=46, ha='right', weight=800)\n",
    "#     ax.text(0, 1.06, 'Population (thousands)', transform=ax.transAxes, size=12, color='#777777')\n",
    "#     ax.xaxis.set_major_formatter(ticker.StrMethodFormatter('{x:,.0f}'))\n",
    "#     ax.xaxis.set_ticks_position('top')\n",
    "#     ax.tick_params(axis='x', colors='#777777', labelsize=12)\n",
    "#     ax.set_yticks([])\n",
    "#     ax.margins(0, 0.01)\n",
    "#     ax.grid(which='major', axis='x', linestyle='-')\n",
    "#     ax.set_axisbelow(True)\n",
    "    \n",
    "#     ax.text(0, 1.15, 'Coronavirus',\n",
    "#             transform=ax.transAxes, size=24, weight=600, ha='left', va='top')\n",
    "# #     ax.text(1, 0, 'by @pratapvardhan; credit @jburnmurdoch', transform=ax.transAxes, color='#777777', ha='right',\n",
    "# #             bbox=dict(facecolor='white', alpha=0.8, edgecolor='white'))\n",
    "#     plt.box(False)"
   ]
  },
  {
   "cell_type": "code",
   "execution_count": 42,
   "id": "sexual-wages",
   "metadata": {
    "execution": {
     "iopub.execute_input": "2021-03-21T12:11:55.822444Z",
     "iopub.status.busy": "2021-03-21T12:11:55.821865Z",
     "iopub.status.idle": "2021-03-21T12:11:55.824269Z",
     "shell.execute_reply": "2021-03-21T12:11:55.823771Z"
    },
    "papermill": {
     "duration": 0.037802,
     "end_time": "2021-03-21T12:11:55.824417",
     "exception": false,
     "start_time": "2021-03-21T12:11:55.786615",
     "status": "completed"
    },
    "tags": []
   },
   "outputs": [],
   "source": [
    "# #hide_input\n",
    "# fig, ax = plt.subplots(figsize=(15, 8))\n",
    "# animator = animation.FuncAnimation(fig, draw_barchart, frames=range(g.day.values.min(), g.day.values.max()))\n",
    "# HTML(animator.to_jshtml())\n",
    "# # or use animator.to_html5_video() or animator.save() "
   ]
  },
  {
   "cell_type": "code",
   "execution_count": null,
   "id": "australian-container",
   "metadata": {
    "papermill": {
     "duration": 0.03378,
     "end_time": "2021-03-21T12:11:55.894306",
     "exception": false,
     "start_time": "2021-03-21T12:11:55.860526",
     "status": "completed"
    },
    "tags": []
   },
   "outputs": [],
   "source": []
  },
  {
   "cell_type": "code",
   "execution_count": null,
   "id": "mediterranean-pontiac",
   "metadata": {
    "papermill": {
     "duration": 0.032336,
     "end_time": "2021-03-21T12:11:55.959819",
     "exception": false,
     "start_time": "2021-03-21T12:11:55.927483",
     "status": "completed"
    },
    "tags": []
   },
   "outputs": [],
   "source": []
  },
  {
   "cell_type": "code",
   "execution_count": null,
   "id": "aging-legislature",
   "metadata": {
    "papermill": {
     "duration": 0.031619,
     "end_time": "2021-03-21T12:11:56.023593",
     "exception": false,
     "start_time": "2021-03-21T12:11:55.991974",
     "status": "completed"
    },
    "tags": []
   },
   "outputs": [],
   "source": []
  }
 ],
 "metadata": {
  "kernelspec": {
   "display_name": "Python 3",
   "language": "python",
   "name": "python3"
  },
  "language_info": {
   "codemirror_mode": {
    "name": "ipython",
    "version": 3
   },
   "file_extension": ".py",
   "mimetype": "text/x-python",
   "name": "python",
   "nbconvert_exporter": "python",
   "pygments_lexer": "ipython3",
   "version": "3.6.13"
  },
  "papermill": {
   "duration": 6.256299,
   "end_time": "2021-03-21T12:11:56.362481",
   "environment_variables": {},
   "exception": null,
   "input_path": "2020-03-21-covid19exp.ipynb",
   "output_path": "2020-03-21-covid19exp.ipynb",
   "parameters": {},
   "start_time": "2021-03-21T12:11:50.106182",
   "version": "2.0.0"
  }
 },
 "nbformat": 4,
 "nbformat_minor": 5
}