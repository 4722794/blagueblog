{
 "cells": [
  {
   "cell_type": "markdown",
   "id": "muslim-click",
   "metadata": {
    "papermill": {
     "duration": 0.041541,
     "end_time": "2021-01-22T12:24:57.245400",
     "exception": false,
     "start_time": "2021-01-22T12:24:57.203859",
     "status": "completed"
    },
    "tags": []
   },
   "source": [
    "# COVID-19 Case Race\n",
    "> A race chart to see rising cases around the world\n",
    "\n",
    "- author: Hargun Oberoi\n",
    "- image: images/covid-overview.png\n",
    "- hide: false\n",
    "- badges: false"
   ]
  },
  {
   "cell_type": "code",
   "execution_count": 1,
   "id": "proof-material",
   "metadata": {
    "execution": {
     "iopub.execute_input": "2021-01-22T12:24:57.336108Z",
     "iopub.status.busy": "2021-01-22T12:24:57.335284Z",
     "iopub.status.idle": "2021-01-22T12:24:57.718358Z",
     "shell.execute_reply": "2021-01-22T12:24:57.717436Z"
    },
    "papermill": {
     "duration": 0.434262,
     "end_time": "2021-01-22T12:24:57.718520",
     "exception": false,
     "start_time": "2021-01-22T12:24:57.284258",
     "status": "completed"
    },
    "tags": []
   },
   "outputs": [],
   "source": [
    "#hide\n",
    "import numpy as np\n",
    "import pandas as pd\n",
    "from jinja2 import Template\n",
    "from IPython.display import HTML"
   ]
  },
  {
   "cell_type": "code",
   "execution_count": 2,
   "id": "developed-terminology",
   "metadata": {
    "execution": {
     "iopub.execute_input": "2021-01-22T12:24:57.799600Z",
     "iopub.status.busy": "2021-01-22T12:24:57.798996Z",
     "iopub.status.idle": "2021-01-22T12:24:57.801918Z",
     "shell.execute_reply": "2021-01-22T12:24:57.801308Z"
    },
    "papermill": {
     "duration": 0.045146,
     "end_time": "2021-01-22T12:24:57.802156",
     "exception": false,
     "start_time": "2021-01-22T12:24:57.757010",
     "status": "completed"
    },
    "tags": []
   },
   "outputs": [],
   "source": [
    "#hide\n",
    "\n",
    "# FETCH\n",
    "base_url = 'https://raw.githubusercontent.com/pratapvardhan/notebooks/master/covid19/'\n",
    "paths = {\n",
    "    'mapping': base_url + 'mapping_countries.csv',\n",
    "    'overview': base_url + 'overview.tpl'\n",
    "}"
   ]
  },
  {
   "cell_type": "code",
   "execution_count": 3,
   "id": "dynamic-saver",
   "metadata": {
    "execution": {
     "iopub.execute_input": "2021-01-22T12:24:57.882438Z",
     "iopub.status.busy": "2021-01-22T12:24:57.881790Z",
     "iopub.status.idle": "2021-01-22T12:24:57.887141Z",
     "shell.execute_reply": "2021-01-22T12:24:57.886652Z"
    },
    "papermill": {
     "duration": 0.04933,
     "end_time": "2021-01-22T12:24:57.887275",
     "exception": false,
     "start_time": "2021-01-22T12:24:57.837945",
     "status": "completed"
    },
    "tags": []
   },
   "outputs": [
    {
     "data": {
      "text/plain": [
       "'https://raw.githubusercontent.com/pratapvardhan/notebooks/master/covid19/mapping_countries.csv'"
      ]
     },
     "execution_count": 3,
     "metadata": {},
     "output_type": "execute_result"
    }
   ],
   "source": [
    "#hide\n",
    "paths['mapping']"
   ]
  },
  {
   "cell_type": "code",
   "execution_count": 4,
   "id": "urban-software",
   "metadata": {
    "execution": {
     "iopub.execute_input": "2021-01-22T12:24:57.966211Z",
     "iopub.status.busy": "2021-01-22T12:24:57.965577Z",
     "iopub.status.idle": "2021-01-22T12:24:57.967368Z",
     "shell.execute_reply": "2021-01-22T12:24:57.967883Z"
    },
    "papermill": {
     "duration": 0.044947,
     "end_time": "2021-01-22T12:24:57.968031",
     "exception": false,
     "start_time": "2021-01-22T12:24:57.923084",
     "status": "completed"
    },
    "tags": []
   },
   "outputs": [],
   "source": [
    "#hide\n",
    "def get_mappings(url):\n",
    "    df = pd.read_csv(url)\n",
    "    return {\n",
    "        'df': df,\n",
    "        'replace.country': dict(df.dropna(subset=['Name']).set_index('Country')['Name']),\n",
    "        'map.continent': dict(df.set_index('Name')['Continent'])\n",
    "    }"
   ]
  },
  {
   "cell_type": "code",
   "execution_count": 5,
   "id": "intimate-machinery",
   "metadata": {
    "execution": {
     "iopub.execute_input": "2021-01-22T12:24:58.047995Z",
     "iopub.status.busy": "2021-01-22T12:24:58.047362Z",
     "iopub.status.idle": "2021-01-22T12:24:58.076582Z",
     "shell.execute_reply": "2021-01-22T12:24:58.076019Z"
    },
    "papermill": {
     "duration": 0.072453,
     "end_time": "2021-01-22T12:24:58.076719",
     "exception": false,
     "start_time": "2021-01-22T12:24:58.004266",
     "status": "completed"
    },
    "tags": []
   },
   "outputs": [],
   "source": [
    "#hide\n",
    "mapping = get_mappings(paths['mapping'])"
   ]
  },
  {
   "cell_type": "code",
   "execution_count": 6,
   "id": "certified-tactics",
   "metadata": {
    "execution": {
     "iopub.execute_input": "2021-01-22T12:24:58.155275Z",
     "iopub.status.busy": "2021-01-22T12:24:58.154633Z",
     "iopub.status.idle": "2021-01-22T12:24:58.157203Z",
     "shell.execute_reply": "2021-01-22T12:24:58.158249Z"
    },
    "papermill": {
     "duration": 0.045894,
     "end_time": "2021-01-22T12:24:58.158418",
     "exception": false,
     "start_time": "2021-01-22T12:24:58.112524",
     "status": "completed"
    },
    "tags": []
   },
   "outputs": [],
   "source": [
    "#hide\n",
    "def get_template(path):\n",
    "    from urllib.parse import urlparse\n",
    "    if bool(urlparse(path).netloc):\n",
    "        from urllib.request import urlopen\n",
    "        return urlopen(path).read().decode('utf8')\n",
    "    return open(path).read()"
   ]
  },
  {
   "cell_type": "code",
   "execution_count": 7,
   "id": "realistic-blast",
   "metadata": {
    "execution": {
     "iopub.execute_input": "2021-01-22T12:24:58.235031Z",
     "iopub.status.busy": "2021-01-22T12:24:58.234415Z",
     "iopub.status.idle": "2021-01-22T12:24:58.237225Z",
     "shell.execute_reply": "2021-01-22T12:24:58.236739Z"
    },
    "papermill": {
     "duration": 0.044237,
     "end_time": "2021-01-22T12:24:58.237358",
     "exception": false,
     "start_time": "2021-01-22T12:24:58.193121",
     "status": "completed"
    },
    "tags": []
   },
   "outputs": [],
   "source": [
    "#hide\n",
    "def get_frame(name):\n",
    "    url = (\n",
    "        'https://raw.githubusercontent.com/CSSEGISandData/COVID-19/master/csse_covid_19_data/'\n",
    "        f'csse_covid_19_time_series/time_series_covid19_{name}_global.csv')\n",
    "    df = pd.read_csv(url)\n",
    "    # rename countries\n",
    "    df['Country/Region'] = df['Country/Region'].replace(mapping['replace.country'])\n",
    "    return df"
   ]
  },
  {
   "cell_type": "code",
   "execution_count": 8,
   "id": "affiliated-characterization",
   "metadata": {
    "execution": {
     "iopub.execute_input": "2021-01-22T12:24:58.316596Z",
     "iopub.status.busy": "2021-01-22T12:24:58.315967Z",
     "iopub.status.idle": "2021-01-22T12:24:58.318357Z",
     "shell.execute_reply": "2021-01-22T12:24:58.317808Z"
    },
    "papermill": {
     "duration": 0.045576,
     "end_time": "2021-01-22T12:24:58.318494",
     "exception": false,
     "start_time": "2021-01-22T12:24:58.272918",
     "status": "completed"
    },
    "tags": []
   },
   "outputs": [],
   "source": [
    "#hide\n",
    "def get_dates(df):\n",
    "    dt_cols = df.columns[~df.columns.isin(['Province/State', 'Country/Region', 'Lat', 'Long'])]\n",
    "    LAST_DATE_I = -1\n",
    "    # sometimes last column may be empty, then go backwards\n",
    "    for i in range(-1, -len(dt_cols), -1):\n",
    "        if not df[dt_cols[i]].fillna(0).eq(0).all():\n",
    "            LAST_DATE_I = i\n",
    "            break\n",
    "    return LAST_DATE_I, dt_cols"
   ]
  },
  {
   "cell_type": "code",
   "execution_count": 9,
   "id": "recent-optimization",
   "metadata": {
    "execution": {
     "iopub.execute_input": "2021-01-22T12:24:58.402698Z",
     "iopub.status.busy": "2021-01-22T12:24:58.402040Z",
     "iopub.status.idle": "2021-01-22T12:24:58.643097Z",
     "shell.execute_reply": "2021-01-22T12:24:58.642409Z"
    },
    "papermill": {
     "duration": 0.287511,
     "end_time": "2021-01-22T12:24:58.643234",
     "exception": false,
     "start_time": "2021-01-22T12:24:58.355723",
     "status": "completed"
    },
    "tags": []
   },
   "outputs": [],
   "source": [
    "#hide\n",
    "COL_REGION = 'Country/Region'\n",
    "# Confirmed, Recovered, Deaths\n",
    "df = get_frame('confirmed')\n",
    "# dft_: timeseries, dfc_: today country agg\n",
    "dft_cases = df\n",
    "dft_deaths = get_frame('deaths')\n",
    "dft_recovered = get_frame('recovered')\n",
    "LAST_DATE_I, dt_cols = get_dates(df)"
   ]
  },
  {
   "cell_type": "code",
   "execution_count": 10,
   "id": "absolute-copper",
   "metadata": {
    "execution": {
     "iopub.execute_input": "2021-01-22T12:24:58.723718Z",
     "iopub.status.busy": "2021-01-22T12:24:58.723112Z",
     "iopub.status.idle": "2021-01-22T12:24:58.725403Z",
     "shell.execute_reply": "2021-01-22T12:24:58.724893Z"
    },
    "papermill": {
     "duration": 0.045999,
     "end_time": "2021-01-22T12:24:58.725530",
     "exception": false,
     "start_time": "2021-01-22T12:24:58.679531",
     "status": "completed"
    },
    "tags": []
   },
   "outputs": [],
   "source": [
    "#hide\n",
    "LAST_DATE_I, dt_cols = get_dates(df)\n",
    "dt_today =dt_cols[LAST_DATE_I]\n",
    "# dt_5day = dt_cols[LAST_DATE_I - 5]\n",
    "dt_yday = dt_cols[LAST_DATE_I - 1]"
   ]
  },
  {
   "cell_type": "code",
   "execution_count": 11,
   "id": "restricted-sheriff",
   "metadata": {
    "execution": {
     "iopub.execute_input": "2021-01-22T12:24:58.802836Z",
     "iopub.status.busy": "2021-01-22T12:24:58.802233Z",
     "iopub.status.idle": "2021-01-22T12:24:58.810047Z",
     "shell.execute_reply": "2021-01-22T12:24:58.809532Z"
    },
    "papermill": {
     "duration": 0.04843,
     "end_time": "2021-01-22T12:24:58.810188",
     "exception": false,
     "start_time": "2021-01-22T12:24:58.761758",
     "status": "completed"
    },
    "tags": []
   },
   "outputs": [],
   "source": [
    "#hide\n",
    "dfc_cases = dft_cases.groupby(COL_REGION)[dt_today].sum()\n",
    "dfc_deaths = dft_deaths.groupby(COL_REGION)[dt_today].sum()\n",
    "# dfp_cases = dft_cases.groupby(COL_REGION)[dt_5day].sum()\n",
    "# dfp_deaths = dft_deaths.groupby(COL_REGION)[dt_5day].sum()\n",
    "dfp_cases = dft_cases.groupby(COL_REGION)[dt_yday].sum()\n",
    "dfp_deaths = dft_deaths.groupby(COL_REGION)[dt_yday].sum()"
   ]
  },
  {
   "cell_type": "code",
   "execution_count": 12,
   "id": "deluxe-hepatitis",
   "metadata": {
    "execution": {
     "iopub.execute_input": "2021-01-22T12:24:58.886925Z",
     "iopub.status.busy": "2021-01-22T12:24:58.886318Z",
     "iopub.status.idle": "2021-01-22T12:24:58.890822Z",
     "shell.execute_reply": "2021-01-22T12:24:58.890331Z"
    },
    "papermill": {
     "duration": 0.046226,
     "end_time": "2021-01-22T12:24:58.890957",
     "exception": false,
     "start_time": "2021-01-22T12:24:58.844731",
     "status": "completed"
    },
    "tags": []
   },
   "outputs": [],
   "source": [
    "#hide\n",
    "df_table = (pd.DataFrame(dict(Cases = dfc_cases, Deaths = dfc_deaths, PCases = dfp_cases, PDeaths = dfp_deaths))\n",
    "            .sort_values(by = ['Cases','Deaths'], ascending = [False, False])\n",
    "            .reset_index())"
   ]
  },
  {
   "cell_type": "code",
   "execution_count": 13,
   "id": "educational-chancellor",
   "metadata": {
    "execution": {
     "iopub.execute_input": "2021-01-22T12:24:58.979174Z",
     "iopub.status.busy": "2021-01-22T12:24:58.978554Z",
     "iopub.status.idle": "2021-01-22T12:24:58.986879Z",
     "shell.execute_reply": "2021-01-22T12:24:58.986298Z"
    },
    "papermill": {
     "duration": 0.061717,
     "end_time": "2021-01-22T12:24:58.987019",
     "exception": false,
     "start_time": "2021-01-22T12:24:58.925302",
     "status": "completed"
    },
    "tags": []
   },
   "outputs": [
    {
     "data": {
      "text/html": [
       "<div>\n",
       "<style scoped>\n",
       "    .dataframe tbody tr th:only-of-type {\n",
       "        vertical-align: middle;\n",
       "    }\n",
       "\n",
       "    .dataframe tbody tr th {\n",
       "        vertical-align: top;\n",
       "    }\n",
       "\n",
       "    .dataframe thead th {\n",
       "        text-align: right;\n",
       "    }\n",
       "</style>\n",
       "<table border=\"1\" class=\"dataframe\">\n",
       "  <thead>\n",
       "    <tr style=\"text-align: right;\">\n",
       "      <th></th>\n",
       "      <th>Country/Region</th>\n",
       "      <th>Cases</th>\n",
       "      <th>Deaths</th>\n",
       "      <th>PCases</th>\n",
       "      <th>PDeaths</th>\n",
       "      <th>Cases (+)</th>\n",
       "      <th>Deaths (+)</th>\n",
       "      <th>Fatality Rate</th>\n",
       "      <th>Continent</th>\n",
       "    </tr>\n",
       "  </thead>\n",
       "  <tbody>\n",
       "    <tr>\n",
       "      <th>0</th>\n",
       "      <td>US</td>\n",
       "      <td>24627675</td>\n",
       "      <td>410102</td>\n",
       "      <td>24438723</td>\n",
       "      <td>406147</td>\n",
       "      <td>188952</td>\n",
       "      <td>3955</td>\n",
       "      <td>1.67</td>\n",
       "      <td>North America</td>\n",
       "    </tr>\n",
       "    <tr>\n",
       "      <th>1</th>\n",
       "      <td>India</td>\n",
       "      <td>10625428</td>\n",
       "      <td>153032</td>\n",
       "      <td>10610883</td>\n",
       "      <td>152869</td>\n",
       "      <td>14545</td>\n",
       "      <td>163</td>\n",
       "      <td>1.44</td>\n",
       "      <td>Asia</td>\n",
       "    </tr>\n",
       "    <tr>\n",
       "      <th>2</th>\n",
       "      <td>Brazil</td>\n",
       "      <td>8697368</td>\n",
       "      <td>214147</td>\n",
       "      <td>8638249</td>\n",
       "      <td>212831</td>\n",
       "      <td>59119</td>\n",
       "      <td>1316</td>\n",
       "      <td>2.46</td>\n",
       "      <td>South America</td>\n",
       "    </tr>\n",
       "    <tr>\n",
       "      <th>3</th>\n",
       "      <td>Russia</td>\n",
       "      <td>3616680</td>\n",
       "      <td>66810</td>\n",
       "      <td>3595136</td>\n",
       "      <td>66214</td>\n",
       "      <td>21544</td>\n",
       "      <td>596</td>\n",
       "      <td>1.85</td>\n",
       "      <td>Europe</td>\n",
       "    </tr>\n",
       "    <tr>\n",
       "      <th>4</th>\n",
       "      <td>United Kingdom</td>\n",
       "      <td>3553773</td>\n",
       "      <td>94765</td>\n",
       "      <td>3515796</td>\n",
       "      <td>93469</td>\n",
       "      <td>37977</td>\n",
       "      <td>1296</td>\n",
       "      <td>2.67</td>\n",
       "      <td>Europe</td>\n",
       "    </tr>\n",
       "  </tbody>\n",
       "</table>\n",
       "</div>"
      ],
      "text/plain": [
       "   Country/Region     Cases  Deaths    PCases  PDeaths  Cases (+)  Deaths (+)  \\\n",
       "0              US  24627675  410102  24438723   406147     188952        3955   \n",
       "1           India  10625428  153032  10610883   152869      14545         163   \n",
       "2          Brazil   8697368  214147   8638249   212831      59119        1316   \n",
       "3          Russia   3616680   66810   3595136    66214      21544         596   \n",
       "4  United Kingdom   3553773   94765   3515796    93469      37977        1296   \n",
       "\n",
       "   Fatality Rate      Continent  \n",
       "0           1.67  North America  \n",
       "1           1.44           Asia  \n",
       "2           2.46  South America  \n",
       "3           1.85         Europe  \n",
       "4           2.67         Europe  "
      ]
     },
     "execution_count": 13,
     "metadata": {},
     "output_type": "execute_result"
    }
   ],
   "source": [
    "#hide\n",
    "for c in 'Cases, Deaths'.split(', '):\n",
    "    df_table[f'{c} (+)'] = (df_table[c] - df_table[f'P{c}']).clip(0)\n",
    "    #Clip ça veut dire, les chiffres negatif sont interdit\n",
    "df_table['Fatality Rate'] = (100* df_table['Deaths']/ df_table['Cases']).round(2)\n",
    "df_table['Continent'] = df_table['Country/Region'].map(mapping['map.continent'])\n",
    "df_table.head(5)"
   ]
  },
  {
   "cell_type": "code",
   "execution_count": 14,
   "id": "aboriginal-bulgaria",
   "metadata": {
    "execution": {
     "iopub.execute_input": "2021-01-22T12:24:59.063719Z",
     "iopub.status.busy": "2021-01-22T12:24:59.063077Z",
     "iopub.status.idle": "2021-01-22T12:24:59.066564Z",
     "shell.execute_reply": "2021-01-22T12:24:59.066054Z"
    },
    "papermill": {
     "duration": 0.044326,
     "end_time": "2021-01-22T12:24:59.066693",
     "exception": false,
     "start_time": "2021-01-22T12:24:59.022367",
     "status": "completed"
    },
    "tags": []
   },
   "outputs": [],
   "source": [
    "#hide\n",
    "#delete problematic countries from table\n",
    "df_table = df_table[~df_table['Country/Region'].isin(['Cape Verde', 'Cruise Ship', 'Kosovo'])]"
   ]
  },
  {
   "cell_type": "code",
   "execution_count": 15,
   "id": "fantastic-effect",
   "metadata": {
    "execution": {
     "iopub.execute_input": "2021-01-22T12:24:59.148096Z",
     "iopub.status.busy": "2021-01-22T12:24:59.147489Z",
     "iopub.status.idle": "2021-01-22T12:24:59.167137Z",
     "shell.execute_reply": "2021-01-22T12:24:59.166686Z"
    },
    "papermill": {
     "duration": 0.063926,
     "end_time": "2021-01-22T12:24:59.167263",
     "exception": false,
     "start_time": "2021-01-22T12:24:59.103337",
     "status": "completed"
    },
    "tags": []
   },
   "outputs": [
    {
     "data": {
      "text/html": [
       "<div>\n",
       "<style scoped>\n",
       "    .dataframe tbody tr th:only-of-type {\n",
       "        vertical-align: middle;\n",
       "    }\n",
       "\n",
       "    .dataframe tbody tr th {\n",
       "        vertical-align: top;\n",
       "    }\n",
       "\n",
       "    .dataframe thead th {\n",
       "        text-align: right;\n",
       "    }\n",
       "</style>\n",
       "<table border=\"1\" class=\"dataframe\">\n",
       "  <thead>\n",
       "    <tr style=\"text-align: right;\">\n",
       "      <th></th>\n",
       "      <th>Country/Region</th>\n",
       "      <th>Cases</th>\n",
       "      <th>Deaths</th>\n",
       "      <th>PCases</th>\n",
       "      <th>PDeaths</th>\n",
       "      <th>Cases (+)</th>\n",
       "      <th>Deaths (+)</th>\n",
       "      <th>Fatality Rate</th>\n",
       "      <th>Continent</th>\n",
       "    </tr>\n",
       "  </thead>\n",
       "  <tbody>\n",
       "    <tr>\n",
       "      <th>0</th>\n",
       "      <td>US</td>\n",
       "      <td>24627675</td>\n",
       "      <td>410102</td>\n",
       "      <td>24438723</td>\n",
       "      <td>406147</td>\n",
       "      <td>188952</td>\n",
       "      <td>3955</td>\n",
       "      <td>1.7</td>\n",
       "      <td>North America</td>\n",
       "    </tr>\n",
       "    <tr>\n",
       "      <th>1</th>\n",
       "      <td>India</td>\n",
       "      <td>10625428</td>\n",
       "      <td>153032</td>\n",
       "      <td>10610883</td>\n",
       "      <td>152869</td>\n",
       "      <td>14545</td>\n",
       "      <td>163</td>\n",
       "      <td>1.4</td>\n",
       "      <td>Asia</td>\n",
       "    </tr>\n",
       "    <tr>\n",
       "      <th>2</th>\n",
       "      <td>Brazil</td>\n",
       "      <td>8697368</td>\n",
       "      <td>214147</td>\n",
       "      <td>8638249</td>\n",
       "      <td>212831</td>\n",
       "      <td>59119</td>\n",
       "      <td>1316</td>\n",
       "      <td>2.5</td>\n",
       "      <td>South America</td>\n",
       "    </tr>\n",
       "    <tr>\n",
       "      <th>3</th>\n",
       "      <td>Russia</td>\n",
       "      <td>3616680</td>\n",
       "      <td>66810</td>\n",
       "      <td>3595136</td>\n",
       "      <td>66214</td>\n",
       "      <td>21544</td>\n",
       "      <td>596</td>\n",
       "      <td>1.8</td>\n",
       "      <td>Europe</td>\n",
       "    </tr>\n",
       "    <tr>\n",
       "      <th>4</th>\n",
       "      <td>United Kingdom</td>\n",
       "      <td>3553773</td>\n",
       "      <td>94765</td>\n",
       "      <td>3515796</td>\n",
       "      <td>93469</td>\n",
       "      <td>37977</td>\n",
       "      <td>1296</td>\n",
       "      <td>2.7</td>\n",
       "      <td>Europe</td>\n",
       "    </tr>\n",
       "  </tbody>\n",
       "</table>\n",
       "</div>"
      ],
      "text/plain": [
       "   Country/Region     Cases  Deaths    PCases  PDeaths  Cases (+)  Deaths (+)  \\\n",
       "0              US  24627675  410102  24438723   406147     188952        3955   \n",
       "1           India  10625428  153032  10610883   152869      14545         163   \n",
       "2          Brazil   8697368  214147   8638249   212831      59119        1316   \n",
       "3          Russia   3616680   66810   3595136    66214      21544         596   \n",
       "4  United Kingdom   3553773   94765   3515796    93469      37977        1296   \n",
       "\n",
       "   Fatality Rate      Continent  \n",
       "0            1.7  North America  \n",
       "1            1.4           Asia  \n",
       "2            2.5  South America  \n",
       "3            1.8         Europe  \n",
       "4            2.7         Europe  "
      ]
     },
     "execution_count": 15,
     "metadata": {},
     "output_type": "execute_result"
    }
   ],
   "source": [
    "#hide\n",
    "df_table = (pd.DataFrame(dict(Cases=dfc_cases, Deaths=dfc_deaths, PCases=dfp_cases, PDeaths=dfp_deaths))\n",
    "             .sort_values(by=['Cases', 'Deaths'], ascending=[False, False])\n",
    "             .reset_index())\n",
    "df_table.rename(columns={'index': 'Country/Region'}, inplace=True)\n",
    "for c in 'Cases, Deaths'.split(', '):\n",
    "    df_table[f'{c} (+)'] = (df_table[c] - df_table[f'P{c}']).clip(0)  # DATA BUG\n",
    "df_table['Fatality Rate'] = (100 * df_table['Deaths'] / df_table['Cases']).round(1)\n",
    "df_table['Continent'] = df_table['Country/Region'].map(mapping['map.continent'])\n",
    "df_table.head(5)"
   ]
  },
  {
   "cell_type": "code",
   "execution_count": 16,
   "id": "fewer-occasion",
   "metadata": {
    "execution": {
     "iopub.execute_input": "2021-01-22T12:24:59.251873Z",
     "iopub.status.busy": "2021-01-22T12:24:59.250996Z",
     "iopub.status.idle": "2021-01-22T12:24:59.253968Z",
     "shell.execute_reply": "2021-01-22T12:24:59.253165Z"
    },
    "papermill": {
     "duration": 0.047769,
     "end_time": "2021-01-22T12:24:59.254115",
     "exception": false,
     "start_time": "2021-01-22T12:24:59.206346",
     "status": "completed"
    },
    "tags": []
   },
   "outputs": [],
   "source": [
    "#hide\n",
    "#delete problematic countries from table\n",
    "df_table = df_table[~df_table['Country/Region'].isin(['Cape Verde', 'Cruise Ship', 'Kosovo'])]"
   ]
  },
  {
   "cell_type": "code",
   "execution_count": 17,
   "id": "related-center",
   "metadata": {
    "execution": {
     "iopub.execute_input": "2021-01-22T12:24:59.342735Z",
     "iopub.status.busy": "2021-01-22T12:24:59.342057Z",
     "iopub.status.idle": "2021-01-22T12:24:59.356816Z",
     "shell.execute_reply": "2021-01-22T12:24:59.356196Z"
    },
    "papermill": {
     "duration": 0.06383,
     "end_time": "2021-01-22T12:24:59.356952",
     "exception": false,
     "start_time": "2021-01-22T12:24:59.293122",
     "status": "completed"
    },
    "tags": []
   },
   "outputs": [],
   "source": [
    "#hide\n",
    "metrics = [df_table.columns[index] for index in [1,2,5,6]]\n",
    "# s_china = df_table[df_table['Country/Region'].eq('China')][metrics].sum().add_prefix('China ')\n",
    "s_us = df_table[df_table['Country/Region'].eq('US')][metrics].sum().add_prefix('US ')\n",
    "s_eu = df_table[df_table['Continent'].eq('Europe')][metrics].sum().add_prefix('EU ')\n",
    "s_ind = df_table[df_table['Country/Region'].eq('India')][metrics].sum().add_prefix('India ')\n",
    "summary = {'updated': pd.to_datetime(dt_today), 'since': pd.to_datetime(dt_yday)}\n",
    "summary = {'updated': pd.to_datetime(dt_today), 'since': pd.to_datetime(dt_yday)}\n",
    "summary = {**summary, **df_table[metrics].sum(), **s_ind, **s_us, **s_eu}"
   ]
  },
  {
   "cell_type": "code",
   "execution_count": 18,
   "id": "engaging-syndrome",
   "metadata": {
    "execution": {
     "iopub.execute_input": "2021-01-22T12:24:59.435446Z",
     "iopub.status.busy": "2021-01-22T12:24:59.434809Z",
     "iopub.status.idle": "2021-01-22T12:24:59.446913Z",
     "shell.execute_reply": "2021-01-22T12:24:59.446376Z"
    },
    "papermill": {
     "duration": 0.053447,
     "end_time": "2021-01-22T12:24:59.447049",
     "exception": false,
     "start_time": "2021-01-22T12:24:59.393602",
     "status": "completed"
    },
    "tags": []
   },
   "outputs": [],
   "source": [
    "#hide\n",
    "dft_ct_new_cases = dft_cases.groupby(COL_REGION)[dt_cols].sum().diff(axis=1).fillna(0).astype(int)"
   ]
  },
  {
   "cell_type": "code",
   "execution_count": 19,
   "id": "neutral-assignment",
   "metadata": {
    "execution": {
     "iopub.execute_input": "2021-01-22T12:24:59.530758Z",
     "iopub.status.busy": "2021-01-22T12:24:59.530041Z",
     "iopub.status.idle": "2021-01-22T12:24:59.531606Z",
     "shell.execute_reply": "2021-01-22T12:24:59.532108Z"
    },
    "papermill": {
     "duration": 0.048287,
     "end_time": "2021-01-22T12:24:59.532259",
     "exception": false,
     "start_time": "2021-01-22T12:24:59.483972",
     "status": "completed"
    },
    "tags": []
   },
   "outputs": [],
   "source": [
    "#hide\n",
    "everydaycases = dft_ct_new_cases.cumsum(axis=1)"
   ]
  },
  {
   "cell_type": "code",
   "execution_count": 20,
   "id": "parliamentary-calgary",
   "metadata": {
    "execution": {
     "iopub.execute_input": "2021-01-22T12:24:59.610790Z",
     "iopub.status.busy": "2021-01-22T12:24:59.610066Z",
     "iopub.status.idle": "2021-01-22T12:25:00.663282Z",
     "shell.execute_reply": "2021-01-22T12:25:00.662241Z"
    },
    "papermill": {
     "duration": 1.094957,
     "end_time": "2021-01-22T12:25:00.663441",
     "exception": false,
     "start_time": "2021-01-22T12:24:59.568484",
     "status": "completed"
    },
    "tags": []
   },
   "outputs": [],
   "source": [
    "#hide\n",
    "import pandas as pd\n",
    "import matplotlib.pyplot as plt\n",
    "import matplotlib.ticker as ticker\n",
    "import matplotlib.animation as animation\n",
    "from IPython.display import HTML"
   ]
  },
  {
   "cell_type": "code",
   "execution_count": 21,
   "id": "lasting-extraction",
   "metadata": {
    "execution": {
     "iopub.execute_input": "2021-01-22T12:25:00.743586Z",
     "iopub.status.busy": "2021-01-22T12:25:00.742727Z",
     "iopub.status.idle": "2021-01-22T12:25:00.747814Z",
     "shell.execute_reply": "2021-01-22T12:25:00.747114Z"
    },
    "papermill": {
     "duration": 0.047147,
     "end_time": "2021-01-22T12:25:00.747986",
     "exception": false,
     "start_time": "2021-01-22T12:25:00.700839",
     "status": "completed"
    },
    "tags": []
   },
   "outputs": [],
   "source": [
    "#hide\n",
    "t = everydaycases.stack()"
   ]
  },
  {
   "cell_type": "code",
   "execution_count": 22,
   "id": "premier-sleeve",
   "metadata": {
    "execution": {
     "iopub.execute_input": "2021-01-22T12:25:00.827704Z",
     "iopub.status.busy": "2021-01-22T12:25:00.827098Z",
     "iopub.status.idle": "2021-01-22T12:25:00.834466Z",
     "shell.execute_reply": "2021-01-22T12:25:00.833900Z"
    },
    "papermill": {
     "duration": 0.047347,
     "end_time": "2021-01-22T12:25:00.834601",
     "exception": false,
     "start_time": "2021-01-22T12:25:00.787254",
     "status": "completed"
    },
    "tags": []
   },
   "outputs": [],
   "source": [
    "#hide\n",
    "g = t.reset_index(['Country/Region'])"
   ]
  },
  {
   "cell_type": "code",
   "execution_count": 23,
   "id": "distributed-pittsburgh",
   "metadata": {
    "execution": {
     "iopub.execute_input": "2021-01-22T12:25:00.921943Z",
     "iopub.status.busy": "2021-01-22T12:25:00.921342Z",
     "iopub.status.idle": "2021-01-22T12:25:00.924582Z",
     "shell.execute_reply": "2021-01-22T12:25:00.925380Z"
    },
    "papermill": {
     "duration": 0.055552,
     "end_time": "2021-01-22T12:25:00.925543",
     "exception": false,
     "start_time": "2021-01-22T12:25:00.869991",
     "status": "completed"
    },
    "tags": []
   },
   "outputs": [],
   "source": [
    "#hide\n",
    "g.index.name = 'date'"
   ]
  },
  {
   "cell_type": "code",
   "execution_count": 24,
   "id": "naked-donor",
   "metadata": {
    "execution": {
     "iopub.execute_input": "2021-01-22T12:25:01.014536Z",
     "iopub.status.busy": "2021-01-22T12:25:01.013901Z",
     "iopub.status.idle": "2021-01-22T12:25:01.016062Z",
     "shell.execute_reply": "2021-01-22T12:25:01.015472Z"
    },
    "papermill": {
     "duration": 0.042599,
     "end_time": "2021-01-22T12:25:01.016192",
     "exception": false,
     "start_time": "2021-01-22T12:25:00.973593",
     "status": "completed"
    },
    "tags": []
   },
   "outputs": [],
   "source": [
    "# #hide\n",
    "# g = g.reset_index(['date'])"
   ]
  },
  {
   "cell_type": "code",
   "execution_count": 25,
   "id": "incomplete-mustang",
   "metadata": {
    "execution": {
     "iopub.execute_input": "2021-01-22T12:25:01.100057Z",
     "iopub.status.busy": "2021-01-22T12:25:01.099441Z",
     "iopub.status.idle": "2021-01-22T12:25:01.102221Z",
     "shell.execute_reply": "2021-01-22T12:25:01.101715Z"
    },
    "papermill": {
     "duration": 0.048337,
     "end_time": "2021-01-22T12:25:01.102357",
     "exception": false,
     "start_time": "2021-01-22T12:25:01.054020",
     "status": "completed"
    },
    "tags": []
   },
   "outputs": [],
   "source": [
    "#hide\n",
    "# g.head()"
   ]
  },
  {
   "cell_type": "code",
   "execution_count": 26,
   "id": "specific-kruger",
   "metadata": {
    "execution": {
     "iopub.execute_input": "2021-01-22T12:25:01.178870Z",
     "iopub.status.busy": "2021-01-22T12:25:01.177766Z",
     "iopub.status.idle": "2021-01-22T12:25:01.180271Z",
     "shell.execute_reply": "2021-01-22T12:25:01.181124Z"
    },
    "papermill": {
     "duration": 0.043145,
     "end_time": "2021-01-22T12:25:01.181443",
     "exception": false,
     "start_time": "2021-01-22T12:25:01.138298",
     "status": "completed"
    },
    "tags": []
   },
   "outputs": [],
   "source": [
    "#hide\n",
    "# g.columns = ['date','country','cases']"
   ]
  },
  {
   "cell_type": "code",
   "execution_count": 27,
   "id": "tender-conversion",
   "metadata": {
    "execution": {
     "iopub.execute_input": "2021-01-22T12:25:01.261871Z",
     "iopub.status.busy": "2021-01-22T12:25:01.261262Z",
     "iopub.status.idle": "2021-01-22T12:25:01.263555Z",
     "shell.execute_reply": "2021-01-22T12:25:01.264130Z"
    },
    "papermill": {
     "duration": 0.044899,
     "end_time": "2021-01-22T12:25:01.264285",
     "exception": false,
     "start_time": "2021-01-22T12:25:01.219386",
     "status": "completed"
    },
    "tags": []
   },
   "outputs": [],
   "source": [
    "#hide\n",
    "# g['continent'] = g.country"
   ]
  },
  {
   "cell_type": "code",
   "execution_count": 28,
   "id": "substantial-wilderness",
   "metadata": {
    "execution": {
     "iopub.execute_input": "2021-01-22T12:25:01.340400Z",
     "iopub.status.busy": "2021-01-22T12:25:01.339804Z",
     "iopub.status.idle": "2021-01-22T12:25:01.341783Z",
     "shell.execute_reply": "2021-01-22T12:25:01.342317Z"
    },
    "papermill": {
     "duration": 0.042094,
     "end_time": "2021-01-22T12:25:01.342470",
     "exception": false,
     "start_time": "2021-01-22T12:25:01.300376",
     "status": "completed"
    },
    "tags": []
   },
   "outputs": [],
   "source": [
    "#hide\n",
    "# cols = list(g.columns.values)"
   ]
  },
  {
   "cell_type": "code",
   "execution_count": 29,
   "id": "solved-farming",
   "metadata": {
    "execution": {
     "iopub.execute_input": "2021-01-22T12:25:01.419883Z",
     "iopub.status.busy": "2021-01-22T12:25:01.419281Z",
     "iopub.status.idle": "2021-01-22T12:25:01.422333Z",
     "shell.execute_reply": "2021-01-22T12:25:01.421681Z"
    },
    "papermill": {
     "duration": 0.043903,
     "end_time": "2021-01-22T12:25:01.422481",
     "exception": false,
     "start_time": "2021-01-22T12:25:01.378578",
     "status": "completed"
    },
    "tags": []
   },
   "outputs": [],
   "source": [
    "#hide\n",
    "# cols.insert(0, cols.pop())"
   ]
  },
  {
   "cell_type": "code",
   "execution_count": 30,
   "id": "executed-adoption",
   "metadata": {
    "execution": {
     "iopub.execute_input": "2021-01-22T12:25:01.501421Z",
     "iopub.status.busy": "2021-01-22T12:25:01.500705Z",
     "iopub.status.idle": "2021-01-22T12:25:01.503105Z",
     "shell.execute_reply": "2021-01-22T12:25:01.502591Z"
    },
    "papermill": {
     "duration": 0.042146,
     "end_time": "2021-01-22T12:25:01.503236",
     "exception": false,
     "start_time": "2021-01-22T12:25:01.461090",
     "status": "completed"
    },
    "tags": []
   },
   "outputs": [],
   "source": [
    "#hide\n",
    "# g = g[cols]"
   ]
  },
  {
   "cell_type": "code",
   "execution_count": 31,
   "id": "subject-dublin",
   "metadata": {
    "execution": {
     "iopub.execute_input": "2021-01-22T12:25:01.591253Z",
     "iopub.status.busy": "2021-01-22T12:25:01.590633Z",
     "iopub.status.idle": "2021-01-22T12:25:01.592997Z",
     "shell.execute_reply": "2021-01-22T12:25:01.593689Z"
    },
    "papermill": {
     "duration": 0.04401,
     "end_time": "2021-01-22T12:25:01.593848",
     "exception": false,
     "start_time": "2021-01-22T12:25:01.549838",
     "status": "completed"
    },
    "tags": []
   },
   "outputs": [],
   "source": [
    "#hide\n",
    "# g['continent'] = g['continent'].map(mapping['map.continent'])"
   ]
  },
  {
   "cell_type": "code",
   "execution_count": 32,
   "id": "freelance-scout",
   "metadata": {
    "execution": {
     "iopub.execute_input": "2021-01-22T12:25:01.672933Z",
     "iopub.status.busy": "2021-01-22T12:25:01.671853Z",
     "iopub.status.idle": "2021-01-22T12:25:01.674012Z",
     "shell.execute_reply": "2021-01-22T12:25:01.674613Z"
    },
    "papermill": {
     "duration": 0.043679,
     "end_time": "2021-01-22T12:25:01.674837",
     "exception": false,
     "start_time": "2021-01-22T12:25:01.631158",
     "status": "completed"
    },
    "tags": []
   },
   "outputs": [],
   "source": [
    "#hide\n",
    "# g.head()"
   ]
  },
  {
   "cell_type": "code",
   "execution_count": 33,
   "id": "limited-engine",
   "metadata": {
    "execution": {
     "iopub.execute_input": "2021-01-22T12:25:01.757560Z",
     "iopub.status.busy": "2021-01-22T12:25:01.756504Z",
     "iopub.status.idle": "2021-01-22T12:25:01.758710Z",
     "shell.execute_reply": "2021-01-22T12:25:01.759547Z"
    },
    "papermill": {
     "duration": 0.045883,
     "end_time": "2021-01-22T12:25:01.759791",
     "exception": false,
     "start_time": "2021-01-22T12:25:01.713908",
     "status": "completed"
    },
    "tags": []
   },
   "outputs": [],
   "source": [
    "# hide\n",
    "# g['date'] = g['date'].astype('datetime64[ns]')"
   ]
  },
  {
   "cell_type": "code",
   "execution_count": 34,
   "id": "sophisticated-supervisor",
   "metadata": {
    "execution": {
     "iopub.execute_input": "2021-01-22T12:25:01.838483Z",
     "iopub.status.busy": "2021-01-22T12:25:01.837855Z",
     "iopub.status.idle": "2021-01-22T12:25:01.840017Z",
     "shell.execute_reply": "2021-01-22T12:25:01.839428Z"
    },
    "papermill": {
     "duration": 0.042153,
     "end_time": "2021-01-22T12:25:01.840147",
     "exception": false,
     "start_time": "2021-01-22T12:25:01.797994",
     "status": "completed"
    },
    "tags": []
   },
   "outputs": [],
   "source": [
    "#hide\n",
    "# g['date'] = g.date.dt.dayofyear"
   ]
  },
  {
   "cell_type": "code",
   "execution_count": 35,
   "id": "inside-dubai",
   "metadata": {
    "execution": {
     "iopub.execute_input": "2021-01-22T12:25:01.917065Z",
     "iopub.status.busy": "2021-01-22T12:25:01.916465Z",
     "iopub.status.idle": "2021-01-22T12:25:01.918786Z",
     "shell.execute_reply": "2021-01-22T12:25:01.919347Z"
    },
    "papermill": {
     "duration": 0.043375,
     "end_time": "2021-01-22T12:25:01.919496",
     "exception": false,
     "start_time": "2021-01-22T12:25:01.876121",
     "status": "completed"
    },
    "tags": []
   },
   "outputs": [],
   "source": [
    "#hide\n",
    "# g = g.rename(columns= {'continent':'group','country':'name','cases':'value'})"
   ]
  },
  {
   "cell_type": "code",
   "execution_count": 36,
   "id": "fleet-motorcycle",
   "metadata": {
    "execution": {
     "iopub.execute_input": "2021-01-22T12:25:01.999630Z",
     "iopub.status.busy": "2021-01-22T12:25:01.999006Z",
     "iopub.status.idle": "2021-01-22T12:25:02.000237Z",
     "shell.execute_reply": "2021-01-22T12:25:02.000793Z"
    },
    "papermill": {
     "duration": 0.0455,
     "end_time": "2021-01-22T12:25:02.000942",
     "exception": false,
     "start_time": "2021-01-22T12:25:01.955442",
     "status": "completed"
    },
    "tags": []
   },
   "outputs": [],
   "source": [
    "#hide\n",
    "# cols = ['name','group','day','value']"
   ]
  },
  {
   "cell_type": "code",
   "execution_count": 37,
   "id": "continued-sleeping",
   "metadata": {
    "execution": {
     "iopub.execute_input": "2021-01-22T12:25:02.077518Z",
     "iopub.status.busy": "2021-01-22T12:25:02.076911Z",
     "iopub.status.idle": "2021-01-22T12:25:02.080349Z",
     "shell.execute_reply": "2021-01-22T12:25:02.079841Z"
    },
    "papermill": {
     "duration": 0.043327,
     "end_time": "2021-01-22T12:25:02.080486",
     "exception": false,
     "start_time": "2021-01-22T12:25:02.037159",
     "status": "completed"
    },
    "tags": []
   },
   "outputs": [],
   "source": [
    "#hide\n",
    "# g.rename(columns= {'date':'day'},inplace = True)"
   ]
  },
  {
   "cell_type": "code",
   "execution_count": 38,
   "id": "major-fight",
   "metadata": {
    "execution": {
     "iopub.execute_input": "2021-01-22T12:25:02.156543Z",
     "iopub.status.busy": "2021-01-22T12:25:02.155929Z",
     "iopub.status.idle": "2021-01-22T12:25:02.158961Z",
     "shell.execute_reply": "2021-01-22T12:25:02.158461Z"
    },
    "papermill": {
     "duration": 0.042487,
     "end_time": "2021-01-22T12:25:02.159098",
     "exception": false,
     "start_time": "2021-01-22T12:25:02.116611",
     "status": "completed"
    },
    "tags": []
   },
   "outputs": [],
   "source": [
    "#hide\n",
    "# g = g[cols]"
   ]
  },
  {
   "cell_type": "code",
   "execution_count": 39,
   "id": "structured-mobile",
   "metadata": {
    "execution": {
     "iopub.execute_input": "2021-01-22T12:25:02.240353Z",
     "iopub.status.busy": "2021-01-22T12:25:02.239732Z",
     "iopub.status.idle": "2021-01-22T12:25:02.242755Z",
     "shell.execute_reply": "2021-01-22T12:25:02.242256Z"
    },
    "papermill": {
     "duration": 0.048631,
     "end_time": "2021-01-22T12:25:02.243140",
     "exception": false,
     "start_time": "2021-01-22T12:25:02.194509",
     "status": "completed"
    },
    "tags": []
   },
   "outputs": [],
   "source": [
    "# #hide\n",
    "# g = g[g.group.notna()]"
   ]
  },
  {
   "cell_type": "code",
   "execution_count": 40,
   "id": "determined-closing",
   "metadata": {
    "execution": {
     "iopub.execute_input": "2021-01-22T12:25:02.326490Z",
     "iopub.status.busy": "2021-01-22T12:25:02.325850Z",
     "iopub.status.idle": "2021-01-22T12:25:02.327544Z",
     "shell.execute_reply": "2021-01-22T12:25:02.328022Z"
    },
    "papermill": {
     "duration": 0.048202,
     "end_time": "2021-01-22T12:25:02.328166",
     "exception": false,
     "start_time": "2021-01-22T12:25:02.279964",
     "status": "completed"
    },
    "tags": []
   },
   "outputs": [],
   "source": [
    "# #hide\n",
    "# colors = dict(zip(\n",
    "#     [\"Oceania\", \"Europe\", \"Asia\", \"South America\", \"Middle East\", \"North America\", \"Africa\"],\n",
    "#     [\"#adb0ff\", \"#ffb3ff\", \"#90d595\", \"#e48381\", \"#aafbff\", \"#f7bb5f\", \"#eafb50\"]\n",
    "# ))\n",
    "# group_lk = g.set_index('name')['group'].to_dict()"
   ]
  },
  {
   "cell_type": "code",
   "execution_count": null,
   "id": "gross-drinking",
   "metadata": {
    "papermill": {
     "duration": 0.038328,
     "end_time": "2021-01-22T12:25:02.404604",
     "exception": false,
     "start_time": "2021-01-22T12:25:02.366276",
     "status": "completed"
    },
    "tags": []
   },
   "outputs": [],
   "source": []
  },
  {
   "cell_type": "code",
   "execution_count": 41,
   "id": "subject-macintosh",
   "metadata": {
    "execution": {
     "iopub.execute_input": "2021-01-22T12:25:02.484163Z",
     "iopub.status.busy": "2021-01-22T12:25:02.483537Z",
     "iopub.status.idle": "2021-01-22T12:25:02.486499Z",
     "shell.execute_reply": "2021-01-22T12:25:02.485932Z"
    },
    "papermill": {
     "duration": 0.043652,
     "end_time": "2021-01-22T12:25:02.486635",
     "exception": false,
     "start_time": "2021-01-22T12:25:02.442983",
     "status": "completed"
    },
    "tags": []
   },
   "outputs": [],
   "source": [
    "# #hide\n",
    "# fig, ax = plt.subplots(figsize=(15, 8))\n",
    "\n",
    "# def draw_barchart(current_day):\n",
    "#     dff = g[g['day'].eq(current_day)].sort_values(by='value', ascending=True).tail(10)\n",
    "#     ax.clear()\n",
    "#     ax.barh(dff['name'], dff['value'], color=[colors[group_lk[x]] for x in dff['name']])\n",
    "#     dx = dff['value'].max() / 200\n",
    "    \n",
    "#     for i, (value, name) in enumerate(zip(dff['value'], dff['name'])):\n",
    "#         ax.text(value-dx, i,     name,           size=14, weight=600, ha='right', va='bottom')\n",
    "#         ax.text(value-dx, i-.25, group_lk[name], size=10, color='#444444', ha='right', va='baseline')\n",
    "#         ax.text(value+dx, i,     f'{value:,.0f}',  size=14, ha='left',  va='center')\n",
    "#     ax.text(1, 0.4, current_day, transform=ax.transAxes, color='#777777', size=46, ha='right', weight=800)\n",
    "#     ax.text(0, 1.06, 'Population (thousands)', transform=ax.transAxes, size=12, color='#777777')\n",
    "#     ax.xaxis.set_major_formatter(ticker.StrMethodFormatter('{x:,.0f}'))\n",
    "#     ax.xaxis.set_ticks_position('top')\n",
    "#     ax.tick_params(axis='x', colors='#777777', labelsize=12)\n",
    "#     ax.set_yticks([])\n",
    "#     ax.margins(0, 0.01)\n",
    "#     ax.grid(which='major', axis='x', linestyle='-')\n",
    "#     ax.set_axisbelow(True)\n",
    "    \n",
    "#     ax.text(0, 1.15, 'Coronavirus',\n",
    "#             transform=ax.transAxes, size=24, weight=600, ha='left', va='top')\n",
    "# #     ax.text(1, 0, 'by @pratapvardhan; credit @jburnmurdoch', transform=ax.transAxes, color='#777777', ha='right',\n",
    "# #             bbox=dict(facecolor='white', alpha=0.8, edgecolor='white'))\n",
    "#     plt.box(False)"
   ]
  },
  {
   "cell_type": "code",
   "execution_count": 42,
   "id": "sexual-wages",
   "metadata": {
    "execution": {
     "iopub.execute_input": "2021-01-22T12:25:02.563493Z",
     "iopub.status.busy": "2021-01-22T12:25:02.562891Z",
     "iopub.status.idle": "2021-01-22T12:25:02.567549Z",
     "shell.execute_reply": "2021-01-22T12:25:02.568118Z"
    },
    "papermill": {
     "duration": 0.045654,
     "end_time": "2021-01-22T12:25:02.568271",
     "exception": false,
     "start_time": "2021-01-22T12:25:02.522617",
     "status": "completed"
    },
    "tags": []
   },
   "outputs": [],
   "source": [
    "# #hide_input\n",
    "# fig, ax = plt.subplots(figsize=(15, 8))\n",
    "# animator = animation.FuncAnimation(fig, draw_barchart, frames=range(g.day.values.min(), g.day.values.max()))\n",
    "# HTML(animator.to_jshtml())\n",
    "# # or use animator.to_html5_video() or animator.save() "
   ]
  },
  {
   "cell_type": "code",
   "execution_count": null,
   "id": "australian-container",
   "metadata": {
    "papermill": {
     "duration": 0.038173,
     "end_time": "2021-01-22T12:25:02.642453",
     "exception": false,
     "start_time": "2021-01-22T12:25:02.604280",
     "status": "completed"
    },
    "tags": []
   },
   "outputs": [],
   "source": []
  },
  {
   "cell_type": "code",
   "execution_count": null,
   "id": "mediterranean-pontiac",
   "metadata": {
    "papermill": {
     "duration": 0.036102,
     "end_time": "2021-01-22T12:25:02.715870",
     "exception": false,
     "start_time": "2021-01-22T12:25:02.679768",
     "status": "completed"
    },
    "tags": []
   },
   "outputs": [],
   "source": []
  },
  {
   "cell_type": "code",
   "execution_count": null,
   "id": "aging-legislature",
   "metadata": {
    "papermill": {
     "duration": 0.036472,
     "end_time": "2021-01-22T12:25:02.789911",
     "exception": false,
     "start_time": "2021-01-22T12:25:02.753439",
     "status": "completed"
    },
    "tags": []
   },
   "outputs": [],
   "source": []
  }
 ],
 "metadata": {
  "kernelspec": {
   "display_name": "Python 3",
   "language": "python",
   "name": "python3"
  },
  "language_info": {
   "codemirror_mode": {
    "name": "ipython",
    "version": 3
   },
   "file_extension": ".py",
   "mimetype": "text/x-python",
   "name": "python",
   "nbconvert_exporter": "python",
   "pygments_lexer": "ipython3",
   "version": "3.6.12"
  },
  "papermill": {
   "duration": 7.074383,
   "end_time": "2021-01-22T12:25:03.140303",
   "environment_variables": {},
   "exception": null,
   "input_path": "2020-03-21-covid19exp.ipynb",
   "output_path": "2020-03-21-covid19exp.ipynb",
   "parameters": {},
   "start_time": "2021-01-22T12:24:56.065920",
   "version": "2.0.0"
  }
 },
 "nbformat": 4,
 "nbformat_minor": 5
}