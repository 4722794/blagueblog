{
 "cells": [
  {
   "cell_type": "markdown",
   "id": "muslim-click",
   "metadata": {
    "papermill": {
     "duration": 0.035594,
     "end_time": "2022-08-02T00:46:53.179685",
     "exception": false,
     "start_time": "2022-08-02T00:46:53.144091",
     "status": "completed"
    },
    "tags": []
   },
   "source": [
    "# COVID-19 Case Race\n",
    "> A race chart to see rising cases around the world\n",
    "\n",
    "- author: Hargun Oberoi\n",
    "- image: images/covid-overview.png\n",
    "- hide: false\n",
    "- badges: false"
   ]
  },
  {
   "cell_type": "code",
   "execution_count": 1,
   "id": "proof-material",
   "metadata": {
    "execution": {
     "iopub.execute_input": "2022-08-02T00:46:53.250802Z",
     "iopub.status.busy": "2022-08-02T00:46:53.250218Z",
     "iopub.status.idle": "2022-08-02T00:46:53.564965Z",
     "shell.execute_reply": "2022-08-02T00:46:53.564471Z"
    },
    "papermill": {
     "duration": 0.354386,
     "end_time": "2022-08-02T00:46:53.565097",
     "exception": false,
     "start_time": "2022-08-02T00:46:53.210711",
     "status": "completed"
    },
    "tags": []
   },
   "outputs": [],
   "source": [
    "#hide\n",
    "import numpy as np\n",
    "import pandas as pd\n",
    "from jinja2 import Template\n",
    "from IPython.display import HTML"
   ]
  },
  {
   "cell_type": "code",
   "execution_count": 2,
   "id": "developed-terminology",
   "metadata": {
    "execution": {
     "iopub.execute_input": "2022-08-02T00:46:53.631279Z",
     "iopub.status.busy": "2022-08-02T00:46:53.630699Z",
     "iopub.status.idle": "2022-08-02T00:46:53.633304Z",
     "shell.execute_reply": "2022-08-02T00:46:53.632857Z"
    },
    "papermill": {
     "duration": 0.03722,
     "end_time": "2022-08-02T00:46:53.633407",
     "exception": false,
     "start_time": "2022-08-02T00:46:53.596187",
     "status": "completed"
    },
    "tags": []
   },
   "outputs": [],
   "source": [
    "#hide\n",
    "\n",
    "# FETCH\n",
    "base_url = 'https://raw.githubusercontent.com/pratapvardhan/notebooks/master/covid19/'\n",
    "paths = {\n",
    "    'mapping': base_url + 'mapping_countries.csv',\n",
    "    'overview': base_url + 'overview.tpl'\n",
    "}"
   ]
  },
  {
   "cell_type": "code",
   "execution_count": 3,
   "id": "dynamic-saver",
   "metadata": {
    "execution": {
     "iopub.execute_input": "2022-08-02T00:46:53.704144Z",
     "iopub.status.busy": "2022-08-02T00:46:53.703551Z",
     "iopub.status.idle": "2022-08-02T00:46:53.706383Z",
     "shell.execute_reply": "2022-08-02T00:46:53.706840Z"
    },
    "papermill": {
     "duration": 0.043004,
     "end_time": "2022-08-02T00:46:53.706961",
     "exception": false,
     "start_time": "2022-08-02T00:46:53.663957",
     "status": "completed"
    },
    "tags": []
   },
   "outputs": [
    {
     "data": {
      "text/plain": [
       "'https://raw.githubusercontent.com/pratapvardhan/notebooks/master/covid19/mapping_countries.csv'"
      ]
     },
     "execution_count": 3,
     "metadata": {},
     "output_type": "execute_result"
    }
   ],
   "source": [
    "#hide\n",
    "paths['mapping']"
   ]
  },
  {
   "cell_type": "code",
   "execution_count": 4,
   "id": "urban-software",
   "metadata": {
    "execution": {
     "iopub.execute_input": "2022-08-02T00:46:53.773928Z",
     "iopub.status.busy": "2022-08-02T00:46:53.773352Z",
     "iopub.status.idle": "2022-08-02T00:46:53.776100Z",
     "shell.execute_reply": "2022-08-02T00:46:53.775620Z"
    },
    "papermill": {
     "duration": 0.038354,
     "end_time": "2022-08-02T00:46:53.776203",
     "exception": false,
     "start_time": "2022-08-02T00:46:53.737849",
     "status": "completed"
    },
    "tags": []
   },
   "outputs": [],
   "source": [
    "#hide\n",
    "def get_mappings(url):\n",
    "    df = pd.read_csv(url)\n",
    "    return {\n",
    "        'df': df,\n",
    "        'replace.country': dict(df.dropna(subset=['Name']).set_index('Country')['Name']),\n",
    "        'map.continent': dict(df.set_index('Name')['Continent'])\n",
    "    }"
   ]
  },
  {
   "cell_type": "code",
   "execution_count": 5,
   "id": "intimate-machinery",
   "metadata": {
    "execution": {
     "iopub.execute_input": "2022-08-02T00:46:53.843130Z",
     "iopub.status.busy": "2022-08-02T00:46:53.842560Z",
     "iopub.status.idle": "2022-08-02T00:46:53.894796Z",
     "shell.execute_reply": "2022-08-02T00:46:53.894280Z"
    },
    "papermill": {
     "duration": 0.087963,
     "end_time": "2022-08-02T00:46:53.894905",
     "exception": false,
     "start_time": "2022-08-02T00:46:53.806942",
     "status": "completed"
    },
    "tags": []
   },
   "outputs": [],
   "source": [
    "#hide\n",
    "mapping = get_mappings(paths['mapping'])"
   ]
  },
  {
   "cell_type": "code",
   "execution_count": 6,
   "id": "certified-tactics",
   "metadata": {
    "execution": {
     "iopub.execute_input": "2022-08-02T00:46:53.961631Z",
     "iopub.status.busy": "2022-08-02T00:46:53.960992Z",
     "iopub.status.idle": "2022-08-02T00:46:53.962931Z",
     "shell.execute_reply": "2022-08-02T00:46:53.963341Z"
    },
    "papermill": {
     "duration": 0.037707,
     "end_time": "2022-08-02T00:46:53.963458",
     "exception": false,
     "start_time": "2022-08-02T00:46:53.925751",
     "status": "completed"
    },
    "tags": []
   },
   "outputs": [],
   "source": [
    "#hide\n",
    "def get_template(path):\n",
    "    from urllib.parse import urlparse\n",
    "    if bool(urlparse(path).netloc):\n",
    "        from urllib.request import urlopen\n",
    "        return urlopen(path).read().decode('utf8')\n",
    "    return open(path).read()"
   ]
  },
  {
   "cell_type": "code",
   "execution_count": 7,
   "id": "realistic-blast",
   "metadata": {
    "execution": {
     "iopub.execute_input": "2022-08-02T00:46:54.029449Z",
     "iopub.status.busy": "2022-08-02T00:46:54.028867Z",
     "iopub.status.idle": "2022-08-02T00:46:54.031653Z",
     "shell.execute_reply": "2022-08-02T00:46:54.031151Z"
    },
    "papermill": {
     "duration": 0.037693,
     "end_time": "2022-08-02T00:46:54.031759",
     "exception": false,
     "start_time": "2022-08-02T00:46:53.994066",
     "status": "completed"
    },
    "tags": []
   },
   "outputs": [],
   "source": [
    "#hide\n",
    "def get_frame(name):\n",
    "    url = (\n",
    "        'https://raw.githubusercontent.com/CSSEGISandData/COVID-19/master/csse_covid_19_data/'\n",
    "        f'csse_covid_19_time_series/time_series_covid19_{name}_global.csv')\n",
    "    df = pd.read_csv(url)\n",
    "    # rename countries\n",
    "    df['Country/Region'] = df['Country/Region'].replace(mapping['replace.country'])\n",
    "    return df"
   ]
  },
  {
   "cell_type": "code",
   "execution_count": 8,
   "id": "affiliated-characterization",
   "metadata": {
    "execution": {
     "iopub.execute_input": "2022-08-02T00:46:54.099147Z",
     "iopub.status.busy": "2022-08-02T00:46:54.098564Z",
     "iopub.status.idle": "2022-08-02T00:46:54.100929Z",
     "shell.execute_reply": "2022-08-02T00:46:54.100404Z"
    },
    "papermill": {
     "duration": 0.038421,
     "end_time": "2022-08-02T00:46:54.101028",
     "exception": false,
     "start_time": "2022-08-02T00:46:54.062607",
     "status": "completed"
    },
    "tags": []
   },
   "outputs": [],
   "source": [
    "#hide\n",
    "def get_dates(df):\n",
    "    dt_cols = df.columns[~df.columns.isin(['Province/State', 'Country/Region', 'Lat', 'Long'])]\n",
    "    LAST_DATE_I = -1\n",
    "    # sometimes last column may be empty, then go backwards\n",
    "    for i in range(-1, -len(dt_cols), -1):\n",
    "        if not df[dt_cols[i]].fillna(0).eq(0).all():\n",
    "            LAST_DATE_I = i\n",
    "            break\n",
    "    return LAST_DATE_I, dt_cols"
   ]
  },
  {
   "cell_type": "code",
   "execution_count": 9,
   "id": "recent-optimization",
   "metadata": {
    "execution": {
     "iopub.execute_input": "2022-08-02T00:46:54.166895Z",
     "iopub.status.busy": "2022-08-02T00:46:54.166311Z",
     "iopub.status.idle": "2022-08-02T00:46:54.687823Z",
     "shell.execute_reply": "2022-08-02T00:46:54.688281Z"
    },
    "papermill": {
     "duration": 0.556636,
     "end_time": "2022-08-02T00:46:54.688421",
     "exception": false,
     "start_time": "2022-08-02T00:46:54.131785",
     "status": "completed"
    },
    "tags": []
   },
   "outputs": [],
   "source": [
    "#hide\n",
    "COL_REGION = 'Country/Region'\n",
    "# Confirmed, Recovered, Deaths\n",
    "df = get_frame('confirmed')\n",
    "# dft_: timeseries, dfc_: today country agg\n",
    "dft_cases = df\n",
    "dft_deaths = get_frame('deaths')\n",
    "dft_recovered = get_frame('recovered')\n",
    "LAST_DATE_I, dt_cols = get_dates(df)"
   ]
  },
  {
   "cell_type": "code",
   "execution_count": 10,
   "id": "absolute-copper",
   "metadata": {
    "execution": {
     "iopub.execute_input": "2022-08-02T00:46:54.755415Z",
     "iopub.status.busy": "2022-08-02T00:46:54.754826Z",
     "iopub.status.idle": "2022-08-02T00:46:54.757270Z",
     "shell.execute_reply": "2022-08-02T00:46:54.756731Z"
    },
    "papermill": {
     "duration": 0.037892,
     "end_time": "2022-08-02T00:46:54.757367",
     "exception": false,
     "start_time": "2022-08-02T00:46:54.719475",
     "status": "completed"
    },
    "tags": []
   },
   "outputs": [],
   "source": [
    "#hide\n",
    "LAST_DATE_I, dt_cols = get_dates(df)\n",
    "dt_today =dt_cols[LAST_DATE_I]\n",
    "# dt_5day = dt_cols[LAST_DATE_I - 5]\n",
    "dt_yday = dt_cols[LAST_DATE_I - 1]"
   ]
  },
  {
   "cell_type": "code",
   "execution_count": 11,
   "id": "restricted-sheriff",
   "metadata": {
    "execution": {
     "iopub.execute_input": "2022-08-02T00:46:54.825776Z",
     "iopub.status.busy": "2022-08-02T00:46:54.825195Z",
     "iopub.status.idle": "2022-08-02T00:46:54.831427Z",
     "shell.execute_reply": "2022-08-02T00:46:54.830968Z"
    },
    "papermill": {
     "duration": 0.043451,
     "end_time": "2022-08-02T00:46:54.831552",
     "exception": false,
     "start_time": "2022-08-02T00:46:54.788101",
     "status": "completed"
    },
    "tags": []
   },
   "outputs": [],
   "source": [
    "#hide\n",
    "dfc_cases = dft_cases.groupby(COL_REGION)[dt_today].sum()\n",
    "dfc_deaths = dft_deaths.groupby(COL_REGION)[dt_today].sum()\n",
    "# dfp_cases = dft_cases.groupby(COL_REGION)[dt_5day].sum()\n",
    "# dfp_deaths = dft_deaths.groupby(COL_REGION)[dt_5day].sum()\n",
    "dfp_cases = dft_cases.groupby(COL_REGION)[dt_yday].sum()\n",
    "dfp_deaths = dft_deaths.groupby(COL_REGION)[dt_yday].sum()"
   ]
  },
  {
   "cell_type": "code",
   "execution_count": 12,
   "id": "deluxe-hepatitis",
   "metadata": {
    "execution": {
     "iopub.execute_input": "2022-08-02T00:46:54.898899Z",
     "iopub.status.busy": "2022-08-02T00:46:54.898335Z",
     "iopub.status.idle": "2022-08-02T00:46:54.903073Z",
     "shell.execute_reply": "2022-08-02T00:46:54.902621Z"
    },
    "papermill": {
     "duration": 0.040791,
     "end_time": "2022-08-02T00:46:54.903174",
     "exception": false,
     "start_time": "2022-08-02T00:46:54.862383",
     "status": "completed"
    },
    "tags": []
   },
   "outputs": [],
   "source": [
    "#hide\n",
    "df_table = (pd.DataFrame(dict(Cases = dfc_cases, Deaths = dfc_deaths, PCases = dfp_cases, PDeaths = dfp_deaths))\n",
    "            .sort_values(by = ['Cases','Deaths'], ascending = [False, False])\n",
    "            .reset_index())"
   ]
  },
  {
   "cell_type": "code",
   "execution_count": 13,
   "id": "educational-chancellor",
   "metadata": {
    "execution": {
     "iopub.execute_input": "2022-08-02T00:46:54.977413Z",
     "iopub.status.busy": "2022-08-02T00:46:54.976851Z",
     "iopub.status.idle": "2022-08-02T00:46:54.988893Z",
     "shell.execute_reply": "2022-08-02T00:46:54.988444Z"
    },
    "papermill": {
     "duration": 0.055056,
     "end_time": "2022-08-02T00:46:54.988999",
     "exception": false,
     "start_time": "2022-08-02T00:46:54.933943",
     "status": "completed"
    },
    "tags": []
   },
   "outputs": [
    {
     "data": {
      "text/html": [
       "<div>\n",
       "<style scoped>\n",
       "    .dataframe tbody tr th:only-of-type {\n",
       "        vertical-align: middle;\n",
       "    }\n",
       "\n",
       "    .dataframe tbody tr th {\n",
       "        vertical-align: top;\n",
       "    }\n",
       "\n",
       "    .dataframe thead th {\n",
       "        text-align: right;\n",
       "    }\n",
       "</style>\n",
       "<table border=\"1\" class=\"dataframe\">\n",
       "  <thead>\n",
       "    <tr style=\"text-align: right;\">\n",
       "      <th></th>\n",
       "      <th>Country/Region</th>\n",
       "      <th>Cases</th>\n",
       "      <th>Deaths</th>\n",
       "      <th>PCases</th>\n",
       "      <th>PDeaths</th>\n",
       "      <th>Cases (+)</th>\n",
       "      <th>Deaths (+)</th>\n",
       "      <th>Fatality Rate</th>\n",
       "      <th>Continent</th>\n",
       "    </tr>\n",
       "  </thead>\n",
       "  <tbody>\n",
       "    <tr>\n",
       "      <th>0</th>\n",
       "      <td>US</td>\n",
       "      <td>91331830</td>\n",
       "      <td>1029939</td>\n",
       "      <td>91321876</td>\n",
       "      <td>1029938</td>\n",
       "      <td>9954</td>\n",
       "      <td>1</td>\n",
       "      <td>1.13</td>\n",
       "      <td>North America</td>\n",
       "    </tr>\n",
       "    <tr>\n",
       "      <th>1</th>\n",
       "      <td>India</td>\n",
       "      <td>44036275</td>\n",
       "      <td>526396</td>\n",
       "      <td>44019811</td>\n",
       "      <td>526357</td>\n",
       "      <td>16464</td>\n",
       "      <td>39</td>\n",
       "      <td>1.20</td>\n",
       "      <td>Asia</td>\n",
       "    </tr>\n",
       "    <tr>\n",
       "      <th>2</th>\n",
       "      <td>France</td>\n",
       "      <td>33997224</td>\n",
       "      <td>153023</td>\n",
       "      <td>33997224</td>\n",
       "      <td>153023</td>\n",
       "      <td>0</td>\n",
       "      <td>0</td>\n",
       "      <td>0.45</td>\n",
       "      <td>Europe</td>\n",
       "    </tr>\n",
       "    <tr>\n",
       "      <th>3</th>\n",
       "      <td>Brazil</td>\n",
       "      <td>33833900</td>\n",
       "      <td>678514</td>\n",
       "      <td>33813587</td>\n",
       "      <td>678486</td>\n",
       "      <td>20313</td>\n",
       "      <td>28</td>\n",
       "      <td>2.01</td>\n",
       "      <td>South America</td>\n",
       "    </tr>\n",
       "    <tr>\n",
       "      <th>4</th>\n",
       "      <td>Germany</td>\n",
       "      <td>30854175</td>\n",
       "      <td>143979</td>\n",
       "      <td>30853314</td>\n",
       "      <td>143972</td>\n",
       "      <td>861</td>\n",
       "      <td>7</td>\n",
       "      <td>0.47</td>\n",
       "      <td>Europe</td>\n",
       "    </tr>\n",
       "  </tbody>\n",
       "</table>\n",
       "</div>"
      ],
      "text/plain": [
       "  Country/Region     Cases   Deaths    PCases  PDeaths  Cases (+)  Deaths (+)  \\\n",
       "0             US  91331830  1029939  91321876  1029938       9954           1   \n",
       "1          India  44036275   526396  44019811   526357      16464          39   \n",
       "2         France  33997224   153023  33997224   153023          0           0   \n",
       "3         Brazil  33833900   678514  33813587   678486      20313          28   \n",
       "4        Germany  30854175   143979  30853314   143972        861           7   \n",
       "\n",
       "   Fatality Rate      Continent  \n",
       "0           1.13  North America  \n",
       "1           1.20           Asia  \n",
       "2           0.45         Europe  \n",
       "3           2.01  South America  \n",
       "4           0.47         Europe  "
      ]
     },
     "execution_count": 13,
     "metadata": {},
     "output_type": "execute_result"
    }
   ],
   "source": [
    "#hide\n",
    "for c in 'Cases, Deaths'.split(', '):\n",
    "    df_table[f'{c} (+)'] = (df_table[c] - df_table[f'P{c}']).clip(0)\n",
    "    #Clip ça veut dire, les chiffres negatif sont interdit\n",
    "df_table['Fatality Rate'] = (100* df_table['Deaths']/ df_table['Cases']).round(2)\n",
    "df_table['Continent'] = df_table['Country/Region'].map(mapping['map.continent'])\n",
    "df_table.head(5)"
   ]
  },
  {
   "cell_type": "code",
   "execution_count": 14,
   "id": "aboriginal-bulgaria",
   "metadata": {
    "execution": {
     "iopub.execute_input": "2022-08-02T00:46:55.057589Z",
     "iopub.status.busy": "2022-08-02T00:46:55.056995Z",
     "iopub.status.idle": "2022-08-02T00:46:55.059563Z",
     "shell.execute_reply": "2022-08-02T00:46:55.059112Z"
    },
    "papermill": {
     "duration": 0.03914,
     "end_time": "2022-08-02T00:46:55.059672",
     "exception": false,
     "start_time": "2022-08-02T00:46:55.020532",
     "status": "completed"
    },
    "tags": []
   },
   "outputs": [],
   "source": [
    "#hide\n",
    "#delete problematic countries from table\n",
    "df_table = df_table[~df_table['Country/Region'].isin(['Cape Verde', 'Cruise Ship', 'Kosovo'])]"
   ]
  },
  {
   "cell_type": "code",
   "execution_count": 15,
   "id": "fantastic-effect",
   "metadata": {
    "execution": {
     "iopub.execute_input": "2022-08-02T00:46:55.129774Z",
     "iopub.status.busy": "2022-08-02T00:46:55.129212Z",
     "iopub.status.idle": "2022-08-02T00:46:55.145739Z",
     "shell.execute_reply": "2022-08-02T00:46:55.146173Z"
    },
    "papermill": {
     "duration": 0.055494,
     "end_time": "2022-08-02T00:46:55.146295",
     "exception": false,
     "start_time": "2022-08-02T00:46:55.090801",
     "status": "completed"
    },
    "tags": []
   },
   "outputs": [
    {
     "data": {
      "text/html": [
       "<div>\n",
       "<style scoped>\n",
       "    .dataframe tbody tr th:only-of-type {\n",
       "        vertical-align: middle;\n",
       "    }\n",
       "\n",
       "    .dataframe tbody tr th {\n",
       "        vertical-align: top;\n",
       "    }\n",
       "\n",
       "    .dataframe thead th {\n",
       "        text-align: right;\n",
       "    }\n",
       "</style>\n",
       "<table border=\"1\" class=\"dataframe\">\n",
       "  <thead>\n",
       "    <tr style=\"text-align: right;\">\n",
       "      <th></th>\n",
       "      <th>Country/Region</th>\n",
       "      <th>Cases</th>\n",
       "      <th>Deaths</th>\n",
       "      <th>PCases</th>\n",
       "      <th>PDeaths</th>\n",
       "      <th>Cases (+)</th>\n",
       "      <th>Deaths (+)</th>\n",
       "      <th>Fatality Rate</th>\n",
       "      <th>Continent</th>\n",
       "    </tr>\n",
       "  </thead>\n",
       "  <tbody>\n",
       "    <tr>\n",
       "      <th>0</th>\n",
       "      <td>US</td>\n",
       "      <td>91331830</td>\n",
       "      <td>1029939</td>\n",
       "      <td>91321876</td>\n",
       "      <td>1029938</td>\n",
       "      <td>9954</td>\n",
       "      <td>1</td>\n",
       "      <td>1.1</td>\n",
       "      <td>North America</td>\n",
       "    </tr>\n",
       "    <tr>\n",
       "      <th>1</th>\n",
       "      <td>India</td>\n",
       "      <td>44036275</td>\n",
       "      <td>526396</td>\n",
       "      <td>44019811</td>\n",
       "      <td>526357</td>\n",
       "      <td>16464</td>\n",
       "      <td>39</td>\n",
       "      <td>1.2</td>\n",
       "      <td>Asia</td>\n",
       "    </tr>\n",
       "    <tr>\n",
       "      <th>2</th>\n",
       "      <td>France</td>\n",
       "      <td>33997224</td>\n",
       "      <td>153023</td>\n",
       "      <td>33997224</td>\n",
       "      <td>153023</td>\n",
       "      <td>0</td>\n",
       "      <td>0</td>\n",
       "      <td>0.5</td>\n",
       "      <td>Europe</td>\n",
       "    </tr>\n",
       "    <tr>\n",
       "      <th>3</th>\n",
       "      <td>Brazil</td>\n",
       "      <td>33833900</td>\n",
       "      <td>678514</td>\n",
       "      <td>33813587</td>\n",
       "      <td>678486</td>\n",
       "      <td>20313</td>\n",
       "      <td>28</td>\n",
       "      <td>2.0</td>\n",
       "      <td>South America</td>\n",
       "    </tr>\n",
       "    <tr>\n",
       "      <th>4</th>\n",
       "      <td>Germany</td>\n",
       "      <td>30854175</td>\n",
       "      <td>143979</td>\n",
       "      <td>30853314</td>\n",
       "      <td>143972</td>\n",
       "      <td>861</td>\n",
       "      <td>7</td>\n",
       "      <td>0.5</td>\n",
       "      <td>Europe</td>\n",
       "    </tr>\n",
       "  </tbody>\n",
       "</table>\n",
       "</div>"
      ],
      "text/plain": [
       "  Country/Region     Cases   Deaths    PCases  PDeaths  Cases (+)  Deaths (+)  \\\n",
       "0             US  91331830  1029939  91321876  1029938       9954           1   \n",
       "1          India  44036275   526396  44019811   526357      16464          39   \n",
       "2         France  33997224   153023  33997224   153023          0           0   \n",
       "3         Brazil  33833900   678514  33813587   678486      20313          28   \n",
       "4        Germany  30854175   143979  30853314   143972        861           7   \n",
       "\n",
       "   Fatality Rate      Continent  \n",
       "0            1.1  North America  \n",
       "1            1.2           Asia  \n",
       "2            0.5         Europe  \n",
       "3            2.0  South America  \n",
       "4            0.5         Europe  "
      ]
     },
     "execution_count": 15,
     "metadata": {},
     "output_type": "execute_result"
    }
   ],
   "source": [
    "#hide\n",
    "df_table = (pd.DataFrame(dict(Cases=dfc_cases, Deaths=dfc_deaths, PCases=dfp_cases, PDeaths=dfp_deaths))\n",
    "             .sort_values(by=['Cases', 'Deaths'], ascending=[False, False])\n",
    "             .reset_index())\n",
    "df_table.rename(columns={'index': 'Country/Region'}, inplace=True)\n",
    "for c in 'Cases, Deaths'.split(', '):\n",
    "    df_table[f'{c} (+)'] = (df_table[c] - df_table[f'P{c}']).clip(0)  # DATA BUG\n",
    "df_table['Fatality Rate'] = (100 * df_table['Deaths'] / df_table['Cases']).round(1)\n",
    "df_table['Continent'] = df_table['Country/Region'].map(mapping['map.continent'])\n",
    "df_table.head(5)"
   ]
  },
  {
   "cell_type": "code",
   "execution_count": 16,
   "id": "fewer-occasion",
   "metadata": {
    "execution": {
     "iopub.execute_input": "2022-08-02T00:46:55.215655Z",
     "iopub.status.busy": "2022-08-02T00:46:55.215072Z",
     "iopub.status.idle": "2022-08-02T00:46:55.217461Z",
     "shell.execute_reply": "2022-08-02T00:46:55.217014Z"
    },
    "papermill": {
     "duration": 0.039339,
     "end_time": "2022-08-02T00:46:55.217562",
     "exception": false,
     "start_time": "2022-08-02T00:46:55.178223",
     "status": "completed"
    },
    "tags": []
   },
   "outputs": [],
   "source": [
    "#hide\n",
    "#delete problematic countries from table\n",
    "df_table = df_table[~df_table['Country/Region'].isin(['Cape Verde', 'Cruise Ship', 'Kosovo'])]"
   ]
  },
  {
   "cell_type": "code",
   "execution_count": 17,
   "id": "related-center",
   "metadata": {
    "execution": {
     "iopub.execute_input": "2022-08-02T00:46:55.287644Z",
     "iopub.status.busy": "2022-08-02T00:46:55.287005Z",
     "iopub.status.idle": "2022-08-02T00:46:55.300230Z",
     "shell.execute_reply": "2022-08-02T00:46:55.299781Z"
    },
    "papermill": {
     "duration": 0.051058,
     "end_time": "2022-08-02T00:46:55.300331",
     "exception": false,
     "start_time": "2022-08-02T00:46:55.249273",
     "status": "completed"
    },
    "tags": []
   },
   "outputs": [],
   "source": [
    "#hide\n",
    "metrics = [df_table.columns[index] for index in [1,2,5,6]]\n",
    "# s_china = df_table[df_table['Country/Region'].eq('China')][metrics].sum().add_prefix('China ')\n",
    "s_us = df_table[df_table['Country/Region'].eq('US')][metrics].sum().add_prefix('US ')\n",
    "s_eu = df_table[df_table['Continent'].eq('Europe')][metrics].sum().add_prefix('EU ')\n",
    "s_ind = df_table[df_table['Country/Region'].eq('India')][metrics].sum().add_prefix('India ')\n",
    "summary = {'updated': pd.to_datetime(dt_today), 'since': pd.to_datetime(dt_yday)}\n",
    "summary = {'updated': pd.to_datetime(dt_today), 'since': pd.to_datetime(dt_yday)}\n",
    "summary = {**summary, **df_table[metrics].sum(), **s_ind, **s_us, **s_eu}"
   ]
  },
  {
   "cell_type": "code",
   "execution_count": 18,
   "id": "engaging-syndrome",
   "metadata": {
    "execution": {
     "iopub.execute_input": "2022-08-02T00:46:55.369167Z",
     "iopub.status.busy": "2022-08-02T00:46:55.368579Z",
     "iopub.status.idle": "2022-08-02T00:46:55.387932Z",
     "shell.execute_reply": "2022-08-02T00:46:55.388398Z"
    },
    "papermill": {
     "duration": 0.056331,
     "end_time": "2022-08-02T00:46:55.388527",
     "exception": false,
     "start_time": "2022-08-02T00:46:55.332196",
     "status": "completed"
    },
    "tags": []
   },
   "outputs": [],
   "source": [
    "#hide\n",
    "dft_ct_new_cases = dft_cases.groupby(COL_REGION)[dt_cols].sum().diff(axis=1).fillna(0).astype(int)"
   ]
  },
  {
   "cell_type": "code",
   "execution_count": 19,
   "id": "neutral-assignment",
   "metadata": {
    "execution": {
     "iopub.execute_input": "2022-08-02T00:46:55.457924Z",
     "iopub.status.busy": "2022-08-02T00:46:55.457352Z",
     "iopub.status.idle": "2022-08-02T00:46:55.459819Z",
     "shell.execute_reply": "2022-08-02T00:46:55.459270Z"
    },
    "papermill": {
     "duration": 0.039723,
     "end_time": "2022-08-02T00:46:55.459922",
     "exception": false,
     "start_time": "2022-08-02T00:46:55.420199",
     "status": "completed"
    },
    "tags": []
   },
   "outputs": [],
   "source": [
    "#hide\n",
    "everydaycases = dft_ct_new_cases.cumsum(axis=1)"
   ]
  },
  {
   "cell_type": "code",
   "execution_count": 20,
   "id": "parliamentary-calgary",
   "metadata": {
    "execution": {
     "iopub.execute_input": "2022-08-02T00:46:55.528408Z",
     "iopub.status.busy": "2022-08-02T00:46:55.527820Z",
     "iopub.status.idle": "2022-08-02T00:46:56.075095Z",
     "shell.execute_reply": "2022-08-02T00:46:56.075572Z"
    },
    "papermill": {
     "duration": 0.583572,
     "end_time": "2022-08-02T00:46:56.075715",
     "exception": false,
     "start_time": "2022-08-02T00:46:55.492143",
     "status": "completed"
    },
    "tags": []
   },
   "outputs": [],
   "source": [
    "#hide\n",
    "import pandas as pd\n",
    "import matplotlib.pyplot as plt\n",
    "import matplotlib.ticker as ticker\n",
    "import matplotlib.animation as animation\n",
    "from IPython.display import HTML"
   ]
  },
  {
   "cell_type": "code",
   "execution_count": 21,
   "id": "lasting-extraction",
   "metadata": {
    "execution": {
     "iopub.execute_input": "2022-08-02T00:46:56.145439Z",
     "iopub.status.busy": "2022-08-02T00:46:56.144872Z",
     "iopub.status.idle": "2022-08-02T00:46:56.151569Z",
     "shell.execute_reply": "2022-08-02T00:46:56.151099Z"
    },
    "papermill": {
     "duration": 0.044297,
     "end_time": "2022-08-02T00:46:56.151673",
     "exception": false,
     "start_time": "2022-08-02T00:46:56.107376",
     "status": "completed"
    },
    "tags": []
   },
   "outputs": [],
   "source": [
    "#hide\n",
    "t = everydaycases.stack()"
   ]
  },
  {
   "cell_type": "code",
   "execution_count": 22,
   "id": "premier-sleeve",
   "metadata": {
    "execution": {
     "iopub.execute_input": "2022-08-02T00:46:56.219661Z",
     "iopub.status.busy": "2022-08-02T00:46:56.219063Z",
     "iopub.status.idle": "2022-08-02T00:46:56.230167Z",
     "shell.execute_reply": "2022-08-02T00:46:56.229675Z"
    },
    "papermill": {
     "duration": 0.046747,
     "end_time": "2022-08-02T00:46:56.230272",
     "exception": false,
     "start_time": "2022-08-02T00:46:56.183525",
     "status": "completed"
    },
    "tags": []
   },
   "outputs": [],
   "source": [
    "#hide\n",
    "g = t.reset_index(['Country/Region'])"
   ]
  },
  {
   "cell_type": "code",
   "execution_count": 23,
   "id": "distributed-pittsburgh",
   "metadata": {
    "execution": {
     "iopub.execute_input": "2022-08-02T00:46:56.297450Z",
     "iopub.status.busy": "2022-08-02T00:46:56.296877Z",
     "iopub.status.idle": "2022-08-02T00:46:56.299295Z",
     "shell.execute_reply": "2022-08-02T00:46:56.298766Z"
    },
    "papermill": {
     "duration": 0.03748,
     "end_time": "2022-08-02T00:46:56.299395",
     "exception": false,
     "start_time": "2022-08-02T00:46:56.261915",
     "status": "completed"
    },
    "tags": []
   },
   "outputs": [],
   "source": [
    "#hide\n",
    "g.index.name = 'date'"
   ]
  },
  {
   "cell_type": "code",
   "execution_count": 24,
   "id": "naked-donor",
   "metadata": {
    "execution": {
     "iopub.execute_input": "2022-08-02T00:46:56.368022Z",
     "iopub.status.busy": "2022-08-02T00:46:56.367365Z",
     "iopub.status.idle": "2022-08-02T00:46:56.372167Z",
     "shell.execute_reply": "2022-08-02T00:46:56.370998Z"
    },
    "papermill": {
     "duration": 0.04088,
     "end_time": "2022-08-02T00:46:56.372292",
     "exception": false,
     "start_time": "2022-08-02T00:46:56.331412",
     "status": "completed"
    },
    "tags": []
   },
   "outputs": [],
   "source": [
    "# #hide\n",
    "# g = g.reset_index(['date'])"
   ]
  },
  {
   "cell_type": "code",
   "execution_count": 25,
   "id": "incomplete-mustang",
   "metadata": {
    "execution": {
     "iopub.execute_input": "2022-08-02T00:46:56.442343Z",
     "iopub.status.busy": "2022-08-02T00:46:56.441768Z",
     "iopub.status.idle": "2022-08-02T00:46:56.444036Z",
     "shell.execute_reply": "2022-08-02T00:46:56.443488Z"
    },
    "papermill": {
     "duration": 0.037477,
     "end_time": "2022-08-02T00:46:56.444136",
     "exception": false,
     "start_time": "2022-08-02T00:46:56.406659",
     "status": "completed"
    },
    "tags": []
   },
   "outputs": [],
   "source": [
    "#hide\n",
    "# g.head()"
   ]
  },
  {
   "cell_type": "code",
   "execution_count": 26,
   "id": "specific-kruger",
   "metadata": {
    "execution": {
     "iopub.execute_input": "2022-08-02T00:46:56.511473Z",
     "iopub.status.busy": "2022-08-02T00:46:56.510912Z",
     "iopub.status.idle": "2022-08-02T00:46:56.513442Z",
     "shell.execute_reply": "2022-08-02T00:46:56.513005Z"
    },
    "papermill": {
     "duration": 0.037661,
     "end_time": "2022-08-02T00:46:56.513542",
     "exception": false,
     "start_time": "2022-08-02T00:46:56.475881",
     "status": "completed"
    },
    "tags": []
   },
   "outputs": [],
   "source": [
    "#hide\n",
    "# g.columns = ['date','country','cases']"
   ]
  },
  {
   "cell_type": "code",
   "execution_count": 27,
   "id": "tender-conversion",
   "metadata": {
    "execution": {
     "iopub.execute_input": "2022-08-02T00:46:56.580642Z",
     "iopub.status.busy": "2022-08-02T00:46:56.580028Z",
     "iopub.status.idle": "2022-08-02T00:46:56.582458Z",
     "shell.execute_reply": "2022-08-02T00:46:56.582013Z"
    },
    "papermill": {
     "duration": 0.037219,
     "end_time": "2022-08-02T00:46:56.582557",
     "exception": false,
     "start_time": "2022-08-02T00:46:56.545338",
     "status": "completed"
    },
    "tags": []
   },
   "outputs": [],
   "source": [
    "#hide\n",
    "# g['continent'] = g.country"
   ]
  },
  {
   "cell_type": "code",
   "execution_count": 28,
   "id": "substantial-wilderness",
   "metadata": {
    "execution": {
     "iopub.execute_input": "2022-08-02T00:46:56.649983Z",
     "iopub.status.busy": "2022-08-02T00:46:56.649429Z",
     "iopub.status.idle": "2022-08-02T00:46:56.651633Z",
     "shell.execute_reply": "2022-08-02T00:46:56.651090Z"
    },
    "papermill": {
     "duration": 0.03729,
     "end_time": "2022-08-02T00:46:56.651732",
     "exception": false,
     "start_time": "2022-08-02T00:46:56.614442",
     "status": "completed"
    },
    "tags": []
   },
   "outputs": [],
   "source": [
    "#hide\n",
    "# cols = list(g.columns.values)"
   ]
  },
  {
   "cell_type": "code",
   "execution_count": 29,
   "id": "solved-farming",
   "metadata": {
    "execution": {
     "iopub.execute_input": "2022-08-02T00:46:56.718929Z",
     "iopub.status.busy": "2022-08-02T00:46:56.718355Z",
     "iopub.status.idle": "2022-08-02T00:46:56.720727Z",
     "shell.execute_reply": "2022-08-02T00:46:56.720194Z"
    },
    "papermill": {
     "duration": 0.037426,
     "end_time": "2022-08-02T00:46:56.720826",
     "exception": false,
     "start_time": "2022-08-02T00:46:56.683400",
     "status": "completed"
    },
    "tags": []
   },
   "outputs": [],
   "source": [
    "#hide\n",
    "# cols.insert(0, cols.pop())"
   ]
  },
  {
   "cell_type": "code",
   "execution_count": 30,
   "id": "executed-adoption",
   "metadata": {
    "execution": {
     "iopub.execute_input": "2022-08-02T00:46:56.788511Z",
     "iopub.status.busy": "2022-08-02T00:46:56.787930Z",
     "iopub.status.idle": "2022-08-02T00:46:56.790264Z",
     "shell.execute_reply": "2022-08-02T00:46:56.789738Z"
    },
    "papermill": {
     "duration": 0.037684,
     "end_time": "2022-08-02T00:46:56.790362",
     "exception": false,
     "start_time": "2022-08-02T00:46:56.752678",
     "status": "completed"
    },
    "tags": []
   },
   "outputs": [],
   "source": [
    "#hide\n",
    "# g = g[cols]"
   ]
  },
  {
   "cell_type": "code",
   "execution_count": 31,
   "id": "subject-dublin",
   "metadata": {
    "execution": {
     "iopub.execute_input": "2022-08-02T00:46:56.857457Z",
     "iopub.status.busy": "2022-08-02T00:46:56.856895Z",
     "iopub.status.idle": "2022-08-02T00:46:56.858880Z",
     "shell.execute_reply": "2022-08-02T00:46:56.859314Z"
    },
    "papermill": {
     "duration": 0.037327,
     "end_time": "2022-08-02T00:46:56.859427",
     "exception": false,
     "start_time": "2022-08-02T00:46:56.822100",
     "status": "completed"
    },
    "tags": []
   },
   "outputs": [],
   "source": [
    "#hide\n",
    "# g['continent'] = g['continent'].map(mapping['map.continent'])"
   ]
  },
  {
   "cell_type": "code",
   "execution_count": 32,
   "id": "freelance-scout",
   "metadata": {
    "execution": {
     "iopub.execute_input": "2022-08-02T00:46:56.926157Z",
     "iopub.status.busy": "2022-08-02T00:46:56.925591Z",
     "iopub.status.idle": "2022-08-02T00:46:56.928049Z",
     "shell.execute_reply": "2022-08-02T00:46:56.927513Z"
    },
    "papermill": {
     "duration": 0.037071,
     "end_time": "2022-08-02T00:46:56.928146",
     "exception": false,
     "start_time": "2022-08-02T00:46:56.891075",
     "status": "completed"
    },
    "tags": []
   },
   "outputs": [],
   "source": [
    "#hide\n",
    "# g.head()"
   ]
  },
  {
   "cell_type": "code",
   "execution_count": 33,
   "id": "limited-engine",
   "metadata": {
    "execution": {
     "iopub.execute_input": "2022-08-02T00:46:56.995119Z",
     "iopub.status.busy": "2022-08-02T00:46:56.994547Z",
     "iopub.status.idle": "2022-08-02T00:46:56.997071Z",
     "shell.execute_reply": "2022-08-02T00:46:56.996621Z"
    },
    "papermill": {
     "duration": 0.037445,
     "end_time": "2022-08-02T00:46:56.997170",
     "exception": false,
     "start_time": "2022-08-02T00:46:56.959725",
     "status": "completed"
    },
    "tags": []
   },
   "outputs": [],
   "source": [
    "# hide\n",
    "# g['date'] = g['date'].astype('datetime64[ns]')"
   ]
  },
  {
   "cell_type": "code",
   "execution_count": 34,
   "id": "sophisticated-supervisor",
   "metadata": {
    "execution": {
     "iopub.execute_input": "2022-08-02T00:46:57.064301Z",
     "iopub.status.busy": "2022-08-02T00:46:57.063726Z",
     "iopub.status.idle": "2022-08-02T00:46:57.066088Z",
     "shell.execute_reply": "2022-08-02T00:46:57.065561Z"
    },
    "papermill": {
     "duration": 0.037296,
     "end_time": "2022-08-02T00:46:57.066189",
     "exception": false,
     "start_time": "2022-08-02T00:46:57.028893",
     "status": "completed"
    },
    "tags": []
   },
   "outputs": [],
   "source": [
    "#hide\n",
    "# g['date'] = g.date.dt.dayofyear"
   ]
  },
  {
   "cell_type": "code",
   "execution_count": 35,
   "id": "inside-dubai",
   "metadata": {
    "execution": {
     "iopub.execute_input": "2022-08-02T00:46:57.133394Z",
     "iopub.status.busy": "2022-08-02T00:46:57.132813Z",
     "iopub.status.idle": "2022-08-02T00:46:57.135187Z",
     "shell.execute_reply": "2022-08-02T00:46:57.134648Z"
    },
    "papermill": {
     "duration": 0.037308,
     "end_time": "2022-08-02T00:46:57.135292",
     "exception": false,
     "start_time": "2022-08-02T00:46:57.097984",
     "status": "completed"
    },
    "tags": []
   },
   "outputs": [],
   "source": [
    "#hide\n",
    "# g = g.rename(columns= {'continent':'group','country':'name','cases':'value'})"
   ]
  },
  {
   "cell_type": "code",
   "execution_count": 36,
   "id": "fleet-motorcycle",
   "metadata": {
    "execution": {
     "iopub.execute_input": "2022-08-02T00:46:57.202288Z",
     "iopub.status.busy": "2022-08-02T00:46:57.201715Z",
     "iopub.status.idle": "2022-08-02T00:46:57.204136Z",
     "shell.execute_reply": "2022-08-02T00:46:57.203691Z"
    },
    "papermill": {
     "duration": 0.037179,
     "end_time": "2022-08-02T00:46:57.204235",
     "exception": false,
     "start_time": "2022-08-02T00:46:57.167056",
     "status": "completed"
    },
    "tags": []
   },
   "outputs": [],
   "source": [
    "#hide\n",
    "# cols = ['name','group','day','value']"
   ]
  },
  {
   "cell_type": "code",
   "execution_count": 37,
   "id": "continued-sleeping",
   "metadata": {
    "execution": {
     "iopub.execute_input": "2022-08-02T00:46:57.271288Z",
     "iopub.status.busy": "2022-08-02T00:46:57.270712Z",
     "iopub.status.idle": "2022-08-02T00:46:57.273123Z",
     "shell.execute_reply": "2022-08-02T00:46:57.272679Z"
    },
    "papermill": {
     "duration": 0.037243,
     "end_time": "2022-08-02T00:46:57.273220",
     "exception": false,
     "start_time": "2022-08-02T00:46:57.235977",
     "status": "completed"
    },
    "tags": []
   },
   "outputs": [],
   "source": [
    "#hide\n",
    "# g.rename(columns= {'date':'day'},inplace = True)"
   ]
  },
  {
   "cell_type": "code",
   "execution_count": 38,
   "id": "major-fight",
   "metadata": {
    "execution": {
     "iopub.execute_input": "2022-08-02T00:46:57.340649Z",
     "iopub.status.busy": "2022-08-02T00:46:57.340086Z",
     "iopub.status.idle": "2022-08-02T00:46:57.342410Z",
     "shell.execute_reply": "2022-08-02T00:46:57.341881Z"
    },
    "papermill": {
     "duration": 0.037518,
     "end_time": "2022-08-02T00:46:57.342509",
     "exception": false,
     "start_time": "2022-08-02T00:46:57.304991",
     "status": "completed"
    },
    "tags": []
   },
   "outputs": [],
   "source": [
    "#hide\n",
    "# g = g[cols]"
   ]
  },
  {
   "cell_type": "code",
   "execution_count": 39,
   "id": "structured-mobile",
   "metadata": {
    "execution": {
     "iopub.execute_input": "2022-08-02T00:46:57.409596Z",
     "iopub.status.busy": "2022-08-02T00:46:57.409027Z",
     "iopub.status.idle": "2022-08-02T00:46:57.411401Z",
     "shell.execute_reply": "2022-08-02T00:46:57.410877Z"
    },
    "papermill": {
     "duration": 0.037222,
     "end_time": "2022-08-02T00:46:57.411516",
     "exception": false,
     "start_time": "2022-08-02T00:46:57.374294",
     "status": "completed"
    },
    "tags": []
   },
   "outputs": [],
   "source": [
    "# #hide\n",
    "# g = g[g.group.notna()]"
   ]
  },
  {
   "cell_type": "code",
   "execution_count": 40,
   "id": "determined-closing",
   "metadata": {
    "execution": {
     "iopub.execute_input": "2022-08-02T00:46:57.478549Z",
     "iopub.status.busy": "2022-08-02T00:46:57.477962Z",
     "iopub.status.idle": "2022-08-02T00:46:57.480409Z",
     "shell.execute_reply": "2022-08-02T00:46:57.479969Z"
    },
    "papermill": {
     "duration": 0.037212,
     "end_time": "2022-08-02T00:46:57.480508",
     "exception": false,
     "start_time": "2022-08-02T00:46:57.443296",
     "status": "completed"
    },
    "tags": []
   },
   "outputs": [],
   "source": [
    "# #hide\n",
    "# colors = dict(zip(\n",
    "#     [\"Oceania\", \"Europe\", \"Asia\", \"South America\", \"Middle East\", \"North America\", \"Africa\"],\n",
    "#     [\"#adb0ff\", \"#ffb3ff\", \"#90d595\", \"#e48381\", \"#aafbff\", \"#f7bb5f\", \"#eafb50\"]\n",
    "# ))\n",
    "# group_lk = g.set_index('name')['group'].to_dict()"
   ]
  },
  {
   "cell_type": "code",
   "execution_count": null,
   "id": "gross-drinking",
   "metadata": {
    "papermill": {
     "duration": 0.031643,
     "end_time": "2022-08-02T00:46:57.544045",
     "exception": false,
     "start_time": "2022-08-02T00:46:57.512402",
     "status": "completed"
    },
    "tags": []
   },
   "outputs": [],
   "source": []
  },
  {
   "cell_type": "code",
   "execution_count": 41,
   "id": "subject-macintosh",
   "metadata": {
    "execution": {
     "iopub.execute_input": "2022-08-02T00:46:57.611655Z",
     "iopub.status.busy": "2022-08-02T00:46:57.611053Z",
     "iopub.status.idle": "2022-08-02T00:46:57.614535Z",
     "shell.execute_reply": "2022-08-02T00:46:57.614072Z"
    },
    "papermill": {
     "duration": 0.038814,
     "end_time": "2022-08-02T00:46:57.614634",
     "exception": false,
     "start_time": "2022-08-02T00:46:57.575820",
     "status": "completed"
    },
    "tags": []
   },
   "outputs": [],
   "source": [
    "# #hide\n",
    "# fig, ax = plt.subplots(figsize=(15, 8))\n",
    "\n",
    "# def draw_barchart(current_day):\n",
    "#     dff = g[g['day'].eq(current_day)].sort_values(by='value', ascending=True).tail(10)\n",
    "#     ax.clear()\n",
    "#     ax.barh(dff['name'], dff['value'], color=[colors[group_lk[x]] for x in dff['name']])\n",
    "#     dx = dff['value'].max() / 200\n",
    "    \n",
    "#     for i, (value, name) in enumerate(zip(dff['value'], dff['name'])):\n",
    "#         ax.text(value-dx, i,     name,           size=14, weight=600, ha='right', va='bottom')\n",
    "#         ax.text(value-dx, i-.25, group_lk[name], size=10, color='#444444', ha='right', va='baseline')\n",
    "#         ax.text(value+dx, i,     f'{value:,.0f}',  size=14, ha='left',  va='center')\n",
    "#     ax.text(1, 0.4, current_day, transform=ax.transAxes, color='#777777', size=46, ha='right', weight=800)\n",
    "#     ax.text(0, 1.06, 'Population (thousands)', transform=ax.transAxes, size=12, color='#777777')\n",
    "#     ax.xaxis.set_major_formatter(ticker.StrMethodFormatter('{x:,.0f}'))\n",
    "#     ax.xaxis.set_ticks_position('top')\n",
    "#     ax.tick_params(axis='x', colors='#777777', labelsize=12)\n",
    "#     ax.set_yticks([])\n",
    "#     ax.margins(0, 0.01)\n",
    "#     ax.grid(which='major', axis='x', linestyle='-')\n",
    "#     ax.set_axisbelow(True)\n",
    "    \n",
    "#     ax.text(0, 1.15, 'Coronavirus',\n",
    "#             transform=ax.transAxes, size=24, weight=600, ha='left', va='top')\n",
    "# #     ax.text(1, 0, 'by @pratapvardhan; credit @jburnmurdoch', transform=ax.transAxes, color='#777777', ha='right',\n",
    "# #             bbox=dict(facecolor='white', alpha=0.8, edgecolor='white'))\n",
    "#     plt.box(False)"
   ]
  },
  {
   "cell_type": "code",
   "execution_count": 42,
   "id": "sexual-wages",
   "metadata": {
    "execution": {
     "iopub.execute_input": "2022-08-02T00:46:57.681363Z",
     "iopub.status.busy": "2022-08-02T00:46:57.680786Z",
     "iopub.status.idle": "2022-08-02T00:46:57.683110Z",
     "shell.execute_reply": "2022-08-02T00:46:57.682584Z"
    },
    "papermill": {
     "duration": 0.037023,
     "end_time": "2022-08-02T00:46:57.683208",
     "exception": false,
     "start_time": "2022-08-02T00:46:57.646185",
     "status": "completed"
    },
    "tags": []
   },
   "outputs": [],
   "source": [
    "# #hide_input\n",
    "# fig, ax = plt.subplots(figsize=(15, 8))\n",
    "# animator = animation.FuncAnimation(fig, draw_barchart, frames=range(g.day.values.min(), g.day.values.max()))\n",
    "# HTML(animator.to_jshtml())\n",
    "# # or use animator.to_html5_video() or animator.save() "
   ]
  },
  {
   "cell_type": "code",
   "execution_count": null,
   "id": "australian-container",
   "metadata": {
    "papermill": {
     "duration": 0.031669,
     "end_time": "2022-08-02T00:46:57.746632",
     "exception": false,
     "start_time": "2022-08-02T00:46:57.714963",
     "status": "completed"
    },
    "tags": []
   },
   "outputs": [],
   "source": []
  },
  {
   "cell_type": "code",
   "execution_count": null,
   "id": "mediterranean-pontiac",
   "metadata": {
    "papermill": {
     "duration": 0.031506,
     "end_time": "2022-08-02T00:46:57.809712",
     "exception": false,
     "start_time": "2022-08-02T00:46:57.778206",
     "status": "completed"
    },
    "tags": []
   },
   "outputs": [],
   "source": []
  },
  {
   "cell_type": "code",
   "execution_count": null,
   "id": "aging-legislature",
   "metadata": {
    "papermill": {
     "duration": 0.031534,
     "end_time": "2022-08-02T00:46:57.873148",
     "exception": false,
     "start_time": "2022-08-02T00:46:57.841614",
     "status": "completed"
    },
    "tags": []
   },
   "outputs": [],
   "source": []
  }
 ],
 "metadata": {
  "kernelspec": {
   "display_name": "Python 3",
   "language": "python",
   "name": "python3"
  },
  "language_info": {
   "codemirror_mode": {
    "name": "ipython",
    "version": 3
   },
   "file_extension": ".py",
   "mimetype": "text/x-python",
   "name": "python",
   "nbconvert_exporter": "python",
   "pygments_lexer": "ipython3",
   "version": "3.6.15"
  },
  "papermill": {
   "duration": 6.014726,
   "end_time": "2022-08-02T00:46:58.222620",
   "environment_variables": {},
   "exception": null,
   "input_path": "2020-03-21-covid19exp.ipynb",
   "output_path": "2020-03-21-covid19exp.ipynb",
   "parameters": {},
   "start_time": "2022-08-02T00:46:52.207894",
   "version": "2.0.0"
  }
 },
 "nbformat": 4,
 "nbformat_minor": 5
}