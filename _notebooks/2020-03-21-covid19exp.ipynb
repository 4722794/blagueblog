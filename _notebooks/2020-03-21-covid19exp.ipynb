{
 "cells": [
  {
   "cell_type": "markdown",
   "id": "muslim-click",
   "metadata": {
    "papermill": {
     "duration": 0.034893,
     "end_time": "2022-12-06T00:37:18.735859",
     "exception": false,
     "start_time": "2022-12-06T00:37:18.700966",
     "status": "completed"
    },
    "tags": []
   },
   "source": [
    "# COVID-19 Case Race\n",
    "> A race chart to see rising cases around the world\n",
    "\n",
    "- author: Hargun Oberoi\n",
    "- image: images/covid-overview.png\n",
    "- hide: false\n",
    "- badges: false"
   ]
  },
  {
   "cell_type": "code",
   "execution_count": 1,
   "id": "proof-material",
   "metadata": {
    "execution": {
     "iopub.execute_input": "2022-12-06T00:37:18.806472Z",
     "iopub.status.busy": "2022-12-06T00:37:18.805899Z",
     "iopub.status.idle": "2022-12-06T00:37:19.111436Z",
     "shell.execute_reply": "2022-12-06T00:37:19.110940Z"
    },
    "papermill": {
     "duration": 0.34519,
     "end_time": "2022-12-06T00:37:19.111563",
     "exception": false,
     "start_time": "2022-12-06T00:37:18.766373",
     "status": "completed"
    },
    "tags": []
   },
   "outputs": [],
   "source": [
    "#hide\n",
    "import numpy as np\n",
    "import pandas as pd\n",
    "from jinja2 import Template\n",
    "from IPython.display import HTML"
   ]
  },
  {
   "cell_type": "code",
   "execution_count": 2,
   "id": "developed-terminology",
   "metadata": {
    "execution": {
     "iopub.execute_input": "2022-12-06T00:37:19.175840Z",
     "iopub.status.busy": "2022-12-06T00:37:19.175262Z",
     "iopub.status.idle": "2022-12-06T00:37:19.176902Z",
     "shell.execute_reply": "2022-12-06T00:37:19.177405Z"
    },
    "papermill": {
     "duration": 0.035979,
     "end_time": "2022-12-06T00:37:19.177517",
     "exception": false,
     "start_time": "2022-12-06T00:37:19.141538",
     "status": "completed"
    },
    "tags": []
   },
   "outputs": [],
   "source": [
    "#hide\n",
    "\n",
    "# FETCH\n",
    "base_url = 'https://raw.githubusercontent.com/pratapvardhan/notebooks/master/covid19/'\n",
    "paths = {\n",
    "    'mapping': base_url + 'mapping_countries.csv',\n",
    "    'overview': base_url + 'overview.tpl'\n",
    "}"
   ]
  },
  {
   "cell_type": "code",
   "execution_count": 3,
   "id": "dynamic-saver",
   "metadata": {
    "execution": {
     "iopub.execute_input": "2022-12-06T00:37:19.246199Z",
     "iopub.status.busy": "2022-12-06T00:37:19.245635Z",
     "iopub.status.idle": "2022-12-06T00:37:19.247974Z",
     "shell.execute_reply": "2022-12-06T00:37:19.248476Z"
    },
    "papermill": {
     "duration": 0.041442,
     "end_time": "2022-12-06T00:37:19.248588",
     "exception": false,
     "start_time": "2022-12-06T00:37:19.207146",
     "status": "completed"
    },
    "tags": []
   },
   "outputs": [
    {
     "data": {
      "text/plain": [
       "'https://raw.githubusercontent.com/pratapvardhan/notebooks/master/covid19/mapping_countries.csv'"
      ]
     },
     "execution_count": 3,
     "metadata": {},
     "output_type": "execute_result"
    }
   ],
   "source": [
    "#hide\n",
    "paths['mapping']"
   ]
  },
  {
   "cell_type": "code",
   "execution_count": 4,
   "id": "urban-software",
   "metadata": {
    "execution": {
     "iopub.execute_input": "2022-12-06T00:37:19.313561Z",
     "iopub.status.busy": "2022-12-06T00:37:19.312989Z",
     "iopub.status.idle": "2022-12-06T00:37:19.314665Z",
     "shell.execute_reply": "2022-12-06T00:37:19.315192Z"
    },
    "papermill": {
     "duration": 0.03655,
     "end_time": "2022-12-06T00:37:19.315304",
     "exception": false,
     "start_time": "2022-12-06T00:37:19.278754",
     "status": "completed"
    },
    "tags": []
   },
   "outputs": [],
   "source": [
    "#hide\n",
    "def get_mappings(url):\n",
    "    df = pd.read_csv(url)\n",
    "    return {\n",
    "        'df': df,\n",
    "        'replace.country': dict(df.dropna(subset=['Name']).set_index('Country')['Name']),\n",
    "        'map.continent': dict(df.set_index('Name')['Continent'])\n",
    "    }"
   ]
  },
  {
   "cell_type": "code",
   "execution_count": 5,
   "id": "intimate-machinery",
   "metadata": {
    "execution": {
     "iopub.execute_input": "2022-12-06T00:37:19.379735Z",
     "iopub.status.busy": "2022-12-06T00:37:19.379181Z",
     "iopub.status.idle": "2022-12-06T00:37:19.416593Z",
     "shell.execute_reply": "2022-12-06T00:37:19.417038Z"
    },
    "papermill": {
     "duration": 0.071851,
     "end_time": "2022-12-06T00:37:19.417148",
     "exception": false,
     "start_time": "2022-12-06T00:37:19.345297",
     "status": "completed"
    },
    "tags": []
   },
   "outputs": [],
   "source": [
    "#hide\n",
    "mapping = get_mappings(paths['mapping'])"
   ]
  },
  {
   "cell_type": "code",
   "execution_count": 6,
   "id": "certified-tactics",
   "metadata": {
    "execution": {
     "iopub.execute_input": "2022-12-06T00:37:19.481656Z",
     "iopub.status.busy": "2022-12-06T00:37:19.481087Z",
     "iopub.status.idle": "2022-12-06T00:37:19.483472Z",
     "shell.execute_reply": "2022-12-06T00:37:19.483020Z"
    },
    "papermill": {
     "duration": 0.036253,
     "end_time": "2022-12-06T00:37:19.483569",
     "exception": false,
     "start_time": "2022-12-06T00:37:19.447316",
     "status": "completed"
    },
    "tags": []
   },
   "outputs": [],
   "source": [
    "#hide\n",
    "def get_template(path):\n",
    "    from urllib.parse import urlparse\n",
    "    if bool(urlparse(path).netloc):\n",
    "        from urllib.request import urlopen\n",
    "        return urlopen(path).read().decode('utf8')\n",
    "    return open(path).read()"
   ]
  },
  {
   "cell_type": "code",
   "execution_count": 7,
   "id": "realistic-blast",
   "metadata": {
    "execution": {
     "iopub.execute_input": "2022-12-06T00:37:19.547859Z",
     "iopub.status.busy": "2022-12-06T00:37:19.547293Z",
     "iopub.status.idle": "2022-12-06T00:37:19.550017Z",
     "shell.execute_reply": "2022-12-06T00:37:19.549547Z"
    },
    "papermill": {
     "duration": 0.036557,
     "end_time": "2022-12-06T00:37:19.550117",
     "exception": false,
     "start_time": "2022-12-06T00:37:19.513560",
     "status": "completed"
    },
    "tags": []
   },
   "outputs": [],
   "source": [
    "#hide\n",
    "def get_frame(name):\n",
    "    url = (\n",
    "        'https://raw.githubusercontent.com/CSSEGISandData/COVID-19/master/csse_covid_19_data/'\n",
    "        f'csse_covid_19_time_series/time_series_covid19_{name}_global.csv')\n",
    "    df = pd.read_csv(url)\n",
    "    # rename countries\n",
    "    df['Country/Region'] = df['Country/Region'].replace(mapping['replace.country'])\n",
    "    return df"
   ]
  },
  {
   "cell_type": "code",
   "execution_count": 8,
   "id": "affiliated-characterization",
   "metadata": {
    "execution": {
     "iopub.execute_input": "2022-12-06T00:37:19.615257Z",
     "iopub.status.busy": "2022-12-06T00:37:19.614668Z",
     "iopub.status.idle": "2022-12-06T00:37:19.616803Z",
     "shell.execute_reply": "2022-12-06T00:37:19.617217Z"
    },
    "papermill": {
     "duration": 0.037188,
     "end_time": "2022-12-06T00:37:19.617332",
     "exception": false,
     "start_time": "2022-12-06T00:37:19.580144",
     "status": "completed"
    },
    "tags": []
   },
   "outputs": [],
   "source": [
    "#hide\n",
    "def get_dates(df):\n",
    "    dt_cols = df.columns[~df.columns.isin(['Province/State', 'Country/Region', 'Lat', 'Long'])]\n",
    "    LAST_DATE_I = -1\n",
    "    # sometimes last column may be empty, then go backwards\n",
    "    for i in range(-1, -len(dt_cols), -1):\n",
    "        if not df[dt_cols[i]].fillna(0).eq(0).all():\n",
    "            LAST_DATE_I = i\n",
    "            break\n",
    "    return LAST_DATE_I, dt_cols"
   ]
  },
  {
   "cell_type": "code",
   "execution_count": 9,
   "id": "recent-optimization",
   "metadata": {
    "execution": {
     "iopub.execute_input": "2022-12-06T00:37:19.681215Z",
     "iopub.status.busy": "2022-12-06T00:37:19.680617Z",
     "iopub.status.idle": "2022-12-06T00:37:20.155742Z",
     "shell.execute_reply": "2022-12-06T00:37:20.156186Z"
    },
    "papermill": {
     "duration": 0.509182,
     "end_time": "2022-12-06T00:37:20.156322",
     "exception": false,
     "start_time": "2022-12-06T00:37:19.647140",
     "status": "completed"
    },
    "tags": []
   },
   "outputs": [],
   "source": [
    "#hide\n",
    "COL_REGION = 'Country/Region'\n",
    "# Confirmed, Recovered, Deaths\n",
    "df = get_frame('confirmed')\n",
    "# dft_: timeseries, dfc_: today country agg\n",
    "dft_cases = df\n",
    "dft_deaths = get_frame('deaths')\n",
    "dft_recovered = get_frame('recovered')\n",
    "LAST_DATE_I, dt_cols = get_dates(df)"
   ]
  },
  {
   "cell_type": "code",
   "execution_count": 10,
   "id": "absolute-copper",
   "metadata": {
    "execution": {
     "iopub.execute_input": "2022-12-06T00:37:20.221670Z",
     "iopub.status.busy": "2022-12-06T00:37:20.221110Z",
     "iopub.status.idle": "2022-12-06T00:37:20.222766Z",
     "shell.execute_reply": "2022-12-06T00:37:20.223275Z"
    },
    "papermill": {
     "duration": 0.036735,
     "end_time": "2022-12-06T00:37:20.223384",
     "exception": false,
     "start_time": "2022-12-06T00:37:20.186649",
     "status": "completed"
    },
    "tags": []
   },
   "outputs": [],
   "source": [
    "#hide\n",
    "LAST_DATE_I, dt_cols = get_dates(df)\n",
    "dt_today =dt_cols[LAST_DATE_I]\n",
    "# dt_5day = dt_cols[LAST_DATE_I - 5]\n",
    "dt_yday = dt_cols[LAST_DATE_I - 1]"
   ]
  },
  {
   "cell_type": "code",
   "execution_count": 11,
   "id": "restricted-sheriff",
   "metadata": {
    "execution": {
     "iopub.execute_input": "2022-12-06T00:37:20.289153Z",
     "iopub.status.busy": "2022-12-06T00:37:20.288595Z",
     "iopub.status.idle": "2022-12-06T00:37:20.294582Z",
     "shell.execute_reply": "2022-12-06T00:37:20.294151Z"
    },
    "papermill": {
     "duration": 0.041447,
     "end_time": "2022-12-06T00:37:20.294699",
     "exception": false,
     "start_time": "2022-12-06T00:37:20.253252",
     "status": "completed"
    },
    "tags": []
   },
   "outputs": [],
   "source": [
    "#hide\n",
    "dfc_cases = dft_cases.groupby(COL_REGION)[dt_today].sum()\n",
    "dfc_deaths = dft_deaths.groupby(COL_REGION)[dt_today].sum()\n",
    "# dfp_cases = dft_cases.groupby(COL_REGION)[dt_5day].sum()\n",
    "# dfp_deaths = dft_deaths.groupby(COL_REGION)[dt_5day].sum()\n",
    "dfp_cases = dft_cases.groupby(COL_REGION)[dt_yday].sum()\n",
    "dfp_deaths = dft_deaths.groupby(COL_REGION)[dt_yday].sum()"
   ]
  },
  {
   "cell_type": "code",
   "execution_count": 12,
   "id": "deluxe-hepatitis",
   "metadata": {
    "execution": {
     "iopub.execute_input": "2022-12-06T00:37:20.359460Z",
     "iopub.status.busy": "2022-12-06T00:37:20.358904Z",
     "iopub.status.idle": "2022-12-06T00:37:20.363321Z",
     "shell.execute_reply": "2022-12-06T00:37:20.362797Z"
    },
    "papermill": {
     "duration": 0.038711,
     "end_time": "2022-12-06T00:37:20.363414",
     "exception": false,
     "start_time": "2022-12-06T00:37:20.324703",
     "status": "completed"
    },
    "tags": []
   },
   "outputs": [],
   "source": [
    "#hide\n",
    "df_table = (pd.DataFrame(dict(Cases = dfc_cases, Deaths = dfc_deaths, PCases = dfp_cases, PDeaths = dfp_deaths))\n",
    "            .sort_values(by = ['Cases','Deaths'], ascending = [False, False])\n",
    "            .reset_index())"
   ]
  },
  {
   "cell_type": "code",
   "execution_count": 13,
   "id": "educational-chancellor",
   "metadata": {
    "execution": {
     "iopub.execute_input": "2022-12-06T00:37:20.439227Z",
     "iopub.status.busy": "2022-12-06T00:37:20.438657Z",
     "iopub.status.idle": "2022-12-06T00:37:20.446198Z",
     "shell.execute_reply": "2022-12-06T00:37:20.445745Z"
    },
    "papermill": {
     "duration": 0.053078,
     "end_time": "2022-12-06T00:37:20.446296",
     "exception": false,
     "start_time": "2022-12-06T00:37:20.393218",
     "status": "completed"
    },
    "tags": []
   },
   "outputs": [
    {
     "data": {
      "text/html": [
       "<div>\n",
       "<style scoped>\n",
       "    .dataframe tbody tr th:only-of-type {\n",
       "        vertical-align: middle;\n",
       "    }\n",
       "\n",
       "    .dataframe tbody tr th {\n",
       "        vertical-align: top;\n",
       "    }\n",
       "\n",
       "    .dataframe thead th {\n",
       "        text-align: right;\n",
       "    }\n",
       "</style>\n",
       "<table border=\"1\" class=\"dataframe\">\n",
       "  <thead>\n",
       "    <tr style=\"text-align: right;\">\n",
       "      <th></th>\n",
       "      <th>Country/Region</th>\n",
       "      <th>Cases</th>\n",
       "      <th>Deaths</th>\n",
       "      <th>PCases</th>\n",
       "      <th>PDeaths</th>\n",
       "      <th>Cases (+)</th>\n",
       "      <th>Deaths (+)</th>\n",
       "      <th>Fatality Rate</th>\n",
       "      <th>Continent</th>\n",
       "    </tr>\n",
       "  </thead>\n",
       "  <tbody>\n",
       "    <tr>\n",
       "      <th>0</th>\n",
       "      <td>US</td>\n",
       "      <td>98972375</td>\n",
       "      <td>1081431</td>\n",
       "      <td>98967906</td>\n",
       "      <td>1081431</td>\n",
       "      <td>4469</td>\n",
       "      <td>0</td>\n",
       "      <td>1.09</td>\n",
       "      <td>North America</td>\n",
       "    </tr>\n",
       "    <tr>\n",
       "      <th>1</th>\n",
       "      <td>India</td>\n",
       "      <td>44674842</td>\n",
       "      <td>530630</td>\n",
       "      <td>44674616</td>\n",
       "      <td>530628</td>\n",
       "      <td>226</td>\n",
       "      <td>2</td>\n",
       "      <td>1.19</td>\n",
       "      <td>Asia</td>\n",
       "    </tr>\n",
       "    <tr>\n",
       "      <th>2</th>\n",
       "      <td>France</td>\n",
       "      <td>38174893</td>\n",
       "      <td>160133</td>\n",
       "      <td>38174893</td>\n",
       "      <td>160133</td>\n",
       "      <td>0</td>\n",
       "      <td>0</td>\n",
       "      <td>0.42</td>\n",
       "      <td>Europe</td>\n",
       "    </tr>\n",
       "    <tr>\n",
       "      <th>3</th>\n",
       "      <td>Germany</td>\n",
       "      <td>36557861</td>\n",
       "      <td>158198</td>\n",
       "      <td>36557861</td>\n",
       "      <td>158198</td>\n",
       "      <td>0</td>\n",
       "      <td>0</td>\n",
       "      <td>0.43</td>\n",
       "      <td>Europe</td>\n",
       "    </tr>\n",
       "    <tr>\n",
       "      <th>4</th>\n",
       "      <td>Brazil</td>\n",
       "      <td>35337546</td>\n",
       "      <td>690074</td>\n",
       "      <td>35337546</td>\n",
       "      <td>690074</td>\n",
       "      <td>0</td>\n",
       "      <td>0</td>\n",
       "      <td>1.95</td>\n",
       "      <td>South America</td>\n",
       "    </tr>\n",
       "  </tbody>\n",
       "</table>\n",
       "</div>"
      ],
      "text/plain": [
       "  Country/Region     Cases   Deaths    PCases  PDeaths  Cases (+)  Deaths (+)  \\\n",
       "0             US  98972375  1081431  98967906  1081431       4469           0   \n",
       "1          India  44674842   530630  44674616   530628        226           2   \n",
       "2         France  38174893   160133  38174893   160133          0           0   \n",
       "3        Germany  36557861   158198  36557861   158198          0           0   \n",
       "4         Brazil  35337546   690074  35337546   690074          0           0   \n",
       "\n",
       "   Fatality Rate      Continent  \n",
       "0           1.09  North America  \n",
       "1           1.19           Asia  \n",
       "2           0.42         Europe  \n",
       "3           0.43         Europe  \n",
       "4           1.95  South America  "
      ]
     },
     "execution_count": 13,
     "metadata": {},
     "output_type": "execute_result"
    }
   ],
   "source": [
    "#hide\n",
    "for c in 'Cases, Deaths'.split(', '):\n",
    "    df_table[f'{c} (+)'] = (df_table[c] - df_table[f'P{c}']).clip(0)\n",
    "    #Clip ça veut dire, les chiffres negatif sont interdit\n",
    "df_table['Fatality Rate'] = (100* df_table['Deaths']/ df_table['Cases']).round(2)\n",
    "df_table['Continent'] = df_table['Country/Region'].map(mapping['map.continent'])\n",
    "df_table.head(5)"
   ]
  },
  {
   "cell_type": "code",
   "execution_count": 14,
   "id": "aboriginal-bulgaria",
   "metadata": {
    "execution": {
     "iopub.execute_input": "2022-12-06T00:37:20.512858Z",
     "iopub.status.busy": "2022-12-06T00:37:20.512286Z",
     "iopub.status.idle": "2022-12-06T00:37:20.513927Z",
     "shell.execute_reply": "2022-12-06T00:37:20.514431Z"
    },
    "papermill": {
     "duration": 0.037523,
     "end_time": "2022-12-06T00:37:20.514541",
     "exception": false,
     "start_time": "2022-12-06T00:37:20.477018",
     "status": "completed"
    },
    "tags": []
   },
   "outputs": [],
   "source": [
    "#hide\n",
    "#delete problematic countries from table\n",
    "df_table = df_table[~df_table['Country/Region'].isin(['Cape Verde', 'Cruise Ship', 'Kosovo'])]"
   ]
  },
  {
   "cell_type": "code",
   "execution_count": 15,
   "id": "fantastic-effect",
   "metadata": {
    "execution": {
     "iopub.execute_input": "2022-12-06T00:37:20.582046Z",
     "iopub.status.busy": "2022-12-06T00:37:20.581479Z",
     "iopub.status.idle": "2022-12-06T00:37:20.598621Z",
     "shell.execute_reply": "2022-12-06T00:37:20.599057Z"
    },
    "papermill": {
     "duration": 0.054127,
     "end_time": "2022-12-06T00:37:20.599170",
     "exception": false,
     "start_time": "2022-12-06T00:37:20.545043",
     "status": "completed"
    },
    "tags": []
   },
   "outputs": [
    {
     "data": {
      "text/html": [
       "<div>\n",
       "<style scoped>\n",
       "    .dataframe tbody tr th:only-of-type {\n",
       "        vertical-align: middle;\n",
       "    }\n",
       "\n",
       "    .dataframe tbody tr th {\n",
       "        vertical-align: top;\n",
       "    }\n",
       "\n",
       "    .dataframe thead th {\n",
       "        text-align: right;\n",
       "    }\n",
       "</style>\n",
       "<table border=\"1\" class=\"dataframe\">\n",
       "  <thead>\n",
       "    <tr style=\"text-align: right;\">\n",
       "      <th></th>\n",
       "      <th>Country/Region</th>\n",
       "      <th>Cases</th>\n",
       "      <th>Deaths</th>\n",
       "      <th>PCases</th>\n",
       "      <th>PDeaths</th>\n",
       "      <th>Cases (+)</th>\n",
       "      <th>Deaths (+)</th>\n",
       "      <th>Fatality Rate</th>\n",
       "      <th>Continent</th>\n",
       "    </tr>\n",
       "  </thead>\n",
       "  <tbody>\n",
       "    <tr>\n",
       "      <th>0</th>\n",
       "      <td>US</td>\n",
       "      <td>98972375</td>\n",
       "      <td>1081431</td>\n",
       "      <td>98967906</td>\n",
       "      <td>1081431</td>\n",
       "      <td>4469</td>\n",
       "      <td>0</td>\n",
       "      <td>1.1</td>\n",
       "      <td>North America</td>\n",
       "    </tr>\n",
       "    <tr>\n",
       "      <th>1</th>\n",
       "      <td>India</td>\n",
       "      <td>44674842</td>\n",
       "      <td>530630</td>\n",
       "      <td>44674616</td>\n",
       "      <td>530628</td>\n",
       "      <td>226</td>\n",
       "      <td>2</td>\n",
       "      <td>1.2</td>\n",
       "      <td>Asia</td>\n",
       "    </tr>\n",
       "    <tr>\n",
       "      <th>2</th>\n",
       "      <td>France</td>\n",
       "      <td>38174893</td>\n",
       "      <td>160133</td>\n",
       "      <td>38174893</td>\n",
       "      <td>160133</td>\n",
       "      <td>0</td>\n",
       "      <td>0</td>\n",
       "      <td>0.4</td>\n",
       "      <td>Europe</td>\n",
       "    </tr>\n",
       "    <tr>\n",
       "      <th>3</th>\n",
       "      <td>Germany</td>\n",
       "      <td>36557861</td>\n",
       "      <td>158198</td>\n",
       "      <td>36557861</td>\n",
       "      <td>158198</td>\n",
       "      <td>0</td>\n",
       "      <td>0</td>\n",
       "      <td>0.4</td>\n",
       "      <td>Europe</td>\n",
       "    </tr>\n",
       "    <tr>\n",
       "      <th>4</th>\n",
       "      <td>Brazil</td>\n",
       "      <td>35337546</td>\n",
       "      <td>690074</td>\n",
       "      <td>35337546</td>\n",
       "      <td>690074</td>\n",
       "      <td>0</td>\n",
       "      <td>0</td>\n",
       "      <td>2.0</td>\n",
       "      <td>South America</td>\n",
       "    </tr>\n",
       "  </tbody>\n",
       "</table>\n",
       "</div>"
      ],
      "text/plain": [
       "  Country/Region     Cases   Deaths    PCases  PDeaths  Cases (+)  Deaths (+)  \\\n",
       "0             US  98972375  1081431  98967906  1081431       4469           0   \n",
       "1          India  44674842   530630  44674616   530628        226           2   \n",
       "2         France  38174893   160133  38174893   160133          0           0   \n",
       "3        Germany  36557861   158198  36557861   158198          0           0   \n",
       "4         Brazil  35337546   690074  35337546   690074          0           0   \n",
       "\n",
       "   Fatality Rate      Continent  \n",
       "0            1.1  North America  \n",
       "1            1.2           Asia  \n",
       "2            0.4         Europe  \n",
       "3            0.4         Europe  \n",
       "4            2.0  South America  "
      ]
     },
     "execution_count": 15,
     "metadata": {},
     "output_type": "execute_result"
    }
   ],
   "source": [
    "#hide\n",
    "df_table = (pd.DataFrame(dict(Cases=dfc_cases, Deaths=dfc_deaths, PCases=dfp_cases, PDeaths=dfp_deaths))\n",
    "             .sort_values(by=['Cases', 'Deaths'], ascending=[False, False])\n",
    "             .reset_index())\n",
    "df_table.rename(columns={'index': 'Country/Region'}, inplace=True)\n",
    "for c in 'Cases, Deaths'.split(', '):\n",
    "    df_table[f'{c} (+)'] = (df_table[c] - df_table[f'P{c}']).clip(0)  # DATA BUG\n",
    "df_table['Fatality Rate'] = (100 * df_table['Deaths'] / df_table['Cases']).round(1)\n",
    "df_table['Continent'] = df_table['Country/Region'].map(mapping['map.continent'])\n",
    "df_table.head(5)"
   ]
  },
  {
   "cell_type": "code",
   "execution_count": 16,
   "id": "fewer-occasion",
   "metadata": {
    "execution": {
     "iopub.execute_input": "2022-12-06T00:37:20.666660Z",
     "iopub.status.busy": "2022-12-06T00:37:20.666065Z",
     "iopub.status.idle": "2022-12-06T00:37:20.667707Z",
     "shell.execute_reply": "2022-12-06T00:37:20.668224Z"
    },
    "papermill": {
     "duration": 0.038101,
     "end_time": "2022-12-06T00:37:20.668339",
     "exception": false,
     "start_time": "2022-12-06T00:37:20.630238",
     "status": "completed"
    },
    "tags": []
   },
   "outputs": [],
   "source": [
    "#hide\n",
    "#delete problematic countries from table\n",
    "df_table = df_table[~df_table['Country/Region'].isin(['Cape Verde', 'Cruise Ship', 'Kosovo'])]"
   ]
  },
  {
   "cell_type": "code",
   "execution_count": 17,
   "id": "related-center",
   "metadata": {
    "execution": {
     "iopub.execute_input": "2022-12-06T00:37:20.747095Z",
     "iopub.status.busy": "2022-12-06T00:37:20.746503Z",
     "iopub.status.idle": "2022-12-06T00:37:20.749104Z",
     "shell.execute_reply": "2022-12-06T00:37:20.748649Z"
    },
    "papermill": {
     "duration": 0.049867,
     "end_time": "2022-12-06T00:37:20.749206",
     "exception": false,
     "start_time": "2022-12-06T00:37:20.699339",
     "status": "completed"
    },
    "tags": []
   },
   "outputs": [],
   "source": [
    "#hide\n",
    "metrics = [df_table.columns[index] for index in [1,2,5,6]]\n",
    "# s_china = df_table[df_table['Country/Region'].eq('China')][metrics].sum().add_prefix('China ')\n",
    "s_us = df_table[df_table['Country/Region'].eq('US')][metrics].sum().add_prefix('US ')\n",
    "s_eu = df_table[df_table['Continent'].eq('Europe')][metrics].sum().add_prefix('EU ')\n",
    "s_ind = df_table[df_table['Country/Region'].eq('India')][metrics].sum().add_prefix('India ')\n",
    "summary = {'updated': pd.to_datetime(dt_today), 'since': pd.to_datetime(dt_yday)}\n",
    "summary = {'updated': pd.to_datetime(dt_today), 'since': pd.to_datetime(dt_yday)}\n",
    "summary = {**summary, **df_table[metrics].sum(), **s_ind, **s_us, **s_eu}"
   ]
  },
  {
   "cell_type": "code",
   "execution_count": 18,
   "id": "engaging-syndrome",
   "metadata": {
    "execution": {
     "iopub.execute_input": "2022-12-06T00:37:20.816661Z",
     "iopub.status.busy": "2022-12-06T00:37:20.816099Z",
     "iopub.status.idle": "2022-12-06T00:37:20.835980Z",
     "shell.execute_reply": "2022-12-06T00:37:20.835536Z"
    },
    "papermill": {
     "duration": 0.055665,
     "end_time": "2022-12-06T00:37:20.836089",
     "exception": false,
     "start_time": "2022-12-06T00:37:20.780424",
     "status": "completed"
    },
    "tags": []
   },
   "outputs": [],
   "source": [
    "#hide\n",
    "dft_ct_new_cases = dft_cases.groupby(COL_REGION)[dt_cols].sum().diff(axis=1).fillna(0).astype(int)"
   ]
  },
  {
   "cell_type": "code",
   "execution_count": 19,
   "id": "neutral-assignment",
   "metadata": {
    "execution": {
     "iopub.execute_input": "2022-12-06T00:37:20.903886Z",
     "iopub.status.busy": "2022-12-06T00:37:20.903339Z",
     "iopub.status.idle": "2022-12-06T00:37:20.905994Z",
     "shell.execute_reply": "2022-12-06T00:37:20.905558Z"
    },
    "papermill": {
     "duration": 0.038937,
     "end_time": "2022-12-06T00:37:20.906092",
     "exception": false,
     "start_time": "2022-12-06T00:37:20.867155",
     "status": "completed"
    },
    "tags": []
   },
   "outputs": [],
   "source": [
    "#hide\n",
    "everydaycases = dft_ct_new_cases.cumsum(axis=1)"
   ]
  },
  {
   "cell_type": "code",
   "execution_count": 20,
   "id": "parliamentary-calgary",
   "metadata": {
    "execution": {
     "iopub.execute_input": "2022-12-06T00:37:20.971957Z",
     "iopub.status.busy": "2022-12-06T00:37:20.971403Z",
     "iopub.status.idle": "2022-12-06T00:37:21.505552Z",
     "shell.execute_reply": "2022-12-06T00:37:21.504600Z"
    },
    "papermill": {
     "duration": 0.568325,
     "end_time": "2022-12-06T00:37:21.505672",
     "exception": false,
     "start_time": "2022-12-06T00:37:20.937347",
     "status": "completed"
    },
    "tags": []
   },
   "outputs": [],
   "source": [
    "#hide\n",
    "import pandas as pd\n",
    "import matplotlib.pyplot as plt\n",
    "import matplotlib.ticker as ticker\n",
    "import matplotlib.animation as animation\n",
    "from IPython.display import HTML"
   ]
  },
  {
   "cell_type": "code",
   "execution_count": 21,
   "id": "lasting-extraction",
   "metadata": {
    "execution": {
     "iopub.execute_input": "2022-12-06T00:37:21.573797Z",
     "iopub.status.busy": "2022-12-06T00:37:21.573236Z",
     "iopub.status.idle": "2022-12-06T00:37:21.580187Z",
     "shell.execute_reply": "2022-12-06T00:37:21.579646Z"
    },
    "papermill": {
     "duration": 0.043592,
     "end_time": "2022-12-06T00:37:21.580289",
     "exception": false,
     "start_time": "2022-12-06T00:37:21.536697",
     "status": "completed"
    },
    "tags": []
   },
   "outputs": [],
   "source": [
    "#hide\n",
    "t = everydaycases.stack()"
   ]
  },
  {
   "cell_type": "code",
   "execution_count": 22,
   "id": "premier-sleeve",
   "metadata": {
    "execution": {
     "iopub.execute_input": "2022-12-06T00:37:21.646293Z",
     "iopub.status.busy": "2022-12-06T00:37:21.645738Z",
     "iopub.status.idle": "2022-12-06T00:37:21.657496Z",
     "shell.execute_reply": "2022-12-06T00:37:21.656967Z"
    },
    "papermill": {
     "duration": 0.046141,
     "end_time": "2022-12-06T00:37:21.657594",
     "exception": false,
     "start_time": "2022-12-06T00:37:21.611453",
     "status": "completed"
    },
    "tags": []
   },
   "outputs": [],
   "source": [
    "#hide\n",
    "g = t.reset_index(['Country/Region'])"
   ]
  },
  {
   "cell_type": "code",
   "execution_count": 23,
   "id": "distributed-pittsburgh",
   "metadata": {
    "execution": {
     "iopub.execute_input": "2022-12-06T00:37:21.722819Z",
     "iopub.status.busy": "2022-12-06T00:37:21.722230Z",
     "iopub.status.idle": "2022-12-06T00:37:21.724754Z",
     "shell.execute_reply": "2022-12-06T00:37:21.724329Z"
    },
    "papermill": {
     "duration": 0.036445,
     "end_time": "2022-12-06T00:37:21.724856",
     "exception": false,
     "start_time": "2022-12-06T00:37:21.688411",
     "status": "completed"
    },
    "tags": []
   },
   "outputs": [],
   "source": [
    "#hide\n",
    "g.index.name = 'date'"
   ]
  },
  {
   "cell_type": "code",
   "execution_count": 24,
   "id": "naked-donor",
   "metadata": {
    "execution": {
     "iopub.execute_input": "2022-12-06T00:37:21.789826Z",
     "iopub.status.busy": "2022-12-06T00:37:21.789255Z",
     "iopub.status.idle": "2022-12-06T00:37:21.791697Z",
     "shell.execute_reply": "2022-12-06T00:37:21.791174Z"
    },
    "papermill": {
     "duration": 0.035921,
     "end_time": "2022-12-06T00:37:21.791791",
     "exception": false,
     "start_time": "2022-12-06T00:37:21.755870",
     "status": "completed"
    },
    "tags": []
   },
   "outputs": [],
   "source": [
    "# #hide\n",
    "# g = g.reset_index(['date'])"
   ]
  },
  {
   "cell_type": "code",
   "execution_count": 25,
   "id": "incomplete-mustang",
   "metadata": {
    "execution": {
     "iopub.execute_input": "2022-12-06T00:37:21.856926Z",
     "iopub.status.busy": "2022-12-06T00:37:21.856358Z",
     "iopub.status.idle": "2022-12-06T00:37:21.858841Z",
     "shell.execute_reply": "2022-12-06T00:37:21.858398Z"
    },
    "papermill": {
     "duration": 0.036124,
     "end_time": "2022-12-06T00:37:21.858942",
     "exception": false,
     "start_time": "2022-12-06T00:37:21.822818",
     "status": "completed"
    },
    "tags": []
   },
   "outputs": [],
   "source": [
    "#hide\n",
    "# g.head()"
   ]
  },
  {
   "cell_type": "code",
   "execution_count": 26,
   "id": "specific-kruger",
   "metadata": {
    "execution": {
     "iopub.execute_input": "2022-12-06T00:37:21.924535Z",
     "iopub.status.busy": "2022-12-06T00:37:21.923980Z",
     "iopub.status.idle": "2022-12-06T00:37:21.926453Z",
     "shell.execute_reply": "2022-12-06T00:37:21.926040Z"
    },
    "papermill": {
     "duration": 0.036697,
     "end_time": "2022-12-06T00:37:21.926548",
     "exception": false,
     "start_time": "2022-12-06T00:37:21.889851",
     "status": "completed"
    },
    "tags": []
   },
   "outputs": [],
   "source": [
    "#hide\n",
    "# g.columns = ['date','country','cases']"
   ]
  },
  {
   "cell_type": "code",
   "execution_count": 27,
   "id": "tender-conversion",
   "metadata": {
    "execution": {
     "iopub.execute_input": "2022-12-06T00:37:21.991215Z",
     "iopub.status.busy": "2022-12-06T00:37:21.990606Z",
     "iopub.status.idle": "2022-12-06T00:37:21.992935Z",
     "shell.execute_reply": "2022-12-06T00:37:21.992411Z"
    },
    "papermill": {
     "duration": 0.035744,
     "end_time": "2022-12-06T00:37:21.993030",
     "exception": false,
     "start_time": "2022-12-06T00:37:21.957286",
     "status": "completed"
    },
    "tags": []
   },
   "outputs": [],
   "source": [
    "#hide\n",
    "# g['continent'] = g.country"
   ]
  },
  {
   "cell_type": "code",
   "execution_count": 28,
   "id": "substantial-wilderness",
   "metadata": {
    "execution": {
     "iopub.execute_input": "2022-12-06T00:37:22.059185Z",
     "iopub.status.busy": "2022-12-06T00:37:22.058592Z",
     "iopub.status.idle": "2022-12-06T00:37:22.060426Z",
     "shell.execute_reply": "2022-12-06T00:37:22.060844Z"
    },
    "papermill": {
     "duration": 0.036969,
     "end_time": "2022-12-06T00:37:22.060959",
     "exception": false,
     "start_time": "2022-12-06T00:37:22.023990",
     "status": "completed"
    },
    "tags": []
   },
   "outputs": [],
   "source": [
    "#hide\n",
    "# cols = list(g.columns.values)"
   ]
  },
  {
   "cell_type": "code",
   "execution_count": 29,
   "id": "solved-farming",
   "metadata": {
    "execution": {
     "iopub.execute_input": "2022-12-06T00:37:22.127012Z",
     "iopub.status.busy": "2022-12-06T00:37:22.126413Z",
     "iopub.status.idle": "2022-12-06T00:37:22.128848Z",
     "shell.execute_reply": "2022-12-06T00:37:22.128323Z"
    },
    "papermill": {
     "duration": 0.036623,
     "end_time": "2022-12-06T00:37:22.128947",
     "exception": false,
     "start_time": "2022-12-06T00:37:22.092324",
     "status": "completed"
    },
    "tags": []
   },
   "outputs": [],
   "source": [
    "#hide\n",
    "# cols.insert(0, cols.pop())"
   ]
  },
  {
   "cell_type": "code",
   "execution_count": 30,
   "id": "executed-adoption",
   "metadata": {
    "execution": {
     "iopub.execute_input": "2022-12-06T00:37:22.194788Z",
     "iopub.status.busy": "2022-12-06T00:37:22.194208Z",
     "iopub.status.idle": "2022-12-06T00:37:22.196446Z",
     "shell.execute_reply": "2022-12-06T00:37:22.195922Z"
    },
    "papermill": {
     "duration": 0.03636,
     "end_time": "2022-12-06T00:37:22.196546",
     "exception": false,
     "start_time": "2022-12-06T00:37:22.160186",
     "status": "completed"
    },
    "tags": []
   },
   "outputs": [],
   "source": [
    "#hide\n",
    "# g = g[cols]"
   ]
  },
  {
   "cell_type": "code",
   "execution_count": 31,
   "id": "subject-dublin",
   "metadata": {
    "execution": {
     "iopub.execute_input": "2022-12-06T00:37:22.261776Z",
     "iopub.status.busy": "2022-12-06T00:37:22.261206Z",
     "iopub.status.idle": "2022-12-06T00:37:22.263554Z",
     "shell.execute_reply": "2022-12-06T00:37:22.263034Z"
    },
    "papermill": {
     "duration": 0.036188,
     "end_time": "2022-12-06T00:37:22.263651",
     "exception": false,
     "start_time": "2022-12-06T00:37:22.227463",
     "status": "completed"
    },
    "tags": []
   },
   "outputs": [],
   "source": [
    "#hide\n",
    "# g['continent'] = g['continent'].map(mapping['map.continent'])"
   ]
  },
  {
   "cell_type": "code",
   "execution_count": 32,
   "id": "freelance-scout",
   "metadata": {
    "execution": {
     "iopub.execute_input": "2022-12-06T00:37:22.328225Z",
     "iopub.status.busy": "2022-12-06T00:37:22.327670Z",
     "iopub.status.idle": "2022-12-06T00:37:22.330232Z",
     "shell.execute_reply": "2022-12-06T00:37:22.330742Z"
    },
    "papermill": {
     "duration": 0.036224,
     "end_time": "2022-12-06T00:37:22.330855",
     "exception": false,
     "start_time": "2022-12-06T00:37:22.294631",
     "status": "completed"
    },
    "tags": []
   },
   "outputs": [],
   "source": [
    "#hide\n",
    "# g.head()"
   ]
  },
  {
   "cell_type": "code",
   "execution_count": 33,
   "id": "limited-engine",
   "metadata": {
    "execution": {
     "iopub.execute_input": "2022-12-06T00:37:22.396173Z",
     "iopub.status.busy": "2022-12-06T00:37:22.395515Z",
     "iopub.status.idle": "2022-12-06T00:37:22.397969Z",
     "shell.execute_reply": "2022-12-06T00:37:22.397531Z"
    },
    "papermill": {
     "duration": 0.036432,
     "end_time": "2022-12-06T00:37:22.398067",
     "exception": false,
     "start_time": "2022-12-06T00:37:22.361635",
     "status": "completed"
    },
    "tags": []
   },
   "outputs": [],
   "source": [
    "# hide\n",
    "# g['date'] = g['date'].astype('datetime64[ns]')"
   ]
  },
  {
   "cell_type": "code",
   "execution_count": 34,
   "id": "sophisticated-supervisor",
   "metadata": {
    "execution": {
     "iopub.execute_input": "2022-12-06T00:37:22.463155Z",
     "iopub.status.busy": "2022-12-06T00:37:22.462560Z",
     "iopub.status.idle": "2022-12-06T00:37:22.464992Z",
     "shell.execute_reply": "2022-12-06T00:37:22.464555Z"
    },
    "papermill": {
     "duration": 0.036176,
     "end_time": "2022-12-06T00:37:22.465088",
     "exception": false,
     "start_time": "2022-12-06T00:37:22.428912",
     "status": "completed"
    },
    "tags": []
   },
   "outputs": [],
   "source": [
    "#hide\n",
    "# g['date'] = g.date.dt.dayofyear"
   ]
  },
  {
   "cell_type": "code",
   "execution_count": 35,
   "id": "inside-dubai",
   "metadata": {
    "execution": {
     "iopub.execute_input": "2022-12-06T00:37:22.530088Z",
     "iopub.status.busy": "2022-12-06T00:37:22.529538Z",
     "iopub.status.idle": "2022-12-06T00:37:22.531927Z",
     "shell.execute_reply": "2022-12-06T00:37:22.531420Z"
    },
    "papermill": {
     "duration": 0.035892,
     "end_time": "2022-12-06T00:37:22.532023",
     "exception": false,
     "start_time": "2022-12-06T00:37:22.496131",
     "status": "completed"
    },
    "tags": []
   },
   "outputs": [],
   "source": [
    "#hide\n",
    "# g = g.rename(columns= {'continent':'group','country':'name','cases':'value'})"
   ]
  },
  {
   "cell_type": "code",
   "execution_count": 36,
   "id": "fleet-motorcycle",
   "metadata": {
    "execution": {
     "iopub.execute_input": "2022-12-06T00:37:22.597306Z",
     "iopub.status.busy": "2022-12-06T00:37:22.596752Z",
     "iopub.status.idle": "2022-12-06T00:37:22.598983Z",
     "shell.execute_reply": "2022-12-06T00:37:22.598441Z"
    },
    "papermill": {
     "duration": 0.036083,
     "end_time": "2022-12-06T00:37:22.599080",
     "exception": false,
     "start_time": "2022-12-06T00:37:22.562997",
     "status": "completed"
    },
    "tags": []
   },
   "outputs": [],
   "source": [
    "#hide\n",
    "# cols = ['name','group','day','value']"
   ]
  },
  {
   "cell_type": "code",
   "execution_count": 37,
   "id": "continued-sleeping",
   "metadata": {
    "execution": {
     "iopub.execute_input": "2022-12-06T00:37:22.665150Z",
     "iopub.status.busy": "2022-12-06T00:37:22.664580Z",
     "iopub.status.idle": "2022-12-06T00:37:22.666987Z",
     "shell.execute_reply": "2022-12-06T00:37:22.666530Z"
    },
    "papermill": {
     "duration": 0.03683,
     "end_time": "2022-12-06T00:37:22.667087",
     "exception": false,
     "start_time": "2022-12-06T00:37:22.630257",
     "status": "completed"
    },
    "tags": []
   },
   "outputs": [],
   "source": [
    "#hide\n",
    "# g.rename(columns= {'date':'day'},inplace = True)"
   ]
  },
  {
   "cell_type": "code",
   "execution_count": 38,
   "id": "major-fight",
   "metadata": {
    "execution": {
     "iopub.execute_input": "2022-12-06T00:37:22.732252Z",
     "iopub.status.busy": "2022-12-06T00:37:22.731682Z",
     "iopub.status.idle": "2022-12-06T00:37:22.734105Z",
     "shell.execute_reply": "2022-12-06T00:37:22.733668Z"
    },
    "papermill": {
     "duration": 0.036061,
     "end_time": "2022-12-06T00:37:22.734203",
     "exception": false,
     "start_time": "2022-12-06T00:37:22.698142",
     "status": "completed"
    },
    "tags": []
   },
   "outputs": [],
   "source": [
    "#hide\n",
    "# g = g[cols]"
   ]
  },
  {
   "cell_type": "code",
   "execution_count": 39,
   "id": "structured-mobile",
   "metadata": {
    "execution": {
     "iopub.execute_input": "2022-12-06T00:37:22.798948Z",
     "iopub.status.busy": "2022-12-06T00:37:22.798378Z",
     "iopub.status.idle": "2022-12-06T00:37:22.801557Z",
     "shell.execute_reply": "2022-12-06T00:37:22.801125Z"
    },
    "papermill": {
     "duration": 0.036764,
     "end_time": "2022-12-06T00:37:22.801649",
     "exception": false,
     "start_time": "2022-12-06T00:37:22.764885",
     "status": "completed"
    },
    "tags": []
   },
   "outputs": [],
   "source": [
    "# #hide\n",
    "# g = g[g.group.notna()]"
   ]
  },
  {
   "cell_type": "code",
   "execution_count": 40,
   "id": "determined-closing",
   "metadata": {
    "execution": {
     "iopub.execute_input": "2022-12-06T00:37:22.867989Z",
     "iopub.status.busy": "2022-12-06T00:37:22.867430Z",
     "iopub.status.idle": "2022-12-06T00:37:22.869693Z",
     "shell.execute_reply": "2022-12-06T00:37:22.869161Z"
    },
    "papermill": {
     "duration": 0.036173,
     "end_time": "2022-12-06T00:37:22.869790",
     "exception": false,
     "start_time": "2022-12-06T00:37:22.833617",
     "status": "completed"
    },
    "tags": []
   },
   "outputs": [],
   "source": [
    "# #hide\n",
    "# colors = dict(zip(\n",
    "#     [\"Oceania\", \"Europe\", \"Asia\", \"South America\", \"Middle East\", \"North America\", \"Africa\"],\n",
    "#     [\"#adb0ff\", \"#ffb3ff\", \"#90d595\", \"#e48381\", \"#aafbff\", \"#f7bb5f\", \"#eafb50\"]\n",
    "# ))\n",
    "# group_lk = g.set_index('name')['group'].to_dict()"
   ]
  },
  {
   "cell_type": "code",
   "execution_count": null,
   "id": "gross-drinking",
   "metadata": {
    "papermill": {
     "duration": 0.030955,
     "end_time": "2022-12-06T00:37:22.931723",
     "exception": false,
     "start_time": "2022-12-06T00:37:22.900768",
     "status": "completed"
    },
    "tags": []
   },
   "outputs": [],
   "source": []
  },
  {
   "cell_type": "code",
   "execution_count": 41,
   "id": "subject-macintosh",
   "metadata": {
    "execution": {
     "iopub.execute_input": "2022-12-06T00:37:22.997870Z",
     "iopub.status.busy": "2022-12-06T00:37:22.997290Z",
     "iopub.status.idle": "2022-12-06T00:37:22.999663Z",
     "shell.execute_reply": "2022-12-06T00:37:22.999138Z"
    },
    "papermill": {
     "duration": 0.037004,
     "end_time": "2022-12-06T00:37:22.999762",
     "exception": false,
     "start_time": "2022-12-06T00:37:22.962758",
     "status": "completed"
    },
    "tags": []
   },
   "outputs": [],
   "source": [
    "# #hide\n",
    "# fig, ax = plt.subplots(figsize=(15, 8))\n",
    "\n",
    "# def draw_barchart(current_day):\n",
    "#     dff = g[g['day'].eq(current_day)].sort_values(by='value', ascending=True).tail(10)\n",
    "#     ax.clear()\n",
    "#     ax.barh(dff['name'], dff['value'], color=[colors[group_lk[x]] for x in dff['name']])\n",
    "#     dx = dff['value'].max() / 200\n",
    "    \n",
    "#     for i, (value, name) in enumerate(zip(dff['value'], dff['name'])):\n",
    "#         ax.text(value-dx, i,     name,           size=14, weight=600, ha='right', va='bottom')\n",
    "#         ax.text(value-dx, i-.25, group_lk[name], size=10, color='#444444', ha='right', va='baseline')\n",
    "#         ax.text(value+dx, i,     f'{value:,.0f}',  size=14, ha='left',  va='center')\n",
    "#     ax.text(1, 0.4, current_day, transform=ax.transAxes, color='#777777', size=46, ha='right', weight=800)\n",
    "#     ax.text(0, 1.06, 'Population (thousands)', transform=ax.transAxes, size=12, color='#777777')\n",
    "#     ax.xaxis.set_major_formatter(ticker.StrMethodFormatter('{x:,.0f}'))\n",
    "#     ax.xaxis.set_ticks_position('top')\n",
    "#     ax.tick_params(axis='x', colors='#777777', labelsize=12)\n",
    "#     ax.set_yticks([])\n",
    "#     ax.margins(0, 0.01)\n",
    "#     ax.grid(which='major', axis='x', linestyle='-')\n",
    "#     ax.set_axisbelow(True)\n",
    "    \n",
    "#     ax.text(0, 1.15, 'Coronavirus',\n",
    "#             transform=ax.transAxes, size=24, weight=600, ha='left', va='top')\n",
    "# #     ax.text(1, 0, 'by @pratapvardhan; credit @jburnmurdoch', transform=ax.transAxes, color='#777777', ha='right',\n",
    "# #             bbox=dict(facecolor='white', alpha=0.8, edgecolor='white'))\n",
    "#     plt.box(False)"
   ]
  },
  {
   "cell_type": "code",
   "execution_count": 42,
   "id": "sexual-wages",
   "metadata": {
    "execution": {
     "iopub.execute_input": "2022-12-06T00:37:23.065350Z",
     "iopub.status.busy": "2022-12-06T00:37:23.064791Z",
     "iopub.status.idle": "2022-12-06T00:37:23.067237Z",
     "shell.execute_reply": "2022-12-06T00:37:23.066802Z"
    },
    "papermill": {
     "duration": 0.036662,
     "end_time": "2022-12-06T00:37:23.067333",
     "exception": false,
     "start_time": "2022-12-06T00:37:23.030671",
     "status": "completed"
    },
    "tags": []
   },
   "outputs": [],
   "source": [
    "# #hide_input\n",
    "# fig, ax = plt.subplots(figsize=(15, 8))\n",
    "# animator = animation.FuncAnimation(fig, draw_barchart, frames=range(g.day.values.min(), g.day.values.max()))\n",
    "# HTML(animator.to_jshtml())\n",
    "# # or use animator.to_html5_video() or animator.save() "
   ]
  },
  {
   "cell_type": "code",
   "execution_count": null,
   "id": "australian-container",
   "metadata": {
    "papermill": {
     "duration": 0.030836,
     "end_time": "2022-12-06T00:37:23.129155",
     "exception": false,
     "start_time": "2022-12-06T00:37:23.098319",
     "status": "completed"
    },
    "tags": []
   },
   "outputs": [],
   "source": []
  },
  {
   "cell_type": "code",
   "execution_count": null,
   "id": "mediterranean-pontiac",
   "metadata": {
    "papermill": {
     "duration": 0.030898,
     "end_time": "2022-12-06T00:37:23.191053",
     "exception": false,
     "start_time": "2022-12-06T00:37:23.160155",
     "status": "completed"
    },
    "tags": []
   },
   "outputs": [],
   "source": []
  },
  {
   "cell_type": "code",
   "execution_count": null,
   "id": "aging-legislature",
   "metadata": {
    "papermill": {
     "duration": 0.030854,
     "end_time": "2022-12-06T00:37:23.252875",
     "exception": false,
     "start_time": "2022-12-06T00:37:23.222021",
     "status": "completed"
    },
    "tags": []
   },
   "outputs": [],
   "source": []
  }
 ],
 "metadata": {
  "kernelspec": {
   "display_name": "Python 3",
   "language": "python",
   "name": "python3"
  },
  "language_info": {
   "codemirror_mode": {
    "name": "ipython",
    "version": 3
   },
   "file_extension": ".py",
   "mimetype": "text/x-python",
   "name": "python",
   "nbconvert_exporter": "python",
   "pygments_lexer": "ipython3",
   "version": "3.6.15"
  },
  "papermill": {
   "duration": 5.826963,
   "end_time": "2022-12-06T00:37:23.601305",
   "environment_variables": {},
   "exception": null,
   "input_path": "2020-03-21-covid19exp.ipynb",
   "output_path": "2020-03-21-covid19exp.ipynb",
   "parameters": {},
   "start_time": "2022-12-06T00:37:17.774342",
   "version": "2.0.0"
  }
 },
 "nbformat": 4,
 "nbformat_minor": 5
}