{
 "cells": [
  {
   "cell_type": "markdown",
   "id": "muslim-click",
   "metadata": {
    "papermill": {
     "duration": 0.044254,
     "end_time": "2022-08-13T12:15:04.041591",
     "exception": false,
     "start_time": "2022-08-13T12:15:03.997337",
     "status": "completed"
    },
    "tags": []
   },
   "source": [
    "# COVID-19 Case Race\n",
    "> A race chart to see rising cases around the world\n",
    "\n",
    "- author: Hargun Oberoi\n",
    "- image: images/covid-overview.png\n",
    "- hide: false\n",
    "- badges: false"
   ]
  },
  {
   "cell_type": "code",
   "execution_count": 1,
   "id": "proof-material",
   "metadata": {
    "execution": {
     "iopub.execute_input": "2022-08-13T12:15:04.136276Z",
     "iopub.status.busy": "2022-08-13T12:15:04.135452Z",
     "iopub.status.idle": "2022-08-13T12:15:04.559340Z",
     "shell.execute_reply": "2022-08-13T12:15:04.558519Z"
    },
    "papermill": {
     "duration": 0.474181,
     "end_time": "2022-08-13T12:15:04.559509",
     "exception": false,
     "start_time": "2022-08-13T12:15:04.085328",
     "status": "completed"
    },
    "tags": []
   },
   "outputs": [],
   "source": [
    "#hide\n",
    "import numpy as np\n",
    "import pandas as pd\n",
    "from jinja2 import Template\n",
    "from IPython.display import HTML"
   ]
  },
  {
   "cell_type": "code",
   "execution_count": 2,
   "id": "developed-terminology",
   "metadata": {
    "execution": {
     "iopub.execute_input": "2022-08-13T12:15:04.645172Z",
     "iopub.status.busy": "2022-08-13T12:15:04.644385Z",
     "iopub.status.idle": "2022-08-13T12:15:04.648392Z",
     "shell.execute_reply": "2022-08-13T12:15:04.647653Z"
    },
    "papermill": {
     "duration": 0.050315,
     "end_time": "2022-08-13T12:15:04.648622",
     "exception": false,
     "start_time": "2022-08-13T12:15:04.598307",
     "status": "completed"
    },
    "tags": []
   },
   "outputs": [],
   "source": [
    "#hide\n",
    "\n",
    "# FETCH\n",
    "base_url = 'https://raw.githubusercontent.com/pratapvardhan/notebooks/master/covid19/'\n",
    "paths = {\n",
    "    'mapping': base_url + 'mapping_countries.csv',\n",
    "    'overview': base_url + 'overview.tpl'\n",
    "}"
   ]
  },
  {
   "cell_type": "code",
   "execution_count": 3,
   "id": "dynamic-saver",
   "metadata": {
    "execution": {
     "iopub.execute_input": "2022-08-13T12:15:04.741478Z",
     "iopub.status.busy": "2022-08-13T12:15:04.740615Z",
     "iopub.status.idle": "2022-08-13T12:15:04.745145Z",
     "shell.execute_reply": "2022-08-13T12:15:04.744421Z"
    },
    "papermill": {
     "duration": 0.057645,
     "end_time": "2022-08-13T12:15:04.745280",
     "exception": false,
     "start_time": "2022-08-13T12:15:04.687635",
     "status": "completed"
    },
    "tags": []
   },
   "outputs": [
    {
     "data": {
      "text/plain": [
       "'https://raw.githubusercontent.com/pratapvardhan/notebooks/master/covid19/mapping_countries.csv'"
      ]
     },
     "execution_count": 3,
     "metadata": {},
     "output_type": "execute_result"
    }
   ],
   "source": [
    "#hide\n",
    "paths['mapping']"
   ]
  },
  {
   "cell_type": "code",
   "execution_count": 4,
   "id": "urban-software",
   "metadata": {
    "execution": {
     "iopub.execute_input": "2022-08-13T12:15:04.830279Z",
     "iopub.status.busy": "2022-08-13T12:15:04.829533Z",
     "iopub.status.idle": "2022-08-13T12:15:04.832927Z",
     "shell.execute_reply": "2022-08-13T12:15:04.832140Z"
    },
    "papermill": {
     "duration": 0.048925,
     "end_time": "2022-08-13T12:15:04.833070",
     "exception": false,
     "start_time": "2022-08-13T12:15:04.784145",
     "status": "completed"
    },
    "tags": []
   },
   "outputs": [],
   "source": [
    "#hide\n",
    "def get_mappings(url):\n",
    "    df = pd.read_csv(url)\n",
    "    return {\n",
    "        'df': df,\n",
    "        'replace.country': dict(df.dropna(subset=['Name']).set_index('Country')['Name']),\n",
    "        'map.continent': dict(df.set_index('Name')['Continent'])\n",
    "    }"
   ]
  },
  {
   "cell_type": "code",
   "execution_count": 5,
   "id": "intimate-machinery",
   "metadata": {
    "execution": {
     "iopub.execute_input": "2022-08-13T12:15:04.918574Z",
     "iopub.status.busy": "2022-08-13T12:15:04.917762Z",
     "iopub.status.idle": "2022-08-13T12:15:04.949123Z",
     "shell.execute_reply": "2022-08-13T12:15:04.949756Z"
    },
    "papermill": {
     "duration": 0.0772,
     "end_time": "2022-08-13T12:15:04.949954",
     "exception": false,
     "start_time": "2022-08-13T12:15:04.872754",
     "status": "completed"
    },
    "tags": []
   },
   "outputs": [],
   "source": [
    "#hide\n",
    "mapping = get_mappings(paths['mapping'])"
   ]
  },
  {
   "cell_type": "code",
   "execution_count": 6,
   "id": "certified-tactics",
   "metadata": {
    "execution": {
     "iopub.execute_input": "2022-08-13T12:15:05.035634Z",
     "iopub.status.busy": "2022-08-13T12:15:05.034828Z",
     "iopub.status.idle": "2022-08-13T12:15:05.038037Z",
     "shell.execute_reply": "2022-08-13T12:15:05.037249Z"
    },
    "papermill": {
     "duration": 0.050302,
     "end_time": "2022-08-13T12:15:05.038181",
     "exception": false,
     "start_time": "2022-08-13T12:15:04.987879",
     "status": "completed"
    },
    "tags": []
   },
   "outputs": [],
   "source": [
    "#hide\n",
    "def get_template(path):\n",
    "    from urllib.parse import urlparse\n",
    "    if bool(urlparse(path).netloc):\n",
    "        from urllib.request import urlopen\n",
    "        return urlopen(path).read().decode('utf8')\n",
    "    return open(path).read()"
   ]
  },
  {
   "cell_type": "code",
   "execution_count": 7,
   "id": "realistic-blast",
   "metadata": {
    "execution": {
     "iopub.execute_input": "2022-08-13T12:15:05.125885Z",
     "iopub.status.busy": "2022-08-13T12:15:05.125046Z",
     "iopub.status.idle": "2022-08-13T12:15:05.128530Z",
     "shell.execute_reply": "2022-08-13T12:15:05.127819Z"
    },
    "papermill": {
     "duration": 0.048577,
     "end_time": "2022-08-13T12:15:05.128683",
     "exception": false,
     "start_time": "2022-08-13T12:15:05.080106",
     "status": "completed"
    },
    "tags": []
   },
   "outputs": [],
   "source": [
    "#hide\n",
    "def get_frame(name):\n",
    "    url = (\n",
    "        'https://raw.githubusercontent.com/CSSEGISandData/COVID-19/master/csse_covid_19_data/'\n",
    "        f'csse_covid_19_time_series/time_series_covid19_{name}_global.csv')\n",
    "    df = pd.read_csv(url)\n",
    "    # rename countries\n",
    "    df['Country/Region'] = df['Country/Region'].replace(mapping['replace.country'])\n",
    "    return df"
   ]
  },
  {
   "cell_type": "code",
   "execution_count": 8,
   "id": "affiliated-characterization",
   "metadata": {
    "execution": {
     "iopub.execute_input": "2022-08-13T12:15:05.216245Z",
     "iopub.status.busy": "2022-08-13T12:15:05.215363Z",
     "iopub.status.idle": "2022-08-13T12:15:05.218673Z",
     "shell.execute_reply": "2022-08-13T12:15:05.217998Z"
    },
    "papermill": {
     "duration": 0.04918,
     "end_time": "2022-08-13T12:15:05.218812",
     "exception": false,
     "start_time": "2022-08-13T12:15:05.169632",
     "status": "completed"
    },
    "tags": []
   },
   "outputs": [],
   "source": [
    "#hide\n",
    "def get_dates(df):\n",
    "    dt_cols = df.columns[~df.columns.isin(['Province/State', 'Country/Region', 'Lat', 'Long'])]\n",
    "    LAST_DATE_I = -1\n",
    "    # sometimes last column may be empty, then go backwards\n",
    "    for i in range(-1, -len(dt_cols), -1):\n",
    "        if not df[dt_cols[i]].fillna(0).eq(0).all():\n",
    "            LAST_DATE_I = i\n",
    "            break\n",
    "    return LAST_DATE_I, dt_cols"
   ]
  },
  {
   "cell_type": "code",
   "execution_count": 9,
   "id": "recent-optimization",
   "metadata": {
    "execution": {
     "iopub.execute_input": "2022-08-13T12:15:05.304063Z",
     "iopub.status.busy": "2022-08-13T12:15:05.303242Z",
     "iopub.status.idle": "2022-08-13T12:15:05.793174Z",
     "shell.execute_reply": "2022-08-13T12:15:05.794193Z"
    },
    "papermill": {
     "duration": 0.536614,
     "end_time": "2022-08-13T12:15:05.794636",
     "exception": false,
     "start_time": "2022-08-13T12:15:05.258022",
     "status": "completed"
    },
    "tags": []
   },
   "outputs": [],
   "source": [
    "#hide\n",
    "COL_REGION = 'Country/Region'\n",
    "# Confirmed, Recovered, Deaths\n",
    "df = get_frame('confirmed')\n",
    "# dft_: timeseries, dfc_: today country agg\n",
    "dft_cases = df\n",
    "dft_deaths = get_frame('deaths')\n",
    "dft_recovered = get_frame('recovered')\n",
    "LAST_DATE_I, dt_cols = get_dates(df)"
   ]
  },
  {
   "cell_type": "code",
   "execution_count": 10,
   "id": "absolute-copper",
   "metadata": {
    "execution": {
     "iopub.execute_input": "2022-08-13T12:15:05.884428Z",
     "iopub.status.busy": "2022-08-13T12:15:05.883661Z",
     "iopub.status.idle": "2022-08-13T12:15:05.885984Z",
     "shell.execute_reply": "2022-08-13T12:15:05.886822Z"
    },
    "papermill": {
     "duration": 0.051413,
     "end_time": "2022-08-13T12:15:05.886981",
     "exception": false,
     "start_time": "2022-08-13T12:15:05.835568",
     "status": "completed"
    },
    "tags": []
   },
   "outputs": [],
   "source": [
    "#hide\n",
    "LAST_DATE_I, dt_cols = get_dates(df)\n",
    "dt_today =dt_cols[LAST_DATE_I]\n",
    "# dt_5day = dt_cols[LAST_DATE_I - 5]\n",
    "dt_yday = dt_cols[LAST_DATE_I - 1]"
   ]
  },
  {
   "cell_type": "code",
   "execution_count": 11,
   "id": "restricted-sheriff",
   "metadata": {
    "execution": {
     "iopub.execute_input": "2022-08-13T12:15:05.969720Z",
     "iopub.status.busy": "2022-08-13T12:15:05.968968Z",
     "iopub.status.idle": "2022-08-13T12:15:05.978095Z",
     "shell.execute_reply": "2022-08-13T12:15:05.979046Z"
    },
    "papermill": {
     "duration": 0.053844,
     "end_time": "2022-08-13T12:15:05.979192",
     "exception": false,
     "start_time": "2022-08-13T12:15:05.925348",
     "status": "completed"
    },
    "tags": []
   },
   "outputs": [],
   "source": [
    "#hide\n",
    "dfc_cases = dft_cases.groupby(COL_REGION)[dt_today].sum()\n",
    "dfc_deaths = dft_deaths.groupby(COL_REGION)[dt_today].sum()\n",
    "# dfp_cases = dft_cases.groupby(COL_REGION)[dt_5day].sum()\n",
    "# dfp_deaths = dft_deaths.groupby(COL_REGION)[dt_5day].sum()\n",
    "dfp_cases = dft_cases.groupby(COL_REGION)[dt_yday].sum()\n",
    "dfp_deaths = dft_deaths.groupby(COL_REGION)[dt_yday].sum()"
   ]
  },
  {
   "cell_type": "code",
   "execution_count": 12,
   "id": "deluxe-hepatitis",
   "metadata": {
    "execution": {
     "iopub.execute_input": "2022-08-13T12:15:06.069837Z",
     "iopub.status.busy": "2022-08-13T12:15:06.068997Z",
     "iopub.status.idle": "2022-08-13T12:15:06.074855Z",
     "shell.execute_reply": "2022-08-13T12:15:06.075578Z"
    },
    "papermill": {
     "duration": 0.053871,
     "end_time": "2022-08-13T12:15:06.075728",
     "exception": false,
     "start_time": "2022-08-13T12:15:06.021857",
     "status": "completed"
    },
    "tags": []
   },
   "outputs": [],
   "source": [
    "#hide\n",
    "df_table = (pd.DataFrame(dict(Cases = dfc_cases, Deaths = dfc_deaths, PCases = dfp_cases, PDeaths = dfp_deaths))\n",
    "            .sort_values(by = ['Cases','Deaths'], ascending = [False, False])\n",
    "            .reset_index())"
   ]
  },
  {
   "cell_type": "code",
   "execution_count": 13,
   "id": "educational-chancellor",
   "metadata": {
    "execution": {
     "iopub.execute_input": "2022-08-13T12:15:06.167960Z",
     "iopub.status.busy": "2022-08-13T12:15:06.167092Z",
     "iopub.status.idle": "2022-08-13T12:15:06.184528Z",
     "shell.execute_reply": "2022-08-13T12:15:06.183836Z"
    },
    "papermill": {
     "duration": 0.071149,
     "end_time": "2022-08-13T12:15:06.184723",
     "exception": false,
     "start_time": "2022-08-13T12:15:06.113574",
     "status": "completed"
    },
    "tags": []
   },
   "outputs": [
    {
     "data": {
      "text/html": [
       "<div>\n",
       "<style scoped>\n",
       "    .dataframe tbody tr th:only-of-type {\n",
       "        vertical-align: middle;\n",
       "    }\n",
       "\n",
       "    .dataframe tbody tr th {\n",
       "        vertical-align: top;\n",
       "    }\n",
       "\n",
       "    .dataframe thead th {\n",
       "        text-align: right;\n",
       "    }\n",
       "</style>\n",
       "<table border=\"1\" class=\"dataframe\">\n",
       "  <thead>\n",
       "    <tr style=\"text-align: right;\">\n",
       "      <th></th>\n",
       "      <th>Country/Region</th>\n",
       "      <th>Cases</th>\n",
       "      <th>Deaths</th>\n",
       "      <th>PCases</th>\n",
       "      <th>PDeaths</th>\n",
       "      <th>Cases (+)</th>\n",
       "      <th>Deaths (+)</th>\n",
       "      <th>Fatality Rate</th>\n",
       "      <th>Continent</th>\n",
       "    </tr>\n",
       "  </thead>\n",
       "  <tbody>\n",
       "    <tr>\n",
       "      <th>0</th>\n",
       "      <td>US</td>\n",
       "      <td>92838677</td>\n",
       "      <td>1036990</td>\n",
       "      <td>92720029</td>\n",
       "      <td>1036325</td>\n",
       "      <td>118648</td>\n",
       "      <td>665</td>\n",
       "      <td>1.12</td>\n",
       "      <td>North America</td>\n",
       "    </tr>\n",
       "    <tr>\n",
       "      <th>1</th>\n",
       "      <td>India</td>\n",
       "      <td>44239372</td>\n",
       "      <td>526996</td>\n",
       "      <td>44223557</td>\n",
       "      <td>526928</td>\n",
       "      <td>15815</td>\n",
       "      <td>68</td>\n",
       "      <td>1.19</td>\n",
       "      <td>Asia</td>\n",
       "    </tr>\n",
       "    <tr>\n",
       "      <th>2</th>\n",
       "      <td>France</td>\n",
       "      <td>34406092</td>\n",
       "      <td>154104</td>\n",
       "      <td>34383344</td>\n",
       "      <td>154030</td>\n",
       "      <td>22748</td>\n",
       "      <td>74</td>\n",
       "      <td>0.45</td>\n",
       "      <td>Europe</td>\n",
       "    </tr>\n",
       "    <tr>\n",
       "      <th>3</th>\n",
       "      <td>Brazil</td>\n",
       "      <td>34148131</td>\n",
       "      <td>681253</td>\n",
       "      <td>34124579</td>\n",
       "      <td>681006</td>\n",
       "      <td>23552</td>\n",
       "      <td>247</td>\n",
       "      <td>1.99</td>\n",
       "      <td>South America</td>\n",
       "    </tr>\n",
       "    <tr>\n",
       "      <th>4</th>\n",
       "      <td>Germany</td>\n",
       "      <td>31535343</td>\n",
       "      <td>145698</td>\n",
       "      <td>31489484</td>\n",
       "      <td>145561</td>\n",
       "      <td>45859</td>\n",
       "      <td>137</td>\n",
       "      <td>0.46</td>\n",
       "      <td>Europe</td>\n",
       "    </tr>\n",
       "  </tbody>\n",
       "</table>\n",
       "</div>"
      ],
      "text/plain": [
       "  Country/Region     Cases   Deaths    PCases  PDeaths  Cases (+)  Deaths (+)  \\\n",
       "0             US  92838677  1036990  92720029  1036325     118648         665   \n",
       "1          India  44239372   526996  44223557   526928      15815          68   \n",
       "2         France  34406092   154104  34383344   154030      22748          74   \n",
       "3         Brazil  34148131   681253  34124579   681006      23552         247   \n",
       "4        Germany  31535343   145698  31489484   145561      45859         137   \n",
       "\n",
       "   Fatality Rate      Continent  \n",
       "0           1.12  North America  \n",
       "1           1.19           Asia  \n",
       "2           0.45         Europe  \n",
       "3           1.99  South America  \n",
       "4           0.46         Europe  "
      ]
     },
     "execution_count": 13,
     "metadata": {},
     "output_type": "execute_result"
    }
   ],
   "source": [
    "#hide\n",
    "for c in 'Cases, Deaths'.split(', '):\n",
    "    df_table[f'{c} (+)'] = (df_table[c] - df_table[f'P{c}']).clip(0)\n",
    "    #Clip ça veut dire, les chiffres negatif sont interdit\n",
    "df_table['Fatality Rate'] = (100* df_table['Deaths']/ df_table['Cases']).round(2)\n",
    "df_table['Continent'] = df_table['Country/Region'].map(mapping['map.continent'])\n",
    "df_table.head(5)"
   ]
  },
  {
   "cell_type": "code",
   "execution_count": 14,
   "id": "aboriginal-bulgaria",
   "metadata": {
    "execution": {
     "iopub.execute_input": "2022-08-13T12:15:06.276216Z",
     "iopub.status.busy": "2022-08-13T12:15:06.275359Z",
     "iopub.status.idle": "2022-08-13T12:15:06.278811Z",
     "shell.execute_reply": "2022-08-13T12:15:06.277863Z"
    },
    "papermill": {
     "duration": 0.05292,
     "end_time": "2022-08-13T12:15:06.278973",
     "exception": false,
     "start_time": "2022-08-13T12:15:06.226053",
     "status": "completed"
    },
    "tags": []
   },
   "outputs": [],
   "source": [
    "#hide\n",
    "#delete problematic countries from table\n",
    "df_table = df_table[~df_table['Country/Region'].isin(['Cape Verde', 'Cruise Ship', 'Kosovo'])]"
   ]
  },
  {
   "cell_type": "code",
   "execution_count": 15,
   "id": "fantastic-effect",
   "metadata": {
    "execution": {
     "iopub.execute_input": "2022-08-13T12:15:06.368862Z",
     "iopub.status.busy": "2022-08-13T12:15:06.368114Z",
     "iopub.status.idle": "2022-08-13T12:15:06.391808Z",
     "shell.execute_reply": "2022-08-13T12:15:06.392360Z"
    },
    "papermill": {
     "duration": 0.072513,
     "end_time": "2022-08-13T12:15:06.392511",
     "exception": false,
     "start_time": "2022-08-13T12:15:06.319998",
     "status": "completed"
    },
    "tags": []
   },
   "outputs": [
    {
     "data": {
      "text/html": [
       "<div>\n",
       "<style scoped>\n",
       "    .dataframe tbody tr th:only-of-type {\n",
       "        vertical-align: middle;\n",
       "    }\n",
       "\n",
       "    .dataframe tbody tr th {\n",
       "        vertical-align: top;\n",
       "    }\n",
       "\n",
       "    .dataframe thead th {\n",
       "        text-align: right;\n",
       "    }\n",
       "</style>\n",
       "<table border=\"1\" class=\"dataframe\">\n",
       "  <thead>\n",
       "    <tr style=\"text-align: right;\">\n",
       "      <th></th>\n",
       "      <th>Country/Region</th>\n",
       "      <th>Cases</th>\n",
       "      <th>Deaths</th>\n",
       "      <th>PCases</th>\n",
       "      <th>PDeaths</th>\n",
       "      <th>Cases (+)</th>\n",
       "      <th>Deaths (+)</th>\n",
       "      <th>Fatality Rate</th>\n",
       "      <th>Continent</th>\n",
       "    </tr>\n",
       "  </thead>\n",
       "  <tbody>\n",
       "    <tr>\n",
       "      <th>0</th>\n",
       "      <td>US</td>\n",
       "      <td>92838677</td>\n",
       "      <td>1036990</td>\n",
       "      <td>92720029</td>\n",
       "      <td>1036325</td>\n",
       "      <td>118648</td>\n",
       "      <td>665</td>\n",
       "      <td>1.1</td>\n",
       "      <td>North America</td>\n",
       "    </tr>\n",
       "    <tr>\n",
       "      <th>1</th>\n",
       "      <td>India</td>\n",
       "      <td>44239372</td>\n",
       "      <td>526996</td>\n",
       "      <td>44223557</td>\n",
       "      <td>526928</td>\n",
       "      <td>15815</td>\n",
       "      <td>68</td>\n",
       "      <td>1.2</td>\n",
       "      <td>Asia</td>\n",
       "    </tr>\n",
       "    <tr>\n",
       "      <th>2</th>\n",
       "      <td>France</td>\n",
       "      <td>34406092</td>\n",
       "      <td>154104</td>\n",
       "      <td>34383344</td>\n",
       "      <td>154030</td>\n",
       "      <td>22748</td>\n",
       "      <td>74</td>\n",
       "      <td>0.4</td>\n",
       "      <td>Europe</td>\n",
       "    </tr>\n",
       "    <tr>\n",
       "      <th>3</th>\n",
       "      <td>Brazil</td>\n",
       "      <td>34148131</td>\n",
       "      <td>681253</td>\n",
       "      <td>34124579</td>\n",
       "      <td>681006</td>\n",
       "      <td>23552</td>\n",
       "      <td>247</td>\n",
       "      <td>2.0</td>\n",
       "      <td>South America</td>\n",
       "    </tr>\n",
       "    <tr>\n",
       "      <th>4</th>\n",
       "      <td>Germany</td>\n",
       "      <td>31535343</td>\n",
       "      <td>145698</td>\n",
       "      <td>31489484</td>\n",
       "      <td>145561</td>\n",
       "      <td>45859</td>\n",
       "      <td>137</td>\n",
       "      <td>0.5</td>\n",
       "      <td>Europe</td>\n",
       "    </tr>\n",
       "  </tbody>\n",
       "</table>\n",
       "</div>"
      ],
      "text/plain": [
       "  Country/Region     Cases   Deaths    PCases  PDeaths  Cases (+)  Deaths (+)  \\\n",
       "0             US  92838677  1036990  92720029  1036325     118648         665   \n",
       "1          India  44239372   526996  44223557   526928      15815          68   \n",
       "2         France  34406092   154104  34383344   154030      22748          74   \n",
       "3         Brazil  34148131   681253  34124579   681006      23552         247   \n",
       "4        Germany  31535343   145698  31489484   145561      45859         137   \n",
       "\n",
       "   Fatality Rate      Continent  \n",
       "0            1.1  North America  \n",
       "1            1.2           Asia  \n",
       "2            0.4         Europe  \n",
       "3            2.0  South America  \n",
       "4            0.5         Europe  "
      ]
     },
     "execution_count": 15,
     "metadata": {},
     "output_type": "execute_result"
    }
   ],
   "source": [
    "#hide\n",
    "df_table = (pd.DataFrame(dict(Cases=dfc_cases, Deaths=dfc_deaths, PCases=dfp_cases, PDeaths=dfp_deaths))\n",
    "             .sort_values(by=['Cases', 'Deaths'], ascending=[False, False])\n",
    "             .reset_index())\n",
    "df_table.rename(columns={'index': 'Country/Region'}, inplace=True)\n",
    "for c in 'Cases, Deaths'.split(', '):\n",
    "    df_table[f'{c} (+)'] = (df_table[c] - df_table[f'P{c}']).clip(0)  # DATA BUG\n",
    "df_table['Fatality Rate'] = (100 * df_table['Deaths'] / df_table['Cases']).round(1)\n",
    "df_table['Continent'] = df_table['Country/Region'].map(mapping['map.continent'])\n",
    "df_table.head(5)"
   ]
  },
  {
   "cell_type": "code",
   "execution_count": 16,
   "id": "fewer-occasion",
   "metadata": {
    "execution": {
     "iopub.execute_input": "2022-08-13T12:15:06.481299Z",
     "iopub.status.busy": "2022-08-13T12:15:06.480468Z",
     "iopub.status.idle": "2022-08-13T12:15:06.483655Z",
     "shell.execute_reply": "2022-08-13T12:15:06.482974Z"
    },
    "papermill": {
     "duration": 0.049731,
     "end_time": "2022-08-13T12:15:06.483822",
     "exception": false,
     "start_time": "2022-08-13T12:15:06.434091",
     "status": "completed"
    },
    "tags": []
   },
   "outputs": [],
   "source": [
    "#hide\n",
    "#delete problematic countries from table\n",
    "df_table = df_table[~df_table['Country/Region'].isin(['Cape Verde', 'Cruise Ship', 'Kosovo'])]"
   ]
  },
  {
   "cell_type": "code",
   "execution_count": 17,
   "id": "related-center",
   "metadata": {
    "execution": {
     "iopub.execute_input": "2022-08-13T12:15:06.590078Z",
     "iopub.status.busy": "2022-08-13T12:15:06.588921Z",
     "iopub.status.idle": "2022-08-13T12:15:06.592584Z",
     "shell.execute_reply": "2022-08-13T12:15:06.591763Z"
    },
    "papermill": {
     "duration": 0.067832,
     "end_time": "2022-08-13T12:15:06.592745",
     "exception": false,
     "start_time": "2022-08-13T12:15:06.524913",
     "status": "completed"
    },
    "tags": []
   },
   "outputs": [],
   "source": [
    "#hide\n",
    "metrics = [df_table.columns[index] for index in [1,2,5,6]]\n",
    "# s_china = df_table[df_table['Country/Region'].eq('China')][metrics].sum().add_prefix('China ')\n",
    "s_us = df_table[df_table['Country/Region'].eq('US')][metrics].sum().add_prefix('US ')\n",
    "s_eu = df_table[df_table['Continent'].eq('Europe')][metrics].sum().add_prefix('EU ')\n",
    "s_ind = df_table[df_table['Country/Region'].eq('India')][metrics].sum().add_prefix('India ')\n",
    "summary = {'updated': pd.to_datetime(dt_today), 'since': pd.to_datetime(dt_yday)}\n",
    "summary = {'updated': pd.to_datetime(dt_today), 'since': pd.to_datetime(dt_yday)}\n",
    "summary = {**summary, **df_table[metrics].sum(), **s_ind, **s_us, **s_eu}"
   ]
  },
  {
   "cell_type": "code",
   "execution_count": 18,
   "id": "engaging-syndrome",
   "metadata": {
    "execution": {
     "iopub.execute_input": "2022-08-13T12:15:06.678815Z",
     "iopub.status.busy": "2022-08-13T12:15:06.678004Z",
     "iopub.status.idle": "2022-08-13T12:15:06.699977Z",
     "shell.execute_reply": "2022-08-13T12:15:06.699370Z"
    },
    "papermill": {
     "duration": 0.068085,
     "end_time": "2022-08-13T12:15:06.700134",
     "exception": false,
     "start_time": "2022-08-13T12:15:06.632049",
     "status": "completed"
    },
    "tags": []
   },
   "outputs": [],
   "source": [
    "#hide\n",
    "dft_ct_new_cases = dft_cases.groupby(COL_REGION)[dt_cols].sum().diff(axis=1).fillna(0).astype(int)"
   ]
  },
  {
   "cell_type": "code",
   "execution_count": 19,
   "id": "neutral-assignment",
   "metadata": {
    "execution": {
     "iopub.execute_input": "2022-08-13T12:15:06.792006Z",
     "iopub.status.busy": "2022-08-13T12:15:06.791236Z",
     "iopub.status.idle": "2022-08-13T12:15:06.794013Z",
     "shell.execute_reply": "2022-08-13T12:15:06.794801Z"
    },
    "papermill": {
     "duration": 0.053505,
     "end_time": "2022-08-13T12:15:06.794978",
     "exception": false,
     "start_time": "2022-08-13T12:15:06.741473",
     "status": "completed"
    },
    "tags": []
   },
   "outputs": [],
   "source": [
    "#hide\n",
    "everydaycases = dft_ct_new_cases.cumsum(axis=1)"
   ]
  },
  {
   "cell_type": "code",
   "execution_count": 20,
   "id": "parliamentary-calgary",
   "metadata": {
    "execution": {
     "iopub.execute_input": "2022-08-13T12:15:06.883084Z",
     "iopub.status.busy": "2022-08-13T12:15:06.882208Z",
     "iopub.status.idle": "2022-08-13T12:15:07.622994Z",
     "shell.execute_reply": "2022-08-13T12:15:07.621285Z"
    },
    "papermill": {
     "duration": 0.788218,
     "end_time": "2022-08-13T12:15:07.623198",
     "exception": false,
     "start_time": "2022-08-13T12:15:06.834980",
     "status": "completed"
    },
    "tags": []
   },
   "outputs": [],
   "source": [
    "#hide\n",
    "import pandas as pd\n",
    "import matplotlib.pyplot as plt\n",
    "import matplotlib.ticker as ticker\n",
    "import matplotlib.animation as animation\n",
    "from IPython.display import HTML"
   ]
  },
  {
   "cell_type": "code",
   "execution_count": 21,
   "id": "lasting-extraction",
   "metadata": {
    "execution": {
     "iopub.execute_input": "2022-08-13T12:15:07.712398Z",
     "iopub.status.busy": "2022-08-13T12:15:07.711650Z",
     "iopub.status.idle": "2022-08-13T12:15:07.721269Z",
     "shell.execute_reply": "2022-08-13T12:15:07.721819Z"
    },
    "papermill": {
     "duration": 0.057344,
     "end_time": "2022-08-13T12:15:07.721976",
     "exception": false,
     "start_time": "2022-08-13T12:15:07.664632",
     "status": "completed"
    },
    "tags": []
   },
   "outputs": [],
   "source": [
    "#hide\n",
    "t = everydaycases.stack()"
   ]
  },
  {
   "cell_type": "code",
   "execution_count": 22,
   "id": "premier-sleeve",
   "metadata": {
    "execution": {
     "iopub.execute_input": "2022-08-13T12:15:07.807704Z",
     "iopub.status.busy": "2022-08-13T12:15:07.806992Z",
     "iopub.status.idle": "2022-08-13T12:15:07.821183Z",
     "shell.execute_reply": "2022-08-13T12:15:07.820465Z"
    },
    "papermill": {
     "duration": 0.058495,
     "end_time": "2022-08-13T12:15:07.821340",
     "exception": false,
     "start_time": "2022-08-13T12:15:07.762845",
     "status": "completed"
    },
    "tags": []
   },
   "outputs": [],
   "source": [
    "#hide\n",
    "g = t.reset_index(['Country/Region'])"
   ]
  },
  {
   "cell_type": "code",
   "execution_count": 23,
   "id": "distributed-pittsburgh",
   "metadata": {
    "execution": {
     "iopub.execute_input": "2022-08-13T12:15:07.907709Z",
     "iopub.status.busy": "2022-08-13T12:15:07.906834Z",
     "iopub.status.idle": "2022-08-13T12:15:07.912010Z",
     "shell.execute_reply": "2022-08-13T12:15:07.911415Z"
    },
    "papermill": {
     "duration": 0.050008,
     "end_time": "2022-08-13T12:15:07.912133",
     "exception": false,
     "start_time": "2022-08-13T12:15:07.862125",
     "status": "completed"
    },
    "tags": []
   },
   "outputs": [],
   "source": [
    "#hide\n",
    "g.index.name = 'date'"
   ]
  },
  {
   "cell_type": "code",
   "execution_count": 24,
   "id": "naked-donor",
   "metadata": {
    "execution": {
     "iopub.execute_input": "2022-08-13T12:15:07.996143Z",
     "iopub.status.busy": "2022-08-13T12:15:07.995077Z",
     "iopub.status.idle": "2022-08-13T12:15:08.000929Z",
     "shell.execute_reply": "2022-08-13T12:15:08.000311Z"
    },
    "papermill": {
     "duration": 0.049912,
     "end_time": "2022-08-13T12:15:08.001063",
     "exception": false,
     "start_time": "2022-08-13T12:15:07.951151",
     "status": "completed"
    },
    "tags": []
   },
   "outputs": [],
   "source": [
    "# #hide\n",
    "# g = g.reset_index(['date'])"
   ]
  },
  {
   "cell_type": "code",
   "execution_count": 25,
   "id": "incomplete-mustang",
   "metadata": {
    "execution": {
     "iopub.execute_input": "2022-08-13T12:15:08.085690Z",
     "iopub.status.busy": "2022-08-13T12:15:08.084880Z",
     "iopub.status.idle": "2022-08-13T12:15:08.087711Z",
     "shell.execute_reply": "2022-08-13T12:15:08.088369Z"
    },
    "papermill": {
     "duration": 0.046759,
     "end_time": "2022-08-13T12:15:08.088534",
     "exception": false,
     "start_time": "2022-08-13T12:15:08.041775",
     "status": "completed"
    },
    "tags": []
   },
   "outputs": [],
   "source": [
    "#hide\n",
    "# g.head()"
   ]
  },
  {
   "cell_type": "code",
   "execution_count": 26,
   "id": "specific-kruger",
   "metadata": {
    "execution": {
     "iopub.execute_input": "2022-08-13T12:15:08.172581Z",
     "iopub.status.busy": "2022-08-13T12:15:08.171854Z",
     "iopub.status.idle": "2022-08-13T12:15:08.175949Z",
     "shell.execute_reply": "2022-08-13T12:15:08.176609Z"
    },
    "papermill": {
     "duration": 0.047427,
     "end_time": "2022-08-13T12:15:08.176747",
     "exception": false,
     "start_time": "2022-08-13T12:15:08.129320",
     "status": "completed"
    },
    "tags": []
   },
   "outputs": [],
   "source": [
    "#hide\n",
    "# g.columns = ['date','country','cases']"
   ]
  },
  {
   "cell_type": "code",
   "execution_count": 27,
   "id": "tender-conversion",
   "metadata": {
    "execution": {
     "iopub.execute_input": "2022-08-13T12:15:08.261793Z",
     "iopub.status.busy": "2022-08-13T12:15:08.261054Z",
     "iopub.status.idle": "2022-08-13T12:15:08.264278Z",
     "shell.execute_reply": "2022-08-13T12:15:08.263566Z"
    },
    "papermill": {
     "duration": 0.04791,
     "end_time": "2022-08-13T12:15:08.264442",
     "exception": false,
     "start_time": "2022-08-13T12:15:08.216532",
     "status": "completed"
    },
    "tags": []
   },
   "outputs": [],
   "source": [
    "#hide\n",
    "# g['continent'] = g.country"
   ]
  },
  {
   "cell_type": "code",
   "execution_count": 28,
   "id": "substantial-wilderness",
   "metadata": {
    "execution": {
     "iopub.execute_input": "2022-08-13T12:15:08.348432Z",
     "iopub.status.busy": "2022-08-13T12:15:08.347694Z",
     "iopub.status.idle": "2022-08-13T12:15:08.351589Z",
     "shell.execute_reply": "2022-08-13T12:15:08.350947Z"
    },
    "papermill": {
     "duration": 0.048231,
     "end_time": "2022-08-13T12:15:08.351718",
     "exception": false,
     "start_time": "2022-08-13T12:15:08.303487",
     "status": "completed"
    },
    "tags": []
   },
   "outputs": [],
   "source": [
    "#hide\n",
    "# cols = list(g.columns.values)"
   ]
  },
  {
   "cell_type": "code",
   "execution_count": 29,
   "id": "solved-farming",
   "metadata": {
    "execution": {
     "iopub.execute_input": "2022-08-13T12:15:08.436157Z",
     "iopub.status.busy": "2022-08-13T12:15:08.435344Z",
     "iopub.status.idle": "2022-08-13T12:15:08.438657Z",
     "shell.execute_reply": "2022-08-13T12:15:08.437904Z"
    },
    "papermill": {
     "duration": 0.047962,
     "end_time": "2022-08-13T12:15:08.438807",
     "exception": false,
     "start_time": "2022-08-13T12:15:08.390845",
     "status": "completed"
    },
    "tags": []
   },
   "outputs": [],
   "source": [
    "#hide\n",
    "# cols.insert(0, cols.pop())"
   ]
  },
  {
   "cell_type": "code",
   "execution_count": 30,
   "id": "executed-adoption",
   "metadata": {
    "execution": {
     "iopub.execute_input": "2022-08-13T12:15:08.527075Z",
     "iopub.status.busy": "2022-08-13T12:15:08.526299Z",
     "iopub.status.idle": "2022-08-13T12:15:08.529971Z",
     "shell.execute_reply": "2022-08-13T12:15:08.529320Z"
    },
    "papermill": {
     "duration": 0.051956,
     "end_time": "2022-08-13T12:15:08.530105",
     "exception": false,
     "start_time": "2022-08-13T12:15:08.478149",
     "status": "completed"
    },
    "tags": []
   },
   "outputs": [],
   "source": [
    "#hide\n",
    "# g = g[cols]"
   ]
  },
  {
   "cell_type": "code",
   "execution_count": 31,
   "id": "subject-dublin",
   "metadata": {
    "execution": {
     "iopub.execute_input": "2022-08-13T12:15:08.616208Z",
     "iopub.status.busy": "2022-08-13T12:15:08.615444Z",
     "iopub.status.idle": "2022-08-13T12:15:08.618968Z",
     "shell.execute_reply": "2022-08-13T12:15:08.618132Z"
    },
    "papermill": {
     "duration": 0.048274,
     "end_time": "2022-08-13T12:15:08.619111",
     "exception": false,
     "start_time": "2022-08-13T12:15:08.570837",
     "status": "completed"
    },
    "tags": []
   },
   "outputs": [],
   "source": [
    "#hide\n",
    "# g['continent'] = g['continent'].map(mapping['map.continent'])"
   ]
  },
  {
   "cell_type": "code",
   "execution_count": 32,
   "id": "freelance-scout",
   "metadata": {
    "execution": {
     "iopub.execute_input": "2022-08-13T12:15:08.703092Z",
     "iopub.status.busy": "2022-08-13T12:15:08.701979Z",
     "iopub.status.idle": "2022-08-13T12:15:08.705218Z",
     "shell.execute_reply": "2022-08-13T12:15:08.705802Z"
    },
    "papermill": {
     "duration": 0.046841,
     "end_time": "2022-08-13T12:15:08.705958",
     "exception": false,
     "start_time": "2022-08-13T12:15:08.659117",
     "status": "completed"
    },
    "tags": []
   },
   "outputs": [],
   "source": [
    "#hide\n",
    "# g.head()"
   ]
  },
  {
   "cell_type": "code",
   "execution_count": 33,
   "id": "limited-engine",
   "metadata": {
    "execution": {
     "iopub.execute_input": "2022-08-13T12:15:08.791163Z",
     "iopub.status.busy": "2022-08-13T12:15:08.790106Z",
     "iopub.status.idle": "2022-08-13T12:15:08.792752Z",
     "shell.execute_reply": "2022-08-13T12:15:08.793300Z"
    },
    "papermill": {
     "duration": 0.046613,
     "end_time": "2022-08-13T12:15:08.793444",
     "exception": false,
     "start_time": "2022-08-13T12:15:08.746831",
     "status": "completed"
    },
    "tags": []
   },
   "outputs": [],
   "source": [
    "# hide\n",
    "# g['date'] = g['date'].astype('datetime64[ns]')"
   ]
  },
  {
   "cell_type": "code",
   "execution_count": 34,
   "id": "sophisticated-supervisor",
   "metadata": {
    "execution": {
     "iopub.execute_input": "2022-08-13T12:15:08.882427Z",
     "iopub.status.busy": "2022-08-13T12:15:08.881466Z",
     "iopub.status.idle": "2022-08-13T12:15:08.885255Z",
     "shell.execute_reply": "2022-08-13T12:15:08.884643Z"
    },
    "papermill": {
     "duration": 0.047971,
     "end_time": "2022-08-13T12:15:08.885388",
     "exception": false,
     "start_time": "2022-08-13T12:15:08.837417",
     "status": "completed"
    },
    "tags": []
   },
   "outputs": [],
   "source": [
    "#hide\n",
    "# g['date'] = g.date.dt.dayofyear"
   ]
  },
  {
   "cell_type": "code",
   "execution_count": 35,
   "id": "inside-dubai",
   "metadata": {
    "execution": {
     "iopub.execute_input": "2022-08-13T12:15:08.970705Z",
     "iopub.status.busy": "2022-08-13T12:15:08.969847Z",
     "iopub.status.idle": "2022-08-13T12:15:08.973471Z",
     "shell.execute_reply": "2022-08-13T12:15:08.972805Z"
    },
    "papermill": {
     "duration": 0.048492,
     "end_time": "2022-08-13T12:15:08.973600",
     "exception": false,
     "start_time": "2022-08-13T12:15:08.925108",
     "status": "completed"
    },
    "tags": []
   },
   "outputs": [],
   "source": [
    "#hide\n",
    "# g = g.rename(columns= {'continent':'group','country':'name','cases':'value'})"
   ]
  },
  {
   "cell_type": "code",
   "execution_count": 36,
   "id": "fleet-motorcycle",
   "metadata": {
    "execution": {
     "iopub.execute_input": "2022-08-13T12:15:09.057727Z",
     "iopub.status.busy": "2022-08-13T12:15:09.056756Z",
     "iopub.status.idle": "2022-08-13T12:15:09.066490Z",
     "shell.execute_reply": "2022-08-13T12:15:09.069601Z"
    },
    "papermill": {
     "duration": 0.056958,
     "end_time": "2022-08-13T12:15:09.069798",
     "exception": false,
     "start_time": "2022-08-13T12:15:09.012840",
     "status": "completed"
    },
    "tags": []
   },
   "outputs": [],
   "source": [
    "#hide\n",
    "# cols = ['name','group','day','value']"
   ]
  },
  {
   "cell_type": "code",
   "execution_count": 37,
   "id": "continued-sleeping",
   "metadata": {
    "execution": {
     "iopub.execute_input": "2022-08-13T12:15:09.154563Z",
     "iopub.status.busy": "2022-08-13T12:15:09.153589Z",
     "iopub.status.idle": "2022-08-13T12:15:09.157131Z",
     "shell.execute_reply": "2022-08-13T12:15:09.156358Z"
    },
    "papermill": {
     "duration": 0.047226,
     "end_time": "2022-08-13T12:15:09.157274",
     "exception": false,
     "start_time": "2022-08-13T12:15:09.110048",
     "status": "completed"
    },
    "tags": []
   },
   "outputs": [],
   "source": [
    "#hide\n",
    "# g.rename(columns= {'date':'day'},inplace = True)"
   ]
  },
  {
   "cell_type": "code",
   "execution_count": 38,
   "id": "major-fight",
   "metadata": {
    "execution": {
     "iopub.execute_input": "2022-08-13T12:15:09.242802Z",
     "iopub.status.busy": "2022-08-13T12:15:09.242028Z",
     "iopub.status.idle": "2022-08-13T12:15:09.245796Z",
     "shell.execute_reply": "2022-08-13T12:15:09.246705Z"
    },
    "papermill": {
     "duration": 0.049799,
     "end_time": "2022-08-13T12:15:09.246897",
     "exception": false,
     "start_time": "2022-08-13T12:15:09.197098",
     "status": "completed"
    },
    "tags": []
   },
   "outputs": [],
   "source": [
    "#hide\n",
    "# g = g[cols]"
   ]
  },
  {
   "cell_type": "code",
   "execution_count": 39,
   "id": "structured-mobile",
   "metadata": {
    "execution": {
     "iopub.execute_input": "2022-08-13T12:15:09.331353Z",
     "iopub.status.busy": "2022-08-13T12:15:09.330641Z",
     "iopub.status.idle": "2022-08-13T12:15:09.333836Z",
     "shell.execute_reply": "2022-08-13T12:15:09.333277Z"
    },
    "papermill": {
     "duration": 0.046515,
     "end_time": "2022-08-13T12:15:09.333956",
     "exception": false,
     "start_time": "2022-08-13T12:15:09.287441",
     "status": "completed"
    },
    "tags": []
   },
   "outputs": [],
   "source": [
    "# #hide\n",
    "# g = g[g.group.notna()]"
   ]
  },
  {
   "cell_type": "code",
   "execution_count": 40,
   "id": "determined-closing",
   "metadata": {
    "execution": {
     "iopub.execute_input": "2022-08-13T12:15:09.417994Z",
     "iopub.status.busy": "2022-08-13T12:15:09.417248Z",
     "iopub.status.idle": "2022-08-13T12:15:09.420523Z",
     "shell.execute_reply": "2022-08-13T12:15:09.419902Z"
    },
    "papermill": {
     "duration": 0.044926,
     "end_time": "2022-08-13T12:15:09.420668",
     "exception": false,
     "start_time": "2022-08-13T12:15:09.375742",
     "status": "completed"
    },
    "tags": []
   },
   "outputs": [],
   "source": [
    "# #hide\n",
    "# colors = dict(zip(\n",
    "#     [\"Oceania\", \"Europe\", \"Asia\", \"South America\", \"Middle East\", \"North America\", \"Africa\"],\n",
    "#     [\"#adb0ff\", \"#ffb3ff\", \"#90d595\", \"#e48381\", \"#aafbff\", \"#f7bb5f\", \"#eafb50\"]\n",
    "# ))\n",
    "# group_lk = g.set_index('name')['group'].to_dict()"
   ]
  },
  {
   "cell_type": "code",
   "execution_count": null,
   "id": "gross-drinking",
   "metadata": {
    "papermill": {
     "duration": 0.037361,
     "end_time": "2022-08-13T12:15:09.496419",
     "exception": false,
     "start_time": "2022-08-13T12:15:09.459058",
     "status": "completed"
    },
    "tags": []
   },
   "outputs": [],
   "source": []
  },
  {
   "cell_type": "code",
   "execution_count": 41,
   "id": "subject-macintosh",
   "metadata": {
    "execution": {
     "iopub.execute_input": "2022-08-13T12:15:09.581358Z",
     "iopub.status.busy": "2022-08-13T12:15:09.580580Z",
     "iopub.status.idle": "2022-08-13T12:15:09.583421Z",
     "shell.execute_reply": "2022-08-13T12:15:09.582777Z"
    },
    "papermill": {
     "duration": 0.048996,
     "end_time": "2022-08-13T12:15:09.583562",
     "exception": false,
     "start_time": "2022-08-13T12:15:09.534566",
     "status": "completed"
    },
    "tags": []
   },
   "outputs": [],
   "source": [
    "# #hide\n",
    "# fig, ax = plt.subplots(figsize=(15, 8))\n",
    "\n",
    "# def draw_barchart(current_day):\n",
    "#     dff = g[g['day'].eq(current_day)].sort_values(by='value', ascending=True).tail(10)\n",
    "#     ax.clear()\n",
    "#     ax.barh(dff['name'], dff['value'], color=[colors[group_lk[x]] for x in dff['name']])\n",
    "#     dx = dff['value'].max() / 200\n",
    "    \n",
    "#     for i, (value, name) in enumerate(zip(dff['value'], dff['name'])):\n",
    "#         ax.text(value-dx, i,     name,           size=14, weight=600, ha='right', va='bottom')\n",
    "#         ax.text(value-dx, i-.25, group_lk[name], size=10, color='#444444', ha='right', va='baseline')\n",
    "#         ax.text(value+dx, i,     f'{value:,.0f}',  size=14, ha='left',  va='center')\n",
    "#     ax.text(1, 0.4, current_day, transform=ax.transAxes, color='#777777', size=46, ha='right', weight=800)\n",
    "#     ax.text(0, 1.06, 'Population (thousands)', transform=ax.transAxes, size=12, color='#777777')\n",
    "#     ax.xaxis.set_major_formatter(ticker.StrMethodFormatter('{x:,.0f}'))\n",
    "#     ax.xaxis.set_ticks_position('top')\n",
    "#     ax.tick_params(axis='x', colors='#777777', labelsize=12)\n",
    "#     ax.set_yticks([])\n",
    "#     ax.margins(0, 0.01)\n",
    "#     ax.grid(which='major', axis='x', linestyle='-')\n",
    "#     ax.set_axisbelow(True)\n",
    "    \n",
    "#     ax.text(0, 1.15, 'Coronavirus',\n",
    "#             transform=ax.transAxes, size=24, weight=600, ha='left', va='top')\n",
    "# #     ax.text(1, 0, 'by @pratapvardhan; credit @jburnmurdoch', transform=ax.transAxes, color='#777777', ha='right',\n",
    "# #             bbox=dict(facecolor='white', alpha=0.8, edgecolor='white'))\n",
    "#     plt.box(False)"
   ]
  },
  {
   "cell_type": "code",
   "execution_count": 42,
   "id": "sexual-wages",
   "metadata": {
    "execution": {
     "iopub.execute_input": "2022-08-13T12:15:09.664203Z",
     "iopub.status.busy": "2022-08-13T12:15:09.663488Z",
     "iopub.status.idle": "2022-08-13T12:15:09.667117Z",
     "shell.execute_reply": "2022-08-13T12:15:09.666444Z"
    },
    "papermill": {
     "duration": 0.045378,
     "end_time": "2022-08-13T12:15:09.667291",
     "exception": false,
     "start_time": "2022-08-13T12:15:09.621913",
     "status": "completed"
    },
    "tags": []
   },
   "outputs": [],
   "source": [
    "# #hide_input\n",
    "# fig, ax = plt.subplots(figsize=(15, 8))\n",
    "# animator = animation.FuncAnimation(fig, draw_barchart, frames=range(g.day.values.min(), g.day.values.max()))\n",
    "# HTML(animator.to_jshtml())\n",
    "# # or use animator.to_html5_video() or animator.save() "
   ]
  },
  {
   "cell_type": "code",
   "execution_count": null,
   "id": "australian-container",
   "metadata": {
    "papermill": {
     "duration": 0.040302,
     "end_time": "2022-08-13T12:15:09.745959",
     "exception": false,
     "start_time": "2022-08-13T12:15:09.705657",
     "status": "completed"
    },
    "tags": []
   },
   "outputs": [],
   "source": []
  },
  {
   "cell_type": "code",
   "execution_count": null,
   "id": "mediterranean-pontiac",
   "metadata": {
    "papermill": {
     "duration": 0.039105,
     "end_time": "2022-08-13T12:15:09.824395",
     "exception": false,
     "start_time": "2022-08-13T12:15:09.785290",
     "status": "completed"
    },
    "tags": []
   },
   "outputs": [],
   "source": []
  },
  {
   "cell_type": "code",
   "execution_count": null,
   "id": "aging-legislature",
   "metadata": {
    "papermill": {
     "duration": 0.038333,
     "end_time": "2022-08-13T12:15:09.901809",
     "exception": false,
     "start_time": "2022-08-13T12:15:09.863476",
     "status": "completed"
    },
    "tags": []
   },
   "outputs": [],
   "source": []
  }
 ],
 "metadata": {
  "kernelspec": {
   "display_name": "Python 3",
   "language": "python",
   "name": "python3"
  },
  "language_info": {
   "codemirror_mode": {
    "name": "ipython",
    "version": 3
   },
   "file_extension": ".py",
   "mimetype": "text/x-python",
   "name": "python",
   "nbconvert_exporter": "python",
   "pygments_lexer": "ipython3",
   "version": "3.6.15"
  },
  "papermill": {
   "duration": 7.737193,
   "end_time": "2022-08-13T12:15:10.364143",
   "environment_variables": {},
   "exception": null,
   "input_path": "2020-03-21-covid19exp.ipynb",
   "output_path": "2020-03-21-covid19exp.ipynb",
   "parameters": {},
   "start_time": "2022-08-13T12:15:02.626950",
   "version": "2.0.0"
  }
 },
 "nbformat": 4,
 "nbformat_minor": 5
}