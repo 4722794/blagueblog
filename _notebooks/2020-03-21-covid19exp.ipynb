{
 "cells": [
  {
   "cell_type": "markdown",
   "id": "muslim-click",
   "metadata": {
    "papermill": {
     "duration": 0.047472,
     "end_time": "2022-09-19T00:49:53.903736",
     "exception": false,
     "start_time": "2022-09-19T00:49:53.856264",
     "status": "completed"
    },
    "tags": []
   },
   "source": [
    "# COVID-19 Case Race\n",
    "> A race chart to see rising cases around the world\n",
    "\n",
    "- author: Hargun Oberoi\n",
    "- image: images/covid-overview.png\n",
    "- hide: false\n",
    "- badges: false"
   ]
  },
  {
   "cell_type": "code",
   "execution_count": 1,
   "id": "proof-material",
   "metadata": {
    "execution": {
     "iopub.execute_input": "2022-09-19T00:49:53.988781Z",
     "iopub.status.busy": "2022-09-19T00:49:53.988044Z",
     "iopub.status.idle": "2022-09-19T00:49:54.336278Z",
     "shell.execute_reply": "2022-09-19T00:49:54.335688Z"
    },
    "papermill": {
     "duration": 0.390923,
     "end_time": "2022-09-19T00:49:54.336427",
     "exception": false,
     "start_time": "2022-09-19T00:49:53.945504",
     "status": "completed"
    },
    "tags": []
   },
   "outputs": [],
   "source": [
    "#hide\n",
    "import numpy as np\n",
    "import pandas as pd\n",
    "from jinja2 import Template\n",
    "from IPython.display import HTML"
   ]
  },
  {
   "cell_type": "code",
   "execution_count": 2,
   "id": "developed-terminology",
   "metadata": {
    "execution": {
     "iopub.execute_input": "2022-09-19T00:49:54.408710Z",
     "iopub.status.busy": "2022-09-19T00:49:54.407901Z",
     "iopub.status.idle": "2022-09-19T00:49:54.410760Z",
     "shell.execute_reply": "2022-09-19T00:49:54.411378Z"
    },
    "papermill": {
     "duration": 0.041383,
     "end_time": "2022-09-19T00:49:54.411498",
     "exception": false,
     "start_time": "2022-09-19T00:49:54.370115",
     "status": "completed"
    },
    "tags": []
   },
   "outputs": [],
   "source": [
    "#hide\n",
    "\n",
    "# FETCH\n",
    "base_url = 'https://raw.githubusercontent.com/pratapvardhan/notebooks/master/covid19/'\n",
    "paths = {\n",
    "    'mapping': base_url + 'mapping_countries.csv',\n",
    "    'overview': base_url + 'overview.tpl'\n",
    "}"
   ]
  },
  {
   "cell_type": "code",
   "execution_count": 3,
   "id": "dynamic-saver",
   "metadata": {
    "execution": {
     "iopub.execute_input": "2022-09-19T00:49:54.489288Z",
     "iopub.status.busy": "2022-09-19T00:49:54.488419Z",
     "iopub.status.idle": "2022-09-19T00:49:54.492787Z",
     "shell.execute_reply": "2022-09-19T00:49:54.492133Z"
    },
    "papermill": {
     "duration": 0.047685,
     "end_time": "2022-09-19T00:49:54.492908",
     "exception": false,
     "start_time": "2022-09-19T00:49:54.445223",
     "status": "completed"
    },
    "tags": []
   },
   "outputs": [
    {
     "data": {
      "text/plain": [
       "'https://raw.githubusercontent.com/pratapvardhan/notebooks/master/covid19/mapping_countries.csv'"
      ]
     },
     "execution_count": 3,
     "metadata": {},
     "output_type": "execute_result"
    }
   ],
   "source": [
    "#hide\n",
    "paths['mapping']"
   ]
  },
  {
   "cell_type": "code",
   "execution_count": 4,
   "id": "urban-software",
   "metadata": {
    "execution": {
     "iopub.execute_input": "2022-09-19T00:49:54.566778Z",
     "iopub.status.busy": "2022-09-19T00:49:54.566083Z",
     "iopub.status.idle": "2022-09-19T00:49:54.568551Z",
     "shell.execute_reply": "2022-09-19T00:49:54.569042Z"
    },
    "papermill": {
     "duration": 0.042002,
     "end_time": "2022-09-19T00:49:54.569168",
     "exception": false,
     "start_time": "2022-09-19T00:49:54.527166",
     "status": "completed"
    },
    "tags": []
   },
   "outputs": [],
   "source": [
    "#hide\n",
    "def get_mappings(url):\n",
    "    df = pd.read_csv(url)\n",
    "    return {\n",
    "        'df': df,\n",
    "        'replace.country': dict(df.dropna(subset=['Name']).set_index('Country')['Name']),\n",
    "        'map.continent': dict(df.set_index('Name')['Continent'])\n",
    "    }"
   ]
  },
  {
   "cell_type": "code",
   "execution_count": 5,
   "id": "intimate-machinery",
   "metadata": {
    "execution": {
     "iopub.execute_input": "2022-09-19T00:49:54.640613Z",
     "iopub.status.busy": "2022-09-19T00:49:54.639818Z",
     "iopub.status.idle": "2022-09-19T00:49:54.667046Z",
     "shell.execute_reply": "2022-09-19T00:49:54.665902Z"
    },
    "papermill": {
     "duration": 0.064858,
     "end_time": "2022-09-19T00:49:54.667160",
     "exception": false,
     "start_time": "2022-09-19T00:49:54.602302",
     "status": "completed"
    },
    "tags": []
   },
   "outputs": [],
   "source": [
    "#hide\n",
    "mapping = get_mappings(paths['mapping'])"
   ]
  },
  {
   "cell_type": "code",
   "execution_count": 6,
   "id": "certified-tactics",
   "metadata": {
    "execution": {
     "iopub.execute_input": "2022-09-19T00:49:54.739821Z",
     "iopub.status.busy": "2022-09-19T00:49:54.739153Z",
     "iopub.status.idle": "2022-09-19T00:49:54.742422Z",
     "shell.execute_reply": "2022-09-19T00:49:54.741825Z"
    },
    "papermill": {
     "duration": 0.041291,
     "end_time": "2022-09-19T00:49:54.742535",
     "exception": false,
     "start_time": "2022-09-19T00:49:54.701244",
     "status": "completed"
    },
    "tags": []
   },
   "outputs": [],
   "source": [
    "#hide\n",
    "def get_template(path):\n",
    "    from urllib.parse import urlparse\n",
    "    if bool(urlparse(path).netloc):\n",
    "        from urllib.request import urlopen\n",
    "        return urlopen(path).read().decode('utf8')\n",
    "    return open(path).read()"
   ]
  },
  {
   "cell_type": "code",
   "execution_count": 7,
   "id": "realistic-blast",
   "metadata": {
    "execution": {
     "iopub.execute_input": "2022-09-19T00:49:54.817285Z",
     "iopub.status.busy": "2022-09-19T00:49:54.816628Z",
     "iopub.status.idle": "2022-09-19T00:49:54.818892Z",
     "shell.execute_reply": "2022-09-19T00:49:54.819450Z"
    },
    "papermill": {
     "duration": 0.042527,
     "end_time": "2022-09-19T00:49:54.819576",
     "exception": false,
     "start_time": "2022-09-19T00:49:54.777049",
     "status": "completed"
    },
    "tags": []
   },
   "outputs": [],
   "source": [
    "#hide\n",
    "def get_frame(name):\n",
    "    url = (\n",
    "        'https://raw.githubusercontent.com/CSSEGISandData/COVID-19/master/csse_covid_19_data/'\n",
    "        f'csse_covid_19_time_series/time_series_covid19_{name}_global.csv')\n",
    "    df = pd.read_csv(url)\n",
    "    # rename countries\n",
    "    df['Country/Region'] = df['Country/Region'].replace(mapping['replace.country'])\n",
    "    return df"
   ]
  },
  {
   "cell_type": "code",
   "execution_count": 8,
   "id": "affiliated-characterization",
   "metadata": {
    "execution": {
     "iopub.execute_input": "2022-09-19T00:49:54.895588Z",
     "iopub.status.busy": "2022-09-19T00:49:54.894699Z",
     "iopub.status.idle": "2022-09-19T00:49:54.897844Z",
     "shell.execute_reply": "2022-09-19T00:49:54.897282Z"
    },
    "papermill": {
     "duration": 0.044538,
     "end_time": "2022-09-19T00:49:54.897959",
     "exception": false,
     "start_time": "2022-09-19T00:49:54.853421",
     "status": "completed"
    },
    "tags": []
   },
   "outputs": [],
   "source": [
    "#hide\n",
    "def get_dates(df):\n",
    "    dt_cols = df.columns[~df.columns.isin(['Province/State', 'Country/Region', 'Lat', 'Long'])]\n",
    "    LAST_DATE_I = -1\n",
    "    # sometimes last column may be empty, then go backwards\n",
    "    for i in range(-1, -len(dt_cols), -1):\n",
    "        if not df[dt_cols[i]].fillna(0).eq(0).all():\n",
    "            LAST_DATE_I = i\n",
    "            break\n",
    "    return LAST_DATE_I, dt_cols"
   ]
  },
  {
   "cell_type": "code",
   "execution_count": 9,
   "id": "recent-optimization",
   "metadata": {
    "execution": {
     "iopub.execute_input": "2022-09-19T00:49:54.970646Z",
     "iopub.status.busy": "2022-09-19T00:49:54.969877Z",
     "iopub.status.idle": "2022-09-19T00:49:55.413863Z",
     "shell.execute_reply": "2022-09-19T00:49:55.414516Z"
    },
    "papermill": {
     "duration": 0.482499,
     "end_time": "2022-09-19T00:49:55.414683",
     "exception": false,
     "start_time": "2022-09-19T00:49:54.932184",
     "status": "completed"
    },
    "tags": []
   },
   "outputs": [],
   "source": [
    "#hide\n",
    "COL_REGION = 'Country/Region'\n",
    "# Confirmed, Recovered, Deaths\n",
    "df = get_frame('confirmed')\n",
    "# dft_: timeseries, dfc_: today country agg\n",
    "dft_cases = df\n",
    "dft_deaths = get_frame('deaths')\n",
    "dft_recovered = get_frame('recovered')\n",
    "LAST_DATE_I, dt_cols = get_dates(df)"
   ]
  },
  {
   "cell_type": "code",
   "execution_count": 10,
   "id": "absolute-copper",
   "metadata": {
    "execution": {
     "iopub.execute_input": "2022-09-19T00:49:55.494560Z",
     "iopub.status.busy": "2022-09-19T00:49:55.493810Z",
     "iopub.status.idle": "2022-09-19T00:49:55.497098Z",
     "shell.execute_reply": "2022-09-19T00:49:55.496395Z"
    },
    "papermill": {
     "duration": 0.043999,
     "end_time": "2022-09-19T00:49:55.497226",
     "exception": false,
     "start_time": "2022-09-19T00:49:55.453227",
     "status": "completed"
    },
    "tags": []
   },
   "outputs": [],
   "source": [
    "#hide\n",
    "LAST_DATE_I, dt_cols = get_dates(df)\n",
    "dt_today =dt_cols[LAST_DATE_I]\n",
    "# dt_5day = dt_cols[LAST_DATE_I - 5]\n",
    "dt_yday = dt_cols[LAST_DATE_I - 1]"
   ]
  },
  {
   "cell_type": "code",
   "execution_count": 11,
   "id": "restricted-sheriff",
   "metadata": {
    "execution": {
     "iopub.execute_input": "2022-09-19T00:49:55.576258Z",
     "iopub.status.busy": "2022-09-19T00:49:55.575567Z",
     "iopub.status.idle": "2022-09-19T00:49:55.582325Z",
     "shell.execute_reply": "2022-09-19T00:49:55.582966Z"
    },
    "papermill": {
     "duration": 0.04898,
     "end_time": "2022-09-19T00:49:55.583094",
     "exception": false,
     "start_time": "2022-09-19T00:49:55.534114",
     "status": "completed"
    },
    "tags": []
   },
   "outputs": [],
   "source": [
    "#hide\n",
    "dfc_cases = dft_cases.groupby(COL_REGION)[dt_today].sum()\n",
    "dfc_deaths = dft_deaths.groupby(COL_REGION)[dt_today].sum()\n",
    "# dfp_cases = dft_cases.groupby(COL_REGION)[dt_5day].sum()\n",
    "# dfp_deaths = dft_deaths.groupby(COL_REGION)[dt_5day].sum()\n",
    "dfp_cases = dft_cases.groupby(COL_REGION)[dt_yday].sum()\n",
    "dfp_deaths = dft_deaths.groupby(COL_REGION)[dt_yday].sum()"
   ]
  },
  {
   "cell_type": "code",
   "execution_count": 12,
   "id": "deluxe-hepatitis",
   "metadata": {
    "execution": {
     "iopub.execute_input": "2022-09-19T00:49:55.656096Z",
     "iopub.status.busy": "2022-09-19T00:49:55.655420Z",
     "iopub.status.idle": "2022-09-19T00:49:55.661101Z",
     "shell.execute_reply": "2022-09-19T00:49:55.660565Z"
    },
    "papermill": {
     "duration": 0.045128,
     "end_time": "2022-09-19T00:49:55.661213",
     "exception": false,
     "start_time": "2022-09-19T00:49:55.616085",
     "status": "completed"
    },
    "tags": []
   },
   "outputs": [],
   "source": [
    "#hide\n",
    "df_table = (pd.DataFrame(dict(Cases = dfc_cases, Deaths = dfc_deaths, PCases = dfp_cases, PDeaths = dfp_deaths))\n",
    "            .sort_values(by = ['Cases','Deaths'], ascending = [False, False])\n",
    "            .reset_index())"
   ]
  },
  {
   "cell_type": "code",
   "execution_count": 13,
   "id": "educational-chancellor",
   "metadata": {
    "execution": {
     "iopub.execute_input": "2022-09-19T00:49:55.748513Z",
     "iopub.status.busy": "2022-09-19T00:49:55.747852Z",
     "iopub.status.idle": "2022-09-19T00:49:55.758719Z",
     "shell.execute_reply": "2022-09-19T00:49:55.758127Z"
    },
    "papermill": {
     "duration": 0.064293,
     "end_time": "2022-09-19T00:49:55.758841",
     "exception": false,
     "start_time": "2022-09-19T00:49:55.694548",
     "status": "completed"
    },
    "tags": []
   },
   "outputs": [
    {
     "data": {
      "text/html": [
       "<div>\n",
       "<style scoped>\n",
       "    .dataframe tbody tr th:only-of-type {\n",
       "        vertical-align: middle;\n",
       "    }\n",
       "\n",
       "    .dataframe tbody tr th {\n",
       "        vertical-align: top;\n",
       "    }\n",
       "\n",
       "    .dataframe thead th {\n",
       "        text-align: right;\n",
       "    }\n",
       "</style>\n",
       "<table border=\"1\" class=\"dataframe\">\n",
       "  <thead>\n",
       "    <tr style=\"text-align: right;\">\n",
       "      <th></th>\n",
       "      <th>Country/Region</th>\n",
       "      <th>Cases</th>\n",
       "      <th>Deaths</th>\n",
       "      <th>PCases</th>\n",
       "      <th>PDeaths</th>\n",
       "      <th>Cases (+)</th>\n",
       "      <th>Deaths (+)</th>\n",
       "      <th>Fatality Rate</th>\n",
       "      <th>Continent</th>\n",
       "    </tr>\n",
       "  </thead>\n",
       "  <tbody>\n",
       "    <tr>\n",
       "      <th>0</th>\n",
       "      <td>US</td>\n",
       "      <td>95653526</td>\n",
       "      <td>1053412</td>\n",
       "      <td>95645794</td>\n",
       "      <td>1053389</td>\n",
       "      <td>7732</td>\n",
       "      <td>23</td>\n",
       "      <td>1.10</td>\n",
       "      <td>North America</td>\n",
       "    </tr>\n",
       "    <tr>\n",
       "      <th>1</th>\n",
       "      <td>India</td>\n",
       "      <td>44534188</td>\n",
       "      <td>528337</td>\n",
       "      <td>44528524</td>\n",
       "      <td>528302</td>\n",
       "      <td>5664</td>\n",
       "      <td>35</td>\n",
       "      <td>1.19</td>\n",
       "      <td>Asia</td>\n",
       "    </tr>\n",
       "    <tr>\n",
       "      <th>2</th>\n",
       "      <td>France</td>\n",
       "      <td>35076991</td>\n",
       "      <td>155712</td>\n",
       "      <td>35076991</td>\n",
       "      <td>155712</td>\n",
       "      <td>0</td>\n",
       "      <td>0</td>\n",
       "      <td>0.44</td>\n",
       "      <td>Europe</td>\n",
       "    </tr>\n",
       "    <tr>\n",
       "      <th>3</th>\n",
       "      <td>Brazil</td>\n",
       "      <td>34568833</td>\n",
       "      <td>685203</td>\n",
       "      <td>34568833</td>\n",
       "      <td>685203</td>\n",
       "      <td>0</td>\n",
       "      <td>0</td>\n",
       "      <td>1.98</td>\n",
       "      <td>South America</td>\n",
       "    </tr>\n",
       "    <tr>\n",
       "      <th>4</th>\n",
       "      <td>Germany</td>\n",
       "      <td>32680356</td>\n",
       "      <td>148933</td>\n",
       "      <td>32680355</td>\n",
       "      <td>148933</td>\n",
       "      <td>1</td>\n",
       "      <td>0</td>\n",
       "      <td>0.46</td>\n",
       "      <td>Europe</td>\n",
       "    </tr>\n",
       "  </tbody>\n",
       "</table>\n",
       "</div>"
      ],
      "text/plain": [
       "  Country/Region     Cases   Deaths    PCases  PDeaths  Cases (+)  Deaths (+)  \\\n",
       "0             US  95653526  1053412  95645794  1053389       7732          23   \n",
       "1          India  44534188   528337  44528524   528302       5664          35   \n",
       "2         France  35076991   155712  35076991   155712          0           0   \n",
       "3         Brazil  34568833   685203  34568833   685203          0           0   \n",
       "4        Germany  32680356   148933  32680355   148933          1           0   \n",
       "\n",
       "   Fatality Rate      Continent  \n",
       "0           1.10  North America  \n",
       "1           1.19           Asia  \n",
       "2           0.44         Europe  \n",
       "3           1.98  South America  \n",
       "4           0.46         Europe  "
      ]
     },
     "execution_count": 13,
     "metadata": {},
     "output_type": "execute_result"
    }
   ],
   "source": [
    "#hide\n",
    "for c in 'Cases, Deaths'.split(', '):\n",
    "    df_table[f'{c} (+)'] = (df_table[c] - df_table[f'P{c}']).clip(0)\n",
    "    #Clip ça veut dire, les chiffres negatif sont interdit\n",
    "df_table['Fatality Rate'] = (100* df_table['Deaths']/ df_table['Cases']).round(2)\n",
    "df_table['Continent'] = df_table['Country/Region'].map(mapping['map.continent'])\n",
    "df_table.head(5)"
   ]
  },
  {
   "cell_type": "code",
   "execution_count": 14,
   "id": "aboriginal-bulgaria",
   "metadata": {
    "execution": {
     "iopub.execute_input": "2022-09-19T00:49:55.835745Z",
     "iopub.status.busy": "2022-09-19T00:49:55.834954Z",
     "iopub.status.idle": "2022-09-19T00:49:55.838100Z",
     "shell.execute_reply": "2022-09-19T00:49:55.838722Z"
    },
    "papermill": {
     "duration": 0.043187,
     "end_time": "2022-09-19T00:49:55.838858",
     "exception": false,
     "start_time": "2022-09-19T00:49:55.795671",
     "status": "completed"
    },
    "tags": []
   },
   "outputs": [],
   "source": [
    "#hide\n",
    "#delete problematic countries from table\n",
    "df_table = df_table[~df_table['Country/Region'].isin(['Cape Verde', 'Cruise Ship', 'Kosovo'])]"
   ]
  },
  {
   "cell_type": "code",
   "execution_count": 15,
   "id": "fantastic-effect",
   "metadata": {
    "execution": {
     "iopub.execute_input": "2022-09-19T00:49:55.926982Z",
     "iopub.status.busy": "2022-09-19T00:49:55.926255Z",
     "iopub.status.idle": "2022-09-19T00:49:55.946272Z",
     "shell.execute_reply": "2022-09-19T00:49:55.946910Z"
    },
    "papermill": {
     "duration": 0.070447,
     "end_time": "2022-09-19T00:49:55.947037",
     "exception": false,
     "start_time": "2022-09-19T00:49:55.876590",
     "status": "completed"
    },
    "tags": []
   },
   "outputs": [
    {
     "data": {
      "text/html": [
       "<div>\n",
       "<style scoped>\n",
       "    .dataframe tbody tr th:only-of-type {\n",
       "        vertical-align: middle;\n",
       "    }\n",
       "\n",
       "    .dataframe tbody tr th {\n",
       "        vertical-align: top;\n",
       "    }\n",
       "\n",
       "    .dataframe thead th {\n",
       "        text-align: right;\n",
       "    }\n",
       "</style>\n",
       "<table border=\"1\" class=\"dataframe\">\n",
       "  <thead>\n",
       "    <tr style=\"text-align: right;\">\n",
       "      <th></th>\n",
       "      <th>Country/Region</th>\n",
       "      <th>Cases</th>\n",
       "      <th>Deaths</th>\n",
       "      <th>PCases</th>\n",
       "      <th>PDeaths</th>\n",
       "      <th>Cases (+)</th>\n",
       "      <th>Deaths (+)</th>\n",
       "      <th>Fatality Rate</th>\n",
       "      <th>Continent</th>\n",
       "    </tr>\n",
       "  </thead>\n",
       "  <tbody>\n",
       "    <tr>\n",
       "      <th>0</th>\n",
       "      <td>US</td>\n",
       "      <td>95653526</td>\n",
       "      <td>1053412</td>\n",
       "      <td>95645794</td>\n",
       "      <td>1053389</td>\n",
       "      <td>7732</td>\n",
       "      <td>23</td>\n",
       "      <td>1.1</td>\n",
       "      <td>North America</td>\n",
       "    </tr>\n",
       "    <tr>\n",
       "      <th>1</th>\n",
       "      <td>India</td>\n",
       "      <td>44534188</td>\n",
       "      <td>528337</td>\n",
       "      <td>44528524</td>\n",
       "      <td>528302</td>\n",
       "      <td>5664</td>\n",
       "      <td>35</td>\n",
       "      <td>1.2</td>\n",
       "      <td>Asia</td>\n",
       "    </tr>\n",
       "    <tr>\n",
       "      <th>2</th>\n",
       "      <td>France</td>\n",
       "      <td>35076991</td>\n",
       "      <td>155712</td>\n",
       "      <td>35076991</td>\n",
       "      <td>155712</td>\n",
       "      <td>0</td>\n",
       "      <td>0</td>\n",
       "      <td>0.4</td>\n",
       "      <td>Europe</td>\n",
       "    </tr>\n",
       "    <tr>\n",
       "      <th>3</th>\n",
       "      <td>Brazil</td>\n",
       "      <td>34568833</td>\n",
       "      <td>685203</td>\n",
       "      <td>34568833</td>\n",
       "      <td>685203</td>\n",
       "      <td>0</td>\n",
       "      <td>0</td>\n",
       "      <td>2.0</td>\n",
       "      <td>South America</td>\n",
       "    </tr>\n",
       "    <tr>\n",
       "      <th>4</th>\n",
       "      <td>Germany</td>\n",
       "      <td>32680356</td>\n",
       "      <td>148933</td>\n",
       "      <td>32680355</td>\n",
       "      <td>148933</td>\n",
       "      <td>1</td>\n",
       "      <td>0</td>\n",
       "      <td>0.5</td>\n",
       "      <td>Europe</td>\n",
       "    </tr>\n",
       "  </tbody>\n",
       "</table>\n",
       "</div>"
      ],
      "text/plain": [
       "  Country/Region     Cases   Deaths    PCases  PDeaths  Cases (+)  Deaths (+)  \\\n",
       "0             US  95653526  1053412  95645794  1053389       7732          23   \n",
       "1          India  44534188   528337  44528524   528302       5664          35   \n",
       "2         France  35076991   155712  35076991   155712          0           0   \n",
       "3         Brazil  34568833   685203  34568833   685203          0           0   \n",
       "4        Germany  32680356   148933  32680355   148933          1           0   \n",
       "\n",
       "   Fatality Rate      Continent  \n",
       "0            1.1  North America  \n",
       "1            1.2           Asia  \n",
       "2            0.4         Europe  \n",
       "3            2.0  South America  \n",
       "4            0.5         Europe  "
      ]
     },
     "execution_count": 15,
     "metadata": {},
     "output_type": "execute_result"
    }
   ],
   "source": [
    "#hide\n",
    "df_table = (pd.DataFrame(dict(Cases=dfc_cases, Deaths=dfc_deaths, PCases=dfp_cases, PDeaths=dfp_deaths))\n",
    "             .sort_values(by=['Cases', 'Deaths'], ascending=[False, False])\n",
    "             .reset_index())\n",
    "df_table.rename(columns={'index': 'Country/Region'}, inplace=True)\n",
    "for c in 'Cases, Deaths'.split(', '):\n",
    "    df_table[f'{c} (+)'] = (df_table[c] - df_table[f'P{c}']).clip(0)  # DATA BUG\n",
    "df_table['Fatality Rate'] = (100 * df_table['Deaths'] / df_table['Cases']).round(1)\n",
    "df_table['Continent'] = df_table['Country/Region'].map(mapping['map.continent'])\n",
    "df_table.head(5)"
   ]
  },
  {
   "cell_type": "code",
   "execution_count": 16,
   "id": "fewer-occasion",
   "metadata": {
    "execution": {
     "iopub.execute_input": "2022-09-19T00:49:56.033371Z",
     "iopub.status.busy": "2022-09-19T00:49:56.032538Z",
     "iopub.status.idle": "2022-09-19T00:49:56.036254Z",
     "shell.execute_reply": "2022-09-19T00:49:56.036888Z"
    },
    "papermill": {
     "duration": 0.048319,
     "end_time": "2022-09-19T00:49:56.037039",
     "exception": false,
     "start_time": "2022-09-19T00:49:55.988720",
     "status": "completed"
    },
    "tags": []
   },
   "outputs": [],
   "source": [
    "#hide\n",
    "#delete problematic countries from table\n",
    "df_table = df_table[~df_table['Country/Region'].isin(['Cape Verde', 'Cruise Ship', 'Kosovo'])]"
   ]
  },
  {
   "cell_type": "code",
   "execution_count": 17,
   "id": "related-center",
   "metadata": {
    "execution": {
     "iopub.execute_input": "2022-09-19T00:49:56.120042Z",
     "iopub.status.busy": "2022-09-19T00:49:56.119382Z",
     "iopub.status.idle": "2022-09-19T00:49:56.130845Z",
     "shell.execute_reply": "2022-09-19T00:49:56.130305Z"
    },
    "papermill": {
     "duration": 0.056368,
     "end_time": "2022-09-19T00:49:56.130959",
     "exception": false,
     "start_time": "2022-09-19T00:49:56.074591",
     "status": "completed"
    },
    "tags": []
   },
   "outputs": [],
   "source": [
    "#hide\n",
    "metrics = [df_table.columns[index] for index in [1,2,5,6]]\n",
    "# s_china = df_table[df_table['Country/Region'].eq('China')][metrics].sum().add_prefix('China ')\n",
    "s_us = df_table[df_table['Country/Region'].eq('US')][metrics].sum().add_prefix('US ')\n",
    "s_eu = df_table[df_table['Continent'].eq('Europe')][metrics].sum().add_prefix('EU ')\n",
    "s_ind = df_table[df_table['Country/Region'].eq('India')][metrics].sum().add_prefix('India ')\n",
    "summary = {'updated': pd.to_datetime(dt_today), 'since': pd.to_datetime(dt_yday)}\n",
    "summary = {'updated': pd.to_datetime(dt_today), 'since': pd.to_datetime(dt_yday)}\n",
    "summary = {**summary, **df_table[metrics].sum(), **s_ind, **s_us, **s_eu}"
   ]
  },
  {
   "cell_type": "code",
   "execution_count": 18,
   "id": "engaging-syndrome",
   "metadata": {
    "execution": {
     "iopub.execute_input": "2022-09-19T00:49:56.206720Z",
     "iopub.status.busy": "2022-09-19T00:49:56.206024Z",
     "iopub.status.idle": "2022-09-19T00:49:56.225297Z",
     "shell.execute_reply": "2022-09-19T00:49:56.224598Z"
    },
    "papermill": {
     "duration": 0.059841,
     "end_time": "2022-09-19T00:49:56.225417",
     "exception": false,
     "start_time": "2022-09-19T00:49:56.165576",
     "status": "completed"
    },
    "tags": []
   },
   "outputs": [],
   "source": [
    "#hide\n",
    "dft_ct_new_cases = dft_cases.groupby(COL_REGION)[dt_cols].sum().diff(axis=1).fillna(0).astype(int)"
   ]
  },
  {
   "cell_type": "code",
   "execution_count": 19,
   "id": "neutral-assignment",
   "metadata": {
    "execution": {
     "iopub.execute_input": "2022-09-19T00:49:56.300031Z",
     "iopub.status.busy": "2022-09-19T00:49:56.299378Z",
     "iopub.status.idle": "2022-09-19T00:49:56.301999Z",
     "shell.execute_reply": "2022-09-19T00:49:56.302657Z"
    },
    "papermill": {
     "duration": 0.042503,
     "end_time": "2022-09-19T00:49:56.302780",
     "exception": false,
     "start_time": "2022-09-19T00:49:56.260277",
     "status": "completed"
    },
    "tags": []
   },
   "outputs": [],
   "source": [
    "#hide\n",
    "everydaycases = dft_ct_new_cases.cumsum(axis=1)"
   ]
  },
  {
   "cell_type": "code",
   "execution_count": 20,
   "id": "parliamentary-calgary",
   "metadata": {
    "execution": {
     "iopub.execute_input": "2022-09-19T00:49:56.382556Z",
     "iopub.status.busy": "2022-09-19T00:49:56.381824Z",
     "iopub.status.idle": "2022-09-19T00:49:56.976830Z",
     "shell.execute_reply": "2022-09-19T00:49:56.976230Z"
    },
    "papermill": {
     "duration": 0.639902,
     "end_time": "2022-09-19T00:49:56.976981",
     "exception": false,
     "start_time": "2022-09-19T00:49:56.337079",
     "status": "completed"
    },
    "tags": []
   },
   "outputs": [],
   "source": [
    "#hide\n",
    "import pandas as pd\n",
    "import matplotlib.pyplot as plt\n",
    "import matplotlib.ticker as ticker\n",
    "import matplotlib.animation as animation\n",
    "from IPython.display import HTML"
   ]
  },
  {
   "cell_type": "code",
   "execution_count": 21,
   "id": "lasting-extraction",
   "metadata": {
    "execution": {
     "iopub.execute_input": "2022-09-19T00:49:57.059907Z",
     "iopub.status.busy": "2022-09-19T00:49:57.059206Z",
     "iopub.status.idle": "2022-09-19T00:49:57.067216Z",
     "shell.execute_reply": "2022-09-19T00:49:57.066527Z"
    },
    "papermill": {
     "duration": 0.051151,
     "end_time": "2022-09-19T00:49:57.067347",
     "exception": false,
     "start_time": "2022-09-19T00:49:57.016196",
     "status": "completed"
    },
    "tags": []
   },
   "outputs": [],
   "source": [
    "#hide\n",
    "t = everydaycases.stack()"
   ]
  },
  {
   "cell_type": "code",
   "execution_count": 22,
   "id": "premier-sleeve",
   "metadata": {
    "execution": {
     "iopub.execute_input": "2022-09-19T00:49:57.144727Z",
     "iopub.status.busy": "2022-09-19T00:49:57.143989Z",
     "iopub.status.idle": "2022-09-19T00:49:57.163455Z",
     "shell.execute_reply": "2022-09-19T00:49:57.162833Z"
    },
    "papermill": {
     "duration": 0.058509,
     "end_time": "2022-09-19T00:49:57.163586",
     "exception": false,
     "start_time": "2022-09-19T00:49:57.105077",
     "status": "completed"
    },
    "tags": []
   },
   "outputs": [],
   "source": [
    "#hide\n",
    "g = t.reset_index(['Country/Region'])"
   ]
  },
  {
   "cell_type": "code",
   "execution_count": 23,
   "id": "distributed-pittsburgh",
   "metadata": {
    "execution": {
     "iopub.execute_input": "2022-09-19T00:49:57.241617Z",
     "iopub.status.busy": "2022-09-19T00:49:57.240919Z",
     "iopub.status.idle": "2022-09-19T00:49:57.243829Z",
     "shell.execute_reply": "2022-09-19T00:49:57.244321Z"
    },
    "papermill": {
     "duration": 0.042953,
     "end_time": "2022-09-19T00:49:57.244451",
     "exception": false,
     "start_time": "2022-09-19T00:49:57.201498",
     "status": "completed"
    },
    "tags": []
   },
   "outputs": [],
   "source": [
    "#hide\n",
    "g.index.name = 'date'"
   ]
  },
  {
   "cell_type": "code",
   "execution_count": 24,
   "id": "naked-donor",
   "metadata": {
    "execution": {
     "iopub.execute_input": "2022-09-19T00:49:57.320350Z",
     "iopub.status.busy": "2022-09-19T00:49:57.319660Z",
     "iopub.status.idle": "2022-09-19T00:49:57.322749Z",
     "shell.execute_reply": "2022-09-19T00:49:57.322200Z"
    },
    "papermill": {
     "duration": 0.042752,
     "end_time": "2022-09-19T00:49:57.322876",
     "exception": false,
     "start_time": "2022-09-19T00:49:57.280124",
     "status": "completed"
    },
    "tags": []
   },
   "outputs": [],
   "source": [
    "# #hide\n",
    "# g = g.reset_index(['date'])"
   ]
  },
  {
   "cell_type": "code",
   "execution_count": 25,
   "id": "incomplete-mustang",
   "metadata": {
    "execution": {
     "iopub.execute_input": "2022-09-19T00:49:57.399827Z",
     "iopub.status.busy": "2022-09-19T00:49:57.399136Z",
     "iopub.status.idle": "2022-09-19T00:49:57.402290Z",
     "shell.execute_reply": "2022-09-19T00:49:57.401676Z"
    },
    "papermill": {
     "duration": 0.042558,
     "end_time": "2022-09-19T00:49:57.402410",
     "exception": false,
     "start_time": "2022-09-19T00:49:57.359852",
     "status": "completed"
    },
    "tags": []
   },
   "outputs": [],
   "source": [
    "#hide\n",
    "# g.head()"
   ]
  },
  {
   "cell_type": "code",
   "execution_count": 26,
   "id": "specific-kruger",
   "metadata": {
    "execution": {
     "iopub.execute_input": "2022-09-19T00:49:57.480565Z",
     "iopub.status.busy": "2022-09-19T00:49:57.479424Z",
     "iopub.status.idle": "2022-09-19T00:49:57.482532Z",
     "shell.execute_reply": "2022-09-19T00:49:57.481936Z"
    },
    "papermill": {
     "duration": 0.04387,
     "end_time": "2022-09-19T00:49:57.482652",
     "exception": false,
     "start_time": "2022-09-19T00:49:57.438782",
     "status": "completed"
    },
    "tags": []
   },
   "outputs": [],
   "source": [
    "#hide\n",
    "# g.columns = ['date','country','cases']"
   ]
  },
  {
   "cell_type": "code",
   "execution_count": 27,
   "id": "tender-conversion",
   "metadata": {
    "execution": {
     "iopub.execute_input": "2022-09-19T00:49:57.553358Z",
     "iopub.status.busy": "2022-09-19T00:49:57.552712Z",
     "iopub.status.idle": "2022-09-19T00:49:57.556863Z",
     "shell.execute_reply": "2022-09-19T00:49:57.556233Z"
    },
    "papermill": {
     "duration": 0.040329,
     "end_time": "2022-09-19T00:49:57.556990",
     "exception": false,
     "start_time": "2022-09-19T00:49:57.516661",
     "status": "completed"
    },
    "tags": []
   },
   "outputs": [],
   "source": [
    "#hide\n",
    "# g['continent'] = g.country"
   ]
  },
  {
   "cell_type": "code",
   "execution_count": 28,
   "id": "substantial-wilderness",
   "metadata": {
    "execution": {
     "iopub.execute_input": "2022-09-19T00:49:57.628286Z",
     "iopub.status.busy": "2022-09-19T00:49:57.627602Z",
     "iopub.status.idle": "2022-09-19T00:49:57.630504Z",
     "shell.execute_reply": "2022-09-19T00:49:57.629941Z"
    },
    "papermill": {
     "duration": 0.039674,
     "end_time": "2022-09-19T00:49:57.630618",
     "exception": false,
     "start_time": "2022-09-19T00:49:57.590944",
     "status": "completed"
    },
    "tags": []
   },
   "outputs": [],
   "source": [
    "#hide\n",
    "# cols = list(g.columns.values)"
   ]
  },
  {
   "cell_type": "code",
   "execution_count": 29,
   "id": "solved-farming",
   "metadata": {
    "execution": {
     "iopub.execute_input": "2022-09-19T00:49:57.701871Z",
     "iopub.status.busy": "2022-09-19T00:49:57.701215Z",
     "iopub.status.idle": "2022-09-19T00:49:57.704131Z",
     "shell.execute_reply": "2022-09-19T00:49:57.703594Z"
    },
    "papermill": {
     "duration": 0.039944,
     "end_time": "2022-09-19T00:49:57.704243",
     "exception": false,
     "start_time": "2022-09-19T00:49:57.664299",
     "status": "completed"
    },
    "tags": []
   },
   "outputs": [],
   "source": [
    "#hide\n",
    "# cols.insert(0, cols.pop())"
   ]
  },
  {
   "cell_type": "code",
   "execution_count": 30,
   "id": "executed-adoption",
   "metadata": {
    "execution": {
     "iopub.execute_input": "2022-09-19T00:49:57.776431Z",
     "iopub.status.busy": "2022-09-19T00:49:57.775589Z",
     "iopub.status.idle": "2022-09-19T00:49:57.780412Z",
     "shell.execute_reply": "2022-09-19T00:49:57.779859Z"
    },
    "papermill": {
     "duration": 0.041872,
     "end_time": "2022-09-19T00:49:57.780528",
     "exception": false,
     "start_time": "2022-09-19T00:49:57.738656",
     "status": "completed"
    },
    "tags": []
   },
   "outputs": [],
   "source": [
    "#hide\n",
    "# g = g[cols]"
   ]
  },
  {
   "cell_type": "code",
   "execution_count": 31,
   "id": "subject-dublin",
   "metadata": {
    "execution": {
     "iopub.execute_input": "2022-09-19T00:49:57.853230Z",
     "iopub.status.busy": "2022-09-19T00:49:57.852568Z",
     "iopub.status.idle": "2022-09-19T00:49:57.855679Z",
     "shell.execute_reply": "2022-09-19T00:49:57.855136Z"
    },
    "papermill": {
     "duration": 0.040499,
     "end_time": "2022-09-19T00:49:57.855796",
     "exception": false,
     "start_time": "2022-09-19T00:49:57.815297",
     "status": "completed"
    },
    "tags": []
   },
   "outputs": [],
   "source": [
    "#hide\n",
    "# g['continent'] = g['continent'].map(mapping['map.continent'])"
   ]
  },
  {
   "cell_type": "code",
   "execution_count": 32,
   "id": "freelance-scout",
   "metadata": {
    "execution": {
     "iopub.execute_input": "2022-09-19T00:49:57.937736Z",
     "iopub.status.busy": "2022-09-19T00:49:57.937035Z",
     "iopub.status.idle": "2022-09-19T00:49:57.940400Z",
     "shell.execute_reply": "2022-09-19T00:49:57.939684Z"
    },
    "papermill": {
     "duration": 0.049711,
     "end_time": "2022-09-19T00:49:57.940529",
     "exception": false,
     "start_time": "2022-09-19T00:49:57.890818",
     "status": "completed"
    },
    "tags": []
   },
   "outputs": [],
   "source": [
    "#hide\n",
    "# g.head()"
   ]
  },
  {
   "cell_type": "code",
   "execution_count": 33,
   "id": "limited-engine",
   "metadata": {
    "execution": {
     "iopub.execute_input": "2022-09-19T00:49:58.012229Z",
     "iopub.status.busy": "2022-09-19T00:49:58.011573Z",
     "iopub.status.idle": "2022-09-19T00:49:58.014843Z",
     "shell.execute_reply": "2022-09-19T00:49:58.014303Z"
    },
    "papermill": {
     "duration": 0.040608,
     "end_time": "2022-09-19T00:49:58.014957",
     "exception": false,
     "start_time": "2022-09-19T00:49:57.974349",
     "status": "completed"
    },
    "tags": []
   },
   "outputs": [],
   "source": [
    "# hide\n",
    "# g['date'] = g['date'].astype('datetime64[ns]')"
   ]
  },
  {
   "cell_type": "code",
   "execution_count": 34,
   "id": "sophisticated-supervisor",
   "metadata": {
    "execution": {
     "iopub.execute_input": "2022-09-19T00:49:58.091024Z",
     "iopub.status.busy": "2022-09-19T00:49:58.090325Z",
     "iopub.status.idle": "2022-09-19T00:49:58.093646Z",
     "shell.execute_reply": "2022-09-19T00:49:58.092922Z"
    },
    "papermill": {
     "duration": 0.044738,
     "end_time": "2022-09-19T00:49:58.093769",
     "exception": false,
     "start_time": "2022-09-19T00:49:58.049031",
     "status": "completed"
    },
    "tags": []
   },
   "outputs": [],
   "source": [
    "#hide\n",
    "# g['date'] = g.date.dt.dayofyear"
   ]
  },
  {
   "cell_type": "code",
   "execution_count": 35,
   "id": "inside-dubai",
   "metadata": {
    "execution": {
     "iopub.execute_input": "2022-09-19T00:49:58.165473Z",
     "iopub.status.busy": "2022-09-19T00:49:58.164775Z",
     "iopub.status.idle": "2022-09-19T00:49:58.167312Z",
     "shell.execute_reply": "2022-09-19T00:49:58.167831Z"
    },
    "papermill": {
     "duration": 0.040178,
     "end_time": "2022-09-19T00:49:58.167967",
     "exception": false,
     "start_time": "2022-09-19T00:49:58.127789",
     "status": "completed"
    },
    "tags": []
   },
   "outputs": [],
   "source": [
    "#hide\n",
    "# g = g.rename(columns= {'continent':'group','country':'name','cases':'value'})"
   ]
  },
  {
   "cell_type": "code",
   "execution_count": 36,
   "id": "fleet-motorcycle",
   "metadata": {
    "execution": {
     "iopub.execute_input": "2022-09-19T00:49:58.240903Z",
     "iopub.status.busy": "2022-09-19T00:49:58.240245Z",
     "iopub.status.idle": "2022-09-19T00:49:58.243399Z",
     "shell.execute_reply": "2022-09-19T00:49:58.242811Z"
    },
    "papermill": {
     "duration": 0.041218,
     "end_time": "2022-09-19T00:49:58.243511",
     "exception": false,
     "start_time": "2022-09-19T00:49:58.202293",
     "status": "completed"
    },
    "tags": []
   },
   "outputs": [],
   "source": [
    "#hide\n",
    "# cols = ['name','group','day','value']"
   ]
  },
  {
   "cell_type": "code",
   "execution_count": 37,
   "id": "continued-sleeping",
   "metadata": {
    "execution": {
     "iopub.execute_input": "2022-09-19T00:49:58.319304Z",
     "iopub.status.busy": "2022-09-19T00:49:58.318418Z",
     "iopub.status.idle": "2022-09-19T00:49:58.321986Z",
     "shell.execute_reply": "2022-09-19T00:49:58.321142Z"
    },
    "papermill": {
     "duration": 0.043468,
     "end_time": "2022-09-19T00:49:58.322338",
     "exception": false,
     "start_time": "2022-09-19T00:49:58.278870",
     "status": "completed"
    },
    "tags": []
   },
   "outputs": [],
   "source": [
    "#hide\n",
    "# g.rename(columns= {'date':'day'},inplace = True)"
   ]
  },
  {
   "cell_type": "code",
   "execution_count": 38,
   "id": "major-fight",
   "metadata": {
    "execution": {
     "iopub.execute_input": "2022-09-19T00:49:58.396249Z",
     "iopub.status.busy": "2022-09-19T00:49:58.395472Z",
     "iopub.status.idle": "2022-09-19T00:49:58.398528Z",
     "shell.execute_reply": "2022-09-19T00:49:58.397960Z"
    },
    "papermill": {
     "duration": 0.040543,
     "end_time": "2022-09-19T00:49:58.398642",
     "exception": false,
     "start_time": "2022-09-19T00:49:58.358099",
     "status": "completed"
    },
    "tags": []
   },
   "outputs": [],
   "source": [
    "#hide\n",
    "# g = g[cols]"
   ]
  },
  {
   "cell_type": "code",
   "execution_count": 39,
   "id": "structured-mobile",
   "metadata": {
    "execution": {
     "iopub.execute_input": "2022-09-19T00:49:58.471240Z",
     "iopub.status.busy": "2022-09-19T00:49:58.470580Z",
     "iopub.status.idle": "2022-09-19T00:49:58.473729Z",
     "shell.execute_reply": "2022-09-19T00:49:58.473120Z"
    },
    "papermill": {
     "duration": 0.040213,
     "end_time": "2022-09-19T00:49:58.473846",
     "exception": false,
     "start_time": "2022-09-19T00:49:58.433633",
     "status": "completed"
    },
    "tags": []
   },
   "outputs": [],
   "source": [
    "# #hide\n",
    "# g = g[g.group.notna()]"
   ]
  },
  {
   "cell_type": "code",
   "execution_count": 40,
   "id": "determined-closing",
   "metadata": {
    "execution": {
     "iopub.execute_input": "2022-09-19T00:49:58.549193Z",
     "iopub.status.busy": "2022-09-19T00:49:58.548542Z",
     "iopub.status.idle": "2022-09-19T00:49:58.551505Z",
     "shell.execute_reply": "2022-09-19T00:49:58.550978Z"
    },
    "papermill": {
     "duration": 0.042889,
     "end_time": "2022-09-19T00:49:58.551614",
     "exception": false,
     "start_time": "2022-09-19T00:49:58.508725",
     "status": "completed"
    },
    "tags": []
   },
   "outputs": [],
   "source": [
    "# #hide\n",
    "# colors = dict(zip(\n",
    "#     [\"Oceania\", \"Europe\", \"Asia\", \"South America\", \"Middle East\", \"North America\", \"Africa\"],\n",
    "#     [\"#adb0ff\", \"#ffb3ff\", \"#90d595\", \"#e48381\", \"#aafbff\", \"#f7bb5f\", \"#eafb50\"]\n",
    "# ))\n",
    "# group_lk = g.set_index('name')['group'].to_dict()"
   ]
  },
  {
   "cell_type": "code",
   "execution_count": null,
   "id": "gross-drinking",
   "metadata": {
    "papermill": {
     "duration": 0.03369,
     "end_time": "2022-09-19T00:49:58.619252",
     "exception": false,
     "start_time": "2022-09-19T00:49:58.585562",
     "status": "completed"
    },
    "tags": []
   },
   "outputs": [],
   "source": []
  },
  {
   "cell_type": "code",
   "execution_count": 41,
   "id": "subject-macintosh",
   "metadata": {
    "execution": {
     "iopub.execute_input": "2022-09-19T00:49:58.690374Z",
     "iopub.status.busy": "2022-09-19T00:49:58.689670Z",
     "iopub.status.idle": "2022-09-19T00:49:58.692203Z",
     "shell.execute_reply": "2022-09-19T00:49:58.692691Z"
    },
    "papermill": {
     "duration": 0.039908,
     "end_time": "2022-09-19T00:49:58.692817",
     "exception": false,
     "start_time": "2022-09-19T00:49:58.652909",
     "status": "completed"
    },
    "tags": []
   },
   "outputs": [],
   "source": [
    "# #hide\n",
    "# fig, ax = plt.subplots(figsize=(15, 8))\n",
    "\n",
    "# def draw_barchart(current_day):\n",
    "#     dff = g[g['day'].eq(current_day)].sort_values(by='value', ascending=True).tail(10)\n",
    "#     ax.clear()\n",
    "#     ax.barh(dff['name'], dff['value'], color=[colors[group_lk[x]] for x in dff['name']])\n",
    "#     dx = dff['value'].max() / 200\n",
    "    \n",
    "#     for i, (value, name) in enumerate(zip(dff['value'], dff['name'])):\n",
    "#         ax.text(value-dx, i,     name,           size=14, weight=600, ha='right', va='bottom')\n",
    "#         ax.text(value-dx, i-.25, group_lk[name], size=10, color='#444444', ha='right', va='baseline')\n",
    "#         ax.text(value+dx, i,     f'{value:,.0f}',  size=14, ha='left',  va='center')\n",
    "#     ax.text(1, 0.4, current_day, transform=ax.transAxes, color='#777777', size=46, ha='right', weight=800)\n",
    "#     ax.text(0, 1.06, 'Population (thousands)', transform=ax.transAxes, size=12, color='#777777')\n",
    "#     ax.xaxis.set_major_formatter(ticker.StrMethodFormatter('{x:,.0f}'))\n",
    "#     ax.xaxis.set_ticks_position('top')\n",
    "#     ax.tick_params(axis='x', colors='#777777', labelsize=12)\n",
    "#     ax.set_yticks([])\n",
    "#     ax.margins(0, 0.01)\n",
    "#     ax.grid(which='major', axis='x', linestyle='-')\n",
    "#     ax.set_axisbelow(True)\n",
    "    \n",
    "#     ax.text(0, 1.15, 'Coronavirus',\n",
    "#             transform=ax.transAxes, size=24, weight=600, ha='left', va='top')\n",
    "# #     ax.text(1, 0, 'by @pratapvardhan; credit @jburnmurdoch', transform=ax.transAxes, color='#777777', ha='right',\n",
    "# #             bbox=dict(facecolor='white', alpha=0.8, edgecolor='white'))\n",
    "#     plt.box(False)"
   ]
  },
  {
   "cell_type": "code",
   "execution_count": 42,
   "id": "sexual-wages",
   "metadata": {
    "execution": {
     "iopub.execute_input": "2022-09-19T00:49:58.772626Z",
     "iopub.status.busy": "2022-09-19T00:49:58.771933Z",
     "iopub.status.idle": "2022-09-19T00:49:58.775004Z",
     "shell.execute_reply": "2022-09-19T00:49:58.774357Z"
    },
    "papermill": {
     "duration": 0.041986,
     "end_time": "2022-09-19T00:49:58.775116",
     "exception": false,
     "start_time": "2022-09-19T00:49:58.733130",
     "status": "completed"
    },
    "tags": []
   },
   "outputs": [],
   "source": [
    "# #hide_input\n",
    "# fig, ax = plt.subplots(figsize=(15, 8))\n",
    "# animator = animation.FuncAnimation(fig, draw_barchart, frames=range(g.day.values.min(), g.day.values.max()))\n",
    "# HTML(animator.to_jshtml())\n",
    "# # or use animator.to_html5_video() or animator.save() "
   ]
  },
  {
   "cell_type": "code",
   "execution_count": null,
   "id": "australian-container",
   "metadata": {
    "papermill": {
     "duration": 0.03526,
     "end_time": "2022-09-19T00:49:58.844435",
     "exception": false,
     "start_time": "2022-09-19T00:49:58.809175",
     "status": "completed"
    },
    "tags": []
   },
   "outputs": [],
   "source": []
  },
  {
   "cell_type": "code",
   "execution_count": null,
   "id": "mediterranean-pontiac",
   "metadata": {
    "papermill": {
     "duration": 0.036952,
     "end_time": "2022-09-19T00:49:58.915994",
     "exception": false,
     "start_time": "2022-09-19T00:49:58.879042",
     "status": "completed"
    },
    "tags": []
   },
   "outputs": [],
   "source": []
  },
  {
   "cell_type": "code",
   "execution_count": null,
   "id": "aging-legislature",
   "metadata": {
    "papermill": {
     "duration": 0.034065,
     "end_time": "2022-09-19T00:49:58.986246",
     "exception": false,
     "start_time": "2022-09-19T00:49:58.952181",
     "status": "completed"
    },
    "tags": []
   },
   "outputs": [],
   "source": []
  }
 ],
 "metadata": {
  "kernelspec": {
   "display_name": "Python 3",
   "language": "python",
   "name": "python3"
  },
  "language_info": {
   "codemirror_mode": {
    "name": "ipython",
    "version": 3
   },
   "file_extension": ".py",
   "mimetype": "text/x-python",
   "name": "python",
   "nbconvert_exporter": "python",
   "pygments_lexer": "ipython3",
   "version": "3.6.15"
  },
  "papermill": {
   "duration": 6.765067,
   "end_time": "2022-09-19T00:49:59.339487",
   "environment_variables": {},
   "exception": null,
   "input_path": "2020-03-21-covid19exp.ipynb",
   "output_path": "2020-03-21-covid19exp.ipynb",
   "parameters": {},
   "start_time": "2022-09-19T00:49:52.574420",
   "version": "2.0.0"
  }
 },
 "nbformat": 4,
 "nbformat_minor": 5
}