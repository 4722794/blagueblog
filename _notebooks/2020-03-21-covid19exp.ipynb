{
 "cells": [
  {
   "cell_type": "markdown",
   "id": "muslim-click",
   "metadata": {
    "papermill": {
     "duration": 0.042233,
     "end_time": "2022-02-28T12:15:19.027318",
     "exception": false,
     "start_time": "2022-02-28T12:15:18.985085",
     "status": "completed"
    },
    "tags": []
   },
   "source": [
    "# COVID-19 Case Race\n",
    "> A race chart to see rising cases around the world\n",
    "\n",
    "- author: Hargun Oberoi\n",
    "- image: images/covid-overview.png\n",
    "- hide: false\n",
    "- badges: false"
   ]
  },
  {
   "cell_type": "code",
   "execution_count": 1,
   "id": "proof-material",
   "metadata": {
    "execution": {
     "iopub.execute_input": "2022-02-28T12:15:19.115232Z",
     "iopub.status.busy": "2022-02-28T12:15:19.114599Z",
     "iopub.status.idle": "2022-02-28T12:15:19.485689Z",
     "shell.execute_reply": "2022-02-28T12:15:19.486639Z"
    },
    "papermill": {
     "duration": 0.419281,
     "end_time": "2022-02-28T12:15:19.486884",
     "exception": false,
     "start_time": "2022-02-28T12:15:19.067603",
     "status": "completed"
    },
    "tags": []
   },
   "outputs": [],
   "source": [
    "#hide\n",
    "import numpy as np\n",
    "import pandas as pd\n",
    "from jinja2 import Template\n",
    "from IPython.display import HTML"
   ]
  },
  {
   "cell_type": "code",
   "execution_count": 2,
   "id": "developed-terminology",
   "metadata": {
    "execution": {
     "iopub.execute_input": "2022-02-28T12:15:19.563904Z",
     "iopub.status.busy": "2022-02-28T12:15:19.563179Z",
     "iopub.status.idle": "2022-02-28T12:15:19.568566Z",
     "shell.execute_reply": "2022-02-28T12:15:19.568017Z"
    },
    "papermill": {
     "duration": 0.047406,
     "end_time": "2022-02-28T12:15:19.568691",
     "exception": false,
     "start_time": "2022-02-28T12:15:19.521285",
     "status": "completed"
    },
    "tags": []
   },
   "outputs": [],
   "source": [
    "#hide\n",
    "\n",
    "# FETCH\n",
    "base_url = 'https://raw.githubusercontent.com/pratapvardhan/notebooks/master/covid19/'\n",
    "paths = {\n",
    "    'mapping': base_url + 'mapping_countries.csv',\n",
    "    'overview': base_url + 'overview.tpl'\n",
    "}"
   ]
  },
  {
   "cell_type": "code",
   "execution_count": 3,
   "id": "dynamic-saver",
   "metadata": {
    "execution": {
     "iopub.execute_input": "2022-02-28T12:15:19.643278Z",
     "iopub.status.busy": "2022-02-28T12:15:19.642692Z",
     "iopub.status.idle": "2022-02-28T12:15:19.647887Z",
     "shell.execute_reply": "2022-02-28T12:15:19.648501Z"
    },
    "papermill": {
     "duration": 0.046364,
     "end_time": "2022-02-28T12:15:19.648626",
     "exception": false,
     "start_time": "2022-02-28T12:15:19.602262",
     "status": "completed"
    },
    "tags": []
   },
   "outputs": [
    {
     "data": {
      "text/plain": [
       "'https://raw.githubusercontent.com/pratapvardhan/notebooks/master/covid19/mapping_countries.csv'"
      ]
     },
     "execution_count": 3,
     "metadata": {},
     "output_type": "execute_result"
    }
   ],
   "source": [
    "#hide\n",
    "paths['mapping']"
   ]
  },
  {
   "cell_type": "code",
   "execution_count": 4,
   "id": "urban-software",
   "metadata": {
    "execution": {
     "iopub.execute_input": "2022-02-28T12:15:19.724420Z",
     "iopub.status.busy": "2022-02-28T12:15:19.723750Z",
     "iopub.status.idle": "2022-02-28T12:15:19.725927Z",
     "shell.execute_reply": "2022-02-28T12:15:19.726643Z"
    },
    "papermill": {
     "duration": 0.043916,
     "end_time": "2022-02-28T12:15:19.726786",
     "exception": false,
     "start_time": "2022-02-28T12:15:19.682870",
     "status": "completed"
    },
    "tags": []
   },
   "outputs": [],
   "source": [
    "#hide\n",
    "def get_mappings(url):\n",
    "    df = pd.read_csv(url)\n",
    "    return {\n",
    "        'df': df,\n",
    "        'replace.country': dict(df.dropna(subset=['Name']).set_index('Country')['Name']),\n",
    "        'map.continent': dict(df.set_index('Name')['Continent'])\n",
    "    }"
   ]
  },
  {
   "cell_type": "code",
   "execution_count": 5,
   "id": "intimate-machinery",
   "metadata": {
    "execution": {
     "iopub.execute_input": "2022-02-28T12:15:19.803553Z",
     "iopub.status.busy": "2022-02-28T12:15:19.802840Z",
     "iopub.status.idle": "2022-02-28T12:15:19.846223Z",
     "shell.execute_reply": "2022-02-28T12:15:19.847149Z"
    },
    "papermill": {
     "duration": 0.085591,
     "end_time": "2022-02-28T12:15:19.847307",
     "exception": false,
     "start_time": "2022-02-28T12:15:19.761716",
     "status": "completed"
    },
    "tags": []
   },
   "outputs": [],
   "source": [
    "#hide\n",
    "mapping = get_mappings(paths['mapping'])"
   ]
  },
  {
   "cell_type": "code",
   "execution_count": 6,
   "id": "certified-tactics",
   "metadata": {
    "execution": {
     "iopub.execute_input": "2022-02-28T12:15:19.924957Z",
     "iopub.status.busy": "2022-02-28T12:15:19.924356Z",
     "iopub.status.idle": "2022-02-28T12:15:19.926307Z",
     "shell.execute_reply": "2022-02-28T12:15:19.926759Z"
    },
    "papermill": {
     "duration": 0.040957,
     "end_time": "2022-02-28T12:15:19.926892",
     "exception": false,
     "start_time": "2022-02-28T12:15:19.885935",
     "status": "completed"
    },
    "tags": []
   },
   "outputs": [],
   "source": [
    "#hide\n",
    "def get_template(path):\n",
    "    from urllib.parse import urlparse\n",
    "    if bool(urlparse(path).netloc):\n",
    "        from urllib.request import urlopen\n",
    "        return urlopen(path).read().decode('utf8')\n",
    "    return open(path).read()"
   ]
  },
  {
   "cell_type": "code",
   "execution_count": 7,
   "id": "realistic-blast",
   "metadata": {
    "execution": {
     "iopub.execute_input": "2022-02-28T12:15:20.001327Z",
     "iopub.status.busy": "2022-02-28T12:15:20.000625Z",
     "iopub.status.idle": "2022-02-28T12:15:20.003123Z",
     "shell.execute_reply": "2022-02-28T12:15:20.002597Z"
    },
    "papermill": {
     "duration": 0.041049,
     "end_time": "2022-02-28T12:15:20.003237",
     "exception": false,
     "start_time": "2022-02-28T12:15:19.962188",
     "status": "completed"
    },
    "tags": []
   },
   "outputs": [],
   "source": [
    "#hide\n",
    "def get_frame(name):\n",
    "    url = (\n",
    "        'https://raw.githubusercontent.com/CSSEGISandData/COVID-19/master/csse_covid_19_data/'\n",
    "        f'csse_covid_19_time_series/time_series_covid19_{name}_global.csv')\n",
    "    df = pd.read_csv(url)\n",
    "    # rename countries\n",
    "    df['Country/Region'] = df['Country/Region'].replace(mapping['replace.country'])\n",
    "    return df"
   ]
  },
  {
   "cell_type": "code",
   "execution_count": 8,
   "id": "affiliated-characterization",
   "metadata": {
    "execution": {
     "iopub.execute_input": "2022-02-28T12:15:20.078430Z",
     "iopub.status.busy": "2022-02-28T12:15:20.077842Z",
     "iopub.status.idle": "2022-02-28T12:15:20.080525Z",
     "shell.execute_reply": "2022-02-28T12:15:20.079965Z"
    },
    "papermill": {
     "duration": 0.04405,
     "end_time": "2022-02-28T12:15:20.080660",
     "exception": false,
     "start_time": "2022-02-28T12:15:20.036610",
     "status": "completed"
    },
    "tags": []
   },
   "outputs": [],
   "source": [
    "#hide\n",
    "def get_dates(df):\n",
    "    dt_cols = df.columns[~df.columns.isin(['Province/State', 'Country/Region', 'Lat', 'Long'])]\n",
    "    LAST_DATE_I = -1\n",
    "    # sometimes last column may be empty, then go backwards\n",
    "    for i in range(-1, -len(dt_cols), -1):\n",
    "        if not df[dt_cols[i]].fillna(0).eq(0).all():\n",
    "            LAST_DATE_I = i\n",
    "            break\n",
    "    return LAST_DATE_I, dt_cols"
   ]
  },
  {
   "cell_type": "code",
   "execution_count": 9,
   "id": "recent-optimization",
   "metadata": {
    "execution": {
     "iopub.execute_input": "2022-02-28T12:15:20.161500Z",
     "iopub.status.busy": "2022-02-28T12:15:20.160845Z",
     "iopub.status.idle": "2022-02-28T12:15:20.615426Z",
     "shell.execute_reply": "2022-02-28T12:15:20.614911Z"
    },
    "papermill": {
     "duration": 0.49493,
     "end_time": "2022-02-28T12:15:20.615566",
     "exception": false,
     "start_time": "2022-02-28T12:15:20.120636",
     "status": "completed"
    },
    "tags": []
   },
   "outputs": [],
   "source": [
    "#hide\n",
    "COL_REGION = 'Country/Region'\n",
    "# Confirmed, Recovered, Deaths\n",
    "df = get_frame('confirmed')\n",
    "# dft_: timeseries, dfc_: today country agg\n",
    "dft_cases = df\n",
    "dft_deaths = get_frame('deaths')\n",
    "dft_recovered = get_frame('recovered')\n",
    "LAST_DATE_I, dt_cols = get_dates(df)"
   ]
  },
  {
   "cell_type": "code",
   "execution_count": 10,
   "id": "absolute-copper",
   "metadata": {
    "execution": {
     "iopub.execute_input": "2022-02-28T12:15:20.689493Z",
     "iopub.status.busy": "2022-02-28T12:15:20.688819Z",
     "iopub.status.idle": "2022-02-28T12:15:20.691156Z",
     "shell.execute_reply": "2022-02-28T12:15:20.692015Z"
    },
    "papermill": {
     "duration": 0.041956,
     "end_time": "2022-02-28T12:15:20.692187",
     "exception": false,
     "start_time": "2022-02-28T12:15:20.650231",
     "status": "completed"
    },
    "tags": []
   },
   "outputs": [],
   "source": [
    "#hide\n",
    "LAST_DATE_I, dt_cols = get_dates(df)\n",
    "dt_today =dt_cols[LAST_DATE_I]\n",
    "# dt_5day = dt_cols[LAST_DATE_I - 5]\n",
    "dt_yday = dt_cols[LAST_DATE_I - 1]"
   ]
  },
  {
   "cell_type": "code",
   "execution_count": 11,
   "id": "restricted-sheriff",
   "metadata": {
    "execution": {
     "iopub.execute_input": "2022-02-28T12:15:20.768461Z",
     "iopub.status.busy": "2022-02-28T12:15:20.767767Z",
     "iopub.status.idle": "2022-02-28T12:15:20.776988Z",
     "shell.execute_reply": "2022-02-28T12:15:20.776398Z"
    },
    "papermill": {
     "duration": 0.048555,
     "end_time": "2022-02-28T12:15:20.777112",
     "exception": false,
     "start_time": "2022-02-28T12:15:20.728557",
     "status": "completed"
    },
    "tags": []
   },
   "outputs": [],
   "source": [
    "#hide\n",
    "dfc_cases = dft_cases.groupby(COL_REGION)[dt_today].sum()\n",
    "dfc_deaths = dft_deaths.groupby(COL_REGION)[dt_today].sum()\n",
    "# dfp_cases = dft_cases.groupby(COL_REGION)[dt_5day].sum()\n",
    "# dfp_deaths = dft_deaths.groupby(COL_REGION)[dt_5day].sum()\n",
    "dfp_cases = dft_cases.groupby(COL_REGION)[dt_yday].sum()\n",
    "dfp_deaths = dft_deaths.groupby(COL_REGION)[dt_yday].sum()"
   ]
  },
  {
   "cell_type": "code",
   "execution_count": 12,
   "id": "deluxe-hepatitis",
   "metadata": {
    "execution": {
     "iopub.execute_input": "2022-02-28T12:15:20.851593Z",
     "iopub.status.busy": "2022-02-28T12:15:20.850976Z",
     "iopub.status.idle": "2022-02-28T12:15:20.855682Z",
     "shell.execute_reply": "2022-02-28T12:15:20.856282Z"
    },
    "papermill": {
     "duration": 0.045219,
     "end_time": "2022-02-28T12:15:20.856409",
     "exception": false,
     "start_time": "2022-02-28T12:15:20.811190",
     "status": "completed"
    },
    "tags": []
   },
   "outputs": [],
   "source": [
    "#hide\n",
    "df_table = (pd.DataFrame(dict(Cases = dfc_cases, Deaths = dfc_deaths, PCases = dfp_cases, PDeaths = dfp_deaths))\n",
    "            .sort_values(by = ['Cases','Deaths'], ascending = [False, False])\n",
    "            .reset_index())"
   ]
  },
  {
   "cell_type": "code",
   "execution_count": 13,
   "id": "educational-chancellor",
   "metadata": {
    "execution": {
     "iopub.execute_input": "2022-02-28T12:15:20.943869Z",
     "iopub.status.busy": "2022-02-28T12:15:20.943265Z",
     "iopub.status.idle": "2022-02-28T12:15:20.953532Z",
     "shell.execute_reply": "2022-02-28T12:15:20.952949Z"
    },
    "papermill": {
     "duration": 0.063366,
     "end_time": "2022-02-28T12:15:20.953650",
     "exception": false,
     "start_time": "2022-02-28T12:15:20.890284",
     "status": "completed"
    },
    "tags": []
   },
   "outputs": [
    {
     "data": {
      "text/html": [
       "<div>\n",
       "<style scoped>\n",
       "    .dataframe tbody tr th:only-of-type {\n",
       "        vertical-align: middle;\n",
       "    }\n",
       "\n",
       "    .dataframe tbody tr th {\n",
       "        vertical-align: top;\n",
       "    }\n",
       "\n",
       "    .dataframe thead th {\n",
       "        text-align: right;\n",
       "    }\n",
       "</style>\n",
       "<table border=\"1\" class=\"dataframe\">\n",
       "  <thead>\n",
       "    <tr style=\"text-align: right;\">\n",
       "      <th></th>\n",
       "      <th>Country/Region</th>\n",
       "      <th>Cases</th>\n",
       "      <th>Deaths</th>\n",
       "      <th>PCases</th>\n",
       "      <th>PDeaths</th>\n",
       "      <th>Cases (+)</th>\n",
       "      <th>Deaths (+)</th>\n",
       "      <th>Fatality Rate</th>\n",
       "      <th>Continent</th>\n",
       "    </tr>\n",
       "  </thead>\n",
       "  <tbody>\n",
       "    <tr>\n",
       "      <th>0</th>\n",
       "      <td>US</td>\n",
       "      <td>78939203</td>\n",
       "      <td>948397</td>\n",
       "      <td>78931739</td>\n",
       "      <td>948215</td>\n",
       "      <td>7464</td>\n",
       "      <td>182</td>\n",
       "      <td>1.20</td>\n",
       "      <td>North America</td>\n",
       "    </tr>\n",
       "    <tr>\n",
       "      <th>1</th>\n",
       "      <td>India</td>\n",
       "      <td>42924130</td>\n",
       "      <td>513843</td>\n",
       "      <td>42916117</td>\n",
       "      <td>513724</td>\n",
       "      <td>8013</td>\n",
       "      <td>119</td>\n",
       "      <td>1.20</td>\n",
       "      <td>Asia</td>\n",
       "    </tr>\n",
       "    <tr>\n",
       "      <th>2</th>\n",
       "      <td>Brazil</td>\n",
       "      <td>28776794</td>\n",
       "      <td>649437</td>\n",
       "      <td>28749552</td>\n",
       "      <td>649184</td>\n",
       "      <td>27242</td>\n",
       "      <td>253</td>\n",
       "      <td>2.26</td>\n",
       "      <td>South America</td>\n",
       "    </tr>\n",
       "    <tr>\n",
       "      <th>3</th>\n",
       "      <td>France</td>\n",
       "      <td>22862157</td>\n",
       "      <td>139149</td>\n",
       "      <td>22819557</td>\n",
       "      <td>139073</td>\n",
       "      <td>42600</td>\n",
       "      <td>76</td>\n",
       "      <td>0.61</td>\n",
       "      <td>Europe</td>\n",
       "    </tr>\n",
       "    <tr>\n",
       "      <th>4</th>\n",
       "      <td>United Kingdom</td>\n",
       "      <td>18938546</td>\n",
       "      <td>161797</td>\n",
       "      <td>18938546</td>\n",
       "      <td>161797</td>\n",
       "      <td>0</td>\n",
       "      <td>0</td>\n",
       "      <td>0.85</td>\n",
       "      <td>Europe</td>\n",
       "    </tr>\n",
       "  </tbody>\n",
       "</table>\n",
       "</div>"
      ],
      "text/plain": [
       "   Country/Region     Cases  Deaths    PCases  PDeaths  Cases (+)  Deaths (+)  \\\n",
       "0              US  78939203  948397  78931739   948215       7464         182   \n",
       "1           India  42924130  513843  42916117   513724       8013         119   \n",
       "2          Brazil  28776794  649437  28749552   649184      27242         253   \n",
       "3          France  22862157  139149  22819557   139073      42600          76   \n",
       "4  United Kingdom  18938546  161797  18938546   161797          0           0   \n",
       "\n",
       "   Fatality Rate      Continent  \n",
       "0           1.20  North America  \n",
       "1           1.20           Asia  \n",
       "2           2.26  South America  \n",
       "3           0.61         Europe  \n",
       "4           0.85         Europe  "
      ]
     },
     "execution_count": 13,
     "metadata": {},
     "output_type": "execute_result"
    }
   ],
   "source": [
    "#hide\n",
    "for c in 'Cases, Deaths'.split(', '):\n",
    "    df_table[f'{c} (+)'] = (df_table[c] - df_table[f'P{c}']).clip(0)\n",
    "    #Clip ça veut dire, les chiffres negatif sont interdit\n",
    "df_table['Fatality Rate'] = (100* df_table['Deaths']/ df_table['Cases']).round(2)\n",
    "df_table['Continent'] = df_table['Country/Region'].map(mapping['map.continent'])\n",
    "df_table.head(5)"
   ]
  },
  {
   "cell_type": "code",
   "execution_count": 14,
   "id": "aboriginal-bulgaria",
   "metadata": {
    "execution": {
     "iopub.execute_input": "2022-02-28T12:15:21.027744Z",
     "iopub.status.busy": "2022-02-28T12:15:21.027158Z",
     "iopub.status.idle": "2022-02-28T12:15:21.029272Z",
     "shell.execute_reply": "2022-02-28T12:15:21.029802Z"
    },
    "papermill": {
     "duration": 0.041773,
     "end_time": "2022-02-28T12:15:21.029945",
     "exception": false,
     "start_time": "2022-02-28T12:15:20.988172",
     "status": "completed"
    },
    "tags": []
   },
   "outputs": [],
   "source": [
    "#hide\n",
    "#delete problematic countries from table\n",
    "df_table = df_table[~df_table['Country/Region'].isin(['Cape Verde', 'Cruise Ship', 'Kosovo'])]"
   ]
  },
  {
   "cell_type": "code",
   "execution_count": 15,
   "id": "fantastic-effect",
   "metadata": {
    "execution": {
     "iopub.execute_input": "2022-02-28T12:15:21.113222Z",
     "iopub.status.busy": "2022-02-28T12:15:21.112561Z",
     "iopub.status.idle": "2022-02-28T12:15:21.133350Z",
     "shell.execute_reply": "2022-02-28T12:15:21.132767Z"
    },
    "papermill": {
     "duration": 0.064604,
     "end_time": "2022-02-28T12:15:21.133533",
     "exception": false,
     "start_time": "2022-02-28T12:15:21.068929",
     "status": "completed"
    },
    "tags": []
   },
   "outputs": [
    {
     "data": {
      "text/html": [
       "<div>\n",
       "<style scoped>\n",
       "    .dataframe tbody tr th:only-of-type {\n",
       "        vertical-align: middle;\n",
       "    }\n",
       "\n",
       "    .dataframe tbody tr th {\n",
       "        vertical-align: top;\n",
       "    }\n",
       "\n",
       "    .dataframe thead th {\n",
       "        text-align: right;\n",
       "    }\n",
       "</style>\n",
       "<table border=\"1\" class=\"dataframe\">\n",
       "  <thead>\n",
       "    <tr style=\"text-align: right;\">\n",
       "      <th></th>\n",
       "      <th>Country/Region</th>\n",
       "      <th>Cases</th>\n",
       "      <th>Deaths</th>\n",
       "      <th>PCases</th>\n",
       "      <th>PDeaths</th>\n",
       "      <th>Cases (+)</th>\n",
       "      <th>Deaths (+)</th>\n",
       "      <th>Fatality Rate</th>\n",
       "      <th>Continent</th>\n",
       "    </tr>\n",
       "  </thead>\n",
       "  <tbody>\n",
       "    <tr>\n",
       "      <th>0</th>\n",
       "      <td>US</td>\n",
       "      <td>78939203</td>\n",
       "      <td>948397</td>\n",
       "      <td>78931739</td>\n",
       "      <td>948215</td>\n",
       "      <td>7464</td>\n",
       "      <td>182</td>\n",
       "      <td>1.2</td>\n",
       "      <td>North America</td>\n",
       "    </tr>\n",
       "    <tr>\n",
       "      <th>1</th>\n",
       "      <td>India</td>\n",
       "      <td>42924130</td>\n",
       "      <td>513843</td>\n",
       "      <td>42916117</td>\n",
       "      <td>513724</td>\n",
       "      <td>8013</td>\n",
       "      <td>119</td>\n",
       "      <td>1.2</td>\n",
       "      <td>Asia</td>\n",
       "    </tr>\n",
       "    <tr>\n",
       "      <th>2</th>\n",
       "      <td>Brazil</td>\n",
       "      <td>28776794</td>\n",
       "      <td>649437</td>\n",
       "      <td>28749552</td>\n",
       "      <td>649184</td>\n",
       "      <td>27242</td>\n",
       "      <td>253</td>\n",
       "      <td>2.3</td>\n",
       "      <td>South America</td>\n",
       "    </tr>\n",
       "    <tr>\n",
       "      <th>3</th>\n",
       "      <td>France</td>\n",
       "      <td>22862157</td>\n",
       "      <td>139149</td>\n",
       "      <td>22819557</td>\n",
       "      <td>139073</td>\n",
       "      <td>42600</td>\n",
       "      <td>76</td>\n",
       "      <td>0.6</td>\n",
       "      <td>Europe</td>\n",
       "    </tr>\n",
       "    <tr>\n",
       "      <th>4</th>\n",
       "      <td>United Kingdom</td>\n",
       "      <td>18938546</td>\n",
       "      <td>161797</td>\n",
       "      <td>18938546</td>\n",
       "      <td>161797</td>\n",
       "      <td>0</td>\n",
       "      <td>0</td>\n",
       "      <td>0.9</td>\n",
       "      <td>Europe</td>\n",
       "    </tr>\n",
       "  </tbody>\n",
       "</table>\n",
       "</div>"
      ],
      "text/plain": [
       "   Country/Region     Cases  Deaths    PCases  PDeaths  Cases (+)  Deaths (+)  \\\n",
       "0              US  78939203  948397  78931739   948215       7464         182   \n",
       "1           India  42924130  513843  42916117   513724       8013         119   \n",
       "2          Brazil  28776794  649437  28749552   649184      27242         253   \n",
       "3          France  22862157  139149  22819557   139073      42600          76   \n",
       "4  United Kingdom  18938546  161797  18938546   161797          0           0   \n",
       "\n",
       "   Fatality Rate      Continent  \n",
       "0            1.2  North America  \n",
       "1            1.2           Asia  \n",
       "2            2.3  South America  \n",
       "3            0.6         Europe  \n",
       "4            0.9         Europe  "
      ]
     },
     "execution_count": 15,
     "metadata": {},
     "output_type": "execute_result"
    }
   ],
   "source": [
    "#hide\n",
    "df_table = (pd.DataFrame(dict(Cases=dfc_cases, Deaths=dfc_deaths, PCases=dfp_cases, PDeaths=dfp_deaths))\n",
    "             .sort_values(by=['Cases', 'Deaths'], ascending=[False, False])\n",
    "             .reset_index())\n",
    "df_table.rename(columns={'index': 'Country/Region'}, inplace=True)\n",
    "for c in 'Cases, Deaths'.split(', '):\n",
    "    df_table[f'{c} (+)'] = (df_table[c] - df_table[f'P{c}']).clip(0)  # DATA BUG\n",
    "df_table['Fatality Rate'] = (100 * df_table['Deaths'] / df_table['Cases']).round(1)\n",
    "df_table['Continent'] = df_table['Country/Region'].map(mapping['map.continent'])\n",
    "df_table.head(5)"
   ]
  },
  {
   "cell_type": "code",
   "execution_count": 16,
   "id": "fewer-occasion",
   "metadata": {
    "execution": {
     "iopub.execute_input": "2022-02-28T12:15:21.217821Z",
     "iopub.status.busy": "2022-02-28T12:15:21.217127Z",
     "iopub.status.idle": "2022-02-28T12:15:21.219789Z",
     "shell.execute_reply": "2022-02-28T12:15:21.219223Z"
    },
    "papermill": {
     "duration": 0.046849,
     "end_time": "2022-02-28T12:15:21.219906",
     "exception": false,
     "start_time": "2022-02-28T12:15:21.173057",
     "status": "completed"
    },
    "tags": []
   },
   "outputs": [],
   "source": [
    "#hide\n",
    "#delete problematic countries from table\n",
    "df_table = df_table[~df_table['Country/Region'].isin(['Cape Verde', 'Cruise Ship', 'Kosovo'])]"
   ]
  },
  {
   "cell_type": "code",
   "execution_count": 17,
   "id": "related-center",
   "metadata": {
    "execution": {
     "iopub.execute_input": "2022-02-28T12:15:21.311831Z",
     "iopub.status.busy": "2022-02-28T12:15:21.311231Z",
     "iopub.status.idle": "2022-02-28T12:15:21.313173Z",
     "shell.execute_reply": "2022-02-28T12:15:21.313627Z"
    },
    "papermill": {
     "duration": 0.057195,
     "end_time": "2022-02-28T12:15:21.313761",
     "exception": false,
     "start_time": "2022-02-28T12:15:21.256566",
     "status": "completed"
    },
    "tags": []
   },
   "outputs": [],
   "source": [
    "#hide\n",
    "metrics = [df_table.columns[index] for index in [1,2,5,6]]\n",
    "# s_china = df_table[df_table['Country/Region'].eq('China')][metrics].sum().add_prefix('China ')\n",
    "s_us = df_table[df_table['Country/Region'].eq('US')][metrics].sum().add_prefix('US ')\n",
    "s_eu = df_table[df_table['Continent'].eq('Europe')][metrics].sum().add_prefix('EU ')\n",
    "s_ind = df_table[df_table['Country/Region'].eq('India')][metrics].sum().add_prefix('India ')\n",
    "summary = {'updated': pd.to_datetime(dt_today), 'since': pd.to_datetime(dt_yday)}\n",
    "summary = {'updated': pd.to_datetime(dt_today), 'since': pd.to_datetime(dt_yday)}\n",
    "summary = {**summary, **df_table[metrics].sum(), **s_ind, **s_us, **s_eu}"
   ]
  },
  {
   "cell_type": "code",
   "execution_count": 18,
   "id": "engaging-syndrome",
   "metadata": {
    "execution": {
     "iopub.execute_input": "2022-02-28T12:15:21.389110Z",
     "iopub.status.busy": "2022-02-28T12:15:21.388520Z",
     "iopub.status.idle": "2022-02-28T12:15:21.405761Z",
     "shell.execute_reply": "2022-02-28T12:15:21.405287Z"
    },
    "papermill": {
     "duration": 0.056805,
     "end_time": "2022-02-28T12:15:21.405885",
     "exception": false,
     "start_time": "2022-02-28T12:15:21.349080",
     "status": "completed"
    },
    "tags": []
   },
   "outputs": [],
   "source": [
    "#hide\n",
    "dft_ct_new_cases = dft_cases.groupby(COL_REGION)[dt_cols].sum().diff(axis=1).fillna(0).astype(int)"
   ]
  },
  {
   "cell_type": "code",
   "execution_count": 19,
   "id": "neutral-assignment",
   "metadata": {
    "execution": {
     "iopub.execute_input": "2022-02-28T12:15:21.482781Z",
     "iopub.status.busy": "2022-02-28T12:15:21.481640Z",
     "iopub.status.idle": "2022-02-28T12:15:21.483412Z",
     "shell.execute_reply": "2022-02-28T12:15:21.482282Z"
    },
    "papermill": {
     "duration": 0.043251,
     "end_time": "2022-02-28T12:15:21.483537",
     "exception": false,
     "start_time": "2022-02-28T12:15:21.440286",
     "status": "completed"
    },
    "tags": []
   },
   "outputs": [],
   "source": [
    "#hide\n",
    "everydaycases = dft_ct_new_cases.cumsum(axis=1)"
   ]
  },
  {
   "cell_type": "code",
   "execution_count": 20,
   "id": "parliamentary-calgary",
   "metadata": {
    "execution": {
     "iopub.execute_input": "2022-02-28T12:15:21.562090Z",
     "iopub.status.busy": "2022-02-28T12:15:21.561441Z",
     "iopub.status.idle": "2022-02-28T12:15:22.297189Z",
     "shell.execute_reply": "2022-02-28T12:15:22.297875Z"
    },
    "papermill": {
     "duration": 0.775847,
     "end_time": "2022-02-28T12:15:22.298077",
     "exception": false,
     "start_time": "2022-02-28T12:15:21.522230",
     "status": "completed"
    },
    "tags": []
   },
   "outputs": [],
   "source": [
    "#hide\n",
    "import pandas as pd\n",
    "import matplotlib.pyplot as plt\n",
    "import matplotlib.ticker as ticker\n",
    "import matplotlib.animation as animation\n",
    "from IPython.display import HTML"
   ]
  },
  {
   "cell_type": "code",
   "execution_count": 21,
   "id": "lasting-extraction",
   "metadata": {
    "execution": {
     "iopub.execute_input": "2022-02-28T12:15:22.377810Z",
     "iopub.status.busy": "2022-02-28T12:15:22.377229Z",
     "iopub.status.idle": "2022-02-28T12:15:22.383335Z",
     "shell.execute_reply": "2022-02-28T12:15:22.384007Z"
    },
    "papermill": {
     "duration": 0.047153,
     "end_time": "2022-02-28T12:15:22.384175",
     "exception": false,
     "start_time": "2022-02-28T12:15:22.337022",
     "status": "completed"
    },
    "tags": []
   },
   "outputs": [],
   "source": [
    "#hide\n",
    "t = everydaycases.stack()"
   ]
  },
  {
   "cell_type": "code",
   "execution_count": 22,
   "id": "premier-sleeve",
   "metadata": {
    "execution": {
     "iopub.execute_input": "2022-02-28T12:15:22.462112Z",
     "iopub.status.busy": "2022-02-28T12:15:22.461508Z",
     "iopub.status.idle": "2022-02-28T12:15:22.471820Z",
     "shell.execute_reply": "2022-02-28T12:15:22.472308Z"
    },
    "papermill": {
     "duration": 0.049152,
     "end_time": "2022-02-28T12:15:22.472446",
     "exception": false,
     "start_time": "2022-02-28T12:15:22.423294",
     "status": "completed"
    },
    "tags": []
   },
   "outputs": [],
   "source": [
    "#hide\n",
    "g = t.reset_index(['Country/Region'])"
   ]
  },
  {
   "cell_type": "code",
   "execution_count": 23,
   "id": "distributed-pittsburgh",
   "metadata": {
    "execution": {
     "iopub.execute_input": "2022-02-28T12:15:22.548051Z",
     "iopub.status.busy": "2022-02-28T12:15:22.547441Z",
     "iopub.status.idle": "2022-02-28T12:15:22.550251Z",
     "shell.execute_reply": "2022-02-28T12:15:22.549554Z"
    },
    "papermill": {
     "duration": 0.04121,
     "end_time": "2022-02-28T12:15:22.550377",
     "exception": false,
     "start_time": "2022-02-28T12:15:22.509167",
     "status": "completed"
    },
    "tags": []
   },
   "outputs": [],
   "source": [
    "#hide\n",
    "g.index.name = 'date'"
   ]
  },
  {
   "cell_type": "code",
   "execution_count": 24,
   "id": "naked-donor",
   "metadata": {
    "execution": {
     "iopub.execute_input": "2022-02-28T12:15:22.633622Z",
     "iopub.status.busy": "2022-02-28T12:15:22.632930Z",
     "iopub.status.idle": "2022-02-28T12:15:22.635140Z",
     "shell.execute_reply": "2022-02-28T12:15:22.635620Z"
    },
    "papermill": {
     "duration": 0.049195,
     "end_time": "2022-02-28T12:15:22.635766",
     "exception": false,
     "start_time": "2022-02-28T12:15:22.586571",
     "status": "completed"
    },
    "tags": []
   },
   "outputs": [],
   "source": [
    "# #hide\n",
    "# g = g.reset_index(['date'])"
   ]
  },
  {
   "cell_type": "code",
   "execution_count": 25,
   "id": "incomplete-mustang",
   "metadata": {
    "execution": {
     "iopub.execute_input": "2022-02-28T12:15:22.713617Z",
     "iopub.status.busy": "2022-02-28T12:15:22.713025Z",
     "iopub.status.idle": "2022-02-28T12:15:22.716608Z",
     "shell.execute_reply": "2022-02-28T12:15:22.717074Z"
    },
    "papermill": {
     "duration": 0.044586,
     "end_time": "2022-02-28T12:15:22.717208",
     "exception": false,
     "start_time": "2022-02-28T12:15:22.672622",
     "status": "completed"
    },
    "tags": []
   },
   "outputs": [],
   "source": [
    "#hide\n",
    "# g.head()"
   ]
  },
  {
   "cell_type": "code",
   "execution_count": 26,
   "id": "specific-kruger",
   "metadata": {
    "execution": {
     "iopub.execute_input": "2022-02-28T12:15:22.803460Z",
     "iopub.status.busy": "2022-02-28T12:15:22.802844Z",
     "iopub.status.idle": "2022-02-28T12:15:22.806929Z",
     "shell.execute_reply": "2022-02-28T12:15:22.806403Z"
    },
    "papermill": {
     "duration": 0.054237,
     "end_time": "2022-02-28T12:15:22.807050",
     "exception": false,
     "start_time": "2022-02-28T12:15:22.752813",
     "status": "completed"
    },
    "tags": []
   },
   "outputs": [],
   "source": [
    "#hide\n",
    "# g.columns = ['date','country','cases']"
   ]
  },
  {
   "cell_type": "code",
   "execution_count": 27,
   "id": "tender-conversion",
   "metadata": {
    "execution": {
     "iopub.execute_input": "2022-02-28T12:15:22.885340Z",
     "iopub.status.busy": "2022-02-28T12:15:22.884621Z",
     "iopub.status.idle": "2022-02-28T12:15:22.888381Z",
     "shell.execute_reply": "2022-02-28T12:15:22.888899Z"
    },
    "papermill": {
     "duration": 0.043518,
     "end_time": "2022-02-28T12:15:22.889052",
     "exception": false,
     "start_time": "2022-02-28T12:15:22.845534",
     "status": "completed"
    },
    "tags": []
   },
   "outputs": [],
   "source": [
    "#hide\n",
    "# g['continent'] = g.country"
   ]
  },
  {
   "cell_type": "code",
   "execution_count": 28,
   "id": "substantial-wilderness",
   "metadata": {
    "execution": {
     "iopub.execute_input": "2022-02-28T12:15:22.967317Z",
     "iopub.status.busy": "2022-02-28T12:15:22.966709Z",
     "iopub.status.idle": "2022-02-28T12:15:22.970017Z",
     "shell.execute_reply": "2022-02-28T12:15:22.970472Z"
    },
    "papermill": {
     "duration": 0.045466,
     "end_time": "2022-02-28T12:15:22.970610",
     "exception": false,
     "start_time": "2022-02-28T12:15:22.925144",
     "status": "completed"
    },
    "tags": []
   },
   "outputs": [],
   "source": [
    "#hide\n",
    "# cols = list(g.columns.values)"
   ]
  },
  {
   "cell_type": "code",
   "execution_count": 29,
   "id": "solved-farming",
   "metadata": {
    "execution": {
     "iopub.execute_input": "2022-02-28T12:15:23.045658Z",
     "iopub.status.busy": "2022-02-28T12:15:23.045066Z",
     "iopub.status.idle": "2022-02-28T12:15:23.049307Z",
     "shell.execute_reply": "2022-02-28T12:15:23.048835Z"
    },
    "papermill": {
     "duration": 0.042832,
     "end_time": "2022-02-28T12:15:23.049426",
     "exception": false,
     "start_time": "2022-02-28T12:15:23.006594",
     "status": "completed"
    },
    "tags": []
   },
   "outputs": [],
   "source": [
    "#hide\n",
    "# cols.insert(0, cols.pop())"
   ]
  },
  {
   "cell_type": "code",
   "execution_count": 30,
   "id": "executed-adoption",
   "metadata": {
    "execution": {
     "iopub.execute_input": "2022-02-28T12:15:23.129291Z",
     "iopub.status.busy": "2022-02-28T12:15:23.128647Z",
     "iopub.status.idle": "2022-02-28T12:15:23.132760Z",
     "shell.execute_reply": "2022-02-28T12:15:23.133533Z"
    },
    "papermill": {
     "duration": 0.044395,
     "end_time": "2022-02-28T12:15:23.133728",
     "exception": false,
     "start_time": "2022-02-28T12:15:23.089333",
     "status": "completed"
    },
    "tags": []
   },
   "outputs": [],
   "source": [
    "#hide\n",
    "# g = g[cols]"
   ]
  },
  {
   "cell_type": "code",
   "execution_count": 31,
   "id": "subject-dublin",
   "metadata": {
    "execution": {
     "iopub.execute_input": "2022-02-28T12:15:23.212171Z",
     "iopub.status.busy": "2022-02-28T12:15:23.211579Z",
     "iopub.status.idle": "2022-02-28T12:15:23.215929Z",
     "shell.execute_reply": "2022-02-28T12:15:23.215345Z"
    },
    "papermill": {
     "duration": 0.046992,
     "end_time": "2022-02-28T12:15:23.216063",
     "exception": false,
     "start_time": "2022-02-28T12:15:23.169071",
     "status": "completed"
    },
    "tags": []
   },
   "outputs": [],
   "source": [
    "#hide\n",
    "# g['continent'] = g['continent'].map(mapping['map.continent'])"
   ]
  },
  {
   "cell_type": "code",
   "execution_count": 32,
   "id": "freelance-scout",
   "metadata": {
    "execution": {
     "iopub.execute_input": "2022-02-28T12:15:23.290878Z",
     "iopub.status.busy": "2022-02-28T12:15:23.290282Z",
     "iopub.status.idle": "2022-02-28T12:15:23.294186Z",
     "shell.execute_reply": "2022-02-28T12:15:23.294720Z"
    },
    "papermill": {
     "duration": 0.044008,
     "end_time": "2022-02-28T12:15:23.294877",
     "exception": false,
     "start_time": "2022-02-28T12:15:23.250869",
     "status": "completed"
    },
    "tags": []
   },
   "outputs": [],
   "source": [
    "#hide\n",
    "# g.head()"
   ]
  },
  {
   "cell_type": "code",
   "execution_count": 33,
   "id": "limited-engine",
   "metadata": {
    "execution": {
     "iopub.execute_input": "2022-02-28T12:15:23.379551Z",
     "iopub.status.busy": "2022-02-28T12:15:23.378880Z",
     "iopub.status.idle": "2022-02-28T12:15:23.381368Z",
     "shell.execute_reply": "2022-02-28T12:15:23.380721Z"
    },
    "papermill": {
     "duration": 0.043726,
     "end_time": "2022-02-28T12:15:23.381501",
     "exception": false,
     "start_time": "2022-02-28T12:15:23.337775",
     "status": "completed"
    },
    "tags": []
   },
   "outputs": [],
   "source": [
    "# hide\n",
    "# g['date'] = g['date'].astype('datetime64[ns]')"
   ]
  },
  {
   "cell_type": "code",
   "execution_count": 34,
   "id": "sophisticated-supervisor",
   "metadata": {
    "execution": {
     "iopub.execute_input": "2022-02-28T12:15:23.463744Z",
     "iopub.status.busy": "2022-02-28T12:15:23.463119Z",
     "iopub.status.idle": "2022-02-28T12:15:23.466995Z",
     "shell.execute_reply": "2022-02-28T12:15:23.467475Z"
    },
    "papermill": {
     "duration": 0.045934,
     "end_time": "2022-02-28T12:15:23.467618",
     "exception": false,
     "start_time": "2022-02-28T12:15:23.421684",
     "status": "completed"
    },
    "tags": []
   },
   "outputs": [],
   "source": [
    "#hide\n",
    "# g['date'] = g.date.dt.dayofyear"
   ]
  },
  {
   "cell_type": "code",
   "execution_count": 35,
   "id": "inside-dubai",
   "metadata": {
    "execution": {
     "iopub.execute_input": "2022-02-28T12:15:23.544816Z",
     "iopub.status.busy": "2022-02-28T12:15:23.544073Z",
     "iopub.status.idle": "2022-02-28T12:15:23.548731Z",
     "shell.execute_reply": "2022-02-28T12:15:23.548109Z"
    },
    "papermill": {
     "duration": 0.042946,
     "end_time": "2022-02-28T12:15:23.548858",
     "exception": false,
     "start_time": "2022-02-28T12:15:23.505912",
     "status": "completed"
    },
    "tags": []
   },
   "outputs": [],
   "source": [
    "#hide\n",
    "# g = g.rename(columns= {'continent':'group','country':'name','cases':'value'})"
   ]
  },
  {
   "cell_type": "code",
   "execution_count": 36,
   "id": "fleet-motorcycle",
   "metadata": {
    "execution": {
     "iopub.execute_input": "2022-02-28T12:15:23.633311Z",
     "iopub.status.busy": "2022-02-28T12:15:23.632509Z",
     "iopub.status.idle": "2022-02-28T12:15:23.636432Z",
     "shell.execute_reply": "2022-02-28T12:15:23.635310Z"
    },
    "papermill": {
     "duration": 0.047384,
     "end_time": "2022-02-28T12:15:23.636558",
     "exception": false,
     "start_time": "2022-02-28T12:15:23.589174",
     "status": "completed"
    },
    "tags": []
   },
   "outputs": [],
   "source": [
    "#hide\n",
    "# cols = ['name','group','day','value']"
   ]
  },
  {
   "cell_type": "code",
   "execution_count": 37,
   "id": "continued-sleeping",
   "metadata": {
    "execution": {
     "iopub.execute_input": "2022-02-28T12:15:23.712348Z",
     "iopub.status.busy": "2022-02-28T12:15:23.711707Z",
     "iopub.status.idle": "2022-02-28T12:15:23.715008Z",
     "shell.execute_reply": "2022-02-28T12:15:23.715466Z"
    },
    "papermill": {
     "duration": 0.042043,
     "end_time": "2022-02-28T12:15:23.715598",
     "exception": false,
     "start_time": "2022-02-28T12:15:23.673555",
     "status": "completed"
    },
    "tags": []
   },
   "outputs": [],
   "source": [
    "#hide\n",
    "# g.rename(columns= {'date':'day'},inplace = True)"
   ]
  },
  {
   "cell_type": "code",
   "execution_count": 38,
   "id": "major-fight",
   "metadata": {
    "execution": {
     "iopub.execute_input": "2022-02-28T12:15:23.790868Z",
     "iopub.status.busy": "2022-02-28T12:15:23.790272Z",
     "iopub.status.idle": "2022-02-28T12:15:23.793782Z",
     "shell.execute_reply": "2022-02-28T12:15:23.794241Z"
    },
    "papermill": {
     "duration": 0.042263,
     "end_time": "2022-02-28T12:15:23.794369",
     "exception": false,
     "start_time": "2022-02-28T12:15:23.752106",
     "status": "completed"
    },
    "tags": []
   },
   "outputs": [],
   "source": [
    "#hide\n",
    "# g = g[cols]"
   ]
  },
  {
   "cell_type": "code",
   "execution_count": 39,
   "id": "structured-mobile",
   "metadata": {
    "execution": {
     "iopub.execute_input": "2022-02-28T12:15:23.869269Z",
     "iopub.status.busy": "2022-02-28T12:15:23.868562Z",
     "iopub.status.idle": "2022-02-28T12:15:23.871102Z",
     "shell.execute_reply": "2022-02-28T12:15:23.870580Z"
    },
    "papermill": {
     "duration": 0.041875,
     "end_time": "2022-02-28T12:15:23.871224",
     "exception": false,
     "start_time": "2022-02-28T12:15:23.829349",
     "status": "completed"
    },
    "tags": []
   },
   "outputs": [],
   "source": [
    "# #hide\n",
    "# g = g[g.group.notna()]"
   ]
  },
  {
   "cell_type": "code",
   "execution_count": 40,
   "id": "determined-closing",
   "metadata": {
    "execution": {
     "iopub.execute_input": "2022-02-28T12:15:23.950137Z",
     "iopub.status.busy": "2022-02-28T12:15:23.949530Z",
     "iopub.status.idle": "2022-02-28T12:15:23.953117Z",
     "shell.execute_reply": "2022-02-28T12:15:23.953563Z"
    },
    "papermill": {
     "duration": 0.044231,
     "end_time": "2022-02-28T12:15:23.953698",
     "exception": false,
     "start_time": "2022-02-28T12:15:23.909467",
     "status": "completed"
    },
    "tags": []
   },
   "outputs": [],
   "source": [
    "# #hide\n",
    "# colors = dict(zip(\n",
    "#     [\"Oceania\", \"Europe\", \"Asia\", \"South America\", \"Middle East\", \"North America\", \"Africa\"],\n",
    "#     [\"#adb0ff\", \"#ffb3ff\", \"#90d595\", \"#e48381\", \"#aafbff\", \"#f7bb5f\", \"#eafb50\"]\n",
    "# ))\n",
    "# group_lk = g.set_index('name')['group'].to_dict()"
   ]
  },
  {
   "cell_type": "code",
   "execution_count": null,
   "id": "gross-drinking",
   "metadata": {
    "papermill": {
     "duration": 0.035235,
     "end_time": "2022-02-28T12:15:24.024700",
     "exception": false,
     "start_time": "2022-02-28T12:15:23.989465",
     "status": "completed"
    },
    "tags": []
   },
   "outputs": [],
   "source": []
  },
  {
   "cell_type": "code",
   "execution_count": 41,
   "id": "subject-macintosh",
   "metadata": {
    "execution": {
     "iopub.execute_input": "2022-02-28T12:15:24.106096Z",
     "iopub.status.busy": "2022-02-28T12:15:24.105417Z",
     "iopub.status.idle": "2022-02-28T12:15:24.108263Z",
     "shell.execute_reply": "2022-02-28T12:15:24.107632Z"
    },
    "papermill": {
     "duration": 0.049572,
     "end_time": "2022-02-28T12:15:24.108385",
     "exception": false,
     "start_time": "2022-02-28T12:15:24.058813",
     "status": "completed"
    },
    "tags": []
   },
   "outputs": [],
   "source": [
    "# #hide\n",
    "# fig, ax = plt.subplots(figsize=(15, 8))\n",
    "\n",
    "# def draw_barchart(current_day):\n",
    "#     dff = g[g['day'].eq(current_day)].sort_values(by='value', ascending=True).tail(10)\n",
    "#     ax.clear()\n",
    "#     ax.barh(dff['name'], dff['value'], color=[colors[group_lk[x]] for x in dff['name']])\n",
    "#     dx = dff['value'].max() / 200\n",
    "    \n",
    "#     for i, (value, name) in enumerate(zip(dff['value'], dff['name'])):\n",
    "#         ax.text(value-dx, i,     name,           size=14, weight=600, ha='right', va='bottom')\n",
    "#         ax.text(value-dx, i-.25, group_lk[name], size=10, color='#444444', ha='right', va='baseline')\n",
    "#         ax.text(value+dx, i,     f'{value:,.0f}',  size=14, ha='left',  va='center')\n",
    "#     ax.text(1, 0.4, current_day, transform=ax.transAxes, color='#777777', size=46, ha='right', weight=800)\n",
    "#     ax.text(0, 1.06, 'Population (thousands)', transform=ax.transAxes, size=12, color='#777777')\n",
    "#     ax.xaxis.set_major_formatter(ticker.StrMethodFormatter('{x:,.0f}'))\n",
    "#     ax.xaxis.set_ticks_position('top')\n",
    "#     ax.tick_params(axis='x', colors='#777777', labelsize=12)\n",
    "#     ax.set_yticks([])\n",
    "#     ax.margins(0, 0.01)\n",
    "#     ax.grid(which='major', axis='x', linestyle='-')\n",
    "#     ax.set_axisbelow(True)\n",
    "    \n",
    "#     ax.text(0, 1.15, 'Coronavirus',\n",
    "#             transform=ax.transAxes, size=24, weight=600, ha='left', va='top')\n",
    "# #     ax.text(1, 0, 'by @pratapvardhan; credit @jburnmurdoch', transform=ax.transAxes, color='#777777', ha='right',\n",
    "# #             bbox=dict(facecolor='white', alpha=0.8, edgecolor='white'))\n",
    "#     plt.box(False)"
   ]
  },
  {
   "cell_type": "code",
   "execution_count": 42,
   "id": "sexual-wages",
   "metadata": {
    "execution": {
     "iopub.execute_input": "2022-02-28T12:15:24.187083Z",
     "iopub.status.busy": "2022-02-28T12:15:24.186289Z",
     "iopub.status.idle": "2022-02-28T12:15:24.190788Z",
     "shell.execute_reply": "2022-02-28T12:15:24.189909Z"
    },
    "papermill": {
     "duration": 0.045553,
     "end_time": "2022-02-28T12:15:24.190986",
     "exception": false,
     "start_time": "2022-02-28T12:15:24.145433",
     "status": "completed"
    },
    "tags": []
   },
   "outputs": [],
   "source": [
    "# #hide_input\n",
    "# fig, ax = plt.subplots(figsize=(15, 8))\n",
    "# animator = animation.FuncAnimation(fig, draw_barchart, frames=range(g.day.values.min(), g.day.values.max()))\n",
    "# HTML(animator.to_jshtml())\n",
    "# # or use animator.to_html5_video() or animator.save() "
   ]
  },
  {
   "cell_type": "code",
   "execution_count": null,
   "id": "australian-container",
   "metadata": {
    "papermill": {
     "duration": 0.035098,
     "end_time": "2022-02-28T12:15:24.260842",
     "exception": false,
     "start_time": "2022-02-28T12:15:24.225744",
     "status": "completed"
    },
    "tags": []
   },
   "outputs": [],
   "source": []
  },
  {
   "cell_type": "code",
   "execution_count": null,
   "id": "mediterranean-pontiac",
   "metadata": {
    "papermill": {
     "duration": 0.038683,
     "end_time": "2022-02-28T12:15:24.334339",
     "exception": false,
     "start_time": "2022-02-28T12:15:24.295656",
     "status": "completed"
    },
    "tags": []
   },
   "outputs": [],
   "source": []
  },
  {
   "cell_type": "code",
   "execution_count": null,
   "id": "aging-legislature",
   "metadata": {
    "papermill": {
     "duration": 0.036678,
     "end_time": "2022-02-28T12:15:24.405784",
     "exception": false,
     "start_time": "2022-02-28T12:15:24.369106",
     "status": "completed"
    },
    "tags": []
   },
   "outputs": [],
   "source": []
  }
 ],
 "metadata": {
  "kernelspec": {
   "display_name": "Python 3",
   "language": "python",
   "name": "python3"
  },
  "language_info": {
   "codemirror_mode": {
    "name": "ipython",
    "version": 3
   },
   "file_extension": ".py",
   "mimetype": "text/x-python",
   "name": "python",
   "nbconvert_exporter": "python",
   "pygments_lexer": "ipython3",
   "version": "3.6.15"
  },
  "papermill": {
   "duration": 7.068805,
   "end_time": "2022-02-28T12:15:24.759196",
   "environment_variables": {},
   "exception": null,
   "input_path": "2020-03-21-covid19exp.ipynb",
   "output_path": "2020-03-21-covid19exp.ipynb",
   "parameters": {},
   "start_time": "2022-02-28T12:15:17.690391",
   "version": "2.0.0"
  }
 },
 "nbformat": 4,
 "nbformat_minor": 5
}