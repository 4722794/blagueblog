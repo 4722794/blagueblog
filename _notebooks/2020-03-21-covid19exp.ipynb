{
 "cells": [
  {
   "cell_type": "markdown",
   "id": "muslim-click",
   "metadata": {
    "papermill": {
     "duration": 0.055786,
     "end_time": "2022-11-24T00:45:36.010235",
     "exception": false,
     "start_time": "2022-11-24T00:45:35.954449",
     "status": "completed"
    },
    "tags": []
   },
   "source": [
    "# COVID-19 Case Race\n",
    "> A race chart to see rising cases around the world\n",
    "\n",
    "- author: Hargun Oberoi\n",
    "- image: images/covid-overview.png\n",
    "- hide: false\n",
    "- badges: false"
   ]
  },
  {
   "cell_type": "code",
   "execution_count": 1,
   "id": "proof-material",
   "metadata": {
    "execution": {
     "iopub.execute_input": "2022-11-24T00:45:36.104789Z",
     "iopub.status.busy": "2022-11-24T00:45:36.104014Z",
     "iopub.status.idle": "2022-11-24T00:45:36.508380Z",
     "shell.execute_reply": "2022-11-24T00:45:36.507741Z"
    },
    "papermill": {
     "duration": 0.455426,
     "end_time": "2022-11-24T00:45:36.508545",
     "exception": false,
     "start_time": "2022-11-24T00:45:36.053119",
     "status": "completed"
    },
    "tags": []
   },
   "outputs": [],
   "source": [
    "#hide\n",
    "import numpy as np\n",
    "import pandas as pd\n",
    "from jinja2 import Template\n",
    "from IPython.display import HTML"
   ]
  },
  {
   "cell_type": "code",
   "execution_count": 2,
   "id": "developed-terminology",
   "metadata": {
    "execution": {
     "iopub.execute_input": "2022-11-24T00:45:36.595729Z",
     "iopub.status.busy": "2022-11-24T00:45:36.594837Z",
     "iopub.status.idle": "2022-11-24T00:45:36.597194Z",
     "shell.execute_reply": "2022-11-24T00:45:36.597843Z"
    },
    "papermill": {
     "duration": 0.047044,
     "end_time": "2022-11-24T00:45:36.597996",
     "exception": false,
     "start_time": "2022-11-24T00:45:36.550952",
     "status": "completed"
    },
    "tags": []
   },
   "outputs": [],
   "source": [
    "#hide\n",
    "\n",
    "# FETCH\n",
    "base_url = 'https://raw.githubusercontent.com/pratapvardhan/notebooks/master/covid19/'\n",
    "paths = {\n",
    "    'mapping': base_url + 'mapping_countries.csv',\n",
    "    'overview': base_url + 'overview.tpl'\n",
    "}"
   ]
  },
  {
   "cell_type": "code",
   "execution_count": 3,
   "id": "dynamic-saver",
   "metadata": {
    "execution": {
     "iopub.execute_input": "2022-11-24T00:45:36.687876Z",
     "iopub.status.busy": "2022-11-24T00:45:36.687099Z",
     "iopub.status.idle": "2022-11-24T00:45:36.691069Z",
     "shell.execute_reply": "2022-11-24T00:45:36.691795Z"
    },
    "papermill": {
     "duration": 0.055023,
     "end_time": "2022-11-24T00:45:36.691954",
     "exception": false,
     "start_time": "2022-11-24T00:45:36.636931",
     "status": "completed"
    },
    "tags": []
   },
   "outputs": [
    {
     "data": {
      "text/plain": [
       "'https://raw.githubusercontent.com/pratapvardhan/notebooks/master/covid19/mapping_countries.csv'"
      ]
     },
     "execution_count": 3,
     "metadata": {},
     "output_type": "execute_result"
    }
   ],
   "source": [
    "#hide\n",
    "paths['mapping']"
   ]
  },
  {
   "cell_type": "code",
   "execution_count": 4,
   "id": "urban-software",
   "metadata": {
    "execution": {
     "iopub.execute_input": "2022-11-24T00:45:36.774896Z",
     "iopub.status.busy": "2022-11-24T00:45:36.774041Z",
     "iopub.status.idle": "2022-11-24T00:45:36.779402Z",
     "shell.execute_reply": "2022-11-24T00:45:36.780114Z"
    },
    "papermill": {
     "duration": 0.049704,
     "end_time": "2022-11-24T00:45:36.780265",
     "exception": false,
     "start_time": "2022-11-24T00:45:36.730561",
     "status": "completed"
    },
    "tags": []
   },
   "outputs": [],
   "source": [
    "#hide\n",
    "def get_mappings(url):\n",
    "    df = pd.read_csv(url)\n",
    "    return {\n",
    "        'df': df,\n",
    "        'replace.country': dict(df.dropna(subset=['Name']).set_index('Country')['Name']),\n",
    "        'map.continent': dict(df.set_index('Name')['Continent'])\n",
    "    }"
   ]
  },
  {
   "cell_type": "code",
   "execution_count": 5,
   "id": "intimate-machinery",
   "metadata": {
    "execution": {
     "iopub.execute_input": "2022-11-24T00:45:36.862539Z",
     "iopub.status.busy": "2022-11-24T00:45:36.861788Z",
     "iopub.status.idle": "2022-11-24T00:45:36.891597Z",
     "shell.execute_reply": "2022-11-24T00:45:36.890931Z"
    },
    "papermill": {
     "duration": 0.073148,
     "end_time": "2022-11-24T00:45:36.891742",
     "exception": false,
     "start_time": "2022-11-24T00:45:36.818594",
     "status": "completed"
    },
    "tags": []
   },
   "outputs": [],
   "source": [
    "#hide\n",
    "mapping = get_mappings(paths['mapping'])"
   ]
  },
  {
   "cell_type": "code",
   "execution_count": 6,
   "id": "certified-tactics",
   "metadata": {
    "execution": {
     "iopub.execute_input": "2022-11-24T00:45:36.973740Z",
     "iopub.status.busy": "2022-11-24T00:45:36.972979Z",
     "iopub.status.idle": "2022-11-24T00:45:36.976054Z",
     "shell.execute_reply": "2022-11-24T00:45:36.975328Z"
    },
    "papermill": {
     "duration": 0.047046,
     "end_time": "2022-11-24T00:45:36.976193",
     "exception": false,
     "start_time": "2022-11-24T00:45:36.929147",
     "status": "completed"
    },
    "tags": []
   },
   "outputs": [],
   "source": [
    "#hide\n",
    "def get_template(path):\n",
    "    from urllib.parse import urlparse\n",
    "    if bool(urlparse(path).netloc):\n",
    "        from urllib.request import urlopen\n",
    "        return urlopen(path).read().decode('utf8')\n",
    "    return open(path).read()"
   ]
  },
  {
   "cell_type": "code",
   "execution_count": 7,
   "id": "realistic-blast",
   "metadata": {
    "execution": {
     "iopub.execute_input": "2022-11-24T00:45:37.060532Z",
     "iopub.status.busy": "2022-11-24T00:45:37.059795Z",
     "iopub.status.idle": "2022-11-24T00:45:37.062761Z",
     "shell.execute_reply": "2022-11-24T00:45:37.063467Z"
    },
    "papermill": {
     "duration": 0.046855,
     "end_time": "2022-11-24T00:45:37.063613",
     "exception": false,
     "start_time": "2022-11-24T00:45:37.016758",
     "status": "completed"
    },
    "tags": []
   },
   "outputs": [],
   "source": [
    "#hide\n",
    "def get_frame(name):\n",
    "    url = (\n",
    "        'https://raw.githubusercontent.com/CSSEGISandData/COVID-19/master/csse_covid_19_data/'\n",
    "        f'csse_covid_19_time_series/time_series_covid19_{name}_global.csv')\n",
    "    df = pd.read_csv(url)\n",
    "    # rename countries\n",
    "    df['Country/Region'] = df['Country/Region'].replace(mapping['replace.country'])\n",
    "    return df"
   ]
  },
  {
   "cell_type": "code",
   "execution_count": 8,
   "id": "affiliated-characterization",
   "metadata": {
    "execution": {
     "iopub.execute_input": "2022-11-24T00:45:37.149086Z",
     "iopub.status.busy": "2022-11-24T00:45:37.148304Z",
     "iopub.status.idle": "2022-11-24T00:45:37.152662Z",
     "shell.execute_reply": "2022-11-24T00:45:37.153246Z"
    },
    "papermill": {
     "duration": 0.050544,
     "end_time": "2022-11-24T00:45:37.153407",
     "exception": false,
     "start_time": "2022-11-24T00:45:37.102863",
     "status": "completed"
    },
    "tags": []
   },
   "outputs": [],
   "source": [
    "#hide\n",
    "def get_dates(df):\n",
    "    dt_cols = df.columns[~df.columns.isin(['Province/State', 'Country/Region', 'Lat', 'Long'])]\n",
    "    LAST_DATE_I = -1\n",
    "    # sometimes last column may be empty, then go backwards\n",
    "    for i in range(-1, -len(dt_cols), -1):\n",
    "        if not df[dt_cols[i]].fillna(0).eq(0).all():\n",
    "            LAST_DATE_I = i\n",
    "            break\n",
    "    return LAST_DATE_I, dt_cols"
   ]
  },
  {
   "cell_type": "code",
   "execution_count": 9,
   "id": "recent-optimization",
   "metadata": {
    "execution": {
     "iopub.execute_input": "2022-11-24T00:45:37.239134Z",
     "iopub.status.busy": "2022-11-24T00:45:37.238380Z",
     "iopub.status.idle": "2022-11-24T00:45:37.795625Z",
     "shell.execute_reply": "2022-11-24T00:45:37.796229Z"
    },
    "papermill": {
     "duration": 0.603628,
     "end_time": "2022-11-24T00:45:37.796398",
     "exception": false,
     "start_time": "2022-11-24T00:45:37.192770",
     "status": "completed"
    },
    "tags": []
   },
   "outputs": [],
   "source": [
    "#hide\n",
    "COL_REGION = 'Country/Region'\n",
    "# Confirmed, Recovered, Deaths\n",
    "df = get_frame('confirmed')\n",
    "# dft_: timeseries, dfc_: today country agg\n",
    "dft_cases = df\n",
    "dft_deaths = get_frame('deaths')\n",
    "dft_recovered = get_frame('recovered')\n",
    "LAST_DATE_I, dt_cols = get_dates(df)"
   ]
  },
  {
   "cell_type": "code",
   "execution_count": 10,
   "id": "absolute-copper",
   "metadata": {
    "execution": {
     "iopub.execute_input": "2022-11-24T00:45:37.879351Z",
     "iopub.status.busy": "2022-11-24T00:45:37.878607Z",
     "iopub.status.idle": "2022-11-24T00:45:37.880976Z",
     "shell.execute_reply": "2022-11-24T00:45:37.881589Z"
    },
    "papermill": {
     "duration": 0.047536,
     "end_time": "2022-11-24T00:45:37.881746",
     "exception": false,
     "start_time": "2022-11-24T00:45:37.834210",
     "status": "completed"
    },
    "tags": []
   },
   "outputs": [],
   "source": [
    "#hide\n",
    "LAST_DATE_I, dt_cols = get_dates(df)\n",
    "dt_today =dt_cols[LAST_DATE_I]\n",
    "# dt_5day = dt_cols[LAST_DATE_I - 5]\n",
    "dt_yday = dt_cols[LAST_DATE_I - 1]"
   ]
  },
  {
   "cell_type": "code",
   "execution_count": 11,
   "id": "restricted-sheriff",
   "metadata": {
    "execution": {
     "iopub.execute_input": "2022-11-24T00:45:37.964459Z",
     "iopub.status.busy": "2022-11-24T00:45:37.963712Z",
     "iopub.status.idle": "2022-11-24T00:45:37.974868Z",
     "shell.execute_reply": "2022-11-24T00:45:37.974284Z"
    },
    "papermill": {
     "duration": 0.055892,
     "end_time": "2022-11-24T00:45:37.975014",
     "exception": false,
     "start_time": "2022-11-24T00:45:37.919122",
     "status": "completed"
    },
    "tags": []
   },
   "outputs": [],
   "source": [
    "#hide\n",
    "dfc_cases = dft_cases.groupby(COL_REGION)[dt_today].sum()\n",
    "dfc_deaths = dft_deaths.groupby(COL_REGION)[dt_today].sum()\n",
    "# dfp_cases = dft_cases.groupby(COL_REGION)[dt_5day].sum()\n",
    "# dfp_deaths = dft_deaths.groupby(COL_REGION)[dt_5day].sum()\n",
    "dfp_cases = dft_cases.groupby(COL_REGION)[dt_yday].sum()\n",
    "dfp_deaths = dft_deaths.groupby(COL_REGION)[dt_yday].sum()"
   ]
  },
  {
   "cell_type": "code",
   "execution_count": 12,
   "id": "deluxe-hepatitis",
   "metadata": {
    "execution": {
     "iopub.execute_input": "2022-11-24T00:45:38.059656Z",
     "iopub.status.busy": "2022-11-24T00:45:38.058921Z",
     "iopub.status.idle": "2022-11-24T00:45:38.064614Z",
     "shell.execute_reply": "2022-11-24T00:45:38.065357Z"
    },
    "papermill": {
     "duration": 0.051962,
     "end_time": "2022-11-24T00:45:38.065508",
     "exception": false,
     "start_time": "2022-11-24T00:45:38.013546",
     "status": "completed"
    },
    "tags": []
   },
   "outputs": [],
   "source": [
    "#hide\n",
    "df_table = (pd.DataFrame(dict(Cases = dfc_cases, Deaths = dfc_deaths, PCases = dfp_cases, PDeaths = dfp_deaths))\n",
    "            .sort_values(by = ['Cases','Deaths'], ascending = [False, False])\n",
    "            .reset_index())"
   ]
  },
  {
   "cell_type": "code",
   "execution_count": 13,
   "id": "educational-chancellor",
   "metadata": {
    "execution": {
     "iopub.execute_input": "2022-11-24T00:45:38.178855Z",
     "iopub.status.busy": "2022-11-24T00:45:38.173720Z",
     "iopub.status.idle": "2022-11-24T00:45:38.183422Z",
     "shell.execute_reply": "2022-11-24T00:45:38.182799Z"
    },
    "papermill": {
     "duration": 0.070554,
     "end_time": "2022-11-24T00:45:38.183562",
     "exception": false,
     "start_time": "2022-11-24T00:45:38.113008",
     "status": "completed"
    },
    "tags": []
   },
   "outputs": [
    {
     "data": {
      "text/html": [
       "<div>\n",
       "<style scoped>\n",
       "    .dataframe tbody tr th:only-of-type {\n",
       "        vertical-align: middle;\n",
       "    }\n",
       "\n",
       "    .dataframe tbody tr th {\n",
       "        vertical-align: top;\n",
       "    }\n",
       "\n",
       "    .dataframe thead th {\n",
       "        text-align: right;\n",
       "    }\n",
       "</style>\n",
       "<table border=\"1\" class=\"dataframe\">\n",
       "  <thead>\n",
       "    <tr style=\"text-align: right;\">\n",
       "      <th></th>\n",
       "      <th>Country/Region</th>\n",
       "      <th>Cases</th>\n",
       "      <th>Deaths</th>\n",
       "      <th>PCases</th>\n",
       "      <th>PDeaths</th>\n",
       "      <th>Cases (+)</th>\n",
       "      <th>Deaths (+)</th>\n",
       "      <th>Fatality Rate</th>\n",
       "      <th>Continent</th>\n",
       "    </tr>\n",
       "  </thead>\n",
       "  <tbody>\n",
       "    <tr>\n",
       "      <th>0</th>\n",
       "      <td>US</td>\n",
       "      <td>98392076</td>\n",
       "      <td>1077836</td>\n",
       "      <td>98357398</td>\n",
       "      <td>1077284</td>\n",
       "      <td>34678</td>\n",
       "      <td>552</td>\n",
       "      <td>1.10</td>\n",
       "      <td>North America</td>\n",
       "    </tr>\n",
       "    <tr>\n",
       "      <th>1</th>\n",
       "      <td>India</td>\n",
       "      <td>44671300</td>\n",
       "      <td>530596</td>\n",
       "      <td>44670940</td>\n",
       "      <td>530591</td>\n",
       "      <td>360</td>\n",
       "      <td>5</td>\n",
       "      <td>1.19</td>\n",
       "      <td>Asia</td>\n",
       "    </tr>\n",
       "    <tr>\n",
       "      <th>2</th>\n",
       "      <td>France</td>\n",
       "      <td>37641319</td>\n",
       "      <td>159467</td>\n",
       "      <td>37576243</td>\n",
       "      <td>159378</td>\n",
       "      <td>65076</td>\n",
       "      <td>89</td>\n",
       "      <td>0.42</td>\n",
       "      <td>Europe</td>\n",
       "    </tr>\n",
       "    <tr>\n",
       "      <th>3</th>\n",
       "      <td>Germany</td>\n",
       "      <td>36280371</td>\n",
       "      <td>156951</td>\n",
       "      <td>36247081</td>\n",
       "      <td>156812</td>\n",
       "      <td>33290</td>\n",
       "      <td>139</td>\n",
       "      <td>0.43</td>\n",
       "      <td>Europe</td>\n",
       "    </tr>\n",
       "    <tr>\n",
       "      <th>4</th>\n",
       "      <td>Brazil</td>\n",
       "      <td>35052152</td>\n",
       "      <td>689155</td>\n",
       "      <td>34999495</td>\n",
       "      <td>688907</td>\n",
       "      <td>52657</td>\n",
       "      <td>248</td>\n",
       "      <td>1.97</td>\n",
       "      <td>South America</td>\n",
       "    </tr>\n",
       "  </tbody>\n",
       "</table>\n",
       "</div>"
      ],
      "text/plain": [
       "  Country/Region     Cases   Deaths    PCases  PDeaths  Cases (+)  Deaths (+)  \\\n",
       "0             US  98392076  1077836  98357398  1077284      34678         552   \n",
       "1          India  44671300   530596  44670940   530591        360           5   \n",
       "2         France  37641319   159467  37576243   159378      65076          89   \n",
       "3        Germany  36280371   156951  36247081   156812      33290         139   \n",
       "4         Brazil  35052152   689155  34999495   688907      52657         248   \n",
       "\n",
       "   Fatality Rate      Continent  \n",
       "0           1.10  North America  \n",
       "1           1.19           Asia  \n",
       "2           0.42         Europe  \n",
       "3           0.43         Europe  \n",
       "4           1.97  South America  "
      ]
     },
     "execution_count": 13,
     "metadata": {},
     "output_type": "execute_result"
    }
   ],
   "source": [
    "#hide\n",
    "for c in 'Cases, Deaths'.split(', '):\n",
    "    df_table[f'{c} (+)'] = (df_table[c] - df_table[f'P{c}']).clip(0)\n",
    "    #Clip ça veut dire, les chiffres negatif sont interdit\n",
    "df_table['Fatality Rate'] = (100* df_table['Deaths']/ df_table['Cases']).round(2)\n",
    "df_table['Continent'] = df_table['Country/Region'].map(mapping['map.continent'])\n",
    "df_table.head(5)"
   ]
  },
  {
   "cell_type": "code",
   "execution_count": 14,
   "id": "aboriginal-bulgaria",
   "metadata": {
    "execution": {
     "iopub.execute_input": "2022-11-24T00:45:38.267491Z",
     "iopub.status.busy": "2022-11-24T00:45:38.266741Z",
     "iopub.status.idle": "2022-11-24T00:45:38.273499Z",
     "shell.execute_reply": "2022-11-24T00:45:38.274346Z"
    },
    "papermill": {
     "duration": 0.049872,
     "end_time": "2022-11-24T00:45:38.274591",
     "exception": false,
     "start_time": "2022-11-24T00:45:38.224719",
     "status": "completed"
    },
    "tags": []
   },
   "outputs": [],
   "source": [
    "#hide\n",
    "#delete problematic countries from table\n",
    "df_table = df_table[~df_table['Country/Region'].isin(['Cape Verde', 'Cruise Ship', 'Kosovo'])]"
   ]
  },
  {
   "cell_type": "code",
   "execution_count": 15,
   "id": "fantastic-effect",
   "metadata": {
    "execution": {
     "iopub.execute_input": "2022-11-24T00:45:38.368879Z",
     "iopub.status.busy": "2022-11-24T00:45:38.368096Z",
     "iopub.status.idle": "2022-11-24T00:45:38.389564Z",
     "shell.execute_reply": "2022-11-24T00:45:38.390269Z"
    },
    "papermill": {
     "duration": 0.071717,
     "end_time": "2022-11-24T00:45:38.390430",
     "exception": false,
     "start_time": "2022-11-24T00:45:38.318713",
     "status": "completed"
    },
    "tags": []
   },
   "outputs": [
    {
     "data": {
      "text/html": [
       "<div>\n",
       "<style scoped>\n",
       "    .dataframe tbody tr th:only-of-type {\n",
       "        vertical-align: middle;\n",
       "    }\n",
       "\n",
       "    .dataframe tbody tr th {\n",
       "        vertical-align: top;\n",
       "    }\n",
       "\n",
       "    .dataframe thead th {\n",
       "        text-align: right;\n",
       "    }\n",
       "</style>\n",
       "<table border=\"1\" class=\"dataframe\">\n",
       "  <thead>\n",
       "    <tr style=\"text-align: right;\">\n",
       "      <th></th>\n",
       "      <th>Country/Region</th>\n",
       "      <th>Cases</th>\n",
       "      <th>Deaths</th>\n",
       "      <th>PCases</th>\n",
       "      <th>PDeaths</th>\n",
       "      <th>Cases (+)</th>\n",
       "      <th>Deaths (+)</th>\n",
       "      <th>Fatality Rate</th>\n",
       "      <th>Continent</th>\n",
       "    </tr>\n",
       "  </thead>\n",
       "  <tbody>\n",
       "    <tr>\n",
       "      <th>0</th>\n",
       "      <td>US</td>\n",
       "      <td>98392076</td>\n",
       "      <td>1077836</td>\n",
       "      <td>98357398</td>\n",
       "      <td>1077284</td>\n",
       "      <td>34678</td>\n",
       "      <td>552</td>\n",
       "      <td>1.1</td>\n",
       "      <td>North America</td>\n",
       "    </tr>\n",
       "    <tr>\n",
       "      <th>1</th>\n",
       "      <td>India</td>\n",
       "      <td>44671300</td>\n",
       "      <td>530596</td>\n",
       "      <td>44670940</td>\n",
       "      <td>530591</td>\n",
       "      <td>360</td>\n",
       "      <td>5</td>\n",
       "      <td>1.2</td>\n",
       "      <td>Asia</td>\n",
       "    </tr>\n",
       "    <tr>\n",
       "      <th>2</th>\n",
       "      <td>France</td>\n",
       "      <td>37641319</td>\n",
       "      <td>159467</td>\n",
       "      <td>37576243</td>\n",
       "      <td>159378</td>\n",
       "      <td>65076</td>\n",
       "      <td>89</td>\n",
       "      <td>0.4</td>\n",
       "      <td>Europe</td>\n",
       "    </tr>\n",
       "    <tr>\n",
       "      <th>3</th>\n",
       "      <td>Germany</td>\n",
       "      <td>36280371</td>\n",
       "      <td>156951</td>\n",
       "      <td>36247081</td>\n",
       "      <td>156812</td>\n",
       "      <td>33290</td>\n",
       "      <td>139</td>\n",
       "      <td>0.4</td>\n",
       "      <td>Europe</td>\n",
       "    </tr>\n",
       "    <tr>\n",
       "      <th>4</th>\n",
       "      <td>Brazil</td>\n",
       "      <td>35052152</td>\n",
       "      <td>689155</td>\n",
       "      <td>34999495</td>\n",
       "      <td>688907</td>\n",
       "      <td>52657</td>\n",
       "      <td>248</td>\n",
       "      <td>2.0</td>\n",
       "      <td>South America</td>\n",
       "    </tr>\n",
       "  </tbody>\n",
       "</table>\n",
       "</div>"
      ],
      "text/plain": [
       "  Country/Region     Cases   Deaths    PCases  PDeaths  Cases (+)  Deaths (+)  \\\n",
       "0             US  98392076  1077836  98357398  1077284      34678         552   \n",
       "1          India  44671300   530596  44670940   530591        360           5   \n",
       "2         France  37641319   159467  37576243   159378      65076          89   \n",
       "3        Germany  36280371   156951  36247081   156812      33290         139   \n",
       "4         Brazil  35052152   689155  34999495   688907      52657         248   \n",
       "\n",
       "   Fatality Rate      Continent  \n",
       "0            1.1  North America  \n",
       "1            1.2           Asia  \n",
       "2            0.4         Europe  \n",
       "3            0.4         Europe  \n",
       "4            2.0  South America  "
      ]
     },
     "execution_count": 15,
     "metadata": {},
     "output_type": "execute_result"
    }
   ],
   "source": [
    "#hide\n",
    "df_table = (pd.DataFrame(dict(Cases=dfc_cases, Deaths=dfc_deaths, PCases=dfp_cases, PDeaths=dfp_deaths))\n",
    "             .sort_values(by=['Cases', 'Deaths'], ascending=[False, False])\n",
    "             .reset_index())\n",
    "df_table.rename(columns={'index': 'Country/Region'}, inplace=True)\n",
    "for c in 'Cases, Deaths'.split(', '):\n",
    "    df_table[f'{c} (+)'] = (df_table[c] - df_table[f'P{c}']).clip(0)  # DATA BUG\n",
    "df_table['Fatality Rate'] = (100 * df_table['Deaths'] / df_table['Cases']).round(1)\n",
    "df_table['Continent'] = df_table['Country/Region'].map(mapping['map.continent'])\n",
    "df_table.head(5)"
   ]
  },
  {
   "cell_type": "code",
   "execution_count": 16,
   "id": "fewer-occasion",
   "metadata": {
    "execution": {
     "iopub.execute_input": "2022-11-24T00:45:38.483981Z",
     "iopub.status.busy": "2022-11-24T00:45:38.483248Z",
     "iopub.status.idle": "2022-11-24T00:45:38.487419Z",
     "shell.execute_reply": "2022-11-24T00:45:38.486819Z"
    },
    "papermill": {
     "duration": 0.04852,
     "end_time": "2022-11-24T00:45:38.487548",
     "exception": false,
     "start_time": "2022-11-24T00:45:38.439028",
     "status": "completed"
    },
    "tags": []
   },
   "outputs": [],
   "source": [
    "#hide\n",
    "#delete problematic countries from table\n",
    "df_table = df_table[~df_table['Country/Region'].isin(['Cape Verde', 'Cruise Ship', 'Kosovo'])]"
   ]
  },
  {
   "cell_type": "code",
   "execution_count": 17,
   "id": "related-center",
   "metadata": {
    "execution": {
     "iopub.execute_input": "2022-11-24T00:45:38.590982Z",
     "iopub.status.busy": "2022-11-24T00:45:38.590189Z",
     "iopub.status.idle": "2022-11-24T00:45:38.593289Z",
     "shell.execute_reply": "2022-11-24T00:45:38.592636Z"
    },
    "papermill": {
     "duration": 0.065088,
     "end_time": "2022-11-24T00:45:38.593432",
     "exception": false,
     "start_time": "2022-11-24T00:45:38.528344",
     "status": "completed"
    },
    "tags": []
   },
   "outputs": [],
   "source": [
    "#hide\n",
    "metrics = [df_table.columns[index] for index in [1,2,5,6]]\n",
    "# s_china = df_table[df_table['Country/Region'].eq('China')][metrics].sum().add_prefix('China ')\n",
    "s_us = df_table[df_table['Country/Region'].eq('US')][metrics].sum().add_prefix('US ')\n",
    "s_eu = df_table[df_table['Continent'].eq('Europe')][metrics].sum().add_prefix('EU ')\n",
    "s_ind = df_table[df_table['Country/Region'].eq('India')][metrics].sum().add_prefix('India ')\n",
    "summary = {'updated': pd.to_datetime(dt_today), 'since': pd.to_datetime(dt_yday)}\n",
    "summary = {'updated': pd.to_datetime(dt_today), 'since': pd.to_datetime(dt_yday)}\n",
    "summary = {**summary, **df_table[metrics].sum(), **s_ind, **s_us, **s_eu}"
   ]
  },
  {
   "cell_type": "code",
   "execution_count": 18,
   "id": "engaging-syndrome",
   "metadata": {
    "execution": {
     "iopub.execute_input": "2022-11-24T00:45:38.684361Z",
     "iopub.status.busy": "2022-11-24T00:45:38.683614Z",
     "iopub.status.idle": "2022-11-24T00:45:38.704747Z",
     "shell.execute_reply": "2022-11-24T00:45:38.703964Z"
    },
    "papermill": {
     "duration": 0.067458,
     "end_time": "2022-11-24T00:45:38.704896",
     "exception": false,
     "start_time": "2022-11-24T00:45:38.637438",
     "status": "completed"
    },
    "tags": []
   },
   "outputs": [],
   "source": [
    "#hide\n",
    "dft_ct_new_cases = dft_cases.groupby(COL_REGION)[dt_cols].sum().diff(axis=1).fillna(0).astype(int)"
   ]
  },
  {
   "cell_type": "code",
   "execution_count": 19,
   "id": "neutral-assignment",
   "metadata": {
    "execution": {
     "iopub.execute_input": "2022-11-24T00:45:38.803327Z",
     "iopub.status.busy": "2022-11-24T00:45:38.802580Z",
     "iopub.status.idle": "2022-11-24T00:45:38.805771Z",
     "shell.execute_reply": "2022-11-24T00:45:38.805151Z"
    },
    "papermill": {
     "duration": 0.052498,
     "end_time": "2022-11-24T00:45:38.805907",
     "exception": false,
     "start_time": "2022-11-24T00:45:38.753409",
     "status": "completed"
    },
    "tags": []
   },
   "outputs": [],
   "source": [
    "#hide\n",
    "everydaycases = dft_ct_new_cases.cumsum(axis=1)"
   ]
  },
  {
   "cell_type": "code",
   "execution_count": 20,
   "id": "parliamentary-calgary",
   "metadata": {
    "execution": {
     "iopub.execute_input": "2022-11-24T00:45:38.900398Z",
     "iopub.status.busy": "2022-11-24T00:45:38.899659Z",
     "iopub.status.idle": "2022-11-24T00:45:39.575057Z",
     "shell.execute_reply": "2022-11-24T00:45:39.574418Z"
    },
    "papermill": {
     "duration": 0.726087,
     "end_time": "2022-11-24T00:45:39.575201",
     "exception": false,
     "start_time": "2022-11-24T00:45:38.849114",
     "status": "completed"
    },
    "tags": []
   },
   "outputs": [],
   "source": [
    "#hide\n",
    "import pandas as pd\n",
    "import matplotlib.pyplot as plt\n",
    "import matplotlib.ticker as ticker\n",
    "import matplotlib.animation as animation\n",
    "from IPython.display import HTML"
   ]
  },
  {
   "cell_type": "code",
   "execution_count": 21,
   "id": "lasting-extraction",
   "metadata": {
    "execution": {
     "iopub.execute_input": "2022-11-24T00:45:39.659001Z",
     "iopub.status.busy": "2022-11-24T00:45:39.658277Z",
     "iopub.status.idle": "2022-11-24T00:45:39.670450Z",
     "shell.execute_reply": "2022-11-24T00:45:39.671158Z"
    },
    "papermill": {
     "duration": 0.054454,
     "end_time": "2022-11-24T00:45:39.671319",
     "exception": false,
     "start_time": "2022-11-24T00:45:39.616865",
     "status": "completed"
    },
    "tags": []
   },
   "outputs": [],
   "source": [
    "#hide\n",
    "t = everydaycases.stack()"
   ]
  },
  {
   "cell_type": "code",
   "execution_count": 22,
   "id": "premier-sleeve",
   "metadata": {
    "execution": {
     "iopub.execute_input": "2022-11-24T00:45:39.757408Z",
     "iopub.status.busy": "2022-11-24T00:45:39.756647Z",
     "iopub.status.idle": "2022-11-24T00:45:39.771612Z",
     "shell.execute_reply": "2022-11-24T00:45:39.771024Z"
    },
    "papermill": {
     "duration": 0.05975,
     "end_time": "2022-11-24T00:45:39.771755",
     "exception": false,
     "start_time": "2022-11-24T00:45:39.712005",
     "status": "completed"
    },
    "tags": []
   },
   "outputs": [],
   "source": [
    "#hide\n",
    "g = t.reset_index(['Country/Region'])"
   ]
  },
  {
   "cell_type": "code",
   "execution_count": 23,
   "id": "distributed-pittsburgh",
   "metadata": {
    "execution": {
     "iopub.execute_input": "2022-11-24T00:45:39.856155Z",
     "iopub.status.busy": "2022-11-24T00:45:39.855240Z",
     "iopub.status.idle": "2022-11-24T00:45:39.857711Z",
     "shell.execute_reply": "2022-11-24T00:45:39.858288Z"
    },
    "papermill": {
     "duration": 0.046535,
     "end_time": "2022-11-24T00:45:39.858435",
     "exception": false,
     "start_time": "2022-11-24T00:45:39.811900",
     "status": "completed"
    },
    "tags": []
   },
   "outputs": [],
   "source": [
    "#hide\n",
    "g.index.name = 'date'"
   ]
  },
  {
   "cell_type": "code",
   "execution_count": 24,
   "id": "naked-donor",
   "metadata": {
    "execution": {
     "iopub.execute_input": "2022-11-24T00:45:39.947186Z",
     "iopub.status.busy": "2022-11-24T00:45:39.946404Z",
     "iopub.status.idle": "2022-11-24T00:45:39.949316Z",
     "shell.execute_reply": "2022-11-24T00:45:39.948560Z"
    },
    "papermill": {
     "duration": 0.049836,
     "end_time": "2022-11-24T00:45:39.949454",
     "exception": false,
     "start_time": "2022-11-24T00:45:39.899618",
     "status": "completed"
    },
    "tags": []
   },
   "outputs": [],
   "source": [
    "# #hide\n",
    "# g = g.reset_index(['date'])"
   ]
  },
  {
   "cell_type": "code",
   "execution_count": 25,
   "id": "incomplete-mustang",
   "metadata": {
    "execution": {
     "iopub.execute_input": "2022-11-24T00:45:40.045620Z",
     "iopub.status.busy": "2022-11-24T00:45:40.044673Z",
     "iopub.status.idle": "2022-11-24T00:45:40.047963Z",
     "shell.execute_reply": "2022-11-24T00:45:40.047343Z"
    },
    "papermill": {
     "duration": 0.058123,
     "end_time": "2022-11-24T00:45:40.048098",
     "exception": false,
     "start_time": "2022-11-24T00:45:39.989975",
     "status": "completed"
    },
    "tags": []
   },
   "outputs": [],
   "source": [
    "#hide\n",
    "# g.head()"
   ]
  },
  {
   "cell_type": "code",
   "execution_count": 26,
   "id": "specific-kruger",
   "metadata": {
    "execution": {
     "iopub.execute_input": "2022-11-24T00:45:40.133771Z",
     "iopub.status.busy": "2022-11-24T00:45:40.133035Z",
     "iopub.status.idle": "2022-11-24T00:45:40.136181Z",
     "shell.execute_reply": "2022-11-24T00:45:40.135461Z"
    },
    "papermill": {
     "duration": 0.047944,
     "end_time": "2022-11-24T00:45:40.136312",
     "exception": false,
     "start_time": "2022-11-24T00:45:40.088368",
     "status": "completed"
    },
    "tags": []
   },
   "outputs": [],
   "source": [
    "#hide\n",
    "# g.columns = ['date','country','cases']"
   ]
  },
  {
   "cell_type": "code",
   "execution_count": 27,
   "id": "tender-conversion",
   "metadata": {
    "execution": {
     "iopub.execute_input": "2022-11-24T00:45:40.223124Z",
     "iopub.status.busy": "2022-11-24T00:45:40.222388Z",
     "iopub.status.idle": "2022-11-24T00:45:40.225480Z",
     "shell.execute_reply": "2022-11-24T00:45:40.224754Z"
    },
    "papermill": {
     "duration": 0.048427,
     "end_time": "2022-11-24T00:45:40.225612",
     "exception": false,
     "start_time": "2022-11-24T00:45:40.177185",
     "status": "completed"
    },
    "tags": []
   },
   "outputs": [],
   "source": [
    "#hide\n",
    "# g['continent'] = g.country"
   ]
  },
  {
   "cell_type": "code",
   "execution_count": 28,
   "id": "substantial-wilderness",
   "metadata": {
    "execution": {
     "iopub.execute_input": "2022-11-24T00:45:40.315439Z",
     "iopub.status.busy": "2022-11-24T00:45:40.314702Z",
     "iopub.status.idle": "2022-11-24T00:45:40.317812Z",
     "shell.execute_reply": "2022-11-24T00:45:40.317103Z"
    },
    "papermill": {
     "duration": 0.04793,
     "end_time": "2022-11-24T00:45:40.317936",
     "exception": false,
     "start_time": "2022-11-24T00:45:40.270006",
     "status": "completed"
    },
    "tags": []
   },
   "outputs": [],
   "source": [
    "#hide\n",
    "# cols = list(g.columns.values)"
   ]
  },
  {
   "cell_type": "code",
   "execution_count": 29,
   "id": "solved-farming",
   "metadata": {
    "execution": {
     "iopub.execute_input": "2022-11-24T00:45:40.401580Z",
     "iopub.status.busy": "2022-11-24T00:45:40.400845Z",
     "iopub.status.idle": "2022-11-24T00:45:40.403939Z",
     "shell.execute_reply": "2022-11-24T00:45:40.403338Z"
    },
    "papermill": {
     "duration": 0.045973,
     "end_time": "2022-11-24T00:45:40.404068",
     "exception": false,
     "start_time": "2022-11-24T00:45:40.358095",
     "status": "completed"
    },
    "tags": []
   },
   "outputs": [],
   "source": [
    "#hide\n",
    "# cols.insert(0, cols.pop())"
   ]
  },
  {
   "cell_type": "code",
   "execution_count": 30,
   "id": "executed-adoption",
   "metadata": {
    "execution": {
     "iopub.execute_input": "2022-11-24T00:45:40.487192Z",
     "iopub.status.busy": "2022-11-24T00:45:40.486451Z",
     "iopub.status.idle": "2022-11-24T00:45:40.489860Z",
     "shell.execute_reply": "2022-11-24T00:45:40.489124Z"
    },
    "papermill": {
     "duration": 0.047169,
     "end_time": "2022-11-24T00:45:40.489990",
     "exception": false,
     "start_time": "2022-11-24T00:45:40.442821",
     "status": "completed"
    },
    "tags": []
   },
   "outputs": [],
   "source": [
    "#hide\n",
    "# g = g[cols]"
   ]
  },
  {
   "cell_type": "code",
   "execution_count": 31,
   "id": "subject-dublin",
   "metadata": {
    "execution": {
     "iopub.execute_input": "2022-11-24T00:45:40.573214Z",
     "iopub.status.busy": "2022-11-24T00:45:40.572357Z",
     "iopub.status.idle": "2022-11-24T00:45:40.575485Z",
     "shell.execute_reply": "2022-11-24T00:45:40.574887Z"
    },
    "papermill": {
     "duration": 0.047198,
     "end_time": "2022-11-24T00:45:40.575616",
     "exception": false,
     "start_time": "2022-11-24T00:45:40.528418",
     "status": "completed"
    },
    "tags": []
   },
   "outputs": [],
   "source": [
    "#hide\n",
    "# g['continent'] = g['continent'].map(mapping['map.continent'])"
   ]
  },
  {
   "cell_type": "code",
   "execution_count": 32,
   "id": "freelance-scout",
   "metadata": {
    "execution": {
     "iopub.execute_input": "2022-11-24T00:45:40.658702Z",
     "iopub.status.busy": "2022-11-24T00:45:40.657899Z",
     "iopub.status.idle": "2022-11-24T00:45:40.661216Z",
     "shell.execute_reply": "2022-11-24T00:45:40.660472Z"
    },
    "papermill": {
     "duration": 0.048085,
     "end_time": "2022-11-24T00:45:40.663444",
     "exception": false,
     "start_time": "2022-11-24T00:45:40.615359",
     "status": "completed"
    },
    "tags": []
   },
   "outputs": [],
   "source": [
    "#hide\n",
    "# g.head()"
   ]
  },
  {
   "cell_type": "code",
   "execution_count": 33,
   "id": "limited-engine",
   "metadata": {
    "execution": {
     "iopub.execute_input": "2022-11-24T00:45:40.749210Z",
     "iopub.status.busy": "2022-11-24T00:45:40.748422Z",
     "iopub.status.idle": "2022-11-24T00:45:40.751686Z",
     "shell.execute_reply": "2022-11-24T00:45:40.750955Z"
    },
    "papermill": {
     "duration": 0.04828,
     "end_time": "2022-11-24T00:45:40.751930",
     "exception": false,
     "start_time": "2022-11-24T00:45:40.703650",
     "status": "completed"
    },
    "tags": []
   },
   "outputs": [],
   "source": [
    "# hide\n",
    "# g['date'] = g['date'].astype('datetime64[ns]')"
   ]
  },
  {
   "cell_type": "code",
   "execution_count": 34,
   "id": "sophisticated-supervisor",
   "metadata": {
    "execution": {
     "iopub.execute_input": "2022-11-24T00:45:40.837688Z",
     "iopub.status.busy": "2022-11-24T00:45:40.836952Z",
     "iopub.status.idle": "2022-11-24T00:45:40.840065Z",
     "shell.execute_reply": "2022-11-24T00:45:40.839349Z"
    },
    "papermill": {
     "duration": 0.048419,
     "end_time": "2022-11-24T00:45:40.840195",
     "exception": false,
     "start_time": "2022-11-24T00:45:40.791776",
     "status": "completed"
    },
    "tags": []
   },
   "outputs": [],
   "source": [
    "#hide\n",
    "# g['date'] = g.date.dt.dayofyear"
   ]
  },
  {
   "cell_type": "code",
   "execution_count": 35,
   "id": "inside-dubai",
   "metadata": {
    "execution": {
     "iopub.execute_input": "2022-11-24T00:45:40.923659Z",
     "iopub.status.busy": "2022-11-24T00:45:40.922897Z",
     "iopub.status.idle": "2022-11-24T00:45:40.925814Z",
     "shell.execute_reply": "2022-11-24T00:45:40.925126Z"
    },
    "papermill": {
     "duration": 0.046023,
     "end_time": "2022-11-24T00:45:40.925936",
     "exception": false,
     "start_time": "2022-11-24T00:45:40.879913",
     "status": "completed"
    },
    "tags": []
   },
   "outputs": [],
   "source": [
    "#hide\n",
    "# g = g.rename(columns= {'continent':'group','country':'name','cases':'value'})"
   ]
  },
  {
   "cell_type": "code",
   "execution_count": 36,
   "id": "fleet-motorcycle",
   "metadata": {
    "execution": {
     "iopub.execute_input": "2022-11-24T00:45:41.006903Z",
     "iopub.status.busy": "2022-11-24T00:45:41.006151Z",
     "iopub.status.idle": "2022-11-24T00:45:41.009734Z",
     "shell.execute_reply": "2022-11-24T00:45:41.009007Z"
    },
    "papermill": {
     "duration": 0.046178,
     "end_time": "2022-11-24T00:45:41.009867",
     "exception": false,
     "start_time": "2022-11-24T00:45:40.963689",
     "status": "completed"
    },
    "tags": []
   },
   "outputs": [],
   "source": [
    "#hide\n",
    "# cols = ['name','group','day','value']"
   ]
  },
  {
   "cell_type": "code",
   "execution_count": 37,
   "id": "continued-sleeping",
   "metadata": {
    "execution": {
     "iopub.execute_input": "2022-11-24T00:45:41.095027Z",
     "iopub.status.busy": "2022-11-24T00:45:41.093121Z",
     "iopub.status.idle": "2022-11-24T00:45:41.098546Z",
     "shell.execute_reply": "2022-11-24T00:45:41.097946Z"
    },
    "papermill": {
     "duration": 0.048303,
     "end_time": "2022-11-24T00:45:41.098681",
     "exception": false,
     "start_time": "2022-11-24T00:45:41.050378",
     "status": "completed"
    },
    "tags": []
   },
   "outputs": [],
   "source": [
    "#hide\n",
    "# g.rename(columns= {'date':'day'},inplace = True)"
   ]
  },
  {
   "cell_type": "code",
   "execution_count": 38,
   "id": "major-fight",
   "metadata": {
    "execution": {
     "iopub.execute_input": "2022-11-24T00:45:41.182169Z",
     "iopub.status.busy": "2022-11-24T00:45:41.181417Z",
     "iopub.status.idle": "2022-11-24T00:45:41.184643Z",
     "shell.execute_reply": "2022-11-24T00:45:41.183943Z"
    },
    "papermill": {
     "duration": 0.046013,
     "end_time": "2022-11-24T00:45:41.184814",
     "exception": false,
     "start_time": "2022-11-24T00:45:41.138801",
     "status": "completed"
    },
    "tags": []
   },
   "outputs": [],
   "source": [
    "#hide\n",
    "# g = g[cols]"
   ]
  },
  {
   "cell_type": "code",
   "execution_count": 39,
   "id": "structured-mobile",
   "metadata": {
    "execution": {
     "iopub.execute_input": "2022-11-24T00:45:41.267988Z",
     "iopub.status.busy": "2022-11-24T00:45:41.267210Z",
     "iopub.status.idle": "2022-11-24T00:45:41.270683Z",
     "shell.execute_reply": "2022-11-24T00:45:41.270056Z"
    },
    "papermill": {
     "duration": 0.045874,
     "end_time": "2022-11-24T00:45:41.270825",
     "exception": false,
     "start_time": "2022-11-24T00:45:41.224951",
     "status": "completed"
    },
    "tags": []
   },
   "outputs": [],
   "source": [
    "# #hide\n",
    "# g = g[g.group.notna()]"
   ]
  },
  {
   "cell_type": "code",
   "execution_count": 40,
   "id": "determined-closing",
   "metadata": {
    "execution": {
     "iopub.execute_input": "2022-11-24T00:45:41.369004Z",
     "iopub.status.busy": "2022-11-24T00:45:41.368231Z",
     "iopub.status.idle": "2022-11-24T00:45:41.371847Z",
     "shell.execute_reply": "2022-11-24T00:45:41.370836Z"
    },
    "papermill": {
     "duration": 0.049648,
     "end_time": "2022-11-24T00:45:41.371981",
     "exception": false,
     "start_time": "2022-11-24T00:45:41.322333",
     "status": "completed"
    },
    "tags": []
   },
   "outputs": [],
   "source": [
    "# #hide\n",
    "# colors = dict(zip(\n",
    "#     [\"Oceania\", \"Europe\", \"Asia\", \"South America\", \"Middle East\", \"North America\", \"Africa\"],\n",
    "#     [\"#adb0ff\", \"#ffb3ff\", \"#90d595\", \"#e48381\", \"#aafbff\", \"#f7bb5f\", \"#eafb50\"]\n",
    "# ))\n",
    "# group_lk = g.set_index('name')['group'].to_dict()"
   ]
  },
  {
   "cell_type": "code",
   "execution_count": null,
   "id": "gross-drinking",
   "metadata": {
    "papermill": {
     "duration": 0.038195,
     "end_time": "2022-11-24T00:45:41.450147",
     "exception": false,
     "start_time": "2022-11-24T00:45:41.411952",
     "status": "completed"
    },
    "tags": []
   },
   "outputs": [],
   "source": []
  },
  {
   "cell_type": "code",
   "execution_count": 41,
   "id": "subject-macintosh",
   "metadata": {
    "execution": {
     "iopub.execute_input": "2022-11-24T00:45:41.535509Z",
     "iopub.status.busy": "2022-11-24T00:45:41.534753Z",
     "iopub.status.idle": "2022-11-24T00:45:41.538048Z",
     "shell.execute_reply": "2022-11-24T00:45:41.537446Z"
    },
    "papermill": {
     "duration": 0.048037,
     "end_time": "2022-11-24T00:45:41.538182",
     "exception": false,
     "start_time": "2022-11-24T00:45:41.490145",
     "status": "completed"
    },
    "tags": []
   },
   "outputs": [],
   "source": [
    "# #hide\n",
    "# fig, ax = plt.subplots(figsize=(15, 8))\n",
    "\n",
    "# def draw_barchart(current_day):\n",
    "#     dff = g[g['day'].eq(current_day)].sort_values(by='value', ascending=True).tail(10)\n",
    "#     ax.clear()\n",
    "#     ax.barh(dff['name'], dff['value'], color=[colors[group_lk[x]] for x in dff['name']])\n",
    "#     dx = dff['value'].max() / 200\n",
    "    \n",
    "#     for i, (value, name) in enumerate(zip(dff['value'], dff['name'])):\n",
    "#         ax.text(value-dx, i,     name,           size=14, weight=600, ha='right', va='bottom')\n",
    "#         ax.text(value-dx, i-.25, group_lk[name], size=10, color='#444444', ha='right', va='baseline')\n",
    "#         ax.text(value+dx, i,     f'{value:,.0f}',  size=14, ha='left',  va='center')\n",
    "#     ax.text(1, 0.4, current_day, transform=ax.transAxes, color='#777777', size=46, ha='right', weight=800)\n",
    "#     ax.text(0, 1.06, 'Population (thousands)', transform=ax.transAxes, size=12, color='#777777')\n",
    "#     ax.xaxis.set_major_formatter(ticker.StrMethodFormatter('{x:,.0f}'))\n",
    "#     ax.xaxis.set_ticks_position('top')\n",
    "#     ax.tick_params(axis='x', colors='#777777', labelsize=12)\n",
    "#     ax.set_yticks([])\n",
    "#     ax.margins(0, 0.01)\n",
    "#     ax.grid(which='major', axis='x', linestyle='-')\n",
    "#     ax.set_axisbelow(True)\n",
    "    \n",
    "#     ax.text(0, 1.15, 'Coronavirus',\n",
    "#             transform=ax.transAxes, size=24, weight=600, ha='left', va='top')\n",
    "# #     ax.text(1, 0, 'by @pratapvardhan; credit @jburnmurdoch', transform=ax.transAxes, color='#777777', ha='right',\n",
    "# #             bbox=dict(facecolor='white', alpha=0.8, edgecolor='white'))\n",
    "#     plt.box(False)"
   ]
  },
  {
   "cell_type": "code",
   "execution_count": 42,
   "id": "sexual-wages",
   "metadata": {
    "execution": {
     "iopub.execute_input": "2022-11-24T00:45:41.623315Z",
     "iopub.status.busy": "2022-11-24T00:45:41.622568Z",
     "iopub.status.idle": "2022-11-24T00:45:41.625735Z",
     "shell.execute_reply": "2022-11-24T00:45:41.625121Z"
    },
    "papermill": {
     "duration": 0.046801,
     "end_time": "2022-11-24T00:45:41.625867",
     "exception": false,
     "start_time": "2022-11-24T00:45:41.579066",
     "status": "completed"
    },
    "tags": []
   },
   "outputs": [],
   "source": [
    "# #hide_input\n",
    "# fig, ax = plt.subplots(figsize=(15, 8))\n",
    "# animator = animation.FuncAnimation(fig, draw_barchart, frames=range(g.day.values.min(), g.day.values.max()))\n",
    "# HTML(animator.to_jshtml())\n",
    "# # or use animator.to_html5_video() or animator.save() "
   ]
  },
  {
   "cell_type": "code",
   "execution_count": null,
   "id": "australian-container",
   "metadata": {
    "papermill": {
     "duration": 0.037583,
     "end_time": "2022-11-24T00:45:41.702422",
     "exception": false,
     "start_time": "2022-11-24T00:45:41.664839",
     "status": "completed"
    },
    "tags": []
   },
   "outputs": [],
   "source": []
  },
  {
   "cell_type": "code",
   "execution_count": null,
   "id": "mediterranean-pontiac",
   "metadata": {
    "papermill": {
     "duration": 0.037991,
     "end_time": "2022-11-24T00:45:41.781363",
     "exception": false,
     "start_time": "2022-11-24T00:45:41.743372",
     "status": "completed"
    },
    "tags": []
   },
   "outputs": [],
   "source": []
  },
  {
   "cell_type": "code",
   "execution_count": null,
   "id": "aging-legislature",
   "metadata": {
    "papermill": {
     "duration": 0.038376,
     "end_time": "2022-11-24T00:45:41.860635",
     "exception": false,
     "start_time": "2022-11-24T00:45:41.822259",
     "status": "completed"
    },
    "tags": []
   },
   "outputs": [],
   "source": []
  }
 ],
 "metadata": {
  "kernelspec": {
   "display_name": "Python 3",
   "language": "python",
   "name": "python3"
  },
  "language_info": {
   "codemirror_mode": {
    "name": "ipython",
    "version": 3
   },
   "file_extension": ".py",
   "mimetype": "text/x-python",
   "name": "python",
   "nbconvert_exporter": "python",
   "pygments_lexer": "ipython3",
   "version": "3.6.15"
  },
  "papermill": {
   "duration": 7.729798,
   "end_time": "2022-11-24T00:45:42.317676",
   "environment_variables": {},
   "exception": null,
   "input_path": "2020-03-21-covid19exp.ipynb",
   "output_path": "2020-03-21-covid19exp.ipynb",
   "parameters": {},
   "start_time": "2022-11-24T00:45:34.587878",
   "version": "2.0.0"
  }
 },
 "nbformat": 4,
 "nbformat_minor": 5
}