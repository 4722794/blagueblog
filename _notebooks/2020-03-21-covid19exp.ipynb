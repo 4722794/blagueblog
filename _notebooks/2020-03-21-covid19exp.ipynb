{
 "cells": [
  {
   "cell_type": "markdown",
   "id": "muslim-click",
   "metadata": {
    "papermill": {
     "duration": 0.042508,
     "end_time": "2022-10-24T01:05:55.343128",
     "exception": false,
     "start_time": "2022-10-24T01:05:55.300620",
     "status": "completed"
    },
    "tags": []
   },
   "source": [
    "# COVID-19 Case Race\n",
    "> A race chart to see rising cases around the world\n",
    "\n",
    "- author: Hargun Oberoi\n",
    "- image: images/covid-overview.png\n",
    "- hide: false\n",
    "- badges: false"
   ]
  },
  {
   "cell_type": "code",
   "execution_count": 1,
   "id": "proof-material",
   "metadata": {
    "execution": {
     "iopub.execute_input": "2022-10-24T01:05:55.427458Z",
     "iopub.status.busy": "2022-10-24T01:05:55.426595Z",
     "iopub.status.idle": "2022-10-24T01:05:55.811313Z",
     "shell.execute_reply": "2022-10-24T01:05:55.810556Z"
    },
    "papermill": {
     "duration": 0.43132,
     "end_time": "2022-10-24T01:05:55.811496",
     "exception": false,
     "start_time": "2022-10-24T01:05:55.380176",
     "status": "completed"
    },
    "tags": []
   },
   "outputs": [],
   "source": [
    "#hide\n",
    "import numpy as np\n",
    "import pandas as pd\n",
    "from jinja2 import Template\n",
    "from IPython.display import HTML"
   ]
  },
  {
   "cell_type": "code",
   "execution_count": 2,
   "id": "developed-terminology",
   "metadata": {
    "execution": {
     "iopub.execute_input": "2022-10-24T01:05:55.891558Z",
     "iopub.status.busy": "2022-10-24T01:05:55.890653Z",
     "iopub.status.idle": "2022-10-24T01:05:55.895423Z",
     "shell.execute_reply": "2022-10-24T01:05:55.894764Z"
    },
    "papermill": {
     "duration": 0.046206,
     "end_time": "2022-10-24T01:05:55.895577",
     "exception": false,
     "start_time": "2022-10-24T01:05:55.849371",
     "status": "completed"
    },
    "tags": []
   },
   "outputs": [],
   "source": [
    "#hide\n",
    "\n",
    "# FETCH\n",
    "base_url = 'https://raw.githubusercontent.com/pratapvardhan/notebooks/master/covid19/'\n",
    "paths = {\n",
    "    'mapping': base_url + 'mapping_countries.csv',\n",
    "    'overview': base_url + 'overview.tpl'\n",
    "}"
   ]
  },
  {
   "cell_type": "code",
   "execution_count": 3,
   "id": "dynamic-saver",
   "metadata": {
    "execution": {
     "iopub.execute_input": "2022-10-24T01:05:55.984165Z",
     "iopub.status.busy": "2022-10-24T01:05:55.983369Z",
     "iopub.status.idle": "2022-10-24T01:05:55.987823Z",
     "shell.execute_reply": "2022-10-24T01:05:55.988532Z"
    },
    "papermill": {
     "duration": 0.055425,
     "end_time": "2022-10-24T01:05:55.988686",
     "exception": false,
     "start_time": "2022-10-24T01:05:55.933261",
     "status": "completed"
    },
    "tags": []
   },
   "outputs": [
    {
     "data": {
      "text/plain": [
       "'https://raw.githubusercontent.com/pratapvardhan/notebooks/master/covid19/mapping_countries.csv'"
      ]
     },
     "execution_count": 3,
     "metadata": {},
     "output_type": "execute_result"
    }
   ],
   "source": [
    "#hide\n",
    "paths['mapping']"
   ]
  },
  {
   "cell_type": "code",
   "execution_count": 4,
   "id": "urban-software",
   "metadata": {
    "execution": {
     "iopub.execute_input": "2022-10-24T01:05:56.072715Z",
     "iopub.status.busy": "2022-10-24T01:05:56.069788Z",
     "iopub.status.idle": "2022-10-24T01:05:56.073947Z",
     "shell.execute_reply": "2022-10-24T01:05:56.074522Z"
    },
    "papermill": {
     "duration": 0.047354,
     "end_time": "2022-10-24T01:05:56.074664",
     "exception": false,
     "start_time": "2022-10-24T01:05:56.027310",
     "status": "completed"
    },
    "tags": []
   },
   "outputs": [],
   "source": [
    "#hide\n",
    "def get_mappings(url):\n",
    "    df = pd.read_csv(url)\n",
    "    return {\n",
    "        'df': df,\n",
    "        'replace.country': dict(df.dropna(subset=['Name']).set_index('Country')['Name']),\n",
    "        'map.continent': dict(df.set_index('Name')['Continent'])\n",
    "    }"
   ]
  },
  {
   "cell_type": "code",
   "execution_count": 5,
   "id": "intimate-machinery",
   "metadata": {
    "execution": {
     "iopub.execute_input": "2022-10-24T01:05:56.160269Z",
     "iopub.status.busy": "2022-10-24T01:05:56.159512Z",
     "iopub.status.idle": "2022-10-24T01:05:56.192445Z",
     "shell.execute_reply": "2022-10-24T01:05:56.191683Z"
    },
    "papermill": {
     "duration": 0.079676,
     "end_time": "2022-10-24T01:05:56.192594",
     "exception": false,
     "start_time": "2022-10-24T01:05:56.112918",
     "status": "completed"
    },
    "tags": []
   },
   "outputs": [],
   "source": [
    "#hide\n",
    "mapping = get_mappings(paths['mapping'])"
   ]
  },
  {
   "cell_type": "code",
   "execution_count": 6,
   "id": "certified-tactics",
   "metadata": {
    "execution": {
     "iopub.execute_input": "2022-10-24T01:05:56.281022Z",
     "iopub.status.busy": "2022-10-24T01:05:56.280247Z",
     "iopub.status.idle": "2022-10-24T01:05:56.283316Z",
     "shell.execute_reply": "2022-10-24T01:05:56.283915Z"
    },
    "papermill": {
     "duration": 0.049171,
     "end_time": "2022-10-24T01:05:56.284079",
     "exception": false,
     "start_time": "2022-10-24T01:05:56.234908",
     "status": "completed"
    },
    "tags": []
   },
   "outputs": [],
   "source": [
    "#hide\n",
    "def get_template(path):\n",
    "    from urllib.parse import urlparse\n",
    "    if bool(urlparse(path).netloc):\n",
    "        from urllib.request import urlopen\n",
    "        return urlopen(path).read().decode('utf8')\n",
    "    return open(path).read()"
   ]
  },
  {
   "cell_type": "code",
   "execution_count": 7,
   "id": "realistic-blast",
   "metadata": {
    "execution": {
     "iopub.execute_input": "2022-10-24T01:05:56.367305Z",
     "iopub.status.busy": "2022-10-24T01:05:56.366543Z",
     "iopub.status.idle": "2022-10-24T01:05:56.369829Z",
     "shell.execute_reply": "2022-10-24T01:05:56.369107Z"
    },
    "papermill": {
     "duration": 0.047841,
     "end_time": "2022-10-24T01:05:56.369963",
     "exception": false,
     "start_time": "2022-10-24T01:05:56.322122",
     "status": "completed"
    },
    "tags": []
   },
   "outputs": [],
   "source": [
    "#hide\n",
    "def get_frame(name):\n",
    "    url = (\n",
    "        'https://raw.githubusercontent.com/CSSEGISandData/COVID-19/master/csse_covid_19_data/'\n",
    "        f'csse_covid_19_time_series/time_series_covid19_{name}_global.csv')\n",
    "    df = pd.read_csv(url)\n",
    "    # rename countries\n",
    "    df['Country/Region'] = df['Country/Region'].replace(mapping['replace.country'])\n",
    "    return df"
   ]
  },
  {
   "cell_type": "code",
   "execution_count": 8,
   "id": "affiliated-characterization",
   "metadata": {
    "execution": {
     "iopub.execute_input": "2022-10-24T01:05:56.452519Z",
     "iopub.status.busy": "2022-10-24T01:05:56.451743Z",
     "iopub.status.idle": "2022-10-24T01:05:56.454370Z",
     "shell.execute_reply": "2022-10-24T01:05:56.454969Z"
    },
    "papermill": {
     "duration": 0.047438,
     "end_time": "2022-10-24T01:05:56.455126",
     "exception": false,
     "start_time": "2022-10-24T01:05:56.407688",
     "status": "completed"
    },
    "tags": []
   },
   "outputs": [],
   "source": [
    "#hide\n",
    "def get_dates(df):\n",
    "    dt_cols = df.columns[~df.columns.isin(['Province/State', 'Country/Region', 'Lat', 'Long'])]\n",
    "    LAST_DATE_I = -1\n",
    "    # sometimes last column may be empty, then go backwards\n",
    "    for i in range(-1, -len(dt_cols), -1):\n",
    "        if not df[dt_cols[i]].fillna(0).eq(0).all():\n",
    "            LAST_DATE_I = i\n",
    "            break\n",
    "    return LAST_DATE_I, dt_cols"
   ]
  },
  {
   "cell_type": "code",
   "execution_count": 9,
   "id": "recent-optimization",
   "metadata": {
    "execution": {
     "iopub.execute_input": "2022-10-24T01:05:56.542277Z",
     "iopub.status.busy": "2022-10-24T01:05:56.541367Z",
     "iopub.status.idle": "2022-10-24T01:05:57.026257Z",
     "shell.execute_reply": "2022-10-24T01:05:57.025600Z"
    },
    "papermill": {
     "duration": 0.530843,
     "end_time": "2022-10-24T01:05:57.026402",
     "exception": false,
     "start_time": "2022-10-24T01:05:56.495559",
     "status": "completed"
    },
    "tags": []
   },
   "outputs": [],
   "source": [
    "#hide\n",
    "COL_REGION = 'Country/Region'\n",
    "# Confirmed, Recovered, Deaths\n",
    "df = get_frame('confirmed')\n",
    "# dft_: timeseries, dfc_: today country agg\n",
    "dft_cases = df\n",
    "dft_deaths = get_frame('deaths')\n",
    "dft_recovered = get_frame('recovered')\n",
    "LAST_DATE_I, dt_cols = get_dates(df)"
   ]
  },
  {
   "cell_type": "code",
   "execution_count": 10,
   "id": "absolute-copper",
   "metadata": {
    "execution": {
     "iopub.execute_input": "2022-10-24T01:05:57.108498Z",
     "iopub.status.busy": "2022-10-24T01:05:57.107680Z",
     "iopub.status.idle": "2022-10-24T01:05:57.111552Z",
     "shell.execute_reply": "2022-10-24T01:05:57.110782Z"
    },
    "papermill": {
     "duration": 0.046576,
     "end_time": "2022-10-24T01:05:57.111682",
     "exception": false,
     "start_time": "2022-10-24T01:05:57.065106",
     "status": "completed"
    },
    "tags": []
   },
   "outputs": [],
   "source": [
    "#hide\n",
    "LAST_DATE_I, dt_cols = get_dates(df)\n",
    "dt_today =dt_cols[LAST_DATE_I]\n",
    "# dt_5day = dt_cols[LAST_DATE_I - 5]\n",
    "dt_yday = dt_cols[LAST_DATE_I - 1]"
   ]
  },
  {
   "cell_type": "code",
   "execution_count": 11,
   "id": "restricted-sheriff",
   "metadata": {
    "execution": {
     "iopub.execute_input": "2022-10-24T01:05:57.198078Z",
     "iopub.status.busy": "2022-10-24T01:05:57.196406Z",
     "iopub.status.idle": "2022-10-24T01:05:57.202126Z",
     "shell.execute_reply": "2022-10-24T01:05:57.201504Z"
    },
    "papermill": {
     "duration": 0.053239,
     "end_time": "2022-10-24T01:05:57.202354",
     "exception": false,
     "start_time": "2022-10-24T01:05:57.149115",
     "status": "completed"
    },
    "tags": []
   },
   "outputs": [],
   "source": [
    "#hide\n",
    "dfc_cases = dft_cases.groupby(COL_REGION)[dt_today].sum()\n",
    "dfc_deaths = dft_deaths.groupby(COL_REGION)[dt_today].sum()\n",
    "# dfp_cases = dft_cases.groupby(COL_REGION)[dt_5day].sum()\n",
    "# dfp_deaths = dft_deaths.groupby(COL_REGION)[dt_5day].sum()\n",
    "dfp_cases = dft_cases.groupby(COL_REGION)[dt_yday].sum()\n",
    "dfp_deaths = dft_deaths.groupby(COL_REGION)[dt_yday].sum()"
   ]
  },
  {
   "cell_type": "code",
   "execution_count": 12,
   "id": "deluxe-hepatitis",
   "metadata": {
    "execution": {
     "iopub.execute_input": "2022-10-24T01:05:57.285666Z",
     "iopub.status.busy": "2022-10-24T01:05:57.284923Z",
     "iopub.status.idle": "2022-10-24T01:05:57.290503Z",
     "shell.execute_reply": "2022-10-24T01:05:57.291198Z"
    },
    "papermill": {
     "duration": 0.049476,
     "end_time": "2022-10-24T01:05:57.291331",
     "exception": false,
     "start_time": "2022-10-24T01:05:57.241855",
     "status": "completed"
    },
    "tags": []
   },
   "outputs": [],
   "source": [
    "#hide\n",
    "df_table = (pd.DataFrame(dict(Cases = dfc_cases, Deaths = dfc_deaths, PCases = dfp_cases, PDeaths = dfp_deaths))\n",
    "            .sort_values(by = ['Cases','Deaths'], ascending = [False, False])\n",
    "            .reset_index())"
   ]
  },
  {
   "cell_type": "code",
   "execution_count": 13,
   "id": "educational-chancellor",
   "metadata": {
    "execution": {
     "iopub.execute_input": "2022-10-24T01:05:57.383569Z",
     "iopub.status.busy": "2022-10-24T01:05:57.382859Z",
     "iopub.status.idle": "2022-10-24T01:05:57.392634Z",
     "shell.execute_reply": "2022-10-24T01:05:57.393302Z"
    },
    "papermill": {
     "duration": 0.067186,
     "end_time": "2022-10-24T01:05:57.393444",
     "exception": false,
     "start_time": "2022-10-24T01:05:57.326258",
     "status": "completed"
    },
    "tags": []
   },
   "outputs": [
    {
     "data": {
      "text/html": [
       "<div>\n",
       "<style scoped>\n",
       "    .dataframe tbody tr th:only-of-type {\n",
       "        vertical-align: middle;\n",
       "    }\n",
       "\n",
       "    .dataframe tbody tr th {\n",
       "        vertical-align: top;\n",
       "    }\n",
       "\n",
       "    .dataframe thead th {\n",
       "        text-align: right;\n",
       "    }\n",
       "</style>\n",
       "<table border=\"1\" class=\"dataframe\">\n",
       "  <thead>\n",
       "    <tr style=\"text-align: right;\">\n",
       "      <th></th>\n",
       "      <th>Country/Region</th>\n",
       "      <th>Cases</th>\n",
       "      <th>Deaths</th>\n",
       "      <th>PCases</th>\n",
       "      <th>PDeaths</th>\n",
       "      <th>Cases (+)</th>\n",
       "      <th>Deaths (+)</th>\n",
       "      <th>Fatality Rate</th>\n",
       "      <th>Continent</th>\n",
       "    </tr>\n",
       "  </thead>\n",
       "  <tbody>\n",
       "    <tr>\n",
       "      <th>0</th>\n",
       "      <td>US</td>\n",
       "      <td>97190530</td>\n",
       "      <td>1067685</td>\n",
       "      <td>97185559</td>\n",
       "      <td>1067673</td>\n",
       "      <td>4971</td>\n",
       "      <td>12</td>\n",
       "      <td>1.10</td>\n",
       "      <td>North America</td>\n",
       "    </tr>\n",
       "    <tr>\n",
       "      <th>1</th>\n",
       "      <td>India</td>\n",
       "      <td>44642742</td>\n",
       "      <td>528961</td>\n",
       "      <td>44640748</td>\n",
       "      <td>528957</td>\n",
       "      <td>1994</td>\n",
       "      <td>4</td>\n",
       "      <td>1.18</td>\n",
       "      <td>Asia</td>\n",
       "    </tr>\n",
       "    <tr>\n",
       "      <th>2</th>\n",
       "      <td>France</td>\n",
       "      <td>36741974</td>\n",
       "      <td>157377</td>\n",
       "      <td>36741974</td>\n",
       "      <td>157377</td>\n",
       "      <td>0</td>\n",
       "      <td>0</td>\n",
       "      <td>0.43</td>\n",
       "      <td>Europe</td>\n",
       "    </tr>\n",
       "    <tr>\n",
       "      <th>3</th>\n",
       "      <td>Germany</td>\n",
       "      <td>35172694</td>\n",
       "      <td>152482</td>\n",
       "      <td>35172693</td>\n",
       "      <td>152482</td>\n",
       "      <td>1</td>\n",
       "      <td>0</td>\n",
       "      <td>0.43</td>\n",
       "      <td>Europe</td>\n",
       "    </tr>\n",
       "    <tr>\n",
       "      <th>4</th>\n",
       "      <td>Brazil</td>\n",
       "      <td>34780462</td>\n",
       "      <td>687527</td>\n",
       "      <td>34780462</td>\n",
       "      <td>687527</td>\n",
       "      <td>0</td>\n",
       "      <td>0</td>\n",
       "      <td>1.98</td>\n",
       "      <td>South America</td>\n",
       "    </tr>\n",
       "  </tbody>\n",
       "</table>\n",
       "</div>"
      ],
      "text/plain": [
       "  Country/Region     Cases   Deaths    PCases  PDeaths  Cases (+)  Deaths (+)  \\\n",
       "0             US  97190530  1067685  97185559  1067673       4971          12   \n",
       "1          India  44642742   528961  44640748   528957       1994           4   \n",
       "2         France  36741974   157377  36741974   157377          0           0   \n",
       "3        Germany  35172694   152482  35172693   152482          1           0   \n",
       "4         Brazil  34780462   687527  34780462   687527          0           0   \n",
       "\n",
       "   Fatality Rate      Continent  \n",
       "0           1.10  North America  \n",
       "1           1.18           Asia  \n",
       "2           0.43         Europe  \n",
       "3           0.43         Europe  \n",
       "4           1.98  South America  "
      ]
     },
     "execution_count": 13,
     "metadata": {},
     "output_type": "execute_result"
    }
   ],
   "source": [
    "#hide\n",
    "for c in 'Cases, Deaths'.split(', '):\n",
    "    df_table[f'{c} (+)'] = (df_table[c] - df_table[f'P{c}']).clip(0)\n",
    "    #Clip ça veut dire, les chiffres negatif sont interdit\n",
    "df_table['Fatality Rate'] = (100* df_table['Deaths']/ df_table['Cases']).round(2)\n",
    "df_table['Continent'] = df_table['Country/Region'].map(mapping['map.continent'])\n",
    "df_table.head(5)"
   ]
  },
  {
   "cell_type": "code",
   "execution_count": 14,
   "id": "aboriginal-bulgaria",
   "metadata": {
    "execution": {
     "iopub.execute_input": "2022-10-24T01:05:57.477515Z",
     "iopub.status.busy": "2022-10-24T01:05:57.476763Z",
     "iopub.status.idle": "2022-10-24T01:05:57.481502Z",
     "shell.execute_reply": "2022-10-24T01:05:57.480942Z"
    },
    "papermill": {
     "duration": 0.049033,
     "end_time": "2022-10-24T01:05:57.481621",
     "exception": false,
     "start_time": "2022-10-24T01:05:57.432588",
     "status": "completed"
    },
    "tags": []
   },
   "outputs": [],
   "source": [
    "#hide\n",
    "#delete problematic countries from table\n",
    "df_table = df_table[~df_table['Country/Region'].isin(['Cape Verde', 'Cruise Ship', 'Kosovo'])]"
   ]
  },
  {
   "cell_type": "code",
   "execution_count": 15,
   "id": "fantastic-effect",
   "metadata": {
    "execution": {
     "iopub.execute_input": "2022-10-24T01:05:57.569779Z",
     "iopub.status.busy": "2022-10-24T01:05:57.569016Z",
     "iopub.status.idle": "2022-10-24T01:05:57.591492Z",
     "shell.execute_reply": "2022-10-24T01:05:57.592155Z"
    },
    "papermill": {
     "duration": 0.073121,
     "end_time": "2022-10-24T01:05:57.592339",
     "exception": false,
     "start_time": "2022-10-24T01:05:57.519218",
     "status": "completed"
    },
    "tags": []
   },
   "outputs": [
    {
     "data": {
      "text/html": [
       "<div>\n",
       "<style scoped>\n",
       "    .dataframe tbody tr th:only-of-type {\n",
       "        vertical-align: middle;\n",
       "    }\n",
       "\n",
       "    .dataframe tbody tr th {\n",
       "        vertical-align: top;\n",
       "    }\n",
       "\n",
       "    .dataframe thead th {\n",
       "        text-align: right;\n",
       "    }\n",
       "</style>\n",
       "<table border=\"1\" class=\"dataframe\">\n",
       "  <thead>\n",
       "    <tr style=\"text-align: right;\">\n",
       "      <th></th>\n",
       "      <th>Country/Region</th>\n",
       "      <th>Cases</th>\n",
       "      <th>Deaths</th>\n",
       "      <th>PCases</th>\n",
       "      <th>PDeaths</th>\n",
       "      <th>Cases (+)</th>\n",
       "      <th>Deaths (+)</th>\n",
       "      <th>Fatality Rate</th>\n",
       "      <th>Continent</th>\n",
       "    </tr>\n",
       "  </thead>\n",
       "  <tbody>\n",
       "    <tr>\n",
       "      <th>0</th>\n",
       "      <td>US</td>\n",
       "      <td>97190530</td>\n",
       "      <td>1067685</td>\n",
       "      <td>97185559</td>\n",
       "      <td>1067673</td>\n",
       "      <td>4971</td>\n",
       "      <td>12</td>\n",
       "      <td>1.1</td>\n",
       "      <td>North America</td>\n",
       "    </tr>\n",
       "    <tr>\n",
       "      <th>1</th>\n",
       "      <td>India</td>\n",
       "      <td>44642742</td>\n",
       "      <td>528961</td>\n",
       "      <td>44640748</td>\n",
       "      <td>528957</td>\n",
       "      <td>1994</td>\n",
       "      <td>4</td>\n",
       "      <td>1.2</td>\n",
       "      <td>Asia</td>\n",
       "    </tr>\n",
       "    <tr>\n",
       "      <th>2</th>\n",
       "      <td>France</td>\n",
       "      <td>36741974</td>\n",
       "      <td>157377</td>\n",
       "      <td>36741974</td>\n",
       "      <td>157377</td>\n",
       "      <td>0</td>\n",
       "      <td>0</td>\n",
       "      <td>0.4</td>\n",
       "      <td>Europe</td>\n",
       "    </tr>\n",
       "    <tr>\n",
       "      <th>3</th>\n",
       "      <td>Germany</td>\n",
       "      <td>35172694</td>\n",
       "      <td>152482</td>\n",
       "      <td>35172693</td>\n",
       "      <td>152482</td>\n",
       "      <td>1</td>\n",
       "      <td>0</td>\n",
       "      <td>0.4</td>\n",
       "      <td>Europe</td>\n",
       "    </tr>\n",
       "    <tr>\n",
       "      <th>4</th>\n",
       "      <td>Brazil</td>\n",
       "      <td>34780462</td>\n",
       "      <td>687527</td>\n",
       "      <td>34780462</td>\n",
       "      <td>687527</td>\n",
       "      <td>0</td>\n",
       "      <td>0</td>\n",
       "      <td>2.0</td>\n",
       "      <td>South America</td>\n",
       "    </tr>\n",
       "  </tbody>\n",
       "</table>\n",
       "</div>"
      ],
      "text/plain": [
       "  Country/Region     Cases   Deaths    PCases  PDeaths  Cases (+)  Deaths (+)  \\\n",
       "0             US  97190530  1067685  97185559  1067673       4971          12   \n",
       "1          India  44642742   528961  44640748   528957       1994           4   \n",
       "2         France  36741974   157377  36741974   157377          0           0   \n",
       "3        Germany  35172694   152482  35172693   152482          1           0   \n",
       "4         Brazil  34780462   687527  34780462   687527          0           0   \n",
       "\n",
       "   Fatality Rate      Continent  \n",
       "0            1.1  North America  \n",
       "1            1.2           Asia  \n",
       "2            0.4         Europe  \n",
       "3            0.4         Europe  \n",
       "4            2.0  South America  "
      ]
     },
     "execution_count": 15,
     "metadata": {},
     "output_type": "execute_result"
    }
   ],
   "source": [
    "#hide\n",
    "df_table = (pd.DataFrame(dict(Cases=dfc_cases, Deaths=dfc_deaths, PCases=dfp_cases, PDeaths=dfp_deaths))\n",
    "             .sort_values(by=['Cases', 'Deaths'], ascending=[False, False])\n",
    "             .reset_index())\n",
    "df_table.rename(columns={'index': 'Country/Region'}, inplace=True)\n",
    "for c in 'Cases, Deaths'.split(', '):\n",
    "    df_table[f'{c} (+)'] = (df_table[c] - df_table[f'P{c}']).clip(0)  # DATA BUG\n",
    "df_table['Fatality Rate'] = (100 * df_table['Deaths'] / df_table['Cases']).round(1)\n",
    "df_table['Continent'] = df_table['Country/Region'].map(mapping['map.continent'])\n",
    "df_table.head(5)"
   ]
  },
  {
   "cell_type": "code",
   "execution_count": 16,
   "id": "fewer-occasion",
   "metadata": {
    "execution": {
     "iopub.execute_input": "2022-10-24T01:05:57.676104Z",
     "iopub.status.busy": "2022-10-24T01:05:57.675305Z",
     "iopub.status.idle": "2022-10-24T01:05:57.679067Z",
     "shell.execute_reply": "2022-10-24T01:05:57.677997Z"
    },
    "papermill": {
     "duration": 0.048863,
     "end_time": "2022-10-24T01:05:57.679217",
     "exception": false,
     "start_time": "2022-10-24T01:05:57.630354",
     "status": "completed"
    },
    "tags": []
   },
   "outputs": [],
   "source": [
    "#hide\n",
    "#delete problematic countries from table\n",
    "df_table = df_table[~df_table['Country/Region'].isin(['Cape Verde', 'Cruise Ship', 'Kosovo'])]"
   ]
  },
  {
   "cell_type": "code",
   "execution_count": 17,
   "id": "related-center",
   "metadata": {
    "execution": {
     "iopub.execute_input": "2022-10-24T01:05:57.758722Z",
     "iopub.status.busy": "2022-10-24T01:05:57.757941Z",
     "iopub.status.idle": "2022-10-24T01:05:57.779251Z",
     "shell.execute_reply": "2022-10-24T01:05:57.780330Z"
    },
    "papermill": {
     "duration": 0.063435,
     "end_time": "2022-10-24T01:05:57.780473",
     "exception": false,
     "start_time": "2022-10-24T01:05:57.717038",
     "status": "completed"
    },
    "tags": []
   },
   "outputs": [],
   "source": [
    "#hide\n",
    "metrics = [df_table.columns[index] for index in [1,2,5,6]]\n",
    "# s_china = df_table[df_table['Country/Region'].eq('China')][metrics].sum().add_prefix('China ')\n",
    "s_us = df_table[df_table['Country/Region'].eq('US')][metrics].sum().add_prefix('US ')\n",
    "s_eu = df_table[df_table['Continent'].eq('Europe')][metrics].sum().add_prefix('EU ')\n",
    "s_ind = df_table[df_table['Country/Region'].eq('India')][metrics].sum().add_prefix('India ')\n",
    "summary = {'updated': pd.to_datetime(dt_today), 'since': pd.to_datetime(dt_yday)}\n",
    "summary = {'updated': pd.to_datetime(dt_today), 'since': pd.to_datetime(dt_yday)}\n",
    "summary = {**summary, **df_table[metrics].sum(), **s_ind, **s_us, **s_eu}"
   ]
  },
  {
   "cell_type": "code",
   "execution_count": 18,
   "id": "engaging-syndrome",
   "metadata": {
    "execution": {
     "iopub.execute_input": "2022-10-24T01:05:57.862108Z",
     "iopub.status.busy": "2022-10-24T01:05:57.861305Z",
     "iopub.status.idle": "2022-10-24T01:05:57.882766Z",
     "shell.execute_reply": "2022-10-24T01:05:57.882157Z"
    },
    "papermill": {
     "duration": 0.06467,
     "end_time": "2022-10-24T01:05:57.882892",
     "exception": false,
     "start_time": "2022-10-24T01:05:57.818222",
     "status": "completed"
    },
    "tags": []
   },
   "outputs": [],
   "source": [
    "#hide\n",
    "dft_ct_new_cases = dft_cases.groupby(COL_REGION)[dt_cols].sum().diff(axis=1).fillna(0).astype(int)"
   ]
  },
  {
   "cell_type": "code",
   "execution_count": 19,
   "id": "neutral-assignment",
   "metadata": {
    "execution": {
     "iopub.execute_input": "2022-10-24T01:05:57.967304Z",
     "iopub.status.busy": "2022-10-24T01:05:57.966554Z",
     "iopub.status.idle": "2022-10-24T01:05:57.969929Z",
     "shell.execute_reply": "2022-10-24T01:05:57.969316Z"
    },
    "papermill": {
     "duration": 0.049985,
     "end_time": "2022-10-24T01:05:57.970218",
     "exception": false,
     "start_time": "2022-10-24T01:05:57.920233",
     "status": "completed"
    },
    "tags": []
   },
   "outputs": [],
   "source": [
    "#hide\n",
    "everydaycases = dft_ct_new_cases.cumsum(axis=1)"
   ]
  },
  {
   "cell_type": "code",
   "execution_count": 20,
   "id": "parliamentary-calgary",
   "metadata": {
    "execution": {
     "iopub.execute_input": "2022-10-24T01:05:58.054679Z",
     "iopub.status.busy": "2022-10-24T01:05:58.053937Z",
     "iopub.status.idle": "2022-10-24T01:05:58.737349Z",
     "shell.execute_reply": "2022-10-24T01:05:58.736704Z"
    },
    "papermill": {
     "duration": 0.727562,
     "end_time": "2022-10-24T01:05:58.737500",
     "exception": false,
     "start_time": "2022-10-24T01:05:58.009938",
     "status": "completed"
    },
    "tags": []
   },
   "outputs": [],
   "source": [
    "#hide\n",
    "import pandas as pd\n",
    "import matplotlib.pyplot as plt\n",
    "import matplotlib.ticker as ticker\n",
    "import matplotlib.animation as animation\n",
    "from IPython.display import HTML"
   ]
  },
  {
   "cell_type": "code",
   "execution_count": 21,
   "id": "lasting-extraction",
   "metadata": {
    "execution": {
     "iopub.execute_input": "2022-10-24T01:05:58.824532Z",
     "iopub.status.busy": "2022-10-24T01:05:58.823756Z",
     "iopub.status.idle": "2022-10-24T01:05:58.832651Z",
     "shell.execute_reply": "2022-10-24T01:05:58.832075Z"
    },
    "papermill": {
     "duration": 0.054417,
     "end_time": "2022-10-24T01:05:58.832790",
     "exception": false,
     "start_time": "2022-10-24T01:05:58.778373",
     "status": "completed"
    },
    "tags": []
   },
   "outputs": [],
   "source": [
    "#hide\n",
    "t = everydaycases.stack()"
   ]
  },
  {
   "cell_type": "code",
   "execution_count": 22,
   "id": "premier-sleeve",
   "metadata": {
    "execution": {
     "iopub.execute_input": "2022-10-24T01:05:58.914346Z",
     "iopub.status.busy": "2022-10-24T01:05:58.913632Z",
     "iopub.status.idle": "2022-10-24T01:05:58.927790Z",
     "shell.execute_reply": "2022-10-24T01:05:58.927175Z"
    },
    "papermill": {
     "duration": 0.056741,
     "end_time": "2022-10-24T01:05:58.927911",
     "exception": false,
     "start_time": "2022-10-24T01:05:58.871170",
     "status": "completed"
    },
    "tags": []
   },
   "outputs": [],
   "source": [
    "#hide\n",
    "g = t.reset_index(['Country/Region'])"
   ]
  },
  {
   "cell_type": "code",
   "execution_count": 23,
   "id": "distributed-pittsburgh",
   "metadata": {
    "execution": {
     "iopub.execute_input": "2022-10-24T01:05:59.007571Z",
     "iopub.status.busy": "2022-10-24T01:05:59.006766Z",
     "iopub.status.idle": "2022-10-24T01:05:59.010217Z",
     "shell.execute_reply": "2022-10-24T01:05:59.009568Z"
    },
    "papermill": {
     "duration": 0.04421,
     "end_time": "2022-10-24T01:05:59.010379",
     "exception": false,
     "start_time": "2022-10-24T01:05:58.966169",
     "status": "completed"
    },
    "tags": []
   },
   "outputs": [],
   "source": [
    "#hide\n",
    "g.index.name = 'date'"
   ]
  },
  {
   "cell_type": "code",
   "execution_count": 24,
   "id": "naked-donor",
   "metadata": {
    "execution": {
     "iopub.execute_input": "2022-10-24T01:05:59.094164Z",
     "iopub.status.busy": "2022-10-24T01:05:59.093355Z",
     "iopub.status.idle": "2022-10-24T01:05:59.097561Z",
     "shell.execute_reply": "2022-10-24T01:05:59.098220Z"
    },
    "papermill": {
     "duration": 0.048095,
     "end_time": "2022-10-24T01:05:59.098362",
     "exception": false,
     "start_time": "2022-10-24T01:05:59.050267",
     "status": "completed"
    },
    "tags": []
   },
   "outputs": [],
   "source": [
    "# #hide\n",
    "# g = g.reset_index(['date'])"
   ]
  },
  {
   "cell_type": "code",
   "execution_count": 25,
   "id": "incomplete-mustang",
   "metadata": {
    "execution": {
     "iopub.execute_input": "2022-10-24T01:05:59.182305Z",
     "iopub.status.busy": "2022-10-24T01:05:59.180361Z",
     "iopub.status.idle": "2022-10-24T01:05:59.183140Z",
     "shell.execute_reply": "2022-10-24T01:05:59.183820Z"
    },
    "papermill": {
     "duration": 0.047385,
     "end_time": "2022-10-24T01:05:59.183978",
     "exception": false,
     "start_time": "2022-10-24T01:05:59.136593",
     "status": "completed"
    },
    "tags": []
   },
   "outputs": [],
   "source": [
    "#hide\n",
    "# g.head()"
   ]
  },
  {
   "cell_type": "code",
   "execution_count": 26,
   "id": "specific-kruger",
   "metadata": {
    "execution": {
     "iopub.execute_input": "2022-10-24T01:05:59.266056Z",
     "iopub.status.busy": "2022-10-24T01:05:59.265236Z",
     "iopub.status.idle": "2022-10-24T01:05:59.269457Z",
     "shell.execute_reply": "2022-10-24T01:05:59.270586Z"
    },
    "papermill": {
     "duration": 0.04822,
     "end_time": "2022-10-24T01:05:59.270723",
     "exception": false,
     "start_time": "2022-10-24T01:05:59.222503",
     "status": "completed"
    },
    "tags": []
   },
   "outputs": [],
   "source": [
    "#hide\n",
    "# g.columns = ['date','country','cases']"
   ]
  },
  {
   "cell_type": "code",
   "execution_count": 27,
   "id": "tender-conversion",
   "metadata": {
    "execution": {
     "iopub.execute_input": "2022-10-24T01:05:59.358953Z",
     "iopub.status.busy": "2022-10-24T01:05:59.356868Z",
     "iopub.status.idle": "2022-10-24T01:05:59.359908Z",
     "shell.execute_reply": "2022-10-24T01:05:59.360483Z"
    },
    "papermill": {
     "duration": 0.051437,
     "end_time": "2022-10-24T01:05:59.360642",
     "exception": false,
     "start_time": "2022-10-24T01:05:59.309205",
     "status": "completed"
    },
    "tags": []
   },
   "outputs": [],
   "source": [
    "#hide\n",
    "# g['continent'] = g.country"
   ]
  },
  {
   "cell_type": "code",
   "execution_count": 28,
   "id": "substantial-wilderness",
   "metadata": {
    "execution": {
     "iopub.execute_input": "2022-10-24T01:05:59.445694Z",
     "iopub.status.busy": "2022-10-24T01:05:59.444909Z",
     "iopub.status.idle": "2022-10-24T01:05:59.449144Z",
     "shell.execute_reply": "2022-10-24T01:05:59.449785Z"
    },
    "papermill": {
     "duration": 0.049139,
     "end_time": "2022-10-24T01:05:59.449933",
     "exception": false,
     "start_time": "2022-10-24T01:05:59.400794",
     "status": "completed"
    },
    "tags": []
   },
   "outputs": [],
   "source": [
    "#hide\n",
    "# cols = list(g.columns.values)"
   ]
  },
  {
   "cell_type": "code",
   "execution_count": 29,
   "id": "solved-farming",
   "metadata": {
    "execution": {
     "iopub.execute_input": "2022-10-24T01:05:59.533325Z",
     "iopub.status.busy": "2022-10-24T01:05:59.532641Z",
     "iopub.status.idle": "2022-10-24T01:05:59.536015Z",
     "shell.execute_reply": "2022-10-24T01:05:59.535113Z"
    },
    "papermill": {
     "duration": 0.045707,
     "end_time": "2022-10-24T01:05:59.536143",
     "exception": false,
     "start_time": "2022-10-24T01:05:59.490436",
     "status": "completed"
    },
    "tags": []
   },
   "outputs": [],
   "source": [
    "#hide\n",
    "# cols.insert(0, cols.pop())"
   ]
  },
  {
   "cell_type": "code",
   "execution_count": 30,
   "id": "executed-adoption",
   "metadata": {
    "execution": {
     "iopub.execute_input": "2022-10-24T01:05:59.617452Z",
     "iopub.status.busy": "2022-10-24T01:05:59.616695Z",
     "iopub.status.idle": "2022-10-24T01:05:59.619967Z",
     "shell.execute_reply": "2022-10-24T01:05:59.619351Z"
    },
    "papermill": {
     "duration": 0.044262,
     "end_time": "2022-10-24T01:05:59.620100",
     "exception": false,
     "start_time": "2022-10-24T01:05:59.575838",
     "status": "completed"
    },
    "tags": []
   },
   "outputs": [],
   "source": [
    "#hide\n",
    "# g = g[cols]"
   ]
  },
  {
   "cell_type": "code",
   "execution_count": 31,
   "id": "subject-dublin",
   "metadata": {
    "execution": {
     "iopub.execute_input": "2022-10-24T01:05:59.702293Z",
     "iopub.status.busy": "2022-10-24T01:05:59.701557Z",
     "iopub.status.idle": "2022-10-24T01:05:59.704725Z",
     "shell.execute_reply": "2022-10-24T01:05:59.704062Z"
    },
    "papermill": {
     "duration": 0.044677,
     "end_time": "2022-10-24T01:05:59.704848",
     "exception": false,
     "start_time": "2022-10-24T01:05:59.660171",
     "status": "completed"
    },
    "tags": []
   },
   "outputs": [],
   "source": [
    "#hide\n",
    "# g['continent'] = g['continent'].map(mapping['map.continent'])"
   ]
  },
  {
   "cell_type": "code",
   "execution_count": 32,
   "id": "freelance-scout",
   "metadata": {
    "execution": {
     "iopub.execute_input": "2022-10-24T01:05:59.784282Z",
     "iopub.status.busy": "2022-10-24T01:05:59.783535Z",
     "iopub.status.idle": "2022-10-24T01:05:59.786677Z",
     "shell.execute_reply": "2022-10-24T01:05:59.786116Z"
    },
    "papermill": {
     "duration": 0.044991,
     "end_time": "2022-10-24T01:05:59.786827",
     "exception": false,
     "start_time": "2022-10-24T01:05:59.741836",
     "status": "completed"
    },
    "tags": []
   },
   "outputs": [],
   "source": [
    "#hide\n",
    "# g.head()"
   ]
  },
  {
   "cell_type": "code",
   "execution_count": 33,
   "id": "limited-engine",
   "metadata": {
    "execution": {
     "iopub.execute_input": "2022-10-24T01:05:59.867055Z",
     "iopub.status.busy": "2022-10-24T01:05:59.866274Z",
     "iopub.status.idle": "2022-10-24T01:05:59.869704Z",
     "shell.execute_reply": "2022-10-24T01:05:59.869049Z"
    },
    "papermill": {
     "duration": 0.045833,
     "end_time": "2022-10-24T01:05:59.869868",
     "exception": false,
     "start_time": "2022-10-24T01:05:59.824035",
     "status": "completed"
    },
    "tags": []
   },
   "outputs": [],
   "source": [
    "# hide\n",
    "# g['date'] = g['date'].astype('datetime64[ns]')"
   ]
  },
  {
   "cell_type": "code",
   "execution_count": 34,
   "id": "sophisticated-supervisor",
   "metadata": {
    "execution": {
     "iopub.execute_input": "2022-10-24T01:05:59.948077Z",
     "iopub.status.busy": "2022-10-24T01:05:59.947280Z",
     "iopub.status.idle": "2022-10-24T01:05:59.950639Z",
     "shell.execute_reply": "2022-10-24T01:05:59.950090Z"
    },
    "papermill": {
     "duration": 0.043033,
     "end_time": "2022-10-24T01:05:59.950752",
     "exception": false,
     "start_time": "2022-10-24T01:05:59.907719",
     "status": "completed"
    },
    "tags": []
   },
   "outputs": [],
   "source": [
    "#hide\n",
    "# g['date'] = g.date.dt.dayofyear"
   ]
  },
  {
   "cell_type": "code",
   "execution_count": 35,
   "id": "inside-dubai",
   "metadata": {
    "execution": {
     "iopub.execute_input": "2022-10-24T01:06:00.030384Z",
     "iopub.status.busy": "2022-10-24T01:06:00.029600Z",
     "iopub.status.idle": "2022-10-24T01:06:00.032773Z",
     "shell.execute_reply": "2022-10-24T01:06:00.032181Z"
    },
    "papermill": {
     "duration": 0.043309,
     "end_time": "2022-10-24T01:06:00.032898",
     "exception": false,
     "start_time": "2022-10-24T01:05:59.989589",
     "status": "completed"
    },
    "tags": []
   },
   "outputs": [],
   "source": [
    "#hide\n",
    "# g = g.rename(columns= {'continent':'group','country':'name','cases':'value'})"
   ]
  },
  {
   "cell_type": "code",
   "execution_count": 36,
   "id": "fleet-motorcycle",
   "metadata": {
    "execution": {
     "iopub.execute_input": "2022-10-24T01:06:00.120004Z",
     "iopub.status.busy": "2022-10-24T01:06:00.119186Z",
     "iopub.status.idle": "2022-10-24T01:06:00.123562Z",
     "shell.execute_reply": "2022-10-24T01:06:00.122837Z"
    },
    "papermill": {
     "duration": 0.047964,
     "end_time": "2022-10-24T01:06:00.123700",
     "exception": false,
     "start_time": "2022-10-24T01:06:00.075736",
     "status": "completed"
    },
    "tags": []
   },
   "outputs": [],
   "source": [
    "#hide\n",
    "# cols = ['name','group','day','value']"
   ]
  },
  {
   "cell_type": "code",
   "execution_count": 37,
   "id": "continued-sleeping",
   "metadata": {
    "execution": {
     "iopub.execute_input": "2022-10-24T01:06:00.204821Z",
     "iopub.status.busy": "2022-10-24T01:06:00.204053Z",
     "iopub.status.idle": "2022-10-24T01:06:00.208473Z",
     "shell.execute_reply": "2022-10-24T01:06:00.209081Z"
    },
    "papermill": {
     "duration": 0.046252,
     "end_time": "2022-10-24T01:06:00.209271",
     "exception": false,
     "start_time": "2022-10-24T01:06:00.163019",
     "status": "completed"
    },
    "tags": []
   },
   "outputs": [],
   "source": [
    "#hide\n",
    "# g.rename(columns= {'date':'day'},inplace = True)"
   ]
  },
  {
   "cell_type": "code",
   "execution_count": 38,
   "id": "major-fight",
   "metadata": {
    "execution": {
     "iopub.execute_input": "2022-10-24T01:06:00.291793Z",
     "iopub.status.busy": "2022-10-24T01:06:00.290909Z",
     "iopub.status.idle": "2022-10-24T01:06:00.294235Z",
     "shell.execute_reply": "2022-10-24T01:06:00.293635Z"
    },
    "papermill": {
     "duration": 0.046719,
     "end_time": "2022-10-24T01:06:00.294355",
     "exception": false,
     "start_time": "2022-10-24T01:06:00.247636",
     "status": "completed"
    },
    "tags": []
   },
   "outputs": [],
   "source": [
    "#hide\n",
    "# g = g[cols]"
   ]
  },
  {
   "cell_type": "code",
   "execution_count": 39,
   "id": "structured-mobile",
   "metadata": {
    "execution": {
     "iopub.execute_input": "2022-10-24T01:06:00.378990Z",
     "iopub.status.busy": "2022-10-24T01:06:00.377779Z",
     "iopub.status.idle": "2022-10-24T01:06:00.381039Z",
     "shell.execute_reply": "2022-10-24T01:06:00.380279Z"
    },
    "papermill": {
     "duration": 0.049358,
     "end_time": "2022-10-24T01:06:00.381173",
     "exception": false,
     "start_time": "2022-10-24T01:06:00.331815",
     "status": "completed"
    },
    "tags": []
   },
   "outputs": [],
   "source": [
    "# #hide\n",
    "# g = g[g.group.notna()]"
   ]
  },
  {
   "cell_type": "code",
   "execution_count": 40,
   "id": "determined-closing",
   "metadata": {
    "execution": {
     "iopub.execute_input": "2022-10-24T01:06:00.464674Z",
     "iopub.status.busy": "2022-10-24T01:06:00.463888Z",
     "iopub.status.idle": "2022-10-24T01:06:00.467193Z",
     "shell.execute_reply": "2022-10-24T01:06:00.467802Z"
    },
    "papermill": {
     "duration": 0.047572,
     "end_time": "2022-10-24T01:06:00.467978",
     "exception": false,
     "start_time": "2022-10-24T01:06:00.420406",
     "status": "completed"
    },
    "tags": []
   },
   "outputs": [],
   "source": [
    "# #hide\n",
    "# colors = dict(zip(\n",
    "#     [\"Oceania\", \"Europe\", \"Asia\", \"South America\", \"Middle East\", \"North America\", \"Africa\"],\n",
    "#     [\"#adb0ff\", \"#ffb3ff\", \"#90d595\", \"#e48381\", \"#aafbff\", \"#f7bb5f\", \"#eafb50\"]\n",
    "# ))\n",
    "# group_lk = g.set_index('name')['group'].to_dict()"
   ]
  },
  {
   "cell_type": "code",
   "execution_count": null,
   "id": "gross-drinking",
   "metadata": {
    "papermill": {
     "duration": 0.038073,
     "end_time": "2022-10-24T01:06:00.545357",
     "exception": false,
     "start_time": "2022-10-24T01:06:00.507284",
     "status": "completed"
    },
    "tags": []
   },
   "outputs": [],
   "source": []
  },
  {
   "cell_type": "code",
   "execution_count": 41,
   "id": "subject-macintosh",
   "metadata": {
    "execution": {
     "iopub.execute_input": "2022-10-24T01:06:00.624704Z",
     "iopub.status.busy": "2022-10-24T01:06:00.623852Z",
     "iopub.status.idle": "2022-10-24T01:06:00.628927Z",
     "shell.execute_reply": "2022-10-24T01:06:00.628311Z"
    },
    "papermill": {
     "duration": 0.046633,
     "end_time": "2022-10-24T01:06:00.629045",
     "exception": false,
     "start_time": "2022-10-24T01:06:00.582412",
     "status": "completed"
    },
    "tags": []
   },
   "outputs": [],
   "source": [
    "# #hide\n",
    "# fig, ax = plt.subplots(figsize=(15, 8))\n",
    "\n",
    "# def draw_barchart(current_day):\n",
    "#     dff = g[g['day'].eq(current_day)].sort_values(by='value', ascending=True).tail(10)\n",
    "#     ax.clear()\n",
    "#     ax.barh(dff['name'], dff['value'], color=[colors[group_lk[x]] for x in dff['name']])\n",
    "#     dx = dff['value'].max() / 200\n",
    "    \n",
    "#     for i, (value, name) in enumerate(zip(dff['value'], dff['name'])):\n",
    "#         ax.text(value-dx, i,     name,           size=14, weight=600, ha='right', va='bottom')\n",
    "#         ax.text(value-dx, i-.25, group_lk[name], size=10, color='#444444', ha='right', va='baseline')\n",
    "#         ax.text(value+dx, i,     f'{value:,.0f}',  size=14, ha='left',  va='center')\n",
    "#     ax.text(1, 0.4, current_day, transform=ax.transAxes, color='#777777', size=46, ha='right', weight=800)\n",
    "#     ax.text(0, 1.06, 'Population (thousands)', transform=ax.transAxes, size=12, color='#777777')\n",
    "#     ax.xaxis.set_major_formatter(ticker.StrMethodFormatter('{x:,.0f}'))\n",
    "#     ax.xaxis.set_ticks_position('top')\n",
    "#     ax.tick_params(axis='x', colors='#777777', labelsize=12)\n",
    "#     ax.set_yticks([])\n",
    "#     ax.margins(0, 0.01)\n",
    "#     ax.grid(which='major', axis='x', linestyle='-')\n",
    "#     ax.set_axisbelow(True)\n",
    "    \n",
    "#     ax.text(0, 1.15, 'Coronavirus',\n",
    "#             transform=ax.transAxes, size=24, weight=600, ha='left', va='top')\n",
    "# #     ax.text(1, 0, 'by @pratapvardhan; credit @jburnmurdoch', transform=ax.transAxes, color='#777777', ha='right',\n",
    "# #             bbox=dict(facecolor='white', alpha=0.8, edgecolor='white'))\n",
    "#     plt.box(False)"
   ]
  },
  {
   "cell_type": "code",
   "execution_count": 42,
   "id": "sexual-wages",
   "metadata": {
    "execution": {
     "iopub.execute_input": "2022-10-24T01:06:00.710284Z",
     "iopub.status.busy": "2022-10-24T01:06:00.709532Z",
     "iopub.status.idle": "2022-10-24T01:06:00.712711Z",
     "shell.execute_reply": "2022-10-24T01:06:00.712108Z"
    },
    "papermill": {
     "duration": 0.046886,
     "end_time": "2022-10-24T01:06:00.712838",
     "exception": false,
     "start_time": "2022-10-24T01:06:00.665952",
     "status": "completed"
    },
    "tags": []
   },
   "outputs": [],
   "source": [
    "# #hide_input\n",
    "# fig, ax = plt.subplots(figsize=(15, 8))\n",
    "# animator = animation.FuncAnimation(fig, draw_barchart, frames=range(g.day.values.min(), g.day.values.max()))\n",
    "# HTML(animator.to_jshtml())\n",
    "# # or use animator.to_html5_video() or animator.save() "
   ]
  },
  {
   "cell_type": "code",
   "execution_count": null,
   "id": "australian-container",
   "metadata": {
    "papermill": {
     "duration": 0.040625,
     "end_time": "2022-10-24T01:06:00.794659",
     "exception": false,
     "start_time": "2022-10-24T01:06:00.754034",
     "status": "completed"
    },
    "tags": []
   },
   "outputs": [],
   "source": []
  },
  {
   "cell_type": "code",
   "execution_count": null,
   "id": "mediterranean-pontiac",
   "metadata": {
    "papermill": {
     "duration": 0.03712,
     "end_time": "2022-10-24T01:06:00.871585",
     "exception": false,
     "start_time": "2022-10-24T01:06:00.834465",
     "status": "completed"
    },
    "tags": []
   },
   "outputs": [],
   "source": []
  },
  {
   "cell_type": "code",
   "execution_count": null,
   "id": "aging-legislature",
   "metadata": {
    "papermill": {
     "duration": 0.03811,
     "end_time": "2022-10-24T01:06:00.946190",
     "exception": false,
     "start_time": "2022-10-24T01:06:00.908080",
     "status": "completed"
    },
    "tags": []
   },
   "outputs": [],
   "source": []
  }
 ],
 "metadata": {
  "kernelspec": {
   "display_name": "Python 3",
   "language": "python",
   "name": "python3"
  },
  "language_info": {
   "codemirror_mode": {
    "name": "ipython",
    "version": 3
   },
   "file_extension": ".py",
   "mimetype": "text/x-python",
   "name": "python",
   "nbconvert_exporter": "python",
   "pygments_lexer": "ipython3",
   "version": "3.6.15"
  },
  "papermill": {
   "duration": 7.322274,
   "end_time": "2022-10-24T01:06:01.303861",
   "environment_variables": {},
   "exception": null,
   "input_path": "2020-03-21-covid19exp.ipynb",
   "output_path": "2020-03-21-covid19exp.ipynb",
   "parameters": {},
   "start_time": "2022-10-24T01:05:53.981587",
   "version": "2.0.0"
  }
 },
 "nbformat": 4,
 "nbformat_minor": 5
}