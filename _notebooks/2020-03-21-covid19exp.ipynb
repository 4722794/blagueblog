{
 "cells": [
  {
   "cell_type": "markdown",
   "id": "muslim-click",
   "metadata": {
    "papermill": {
     "duration": 0.036499,
     "end_time": "2021-10-10T12:10:22.531701",
     "exception": false,
     "start_time": "2021-10-10T12:10:22.495202",
     "status": "completed"
    },
    "tags": []
   },
   "source": [
    "# COVID-19 Case Race\n",
    "> A race chart to see rising cases around the world\n",
    "\n",
    "- author: Hargun Oberoi\n",
    "- image: images/covid-overview.png\n",
    "- hide: false\n",
    "- badges: false"
   ]
  },
  {
   "cell_type": "code",
   "execution_count": 1,
   "id": "proof-material",
   "metadata": {
    "execution": {
     "iopub.execute_input": "2021-10-10T12:10:22.610622Z",
     "iopub.status.busy": "2021-10-10T12:10:22.608491Z",
     "iopub.status.idle": "2021-10-10T12:10:22.981074Z",
     "shell.execute_reply": "2021-10-10T12:10:22.978275Z"
    },
    "papermill": {
     "duration": 0.415271,
     "end_time": "2021-10-10T12:10:22.981223",
     "exception": false,
     "start_time": "2021-10-10T12:10:22.565952",
     "status": "completed"
    },
    "tags": []
   },
   "outputs": [],
   "source": [
    "#hide\n",
    "import numpy as np\n",
    "import pandas as pd\n",
    "from jinja2 import Template\n",
    "from IPython.display import HTML"
   ]
  },
  {
   "cell_type": "code",
   "execution_count": 2,
   "id": "developed-terminology",
   "metadata": {
    "execution": {
     "iopub.execute_input": "2021-10-10T12:10:23.057180Z",
     "iopub.status.busy": "2021-10-10T12:10:23.056542Z",
     "iopub.status.idle": "2021-10-10T12:10:23.062095Z",
     "shell.execute_reply": "2021-10-10T12:10:23.060572Z"
    },
    "papermill": {
     "duration": 0.045063,
     "end_time": "2021-10-10T12:10:23.062234",
     "exception": false,
     "start_time": "2021-10-10T12:10:23.017171",
     "status": "completed"
    },
    "tags": []
   },
   "outputs": [],
   "source": [
    "#hide\n",
    "\n",
    "# FETCH\n",
    "base_url = 'https://raw.githubusercontent.com/pratapvardhan/notebooks/master/covid19/'\n",
    "paths = {\n",
    "    'mapping': base_url + 'mapping_countries.csv',\n",
    "    'overview': base_url + 'overview.tpl'\n",
    "}"
   ]
  },
  {
   "cell_type": "code",
   "execution_count": 3,
   "id": "dynamic-saver",
   "metadata": {
    "execution": {
     "iopub.execute_input": "2021-10-10T12:10:23.147593Z",
     "iopub.status.busy": "2021-10-10T12:10:23.146860Z",
     "iopub.status.idle": "2021-10-10T12:10:23.150406Z",
     "shell.execute_reply": "2021-10-10T12:10:23.149908Z"
    },
    "papermill": {
     "duration": 0.050906,
     "end_time": "2021-10-10T12:10:23.150518",
     "exception": false,
     "start_time": "2021-10-10T12:10:23.099612",
     "status": "completed"
    },
    "tags": []
   },
   "outputs": [
    {
     "data": {
      "text/plain": [
       "'https://raw.githubusercontent.com/pratapvardhan/notebooks/master/covid19/mapping_countries.csv'"
      ]
     },
     "execution_count": 3,
     "metadata": {},
     "output_type": "execute_result"
    }
   ],
   "source": [
    "#hide\n",
    "paths['mapping']"
   ]
  },
  {
   "cell_type": "code",
   "execution_count": 4,
   "id": "urban-software",
   "metadata": {
    "execution": {
     "iopub.execute_input": "2021-10-10T12:10:23.228966Z",
     "iopub.status.busy": "2021-10-10T12:10:23.228402Z",
     "iopub.status.idle": "2021-10-10T12:10:23.230960Z",
     "shell.execute_reply": "2021-10-10T12:10:23.230413Z"
    },
    "papermill": {
     "duration": 0.044184,
     "end_time": "2021-10-10T12:10:23.231063",
     "exception": false,
     "start_time": "2021-10-10T12:10:23.186879",
     "status": "completed"
    },
    "tags": []
   },
   "outputs": [],
   "source": [
    "#hide\n",
    "def get_mappings(url):\n",
    "    df = pd.read_csv(url)\n",
    "    return {\n",
    "        'df': df,\n",
    "        'replace.country': dict(df.dropna(subset=['Name']).set_index('Country')['Name']),\n",
    "        'map.continent': dict(df.set_index('Name')['Continent'])\n",
    "    }"
   ]
  },
  {
   "cell_type": "code",
   "execution_count": 5,
   "id": "intimate-machinery",
   "metadata": {
    "execution": {
     "iopub.execute_input": "2021-10-10T12:10:23.309611Z",
     "iopub.status.busy": "2021-10-10T12:10:23.308921Z",
     "iopub.status.idle": "2021-10-10T12:10:23.347715Z",
     "shell.execute_reply": "2021-10-10T12:10:23.348244Z"
    },
    "papermill": {
     "duration": 0.081173,
     "end_time": "2021-10-10T12:10:23.348394",
     "exception": false,
     "start_time": "2021-10-10T12:10:23.267221",
     "status": "completed"
    },
    "tags": []
   },
   "outputs": [],
   "source": [
    "#hide\n",
    "mapping = get_mappings(paths['mapping'])"
   ]
  },
  {
   "cell_type": "code",
   "execution_count": 6,
   "id": "certified-tactics",
   "metadata": {
    "execution": {
     "iopub.execute_input": "2021-10-10T12:10:23.426352Z",
     "iopub.status.busy": "2021-10-10T12:10:23.425728Z",
     "iopub.status.idle": "2021-10-10T12:10:23.428231Z",
     "shell.execute_reply": "2021-10-10T12:10:23.428699Z"
    },
    "papermill": {
     "duration": 0.044306,
     "end_time": "2021-10-10T12:10:23.428819",
     "exception": false,
     "start_time": "2021-10-10T12:10:23.384513",
     "status": "completed"
    },
    "tags": []
   },
   "outputs": [],
   "source": [
    "#hide\n",
    "def get_template(path):\n",
    "    from urllib.parse import urlparse\n",
    "    if bool(urlparse(path).netloc):\n",
    "        from urllib.request import urlopen\n",
    "        return urlopen(path).read().decode('utf8')\n",
    "    return open(path).read()"
   ]
  },
  {
   "cell_type": "code",
   "execution_count": 7,
   "id": "realistic-blast",
   "metadata": {
    "execution": {
     "iopub.execute_input": "2021-10-10T12:10:23.506336Z",
     "iopub.status.busy": "2021-10-10T12:10:23.505684Z",
     "iopub.status.idle": "2021-10-10T12:10:23.508060Z",
     "shell.execute_reply": "2021-10-10T12:10:23.508566Z"
    },
    "papermill": {
     "duration": 0.044289,
     "end_time": "2021-10-10T12:10:23.508692",
     "exception": false,
     "start_time": "2021-10-10T12:10:23.464403",
     "status": "completed"
    },
    "tags": []
   },
   "outputs": [],
   "source": [
    "#hide\n",
    "def get_frame(name):\n",
    "    url = (\n",
    "        'https://raw.githubusercontent.com/CSSEGISandData/COVID-19/master/csse_covid_19_data/'\n",
    "        f'csse_covid_19_time_series/time_series_covid19_{name}_global.csv')\n",
    "    df = pd.read_csv(url)\n",
    "    # rename countries\n",
    "    df['Country/Region'] = df['Country/Region'].replace(mapping['replace.country'])\n",
    "    return df"
   ]
  },
  {
   "cell_type": "code",
   "execution_count": 8,
   "id": "affiliated-characterization",
   "metadata": {
    "execution": {
     "iopub.execute_input": "2021-10-10T12:10:23.585880Z",
     "iopub.status.busy": "2021-10-10T12:10:23.585289Z",
     "iopub.status.idle": "2021-10-10T12:10:23.587336Z",
     "shell.execute_reply": "2021-10-10T12:10:23.587890Z"
    },
    "papermill": {
     "duration": 0.044473,
     "end_time": "2021-10-10T12:10:23.588011",
     "exception": false,
     "start_time": "2021-10-10T12:10:23.543538",
     "status": "completed"
    },
    "tags": []
   },
   "outputs": [],
   "source": [
    "#hide\n",
    "def get_dates(df):\n",
    "    dt_cols = df.columns[~df.columns.isin(['Province/State', 'Country/Region', 'Lat', 'Long'])]\n",
    "    LAST_DATE_I = -1\n",
    "    # sometimes last column may be empty, then go backwards\n",
    "    for i in range(-1, -len(dt_cols), -1):\n",
    "        if not df[dt_cols[i]].fillna(0).eq(0).all():\n",
    "            LAST_DATE_I = i\n",
    "            break\n",
    "    return LAST_DATE_I, dt_cols"
   ]
  },
  {
   "cell_type": "code",
   "execution_count": 9,
   "id": "recent-optimization",
   "metadata": {
    "execution": {
     "iopub.execute_input": "2021-10-10T12:10:23.665792Z",
     "iopub.status.busy": "2021-10-10T12:10:23.665015Z",
     "iopub.status.idle": "2021-10-10T12:10:24.047083Z",
     "shell.execute_reply": "2021-10-10T12:10:24.046540Z"
    },
    "papermill": {
     "duration": 0.422504,
     "end_time": "2021-10-10T12:10:24.047232",
     "exception": false,
     "start_time": "2021-10-10T12:10:23.624728",
     "status": "completed"
    },
    "tags": []
   },
   "outputs": [],
   "source": [
    "#hide\n",
    "COL_REGION = 'Country/Region'\n",
    "# Confirmed, Recovered, Deaths\n",
    "df = get_frame('confirmed')\n",
    "# dft_: timeseries, dfc_: today country agg\n",
    "dft_cases = df\n",
    "dft_deaths = get_frame('deaths')\n",
    "dft_recovered = get_frame('recovered')\n",
    "LAST_DATE_I, dt_cols = get_dates(df)"
   ]
  },
  {
   "cell_type": "code",
   "execution_count": 10,
   "id": "absolute-copper",
   "metadata": {
    "execution": {
     "iopub.execute_input": "2021-10-10T12:10:24.126947Z",
     "iopub.status.busy": "2021-10-10T12:10:24.126280Z",
     "iopub.status.idle": "2021-10-10T12:10:24.129354Z",
     "shell.execute_reply": "2021-10-10T12:10:24.128768Z"
    },
    "papermill": {
     "duration": 0.044079,
     "end_time": "2021-10-10T12:10:24.129457",
     "exception": false,
     "start_time": "2021-10-10T12:10:24.085378",
     "status": "completed"
    },
    "tags": []
   },
   "outputs": [],
   "source": [
    "#hide\n",
    "LAST_DATE_I, dt_cols = get_dates(df)\n",
    "dt_today =dt_cols[LAST_DATE_I]\n",
    "# dt_5day = dt_cols[LAST_DATE_I - 5]\n",
    "dt_yday = dt_cols[LAST_DATE_I - 1]"
   ]
  },
  {
   "cell_type": "code",
   "execution_count": 11,
   "id": "restricted-sheriff",
   "metadata": {
    "execution": {
     "iopub.execute_input": "2021-10-10T12:10:24.207228Z",
     "iopub.status.busy": "2021-10-10T12:10:24.206597Z",
     "iopub.status.idle": "2021-10-10T12:10:24.215648Z",
     "shell.execute_reply": "2021-10-10T12:10:24.216259Z"
    },
    "papermill": {
     "duration": 0.050542,
     "end_time": "2021-10-10T12:10:24.216409",
     "exception": false,
     "start_time": "2021-10-10T12:10:24.165867",
     "status": "completed"
    },
    "tags": []
   },
   "outputs": [],
   "source": [
    "#hide\n",
    "dfc_cases = dft_cases.groupby(COL_REGION)[dt_today].sum()\n",
    "dfc_deaths = dft_deaths.groupby(COL_REGION)[dt_today].sum()\n",
    "# dfp_cases = dft_cases.groupby(COL_REGION)[dt_5day].sum()\n",
    "# dfp_deaths = dft_deaths.groupby(COL_REGION)[dt_5day].sum()\n",
    "dfp_cases = dft_cases.groupby(COL_REGION)[dt_yday].sum()\n",
    "dfp_deaths = dft_deaths.groupby(COL_REGION)[dt_yday].sum()"
   ]
  },
  {
   "cell_type": "code",
   "execution_count": 12,
   "id": "deluxe-hepatitis",
   "metadata": {
    "execution": {
     "iopub.execute_input": "2021-10-10T12:10:24.289603Z",
     "iopub.status.busy": "2021-10-10T12:10:24.289060Z",
     "iopub.status.idle": "2021-10-10T12:10:24.293843Z",
     "shell.execute_reply": "2021-10-10T12:10:24.294391Z"
    },
    "papermill": {
     "duration": 0.0439,
     "end_time": "2021-10-10T12:10:24.294500",
     "exception": false,
     "start_time": "2021-10-10T12:10:24.250600",
     "status": "completed"
    },
    "tags": []
   },
   "outputs": [],
   "source": [
    "#hide\n",
    "df_table = (pd.DataFrame(dict(Cases = dfc_cases, Deaths = dfc_deaths, PCases = dfp_cases, PDeaths = dfp_deaths))\n",
    "            .sort_values(by = ['Cases','Deaths'], ascending = [False, False])\n",
    "            .reset_index())"
   ]
  },
  {
   "cell_type": "code",
   "execution_count": 13,
   "id": "educational-chancellor",
   "metadata": {
    "execution": {
     "iopub.execute_input": "2021-10-10T12:10:24.380128Z",
     "iopub.status.busy": "2021-10-10T12:10:24.375109Z",
     "iopub.status.idle": "2021-10-10T12:10:24.389143Z",
     "shell.execute_reply": "2021-10-10T12:10:24.388689Z"
    },
    "papermill": {
     "duration": 0.060234,
     "end_time": "2021-10-10T12:10:24.389245",
     "exception": false,
     "start_time": "2021-10-10T12:10:24.329011",
     "status": "completed"
    },
    "tags": []
   },
   "outputs": [
    {
     "data": {
      "text/html": [
       "<div>\n",
       "<style scoped>\n",
       "    .dataframe tbody tr th:only-of-type {\n",
       "        vertical-align: middle;\n",
       "    }\n",
       "\n",
       "    .dataframe tbody tr th {\n",
       "        vertical-align: top;\n",
       "    }\n",
       "\n",
       "    .dataframe thead th {\n",
       "        text-align: right;\n",
       "    }\n",
       "</style>\n",
       "<table border=\"1\" class=\"dataframe\">\n",
       "  <thead>\n",
       "    <tr style=\"text-align: right;\">\n",
       "      <th></th>\n",
       "      <th>Country/Region</th>\n",
       "      <th>Cases</th>\n",
       "      <th>Deaths</th>\n",
       "      <th>PCases</th>\n",
       "      <th>PDeaths</th>\n",
       "      <th>Cases (+)</th>\n",
       "      <th>Deaths (+)</th>\n",
       "      <th>Fatality Rate</th>\n",
       "      <th>Continent</th>\n",
       "    </tr>\n",
       "  </thead>\n",
       "  <tbody>\n",
       "    <tr>\n",
       "      <th>0</th>\n",
       "      <td>US</td>\n",
       "      <td>44317553</td>\n",
       "      <td>712972</td>\n",
       "      <td>44290052</td>\n",
       "      <td>712693</td>\n",
       "      <td>27501</td>\n",
       "      <td>279</td>\n",
       "      <td>1.61</td>\n",
       "      <td>North America</td>\n",
       "    </tr>\n",
       "    <tr>\n",
       "      <th>1</th>\n",
       "      <td>India</td>\n",
       "      <td>33953475</td>\n",
       "      <td>450589</td>\n",
       "      <td>33935309</td>\n",
       "      <td>450375</td>\n",
       "      <td>18166</td>\n",
       "      <td>214</td>\n",
       "      <td>1.33</td>\n",
       "      <td>Asia</td>\n",
       "    </tr>\n",
       "    <tr>\n",
       "      <th>2</th>\n",
       "      <td>Brazil</td>\n",
       "      <td>21567181</td>\n",
       "      <td>600829</td>\n",
       "      <td>21550730</td>\n",
       "      <td>600425</td>\n",
       "      <td>16451</td>\n",
       "      <td>404</td>\n",
       "      <td>2.79</td>\n",
       "      <td>South America</td>\n",
       "    </tr>\n",
       "    <tr>\n",
       "      <th>3</th>\n",
       "      <td>United Kingdom</td>\n",
       "      <td>8158935</td>\n",
       "      <td>138101</td>\n",
       "      <td>8119442</td>\n",
       "      <td>137945</td>\n",
       "      <td>39493</td>\n",
       "      <td>156</td>\n",
       "      <td>1.69</td>\n",
       "      <td>Europe</td>\n",
       "    </tr>\n",
       "    <tr>\n",
       "      <th>4</th>\n",
       "      <td>Russia</td>\n",
       "      <td>7631034</td>\n",
       "      <td>211627</td>\n",
       "      <td>7602386</td>\n",
       "      <td>210673</td>\n",
       "      <td>28648</td>\n",
       "      <td>954</td>\n",
       "      <td>2.77</td>\n",
       "      <td>Europe</td>\n",
       "    </tr>\n",
       "  </tbody>\n",
       "</table>\n",
       "</div>"
      ],
      "text/plain": [
       "   Country/Region     Cases  Deaths    PCases  PDeaths  Cases (+)  Deaths (+)  \\\n",
       "0              US  44317553  712972  44290052   712693      27501         279   \n",
       "1           India  33953475  450589  33935309   450375      18166         214   \n",
       "2          Brazil  21567181  600829  21550730   600425      16451         404   \n",
       "3  United Kingdom   8158935  138101   8119442   137945      39493         156   \n",
       "4          Russia   7631034  211627   7602386   210673      28648         954   \n",
       "\n",
       "   Fatality Rate      Continent  \n",
       "0           1.61  North America  \n",
       "1           1.33           Asia  \n",
       "2           2.79  South America  \n",
       "3           1.69         Europe  \n",
       "4           2.77         Europe  "
      ]
     },
     "execution_count": 13,
     "metadata": {},
     "output_type": "execute_result"
    }
   ],
   "source": [
    "#hide\n",
    "for c in 'Cases, Deaths'.split(', '):\n",
    "    df_table[f'{c} (+)'] = (df_table[c] - df_table[f'P{c}']).clip(0)\n",
    "    #Clip ça veut dire, les chiffres negatif sont interdit\n",
    "df_table['Fatality Rate'] = (100* df_table['Deaths']/ df_table['Cases']).round(2)\n",
    "df_table['Continent'] = df_table['Country/Region'].map(mapping['map.continent'])\n",
    "df_table.head(5)"
   ]
  },
  {
   "cell_type": "code",
   "execution_count": 14,
   "id": "aboriginal-bulgaria",
   "metadata": {
    "execution": {
     "iopub.execute_input": "2021-10-10T12:10:24.468314Z",
     "iopub.status.busy": "2021-10-10T12:10:24.467674Z",
     "iopub.status.idle": "2021-10-10T12:10:24.471109Z",
     "shell.execute_reply": "2021-10-10T12:10:24.470618Z"
    },
    "papermill": {
     "duration": 0.046701,
     "end_time": "2021-10-10T12:10:24.471222",
     "exception": false,
     "start_time": "2021-10-10T12:10:24.424521",
     "status": "completed"
    },
    "tags": []
   },
   "outputs": [],
   "source": [
    "#hide\n",
    "#delete problematic countries from table\n",
    "df_table = df_table[~df_table['Country/Region'].isin(['Cape Verde', 'Cruise Ship', 'Kosovo'])]"
   ]
  },
  {
   "cell_type": "code",
   "execution_count": 15,
   "id": "fantastic-effect",
   "metadata": {
    "execution": {
     "iopub.execute_input": "2021-10-10T12:10:24.554519Z",
     "iopub.status.busy": "2021-10-10T12:10:24.553689Z",
     "iopub.status.idle": "2021-10-10T12:10:24.574745Z",
     "shell.execute_reply": "2021-10-10T12:10:24.575247Z"
    },
    "papermill": {
     "duration": 0.067011,
     "end_time": "2021-10-10T12:10:24.575368",
     "exception": false,
     "start_time": "2021-10-10T12:10:24.508357",
     "status": "completed"
    },
    "tags": []
   },
   "outputs": [
    {
     "data": {
      "text/html": [
       "<div>\n",
       "<style scoped>\n",
       "    .dataframe tbody tr th:only-of-type {\n",
       "        vertical-align: middle;\n",
       "    }\n",
       "\n",
       "    .dataframe tbody tr th {\n",
       "        vertical-align: top;\n",
       "    }\n",
       "\n",
       "    .dataframe thead th {\n",
       "        text-align: right;\n",
       "    }\n",
       "</style>\n",
       "<table border=\"1\" class=\"dataframe\">\n",
       "  <thead>\n",
       "    <tr style=\"text-align: right;\">\n",
       "      <th></th>\n",
       "      <th>Country/Region</th>\n",
       "      <th>Cases</th>\n",
       "      <th>Deaths</th>\n",
       "      <th>PCases</th>\n",
       "      <th>PDeaths</th>\n",
       "      <th>Cases (+)</th>\n",
       "      <th>Deaths (+)</th>\n",
       "      <th>Fatality Rate</th>\n",
       "      <th>Continent</th>\n",
       "    </tr>\n",
       "  </thead>\n",
       "  <tbody>\n",
       "    <tr>\n",
       "      <th>0</th>\n",
       "      <td>US</td>\n",
       "      <td>44317553</td>\n",
       "      <td>712972</td>\n",
       "      <td>44290052</td>\n",
       "      <td>712693</td>\n",
       "      <td>27501</td>\n",
       "      <td>279</td>\n",
       "      <td>1.6</td>\n",
       "      <td>North America</td>\n",
       "    </tr>\n",
       "    <tr>\n",
       "      <th>1</th>\n",
       "      <td>India</td>\n",
       "      <td>33953475</td>\n",
       "      <td>450589</td>\n",
       "      <td>33935309</td>\n",
       "      <td>450375</td>\n",
       "      <td>18166</td>\n",
       "      <td>214</td>\n",
       "      <td>1.3</td>\n",
       "      <td>Asia</td>\n",
       "    </tr>\n",
       "    <tr>\n",
       "      <th>2</th>\n",
       "      <td>Brazil</td>\n",
       "      <td>21567181</td>\n",
       "      <td>600829</td>\n",
       "      <td>21550730</td>\n",
       "      <td>600425</td>\n",
       "      <td>16451</td>\n",
       "      <td>404</td>\n",
       "      <td>2.8</td>\n",
       "      <td>South America</td>\n",
       "    </tr>\n",
       "    <tr>\n",
       "      <th>3</th>\n",
       "      <td>United Kingdom</td>\n",
       "      <td>8158935</td>\n",
       "      <td>138101</td>\n",
       "      <td>8119442</td>\n",
       "      <td>137945</td>\n",
       "      <td>39493</td>\n",
       "      <td>156</td>\n",
       "      <td>1.7</td>\n",
       "      <td>Europe</td>\n",
       "    </tr>\n",
       "    <tr>\n",
       "      <th>4</th>\n",
       "      <td>Russia</td>\n",
       "      <td>7631034</td>\n",
       "      <td>211627</td>\n",
       "      <td>7602386</td>\n",
       "      <td>210673</td>\n",
       "      <td>28648</td>\n",
       "      <td>954</td>\n",
       "      <td>2.8</td>\n",
       "      <td>Europe</td>\n",
       "    </tr>\n",
       "  </tbody>\n",
       "</table>\n",
       "</div>"
      ],
      "text/plain": [
       "   Country/Region     Cases  Deaths    PCases  PDeaths  Cases (+)  Deaths (+)  \\\n",
       "0              US  44317553  712972  44290052   712693      27501         279   \n",
       "1           India  33953475  450589  33935309   450375      18166         214   \n",
       "2          Brazil  21567181  600829  21550730   600425      16451         404   \n",
       "3  United Kingdom   8158935  138101   8119442   137945      39493         156   \n",
       "4          Russia   7631034  211627   7602386   210673      28648         954   \n",
       "\n",
       "   Fatality Rate      Continent  \n",
       "0            1.6  North America  \n",
       "1            1.3           Asia  \n",
       "2            2.8  South America  \n",
       "3            1.7         Europe  \n",
       "4            2.8         Europe  "
      ]
     },
     "execution_count": 15,
     "metadata": {},
     "output_type": "execute_result"
    }
   ],
   "source": [
    "#hide\n",
    "df_table = (pd.DataFrame(dict(Cases=dfc_cases, Deaths=dfc_deaths, PCases=dfp_cases, PDeaths=dfp_deaths))\n",
    "             .sort_values(by=['Cases', 'Deaths'], ascending=[False, False])\n",
    "             .reset_index())\n",
    "df_table.rename(columns={'index': 'Country/Region'}, inplace=True)\n",
    "for c in 'Cases, Deaths'.split(', '):\n",
    "    df_table[f'{c} (+)'] = (df_table[c] - df_table[f'P{c}']).clip(0)  # DATA BUG\n",
    "df_table['Fatality Rate'] = (100 * df_table['Deaths'] / df_table['Cases']).round(1)\n",
    "df_table['Continent'] = df_table['Country/Region'].map(mapping['map.continent'])\n",
    "df_table.head(5)"
   ]
  },
  {
   "cell_type": "code",
   "execution_count": 16,
   "id": "fewer-occasion",
   "metadata": {
    "execution": {
     "iopub.execute_input": "2021-10-10T12:10:24.651715Z",
     "iopub.status.busy": "2021-10-10T12:10:24.651097Z",
     "iopub.status.idle": "2021-10-10T12:10:24.653544Z",
     "shell.execute_reply": "2021-10-10T12:10:24.654047Z"
    },
    "papermill": {
     "duration": 0.043889,
     "end_time": "2021-10-10T12:10:24.654180",
     "exception": false,
     "start_time": "2021-10-10T12:10:24.610291",
     "status": "completed"
    },
    "tags": []
   },
   "outputs": [],
   "source": [
    "#hide\n",
    "#delete problematic countries from table\n",
    "df_table = df_table[~df_table['Country/Region'].isin(['Cape Verde', 'Cruise Ship', 'Kosovo'])]"
   ]
  },
  {
   "cell_type": "code",
   "execution_count": 17,
   "id": "related-center",
   "metadata": {
    "execution": {
     "iopub.execute_input": "2021-10-10T12:10:24.740058Z",
     "iopub.status.busy": "2021-10-10T12:10:24.739367Z",
     "iopub.status.idle": "2021-10-10T12:10:24.750235Z",
     "shell.execute_reply": "2021-10-10T12:10:24.749722Z"
    },
    "papermill": {
     "duration": 0.060289,
     "end_time": "2021-10-10T12:10:24.750335",
     "exception": false,
     "start_time": "2021-10-10T12:10:24.690046",
     "status": "completed"
    },
    "tags": []
   },
   "outputs": [],
   "source": [
    "#hide\n",
    "metrics = [df_table.columns[index] for index in [1,2,5,6]]\n",
    "# s_china = df_table[df_table['Country/Region'].eq('China')][metrics].sum().add_prefix('China ')\n",
    "s_us = df_table[df_table['Country/Region'].eq('US')][metrics].sum().add_prefix('US ')\n",
    "s_eu = df_table[df_table['Continent'].eq('Europe')][metrics].sum().add_prefix('EU ')\n",
    "s_ind = df_table[df_table['Country/Region'].eq('India')][metrics].sum().add_prefix('India ')\n",
    "summary = {'updated': pd.to_datetime(dt_today), 'since': pd.to_datetime(dt_yday)}\n",
    "summary = {'updated': pd.to_datetime(dt_today), 'since': pd.to_datetime(dt_yday)}\n",
    "summary = {**summary, **df_table[metrics].sum(), **s_ind, **s_us, **s_eu}"
   ]
  },
  {
   "cell_type": "code",
   "execution_count": 18,
   "id": "engaging-syndrome",
   "metadata": {
    "execution": {
     "iopub.execute_input": "2021-10-10T12:10:24.825233Z",
     "iopub.status.busy": "2021-10-10T12:10:24.824653Z",
     "iopub.status.idle": "2021-10-10T12:10:24.839481Z",
     "shell.execute_reply": "2021-10-10T12:10:24.838984Z"
    },
    "papermill": {
     "duration": 0.053818,
     "end_time": "2021-10-10T12:10:24.839682",
     "exception": false,
     "start_time": "2021-10-10T12:10:24.785864",
     "status": "completed"
    },
    "tags": []
   },
   "outputs": [],
   "source": [
    "#hide\n",
    "dft_ct_new_cases = dft_cases.groupby(COL_REGION)[dt_cols].sum().diff(axis=1).fillna(0).astype(int)"
   ]
  },
  {
   "cell_type": "code",
   "execution_count": 19,
   "id": "neutral-assignment",
   "metadata": {
    "execution": {
     "iopub.execute_input": "2021-10-10T12:10:24.914632Z",
     "iopub.status.busy": "2021-10-10T12:10:24.913983Z",
     "iopub.status.idle": "2021-10-10T12:10:24.916745Z",
     "shell.execute_reply": "2021-10-10T12:10:24.916243Z"
    },
    "papermill": {
     "duration": 0.042556,
     "end_time": "2021-10-10T12:10:24.916844",
     "exception": false,
     "start_time": "2021-10-10T12:10:24.874288",
     "status": "completed"
    },
    "tags": []
   },
   "outputs": [],
   "source": [
    "#hide\n",
    "everydaycases = dft_ct_new_cases.cumsum(axis=1)"
   ]
  },
  {
   "cell_type": "code",
   "execution_count": 20,
   "id": "parliamentary-calgary",
   "metadata": {
    "execution": {
     "iopub.execute_input": "2021-10-10T12:10:24.996744Z",
     "iopub.status.busy": "2021-10-10T12:10:24.996132Z",
     "iopub.status.idle": "2021-10-10T12:10:25.576423Z",
     "shell.execute_reply": "2021-10-10T12:10:25.575924Z"
    },
    "papermill": {
     "duration": 0.622348,
     "end_time": "2021-10-10T12:10:25.576553",
     "exception": false,
     "start_time": "2021-10-10T12:10:24.954205",
     "status": "completed"
    },
    "tags": []
   },
   "outputs": [],
   "source": [
    "#hide\n",
    "import pandas as pd\n",
    "import matplotlib.pyplot as plt\n",
    "import matplotlib.ticker as ticker\n",
    "import matplotlib.animation as animation\n",
    "from IPython.display import HTML"
   ]
  },
  {
   "cell_type": "code",
   "execution_count": 21,
   "id": "lasting-extraction",
   "metadata": {
    "execution": {
     "iopub.execute_input": "2021-10-10T12:10:25.658725Z",
     "iopub.status.busy": "2021-10-10T12:10:25.658095Z",
     "iopub.status.idle": "2021-10-10T12:10:25.663671Z",
     "shell.execute_reply": "2021-10-10T12:10:25.663096Z"
    },
    "papermill": {
     "duration": 0.049115,
     "end_time": "2021-10-10T12:10:25.663774",
     "exception": false,
     "start_time": "2021-10-10T12:10:25.614659",
     "status": "completed"
    },
    "tags": []
   },
   "outputs": [],
   "source": [
    "#hide\n",
    "t = everydaycases.stack()"
   ]
  },
  {
   "cell_type": "code",
   "execution_count": 22,
   "id": "premier-sleeve",
   "metadata": {
    "execution": {
     "iopub.execute_input": "2021-10-10T12:10:25.734414Z",
     "iopub.status.busy": "2021-10-10T12:10:25.733811Z",
     "iopub.status.idle": "2021-10-10T12:10:25.744495Z",
     "shell.execute_reply": "2021-10-10T12:10:25.743960Z"
    },
    "papermill": {
     "duration": 0.046282,
     "end_time": "2021-10-10T12:10:25.744595",
     "exception": false,
     "start_time": "2021-10-10T12:10:25.698313",
     "status": "completed"
    },
    "tags": []
   },
   "outputs": [],
   "source": [
    "#hide\n",
    "g = t.reset_index(['Country/Region'])"
   ]
  },
  {
   "cell_type": "code",
   "execution_count": 23,
   "id": "distributed-pittsburgh",
   "metadata": {
    "execution": {
     "iopub.execute_input": "2021-10-10T12:10:25.817281Z",
     "iopub.status.busy": "2021-10-10T12:10:25.816596Z",
     "iopub.status.idle": "2021-10-10T12:10:25.818509Z",
     "shell.execute_reply": "2021-10-10T12:10:25.819046Z"
    },
    "papermill": {
     "duration": 0.040596,
     "end_time": "2021-10-10T12:10:25.819162",
     "exception": false,
     "start_time": "2021-10-10T12:10:25.778566",
     "status": "completed"
    },
    "tags": []
   },
   "outputs": [],
   "source": [
    "#hide\n",
    "g.index.name = 'date'"
   ]
  },
  {
   "cell_type": "code",
   "execution_count": 24,
   "id": "naked-donor",
   "metadata": {
    "execution": {
     "iopub.execute_input": "2021-10-10T12:10:25.891810Z",
     "iopub.status.busy": "2021-10-10T12:10:25.891121Z",
     "iopub.status.idle": "2021-10-10T12:10:25.893100Z",
     "shell.execute_reply": "2021-10-10T12:10:25.893653Z"
    },
    "papermill": {
     "duration": 0.040007,
     "end_time": "2021-10-10T12:10:25.893766",
     "exception": false,
     "start_time": "2021-10-10T12:10:25.853759",
     "status": "completed"
    },
    "tags": []
   },
   "outputs": [],
   "source": [
    "# #hide\n",
    "# g = g.reset_index(['date'])"
   ]
  },
  {
   "cell_type": "code",
   "execution_count": 25,
   "id": "incomplete-mustang",
   "metadata": {
    "execution": {
     "iopub.execute_input": "2021-10-10T12:10:25.966540Z",
     "iopub.status.busy": "2021-10-10T12:10:25.965786Z",
     "iopub.status.idle": "2021-10-10T12:10:25.968421Z",
     "shell.execute_reply": "2021-10-10T12:10:25.967916Z"
    },
    "papermill": {
     "duration": 0.040183,
     "end_time": "2021-10-10T12:10:25.968563",
     "exception": false,
     "start_time": "2021-10-10T12:10:25.928380",
     "status": "completed"
    },
    "tags": []
   },
   "outputs": [],
   "source": [
    "#hide\n",
    "# g.head()"
   ]
  },
  {
   "cell_type": "code",
   "execution_count": 26,
   "id": "specific-kruger",
   "metadata": {
    "execution": {
     "iopub.execute_input": "2021-10-10T12:10:26.043369Z",
     "iopub.status.busy": "2021-10-10T12:10:26.042755Z",
     "iopub.status.idle": "2021-10-10T12:10:26.046817Z",
     "shell.execute_reply": "2021-10-10T12:10:26.047273Z"
    },
    "papermill": {
     "duration": 0.043714,
     "end_time": "2021-10-10T12:10:26.047393",
     "exception": false,
     "start_time": "2021-10-10T12:10:26.003679",
     "status": "completed"
    },
    "tags": []
   },
   "outputs": [],
   "source": [
    "#hide\n",
    "# g.columns = ['date','country','cases']"
   ]
  },
  {
   "cell_type": "code",
   "execution_count": 27,
   "id": "tender-conversion",
   "metadata": {
    "execution": {
     "iopub.execute_input": "2021-10-10T12:10:26.124012Z",
     "iopub.status.busy": "2021-10-10T12:10:26.123285Z",
     "iopub.status.idle": "2021-10-10T12:10:26.125359Z",
     "shell.execute_reply": "2021-10-10T12:10:26.126002Z"
    },
    "papermill": {
     "duration": 0.040482,
     "end_time": "2021-10-10T12:10:26.126144",
     "exception": false,
     "start_time": "2021-10-10T12:10:26.085662",
     "status": "completed"
    },
    "tags": []
   },
   "outputs": [],
   "source": [
    "#hide\n",
    "# g['continent'] = g.country"
   ]
  },
  {
   "cell_type": "code",
   "execution_count": 28,
   "id": "substantial-wilderness",
   "metadata": {
    "execution": {
     "iopub.execute_input": "2021-10-10T12:10:26.202344Z",
     "iopub.status.busy": "2021-10-10T12:10:26.201532Z",
     "iopub.status.idle": "2021-10-10T12:10:26.203894Z",
     "shell.execute_reply": "2021-10-10T12:10:26.204360Z"
    },
    "papermill": {
     "duration": 0.041645,
     "end_time": "2021-10-10T12:10:26.204474",
     "exception": false,
     "start_time": "2021-10-10T12:10:26.162829",
     "status": "completed"
    },
    "tags": []
   },
   "outputs": [],
   "source": [
    "#hide\n",
    "# cols = list(g.columns.values)"
   ]
  },
  {
   "cell_type": "code",
   "execution_count": 29,
   "id": "solved-farming",
   "metadata": {
    "execution": {
     "iopub.execute_input": "2021-10-10T12:10:26.277060Z",
     "iopub.status.busy": "2021-10-10T12:10:26.276531Z",
     "iopub.status.idle": "2021-10-10T12:10:26.278921Z",
     "shell.execute_reply": "2021-10-10T12:10:26.278485Z"
    },
    "papermill": {
     "duration": 0.039337,
     "end_time": "2021-10-10T12:10:26.279019",
     "exception": false,
     "start_time": "2021-10-10T12:10:26.239682",
     "status": "completed"
    },
    "tags": []
   },
   "outputs": [],
   "source": [
    "#hide\n",
    "# cols.insert(0, cols.pop())"
   ]
  },
  {
   "cell_type": "code",
   "execution_count": 30,
   "id": "executed-adoption",
   "metadata": {
    "execution": {
     "iopub.execute_input": "2021-10-10T12:10:26.350767Z",
     "iopub.status.busy": "2021-10-10T12:10:26.350171Z",
     "iopub.status.idle": "2021-10-10T12:10:26.352809Z",
     "shell.execute_reply": "2021-10-10T12:10:26.352161Z"
    },
    "papermill": {
     "duration": 0.039684,
     "end_time": "2021-10-10T12:10:26.352908",
     "exception": false,
     "start_time": "2021-10-10T12:10:26.313224",
     "status": "completed"
    },
    "tags": []
   },
   "outputs": [],
   "source": [
    "#hide\n",
    "# g = g[cols]"
   ]
  },
  {
   "cell_type": "code",
   "execution_count": 31,
   "id": "subject-dublin",
   "metadata": {
    "execution": {
     "iopub.execute_input": "2021-10-10T12:10:26.424356Z",
     "iopub.status.busy": "2021-10-10T12:10:26.423651Z",
     "iopub.status.idle": "2021-10-10T12:10:26.426430Z",
     "shell.execute_reply": "2021-10-10T12:10:26.425845Z"
    },
    "papermill": {
     "duration": 0.040034,
     "end_time": "2021-10-10T12:10:26.426563",
     "exception": false,
     "start_time": "2021-10-10T12:10:26.386529",
     "status": "completed"
    },
    "tags": []
   },
   "outputs": [],
   "source": [
    "#hide\n",
    "# g['continent'] = g['continent'].map(mapping['map.continent'])"
   ]
  },
  {
   "cell_type": "code",
   "execution_count": 32,
   "id": "freelance-scout",
   "metadata": {
    "execution": {
     "iopub.execute_input": "2021-10-10T12:10:26.502348Z",
     "iopub.status.busy": "2021-10-10T12:10:26.501700Z",
     "iopub.status.idle": "2021-10-10T12:10:26.503898Z",
     "shell.execute_reply": "2021-10-10T12:10:26.504375Z"
    },
    "papermill": {
     "duration": 0.041611,
     "end_time": "2021-10-10T12:10:26.504522",
     "exception": false,
     "start_time": "2021-10-10T12:10:26.462911",
     "status": "completed"
    },
    "tags": []
   },
   "outputs": [],
   "source": [
    "#hide\n",
    "# g.head()"
   ]
  },
  {
   "cell_type": "code",
   "execution_count": 33,
   "id": "limited-engine",
   "metadata": {
    "execution": {
     "iopub.execute_input": "2021-10-10T12:10:26.578033Z",
     "iopub.status.busy": "2021-10-10T12:10:26.577311Z",
     "iopub.status.idle": "2021-10-10T12:10:26.579942Z",
     "shell.execute_reply": "2021-10-10T12:10:26.579394Z"
    },
    "papermill": {
     "duration": 0.03987,
     "end_time": "2021-10-10T12:10:26.580041",
     "exception": false,
     "start_time": "2021-10-10T12:10:26.540171",
     "status": "completed"
    },
    "tags": []
   },
   "outputs": [],
   "source": [
    "# hide\n",
    "# g['date'] = g['date'].astype('datetime64[ns]')"
   ]
  },
  {
   "cell_type": "code",
   "execution_count": 34,
   "id": "sophisticated-supervisor",
   "metadata": {
    "execution": {
     "iopub.execute_input": "2021-10-10T12:10:26.665088Z",
     "iopub.status.busy": "2021-10-10T12:10:26.664469Z",
     "iopub.status.idle": "2021-10-10T12:10:26.667180Z",
     "shell.execute_reply": "2021-10-10T12:10:26.666572Z"
    },
    "papermill": {
     "duration": 0.046028,
     "end_time": "2021-10-10T12:10:26.667362",
     "exception": false,
     "start_time": "2021-10-10T12:10:26.621334",
     "status": "completed"
    },
    "tags": []
   },
   "outputs": [],
   "source": [
    "#hide\n",
    "# g['date'] = g.date.dt.dayofyear"
   ]
  },
  {
   "cell_type": "code",
   "execution_count": 35,
   "id": "inside-dubai",
   "metadata": {
    "execution": {
     "iopub.execute_input": "2021-10-10T12:10:26.743029Z",
     "iopub.status.busy": "2021-10-10T12:10:26.742355Z",
     "iopub.status.idle": "2021-10-10T12:10:26.744340Z",
     "shell.execute_reply": "2021-10-10T12:10:26.744932Z"
    },
    "papermill": {
     "duration": 0.041215,
     "end_time": "2021-10-10T12:10:26.745046",
     "exception": false,
     "start_time": "2021-10-10T12:10:26.703831",
     "status": "completed"
    },
    "tags": []
   },
   "outputs": [],
   "source": [
    "#hide\n",
    "# g = g.rename(columns= {'continent':'group','country':'name','cases':'value'})"
   ]
  },
  {
   "cell_type": "code",
   "execution_count": 36,
   "id": "fleet-motorcycle",
   "metadata": {
    "execution": {
     "iopub.execute_input": "2021-10-10T12:10:26.816804Z",
     "iopub.status.busy": "2021-10-10T12:10:26.816183Z",
     "iopub.status.idle": "2021-10-10T12:10:26.818499Z",
     "shell.execute_reply": "2021-10-10T12:10:26.818942Z"
    },
    "papermill": {
     "duration": 0.039602,
     "end_time": "2021-10-10T12:10:26.819056",
     "exception": false,
     "start_time": "2021-10-10T12:10:26.779454",
     "status": "completed"
    },
    "tags": []
   },
   "outputs": [],
   "source": [
    "#hide\n",
    "# cols = ['name','group','day','value']"
   ]
  },
  {
   "cell_type": "code",
   "execution_count": 37,
   "id": "continued-sleeping",
   "metadata": {
    "execution": {
     "iopub.execute_input": "2021-10-10T12:10:26.890687Z",
     "iopub.status.busy": "2021-10-10T12:10:26.889669Z",
     "iopub.status.idle": "2021-10-10T12:10:26.891915Z",
     "shell.execute_reply": "2021-10-10T12:10:26.892440Z"
    },
    "papermill": {
     "duration": 0.03946,
     "end_time": "2021-10-10T12:10:26.892598",
     "exception": false,
     "start_time": "2021-10-10T12:10:26.853138",
     "status": "completed"
    },
    "tags": []
   },
   "outputs": [],
   "source": [
    "#hide\n",
    "# g.rename(columns= {'date':'day'},inplace = True)"
   ]
  },
  {
   "cell_type": "code",
   "execution_count": 38,
   "id": "major-fight",
   "metadata": {
    "execution": {
     "iopub.execute_input": "2021-10-10T12:10:26.966104Z",
     "iopub.status.busy": "2021-10-10T12:10:26.965497Z",
     "iopub.status.idle": "2021-10-10T12:10:26.967572Z",
     "shell.execute_reply": "2021-10-10T12:10:26.968308Z"
    },
    "papermill": {
     "duration": 0.041271,
     "end_time": "2021-10-10T12:10:26.968472",
     "exception": false,
     "start_time": "2021-10-10T12:10:26.927201",
     "status": "completed"
    },
    "tags": []
   },
   "outputs": [],
   "source": [
    "#hide\n",
    "# g = g[cols]"
   ]
  },
  {
   "cell_type": "code",
   "execution_count": 39,
   "id": "structured-mobile",
   "metadata": {
    "execution": {
     "iopub.execute_input": "2021-10-10T12:10:27.044532Z",
     "iopub.status.busy": "2021-10-10T12:10:27.043835Z",
     "iopub.status.idle": "2021-10-10T12:10:27.046203Z",
     "shell.execute_reply": "2021-10-10T12:10:27.045561Z"
    },
    "papermill": {
     "duration": 0.041201,
     "end_time": "2021-10-10T12:10:27.046305",
     "exception": false,
     "start_time": "2021-10-10T12:10:27.005104",
     "status": "completed"
    },
    "tags": []
   },
   "outputs": [],
   "source": [
    "# #hide\n",
    "# g = g[g.group.notna()]"
   ]
  },
  {
   "cell_type": "code",
   "execution_count": 40,
   "id": "determined-closing",
   "metadata": {
    "execution": {
     "iopub.execute_input": "2021-10-10T12:10:27.132711Z",
     "iopub.status.busy": "2021-10-10T12:10:27.131925Z",
     "iopub.status.idle": "2021-10-10T12:10:27.134050Z",
     "shell.execute_reply": "2021-10-10T12:10:27.134601Z"
    },
    "papermill": {
     "duration": 0.042733,
     "end_time": "2021-10-10T12:10:27.134719",
     "exception": false,
     "start_time": "2021-10-10T12:10:27.091986",
     "status": "completed"
    },
    "tags": []
   },
   "outputs": [],
   "source": [
    "# #hide\n",
    "# colors = dict(zip(\n",
    "#     [\"Oceania\", \"Europe\", \"Asia\", \"South America\", \"Middle East\", \"North America\", \"Africa\"],\n",
    "#     [\"#adb0ff\", \"#ffb3ff\", \"#90d595\", \"#e48381\", \"#aafbff\", \"#f7bb5f\", \"#eafb50\"]\n",
    "# ))\n",
    "# group_lk = g.set_index('name')['group'].to_dict()"
   ]
  },
  {
   "cell_type": "code",
   "execution_count": null,
   "id": "gross-drinking",
   "metadata": {
    "papermill": {
     "duration": 0.036412,
     "end_time": "2021-10-10T12:10:27.207609",
     "exception": false,
     "start_time": "2021-10-10T12:10:27.171197",
     "status": "completed"
    },
    "tags": []
   },
   "outputs": [],
   "source": []
  },
  {
   "cell_type": "code",
   "execution_count": 41,
   "id": "subject-macintosh",
   "metadata": {
    "execution": {
     "iopub.execute_input": "2021-10-10T12:10:27.283713Z",
     "iopub.status.busy": "2021-10-10T12:10:27.282655Z",
     "iopub.status.idle": "2021-10-10T12:10:27.284813Z",
     "shell.execute_reply": "2021-10-10T12:10:27.285388Z"
    },
    "papermill": {
     "duration": 0.041558,
     "end_time": "2021-10-10T12:10:27.285513",
     "exception": false,
     "start_time": "2021-10-10T12:10:27.243955",
     "status": "completed"
    },
    "tags": []
   },
   "outputs": [],
   "source": [
    "# #hide\n",
    "# fig, ax = plt.subplots(figsize=(15, 8))\n",
    "\n",
    "# def draw_barchart(current_day):\n",
    "#     dff = g[g['day'].eq(current_day)].sort_values(by='value', ascending=True).tail(10)\n",
    "#     ax.clear()\n",
    "#     ax.barh(dff['name'], dff['value'], color=[colors[group_lk[x]] for x in dff['name']])\n",
    "#     dx = dff['value'].max() / 200\n",
    "    \n",
    "#     for i, (value, name) in enumerate(zip(dff['value'], dff['name'])):\n",
    "#         ax.text(value-dx, i,     name,           size=14, weight=600, ha='right', va='bottom')\n",
    "#         ax.text(value-dx, i-.25, group_lk[name], size=10, color='#444444', ha='right', va='baseline')\n",
    "#         ax.text(value+dx, i,     f'{value:,.0f}',  size=14, ha='left',  va='center')\n",
    "#     ax.text(1, 0.4, current_day, transform=ax.transAxes, color='#777777', size=46, ha='right', weight=800)\n",
    "#     ax.text(0, 1.06, 'Population (thousands)', transform=ax.transAxes, size=12, color='#777777')\n",
    "#     ax.xaxis.set_major_formatter(ticker.StrMethodFormatter('{x:,.0f}'))\n",
    "#     ax.xaxis.set_ticks_position('top')\n",
    "#     ax.tick_params(axis='x', colors='#777777', labelsize=12)\n",
    "#     ax.set_yticks([])\n",
    "#     ax.margins(0, 0.01)\n",
    "#     ax.grid(which='major', axis='x', linestyle='-')\n",
    "#     ax.set_axisbelow(True)\n",
    "    \n",
    "#     ax.text(0, 1.15, 'Coronavirus',\n",
    "#             transform=ax.transAxes, size=24, weight=600, ha='left', va='top')\n",
    "# #     ax.text(1, 0, 'by @pratapvardhan; credit @jburnmurdoch', transform=ax.transAxes, color='#777777', ha='right',\n",
    "# #             bbox=dict(facecolor='white', alpha=0.8, edgecolor='white'))\n",
    "#     plt.box(False)"
   ]
  },
  {
   "cell_type": "code",
   "execution_count": 42,
   "id": "sexual-wages",
   "metadata": {
    "execution": {
     "iopub.execute_input": "2021-10-10T12:10:27.359450Z",
     "iopub.status.busy": "2021-10-10T12:10:27.358759Z",
     "iopub.status.idle": "2021-10-10T12:10:27.360939Z",
     "shell.execute_reply": "2021-10-10T12:10:27.361450Z"
    },
    "papermill": {
     "duration": 0.041085,
     "end_time": "2021-10-10T12:10:27.361576",
     "exception": false,
     "start_time": "2021-10-10T12:10:27.320491",
     "status": "completed"
    },
    "tags": []
   },
   "outputs": [],
   "source": [
    "# #hide_input\n",
    "# fig, ax = plt.subplots(figsize=(15, 8))\n",
    "# animator = animation.FuncAnimation(fig, draw_barchart, frames=range(g.day.values.min(), g.day.values.max()))\n",
    "# HTML(animator.to_jshtml())\n",
    "# # or use animator.to_html5_video() or animator.save() "
   ]
  },
  {
   "cell_type": "code",
   "execution_count": null,
   "id": "australian-container",
   "metadata": {
    "papermill": {
     "duration": 0.03474,
     "end_time": "2021-10-10T12:10:27.430194",
     "exception": false,
     "start_time": "2021-10-10T12:10:27.395454",
     "status": "completed"
    },
    "tags": []
   },
   "outputs": [],
   "source": []
  },
  {
   "cell_type": "code",
   "execution_count": null,
   "id": "mediterranean-pontiac",
   "metadata": {
    "papermill": {
     "duration": 0.035151,
     "end_time": "2021-10-10T12:10:27.504157",
     "exception": false,
     "start_time": "2021-10-10T12:10:27.469006",
     "status": "completed"
    },
    "tags": []
   },
   "outputs": [],
   "source": []
  },
  {
   "cell_type": "code",
   "execution_count": null,
   "id": "aging-legislature",
   "metadata": {
    "papermill": {
     "duration": 0.036162,
     "end_time": "2021-10-10T12:10:27.576448",
     "exception": false,
     "start_time": "2021-10-10T12:10:27.540286",
     "status": "completed"
    },
    "tags": []
   },
   "outputs": [],
   "source": []
  }
 ],
 "metadata": {
  "kernelspec": {
   "display_name": "Python 3",
   "language": "python",
   "name": "python3"
  },
  "language_info": {
   "codemirror_mode": {
    "name": "ipython",
    "version": 3
   },
   "file_extension": ".py",
   "mimetype": "text/x-python",
   "name": "python",
   "nbconvert_exporter": "python",
   "pygments_lexer": "ipython3",
   "version": "3.6.15"
  },
  "papermill": {
   "duration": 6.507057,
   "end_time": "2021-10-10T12:10:27.921396",
   "environment_variables": {},
   "exception": null,
   "input_path": "2020-03-21-covid19exp.ipynb",
   "output_path": "2020-03-21-covid19exp.ipynb",
   "parameters": {},
   "start_time": "2021-10-10T12:10:21.414339",
   "version": "2.0.0"
  }
 },
 "nbformat": 4,
 "nbformat_minor": 5
}