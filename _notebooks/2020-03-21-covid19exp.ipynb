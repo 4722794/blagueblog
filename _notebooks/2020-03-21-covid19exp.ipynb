{
 "cells": [
  {
   "cell_type": "markdown",
   "id": "muslim-click",
   "metadata": {
    "papermill": {
     "duration": 0.033021,
     "end_time": "2022-05-27T12:17:41.902898",
     "exception": false,
     "start_time": "2022-05-27T12:17:41.869877",
     "status": "completed"
    },
    "tags": []
   },
   "source": [
    "# COVID-19 Case Race\n",
    "> A race chart to see rising cases around the world\n",
    "\n",
    "- author: Hargun Oberoi\n",
    "- image: images/covid-overview.png\n",
    "- hide: false\n",
    "- badges: false"
   ]
  },
  {
   "cell_type": "code",
   "execution_count": 1,
   "id": "proof-material",
   "metadata": {
    "execution": {
     "iopub.execute_input": "2022-05-27T12:17:41.973691Z",
     "iopub.status.busy": "2022-05-27T12:17:41.973061Z",
     "iopub.status.idle": "2022-05-27T12:17:42.300844Z",
     "shell.execute_reply": "2022-05-27T12:17:42.300233Z"
    },
    "papermill": {
     "duration": 0.366861,
     "end_time": "2022-05-27T12:17:42.301001",
     "exception": false,
     "start_time": "2022-05-27T12:17:41.934140",
     "status": "completed"
    },
    "tags": []
   },
   "outputs": [],
   "source": [
    "#hide\n",
    "import numpy as np\n",
    "import pandas as pd\n",
    "from jinja2 import Template\n",
    "from IPython.display import HTML"
   ]
  },
  {
   "cell_type": "code",
   "execution_count": 2,
   "id": "developed-terminology",
   "metadata": {
    "execution": {
     "iopub.execute_input": "2022-05-27T12:17:42.365588Z",
     "iopub.status.busy": "2022-05-27T12:17:42.364985Z",
     "iopub.status.idle": "2022-05-27T12:17:42.367281Z",
     "shell.execute_reply": "2022-05-27T12:17:42.367824Z"
    },
    "papermill": {
     "duration": 0.036635,
     "end_time": "2022-05-27T12:17:42.367949",
     "exception": false,
     "start_time": "2022-05-27T12:17:42.331314",
     "status": "completed"
    },
    "tags": []
   },
   "outputs": [],
   "source": [
    "#hide\n",
    "\n",
    "# FETCH\n",
    "base_url = 'https://raw.githubusercontent.com/pratapvardhan/notebooks/master/covid19/'\n",
    "paths = {\n",
    "    'mapping': base_url + 'mapping_countries.csv',\n",
    "    'overview': base_url + 'overview.tpl'\n",
    "}"
   ]
  },
  {
   "cell_type": "code",
   "execution_count": 3,
   "id": "dynamic-saver",
   "metadata": {
    "execution": {
     "iopub.execute_input": "2022-05-27T12:17:42.435300Z",
     "iopub.status.busy": "2022-05-27T12:17:42.434731Z",
     "iopub.status.idle": "2022-05-27T12:17:42.438303Z",
     "shell.execute_reply": "2022-05-27T12:17:42.437827Z"
    },
    "papermill": {
     "duration": 0.041487,
     "end_time": "2022-05-27T12:17:42.438414",
     "exception": false,
     "start_time": "2022-05-27T12:17:42.396927",
     "status": "completed"
    },
    "tags": []
   },
   "outputs": [
    {
     "data": {
      "text/plain": [
       "'https://raw.githubusercontent.com/pratapvardhan/notebooks/master/covid19/mapping_countries.csv'"
      ]
     },
     "execution_count": 3,
     "metadata": {},
     "output_type": "execute_result"
    }
   ],
   "source": [
    "#hide\n",
    "paths['mapping']"
   ]
  },
  {
   "cell_type": "code",
   "execution_count": 4,
   "id": "urban-software",
   "metadata": {
    "execution": {
     "iopub.execute_input": "2022-05-27T12:17:42.503620Z",
     "iopub.status.busy": "2022-05-27T12:17:42.503045Z",
     "iopub.status.idle": "2022-05-27T12:17:42.505366Z",
     "shell.execute_reply": "2022-05-27T12:17:42.505810Z"
    },
    "papermill": {
     "duration": 0.038157,
     "end_time": "2022-05-27T12:17:42.505945",
     "exception": false,
     "start_time": "2022-05-27T12:17:42.467788",
     "status": "completed"
    },
    "tags": []
   },
   "outputs": [],
   "source": [
    "#hide\n",
    "def get_mappings(url):\n",
    "    df = pd.read_csv(url)\n",
    "    return {\n",
    "        'df': df,\n",
    "        'replace.country': dict(df.dropna(subset=['Name']).set_index('Country')['Name']),\n",
    "        'map.continent': dict(df.set_index('Name')['Continent'])\n",
    "    }"
   ]
  },
  {
   "cell_type": "code",
   "execution_count": 5,
   "id": "intimate-machinery",
   "metadata": {
    "execution": {
     "iopub.execute_input": "2022-05-27T12:17:42.570910Z",
     "iopub.status.busy": "2022-05-27T12:17:42.570337Z",
     "iopub.status.idle": "2022-05-27T12:17:42.618515Z",
     "shell.execute_reply": "2022-05-27T12:17:42.618005Z"
    },
    "papermill": {
     "duration": 0.08329,
     "end_time": "2022-05-27T12:17:42.618635",
     "exception": false,
     "start_time": "2022-05-27T12:17:42.535345",
     "status": "completed"
    },
    "tags": []
   },
   "outputs": [],
   "source": [
    "#hide\n",
    "mapping = get_mappings(paths['mapping'])"
   ]
  },
  {
   "cell_type": "code",
   "execution_count": 6,
   "id": "certified-tactics",
   "metadata": {
    "execution": {
     "iopub.execute_input": "2022-05-27T12:17:42.683271Z",
     "iopub.status.busy": "2022-05-27T12:17:42.682603Z",
     "iopub.status.idle": "2022-05-27T12:17:42.684983Z",
     "shell.execute_reply": "2022-05-27T12:17:42.684516Z"
    },
    "papermill": {
     "duration": 0.036891,
     "end_time": "2022-05-27T12:17:42.685095",
     "exception": false,
     "start_time": "2022-05-27T12:17:42.648204",
     "status": "completed"
    },
    "tags": []
   },
   "outputs": [],
   "source": [
    "#hide\n",
    "def get_template(path):\n",
    "    from urllib.parse import urlparse\n",
    "    if bool(urlparse(path).netloc):\n",
    "        from urllib.request import urlopen\n",
    "        return urlopen(path).read().decode('utf8')\n",
    "    return open(path).read()"
   ]
  },
  {
   "cell_type": "code",
   "execution_count": 7,
   "id": "realistic-blast",
   "metadata": {
    "execution": {
     "iopub.execute_input": "2022-05-27T12:17:42.748677Z",
     "iopub.status.busy": "2022-05-27T12:17:42.748111Z",
     "iopub.status.idle": "2022-05-27T12:17:42.750092Z",
     "shell.execute_reply": "2022-05-27T12:17:42.750636Z"
    },
    "papermill": {
     "duration": 0.036326,
     "end_time": "2022-05-27T12:17:42.750761",
     "exception": false,
     "start_time": "2022-05-27T12:17:42.714435",
     "status": "completed"
    },
    "tags": []
   },
   "outputs": [],
   "source": [
    "#hide\n",
    "def get_frame(name):\n",
    "    url = (\n",
    "        'https://raw.githubusercontent.com/CSSEGISandData/COVID-19/master/csse_covid_19_data/'\n",
    "        f'csse_covid_19_time_series/time_series_covid19_{name}_global.csv')\n",
    "    df = pd.read_csv(url)\n",
    "    # rename countries\n",
    "    df['Country/Region'] = df['Country/Region'].replace(mapping['replace.country'])\n",
    "    return df"
   ]
  },
  {
   "cell_type": "code",
   "execution_count": 8,
   "id": "affiliated-characterization",
   "metadata": {
    "execution": {
     "iopub.execute_input": "2022-05-27T12:17:42.815525Z",
     "iopub.status.busy": "2022-05-27T12:17:42.814864Z",
     "iopub.status.idle": "2022-05-27T12:17:42.816807Z",
     "shell.execute_reply": "2022-05-27T12:17:42.817227Z"
    },
    "papermill": {
     "duration": 0.037292,
     "end_time": "2022-05-27T12:17:42.817355",
     "exception": false,
     "start_time": "2022-05-27T12:17:42.780063",
     "status": "completed"
    },
    "tags": []
   },
   "outputs": [],
   "source": [
    "#hide\n",
    "def get_dates(df):\n",
    "    dt_cols = df.columns[~df.columns.isin(['Province/State', 'Country/Region', 'Lat', 'Long'])]\n",
    "    LAST_DATE_I = -1\n",
    "    # sometimes last column may be empty, then go backwards\n",
    "    for i in range(-1, -len(dt_cols), -1):\n",
    "        if not df[dt_cols[i]].fillna(0).eq(0).all():\n",
    "            LAST_DATE_I = i\n",
    "            break\n",
    "    return LAST_DATE_I, dt_cols"
   ]
  },
  {
   "cell_type": "code",
   "execution_count": 9,
   "id": "recent-optimization",
   "metadata": {
    "execution": {
     "iopub.execute_input": "2022-05-27T12:17:42.880489Z",
     "iopub.status.busy": "2022-05-27T12:17:42.879914Z",
     "iopub.status.idle": "2022-05-27T12:17:43.373735Z",
     "shell.execute_reply": "2022-05-27T12:17:43.373118Z"
    },
    "papermill": {
     "duration": 0.527133,
     "end_time": "2022-05-27T12:17:43.373899",
     "exception": false,
     "start_time": "2022-05-27T12:17:42.846766",
     "status": "completed"
    },
    "tags": []
   },
   "outputs": [],
   "source": [
    "#hide\n",
    "COL_REGION = 'Country/Region'\n",
    "# Confirmed, Recovered, Deaths\n",
    "df = get_frame('confirmed')\n",
    "# dft_: timeseries, dfc_: today country agg\n",
    "dft_cases = df\n",
    "dft_deaths = get_frame('deaths')\n",
    "dft_recovered = get_frame('recovered')\n",
    "LAST_DATE_I, dt_cols = get_dates(df)"
   ]
  },
  {
   "cell_type": "code",
   "execution_count": 10,
   "id": "absolute-copper",
   "metadata": {
    "execution": {
     "iopub.execute_input": "2022-05-27T12:17:43.438791Z",
     "iopub.status.busy": "2022-05-27T12:17:43.438221Z",
     "iopub.status.idle": "2022-05-27T12:17:43.440665Z",
     "shell.execute_reply": "2022-05-27T12:17:43.441085Z"
    },
    "papermill": {
     "duration": 0.037491,
     "end_time": "2022-05-27T12:17:43.441217",
     "exception": false,
     "start_time": "2022-05-27T12:17:43.403726",
     "status": "completed"
    },
    "tags": []
   },
   "outputs": [],
   "source": [
    "#hide\n",
    "LAST_DATE_I, dt_cols = get_dates(df)\n",
    "dt_today =dt_cols[LAST_DATE_I]\n",
    "# dt_5day = dt_cols[LAST_DATE_I - 5]\n",
    "dt_yday = dt_cols[LAST_DATE_I - 1]"
   ]
  },
  {
   "cell_type": "code",
   "execution_count": 11,
   "id": "restricted-sheriff",
   "metadata": {
    "execution": {
     "iopub.execute_input": "2022-05-27T12:17:43.505322Z",
     "iopub.status.busy": "2022-05-27T12:17:43.504746Z",
     "iopub.status.idle": "2022-05-27T12:17:43.512414Z",
     "shell.execute_reply": "2022-05-27T12:17:43.512895Z"
    },
    "papermill": {
     "duration": 0.042608,
     "end_time": "2022-05-27T12:17:43.513027",
     "exception": false,
     "start_time": "2022-05-27T12:17:43.470419",
     "status": "completed"
    },
    "tags": []
   },
   "outputs": [],
   "source": [
    "#hide\n",
    "dfc_cases = dft_cases.groupby(COL_REGION)[dt_today].sum()\n",
    "dfc_deaths = dft_deaths.groupby(COL_REGION)[dt_today].sum()\n",
    "# dfp_cases = dft_cases.groupby(COL_REGION)[dt_5day].sum()\n",
    "# dfp_deaths = dft_deaths.groupby(COL_REGION)[dt_5day].sum()\n",
    "dfp_cases = dft_cases.groupby(COL_REGION)[dt_yday].sum()\n",
    "dfp_deaths = dft_deaths.groupby(COL_REGION)[dt_yday].sum()"
   ]
  },
  {
   "cell_type": "code",
   "execution_count": 12,
   "id": "deluxe-hepatitis",
   "metadata": {
    "execution": {
     "iopub.execute_input": "2022-05-27T12:17:43.577442Z",
     "iopub.status.busy": "2022-05-27T12:17:43.576862Z",
     "iopub.status.idle": "2022-05-27T12:17:43.581689Z",
     "shell.execute_reply": "2022-05-27T12:17:43.582255Z"
    },
    "papermill": {
     "duration": 0.03986,
     "end_time": "2022-05-27T12:17:43.582384",
     "exception": false,
     "start_time": "2022-05-27T12:17:43.542524",
     "status": "completed"
    },
    "tags": []
   },
   "outputs": [],
   "source": [
    "#hide\n",
    "df_table = (pd.DataFrame(dict(Cases = dfc_cases, Deaths = dfc_deaths, PCases = dfp_cases, PDeaths = dfp_deaths))\n",
    "            .sort_values(by = ['Cases','Deaths'], ascending = [False, False])\n",
    "            .reset_index())"
   ]
  },
  {
   "cell_type": "code",
   "execution_count": 13,
   "id": "educational-chancellor",
   "metadata": {
    "execution": {
     "iopub.execute_input": "2022-05-27T12:17:43.652165Z",
     "iopub.status.busy": "2022-05-27T12:17:43.651577Z",
     "iopub.status.idle": "2022-05-27T12:17:43.666481Z",
     "shell.execute_reply": "2022-05-27T12:17:43.665823Z"
    },
    "papermill": {
     "duration": 0.054794,
     "end_time": "2022-05-27T12:17:43.666614",
     "exception": false,
     "start_time": "2022-05-27T12:17:43.611820",
     "status": "completed"
    },
    "tags": []
   },
   "outputs": [
    {
     "data": {
      "text/html": [
       "<div>\n",
       "<style scoped>\n",
       "    .dataframe tbody tr th:only-of-type {\n",
       "        vertical-align: middle;\n",
       "    }\n",
       "\n",
       "    .dataframe tbody tr th {\n",
       "        vertical-align: top;\n",
       "    }\n",
       "\n",
       "    .dataframe thead th {\n",
       "        text-align: right;\n",
       "    }\n",
       "</style>\n",
       "<table border=\"1\" class=\"dataframe\">\n",
       "  <thead>\n",
       "    <tr style=\"text-align: right;\">\n",
       "      <th></th>\n",
       "      <th>Country/Region</th>\n",
       "      <th>Cases</th>\n",
       "      <th>Deaths</th>\n",
       "      <th>PCases</th>\n",
       "      <th>PDeaths</th>\n",
       "      <th>Cases (+)</th>\n",
       "      <th>Deaths (+)</th>\n",
       "      <th>Fatality Rate</th>\n",
       "      <th>Continent</th>\n",
       "    </tr>\n",
       "  </thead>\n",
       "  <tbody>\n",
       "    <tr>\n",
       "      <th>0</th>\n",
       "      <td>US</td>\n",
       "      <td>83837114</td>\n",
       "      <td>1004121</td>\n",
       "      <td>83718160</td>\n",
       "      <td>1003783</td>\n",
       "      <td>118954</td>\n",
       "      <td>338</td>\n",
       "      <td>1.20</td>\n",
       "      <td>North America</td>\n",
       "    </tr>\n",
       "    <tr>\n",
       "      <th>1</th>\n",
       "      <td>India</td>\n",
       "      <td>43147530</td>\n",
       "      <td>524539</td>\n",
       "      <td>43144820</td>\n",
       "      <td>524525</td>\n",
       "      <td>2710</td>\n",
       "      <td>14</td>\n",
       "      <td>1.22</td>\n",
       "      <td>Asia</td>\n",
       "    </tr>\n",
       "    <tr>\n",
       "      <th>2</th>\n",
       "      <td>Brazil</td>\n",
       "      <td>30880512</td>\n",
       "      <td>666180</td>\n",
       "      <td>30851191</td>\n",
       "      <td>666261</td>\n",
       "      <td>29321</td>\n",
       "      <td>0</td>\n",
       "      <td>2.16</td>\n",
       "      <td>South America</td>\n",
       "    </tr>\n",
       "    <tr>\n",
       "      <th>3</th>\n",
       "      <td>France</td>\n",
       "      <td>29626992</td>\n",
       "      <td>149123</td>\n",
       "      <td>29605758</td>\n",
       "      <td>149095</td>\n",
       "      <td>21234</td>\n",
       "      <td>28</td>\n",
       "      <td>0.50</td>\n",
       "      <td>Europe</td>\n",
       "    </tr>\n",
       "    <tr>\n",
       "      <th>4</th>\n",
       "      <td>Germany</td>\n",
       "      <td>26200663</td>\n",
       "      <td>138781</td>\n",
       "      <td>26198811</td>\n",
       "      <td>138779</td>\n",
       "      <td>1852</td>\n",
       "      <td>2</td>\n",
       "      <td>0.53</td>\n",
       "      <td>Europe</td>\n",
       "    </tr>\n",
       "  </tbody>\n",
       "</table>\n",
       "</div>"
      ],
      "text/plain": [
       "  Country/Region     Cases   Deaths    PCases  PDeaths  Cases (+)  Deaths (+)  \\\n",
       "0             US  83837114  1004121  83718160  1003783     118954         338   \n",
       "1          India  43147530   524539  43144820   524525       2710          14   \n",
       "2         Brazil  30880512   666180  30851191   666261      29321           0   \n",
       "3         France  29626992   149123  29605758   149095      21234          28   \n",
       "4        Germany  26200663   138781  26198811   138779       1852           2   \n",
       "\n",
       "   Fatality Rate      Continent  \n",
       "0           1.20  North America  \n",
       "1           1.22           Asia  \n",
       "2           2.16  South America  \n",
       "3           0.50         Europe  \n",
       "4           0.53         Europe  "
      ]
     },
     "execution_count": 13,
     "metadata": {},
     "output_type": "execute_result"
    }
   ],
   "source": [
    "#hide\n",
    "for c in 'Cases, Deaths'.split(', '):\n",
    "    df_table[f'{c} (+)'] = (df_table[c] - df_table[f'P{c}']).clip(0)\n",
    "    #Clip ça veut dire, les chiffres negatif sont interdit\n",
    "df_table['Fatality Rate'] = (100* df_table['Deaths']/ df_table['Cases']).round(2)\n",
    "df_table['Continent'] = df_table['Country/Region'].map(mapping['map.continent'])\n",
    "df_table.head(5)"
   ]
  },
  {
   "cell_type": "code",
   "execution_count": 14,
   "id": "aboriginal-bulgaria",
   "metadata": {
    "execution": {
     "iopub.execute_input": "2022-05-27T12:17:43.740644Z",
     "iopub.status.busy": "2022-05-27T12:17:43.740045Z",
     "iopub.status.idle": "2022-05-27T12:17:43.742544Z",
     "shell.execute_reply": "2022-05-27T12:17:43.742073Z"
    },
    "papermill": {
     "duration": 0.03876,
     "end_time": "2022-05-27T12:17:43.742656",
     "exception": false,
     "start_time": "2022-05-27T12:17:43.703896",
     "status": "completed"
    },
    "tags": []
   },
   "outputs": [],
   "source": [
    "#hide\n",
    "#delete problematic countries from table\n",
    "df_table = df_table[~df_table['Country/Region'].isin(['Cape Verde', 'Cruise Ship', 'Kosovo'])]"
   ]
  },
  {
   "cell_type": "code",
   "execution_count": 15,
   "id": "fantastic-effect",
   "metadata": {
    "execution": {
     "iopub.execute_input": "2022-05-27T12:17:43.809214Z",
     "iopub.status.busy": "2022-05-27T12:17:43.808642Z",
     "iopub.status.idle": "2022-05-27T12:17:43.826938Z",
     "shell.execute_reply": "2022-05-27T12:17:43.827445Z"
    },
    "papermill": {
     "duration": 0.055382,
     "end_time": "2022-05-27T12:17:43.827581",
     "exception": false,
     "start_time": "2022-05-27T12:17:43.772199",
     "status": "completed"
    },
    "tags": []
   },
   "outputs": [
    {
     "data": {
      "text/html": [
       "<div>\n",
       "<style scoped>\n",
       "    .dataframe tbody tr th:only-of-type {\n",
       "        vertical-align: middle;\n",
       "    }\n",
       "\n",
       "    .dataframe tbody tr th {\n",
       "        vertical-align: top;\n",
       "    }\n",
       "\n",
       "    .dataframe thead th {\n",
       "        text-align: right;\n",
       "    }\n",
       "</style>\n",
       "<table border=\"1\" class=\"dataframe\">\n",
       "  <thead>\n",
       "    <tr style=\"text-align: right;\">\n",
       "      <th></th>\n",
       "      <th>Country/Region</th>\n",
       "      <th>Cases</th>\n",
       "      <th>Deaths</th>\n",
       "      <th>PCases</th>\n",
       "      <th>PDeaths</th>\n",
       "      <th>Cases (+)</th>\n",
       "      <th>Deaths (+)</th>\n",
       "      <th>Fatality Rate</th>\n",
       "      <th>Continent</th>\n",
       "    </tr>\n",
       "  </thead>\n",
       "  <tbody>\n",
       "    <tr>\n",
       "      <th>0</th>\n",
       "      <td>US</td>\n",
       "      <td>83837114</td>\n",
       "      <td>1004121</td>\n",
       "      <td>83718160</td>\n",
       "      <td>1003783</td>\n",
       "      <td>118954</td>\n",
       "      <td>338</td>\n",
       "      <td>1.2</td>\n",
       "      <td>North America</td>\n",
       "    </tr>\n",
       "    <tr>\n",
       "      <th>1</th>\n",
       "      <td>India</td>\n",
       "      <td>43147530</td>\n",
       "      <td>524539</td>\n",
       "      <td>43144820</td>\n",
       "      <td>524525</td>\n",
       "      <td>2710</td>\n",
       "      <td>14</td>\n",
       "      <td>1.2</td>\n",
       "      <td>Asia</td>\n",
       "    </tr>\n",
       "    <tr>\n",
       "      <th>2</th>\n",
       "      <td>Brazil</td>\n",
       "      <td>30880512</td>\n",
       "      <td>666180</td>\n",
       "      <td>30851191</td>\n",
       "      <td>666261</td>\n",
       "      <td>29321</td>\n",
       "      <td>0</td>\n",
       "      <td>2.2</td>\n",
       "      <td>South America</td>\n",
       "    </tr>\n",
       "    <tr>\n",
       "      <th>3</th>\n",
       "      <td>France</td>\n",
       "      <td>29626992</td>\n",
       "      <td>149123</td>\n",
       "      <td>29605758</td>\n",
       "      <td>149095</td>\n",
       "      <td>21234</td>\n",
       "      <td>28</td>\n",
       "      <td>0.5</td>\n",
       "      <td>Europe</td>\n",
       "    </tr>\n",
       "    <tr>\n",
       "      <th>4</th>\n",
       "      <td>Germany</td>\n",
       "      <td>26200663</td>\n",
       "      <td>138781</td>\n",
       "      <td>26198811</td>\n",
       "      <td>138779</td>\n",
       "      <td>1852</td>\n",
       "      <td>2</td>\n",
       "      <td>0.5</td>\n",
       "      <td>Europe</td>\n",
       "    </tr>\n",
       "  </tbody>\n",
       "</table>\n",
       "</div>"
      ],
      "text/plain": [
       "  Country/Region     Cases   Deaths    PCases  PDeaths  Cases (+)  Deaths (+)  \\\n",
       "0             US  83837114  1004121  83718160  1003783     118954         338   \n",
       "1          India  43147530   524539  43144820   524525       2710          14   \n",
       "2         Brazil  30880512   666180  30851191   666261      29321           0   \n",
       "3         France  29626992   149123  29605758   149095      21234          28   \n",
       "4        Germany  26200663   138781  26198811   138779       1852           2   \n",
       "\n",
       "   Fatality Rate      Continent  \n",
       "0            1.2  North America  \n",
       "1            1.2           Asia  \n",
       "2            2.2  South America  \n",
       "3            0.5         Europe  \n",
       "4            0.5         Europe  "
      ]
     },
     "execution_count": 15,
     "metadata": {},
     "output_type": "execute_result"
    }
   ],
   "source": [
    "#hide\n",
    "df_table = (pd.DataFrame(dict(Cases=dfc_cases, Deaths=dfc_deaths, PCases=dfp_cases, PDeaths=dfp_deaths))\n",
    "             .sort_values(by=['Cases', 'Deaths'], ascending=[False, False])\n",
    "             .reset_index())\n",
    "df_table.rename(columns={'index': 'Country/Region'}, inplace=True)\n",
    "for c in 'Cases, Deaths'.split(', '):\n",
    "    df_table[f'{c} (+)'] = (df_table[c] - df_table[f'P{c}']).clip(0)  # DATA BUG\n",
    "df_table['Fatality Rate'] = (100 * df_table['Deaths'] / df_table['Cases']).round(1)\n",
    "df_table['Continent'] = df_table['Country/Region'].map(mapping['map.continent'])\n",
    "df_table.head(5)"
   ]
  },
  {
   "cell_type": "code",
   "execution_count": 16,
   "id": "fewer-occasion",
   "metadata": {
    "execution": {
     "iopub.execute_input": "2022-05-27T12:17:43.899438Z",
     "iopub.status.busy": "2022-05-27T12:17:43.896719Z",
     "iopub.status.idle": "2022-05-27T12:17:43.902277Z",
     "shell.execute_reply": "2022-05-27T12:17:43.901705Z"
    },
    "papermill": {
     "duration": 0.043697,
     "end_time": "2022-05-27T12:17:43.902400",
     "exception": false,
     "start_time": "2022-05-27T12:17:43.858703",
     "status": "completed"
    },
    "tags": []
   },
   "outputs": [],
   "source": [
    "#hide\n",
    "#delete problematic countries from table\n",
    "df_table = df_table[~df_table['Country/Region'].isin(['Cape Verde', 'Cruise Ship', 'Kosovo'])]"
   ]
  },
  {
   "cell_type": "code",
   "execution_count": 17,
   "id": "related-center",
   "metadata": {
    "execution": {
     "iopub.execute_input": "2022-05-27T12:17:43.985003Z",
     "iopub.status.busy": "2022-05-27T12:17:43.984359Z",
     "iopub.status.idle": "2022-05-27T12:17:43.987030Z",
     "shell.execute_reply": "2022-05-27T12:17:43.986547Z"
    },
    "papermill": {
     "duration": 0.051099,
     "end_time": "2022-05-27T12:17:43.987148",
     "exception": false,
     "start_time": "2022-05-27T12:17:43.936049",
     "status": "completed"
    },
    "tags": []
   },
   "outputs": [],
   "source": [
    "#hide\n",
    "metrics = [df_table.columns[index] for index in [1,2,5,6]]\n",
    "# s_china = df_table[df_table['Country/Region'].eq('China')][metrics].sum().add_prefix('China ')\n",
    "s_us = df_table[df_table['Country/Region'].eq('US')][metrics].sum().add_prefix('US ')\n",
    "s_eu = df_table[df_table['Continent'].eq('Europe')][metrics].sum().add_prefix('EU ')\n",
    "s_ind = df_table[df_table['Country/Region'].eq('India')][metrics].sum().add_prefix('India ')\n",
    "summary = {'updated': pd.to_datetime(dt_today), 'since': pd.to_datetime(dt_yday)}\n",
    "summary = {'updated': pd.to_datetime(dt_today), 'since': pd.to_datetime(dt_yday)}\n",
    "summary = {**summary, **df_table[metrics].sum(), **s_ind, **s_us, **s_eu}"
   ]
  },
  {
   "cell_type": "code",
   "execution_count": 18,
   "id": "engaging-syndrome",
   "metadata": {
    "execution": {
     "iopub.execute_input": "2022-05-27T12:17:44.054092Z",
     "iopub.status.busy": "2022-05-27T12:17:44.053485Z",
     "iopub.status.idle": "2022-05-27T12:17:44.073903Z",
     "shell.execute_reply": "2022-05-27T12:17:44.073369Z"
    },
    "papermill": {
     "duration": 0.056176,
     "end_time": "2022-05-27T12:17:44.074029",
     "exception": false,
     "start_time": "2022-05-27T12:17:44.017853",
     "status": "completed"
    },
    "tags": []
   },
   "outputs": [],
   "source": [
    "#hide\n",
    "dft_ct_new_cases = dft_cases.groupby(COL_REGION)[dt_cols].sum().diff(axis=1).fillna(0).astype(int)"
   ]
  },
  {
   "cell_type": "code",
   "execution_count": 19,
   "id": "neutral-assignment",
   "metadata": {
    "execution": {
     "iopub.execute_input": "2022-05-27T12:17:44.142027Z",
     "iopub.status.busy": "2022-05-27T12:17:44.141427Z",
     "iopub.status.idle": "2022-05-27T12:17:44.143756Z",
     "shell.execute_reply": "2022-05-27T12:17:44.144308Z"
    },
    "papermill": {
     "duration": 0.039821,
     "end_time": "2022-05-27T12:17:44.144444",
     "exception": false,
     "start_time": "2022-05-27T12:17:44.104623",
     "status": "completed"
    },
    "tags": []
   },
   "outputs": [],
   "source": [
    "#hide\n",
    "everydaycases = dft_ct_new_cases.cumsum(axis=1)"
   ]
  },
  {
   "cell_type": "code",
   "execution_count": 20,
   "id": "parliamentary-calgary",
   "metadata": {
    "execution": {
     "iopub.execute_input": "2022-05-27T12:17:44.209894Z",
     "iopub.status.busy": "2022-05-27T12:17:44.209293Z",
     "iopub.status.idle": "2022-05-27T12:17:44.752653Z",
     "shell.execute_reply": "2022-05-27T12:17:44.753221Z"
    },
    "papermill": {
     "duration": 0.578456,
     "end_time": "2022-05-27T12:17:44.753387",
     "exception": false,
     "start_time": "2022-05-27T12:17:44.174931",
     "status": "completed"
    },
    "tags": []
   },
   "outputs": [],
   "source": [
    "#hide\n",
    "import pandas as pd\n",
    "import matplotlib.pyplot as plt\n",
    "import matplotlib.ticker as ticker\n",
    "import matplotlib.animation as animation\n",
    "from IPython.display import HTML"
   ]
  },
  {
   "cell_type": "code",
   "execution_count": 21,
   "id": "lasting-extraction",
   "metadata": {
    "execution": {
     "iopub.execute_input": "2022-05-27T12:17:44.824484Z",
     "iopub.status.busy": "2022-05-27T12:17:44.823910Z",
     "iopub.status.idle": "2022-05-27T12:17:44.831402Z",
     "shell.execute_reply": "2022-05-27T12:17:44.830928Z"
    },
    "papermill": {
     "duration": 0.046211,
     "end_time": "2022-05-27T12:17:44.831518",
     "exception": false,
     "start_time": "2022-05-27T12:17:44.785307",
     "status": "completed"
    },
    "tags": []
   },
   "outputs": [],
   "source": [
    "#hide\n",
    "t = everydaycases.stack()"
   ]
  },
  {
   "cell_type": "code",
   "execution_count": 22,
   "id": "premier-sleeve",
   "metadata": {
    "execution": {
     "iopub.execute_input": "2022-05-27T12:17:44.896859Z",
     "iopub.status.busy": "2022-05-27T12:17:44.896300Z",
     "iopub.status.idle": "2022-05-27T12:17:44.907755Z",
     "shell.execute_reply": "2022-05-27T12:17:44.907193Z"
    },
    "papermill": {
     "duration": 0.045633,
     "end_time": "2022-05-27T12:17:44.907863",
     "exception": false,
     "start_time": "2022-05-27T12:17:44.862230",
     "status": "completed"
    },
    "tags": []
   },
   "outputs": [],
   "source": [
    "#hide\n",
    "g = t.reset_index(['Country/Region'])"
   ]
  },
  {
   "cell_type": "code",
   "execution_count": 23,
   "id": "distributed-pittsburgh",
   "metadata": {
    "execution": {
     "iopub.execute_input": "2022-05-27T12:17:44.972020Z",
     "iopub.status.busy": "2022-05-27T12:17:44.971460Z",
     "iopub.status.idle": "2022-05-27T12:17:44.973688Z",
     "shell.execute_reply": "2022-05-27T12:17:44.974242Z"
    },
    "papermill": {
     "duration": 0.036364,
     "end_time": "2022-05-27T12:17:44.974365",
     "exception": false,
     "start_time": "2022-05-27T12:17:44.938001",
     "status": "completed"
    },
    "tags": []
   },
   "outputs": [],
   "source": [
    "#hide\n",
    "g.index.name = 'date'"
   ]
  },
  {
   "cell_type": "code",
   "execution_count": 24,
   "id": "naked-donor",
   "metadata": {
    "execution": {
     "iopub.execute_input": "2022-05-27T12:17:45.039932Z",
     "iopub.status.busy": "2022-05-27T12:17:45.039248Z",
     "iopub.status.idle": "2022-05-27T12:17:45.043430Z",
     "shell.execute_reply": "2022-05-27T12:17:45.042957Z"
    },
    "papermill": {
     "duration": 0.038812,
     "end_time": "2022-05-27T12:17:45.043542",
     "exception": false,
     "start_time": "2022-05-27T12:17:45.004730",
     "status": "completed"
    },
    "tags": []
   },
   "outputs": [],
   "source": [
    "# #hide\n",
    "# g = g.reset_index(['date'])"
   ]
  },
  {
   "cell_type": "code",
   "execution_count": 25,
   "id": "incomplete-mustang",
   "metadata": {
    "execution": {
     "iopub.execute_input": "2022-05-27T12:17:45.108097Z",
     "iopub.status.busy": "2022-05-27T12:17:45.107476Z",
     "iopub.status.idle": "2022-05-27T12:17:45.110889Z",
     "shell.execute_reply": "2022-05-27T12:17:45.111382Z"
    },
    "papermill": {
     "duration": 0.037651,
     "end_time": "2022-05-27T12:17:45.111512",
     "exception": false,
     "start_time": "2022-05-27T12:17:45.073861",
     "status": "completed"
    },
    "tags": []
   },
   "outputs": [],
   "source": [
    "#hide\n",
    "# g.head()"
   ]
  },
  {
   "cell_type": "code",
   "execution_count": 26,
   "id": "specific-kruger",
   "metadata": {
    "execution": {
     "iopub.execute_input": "2022-05-27T12:17:45.179097Z",
     "iopub.status.busy": "2022-05-27T12:17:45.177108Z",
     "iopub.status.idle": "2022-05-27T12:17:45.182457Z",
     "shell.execute_reply": "2022-05-27T12:17:45.181987Z"
    },
    "papermill": {
     "duration": 0.040437,
     "end_time": "2022-05-27T12:17:45.182567",
     "exception": false,
     "start_time": "2022-05-27T12:17:45.142130",
     "status": "completed"
    },
    "tags": []
   },
   "outputs": [],
   "source": [
    "#hide\n",
    "# g.columns = ['date','country','cases']"
   ]
  },
  {
   "cell_type": "code",
   "execution_count": 27,
   "id": "tender-conversion",
   "metadata": {
    "execution": {
     "iopub.execute_input": "2022-05-27T12:17:45.255616Z",
     "iopub.status.busy": "2022-05-27T12:17:45.255031Z",
     "iopub.status.idle": "2022-05-27T12:17:45.256999Z",
     "shell.execute_reply": "2022-05-27T12:17:45.257446Z"
    },
    "papermill": {
     "duration": 0.041478,
     "end_time": "2022-05-27T12:17:45.257601",
     "exception": false,
     "start_time": "2022-05-27T12:17:45.216123",
     "status": "completed"
    },
    "tags": []
   },
   "outputs": [],
   "source": [
    "#hide\n",
    "# g['continent'] = g.country"
   ]
  },
  {
   "cell_type": "code",
   "execution_count": 28,
   "id": "substantial-wilderness",
   "metadata": {
    "execution": {
     "iopub.execute_input": "2022-05-27T12:17:45.416924Z",
     "iopub.status.busy": "2022-05-27T12:17:45.416317Z",
     "iopub.status.idle": "2022-05-27T12:17:45.419361Z",
     "shell.execute_reply": "2022-05-27T12:17:45.418689Z"
    },
    "papermill": {
     "duration": 0.100434,
     "end_time": "2022-05-27T12:17:45.419480",
     "exception": false,
     "start_time": "2022-05-27T12:17:45.319046",
     "status": "completed"
    },
    "tags": []
   },
   "outputs": [],
   "source": [
    "#hide\n",
    "# cols = list(g.columns.values)"
   ]
  },
  {
   "cell_type": "code",
   "execution_count": 29,
   "id": "solved-farming",
   "metadata": {
    "execution": {
     "iopub.execute_input": "2022-05-27T12:17:45.517072Z",
     "iopub.status.busy": "2022-05-27T12:17:45.516031Z",
     "iopub.status.idle": "2022-05-27T12:17:45.517955Z",
     "shell.execute_reply": "2022-05-27T12:17:45.518457Z"
    },
    "papermill": {
     "duration": 0.048323,
     "end_time": "2022-05-27T12:17:45.518594",
     "exception": false,
     "start_time": "2022-05-27T12:17:45.470271",
     "status": "completed"
    },
    "tags": []
   },
   "outputs": [],
   "source": [
    "#hide\n",
    "# cols.insert(0, cols.pop())"
   ]
  },
  {
   "cell_type": "code",
   "execution_count": 30,
   "id": "executed-adoption",
   "metadata": {
    "execution": {
     "iopub.execute_input": "2022-05-27T12:17:45.589373Z",
     "iopub.status.busy": "2022-05-27T12:17:45.588786Z",
     "iopub.status.idle": "2022-05-27T12:17:45.592716Z",
     "shell.execute_reply": "2022-05-27T12:17:45.592246Z"
    },
    "papermill": {
     "duration": 0.037404,
     "end_time": "2022-05-27T12:17:45.592829",
     "exception": false,
     "start_time": "2022-05-27T12:17:45.555425",
     "status": "completed"
    },
    "tags": []
   },
   "outputs": [],
   "source": [
    "#hide\n",
    "# g = g[cols]"
   ]
  },
  {
   "cell_type": "code",
   "execution_count": 31,
   "id": "subject-dublin",
   "metadata": {
    "execution": {
     "iopub.execute_input": "2022-05-27T12:17:45.656863Z",
     "iopub.status.busy": "2022-05-27T12:17:45.656298Z",
     "iopub.status.idle": "2022-05-27T12:17:45.659055Z",
     "shell.execute_reply": "2022-05-27T12:17:45.658585Z"
    },
    "papermill": {
     "duration": 0.035854,
     "end_time": "2022-05-27T12:17:45.659167",
     "exception": false,
     "start_time": "2022-05-27T12:17:45.623313",
     "status": "completed"
    },
    "tags": []
   },
   "outputs": [],
   "source": [
    "#hide\n",
    "# g['continent'] = g['continent'].map(mapping['map.continent'])"
   ]
  },
  {
   "cell_type": "code",
   "execution_count": 32,
   "id": "freelance-scout",
   "metadata": {
    "execution": {
     "iopub.execute_input": "2022-05-27T12:17:45.723642Z",
     "iopub.status.busy": "2022-05-27T12:17:45.723009Z",
     "iopub.status.idle": "2022-05-27T12:17:45.725549Z",
     "shell.execute_reply": "2022-05-27T12:17:45.725001Z"
    },
    "papermill": {
     "duration": 0.036243,
     "end_time": "2022-05-27T12:17:45.725666",
     "exception": false,
     "start_time": "2022-05-27T12:17:45.689423",
     "status": "completed"
    },
    "tags": []
   },
   "outputs": [],
   "source": [
    "#hide\n",
    "# g.head()"
   ]
  },
  {
   "cell_type": "code",
   "execution_count": 33,
   "id": "limited-engine",
   "metadata": {
    "execution": {
     "iopub.execute_input": "2022-05-27T12:17:45.790844Z",
     "iopub.status.busy": "2022-05-27T12:17:45.790279Z",
     "iopub.status.idle": "2022-05-27T12:17:45.793092Z",
     "shell.execute_reply": "2022-05-27T12:17:45.792627Z"
    },
    "papermill": {
     "duration": 0.036651,
     "end_time": "2022-05-27T12:17:45.793197",
     "exception": false,
     "start_time": "2022-05-27T12:17:45.756546",
     "status": "completed"
    },
    "tags": []
   },
   "outputs": [],
   "source": [
    "# hide\n",
    "# g['date'] = g['date'].astype('datetime64[ns]')"
   ]
  },
  {
   "cell_type": "code",
   "execution_count": 34,
   "id": "sophisticated-supervisor",
   "metadata": {
    "execution": {
     "iopub.execute_input": "2022-05-27T12:17:45.857191Z",
     "iopub.status.busy": "2022-05-27T12:17:45.856624Z",
     "iopub.status.idle": "2022-05-27T12:17:45.859890Z",
     "shell.execute_reply": "2022-05-27T12:17:45.859418Z"
    },
    "papermill": {
     "duration": 0.036376,
     "end_time": "2022-05-27T12:17:45.859996",
     "exception": false,
     "start_time": "2022-05-27T12:17:45.823620",
     "status": "completed"
    },
    "tags": []
   },
   "outputs": [],
   "source": [
    "#hide\n",
    "# g['date'] = g.date.dt.dayofyear"
   ]
  },
  {
   "cell_type": "code",
   "execution_count": 35,
   "id": "inside-dubai",
   "metadata": {
    "execution": {
     "iopub.execute_input": "2022-05-27T12:17:45.923768Z",
     "iopub.status.busy": "2022-05-27T12:17:45.923202Z",
     "iopub.status.idle": "2022-05-27T12:17:45.927376Z",
     "shell.execute_reply": "2022-05-27T12:17:45.926811Z"
    },
    "papermill": {
     "duration": 0.037177,
     "end_time": "2022-05-27T12:17:45.927481",
     "exception": false,
     "start_time": "2022-05-27T12:17:45.890304",
     "status": "completed"
    },
    "tags": []
   },
   "outputs": [],
   "source": [
    "#hide\n",
    "# g = g.rename(columns= {'continent':'group','country':'name','cases':'value'})"
   ]
  },
  {
   "cell_type": "code",
   "execution_count": 36,
   "id": "fleet-motorcycle",
   "metadata": {
    "execution": {
     "iopub.execute_input": "2022-05-27T12:17:45.993465Z",
     "iopub.status.busy": "2022-05-27T12:17:45.991707Z",
     "iopub.status.idle": "2022-05-27T12:17:45.994243Z",
     "shell.execute_reply": "2022-05-27T12:17:45.994697Z"
    },
    "papermill": {
     "duration": 0.03683,
     "end_time": "2022-05-27T12:17:45.994820",
     "exception": false,
     "start_time": "2022-05-27T12:17:45.957990",
     "status": "completed"
    },
    "tags": []
   },
   "outputs": [],
   "source": [
    "#hide\n",
    "# cols = ['name','group','day','value']"
   ]
  },
  {
   "cell_type": "code",
   "execution_count": 37,
   "id": "continued-sleeping",
   "metadata": {
    "execution": {
     "iopub.execute_input": "2022-05-27T12:17:46.060777Z",
     "iopub.status.busy": "2022-05-27T12:17:46.060128Z",
     "iopub.status.idle": "2022-05-27T12:17:46.064784Z",
     "shell.execute_reply": "2022-05-27T12:17:46.064268Z"
    },
    "papermill": {
     "duration": 0.039661,
     "end_time": "2022-05-27T12:17:46.064912",
     "exception": false,
     "start_time": "2022-05-27T12:17:46.025251",
     "status": "completed"
    },
    "tags": []
   },
   "outputs": [],
   "source": [
    "#hide\n",
    "# g.rename(columns= {'date':'day'},inplace = True)"
   ]
  },
  {
   "cell_type": "code",
   "execution_count": 38,
   "id": "major-fight",
   "metadata": {
    "execution": {
     "iopub.execute_input": "2022-05-27T12:17:46.131481Z",
     "iopub.status.busy": "2022-05-27T12:17:46.130901Z",
     "iopub.status.idle": "2022-05-27T12:17:46.134596Z",
     "shell.execute_reply": "2022-05-27T12:17:46.135019Z"
    },
    "papermill": {
     "duration": 0.037892,
     "end_time": "2022-05-27T12:17:46.135148",
     "exception": false,
     "start_time": "2022-05-27T12:17:46.097256",
     "status": "completed"
    },
    "tags": []
   },
   "outputs": [],
   "source": [
    "#hide\n",
    "# g = g[cols]"
   ]
  },
  {
   "cell_type": "code",
   "execution_count": 39,
   "id": "structured-mobile",
   "metadata": {
    "execution": {
     "iopub.execute_input": "2022-05-27T12:17:46.200563Z",
     "iopub.status.busy": "2022-05-27T12:17:46.199376Z",
     "iopub.status.idle": "2022-05-27T12:17:46.201208Z",
     "shell.execute_reply": "2022-05-27T12:17:46.201679Z"
    },
    "papermill": {
     "duration": 0.036352,
     "end_time": "2022-05-27T12:17:46.201811",
     "exception": false,
     "start_time": "2022-05-27T12:17:46.165459",
     "status": "completed"
    },
    "tags": []
   },
   "outputs": [],
   "source": [
    "# #hide\n",
    "# g = g[g.group.notna()]"
   ]
  },
  {
   "cell_type": "code",
   "execution_count": 40,
   "id": "determined-closing",
   "metadata": {
    "execution": {
     "iopub.execute_input": "2022-05-27T12:17:46.267214Z",
     "iopub.status.busy": "2022-05-27T12:17:46.266639Z",
     "iopub.status.idle": "2022-05-27T12:17:46.269088Z",
     "shell.execute_reply": "2022-05-27T12:17:46.269575Z"
    },
    "papermill": {
     "duration": 0.036751,
     "end_time": "2022-05-27T12:17:46.269705",
     "exception": false,
     "start_time": "2022-05-27T12:17:46.232954",
     "status": "completed"
    },
    "tags": []
   },
   "outputs": [],
   "source": [
    "# #hide\n",
    "# colors = dict(zip(\n",
    "#     [\"Oceania\", \"Europe\", \"Asia\", \"South America\", \"Middle East\", \"North America\", \"Africa\"],\n",
    "#     [\"#adb0ff\", \"#ffb3ff\", \"#90d595\", \"#e48381\", \"#aafbff\", \"#f7bb5f\", \"#eafb50\"]\n",
    "# ))\n",
    "# group_lk = g.set_index('name')['group'].to_dict()"
   ]
  },
  {
   "cell_type": "code",
   "execution_count": null,
   "id": "gross-drinking",
   "metadata": {
    "papermill": {
     "duration": 0.030113,
     "end_time": "2022-05-27T12:17:46.329996",
     "exception": false,
     "start_time": "2022-05-27T12:17:46.299883",
     "status": "completed"
    },
    "tags": []
   },
   "outputs": [],
   "source": []
  },
  {
   "cell_type": "code",
   "execution_count": 41,
   "id": "subject-macintosh",
   "metadata": {
    "execution": {
     "iopub.execute_input": "2022-05-27T12:17:46.394979Z",
     "iopub.status.busy": "2022-05-27T12:17:46.394402Z",
     "iopub.status.idle": "2022-05-27T12:17:46.396857Z",
     "shell.execute_reply": "2022-05-27T12:17:46.397328Z"
    },
    "papermill": {
     "duration": 0.037177,
     "end_time": "2022-05-27T12:17:46.397451",
     "exception": false,
     "start_time": "2022-05-27T12:17:46.360274",
     "status": "completed"
    },
    "tags": []
   },
   "outputs": [],
   "source": [
    "# #hide\n",
    "# fig, ax = plt.subplots(figsize=(15, 8))\n",
    "\n",
    "# def draw_barchart(current_day):\n",
    "#     dff = g[g['day'].eq(current_day)].sort_values(by='value', ascending=True).tail(10)\n",
    "#     ax.clear()\n",
    "#     ax.barh(dff['name'], dff['value'], color=[colors[group_lk[x]] for x in dff['name']])\n",
    "#     dx = dff['value'].max() / 200\n",
    "    \n",
    "#     for i, (value, name) in enumerate(zip(dff['value'], dff['name'])):\n",
    "#         ax.text(value-dx, i,     name,           size=14, weight=600, ha='right', va='bottom')\n",
    "#         ax.text(value-dx, i-.25, group_lk[name], size=10, color='#444444', ha='right', va='baseline')\n",
    "#         ax.text(value+dx, i,     f'{value:,.0f}',  size=14, ha='left',  va='center')\n",
    "#     ax.text(1, 0.4, current_day, transform=ax.transAxes, color='#777777', size=46, ha='right', weight=800)\n",
    "#     ax.text(0, 1.06, 'Population (thousands)', transform=ax.transAxes, size=12, color='#777777')\n",
    "#     ax.xaxis.set_major_formatter(ticker.StrMethodFormatter('{x:,.0f}'))\n",
    "#     ax.xaxis.set_ticks_position('top')\n",
    "#     ax.tick_params(axis='x', colors='#777777', labelsize=12)\n",
    "#     ax.set_yticks([])\n",
    "#     ax.margins(0, 0.01)\n",
    "#     ax.grid(which='major', axis='x', linestyle='-')\n",
    "#     ax.set_axisbelow(True)\n",
    "    \n",
    "#     ax.text(0, 1.15, 'Coronavirus',\n",
    "#             transform=ax.transAxes, size=24, weight=600, ha='left', va='top')\n",
    "# #     ax.text(1, 0, 'by @pratapvardhan; credit @jburnmurdoch', transform=ax.transAxes, color='#777777', ha='right',\n",
    "# #             bbox=dict(facecolor='white', alpha=0.8, edgecolor='white'))\n",
    "#     plt.box(False)"
   ]
  },
  {
   "cell_type": "code",
   "execution_count": 42,
   "id": "sexual-wages",
   "metadata": {
    "execution": {
     "iopub.execute_input": "2022-05-27T12:17:46.461822Z",
     "iopub.status.busy": "2022-05-27T12:17:46.461205Z",
     "iopub.status.idle": "2022-05-27T12:17:46.463869Z",
     "shell.execute_reply": "2022-05-27T12:17:46.463320Z"
    },
    "papermill": {
     "duration": 0.036177,
     "end_time": "2022-05-27T12:17:46.463982",
     "exception": false,
     "start_time": "2022-05-27T12:17:46.427805",
     "status": "completed"
    },
    "tags": []
   },
   "outputs": [],
   "source": [
    "# #hide_input\n",
    "# fig, ax = plt.subplots(figsize=(15, 8))\n",
    "# animator = animation.FuncAnimation(fig, draw_barchart, frames=range(g.day.values.min(), g.day.values.max()))\n",
    "# HTML(animator.to_jshtml())\n",
    "# # or use animator.to_html5_video() or animator.save() "
   ]
  },
  {
   "cell_type": "code",
   "execution_count": null,
   "id": "australian-container",
   "metadata": {
    "papermill": {
     "duration": 0.030132,
     "end_time": "2022-05-27T12:17:46.524532",
     "exception": false,
     "start_time": "2022-05-27T12:17:46.494400",
     "status": "completed"
    },
    "tags": []
   },
   "outputs": [],
   "source": []
  },
  {
   "cell_type": "code",
   "execution_count": null,
   "id": "mediterranean-pontiac",
   "metadata": {
    "papermill": {
     "duration": 0.030234,
     "end_time": "2022-05-27T12:17:46.585040",
     "exception": false,
     "start_time": "2022-05-27T12:17:46.554806",
     "status": "completed"
    },
    "tags": []
   },
   "outputs": [],
   "source": []
  },
  {
   "cell_type": "code",
   "execution_count": null,
   "id": "aging-legislature",
   "metadata": {
    "papermill": {
     "duration": 0.030142,
     "end_time": "2022-05-27T12:17:46.645555",
     "exception": false,
     "start_time": "2022-05-27T12:17:46.615413",
     "status": "completed"
    },
    "tags": []
   },
   "outputs": [],
   "source": []
  }
 ],
 "metadata": {
  "kernelspec": {
   "display_name": "Python 3",
   "language": "python",
   "name": "python3"
  },
  "language_info": {
   "codemirror_mode": {
    "name": "ipython",
    "version": 3
   },
   "file_extension": ".py",
   "mimetype": "text/x-python",
   "name": "python",
   "nbconvert_exporter": "python",
   "pygments_lexer": "ipython3",
   "version": "3.6.15"
  },
  "papermill": {
   "duration": 6.065383,
   "end_time": "2022-05-27T12:17:46.995532",
   "environment_variables": {},
   "exception": null,
   "input_path": "2020-03-21-covid19exp.ipynb",
   "output_path": "2020-03-21-covid19exp.ipynb",
   "parameters": {},
   "start_time": "2022-05-27T12:17:40.930149",
   "version": "2.0.0"
  }
 },
 "nbformat": 4,
 "nbformat_minor": 5
}