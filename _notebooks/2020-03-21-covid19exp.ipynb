{
 "cells": [
  {
   "cell_type": "markdown",
   "id": "muslim-click",
   "metadata": {
    "papermill": {
     "duration": 0.03559,
     "end_time": "2021-11-02T12:12:21.240265",
     "exception": false,
     "start_time": "2021-11-02T12:12:21.204675",
     "status": "completed"
    },
    "tags": []
   },
   "source": [
    "# COVID-19 Case Race\n",
    "> A race chart to see rising cases around the world\n",
    "\n",
    "- author: Hargun Oberoi\n",
    "- image: images/covid-overview.png\n",
    "- hide: false\n",
    "- badges: false"
   ]
  },
  {
   "cell_type": "code",
   "execution_count": 1,
   "id": "proof-material",
   "metadata": {
    "execution": {
     "iopub.execute_input": "2021-11-02T12:12:21.318318Z",
     "iopub.status.busy": "2021-11-02T12:12:21.317657Z",
     "iopub.status.idle": "2021-11-02T12:12:21.659415Z",
     "shell.execute_reply": "2021-11-02T12:12:21.658854Z"
    },
    "papermill": {
     "duration": 0.387382,
     "end_time": "2021-11-02T12:12:21.659607",
     "exception": false,
     "start_time": "2021-11-02T12:12:21.272225",
     "status": "completed"
    },
    "tags": []
   },
   "outputs": [],
   "source": [
    "#hide\n",
    "import numpy as np\n",
    "import pandas as pd\n",
    "from jinja2 import Template\n",
    "from IPython.display import HTML"
   ]
  },
  {
   "cell_type": "code",
   "execution_count": 2,
   "id": "developed-terminology",
   "metadata": {
    "execution": {
     "iopub.execute_input": "2021-11-02T12:12:21.736440Z",
     "iopub.status.busy": "2021-11-02T12:12:21.735869Z",
     "iopub.status.idle": "2021-11-02T12:12:21.738248Z",
     "shell.execute_reply": "2021-11-02T12:12:21.738866Z"
    },
    "papermill": {
     "duration": 0.042617,
     "end_time": "2021-11-02T12:12:21.738998",
     "exception": false,
     "start_time": "2021-11-02T12:12:21.696381",
     "status": "completed"
    },
    "tags": []
   },
   "outputs": [],
   "source": [
    "#hide\n",
    "\n",
    "# FETCH\n",
    "base_url = 'https://raw.githubusercontent.com/pratapvardhan/notebooks/master/covid19/'\n",
    "paths = {\n",
    "    'mapping': base_url + 'mapping_countries.csv',\n",
    "    'overview': base_url + 'overview.tpl'\n",
    "}"
   ]
  },
  {
   "cell_type": "code",
   "execution_count": 3,
   "id": "dynamic-saver",
   "metadata": {
    "execution": {
     "iopub.execute_input": "2021-11-02T12:12:21.820263Z",
     "iopub.status.busy": "2021-11-02T12:12:21.819708Z",
     "iopub.status.idle": "2021-11-02T12:12:21.822553Z",
     "shell.execute_reply": "2021-11-02T12:12:21.822990Z"
    },
    "papermill": {
     "duration": 0.048768,
     "end_time": "2021-11-02T12:12:21.823114",
     "exception": false,
     "start_time": "2021-11-02T12:12:21.774346",
     "status": "completed"
    },
    "tags": []
   },
   "outputs": [
    {
     "data": {
      "text/plain": [
       "'https://raw.githubusercontent.com/pratapvardhan/notebooks/master/covid19/mapping_countries.csv'"
      ]
     },
     "execution_count": 3,
     "metadata": {},
     "output_type": "execute_result"
    }
   ],
   "source": [
    "#hide\n",
    "paths['mapping']"
   ]
  },
  {
   "cell_type": "code",
   "execution_count": 4,
   "id": "urban-software",
   "metadata": {
    "execution": {
     "iopub.execute_input": "2021-11-02T12:12:21.897050Z",
     "iopub.status.busy": "2021-11-02T12:12:21.896520Z",
     "iopub.status.idle": "2021-11-02T12:12:21.898355Z",
     "shell.execute_reply": "2021-11-02T12:12:21.898870Z"
    },
    "papermill": {
     "duration": 0.041019,
     "end_time": "2021-11-02T12:12:21.898985",
     "exception": false,
     "start_time": "2021-11-02T12:12:21.857966",
     "status": "completed"
    },
    "tags": []
   },
   "outputs": [],
   "source": [
    "#hide\n",
    "def get_mappings(url):\n",
    "    df = pd.read_csv(url)\n",
    "    return {\n",
    "        'df': df,\n",
    "        'replace.country': dict(df.dropna(subset=['Name']).set_index('Country')['Name']),\n",
    "        'map.continent': dict(df.set_index('Name')['Continent'])\n",
    "    }"
   ]
  },
  {
   "cell_type": "code",
   "execution_count": 5,
   "id": "intimate-machinery",
   "metadata": {
    "execution": {
     "iopub.execute_input": "2021-11-02T12:12:21.965585Z",
     "iopub.status.busy": "2021-11-02T12:12:21.965067Z",
     "iopub.status.idle": "2021-11-02T12:12:22.013060Z",
     "shell.execute_reply": "2021-11-02T12:12:22.012540Z"
    },
    "papermill": {
     "duration": 0.083594,
     "end_time": "2021-11-02T12:12:22.013196",
     "exception": false,
     "start_time": "2021-11-02T12:12:21.929602",
     "status": "completed"
    },
    "tags": []
   },
   "outputs": [],
   "source": [
    "#hide\n",
    "mapping = get_mappings(paths['mapping'])"
   ]
  },
  {
   "cell_type": "code",
   "execution_count": 6,
   "id": "certified-tactics",
   "metadata": {
    "execution": {
     "iopub.execute_input": "2021-11-02T12:12:22.085217Z",
     "iopub.status.busy": "2021-11-02T12:12:22.084654Z",
     "iopub.status.idle": "2021-11-02T12:12:22.086514Z",
     "shell.execute_reply": "2021-11-02T12:12:22.086991Z"
    },
    "papermill": {
     "duration": 0.040305,
     "end_time": "2021-11-02T12:12:22.087250",
     "exception": false,
     "start_time": "2021-11-02T12:12:22.046945",
     "status": "completed"
    },
    "tags": []
   },
   "outputs": [],
   "source": [
    "#hide\n",
    "def get_template(path):\n",
    "    from urllib.parse import urlparse\n",
    "    if bool(urlparse(path).netloc):\n",
    "        from urllib.request import urlopen\n",
    "        return urlopen(path).read().decode('utf8')\n",
    "    return open(path).read()"
   ]
  },
  {
   "cell_type": "code",
   "execution_count": 7,
   "id": "realistic-blast",
   "metadata": {
    "execution": {
     "iopub.execute_input": "2021-11-02T12:12:22.155821Z",
     "iopub.status.busy": "2021-11-02T12:12:22.155118Z",
     "iopub.status.idle": "2021-11-02T12:12:22.158447Z",
     "shell.execute_reply": "2021-11-02T12:12:22.157734Z"
    },
    "papermill": {
     "duration": 0.03817,
     "end_time": "2021-11-02T12:12:22.158547",
     "exception": false,
     "start_time": "2021-11-02T12:12:22.120377",
     "status": "completed"
    },
    "tags": []
   },
   "outputs": [],
   "source": [
    "#hide\n",
    "def get_frame(name):\n",
    "    url = (\n",
    "        'https://raw.githubusercontent.com/CSSEGISandData/COVID-19/master/csse_covid_19_data/'\n",
    "        f'csse_covid_19_time_series/time_series_covid19_{name}_global.csv')\n",
    "    df = pd.read_csv(url)\n",
    "    # rename countries\n",
    "    df['Country/Region'] = df['Country/Region'].replace(mapping['replace.country'])\n",
    "    return df"
   ]
  },
  {
   "cell_type": "code",
   "execution_count": 8,
   "id": "affiliated-characterization",
   "metadata": {
    "execution": {
     "iopub.execute_input": "2021-11-02T12:12:22.227432Z",
     "iopub.status.busy": "2021-11-02T12:12:22.226920Z",
     "iopub.status.idle": "2021-11-02T12:12:22.229958Z",
     "shell.execute_reply": "2021-11-02T12:12:22.229522Z"
    },
    "papermill": {
     "duration": 0.039788,
     "end_time": "2021-11-02T12:12:22.230067",
     "exception": false,
     "start_time": "2021-11-02T12:12:22.190279",
     "status": "completed"
    },
    "tags": []
   },
   "outputs": [],
   "source": [
    "#hide\n",
    "def get_dates(df):\n",
    "    dt_cols = df.columns[~df.columns.isin(['Province/State', 'Country/Region', 'Lat', 'Long'])]\n",
    "    LAST_DATE_I = -1\n",
    "    # sometimes last column may be empty, then go backwards\n",
    "    for i in range(-1, -len(dt_cols), -1):\n",
    "        if not df[dt_cols[i]].fillna(0).eq(0).all():\n",
    "            LAST_DATE_I = i\n",
    "            break\n",
    "    return LAST_DATE_I, dt_cols"
   ]
  },
  {
   "cell_type": "code",
   "execution_count": 9,
   "id": "recent-optimization",
   "metadata": {
    "execution": {
     "iopub.execute_input": "2021-11-02T12:12:22.300719Z",
     "iopub.status.busy": "2021-11-02T12:12:22.300148Z",
     "iopub.status.idle": "2021-11-02T12:12:22.694987Z",
     "shell.execute_reply": "2021-11-02T12:12:22.693987Z"
    },
    "papermill": {
     "duration": 0.430932,
     "end_time": "2021-11-02T12:12:22.695113",
     "exception": false,
     "start_time": "2021-11-02T12:12:22.264181",
     "status": "completed"
    },
    "tags": []
   },
   "outputs": [],
   "source": [
    "#hide\n",
    "COL_REGION = 'Country/Region'\n",
    "# Confirmed, Recovered, Deaths\n",
    "df = get_frame('confirmed')\n",
    "# dft_: timeseries, dfc_: today country agg\n",
    "dft_cases = df\n",
    "dft_deaths = get_frame('deaths')\n",
    "dft_recovered = get_frame('recovered')\n",
    "LAST_DATE_I, dt_cols = get_dates(df)"
   ]
  },
  {
   "cell_type": "code",
   "execution_count": 10,
   "id": "absolute-copper",
   "metadata": {
    "execution": {
     "iopub.execute_input": "2021-11-02T12:12:22.763495Z",
     "iopub.status.busy": "2021-11-02T12:12:22.762984Z",
     "iopub.status.idle": "2021-11-02T12:12:22.765731Z",
     "shell.execute_reply": "2021-11-02T12:12:22.765252Z"
    },
    "papermill": {
     "duration": 0.038507,
     "end_time": "2021-11-02T12:12:22.765832",
     "exception": false,
     "start_time": "2021-11-02T12:12:22.727325",
     "status": "completed"
    },
    "tags": []
   },
   "outputs": [],
   "source": [
    "#hide\n",
    "LAST_DATE_I, dt_cols = get_dates(df)\n",
    "dt_today =dt_cols[LAST_DATE_I]\n",
    "# dt_5day = dt_cols[LAST_DATE_I - 5]\n",
    "dt_yday = dt_cols[LAST_DATE_I - 1]"
   ]
  },
  {
   "cell_type": "code",
   "execution_count": 11,
   "id": "restricted-sheriff",
   "metadata": {
    "execution": {
     "iopub.execute_input": "2021-11-02T12:12:22.835081Z",
     "iopub.status.busy": "2021-11-02T12:12:22.834367Z",
     "iopub.status.idle": "2021-11-02T12:12:22.843893Z",
     "shell.execute_reply": "2021-11-02T12:12:22.844428Z"
    },
    "papermill": {
     "duration": 0.047126,
     "end_time": "2021-11-02T12:12:22.844552",
     "exception": false,
     "start_time": "2021-11-02T12:12:22.797426",
     "status": "completed"
    },
    "tags": []
   },
   "outputs": [],
   "source": [
    "#hide\n",
    "dfc_cases = dft_cases.groupby(COL_REGION)[dt_today].sum()\n",
    "dfc_deaths = dft_deaths.groupby(COL_REGION)[dt_today].sum()\n",
    "# dfp_cases = dft_cases.groupby(COL_REGION)[dt_5day].sum()\n",
    "# dfp_deaths = dft_deaths.groupby(COL_REGION)[dt_5day].sum()\n",
    "dfp_cases = dft_cases.groupby(COL_REGION)[dt_yday].sum()\n",
    "dfp_deaths = dft_deaths.groupby(COL_REGION)[dt_yday].sum()"
   ]
  },
  {
   "cell_type": "code",
   "execution_count": 12,
   "id": "deluxe-hepatitis",
   "metadata": {
    "execution": {
     "iopub.execute_input": "2021-11-02T12:12:22.918840Z",
     "iopub.status.busy": "2021-11-02T12:12:22.918304Z",
     "iopub.status.idle": "2021-11-02T12:12:22.923881Z",
     "shell.execute_reply": "2021-11-02T12:12:22.924716Z"
    },
    "papermill": {
     "duration": 0.045645,
     "end_time": "2021-11-02T12:12:22.924888",
     "exception": false,
     "start_time": "2021-11-02T12:12:22.879243",
     "status": "completed"
    },
    "tags": []
   },
   "outputs": [],
   "source": [
    "#hide\n",
    "df_table = (pd.DataFrame(dict(Cases = dfc_cases, Deaths = dfc_deaths, PCases = dfp_cases, PDeaths = dfp_deaths))\n",
    "            .sort_values(by = ['Cases','Deaths'], ascending = [False, False])\n",
    "            .reset_index())"
   ]
  },
  {
   "cell_type": "code",
   "execution_count": 13,
   "id": "educational-chancellor",
   "metadata": {
    "execution": {
     "iopub.execute_input": "2021-11-02T12:12:23.011185Z",
     "iopub.status.busy": "2021-11-02T12:12:23.010462Z",
     "iopub.status.idle": "2021-11-02T12:12:23.019526Z",
     "shell.execute_reply": "2021-11-02T12:12:23.019985Z"
    },
    "papermill": {
     "duration": 0.06178,
     "end_time": "2021-11-02T12:12:23.020107",
     "exception": false,
     "start_time": "2021-11-02T12:12:22.958327",
     "status": "completed"
    },
    "tags": []
   },
   "outputs": [
    {
     "data": {
      "text/html": [
       "<div>\n",
       "<style scoped>\n",
       "    .dataframe tbody tr th:only-of-type {\n",
       "        vertical-align: middle;\n",
       "    }\n",
       "\n",
       "    .dataframe tbody tr th {\n",
       "        vertical-align: top;\n",
       "    }\n",
       "\n",
       "    .dataframe thead th {\n",
       "        text-align: right;\n",
       "    }\n",
       "</style>\n",
       "<table border=\"1\" class=\"dataframe\">\n",
       "  <thead>\n",
       "    <tr style=\"text-align: right;\">\n",
       "      <th></th>\n",
       "      <th>Country/Region</th>\n",
       "      <th>Cases</th>\n",
       "      <th>Deaths</th>\n",
       "      <th>PCases</th>\n",
       "      <th>PDeaths</th>\n",
       "      <th>Cases (+)</th>\n",
       "      <th>Deaths (+)</th>\n",
       "      <th>Fatality Rate</th>\n",
       "      <th>Continent</th>\n",
       "    </tr>\n",
       "  </thead>\n",
       "  <tbody>\n",
       "    <tr>\n",
       "      <th>0</th>\n",
       "      <td>US</td>\n",
       "      <td>46091924</td>\n",
       "      <td>747033</td>\n",
       "      <td>45970785</td>\n",
       "      <td>745832</td>\n",
       "      <td>121139</td>\n",
       "      <td>1201</td>\n",
       "      <td>1.62</td>\n",
       "      <td>North America</td>\n",
       "    </tr>\n",
       "    <tr>\n",
       "      <th>1</th>\n",
       "      <td>India</td>\n",
       "      <td>34296237</td>\n",
       "      <td>458880</td>\n",
       "      <td>34285814</td>\n",
       "      <td>458437</td>\n",
       "      <td>10423</td>\n",
       "      <td>443</td>\n",
       "      <td>1.34</td>\n",
       "      <td>Asia</td>\n",
       "    </tr>\n",
       "    <tr>\n",
       "      <th>2</th>\n",
       "      <td>Brazil</td>\n",
       "      <td>21814693</td>\n",
       "      <td>607922</td>\n",
       "      <td>21810855</td>\n",
       "      <td>607824</td>\n",
       "      <td>3838</td>\n",
       "      <td>98</td>\n",
       "      <td>2.79</td>\n",
       "      <td>South America</td>\n",
       "    </tr>\n",
       "    <tr>\n",
       "      <th>3</th>\n",
       "      <td>United Kingdom</td>\n",
       "      <td>9140441</td>\n",
       "      <td>141098</td>\n",
       "      <td>9100442</td>\n",
       "      <td>141055</td>\n",
       "      <td>39999</td>\n",
       "      <td>43</td>\n",
       "      <td>1.54</td>\n",
       "      <td>Europe</td>\n",
       "    </tr>\n",
       "    <tr>\n",
       "      <th>4</th>\n",
       "      <td>Russia</td>\n",
       "      <td>8417305</td>\n",
       "      <td>235318</td>\n",
       "      <td>8377984</td>\n",
       "      <td>234194</td>\n",
       "      <td>39321</td>\n",
       "      <td>1124</td>\n",
       "      <td>2.80</td>\n",
       "      <td>Europe</td>\n",
       "    </tr>\n",
       "  </tbody>\n",
       "</table>\n",
       "</div>"
      ],
      "text/plain": [
       "   Country/Region     Cases  Deaths    PCases  PDeaths  Cases (+)  Deaths (+)  \\\n",
       "0              US  46091924  747033  45970785   745832     121139        1201   \n",
       "1           India  34296237  458880  34285814   458437      10423         443   \n",
       "2          Brazil  21814693  607922  21810855   607824       3838          98   \n",
       "3  United Kingdom   9140441  141098   9100442   141055      39999          43   \n",
       "4          Russia   8417305  235318   8377984   234194      39321        1124   \n",
       "\n",
       "   Fatality Rate      Continent  \n",
       "0           1.62  North America  \n",
       "1           1.34           Asia  \n",
       "2           2.79  South America  \n",
       "3           1.54         Europe  \n",
       "4           2.80         Europe  "
      ]
     },
     "execution_count": 13,
     "metadata": {},
     "output_type": "execute_result"
    }
   ],
   "source": [
    "#hide\n",
    "for c in 'Cases, Deaths'.split(', '):\n",
    "    df_table[f'{c} (+)'] = (df_table[c] - df_table[f'P{c}']).clip(0)\n",
    "    #Clip ça veut dire, les chiffres negatif sont interdit\n",
    "df_table['Fatality Rate'] = (100* df_table['Deaths']/ df_table['Cases']).round(2)\n",
    "df_table['Continent'] = df_table['Country/Region'].map(mapping['map.continent'])\n",
    "df_table.head(5)"
   ]
  },
  {
   "cell_type": "code",
   "execution_count": 14,
   "id": "aboriginal-bulgaria",
   "metadata": {
    "execution": {
     "iopub.execute_input": "2021-11-02T12:12:23.092236Z",
     "iopub.status.busy": "2021-11-02T12:12:23.091725Z",
     "iopub.status.idle": "2021-11-02T12:12:23.093725Z",
     "shell.execute_reply": "2021-11-02T12:12:23.094202Z"
    },
    "papermill": {
     "duration": 0.041758,
     "end_time": "2021-11-02T12:12:23.094316",
     "exception": false,
     "start_time": "2021-11-02T12:12:23.052558",
     "status": "completed"
    },
    "tags": []
   },
   "outputs": [],
   "source": [
    "#hide\n",
    "#delete problematic countries from table\n",
    "df_table = df_table[~df_table['Country/Region'].isin(['Cape Verde', 'Cruise Ship', 'Kosovo'])]"
   ]
  },
  {
   "cell_type": "code",
   "execution_count": 15,
   "id": "fantastic-effect",
   "metadata": {
    "execution": {
     "iopub.execute_input": "2021-11-02T12:12:23.166646Z",
     "iopub.status.busy": "2021-11-02T12:12:23.166087Z",
     "iopub.status.idle": "2021-11-02T12:12:23.188634Z",
     "shell.execute_reply": "2021-11-02T12:12:23.188071Z"
    },
    "papermill": {
     "duration": 0.063369,
     "end_time": "2021-11-02T12:12:23.188774",
     "exception": false,
     "start_time": "2021-11-02T12:12:23.125405",
     "status": "completed"
    },
    "tags": []
   },
   "outputs": [
    {
     "data": {
      "text/html": [
       "<div>\n",
       "<style scoped>\n",
       "    .dataframe tbody tr th:only-of-type {\n",
       "        vertical-align: middle;\n",
       "    }\n",
       "\n",
       "    .dataframe tbody tr th {\n",
       "        vertical-align: top;\n",
       "    }\n",
       "\n",
       "    .dataframe thead th {\n",
       "        text-align: right;\n",
       "    }\n",
       "</style>\n",
       "<table border=\"1\" class=\"dataframe\">\n",
       "  <thead>\n",
       "    <tr style=\"text-align: right;\">\n",
       "      <th></th>\n",
       "      <th>Country/Region</th>\n",
       "      <th>Cases</th>\n",
       "      <th>Deaths</th>\n",
       "      <th>PCases</th>\n",
       "      <th>PDeaths</th>\n",
       "      <th>Cases (+)</th>\n",
       "      <th>Deaths (+)</th>\n",
       "      <th>Fatality Rate</th>\n",
       "      <th>Continent</th>\n",
       "    </tr>\n",
       "  </thead>\n",
       "  <tbody>\n",
       "    <tr>\n",
       "      <th>0</th>\n",
       "      <td>US</td>\n",
       "      <td>46091924</td>\n",
       "      <td>747033</td>\n",
       "      <td>45970785</td>\n",
       "      <td>745832</td>\n",
       "      <td>121139</td>\n",
       "      <td>1201</td>\n",
       "      <td>1.6</td>\n",
       "      <td>North America</td>\n",
       "    </tr>\n",
       "    <tr>\n",
       "      <th>1</th>\n",
       "      <td>India</td>\n",
       "      <td>34296237</td>\n",
       "      <td>458880</td>\n",
       "      <td>34285814</td>\n",
       "      <td>458437</td>\n",
       "      <td>10423</td>\n",
       "      <td>443</td>\n",
       "      <td>1.3</td>\n",
       "      <td>Asia</td>\n",
       "    </tr>\n",
       "    <tr>\n",
       "      <th>2</th>\n",
       "      <td>Brazil</td>\n",
       "      <td>21814693</td>\n",
       "      <td>607922</td>\n",
       "      <td>21810855</td>\n",
       "      <td>607824</td>\n",
       "      <td>3838</td>\n",
       "      <td>98</td>\n",
       "      <td>2.8</td>\n",
       "      <td>South America</td>\n",
       "    </tr>\n",
       "    <tr>\n",
       "      <th>3</th>\n",
       "      <td>United Kingdom</td>\n",
       "      <td>9140441</td>\n",
       "      <td>141098</td>\n",
       "      <td>9100442</td>\n",
       "      <td>141055</td>\n",
       "      <td>39999</td>\n",
       "      <td>43</td>\n",
       "      <td>1.5</td>\n",
       "      <td>Europe</td>\n",
       "    </tr>\n",
       "    <tr>\n",
       "      <th>4</th>\n",
       "      <td>Russia</td>\n",
       "      <td>8417305</td>\n",
       "      <td>235318</td>\n",
       "      <td>8377984</td>\n",
       "      <td>234194</td>\n",
       "      <td>39321</td>\n",
       "      <td>1124</td>\n",
       "      <td>2.8</td>\n",
       "      <td>Europe</td>\n",
       "    </tr>\n",
       "  </tbody>\n",
       "</table>\n",
       "</div>"
      ],
      "text/plain": [
       "   Country/Region     Cases  Deaths    PCases  PDeaths  Cases (+)  Deaths (+)  \\\n",
       "0              US  46091924  747033  45970785   745832     121139        1201   \n",
       "1           India  34296237  458880  34285814   458437      10423         443   \n",
       "2          Brazil  21814693  607922  21810855   607824       3838          98   \n",
       "3  United Kingdom   9140441  141098   9100442   141055      39999          43   \n",
       "4          Russia   8417305  235318   8377984   234194      39321        1124   \n",
       "\n",
       "   Fatality Rate      Continent  \n",
       "0            1.6  North America  \n",
       "1            1.3           Asia  \n",
       "2            2.8  South America  \n",
       "3            1.5         Europe  \n",
       "4            2.8         Europe  "
      ]
     },
     "execution_count": 15,
     "metadata": {},
     "output_type": "execute_result"
    }
   ],
   "source": [
    "#hide\n",
    "df_table = (pd.DataFrame(dict(Cases=dfc_cases, Deaths=dfc_deaths, PCases=dfp_cases, PDeaths=dfp_deaths))\n",
    "             .sort_values(by=['Cases', 'Deaths'], ascending=[False, False])\n",
    "             .reset_index())\n",
    "df_table.rename(columns={'index': 'Country/Region'}, inplace=True)\n",
    "for c in 'Cases, Deaths'.split(', '):\n",
    "    df_table[f'{c} (+)'] = (df_table[c] - df_table[f'P{c}']).clip(0)  # DATA BUG\n",
    "df_table['Fatality Rate'] = (100 * df_table['Deaths'] / df_table['Cases']).round(1)\n",
    "df_table['Continent'] = df_table['Country/Region'].map(mapping['map.continent'])\n",
    "df_table.head(5)"
   ]
  },
  {
   "cell_type": "code",
   "execution_count": 16,
   "id": "fewer-occasion",
   "metadata": {
    "execution": {
     "iopub.execute_input": "2021-11-02T12:12:23.266134Z",
     "iopub.status.busy": "2021-11-02T12:12:23.265588Z",
     "iopub.status.idle": "2021-11-02T12:12:23.268541Z",
     "shell.execute_reply": "2021-11-02T12:12:23.269063Z"
    },
    "papermill": {
     "duration": 0.043895,
     "end_time": "2021-11-02T12:12:23.269179",
     "exception": false,
     "start_time": "2021-11-02T12:12:23.225284",
     "status": "completed"
    },
    "tags": []
   },
   "outputs": [],
   "source": [
    "#hide\n",
    "#delete problematic countries from table\n",
    "df_table = df_table[~df_table['Country/Region'].isin(['Cape Verde', 'Cruise Ship', 'Kosovo'])]"
   ]
  },
  {
   "cell_type": "code",
   "execution_count": 17,
   "id": "related-center",
   "metadata": {
    "execution": {
     "iopub.execute_input": "2021-11-02T12:12:23.350455Z",
     "iopub.status.busy": "2021-11-02T12:12:23.349702Z",
     "iopub.status.idle": "2021-11-02T12:12:23.364976Z",
     "shell.execute_reply": "2021-11-02T12:12:23.365467Z"
    },
    "papermill": {
     "duration": 0.058582,
     "end_time": "2021-11-02T12:12:23.365642",
     "exception": false,
     "start_time": "2021-11-02T12:12:23.307060",
     "status": "completed"
    },
    "tags": []
   },
   "outputs": [],
   "source": [
    "#hide\n",
    "metrics = [df_table.columns[index] for index in [1,2,5,6]]\n",
    "# s_china = df_table[df_table['Country/Region'].eq('China')][metrics].sum().add_prefix('China ')\n",
    "s_us = df_table[df_table['Country/Region'].eq('US')][metrics].sum().add_prefix('US ')\n",
    "s_eu = df_table[df_table['Continent'].eq('Europe')][metrics].sum().add_prefix('EU ')\n",
    "s_ind = df_table[df_table['Country/Region'].eq('India')][metrics].sum().add_prefix('India ')\n",
    "summary = {'updated': pd.to_datetime(dt_today), 'since': pd.to_datetime(dt_yday)}\n",
    "summary = {'updated': pd.to_datetime(dt_today), 'since': pd.to_datetime(dt_yday)}\n",
    "summary = {**summary, **df_table[metrics].sum(), **s_ind, **s_us, **s_eu}"
   ]
  },
  {
   "cell_type": "code",
   "execution_count": 18,
   "id": "engaging-syndrome",
   "metadata": {
    "execution": {
     "iopub.execute_input": "2021-11-02T12:12:23.439124Z",
     "iopub.status.busy": "2021-11-02T12:12:23.438488Z",
     "iopub.status.idle": "2021-11-02T12:12:23.452819Z",
     "shell.execute_reply": "2021-11-02T12:12:23.453294Z"
    },
    "papermill": {
     "duration": 0.052323,
     "end_time": "2021-11-02T12:12:23.453414",
     "exception": false,
     "start_time": "2021-11-02T12:12:23.401091",
     "status": "completed"
    },
    "tags": []
   },
   "outputs": [],
   "source": [
    "#hide\n",
    "dft_ct_new_cases = dft_cases.groupby(COL_REGION)[dt_cols].sum().diff(axis=1).fillna(0).astype(int)"
   ]
  },
  {
   "cell_type": "code",
   "execution_count": 19,
   "id": "neutral-assignment",
   "metadata": {
    "execution": {
     "iopub.execute_input": "2021-11-02T12:12:23.527246Z",
     "iopub.status.busy": "2021-11-02T12:12:23.526581Z",
     "iopub.status.idle": "2021-11-02T12:12:23.530866Z",
     "shell.execute_reply": "2021-11-02T12:12:23.531354Z"
    },
    "papermill": {
     "duration": 0.042559,
     "end_time": "2021-11-02T12:12:23.531474",
     "exception": false,
     "start_time": "2021-11-02T12:12:23.488915",
     "status": "completed"
    },
    "tags": []
   },
   "outputs": [],
   "source": [
    "#hide\n",
    "everydaycases = dft_ct_new_cases.cumsum(axis=1)"
   ]
  },
  {
   "cell_type": "code",
   "execution_count": 20,
   "id": "parliamentary-calgary",
   "metadata": {
    "execution": {
     "iopub.execute_input": "2021-11-02T12:12:23.601674Z",
     "iopub.status.busy": "2021-11-02T12:12:23.601151Z",
     "iopub.status.idle": "2021-11-02T12:12:24.149403Z",
     "shell.execute_reply": "2021-11-02T12:12:24.148856Z"
    },
    "papermill": {
     "duration": 0.584382,
     "end_time": "2021-11-02T12:12:24.149578",
     "exception": false,
     "start_time": "2021-11-02T12:12:23.565196",
     "status": "completed"
    },
    "tags": []
   },
   "outputs": [],
   "source": [
    "#hide\n",
    "import pandas as pd\n",
    "import matplotlib.pyplot as plt\n",
    "import matplotlib.ticker as ticker\n",
    "import matplotlib.animation as animation\n",
    "from IPython.display import HTML"
   ]
  },
  {
   "cell_type": "code",
   "execution_count": 21,
   "id": "lasting-extraction",
   "metadata": {
    "execution": {
     "iopub.execute_input": "2021-11-02T12:12:24.232149Z",
     "iopub.status.busy": "2021-11-02T12:12:24.231556Z",
     "iopub.status.idle": "2021-11-02T12:12:24.237827Z",
     "shell.execute_reply": "2021-11-02T12:12:24.237395Z"
    },
    "papermill": {
     "duration": 0.052391,
     "end_time": "2021-11-02T12:12:24.237936",
     "exception": false,
     "start_time": "2021-11-02T12:12:24.185545",
     "status": "completed"
    },
    "tags": []
   },
   "outputs": [],
   "source": [
    "#hide\n",
    "t = everydaycases.stack()"
   ]
  },
  {
   "cell_type": "code",
   "execution_count": 22,
   "id": "premier-sleeve",
   "metadata": {
    "execution": {
     "iopub.execute_input": "2021-11-02T12:12:24.321251Z",
     "iopub.status.busy": "2021-11-02T12:12:24.320696Z",
     "iopub.status.idle": "2021-11-02T12:12:24.329529Z",
     "shell.execute_reply": "2021-11-02T12:12:24.330072Z"
    },
    "papermill": {
     "duration": 0.053688,
     "end_time": "2021-11-02T12:12:24.330197",
     "exception": false,
     "start_time": "2021-11-02T12:12:24.276509",
     "status": "completed"
    },
    "tags": []
   },
   "outputs": [],
   "source": [
    "#hide\n",
    "g = t.reset_index(['Country/Region'])"
   ]
  },
  {
   "cell_type": "code",
   "execution_count": 23,
   "id": "distributed-pittsburgh",
   "metadata": {
    "execution": {
     "iopub.execute_input": "2021-11-02T12:12:24.407729Z",
     "iopub.status.busy": "2021-11-02T12:12:24.406975Z",
     "iopub.status.idle": "2021-11-02T12:12:24.409456Z",
     "shell.execute_reply": "2021-11-02T12:12:24.408929Z"
    },
    "papermill": {
     "duration": 0.041446,
     "end_time": "2021-11-02T12:12:24.409589",
     "exception": false,
     "start_time": "2021-11-02T12:12:24.368143",
     "status": "completed"
    },
    "tags": []
   },
   "outputs": [],
   "source": [
    "#hide\n",
    "g.index.name = 'date'"
   ]
  },
  {
   "cell_type": "code",
   "execution_count": 24,
   "id": "naked-donor",
   "metadata": {
    "execution": {
     "iopub.execute_input": "2021-11-02T12:12:24.481572Z",
     "iopub.status.busy": "2021-11-02T12:12:24.481047Z",
     "iopub.status.idle": "2021-11-02T12:12:24.483138Z",
     "shell.execute_reply": "2021-11-02T12:12:24.483781Z"
    },
    "papermill": {
     "duration": 0.039157,
     "end_time": "2021-11-02T12:12:24.483896",
     "exception": false,
     "start_time": "2021-11-02T12:12:24.444739",
     "status": "completed"
    },
    "tags": []
   },
   "outputs": [],
   "source": [
    "# #hide\n",
    "# g = g.reset_index(['date'])"
   ]
  },
  {
   "cell_type": "code",
   "execution_count": 25,
   "id": "incomplete-mustang",
   "metadata": {
    "execution": {
     "iopub.execute_input": "2021-11-02T12:12:24.553426Z",
     "iopub.status.busy": "2021-11-02T12:12:24.552836Z",
     "iopub.status.idle": "2021-11-02T12:12:24.555436Z",
     "shell.execute_reply": "2021-11-02T12:12:24.554931Z"
    },
    "papermill": {
     "duration": 0.039822,
     "end_time": "2021-11-02T12:12:24.555561",
     "exception": false,
     "start_time": "2021-11-02T12:12:24.515739",
     "status": "completed"
    },
    "tags": []
   },
   "outputs": [],
   "source": [
    "#hide\n",
    "# g.head()"
   ]
  },
  {
   "cell_type": "code",
   "execution_count": 26,
   "id": "specific-kruger",
   "metadata": {
    "execution": {
     "iopub.execute_input": "2021-11-02T12:12:24.623988Z",
     "iopub.status.busy": "2021-11-02T12:12:24.623358Z",
     "iopub.status.idle": "2021-11-02T12:12:24.625211Z",
     "shell.execute_reply": "2021-11-02T12:12:24.625809Z"
    },
    "papermill": {
     "duration": 0.03755,
     "end_time": "2021-11-02T12:12:24.625930",
     "exception": false,
     "start_time": "2021-11-02T12:12:24.588380",
     "status": "completed"
    },
    "tags": []
   },
   "outputs": [],
   "source": [
    "#hide\n",
    "# g.columns = ['date','country','cases']"
   ]
  },
  {
   "cell_type": "code",
   "execution_count": 27,
   "id": "tender-conversion",
   "metadata": {
    "execution": {
     "iopub.execute_input": "2021-11-02T12:12:24.698350Z",
     "iopub.status.busy": "2021-11-02T12:12:24.697794Z",
     "iopub.status.idle": "2021-11-02T12:12:24.699577Z",
     "shell.execute_reply": "2021-11-02T12:12:24.700054Z"
    },
    "papermill": {
     "duration": 0.039948,
     "end_time": "2021-11-02T12:12:24.700169",
     "exception": false,
     "start_time": "2021-11-02T12:12:24.660221",
     "status": "completed"
    },
    "tags": []
   },
   "outputs": [],
   "source": [
    "#hide\n",
    "# g['continent'] = g.country"
   ]
  },
  {
   "cell_type": "code",
   "execution_count": 28,
   "id": "substantial-wilderness",
   "metadata": {
    "execution": {
     "iopub.execute_input": "2021-11-02T12:12:24.773757Z",
     "iopub.status.busy": "2021-11-02T12:12:24.773105Z",
     "iopub.status.idle": "2021-11-02T12:12:24.775263Z",
     "shell.execute_reply": "2021-11-02T12:12:24.775796Z"
    },
    "papermill": {
     "duration": 0.041846,
     "end_time": "2021-11-02T12:12:24.775927",
     "exception": false,
     "start_time": "2021-11-02T12:12:24.734081",
     "status": "completed"
    },
    "tags": []
   },
   "outputs": [],
   "source": [
    "#hide\n",
    "# cols = list(g.columns.values)"
   ]
  },
  {
   "cell_type": "code",
   "execution_count": 29,
   "id": "solved-farming",
   "metadata": {
    "execution": {
     "iopub.execute_input": "2021-11-02T12:12:24.848824Z",
     "iopub.status.busy": "2021-11-02T12:12:24.848074Z",
     "iopub.status.idle": "2021-11-02T12:12:24.850624Z",
     "shell.execute_reply": "2021-11-02T12:12:24.850081Z"
    },
    "papermill": {
     "duration": 0.040277,
     "end_time": "2021-11-02T12:12:24.850732",
     "exception": false,
     "start_time": "2021-11-02T12:12:24.810455",
     "status": "completed"
    },
    "tags": []
   },
   "outputs": [],
   "source": [
    "#hide\n",
    "# cols.insert(0, cols.pop())"
   ]
  },
  {
   "cell_type": "code",
   "execution_count": 30,
   "id": "executed-adoption",
   "metadata": {
    "execution": {
     "iopub.execute_input": "2021-11-02T12:12:24.924918Z",
     "iopub.status.busy": "2021-11-02T12:12:24.924328Z",
     "iopub.status.idle": "2021-11-02T12:12:24.926690Z",
     "shell.execute_reply": "2021-11-02T12:12:24.927098Z"
    },
    "papermill": {
     "duration": 0.042112,
     "end_time": "2021-11-02T12:12:24.927221",
     "exception": false,
     "start_time": "2021-11-02T12:12:24.885109",
     "status": "completed"
    },
    "tags": []
   },
   "outputs": [],
   "source": [
    "#hide\n",
    "# g = g[cols]"
   ]
  },
  {
   "cell_type": "code",
   "execution_count": 31,
   "id": "subject-dublin",
   "metadata": {
    "execution": {
     "iopub.execute_input": "2021-11-02T12:12:25.001752Z",
     "iopub.status.busy": "2021-11-02T12:12:25.001188Z",
     "iopub.status.idle": "2021-11-02T12:12:25.003245Z",
     "shell.execute_reply": "2021-11-02T12:12:25.003883Z"
    },
    "papermill": {
     "duration": 0.041298,
     "end_time": "2021-11-02T12:12:25.004061",
     "exception": false,
     "start_time": "2021-11-02T12:12:24.962763",
     "status": "completed"
    },
    "tags": []
   },
   "outputs": [],
   "source": [
    "#hide\n",
    "# g['continent'] = g['continent'].map(mapping['map.continent'])"
   ]
  },
  {
   "cell_type": "code",
   "execution_count": 32,
   "id": "freelance-scout",
   "metadata": {
    "execution": {
     "iopub.execute_input": "2021-11-02T12:12:25.074807Z",
     "iopub.status.busy": "2021-11-02T12:12:25.074287Z",
     "iopub.status.idle": "2021-11-02T12:12:25.076436Z",
     "shell.execute_reply": "2021-11-02T12:12:25.076981Z"
    },
    "papermill": {
     "duration": 0.039227,
     "end_time": "2021-11-02T12:12:25.077170",
     "exception": false,
     "start_time": "2021-11-02T12:12:25.037943",
     "status": "completed"
    },
    "tags": []
   },
   "outputs": [],
   "source": [
    "#hide\n",
    "# g.head()"
   ]
  },
  {
   "cell_type": "code",
   "execution_count": 33,
   "id": "limited-engine",
   "metadata": {
    "execution": {
     "iopub.execute_input": "2021-11-02T12:12:25.152889Z",
     "iopub.status.busy": "2021-11-02T12:12:25.152177Z",
     "iopub.status.idle": "2021-11-02T12:12:25.154704Z",
     "shell.execute_reply": "2021-11-02T12:12:25.154207Z"
    },
    "papermill": {
     "duration": 0.044063,
     "end_time": "2021-11-02T12:12:25.154826",
     "exception": false,
     "start_time": "2021-11-02T12:12:25.110763",
     "status": "completed"
    },
    "tags": []
   },
   "outputs": [],
   "source": [
    "# hide\n",
    "# g['date'] = g['date'].astype('datetime64[ns]')"
   ]
  },
  {
   "cell_type": "code",
   "execution_count": 34,
   "id": "sophisticated-supervisor",
   "metadata": {
    "execution": {
     "iopub.execute_input": "2021-11-02T12:12:25.229795Z",
     "iopub.status.busy": "2021-11-02T12:12:25.229210Z",
     "iopub.status.idle": "2021-11-02T12:12:25.231112Z",
     "shell.execute_reply": "2021-11-02T12:12:25.231560Z"
    },
    "papermill": {
     "duration": 0.038997,
     "end_time": "2021-11-02T12:12:25.231722",
     "exception": false,
     "start_time": "2021-11-02T12:12:25.192725",
     "status": "completed"
    },
    "tags": []
   },
   "outputs": [],
   "source": [
    "#hide\n",
    "# g['date'] = g.date.dt.dayofyear"
   ]
  },
  {
   "cell_type": "code",
   "execution_count": 35,
   "id": "inside-dubai",
   "metadata": {
    "execution": {
     "iopub.execute_input": "2021-11-02T12:12:25.306543Z",
     "iopub.status.busy": "2021-11-02T12:12:25.305963Z",
     "iopub.status.idle": "2021-11-02T12:12:25.308204Z",
     "shell.execute_reply": "2021-11-02T12:12:25.308722Z"
    },
    "papermill": {
     "duration": 0.042978,
     "end_time": "2021-11-02T12:12:25.308841",
     "exception": false,
     "start_time": "2021-11-02T12:12:25.265863",
     "status": "completed"
    },
    "tags": []
   },
   "outputs": [],
   "source": [
    "#hide\n",
    "# g = g.rename(columns= {'continent':'group','country':'name','cases':'value'})"
   ]
  },
  {
   "cell_type": "code",
   "execution_count": 36,
   "id": "fleet-motorcycle",
   "metadata": {
    "execution": {
     "iopub.execute_input": "2021-11-02T12:12:25.386590Z",
     "iopub.status.busy": "2021-11-02T12:12:25.385774Z",
     "iopub.status.idle": "2021-11-02T12:12:25.388466Z",
     "shell.execute_reply": "2021-11-02T12:12:25.387850Z"
    },
    "papermill": {
     "duration": 0.044307,
     "end_time": "2021-11-02T12:12:25.388577",
     "exception": false,
     "start_time": "2021-11-02T12:12:25.344270",
     "status": "completed"
    },
    "tags": []
   },
   "outputs": [],
   "source": [
    "#hide\n",
    "# cols = ['name','group','day','value']"
   ]
  },
  {
   "cell_type": "code",
   "execution_count": 37,
   "id": "continued-sleeping",
   "metadata": {
    "execution": {
     "iopub.execute_input": "2021-11-02T12:12:25.467075Z",
     "iopub.status.busy": "2021-11-02T12:12:25.466481Z",
     "iopub.status.idle": "2021-11-02T12:12:25.469312Z",
     "shell.execute_reply": "2021-11-02T12:12:25.468788Z"
    },
    "papermill": {
     "duration": 0.042882,
     "end_time": "2021-11-02T12:12:25.469436",
     "exception": false,
     "start_time": "2021-11-02T12:12:25.426554",
     "status": "completed"
    },
    "tags": []
   },
   "outputs": [],
   "source": [
    "#hide\n",
    "# g.rename(columns= {'date':'day'},inplace = True)"
   ]
  },
  {
   "cell_type": "code",
   "execution_count": 38,
   "id": "major-fight",
   "metadata": {
    "execution": {
     "iopub.execute_input": "2021-11-02T12:12:25.547792Z",
     "iopub.status.busy": "2021-11-02T12:12:25.547220Z",
     "iopub.status.idle": "2021-11-02T12:12:25.549649Z",
     "shell.execute_reply": "2021-11-02T12:12:25.549216Z"
    },
    "papermill": {
     "duration": 0.040409,
     "end_time": "2021-11-02T12:12:25.549750",
     "exception": false,
     "start_time": "2021-11-02T12:12:25.509341",
     "status": "completed"
    },
    "tags": []
   },
   "outputs": [],
   "source": [
    "#hide\n",
    "# g = g[cols]"
   ]
  },
  {
   "cell_type": "code",
   "execution_count": 39,
   "id": "structured-mobile",
   "metadata": {
    "execution": {
     "iopub.execute_input": "2021-11-02T12:12:25.624983Z",
     "iopub.status.busy": "2021-11-02T12:12:25.624153Z",
     "iopub.status.idle": "2021-11-02T12:12:25.625839Z",
     "shell.execute_reply": "2021-11-02T12:12:25.626323Z"
    },
    "papermill": {
     "duration": 0.041241,
     "end_time": "2021-11-02T12:12:25.626439",
     "exception": false,
     "start_time": "2021-11-02T12:12:25.585198",
     "status": "completed"
    },
    "tags": []
   },
   "outputs": [],
   "source": [
    "# #hide\n",
    "# g = g[g.group.notna()]"
   ]
  },
  {
   "cell_type": "code",
   "execution_count": 40,
   "id": "determined-closing",
   "metadata": {
    "execution": {
     "iopub.execute_input": "2021-11-02T12:12:25.693950Z",
     "iopub.status.busy": "2021-11-02T12:12:25.693288Z",
     "iopub.status.idle": "2021-11-02T12:12:25.695580Z",
     "shell.execute_reply": "2021-11-02T12:12:25.696035Z"
    },
    "papermill": {
     "duration": 0.037044,
     "end_time": "2021-11-02T12:12:25.696147",
     "exception": false,
     "start_time": "2021-11-02T12:12:25.659103",
     "status": "completed"
    },
    "tags": []
   },
   "outputs": [],
   "source": [
    "# #hide\n",
    "# colors = dict(zip(\n",
    "#     [\"Oceania\", \"Europe\", \"Asia\", \"South America\", \"Middle East\", \"North America\", \"Africa\"],\n",
    "#     [\"#adb0ff\", \"#ffb3ff\", \"#90d595\", \"#e48381\", \"#aafbff\", \"#f7bb5f\", \"#eafb50\"]\n",
    "# ))\n",
    "# group_lk = g.set_index('name')['group'].to_dict()"
   ]
  },
  {
   "cell_type": "code",
   "execution_count": null,
   "id": "gross-drinking",
   "metadata": {
    "papermill": {
     "duration": 0.032208,
     "end_time": "2021-11-02T12:12:25.760408",
     "exception": false,
     "start_time": "2021-11-02T12:12:25.728200",
     "status": "completed"
    },
    "tags": []
   },
   "outputs": [],
   "source": []
  },
  {
   "cell_type": "code",
   "execution_count": 41,
   "id": "subject-macintosh",
   "metadata": {
    "execution": {
     "iopub.execute_input": "2021-11-02T12:12:25.832530Z",
     "iopub.status.busy": "2021-11-02T12:12:25.831859Z",
     "iopub.status.idle": "2021-11-02T12:12:25.834271Z",
     "shell.execute_reply": "2021-11-02T12:12:25.834724Z"
    },
    "papermill": {
     "duration": 0.041404,
     "end_time": "2021-11-02T12:12:25.834842",
     "exception": false,
     "start_time": "2021-11-02T12:12:25.793438",
     "status": "completed"
    },
    "tags": []
   },
   "outputs": [],
   "source": [
    "# #hide\n",
    "# fig, ax = plt.subplots(figsize=(15, 8))\n",
    "\n",
    "# def draw_barchart(current_day):\n",
    "#     dff = g[g['day'].eq(current_day)].sort_values(by='value', ascending=True).tail(10)\n",
    "#     ax.clear()\n",
    "#     ax.barh(dff['name'], dff['value'], color=[colors[group_lk[x]] for x in dff['name']])\n",
    "#     dx = dff['value'].max() / 200\n",
    "    \n",
    "#     for i, (value, name) in enumerate(zip(dff['value'], dff['name'])):\n",
    "#         ax.text(value-dx, i,     name,           size=14, weight=600, ha='right', va='bottom')\n",
    "#         ax.text(value-dx, i-.25, group_lk[name], size=10, color='#444444', ha='right', va='baseline')\n",
    "#         ax.text(value+dx, i,     f'{value:,.0f}',  size=14, ha='left',  va='center')\n",
    "#     ax.text(1, 0.4, current_day, transform=ax.transAxes, color='#777777', size=46, ha='right', weight=800)\n",
    "#     ax.text(0, 1.06, 'Population (thousands)', transform=ax.transAxes, size=12, color='#777777')\n",
    "#     ax.xaxis.set_major_formatter(ticker.StrMethodFormatter('{x:,.0f}'))\n",
    "#     ax.xaxis.set_ticks_position('top')\n",
    "#     ax.tick_params(axis='x', colors='#777777', labelsize=12)\n",
    "#     ax.set_yticks([])\n",
    "#     ax.margins(0, 0.01)\n",
    "#     ax.grid(which='major', axis='x', linestyle='-')\n",
    "#     ax.set_axisbelow(True)\n",
    "    \n",
    "#     ax.text(0, 1.15, 'Coronavirus',\n",
    "#             transform=ax.transAxes, size=24, weight=600, ha='left', va='top')\n",
    "# #     ax.text(1, 0, 'by @pratapvardhan; credit @jburnmurdoch', transform=ax.transAxes, color='#777777', ha='right',\n",
    "# #             bbox=dict(facecolor='white', alpha=0.8, edgecolor='white'))\n",
    "#     plt.box(False)"
   ]
  },
  {
   "cell_type": "code",
   "execution_count": 42,
   "id": "sexual-wages",
   "metadata": {
    "execution": {
     "iopub.execute_input": "2021-11-02T12:12:25.910917Z",
     "iopub.status.busy": "2021-11-02T12:12:25.910315Z",
     "iopub.status.idle": "2021-11-02T12:12:25.912399Z",
     "shell.execute_reply": "2021-11-02T12:12:25.912886Z"
    },
    "papermill": {
     "duration": 0.043391,
     "end_time": "2021-11-02T12:12:25.913014",
     "exception": false,
     "start_time": "2021-11-02T12:12:25.869623",
     "status": "completed"
    },
    "tags": []
   },
   "outputs": [],
   "source": [
    "# #hide_input\n",
    "# fig, ax = plt.subplots(figsize=(15, 8))\n",
    "# animator = animation.FuncAnimation(fig, draw_barchart, frames=range(g.day.values.min(), g.day.values.max()))\n",
    "# HTML(animator.to_jshtml())\n",
    "# # or use animator.to_html5_video() or animator.save() "
   ]
  },
  {
   "cell_type": "code",
   "execution_count": null,
   "id": "australian-container",
   "metadata": {
    "papermill": {
     "duration": 0.03556,
     "end_time": "2021-11-02T12:12:25.986264",
     "exception": false,
     "start_time": "2021-11-02T12:12:25.950704",
     "status": "completed"
    },
    "tags": []
   },
   "outputs": [],
   "source": []
  },
  {
   "cell_type": "code",
   "execution_count": null,
   "id": "mediterranean-pontiac",
   "metadata": {
    "papermill": {
     "duration": 0.032205,
     "end_time": "2021-11-02T12:12:26.054214",
     "exception": false,
     "start_time": "2021-11-02T12:12:26.022009",
     "status": "completed"
    },
    "tags": []
   },
   "outputs": [],
   "source": []
  },
  {
   "cell_type": "code",
   "execution_count": null,
   "id": "aging-legislature",
   "metadata": {
    "papermill": {
     "duration": 0.033195,
     "end_time": "2021-11-02T12:12:26.120810",
     "exception": false,
     "start_time": "2021-11-02T12:12:26.087615",
     "status": "completed"
    },
    "tags": []
   },
   "outputs": [],
   "source": []
  }
 ],
 "metadata": {
  "kernelspec": {
   "display_name": "Python 3",
   "language": "python",
   "name": "python3"
  },
  "language_info": {
   "codemirror_mode": {
    "name": "ipython",
    "version": 3
   },
   "file_extension": ".py",
   "mimetype": "text/x-python",
   "name": "python",
   "nbconvert_exporter": "python",
   "pygments_lexer": "ipython3",
   "version": "3.6.15"
  },
  "papermill": {
   "duration": 6.317356,
   "end_time": "2021-11-02T12:12:26.461506",
   "environment_variables": {},
   "exception": null,
   "input_path": "2020-03-21-covid19exp.ipynb",
   "output_path": "2020-03-21-covid19exp.ipynb",
   "parameters": {},
   "start_time": "2021-11-02T12:12:20.144150",
   "version": "2.0.0"
  }
 },
 "nbformat": 4,
 "nbformat_minor": 5
}