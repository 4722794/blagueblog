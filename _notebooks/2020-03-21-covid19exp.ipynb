{
 "cells": [
  {
   "cell_type": "markdown",
   "id": "muslim-click",
   "metadata": {
    "papermill": {
     "duration": 0.034837,
     "end_time": "2022-10-06T12:20:54.165371",
     "exception": false,
     "start_time": "2022-10-06T12:20:54.130534",
     "status": "completed"
    },
    "tags": []
   },
   "source": [
    "# COVID-19 Case Race\n",
    "> A race chart to see rising cases around the world\n",
    "\n",
    "- author: Hargun Oberoi\n",
    "- image: images/covid-overview.png\n",
    "- hide: false\n",
    "- badges: false"
   ]
  },
  {
   "cell_type": "code",
   "execution_count": 1,
   "id": "proof-material",
   "metadata": {
    "execution": {
     "iopub.execute_input": "2022-10-06T12:20:54.234696Z",
     "iopub.status.busy": "2022-10-06T12:20:54.234135Z",
     "iopub.status.idle": "2022-10-06T12:20:54.542814Z",
     "shell.execute_reply": "2022-10-06T12:20:54.542317Z"
    },
    "papermill": {
     "duration": 0.347275,
     "end_time": "2022-10-06T12:20:54.542940",
     "exception": false,
     "start_time": "2022-10-06T12:20:54.195665",
     "status": "completed"
    },
    "tags": []
   },
   "outputs": [],
   "source": [
    "#hide\n",
    "import numpy as np\n",
    "import pandas as pd\n",
    "from jinja2 import Template\n",
    "from IPython.display import HTML"
   ]
  },
  {
   "cell_type": "code",
   "execution_count": 2,
   "id": "developed-terminology",
   "metadata": {
    "execution": {
     "iopub.execute_input": "2022-10-06T12:20:54.607071Z",
     "iopub.status.busy": "2022-10-06T12:20:54.606484Z",
     "iopub.status.idle": "2022-10-06T12:20:54.610164Z",
     "shell.execute_reply": "2022-10-06T12:20:54.609668Z"
    },
    "papermill": {
     "duration": 0.037593,
     "end_time": "2022-10-06T12:20:54.610265",
     "exception": false,
     "start_time": "2022-10-06T12:20:54.572672",
     "status": "completed"
    },
    "tags": []
   },
   "outputs": [],
   "source": [
    "#hide\n",
    "\n",
    "# FETCH\n",
    "base_url = 'https://raw.githubusercontent.com/pratapvardhan/notebooks/master/covid19/'\n",
    "paths = {\n",
    "    'mapping': base_url + 'mapping_countries.csv',\n",
    "    'overview': base_url + 'overview.tpl'\n",
    "}"
   ]
  },
  {
   "cell_type": "code",
   "execution_count": 3,
   "id": "dynamic-saver",
   "metadata": {
    "execution": {
     "iopub.execute_input": "2022-10-06T12:20:54.678392Z",
     "iopub.status.busy": "2022-10-06T12:20:54.677826Z",
     "iopub.status.idle": "2022-10-06T12:20:54.680813Z",
     "shell.execute_reply": "2022-10-06T12:20:54.681279Z"
    },
    "papermill": {
     "duration": 0.041634,
     "end_time": "2022-10-06T12:20:54.681395",
     "exception": false,
     "start_time": "2022-10-06T12:20:54.639761",
     "status": "completed"
    },
    "tags": []
   },
   "outputs": [
    {
     "data": {
      "text/plain": [
       "'https://raw.githubusercontent.com/pratapvardhan/notebooks/master/covid19/mapping_countries.csv'"
      ]
     },
     "execution_count": 3,
     "metadata": {},
     "output_type": "execute_result"
    }
   ],
   "source": [
    "#hide\n",
    "paths['mapping']"
   ]
  },
  {
   "cell_type": "code",
   "execution_count": 4,
   "id": "urban-software",
   "metadata": {
    "execution": {
     "iopub.execute_input": "2022-10-06T12:20:54.746114Z",
     "iopub.status.busy": "2022-10-06T12:20:54.745547Z",
     "iopub.status.idle": "2022-10-06T12:20:54.747778Z",
     "shell.execute_reply": "2022-10-06T12:20:54.748182Z"
    },
    "papermill": {
     "duration": 0.036906,
     "end_time": "2022-10-06T12:20:54.748297",
     "exception": false,
     "start_time": "2022-10-06T12:20:54.711391",
     "status": "completed"
    },
    "tags": []
   },
   "outputs": [],
   "source": [
    "#hide\n",
    "def get_mappings(url):\n",
    "    df = pd.read_csv(url)\n",
    "    return {\n",
    "        'df': df,\n",
    "        'replace.country': dict(df.dropna(subset=['Name']).set_index('Country')['Name']),\n",
    "        'map.continent': dict(df.set_index('Name')['Continent'])\n",
    "    }"
   ]
  },
  {
   "cell_type": "code",
   "execution_count": 5,
   "id": "intimate-machinery",
   "metadata": {
    "execution": {
     "iopub.execute_input": "2022-10-06T12:20:54.812749Z",
     "iopub.status.busy": "2022-10-06T12:20:54.812176Z",
     "iopub.status.idle": "2022-10-06T12:20:54.837483Z",
     "shell.execute_reply": "2022-10-06T12:20:54.836901Z"
    },
    "papermill": {
     "duration": 0.059576,
     "end_time": "2022-10-06T12:20:54.837590",
     "exception": false,
     "start_time": "2022-10-06T12:20:54.778014",
     "status": "completed"
    },
    "tags": []
   },
   "outputs": [],
   "source": [
    "#hide\n",
    "mapping = get_mappings(paths['mapping'])"
   ]
  },
  {
   "cell_type": "code",
   "execution_count": 6,
   "id": "certified-tactics",
   "metadata": {
    "execution": {
     "iopub.execute_input": "2022-10-06T12:20:54.902253Z",
     "iopub.status.busy": "2022-10-06T12:20:54.901696Z",
     "iopub.status.idle": "2022-10-06T12:20:54.903637Z",
     "shell.execute_reply": "2022-10-06T12:20:54.904086Z"
    },
    "papermill": {
     "duration": 0.036673,
     "end_time": "2022-10-06T12:20:54.904199",
     "exception": false,
     "start_time": "2022-10-06T12:20:54.867526",
     "status": "completed"
    },
    "tags": []
   },
   "outputs": [],
   "source": [
    "#hide\n",
    "def get_template(path):\n",
    "    from urllib.parse import urlparse\n",
    "    if bool(urlparse(path).netloc):\n",
    "        from urllib.request import urlopen\n",
    "        return urlopen(path).read().decode('utf8')\n",
    "    return open(path).read()"
   ]
  },
  {
   "cell_type": "code",
   "execution_count": 7,
   "id": "realistic-blast",
   "metadata": {
    "execution": {
     "iopub.execute_input": "2022-10-06T12:20:54.968088Z",
     "iopub.status.busy": "2022-10-06T12:20:54.967522Z",
     "iopub.status.idle": "2022-10-06T12:20:54.969928Z",
     "shell.execute_reply": "2022-10-06T12:20:54.969402Z"
    },
    "papermill": {
     "duration": 0.036052,
     "end_time": "2022-10-06T12:20:54.970023",
     "exception": false,
     "start_time": "2022-10-06T12:20:54.933971",
     "status": "completed"
    },
    "tags": []
   },
   "outputs": [],
   "source": [
    "#hide\n",
    "def get_frame(name):\n",
    "    url = (\n",
    "        'https://raw.githubusercontent.com/CSSEGISandData/COVID-19/master/csse_covid_19_data/'\n",
    "        f'csse_covid_19_time_series/time_series_covid19_{name}_global.csv')\n",
    "    df = pd.read_csv(url)\n",
    "    # rename countries\n",
    "    df['Country/Region'] = df['Country/Region'].replace(mapping['replace.country'])\n",
    "    return df"
   ]
  },
  {
   "cell_type": "code",
   "execution_count": 8,
   "id": "affiliated-characterization",
   "metadata": {
    "execution": {
     "iopub.execute_input": "2022-10-06T12:20:55.035326Z",
     "iopub.status.busy": "2022-10-06T12:20:55.034750Z",
     "iopub.status.idle": "2022-10-06T12:20:55.037262Z",
     "shell.execute_reply": "2022-10-06T12:20:55.036786Z"
    },
    "papermill": {
     "duration": 0.037403,
     "end_time": "2022-10-06T12:20:55.037359",
     "exception": false,
     "start_time": "2022-10-06T12:20:54.999956",
     "status": "completed"
    },
    "tags": []
   },
   "outputs": [],
   "source": [
    "#hide\n",
    "def get_dates(df):\n",
    "    dt_cols = df.columns[~df.columns.isin(['Province/State', 'Country/Region', 'Lat', 'Long'])]\n",
    "    LAST_DATE_I = -1\n",
    "    # sometimes last column may be empty, then go backwards\n",
    "    for i in range(-1, -len(dt_cols), -1):\n",
    "        if not df[dt_cols[i]].fillna(0).eq(0).all():\n",
    "            LAST_DATE_I = i\n",
    "            break\n",
    "    return LAST_DATE_I, dt_cols"
   ]
  },
  {
   "cell_type": "code",
   "execution_count": 9,
   "id": "recent-optimization",
   "metadata": {
    "execution": {
     "iopub.execute_input": "2022-10-06T12:20:55.101540Z",
     "iopub.status.busy": "2022-10-06T12:20:55.100945Z",
     "iopub.status.idle": "2022-10-06T12:20:55.470283Z",
     "shell.execute_reply": "2022-10-06T12:20:55.469797Z"
    },
    "papermill": {
     "duration": 0.403399,
     "end_time": "2022-10-06T12:20:55.470395",
     "exception": false,
     "start_time": "2022-10-06T12:20:55.066996",
     "status": "completed"
    },
    "tags": []
   },
   "outputs": [],
   "source": [
    "#hide\n",
    "COL_REGION = 'Country/Region'\n",
    "# Confirmed, Recovered, Deaths\n",
    "df = get_frame('confirmed')\n",
    "# dft_: timeseries, dfc_: today country agg\n",
    "dft_cases = df\n",
    "dft_deaths = get_frame('deaths')\n",
    "dft_recovered = get_frame('recovered')\n",
    "LAST_DATE_I, dt_cols = get_dates(df)"
   ]
  },
  {
   "cell_type": "code",
   "execution_count": 10,
   "id": "absolute-copper",
   "metadata": {
    "execution": {
     "iopub.execute_input": "2022-10-06T12:20:55.535728Z",
     "iopub.status.busy": "2022-10-06T12:20:55.535176Z",
     "iopub.status.idle": "2022-10-06T12:20:55.537839Z",
     "shell.execute_reply": "2022-10-06T12:20:55.537284Z"
    },
    "papermill": {
     "duration": 0.036995,
     "end_time": "2022-10-06T12:20:55.537939",
     "exception": false,
     "start_time": "2022-10-06T12:20:55.500944",
     "status": "completed"
    },
    "tags": []
   },
   "outputs": [],
   "source": [
    "#hide\n",
    "LAST_DATE_I, dt_cols = get_dates(df)\n",
    "dt_today =dt_cols[LAST_DATE_I]\n",
    "# dt_5day = dt_cols[LAST_DATE_I - 5]\n",
    "dt_yday = dt_cols[LAST_DATE_I - 1]"
   ]
  },
  {
   "cell_type": "code",
   "execution_count": 11,
   "id": "restricted-sheriff",
   "metadata": {
    "execution": {
     "iopub.execute_input": "2022-10-06T12:20:55.601946Z",
     "iopub.status.busy": "2022-10-06T12:20:55.601390Z",
     "iopub.status.idle": "2022-10-06T12:20:55.608827Z",
     "shell.execute_reply": "2022-10-06T12:20:55.608370Z"
    },
    "papermill": {
     "duration": 0.041445,
     "end_time": "2022-10-06T12:20:55.608922",
     "exception": false,
     "start_time": "2022-10-06T12:20:55.567477",
     "status": "completed"
    },
    "tags": []
   },
   "outputs": [],
   "source": [
    "#hide\n",
    "dfc_cases = dft_cases.groupby(COL_REGION)[dt_today].sum()\n",
    "dfc_deaths = dft_deaths.groupby(COL_REGION)[dt_today].sum()\n",
    "# dfp_cases = dft_cases.groupby(COL_REGION)[dt_5day].sum()\n",
    "# dfp_deaths = dft_deaths.groupby(COL_REGION)[dt_5day].sum()\n",
    "dfp_cases = dft_cases.groupby(COL_REGION)[dt_yday].sum()\n",
    "dfp_deaths = dft_deaths.groupby(COL_REGION)[dt_yday].sum()"
   ]
  },
  {
   "cell_type": "code",
   "execution_count": 12,
   "id": "deluxe-hepatitis",
   "metadata": {
    "execution": {
     "iopub.execute_input": "2022-10-06T12:20:55.673445Z",
     "iopub.status.busy": "2022-10-06T12:20:55.672863Z",
     "iopub.status.idle": "2022-10-06T12:20:55.676937Z",
     "shell.execute_reply": "2022-10-06T12:20:55.677403Z"
    },
    "papermill": {
     "duration": 0.038942,
     "end_time": "2022-10-06T12:20:55.677514",
     "exception": false,
     "start_time": "2022-10-06T12:20:55.638572",
     "status": "completed"
    },
    "tags": []
   },
   "outputs": [],
   "source": [
    "#hide\n",
    "df_table = (pd.DataFrame(dict(Cases = dfc_cases, Deaths = dfc_deaths, PCases = dfp_cases, PDeaths = dfp_deaths))\n",
    "            .sort_values(by = ['Cases','Deaths'], ascending = [False, False])\n",
    "            .reset_index())"
   ]
  },
  {
   "cell_type": "code",
   "execution_count": 13,
   "id": "educational-chancellor",
   "metadata": {
    "execution": {
     "iopub.execute_input": "2022-10-06T12:20:55.752151Z",
     "iopub.status.busy": "2022-10-06T12:20:55.751592Z",
     "iopub.status.idle": "2022-10-06T12:20:55.761051Z",
     "shell.execute_reply": "2022-10-06T12:20:55.760507Z"
    },
    "papermill": {
     "duration": 0.054073,
     "end_time": "2022-10-06T12:20:55.761163",
     "exception": false,
     "start_time": "2022-10-06T12:20:55.707090",
     "status": "completed"
    },
    "tags": []
   },
   "outputs": [
    {
     "data": {
      "text/html": [
       "<div>\n",
       "<style scoped>\n",
       "    .dataframe tbody tr th:only-of-type {\n",
       "        vertical-align: middle;\n",
       "    }\n",
       "\n",
       "    .dataframe tbody tr th {\n",
       "        vertical-align: top;\n",
       "    }\n",
       "\n",
       "    .dataframe thead th {\n",
       "        text-align: right;\n",
       "    }\n",
       "</style>\n",
       "<table border=\"1\" class=\"dataframe\">\n",
       "  <thead>\n",
       "    <tr style=\"text-align: right;\">\n",
       "      <th></th>\n",
       "      <th>Country/Region</th>\n",
       "      <th>Cases</th>\n",
       "      <th>Deaths</th>\n",
       "      <th>PCases</th>\n",
       "      <th>PDeaths</th>\n",
       "      <th>Cases (+)</th>\n",
       "      <th>Deaths (+)</th>\n",
       "      <th>Fatality Rate</th>\n",
       "      <th>Continent</th>\n",
       "    </tr>\n",
       "  </thead>\n",
       "  <tbody>\n",
       "    <tr>\n",
       "      <th>0</th>\n",
       "      <td>US</td>\n",
       "      <td>96552187</td>\n",
       "      <td>1061490</td>\n",
       "      <td>96481196</td>\n",
       "      <td>1060405</td>\n",
       "      <td>70991</td>\n",
       "      <td>1085</td>\n",
       "      <td>1.10</td>\n",
       "      <td>North America</td>\n",
       "    </tr>\n",
       "    <tr>\n",
       "      <th>1</th>\n",
       "      <td>India</td>\n",
       "      <td>44604463</td>\n",
       "      <td>528745</td>\n",
       "      <td>44601892</td>\n",
       "      <td>528733</td>\n",
       "      <td>2571</td>\n",
       "      <td>12</td>\n",
       "      <td>1.19</td>\n",
       "      <td>Asia</td>\n",
       "    </tr>\n",
       "    <tr>\n",
       "      <th>2</th>\n",
       "      <td>France</td>\n",
       "      <td>35856904</td>\n",
       "      <td>156359</td>\n",
       "      <td>35790213</td>\n",
       "      <td>156312</td>\n",
       "      <td>66691</td>\n",
       "      <td>47</td>\n",
       "      <td>0.44</td>\n",
       "      <td>Europe</td>\n",
       "    </tr>\n",
       "    <tr>\n",
       "      <th>3</th>\n",
       "      <td>Brazil</td>\n",
       "      <td>34699017</td>\n",
       "      <td>686573</td>\n",
       "      <td>34684529</td>\n",
       "      <td>686371</td>\n",
       "      <td>14488</td>\n",
       "      <td>202</td>\n",
       "      <td>1.98</td>\n",
       "      <td>South America</td>\n",
       "    </tr>\n",
       "    <tr>\n",
       "      <th>4</th>\n",
       "      <td>Germany</td>\n",
       "      <td>33652255</td>\n",
       "      <td>150289</td>\n",
       "      <td>33519761</td>\n",
       "      <td>150192</td>\n",
       "      <td>132494</td>\n",
       "      <td>97</td>\n",
       "      <td>0.45</td>\n",
       "      <td>Europe</td>\n",
       "    </tr>\n",
       "  </tbody>\n",
       "</table>\n",
       "</div>"
      ],
      "text/plain": [
       "  Country/Region     Cases   Deaths    PCases  PDeaths  Cases (+)  Deaths (+)  \\\n",
       "0             US  96552187  1061490  96481196  1060405      70991        1085   \n",
       "1          India  44604463   528745  44601892   528733       2571          12   \n",
       "2         France  35856904   156359  35790213   156312      66691          47   \n",
       "3         Brazil  34699017   686573  34684529   686371      14488         202   \n",
       "4        Germany  33652255   150289  33519761   150192     132494          97   \n",
       "\n",
       "   Fatality Rate      Continent  \n",
       "0           1.10  North America  \n",
       "1           1.19           Asia  \n",
       "2           0.44         Europe  \n",
       "3           1.98  South America  \n",
       "4           0.45         Europe  "
      ]
     },
     "execution_count": 13,
     "metadata": {},
     "output_type": "execute_result"
    }
   ],
   "source": [
    "#hide\n",
    "for c in 'Cases, Deaths'.split(', '):\n",
    "    df_table[f'{c} (+)'] = (df_table[c] - df_table[f'P{c}']).clip(0)\n",
    "    #Clip ça veut dire, les chiffres negatif sont interdit\n",
    "df_table['Fatality Rate'] = (100* df_table['Deaths']/ df_table['Cases']).round(2)\n",
    "df_table['Continent'] = df_table['Country/Region'].map(mapping['map.continent'])\n",
    "df_table.head(5)"
   ]
  },
  {
   "cell_type": "code",
   "execution_count": 14,
   "id": "aboriginal-bulgaria",
   "metadata": {
    "execution": {
     "iopub.execute_input": "2022-10-06T12:20:55.826831Z",
     "iopub.status.busy": "2022-10-06T12:20:55.826279Z",
     "iopub.status.idle": "2022-10-06T12:20:55.828505Z",
     "shell.execute_reply": "2022-10-06T12:20:55.828950Z"
    },
    "papermill": {
     "duration": 0.03754,
     "end_time": "2022-10-06T12:20:55.829057",
     "exception": false,
     "start_time": "2022-10-06T12:20:55.791517",
     "status": "completed"
    },
    "tags": []
   },
   "outputs": [],
   "source": [
    "#hide\n",
    "#delete problematic countries from table\n",
    "df_table = df_table[~df_table['Country/Region'].isin(['Cape Verde', 'Cruise Ship', 'Kosovo'])]"
   ]
  },
  {
   "cell_type": "code",
   "execution_count": 15,
   "id": "fantastic-effect",
   "metadata": {
    "execution": {
     "iopub.execute_input": "2022-10-06T12:20:55.896502Z",
     "iopub.status.busy": "2022-10-06T12:20:55.895941Z",
     "iopub.status.idle": "2022-10-06T12:20:55.913130Z",
     "shell.execute_reply": "2022-10-06T12:20:55.912594Z"
    },
    "papermill": {
     "duration": 0.054186,
     "end_time": "2022-10-06T12:20:55.913242",
     "exception": false,
     "start_time": "2022-10-06T12:20:55.859056",
     "status": "completed"
    },
    "tags": []
   },
   "outputs": [
    {
     "data": {
      "text/html": [
       "<div>\n",
       "<style scoped>\n",
       "    .dataframe tbody tr th:only-of-type {\n",
       "        vertical-align: middle;\n",
       "    }\n",
       "\n",
       "    .dataframe tbody tr th {\n",
       "        vertical-align: top;\n",
       "    }\n",
       "\n",
       "    .dataframe thead th {\n",
       "        text-align: right;\n",
       "    }\n",
       "</style>\n",
       "<table border=\"1\" class=\"dataframe\">\n",
       "  <thead>\n",
       "    <tr style=\"text-align: right;\">\n",
       "      <th></th>\n",
       "      <th>Country/Region</th>\n",
       "      <th>Cases</th>\n",
       "      <th>Deaths</th>\n",
       "      <th>PCases</th>\n",
       "      <th>PDeaths</th>\n",
       "      <th>Cases (+)</th>\n",
       "      <th>Deaths (+)</th>\n",
       "      <th>Fatality Rate</th>\n",
       "      <th>Continent</th>\n",
       "    </tr>\n",
       "  </thead>\n",
       "  <tbody>\n",
       "    <tr>\n",
       "      <th>0</th>\n",
       "      <td>US</td>\n",
       "      <td>96552187</td>\n",
       "      <td>1061490</td>\n",
       "      <td>96481196</td>\n",
       "      <td>1060405</td>\n",
       "      <td>70991</td>\n",
       "      <td>1085</td>\n",
       "      <td>1.1</td>\n",
       "      <td>North America</td>\n",
       "    </tr>\n",
       "    <tr>\n",
       "      <th>1</th>\n",
       "      <td>India</td>\n",
       "      <td>44604463</td>\n",
       "      <td>528745</td>\n",
       "      <td>44601892</td>\n",
       "      <td>528733</td>\n",
       "      <td>2571</td>\n",
       "      <td>12</td>\n",
       "      <td>1.2</td>\n",
       "      <td>Asia</td>\n",
       "    </tr>\n",
       "    <tr>\n",
       "      <th>2</th>\n",
       "      <td>France</td>\n",
       "      <td>35856904</td>\n",
       "      <td>156359</td>\n",
       "      <td>35790213</td>\n",
       "      <td>156312</td>\n",
       "      <td>66691</td>\n",
       "      <td>47</td>\n",
       "      <td>0.4</td>\n",
       "      <td>Europe</td>\n",
       "    </tr>\n",
       "    <tr>\n",
       "      <th>3</th>\n",
       "      <td>Brazil</td>\n",
       "      <td>34699017</td>\n",
       "      <td>686573</td>\n",
       "      <td>34684529</td>\n",
       "      <td>686371</td>\n",
       "      <td>14488</td>\n",
       "      <td>202</td>\n",
       "      <td>2.0</td>\n",
       "      <td>South America</td>\n",
       "    </tr>\n",
       "    <tr>\n",
       "      <th>4</th>\n",
       "      <td>Germany</td>\n",
       "      <td>33652255</td>\n",
       "      <td>150289</td>\n",
       "      <td>33519761</td>\n",
       "      <td>150192</td>\n",
       "      <td>132494</td>\n",
       "      <td>97</td>\n",
       "      <td>0.4</td>\n",
       "      <td>Europe</td>\n",
       "    </tr>\n",
       "  </tbody>\n",
       "</table>\n",
       "</div>"
      ],
      "text/plain": [
       "  Country/Region     Cases   Deaths    PCases  PDeaths  Cases (+)  Deaths (+)  \\\n",
       "0             US  96552187  1061490  96481196  1060405      70991        1085   \n",
       "1          India  44604463   528745  44601892   528733       2571          12   \n",
       "2         France  35856904   156359  35790213   156312      66691          47   \n",
       "3         Brazil  34699017   686573  34684529   686371      14488         202   \n",
       "4        Germany  33652255   150289  33519761   150192     132494          97   \n",
       "\n",
       "   Fatality Rate      Continent  \n",
       "0            1.1  North America  \n",
       "1            1.2           Asia  \n",
       "2            0.4         Europe  \n",
       "3            2.0  South America  \n",
       "4            0.4         Europe  "
      ]
     },
     "execution_count": 15,
     "metadata": {},
     "output_type": "execute_result"
    }
   ],
   "source": [
    "#hide\n",
    "df_table = (pd.DataFrame(dict(Cases=dfc_cases, Deaths=dfc_deaths, PCases=dfp_cases, PDeaths=dfp_deaths))\n",
    "             .sort_values(by=['Cases', 'Deaths'], ascending=[False, False])\n",
    "             .reset_index())\n",
    "df_table.rename(columns={'index': 'Country/Region'}, inplace=True)\n",
    "for c in 'Cases, Deaths'.split(', '):\n",
    "    df_table[f'{c} (+)'] = (df_table[c] - df_table[f'P{c}']).clip(0)  # DATA BUG\n",
    "df_table['Fatality Rate'] = (100 * df_table['Deaths'] / df_table['Cases']).round(1)\n",
    "df_table['Continent'] = df_table['Country/Region'].map(mapping['map.continent'])\n",
    "df_table.head(5)"
   ]
  },
  {
   "cell_type": "code",
   "execution_count": 16,
   "id": "fewer-occasion",
   "metadata": {
    "execution": {
     "iopub.execute_input": "2022-10-06T12:20:55.979808Z",
     "iopub.status.busy": "2022-10-06T12:20:55.979249Z",
     "iopub.status.idle": "2022-10-06T12:20:55.981935Z",
     "shell.execute_reply": "2022-10-06T12:20:55.981405Z"
    },
    "papermill": {
     "duration": 0.038051,
     "end_time": "2022-10-06T12:20:55.982033",
     "exception": false,
     "start_time": "2022-10-06T12:20:55.943982",
     "status": "completed"
    },
    "tags": []
   },
   "outputs": [],
   "source": [
    "#hide\n",
    "#delete problematic countries from table\n",
    "df_table = df_table[~df_table['Country/Region'].isin(['Cape Verde', 'Cruise Ship', 'Kosovo'])]"
   ]
  },
  {
   "cell_type": "code",
   "execution_count": 17,
   "id": "related-center",
   "metadata": {
    "execution": {
     "iopub.execute_input": "2022-10-06T12:20:56.060051Z",
     "iopub.status.busy": "2022-10-06T12:20:56.059470Z",
     "iopub.status.idle": "2022-10-06T12:20:56.062236Z",
     "shell.execute_reply": "2022-10-06T12:20:56.061470Z"
    },
    "papermill": {
     "duration": 0.049672,
     "end_time": "2022-10-06T12:20:56.062338",
     "exception": false,
     "start_time": "2022-10-06T12:20:56.012666",
     "status": "completed"
    },
    "tags": []
   },
   "outputs": [],
   "source": [
    "#hide\n",
    "metrics = [df_table.columns[index] for index in [1,2,5,6]]\n",
    "# s_china = df_table[df_table['Country/Region'].eq('China')][metrics].sum().add_prefix('China ')\n",
    "s_us = df_table[df_table['Country/Region'].eq('US')][metrics].sum().add_prefix('US ')\n",
    "s_eu = df_table[df_table['Continent'].eq('Europe')][metrics].sum().add_prefix('EU ')\n",
    "s_ind = df_table[df_table['Country/Region'].eq('India')][metrics].sum().add_prefix('India ')\n",
    "summary = {'updated': pd.to_datetime(dt_today), 'since': pd.to_datetime(dt_yday)}\n",
    "summary = {'updated': pd.to_datetime(dt_today), 'since': pd.to_datetime(dt_yday)}\n",
    "summary = {**summary, **df_table[metrics].sum(), **s_ind, **s_us, **s_eu}"
   ]
  },
  {
   "cell_type": "code",
   "execution_count": 18,
   "id": "engaging-syndrome",
   "metadata": {
    "execution": {
     "iopub.execute_input": "2022-10-06T12:20:56.128735Z",
     "iopub.status.busy": "2022-10-06T12:20:56.128179Z",
     "iopub.status.idle": "2022-10-06T12:20:56.146990Z",
     "shell.execute_reply": "2022-10-06T12:20:56.146535Z"
    },
    "papermill": {
     "duration": 0.053874,
     "end_time": "2022-10-06T12:20:56.147090",
     "exception": false,
     "start_time": "2022-10-06T12:20:56.093216",
     "status": "completed"
    },
    "tags": []
   },
   "outputs": [],
   "source": [
    "#hide\n",
    "dft_ct_new_cases = dft_cases.groupby(COL_REGION)[dt_cols].sum().diff(axis=1).fillna(0).astype(int)"
   ]
  },
  {
   "cell_type": "code",
   "execution_count": 19,
   "id": "neutral-assignment",
   "metadata": {
    "execution": {
     "iopub.execute_input": "2022-10-06T12:20:56.214449Z",
     "iopub.status.busy": "2022-10-06T12:20:56.213867Z",
     "iopub.status.idle": "2022-10-06T12:20:56.216255Z",
     "shell.execute_reply": "2022-10-06T12:20:56.215802Z"
    },
    "papermill": {
     "duration": 0.03839,
     "end_time": "2022-10-06T12:20:56.216352",
     "exception": false,
     "start_time": "2022-10-06T12:20:56.177962",
     "status": "completed"
    },
    "tags": []
   },
   "outputs": [],
   "source": [
    "#hide\n",
    "everydaycases = dft_ct_new_cases.cumsum(axis=1)"
   ]
  },
  {
   "cell_type": "code",
   "execution_count": 20,
   "id": "parliamentary-calgary",
   "metadata": {
    "execution": {
     "iopub.execute_input": "2022-10-06T12:20:56.282323Z",
     "iopub.status.busy": "2022-10-06T12:20:56.281743Z",
     "iopub.status.idle": "2022-10-06T12:20:56.819139Z",
     "shell.execute_reply": "2022-10-06T12:20:56.818154Z"
    },
    "papermill": {
     "duration": 0.572157,
     "end_time": "2022-10-06T12:20:56.819263",
     "exception": false,
     "start_time": "2022-10-06T12:20:56.247106",
     "status": "completed"
    },
    "tags": []
   },
   "outputs": [],
   "source": [
    "#hide\n",
    "import pandas as pd\n",
    "import matplotlib.pyplot as plt\n",
    "import matplotlib.ticker as ticker\n",
    "import matplotlib.animation as animation\n",
    "from IPython.display import HTML"
   ]
  },
  {
   "cell_type": "code",
   "execution_count": 21,
   "id": "lasting-extraction",
   "metadata": {
    "execution": {
     "iopub.execute_input": "2022-10-06T12:20:56.887356Z",
     "iopub.status.busy": "2022-10-06T12:20:56.886791Z",
     "iopub.status.idle": "2022-10-06T12:20:56.893685Z",
     "shell.execute_reply": "2022-10-06T12:20:56.893123Z"
    },
    "papermill": {
     "duration": 0.043468,
     "end_time": "2022-10-06T12:20:56.893785",
     "exception": false,
     "start_time": "2022-10-06T12:20:56.850317",
     "status": "completed"
    },
    "tags": []
   },
   "outputs": [],
   "source": [
    "#hide\n",
    "t = everydaycases.stack()"
   ]
  },
  {
   "cell_type": "code",
   "execution_count": 22,
   "id": "premier-sleeve",
   "metadata": {
    "execution": {
     "iopub.execute_input": "2022-10-06T12:20:56.959547Z",
     "iopub.status.busy": "2022-10-06T12:20:56.958979Z",
     "iopub.status.idle": "2022-10-06T12:20:56.970573Z",
     "shell.execute_reply": "2022-10-06T12:20:56.970033Z"
    },
    "papermill": {
     "duration": 0.045988,
     "end_time": "2022-10-06T12:20:56.970672",
     "exception": false,
     "start_time": "2022-10-06T12:20:56.924684",
     "status": "completed"
    },
    "tags": []
   },
   "outputs": [],
   "source": [
    "#hide\n",
    "g = t.reset_index(['Country/Region'])"
   ]
  },
  {
   "cell_type": "code",
   "execution_count": 23,
   "id": "distributed-pittsburgh",
   "metadata": {
    "execution": {
     "iopub.execute_input": "2022-10-06T12:20:57.035790Z",
     "iopub.status.busy": "2022-10-06T12:20:57.035232Z",
     "iopub.status.idle": "2022-10-06T12:20:57.037670Z",
     "shell.execute_reply": "2022-10-06T12:20:57.037231Z"
    },
    "papermill": {
     "duration": 0.036433,
     "end_time": "2022-10-06T12:20:57.037765",
     "exception": false,
     "start_time": "2022-10-06T12:20:57.001332",
     "status": "completed"
    },
    "tags": []
   },
   "outputs": [],
   "source": [
    "#hide\n",
    "g.index.name = 'date'"
   ]
  },
  {
   "cell_type": "code",
   "execution_count": 24,
   "id": "naked-donor",
   "metadata": {
    "execution": {
     "iopub.execute_input": "2022-10-06T12:20:57.102814Z",
     "iopub.status.busy": "2022-10-06T12:20:57.102243Z",
     "iopub.status.idle": "2022-10-06T12:20:57.104644Z",
     "shell.execute_reply": "2022-10-06T12:20:57.104205Z"
    },
    "papermill": {
     "duration": 0.036329,
     "end_time": "2022-10-06T12:20:57.104740",
     "exception": false,
     "start_time": "2022-10-06T12:20:57.068411",
     "status": "completed"
    },
    "tags": []
   },
   "outputs": [],
   "source": [
    "# #hide\n",
    "# g = g.reset_index(['date'])"
   ]
  },
  {
   "cell_type": "code",
   "execution_count": 25,
   "id": "incomplete-mustang",
   "metadata": {
    "execution": {
     "iopub.execute_input": "2022-10-06T12:20:57.170045Z",
     "iopub.status.busy": "2022-10-06T12:20:57.169472Z",
     "iopub.status.idle": "2022-10-06T12:20:57.171886Z",
     "shell.execute_reply": "2022-10-06T12:20:57.171450Z"
    },
    "papermill": {
     "duration": 0.036377,
     "end_time": "2022-10-06T12:20:57.171982",
     "exception": false,
     "start_time": "2022-10-06T12:20:57.135605",
     "status": "completed"
    },
    "tags": []
   },
   "outputs": [],
   "source": [
    "#hide\n",
    "# g.head()"
   ]
  },
  {
   "cell_type": "code",
   "execution_count": 26,
   "id": "specific-kruger",
   "metadata": {
    "execution": {
     "iopub.execute_input": "2022-10-06T12:20:57.237344Z",
     "iopub.status.busy": "2022-10-06T12:20:57.236731Z",
     "iopub.status.idle": "2022-10-06T12:20:57.238792Z",
     "shell.execute_reply": "2022-10-06T12:20:57.239194Z"
    },
    "papermill": {
     "duration": 0.036561,
     "end_time": "2022-10-06T12:20:57.239311",
     "exception": false,
     "start_time": "2022-10-06T12:20:57.202750",
     "status": "completed"
    },
    "tags": []
   },
   "outputs": [],
   "source": [
    "#hide\n",
    "# g.columns = ['date','country','cases']"
   ]
  },
  {
   "cell_type": "code",
   "execution_count": 27,
   "id": "tender-conversion",
   "metadata": {
    "execution": {
     "iopub.execute_input": "2022-10-06T12:20:57.304314Z",
     "iopub.status.busy": "2022-10-06T12:20:57.303753Z",
     "iopub.status.idle": "2022-10-06T12:20:57.306143Z",
     "shell.execute_reply": "2022-10-06T12:20:57.305623Z"
    },
    "papermill": {
     "duration": 0.036192,
     "end_time": "2022-10-06T12:20:57.306239",
     "exception": false,
     "start_time": "2022-10-06T12:20:57.270047",
     "status": "completed"
    },
    "tags": []
   },
   "outputs": [],
   "source": [
    "#hide\n",
    "# g['continent'] = g.country"
   ]
  },
  {
   "cell_type": "code",
   "execution_count": 28,
   "id": "substantial-wilderness",
   "metadata": {
    "execution": {
     "iopub.execute_input": "2022-10-06T12:20:57.372447Z",
     "iopub.status.busy": "2022-10-06T12:20:57.371876Z",
     "iopub.status.idle": "2022-10-06T12:20:57.374208Z",
     "shell.execute_reply": "2022-10-06T12:20:57.373683Z"
    },
    "papermill": {
     "duration": 0.037102,
     "end_time": "2022-10-06T12:20:57.374307",
     "exception": false,
     "start_time": "2022-10-06T12:20:57.337205",
     "status": "completed"
    },
    "tags": []
   },
   "outputs": [],
   "source": [
    "#hide\n",
    "# cols = list(g.columns.values)"
   ]
  },
  {
   "cell_type": "code",
   "execution_count": 29,
   "id": "solved-farming",
   "metadata": {
    "execution": {
     "iopub.execute_input": "2022-10-06T12:20:57.439889Z",
     "iopub.status.busy": "2022-10-06T12:20:57.439312Z",
     "iopub.status.idle": "2022-10-06T12:20:57.441454Z",
     "shell.execute_reply": "2022-10-06T12:20:57.440986Z"
    },
    "papermill": {
     "duration": 0.036496,
     "end_time": "2022-10-06T12:20:57.441557",
     "exception": false,
     "start_time": "2022-10-06T12:20:57.405061",
     "status": "completed"
    },
    "tags": []
   },
   "outputs": [],
   "source": [
    "#hide\n",
    "# cols.insert(0, cols.pop())"
   ]
  },
  {
   "cell_type": "code",
   "execution_count": 30,
   "id": "executed-adoption",
   "metadata": {
    "execution": {
     "iopub.execute_input": "2022-10-06T12:20:57.507426Z",
     "iopub.status.busy": "2022-10-06T12:20:57.506845Z",
     "iopub.status.idle": "2022-10-06T12:20:57.509275Z",
     "shell.execute_reply": "2022-10-06T12:20:57.508708Z"
    },
    "papermill": {
     "duration": 0.036788,
     "end_time": "2022-10-06T12:20:57.509376",
     "exception": false,
     "start_time": "2022-10-06T12:20:57.472588",
     "status": "completed"
    },
    "tags": []
   },
   "outputs": [],
   "source": [
    "#hide\n",
    "# g = g[cols]"
   ]
  },
  {
   "cell_type": "code",
   "execution_count": 31,
   "id": "subject-dublin",
   "metadata": {
    "execution": {
     "iopub.execute_input": "2022-10-06T12:20:57.574513Z",
     "iopub.status.busy": "2022-10-06T12:20:57.573943Z",
     "iopub.status.idle": "2022-10-06T12:20:57.576312Z",
     "shell.execute_reply": "2022-10-06T12:20:57.575787Z"
    },
    "papermill": {
     "duration": 0.036169,
     "end_time": "2022-10-06T12:20:57.576407",
     "exception": false,
     "start_time": "2022-10-06T12:20:57.540238",
     "status": "completed"
    },
    "tags": []
   },
   "outputs": [],
   "source": [
    "#hide\n",
    "# g['continent'] = g['continent'].map(mapping['map.continent'])"
   ]
  },
  {
   "cell_type": "code",
   "execution_count": 32,
   "id": "freelance-scout",
   "metadata": {
    "execution": {
     "iopub.execute_input": "2022-10-06T12:20:57.640960Z",
     "iopub.status.busy": "2022-10-06T12:20:57.640411Z",
     "iopub.status.idle": "2022-10-06T12:20:57.642753Z",
     "shell.execute_reply": "2022-10-06T12:20:57.642235Z"
    },
    "papermill": {
     "duration": 0.035625,
     "end_time": "2022-10-06T12:20:57.642848",
     "exception": false,
     "start_time": "2022-10-06T12:20:57.607223",
     "status": "completed"
    },
    "tags": []
   },
   "outputs": [],
   "source": [
    "#hide\n",
    "# g.head()"
   ]
  },
  {
   "cell_type": "code",
   "execution_count": 33,
   "id": "limited-engine",
   "metadata": {
    "execution": {
     "iopub.execute_input": "2022-10-06T12:20:57.707119Z",
     "iopub.status.busy": "2022-10-06T12:20:57.706565Z",
     "iopub.status.idle": "2022-10-06T12:20:57.709028Z",
     "shell.execute_reply": "2022-10-06T12:20:57.708581Z"
    },
    "papermill": {
     "duration": 0.035686,
     "end_time": "2022-10-06T12:20:57.709122",
     "exception": false,
     "start_time": "2022-10-06T12:20:57.673436",
     "status": "completed"
    },
    "tags": []
   },
   "outputs": [],
   "source": [
    "# hide\n",
    "# g['date'] = g['date'].astype('datetime64[ns]')"
   ]
  },
  {
   "cell_type": "code",
   "execution_count": 34,
   "id": "sophisticated-supervisor",
   "metadata": {
    "execution": {
     "iopub.execute_input": "2022-10-06T12:20:57.774171Z",
     "iopub.status.busy": "2022-10-06T12:20:57.773605Z",
     "iopub.status.idle": "2022-10-06T12:20:57.776006Z",
     "shell.execute_reply": "2022-10-06T12:20:57.775568Z"
    },
    "papermill": {
     "duration": 0.036143,
     "end_time": "2022-10-06T12:20:57.776101",
     "exception": false,
     "start_time": "2022-10-06T12:20:57.739958",
     "status": "completed"
    },
    "tags": []
   },
   "outputs": [],
   "source": [
    "#hide\n",
    "# g['date'] = g.date.dt.dayofyear"
   ]
  },
  {
   "cell_type": "code",
   "execution_count": 35,
   "id": "inside-dubai",
   "metadata": {
    "execution": {
     "iopub.execute_input": "2022-10-06T12:20:57.840418Z",
     "iopub.status.busy": "2022-10-06T12:20:57.839853Z",
     "iopub.status.idle": "2022-10-06T12:20:57.842291Z",
     "shell.execute_reply": "2022-10-06T12:20:57.841851Z"
    },
    "papermill": {
     "duration": 0.03569,
     "end_time": "2022-10-06T12:20:57.842384",
     "exception": false,
     "start_time": "2022-10-06T12:20:57.806694",
     "status": "completed"
    },
    "tags": []
   },
   "outputs": [],
   "source": [
    "#hide\n",
    "# g = g.rename(columns= {'continent':'group','country':'name','cases':'value'})"
   ]
  },
  {
   "cell_type": "code",
   "execution_count": 36,
   "id": "fleet-motorcycle",
   "metadata": {
    "execution": {
     "iopub.execute_input": "2022-10-06T12:20:57.907322Z",
     "iopub.status.busy": "2022-10-06T12:20:57.906754Z",
     "iopub.status.idle": "2022-10-06T12:20:57.909075Z",
     "shell.execute_reply": "2022-10-06T12:20:57.908550Z"
    },
    "papermill": {
     "duration": 0.035796,
     "end_time": "2022-10-06T12:20:57.909189",
     "exception": false,
     "start_time": "2022-10-06T12:20:57.873393",
     "status": "completed"
    },
    "tags": []
   },
   "outputs": [],
   "source": [
    "#hide\n",
    "# cols = ['name','group','day','value']"
   ]
  },
  {
   "cell_type": "code",
   "execution_count": 37,
   "id": "continued-sleeping",
   "metadata": {
    "execution": {
     "iopub.execute_input": "2022-10-06T12:20:57.973812Z",
     "iopub.status.busy": "2022-10-06T12:20:57.973258Z",
     "iopub.status.idle": "2022-10-06T12:20:57.975429Z",
     "shell.execute_reply": "2022-10-06T12:20:57.974995Z"
    },
    "papermill": {
     "duration": 0.035648,
     "end_time": "2022-10-06T12:20:57.975520",
     "exception": false,
     "start_time": "2022-10-06T12:20:57.939872",
     "status": "completed"
    },
    "tags": []
   },
   "outputs": [],
   "source": [
    "#hide\n",
    "# g.rename(columns= {'date':'day'},inplace = True)"
   ]
  },
  {
   "cell_type": "code",
   "execution_count": 38,
   "id": "major-fight",
   "metadata": {
    "execution": {
     "iopub.execute_input": "2022-10-06T12:20:58.040225Z",
     "iopub.status.busy": "2022-10-06T12:20:58.039649Z",
     "iopub.status.idle": "2022-10-06T12:20:58.042084Z",
     "shell.execute_reply": "2022-10-06T12:20:58.041644Z"
    },
    "papermill": {
     "duration": 0.035905,
     "end_time": "2022-10-06T12:20:58.042177",
     "exception": false,
     "start_time": "2022-10-06T12:20:58.006272",
     "status": "completed"
    },
    "tags": []
   },
   "outputs": [],
   "source": [
    "#hide\n",
    "# g = g[cols]"
   ]
  },
  {
   "cell_type": "code",
   "execution_count": 39,
   "id": "structured-mobile",
   "metadata": {
    "execution": {
     "iopub.execute_input": "2022-10-06T12:20:58.106634Z",
     "iopub.status.busy": "2022-10-06T12:20:58.106064Z",
     "iopub.status.idle": "2022-10-06T12:20:58.108441Z",
     "shell.execute_reply": "2022-10-06T12:20:58.107920Z"
    },
    "papermill": {
     "duration": 0.035824,
     "end_time": "2022-10-06T12:20:58.108534",
     "exception": false,
     "start_time": "2022-10-06T12:20:58.072710",
     "status": "completed"
    },
    "tags": []
   },
   "outputs": [],
   "source": [
    "# #hide\n",
    "# g = g[g.group.notna()]"
   ]
  },
  {
   "cell_type": "code",
   "execution_count": 40,
   "id": "determined-closing",
   "metadata": {
    "execution": {
     "iopub.execute_input": "2022-10-06T12:20:58.173471Z",
     "iopub.status.busy": "2022-10-06T12:20:58.172853Z",
     "iopub.status.idle": "2022-10-06T12:20:58.175226Z",
     "shell.execute_reply": "2022-10-06T12:20:58.174700Z"
    },
    "papermill": {
     "duration": 0.035915,
     "end_time": "2022-10-06T12:20:58.175321",
     "exception": false,
     "start_time": "2022-10-06T12:20:58.139406",
     "status": "completed"
    },
    "tags": []
   },
   "outputs": [],
   "source": [
    "# #hide\n",
    "# colors = dict(zip(\n",
    "#     [\"Oceania\", \"Europe\", \"Asia\", \"South America\", \"Middle East\", \"North America\", \"Africa\"],\n",
    "#     [\"#adb0ff\", \"#ffb3ff\", \"#90d595\", \"#e48381\", \"#aafbff\", \"#f7bb5f\", \"#eafb50\"]\n",
    "# ))\n",
    "# group_lk = g.set_index('name')['group'].to_dict()"
   ]
  },
  {
   "cell_type": "code",
   "execution_count": null,
   "id": "gross-drinking",
   "metadata": {
    "papermill": {
     "duration": 0.030573,
     "end_time": "2022-10-06T12:20:58.236527",
     "exception": false,
     "start_time": "2022-10-06T12:20:58.205954",
     "status": "completed"
    },
    "tags": []
   },
   "outputs": [],
   "source": []
  },
  {
   "cell_type": "code",
   "execution_count": 41,
   "id": "subject-macintosh",
   "metadata": {
    "execution": {
     "iopub.execute_input": "2022-10-06T12:20:58.302329Z",
     "iopub.status.busy": "2022-10-06T12:20:58.301761Z",
     "iopub.status.idle": "2022-10-06T12:20:58.303977Z",
     "shell.execute_reply": "2022-10-06T12:20:58.304418Z"
    },
    "papermill": {
     "duration": 0.037229,
     "end_time": "2022-10-06T12:20:58.304526",
     "exception": false,
     "start_time": "2022-10-06T12:20:58.267297",
     "status": "completed"
    },
    "tags": []
   },
   "outputs": [],
   "source": [
    "# #hide\n",
    "# fig, ax = plt.subplots(figsize=(15, 8))\n",
    "\n",
    "# def draw_barchart(current_day):\n",
    "#     dff = g[g['day'].eq(current_day)].sort_values(by='value', ascending=True).tail(10)\n",
    "#     ax.clear()\n",
    "#     ax.barh(dff['name'], dff['value'], color=[colors[group_lk[x]] for x in dff['name']])\n",
    "#     dx = dff['value'].max() / 200\n",
    "    \n",
    "#     for i, (value, name) in enumerate(zip(dff['value'], dff['name'])):\n",
    "#         ax.text(value-dx, i,     name,           size=14, weight=600, ha='right', va='bottom')\n",
    "#         ax.text(value-dx, i-.25, group_lk[name], size=10, color='#444444', ha='right', va='baseline')\n",
    "#         ax.text(value+dx, i,     f'{value:,.0f}',  size=14, ha='left',  va='center')\n",
    "#     ax.text(1, 0.4, current_day, transform=ax.transAxes, color='#777777', size=46, ha='right', weight=800)\n",
    "#     ax.text(0, 1.06, 'Population (thousands)', transform=ax.transAxes, size=12, color='#777777')\n",
    "#     ax.xaxis.set_major_formatter(ticker.StrMethodFormatter('{x:,.0f}'))\n",
    "#     ax.xaxis.set_ticks_position('top')\n",
    "#     ax.tick_params(axis='x', colors='#777777', labelsize=12)\n",
    "#     ax.set_yticks([])\n",
    "#     ax.margins(0, 0.01)\n",
    "#     ax.grid(which='major', axis='x', linestyle='-')\n",
    "#     ax.set_axisbelow(True)\n",
    "    \n",
    "#     ax.text(0, 1.15, 'Coronavirus',\n",
    "#             transform=ax.transAxes, size=24, weight=600, ha='left', va='top')\n",
    "# #     ax.text(1, 0, 'by @pratapvardhan; credit @jburnmurdoch', transform=ax.transAxes, color='#777777', ha='right',\n",
    "# #             bbox=dict(facecolor='white', alpha=0.8, edgecolor='white'))\n",
    "#     plt.box(False)"
   ]
  },
  {
   "cell_type": "code",
   "execution_count": 42,
   "id": "sexual-wages",
   "metadata": {
    "execution": {
     "iopub.execute_input": "2022-10-06T12:20:58.369647Z",
     "iopub.status.busy": "2022-10-06T12:20:58.369054Z",
     "iopub.status.idle": "2022-10-06T12:20:58.371454Z",
     "shell.execute_reply": "2022-10-06T12:20:58.370935Z"
    },
    "papermill": {
     "duration": 0.036315,
     "end_time": "2022-10-06T12:20:58.371553",
     "exception": false,
     "start_time": "2022-10-06T12:20:58.335238",
     "status": "completed"
    },
    "tags": []
   },
   "outputs": [],
   "source": [
    "# #hide_input\n",
    "# fig, ax = plt.subplots(figsize=(15, 8))\n",
    "# animator = animation.FuncAnimation(fig, draw_barchart, frames=range(g.day.values.min(), g.day.values.max()))\n",
    "# HTML(animator.to_jshtml())\n",
    "# # or use animator.to_html5_video() or animator.save() "
   ]
  },
  {
   "cell_type": "code",
   "execution_count": null,
   "id": "australian-container",
   "metadata": {
    "papermill": {
     "duration": 0.030558,
     "end_time": "2022-10-06T12:20:58.432976",
     "exception": false,
     "start_time": "2022-10-06T12:20:58.402418",
     "status": "completed"
    },
    "tags": []
   },
   "outputs": [],
   "source": []
  },
  {
   "cell_type": "code",
   "execution_count": null,
   "id": "mediterranean-pontiac",
   "metadata": {
    "papermill": {
     "duration": 0.030619,
     "end_time": "2022-10-06T12:20:58.494294",
     "exception": false,
     "start_time": "2022-10-06T12:20:58.463675",
     "status": "completed"
    },
    "tags": []
   },
   "outputs": [],
   "source": []
  },
  {
   "cell_type": "code",
   "execution_count": null,
   "id": "aging-legislature",
   "metadata": {
    "papermill": {
     "duration": 0.030683,
     "end_time": "2022-10-06T12:20:58.556318",
     "exception": false,
     "start_time": "2022-10-06T12:20:58.525635",
     "status": "completed"
    },
    "tags": []
   },
   "outputs": [],
   "source": []
  }
 ],
 "metadata": {
  "kernelspec": {
   "display_name": "Python 3",
   "language": "python",
   "name": "python3"
  },
  "language_info": {
   "codemirror_mode": {
    "name": "ipython",
    "version": 3
   },
   "file_extension": ".py",
   "mimetype": "text/x-python",
   "name": "python",
   "nbconvert_exporter": "python",
   "pygments_lexer": "ipython3",
   "version": "3.6.15"
  },
  "papermill": {
   "duration": 5.703054,
   "end_time": "2022-10-06T12:20:58.905191",
   "environment_variables": {},
   "exception": null,
   "input_path": "2020-03-21-covid19exp.ipynb",
   "output_path": "2020-03-21-covid19exp.ipynb",
   "parameters": {},
   "start_time": "2022-10-06T12:20:53.202137",
   "version": "2.0.0"
  }
 },
 "nbformat": 4,
 "nbformat_minor": 5
}