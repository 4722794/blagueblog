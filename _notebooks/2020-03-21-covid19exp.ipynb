{
 "cells": [
  {
   "cell_type": "markdown",
   "metadata": {
    "papermill": {
     "duration": 0.036108,
     "end_time": "2021-01-14T00:44:37.635214",
     "exception": false,
     "start_time": "2021-01-14T00:44:37.599106",
     "status": "completed"
    },
    "tags": []
   },
   "source": [
    "# COVID-19 Case Race\n",
    "> A race chart to see rising cases around the world\n",
    "\n",
    "- author: Hargun Oberoi\n",
    "- image: images/covid-overview.png\n",
    "- hide: false\n",
    "- badges: false"
   ]
  },
  {
   "cell_type": "code",
   "execution_count": 1,
   "metadata": {
    "execution": {
     "iopub.execute_input": "2021-01-14T00:44:37.709635Z",
     "iopub.status.busy": "2021-01-14T00:44:37.709027Z",
     "iopub.status.idle": "2021-01-14T00:44:38.043488Z",
     "shell.execute_reply": "2021-01-14T00:44:38.042924Z"
    },
    "papermill": {
     "duration": 0.37535,
     "end_time": "2021-01-14T00:44:38.043643",
     "exception": false,
     "start_time": "2021-01-14T00:44:37.668293",
     "status": "completed"
    },
    "tags": []
   },
   "outputs": [],
   "source": [
    "#hide\n",
    "import numpy as np\n",
    "import pandas as pd\n",
    "from jinja2 import Template\n",
    "from IPython.display import HTML"
   ]
  },
  {
   "cell_type": "code",
   "execution_count": 2,
   "metadata": {
    "execution": {
     "iopub.execute_input": "2021-01-14T00:44:38.111472Z",
     "iopub.status.busy": "2021-01-14T00:44:38.110247Z",
     "iopub.status.idle": "2021-01-14T00:44:38.112126Z",
     "shell.execute_reply": "2021-01-14T00:44:38.112760Z"
    },
    "papermill": {
     "duration": 0.037717,
     "end_time": "2021-01-14T00:44:38.112917",
     "exception": false,
     "start_time": "2021-01-14T00:44:38.075200",
     "status": "completed"
    },
    "tags": []
   },
   "outputs": [],
   "source": [
    "#hide\n",
    "\n",
    "# FETCH\n",
    "base_url = 'https://raw.githubusercontent.com/pratapvardhan/notebooks/master/covid19/'\n",
    "paths = {\n",
    "    'mapping': base_url + 'mapping_countries.csv',\n",
    "    'overview': base_url + 'overview.tpl'\n",
    "}"
   ]
  },
  {
   "cell_type": "code",
   "execution_count": 3,
   "metadata": {
    "execution": {
     "iopub.execute_input": "2021-01-14T00:44:38.190008Z",
     "iopub.status.busy": "2021-01-14T00:44:38.188147Z",
     "iopub.status.idle": "2021-01-14T00:44:38.193570Z",
     "shell.execute_reply": "2021-01-14T00:44:38.192989Z"
    },
    "papermill": {
     "duration": 0.045724,
     "end_time": "2021-01-14T00:44:38.193701",
     "exception": false,
     "start_time": "2021-01-14T00:44:38.147977",
     "status": "completed"
    },
    "tags": []
   },
   "outputs": [
    {
     "data": {
      "text/plain": [
       "'https://raw.githubusercontent.com/pratapvardhan/notebooks/master/covid19/mapping_countries.csv'"
      ]
     },
     "execution_count": 3,
     "metadata": {},
     "output_type": "execute_result"
    }
   ],
   "source": [
    "#hide\n",
    "paths['mapping']"
   ]
  },
  {
   "cell_type": "code",
   "execution_count": 4,
   "metadata": {
    "execution": {
     "iopub.execute_input": "2021-01-14T00:44:38.262792Z",
     "iopub.status.busy": "2021-01-14T00:44:38.261811Z",
     "iopub.status.idle": "2021-01-14T00:44:38.263410Z",
     "shell.execute_reply": "2021-01-14T00:44:38.263868Z"
    },
    "papermill": {
     "duration": 0.040193,
     "end_time": "2021-01-14T00:44:38.264012",
     "exception": false,
     "start_time": "2021-01-14T00:44:38.223819",
     "status": "completed"
    },
    "tags": []
   },
   "outputs": [],
   "source": [
    "#hide\n",
    "def get_mappings(url):\n",
    "    df = pd.read_csv(url)\n",
    "    return {\n",
    "        'df': df,\n",
    "        'replace.country': dict(df.dropna(subset=['Name']).set_index('Country')['Name']),\n",
    "        'map.continent': dict(df.set_index('Name')['Continent'])\n",
    "    }"
   ]
  },
  {
   "cell_type": "code",
   "execution_count": 5,
   "metadata": {
    "execution": {
     "iopub.execute_input": "2021-01-14T00:44:38.332056Z",
     "iopub.status.busy": "2021-01-14T00:44:38.331468Z",
     "iopub.status.idle": "2021-01-14T00:44:38.378213Z",
     "shell.execute_reply": "2021-01-14T00:44:38.378815Z"
    },
    "papermill": {
     "duration": 0.083469,
     "end_time": "2021-01-14T00:44:38.378975",
     "exception": false,
     "start_time": "2021-01-14T00:44:38.295506",
     "status": "completed"
    },
    "tags": []
   },
   "outputs": [],
   "source": [
    "#hide\n",
    "mapping = get_mappings(paths['mapping'])"
   ]
  },
  {
   "cell_type": "code",
   "execution_count": 6,
   "metadata": {
    "execution": {
     "iopub.execute_input": "2021-01-14T00:44:38.446889Z",
     "iopub.status.busy": "2021-01-14T00:44:38.446167Z",
     "iopub.status.idle": "2021-01-14T00:44:38.448432Z",
     "shell.execute_reply": "2021-01-14T00:44:38.447971Z"
    },
    "papermill": {
     "duration": 0.03808,
     "end_time": "2021-01-14T00:44:38.448571",
     "exception": false,
     "start_time": "2021-01-14T00:44:38.410491",
     "status": "completed"
    },
    "tags": []
   },
   "outputs": [],
   "source": [
    "#hide\n",
    "def get_template(path):\n",
    "    from urllib.parse import urlparse\n",
    "    if bool(urlparse(path).netloc):\n",
    "        from urllib.request import urlopen\n",
    "        return urlopen(path).read().decode('utf8')\n",
    "    return open(path).read()"
   ]
  },
  {
   "cell_type": "code",
   "execution_count": 7,
   "metadata": {
    "execution": {
     "iopub.execute_input": "2021-01-14T00:44:38.517454Z",
     "iopub.status.busy": "2021-01-14T00:44:38.516647Z",
     "iopub.status.idle": "2021-01-14T00:44:38.519108Z",
     "shell.execute_reply": "2021-01-14T00:44:38.519599Z"
    },
    "papermill": {
     "duration": 0.040119,
     "end_time": "2021-01-14T00:44:38.519750",
     "exception": false,
     "start_time": "2021-01-14T00:44:38.479631",
     "status": "completed"
    },
    "tags": []
   },
   "outputs": [],
   "source": [
    "#hide\n",
    "def get_frame(name):\n",
    "    url = (\n",
    "        'https://raw.githubusercontent.com/CSSEGISandData/COVID-19/master/csse_covid_19_data/'\n",
    "        f'csse_covid_19_time_series/time_series_covid19_{name}_global.csv')\n",
    "    df = pd.read_csv(url)\n",
    "    # rename countries\n",
    "    df['Country/Region'] = df['Country/Region'].replace(mapping['replace.country'])\n",
    "    return df"
   ]
  },
  {
   "cell_type": "code",
   "execution_count": 8,
   "metadata": {
    "execution": {
     "iopub.execute_input": "2021-01-14T00:44:38.589588Z",
     "iopub.status.busy": "2021-01-14T00:44:38.588953Z",
     "iopub.status.idle": "2021-01-14T00:44:38.590486Z",
     "shell.execute_reply": "2021-01-14T00:44:38.591102Z"
    },
    "papermill": {
     "duration": 0.039695,
     "end_time": "2021-01-14T00:44:38.591251",
     "exception": false,
     "start_time": "2021-01-14T00:44:38.551556",
     "status": "completed"
    },
    "tags": []
   },
   "outputs": [],
   "source": [
    "#hide\n",
    "def get_dates(df):\n",
    "    dt_cols = df.columns[~df.columns.isin(['Province/State', 'Country/Region', 'Lat', 'Long'])]\n",
    "    LAST_DATE_I = -1\n",
    "    # sometimes last column may be empty, then go backwards\n",
    "    for i in range(-1, -len(dt_cols), -1):\n",
    "        if not df[dt_cols[i]].fillna(0).eq(0).all():\n",
    "            LAST_DATE_I = i\n",
    "            break\n",
    "    return LAST_DATE_I, dt_cols"
   ]
  },
  {
   "cell_type": "code",
   "execution_count": 9,
   "metadata": {
    "execution": {
     "iopub.execute_input": "2021-01-14T00:44:38.656454Z",
     "iopub.status.busy": "2021-01-14T00:44:38.655855Z",
     "iopub.status.idle": "2021-01-14T00:44:38.997904Z",
     "shell.execute_reply": "2021-01-14T00:44:38.997332Z"
    },
    "papermill": {
     "duration": 0.376753,
     "end_time": "2021-01-14T00:44:38.998050",
     "exception": false,
     "start_time": "2021-01-14T00:44:38.621297",
     "status": "completed"
    },
    "tags": []
   },
   "outputs": [],
   "source": [
    "#hide\n",
    "COL_REGION = 'Country/Region'\n",
    "# Confirmed, Recovered, Deaths\n",
    "df = get_frame('confirmed')\n",
    "# dft_: timeseries, dfc_: today country agg\n",
    "dft_cases = df\n",
    "dft_deaths = get_frame('deaths')\n",
    "dft_recovered = get_frame('recovered')\n",
    "LAST_DATE_I, dt_cols = get_dates(df)"
   ]
  },
  {
   "cell_type": "code",
   "execution_count": 10,
   "metadata": {
    "execution": {
     "iopub.execute_input": "2021-01-14T00:44:39.066255Z",
     "iopub.status.busy": "2021-01-14T00:44:39.065657Z",
     "iopub.status.idle": "2021-01-14T00:44:39.067499Z",
     "shell.execute_reply": "2021-01-14T00:44:39.067996Z"
    },
    "papermill": {
     "duration": 0.039701,
     "end_time": "2021-01-14T00:44:39.068144",
     "exception": false,
     "start_time": "2021-01-14T00:44:39.028443",
     "status": "completed"
    },
    "tags": []
   },
   "outputs": [],
   "source": [
    "#hide\n",
    "LAST_DATE_I, dt_cols = get_dates(df)\n",
    "dt_today =dt_cols[LAST_DATE_I]\n",
    "# dt_5day = dt_cols[LAST_DATE_I - 5]\n",
    "dt_yday = dt_cols[LAST_DATE_I - 1]"
   ]
  },
  {
   "cell_type": "code",
   "execution_count": 11,
   "metadata": {
    "execution": {
     "iopub.execute_input": "2021-01-14T00:44:39.137329Z",
     "iopub.status.busy": "2021-01-14T00:44:39.136710Z",
     "iopub.status.idle": "2021-01-14T00:44:39.145378Z",
     "shell.execute_reply": "2021-01-14T00:44:39.144839Z"
    },
    "papermill": {
     "duration": 0.047616,
     "end_time": "2021-01-14T00:44:39.145515",
     "exception": false,
     "start_time": "2021-01-14T00:44:39.097899",
     "status": "completed"
    },
    "tags": []
   },
   "outputs": [],
   "source": [
    "#hide\n",
    "dfc_cases = dft_cases.groupby(COL_REGION)[dt_today].sum()\n",
    "dfc_deaths = dft_deaths.groupby(COL_REGION)[dt_today].sum()\n",
    "# dfp_cases = dft_cases.groupby(COL_REGION)[dt_5day].sum()\n",
    "# dfp_deaths = dft_deaths.groupby(COL_REGION)[dt_5day].sum()\n",
    "dfp_cases = dft_cases.groupby(COL_REGION)[dt_yday].sum()\n",
    "dfp_deaths = dft_deaths.groupby(COL_REGION)[dt_yday].sum()"
   ]
  },
  {
   "cell_type": "code",
   "execution_count": 12,
   "metadata": {
    "execution": {
     "iopub.execute_input": "2021-01-14T00:44:39.215318Z",
     "iopub.status.busy": "2021-01-14T00:44:39.214728Z",
     "iopub.status.idle": "2021-01-14T00:44:39.220951Z",
     "shell.execute_reply": "2021-01-14T00:44:39.220468Z"
    },
    "papermill": {
     "duration": 0.045115,
     "end_time": "2021-01-14T00:44:39.221087",
     "exception": false,
     "start_time": "2021-01-14T00:44:39.175972",
     "status": "completed"
    },
    "tags": []
   },
   "outputs": [],
   "source": [
    "#hide\n",
    "df_table = (pd.DataFrame(dict(Cases = dfc_cases, Deaths = dfc_deaths, PCases = dfp_cases, PDeaths = dfp_deaths))\n",
    "            .sort_values(by = ['Cases','Deaths'], ascending = [False, False])\n",
    "            .reset_index())"
   ]
  },
  {
   "cell_type": "code",
   "execution_count": 13,
   "metadata": {
    "execution": {
     "iopub.execute_input": "2021-01-14T00:44:39.302442Z",
     "iopub.status.busy": "2021-01-14T00:44:39.297713Z",
     "iopub.status.idle": "2021-01-14T00:44:39.310125Z",
     "shell.execute_reply": "2021-01-14T00:44:39.309609Z"
    },
    "papermill": {
     "duration": 0.059222,
     "end_time": "2021-01-14T00:44:39.310259",
     "exception": false,
     "start_time": "2021-01-14T00:44:39.251037",
     "status": "completed"
    },
    "tags": []
   },
   "outputs": [
    {
     "data": {
      "text/html": [
       "<div>\n",
       "<style scoped>\n",
       "    .dataframe tbody tr th:only-of-type {\n",
       "        vertical-align: middle;\n",
       "    }\n",
       "\n",
       "    .dataframe tbody tr th {\n",
       "        vertical-align: top;\n",
       "    }\n",
       "\n",
       "    .dataframe thead th {\n",
       "        text-align: right;\n",
       "    }\n",
       "</style>\n",
       "<table border=\"1\" class=\"dataframe\">\n",
       "  <thead>\n",
       "    <tr style=\"text-align: right;\">\n",
       "      <th></th>\n",
       "      <th>Country/Region</th>\n",
       "      <th>Cases</th>\n",
       "      <th>Deaths</th>\n",
       "      <th>PCases</th>\n",
       "      <th>PDeaths</th>\n",
       "      <th>Cases (+)</th>\n",
       "      <th>Deaths (+)</th>\n",
       "      <th>Fatality Rate</th>\n",
       "      <th>Continent</th>\n",
       "    </tr>\n",
       "  </thead>\n",
       "  <tbody>\n",
       "    <tr>\n",
       "      <th>0</th>\n",
       "      <td>US</td>\n",
       "      <td>22838952</td>\n",
       "      <td>380805</td>\n",
       "      <td>22622305</td>\n",
       "      <td>376343</td>\n",
       "      <td>216647</td>\n",
       "      <td>4462</td>\n",
       "      <td>1.67</td>\n",
       "      <td>North America</td>\n",
       "    </tr>\n",
       "    <tr>\n",
       "      <th>1</th>\n",
       "      <td>India</td>\n",
       "      <td>10495147</td>\n",
       "      <td>151529</td>\n",
       "      <td>10479179</td>\n",
       "      <td>151327</td>\n",
       "      <td>15968</td>\n",
       "      <td>202</td>\n",
       "      <td>1.44</td>\n",
       "      <td>Asia</td>\n",
       "    </tr>\n",
       "    <tr>\n",
       "      <th>2</th>\n",
       "      <td>Brazil</td>\n",
       "      <td>8195637</td>\n",
       "      <td>204690</td>\n",
       "      <td>8131612</td>\n",
       "      <td>203580</td>\n",
       "      <td>64025</td>\n",
       "      <td>1110</td>\n",
       "      <td>2.50</td>\n",
       "      <td>South America</td>\n",
       "    </tr>\n",
       "    <tr>\n",
       "      <th>3</th>\n",
       "      <td>Russia</td>\n",
       "      <td>3412390</td>\n",
       "      <td>61908</td>\n",
       "      <td>3389733</td>\n",
       "      <td>61389</td>\n",
       "      <td>22657</td>\n",
       "      <td>519</td>\n",
       "      <td>1.81</td>\n",
       "      <td>Europe</td>\n",
       "    </tr>\n",
       "    <tr>\n",
       "      <th>4</th>\n",
       "      <td>United Kingdom</td>\n",
       "      <td>3173291</td>\n",
       "      <td>83342</td>\n",
       "      <td>3127643</td>\n",
       "      <td>82096</td>\n",
       "      <td>45648</td>\n",
       "      <td>1246</td>\n",
       "      <td>2.63</td>\n",
       "      <td>Europe</td>\n",
       "    </tr>\n",
       "  </tbody>\n",
       "</table>\n",
       "</div>"
      ],
      "text/plain": [
       "   Country/Region     Cases  Deaths    PCases  PDeaths  Cases (+)  Deaths (+)  \\\n",
       "0              US  22838952  380805  22622305   376343     216647        4462   \n",
       "1           India  10495147  151529  10479179   151327      15968         202   \n",
       "2          Brazil   8195637  204690   8131612   203580      64025        1110   \n",
       "3          Russia   3412390   61908   3389733    61389      22657         519   \n",
       "4  United Kingdom   3173291   83342   3127643    82096      45648        1246   \n",
       "\n",
       "   Fatality Rate      Continent  \n",
       "0           1.67  North America  \n",
       "1           1.44           Asia  \n",
       "2           2.50  South America  \n",
       "3           1.81         Europe  \n",
       "4           2.63         Europe  "
      ]
     },
     "execution_count": 13,
     "metadata": {},
     "output_type": "execute_result"
    }
   ],
   "source": [
    "#hide\n",
    "for c in 'Cases, Deaths'.split(', '):\n",
    "    df_table[f'{c} (+)'] = (df_table[c] - df_table[f'P{c}']).clip(0)\n",
    "    #Clip ça veut dire, les chiffres negatif sont interdit\n",
    "df_table['Fatality Rate'] = (100* df_table['Deaths']/ df_table['Cases']).round(2)\n",
    "df_table['Continent'] = df_table['Country/Region'].map(mapping['map.continent'])\n",
    "df_table.head(5)"
   ]
  },
  {
   "cell_type": "code",
   "execution_count": 14,
   "metadata": {
    "execution": {
     "iopub.execute_input": "2021-01-14T00:44:39.377493Z",
     "iopub.status.busy": "2021-01-14T00:44:39.376876Z",
     "iopub.status.idle": "2021-01-14T00:44:39.379437Z",
     "shell.execute_reply": "2021-01-14T00:44:39.379911Z"
    },
    "papermill": {
     "duration": 0.039279,
     "end_time": "2021-01-14T00:44:39.380052",
     "exception": false,
     "start_time": "2021-01-14T00:44:39.340773",
     "status": "completed"
    },
    "tags": []
   },
   "outputs": [],
   "source": [
    "#hide\n",
    "#delete problematic countries from table\n",
    "df_table = df_table[~df_table['Country/Region'].isin(['Cape Verde', 'Cruise Ship', 'Kosovo'])]"
   ]
  },
  {
   "cell_type": "code",
   "execution_count": 15,
   "metadata": {
    "execution": {
     "iopub.execute_input": "2021-01-14T00:44:39.451207Z",
     "iopub.status.busy": "2021-01-14T00:44:39.450508Z",
     "iopub.status.idle": "2021-01-14T00:44:39.468983Z",
     "shell.execute_reply": "2021-01-14T00:44:39.468478Z"
    },
    "papermill": {
     "duration": 0.058995,
     "end_time": "2021-01-14T00:44:39.469112",
     "exception": false,
     "start_time": "2021-01-14T00:44:39.410117",
     "status": "completed"
    },
    "tags": []
   },
   "outputs": [
    {
     "data": {
      "text/html": [
       "<div>\n",
       "<style scoped>\n",
       "    .dataframe tbody tr th:only-of-type {\n",
       "        vertical-align: middle;\n",
       "    }\n",
       "\n",
       "    .dataframe tbody tr th {\n",
       "        vertical-align: top;\n",
       "    }\n",
       "\n",
       "    .dataframe thead th {\n",
       "        text-align: right;\n",
       "    }\n",
       "</style>\n",
       "<table border=\"1\" class=\"dataframe\">\n",
       "  <thead>\n",
       "    <tr style=\"text-align: right;\">\n",
       "      <th></th>\n",
       "      <th>Country/Region</th>\n",
       "      <th>Cases</th>\n",
       "      <th>Deaths</th>\n",
       "      <th>PCases</th>\n",
       "      <th>PDeaths</th>\n",
       "      <th>Cases (+)</th>\n",
       "      <th>Deaths (+)</th>\n",
       "      <th>Fatality Rate</th>\n",
       "      <th>Continent</th>\n",
       "    </tr>\n",
       "  </thead>\n",
       "  <tbody>\n",
       "    <tr>\n",
       "      <th>0</th>\n",
       "      <td>US</td>\n",
       "      <td>22838952</td>\n",
       "      <td>380805</td>\n",
       "      <td>22622305</td>\n",
       "      <td>376343</td>\n",
       "      <td>216647</td>\n",
       "      <td>4462</td>\n",
       "      <td>1.7</td>\n",
       "      <td>North America</td>\n",
       "    </tr>\n",
       "    <tr>\n",
       "      <th>1</th>\n",
       "      <td>India</td>\n",
       "      <td>10495147</td>\n",
       "      <td>151529</td>\n",
       "      <td>10479179</td>\n",
       "      <td>151327</td>\n",
       "      <td>15968</td>\n",
       "      <td>202</td>\n",
       "      <td>1.4</td>\n",
       "      <td>Asia</td>\n",
       "    </tr>\n",
       "    <tr>\n",
       "      <th>2</th>\n",
       "      <td>Brazil</td>\n",
       "      <td>8195637</td>\n",
       "      <td>204690</td>\n",
       "      <td>8131612</td>\n",
       "      <td>203580</td>\n",
       "      <td>64025</td>\n",
       "      <td>1110</td>\n",
       "      <td>2.5</td>\n",
       "      <td>South America</td>\n",
       "    </tr>\n",
       "    <tr>\n",
       "      <th>3</th>\n",
       "      <td>Russia</td>\n",
       "      <td>3412390</td>\n",
       "      <td>61908</td>\n",
       "      <td>3389733</td>\n",
       "      <td>61389</td>\n",
       "      <td>22657</td>\n",
       "      <td>519</td>\n",
       "      <td>1.8</td>\n",
       "      <td>Europe</td>\n",
       "    </tr>\n",
       "    <tr>\n",
       "      <th>4</th>\n",
       "      <td>United Kingdom</td>\n",
       "      <td>3173291</td>\n",
       "      <td>83342</td>\n",
       "      <td>3127643</td>\n",
       "      <td>82096</td>\n",
       "      <td>45648</td>\n",
       "      <td>1246</td>\n",
       "      <td>2.6</td>\n",
       "      <td>Europe</td>\n",
       "    </tr>\n",
       "  </tbody>\n",
       "</table>\n",
       "</div>"
      ],
      "text/plain": [
       "   Country/Region     Cases  Deaths    PCases  PDeaths  Cases (+)  Deaths (+)  \\\n",
       "0              US  22838952  380805  22622305   376343     216647        4462   \n",
       "1           India  10495147  151529  10479179   151327      15968         202   \n",
       "2          Brazil   8195637  204690   8131612   203580      64025        1110   \n",
       "3          Russia   3412390   61908   3389733    61389      22657         519   \n",
       "4  United Kingdom   3173291   83342   3127643    82096      45648        1246   \n",
       "\n",
       "   Fatality Rate      Continent  \n",
       "0            1.7  North America  \n",
       "1            1.4           Asia  \n",
       "2            2.5  South America  \n",
       "3            1.8         Europe  \n",
       "4            2.6         Europe  "
      ]
     },
     "execution_count": 15,
     "metadata": {},
     "output_type": "execute_result"
    }
   ],
   "source": [
    "#hide\n",
    "df_table = (pd.DataFrame(dict(Cases=dfc_cases, Deaths=dfc_deaths, PCases=dfp_cases, PDeaths=dfp_deaths))\n",
    "             .sort_values(by=['Cases', 'Deaths'], ascending=[False, False])\n",
    "             .reset_index())\n",
    "df_table.rename(columns={'index': 'Country/Region'}, inplace=True)\n",
    "for c in 'Cases, Deaths'.split(', '):\n",
    "    df_table[f'{c} (+)'] = (df_table[c] - df_table[f'P{c}']).clip(0)  # DATA BUG\n",
    "df_table['Fatality Rate'] = (100 * df_table['Deaths'] / df_table['Cases']).round(1)\n",
    "df_table['Continent'] = df_table['Country/Region'].map(mapping['map.continent'])\n",
    "df_table.head(5)"
   ]
  },
  {
   "cell_type": "code",
   "execution_count": 16,
   "metadata": {
    "execution": {
     "iopub.execute_input": "2021-01-14T00:44:39.540808Z",
     "iopub.status.busy": "2021-01-14T00:44:39.539761Z",
     "iopub.status.idle": "2021-01-14T00:44:39.541917Z",
     "shell.execute_reply": "2021-01-14T00:44:39.542390Z"
    },
    "papermill": {
     "duration": 0.042377,
     "end_time": "2021-01-14T00:44:39.542538",
     "exception": false,
     "start_time": "2021-01-14T00:44:39.500161",
     "status": "completed"
    },
    "tags": []
   },
   "outputs": [],
   "source": [
    "#hide\n",
    "#delete problematic countries from table\n",
    "df_table = df_table[~df_table['Country/Region'].isin(['Cape Verde', 'Cruise Ship', 'Kosovo'])]"
   ]
  },
  {
   "cell_type": "code",
   "execution_count": 17,
   "metadata": {
    "execution": {
     "iopub.execute_input": "2021-01-14T00:44:39.616325Z",
     "iopub.status.busy": "2021-01-14T00:44:39.615720Z",
     "iopub.status.idle": "2021-01-14T00:44:39.628895Z",
     "shell.execute_reply": "2021-01-14T00:44:39.628411Z"
    },
    "papermill": {
     "duration": 0.055906,
     "end_time": "2021-01-14T00:44:39.629029",
     "exception": false,
     "start_time": "2021-01-14T00:44:39.573123",
     "status": "completed"
    },
    "tags": []
   },
   "outputs": [],
   "source": [
    "#hide\n",
    "metrics = [df_table.columns[index] for index in [1,2,5,6]]\n",
    "# s_china = df_table[df_table['Country/Region'].eq('China')][metrics].sum().add_prefix('China ')\n",
    "s_us = df_table[df_table['Country/Region'].eq('US')][metrics].sum().add_prefix('US ')\n",
    "s_eu = df_table[df_table['Continent'].eq('Europe')][metrics].sum().add_prefix('EU ')\n",
    "s_ind = df_table[df_table['Country/Region'].eq('India')][metrics].sum().add_prefix('India ')\n",
    "summary = {'updated': pd.to_datetime(dt_today), 'since': pd.to_datetime(dt_yday)}\n",
    "summary = {'updated': pd.to_datetime(dt_today), 'since': pd.to_datetime(dt_yday)}\n",
    "summary = {**summary, **df_table[metrics].sum(), **s_ind, **s_us, **s_eu}"
   ]
  },
  {
   "cell_type": "code",
   "execution_count": 18,
   "metadata": {
    "execution": {
     "iopub.execute_input": "2021-01-14T00:44:39.699380Z",
     "iopub.status.busy": "2021-01-14T00:44:39.698793Z",
     "iopub.status.idle": "2021-01-14T00:44:39.707824Z",
     "shell.execute_reply": "2021-01-14T00:44:39.708327Z"
    },
    "papermill": {
     "duration": 0.048552,
     "end_time": "2021-01-14T00:44:39.708475",
     "exception": false,
     "start_time": "2021-01-14T00:44:39.659923",
     "status": "completed"
    },
    "tags": []
   },
   "outputs": [],
   "source": [
    "#hide\n",
    "dft_ct_new_cases = dft_cases.groupby(COL_REGION)[dt_cols].sum().diff(axis=1).fillna(0).astype(int)"
   ]
  },
  {
   "cell_type": "code",
   "execution_count": 19,
   "metadata": {
    "execution": {
     "iopub.execute_input": "2021-01-14T00:44:39.775939Z",
     "iopub.status.busy": "2021-01-14T00:44:39.775352Z",
     "iopub.status.idle": "2021-01-14T00:44:39.777632Z",
     "shell.execute_reply": "2021-01-14T00:44:39.778126Z"
    },
    "papermill": {
     "duration": 0.039072,
     "end_time": "2021-01-14T00:44:39.778269",
     "exception": false,
     "start_time": "2021-01-14T00:44:39.739197",
     "status": "completed"
    },
    "tags": []
   },
   "outputs": [],
   "source": [
    "#hide\n",
    "everydaycases = dft_ct_new_cases.cumsum(axis=1)"
   ]
  },
  {
   "cell_type": "code",
   "execution_count": 20,
   "metadata": {
    "execution": {
     "iopub.execute_input": "2021-01-14T00:44:39.845323Z",
     "iopub.status.busy": "2021-01-14T00:44:39.844740Z",
     "iopub.status.idle": "2021-01-14T00:44:40.841454Z",
     "shell.execute_reply": "2021-01-14T00:44:40.840251Z"
    },
    "papermill": {
     "duration": 1.032993,
     "end_time": "2021-01-14T00:44:40.841611",
     "exception": false,
     "start_time": "2021-01-14T00:44:39.808618",
     "status": "completed"
    },
    "tags": []
   },
   "outputs": [],
   "source": [
    "#hide\n",
    "import pandas as pd\n",
    "import matplotlib.pyplot as plt\n",
    "import matplotlib.ticker as ticker\n",
    "import matplotlib.animation as animation\n",
    "from IPython.display import HTML"
   ]
  },
  {
   "cell_type": "code",
   "execution_count": 21,
   "metadata": {
    "execution": {
     "iopub.execute_input": "2021-01-14T00:44:40.908955Z",
     "iopub.status.busy": "2021-01-14T00:44:40.908348Z",
     "iopub.status.idle": "2021-01-14T00:44:40.913529Z",
     "shell.execute_reply": "2021-01-14T00:44:40.912890Z"
    },
    "papermill": {
     "duration": 0.041335,
     "end_time": "2021-01-14T00:44:40.913748",
     "exception": false,
     "start_time": "2021-01-14T00:44:40.872413",
     "status": "completed"
    },
    "tags": []
   },
   "outputs": [],
   "source": [
    "#hide\n",
    "t = everydaycases.stack()"
   ]
  },
  {
   "cell_type": "code",
   "execution_count": 22,
   "metadata": {
    "execution": {
     "iopub.execute_input": "2021-01-14T00:44:40.984669Z",
     "iopub.status.busy": "2021-01-14T00:44:40.984064Z",
     "iopub.status.idle": "2021-01-14T00:44:40.991368Z",
     "shell.execute_reply": "2021-01-14T00:44:40.990974Z"
    },
    "papermill": {
     "duration": 0.043088,
     "end_time": "2021-01-14T00:44:40.991478",
     "exception": false,
     "start_time": "2021-01-14T00:44:40.948390",
     "status": "completed"
    },
    "tags": []
   },
   "outputs": [],
   "source": [
    "#hide\n",
    "g = t.reset_index(['Country/Region'])"
   ]
  },
  {
   "cell_type": "code",
   "execution_count": 23,
   "metadata": {
    "execution": {
     "iopub.execute_input": "2021-01-14T00:44:41.057143Z",
     "iopub.status.busy": "2021-01-14T00:44:41.056535Z",
     "iopub.status.idle": "2021-01-14T00:44:41.060307Z",
     "shell.execute_reply": "2021-01-14T00:44:41.059777Z"
    },
    "papermill": {
     "duration": 0.038439,
     "end_time": "2021-01-14T00:44:41.060433",
     "exception": false,
     "start_time": "2021-01-14T00:44:41.021994",
     "status": "completed"
    },
    "tags": []
   },
   "outputs": [],
   "source": [
    "#hide\n",
    "g.index.name = 'date'"
   ]
  },
  {
   "cell_type": "code",
   "execution_count": 24,
   "metadata": {
    "execution": {
     "iopub.execute_input": "2021-01-14T00:44:41.126992Z",
     "iopub.status.busy": "2021-01-14T00:44:41.126405Z",
     "iopub.status.idle": "2021-01-14T00:44:41.127596Z",
     "shell.execute_reply": "2021-01-14T00:44:41.128141Z"
    },
    "papermill": {
     "duration": 0.03694,
     "end_time": "2021-01-14T00:44:41.128280",
     "exception": false,
     "start_time": "2021-01-14T00:44:41.091340",
     "status": "completed"
    },
    "tags": []
   },
   "outputs": [],
   "source": [
    "# #hide\n",
    "# g = g.reset_index(['date'])"
   ]
  },
  {
   "cell_type": "code",
   "execution_count": 25,
   "metadata": {
    "execution": {
     "iopub.execute_input": "2021-01-14T00:44:41.193843Z",
     "iopub.status.busy": "2021-01-14T00:44:41.193210Z",
     "iopub.status.idle": "2021-01-14T00:44:41.195879Z",
     "shell.execute_reply": "2021-01-14T00:44:41.195406Z"
    },
    "papermill": {
     "duration": 0.037041,
     "end_time": "2021-01-14T00:44:41.196003",
     "exception": false,
     "start_time": "2021-01-14T00:44:41.158962",
     "status": "completed"
    },
    "tags": []
   },
   "outputs": [],
   "source": [
    "#hide\n",
    "# g.head()"
   ]
  },
  {
   "cell_type": "code",
   "execution_count": 26,
   "metadata": {
    "execution": {
     "iopub.execute_input": "2021-01-14T00:44:41.261052Z",
     "iopub.status.busy": "2021-01-14T00:44:41.260462Z",
     "iopub.status.idle": "2021-01-14T00:44:41.262357Z",
     "shell.execute_reply": "2021-01-14T00:44:41.262896Z"
    },
    "papermill": {
     "duration": 0.036362,
     "end_time": "2021-01-14T00:44:41.263034",
     "exception": false,
     "start_time": "2021-01-14T00:44:41.226672",
     "status": "completed"
    },
    "tags": []
   },
   "outputs": [],
   "source": [
    "#hide\n",
    "# g.columns = ['date','country','cases']"
   ]
  },
  {
   "cell_type": "code",
   "execution_count": 27,
   "metadata": {
    "execution": {
     "iopub.execute_input": "2021-01-14T00:44:41.328013Z",
     "iopub.status.busy": "2021-01-14T00:44:41.327455Z",
     "iopub.status.idle": "2021-01-14T00:44:41.329657Z",
     "shell.execute_reply": "2021-01-14T00:44:41.330212Z"
    },
    "papermill": {
     "duration": 0.036706,
     "end_time": "2021-01-14T00:44:41.330344",
     "exception": false,
     "start_time": "2021-01-14T00:44:41.293638",
     "status": "completed"
    },
    "tags": []
   },
   "outputs": [],
   "source": [
    "#hide\n",
    "# g['continent'] = g.country"
   ]
  },
  {
   "cell_type": "code",
   "execution_count": 28,
   "metadata": {
    "execution": {
     "iopub.execute_input": "2021-01-14T00:44:41.396045Z",
     "iopub.status.busy": "2021-01-14T00:44:41.395457Z",
     "iopub.status.idle": "2021-01-14T00:44:41.397724Z",
     "shell.execute_reply": "2021-01-14T00:44:41.398300Z"
    },
    "papermill": {
     "duration": 0.037503,
     "end_time": "2021-01-14T00:44:41.398435",
     "exception": false,
     "start_time": "2021-01-14T00:44:41.360932",
     "status": "completed"
    },
    "tags": []
   },
   "outputs": [],
   "source": [
    "#hide\n",
    "# cols = list(g.columns.values)"
   ]
  },
  {
   "cell_type": "code",
   "execution_count": 29,
   "metadata": {
    "execution": {
     "iopub.execute_input": "2021-01-14T00:44:41.463658Z",
     "iopub.status.busy": "2021-01-14T00:44:41.463063Z",
     "iopub.status.idle": "2021-01-14T00:44:41.465316Z",
     "shell.execute_reply": "2021-01-14T00:44:41.464822Z"
    },
    "papermill": {
     "duration": 0.036519,
     "end_time": "2021-01-14T00:44:41.465460",
     "exception": false,
     "start_time": "2021-01-14T00:44:41.428941",
     "status": "completed"
    },
    "tags": []
   },
   "outputs": [],
   "source": [
    "#hide\n",
    "# cols.insert(0, cols.pop())"
   ]
  },
  {
   "cell_type": "code",
   "execution_count": 30,
   "metadata": {
    "execution": {
     "iopub.execute_input": "2021-01-14T00:44:41.531222Z",
     "iopub.status.busy": "2021-01-14T00:44:41.530449Z",
     "iopub.status.idle": "2021-01-14T00:44:41.532018Z",
     "shell.execute_reply": "2021-01-14T00:44:41.532595Z"
    },
    "papermill": {
     "duration": 0.036825,
     "end_time": "2021-01-14T00:44:41.532735",
     "exception": false,
     "start_time": "2021-01-14T00:44:41.495910",
     "status": "completed"
    },
    "tags": []
   },
   "outputs": [],
   "source": [
    "#hide\n",
    "# g = g[cols]"
   ]
  },
  {
   "cell_type": "code",
   "execution_count": 31,
   "metadata": {
    "execution": {
     "iopub.execute_input": "2021-01-14T00:44:41.599701Z",
     "iopub.status.busy": "2021-01-14T00:44:41.598668Z",
     "iopub.status.idle": "2021-01-14T00:44:41.600778Z",
     "shell.execute_reply": "2021-01-14T00:44:41.601640Z"
    },
    "papermill": {
     "duration": 0.038504,
     "end_time": "2021-01-14T00:44:41.601874",
     "exception": false,
     "start_time": "2021-01-14T00:44:41.563370",
     "status": "completed"
    },
    "tags": []
   },
   "outputs": [],
   "source": [
    "#hide\n",
    "# g['continent'] = g['continent'].map(mapping['map.continent'])"
   ]
  },
  {
   "cell_type": "code",
   "execution_count": 32,
   "metadata": {
    "execution": {
     "iopub.execute_input": "2021-01-14T00:44:41.667401Z",
     "iopub.status.busy": "2021-01-14T00:44:41.666819Z",
     "iopub.status.idle": "2021-01-14T00:44:41.669429Z",
     "shell.execute_reply": "2021-01-14T00:44:41.668907Z"
    },
    "papermill": {
     "duration": 0.036175,
     "end_time": "2021-01-14T00:44:41.669554",
     "exception": false,
     "start_time": "2021-01-14T00:44:41.633379",
     "status": "completed"
    },
    "tags": []
   },
   "outputs": [],
   "source": [
    "#hide\n",
    "# g.head()"
   ]
  },
  {
   "cell_type": "code",
   "execution_count": 33,
   "metadata": {
    "execution": {
     "iopub.execute_input": "2021-01-14T00:44:41.735104Z",
     "iopub.status.busy": "2021-01-14T00:44:41.734509Z",
     "iopub.status.idle": "2021-01-14T00:44:41.736678Z",
     "shell.execute_reply": "2021-01-14T00:44:41.737240Z"
    },
    "papermill": {
     "duration": 0.037253,
     "end_time": "2021-01-14T00:44:41.737408",
     "exception": false,
     "start_time": "2021-01-14T00:44:41.700155",
     "status": "completed"
    },
    "tags": []
   },
   "outputs": [],
   "source": [
    "# hide\n",
    "# g['date'] = g['date'].astype('datetime64[ns]')"
   ]
  },
  {
   "cell_type": "code",
   "execution_count": 34,
   "metadata": {
    "execution": {
     "iopub.execute_input": "2021-01-14T00:44:41.802569Z",
     "iopub.status.busy": "2021-01-14T00:44:41.801987Z",
     "iopub.status.idle": "2021-01-14T00:44:41.804412Z",
     "shell.execute_reply": "2021-01-14T00:44:41.803921Z"
    },
    "papermill": {
     "duration": 0.036343,
     "end_time": "2021-01-14T00:44:41.804535",
     "exception": false,
     "start_time": "2021-01-14T00:44:41.768192",
     "status": "completed"
    },
    "tags": []
   },
   "outputs": [],
   "source": [
    "#hide\n",
    "# g['date'] = g.date.dt.dayofyear"
   ]
  },
  {
   "cell_type": "code",
   "execution_count": 35,
   "metadata": {
    "execution": {
     "iopub.execute_input": "2021-01-14T00:44:41.869180Z",
     "iopub.status.busy": "2021-01-14T00:44:41.868592Z",
     "iopub.status.idle": "2021-01-14T00:44:41.870850Z",
     "shell.execute_reply": "2021-01-14T00:44:41.870359Z"
    },
    "papermill": {
     "duration": 0.036049,
     "end_time": "2021-01-14T00:44:41.870971",
     "exception": false,
     "start_time": "2021-01-14T00:44:41.834922",
     "status": "completed"
    },
    "tags": []
   },
   "outputs": [],
   "source": [
    "#hide\n",
    "# g = g.rename(columns= {'continent':'group','country':'name','cases':'value'})"
   ]
  },
  {
   "cell_type": "code",
   "execution_count": 36,
   "metadata": {
    "execution": {
     "iopub.execute_input": "2021-01-14T00:44:41.936773Z",
     "iopub.status.busy": "2021-01-14T00:44:41.936182Z",
     "iopub.status.idle": "2021-01-14T00:44:41.937998Z",
     "shell.execute_reply": "2021-01-14T00:44:41.938520Z"
    },
    "papermill": {
     "duration": 0.036646,
     "end_time": "2021-01-14T00:44:41.938663",
     "exception": false,
     "start_time": "2021-01-14T00:44:41.902017",
     "status": "completed"
    },
    "tags": []
   },
   "outputs": [],
   "source": [
    "#hide\n",
    "# cols = ['name','group','day','value']"
   ]
  },
  {
   "cell_type": "code",
   "execution_count": 37,
   "metadata": {
    "execution": {
     "iopub.execute_input": "2021-01-14T00:44:42.002613Z",
     "iopub.status.busy": "2021-01-14T00:44:42.002034Z",
     "iopub.status.idle": "2021-01-14T00:44:42.004043Z",
     "shell.execute_reply": "2021-01-14T00:44:42.004538Z"
    },
    "papermill": {
     "duration": 0.035771,
     "end_time": "2021-01-14T00:44:42.004673",
     "exception": false,
     "start_time": "2021-01-14T00:44:41.968902",
     "status": "completed"
    },
    "tags": []
   },
   "outputs": [],
   "source": [
    "#hide\n",
    "# g.rename(columns= {'date':'day'},inplace = True)"
   ]
  },
  {
   "cell_type": "code",
   "execution_count": 38,
   "metadata": {
    "execution": {
     "iopub.execute_input": "2021-01-14T00:44:42.069693Z",
     "iopub.status.busy": "2021-01-14T00:44:42.069069Z",
     "iopub.status.idle": "2021-01-14T00:44:42.071350Z",
     "shell.execute_reply": "2021-01-14T00:44:42.070859Z"
    },
    "papermill": {
     "duration": 0.036404,
     "end_time": "2021-01-14T00:44:42.071471",
     "exception": false,
     "start_time": "2021-01-14T00:44:42.035067",
     "status": "completed"
    },
    "tags": []
   },
   "outputs": [],
   "source": [
    "#hide\n",
    "# g = g[cols]"
   ]
  },
  {
   "cell_type": "code",
   "execution_count": 39,
   "metadata": {
    "execution": {
     "iopub.execute_input": "2021-01-14T00:44:42.137008Z",
     "iopub.status.busy": "2021-01-14T00:44:42.136428Z",
     "iopub.status.idle": "2021-01-14T00:44:42.138903Z",
     "shell.execute_reply": "2021-01-14T00:44:42.139457Z"
    },
    "papermill": {
     "duration": 0.037812,
     "end_time": "2021-01-14T00:44:42.139593",
     "exception": false,
     "start_time": "2021-01-14T00:44:42.101781",
     "status": "completed"
    },
    "tags": []
   },
   "outputs": [],
   "source": [
    "# #hide\n",
    "# g = g[g.group.notna()]"
   ]
  },
  {
   "cell_type": "code",
   "execution_count": 40,
   "metadata": {
    "execution": {
     "iopub.execute_input": "2021-01-14T00:44:42.204023Z",
     "iopub.status.busy": "2021-01-14T00:44:42.203439Z",
     "iopub.status.idle": "2021-01-14T00:44:42.205325Z",
     "shell.execute_reply": "2021-01-14T00:44:42.205820Z"
    },
    "papermill": {
     "duration": 0.035987,
     "end_time": "2021-01-14T00:44:42.205957",
     "exception": false,
     "start_time": "2021-01-14T00:44:42.169970",
     "status": "completed"
    },
    "tags": []
   },
   "outputs": [],
   "source": [
    "# #hide\n",
    "# colors = dict(zip(\n",
    "#     [\"Oceania\", \"Europe\", \"Asia\", \"South America\", \"Middle East\", \"North America\", \"Africa\"],\n",
    "#     [\"#adb0ff\", \"#ffb3ff\", \"#90d595\", \"#e48381\", \"#aafbff\", \"#f7bb5f\", \"#eafb50\"]\n",
    "# ))\n",
    "# group_lk = g.set_index('name')['group'].to_dict()"
   ]
  },
  {
   "cell_type": "code",
   "execution_count": null,
   "metadata": {
    "papermill": {
     "duration": 0.0308,
     "end_time": "2021-01-14T00:44:42.267463",
     "exception": false,
     "start_time": "2021-01-14T00:44:42.236663",
     "status": "completed"
    },
    "tags": []
   },
   "outputs": [],
   "source": []
  },
  {
   "cell_type": "code",
   "execution_count": 41,
   "metadata": {
    "execution": {
     "iopub.execute_input": "2021-01-14T00:44:42.335744Z",
     "iopub.status.busy": "2021-01-14T00:44:42.334779Z",
     "iopub.status.idle": "2021-01-14T00:44:42.336337Z",
     "shell.execute_reply": "2021-01-14T00:44:42.336784Z"
    },
    "papermill": {
     "duration": 0.038548,
     "end_time": "2021-01-14T00:44:42.336925",
     "exception": false,
     "start_time": "2021-01-14T00:44:42.298377",
     "status": "completed"
    },
    "tags": []
   },
   "outputs": [],
   "source": [
    "# #hide\n",
    "# fig, ax = plt.subplots(figsize=(15, 8))\n",
    "\n",
    "# def draw_barchart(current_day):\n",
    "#     dff = g[g['day'].eq(current_day)].sort_values(by='value', ascending=True).tail(10)\n",
    "#     ax.clear()\n",
    "#     ax.barh(dff['name'], dff['value'], color=[colors[group_lk[x]] for x in dff['name']])\n",
    "#     dx = dff['value'].max() / 200\n",
    "    \n",
    "#     for i, (value, name) in enumerate(zip(dff['value'], dff['name'])):\n",
    "#         ax.text(value-dx, i,     name,           size=14, weight=600, ha='right', va='bottom')\n",
    "#         ax.text(value-dx, i-.25, group_lk[name], size=10, color='#444444', ha='right', va='baseline')\n",
    "#         ax.text(value+dx, i,     f'{value:,.0f}',  size=14, ha='left',  va='center')\n",
    "#     ax.text(1, 0.4, current_day, transform=ax.transAxes, color='#777777', size=46, ha='right', weight=800)\n",
    "#     ax.text(0, 1.06, 'Population (thousands)', transform=ax.transAxes, size=12, color='#777777')\n",
    "#     ax.xaxis.set_major_formatter(ticker.StrMethodFormatter('{x:,.0f}'))\n",
    "#     ax.xaxis.set_ticks_position('top')\n",
    "#     ax.tick_params(axis='x', colors='#777777', labelsize=12)\n",
    "#     ax.set_yticks([])\n",
    "#     ax.margins(0, 0.01)\n",
    "#     ax.grid(which='major', axis='x', linestyle='-')\n",
    "#     ax.set_axisbelow(True)\n",
    "    \n",
    "#     ax.text(0, 1.15, 'Coronavirus',\n",
    "#             transform=ax.transAxes, size=24, weight=600, ha='left', va='top')\n",
    "# #     ax.text(1, 0, 'by @pratapvardhan; credit @jburnmurdoch', transform=ax.transAxes, color='#777777', ha='right',\n",
    "# #             bbox=dict(facecolor='white', alpha=0.8, edgecolor='white'))\n",
    "#     plt.box(False)"
   ]
  },
  {
   "cell_type": "code",
   "execution_count": 42,
   "metadata": {
    "execution": {
     "iopub.execute_input": "2021-01-14T00:44:42.403951Z",
     "iopub.status.busy": "2021-01-14T00:44:42.403362Z",
     "iopub.status.idle": "2021-01-14T00:44:42.405922Z",
     "shell.execute_reply": "2021-01-14T00:44:42.406477Z"
    },
    "papermill": {
     "duration": 0.038267,
     "end_time": "2021-01-14T00:44:42.406614",
     "exception": false,
     "start_time": "2021-01-14T00:44:42.368347",
     "status": "completed"
    },
    "tags": []
   },
   "outputs": [],
   "source": [
    "# #hide_input\n",
    "# fig, ax = plt.subplots(figsize=(15, 8))\n",
    "# animator = animation.FuncAnimation(fig, draw_barchart, frames=range(g.day.values.min(), g.day.values.max()))\n",
    "# HTML(animator.to_jshtml())\n",
    "# # or use animator.to_html5_video() or animator.save() "
   ]
  },
  {
   "cell_type": "code",
   "execution_count": null,
   "metadata": {
    "papermill": {
     "duration": 0.030923,
     "end_time": "2021-01-14T00:44:42.468849",
     "exception": false,
     "start_time": "2021-01-14T00:44:42.437926",
     "status": "completed"
    },
    "tags": []
   },
   "outputs": [],
   "source": []
  },
  {
   "cell_type": "code",
   "execution_count": null,
   "metadata": {
    "papermill": {
     "duration": 0.033712,
     "end_time": "2021-01-14T00:44:42.534411",
     "exception": false,
     "start_time": "2021-01-14T00:44:42.500699",
     "status": "completed"
    },
    "tags": []
   },
   "outputs": [],
   "source": []
  },
  {
   "cell_type": "code",
   "execution_count": null,
   "metadata": {
    "papermill": {
     "duration": 0.0345,
     "end_time": "2021-01-14T00:44:42.604676",
     "exception": false,
     "start_time": "2021-01-14T00:44:42.570176",
     "status": "completed"
    },
    "tags": []
   },
   "outputs": [],
   "source": []
  }
 ],
 "metadata": {
  "kernelspec": {
   "display_name": "Python 3",
   "language": "python",
   "name": "python3"
  },
  "language_info": {
   "codemirror_mode": {
    "name": "ipython",
    "version": 3
   },
   "file_extension": ".py",
   "mimetype": "text/x-python",
   "name": "python",
   "nbconvert_exporter": "python",
   "pygments_lexer": "ipython3",
   "version": "3.6.12"
  },
  "papermill": {
   "duration": 7.346458,
   "end_time": "2021-01-14T00:44:43.851586",
   "environment_variables": {},
   "exception": null,
   "input_path": "2020-03-21-covid19exp.ipynb",
   "output_path": "2020-03-21-covid19exp.ipynb",
   "parameters": {},
   "start_time": "2021-01-14T00:44:36.505128",
   "version": "2.0.0"
  }
 },
 "nbformat": 4,
 "nbformat_minor": 4
}