{
 "cells": [
  {
   "cell_type": "markdown",
   "id": "muslim-click",
   "metadata": {
    "papermill": {
     "duration": 0.034457,
     "end_time": "2022-11-18T12:17:01.170619",
     "exception": false,
     "start_time": "2022-11-18T12:17:01.136162",
     "status": "completed"
    },
    "tags": []
   },
   "source": [
    "# COVID-19 Case Race\n",
    "> A race chart to see rising cases around the world\n",
    "\n",
    "- author: Hargun Oberoi\n",
    "- image: images/covid-overview.png\n",
    "- hide: false\n",
    "- badges: false"
   ]
  },
  {
   "cell_type": "code",
   "execution_count": 1,
   "id": "proof-material",
   "metadata": {
    "execution": {
     "iopub.execute_input": "2022-11-18T12:17:01.240071Z",
     "iopub.status.busy": "2022-11-18T12:17:01.239513Z",
     "iopub.status.idle": "2022-11-18T12:17:01.549414Z",
     "shell.execute_reply": "2022-11-18T12:17:01.548937Z"
    },
    "papermill": {
     "duration": 0.348489,
     "end_time": "2022-11-18T12:17:01.549552",
     "exception": false,
     "start_time": "2022-11-18T12:17:01.201063",
     "status": "completed"
    },
    "tags": []
   },
   "outputs": [],
   "source": [
    "#hide\n",
    "import numpy as np\n",
    "import pandas as pd\n",
    "from jinja2 import Template\n",
    "from IPython.display import HTML"
   ]
  },
  {
   "cell_type": "code",
   "execution_count": 2,
   "id": "developed-terminology",
   "metadata": {
    "execution": {
     "iopub.execute_input": "2022-11-18T12:17:01.614330Z",
     "iopub.status.busy": "2022-11-18T12:17:01.613750Z",
     "iopub.status.idle": "2022-11-18T12:17:01.615869Z",
     "shell.execute_reply": "2022-11-18T12:17:01.615336Z"
    },
    "papermill": {
     "duration": 0.036748,
     "end_time": "2022-11-18T12:17:01.615974",
     "exception": false,
     "start_time": "2022-11-18T12:17:01.579226",
     "status": "completed"
    },
    "tags": []
   },
   "outputs": [],
   "source": [
    "#hide\n",
    "\n",
    "# FETCH\n",
    "base_url = 'https://raw.githubusercontent.com/pratapvardhan/notebooks/master/covid19/'\n",
    "paths = {\n",
    "    'mapping': base_url + 'mapping_countries.csv',\n",
    "    'overview': base_url + 'overview.tpl'\n",
    "}"
   ]
  },
  {
   "cell_type": "code",
   "execution_count": 3,
   "id": "dynamic-saver",
   "metadata": {
    "execution": {
     "iopub.execute_input": "2022-11-18T12:17:01.683800Z",
     "iopub.status.busy": "2022-11-18T12:17:01.683244Z",
     "iopub.status.idle": "2022-11-18T12:17:01.686299Z",
     "shell.execute_reply": "2022-11-18T12:17:01.686747Z"
    },
    "papermill": {
     "duration": 0.041399,
     "end_time": "2022-11-18T12:17:01.686860",
     "exception": false,
     "start_time": "2022-11-18T12:17:01.645461",
     "status": "completed"
    },
    "tags": []
   },
   "outputs": [
    {
     "data": {
      "text/plain": [
       "'https://raw.githubusercontent.com/pratapvardhan/notebooks/master/covid19/mapping_countries.csv'"
      ]
     },
     "execution_count": 3,
     "metadata": {},
     "output_type": "execute_result"
    }
   ],
   "source": [
    "#hide\n",
    "paths['mapping']"
   ]
  },
  {
   "cell_type": "code",
   "execution_count": 4,
   "id": "urban-software",
   "metadata": {
    "execution": {
     "iopub.execute_input": "2022-11-18T12:17:01.751915Z",
     "iopub.status.busy": "2022-11-18T12:17:01.751342Z",
     "iopub.status.idle": "2022-11-18T12:17:01.753409Z",
     "shell.execute_reply": "2022-11-18T12:17:01.753833Z"
    },
    "papermill": {
     "duration": 0.037044,
     "end_time": "2022-11-18T12:17:01.753947",
     "exception": false,
     "start_time": "2022-11-18T12:17:01.716903",
     "status": "completed"
    },
    "tags": []
   },
   "outputs": [],
   "source": [
    "#hide\n",
    "def get_mappings(url):\n",
    "    df = pd.read_csv(url)\n",
    "    return {\n",
    "        'df': df,\n",
    "        'replace.country': dict(df.dropna(subset=['Name']).set_index('Country')['Name']),\n",
    "        'map.continent': dict(df.set_index('Name')['Continent'])\n",
    "    }"
   ]
  },
  {
   "cell_type": "code",
   "execution_count": 5,
   "id": "intimate-machinery",
   "metadata": {
    "execution": {
     "iopub.execute_input": "2022-11-18T12:17:01.818765Z",
     "iopub.status.busy": "2022-11-18T12:17:01.818208Z",
     "iopub.status.idle": "2022-11-18T12:17:01.859441Z",
     "shell.execute_reply": "2022-11-18T12:17:01.858960Z"
    },
    "papermill": {
     "duration": 0.07587,
     "end_time": "2022-11-18T12:17:01.859549",
     "exception": false,
     "start_time": "2022-11-18T12:17:01.783679",
     "status": "completed"
    },
    "tags": []
   },
   "outputs": [],
   "source": [
    "#hide\n",
    "mapping = get_mappings(paths['mapping'])"
   ]
  },
  {
   "cell_type": "code",
   "execution_count": 6,
   "id": "certified-tactics",
   "metadata": {
    "execution": {
     "iopub.execute_input": "2022-11-18T12:17:01.924904Z",
     "iopub.status.busy": "2022-11-18T12:17:01.924316Z",
     "iopub.status.idle": "2022-11-18T12:17:01.926739Z",
     "shell.execute_reply": "2022-11-18T12:17:01.926281Z"
    },
    "papermill": {
     "duration": 0.037097,
     "end_time": "2022-11-18T12:17:01.926839",
     "exception": false,
     "start_time": "2022-11-18T12:17:01.889742",
     "status": "completed"
    },
    "tags": []
   },
   "outputs": [],
   "source": [
    "#hide\n",
    "def get_template(path):\n",
    "    from urllib.parse import urlparse\n",
    "    if bool(urlparse(path).netloc):\n",
    "        from urllib.request import urlopen\n",
    "        return urlopen(path).read().decode('utf8')\n",
    "    return open(path).read()"
   ]
  },
  {
   "cell_type": "code",
   "execution_count": 7,
   "id": "realistic-blast",
   "metadata": {
    "execution": {
     "iopub.execute_input": "2022-11-18T12:17:01.991122Z",
     "iopub.status.busy": "2022-11-18T12:17:01.990553Z",
     "iopub.status.idle": "2022-11-18T12:17:01.993210Z",
     "shell.execute_reply": "2022-11-18T12:17:01.992745Z"
    },
    "papermill": {
     "duration": 0.03654,
     "end_time": "2022-11-18T12:17:01.993308",
     "exception": false,
     "start_time": "2022-11-18T12:17:01.956768",
     "status": "completed"
    },
    "tags": []
   },
   "outputs": [],
   "source": [
    "#hide\n",
    "def get_frame(name):\n",
    "    url = (\n",
    "        'https://raw.githubusercontent.com/CSSEGISandData/COVID-19/master/csse_covid_19_data/'\n",
    "        f'csse_covid_19_time_series/time_series_covid19_{name}_global.csv')\n",
    "    df = pd.read_csv(url)\n",
    "    # rename countries\n",
    "    df['Country/Region'] = df['Country/Region'].replace(mapping['replace.country'])\n",
    "    return df"
   ]
  },
  {
   "cell_type": "code",
   "execution_count": 8,
   "id": "affiliated-characterization",
   "metadata": {
    "execution": {
     "iopub.execute_input": "2022-11-18T12:17:02.058594Z",
     "iopub.status.busy": "2022-11-18T12:17:02.058035Z",
     "iopub.status.idle": "2022-11-18T12:17:02.060286Z",
     "shell.execute_reply": "2022-11-18T12:17:02.060709Z"
    },
    "papermill": {
     "duration": 0.03737,
     "end_time": "2022-11-18T12:17:02.060820",
     "exception": false,
     "start_time": "2022-11-18T12:17:02.023450",
     "status": "completed"
    },
    "tags": []
   },
   "outputs": [],
   "source": [
    "#hide\n",
    "def get_dates(df):\n",
    "    dt_cols = df.columns[~df.columns.isin(['Province/State', 'Country/Region', 'Lat', 'Long'])]\n",
    "    LAST_DATE_I = -1\n",
    "    # sometimes last column may be empty, then go backwards\n",
    "    for i in range(-1, -len(dt_cols), -1):\n",
    "        if not df[dt_cols[i]].fillna(0).eq(0).all():\n",
    "            LAST_DATE_I = i\n",
    "            break\n",
    "    return LAST_DATE_I, dt_cols"
   ]
  },
  {
   "cell_type": "code",
   "execution_count": 9,
   "id": "recent-optimization",
   "metadata": {
    "execution": {
     "iopub.execute_input": "2022-11-18T12:17:02.125081Z",
     "iopub.status.busy": "2022-11-18T12:17:02.124517Z",
     "iopub.status.idle": "2022-11-18T12:17:02.660379Z",
     "shell.execute_reply": "2022-11-18T12:17:02.659886Z"
    },
    "papermill": {
     "duration": 0.569914,
     "end_time": "2022-11-18T12:17:02.660489",
     "exception": false,
     "start_time": "2022-11-18T12:17:02.090575",
     "status": "completed"
    },
    "tags": []
   },
   "outputs": [],
   "source": [
    "#hide\n",
    "COL_REGION = 'Country/Region'\n",
    "# Confirmed, Recovered, Deaths\n",
    "df = get_frame('confirmed')\n",
    "# dft_: timeseries, dfc_: today country agg\n",
    "dft_cases = df\n",
    "dft_deaths = get_frame('deaths')\n",
    "dft_recovered = get_frame('recovered')\n",
    "LAST_DATE_I, dt_cols = get_dates(df)"
   ]
  },
  {
   "cell_type": "code",
   "execution_count": 10,
   "id": "absolute-copper",
   "metadata": {
    "execution": {
     "iopub.execute_input": "2022-11-18T12:17:02.725534Z",
     "iopub.status.busy": "2022-11-18T12:17:02.724948Z",
     "iopub.status.idle": "2022-11-18T12:17:02.727516Z",
     "shell.execute_reply": "2022-11-18T12:17:02.727054Z"
    },
    "papermill": {
     "duration": 0.037079,
     "end_time": "2022-11-18T12:17:02.727619",
     "exception": false,
     "start_time": "2022-11-18T12:17:02.690540",
     "status": "completed"
    },
    "tags": []
   },
   "outputs": [],
   "source": [
    "#hide\n",
    "LAST_DATE_I, dt_cols = get_dates(df)\n",
    "dt_today =dt_cols[LAST_DATE_I]\n",
    "# dt_5day = dt_cols[LAST_DATE_I - 5]\n",
    "dt_yday = dt_cols[LAST_DATE_I - 1]"
   ]
  },
  {
   "cell_type": "code",
   "execution_count": 11,
   "id": "restricted-sheriff",
   "metadata": {
    "execution": {
     "iopub.execute_input": "2022-11-18T12:17:02.792916Z",
     "iopub.status.busy": "2022-11-18T12:17:02.792361Z",
     "iopub.status.idle": "2022-11-18T12:17:02.798997Z",
     "shell.execute_reply": "2022-11-18T12:17:02.799441Z"
    },
    "papermill": {
     "duration": 0.042227,
     "end_time": "2022-11-18T12:17:02.799552",
     "exception": false,
     "start_time": "2022-11-18T12:17:02.757325",
     "status": "completed"
    },
    "tags": []
   },
   "outputs": [],
   "source": [
    "#hide\n",
    "dfc_cases = dft_cases.groupby(COL_REGION)[dt_today].sum()\n",
    "dfc_deaths = dft_deaths.groupby(COL_REGION)[dt_today].sum()\n",
    "# dfp_cases = dft_cases.groupby(COL_REGION)[dt_5day].sum()\n",
    "# dfp_deaths = dft_deaths.groupby(COL_REGION)[dt_5day].sum()\n",
    "dfp_cases = dft_cases.groupby(COL_REGION)[dt_yday].sum()\n",
    "dfp_deaths = dft_deaths.groupby(COL_REGION)[dt_yday].sum()"
   ]
  },
  {
   "cell_type": "code",
   "execution_count": 12,
   "id": "deluxe-hepatitis",
   "metadata": {
    "execution": {
     "iopub.execute_input": "2022-11-18T12:17:02.864321Z",
     "iopub.status.busy": "2022-11-18T12:17:02.863775Z",
     "iopub.status.idle": "2022-11-18T12:17:02.868937Z",
     "shell.execute_reply": "2022-11-18T12:17:02.868509Z"
    },
    "papermill": {
     "duration": 0.039695,
     "end_time": "2022-11-18T12:17:02.869041",
     "exception": false,
     "start_time": "2022-11-18T12:17:02.829346",
     "status": "completed"
    },
    "tags": []
   },
   "outputs": [],
   "source": [
    "#hide\n",
    "df_table = (pd.DataFrame(dict(Cases = dfc_cases, Deaths = dfc_deaths, PCases = dfp_cases, PDeaths = dfp_deaths))\n",
    "            .sort_values(by = ['Cases','Deaths'], ascending = [False, False])\n",
    "            .reset_index())"
   ]
  },
  {
   "cell_type": "code",
   "execution_count": 13,
   "id": "educational-chancellor",
   "metadata": {
    "execution": {
     "iopub.execute_input": "2022-11-18T12:17:02.945964Z",
     "iopub.status.busy": "2022-11-18T12:17:02.944883Z",
     "iopub.status.idle": "2022-11-18T12:17:02.954293Z",
     "shell.execute_reply": "2022-11-18T12:17:02.953852Z"
    },
    "papermill": {
     "duration": 0.05565,
     "end_time": "2022-11-18T12:17:02.954393",
     "exception": false,
     "start_time": "2022-11-18T12:17:02.898743",
     "status": "completed"
    },
    "tags": []
   },
   "outputs": [
    {
     "data": {
      "text/html": [
       "<div>\n",
       "<style scoped>\n",
       "    .dataframe tbody tr th:only-of-type {\n",
       "        vertical-align: middle;\n",
       "    }\n",
       "\n",
       "    .dataframe tbody tr th {\n",
       "        vertical-align: top;\n",
       "    }\n",
       "\n",
       "    .dataframe thead th {\n",
       "        text-align: right;\n",
       "    }\n",
       "</style>\n",
       "<table border=\"1\" class=\"dataframe\">\n",
       "  <thead>\n",
       "    <tr style=\"text-align: right;\">\n",
       "      <th></th>\n",
       "      <th>Country/Region</th>\n",
       "      <th>Cases</th>\n",
       "      <th>Deaths</th>\n",
       "      <th>PCases</th>\n",
       "      <th>PDeaths</th>\n",
       "      <th>Cases (+)</th>\n",
       "      <th>Deaths (+)</th>\n",
       "      <th>Fatality Rate</th>\n",
       "      <th>Continent</th>\n",
       "    </tr>\n",
       "  </thead>\n",
       "  <tbody>\n",
       "    <tr>\n",
       "      <th>0</th>\n",
       "      <td>US</td>\n",
       "      <td>98245940</td>\n",
       "      <td>1076492</td>\n",
       "      <td>98193437</td>\n",
       "      <td>1076085</td>\n",
       "      <td>52503</td>\n",
       "      <td>407</td>\n",
       "      <td>1.10</td>\n",
       "      <td>North America</td>\n",
       "    </tr>\n",
       "    <tr>\n",
       "      <th>1</th>\n",
       "      <td>India</td>\n",
       "      <td>44667967</td>\n",
       "      <td>530553</td>\n",
       "      <td>44668535</td>\n",
       "      <td>530546</td>\n",
       "      <td>0</td>\n",
       "      <td>7</td>\n",
       "      <td>1.19</td>\n",
       "      <td>Asia</td>\n",
       "    </tr>\n",
       "    <tr>\n",
       "      <th>2</th>\n",
       "      <td>France</td>\n",
       "      <td>37471008</td>\n",
       "      <td>159129</td>\n",
       "      <td>37437677</td>\n",
       "      <td>159042</td>\n",
       "      <td>33331</td>\n",
       "      <td>87</td>\n",
       "      <td>0.42</td>\n",
       "      <td>Europe</td>\n",
       "    </tr>\n",
       "    <tr>\n",
       "      <th>3</th>\n",
       "      <td>Germany</td>\n",
       "      <td>36180077</td>\n",
       "      <td>156410</td>\n",
       "      <td>36152490</td>\n",
       "      <td>156192</td>\n",
       "      <td>27587</td>\n",
       "      <td>218</td>\n",
       "      <td>0.43</td>\n",
       "      <td>Europe</td>\n",
       "    </tr>\n",
       "    <tr>\n",
       "      <th>4</th>\n",
       "      <td>Brazil</td>\n",
       "      <td>34971043</td>\n",
       "      <td>688835</td>\n",
       "      <td>34938073</td>\n",
       "      <td>688764</td>\n",
       "      <td>32970</td>\n",
       "      <td>71</td>\n",
       "      <td>1.97</td>\n",
       "      <td>South America</td>\n",
       "    </tr>\n",
       "  </tbody>\n",
       "</table>\n",
       "</div>"
      ],
      "text/plain": [
       "  Country/Region     Cases   Deaths    PCases  PDeaths  Cases (+)  Deaths (+)  \\\n",
       "0             US  98245940  1076492  98193437  1076085      52503         407   \n",
       "1          India  44667967   530553  44668535   530546          0           7   \n",
       "2         France  37471008   159129  37437677   159042      33331          87   \n",
       "3        Germany  36180077   156410  36152490   156192      27587         218   \n",
       "4         Brazil  34971043   688835  34938073   688764      32970          71   \n",
       "\n",
       "   Fatality Rate      Continent  \n",
       "0           1.10  North America  \n",
       "1           1.19           Asia  \n",
       "2           0.42         Europe  \n",
       "3           0.43         Europe  \n",
       "4           1.97  South America  "
      ]
     },
     "execution_count": 13,
     "metadata": {},
     "output_type": "execute_result"
    }
   ],
   "source": [
    "#hide\n",
    "for c in 'Cases, Deaths'.split(', '):\n",
    "    df_table[f'{c} (+)'] = (df_table[c] - df_table[f'P{c}']).clip(0)\n",
    "    #Clip ça veut dire, les chiffres negatif sont interdit\n",
    "df_table['Fatality Rate'] = (100* df_table['Deaths']/ df_table['Cases']).round(2)\n",
    "df_table['Continent'] = df_table['Country/Region'].map(mapping['map.continent'])\n",
    "df_table.head(5)"
   ]
  },
  {
   "cell_type": "code",
   "execution_count": 14,
   "id": "aboriginal-bulgaria",
   "metadata": {
    "execution": {
     "iopub.execute_input": "2022-11-18T12:17:03.020443Z",
     "iopub.status.busy": "2022-11-18T12:17:03.019884Z",
     "iopub.status.idle": "2022-11-18T12:17:03.022609Z",
     "shell.execute_reply": "2022-11-18T12:17:03.022174Z"
    },
    "papermill": {
     "duration": 0.037832,
     "end_time": "2022-11-18T12:17:03.022713",
     "exception": false,
     "start_time": "2022-11-18T12:17:02.984881",
     "status": "completed"
    },
    "tags": []
   },
   "outputs": [],
   "source": [
    "#hide\n",
    "#delete problematic countries from table\n",
    "df_table = df_table[~df_table['Country/Region'].isin(['Cape Verde', 'Cruise Ship', 'Kosovo'])]"
   ]
  },
  {
   "cell_type": "code",
   "execution_count": 15,
   "id": "fantastic-effect",
   "metadata": {
    "execution": {
     "iopub.execute_input": "2022-11-18T12:17:03.091106Z",
     "iopub.status.busy": "2022-11-18T12:17:03.090543Z",
     "iopub.status.idle": "2022-11-18T12:17:03.108026Z",
     "shell.execute_reply": "2022-11-18T12:17:03.107581Z"
    },
    "papermill": {
     "duration": 0.055013,
     "end_time": "2022-11-18T12:17:03.108129",
     "exception": false,
     "start_time": "2022-11-18T12:17:03.053116",
     "status": "completed"
    },
    "tags": []
   },
   "outputs": [
    {
     "data": {
      "text/html": [
       "<div>\n",
       "<style scoped>\n",
       "    .dataframe tbody tr th:only-of-type {\n",
       "        vertical-align: middle;\n",
       "    }\n",
       "\n",
       "    .dataframe tbody tr th {\n",
       "        vertical-align: top;\n",
       "    }\n",
       "\n",
       "    .dataframe thead th {\n",
       "        text-align: right;\n",
       "    }\n",
       "</style>\n",
       "<table border=\"1\" class=\"dataframe\">\n",
       "  <thead>\n",
       "    <tr style=\"text-align: right;\">\n",
       "      <th></th>\n",
       "      <th>Country/Region</th>\n",
       "      <th>Cases</th>\n",
       "      <th>Deaths</th>\n",
       "      <th>PCases</th>\n",
       "      <th>PDeaths</th>\n",
       "      <th>Cases (+)</th>\n",
       "      <th>Deaths (+)</th>\n",
       "      <th>Fatality Rate</th>\n",
       "      <th>Continent</th>\n",
       "    </tr>\n",
       "  </thead>\n",
       "  <tbody>\n",
       "    <tr>\n",
       "      <th>0</th>\n",
       "      <td>US</td>\n",
       "      <td>98245940</td>\n",
       "      <td>1076492</td>\n",
       "      <td>98193437</td>\n",
       "      <td>1076085</td>\n",
       "      <td>52503</td>\n",
       "      <td>407</td>\n",
       "      <td>1.1</td>\n",
       "      <td>North America</td>\n",
       "    </tr>\n",
       "    <tr>\n",
       "      <th>1</th>\n",
       "      <td>India</td>\n",
       "      <td>44667967</td>\n",
       "      <td>530553</td>\n",
       "      <td>44668535</td>\n",
       "      <td>530546</td>\n",
       "      <td>0</td>\n",
       "      <td>7</td>\n",
       "      <td>1.2</td>\n",
       "      <td>Asia</td>\n",
       "    </tr>\n",
       "    <tr>\n",
       "      <th>2</th>\n",
       "      <td>France</td>\n",
       "      <td>37471008</td>\n",
       "      <td>159129</td>\n",
       "      <td>37437677</td>\n",
       "      <td>159042</td>\n",
       "      <td>33331</td>\n",
       "      <td>87</td>\n",
       "      <td>0.4</td>\n",
       "      <td>Europe</td>\n",
       "    </tr>\n",
       "    <tr>\n",
       "      <th>3</th>\n",
       "      <td>Germany</td>\n",
       "      <td>36180077</td>\n",
       "      <td>156410</td>\n",
       "      <td>36152490</td>\n",
       "      <td>156192</td>\n",
       "      <td>27587</td>\n",
       "      <td>218</td>\n",
       "      <td>0.4</td>\n",
       "      <td>Europe</td>\n",
       "    </tr>\n",
       "    <tr>\n",
       "      <th>4</th>\n",
       "      <td>Brazil</td>\n",
       "      <td>34971043</td>\n",
       "      <td>688835</td>\n",
       "      <td>34938073</td>\n",
       "      <td>688764</td>\n",
       "      <td>32970</td>\n",
       "      <td>71</td>\n",
       "      <td>2.0</td>\n",
       "      <td>South America</td>\n",
       "    </tr>\n",
       "  </tbody>\n",
       "</table>\n",
       "</div>"
      ],
      "text/plain": [
       "  Country/Region     Cases   Deaths    PCases  PDeaths  Cases (+)  Deaths (+)  \\\n",
       "0             US  98245940  1076492  98193437  1076085      52503         407   \n",
       "1          India  44667967   530553  44668535   530546          0           7   \n",
       "2         France  37471008   159129  37437677   159042      33331          87   \n",
       "3        Germany  36180077   156410  36152490   156192      27587         218   \n",
       "4         Brazil  34971043   688835  34938073   688764      32970          71   \n",
       "\n",
       "   Fatality Rate      Continent  \n",
       "0            1.1  North America  \n",
       "1            1.2           Asia  \n",
       "2            0.4         Europe  \n",
       "3            0.4         Europe  \n",
       "4            2.0  South America  "
      ]
     },
     "execution_count": 15,
     "metadata": {},
     "output_type": "execute_result"
    }
   ],
   "source": [
    "#hide\n",
    "df_table = (pd.DataFrame(dict(Cases=dfc_cases, Deaths=dfc_deaths, PCases=dfp_cases, PDeaths=dfp_deaths))\n",
    "             .sort_values(by=['Cases', 'Deaths'], ascending=[False, False])\n",
    "             .reset_index())\n",
    "df_table.rename(columns={'index': 'Country/Region'}, inplace=True)\n",
    "for c in 'Cases, Deaths'.split(', '):\n",
    "    df_table[f'{c} (+)'] = (df_table[c] - df_table[f'P{c}']).clip(0)  # DATA BUG\n",
    "df_table['Fatality Rate'] = (100 * df_table['Deaths'] / df_table['Cases']).round(1)\n",
    "df_table['Continent'] = df_table['Country/Region'].map(mapping['map.continent'])\n",
    "df_table.head(5)"
   ]
  },
  {
   "cell_type": "code",
   "execution_count": 16,
   "id": "fewer-occasion",
   "metadata": {
    "execution": {
     "iopub.execute_input": "2022-11-18T12:17:03.176039Z",
     "iopub.status.busy": "2022-11-18T12:17:03.175466Z",
     "iopub.status.idle": "2022-11-18T12:17:03.177238Z",
     "shell.execute_reply": "2022-11-18T12:17:03.177677Z"
    },
    "papermill": {
     "duration": 0.038575,
     "end_time": "2022-11-18T12:17:03.177799",
     "exception": false,
     "start_time": "2022-11-18T12:17:03.139224",
     "status": "completed"
    },
    "tags": []
   },
   "outputs": [],
   "source": [
    "#hide\n",
    "#delete problematic countries from table\n",
    "df_table = df_table[~df_table['Country/Region'].isin(['Cape Verde', 'Cruise Ship', 'Kosovo'])]"
   ]
  },
  {
   "cell_type": "code",
   "execution_count": 17,
   "id": "related-center",
   "metadata": {
    "execution": {
     "iopub.execute_input": "2022-11-18T12:17:03.256749Z",
     "iopub.status.busy": "2022-11-18T12:17:03.256188Z",
     "iopub.status.idle": "2022-11-18T12:17:03.258897Z",
     "shell.execute_reply": "2022-11-18T12:17:03.258368Z"
    },
    "papermill": {
     "duration": 0.050258,
     "end_time": "2022-11-18T12:17:03.258998",
     "exception": false,
     "start_time": "2022-11-18T12:17:03.208740",
     "status": "completed"
    },
    "tags": []
   },
   "outputs": [],
   "source": [
    "#hide\n",
    "metrics = [df_table.columns[index] for index in [1,2,5,6]]\n",
    "# s_china = df_table[df_table['Country/Region'].eq('China')][metrics].sum().add_prefix('China ')\n",
    "s_us = df_table[df_table['Country/Region'].eq('US')][metrics].sum().add_prefix('US ')\n",
    "s_eu = df_table[df_table['Continent'].eq('Europe')][metrics].sum().add_prefix('EU ')\n",
    "s_ind = df_table[df_table['Country/Region'].eq('India')][metrics].sum().add_prefix('India ')\n",
    "summary = {'updated': pd.to_datetime(dt_today), 'since': pd.to_datetime(dt_yday)}\n",
    "summary = {'updated': pd.to_datetime(dt_today), 'since': pd.to_datetime(dt_yday)}\n",
    "summary = {**summary, **df_table[metrics].sum(), **s_ind, **s_us, **s_eu}"
   ]
  },
  {
   "cell_type": "code",
   "execution_count": 18,
   "id": "engaging-syndrome",
   "metadata": {
    "execution": {
     "iopub.execute_input": "2022-11-18T12:17:03.325927Z",
     "iopub.status.busy": "2022-11-18T12:17:03.325343Z",
     "iopub.status.idle": "2022-11-18T12:17:03.345374Z",
     "shell.execute_reply": "2022-11-18T12:17:03.344916Z"
    },
    "papermill": {
     "duration": 0.055364,
     "end_time": "2022-11-18T12:17:03.345478",
     "exception": false,
     "start_time": "2022-11-18T12:17:03.290114",
     "status": "completed"
    },
    "tags": []
   },
   "outputs": [],
   "source": [
    "#hide\n",
    "dft_ct_new_cases = dft_cases.groupby(COL_REGION)[dt_cols].sum().diff(axis=1).fillna(0).astype(int)"
   ]
  },
  {
   "cell_type": "code",
   "execution_count": 19,
   "id": "neutral-assignment",
   "metadata": {
    "execution": {
     "iopub.execute_input": "2022-11-18T12:17:03.413916Z",
     "iopub.status.busy": "2022-11-18T12:17:03.413273Z",
     "iopub.status.idle": "2022-11-18T12:17:03.415228Z",
     "shell.execute_reply": "2022-11-18T12:17:03.415630Z"
    },
    "papermill": {
     "duration": 0.03936,
     "end_time": "2022-11-18T12:17:03.415752",
     "exception": false,
     "start_time": "2022-11-18T12:17:03.376392",
     "status": "completed"
    },
    "tags": []
   },
   "outputs": [],
   "source": [
    "#hide\n",
    "everydaycases = dft_ct_new_cases.cumsum(axis=1)"
   ]
  },
  {
   "cell_type": "code",
   "execution_count": 20,
   "id": "parliamentary-calgary",
   "metadata": {
    "execution": {
     "iopub.execute_input": "2022-11-18T12:17:03.481852Z",
     "iopub.status.busy": "2022-11-18T12:17:03.481238Z",
     "iopub.status.idle": "2022-11-18T12:17:04.016741Z",
     "shell.execute_reply": "2022-11-18T12:17:04.016259Z"
    },
    "papermill": {
     "duration": 0.570232,
     "end_time": "2022-11-18T12:17:04.016856",
     "exception": false,
     "start_time": "2022-11-18T12:17:03.446624",
     "status": "completed"
    },
    "tags": []
   },
   "outputs": [],
   "source": [
    "#hide\n",
    "import pandas as pd\n",
    "import matplotlib.pyplot as plt\n",
    "import matplotlib.ticker as ticker\n",
    "import matplotlib.animation as animation\n",
    "from IPython.display import HTML"
   ]
  },
  {
   "cell_type": "code",
   "execution_count": 21,
   "id": "lasting-extraction",
   "metadata": {
    "execution": {
     "iopub.execute_input": "2022-11-18T12:17:04.085180Z",
     "iopub.status.busy": "2022-11-18T12:17:04.084613Z",
     "iopub.status.idle": "2022-11-18T12:17:04.091762Z",
     "shell.execute_reply": "2022-11-18T12:17:04.091332Z"
    },
    "papermill": {
     "duration": 0.043969,
     "end_time": "2022-11-18T12:17:04.091867",
     "exception": false,
     "start_time": "2022-11-18T12:17:04.047898",
     "status": "completed"
    },
    "tags": []
   },
   "outputs": [],
   "source": [
    "#hide\n",
    "t = everydaycases.stack()"
   ]
  },
  {
   "cell_type": "code",
   "execution_count": 22,
   "id": "premier-sleeve",
   "metadata": {
    "execution": {
     "iopub.execute_input": "2022-11-18T12:17:04.158360Z",
     "iopub.status.busy": "2022-11-18T12:17:04.157807Z",
     "iopub.status.idle": "2022-11-18T12:17:04.169683Z",
     "shell.execute_reply": "2022-11-18T12:17:04.169168Z"
    },
    "papermill": {
     "duration": 0.046921,
     "end_time": "2022-11-18T12:17:04.169790",
     "exception": false,
     "start_time": "2022-11-18T12:17:04.122869",
     "status": "completed"
    },
    "tags": []
   },
   "outputs": [],
   "source": [
    "#hide\n",
    "g = t.reset_index(['Country/Region'])"
   ]
  },
  {
   "cell_type": "code",
   "execution_count": 23,
   "id": "distributed-pittsburgh",
   "metadata": {
    "execution": {
     "iopub.execute_input": "2022-11-18T12:17:04.235146Z",
     "iopub.status.busy": "2022-11-18T12:17:04.234585Z",
     "iopub.status.idle": "2022-11-18T12:17:04.237099Z",
     "shell.execute_reply": "2022-11-18T12:17:04.236662Z"
    },
    "papermill": {
     "duration": 0.036713,
     "end_time": "2022-11-18T12:17:04.237205",
     "exception": false,
     "start_time": "2022-11-18T12:17:04.200492",
     "status": "completed"
    },
    "tags": []
   },
   "outputs": [],
   "source": [
    "#hide\n",
    "g.index.name = 'date'"
   ]
  },
  {
   "cell_type": "code",
   "execution_count": 24,
   "id": "naked-donor",
   "metadata": {
    "execution": {
     "iopub.execute_input": "2022-11-18T12:17:04.302897Z",
     "iopub.status.busy": "2022-11-18T12:17:04.302330Z",
     "iopub.status.idle": "2022-11-18T12:17:04.306221Z",
     "shell.execute_reply": "2022-11-18T12:17:04.305767Z"
    },
    "papermill": {
     "duration": 0.037943,
     "end_time": "2022-11-18T12:17:04.306321",
     "exception": false,
     "start_time": "2022-11-18T12:17:04.268378",
     "status": "completed"
    },
    "tags": []
   },
   "outputs": [],
   "source": [
    "# #hide\n",
    "# g = g.reset_index(['date'])"
   ]
  },
  {
   "cell_type": "code",
   "execution_count": 25,
   "id": "incomplete-mustang",
   "metadata": {
    "execution": {
     "iopub.execute_input": "2022-11-18T12:17:04.371859Z",
     "iopub.status.busy": "2022-11-18T12:17:04.371301Z",
     "iopub.status.idle": "2022-11-18T12:17:04.373512Z",
     "shell.execute_reply": "2022-11-18T12:17:04.373076Z"
    },
    "papermill": {
     "duration": 0.036412,
     "end_time": "2022-11-18T12:17:04.373631",
     "exception": false,
     "start_time": "2022-11-18T12:17:04.337219",
     "status": "completed"
    },
    "tags": []
   },
   "outputs": [],
   "source": [
    "#hide\n",
    "# g.head()"
   ]
  },
  {
   "cell_type": "code",
   "execution_count": 26,
   "id": "specific-kruger",
   "metadata": {
    "execution": {
     "iopub.execute_input": "2022-11-18T12:17:04.438897Z",
     "iopub.status.busy": "2022-11-18T12:17:04.438351Z",
     "iopub.status.idle": "2022-11-18T12:17:04.440631Z",
     "shell.execute_reply": "2022-11-18T12:17:04.440211Z"
    },
    "papermill": {
     "duration": 0.036184,
     "end_time": "2022-11-18T12:17:04.440730",
     "exception": false,
     "start_time": "2022-11-18T12:17:04.404546",
     "status": "completed"
    },
    "tags": []
   },
   "outputs": [],
   "source": [
    "#hide\n",
    "# g.columns = ['date','country','cases']"
   ]
  },
  {
   "cell_type": "code",
   "execution_count": 27,
   "id": "tender-conversion",
   "metadata": {
    "execution": {
     "iopub.execute_input": "2022-11-18T12:17:04.506187Z",
     "iopub.status.busy": "2022-11-18T12:17:04.505616Z",
     "iopub.status.idle": "2022-11-18T12:17:04.508064Z",
     "shell.execute_reply": "2022-11-18T12:17:04.507541Z"
    },
    "papermill": {
     "duration": 0.036761,
     "end_time": "2022-11-18T12:17:04.508163",
     "exception": false,
     "start_time": "2022-11-18T12:17:04.471402",
     "status": "completed"
    },
    "tags": []
   },
   "outputs": [],
   "source": [
    "#hide\n",
    "# g['continent'] = g.country"
   ]
  },
  {
   "cell_type": "code",
   "execution_count": 28,
   "id": "substantial-wilderness",
   "metadata": {
    "execution": {
     "iopub.execute_input": "2022-11-18T12:17:04.575571Z",
     "iopub.status.busy": "2022-11-18T12:17:04.575007Z",
     "iopub.status.idle": "2022-11-18T12:17:04.577326Z",
     "shell.execute_reply": "2022-11-18T12:17:04.576807Z"
    },
    "papermill": {
     "duration": 0.03629,
     "end_time": "2022-11-18T12:17:04.577425",
     "exception": false,
     "start_time": "2022-11-18T12:17:04.541135",
     "status": "completed"
    },
    "tags": []
   },
   "outputs": [],
   "source": [
    "#hide\n",
    "# cols = list(g.columns.values)"
   ]
  },
  {
   "cell_type": "code",
   "execution_count": 29,
   "id": "solved-farming",
   "metadata": {
    "execution": {
     "iopub.execute_input": "2022-11-18T12:17:04.642635Z",
     "iopub.status.busy": "2022-11-18T12:17:04.642074Z",
     "iopub.status.idle": "2022-11-18T12:17:04.644499Z",
     "shell.execute_reply": "2022-11-18T12:17:04.644039Z"
    },
    "papermill": {
     "duration": 0.036303,
     "end_time": "2022-11-18T12:17:04.644596",
     "exception": false,
     "start_time": "2022-11-18T12:17:04.608293",
     "status": "completed"
    },
    "tags": []
   },
   "outputs": [],
   "source": [
    "#hide\n",
    "# cols.insert(0, cols.pop())"
   ]
  },
  {
   "cell_type": "code",
   "execution_count": 30,
   "id": "executed-adoption",
   "metadata": {
    "execution": {
     "iopub.execute_input": "2022-11-18T12:17:04.709836Z",
     "iopub.status.busy": "2022-11-18T12:17:04.709236Z",
     "iopub.status.idle": "2022-11-18T12:17:04.711697Z",
     "shell.execute_reply": "2022-11-18T12:17:04.711169Z"
    },
    "papermill": {
     "duration": 0.036363,
     "end_time": "2022-11-18T12:17:04.711795",
     "exception": false,
     "start_time": "2022-11-18T12:17:04.675432",
     "status": "completed"
    },
    "tags": []
   },
   "outputs": [],
   "source": [
    "#hide\n",
    "# g = g[cols]"
   ]
  },
  {
   "cell_type": "code",
   "execution_count": 31,
   "id": "subject-dublin",
   "metadata": {
    "execution": {
     "iopub.execute_input": "2022-11-18T12:17:04.777161Z",
     "iopub.status.busy": "2022-11-18T12:17:04.776599Z",
     "iopub.status.idle": "2022-11-18T12:17:04.779063Z",
     "shell.execute_reply": "2022-11-18T12:17:04.778623Z"
    },
    "papermill": {
     "duration": 0.036626,
     "end_time": "2022-11-18T12:17:04.779164",
     "exception": false,
     "start_time": "2022-11-18T12:17:04.742538",
     "status": "completed"
    },
    "tags": []
   },
   "outputs": [],
   "source": [
    "#hide\n",
    "# g['continent'] = g['continent'].map(mapping['map.continent'])"
   ]
  },
  {
   "cell_type": "code",
   "execution_count": 32,
   "id": "freelance-scout",
   "metadata": {
    "execution": {
     "iopub.execute_input": "2022-11-18T12:17:04.844522Z",
     "iopub.status.busy": "2022-11-18T12:17:04.843968Z",
     "iopub.status.idle": "2022-11-18T12:17:04.846306Z",
     "shell.execute_reply": "2022-11-18T12:17:04.845784Z"
    },
    "papermill": {
     "duration": 0.036423,
     "end_time": "2022-11-18T12:17:04.846404",
     "exception": false,
     "start_time": "2022-11-18T12:17:04.809981",
     "status": "completed"
    },
    "tags": []
   },
   "outputs": [],
   "source": [
    "#hide\n",
    "# g.head()"
   ]
  },
  {
   "cell_type": "code",
   "execution_count": 33,
   "id": "limited-engine",
   "metadata": {
    "execution": {
     "iopub.execute_input": "2022-11-18T12:17:04.911611Z",
     "iopub.status.busy": "2022-11-18T12:17:04.911039Z",
     "iopub.status.idle": "2022-11-18T12:17:04.914106Z",
     "shell.execute_reply": "2022-11-18T12:17:04.913666Z"
    },
    "papermill": {
     "duration": 0.037133,
     "end_time": "2022-11-18T12:17:04.914204",
     "exception": false,
     "start_time": "2022-11-18T12:17:04.877071",
     "status": "completed"
    },
    "tags": []
   },
   "outputs": [],
   "source": [
    "# hide\n",
    "# g['date'] = g['date'].astype('datetime64[ns]')"
   ]
  },
  {
   "cell_type": "code",
   "execution_count": 34,
   "id": "sophisticated-supervisor",
   "metadata": {
    "execution": {
     "iopub.execute_input": "2022-11-18T12:17:04.979374Z",
     "iopub.status.busy": "2022-11-18T12:17:04.978828Z",
     "iopub.status.idle": "2022-11-18T12:17:04.981025Z",
     "shell.execute_reply": "2022-11-18T12:17:04.980598Z"
    },
    "papermill": {
     "duration": 0.036082,
     "end_time": "2022-11-18T12:17:04.981119",
     "exception": false,
     "start_time": "2022-11-18T12:17:04.945037",
     "status": "completed"
    },
    "tags": []
   },
   "outputs": [],
   "source": [
    "#hide\n",
    "# g['date'] = g.date.dt.dayofyear"
   ]
  },
  {
   "cell_type": "code",
   "execution_count": 35,
   "id": "inside-dubai",
   "metadata": {
    "execution": {
     "iopub.execute_input": "2022-11-18T12:17:05.046204Z",
     "iopub.status.busy": "2022-11-18T12:17:05.045647Z",
     "iopub.status.idle": "2022-11-18T12:17:05.048456Z",
     "shell.execute_reply": "2022-11-18T12:17:05.047927Z"
    },
    "papermill": {
     "duration": 0.03653,
     "end_time": "2022-11-18T12:17:05.048554",
     "exception": false,
     "start_time": "2022-11-18T12:17:05.012024",
     "status": "completed"
    },
    "tags": []
   },
   "outputs": [],
   "source": [
    "#hide\n",
    "# g = g.rename(columns= {'continent':'group','country':'name','cases':'value'})"
   ]
  },
  {
   "cell_type": "code",
   "execution_count": 36,
   "id": "fleet-motorcycle",
   "metadata": {
    "execution": {
     "iopub.execute_input": "2022-11-18T12:17:05.113848Z",
     "iopub.status.busy": "2022-11-18T12:17:05.113263Z",
     "iopub.status.idle": "2022-11-18T12:17:05.115683Z",
     "shell.execute_reply": "2022-11-18T12:17:05.115162Z"
    },
    "papermill": {
     "duration": 0.036503,
     "end_time": "2022-11-18T12:17:05.115779",
     "exception": false,
     "start_time": "2022-11-18T12:17:05.079276",
     "status": "completed"
    },
    "tags": []
   },
   "outputs": [],
   "source": [
    "#hide\n",
    "# cols = ['name','group','day','value']"
   ]
  },
  {
   "cell_type": "code",
   "execution_count": 37,
   "id": "continued-sleeping",
   "metadata": {
    "execution": {
     "iopub.execute_input": "2022-11-18T12:17:05.180725Z",
     "iopub.status.busy": "2022-11-18T12:17:05.180170Z",
     "iopub.status.idle": "2022-11-18T12:17:05.182392Z",
     "shell.execute_reply": "2022-11-18T12:17:05.181962Z"
    },
    "papermill": {
     "duration": 0.035957,
     "end_time": "2022-11-18T12:17:05.182488",
     "exception": false,
     "start_time": "2022-11-18T12:17:05.146531",
     "status": "completed"
    },
    "tags": []
   },
   "outputs": [],
   "source": [
    "#hide\n",
    "# g.rename(columns= {'date':'day'},inplace = True)"
   ]
  },
  {
   "cell_type": "code",
   "execution_count": 38,
   "id": "major-fight",
   "metadata": {
    "execution": {
     "iopub.execute_input": "2022-11-18T12:17:05.248671Z",
     "iopub.status.busy": "2022-11-18T12:17:05.248108Z",
     "iopub.status.idle": "2022-11-18T12:17:05.250567Z",
     "shell.execute_reply": "2022-11-18T12:17:05.250138Z"
    },
    "papermill": {
     "duration": 0.037416,
     "end_time": "2022-11-18T12:17:05.250664",
     "exception": false,
     "start_time": "2022-11-18T12:17:05.213248",
     "status": "completed"
    },
    "tags": []
   },
   "outputs": [],
   "source": [
    "#hide\n",
    "# g = g[cols]"
   ]
  },
  {
   "cell_type": "code",
   "execution_count": 39,
   "id": "structured-mobile",
   "metadata": {
    "execution": {
     "iopub.execute_input": "2022-11-18T12:17:05.315435Z",
     "iopub.status.busy": "2022-11-18T12:17:05.314886Z",
     "iopub.status.idle": "2022-11-18T12:17:05.316983Z",
     "shell.execute_reply": "2022-11-18T12:17:05.316469Z"
    },
    "papermill": {
     "duration": 0.035886,
     "end_time": "2022-11-18T12:17:05.317082",
     "exception": false,
     "start_time": "2022-11-18T12:17:05.281196",
     "status": "completed"
    },
    "tags": []
   },
   "outputs": [],
   "source": [
    "# #hide\n",
    "# g = g[g.group.notna()]"
   ]
  },
  {
   "cell_type": "code",
   "execution_count": 40,
   "id": "determined-closing",
   "metadata": {
    "execution": {
     "iopub.execute_input": "2022-11-18T12:17:05.382484Z",
     "iopub.status.busy": "2022-11-18T12:17:05.381912Z",
     "iopub.status.idle": "2022-11-18T12:17:05.384254Z",
     "shell.execute_reply": "2022-11-18T12:17:05.383826Z"
    },
    "papermill": {
     "duration": 0.036598,
     "end_time": "2022-11-18T12:17:05.384353",
     "exception": false,
     "start_time": "2022-11-18T12:17:05.347755",
     "status": "completed"
    },
    "tags": []
   },
   "outputs": [],
   "source": [
    "# #hide\n",
    "# colors = dict(zip(\n",
    "#     [\"Oceania\", \"Europe\", \"Asia\", \"South America\", \"Middle East\", \"North America\", \"Africa\"],\n",
    "#     [\"#adb0ff\", \"#ffb3ff\", \"#90d595\", \"#e48381\", \"#aafbff\", \"#f7bb5f\", \"#eafb50\"]\n",
    "# ))\n",
    "# group_lk = g.set_index('name')['group'].to_dict()"
   ]
  },
  {
   "cell_type": "code",
   "execution_count": null,
   "id": "gross-drinking",
   "metadata": {
    "papermill": {
     "duration": 0.030818,
     "end_time": "2022-11-18T12:17:05.446262",
     "exception": false,
     "start_time": "2022-11-18T12:17:05.415444",
     "status": "completed"
    },
    "tags": []
   },
   "outputs": [],
   "source": []
  },
  {
   "cell_type": "code",
   "execution_count": 41,
   "id": "subject-macintosh",
   "metadata": {
    "execution": {
     "iopub.execute_input": "2022-11-18T12:17:05.512233Z",
     "iopub.status.busy": "2022-11-18T12:17:05.511656Z",
     "iopub.status.idle": "2022-11-18T12:17:05.514161Z",
     "shell.execute_reply": "2022-11-18T12:17:05.513709Z"
    },
    "papermill": {
     "duration": 0.037173,
     "end_time": "2022-11-18T12:17:05.514258",
     "exception": false,
     "start_time": "2022-11-18T12:17:05.477085",
     "status": "completed"
    },
    "tags": []
   },
   "outputs": [],
   "source": [
    "# #hide\n",
    "# fig, ax = plt.subplots(figsize=(15, 8))\n",
    "\n",
    "# def draw_barchart(current_day):\n",
    "#     dff = g[g['day'].eq(current_day)].sort_values(by='value', ascending=True).tail(10)\n",
    "#     ax.clear()\n",
    "#     ax.barh(dff['name'], dff['value'], color=[colors[group_lk[x]] for x in dff['name']])\n",
    "#     dx = dff['value'].max() / 200\n",
    "    \n",
    "#     for i, (value, name) in enumerate(zip(dff['value'], dff['name'])):\n",
    "#         ax.text(value-dx, i,     name,           size=14, weight=600, ha='right', va='bottom')\n",
    "#         ax.text(value-dx, i-.25, group_lk[name], size=10, color='#444444', ha='right', va='baseline')\n",
    "#         ax.text(value+dx, i,     f'{value:,.0f}',  size=14, ha='left',  va='center')\n",
    "#     ax.text(1, 0.4, current_day, transform=ax.transAxes, color='#777777', size=46, ha='right', weight=800)\n",
    "#     ax.text(0, 1.06, 'Population (thousands)', transform=ax.transAxes, size=12, color='#777777')\n",
    "#     ax.xaxis.set_major_formatter(ticker.StrMethodFormatter('{x:,.0f}'))\n",
    "#     ax.xaxis.set_ticks_position('top')\n",
    "#     ax.tick_params(axis='x', colors='#777777', labelsize=12)\n",
    "#     ax.set_yticks([])\n",
    "#     ax.margins(0, 0.01)\n",
    "#     ax.grid(which='major', axis='x', linestyle='-')\n",
    "#     ax.set_axisbelow(True)\n",
    "    \n",
    "#     ax.text(0, 1.15, 'Coronavirus',\n",
    "#             transform=ax.transAxes, size=24, weight=600, ha='left', va='top')\n",
    "# #     ax.text(1, 0, 'by @pratapvardhan; credit @jburnmurdoch', transform=ax.transAxes, color='#777777', ha='right',\n",
    "# #             bbox=dict(facecolor='white', alpha=0.8, edgecolor='white'))\n",
    "#     plt.box(False)"
   ]
  },
  {
   "cell_type": "code",
   "execution_count": 42,
   "id": "sexual-wages",
   "metadata": {
    "execution": {
     "iopub.execute_input": "2022-11-18T12:17:05.579737Z",
     "iopub.status.busy": "2022-11-18T12:17:05.579167Z",
     "iopub.status.idle": "2022-11-18T12:17:05.581630Z",
     "shell.execute_reply": "2022-11-18T12:17:05.581173Z"
    },
    "papermill": {
     "duration": 0.036717,
     "end_time": "2022-11-18T12:17:05.581731",
     "exception": false,
     "start_time": "2022-11-18T12:17:05.545014",
     "status": "completed"
    },
    "tags": []
   },
   "outputs": [],
   "source": [
    "# #hide_input\n",
    "# fig, ax = plt.subplots(figsize=(15, 8))\n",
    "# animator = animation.FuncAnimation(fig, draw_barchart, frames=range(g.day.values.min(), g.day.values.max()))\n",
    "# HTML(animator.to_jshtml())\n",
    "# # or use animator.to_html5_video() or animator.save() "
   ]
  },
  {
   "cell_type": "code",
   "execution_count": null,
   "id": "australian-container",
   "metadata": {
    "papermill": {
     "duration": 0.03072,
     "end_time": "2022-11-18T12:17:05.643409",
     "exception": false,
     "start_time": "2022-11-18T12:17:05.612689",
     "status": "completed"
    },
    "tags": []
   },
   "outputs": [],
   "source": []
  },
  {
   "cell_type": "code",
   "execution_count": null,
   "id": "mediterranean-pontiac",
   "metadata": {
    "papermill": {
     "duration": 0.03068,
     "end_time": "2022-11-18T12:17:05.704853",
     "exception": false,
     "start_time": "2022-11-18T12:17:05.674173",
     "status": "completed"
    },
    "tags": []
   },
   "outputs": [],
   "source": []
  },
  {
   "cell_type": "code",
   "execution_count": null,
   "id": "aging-legislature",
   "metadata": {
    "papermill": {
     "duration": 0.030711,
     "end_time": "2022-11-18T12:17:05.766486",
     "exception": false,
     "start_time": "2022-11-18T12:17:05.735775",
     "status": "completed"
    },
    "tags": []
   },
   "outputs": [],
   "source": []
  }
 ],
 "metadata": {
  "kernelspec": {
   "display_name": "Python 3",
   "language": "python",
   "name": "python3"
  },
  "language_info": {
   "codemirror_mode": {
    "name": "ipython",
    "version": 3
   },
   "file_extension": ".py",
   "mimetype": "text/x-python",
   "name": "python",
   "nbconvert_exporter": "python",
   "pygments_lexer": "ipython3",
   "version": "3.6.15"
  },
  "papermill": {
   "duration": 5.906307,
   "end_time": "2022-11-18T12:17:06.114687",
   "environment_variables": {},
   "exception": null,
   "input_path": "2020-03-21-covid19exp.ipynb",
   "output_path": "2020-03-21-covid19exp.ipynb",
   "parameters": {},
   "start_time": "2022-11-18T12:17:00.208380",
   "version": "2.0.0"
  }
 },
 "nbformat": 4,
 "nbformat_minor": 5
}