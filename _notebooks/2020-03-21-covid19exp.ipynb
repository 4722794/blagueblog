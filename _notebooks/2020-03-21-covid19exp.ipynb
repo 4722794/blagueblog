{
 "cells": [
  {
   "cell_type": "markdown",
   "metadata": {
    "papermill": {
     "duration": 0.029882,
     "end_time": "2021-01-01T12:08:47.746875",
     "exception": false,
     "start_time": "2021-01-01T12:08:47.716993",
     "status": "completed"
    },
    "tags": []
   },
   "source": [
    "# COVID-19 Case Race\n",
    "> A race chart to see rising cases around the world\n",
    "\n",
    "- author: Hargun Oberoi\n",
    "- image: images/covid-overview.png\n",
    "- hide: false\n",
    "- badges: false"
   ]
  },
  {
   "cell_type": "code",
   "execution_count": 1,
   "metadata": {
    "execution": {
     "iopub.execute_input": "2021-01-01T12:08:47.810679Z",
     "iopub.status.busy": "2021-01-01T12:08:47.810164Z",
     "iopub.status.idle": "2021-01-01T12:08:48.097949Z",
     "shell.execute_reply": "2021-01-01T12:08:48.097413Z"
    },
    "papermill": {
     "duration": 0.324539,
     "end_time": "2021-01-01T12:08:48.098086",
     "exception": false,
     "start_time": "2021-01-01T12:08:47.773547",
     "status": "completed"
    },
    "tags": []
   },
   "outputs": [],
   "source": [
    "#hide\n",
    "import numpy as np\n",
    "import pandas as pd\n",
    "from jinja2 import Template\n",
    "from IPython.display import HTML"
   ]
  },
  {
   "cell_type": "code",
   "execution_count": 2,
   "metadata": {
    "execution": {
     "iopub.execute_input": "2021-01-01T12:08:48.154218Z",
     "iopub.status.busy": "2021-01-01T12:08:48.153627Z",
     "iopub.status.idle": "2021-01-01T12:08:48.155683Z",
     "shell.execute_reply": "2021-01-01T12:08:48.155097Z"
    },
    "papermill": {
     "duration": 0.031516,
     "end_time": "2021-01-01T12:08:48.155802",
     "exception": false,
     "start_time": "2021-01-01T12:08:48.124286",
     "status": "completed"
    },
    "tags": []
   },
   "outputs": [],
   "source": [
    "#hide\n",
    "\n",
    "# FETCH\n",
    "base_url = 'https://raw.githubusercontent.com/pratapvardhan/notebooks/master/covid19/'\n",
    "paths = {\n",
    "    'mapping': base_url + 'mapping_countries.csv',\n",
    "    'overview': base_url + 'overview.tpl'\n",
    "}"
   ]
  },
  {
   "cell_type": "code",
   "execution_count": 3,
   "metadata": {
    "execution": {
     "iopub.execute_input": "2021-01-01T12:08:48.216979Z",
     "iopub.status.busy": "2021-01-01T12:08:48.215531Z",
     "iopub.status.idle": "2021-01-01T12:08:48.219691Z",
     "shell.execute_reply": "2021-01-01T12:08:48.219261Z"
    },
    "papermill": {
     "duration": 0.037055,
     "end_time": "2021-01-01T12:08:48.219797",
     "exception": false,
     "start_time": "2021-01-01T12:08:48.182742",
     "status": "completed"
    },
    "tags": []
   },
   "outputs": [
    {
     "data": {
      "text/plain": [
       "'https://raw.githubusercontent.com/pratapvardhan/notebooks/master/covid19/mapping_countries.csv'"
      ]
     },
     "execution_count": 3,
     "metadata": {},
     "output_type": "execute_result"
    }
   ],
   "source": [
    "#hide\n",
    "paths['mapping']"
   ]
  },
  {
   "cell_type": "code",
   "execution_count": 4,
   "metadata": {
    "execution": {
     "iopub.execute_input": "2021-01-01T12:08:48.276858Z",
     "iopub.status.busy": "2021-01-01T12:08:48.276359Z",
     "iopub.status.idle": "2021-01-01T12:08:48.278437Z",
     "shell.execute_reply": "2021-01-01T12:08:48.278017Z"
    },
    "papermill": {
     "duration": 0.032441,
     "end_time": "2021-01-01T12:08:48.278535",
     "exception": false,
     "start_time": "2021-01-01T12:08:48.246094",
     "status": "completed"
    },
    "tags": []
   },
   "outputs": [],
   "source": [
    "#hide\n",
    "def get_mappings(url):\n",
    "    df = pd.read_csv(url)\n",
    "    return {\n",
    "        'df': df,\n",
    "        'replace.country': dict(df.dropna(subset=['Name']).set_index('Country')['Name']),\n",
    "        'map.continent': dict(df.set_index('Name')['Continent'])\n",
    "    }"
   ]
  },
  {
   "cell_type": "code",
   "execution_count": 5,
   "metadata": {
    "execution": {
     "iopub.execute_input": "2021-01-01T12:08:48.335126Z",
     "iopub.status.busy": "2021-01-01T12:08:48.334622Z",
     "iopub.status.idle": "2021-01-01T12:08:48.385297Z",
     "shell.execute_reply": "2021-01-01T12:08:48.384812Z"
    },
    "papermill": {
     "duration": 0.080844,
     "end_time": "2021-01-01T12:08:48.385409",
     "exception": false,
     "start_time": "2021-01-01T12:08:48.304565",
     "status": "completed"
    },
    "tags": []
   },
   "outputs": [],
   "source": [
    "#hide\n",
    "mapping = get_mappings(paths['mapping'])"
   ]
  },
  {
   "cell_type": "code",
   "execution_count": 6,
   "metadata": {
    "execution": {
     "iopub.execute_input": "2021-01-01T12:08:48.442183Z",
     "iopub.status.busy": "2021-01-01T12:08:48.441678Z",
     "iopub.status.idle": "2021-01-01T12:08:48.443907Z",
     "shell.execute_reply": "2021-01-01T12:08:48.443503Z"
    },
    "papermill": {
     "duration": 0.032326,
     "end_time": "2021-01-01T12:08:48.444010",
     "exception": false,
     "start_time": "2021-01-01T12:08:48.411684",
     "status": "completed"
    },
    "tags": []
   },
   "outputs": [],
   "source": [
    "#hide\n",
    "def get_template(path):\n",
    "    from urllib.parse import urlparse\n",
    "    if bool(urlparse(path).netloc):\n",
    "        from urllib.request import urlopen\n",
    "        return urlopen(path).read().decode('utf8')\n",
    "    return open(path).read()"
   ]
  },
  {
   "cell_type": "code",
   "execution_count": 7,
   "metadata": {
    "execution": {
     "iopub.execute_input": "2021-01-01T12:08:48.500223Z",
     "iopub.status.busy": "2021-01-01T12:08:48.499721Z",
     "iopub.status.idle": "2021-01-01T12:08:48.501946Z",
     "shell.execute_reply": "2021-01-01T12:08:48.501524Z"
    },
    "papermill": {
     "duration": 0.032075,
     "end_time": "2021-01-01T12:08:48.502045",
     "exception": false,
     "start_time": "2021-01-01T12:08:48.469970",
     "status": "completed"
    },
    "tags": []
   },
   "outputs": [],
   "source": [
    "#hide\n",
    "def get_frame(name):\n",
    "    url = (\n",
    "        'https://raw.githubusercontent.com/CSSEGISandData/COVID-19/master/csse_covid_19_data/'\n",
    "        f'csse_covid_19_time_series/time_series_covid19_{name}_global.csv')\n",
    "    df = pd.read_csv(url)\n",
    "    # rename countries\n",
    "    df['Country/Region'] = df['Country/Region'].replace(mapping['replace.country'])\n",
    "    return df"
   ]
  },
  {
   "cell_type": "code",
   "execution_count": 8,
   "metadata": {
    "execution": {
     "iopub.execute_input": "2021-01-01T12:08:48.559555Z",
     "iopub.status.busy": "2021-01-01T12:08:48.559031Z",
     "iopub.status.idle": "2021-01-01T12:08:48.561115Z",
     "shell.execute_reply": "2021-01-01T12:08:48.560691Z"
    },
    "papermill": {
     "duration": 0.03304,
     "end_time": "2021-01-01T12:08:48.561214",
     "exception": false,
     "start_time": "2021-01-01T12:08:48.528174",
     "status": "completed"
    },
    "tags": []
   },
   "outputs": [],
   "source": [
    "#hide\n",
    "def get_dates(df):\n",
    "    dt_cols = df.columns[~df.columns.isin(['Province/State', 'Country/Region', 'Lat', 'Long'])]\n",
    "    LAST_DATE_I = -1\n",
    "    # sometimes last column may be empty, then go backwards\n",
    "    for i in range(-1, -len(dt_cols), -1):\n",
    "        if not df[dt_cols[i]].fillna(0).eq(0).all():\n",
    "            LAST_DATE_I = i\n",
    "            break\n",
    "    return LAST_DATE_I, dt_cols"
   ]
  },
  {
   "cell_type": "code",
   "execution_count": 9,
   "metadata": {
    "execution": {
     "iopub.execute_input": "2021-01-01T12:08:48.617516Z",
     "iopub.status.busy": "2021-01-01T12:08:48.616646Z",
     "iopub.status.idle": "2021-01-01T12:08:48.952264Z",
     "shell.execute_reply": "2021-01-01T12:08:48.951732Z"
    },
    "papermill": {
     "duration": 0.365287,
     "end_time": "2021-01-01T12:08:48.952413",
     "exception": false,
     "start_time": "2021-01-01T12:08:48.587126",
     "status": "completed"
    },
    "tags": []
   },
   "outputs": [],
   "source": [
    "#hide\n",
    "COL_REGION = 'Country/Region'\n",
    "# Confirmed, Recovered, Deaths\n",
    "df = get_frame('confirmed')\n",
    "# dft_: timeseries, dfc_: today country agg\n",
    "dft_cases = df\n",
    "dft_deaths = get_frame('deaths')\n",
    "dft_recovered = get_frame('recovered')\n",
    "LAST_DATE_I, dt_cols = get_dates(df)"
   ]
  },
  {
   "cell_type": "code",
   "execution_count": 10,
   "metadata": {
    "execution": {
     "iopub.execute_input": "2021-01-01T12:08:49.010682Z",
     "iopub.status.busy": "2021-01-01T12:08:49.010086Z",
     "iopub.status.idle": "2021-01-01T12:08:49.011567Z",
     "shell.execute_reply": "2021-01-01T12:08:49.012035Z"
    },
    "papermill": {
     "duration": 0.032647,
     "end_time": "2021-01-01T12:08:49.012175",
     "exception": false,
     "start_time": "2021-01-01T12:08:48.979528",
     "status": "completed"
    },
    "tags": []
   },
   "outputs": [],
   "source": [
    "#hide\n",
    "LAST_DATE_I, dt_cols = get_dates(df)\n",
    "dt_today =dt_cols[LAST_DATE_I]\n",
    "# dt_5day = dt_cols[LAST_DATE_I - 5]\n",
    "dt_yday = dt_cols[LAST_DATE_I - 1]"
   ]
  },
  {
   "cell_type": "code",
   "execution_count": 11,
   "metadata": {
    "execution": {
     "iopub.execute_input": "2021-01-01T12:08:49.070754Z",
     "iopub.status.busy": "2021-01-01T12:08:49.070258Z",
     "iopub.status.idle": "2021-01-01T12:08:49.076273Z",
     "shell.execute_reply": "2021-01-01T12:08:49.076739Z"
    },
    "papermill": {
     "duration": 0.038367,
     "end_time": "2021-01-01T12:08:49.076855",
     "exception": false,
     "start_time": "2021-01-01T12:08:49.038488",
     "status": "completed"
    },
    "tags": []
   },
   "outputs": [],
   "source": [
    "#hide\n",
    "dfc_cases = dft_cases.groupby(COL_REGION)[dt_today].sum()\n",
    "dfc_deaths = dft_deaths.groupby(COL_REGION)[dt_today].sum()\n",
    "# dfp_cases = dft_cases.groupby(COL_REGION)[dt_5day].sum()\n",
    "# dfp_deaths = dft_deaths.groupby(COL_REGION)[dt_5day].sum()\n",
    "dfp_cases = dft_cases.groupby(COL_REGION)[dt_yday].sum()\n",
    "dfp_deaths = dft_deaths.groupby(COL_REGION)[dt_yday].sum()"
   ]
  },
  {
   "cell_type": "code",
   "execution_count": 12,
   "metadata": {
    "execution": {
     "iopub.execute_input": "2021-01-01T12:08:49.134287Z",
     "iopub.status.busy": "2021-01-01T12:08:49.133794Z",
     "iopub.status.idle": "2021-01-01T12:08:49.138267Z",
     "shell.execute_reply": "2021-01-01T12:08:49.138696Z"
    },
    "papermill": {
     "duration": 0.035952,
     "end_time": "2021-01-01T12:08:49.138810",
     "exception": false,
     "start_time": "2021-01-01T12:08:49.102858",
     "status": "completed"
    },
    "tags": []
   },
   "outputs": [],
   "source": [
    "#hide\n",
    "df_table = (pd.DataFrame(dict(Cases = dfc_cases, Deaths = dfc_deaths, PCases = dfp_cases, PDeaths = dfp_deaths))\n",
    "            .sort_values(by = ['Cases','Deaths'], ascending = [False, False])\n",
    "            .reset_index())"
   ]
  },
  {
   "cell_type": "code",
   "execution_count": 13,
   "metadata": {
    "execution": {
     "iopub.execute_input": "2021-01-01T12:08:49.207507Z",
     "iopub.status.busy": "2021-01-01T12:08:49.206969Z",
     "iopub.status.idle": "2021-01-01T12:08:49.213868Z",
     "shell.execute_reply": "2021-01-01T12:08:49.213461Z"
    },
    "papermill": {
     "duration": 0.049206,
     "end_time": "2021-01-01T12:08:49.213975",
     "exception": false,
     "start_time": "2021-01-01T12:08:49.164769",
     "status": "completed"
    },
    "tags": []
   },
   "outputs": [
    {
     "data": {
      "text/html": [
       "<div>\n",
       "<style scoped>\n",
       "    .dataframe tbody tr th:only-of-type {\n",
       "        vertical-align: middle;\n",
       "    }\n",
       "\n",
       "    .dataframe tbody tr th {\n",
       "        vertical-align: top;\n",
       "    }\n",
       "\n",
       "    .dataframe thead th {\n",
       "        text-align: right;\n",
       "    }\n",
       "</style>\n",
       "<table border=\"1\" class=\"dataframe\">\n",
       "  <thead>\n",
       "    <tr style=\"text-align: right;\">\n",
       "      <th></th>\n",
       "      <th>Country/Region</th>\n",
       "      <th>Cases</th>\n",
       "      <th>Deaths</th>\n",
       "      <th>PCases</th>\n",
       "      <th>PDeaths</th>\n",
       "      <th>Cases (+)</th>\n",
       "      <th>Deaths (+)</th>\n",
       "      <th>Fatality Rate</th>\n",
       "      <th>Continent</th>\n",
       "    </tr>\n",
       "  </thead>\n",
       "  <tbody>\n",
       "    <tr>\n",
       "      <th>0</th>\n",
       "      <td>US</td>\n",
       "      <td>19968087</td>\n",
       "      <td>345737</td>\n",
       "      <td>19740772</td>\n",
       "      <td>342318</td>\n",
       "      <td>227315</td>\n",
       "      <td>3419</td>\n",
       "      <td>1.73</td>\n",
       "      <td>North America</td>\n",
       "    </tr>\n",
       "    <tr>\n",
       "      <th>1</th>\n",
       "      <td>India</td>\n",
       "      <td>10266674</td>\n",
       "      <td>148738</td>\n",
       "      <td>10266674</td>\n",
       "      <td>148738</td>\n",
       "      <td>0</td>\n",
       "      <td>0</td>\n",
       "      <td>1.45</td>\n",
       "      <td>Asia</td>\n",
       "    </tr>\n",
       "    <tr>\n",
       "      <th>2</th>\n",
       "      <td>Brazil</td>\n",
       "      <td>7675973</td>\n",
       "      <td>194949</td>\n",
       "      <td>7619200</td>\n",
       "      <td>193875</td>\n",
       "      <td>56773</td>\n",
       "      <td>1074</td>\n",
       "      <td>2.54</td>\n",
       "      <td>South America</td>\n",
       "    </tr>\n",
       "    <tr>\n",
       "      <th>3</th>\n",
       "      <td>Russia</td>\n",
       "      <td>3127347</td>\n",
       "      <td>56271</td>\n",
       "      <td>3100018</td>\n",
       "      <td>55692</td>\n",
       "      <td>27329</td>\n",
       "      <td>579</td>\n",
       "      <td>1.80</td>\n",
       "      <td>Europe</td>\n",
       "    </tr>\n",
       "    <tr>\n",
       "      <th>4</th>\n",
       "      <td>France</td>\n",
       "      <td>2677666</td>\n",
       "      <td>64759</td>\n",
       "      <td>2657624</td>\n",
       "      <td>64508</td>\n",
       "      <td>20042</td>\n",
       "      <td>251</td>\n",
       "      <td>2.42</td>\n",
       "      <td>Europe</td>\n",
       "    </tr>\n",
       "  </tbody>\n",
       "</table>\n",
       "</div>"
      ],
      "text/plain": [
       "  Country/Region     Cases  Deaths    PCases  PDeaths  Cases (+)  Deaths (+)  \\\n",
       "0             US  19968087  345737  19740772   342318     227315        3419   \n",
       "1          India  10266674  148738  10266674   148738          0           0   \n",
       "2         Brazil   7675973  194949   7619200   193875      56773        1074   \n",
       "3         Russia   3127347   56271   3100018    55692      27329         579   \n",
       "4         France   2677666   64759   2657624    64508      20042         251   \n",
       "\n",
       "   Fatality Rate      Continent  \n",
       "0           1.73  North America  \n",
       "1           1.45           Asia  \n",
       "2           2.54  South America  \n",
       "3           1.80         Europe  \n",
       "4           2.42         Europe  "
      ]
     },
     "execution_count": 13,
     "metadata": {},
     "output_type": "execute_result"
    }
   ],
   "source": [
    "#hide\n",
    "for c in 'Cases, Deaths'.split(', '):\n",
    "    df_table[f'{c} (+)'] = (df_table[c] - df_table[f'P{c}']).clip(0)\n",
    "    #Clip ça veut dire, les chiffres negatif sont interdit\n",
    "df_table['Fatality Rate'] = (100* df_table['Deaths']/ df_table['Cases']).round(2)\n",
    "df_table['Continent'] = df_table['Country/Region'].map(mapping['map.continent'])\n",
    "df_table.head(5)"
   ]
  },
  {
   "cell_type": "code",
   "execution_count": 14,
   "metadata": {
    "execution": {
     "iopub.execute_input": "2021-01-01T12:08:49.271153Z",
     "iopub.status.busy": "2021-01-01T12:08:49.270657Z",
     "iopub.status.idle": "2021-01-01T12:08:49.273591Z",
     "shell.execute_reply": "2021-01-01T12:08:49.273996Z"
    },
    "papermill": {
     "duration": 0.033595,
     "end_time": "2021-01-01T12:08:49.274109",
     "exception": false,
     "start_time": "2021-01-01T12:08:49.240514",
     "status": "completed"
    },
    "tags": []
   },
   "outputs": [],
   "source": [
    "#hide\n",
    "#delete problematic countries from table\n",
    "df_table = df_table[~df_table['Country/Region'].isin(['Cape Verde', 'Cruise Ship', 'Kosovo'])]"
   ]
  },
  {
   "cell_type": "code",
   "execution_count": 15,
   "metadata": {
    "execution": {
     "iopub.execute_input": "2021-01-01T12:08:49.333720Z",
     "iopub.status.busy": "2021-01-01T12:08:49.333221Z",
     "iopub.status.idle": "2021-01-01T12:08:49.348812Z",
     "shell.execute_reply": "2021-01-01T12:08:49.349243Z"
    },
    "papermill": {
     "duration": 0.048796,
     "end_time": "2021-01-01T12:08:49.349357",
     "exception": false,
     "start_time": "2021-01-01T12:08:49.300561",
     "status": "completed"
    },
    "tags": []
   },
   "outputs": [
    {
     "data": {
      "text/html": [
       "<div>\n",
       "<style scoped>\n",
       "    .dataframe tbody tr th:only-of-type {\n",
       "        vertical-align: middle;\n",
       "    }\n",
       "\n",
       "    .dataframe tbody tr th {\n",
       "        vertical-align: top;\n",
       "    }\n",
       "\n",
       "    .dataframe thead th {\n",
       "        text-align: right;\n",
       "    }\n",
       "</style>\n",
       "<table border=\"1\" class=\"dataframe\">\n",
       "  <thead>\n",
       "    <tr style=\"text-align: right;\">\n",
       "      <th></th>\n",
       "      <th>Country/Region</th>\n",
       "      <th>Cases</th>\n",
       "      <th>Deaths</th>\n",
       "      <th>PCases</th>\n",
       "      <th>PDeaths</th>\n",
       "      <th>Cases (+)</th>\n",
       "      <th>Deaths (+)</th>\n",
       "      <th>Fatality Rate</th>\n",
       "      <th>Continent</th>\n",
       "    </tr>\n",
       "  </thead>\n",
       "  <tbody>\n",
       "    <tr>\n",
       "      <th>0</th>\n",
       "      <td>US</td>\n",
       "      <td>19968087</td>\n",
       "      <td>345737</td>\n",
       "      <td>19740772</td>\n",
       "      <td>342318</td>\n",
       "      <td>227315</td>\n",
       "      <td>3419</td>\n",
       "      <td>1.7</td>\n",
       "      <td>North America</td>\n",
       "    </tr>\n",
       "    <tr>\n",
       "      <th>1</th>\n",
       "      <td>India</td>\n",
       "      <td>10266674</td>\n",
       "      <td>148738</td>\n",
       "      <td>10266674</td>\n",
       "      <td>148738</td>\n",
       "      <td>0</td>\n",
       "      <td>0</td>\n",
       "      <td>1.4</td>\n",
       "      <td>Asia</td>\n",
       "    </tr>\n",
       "    <tr>\n",
       "      <th>2</th>\n",
       "      <td>Brazil</td>\n",
       "      <td>7675973</td>\n",
       "      <td>194949</td>\n",
       "      <td>7619200</td>\n",
       "      <td>193875</td>\n",
       "      <td>56773</td>\n",
       "      <td>1074</td>\n",
       "      <td>2.5</td>\n",
       "      <td>South America</td>\n",
       "    </tr>\n",
       "    <tr>\n",
       "      <th>3</th>\n",
       "      <td>Russia</td>\n",
       "      <td>3127347</td>\n",
       "      <td>56271</td>\n",
       "      <td>3100018</td>\n",
       "      <td>55692</td>\n",
       "      <td>27329</td>\n",
       "      <td>579</td>\n",
       "      <td>1.8</td>\n",
       "      <td>Europe</td>\n",
       "    </tr>\n",
       "    <tr>\n",
       "      <th>4</th>\n",
       "      <td>France</td>\n",
       "      <td>2677666</td>\n",
       "      <td>64759</td>\n",
       "      <td>2657624</td>\n",
       "      <td>64508</td>\n",
       "      <td>20042</td>\n",
       "      <td>251</td>\n",
       "      <td>2.4</td>\n",
       "      <td>Europe</td>\n",
       "    </tr>\n",
       "  </tbody>\n",
       "</table>\n",
       "</div>"
      ],
      "text/plain": [
       "  Country/Region     Cases  Deaths    PCases  PDeaths  Cases (+)  Deaths (+)  \\\n",
       "0             US  19968087  345737  19740772   342318     227315        3419   \n",
       "1          India  10266674  148738  10266674   148738          0           0   \n",
       "2         Brazil   7675973  194949   7619200   193875      56773        1074   \n",
       "3         Russia   3127347   56271   3100018    55692      27329         579   \n",
       "4         France   2677666   64759   2657624    64508      20042         251   \n",
       "\n",
       "   Fatality Rate      Continent  \n",
       "0            1.7  North America  \n",
       "1            1.4           Asia  \n",
       "2            2.5  South America  \n",
       "3            1.8         Europe  \n",
       "4            2.4         Europe  "
      ]
     },
     "execution_count": 15,
     "metadata": {},
     "output_type": "execute_result"
    }
   ],
   "source": [
    "#hide\n",
    "df_table = (pd.DataFrame(dict(Cases=dfc_cases, Deaths=dfc_deaths, PCases=dfp_cases, PDeaths=dfp_deaths))\n",
    "             .sort_values(by=['Cases', 'Deaths'], ascending=[False, False])\n",
    "             .reset_index())\n",
    "df_table.rename(columns={'index': 'Country/Region'}, inplace=True)\n",
    "for c in 'Cases, Deaths'.split(', '):\n",
    "    df_table[f'{c} (+)'] = (df_table[c] - df_table[f'P{c}']).clip(0)  # DATA BUG\n",
    "df_table['Fatality Rate'] = (100 * df_table['Deaths'] / df_table['Cases']).round(1)\n",
    "df_table['Continent'] = df_table['Country/Region'].map(mapping['map.continent'])\n",
    "df_table.head(5)"
   ]
  },
  {
   "cell_type": "code",
   "execution_count": 16,
   "metadata": {
    "execution": {
     "iopub.execute_input": "2021-01-01T12:08:49.408220Z",
     "iopub.status.busy": "2021-01-01T12:08:49.407712Z",
     "iopub.status.idle": "2021-01-01T12:08:49.409847Z",
     "shell.execute_reply": "2021-01-01T12:08:49.410314Z"
    },
    "papermill": {
     "duration": 0.033924,
     "end_time": "2021-01-01T12:08:49.410429",
     "exception": false,
     "start_time": "2021-01-01T12:08:49.376505",
     "status": "completed"
    },
    "tags": []
   },
   "outputs": [],
   "source": [
    "#hide\n",
    "#delete problematic countries from table\n",
    "df_table = df_table[~df_table['Country/Region'].isin(['Cape Verde', 'Cruise Ship', 'Kosovo'])]"
   ]
  },
  {
   "cell_type": "code",
   "execution_count": 17,
   "metadata": {
    "execution": {
     "iopub.execute_input": "2021-01-01T12:08:49.473820Z",
     "iopub.status.busy": "2021-01-01T12:08:49.473319Z",
     "iopub.status.idle": "2021-01-01T12:08:49.482251Z",
     "shell.execute_reply": "2021-01-01T12:08:49.481852Z"
    },
    "papermill": {
     "duration": 0.045176,
     "end_time": "2021-01-01T12:08:49.482354",
     "exception": false,
     "start_time": "2021-01-01T12:08:49.437178",
     "status": "completed"
    },
    "tags": []
   },
   "outputs": [],
   "source": [
    "#hide\n",
    "metrics = [df_table.columns[index] for index in [1,2,5,6]]\n",
    "# s_china = df_table[df_table['Country/Region'].eq('China')][metrics].sum().add_prefix('China ')\n",
    "s_us = df_table[df_table['Country/Region'].eq('US')][metrics].sum().add_prefix('US ')\n",
    "s_eu = df_table[df_table['Continent'].eq('Europe')][metrics].sum().add_prefix('EU ')\n",
    "s_ind = df_table[df_table['Country/Region'].eq('India')][metrics].sum().add_prefix('India ')\n",
    "summary = {'updated': pd.to_datetime(dt_today), 'since': pd.to_datetime(dt_yday)}\n",
    "summary = {'updated': pd.to_datetime(dt_today), 'since': pd.to_datetime(dt_yday)}\n",
    "summary = {**summary, **df_table[metrics].sum(), **s_ind, **s_us, **s_eu}"
   ]
  },
  {
   "cell_type": "code",
   "execution_count": 18,
   "metadata": {
    "execution": {
     "iopub.execute_input": "2021-01-01T12:08:49.542527Z",
     "iopub.status.busy": "2021-01-01T12:08:49.542028Z",
     "iopub.status.idle": "2021-01-01T12:08:49.550280Z",
     "shell.execute_reply": "2021-01-01T12:08:49.549877Z"
    },
    "papermill": {
     "duration": 0.041115,
     "end_time": "2021-01-01T12:08:49.550386",
     "exception": false,
     "start_time": "2021-01-01T12:08:49.509271",
     "status": "completed"
    },
    "tags": []
   },
   "outputs": [],
   "source": [
    "#hide\n",
    "dft_ct_new_cases = dft_cases.groupby(COL_REGION)[dt_cols].sum().diff(axis=1).fillna(0).astype(int)"
   ]
  },
  {
   "cell_type": "code",
   "execution_count": 19,
   "metadata": {
    "execution": {
     "iopub.execute_input": "2021-01-01T12:08:49.608796Z",
     "iopub.status.busy": "2021-01-01T12:08:49.608223Z",
     "iopub.status.idle": "2021-01-01T12:08:49.609900Z",
     "shell.execute_reply": "2021-01-01T12:08:49.610334Z"
    },
    "papermill": {
     "duration": 0.033202,
     "end_time": "2021-01-01T12:08:49.610467",
     "exception": false,
     "start_time": "2021-01-01T12:08:49.577265",
     "status": "completed"
    },
    "tags": []
   },
   "outputs": [],
   "source": [
    "#hide\n",
    "everydaycases = dft_ct_new_cases.cumsum(axis=1)"
   ]
  },
  {
   "cell_type": "code",
   "execution_count": 20,
   "metadata": {
    "execution": {
     "iopub.execute_input": "2021-01-01T12:08:49.668605Z",
     "iopub.status.busy": "2021-01-01T12:08:49.668101Z",
     "iopub.status.idle": "2021-01-01T12:08:50.500991Z",
     "shell.execute_reply": "2021-01-01T12:08:50.500463Z"
    },
    "papermill": {
     "duration": 0.863547,
     "end_time": "2021-01-01T12:08:50.501138",
     "exception": false,
     "start_time": "2021-01-01T12:08:49.637591",
     "status": "completed"
    },
    "tags": []
   },
   "outputs": [],
   "source": [
    "#hide\n",
    "import pandas as pd\n",
    "import matplotlib.pyplot as plt\n",
    "import matplotlib.ticker as ticker\n",
    "import matplotlib.animation as animation\n",
    "from IPython.display import HTML"
   ]
  },
  {
   "cell_type": "code",
   "execution_count": 21,
   "metadata": {
    "execution": {
     "iopub.execute_input": "2021-01-01T12:08:50.559747Z",
     "iopub.status.busy": "2021-01-01T12:08:50.559218Z",
     "iopub.status.idle": "2021-01-01T12:08:50.564000Z",
     "shell.execute_reply": "2021-01-01T12:08:50.564406Z"
    },
    "papermill": {
     "duration": 0.036295,
     "end_time": "2021-01-01T12:08:50.564525",
     "exception": false,
     "start_time": "2021-01-01T12:08:50.528230",
     "status": "completed"
    },
    "tags": []
   },
   "outputs": [],
   "source": [
    "#hide\n",
    "t = everydaycases.stack()"
   ]
  },
  {
   "cell_type": "code",
   "execution_count": 22,
   "metadata": {
    "execution": {
     "iopub.execute_input": "2021-01-01T12:08:50.621921Z",
     "iopub.status.busy": "2021-01-01T12:08:50.621411Z",
     "iopub.status.idle": "2021-01-01T12:08:50.627023Z",
     "shell.execute_reply": "2021-01-01T12:08:50.627515Z"
    },
    "papermill": {
     "duration": 0.036205,
     "end_time": "2021-01-01T12:08:50.627635",
     "exception": false,
     "start_time": "2021-01-01T12:08:50.591430",
     "status": "completed"
    },
    "tags": []
   },
   "outputs": [],
   "source": [
    "#hide\n",
    "g = t.reset_index(['Country/Region'])"
   ]
  },
  {
   "cell_type": "code",
   "execution_count": 23,
   "metadata": {
    "execution": {
     "iopub.execute_input": "2021-01-01T12:08:50.684242Z",
     "iopub.status.busy": "2021-01-01T12:08:50.683745Z",
     "iopub.status.idle": "2021-01-01T12:08:50.685823Z",
     "shell.execute_reply": "2021-01-01T12:08:50.685400Z"
    },
    "papermill": {
     "duration": 0.031618,
     "end_time": "2021-01-01T12:08:50.685923",
     "exception": false,
     "start_time": "2021-01-01T12:08:50.654305",
     "status": "completed"
    },
    "tags": []
   },
   "outputs": [],
   "source": [
    "#hide\n",
    "g.index.name = 'date'"
   ]
  },
  {
   "cell_type": "code",
   "execution_count": 24,
   "metadata": {
    "execution": {
     "iopub.execute_input": "2021-01-01T12:08:50.742723Z",
     "iopub.status.busy": "2021-01-01T12:08:50.742232Z",
     "iopub.status.idle": "2021-01-01T12:08:50.744053Z",
     "shell.execute_reply": "2021-01-01T12:08:50.744455Z"
    },
    "papermill": {
     "duration": 0.031736,
     "end_time": "2021-01-01T12:08:50.744567",
     "exception": false,
     "start_time": "2021-01-01T12:08:50.712831",
     "status": "completed"
    },
    "tags": []
   },
   "outputs": [],
   "source": [
    "# #hide\n",
    "# g = g.reset_index(['date'])"
   ]
  },
  {
   "cell_type": "code",
   "execution_count": 25,
   "metadata": {
    "execution": {
     "iopub.execute_input": "2021-01-01T12:08:50.801389Z",
     "iopub.status.busy": "2021-01-01T12:08:50.800893Z",
     "iopub.status.idle": "2021-01-01T12:08:50.802593Z",
     "shell.execute_reply": "2021-01-01T12:08:50.803072Z"
    },
    "papermill": {
     "duration": 0.031585,
     "end_time": "2021-01-01T12:08:50.803182",
     "exception": false,
     "start_time": "2021-01-01T12:08:50.771597",
     "status": "completed"
    },
    "tags": []
   },
   "outputs": [],
   "source": [
    "#hide\n",
    "# g.head()"
   ]
  },
  {
   "cell_type": "code",
   "execution_count": 26,
   "metadata": {
    "execution": {
     "iopub.execute_input": "2021-01-01T12:08:50.859631Z",
     "iopub.status.busy": "2021-01-01T12:08:50.859102Z",
     "iopub.status.idle": "2021-01-01T12:08:50.860884Z",
     "shell.execute_reply": "2021-01-01T12:08:50.861284Z"
    },
    "papermill": {
     "duration": 0.031408,
     "end_time": "2021-01-01T12:08:50.861395",
     "exception": false,
     "start_time": "2021-01-01T12:08:50.829987",
     "status": "completed"
    },
    "tags": []
   },
   "outputs": [],
   "source": [
    "#hide\n",
    "# g.columns = ['date','country','cases']"
   ]
  },
  {
   "cell_type": "code",
   "execution_count": 27,
   "metadata": {
    "execution": {
     "iopub.execute_input": "2021-01-01T12:08:50.917845Z",
     "iopub.status.busy": "2021-01-01T12:08:50.917348Z",
     "iopub.status.idle": "2021-01-01T12:08:50.919395Z",
     "shell.execute_reply": "2021-01-01T12:08:50.918949Z"
    },
    "papermill": {
     "duration": 0.0315,
     "end_time": "2021-01-01T12:08:50.919495",
     "exception": false,
     "start_time": "2021-01-01T12:08:50.887995",
     "status": "completed"
    },
    "tags": []
   },
   "outputs": [],
   "source": [
    "#hide\n",
    "# g['continent'] = g.country"
   ]
  },
  {
   "cell_type": "code",
   "execution_count": 28,
   "metadata": {
    "execution": {
     "iopub.execute_input": "2021-01-01T12:08:50.976563Z",
     "iopub.status.busy": "2021-01-01T12:08:50.975991Z",
     "iopub.status.idle": "2021-01-01T12:08:50.977619Z",
     "shell.execute_reply": "2021-01-01T12:08:50.978054Z"
    },
    "papermill": {
     "duration": 0.03175,
     "end_time": "2021-01-01T12:08:50.978184",
     "exception": false,
     "start_time": "2021-01-01T12:08:50.946434",
     "status": "completed"
    },
    "tags": []
   },
   "outputs": [],
   "source": [
    "#hide\n",
    "# cols = list(g.columns.values)"
   ]
  },
  {
   "cell_type": "code",
   "execution_count": 29,
   "metadata": {
    "execution": {
     "iopub.execute_input": "2021-01-01T12:08:51.034645Z",
     "iopub.status.busy": "2021-01-01T12:08:51.034147Z",
     "iopub.status.idle": "2021-01-01T12:08:51.036015Z",
     "shell.execute_reply": "2021-01-01T12:08:51.036453Z"
    },
    "papermill": {
     "duration": 0.031622,
     "end_time": "2021-01-01T12:08:51.036564",
     "exception": false,
     "start_time": "2021-01-01T12:08:51.004942",
     "status": "completed"
    },
    "tags": []
   },
   "outputs": [],
   "source": [
    "#hide\n",
    "# cols.insert(0, cols.pop())"
   ]
  },
  {
   "cell_type": "code",
   "execution_count": 30,
   "metadata": {
    "execution": {
     "iopub.execute_input": "2021-01-01T12:08:51.093407Z",
     "iopub.status.busy": "2021-01-01T12:08:51.092900Z",
     "iopub.status.idle": "2021-01-01T12:08:51.095132Z",
     "shell.execute_reply": "2021-01-01T12:08:51.094732Z"
    },
    "papermill": {
     "duration": 0.031772,
     "end_time": "2021-01-01T12:08:51.095234",
     "exception": false,
     "start_time": "2021-01-01T12:08:51.063462",
     "status": "completed"
    },
    "tags": []
   },
   "outputs": [],
   "source": [
    "#hide\n",
    "# g = g[cols]"
   ]
  },
  {
   "cell_type": "code",
   "execution_count": 31,
   "metadata": {
    "execution": {
     "iopub.execute_input": "2021-01-01T12:08:51.152154Z",
     "iopub.status.busy": "2021-01-01T12:08:51.151641Z",
     "iopub.status.idle": "2021-01-01T12:08:51.153643Z",
     "shell.execute_reply": "2021-01-01T12:08:51.153216Z"
    },
    "papermill": {
     "duration": 0.031789,
     "end_time": "2021-01-01T12:08:51.153747",
     "exception": false,
     "start_time": "2021-01-01T12:08:51.121958",
     "status": "completed"
    },
    "tags": []
   },
   "outputs": [],
   "source": [
    "#hide\n",
    "# g['continent'] = g['continent'].map(mapping['map.continent'])"
   ]
  },
  {
   "cell_type": "code",
   "execution_count": 32,
   "metadata": {
    "execution": {
     "iopub.execute_input": "2021-01-01T12:08:51.210377Z",
     "iopub.status.busy": "2021-01-01T12:08:51.209877Z",
     "iopub.status.idle": "2021-01-01T12:08:51.212112Z",
     "shell.execute_reply": "2021-01-01T12:08:51.211709Z"
    },
    "papermill": {
     "duration": 0.031599,
     "end_time": "2021-01-01T12:08:51.212216",
     "exception": false,
     "start_time": "2021-01-01T12:08:51.180617",
     "status": "completed"
    },
    "tags": []
   },
   "outputs": [],
   "source": [
    "#hide\n",
    "# g.head()"
   ]
  },
  {
   "cell_type": "code",
   "execution_count": 33,
   "metadata": {
    "execution": {
     "iopub.execute_input": "2021-01-01T12:08:51.268971Z",
     "iopub.status.busy": "2021-01-01T12:08:51.268474Z",
     "iopub.status.idle": "2021-01-01T12:08:51.270196Z",
     "shell.execute_reply": "2021-01-01T12:08:51.270677Z"
    },
    "papermill": {
     "duration": 0.031858,
     "end_time": "2021-01-01T12:08:51.270787",
     "exception": false,
     "start_time": "2021-01-01T12:08:51.238929",
     "status": "completed"
    },
    "tags": []
   },
   "outputs": [],
   "source": [
    "# hide\n",
    "# g['date'] = g['date'].astype('datetime64[ns]')"
   ]
  },
  {
   "cell_type": "code",
   "execution_count": 34,
   "metadata": {
    "execution": {
     "iopub.execute_input": "2021-01-01T12:08:51.327723Z",
     "iopub.status.busy": "2021-01-01T12:08:51.327105Z",
     "iopub.status.idle": "2021-01-01T12:08:51.328664Z",
     "shell.execute_reply": "2021-01-01T12:08:51.329158Z"
    },
    "papermill": {
     "duration": 0.031587,
     "end_time": "2021-01-01T12:08:51.329284",
     "exception": false,
     "start_time": "2021-01-01T12:08:51.297697",
     "status": "completed"
    },
    "tags": []
   },
   "outputs": [],
   "source": [
    "#hide\n",
    "# g['date'] = g.date.dt.dayofyear"
   ]
  },
  {
   "cell_type": "code",
   "execution_count": 35,
   "metadata": {
    "execution": {
     "iopub.execute_input": "2021-01-01T12:08:51.386460Z",
     "iopub.status.busy": "2021-01-01T12:08:51.385877Z",
     "iopub.status.idle": "2021-01-01T12:08:51.387945Z",
     "shell.execute_reply": "2021-01-01T12:08:51.387371Z"
    },
    "papermill": {
     "duration": 0.031768,
     "end_time": "2021-01-01T12:08:51.388066",
     "exception": false,
     "start_time": "2021-01-01T12:08:51.356298",
     "status": "completed"
    },
    "tags": []
   },
   "outputs": [],
   "source": [
    "#hide\n",
    "# g = g.rename(columns= {'continent':'group','country':'name','cases':'value'})"
   ]
  },
  {
   "cell_type": "code",
   "execution_count": 36,
   "metadata": {
    "execution": {
     "iopub.execute_input": "2021-01-01T12:08:51.445641Z",
     "iopub.status.busy": "2021-01-01T12:08:51.445135Z",
     "iopub.status.idle": "2021-01-01T12:08:51.446909Z",
     "shell.execute_reply": "2021-01-01T12:08:51.447360Z"
    },
    "papermill": {
     "duration": 0.031979,
     "end_time": "2021-01-01T12:08:51.447486",
     "exception": false,
     "start_time": "2021-01-01T12:08:51.415507",
     "status": "completed"
    },
    "tags": []
   },
   "outputs": [],
   "source": [
    "#hide\n",
    "# cols = ['name','group','day','value']"
   ]
  },
  {
   "cell_type": "code",
   "execution_count": 37,
   "metadata": {
    "execution": {
     "iopub.execute_input": "2021-01-01T12:08:51.504574Z",
     "iopub.status.busy": "2021-01-01T12:08:51.504061Z",
     "iopub.status.idle": "2021-01-01T12:08:51.505980Z",
     "shell.execute_reply": "2021-01-01T12:08:51.505483Z"
    },
    "papermill": {
     "duration": 0.031898,
     "end_time": "2021-01-01T12:08:51.506089",
     "exception": false,
     "start_time": "2021-01-01T12:08:51.474191",
     "status": "completed"
    },
    "tags": []
   },
   "outputs": [],
   "source": [
    "#hide\n",
    "# g.rename(columns= {'date':'day'},inplace = True)"
   ]
  },
  {
   "cell_type": "code",
   "execution_count": 38,
   "metadata": {
    "execution": {
     "iopub.execute_input": "2021-01-01T12:08:51.562732Z",
     "iopub.status.busy": "2021-01-01T12:08:51.562226Z",
     "iopub.status.idle": "2021-01-01T12:08:51.564072Z",
     "shell.execute_reply": "2021-01-01T12:08:51.564500Z"
    },
    "papermill": {
     "duration": 0.031665,
     "end_time": "2021-01-01T12:08:51.564617",
     "exception": false,
     "start_time": "2021-01-01T12:08:51.532952",
     "status": "completed"
    },
    "tags": []
   },
   "outputs": [],
   "source": [
    "#hide\n",
    "# g = g[cols]"
   ]
  },
  {
   "cell_type": "code",
   "execution_count": 39,
   "metadata": {
    "execution": {
     "iopub.execute_input": "2021-01-01T12:08:51.621558Z",
     "iopub.status.busy": "2021-01-01T12:08:51.620986Z",
     "iopub.status.idle": "2021-01-01T12:08:51.622581Z",
     "shell.execute_reply": "2021-01-01T12:08:51.623045Z"
    },
    "papermill": {
     "duration": 0.031809,
     "end_time": "2021-01-01T12:08:51.623174",
     "exception": false,
     "start_time": "2021-01-01T12:08:51.591365",
     "status": "completed"
    },
    "tags": []
   },
   "outputs": [],
   "source": [
    "# #hide\n",
    "# g = g[g.group.notna()]"
   ]
  },
  {
   "cell_type": "code",
   "execution_count": 40,
   "metadata": {
    "execution": {
     "iopub.execute_input": "2021-01-01T12:08:51.680309Z",
     "iopub.status.busy": "2021-01-01T12:08:51.679799Z",
     "iopub.status.idle": "2021-01-01T12:08:51.682020Z",
     "shell.execute_reply": "2021-01-01T12:08:51.681618Z"
    },
    "papermill": {
     "duration": 0.031739,
     "end_time": "2021-01-01T12:08:51.682123",
     "exception": false,
     "start_time": "2021-01-01T12:08:51.650384",
     "status": "completed"
    },
    "tags": []
   },
   "outputs": [],
   "source": [
    "# #hide\n",
    "# colors = dict(zip(\n",
    "#     [\"Oceania\", \"Europe\", \"Asia\", \"South America\", \"Middle East\", \"North America\", \"Africa\"],\n",
    "#     [\"#adb0ff\", \"#ffb3ff\", \"#90d595\", \"#e48381\", \"#aafbff\", \"#f7bb5f\", \"#eafb50\"]\n",
    "# ))\n",
    "# group_lk = g.set_index('name')['group'].to_dict()"
   ]
  },
  {
   "cell_type": "code",
   "execution_count": null,
   "metadata": {
    "papermill": {
     "duration": 0.026772,
     "end_time": "2021-01-01T12:08:51.736068",
     "exception": false,
     "start_time": "2021-01-01T12:08:51.709296",
     "status": "completed"
    },
    "tags": []
   },
   "outputs": [],
   "source": []
  },
  {
   "cell_type": "code",
   "execution_count": 41,
   "metadata": {
    "execution": {
     "iopub.execute_input": "2021-01-01T12:08:51.794312Z",
     "iopub.status.busy": "2021-01-01T12:08:51.793803Z",
     "iopub.status.idle": "2021-01-01T12:08:51.795913Z",
     "shell.execute_reply": "2021-01-01T12:08:51.796344Z"
    },
    "papermill": {
     "duration": 0.033558,
     "end_time": "2021-01-01T12:08:51.796457",
     "exception": false,
     "start_time": "2021-01-01T12:08:51.762899",
     "status": "completed"
    },
    "tags": []
   },
   "outputs": [],
   "source": [
    "# #hide\n",
    "# fig, ax = plt.subplots(figsize=(15, 8))\n",
    "\n",
    "# def draw_barchart(current_day):\n",
    "#     dff = g[g['day'].eq(current_day)].sort_values(by='value', ascending=True).tail(10)\n",
    "#     ax.clear()\n",
    "#     ax.barh(dff['name'], dff['value'], color=[colors[group_lk[x]] for x in dff['name']])\n",
    "#     dx = dff['value'].max() / 200\n",
    "    \n",
    "#     for i, (value, name) in enumerate(zip(dff['value'], dff['name'])):\n",
    "#         ax.text(value-dx, i,     name,           size=14, weight=600, ha='right', va='bottom')\n",
    "#         ax.text(value-dx, i-.25, group_lk[name], size=10, color='#444444', ha='right', va='baseline')\n",
    "#         ax.text(value+dx, i,     f'{value:,.0f}',  size=14, ha='left',  va='center')\n",
    "#     ax.text(1, 0.4, current_day, transform=ax.transAxes, color='#777777', size=46, ha='right', weight=800)\n",
    "#     ax.text(0, 1.06, 'Population (thousands)', transform=ax.transAxes, size=12, color='#777777')\n",
    "#     ax.xaxis.set_major_formatter(ticker.StrMethodFormatter('{x:,.0f}'))\n",
    "#     ax.xaxis.set_ticks_position('top')\n",
    "#     ax.tick_params(axis='x', colors='#777777', labelsize=12)\n",
    "#     ax.set_yticks([])\n",
    "#     ax.margins(0, 0.01)\n",
    "#     ax.grid(which='major', axis='x', linestyle='-')\n",
    "#     ax.set_axisbelow(True)\n",
    "    \n",
    "#     ax.text(0, 1.15, 'Coronavirus',\n",
    "#             transform=ax.transAxes, size=24, weight=600, ha='left', va='top')\n",
    "# #     ax.text(1, 0, 'by @pratapvardhan; credit @jburnmurdoch', transform=ax.transAxes, color='#777777', ha='right',\n",
    "# #             bbox=dict(facecolor='white', alpha=0.8, edgecolor='white'))\n",
    "#     plt.box(False)"
   ]
  },
  {
   "cell_type": "code",
   "execution_count": 42,
   "metadata": {
    "execution": {
     "iopub.execute_input": "2021-01-01T12:08:51.854908Z",
     "iopub.status.busy": "2021-01-01T12:08:51.854330Z",
     "iopub.status.idle": "2021-01-01T12:08:51.856473Z",
     "shell.execute_reply": "2021-01-01T12:08:51.855984Z"
    },
    "papermill": {
     "duration": 0.03181,
     "end_time": "2021-01-01T12:08:51.856587",
     "exception": false,
     "start_time": "2021-01-01T12:08:51.824777",
     "status": "completed"
    },
    "tags": []
   },
   "outputs": [],
   "source": [
    "# #hide_input\n",
    "# fig, ax = plt.subplots(figsize=(15, 8))\n",
    "# animator = animation.FuncAnimation(fig, draw_barchart, frames=range(g.day.values.min(), g.day.values.max()))\n",
    "# HTML(animator.to_jshtml())\n",
    "# # or use animator.to_html5_video() or animator.save() "
   ]
  },
  {
   "cell_type": "code",
   "execution_count": null,
   "metadata": {
    "papermill": {
     "duration": 0.026772,
     "end_time": "2021-01-01T12:08:51.910618",
     "exception": false,
     "start_time": "2021-01-01T12:08:51.883846",
     "status": "completed"
    },
    "tags": []
   },
   "outputs": [],
   "source": []
  },
  {
   "cell_type": "code",
   "execution_count": null,
   "metadata": {
    "papermill": {
     "duration": 0.02691,
     "end_time": "2021-01-01T12:08:51.964321",
     "exception": false,
     "start_time": "2021-01-01T12:08:51.937411",
     "status": "completed"
    },
    "tags": []
   },
   "outputs": [],
   "source": []
  },
  {
   "cell_type": "code",
   "execution_count": null,
   "metadata": {
    "papermill": {
     "duration": 0.026848,
     "end_time": "2021-01-01T12:08:52.018585",
     "exception": false,
     "start_time": "2021-01-01T12:08:51.991737",
     "status": "completed"
    },
    "tags": []
   },
   "outputs": [],
   "source": []
  }
 ],
 "metadata": {
  "kernelspec": {
   "display_name": "Python 3",
   "language": "python",
   "name": "python3"
  },
  "language_info": {
   "codemirror_mode": {
    "name": "ipython",
    "version": 3
   },
   "file_extension": ".py",
   "mimetype": "text/x-python",
   "name": "python",
   "nbconvert_exporter": "python",
   "pygments_lexer": "ipython3",
   "version": "3.6.12"
  },
  "papermill": {
   "duration": 5.68101,
   "end_time": "2021-01-01T12:08:52.352034",
   "environment_variables": {},
   "exception": null,
   "input_path": "2020-03-21-covid19exp.ipynb",
   "output_path": "2020-03-21-covid19exp.ipynb",
   "parameters": {},
   "start_time": "2021-01-01T12:08:46.671024",
   "version": "2.0.0"
  }
 },
 "nbformat": 4,
 "nbformat_minor": 4
}