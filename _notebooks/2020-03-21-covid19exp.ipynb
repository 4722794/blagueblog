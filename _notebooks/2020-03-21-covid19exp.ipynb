{
 "cells": [
  {
   "cell_type": "markdown",
   "id": "muslim-click",
   "metadata": {
    "papermill": {
     "duration": 0.044581,
     "end_time": "2021-12-11T12:12:19.756003",
     "exception": false,
     "start_time": "2021-12-11T12:12:19.711422",
     "status": "completed"
    },
    "tags": []
   },
   "source": [
    "# COVID-19 Case Race\n",
    "> A race chart to see rising cases around the world\n",
    "\n",
    "- author: Hargun Oberoi\n",
    "- image: images/covid-overview.png\n",
    "- hide: false\n",
    "- badges: false"
   ]
  },
  {
   "cell_type": "code",
   "execution_count": 1,
   "id": "proof-material",
   "metadata": {
    "execution": {
     "iopub.execute_input": "2021-12-11T12:12:19.838923Z",
     "iopub.status.busy": "2021-12-11T12:12:19.838191Z",
     "iopub.status.idle": "2021-12-11T12:12:20.264252Z",
     "shell.execute_reply": "2021-12-11T12:12:20.263591Z"
    },
    "papermill": {
     "duration": 0.470709,
     "end_time": "2021-12-11T12:12:20.264415",
     "exception": false,
     "start_time": "2021-12-11T12:12:19.793706",
     "status": "completed"
    },
    "tags": []
   },
   "outputs": [],
   "source": [
    "#hide\n",
    "import numpy as np\n",
    "import pandas as pd\n",
    "from jinja2 import Template\n",
    "from IPython.display import HTML"
   ]
  },
  {
   "cell_type": "code",
   "execution_count": 2,
   "id": "developed-terminology",
   "metadata": {
    "execution": {
     "iopub.execute_input": "2021-12-11T12:12:20.338917Z",
     "iopub.status.busy": "2021-12-11T12:12:20.338165Z",
     "iopub.status.idle": "2021-12-11T12:12:20.339878Z",
     "shell.execute_reply": "2021-12-11T12:12:20.340492Z"
    },
    "papermill": {
     "duration": 0.04109,
     "end_time": "2021-12-11T12:12:20.340658",
     "exception": false,
     "start_time": "2021-12-11T12:12:20.299568",
     "status": "completed"
    },
    "tags": []
   },
   "outputs": [],
   "source": [
    "#hide\n",
    "\n",
    "# FETCH\n",
    "base_url = 'https://raw.githubusercontent.com/pratapvardhan/notebooks/master/covid19/'\n",
    "paths = {\n",
    "    'mapping': base_url + 'mapping_countries.csv',\n",
    "    'overview': base_url + 'overview.tpl'\n",
    "}"
   ]
  },
  {
   "cell_type": "code",
   "execution_count": 3,
   "id": "dynamic-saver",
   "metadata": {
    "execution": {
     "iopub.execute_input": "2021-12-11T12:12:20.421772Z",
     "iopub.status.busy": "2021-12-11T12:12:20.421153Z",
     "iopub.status.idle": "2021-12-11T12:12:20.424713Z",
     "shell.execute_reply": "2021-12-11T12:12:20.425226Z"
    },
    "papermill": {
     "duration": 0.049873,
     "end_time": "2021-12-11T12:12:20.425380",
     "exception": false,
     "start_time": "2021-12-11T12:12:20.375507",
     "status": "completed"
    },
    "tags": []
   },
   "outputs": [
    {
     "data": {
      "text/plain": [
       "'https://raw.githubusercontent.com/pratapvardhan/notebooks/master/covid19/mapping_countries.csv'"
      ]
     },
     "execution_count": 3,
     "metadata": {},
     "output_type": "execute_result"
    }
   ],
   "source": [
    "#hide\n",
    "paths['mapping']"
   ]
  },
  {
   "cell_type": "code",
   "execution_count": 4,
   "id": "urban-software",
   "metadata": {
    "execution": {
     "iopub.execute_input": "2021-12-11T12:12:20.502331Z",
     "iopub.status.busy": "2021-12-11T12:12:20.501730Z",
     "iopub.status.idle": "2021-12-11T12:12:20.504185Z",
     "shell.execute_reply": "2021-12-11T12:12:20.503632Z"
    },
    "papermill": {
     "duration": 0.041928,
     "end_time": "2021-12-11T12:12:20.504307",
     "exception": false,
     "start_time": "2021-12-11T12:12:20.462379",
     "status": "completed"
    },
    "tags": []
   },
   "outputs": [],
   "source": [
    "#hide\n",
    "def get_mappings(url):\n",
    "    df = pd.read_csv(url)\n",
    "    return {\n",
    "        'df': df,\n",
    "        'replace.country': dict(df.dropna(subset=['Name']).set_index('Country')['Name']),\n",
    "        'map.continent': dict(df.set_index('Name')['Continent'])\n",
    "    }"
   ]
  },
  {
   "cell_type": "code",
   "execution_count": 5,
   "id": "intimate-machinery",
   "metadata": {
    "execution": {
     "iopub.execute_input": "2021-12-11T12:12:20.578022Z",
     "iopub.status.busy": "2021-12-11T12:12:20.577409Z",
     "iopub.status.idle": "2021-12-11T12:12:20.620150Z",
     "shell.execute_reply": "2021-12-11T12:12:20.620757Z"
    },
    "papermill": {
     "duration": 0.083834,
     "end_time": "2021-12-11T12:12:20.620935",
     "exception": false,
     "start_time": "2021-12-11T12:12:20.537101",
     "status": "completed"
    },
    "tags": []
   },
   "outputs": [],
   "source": [
    "#hide\n",
    "mapping = get_mappings(paths['mapping'])"
   ]
  },
  {
   "cell_type": "code",
   "execution_count": 6,
   "id": "certified-tactics",
   "metadata": {
    "execution": {
     "iopub.execute_input": "2021-12-11T12:12:20.693415Z",
     "iopub.status.busy": "2021-12-11T12:12:20.692731Z",
     "iopub.status.idle": "2021-12-11T12:12:20.695319Z",
     "shell.execute_reply": "2021-12-11T12:12:20.694422Z"
    },
    "papermill": {
     "duration": 0.04267,
     "end_time": "2021-12-11T12:12:20.695460",
     "exception": false,
     "start_time": "2021-12-11T12:12:20.652790",
     "status": "completed"
    },
    "tags": []
   },
   "outputs": [],
   "source": [
    "#hide\n",
    "def get_template(path):\n",
    "    from urllib.parse import urlparse\n",
    "    if bool(urlparse(path).netloc):\n",
    "        from urllib.request import urlopen\n",
    "        return urlopen(path).read().decode('utf8')\n",
    "    return open(path).read()"
   ]
  },
  {
   "cell_type": "code",
   "execution_count": 7,
   "id": "realistic-blast",
   "metadata": {
    "execution": {
     "iopub.execute_input": "2021-12-11T12:12:20.768988Z",
     "iopub.status.busy": "2021-12-11T12:12:20.768375Z",
     "iopub.status.idle": "2021-12-11T12:12:20.770499Z",
     "shell.execute_reply": "2021-12-11T12:12:20.770950Z"
    },
    "papermill": {
     "duration": 0.042264,
     "end_time": "2021-12-11T12:12:20.771157",
     "exception": false,
     "start_time": "2021-12-11T12:12:20.728893",
     "status": "completed"
    },
    "tags": []
   },
   "outputs": [],
   "source": [
    "#hide\n",
    "def get_frame(name):\n",
    "    url = (\n",
    "        'https://raw.githubusercontent.com/CSSEGISandData/COVID-19/master/csse_covid_19_data/'\n",
    "        f'csse_covid_19_time_series/time_series_covid19_{name}_global.csv')\n",
    "    df = pd.read_csv(url)\n",
    "    # rename countries\n",
    "    df['Country/Region'] = df['Country/Region'].replace(mapping['replace.country'])\n",
    "    return df"
   ]
  },
  {
   "cell_type": "code",
   "execution_count": 8,
   "id": "affiliated-characterization",
   "metadata": {
    "execution": {
     "iopub.execute_input": "2021-12-11T12:12:20.845874Z",
     "iopub.status.busy": "2021-12-11T12:12:20.845192Z",
     "iopub.status.idle": "2021-12-11T12:12:20.849228Z",
     "shell.execute_reply": "2021-12-11T12:12:20.848664Z"
    },
    "papermill": {
     "duration": 0.045884,
     "end_time": "2021-12-11T12:12:20.849344",
     "exception": false,
     "start_time": "2021-12-11T12:12:20.803460",
     "status": "completed"
    },
    "tags": []
   },
   "outputs": [],
   "source": [
    "#hide\n",
    "def get_dates(df):\n",
    "    dt_cols = df.columns[~df.columns.isin(['Province/State', 'Country/Region', 'Lat', 'Long'])]\n",
    "    LAST_DATE_I = -1\n",
    "    # sometimes last column may be empty, then go backwards\n",
    "    for i in range(-1, -len(dt_cols), -1):\n",
    "        if not df[dt_cols[i]].fillna(0).eq(0).all():\n",
    "            LAST_DATE_I = i\n",
    "            break\n",
    "    return LAST_DATE_I, dt_cols"
   ]
  },
  {
   "cell_type": "code",
   "execution_count": 9,
   "id": "recent-optimization",
   "metadata": {
    "execution": {
     "iopub.execute_input": "2021-12-11T12:12:20.921920Z",
     "iopub.status.busy": "2021-12-11T12:12:20.921282Z",
     "iopub.status.idle": "2021-12-11T12:12:21.285824Z",
     "shell.execute_reply": "2021-12-11T12:12:21.284765Z"
    },
    "papermill": {
     "duration": 0.401253,
     "end_time": "2021-12-11T12:12:21.286014",
     "exception": false,
     "start_time": "2021-12-11T12:12:20.884761",
     "status": "completed"
    },
    "tags": []
   },
   "outputs": [],
   "source": [
    "#hide\n",
    "COL_REGION = 'Country/Region'\n",
    "# Confirmed, Recovered, Deaths\n",
    "df = get_frame('confirmed')\n",
    "# dft_: timeseries, dfc_: today country agg\n",
    "dft_cases = df\n",
    "dft_deaths = get_frame('deaths')\n",
    "dft_recovered = get_frame('recovered')\n",
    "LAST_DATE_I, dt_cols = get_dates(df)"
   ]
  },
  {
   "cell_type": "code",
   "execution_count": 10,
   "id": "absolute-copper",
   "metadata": {
    "execution": {
     "iopub.execute_input": "2021-12-11T12:12:21.356761Z",
     "iopub.status.busy": "2021-12-11T12:12:21.356015Z",
     "iopub.status.idle": "2021-12-11T12:12:21.358800Z",
     "shell.execute_reply": "2021-12-11T12:12:21.357903Z"
    },
    "papermill": {
     "duration": 0.039927,
     "end_time": "2021-12-11T12:12:21.358972",
     "exception": false,
     "start_time": "2021-12-11T12:12:21.319045",
     "status": "completed"
    },
    "tags": []
   },
   "outputs": [],
   "source": [
    "#hide\n",
    "LAST_DATE_I, dt_cols = get_dates(df)\n",
    "dt_today =dt_cols[LAST_DATE_I]\n",
    "# dt_5day = dt_cols[LAST_DATE_I - 5]\n",
    "dt_yday = dt_cols[LAST_DATE_I - 1]"
   ]
  },
  {
   "cell_type": "code",
   "execution_count": 11,
   "id": "restricted-sheriff",
   "metadata": {
    "execution": {
     "iopub.execute_input": "2021-12-11T12:12:21.450736Z",
     "iopub.status.busy": "2021-12-11T12:12:21.450012Z",
     "iopub.status.idle": "2021-12-11T12:12:21.460315Z",
     "shell.execute_reply": "2021-12-11T12:12:21.460858Z"
    },
    "papermill": {
     "duration": 0.058655,
     "end_time": "2021-12-11T12:12:21.461002",
     "exception": false,
     "start_time": "2021-12-11T12:12:21.402347",
     "status": "completed"
    },
    "tags": []
   },
   "outputs": [],
   "source": [
    "#hide\n",
    "dfc_cases = dft_cases.groupby(COL_REGION)[dt_today].sum()\n",
    "dfc_deaths = dft_deaths.groupby(COL_REGION)[dt_today].sum()\n",
    "# dfp_cases = dft_cases.groupby(COL_REGION)[dt_5day].sum()\n",
    "# dfp_deaths = dft_deaths.groupby(COL_REGION)[dt_5day].sum()\n",
    "dfp_cases = dft_cases.groupby(COL_REGION)[dt_yday].sum()\n",
    "dfp_deaths = dft_deaths.groupby(COL_REGION)[dt_yday].sum()"
   ]
  },
  {
   "cell_type": "code",
   "execution_count": 12,
   "id": "deluxe-hepatitis",
   "metadata": {
    "execution": {
     "iopub.execute_input": "2021-12-11T12:12:21.547561Z",
     "iopub.status.busy": "2021-12-11T12:12:21.546722Z",
     "iopub.status.idle": "2021-12-11T12:12:21.551996Z",
     "shell.execute_reply": "2021-12-11T12:12:21.552548Z"
    },
    "papermill": {
     "duration": 0.04868,
     "end_time": "2021-12-11T12:12:21.552692",
     "exception": false,
     "start_time": "2021-12-11T12:12:21.504012",
     "status": "completed"
    },
    "tags": []
   },
   "outputs": [],
   "source": [
    "#hide\n",
    "df_table = (pd.DataFrame(dict(Cases = dfc_cases, Deaths = dfc_deaths, PCases = dfp_cases, PDeaths = dfp_deaths))\n",
    "            .sort_values(by = ['Cases','Deaths'], ascending = [False, False])\n",
    "            .reset_index())"
   ]
  },
  {
   "cell_type": "code",
   "execution_count": 13,
   "id": "educational-chancellor",
   "metadata": {
    "execution": {
     "iopub.execute_input": "2021-12-11T12:12:21.637038Z",
     "iopub.status.busy": "2021-12-11T12:12:21.636513Z",
     "iopub.status.idle": "2021-12-11T12:12:21.645069Z",
     "shell.execute_reply": "2021-12-11T12:12:21.645703Z"
    },
    "papermill": {
     "duration": 0.063419,
     "end_time": "2021-12-11T12:12:21.645860",
     "exception": false,
     "start_time": "2021-12-11T12:12:21.582441",
     "status": "completed"
    },
    "tags": []
   },
   "outputs": [
    {
     "data": {
      "text/html": [
       "<div>\n",
       "<style scoped>\n",
       "    .dataframe tbody tr th:only-of-type {\n",
       "        vertical-align: middle;\n",
       "    }\n",
       "\n",
       "    .dataframe tbody tr th {\n",
       "        vertical-align: top;\n",
       "    }\n",
       "\n",
       "    .dataframe thead th {\n",
       "        text-align: right;\n",
       "    }\n",
       "</style>\n",
       "<table border=\"1\" class=\"dataframe\">\n",
       "  <thead>\n",
       "    <tr style=\"text-align: right;\">\n",
       "      <th></th>\n",
       "      <th>Country/Region</th>\n",
       "      <th>Cases</th>\n",
       "      <th>Deaths</th>\n",
       "      <th>PCases</th>\n",
       "      <th>PDeaths</th>\n",
       "      <th>Cases (+)</th>\n",
       "      <th>Deaths (+)</th>\n",
       "      <th>Fatality Rate</th>\n",
       "      <th>Continent</th>\n",
       "    </tr>\n",
       "  </thead>\n",
       "  <tbody>\n",
       "    <tr>\n",
       "      <th>0</th>\n",
       "      <td>US</td>\n",
       "      <td>49833439</td>\n",
       "      <td>796764</td>\n",
       "      <td>49661145</td>\n",
       "      <td>794649</td>\n",
       "      <td>172294</td>\n",
       "      <td>2115</td>\n",
       "      <td>1.60</td>\n",
       "      <td>North America</td>\n",
       "    </tr>\n",
       "    <tr>\n",
       "      <th>1</th>\n",
       "      <td>India</td>\n",
       "      <td>34682633</td>\n",
       "      <td>474872</td>\n",
       "      <td>34674643</td>\n",
       "      <td>474479</td>\n",
       "      <td>7990</td>\n",
       "      <td>393</td>\n",
       "      <td>1.37</td>\n",
       "      <td>Asia</td>\n",
       "    </tr>\n",
       "    <tr>\n",
       "      <th>2</th>\n",
       "      <td>Brazil</td>\n",
       "      <td>22177059</td>\n",
       "      <td>616457</td>\n",
       "      <td>22177059</td>\n",
       "      <td>616457</td>\n",
       "      <td>0</td>\n",
       "      <td>0</td>\n",
       "      <td>2.78</td>\n",
       "      <td>South America</td>\n",
       "    </tr>\n",
       "    <tr>\n",
       "      <th>3</th>\n",
       "      <td>United Kingdom</td>\n",
       "      <td>10780610</td>\n",
       "      <td>146712</td>\n",
       "      <td>10722083</td>\n",
       "      <td>146592</td>\n",
       "      <td>58527</td>\n",
       "      <td>120</td>\n",
       "      <td>1.36</td>\n",
       "      <td>Europe</td>\n",
       "    </tr>\n",
       "    <tr>\n",
       "      <th>4</th>\n",
       "      <td>Russia</td>\n",
       "      <td>9782723</td>\n",
       "      <td>281571</td>\n",
       "      <td>9752340</td>\n",
       "      <td>280427</td>\n",
       "      <td>30383</td>\n",
       "      <td>1144</td>\n",
       "      <td>2.88</td>\n",
       "      <td>Europe</td>\n",
       "    </tr>\n",
       "  </tbody>\n",
       "</table>\n",
       "</div>"
      ],
      "text/plain": [
       "   Country/Region     Cases  Deaths    PCases  PDeaths  Cases (+)  Deaths (+)  \\\n",
       "0              US  49833439  796764  49661145   794649     172294        2115   \n",
       "1           India  34682633  474872  34674643   474479       7990         393   \n",
       "2          Brazil  22177059  616457  22177059   616457          0           0   \n",
       "3  United Kingdom  10780610  146712  10722083   146592      58527         120   \n",
       "4          Russia   9782723  281571   9752340   280427      30383        1144   \n",
       "\n",
       "   Fatality Rate      Continent  \n",
       "0           1.60  North America  \n",
       "1           1.37           Asia  \n",
       "2           2.78  South America  \n",
       "3           1.36         Europe  \n",
       "4           2.88         Europe  "
      ]
     },
     "execution_count": 13,
     "metadata": {},
     "output_type": "execute_result"
    }
   ],
   "source": [
    "#hide\n",
    "for c in 'Cases, Deaths'.split(', '):\n",
    "    df_table[f'{c} (+)'] = (df_table[c] - df_table[f'P{c}']).clip(0)\n",
    "    #Clip ça veut dire, les chiffres negatif sont interdit\n",
    "df_table['Fatality Rate'] = (100* df_table['Deaths']/ df_table['Cases']).round(2)\n",
    "df_table['Continent'] = df_table['Country/Region'].map(mapping['map.continent'])\n",
    "df_table.head(5)"
   ]
  },
  {
   "cell_type": "code",
   "execution_count": 14,
   "id": "aboriginal-bulgaria",
   "metadata": {
    "execution": {
     "iopub.execute_input": "2021-12-11T12:12:21.724731Z",
     "iopub.status.busy": "2021-12-11T12:12:21.724048Z",
     "iopub.status.idle": "2021-12-11T12:12:21.729633Z",
     "shell.execute_reply": "2021-12-11T12:12:21.730181Z"
    },
    "papermill": {
     "duration": 0.051077,
     "end_time": "2021-12-11T12:12:21.730385",
     "exception": false,
     "start_time": "2021-12-11T12:12:21.679308",
     "status": "completed"
    },
    "tags": []
   },
   "outputs": [],
   "source": [
    "#hide\n",
    "#delete problematic countries from table\n",
    "df_table = df_table[~df_table['Country/Region'].isin(['Cape Verde', 'Cruise Ship', 'Kosovo'])]"
   ]
  },
  {
   "cell_type": "code",
   "execution_count": 15,
   "id": "fantastic-effect",
   "metadata": {
    "execution": {
     "iopub.execute_input": "2021-12-11T12:12:21.829235Z",
     "iopub.status.busy": "2021-12-11T12:12:21.828528Z",
     "iopub.status.idle": "2021-12-11T12:12:21.854649Z",
     "shell.execute_reply": "2021-12-11T12:12:21.855265Z"
    },
    "papermill": {
     "duration": 0.082906,
     "end_time": "2021-12-11T12:12:21.855433",
     "exception": false,
     "start_time": "2021-12-11T12:12:21.772527",
     "status": "completed"
    },
    "tags": []
   },
   "outputs": [
    {
     "data": {
      "text/html": [
       "<div>\n",
       "<style scoped>\n",
       "    .dataframe tbody tr th:only-of-type {\n",
       "        vertical-align: middle;\n",
       "    }\n",
       "\n",
       "    .dataframe tbody tr th {\n",
       "        vertical-align: top;\n",
       "    }\n",
       "\n",
       "    .dataframe thead th {\n",
       "        text-align: right;\n",
       "    }\n",
       "</style>\n",
       "<table border=\"1\" class=\"dataframe\">\n",
       "  <thead>\n",
       "    <tr style=\"text-align: right;\">\n",
       "      <th></th>\n",
       "      <th>Country/Region</th>\n",
       "      <th>Cases</th>\n",
       "      <th>Deaths</th>\n",
       "      <th>PCases</th>\n",
       "      <th>PDeaths</th>\n",
       "      <th>Cases (+)</th>\n",
       "      <th>Deaths (+)</th>\n",
       "      <th>Fatality Rate</th>\n",
       "      <th>Continent</th>\n",
       "    </tr>\n",
       "  </thead>\n",
       "  <tbody>\n",
       "    <tr>\n",
       "      <th>0</th>\n",
       "      <td>US</td>\n",
       "      <td>49833439</td>\n",
       "      <td>796764</td>\n",
       "      <td>49661145</td>\n",
       "      <td>794649</td>\n",
       "      <td>172294</td>\n",
       "      <td>2115</td>\n",
       "      <td>1.6</td>\n",
       "      <td>North America</td>\n",
       "    </tr>\n",
       "    <tr>\n",
       "      <th>1</th>\n",
       "      <td>India</td>\n",
       "      <td>34682633</td>\n",
       "      <td>474872</td>\n",
       "      <td>34674643</td>\n",
       "      <td>474479</td>\n",
       "      <td>7990</td>\n",
       "      <td>393</td>\n",
       "      <td>1.4</td>\n",
       "      <td>Asia</td>\n",
       "    </tr>\n",
       "    <tr>\n",
       "      <th>2</th>\n",
       "      <td>Brazil</td>\n",
       "      <td>22177059</td>\n",
       "      <td>616457</td>\n",
       "      <td>22177059</td>\n",
       "      <td>616457</td>\n",
       "      <td>0</td>\n",
       "      <td>0</td>\n",
       "      <td>2.8</td>\n",
       "      <td>South America</td>\n",
       "    </tr>\n",
       "    <tr>\n",
       "      <th>3</th>\n",
       "      <td>United Kingdom</td>\n",
       "      <td>10780610</td>\n",
       "      <td>146712</td>\n",
       "      <td>10722083</td>\n",
       "      <td>146592</td>\n",
       "      <td>58527</td>\n",
       "      <td>120</td>\n",
       "      <td>1.4</td>\n",
       "      <td>Europe</td>\n",
       "    </tr>\n",
       "    <tr>\n",
       "      <th>4</th>\n",
       "      <td>Russia</td>\n",
       "      <td>9782723</td>\n",
       "      <td>281571</td>\n",
       "      <td>9752340</td>\n",
       "      <td>280427</td>\n",
       "      <td>30383</td>\n",
       "      <td>1144</td>\n",
       "      <td>2.9</td>\n",
       "      <td>Europe</td>\n",
       "    </tr>\n",
       "  </tbody>\n",
       "</table>\n",
       "</div>"
      ],
      "text/plain": [
       "   Country/Region     Cases  Deaths    PCases  PDeaths  Cases (+)  Deaths (+)  \\\n",
       "0              US  49833439  796764  49661145   794649     172294        2115   \n",
       "1           India  34682633  474872  34674643   474479       7990         393   \n",
       "2          Brazil  22177059  616457  22177059   616457          0           0   \n",
       "3  United Kingdom  10780610  146712  10722083   146592      58527         120   \n",
       "4          Russia   9782723  281571   9752340   280427      30383        1144   \n",
       "\n",
       "   Fatality Rate      Continent  \n",
       "0            1.6  North America  \n",
       "1            1.4           Asia  \n",
       "2            2.8  South America  \n",
       "3            1.4         Europe  \n",
       "4            2.9         Europe  "
      ]
     },
     "execution_count": 15,
     "metadata": {},
     "output_type": "execute_result"
    }
   ],
   "source": [
    "#hide\n",
    "df_table = (pd.DataFrame(dict(Cases=dfc_cases, Deaths=dfc_deaths, PCases=dfp_cases, PDeaths=dfp_deaths))\n",
    "             .sort_values(by=['Cases', 'Deaths'], ascending=[False, False])\n",
    "             .reset_index())\n",
    "df_table.rename(columns={'index': 'Country/Region'}, inplace=True)\n",
    "for c in 'Cases, Deaths'.split(', '):\n",
    "    df_table[f'{c} (+)'] = (df_table[c] - df_table[f'P{c}']).clip(0)  # DATA BUG\n",
    "df_table['Fatality Rate'] = (100 * df_table['Deaths'] / df_table['Cases']).round(1)\n",
    "df_table['Continent'] = df_table['Country/Region'].map(mapping['map.continent'])\n",
    "df_table.head(5)"
   ]
  },
  {
   "cell_type": "code",
   "execution_count": 16,
   "id": "fewer-occasion",
   "metadata": {
    "execution": {
     "iopub.execute_input": "2021-12-11T12:12:21.942115Z",
     "iopub.status.busy": "2021-12-11T12:12:21.941385Z",
     "iopub.status.idle": "2021-12-11T12:12:21.945170Z",
     "shell.execute_reply": "2021-12-11T12:12:21.944396Z"
    },
    "papermill": {
     "duration": 0.051224,
     "end_time": "2021-12-11T12:12:21.945341",
     "exception": false,
     "start_time": "2021-12-11T12:12:21.894117",
     "status": "completed"
    },
    "tags": []
   },
   "outputs": [],
   "source": [
    "#hide\n",
    "#delete problematic countries from table\n",
    "df_table = df_table[~df_table['Country/Region'].isin(['Cape Verde', 'Cruise Ship', 'Kosovo'])]"
   ]
  },
  {
   "cell_type": "code",
   "execution_count": 17,
   "id": "related-center",
   "metadata": {
    "execution": {
     "iopub.execute_input": "2021-12-11T12:12:22.054428Z",
     "iopub.status.busy": "2021-12-11T12:12:22.053710Z",
     "iopub.status.idle": "2021-12-11T12:12:22.058291Z",
     "shell.execute_reply": "2021-12-11T12:12:22.057656Z"
    },
    "papermill": {
     "duration": 0.070603,
     "end_time": "2021-12-11T12:12:22.058430",
     "exception": false,
     "start_time": "2021-12-11T12:12:21.987827",
     "status": "completed"
    },
    "tags": []
   },
   "outputs": [],
   "source": [
    "#hide\n",
    "metrics = [df_table.columns[index] for index in [1,2,5,6]]\n",
    "# s_china = df_table[df_table['Country/Region'].eq('China')][metrics].sum().add_prefix('China ')\n",
    "s_us = df_table[df_table['Country/Region'].eq('US')][metrics].sum().add_prefix('US ')\n",
    "s_eu = df_table[df_table['Continent'].eq('Europe')][metrics].sum().add_prefix('EU ')\n",
    "s_ind = df_table[df_table['Country/Region'].eq('India')][metrics].sum().add_prefix('India ')\n",
    "summary = {'updated': pd.to_datetime(dt_today), 'since': pd.to_datetime(dt_yday)}\n",
    "summary = {'updated': pd.to_datetime(dt_today), 'since': pd.to_datetime(dt_yday)}\n",
    "summary = {**summary, **df_table[metrics].sum(), **s_ind, **s_us, **s_eu}"
   ]
  },
  {
   "cell_type": "code",
   "execution_count": 18,
   "id": "engaging-syndrome",
   "metadata": {
    "execution": {
     "iopub.execute_input": "2021-12-11T12:12:22.152525Z",
     "iopub.status.busy": "2021-12-11T12:12:22.151858Z",
     "iopub.status.idle": "2021-12-11T12:12:22.170356Z",
     "shell.execute_reply": "2021-12-11T12:12:22.169767Z"
    },
    "papermill": {
     "duration": 0.064853,
     "end_time": "2021-12-11T12:12:22.170506",
     "exception": false,
     "start_time": "2021-12-11T12:12:22.105653",
     "status": "completed"
    },
    "tags": []
   },
   "outputs": [],
   "source": [
    "#hide\n",
    "dft_ct_new_cases = dft_cases.groupby(COL_REGION)[dt_cols].sum().diff(axis=1).fillna(0).astype(int)"
   ]
  },
  {
   "cell_type": "code",
   "execution_count": 19,
   "id": "neutral-assignment",
   "metadata": {
    "execution": {
     "iopub.execute_input": "2021-12-11T12:12:22.260447Z",
     "iopub.status.busy": "2021-12-11T12:12:22.259816Z",
     "iopub.status.idle": "2021-12-11T12:12:22.262441Z",
     "shell.execute_reply": "2021-12-11T12:12:22.263075Z"
    },
    "papermill": {
     "duration": 0.050068,
     "end_time": "2021-12-11T12:12:22.263225",
     "exception": false,
     "start_time": "2021-12-11T12:12:22.213157",
     "status": "completed"
    },
    "tags": []
   },
   "outputs": [],
   "source": [
    "#hide\n",
    "everydaycases = dft_ct_new_cases.cumsum(axis=1)"
   ]
  },
  {
   "cell_type": "code",
   "execution_count": 20,
   "id": "parliamentary-calgary",
   "metadata": {
    "execution": {
     "iopub.execute_input": "2021-12-11T12:12:22.344290Z",
     "iopub.status.busy": "2021-12-11T12:12:22.343575Z",
     "iopub.status.idle": "2021-12-11T12:12:23.084707Z",
     "shell.execute_reply": "2021-12-11T12:12:23.085260Z"
    },
    "papermill": {
     "duration": 0.786528,
     "end_time": "2021-12-11T12:12:23.085431",
     "exception": false,
     "start_time": "2021-12-11T12:12:22.298903",
     "status": "completed"
    },
    "tags": []
   },
   "outputs": [],
   "source": [
    "#hide\n",
    "import pandas as pd\n",
    "import matplotlib.pyplot as plt\n",
    "import matplotlib.ticker as ticker\n",
    "import matplotlib.animation as animation\n",
    "from IPython.display import HTML"
   ]
  },
  {
   "cell_type": "code",
   "execution_count": 21,
   "id": "lasting-extraction",
   "metadata": {
    "execution": {
     "iopub.execute_input": "2021-12-11T12:12:23.167475Z",
     "iopub.status.busy": "2021-12-11T12:12:23.166667Z",
     "iopub.status.idle": "2021-12-11T12:12:23.173000Z",
     "shell.execute_reply": "2021-12-11T12:12:23.173542Z"
    },
    "papermill": {
     "duration": 0.051055,
     "end_time": "2021-12-11T12:12:23.173692",
     "exception": false,
     "start_time": "2021-12-11T12:12:23.122637",
     "status": "completed"
    },
    "tags": []
   },
   "outputs": [],
   "source": [
    "#hide\n",
    "t = everydaycases.stack()"
   ]
  },
  {
   "cell_type": "code",
   "execution_count": 22,
   "id": "premier-sleeve",
   "metadata": {
    "execution": {
     "iopub.execute_input": "2021-12-11T12:12:23.260516Z",
     "iopub.status.busy": "2021-12-11T12:12:23.259960Z",
     "iopub.status.idle": "2021-12-11T12:12:23.269955Z",
     "shell.execute_reply": "2021-12-11T12:12:23.269431Z"
    },
    "papermill": {
     "duration": 0.053278,
     "end_time": "2021-12-11T12:12:23.270090",
     "exception": false,
     "start_time": "2021-12-11T12:12:23.216812",
     "status": "completed"
    },
    "tags": []
   },
   "outputs": [],
   "source": [
    "#hide\n",
    "g = t.reset_index(['Country/Region'])"
   ]
  },
  {
   "cell_type": "code",
   "execution_count": 23,
   "id": "distributed-pittsburgh",
   "metadata": {
    "execution": {
     "iopub.execute_input": "2021-12-11T12:12:23.346843Z",
     "iopub.status.busy": "2021-12-11T12:12:23.346020Z",
     "iopub.status.idle": "2021-12-11T12:12:23.348752Z",
     "shell.execute_reply": "2021-12-11T12:12:23.349347Z"
    },
    "papermill": {
     "duration": 0.043179,
     "end_time": "2021-12-11T12:12:23.349512",
     "exception": false,
     "start_time": "2021-12-11T12:12:23.306333",
     "status": "completed"
    },
    "tags": []
   },
   "outputs": [],
   "source": [
    "#hide\n",
    "g.index.name = 'date'"
   ]
  },
  {
   "cell_type": "code",
   "execution_count": 24,
   "id": "naked-donor",
   "metadata": {
    "execution": {
     "iopub.execute_input": "2021-12-11T12:12:23.430562Z",
     "iopub.status.busy": "2021-12-11T12:12:23.429961Z",
     "iopub.status.idle": "2021-12-11T12:12:23.433953Z",
     "shell.execute_reply": "2021-12-11T12:12:23.434419Z"
    },
    "papermill": {
     "duration": 0.047121,
     "end_time": "2021-12-11T12:12:23.434567",
     "exception": false,
     "start_time": "2021-12-11T12:12:23.387446",
     "status": "completed"
    },
    "tags": []
   },
   "outputs": [],
   "source": [
    "# #hide\n",
    "# g = g.reset_index(['date'])"
   ]
  },
  {
   "cell_type": "code",
   "execution_count": 25,
   "id": "incomplete-mustang",
   "metadata": {
    "execution": {
     "iopub.execute_input": "2021-12-11T12:12:23.516791Z",
     "iopub.status.busy": "2021-12-11T12:12:23.516187Z",
     "iopub.status.idle": "2021-12-11T12:12:23.517968Z",
     "shell.execute_reply": "2021-12-11T12:12:23.518504Z"
    },
    "papermill": {
     "duration": 0.044166,
     "end_time": "2021-12-11T12:12:23.518656",
     "exception": false,
     "start_time": "2021-12-11T12:12:23.474490",
     "status": "completed"
    },
    "tags": []
   },
   "outputs": [],
   "source": [
    "#hide\n",
    "# g.head()"
   ]
  },
  {
   "cell_type": "code",
   "execution_count": 26,
   "id": "specific-kruger",
   "metadata": {
    "execution": {
     "iopub.execute_input": "2021-12-11T12:12:23.615760Z",
     "iopub.status.busy": "2021-12-11T12:12:23.615062Z",
     "iopub.status.idle": "2021-12-11T12:12:23.618669Z",
     "shell.execute_reply": "2021-12-11T12:12:23.617903Z"
    },
    "papermill": {
     "duration": 0.047919,
     "end_time": "2021-12-11T12:12:23.618810",
     "exception": false,
     "start_time": "2021-12-11T12:12:23.570891",
     "status": "completed"
    },
    "tags": []
   },
   "outputs": [],
   "source": [
    "#hide\n",
    "# g.columns = ['date','country','cases']"
   ]
  },
  {
   "cell_type": "code",
   "execution_count": 27,
   "id": "tender-conversion",
   "metadata": {
    "execution": {
     "iopub.execute_input": "2021-12-11T12:12:23.704046Z",
     "iopub.status.busy": "2021-12-11T12:12:23.703409Z",
     "iopub.status.idle": "2021-12-11T12:12:23.708497Z",
     "shell.execute_reply": "2021-12-11T12:12:23.707854Z"
    },
    "papermill": {
     "duration": 0.048565,
     "end_time": "2021-12-11T12:12:23.708645",
     "exception": false,
     "start_time": "2021-12-11T12:12:23.660080",
     "status": "completed"
    },
    "tags": []
   },
   "outputs": [],
   "source": [
    "#hide\n",
    "# g['continent'] = g.country"
   ]
  },
  {
   "cell_type": "code",
   "execution_count": 28,
   "id": "substantial-wilderness",
   "metadata": {
    "execution": {
     "iopub.execute_input": "2021-12-11T12:12:23.794128Z",
     "iopub.status.busy": "2021-12-11T12:12:23.793390Z",
     "iopub.status.idle": "2021-12-11T12:12:23.798219Z",
     "shell.execute_reply": "2021-12-11T12:12:23.798874Z"
    },
    "papermill": {
     "duration": 0.050502,
     "end_time": "2021-12-11T12:12:23.799114",
     "exception": false,
     "start_time": "2021-12-11T12:12:23.748612",
     "status": "completed"
    },
    "tags": []
   },
   "outputs": [],
   "source": [
    "#hide\n",
    "# cols = list(g.columns.values)"
   ]
  },
  {
   "cell_type": "code",
   "execution_count": 29,
   "id": "solved-farming",
   "metadata": {
    "execution": {
     "iopub.execute_input": "2021-12-11T12:12:23.904930Z",
     "iopub.status.busy": "2021-12-11T12:12:23.904199Z",
     "iopub.status.idle": "2021-12-11T12:12:23.906719Z",
     "shell.execute_reply": "2021-12-11T12:12:23.907420Z"
    },
    "papermill": {
     "duration": 0.056381,
     "end_time": "2021-12-11T12:12:23.907635",
     "exception": false,
     "start_time": "2021-12-11T12:12:23.851254",
     "status": "completed"
    },
    "tags": []
   },
   "outputs": [],
   "source": [
    "#hide\n",
    "# cols.insert(0, cols.pop())"
   ]
  },
  {
   "cell_type": "code",
   "execution_count": 30,
   "id": "executed-adoption",
   "metadata": {
    "execution": {
     "iopub.execute_input": "2021-12-11T12:12:24.006513Z",
     "iopub.status.busy": "2021-12-11T12:12:24.005686Z",
     "iopub.status.idle": "2021-12-11T12:12:24.007330Z",
     "shell.execute_reply": "2021-12-11T12:12:24.008098Z"
    },
    "papermill": {
     "duration": 0.048639,
     "end_time": "2021-12-11T12:12:24.008272",
     "exception": false,
     "start_time": "2021-12-11T12:12:23.959633",
     "status": "completed"
    },
    "tags": []
   },
   "outputs": [],
   "source": [
    "#hide\n",
    "# g = g[cols]"
   ]
  },
  {
   "cell_type": "code",
   "execution_count": 31,
   "id": "subject-dublin",
   "metadata": {
    "execution": {
     "iopub.execute_input": "2021-12-11T12:12:24.113164Z",
     "iopub.status.busy": "2021-12-11T12:12:24.112327Z",
     "iopub.status.idle": "2021-12-11T12:12:24.116673Z",
     "shell.execute_reply": "2021-12-11T12:12:24.117199Z"
    },
    "papermill": {
     "duration": 0.053173,
     "end_time": "2021-12-11T12:12:24.117368",
     "exception": false,
     "start_time": "2021-12-11T12:12:24.064195",
     "status": "completed"
    },
    "tags": []
   },
   "outputs": [],
   "source": [
    "#hide\n",
    "# g['continent'] = g['continent'].map(mapping['map.continent'])"
   ]
  },
  {
   "cell_type": "code",
   "execution_count": 32,
   "id": "freelance-scout",
   "metadata": {
    "execution": {
     "iopub.execute_input": "2021-12-11T12:12:24.223717Z",
     "iopub.status.busy": "2021-12-11T12:12:24.221802Z",
     "iopub.status.idle": "2021-12-11T12:12:24.224874Z",
     "shell.execute_reply": "2021-12-11T12:12:24.225456Z"
    },
    "papermill": {
     "duration": 0.057207,
     "end_time": "2021-12-11T12:12:24.225679",
     "exception": false,
     "start_time": "2021-12-11T12:12:24.168472",
     "status": "completed"
    },
    "tags": []
   },
   "outputs": [],
   "source": [
    "#hide\n",
    "# g.head()"
   ]
  },
  {
   "cell_type": "code",
   "execution_count": 33,
   "id": "limited-engine",
   "metadata": {
    "execution": {
     "iopub.execute_input": "2021-12-11T12:12:24.327968Z",
     "iopub.status.busy": "2021-12-11T12:12:24.327260Z",
     "iopub.status.idle": "2021-12-11T12:12:24.331673Z",
     "shell.execute_reply": "2021-12-11T12:12:24.330947Z"
    },
    "papermill": {
     "duration": 0.05271,
     "end_time": "2021-12-11T12:12:24.331846",
     "exception": false,
     "start_time": "2021-12-11T12:12:24.279136",
     "status": "completed"
    },
    "tags": []
   },
   "outputs": [],
   "source": [
    "# hide\n",
    "# g['date'] = g['date'].astype('datetime64[ns]')"
   ]
  },
  {
   "cell_type": "code",
   "execution_count": 34,
   "id": "sophisticated-supervisor",
   "metadata": {
    "execution": {
     "iopub.execute_input": "2021-12-11T12:12:24.416014Z",
     "iopub.status.busy": "2021-12-11T12:12:24.415437Z",
     "iopub.status.idle": "2021-12-11T12:12:24.417341Z",
     "shell.execute_reply": "2021-12-11T12:12:24.417967Z"
    },
    "papermill": {
     "duration": 0.045783,
     "end_time": "2021-12-11T12:12:24.418106",
     "exception": false,
     "start_time": "2021-12-11T12:12:24.372323",
     "status": "completed"
    },
    "tags": []
   },
   "outputs": [],
   "source": [
    "#hide\n",
    "# g['date'] = g.date.dt.dayofyear"
   ]
  },
  {
   "cell_type": "code",
   "execution_count": 35,
   "id": "inside-dubai",
   "metadata": {
    "execution": {
     "iopub.execute_input": "2021-12-11T12:12:24.503235Z",
     "iopub.status.busy": "2021-12-11T12:12:24.502583Z",
     "iopub.status.idle": "2021-12-11T12:12:24.505631Z",
     "shell.execute_reply": "2021-12-11T12:12:24.505101Z"
    },
    "papermill": {
     "duration": 0.046568,
     "end_time": "2021-12-11T12:12:24.505757",
     "exception": false,
     "start_time": "2021-12-11T12:12:24.459189",
     "status": "completed"
    },
    "tags": []
   },
   "outputs": [],
   "source": [
    "#hide\n",
    "# g = g.rename(columns= {'continent':'group','country':'name','cases':'value'})"
   ]
  },
  {
   "cell_type": "code",
   "execution_count": 36,
   "id": "fleet-motorcycle",
   "metadata": {
    "execution": {
     "iopub.execute_input": "2021-12-11T12:12:24.592960Z",
     "iopub.status.busy": "2021-12-11T12:12:24.592250Z",
     "iopub.status.idle": "2021-12-11T12:12:24.594053Z",
     "shell.execute_reply": "2021-12-11T12:12:24.593492Z"
    },
    "papermill": {
     "duration": 0.047317,
     "end_time": "2021-12-11T12:12:24.594229",
     "exception": false,
     "start_time": "2021-12-11T12:12:24.546912",
     "status": "completed"
    },
    "tags": []
   },
   "outputs": [],
   "source": [
    "#hide\n",
    "# cols = ['name','group','day','value']"
   ]
  },
  {
   "cell_type": "code",
   "execution_count": 37,
   "id": "continued-sleeping",
   "metadata": {
    "execution": {
     "iopub.execute_input": "2021-12-11T12:12:24.691175Z",
     "iopub.status.busy": "2021-12-11T12:12:24.689959Z",
     "iopub.status.idle": "2021-12-11T12:12:24.691831Z",
     "shell.execute_reply": "2021-12-11T12:12:24.692474Z"
    },
    "papermill": {
     "duration": 0.058971,
     "end_time": "2021-12-11T12:12:24.692631",
     "exception": false,
     "start_time": "2021-12-11T12:12:24.633660",
     "status": "completed"
    },
    "tags": []
   },
   "outputs": [],
   "source": [
    "#hide\n",
    "# g.rename(columns= {'date':'day'},inplace = True)"
   ]
  },
  {
   "cell_type": "code",
   "execution_count": 38,
   "id": "major-fight",
   "metadata": {
    "execution": {
     "iopub.execute_input": "2021-12-11T12:12:24.771963Z",
     "iopub.status.busy": "2021-12-11T12:12:24.771325Z",
     "iopub.status.idle": "2021-12-11T12:12:24.774075Z",
     "shell.execute_reply": "2021-12-11T12:12:24.774525Z"
    },
    "papermill": {
     "duration": 0.045859,
     "end_time": "2021-12-11T12:12:24.774669",
     "exception": false,
     "start_time": "2021-12-11T12:12:24.728810",
     "status": "completed"
    },
    "tags": []
   },
   "outputs": [],
   "source": [
    "#hide\n",
    "# g = g[cols]"
   ]
  },
  {
   "cell_type": "code",
   "execution_count": 39,
   "id": "structured-mobile",
   "metadata": {
    "execution": {
     "iopub.execute_input": "2021-12-11T12:12:24.853652Z",
     "iopub.status.busy": "2021-12-11T12:12:24.853015Z",
     "iopub.status.idle": "2021-12-11T12:12:24.856822Z",
     "shell.execute_reply": "2021-12-11T12:12:24.857293Z"
    },
    "papermill": {
     "duration": 0.043626,
     "end_time": "2021-12-11T12:12:24.857429",
     "exception": false,
     "start_time": "2021-12-11T12:12:24.813803",
     "status": "completed"
    },
    "tags": []
   },
   "outputs": [],
   "source": [
    "# #hide\n",
    "# g = g[g.group.notna()]"
   ]
  },
  {
   "cell_type": "code",
   "execution_count": 40,
   "id": "determined-closing",
   "metadata": {
    "execution": {
     "iopub.execute_input": "2021-12-11T12:12:24.937397Z",
     "iopub.status.busy": "2021-12-11T12:12:24.936640Z",
     "iopub.status.idle": "2021-12-11T12:12:24.939320Z",
     "shell.execute_reply": "2021-12-11T12:12:24.938706Z"
    },
    "papermill": {
     "duration": 0.041986,
     "end_time": "2021-12-11T12:12:24.939497",
     "exception": false,
     "start_time": "2021-12-11T12:12:24.897511",
     "status": "completed"
    },
    "tags": []
   },
   "outputs": [],
   "source": [
    "# #hide\n",
    "# colors = dict(zip(\n",
    "#     [\"Oceania\", \"Europe\", \"Asia\", \"South America\", \"Middle East\", \"North America\", \"Africa\"],\n",
    "#     [\"#adb0ff\", \"#ffb3ff\", \"#90d595\", \"#e48381\", \"#aafbff\", \"#f7bb5f\", \"#eafb50\"]\n",
    "# ))\n",
    "# group_lk = g.set_index('name')['group'].to_dict()"
   ]
  },
  {
   "cell_type": "code",
   "execution_count": null,
   "id": "gross-drinking",
   "metadata": {
    "papermill": {
     "duration": 0.040372,
     "end_time": "2021-12-11T12:12:25.017690",
     "exception": false,
     "start_time": "2021-12-11T12:12:24.977318",
     "status": "completed"
    },
    "tags": []
   },
   "outputs": [],
   "source": []
  },
  {
   "cell_type": "code",
   "execution_count": 41,
   "id": "subject-macintosh",
   "metadata": {
    "execution": {
     "iopub.execute_input": "2021-12-11T12:12:25.103384Z",
     "iopub.status.busy": "2021-12-11T12:12:25.102713Z",
     "iopub.status.idle": "2021-12-11T12:12:25.106030Z",
     "shell.execute_reply": "2021-12-11T12:12:25.106597Z"
    },
    "papermill": {
     "duration": 0.052065,
     "end_time": "2021-12-11T12:12:25.106773",
     "exception": false,
     "start_time": "2021-12-11T12:12:25.054708",
     "status": "completed"
    },
    "tags": []
   },
   "outputs": [],
   "source": [
    "# #hide\n",
    "# fig, ax = plt.subplots(figsize=(15, 8))\n",
    "\n",
    "# def draw_barchart(current_day):\n",
    "#     dff = g[g['day'].eq(current_day)].sort_values(by='value', ascending=True).tail(10)\n",
    "#     ax.clear()\n",
    "#     ax.barh(dff['name'], dff['value'], color=[colors[group_lk[x]] for x in dff['name']])\n",
    "#     dx = dff['value'].max() / 200\n",
    "    \n",
    "#     for i, (value, name) in enumerate(zip(dff['value'], dff['name'])):\n",
    "#         ax.text(value-dx, i,     name,           size=14, weight=600, ha='right', va='bottom')\n",
    "#         ax.text(value-dx, i-.25, group_lk[name], size=10, color='#444444', ha='right', va='baseline')\n",
    "#         ax.text(value+dx, i,     f'{value:,.0f}',  size=14, ha='left',  va='center')\n",
    "#     ax.text(1, 0.4, current_day, transform=ax.transAxes, color='#777777', size=46, ha='right', weight=800)\n",
    "#     ax.text(0, 1.06, 'Population (thousands)', transform=ax.transAxes, size=12, color='#777777')\n",
    "#     ax.xaxis.set_major_formatter(ticker.StrMethodFormatter('{x:,.0f}'))\n",
    "#     ax.xaxis.set_ticks_position('top')\n",
    "#     ax.tick_params(axis='x', colors='#777777', labelsize=12)\n",
    "#     ax.set_yticks([])\n",
    "#     ax.margins(0, 0.01)\n",
    "#     ax.grid(which='major', axis='x', linestyle='-')\n",
    "#     ax.set_axisbelow(True)\n",
    "    \n",
    "#     ax.text(0, 1.15, 'Coronavirus',\n",
    "#             transform=ax.transAxes, size=24, weight=600, ha='left', va='top')\n",
    "# #     ax.text(1, 0, 'by @pratapvardhan; credit @jburnmurdoch', transform=ax.transAxes, color='#777777', ha='right',\n",
    "# #             bbox=dict(facecolor='white', alpha=0.8, edgecolor='white'))\n",
    "#     plt.box(False)"
   ]
  },
  {
   "cell_type": "code",
   "execution_count": 42,
   "id": "sexual-wages",
   "metadata": {
    "execution": {
     "iopub.execute_input": "2021-12-11T12:12:25.189065Z",
     "iopub.status.busy": "2021-12-11T12:12:25.188445Z",
     "iopub.status.idle": "2021-12-11T12:12:25.192476Z",
     "shell.execute_reply": "2021-12-11T12:12:25.191994Z"
    },
    "papermill": {
     "duration": 0.04487,
     "end_time": "2021-12-11T12:12:25.192631",
     "exception": false,
     "start_time": "2021-12-11T12:12:25.147761",
     "status": "completed"
    },
    "tags": []
   },
   "outputs": [],
   "source": [
    "# #hide_input\n",
    "# fig, ax = plt.subplots(figsize=(15, 8))\n",
    "# animator = animation.FuncAnimation(fig, draw_barchart, frames=range(g.day.values.min(), g.day.values.max()))\n",
    "# HTML(animator.to_jshtml())\n",
    "# # or use animator.to_html5_video() or animator.save() "
   ]
  },
  {
   "cell_type": "code",
   "execution_count": null,
   "id": "australian-container",
   "metadata": {
    "papermill": {
     "duration": 0.040744,
     "end_time": "2021-12-11T12:12:25.271732",
     "exception": false,
     "start_time": "2021-12-11T12:12:25.230988",
     "status": "completed"
    },
    "tags": []
   },
   "outputs": [],
   "source": []
  },
  {
   "cell_type": "code",
   "execution_count": null,
   "id": "mediterranean-pontiac",
   "metadata": {
    "papermill": {
     "duration": 0.037161,
     "end_time": "2021-12-11T12:12:25.343207",
     "exception": false,
     "start_time": "2021-12-11T12:12:25.306046",
     "status": "completed"
    },
    "tags": []
   },
   "outputs": [],
   "source": []
  },
  {
   "cell_type": "code",
   "execution_count": null,
   "id": "aging-legislature",
   "metadata": {
    "papermill": {
     "duration": 0.036521,
     "end_time": "2021-12-11T12:12:25.415465",
     "exception": false,
     "start_time": "2021-12-11T12:12:25.378944",
     "status": "completed"
    },
    "tags": []
   },
   "outputs": [],
   "source": []
  }
 ],
 "metadata": {
  "kernelspec": {
   "display_name": "Python 3",
   "language": "python",
   "name": "python3"
  },
  "language_info": {
   "codemirror_mode": {
    "name": "ipython",
    "version": 3
   },
   "file_extension": ".py",
   "mimetype": "text/x-python",
   "name": "python",
   "nbconvert_exporter": "python",
   "pygments_lexer": "ipython3",
   "version": "3.6.15"
  },
  "papermill": {
   "duration": 7.349619,
   "end_time": "2021-12-11T12:12:25.765759",
   "environment_variables": {},
   "exception": null,
   "input_path": "2020-03-21-covid19exp.ipynb",
   "output_path": "2020-03-21-covid19exp.ipynb",
   "parameters": {},
   "start_time": "2021-12-11T12:12:18.416140",
   "version": "2.0.0"
  }
 },
 "nbformat": 4,
 "nbformat_minor": 5
}