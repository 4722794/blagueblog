{
 "cells": [
  {
   "cell_type": "markdown",
   "id": "muslim-click",
   "metadata": {
    "papermill": {
     "duration": 0.043078,
     "end_time": "2022-02-16T00:27:55.231414",
     "exception": false,
     "start_time": "2022-02-16T00:27:55.188336",
     "status": "completed"
    },
    "tags": []
   },
   "source": [
    "# COVID-19 Case Race\n",
    "> A race chart to see rising cases around the world\n",
    "\n",
    "- author: Hargun Oberoi\n",
    "- image: images/covid-overview.png\n",
    "- hide: false\n",
    "- badges: false"
   ]
  },
  {
   "cell_type": "code",
   "execution_count": 1,
   "id": "proof-material",
   "metadata": {
    "execution": {
     "iopub.execute_input": "2022-02-16T00:27:55.322295Z",
     "iopub.status.busy": "2022-02-16T00:27:55.321483Z",
     "iopub.status.idle": "2022-02-16T00:27:55.751581Z",
     "shell.execute_reply": "2022-02-16T00:27:55.752133Z"
    },
    "papermill": {
     "duration": 0.480735,
     "end_time": "2022-02-16T00:27:55.752343",
     "exception": false,
     "start_time": "2022-02-16T00:27:55.271608",
     "status": "completed"
    },
    "tags": []
   },
   "outputs": [],
   "source": [
    "#hide\n",
    "import numpy as np\n",
    "import pandas as pd\n",
    "from jinja2 import Template\n",
    "from IPython.display import HTML"
   ]
  },
  {
   "cell_type": "code",
   "execution_count": 2,
   "id": "developed-terminology",
   "metadata": {
    "execution": {
     "iopub.execute_input": "2022-02-16T00:27:55.836078Z",
     "iopub.status.busy": "2022-02-16T00:27:55.835350Z",
     "iopub.status.idle": "2022-02-16T00:27:55.837322Z",
     "shell.execute_reply": "2022-02-16T00:27:55.837929Z"
    },
    "papermill": {
     "duration": 0.047168,
     "end_time": "2022-02-16T00:27:55.838108",
     "exception": false,
     "start_time": "2022-02-16T00:27:55.790940",
     "status": "completed"
    },
    "tags": []
   },
   "outputs": [],
   "source": [
    "#hide\n",
    "\n",
    "# FETCH\n",
    "base_url = 'https://raw.githubusercontent.com/pratapvardhan/notebooks/master/covid19/'\n",
    "paths = {\n",
    "    'mapping': base_url + 'mapping_countries.csv',\n",
    "    'overview': base_url + 'overview.tpl'\n",
    "}"
   ]
  },
  {
   "cell_type": "code",
   "execution_count": 3,
   "id": "dynamic-saver",
   "metadata": {
    "execution": {
     "iopub.execute_input": "2022-02-16T00:27:55.927397Z",
     "iopub.status.busy": "2022-02-16T00:27:55.926623Z",
     "iopub.status.idle": "2022-02-16T00:27:55.929506Z",
     "shell.execute_reply": "2022-02-16T00:27:55.930187Z"
    },
    "papermill": {
     "duration": 0.053772,
     "end_time": "2022-02-16T00:27:55.930358",
     "exception": false,
     "start_time": "2022-02-16T00:27:55.876586",
     "status": "completed"
    },
    "tags": []
   },
   "outputs": [
    {
     "data": {
      "text/plain": [
       "'https://raw.githubusercontent.com/pratapvardhan/notebooks/master/covid19/mapping_countries.csv'"
      ]
     },
     "execution_count": 3,
     "metadata": {},
     "output_type": "execute_result"
    }
   ],
   "source": [
    "#hide\n",
    "paths['mapping']"
   ]
  },
  {
   "cell_type": "code",
   "execution_count": 4,
   "id": "urban-software",
   "metadata": {
    "execution": {
     "iopub.execute_input": "2022-02-16T00:27:56.016014Z",
     "iopub.status.busy": "2022-02-16T00:27:56.014890Z",
     "iopub.status.idle": "2022-02-16T00:27:56.016800Z",
     "shell.execute_reply": "2022-02-16T00:27:56.017481Z"
    },
    "papermill": {
     "duration": 0.048274,
     "end_time": "2022-02-16T00:27:56.017654",
     "exception": false,
     "start_time": "2022-02-16T00:27:55.969380",
     "status": "completed"
    },
    "tags": []
   },
   "outputs": [],
   "source": [
    "#hide\n",
    "def get_mappings(url):\n",
    "    df = pd.read_csv(url)\n",
    "    return {\n",
    "        'df': df,\n",
    "        'replace.country': dict(df.dropna(subset=['Name']).set_index('Country')['Name']),\n",
    "        'map.continent': dict(df.set_index('Name')['Continent'])\n",
    "    }"
   ]
  },
  {
   "cell_type": "code",
   "execution_count": 5,
   "id": "intimate-machinery",
   "metadata": {
    "execution": {
     "iopub.execute_input": "2022-02-16T00:27:56.105430Z",
     "iopub.status.busy": "2022-02-16T00:27:56.104717Z",
     "iopub.status.idle": "2022-02-16T00:27:56.150828Z",
     "shell.execute_reply": "2022-02-16T00:27:56.151441Z"
    },
    "papermill": {
     "duration": 0.091587,
     "end_time": "2022-02-16T00:27:56.151621",
     "exception": false,
     "start_time": "2022-02-16T00:27:56.060034",
     "status": "completed"
    },
    "tags": []
   },
   "outputs": [],
   "source": [
    "#hide\n",
    "mapping = get_mappings(paths['mapping'])"
   ]
  },
  {
   "cell_type": "code",
   "execution_count": 6,
   "id": "certified-tactics",
   "metadata": {
    "execution": {
     "iopub.execute_input": "2022-02-16T00:27:56.237393Z",
     "iopub.status.busy": "2022-02-16T00:27:56.236389Z",
     "iopub.status.idle": "2022-02-16T00:27:56.239287Z",
     "shell.execute_reply": "2022-02-16T00:27:56.238541Z"
    },
    "papermill": {
     "duration": 0.048345,
     "end_time": "2022-02-16T00:27:56.239431",
     "exception": false,
     "start_time": "2022-02-16T00:27:56.191086",
     "status": "completed"
    },
    "tags": []
   },
   "outputs": [],
   "source": [
    "#hide\n",
    "def get_template(path):\n",
    "    from urllib.parse import urlparse\n",
    "    if bool(urlparse(path).netloc):\n",
    "        from urllib.request import urlopen\n",
    "        return urlopen(path).read().decode('utf8')\n",
    "    return open(path).read()"
   ]
  },
  {
   "cell_type": "code",
   "execution_count": 7,
   "id": "realistic-blast",
   "metadata": {
    "execution": {
     "iopub.execute_input": "2022-02-16T00:27:56.324778Z",
     "iopub.status.busy": "2022-02-16T00:27:56.324052Z",
     "iopub.status.idle": "2022-02-16T00:27:56.326591Z",
     "shell.execute_reply": "2022-02-16T00:27:56.325908Z"
    },
    "papermill": {
     "duration": 0.047977,
     "end_time": "2022-02-16T00:27:56.326738",
     "exception": false,
     "start_time": "2022-02-16T00:27:56.278761",
     "status": "completed"
    },
    "tags": []
   },
   "outputs": [],
   "source": [
    "#hide\n",
    "def get_frame(name):\n",
    "    url = (\n",
    "        'https://raw.githubusercontent.com/CSSEGISandData/COVID-19/master/csse_covid_19_data/'\n",
    "        f'csse_covid_19_time_series/time_series_covid19_{name}_global.csv')\n",
    "    df = pd.read_csv(url)\n",
    "    # rename countries\n",
    "    df['Country/Region'] = df['Country/Region'].replace(mapping['replace.country'])\n",
    "    return df"
   ]
  },
  {
   "cell_type": "code",
   "execution_count": 8,
   "id": "affiliated-characterization",
   "metadata": {
    "execution": {
     "iopub.execute_input": "2022-02-16T00:27:56.412395Z",
     "iopub.status.busy": "2022-02-16T00:27:56.411693Z",
     "iopub.status.idle": "2022-02-16T00:27:56.414318Z",
     "shell.execute_reply": "2022-02-16T00:27:56.413615Z"
    },
    "papermill": {
     "duration": 0.048879,
     "end_time": "2022-02-16T00:27:56.414463",
     "exception": false,
     "start_time": "2022-02-16T00:27:56.365584",
     "status": "completed"
    },
    "tags": []
   },
   "outputs": [],
   "source": [
    "#hide\n",
    "def get_dates(df):\n",
    "    dt_cols = df.columns[~df.columns.isin(['Province/State', 'Country/Region', 'Lat', 'Long'])]\n",
    "    LAST_DATE_I = -1\n",
    "    # sometimes last column may be empty, then go backwards\n",
    "    for i in range(-1, -len(dt_cols), -1):\n",
    "        if not df[dt_cols[i]].fillna(0).eq(0).all():\n",
    "            LAST_DATE_I = i\n",
    "            break\n",
    "    return LAST_DATE_I, dt_cols"
   ]
  },
  {
   "cell_type": "code",
   "execution_count": 9,
   "id": "recent-optimization",
   "metadata": {
    "execution": {
     "iopub.execute_input": "2022-02-16T00:27:56.498883Z",
     "iopub.status.busy": "2022-02-16T00:27:56.498169Z",
     "iopub.status.idle": "2022-02-16T00:27:57.029401Z",
     "shell.execute_reply": "2022-02-16T00:27:57.028801Z"
    },
    "papermill": {
     "duration": 0.576279,
     "end_time": "2022-02-16T00:27:57.029561",
     "exception": false,
     "start_time": "2022-02-16T00:27:56.453282",
     "status": "completed"
    },
    "tags": []
   },
   "outputs": [],
   "source": [
    "#hide\n",
    "COL_REGION = 'Country/Region'\n",
    "# Confirmed, Recovered, Deaths\n",
    "df = get_frame('confirmed')\n",
    "# dft_: timeseries, dfc_: today country agg\n",
    "dft_cases = df\n",
    "dft_deaths = get_frame('deaths')\n",
    "dft_recovered = get_frame('recovered')\n",
    "LAST_DATE_I, dt_cols = get_dates(df)"
   ]
  },
  {
   "cell_type": "code",
   "execution_count": 10,
   "id": "absolute-copper",
   "metadata": {
    "execution": {
     "iopub.execute_input": "2022-02-16T00:27:57.115675Z",
     "iopub.status.busy": "2022-02-16T00:27:57.114897Z",
     "iopub.status.idle": "2022-02-16T00:27:57.117566Z",
     "shell.execute_reply": "2022-02-16T00:27:57.117011Z"
    },
    "papermill": {
     "duration": 0.048211,
     "end_time": "2022-02-16T00:27:57.117717",
     "exception": false,
     "start_time": "2022-02-16T00:27:57.069506",
     "status": "completed"
    },
    "tags": []
   },
   "outputs": [],
   "source": [
    "#hide\n",
    "LAST_DATE_I, dt_cols = get_dates(df)\n",
    "dt_today =dt_cols[LAST_DATE_I]\n",
    "# dt_5day = dt_cols[LAST_DATE_I - 5]\n",
    "dt_yday = dt_cols[LAST_DATE_I - 1]"
   ]
  },
  {
   "cell_type": "code",
   "execution_count": 11,
   "id": "restricted-sheriff",
   "metadata": {
    "execution": {
     "iopub.execute_input": "2022-02-16T00:27:57.205150Z",
     "iopub.status.busy": "2022-02-16T00:27:57.204430Z",
     "iopub.status.idle": "2022-02-16T00:27:57.211862Z",
     "shell.execute_reply": "2022-02-16T00:27:57.212394Z"
    },
    "papermill": {
     "duration": 0.055903,
     "end_time": "2022-02-16T00:27:57.212610",
     "exception": false,
     "start_time": "2022-02-16T00:27:57.156707",
     "status": "completed"
    },
    "tags": []
   },
   "outputs": [],
   "source": [
    "#hide\n",
    "dfc_cases = dft_cases.groupby(COL_REGION)[dt_today].sum()\n",
    "dfc_deaths = dft_deaths.groupby(COL_REGION)[dt_today].sum()\n",
    "# dfp_cases = dft_cases.groupby(COL_REGION)[dt_5day].sum()\n",
    "# dfp_deaths = dft_deaths.groupby(COL_REGION)[dt_5day].sum()\n",
    "dfp_cases = dft_cases.groupby(COL_REGION)[dt_yday].sum()\n",
    "dfp_deaths = dft_deaths.groupby(COL_REGION)[dt_yday].sum()"
   ]
  },
  {
   "cell_type": "code",
   "execution_count": 12,
   "id": "deluxe-hepatitis",
   "metadata": {
    "execution": {
     "iopub.execute_input": "2022-02-16T00:27:57.303641Z",
     "iopub.status.busy": "2022-02-16T00:27:57.302916Z",
     "iopub.status.idle": "2022-02-16T00:27:57.308091Z",
     "shell.execute_reply": "2022-02-16T00:27:57.308745Z"
    },
    "papermill": {
     "duration": 0.054972,
     "end_time": "2022-02-16T00:27:57.308903",
     "exception": false,
     "start_time": "2022-02-16T00:27:57.253931",
     "status": "completed"
    },
    "tags": []
   },
   "outputs": [],
   "source": [
    "#hide\n",
    "df_table = (pd.DataFrame(dict(Cases = dfc_cases, Deaths = dfc_deaths, PCases = dfp_cases, PDeaths = dfp_deaths))\n",
    "            .sort_values(by = ['Cases','Deaths'], ascending = [False, False])\n",
    "            .reset_index())"
   ]
  },
  {
   "cell_type": "code",
   "execution_count": 13,
   "id": "educational-chancellor",
   "metadata": {
    "execution": {
     "iopub.execute_input": "2022-02-16T00:27:57.410816Z",
     "iopub.status.busy": "2022-02-16T00:27:57.404890Z",
     "iopub.status.idle": "2022-02-16T00:27:57.420513Z",
     "shell.execute_reply": "2022-02-16T00:27:57.421039Z"
    },
    "papermill": {
     "duration": 0.072937,
     "end_time": "2022-02-16T00:27:57.421221",
     "exception": false,
     "start_time": "2022-02-16T00:27:57.348284",
     "status": "completed"
    },
    "tags": []
   },
   "outputs": [
    {
     "data": {
      "text/html": [
       "<div>\n",
       "<style scoped>\n",
       "    .dataframe tbody tr th:only-of-type {\n",
       "        vertical-align: middle;\n",
       "    }\n",
       "\n",
       "    .dataframe tbody tr th {\n",
       "        vertical-align: top;\n",
       "    }\n",
       "\n",
       "    .dataframe thead th {\n",
       "        text-align: right;\n",
       "    }\n",
       "</style>\n",
       "<table border=\"1\" class=\"dataframe\">\n",
       "  <thead>\n",
       "    <tr style=\"text-align: right;\">\n",
       "      <th></th>\n",
       "      <th>Country/Region</th>\n",
       "      <th>Cases</th>\n",
       "      <th>Deaths</th>\n",
       "      <th>PCases</th>\n",
       "      <th>PDeaths</th>\n",
       "      <th>Cases (+)</th>\n",
       "      <th>Deaths (+)</th>\n",
       "      <th>Fatality Rate</th>\n",
       "      <th>Continent</th>\n",
       "    </tr>\n",
       "  </thead>\n",
       "  <tbody>\n",
       "    <tr>\n",
       "      <th>0</th>\n",
       "      <td>US</td>\n",
       "      <td>77925899</td>\n",
       "      <td>922840</td>\n",
       "      <td>77762374</td>\n",
       "      <td>920063</td>\n",
       "      <td>163525</td>\n",
       "      <td>2777</td>\n",
       "      <td>1.18</td>\n",
       "      <td>North America</td>\n",
       "    </tr>\n",
       "    <tr>\n",
       "      <th>1</th>\n",
       "      <td>India</td>\n",
       "      <td>42692943</td>\n",
       "      <td>509358</td>\n",
       "      <td>42665534</td>\n",
       "      <td>509011</td>\n",
       "      <td>27409</td>\n",
       "      <td>347</td>\n",
       "      <td>1.19</td>\n",
       "      <td>Asia</td>\n",
       "    </tr>\n",
       "    <tr>\n",
       "      <th>2</th>\n",
       "      <td>Brazil</td>\n",
       "      <td>27552267</td>\n",
       "      <td>639151</td>\n",
       "      <td>27492904</td>\n",
       "      <td>638673</td>\n",
       "      <td>59363</td>\n",
       "      <td>478</td>\n",
       "      <td>2.32</td>\n",
       "      <td>South America</td>\n",
       "    </tr>\n",
       "    <tr>\n",
       "      <th>3</th>\n",
       "      <td>France</td>\n",
       "      <td>21884370</td>\n",
       "      <td>136187</td>\n",
       "      <td>21851747</td>\n",
       "      <td>135802</td>\n",
       "      <td>32623</td>\n",
       "      <td>385</td>\n",
       "      <td>0.62</td>\n",
       "      <td>Europe</td>\n",
       "    </tr>\n",
       "    <tr>\n",
       "      <th>4</th>\n",
       "      <td>United Kingdom</td>\n",
       "      <td>18522339</td>\n",
       "      <td>160303</td>\n",
       "      <td>18479738</td>\n",
       "      <td>160265</td>\n",
       "      <td>42601</td>\n",
       "      <td>38</td>\n",
       "      <td>0.87</td>\n",
       "      <td>Europe</td>\n",
       "    </tr>\n",
       "  </tbody>\n",
       "</table>\n",
       "</div>"
      ],
      "text/plain": [
       "   Country/Region     Cases  Deaths    PCases  PDeaths  Cases (+)  Deaths (+)  \\\n",
       "0              US  77925899  922840  77762374   920063     163525        2777   \n",
       "1           India  42692943  509358  42665534   509011      27409         347   \n",
       "2          Brazil  27552267  639151  27492904   638673      59363         478   \n",
       "3          France  21884370  136187  21851747   135802      32623         385   \n",
       "4  United Kingdom  18522339  160303  18479738   160265      42601          38   \n",
       "\n",
       "   Fatality Rate      Continent  \n",
       "0           1.18  North America  \n",
       "1           1.19           Asia  \n",
       "2           2.32  South America  \n",
       "3           0.62         Europe  \n",
       "4           0.87         Europe  "
      ]
     },
     "execution_count": 13,
     "metadata": {},
     "output_type": "execute_result"
    }
   ],
   "source": [
    "#hide\n",
    "for c in 'Cases, Deaths'.split(', '):\n",
    "    df_table[f'{c} (+)'] = (df_table[c] - df_table[f'P{c}']).clip(0)\n",
    "    #Clip ça veut dire, les chiffres negatif sont interdit\n",
    "df_table['Fatality Rate'] = (100* df_table['Deaths']/ df_table['Cases']).round(2)\n",
    "df_table['Continent'] = df_table['Country/Region'].map(mapping['map.continent'])\n",
    "df_table.head(5)"
   ]
  },
  {
   "cell_type": "code",
   "execution_count": 14,
   "id": "aboriginal-bulgaria",
   "metadata": {
    "execution": {
     "iopub.execute_input": "2022-02-16T00:27:57.508524Z",
     "iopub.status.busy": "2022-02-16T00:27:57.507831Z",
     "iopub.status.idle": "2022-02-16T00:27:57.511072Z",
     "shell.execute_reply": "2022-02-16T00:27:57.511706Z"
    },
    "papermill": {
     "duration": 0.050309,
     "end_time": "2022-02-16T00:27:57.511877",
     "exception": false,
     "start_time": "2022-02-16T00:27:57.461568",
     "status": "completed"
    },
    "tags": []
   },
   "outputs": [],
   "source": [
    "#hide\n",
    "#delete problematic countries from table\n",
    "df_table = df_table[~df_table['Country/Region'].isin(['Cape Verde', 'Cruise Ship', 'Kosovo'])]"
   ]
  },
  {
   "cell_type": "code",
   "execution_count": 15,
   "id": "fantastic-effect",
   "metadata": {
    "execution": {
     "iopub.execute_input": "2022-02-16T00:27:57.603536Z",
     "iopub.status.busy": "2022-02-16T00:27:57.602773Z",
     "iopub.status.idle": "2022-02-16T00:27:57.626417Z",
     "shell.execute_reply": "2022-02-16T00:27:57.625849Z"
    },
    "papermill": {
     "duration": 0.073561,
     "end_time": "2022-02-16T00:27:57.626574",
     "exception": false,
     "start_time": "2022-02-16T00:27:57.553013",
     "status": "completed"
    },
    "tags": []
   },
   "outputs": [
    {
     "data": {
      "text/html": [
       "<div>\n",
       "<style scoped>\n",
       "    .dataframe tbody tr th:only-of-type {\n",
       "        vertical-align: middle;\n",
       "    }\n",
       "\n",
       "    .dataframe tbody tr th {\n",
       "        vertical-align: top;\n",
       "    }\n",
       "\n",
       "    .dataframe thead th {\n",
       "        text-align: right;\n",
       "    }\n",
       "</style>\n",
       "<table border=\"1\" class=\"dataframe\">\n",
       "  <thead>\n",
       "    <tr style=\"text-align: right;\">\n",
       "      <th></th>\n",
       "      <th>Country/Region</th>\n",
       "      <th>Cases</th>\n",
       "      <th>Deaths</th>\n",
       "      <th>PCases</th>\n",
       "      <th>PDeaths</th>\n",
       "      <th>Cases (+)</th>\n",
       "      <th>Deaths (+)</th>\n",
       "      <th>Fatality Rate</th>\n",
       "      <th>Continent</th>\n",
       "    </tr>\n",
       "  </thead>\n",
       "  <tbody>\n",
       "    <tr>\n",
       "      <th>0</th>\n",
       "      <td>US</td>\n",
       "      <td>77925899</td>\n",
       "      <td>922840</td>\n",
       "      <td>77762374</td>\n",
       "      <td>920063</td>\n",
       "      <td>163525</td>\n",
       "      <td>2777</td>\n",
       "      <td>1.2</td>\n",
       "      <td>North America</td>\n",
       "    </tr>\n",
       "    <tr>\n",
       "      <th>1</th>\n",
       "      <td>India</td>\n",
       "      <td>42692943</td>\n",
       "      <td>509358</td>\n",
       "      <td>42665534</td>\n",
       "      <td>509011</td>\n",
       "      <td>27409</td>\n",
       "      <td>347</td>\n",
       "      <td>1.2</td>\n",
       "      <td>Asia</td>\n",
       "    </tr>\n",
       "    <tr>\n",
       "      <th>2</th>\n",
       "      <td>Brazil</td>\n",
       "      <td>27552267</td>\n",
       "      <td>639151</td>\n",
       "      <td>27492904</td>\n",
       "      <td>638673</td>\n",
       "      <td>59363</td>\n",
       "      <td>478</td>\n",
       "      <td>2.3</td>\n",
       "      <td>South America</td>\n",
       "    </tr>\n",
       "    <tr>\n",
       "      <th>3</th>\n",
       "      <td>France</td>\n",
       "      <td>21884370</td>\n",
       "      <td>136187</td>\n",
       "      <td>21851747</td>\n",
       "      <td>135802</td>\n",
       "      <td>32623</td>\n",
       "      <td>385</td>\n",
       "      <td>0.6</td>\n",
       "      <td>Europe</td>\n",
       "    </tr>\n",
       "    <tr>\n",
       "      <th>4</th>\n",
       "      <td>United Kingdom</td>\n",
       "      <td>18522339</td>\n",
       "      <td>160303</td>\n",
       "      <td>18479738</td>\n",
       "      <td>160265</td>\n",
       "      <td>42601</td>\n",
       "      <td>38</td>\n",
       "      <td>0.9</td>\n",
       "      <td>Europe</td>\n",
       "    </tr>\n",
       "  </tbody>\n",
       "</table>\n",
       "</div>"
      ],
      "text/plain": [
       "   Country/Region     Cases  Deaths    PCases  PDeaths  Cases (+)  Deaths (+)  \\\n",
       "0              US  77925899  922840  77762374   920063     163525        2777   \n",
       "1           India  42692943  509358  42665534   509011      27409         347   \n",
       "2          Brazil  27552267  639151  27492904   638673      59363         478   \n",
       "3          France  21884370  136187  21851747   135802      32623         385   \n",
       "4  United Kingdom  18522339  160303  18479738   160265      42601          38   \n",
       "\n",
       "   Fatality Rate      Continent  \n",
       "0            1.2  North America  \n",
       "1            1.2           Asia  \n",
       "2            2.3  South America  \n",
       "3            0.6         Europe  \n",
       "4            0.9         Europe  "
      ]
     },
     "execution_count": 15,
     "metadata": {},
     "output_type": "execute_result"
    }
   ],
   "source": [
    "#hide\n",
    "df_table = (pd.DataFrame(dict(Cases=dfc_cases, Deaths=dfc_deaths, PCases=dfp_cases, PDeaths=dfp_deaths))\n",
    "             .sort_values(by=['Cases', 'Deaths'], ascending=[False, False])\n",
    "             .reset_index())\n",
    "df_table.rename(columns={'index': 'Country/Region'}, inplace=True)\n",
    "for c in 'Cases, Deaths'.split(', '):\n",
    "    df_table[f'{c} (+)'] = (df_table[c] - df_table[f'P{c}']).clip(0)  # DATA BUG\n",
    "df_table['Fatality Rate'] = (100 * df_table['Deaths'] / df_table['Cases']).round(1)\n",
    "df_table['Continent'] = df_table['Country/Region'].map(mapping['map.continent'])\n",
    "df_table.head(5)"
   ]
  },
  {
   "cell_type": "code",
   "execution_count": 16,
   "id": "fewer-occasion",
   "metadata": {
    "execution": {
     "iopub.execute_input": "2022-02-16T00:27:57.714294Z",
     "iopub.status.busy": "2022-02-16T00:27:57.713574Z",
     "iopub.status.idle": "2022-02-16T00:27:57.716099Z",
     "shell.execute_reply": "2022-02-16T00:27:57.716828Z"
    },
    "papermill": {
     "duration": 0.049642,
     "end_time": "2022-02-16T00:27:57.716990",
     "exception": false,
     "start_time": "2022-02-16T00:27:57.667348",
     "status": "completed"
    },
    "tags": []
   },
   "outputs": [],
   "source": [
    "#hide\n",
    "#delete problematic countries from table\n",
    "df_table = df_table[~df_table['Country/Region'].isin(['Cape Verde', 'Cruise Ship', 'Kosovo'])]"
   ]
  },
  {
   "cell_type": "code",
   "execution_count": 17,
   "id": "related-center",
   "metadata": {
    "execution": {
     "iopub.execute_input": "2022-02-16T00:27:57.814880Z",
     "iopub.status.busy": "2022-02-16T00:27:57.814130Z",
     "iopub.status.idle": "2022-02-16T00:27:57.824561Z",
     "shell.execute_reply": "2022-02-16T00:27:57.823944Z"
    },
    "papermill": {
     "duration": 0.067293,
     "end_time": "2022-02-16T00:27:57.824732",
     "exception": false,
     "start_time": "2022-02-16T00:27:57.757439",
     "status": "completed"
    },
    "tags": []
   },
   "outputs": [],
   "source": [
    "#hide\n",
    "metrics = [df_table.columns[index] for index in [1,2,5,6]]\n",
    "# s_china = df_table[df_table['Country/Region'].eq('China')][metrics].sum().add_prefix('China ')\n",
    "s_us = df_table[df_table['Country/Region'].eq('US')][metrics].sum().add_prefix('US ')\n",
    "s_eu = df_table[df_table['Continent'].eq('Europe')][metrics].sum().add_prefix('EU ')\n",
    "s_ind = df_table[df_table['Country/Region'].eq('India')][metrics].sum().add_prefix('India ')\n",
    "summary = {'updated': pd.to_datetime(dt_today), 'since': pd.to_datetime(dt_yday)}\n",
    "summary = {'updated': pd.to_datetime(dt_today), 'since': pd.to_datetime(dt_yday)}\n",
    "summary = {**summary, **df_table[metrics].sum(), **s_ind, **s_us, **s_eu}"
   ]
  },
  {
   "cell_type": "code",
   "execution_count": 18,
   "id": "engaging-syndrome",
   "metadata": {
    "execution": {
     "iopub.execute_input": "2022-02-16T00:27:57.911800Z",
     "iopub.status.busy": "2022-02-16T00:27:57.911083Z",
     "iopub.status.idle": "2022-02-16T00:27:57.928162Z",
     "shell.execute_reply": "2022-02-16T00:27:57.928699Z"
    },
    "papermill": {
     "duration": 0.063914,
     "end_time": "2022-02-16T00:27:57.928889",
     "exception": false,
     "start_time": "2022-02-16T00:27:57.864975",
     "status": "completed"
    },
    "tags": []
   },
   "outputs": [],
   "source": [
    "#hide\n",
    "dft_ct_new_cases = dft_cases.groupby(COL_REGION)[dt_cols].sum().diff(axis=1).fillna(0).astype(int)"
   ]
  },
  {
   "cell_type": "code",
   "execution_count": 19,
   "id": "neutral-assignment",
   "metadata": {
    "execution": {
     "iopub.execute_input": "2022-02-16T00:27:58.019671Z",
     "iopub.status.busy": "2022-02-16T00:27:58.018942Z",
     "iopub.status.idle": "2022-02-16T00:27:58.022618Z",
     "shell.execute_reply": "2022-02-16T00:27:58.023215Z"
    },
    "papermill": {
     "duration": 0.052914,
     "end_time": "2022-02-16T00:27:58.023384",
     "exception": false,
     "start_time": "2022-02-16T00:27:57.970470",
     "status": "completed"
    },
    "tags": []
   },
   "outputs": [],
   "source": [
    "#hide\n",
    "everydaycases = dft_ct_new_cases.cumsum(axis=1)"
   ]
  },
  {
   "cell_type": "code",
   "execution_count": 20,
   "id": "parliamentary-calgary",
   "metadata": {
    "execution": {
     "iopub.execute_input": "2022-02-16T00:27:58.110460Z",
     "iopub.status.busy": "2022-02-16T00:27:58.109735Z",
     "iopub.status.idle": "2022-02-16T00:27:58.912096Z",
     "shell.execute_reply": "2022-02-16T00:27:58.911502Z"
    },
    "papermill": {
     "duration": 0.848087,
     "end_time": "2022-02-16T00:27:58.912263",
     "exception": false,
     "start_time": "2022-02-16T00:27:58.064176",
     "status": "completed"
    },
    "tags": []
   },
   "outputs": [],
   "source": [
    "#hide\n",
    "import pandas as pd\n",
    "import matplotlib.pyplot as plt\n",
    "import matplotlib.ticker as ticker\n",
    "import matplotlib.animation as animation\n",
    "from IPython.display import HTML"
   ]
  },
  {
   "cell_type": "code",
   "execution_count": 21,
   "id": "lasting-extraction",
   "metadata": {
    "execution": {
     "iopub.execute_input": "2022-02-16T00:27:59.001717Z",
     "iopub.status.busy": "2022-02-16T00:27:59.001021Z",
     "iopub.status.idle": "2022-02-16T00:27:59.007511Z",
     "shell.execute_reply": "2022-02-16T00:27:59.008232Z"
    },
    "papermill": {
     "duration": 0.055291,
     "end_time": "2022-02-16T00:27:59.008406",
     "exception": false,
     "start_time": "2022-02-16T00:27:58.953115",
     "status": "completed"
    },
    "tags": []
   },
   "outputs": [],
   "source": [
    "#hide\n",
    "t = everydaycases.stack()"
   ]
  },
  {
   "cell_type": "code",
   "execution_count": 22,
   "id": "premier-sleeve",
   "metadata": {
    "execution": {
     "iopub.execute_input": "2022-02-16T00:27:59.095825Z",
     "iopub.status.busy": "2022-02-16T00:27:59.095087Z",
     "iopub.status.idle": "2022-02-16T00:27:59.107902Z",
     "shell.execute_reply": "2022-02-16T00:27:59.108473Z"
    },
    "papermill": {
     "duration": 0.058924,
     "end_time": "2022-02-16T00:27:59.108687",
     "exception": false,
     "start_time": "2022-02-16T00:27:59.049763",
     "status": "completed"
    },
    "tags": []
   },
   "outputs": [],
   "source": [
    "#hide\n",
    "g = t.reset_index(['Country/Region'])"
   ]
  },
  {
   "cell_type": "code",
   "execution_count": 23,
   "id": "distributed-pittsburgh",
   "metadata": {
    "execution": {
     "iopub.execute_input": "2022-02-16T00:27:59.196709Z",
     "iopub.status.busy": "2022-02-16T00:27:59.195897Z",
     "iopub.status.idle": "2022-02-16T00:27:59.199089Z",
     "shell.execute_reply": "2022-02-16T00:27:59.198534Z"
    },
    "papermill": {
     "duration": 0.049075,
     "end_time": "2022-02-16T00:27:59.199265",
     "exception": false,
     "start_time": "2022-02-16T00:27:59.150190",
     "status": "completed"
    },
    "tags": []
   },
   "outputs": [],
   "source": [
    "#hide\n",
    "g.index.name = 'date'"
   ]
  },
  {
   "cell_type": "code",
   "execution_count": 24,
   "id": "naked-donor",
   "metadata": {
    "execution": {
     "iopub.execute_input": "2022-02-16T00:27:59.284355Z",
     "iopub.status.busy": "2022-02-16T00:27:59.283657Z",
     "iopub.status.idle": "2022-02-16T00:27:59.286328Z",
     "shell.execute_reply": "2022-02-16T00:27:59.285673Z"
    },
    "papermill": {
     "duration": 0.047508,
     "end_time": "2022-02-16T00:27:59.286477",
     "exception": false,
     "start_time": "2022-02-16T00:27:59.238969",
     "status": "completed"
    },
    "tags": []
   },
   "outputs": [],
   "source": [
    "# #hide\n",
    "# g = g.reset_index(['date'])"
   ]
  },
  {
   "cell_type": "code",
   "execution_count": 25,
   "id": "incomplete-mustang",
   "metadata": {
    "execution": {
     "iopub.execute_input": "2022-02-16T00:27:59.372408Z",
     "iopub.status.busy": "2022-02-16T00:27:59.371690Z",
     "iopub.status.idle": "2022-02-16T00:27:59.374494Z",
     "shell.execute_reply": "2022-02-16T00:27:59.373905Z"
    },
    "papermill": {
     "duration": 0.047205,
     "end_time": "2022-02-16T00:27:59.374639",
     "exception": false,
     "start_time": "2022-02-16T00:27:59.327434",
     "status": "completed"
    },
    "tags": []
   },
   "outputs": [],
   "source": [
    "#hide\n",
    "# g.head()"
   ]
  },
  {
   "cell_type": "code",
   "execution_count": 26,
   "id": "specific-kruger",
   "metadata": {
    "execution": {
     "iopub.execute_input": "2022-02-16T00:27:59.460793Z",
     "iopub.status.busy": "2022-02-16T00:27:59.460105Z",
     "iopub.status.idle": "2022-02-16T00:27:59.462743Z",
     "shell.execute_reply": "2022-02-16T00:27:59.462155Z"
    },
    "papermill": {
     "duration": 0.04822,
     "end_time": "2022-02-16T00:27:59.462882",
     "exception": false,
     "start_time": "2022-02-16T00:27:59.414662",
     "status": "completed"
    },
    "tags": []
   },
   "outputs": [],
   "source": [
    "#hide\n",
    "# g.columns = ['date','country','cases']"
   ]
  },
  {
   "cell_type": "code",
   "execution_count": 27,
   "id": "tender-conversion",
   "metadata": {
    "execution": {
     "iopub.execute_input": "2022-02-16T00:27:59.548798Z",
     "iopub.status.busy": "2022-02-16T00:27:59.548092Z",
     "iopub.status.idle": "2022-02-16T00:27:59.550638Z",
     "shell.execute_reply": "2022-02-16T00:27:59.549923Z"
    },
    "papermill": {
     "duration": 0.047126,
     "end_time": "2022-02-16T00:27:59.550782",
     "exception": false,
     "start_time": "2022-02-16T00:27:59.503656",
     "status": "completed"
    },
    "tags": []
   },
   "outputs": [],
   "source": [
    "#hide\n",
    "# g['continent'] = g.country"
   ]
  },
  {
   "cell_type": "code",
   "execution_count": 28,
   "id": "substantial-wilderness",
   "metadata": {
    "execution": {
     "iopub.execute_input": "2022-02-16T00:27:59.636454Z",
     "iopub.status.busy": "2022-02-16T00:27:59.635774Z",
     "iopub.status.idle": "2022-02-16T00:27:59.638437Z",
     "shell.execute_reply": "2022-02-16T00:27:59.637865Z"
    },
    "papermill": {
     "duration": 0.047605,
     "end_time": "2022-02-16T00:27:59.638585",
     "exception": false,
     "start_time": "2022-02-16T00:27:59.590980",
     "status": "completed"
    },
    "tags": []
   },
   "outputs": [],
   "source": [
    "#hide\n",
    "# cols = list(g.columns.values)"
   ]
  },
  {
   "cell_type": "code",
   "execution_count": 29,
   "id": "solved-farming",
   "metadata": {
    "execution": {
     "iopub.execute_input": "2022-02-16T00:27:59.727429Z",
     "iopub.status.busy": "2022-02-16T00:27:59.726707Z",
     "iopub.status.idle": "2022-02-16T00:27:59.730821Z",
     "shell.execute_reply": "2022-02-16T00:27:59.730227Z"
    },
    "papermill": {
     "duration": 0.049377,
     "end_time": "2022-02-16T00:27:59.730977",
     "exception": false,
     "start_time": "2022-02-16T00:27:59.681600",
     "status": "completed"
    },
    "tags": []
   },
   "outputs": [],
   "source": [
    "#hide\n",
    "# cols.insert(0, cols.pop())"
   ]
  },
  {
   "cell_type": "code",
   "execution_count": 30,
   "id": "executed-adoption",
   "metadata": {
    "execution": {
     "iopub.execute_input": "2022-02-16T00:27:59.818199Z",
     "iopub.status.busy": "2022-02-16T00:27:59.817500Z",
     "iopub.status.idle": "2022-02-16T00:27:59.820246Z",
     "shell.execute_reply": "2022-02-16T00:27:59.819662Z"
    },
    "papermill": {
     "duration": 0.049192,
     "end_time": "2022-02-16T00:27:59.820528",
     "exception": false,
     "start_time": "2022-02-16T00:27:59.771336",
     "status": "completed"
    },
    "tags": []
   },
   "outputs": [],
   "source": [
    "#hide\n",
    "# g = g[cols]"
   ]
  },
  {
   "cell_type": "code",
   "execution_count": 31,
   "id": "subject-dublin",
   "metadata": {
    "execution": {
     "iopub.execute_input": "2022-02-16T00:27:59.906358Z",
     "iopub.status.busy": "2022-02-16T00:27:59.905648Z",
     "iopub.status.idle": "2022-02-16T00:27:59.910446Z",
     "shell.execute_reply": "2022-02-16T00:27:59.909875Z"
    },
    "papermill": {
     "duration": 0.049534,
     "end_time": "2022-02-16T00:27:59.910606",
     "exception": false,
     "start_time": "2022-02-16T00:27:59.861072",
     "status": "completed"
    },
    "tags": []
   },
   "outputs": [],
   "source": [
    "#hide\n",
    "# g['continent'] = g['continent'].map(mapping['map.continent'])"
   ]
  },
  {
   "cell_type": "code",
   "execution_count": 32,
   "id": "freelance-scout",
   "metadata": {
    "execution": {
     "iopub.execute_input": "2022-02-16T00:27:59.996798Z",
     "iopub.status.busy": "2022-02-16T00:27:59.996106Z",
     "iopub.status.idle": "2022-02-16T00:27:59.998552Z",
     "shell.execute_reply": "2022-02-16T00:27:59.997871Z"
    },
    "papermill": {
     "duration": 0.047235,
     "end_time": "2022-02-16T00:27:59.998692",
     "exception": false,
     "start_time": "2022-02-16T00:27:59.951457",
     "status": "completed"
    },
    "tags": []
   },
   "outputs": [],
   "source": [
    "#hide\n",
    "# g.head()"
   ]
  },
  {
   "cell_type": "code",
   "execution_count": 33,
   "id": "limited-engine",
   "metadata": {
    "execution": {
     "iopub.execute_input": "2022-02-16T00:28:00.085363Z",
     "iopub.status.busy": "2022-02-16T00:28:00.084670Z",
     "iopub.status.idle": "2022-02-16T00:28:00.087653Z",
     "shell.execute_reply": "2022-02-16T00:28:00.087039Z"
    },
    "papermill": {
     "duration": 0.048887,
     "end_time": "2022-02-16T00:28:00.087797",
     "exception": false,
     "start_time": "2022-02-16T00:28:00.038910",
     "status": "completed"
    },
    "tags": []
   },
   "outputs": [],
   "source": [
    "# hide\n",
    "# g['date'] = g['date'].astype('datetime64[ns]')"
   ]
  },
  {
   "cell_type": "code",
   "execution_count": 34,
   "id": "sophisticated-supervisor",
   "metadata": {
    "execution": {
     "iopub.execute_input": "2022-02-16T00:28:00.174375Z",
     "iopub.status.busy": "2022-02-16T00:28:00.173624Z",
     "iopub.status.idle": "2022-02-16T00:28:00.176038Z",
     "shell.execute_reply": "2022-02-16T00:28:00.175361Z"
    },
    "papermill": {
     "duration": 0.047406,
     "end_time": "2022-02-16T00:28:00.176181",
     "exception": false,
     "start_time": "2022-02-16T00:28:00.128775",
     "status": "completed"
    },
    "tags": []
   },
   "outputs": [],
   "source": [
    "#hide\n",
    "# g['date'] = g.date.dt.dayofyear"
   ]
  },
  {
   "cell_type": "code",
   "execution_count": 35,
   "id": "inside-dubai",
   "metadata": {
    "execution": {
     "iopub.execute_input": "2022-02-16T00:28:00.263259Z",
     "iopub.status.busy": "2022-02-16T00:28:00.262561Z",
     "iopub.status.idle": "2022-02-16T00:28:00.264963Z",
     "shell.execute_reply": "2022-02-16T00:28:00.265499Z"
    },
    "papermill": {
     "duration": 0.048186,
     "end_time": "2022-02-16T00:28:00.265677",
     "exception": false,
     "start_time": "2022-02-16T00:28:00.217491",
     "status": "completed"
    },
    "tags": []
   },
   "outputs": [],
   "source": [
    "#hide\n",
    "# g = g.rename(columns= {'continent':'group','country':'name','cases':'value'})"
   ]
  },
  {
   "cell_type": "code",
   "execution_count": 36,
   "id": "fleet-motorcycle",
   "metadata": {
    "execution": {
     "iopub.execute_input": "2022-02-16T00:28:00.351104Z",
     "iopub.status.busy": "2022-02-16T00:28:00.350399Z",
     "iopub.status.idle": "2022-02-16T00:28:00.354952Z",
     "shell.execute_reply": "2022-02-16T00:28:00.354390Z"
    },
    "papermill": {
     "duration": 0.049431,
     "end_time": "2022-02-16T00:28:00.355105",
     "exception": false,
     "start_time": "2022-02-16T00:28:00.305674",
     "status": "completed"
    },
    "tags": []
   },
   "outputs": [],
   "source": [
    "#hide\n",
    "# cols = ['name','group','day','value']"
   ]
  },
  {
   "cell_type": "code",
   "execution_count": 37,
   "id": "continued-sleeping",
   "metadata": {
    "execution": {
     "iopub.execute_input": "2022-02-16T00:28:00.440934Z",
     "iopub.status.busy": "2022-02-16T00:28:00.440222Z",
     "iopub.status.idle": "2022-02-16T00:28:00.442446Z",
     "shell.execute_reply": "2022-02-16T00:28:00.441772Z"
    },
    "papermill": {
     "duration": 0.046327,
     "end_time": "2022-02-16T00:28:00.442584",
     "exception": false,
     "start_time": "2022-02-16T00:28:00.396257",
     "status": "completed"
    },
    "tags": []
   },
   "outputs": [],
   "source": [
    "#hide\n",
    "# g.rename(columns= {'date':'day'},inplace = True)"
   ]
  },
  {
   "cell_type": "code",
   "execution_count": 38,
   "id": "major-fight",
   "metadata": {
    "execution": {
     "iopub.execute_input": "2022-02-16T00:28:00.528081Z",
     "iopub.status.busy": "2022-02-16T00:28:00.527252Z",
     "iopub.status.idle": "2022-02-16T00:28:00.531000Z",
     "shell.execute_reply": "2022-02-16T00:28:00.530377Z"
    },
    "papermill": {
     "duration": 0.048511,
     "end_time": "2022-02-16T00:28:00.531164",
     "exception": false,
     "start_time": "2022-02-16T00:28:00.482653",
     "status": "completed"
    },
    "tags": []
   },
   "outputs": [],
   "source": [
    "#hide\n",
    "# g = g[cols]"
   ]
  },
  {
   "cell_type": "code",
   "execution_count": 39,
   "id": "structured-mobile",
   "metadata": {
    "execution": {
     "iopub.execute_input": "2022-02-16T00:28:00.617431Z",
     "iopub.status.busy": "2022-02-16T00:28:00.616740Z",
     "iopub.status.idle": "2022-02-16T00:28:00.618900Z",
     "shell.execute_reply": "2022-02-16T00:28:00.619495Z"
    },
    "papermill": {
     "duration": 0.047872,
     "end_time": "2022-02-16T00:28:00.619661",
     "exception": false,
     "start_time": "2022-02-16T00:28:00.571789",
     "status": "completed"
    },
    "tags": []
   },
   "outputs": [],
   "source": [
    "# #hide\n",
    "# g = g[g.group.notna()]"
   ]
  },
  {
   "cell_type": "code",
   "execution_count": 40,
   "id": "determined-closing",
   "metadata": {
    "execution": {
     "iopub.execute_input": "2022-02-16T00:28:00.706282Z",
     "iopub.status.busy": "2022-02-16T00:28:00.705575Z",
     "iopub.status.idle": "2022-02-16T00:28:00.709250Z",
     "shell.execute_reply": "2022-02-16T00:28:00.709976Z"
    },
    "papermill": {
     "duration": 0.049405,
     "end_time": "2022-02-16T00:28:00.710147",
     "exception": false,
     "start_time": "2022-02-16T00:28:00.660742",
     "status": "completed"
    },
    "tags": []
   },
   "outputs": [],
   "source": [
    "# #hide\n",
    "# colors = dict(zip(\n",
    "#     [\"Oceania\", \"Europe\", \"Asia\", \"South America\", \"Middle East\", \"North America\", \"Africa\"],\n",
    "#     [\"#adb0ff\", \"#ffb3ff\", \"#90d595\", \"#e48381\", \"#aafbff\", \"#f7bb5f\", \"#eafb50\"]\n",
    "# ))\n",
    "# group_lk = g.set_index('name')['group'].to_dict()"
   ]
  },
  {
   "cell_type": "code",
   "execution_count": null,
   "id": "gross-drinking",
   "metadata": {
    "papermill": {
     "duration": 0.041007,
     "end_time": "2022-02-16T00:28:00.791894",
     "exception": false,
     "start_time": "2022-02-16T00:28:00.750887",
     "status": "completed"
    },
    "tags": []
   },
   "outputs": [],
   "source": []
  },
  {
   "cell_type": "code",
   "execution_count": 41,
   "id": "subject-macintosh",
   "metadata": {
    "execution": {
     "iopub.execute_input": "2022-02-16T00:28:00.879454Z",
     "iopub.status.busy": "2022-02-16T00:28:00.878717Z",
     "iopub.status.idle": "2022-02-16T00:28:00.881377Z",
     "shell.execute_reply": "2022-02-16T00:28:00.880721Z"
    },
    "papermill": {
     "duration": 0.047771,
     "end_time": "2022-02-16T00:28:00.881527",
     "exception": false,
     "start_time": "2022-02-16T00:28:00.833756",
     "status": "completed"
    },
    "tags": []
   },
   "outputs": [],
   "source": [
    "# #hide\n",
    "# fig, ax = plt.subplots(figsize=(15, 8))\n",
    "\n",
    "# def draw_barchart(current_day):\n",
    "#     dff = g[g['day'].eq(current_day)].sort_values(by='value', ascending=True).tail(10)\n",
    "#     ax.clear()\n",
    "#     ax.barh(dff['name'], dff['value'], color=[colors[group_lk[x]] for x in dff['name']])\n",
    "#     dx = dff['value'].max() / 200\n",
    "    \n",
    "#     for i, (value, name) in enumerate(zip(dff['value'], dff['name'])):\n",
    "#         ax.text(value-dx, i,     name,           size=14, weight=600, ha='right', va='bottom')\n",
    "#         ax.text(value-dx, i-.25, group_lk[name], size=10, color='#444444', ha='right', va='baseline')\n",
    "#         ax.text(value+dx, i,     f'{value:,.0f}',  size=14, ha='left',  va='center')\n",
    "#     ax.text(1, 0.4, current_day, transform=ax.transAxes, color='#777777', size=46, ha='right', weight=800)\n",
    "#     ax.text(0, 1.06, 'Population (thousands)', transform=ax.transAxes, size=12, color='#777777')\n",
    "#     ax.xaxis.set_major_formatter(ticker.StrMethodFormatter('{x:,.0f}'))\n",
    "#     ax.xaxis.set_ticks_position('top')\n",
    "#     ax.tick_params(axis='x', colors='#777777', labelsize=12)\n",
    "#     ax.set_yticks([])\n",
    "#     ax.margins(0, 0.01)\n",
    "#     ax.grid(which='major', axis='x', linestyle='-')\n",
    "#     ax.set_axisbelow(True)\n",
    "    \n",
    "#     ax.text(0, 1.15, 'Coronavirus',\n",
    "#             transform=ax.transAxes, size=24, weight=600, ha='left', va='top')\n",
    "# #     ax.text(1, 0, 'by @pratapvardhan; credit @jburnmurdoch', transform=ax.transAxes, color='#777777', ha='right',\n",
    "# #             bbox=dict(facecolor='white', alpha=0.8, edgecolor='white'))\n",
    "#     plt.box(False)"
   ]
  },
  {
   "cell_type": "code",
   "execution_count": 42,
   "id": "sexual-wages",
   "metadata": {
    "execution": {
     "iopub.execute_input": "2022-02-16T00:28:00.967614Z",
     "iopub.status.busy": "2022-02-16T00:28:00.966877Z",
     "iopub.status.idle": "2022-02-16T00:28:00.969454Z",
     "shell.execute_reply": "2022-02-16T00:28:00.968774Z"
    },
    "papermill": {
     "duration": 0.047488,
     "end_time": "2022-02-16T00:28:00.969596",
     "exception": false,
     "start_time": "2022-02-16T00:28:00.922108",
     "status": "completed"
    },
    "tags": []
   },
   "outputs": [],
   "source": [
    "# #hide_input\n",
    "# fig, ax = plt.subplots(figsize=(15, 8))\n",
    "# animator = animation.FuncAnimation(fig, draw_barchart, frames=range(g.day.values.min(), g.day.values.max()))\n",
    "# HTML(animator.to_jshtml())\n",
    "# # or use animator.to_html5_video() or animator.save() "
   ]
  },
  {
   "cell_type": "code",
   "execution_count": null,
   "id": "australian-container",
   "metadata": {
    "papermill": {
     "duration": 0.040259,
     "end_time": "2022-02-16T00:28:01.049701",
     "exception": false,
     "start_time": "2022-02-16T00:28:01.009442",
     "status": "completed"
    },
    "tags": []
   },
   "outputs": [],
   "source": []
  },
  {
   "cell_type": "code",
   "execution_count": null,
   "id": "mediterranean-pontiac",
   "metadata": {
    "papermill": {
     "duration": 0.040516,
     "end_time": "2022-02-16T00:28:01.135021",
     "exception": false,
     "start_time": "2022-02-16T00:28:01.094505",
     "status": "completed"
    },
    "tags": []
   },
   "outputs": [],
   "source": []
  },
  {
   "cell_type": "code",
   "execution_count": null,
   "id": "aging-legislature",
   "metadata": {
    "papermill": {
     "duration": 0.040378,
     "end_time": "2022-02-16T00:28:01.215694",
     "exception": false,
     "start_time": "2022-02-16T00:28:01.175316",
     "status": "completed"
    },
    "tags": []
   },
   "outputs": [],
   "source": []
  }
 ],
 "metadata": {
  "kernelspec": {
   "display_name": "Python 3",
   "language": "python",
   "name": "python3"
  },
  "language_info": {
   "codemirror_mode": {
    "name": "ipython",
    "version": 3
   },
   "file_extension": ".py",
   "mimetype": "text/x-python",
   "name": "python",
   "nbconvert_exporter": "python",
   "pygments_lexer": "ipython3",
   "version": "3.6.15"
  },
  "papermill": {
   "duration": 7.912343,
   "end_time": "2022-02-16T00:28:01.677108",
   "environment_variables": {},
   "exception": null,
   "input_path": "2020-03-21-covid19exp.ipynb",
   "output_path": "2020-03-21-covid19exp.ipynb",
   "parameters": {},
   "start_time": "2022-02-16T00:27:53.764765",
   "version": "2.0.0"
  }
 },
 "nbformat": 4,
 "nbformat_minor": 5
}