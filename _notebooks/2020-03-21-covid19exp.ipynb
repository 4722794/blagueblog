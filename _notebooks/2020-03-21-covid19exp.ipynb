{
 "cells": [
  {
   "cell_type": "markdown",
   "id": "muslim-click",
   "metadata": {
    "papermill": {
     "duration": 0.034638,
     "end_time": "2021-04-08T12:03:52.988598",
     "exception": false,
     "start_time": "2021-04-08T12:03:52.953960",
     "status": "completed"
    },
    "tags": []
   },
   "source": [
    "# COVID-19 Case Race\n",
    "> A race chart to see rising cases around the world\n",
    "\n",
    "- author: Hargun Oberoi\n",
    "- image: images/covid-overview.png\n",
    "- hide: false\n",
    "- badges: false"
   ]
  },
  {
   "cell_type": "code",
   "execution_count": 1,
   "id": "proof-material",
   "metadata": {
    "execution": {
     "iopub.execute_input": "2021-04-08T12:03:53.059813Z",
     "iopub.status.busy": "2021-04-08T12:03:53.059285Z",
     "iopub.status.idle": "2021-04-08T12:03:53.360972Z",
     "shell.execute_reply": "2021-04-08T12:03:53.359989Z"
    },
    "papermill": {
     "duration": 0.341565,
     "end_time": "2021-04-08T12:03:53.361129",
     "exception": false,
     "start_time": "2021-04-08T12:03:53.019564",
     "status": "completed"
    },
    "tags": []
   },
   "outputs": [],
   "source": [
    "#hide\n",
    "import numpy as np\n",
    "import pandas as pd\n",
    "from jinja2 import Template\n",
    "from IPython.display import HTML"
   ]
  },
  {
   "cell_type": "code",
   "execution_count": 2,
   "id": "developed-terminology",
   "metadata": {
    "execution": {
     "iopub.execute_input": "2021-04-08T12:03:53.425441Z",
     "iopub.status.busy": "2021-04-08T12:03:53.424769Z",
     "iopub.status.idle": "2021-04-08T12:03:53.426666Z",
     "shell.execute_reply": "2021-04-08T12:03:53.426036Z"
    },
    "papermill": {
     "duration": 0.035855,
     "end_time": "2021-04-08T12:03:53.426801",
     "exception": false,
     "start_time": "2021-04-08T12:03:53.390946",
     "status": "completed"
    },
    "tags": []
   },
   "outputs": [],
   "source": [
    "#hide\n",
    "\n",
    "# FETCH\n",
    "base_url = 'https://raw.githubusercontent.com/pratapvardhan/notebooks/master/covid19/'\n",
    "paths = {\n",
    "    'mapping': base_url + 'mapping_countries.csv',\n",
    "    'overview': base_url + 'overview.tpl'\n",
    "}"
   ]
  },
  {
   "cell_type": "code",
   "execution_count": 3,
   "id": "dynamic-saver",
   "metadata": {
    "execution": {
     "iopub.execute_input": "2021-04-08T12:03:53.489939Z",
     "iopub.status.busy": "2021-04-08T12:03:53.489343Z",
     "iopub.status.idle": "2021-04-08T12:03:53.499459Z",
     "shell.execute_reply": "2021-04-08T12:03:53.499008Z"
    },
    "papermill": {
     "duration": 0.042349,
     "end_time": "2021-04-08T12:03:53.499577",
     "exception": false,
     "start_time": "2021-04-08T12:03:53.457228",
     "status": "completed"
    },
    "tags": []
   },
   "outputs": [
    {
     "data": {
      "text/plain": [
       "'https://raw.githubusercontent.com/pratapvardhan/notebooks/master/covid19/mapping_countries.csv'"
      ]
     },
     "execution_count": 3,
     "metadata": {},
     "output_type": "execute_result"
    }
   ],
   "source": [
    "#hide\n",
    "paths['mapping']"
   ]
  },
  {
   "cell_type": "code",
   "execution_count": 4,
   "id": "urban-software",
   "metadata": {
    "execution": {
     "iopub.execute_input": "2021-04-08T12:03:53.572551Z",
     "iopub.status.busy": "2021-04-08T12:03:53.571732Z",
     "iopub.status.idle": "2021-04-08T12:03:53.576568Z",
     "shell.execute_reply": "2021-04-08T12:03:53.576065Z"
    },
    "papermill": {
     "duration": 0.046324,
     "end_time": "2021-04-08T12:03:53.576698",
     "exception": false,
     "start_time": "2021-04-08T12:03:53.530374",
     "status": "completed"
    },
    "tags": []
   },
   "outputs": [],
   "source": [
    "#hide\n",
    "def get_mappings(url):\n",
    "    df = pd.read_csv(url)\n",
    "    return {\n",
    "        'df': df,\n",
    "        'replace.country': dict(df.dropna(subset=['Name']).set_index('Country')['Name']),\n",
    "        'map.continent': dict(df.set_index('Name')['Continent'])\n",
    "    }"
   ]
  },
  {
   "cell_type": "code",
   "execution_count": 5,
   "id": "intimate-machinery",
   "metadata": {
    "execution": {
     "iopub.execute_input": "2021-04-08T12:03:53.643505Z",
     "iopub.status.busy": "2021-04-08T12:03:53.642903Z",
     "iopub.status.idle": "2021-04-08T12:03:53.717123Z",
     "shell.execute_reply": "2021-04-08T12:03:53.716643Z"
    },
    "papermill": {
     "duration": 0.110722,
     "end_time": "2021-04-08T12:03:53.717266",
     "exception": false,
     "start_time": "2021-04-08T12:03:53.606544",
     "status": "completed"
    },
    "tags": []
   },
   "outputs": [],
   "source": [
    "#hide\n",
    "mapping = get_mappings(paths['mapping'])"
   ]
  },
  {
   "cell_type": "code",
   "execution_count": 6,
   "id": "certified-tactics",
   "metadata": {
    "execution": {
     "iopub.execute_input": "2021-04-08T12:03:53.783117Z",
     "iopub.status.busy": "2021-04-08T12:03:53.782415Z",
     "iopub.status.idle": "2021-04-08T12:03:53.783840Z",
     "shell.execute_reply": "2021-04-08T12:03:53.784404Z"
    },
    "papermill": {
     "duration": 0.037164,
     "end_time": "2021-04-08T12:03:53.784552",
     "exception": false,
     "start_time": "2021-04-08T12:03:53.747388",
     "status": "completed"
    },
    "tags": []
   },
   "outputs": [],
   "source": [
    "#hide\n",
    "def get_template(path):\n",
    "    from urllib.parse import urlparse\n",
    "    if bool(urlparse(path).netloc):\n",
    "        from urllib.request import urlopen\n",
    "        return urlopen(path).read().decode('utf8')\n",
    "    return open(path).read()"
   ]
  },
  {
   "cell_type": "code",
   "execution_count": 7,
   "id": "realistic-blast",
   "metadata": {
    "execution": {
     "iopub.execute_input": "2021-04-08T12:03:53.849386Z",
     "iopub.status.busy": "2021-04-08T12:03:53.848838Z",
     "iopub.status.idle": "2021-04-08T12:03:53.850839Z",
     "shell.execute_reply": "2021-04-08T12:03:53.850419Z"
    },
    "papermill": {
     "duration": 0.036089,
     "end_time": "2021-04-08T12:03:53.850946",
     "exception": false,
     "start_time": "2021-04-08T12:03:53.814857",
     "status": "completed"
    },
    "tags": []
   },
   "outputs": [],
   "source": [
    "#hide\n",
    "def get_frame(name):\n",
    "    url = (\n",
    "        'https://raw.githubusercontent.com/CSSEGISandData/COVID-19/master/csse_covid_19_data/'\n",
    "        f'csse_covid_19_time_series/time_series_covid19_{name}_global.csv')\n",
    "    df = pd.read_csv(url)\n",
    "    # rename countries\n",
    "    df['Country/Region'] = df['Country/Region'].replace(mapping['replace.country'])\n",
    "    return df"
   ]
  },
  {
   "cell_type": "code",
   "execution_count": 8,
   "id": "affiliated-characterization",
   "metadata": {
    "execution": {
     "iopub.execute_input": "2021-04-08T12:03:53.917991Z",
     "iopub.status.busy": "2021-04-08T12:03:53.917375Z",
     "iopub.status.idle": "2021-04-08T12:03:53.918843Z",
     "shell.execute_reply": "2021-04-08T12:03:53.919220Z"
    },
    "papermill": {
     "duration": 0.038338,
     "end_time": "2021-04-08T12:03:53.919355",
     "exception": false,
     "start_time": "2021-04-08T12:03:53.881017",
     "status": "completed"
    },
    "tags": []
   },
   "outputs": [],
   "source": [
    "#hide\n",
    "def get_dates(df):\n",
    "    dt_cols = df.columns[~df.columns.isin(['Province/State', 'Country/Region', 'Lat', 'Long'])]\n",
    "    LAST_DATE_I = -1\n",
    "    # sometimes last column may be empty, then go backwards\n",
    "    for i in range(-1, -len(dt_cols), -1):\n",
    "        if not df[dt_cols[i]].fillna(0).eq(0).all():\n",
    "            LAST_DATE_I = i\n",
    "            break\n",
    "    return LAST_DATE_I, dt_cols"
   ]
  },
  {
   "cell_type": "code",
   "execution_count": 9,
   "id": "recent-optimization",
   "metadata": {
    "execution": {
     "iopub.execute_input": "2021-04-08T12:03:53.984417Z",
     "iopub.status.busy": "2021-04-08T12:03:53.983813Z",
     "iopub.status.idle": "2021-04-08T12:03:54.413408Z",
     "shell.execute_reply": "2021-04-08T12:03:54.412886Z"
    },
    "papermill": {
     "duration": 0.464397,
     "end_time": "2021-04-08T12:03:54.413532",
     "exception": false,
     "start_time": "2021-04-08T12:03:53.949135",
     "status": "completed"
    },
    "tags": []
   },
   "outputs": [],
   "source": [
    "#hide\n",
    "COL_REGION = 'Country/Region'\n",
    "# Confirmed, Recovered, Deaths\n",
    "df = get_frame('confirmed')\n",
    "# dft_: timeseries, dfc_: today country agg\n",
    "dft_cases = df\n",
    "dft_deaths = get_frame('deaths')\n",
    "dft_recovered = get_frame('recovered')\n",
    "LAST_DATE_I, dt_cols = get_dates(df)"
   ]
  },
  {
   "cell_type": "code",
   "execution_count": 10,
   "id": "absolute-copper",
   "metadata": {
    "execution": {
     "iopub.execute_input": "2021-04-08T12:03:54.481443Z",
     "iopub.status.busy": "2021-04-08T12:03:54.480887Z",
     "iopub.status.idle": "2021-04-08T12:03:54.483081Z",
     "shell.execute_reply": "2021-04-08T12:03:54.482672Z"
    },
    "papermill": {
     "duration": 0.038172,
     "end_time": "2021-04-08T12:03:54.483194",
     "exception": false,
     "start_time": "2021-04-08T12:03:54.445022",
     "status": "completed"
    },
    "tags": []
   },
   "outputs": [],
   "source": [
    "#hide\n",
    "LAST_DATE_I, dt_cols = get_dates(df)\n",
    "dt_today =dt_cols[LAST_DATE_I]\n",
    "# dt_5day = dt_cols[LAST_DATE_I - 5]\n",
    "dt_yday = dt_cols[LAST_DATE_I - 1]"
   ]
  },
  {
   "cell_type": "code",
   "execution_count": 11,
   "id": "restricted-sheriff",
   "metadata": {
    "execution": {
     "iopub.execute_input": "2021-04-08T12:03:54.550236Z",
     "iopub.status.busy": "2021-04-08T12:03:54.549718Z",
     "iopub.status.idle": "2021-04-08T12:03:54.555646Z",
     "shell.execute_reply": "2021-04-08T12:03:54.555230Z"
    },
    "papermill": {
     "duration": 0.042798,
     "end_time": "2021-04-08T12:03:54.555761",
     "exception": false,
     "start_time": "2021-04-08T12:03:54.512963",
     "status": "completed"
    },
    "tags": []
   },
   "outputs": [],
   "source": [
    "#hide\n",
    "dfc_cases = dft_cases.groupby(COL_REGION)[dt_today].sum()\n",
    "dfc_deaths = dft_deaths.groupby(COL_REGION)[dt_today].sum()\n",
    "# dfp_cases = dft_cases.groupby(COL_REGION)[dt_5day].sum()\n",
    "# dfp_deaths = dft_deaths.groupby(COL_REGION)[dt_5day].sum()\n",
    "dfp_cases = dft_cases.groupby(COL_REGION)[dt_yday].sum()\n",
    "dfp_deaths = dft_deaths.groupby(COL_REGION)[dt_yday].sum()"
   ]
  },
  {
   "cell_type": "code",
   "execution_count": 12,
   "id": "deluxe-hepatitis",
   "metadata": {
    "execution": {
     "iopub.execute_input": "2021-04-08T12:03:54.624088Z",
     "iopub.status.busy": "2021-04-08T12:03:54.621623Z",
     "iopub.status.idle": "2021-04-08T12:03:54.626078Z",
     "shell.execute_reply": "2021-04-08T12:03:54.626543Z"
    },
    "papermill": {
     "duration": 0.040974,
     "end_time": "2021-04-08T12:03:54.626676",
     "exception": false,
     "start_time": "2021-04-08T12:03:54.585702",
     "status": "completed"
    },
    "tags": []
   },
   "outputs": [],
   "source": [
    "#hide\n",
    "df_table = (pd.DataFrame(dict(Cases = dfc_cases, Deaths = dfc_deaths, PCases = dfp_cases, PDeaths = dfp_deaths))\n",
    "            .sort_values(by = ['Cases','Deaths'], ascending = [False, False])\n",
    "            .reset_index())"
   ]
  },
  {
   "cell_type": "code",
   "execution_count": 13,
   "id": "educational-chancellor",
   "metadata": {
    "execution": {
     "iopub.execute_input": "2021-04-08T12:03:54.704119Z",
     "iopub.status.busy": "2021-04-08T12:03:54.703590Z",
     "iopub.status.idle": "2021-04-08T12:03:54.710535Z",
     "shell.execute_reply": "2021-04-08T12:03:54.710119Z"
    },
    "papermill": {
     "duration": 0.054219,
     "end_time": "2021-04-08T12:03:54.710651",
     "exception": false,
     "start_time": "2021-04-08T12:03:54.656432",
     "status": "completed"
    },
    "tags": []
   },
   "outputs": [
    {
     "data": {
      "text/html": [
       "<div>\n",
       "<style scoped>\n",
       "    .dataframe tbody tr th:only-of-type {\n",
       "        vertical-align: middle;\n",
       "    }\n",
       "\n",
       "    .dataframe tbody tr th {\n",
       "        vertical-align: top;\n",
       "    }\n",
       "\n",
       "    .dataframe thead th {\n",
       "        text-align: right;\n",
       "    }\n",
       "</style>\n",
       "<table border=\"1\" class=\"dataframe\">\n",
       "  <thead>\n",
       "    <tr style=\"text-align: right;\">\n",
       "      <th></th>\n",
       "      <th>Country/Region</th>\n",
       "      <th>Cases</th>\n",
       "      <th>Deaths</th>\n",
       "      <th>PCases</th>\n",
       "      <th>PDeaths</th>\n",
       "      <th>Cases (+)</th>\n",
       "      <th>Deaths (+)</th>\n",
       "      <th>Fatality Rate</th>\n",
       "      <th>Continent</th>\n",
       "    </tr>\n",
       "  </thead>\n",
       "  <tbody>\n",
       "    <tr>\n",
       "      <th>0</th>\n",
       "      <td>US</td>\n",
       "      <td>30922386</td>\n",
       "      <td>559116</td>\n",
       "      <td>30847348</td>\n",
       "      <td>556546</td>\n",
       "      <td>75038</td>\n",
       "      <td>2570</td>\n",
       "      <td>1.81</td>\n",
       "      <td>North America</td>\n",
       "    </tr>\n",
       "    <tr>\n",
       "      <th>1</th>\n",
       "      <td>Brazil</td>\n",
       "      <td>13193205</td>\n",
       "      <td>340776</td>\n",
       "      <td>13100580</td>\n",
       "      <td>336947</td>\n",
       "      <td>92625</td>\n",
       "      <td>3829</td>\n",
       "      <td>2.58</td>\n",
       "      <td>South America</td>\n",
       "    </tr>\n",
       "    <tr>\n",
       "      <th>2</th>\n",
       "      <td>India</td>\n",
       "      <td>12928574</td>\n",
       "      <td>166862</td>\n",
       "      <td>12801785</td>\n",
       "      <td>166177</td>\n",
       "      <td>126789</td>\n",
       "      <td>685</td>\n",
       "      <td>1.29</td>\n",
       "      <td>Asia</td>\n",
       "    </tr>\n",
       "    <tr>\n",
       "      <th>3</th>\n",
       "      <td>France</td>\n",
       "      <td>4902985</td>\n",
       "      <td>97444</td>\n",
       "      <td>4902025</td>\n",
       "      <td>97431</td>\n",
       "      <td>960</td>\n",
       "      <td>13</td>\n",
       "      <td>1.99</td>\n",
       "      <td>Europe</td>\n",
       "    </tr>\n",
       "    <tr>\n",
       "      <th>4</th>\n",
       "      <td>Russia</td>\n",
       "      <td>4554481</td>\n",
       "      <td>99800</td>\n",
       "      <td>4546307</td>\n",
       "      <td>99431</td>\n",
       "      <td>8174</td>\n",
       "      <td>369</td>\n",
       "      <td>2.19</td>\n",
       "      <td>Europe</td>\n",
       "    </tr>\n",
       "  </tbody>\n",
       "</table>\n",
       "</div>"
      ],
      "text/plain": [
       "  Country/Region     Cases  Deaths    PCases  PDeaths  Cases (+)  Deaths (+)  \\\n",
       "0             US  30922386  559116  30847348   556546      75038        2570   \n",
       "1         Brazil  13193205  340776  13100580   336947      92625        3829   \n",
       "2          India  12928574  166862  12801785   166177     126789         685   \n",
       "3         France   4902985   97444   4902025    97431        960          13   \n",
       "4         Russia   4554481   99800   4546307    99431       8174         369   \n",
       "\n",
       "   Fatality Rate      Continent  \n",
       "0           1.81  North America  \n",
       "1           2.58  South America  \n",
       "2           1.29           Asia  \n",
       "3           1.99         Europe  \n",
       "4           2.19         Europe  "
      ]
     },
     "execution_count": 13,
     "metadata": {},
     "output_type": "execute_result"
    }
   ],
   "source": [
    "#hide\n",
    "for c in 'Cases, Deaths'.split(', '):\n",
    "    df_table[f'{c} (+)'] = (df_table[c] - df_table[f'P{c}']).clip(0)\n",
    "    #Clip ça veut dire, les chiffres negatif sont interdit\n",
    "df_table['Fatality Rate'] = (100* df_table['Deaths']/ df_table['Cases']).round(2)\n",
    "df_table['Continent'] = df_table['Country/Region'].map(mapping['map.continent'])\n",
    "df_table.head(5)"
   ]
  },
  {
   "cell_type": "code",
   "execution_count": 14,
   "id": "aboriginal-bulgaria",
   "metadata": {
    "execution": {
     "iopub.execute_input": "2021-04-08T12:03:54.777538Z",
     "iopub.status.busy": "2021-04-08T12:03:54.776980Z",
     "iopub.status.idle": "2021-04-08T12:03:54.778791Z",
     "shell.execute_reply": "2021-04-08T12:03:54.779252Z"
    },
    "papermill": {
     "duration": 0.038087,
     "end_time": "2021-04-08T12:03:54.779379",
     "exception": false,
     "start_time": "2021-04-08T12:03:54.741292",
     "status": "completed"
    },
    "tags": []
   },
   "outputs": [],
   "source": [
    "#hide\n",
    "#delete problematic countries from table\n",
    "df_table = df_table[~df_table['Country/Region'].isin(['Cape Verde', 'Cruise Ship', 'Kosovo'])]"
   ]
  },
  {
   "cell_type": "code",
   "execution_count": 15,
   "id": "fantastic-effect",
   "metadata": {
    "execution": {
     "iopub.execute_input": "2021-04-08T12:03:54.847865Z",
     "iopub.status.busy": "2021-04-08T12:03:54.847347Z",
     "iopub.status.idle": "2021-04-08T12:03:54.863746Z",
     "shell.execute_reply": "2021-04-08T12:03:54.864128Z"
    },
    "papermill": {
     "duration": 0.054804,
     "end_time": "2021-04-08T12:03:54.864266",
     "exception": false,
     "start_time": "2021-04-08T12:03:54.809462",
     "status": "completed"
    },
    "tags": []
   },
   "outputs": [
    {
     "data": {
      "text/html": [
       "<div>\n",
       "<style scoped>\n",
       "    .dataframe tbody tr th:only-of-type {\n",
       "        vertical-align: middle;\n",
       "    }\n",
       "\n",
       "    .dataframe tbody tr th {\n",
       "        vertical-align: top;\n",
       "    }\n",
       "\n",
       "    .dataframe thead th {\n",
       "        text-align: right;\n",
       "    }\n",
       "</style>\n",
       "<table border=\"1\" class=\"dataframe\">\n",
       "  <thead>\n",
       "    <tr style=\"text-align: right;\">\n",
       "      <th></th>\n",
       "      <th>Country/Region</th>\n",
       "      <th>Cases</th>\n",
       "      <th>Deaths</th>\n",
       "      <th>PCases</th>\n",
       "      <th>PDeaths</th>\n",
       "      <th>Cases (+)</th>\n",
       "      <th>Deaths (+)</th>\n",
       "      <th>Fatality Rate</th>\n",
       "      <th>Continent</th>\n",
       "    </tr>\n",
       "  </thead>\n",
       "  <tbody>\n",
       "    <tr>\n",
       "      <th>0</th>\n",
       "      <td>US</td>\n",
       "      <td>30922386</td>\n",
       "      <td>559116</td>\n",
       "      <td>30847348</td>\n",
       "      <td>556546</td>\n",
       "      <td>75038</td>\n",
       "      <td>2570</td>\n",
       "      <td>1.8</td>\n",
       "      <td>North America</td>\n",
       "    </tr>\n",
       "    <tr>\n",
       "      <th>1</th>\n",
       "      <td>Brazil</td>\n",
       "      <td>13193205</td>\n",
       "      <td>340776</td>\n",
       "      <td>13100580</td>\n",
       "      <td>336947</td>\n",
       "      <td>92625</td>\n",
       "      <td>3829</td>\n",
       "      <td>2.6</td>\n",
       "      <td>South America</td>\n",
       "    </tr>\n",
       "    <tr>\n",
       "      <th>2</th>\n",
       "      <td>India</td>\n",
       "      <td>12928574</td>\n",
       "      <td>166862</td>\n",
       "      <td>12801785</td>\n",
       "      <td>166177</td>\n",
       "      <td>126789</td>\n",
       "      <td>685</td>\n",
       "      <td>1.3</td>\n",
       "      <td>Asia</td>\n",
       "    </tr>\n",
       "    <tr>\n",
       "      <th>3</th>\n",
       "      <td>France</td>\n",
       "      <td>4902985</td>\n",
       "      <td>97444</td>\n",
       "      <td>4902025</td>\n",
       "      <td>97431</td>\n",
       "      <td>960</td>\n",
       "      <td>13</td>\n",
       "      <td>2.0</td>\n",
       "      <td>Europe</td>\n",
       "    </tr>\n",
       "    <tr>\n",
       "      <th>4</th>\n",
       "      <td>Russia</td>\n",
       "      <td>4554481</td>\n",
       "      <td>99800</td>\n",
       "      <td>4546307</td>\n",
       "      <td>99431</td>\n",
       "      <td>8174</td>\n",
       "      <td>369</td>\n",
       "      <td>2.2</td>\n",
       "      <td>Europe</td>\n",
       "    </tr>\n",
       "  </tbody>\n",
       "</table>\n",
       "</div>"
      ],
      "text/plain": [
       "  Country/Region     Cases  Deaths    PCases  PDeaths  Cases (+)  Deaths (+)  \\\n",
       "0             US  30922386  559116  30847348   556546      75038        2570   \n",
       "1         Brazil  13193205  340776  13100580   336947      92625        3829   \n",
       "2          India  12928574  166862  12801785   166177     126789         685   \n",
       "3         France   4902985   97444   4902025    97431        960          13   \n",
       "4         Russia   4554481   99800   4546307    99431       8174         369   \n",
       "\n",
       "   Fatality Rate      Continent  \n",
       "0            1.8  North America  \n",
       "1            2.6  South America  \n",
       "2            1.3           Asia  \n",
       "3            2.0         Europe  \n",
       "4            2.2         Europe  "
      ]
     },
     "execution_count": 15,
     "metadata": {},
     "output_type": "execute_result"
    }
   ],
   "source": [
    "#hide\n",
    "df_table = (pd.DataFrame(dict(Cases=dfc_cases, Deaths=dfc_deaths, PCases=dfp_cases, PDeaths=dfp_deaths))\n",
    "             .sort_values(by=['Cases', 'Deaths'], ascending=[False, False])\n",
    "             .reset_index())\n",
    "df_table.rename(columns={'index': 'Country/Region'}, inplace=True)\n",
    "for c in 'Cases, Deaths'.split(', '):\n",
    "    df_table[f'{c} (+)'] = (df_table[c] - df_table[f'P{c}']).clip(0)  # DATA BUG\n",
    "df_table['Fatality Rate'] = (100 * df_table['Deaths'] / df_table['Cases']).round(1)\n",
    "df_table['Continent'] = df_table['Country/Region'].map(mapping['map.continent'])\n",
    "df_table.head(5)"
   ]
  },
  {
   "cell_type": "code",
   "execution_count": 16,
   "id": "fewer-occasion",
   "metadata": {
    "execution": {
     "iopub.execute_input": "2021-04-08T12:03:54.932091Z",
     "iopub.status.busy": "2021-04-08T12:03:54.931472Z",
     "iopub.status.idle": "2021-04-08T12:03:54.932965Z",
     "shell.execute_reply": "2021-04-08T12:03:54.933361Z"
    },
    "papermill": {
     "duration": 0.038366,
     "end_time": "2021-04-08T12:03:54.933500",
     "exception": false,
     "start_time": "2021-04-08T12:03:54.895134",
     "status": "completed"
    },
    "tags": []
   },
   "outputs": [],
   "source": [
    "#hide\n",
    "#delete problematic countries from table\n",
    "df_table = df_table[~df_table['Country/Region'].isin(['Cape Verde', 'Cruise Ship', 'Kosovo'])]"
   ]
  },
  {
   "cell_type": "code",
   "execution_count": 17,
   "id": "related-center",
   "metadata": {
    "execution": {
     "iopub.execute_input": "2021-04-08T12:03:55.006359Z",
     "iopub.status.busy": "2021-04-08T12:03:55.005813Z",
     "iopub.status.idle": "2021-04-08T12:03:55.015584Z",
     "shell.execute_reply": "2021-04-08T12:03:55.015155Z"
    },
    "papermill": {
     "duration": 0.051528,
     "end_time": "2021-04-08T12:03:55.015703",
     "exception": false,
     "start_time": "2021-04-08T12:03:54.964175",
     "status": "completed"
    },
    "tags": []
   },
   "outputs": [],
   "source": [
    "#hide\n",
    "metrics = [df_table.columns[index] for index in [1,2,5,6]]\n",
    "# s_china = df_table[df_table['Country/Region'].eq('China')][metrics].sum().add_prefix('China ')\n",
    "s_us = df_table[df_table['Country/Region'].eq('US')][metrics].sum().add_prefix('US ')\n",
    "s_eu = df_table[df_table['Continent'].eq('Europe')][metrics].sum().add_prefix('EU ')\n",
    "s_ind = df_table[df_table['Country/Region'].eq('India')][metrics].sum().add_prefix('India ')\n",
    "summary = {'updated': pd.to_datetime(dt_today), 'since': pd.to_datetime(dt_yday)}\n",
    "summary = {'updated': pd.to_datetime(dt_today), 'since': pd.to_datetime(dt_yday)}\n",
    "summary = {**summary, **df_table[metrics].sum(), **s_ind, **s_us, **s_eu}"
   ]
  },
  {
   "cell_type": "code",
   "execution_count": 18,
   "id": "engaging-syndrome",
   "metadata": {
    "execution": {
     "iopub.execute_input": "2021-04-08T12:03:55.082821Z",
     "iopub.status.busy": "2021-04-08T12:03:55.082304Z",
     "iopub.status.idle": "2021-04-08T12:03:55.093929Z",
     "shell.execute_reply": "2021-04-08T12:03:55.093505Z"
    },
    "papermill": {
     "duration": 0.047411,
     "end_time": "2021-04-08T12:03:55.094047",
     "exception": false,
     "start_time": "2021-04-08T12:03:55.046636",
     "status": "completed"
    },
    "tags": []
   },
   "outputs": [],
   "source": [
    "#hide\n",
    "dft_ct_new_cases = dft_cases.groupby(COL_REGION)[dt_cols].sum().diff(axis=1).fillna(0).astype(int)"
   ]
  },
  {
   "cell_type": "code",
   "execution_count": 19,
   "id": "neutral-assignment",
   "metadata": {
    "execution": {
     "iopub.execute_input": "2021-04-08T12:03:55.161782Z",
     "iopub.status.busy": "2021-04-08T12:03:55.161235Z",
     "iopub.status.idle": "2021-04-08T12:03:55.162982Z",
     "shell.execute_reply": "2021-04-08T12:03:55.163403Z"
    },
    "papermill": {
     "duration": 0.038899,
     "end_time": "2021-04-08T12:03:55.163530",
     "exception": false,
     "start_time": "2021-04-08T12:03:55.124631",
     "status": "completed"
    },
    "tags": []
   },
   "outputs": [],
   "source": [
    "#hide\n",
    "everydaycases = dft_ct_new_cases.cumsum(axis=1)"
   ]
  },
  {
   "cell_type": "code",
   "execution_count": 20,
   "id": "parliamentary-calgary",
   "metadata": {
    "execution": {
     "iopub.execute_input": "2021-04-08T12:03:55.230320Z",
     "iopub.status.busy": "2021-04-08T12:03:55.229807Z",
     "iopub.status.idle": "2021-04-08T12:03:55.719451Z",
     "shell.execute_reply": "2021-04-08T12:03:55.718935Z"
    },
    "papermill": {
     "duration": 0.524393,
     "end_time": "2021-04-08T12:03:55.719585",
     "exception": false,
     "start_time": "2021-04-08T12:03:55.195192",
     "status": "completed"
    },
    "tags": []
   },
   "outputs": [],
   "source": [
    "#hide\n",
    "import pandas as pd\n",
    "import matplotlib.pyplot as plt\n",
    "import matplotlib.ticker as ticker\n",
    "import matplotlib.animation as animation\n",
    "from IPython.display import HTML"
   ]
  },
  {
   "cell_type": "code",
   "execution_count": 21,
   "id": "lasting-extraction",
   "metadata": {
    "execution": {
     "iopub.execute_input": "2021-04-08T12:03:55.786960Z",
     "iopub.status.busy": "2021-04-08T12:03:55.786447Z",
     "iopub.status.idle": "2021-04-08T12:03:55.791411Z",
     "shell.execute_reply": "2021-04-08T12:03:55.790983Z"
    },
    "papermill": {
     "duration": 0.040701,
     "end_time": "2021-04-08T12:03:55.791521",
     "exception": false,
     "start_time": "2021-04-08T12:03:55.750820",
     "status": "completed"
    },
    "tags": []
   },
   "outputs": [],
   "source": [
    "#hide\n",
    "t = everydaycases.stack()"
   ]
  },
  {
   "cell_type": "code",
   "execution_count": 22,
   "id": "premier-sleeve",
   "metadata": {
    "execution": {
     "iopub.execute_input": "2021-04-08T12:03:55.857250Z",
     "iopub.status.busy": "2021-04-08T12:03:55.856710Z",
     "iopub.status.idle": "2021-04-08T12:03:55.863525Z",
     "shell.execute_reply": "2021-04-08T12:03:55.863927Z"
    },
    "papermill": {
     "duration": 0.041803,
     "end_time": "2021-04-08T12:03:55.864058",
     "exception": false,
     "start_time": "2021-04-08T12:03:55.822255",
     "status": "completed"
    },
    "tags": []
   },
   "outputs": [],
   "source": [
    "#hide\n",
    "g = t.reset_index(['Country/Region'])"
   ]
  },
  {
   "cell_type": "code",
   "execution_count": 23,
   "id": "distributed-pittsburgh",
   "metadata": {
    "execution": {
     "iopub.execute_input": "2021-04-08T12:03:55.929540Z",
     "iopub.status.busy": "2021-04-08T12:03:55.928992Z",
     "iopub.status.idle": "2021-04-08T12:03:55.931267Z",
     "shell.execute_reply": "2021-04-08T12:03:55.930853Z"
    },
    "papermill": {
     "duration": 0.036836,
     "end_time": "2021-04-08T12:03:55.931380",
     "exception": false,
     "start_time": "2021-04-08T12:03:55.894544",
     "status": "completed"
    },
    "tags": []
   },
   "outputs": [],
   "source": [
    "#hide\n",
    "g.index.name = 'date'"
   ]
  },
  {
   "cell_type": "code",
   "execution_count": 24,
   "id": "naked-donor",
   "metadata": {
    "execution": {
     "iopub.execute_input": "2021-04-08T12:03:55.996594Z",
     "iopub.status.busy": "2021-04-08T12:03:55.996081Z",
     "iopub.status.idle": "2021-04-08T12:03:55.998840Z",
     "shell.execute_reply": "2021-04-08T12:03:55.998430Z"
    },
    "papermill": {
     "duration": 0.036713,
     "end_time": "2021-04-08T12:03:55.998952",
     "exception": false,
     "start_time": "2021-04-08T12:03:55.962239",
     "status": "completed"
    },
    "tags": []
   },
   "outputs": [],
   "source": [
    "# #hide\n",
    "# g = g.reset_index(['date'])"
   ]
  },
  {
   "cell_type": "code",
   "execution_count": 25,
   "id": "incomplete-mustang",
   "metadata": {
    "execution": {
     "iopub.execute_input": "2021-04-08T12:03:56.064886Z",
     "iopub.status.busy": "2021-04-08T12:03:56.064376Z",
     "iopub.status.idle": "2021-04-08T12:03:56.066133Z",
     "shell.execute_reply": "2021-04-08T12:03:56.066612Z"
    },
    "papermill": {
     "duration": 0.036513,
     "end_time": "2021-04-08T12:03:56.066743",
     "exception": false,
     "start_time": "2021-04-08T12:03:56.030230",
     "status": "completed"
    },
    "tags": []
   },
   "outputs": [],
   "source": [
    "#hide\n",
    "# g.head()"
   ]
  },
  {
   "cell_type": "code",
   "execution_count": 26,
   "id": "specific-kruger",
   "metadata": {
    "execution": {
     "iopub.execute_input": "2021-04-08T12:03:56.131753Z",
     "iopub.status.busy": "2021-04-08T12:03:56.131255Z",
     "iopub.status.idle": "2021-04-08T12:03:56.132996Z",
     "shell.execute_reply": "2021-04-08T12:03:56.133443Z"
    },
    "papermill": {
     "duration": 0.036085,
     "end_time": "2021-04-08T12:03:56.133571",
     "exception": false,
     "start_time": "2021-04-08T12:03:56.097486",
     "status": "completed"
    },
    "tags": []
   },
   "outputs": [],
   "source": [
    "#hide\n",
    "# g.columns = ['date','country','cases']"
   ]
  },
  {
   "cell_type": "code",
   "execution_count": 27,
   "id": "tender-conversion",
   "metadata": {
    "execution": {
     "iopub.execute_input": "2021-04-08T12:03:56.198060Z",
     "iopub.status.busy": "2021-04-08T12:03:56.197545Z",
     "iopub.status.idle": "2021-04-08T12:03:56.199758Z",
     "shell.execute_reply": "2021-04-08T12:03:56.199349Z"
    },
    "papermill": {
     "duration": 0.035973,
     "end_time": "2021-04-08T12:03:56.199869",
     "exception": false,
     "start_time": "2021-04-08T12:03:56.163896",
     "status": "completed"
    },
    "tags": []
   },
   "outputs": [],
   "source": [
    "#hide\n",
    "# g['continent'] = g.country"
   ]
  },
  {
   "cell_type": "code",
   "execution_count": 28,
   "id": "substantial-wilderness",
   "metadata": {
    "execution": {
     "iopub.execute_input": "2021-04-08T12:03:56.264794Z",
     "iopub.status.busy": "2021-04-08T12:03:56.264284Z",
     "iopub.status.idle": "2021-04-08T12:03:56.266039Z",
     "shell.execute_reply": "2021-04-08T12:03:56.266513Z"
    },
    "papermill": {
     "duration": 0.036105,
     "end_time": "2021-04-08T12:03:56.266641",
     "exception": false,
     "start_time": "2021-04-08T12:03:56.230536",
     "status": "completed"
    },
    "tags": []
   },
   "outputs": [],
   "source": [
    "#hide\n",
    "# cols = list(g.columns.values)"
   ]
  },
  {
   "cell_type": "code",
   "execution_count": 29,
   "id": "solved-farming",
   "metadata": {
    "execution": {
     "iopub.execute_input": "2021-04-08T12:03:56.331661Z",
     "iopub.status.busy": "2021-04-08T12:03:56.331142Z",
     "iopub.status.idle": "2021-04-08T12:03:56.333317Z",
     "shell.execute_reply": "2021-04-08T12:03:56.332887Z"
    },
    "papermill": {
     "duration": 0.036343,
     "end_time": "2021-04-08T12:03:56.333436",
     "exception": false,
     "start_time": "2021-04-08T12:03:56.297093",
     "status": "completed"
    },
    "tags": []
   },
   "outputs": [],
   "source": [
    "#hide\n",
    "# cols.insert(0, cols.pop())"
   ]
  },
  {
   "cell_type": "code",
   "execution_count": 30,
   "id": "executed-adoption",
   "metadata": {
    "execution": {
     "iopub.execute_input": "2021-04-08T12:03:56.398743Z",
     "iopub.status.busy": "2021-04-08T12:03:56.398206Z",
     "iopub.status.idle": "2021-04-08T12:03:56.400574Z",
     "shell.execute_reply": "2021-04-08T12:03:56.400167Z"
    },
    "papermill": {
     "duration": 0.036455,
     "end_time": "2021-04-08T12:03:56.400685",
     "exception": false,
     "start_time": "2021-04-08T12:03:56.364230",
     "status": "completed"
    },
    "tags": []
   },
   "outputs": [],
   "source": [
    "#hide\n",
    "# g = g[cols]"
   ]
  },
  {
   "cell_type": "code",
   "execution_count": 31,
   "id": "subject-dublin",
   "metadata": {
    "execution": {
     "iopub.execute_input": "2021-04-08T12:03:56.465809Z",
     "iopub.status.busy": "2021-04-08T12:03:56.465286Z",
     "iopub.status.idle": "2021-04-08T12:03:56.466986Z",
     "shell.execute_reply": "2021-04-08T12:03:56.467454Z"
    },
    "papermill": {
     "duration": 0.036359,
     "end_time": "2021-04-08T12:03:56.467582",
     "exception": false,
     "start_time": "2021-04-08T12:03:56.431223",
     "status": "completed"
    },
    "tags": []
   },
   "outputs": [],
   "source": [
    "#hide\n",
    "# g['continent'] = g['continent'].map(mapping['map.continent'])"
   ]
  },
  {
   "cell_type": "code",
   "execution_count": 32,
   "id": "freelance-scout",
   "metadata": {
    "execution": {
     "iopub.execute_input": "2021-04-08T12:03:56.532261Z",
     "iopub.status.busy": "2021-04-08T12:03:56.531742Z",
     "iopub.status.idle": "2021-04-08T12:03:56.534397Z",
     "shell.execute_reply": "2021-04-08T12:03:56.534869Z"
    },
    "papermill": {
     "duration": 0.036867,
     "end_time": "2021-04-08T12:03:56.534996",
     "exception": false,
     "start_time": "2021-04-08T12:03:56.498129",
     "status": "completed"
    },
    "tags": []
   },
   "outputs": [],
   "source": [
    "#hide\n",
    "# g.head()"
   ]
  },
  {
   "cell_type": "code",
   "execution_count": 33,
   "id": "limited-engine",
   "metadata": {
    "execution": {
     "iopub.execute_input": "2021-04-08T12:03:56.599750Z",
     "iopub.status.busy": "2021-04-08T12:03:56.599133Z",
     "iopub.status.idle": "2021-04-08T12:03:56.600581Z",
     "shell.execute_reply": "2021-04-08T12:03:56.601032Z"
    },
    "papermill": {
     "duration": 0.035873,
     "end_time": "2021-04-08T12:03:56.601189",
     "exception": false,
     "start_time": "2021-04-08T12:03:56.565316",
     "status": "completed"
    },
    "tags": []
   },
   "outputs": [],
   "source": [
    "# hide\n",
    "# g['date'] = g['date'].astype('datetime64[ns]')"
   ]
  },
  {
   "cell_type": "code",
   "execution_count": 34,
   "id": "sophisticated-supervisor",
   "metadata": {
    "execution": {
     "iopub.execute_input": "2021-04-08T12:03:56.665938Z",
     "iopub.status.busy": "2021-04-08T12:03:56.665376Z",
     "iopub.status.idle": "2021-04-08T12:03:56.667320Z",
     "shell.execute_reply": "2021-04-08T12:03:56.666902Z"
    },
    "papermill": {
     "duration": 0.035253,
     "end_time": "2021-04-08T12:03:56.667419",
     "exception": false,
     "start_time": "2021-04-08T12:03:56.632166",
     "status": "completed"
    },
    "tags": []
   },
   "outputs": [],
   "source": [
    "#hide\n",
    "# g['date'] = g.date.dt.dayofyear"
   ]
  },
  {
   "cell_type": "code",
   "execution_count": 35,
   "id": "inside-dubai",
   "metadata": {
    "execution": {
     "iopub.execute_input": "2021-04-08T12:03:56.733258Z",
     "iopub.status.busy": "2021-04-08T12:03:56.732625Z",
     "iopub.status.idle": "2021-04-08T12:03:56.734817Z",
     "shell.execute_reply": "2021-04-08T12:03:56.734259Z"
    },
    "papermill": {
     "duration": 0.035725,
     "end_time": "2021-04-08T12:03:56.734935",
     "exception": false,
     "start_time": "2021-04-08T12:03:56.699210",
     "status": "completed"
    },
    "tags": []
   },
   "outputs": [],
   "source": [
    "#hide\n",
    "# g = g.rename(columns= {'continent':'group','country':'name','cases':'value'})"
   ]
  },
  {
   "cell_type": "code",
   "execution_count": 36,
   "id": "fleet-motorcycle",
   "metadata": {
    "execution": {
     "iopub.execute_input": "2021-04-08T12:03:56.799986Z",
     "iopub.status.busy": "2021-04-08T12:03:56.799394Z",
     "iopub.status.idle": "2021-04-08T12:03:56.800882Z",
     "shell.execute_reply": "2021-04-08T12:03:56.801335Z"
    },
    "papermill": {
     "duration": 0.035824,
     "end_time": "2021-04-08T12:03:56.801481",
     "exception": false,
     "start_time": "2021-04-08T12:03:56.765657",
     "status": "completed"
    },
    "tags": []
   },
   "outputs": [],
   "source": [
    "#hide\n",
    "# cols = ['name','group','day','value']"
   ]
  },
  {
   "cell_type": "code",
   "execution_count": 37,
   "id": "continued-sleeping",
   "metadata": {
    "execution": {
     "iopub.execute_input": "2021-04-08T12:03:56.867321Z",
     "iopub.status.busy": "2021-04-08T12:03:56.866806Z",
     "iopub.status.idle": "2021-04-08T12:03:56.868647Z",
     "shell.execute_reply": "2021-04-08T12:03:56.869023Z"
    },
    "papermill": {
     "duration": 0.036478,
     "end_time": "2021-04-08T12:03:56.869182",
     "exception": false,
     "start_time": "2021-04-08T12:03:56.832704",
     "status": "completed"
    },
    "tags": []
   },
   "outputs": [],
   "source": [
    "#hide\n",
    "# g.rename(columns= {'date':'day'},inplace = True)"
   ]
  },
  {
   "cell_type": "code",
   "execution_count": 38,
   "id": "major-fight",
   "metadata": {
    "execution": {
     "iopub.execute_input": "2021-04-08T12:03:56.934101Z",
     "iopub.status.busy": "2021-04-08T12:03:56.933588Z",
     "iopub.status.idle": "2021-04-08T12:03:56.935396Z",
     "shell.execute_reply": "2021-04-08T12:03:56.935792Z"
    },
    "papermill": {
     "duration": 0.036101,
     "end_time": "2021-04-08T12:03:56.935918",
     "exception": false,
     "start_time": "2021-04-08T12:03:56.899817",
     "status": "completed"
    },
    "tags": []
   },
   "outputs": [],
   "source": [
    "#hide\n",
    "# g = g[cols]"
   ]
  },
  {
   "cell_type": "code",
   "execution_count": 39,
   "id": "structured-mobile",
   "metadata": {
    "execution": {
     "iopub.execute_input": "2021-04-08T12:03:57.000850Z",
     "iopub.status.busy": "2021-04-08T12:03:57.000332Z",
     "iopub.status.idle": "2021-04-08T12:03:57.002590Z",
     "shell.execute_reply": "2021-04-08T12:03:57.002179Z"
    },
    "papermill": {
     "duration": 0.036147,
     "end_time": "2021-04-08T12:03:57.002702",
     "exception": false,
     "start_time": "2021-04-08T12:03:56.966555",
     "status": "completed"
    },
    "tags": []
   },
   "outputs": [],
   "source": [
    "# #hide\n",
    "# g = g[g.group.notna()]"
   ]
  },
  {
   "cell_type": "code",
   "execution_count": 40,
   "id": "determined-closing",
   "metadata": {
    "execution": {
     "iopub.execute_input": "2021-04-08T12:03:57.068240Z",
     "iopub.status.busy": "2021-04-08T12:03:57.067713Z",
     "iopub.status.idle": "2021-04-08T12:03:57.069751Z",
     "shell.execute_reply": "2021-04-08T12:03:57.069325Z"
    },
    "papermill": {
     "duration": 0.03609,
     "end_time": "2021-04-08T12:03:57.069856",
     "exception": false,
     "start_time": "2021-04-08T12:03:57.033766",
     "status": "completed"
    },
    "tags": []
   },
   "outputs": [],
   "source": [
    "# #hide\n",
    "# colors = dict(zip(\n",
    "#     [\"Oceania\", \"Europe\", \"Asia\", \"South America\", \"Middle East\", \"North America\", \"Africa\"],\n",
    "#     [\"#adb0ff\", \"#ffb3ff\", \"#90d595\", \"#e48381\", \"#aafbff\", \"#f7bb5f\", \"#eafb50\"]\n",
    "# ))\n",
    "# group_lk = g.set_index('name')['group'].to_dict()"
   ]
  },
  {
   "cell_type": "code",
   "execution_count": null,
   "id": "gross-drinking",
   "metadata": {
    "papermill": {
     "duration": 0.030364,
     "end_time": "2021-04-08T12:03:57.130695",
     "exception": false,
     "start_time": "2021-04-08T12:03:57.100331",
     "status": "completed"
    },
    "tags": []
   },
   "outputs": [],
   "source": []
  },
  {
   "cell_type": "code",
   "execution_count": 41,
   "id": "subject-macintosh",
   "metadata": {
    "execution": {
     "iopub.execute_input": "2021-04-08T12:03:57.195927Z",
     "iopub.status.busy": "2021-04-08T12:03:57.195414Z",
     "iopub.status.idle": "2021-04-08T12:03:57.197615Z",
     "shell.execute_reply": "2021-04-08T12:03:57.197207Z"
    },
    "papermill": {
     "duration": 0.036504,
     "end_time": "2021-04-08T12:03:57.197731",
     "exception": false,
     "start_time": "2021-04-08T12:03:57.161227",
     "status": "completed"
    },
    "tags": []
   },
   "outputs": [],
   "source": [
    "# #hide\n",
    "# fig, ax = plt.subplots(figsize=(15, 8))\n",
    "\n",
    "# def draw_barchart(current_day):\n",
    "#     dff = g[g['day'].eq(current_day)].sort_values(by='value', ascending=True).tail(10)\n",
    "#     ax.clear()\n",
    "#     ax.barh(dff['name'], dff['value'], color=[colors[group_lk[x]] for x in dff['name']])\n",
    "#     dx = dff['value'].max() / 200\n",
    "    \n",
    "#     for i, (value, name) in enumerate(zip(dff['value'], dff['name'])):\n",
    "#         ax.text(value-dx, i,     name,           size=14, weight=600, ha='right', va='bottom')\n",
    "#         ax.text(value-dx, i-.25, group_lk[name], size=10, color='#444444', ha='right', va='baseline')\n",
    "#         ax.text(value+dx, i,     f'{value:,.0f}',  size=14, ha='left',  va='center')\n",
    "#     ax.text(1, 0.4, current_day, transform=ax.transAxes, color='#777777', size=46, ha='right', weight=800)\n",
    "#     ax.text(0, 1.06, 'Population (thousands)', transform=ax.transAxes, size=12, color='#777777')\n",
    "#     ax.xaxis.set_major_formatter(ticker.StrMethodFormatter('{x:,.0f}'))\n",
    "#     ax.xaxis.set_ticks_position('top')\n",
    "#     ax.tick_params(axis='x', colors='#777777', labelsize=12)\n",
    "#     ax.set_yticks([])\n",
    "#     ax.margins(0, 0.01)\n",
    "#     ax.grid(which='major', axis='x', linestyle='-')\n",
    "#     ax.set_axisbelow(True)\n",
    "    \n",
    "#     ax.text(0, 1.15, 'Coronavirus',\n",
    "#             transform=ax.transAxes, size=24, weight=600, ha='left', va='top')\n",
    "# #     ax.text(1, 0, 'by @pratapvardhan; credit @jburnmurdoch', transform=ax.transAxes, color='#777777', ha='right',\n",
    "# #             bbox=dict(facecolor='white', alpha=0.8, edgecolor='white'))\n",
    "#     plt.box(False)"
   ]
  },
  {
   "cell_type": "code",
   "execution_count": 42,
   "id": "sexual-wages",
   "metadata": {
    "execution": {
     "iopub.execute_input": "2021-04-08T12:03:57.263143Z",
     "iopub.status.busy": "2021-04-08T12:03:57.262533Z",
     "iopub.status.idle": "2021-04-08T12:03:57.264034Z",
     "shell.execute_reply": "2021-04-08T12:03:57.264489Z"
    },
    "papermill": {
     "duration": 0.036242,
     "end_time": "2021-04-08T12:03:57.264631",
     "exception": false,
     "start_time": "2021-04-08T12:03:57.228389",
     "status": "completed"
    },
    "tags": []
   },
   "outputs": [],
   "source": [
    "# #hide_input\n",
    "# fig, ax = plt.subplots(figsize=(15, 8))\n",
    "# animator = animation.FuncAnimation(fig, draw_barchart, frames=range(g.day.values.min(), g.day.values.max()))\n",
    "# HTML(animator.to_jshtml())\n",
    "# # or use animator.to_html5_video() or animator.save() "
   ]
  },
  {
   "cell_type": "code",
   "execution_count": null,
   "id": "australian-container",
   "metadata": {
    "papermill": {
     "duration": 0.030387,
     "end_time": "2021-04-08T12:03:57.327216",
     "exception": false,
     "start_time": "2021-04-08T12:03:57.296829",
     "status": "completed"
    },
    "tags": []
   },
   "outputs": [],
   "source": []
  },
  {
   "cell_type": "code",
   "execution_count": null,
   "id": "mediterranean-pontiac",
   "metadata": {
    "papermill": {
     "duration": 0.030354,
     "end_time": "2021-04-08T12:03:57.387987",
     "exception": false,
     "start_time": "2021-04-08T12:03:57.357633",
     "status": "completed"
    },
    "tags": []
   },
   "outputs": [],
   "source": []
  },
  {
   "cell_type": "code",
   "execution_count": null,
   "id": "aging-legislature",
   "metadata": {
    "papermill": {
     "duration": 0.03216,
     "end_time": "2021-04-08T12:03:57.450667",
     "exception": false,
     "start_time": "2021-04-08T12:03:57.418507",
     "status": "completed"
    },
    "tags": []
   },
   "outputs": [],
   "source": []
  }
 ],
 "metadata": {
  "kernelspec": {
   "display_name": "Python 3",
   "language": "python",
   "name": "python3"
  },
  "language_info": {
   "codemirror_mode": {
    "name": "ipython",
    "version": 3
   },
   "file_extension": ".py",
   "mimetype": "text/x-python",
   "name": "python",
   "nbconvert_exporter": "python",
   "pygments_lexer": "ipython3",
   "version": "3.6.13"
  },
  "papermill": {
   "duration": 6.096377,
   "end_time": "2021-04-08T12:03:57.788028",
   "environment_variables": {},
   "exception": null,
   "input_path": "2020-03-21-covid19exp.ipynb",
   "output_path": "2020-03-21-covid19exp.ipynb",
   "parameters": {},
   "start_time": "2021-04-08T12:03:51.691651",
   "version": "2.0.0"
  }
 },
 "nbformat": 4,
 "nbformat_minor": 5
}