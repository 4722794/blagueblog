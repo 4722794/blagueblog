{
 "cells": [
  {
   "cell_type": "markdown",
   "id": "muslim-click",
   "metadata": {
    "papermill": {
     "duration": 0.03504,
     "end_time": "2021-09-16T12:21:58.995685",
     "exception": false,
     "start_time": "2021-09-16T12:21:58.960645",
     "status": "completed"
    },
    "tags": []
   },
   "source": [
    "# COVID-19 Case Race\n",
    "> A race chart to see rising cases around the world\n",
    "\n",
    "- author: Hargun Oberoi\n",
    "- image: images/covid-overview.png\n",
    "- hide: false\n",
    "- badges: false"
   ]
  },
  {
   "cell_type": "code",
   "execution_count": 1,
   "id": "proof-material",
   "metadata": {
    "execution": {
     "iopub.execute_input": "2021-09-16T12:21:59.064651Z",
     "iopub.status.busy": "2021-09-16T12:21:59.064031Z",
     "iopub.status.idle": "2021-09-16T12:21:59.406262Z",
     "shell.execute_reply": "2021-09-16T12:21:59.405655Z"
    },
    "papermill": {
     "duration": 0.380846,
     "end_time": "2021-09-16T12:21:59.406460",
     "exception": false,
     "start_time": "2021-09-16T12:21:59.025614",
     "status": "completed"
    },
    "tags": []
   },
   "outputs": [],
   "source": [
    "#hide\n",
    "import numpy as np\n",
    "import pandas as pd\n",
    "from jinja2 import Template\n",
    "from IPython.display import HTML"
   ]
  },
  {
   "cell_type": "code",
   "execution_count": 2,
   "id": "developed-terminology",
   "metadata": {
    "execution": {
     "iopub.execute_input": "2021-09-16T12:21:59.477114Z",
     "iopub.status.busy": "2021-09-16T12:21:59.476481Z",
     "iopub.status.idle": "2021-09-16T12:21:59.479114Z",
     "shell.execute_reply": "2021-09-16T12:21:59.479681Z"
    },
    "papermill": {
     "duration": 0.040747,
     "end_time": "2021-09-16T12:21:59.479825",
     "exception": false,
     "start_time": "2021-09-16T12:21:59.439078",
     "status": "completed"
    },
    "tags": []
   },
   "outputs": [],
   "source": [
    "#hide\n",
    "\n",
    "# FETCH\n",
    "base_url = 'https://raw.githubusercontent.com/pratapvardhan/notebooks/master/covid19/'\n",
    "paths = {\n",
    "    'mapping': base_url + 'mapping_countries.csv',\n",
    "    'overview': base_url + 'overview.tpl'\n",
    "}"
   ]
  },
  {
   "cell_type": "code",
   "execution_count": 3,
   "id": "dynamic-saver",
   "metadata": {
    "execution": {
     "iopub.execute_input": "2021-09-16T12:21:59.548311Z",
     "iopub.status.busy": "2021-09-16T12:21:59.547761Z",
     "iopub.status.idle": "2021-09-16T12:21:59.550543Z",
     "shell.execute_reply": "2021-09-16T12:21:59.551024Z"
    },
    "papermill": {
     "duration": 0.044812,
     "end_time": "2021-09-16T12:21:59.551161",
     "exception": false,
     "start_time": "2021-09-16T12:21:59.506349",
     "status": "completed"
    },
    "tags": []
   },
   "outputs": [
    {
     "data": {
      "text/plain": [
       "'https://raw.githubusercontent.com/pratapvardhan/notebooks/master/covid19/mapping_countries.csv'"
      ]
     },
     "execution_count": 3,
     "metadata": {},
     "output_type": "execute_result"
    }
   ],
   "source": [
    "#hide\n",
    "paths['mapping']"
   ]
  },
  {
   "cell_type": "code",
   "execution_count": 4,
   "id": "urban-software",
   "metadata": {
    "execution": {
     "iopub.execute_input": "2021-09-16T12:21:59.614417Z",
     "iopub.status.busy": "2021-09-16T12:21:59.613838Z",
     "iopub.status.idle": "2021-09-16T12:21:59.616258Z",
     "shell.execute_reply": "2021-09-16T12:21:59.615817Z"
    },
    "papermill": {
     "duration": 0.036867,
     "end_time": "2021-09-16T12:21:59.616357",
     "exception": false,
     "start_time": "2021-09-16T12:21:59.579490",
     "status": "completed"
    },
    "tags": []
   },
   "outputs": [],
   "source": [
    "#hide\n",
    "def get_mappings(url):\n",
    "    df = pd.read_csv(url)\n",
    "    return {\n",
    "        'df': df,\n",
    "        'replace.country': dict(df.dropna(subset=['Name']).set_index('Country')['Name']),\n",
    "        'map.continent': dict(df.set_index('Name')['Continent'])\n",
    "    }"
   ]
  },
  {
   "cell_type": "code",
   "execution_count": 5,
   "id": "intimate-machinery",
   "metadata": {
    "execution": {
     "iopub.execute_input": "2021-09-16T12:21:59.680714Z",
     "iopub.status.busy": "2021-09-16T12:21:59.680122Z",
     "iopub.status.idle": "2021-09-16T12:21:59.720018Z",
     "shell.execute_reply": "2021-09-16T12:21:59.719068Z"
    },
    "papermill": {
     "duration": 0.073832,
     "end_time": "2021-09-16T12:21:59.720220",
     "exception": false,
     "start_time": "2021-09-16T12:21:59.646388",
     "status": "completed"
    },
    "tags": []
   },
   "outputs": [],
   "source": [
    "#hide\n",
    "mapping = get_mappings(paths['mapping'])"
   ]
  },
  {
   "cell_type": "code",
   "execution_count": 6,
   "id": "certified-tactics",
   "metadata": {
    "execution": {
     "iopub.execute_input": "2021-09-16T12:21:59.788381Z",
     "iopub.status.busy": "2021-09-16T12:21:59.787892Z",
     "iopub.status.idle": "2021-09-16T12:21:59.790446Z",
     "shell.execute_reply": "2021-09-16T12:21:59.789939Z"
    },
    "papermill": {
     "duration": 0.035995,
     "end_time": "2021-09-16T12:21:59.790574",
     "exception": false,
     "start_time": "2021-09-16T12:21:59.754579",
     "status": "completed"
    },
    "tags": []
   },
   "outputs": [],
   "source": [
    "#hide\n",
    "def get_template(path):\n",
    "    from urllib.parse import urlparse\n",
    "    if bool(urlparse(path).netloc):\n",
    "        from urllib.request import urlopen\n",
    "        return urlopen(path).read().decode('utf8')\n",
    "    return open(path).read()"
   ]
  },
  {
   "cell_type": "code",
   "execution_count": 7,
   "id": "realistic-blast",
   "metadata": {
    "execution": {
     "iopub.execute_input": "2021-09-16T12:21:59.853115Z",
     "iopub.status.busy": "2021-09-16T12:21:59.852516Z",
     "iopub.status.idle": "2021-09-16T12:21:59.856707Z",
     "shell.execute_reply": "2021-09-16T12:21:59.856294Z"
    },
    "papermill": {
     "duration": 0.037556,
     "end_time": "2021-09-16T12:21:59.856807",
     "exception": false,
     "start_time": "2021-09-16T12:21:59.819251",
     "status": "completed"
    },
    "tags": []
   },
   "outputs": [],
   "source": [
    "#hide\n",
    "def get_frame(name):\n",
    "    url = (\n",
    "        'https://raw.githubusercontent.com/CSSEGISandData/COVID-19/master/csse_covid_19_data/'\n",
    "        f'csse_covid_19_time_series/time_series_covid19_{name}_global.csv')\n",
    "    df = pd.read_csv(url)\n",
    "    # rename countries\n",
    "    df['Country/Region'] = df['Country/Region'].replace(mapping['replace.country'])\n",
    "    return df"
   ]
  },
  {
   "cell_type": "code",
   "execution_count": 8,
   "id": "affiliated-characterization",
   "metadata": {
    "execution": {
     "iopub.execute_input": "2021-09-16T12:21:59.919648Z",
     "iopub.status.busy": "2021-09-16T12:21:59.919044Z",
     "iopub.status.idle": "2021-09-16T12:21:59.921675Z",
     "shell.execute_reply": "2021-09-16T12:21:59.921285Z"
    },
    "papermill": {
     "duration": 0.035866,
     "end_time": "2021-09-16T12:21:59.921780",
     "exception": false,
     "start_time": "2021-09-16T12:21:59.885914",
     "status": "completed"
    },
    "tags": []
   },
   "outputs": [],
   "source": [
    "#hide\n",
    "def get_dates(df):\n",
    "    dt_cols = df.columns[~df.columns.isin(['Province/State', 'Country/Region', 'Lat', 'Long'])]\n",
    "    LAST_DATE_I = -1\n",
    "    # sometimes last column may be empty, then go backwards\n",
    "    for i in range(-1, -len(dt_cols), -1):\n",
    "        if not df[dt_cols[i]].fillna(0).eq(0).all():\n",
    "            LAST_DATE_I = i\n",
    "            break\n",
    "    return LAST_DATE_I, dt_cols"
   ]
  },
  {
   "cell_type": "code",
   "execution_count": 9,
   "id": "recent-optimization",
   "metadata": {
    "execution": {
     "iopub.execute_input": "2021-09-16T12:21:59.981063Z",
     "iopub.status.busy": "2021-09-16T12:21:59.980465Z",
     "iopub.status.idle": "2021-09-16T12:22:00.335874Z",
     "shell.execute_reply": "2021-09-16T12:22:00.335097Z"
    },
    "papermill": {
     "duration": 0.387263,
     "end_time": "2021-09-16T12:22:00.336016",
     "exception": false,
     "start_time": "2021-09-16T12:21:59.948753",
     "status": "completed"
    },
    "tags": []
   },
   "outputs": [],
   "source": [
    "#hide\n",
    "COL_REGION = 'Country/Region'\n",
    "# Confirmed, Recovered, Deaths\n",
    "df = get_frame('confirmed')\n",
    "# dft_: timeseries, dfc_: today country agg\n",
    "dft_cases = df\n",
    "dft_deaths = get_frame('deaths')\n",
    "dft_recovered = get_frame('recovered')\n",
    "LAST_DATE_I, dt_cols = get_dates(df)"
   ]
  },
  {
   "cell_type": "code",
   "execution_count": 10,
   "id": "absolute-copper",
   "metadata": {
    "execution": {
     "iopub.execute_input": "2021-09-16T12:22:00.397930Z",
     "iopub.status.busy": "2021-09-16T12:22:00.397333Z",
     "iopub.status.idle": "2021-09-16T12:22:00.400087Z",
     "shell.execute_reply": "2021-09-16T12:22:00.399612Z"
    },
    "papermill": {
     "duration": 0.035868,
     "end_time": "2021-09-16T12:22:00.400210",
     "exception": false,
     "start_time": "2021-09-16T12:22:00.364342",
     "status": "completed"
    },
    "tags": []
   },
   "outputs": [],
   "source": [
    "#hide\n",
    "LAST_DATE_I, dt_cols = get_dates(df)\n",
    "dt_today =dt_cols[LAST_DATE_I]\n",
    "# dt_5day = dt_cols[LAST_DATE_I - 5]\n",
    "dt_yday = dt_cols[LAST_DATE_I - 1]"
   ]
  },
  {
   "cell_type": "code",
   "execution_count": 11,
   "id": "restricted-sheriff",
   "metadata": {
    "execution": {
     "iopub.execute_input": "2021-09-16T12:22:00.472259Z",
     "iopub.status.busy": "2021-09-16T12:22:00.471700Z",
     "iopub.status.idle": "2021-09-16T12:22:00.476432Z",
     "shell.execute_reply": "2021-09-16T12:22:00.475952Z"
    },
    "papermill": {
     "duration": 0.046388,
     "end_time": "2021-09-16T12:22:00.476557",
     "exception": false,
     "start_time": "2021-09-16T12:22:00.430169",
     "status": "completed"
    },
    "tags": []
   },
   "outputs": [],
   "source": [
    "#hide\n",
    "dfc_cases = dft_cases.groupby(COL_REGION)[dt_today].sum()\n",
    "dfc_deaths = dft_deaths.groupby(COL_REGION)[dt_today].sum()\n",
    "# dfp_cases = dft_cases.groupby(COL_REGION)[dt_5day].sum()\n",
    "# dfp_deaths = dft_deaths.groupby(COL_REGION)[dt_5day].sum()\n",
    "dfp_cases = dft_cases.groupby(COL_REGION)[dt_yday].sum()\n",
    "dfp_deaths = dft_deaths.groupby(COL_REGION)[dt_yday].sum()"
   ]
  },
  {
   "cell_type": "code",
   "execution_count": 12,
   "id": "deluxe-hepatitis",
   "metadata": {
    "execution": {
     "iopub.execute_input": "2021-09-16T12:22:00.540772Z",
     "iopub.status.busy": "2021-09-16T12:22:00.540291Z",
     "iopub.status.idle": "2021-09-16T12:22:00.543821Z",
     "shell.execute_reply": "2021-09-16T12:22:00.544257Z"
    },
    "papermill": {
     "duration": 0.039708,
     "end_time": "2021-09-16T12:22:00.544388",
     "exception": false,
     "start_time": "2021-09-16T12:22:00.504680",
     "status": "completed"
    },
    "tags": []
   },
   "outputs": [],
   "source": [
    "#hide\n",
    "df_table = (pd.DataFrame(dict(Cases = dfc_cases, Deaths = dfc_deaths, PCases = dfp_cases, PDeaths = dfp_deaths))\n",
    "            .sort_values(by = ['Cases','Deaths'], ascending = [False, False])\n",
    "            .reset_index())"
   ]
  },
  {
   "cell_type": "code",
   "execution_count": 13,
   "id": "educational-chancellor",
   "metadata": {
    "execution": {
     "iopub.execute_input": "2021-09-16T12:22:00.619104Z",
     "iopub.status.busy": "2021-09-16T12:22:00.618500Z",
     "iopub.status.idle": "2021-09-16T12:22:00.631334Z",
     "shell.execute_reply": "2021-09-16T12:22:00.630868Z"
    },
    "papermill": {
     "duration": 0.05839,
     "end_time": "2021-09-16T12:22:00.631447",
     "exception": false,
     "start_time": "2021-09-16T12:22:00.573057",
     "status": "completed"
    },
    "tags": []
   },
   "outputs": [
    {
     "data": {
      "text/html": [
       "<div>\n",
       "<style scoped>\n",
       "    .dataframe tbody tr th:only-of-type {\n",
       "        vertical-align: middle;\n",
       "    }\n",
       "\n",
       "    .dataframe tbody tr th {\n",
       "        vertical-align: top;\n",
       "    }\n",
       "\n",
       "    .dataframe thead th {\n",
       "        text-align: right;\n",
       "    }\n",
       "</style>\n",
       "<table border=\"1\" class=\"dataframe\">\n",
       "  <thead>\n",
       "    <tr style=\"text-align: right;\">\n",
       "      <th></th>\n",
       "      <th>Country/Region</th>\n",
       "      <th>Cases</th>\n",
       "      <th>Deaths</th>\n",
       "      <th>PCases</th>\n",
       "      <th>PDeaths</th>\n",
       "      <th>Cases (+)</th>\n",
       "      <th>Deaths (+)</th>\n",
       "      <th>Fatality Rate</th>\n",
       "      <th>Continent</th>\n",
       "    </tr>\n",
       "  </thead>\n",
       "  <tbody>\n",
       "    <tr>\n",
       "      <th>0</th>\n",
       "      <td>US</td>\n",
       "      <td>41627946</td>\n",
       "      <td>666607</td>\n",
       "      <td>41461662</td>\n",
       "      <td>663929</td>\n",
       "      <td>166284</td>\n",
       "      <td>2678</td>\n",
       "      <td>1.60</td>\n",
       "      <td>North America</td>\n",
       "    </tr>\n",
       "    <tr>\n",
       "      <th>1</th>\n",
       "      <td>India</td>\n",
       "      <td>33347325</td>\n",
       "      <td>443928</td>\n",
       "      <td>33316755</td>\n",
       "      <td>443497</td>\n",
       "      <td>30570</td>\n",
       "      <td>431</td>\n",
       "      <td>1.33</td>\n",
       "      <td>Asia</td>\n",
       "    </tr>\n",
       "    <tr>\n",
       "      <th>2</th>\n",
       "      <td>Brazil</td>\n",
       "      <td>21034610</td>\n",
       "      <td>588597</td>\n",
       "      <td>21019830</td>\n",
       "      <td>587797</td>\n",
       "      <td>14780</td>\n",
       "      <td>800</td>\n",
       "      <td>2.80</td>\n",
       "      <td>South America</td>\n",
       "    </tr>\n",
       "    <tr>\n",
       "      <th>3</th>\n",
       "      <td>United Kingdom</td>\n",
       "      <td>7346832</td>\n",
       "      <td>134975</td>\n",
       "      <td>7316931</td>\n",
       "      <td>134774</td>\n",
       "      <td>29901</td>\n",
       "      <td>201</td>\n",
       "      <td>1.84</td>\n",
       "      <td>Europe</td>\n",
       "    </tr>\n",
       "    <tr>\n",
       "      <th>4</th>\n",
       "      <td>Russia</td>\n",
       "      <td>7091368</td>\n",
       "      <td>191566</td>\n",
       "      <td>7072825</td>\n",
       "      <td>190793</td>\n",
       "      <td>18543</td>\n",
       "      <td>773</td>\n",
       "      <td>2.70</td>\n",
       "      <td>Europe</td>\n",
       "    </tr>\n",
       "  </tbody>\n",
       "</table>\n",
       "</div>"
      ],
      "text/plain": [
       "   Country/Region     Cases  Deaths    PCases  PDeaths  Cases (+)  Deaths (+)  \\\n",
       "0              US  41627946  666607  41461662   663929     166284        2678   \n",
       "1           India  33347325  443928  33316755   443497      30570         431   \n",
       "2          Brazil  21034610  588597  21019830   587797      14780         800   \n",
       "3  United Kingdom   7346832  134975   7316931   134774      29901         201   \n",
       "4          Russia   7091368  191566   7072825   190793      18543         773   \n",
       "\n",
       "   Fatality Rate      Continent  \n",
       "0           1.60  North America  \n",
       "1           1.33           Asia  \n",
       "2           2.80  South America  \n",
       "3           1.84         Europe  \n",
       "4           2.70         Europe  "
      ]
     },
     "execution_count": 13,
     "metadata": {},
     "output_type": "execute_result"
    }
   ],
   "source": [
    "#hide\n",
    "for c in 'Cases, Deaths'.split(', '):\n",
    "    df_table[f'{c} (+)'] = (df_table[c] - df_table[f'P{c}']).clip(0)\n",
    "    #Clip ça veut dire, les chiffres negatif sont interdit\n",
    "df_table['Fatality Rate'] = (100* df_table['Deaths']/ df_table['Cases']).round(2)\n",
    "df_table['Continent'] = df_table['Country/Region'].map(mapping['map.continent'])\n",
    "df_table.head(5)"
   ]
  },
  {
   "cell_type": "code",
   "execution_count": 14,
   "id": "aboriginal-bulgaria",
   "metadata": {
    "execution": {
     "iopub.execute_input": "2021-09-16T12:22:00.693901Z",
     "iopub.status.busy": "2021-09-16T12:22:00.693358Z",
     "iopub.status.idle": "2021-09-16T12:22:00.695079Z",
     "shell.execute_reply": "2021-09-16T12:22:00.695614Z"
    },
    "papermill": {
     "duration": 0.037,
     "end_time": "2021-09-16T12:22:00.695752",
     "exception": false,
     "start_time": "2021-09-16T12:22:00.658752",
     "status": "completed"
    },
    "tags": []
   },
   "outputs": [],
   "source": [
    "#hide\n",
    "#delete problematic countries from table\n",
    "df_table = df_table[~df_table['Country/Region'].isin(['Cape Verde', 'Cruise Ship', 'Kosovo'])]"
   ]
  },
  {
   "cell_type": "code",
   "execution_count": 15,
   "id": "fantastic-effect",
   "metadata": {
    "execution": {
     "iopub.execute_input": "2021-09-16T12:22:00.766228Z",
     "iopub.status.busy": "2021-09-16T12:22:00.765759Z",
     "iopub.status.idle": "2021-09-16T12:22:00.783307Z",
     "shell.execute_reply": "2021-09-16T12:22:00.782721Z"
    },
    "papermill": {
     "duration": 0.058532,
     "end_time": "2021-09-16T12:22:00.783424",
     "exception": false,
     "start_time": "2021-09-16T12:22:00.724892",
     "status": "completed"
    },
    "tags": []
   },
   "outputs": [
    {
     "data": {
      "text/html": [
       "<div>\n",
       "<style scoped>\n",
       "    .dataframe tbody tr th:only-of-type {\n",
       "        vertical-align: middle;\n",
       "    }\n",
       "\n",
       "    .dataframe tbody tr th {\n",
       "        vertical-align: top;\n",
       "    }\n",
       "\n",
       "    .dataframe thead th {\n",
       "        text-align: right;\n",
       "    }\n",
       "</style>\n",
       "<table border=\"1\" class=\"dataframe\">\n",
       "  <thead>\n",
       "    <tr style=\"text-align: right;\">\n",
       "      <th></th>\n",
       "      <th>Country/Region</th>\n",
       "      <th>Cases</th>\n",
       "      <th>Deaths</th>\n",
       "      <th>PCases</th>\n",
       "      <th>PDeaths</th>\n",
       "      <th>Cases (+)</th>\n",
       "      <th>Deaths (+)</th>\n",
       "      <th>Fatality Rate</th>\n",
       "      <th>Continent</th>\n",
       "    </tr>\n",
       "  </thead>\n",
       "  <tbody>\n",
       "    <tr>\n",
       "      <th>0</th>\n",
       "      <td>US</td>\n",
       "      <td>41627946</td>\n",
       "      <td>666607</td>\n",
       "      <td>41461662</td>\n",
       "      <td>663929</td>\n",
       "      <td>166284</td>\n",
       "      <td>2678</td>\n",
       "      <td>1.6</td>\n",
       "      <td>North America</td>\n",
       "    </tr>\n",
       "    <tr>\n",
       "      <th>1</th>\n",
       "      <td>India</td>\n",
       "      <td>33347325</td>\n",
       "      <td>443928</td>\n",
       "      <td>33316755</td>\n",
       "      <td>443497</td>\n",
       "      <td>30570</td>\n",
       "      <td>431</td>\n",
       "      <td>1.3</td>\n",
       "      <td>Asia</td>\n",
       "    </tr>\n",
       "    <tr>\n",
       "      <th>2</th>\n",
       "      <td>Brazil</td>\n",
       "      <td>21034610</td>\n",
       "      <td>588597</td>\n",
       "      <td>21019830</td>\n",
       "      <td>587797</td>\n",
       "      <td>14780</td>\n",
       "      <td>800</td>\n",
       "      <td>2.8</td>\n",
       "      <td>South America</td>\n",
       "    </tr>\n",
       "    <tr>\n",
       "      <th>3</th>\n",
       "      <td>United Kingdom</td>\n",
       "      <td>7346832</td>\n",
       "      <td>134975</td>\n",
       "      <td>7316931</td>\n",
       "      <td>134774</td>\n",
       "      <td>29901</td>\n",
       "      <td>201</td>\n",
       "      <td>1.8</td>\n",
       "      <td>Europe</td>\n",
       "    </tr>\n",
       "    <tr>\n",
       "      <th>4</th>\n",
       "      <td>Russia</td>\n",
       "      <td>7091368</td>\n",
       "      <td>191566</td>\n",
       "      <td>7072825</td>\n",
       "      <td>190793</td>\n",
       "      <td>18543</td>\n",
       "      <td>773</td>\n",
       "      <td>2.7</td>\n",
       "      <td>Europe</td>\n",
       "    </tr>\n",
       "  </tbody>\n",
       "</table>\n",
       "</div>"
      ],
      "text/plain": [
       "   Country/Region     Cases  Deaths    PCases  PDeaths  Cases (+)  Deaths (+)  \\\n",
       "0              US  41627946  666607  41461662   663929     166284        2678   \n",
       "1           India  33347325  443928  33316755   443497      30570         431   \n",
       "2          Brazil  21034610  588597  21019830   587797      14780         800   \n",
       "3  United Kingdom   7346832  134975   7316931   134774      29901         201   \n",
       "4          Russia   7091368  191566   7072825   190793      18543         773   \n",
       "\n",
       "   Fatality Rate      Continent  \n",
       "0            1.6  North America  \n",
       "1            1.3           Asia  \n",
       "2            2.8  South America  \n",
       "3            1.8         Europe  \n",
       "4            2.7         Europe  "
      ]
     },
     "execution_count": 15,
     "metadata": {},
     "output_type": "execute_result"
    }
   ],
   "source": [
    "#hide\n",
    "df_table = (pd.DataFrame(dict(Cases=dfc_cases, Deaths=dfc_deaths, PCases=dfp_cases, PDeaths=dfp_deaths))\n",
    "             .sort_values(by=['Cases', 'Deaths'], ascending=[False, False])\n",
    "             .reset_index())\n",
    "df_table.rename(columns={'index': 'Country/Region'}, inplace=True)\n",
    "for c in 'Cases, Deaths'.split(', '):\n",
    "    df_table[f'{c} (+)'] = (df_table[c] - df_table[f'P{c}']).clip(0)  # DATA BUG\n",
    "df_table['Fatality Rate'] = (100 * df_table['Deaths'] / df_table['Cases']).round(1)\n",
    "df_table['Continent'] = df_table['Country/Region'].map(mapping['map.continent'])\n",
    "df_table.head(5)"
   ]
  },
  {
   "cell_type": "code",
   "execution_count": 16,
   "id": "fewer-occasion",
   "metadata": {
    "execution": {
     "iopub.execute_input": "2021-09-16T12:22:00.846492Z",
     "iopub.status.busy": "2021-09-16T12:22:00.846042Z",
     "iopub.status.idle": "2021-09-16T12:22:00.848060Z",
     "shell.execute_reply": "2021-09-16T12:22:00.847721Z"
    },
    "papermill": {
     "duration": 0.035157,
     "end_time": "2021-09-16T12:22:00.848152",
     "exception": false,
     "start_time": "2021-09-16T12:22:00.812995",
     "status": "completed"
    },
    "tags": []
   },
   "outputs": [],
   "source": [
    "#hide\n",
    "#delete problematic countries from table\n",
    "df_table = df_table[~df_table['Country/Region'].isin(['Cape Verde', 'Cruise Ship', 'Kosovo'])]"
   ]
  },
  {
   "cell_type": "code",
   "execution_count": 17,
   "id": "related-center",
   "metadata": {
    "execution": {
     "iopub.execute_input": "2021-09-16T12:22:00.916875Z",
     "iopub.status.busy": "2021-09-16T12:22:00.916234Z",
     "iopub.status.idle": "2021-09-16T12:22:00.930375Z",
     "shell.execute_reply": "2021-09-16T12:22:00.929868Z"
    },
    "papermill": {
     "duration": 0.052544,
     "end_time": "2021-09-16T12:22:00.930503",
     "exception": false,
     "start_time": "2021-09-16T12:22:00.877959",
     "status": "completed"
    },
    "tags": []
   },
   "outputs": [],
   "source": [
    "#hide\n",
    "metrics = [df_table.columns[index] for index in [1,2,5,6]]\n",
    "# s_china = df_table[df_table['Country/Region'].eq('China')][metrics].sum().add_prefix('China ')\n",
    "s_us = df_table[df_table['Country/Region'].eq('US')][metrics].sum().add_prefix('US ')\n",
    "s_eu = df_table[df_table['Continent'].eq('Europe')][metrics].sum().add_prefix('EU ')\n",
    "s_ind = df_table[df_table['Country/Region'].eq('India')][metrics].sum().add_prefix('India ')\n",
    "summary = {'updated': pd.to_datetime(dt_today), 'since': pd.to_datetime(dt_yday)}\n",
    "summary = {'updated': pd.to_datetime(dt_today), 'since': pd.to_datetime(dt_yday)}\n",
    "summary = {**summary, **df_table[metrics].sum(), **s_ind, **s_us, **s_eu}"
   ]
  },
  {
   "cell_type": "code",
   "execution_count": 18,
   "id": "engaging-syndrome",
   "metadata": {
    "execution": {
     "iopub.execute_input": "2021-09-16T12:22:00.993615Z",
     "iopub.status.busy": "2021-09-16T12:22:00.993027Z",
     "iopub.status.idle": "2021-09-16T12:22:01.009502Z",
     "shell.execute_reply": "2021-09-16T12:22:01.008371Z"
    },
    "papermill": {
     "duration": 0.049883,
     "end_time": "2021-09-16T12:22:01.009625",
     "exception": false,
     "start_time": "2021-09-16T12:22:00.959742",
     "status": "completed"
    },
    "tags": []
   },
   "outputs": [],
   "source": [
    "#hide\n",
    "dft_ct_new_cases = dft_cases.groupby(COL_REGION)[dt_cols].sum().diff(axis=1).fillna(0).astype(int)"
   ]
  },
  {
   "cell_type": "code",
   "execution_count": 19,
   "id": "neutral-assignment",
   "metadata": {
    "execution": {
     "iopub.execute_input": "2021-09-16T12:22:01.073366Z",
     "iopub.status.busy": "2021-09-16T12:22:01.072774Z",
     "iopub.status.idle": "2021-09-16T12:22:01.074836Z",
     "shell.execute_reply": "2021-09-16T12:22:01.075278Z"
    },
    "papermill": {
     "duration": 0.036814,
     "end_time": "2021-09-16T12:22:01.075419",
     "exception": false,
     "start_time": "2021-09-16T12:22:01.038605",
     "status": "completed"
    },
    "tags": []
   },
   "outputs": [],
   "source": [
    "#hide\n",
    "everydaycases = dft_ct_new_cases.cumsum(axis=1)"
   ]
  },
  {
   "cell_type": "code",
   "execution_count": 20,
   "id": "parliamentary-calgary",
   "metadata": {
    "execution": {
     "iopub.execute_input": "2021-09-16T12:22:01.136111Z",
     "iopub.status.busy": "2021-09-16T12:22:01.135516Z",
     "iopub.status.idle": "2021-09-16T12:22:01.785457Z",
     "shell.execute_reply": "2021-09-16T12:22:01.784577Z"
    },
    "papermill": {
     "duration": 0.682793,
     "end_time": "2021-09-16T12:22:01.785676",
     "exception": false,
     "start_time": "2021-09-16T12:22:01.102883",
     "status": "completed"
    },
    "tags": []
   },
   "outputs": [],
   "source": [
    "#hide\n",
    "import pandas as pd\n",
    "import matplotlib.pyplot as plt\n",
    "import matplotlib.ticker as ticker\n",
    "import matplotlib.animation as animation\n",
    "from IPython.display import HTML"
   ]
  },
  {
   "cell_type": "code",
   "execution_count": 21,
   "id": "lasting-extraction",
   "metadata": {
    "execution": {
     "iopub.execute_input": "2021-09-16T12:22:01.857635Z",
     "iopub.status.busy": "2021-09-16T12:22:01.857071Z",
     "iopub.status.idle": "2021-09-16T12:22:01.863886Z",
     "shell.execute_reply": "2021-09-16T12:22:01.863433Z"
    },
    "papermill": {
     "duration": 0.046635,
     "end_time": "2021-09-16T12:22:01.863991",
     "exception": false,
     "start_time": "2021-09-16T12:22:01.817356",
     "status": "completed"
    },
    "tags": []
   },
   "outputs": [],
   "source": [
    "#hide\n",
    "t = everydaycases.stack()"
   ]
  },
  {
   "cell_type": "code",
   "execution_count": 22,
   "id": "premier-sleeve",
   "metadata": {
    "execution": {
     "iopub.execute_input": "2021-09-16T12:22:01.933780Z",
     "iopub.status.busy": "2021-09-16T12:22:01.933182Z",
     "iopub.status.idle": "2021-09-16T12:22:01.944716Z",
     "shell.execute_reply": "2021-09-16T12:22:01.944319Z"
    },
    "papermill": {
     "duration": 0.048868,
     "end_time": "2021-09-16T12:22:01.944821",
     "exception": false,
     "start_time": "2021-09-16T12:22:01.895953",
     "status": "completed"
    },
    "tags": []
   },
   "outputs": [],
   "source": [
    "#hide\n",
    "g = t.reset_index(['Country/Region'])"
   ]
  },
  {
   "cell_type": "code",
   "execution_count": 23,
   "id": "distributed-pittsburgh",
   "metadata": {
    "execution": {
     "iopub.execute_input": "2021-09-16T12:22:02.009005Z",
     "iopub.status.busy": "2021-09-16T12:22:02.008407Z",
     "iopub.status.idle": "2021-09-16T12:22:02.010487Z",
     "shell.execute_reply": "2021-09-16T12:22:02.010994Z"
    },
    "papermill": {
     "duration": 0.037367,
     "end_time": "2021-09-16T12:22:02.011126",
     "exception": false,
     "start_time": "2021-09-16T12:22:01.973759",
     "status": "completed"
    },
    "tags": []
   },
   "outputs": [],
   "source": [
    "#hide\n",
    "g.index.name = 'date'"
   ]
  },
  {
   "cell_type": "code",
   "execution_count": 24,
   "id": "naked-donor",
   "metadata": {
    "execution": {
     "iopub.execute_input": "2021-09-16T12:22:02.076901Z",
     "iopub.status.busy": "2021-09-16T12:22:02.076403Z",
     "iopub.status.idle": "2021-09-16T12:22:02.080795Z",
     "shell.execute_reply": "2021-09-16T12:22:02.081227Z"
    },
    "papermill": {
     "duration": 0.040739,
     "end_time": "2021-09-16T12:22:02.081371",
     "exception": false,
     "start_time": "2021-09-16T12:22:02.040632",
     "status": "completed"
    },
    "tags": []
   },
   "outputs": [],
   "source": [
    "# #hide\n",
    "# g = g.reset_index(['date'])"
   ]
  },
  {
   "cell_type": "code",
   "execution_count": 25,
   "id": "incomplete-mustang",
   "metadata": {
    "execution": {
     "iopub.execute_input": "2021-09-16T12:22:02.148024Z",
     "iopub.status.busy": "2021-09-16T12:22:02.147532Z",
     "iopub.status.idle": "2021-09-16T12:22:02.150087Z",
     "shell.execute_reply": "2021-09-16T12:22:02.150691Z"
    },
    "papermill": {
     "duration": 0.038171,
     "end_time": "2021-09-16T12:22:02.150840",
     "exception": false,
     "start_time": "2021-09-16T12:22:02.112669",
     "status": "completed"
    },
    "tags": []
   },
   "outputs": [],
   "source": [
    "#hide\n",
    "# g.head()"
   ]
  },
  {
   "cell_type": "code",
   "execution_count": 26,
   "id": "specific-kruger",
   "metadata": {
    "execution": {
     "iopub.execute_input": "2021-09-16T12:22:02.212625Z",
     "iopub.status.busy": "2021-09-16T12:22:02.212044Z",
     "iopub.status.idle": "2021-09-16T12:22:02.214422Z",
     "shell.execute_reply": "2021-09-16T12:22:02.213953Z"
    },
    "papermill": {
     "duration": 0.03469,
     "end_time": "2021-09-16T12:22:02.214540",
     "exception": false,
     "start_time": "2021-09-16T12:22:02.179850",
     "status": "completed"
    },
    "tags": []
   },
   "outputs": [],
   "source": [
    "#hide\n",
    "# g.columns = ['date','country','cases']"
   ]
  },
  {
   "cell_type": "code",
   "execution_count": 27,
   "id": "tender-conversion",
   "metadata": {
    "execution": {
     "iopub.execute_input": "2021-09-16T12:22:02.276463Z",
     "iopub.status.busy": "2021-09-16T12:22:02.275861Z",
     "iopub.status.idle": "2021-09-16T12:22:02.278021Z",
     "shell.execute_reply": "2021-09-16T12:22:02.277530Z"
    },
    "papermill": {
     "duration": 0.03612,
     "end_time": "2021-09-16T12:22:02.278122",
     "exception": false,
     "start_time": "2021-09-16T12:22:02.242002",
     "status": "completed"
    },
    "tags": []
   },
   "outputs": [],
   "source": [
    "#hide\n",
    "# g['continent'] = g.country"
   ]
  },
  {
   "cell_type": "code",
   "execution_count": 28,
   "id": "substantial-wilderness",
   "metadata": {
    "execution": {
     "iopub.execute_input": "2021-09-16T12:22:02.339443Z",
     "iopub.status.busy": "2021-09-16T12:22:02.338806Z",
     "iopub.status.idle": "2021-09-16T12:22:02.341418Z",
     "shell.execute_reply": "2021-09-16T12:22:02.341884Z"
    },
    "papermill": {
     "duration": 0.035513,
     "end_time": "2021-09-16T12:22:02.342013",
     "exception": false,
     "start_time": "2021-09-16T12:22:02.306500",
     "status": "completed"
    },
    "tags": []
   },
   "outputs": [],
   "source": [
    "#hide\n",
    "# cols = list(g.columns.values)"
   ]
  },
  {
   "cell_type": "code",
   "execution_count": 29,
   "id": "solved-farming",
   "metadata": {
    "execution": {
     "iopub.execute_input": "2021-09-16T12:22:02.407696Z",
     "iopub.status.busy": "2021-09-16T12:22:02.407093Z",
     "iopub.status.idle": "2021-09-16T12:22:02.409376Z",
     "shell.execute_reply": "2021-09-16T12:22:02.408913Z"
    },
    "papermill": {
     "duration": 0.037378,
     "end_time": "2021-09-16T12:22:02.409496",
     "exception": false,
     "start_time": "2021-09-16T12:22:02.372118",
     "status": "completed"
    },
    "tags": []
   },
   "outputs": [],
   "source": [
    "#hide\n",
    "# cols.insert(0, cols.pop())"
   ]
  },
  {
   "cell_type": "code",
   "execution_count": 30,
   "id": "executed-adoption",
   "metadata": {
    "execution": {
     "iopub.execute_input": "2021-09-16T12:22:02.477108Z",
     "iopub.status.busy": "2021-09-16T12:22:02.476492Z",
     "iopub.status.idle": "2021-09-16T12:22:02.479128Z",
     "shell.execute_reply": "2021-09-16T12:22:02.478708Z"
    },
    "papermill": {
     "duration": 0.037344,
     "end_time": "2021-09-16T12:22:02.479231",
     "exception": false,
     "start_time": "2021-09-16T12:22:02.441887",
     "status": "completed"
    },
    "tags": []
   },
   "outputs": [],
   "source": [
    "#hide\n",
    "# g = g[cols]"
   ]
  },
  {
   "cell_type": "code",
   "execution_count": 31,
   "id": "subject-dublin",
   "metadata": {
    "execution": {
     "iopub.execute_input": "2021-09-16T12:22:02.546704Z",
     "iopub.status.busy": "2021-09-16T12:22:02.545505Z",
     "iopub.status.idle": "2021-09-16T12:22:02.549479Z",
     "shell.execute_reply": "2021-09-16T12:22:02.549955Z"
    },
    "papermill": {
     "duration": 0.040617,
     "end_time": "2021-09-16T12:22:02.550089",
     "exception": false,
     "start_time": "2021-09-16T12:22:02.509472",
     "status": "completed"
    },
    "tags": []
   },
   "outputs": [],
   "source": [
    "#hide\n",
    "# g['continent'] = g['continent'].map(mapping['map.continent'])"
   ]
  },
  {
   "cell_type": "code",
   "execution_count": 32,
   "id": "freelance-scout",
   "metadata": {
    "execution": {
     "iopub.execute_input": "2021-09-16T12:22:02.618199Z",
     "iopub.status.busy": "2021-09-16T12:22:02.617606Z",
     "iopub.status.idle": "2021-09-16T12:22:02.620496Z",
     "shell.execute_reply": "2021-09-16T12:22:02.620021Z"
    },
    "papermill": {
     "duration": 0.038053,
     "end_time": "2021-09-16T12:22:02.620622",
     "exception": false,
     "start_time": "2021-09-16T12:22:02.582569",
     "status": "completed"
    },
    "tags": []
   },
   "outputs": [],
   "source": [
    "#hide\n",
    "# g.head()"
   ]
  },
  {
   "cell_type": "code",
   "execution_count": 33,
   "id": "limited-engine",
   "metadata": {
    "execution": {
     "iopub.execute_input": "2021-09-16T12:22:02.686313Z",
     "iopub.status.busy": "2021-09-16T12:22:02.685735Z",
     "iopub.status.idle": "2021-09-16T12:22:02.688131Z",
     "shell.execute_reply": "2021-09-16T12:22:02.688604Z"
    },
    "papermill": {
     "duration": 0.03713,
     "end_time": "2021-09-16T12:22:02.688748",
     "exception": false,
     "start_time": "2021-09-16T12:22:02.651618",
     "status": "completed"
    },
    "tags": []
   },
   "outputs": [],
   "source": [
    "# hide\n",
    "# g['date'] = g['date'].astype('datetime64[ns]')"
   ]
  },
  {
   "cell_type": "code",
   "execution_count": 34,
   "id": "sophisticated-supervisor",
   "metadata": {
    "execution": {
     "iopub.execute_input": "2021-09-16T12:22:02.756981Z",
     "iopub.status.busy": "2021-09-16T12:22:02.756414Z",
     "iopub.status.idle": "2021-09-16T12:22:02.758940Z",
     "shell.execute_reply": "2021-09-16T12:22:02.759504Z"
    },
    "papermill": {
     "duration": 0.038176,
     "end_time": "2021-09-16T12:22:02.759650",
     "exception": false,
     "start_time": "2021-09-16T12:22:02.721474",
     "status": "completed"
    },
    "tags": []
   },
   "outputs": [],
   "source": [
    "#hide\n",
    "# g['date'] = g.date.dt.dayofyear"
   ]
  },
  {
   "cell_type": "code",
   "execution_count": 35,
   "id": "inside-dubai",
   "metadata": {
    "execution": {
     "iopub.execute_input": "2021-09-16T12:22:02.823874Z",
     "iopub.status.busy": "2021-09-16T12:22:02.823322Z",
     "iopub.status.idle": "2021-09-16T12:22:02.825816Z",
     "shell.execute_reply": "2021-09-16T12:22:02.825369Z"
    },
    "papermill": {
     "duration": 0.037136,
     "end_time": "2021-09-16T12:22:02.825931",
     "exception": false,
     "start_time": "2021-09-16T12:22:02.788795",
     "status": "completed"
    },
    "tags": []
   },
   "outputs": [],
   "source": [
    "#hide\n",
    "# g = g.rename(columns= {'continent':'group','country':'name','cases':'value'})"
   ]
  },
  {
   "cell_type": "code",
   "execution_count": 36,
   "id": "fleet-motorcycle",
   "metadata": {
    "execution": {
     "iopub.execute_input": "2021-09-16T12:22:02.892487Z",
     "iopub.status.busy": "2021-09-16T12:22:02.891897Z",
     "iopub.status.idle": "2021-09-16T12:22:02.894323Z",
     "shell.execute_reply": "2021-09-16T12:22:02.893823Z"
    },
    "papermill": {
     "duration": 0.037295,
     "end_time": "2021-09-16T12:22:02.894450",
     "exception": false,
     "start_time": "2021-09-16T12:22:02.857155",
     "status": "completed"
    },
    "tags": []
   },
   "outputs": [],
   "source": [
    "#hide\n",
    "# cols = ['name','group','day','value']"
   ]
  },
  {
   "cell_type": "code",
   "execution_count": 37,
   "id": "continued-sleeping",
   "metadata": {
    "execution": {
     "iopub.execute_input": "2021-09-16T12:22:02.965080Z",
     "iopub.status.busy": "2021-09-16T12:22:02.964464Z",
     "iopub.status.idle": "2021-09-16T12:22:02.966819Z",
     "shell.execute_reply": "2021-09-16T12:22:02.967285Z"
    },
    "papermill": {
     "duration": 0.039972,
     "end_time": "2021-09-16T12:22:02.967424",
     "exception": false,
     "start_time": "2021-09-16T12:22:02.927452",
     "status": "completed"
    },
    "tags": []
   },
   "outputs": [],
   "source": [
    "#hide\n",
    "# g.rename(columns= {'date':'day'},inplace = True)"
   ]
  },
  {
   "cell_type": "code",
   "execution_count": 38,
   "id": "major-fight",
   "metadata": {
    "execution": {
     "iopub.execute_input": "2021-09-16T12:22:03.036492Z",
     "iopub.status.busy": "2021-09-16T12:22:03.035899Z",
     "iopub.status.idle": "2021-09-16T12:22:03.038314Z",
     "shell.execute_reply": "2021-09-16T12:22:03.038768Z"
    },
    "papermill": {
     "duration": 0.040189,
     "end_time": "2021-09-16T12:22:03.038924",
     "exception": false,
     "start_time": "2021-09-16T12:22:02.998735",
     "status": "completed"
    },
    "tags": []
   },
   "outputs": [],
   "source": [
    "#hide\n",
    "# g = g[cols]"
   ]
  },
  {
   "cell_type": "code",
   "execution_count": 39,
   "id": "structured-mobile",
   "metadata": {
    "execution": {
     "iopub.execute_input": "2021-09-16T12:22:03.108894Z",
     "iopub.status.busy": "2021-09-16T12:22:03.108287Z",
     "iopub.status.idle": "2021-09-16T12:22:03.110882Z",
     "shell.execute_reply": "2021-09-16T12:22:03.110362Z"
    },
    "papermill": {
     "duration": 0.040122,
     "end_time": "2021-09-16T12:22:03.111002",
     "exception": false,
     "start_time": "2021-09-16T12:22:03.070880",
     "status": "completed"
    },
    "tags": []
   },
   "outputs": [],
   "source": [
    "# #hide\n",
    "# g = g[g.group.notna()]"
   ]
  },
  {
   "cell_type": "code",
   "execution_count": 40,
   "id": "determined-closing",
   "metadata": {
    "execution": {
     "iopub.execute_input": "2021-09-16T12:22:03.180198Z",
     "iopub.status.busy": "2021-09-16T12:22:03.179579Z",
     "iopub.status.idle": "2021-09-16T12:22:03.181921Z",
     "shell.execute_reply": "2021-09-16T12:22:03.182455Z"
    },
    "papermill": {
     "duration": 0.038717,
     "end_time": "2021-09-16T12:22:03.182620",
     "exception": false,
     "start_time": "2021-09-16T12:22:03.143903",
     "status": "completed"
    },
    "tags": []
   },
   "outputs": [],
   "source": [
    "# #hide\n",
    "# colors = dict(zip(\n",
    "#     [\"Oceania\", \"Europe\", \"Asia\", \"South America\", \"Middle East\", \"North America\", \"Africa\"],\n",
    "#     [\"#adb0ff\", \"#ffb3ff\", \"#90d595\", \"#e48381\", \"#aafbff\", \"#f7bb5f\", \"#eafb50\"]\n",
    "# ))\n",
    "# group_lk = g.set_index('name')['group'].to_dict()"
   ]
  },
  {
   "cell_type": "code",
   "execution_count": null,
   "id": "gross-drinking",
   "metadata": {
    "papermill": {
     "duration": 0.027203,
     "end_time": "2021-09-16T12:22:03.239904",
     "exception": false,
     "start_time": "2021-09-16T12:22:03.212701",
     "status": "completed"
    },
    "tags": []
   },
   "outputs": [],
   "source": []
  },
  {
   "cell_type": "code",
   "execution_count": 41,
   "id": "subject-macintosh",
   "metadata": {
    "execution": {
     "iopub.execute_input": "2021-09-16T12:22:03.300166Z",
     "iopub.status.busy": "2021-09-16T12:22:03.299670Z",
     "iopub.status.idle": "2021-09-16T12:22:03.301920Z",
     "shell.execute_reply": "2021-09-16T12:22:03.301437Z"
    },
    "papermill": {
     "duration": 0.034349,
     "end_time": "2021-09-16T12:22:03.302007",
     "exception": false,
     "start_time": "2021-09-16T12:22:03.267658",
     "status": "completed"
    },
    "tags": []
   },
   "outputs": [],
   "source": [
    "# #hide\n",
    "# fig, ax = plt.subplots(figsize=(15, 8))\n",
    "\n",
    "# def draw_barchart(current_day):\n",
    "#     dff = g[g['day'].eq(current_day)].sort_values(by='value', ascending=True).tail(10)\n",
    "#     ax.clear()\n",
    "#     ax.barh(dff['name'], dff['value'], color=[colors[group_lk[x]] for x in dff['name']])\n",
    "#     dx = dff['value'].max() / 200\n",
    "    \n",
    "#     for i, (value, name) in enumerate(zip(dff['value'], dff['name'])):\n",
    "#         ax.text(value-dx, i,     name,           size=14, weight=600, ha='right', va='bottom')\n",
    "#         ax.text(value-dx, i-.25, group_lk[name], size=10, color='#444444', ha='right', va='baseline')\n",
    "#         ax.text(value+dx, i,     f'{value:,.0f}',  size=14, ha='left',  va='center')\n",
    "#     ax.text(1, 0.4, current_day, transform=ax.transAxes, color='#777777', size=46, ha='right', weight=800)\n",
    "#     ax.text(0, 1.06, 'Population (thousands)', transform=ax.transAxes, size=12, color='#777777')\n",
    "#     ax.xaxis.set_major_formatter(ticker.StrMethodFormatter('{x:,.0f}'))\n",
    "#     ax.xaxis.set_ticks_position('top')\n",
    "#     ax.tick_params(axis='x', colors='#777777', labelsize=12)\n",
    "#     ax.set_yticks([])\n",
    "#     ax.margins(0, 0.01)\n",
    "#     ax.grid(which='major', axis='x', linestyle='-')\n",
    "#     ax.set_axisbelow(True)\n",
    "    \n",
    "#     ax.text(0, 1.15, 'Coronavirus',\n",
    "#             transform=ax.transAxes, size=24, weight=600, ha='left', va='top')\n",
    "# #     ax.text(1, 0, 'by @pratapvardhan; credit @jburnmurdoch', transform=ax.transAxes, color='#777777', ha='right',\n",
    "# #             bbox=dict(facecolor='white', alpha=0.8, edgecolor='white'))\n",
    "#     plt.box(False)"
   ]
  },
  {
   "cell_type": "code",
   "execution_count": 42,
   "id": "sexual-wages",
   "metadata": {
    "execution": {
     "iopub.execute_input": "2021-09-16T12:22:03.360240Z",
     "iopub.status.busy": "2021-09-16T12:22:03.359642Z",
     "iopub.status.idle": "2021-09-16T12:22:03.361567Z",
     "shell.execute_reply": "2021-09-16T12:22:03.361946Z"
    },
    "papermill": {
     "duration": 0.033084,
     "end_time": "2021-09-16T12:22:03.362056",
     "exception": false,
     "start_time": "2021-09-16T12:22:03.328972",
     "status": "completed"
    },
    "tags": []
   },
   "outputs": [],
   "source": [
    "# #hide_input\n",
    "# fig, ax = plt.subplots(figsize=(15, 8))\n",
    "# animator = animation.FuncAnimation(fig, draw_barchart, frames=range(g.day.values.min(), g.day.values.max()))\n",
    "# HTML(animator.to_jshtml())\n",
    "# # or use animator.to_html5_video() or animator.save() "
   ]
  },
  {
   "cell_type": "code",
   "execution_count": null,
   "id": "australian-container",
   "metadata": {
    "papermill": {
     "duration": 0.028308,
     "end_time": "2021-09-16T12:22:03.418157",
     "exception": false,
     "start_time": "2021-09-16T12:22:03.389849",
     "status": "completed"
    },
    "tags": []
   },
   "outputs": [],
   "source": []
  },
  {
   "cell_type": "code",
   "execution_count": null,
   "id": "mediterranean-pontiac",
   "metadata": {
    "papermill": {
     "duration": 0.028575,
     "end_time": "2021-09-16T12:22:03.472859",
     "exception": false,
     "start_time": "2021-09-16T12:22:03.444284",
     "status": "completed"
    },
    "tags": []
   },
   "outputs": [],
   "source": []
  },
  {
   "cell_type": "code",
   "execution_count": null,
   "id": "aging-legislature",
   "metadata": {
    "papermill": {
     "duration": 0.031172,
     "end_time": "2021-09-16T12:22:03.535929",
     "exception": false,
     "start_time": "2021-09-16T12:22:03.504757",
     "status": "completed"
    },
    "tags": []
   },
   "outputs": [],
   "source": []
  }
 ],
 "metadata": {
  "kernelspec": {
   "display_name": "Python 3",
   "language": "python",
   "name": "python3"
  },
  "language_info": {
   "codemirror_mode": {
    "name": "ipython",
    "version": 3
   },
   "file_extension": ".py",
   "mimetype": "text/x-python",
   "name": "python",
   "nbconvert_exporter": "python",
   "pygments_lexer": "ipython3",
   "version": "3.6.15"
  },
  "papermill": {
   "duration": 5.969598,
   "end_time": "2021-09-16T12:22:03.878930",
   "environment_variables": {},
   "exception": null,
   "input_path": "2020-03-21-covid19exp.ipynb",
   "output_path": "2020-03-21-covid19exp.ipynb",
   "parameters": {},
   "start_time": "2021-09-16T12:21:57.909332",
   "version": "2.0.0"
  }
 },
 "nbformat": 4,
 "nbformat_minor": 5
}