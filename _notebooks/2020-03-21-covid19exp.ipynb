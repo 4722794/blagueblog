{
 "cells": [
  {
   "cell_type": "markdown",
   "id": "muslim-click",
   "metadata": {
    "papermill": {
     "duration": 0.037719,
     "end_time": "2021-11-15T00:24:40.289320",
     "exception": false,
     "start_time": "2021-11-15T00:24:40.251601",
     "status": "completed"
    },
    "tags": []
   },
   "source": [
    "# COVID-19 Case Race\n",
    "> A race chart to see rising cases around the world\n",
    "\n",
    "- author: Hargun Oberoi\n",
    "- image: images/covid-overview.png\n",
    "- hide: false\n",
    "- badges: false"
   ]
  },
  {
   "cell_type": "code",
   "execution_count": 1,
   "id": "proof-material",
   "metadata": {
    "execution": {
     "iopub.execute_input": "2021-11-15T00:24:40.361924Z",
     "iopub.status.busy": "2021-11-15T00:24:40.361362Z",
     "iopub.status.idle": "2021-11-15T00:24:40.696338Z",
     "shell.execute_reply": "2021-11-15T00:24:40.695782Z"
    },
    "papermill": {
     "duration": 0.374946,
     "end_time": "2021-11-15T00:24:40.696517",
     "exception": false,
     "start_time": "2021-11-15T00:24:40.321571",
     "status": "completed"
    },
    "tags": []
   },
   "outputs": [],
   "source": [
    "#hide\n",
    "import numpy as np\n",
    "import pandas as pd\n",
    "from jinja2 import Template\n",
    "from IPython.display import HTML"
   ]
  },
  {
   "cell_type": "code",
   "execution_count": 2,
   "id": "developed-terminology",
   "metadata": {
    "execution": {
     "iopub.execute_input": "2021-11-15T00:24:40.766846Z",
     "iopub.status.busy": "2021-11-15T00:24:40.766308Z",
     "iopub.status.idle": "2021-11-15T00:24:40.768273Z",
     "shell.execute_reply": "2021-11-15T00:24:40.768823Z"
    },
    "papermill": {
     "duration": 0.038447,
     "end_time": "2021-11-15T00:24:40.768966",
     "exception": false,
     "start_time": "2021-11-15T00:24:40.730519",
     "status": "completed"
    },
    "tags": []
   },
   "outputs": [],
   "source": [
    "#hide\n",
    "\n",
    "# FETCH\n",
    "base_url = 'https://raw.githubusercontent.com/pratapvardhan/notebooks/master/covid19/'\n",
    "paths = {\n",
    "    'mapping': base_url + 'mapping_countries.csv',\n",
    "    'overview': base_url + 'overview.tpl'\n",
    "}"
   ]
  },
  {
   "cell_type": "code",
   "execution_count": 3,
   "id": "dynamic-saver",
   "metadata": {
    "execution": {
     "iopub.execute_input": "2021-11-15T00:24:40.842581Z",
     "iopub.status.busy": "2021-11-15T00:24:40.840533Z",
     "iopub.status.idle": "2021-11-15T00:24:40.845199Z",
     "shell.execute_reply": "2021-11-15T00:24:40.845709Z"
    },
    "papermill": {
     "duration": 0.045084,
     "end_time": "2021-11-15T00:24:40.845833",
     "exception": false,
     "start_time": "2021-11-15T00:24:40.800749",
     "status": "completed"
    },
    "tags": []
   },
   "outputs": [
    {
     "data": {
      "text/plain": [
       "'https://raw.githubusercontent.com/pratapvardhan/notebooks/master/covid19/mapping_countries.csv'"
      ]
     },
     "execution_count": 3,
     "metadata": {},
     "output_type": "execute_result"
    }
   ],
   "source": [
    "#hide\n",
    "paths['mapping']"
   ]
  },
  {
   "cell_type": "code",
   "execution_count": 4,
   "id": "urban-software",
   "metadata": {
    "execution": {
     "iopub.execute_input": "2021-11-15T00:24:40.914071Z",
     "iopub.status.busy": "2021-11-15T00:24:40.913549Z",
     "iopub.status.idle": "2021-11-15T00:24:40.915775Z",
     "shell.execute_reply": "2021-11-15T00:24:40.915332Z"
    },
    "papermill": {
     "duration": 0.038621,
     "end_time": "2021-11-15T00:24:40.915876",
     "exception": false,
     "start_time": "2021-11-15T00:24:40.877255",
     "status": "completed"
    },
    "tags": []
   },
   "outputs": [],
   "source": [
    "#hide\n",
    "def get_mappings(url):\n",
    "    df = pd.read_csv(url)\n",
    "    return {\n",
    "        'df': df,\n",
    "        'replace.country': dict(df.dropna(subset=['Name']).set_index('Country')['Name']),\n",
    "        'map.continent': dict(df.set_index('Name')['Continent'])\n",
    "    }"
   ]
  },
  {
   "cell_type": "code",
   "execution_count": 5,
   "id": "intimate-machinery",
   "metadata": {
    "execution": {
     "iopub.execute_input": "2021-11-15T00:24:40.986419Z",
     "iopub.status.busy": "2021-11-15T00:24:40.985770Z",
     "iopub.status.idle": "2021-11-15T00:24:41.017897Z",
     "shell.execute_reply": "2021-11-15T00:24:41.018316Z"
    },
    "papermill": {
     "duration": 0.069303,
     "end_time": "2021-11-15T00:24:41.018434",
     "exception": false,
     "start_time": "2021-11-15T00:24:40.949131",
     "status": "completed"
    },
    "tags": []
   },
   "outputs": [],
   "source": [
    "#hide\n",
    "mapping = get_mappings(paths['mapping'])"
   ]
  },
  {
   "cell_type": "code",
   "execution_count": 6,
   "id": "certified-tactics",
   "metadata": {
    "execution": {
     "iopub.execute_input": "2021-11-15T00:24:41.086320Z",
     "iopub.status.busy": "2021-11-15T00:24:41.085612Z",
     "iopub.status.idle": "2021-11-15T00:24:41.087792Z",
     "shell.execute_reply": "2021-11-15T00:24:41.088351Z"
    },
    "papermill": {
     "duration": 0.038785,
     "end_time": "2021-11-15T00:24:41.088500",
     "exception": false,
     "start_time": "2021-11-15T00:24:41.049715",
     "status": "completed"
    },
    "tags": []
   },
   "outputs": [],
   "source": [
    "#hide\n",
    "def get_template(path):\n",
    "    from urllib.parse import urlparse\n",
    "    if bool(urlparse(path).netloc):\n",
    "        from urllib.request import urlopen\n",
    "        return urlopen(path).read().decode('utf8')\n",
    "    return open(path).read()"
   ]
  },
  {
   "cell_type": "code",
   "execution_count": 7,
   "id": "realistic-blast",
   "metadata": {
    "execution": {
     "iopub.execute_input": "2021-11-15T00:24:41.157803Z",
     "iopub.status.busy": "2021-11-15T00:24:41.157251Z",
     "iopub.status.idle": "2021-11-15T00:24:41.159592Z",
     "shell.execute_reply": "2021-11-15T00:24:41.159073Z"
    },
    "papermill": {
     "duration": 0.039556,
     "end_time": "2021-11-15T00:24:41.159701",
     "exception": false,
     "start_time": "2021-11-15T00:24:41.120145",
     "status": "completed"
    },
    "tags": []
   },
   "outputs": [],
   "source": [
    "#hide\n",
    "def get_frame(name):\n",
    "    url = (\n",
    "        'https://raw.githubusercontent.com/CSSEGISandData/COVID-19/master/csse_covid_19_data/'\n",
    "        f'csse_covid_19_time_series/time_series_covid19_{name}_global.csv')\n",
    "    df = pd.read_csv(url)\n",
    "    # rename countries\n",
    "    df['Country/Region'] = df['Country/Region'].replace(mapping['replace.country'])\n",
    "    return df"
   ]
  },
  {
   "cell_type": "code",
   "execution_count": 8,
   "id": "affiliated-characterization",
   "metadata": {
    "execution": {
     "iopub.execute_input": "2021-11-15T00:24:41.231389Z",
     "iopub.status.busy": "2021-11-15T00:24:41.230666Z",
     "iopub.status.idle": "2021-11-15T00:24:41.232532Z",
     "shell.execute_reply": "2021-11-15T00:24:41.232991Z"
    },
    "papermill": {
     "duration": 0.041481,
     "end_time": "2021-11-15T00:24:41.233239",
     "exception": false,
     "start_time": "2021-11-15T00:24:41.191758",
     "status": "completed"
    },
    "tags": []
   },
   "outputs": [],
   "source": [
    "#hide\n",
    "def get_dates(df):\n",
    "    dt_cols = df.columns[~df.columns.isin(['Province/State', 'Country/Region', 'Lat', 'Long'])]\n",
    "    LAST_DATE_I = -1\n",
    "    # sometimes last column may be empty, then go backwards\n",
    "    for i in range(-1, -len(dt_cols), -1):\n",
    "        if not df[dt_cols[i]].fillna(0).eq(0).all():\n",
    "            LAST_DATE_I = i\n",
    "            break\n",
    "    return LAST_DATE_I, dt_cols"
   ]
  },
  {
   "cell_type": "code",
   "execution_count": 9,
   "id": "recent-optimization",
   "metadata": {
    "execution": {
     "iopub.execute_input": "2021-11-15T00:24:41.302529Z",
     "iopub.status.busy": "2021-11-15T00:24:41.301855Z",
     "iopub.status.idle": "2021-11-15T00:24:41.623825Z",
     "shell.execute_reply": "2021-11-15T00:24:41.623355Z"
    },
    "papermill": {
     "duration": 0.359385,
     "end_time": "2021-11-15T00:24:41.623949",
     "exception": false,
     "start_time": "2021-11-15T00:24:41.264564",
     "status": "completed"
    },
    "tags": []
   },
   "outputs": [],
   "source": [
    "#hide\n",
    "COL_REGION = 'Country/Region'\n",
    "# Confirmed, Recovered, Deaths\n",
    "df = get_frame('confirmed')\n",
    "# dft_: timeseries, dfc_: today country agg\n",
    "dft_cases = df\n",
    "dft_deaths = get_frame('deaths')\n",
    "dft_recovered = get_frame('recovered')\n",
    "LAST_DATE_I, dt_cols = get_dates(df)"
   ]
  },
  {
   "cell_type": "code",
   "execution_count": 10,
   "id": "absolute-copper",
   "metadata": {
    "execution": {
     "iopub.execute_input": "2021-11-15T00:24:41.694412Z",
     "iopub.status.busy": "2021-11-15T00:24:41.693834Z",
     "iopub.status.idle": "2021-11-15T00:24:41.696030Z",
     "shell.execute_reply": "2021-11-15T00:24:41.695452Z"
    },
    "papermill": {
     "duration": 0.039808,
     "end_time": "2021-11-15T00:24:41.696141",
     "exception": false,
     "start_time": "2021-11-15T00:24:41.656333",
     "status": "completed"
    },
    "tags": []
   },
   "outputs": [],
   "source": [
    "#hide\n",
    "LAST_DATE_I, dt_cols = get_dates(df)\n",
    "dt_today =dt_cols[LAST_DATE_I]\n",
    "# dt_5day = dt_cols[LAST_DATE_I - 5]\n",
    "dt_yday = dt_cols[LAST_DATE_I - 1]"
   ]
  },
  {
   "cell_type": "code",
   "execution_count": 11,
   "id": "restricted-sheriff",
   "metadata": {
    "execution": {
     "iopub.execute_input": "2021-11-15T00:24:41.772952Z",
     "iopub.status.busy": "2021-11-15T00:24:41.772438Z",
     "iopub.status.idle": "2021-11-15T00:24:41.777162Z",
     "shell.execute_reply": "2021-11-15T00:24:41.777703Z"
    },
    "papermill": {
     "duration": 0.046658,
     "end_time": "2021-11-15T00:24:41.777826",
     "exception": false,
     "start_time": "2021-11-15T00:24:41.731168",
     "status": "completed"
    },
    "tags": []
   },
   "outputs": [],
   "source": [
    "#hide\n",
    "dfc_cases = dft_cases.groupby(COL_REGION)[dt_today].sum()\n",
    "dfc_deaths = dft_deaths.groupby(COL_REGION)[dt_today].sum()\n",
    "# dfp_cases = dft_cases.groupby(COL_REGION)[dt_5day].sum()\n",
    "# dfp_deaths = dft_deaths.groupby(COL_REGION)[dt_5day].sum()\n",
    "dfp_cases = dft_cases.groupby(COL_REGION)[dt_yday].sum()\n",
    "dfp_deaths = dft_deaths.groupby(COL_REGION)[dt_yday].sum()"
   ]
  },
  {
   "cell_type": "code",
   "execution_count": 12,
   "id": "deluxe-hepatitis",
   "metadata": {
    "execution": {
     "iopub.execute_input": "2021-11-15T00:24:41.851447Z",
     "iopub.status.busy": "2021-11-15T00:24:41.850781Z",
     "iopub.status.idle": "2021-11-15T00:24:41.878110Z",
     "shell.execute_reply": "2021-11-15T00:24:41.877532Z"
    },
    "papermill": {
     "duration": 0.069685,
     "end_time": "2021-11-15T00:24:41.878284",
     "exception": false,
     "start_time": "2021-11-15T00:24:41.808599",
     "status": "completed"
    },
    "tags": []
   },
   "outputs": [],
   "source": [
    "#hide\n",
    "df_table = (pd.DataFrame(dict(Cases = dfc_cases, Deaths = dfc_deaths, PCases = dfp_cases, PDeaths = dfp_deaths))\n",
    "            .sort_values(by = ['Cases','Deaths'], ascending = [False, False])\n",
    "            .reset_index())"
   ]
  },
  {
   "cell_type": "code",
   "execution_count": 13,
   "id": "educational-chancellor",
   "metadata": {
    "execution": {
     "iopub.execute_input": "2021-11-15T00:24:41.968792Z",
     "iopub.status.busy": "2021-11-15T00:24:41.968241Z",
     "iopub.status.idle": "2021-11-15T00:24:41.982016Z",
     "shell.execute_reply": "2021-11-15T00:24:41.982414Z"
    },
    "papermill": {
     "duration": 0.069817,
     "end_time": "2021-11-15T00:24:41.982541",
     "exception": false,
     "start_time": "2021-11-15T00:24:41.912724",
     "status": "completed"
    },
    "tags": []
   },
   "outputs": [
    {
     "data": {
      "text/html": [
       "<div>\n",
       "<style scoped>\n",
       "    .dataframe tbody tr th:only-of-type {\n",
       "        vertical-align: middle;\n",
       "    }\n",
       "\n",
       "    .dataframe tbody tr th {\n",
       "        vertical-align: top;\n",
       "    }\n",
       "\n",
       "    .dataframe thead th {\n",
       "        text-align: right;\n",
       "    }\n",
       "</style>\n",
       "<table border=\"1\" class=\"dataframe\">\n",
       "  <thead>\n",
       "    <tr style=\"text-align: right;\">\n",
       "      <th></th>\n",
       "      <th>Country/Region</th>\n",
       "      <th>Cases</th>\n",
       "      <th>Deaths</th>\n",
       "      <th>PCases</th>\n",
       "      <th>PDeaths</th>\n",
       "      <th>Cases (+)</th>\n",
       "      <th>Deaths (+)</th>\n",
       "      <th>Fatality Rate</th>\n",
       "      <th>Continent</th>\n",
       "    </tr>\n",
       "  </thead>\n",
       "  <tbody>\n",
       "    <tr>\n",
       "      <th>0</th>\n",
       "      <td>US</td>\n",
       "      <td>47050502</td>\n",
       "      <td>762972</td>\n",
       "      <td>46991304</td>\n",
       "      <td>762520</td>\n",
       "      <td>59198</td>\n",
       "      <td>452</td>\n",
       "      <td>1.62</td>\n",
       "      <td>North America</td>\n",
       "    </tr>\n",
       "    <tr>\n",
       "      <th>1</th>\n",
       "      <td>India</td>\n",
       "      <td>34437307</td>\n",
       "      <td>463530</td>\n",
       "      <td>34426036</td>\n",
       "      <td>463245</td>\n",
       "      <td>11271</td>\n",
       "      <td>285</td>\n",
       "      <td>1.35</td>\n",
       "      <td>Asia</td>\n",
       "    </tr>\n",
       "    <tr>\n",
       "      <th>2</th>\n",
       "      <td>Brazil</td>\n",
       "      <td>21953838</td>\n",
       "      <td>611222</td>\n",
       "      <td>21939196</td>\n",
       "      <td>610491</td>\n",
       "      <td>14642</td>\n",
       "      <td>731</td>\n",
       "      <td>2.78</td>\n",
       "      <td>South America</td>\n",
       "    </tr>\n",
       "    <tr>\n",
       "      <th>3</th>\n",
       "      <td>United Kingdom</td>\n",
       "      <td>9572351</td>\n",
       "      <td>143274</td>\n",
       "      <td>9534544</td>\n",
       "      <td>143116</td>\n",
       "      <td>37807</td>\n",
       "      <td>158</td>\n",
       "      <td>1.50</td>\n",
       "      <td>Europe</td>\n",
       "    </tr>\n",
       "    <tr>\n",
       "      <th>4</th>\n",
       "      <td>Russia</td>\n",
       "      <td>8881306</td>\n",
       "      <td>249415</td>\n",
       "      <td>8843238</td>\n",
       "      <td>248203</td>\n",
       "      <td>38068</td>\n",
       "      <td>1212</td>\n",
       "      <td>2.81</td>\n",
       "      <td>Europe</td>\n",
       "    </tr>\n",
       "  </tbody>\n",
       "</table>\n",
       "</div>"
      ],
      "text/plain": [
       "   Country/Region     Cases  Deaths    PCases  PDeaths  Cases (+)  Deaths (+)  \\\n",
       "0              US  47050502  762972  46991304   762520      59198         452   \n",
       "1           India  34437307  463530  34426036   463245      11271         285   \n",
       "2          Brazil  21953838  611222  21939196   610491      14642         731   \n",
       "3  United Kingdom   9572351  143274   9534544   143116      37807         158   \n",
       "4          Russia   8881306  249415   8843238   248203      38068        1212   \n",
       "\n",
       "   Fatality Rate      Continent  \n",
       "0           1.62  North America  \n",
       "1           1.35           Asia  \n",
       "2           2.78  South America  \n",
       "3           1.50         Europe  \n",
       "4           2.81         Europe  "
      ]
     },
     "execution_count": 13,
     "metadata": {},
     "output_type": "execute_result"
    }
   ],
   "source": [
    "#hide\n",
    "for c in 'Cases, Deaths'.split(', '):\n",
    "    df_table[f'{c} (+)'] = (df_table[c] - df_table[f'P{c}']).clip(0)\n",
    "    #Clip ça veut dire, les chiffres negatif sont interdit\n",
    "df_table['Fatality Rate'] = (100* df_table['Deaths']/ df_table['Cases']).round(2)\n",
    "df_table['Continent'] = df_table['Country/Region'].map(mapping['map.continent'])\n",
    "df_table.head(5)"
   ]
  },
  {
   "cell_type": "code",
   "execution_count": 14,
   "id": "aboriginal-bulgaria",
   "metadata": {
    "execution": {
     "iopub.execute_input": "2021-11-15T00:24:42.058402Z",
     "iopub.status.busy": "2021-11-15T00:24:42.050325Z",
     "iopub.status.idle": "2021-11-15T00:24:42.059080Z",
     "shell.execute_reply": "2021-11-15T00:24:42.059581Z"
    },
    "papermill": {
     "duration": 0.045059,
     "end_time": "2021-11-15T00:24:42.059723",
     "exception": false,
     "start_time": "2021-11-15T00:24:42.014664",
     "status": "completed"
    },
    "tags": []
   },
   "outputs": [],
   "source": [
    "#hide\n",
    "#delete problematic countries from table\n",
    "df_table = df_table[~df_table['Country/Region'].isin(['Cape Verde', 'Cruise Ship', 'Kosovo'])]"
   ]
  },
  {
   "cell_type": "code",
   "execution_count": 15,
   "id": "fantastic-effect",
   "metadata": {
    "execution": {
     "iopub.execute_input": "2021-11-15T00:24:42.131610Z",
     "iopub.status.busy": "2021-11-15T00:24:42.131023Z",
     "iopub.status.idle": "2021-11-15T00:24:42.156233Z",
     "shell.execute_reply": "2021-11-15T00:24:42.155685Z"
    },
    "papermill": {
     "duration": 0.064779,
     "end_time": "2021-11-15T00:24:42.156443",
     "exception": false,
     "start_time": "2021-11-15T00:24:42.091664",
     "status": "completed"
    },
    "tags": []
   },
   "outputs": [
    {
     "data": {
      "text/html": [
       "<div>\n",
       "<style scoped>\n",
       "    .dataframe tbody tr th:only-of-type {\n",
       "        vertical-align: middle;\n",
       "    }\n",
       "\n",
       "    .dataframe tbody tr th {\n",
       "        vertical-align: top;\n",
       "    }\n",
       "\n",
       "    .dataframe thead th {\n",
       "        text-align: right;\n",
       "    }\n",
       "</style>\n",
       "<table border=\"1\" class=\"dataframe\">\n",
       "  <thead>\n",
       "    <tr style=\"text-align: right;\">\n",
       "      <th></th>\n",
       "      <th>Country/Region</th>\n",
       "      <th>Cases</th>\n",
       "      <th>Deaths</th>\n",
       "      <th>PCases</th>\n",
       "      <th>PDeaths</th>\n",
       "      <th>Cases (+)</th>\n",
       "      <th>Deaths (+)</th>\n",
       "      <th>Fatality Rate</th>\n",
       "      <th>Continent</th>\n",
       "    </tr>\n",
       "  </thead>\n",
       "  <tbody>\n",
       "    <tr>\n",
       "      <th>0</th>\n",
       "      <td>US</td>\n",
       "      <td>47050502</td>\n",
       "      <td>762972</td>\n",
       "      <td>46991304</td>\n",
       "      <td>762520</td>\n",
       "      <td>59198</td>\n",
       "      <td>452</td>\n",
       "      <td>1.6</td>\n",
       "      <td>North America</td>\n",
       "    </tr>\n",
       "    <tr>\n",
       "      <th>1</th>\n",
       "      <td>India</td>\n",
       "      <td>34437307</td>\n",
       "      <td>463530</td>\n",
       "      <td>34426036</td>\n",
       "      <td>463245</td>\n",
       "      <td>11271</td>\n",
       "      <td>285</td>\n",
       "      <td>1.3</td>\n",
       "      <td>Asia</td>\n",
       "    </tr>\n",
       "    <tr>\n",
       "      <th>2</th>\n",
       "      <td>Brazil</td>\n",
       "      <td>21953838</td>\n",
       "      <td>611222</td>\n",
       "      <td>21939196</td>\n",
       "      <td>610491</td>\n",
       "      <td>14642</td>\n",
       "      <td>731</td>\n",
       "      <td>2.8</td>\n",
       "      <td>South America</td>\n",
       "    </tr>\n",
       "    <tr>\n",
       "      <th>3</th>\n",
       "      <td>United Kingdom</td>\n",
       "      <td>9572351</td>\n",
       "      <td>143274</td>\n",
       "      <td>9534544</td>\n",
       "      <td>143116</td>\n",
       "      <td>37807</td>\n",
       "      <td>158</td>\n",
       "      <td>1.5</td>\n",
       "      <td>Europe</td>\n",
       "    </tr>\n",
       "    <tr>\n",
       "      <th>4</th>\n",
       "      <td>Russia</td>\n",
       "      <td>8881306</td>\n",
       "      <td>249415</td>\n",
       "      <td>8843238</td>\n",
       "      <td>248203</td>\n",
       "      <td>38068</td>\n",
       "      <td>1212</td>\n",
       "      <td>2.8</td>\n",
       "      <td>Europe</td>\n",
       "    </tr>\n",
       "  </tbody>\n",
       "</table>\n",
       "</div>"
      ],
      "text/plain": [
       "   Country/Region     Cases  Deaths    PCases  PDeaths  Cases (+)  Deaths (+)  \\\n",
       "0              US  47050502  762972  46991304   762520      59198         452   \n",
       "1           India  34437307  463530  34426036   463245      11271         285   \n",
       "2          Brazil  21953838  611222  21939196   610491      14642         731   \n",
       "3  United Kingdom   9572351  143274   9534544   143116      37807         158   \n",
       "4          Russia   8881306  249415   8843238   248203      38068        1212   \n",
       "\n",
       "   Fatality Rate      Continent  \n",
       "0            1.6  North America  \n",
       "1            1.3           Asia  \n",
       "2            2.8  South America  \n",
       "3            1.5         Europe  \n",
       "4            2.8         Europe  "
      ]
     },
     "execution_count": 15,
     "metadata": {},
     "output_type": "execute_result"
    }
   ],
   "source": [
    "#hide\n",
    "df_table = (pd.DataFrame(dict(Cases=dfc_cases, Deaths=dfc_deaths, PCases=dfp_cases, PDeaths=dfp_deaths))\n",
    "             .sort_values(by=['Cases', 'Deaths'], ascending=[False, False])\n",
    "             .reset_index())\n",
    "df_table.rename(columns={'index': 'Country/Region'}, inplace=True)\n",
    "for c in 'Cases, Deaths'.split(', '):\n",
    "    df_table[f'{c} (+)'] = (df_table[c] - df_table[f'P{c}']).clip(0)  # DATA BUG\n",
    "df_table['Fatality Rate'] = (100 * df_table['Deaths'] / df_table['Cases']).round(1)\n",
    "df_table['Continent'] = df_table['Country/Region'].map(mapping['map.continent'])\n",
    "df_table.head(5)"
   ]
  },
  {
   "cell_type": "code",
   "execution_count": 16,
   "id": "fewer-occasion",
   "metadata": {
    "execution": {
     "iopub.execute_input": "2021-11-15T00:24:42.230367Z",
     "iopub.status.busy": "2021-11-15T00:24:42.229768Z",
     "iopub.status.idle": "2021-11-15T00:24:42.232591Z",
     "shell.execute_reply": "2021-11-15T00:24:42.233145Z"
    },
    "papermill": {
     "duration": 0.039946,
     "end_time": "2021-11-15T00:24:42.233270",
     "exception": false,
     "start_time": "2021-11-15T00:24:42.193324",
     "status": "completed"
    },
    "tags": []
   },
   "outputs": [],
   "source": [
    "#hide\n",
    "#delete problematic countries from table\n",
    "df_table = df_table[~df_table['Country/Region'].isin(['Cape Verde', 'Cruise Ship', 'Kosovo'])]"
   ]
  },
  {
   "cell_type": "code",
   "execution_count": 17,
   "id": "related-center",
   "metadata": {
    "execution": {
     "iopub.execute_input": "2021-11-15T00:24:42.318601Z",
     "iopub.status.busy": "2021-11-15T00:24:42.318042Z",
     "iopub.status.idle": "2021-11-15T00:24:42.320835Z",
     "shell.execute_reply": "2021-11-15T00:24:42.320343Z"
    },
    "papermill": {
     "duration": 0.053503,
     "end_time": "2021-11-15T00:24:42.320947",
     "exception": false,
     "start_time": "2021-11-15T00:24:42.267444",
     "status": "completed"
    },
    "tags": []
   },
   "outputs": [],
   "source": [
    "#hide\n",
    "metrics = [df_table.columns[index] for index in [1,2,5,6]]\n",
    "# s_china = df_table[df_table['Country/Region'].eq('China')][metrics].sum().add_prefix('China ')\n",
    "s_us = df_table[df_table['Country/Region'].eq('US')][metrics].sum().add_prefix('US ')\n",
    "s_eu = df_table[df_table['Continent'].eq('Europe')][metrics].sum().add_prefix('EU ')\n",
    "s_ind = df_table[df_table['Country/Region'].eq('India')][metrics].sum().add_prefix('India ')\n",
    "summary = {'updated': pd.to_datetime(dt_today), 'since': pd.to_datetime(dt_yday)}\n",
    "summary = {'updated': pd.to_datetime(dt_today), 'since': pd.to_datetime(dt_yday)}\n",
    "summary = {**summary, **df_table[metrics].sum(), **s_ind, **s_us, **s_eu}"
   ]
  },
  {
   "cell_type": "code",
   "execution_count": 18,
   "id": "engaging-syndrome",
   "metadata": {
    "execution": {
     "iopub.execute_input": "2021-11-15T00:24:42.394445Z",
     "iopub.status.busy": "2021-11-15T00:24:42.393835Z",
     "iopub.status.idle": "2021-11-15T00:24:42.407752Z",
     "shell.execute_reply": "2021-11-15T00:24:42.408307Z"
    },
    "papermill": {
     "duration": 0.054064,
     "end_time": "2021-11-15T00:24:42.408429",
     "exception": false,
     "start_time": "2021-11-15T00:24:42.354365",
     "status": "completed"
    },
    "tags": []
   },
   "outputs": [],
   "source": [
    "#hide\n",
    "dft_ct_new_cases = dft_cases.groupby(COL_REGION)[dt_cols].sum().diff(axis=1).fillna(0).astype(int)"
   ]
  },
  {
   "cell_type": "code",
   "execution_count": 19,
   "id": "neutral-assignment",
   "metadata": {
    "execution": {
     "iopub.execute_input": "2021-11-15T00:24:42.482342Z",
     "iopub.status.busy": "2021-11-15T00:24:42.481791Z",
     "iopub.status.idle": "2021-11-15T00:24:42.484153Z",
     "shell.execute_reply": "2021-11-15T00:24:42.483708Z"
    },
    "papermill": {
     "duration": 0.042391,
     "end_time": "2021-11-15T00:24:42.484260",
     "exception": false,
     "start_time": "2021-11-15T00:24:42.441869",
     "status": "completed"
    },
    "tags": []
   },
   "outputs": [],
   "source": [
    "#hide\n",
    "everydaycases = dft_ct_new_cases.cumsum(axis=1)"
   ]
  },
  {
   "cell_type": "code",
   "execution_count": 20,
   "id": "parliamentary-calgary",
   "metadata": {
    "execution": {
     "iopub.execute_input": "2021-11-15T00:24:42.551866Z",
     "iopub.status.busy": "2021-11-15T00:24:42.551343Z",
     "iopub.status.idle": "2021-11-15T00:24:43.371929Z",
     "shell.execute_reply": "2021-11-15T00:24:43.372410Z"
    },
    "papermill": {
     "duration": 0.857045,
     "end_time": "2021-11-15T00:24:43.372577",
     "exception": false,
     "start_time": "2021-11-15T00:24:42.515532",
     "status": "completed"
    },
    "tags": []
   },
   "outputs": [],
   "source": [
    "#hide\n",
    "import pandas as pd\n",
    "import matplotlib.pyplot as plt\n",
    "import matplotlib.ticker as ticker\n",
    "import matplotlib.animation as animation\n",
    "from IPython.display import HTML"
   ]
  },
  {
   "cell_type": "code",
   "execution_count": 21,
   "id": "lasting-extraction",
   "metadata": {
    "execution": {
     "iopub.execute_input": "2021-11-15T00:24:43.443957Z",
     "iopub.status.busy": "2021-11-15T00:24:43.443408Z",
     "iopub.status.idle": "2021-11-15T00:24:43.449125Z",
     "shell.execute_reply": "2021-11-15T00:24:43.449586Z"
    },
    "papermill": {
     "duration": 0.042635,
     "end_time": "2021-11-15T00:24:43.449711",
     "exception": false,
     "start_time": "2021-11-15T00:24:43.407076",
     "status": "completed"
    },
    "tags": []
   },
   "outputs": [],
   "source": [
    "#hide\n",
    "t = everydaycases.stack()"
   ]
  },
  {
   "cell_type": "code",
   "execution_count": 22,
   "id": "premier-sleeve",
   "metadata": {
    "execution": {
     "iopub.execute_input": "2021-11-15T00:24:43.519899Z",
     "iopub.status.busy": "2021-11-15T00:24:43.519303Z",
     "iopub.status.idle": "2021-11-15T00:24:43.527973Z",
     "shell.execute_reply": "2021-11-15T00:24:43.528540Z"
    },
    "papermill": {
     "duration": 0.04784,
     "end_time": "2021-11-15T00:24:43.528689",
     "exception": false,
     "start_time": "2021-11-15T00:24:43.480849",
     "status": "completed"
    },
    "tags": []
   },
   "outputs": [],
   "source": [
    "#hide\n",
    "g = t.reset_index(['Country/Region'])"
   ]
  },
  {
   "cell_type": "code",
   "execution_count": 23,
   "id": "distributed-pittsburgh",
   "metadata": {
    "execution": {
     "iopub.execute_input": "2021-11-15T00:24:43.596147Z",
     "iopub.status.busy": "2021-11-15T00:24:43.595353Z",
     "iopub.status.idle": "2021-11-15T00:24:43.599378Z",
     "shell.execute_reply": "2021-11-15T00:24:43.598825Z"
    },
    "papermill": {
     "duration": 0.039533,
     "end_time": "2021-11-15T00:24:43.599486",
     "exception": false,
     "start_time": "2021-11-15T00:24:43.559953",
     "status": "completed"
    },
    "tags": []
   },
   "outputs": [],
   "source": [
    "#hide\n",
    "g.index.name = 'date'"
   ]
  },
  {
   "cell_type": "code",
   "execution_count": 24,
   "id": "naked-donor",
   "metadata": {
    "execution": {
     "iopub.execute_input": "2021-11-15T00:24:43.665489Z",
     "iopub.status.busy": "2021-11-15T00:24:43.664965Z",
     "iopub.status.idle": "2021-11-15T00:24:43.669316Z",
     "shell.execute_reply": "2021-11-15T00:24:43.668822Z"
    },
    "papermill": {
     "duration": 0.03841,
     "end_time": "2021-11-15T00:24:43.669426",
     "exception": false,
     "start_time": "2021-11-15T00:24:43.631016",
     "status": "completed"
    },
    "tags": []
   },
   "outputs": [],
   "source": [
    "# #hide\n",
    "# g = g.reset_index(['date'])"
   ]
  },
  {
   "cell_type": "code",
   "execution_count": 25,
   "id": "incomplete-mustang",
   "metadata": {
    "execution": {
     "iopub.execute_input": "2021-11-15T00:24:43.737811Z",
     "iopub.status.busy": "2021-11-15T00:24:43.737171Z",
     "iopub.status.idle": "2021-11-15T00:24:43.738863Z",
     "shell.execute_reply": "2021-11-15T00:24:43.739362Z"
    },
    "papermill": {
     "duration": 0.037548,
     "end_time": "2021-11-15T00:24:43.739505",
     "exception": false,
     "start_time": "2021-11-15T00:24:43.701957",
     "status": "completed"
    },
    "tags": []
   },
   "outputs": [],
   "source": [
    "#hide\n",
    "# g.head()"
   ]
  },
  {
   "cell_type": "code",
   "execution_count": 26,
   "id": "specific-kruger",
   "metadata": {
    "execution": {
     "iopub.execute_input": "2021-11-15T00:24:43.810203Z",
     "iopub.status.busy": "2021-11-15T00:24:43.807468Z",
     "iopub.status.idle": "2021-11-15T00:24:43.811553Z",
     "shell.execute_reply": "2021-11-15T00:24:43.811989Z"
    },
    "papermill": {
     "duration": 0.041135,
     "end_time": "2021-11-15T00:24:43.812112",
     "exception": false,
     "start_time": "2021-11-15T00:24:43.770977",
     "status": "completed"
    },
    "tags": []
   },
   "outputs": [],
   "source": [
    "#hide\n",
    "# g.columns = ['date','country','cases']"
   ]
  },
  {
   "cell_type": "code",
   "execution_count": 27,
   "id": "tender-conversion",
   "metadata": {
    "execution": {
     "iopub.execute_input": "2021-11-15T00:24:43.880895Z",
     "iopub.status.busy": "2021-11-15T00:24:43.880372Z",
     "iopub.status.idle": "2021-11-15T00:24:43.883550Z",
     "shell.execute_reply": "2021-11-15T00:24:43.883960Z"
    },
    "papermill": {
     "duration": 0.038242,
     "end_time": "2021-11-15T00:24:43.884078",
     "exception": false,
     "start_time": "2021-11-15T00:24:43.845836",
     "status": "completed"
    },
    "tags": []
   },
   "outputs": [],
   "source": [
    "#hide\n",
    "# g['continent'] = g.country"
   ]
  },
  {
   "cell_type": "code",
   "execution_count": 28,
   "id": "substantial-wilderness",
   "metadata": {
    "execution": {
     "iopub.execute_input": "2021-11-15T00:24:43.951608Z",
     "iopub.status.busy": "2021-11-15T00:24:43.951044Z",
     "iopub.status.idle": "2021-11-15T00:24:43.953952Z",
     "shell.execute_reply": "2021-11-15T00:24:43.953532Z"
    },
    "papermill": {
     "duration": 0.037098,
     "end_time": "2021-11-15T00:24:43.954057",
     "exception": false,
     "start_time": "2021-11-15T00:24:43.916959",
     "status": "completed"
    },
    "tags": []
   },
   "outputs": [],
   "source": [
    "#hide\n",
    "# cols = list(g.columns.values)"
   ]
  },
  {
   "cell_type": "code",
   "execution_count": 29,
   "id": "solved-farming",
   "metadata": {
    "execution": {
     "iopub.execute_input": "2021-11-15T00:24:44.019412Z",
     "iopub.status.busy": "2021-11-15T00:24:44.018637Z",
     "iopub.status.idle": "2021-11-15T00:24:44.021139Z",
     "shell.execute_reply": "2021-11-15T00:24:44.020692Z"
    },
    "papermill": {
     "duration": 0.036862,
     "end_time": "2021-11-15T00:24:44.021246",
     "exception": false,
     "start_time": "2021-11-15T00:24:43.984384",
     "status": "completed"
    },
    "tags": []
   },
   "outputs": [],
   "source": [
    "#hide\n",
    "# cols.insert(0, cols.pop())"
   ]
  },
  {
   "cell_type": "code",
   "execution_count": 30,
   "id": "executed-adoption",
   "metadata": {
    "execution": {
     "iopub.execute_input": "2021-11-15T00:24:44.090029Z",
     "iopub.status.busy": "2021-11-15T00:24:44.089511Z",
     "iopub.status.idle": "2021-11-15T00:24:44.092756Z",
     "shell.execute_reply": "2021-11-15T00:24:44.093249Z"
    },
    "papermill": {
     "duration": 0.040378,
     "end_time": "2021-11-15T00:24:44.093390",
     "exception": false,
     "start_time": "2021-11-15T00:24:44.053012",
     "status": "completed"
    },
    "tags": []
   },
   "outputs": [],
   "source": [
    "#hide\n",
    "# g = g[cols]"
   ]
  },
  {
   "cell_type": "code",
   "execution_count": 31,
   "id": "subject-dublin",
   "metadata": {
    "execution": {
     "iopub.execute_input": "2021-11-15T00:24:44.160093Z",
     "iopub.status.busy": "2021-11-15T00:24:44.159492Z",
     "iopub.status.idle": "2021-11-15T00:24:44.162929Z",
     "shell.execute_reply": "2021-11-15T00:24:44.163443Z"
    },
    "papermill": {
     "duration": 0.038088,
     "end_time": "2021-11-15T00:24:44.163567",
     "exception": false,
     "start_time": "2021-11-15T00:24:44.125479",
     "status": "completed"
    },
    "tags": []
   },
   "outputs": [],
   "source": [
    "#hide\n",
    "# g['continent'] = g['continent'].map(mapping['map.continent'])"
   ]
  },
  {
   "cell_type": "code",
   "execution_count": 32,
   "id": "freelance-scout",
   "metadata": {
    "execution": {
     "iopub.execute_input": "2021-11-15T00:24:44.234188Z",
     "iopub.status.busy": "2021-11-15T00:24:44.233659Z",
     "iopub.status.idle": "2021-11-15T00:24:44.237215Z",
     "shell.execute_reply": "2021-11-15T00:24:44.236761Z"
    },
    "papermill": {
     "duration": 0.039,
     "end_time": "2021-11-15T00:24:44.237321",
     "exception": false,
     "start_time": "2021-11-15T00:24:44.198321",
     "status": "completed"
    },
    "tags": []
   },
   "outputs": [],
   "source": [
    "#hide\n",
    "# g.head()"
   ]
  },
  {
   "cell_type": "code",
   "execution_count": 33,
   "id": "limited-engine",
   "metadata": {
    "execution": {
     "iopub.execute_input": "2021-11-15T00:24:44.304466Z",
     "iopub.status.busy": "2021-11-15T00:24:44.303940Z",
     "iopub.status.idle": "2021-11-15T00:24:44.306185Z",
     "shell.execute_reply": "2021-11-15T00:24:44.306619Z"
    },
    "papermill": {
     "duration": 0.03802,
     "end_time": "2021-11-15T00:24:44.306737",
     "exception": false,
     "start_time": "2021-11-15T00:24:44.268717",
     "status": "completed"
    },
    "tags": []
   },
   "outputs": [],
   "source": [
    "# hide\n",
    "# g['date'] = g['date'].astype('datetime64[ns]')"
   ]
  },
  {
   "cell_type": "code",
   "execution_count": 34,
   "id": "sophisticated-supervisor",
   "metadata": {
    "execution": {
     "iopub.execute_input": "2021-11-15T00:24:44.374838Z",
     "iopub.status.busy": "2021-11-15T00:24:44.374196Z",
     "iopub.status.idle": "2021-11-15T00:24:44.376717Z",
     "shell.execute_reply": "2021-11-15T00:24:44.377184Z"
    },
    "papermill": {
     "duration": 0.03815,
     "end_time": "2021-11-15T00:24:44.377310",
     "exception": false,
     "start_time": "2021-11-15T00:24:44.339160",
     "status": "completed"
    },
    "tags": []
   },
   "outputs": [],
   "source": [
    "#hide\n",
    "# g['date'] = g.date.dt.dayofyear"
   ]
  },
  {
   "cell_type": "code",
   "execution_count": 35,
   "id": "inside-dubai",
   "metadata": {
    "execution": {
     "iopub.execute_input": "2021-11-15T00:24:44.448328Z",
     "iopub.status.busy": "2021-11-15T00:24:44.447793Z",
     "iopub.status.idle": "2021-11-15T00:24:44.450190Z",
     "shell.execute_reply": "2021-11-15T00:24:44.449620Z"
    },
    "papermill": {
     "duration": 0.038031,
     "end_time": "2021-11-15T00:24:44.450318",
     "exception": false,
     "start_time": "2021-11-15T00:24:44.412287",
     "status": "completed"
    },
    "tags": []
   },
   "outputs": [],
   "source": [
    "#hide\n",
    "# g = g.rename(columns= {'continent':'group','country':'name','cases':'value'})"
   ]
  },
  {
   "cell_type": "code",
   "execution_count": 36,
   "id": "fleet-motorcycle",
   "metadata": {
    "execution": {
     "iopub.execute_input": "2021-11-15T00:24:44.519195Z",
     "iopub.status.busy": "2021-11-15T00:24:44.518642Z",
     "iopub.status.idle": "2021-11-15T00:24:44.520520Z",
     "shell.execute_reply": "2021-11-15T00:24:44.520921Z"
    },
    "papermill": {
     "duration": 0.03842,
     "end_time": "2021-11-15T00:24:44.521042",
     "exception": false,
     "start_time": "2021-11-15T00:24:44.482622",
     "status": "completed"
    },
    "tags": []
   },
   "outputs": [],
   "source": [
    "#hide\n",
    "# cols = ['name','group','day','value']"
   ]
  },
  {
   "cell_type": "code",
   "execution_count": 37,
   "id": "continued-sleeping",
   "metadata": {
    "execution": {
     "iopub.execute_input": "2021-11-15T00:24:44.588712Z",
     "iopub.status.busy": "2021-11-15T00:24:44.588081Z",
     "iopub.status.idle": "2021-11-15T00:24:44.591585Z",
     "shell.execute_reply": "2021-11-15T00:24:44.592037Z"
    },
    "papermill": {
     "duration": 0.040113,
     "end_time": "2021-11-15T00:24:44.592163",
     "exception": false,
     "start_time": "2021-11-15T00:24:44.552050",
     "status": "completed"
    },
    "tags": []
   },
   "outputs": [],
   "source": [
    "#hide\n",
    "# g.rename(columns= {'date':'day'},inplace = True)"
   ]
  },
  {
   "cell_type": "code",
   "execution_count": 38,
   "id": "major-fight",
   "metadata": {
    "execution": {
     "iopub.execute_input": "2021-11-15T00:24:44.662838Z",
     "iopub.status.busy": "2021-11-15T00:24:44.662292Z",
     "iopub.status.idle": "2021-11-15T00:24:44.664276Z",
     "shell.execute_reply": "2021-11-15T00:24:44.664676Z"
    },
    "papermill": {
     "duration": 0.037376,
     "end_time": "2021-11-15T00:24:44.664800",
     "exception": false,
     "start_time": "2021-11-15T00:24:44.627424",
     "status": "completed"
    },
    "tags": []
   },
   "outputs": [],
   "source": [
    "#hide\n",
    "# g = g[cols]"
   ]
  },
  {
   "cell_type": "code",
   "execution_count": 39,
   "id": "structured-mobile",
   "metadata": {
    "execution": {
     "iopub.execute_input": "2021-11-15T00:24:44.734887Z",
     "iopub.status.busy": "2021-11-15T00:24:44.734203Z",
     "iopub.status.idle": "2021-11-15T00:24:44.737164Z",
     "shell.execute_reply": "2021-11-15T00:24:44.737669Z"
    },
    "papermill": {
     "duration": 0.039846,
     "end_time": "2021-11-15T00:24:44.737788",
     "exception": false,
     "start_time": "2021-11-15T00:24:44.697942",
     "status": "completed"
    },
    "tags": []
   },
   "outputs": [],
   "source": [
    "# #hide\n",
    "# g = g[g.group.notna()]"
   ]
  },
  {
   "cell_type": "code",
   "execution_count": 40,
   "id": "determined-closing",
   "metadata": {
    "execution": {
     "iopub.execute_input": "2021-11-15T00:24:44.804553Z",
     "iopub.status.busy": "2021-11-15T00:24:44.804003Z",
     "iopub.status.idle": "2021-11-15T00:24:44.807466Z",
     "shell.execute_reply": "2021-11-15T00:24:44.806971Z"
    },
    "papermill": {
     "duration": 0.037845,
     "end_time": "2021-11-15T00:24:44.807570",
     "exception": false,
     "start_time": "2021-11-15T00:24:44.769725",
     "status": "completed"
    },
    "tags": []
   },
   "outputs": [],
   "source": [
    "# #hide\n",
    "# colors = dict(zip(\n",
    "#     [\"Oceania\", \"Europe\", \"Asia\", \"South America\", \"Middle East\", \"North America\", \"Africa\"],\n",
    "#     [\"#adb0ff\", \"#ffb3ff\", \"#90d595\", \"#e48381\", \"#aafbff\", \"#f7bb5f\", \"#eafb50\"]\n",
    "# ))\n",
    "# group_lk = g.set_index('name')['group'].to_dict()"
   ]
  },
  {
   "cell_type": "code",
   "execution_count": null,
   "id": "gross-drinking",
   "metadata": {
    "papermill": {
     "duration": 0.03063,
     "end_time": "2021-11-15T00:24:44.871385",
     "exception": false,
     "start_time": "2021-11-15T00:24:44.840755",
     "status": "completed"
    },
    "tags": []
   },
   "outputs": [],
   "source": []
  },
  {
   "cell_type": "code",
   "execution_count": 41,
   "id": "subject-macintosh",
   "metadata": {
    "execution": {
     "iopub.execute_input": "2021-11-15T00:24:44.939006Z",
     "iopub.status.busy": "2021-11-15T00:24:44.938315Z",
     "iopub.status.idle": "2021-11-15T00:24:44.940820Z",
     "shell.execute_reply": "2021-11-15T00:24:44.941271Z"
    },
    "papermill": {
     "duration": 0.037729,
     "end_time": "2021-11-15T00:24:44.941398",
     "exception": false,
     "start_time": "2021-11-15T00:24:44.903669",
     "status": "completed"
    },
    "tags": []
   },
   "outputs": [],
   "source": [
    "# #hide\n",
    "# fig, ax = plt.subplots(figsize=(15, 8))\n",
    "\n",
    "# def draw_barchart(current_day):\n",
    "#     dff = g[g['day'].eq(current_day)].sort_values(by='value', ascending=True).tail(10)\n",
    "#     ax.clear()\n",
    "#     ax.barh(dff['name'], dff['value'], color=[colors[group_lk[x]] for x in dff['name']])\n",
    "#     dx = dff['value'].max() / 200\n",
    "    \n",
    "#     for i, (value, name) in enumerate(zip(dff['value'], dff['name'])):\n",
    "#         ax.text(value-dx, i,     name,           size=14, weight=600, ha='right', va='bottom')\n",
    "#         ax.text(value-dx, i-.25, group_lk[name], size=10, color='#444444', ha='right', va='baseline')\n",
    "#         ax.text(value+dx, i,     f'{value:,.0f}',  size=14, ha='left',  va='center')\n",
    "#     ax.text(1, 0.4, current_day, transform=ax.transAxes, color='#777777', size=46, ha='right', weight=800)\n",
    "#     ax.text(0, 1.06, 'Population (thousands)', transform=ax.transAxes, size=12, color='#777777')\n",
    "#     ax.xaxis.set_major_formatter(ticker.StrMethodFormatter('{x:,.0f}'))\n",
    "#     ax.xaxis.set_ticks_position('top')\n",
    "#     ax.tick_params(axis='x', colors='#777777', labelsize=12)\n",
    "#     ax.set_yticks([])\n",
    "#     ax.margins(0, 0.01)\n",
    "#     ax.grid(which='major', axis='x', linestyle='-')\n",
    "#     ax.set_axisbelow(True)\n",
    "    \n",
    "#     ax.text(0, 1.15, 'Coronavirus',\n",
    "#             transform=ax.transAxes, size=24, weight=600, ha='left', va='top')\n",
    "# #     ax.text(1, 0, 'by @pratapvardhan; credit @jburnmurdoch', transform=ax.transAxes, color='#777777', ha='right',\n",
    "# #             bbox=dict(facecolor='white', alpha=0.8, edgecolor='white'))\n",
    "#     plt.box(False)"
   ]
  },
  {
   "cell_type": "code",
   "execution_count": 42,
   "id": "sexual-wages",
   "metadata": {
    "execution": {
     "iopub.execute_input": "2021-11-15T00:24:45.016190Z",
     "iopub.status.busy": "2021-11-15T00:24:45.015673Z",
     "iopub.status.idle": "2021-11-15T00:24:45.019072Z",
     "shell.execute_reply": "2021-11-15T00:24:45.019588Z"
    },
    "papermill": {
     "duration": 0.046638,
     "end_time": "2021-11-15T00:24:45.019711",
     "exception": false,
     "start_time": "2021-11-15T00:24:44.973073",
     "status": "completed"
    },
    "tags": []
   },
   "outputs": [],
   "source": [
    "# #hide_input\n",
    "# fig, ax = plt.subplots(figsize=(15, 8))\n",
    "# animator = animation.FuncAnimation(fig, draw_barchart, frames=range(g.day.values.min(), g.day.values.max()))\n",
    "# HTML(animator.to_jshtml())\n",
    "# # or use animator.to_html5_video() or animator.save() "
   ]
  },
  {
   "cell_type": "code",
   "execution_count": null,
   "id": "australian-container",
   "metadata": {
    "papermill": {
     "duration": 0.032421,
     "end_time": "2021-11-15T00:24:45.086633",
     "exception": false,
     "start_time": "2021-11-15T00:24:45.054212",
     "status": "completed"
    },
    "tags": []
   },
   "outputs": [],
   "source": []
  },
  {
   "cell_type": "code",
   "execution_count": null,
   "id": "mediterranean-pontiac",
   "metadata": {
    "papermill": {
     "duration": 0.032525,
     "end_time": "2021-11-15T00:24:45.152889",
     "exception": false,
     "start_time": "2021-11-15T00:24:45.120364",
     "status": "completed"
    },
    "tags": []
   },
   "outputs": [],
   "source": []
  },
  {
   "cell_type": "code",
   "execution_count": null,
   "id": "aging-legislature",
   "metadata": {
    "papermill": {
     "duration": 0.032301,
     "end_time": "2021-11-15T00:24:45.218601",
     "exception": false,
     "start_time": "2021-11-15T00:24:45.186300",
     "status": "completed"
    },
    "tags": []
   },
   "outputs": [],
   "source": []
  }
 ],
 "metadata": {
  "kernelspec": {
   "display_name": "Python 3",
   "language": "python",
   "name": "python3"
  },
  "language_info": {
   "codemirror_mode": {
    "name": "ipython",
    "version": 3
   },
   "file_extension": ".py",
   "mimetype": "text/x-python",
   "name": "python",
   "nbconvert_exporter": "python",
   "pygments_lexer": "ipython3",
   "version": "3.6.15"
  },
  "papermill": {
   "duration": 6.505678,
   "end_time": "2021-11-15T00:24:45.558253",
   "environment_variables": {},
   "exception": null,
   "input_path": "2020-03-21-covid19exp.ipynb",
   "output_path": "2020-03-21-covid19exp.ipynb",
   "parameters": {},
   "start_time": "2021-11-15T00:24:39.052575",
   "version": "2.0.0"
  }
 },
 "nbformat": 4,
 "nbformat_minor": 5
}