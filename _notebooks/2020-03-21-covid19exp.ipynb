{
 "cells": [
  {
   "cell_type": "markdown",
   "id": "muslim-click",
   "metadata": {
    "papermill": {
     "duration": 0.034669,
     "end_time": "2022-09-30T01:13:15.601388",
     "exception": false,
     "start_time": "2022-09-30T01:13:15.566719",
     "status": "completed"
    },
    "tags": []
   },
   "source": [
    "# COVID-19 Case Race\n",
    "> A race chart to see rising cases around the world\n",
    "\n",
    "- author: Hargun Oberoi\n",
    "- image: images/covid-overview.png\n",
    "- hide: false\n",
    "- badges: false"
   ]
  },
  {
   "cell_type": "code",
   "execution_count": 1,
   "id": "proof-material",
   "metadata": {
    "execution": {
     "iopub.execute_input": "2022-09-30T01:13:15.670758Z",
     "iopub.status.busy": "2022-09-30T01:13:15.669273Z",
     "iopub.status.idle": "2022-09-30T01:13:15.979180Z",
     "shell.execute_reply": "2022-09-30T01:13:15.978227Z"
    },
    "papermill": {
     "duration": 0.347398,
     "end_time": "2022-09-30T01:13:15.979315",
     "exception": false,
     "start_time": "2022-09-30T01:13:15.631917",
     "status": "completed"
    },
    "tags": []
   },
   "outputs": [],
   "source": [
    "#hide\n",
    "import numpy as np\n",
    "import pandas as pd\n",
    "from jinja2 import Template\n",
    "from IPython.display import HTML"
   ]
  },
  {
   "cell_type": "code",
   "execution_count": 2,
   "id": "developed-terminology",
   "metadata": {
    "execution": {
     "iopub.execute_input": "2022-09-30T01:13:16.043725Z",
     "iopub.status.busy": "2022-09-30T01:13:16.043158Z",
     "iopub.status.idle": "2022-09-30T01:13:16.045004Z",
     "shell.execute_reply": "2022-09-30T01:13:16.045405Z"
    },
    "papermill": {
     "duration": 0.036175,
     "end_time": "2022-09-30T01:13:16.045523",
     "exception": false,
     "start_time": "2022-09-30T01:13:16.009348",
     "status": "completed"
    },
    "tags": []
   },
   "outputs": [],
   "source": [
    "#hide\n",
    "\n",
    "# FETCH\n",
    "base_url = 'https://raw.githubusercontent.com/pratapvardhan/notebooks/master/covid19/'\n",
    "paths = {\n",
    "    'mapping': base_url + 'mapping_countries.csv',\n",
    "    'overview': base_url + 'overview.tpl'\n",
    "}"
   ]
  },
  {
   "cell_type": "code",
   "execution_count": 3,
   "id": "dynamic-saver",
   "metadata": {
    "execution": {
     "iopub.execute_input": "2022-09-30T01:13:16.113376Z",
     "iopub.status.busy": "2022-09-30T01:13:16.112229Z",
     "iopub.status.idle": "2022-09-30T01:13:16.116616Z",
     "shell.execute_reply": "2022-09-30T01:13:16.116146Z"
    },
    "papermill": {
     "duration": 0.041574,
     "end_time": "2022-09-30T01:13:16.116714",
     "exception": false,
     "start_time": "2022-09-30T01:13:16.075140",
     "status": "completed"
    },
    "tags": []
   },
   "outputs": [
    {
     "data": {
      "text/plain": [
       "'https://raw.githubusercontent.com/pratapvardhan/notebooks/master/covid19/mapping_countries.csv'"
      ]
     },
     "execution_count": 3,
     "metadata": {},
     "output_type": "execute_result"
    }
   ],
   "source": [
    "#hide\n",
    "paths['mapping']"
   ]
  },
  {
   "cell_type": "code",
   "execution_count": 4,
   "id": "urban-software",
   "metadata": {
    "execution": {
     "iopub.execute_input": "2022-09-30T01:13:16.182003Z",
     "iopub.status.busy": "2022-09-30T01:13:16.181441Z",
     "iopub.status.idle": "2022-09-30T01:13:16.183282Z",
     "shell.execute_reply": "2022-09-30T01:13:16.183777Z"
    },
    "papermill": {
     "duration": 0.037016,
     "end_time": "2022-09-30T01:13:16.183886",
     "exception": false,
     "start_time": "2022-09-30T01:13:16.146870",
     "status": "completed"
    },
    "tags": []
   },
   "outputs": [],
   "source": [
    "#hide\n",
    "def get_mappings(url):\n",
    "    df = pd.read_csv(url)\n",
    "    return {\n",
    "        'df': df,\n",
    "        'replace.country': dict(df.dropna(subset=['Name']).set_index('Country')['Name']),\n",
    "        'map.continent': dict(df.set_index('Name')['Continent'])\n",
    "    }"
   ]
  },
  {
   "cell_type": "code",
   "execution_count": 5,
   "id": "intimate-machinery",
   "metadata": {
    "execution": {
     "iopub.execute_input": "2022-09-30T01:13:16.248933Z",
     "iopub.status.busy": "2022-09-30T01:13:16.248372Z",
     "iopub.status.idle": "2022-09-30T01:13:16.286294Z",
     "shell.execute_reply": "2022-09-30T01:13:16.285822Z"
    },
    "papermill": {
     "duration": 0.072676,
     "end_time": "2022-09-30T01:13:16.286398",
     "exception": false,
     "start_time": "2022-09-30T01:13:16.213722",
     "status": "completed"
    },
    "tags": []
   },
   "outputs": [],
   "source": [
    "#hide\n",
    "mapping = get_mappings(paths['mapping'])"
   ]
  },
  {
   "cell_type": "code",
   "execution_count": 6,
   "id": "certified-tactics",
   "metadata": {
    "execution": {
     "iopub.execute_input": "2022-09-30T01:13:16.351414Z",
     "iopub.status.busy": "2022-09-30T01:13:16.350847Z",
     "iopub.status.idle": "2022-09-30T01:13:16.353469Z",
     "shell.execute_reply": "2022-09-30T01:13:16.352948Z"
    },
    "papermill": {
     "duration": 0.03699,
     "end_time": "2022-09-30T01:13:16.353567",
     "exception": false,
     "start_time": "2022-09-30T01:13:16.316577",
     "status": "completed"
    },
    "tags": []
   },
   "outputs": [],
   "source": [
    "#hide\n",
    "def get_template(path):\n",
    "    from urllib.parse import urlparse\n",
    "    if bool(urlparse(path).netloc):\n",
    "        from urllib.request import urlopen\n",
    "        return urlopen(path).read().decode('utf8')\n",
    "    return open(path).read()"
   ]
  },
  {
   "cell_type": "code",
   "execution_count": 7,
   "id": "realistic-blast",
   "metadata": {
    "execution": {
     "iopub.execute_input": "2022-09-30T01:13:16.417988Z",
     "iopub.status.busy": "2022-09-30T01:13:16.417420Z",
     "iopub.status.idle": "2022-09-30T01:13:16.419512Z",
     "shell.execute_reply": "2022-09-30T01:13:16.419920Z"
    },
    "papermill": {
     "duration": 0.036541,
     "end_time": "2022-09-30T01:13:16.420036",
     "exception": false,
     "start_time": "2022-09-30T01:13:16.383495",
     "status": "completed"
    },
    "tags": []
   },
   "outputs": [],
   "source": [
    "#hide\n",
    "def get_frame(name):\n",
    "    url = (\n",
    "        'https://raw.githubusercontent.com/CSSEGISandData/COVID-19/master/csse_covid_19_data/'\n",
    "        f'csse_covid_19_time_series/time_series_covid19_{name}_global.csv')\n",
    "    df = pd.read_csv(url)\n",
    "    # rename countries\n",
    "    df['Country/Region'] = df['Country/Region'].replace(mapping['replace.country'])\n",
    "    return df"
   ]
  },
  {
   "cell_type": "code",
   "execution_count": 8,
   "id": "affiliated-characterization",
   "metadata": {
    "execution": {
     "iopub.execute_input": "2022-09-30T01:13:16.485175Z",
     "iopub.status.busy": "2022-09-30T01:13:16.484605Z",
     "iopub.status.idle": "2022-09-30T01:13:16.487081Z",
     "shell.execute_reply": "2022-09-30T01:13:16.486590Z"
    },
    "papermill": {
     "duration": 0.03713,
     "end_time": "2022-09-30T01:13:16.487178",
     "exception": false,
     "start_time": "2022-09-30T01:13:16.450048",
     "status": "completed"
    },
    "tags": []
   },
   "outputs": [],
   "source": [
    "#hide\n",
    "def get_dates(df):\n",
    "    dt_cols = df.columns[~df.columns.isin(['Province/State', 'Country/Region', 'Lat', 'Long'])]\n",
    "    LAST_DATE_I = -1\n",
    "    # sometimes last column may be empty, then go backwards\n",
    "    for i in range(-1, -len(dt_cols), -1):\n",
    "        if not df[dt_cols[i]].fillna(0).eq(0).all():\n",
    "            LAST_DATE_I = i\n",
    "            break\n",
    "    return LAST_DATE_I, dt_cols"
   ]
  },
  {
   "cell_type": "code",
   "execution_count": 9,
   "id": "recent-optimization",
   "metadata": {
    "execution": {
     "iopub.execute_input": "2022-09-30T01:13:16.551698Z",
     "iopub.status.busy": "2022-09-30T01:13:16.551118Z",
     "iopub.status.idle": "2022-09-30T01:13:17.025219Z",
     "shell.execute_reply": "2022-09-30T01:13:17.024234Z"
    },
    "papermill": {
     "duration": 0.508156,
     "end_time": "2022-09-30T01:13:17.025333",
     "exception": false,
     "start_time": "2022-09-30T01:13:16.517177",
     "status": "completed"
    },
    "tags": []
   },
   "outputs": [],
   "source": [
    "#hide\n",
    "COL_REGION = 'Country/Region'\n",
    "# Confirmed, Recovered, Deaths\n",
    "df = get_frame('confirmed')\n",
    "# dft_: timeseries, dfc_: today country agg\n",
    "dft_cases = df\n",
    "dft_deaths = get_frame('deaths')\n",
    "dft_recovered = get_frame('recovered')\n",
    "LAST_DATE_I, dt_cols = get_dates(df)"
   ]
  },
  {
   "cell_type": "code",
   "execution_count": 10,
   "id": "absolute-copper",
   "metadata": {
    "execution": {
     "iopub.execute_input": "2022-09-30T01:13:17.090883Z",
     "iopub.status.busy": "2022-09-30T01:13:17.090327Z",
     "iopub.status.idle": "2022-09-30T01:13:17.092416Z",
     "shell.execute_reply": "2022-09-30T01:13:17.092834Z"
    },
    "papermill": {
     "duration": 0.037457,
     "end_time": "2022-09-30T01:13:17.092949",
     "exception": false,
     "start_time": "2022-09-30T01:13:17.055492",
     "status": "completed"
    },
    "tags": []
   },
   "outputs": [],
   "source": [
    "#hide\n",
    "LAST_DATE_I, dt_cols = get_dates(df)\n",
    "dt_today =dt_cols[LAST_DATE_I]\n",
    "# dt_5day = dt_cols[LAST_DATE_I - 5]\n",
    "dt_yday = dt_cols[LAST_DATE_I - 1]"
   ]
  },
  {
   "cell_type": "code",
   "execution_count": 11,
   "id": "restricted-sheriff",
   "metadata": {
    "execution": {
     "iopub.execute_input": "2022-09-30T01:13:17.158613Z",
     "iopub.status.busy": "2022-09-30T01:13:17.158051Z",
     "iopub.status.idle": "2022-09-30T01:13:17.165203Z",
     "shell.execute_reply": "2022-09-30T01:13:17.164746Z"
    },
    "papermill": {
     "duration": 0.042434,
     "end_time": "2022-09-30T01:13:17.165307",
     "exception": false,
     "start_time": "2022-09-30T01:13:17.122873",
     "status": "completed"
    },
    "tags": []
   },
   "outputs": [],
   "source": [
    "#hide\n",
    "dfc_cases = dft_cases.groupby(COL_REGION)[dt_today].sum()\n",
    "dfc_deaths = dft_deaths.groupby(COL_REGION)[dt_today].sum()\n",
    "# dfp_cases = dft_cases.groupby(COL_REGION)[dt_5day].sum()\n",
    "# dfp_deaths = dft_deaths.groupby(COL_REGION)[dt_5day].sum()\n",
    "dfp_cases = dft_cases.groupby(COL_REGION)[dt_yday].sum()\n",
    "dfp_deaths = dft_deaths.groupby(COL_REGION)[dt_yday].sum()"
   ]
  },
  {
   "cell_type": "code",
   "execution_count": 12,
   "id": "deluxe-hepatitis",
   "metadata": {
    "execution": {
     "iopub.execute_input": "2022-09-30T01:13:17.231168Z",
     "iopub.status.busy": "2022-09-30T01:13:17.230602Z",
     "iopub.status.idle": "2022-09-30T01:13:17.235327Z",
     "shell.execute_reply": "2022-09-30T01:13:17.234800Z"
    },
    "papermill": {
     "duration": 0.040015,
     "end_time": "2022-09-30T01:13:17.235429",
     "exception": false,
     "start_time": "2022-09-30T01:13:17.195414",
     "status": "completed"
    },
    "tags": []
   },
   "outputs": [],
   "source": [
    "#hide\n",
    "df_table = (pd.DataFrame(dict(Cases = dfc_cases, Deaths = dfc_deaths, PCases = dfp_cases, PDeaths = dfp_deaths))\n",
    "            .sort_values(by = ['Cases','Deaths'], ascending = [False, False])\n",
    "            .reset_index())"
   ]
  },
  {
   "cell_type": "code",
   "execution_count": 13,
   "id": "educational-chancellor",
   "metadata": {
    "execution": {
     "iopub.execute_input": "2022-09-30T01:13:17.333428Z",
     "iopub.status.busy": "2022-09-30T01:13:17.330851Z",
     "iopub.status.idle": "2022-09-30T01:13:17.352322Z",
     "shell.execute_reply": "2022-09-30T01:13:17.351770Z"
    },
    "papermill": {
     "duration": 0.085278,
     "end_time": "2022-09-30T01:13:17.352425",
     "exception": false,
     "start_time": "2022-09-30T01:13:17.267147",
     "status": "completed"
    },
    "tags": []
   },
   "outputs": [
    {
     "data": {
      "text/html": [
       "<div>\n",
       "<style scoped>\n",
       "    .dataframe tbody tr th:only-of-type {\n",
       "        vertical-align: middle;\n",
       "    }\n",
       "\n",
       "    .dataframe tbody tr th {\n",
       "        vertical-align: top;\n",
       "    }\n",
       "\n",
       "    .dataframe thead th {\n",
       "        text-align: right;\n",
       "    }\n",
       "</style>\n",
       "<table border=\"1\" class=\"dataframe\">\n",
       "  <thead>\n",
       "    <tr style=\"text-align: right;\">\n",
       "      <th></th>\n",
       "      <th>Country/Region</th>\n",
       "      <th>Cases</th>\n",
       "      <th>Deaths</th>\n",
       "      <th>PCases</th>\n",
       "      <th>PDeaths</th>\n",
       "      <th>Cases (+)</th>\n",
       "      <th>Deaths (+)</th>\n",
       "      <th>Fatality Rate</th>\n",
       "      <th>Continent</th>\n",
       "    </tr>\n",
       "  </thead>\n",
       "  <tbody>\n",
       "    <tr>\n",
       "      <th>0</th>\n",
       "      <td>US</td>\n",
       "      <td>96263778</td>\n",
       "      <td>1058595</td>\n",
       "      <td>96177282</td>\n",
       "      <td>1057335</td>\n",
       "      <td>86496</td>\n",
       "      <td>1260</td>\n",
       "      <td>1.10</td>\n",
       "      <td>North America</td>\n",
       "    </tr>\n",
       "    <tr>\n",
       "      <th>1</th>\n",
       "      <td>India</td>\n",
       "      <td>44583360</td>\n",
       "      <td>528611</td>\n",
       "      <td>44579088</td>\n",
       "      <td>528584</td>\n",
       "      <td>4272</td>\n",
       "      <td>27</td>\n",
       "      <td>1.19</td>\n",
       "      <td>Asia</td>\n",
       "    </tr>\n",
       "    <tr>\n",
       "      <th>2</th>\n",
       "      <td>France</td>\n",
       "      <td>35508658</td>\n",
       "      <td>156085</td>\n",
       "      <td>35456751</td>\n",
       "      <td>156049</td>\n",
       "      <td>51907</td>\n",
       "      <td>36</td>\n",
       "      <td>0.44</td>\n",
       "      <td>Europe</td>\n",
       "    </tr>\n",
       "    <tr>\n",
       "      <th>3</th>\n",
       "      <td>Brazil</td>\n",
       "      <td>34654190</td>\n",
       "      <td>685927</td>\n",
       "      <td>34638288</td>\n",
       "      <td>685835</td>\n",
       "      <td>15902</td>\n",
       "      <td>92</td>\n",
       "      <td>1.98</td>\n",
       "      <td>South America</td>\n",
       "    </tr>\n",
       "    <tr>\n",
       "      <th>4</th>\n",
       "      <td>Germany</td>\n",
       "      <td>33216006</td>\n",
       "      <td>149808</td>\n",
       "      <td>33137143</td>\n",
       "      <td>149714</td>\n",
       "      <td>78863</td>\n",
       "      <td>94</td>\n",
       "      <td>0.45</td>\n",
       "      <td>Europe</td>\n",
       "    </tr>\n",
       "  </tbody>\n",
       "</table>\n",
       "</div>"
      ],
      "text/plain": [
       "  Country/Region     Cases   Deaths    PCases  PDeaths  Cases (+)  Deaths (+)  \\\n",
       "0             US  96263778  1058595  96177282  1057335      86496        1260   \n",
       "1          India  44583360   528611  44579088   528584       4272          27   \n",
       "2         France  35508658   156085  35456751   156049      51907          36   \n",
       "3         Brazil  34654190   685927  34638288   685835      15902          92   \n",
       "4        Germany  33216006   149808  33137143   149714      78863          94   \n",
       "\n",
       "   Fatality Rate      Continent  \n",
       "0           1.10  North America  \n",
       "1           1.19           Asia  \n",
       "2           0.44         Europe  \n",
       "3           1.98  South America  \n",
       "4           0.45         Europe  "
      ]
     },
     "execution_count": 13,
     "metadata": {},
     "output_type": "execute_result"
    }
   ],
   "source": [
    "#hide\n",
    "for c in 'Cases, Deaths'.split(', '):\n",
    "    df_table[f'{c} (+)'] = (df_table[c] - df_table[f'P{c}']).clip(0)\n",
    "    #Clip ça veut dire, les chiffres negatif sont interdit\n",
    "df_table['Fatality Rate'] = (100* df_table['Deaths']/ df_table['Cases']).round(2)\n",
    "df_table['Continent'] = df_table['Country/Region'].map(mapping['map.continent'])\n",
    "df_table.head(5)"
   ]
  },
  {
   "cell_type": "code",
   "execution_count": 14,
   "id": "aboriginal-bulgaria",
   "metadata": {
    "execution": {
     "iopub.execute_input": "2022-09-30T01:13:17.491816Z",
     "iopub.status.busy": "2022-09-30T01:13:17.491030Z",
     "iopub.status.idle": "2022-09-30T01:13:17.494903Z",
     "shell.execute_reply": "2022-09-30T01:13:17.495324Z"
    },
    "papermill": {
     "duration": 0.055827,
     "end_time": "2022-09-30T01:13:17.495440",
     "exception": false,
     "start_time": "2022-09-30T01:13:17.439613",
     "status": "completed"
    },
    "tags": []
   },
   "outputs": [],
   "source": [
    "#hide\n",
    "#delete problematic countries from table\n",
    "df_table = df_table[~df_table['Country/Region'].isin(['Cape Verde', 'Cruise Ship', 'Kosovo'])]"
   ]
  },
  {
   "cell_type": "code",
   "execution_count": 15,
   "id": "fantastic-effect",
   "metadata": {
    "execution": {
     "iopub.execute_input": "2022-09-30T01:13:17.588700Z",
     "iopub.status.busy": "2022-09-30T01:13:17.588055Z",
     "iopub.status.idle": "2022-09-30T01:13:17.604585Z",
     "shell.execute_reply": "2022-09-30T01:13:17.605040Z"
    },
    "papermill": {
     "duration": 0.070722,
     "end_time": "2022-09-30T01:13:17.605157",
     "exception": false,
     "start_time": "2022-09-30T01:13:17.534435",
     "status": "completed"
    },
    "tags": []
   },
   "outputs": [
    {
     "data": {
      "text/html": [
       "<div>\n",
       "<style scoped>\n",
       "    .dataframe tbody tr th:only-of-type {\n",
       "        vertical-align: middle;\n",
       "    }\n",
       "\n",
       "    .dataframe tbody tr th {\n",
       "        vertical-align: top;\n",
       "    }\n",
       "\n",
       "    .dataframe thead th {\n",
       "        text-align: right;\n",
       "    }\n",
       "</style>\n",
       "<table border=\"1\" class=\"dataframe\">\n",
       "  <thead>\n",
       "    <tr style=\"text-align: right;\">\n",
       "      <th></th>\n",
       "      <th>Country/Region</th>\n",
       "      <th>Cases</th>\n",
       "      <th>Deaths</th>\n",
       "      <th>PCases</th>\n",
       "      <th>PDeaths</th>\n",
       "      <th>Cases (+)</th>\n",
       "      <th>Deaths (+)</th>\n",
       "      <th>Fatality Rate</th>\n",
       "      <th>Continent</th>\n",
       "    </tr>\n",
       "  </thead>\n",
       "  <tbody>\n",
       "    <tr>\n",
       "      <th>0</th>\n",
       "      <td>US</td>\n",
       "      <td>96263778</td>\n",
       "      <td>1058595</td>\n",
       "      <td>96177282</td>\n",
       "      <td>1057335</td>\n",
       "      <td>86496</td>\n",
       "      <td>1260</td>\n",
       "      <td>1.1</td>\n",
       "      <td>North America</td>\n",
       "    </tr>\n",
       "    <tr>\n",
       "      <th>1</th>\n",
       "      <td>India</td>\n",
       "      <td>44583360</td>\n",
       "      <td>528611</td>\n",
       "      <td>44579088</td>\n",
       "      <td>528584</td>\n",
       "      <td>4272</td>\n",
       "      <td>27</td>\n",
       "      <td>1.2</td>\n",
       "      <td>Asia</td>\n",
       "    </tr>\n",
       "    <tr>\n",
       "      <th>2</th>\n",
       "      <td>France</td>\n",
       "      <td>35508658</td>\n",
       "      <td>156085</td>\n",
       "      <td>35456751</td>\n",
       "      <td>156049</td>\n",
       "      <td>51907</td>\n",
       "      <td>36</td>\n",
       "      <td>0.4</td>\n",
       "      <td>Europe</td>\n",
       "    </tr>\n",
       "    <tr>\n",
       "      <th>3</th>\n",
       "      <td>Brazil</td>\n",
       "      <td>34654190</td>\n",
       "      <td>685927</td>\n",
       "      <td>34638288</td>\n",
       "      <td>685835</td>\n",
       "      <td>15902</td>\n",
       "      <td>92</td>\n",
       "      <td>2.0</td>\n",
       "      <td>South America</td>\n",
       "    </tr>\n",
       "    <tr>\n",
       "      <th>4</th>\n",
       "      <td>Germany</td>\n",
       "      <td>33216006</td>\n",
       "      <td>149808</td>\n",
       "      <td>33137143</td>\n",
       "      <td>149714</td>\n",
       "      <td>78863</td>\n",
       "      <td>94</td>\n",
       "      <td>0.5</td>\n",
       "      <td>Europe</td>\n",
       "    </tr>\n",
       "  </tbody>\n",
       "</table>\n",
       "</div>"
      ],
      "text/plain": [
       "  Country/Region     Cases   Deaths    PCases  PDeaths  Cases (+)  Deaths (+)  \\\n",
       "0             US  96263778  1058595  96177282  1057335      86496        1260   \n",
       "1          India  44583360   528611  44579088   528584       4272          27   \n",
       "2         France  35508658   156085  35456751   156049      51907          36   \n",
       "3         Brazil  34654190   685927  34638288   685835      15902          92   \n",
       "4        Germany  33216006   149808  33137143   149714      78863          94   \n",
       "\n",
       "   Fatality Rate      Continent  \n",
       "0            1.1  North America  \n",
       "1            1.2           Asia  \n",
       "2            0.4         Europe  \n",
       "3            2.0  South America  \n",
       "4            0.5         Europe  "
      ]
     },
     "execution_count": 15,
     "metadata": {},
     "output_type": "execute_result"
    }
   ],
   "source": [
    "#hide\n",
    "df_table = (pd.DataFrame(dict(Cases=dfc_cases, Deaths=dfc_deaths, PCases=dfp_cases, PDeaths=dfp_deaths))\n",
    "             .sort_values(by=['Cases', 'Deaths'], ascending=[False, False])\n",
    "             .reset_index())\n",
    "df_table.rename(columns={'index': 'Country/Region'}, inplace=True)\n",
    "for c in 'Cases, Deaths'.split(', '):\n",
    "    df_table[f'{c} (+)'] = (df_table[c] - df_table[f'P{c}']).clip(0)  # DATA BUG\n",
    "df_table['Fatality Rate'] = (100 * df_table['Deaths'] / df_table['Cases']).round(1)\n",
    "df_table['Continent'] = df_table['Country/Region'].map(mapping['map.continent'])\n",
    "df_table.head(5)"
   ]
  },
  {
   "cell_type": "code",
   "execution_count": 16,
   "id": "fewer-occasion",
   "metadata": {
    "execution": {
     "iopub.execute_input": "2022-09-30T01:13:17.748462Z",
     "iopub.status.busy": "2022-09-30T01:13:17.747677Z",
     "iopub.status.idle": "2022-09-30T01:13:17.750907Z",
     "shell.execute_reply": "2022-09-30T01:13:17.751340Z"
    },
    "papermill": {
     "duration": 0.072608,
     "end_time": "2022-09-30T01:13:17.751469",
     "exception": false,
     "start_time": "2022-09-30T01:13:17.678861",
     "status": "completed"
    },
    "tags": []
   },
   "outputs": [],
   "source": [
    "#hide\n",
    "#delete problematic countries from table\n",
    "df_table = df_table[~df_table['Country/Region'].isin(['Cape Verde', 'Cruise Ship', 'Kosovo'])]"
   ]
  },
  {
   "cell_type": "code",
   "execution_count": 17,
   "id": "related-center",
   "metadata": {
    "execution": {
     "iopub.execute_input": "2022-09-30T01:13:17.845544Z",
     "iopub.status.busy": "2022-09-30T01:13:17.844973Z",
     "iopub.status.idle": "2022-09-30T01:13:17.855470Z",
     "shell.execute_reply": "2022-09-30T01:13:17.855006Z"
    },
    "papermill": {
     "duration": 0.06826,
     "end_time": "2022-09-30T01:13:17.855574",
     "exception": false,
     "start_time": "2022-09-30T01:13:17.787314",
     "status": "completed"
    },
    "tags": []
   },
   "outputs": [],
   "source": [
    "#hide\n",
    "metrics = [df_table.columns[index] for index in [1,2,5,6]]\n",
    "# s_china = df_table[df_table['Country/Region'].eq('China')][metrics].sum().add_prefix('China ')\n",
    "s_us = df_table[df_table['Country/Region'].eq('US')][metrics].sum().add_prefix('US ')\n",
    "s_eu = df_table[df_table['Continent'].eq('Europe')][metrics].sum().add_prefix('EU ')\n",
    "s_ind = df_table[df_table['Country/Region'].eq('India')][metrics].sum().add_prefix('India ')\n",
    "summary = {'updated': pd.to_datetime(dt_today), 'since': pd.to_datetime(dt_yday)}\n",
    "summary = {'updated': pd.to_datetime(dt_today), 'since': pd.to_datetime(dt_yday)}\n",
    "summary = {**summary, **df_table[metrics].sum(), **s_ind, **s_us, **s_eu}"
   ]
  },
  {
   "cell_type": "code",
   "execution_count": 18,
   "id": "engaging-syndrome",
   "metadata": {
    "execution": {
     "iopub.execute_input": "2022-09-30T01:13:17.926498Z",
     "iopub.status.busy": "2022-09-30T01:13:17.925942Z",
     "iopub.status.idle": "2022-09-30T01:13:17.944481Z",
     "shell.execute_reply": "2022-09-30T01:13:17.944893Z"
    },
    "papermill": {
     "duration": 0.055223,
     "end_time": "2022-09-30T01:13:17.945015",
     "exception": false,
     "start_time": "2022-09-30T01:13:17.889792",
     "status": "completed"
    },
    "tags": []
   },
   "outputs": [],
   "source": [
    "#hide\n",
    "dft_ct_new_cases = dft_cases.groupby(COL_REGION)[dt_cols].sum().diff(axis=1).fillna(0).astype(int)"
   ]
  },
  {
   "cell_type": "code",
   "execution_count": 19,
   "id": "neutral-assignment",
   "metadata": {
    "execution": {
     "iopub.execute_input": "2022-09-30T01:13:18.012153Z",
     "iopub.status.busy": "2022-09-30T01:13:18.011589Z",
     "iopub.status.idle": "2022-09-30T01:13:18.013902Z",
     "shell.execute_reply": "2022-09-30T01:13:18.014295Z"
    },
    "papermill": {
     "duration": 0.038613,
     "end_time": "2022-09-30T01:13:18.014412",
     "exception": false,
     "start_time": "2022-09-30T01:13:17.975799",
     "status": "completed"
    },
    "tags": []
   },
   "outputs": [],
   "source": [
    "#hide\n",
    "everydaycases = dft_ct_new_cases.cumsum(axis=1)"
   ]
  },
  {
   "cell_type": "code",
   "execution_count": 20,
   "id": "parliamentary-calgary",
   "metadata": {
    "execution": {
     "iopub.execute_input": "2022-09-30T01:13:18.080367Z",
     "iopub.status.busy": "2022-09-30T01:13:18.079791Z",
     "iopub.status.idle": "2022-09-30T01:13:18.663339Z",
     "shell.execute_reply": "2022-09-30T01:13:18.662867Z"
    },
    "papermill": {
     "duration": 0.618108,
     "end_time": "2022-09-30T01:13:18.663452",
     "exception": false,
     "start_time": "2022-09-30T01:13:18.045344",
     "status": "completed"
    },
    "tags": []
   },
   "outputs": [],
   "source": [
    "#hide\n",
    "import pandas as pd\n",
    "import matplotlib.pyplot as plt\n",
    "import matplotlib.ticker as ticker\n",
    "import matplotlib.animation as animation\n",
    "from IPython.display import HTML"
   ]
  },
  {
   "cell_type": "code",
   "execution_count": 21,
   "id": "lasting-extraction",
   "metadata": {
    "execution": {
     "iopub.execute_input": "2022-09-30T01:13:18.731762Z",
     "iopub.status.busy": "2022-09-30T01:13:18.731197Z",
     "iopub.status.idle": "2022-09-30T01:13:18.737660Z",
     "shell.execute_reply": "2022-09-30T01:13:18.738072Z"
    },
    "papermill": {
     "duration": 0.043728,
     "end_time": "2022-09-30T01:13:18.738187",
     "exception": false,
     "start_time": "2022-09-30T01:13:18.694459",
     "status": "completed"
    },
    "tags": []
   },
   "outputs": [],
   "source": [
    "#hide\n",
    "t = everydaycases.stack()"
   ]
  },
  {
   "cell_type": "code",
   "execution_count": 22,
   "id": "premier-sleeve",
   "metadata": {
    "execution": {
     "iopub.execute_input": "2022-09-30T01:13:18.804527Z",
     "iopub.status.busy": "2022-09-30T01:13:18.803928Z",
     "iopub.status.idle": "2022-09-30T01:13:18.816830Z",
     "shell.execute_reply": "2022-09-30T01:13:18.816385Z"
    },
    "papermill": {
     "duration": 0.047689,
     "end_time": "2022-09-30T01:13:18.816936",
     "exception": false,
     "start_time": "2022-09-30T01:13:18.769247",
     "status": "completed"
    },
    "tags": []
   },
   "outputs": [],
   "source": [
    "#hide\n",
    "g = t.reset_index(['Country/Region'])"
   ]
  },
  {
   "cell_type": "code",
   "execution_count": 23,
   "id": "distributed-pittsburgh",
   "metadata": {
    "execution": {
     "iopub.execute_input": "2022-09-30T01:13:18.882640Z",
     "iopub.status.busy": "2022-09-30T01:13:18.882083Z",
     "iopub.status.idle": "2022-09-30T01:13:18.884509Z",
     "shell.execute_reply": "2022-09-30T01:13:18.883970Z"
    },
    "papermill": {
     "duration": 0.036709,
     "end_time": "2022-09-30T01:13:18.884608",
     "exception": false,
     "start_time": "2022-09-30T01:13:18.847899",
     "status": "completed"
    },
    "tags": []
   },
   "outputs": [],
   "source": [
    "#hide\n",
    "g.index.name = 'date'"
   ]
  },
  {
   "cell_type": "code",
   "execution_count": 24,
   "id": "naked-donor",
   "metadata": {
    "execution": {
     "iopub.execute_input": "2022-09-30T01:13:18.950462Z",
     "iopub.status.busy": "2022-09-30T01:13:18.949910Z",
     "iopub.status.idle": "2022-09-30T01:13:18.952228Z",
     "shell.execute_reply": "2022-09-30T01:13:18.951814Z"
    },
    "papermill": {
     "duration": 0.036827,
     "end_time": "2022-09-30T01:13:18.952343",
     "exception": false,
     "start_time": "2022-09-30T01:13:18.915516",
     "status": "completed"
    },
    "tags": []
   },
   "outputs": [],
   "source": [
    "# #hide\n",
    "# g = g.reset_index(['date'])"
   ]
  },
  {
   "cell_type": "code",
   "execution_count": 25,
   "id": "incomplete-mustang",
   "metadata": {
    "execution": {
     "iopub.execute_input": "2022-09-30T01:13:19.017681Z",
     "iopub.status.busy": "2022-09-30T01:13:19.017133Z",
     "iopub.status.idle": "2022-09-30T01:13:19.019483Z",
     "shell.execute_reply": "2022-09-30T01:13:19.018964Z"
    },
    "papermill": {
     "duration": 0.036458,
     "end_time": "2022-09-30T01:13:19.019579",
     "exception": false,
     "start_time": "2022-09-30T01:13:18.983121",
     "status": "completed"
    },
    "tags": []
   },
   "outputs": [],
   "source": [
    "#hide\n",
    "# g.head()"
   ]
  },
  {
   "cell_type": "code",
   "execution_count": 26,
   "id": "specific-kruger",
   "metadata": {
    "execution": {
     "iopub.execute_input": "2022-09-30T01:13:19.084884Z",
     "iopub.status.busy": "2022-09-30T01:13:19.084317Z",
     "iopub.status.idle": "2022-09-30T01:13:19.086401Z",
     "shell.execute_reply": "2022-09-30T01:13:19.086806Z"
    },
    "papermill": {
     "duration": 0.0365,
     "end_time": "2022-09-30T01:13:19.086924",
     "exception": false,
     "start_time": "2022-09-30T01:13:19.050424",
     "status": "completed"
    },
    "tags": []
   },
   "outputs": [],
   "source": [
    "#hide\n",
    "# g.columns = ['date','country','cases']"
   ]
  },
  {
   "cell_type": "code",
   "execution_count": 27,
   "id": "tender-conversion",
   "metadata": {
    "execution": {
     "iopub.execute_input": "2022-09-30T01:13:19.152313Z",
     "iopub.status.busy": "2022-09-30T01:13:19.151710Z",
     "iopub.status.idle": "2022-09-30T01:13:19.154163Z",
     "shell.execute_reply": "2022-09-30T01:13:19.153704Z"
    },
    "papermill": {
     "duration": 0.036473,
     "end_time": "2022-09-30T01:13:19.154260",
     "exception": false,
     "start_time": "2022-09-30T01:13:19.117787",
     "status": "completed"
    },
    "tags": []
   },
   "outputs": [],
   "source": [
    "#hide\n",
    "# g['continent'] = g.country"
   ]
  },
  {
   "cell_type": "code",
   "execution_count": 28,
   "id": "substantial-wilderness",
   "metadata": {
    "execution": {
     "iopub.execute_input": "2022-09-30T01:13:19.219765Z",
     "iopub.status.busy": "2022-09-30T01:13:19.219205Z",
     "iopub.status.idle": "2022-09-30T01:13:19.221705Z",
     "shell.execute_reply": "2022-09-30T01:13:19.221289Z"
    },
    "papermill": {
     "duration": 0.036566,
     "end_time": "2022-09-30T01:13:19.221805",
     "exception": false,
     "start_time": "2022-09-30T01:13:19.185239",
     "status": "completed"
    },
    "tags": []
   },
   "outputs": [],
   "source": [
    "#hide\n",
    "# cols = list(g.columns.values)"
   ]
  },
  {
   "cell_type": "code",
   "execution_count": 29,
   "id": "solved-farming",
   "metadata": {
    "execution": {
     "iopub.execute_input": "2022-09-30T01:13:19.286906Z",
     "iopub.status.busy": "2022-09-30T01:13:19.286351Z",
     "iopub.status.idle": "2022-09-30T01:13:19.288674Z",
     "shell.execute_reply": "2022-09-30T01:13:19.288221Z"
    },
    "papermill": {
     "duration": 0.03616,
     "end_time": "2022-09-30T01:13:19.288775",
     "exception": false,
     "start_time": "2022-09-30T01:13:19.252615",
     "status": "completed"
    },
    "tags": []
   },
   "outputs": [],
   "source": [
    "#hide\n",
    "# cols.insert(0, cols.pop())"
   ]
  },
  {
   "cell_type": "code",
   "execution_count": 30,
   "id": "executed-adoption",
   "metadata": {
    "execution": {
     "iopub.execute_input": "2022-09-30T01:13:19.354897Z",
     "iopub.status.busy": "2022-09-30T01:13:19.354311Z",
     "iopub.status.idle": "2022-09-30T01:13:19.356781Z",
     "shell.execute_reply": "2022-09-30T01:13:19.356229Z"
    },
    "papermill": {
     "duration": 0.037132,
     "end_time": "2022-09-30T01:13:19.356882",
     "exception": false,
     "start_time": "2022-09-30T01:13:19.319750",
     "status": "completed"
    },
    "tags": []
   },
   "outputs": [],
   "source": [
    "#hide\n",
    "# g = g[cols]"
   ]
  },
  {
   "cell_type": "code",
   "execution_count": 31,
   "id": "subject-dublin",
   "metadata": {
    "execution": {
     "iopub.execute_input": "2022-09-30T01:13:19.422632Z",
     "iopub.status.busy": "2022-09-30T01:13:19.422053Z",
     "iopub.status.idle": "2022-09-30T01:13:19.424393Z",
     "shell.execute_reply": "2022-09-30T01:13:19.423840Z"
    },
    "papermill": {
     "duration": 0.03659,
     "end_time": "2022-09-30T01:13:19.424493",
     "exception": false,
     "start_time": "2022-09-30T01:13:19.387903",
     "status": "completed"
    },
    "tags": []
   },
   "outputs": [],
   "source": [
    "#hide\n",
    "# g['continent'] = g['continent'].map(mapping['map.continent'])"
   ]
  },
  {
   "cell_type": "code",
   "execution_count": 32,
   "id": "freelance-scout",
   "metadata": {
    "execution": {
     "iopub.execute_input": "2022-09-30T01:13:19.490412Z",
     "iopub.status.busy": "2022-09-30T01:13:19.489835Z",
     "iopub.status.idle": "2022-09-30T01:13:19.492271Z",
     "shell.execute_reply": "2022-09-30T01:13:19.491814Z"
    },
    "papermill": {
     "duration": 0.03664,
     "end_time": "2022-09-30T01:13:19.492371",
     "exception": false,
     "start_time": "2022-09-30T01:13:19.455731",
     "status": "completed"
    },
    "tags": []
   },
   "outputs": [],
   "source": [
    "#hide\n",
    "# g.head()"
   ]
  },
  {
   "cell_type": "code",
   "execution_count": 33,
   "id": "limited-engine",
   "metadata": {
    "execution": {
     "iopub.execute_input": "2022-09-30T01:13:19.558184Z",
     "iopub.status.busy": "2022-09-30T01:13:19.557606Z",
     "iopub.status.idle": "2022-09-30T01:13:19.560043Z",
     "shell.execute_reply": "2022-09-30T01:13:19.559605Z"
    },
    "papermill": {
     "duration": 0.036675,
     "end_time": "2022-09-30T01:13:19.560143",
     "exception": false,
     "start_time": "2022-09-30T01:13:19.523468",
     "status": "completed"
    },
    "tags": []
   },
   "outputs": [],
   "source": [
    "# hide\n",
    "# g['date'] = g['date'].astype('datetime64[ns]')"
   ]
  },
  {
   "cell_type": "code",
   "execution_count": 34,
   "id": "sophisticated-supervisor",
   "metadata": {
    "execution": {
     "iopub.execute_input": "2022-09-30T01:13:19.626126Z",
     "iopub.status.busy": "2022-09-30T01:13:19.625550Z",
     "iopub.status.idle": "2022-09-30T01:13:19.627902Z",
     "shell.execute_reply": "2022-09-30T01:13:19.627370Z"
    },
    "papermill": {
     "duration": 0.036587,
     "end_time": "2022-09-30T01:13:19.628002",
     "exception": false,
     "start_time": "2022-09-30T01:13:19.591415",
     "status": "completed"
    },
    "tags": []
   },
   "outputs": [],
   "source": [
    "#hide\n",
    "# g['date'] = g.date.dt.dayofyear"
   ]
  },
  {
   "cell_type": "code",
   "execution_count": 35,
   "id": "inside-dubai",
   "metadata": {
    "execution": {
     "iopub.execute_input": "2022-09-30T01:13:19.696665Z",
     "iopub.status.busy": "2022-09-30T01:13:19.696048Z",
     "iopub.status.idle": "2022-09-30T01:13:19.698639Z",
     "shell.execute_reply": "2022-09-30T01:13:19.698195Z"
    },
    "papermill": {
     "duration": 0.039652,
     "end_time": "2022-09-30T01:13:19.698739",
     "exception": false,
     "start_time": "2022-09-30T01:13:19.659087",
     "status": "completed"
    },
    "tags": []
   },
   "outputs": [],
   "source": [
    "#hide\n",
    "# g = g.rename(columns= {'continent':'group','country':'name','cases':'value'})"
   ]
  },
  {
   "cell_type": "code",
   "execution_count": 36,
   "id": "fleet-motorcycle",
   "metadata": {
    "execution": {
     "iopub.execute_input": "2022-09-30T01:13:19.764560Z",
     "iopub.status.busy": "2022-09-30T01:13:19.763965Z",
     "iopub.status.idle": "2022-09-30T01:13:19.766468Z",
     "shell.execute_reply": "2022-09-30T01:13:19.766033Z"
    },
    "papermill": {
     "duration": 0.036688,
     "end_time": "2022-09-30T01:13:19.766567",
     "exception": false,
     "start_time": "2022-09-30T01:13:19.729879",
     "status": "completed"
    },
    "tags": []
   },
   "outputs": [],
   "source": [
    "#hide\n",
    "# cols = ['name','group','day','value']"
   ]
  },
  {
   "cell_type": "code",
   "execution_count": 37,
   "id": "continued-sleeping",
   "metadata": {
    "execution": {
     "iopub.execute_input": "2022-09-30T01:13:19.832510Z",
     "iopub.status.busy": "2022-09-30T01:13:19.831904Z",
     "iopub.status.idle": "2022-09-30T01:13:19.834345Z",
     "shell.execute_reply": "2022-09-30T01:13:19.833819Z"
    },
    "papermill": {
     "duration": 0.036632,
     "end_time": "2022-09-30T01:13:19.834443",
     "exception": false,
     "start_time": "2022-09-30T01:13:19.797811",
     "status": "completed"
    },
    "tags": []
   },
   "outputs": [],
   "source": [
    "#hide\n",
    "# g.rename(columns= {'date':'day'},inplace = True)"
   ]
  },
  {
   "cell_type": "code",
   "execution_count": 38,
   "id": "major-fight",
   "metadata": {
    "execution": {
     "iopub.execute_input": "2022-09-30T01:13:19.900530Z",
     "iopub.status.busy": "2022-09-30T01:13:19.899839Z",
     "iopub.status.idle": "2022-09-30T01:13:19.902260Z",
     "shell.execute_reply": "2022-09-30T01:13:19.901732Z"
    },
    "papermill": {
     "duration": 0.036687,
     "end_time": "2022-09-30T01:13:19.902360",
     "exception": false,
     "start_time": "2022-09-30T01:13:19.865673",
     "status": "completed"
    },
    "tags": []
   },
   "outputs": [],
   "source": [
    "#hide\n",
    "# g = g[cols]"
   ]
  },
  {
   "cell_type": "code",
   "execution_count": 39,
   "id": "structured-mobile",
   "metadata": {
    "execution": {
     "iopub.execute_input": "2022-09-30T01:13:19.968589Z",
     "iopub.status.busy": "2022-09-30T01:13:19.967985Z",
     "iopub.status.idle": "2022-09-30T01:13:19.970256Z",
     "shell.execute_reply": "2022-09-30T01:13:19.970662Z"
    },
    "papermill": {
     "duration": 0.03739,
     "end_time": "2022-09-30T01:13:19.970779",
     "exception": false,
     "start_time": "2022-09-30T01:13:19.933389",
     "status": "completed"
    },
    "tags": []
   },
   "outputs": [],
   "source": [
    "# #hide\n",
    "# g = g[g.group.notna()]"
   ]
  },
  {
   "cell_type": "code",
   "execution_count": 40,
   "id": "determined-closing",
   "metadata": {
    "execution": {
     "iopub.execute_input": "2022-09-30T01:13:20.036968Z",
     "iopub.status.busy": "2022-09-30T01:13:20.036397Z",
     "iopub.status.idle": "2022-09-30T01:13:20.038325Z",
     "shell.execute_reply": "2022-09-30T01:13:20.037807Z"
    },
    "papermill": {
     "duration": 0.036526,
     "end_time": "2022-09-30T01:13:20.038424",
     "exception": false,
     "start_time": "2022-09-30T01:13:20.001898",
     "status": "completed"
    },
    "tags": []
   },
   "outputs": [],
   "source": [
    "# #hide\n",
    "# colors = dict(zip(\n",
    "#     [\"Oceania\", \"Europe\", \"Asia\", \"South America\", \"Middle East\", \"North America\", \"Africa\"],\n",
    "#     [\"#adb0ff\", \"#ffb3ff\", \"#90d595\", \"#e48381\", \"#aafbff\", \"#f7bb5f\", \"#eafb50\"]\n",
    "# ))\n",
    "# group_lk = g.set_index('name')['group'].to_dict()"
   ]
  },
  {
   "cell_type": "code",
   "execution_count": null,
   "id": "gross-drinking",
   "metadata": {
    "papermill": {
     "duration": 0.03109,
     "end_time": "2022-09-30T01:13:20.100561",
     "exception": false,
     "start_time": "2022-09-30T01:13:20.069471",
     "status": "completed"
    },
    "tags": []
   },
   "outputs": [],
   "source": []
  },
  {
   "cell_type": "code",
   "execution_count": 41,
   "id": "subject-macintosh",
   "metadata": {
    "execution": {
     "iopub.execute_input": "2022-09-30T01:13:20.166664Z",
     "iopub.status.busy": "2022-09-30T01:13:20.166082Z",
     "iopub.status.idle": "2022-09-30T01:13:20.169690Z",
     "shell.execute_reply": "2022-09-30T01:13:20.170103Z"
    },
    "papermill": {
     "duration": 0.038624,
     "end_time": "2022-09-30T01:13:20.170225",
     "exception": false,
     "start_time": "2022-09-30T01:13:20.131601",
     "status": "completed"
    },
    "tags": []
   },
   "outputs": [],
   "source": [
    "# #hide\n",
    "# fig, ax = plt.subplots(figsize=(15, 8))\n",
    "\n",
    "# def draw_barchart(current_day):\n",
    "#     dff = g[g['day'].eq(current_day)].sort_values(by='value', ascending=True).tail(10)\n",
    "#     ax.clear()\n",
    "#     ax.barh(dff['name'], dff['value'], color=[colors[group_lk[x]] for x in dff['name']])\n",
    "#     dx = dff['value'].max() / 200\n",
    "    \n",
    "#     for i, (value, name) in enumerate(zip(dff['value'], dff['name'])):\n",
    "#         ax.text(value-dx, i,     name,           size=14, weight=600, ha='right', va='bottom')\n",
    "#         ax.text(value-dx, i-.25, group_lk[name], size=10, color='#444444', ha='right', va='baseline')\n",
    "#         ax.text(value+dx, i,     f'{value:,.0f}',  size=14, ha='left',  va='center')\n",
    "#     ax.text(1, 0.4, current_day, transform=ax.transAxes, color='#777777', size=46, ha='right', weight=800)\n",
    "#     ax.text(0, 1.06, 'Population (thousands)', transform=ax.transAxes, size=12, color='#777777')\n",
    "#     ax.xaxis.set_major_formatter(ticker.StrMethodFormatter('{x:,.0f}'))\n",
    "#     ax.xaxis.set_ticks_position('top')\n",
    "#     ax.tick_params(axis='x', colors='#777777', labelsize=12)\n",
    "#     ax.set_yticks([])\n",
    "#     ax.margins(0, 0.01)\n",
    "#     ax.grid(which='major', axis='x', linestyle='-')\n",
    "#     ax.set_axisbelow(True)\n",
    "    \n",
    "#     ax.text(0, 1.15, 'Coronavirus',\n",
    "#             transform=ax.transAxes, size=24, weight=600, ha='left', va='top')\n",
    "# #     ax.text(1, 0, 'by @pratapvardhan; credit @jburnmurdoch', transform=ax.transAxes, color='#777777', ha='right',\n",
    "# #             bbox=dict(facecolor='white', alpha=0.8, edgecolor='white'))\n",
    "#     plt.box(False)"
   ]
  },
  {
   "cell_type": "code",
   "execution_count": 42,
   "id": "sexual-wages",
   "metadata": {
    "execution": {
     "iopub.execute_input": "2022-09-30T01:13:20.235830Z",
     "iopub.status.busy": "2022-09-30T01:13:20.235260Z",
     "iopub.status.idle": "2022-09-30T01:13:20.237165Z",
     "shell.execute_reply": "2022-09-30T01:13:20.236651Z"
    },
    "papermill": {
     "duration": 0.035983,
     "end_time": "2022-09-30T01:13:20.237261",
     "exception": false,
     "start_time": "2022-09-30T01:13:20.201278",
     "status": "completed"
    },
    "tags": []
   },
   "outputs": [],
   "source": [
    "# #hide_input\n",
    "# fig, ax = plt.subplots(figsize=(15, 8))\n",
    "# animator = animation.FuncAnimation(fig, draw_barchart, frames=range(g.day.values.min(), g.day.values.max()))\n",
    "# HTML(animator.to_jshtml())\n",
    "# # or use animator.to_html5_video() or animator.save() "
   ]
  },
  {
   "cell_type": "code",
   "execution_count": null,
   "id": "australian-container",
   "metadata": {
    "papermill": {
     "duration": 0.030888,
     "end_time": "2022-09-30T01:13:20.299321",
     "exception": false,
     "start_time": "2022-09-30T01:13:20.268433",
     "status": "completed"
    },
    "tags": []
   },
   "outputs": [],
   "source": []
  },
  {
   "cell_type": "code",
   "execution_count": null,
   "id": "mediterranean-pontiac",
   "metadata": {
    "papermill": {
     "duration": 0.030869,
     "end_time": "2022-09-30T01:13:20.361120",
     "exception": false,
     "start_time": "2022-09-30T01:13:20.330251",
     "status": "completed"
    },
    "tags": []
   },
   "outputs": [],
   "source": []
  },
  {
   "cell_type": "code",
   "execution_count": null,
   "id": "aging-legislature",
   "metadata": {
    "papermill": {
     "duration": 0.031005,
     "end_time": "2022-09-30T01:13:20.423461",
     "exception": false,
     "start_time": "2022-09-30T01:13:20.392456",
     "status": "completed"
    },
    "tags": []
   },
   "outputs": [],
   "source": []
  }
 ],
 "metadata": {
  "kernelspec": {
   "display_name": "Python 3",
   "language": "python",
   "name": "python3"
  },
  "language_info": {
   "codemirror_mode": {
    "name": "ipython",
    "version": 3
   },
   "file_extension": ".py",
   "mimetype": "text/x-python",
   "name": "python",
   "nbconvert_exporter": "python",
   "pygments_lexer": "ipython3",
   "version": "3.6.15"
  },
  "papermill": {
   "duration": 6.137646,
   "end_time": "2022-09-30T01:13:20.772638",
   "environment_variables": {},
   "exception": null,
   "input_path": "2020-03-21-covid19exp.ipynb",
   "output_path": "2020-03-21-covid19exp.ipynb",
   "parameters": {},
   "start_time": "2022-09-30T01:13:14.634992",
   "version": "2.0.0"
  }
 },
 "nbformat": 4,
 "nbformat_minor": 5
}