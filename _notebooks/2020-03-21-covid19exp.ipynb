{
 "cells": [
  {
   "cell_type": "markdown",
   "id": "muslim-click",
   "metadata": {
    "papermill": {
     "duration": 0.036904,
     "end_time": "2021-02-12T00:10:36.940616",
     "exception": false,
     "start_time": "2021-02-12T00:10:36.903712",
     "status": "completed"
    },
    "tags": []
   },
   "source": [
    "# COVID-19 Case Race\n",
    "> A race chart to see rising cases around the world\n",
    "\n",
    "- author: Hargun Oberoi\n",
    "- image: images/covid-overview.png\n",
    "- hide: false\n",
    "- badges: false"
   ]
  },
  {
   "cell_type": "code",
   "execution_count": 1,
   "id": "proof-material",
   "metadata": {
    "execution": {
     "iopub.execute_input": "2021-02-12T00:10:37.010211Z",
     "iopub.status.busy": "2021-02-12T00:10:37.009716Z",
     "iopub.status.idle": "2021-02-12T00:10:37.322168Z",
     "shell.execute_reply": "2021-02-12T00:10:37.321259Z"
    },
    "papermill": {
     "duration": 0.350416,
     "end_time": "2021-02-12T00:10:37.322408",
     "exception": false,
     "start_time": "2021-02-12T00:10:36.971992",
     "status": "completed"
    },
    "tags": []
   },
   "outputs": [],
   "source": [
    "#hide\n",
    "import numpy as np\n",
    "import pandas as pd\n",
    "from jinja2 import Template\n",
    "from IPython.display import HTML"
   ]
  },
  {
   "cell_type": "code",
   "execution_count": 2,
   "id": "developed-terminology",
   "metadata": {
    "execution": {
     "iopub.execute_input": "2021-02-12T00:10:37.392991Z",
     "iopub.status.busy": "2021-02-12T00:10:37.392487Z",
     "iopub.status.idle": "2021-02-12T00:10:37.394639Z",
     "shell.execute_reply": "2021-02-12T00:10:37.394115Z"
    },
    "papermill": {
     "duration": 0.037912,
     "end_time": "2021-02-12T00:10:37.394759",
     "exception": false,
     "start_time": "2021-02-12T00:10:37.356847",
     "status": "completed"
    },
    "tags": []
   },
   "outputs": [],
   "source": [
    "#hide\n",
    "\n",
    "# FETCH\n",
    "base_url = 'https://raw.githubusercontent.com/pratapvardhan/notebooks/master/covid19/'\n",
    "paths = {\n",
    "    'mapping': base_url + 'mapping_countries.csv',\n",
    "    'overview': base_url + 'overview.tpl'\n",
    "}"
   ]
  },
  {
   "cell_type": "code",
   "execution_count": 3,
   "id": "dynamic-saver",
   "metadata": {
    "execution": {
     "iopub.execute_input": "2021-02-12T00:10:37.464156Z",
     "iopub.status.busy": "2021-02-12T00:10:37.463541Z",
     "iopub.status.idle": "2021-02-12T00:10:37.467051Z",
     "shell.execute_reply": "2021-02-12T00:10:37.467516Z"
    },
    "papermill": {
     "duration": 0.044072,
     "end_time": "2021-02-12T00:10:37.467633",
     "exception": false,
     "start_time": "2021-02-12T00:10:37.423561",
     "status": "completed"
    },
    "tags": []
   },
   "outputs": [
    {
     "data": {
      "text/plain": [
       "'https://raw.githubusercontent.com/pratapvardhan/notebooks/master/covid19/mapping_countries.csv'"
      ]
     },
     "execution_count": 3,
     "metadata": {},
     "output_type": "execute_result"
    }
   ],
   "source": [
    "#hide\n",
    "paths['mapping']"
   ]
  },
  {
   "cell_type": "code",
   "execution_count": 4,
   "id": "urban-software",
   "metadata": {
    "execution": {
     "iopub.execute_input": "2021-02-12T00:10:37.535010Z",
     "iopub.status.busy": "2021-02-12T00:10:37.534437Z",
     "iopub.status.idle": "2021-02-12T00:10:37.537178Z",
     "shell.execute_reply": "2021-02-12T00:10:37.536703Z"
    },
    "papermill": {
     "duration": 0.039512,
     "end_time": "2021-02-12T00:10:37.537299",
     "exception": false,
     "start_time": "2021-02-12T00:10:37.497787",
     "status": "completed"
    },
    "tags": []
   },
   "outputs": [],
   "source": [
    "#hide\n",
    "def get_mappings(url):\n",
    "    df = pd.read_csv(url)\n",
    "    return {\n",
    "        'df': df,\n",
    "        'replace.country': dict(df.dropna(subset=['Name']).set_index('Country')['Name']),\n",
    "        'map.continent': dict(df.set_index('Name')['Continent'])\n",
    "    }"
   ]
  },
  {
   "cell_type": "code",
   "execution_count": 5,
   "id": "intimate-machinery",
   "metadata": {
    "execution": {
     "iopub.execute_input": "2021-02-12T00:10:37.603813Z",
     "iopub.status.busy": "2021-02-12T00:10:37.603184Z",
     "iopub.status.idle": "2021-02-12T00:10:37.682925Z",
     "shell.execute_reply": "2021-02-12T00:10:37.682406Z"
    },
    "papermill": {
     "duration": 0.115765,
     "end_time": "2021-02-12T00:10:37.683069",
     "exception": false,
     "start_time": "2021-02-12T00:10:37.567304",
     "status": "completed"
    },
    "tags": []
   },
   "outputs": [],
   "source": [
    "#hide\n",
    "mapping = get_mappings(paths['mapping'])"
   ]
  },
  {
   "cell_type": "code",
   "execution_count": 6,
   "id": "certified-tactics",
   "metadata": {
    "execution": {
     "iopub.execute_input": "2021-02-12T00:10:37.753633Z",
     "iopub.status.busy": "2021-02-12T00:10:37.752600Z",
     "iopub.status.idle": "2021-02-12T00:10:37.754259Z",
     "shell.execute_reply": "2021-02-12T00:10:37.754716Z"
    },
    "papermill": {
     "duration": 0.039625,
     "end_time": "2021-02-12T00:10:37.754849",
     "exception": false,
     "start_time": "2021-02-12T00:10:37.715224",
     "status": "completed"
    },
    "tags": []
   },
   "outputs": [],
   "source": [
    "#hide\n",
    "def get_template(path):\n",
    "    from urllib.parse import urlparse\n",
    "    if bool(urlparse(path).netloc):\n",
    "        from urllib.request import urlopen\n",
    "        return urlopen(path).read().decode('utf8')\n",
    "    return open(path).read()"
   ]
  },
  {
   "cell_type": "code",
   "execution_count": 7,
   "id": "realistic-blast",
   "metadata": {
    "execution": {
     "iopub.execute_input": "2021-02-12T00:10:37.817432Z",
     "iopub.status.busy": "2021-02-12T00:10:37.816956Z",
     "iopub.status.idle": "2021-02-12T00:10:37.819249Z",
     "shell.execute_reply": "2021-02-12T00:10:37.819785Z"
    },
    "papermill": {
     "duration": 0.036187,
     "end_time": "2021-02-12T00:10:37.819896",
     "exception": false,
     "start_time": "2021-02-12T00:10:37.783709",
     "status": "completed"
    },
    "tags": []
   },
   "outputs": [],
   "source": [
    "#hide\n",
    "def get_frame(name):\n",
    "    url = (\n",
    "        'https://raw.githubusercontent.com/CSSEGISandData/COVID-19/master/csse_covid_19_data/'\n",
    "        f'csse_covid_19_time_series/time_series_covid19_{name}_global.csv')\n",
    "    df = pd.read_csv(url)\n",
    "    # rename countries\n",
    "    df['Country/Region'] = df['Country/Region'].replace(mapping['replace.country'])\n",
    "    return df"
   ]
  },
  {
   "cell_type": "code",
   "execution_count": 8,
   "id": "affiliated-characterization",
   "metadata": {
    "execution": {
     "iopub.execute_input": "2021-02-12T00:10:37.880904Z",
     "iopub.status.busy": "2021-02-12T00:10:37.880296Z",
     "iopub.status.idle": "2021-02-12T00:10:37.885057Z",
     "shell.execute_reply": "2021-02-12T00:10:37.884501Z"
    },
    "papermill": {
     "duration": 0.039969,
     "end_time": "2021-02-12T00:10:37.885176",
     "exception": false,
     "start_time": "2021-02-12T00:10:37.845207",
     "status": "completed"
    },
    "tags": []
   },
   "outputs": [],
   "source": [
    "#hide\n",
    "def get_dates(df):\n",
    "    dt_cols = df.columns[~df.columns.isin(['Province/State', 'Country/Region', 'Lat', 'Long'])]\n",
    "    LAST_DATE_I = -1\n",
    "    # sometimes last column may be empty, then go backwards\n",
    "    for i in range(-1, -len(dt_cols), -1):\n",
    "        if not df[dt_cols[i]].fillna(0).eq(0).all():\n",
    "            LAST_DATE_I = i\n",
    "            break\n",
    "    return LAST_DATE_I, dt_cols"
   ]
  },
  {
   "cell_type": "code",
   "execution_count": 9,
   "id": "recent-optimization",
   "metadata": {
    "execution": {
     "iopub.execute_input": "2021-02-12T00:10:37.944733Z",
     "iopub.status.busy": "2021-02-12T00:10:37.944150Z",
     "iopub.status.idle": "2021-02-12T00:10:38.179454Z",
     "shell.execute_reply": "2021-02-12T00:10:38.178531Z"
    },
    "papermill": {
     "duration": 0.267824,
     "end_time": "2021-02-12T00:10:38.179593",
     "exception": false,
     "start_time": "2021-02-12T00:10:37.911769",
     "status": "completed"
    },
    "tags": []
   },
   "outputs": [],
   "source": [
    "#hide\n",
    "COL_REGION = 'Country/Region'\n",
    "# Confirmed, Recovered, Deaths\n",
    "df = get_frame('confirmed')\n",
    "# dft_: timeseries, dfc_: today country agg\n",
    "dft_cases = df\n",
    "dft_deaths = get_frame('deaths')\n",
    "dft_recovered = get_frame('recovered')\n",
    "LAST_DATE_I, dt_cols = get_dates(df)"
   ]
  },
  {
   "cell_type": "code",
   "execution_count": 10,
   "id": "absolute-copper",
   "metadata": {
    "execution": {
     "iopub.execute_input": "2021-02-12T00:10:38.248922Z",
     "iopub.status.busy": "2021-02-12T00:10:38.248376Z",
     "iopub.status.idle": "2021-02-12T00:10:38.251456Z",
     "shell.execute_reply": "2021-02-12T00:10:38.250977Z"
    },
    "papermill": {
     "duration": 0.041131,
     "end_time": "2021-02-12T00:10:38.251567",
     "exception": false,
     "start_time": "2021-02-12T00:10:38.210436",
     "status": "completed"
    },
    "tags": []
   },
   "outputs": [],
   "source": [
    "#hide\n",
    "LAST_DATE_I, dt_cols = get_dates(df)\n",
    "dt_today =dt_cols[LAST_DATE_I]\n",
    "# dt_5day = dt_cols[LAST_DATE_I - 5]\n",
    "dt_yday = dt_cols[LAST_DATE_I - 1]"
   ]
  },
  {
   "cell_type": "code",
   "execution_count": 11,
   "id": "restricted-sheriff",
   "metadata": {
    "execution": {
     "iopub.execute_input": "2021-02-12T00:10:38.316522Z",
     "iopub.status.busy": "2021-02-12T00:10:38.315968Z",
     "iopub.status.idle": "2021-02-12T00:10:38.323802Z",
     "shell.execute_reply": "2021-02-12T00:10:38.323393Z"
    },
    "papermill": {
     "duration": 0.041632,
     "end_time": "2021-02-12T00:10:38.323901",
     "exception": false,
     "start_time": "2021-02-12T00:10:38.282269",
     "status": "completed"
    },
    "tags": []
   },
   "outputs": [],
   "source": [
    "#hide\n",
    "dfc_cases = dft_cases.groupby(COL_REGION)[dt_today].sum()\n",
    "dfc_deaths = dft_deaths.groupby(COL_REGION)[dt_today].sum()\n",
    "# dfp_cases = dft_cases.groupby(COL_REGION)[dt_5day].sum()\n",
    "# dfp_deaths = dft_deaths.groupby(COL_REGION)[dt_5day].sum()\n",
    "dfp_cases = dft_cases.groupby(COL_REGION)[dt_yday].sum()\n",
    "dfp_deaths = dft_deaths.groupby(COL_REGION)[dt_yday].sum()"
   ]
  },
  {
   "cell_type": "code",
   "execution_count": 12,
   "id": "deluxe-hepatitis",
   "metadata": {
    "execution": {
     "iopub.execute_input": "2021-02-12T00:10:38.393923Z",
     "iopub.status.busy": "2021-02-12T00:10:38.393505Z",
     "iopub.status.idle": "2021-02-12T00:10:38.398913Z",
     "shell.execute_reply": "2021-02-12T00:10:38.398415Z"
    },
    "papermill": {
     "duration": 0.044848,
     "end_time": "2021-02-12T00:10:38.399053",
     "exception": false,
     "start_time": "2021-02-12T00:10:38.354205",
     "status": "completed"
    },
    "tags": []
   },
   "outputs": [],
   "source": [
    "#hide\n",
    "df_table = (pd.DataFrame(dict(Cases = dfc_cases, Deaths = dfc_deaths, PCases = dfp_cases, PDeaths = dfp_deaths))\n",
    "            .sort_values(by = ['Cases','Deaths'], ascending = [False, False])\n",
    "            .reset_index())"
   ]
  },
  {
   "cell_type": "code",
   "execution_count": 13,
   "id": "educational-chancellor",
   "metadata": {
    "execution": {
     "iopub.execute_input": "2021-02-12T00:10:38.482929Z",
     "iopub.status.busy": "2021-02-12T00:10:38.482402Z",
     "iopub.status.idle": "2021-02-12T00:10:38.490353Z",
     "shell.execute_reply": "2021-02-12T00:10:38.489904Z"
    },
    "papermill": {
     "duration": 0.059712,
     "end_time": "2021-02-12T00:10:38.490473",
     "exception": false,
     "start_time": "2021-02-12T00:10:38.430761",
     "status": "completed"
    },
    "tags": []
   },
   "outputs": [
    {
     "data": {
      "text/html": [
       "<div>\n",
       "<style scoped>\n",
       "    .dataframe tbody tr th:only-of-type {\n",
       "        vertical-align: middle;\n",
       "    }\n",
       "\n",
       "    .dataframe tbody tr th {\n",
       "        vertical-align: top;\n",
       "    }\n",
       "\n",
       "    .dataframe thead th {\n",
       "        text-align: right;\n",
       "    }\n",
       "</style>\n",
       "<table border=\"1\" class=\"dataframe\">\n",
       "  <thead>\n",
       "    <tr style=\"text-align: right;\">\n",
       "      <th></th>\n",
       "      <th>Country/Region</th>\n",
       "      <th>Cases</th>\n",
       "      <th>Deaths</th>\n",
       "      <th>PCases</th>\n",
       "      <th>PDeaths</th>\n",
       "      <th>Cases (+)</th>\n",
       "      <th>Deaths (+)</th>\n",
       "      <th>Fatality Rate</th>\n",
       "      <th>Continent</th>\n",
       "    </tr>\n",
       "  </thead>\n",
       "  <tbody>\n",
       "    <tr>\n",
       "      <th>0</th>\n",
       "      <td>US</td>\n",
       "      <td>27287159</td>\n",
       "      <td>471567</td>\n",
       "      <td>27112674</td>\n",
       "      <td>468203</td>\n",
       "      <td>174485</td>\n",
       "      <td>3364</td>\n",
       "      <td>1.73</td>\n",
       "      <td>North America</td>\n",
       "    </tr>\n",
       "    <tr>\n",
       "      <th>1</th>\n",
       "      <td>India</td>\n",
       "      <td>10871294</td>\n",
       "      <td>155360</td>\n",
       "      <td>10858371</td>\n",
       "      <td>155252</td>\n",
       "      <td>12923</td>\n",
       "      <td>108</td>\n",
       "      <td>1.43</td>\n",
       "      <td>Asia</td>\n",
       "    </tr>\n",
       "    <tr>\n",
       "      <th>2</th>\n",
       "      <td>Brazil</td>\n",
       "      <td>9659167</td>\n",
       "      <td>234850</td>\n",
       "      <td>9599565</td>\n",
       "      <td>233520</td>\n",
       "      <td>59602</td>\n",
       "      <td>1330</td>\n",
       "      <td>2.43</td>\n",
       "      <td>South America</td>\n",
       "    </tr>\n",
       "    <tr>\n",
       "      <th>3</th>\n",
       "      <td>United Kingdom</td>\n",
       "      <td>3996833</td>\n",
       "      <td>115068</td>\n",
       "      <td>3983756</td>\n",
       "      <td>114066</td>\n",
       "      <td>13077</td>\n",
       "      <td>1002</td>\n",
       "      <td>2.88</td>\n",
       "      <td>Europe</td>\n",
       "    </tr>\n",
       "    <tr>\n",
       "      <th>4</th>\n",
       "      <td>Russia</td>\n",
       "      <td>3968228</td>\n",
       "      <td>76873</td>\n",
       "      <td>3953970</td>\n",
       "      <td>76347</td>\n",
       "      <td>14258</td>\n",
       "      <td>526</td>\n",
       "      <td>1.94</td>\n",
       "      <td>Europe</td>\n",
       "    </tr>\n",
       "  </tbody>\n",
       "</table>\n",
       "</div>"
      ],
      "text/plain": [
       "   Country/Region     Cases  Deaths    PCases  PDeaths  Cases (+)  Deaths (+)  \\\n",
       "0              US  27287159  471567  27112674   468203     174485        3364   \n",
       "1           India  10871294  155360  10858371   155252      12923         108   \n",
       "2          Brazil   9659167  234850   9599565   233520      59602        1330   \n",
       "3  United Kingdom   3996833  115068   3983756   114066      13077        1002   \n",
       "4          Russia   3968228   76873   3953970    76347      14258         526   \n",
       "\n",
       "   Fatality Rate      Continent  \n",
       "0           1.73  North America  \n",
       "1           1.43           Asia  \n",
       "2           2.43  South America  \n",
       "3           2.88         Europe  \n",
       "4           1.94         Europe  "
      ]
     },
     "execution_count": 13,
     "metadata": {},
     "output_type": "execute_result"
    }
   ],
   "source": [
    "#hide\n",
    "for c in 'Cases, Deaths'.split(', '):\n",
    "    df_table[f'{c} (+)'] = (df_table[c] - df_table[f'P{c}']).clip(0)\n",
    "    #Clip ça veut dire, les chiffres negatif sont interdit\n",
    "df_table['Fatality Rate'] = (100* df_table['Deaths']/ df_table['Cases']).round(2)\n",
    "df_table['Continent'] = df_table['Country/Region'].map(mapping['map.continent'])\n",
    "df_table.head(5)"
   ]
  },
  {
   "cell_type": "code",
   "execution_count": 14,
   "id": "aboriginal-bulgaria",
   "metadata": {
    "execution": {
     "iopub.execute_input": "2021-02-12T00:10:38.557309Z",
     "iopub.status.busy": "2021-02-12T00:10:38.556756Z",
     "iopub.status.idle": "2021-02-12T00:10:38.558685Z",
     "shell.execute_reply": "2021-02-12T00:10:38.558189Z"
    },
    "papermill": {
     "duration": 0.038142,
     "end_time": "2021-02-12T00:10:38.558789",
     "exception": false,
     "start_time": "2021-02-12T00:10:38.520647",
     "status": "completed"
    },
    "tags": []
   },
   "outputs": [],
   "source": [
    "#hide\n",
    "#delete problematic countries from table\n",
    "df_table = df_table[~df_table['Country/Region'].isin(['Cape Verde', 'Cruise Ship', 'Kosovo'])]"
   ]
  },
  {
   "cell_type": "code",
   "execution_count": 15,
   "id": "fantastic-effect",
   "metadata": {
    "execution": {
     "iopub.execute_input": "2021-02-12T00:10:38.628927Z",
     "iopub.status.busy": "2021-02-12T00:10:38.628383Z",
     "iopub.status.idle": "2021-02-12T00:10:38.644683Z",
     "shell.execute_reply": "2021-02-12T00:10:38.644247Z"
    },
    "papermill": {
     "duration": 0.054954,
     "end_time": "2021-02-12T00:10:38.644791",
     "exception": false,
     "start_time": "2021-02-12T00:10:38.589837",
     "status": "completed"
    },
    "tags": []
   },
   "outputs": [
    {
     "data": {
      "text/html": [
       "<div>\n",
       "<style scoped>\n",
       "    .dataframe tbody tr th:only-of-type {\n",
       "        vertical-align: middle;\n",
       "    }\n",
       "\n",
       "    .dataframe tbody tr th {\n",
       "        vertical-align: top;\n",
       "    }\n",
       "\n",
       "    .dataframe thead th {\n",
       "        text-align: right;\n",
       "    }\n",
       "</style>\n",
       "<table border=\"1\" class=\"dataframe\">\n",
       "  <thead>\n",
       "    <tr style=\"text-align: right;\">\n",
       "      <th></th>\n",
       "      <th>Country/Region</th>\n",
       "      <th>Cases</th>\n",
       "      <th>Deaths</th>\n",
       "      <th>PCases</th>\n",
       "      <th>PDeaths</th>\n",
       "      <th>Cases (+)</th>\n",
       "      <th>Deaths (+)</th>\n",
       "      <th>Fatality Rate</th>\n",
       "      <th>Continent</th>\n",
       "    </tr>\n",
       "  </thead>\n",
       "  <tbody>\n",
       "    <tr>\n",
       "      <th>0</th>\n",
       "      <td>US</td>\n",
       "      <td>27287159</td>\n",
       "      <td>471567</td>\n",
       "      <td>27112674</td>\n",
       "      <td>468203</td>\n",
       "      <td>174485</td>\n",
       "      <td>3364</td>\n",
       "      <td>1.7</td>\n",
       "      <td>North America</td>\n",
       "    </tr>\n",
       "    <tr>\n",
       "      <th>1</th>\n",
       "      <td>India</td>\n",
       "      <td>10871294</td>\n",
       "      <td>155360</td>\n",
       "      <td>10858371</td>\n",
       "      <td>155252</td>\n",
       "      <td>12923</td>\n",
       "      <td>108</td>\n",
       "      <td>1.4</td>\n",
       "      <td>Asia</td>\n",
       "    </tr>\n",
       "    <tr>\n",
       "      <th>2</th>\n",
       "      <td>Brazil</td>\n",
       "      <td>9659167</td>\n",
       "      <td>234850</td>\n",
       "      <td>9599565</td>\n",
       "      <td>233520</td>\n",
       "      <td>59602</td>\n",
       "      <td>1330</td>\n",
       "      <td>2.4</td>\n",
       "      <td>South America</td>\n",
       "    </tr>\n",
       "    <tr>\n",
       "      <th>3</th>\n",
       "      <td>United Kingdom</td>\n",
       "      <td>3996833</td>\n",
       "      <td>115068</td>\n",
       "      <td>3983756</td>\n",
       "      <td>114066</td>\n",
       "      <td>13077</td>\n",
       "      <td>1002</td>\n",
       "      <td>2.9</td>\n",
       "      <td>Europe</td>\n",
       "    </tr>\n",
       "    <tr>\n",
       "      <th>4</th>\n",
       "      <td>Russia</td>\n",
       "      <td>3968228</td>\n",
       "      <td>76873</td>\n",
       "      <td>3953970</td>\n",
       "      <td>76347</td>\n",
       "      <td>14258</td>\n",
       "      <td>526</td>\n",
       "      <td>1.9</td>\n",
       "      <td>Europe</td>\n",
       "    </tr>\n",
       "  </tbody>\n",
       "</table>\n",
       "</div>"
      ],
      "text/plain": [
       "   Country/Region     Cases  Deaths    PCases  PDeaths  Cases (+)  Deaths (+)  \\\n",
       "0              US  27287159  471567  27112674   468203     174485        3364   \n",
       "1           India  10871294  155360  10858371   155252      12923         108   \n",
       "2          Brazil   9659167  234850   9599565   233520      59602        1330   \n",
       "3  United Kingdom   3996833  115068   3983756   114066      13077        1002   \n",
       "4          Russia   3968228   76873   3953970    76347      14258         526   \n",
       "\n",
       "   Fatality Rate      Continent  \n",
       "0            1.7  North America  \n",
       "1            1.4           Asia  \n",
       "2            2.4  South America  \n",
       "3            2.9         Europe  \n",
       "4            1.9         Europe  "
      ]
     },
     "execution_count": 15,
     "metadata": {},
     "output_type": "execute_result"
    }
   ],
   "source": [
    "#hide\n",
    "df_table = (pd.DataFrame(dict(Cases=dfc_cases, Deaths=dfc_deaths, PCases=dfp_cases, PDeaths=dfp_deaths))\n",
    "             .sort_values(by=['Cases', 'Deaths'], ascending=[False, False])\n",
    "             .reset_index())\n",
    "df_table.rename(columns={'index': 'Country/Region'}, inplace=True)\n",
    "for c in 'Cases, Deaths'.split(', '):\n",
    "    df_table[f'{c} (+)'] = (df_table[c] - df_table[f'P{c}']).clip(0)  # DATA BUG\n",
    "df_table['Fatality Rate'] = (100 * df_table['Deaths'] / df_table['Cases']).round(1)\n",
    "df_table['Continent'] = df_table['Country/Region'].map(mapping['map.continent'])\n",
    "df_table.head(5)"
   ]
  },
  {
   "cell_type": "code",
   "execution_count": 16,
   "id": "fewer-occasion",
   "metadata": {
    "execution": {
     "iopub.execute_input": "2021-02-12T00:10:38.711522Z",
     "iopub.status.busy": "2021-02-12T00:10:38.710961Z",
     "iopub.status.idle": "2021-02-12T00:10:38.713325Z",
     "shell.execute_reply": "2021-02-12T00:10:38.713801Z"
    },
    "papermill": {
     "duration": 0.03801,
     "end_time": "2021-02-12T00:10:38.713929",
     "exception": false,
     "start_time": "2021-02-12T00:10:38.675919",
     "status": "completed"
    },
    "tags": []
   },
   "outputs": [],
   "source": [
    "#hide\n",
    "#delete problematic countries from table\n",
    "df_table = df_table[~df_table['Country/Region'].isin(['Cape Verde', 'Cruise Ship', 'Kosovo'])]"
   ]
  },
  {
   "cell_type": "code",
   "execution_count": 17,
   "id": "related-center",
   "metadata": {
    "execution": {
     "iopub.execute_input": "2021-02-12T00:10:38.797725Z",
     "iopub.status.busy": "2021-02-12T00:10:38.783534Z",
     "iopub.status.idle": "2021-02-12T00:10:38.800377Z",
     "shell.execute_reply": "2021-02-12T00:10:38.800859Z"
    },
    "papermill": {
     "duration": 0.05708,
     "end_time": "2021-02-12T00:10:38.801001",
     "exception": false,
     "start_time": "2021-02-12T00:10:38.743921",
     "status": "completed"
    },
    "tags": []
   },
   "outputs": [],
   "source": [
    "#hide\n",
    "metrics = [df_table.columns[index] for index in [1,2,5,6]]\n",
    "# s_china = df_table[df_table['Country/Region'].eq('China')][metrics].sum().add_prefix('China ')\n",
    "s_us = df_table[df_table['Country/Region'].eq('US')][metrics].sum().add_prefix('US ')\n",
    "s_eu = df_table[df_table['Continent'].eq('Europe')][metrics].sum().add_prefix('EU ')\n",
    "s_ind = df_table[df_table['Country/Region'].eq('India')][metrics].sum().add_prefix('India ')\n",
    "summary = {'updated': pd.to_datetime(dt_today), 'since': pd.to_datetime(dt_yday)}\n",
    "summary = {'updated': pd.to_datetime(dt_today), 'since': pd.to_datetime(dt_yday)}\n",
    "summary = {**summary, **df_table[metrics].sum(), **s_ind, **s_us, **s_eu}"
   ]
  },
  {
   "cell_type": "code",
   "execution_count": 18,
   "id": "engaging-syndrome",
   "metadata": {
    "execution": {
     "iopub.execute_input": "2021-02-12T00:10:38.871626Z",
     "iopub.status.busy": "2021-02-12T00:10:38.871128Z",
     "iopub.status.idle": "2021-02-12T00:10:38.880131Z",
     "shell.execute_reply": "2021-02-12T00:10:38.879671Z"
    },
    "papermill": {
     "duration": 0.046817,
     "end_time": "2021-02-12T00:10:38.880240",
     "exception": false,
     "start_time": "2021-02-12T00:10:38.833423",
     "status": "completed"
    },
    "tags": []
   },
   "outputs": [],
   "source": [
    "#hide\n",
    "dft_ct_new_cases = dft_cases.groupby(COL_REGION)[dt_cols].sum().diff(axis=1).fillna(0).astype(int)"
   ]
  },
  {
   "cell_type": "code",
   "execution_count": 19,
   "id": "neutral-assignment",
   "metadata": {
    "execution": {
     "iopub.execute_input": "2021-02-12T00:10:38.948759Z",
     "iopub.status.busy": "2021-02-12T00:10:38.948224Z",
     "iopub.status.idle": "2021-02-12T00:10:38.950417Z",
     "shell.execute_reply": "2021-02-12T00:10:38.950878Z"
    },
    "papermill": {
     "duration": 0.039154,
     "end_time": "2021-02-12T00:10:38.951054",
     "exception": false,
     "start_time": "2021-02-12T00:10:38.911900",
     "status": "completed"
    },
    "tags": []
   },
   "outputs": [],
   "source": [
    "#hide\n",
    "everydaycases = dft_ct_new_cases.cumsum(axis=1)"
   ]
  },
  {
   "cell_type": "code",
   "execution_count": 20,
   "id": "parliamentary-calgary",
   "metadata": {
    "execution": {
     "iopub.execute_input": "2021-02-12T00:10:39.018052Z",
     "iopub.status.busy": "2021-02-12T00:10:39.017506Z",
     "iopub.status.idle": "2021-02-12T00:10:39.633835Z",
     "shell.execute_reply": "2021-02-12T00:10:39.632960Z"
    },
    "papermill": {
     "duration": 0.652067,
     "end_time": "2021-02-12T00:10:39.634053",
     "exception": false,
     "start_time": "2021-02-12T00:10:38.981986",
     "status": "completed"
    },
    "tags": []
   },
   "outputs": [],
   "source": [
    "#hide\n",
    "import pandas as pd\n",
    "import matplotlib.pyplot as plt\n",
    "import matplotlib.ticker as ticker\n",
    "import matplotlib.animation as animation\n",
    "from IPython.display import HTML"
   ]
  },
  {
   "cell_type": "code",
   "execution_count": 21,
   "id": "lasting-extraction",
   "metadata": {
    "execution": {
     "iopub.execute_input": "2021-02-12T00:10:39.698228Z",
     "iopub.status.busy": "2021-02-12T00:10:39.697796Z",
     "iopub.status.idle": "2021-02-12T00:10:39.704295Z",
     "shell.execute_reply": "2021-02-12T00:10:39.703402Z"
    },
    "papermill": {
     "duration": 0.039158,
     "end_time": "2021-02-12T00:10:39.704411",
     "exception": false,
     "start_time": "2021-02-12T00:10:39.665253",
     "status": "completed"
    },
    "tags": []
   },
   "outputs": [],
   "source": [
    "#hide\n",
    "t = everydaycases.stack()"
   ]
  },
  {
   "cell_type": "code",
   "execution_count": 22,
   "id": "premier-sleeve",
   "metadata": {
    "execution": {
     "iopub.execute_input": "2021-02-12T00:10:39.767327Z",
     "iopub.status.busy": "2021-02-12T00:10:39.766269Z",
     "iopub.status.idle": "2021-02-12T00:10:39.771961Z",
     "shell.execute_reply": "2021-02-12T00:10:39.771367Z"
    },
    "papermill": {
     "duration": 0.037661,
     "end_time": "2021-02-12T00:10:39.772077",
     "exception": false,
     "start_time": "2021-02-12T00:10:39.734416",
     "status": "completed"
    },
    "tags": []
   },
   "outputs": [],
   "source": [
    "#hide\n",
    "g = t.reset_index(['Country/Region'])"
   ]
  },
  {
   "cell_type": "code",
   "execution_count": 23,
   "id": "distributed-pittsburgh",
   "metadata": {
    "execution": {
     "iopub.execute_input": "2021-02-12T00:10:39.832647Z",
     "iopub.status.busy": "2021-02-12T00:10:39.832069Z",
     "iopub.status.idle": "2021-02-12T00:10:39.834539Z",
     "shell.execute_reply": "2021-02-12T00:10:39.835066Z"
    },
    "papermill": {
     "duration": 0.033491,
     "end_time": "2021-02-12T00:10:39.835214",
     "exception": false,
     "start_time": "2021-02-12T00:10:39.801723",
     "status": "completed"
    },
    "tags": []
   },
   "outputs": [],
   "source": [
    "#hide\n",
    "g.index.name = 'date'"
   ]
  },
  {
   "cell_type": "code",
   "execution_count": 24,
   "id": "naked-donor",
   "metadata": {
    "execution": {
     "iopub.execute_input": "2021-02-12T00:10:39.892946Z",
     "iopub.status.busy": "2021-02-12T00:10:39.892531Z",
     "iopub.status.idle": "2021-02-12T00:10:39.894677Z",
     "shell.execute_reply": "2021-02-12T00:10:39.894280Z"
    },
    "papermill": {
     "duration": 0.033108,
     "end_time": "2021-02-12T00:10:39.894772",
     "exception": false,
     "start_time": "2021-02-12T00:10:39.861664",
     "status": "completed"
    },
    "tags": []
   },
   "outputs": [],
   "source": [
    "# #hide\n",
    "# g = g.reset_index(['date'])"
   ]
  },
  {
   "cell_type": "code",
   "execution_count": 25,
   "id": "incomplete-mustang",
   "metadata": {
    "execution": {
     "iopub.execute_input": "2021-02-12T00:10:39.958536Z",
     "iopub.status.busy": "2021-02-12T00:10:39.958051Z",
     "iopub.status.idle": "2021-02-12T00:10:39.960504Z",
     "shell.execute_reply": "2021-02-12T00:10:39.960004Z"
    },
    "papermill": {
     "duration": 0.036257,
     "end_time": "2021-02-12T00:10:39.960609",
     "exception": false,
     "start_time": "2021-02-12T00:10:39.924352",
     "status": "completed"
    },
    "tags": []
   },
   "outputs": [],
   "source": [
    "#hide\n",
    "# g.head()"
   ]
  },
  {
   "cell_type": "code",
   "execution_count": 26,
   "id": "specific-kruger",
   "metadata": {
    "execution": {
     "iopub.execute_input": "2021-02-12T00:10:40.019710Z",
     "iopub.status.busy": "2021-02-12T00:10:40.019229Z",
     "iopub.status.idle": "2021-02-12T00:10:40.021366Z",
     "shell.execute_reply": "2021-02-12T00:10:40.021932Z"
    },
    "papermill": {
     "duration": 0.034828,
     "end_time": "2021-02-12T00:10:40.022056",
     "exception": false,
     "start_time": "2021-02-12T00:10:39.987228",
     "status": "completed"
    },
    "tags": []
   },
   "outputs": [],
   "source": [
    "#hide\n",
    "# g.columns = ['date','country','cases']"
   ]
  },
  {
   "cell_type": "code",
   "execution_count": 27,
   "id": "tender-conversion",
   "metadata": {
    "execution": {
     "iopub.execute_input": "2021-02-12T00:10:40.089459Z",
     "iopub.status.busy": "2021-02-12T00:10:40.088418Z",
     "iopub.status.idle": "2021-02-12T00:10:40.090563Z",
     "shell.execute_reply": "2021-02-12T00:10:40.091416Z"
    },
    "papermill": {
     "duration": 0.04065,
     "end_time": "2021-02-12T00:10:40.091643",
     "exception": false,
     "start_time": "2021-02-12T00:10:40.050993",
     "status": "completed"
    },
    "tags": []
   },
   "outputs": [],
   "source": [
    "#hide\n",
    "# g['continent'] = g.country"
   ]
  },
  {
   "cell_type": "code",
   "execution_count": 28,
   "id": "substantial-wilderness",
   "metadata": {
    "execution": {
     "iopub.execute_input": "2021-02-12T00:10:40.160641Z",
     "iopub.status.busy": "2021-02-12T00:10:40.160094Z",
     "iopub.status.idle": "2021-02-12T00:10:40.162519Z",
     "shell.execute_reply": "2021-02-12T00:10:40.163102Z"
    },
    "papermill": {
     "duration": 0.039828,
     "end_time": "2021-02-12T00:10:40.163246",
     "exception": false,
     "start_time": "2021-02-12T00:10:40.123418",
     "status": "completed"
    },
    "tags": []
   },
   "outputs": [],
   "source": [
    "#hide\n",
    "# cols = list(g.columns.values)"
   ]
  },
  {
   "cell_type": "code",
   "execution_count": 29,
   "id": "solved-farming",
   "metadata": {
    "execution": {
     "iopub.execute_input": "2021-02-12T00:10:40.235388Z",
     "iopub.status.busy": "2021-02-12T00:10:40.234307Z",
     "iopub.status.idle": "2021-02-12T00:10:40.236490Z",
     "shell.execute_reply": "2021-02-12T00:10:40.237186Z"
    },
    "papermill": {
     "duration": 0.040723,
     "end_time": "2021-02-12T00:10:40.237329",
     "exception": false,
     "start_time": "2021-02-12T00:10:40.196606",
     "status": "completed"
    },
    "tags": []
   },
   "outputs": [],
   "source": [
    "#hide\n",
    "# cols.insert(0, cols.pop())"
   ]
  },
  {
   "cell_type": "code",
   "execution_count": 30,
   "id": "executed-adoption",
   "metadata": {
    "execution": {
     "iopub.execute_input": "2021-02-12T00:10:40.307377Z",
     "iopub.status.busy": "2021-02-12T00:10:40.306802Z",
     "iopub.status.idle": "2021-02-12T00:10:40.308944Z",
     "shell.execute_reply": "2021-02-12T00:10:40.308427Z"
    },
    "papermill": {
     "duration": 0.037128,
     "end_time": "2021-02-12T00:10:40.309056",
     "exception": false,
     "start_time": "2021-02-12T00:10:40.271928",
     "status": "completed"
    },
    "tags": []
   },
   "outputs": [],
   "source": [
    "#hide\n",
    "# g = g[cols]"
   ]
  },
  {
   "cell_type": "code",
   "execution_count": 31,
   "id": "subject-dublin",
   "metadata": {
    "execution": {
     "iopub.execute_input": "2021-02-12T00:10:40.373659Z",
     "iopub.status.busy": "2021-02-12T00:10:40.372824Z",
     "iopub.status.idle": "2021-02-12T00:10:40.374567Z",
     "shell.execute_reply": "2021-02-12T00:10:40.375225Z"
    },
    "papermill": {
     "duration": 0.036035,
     "end_time": "2021-02-12T00:10:40.375402",
     "exception": false,
     "start_time": "2021-02-12T00:10:40.339367",
     "status": "completed"
    },
    "tags": []
   },
   "outputs": [],
   "source": [
    "#hide\n",
    "# g['continent'] = g['continent'].map(mapping['map.continent'])"
   ]
  },
  {
   "cell_type": "code",
   "execution_count": 32,
   "id": "freelance-scout",
   "metadata": {
    "execution": {
     "iopub.execute_input": "2021-02-12T00:10:40.445933Z",
     "iopub.status.busy": "2021-02-12T00:10:40.445346Z",
     "iopub.status.idle": "2021-02-12T00:10:40.447737Z",
     "shell.execute_reply": "2021-02-12T00:10:40.448256Z"
    },
    "papermill": {
     "duration": 0.039594,
     "end_time": "2021-02-12T00:10:40.448383",
     "exception": false,
     "start_time": "2021-02-12T00:10:40.408789",
     "status": "completed"
    },
    "tags": []
   },
   "outputs": [],
   "source": [
    "#hide\n",
    "# g.head()"
   ]
  },
  {
   "cell_type": "code",
   "execution_count": 33,
   "id": "limited-engine",
   "metadata": {
    "execution": {
     "iopub.execute_input": "2021-02-12T00:10:40.514055Z",
     "iopub.status.busy": "2021-02-12T00:10:40.513468Z",
     "iopub.status.idle": "2021-02-12T00:10:40.515765Z",
     "shell.execute_reply": "2021-02-12T00:10:40.516283Z"
    },
    "papermill": {
     "duration": 0.037218,
     "end_time": "2021-02-12T00:10:40.516409",
     "exception": false,
     "start_time": "2021-02-12T00:10:40.479191",
     "status": "completed"
    },
    "tags": []
   },
   "outputs": [],
   "source": [
    "# hide\n",
    "# g['date'] = g['date'].astype('datetime64[ns]')"
   ]
  },
  {
   "cell_type": "code",
   "execution_count": 34,
   "id": "sophisticated-supervisor",
   "metadata": {
    "execution": {
     "iopub.execute_input": "2021-02-12T00:10:40.581781Z",
     "iopub.status.busy": "2021-02-12T00:10:40.581135Z",
     "iopub.status.idle": "2021-02-12T00:10:40.582875Z",
     "shell.execute_reply": "2021-02-12T00:10:40.583314Z"
    },
    "papermill": {
     "duration": 0.036719,
     "end_time": "2021-02-12T00:10:40.583428",
     "exception": false,
     "start_time": "2021-02-12T00:10:40.546709",
     "status": "completed"
    },
    "tags": []
   },
   "outputs": [],
   "source": [
    "#hide\n",
    "# g['date'] = g.date.dt.dayofyear"
   ]
  },
  {
   "cell_type": "code",
   "execution_count": 35,
   "id": "inside-dubai",
   "metadata": {
    "execution": {
     "iopub.execute_input": "2021-02-12T00:10:40.645462Z",
     "iopub.status.busy": "2021-02-12T00:10:40.644983Z",
     "iopub.status.idle": "2021-02-12T00:10:40.647305Z",
     "shell.execute_reply": "2021-02-12T00:10:40.647909Z"
    },
    "papermill": {
     "duration": 0.034005,
     "end_time": "2021-02-12T00:10:40.648033",
     "exception": false,
     "start_time": "2021-02-12T00:10:40.614028",
     "status": "completed"
    },
    "tags": []
   },
   "outputs": [],
   "source": [
    "#hide\n",
    "# g = g.rename(columns= {'continent':'group','country':'name','cases':'value'})"
   ]
  },
  {
   "cell_type": "code",
   "execution_count": 36,
   "id": "fleet-motorcycle",
   "metadata": {
    "execution": {
     "iopub.execute_input": "2021-02-12T00:10:40.706815Z",
     "iopub.status.busy": "2021-02-12T00:10:40.706274Z",
     "iopub.status.idle": "2021-02-12T00:10:40.708613Z",
     "shell.execute_reply": "2021-02-12T00:10:40.708168Z"
    },
    "papermill": {
     "duration": 0.034133,
     "end_time": "2021-02-12T00:10:40.708696",
     "exception": false,
     "start_time": "2021-02-12T00:10:40.674563",
     "status": "completed"
    },
    "tags": []
   },
   "outputs": [],
   "source": [
    "#hide\n",
    "# cols = ['name','group','day','value']"
   ]
  },
  {
   "cell_type": "code",
   "execution_count": 37,
   "id": "continued-sleeping",
   "metadata": {
    "execution": {
     "iopub.execute_input": "2021-02-12T00:10:40.768921Z",
     "iopub.status.busy": "2021-02-12T00:10:40.768231Z",
     "iopub.status.idle": "2021-02-12T00:10:40.769679Z",
     "shell.execute_reply": "2021-02-12T00:10:40.770257Z"
    },
    "papermill": {
     "duration": 0.034901,
     "end_time": "2021-02-12T00:10:40.770404",
     "exception": false,
     "start_time": "2021-02-12T00:10:40.735503",
     "status": "completed"
    },
    "tags": []
   },
   "outputs": [],
   "source": [
    "#hide\n",
    "# g.rename(columns= {'date':'day'},inplace = True)"
   ]
  },
  {
   "cell_type": "code",
   "execution_count": 38,
   "id": "major-fight",
   "metadata": {
    "execution": {
     "iopub.execute_input": "2021-02-12T00:10:40.834924Z",
     "iopub.status.busy": "2021-02-12T00:10:40.834069Z",
     "iopub.status.idle": "2021-02-12T00:10:40.835706Z",
     "shell.execute_reply": "2021-02-12T00:10:40.836169Z"
    },
    "papermill": {
     "duration": 0.033844,
     "end_time": "2021-02-12T00:10:40.836300",
     "exception": false,
     "start_time": "2021-02-12T00:10:40.802456",
     "status": "completed"
    },
    "tags": []
   },
   "outputs": [],
   "source": [
    "#hide\n",
    "# g = g[cols]"
   ]
  },
  {
   "cell_type": "code",
   "execution_count": 39,
   "id": "structured-mobile",
   "metadata": {
    "execution": {
     "iopub.execute_input": "2021-02-12T00:10:40.898389Z",
     "iopub.status.busy": "2021-02-12T00:10:40.897884Z",
     "iopub.status.idle": "2021-02-12T00:10:40.899389Z",
     "shell.execute_reply": "2021-02-12T00:10:40.899787Z"
    },
    "papermill": {
     "duration": 0.035533,
     "end_time": "2021-02-12T00:10:40.899896",
     "exception": false,
     "start_time": "2021-02-12T00:10:40.864363",
     "status": "completed"
    },
    "tags": []
   },
   "outputs": [],
   "source": [
    "# #hide\n",
    "# g = g[g.group.notna()]"
   ]
  },
  {
   "cell_type": "code",
   "execution_count": 40,
   "id": "determined-closing",
   "metadata": {
    "execution": {
     "iopub.execute_input": "2021-02-12T00:10:40.966082Z",
     "iopub.status.busy": "2021-02-12T00:10:40.965438Z",
     "iopub.status.idle": "2021-02-12T00:10:40.967553Z",
     "shell.execute_reply": "2021-02-12T00:10:40.968142Z"
    },
    "papermill": {
     "duration": 0.037489,
     "end_time": "2021-02-12T00:10:40.968267",
     "exception": false,
     "start_time": "2021-02-12T00:10:40.930778",
     "status": "completed"
    },
    "tags": []
   },
   "outputs": [],
   "source": [
    "# #hide\n",
    "# colors = dict(zip(\n",
    "#     [\"Oceania\", \"Europe\", \"Asia\", \"South America\", \"Middle East\", \"North America\", \"Africa\"],\n",
    "#     [\"#adb0ff\", \"#ffb3ff\", \"#90d595\", \"#e48381\", \"#aafbff\", \"#f7bb5f\", \"#eafb50\"]\n",
    "# ))\n",
    "# group_lk = g.set_index('name')['group'].to_dict()"
   ]
  },
  {
   "cell_type": "code",
   "execution_count": null,
   "id": "gross-drinking",
   "metadata": {
    "papermill": {
     "duration": 0.031831,
     "end_time": "2021-02-12T00:10:41.031265",
     "exception": false,
     "start_time": "2021-02-12T00:10:40.999434",
     "status": "completed"
    },
    "tags": []
   },
   "outputs": [],
   "source": []
  },
  {
   "cell_type": "code",
   "execution_count": 41,
   "id": "subject-macintosh",
   "metadata": {
    "execution": {
     "iopub.execute_input": "2021-02-12T00:10:41.095520Z",
     "iopub.status.busy": "2021-02-12T00:10:41.095011Z",
     "iopub.status.idle": "2021-02-12T00:10:41.096978Z",
     "shell.execute_reply": "2021-02-12T00:10:41.097364Z"
    },
    "papermill": {
     "duration": 0.035596,
     "end_time": "2021-02-12T00:10:41.097479",
     "exception": false,
     "start_time": "2021-02-12T00:10:41.061883",
     "status": "completed"
    },
    "tags": []
   },
   "outputs": [],
   "source": [
    "# #hide\n",
    "# fig, ax = plt.subplots(figsize=(15, 8))\n",
    "\n",
    "# def draw_barchart(current_day):\n",
    "#     dff = g[g['day'].eq(current_day)].sort_values(by='value', ascending=True).tail(10)\n",
    "#     ax.clear()\n",
    "#     ax.barh(dff['name'], dff['value'], color=[colors[group_lk[x]] for x in dff['name']])\n",
    "#     dx = dff['value'].max() / 200\n",
    "    \n",
    "#     for i, (value, name) in enumerate(zip(dff['value'], dff['name'])):\n",
    "#         ax.text(value-dx, i,     name,           size=14, weight=600, ha='right', va='bottom')\n",
    "#         ax.text(value-dx, i-.25, group_lk[name], size=10, color='#444444', ha='right', va='baseline')\n",
    "#         ax.text(value+dx, i,     f'{value:,.0f}',  size=14, ha='left',  va='center')\n",
    "#     ax.text(1, 0.4, current_day, transform=ax.transAxes, color='#777777', size=46, ha='right', weight=800)\n",
    "#     ax.text(0, 1.06, 'Population (thousands)', transform=ax.transAxes, size=12, color='#777777')\n",
    "#     ax.xaxis.set_major_formatter(ticker.StrMethodFormatter('{x:,.0f}'))\n",
    "#     ax.xaxis.set_ticks_position('top')\n",
    "#     ax.tick_params(axis='x', colors='#777777', labelsize=12)\n",
    "#     ax.set_yticks([])\n",
    "#     ax.margins(0, 0.01)\n",
    "#     ax.grid(which='major', axis='x', linestyle='-')\n",
    "#     ax.set_axisbelow(True)\n",
    "    \n",
    "#     ax.text(0, 1.15, 'Coronavirus',\n",
    "#             transform=ax.transAxes, size=24, weight=600, ha='left', va='top')\n",
    "# #     ax.text(1, 0, 'by @pratapvardhan; credit @jburnmurdoch', transform=ax.transAxes, color='#777777', ha='right',\n",
    "# #             bbox=dict(facecolor='white', alpha=0.8, edgecolor='white'))\n",
    "#     plt.box(False)"
   ]
  },
  {
   "cell_type": "code",
   "execution_count": 42,
   "id": "sexual-wages",
   "metadata": {
    "execution": {
     "iopub.execute_input": "2021-02-12T00:10:41.159650Z",
     "iopub.status.busy": "2021-02-12T00:10:41.159090Z",
     "iopub.status.idle": "2021-02-12T00:10:41.161055Z",
     "shell.execute_reply": "2021-02-12T00:10:41.160671Z"
    },
    "papermill": {
     "duration": 0.033999,
     "end_time": "2021-02-12T00:10:41.161155",
     "exception": false,
     "start_time": "2021-02-12T00:10:41.127156",
     "status": "completed"
    },
    "tags": []
   },
   "outputs": [],
   "source": [
    "# #hide_input\n",
    "# fig, ax = plt.subplots(figsize=(15, 8))\n",
    "# animator = animation.FuncAnimation(fig, draw_barchart, frames=range(g.day.values.min(), g.day.values.max()))\n",
    "# HTML(animator.to_jshtml())\n",
    "# # or use animator.to_html5_video() or animator.save() "
   ]
  },
  {
   "cell_type": "code",
   "execution_count": null,
   "id": "australian-container",
   "metadata": {
    "papermill": {
     "duration": 0.033381,
     "end_time": "2021-02-12T00:10:41.226542",
     "exception": false,
     "start_time": "2021-02-12T00:10:41.193161",
     "status": "completed"
    },
    "tags": []
   },
   "outputs": [],
   "source": []
  },
  {
   "cell_type": "code",
   "execution_count": null,
   "id": "mediterranean-pontiac",
   "metadata": {
    "papermill": {
     "duration": 0.032722,
     "end_time": "2021-02-12T00:10:41.293031",
     "exception": false,
     "start_time": "2021-02-12T00:10:41.260309",
     "status": "completed"
    },
    "tags": []
   },
   "outputs": [],
   "source": []
  },
  {
   "cell_type": "code",
   "execution_count": null,
   "id": "aging-legislature",
   "metadata": {
    "papermill": {
     "duration": 0.027416,
     "end_time": "2021-02-12T00:10:41.349676",
     "exception": false,
     "start_time": "2021-02-12T00:10:41.322260",
     "status": "completed"
    },
    "tags": []
   },
   "outputs": [],
   "source": []
  }
 ],
 "metadata": {
  "kernelspec": {
   "display_name": "Python 3",
   "language": "python",
   "name": "python3"
  },
  "language_info": {
   "codemirror_mode": {
    "name": "ipython",
    "version": 3
   },
   "file_extension": ".py",
   "mimetype": "text/x-python",
   "name": "python",
   "nbconvert_exporter": "python",
   "pygments_lexer": "ipython3",
   "version": "3.6.12"
  },
  "papermill": {
   "duration": 6.02918,
   "end_time": "2021-02-12T00:10:41.686067",
   "environment_variables": {},
   "exception": null,
   "input_path": "2020-03-21-covid19exp.ipynb",
   "output_path": "2020-03-21-covid19exp.ipynb",
   "parameters": {},
   "start_time": "2021-02-12T00:10:35.656887",
   "version": "2.0.0"
  }
 },
 "nbformat": 4,
 "nbformat_minor": 5
}