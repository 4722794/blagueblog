{
 "cells": [
  {
   "cell_type": "markdown",
   "id": "muslim-click",
   "metadata": {
    "papermill": {
     "duration": 0.032901,
     "end_time": "2021-01-26T12:07:29.113147",
     "exception": false,
     "start_time": "2021-01-26T12:07:29.080246",
     "status": "completed"
    },
    "tags": []
   },
   "source": [
    "# COVID-19 Case Race\n",
    "> A race chart to see rising cases around the world\n",
    "\n",
    "- author: Hargun Oberoi\n",
    "- image: images/covid-overview.png\n",
    "- hide: false\n",
    "- badges: false"
   ]
  },
  {
   "cell_type": "code",
   "execution_count": 1,
   "id": "proof-material",
   "metadata": {
    "execution": {
     "iopub.execute_input": "2021-01-26T12:07:29.186788Z",
     "iopub.status.busy": "2021-01-26T12:07:29.181326Z",
     "iopub.status.idle": "2021-01-26T12:07:29.482189Z",
     "shell.execute_reply": "2021-01-26T12:07:29.481295Z"
    },
    "papermill": {
     "duration": 0.339426,
     "end_time": "2021-01-26T12:07:29.482482",
     "exception": false,
     "start_time": "2021-01-26T12:07:29.143056",
     "status": "completed"
    },
    "tags": []
   },
   "outputs": [],
   "source": [
    "#hide\n",
    "import numpy as np\n",
    "import pandas as pd\n",
    "from jinja2 import Template\n",
    "from IPython.display import HTML"
   ]
  },
  {
   "cell_type": "code",
   "execution_count": 2,
   "id": "developed-terminology",
   "metadata": {
    "execution": {
     "iopub.execute_input": "2021-01-26T12:07:29.543894Z",
     "iopub.status.busy": "2021-01-26T12:07:29.543446Z",
     "iopub.status.idle": "2021-01-26T12:07:29.545518Z",
     "shell.execute_reply": "2021-01-26T12:07:29.545910Z"
    },
    "papermill": {
     "duration": 0.034113,
     "end_time": "2021-01-26T12:07:29.546037",
     "exception": false,
     "start_time": "2021-01-26T12:07:29.511924",
     "status": "completed"
    },
    "tags": []
   },
   "outputs": [],
   "source": [
    "#hide\n",
    "\n",
    "# FETCH\n",
    "base_url = 'https://raw.githubusercontent.com/pratapvardhan/notebooks/master/covid19/'\n",
    "paths = {\n",
    "    'mapping': base_url + 'mapping_countries.csv',\n",
    "    'overview': base_url + 'overview.tpl'\n",
    "}"
   ]
  },
  {
   "cell_type": "code",
   "execution_count": 3,
   "id": "dynamic-saver",
   "metadata": {
    "execution": {
     "iopub.execute_input": "2021-01-26T12:07:29.606716Z",
     "iopub.status.busy": "2021-01-26T12:07:29.606152Z",
     "iopub.status.idle": "2021-01-26T12:07:29.610199Z",
     "shell.execute_reply": "2021-01-26T12:07:29.609854Z"
    },
    "papermill": {
     "duration": 0.037395,
     "end_time": "2021-01-26T12:07:29.610284",
     "exception": false,
     "start_time": "2021-01-26T12:07:29.572889",
     "status": "completed"
    },
    "tags": []
   },
   "outputs": [
    {
     "data": {
      "text/plain": [
       "'https://raw.githubusercontent.com/pratapvardhan/notebooks/master/covid19/mapping_countries.csv'"
      ]
     },
     "execution_count": 3,
     "metadata": {},
     "output_type": "execute_result"
    }
   ],
   "source": [
    "#hide\n",
    "paths['mapping']"
   ]
  },
  {
   "cell_type": "code",
   "execution_count": 4,
   "id": "urban-software",
   "metadata": {
    "execution": {
     "iopub.execute_input": "2021-01-26T12:07:29.667618Z",
     "iopub.status.busy": "2021-01-26T12:07:29.667045Z",
     "iopub.status.idle": "2021-01-26T12:07:29.669419Z",
     "shell.execute_reply": "2021-01-26T12:07:29.669930Z"
    },
    "papermill": {
     "duration": 0.033157,
     "end_time": "2021-01-26T12:07:29.670052",
     "exception": false,
     "start_time": "2021-01-26T12:07:29.636895",
     "status": "completed"
    },
    "tags": []
   },
   "outputs": [],
   "source": [
    "#hide\n",
    "def get_mappings(url):\n",
    "    df = pd.read_csv(url)\n",
    "    return {\n",
    "        'df': df,\n",
    "        'replace.country': dict(df.dropna(subset=['Name']).set_index('Country')['Name']),\n",
    "        'map.continent': dict(df.set_index('Name')['Continent'])\n",
    "    }"
   ]
  },
  {
   "cell_type": "code",
   "execution_count": 5,
   "id": "intimate-machinery",
   "metadata": {
    "execution": {
     "iopub.execute_input": "2021-01-26T12:07:29.730764Z",
     "iopub.status.busy": "2021-01-26T12:07:29.730182Z",
     "iopub.status.idle": "2021-01-26T12:07:29.766668Z",
     "shell.execute_reply": "2021-01-26T12:07:29.765776Z"
    },
    "papermill": {
     "duration": 0.067295,
     "end_time": "2021-01-26T12:07:29.766867",
     "exception": false,
     "start_time": "2021-01-26T12:07:29.699572",
     "status": "completed"
    },
    "tags": []
   },
   "outputs": [],
   "source": [
    "#hide\n",
    "mapping = get_mappings(paths['mapping'])"
   ]
  },
  {
   "cell_type": "code",
   "execution_count": 6,
   "id": "certified-tactics",
   "metadata": {
    "execution": {
     "iopub.execute_input": "2021-01-26T12:07:29.824066Z",
     "iopub.status.busy": "2021-01-26T12:07:29.823541Z",
     "iopub.status.idle": "2021-01-26T12:07:29.825361Z",
     "shell.execute_reply": "2021-01-26T12:07:29.825034Z"
    },
    "papermill": {
     "duration": 0.030745,
     "end_time": "2021-01-26T12:07:29.825448",
     "exception": false,
     "start_time": "2021-01-26T12:07:29.794703",
     "status": "completed"
    },
    "tags": []
   },
   "outputs": [],
   "source": [
    "#hide\n",
    "def get_template(path):\n",
    "    from urllib.parse import urlparse\n",
    "    if bool(urlparse(path).netloc):\n",
    "        from urllib.request import urlopen\n",
    "        return urlopen(path).read().decode('utf8')\n",
    "    return open(path).read()"
   ]
  },
  {
   "cell_type": "code",
   "execution_count": 7,
   "id": "realistic-blast",
   "metadata": {
    "execution": {
     "iopub.execute_input": "2021-01-26T12:07:29.889102Z",
     "iopub.status.busy": "2021-01-26T12:07:29.888509Z",
     "iopub.status.idle": "2021-01-26T12:07:29.889880Z",
     "shell.execute_reply": "2021-01-26T12:07:29.890385Z"
    },
    "papermill": {
     "duration": 0.036592,
     "end_time": "2021-01-26T12:07:29.890528",
     "exception": false,
     "start_time": "2021-01-26T12:07:29.853936",
     "status": "completed"
    },
    "tags": []
   },
   "outputs": [],
   "source": [
    "#hide\n",
    "def get_frame(name):\n",
    "    url = (\n",
    "        'https://raw.githubusercontent.com/CSSEGISandData/COVID-19/master/csse_covid_19_data/'\n",
    "        f'csse_covid_19_time_series/time_series_covid19_{name}_global.csv')\n",
    "    df = pd.read_csv(url)\n",
    "    # rename countries\n",
    "    df['Country/Region'] = df['Country/Region'].replace(mapping['replace.country'])\n",
    "    return df"
   ]
  },
  {
   "cell_type": "code",
   "execution_count": 8,
   "id": "affiliated-characterization",
   "metadata": {
    "execution": {
     "iopub.execute_input": "2021-01-26T12:07:29.955909Z",
     "iopub.status.busy": "2021-01-26T12:07:29.955372Z",
     "iopub.status.idle": "2021-01-26T12:07:29.957163Z",
     "shell.execute_reply": "2021-01-26T12:07:29.956815Z"
    },
    "papermill": {
     "duration": 0.036642,
     "end_time": "2021-01-26T12:07:29.957252",
     "exception": false,
     "start_time": "2021-01-26T12:07:29.920610",
     "status": "completed"
    },
    "tags": []
   },
   "outputs": [],
   "source": [
    "#hide\n",
    "def get_dates(df):\n",
    "    dt_cols = df.columns[~df.columns.isin(['Province/State', 'Country/Region', 'Lat', 'Long'])]\n",
    "    LAST_DATE_I = -1\n",
    "    # sometimes last column may be empty, then go backwards\n",
    "    for i in range(-1, -len(dt_cols), -1):\n",
    "        if not df[dt_cols[i]].fillna(0).eq(0).all():\n",
    "            LAST_DATE_I = i\n",
    "            break\n",
    "    return LAST_DATE_I, dt_cols"
   ]
  },
  {
   "cell_type": "code",
   "execution_count": 9,
   "id": "recent-optimization",
   "metadata": {
    "execution": {
     "iopub.execute_input": "2021-01-26T12:07:30.012563Z",
     "iopub.status.busy": "2021-01-26T12:07:30.012029Z",
     "iopub.status.idle": "2021-01-26T12:07:30.278084Z",
     "shell.execute_reply": "2021-01-26T12:07:30.278578Z"
    },
    "papermill": {
     "duration": 0.297166,
     "end_time": "2021-01-26T12:07:30.278746",
     "exception": false,
     "start_time": "2021-01-26T12:07:29.981580",
     "status": "completed"
    },
    "tags": []
   },
   "outputs": [],
   "source": [
    "#hide\n",
    "COL_REGION = 'Country/Region'\n",
    "# Confirmed, Recovered, Deaths\n",
    "df = get_frame('confirmed')\n",
    "# dft_: timeseries, dfc_: today country agg\n",
    "dft_cases = df\n",
    "dft_deaths = get_frame('deaths')\n",
    "dft_recovered = get_frame('recovered')\n",
    "LAST_DATE_I, dt_cols = get_dates(df)"
   ]
  },
  {
   "cell_type": "code",
   "execution_count": 10,
   "id": "absolute-copper",
   "metadata": {
    "execution": {
     "iopub.execute_input": "2021-01-26T12:07:30.349662Z",
     "iopub.status.busy": "2021-01-26T12:07:30.349183Z",
     "iopub.status.idle": "2021-01-26T12:07:30.351274Z",
     "shell.execute_reply": "2021-01-26T12:07:30.350732Z"
    },
    "papermill": {
     "duration": 0.03903,
     "end_time": "2021-01-26T12:07:30.351391",
     "exception": false,
     "start_time": "2021-01-26T12:07:30.312361",
     "status": "completed"
    },
    "tags": []
   },
   "outputs": [],
   "source": [
    "#hide\n",
    "LAST_DATE_I, dt_cols = get_dates(df)\n",
    "dt_today =dt_cols[LAST_DATE_I]\n",
    "# dt_5day = dt_cols[LAST_DATE_I - 5]\n",
    "dt_yday = dt_cols[LAST_DATE_I - 1]"
   ]
  },
  {
   "cell_type": "code",
   "execution_count": 11,
   "id": "restricted-sheriff",
   "metadata": {
    "execution": {
     "iopub.execute_input": "2021-01-26T12:07:30.419065Z",
     "iopub.status.busy": "2021-01-26T12:07:30.418619Z",
     "iopub.status.idle": "2021-01-26T12:07:30.426280Z",
     "shell.execute_reply": "2021-01-26T12:07:30.425837Z"
    },
    "papermill": {
     "duration": 0.044944,
     "end_time": "2021-01-26T12:07:30.426428",
     "exception": false,
     "start_time": "2021-01-26T12:07:30.381484",
     "status": "completed"
    },
    "tags": []
   },
   "outputs": [],
   "source": [
    "#hide\n",
    "dfc_cases = dft_cases.groupby(COL_REGION)[dt_today].sum()\n",
    "dfc_deaths = dft_deaths.groupby(COL_REGION)[dt_today].sum()\n",
    "# dfp_cases = dft_cases.groupby(COL_REGION)[dt_5day].sum()\n",
    "# dfp_deaths = dft_deaths.groupby(COL_REGION)[dt_5day].sum()\n",
    "dfp_cases = dft_cases.groupby(COL_REGION)[dt_yday].sum()\n",
    "dfp_deaths = dft_deaths.groupby(COL_REGION)[dt_yday].sum()"
   ]
  },
  {
   "cell_type": "code",
   "execution_count": 12,
   "id": "deluxe-hepatitis",
   "metadata": {
    "execution": {
     "iopub.execute_input": "2021-01-26T12:07:30.490708Z",
     "iopub.status.busy": "2021-01-26T12:07:30.490141Z",
     "iopub.status.idle": "2021-01-26T12:07:30.495078Z",
     "shell.execute_reply": "2021-01-26T12:07:30.495627Z"
    },
    "papermill": {
     "duration": 0.040962,
     "end_time": "2021-01-26T12:07:30.495769",
     "exception": false,
     "start_time": "2021-01-26T12:07:30.454807",
     "status": "completed"
    },
    "tags": []
   },
   "outputs": [],
   "source": [
    "#hide\n",
    "df_table = (pd.DataFrame(dict(Cases = dfc_cases, Deaths = dfc_deaths, PCases = dfp_cases, PDeaths = dfp_deaths))\n",
    "            .sort_values(by = ['Cases','Deaths'], ascending = [False, False])\n",
    "            .reset_index())"
   ]
  },
  {
   "cell_type": "code",
   "execution_count": 13,
   "id": "educational-chancellor",
   "metadata": {
    "execution": {
     "iopub.execute_input": "2021-01-26T12:07:30.560025Z",
     "iopub.status.busy": "2021-01-26T12:07:30.559489Z",
     "iopub.status.idle": "2021-01-26T12:07:30.570549Z",
     "shell.execute_reply": "2021-01-26T12:07:30.570122Z"
    },
    "papermill": {
     "duration": 0.048401,
     "end_time": "2021-01-26T12:07:30.570650",
     "exception": false,
     "start_time": "2021-01-26T12:07:30.522249",
     "status": "completed"
    },
    "tags": []
   },
   "outputs": [
    {
     "data": {
      "text/html": [
       "<div>\n",
       "<style scoped>\n",
       "    .dataframe tbody tr th:only-of-type {\n",
       "        vertical-align: middle;\n",
       "    }\n",
       "\n",
       "    .dataframe tbody tr th {\n",
       "        vertical-align: top;\n",
       "    }\n",
       "\n",
       "    .dataframe thead th {\n",
       "        text-align: right;\n",
       "    }\n",
       "</style>\n",
       "<table border=\"1\" class=\"dataframe\">\n",
       "  <thead>\n",
       "    <tr style=\"text-align: right;\">\n",
       "      <th></th>\n",
       "      <th>Country/Region</th>\n",
       "      <th>Cases</th>\n",
       "      <th>Deaths</th>\n",
       "      <th>PCases</th>\n",
       "      <th>PDeaths</th>\n",
       "      <th>Cases (+)</th>\n",
       "      <th>Deaths (+)</th>\n",
       "      <th>Fatality Rate</th>\n",
       "      <th>Continent</th>\n",
       "    </tr>\n",
       "  </thead>\n",
       "  <tbody>\n",
       "    <tr>\n",
       "      <th>0</th>\n",
       "      <td>US</td>\n",
       "      <td>25297059</td>\n",
       "      <td>421129</td>\n",
       "      <td>25145947</td>\n",
       "      <td>419214</td>\n",
       "      <td>151112</td>\n",
       "      <td>1915</td>\n",
       "      <td>1.66</td>\n",
       "      <td>North America</td>\n",
       "    </tr>\n",
       "    <tr>\n",
       "      <th>1</th>\n",
       "      <td>India</td>\n",
       "      <td>10676838</td>\n",
       "      <td>153587</td>\n",
       "      <td>10667736</td>\n",
       "      <td>153470</td>\n",
       "      <td>9102</td>\n",
       "      <td>117</td>\n",
       "      <td>1.44</td>\n",
       "      <td>Asia</td>\n",
       "    </tr>\n",
       "    <tr>\n",
       "      <th>2</th>\n",
       "      <td>Brazil</td>\n",
       "      <td>8871393</td>\n",
       "      <td>217664</td>\n",
       "      <td>8844577</td>\n",
       "      <td>217037</td>\n",
       "      <td>26816</td>\n",
       "      <td>627</td>\n",
       "      <td>2.45</td>\n",
       "      <td>South America</td>\n",
       "    </tr>\n",
       "    <tr>\n",
       "      <th>3</th>\n",
       "      <td>Russia</td>\n",
       "      <td>3698246</td>\n",
       "      <td>68841</td>\n",
       "      <td>3679247</td>\n",
       "      <td>68397</td>\n",
       "      <td>18999</td>\n",
       "      <td>444</td>\n",
       "      <td>1.86</td>\n",
       "      <td>Europe</td>\n",
       "    </tr>\n",
       "    <tr>\n",
       "      <th>4</th>\n",
       "      <td>United Kingdom</td>\n",
       "      <td>3680101</td>\n",
       "      <td>98723</td>\n",
       "      <td>3657857</td>\n",
       "      <td>98129</td>\n",
       "      <td>22244</td>\n",
       "      <td>594</td>\n",
       "      <td>2.68</td>\n",
       "      <td>Europe</td>\n",
       "    </tr>\n",
       "  </tbody>\n",
       "</table>\n",
       "</div>"
      ],
      "text/plain": [
       "   Country/Region     Cases  Deaths    PCases  PDeaths  Cases (+)  Deaths (+)  \\\n",
       "0              US  25297059  421129  25145947   419214     151112        1915   \n",
       "1           India  10676838  153587  10667736   153470       9102         117   \n",
       "2          Brazil   8871393  217664   8844577   217037      26816         627   \n",
       "3          Russia   3698246   68841   3679247    68397      18999         444   \n",
       "4  United Kingdom   3680101   98723   3657857    98129      22244         594   \n",
       "\n",
       "   Fatality Rate      Continent  \n",
       "0           1.66  North America  \n",
       "1           1.44           Asia  \n",
       "2           2.45  South America  \n",
       "3           1.86         Europe  \n",
       "4           2.68         Europe  "
      ]
     },
     "execution_count": 13,
     "metadata": {},
     "output_type": "execute_result"
    }
   ],
   "source": [
    "#hide\n",
    "for c in 'Cases, Deaths'.split(', '):\n",
    "    df_table[f'{c} (+)'] = (df_table[c] - df_table[f'P{c}']).clip(0)\n",
    "    #Clip ça veut dire, les chiffres negatif sont interdit\n",
    "df_table['Fatality Rate'] = (100* df_table['Deaths']/ df_table['Cases']).round(2)\n",
    "df_table['Continent'] = df_table['Country/Region'].map(mapping['map.continent'])\n",
    "df_table.head(5)"
   ]
  },
  {
   "cell_type": "code",
   "execution_count": 14,
   "id": "aboriginal-bulgaria",
   "metadata": {
    "execution": {
     "iopub.execute_input": "2021-01-26T12:07:30.636051Z",
     "iopub.status.busy": "2021-01-26T12:07:30.635482Z",
     "iopub.status.idle": "2021-01-26T12:07:30.639196Z",
     "shell.execute_reply": "2021-01-26T12:07:30.639650Z"
    },
    "papermill": {
     "duration": 0.039003,
     "end_time": "2021-01-26T12:07:30.639762",
     "exception": false,
     "start_time": "2021-01-26T12:07:30.600759",
     "status": "completed"
    },
    "tags": []
   },
   "outputs": [],
   "source": [
    "#hide\n",
    "#delete problematic countries from table\n",
    "df_table = df_table[~df_table['Country/Region'].isin(['Cape Verde', 'Cruise Ship', 'Kosovo'])]"
   ]
  },
  {
   "cell_type": "code",
   "execution_count": 15,
   "id": "fantastic-effect",
   "metadata": {
    "execution": {
     "iopub.execute_input": "2021-01-26T12:07:30.707492Z",
     "iopub.status.busy": "2021-01-26T12:07:30.706892Z",
     "iopub.status.idle": "2021-01-26T12:07:30.724383Z",
     "shell.execute_reply": "2021-01-26T12:07:30.724005Z"
    },
    "papermill": {
     "duration": 0.05468,
     "end_time": "2021-01-26T12:07:30.724489",
     "exception": false,
     "start_time": "2021-01-26T12:07:30.669809",
     "status": "completed"
    },
    "tags": []
   },
   "outputs": [
    {
     "data": {
      "text/html": [
       "<div>\n",
       "<style scoped>\n",
       "    .dataframe tbody tr th:only-of-type {\n",
       "        vertical-align: middle;\n",
       "    }\n",
       "\n",
       "    .dataframe tbody tr th {\n",
       "        vertical-align: top;\n",
       "    }\n",
       "\n",
       "    .dataframe thead th {\n",
       "        text-align: right;\n",
       "    }\n",
       "</style>\n",
       "<table border=\"1\" class=\"dataframe\">\n",
       "  <thead>\n",
       "    <tr style=\"text-align: right;\">\n",
       "      <th></th>\n",
       "      <th>Country/Region</th>\n",
       "      <th>Cases</th>\n",
       "      <th>Deaths</th>\n",
       "      <th>PCases</th>\n",
       "      <th>PDeaths</th>\n",
       "      <th>Cases (+)</th>\n",
       "      <th>Deaths (+)</th>\n",
       "      <th>Fatality Rate</th>\n",
       "      <th>Continent</th>\n",
       "    </tr>\n",
       "  </thead>\n",
       "  <tbody>\n",
       "    <tr>\n",
       "      <th>0</th>\n",
       "      <td>US</td>\n",
       "      <td>25297059</td>\n",
       "      <td>421129</td>\n",
       "      <td>25145947</td>\n",
       "      <td>419214</td>\n",
       "      <td>151112</td>\n",
       "      <td>1915</td>\n",
       "      <td>1.7</td>\n",
       "      <td>North America</td>\n",
       "    </tr>\n",
       "    <tr>\n",
       "      <th>1</th>\n",
       "      <td>India</td>\n",
       "      <td>10676838</td>\n",
       "      <td>153587</td>\n",
       "      <td>10667736</td>\n",
       "      <td>153470</td>\n",
       "      <td>9102</td>\n",
       "      <td>117</td>\n",
       "      <td>1.4</td>\n",
       "      <td>Asia</td>\n",
       "    </tr>\n",
       "    <tr>\n",
       "      <th>2</th>\n",
       "      <td>Brazil</td>\n",
       "      <td>8871393</td>\n",
       "      <td>217664</td>\n",
       "      <td>8844577</td>\n",
       "      <td>217037</td>\n",
       "      <td>26816</td>\n",
       "      <td>627</td>\n",
       "      <td>2.5</td>\n",
       "      <td>South America</td>\n",
       "    </tr>\n",
       "    <tr>\n",
       "      <th>3</th>\n",
       "      <td>Russia</td>\n",
       "      <td>3698246</td>\n",
       "      <td>68841</td>\n",
       "      <td>3679247</td>\n",
       "      <td>68397</td>\n",
       "      <td>18999</td>\n",
       "      <td>444</td>\n",
       "      <td>1.9</td>\n",
       "      <td>Europe</td>\n",
       "    </tr>\n",
       "    <tr>\n",
       "      <th>4</th>\n",
       "      <td>United Kingdom</td>\n",
       "      <td>3680101</td>\n",
       "      <td>98723</td>\n",
       "      <td>3657857</td>\n",
       "      <td>98129</td>\n",
       "      <td>22244</td>\n",
       "      <td>594</td>\n",
       "      <td>2.7</td>\n",
       "      <td>Europe</td>\n",
       "    </tr>\n",
       "  </tbody>\n",
       "</table>\n",
       "</div>"
      ],
      "text/plain": [
       "   Country/Region     Cases  Deaths    PCases  PDeaths  Cases (+)  Deaths (+)  \\\n",
       "0              US  25297059  421129  25145947   419214     151112        1915   \n",
       "1           India  10676838  153587  10667736   153470       9102         117   \n",
       "2          Brazil   8871393  217664   8844577   217037      26816         627   \n",
       "3          Russia   3698246   68841   3679247    68397      18999         444   \n",
       "4  United Kingdom   3680101   98723   3657857    98129      22244         594   \n",
       "\n",
       "   Fatality Rate      Continent  \n",
       "0            1.7  North America  \n",
       "1            1.4           Asia  \n",
       "2            2.5  South America  \n",
       "3            1.9         Europe  \n",
       "4            2.7         Europe  "
      ]
     },
     "execution_count": 15,
     "metadata": {},
     "output_type": "execute_result"
    }
   ],
   "source": [
    "#hide\n",
    "df_table = (pd.DataFrame(dict(Cases=dfc_cases, Deaths=dfc_deaths, PCases=dfp_cases, PDeaths=dfp_deaths))\n",
    "             .sort_values(by=['Cases', 'Deaths'], ascending=[False, False])\n",
    "             .reset_index())\n",
    "df_table.rename(columns={'index': 'Country/Region'}, inplace=True)\n",
    "for c in 'Cases, Deaths'.split(', '):\n",
    "    df_table[f'{c} (+)'] = (df_table[c] - df_table[f'P{c}']).clip(0)  # DATA BUG\n",
    "df_table['Fatality Rate'] = (100 * df_table['Deaths'] / df_table['Cases']).round(1)\n",
    "df_table['Continent'] = df_table['Country/Region'].map(mapping['map.continent'])\n",
    "df_table.head(5)"
   ]
  },
  {
   "cell_type": "code",
   "execution_count": 16,
   "id": "fewer-occasion",
   "metadata": {
    "execution": {
     "iopub.execute_input": "2021-01-26T12:07:30.786545Z",
     "iopub.status.busy": "2021-01-26T12:07:30.785990Z",
     "iopub.status.idle": "2021-01-26T12:07:30.787955Z",
     "shell.execute_reply": "2021-01-26T12:07:30.787528Z"
    },
    "papermill": {
     "duration": 0.035471,
     "end_time": "2021-01-26T12:07:30.788051",
     "exception": false,
     "start_time": "2021-01-26T12:07:30.752580",
     "status": "completed"
    },
    "tags": []
   },
   "outputs": [],
   "source": [
    "#hide\n",
    "#delete problematic countries from table\n",
    "df_table = df_table[~df_table['Country/Region'].isin(['Cape Verde', 'Cruise Ship', 'Kosovo'])]"
   ]
  },
  {
   "cell_type": "code",
   "execution_count": 17,
   "id": "related-center",
   "metadata": {
    "execution": {
     "iopub.execute_input": "2021-01-26T12:07:30.848510Z",
     "iopub.status.busy": "2021-01-26T12:07:30.847974Z",
     "iopub.status.idle": "2021-01-26T12:07:30.860121Z",
     "shell.execute_reply": "2021-01-26T12:07:30.860476Z"
    },
    "papermill": {
     "duration": 0.045826,
     "end_time": "2021-01-26T12:07:30.860588",
     "exception": false,
     "start_time": "2021-01-26T12:07:30.814762",
     "status": "completed"
    },
    "tags": []
   },
   "outputs": [],
   "source": [
    "#hide\n",
    "metrics = [df_table.columns[index] for index in [1,2,5,6]]\n",
    "# s_china = df_table[df_table['Country/Region'].eq('China')][metrics].sum().add_prefix('China ')\n",
    "s_us = df_table[df_table['Country/Region'].eq('US')][metrics].sum().add_prefix('US ')\n",
    "s_eu = df_table[df_table['Continent'].eq('Europe')][metrics].sum().add_prefix('EU ')\n",
    "s_ind = df_table[df_table['Country/Region'].eq('India')][metrics].sum().add_prefix('India ')\n",
    "summary = {'updated': pd.to_datetime(dt_today), 'since': pd.to_datetime(dt_yday)}\n",
    "summary = {'updated': pd.to_datetime(dt_today), 'since': pd.to_datetime(dt_yday)}\n",
    "summary = {**summary, **df_table[metrics].sum(), **s_ind, **s_us, **s_eu}"
   ]
  },
  {
   "cell_type": "code",
   "execution_count": 18,
   "id": "engaging-syndrome",
   "metadata": {
    "execution": {
     "iopub.execute_input": "2021-01-26T12:07:30.927568Z",
     "iopub.status.busy": "2021-01-26T12:07:30.927156Z",
     "iopub.status.idle": "2021-01-26T12:07:30.937619Z",
     "shell.execute_reply": "2021-01-26T12:07:30.937234Z"
    },
    "papermill": {
     "duration": 0.045652,
     "end_time": "2021-01-26T12:07:30.937734",
     "exception": false,
     "start_time": "2021-01-26T12:07:30.892082",
     "status": "completed"
    },
    "tags": []
   },
   "outputs": [],
   "source": [
    "#hide\n",
    "dft_ct_new_cases = dft_cases.groupby(COL_REGION)[dt_cols].sum().diff(axis=1).fillna(0).astype(int)"
   ]
  },
  {
   "cell_type": "code",
   "execution_count": 19,
   "id": "neutral-assignment",
   "metadata": {
    "execution": {
     "iopub.execute_input": "2021-01-26T12:07:31.003512Z",
     "iopub.status.busy": "2021-01-26T12:07:31.002989Z",
     "iopub.status.idle": "2021-01-26T12:07:31.005376Z",
     "shell.execute_reply": "2021-01-26T12:07:31.005046Z"
    },
    "papermill": {
     "duration": 0.039701,
     "end_time": "2021-01-26T12:07:31.005467",
     "exception": false,
     "start_time": "2021-01-26T12:07:30.965766",
     "status": "completed"
    },
    "tags": []
   },
   "outputs": [],
   "source": [
    "#hide\n",
    "everydaycases = dft_ct_new_cases.cumsum(axis=1)"
   ]
  },
  {
   "cell_type": "code",
   "execution_count": 20,
   "id": "parliamentary-calgary",
   "metadata": {
    "execution": {
     "iopub.execute_input": "2021-01-26T12:07:31.062467Z",
     "iopub.status.busy": "2021-01-26T12:07:31.061903Z",
     "iopub.status.idle": "2021-01-26T12:07:33.437631Z",
     "shell.execute_reply": "2021-01-26T12:07:33.436631Z"
    },
    "papermill": {
     "duration": 2.406421,
     "end_time": "2021-01-26T12:07:33.437771",
     "exception": false,
     "start_time": "2021-01-26T12:07:31.031350",
     "status": "completed"
    },
    "tags": []
   },
   "outputs": [],
   "source": [
    "#hide\n",
    "import pandas as pd\n",
    "import matplotlib.pyplot as plt\n",
    "import matplotlib.ticker as ticker\n",
    "import matplotlib.animation as animation\n",
    "from IPython.display import HTML"
   ]
  },
  {
   "cell_type": "code",
   "execution_count": 21,
   "id": "lasting-extraction",
   "metadata": {
    "execution": {
     "iopub.execute_input": "2021-01-26T12:07:33.504213Z",
     "iopub.status.busy": "2021-01-26T12:07:33.503190Z",
     "iopub.status.idle": "2021-01-26T12:07:33.507802Z",
     "shell.execute_reply": "2021-01-26T12:07:33.507375Z"
    },
    "papermill": {
     "duration": 0.039366,
     "end_time": "2021-01-26T12:07:33.507905",
     "exception": false,
     "start_time": "2021-01-26T12:07:33.468539",
     "status": "completed"
    },
    "tags": []
   },
   "outputs": [],
   "source": [
    "#hide\n",
    "t = everydaycases.stack()"
   ]
  },
  {
   "cell_type": "code",
   "execution_count": 22,
   "id": "premier-sleeve",
   "metadata": {
    "execution": {
     "iopub.execute_input": "2021-01-26T12:07:33.572066Z",
     "iopub.status.busy": "2021-01-26T12:07:33.571483Z",
     "iopub.status.idle": "2021-01-26T12:07:33.581072Z",
     "shell.execute_reply": "2021-01-26T12:07:33.580634Z"
    },
    "papermill": {
     "duration": 0.043768,
     "end_time": "2021-01-26T12:07:33.581176",
     "exception": false,
     "start_time": "2021-01-26T12:07:33.537408",
     "status": "completed"
    },
    "tags": []
   },
   "outputs": [],
   "source": [
    "#hide\n",
    "g = t.reset_index(['Country/Region'])"
   ]
  },
  {
   "cell_type": "code",
   "execution_count": 23,
   "id": "distributed-pittsburgh",
   "metadata": {
    "execution": {
     "iopub.execute_input": "2021-01-26T12:07:33.648295Z",
     "iopub.status.busy": "2021-01-26T12:07:33.647762Z",
     "iopub.status.idle": "2021-01-26T12:07:33.650038Z",
     "shell.execute_reply": "2021-01-26T12:07:33.649582Z"
    },
    "papermill": {
     "duration": 0.037851,
     "end_time": "2021-01-26T12:07:33.650151",
     "exception": false,
     "start_time": "2021-01-26T12:07:33.612300",
     "status": "completed"
    },
    "tags": []
   },
   "outputs": [],
   "source": [
    "#hide\n",
    "g.index.name = 'date'"
   ]
  },
  {
   "cell_type": "code",
   "execution_count": 24,
   "id": "naked-donor",
   "metadata": {
    "execution": {
     "iopub.execute_input": "2021-01-26T12:07:33.718006Z",
     "iopub.status.busy": "2021-01-26T12:07:33.717458Z",
     "iopub.status.idle": "2021-01-26T12:07:33.720024Z",
     "shell.execute_reply": "2021-01-26T12:07:33.719596Z"
    },
    "papermill": {
     "duration": 0.03837,
     "end_time": "2021-01-26T12:07:33.720142",
     "exception": false,
     "start_time": "2021-01-26T12:07:33.681772",
     "status": "completed"
    },
    "tags": []
   },
   "outputs": [],
   "source": [
    "# #hide\n",
    "# g = g.reset_index(['date'])"
   ]
  },
  {
   "cell_type": "code",
   "execution_count": 25,
   "id": "incomplete-mustang",
   "metadata": {
    "execution": {
     "iopub.execute_input": "2021-01-26T12:07:33.785257Z",
     "iopub.status.busy": "2021-01-26T12:07:33.784722Z",
     "iopub.status.idle": "2021-01-26T12:07:33.787384Z",
     "shell.execute_reply": "2021-01-26T12:07:33.787008Z"
    },
    "papermill": {
     "duration": 0.036468,
     "end_time": "2021-01-26T12:07:33.787511",
     "exception": false,
     "start_time": "2021-01-26T12:07:33.751043",
     "status": "completed"
    },
    "tags": []
   },
   "outputs": [],
   "source": [
    "#hide\n",
    "# g.head()"
   ]
  },
  {
   "cell_type": "code",
   "execution_count": 26,
   "id": "specific-kruger",
   "metadata": {
    "execution": {
     "iopub.execute_input": "2021-01-26T12:07:33.847938Z",
     "iopub.status.busy": "2021-01-26T12:07:33.847534Z",
     "iopub.status.idle": "2021-01-26T12:07:33.849729Z",
     "shell.execute_reply": "2021-01-26T12:07:33.850081Z"
    },
    "papermill": {
     "duration": 0.03445,
     "end_time": "2021-01-26T12:07:33.850174",
     "exception": false,
     "start_time": "2021-01-26T12:07:33.815724",
     "status": "completed"
    },
    "tags": []
   },
   "outputs": [],
   "source": [
    "#hide\n",
    "# g.columns = ['date','country','cases']"
   ]
  },
  {
   "cell_type": "code",
   "execution_count": 27,
   "id": "tender-conversion",
   "metadata": {
    "execution": {
     "iopub.execute_input": "2021-01-26T12:07:33.910180Z",
     "iopub.status.busy": "2021-01-26T12:07:33.909715Z",
     "iopub.status.idle": "2021-01-26T12:07:33.912173Z",
     "shell.execute_reply": "2021-01-26T12:07:33.911827Z"
    },
    "papermill": {
     "duration": 0.034283,
     "end_time": "2021-01-26T12:07:33.912256",
     "exception": false,
     "start_time": "2021-01-26T12:07:33.877973",
     "status": "completed"
    },
    "tags": []
   },
   "outputs": [],
   "source": [
    "#hide\n",
    "# g['continent'] = g.country"
   ]
  },
  {
   "cell_type": "code",
   "execution_count": 28,
   "id": "substantial-wilderness",
   "metadata": {
    "execution": {
     "iopub.execute_input": "2021-01-26T12:07:33.976893Z",
     "iopub.status.busy": "2021-01-26T12:07:33.976310Z",
     "iopub.status.idle": "2021-01-26T12:07:33.978651Z",
     "shell.execute_reply": "2021-01-26T12:07:33.979222Z"
    },
    "papermill": {
     "duration": 0.039086,
     "end_time": "2021-01-26T12:07:33.979368",
     "exception": false,
     "start_time": "2021-01-26T12:07:33.940282",
     "status": "completed"
    },
    "tags": []
   },
   "outputs": [],
   "source": [
    "#hide\n",
    "# cols = list(g.columns.values)"
   ]
  },
  {
   "cell_type": "code",
   "execution_count": 29,
   "id": "solved-farming",
   "metadata": {
    "execution": {
     "iopub.execute_input": "2021-01-26T12:07:34.045955Z",
     "iopub.status.busy": "2021-01-26T12:07:34.045375Z",
     "iopub.status.idle": "2021-01-26T12:07:34.048158Z",
     "shell.execute_reply": "2021-01-26T12:07:34.047721Z"
    },
    "papermill": {
     "duration": 0.037165,
     "end_time": "2021-01-26T12:07:34.048279",
     "exception": false,
     "start_time": "2021-01-26T12:07:34.011114",
     "status": "completed"
    },
    "tags": []
   },
   "outputs": [],
   "source": [
    "#hide\n",
    "# cols.insert(0, cols.pop())"
   ]
  },
  {
   "cell_type": "code",
   "execution_count": 30,
   "id": "executed-adoption",
   "metadata": {
    "execution": {
     "iopub.execute_input": "2021-01-26T12:07:34.111362Z",
     "iopub.status.busy": "2021-01-26T12:07:34.110827Z",
     "iopub.status.idle": "2021-01-26T12:07:34.113600Z",
     "shell.execute_reply": "2021-01-26T12:07:34.113270Z"
    },
    "papermill": {
     "duration": 0.035366,
     "end_time": "2021-01-26T12:07:34.113692",
     "exception": false,
     "start_time": "2021-01-26T12:07:34.078326",
     "status": "completed"
    },
    "tags": []
   },
   "outputs": [],
   "source": [
    "#hide\n",
    "# g = g[cols]"
   ]
  },
  {
   "cell_type": "code",
   "execution_count": 31,
   "id": "subject-dublin",
   "metadata": {
    "execution": {
     "iopub.execute_input": "2021-01-26T12:07:34.170754Z",
     "iopub.status.busy": "2021-01-26T12:07:34.170195Z",
     "iopub.status.idle": "2021-01-26T12:07:34.172376Z",
     "shell.execute_reply": "2021-01-26T12:07:34.172790Z"
    },
    "papermill": {
     "duration": 0.032762,
     "end_time": "2021-01-26T12:07:34.172886",
     "exception": false,
     "start_time": "2021-01-26T12:07:34.140124",
     "status": "completed"
    },
    "tags": []
   },
   "outputs": [],
   "source": [
    "#hide\n",
    "# g['continent'] = g['continent'].map(mapping['map.continent'])"
   ]
  },
  {
   "cell_type": "code",
   "execution_count": 32,
   "id": "freelance-scout",
   "metadata": {
    "execution": {
     "iopub.execute_input": "2021-01-26T12:07:34.228923Z",
     "iopub.status.busy": "2021-01-26T12:07:34.228373Z",
     "iopub.status.idle": "2021-01-26T12:07:34.230736Z",
     "shell.execute_reply": "2021-01-26T12:07:34.231173Z"
    },
    "papermill": {
     "duration": 0.031884,
     "end_time": "2021-01-26T12:07:34.231268",
     "exception": false,
     "start_time": "2021-01-26T12:07:34.199384",
     "status": "completed"
    },
    "tags": []
   },
   "outputs": [],
   "source": [
    "#hide\n",
    "# g.head()"
   ]
  },
  {
   "cell_type": "code",
   "execution_count": 33,
   "id": "limited-engine",
   "metadata": {
    "execution": {
     "iopub.execute_input": "2021-01-26T12:07:34.287857Z",
     "iopub.status.busy": "2021-01-26T12:07:34.287430Z",
     "iopub.status.idle": "2021-01-26T12:07:34.289449Z",
     "shell.execute_reply": "2021-01-26T12:07:34.289052Z"
    },
    "papermill": {
     "duration": 0.03154,
     "end_time": "2021-01-26T12:07:34.289543",
     "exception": false,
     "start_time": "2021-01-26T12:07:34.258003",
     "status": "completed"
    },
    "tags": []
   },
   "outputs": [],
   "source": [
    "# hide\n",
    "# g['date'] = g['date'].astype('datetime64[ns]')"
   ]
  },
  {
   "cell_type": "code",
   "execution_count": 34,
   "id": "sophisticated-supervisor",
   "metadata": {
    "execution": {
     "iopub.execute_input": "2021-01-26T12:07:34.347599Z",
     "iopub.status.busy": "2021-01-26T12:07:34.347183Z",
     "iopub.status.idle": "2021-01-26T12:07:34.348793Z",
     "shell.execute_reply": "2021-01-26T12:07:34.349199Z"
    },
    "papermill": {
     "duration": 0.031978,
     "end_time": "2021-01-26T12:07:34.349304",
     "exception": false,
     "start_time": "2021-01-26T12:07:34.317326",
     "status": "completed"
    },
    "tags": []
   },
   "outputs": [],
   "source": [
    "#hide\n",
    "# g['date'] = g.date.dt.dayofyear"
   ]
  },
  {
   "cell_type": "code",
   "execution_count": 35,
   "id": "inside-dubai",
   "metadata": {
    "execution": {
     "iopub.execute_input": "2021-01-26T12:07:34.409556Z",
     "iopub.status.busy": "2021-01-26T12:07:34.408977Z",
     "iopub.status.idle": "2021-01-26T12:07:34.411166Z",
     "shell.execute_reply": "2021-01-26T12:07:34.410682Z"
    },
    "papermill": {
     "duration": 0.034599,
     "end_time": "2021-01-26T12:07:34.411279",
     "exception": false,
     "start_time": "2021-01-26T12:07:34.376680",
     "status": "completed"
    },
    "tags": []
   },
   "outputs": [],
   "source": [
    "#hide\n",
    "# g = g.rename(columns= {'continent':'group','country':'name','cases':'value'})"
   ]
  },
  {
   "cell_type": "code",
   "execution_count": 36,
   "id": "fleet-motorcycle",
   "metadata": {
    "execution": {
     "iopub.execute_input": "2021-01-26T12:07:34.469917Z",
     "iopub.status.busy": "2021-01-26T12:07:34.469508Z",
     "iopub.status.idle": "2021-01-26T12:07:34.471093Z",
     "shell.execute_reply": "2021-01-26T12:07:34.471607Z"
    },
    "papermill": {
     "duration": 0.033058,
     "end_time": "2021-01-26T12:07:34.471726",
     "exception": false,
     "start_time": "2021-01-26T12:07:34.438668",
     "status": "completed"
    },
    "tags": []
   },
   "outputs": [],
   "source": [
    "#hide\n",
    "# cols = ['name','group','day','value']"
   ]
  },
  {
   "cell_type": "code",
   "execution_count": 37,
   "id": "continued-sleeping",
   "metadata": {
    "execution": {
     "iopub.execute_input": "2021-01-26T12:07:34.529801Z",
     "iopub.status.busy": "2021-01-26T12:07:34.529214Z",
     "iopub.status.idle": "2021-01-26T12:07:34.530428Z",
     "shell.execute_reply": "2021-01-26T12:07:34.530892Z"
    },
    "papermill": {
     "duration": 0.032482,
     "end_time": "2021-01-26T12:07:34.531017",
     "exception": false,
     "start_time": "2021-01-26T12:07:34.498535",
     "status": "completed"
    },
    "tags": []
   },
   "outputs": [],
   "source": [
    "#hide\n",
    "# g.rename(columns= {'date':'day'},inplace = True)"
   ]
  },
  {
   "cell_type": "code",
   "execution_count": 38,
   "id": "major-fight",
   "metadata": {
    "execution": {
     "iopub.execute_input": "2021-01-26T12:07:34.590209Z",
     "iopub.status.busy": "2021-01-26T12:07:34.589803Z",
     "iopub.status.idle": "2021-01-26T12:07:34.591868Z",
     "shell.execute_reply": "2021-01-26T12:07:34.591471Z"
    },
    "papermill": {
     "duration": 0.03214,
     "end_time": "2021-01-26T12:07:34.591963",
     "exception": false,
     "start_time": "2021-01-26T12:07:34.559823",
     "status": "completed"
    },
    "tags": []
   },
   "outputs": [],
   "source": [
    "#hide\n",
    "# g = g[cols]"
   ]
  },
  {
   "cell_type": "code",
   "execution_count": 39,
   "id": "structured-mobile",
   "metadata": {
    "execution": {
     "iopub.execute_input": "2021-01-26T12:07:34.649321Z",
     "iopub.status.busy": "2021-01-26T12:07:34.648910Z",
     "iopub.status.idle": "2021-01-26T12:07:34.651359Z",
     "shell.execute_reply": "2021-01-26T12:07:34.651907Z"
    },
    "papermill": {
     "duration": 0.03321,
     "end_time": "2021-01-26T12:07:34.652035",
     "exception": false,
     "start_time": "2021-01-26T12:07:34.618825",
     "status": "completed"
    },
    "tags": []
   },
   "outputs": [],
   "source": [
    "# #hide\n",
    "# g = g[g.group.notna()]"
   ]
  },
  {
   "cell_type": "code",
   "execution_count": 40,
   "id": "determined-closing",
   "metadata": {
    "execution": {
     "iopub.execute_input": "2021-01-26T12:07:34.707440Z",
     "iopub.status.busy": "2021-01-26T12:07:34.707029Z",
     "iopub.status.idle": "2021-01-26T12:07:34.709191Z",
     "shell.execute_reply": "2021-01-26T12:07:34.709520Z"
    },
    "papermill": {
     "duration": 0.031442,
     "end_time": "2021-01-26T12:07:34.709613",
     "exception": false,
     "start_time": "2021-01-26T12:07:34.678171",
     "status": "completed"
    },
    "tags": []
   },
   "outputs": [],
   "source": [
    "# #hide\n",
    "# colors = dict(zip(\n",
    "#     [\"Oceania\", \"Europe\", \"Asia\", \"South America\", \"Middle East\", \"North America\", \"Africa\"],\n",
    "#     [\"#adb0ff\", \"#ffb3ff\", \"#90d595\", \"#e48381\", \"#aafbff\", \"#f7bb5f\", \"#eafb50\"]\n",
    "# ))\n",
    "# group_lk = g.set_index('name')['group'].to_dict()"
   ]
  },
  {
   "cell_type": "code",
   "execution_count": null,
   "id": "gross-drinking",
   "metadata": {
    "papermill": {
     "duration": 0.02682,
     "end_time": "2021-01-26T12:07:34.763847",
     "exception": false,
     "start_time": "2021-01-26T12:07:34.737027",
     "status": "completed"
    },
    "tags": []
   },
   "outputs": [],
   "source": []
  },
  {
   "cell_type": "code",
   "execution_count": 41,
   "id": "subject-macintosh",
   "metadata": {
    "execution": {
     "iopub.execute_input": "2021-01-26T12:07:34.825367Z",
     "iopub.status.busy": "2021-01-26T12:07:34.824937Z",
     "iopub.status.idle": "2021-01-26T12:07:34.826816Z",
     "shell.execute_reply": "2021-01-26T12:07:34.826402Z"
    },
    "papermill": {
     "duration": 0.032151,
     "end_time": "2021-01-26T12:07:34.826901",
     "exception": false,
     "start_time": "2021-01-26T12:07:34.794750",
     "status": "completed"
    },
    "tags": []
   },
   "outputs": [],
   "source": [
    "# #hide\n",
    "# fig, ax = plt.subplots(figsize=(15, 8))\n",
    "\n",
    "# def draw_barchart(current_day):\n",
    "#     dff = g[g['day'].eq(current_day)].sort_values(by='value', ascending=True).tail(10)\n",
    "#     ax.clear()\n",
    "#     ax.barh(dff['name'], dff['value'], color=[colors[group_lk[x]] for x in dff['name']])\n",
    "#     dx = dff['value'].max() / 200\n",
    "    \n",
    "#     for i, (value, name) in enumerate(zip(dff['value'], dff['name'])):\n",
    "#         ax.text(value-dx, i,     name,           size=14, weight=600, ha='right', va='bottom')\n",
    "#         ax.text(value-dx, i-.25, group_lk[name], size=10, color='#444444', ha='right', va='baseline')\n",
    "#         ax.text(value+dx, i,     f'{value:,.0f}',  size=14, ha='left',  va='center')\n",
    "#     ax.text(1, 0.4, current_day, transform=ax.transAxes, color='#777777', size=46, ha='right', weight=800)\n",
    "#     ax.text(0, 1.06, 'Population (thousands)', transform=ax.transAxes, size=12, color='#777777')\n",
    "#     ax.xaxis.set_major_formatter(ticker.StrMethodFormatter('{x:,.0f}'))\n",
    "#     ax.xaxis.set_ticks_position('top')\n",
    "#     ax.tick_params(axis='x', colors='#777777', labelsize=12)\n",
    "#     ax.set_yticks([])\n",
    "#     ax.margins(0, 0.01)\n",
    "#     ax.grid(which='major', axis='x', linestyle='-')\n",
    "#     ax.set_axisbelow(True)\n",
    "    \n",
    "#     ax.text(0, 1.15, 'Coronavirus',\n",
    "#             transform=ax.transAxes, size=24, weight=600, ha='left', va='top')\n",
    "# #     ax.text(1, 0, 'by @pratapvardhan; credit @jburnmurdoch', transform=ax.transAxes, color='#777777', ha='right',\n",
    "# #             bbox=dict(facecolor='white', alpha=0.8, edgecolor='white'))\n",
    "#     plt.box(False)"
   ]
  },
  {
   "cell_type": "code",
   "execution_count": 42,
   "id": "sexual-wages",
   "metadata": {
    "execution": {
     "iopub.execute_input": "2021-01-26T12:07:34.889119Z",
     "iopub.status.busy": "2021-01-26T12:07:34.888588Z",
     "iopub.status.idle": "2021-01-26T12:07:34.891102Z",
     "shell.execute_reply": "2021-01-26T12:07:34.891538Z"
    },
    "papermill": {
     "duration": 0.036575,
     "end_time": "2021-01-26T12:07:34.891632",
     "exception": false,
     "start_time": "2021-01-26T12:07:34.855057",
     "status": "completed"
    },
    "tags": []
   },
   "outputs": [],
   "source": [
    "# #hide_input\n",
    "# fig, ax = plt.subplots(figsize=(15, 8))\n",
    "# animator = animation.FuncAnimation(fig, draw_barchart, frames=range(g.day.values.min(), g.day.values.max()))\n",
    "# HTML(animator.to_jshtml())\n",
    "# # or use animator.to_html5_video() or animator.save() "
   ]
  },
  {
   "cell_type": "code",
   "execution_count": null,
   "id": "australian-container",
   "metadata": {
    "papermill": {
     "duration": 0.030493,
     "end_time": "2021-01-26T12:07:34.949284",
     "exception": false,
     "start_time": "2021-01-26T12:07:34.918791",
     "status": "completed"
    },
    "tags": []
   },
   "outputs": [],
   "source": []
  },
  {
   "cell_type": "code",
   "execution_count": null,
   "id": "mediterranean-pontiac",
   "metadata": {
    "papermill": {
     "duration": 0.030652,
     "end_time": "2021-01-26T12:07:35.007008",
     "exception": false,
     "start_time": "2021-01-26T12:07:34.976356",
     "status": "completed"
    },
    "tags": []
   },
   "outputs": [],
   "source": []
  },
  {
   "cell_type": "code",
   "execution_count": null,
   "id": "aging-legislature",
   "metadata": {
    "papermill": {
     "duration": 0.02811,
     "end_time": "2021-01-26T12:07:35.064772",
     "exception": false,
     "start_time": "2021-01-26T12:07:35.036662",
     "status": "completed"
    },
    "tags": []
   },
   "outputs": [],
   "source": []
  }
 ],
 "metadata": {
  "kernelspec": {
   "display_name": "Python 3",
   "language": "python",
   "name": "python3"
  },
  "language_info": {
   "codemirror_mode": {
    "name": "ipython",
    "version": 3
   },
   "file_extension": ".py",
   "mimetype": "text/x-python",
   "name": "python",
   "nbconvert_exporter": "python",
   "pygments_lexer": "ipython3",
   "version": "3.6.12"
  },
  "papermill": {
   "duration": 8.300484,
   "end_time": "2021-01-26T12:07:36.334160",
   "environment_variables": {},
   "exception": null,
   "input_path": "2020-03-21-covid19exp.ipynb",
   "output_path": "2020-03-21-covid19exp.ipynb",
   "parameters": {},
   "start_time": "2021-01-26T12:07:28.033676",
   "version": "2.0.0"
  }
 },
 "nbformat": 4,
 "nbformat_minor": 5
}