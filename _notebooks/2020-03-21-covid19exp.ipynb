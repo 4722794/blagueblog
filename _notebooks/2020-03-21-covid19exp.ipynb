{
 "cells": [
  {
   "cell_type": "markdown",
   "id": "muslim-click",
   "metadata": {
    "papermill": {
     "duration": 0.045576,
     "end_time": "2021-04-26T12:04:43.094108",
     "exception": false,
     "start_time": "2021-04-26T12:04:43.048532",
     "status": "completed"
    },
    "tags": []
   },
   "source": [
    "# COVID-19 Case Race\n",
    "> A race chart to see rising cases around the world\n",
    "\n",
    "- author: Hargun Oberoi\n",
    "- image: images/covid-overview.png\n",
    "- hide: false\n",
    "- badges: false"
   ]
  },
  {
   "cell_type": "code",
   "execution_count": 1,
   "id": "proof-material",
   "metadata": {
    "execution": {
     "iopub.execute_input": "2021-04-26T12:04:43.182016Z",
     "iopub.status.busy": "2021-04-26T12:04:43.181336Z",
     "iopub.status.idle": "2021-04-26T12:04:43.549254Z",
     "shell.execute_reply": "2021-04-26T12:04:43.548628Z"
    },
    "papermill": {
     "duration": 0.417017,
     "end_time": "2021-04-26T12:04:43.549442",
     "exception": false,
     "start_time": "2021-04-26T12:04:43.132425",
     "status": "completed"
    },
    "tags": []
   },
   "outputs": [],
   "source": [
    "#hide\n",
    "import numpy as np\n",
    "import pandas as pd\n",
    "from jinja2 import Template\n",
    "from IPython.display import HTML"
   ]
  },
  {
   "cell_type": "code",
   "execution_count": 2,
   "id": "developed-terminology",
   "metadata": {
    "execution": {
     "iopub.execute_input": "2021-04-26T12:04:43.633810Z",
     "iopub.status.busy": "2021-04-26T12:04:43.633144Z",
     "iopub.status.idle": "2021-04-26T12:04:43.635780Z",
     "shell.execute_reply": "2021-04-26T12:04:43.635208Z"
    },
    "papermill": {
     "duration": 0.046894,
     "end_time": "2021-04-26T12:04:43.635897",
     "exception": false,
     "start_time": "2021-04-26T12:04:43.589003",
     "status": "completed"
    },
    "tags": []
   },
   "outputs": [],
   "source": [
    "#hide\n",
    "\n",
    "# FETCH\n",
    "base_url = 'https://raw.githubusercontent.com/pratapvardhan/notebooks/master/covid19/'\n",
    "paths = {\n",
    "    'mapping': base_url + 'mapping_countries.csv',\n",
    "    'overview': base_url + 'overview.tpl'\n",
    "}"
   ]
  },
  {
   "cell_type": "code",
   "execution_count": 3,
   "id": "dynamic-saver",
   "metadata": {
    "execution": {
     "iopub.execute_input": "2021-04-26T12:04:43.721929Z",
     "iopub.status.busy": "2021-04-26T12:04:43.721289Z",
     "iopub.status.idle": "2021-04-26T12:04:43.732528Z",
     "shell.execute_reply": "2021-04-26T12:04:43.731962Z"
    },
    "papermill": {
     "duration": 0.056925,
     "end_time": "2021-04-26T12:04:43.732655",
     "exception": false,
     "start_time": "2021-04-26T12:04:43.675730",
     "status": "completed"
    },
    "tags": []
   },
   "outputs": [
    {
     "data": {
      "text/plain": [
       "'https://raw.githubusercontent.com/pratapvardhan/notebooks/master/covid19/mapping_countries.csv'"
      ]
     },
     "execution_count": 3,
     "metadata": {},
     "output_type": "execute_result"
    }
   ],
   "source": [
    "#hide\n",
    "paths['mapping']"
   ]
  },
  {
   "cell_type": "code",
   "execution_count": 4,
   "id": "urban-software",
   "metadata": {
    "execution": {
     "iopub.execute_input": "2021-04-26T12:04:43.817530Z",
     "iopub.status.busy": "2021-04-26T12:04:43.816874Z",
     "iopub.status.idle": "2021-04-26T12:04:43.819813Z",
     "shell.execute_reply": "2021-04-26T12:04:43.818849Z"
    },
    "papermill": {
     "duration": 0.047304,
     "end_time": "2021-04-26T12:04:43.819936",
     "exception": false,
     "start_time": "2021-04-26T12:04:43.772632",
     "status": "completed"
    },
    "tags": []
   },
   "outputs": [],
   "source": [
    "#hide\n",
    "def get_mappings(url):\n",
    "    df = pd.read_csv(url)\n",
    "    return {\n",
    "        'df': df,\n",
    "        'replace.country': dict(df.dropna(subset=['Name']).set_index('Country')['Name']),\n",
    "        'map.continent': dict(df.set_index('Name')['Continent'])\n",
    "    }"
   ]
  },
  {
   "cell_type": "code",
   "execution_count": 5,
   "id": "intimate-machinery",
   "metadata": {
    "execution": {
     "iopub.execute_input": "2021-04-26T12:04:43.901321Z",
     "iopub.status.busy": "2021-04-26T12:04:43.900679Z",
     "iopub.status.idle": "2021-04-26T12:04:43.931596Z",
     "shell.execute_reply": "2021-04-26T12:04:43.931050Z"
    },
    "papermill": {
     "duration": 0.074471,
     "end_time": "2021-04-26T12:04:43.931737",
     "exception": false,
     "start_time": "2021-04-26T12:04:43.857266",
     "status": "completed"
    },
    "tags": []
   },
   "outputs": [],
   "source": [
    "#hide\n",
    "mapping = get_mappings(paths['mapping'])"
   ]
  },
  {
   "cell_type": "code",
   "execution_count": 6,
   "id": "certified-tactics",
   "metadata": {
    "execution": {
     "iopub.execute_input": "2021-04-26T12:04:44.014494Z",
     "iopub.status.busy": "2021-04-26T12:04:44.013813Z",
     "iopub.status.idle": "2021-04-26T12:04:44.015782Z",
     "shell.execute_reply": "2021-04-26T12:04:44.016312Z"
    },
    "papermill": {
     "duration": 0.045161,
     "end_time": "2021-04-26T12:04:44.016476",
     "exception": false,
     "start_time": "2021-04-26T12:04:43.971315",
     "status": "completed"
    },
    "tags": []
   },
   "outputs": [],
   "source": [
    "#hide\n",
    "def get_template(path):\n",
    "    from urllib.parse import urlparse\n",
    "    if bool(urlparse(path).netloc):\n",
    "        from urllib.request import urlopen\n",
    "        return urlopen(path).read().decode('utf8')\n",
    "    return open(path).read()"
   ]
  },
  {
   "cell_type": "code",
   "execution_count": 7,
   "id": "realistic-blast",
   "metadata": {
    "execution": {
     "iopub.execute_input": "2021-04-26T12:04:44.098773Z",
     "iopub.status.busy": "2021-04-26T12:04:44.098015Z",
     "iopub.status.idle": "2021-04-26T12:04:44.100014Z",
     "shell.execute_reply": "2021-04-26T12:04:44.100531Z"
    },
    "papermill": {
     "duration": 0.046393,
     "end_time": "2021-04-26T12:04:44.100679",
     "exception": false,
     "start_time": "2021-04-26T12:04:44.054286",
     "status": "completed"
    },
    "tags": []
   },
   "outputs": [],
   "source": [
    "#hide\n",
    "def get_frame(name):\n",
    "    url = (\n",
    "        'https://raw.githubusercontent.com/CSSEGISandData/COVID-19/master/csse_covid_19_data/'\n",
    "        f'csse_covid_19_time_series/time_series_covid19_{name}_global.csv')\n",
    "    df = pd.read_csv(url)\n",
    "    # rename countries\n",
    "    df['Country/Region'] = df['Country/Region'].replace(mapping['replace.country'])\n",
    "    return df"
   ]
  },
  {
   "cell_type": "code",
   "execution_count": 8,
   "id": "affiliated-characterization",
   "metadata": {
    "execution": {
     "iopub.execute_input": "2021-04-26T12:04:44.183569Z",
     "iopub.status.busy": "2021-04-26T12:04:44.182903Z",
     "iopub.status.idle": "2021-04-26T12:04:44.184741Z",
     "shell.execute_reply": "2021-04-26T12:04:44.185303Z"
    },
    "papermill": {
     "duration": 0.046709,
     "end_time": "2021-04-26T12:04:44.185469",
     "exception": false,
     "start_time": "2021-04-26T12:04:44.138760",
     "status": "completed"
    },
    "tags": []
   },
   "outputs": [],
   "source": [
    "#hide\n",
    "def get_dates(df):\n",
    "    dt_cols = df.columns[~df.columns.isin(['Province/State', 'Country/Region', 'Lat', 'Long'])]\n",
    "    LAST_DATE_I = -1\n",
    "    # sometimes last column may be empty, then go backwards\n",
    "    for i in range(-1, -len(dt_cols), -1):\n",
    "        if not df[dt_cols[i]].fillna(0).eq(0).all():\n",
    "            LAST_DATE_I = i\n",
    "            break\n",
    "    return LAST_DATE_I, dt_cols"
   ]
  },
  {
   "cell_type": "code",
   "execution_count": 9,
   "id": "recent-optimization",
   "metadata": {
    "execution": {
     "iopub.execute_input": "2021-04-26T12:04:44.265588Z",
     "iopub.status.busy": "2021-04-26T12:04:44.264805Z",
     "iopub.status.idle": "2021-04-26T12:04:44.583743Z",
     "shell.execute_reply": "2021-04-26T12:04:44.584289Z"
    },
    "papermill": {
     "duration": 0.361522,
     "end_time": "2021-04-26T12:04:44.584463",
     "exception": false,
     "start_time": "2021-04-26T12:04:44.222941",
     "status": "completed"
    },
    "tags": []
   },
   "outputs": [],
   "source": [
    "#hide\n",
    "COL_REGION = 'Country/Region'\n",
    "# Confirmed, Recovered, Deaths\n",
    "df = get_frame('confirmed')\n",
    "# dft_: timeseries, dfc_: today country agg\n",
    "dft_cases = df\n",
    "dft_deaths = get_frame('deaths')\n",
    "dft_recovered = get_frame('recovered')\n",
    "LAST_DATE_I, dt_cols = get_dates(df)"
   ]
  },
  {
   "cell_type": "code",
   "execution_count": 10,
   "id": "absolute-copper",
   "metadata": {
    "execution": {
     "iopub.execute_input": "2021-04-26T12:04:44.678744Z",
     "iopub.status.busy": "2021-04-26T12:04:44.678025Z",
     "iopub.status.idle": "2021-04-26T12:04:44.680003Z",
     "shell.execute_reply": "2021-04-26T12:04:44.680509Z"
    },
    "papermill": {
     "duration": 0.053909,
     "end_time": "2021-04-26T12:04:44.680678",
     "exception": false,
     "start_time": "2021-04-26T12:04:44.626769",
     "status": "completed"
    },
    "tags": []
   },
   "outputs": [],
   "source": [
    "#hide\n",
    "LAST_DATE_I, dt_cols = get_dates(df)\n",
    "dt_today =dt_cols[LAST_DATE_I]\n",
    "# dt_5day = dt_cols[LAST_DATE_I - 5]\n",
    "dt_yday = dt_cols[LAST_DATE_I - 1]"
   ]
  },
  {
   "cell_type": "code",
   "execution_count": 11,
   "id": "restricted-sheriff",
   "metadata": {
    "execution": {
     "iopub.execute_input": "2021-04-26T12:04:44.761592Z",
     "iopub.status.busy": "2021-04-26T12:04:44.760938Z",
     "iopub.status.idle": "2021-04-26T12:04:44.768854Z",
     "shell.execute_reply": "2021-04-26T12:04:44.769506Z"
    },
    "papermill": {
     "duration": 0.051525,
     "end_time": "2021-04-26T12:04:44.769678",
     "exception": false,
     "start_time": "2021-04-26T12:04:44.718153",
     "status": "completed"
    },
    "tags": []
   },
   "outputs": [],
   "source": [
    "#hide\n",
    "dfc_cases = dft_cases.groupby(COL_REGION)[dt_today].sum()\n",
    "dfc_deaths = dft_deaths.groupby(COL_REGION)[dt_today].sum()\n",
    "# dfp_cases = dft_cases.groupby(COL_REGION)[dt_5day].sum()\n",
    "# dfp_deaths = dft_deaths.groupby(COL_REGION)[dt_5day].sum()\n",
    "dfp_cases = dft_cases.groupby(COL_REGION)[dt_yday].sum()\n",
    "dfp_deaths = dft_deaths.groupby(COL_REGION)[dt_yday].sum()"
   ]
  },
  {
   "cell_type": "code",
   "execution_count": 12,
   "id": "deluxe-hepatitis",
   "metadata": {
    "execution": {
     "iopub.execute_input": "2021-04-26T12:04:44.856336Z",
     "iopub.status.busy": "2021-04-26T12:04:44.855677Z",
     "iopub.status.idle": "2021-04-26T12:04:44.860753Z",
     "shell.execute_reply": "2021-04-26T12:04:44.861356Z"
    },
    "papermill": {
     "duration": 0.050317,
     "end_time": "2021-04-26T12:04:44.861510",
     "exception": false,
     "start_time": "2021-04-26T12:04:44.811193",
     "status": "completed"
    },
    "tags": []
   },
   "outputs": [],
   "source": [
    "#hide\n",
    "df_table = (pd.DataFrame(dict(Cases = dfc_cases, Deaths = dfc_deaths, PCases = dfp_cases, PDeaths = dfp_deaths))\n",
    "            .sort_values(by = ['Cases','Deaths'], ascending = [False, False])\n",
    "            .reset_index())"
   ]
  },
  {
   "cell_type": "code",
   "execution_count": 13,
   "id": "educational-chancellor",
   "metadata": {
    "execution": {
     "iopub.execute_input": "2021-04-26T12:04:44.961150Z",
     "iopub.status.busy": "2021-04-26T12:04:44.960508Z",
     "iopub.status.idle": "2021-04-26T12:04:44.968863Z",
     "shell.execute_reply": "2021-04-26T12:04:44.969527Z"
    },
    "papermill": {
     "duration": 0.069909,
     "end_time": "2021-04-26T12:04:44.969701",
     "exception": false,
     "start_time": "2021-04-26T12:04:44.899792",
     "status": "completed"
    },
    "tags": []
   },
   "outputs": [
    {
     "data": {
      "text/html": [
       "<div>\n",
       "<style scoped>\n",
       "    .dataframe tbody tr th:only-of-type {\n",
       "        vertical-align: middle;\n",
       "    }\n",
       "\n",
       "    .dataframe tbody tr th {\n",
       "        vertical-align: top;\n",
       "    }\n",
       "\n",
       "    .dataframe thead th {\n",
       "        text-align: right;\n",
       "    }\n",
       "</style>\n",
       "<table border=\"1\" class=\"dataframe\">\n",
       "  <thead>\n",
       "    <tr style=\"text-align: right;\">\n",
       "      <th></th>\n",
       "      <th>Country/Region</th>\n",
       "      <th>Cases</th>\n",
       "      <th>Deaths</th>\n",
       "      <th>PCases</th>\n",
       "      <th>PDeaths</th>\n",
       "      <th>Cases (+)</th>\n",
       "      <th>Deaths (+)</th>\n",
       "      <th>Fatality Rate</th>\n",
       "      <th>Continent</th>\n",
       "    </tr>\n",
       "  </thead>\n",
       "  <tbody>\n",
       "    <tr>\n",
       "      <th>0</th>\n",
       "      <td>US</td>\n",
       "      <td>32077178</td>\n",
       "      <td>572200</td>\n",
       "      <td>32045113</td>\n",
       "      <td>571921</td>\n",
       "      <td>32065</td>\n",
       "      <td>279</td>\n",
       "      <td>1.78</td>\n",
       "      <td>North America</td>\n",
       "    </tr>\n",
       "    <tr>\n",
       "      <th>1</th>\n",
       "      <td>India</td>\n",
       "      <td>17313163</td>\n",
       "      <td>195123</td>\n",
       "      <td>16960172</td>\n",
       "      <td>192311</td>\n",
       "      <td>352991</td>\n",
       "      <td>2812</td>\n",
       "      <td>1.13</td>\n",
       "      <td>Asia</td>\n",
       "    </tr>\n",
       "    <tr>\n",
       "      <th>2</th>\n",
       "      <td>Brazil</td>\n",
       "      <td>14340787</td>\n",
       "      <td>390797</td>\n",
       "      <td>14308215</td>\n",
       "      <td>389492</td>\n",
       "      <td>32572</td>\n",
       "      <td>1305</td>\n",
       "      <td>2.73</td>\n",
       "      <td>South America</td>\n",
       "    </tr>\n",
       "    <tr>\n",
       "      <th>3</th>\n",
       "      <td>France</td>\n",
       "      <td>5559121</td>\n",
       "      <td>103017</td>\n",
       "      <td>5534656</td>\n",
       "      <td>102872</td>\n",
       "      <td>24465</td>\n",
       "      <td>145</td>\n",
       "      <td>1.85</td>\n",
       "      <td>Europe</td>\n",
       "    </tr>\n",
       "    <tr>\n",
       "      <th>4</th>\n",
       "      <td>Russia</td>\n",
       "      <td>4708640</td>\n",
       "      <td>106434</td>\n",
       "      <td>4699988</td>\n",
       "      <td>106108</td>\n",
       "      <td>8652</td>\n",
       "      <td>326</td>\n",
       "      <td>2.26</td>\n",
       "      <td>Europe</td>\n",
       "    </tr>\n",
       "  </tbody>\n",
       "</table>\n",
       "</div>"
      ],
      "text/plain": [
       "  Country/Region     Cases  Deaths    PCases  PDeaths  Cases (+)  Deaths (+)  \\\n",
       "0             US  32077178  572200  32045113   571921      32065         279   \n",
       "1          India  17313163  195123  16960172   192311     352991        2812   \n",
       "2         Brazil  14340787  390797  14308215   389492      32572        1305   \n",
       "3         France   5559121  103017   5534656   102872      24465         145   \n",
       "4         Russia   4708640  106434   4699988   106108       8652         326   \n",
       "\n",
       "   Fatality Rate      Continent  \n",
       "0           1.78  North America  \n",
       "1           1.13           Asia  \n",
       "2           2.73  South America  \n",
       "3           1.85         Europe  \n",
       "4           2.26         Europe  "
      ]
     },
     "execution_count": 13,
     "metadata": {},
     "output_type": "execute_result"
    }
   ],
   "source": [
    "#hide\n",
    "for c in 'Cases, Deaths'.split(', '):\n",
    "    df_table[f'{c} (+)'] = (df_table[c] - df_table[f'P{c}']).clip(0)\n",
    "    #Clip ça veut dire, les chiffres negatif sont interdit\n",
    "df_table['Fatality Rate'] = (100* df_table['Deaths']/ df_table['Cases']).round(2)\n",
    "df_table['Continent'] = df_table['Country/Region'].map(mapping['map.continent'])\n",
    "df_table.head(5)"
   ]
  },
  {
   "cell_type": "code",
   "execution_count": 14,
   "id": "aboriginal-bulgaria",
   "metadata": {
    "execution": {
     "iopub.execute_input": "2021-04-26T12:04:45.051530Z",
     "iopub.status.busy": "2021-04-26T12:04:45.050867Z",
     "iopub.status.idle": "2021-04-26T12:04:45.052877Z",
     "shell.execute_reply": "2021-04-26T12:04:45.053381Z"
    },
    "papermill": {
     "duration": 0.045786,
     "end_time": "2021-04-26T12:04:45.053527",
     "exception": false,
     "start_time": "2021-04-26T12:04:45.007741",
     "status": "completed"
    },
    "tags": []
   },
   "outputs": [],
   "source": [
    "#hide\n",
    "#delete problematic countries from table\n",
    "df_table = df_table[~df_table['Country/Region'].isin(['Cape Verde', 'Cruise Ship', 'Kosovo'])]"
   ]
  },
  {
   "cell_type": "code",
   "execution_count": 15,
   "id": "fantastic-effect",
   "metadata": {
    "execution": {
     "iopub.execute_input": "2021-04-26T12:04:45.141805Z",
     "iopub.status.busy": "2021-04-26T12:04:45.141165Z",
     "iopub.status.idle": "2021-04-26T12:04:45.162550Z",
     "shell.execute_reply": "2021-04-26T12:04:45.163236Z"
    },
    "papermill": {
     "duration": 0.070576,
     "end_time": "2021-04-26T12:04:45.163382",
     "exception": false,
     "start_time": "2021-04-26T12:04:45.092806",
     "status": "completed"
    },
    "tags": []
   },
   "outputs": [
    {
     "data": {
      "text/html": [
       "<div>\n",
       "<style scoped>\n",
       "    .dataframe tbody tr th:only-of-type {\n",
       "        vertical-align: middle;\n",
       "    }\n",
       "\n",
       "    .dataframe tbody tr th {\n",
       "        vertical-align: top;\n",
       "    }\n",
       "\n",
       "    .dataframe thead th {\n",
       "        text-align: right;\n",
       "    }\n",
       "</style>\n",
       "<table border=\"1\" class=\"dataframe\">\n",
       "  <thead>\n",
       "    <tr style=\"text-align: right;\">\n",
       "      <th></th>\n",
       "      <th>Country/Region</th>\n",
       "      <th>Cases</th>\n",
       "      <th>Deaths</th>\n",
       "      <th>PCases</th>\n",
       "      <th>PDeaths</th>\n",
       "      <th>Cases (+)</th>\n",
       "      <th>Deaths (+)</th>\n",
       "      <th>Fatality Rate</th>\n",
       "      <th>Continent</th>\n",
       "    </tr>\n",
       "  </thead>\n",
       "  <tbody>\n",
       "    <tr>\n",
       "      <th>0</th>\n",
       "      <td>US</td>\n",
       "      <td>32077178</td>\n",
       "      <td>572200</td>\n",
       "      <td>32045113</td>\n",
       "      <td>571921</td>\n",
       "      <td>32065</td>\n",
       "      <td>279</td>\n",
       "      <td>1.8</td>\n",
       "      <td>North America</td>\n",
       "    </tr>\n",
       "    <tr>\n",
       "      <th>1</th>\n",
       "      <td>India</td>\n",
       "      <td>17313163</td>\n",
       "      <td>195123</td>\n",
       "      <td>16960172</td>\n",
       "      <td>192311</td>\n",
       "      <td>352991</td>\n",
       "      <td>2812</td>\n",
       "      <td>1.1</td>\n",
       "      <td>Asia</td>\n",
       "    </tr>\n",
       "    <tr>\n",
       "      <th>2</th>\n",
       "      <td>Brazil</td>\n",
       "      <td>14340787</td>\n",
       "      <td>390797</td>\n",
       "      <td>14308215</td>\n",
       "      <td>389492</td>\n",
       "      <td>32572</td>\n",
       "      <td>1305</td>\n",
       "      <td>2.7</td>\n",
       "      <td>South America</td>\n",
       "    </tr>\n",
       "    <tr>\n",
       "      <th>3</th>\n",
       "      <td>France</td>\n",
       "      <td>5559121</td>\n",
       "      <td>103017</td>\n",
       "      <td>5534656</td>\n",
       "      <td>102872</td>\n",
       "      <td>24465</td>\n",
       "      <td>145</td>\n",
       "      <td>1.9</td>\n",
       "      <td>Europe</td>\n",
       "    </tr>\n",
       "    <tr>\n",
       "      <th>4</th>\n",
       "      <td>Russia</td>\n",
       "      <td>4708640</td>\n",
       "      <td>106434</td>\n",
       "      <td>4699988</td>\n",
       "      <td>106108</td>\n",
       "      <td>8652</td>\n",
       "      <td>326</td>\n",
       "      <td>2.3</td>\n",
       "      <td>Europe</td>\n",
       "    </tr>\n",
       "  </tbody>\n",
       "</table>\n",
       "</div>"
      ],
      "text/plain": [
       "  Country/Region     Cases  Deaths    PCases  PDeaths  Cases (+)  Deaths (+)  \\\n",
       "0             US  32077178  572200  32045113   571921      32065         279   \n",
       "1          India  17313163  195123  16960172   192311     352991        2812   \n",
       "2         Brazil  14340787  390797  14308215   389492      32572        1305   \n",
       "3         France   5559121  103017   5534656   102872      24465         145   \n",
       "4         Russia   4708640  106434   4699988   106108       8652         326   \n",
       "\n",
       "   Fatality Rate      Continent  \n",
       "0            1.8  North America  \n",
       "1            1.1           Asia  \n",
       "2            2.7  South America  \n",
       "3            1.9         Europe  \n",
       "4            2.3         Europe  "
      ]
     },
     "execution_count": 15,
     "metadata": {},
     "output_type": "execute_result"
    }
   ],
   "source": [
    "#hide\n",
    "df_table = (pd.DataFrame(dict(Cases=dfc_cases, Deaths=dfc_deaths, PCases=dfp_cases, PDeaths=dfp_deaths))\n",
    "             .sort_values(by=['Cases', 'Deaths'], ascending=[False, False])\n",
    "             .reset_index())\n",
    "df_table.rename(columns={'index': 'Country/Region'}, inplace=True)\n",
    "for c in 'Cases, Deaths'.split(', '):\n",
    "    df_table[f'{c} (+)'] = (df_table[c] - df_table[f'P{c}']).clip(0)  # DATA BUG\n",
    "df_table['Fatality Rate'] = (100 * df_table['Deaths'] / df_table['Cases']).round(1)\n",
    "df_table['Continent'] = df_table['Country/Region'].map(mapping['map.continent'])\n",
    "df_table.head(5)"
   ]
  },
  {
   "cell_type": "code",
   "execution_count": 16,
   "id": "fewer-occasion",
   "metadata": {
    "execution": {
     "iopub.execute_input": "2021-04-26T12:04:45.246626Z",
     "iopub.status.busy": "2021-04-26T12:04:45.245926Z",
     "iopub.status.idle": "2021-04-26T12:04:45.249873Z",
     "shell.execute_reply": "2021-04-26T12:04:45.249172Z"
    },
    "papermill": {
     "duration": 0.047443,
     "end_time": "2021-04-26T12:04:45.250005",
     "exception": false,
     "start_time": "2021-04-26T12:04:45.202562",
     "status": "completed"
    },
    "tags": []
   },
   "outputs": [],
   "source": [
    "#hide\n",
    "#delete problematic countries from table\n",
    "df_table = df_table[~df_table['Country/Region'].isin(['Cape Verde', 'Cruise Ship', 'Kosovo'])]"
   ]
  },
  {
   "cell_type": "code",
   "execution_count": 17,
   "id": "related-center",
   "metadata": {
    "execution": {
     "iopub.execute_input": "2021-04-26T12:04:45.343118Z",
     "iopub.status.busy": "2021-04-26T12:04:45.342424Z",
     "iopub.status.idle": "2021-04-26T12:04:45.355234Z",
     "shell.execute_reply": "2021-04-26T12:04:45.354668Z"
    },
    "papermill": {
     "duration": 0.063927,
     "end_time": "2021-04-26T12:04:45.355356",
     "exception": false,
     "start_time": "2021-04-26T12:04:45.291429",
     "status": "completed"
    },
    "tags": []
   },
   "outputs": [],
   "source": [
    "#hide\n",
    "metrics = [df_table.columns[index] for index in [1,2,5,6]]\n",
    "# s_china = df_table[df_table['Country/Region'].eq('China')][metrics].sum().add_prefix('China ')\n",
    "s_us = df_table[df_table['Country/Region'].eq('US')][metrics].sum().add_prefix('US ')\n",
    "s_eu = df_table[df_table['Continent'].eq('Europe')][metrics].sum().add_prefix('EU ')\n",
    "s_ind = df_table[df_table['Country/Region'].eq('India')][metrics].sum().add_prefix('India ')\n",
    "summary = {'updated': pd.to_datetime(dt_today), 'since': pd.to_datetime(dt_yday)}\n",
    "summary = {'updated': pd.to_datetime(dt_today), 'since': pd.to_datetime(dt_yday)}\n",
    "summary = {**summary, **df_table[metrics].sum(), **s_ind, **s_us, **s_eu}"
   ]
  },
  {
   "cell_type": "code",
   "execution_count": 18,
   "id": "engaging-syndrome",
   "metadata": {
    "execution": {
     "iopub.execute_input": "2021-04-26T12:04:45.441187Z",
     "iopub.status.busy": "2021-04-26T12:04:45.440564Z",
     "iopub.status.idle": "2021-04-26T12:04:45.452238Z",
     "shell.execute_reply": "2021-04-26T12:04:45.452799Z"
    },
    "papermill": {
     "duration": 0.057936,
     "end_time": "2021-04-26T12:04:45.452965",
     "exception": false,
     "start_time": "2021-04-26T12:04:45.395029",
     "status": "completed"
    },
    "tags": []
   },
   "outputs": [],
   "source": [
    "#hide\n",
    "dft_ct_new_cases = dft_cases.groupby(COL_REGION)[dt_cols].sum().diff(axis=1).fillna(0).astype(int)"
   ]
  },
  {
   "cell_type": "code",
   "execution_count": 19,
   "id": "neutral-assignment",
   "metadata": {
    "execution": {
     "iopub.execute_input": "2021-04-26T12:04:45.539692Z",
     "iopub.status.busy": "2021-04-26T12:04:45.538983Z",
     "iopub.status.idle": "2021-04-26T12:04:45.540920Z",
     "shell.execute_reply": "2021-04-26T12:04:45.541500Z"
    },
    "papermill": {
     "duration": 0.048315,
     "end_time": "2021-04-26T12:04:45.541642",
     "exception": false,
     "start_time": "2021-04-26T12:04:45.493327",
     "status": "completed"
    },
    "tags": []
   },
   "outputs": [],
   "source": [
    "#hide\n",
    "everydaycases = dft_ct_new_cases.cumsum(axis=1)"
   ]
  },
  {
   "cell_type": "code",
   "execution_count": 20,
   "id": "parliamentary-calgary",
   "metadata": {
    "execution": {
     "iopub.execute_input": "2021-04-26T12:04:45.631075Z",
     "iopub.status.busy": "2021-04-26T12:04:45.630389Z",
     "iopub.status.idle": "2021-04-26T12:04:46.229859Z",
     "shell.execute_reply": "2021-04-26T12:04:46.230365Z"
    },
    "papermill": {
     "duration": 0.647783,
     "end_time": "2021-04-26T12:04:46.230532",
     "exception": false,
     "start_time": "2021-04-26T12:04:45.582749",
     "status": "completed"
    },
    "tags": []
   },
   "outputs": [],
   "source": [
    "#hide\n",
    "import pandas as pd\n",
    "import matplotlib.pyplot as plt\n",
    "import matplotlib.ticker as ticker\n",
    "import matplotlib.animation as animation\n",
    "from IPython.display import HTML"
   ]
  },
  {
   "cell_type": "code",
   "execution_count": 21,
   "id": "lasting-extraction",
   "metadata": {
    "execution": {
     "iopub.execute_input": "2021-04-26T12:04:46.316043Z",
     "iopub.status.busy": "2021-04-26T12:04:46.315384Z",
     "iopub.status.idle": "2021-04-26T12:04:46.321303Z",
     "shell.execute_reply": "2021-04-26T12:04:46.321881Z"
    },
    "papermill": {
     "duration": 0.051319,
     "end_time": "2021-04-26T12:04:46.322038",
     "exception": false,
     "start_time": "2021-04-26T12:04:46.270719",
     "status": "completed"
    },
    "tags": []
   },
   "outputs": [],
   "source": [
    "#hide\n",
    "t = everydaycases.stack()"
   ]
  },
  {
   "cell_type": "code",
   "execution_count": 22,
   "id": "premier-sleeve",
   "metadata": {
    "execution": {
     "iopub.execute_input": "2021-04-26T12:04:46.405108Z",
     "iopub.status.busy": "2021-04-26T12:04:46.404427Z",
     "iopub.status.idle": "2021-04-26T12:04:46.412373Z",
     "shell.execute_reply": "2021-04-26T12:04:46.413024Z"
    },
    "papermill": {
     "duration": 0.052692,
     "end_time": "2021-04-26T12:04:46.413172",
     "exception": false,
     "start_time": "2021-04-26T12:04:46.360480",
     "status": "completed"
    },
    "tags": []
   },
   "outputs": [],
   "source": [
    "#hide\n",
    "g = t.reset_index(['Country/Region'])"
   ]
  },
  {
   "cell_type": "code",
   "execution_count": 23,
   "id": "distributed-pittsburgh",
   "metadata": {
    "execution": {
     "iopub.execute_input": "2021-04-26T12:04:46.496514Z",
     "iopub.status.busy": "2021-04-26T12:04:46.495871Z",
     "iopub.status.idle": "2021-04-26T12:04:46.497642Z",
     "shell.execute_reply": "2021-04-26T12:04:46.498220Z"
    },
    "papermill": {
     "duration": 0.046605,
     "end_time": "2021-04-26T12:04:46.498384",
     "exception": false,
     "start_time": "2021-04-26T12:04:46.451779",
     "status": "completed"
    },
    "tags": []
   },
   "outputs": [],
   "source": [
    "#hide\n",
    "g.index.name = 'date'"
   ]
  },
  {
   "cell_type": "code",
   "execution_count": 24,
   "id": "naked-donor",
   "metadata": {
    "execution": {
     "iopub.execute_input": "2021-04-26T12:04:46.581254Z",
     "iopub.status.busy": "2021-04-26T12:04:46.580500Z",
     "iopub.status.idle": "2021-04-26T12:04:46.584033Z",
     "shell.execute_reply": "2021-04-26T12:04:46.582604Z"
    },
    "papermill": {
     "duration": 0.046028,
     "end_time": "2021-04-26T12:04:46.584167",
     "exception": false,
     "start_time": "2021-04-26T12:04:46.538139",
     "status": "completed"
    },
    "tags": []
   },
   "outputs": [],
   "source": [
    "# #hide\n",
    "# g = g.reset_index(['date'])"
   ]
  },
  {
   "cell_type": "code",
   "execution_count": 25,
   "id": "incomplete-mustang",
   "metadata": {
    "execution": {
     "iopub.execute_input": "2021-04-26T12:04:46.665127Z",
     "iopub.status.busy": "2021-04-26T12:04:46.664496Z",
     "iopub.status.idle": "2021-04-26T12:04:46.666452Z",
     "shell.execute_reply": "2021-04-26T12:04:46.667114Z"
    },
    "papermill": {
     "duration": 0.043877,
     "end_time": "2021-04-26T12:04:46.667266",
     "exception": false,
     "start_time": "2021-04-26T12:04:46.623389",
     "status": "completed"
    },
    "tags": []
   },
   "outputs": [],
   "source": [
    "#hide\n",
    "# g.head()"
   ]
  },
  {
   "cell_type": "code",
   "execution_count": 26,
   "id": "specific-kruger",
   "metadata": {
    "execution": {
     "iopub.execute_input": "2021-04-26T12:04:46.750162Z",
     "iopub.status.busy": "2021-04-26T12:04:46.749498Z",
     "iopub.status.idle": "2021-04-26T12:04:46.751479Z",
     "shell.execute_reply": "2021-04-26T12:04:46.751912Z"
    },
    "papermill": {
     "duration": 0.045411,
     "end_time": "2021-04-26T12:04:46.752154",
     "exception": false,
     "start_time": "2021-04-26T12:04:46.706743",
     "status": "completed"
    },
    "tags": []
   },
   "outputs": [],
   "source": [
    "#hide\n",
    "# g.columns = ['date','country','cases']"
   ]
  },
  {
   "cell_type": "code",
   "execution_count": 27,
   "id": "tender-conversion",
   "metadata": {
    "execution": {
     "iopub.execute_input": "2021-04-26T12:04:46.838533Z",
     "iopub.status.busy": "2021-04-26T12:04:46.837864Z",
     "iopub.status.idle": "2021-04-26T12:04:46.839952Z",
     "shell.execute_reply": "2021-04-26T12:04:46.840458Z"
    },
    "papermill": {
     "duration": 0.046068,
     "end_time": "2021-04-26T12:04:46.840610",
     "exception": false,
     "start_time": "2021-04-26T12:04:46.794542",
     "status": "completed"
    },
    "tags": []
   },
   "outputs": [],
   "source": [
    "#hide\n",
    "# g['continent'] = g.country"
   ]
  },
  {
   "cell_type": "code",
   "execution_count": 28,
   "id": "substantial-wilderness",
   "metadata": {
    "execution": {
     "iopub.execute_input": "2021-04-26T12:04:46.924885Z",
     "iopub.status.busy": "2021-04-26T12:04:46.923817Z",
     "iopub.status.idle": "2021-04-26T12:04:46.926435Z",
     "shell.execute_reply": "2021-04-26T12:04:46.926975Z"
    },
    "papermill": {
     "duration": 0.046122,
     "end_time": "2021-04-26T12:04:46.927112",
     "exception": false,
     "start_time": "2021-04-26T12:04:46.880990",
     "status": "completed"
    },
    "tags": []
   },
   "outputs": [],
   "source": [
    "#hide\n",
    "# cols = list(g.columns.values)"
   ]
  },
  {
   "cell_type": "code",
   "execution_count": 29,
   "id": "solved-farming",
   "metadata": {
    "execution": {
     "iopub.execute_input": "2021-04-26T12:04:47.007541Z",
     "iopub.status.busy": "2021-04-26T12:04:47.006881Z",
     "iopub.status.idle": "2021-04-26T12:04:47.008796Z",
     "shell.execute_reply": "2021-04-26T12:04:47.009372Z"
    },
    "papermill": {
     "duration": 0.044858,
     "end_time": "2021-04-26T12:04:47.009508",
     "exception": false,
     "start_time": "2021-04-26T12:04:46.964650",
     "status": "completed"
    },
    "tags": []
   },
   "outputs": [],
   "source": [
    "#hide\n",
    "# cols.insert(0, cols.pop())"
   ]
  },
  {
   "cell_type": "code",
   "execution_count": 30,
   "id": "executed-adoption",
   "metadata": {
    "execution": {
     "iopub.execute_input": "2021-04-26T12:04:47.102261Z",
     "iopub.status.busy": "2021-04-26T12:04:47.101583Z",
     "iopub.status.idle": "2021-04-26T12:04:47.103507Z",
     "shell.execute_reply": "2021-04-26T12:04:47.104061Z"
    },
    "papermill": {
     "duration": 0.055406,
     "end_time": "2021-04-26T12:04:47.104203",
     "exception": false,
     "start_time": "2021-04-26T12:04:47.048797",
     "status": "completed"
    },
    "tags": []
   },
   "outputs": [],
   "source": [
    "#hide\n",
    "# g = g[cols]"
   ]
  },
  {
   "cell_type": "code",
   "execution_count": 31,
   "id": "subject-dublin",
   "metadata": {
    "execution": {
     "iopub.execute_input": "2021-04-26T12:04:47.187332Z",
     "iopub.status.busy": "2021-04-26T12:04:47.186657Z",
     "iopub.status.idle": "2021-04-26T12:04:47.189022Z",
     "shell.execute_reply": "2021-04-26T12:04:47.188499Z"
    },
    "papermill": {
     "duration": 0.046193,
     "end_time": "2021-04-26T12:04:47.189177",
     "exception": false,
     "start_time": "2021-04-26T12:04:47.142984",
     "status": "completed"
    },
    "tags": []
   },
   "outputs": [],
   "source": [
    "#hide\n",
    "# g['continent'] = g['continent'].map(mapping['map.continent'])"
   ]
  },
  {
   "cell_type": "code",
   "execution_count": 32,
   "id": "freelance-scout",
   "metadata": {
    "execution": {
     "iopub.execute_input": "2021-04-26T12:04:47.269755Z",
     "iopub.status.busy": "2021-04-26T12:04:47.269098Z",
     "iopub.status.idle": "2021-04-26T12:04:47.271218Z",
     "shell.execute_reply": "2021-04-26T12:04:47.271719Z"
    },
    "papermill": {
     "duration": 0.043354,
     "end_time": "2021-04-26T12:04:47.271840",
     "exception": false,
     "start_time": "2021-04-26T12:04:47.228486",
     "status": "completed"
    },
    "tags": []
   },
   "outputs": [],
   "source": [
    "#hide\n",
    "# g.head()"
   ]
  },
  {
   "cell_type": "code",
   "execution_count": 33,
   "id": "limited-engine",
   "metadata": {
    "execution": {
     "iopub.execute_input": "2021-04-26T12:04:47.355007Z",
     "iopub.status.busy": "2021-04-26T12:04:47.354315Z",
     "iopub.status.idle": "2021-04-26T12:04:47.356343Z",
     "shell.execute_reply": "2021-04-26T12:04:47.356820Z"
    },
    "papermill": {
     "duration": 0.044262,
     "end_time": "2021-04-26T12:04:47.356983",
     "exception": false,
     "start_time": "2021-04-26T12:04:47.312721",
     "status": "completed"
    },
    "tags": []
   },
   "outputs": [],
   "source": [
    "# hide\n",
    "# g['date'] = g['date'].astype('datetime64[ns]')"
   ]
  },
  {
   "cell_type": "code",
   "execution_count": 34,
   "id": "sophisticated-supervisor",
   "metadata": {
    "execution": {
     "iopub.execute_input": "2021-04-26T12:04:47.438904Z",
     "iopub.status.busy": "2021-04-26T12:04:47.438122Z",
     "iopub.status.idle": "2021-04-26T12:04:47.440230Z",
     "shell.execute_reply": "2021-04-26T12:04:47.440741Z"
    },
    "papermill": {
     "duration": 0.044966,
     "end_time": "2021-04-26T12:04:47.440899",
     "exception": false,
     "start_time": "2021-04-26T12:04:47.395933",
     "status": "completed"
    },
    "tags": []
   },
   "outputs": [],
   "source": [
    "#hide\n",
    "# g['date'] = g.date.dt.dayofyear"
   ]
  },
  {
   "cell_type": "code",
   "execution_count": 35,
   "id": "inside-dubai",
   "metadata": {
    "execution": {
     "iopub.execute_input": "2021-04-26T12:04:47.525373Z",
     "iopub.status.busy": "2021-04-26T12:04:47.524684Z",
     "iopub.status.idle": "2021-04-26T12:04:47.527293Z",
     "shell.execute_reply": "2021-04-26T12:04:47.526702Z"
    },
    "papermill": {
     "duration": 0.045275,
     "end_time": "2021-04-26T12:04:47.527416",
     "exception": false,
     "start_time": "2021-04-26T12:04:47.482141",
     "status": "completed"
    },
    "tags": []
   },
   "outputs": [],
   "source": [
    "#hide\n",
    "# g = g.rename(columns= {'continent':'group','country':'name','cases':'value'})"
   ]
  },
  {
   "cell_type": "code",
   "execution_count": 36,
   "id": "fleet-motorcycle",
   "metadata": {
    "execution": {
     "iopub.execute_input": "2021-04-26T12:04:47.607685Z",
     "iopub.status.busy": "2021-04-26T12:04:47.607067Z",
     "iopub.status.idle": "2021-04-26T12:04:47.609049Z",
     "shell.execute_reply": "2021-04-26T12:04:47.609639Z"
    },
    "papermill": {
     "duration": 0.044661,
     "end_time": "2021-04-26T12:04:47.609786",
     "exception": false,
     "start_time": "2021-04-26T12:04:47.565125",
     "status": "completed"
    },
    "tags": []
   },
   "outputs": [],
   "source": [
    "#hide\n",
    "# cols = ['name','group','day','value']"
   ]
  },
  {
   "cell_type": "code",
   "execution_count": 37,
   "id": "continued-sleeping",
   "metadata": {
    "execution": {
     "iopub.execute_input": "2021-04-26T12:04:47.692848Z",
     "iopub.status.busy": "2021-04-26T12:04:47.692187Z",
     "iopub.status.idle": "2021-04-26T12:04:47.694778Z",
     "shell.execute_reply": "2021-04-26T12:04:47.694172Z"
    },
    "papermill": {
     "duration": 0.044419,
     "end_time": "2021-04-26T12:04:47.694920",
     "exception": false,
     "start_time": "2021-04-26T12:04:47.650501",
     "status": "completed"
    },
    "tags": []
   },
   "outputs": [],
   "source": [
    "#hide\n",
    "# g.rename(columns= {'date':'day'},inplace = True)"
   ]
  },
  {
   "cell_type": "code",
   "execution_count": 38,
   "id": "major-fight",
   "metadata": {
    "execution": {
     "iopub.execute_input": "2021-04-26T12:04:47.779751Z",
     "iopub.status.busy": "2021-04-26T12:04:47.779109Z",
     "iopub.status.idle": "2021-04-26T12:04:47.781986Z",
     "shell.execute_reply": "2021-04-26T12:04:47.782568Z"
    },
    "papermill": {
     "duration": 0.045605,
     "end_time": "2021-04-26T12:04:47.782750",
     "exception": false,
     "start_time": "2021-04-26T12:04:47.737145",
     "status": "completed"
    },
    "tags": []
   },
   "outputs": [],
   "source": [
    "#hide\n",
    "# g = g[cols]"
   ]
  },
  {
   "cell_type": "code",
   "execution_count": 39,
   "id": "structured-mobile",
   "metadata": {
    "execution": {
     "iopub.execute_input": "2021-04-26T12:04:47.863322Z",
     "iopub.status.busy": "2021-04-26T12:04:47.862686Z",
     "iopub.status.idle": "2021-04-26T12:04:47.864594Z",
     "shell.execute_reply": "2021-04-26T12:04:47.865154Z"
    },
    "papermill": {
     "duration": 0.04465,
     "end_time": "2021-04-26T12:04:47.865281",
     "exception": false,
     "start_time": "2021-04-26T12:04:47.820631",
     "status": "completed"
    },
    "tags": []
   },
   "outputs": [],
   "source": [
    "# #hide\n",
    "# g = g[g.group.notna()]"
   ]
  },
  {
   "cell_type": "code",
   "execution_count": 40,
   "id": "determined-closing",
   "metadata": {
    "execution": {
     "iopub.execute_input": "2021-04-26T12:04:47.948049Z",
     "iopub.status.busy": "2021-04-26T12:04:47.947352Z",
     "iopub.status.idle": "2021-04-26T12:04:47.949852Z",
     "shell.execute_reply": "2021-04-26T12:04:47.949287Z"
    },
    "papermill": {
     "duration": 0.044867,
     "end_time": "2021-04-26T12:04:47.949987",
     "exception": false,
     "start_time": "2021-04-26T12:04:47.905120",
     "status": "completed"
    },
    "tags": []
   },
   "outputs": [],
   "source": [
    "# #hide\n",
    "# colors = dict(zip(\n",
    "#     [\"Oceania\", \"Europe\", \"Asia\", \"South America\", \"Middle East\", \"North America\", \"Africa\"],\n",
    "#     [\"#adb0ff\", \"#ffb3ff\", \"#90d595\", \"#e48381\", \"#aafbff\", \"#f7bb5f\", \"#eafb50\"]\n",
    "# ))\n",
    "# group_lk = g.set_index('name')['group'].to_dict()"
   ]
  },
  {
   "cell_type": "code",
   "execution_count": null,
   "id": "gross-drinking",
   "metadata": {
    "papermill": {
     "duration": 0.041159,
     "end_time": "2021-04-26T12:04:48.031226",
     "exception": false,
     "start_time": "2021-04-26T12:04:47.990067",
     "status": "completed"
    },
    "tags": []
   },
   "outputs": [],
   "source": []
  },
  {
   "cell_type": "code",
   "execution_count": 41,
   "id": "subject-macintosh",
   "metadata": {
    "execution": {
     "iopub.execute_input": "2021-04-26T12:04:48.118133Z",
     "iopub.status.busy": "2021-04-26T12:04:48.117481Z",
     "iopub.status.idle": "2021-04-26T12:04:48.119434Z",
     "shell.execute_reply": "2021-04-26T12:04:48.119988Z"
    },
    "papermill": {
     "duration": 0.047945,
     "end_time": "2021-04-26T12:04:48.120141",
     "exception": false,
     "start_time": "2021-04-26T12:04:48.072196",
     "status": "completed"
    },
    "tags": []
   },
   "outputs": [],
   "source": [
    "# #hide\n",
    "# fig, ax = plt.subplots(figsize=(15, 8))\n",
    "\n",
    "# def draw_barchart(current_day):\n",
    "#     dff = g[g['day'].eq(current_day)].sort_values(by='value', ascending=True).tail(10)\n",
    "#     ax.clear()\n",
    "#     ax.barh(dff['name'], dff['value'], color=[colors[group_lk[x]] for x in dff['name']])\n",
    "#     dx = dff['value'].max() / 200\n",
    "    \n",
    "#     for i, (value, name) in enumerate(zip(dff['value'], dff['name'])):\n",
    "#         ax.text(value-dx, i,     name,           size=14, weight=600, ha='right', va='bottom')\n",
    "#         ax.text(value-dx, i-.25, group_lk[name], size=10, color='#444444', ha='right', va='baseline')\n",
    "#         ax.text(value+dx, i,     f'{value:,.0f}',  size=14, ha='left',  va='center')\n",
    "#     ax.text(1, 0.4, current_day, transform=ax.transAxes, color='#777777', size=46, ha='right', weight=800)\n",
    "#     ax.text(0, 1.06, 'Population (thousands)', transform=ax.transAxes, size=12, color='#777777')\n",
    "#     ax.xaxis.set_major_formatter(ticker.StrMethodFormatter('{x:,.0f}'))\n",
    "#     ax.xaxis.set_ticks_position('top')\n",
    "#     ax.tick_params(axis='x', colors='#777777', labelsize=12)\n",
    "#     ax.set_yticks([])\n",
    "#     ax.margins(0, 0.01)\n",
    "#     ax.grid(which='major', axis='x', linestyle='-')\n",
    "#     ax.set_axisbelow(True)\n",
    "    \n",
    "#     ax.text(0, 1.15, 'Coronavirus',\n",
    "#             transform=ax.transAxes, size=24, weight=600, ha='left', va='top')\n",
    "# #     ax.text(1, 0, 'by @pratapvardhan; credit @jburnmurdoch', transform=ax.transAxes, color='#777777', ha='right',\n",
    "# #             bbox=dict(facecolor='white', alpha=0.8, edgecolor='white'))\n",
    "#     plt.box(False)"
   ]
  },
  {
   "cell_type": "code",
   "execution_count": 42,
   "id": "sexual-wages",
   "metadata": {
    "execution": {
     "iopub.execute_input": "2021-04-26T12:04:48.206475Z",
     "iopub.status.busy": "2021-04-26T12:04:48.205775Z",
     "iopub.status.idle": "2021-04-26T12:04:48.207857Z",
     "shell.execute_reply": "2021-04-26T12:04:48.208381Z"
    },
    "papermill": {
     "duration": 0.045737,
     "end_time": "2021-04-26T12:04:48.208516",
     "exception": false,
     "start_time": "2021-04-26T12:04:48.162779",
     "status": "completed"
    },
    "tags": []
   },
   "outputs": [],
   "source": [
    "# #hide_input\n",
    "# fig, ax = plt.subplots(figsize=(15, 8))\n",
    "# animator = animation.FuncAnimation(fig, draw_barchart, frames=range(g.day.values.min(), g.day.values.max()))\n",
    "# HTML(animator.to_jshtml())\n",
    "# # or use animator.to_html5_video() or animator.save() "
   ]
  },
  {
   "cell_type": "code",
   "execution_count": null,
   "id": "australian-container",
   "metadata": {
    "papermill": {
     "duration": 0.040407,
     "end_time": "2021-04-26T12:04:48.287830",
     "exception": false,
     "start_time": "2021-04-26T12:04:48.247423",
     "status": "completed"
    },
    "tags": []
   },
   "outputs": [],
   "source": []
  },
  {
   "cell_type": "code",
   "execution_count": null,
   "id": "mediterranean-pontiac",
   "metadata": {
    "papermill": {
     "duration": 0.0396,
     "end_time": "2021-04-26T12:04:48.365897",
     "exception": false,
     "start_time": "2021-04-26T12:04:48.326297",
     "status": "completed"
    },
    "tags": []
   },
   "outputs": [],
   "source": []
  },
  {
   "cell_type": "code",
   "execution_count": null,
   "id": "aging-legislature",
   "metadata": {
    "papermill": {
     "duration": 0.039326,
     "end_time": "2021-04-26T12:04:48.445080",
     "exception": false,
     "start_time": "2021-04-26T12:04:48.405754",
     "status": "completed"
    },
    "tags": []
   },
   "outputs": [],
   "source": []
  }
 ],
 "metadata": {
  "kernelspec": {
   "display_name": "Python 3",
   "language": "python",
   "name": "python3"
  },
  "language_info": {
   "codemirror_mode": {
    "name": "ipython",
    "version": 3
   },
   "file_extension": ".py",
   "mimetype": "text/x-python",
   "name": "python",
   "nbconvert_exporter": "python",
   "pygments_lexer": "ipython3",
   "version": "3.6.13"
  },
  "papermill": {
   "duration": 6.907172,
   "end_time": "2021-04-26T12:04:48.793481",
   "environment_variables": {},
   "exception": null,
   "input_path": "2020-03-21-covid19exp.ipynb",
   "output_path": "2020-03-21-covid19exp.ipynb",
   "parameters": {},
   "start_time": "2021-04-26T12:04:41.886309",
   "version": "2.0.0"
  }
 },
 "nbformat": 4,
 "nbformat_minor": 5
}