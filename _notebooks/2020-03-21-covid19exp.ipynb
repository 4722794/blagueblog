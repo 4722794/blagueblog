{
 "cells": [
  {
   "cell_type": "markdown",
   "id": "muslim-click",
   "metadata": {
    "papermill": {
     "duration": 0.040959,
     "end_time": "2021-06-19T00:20:39.285070",
     "exception": false,
     "start_time": "2021-06-19T00:20:39.244111",
     "status": "completed"
    },
    "tags": []
   },
   "source": [
    "# COVID-19 Case Race\n",
    "> A race chart to see rising cases around the world\n",
    "\n",
    "- author: Hargun Oberoi\n",
    "- image: images/covid-overview.png\n",
    "- hide: false\n",
    "- badges: false"
   ]
  },
  {
   "cell_type": "code",
   "execution_count": 1,
   "id": "proof-material",
   "metadata": {
    "execution": {
     "iopub.execute_input": "2021-06-19T00:20:39.371742Z",
     "iopub.status.busy": "2021-06-19T00:20:39.371048Z",
     "iopub.status.idle": "2021-06-19T00:20:39.760300Z",
     "shell.execute_reply": "2021-06-19T00:20:39.759720Z"
    },
    "papermill": {
     "duration": 0.437425,
     "end_time": "2021-06-19T00:20:39.760459",
     "exception": false,
     "start_time": "2021-06-19T00:20:39.323034",
     "status": "completed"
    },
    "tags": []
   },
   "outputs": [],
   "source": [
    "#hide\n",
    "import numpy as np\n",
    "import pandas as pd\n",
    "from jinja2 import Template\n",
    "from IPython.display import HTML"
   ]
  },
  {
   "cell_type": "code",
   "execution_count": 2,
   "id": "developed-terminology",
   "metadata": {
    "execution": {
     "iopub.execute_input": "2021-06-19T00:20:39.847511Z",
     "iopub.status.busy": "2021-06-19T00:20:39.846830Z",
     "iopub.status.idle": "2021-06-19T00:20:39.848746Z",
     "shell.execute_reply": "2021-06-19T00:20:39.849310Z"
    },
    "papermill": {
     "duration": 0.051988,
     "end_time": "2021-06-19T00:20:39.849455",
     "exception": false,
     "start_time": "2021-06-19T00:20:39.797467",
     "status": "completed"
    },
    "tags": []
   },
   "outputs": [],
   "source": [
    "#hide\n",
    "\n",
    "# FETCH\n",
    "base_url = 'https://raw.githubusercontent.com/pratapvardhan/notebooks/master/covid19/'\n",
    "paths = {\n",
    "    'mapping': base_url + 'mapping_countries.csv',\n",
    "    'overview': base_url + 'overview.tpl'\n",
    "}"
   ]
  },
  {
   "cell_type": "code",
   "execution_count": 3,
   "id": "dynamic-saver",
   "metadata": {
    "execution": {
     "iopub.execute_input": "2021-06-19T00:20:39.944363Z",
     "iopub.status.busy": "2021-06-19T00:20:39.943687Z",
     "iopub.status.idle": "2021-06-19T00:20:39.946084Z",
     "shell.execute_reply": "2021-06-19T00:20:39.946702Z"
    },
    "papermill": {
     "duration": 0.060346,
     "end_time": "2021-06-19T00:20:39.946864",
     "exception": false,
     "start_time": "2021-06-19T00:20:39.886518",
     "status": "completed"
    },
    "tags": []
   },
   "outputs": [
    {
     "data": {
      "text/plain": [
       "'https://raw.githubusercontent.com/pratapvardhan/notebooks/master/covid19/mapping_countries.csv'"
      ]
     },
     "execution_count": 3,
     "metadata": {},
     "output_type": "execute_result"
    }
   ],
   "source": [
    "#hide\n",
    "paths['mapping']"
   ]
  },
  {
   "cell_type": "code",
   "execution_count": 4,
   "id": "urban-software",
   "metadata": {
    "execution": {
     "iopub.execute_input": "2021-06-19T00:20:40.044231Z",
     "iopub.status.busy": "2021-06-19T00:20:40.043570Z",
     "iopub.status.idle": "2021-06-19T00:20:40.044967Z",
     "shell.execute_reply": "2021-06-19T00:20:40.045575Z"
    },
    "papermill": {
     "duration": 0.052116,
     "end_time": "2021-06-19T00:20:40.045731",
     "exception": false,
     "start_time": "2021-06-19T00:20:39.993615",
     "status": "completed"
    },
    "tags": []
   },
   "outputs": [],
   "source": [
    "#hide\n",
    "def get_mappings(url):\n",
    "    df = pd.read_csv(url)\n",
    "    return {\n",
    "        'df': df,\n",
    "        'replace.country': dict(df.dropna(subset=['Name']).set_index('Country')['Name']),\n",
    "        'map.continent': dict(df.set_index('Name')['Continent'])\n",
    "    }"
   ]
  },
  {
   "cell_type": "code",
   "execution_count": 5,
   "id": "intimate-machinery",
   "metadata": {
    "execution": {
     "iopub.execute_input": "2021-06-19T00:20:40.139696Z",
     "iopub.status.busy": "2021-06-19T00:20:40.139019Z",
     "iopub.status.idle": "2021-06-19T00:20:40.178550Z",
     "shell.execute_reply": "2021-06-19T00:20:40.177956Z"
    },
    "papermill": {
     "duration": 0.085959,
     "end_time": "2021-06-19T00:20:40.178694",
     "exception": false,
     "start_time": "2021-06-19T00:20:40.092735",
     "status": "completed"
    },
    "tags": []
   },
   "outputs": [],
   "source": [
    "#hide\n",
    "mapping = get_mappings(paths['mapping'])"
   ]
  },
  {
   "cell_type": "code",
   "execution_count": 6,
   "id": "certified-tactics",
   "metadata": {
    "execution": {
     "iopub.execute_input": "2021-06-19T00:20:40.259687Z",
     "iopub.status.busy": "2021-06-19T00:20:40.259020Z",
     "iopub.status.idle": "2021-06-19T00:20:40.260764Z",
     "shell.execute_reply": "2021-06-19T00:20:40.261353Z"
    },
    "papermill": {
     "duration": 0.045268,
     "end_time": "2021-06-19T00:20:40.261495",
     "exception": false,
     "start_time": "2021-06-19T00:20:40.216227",
     "status": "completed"
    },
    "tags": []
   },
   "outputs": [],
   "source": [
    "#hide\n",
    "def get_template(path):\n",
    "    from urllib.parse import urlparse\n",
    "    if bool(urlparse(path).netloc):\n",
    "        from urllib.request import urlopen\n",
    "        return urlopen(path).read().decode('utf8')\n",
    "    return open(path).read()"
   ]
  },
  {
   "cell_type": "code",
   "execution_count": 7,
   "id": "realistic-blast",
   "metadata": {
    "execution": {
     "iopub.execute_input": "2021-06-19T00:20:40.344253Z",
     "iopub.status.busy": "2021-06-19T00:20:40.342356Z",
     "iopub.status.idle": "2021-06-19T00:20:40.344972Z",
     "shell.execute_reply": "2021-06-19T00:20:40.345492Z"
    },
    "papermill": {
     "duration": 0.046085,
     "end_time": "2021-06-19T00:20:40.345648",
     "exception": false,
     "start_time": "2021-06-19T00:20:40.299563",
     "status": "completed"
    },
    "tags": []
   },
   "outputs": [],
   "source": [
    "#hide\n",
    "def get_frame(name):\n",
    "    url = (\n",
    "        'https://raw.githubusercontent.com/CSSEGISandData/COVID-19/master/csse_covid_19_data/'\n",
    "        f'csse_covid_19_time_series/time_series_covid19_{name}_global.csv')\n",
    "    df = pd.read_csv(url)\n",
    "    # rename countries\n",
    "    df['Country/Region'] = df['Country/Region'].replace(mapping['replace.country'])\n",
    "    return df"
   ]
  },
  {
   "cell_type": "code",
   "execution_count": 8,
   "id": "affiliated-characterization",
   "metadata": {
    "execution": {
     "iopub.execute_input": "2021-06-19T00:20:40.428389Z",
     "iopub.status.busy": "2021-06-19T00:20:40.427747Z",
     "iopub.status.idle": "2021-06-19T00:20:40.429536Z",
     "shell.execute_reply": "2021-06-19T00:20:40.430086Z"
    },
    "papermill": {
     "duration": 0.045926,
     "end_time": "2021-06-19T00:20:40.430237",
     "exception": false,
     "start_time": "2021-06-19T00:20:40.384311",
     "status": "completed"
    },
    "tags": []
   },
   "outputs": [],
   "source": [
    "#hide\n",
    "def get_dates(df):\n",
    "    dt_cols = df.columns[~df.columns.isin(['Province/State', 'Country/Region', 'Lat', 'Long'])]\n",
    "    LAST_DATE_I = -1\n",
    "    # sometimes last column may be empty, then go backwards\n",
    "    for i in range(-1, -len(dt_cols), -1):\n",
    "        if not df[dt_cols[i]].fillna(0).eq(0).all():\n",
    "            LAST_DATE_I = i\n",
    "            break\n",
    "    return LAST_DATE_I, dt_cols"
   ]
  },
  {
   "cell_type": "code",
   "execution_count": 9,
   "id": "recent-optimization",
   "metadata": {
    "execution": {
     "iopub.execute_input": "2021-06-19T00:20:40.511245Z",
     "iopub.status.busy": "2021-06-19T00:20:40.510580Z",
     "iopub.status.idle": "2021-06-19T00:20:40.929499Z",
     "shell.execute_reply": "2021-06-19T00:20:40.928455Z"
    },
    "papermill": {
     "duration": 0.460998,
     "end_time": "2021-06-19T00:20:40.929640",
     "exception": false,
     "start_time": "2021-06-19T00:20:40.468642",
     "status": "completed"
    },
    "tags": []
   },
   "outputs": [],
   "source": [
    "#hide\n",
    "COL_REGION = 'Country/Region'\n",
    "# Confirmed, Recovered, Deaths\n",
    "df = get_frame('confirmed')\n",
    "# dft_: timeseries, dfc_: today country agg\n",
    "dft_cases = df\n",
    "dft_deaths = get_frame('deaths')\n",
    "dft_recovered = get_frame('recovered')\n",
    "LAST_DATE_I, dt_cols = get_dates(df)"
   ]
  },
  {
   "cell_type": "code",
   "execution_count": 10,
   "id": "absolute-copper",
   "metadata": {
    "execution": {
     "iopub.execute_input": "2021-06-19T00:20:41.011445Z",
     "iopub.status.busy": "2021-06-19T00:20:41.010792Z",
     "iopub.status.idle": "2021-06-19T00:20:41.013262Z",
     "shell.execute_reply": "2021-06-19T00:20:41.012642Z"
    },
    "papermill": {
     "duration": 0.045433,
     "end_time": "2021-06-19T00:20:41.013387",
     "exception": false,
     "start_time": "2021-06-19T00:20:40.967954",
     "status": "completed"
    },
    "tags": []
   },
   "outputs": [],
   "source": [
    "#hide\n",
    "LAST_DATE_I, dt_cols = get_dates(df)\n",
    "dt_today =dt_cols[LAST_DATE_I]\n",
    "# dt_5day = dt_cols[LAST_DATE_I - 5]\n",
    "dt_yday = dt_cols[LAST_DATE_I - 1]"
   ]
  },
  {
   "cell_type": "code",
   "execution_count": 11,
   "id": "restricted-sheriff",
   "metadata": {
    "execution": {
     "iopub.execute_input": "2021-06-19T00:20:41.100889Z",
     "iopub.status.busy": "2021-06-19T00:20:41.100230Z",
     "iopub.status.idle": "2021-06-19T00:20:41.106576Z",
     "shell.execute_reply": "2021-06-19T00:20:41.107099Z"
    },
    "papermill": {
     "duration": 0.052196,
     "end_time": "2021-06-19T00:20:41.107256",
     "exception": false,
     "start_time": "2021-06-19T00:20:41.055060",
     "status": "completed"
    },
    "tags": []
   },
   "outputs": [],
   "source": [
    "#hide\n",
    "dfc_cases = dft_cases.groupby(COL_REGION)[dt_today].sum()\n",
    "dfc_deaths = dft_deaths.groupby(COL_REGION)[dt_today].sum()\n",
    "# dfp_cases = dft_cases.groupby(COL_REGION)[dt_5day].sum()\n",
    "# dfp_deaths = dft_deaths.groupby(COL_REGION)[dt_5day].sum()\n",
    "dfp_cases = dft_cases.groupby(COL_REGION)[dt_yday].sum()\n",
    "dfp_deaths = dft_deaths.groupby(COL_REGION)[dt_yday].sum()"
   ]
  },
  {
   "cell_type": "code",
   "execution_count": 12,
   "id": "deluxe-hepatitis",
   "metadata": {
    "execution": {
     "iopub.execute_input": "2021-06-19T00:20:41.191710Z",
     "iopub.status.busy": "2021-06-19T00:20:41.191032Z",
     "iopub.status.idle": "2021-06-19T00:20:41.196204Z",
     "shell.execute_reply": "2021-06-19T00:20:41.195649Z"
    },
    "papermill": {
     "duration": 0.050839,
     "end_time": "2021-06-19T00:20:41.196392",
     "exception": false,
     "start_time": "2021-06-19T00:20:41.145553",
     "status": "completed"
    },
    "tags": []
   },
   "outputs": [],
   "source": [
    "#hide\n",
    "df_table = (pd.DataFrame(dict(Cases = dfc_cases, Deaths = dfc_deaths, PCases = dfp_cases, PDeaths = dfp_deaths))\n",
    "            .sort_values(by = ['Cases','Deaths'], ascending = [False, False])\n",
    "            .reset_index())"
   ]
  },
  {
   "cell_type": "code",
   "execution_count": 13,
   "id": "educational-chancellor",
   "metadata": {
    "execution": {
     "iopub.execute_input": "2021-06-19T00:20:41.293727Z",
     "iopub.status.busy": "2021-06-19T00:20:41.293063Z",
     "iopub.status.idle": "2021-06-19T00:20:41.301909Z",
     "shell.execute_reply": "2021-06-19T00:20:41.301378Z"
    },
    "papermill": {
     "duration": 0.067821,
     "end_time": "2021-06-19T00:20:41.302047",
     "exception": false,
     "start_time": "2021-06-19T00:20:41.234226",
     "status": "completed"
    },
    "tags": []
   },
   "outputs": [
    {
     "data": {
      "text/html": [
       "<div>\n",
       "<style scoped>\n",
       "    .dataframe tbody tr th:only-of-type {\n",
       "        vertical-align: middle;\n",
       "    }\n",
       "\n",
       "    .dataframe tbody tr th {\n",
       "        vertical-align: top;\n",
       "    }\n",
       "\n",
       "    .dataframe thead th {\n",
       "        text-align: right;\n",
       "    }\n",
       "</style>\n",
       "<table border=\"1\" class=\"dataframe\">\n",
       "  <thead>\n",
       "    <tr style=\"text-align: right;\">\n",
       "      <th></th>\n",
       "      <th>Country/Region</th>\n",
       "      <th>Cases</th>\n",
       "      <th>Deaths</th>\n",
       "      <th>PCases</th>\n",
       "      <th>PDeaths</th>\n",
       "      <th>Cases (+)</th>\n",
       "      <th>Deaths (+)</th>\n",
       "      <th>Fatality Rate</th>\n",
       "      <th>Continent</th>\n",
       "    </tr>\n",
       "  </thead>\n",
       "  <tbody>\n",
       "    <tr>\n",
       "      <th>0</th>\n",
       "      <td>US</td>\n",
       "      <td>33508867</td>\n",
       "      <td>600934</td>\n",
       "      <td>33498468</td>\n",
       "      <td>600653</td>\n",
       "      <td>10399</td>\n",
       "      <td>281</td>\n",
       "      <td>1.79</td>\n",
       "      <td>North America</td>\n",
       "    </tr>\n",
       "    <tr>\n",
       "      <th>1</th>\n",
       "      <td>India</td>\n",
       "      <td>29762793</td>\n",
       "      <td>383490</td>\n",
       "      <td>29700313</td>\n",
       "      <td>381903</td>\n",
       "      <td>62480</td>\n",
       "      <td>1587</td>\n",
       "      <td>1.29</td>\n",
       "      <td>Asia</td>\n",
       "    </tr>\n",
       "    <tr>\n",
       "      <th>2</th>\n",
       "      <td>Brazil</td>\n",
       "      <td>17702630</td>\n",
       "      <td>496004</td>\n",
       "      <td>17628588</td>\n",
       "      <td>493693</td>\n",
       "      <td>74042</td>\n",
       "      <td>2311</td>\n",
       "      <td>2.80</td>\n",
       "      <td>South America</td>\n",
       "    </tr>\n",
       "    <tr>\n",
       "      <th>3</th>\n",
       "      <td>France</td>\n",
       "      <td>5811461</td>\n",
       "      <td>110796</td>\n",
       "      <td>5809319</td>\n",
       "      <td>110740</td>\n",
       "      <td>2142</td>\n",
       "      <td>56</td>\n",
       "      <td>1.91</td>\n",
       "      <td>Europe</td>\n",
       "    </tr>\n",
       "    <tr>\n",
       "      <th>4</th>\n",
       "      <td>Turkey</td>\n",
       "      <td>5354153</td>\n",
       "      <td>49012</td>\n",
       "      <td>5348249</td>\n",
       "      <td>48950</td>\n",
       "      <td>5904</td>\n",
       "      <td>62</td>\n",
       "      <td>0.92</td>\n",
       "      <td>Asia</td>\n",
       "    </tr>\n",
       "  </tbody>\n",
       "</table>\n",
       "</div>"
      ],
      "text/plain": [
       "  Country/Region     Cases  Deaths    PCases  PDeaths  Cases (+)  Deaths (+)  \\\n",
       "0             US  33508867  600934  33498468   600653      10399         281   \n",
       "1          India  29762793  383490  29700313   381903      62480        1587   \n",
       "2         Brazil  17702630  496004  17628588   493693      74042        2311   \n",
       "3         France   5811461  110796   5809319   110740       2142          56   \n",
       "4         Turkey   5354153   49012   5348249    48950       5904          62   \n",
       "\n",
       "   Fatality Rate      Continent  \n",
       "0           1.79  North America  \n",
       "1           1.29           Asia  \n",
       "2           2.80  South America  \n",
       "3           1.91         Europe  \n",
       "4           0.92           Asia  "
      ]
     },
     "execution_count": 13,
     "metadata": {},
     "output_type": "execute_result"
    }
   ],
   "source": [
    "#hide\n",
    "for c in 'Cases, Deaths'.split(', '):\n",
    "    df_table[f'{c} (+)'] = (df_table[c] - df_table[f'P{c}']).clip(0)\n",
    "    #Clip ça veut dire, les chiffres negatif sont interdit\n",
    "df_table['Fatality Rate'] = (100* df_table['Deaths']/ df_table['Cases']).round(2)\n",
    "df_table['Continent'] = df_table['Country/Region'].map(mapping['map.continent'])\n",
    "df_table.head(5)"
   ]
  },
  {
   "cell_type": "code",
   "execution_count": 14,
   "id": "aboriginal-bulgaria",
   "metadata": {
    "execution": {
     "iopub.execute_input": "2021-06-19T00:20:41.384895Z",
     "iopub.status.busy": "2021-06-19T00:20:41.384252Z",
     "iopub.status.idle": "2021-06-19T00:20:41.386041Z",
     "shell.execute_reply": "2021-06-19T00:20:41.386594Z"
    },
    "papermill": {
     "duration": 0.046816,
     "end_time": "2021-06-19T00:20:41.386746",
     "exception": false,
     "start_time": "2021-06-19T00:20:41.339930",
     "status": "completed"
    },
    "tags": []
   },
   "outputs": [],
   "source": [
    "#hide\n",
    "#delete problematic countries from table\n",
    "df_table = df_table[~df_table['Country/Region'].isin(['Cape Verde', 'Cruise Ship', 'Kosovo'])]"
   ]
  },
  {
   "cell_type": "code",
   "execution_count": 15,
   "id": "fantastic-effect",
   "metadata": {
    "execution": {
     "iopub.execute_input": "2021-06-19T00:20:41.474958Z",
     "iopub.status.busy": "2021-06-19T00:20:41.474301Z",
     "iopub.status.idle": "2021-06-19T00:20:41.495150Z",
     "shell.execute_reply": "2021-06-19T00:20:41.495712Z"
    },
    "papermill": {
     "duration": 0.069091,
     "end_time": "2021-06-19T00:20:41.495874",
     "exception": false,
     "start_time": "2021-06-19T00:20:41.426783",
     "status": "completed"
    },
    "tags": []
   },
   "outputs": [
    {
     "data": {
      "text/html": [
       "<div>\n",
       "<style scoped>\n",
       "    .dataframe tbody tr th:only-of-type {\n",
       "        vertical-align: middle;\n",
       "    }\n",
       "\n",
       "    .dataframe tbody tr th {\n",
       "        vertical-align: top;\n",
       "    }\n",
       "\n",
       "    .dataframe thead th {\n",
       "        text-align: right;\n",
       "    }\n",
       "</style>\n",
       "<table border=\"1\" class=\"dataframe\">\n",
       "  <thead>\n",
       "    <tr style=\"text-align: right;\">\n",
       "      <th></th>\n",
       "      <th>Country/Region</th>\n",
       "      <th>Cases</th>\n",
       "      <th>Deaths</th>\n",
       "      <th>PCases</th>\n",
       "      <th>PDeaths</th>\n",
       "      <th>Cases (+)</th>\n",
       "      <th>Deaths (+)</th>\n",
       "      <th>Fatality Rate</th>\n",
       "      <th>Continent</th>\n",
       "    </tr>\n",
       "  </thead>\n",
       "  <tbody>\n",
       "    <tr>\n",
       "      <th>0</th>\n",
       "      <td>US</td>\n",
       "      <td>33508867</td>\n",
       "      <td>600934</td>\n",
       "      <td>33498468</td>\n",
       "      <td>600653</td>\n",
       "      <td>10399</td>\n",
       "      <td>281</td>\n",
       "      <td>1.8</td>\n",
       "      <td>North America</td>\n",
       "    </tr>\n",
       "    <tr>\n",
       "      <th>1</th>\n",
       "      <td>India</td>\n",
       "      <td>29762793</td>\n",
       "      <td>383490</td>\n",
       "      <td>29700313</td>\n",
       "      <td>381903</td>\n",
       "      <td>62480</td>\n",
       "      <td>1587</td>\n",
       "      <td>1.3</td>\n",
       "      <td>Asia</td>\n",
       "    </tr>\n",
       "    <tr>\n",
       "      <th>2</th>\n",
       "      <td>Brazil</td>\n",
       "      <td>17702630</td>\n",
       "      <td>496004</td>\n",
       "      <td>17628588</td>\n",
       "      <td>493693</td>\n",
       "      <td>74042</td>\n",
       "      <td>2311</td>\n",
       "      <td>2.8</td>\n",
       "      <td>South America</td>\n",
       "    </tr>\n",
       "    <tr>\n",
       "      <th>3</th>\n",
       "      <td>France</td>\n",
       "      <td>5811461</td>\n",
       "      <td>110796</td>\n",
       "      <td>5809319</td>\n",
       "      <td>110740</td>\n",
       "      <td>2142</td>\n",
       "      <td>56</td>\n",
       "      <td>1.9</td>\n",
       "      <td>Europe</td>\n",
       "    </tr>\n",
       "    <tr>\n",
       "      <th>4</th>\n",
       "      <td>Turkey</td>\n",
       "      <td>5354153</td>\n",
       "      <td>49012</td>\n",
       "      <td>5348249</td>\n",
       "      <td>48950</td>\n",
       "      <td>5904</td>\n",
       "      <td>62</td>\n",
       "      <td>0.9</td>\n",
       "      <td>Asia</td>\n",
       "    </tr>\n",
       "  </tbody>\n",
       "</table>\n",
       "</div>"
      ],
      "text/plain": [
       "  Country/Region     Cases  Deaths    PCases  PDeaths  Cases (+)  Deaths (+)  \\\n",
       "0             US  33508867  600934  33498468   600653      10399         281   \n",
       "1          India  29762793  383490  29700313   381903      62480        1587   \n",
       "2         Brazil  17702630  496004  17628588   493693      74042        2311   \n",
       "3         France   5811461  110796   5809319   110740       2142          56   \n",
       "4         Turkey   5354153   49012   5348249    48950       5904          62   \n",
       "\n",
       "   Fatality Rate      Continent  \n",
       "0            1.8  North America  \n",
       "1            1.3           Asia  \n",
       "2            2.8  South America  \n",
       "3            1.9         Europe  \n",
       "4            0.9           Asia  "
      ]
     },
     "execution_count": 15,
     "metadata": {},
     "output_type": "execute_result"
    }
   ],
   "source": [
    "#hide\n",
    "df_table = (pd.DataFrame(dict(Cases=dfc_cases, Deaths=dfc_deaths, PCases=dfp_cases, PDeaths=dfp_deaths))\n",
    "             .sort_values(by=['Cases', 'Deaths'], ascending=[False, False])\n",
    "             .reset_index())\n",
    "df_table.rename(columns={'index': 'Country/Region'}, inplace=True)\n",
    "for c in 'Cases, Deaths'.split(', '):\n",
    "    df_table[f'{c} (+)'] = (df_table[c] - df_table[f'P{c}']).clip(0)  # DATA BUG\n",
    "df_table['Fatality Rate'] = (100 * df_table['Deaths'] / df_table['Cases']).round(1)\n",
    "df_table['Continent'] = df_table['Country/Region'].map(mapping['map.continent'])\n",
    "df_table.head(5)"
   ]
  },
  {
   "cell_type": "code",
   "execution_count": 16,
   "id": "fewer-occasion",
   "metadata": {
    "execution": {
     "iopub.execute_input": "2021-06-19T00:20:41.580701Z",
     "iopub.status.busy": "2021-06-19T00:20:41.579994Z",
     "iopub.status.idle": "2021-06-19T00:20:41.582441Z",
     "shell.execute_reply": "2021-06-19T00:20:41.581884Z"
    },
    "papermill": {
     "duration": 0.04846,
     "end_time": "2021-06-19T00:20:41.582571",
     "exception": false,
     "start_time": "2021-06-19T00:20:41.534111",
     "status": "completed"
    },
    "tags": []
   },
   "outputs": [],
   "source": [
    "#hide\n",
    "#delete problematic countries from table\n",
    "df_table = df_table[~df_table['Country/Region'].isin(['Cape Verde', 'Cruise Ship', 'Kosovo'])]"
   ]
  },
  {
   "cell_type": "code",
   "execution_count": 17,
   "id": "related-center",
   "metadata": {
    "execution": {
     "iopub.execute_input": "2021-06-19T00:20:41.668427Z",
     "iopub.status.busy": "2021-06-19T00:20:41.667777Z",
     "iopub.status.idle": "2021-06-19T00:20:41.683676Z",
     "shell.execute_reply": "2021-06-19T00:20:41.683106Z"
    },
    "papermill": {
     "duration": 0.062776,
     "end_time": "2021-06-19T00:20:41.683813",
     "exception": false,
     "start_time": "2021-06-19T00:20:41.621037",
     "status": "completed"
    },
    "tags": []
   },
   "outputs": [],
   "source": [
    "#hide\n",
    "metrics = [df_table.columns[index] for index in [1,2,5,6]]\n",
    "# s_china = df_table[df_table['Country/Region'].eq('China')][metrics].sum().add_prefix('China ')\n",
    "s_us = df_table[df_table['Country/Region'].eq('US')][metrics].sum().add_prefix('US ')\n",
    "s_eu = df_table[df_table['Continent'].eq('Europe')][metrics].sum().add_prefix('EU ')\n",
    "s_ind = df_table[df_table['Country/Region'].eq('India')][metrics].sum().add_prefix('India ')\n",
    "summary = {'updated': pd.to_datetime(dt_today), 'since': pd.to_datetime(dt_yday)}\n",
    "summary = {'updated': pd.to_datetime(dt_today), 'since': pd.to_datetime(dt_yday)}\n",
    "summary = {**summary, **df_table[metrics].sum(), **s_ind, **s_us, **s_eu}"
   ]
  },
  {
   "cell_type": "code",
   "execution_count": 18,
   "id": "engaging-syndrome",
   "metadata": {
    "execution": {
     "iopub.execute_input": "2021-06-19T00:20:41.770063Z",
     "iopub.status.busy": "2021-06-19T00:20:41.769414Z",
     "iopub.status.idle": "2021-06-19T00:20:41.781664Z",
     "shell.execute_reply": "2021-06-19T00:20:41.782218Z"
    },
    "papermill": {
     "duration": 0.05973,
     "end_time": "2021-06-19T00:20:41.782386",
     "exception": false,
     "start_time": "2021-06-19T00:20:41.722656",
     "status": "completed"
    },
    "tags": []
   },
   "outputs": [],
   "source": [
    "#hide\n",
    "dft_ct_new_cases = dft_cases.groupby(COL_REGION)[dt_cols].sum().diff(axis=1).fillna(0).astype(int)"
   ]
  },
  {
   "cell_type": "code",
   "execution_count": 19,
   "id": "neutral-assignment",
   "metadata": {
    "execution": {
     "iopub.execute_input": "2021-06-19T00:20:41.867270Z",
     "iopub.status.busy": "2021-06-19T00:20:41.866592Z",
     "iopub.status.idle": "2021-06-19T00:20:41.868441Z",
     "shell.execute_reply": "2021-06-19T00:20:41.868942Z"
    },
    "papermill": {
     "duration": 0.048306,
     "end_time": "2021-06-19T00:20:41.869094",
     "exception": false,
     "start_time": "2021-06-19T00:20:41.820788",
     "status": "completed"
    },
    "tags": []
   },
   "outputs": [],
   "source": [
    "#hide\n",
    "everydaycases = dft_ct_new_cases.cumsum(axis=1)"
   ]
  },
  {
   "cell_type": "code",
   "execution_count": 20,
   "id": "parliamentary-calgary",
   "metadata": {
    "execution": {
     "iopub.execute_input": "2021-06-19T00:20:41.952034Z",
     "iopub.status.busy": "2021-06-19T00:20:41.951388Z",
     "iopub.status.idle": "2021-06-19T00:20:42.558929Z",
     "shell.execute_reply": "2021-06-19T00:20:42.558364Z"
    },
    "papermill": {
     "duration": 0.650578,
     "end_time": "2021-06-19T00:20:42.559104",
     "exception": false,
     "start_time": "2021-06-19T00:20:41.908526",
     "status": "completed"
    },
    "tags": []
   },
   "outputs": [],
   "source": [
    "#hide\n",
    "import pandas as pd\n",
    "import matplotlib.pyplot as plt\n",
    "import matplotlib.ticker as ticker\n",
    "import matplotlib.animation as animation\n",
    "from IPython.display import HTML"
   ]
  },
  {
   "cell_type": "code",
   "execution_count": 21,
   "id": "lasting-extraction",
   "metadata": {
    "execution": {
     "iopub.execute_input": "2021-06-19T00:20:42.649981Z",
     "iopub.status.busy": "2021-06-19T00:20:42.649322Z",
     "iopub.status.idle": "2021-06-19T00:20:42.654829Z",
     "shell.execute_reply": "2021-06-19T00:20:42.655465Z"
    },
    "papermill": {
     "duration": 0.05046,
     "end_time": "2021-06-19T00:20:42.655627",
     "exception": false,
     "start_time": "2021-06-19T00:20:42.605167",
     "status": "completed"
    },
    "tags": []
   },
   "outputs": [],
   "source": [
    "#hide\n",
    "t = everydaycases.stack()"
   ]
  },
  {
   "cell_type": "code",
   "execution_count": 22,
   "id": "premier-sleeve",
   "metadata": {
    "execution": {
     "iopub.execute_input": "2021-06-19T00:20:42.739997Z",
     "iopub.status.busy": "2021-06-19T00:20:42.739362Z",
     "iopub.status.idle": "2021-06-19T00:20:42.747593Z",
     "shell.execute_reply": "2021-06-19T00:20:42.746969Z"
    },
    "papermill": {
     "duration": 0.050207,
     "end_time": "2021-06-19T00:20:42.747725",
     "exception": false,
     "start_time": "2021-06-19T00:20:42.697518",
     "status": "completed"
    },
    "tags": []
   },
   "outputs": [],
   "source": [
    "#hide\n",
    "g = t.reset_index(['Country/Region'])"
   ]
  },
  {
   "cell_type": "code",
   "execution_count": 23,
   "id": "distributed-pittsburgh",
   "metadata": {
    "execution": {
     "iopub.execute_input": "2021-06-19T00:20:42.831598Z",
     "iopub.status.busy": "2021-06-19T00:20:42.830931Z",
     "iopub.status.idle": "2021-06-19T00:20:42.833270Z",
     "shell.execute_reply": "2021-06-19T00:20:42.832632Z"
    },
    "papermill": {
     "duration": 0.045875,
     "end_time": "2021-06-19T00:20:42.833399",
     "exception": false,
     "start_time": "2021-06-19T00:20:42.787524",
     "status": "completed"
    },
    "tags": []
   },
   "outputs": [],
   "source": [
    "#hide\n",
    "g.index.name = 'date'"
   ]
  },
  {
   "cell_type": "code",
   "execution_count": 24,
   "id": "naked-donor",
   "metadata": {
    "execution": {
     "iopub.execute_input": "2021-06-19T00:20:42.918461Z",
     "iopub.status.busy": "2021-06-19T00:20:42.917737Z",
     "iopub.status.idle": "2021-06-19T00:20:42.919409Z",
     "shell.execute_reply": "2021-06-19T00:20:42.920009Z"
    },
    "papermill": {
     "duration": 0.045581,
     "end_time": "2021-06-19T00:20:42.920151",
     "exception": false,
     "start_time": "2021-06-19T00:20:42.874570",
     "status": "completed"
    },
    "tags": []
   },
   "outputs": [],
   "source": [
    "# #hide\n",
    "# g = g.reset_index(['date'])"
   ]
  },
  {
   "cell_type": "code",
   "execution_count": 25,
   "id": "incomplete-mustang",
   "metadata": {
    "execution": {
     "iopub.execute_input": "2021-06-19T00:20:43.005811Z",
     "iopub.status.busy": "2021-06-19T00:20:43.005169Z",
     "iopub.status.idle": "2021-06-19T00:20:43.007043Z",
     "shell.execute_reply": "2021-06-19T00:20:43.007684Z"
    },
    "papermill": {
     "duration": 0.044461,
     "end_time": "2021-06-19T00:20:43.007829",
     "exception": false,
     "start_time": "2021-06-19T00:20:42.963368",
     "status": "completed"
    },
    "tags": []
   },
   "outputs": [],
   "source": [
    "#hide\n",
    "# g.head()"
   ]
  },
  {
   "cell_type": "code",
   "execution_count": 26,
   "id": "specific-kruger",
   "metadata": {
    "execution": {
     "iopub.execute_input": "2021-06-19T00:20:43.091410Z",
     "iopub.status.busy": "2021-06-19T00:20:43.090732Z",
     "iopub.status.idle": "2021-06-19T00:20:43.092519Z",
     "shell.execute_reply": "2021-06-19T00:20:43.093115Z"
    },
    "papermill": {
     "duration": 0.04552,
     "end_time": "2021-06-19T00:20:43.093259",
     "exception": false,
     "start_time": "2021-06-19T00:20:43.047739",
     "status": "completed"
    },
    "tags": []
   },
   "outputs": [],
   "source": [
    "#hide\n",
    "# g.columns = ['date','country','cases']"
   ]
  },
  {
   "cell_type": "code",
   "execution_count": 27,
   "id": "tender-conversion",
   "metadata": {
    "execution": {
     "iopub.execute_input": "2021-06-19T00:20:43.176157Z",
     "iopub.status.busy": "2021-06-19T00:20:43.175516Z",
     "iopub.status.idle": "2021-06-19T00:20:43.178035Z",
     "shell.execute_reply": "2021-06-19T00:20:43.177485Z"
    },
    "papermill": {
     "duration": 0.046493,
     "end_time": "2021-06-19T00:20:43.178162",
     "exception": false,
     "start_time": "2021-06-19T00:20:43.131669",
     "status": "completed"
    },
    "tags": []
   },
   "outputs": [],
   "source": [
    "#hide\n",
    "# g['continent'] = g.country"
   ]
  },
  {
   "cell_type": "code",
   "execution_count": 28,
   "id": "substantial-wilderness",
   "metadata": {
    "execution": {
     "iopub.execute_input": "2021-06-19T00:20:43.260538Z",
     "iopub.status.busy": "2021-06-19T00:20:43.259704Z",
     "iopub.status.idle": "2021-06-19T00:20:43.261816Z",
     "shell.execute_reply": "2021-06-19T00:20:43.262377Z"
    },
    "papermill": {
     "duration": 0.045785,
     "end_time": "2021-06-19T00:20:43.262534",
     "exception": false,
     "start_time": "2021-06-19T00:20:43.216749",
     "status": "completed"
    },
    "tags": []
   },
   "outputs": [],
   "source": [
    "#hide\n",
    "# cols = list(g.columns.values)"
   ]
  },
  {
   "cell_type": "code",
   "execution_count": 29,
   "id": "solved-farming",
   "metadata": {
    "execution": {
     "iopub.execute_input": "2021-06-19T00:20:43.343763Z",
     "iopub.status.busy": "2021-06-19T00:20:43.343116Z",
     "iopub.status.idle": "2021-06-19T00:20:43.344907Z",
     "shell.execute_reply": "2021-06-19T00:20:43.345465Z"
    },
    "papermill": {
     "duration": 0.045107,
     "end_time": "2021-06-19T00:20:43.345610",
     "exception": false,
     "start_time": "2021-06-19T00:20:43.300503",
     "status": "completed"
    },
    "tags": []
   },
   "outputs": [],
   "source": [
    "#hide\n",
    "# cols.insert(0, cols.pop())"
   ]
  },
  {
   "cell_type": "code",
   "execution_count": 30,
   "id": "executed-adoption",
   "metadata": {
    "execution": {
     "iopub.execute_input": "2021-06-19T00:20:43.427134Z",
     "iopub.status.busy": "2021-06-19T00:20:43.426466Z",
     "iopub.status.idle": "2021-06-19T00:20:43.428362Z",
     "shell.execute_reply": "2021-06-19T00:20:43.428886Z"
    },
    "papermill": {
     "duration": 0.043836,
     "end_time": "2021-06-19T00:20:43.429029",
     "exception": false,
     "start_time": "2021-06-19T00:20:43.385193",
     "status": "completed"
    },
    "tags": []
   },
   "outputs": [],
   "source": [
    "#hide\n",
    "# g = g[cols]"
   ]
  },
  {
   "cell_type": "code",
   "execution_count": 31,
   "id": "subject-dublin",
   "metadata": {
    "execution": {
     "iopub.execute_input": "2021-06-19T00:20:43.512145Z",
     "iopub.status.busy": "2021-06-19T00:20:43.511443Z",
     "iopub.status.idle": "2021-06-19T00:20:43.513641Z",
     "shell.execute_reply": "2021-06-19T00:20:43.514198Z"
    },
    "papermill": {
     "duration": 0.046008,
     "end_time": "2021-06-19T00:20:43.514346",
     "exception": false,
     "start_time": "2021-06-19T00:20:43.468338",
     "status": "completed"
    },
    "tags": []
   },
   "outputs": [],
   "source": [
    "#hide\n",
    "# g['continent'] = g['continent'].map(mapping['map.continent'])"
   ]
  },
  {
   "cell_type": "code",
   "execution_count": 32,
   "id": "freelance-scout",
   "metadata": {
    "execution": {
     "iopub.execute_input": "2021-06-19T00:20:43.597388Z",
     "iopub.status.busy": "2021-06-19T00:20:43.596744Z",
     "iopub.status.idle": "2021-06-19T00:20:43.598550Z",
     "shell.execute_reply": "2021-06-19T00:20:43.599128Z"
    },
    "papermill": {
     "duration": 0.045415,
     "end_time": "2021-06-19T00:20:43.599273",
     "exception": false,
     "start_time": "2021-06-19T00:20:43.553858",
     "status": "completed"
    },
    "tags": []
   },
   "outputs": [],
   "source": [
    "#hide\n",
    "# g.head()"
   ]
  },
  {
   "cell_type": "code",
   "execution_count": 33,
   "id": "limited-engine",
   "metadata": {
    "execution": {
     "iopub.execute_input": "2021-06-19T00:20:43.683893Z",
     "iopub.status.busy": "2021-06-19T00:20:43.682859Z",
     "iopub.status.idle": "2021-06-19T00:20:43.684518Z",
     "shell.execute_reply": "2021-06-19T00:20:43.685133Z"
    },
    "papermill": {
     "duration": 0.047352,
     "end_time": "2021-06-19T00:20:43.685278",
     "exception": false,
     "start_time": "2021-06-19T00:20:43.637926",
     "status": "completed"
    },
    "tags": []
   },
   "outputs": [],
   "source": [
    "# hide\n",
    "# g['date'] = g['date'].astype('datetime64[ns]')"
   ]
  },
  {
   "cell_type": "code",
   "execution_count": 34,
   "id": "sophisticated-supervisor",
   "metadata": {
    "execution": {
     "iopub.execute_input": "2021-06-19T00:20:43.766086Z",
     "iopub.status.busy": "2021-06-19T00:20:43.765348Z",
     "iopub.status.idle": "2021-06-19T00:20:43.766980Z",
     "shell.execute_reply": "2021-06-19T00:20:43.767627Z"
    },
    "papermill": {
     "duration": 0.044126,
     "end_time": "2021-06-19T00:20:43.767784",
     "exception": false,
     "start_time": "2021-06-19T00:20:43.723658",
     "status": "completed"
    },
    "tags": []
   },
   "outputs": [],
   "source": [
    "#hide\n",
    "# g['date'] = g.date.dt.dayofyear"
   ]
  },
  {
   "cell_type": "code",
   "execution_count": 35,
   "id": "inside-dubai",
   "metadata": {
    "execution": {
     "iopub.execute_input": "2021-06-19T00:20:43.852182Z",
     "iopub.status.busy": "2021-06-19T00:20:43.851542Z",
     "iopub.status.idle": "2021-06-19T00:20:43.853446Z",
     "shell.execute_reply": "2021-06-19T00:20:43.854076Z"
    },
    "papermill": {
     "duration": 0.045908,
     "end_time": "2021-06-19T00:20:43.854223",
     "exception": false,
     "start_time": "2021-06-19T00:20:43.808315",
     "status": "completed"
    },
    "tags": []
   },
   "outputs": [],
   "source": [
    "#hide\n",
    "# g = g.rename(columns= {'continent':'group','country':'name','cases':'value'})"
   ]
  },
  {
   "cell_type": "code",
   "execution_count": 36,
   "id": "fleet-motorcycle",
   "metadata": {
    "execution": {
     "iopub.execute_input": "2021-06-19T00:20:43.935826Z",
     "iopub.status.busy": "2021-06-19T00:20:43.935180Z",
     "iopub.status.idle": "2021-06-19T00:20:43.937585Z",
     "shell.execute_reply": "2021-06-19T00:20:43.937035Z"
    },
    "papermill": {
     "duration": 0.044201,
     "end_time": "2021-06-19T00:20:43.937713",
     "exception": false,
     "start_time": "2021-06-19T00:20:43.893512",
     "status": "completed"
    },
    "tags": []
   },
   "outputs": [],
   "source": [
    "#hide\n",
    "# cols = ['name','group','day','value']"
   ]
  },
  {
   "cell_type": "code",
   "execution_count": 37,
   "id": "continued-sleeping",
   "metadata": {
    "execution": {
     "iopub.execute_input": "2021-06-19T00:20:44.020321Z",
     "iopub.status.busy": "2021-06-19T00:20:44.019681Z",
     "iopub.status.idle": "2021-06-19T00:20:44.021919Z",
     "shell.execute_reply": "2021-06-19T00:20:44.022521Z"
    },
    "papermill": {
     "duration": 0.046789,
     "end_time": "2021-06-19T00:20:44.022666",
     "exception": false,
     "start_time": "2021-06-19T00:20:43.975877",
     "status": "completed"
    },
    "tags": []
   },
   "outputs": [],
   "source": [
    "#hide\n",
    "# g.rename(columns= {'date':'day'},inplace = True)"
   ]
  },
  {
   "cell_type": "code",
   "execution_count": 38,
   "id": "major-fight",
   "metadata": {
    "execution": {
     "iopub.execute_input": "2021-06-19T00:20:44.107031Z",
     "iopub.status.busy": "2021-06-19T00:20:44.106389Z",
     "iopub.status.idle": "2021-06-19T00:20:44.109152Z",
     "shell.execute_reply": "2021-06-19T00:20:44.108523Z"
    },
    "papermill": {
     "duration": 0.047464,
     "end_time": "2021-06-19T00:20:44.109282",
     "exception": false,
     "start_time": "2021-06-19T00:20:44.061818",
     "status": "completed"
    },
    "tags": []
   },
   "outputs": [],
   "source": [
    "#hide\n",
    "# g = g[cols]"
   ]
  },
  {
   "cell_type": "code",
   "execution_count": 39,
   "id": "structured-mobile",
   "metadata": {
    "execution": {
     "iopub.execute_input": "2021-06-19T00:20:44.194858Z",
     "iopub.status.busy": "2021-06-19T00:20:44.194215Z",
     "iopub.status.idle": "2021-06-19T00:20:44.196246Z",
     "shell.execute_reply": "2021-06-19T00:20:44.196768Z"
    },
    "papermill": {
     "duration": 0.048084,
     "end_time": "2021-06-19T00:20:44.196913",
     "exception": false,
     "start_time": "2021-06-19T00:20:44.148829",
     "status": "completed"
    },
    "tags": []
   },
   "outputs": [],
   "source": [
    "# #hide\n",
    "# g = g[g.group.notna()]"
   ]
  },
  {
   "cell_type": "code",
   "execution_count": 40,
   "id": "determined-closing",
   "metadata": {
    "execution": {
     "iopub.execute_input": "2021-06-19T00:20:44.279786Z",
     "iopub.status.busy": "2021-06-19T00:20:44.279129Z",
     "iopub.status.idle": "2021-06-19T00:20:44.281385Z",
     "shell.execute_reply": "2021-06-19T00:20:44.280837Z"
    },
    "papermill": {
     "duration": 0.045625,
     "end_time": "2021-06-19T00:20:44.281513",
     "exception": false,
     "start_time": "2021-06-19T00:20:44.235888",
     "status": "completed"
    },
    "tags": []
   },
   "outputs": [],
   "source": [
    "# #hide\n",
    "# colors = dict(zip(\n",
    "#     [\"Oceania\", \"Europe\", \"Asia\", \"South America\", \"Middle East\", \"North America\", \"Africa\"],\n",
    "#     [\"#adb0ff\", \"#ffb3ff\", \"#90d595\", \"#e48381\", \"#aafbff\", \"#f7bb5f\", \"#eafb50\"]\n",
    "# ))\n",
    "# group_lk = g.set_index('name')['group'].to_dict()"
   ]
  },
  {
   "cell_type": "code",
   "execution_count": null,
   "id": "gross-drinking",
   "metadata": {
    "papermill": {
     "duration": 0.038286,
     "end_time": "2021-06-19T00:20:44.359202",
     "exception": false,
     "start_time": "2021-06-19T00:20:44.320916",
     "status": "completed"
    },
    "tags": []
   },
   "outputs": [],
   "source": []
  },
  {
   "cell_type": "code",
   "execution_count": 41,
   "id": "subject-macintosh",
   "metadata": {
    "execution": {
     "iopub.execute_input": "2021-06-19T00:20:44.442436Z",
     "iopub.status.busy": "2021-06-19T00:20:44.441779Z",
     "iopub.status.idle": "2021-06-19T00:20:44.443644Z",
     "shell.execute_reply": "2021-06-19T00:20:44.444173Z"
    },
    "papermill": {
     "duration": 0.044877,
     "end_time": "2021-06-19T00:20:44.444317",
     "exception": false,
     "start_time": "2021-06-19T00:20:44.399440",
     "status": "completed"
    },
    "tags": []
   },
   "outputs": [],
   "source": [
    "# #hide\n",
    "# fig, ax = plt.subplots(figsize=(15, 8))\n",
    "\n",
    "# def draw_barchart(current_day):\n",
    "#     dff = g[g['day'].eq(current_day)].sort_values(by='value', ascending=True).tail(10)\n",
    "#     ax.clear()\n",
    "#     ax.barh(dff['name'], dff['value'], color=[colors[group_lk[x]] for x in dff['name']])\n",
    "#     dx = dff['value'].max() / 200\n",
    "    \n",
    "#     for i, (value, name) in enumerate(zip(dff['value'], dff['name'])):\n",
    "#         ax.text(value-dx, i,     name,           size=14, weight=600, ha='right', va='bottom')\n",
    "#         ax.text(value-dx, i-.25, group_lk[name], size=10, color='#444444', ha='right', va='baseline')\n",
    "#         ax.text(value+dx, i,     f'{value:,.0f}',  size=14, ha='left',  va='center')\n",
    "#     ax.text(1, 0.4, current_day, transform=ax.transAxes, color='#777777', size=46, ha='right', weight=800)\n",
    "#     ax.text(0, 1.06, 'Population (thousands)', transform=ax.transAxes, size=12, color='#777777')\n",
    "#     ax.xaxis.set_major_formatter(ticker.StrMethodFormatter('{x:,.0f}'))\n",
    "#     ax.xaxis.set_ticks_position('top')\n",
    "#     ax.tick_params(axis='x', colors='#777777', labelsize=12)\n",
    "#     ax.set_yticks([])\n",
    "#     ax.margins(0, 0.01)\n",
    "#     ax.grid(which='major', axis='x', linestyle='-')\n",
    "#     ax.set_axisbelow(True)\n",
    "    \n",
    "#     ax.text(0, 1.15, 'Coronavirus',\n",
    "#             transform=ax.transAxes, size=24, weight=600, ha='left', va='top')\n",
    "# #     ax.text(1, 0, 'by @pratapvardhan; credit @jburnmurdoch', transform=ax.transAxes, color='#777777', ha='right',\n",
    "# #             bbox=dict(facecolor='white', alpha=0.8, edgecolor='white'))\n",
    "#     plt.box(False)"
   ]
  },
  {
   "cell_type": "code",
   "execution_count": 42,
   "id": "sexual-wages",
   "metadata": {
    "execution": {
     "iopub.execute_input": "2021-06-19T00:20:44.525923Z",
     "iopub.status.busy": "2021-06-19T00:20:44.525282Z",
     "iopub.status.idle": "2021-06-19T00:20:44.527252Z",
     "shell.execute_reply": "2021-06-19T00:20:44.527859Z"
    },
    "papermill": {
     "duration": 0.045338,
     "end_time": "2021-06-19T00:20:44.528005",
     "exception": false,
     "start_time": "2021-06-19T00:20:44.482667",
     "status": "completed"
    },
    "tags": []
   },
   "outputs": [],
   "source": [
    "# #hide_input\n",
    "# fig, ax = plt.subplots(figsize=(15, 8))\n",
    "# animator = animation.FuncAnimation(fig, draw_barchart, frames=range(g.day.values.min(), g.day.values.max()))\n",
    "# HTML(animator.to_jshtml())\n",
    "# # or use animator.to_html5_video() or animator.save() "
   ]
  },
  {
   "cell_type": "code",
   "execution_count": null,
   "id": "australian-container",
   "metadata": {
    "papermill": {
     "duration": 0.039109,
     "end_time": "2021-06-19T00:20:44.606008",
     "exception": false,
     "start_time": "2021-06-19T00:20:44.566899",
     "status": "completed"
    },
    "tags": []
   },
   "outputs": [],
   "source": []
  },
  {
   "cell_type": "code",
   "execution_count": null,
   "id": "mediterranean-pontiac",
   "metadata": {
    "papermill": {
     "duration": 0.04171,
     "end_time": "2021-06-19T00:20:44.687320",
     "exception": false,
     "start_time": "2021-06-19T00:20:44.645610",
     "status": "completed"
    },
    "tags": []
   },
   "outputs": [],
   "source": []
  },
  {
   "cell_type": "code",
   "execution_count": null,
   "id": "aging-legislature",
   "metadata": {
    "papermill": {
     "duration": 0.038833,
     "end_time": "2021-06-19T00:20:44.765442",
     "exception": false,
     "start_time": "2021-06-19T00:20:44.726609",
     "status": "completed"
    },
    "tags": []
   },
   "outputs": [],
   "source": []
  }
 ],
 "metadata": {
  "kernelspec": {
   "display_name": "Python 3",
   "language": "python",
   "name": "python3"
  },
  "language_info": {
   "codemirror_mode": {
    "name": "ipython",
    "version": 3
   },
   "file_extension": ".py",
   "mimetype": "text/x-python",
   "name": "python",
   "nbconvert_exporter": "python",
   "pygments_lexer": "ipython3",
   "version": "3.6.13"
  },
  "papermill": {
   "duration": 7.076745,
   "end_time": "2021-06-19T00:20:45.214685",
   "environment_variables": {},
   "exception": null,
   "input_path": "2020-03-21-covid19exp.ipynb",
   "output_path": "2020-03-21-covid19exp.ipynb",
   "parameters": {},
   "start_time": "2021-06-19T00:20:38.137940",
   "version": "2.0.0"
  }
 },
 "nbformat": 4,
 "nbformat_minor": 5
}