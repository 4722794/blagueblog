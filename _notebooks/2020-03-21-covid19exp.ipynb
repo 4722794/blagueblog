{
 "cells": [
  {
   "cell_type": "markdown",
   "id": "muslim-click",
   "metadata": {
    "papermill": {
     "duration": 0.034558,
     "end_time": "2022-08-15T00:45:08.735180",
     "exception": false,
     "start_time": "2022-08-15T00:45:08.700622",
     "status": "completed"
    },
    "tags": []
   },
   "source": [
    "# COVID-19 Case Race\n",
    "> A race chart to see rising cases around the world\n",
    "\n",
    "- author: Hargun Oberoi\n",
    "- image: images/covid-overview.png\n",
    "- hide: false\n",
    "- badges: false"
   ]
  },
  {
   "cell_type": "code",
   "execution_count": 1,
   "id": "proof-material",
   "metadata": {
    "execution": {
     "iopub.execute_input": "2022-08-15T00:45:08.802732Z",
     "iopub.status.busy": "2022-08-15T00:45:08.797585Z",
     "iopub.status.idle": "2022-08-15T00:45:09.146786Z",
     "shell.execute_reply": "2022-08-15T00:45:09.146194Z"
    },
    "papermill": {
     "duration": 0.381646,
     "end_time": "2022-08-15T00:45:09.146941",
     "exception": false,
     "start_time": "2022-08-15T00:45:08.765295",
     "status": "completed"
    },
    "tags": []
   },
   "outputs": [],
   "source": [
    "#hide\n",
    "import numpy as np\n",
    "import pandas as pd\n",
    "from jinja2 import Template\n",
    "from IPython.display import HTML"
   ]
  },
  {
   "cell_type": "code",
   "execution_count": 2,
   "id": "developed-terminology",
   "metadata": {
    "execution": {
     "iopub.execute_input": "2022-08-15T00:45:09.211740Z",
     "iopub.status.busy": "2022-08-15T00:45:09.211085Z",
     "iopub.status.idle": "2022-08-15T00:45:09.213540Z",
     "shell.execute_reply": "2022-08-15T00:45:09.214018Z"
    },
    "papermill": {
     "duration": 0.037266,
     "end_time": "2022-08-15T00:45:09.214156",
     "exception": false,
     "start_time": "2022-08-15T00:45:09.176890",
     "status": "completed"
    },
    "tags": []
   },
   "outputs": [],
   "source": [
    "#hide\n",
    "\n",
    "# FETCH\n",
    "base_url = 'https://raw.githubusercontent.com/pratapvardhan/notebooks/master/covid19/'\n",
    "paths = {\n",
    "    'mapping': base_url + 'mapping_countries.csv',\n",
    "    'overview': base_url + 'overview.tpl'\n",
    "}"
   ]
  },
  {
   "cell_type": "code",
   "execution_count": 3,
   "id": "dynamic-saver",
   "metadata": {
    "execution": {
     "iopub.execute_input": "2022-08-15T00:45:09.283143Z",
     "iopub.status.busy": "2022-08-15T00:45:09.280792Z",
     "iopub.status.idle": "2022-08-15T00:45:09.286584Z",
     "shell.execute_reply": "2022-08-15T00:45:09.286113Z"
    },
    "papermill": {
     "duration": 0.043219,
     "end_time": "2022-08-15T00:45:09.286695",
     "exception": false,
     "start_time": "2022-08-15T00:45:09.243476",
     "status": "completed"
    },
    "tags": []
   },
   "outputs": [
    {
     "data": {
      "text/plain": [
       "'https://raw.githubusercontent.com/pratapvardhan/notebooks/master/covid19/mapping_countries.csv'"
      ]
     },
     "execution_count": 3,
     "metadata": {},
     "output_type": "execute_result"
    }
   ],
   "source": [
    "#hide\n",
    "paths['mapping']"
   ]
  },
  {
   "cell_type": "code",
   "execution_count": 4,
   "id": "urban-software",
   "metadata": {
    "execution": {
     "iopub.execute_input": "2022-08-15T00:45:09.352322Z",
     "iopub.status.busy": "2022-08-15T00:45:09.351720Z",
     "iopub.status.idle": "2022-08-15T00:45:09.354700Z",
     "shell.execute_reply": "2022-08-15T00:45:09.354220Z"
    },
    "papermill": {
     "duration": 0.037895,
     "end_time": "2022-08-15T00:45:09.354812",
     "exception": false,
     "start_time": "2022-08-15T00:45:09.316917",
     "status": "completed"
    },
    "tags": []
   },
   "outputs": [],
   "source": [
    "#hide\n",
    "def get_mappings(url):\n",
    "    df = pd.read_csv(url)\n",
    "    return {\n",
    "        'df': df,\n",
    "        'replace.country': dict(df.dropna(subset=['Name']).set_index('Country')['Name']),\n",
    "        'map.continent': dict(df.set_index('Name')['Continent'])\n",
    "    }"
   ]
  },
  {
   "cell_type": "code",
   "execution_count": 5,
   "id": "intimate-machinery",
   "metadata": {
    "execution": {
     "iopub.execute_input": "2022-08-15T00:45:09.419999Z",
     "iopub.status.busy": "2022-08-15T00:45:09.419351Z",
     "iopub.status.idle": "2022-08-15T00:45:09.444268Z",
     "shell.execute_reply": "2022-08-15T00:45:09.444781Z"
    },
    "papermill": {
     "duration": 0.06039,
     "end_time": "2022-08-15T00:45:09.444941",
     "exception": false,
     "start_time": "2022-08-15T00:45:09.384551",
     "status": "completed"
    },
    "tags": []
   },
   "outputs": [],
   "source": [
    "#hide\n",
    "mapping = get_mappings(paths['mapping'])"
   ]
  },
  {
   "cell_type": "code",
   "execution_count": 6,
   "id": "certified-tactics",
   "metadata": {
    "execution": {
     "iopub.execute_input": "2022-08-15T00:45:09.510120Z",
     "iopub.status.busy": "2022-08-15T00:45:09.509485Z",
     "iopub.status.idle": "2022-08-15T00:45:09.511962Z",
     "shell.execute_reply": "2022-08-15T00:45:09.511358Z"
    },
    "papermill": {
     "duration": 0.037161,
     "end_time": "2022-08-15T00:45:09.512077",
     "exception": false,
     "start_time": "2022-08-15T00:45:09.474916",
     "status": "completed"
    },
    "tags": []
   },
   "outputs": [],
   "source": [
    "#hide\n",
    "def get_template(path):\n",
    "    from urllib.parse import urlparse\n",
    "    if bool(urlparse(path).netloc):\n",
    "        from urllib.request import urlopen\n",
    "        return urlopen(path).read().decode('utf8')\n",
    "    return open(path).read()"
   ]
  },
  {
   "cell_type": "code",
   "execution_count": 7,
   "id": "realistic-blast",
   "metadata": {
    "execution": {
     "iopub.execute_input": "2022-08-15T00:45:09.576944Z",
     "iopub.status.busy": "2022-08-15T00:45:09.576345Z",
     "iopub.status.idle": "2022-08-15T00:45:09.578942Z",
     "shell.execute_reply": "2022-08-15T00:45:09.579364Z"
    },
    "papermill": {
     "duration": 0.037678,
     "end_time": "2022-08-15T00:45:09.579501",
     "exception": false,
     "start_time": "2022-08-15T00:45:09.541823",
     "status": "completed"
    },
    "tags": []
   },
   "outputs": [],
   "source": [
    "#hide\n",
    "def get_frame(name):\n",
    "    url = (\n",
    "        'https://raw.githubusercontent.com/CSSEGISandData/COVID-19/master/csse_covid_19_data/'\n",
    "        f'csse_covid_19_time_series/time_series_covid19_{name}_global.csv')\n",
    "    df = pd.read_csv(url)\n",
    "    # rename countries\n",
    "    df['Country/Region'] = df['Country/Region'].replace(mapping['replace.country'])\n",
    "    return df"
   ]
  },
  {
   "cell_type": "code",
   "execution_count": 8,
   "id": "affiliated-characterization",
   "metadata": {
    "execution": {
     "iopub.execute_input": "2022-08-15T00:45:09.645875Z",
     "iopub.status.busy": "2022-08-15T00:45:09.645156Z",
     "iopub.status.idle": "2022-08-15T00:45:09.648990Z",
     "shell.execute_reply": "2022-08-15T00:45:09.649505Z"
    },
    "papermill": {
     "duration": 0.040195,
     "end_time": "2022-08-15T00:45:09.649656",
     "exception": false,
     "start_time": "2022-08-15T00:45:09.609461",
     "status": "completed"
    },
    "tags": []
   },
   "outputs": [],
   "source": [
    "#hide\n",
    "def get_dates(df):\n",
    "    dt_cols = df.columns[~df.columns.isin(['Province/State', 'Country/Region', 'Lat', 'Long'])]\n",
    "    LAST_DATE_I = -1\n",
    "    # sometimes last column may be empty, then go backwards\n",
    "    for i in range(-1, -len(dt_cols), -1):\n",
    "        if not df[dt_cols[i]].fillna(0).eq(0).all():\n",
    "            LAST_DATE_I = i\n",
    "            break\n",
    "    return LAST_DATE_I, dt_cols"
   ]
  },
  {
   "cell_type": "code",
   "execution_count": 9,
   "id": "recent-optimization",
   "metadata": {
    "execution": {
     "iopub.execute_input": "2022-08-15T00:45:09.714644Z",
     "iopub.status.busy": "2022-08-15T00:45:09.714023Z",
     "iopub.status.idle": "2022-08-15T00:45:10.079940Z",
     "shell.execute_reply": "2022-08-15T00:45:10.078912Z"
    },
    "papermill": {
     "duration": 0.400792,
     "end_time": "2022-08-15T00:45:10.080084",
     "exception": false,
     "start_time": "2022-08-15T00:45:09.679292",
     "status": "completed"
    },
    "tags": []
   },
   "outputs": [],
   "source": [
    "#hide\n",
    "COL_REGION = 'Country/Region'\n",
    "# Confirmed, Recovered, Deaths\n",
    "df = get_frame('confirmed')\n",
    "# dft_: timeseries, dfc_: today country agg\n",
    "dft_cases = df\n",
    "dft_deaths = get_frame('deaths')\n",
    "dft_recovered = get_frame('recovered')\n",
    "LAST_DATE_I, dt_cols = get_dates(df)"
   ]
  },
  {
   "cell_type": "code",
   "execution_count": 10,
   "id": "absolute-copper",
   "metadata": {
    "execution": {
     "iopub.execute_input": "2022-08-15T00:45:10.145517Z",
     "iopub.status.busy": "2022-08-15T00:45:10.144826Z",
     "iopub.status.idle": "2022-08-15T00:45:10.146561Z",
     "shell.execute_reply": "2022-08-15T00:45:10.147097Z"
    },
    "papermill": {
     "duration": 0.037247,
     "end_time": "2022-08-15T00:45:10.147245",
     "exception": false,
     "start_time": "2022-08-15T00:45:10.109998",
     "status": "completed"
    },
    "tags": []
   },
   "outputs": [],
   "source": [
    "#hide\n",
    "LAST_DATE_I, dt_cols = get_dates(df)\n",
    "dt_today =dt_cols[LAST_DATE_I]\n",
    "# dt_5day = dt_cols[LAST_DATE_I - 5]\n",
    "dt_yday = dt_cols[LAST_DATE_I - 1]"
   ]
  },
  {
   "cell_type": "code",
   "execution_count": 11,
   "id": "restricted-sheriff",
   "metadata": {
    "execution": {
     "iopub.execute_input": "2022-08-15T00:45:10.214976Z",
     "iopub.status.busy": "2022-08-15T00:45:10.214351Z",
     "iopub.status.idle": "2022-08-15T00:45:10.220977Z",
     "shell.execute_reply": "2022-08-15T00:45:10.220488Z"
    },
    "papermill": {
     "duration": 0.043674,
     "end_time": "2022-08-15T00:45:10.221097",
     "exception": false,
     "start_time": "2022-08-15T00:45:10.177423",
     "status": "completed"
    },
    "tags": []
   },
   "outputs": [],
   "source": [
    "#hide\n",
    "dfc_cases = dft_cases.groupby(COL_REGION)[dt_today].sum()\n",
    "dfc_deaths = dft_deaths.groupby(COL_REGION)[dt_today].sum()\n",
    "# dfp_cases = dft_cases.groupby(COL_REGION)[dt_5day].sum()\n",
    "# dfp_deaths = dft_deaths.groupby(COL_REGION)[dt_5day].sum()\n",
    "dfp_cases = dft_cases.groupby(COL_REGION)[dt_yday].sum()\n",
    "dfp_deaths = dft_deaths.groupby(COL_REGION)[dt_yday].sum()"
   ]
  },
  {
   "cell_type": "code",
   "execution_count": 12,
   "id": "deluxe-hepatitis",
   "metadata": {
    "execution": {
     "iopub.execute_input": "2022-08-15T00:45:10.287654Z",
     "iopub.status.busy": "2022-08-15T00:45:10.287005Z",
     "iopub.status.idle": "2022-08-15T00:45:10.291908Z",
     "shell.execute_reply": "2022-08-15T00:45:10.292492Z"
    },
    "papermill": {
     "duration": 0.041702,
     "end_time": "2022-08-15T00:45:10.292635",
     "exception": false,
     "start_time": "2022-08-15T00:45:10.250933",
     "status": "completed"
    },
    "tags": []
   },
   "outputs": [],
   "source": [
    "#hide\n",
    "df_table = (pd.DataFrame(dict(Cases = dfc_cases, Deaths = dfc_deaths, PCases = dfp_cases, PDeaths = dfp_deaths))\n",
    "            .sort_values(by = ['Cases','Deaths'], ascending = [False, False])\n",
    "            .reset_index())"
   ]
  },
  {
   "cell_type": "code",
   "execution_count": 13,
   "id": "educational-chancellor",
   "metadata": {
    "execution": {
     "iopub.execute_input": "2022-08-15T00:45:10.371089Z",
     "iopub.status.busy": "2022-08-15T00:45:10.370458Z",
     "iopub.status.idle": "2022-08-15T00:45:10.378683Z",
     "shell.execute_reply": "2022-08-15T00:45:10.378205Z"
    },
    "papermill": {
     "duration": 0.056403,
     "end_time": "2022-08-15T00:45:10.378798",
     "exception": false,
     "start_time": "2022-08-15T00:45:10.322395",
     "status": "completed"
    },
    "tags": []
   },
   "outputs": [
    {
     "data": {
      "text/html": [
       "<div>\n",
       "<style scoped>\n",
       "    .dataframe tbody tr th:only-of-type {\n",
       "        vertical-align: middle;\n",
       "    }\n",
       "\n",
       "    .dataframe tbody tr th {\n",
       "        vertical-align: top;\n",
       "    }\n",
       "\n",
       "    .dataframe thead th {\n",
       "        text-align: right;\n",
       "    }\n",
       "</style>\n",
       "<table border=\"1\" class=\"dataframe\">\n",
       "  <thead>\n",
       "    <tr style=\"text-align: right;\">\n",
       "      <th></th>\n",
       "      <th>Country/Region</th>\n",
       "      <th>Cases</th>\n",
       "      <th>Deaths</th>\n",
       "      <th>PCases</th>\n",
       "      <th>PDeaths</th>\n",
       "      <th>Cases (+)</th>\n",
       "      <th>Deaths (+)</th>\n",
       "      <th>Fatality Rate</th>\n",
       "      <th>Continent</th>\n",
       "    </tr>\n",
       "  </thead>\n",
       "  <tbody>\n",
       "    <tr>\n",
       "      <th>0</th>\n",
       "      <td>US</td>\n",
       "      <td>92919750</td>\n",
       "      <td>1037017</td>\n",
       "      <td>92838677</td>\n",
       "      <td>1036990</td>\n",
       "      <td>81073</td>\n",
       "      <td>27</td>\n",
       "      <td>1.12</td>\n",
       "      <td>North America</td>\n",
       "    </tr>\n",
       "    <tr>\n",
       "      <th>1</th>\n",
       "      <td>India</td>\n",
       "      <td>44253464</td>\n",
       "      <td>527037</td>\n",
       "      <td>44239372</td>\n",
       "      <td>526996</td>\n",
       "      <td>14092</td>\n",
       "      <td>41</td>\n",
       "      <td>1.19</td>\n",
       "      <td>Asia</td>\n",
       "    </tr>\n",
       "    <tr>\n",
       "      <th>2</th>\n",
       "      <td>France</td>\n",
       "      <td>34406092</td>\n",
       "      <td>154104</td>\n",
       "      <td>34406092</td>\n",
       "      <td>154104</td>\n",
       "      <td>0</td>\n",
       "      <td>0</td>\n",
       "      <td>0.45</td>\n",
       "      <td>Europe</td>\n",
       "    </tr>\n",
       "    <tr>\n",
       "      <th>3</th>\n",
       "      <td>Brazil</td>\n",
       "      <td>34148131</td>\n",
       "      <td>681253</td>\n",
       "      <td>34148131</td>\n",
       "      <td>681253</td>\n",
       "      <td>0</td>\n",
       "      <td>0</td>\n",
       "      <td>1.99</td>\n",
       "      <td>South America</td>\n",
       "    </tr>\n",
       "    <tr>\n",
       "      <th>4</th>\n",
       "      <td>Germany</td>\n",
       "      <td>31535343</td>\n",
       "      <td>145698</td>\n",
       "      <td>31535343</td>\n",
       "      <td>145698</td>\n",
       "      <td>0</td>\n",
       "      <td>0</td>\n",
       "      <td>0.46</td>\n",
       "      <td>Europe</td>\n",
       "    </tr>\n",
       "  </tbody>\n",
       "</table>\n",
       "</div>"
      ],
      "text/plain": [
       "  Country/Region     Cases   Deaths    PCases  PDeaths  Cases (+)  Deaths (+)  \\\n",
       "0             US  92919750  1037017  92838677  1036990      81073          27   \n",
       "1          India  44253464   527037  44239372   526996      14092          41   \n",
       "2         France  34406092   154104  34406092   154104          0           0   \n",
       "3         Brazil  34148131   681253  34148131   681253          0           0   \n",
       "4        Germany  31535343   145698  31535343   145698          0           0   \n",
       "\n",
       "   Fatality Rate      Continent  \n",
       "0           1.12  North America  \n",
       "1           1.19           Asia  \n",
       "2           0.45         Europe  \n",
       "3           1.99  South America  \n",
       "4           0.46         Europe  "
      ]
     },
     "execution_count": 13,
     "metadata": {},
     "output_type": "execute_result"
    }
   ],
   "source": [
    "#hide\n",
    "for c in 'Cases, Deaths'.split(', '):\n",
    "    df_table[f'{c} (+)'] = (df_table[c] - df_table[f'P{c}']).clip(0)\n",
    "    #Clip ça veut dire, les chiffres negatif sont interdit\n",
    "df_table['Fatality Rate'] = (100* df_table['Deaths']/ df_table['Cases']).round(2)\n",
    "df_table['Continent'] = df_table['Country/Region'].map(mapping['map.continent'])\n",
    "df_table.head(5)"
   ]
  },
  {
   "cell_type": "code",
   "execution_count": 14,
   "id": "aboriginal-bulgaria",
   "metadata": {
    "execution": {
     "iopub.execute_input": "2022-08-15T00:45:10.445681Z",
     "iopub.status.busy": "2022-08-15T00:45:10.445090Z",
     "iopub.status.idle": "2022-08-15T00:45:10.448117Z",
     "shell.execute_reply": "2022-08-15T00:45:10.447630Z"
    },
    "papermill": {
     "duration": 0.03916,
     "end_time": "2022-08-15T00:45:10.448230",
     "exception": false,
     "start_time": "2022-08-15T00:45:10.409070",
     "status": "completed"
    },
    "tags": []
   },
   "outputs": [],
   "source": [
    "#hide\n",
    "#delete problematic countries from table\n",
    "df_table = df_table[~df_table['Country/Region'].isin(['Cape Verde', 'Cruise Ship', 'Kosovo'])]"
   ]
  },
  {
   "cell_type": "code",
   "execution_count": 15,
   "id": "fantastic-effect",
   "metadata": {
    "execution": {
     "iopub.execute_input": "2022-08-15T00:45:10.517170Z",
     "iopub.status.busy": "2022-08-15T00:45:10.516578Z",
     "iopub.status.idle": "2022-08-15T00:45:10.535142Z",
     "shell.execute_reply": "2022-08-15T00:45:10.534593Z"
    },
    "papermill": {
     "duration": 0.056955,
     "end_time": "2022-08-15T00:45:10.535274",
     "exception": false,
     "start_time": "2022-08-15T00:45:10.478319",
     "status": "completed"
    },
    "tags": []
   },
   "outputs": [
    {
     "data": {
      "text/html": [
       "<div>\n",
       "<style scoped>\n",
       "    .dataframe tbody tr th:only-of-type {\n",
       "        vertical-align: middle;\n",
       "    }\n",
       "\n",
       "    .dataframe tbody tr th {\n",
       "        vertical-align: top;\n",
       "    }\n",
       "\n",
       "    .dataframe thead th {\n",
       "        text-align: right;\n",
       "    }\n",
       "</style>\n",
       "<table border=\"1\" class=\"dataframe\">\n",
       "  <thead>\n",
       "    <tr style=\"text-align: right;\">\n",
       "      <th></th>\n",
       "      <th>Country/Region</th>\n",
       "      <th>Cases</th>\n",
       "      <th>Deaths</th>\n",
       "      <th>PCases</th>\n",
       "      <th>PDeaths</th>\n",
       "      <th>Cases (+)</th>\n",
       "      <th>Deaths (+)</th>\n",
       "      <th>Fatality Rate</th>\n",
       "      <th>Continent</th>\n",
       "    </tr>\n",
       "  </thead>\n",
       "  <tbody>\n",
       "    <tr>\n",
       "      <th>0</th>\n",
       "      <td>US</td>\n",
       "      <td>92919750</td>\n",
       "      <td>1037017</td>\n",
       "      <td>92838677</td>\n",
       "      <td>1036990</td>\n",
       "      <td>81073</td>\n",
       "      <td>27</td>\n",
       "      <td>1.1</td>\n",
       "      <td>North America</td>\n",
       "    </tr>\n",
       "    <tr>\n",
       "      <th>1</th>\n",
       "      <td>India</td>\n",
       "      <td>44253464</td>\n",
       "      <td>527037</td>\n",
       "      <td>44239372</td>\n",
       "      <td>526996</td>\n",
       "      <td>14092</td>\n",
       "      <td>41</td>\n",
       "      <td>1.2</td>\n",
       "      <td>Asia</td>\n",
       "    </tr>\n",
       "    <tr>\n",
       "      <th>2</th>\n",
       "      <td>France</td>\n",
       "      <td>34406092</td>\n",
       "      <td>154104</td>\n",
       "      <td>34406092</td>\n",
       "      <td>154104</td>\n",
       "      <td>0</td>\n",
       "      <td>0</td>\n",
       "      <td>0.4</td>\n",
       "      <td>Europe</td>\n",
       "    </tr>\n",
       "    <tr>\n",
       "      <th>3</th>\n",
       "      <td>Brazil</td>\n",
       "      <td>34148131</td>\n",
       "      <td>681253</td>\n",
       "      <td>34148131</td>\n",
       "      <td>681253</td>\n",
       "      <td>0</td>\n",
       "      <td>0</td>\n",
       "      <td>2.0</td>\n",
       "      <td>South America</td>\n",
       "    </tr>\n",
       "    <tr>\n",
       "      <th>4</th>\n",
       "      <td>Germany</td>\n",
       "      <td>31535343</td>\n",
       "      <td>145698</td>\n",
       "      <td>31535343</td>\n",
       "      <td>145698</td>\n",
       "      <td>0</td>\n",
       "      <td>0</td>\n",
       "      <td>0.5</td>\n",
       "      <td>Europe</td>\n",
       "    </tr>\n",
       "  </tbody>\n",
       "</table>\n",
       "</div>"
      ],
      "text/plain": [
       "  Country/Region     Cases   Deaths    PCases  PDeaths  Cases (+)  Deaths (+)  \\\n",
       "0             US  92919750  1037017  92838677  1036990      81073          27   \n",
       "1          India  44253464   527037  44239372   526996      14092          41   \n",
       "2         France  34406092   154104  34406092   154104          0           0   \n",
       "3         Brazil  34148131   681253  34148131   681253          0           0   \n",
       "4        Germany  31535343   145698  31535343   145698          0           0   \n",
       "\n",
       "   Fatality Rate      Continent  \n",
       "0            1.1  North America  \n",
       "1            1.2           Asia  \n",
       "2            0.4         Europe  \n",
       "3            2.0  South America  \n",
       "4            0.5         Europe  "
      ]
     },
     "execution_count": 15,
     "metadata": {},
     "output_type": "execute_result"
    }
   ],
   "source": [
    "#hide\n",
    "df_table = (pd.DataFrame(dict(Cases=dfc_cases, Deaths=dfc_deaths, PCases=dfp_cases, PDeaths=dfp_deaths))\n",
    "             .sort_values(by=['Cases', 'Deaths'], ascending=[False, False])\n",
    "             .reset_index())\n",
    "df_table.rename(columns={'index': 'Country/Region'}, inplace=True)\n",
    "for c in 'Cases, Deaths'.split(', '):\n",
    "    df_table[f'{c} (+)'] = (df_table[c] - df_table[f'P{c}']).clip(0)  # DATA BUG\n",
    "df_table['Fatality Rate'] = (100 * df_table['Deaths'] / df_table['Cases']).round(1)\n",
    "df_table['Continent'] = df_table['Country/Region'].map(mapping['map.continent'])\n",
    "df_table.head(5)"
   ]
  },
  {
   "cell_type": "code",
   "execution_count": 16,
   "id": "fewer-occasion",
   "metadata": {
    "execution": {
     "iopub.execute_input": "2022-08-15T00:45:10.603568Z",
     "iopub.status.busy": "2022-08-15T00:45:10.602947Z",
     "iopub.status.idle": "2022-08-15T00:45:10.605325Z",
     "shell.execute_reply": "2022-08-15T00:45:10.605802Z"
    },
    "papermill": {
     "duration": 0.039095,
     "end_time": "2022-08-15T00:45:10.605938",
     "exception": false,
     "start_time": "2022-08-15T00:45:10.566843",
     "status": "completed"
    },
    "tags": []
   },
   "outputs": [],
   "source": [
    "#hide\n",
    "#delete problematic countries from table\n",
    "df_table = df_table[~df_table['Country/Region'].isin(['Cape Verde', 'Cruise Ship', 'Kosovo'])]"
   ]
  },
  {
   "cell_type": "code",
   "execution_count": 17,
   "id": "related-center",
   "metadata": {
    "execution": {
     "iopub.execute_input": "2022-08-15T00:45:10.680367Z",
     "iopub.status.busy": "2022-08-15T00:45:10.679736Z",
     "iopub.status.idle": "2022-08-15T00:45:10.687760Z",
     "shell.execute_reply": "2022-08-15T00:45:10.688229Z"
    },
    "papermill": {
     "duration": 0.051862,
     "end_time": "2022-08-15T00:45:10.688370",
     "exception": false,
     "start_time": "2022-08-15T00:45:10.636508",
     "status": "completed"
    },
    "tags": []
   },
   "outputs": [],
   "source": [
    "#hide\n",
    "metrics = [df_table.columns[index] for index in [1,2,5,6]]\n",
    "# s_china = df_table[df_table['Country/Region'].eq('China')][metrics].sum().add_prefix('China ')\n",
    "s_us = df_table[df_table['Country/Region'].eq('US')][metrics].sum().add_prefix('US ')\n",
    "s_eu = df_table[df_table['Continent'].eq('Europe')][metrics].sum().add_prefix('EU ')\n",
    "s_ind = df_table[df_table['Country/Region'].eq('India')][metrics].sum().add_prefix('India ')\n",
    "summary = {'updated': pd.to_datetime(dt_today), 'since': pd.to_datetime(dt_yday)}\n",
    "summary = {'updated': pd.to_datetime(dt_today), 'since': pd.to_datetime(dt_yday)}\n",
    "summary = {**summary, **df_table[metrics].sum(), **s_ind, **s_us, **s_eu}"
   ]
  },
  {
   "cell_type": "code",
   "execution_count": 18,
   "id": "engaging-syndrome",
   "metadata": {
    "execution": {
     "iopub.execute_input": "2022-08-15T00:45:10.755858Z",
     "iopub.status.busy": "2022-08-15T00:45:10.755202Z",
     "iopub.status.idle": "2022-08-15T00:45:10.776661Z",
     "shell.execute_reply": "2022-08-15T00:45:10.776042Z"
    },
    "papermill": {
     "duration": 0.057593,
     "end_time": "2022-08-15T00:45:10.776794",
     "exception": false,
     "start_time": "2022-08-15T00:45:10.719201",
     "status": "completed"
    },
    "tags": []
   },
   "outputs": [],
   "source": [
    "#hide\n",
    "dft_ct_new_cases = dft_cases.groupby(COL_REGION)[dt_cols].sum().diff(axis=1).fillna(0).astype(int)"
   ]
  },
  {
   "cell_type": "code",
   "execution_count": 19,
   "id": "neutral-assignment",
   "metadata": {
    "execution": {
     "iopub.execute_input": "2022-08-15T00:45:10.846093Z",
     "iopub.status.busy": "2022-08-15T00:45:10.845446Z",
     "iopub.status.idle": "2022-08-15T00:45:10.847947Z",
     "shell.execute_reply": "2022-08-15T00:45:10.847343Z"
    },
    "papermill": {
     "duration": 0.039764,
     "end_time": "2022-08-15T00:45:10.848064",
     "exception": false,
     "start_time": "2022-08-15T00:45:10.808300",
     "status": "completed"
    },
    "tags": []
   },
   "outputs": [],
   "source": [
    "#hide\n",
    "everydaycases = dft_ct_new_cases.cumsum(axis=1)"
   ]
  },
  {
   "cell_type": "code",
   "execution_count": 20,
   "id": "parliamentary-calgary",
   "metadata": {
    "execution": {
     "iopub.execute_input": "2022-08-15T00:45:10.917408Z",
     "iopub.status.busy": "2022-08-15T00:45:10.916795Z",
     "iopub.status.idle": "2022-08-15T00:45:11.462223Z",
     "shell.execute_reply": "2022-08-15T00:45:11.462754Z"
    },
    "papermill": {
     "duration": 0.583941,
     "end_time": "2022-08-15T00:45:11.462919",
     "exception": false,
     "start_time": "2022-08-15T00:45:10.878978",
     "status": "completed"
    },
    "tags": []
   },
   "outputs": [],
   "source": [
    "#hide\n",
    "import pandas as pd\n",
    "import matplotlib.pyplot as plt\n",
    "import matplotlib.ticker as ticker\n",
    "import matplotlib.animation as animation\n",
    "from IPython.display import HTML"
   ]
  },
  {
   "cell_type": "code",
   "execution_count": 21,
   "id": "lasting-extraction",
   "metadata": {
    "execution": {
     "iopub.execute_input": "2022-08-15T00:45:11.531913Z",
     "iopub.status.busy": "2022-08-15T00:45:11.531271Z",
     "iopub.status.idle": "2022-08-15T00:45:11.538378Z",
     "shell.execute_reply": "2022-08-15T00:45:11.537901Z"
    },
    "papermill": {
     "duration": 0.04424,
     "end_time": "2022-08-15T00:45:11.538492",
     "exception": false,
     "start_time": "2022-08-15T00:45:11.494252",
     "status": "completed"
    },
    "tags": []
   },
   "outputs": [],
   "source": [
    "#hide\n",
    "t = everydaycases.stack()"
   ]
  },
  {
   "cell_type": "code",
   "execution_count": 22,
   "id": "premier-sleeve",
   "metadata": {
    "execution": {
     "iopub.execute_input": "2022-08-15T00:45:11.604826Z",
     "iopub.status.busy": "2022-08-15T00:45:11.604241Z",
     "iopub.status.idle": "2022-08-15T00:45:11.616181Z",
     "shell.execute_reply": "2022-08-15T00:45:11.616665Z"
    },
    "papermill": {
     "duration": 0.047404,
     "end_time": "2022-08-15T00:45:11.616804",
     "exception": false,
     "start_time": "2022-08-15T00:45:11.569400",
     "status": "completed"
    },
    "tags": []
   },
   "outputs": [],
   "source": [
    "#hide\n",
    "g = t.reset_index(['Country/Region'])"
   ]
  },
  {
   "cell_type": "code",
   "execution_count": 23,
   "id": "distributed-pittsburgh",
   "metadata": {
    "execution": {
     "iopub.execute_input": "2022-08-15T00:45:11.682451Z",
     "iopub.status.busy": "2022-08-15T00:45:11.681855Z",
     "iopub.status.idle": "2022-08-15T00:45:11.684824Z",
     "shell.execute_reply": "2022-08-15T00:45:11.684250Z"
    },
    "papermill": {
     "duration": 0.037485,
     "end_time": "2022-08-15T00:45:11.684939",
     "exception": false,
     "start_time": "2022-08-15T00:45:11.647454",
     "status": "completed"
    },
    "tags": []
   },
   "outputs": [],
   "source": [
    "#hide\n",
    "g.index.name = 'date'"
   ]
  },
  {
   "cell_type": "code",
   "execution_count": 24,
   "id": "naked-donor",
   "metadata": {
    "execution": {
     "iopub.execute_input": "2022-08-15T00:45:11.750698Z",
     "iopub.status.busy": "2022-08-15T00:45:11.749990Z",
     "iopub.status.idle": "2022-08-15T00:45:11.752430Z",
     "shell.execute_reply": "2022-08-15T00:45:11.751853Z"
    },
    "papermill": {
     "duration": 0.03677,
     "end_time": "2022-08-15T00:45:11.752545",
     "exception": false,
     "start_time": "2022-08-15T00:45:11.715775",
     "status": "completed"
    },
    "tags": []
   },
   "outputs": [],
   "source": [
    "# #hide\n",
    "# g = g.reset_index(['date'])"
   ]
  },
  {
   "cell_type": "code",
   "execution_count": 25,
   "id": "incomplete-mustang",
   "metadata": {
    "execution": {
     "iopub.execute_input": "2022-08-15T00:45:11.818128Z",
     "iopub.status.busy": "2022-08-15T00:45:11.817420Z",
     "iopub.status.idle": "2022-08-15T00:45:11.819186Z",
     "shell.execute_reply": "2022-08-15T00:45:11.819750Z"
    },
    "papermill": {
     "duration": 0.036729,
     "end_time": "2022-08-15T00:45:11.819903",
     "exception": false,
     "start_time": "2022-08-15T00:45:11.783174",
     "status": "completed"
    },
    "tags": []
   },
   "outputs": [],
   "source": [
    "#hide\n",
    "# g.head()"
   ]
  },
  {
   "cell_type": "code",
   "execution_count": 26,
   "id": "specific-kruger",
   "metadata": {
    "execution": {
     "iopub.execute_input": "2022-08-15T00:45:11.888202Z",
     "iopub.status.busy": "2022-08-15T00:45:11.887449Z",
     "iopub.status.idle": "2022-08-15T00:45:11.889202Z",
     "shell.execute_reply": "2022-08-15T00:45:11.889738Z"
    },
    "papermill": {
     "duration": 0.039008,
     "end_time": "2022-08-15T00:45:11.889885",
     "exception": false,
     "start_time": "2022-08-15T00:45:11.850877",
     "status": "completed"
    },
    "tags": []
   },
   "outputs": [],
   "source": [
    "#hide\n",
    "# g.columns = ['date','country','cases']"
   ]
  },
  {
   "cell_type": "code",
   "execution_count": 27,
   "id": "tender-conversion",
   "metadata": {
    "execution": {
     "iopub.execute_input": "2022-08-15T00:45:11.956090Z",
     "iopub.status.busy": "2022-08-15T00:45:11.955415Z",
     "iopub.status.idle": "2022-08-15T00:45:11.957474Z",
     "shell.execute_reply": "2022-08-15T00:45:11.957889Z"
    },
    "papermill": {
     "duration": 0.037168,
     "end_time": "2022-08-15T00:45:11.958021",
     "exception": false,
     "start_time": "2022-08-15T00:45:11.920853",
     "status": "completed"
    },
    "tags": []
   },
   "outputs": [],
   "source": [
    "#hide\n",
    "# g['continent'] = g.country"
   ]
  },
  {
   "cell_type": "code",
   "execution_count": 28,
   "id": "substantial-wilderness",
   "metadata": {
    "execution": {
     "iopub.execute_input": "2022-08-15T00:45:12.023566Z",
     "iopub.status.busy": "2022-08-15T00:45:12.022838Z",
     "iopub.status.idle": "2022-08-15T00:45:12.025407Z",
     "shell.execute_reply": "2022-08-15T00:45:12.024866Z"
    },
    "papermill": {
     "duration": 0.036948,
     "end_time": "2022-08-15T00:45:12.025535",
     "exception": false,
     "start_time": "2022-08-15T00:45:11.988587",
     "status": "completed"
    },
    "tags": []
   },
   "outputs": [],
   "source": [
    "#hide\n",
    "# cols = list(g.columns.values)"
   ]
  },
  {
   "cell_type": "code",
   "execution_count": 29,
   "id": "solved-farming",
   "metadata": {
    "execution": {
     "iopub.execute_input": "2022-08-15T00:45:12.090995Z",
     "iopub.status.busy": "2022-08-15T00:45:12.090288Z",
     "iopub.status.idle": "2022-08-15T00:45:12.092094Z",
     "shell.execute_reply": "2022-08-15T00:45:12.092638Z"
    },
    "papermill": {
     "duration": 0.036703,
     "end_time": "2022-08-15T00:45:12.092785",
     "exception": false,
     "start_time": "2022-08-15T00:45:12.056082",
     "status": "completed"
    },
    "tags": []
   },
   "outputs": [],
   "source": [
    "#hide\n",
    "# cols.insert(0, cols.pop())"
   ]
  },
  {
   "cell_type": "code",
   "execution_count": 30,
   "id": "executed-adoption",
   "metadata": {
    "execution": {
     "iopub.execute_input": "2022-08-15T00:45:12.158960Z",
     "iopub.status.busy": "2022-08-15T00:45:12.158330Z",
     "iopub.status.idle": "2022-08-15T00:45:12.160435Z",
     "shell.execute_reply": "2022-08-15T00:45:12.160859Z"
    },
    "papermill": {
     "duration": 0.036995,
     "end_time": "2022-08-15T00:45:12.160999",
     "exception": false,
     "start_time": "2022-08-15T00:45:12.124004",
     "status": "completed"
    },
    "tags": []
   },
   "outputs": [],
   "source": [
    "#hide\n",
    "# g = g[cols]"
   ]
  },
  {
   "cell_type": "code",
   "execution_count": 31,
   "id": "subject-dublin",
   "metadata": {
    "execution": {
     "iopub.execute_input": "2022-08-15T00:45:12.227028Z",
     "iopub.status.busy": "2022-08-15T00:45:12.226276Z",
     "iopub.status.idle": "2022-08-15T00:45:12.228195Z",
     "shell.execute_reply": "2022-08-15T00:45:12.228709Z"
    },
    "papermill": {
     "duration": 0.037255,
     "end_time": "2022-08-15T00:45:12.228863",
     "exception": false,
     "start_time": "2022-08-15T00:45:12.191608",
     "status": "completed"
    },
    "tags": []
   },
   "outputs": [],
   "source": [
    "#hide\n",
    "# g['continent'] = g['continent'].map(mapping['map.continent'])"
   ]
  },
  {
   "cell_type": "code",
   "execution_count": 32,
   "id": "freelance-scout",
   "metadata": {
    "execution": {
     "iopub.execute_input": "2022-08-15T00:45:12.294642Z",
     "iopub.status.busy": "2022-08-15T00:45:12.294040Z",
     "iopub.status.idle": "2022-08-15T00:45:12.296640Z",
     "shell.execute_reply": "2022-08-15T00:45:12.297073Z"
    },
    "papermill": {
     "duration": 0.037426,
     "end_time": "2022-08-15T00:45:12.297211",
     "exception": false,
     "start_time": "2022-08-15T00:45:12.259785",
     "status": "completed"
    },
    "tags": []
   },
   "outputs": [],
   "source": [
    "#hide\n",
    "# g.head()"
   ]
  },
  {
   "cell_type": "code",
   "execution_count": 33,
   "id": "limited-engine",
   "metadata": {
    "execution": {
     "iopub.execute_input": "2022-08-15T00:45:12.363105Z",
     "iopub.status.busy": "2022-08-15T00:45:12.362467Z",
     "iopub.status.idle": "2022-08-15T00:45:12.366424Z",
     "shell.execute_reply": "2022-08-15T00:45:12.365941Z"
    },
    "papermill": {
     "duration": 0.038707,
     "end_time": "2022-08-15T00:45:12.366537",
     "exception": false,
     "start_time": "2022-08-15T00:45:12.327830",
     "status": "completed"
    },
    "tags": []
   },
   "outputs": [],
   "source": [
    "# hide\n",
    "# g['date'] = g['date'].astype('datetime64[ns]')"
   ]
  },
  {
   "cell_type": "code",
   "execution_count": 34,
   "id": "sophisticated-supervisor",
   "metadata": {
    "execution": {
     "iopub.execute_input": "2022-08-15T00:45:12.432300Z",
     "iopub.status.busy": "2022-08-15T00:45:12.431555Z",
     "iopub.status.idle": "2022-08-15T00:45:12.433327Z",
     "shell.execute_reply": "2022-08-15T00:45:12.433865Z"
    },
    "papermill": {
     "duration": 0.036718,
     "end_time": "2022-08-15T00:45:12.434012",
     "exception": false,
     "start_time": "2022-08-15T00:45:12.397294",
     "status": "completed"
    },
    "tags": []
   },
   "outputs": [],
   "source": [
    "#hide\n",
    "# g['date'] = g.date.dt.dayofyear"
   ]
  },
  {
   "cell_type": "code",
   "execution_count": 35,
   "id": "inside-dubai",
   "metadata": {
    "execution": {
     "iopub.execute_input": "2022-08-15T00:45:12.499644Z",
     "iopub.status.busy": "2022-08-15T00:45:12.498911Z",
     "iopub.status.idle": "2022-08-15T00:45:12.501541Z",
     "shell.execute_reply": "2022-08-15T00:45:12.501006Z"
    },
    "papermill": {
     "duration": 0.037015,
     "end_time": "2022-08-15T00:45:12.501666",
     "exception": false,
     "start_time": "2022-08-15T00:45:12.464651",
     "status": "completed"
    },
    "tags": []
   },
   "outputs": [],
   "source": [
    "#hide\n",
    "# g = g.rename(columns= {'continent':'group','country':'name','cases':'value'})"
   ]
  },
  {
   "cell_type": "code",
   "execution_count": 36,
   "id": "fleet-motorcycle",
   "metadata": {
    "execution": {
     "iopub.execute_input": "2022-08-15T00:45:12.567702Z",
     "iopub.status.busy": "2022-08-15T00:45:12.567051Z",
     "iopub.status.idle": "2022-08-15T00:45:12.569489Z",
     "shell.execute_reply": "2022-08-15T00:45:12.569014Z"
    },
    "papermill": {
     "duration": 0.036725,
     "end_time": "2022-08-15T00:45:12.569601",
     "exception": false,
     "start_time": "2022-08-15T00:45:12.532876",
     "status": "completed"
    },
    "tags": []
   },
   "outputs": [],
   "source": [
    "#hide\n",
    "# cols = ['name','group','day','value']"
   ]
  },
  {
   "cell_type": "code",
   "execution_count": 37,
   "id": "continued-sleeping",
   "metadata": {
    "execution": {
     "iopub.execute_input": "2022-08-15T00:45:12.636338Z",
     "iopub.status.busy": "2022-08-15T00:45:12.635619Z",
     "iopub.status.idle": "2022-08-15T00:45:12.637376Z",
     "shell.execute_reply": "2022-08-15T00:45:12.637910Z"
    },
    "papermill": {
     "duration": 0.03685,
     "end_time": "2022-08-15T00:45:12.638053",
     "exception": false,
     "start_time": "2022-08-15T00:45:12.601203",
     "status": "completed"
    },
    "tags": []
   },
   "outputs": [],
   "source": [
    "#hide\n",
    "# g.rename(columns= {'date':'day'},inplace = True)"
   ]
  },
  {
   "cell_type": "code",
   "execution_count": 38,
   "id": "major-fight",
   "metadata": {
    "execution": {
     "iopub.execute_input": "2022-08-15T00:45:12.703726Z",
     "iopub.status.busy": "2022-08-15T00:45:12.702985Z",
     "iopub.status.idle": "2022-08-15T00:45:12.706913Z",
     "shell.execute_reply": "2022-08-15T00:45:12.706250Z"
    },
    "papermill": {
     "duration": 0.038195,
     "end_time": "2022-08-15T00:45:12.707044",
     "exception": false,
     "start_time": "2022-08-15T00:45:12.668849",
     "status": "completed"
    },
    "tags": []
   },
   "outputs": [],
   "source": [
    "#hide\n",
    "# g = g[cols]"
   ]
  },
  {
   "cell_type": "code",
   "execution_count": 39,
   "id": "structured-mobile",
   "metadata": {
    "execution": {
     "iopub.execute_input": "2022-08-15T00:45:12.772637Z",
     "iopub.status.busy": "2022-08-15T00:45:12.772032Z",
     "iopub.status.idle": "2022-08-15T00:45:12.774818Z",
     "shell.execute_reply": "2022-08-15T00:45:12.774238Z"
    },
    "papermill": {
     "duration": 0.036974,
     "end_time": "2022-08-15T00:45:12.774931",
     "exception": false,
     "start_time": "2022-08-15T00:45:12.737957",
     "status": "completed"
    },
    "tags": []
   },
   "outputs": [],
   "source": [
    "# #hide\n",
    "# g = g[g.group.notna()]"
   ]
  },
  {
   "cell_type": "code",
   "execution_count": 40,
   "id": "determined-closing",
   "metadata": {
    "execution": {
     "iopub.execute_input": "2022-08-15T00:45:12.841009Z",
     "iopub.status.busy": "2022-08-15T00:45:12.840277Z",
     "iopub.status.idle": "2022-08-15T00:45:12.842809Z",
     "shell.execute_reply": "2022-08-15T00:45:12.842223Z"
    },
    "papermill": {
     "duration": 0.037118,
     "end_time": "2022-08-15T00:45:12.842922",
     "exception": false,
     "start_time": "2022-08-15T00:45:12.805804",
     "status": "completed"
    },
    "tags": []
   },
   "outputs": [],
   "source": [
    "# #hide\n",
    "# colors = dict(zip(\n",
    "#     [\"Oceania\", \"Europe\", \"Asia\", \"South America\", \"Middle East\", \"North America\", \"Africa\"],\n",
    "#     [\"#adb0ff\", \"#ffb3ff\", \"#90d595\", \"#e48381\", \"#aafbff\", \"#f7bb5f\", \"#eafb50\"]\n",
    "# ))\n",
    "# group_lk = g.set_index('name')['group'].to_dict()"
   ]
  },
  {
   "cell_type": "code",
   "execution_count": null,
   "id": "gross-drinking",
   "metadata": {
    "papermill": {
     "duration": 0.030584,
     "end_time": "2022-08-15T00:45:12.904256",
     "exception": false,
     "start_time": "2022-08-15T00:45:12.873672",
     "status": "completed"
    },
    "tags": []
   },
   "outputs": [],
   "source": []
  },
  {
   "cell_type": "code",
   "execution_count": 41,
   "id": "subject-macintosh",
   "metadata": {
    "execution": {
     "iopub.execute_input": "2022-08-15T00:45:12.970738Z",
     "iopub.status.busy": "2022-08-15T00:45:12.970118Z",
     "iopub.status.idle": "2022-08-15T00:45:12.972586Z",
     "shell.execute_reply": "2022-08-15T00:45:12.973138Z"
    },
    "papermill": {
     "duration": 0.038248,
     "end_time": "2022-08-15T00:45:12.973270",
     "exception": false,
     "start_time": "2022-08-15T00:45:12.935022",
     "status": "completed"
    },
    "tags": []
   },
   "outputs": [],
   "source": [
    "# #hide\n",
    "# fig, ax = plt.subplots(figsize=(15, 8))\n",
    "\n",
    "# def draw_barchart(current_day):\n",
    "#     dff = g[g['day'].eq(current_day)].sort_values(by='value', ascending=True).tail(10)\n",
    "#     ax.clear()\n",
    "#     ax.barh(dff['name'], dff['value'], color=[colors[group_lk[x]] for x in dff['name']])\n",
    "#     dx = dff['value'].max() / 200\n",
    "    \n",
    "#     for i, (value, name) in enumerate(zip(dff['value'], dff['name'])):\n",
    "#         ax.text(value-dx, i,     name,           size=14, weight=600, ha='right', va='bottom')\n",
    "#         ax.text(value-dx, i-.25, group_lk[name], size=10, color='#444444', ha='right', va='baseline')\n",
    "#         ax.text(value+dx, i,     f'{value:,.0f}',  size=14, ha='left',  va='center')\n",
    "#     ax.text(1, 0.4, current_day, transform=ax.transAxes, color='#777777', size=46, ha='right', weight=800)\n",
    "#     ax.text(0, 1.06, 'Population (thousands)', transform=ax.transAxes, size=12, color='#777777')\n",
    "#     ax.xaxis.set_major_formatter(ticker.StrMethodFormatter('{x:,.0f}'))\n",
    "#     ax.xaxis.set_ticks_position('top')\n",
    "#     ax.tick_params(axis='x', colors='#777777', labelsize=12)\n",
    "#     ax.set_yticks([])\n",
    "#     ax.margins(0, 0.01)\n",
    "#     ax.grid(which='major', axis='x', linestyle='-')\n",
    "#     ax.set_axisbelow(True)\n",
    "    \n",
    "#     ax.text(0, 1.15, 'Coronavirus',\n",
    "#             transform=ax.transAxes, size=24, weight=600, ha='left', va='top')\n",
    "# #     ax.text(1, 0, 'by @pratapvardhan; credit @jburnmurdoch', transform=ax.transAxes, color='#777777', ha='right',\n",
    "# #             bbox=dict(facecolor='white', alpha=0.8, edgecolor='white'))\n",
    "#     plt.box(False)"
   ]
  },
  {
   "cell_type": "code",
   "execution_count": 42,
   "id": "sexual-wages",
   "metadata": {
    "execution": {
     "iopub.execute_input": "2022-08-15T00:45:13.038864Z",
     "iopub.status.busy": "2022-08-15T00:45:13.038148Z",
     "iopub.status.idle": "2022-08-15T00:45:13.039940Z",
     "shell.execute_reply": "2022-08-15T00:45:13.040483Z"
    },
    "papermill": {
     "duration": 0.036868,
     "end_time": "2022-08-15T00:45:13.040628",
     "exception": false,
     "start_time": "2022-08-15T00:45:13.003760",
     "status": "completed"
    },
    "tags": []
   },
   "outputs": [],
   "source": [
    "# #hide_input\n",
    "# fig, ax = plt.subplots(figsize=(15, 8))\n",
    "# animator = animation.FuncAnimation(fig, draw_barchart, frames=range(g.day.values.min(), g.day.values.max()))\n",
    "# HTML(animator.to_jshtml())\n",
    "# # or use animator.to_html5_video() or animator.save() "
   ]
  },
  {
   "cell_type": "code",
   "execution_count": null,
   "id": "australian-container",
   "metadata": {
    "papermill": {
     "duration": 0.030556,
     "end_time": "2022-08-15T00:45:13.102572",
     "exception": false,
     "start_time": "2022-08-15T00:45:13.072016",
     "status": "completed"
    },
    "tags": []
   },
   "outputs": [],
   "source": []
  },
  {
   "cell_type": "code",
   "execution_count": null,
   "id": "mediterranean-pontiac",
   "metadata": {
    "papermill": {
     "duration": 0.030568,
     "end_time": "2022-08-15T00:45:13.163800",
     "exception": false,
     "start_time": "2022-08-15T00:45:13.133232",
     "status": "completed"
    },
    "tags": []
   },
   "outputs": [],
   "source": []
  },
  {
   "cell_type": "code",
   "execution_count": null,
   "id": "aging-legislature",
   "metadata": {
    "papermill": {
     "duration": 0.030583,
     "end_time": "2022-08-15T00:45:13.225082",
     "exception": false,
     "start_time": "2022-08-15T00:45:13.194499",
     "status": "completed"
    },
    "tags": []
   },
   "outputs": [],
   "source": []
  }
 ],
 "metadata": {
  "kernelspec": {
   "display_name": "Python 3",
   "language": "python",
   "name": "python3"
  },
  "language_info": {
   "codemirror_mode": {
    "name": "ipython",
    "version": 3
   },
   "file_extension": ".py",
   "mimetype": "text/x-python",
   "name": "python",
   "nbconvert_exporter": "python",
   "pygments_lexer": "ipython3",
   "version": "3.6.15"
  },
  "papermill": {
   "duration": 6.030767,
   "end_time": "2022-08-15T00:45:13.674366",
   "environment_variables": {},
   "exception": null,
   "input_path": "2020-03-21-covid19exp.ipynb",
   "output_path": "2020-03-21-covid19exp.ipynb",
   "parameters": {},
   "start_time": "2022-08-15T00:45:07.643599",
   "version": "2.0.0"
  }
 },
 "nbformat": 4,
 "nbformat_minor": 5
}