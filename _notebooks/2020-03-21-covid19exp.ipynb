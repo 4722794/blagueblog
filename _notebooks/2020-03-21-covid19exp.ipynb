{
 "cells": [
  {
   "cell_type": "markdown",
   "metadata": {
    "papermill": {
     "duration": 0.035183,
     "end_time": "2020-12-26T12:08:12.348069",
     "exception": false,
     "start_time": "2020-12-26T12:08:12.312886",
     "status": "completed"
    },
    "tags": []
   },
   "source": [
    "# COVID-19 Case Race\n",
    "> A race chart to see rising cases around the world\n",
    "\n",
    "- author: Hargun Oberoi\n",
    "- image: images/covid-overview.png\n",
    "- hide: false\n",
    "- badges: false"
   ]
  },
  {
   "cell_type": "code",
   "execution_count": 1,
   "metadata": {
    "execution": {
     "iopub.execute_input": "2020-12-26T12:08:12.427750Z",
     "iopub.status.busy": "2020-12-26T12:08:12.427027Z",
     "iopub.status.idle": "2020-12-26T12:08:12.789476Z",
     "shell.execute_reply": "2020-12-26T12:08:12.790067Z"
    },
    "papermill": {
     "duration": 0.409178,
     "end_time": "2020-12-26T12:08:12.790278",
     "exception": false,
     "start_time": "2020-12-26T12:08:12.381100",
     "status": "completed"
    },
    "tags": []
   },
   "outputs": [],
   "source": [
    "#hide\n",
    "import numpy as np\n",
    "import pandas as pd\n",
    "from jinja2 import Template\n",
    "from IPython.display import HTML"
   ]
  },
  {
   "cell_type": "code",
   "execution_count": 2,
   "metadata": {
    "execution": {
     "iopub.execute_input": "2020-12-26T12:08:12.865579Z",
     "iopub.status.busy": "2020-12-26T12:08:12.864921Z",
     "iopub.status.idle": "2020-12-26T12:08:12.867060Z",
     "shell.execute_reply": "2020-12-26T12:08:12.867691Z"
    },
    "papermill": {
     "duration": 0.041927,
     "end_time": "2020-12-26T12:08:12.867848",
     "exception": false,
     "start_time": "2020-12-26T12:08:12.825921",
     "status": "completed"
    },
    "tags": []
   },
   "outputs": [],
   "source": [
    "#hide\n",
    "\n",
    "# FETCH\n",
    "base_url = 'https://raw.githubusercontent.com/pratapvardhan/notebooks/master/covid19/'\n",
    "paths = {\n",
    "    'mapping': base_url + 'mapping_countries.csv',\n",
    "    'overview': base_url + 'overview.tpl'\n",
    "}"
   ]
  },
  {
   "cell_type": "code",
   "execution_count": 3,
   "metadata": {
    "execution": {
     "iopub.execute_input": "2020-12-26T12:08:12.943627Z",
     "iopub.status.busy": "2020-12-26T12:08:12.940442Z",
     "iopub.status.idle": "2020-12-26T12:08:12.947007Z",
     "shell.execute_reply": "2020-12-26T12:08:12.946505Z"
    },
    "papermill": {
     "duration": 0.047083,
     "end_time": "2020-12-26T12:08:12.947130",
     "exception": false,
     "start_time": "2020-12-26T12:08:12.900047",
     "status": "completed"
    },
    "tags": []
   },
   "outputs": [
    {
     "data": {
      "text/plain": [
       "'https://raw.githubusercontent.com/pratapvardhan/notebooks/master/covid19/mapping_countries.csv'"
      ]
     },
     "execution_count": 3,
     "metadata": {},
     "output_type": "execute_result"
    }
   ],
   "source": [
    "#hide\n",
    "paths['mapping']"
   ]
  },
  {
   "cell_type": "code",
   "execution_count": 4,
   "metadata": {
    "execution": {
     "iopub.execute_input": "2020-12-26T12:08:13.021500Z",
     "iopub.status.busy": "2020-12-26T12:08:13.020840Z",
     "iopub.status.idle": "2020-12-26T12:08:13.023278Z",
     "shell.execute_reply": "2020-12-26T12:08:13.022705Z"
    },
    "papermill": {
     "duration": 0.041414,
     "end_time": "2020-12-26T12:08:13.023422",
     "exception": false,
     "start_time": "2020-12-26T12:08:12.982008",
     "status": "completed"
    },
    "tags": []
   },
   "outputs": [],
   "source": [
    "#hide\n",
    "def get_mappings(url):\n",
    "    df = pd.read_csv(url)\n",
    "    return {\n",
    "        'df': df,\n",
    "        'replace.country': dict(df.dropna(subset=['Name']).set_index('Country')['Name']),\n",
    "        'map.continent': dict(df.set_index('Name')['Continent'])\n",
    "    }"
   ]
  },
  {
   "cell_type": "code",
   "execution_count": 5,
   "metadata": {
    "execution": {
     "iopub.execute_input": "2020-12-26T12:08:13.096468Z",
     "iopub.status.busy": "2020-12-26T12:08:13.095798Z",
     "iopub.status.idle": "2020-12-26T12:08:13.127400Z",
     "shell.execute_reply": "2020-12-26T12:08:13.126831Z"
    },
    "papermill": {
     "duration": 0.069945,
     "end_time": "2020-12-26T12:08:13.127564",
     "exception": false,
     "start_time": "2020-12-26T12:08:13.057619",
     "status": "completed"
    },
    "tags": []
   },
   "outputs": [],
   "source": [
    "#hide\n",
    "mapping = get_mappings(paths['mapping'])"
   ]
  },
  {
   "cell_type": "code",
   "execution_count": 6,
   "metadata": {
    "execution": {
     "iopub.execute_input": "2020-12-26T12:08:13.204233Z",
     "iopub.status.busy": "2020-12-26T12:08:13.203604Z",
     "iopub.status.idle": "2020-12-26T12:08:13.206094Z",
     "shell.execute_reply": "2020-12-26T12:08:13.205567Z"
    },
    "papermill": {
     "duration": 0.044479,
     "end_time": "2020-12-26T12:08:13.206219",
     "exception": false,
     "start_time": "2020-12-26T12:08:13.161740",
     "status": "completed"
    },
    "tags": []
   },
   "outputs": [],
   "source": [
    "#hide\n",
    "def get_template(path):\n",
    "    from urllib.parse import urlparse\n",
    "    if bool(urlparse(path).netloc):\n",
    "        from urllib.request import urlopen\n",
    "        return urlopen(path).read().decode('utf8')\n",
    "    return open(path).read()"
   ]
  },
  {
   "cell_type": "code",
   "execution_count": 7,
   "metadata": {
    "execution": {
     "iopub.execute_input": "2020-12-26T12:08:13.274265Z",
     "iopub.status.busy": "2020-12-26T12:08:13.273567Z",
     "iopub.status.idle": "2020-12-26T12:08:13.275633Z",
     "shell.execute_reply": "2020-12-26T12:08:13.276120Z"
    },
    "papermill": {
     "duration": 0.038667,
     "end_time": "2020-12-26T12:08:13.276249",
     "exception": false,
     "start_time": "2020-12-26T12:08:13.237582",
     "status": "completed"
    },
    "tags": []
   },
   "outputs": [],
   "source": [
    "#hide\n",
    "def get_frame(name):\n",
    "    url = (\n",
    "        'https://raw.githubusercontent.com/CSSEGISandData/COVID-19/master/csse_covid_19_data/'\n",
    "        f'csse_covid_19_time_series/time_series_covid19_{name}_global.csv')\n",
    "    df = pd.read_csv(url)\n",
    "    # rename countries\n",
    "    df['Country/Region'] = df['Country/Region'].replace(mapping['replace.country'])\n",
    "    return df"
   ]
  },
  {
   "cell_type": "code",
   "execution_count": 8,
   "metadata": {
    "execution": {
     "iopub.execute_input": "2020-12-26T12:08:13.345175Z",
     "iopub.status.busy": "2020-12-26T12:08:13.344403Z",
     "iopub.status.idle": "2020-12-26T12:08:13.346463Z",
     "shell.execute_reply": "2020-12-26T12:08:13.346958Z"
    },
    "papermill": {
     "duration": 0.039273,
     "end_time": "2020-12-26T12:08:13.347084",
     "exception": false,
     "start_time": "2020-12-26T12:08:13.307811",
     "status": "completed"
    },
    "tags": []
   },
   "outputs": [],
   "source": [
    "#hide\n",
    "def get_dates(df):\n",
    "    dt_cols = df.columns[~df.columns.isin(['Province/State', 'Country/Region', 'Lat', 'Long'])]\n",
    "    LAST_DATE_I = -1\n",
    "    # sometimes last column may be empty, then go backwards\n",
    "    for i in range(-1, -len(dt_cols), -1):\n",
    "        if not df[dt_cols[i]].fillna(0).eq(0).all():\n",
    "            LAST_DATE_I = i\n",
    "            break\n",
    "    return LAST_DATE_I, dt_cols"
   ]
  },
  {
   "cell_type": "code",
   "execution_count": 9,
   "metadata": {
    "execution": {
     "iopub.execute_input": "2020-12-26T12:08:13.420433Z",
     "iopub.status.busy": "2020-12-26T12:08:13.419704Z",
     "iopub.status.idle": "2020-12-26T12:08:13.681649Z",
     "shell.execute_reply": "2020-12-26T12:08:13.680721Z"
    },
    "papermill": {
     "duration": 0.300032,
     "end_time": "2020-12-26T12:08:13.681797",
     "exception": false,
     "start_time": "2020-12-26T12:08:13.381765",
     "status": "completed"
    },
    "tags": []
   },
   "outputs": [],
   "source": [
    "#hide\n",
    "COL_REGION = 'Country/Region'\n",
    "# Confirmed, Recovered, Deaths\n",
    "df = get_frame('confirmed')\n",
    "# dft_: timeseries, dfc_: today country agg\n",
    "dft_cases = df\n",
    "dft_deaths = get_frame('deaths')\n",
    "dft_recovered = get_frame('recovered')\n",
    "LAST_DATE_I, dt_cols = get_dates(df)"
   ]
  },
  {
   "cell_type": "code",
   "execution_count": 10,
   "metadata": {
    "execution": {
     "iopub.execute_input": "2020-12-26T12:08:13.756627Z",
     "iopub.status.busy": "2020-12-26T12:08:13.755988Z",
     "iopub.status.idle": "2020-12-26T12:08:13.757489Z",
     "shell.execute_reply": "2020-12-26T12:08:13.758144Z"
    },
    "papermill": {
     "duration": 0.042624,
     "end_time": "2020-12-26T12:08:13.758302",
     "exception": false,
     "start_time": "2020-12-26T12:08:13.715678",
     "status": "completed"
    },
    "tags": []
   },
   "outputs": [],
   "source": [
    "#hide\n",
    "LAST_DATE_I, dt_cols = get_dates(df)\n",
    "dt_today =dt_cols[LAST_DATE_I]\n",
    "# dt_5day = dt_cols[LAST_DATE_I - 5]\n",
    "dt_yday = dt_cols[LAST_DATE_I - 1]"
   ]
  },
  {
   "cell_type": "code",
   "execution_count": 11,
   "metadata": {
    "execution": {
     "iopub.execute_input": "2020-12-26T12:08:13.830434Z",
     "iopub.status.busy": "2020-12-26T12:08:13.829619Z",
     "iopub.status.idle": "2020-12-26T12:08:13.839666Z",
     "shell.execute_reply": "2020-12-26T12:08:13.840218Z"
    },
    "papermill": {
     "duration": 0.048978,
     "end_time": "2020-12-26T12:08:13.840357",
     "exception": false,
     "start_time": "2020-12-26T12:08:13.791379",
     "status": "completed"
    },
    "tags": []
   },
   "outputs": [],
   "source": [
    "#hide\n",
    "dfc_cases = dft_cases.groupby(COL_REGION)[dt_today].sum()\n",
    "dfc_deaths = dft_deaths.groupby(COL_REGION)[dt_today].sum()\n",
    "# dfp_cases = dft_cases.groupby(COL_REGION)[dt_5day].sum()\n",
    "# dfp_deaths = dft_deaths.groupby(COL_REGION)[dt_5day].sum()\n",
    "dfp_cases = dft_cases.groupby(COL_REGION)[dt_yday].sum()\n",
    "dfp_deaths = dft_deaths.groupby(COL_REGION)[dt_yday].sum()"
   ]
  },
  {
   "cell_type": "code",
   "execution_count": 12,
   "metadata": {
    "execution": {
     "iopub.execute_input": "2020-12-26T12:08:13.915605Z",
     "iopub.status.busy": "2020-12-26T12:08:13.914758Z",
     "iopub.status.idle": "2020-12-26T12:08:13.920872Z",
     "shell.execute_reply": "2020-12-26T12:08:13.920317Z"
    },
    "papermill": {
     "duration": 0.046904,
     "end_time": "2020-12-26T12:08:13.920999",
     "exception": false,
     "start_time": "2020-12-26T12:08:13.874095",
     "status": "completed"
    },
    "tags": []
   },
   "outputs": [],
   "source": [
    "#hide\n",
    "df_table = (pd.DataFrame(dict(Cases = dfc_cases, Deaths = dfc_deaths, PCases = dfp_cases, PDeaths = dfp_deaths))\n",
    "            .sort_values(by = ['Cases','Deaths'], ascending = [False, False])\n",
    "            .reset_index())"
   ]
  },
  {
   "cell_type": "code",
   "execution_count": 13,
   "metadata": {
    "execution": {
     "iopub.execute_input": "2020-12-26T12:08:14.011482Z",
     "iopub.status.busy": "2020-12-26T12:08:14.010773Z",
     "iopub.status.idle": "2020-12-26T12:08:14.018948Z",
     "shell.execute_reply": "2020-12-26T12:08:14.019728Z"
    },
    "papermill": {
     "duration": 0.065538,
     "end_time": "2020-12-26T12:08:14.019889",
     "exception": false,
     "start_time": "2020-12-26T12:08:13.954351",
     "status": "completed"
    },
    "tags": []
   },
   "outputs": [
    {
     "data": {
      "text/html": [
       "<div>\n",
       "<style scoped>\n",
       "    .dataframe tbody tr th:only-of-type {\n",
       "        vertical-align: middle;\n",
       "    }\n",
       "\n",
       "    .dataframe tbody tr th {\n",
       "        vertical-align: top;\n",
       "    }\n",
       "\n",
       "    .dataframe thead th {\n",
       "        text-align: right;\n",
       "    }\n",
       "</style>\n",
       "<table border=\"1\" class=\"dataframe\">\n",
       "  <thead>\n",
       "    <tr style=\"text-align: right;\">\n",
       "      <th></th>\n",
       "      <th>Country/Region</th>\n",
       "      <th>Cases</th>\n",
       "      <th>Deaths</th>\n",
       "      <th>PCases</th>\n",
       "      <th>PDeaths</th>\n",
       "      <th>Cases (+)</th>\n",
       "      <th>Deaths (+)</th>\n",
       "      <th>Fatality Rate</th>\n",
       "      <th>Continent</th>\n",
       "    </tr>\n",
       "  </thead>\n",
       "  <tbody>\n",
       "    <tr>\n",
       "      <th>0</th>\n",
       "      <td>US</td>\n",
       "      <td>18756360</td>\n",
       "      <td>330246</td>\n",
       "      <td>18650454</td>\n",
       "      <td>329023</td>\n",
       "      <td>105906</td>\n",
       "      <td>1223</td>\n",
       "      <td>1.76</td>\n",
       "      <td>North America</td>\n",
       "    </tr>\n",
       "    <tr>\n",
       "      <th>1</th>\n",
       "      <td>India</td>\n",
       "      <td>10169118</td>\n",
       "      <td>147343</td>\n",
       "      <td>10146845</td>\n",
       "      <td>147092</td>\n",
       "      <td>22273</td>\n",
       "      <td>251</td>\n",
       "      <td>1.45</td>\n",
       "      <td>Asia</td>\n",
       "    </tr>\n",
       "    <tr>\n",
       "      <th>2</th>\n",
       "      <td>Brazil</td>\n",
       "      <td>7448560</td>\n",
       "      <td>190488</td>\n",
       "      <td>7423945</td>\n",
       "      <td>189982</td>\n",
       "      <td>24615</td>\n",
       "      <td>506</td>\n",
       "      <td>2.56</td>\n",
       "      <td>South America</td>\n",
       "    </tr>\n",
       "    <tr>\n",
       "      <th>3</th>\n",
       "      <td>Russia</td>\n",
       "      <td>2963290</td>\n",
       "      <td>52985</td>\n",
       "      <td>2934695</td>\n",
       "      <td>52434</td>\n",
       "      <td>28595</td>\n",
       "      <td>551</td>\n",
       "      <td>1.79</td>\n",
       "      <td>Europe</td>\n",
       "    </tr>\n",
       "    <tr>\n",
       "      <th>4</th>\n",
       "      <td>France</td>\n",
       "      <td>2604595</td>\n",
       "      <td>62548</td>\n",
       "      <td>2584333</td>\n",
       "      <td>62389</td>\n",
       "      <td>20262</td>\n",
       "      <td>159</td>\n",
       "      <td>2.40</td>\n",
       "      <td>Europe</td>\n",
       "    </tr>\n",
       "  </tbody>\n",
       "</table>\n",
       "</div>"
      ],
      "text/plain": [
       "  Country/Region     Cases  Deaths    PCases  PDeaths  Cases (+)  Deaths (+)  \\\n",
       "0             US  18756360  330246  18650454   329023     105906        1223   \n",
       "1          India  10169118  147343  10146845   147092      22273         251   \n",
       "2         Brazil   7448560  190488   7423945   189982      24615         506   \n",
       "3         Russia   2963290   52985   2934695    52434      28595         551   \n",
       "4         France   2604595   62548   2584333    62389      20262         159   \n",
       "\n",
       "   Fatality Rate      Continent  \n",
       "0           1.76  North America  \n",
       "1           1.45           Asia  \n",
       "2           2.56  South America  \n",
       "3           1.79         Europe  \n",
       "4           2.40         Europe  "
      ]
     },
     "execution_count": 13,
     "metadata": {},
     "output_type": "execute_result"
    }
   ],
   "source": [
    "#hide\n",
    "for c in 'Cases, Deaths'.split(', '):\n",
    "    df_table[f'{c} (+)'] = (df_table[c] - df_table[f'P{c}']).clip(0)\n",
    "    #Clip ça veut dire, les chiffres negatif sont interdit\n",
    "df_table['Fatality Rate'] = (100* df_table['Deaths']/ df_table['Cases']).round(2)\n",
    "df_table['Continent'] = df_table['Country/Region'].map(mapping['map.continent'])\n",
    "df_table.head(5)"
   ]
  },
  {
   "cell_type": "code",
   "execution_count": 14,
   "metadata": {
    "execution": {
     "iopub.execute_input": "2020-12-26T12:08:14.097016Z",
     "iopub.status.busy": "2020-12-26T12:08:14.096341Z",
     "iopub.status.idle": "2020-12-26T12:08:14.099336Z",
     "shell.execute_reply": "2020-12-26T12:08:14.099994Z"
    },
    "papermill": {
     "duration": 0.04535,
     "end_time": "2020-12-26T12:08:14.100144",
     "exception": false,
     "start_time": "2020-12-26T12:08:14.054794",
     "status": "completed"
    },
    "tags": []
   },
   "outputs": [],
   "source": [
    "#hide\n",
    "#delete problematic countries from table\n",
    "df_table = df_table[~df_table['Country/Region'].isin(['Cape Verde', 'Cruise Ship', 'Kosovo'])]"
   ]
  },
  {
   "cell_type": "code",
   "execution_count": 15,
   "metadata": {
    "execution": {
     "iopub.execute_input": "2020-12-26T12:08:14.178074Z",
     "iopub.status.busy": "2020-12-26T12:08:14.177390Z",
     "iopub.status.idle": "2020-12-26T12:08:14.199178Z",
     "shell.execute_reply": "2020-12-26T12:08:14.198640Z"
    },
    "papermill": {
     "duration": 0.064695,
     "end_time": "2020-12-26T12:08:14.199336",
     "exception": false,
     "start_time": "2020-12-26T12:08:14.134641",
     "status": "completed"
    },
    "tags": []
   },
   "outputs": [
    {
     "data": {
      "text/html": [
       "<div>\n",
       "<style scoped>\n",
       "    .dataframe tbody tr th:only-of-type {\n",
       "        vertical-align: middle;\n",
       "    }\n",
       "\n",
       "    .dataframe tbody tr th {\n",
       "        vertical-align: top;\n",
       "    }\n",
       "\n",
       "    .dataframe thead th {\n",
       "        text-align: right;\n",
       "    }\n",
       "</style>\n",
       "<table border=\"1\" class=\"dataframe\">\n",
       "  <thead>\n",
       "    <tr style=\"text-align: right;\">\n",
       "      <th></th>\n",
       "      <th>Country/Region</th>\n",
       "      <th>Cases</th>\n",
       "      <th>Deaths</th>\n",
       "      <th>PCases</th>\n",
       "      <th>PDeaths</th>\n",
       "      <th>Cases (+)</th>\n",
       "      <th>Deaths (+)</th>\n",
       "      <th>Fatality Rate</th>\n",
       "      <th>Continent</th>\n",
       "    </tr>\n",
       "  </thead>\n",
       "  <tbody>\n",
       "    <tr>\n",
       "      <th>0</th>\n",
       "      <td>US</td>\n",
       "      <td>18756360</td>\n",
       "      <td>330246</td>\n",
       "      <td>18650454</td>\n",
       "      <td>329023</td>\n",
       "      <td>105906</td>\n",
       "      <td>1223</td>\n",
       "      <td>1.8</td>\n",
       "      <td>North America</td>\n",
       "    </tr>\n",
       "    <tr>\n",
       "      <th>1</th>\n",
       "      <td>India</td>\n",
       "      <td>10169118</td>\n",
       "      <td>147343</td>\n",
       "      <td>10146845</td>\n",
       "      <td>147092</td>\n",
       "      <td>22273</td>\n",
       "      <td>251</td>\n",
       "      <td>1.4</td>\n",
       "      <td>Asia</td>\n",
       "    </tr>\n",
       "    <tr>\n",
       "      <th>2</th>\n",
       "      <td>Brazil</td>\n",
       "      <td>7448560</td>\n",
       "      <td>190488</td>\n",
       "      <td>7423945</td>\n",
       "      <td>189982</td>\n",
       "      <td>24615</td>\n",
       "      <td>506</td>\n",
       "      <td>2.6</td>\n",
       "      <td>South America</td>\n",
       "    </tr>\n",
       "    <tr>\n",
       "      <th>3</th>\n",
       "      <td>Russia</td>\n",
       "      <td>2963290</td>\n",
       "      <td>52985</td>\n",
       "      <td>2934695</td>\n",
       "      <td>52434</td>\n",
       "      <td>28595</td>\n",
       "      <td>551</td>\n",
       "      <td>1.8</td>\n",
       "      <td>Europe</td>\n",
       "    </tr>\n",
       "    <tr>\n",
       "      <th>4</th>\n",
       "      <td>France</td>\n",
       "      <td>2604595</td>\n",
       "      <td>62548</td>\n",
       "      <td>2584333</td>\n",
       "      <td>62389</td>\n",
       "      <td>20262</td>\n",
       "      <td>159</td>\n",
       "      <td>2.4</td>\n",
       "      <td>Europe</td>\n",
       "    </tr>\n",
       "  </tbody>\n",
       "</table>\n",
       "</div>"
      ],
      "text/plain": [
       "  Country/Region     Cases  Deaths    PCases  PDeaths  Cases (+)  Deaths (+)  \\\n",
       "0             US  18756360  330246  18650454   329023     105906        1223   \n",
       "1          India  10169118  147343  10146845   147092      22273         251   \n",
       "2         Brazil   7448560  190488   7423945   189982      24615         506   \n",
       "3         Russia   2963290   52985   2934695    52434      28595         551   \n",
       "4         France   2604595   62548   2584333    62389      20262         159   \n",
       "\n",
       "   Fatality Rate      Continent  \n",
       "0            1.8  North America  \n",
       "1            1.4           Asia  \n",
       "2            2.6  South America  \n",
       "3            1.8         Europe  \n",
       "4            2.4         Europe  "
      ]
     },
     "execution_count": 15,
     "metadata": {},
     "output_type": "execute_result"
    }
   ],
   "source": [
    "#hide\n",
    "df_table = (pd.DataFrame(dict(Cases=dfc_cases, Deaths=dfc_deaths, PCases=dfp_cases, PDeaths=dfp_deaths))\n",
    "             .sort_values(by=['Cases', 'Deaths'], ascending=[False, False])\n",
    "             .reset_index())\n",
    "df_table.rename(columns={'index': 'Country/Region'}, inplace=True)\n",
    "for c in 'Cases, Deaths'.split(', '):\n",
    "    df_table[f'{c} (+)'] = (df_table[c] - df_table[f'P{c}']).clip(0)  # DATA BUG\n",
    "df_table['Fatality Rate'] = (100 * df_table['Deaths'] / df_table['Cases']).round(1)\n",
    "df_table['Continent'] = df_table['Country/Region'].map(mapping['map.continent'])\n",
    "df_table.head(5)"
   ]
  },
  {
   "cell_type": "code",
   "execution_count": 16,
   "metadata": {
    "execution": {
     "iopub.execute_input": "2020-12-26T12:08:14.270510Z",
     "iopub.status.busy": "2020-12-26T12:08:14.269828Z",
     "iopub.status.idle": "2020-12-26T12:08:14.272824Z",
     "shell.execute_reply": "2020-12-26T12:08:14.272327Z"
    },
    "papermill": {
     "duration": 0.040662,
     "end_time": "2020-12-26T12:08:14.272943",
     "exception": false,
     "start_time": "2020-12-26T12:08:14.232281",
     "status": "completed"
    },
    "tags": []
   },
   "outputs": [],
   "source": [
    "#hide\n",
    "#delete problematic countries from table\n",
    "df_table = df_table[~df_table['Country/Region'].isin(['Cape Verde', 'Cruise Ship', 'Kosovo'])]"
   ]
  },
  {
   "cell_type": "code",
   "execution_count": 17,
   "metadata": {
    "execution": {
     "iopub.execute_input": "2020-12-26T12:08:14.358067Z",
     "iopub.status.busy": "2020-12-26T12:08:14.357437Z",
     "iopub.status.idle": "2020-12-26T12:08:14.359752Z",
     "shell.execute_reply": "2020-12-26T12:08:14.360277Z"
    },
    "papermill": {
     "duration": 0.055173,
     "end_time": "2020-12-26T12:08:14.360410",
     "exception": false,
     "start_time": "2020-12-26T12:08:14.305237",
     "status": "completed"
    },
    "tags": []
   },
   "outputs": [],
   "source": [
    "#hide\n",
    "metrics = [df_table.columns[index] for index in [1,2,5,6]]\n",
    "# s_china = df_table[df_table['Country/Region'].eq('China')][metrics].sum().add_prefix('China ')\n",
    "s_us = df_table[df_table['Country/Region'].eq('US')][metrics].sum().add_prefix('US ')\n",
    "s_eu = df_table[df_table['Continent'].eq('Europe')][metrics].sum().add_prefix('EU ')\n",
    "s_ind = df_table[df_table['Country/Region'].eq('India')][metrics].sum().add_prefix('India ')\n",
    "summary = {'updated': pd.to_datetime(dt_today), 'since': pd.to_datetime(dt_yday)}\n",
    "summary = {'updated': pd.to_datetime(dt_today), 'since': pd.to_datetime(dt_yday)}\n",
    "summary = {**summary, **df_table[metrics].sum(), **s_ind, **s_us, **s_eu}"
   ]
  },
  {
   "cell_type": "code",
   "execution_count": 18,
   "metadata": {
    "execution": {
     "iopub.execute_input": "2020-12-26T12:08:14.433922Z",
     "iopub.status.busy": "2020-12-26T12:08:14.433224Z",
     "iopub.status.idle": "2020-12-26T12:08:14.444706Z",
     "shell.execute_reply": "2020-12-26T12:08:14.445306Z"
    },
    "papermill": {
     "duration": 0.051815,
     "end_time": "2020-12-26T12:08:14.445453",
     "exception": false,
     "start_time": "2020-12-26T12:08:14.393638",
     "status": "completed"
    },
    "tags": []
   },
   "outputs": [],
   "source": [
    "#hide\n",
    "dft_ct_new_cases = dft_cases.groupby(COL_REGION)[dt_cols].sum().diff(axis=1).fillna(0).astype(int)"
   ]
  },
  {
   "cell_type": "code",
   "execution_count": 19,
   "metadata": {
    "execution": {
     "iopub.execute_input": "2020-12-26T12:08:14.517668Z",
     "iopub.status.busy": "2020-12-26T12:08:14.517048Z",
     "iopub.status.idle": "2020-12-26T12:08:14.519035Z",
     "shell.execute_reply": "2020-12-26T12:08:14.519705Z"
    },
    "papermill": {
     "duration": 0.040381,
     "end_time": "2020-12-26T12:08:14.519900",
     "exception": false,
     "start_time": "2020-12-26T12:08:14.479519",
     "status": "completed"
    },
    "tags": []
   },
   "outputs": [],
   "source": [
    "#hide\n",
    "everydaycases = dft_ct_new_cases.cumsum(axis=1)"
   ]
  },
  {
   "cell_type": "code",
   "execution_count": 20,
   "metadata": {
    "execution": {
     "iopub.execute_input": "2020-12-26T12:08:14.591319Z",
     "iopub.status.busy": "2020-12-26T12:08:14.590508Z",
     "iopub.status.idle": "2020-12-26T12:08:16.913149Z",
     "shell.execute_reply": "2020-12-26T12:08:16.912554Z"
    },
    "papermill": {
     "duration": 2.360826,
     "end_time": "2020-12-26T12:08:16.913356",
     "exception": false,
     "start_time": "2020-12-26T12:08:14.552530",
     "status": "completed"
    },
    "tags": []
   },
   "outputs": [],
   "source": [
    "#hide\n",
    "import pandas as pd\n",
    "import matplotlib.pyplot as plt\n",
    "import matplotlib.ticker as ticker\n",
    "import matplotlib.animation as animation\n",
    "from IPython.display import HTML"
   ]
  },
  {
   "cell_type": "code",
   "execution_count": 21,
   "metadata": {
    "execution": {
     "iopub.execute_input": "2020-12-26T12:08:16.989104Z",
     "iopub.status.busy": "2020-12-26T12:08:16.988374Z",
     "iopub.status.idle": "2020-12-26T12:08:16.993716Z",
     "shell.execute_reply": "2020-12-26T12:08:16.993183Z"
    },
    "papermill": {
     "duration": 0.045443,
     "end_time": "2020-12-26T12:08:16.993840",
     "exception": false,
     "start_time": "2020-12-26T12:08:16.948397",
     "status": "completed"
    },
    "tags": []
   },
   "outputs": [],
   "source": [
    "#hide\n",
    "t = everydaycases.stack()"
   ]
  },
  {
   "cell_type": "code",
   "execution_count": 22,
   "metadata": {
    "execution": {
     "iopub.execute_input": "2020-12-26T12:08:17.065738Z",
     "iopub.status.busy": "2020-12-26T12:08:17.065130Z",
     "iopub.status.idle": "2020-12-26T12:08:17.072249Z",
     "shell.execute_reply": "2020-12-26T12:08:17.072938Z"
    },
    "papermill": {
     "duration": 0.045811,
     "end_time": "2020-12-26T12:08:17.073078",
     "exception": false,
     "start_time": "2020-12-26T12:08:17.027267",
     "status": "completed"
    },
    "tags": []
   },
   "outputs": [],
   "source": [
    "#hide\n",
    "g = t.reset_index(['Country/Region'])"
   ]
  },
  {
   "cell_type": "code",
   "execution_count": 23,
   "metadata": {
    "execution": {
     "iopub.execute_input": "2020-12-26T12:08:17.142416Z",
     "iopub.status.busy": "2020-12-26T12:08:17.141813Z",
     "iopub.status.idle": "2020-12-26T12:08:17.144851Z",
     "shell.execute_reply": "2020-12-26T12:08:17.144173Z"
    },
    "papermill": {
     "duration": 0.039015,
     "end_time": "2020-12-26T12:08:17.144972",
     "exception": false,
     "start_time": "2020-12-26T12:08:17.105957",
     "status": "completed"
    },
    "tags": []
   },
   "outputs": [],
   "source": [
    "#hide\n",
    "g.index.name = 'date'"
   ]
  },
  {
   "cell_type": "code",
   "execution_count": 24,
   "metadata": {
    "execution": {
     "iopub.execute_input": "2020-12-26T12:08:17.213636Z",
     "iopub.status.busy": "2020-12-26T12:08:17.213049Z",
     "iopub.status.idle": "2020-12-26T12:08:17.215700Z",
     "shell.execute_reply": "2020-12-26T12:08:17.215169Z"
    },
    "papermill": {
     "duration": 0.038238,
     "end_time": "2020-12-26T12:08:17.215812",
     "exception": false,
     "start_time": "2020-12-26T12:08:17.177574",
     "status": "completed"
    },
    "tags": []
   },
   "outputs": [],
   "source": [
    "# #hide\n",
    "# g = g.reset_index(['date'])"
   ]
  },
  {
   "cell_type": "code",
   "execution_count": 25,
   "metadata": {
    "execution": {
     "iopub.execute_input": "2020-12-26T12:08:17.284733Z",
     "iopub.status.busy": "2020-12-26T12:08:17.284024Z",
     "iopub.status.idle": "2020-12-26T12:08:17.286319Z",
     "shell.execute_reply": "2020-12-26T12:08:17.287047Z"
    },
    "papermill": {
     "duration": 0.03905,
     "end_time": "2020-12-26T12:08:17.287320",
     "exception": false,
     "start_time": "2020-12-26T12:08:17.248270",
     "status": "completed"
    },
    "tags": []
   },
   "outputs": [],
   "source": [
    "#hide\n",
    "# g.head()"
   ]
  },
  {
   "cell_type": "code",
   "execution_count": 26,
   "metadata": {
    "execution": {
     "iopub.execute_input": "2020-12-26T12:08:17.360397Z",
     "iopub.status.busy": "2020-12-26T12:08:17.359685Z",
     "iopub.status.idle": "2020-12-26T12:08:17.362221Z",
     "shell.execute_reply": "2020-12-26T12:08:17.361595Z"
    },
    "papermill": {
     "duration": 0.039443,
     "end_time": "2020-12-26T12:08:17.362342",
     "exception": false,
     "start_time": "2020-12-26T12:08:17.322899",
     "status": "completed"
    },
    "tags": []
   },
   "outputs": [],
   "source": [
    "#hide\n",
    "# g.columns = ['date','country','cases']"
   ]
  },
  {
   "cell_type": "code",
   "execution_count": 27,
   "metadata": {
    "execution": {
     "iopub.execute_input": "2020-12-26T12:08:17.434163Z",
     "iopub.status.busy": "2020-12-26T12:08:17.433521Z",
     "iopub.status.idle": "2020-12-26T12:08:17.435535Z",
     "shell.execute_reply": "2020-12-26T12:08:17.436117Z"
    },
    "papermill": {
     "duration": 0.040225,
     "end_time": "2020-12-26T12:08:17.436251",
     "exception": false,
     "start_time": "2020-12-26T12:08:17.396026",
     "status": "completed"
    },
    "tags": []
   },
   "outputs": [],
   "source": [
    "#hide\n",
    "# g['continent'] = g.country"
   ]
  },
  {
   "cell_type": "code",
   "execution_count": 28,
   "metadata": {
    "execution": {
     "iopub.execute_input": "2020-12-26T12:08:17.507323Z",
     "iopub.status.busy": "2020-12-26T12:08:17.506657Z",
     "iopub.status.idle": "2020-12-26T12:08:17.508916Z",
     "shell.execute_reply": "2020-12-26T12:08:17.509436Z"
    },
    "papermill": {
     "duration": 0.040072,
     "end_time": "2020-12-26T12:08:17.509585",
     "exception": false,
     "start_time": "2020-12-26T12:08:17.469513",
     "status": "completed"
    },
    "tags": []
   },
   "outputs": [],
   "source": [
    "#hide\n",
    "# cols = list(g.columns.values)"
   ]
  },
  {
   "cell_type": "code",
   "execution_count": 29,
   "metadata": {
    "execution": {
     "iopub.execute_input": "2020-12-26T12:08:17.579634Z",
     "iopub.status.busy": "2020-12-26T12:08:17.579002Z",
     "iopub.status.idle": "2020-12-26T12:08:17.581526Z",
     "shell.execute_reply": "2020-12-26T12:08:17.581026Z"
    },
    "papermill": {
     "duration": 0.03971,
     "end_time": "2020-12-26T12:08:17.581644",
     "exception": false,
     "start_time": "2020-12-26T12:08:17.541934",
     "status": "completed"
    },
    "tags": []
   },
   "outputs": [],
   "source": [
    "#hide\n",
    "# cols.insert(0, cols.pop())"
   ]
  },
  {
   "cell_type": "code",
   "execution_count": 30,
   "metadata": {
    "execution": {
     "iopub.execute_input": "2020-12-26T12:08:17.654558Z",
     "iopub.status.busy": "2020-12-26T12:08:17.653935Z",
     "iopub.status.idle": "2020-12-26T12:08:17.656406Z",
     "shell.execute_reply": "2020-12-26T12:08:17.655873Z"
    },
    "papermill": {
     "duration": 0.040904,
     "end_time": "2020-12-26T12:08:17.656541",
     "exception": false,
     "start_time": "2020-12-26T12:08:17.615637",
     "status": "completed"
    },
    "tags": []
   },
   "outputs": [],
   "source": [
    "#hide\n",
    "# g = g[cols]"
   ]
  },
  {
   "cell_type": "code",
   "execution_count": 31,
   "metadata": {
    "execution": {
     "iopub.execute_input": "2020-12-26T12:08:17.728393Z",
     "iopub.status.busy": "2020-12-26T12:08:17.727704Z",
     "iopub.status.idle": "2020-12-26T12:08:17.730135Z",
     "shell.execute_reply": "2020-12-26T12:08:17.729514Z"
    },
    "papermill": {
     "duration": 0.041473,
     "end_time": "2020-12-26T12:08:17.730263",
     "exception": false,
     "start_time": "2020-12-26T12:08:17.688790",
     "status": "completed"
    },
    "tags": []
   },
   "outputs": [],
   "source": [
    "#hide\n",
    "# g['continent'] = g['continent'].map(mapping['map.continent'])"
   ]
  },
  {
   "cell_type": "code",
   "execution_count": 32,
   "metadata": {
    "execution": {
     "iopub.execute_input": "2020-12-26T12:08:17.802581Z",
     "iopub.status.busy": "2020-12-26T12:08:17.801715Z",
     "iopub.status.idle": "2020-12-26T12:08:17.804480Z",
     "shell.execute_reply": "2020-12-26T12:08:17.803918Z"
    },
    "papermill": {
     "duration": 0.04097,
     "end_time": "2020-12-26T12:08:17.804885",
     "exception": false,
     "start_time": "2020-12-26T12:08:17.763915",
     "status": "completed"
    },
    "tags": []
   },
   "outputs": [],
   "source": [
    "#hide\n",
    "# g.head()"
   ]
  },
  {
   "cell_type": "code",
   "execution_count": 33,
   "metadata": {
    "execution": {
     "iopub.execute_input": "2020-12-26T12:08:17.876195Z",
     "iopub.status.busy": "2020-12-26T12:08:17.875588Z",
     "iopub.status.idle": "2020-12-26T12:08:17.878088Z",
     "shell.execute_reply": "2020-12-26T12:08:17.877572Z"
    },
    "papermill": {
     "duration": 0.040699,
     "end_time": "2020-12-26T12:08:17.878210",
     "exception": false,
     "start_time": "2020-12-26T12:08:17.837511",
     "status": "completed"
    },
    "tags": []
   },
   "outputs": [],
   "source": [
    "# hide\n",
    "# g['date'] = g['date'].astype('datetime64[ns]')"
   ]
  },
  {
   "cell_type": "code",
   "execution_count": 34,
   "metadata": {
    "execution": {
     "iopub.execute_input": "2020-12-26T12:08:17.949899Z",
     "iopub.status.busy": "2020-12-26T12:08:17.949224Z",
     "iopub.status.idle": "2020-12-26T12:08:17.951819Z",
     "shell.execute_reply": "2020-12-26T12:08:17.951181Z"
    },
    "papermill": {
     "duration": 0.04012,
     "end_time": "2020-12-26T12:08:17.951944",
     "exception": false,
     "start_time": "2020-12-26T12:08:17.911824",
     "status": "completed"
    },
    "tags": []
   },
   "outputs": [],
   "source": [
    "#hide\n",
    "# g['date'] = g.date.dt.dayofyear"
   ]
  },
  {
   "cell_type": "code",
   "execution_count": 35,
   "metadata": {
    "execution": {
     "iopub.execute_input": "2020-12-26T12:08:18.024453Z",
     "iopub.status.busy": "2020-12-26T12:08:18.023724Z",
     "iopub.status.idle": "2020-12-26T12:08:18.026292Z",
     "shell.execute_reply": "2020-12-26T12:08:18.025601Z"
    },
    "papermill": {
     "duration": 0.041479,
     "end_time": "2020-12-26T12:08:18.026425",
     "exception": false,
     "start_time": "2020-12-26T12:08:17.984946",
     "status": "completed"
    },
    "tags": []
   },
   "outputs": [],
   "source": [
    "#hide\n",
    "# g = g.rename(columns= {'continent':'group','country':'name','cases':'value'})"
   ]
  },
  {
   "cell_type": "code",
   "execution_count": 36,
   "metadata": {
    "execution": {
     "iopub.execute_input": "2020-12-26T12:08:18.098177Z",
     "iopub.status.busy": "2020-12-26T12:08:18.097300Z",
     "iopub.status.idle": "2020-12-26T12:08:18.100082Z",
     "shell.execute_reply": "2020-12-26T12:08:18.099543Z"
    },
    "papermill": {
     "duration": 0.039503,
     "end_time": "2020-12-26T12:08:18.100211",
     "exception": false,
     "start_time": "2020-12-26T12:08:18.060708",
     "status": "completed"
    },
    "tags": []
   },
   "outputs": [],
   "source": [
    "#hide\n",
    "# cols = ['name','group','day','value']"
   ]
  },
  {
   "cell_type": "code",
   "execution_count": 37,
   "metadata": {
    "execution": {
     "iopub.execute_input": "2020-12-26T12:08:18.170080Z",
     "iopub.status.busy": "2020-12-26T12:08:18.169479Z",
     "iopub.status.idle": "2020-12-26T12:08:18.171296Z",
     "shell.execute_reply": "2020-12-26T12:08:18.171806Z"
    },
    "papermill": {
     "duration": 0.038813,
     "end_time": "2020-12-26T12:08:18.171933",
     "exception": false,
     "start_time": "2020-12-26T12:08:18.133120",
     "status": "completed"
    },
    "tags": []
   },
   "outputs": [],
   "source": [
    "#hide\n",
    "# g.rename(columns= {'date':'day'},inplace = True)"
   ]
  },
  {
   "cell_type": "code",
   "execution_count": 38,
   "metadata": {
    "execution": {
     "iopub.execute_input": "2020-12-26T12:08:18.620485Z",
     "iopub.status.busy": "2020-12-26T12:08:18.619852Z",
     "iopub.status.idle": "2020-12-26T12:08:18.621879Z",
     "shell.execute_reply": "2020-12-26T12:08:18.622396Z"
    },
    "papermill": {
     "duration": 0.414546,
     "end_time": "2020-12-26T12:08:18.622538",
     "exception": false,
     "start_time": "2020-12-26T12:08:18.207992",
     "status": "completed"
    },
    "tags": []
   },
   "outputs": [],
   "source": [
    "#hide\n",
    "# g = g[cols]"
   ]
  },
  {
   "cell_type": "code",
   "execution_count": 39,
   "metadata": {
    "execution": {
     "iopub.execute_input": "2020-12-26T12:08:18.761578Z",
     "iopub.status.busy": "2020-12-26T12:08:18.760938Z",
     "iopub.status.idle": "2020-12-26T12:08:18.763051Z",
     "shell.execute_reply": "2020-12-26T12:08:18.763563Z"
    },
    "papermill": {
     "duration": 0.039795,
     "end_time": "2020-12-26T12:08:18.763707",
     "exception": false,
     "start_time": "2020-12-26T12:08:18.723912",
     "status": "completed"
    },
    "tags": []
   },
   "outputs": [],
   "source": [
    "# #hide\n",
    "# g = g[g.group.notna()]"
   ]
  },
  {
   "cell_type": "code",
   "execution_count": 40,
   "metadata": {
    "execution": {
     "iopub.execute_input": "2020-12-26T12:08:18.835862Z",
     "iopub.status.busy": "2020-12-26T12:08:18.835160Z",
     "iopub.status.idle": "2020-12-26T12:08:18.837718Z",
     "shell.execute_reply": "2020-12-26T12:08:18.837156Z"
    },
    "papermill": {
     "duration": 0.040514,
     "end_time": "2020-12-26T12:08:18.837864",
     "exception": false,
     "start_time": "2020-12-26T12:08:18.797350",
     "status": "completed"
    },
    "tags": []
   },
   "outputs": [],
   "source": [
    "# #hide\n",
    "# colors = dict(zip(\n",
    "#     [\"Oceania\", \"Europe\", \"Asia\", \"South America\", \"Middle East\", \"North America\", \"Africa\"],\n",
    "#     [\"#adb0ff\", \"#ffb3ff\", \"#90d595\", \"#e48381\", \"#aafbff\", \"#f7bb5f\", \"#eafb50\"]\n",
    "# ))\n",
    "# group_lk = g.set_index('name')['group'].to_dict()"
   ]
  },
  {
   "cell_type": "code",
   "execution_count": null,
   "metadata": {
    "papermill": {
     "duration": 0.034719,
     "end_time": "2020-12-26T12:08:18.908520",
     "exception": false,
     "start_time": "2020-12-26T12:08:18.873801",
     "status": "completed"
    },
    "tags": []
   },
   "outputs": [],
   "source": []
  },
  {
   "cell_type": "code",
   "execution_count": 41,
   "metadata": {
    "execution": {
     "iopub.execute_input": "2020-12-26T12:08:18.983447Z",
     "iopub.status.busy": "2020-12-26T12:08:18.982748Z",
     "iopub.status.idle": "2020-12-26T12:08:18.985205Z",
     "shell.execute_reply": "2020-12-26T12:08:18.984575Z"
    },
    "papermill": {
     "duration": 0.041366,
     "end_time": "2020-12-26T12:08:18.985334",
     "exception": false,
     "start_time": "2020-12-26T12:08:18.943968",
     "status": "completed"
    },
    "tags": []
   },
   "outputs": [],
   "source": [
    "# #hide\n",
    "# fig, ax = plt.subplots(figsize=(15, 8))\n",
    "\n",
    "# def draw_barchart(current_day):\n",
    "#     dff = g[g['day'].eq(current_day)].sort_values(by='value', ascending=True).tail(10)\n",
    "#     ax.clear()\n",
    "#     ax.barh(dff['name'], dff['value'], color=[colors[group_lk[x]] for x in dff['name']])\n",
    "#     dx = dff['value'].max() / 200\n",
    "    \n",
    "#     for i, (value, name) in enumerate(zip(dff['value'], dff['name'])):\n",
    "#         ax.text(value-dx, i,     name,           size=14, weight=600, ha='right', va='bottom')\n",
    "#         ax.text(value-dx, i-.25, group_lk[name], size=10, color='#444444', ha='right', va='baseline')\n",
    "#         ax.text(value+dx, i,     f'{value:,.0f}',  size=14, ha='left',  va='center')\n",
    "#     ax.text(1, 0.4, current_day, transform=ax.transAxes, color='#777777', size=46, ha='right', weight=800)\n",
    "#     ax.text(0, 1.06, 'Population (thousands)', transform=ax.transAxes, size=12, color='#777777')\n",
    "#     ax.xaxis.set_major_formatter(ticker.StrMethodFormatter('{x:,.0f}'))\n",
    "#     ax.xaxis.set_ticks_position('top')\n",
    "#     ax.tick_params(axis='x', colors='#777777', labelsize=12)\n",
    "#     ax.set_yticks([])\n",
    "#     ax.margins(0, 0.01)\n",
    "#     ax.grid(which='major', axis='x', linestyle='-')\n",
    "#     ax.set_axisbelow(True)\n",
    "    \n",
    "#     ax.text(0, 1.15, 'Coronavirus',\n",
    "#             transform=ax.transAxes, size=24, weight=600, ha='left', va='top')\n",
    "# #     ax.text(1, 0, 'by @pratapvardhan; credit @jburnmurdoch', transform=ax.transAxes, color='#777777', ha='right',\n",
    "# #             bbox=dict(facecolor='white', alpha=0.8, edgecolor='white'))\n",
    "#     plt.box(False)"
   ]
  },
  {
   "cell_type": "code",
   "execution_count": 42,
   "metadata": {
    "execution": {
     "iopub.execute_input": "2020-12-26T12:08:19.060756Z",
     "iopub.status.busy": "2020-12-26T12:08:19.060083Z",
     "iopub.status.idle": "2020-12-26T12:08:19.062423Z",
     "shell.execute_reply": "2020-12-26T12:08:19.063049Z"
    },
    "papermill": {
     "duration": 0.04393,
     "end_time": "2020-12-26T12:08:19.063196",
     "exception": false,
     "start_time": "2020-12-26T12:08:19.019266",
     "status": "completed"
    },
    "tags": []
   },
   "outputs": [],
   "source": [
    "# #hide_input\n",
    "# fig, ax = plt.subplots(figsize=(15, 8))\n",
    "# animator = animation.FuncAnimation(fig, draw_barchart, frames=range(g.day.values.min(), g.day.values.max()))\n",
    "# HTML(animator.to_jshtml())\n",
    "# # or use animator.to_html5_video() or animator.save() "
   ]
  },
  {
   "cell_type": "code",
   "execution_count": null,
   "metadata": {
    "papermill": {
     "duration": 0.034564,
     "end_time": "2020-12-26T12:08:19.130603",
     "exception": false,
     "start_time": "2020-12-26T12:08:19.096039",
     "status": "completed"
    },
    "tags": []
   },
   "outputs": [],
   "source": []
  },
  {
   "cell_type": "code",
   "execution_count": null,
   "metadata": {
    "papermill": {
     "duration": 0.034558,
     "end_time": "2020-12-26T12:08:19.199762",
     "exception": false,
     "start_time": "2020-12-26T12:08:19.165204",
     "status": "completed"
    },
    "tags": []
   },
   "outputs": [],
   "source": []
  },
  {
   "cell_type": "code",
   "execution_count": null,
   "metadata": {
    "papermill": {
     "duration": 0.033315,
     "end_time": "2020-12-26T12:08:19.268604",
     "exception": false,
     "start_time": "2020-12-26T12:08:19.235289",
     "status": "completed"
    },
    "tags": []
   },
   "outputs": [],
   "source": []
  }
 ],
 "metadata": {
  "kernelspec": {
   "display_name": "Python 3",
   "language": "python",
   "name": "python3"
  },
  "language_info": {
   "codemirror_mode": {
    "name": "ipython",
    "version": 3
   },
   "file_extension": ".py",
   "mimetype": "text/x-python",
   "name": "python",
   "nbconvert_exporter": "python",
   "pygments_lexer": "ipython3",
   "version": "3.6.12"
  },
  "papermill": {
   "duration": 9.390782,
   "end_time": "2020-12-26T12:08:20.555406",
   "environment_variables": {},
   "exception": null,
   "input_path": "2020-03-21-covid19exp.ipynb",
   "output_path": "2020-03-21-covid19exp.ipynb",
   "parameters": {},
   "start_time": "2020-12-26T12:08:11.164624",
   "version": "2.0.0"
  }
 },
 "nbformat": 4,
 "nbformat_minor": 4
}