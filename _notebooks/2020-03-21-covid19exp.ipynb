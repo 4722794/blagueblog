{
 "cells": [
  {
   "cell_type": "markdown",
   "metadata": {
    "papermill": {
     "duration": 0.034785,
     "end_time": "2021-01-05T00:24:04.339045",
     "exception": false,
     "start_time": "2021-01-05T00:24:04.304260",
     "status": "completed"
    },
    "tags": []
   },
   "source": [
    "# COVID-19 Case Race\n",
    "> A race chart to see rising cases around the world\n",
    "\n",
    "- author: Hargun Oberoi\n",
    "- image: images/covid-overview.png\n",
    "- hide: false\n",
    "- badges: false"
   ]
  },
  {
   "cell_type": "code",
   "execution_count": 1,
   "metadata": {
    "execution": {
     "iopub.execute_input": "2021-01-05T00:24:04.417465Z",
     "iopub.status.busy": "2021-01-05T00:24:04.416735Z",
     "iopub.status.idle": "2021-01-05T00:24:04.769807Z",
     "shell.execute_reply": "2021-01-05T00:24:04.769179Z"
    },
    "papermill": {
     "duration": 0.397708,
     "end_time": "2021-01-05T00:24:04.770001",
     "exception": false,
     "start_time": "2021-01-05T00:24:04.372293",
     "status": "completed"
    },
    "tags": []
   },
   "outputs": [],
   "source": [
    "#hide\n",
    "import numpy as np\n",
    "import pandas as pd\n",
    "from jinja2 import Template\n",
    "from IPython.display import HTML"
   ]
  },
  {
   "cell_type": "code",
   "execution_count": 2,
   "metadata": {
    "execution": {
     "iopub.execute_input": "2021-01-05T00:24:04.846671Z",
     "iopub.status.busy": "2021-01-05T00:24:04.845826Z",
     "iopub.status.idle": "2021-01-05T00:24:04.848355Z",
     "shell.execute_reply": "2021-01-05T00:24:04.847802Z"
    },
    "papermill": {
     "duration": 0.041054,
     "end_time": "2021-01-05T00:24:04.848480",
     "exception": false,
     "start_time": "2021-01-05T00:24:04.807426",
     "status": "completed"
    },
    "tags": []
   },
   "outputs": [],
   "source": [
    "#hide\n",
    "\n",
    "# FETCH\n",
    "base_url = 'https://raw.githubusercontent.com/pratapvardhan/notebooks/master/covid19/'\n",
    "paths = {\n",
    "    'mapping': base_url + 'mapping_countries.csv',\n",
    "    'overview': base_url + 'overview.tpl'\n",
    "}"
   ]
  },
  {
   "cell_type": "code",
   "execution_count": 3,
   "metadata": {
    "execution": {
     "iopub.execute_input": "2021-01-05T00:24:04.926762Z",
     "iopub.status.busy": "2021-01-05T00:24:04.926107Z",
     "iopub.status.idle": "2021-01-05T00:24:04.929486Z",
     "shell.execute_reply": "2021-01-05T00:24:04.928900Z"
    },
    "papermill": {
     "duration": 0.047062,
     "end_time": "2021-01-05T00:24:04.929616",
     "exception": false,
     "start_time": "2021-01-05T00:24:04.882554",
     "status": "completed"
    },
    "tags": []
   },
   "outputs": [
    {
     "data": {
      "text/plain": [
       "'https://raw.githubusercontent.com/pratapvardhan/notebooks/master/covid19/mapping_countries.csv'"
      ]
     },
     "execution_count": 3,
     "metadata": {},
     "output_type": "execute_result"
    }
   ],
   "source": [
    "#hide\n",
    "paths['mapping']"
   ]
  },
  {
   "cell_type": "code",
   "execution_count": 4,
   "metadata": {
    "execution": {
     "iopub.execute_input": "2021-01-05T00:24:05.001366Z",
     "iopub.status.busy": "2021-01-05T00:24:05.000702Z",
     "iopub.status.idle": "2021-01-05T00:24:05.003604Z",
     "shell.execute_reply": "2021-01-05T00:24:05.003104Z"
    },
    "papermill": {
     "duration": 0.039465,
     "end_time": "2021-01-05T00:24:05.003817",
     "exception": false,
     "start_time": "2021-01-05T00:24:04.964352",
     "status": "completed"
    },
    "tags": []
   },
   "outputs": [],
   "source": [
    "#hide\n",
    "def get_mappings(url):\n",
    "    df = pd.read_csv(url)\n",
    "    return {\n",
    "        'df': df,\n",
    "        'replace.country': dict(df.dropna(subset=['Name']).set_index('Country')['Name']),\n",
    "        'map.continent': dict(df.set_index('Name')['Continent'])\n",
    "    }"
   ]
  },
  {
   "cell_type": "code",
   "execution_count": 5,
   "metadata": {
    "execution": {
     "iopub.execute_input": "2021-01-05T00:24:05.075458Z",
     "iopub.status.busy": "2021-01-05T00:24:05.074797Z",
     "iopub.status.idle": "2021-01-05T00:24:05.139839Z",
     "shell.execute_reply": "2021-01-05T00:24:05.138993Z"
    },
    "papermill": {
     "duration": 0.103115,
     "end_time": "2021-01-05T00:24:05.139968",
     "exception": false,
     "start_time": "2021-01-05T00:24:05.036853",
     "status": "completed"
    },
    "tags": []
   },
   "outputs": [],
   "source": [
    "#hide\n",
    "mapping = get_mappings(paths['mapping'])"
   ]
  },
  {
   "cell_type": "code",
   "execution_count": 6,
   "metadata": {
    "execution": {
     "iopub.execute_input": "2021-01-05T00:24:05.210183Z",
     "iopub.status.busy": "2021-01-05T00:24:05.209558Z",
     "iopub.status.idle": "2021-01-05T00:24:05.211488Z",
     "shell.execute_reply": "2021-01-05T00:24:05.212015Z"
    },
    "papermill": {
     "duration": 0.038347,
     "end_time": "2021-01-05T00:24:05.212165",
     "exception": false,
     "start_time": "2021-01-05T00:24:05.173818",
     "status": "completed"
    },
    "tags": []
   },
   "outputs": [],
   "source": [
    "#hide\n",
    "def get_template(path):\n",
    "    from urllib.parse import urlparse\n",
    "    if bool(urlparse(path).netloc):\n",
    "        from urllib.request import urlopen\n",
    "        return urlopen(path).read().decode('utf8')\n",
    "    return open(path).read()"
   ]
  },
  {
   "cell_type": "code",
   "execution_count": 7,
   "metadata": {
    "execution": {
     "iopub.execute_input": "2021-01-05T00:24:05.279662Z",
     "iopub.status.busy": "2021-01-05T00:24:05.279067Z",
     "iopub.status.idle": "2021-01-05T00:24:05.281968Z",
     "shell.execute_reply": "2021-01-05T00:24:05.281380Z"
    },
    "papermill": {
     "duration": 0.039331,
     "end_time": "2021-01-05T00:24:05.282105",
     "exception": false,
     "start_time": "2021-01-05T00:24:05.242774",
     "status": "completed"
    },
    "tags": []
   },
   "outputs": [],
   "source": [
    "#hide\n",
    "def get_frame(name):\n",
    "    url = (\n",
    "        'https://raw.githubusercontent.com/CSSEGISandData/COVID-19/master/csse_covid_19_data/'\n",
    "        f'csse_covid_19_time_series/time_series_covid19_{name}_global.csv')\n",
    "    df = pd.read_csv(url)\n",
    "    # rename countries\n",
    "    df['Country/Region'] = df['Country/Region'].replace(mapping['replace.country'])\n",
    "    return df"
   ]
  },
  {
   "cell_type": "code",
   "execution_count": 8,
   "metadata": {
    "execution": {
     "iopub.execute_input": "2021-01-05T00:24:05.353037Z",
     "iopub.status.busy": "2021-01-05T00:24:05.352454Z",
     "iopub.status.idle": "2021-01-05T00:24:05.355271Z",
     "shell.execute_reply": "2021-01-05T00:24:05.354777Z"
    },
    "papermill": {
     "duration": 0.039223,
     "end_time": "2021-01-05T00:24:05.355388",
     "exception": false,
     "start_time": "2021-01-05T00:24:05.316165",
     "status": "completed"
    },
    "tags": []
   },
   "outputs": [],
   "source": [
    "#hide\n",
    "def get_dates(df):\n",
    "    dt_cols = df.columns[~df.columns.isin(['Province/State', 'Country/Region', 'Lat', 'Long'])]\n",
    "    LAST_DATE_I = -1\n",
    "    # sometimes last column may be empty, then go backwards\n",
    "    for i in range(-1, -len(dt_cols), -1):\n",
    "        if not df[dt_cols[i]].fillna(0).eq(0).all():\n",
    "            LAST_DATE_I = i\n",
    "            break\n",
    "    return LAST_DATE_I, dt_cols"
   ]
  },
  {
   "cell_type": "code",
   "execution_count": 9,
   "metadata": {
    "execution": {
     "iopub.execute_input": "2021-01-05T00:24:05.423987Z",
     "iopub.status.busy": "2021-01-05T00:24:05.423254Z",
     "iopub.status.idle": "2021-01-05T00:24:05.638457Z",
     "shell.execute_reply": "2021-01-05T00:24:05.637937Z"
    },
    "papermill": {
     "duration": 0.250943,
     "end_time": "2021-01-05T00:24:05.638600",
     "exception": false,
     "start_time": "2021-01-05T00:24:05.387657",
     "status": "completed"
    },
    "tags": []
   },
   "outputs": [],
   "source": [
    "#hide\n",
    "COL_REGION = 'Country/Region'\n",
    "# Confirmed, Recovered, Deaths\n",
    "df = get_frame('confirmed')\n",
    "# dft_: timeseries, dfc_: today country agg\n",
    "dft_cases = df\n",
    "dft_deaths = get_frame('deaths')\n",
    "dft_recovered = get_frame('recovered')\n",
    "LAST_DATE_I, dt_cols = get_dates(df)"
   ]
  },
  {
   "cell_type": "code",
   "execution_count": 10,
   "metadata": {
    "execution": {
     "iopub.execute_input": "2021-01-05T00:24:05.709337Z",
     "iopub.status.busy": "2021-01-05T00:24:05.708658Z",
     "iopub.status.idle": "2021-01-05T00:24:05.711201Z",
     "shell.execute_reply": "2021-01-05T00:24:05.710629Z"
    },
    "papermill": {
     "duration": 0.040501,
     "end_time": "2021-01-05T00:24:05.711364",
     "exception": false,
     "start_time": "2021-01-05T00:24:05.670863",
     "status": "completed"
    },
    "tags": []
   },
   "outputs": [],
   "source": [
    "#hide\n",
    "LAST_DATE_I, dt_cols = get_dates(df)\n",
    "dt_today =dt_cols[LAST_DATE_I]\n",
    "# dt_5day = dt_cols[LAST_DATE_I - 5]\n",
    "dt_yday = dt_cols[LAST_DATE_I - 1]"
   ]
  },
  {
   "cell_type": "code",
   "execution_count": 11,
   "metadata": {
    "execution": {
     "iopub.execute_input": "2021-01-05T00:24:05.780535Z",
     "iopub.status.busy": "2021-01-05T00:24:05.779869Z",
     "iopub.status.idle": "2021-01-05T00:24:05.789862Z",
     "shell.execute_reply": "2021-01-05T00:24:05.790900Z"
    },
    "papermill": {
     "duration": 0.047612,
     "end_time": "2021-01-05T00:24:05.791033",
     "exception": false,
     "start_time": "2021-01-05T00:24:05.743421",
     "status": "completed"
    },
    "tags": []
   },
   "outputs": [],
   "source": [
    "#hide\n",
    "dfc_cases = dft_cases.groupby(COL_REGION)[dt_today].sum()\n",
    "dfc_deaths = dft_deaths.groupby(COL_REGION)[dt_today].sum()\n",
    "# dfp_cases = dft_cases.groupby(COL_REGION)[dt_5day].sum()\n",
    "# dfp_deaths = dft_deaths.groupby(COL_REGION)[dt_5day].sum()\n",
    "dfp_cases = dft_cases.groupby(COL_REGION)[dt_yday].sum()\n",
    "dfp_deaths = dft_deaths.groupby(COL_REGION)[dt_yday].sum()"
   ]
  },
  {
   "cell_type": "code",
   "execution_count": 12,
   "metadata": {
    "execution": {
     "iopub.execute_input": "2021-01-05T00:24:05.866650Z",
     "iopub.status.busy": "2021-01-05T00:24:05.865977Z",
     "iopub.status.idle": "2021-01-05T00:24:05.870681Z",
     "shell.execute_reply": "2021-01-05T00:24:05.871188Z"
    },
    "papermill": {
     "duration": 0.044269,
     "end_time": "2021-01-05T00:24:05.871327",
     "exception": false,
     "start_time": "2021-01-05T00:24:05.827058",
     "status": "completed"
    },
    "tags": []
   },
   "outputs": [],
   "source": [
    "#hide\n",
    "df_table = (pd.DataFrame(dict(Cases = dfc_cases, Deaths = dfc_deaths, PCases = dfp_cases, PDeaths = dfp_deaths))\n",
    "            .sort_values(by = ['Cases','Deaths'], ascending = [False, False])\n",
    "            .reset_index())"
   ]
  },
  {
   "cell_type": "code",
   "execution_count": 13,
   "metadata": {
    "execution": {
     "iopub.execute_input": "2021-01-05T00:24:05.956356Z",
     "iopub.status.busy": "2021-01-05T00:24:05.955511Z",
     "iopub.status.idle": "2021-01-05T00:24:05.963469Z",
     "shell.execute_reply": "2021-01-05T00:24:05.963964Z"
    },
    "papermill": {
     "duration": 0.0617,
     "end_time": "2021-01-05T00:24:05.964121",
     "exception": false,
     "start_time": "2021-01-05T00:24:05.902421",
     "status": "completed"
    },
    "tags": []
   },
   "outputs": [
    {
     "data": {
      "text/html": [
       "<div>\n",
       "<style scoped>\n",
       "    .dataframe tbody tr th:only-of-type {\n",
       "        vertical-align: middle;\n",
       "    }\n",
       "\n",
       "    .dataframe tbody tr th {\n",
       "        vertical-align: top;\n",
       "    }\n",
       "\n",
       "    .dataframe thead th {\n",
       "        text-align: right;\n",
       "    }\n",
       "</style>\n",
       "<table border=\"1\" class=\"dataframe\">\n",
       "  <thead>\n",
       "    <tr style=\"text-align: right;\">\n",
       "      <th></th>\n",
       "      <th>Country/Region</th>\n",
       "      <th>Cases</th>\n",
       "      <th>Deaths</th>\n",
       "      <th>PCases</th>\n",
       "      <th>PDeaths</th>\n",
       "      <th>Cases (+)</th>\n",
       "      <th>Deaths (+)</th>\n",
       "      <th>Fatality Rate</th>\n",
       "      <th>Continent</th>\n",
       "    </tr>\n",
       "  </thead>\n",
       "  <tbody>\n",
       "    <tr>\n",
       "      <th>0</th>\n",
       "      <td>US</td>\n",
       "      <td>20636663</td>\n",
       "      <td>351580</td>\n",
       "      <td>20426184</td>\n",
       "      <td>350186</td>\n",
       "      <td>210479</td>\n",
       "      <td>1394</td>\n",
       "      <td>1.70</td>\n",
       "      <td>North America</td>\n",
       "    </tr>\n",
       "    <tr>\n",
       "      <th>1</th>\n",
       "      <td>India</td>\n",
       "      <td>10340469</td>\n",
       "      <td>149649</td>\n",
       "      <td>10323965</td>\n",
       "      <td>149435</td>\n",
       "      <td>16504</td>\n",
       "      <td>214</td>\n",
       "      <td>1.45</td>\n",
       "      <td>Asia</td>\n",
       "    </tr>\n",
       "    <tr>\n",
       "      <th>2</th>\n",
       "      <td>Brazil</td>\n",
       "      <td>7733746</td>\n",
       "      <td>196018</td>\n",
       "      <td>7716405</td>\n",
       "      <td>195725</td>\n",
       "      <td>17341</td>\n",
       "      <td>293</td>\n",
       "      <td>2.53</td>\n",
       "      <td>South America</td>\n",
       "    </tr>\n",
       "    <tr>\n",
       "      <th>3</th>\n",
       "      <td>Russia</td>\n",
       "      <td>3203743</td>\n",
       "      <td>57730</td>\n",
       "      <td>3179898</td>\n",
       "      <td>57235</td>\n",
       "      <td>23845</td>\n",
       "      <td>495</td>\n",
       "      <td>1.80</td>\n",
       "      <td>Europe</td>\n",
       "    </tr>\n",
       "    <tr>\n",
       "      <th>4</th>\n",
       "      <td>France</td>\n",
       "      <td>2712975</td>\n",
       "      <td>65164</td>\n",
       "      <td>2700480</td>\n",
       "      <td>65048</td>\n",
       "      <td>12495</td>\n",
       "      <td>116</td>\n",
       "      <td>2.40</td>\n",
       "      <td>Europe</td>\n",
       "    </tr>\n",
       "  </tbody>\n",
       "</table>\n",
       "</div>"
      ],
      "text/plain": [
       "  Country/Region     Cases  Deaths    PCases  PDeaths  Cases (+)  Deaths (+)  \\\n",
       "0             US  20636663  351580  20426184   350186     210479        1394   \n",
       "1          India  10340469  149649  10323965   149435      16504         214   \n",
       "2         Brazil   7733746  196018   7716405   195725      17341         293   \n",
       "3         Russia   3203743   57730   3179898    57235      23845         495   \n",
       "4         France   2712975   65164   2700480    65048      12495         116   \n",
       "\n",
       "   Fatality Rate      Continent  \n",
       "0           1.70  North America  \n",
       "1           1.45           Asia  \n",
       "2           2.53  South America  \n",
       "3           1.80         Europe  \n",
       "4           2.40         Europe  "
      ]
     },
     "execution_count": 13,
     "metadata": {},
     "output_type": "execute_result"
    }
   ],
   "source": [
    "#hide\n",
    "for c in 'Cases, Deaths'.split(', '):\n",
    "    df_table[f'{c} (+)'] = (df_table[c] - df_table[f'P{c}']).clip(0)\n",
    "    #Clip ça veut dire, les chiffres negatif sont interdit\n",
    "df_table['Fatality Rate'] = (100* df_table['Deaths']/ df_table['Cases']).round(2)\n",
    "df_table['Continent'] = df_table['Country/Region'].map(mapping['map.continent'])\n",
    "df_table.head(5)"
   ]
  },
  {
   "cell_type": "code",
   "execution_count": 14,
   "metadata": {
    "execution": {
     "iopub.execute_input": "2021-01-05T00:24:06.032495Z",
     "iopub.status.busy": "2021-01-05T00:24:06.031843Z",
     "iopub.status.idle": "2021-01-05T00:24:06.037096Z",
     "shell.execute_reply": "2021-01-05T00:24:06.037730Z"
    },
    "papermill": {
     "duration": 0.041686,
     "end_time": "2021-01-05T00:24:06.037888",
     "exception": false,
     "start_time": "2021-01-05T00:24:05.996202",
     "status": "completed"
    },
    "tags": []
   },
   "outputs": [],
   "source": [
    "#hide\n",
    "#delete problematic countries from table\n",
    "df_table = df_table[~df_table['Country/Region'].isin(['Cape Verde', 'Cruise Ship', 'Kosovo'])]"
   ]
  },
  {
   "cell_type": "code",
   "execution_count": 15,
   "metadata": {
    "execution": {
     "iopub.execute_input": "2021-01-05T00:24:06.114193Z",
     "iopub.status.busy": "2021-01-05T00:24:06.113535Z",
     "iopub.status.idle": "2021-01-05T00:24:06.134827Z",
     "shell.execute_reply": "2021-01-05T00:24:06.134326Z"
    },
    "papermill": {
     "duration": 0.062588,
     "end_time": "2021-01-05T00:24:06.134950",
     "exception": false,
     "start_time": "2021-01-05T00:24:06.072362",
     "status": "completed"
    },
    "tags": []
   },
   "outputs": [
    {
     "data": {
      "text/html": [
       "<div>\n",
       "<style scoped>\n",
       "    .dataframe tbody tr th:only-of-type {\n",
       "        vertical-align: middle;\n",
       "    }\n",
       "\n",
       "    .dataframe tbody tr th {\n",
       "        vertical-align: top;\n",
       "    }\n",
       "\n",
       "    .dataframe thead th {\n",
       "        text-align: right;\n",
       "    }\n",
       "</style>\n",
       "<table border=\"1\" class=\"dataframe\">\n",
       "  <thead>\n",
       "    <tr style=\"text-align: right;\">\n",
       "      <th></th>\n",
       "      <th>Country/Region</th>\n",
       "      <th>Cases</th>\n",
       "      <th>Deaths</th>\n",
       "      <th>PCases</th>\n",
       "      <th>PDeaths</th>\n",
       "      <th>Cases (+)</th>\n",
       "      <th>Deaths (+)</th>\n",
       "      <th>Fatality Rate</th>\n",
       "      <th>Continent</th>\n",
       "    </tr>\n",
       "  </thead>\n",
       "  <tbody>\n",
       "    <tr>\n",
       "      <th>0</th>\n",
       "      <td>US</td>\n",
       "      <td>20636663</td>\n",
       "      <td>351580</td>\n",
       "      <td>20426184</td>\n",
       "      <td>350186</td>\n",
       "      <td>210479</td>\n",
       "      <td>1394</td>\n",
       "      <td>1.7</td>\n",
       "      <td>North America</td>\n",
       "    </tr>\n",
       "    <tr>\n",
       "      <th>1</th>\n",
       "      <td>India</td>\n",
       "      <td>10340469</td>\n",
       "      <td>149649</td>\n",
       "      <td>10323965</td>\n",
       "      <td>149435</td>\n",
       "      <td>16504</td>\n",
       "      <td>214</td>\n",
       "      <td>1.4</td>\n",
       "      <td>Asia</td>\n",
       "    </tr>\n",
       "    <tr>\n",
       "      <th>2</th>\n",
       "      <td>Brazil</td>\n",
       "      <td>7733746</td>\n",
       "      <td>196018</td>\n",
       "      <td>7716405</td>\n",
       "      <td>195725</td>\n",
       "      <td>17341</td>\n",
       "      <td>293</td>\n",
       "      <td>2.5</td>\n",
       "      <td>South America</td>\n",
       "    </tr>\n",
       "    <tr>\n",
       "      <th>3</th>\n",
       "      <td>Russia</td>\n",
       "      <td>3203743</td>\n",
       "      <td>57730</td>\n",
       "      <td>3179898</td>\n",
       "      <td>57235</td>\n",
       "      <td>23845</td>\n",
       "      <td>495</td>\n",
       "      <td>1.8</td>\n",
       "      <td>Europe</td>\n",
       "    </tr>\n",
       "    <tr>\n",
       "      <th>4</th>\n",
       "      <td>France</td>\n",
       "      <td>2712975</td>\n",
       "      <td>65164</td>\n",
       "      <td>2700480</td>\n",
       "      <td>65048</td>\n",
       "      <td>12495</td>\n",
       "      <td>116</td>\n",
       "      <td>2.4</td>\n",
       "      <td>Europe</td>\n",
       "    </tr>\n",
       "  </tbody>\n",
       "</table>\n",
       "</div>"
      ],
      "text/plain": [
       "  Country/Region     Cases  Deaths    PCases  PDeaths  Cases (+)  Deaths (+)  \\\n",
       "0             US  20636663  351580  20426184   350186     210479        1394   \n",
       "1          India  10340469  149649  10323965   149435      16504         214   \n",
       "2         Brazil   7733746  196018   7716405   195725      17341         293   \n",
       "3         Russia   3203743   57730   3179898    57235      23845         495   \n",
       "4         France   2712975   65164   2700480    65048      12495         116   \n",
       "\n",
       "   Fatality Rate      Continent  \n",
       "0            1.7  North America  \n",
       "1            1.4           Asia  \n",
       "2            2.5  South America  \n",
       "3            1.8         Europe  \n",
       "4            2.4         Europe  "
      ]
     },
     "execution_count": 15,
     "metadata": {},
     "output_type": "execute_result"
    }
   ],
   "source": [
    "#hide\n",
    "df_table = (pd.DataFrame(dict(Cases=dfc_cases, Deaths=dfc_deaths, PCases=dfp_cases, PDeaths=dfp_deaths))\n",
    "             .sort_values(by=['Cases', 'Deaths'], ascending=[False, False])\n",
    "             .reset_index())\n",
    "df_table.rename(columns={'index': 'Country/Region'}, inplace=True)\n",
    "for c in 'Cases, Deaths'.split(', '):\n",
    "    df_table[f'{c} (+)'] = (df_table[c] - df_table[f'P{c}']).clip(0)  # DATA BUG\n",
    "df_table['Fatality Rate'] = (100 * df_table['Deaths'] / df_table['Cases']).round(1)\n",
    "df_table['Continent'] = df_table['Country/Region'].map(mapping['map.continent'])\n",
    "df_table.head(5)"
   ]
  },
  {
   "cell_type": "code",
   "execution_count": 16,
   "metadata": {
    "execution": {
     "iopub.execute_input": "2021-01-05T00:24:06.207613Z",
     "iopub.status.busy": "2021-01-05T00:24:06.206980Z",
     "iopub.status.idle": "2021-01-05T00:24:06.209416Z",
     "shell.execute_reply": "2021-01-05T00:24:06.208906Z"
    },
    "papermill": {
     "duration": 0.0405,
     "end_time": "2021-01-05T00:24:06.209544",
     "exception": false,
     "start_time": "2021-01-05T00:24:06.169044",
     "status": "completed"
    },
    "tags": []
   },
   "outputs": [],
   "source": [
    "#hide\n",
    "#delete problematic countries from table\n",
    "df_table = df_table[~df_table['Country/Region'].isin(['Cape Verde', 'Cruise Ship', 'Kosovo'])]"
   ]
  },
  {
   "cell_type": "code",
   "execution_count": 17,
   "metadata": {
    "execution": {
     "iopub.execute_input": "2021-01-05T00:24:06.282832Z",
     "iopub.status.busy": "2021-01-05T00:24:06.282183Z",
     "iopub.status.idle": "2021-01-05T00:24:06.296897Z",
     "shell.execute_reply": "2021-01-05T00:24:06.296398Z"
    },
    "papermill": {
     "duration": 0.054895,
     "end_time": "2021-01-05T00:24:06.297019",
     "exception": false,
     "start_time": "2021-01-05T00:24:06.242124",
     "status": "completed"
    },
    "tags": []
   },
   "outputs": [],
   "source": [
    "#hide\n",
    "metrics = [df_table.columns[index] for index in [1,2,5,6]]\n",
    "# s_china = df_table[df_table['Country/Region'].eq('China')][metrics].sum().add_prefix('China ')\n",
    "s_us = df_table[df_table['Country/Region'].eq('US')][metrics].sum().add_prefix('US ')\n",
    "s_eu = df_table[df_table['Continent'].eq('Europe')][metrics].sum().add_prefix('EU ')\n",
    "s_ind = df_table[df_table['Country/Region'].eq('India')][metrics].sum().add_prefix('India ')\n",
    "summary = {'updated': pd.to_datetime(dt_today), 'since': pd.to_datetime(dt_yday)}\n",
    "summary = {'updated': pd.to_datetime(dt_today), 'since': pd.to_datetime(dt_yday)}\n",
    "summary = {**summary, **df_table[metrics].sum(), **s_ind, **s_us, **s_eu}"
   ]
  },
  {
   "cell_type": "code",
   "execution_count": 18,
   "metadata": {
    "execution": {
     "iopub.execute_input": "2021-01-05T00:24:06.371563Z",
     "iopub.status.busy": "2021-01-05T00:24:06.370913Z",
     "iopub.status.idle": "2021-01-05T00:24:06.382377Z",
     "shell.execute_reply": "2021-01-05T00:24:06.381877Z"
    },
    "papermill": {
     "duration": 0.053736,
     "end_time": "2021-01-05T00:24:06.382503",
     "exception": false,
     "start_time": "2021-01-05T00:24:06.328767",
     "status": "completed"
    },
    "tags": []
   },
   "outputs": [],
   "source": [
    "#hide\n",
    "dft_ct_new_cases = dft_cases.groupby(COL_REGION)[dt_cols].sum().diff(axis=1).fillna(0).astype(int)"
   ]
  },
  {
   "cell_type": "code",
   "execution_count": 19,
   "metadata": {
    "execution": {
     "iopub.execute_input": "2021-01-05T00:24:06.451417Z",
     "iopub.status.busy": "2021-01-05T00:24:06.450840Z",
     "iopub.status.idle": "2021-01-05T00:24:06.453420Z",
     "shell.execute_reply": "2021-01-05T00:24:06.454008Z"
    },
    "papermill": {
     "duration": 0.039862,
     "end_time": "2021-01-05T00:24:06.454136",
     "exception": false,
     "start_time": "2021-01-05T00:24:06.414274",
     "status": "completed"
    },
    "tags": []
   },
   "outputs": [],
   "source": [
    "#hide\n",
    "everydaycases = dft_ct_new_cases.cumsum(axis=1)"
   ]
  },
  {
   "cell_type": "code",
   "execution_count": 20,
   "metadata": {
    "execution": {
     "iopub.execute_input": "2021-01-05T00:24:06.526142Z",
     "iopub.status.busy": "2021-01-05T00:24:06.525534Z",
     "iopub.status.idle": "2021-01-05T00:24:07.531622Z",
     "shell.execute_reply": "2021-01-05T00:24:07.531122Z"
    },
    "papermill": {
     "duration": 1.042386,
     "end_time": "2021-01-05T00:24:07.531757",
     "exception": false,
     "start_time": "2021-01-05T00:24:06.489371",
     "status": "completed"
    },
    "tags": []
   },
   "outputs": [],
   "source": [
    "#hide\n",
    "import pandas as pd\n",
    "import matplotlib.pyplot as plt\n",
    "import matplotlib.ticker as ticker\n",
    "import matplotlib.animation as animation\n",
    "from IPython.display import HTML"
   ]
  },
  {
   "cell_type": "code",
   "execution_count": 21,
   "metadata": {
    "execution": {
     "iopub.execute_input": "2021-01-05T00:24:07.604448Z",
     "iopub.status.busy": "2021-01-05T00:24:07.603876Z",
     "iopub.status.idle": "2021-01-05T00:24:07.608208Z",
     "shell.execute_reply": "2021-01-05T00:24:07.608759Z"
    },
    "papermill": {
     "duration": 0.042237,
     "end_time": "2021-01-05T00:24:07.608894",
     "exception": false,
     "start_time": "2021-01-05T00:24:07.566657",
     "status": "completed"
    },
    "tags": []
   },
   "outputs": [],
   "source": [
    "#hide\n",
    "t = everydaycases.stack()"
   ]
  },
  {
   "cell_type": "code",
   "execution_count": 22,
   "metadata": {
    "execution": {
     "iopub.execute_input": "2021-01-05T00:24:07.677129Z",
     "iopub.status.busy": "2021-01-05T00:24:07.676476Z",
     "iopub.status.idle": "2021-01-05T00:24:07.682751Z",
     "shell.execute_reply": "2021-01-05T00:24:07.683330Z"
    },
    "papermill": {
     "duration": 0.043188,
     "end_time": "2021-01-05T00:24:07.683473",
     "exception": false,
     "start_time": "2021-01-05T00:24:07.640285",
     "status": "completed"
    },
    "tags": []
   },
   "outputs": [],
   "source": [
    "#hide\n",
    "g = t.reset_index(['Country/Region'])"
   ]
  },
  {
   "cell_type": "code",
   "execution_count": 23,
   "metadata": {
    "execution": {
     "iopub.execute_input": "2021-01-05T00:24:07.752099Z",
     "iopub.status.busy": "2021-01-05T00:24:07.751411Z",
     "iopub.status.idle": "2021-01-05T00:24:07.753917Z",
     "shell.execute_reply": "2021-01-05T00:24:07.753258Z"
    },
    "papermill": {
     "duration": 0.03797,
     "end_time": "2021-01-05T00:24:07.754040",
     "exception": false,
     "start_time": "2021-01-05T00:24:07.716070",
     "status": "completed"
    },
    "tags": []
   },
   "outputs": [],
   "source": [
    "#hide\n",
    "g.index.name = 'date'"
   ]
  },
  {
   "cell_type": "code",
   "execution_count": 24,
   "metadata": {
    "execution": {
     "iopub.execute_input": "2021-01-05T00:24:07.827630Z",
     "iopub.status.busy": "2021-01-05T00:24:07.827002Z",
     "iopub.status.idle": "2021-01-05T00:24:07.829135Z",
     "shell.execute_reply": "2021-01-05T00:24:07.829642Z"
    },
    "papermill": {
     "duration": 0.041772,
     "end_time": "2021-01-05T00:24:07.829827",
     "exception": false,
     "start_time": "2021-01-05T00:24:07.788055",
     "status": "completed"
    },
    "tags": []
   },
   "outputs": [],
   "source": [
    "# #hide\n",
    "# g = g.reset_index(['date'])"
   ]
  },
  {
   "cell_type": "code",
   "execution_count": 25,
   "metadata": {
    "execution": {
     "iopub.execute_input": "2021-01-05T00:24:07.906363Z",
     "iopub.status.busy": "2021-01-05T00:24:07.905736Z",
     "iopub.status.idle": "2021-01-05T00:24:07.908280Z",
     "shell.execute_reply": "2021-01-05T00:24:07.907735Z"
    },
    "papermill": {
     "duration": 0.046096,
     "end_time": "2021-01-05T00:24:07.908411",
     "exception": false,
     "start_time": "2021-01-05T00:24:07.862315",
     "status": "completed"
    },
    "tags": []
   },
   "outputs": [],
   "source": [
    "#hide\n",
    "# g.head()"
   ]
  },
  {
   "cell_type": "code",
   "execution_count": 26,
   "metadata": {
    "execution": {
     "iopub.execute_input": "2021-01-05T00:24:07.977846Z",
     "iopub.status.busy": "2021-01-05T00:24:07.977145Z",
     "iopub.status.idle": "2021-01-05T00:24:07.979326Z",
     "shell.execute_reply": "2021-01-05T00:24:07.979861Z"
    },
    "papermill": {
     "duration": 0.036974,
     "end_time": "2021-01-05T00:24:07.980008",
     "exception": false,
     "start_time": "2021-01-05T00:24:07.943034",
     "status": "completed"
    },
    "tags": []
   },
   "outputs": [],
   "source": [
    "#hide\n",
    "# g.columns = ['date','country','cases']"
   ]
  },
  {
   "cell_type": "code",
   "execution_count": 27,
   "metadata": {
    "execution": {
     "iopub.execute_input": "2021-01-05T00:24:08.045817Z",
     "iopub.status.busy": "2021-01-05T00:24:08.045205Z",
     "iopub.status.idle": "2021-01-05T00:24:08.046952Z",
     "shell.execute_reply": "2021-01-05T00:24:08.047525Z"
    },
    "papermill": {
     "duration": 0.036973,
     "end_time": "2021-01-05T00:24:08.047695",
     "exception": false,
     "start_time": "2021-01-05T00:24:08.010722",
     "status": "completed"
    },
    "tags": []
   },
   "outputs": [],
   "source": [
    "#hide\n",
    "# g['continent'] = g.country"
   ]
  },
  {
   "cell_type": "code",
   "execution_count": 28,
   "metadata": {
    "execution": {
     "iopub.execute_input": "2021-01-05T00:24:08.116999Z",
     "iopub.status.busy": "2021-01-05T00:24:08.116370Z",
     "iopub.status.idle": "2021-01-05T00:24:08.118868Z",
     "shell.execute_reply": "2021-01-05T00:24:08.118300Z"
    },
    "papermill": {
     "duration": 0.039685,
     "end_time": "2021-01-05T00:24:08.119002",
     "exception": false,
     "start_time": "2021-01-05T00:24:08.079317",
     "status": "completed"
    },
    "tags": []
   },
   "outputs": [],
   "source": [
    "#hide\n",
    "# cols = list(g.columns.values)"
   ]
  },
  {
   "cell_type": "code",
   "execution_count": 29,
   "metadata": {
    "execution": {
     "iopub.execute_input": "2021-01-05T00:24:08.188479Z",
     "iopub.status.busy": "2021-01-05T00:24:08.187824Z",
     "iopub.status.idle": "2021-01-05T00:24:08.189358Z",
     "shell.execute_reply": "2021-01-05T00:24:08.189965Z"
    },
    "papermill": {
     "duration": 0.037419,
     "end_time": "2021-01-05T00:24:08.190137",
     "exception": false,
     "start_time": "2021-01-05T00:24:08.152718",
     "status": "completed"
    },
    "tags": []
   },
   "outputs": [],
   "source": [
    "#hide\n",
    "# cols.insert(0, cols.pop())"
   ]
  },
  {
   "cell_type": "code",
   "execution_count": 30,
   "metadata": {
    "execution": {
     "iopub.execute_input": "2021-01-05T00:24:08.271352Z",
     "iopub.status.busy": "2021-01-05T00:24:08.270677Z",
     "iopub.status.idle": "2021-01-05T00:24:08.272588Z",
     "shell.execute_reply": "2021-01-05T00:24:08.273081Z"
    },
    "papermill": {
     "duration": 0.039288,
     "end_time": "2021-01-05T00:24:08.273244",
     "exception": false,
     "start_time": "2021-01-05T00:24:08.233956",
     "status": "completed"
    },
    "tags": []
   },
   "outputs": [],
   "source": [
    "#hide\n",
    "# g = g[cols]"
   ]
  },
  {
   "cell_type": "code",
   "execution_count": 31,
   "metadata": {
    "execution": {
     "iopub.execute_input": "2021-01-05T00:24:08.343090Z",
     "iopub.status.busy": "2021-01-05T00:24:08.342283Z",
     "iopub.status.idle": "2021-01-05T00:24:08.345247Z",
     "shell.execute_reply": "2021-01-05T00:24:08.344552Z"
    },
    "papermill": {
     "duration": 0.039354,
     "end_time": "2021-01-05T00:24:08.345396",
     "exception": false,
     "start_time": "2021-01-05T00:24:08.306042",
     "status": "completed"
    },
    "tags": []
   },
   "outputs": [],
   "source": [
    "#hide\n",
    "# g['continent'] = g['continent'].map(mapping['map.continent'])"
   ]
  },
  {
   "cell_type": "code",
   "execution_count": 32,
   "metadata": {
    "execution": {
     "iopub.execute_input": "2021-01-05T00:24:08.418552Z",
     "iopub.status.busy": "2021-01-05T00:24:08.417965Z",
     "iopub.status.idle": "2021-01-05T00:24:08.420314Z",
     "shell.execute_reply": "2021-01-05T00:24:08.419715Z"
    },
    "papermill": {
     "duration": 0.039419,
     "end_time": "2021-01-05T00:24:08.420453",
     "exception": false,
     "start_time": "2021-01-05T00:24:08.381034",
     "status": "completed"
    },
    "tags": []
   },
   "outputs": [],
   "source": [
    "#hide\n",
    "# g.head()"
   ]
  },
  {
   "cell_type": "code",
   "execution_count": 33,
   "metadata": {
    "execution": {
     "iopub.execute_input": "2021-01-05T00:24:08.491607Z",
     "iopub.status.busy": "2021-01-05T00:24:08.491017Z",
     "iopub.status.idle": "2021-01-05T00:24:08.492771Z",
     "shell.execute_reply": "2021-01-05T00:24:08.493277Z"
    },
    "papermill": {
     "duration": 0.038987,
     "end_time": "2021-01-05T00:24:08.493432",
     "exception": false,
     "start_time": "2021-01-05T00:24:08.454445",
     "status": "completed"
    },
    "tags": []
   },
   "outputs": [],
   "source": [
    "# hide\n",
    "# g['date'] = g['date'].astype('datetime64[ns]')"
   ]
  },
  {
   "cell_type": "code",
   "execution_count": 34,
   "metadata": {
    "execution": {
     "iopub.execute_input": "2021-01-05T00:24:08.562542Z",
     "iopub.status.busy": "2021-01-05T00:24:08.561958Z",
     "iopub.status.idle": "2021-01-05T00:24:08.564387Z",
     "shell.execute_reply": "2021-01-05T00:24:08.563809Z"
    },
    "papermill": {
     "duration": 0.038914,
     "end_time": "2021-01-05T00:24:08.564510",
     "exception": false,
     "start_time": "2021-01-05T00:24:08.525596",
     "status": "completed"
    },
    "tags": []
   },
   "outputs": [],
   "source": [
    "#hide\n",
    "# g['date'] = g.date.dt.dayofyear"
   ]
  },
  {
   "cell_type": "code",
   "execution_count": 35,
   "metadata": {
    "execution": {
     "iopub.execute_input": "2021-01-05T00:24:08.635067Z",
     "iopub.status.busy": "2021-01-05T00:24:08.634425Z",
     "iopub.status.idle": "2021-01-05T00:24:08.636984Z",
     "shell.execute_reply": "2021-01-05T00:24:08.636508Z"
    },
    "papermill": {
     "duration": 0.037714,
     "end_time": "2021-01-05T00:24:08.637105",
     "exception": false,
     "start_time": "2021-01-05T00:24:08.599391",
     "status": "completed"
    },
    "tags": []
   },
   "outputs": [],
   "source": [
    "#hide\n",
    "# g = g.rename(columns= {'continent':'group','country':'name','cases':'value'})"
   ]
  },
  {
   "cell_type": "code",
   "execution_count": 36,
   "metadata": {
    "execution": {
     "iopub.execute_input": "2021-01-05T00:24:08.708545Z",
     "iopub.status.busy": "2021-01-05T00:24:08.707878Z",
     "iopub.status.idle": "2021-01-05T00:24:08.709804Z",
     "shell.execute_reply": "2021-01-05T00:24:08.710392Z"
    },
    "papermill": {
     "duration": 0.039336,
     "end_time": "2021-01-05T00:24:08.710546",
     "exception": false,
     "start_time": "2021-01-05T00:24:08.671210",
     "status": "completed"
    },
    "tags": []
   },
   "outputs": [],
   "source": [
    "#hide\n",
    "# cols = ['name','group','day','value']"
   ]
  },
  {
   "cell_type": "code",
   "execution_count": 37,
   "metadata": {
    "execution": {
     "iopub.execute_input": "2021-01-05T00:24:08.783339Z",
     "iopub.status.busy": "2021-01-05T00:24:08.782698Z",
     "iopub.status.idle": "2021-01-05T00:24:08.785631Z",
     "shell.execute_reply": "2021-01-05T00:24:08.784961Z"
    },
    "papermill": {
     "duration": 0.041227,
     "end_time": "2021-01-05T00:24:08.785766",
     "exception": false,
     "start_time": "2021-01-05T00:24:08.744539",
     "status": "completed"
    },
    "tags": []
   },
   "outputs": [],
   "source": [
    "#hide\n",
    "# g.rename(columns= {'date':'day'},inplace = True)"
   ]
  },
  {
   "cell_type": "code",
   "execution_count": 38,
   "metadata": {
    "execution": {
     "iopub.execute_input": "2021-01-05T00:24:08.859649Z",
     "iopub.status.busy": "2021-01-05T00:24:08.859011Z",
     "iopub.status.idle": "2021-01-05T00:24:08.861545Z",
     "shell.execute_reply": "2021-01-05T00:24:08.860953Z"
    },
    "papermill": {
     "duration": 0.040232,
     "end_time": "2021-01-05T00:24:08.861694",
     "exception": false,
     "start_time": "2021-01-05T00:24:08.821462",
     "status": "completed"
    },
    "tags": []
   },
   "outputs": [],
   "source": [
    "#hide\n",
    "# g = g[cols]"
   ]
  },
  {
   "cell_type": "code",
   "execution_count": 39,
   "metadata": {
    "execution": {
     "iopub.execute_input": "2021-01-05T00:24:08.935914Z",
     "iopub.status.busy": "2021-01-05T00:24:08.935260Z",
     "iopub.status.idle": "2021-01-05T00:24:08.937674Z",
     "shell.execute_reply": "2021-01-05T00:24:08.937001Z"
    },
    "papermill": {
     "duration": 0.04037,
     "end_time": "2021-01-05T00:24:08.937800",
     "exception": false,
     "start_time": "2021-01-05T00:24:08.897430",
     "status": "completed"
    },
    "tags": []
   },
   "outputs": [],
   "source": [
    "# #hide\n",
    "# g = g[g.group.notna()]"
   ]
  },
  {
   "cell_type": "code",
   "execution_count": 40,
   "metadata": {
    "execution": {
     "iopub.execute_input": "2021-01-05T00:24:09.005747Z",
     "iopub.status.busy": "2021-01-05T00:24:09.005090Z",
     "iopub.status.idle": "2021-01-05T00:24:09.007483Z",
     "shell.execute_reply": "2021-01-05T00:24:09.006914Z"
    },
    "papermill": {
     "duration": 0.038133,
     "end_time": "2021-01-05T00:24:09.007603",
     "exception": false,
     "start_time": "2021-01-05T00:24:08.969470",
     "status": "completed"
    },
    "tags": []
   },
   "outputs": [],
   "source": [
    "# #hide\n",
    "# colors = dict(zip(\n",
    "#     [\"Oceania\", \"Europe\", \"Asia\", \"South America\", \"Middle East\", \"North America\", \"Africa\"],\n",
    "#     [\"#adb0ff\", \"#ffb3ff\", \"#90d595\", \"#e48381\", \"#aafbff\", \"#f7bb5f\", \"#eafb50\"]\n",
    "# ))\n",
    "# group_lk = g.set_index('name')['group'].to_dict()"
   ]
  },
  {
   "cell_type": "code",
   "execution_count": null,
   "metadata": {
    "papermill": {
     "duration": 0.032601,
     "end_time": "2021-01-05T00:24:09.071869",
     "exception": false,
     "start_time": "2021-01-05T00:24:09.039268",
     "status": "completed"
    },
    "tags": []
   },
   "outputs": [],
   "source": []
  },
  {
   "cell_type": "code",
   "execution_count": 41,
   "metadata": {
    "execution": {
     "iopub.execute_input": "2021-01-05T00:24:09.142060Z",
     "iopub.status.busy": "2021-01-05T00:24:09.141073Z",
     "iopub.status.idle": "2021-01-05T00:24:09.143437Z",
     "shell.execute_reply": "2021-01-05T00:24:09.144052Z"
    },
    "papermill": {
     "duration": 0.038605,
     "end_time": "2021-01-05T00:24:09.144192",
     "exception": false,
     "start_time": "2021-01-05T00:24:09.105587",
     "status": "completed"
    },
    "tags": []
   },
   "outputs": [],
   "source": [
    "# #hide\n",
    "# fig, ax = plt.subplots(figsize=(15, 8))\n",
    "\n",
    "# def draw_barchart(current_day):\n",
    "#     dff = g[g['day'].eq(current_day)].sort_values(by='value', ascending=True).tail(10)\n",
    "#     ax.clear()\n",
    "#     ax.barh(dff['name'], dff['value'], color=[colors[group_lk[x]] for x in dff['name']])\n",
    "#     dx = dff['value'].max() / 200\n",
    "    \n",
    "#     for i, (value, name) in enumerate(zip(dff['value'], dff['name'])):\n",
    "#         ax.text(value-dx, i,     name,           size=14, weight=600, ha='right', va='bottom')\n",
    "#         ax.text(value-dx, i-.25, group_lk[name], size=10, color='#444444', ha='right', va='baseline')\n",
    "#         ax.text(value+dx, i,     f'{value:,.0f}',  size=14, ha='left',  va='center')\n",
    "#     ax.text(1, 0.4, current_day, transform=ax.transAxes, color='#777777', size=46, ha='right', weight=800)\n",
    "#     ax.text(0, 1.06, 'Population (thousands)', transform=ax.transAxes, size=12, color='#777777')\n",
    "#     ax.xaxis.set_major_formatter(ticker.StrMethodFormatter('{x:,.0f}'))\n",
    "#     ax.xaxis.set_ticks_position('top')\n",
    "#     ax.tick_params(axis='x', colors='#777777', labelsize=12)\n",
    "#     ax.set_yticks([])\n",
    "#     ax.margins(0, 0.01)\n",
    "#     ax.grid(which='major', axis='x', linestyle='-')\n",
    "#     ax.set_axisbelow(True)\n",
    "    \n",
    "#     ax.text(0, 1.15, 'Coronavirus',\n",
    "#             transform=ax.transAxes, size=24, weight=600, ha='left', va='top')\n",
    "# #     ax.text(1, 0, 'by @pratapvardhan; credit @jburnmurdoch', transform=ax.transAxes, color='#777777', ha='right',\n",
    "# #             bbox=dict(facecolor='white', alpha=0.8, edgecolor='white'))\n",
    "#     plt.box(False)"
   ]
  },
  {
   "cell_type": "code",
   "execution_count": 42,
   "metadata": {
    "execution": {
     "iopub.execute_input": "2021-01-05T00:24:09.209934Z",
     "iopub.status.busy": "2021-01-05T00:24:09.209248Z",
     "iopub.status.idle": "2021-01-05T00:24:09.211216Z",
     "shell.execute_reply": "2021-01-05T00:24:09.211660Z"
    },
    "papermill": {
     "duration": 0.036756,
     "end_time": "2021-01-05T00:24:09.211796",
     "exception": false,
     "start_time": "2021-01-05T00:24:09.175040",
     "status": "completed"
    },
    "tags": []
   },
   "outputs": [],
   "source": [
    "# #hide_input\n",
    "# fig, ax = plt.subplots(figsize=(15, 8))\n",
    "# animator = animation.FuncAnimation(fig, draw_barchart, frames=range(g.day.values.min(), g.day.values.max()))\n",
    "# HTML(animator.to_jshtml())\n",
    "# # or use animator.to_html5_video() or animator.save() "
   ]
  },
  {
   "cell_type": "code",
   "execution_count": null,
   "metadata": {
    "papermill": {
     "duration": 0.031209,
     "end_time": "2021-01-05T00:24:09.274642",
     "exception": false,
     "start_time": "2021-01-05T00:24:09.243433",
     "status": "completed"
    },
    "tags": []
   },
   "outputs": [],
   "source": []
  },
  {
   "cell_type": "code",
   "execution_count": null,
   "metadata": {
    "papermill": {
     "duration": 0.031882,
     "end_time": "2021-01-05T00:24:09.337946",
     "exception": false,
     "start_time": "2021-01-05T00:24:09.306064",
     "status": "completed"
    },
    "tags": []
   },
   "outputs": [],
   "source": []
  },
  {
   "cell_type": "code",
   "execution_count": null,
   "metadata": {
    "papermill": {
     "duration": 0.034088,
     "end_time": "2021-01-05T00:24:09.402703",
     "exception": false,
     "start_time": "2021-01-05T00:24:09.368615",
     "status": "completed"
    },
    "tags": []
   },
   "outputs": [],
   "source": []
  }
 ],
 "metadata": {
  "kernelspec": {
   "display_name": "Python 3",
   "language": "python",
   "name": "python3"
  },
  "language_info": {
   "codemirror_mode": {
    "name": "ipython",
    "version": 3
   },
   "file_extension": ".py",
   "mimetype": "text/x-python",
   "name": "python",
   "nbconvert_exporter": "python",
   "pygments_lexer": "ipython3",
   "version": "3.6.12"
  },
  "papermill": {
   "duration": 6.584135,
   "end_time": "2021-01-05T00:24:09.743008",
   "environment_variables": {},
   "exception": null,
   "input_path": "2020-03-21-covid19exp.ipynb",
   "output_path": "2020-03-21-covid19exp.ipynb",
   "parameters": {},
   "start_time": "2021-01-05T00:24:03.158873",
   "version": "2.0.0"
  }
 },
 "nbformat": 4,
 "nbformat_minor": 4
}