{
 "cells": [
  {
   "cell_type": "markdown",
   "id": "muslim-click",
   "metadata": {
    "papermill": {
     "duration": 0.035222,
     "end_time": "2022-09-10T12:17:18.190296",
     "exception": false,
     "start_time": "2022-09-10T12:17:18.155074",
     "status": "completed"
    },
    "tags": []
   },
   "source": [
    "# COVID-19 Case Race\n",
    "> A race chart to see rising cases around the world\n",
    "\n",
    "- author: Hargun Oberoi\n",
    "- image: images/covid-overview.png\n",
    "- hide: false\n",
    "- badges: false"
   ]
  },
  {
   "cell_type": "code",
   "execution_count": 1,
   "id": "proof-material",
   "metadata": {
    "execution": {
     "iopub.execute_input": "2022-09-10T12:17:18.261505Z",
     "iopub.status.busy": "2022-09-10T12:17:18.260902Z",
     "iopub.status.idle": "2022-09-10T12:17:18.593013Z",
     "shell.execute_reply": "2022-09-10T12:17:18.592070Z"
    },
    "papermill": {
     "duration": 0.372677,
     "end_time": "2022-09-10T12:17:18.593169",
     "exception": false,
     "start_time": "2022-09-10T12:17:18.220492",
     "status": "completed"
    },
    "tags": []
   },
   "outputs": [],
   "source": [
    "#hide\n",
    "import numpy as np\n",
    "import pandas as pd\n",
    "from jinja2 import Template\n",
    "from IPython.display import HTML"
   ]
  },
  {
   "cell_type": "code",
   "execution_count": 2,
   "id": "developed-terminology",
   "metadata": {
    "execution": {
     "iopub.execute_input": "2022-09-10T12:17:18.657490Z",
     "iopub.status.busy": "2022-09-10T12:17:18.656808Z",
     "iopub.status.idle": "2022-09-10T12:17:18.659342Z",
     "shell.execute_reply": "2022-09-10T12:17:18.658703Z"
    },
    "papermill": {
     "duration": 0.036265,
     "end_time": "2022-09-10T12:17:18.659463",
     "exception": false,
     "start_time": "2022-09-10T12:17:18.623198",
     "status": "completed"
    },
    "tags": []
   },
   "outputs": [],
   "source": [
    "#hide\n",
    "\n",
    "# FETCH\n",
    "base_url = 'https://raw.githubusercontent.com/pratapvardhan/notebooks/master/covid19/'\n",
    "paths = {\n",
    "    'mapping': base_url + 'mapping_countries.csv',\n",
    "    'overview': base_url + 'overview.tpl'\n",
    "}"
   ]
  },
  {
   "cell_type": "code",
   "execution_count": 3,
   "id": "dynamic-saver",
   "metadata": {
    "execution": {
     "iopub.execute_input": "2022-09-10T12:17:18.728618Z",
     "iopub.status.busy": "2022-09-10T12:17:18.726325Z",
     "iopub.status.idle": "2022-09-10T12:17:18.731953Z",
     "shell.execute_reply": "2022-09-10T12:17:18.731488Z"
    },
    "papermill": {
     "duration": 0.04249,
     "end_time": "2022-09-10T12:17:18.732084",
     "exception": false,
     "start_time": "2022-09-10T12:17:18.689594",
     "status": "completed"
    },
    "tags": []
   },
   "outputs": [
    {
     "data": {
      "text/plain": [
       "'https://raw.githubusercontent.com/pratapvardhan/notebooks/master/covid19/mapping_countries.csv'"
      ]
     },
     "execution_count": 3,
     "metadata": {},
     "output_type": "execute_result"
    }
   ],
   "source": [
    "#hide\n",
    "paths['mapping']"
   ]
  },
  {
   "cell_type": "code",
   "execution_count": 4,
   "id": "urban-software",
   "metadata": {
    "execution": {
     "iopub.execute_input": "2022-09-10T12:17:18.796517Z",
     "iopub.status.busy": "2022-09-10T12:17:18.795828Z",
     "iopub.status.idle": "2022-09-10T12:17:18.797889Z",
     "shell.execute_reply": "2022-09-10T12:17:18.798367Z"
    },
    "papermill": {
     "duration": 0.036774,
     "end_time": "2022-09-10T12:17:18.798499",
     "exception": false,
     "start_time": "2022-09-10T12:17:18.761725",
     "status": "completed"
    },
    "tags": []
   },
   "outputs": [],
   "source": [
    "#hide\n",
    "def get_mappings(url):\n",
    "    df = pd.read_csv(url)\n",
    "    return {\n",
    "        'df': df,\n",
    "        'replace.country': dict(df.dropna(subset=['Name']).set_index('Country')['Name']),\n",
    "        'map.continent': dict(df.set_index('Name')['Continent'])\n",
    "    }"
   ]
  },
  {
   "cell_type": "code",
   "execution_count": 5,
   "id": "intimate-machinery",
   "metadata": {
    "execution": {
     "iopub.execute_input": "2022-09-10T12:17:18.862972Z",
     "iopub.status.busy": "2022-09-10T12:17:18.862395Z",
     "iopub.status.idle": "2022-09-10T12:17:18.901825Z",
     "shell.execute_reply": "2022-09-10T12:17:18.901298Z"
    },
    "papermill": {
     "duration": 0.074034,
     "end_time": "2022-09-10T12:17:18.901942",
     "exception": false,
     "start_time": "2022-09-10T12:17:18.827908",
     "status": "completed"
    },
    "tags": []
   },
   "outputs": [],
   "source": [
    "#hide\n",
    "mapping = get_mappings(paths['mapping'])"
   ]
  },
  {
   "cell_type": "code",
   "execution_count": 6,
   "id": "certified-tactics",
   "metadata": {
    "execution": {
     "iopub.execute_input": "2022-09-10T12:17:18.967658Z",
     "iopub.status.busy": "2022-09-10T12:17:18.966971Z",
     "iopub.status.idle": "2022-09-10T12:17:18.969448Z",
     "shell.execute_reply": "2022-09-10T12:17:18.968816Z"
    },
    "papermill": {
     "duration": 0.037074,
     "end_time": "2022-09-10T12:17:18.969567",
     "exception": false,
     "start_time": "2022-09-10T12:17:18.932493",
     "status": "completed"
    },
    "tags": []
   },
   "outputs": [],
   "source": [
    "#hide\n",
    "def get_template(path):\n",
    "    from urllib.parse import urlparse\n",
    "    if bool(urlparse(path).netloc):\n",
    "        from urllib.request import urlopen\n",
    "        return urlopen(path).read().decode('utf8')\n",
    "    return open(path).read()"
   ]
  },
  {
   "cell_type": "code",
   "execution_count": 7,
   "id": "realistic-blast",
   "metadata": {
    "execution": {
     "iopub.execute_input": "2022-09-10T12:17:19.033785Z",
     "iopub.status.busy": "2022-09-10T12:17:19.033217Z",
     "iopub.status.idle": "2022-09-10T12:17:19.035292Z",
     "shell.execute_reply": "2022-09-10T12:17:19.035756Z"
    },
    "papermill": {
     "duration": 0.036488,
     "end_time": "2022-09-10T12:17:19.035871",
     "exception": false,
     "start_time": "2022-09-10T12:17:18.999383",
     "status": "completed"
    },
    "tags": []
   },
   "outputs": [],
   "source": [
    "#hide\n",
    "def get_frame(name):\n",
    "    url = (\n",
    "        'https://raw.githubusercontent.com/CSSEGISandData/COVID-19/master/csse_covid_19_data/'\n",
    "        f'csse_covid_19_time_series/time_series_covid19_{name}_global.csv')\n",
    "    df = pd.read_csv(url)\n",
    "    # rename countries\n",
    "    df['Country/Region'] = df['Country/Region'].replace(mapping['replace.country'])\n",
    "    return df"
   ]
  },
  {
   "cell_type": "code",
   "execution_count": 8,
   "id": "affiliated-characterization",
   "metadata": {
    "execution": {
     "iopub.execute_input": "2022-09-10T12:17:19.102818Z",
     "iopub.status.busy": "2022-09-10T12:17:19.102106Z",
     "iopub.status.idle": "2022-09-10T12:17:19.104695Z",
     "shell.execute_reply": "2022-09-10T12:17:19.104157Z"
    },
    "papermill": {
     "duration": 0.039297,
     "end_time": "2022-09-10T12:17:19.104807",
     "exception": false,
     "start_time": "2022-09-10T12:17:19.065510",
     "status": "completed"
    },
    "tags": []
   },
   "outputs": [],
   "source": [
    "#hide\n",
    "def get_dates(df):\n",
    "    dt_cols = df.columns[~df.columns.isin(['Province/State', 'Country/Region', 'Lat', 'Long'])]\n",
    "    LAST_DATE_I = -1\n",
    "    # sometimes last column may be empty, then go backwards\n",
    "    for i in range(-1, -len(dt_cols), -1):\n",
    "        if not df[dt_cols[i]].fillna(0).eq(0).all():\n",
    "            LAST_DATE_I = i\n",
    "            break\n",
    "    return LAST_DATE_I, dt_cols"
   ]
  },
  {
   "cell_type": "code",
   "execution_count": 9,
   "id": "recent-optimization",
   "metadata": {
    "execution": {
     "iopub.execute_input": "2022-09-10T12:17:19.170491Z",
     "iopub.status.busy": "2022-09-10T12:17:19.169879Z",
     "iopub.status.idle": "2022-09-10T12:17:19.656351Z",
     "shell.execute_reply": "2022-09-10T12:17:19.655303Z"
    },
    "papermill": {
     "duration": 0.521869,
     "end_time": "2022-09-10T12:17:19.656496",
     "exception": false,
     "start_time": "2022-09-10T12:17:19.134627",
     "status": "completed"
    },
    "tags": []
   },
   "outputs": [],
   "source": [
    "#hide\n",
    "COL_REGION = 'Country/Region'\n",
    "# Confirmed, Recovered, Deaths\n",
    "df = get_frame('confirmed')\n",
    "# dft_: timeseries, dfc_: today country agg\n",
    "dft_cases = df\n",
    "dft_deaths = get_frame('deaths')\n",
    "dft_recovered = get_frame('recovered')\n",
    "LAST_DATE_I, dt_cols = get_dates(df)"
   ]
  },
  {
   "cell_type": "code",
   "execution_count": 10,
   "id": "absolute-copper",
   "metadata": {
    "execution": {
     "iopub.execute_input": "2022-09-10T12:17:19.722085Z",
     "iopub.status.busy": "2022-09-10T12:17:19.721414Z",
     "iopub.status.idle": "2022-09-10T12:17:19.723859Z",
     "shell.execute_reply": "2022-09-10T12:17:19.723327Z"
    },
    "papermill": {
     "duration": 0.037456,
     "end_time": "2022-09-10T12:17:19.723979",
     "exception": false,
     "start_time": "2022-09-10T12:17:19.686523",
     "status": "completed"
    },
    "tags": []
   },
   "outputs": [],
   "source": [
    "#hide\n",
    "LAST_DATE_I, dt_cols = get_dates(df)\n",
    "dt_today =dt_cols[LAST_DATE_I]\n",
    "# dt_5day = dt_cols[LAST_DATE_I - 5]\n",
    "dt_yday = dt_cols[LAST_DATE_I - 1]"
   ]
  },
  {
   "cell_type": "code",
   "execution_count": 11,
   "id": "restricted-sheriff",
   "metadata": {
    "execution": {
     "iopub.execute_input": "2022-09-10T12:17:19.788895Z",
     "iopub.status.busy": "2022-09-10T12:17:19.788322Z",
     "iopub.status.idle": "2022-09-10T12:17:19.795678Z",
     "shell.execute_reply": "2022-09-10T12:17:19.795218Z"
    },
    "papermill": {
     "duration": 0.042346,
     "end_time": "2022-09-10T12:17:19.795783",
     "exception": false,
     "start_time": "2022-09-10T12:17:19.753437",
     "status": "completed"
    },
    "tags": []
   },
   "outputs": [],
   "source": [
    "#hide\n",
    "dfc_cases = dft_cases.groupby(COL_REGION)[dt_today].sum()\n",
    "dfc_deaths = dft_deaths.groupby(COL_REGION)[dt_today].sum()\n",
    "# dfp_cases = dft_cases.groupby(COL_REGION)[dt_5day].sum()\n",
    "# dfp_deaths = dft_deaths.groupby(COL_REGION)[dt_5day].sum()\n",
    "dfp_cases = dft_cases.groupby(COL_REGION)[dt_yday].sum()\n",
    "dfp_deaths = dft_deaths.groupby(COL_REGION)[dt_yday].sum()"
   ]
  },
  {
   "cell_type": "code",
   "execution_count": 12,
   "id": "deluxe-hepatitis",
   "metadata": {
    "execution": {
     "iopub.execute_input": "2022-09-10T12:17:19.859634Z",
     "iopub.status.busy": "2022-09-10T12:17:19.857314Z",
     "iopub.status.idle": "2022-09-10T12:17:19.864374Z",
     "shell.execute_reply": "2022-09-10T12:17:19.864930Z"
    },
    "papermill": {
     "duration": 0.039516,
     "end_time": "2022-09-10T12:17:19.865051",
     "exception": false,
     "start_time": "2022-09-10T12:17:19.825535",
     "status": "completed"
    },
    "tags": []
   },
   "outputs": [],
   "source": [
    "#hide\n",
    "df_table = (pd.DataFrame(dict(Cases = dfc_cases, Deaths = dfc_deaths, PCases = dfp_cases, PDeaths = dfp_deaths))\n",
    "            .sort_values(by = ['Cases','Deaths'], ascending = [False, False])\n",
    "            .reset_index())"
   ]
  },
  {
   "cell_type": "code",
   "execution_count": 13,
   "id": "educational-chancellor",
   "metadata": {
    "execution": {
     "iopub.execute_input": "2022-09-10T12:17:19.942363Z",
     "iopub.status.busy": "2022-09-10T12:17:19.941787Z",
     "iopub.status.idle": "2022-09-10T12:17:19.949743Z",
     "shell.execute_reply": "2022-09-10T12:17:19.950164Z"
    },
    "papermill": {
     "duration": 0.055714,
     "end_time": "2022-09-10T12:17:19.950293",
     "exception": false,
     "start_time": "2022-09-10T12:17:19.894579",
     "status": "completed"
    },
    "tags": []
   },
   "outputs": [
    {
     "data": {
      "text/html": [
       "<div>\n",
       "<style scoped>\n",
       "    .dataframe tbody tr th:only-of-type {\n",
       "        vertical-align: middle;\n",
       "    }\n",
       "\n",
       "    .dataframe tbody tr th {\n",
       "        vertical-align: top;\n",
       "    }\n",
       "\n",
       "    .dataframe thead th {\n",
       "        text-align: right;\n",
       "    }\n",
       "</style>\n",
       "<table border=\"1\" class=\"dataframe\">\n",
       "  <thead>\n",
       "    <tr style=\"text-align: right;\">\n",
       "      <th></th>\n",
       "      <th>Country/Region</th>\n",
       "      <th>Cases</th>\n",
       "      <th>Deaths</th>\n",
       "      <th>PCases</th>\n",
       "      <th>PDeaths</th>\n",
       "      <th>Cases (+)</th>\n",
       "      <th>Deaths (+)</th>\n",
       "      <th>Fatality Rate</th>\n",
       "      <th>Continent</th>\n",
       "    </tr>\n",
       "  </thead>\n",
       "  <tbody>\n",
       "    <tr>\n",
       "      <th>0</th>\n",
       "      <td>US</td>\n",
       "      <td>95224801</td>\n",
       "      <td>1050290</td>\n",
       "      <td>95119445</td>\n",
       "      <td>1049749</td>\n",
       "      <td>105356</td>\n",
       "      <td>541</td>\n",
       "      <td>1.10</td>\n",
       "      <td>North America</td>\n",
       "    </tr>\n",
       "    <tr>\n",
       "      <th>1</th>\n",
       "      <td>India</td>\n",
       "      <td>44490283</td>\n",
       "      <td>528139</td>\n",
       "      <td>44484729</td>\n",
       "      <td>528121</td>\n",
       "      <td>5554</td>\n",
       "      <td>18</td>\n",
       "      <td>1.19</td>\n",
       "      <td>Asia</td>\n",
       "    </tr>\n",
       "    <tr>\n",
       "      <th>2</th>\n",
       "      <td>France</td>\n",
       "      <td>34898909</td>\n",
       "      <td>155508</td>\n",
       "      <td>34879822</td>\n",
       "      <td>155477</td>\n",
       "      <td>19087</td>\n",
       "      <td>31</td>\n",
       "      <td>0.45</td>\n",
       "      <td>Europe</td>\n",
       "    </tr>\n",
       "    <tr>\n",
       "      <th>3</th>\n",
       "      <td>Brazil</td>\n",
       "      <td>34516739</td>\n",
       "      <td>684813</td>\n",
       "      <td>34477539</td>\n",
       "      <td>684425</td>\n",
       "      <td>39200</td>\n",
       "      <td>388</td>\n",
       "      <td>1.98</td>\n",
       "      <td>South America</td>\n",
       "    </tr>\n",
       "    <tr>\n",
       "      <th>4</th>\n",
       "      <td>Germany</td>\n",
       "      <td>32452250</td>\n",
       "      <td>148299</td>\n",
       "      <td>32422084</td>\n",
       "      <td>148217</td>\n",
       "      <td>30166</td>\n",
       "      <td>82</td>\n",
       "      <td>0.46</td>\n",
       "      <td>Europe</td>\n",
       "    </tr>\n",
       "  </tbody>\n",
       "</table>\n",
       "</div>"
      ],
      "text/plain": [
       "  Country/Region     Cases   Deaths    PCases  PDeaths  Cases (+)  Deaths (+)  \\\n",
       "0             US  95224801  1050290  95119445  1049749     105356         541   \n",
       "1          India  44490283   528139  44484729   528121       5554          18   \n",
       "2         France  34898909   155508  34879822   155477      19087          31   \n",
       "3         Brazil  34516739   684813  34477539   684425      39200         388   \n",
       "4        Germany  32452250   148299  32422084   148217      30166          82   \n",
       "\n",
       "   Fatality Rate      Continent  \n",
       "0           1.10  North America  \n",
       "1           1.19           Asia  \n",
       "2           0.45         Europe  \n",
       "3           1.98  South America  \n",
       "4           0.46         Europe  "
      ]
     },
     "execution_count": 13,
     "metadata": {},
     "output_type": "execute_result"
    }
   ],
   "source": [
    "#hide\n",
    "for c in 'Cases, Deaths'.split(', '):\n",
    "    df_table[f'{c} (+)'] = (df_table[c] - df_table[f'P{c}']).clip(0)\n",
    "    #Clip ça veut dire, les chiffres negatif sont interdit\n",
    "df_table['Fatality Rate'] = (100* df_table['Deaths']/ df_table['Cases']).round(2)\n",
    "df_table['Continent'] = df_table['Country/Region'].map(mapping['map.continent'])\n",
    "df_table.head(5)"
   ]
  },
  {
   "cell_type": "code",
   "execution_count": 14,
   "id": "aboriginal-bulgaria",
   "metadata": {
    "execution": {
     "iopub.execute_input": "2022-09-10T12:17:20.016485Z",
     "iopub.status.busy": "2022-09-10T12:17:20.015786Z",
     "iopub.status.idle": "2022-09-10T12:17:20.018217Z",
     "shell.execute_reply": "2022-09-10T12:17:20.017574Z"
    },
    "papermill": {
     "duration": 0.037858,
     "end_time": "2022-09-10T12:17:20.018339",
     "exception": false,
     "start_time": "2022-09-10T12:17:19.980481",
     "status": "completed"
    },
    "tags": []
   },
   "outputs": [],
   "source": [
    "#hide\n",
    "#delete problematic countries from table\n",
    "df_table = df_table[~df_table['Country/Region'].isin(['Cape Verde', 'Cruise Ship', 'Kosovo'])]"
   ]
  },
  {
   "cell_type": "code",
   "execution_count": 15,
   "id": "fantastic-effect",
   "metadata": {
    "execution": {
     "iopub.execute_input": "2022-09-10T12:17:20.086760Z",
     "iopub.status.busy": "2022-09-10T12:17:20.085830Z",
     "iopub.status.idle": "2022-09-10T12:17:20.104438Z",
     "shell.execute_reply": "2022-09-10T12:17:20.103851Z"
    },
    "papermill": {
     "duration": 0.056187,
     "end_time": "2022-09-10T12:17:20.104564",
     "exception": false,
     "start_time": "2022-09-10T12:17:20.048377",
     "status": "completed"
    },
    "tags": []
   },
   "outputs": [
    {
     "data": {
      "text/html": [
       "<div>\n",
       "<style scoped>\n",
       "    .dataframe tbody tr th:only-of-type {\n",
       "        vertical-align: middle;\n",
       "    }\n",
       "\n",
       "    .dataframe tbody tr th {\n",
       "        vertical-align: top;\n",
       "    }\n",
       "\n",
       "    .dataframe thead th {\n",
       "        text-align: right;\n",
       "    }\n",
       "</style>\n",
       "<table border=\"1\" class=\"dataframe\">\n",
       "  <thead>\n",
       "    <tr style=\"text-align: right;\">\n",
       "      <th></th>\n",
       "      <th>Country/Region</th>\n",
       "      <th>Cases</th>\n",
       "      <th>Deaths</th>\n",
       "      <th>PCases</th>\n",
       "      <th>PDeaths</th>\n",
       "      <th>Cases (+)</th>\n",
       "      <th>Deaths (+)</th>\n",
       "      <th>Fatality Rate</th>\n",
       "      <th>Continent</th>\n",
       "    </tr>\n",
       "  </thead>\n",
       "  <tbody>\n",
       "    <tr>\n",
       "      <th>0</th>\n",
       "      <td>US</td>\n",
       "      <td>95224801</td>\n",
       "      <td>1050290</td>\n",
       "      <td>95119445</td>\n",
       "      <td>1049749</td>\n",
       "      <td>105356</td>\n",
       "      <td>541</td>\n",
       "      <td>1.1</td>\n",
       "      <td>North America</td>\n",
       "    </tr>\n",
       "    <tr>\n",
       "      <th>1</th>\n",
       "      <td>India</td>\n",
       "      <td>44490283</td>\n",
       "      <td>528139</td>\n",
       "      <td>44484729</td>\n",
       "      <td>528121</td>\n",
       "      <td>5554</td>\n",
       "      <td>18</td>\n",
       "      <td>1.2</td>\n",
       "      <td>Asia</td>\n",
       "    </tr>\n",
       "    <tr>\n",
       "      <th>2</th>\n",
       "      <td>France</td>\n",
       "      <td>34898909</td>\n",
       "      <td>155508</td>\n",
       "      <td>34879822</td>\n",
       "      <td>155477</td>\n",
       "      <td>19087</td>\n",
       "      <td>31</td>\n",
       "      <td>0.4</td>\n",
       "      <td>Europe</td>\n",
       "    </tr>\n",
       "    <tr>\n",
       "      <th>3</th>\n",
       "      <td>Brazil</td>\n",
       "      <td>34516739</td>\n",
       "      <td>684813</td>\n",
       "      <td>34477539</td>\n",
       "      <td>684425</td>\n",
       "      <td>39200</td>\n",
       "      <td>388</td>\n",
       "      <td>2.0</td>\n",
       "      <td>South America</td>\n",
       "    </tr>\n",
       "    <tr>\n",
       "      <th>4</th>\n",
       "      <td>Germany</td>\n",
       "      <td>32452250</td>\n",
       "      <td>148299</td>\n",
       "      <td>32422084</td>\n",
       "      <td>148217</td>\n",
       "      <td>30166</td>\n",
       "      <td>82</td>\n",
       "      <td>0.5</td>\n",
       "      <td>Europe</td>\n",
       "    </tr>\n",
       "  </tbody>\n",
       "</table>\n",
       "</div>"
      ],
      "text/plain": [
       "  Country/Region     Cases   Deaths    PCases  PDeaths  Cases (+)  Deaths (+)  \\\n",
       "0             US  95224801  1050290  95119445  1049749     105356         541   \n",
       "1          India  44490283   528139  44484729   528121       5554          18   \n",
       "2         France  34898909   155508  34879822   155477      19087          31   \n",
       "3         Brazil  34516739   684813  34477539   684425      39200         388   \n",
       "4        Germany  32452250   148299  32422084   148217      30166          82   \n",
       "\n",
       "   Fatality Rate      Continent  \n",
       "0            1.1  North America  \n",
       "1            1.2           Asia  \n",
       "2            0.4         Europe  \n",
       "3            2.0  South America  \n",
       "4            0.5         Europe  "
      ]
     },
     "execution_count": 15,
     "metadata": {},
     "output_type": "execute_result"
    }
   ],
   "source": [
    "#hide\n",
    "df_table = (pd.DataFrame(dict(Cases=dfc_cases, Deaths=dfc_deaths, PCases=dfp_cases, PDeaths=dfp_deaths))\n",
    "             .sort_values(by=['Cases', 'Deaths'], ascending=[False, False])\n",
    "             .reset_index())\n",
    "df_table.rename(columns={'index': 'Country/Region'}, inplace=True)\n",
    "for c in 'Cases, Deaths'.split(', '):\n",
    "    df_table[f'{c} (+)'] = (df_table[c] - df_table[f'P{c}']).clip(0)  # DATA BUG\n",
    "df_table['Fatality Rate'] = (100 * df_table['Deaths'] / df_table['Cases']).round(1)\n",
    "df_table['Continent'] = df_table['Country/Region'].map(mapping['map.continent'])\n",
    "df_table.head(5)"
   ]
  },
  {
   "cell_type": "code",
   "execution_count": 16,
   "id": "fewer-occasion",
   "metadata": {
    "execution": {
     "iopub.execute_input": "2022-09-10T12:17:20.173774Z",
     "iopub.status.busy": "2022-09-10T12:17:20.173197Z",
     "iopub.status.idle": "2022-09-10T12:17:20.175608Z",
     "shell.execute_reply": "2022-09-10T12:17:20.176111Z"
    },
    "papermill": {
     "duration": 0.039653,
     "end_time": "2022-09-10T12:17:20.176247",
     "exception": false,
     "start_time": "2022-09-10T12:17:20.136594",
     "status": "completed"
    },
    "tags": []
   },
   "outputs": [],
   "source": [
    "#hide\n",
    "#delete problematic countries from table\n",
    "df_table = df_table[~df_table['Country/Region'].isin(['Cape Verde', 'Cruise Ship', 'Kosovo'])]"
   ]
  },
  {
   "cell_type": "code",
   "execution_count": 17,
   "id": "related-center",
   "metadata": {
    "execution": {
     "iopub.execute_input": "2022-09-10T12:17:20.256511Z",
     "iopub.status.busy": "2022-09-10T12:17:20.255794Z",
     "iopub.status.idle": "2022-09-10T12:17:20.258220Z",
     "shell.execute_reply": "2022-09-10T12:17:20.258661Z"
    },
    "papermill": {
     "duration": 0.052132,
     "end_time": "2022-09-10T12:17:20.258795",
     "exception": false,
     "start_time": "2022-09-10T12:17:20.206663",
     "status": "completed"
    },
    "tags": []
   },
   "outputs": [],
   "source": [
    "#hide\n",
    "metrics = [df_table.columns[index] for index in [1,2,5,6]]\n",
    "# s_china = df_table[df_table['Country/Region'].eq('China')][metrics].sum().add_prefix('China ')\n",
    "s_us = df_table[df_table['Country/Region'].eq('US')][metrics].sum().add_prefix('US ')\n",
    "s_eu = df_table[df_table['Continent'].eq('Europe')][metrics].sum().add_prefix('EU ')\n",
    "s_ind = df_table[df_table['Country/Region'].eq('India')][metrics].sum().add_prefix('India ')\n",
    "summary = {'updated': pd.to_datetime(dt_today), 'since': pd.to_datetime(dt_yday)}\n",
    "summary = {'updated': pd.to_datetime(dt_today), 'since': pd.to_datetime(dt_yday)}\n",
    "summary = {**summary, **df_table[metrics].sum(), **s_ind, **s_us, **s_eu}"
   ]
  },
  {
   "cell_type": "code",
   "execution_count": 18,
   "id": "engaging-syndrome",
   "metadata": {
    "execution": {
     "iopub.execute_input": "2022-09-10T12:17:20.325445Z",
     "iopub.status.busy": "2022-09-10T12:17:20.324880Z",
     "iopub.status.idle": "2022-09-10T12:17:20.345598Z",
     "shell.execute_reply": "2022-09-10T12:17:20.345020Z"
    },
    "papermill": {
     "duration": 0.056098,
     "end_time": "2022-09-10T12:17:20.345710",
     "exception": false,
     "start_time": "2022-09-10T12:17:20.289612",
     "status": "completed"
    },
    "tags": []
   },
   "outputs": [],
   "source": [
    "#hide\n",
    "dft_ct_new_cases = dft_cases.groupby(COL_REGION)[dt_cols].sum().diff(axis=1).fillna(0).astype(int)"
   ]
  },
  {
   "cell_type": "code",
   "execution_count": 19,
   "id": "neutral-assignment",
   "metadata": {
    "execution": {
     "iopub.execute_input": "2022-09-10T12:17:20.411182Z",
     "iopub.status.busy": "2022-09-10T12:17:20.410603Z",
     "iopub.status.idle": "2022-09-10T12:17:20.416530Z",
     "shell.execute_reply": "2022-09-10T12:17:20.416944Z"
    },
    "papermill": {
     "duration": 0.040657,
     "end_time": "2022-09-10T12:17:20.417073",
     "exception": false,
     "start_time": "2022-09-10T12:17:20.376416",
     "status": "completed"
    },
    "tags": []
   },
   "outputs": [],
   "source": [
    "#hide\n",
    "everydaycases = dft_ct_new_cases.cumsum(axis=1)"
   ]
  },
  {
   "cell_type": "code",
   "execution_count": 20,
   "id": "parliamentary-calgary",
   "metadata": {
    "execution": {
     "iopub.execute_input": "2022-09-10T12:17:20.482299Z",
     "iopub.status.busy": "2022-09-10T12:17:20.481725Z",
     "iopub.status.idle": "2022-09-10T12:17:21.074523Z",
     "shell.execute_reply": "2022-09-10T12:17:21.073934Z"
    },
    "papermill": {
     "duration": 0.627105,
     "end_time": "2022-09-10T12:17:21.074668",
     "exception": false,
     "start_time": "2022-09-10T12:17:20.447563",
     "status": "completed"
    },
    "tags": []
   },
   "outputs": [],
   "source": [
    "#hide\n",
    "import pandas as pd\n",
    "import matplotlib.pyplot as plt\n",
    "import matplotlib.ticker as ticker\n",
    "import matplotlib.animation as animation\n",
    "from IPython.display import HTML"
   ]
  },
  {
   "cell_type": "code",
   "execution_count": 21,
   "id": "lasting-extraction",
   "metadata": {
    "execution": {
     "iopub.execute_input": "2022-09-10T12:17:21.143965Z",
     "iopub.status.busy": "2022-09-10T12:17:21.143376Z",
     "iopub.status.idle": "2022-09-10T12:17:21.150935Z",
     "shell.execute_reply": "2022-09-10T12:17:21.151400Z"
    },
    "papermill": {
     "duration": 0.04515,
     "end_time": "2022-09-10T12:17:21.151529",
     "exception": false,
     "start_time": "2022-09-10T12:17:21.106379",
     "status": "completed"
    },
    "tags": []
   },
   "outputs": [],
   "source": [
    "#hide\n",
    "t = everydaycases.stack()"
   ]
  },
  {
   "cell_type": "code",
   "execution_count": 22,
   "id": "premier-sleeve",
   "metadata": {
    "execution": {
     "iopub.execute_input": "2022-09-10T12:17:21.217013Z",
     "iopub.status.busy": "2022-09-10T12:17:21.216422Z",
     "iopub.status.idle": "2022-09-10T12:17:21.228841Z",
     "shell.execute_reply": "2022-09-10T12:17:21.228362Z"
    },
    "papermill": {
     "duration": 0.046852,
     "end_time": "2022-09-10T12:17:21.228950",
     "exception": false,
     "start_time": "2022-09-10T12:17:21.182098",
     "status": "completed"
    },
    "tags": []
   },
   "outputs": [],
   "source": [
    "#hide\n",
    "g = t.reset_index(['Country/Region'])"
   ]
  },
  {
   "cell_type": "code",
   "execution_count": 23,
   "id": "distributed-pittsburgh",
   "metadata": {
    "execution": {
     "iopub.execute_input": "2022-09-10T12:17:21.294447Z",
     "iopub.status.busy": "2022-09-10T12:17:21.293858Z",
     "iopub.status.idle": "2022-09-10T12:17:21.296126Z",
     "shell.execute_reply": "2022-09-10T12:17:21.296547Z"
    },
    "papermill": {
     "duration": 0.037072,
     "end_time": "2022-09-10T12:17:21.296677",
     "exception": false,
     "start_time": "2022-09-10T12:17:21.259605",
     "status": "completed"
    },
    "tags": []
   },
   "outputs": [],
   "source": [
    "#hide\n",
    "g.index.name = 'date'"
   ]
  },
  {
   "cell_type": "code",
   "execution_count": 24,
   "id": "naked-donor",
   "metadata": {
    "execution": {
     "iopub.execute_input": "2022-09-10T12:17:21.363261Z",
     "iopub.status.busy": "2022-09-10T12:17:21.362695Z",
     "iopub.status.idle": "2022-09-10T12:17:21.365564Z",
     "shell.execute_reply": "2022-09-10T12:17:21.365099Z"
    },
    "papermill": {
     "duration": 0.038401,
     "end_time": "2022-09-10T12:17:21.365667",
     "exception": false,
     "start_time": "2022-09-10T12:17:21.327266",
     "status": "completed"
    },
    "tags": []
   },
   "outputs": [],
   "source": [
    "# #hide\n",
    "# g = g.reset_index(['date'])"
   ]
  },
  {
   "cell_type": "code",
   "execution_count": 25,
   "id": "incomplete-mustang",
   "metadata": {
    "execution": {
     "iopub.execute_input": "2022-09-10T12:17:21.431610Z",
     "iopub.status.busy": "2022-09-10T12:17:21.430925Z",
     "iopub.status.idle": "2022-09-10T12:17:21.433598Z",
     "shell.execute_reply": "2022-09-10T12:17:21.432968Z"
    },
    "papermill": {
     "duration": 0.037366,
     "end_time": "2022-09-10T12:17:21.433720",
     "exception": false,
     "start_time": "2022-09-10T12:17:21.396354",
     "status": "completed"
    },
    "tags": []
   },
   "outputs": [],
   "source": [
    "#hide\n",
    "# g.head()"
   ]
  },
  {
   "cell_type": "code",
   "execution_count": 26,
   "id": "specific-kruger",
   "metadata": {
    "execution": {
     "iopub.execute_input": "2022-09-10T12:17:21.500018Z",
     "iopub.status.busy": "2022-09-10T12:17:21.499409Z",
     "iopub.status.idle": "2022-09-10T12:17:21.501660Z",
     "shell.execute_reply": "2022-09-10T12:17:21.502129Z"
    },
    "papermill": {
     "duration": 0.037544,
     "end_time": "2022-09-10T12:17:21.502259",
     "exception": false,
     "start_time": "2022-09-10T12:17:21.464715",
     "status": "completed"
    },
    "tags": []
   },
   "outputs": [],
   "source": [
    "#hide\n",
    "# g.columns = ['date','country','cases']"
   ]
  },
  {
   "cell_type": "code",
   "execution_count": 27,
   "id": "tender-conversion",
   "metadata": {
    "execution": {
     "iopub.execute_input": "2022-09-10T12:17:21.567923Z",
     "iopub.status.busy": "2022-09-10T12:17:21.567324Z",
     "iopub.status.idle": "2022-09-10T12:17:21.571409Z",
     "shell.execute_reply": "2022-09-10T12:17:21.570932Z"
    },
    "papermill": {
     "duration": 0.03863,
     "end_time": "2022-09-10T12:17:21.571517",
     "exception": false,
     "start_time": "2022-09-10T12:17:21.532887",
     "status": "completed"
    },
    "tags": []
   },
   "outputs": [],
   "source": [
    "#hide\n",
    "# g['continent'] = g.country"
   ]
  },
  {
   "cell_type": "code",
   "execution_count": 28,
   "id": "substantial-wilderness",
   "metadata": {
    "execution": {
     "iopub.execute_input": "2022-09-10T12:17:21.636790Z",
     "iopub.status.busy": "2022-09-10T12:17:21.636202Z",
     "iopub.status.idle": "2022-09-10T12:17:21.638522Z",
     "shell.execute_reply": "2022-09-10T12:17:21.639086Z"
    },
    "papermill": {
     "duration": 0.036862,
     "end_time": "2022-09-10T12:17:21.639211",
     "exception": false,
     "start_time": "2022-09-10T12:17:21.602349",
     "status": "completed"
    },
    "tags": []
   },
   "outputs": [],
   "source": [
    "#hide\n",
    "# cols = list(g.columns.values)"
   ]
  },
  {
   "cell_type": "code",
   "execution_count": 29,
   "id": "solved-farming",
   "metadata": {
    "execution": {
     "iopub.execute_input": "2022-09-10T12:17:21.703922Z",
     "iopub.status.busy": "2022-09-10T12:17:21.703356Z",
     "iopub.status.idle": "2022-09-10T12:17:21.706212Z",
     "shell.execute_reply": "2022-09-10T12:17:21.705748Z"
    },
    "papermill": {
     "duration": 0.036737,
     "end_time": "2022-09-10T12:17:21.706317",
     "exception": false,
     "start_time": "2022-09-10T12:17:21.669580",
     "status": "completed"
    },
    "tags": []
   },
   "outputs": [],
   "source": [
    "#hide\n",
    "# cols.insert(0, cols.pop())"
   ]
  },
  {
   "cell_type": "code",
   "execution_count": 30,
   "id": "executed-adoption",
   "metadata": {
    "execution": {
     "iopub.execute_input": "2022-09-10T12:17:21.770854Z",
     "iopub.status.busy": "2022-09-10T12:17:21.770273Z",
     "iopub.status.idle": "2022-09-10T12:17:21.772920Z",
     "shell.execute_reply": "2022-09-10T12:17:21.772480Z"
    },
    "papermill": {
     "duration": 0.036159,
     "end_time": "2022-09-10T12:17:21.773026",
     "exception": false,
     "start_time": "2022-09-10T12:17:21.736867",
     "status": "completed"
    },
    "tags": []
   },
   "outputs": [],
   "source": [
    "#hide\n",
    "# g = g[cols]"
   ]
  },
  {
   "cell_type": "code",
   "execution_count": 31,
   "id": "subject-dublin",
   "metadata": {
    "execution": {
     "iopub.execute_input": "2022-09-10T12:17:21.842870Z",
     "iopub.status.busy": "2022-09-10T12:17:21.842258Z",
     "iopub.status.idle": "2022-09-10T12:17:21.843504Z",
     "shell.execute_reply": "2022-09-10T12:17:21.843933Z"
    },
    "papermill": {
     "duration": 0.040515,
     "end_time": "2022-09-10T12:17:21.844077",
     "exception": false,
     "start_time": "2022-09-10T12:17:21.803562",
     "status": "completed"
    },
    "tags": []
   },
   "outputs": [],
   "source": [
    "#hide\n",
    "# g['continent'] = g['continent'].map(mapping['map.continent'])"
   ]
  },
  {
   "cell_type": "code",
   "execution_count": 32,
   "id": "freelance-scout",
   "metadata": {
    "execution": {
     "iopub.execute_input": "2022-09-10T12:17:21.909408Z",
     "iopub.status.busy": "2022-09-10T12:17:21.908737Z",
     "iopub.status.idle": "2022-09-10T12:17:21.911321Z",
     "shell.execute_reply": "2022-09-10T12:17:21.910789Z"
    },
    "papermill": {
     "duration": 0.036712,
     "end_time": "2022-09-10T12:17:21.911440",
     "exception": false,
     "start_time": "2022-09-10T12:17:21.874728",
     "status": "completed"
    },
    "tags": []
   },
   "outputs": [],
   "source": [
    "#hide\n",
    "# g.head()"
   ]
  },
  {
   "cell_type": "code",
   "execution_count": 33,
   "id": "limited-engine",
   "metadata": {
    "execution": {
     "iopub.execute_input": "2022-09-10T12:17:21.975871Z",
     "iopub.status.busy": "2022-09-10T12:17:21.975306Z",
     "iopub.status.idle": "2022-09-10T12:17:21.978146Z",
     "shell.execute_reply": "2022-09-10T12:17:21.977684Z"
    },
    "papermill": {
     "duration": 0.036287,
     "end_time": "2022-09-10T12:17:21.978248",
     "exception": false,
     "start_time": "2022-09-10T12:17:21.941961",
     "status": "completed"
    },
    "tags": []
   },
   "outputs": [],
   "source": [
    "# hide\n",
    "# g['date'] = g['date'].astype('datetime64[ns]')"
   ]
  },
  {
   "cell_type": "code",
   "execution_count": 34,
   "id": "sophisticated-supervisor",
   "metadata": {
    "execution": {
     "iopub.execute_input": "2022-09-10T12:17:22.043842Z",
     "iopub.status.busy": "2022-09-10T12:17:22.043167Z",
     "iopub.status.idle": "2022-09-10T12:17:22.047229Z",
     "shell.execute_reply": "2022-09-10T12:17:22.046762Z"
    },
    "papermill": {
     "duration": 0.038385,
     "end_time": "2022-09-10T12:17:22.047339",
     "exception": false,
     "start_time": "2022-09-10T12:17:22.008954",
     "status": "completed"
    },
    "tags": []
   },
   "outputs": [],
   "source": [
    "#hide\n",
    "# g['date'] = g.date.dt.dayofyear"
   ]
  },
  {
   "cell_type": "code",
   "execution_count": 35,
   "id": "inside-dubai",
   "metadata": {
    "execution": {
     "iopub.execute_input": "2022-09-10T12:17:22.112279Z",
     "iopub.status.busy": "2022-09-10T12:17:22.111678Z",
     "iopub.status.idle": "2022-09-10T12:17:22.114513Z",
     "shell.execute_reply": "2022-09-10T12:17:22.114046Z"
    },
    "papermill": {
     "duration": 0.036811,
     "end_time": "2022-09-10T12:17:22.114621",
     "exception": false,
     "start_time": "2022-09-10T12:17:22.077810",
     "status": "completed"
    },
    "tags": []
   },
   "outputs": [],
   "source": [
    "#hide\n",
    "# g = g.rename(columns= {'continent':'group','country':'name','cases':'value'})"
   ]
  },
  {
   "cell_type": "code",
   "execution_count": 36,
   "id": "fleet-motorcycle",
   "metadata": {
    "execution": {
     "iopub.execute_input": "2022-09-10T12:17:22.179940Z",
     "iopub.status.busy": "2022-09-10T12:17:22.179278Z",
     "iopub.status.idle": "2022-09-10T12:17:22.184489Z",
     "shell.execute_reply": "2022-09-10T12:17:22.183948Z"
    },
    "papermill": {
     "duration": 0.039219,
     "end_time": "2022-09-10T12:17:22.184611",
     "exception": false,
     "start_time": "2022-09-10T12:17:22.145392",
     "status": "completed"
    },
    "tags": []
   },
   "outputs": [],
   "source": [
    "#hide\n",
    "# cols = ['name','group','day','value']"
   ]
  },
  {
   "cell_type": "code",
   "execution_count": 37,
   "id": "continued-sleeping",
   "metadata": {
    "execution": {
     "iopub.execute_input": "2022-09-10T12:17:22.249887Z",
     "iopub.status.busy": "2022-09-10T12:17:22.249263Z",
     "iopub.status.idle": "2022-09-10T12:17:22.252542Z",
     "shell.execute_reply": "2022-09-10T12:17:22.252063Z"
    },
    "papermill": {
     "duration": 0.037108,
     "end_time": "2022-09-10T12:17:22.252650",
     "exception": false,
     "start_time": "2022-09-10T12:17:22.215542",
     "status": "completed"
    },
    "tags": []
   },
   "outputs": [],
   "source": [
    "#hide\n",
    "# g.rename(columns= {'date':'day'},inplace = True)"
   ]
  },
  {
   "cell_type": "code",
   "execution_count": 38,
   "id": "major-fight",
   "metadata": {
    "execution": {
     "iopub.execute_input": "2022-09-10T12:17:22.317248Z",
     "iopub.status.busy": "2022-09-10T12:17:22.316595Z",
     "iopub.status.idle": "2022-09-10T12:17:22.319181Z",
     "shell.execute_reply": "2022-09-10T12:17:22.318538Z"
    },
    "papermill": {
     "duration": 0.036059,
     "end_time": "2022-09-10T12:17:22.319301",
     "exception": false,
     "start_time": "2022-09-10T12:17:22.283242",
     "status": "completed"
    },
    "tags": []
   },
   "outputs": [],
   "source": [
    "#hide\n",
    "# g = g[cols]"
   ]
  },
  {
   "cell_type": "code",
   "execution_count": 39,
   "id": "structured-mobile",
   "metadata": {
    "execution": {
     "iopub.execute_input": "2022-09-10T12:17:22.384238Z",
     "iopub.status.busy": "2022-09-10T12:17:22.383638Z",
     "iopub.status.idle": "2022-09-10T12:17:22.386846Z",
     "shell.execute_reply": "2022-09-10T12:17:22.386325Z"
    },
    "papermill": {
     "duration": 0.037223,
     "end_time": "2022-09-10T12:17:22.386956",
     "exception": false,
     "start_time": "2022-09-10T12:17:22.349733",
     "status": "completed"
    },
    "tags": []
   },
   "outputs": [],
   "source": [
    "# #hide\n",
    "# g = g[g.group.notna()]"
   ]
  },
  {
   "cell_type": "code",
   "execution_count": 40,
   "id": "determined-closing",
   "metadata": {
    "execution": {
     "iopub.execute_input": "2022-09-10T12:17:22.452317Z",
     "iopub.status.busy": "2022-09-10T12:17:22.451664Z",
     "iopub.status.idle": "2022-09-10T12:17:22.455089Z",
     "shell.execute_reply": "2022-09-10T12:17:22.454526Z"
    },
    "papermill": {
     "duration": 0.037414,
     "end_time": "2022-09-10T12:17:22.455195",
     "exception": false,
     "start_time": "2022-09-10T12:17:22.417781",
     "status": "completed"
    },
    "tags": []
   },
   "outputs": [],
   "source": [
    "# #hide\n",
    "# colors = dict(zip(\n",
    "#     [\"Oceania\", \"Europe\", \"Asia\", \"South America\", \"Middle East\", \"North America\", \"Africa\"],\n",
    "#     [\"#adb0ff\", \"#ffb3ff\", \"#90d595\", \"#e48381\", \"#aafbff\", \"#f7bb5f\", \"#eafb50\"]\n",
    "# ))\n",
    "# group_lk = g.set_index('name')['group'].to_dict()"
   ]
  },
  {
   "cell_type": "code",
   "execution_count": null,
   "id": "gross-drinking",
   "metadata": {
    "papermill": {
     "duration": 0.030825,
     "end_time": "2022-09-10T12:17:22.516479",
     "exception": false,
     "start_time": "2022-09-10T12:17:22.485654",
     "status": "completed"
    },
    "tags": []
   },
   "outputs": [],
   "source": []
  },
  {
   "cell_type": "code",
   "execution_count": 41,
   "id": "subject-macintosh",
   "metadata": {
    "execution": {
     "iopub.execute_input": "2022-09-10T12:17:22.582495Z",
     "iopub.status.busy": "2022-09-10T12:17:22.581887Z",
     "iopub.status.idle": "2022-09-10T12:17:22.584419Z",
     "shell.execute_reply": "2022-09-10T12:17:22.584862Z"
    },
    "papermill": {
     "duration": 0.038044,
     "end_time": "2022-09-10T12:17:22.584988",
     "exception": false,
     "start_time": "2022-09-10T12:17:22.546944",
     "status": "completed"
    },
    "tags": []
   },
   "outputs": [],
   "source": [
    "# #hide\n",
    "# fig, ax = plt.subplots(figsize=(15, 8))\n",
    "\n",
    "# def draw_barchart(current_day):\n",
    "#     dff = g[g['day'].eq(current_day)].sort_values(by='value', ascending=True).tail(10)\n",
    "#     ax.clear()\n",
    "#     ax.barh(dff['name'], dff['value'], color=[colors[group_lk[x]] for x in dff['name']])\n",
    "#     dx = dff['value'].max() / 200\n",
    "    \n",
    "#     for i, (value, name) in enumerate(zip(dff['value'], dff['name'])):\n",
    "#         ax.text(value-dx, i,     name,           size=14, weight=600, ha='right', va='bottom')\n",
    "#         ax.text(value-dx, i-.25, group_lk[name], size=10, color='#444444', ha='right', va='baseline')\n",
    "#         ax.text(value+dx, i,     f'{value:,.0f}',  size=14, ha='left',  va='center')\n",
    "#     ax.text(1, 0.4, current_day, transform=ax.transAxes, color='#777777', size=46, ha='right', weight=800)\n",
    "#     ax.text(0, 1.06, 'Population (thousands)', transform=ax.transAxes, size=12, color='#777777')\n",
    "#     ax.xaxis.set_major_formatter(ticker.StrMethodFormatter('{x:,.0f}'))\n",
    "#     ax.xaxis.set_ticks_position('top')\n",
    "#     ax.tick_params(axis='x', colors='#777777', labelsize=12)\n",
    "#     ax.set_yticks([])\n",
    "#     ax.margins(0, 0.01)\n",
    "#     ax.grid(which='major', axis='x', linestyle='-')\n",
    "#     ax.set_axisbelow(True)\n",
    "    \n",
    "#     ax.text(0, 1.15, 'Coronavirus',\n",
    "#             transform=ax.transAxes, size=24, weight=600, ha='left', va='top')\n",
    "# #     ax.text(1, 0, 'by @pratapvardhan; credit @jburnmurdoch', transform=ax.transAxes, color='#777777', ha='right',\n",
    "# #             bbox=dict(facecolor='white', alpha=0.8, edgecolor='white'))\n",
    "#     plt.box(False)"
   ]
  },
  {
   "cell_type": "code",
   "execution_count": 42,
   "id": "sexual-wages",
   "metadata": {
    "execution": {
     "iopub.execute_input": "2022-09-10T12:17:22.650462Z",
     "iopub.status.busy": "2022-09-10T12:17:22.649882Z",
     "iopub.status.idle": "2022-09-10T12:17:22.652167Z",
     "shell.execute_reply": "2022-09-10T12:17:22.652724Z"
    },
    "papermill": {
     "duration": 0.037431,
     "end_time": "2022-09-10T12:17:22.652855",
     "exception": false,
     "start_time": "2022-09-10T12:17:22.615424",
     "status": "completed"
    },
    "tags": []
   },
   "outputs": [],
   "source": [
    "# #hide_input\n",
    "# fig, ax = plt.subplots(figsize=(15, 8))\n",
    "# animator = animation.FuncAnimation(fig, draw_barchart, frames=range(g.day.values.min(), g.day.values.max()))\n",
    "# HTML(animator.to_jshtml())\n",
    "# # or use animator.to_html5_video() or animator.save() "
   ]
  },
  {
   "cell_type": "code",
   "execution_count": null,
   "id": "australian-container",
   "metadata": {
    "papermill": {
     "duration": 0.030341,
     "end_time": "2022-09-10T12:17:22.713830",
     "exception": false,
     "start_time": "2022-09-10T12:17:22.683489",
     "status": "completed"
    },
    "tags": []
   },
   "outputs": [],
   "source": []
  },
  {
   "cell_type": "code",
   "execution_count": null,
   "id": "mediterranean-pontiac",
   "metadata": {
    "papermill": {
     "duration": 0.030517,
     "end_time": "2022-09-10T12:17:22.774833",
     "exception": false,
     "start_time": "2022-09-10T12:17:22.744316",
     "status": "completed"
    },
    "tags": []
   },
   "outputs": [],
   "source": []
  },
  {
   "cell_type": "code",
   "execution_count": null,
   "id": "aging-legislature",
   "metadata": {
    "papermill": {
     "duration": 0.030303,
     "end_time": "2022-09-10T12:17:22.835676",
     "exception": false,
     "start_time": "2022-09-10T12:17:22.805373",
     "status": "completed"
    },
    "tags": []
   },
   "outputs": [],
   "source": []
  }
 ],
 "metadata": {
  "kernelspec": {
   "display_name": "Python 3",
   "language": "python",
   "name": "python3"
  },
  "language_info": {
   "codemirror_mode": {
    "name": "ipython",
    "version": 3
   },
   "file_extension": ".py",
   "mimetype": "text/x-python",
   "name": "python",
   "nbconvert_exporter": "python",
   "pygments_lexer": "ipython3",
   "version": "3.6.15"
  },
  "papermill": {
   "duration": 5.981276,
   "end_time": "2022-09-10T12:17:23.185392",
   "environment_variables": {},
   "exception": null,
   "input_path": "2020-03-21-covid19exp.ipynb",
   "output_path": "2020-03-21-covid19exp.ipynb",
   "parameters": {},
   "start_time": "2022-09-10T12:17:17.204116",
   "version": "2.0.0"
  }
 },
 "nbformat": 4,
 "nbformat_minor": 5
}