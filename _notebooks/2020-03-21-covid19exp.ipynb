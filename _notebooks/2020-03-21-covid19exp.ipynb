{
 "cells": [
  {
   "cell_type": "markdown",
   "id": "muslim-click",
   "metadata": {
    "papermill": {
     "duration": 0.045026,
     "end_time": "2021-12-04T12:12:00.969000",
     "exception": false,
     "start_time": "2021-12-04T12:12:00.923974",
     "status": "completed"
    },
    "tags": []
   },
   "source": [
    "# COVID-19 Case Race\n",
    "> A race chart to see rising cases around the world\n",
    "\n",
    "- author: Hargun Oberoi\n",
    "- image: images/covid-overview.png\n",
    "- hide: false\n",
    "- badges: false"
   ]
  },
  {
   "cell_type": "code",
   "execution_count": 1,
   "id": "proof-material",
   "metadata": {
    "execution": {
     "iopub.execute_input": "2021-12-04T12:12:01.056139Z",
     "iopub.status.busy": "2021-12-04T12:12:01.055327Z",
     "iopub.status.idle": "2021-12-04T12:12:01.465457Z",
     "shell.execute_reply": "2021-12-04T12:12:01.464854Z"
    },
    "papermill": {
     "duration": 0.458426,
     "end_time": "2021-12-04T12:12:01.465629",
     "exception": false,
     "start_time": "2021-12-04T12:12:01.007203",
     "status": "completed"
    },
    "tags": []
   },
   "outputs": [],
   "source": [
    "#hide\n",
    "import numpy as np\n",
    "import pandas as pd\n",
    "from jinja2 import Template\n",
    "from IPython.display import HTML"
   ]
  },
  {
   "cell_type": "code",
   "execution_count": 2,
   "id": "developed-terminology",
   "metadata": {
    "execution": {
     "iopub.execute_input": "2021-12-04T12:12:01.548477Z",
     "iopub.status.busy": "2021-12-04T12:12:01.547797Z",
     "iopub.status.idle": "2021-12-04T12:12:01.549906Z",
     "shell.execute_reply": "2021-12-04T12:12:01.550406Z"
    },
    "papermill": {
     "duration": 0.046772,
     "end_time": "2021-12-04T12:12:01.550561",
     "exception": false,
     "start_time": "2021-12-04T12:12:01.503789",
     "status": "completed"
    },
    "tags": []
   },
   "outputs": [],
   "source": [
    "#hide\n",
    "\n",
    "# FETCH\n",
    "base_url = 'https://raw.githubusercontent.com/pratapvardhan/notebooks/master/covid19/'\n",
    "paths = {\n",
    "    'mapping': base_url + 'mapping_countries.csv',\n",
    "    'overview': base_url + 'overview.tpl'\n",
    "}"
   ]
  },
  {
   "cell_type": "code",
   "execution_count": 3,
   "id": "dynamic-saver",
   "metadata": {
    "execution": {
     "iopub.execute_input": "2021-12-04T12:12:01.638615Z",
     "iopub.status.busy": "2021-12-04T12:12:01.637940Z",
     "iopub.status.idle": "2021-12-04T12:12:01.640770Z",
     "shell.execute_reply": "2021-12-04T12:12:01.641472Z"
    },
    "papermill": {
     "duration": 0.053353,
     "end_time": "2021-12-04T12:12:01.641679",
     "exception": false,
     "start_time": "2021-12-04T12:12:01.588326",
     "status": "completed"
    },
    "tags": []
   },
   "outputs": [
    {
     "data": {
      "text/plain": [
       "'https://raw.githubusercontent.com/pratapvardhan/notebooks/master/covid19/mapping_countries.csv'"
      ]
     },
     "execution_count": 3,
     "metadata": {},
     "output_type": "execute_result"
    }
   ],
   "source": [
    "#hide\n",
    "paths['mapping']"
   ]
  },
  {
   "cell_type": "code",
   "execution_count": 4,
   "id": "urban-software",
   "metadata": {
    "execution": {
     "iopub.execute_input": "2021-12-04T12:12:01.724889Z",
     "iopub.status.busy": "2021-12-04T12:12:01.724167Z",
     "iopub.status.idle": "2021-12-04T12:12:01.726772Z",
     "shell.execute_reply": "2021-12-04T12:12:01.726238Z"
    },
    "papermill": {
     "duration": 0.04756,
     "end_time": "2021-12-04T12:12:01.726911",
     "exception": false,
     "start_time": "2021-12-04T12:12:01.679351",
     "status": "completed"
    },
    "tags": []
   },
   "outputs": [],
   "source": [
    "#hide\n",
    "def get_mappings(url):\n",
    "    df = pd.read_csv(url)\n",
    "    return {\n",
    "        'df': df,\n",
    "        'replace.country': dict(df.dropna(subset=['Name']).set_index('Country')['Name']),\n",
    "        'map.continent': dict(df.set_index('Name')['Continent'])\n",
    "    }"
   ]
  },
  {
   "cell_type": "code",
   "execution_count": 5,
   "id": "intimate-machinery",
   "metadata": {
    "execution": {
     "iopub.execute_input": "2021-12-04T12:12:01.809658Z",
     "iopub.status.busy": "2021-12-04T12:12:01.808995Z",
     "iopub.status.idle": "2021-12-04T12:12:01.842448Z",
     "shell.execute_reply": "2021-12-04T12:12:01.841881Z"
    },
    "papermill": {
     "duration": 0.078096,
     "end_time": "2021-12-04T12:12:01.842600",
     "exception": false,
     "start_time": "2021-12-04T12:12:01.764504",
     "status": "completed"
    },
    "tags": []
   },
   "outputs": [],
   "source": [
    "#hide\n",
    "mapping = get_mappings(paths['mapping'])"
   ]
  },
  {
   "cell_type": "code",
   "execution_count": 6,
   "id": "certified-tactics",
   "metadata": {
    "execution": {
     "iopub.execute_input": "2021-12-04T12:12:01.925509Z",
     "iopub.status.busy": "2021-12-04T12:12:01.924829Z",
     "iopub.status.idle": "2021-12-04T12:12:01.927970Z",
     "shell.execute_reply": "2021-12-04T12:12:01.927438Z"
    },
    "papermill": {
     "duration": 0.04669,
     "end_time": "2021-12-04T12:12:01.928112",
     "exception": false,
     "start_time": "2021-12-04T12:12:01.881422",
     "status": "completed"
    },
    "tags": []
   },
   "outputs": [],
   "source": [
    "#hide\n",
    "def get_template(path):\n",
    "    from urllib.parse import urlparse\n",
    "    if bool(urlparse(path).netloc):\n",
    "        from urllib.request import urlopen\n",
    "        return urlopen(path).read().decode('utf8')\n",
    "    return open(path).read()"
   ]
  },
  {
   "cell_type": "code",
   "execution_count": 7,
   "id": "realistic-blast",
   "metadata": {
    "execution": {
     "iopub.execute_input": "2021-12-04T12:12:02.017771Z",
     "iopub.status.busy": "2021-12-04T12:12:02.017095Z",
     "iopub.status.idle": "2021-12-04T12:12:02.019811Z",
     "shell.execute_reply": "2021-12-04T12:12:02.018987Z"
    },
    "papermill": {
     "duration": 0.050892,
     "end_time": "2021-12-04T12:12:02.019968",
     "exception": false,
     "start_time": "2021-12-04T12:12:01.969076",
     "status": "completed"
    },
    "tags": []
   },
   "outputs": [],
   "source": [
    "#hide\n",
    "def get_frame(name):\n",
    "    url = (\n",
    "        'https://raw.githubusercontent.com/CSSEGISandData/COVID-19/master/csse_covid_19_data/'\n",
    "        f'csse_covid_19_time_series/time_series_covid19_{name}_global.csv')\n",
    "    df = pd.read_csv(url)\n",
    "    # rename countries\n",
    "    df['Country/Region'] = df['Country/Region'].replace(mapping['replace.country'])\n",
    "    return df"
   ]
  },
  {
   "cell_type": "code",
   "execution_count": 8,
   "id": "affiliated-characterization",
   "metadata": {
    "execution": {
     "iopub.execute_input": "2021-12-04T12:12:02.109892Z",
     "iopub.status.busy": "2021-12-04T12:12:02.109217Z",
     "iopub.status.idle": "2021-12-04T12:12:02.112172Z",
     "shell.execute_reply": "2021-12-04T12:12:02.112677Z"
    },
    "papermill": {
     "duration": 0.049253,
     "end_time": "2021-12-04T12:12:02.112865",
     "exception": false,
     "start_time": "2021-12-04T12:12:02.063612",
     "status": "completed"
    },
    "tags": []
   },
   "outputs": [],
   "source": [
    "#hide\n",
    "def get_dates(df):\n",
    "    dt_cols = df.columns[~df.columns.isin(['Province/State', 'Country/Region', 'Lat', 'Long'])]\n",
    "    LAST_DATE_I = -1\n",
    "    # sometimes last column may be empty, then go backwards\n",
    "    for i in range(-1, -len(dt_cols), -1):\n",
    "        if not df[dt_cols[i]].fillna(0).eq(0).all():\n",
    "            LAST_DATE_I = i\n",
    "            break\n",
    "    return LAST_DATE_I, dt_cols"
   ]
  },
  {
   "cell_type": "code",
   "execution_count": 9,
   "id": "recent-optimization",
   "metadata": {
    "execution": {
     "iopub.execute_input": "2021-12-04T12:12:02.194250Z",
     "iopub.status.busy": "2021-12-04T12:12:02.193499Z",
     "iopub.status.idle": "2021-12-04T12:12:02.565171Z",
     "shell.execute_reply": "2021-12-04T12:12:02.564251Z"
    },
    "papermill": {
     "duration": 0.414732,
     "end_time": "2021-12-04T12:12:02.565323",
     "exception": false,
     "start_time": "2021-12-04T12:12:02.150591",
     "status": "completed"
    },
    "tags": []
   },
   "outputs": [],
   "source": [
    "#hide\n",
    "COL_REGION = 'Country/Region'\n",
    "# Confirmed, Recovered, Deaths\n",
    "df = get_frame('confirmed')\n",
    "# dft_: timeseries, dfc_: today country agg\n",
    "dft_cases = df\n",
    "dft_deaths = get_frame('deaths')\n",
    "dft_recovered = get_frame('recovered')\n",
    "LAST_DATE_I, dt_cols = get_dates(df)"
   ]
  },
  {
   "cell_type": "code",
   "execution_count": 10,
   "id": "absolute-copper",
   "metadata": {
    "execution": {
     "iopub.execute_input": "2021-12-04T12:12:02.650452Z",
     "iopub.status.busy": "2021-12-04T12:12:02.649782Z",
     "iopub.status.idle": "2021-12-04T12:12:02.652059Z",
     "shell.execute_reply": "2021-12-04T12:12:02.652592Z"
    },
    "papermill": {
     "duration": 0.048423,
     "end_time": "2021-12-04T12:12:02.652781",
     "exception": false,
     "start_time": "2021-12-04T12:12:02.604358",
     "status": "completed"
    },
    "tags": []
   },
   "outputs": [],
   "source": [
    "#hide\n",
    "LAST_DATE_I, dt_cols = get_dates(df)\n",
    "dt_today =dt_cols[LAST_DATE_I]\n",
    "# dt_5day = dt_cols[LAST_DATE_I - 5]\n",
    "dt_yday = dt_cols[LAST_DATE_I - 1]"
   ]
  },
  {
   "cell_type": "code",
   "execution_count": 11,
   "id": "restricted-sheriff",
   "metadata": {
    "execution": {
     "iopub.execute_input": "2021-12-04T12:12:02.739776Z",
     "iopub.status.busy": "2021-12-04T12:12:02.739093Z",
     "iopub.status.idle": "2021-12-04T12:12:02.746401Z",
     "shell.execute_reply": "2021-12-04T12:12:02.745838Z"
    },
    "papermill": {
     "duration": 0.055342,
     "end_time": "2021-12-04T12:12:02.746547",
     "exception": false,
     "start_time": "2021-12-04T12:12:02.691205",
     "status": "completed"
    },
    "tags": []
   },
   "outputs": [],
   "source": [
    "#hide\n",
    "dfc_cases = dft_cases.groupby(COL_REGION)[dt_today].sum()\n",
    "dfc_deaths = dft_deaths.groupby(COL_REGION)[dt_today].sum()\n",
    "# dfp_cases = dft_cases.groupby(COL_REGION)[dt_5day].sum()\n",
    "# dfp_deaths = dft_deaths.groupby(COL_REGION)[dt_5day].sum()\n",
    "dfp_cases = dft_cases.groupby(COL_REGION)[dt_yday].sum()\n",
    "dfp_deaths = dft_deaths.groupby(COL_REGION)[dt_yday].sum()"
   ]
  },
  {
   "cell_type": "code",
   "execution_count": 12,
   "id": "deluxe-hepatitis",
   "metadata": {
    "execution": {
     "iopub.execute_input": "2021-12-04T12:12:02.831108Z",
     "iopub.status.busy": "2021-12-04T12:12:02.830264Z",
     "iopub.status.idle": "2021-12-04T12:12:02.835218Z",
     "shell.execute_reply": "2021-12-04T12:12:02.835782Z"
    },
    "papermill": {
     "duration": 0.050171,
     "end_time": "2021-12-04T12:12:02.835938",
     "exception": false,
     "start_time": "2021-12-04T12:12:02.785767",
     "status": "completed"
    },
    "tags": []
   },
   "outputs": [],
   "source": [
    "#hide\n",
    "df_table = (pd.DataFrame(dict(Cases = dfc_cases, Deaths = dfc_deaths, PCases = dfp_cases, PDeaths = dfp_deaths))\n",
    "            .sort_values(by = ['Cases','Deaths'], ascending = [False, False])\n",
    "            .reset_index())"
   ]
  },
  {
   "cell_type": "code",
   "execution_count": 13,
   "id": "educational-chancellor",
   "metadata": {
    "execution": {
     "iopub.execute_input": "2021-12-04T12:12:02.934620Z",
     "iopub.status.busy": "2021-12-04T12:12:02.933923Z",
     "iopub.status.idle": "2021-12-04T12:12:02.942613Z",
     "shell.execute_reply": "2021-12-04T12:12:02.943127Z"
    },
    "papermill": {
     "duration": 0.069155,
     "end_time": "2021-12-04T12:12:02.943299",
     "exception": false,
     "start_time": "2021-12-04T12:12:02.874144",
     "status": "completed"
    },
    "tags": []
   },
   "outputs": [
    {
     "data": {
      "text/html": [
       "<div>\n",
       "<style scoped>\n",
       "    .dataframe tbody tr th:only-of-type {\n",
       "        vertical-align: middle;\n",
       "    }\n",
       "\n",
       "    .dataframe tbody tr th {\n",
       "        vertical-align: top;\n",
       "    }\n",
       "\n",
       "    .dataframe thead th {\n",
       "        text-align: right;\n",
       "    }\n",
       "</style>\n",
       "<table border=\"1\" class=\"dataframe\">\n",
       "  <thead>\n",
       "    <tr style=\"text-align: right;\">\n",
       "      <th></th>\n",
       "      <th>Country/Region</th>\n",
       "      <th>Cases</th>\n",
       "      <th>Deaths</th>\n",
       "      <th>PCases</th>\n",
       "      <th>PDeaths</th>\n",
       "      <th>Cases (+)</th>\n",
       "      <th>Deaths (+)</th>\n",
       "      <th>Fatality Rate</th>\n",
       "      <th>Continent</th>\n",
       "    </tr>\n",
       "  </thead>\n",
       "  <tbody>\n",
       "    <tr>\n",
       "      <th>0</th>\n",
       "      <td>US</td>\n",
       "      <td>48990127</td>\n",
       "      <td>787695</td>\n",
       "      <td>48832228</td>\n",
       "      <td>785900</td>\n",
       "      <td>157899</td>\n",
       "      <td>1795</td>\n",
       "      <td>1.61</td>\n",
       "      <td>North America</td>\n",
       "    </tr>\n",
       "    <tr>\n",
       "      <th>1</th>\n",
       "      <td>India</td>\n",
       "      <td>34624360</td>\n",
       "      <td>470530</td>\n",
       "      <td>34615757</td>\n",
       "      <td>470115</td>\n",
       "      <td>8603</td>\n",
       "      <td>415</td>\n",
       "      <td>1.36</td>\n",
       "      <td>Asia</td>\n",
       "    </tr>\n",
       "    <tr>\n",
       "      <th>2</th>\n",
       "      <td>Brazil</td>\n",
       "      <td>22129409</td>\n",
       "      <td>615400</td>\n",
       "      <td>22118782</td>\n",
       "      <td>615179</td>\n",
       "      <td>10627</td>\n",
       "      <td>221</td>\n",
       "      <td>2.78</td>\n",
       "      <td>South America</td>\n",
       "    </tr>\n",
       "    <tr>\n",
       "      <th>3</th>\n",
       "      <td>United Kingdom</td>\n",
       "      <td>10438381</td>\n",
       "      <td>145874</td>\n",
       "      <td>10387200</td>\n",
       "      <td>145728</td>\n",
       "      <td>51181</td>\n",
       "      <td>146</td>\n",
       "      <td>1.40</td>\n",
       "      <td>Europe</td>\n",
       "    </tr>\n",
       "    <tr>\n",
       "      <th>4</th>\n",
       "      <td>Russia</td>\n",
       "      <td>9565909</td>\n",
       "      <td>273463</td>\n",
       "      <td>9533593</td>\n",
       "      <td>272279</td>\n",
       "      <td>32316</td>\n",
       "      <td>1184</td>\n",
       "      <td>2.86</td>\n",
       "      <td>Europe</td>\n",
       "    </tr>\n",
       "  </tbody>\n",
       "</table>\n",
       "</div>"
      ],
      "text/plain": [
       "   Country/Region     Cases  Deaths    PCases  PDeaths  Cases (+)  Deaths (+)  \\\n",
       "0              US  48990127  787695  48832228   785900     157899        1795   \n",
       "1           India  34624360  470530  34615757   470115       8603         415   \n",
       "2          Brazil  22129409  615400  22118782   615179      10627         221   \n",
       "3  United Kingdom  10438381  145874  10387200   145728      51181         146   \n",
       "4          Russia   9565909  273463   9533593   272279      32316        1184   \n",
       "\n",
       "   Fatality Rate      Continent  \n",
       "0           1.61  North America  \n",
       "1           1.36           Asia  \n",
       "2           2.78  South America  \n",
       "3           1.40         Europe  \n",
       "4           2.86         Europe  "
      ]
     },
     "execution_count": 13,
     "metadata": {},
     "output_type": "execute_result"
    }
   ],
   "source": [
    "#hide\n",
    "for c in 'Cases, Deaths'.split(', '):\n",
    "    df_table[f'{c} (+)'] = (df_table[c] - df_table[f'P{c}']).clip(0)\n",
    "    #Clip ça veut dire, les chiffres negatif sont interdit\n",
    "df_table['Fatality Rate'] = (100* df_table['Deaths']/ df_table['Cases']).round(2)\n",
    "df_table['Continent'] = df_table['Country/Region'].map(mapping['map.continent'])\n",
    "df_table.head(5)"
   ]
  },
  {
   "cell_type": "code",
   "execution_count": 14,
   "id": "aboriginal-bulgaria",
   "metadata": {
    "execution": {
     "iopub.execute_input": "2021-12-04T12:12:03.029682Z",
     "iopub.status.busy": "2021-12-04T12:12:03.029005Z",
     "iopub.status.idle": "2021-12-04T12:12:03.031532Z",
     "shell.execute_reply": "2021-12-04T12:12:03.030876Z"
    },
    "papermill": {
     "duration": 0.048445,
     "end_time": "2021-12-04T12:12:03.031670",
     "exception": false,
     "start_time": "2021-12-04T12:12:02.983225",
     "status": "completed"
    },
    "tags": []
   },
   "outputs": [],
   "source": [
    "#hide\n",
    "#delete problematic countries from table\n",
    "df_table = df_table[~df_table['Country/Region'].isin(['Cape Verde', 'Cruise Ship', 'Kosovo'])]"
   ]
  },
  {
   "cell_type": "code",
   "execution_count": 15,
   "id": "fantastic-effect",
   "metadata": {
    "execution": {
     "iopub.execute_input": "2021-12-04T12:12:03.119694Z",
     "iopub.status.busy": "2021-12-04T12:12:03.119019Z",
     "iopub.status.idle": "2021-12-04T12:12:03.141861Z",
     "shell.execute_reply": "2021-12-04T12:12:03.141293Z"
    },
    "papermill": {
     "duration": 0.070617,
     "end_time": "2021-12-04T12:12:03.142007",
     "exception": false,
     "start_time": "2021-12-04T12:12:03.071390",
     "status": "completed"
    },
    "tags": []
   },
   "outputs": [
    {
     "data": {
      "text/html": [
       "<div>\n",
       "<style scoped>\n",
       "    .dataframe tbody tr th:only-of-type {\n",
       "        vertical-align: middle;\n",
       "    }\n",
       "\n",
       "    .dataframe tbody tr th {\n",
       "        vertical-align: top;\n",
       "    }\n",
       "\n",
       "    .dataframe thead th {\n",
       "        text-align: right;\n",
       "    }\n",
       "</style>\n",
       "<table border=\"1\" class=\"dataframe\">\n",
       "  <thead>\n",
       "    <tr style=\"text-align: right;\">\n",
       "      <th></th>\n",
       "      <th>Country/Region</th>\n",
       "      <th>Cases</th>\n",
       "      <th>Deaths</th>\n",
       "      <th>PCases</th>\n",
       "      <th>PDeaths</th>\n",
       "      <th>Cases (+)</th>\n",
       "      <th>Deaths (+)</th>\n",
       "      <th>Fatality Rate</th>\n",
       "      <th>Continent</th>\n",
       "    </tr>\n",
       "  </thead>\n",
       "  <tbody>\n",
       "    <tr>\n",
       "      <th>0</th>\n",
       "      <td>US</td>\n",
       "      <td>48990127</td>\n",
       "      <td>787695</td>\n",
       "      <td>48832228</td>\n",
       "      <td>785900</td>\n",
       "      <td>157899</td>\n",
       "      <td>1795</td>\n",
       "      <td>1.6</td>\n",
       "      <td>North America</td>\n",
       "    </tr>\n",
       "    <tr>\n",
       "      <th>1</th>\n",
       "      <td>India</td>\n",
       "      <td>34624360</td>\n",
       "      <td>470530</td>\n",
       "      <td>34615757</td>\n",
       "      <td>470115</td>\n",
       "      <td>8603</td>\n",
       "      <td>415</td>\n",
       "      <td>1.4</td>\n",
       "      <td>Asia</td>\n",
       "    </tr>\n",
       "    <tr>\n",
       "      <th>2</th>\n",
       "      <td>Brazil</td>\n",
       "      <td>22129409</td>\n",
       "      <td>615400</td>\n",
       "      <td>22118782</td>\n",
       "      <td>615179</td>\n",
       "      <td>10627</td>\n",
       "      <td>221</td>\n",
       "      <td>2.8</td>\n",
       "      <td>South America</td>\n",
       "    </tr>\n",
       "    <tr>\n",
       "      <th>3</th>\n",
       "      <td>United Kingdom</td>\n",
       "      <td>10438381</td>\n",
       "      <td>145874</td>\n",
       "      <td>10387200</td>\n",
       "      <td>145728</td>\n",
       "      <td>51181</td>\n",
       "      <td>146</td>\n",
       "      <td>1.4</td>\n",
       "      <td>Europe</td>\n",
       "    </tr>\n",
       "    <tr>\n",
       "      <th>4</th>\n",
       "      <td>Russia</td>\n",
       "      <td>9565909</td>\n",
       "      <td>273463</td>\n",
       "      <td>9533593</td>\n",
       "      <td>272279</td>\n",
       "      <td>32316</td>\n",
       "      <td>1184</td>\n",
       "      <td>2.9</td>\n",
       "      <td>Europe</td>\n",
       "    </tr>\n",
       "  </tbody>\n",
       "</table>\n",
       "</div>"
      ],
      "text/plain": [
       "   Country/Region     Cases  Deaths    PCases  PDeaths  Cases (+)  Deaths (+)  \\\n",
       "0              US  48990127  787695  48832228   785900     157899        1795   \n",
       "1           India  34624360  470530  34615757   470115       8603         415   \n",
       "2          Brazil  22129409  615400  22118782   615179      10627         221   \n",
       "3  United Kingdom  10438381  145874  10387200   145728      51181         146   \n",
       "4          Russia   9565909  273463   9533593   272279      32316        1184   \n",
       "\n",
       "   Fatality Rate      Continent  \n",
       "0            1.6  North America  \n",
       "1            1.4           Asia  \n",
       "2            2.8  South America  \n",
       "3            1.4         Europe  \n",
       "4            2.9         Europe  "
      ]
     },
     "execution_count": 15,
     "metadata": {},
     "output_type": "execute_result"
    }
   ],
   "source": [
    "#hide\n",
    "df_table = (pd.DataFrame(dict(Cases=dfc_cases, Deaths=dfc_deaths, PCases=dfp_cases, PDeaths=dfp_deaths))\n",
    "             .sort_values(by=['Cases', 'Deaths'], ascending=[False, False])\n",
    "             .reset_index())\n",
    "df_table.rename(columns={'index': 'Country/Region'}, inplace=True)\n",
    "for c in 'Cases, Deaths'.split(', '):\n",
    "    df_table[f'{c} (+)'] = (df_table[c] - df_table[f'P{c}']).clip(0)  # DATA BUG\n",
    "df_table['Fatality Rate'] = (100 * df_table['Deaths'] / df_table['Cases']).round(1)\n",
    "df_table['Continent'] = df_table['Country/Region'].map(mapping['map.continent'])\n",
    "df_table.head(5)"
   ]
  },
  {
   "cell_type": "code",
   "execution_count": 16,
   "id": "fewer-occasion",
   "metadata": {
    "execution": {
     "iopub.execute_input": "2021-12-04T12:12:03.231189Z",
     "iopub.status.busy": "2021-12-04T12:12:03.230514Z",
     "iopub.status.idle": "2021-12-04T12:12:03.232779Z",
     "shell.execute_reply": "2021-12-04T12:12:03.233427Z"
    },
    "papermill": {
     "duration": 0.050003,
     "end_time": "2021-12-04T12:12:03.233744",
     "exception": false,
     "start_time": "2021-12-04T12:12:03.183741",
     "status": "completed"
    },
    "tags": []
   },
   "outputs": [],
   "source": [
    "#hide\n",
    "#delete problematic countries from table\n",
    "df_table = df_table[~df_table['Country/Region'].isin(['Cape Verde', 'Cruise Ship', 'Kosovo'])]"
   ]
  },
  {
   "cell_type": "code",
   "execution_count": 17,
   "id": "related-center",
   "metadata": {
    "execution": {
     "iopub.execute_input": "2021-12-04T12:12:03.344720Z",
     "iopub.status.busy": "2021-12-04T12:12:03.343998Z",
     "iopub.status.idle": "2021-12-04T12:12:03.346452Z",
     "shell.execute_reply": "2021-12-04T12:12:03.345891Z"
    },
    "papermill": {
     "duration": 0.072281,
     "end_time": "2021-12-04T12:12:03.346600",
     "exception": false,
     "start_time": "2021-12-04T12:12:03.274319",
     "status": "completed"
    },
    "tags": []
   },
   "outputs": [],
   "source": [
    "#hide\n",
    "metrics = [df_table.columns[index] for index in [1,2,5,6]]\n",
    "# s_china = df_table[df_table['Country/Region'].eq('China')][metrics].sum().add_prefix('China ')\n",
    "s_us = df_table[df_table['Country/Region'].eq('US')][metrics].sum().add_prefix('US ')\n",
    "s_eu = df_table[df_table['Continent'].eq('Europe')][metrics].sum().add_prefix('EU ')\n",
    "s_ind = df_table[df_table['Country/Region'].eq('India')][metrics].sum().add_prefix('India ')\n",
    "summary = {'updated': pd.to_datetime(dt_today), 'since': pd.to_datetime(dt_yday)}\n",
    "summary = {'updated': pd.to_datetime(dt_today), 'since': pd.to_datetime(dt_yday)}\n",
    "summary = {**summary, **df_table[metrics].sum(), **s_ind, **s_us, **s_eu}"
   ]
  },
  {
   "cell_type": "code",
   "execution_count": 18,
   "id": "engaging-syndrome",
   "metadata": {
    "execution": {
     "iopub.execute_input": "2021-12-04T12:12:03.434523Z",
     "iopub.status.busy": "2021-12-04T12:12:03.433861Z",
     "iopub.status.idle": "2021-12-04T12:12:03.450462Z",
     "shell.execute_reply": "2021-12-04T12:12:03.449900Z"
    },
    "papermill": {
     "duration": 0.062454,
     "end_time": "2021-12-04T12:12:03.450615",
     "exception": false,
     "start_time": "2021-12-04T12:12:03.388161",
     "status": "completed"
    },
    "tags": []
   },
   "outputs": [],
   "source": [
    "#hide\n",
    "dft_ct_new_cases = dft_cases.groupby(COL_REGION)[dt_cols].sum().diff(axis=1).fillna(0).astype(int)"
   ]
  },
  {
   "cell_type": "code",
   "execution_count": 19,
   "id": "neutral-assignment",
   "metadata": {
    "execution": {
     "iopub.execute_input": "2021-12-04T12:12:03.535377Z",
     "iopub.status.busy": "2021-12-04T12:12:03.534716Z",
     "iopub.status.idle": "2021-12-04T12:12:03.537396Z",
     "shell.execute_reply": "2021-12-04T12:12:03.536861Z"
    },
    "papermill": {
     "duration": 0.048208,
     "end_time": "2021-12-04T12:12:03.537537",
     "exception": false,
     "start_time": "2021-12-04T12:12:03.489329",
     "status": "completed"
    },
    "tags": []
   },
   "outputs": [],
   "source": [
    "#hide\n",
    "everydaycases = dft_ct_new_cases.cumsum(axis=1)"
   ]
  },
  {
   "cell_type": "code",
   "execution_count": 20,
   "id": "parliamentary-calgary",
   "metadata": {
    "execution": {
     "iopub.execute_input": "2021-12-04T12:12:03.619660Z",
     "iopub.status.busy": "2021-12-04T12:12:03.619006Z",
     "iopub.status.idle": "2021-12-04T12:12:04.353386Z",
     "shell.execute_reply": "2021-12-04T12:12:04.354411Z"
    },
    "papermill": {
     "duration": 0.778717,
     "end_time": "2021-12-04T12:12:04.354595",
     "exception": false,
     "start_time": "2021-12-04T12:12:03.575878",
     "status": "completed"
    },
    "tags": []
   },
   "outputs": [],
   "source": [
    "#hide\n",
    "import pandas as pd\n",
    "import matplotlib.pyplot as plt\n",
    "import matplotlib.ticker as ticker\n",
    "import matplotlib.animation as animation\n",
    "from IPython.display import HTML"
   ]
  },
  {
   "cell_type": "code",
   "execution_count": 21,
   "id": "lasting-extraction",
   "metadata": {
    "execution": {
     "iopub.execute_input": "2021-12-04T12:12:04.441358Z",
     "iopub.status.busy": "2021-12-04T12:12:04.440654Z",
     "iopub.status.idle": "2021-12-04T12:12:04.447655Z",
     "shell.execute_reply": "2021-12-04T12:12:04.448776Z"
    },
    "papermill": {
     "duration": 0.054859,
     "end_time": "2021-12-04T12:12:04.448949",
     "exception": false,
     "start_time": "2021-12-04T12:12:04.394090",
     "status": "completed"
    },
    "tags": []
   },
   "outputs": [],
   "source": [
    "#hide\n",
    "t = everydaycases.stack()"
   ]
  },
  {
   "cell_type": "code",
   "execution_count": 22,
   "id": "premier-sleeve",
   "metadata": {
    "execution": {
     "iopub.execute_input": "2021-12-04T12:12:04.538651Z",
     "iopub.status.busy": "2021-12-04T12:12:04.537962Z",
     "iopub.status.idle": "2021-12-04T12:12:04.548314Z",
     "shell.execute_reply": "2021-12-04T12:12:04.548940Z"
    },
    "papermill": {
     "duration": 0.058014,
     "end_time": "2021-12-04T12:12:04.549117",
     "exception": false,
     "start_time": "2021-12-04T12:12:04.491103",
     "status": "completed"
    },
    "tags": []
   },
   "outputs": [],
   "source": [
    "#hide\n",
    "g = t.reset_index(['Country/Region'])"
   ]
  },
  {
   "cell_type": "code",
   "execution_count": 23,
   "id": "distributed-pittsburgh",
   "metadata": {
    "execution": {
     "iopub.execute_input": "2021-12-04T12:12:04.635115Z",
     "iopub.status.busy": "2021-12-04T12:12:04.634445Z",
     "iopub.status.idle": "2021-12-04T12:12:04.637016Z",
     "shell.execute_reply": "2021-12-04T12:12:04.636335Z"
    },
    "papermill": {
     "duration": 0.047133,
     "end_time": "2021-12-04T12:12:04.637156",
     "exception": false,
     "start_time": "2021-12-04T12:12:04.590023",
     "status": "completed"
    },
    "tags": []
   },
   "outputs": [],
   "source": [
    "#hide\n",
    "g.index.name = 'date'"
   ]
  },
  {
   "cell_type": "code",
   "execution_count": 24,
   "id": "naked-donor",
   "metadata": {
    "execution": {
     "iopub.execute_input": "2021-12-04T12:12:04.720941Z",
     "iopub.status.busy": "2021-12-04T12:12:04.720226Z",
     "iopub.status.idle": "2021-12-04T12:12:04.722267Z",
     "shell.execute_reply": "2021-12-04T12:12:04.722777Z"
    },
    "papermill": {
     "duration": 0.045852,
     "end_time": "2021-12-04T12:12:04.722934",
     "exception": false,
     "start_time": "2021-12-04T12:12:04.677082",
     "status": "completed"
    },
    "tags": []
   },
   "outputs": [],
   "source": [
    "# #hide\n",
    "# g = g.reset_index(['date'])"
   ]
  },
  {
   "cell_type": "code",
   "execution_count": 25,
   "id": "incomplete-mustang",
   "metadata": {
    "execution": {
     "iopub.execute_input": "2021-12-04T12:12:04.808438Z",
     "iopub.status.busy": "2021-12-04T12:12:04.807766Z",
     "iopub.status.idle": "2021-12-04T12:12:04.810405Z",
     "shell.execute_reply": "2021-12-04T12:12:04.809880Z"
    },
    "papermill": {
     "duration": 0.046963,
     "end_time": "2021-12-04T12:12:04.810542",
     "exception": false,
     "start_time": "2021-12-04T12:12:04.763579",
     "status": "completed"
    },
    "tags": []
   },
   "outputs": [],
   "source": [
    "#hide\n",
    "# g.head()"
   ]
  },
  {
   "cell_type": "code",
   "execution_count": 26,
   "id": "specific-kruger",
   "metadata": {
    "execution": {
     "iopub.execute_input": "2021-12-04T12:12:04.894601Z",
     "iopub.status.busy": "2021-12-04T12:12:04.893925Z",
     "iopub.status.idle": "2021-12-04T12:12:04.897750Z",
     "shell.execute_reply": "2021-12-04T12:12:04.898265Z"
    },
    "papermill": {
     "duration": 0.04832,
     "end_time": "2021-12-04T12:12:04.898428",
     "exception": false,
     "start_time": "2021-12-04T12:12:04.850108",
     "status": "completed"
    },
    "tags": []
   },
   "outputs": [],
   "source": [
    "#hide\n",
    "# g.columns = ['date','country','cases']"
   ]
  },
  {
   "cell_type": "code",
   "execution_count": 27,
   "id": "tender-conversion",
   "metadata": {
    "execution": {
     "iopub.execute_input": "2021-12-04T12:12:04.985107Z",
     "iopub.status.busy": "2021-12-04T12:12:04.984413Z",
     "iopub.status.idle": "2021-12-04T12:12:04.987211Z",
     "shell.execute_reply": "2021-12-04T12:12:04.986517Z"
    },
    "papermill": {
     "duration": 0.046609,
     "end_time": "2021-12-04T12:12:04.987350",
     "exception": false,
     "start_time": "2021-12-04T12:12:04.940741",
     "status": "completed"
    },
    "tags": []
   },
   "outputs": [],
   "source": [
    "#hide\n",
    "# g['continent'] = g.country"
   ]
  },
  {
   "cell_type": "code",
   "execution_count": 28,
   "id": "substantial-wilderness",
   "metadata": {
    "execution": {
     "iopub.execute_input": "2021-12-04T12:12:05.070066Z",
     "iopub.status.busy": "2021-12-04T12:12:05.069401Z",
     "iopub.status.idle": "2021-12-04T12:12:05.073445Z",
     "shell.execute_reply": "2021-12-04T12:12:05.073961Z"
    },
    "papermill": {
     "duration": 0.047422,
     "end_time": "2021-12-04T12:12:05.074132",
     "exception": false,
     "start_time": "2021-12-04T12:12:05.026710",
     "status": "completed"
    },
    "tags": []
   },
   "outputs": [],
   "source": [
    "#hide\n",
    "# cols = list(g.columns.values)"
   ]
  },
  {
   "cell_type": "code",
   "execution_count": 29,
   "id": "solved-farming",
   "metadata": {
    "execution": {
     "iopub.execute_input": "2021-12-04T12:12:05.157940Z",
     "iopub.status.busy": "2021-12-04T12:12:05.157196Z",
     "iopub.status.idle": "2021-12-04T12:12:05.159314Z",
     "shell.execute_reply": "2021-12-04T12:12:05.159825Z"
    },
    "papermill": {
     "duration": 0.045243,
     "end_time": "2021-12-04T12:12:05.159985",
     "exception": false,
     "start_time": "2021-12-04T12:12:05.114742",
     "status": "completed"
    },
    "tags": []
   },
   "outputs": [],
   "source": [
    "#hide\n",
    "# cols.insert(0, cols.pop())"
   ]
  },
  {
   "cell_type": "code",
   "execution_count": 30,
   "id": "executed-adoption",
   "metadata": {
    "execution": {
     "iopub.execute_input": "2021-12-04T12:12:05.245077Z",
     "iopub.status.busy": "2021-12-04T12:12:05.244368Z",
     "iopub.status.idle": "2021-12-04T12:12:05.246435Z",
     "shell.execute_reply": "2021-12-04T12:12:05.246945Z"
    },
    "papermill": {
     "duration": 0.045749,
     "end_time": "2021-12-04T12:12:05.247103",
     "exception": false,
     "start_time": "2021-12-04T12:12:05.201354",
     "status": "completed"
    },
    "tags": []
   },
   "outputs": [],
   "source": [
    "#hide\n",
    "# g = g[cols]"
   ]
  },
  {
   "cell_type": "code",
   "execution_count": 31,
   "id": "subject-dublin",
   "metadata": {
    "execution": {
     "iopub.execute_input": "2021-12-04T12:12:05.329907Z",
     "iopub.status.busy": "2021-12-04T12:12:05.329242Z",
     "iopub.status.idle": "2021-12-04T12:12:05.333035Z",
     "shell.execute_reply": "2021-12-04T12:12:05.333538Z"
    },
    "papermill": {
     "duration": 0.046875,
     "end_time": "2021-12-04T12:12:05.333698",
     "exception": false,
     "start_time": "2021-12-04T12:12:05.286823",
     "status": "completed"
    },
    "tags": []
   },
   "outputs": [],
   "source": [
    "#hide\n",
    "# g['continent'] = g['continent'].map(mapping['map.continent'])"
   ]
  },
  {
   "cell_type": "code",
   "execution_count": 32,
   "id": "freelance-scout",
   "metadata": {
    "execution": {
     "iopub.execute_input": "2021-12-04T12:12:05.416543Z",
     "iopub.status.busy": "2021-12-04T12:12:05.415866Z",
     "iopub.status.idle": "2021-12-04T12:12:05.418340Z",
     "shell.execute_reply": "2021-12-04T12:12:05.417689Z"
    },
    "papermill": {
     "duration": 0.045415,
     "end_time": "2021-12-04T12:12:05.418477",
     "exception": false,
     "start_time": "2021-12-04T12:12:05.373062",
     "status": "completed"
    },
    "tags": []
   },
   "outputs": [],
   "source": [
    "#hide\n",
    "# g.head()"
   ]
  },
  {
   "cell_type": "code",
   "execution_count": 33,
   "id": "limited-engine",
   "metadata": {
    "execution": {
     "iopub.execute_input": "2021-12-04T12:12:05.505143Z",
     "iopub.status.busy": "2021-12-04T12:12:05.504451Z",
     "iopub.status.idle": "2021-12-04T12:12:05.507484Z",
     "shell.execute_reply": "2021-12-04T12:12:05.507995Z"
    },
    "papermill": {
     "duration": 0.049197,
     "end_time": "2021-12-04T12:12:05.508154",
     "exception": false,
     "start_time": "2021-12-04T12:12:05.458957",
     "status": "completed"
    },
    "tags": []
   },
   "outputs": [],
   "source": [
    "# hide\n",
    "# g['date'] = g['date'].astype('datetime64[ns]')"
   ]
  },
  {
   "cell_type": "code",
   "execution_count": 34,
   "id": "sophisticated-supervisor",
   "metadata": {
    "execution": {
     "iopub.execute_input": "2021-12-04T12:12:05.592322Z",
     "iopub.status.busy": "2021-12-04T12:12:05.591644Z",
     "iopub.status.idle": "2021-12-04T12:12:05.596077Z",
     "shell.execute_reply": "2021-12-04T12:12:05.595279Z"
    },
    "papermill": {
     "duration": 0.04769,
     "end_time": "2021-12-04T12:12:05.596238",
     "exception": false,
     "start_time": "2021-12-04T12:12:05.548548",
     "status": "completed"
    },
    "tags": []
   },
   "outputs": [],
   "source": [
    "#hide\n",
    "# g['date'] = g.date.dt.dayofyear"
   ]
  },
  {
   "cell_type": "code",
   "execution_count": 35,
   "id": "inside-dubai",
   "metadata": {
    "execution": {
     "iopub.execute_input": "2021-12-04T12:12:05.682821Z",
     "iopub.status.busy": "2021-12-04T12:12:05.682147Z",
     "iopub.status.idle": "2021-12-04T12:12:05.684655Z",
     "shell.execute_reply": "2021-12-04T12:12:05.684002Z"
    },
    "papermill": {
     "duration": 0.047986,
     "end_time": "2021-12-04T12:12:05.684840",
     "exception": false,
     "start_time": "2021-12-04T12:12:05.636854",
     "status": "completed"
    },
    "tags": []
   },
   "outputs": [],
   "source": [
    "#hide\n",
    "# g = g.rename(columns= {'continent':'group','country':'name','cases':'value'})"
   ]
  },
  {
   "cell_type": "code",
   "execution_count": 36,
   "id": "fleet-motorcycle",
   "metadata": {
    "execution": {
     "iopub.execute_input": "2021-12-04T12:12:05.770124Z",
     "iopub.status.busy": "2021-12-04T12:12:05.769468Z",
     "iopub.status.idle": "2021-12-04T12:12:05.771594Z",
     "shell.execute_reply": "2021-12-04T12:12:05.772262Z"
    },
    "papermill": {
     "duration": 0.046861,
     "end_time": "2021-12-04T12:12:05.772418",
     "exception": false,
     "start_time": "2021-12-04T12:12:05.725557",
     "status": "completed"
    },
    "tags": []
   },
   "outputs": [],
   "source": [
    "#hide\n",
    "# cols = ['name','group','day','value']"
   ]
  },
  {
   "cell_type": "code",
   "execution_count": 37,
   "id": "continued-sleeping",
   "metadata": {
    "execution": {
     "iopub.execute_input": "2021-12-04T12:12:05.857443Z",
     "iopub.status.busy": "2021-12-04T12:12:05.856768Z",
     "iopub.status.idle": "2021-12-04T12:12:05.859954Z",
     "shell.execute_reply": "2021-12-04T12:12:05.859380Z"
    },
    "papermill": {
     "duration": 0.046547,
     "end_time": "2021-12-04T12:12:05.860090",
     "exception": false,
     "start_time": "2021-12-04T12:12:05.813543",
     "status": "completed"
    },
    "tags": []
   },
   "outputs": [],
   "source": [
    "#hide\n",
    "# g.rename(columns= {'date':'day'},inplace = True)"
   ]
  },
  {
   "cell_type": "code",
   "execution_count": 38,
   "id": "major-fight",
   "metadata": {
    "execution": {
     "iopub.execute_input": "2021-12-04T12:12:05.944743Z",
     "iopub.status.busy": "2021-12-04T12:12:05.944038Z",
     "iopub.status.idle": "2021-12-04T12:12:05.946571Z",
     "shell.execute_reply": "2021-12-04T12:12:05.946040Z"
    },
    "papermill": {
     "duration": 0.046593,
     "end_time": "2021-12-04T12:12:05.946709",
     "exception": false,
     "start_time": "2021-12-04T12:12:05.900116",
     "status": "completed"
    },
    "tags": []
   },
   "outputs": [],
   "source": [
    "#hide\n",
    "# g = g[cols]"
   ]
  },
  {
   "cell_type": "code",
   "execution_count": 39,
   "id": "structured-mobile",
   "metadata": {
    "execution": {
     "iopub.execute_input": "2021-12-04T12:12:06.029490Z",
     "iopub.status.busy": "2021-12-04T12:12:06.028821Z",
     "iopub.status.idle": "2021-12-04T12:12:06.031405Z",
     "shell.execute_reply": "2021-12-04T12:12:06.030843Z"
    },
    "papermill": {
     "duration": 0.045183,
     "end_time": "2021-12-04T12:12:06.031540",
     "exception": false,
     "start_time": "2021-12-04T12:12:05.986357",
     "status": "completed"
    },
    "tags": []
   },
   "outputs": [],
   "source": [
    "# #hide\n",
    "# g = g[g.group.notna()]"
   ]
  },
  {
   "cell_type": "code",
   "execution_count": 40,
   "id": "determined-closing",
   "metadata": {
    "execution": {
     "iopub.execute_input": "2021-12-04T12:12:06.115581Z",
     "iopub.status.busy": "2021-12-04T12:12:06.114901Z",
     "iopub.status.idle": "2021-12-04T12:12:06.118610Z",
     "shell.execute_reply": "2021-12-04T12:12:06.119110Z"
    },
    "papermill": {
     "duration": 0.047503,
     "end_time": "2021-12-04T12:12:06.119265",
     "exception": false,
     "start_time": "2021-12-04T12:12:06.071762",
     "status": "completed"
    },
    "tags": []
   },
   "outputs": [],
   "source": [
    "# #hide\n",
    "# colors = dict(zip(\n",
    "#     [\"Oceania\", \"Europe\", \"Asia\", \"South America\", \"Middle East\", \"North America\", \"Africa\"],\n",
    "#     [\"#adb0ff\", \"#ffb3ff\", \"#90d595\", \"#e48381\", \"#aafbff\", \"#f7bb5f\", \"#eafb50\"]\n",
    "# ))\n",
    "# group_lk = g.set_index('name')['group'].to_dict()"
   ]
  },
  {
   "cell_type": "code",
   "execution_count": null,
   "id": "gross-drinking",
   "metadata": {
    "papermill": {
     "duration": 0.040817,
     "end_time": "2021-12-04T12:12:06.198716",
     "exception": false,
     "start_time": "2021-12-04T12:12:06.157899",
     "status": "completed"
    },
    "tags": []
   },
   "outputs": [],
   "source": []
  },
  {
   "cell_type": "code",
   "execution_count": 41,
   "id": "subject-macintosh",
   "metadata": {
    "execution": {
     "iopub.execute_input": "2021-12-04T12:12:06.282637Z",
     "iopub.status.busy": "2021-12-04T12:12:06.281949Z",
     "iopub.status.idle": "2021-12-04T12:12:06.283959Z",
     "shell.execute_reply": "2021-12-04T12:12:06.284469Z"
    },
    "papermill": {
     "duration": 0.047266,
     "end_time": "2021-12-04T12:12:06.284627",
     "exception": false,
     "start_time": "2021-12-04T12:12:06.237361",
     "status": "completed"
    },
    "tags": []
   },
   "outputs": [],
   "source": [
    "# #hide\n",
    "# fig, ax = plt.subplots(figsize=(15, 8))\n",
    "\n",
    "# def draw_barchart(current_day):\n",
    "#     dff = g[g['day'].eq(current_day)].sort_values(by='value', ascending=True).tail(10)\n",
    "#     ax.clear()\n",
    "#     ax.barh(dff['name'], dff['value'], color=[colors[group_lk[x]] for x in dff['name']])\n",
    "#     dx = dff['value'].max() / 200\n",
    "    \n",
    "#     for i, (value, name) in enumerate(zip(dff['value'], dff['name'])):\n",
    "#         ax.text(value-dx, i,     name,           size=14, weight=600, ha='right', va='bottom')\n",
    "#         ax.text(value-dx, i-.25, group_lk[name], size=10, color='#444444', ha='right', va='baseline')\n",
    "#         ax.text(value+dx, i,     f'{value:,.0f}',  size=14, ha='left',  va='center')\n",
    "#     ax.text(1, 0.4, current_day, transform=ax.transAxes, color='#777777', size=46, ha='right', weight=800)\n",
    "#     ax.text(0, 1.06, 'Population (thousands)', transform=ax.transAxes, size=12, color='#777777')\n",
    "#     ax.xaxis.set_major_formatter(ticker.StrMethodFormatter('{x:,.0f}'))\n",
    "#     ax.xaxis.set_ticks_position('top')\n",
    "#     ax.tick_params(axis='x', colors='#777777', labelsize=12)\n",
    "#     ax.set_yticks([])\n",
    "#     ax.margins(0, 0.01)\n",
    "#     ax.grid(which='major', axis='x', linestyle='-')\n",
    "#     ax.set_axisbelow(True)\n",
    "    \n",
    "#     ax.text(0, 1.15, 'Coronavirus',\n",
    "#             transform=ax.transAxes, size=24, weight=600, ha='left', va='top')\n",
    "# #     ax.text(1, 0, 'by @pratapvardhan; credit @jburnmurdoch', transform=ax.transAxes, color='#777777', ha='right',\n",
    "# #             bbox=dict(facecolor='white', alpha=0.8, edgecolor='white'))\n",
    "#     plt.box(False)"
   ]
  },
  {
   "cell_type": "code",
   "execution_count": 42,
   "id": "sexual-wages",
   "metadata": {
    "execution": {
     "iopub.execute_input": "2021-12-04T12:12:06.368488Z",
     "iopub.status.busy": "2021-12-04T12:12:06.367808Z",
     "iopub.status.idle": "2021-12-04T12:12:06.370118Z",
     "shell.execute_reply": "2021-12-04T12:12:06.369470Z"
    },
    "papermill": {
     "duration": 0.04622,
     "end_time": "2021-12-04T12:12:06.370252",
     "exception": false,
     "start_time": "2021-12-04T12:12:06.324032",
     "status": "completed"
    },
    "tags": []
   },
   "outputs": [],
   "source": [
    "# #hide_input\n",
    "# fig, ax = plt.subplots(figsize=(15, 8))\n",
    "# animator = animation.FuncAnimation(fig, draw_barchart, frames=range(g.day.values.min(), g.day.values.max()))\n",
    "# HTML(animator.to_jshtml())\n",
    "# # or use animator.to_html5_video() or animator.save() "
   ]
  },
  {
   "cell_type": "code",
   "execution_count": null,
   "id": "australian-container",
   "metadata": {
    "papermill": {
     "duration": 0.040172,
     "end_time": "2021-12-04T12:12:06.449155",
     "exception": false,
     "start_time": "2021-12-04T12:12:06.408983",
     "status": "completed"
    },
    "tags": []
   },
   "outputs": [],
   "source": []
  },
  {
   "cell_type": "code",
   "execution_count": null,
   "id": "mediterranean-pontiac",
   "metadata": {
    "papermill": {
     "duration": 0.038934,
     "end_time": "2021-12-04T12:12:06.528390",
     "exception": false,
     "start_time": "2021-12-04T12:12:06.489456",
     "status": "completed"
    },
    "tags": []
   },
   "outputs": [],
   "source": []
  },
  {
   "cell_type": "code",
   "execution_count": null,
   "id": "aging-legislature",
   "metadata": {
    "papermill": {
     "duration": 0.038193,
     "end_time": "2021-12-04T12:12:06.606820",
     "exception": false,
     "start_time": "2021-12-04T12:12:06.568627",
     "status": "completed"
    },
    "tags": []
   },
   "outputs": [],
   "source": []
  }
 ],
 "metadata": {
  "kernelspec": {
   "display_name": "Python 3",
   "language": "python",
   "name": "python3"
  },
  "language_info": {
   "codemirror_mode": {
    "name": "ipython",
    "version": 3
   },
   "file_extension": ".py",
   "mimetype": "text/x-python",
   "name": "python",
   "nbconvert_exporter": "python",
   "pygments_lexer": "ipython3",
   "version": "3.6.15"
  },
  "papermill": {
   "duration": 7.474253,
   "end_time": "2021-12-04T12:12:07.056650",
   "environment_variables": {},
   "exception": null,
   "input_path": "2020-03-21-covid19exp.ipynb",
   "output_path": "2020-03-21-covid19exp.ipynb",
   "parameters": {},
   "start_time": "2021-12-04T12:11:59.582397",
   "version": "2.0.0"
  }
 },
 "nbformat": 4,
 "nbformat_minor": 5
}