{
 "cells": [
  {
   "cell_type": "markdown",
   "metadata": {
    "papermill": {
     "duration": 0.026503,
     "end_time": "2020-04-23T06:08:03.529194",
     "exception": false,
     "start_time": "2020-04-23T06:08:03.502691",
     "status": "completed"
    },
    "tags": []
   },
   "source": [
    "# COVID-19 Overview\n",
    "> Tracking coronavirus total cases, deaths and new cases by country\n",
    "\n",
    "- author: Hargun Oberoi\n",
    "- image: images/covid-overview.png\n",
    "- permalink: /covid-overview/\n",
    "- hide: false\n",
    "- badges: false"
   ]
  },
  {
   "cell_type": "code",
   "execution_count": 2,
   "metadata": {
    "execution": {
     "iopub.execute_input": "2020-04-23T06:08:03.569385Z",
     "iopub.status.busy": "2020-04-23T06:08:03.568683Z",
     "iopub.status.idle": "2020-04-23T06:08:04.002964Z",
     "shell.execute_reply": "2020-04-23T06:08:04.002016Z"
    },
    "papermill": {
     "duration": 0.456332,
     "end_time": "2020-04-23T06:08:04.003107",
     "exception": false,
     "start_time": "2020-04-23T06:08:03.546775",
     "status": "completed"
    },
    "tags": []
   },
   "outputs": [],
   "source": [
    "#hide\n",
    "import numpy as np\n",
    "import pandas as pd\n",
    "from jinja2 import Template\n",
    "from IPython.display import HTML"
   ]
  },
  {
   "cell_type": "code",
   "execution_count": 1,
   "metadata": {
    "execution": {
     "iopub.execute_input": "2020-04-23T06:08:04.042759Z",
     "iopub.status.busy": "2020-04-23T06:08:04.041516Z",
     "iopub.status.idle": "2020-04-23T06:08:04.044956Z",
     "shell.execute_reply": "2020-04-23T06:08:04.047310Z"
    },
    "papermill": {
     "duration": 0.02779,
     "end_time": "2020-04-23T06:08:04.047852",
     "exception": false,
     "start_time": "2020-04-23T06:08:04.020062",
     "status": "completed"
    },
    "tags": []
   },
   "outputs": [],
   "source": [
    "#hide\n",
    "\n",
    "# FETCH\n",
    "base_url = 'https://raw.githubusercontent.com/pratapvardhan/notebooks/master/covid19/'\n",
    "paths = {\n",
    "    'mapping': base_url + 'mapping_countries.csv',\n",
    "    'overview': base_url + 'overview.tpl'\n",
    "}"
   ]
  },
  {
   "cell_type": "code",
   "execution_count": 3,
   "metadata": {
    "execution": {
     "iopub.execute_input": "2020-04-23T06:08:04.111235Z",
     "iopub.status.busy": "2020-04-23T06:08:04.108531Z",
     "iopub.status.idle": "2020-04-23T06:08:04.116109Z",
     "shell.execute_reply": "2020-04-23T06:08:04.115005Z"
    },
    "papermill": {
     "duration": 0.043834,
     "end_time": "2020-04-23T06:08:04.116245",
     "exception": false,
     "start_time": "2020-04-23T06:08:04.072411",
     "status": "completed"
    },
    "tags": []
   },
   "outputs": [
    {
     "output_type": "execute_result",
     "data": {
      "text/plain": "'https://raw.githubusercontent.com/pratapvardhan/notebooks/master/covid19/mapping_countries.csv'"
     },
     "metadata": {},
     "execution_count": 3
    }
   ],
   "source": [
    "#hide\n",
    "paths['mapping']"
   ]
  },
  {
   "cell_type": "code",
   "execution_count": 4,
   "metadata": {
    "execution": {
     "iopub.execute_input": "2020-04-23T06:08:04.172671Z",
     "iopub.status.busy": "2020-04-23T06:08:04.171987Z",
     "iopub.status.idle": "2020-04-23T06:08:04.174674Z",
     "shell.execute_reply": "2020-04-23T06:08:04.174091Z"
    },
    "papermill": {
     "duration": 0.034982,
     "end_time": "2020-04-23T06:08:04.174804",
     "exception": false,
     "start_time": "2020-04-23T06:08:04.139822",
     "status": "completed"
    },
    "tags": []
   },
   "outputs": [],
   "source": [
    "#hide\n",
    "def get_mappings(url):\n",
    "    df = pd.read_csv(url)\n",
    "    return {\n",
    "        'df': df,\n",
    "        'replace.country': dict(df.dropna(subset=['Name']).set_index('Country')['Name']),\n",
    "        'map.continent': dict(df.set_index('Name')['Continent'])\n",
    "    }"
   ]
  },
  {
   "cell_type": "code",
   "execution_count": 5,
   "metadata": {
    "execution": {
     "iopub.execute_input": "2020-04-23T06:08:04.216119Z",
     "iopub.status.busy": "2020-04-23T06:08:04.215431Z",
     "iopub.status.idle": "2020-04-23T06:08:04.260084Z",
     "shell.execute_reply": "2020-04-23T06:08:04.260688Z"
    },
    "papermill": {
     "duration": 0.069041,
     "end_time": "2020-04-23T06:08:04.260843",
     "exception": false,
     "start_time": "2020-04-23T06:08:04.191802",
     "status": "completed"
    },
    "tags": []
   },
   "outputs": [],
   "source": [
    "#hide\n",
    "mapping = get_mappings(paths['mapping'])"
   ]
  },
  {
   "cell_type": "code",
   "execution_count": 6,
   "metadata": {
    "execution": {
     "iopub.execute_input": "2020-04-23T06:08:04.303227Z",
     "iopub.status.busy": "2020-04-23T06:08:04.302550Z",
     "iopub.status.idle": "2020-04-23T06:08:04.306005Z",
     "shell.execute_reply": "2020-04-23T06:08:04.305324Z"
    },
    "papermill": {
     "duration": 0.02772,
     "end_time": "2020-04-23T06:08:04.306128",
     "exception": false,
     "start_time": "2020-04-23T06:08:04.278408",
     "status": "completed"
    },
    "tags": []
   },
   "outputs": [],
   "source": [
    "#hide\n",
    "def get_template(path):\n",
    "    from urllib.parse import urlparse\n",
    "    if bool(urlparse(path).netloc):\n",
    "        from urllib.request import urlopen\n",
    "        return urlopen(path).read().decode('utf8')\n",
    "    return open(path).read()"
   ]
  },
  {
   "cell_type": "code",
   "execution_count": 7,
   "metadata": {
    "execution": {
     "iopub.execute_input": "2020-04-23T06:08:04.346847Z",
     "iopub.status.busy": "2020-04-23T06:08:04.346166Z",
     "iopub.status.idle": "2020-04-23T06:08:04.348609Z",
     "shell.execute_reply": "2020-04-23T06:08:04.349162Z"
    },
    "papermill": {
     "duration": 0.025933,
     "end_time": "2020-04-23T06:08:04.349309",
     "exception": false,
     "start_time": "2020-04-23T06:08:04.323376",
     "status": "completed"
    },
    "tags": []
   },
   "outputs": [],
   "source": [
    "#hide\n",
    "def get_frame(name):\n",
    "    url = (\n",
    "        'https://raw.githubusercontent.com/CSSEGISandData/COVID-19/master/csse_covid_19_data/'\n",
    "        f'csse_covid_19_time_series/time_series_covid19_{name}_global.csv')\n",
    "    df = pd.read_csv(url)\n",
    "    # rename countries\n",
    "    df['Country/Region'] = df['Country/Region'].replace(mapping['replace.country'])\n",
    "    return df"
   ]
  },
  {
   "cell_type": "code",
   "execution_count": 8,
   "metadata": {
    "execution": {
     "iopub.execute_input": "2020-04-23T06:08:04.391805Z",
     "iopub.status.busy": "2020-04-23T06:08:04.390983Z",
     "iopub.status.idle": "2020-04-23T06:08:04.404607Z",
     "shell.execute_reply": "2020-04-23T06:08:04.403860Z"
    },
    "papermill": {
     "duration": 0.038232,
     "end_time": "2020-04-23T06:08:04.404739",
     "exception": false,
     "start_time": "2020-04-23T06:08:04.366507",
     "status": "completed"
    },
    "tags": []
   },
   "outputs": [],
   "source": [
    "#hide\n",
    "def get_dates(df):\n",
    "    dt_cols = df.columns[~df.columns.isin(['Province/State', 'Country/Region', 'Lat', 'Long'])]\n",
    "    LAST_DATE_I = -1\n",
    "    # sometimes last column may be empty, then go backwards\n",
    "    for i in range(-1, -len(dt_cols), -1):\n",
    "        if not df[dt_cols[i]].fillna(0).eq(0).all():\n",
    "            LAST_DATE_I = i\n",
    "            break\n",
    "    return LAST_DATE_I, dt_cols"
   ]
  },
  {
   "cell_type": "code",
   "execution_count": 9,
   "metadata": {
    "execution": {
     "iopub.execute_input": "2020-04-23T06:08:04.447477Z",
     "iopub.status.busy": "2020-04-23T06:08:04.446736Z",
     "iopub.status.idle": "2020-04-23T06:08:04.610803Z",
     "shell.execute_reply": "2020-04-23T06:08:04.609582Z"
    },
    "papermill": {
     "duration": 0.188315,
     "end_time": "2020-04-23T06:08:04.610992",
     "exception": false,
     "start_time": "2020-04-23T06:08:04.422677",
     "status": "completed"
    },
    "tags": []
   },
   "outputs": [],
   "source": [
    "#hide\n",
    "COL_REGION = 'Country/Region'\n",
    "# Confirmed, Recovered, Deaths\n",
    "df = get_frame('confirmed')\n",
    "# dft_: timeseries, dfc_: today country agg\n",
    "dft_cases = df\n",
    "dft_deaths = get_frame('deaths')\n",
    "dft_recovered = get_frame('recovered')\n",
    "LAST_DATE_I, dt_cols = get_dates(df)"
   ]
  },
  {
   "cell_type": "code",
   "execution_count": 10,
   "metadata": {
    "execution": {
     "iopub.execute_input": "2020-04-23T06:08:04.655600Z",
     "iopub.status.busy": "2020-04-23T06:08:04.654816Z",
     "iopub.status.idle": "2020-04-23T06:08:04.656686Z",
     "shell.execute_reply": "2020-04-23T06:08:04.657330Z"
    },
    "papermill": {
     "duration": 0.028552,
     "end_time": "2020-04-23T06:08:04.657476",
     "exception": false,
     "start_time": "2020-04-23T06:08:04.628924",
     "status": "completed"
    },
    "tags": []
   },
   "outputs": [],
   "source": [
    "#hide\n",
    "LAST_DATE_I, dt_cols = get_dates(df)\n",
    "dt_today =dt_cols[LAST_DATE_I]\n",
    "# dt_5day = dt_cols[LAST_DATE_I - 5]\n",
    "dt_yday = dt_cols[LAST_DATE_I - 1]"
   ]
  },
  {
   "cell_type": "code",
   "execution_count": 11,
   "metadata": {
    "execution": {
     "iopub.execute_input": "2020-04-23T06:08:04.695347Z",
     "iopub.status.busy": "2020-04-23T06:08:04.694634Z",
     "iopub.status.idle": "2020-04-23T06:08:04.717256Z",
     "shell.execute_reply": "2020-04-23T06:08:04.717827Z"
    },
    "papermill": {
     "duration": 0.043156,
     "end_time": "2020-04-23T06:08:04.718004",
     "exception": false,
     "start_time": "2020-04-23T06:08:04.674848",
     "status": "completed"
    },
    "tags": []
   },
   "outputs": [],
   "source": [
    "#hide\n",
    "dfc_cases = dft_cases.groupby(COL_REGION)[dt_today].sum()\n",
    "dfc_deaths = dft_deaths.groupby(COL_REGION)[dt_today].sum()\n",
    "# dfp_cases = dft_cases.groupby(COL_REGION)[dt_5day].sum()\n",
    "# dfp_deaths = dft_deaths.groupby(COL_REGION)[dt_5day].sum()\n",
    "dfp_cases = dft_cases.groupby(COL_REGION)[dt_yday].sum()\n",
    "dfp_deaths = dft_deaths.groupby(COL_REGION)[dt_yday].sum()"
   ]
  },
  {
   "cell_type": "code",
   "execution_count": 12,
   "metadata": {
    "execution": {
     "iopub.execute_input": "2020-04-23T06:08:04.762648Z",
     "iopub.status.busy": "2020-04-23T06:08:04.761957Z",
     "iopub.status.idle": "2020-04-23T06:08:04.767844Z",
     "shell.execute_reply": "2020-04-23T06:08:04.767130Z"
    },
    "papermill": {
     "duration": 0.032014,
     "end_time": "2020-04-23T06:08:04.767973",
     "exception": false,
     "start_time": "2020-04-23T06:08:04.735959",
     "status": "completed"
    },
    "tags": []
   },
   "outputs": [],
   "source": [
    "#hide\n",
    "df_table = (pd.DataFrame(dict(Cases = dfc_cases, Deaths = dfc_deaths, PCases = dfp_cases, PDeaths = dfp_deaths))\n",
    "            .sort_values(by = ['Cases','Deaths'], ascending = [False, False])\n",
    "            .reset_index())"
   ]
  },
  {
   "cell_type": "code",
   "execution_count": 13,
   "metadata": {
    "execution": {
     "iopub.execute_input": "2020-04-23T06:08:04.810797Z",
     "iopub.status.busy": "2020-04-23T06:08:04.809992Z",
     "iopub.status.idle": "2020-04-23T06:08:04.856883Z",
     "shell.execute_reply": "2020-04-23T06:08:04.856311Z"
    },
    "papermill": {
     "duration": 0.070625,
     "end_time": "2020-04-23T06:08:04.857025",
     "exception": false,
     "start_time": "2020-04-23T06:08:04.786400",
     "status": "completed"
    },
    "tags": []
   },
   "outputs": [
    {
     "output_type": "execute_result",
     "data": {
      "text/plain": "  Country/Region   Cases  Deaths  PCases  PDeaths  Cases (+)  Deaths (+)  \\\n0             US  869170   49954  840351    46622      28819        3332   \n1          Spain  213024   22157  208389    21717       4635         440   \n2          Italy  189973   25549  187327    25085       2646         464   \n3         France  159460   21889  157125    21373       2335         516   \n4        Germany  153129    5575  150648     5279       2481         296   \n\n   Fatality Rate      Continent  \n0           5.75  North America  \n1          10.40         Europe  \n2          13.45         Europe  \n3          13.73         Europe  \n4           3.64         Europe  ",
      "text/html": "<div>\n<style scoped>\n    .dataframe tbody tr th:only-of-type {\n        vertical-align: middle;\n    }\n\n    .dataframe tbody tr th {\n        vertical-align: top;\n    }\n\n    .dataframe thead th {\n        text-align: right;\n    }\n</style>\n<table border=\"1\" class=\"dataframe\">\n  <thead>\n    <tr style=\"text-align: right;\">\n      <th></th>\n      <th>Country/Region</th>\n      <th>Cases</th>\n      <th>Deaths</th>\n      <th>PCases</th>\n      <th>PDeaths</th>\n      <th>Cases (+)</th>\n      <th>Deaths (+)</th>\n      <th>Fatality Rate</th>\n      <th>Continent</th>\n    </tr>\n  </thead>\n  <tbody>\n    <tr>\n      <th>0</th>\n      <td>US</td>\n      <td>869170</td>\n      <td>49954</td>\n      <td>840351</td>\n      <td>46622</td>\n      <td>28819</td>\n      <td>3332</td>\n      <td>5.75</td>\n      <td>North America</td>\n    </tr>\n    <tr>\n      <th>1</th>\n      <td>Spain</td>\n      <td>213024</td>\n      <td>22157</td>\n      <td>208389</td>\n      <td>21717</td>\n      <td>4635</td>\n      <td>440</td>\n      <td>10.40</td>\n      <td>Europe</td>\n    </tr>\n    <tr>\n      <th>2</th>\n      <td>Italy</td>\n      <td>189973</td>\n      <td>25549</td>\n      <td>187327</td>\n      <td>25085</td>\n      <td>2646</td>\n      <td>464</td>\n      <td>13.45</td>\n      <td>Europe</td>\n    </tr>\n    <tr>\n      <th>3</th>\n      <td>France</td>\n      <td>159460</td>\n      <td>21889</td>\n      <td>157125</td>\n      <td>21373</td>\n      <td>2335</td>\n      <td>516</td>\n      <td>13.73</td>\n      <td>Europe</td>\n    </tr>\n    <tr>\n      <th>4</th>\n      <td>Germany</td>\n      <td>153129</td>\n      <td>5575</td>\n      <td>150648</td>\n      <td>5279</td>\n      <td>2481</td>\n      <td>296</td>\n      <td>3.64</td>\n      <td>Europe</td>\n    </tr>\n  </tbody>\n</table>\n</div>"
     },
     "metadata": {},
     "execution_count": 13
    }
   ],
   "source": [
    "#hide\n",
    "for c in 'Cases, Deaths'.split(', '):\n",
    "    df_table[f'{c} (+)'] = (df_table[c] - df_table[f'P{c}']).clip(0)\n",
    "    #Clip ça veut dire, les chiffres negatif sont interdit\n",
    "df_table['Fatality Rate'] = (100* df_table['Deaths']/ df_table['Cases']).round(2)\n",
    "df_table['Continent'] = df_table['Country/Region'].map(mapping['map.continent'])\n",
    "df_table.head(5)"
   ]
  },
  {
   "cell_type": "code",
   "execution_count": 14,
   "metadata": {
    "execution": {
     "iopub.execute_input": "2020-04-23T06:08:04.899758Z",
     "iopub.status.busy": "2020-04-23T06:08:04.899040Z",
     "iopub.status.idle": "2020-04-23T06:08:04.907500Z",
     "shell.execute_reply": "2020-04-23T06:08:04.906861Z"
    },
    "papermill": {
     "duration": 0.03179,
     "end_time": "2020-04-23T06:08:04.907631",
     "exception": false,
     "start_time": "2020-04-23T06:08:04.875841",
     "status": "completed"
    },
    "tags": []
   },
   "outputs": [],
   "source": [
    "#hide\n",
    "#delete problematic countries from table\n",
    "df_table = df_table[~df_table['Country/Region'].isin(['Cape Verde', 'Cruise Ship', 'Kosovo'])]"
   ]
  },
  {
   "cell_type": "code",
   "execution_count": 15,
   "metadata": {
    "execution": {
     "iopub.execute_input": "2020-04-23T06:08:04.953938Z",
     "iopub.status.busy": "2020-04-23T06:08:04.953248Z",
     "iopub.status.idle": "2020-04-23T06:08:04.989296Z",
     "shell.execute_reply": "2020-04-23T06:08:04.989864Z"
    },
    "papermill": {
     "duration": 0.063583,
     "end_time": "2020-04-23T06:08:04.990012",
     "exception": false,
     "start_time": "2020-04-23T06:08:04.926429",
     "status": "completed"
    },
    "tags": []
   },
   "outputs": [
    {
     "output_type": "execute_result",
     "data": {
      "text/plain": "  Country/Region   Cases  Deaths  PCases  PDeaths  Cases (+)  Deaths (+)  \\\n0             US  869170   49954  840351    46622      28819        3332   \n1          Spain  213024   22157  208389    21717       4635         440   \n2          Italy  189973   25549  187327    25085       2646         464   \n3         France  159460   21889  157125    21373       2335         516   \n4        Germany  153129    5575  150648     5279       2481         296   \n\n   Fatality Rate      Continent  \n0            5.7  North America  \n1           10.4         Europe  \n2           13.4         Europe  \n3           13.7         Europe  \n4            3.6         Europe  ",
      "text/html": "<div>\n<style scoped>\n    .dataframe tbody tr th:only-of-type {\n        vertical-align: middle;\n    }\n\n    .dataframe tbody tr th {\n        vertical-align: top;\n    }\n\n    .dataframe thead th {\n        text-align: right;\n    }\n</style>\n<table border=\"1\" class=\"dataframe\">\n  <thead>\n    <tr style=\"text-align: right;\">\n      <th></th>\n      <th>Country/Region</th>\n      <th>Cases</th>\n      <th>Deaths</th>\n      <th>PCases</th>\n      <th>PDeaths</th>\n      <th>Cases (+)</th>\n      <th>Deaths (+)</th>\n      <th>Fatality Rate</th>\n      <th>Continent</th>\n    </tr>\n  </thead>\n  <tbody>\n    <tr>\n      <th>0</th>\n      <td>US</td>\n      <td>869170</td>\n      <td>49954</td>\n      <td>840351</td>\n      <td>46622</td>\n      <td>28819</td>\n      <td>3332</td>\n      <td>5.7</td>\n      <td>North America</td>\n    </tr>\n    <tr>\n      <th>1</th>\n      <td>Spain</td>\n      <td>213024</td>\n      <td>22157</td>\n      <td>208389</td>\n      <td>21717</td>\n      <td>4635</td>\n      <td>440</td>\n      <td>10.4</td>\n      <td>Europe</td>\n    </tr>\n    <tr>\n      <th>2</th>\n      <td>Italy</td>\n      <td>189973</td>\n      <td>25549</td>\n      <td>187327</td>\n      <td>25085</td>\n      <td>2646</td>\n      <td>464</td>\n      <td>13.4</td>\n      <td>Europe</td>\n    </tr>\n    <tr>\n      <th>3</th>\n      <td>France</td>\n      <td>159460</td>\n      <td>21889</td>\n      <td>157125</td>\n      <td>21373</td>\n      <td>2335</td>\n      <td>516</td>\n      <td>13.7</td>\n      <td>Europe</td>\n    </tr>\n    <tr>\n      <th>4</th>\n      <td>Germany</td>\n      <td>153129</td>\n      <td>5575</td>\n      <td>150648</td>\n      <td>5279</td>\n      <td>2481</td>\n      <td>296</td>\n      <td>3.6</td>\n      <td>Europe</td>\n    </tr>\n  </tbody>\n</table>\n</div>"
     },
     "metadata": {},
     "execution_count": 15
    }
   ],
   "source": [
    "#hide\n",
    "df_table = (pd.DataFrame(dict(Cases=dfc_cases, Deaths=dfc_deaths, PCases=dfp_cases, PDeaths=dfp_deaths))\n",
    "             .sort_values(by=['Cases', 'Deaths'], ascending=[False, False])\n",
    "             .reset_index())\n",
    "df_table.rename(columns={'index': 'Country/Region'}, inplace=True)\n",
    "for c in 'Cases, Deaths'.split(', '):\n",
    "    df_table[f'{c} (+)'] = (df_table[c] - df_table[f'P{c}']).clip(0)  # DATA BUG\n",
    "df_table['Fatality Rate'] = (100 * df_table['Deaths'] / df_table['Cases']).round(1)\n",
    "df_table['Continent'] = df_table['Country/Region'].map(mapping['map.continent'])\n",
    "df_table.head(5)"
   ]
  },
  {
   "cell_type": "code",
   "execution_count": 16,
   "metadata": {
    "execution": {
     "iopub.execute_input": "2020-04-23T06:08:05.044922Z",
     "iopub.status.busy": "2020-04-23T06:08:05.043567Z",
     "iopub.status.idle": "2020-04-23T06:08:05.053733Z",
     "shell.execute_reply": "2020-04-23T06:08:05.051627Z"
    },
    "papermill": {
     "duration": 0.037314,
     "end_time": "2020-04-23T06:08:05.053885",
     "exception": false,
     "start_time": "2020-04-23T06:08:05.016571",
     "status": "completed"
    },
    "tags": []
   },
   "outputs": [],
   "source": [
    "#hide\n",
    "#delete problematic countries from table\n",
    "df_table = df_table[~df_table['Country/Region'].isin(['Cape Verde', 'Cruise Ship', 'Kosovo'])]"
   ]
  },
  {
   "cell_type": "code",
   "execution_count": 17,
   "metadata": {
    "execution": {
     "iopub.execute_input": "2020-04-23T06:08:05.136062Z",
     "iopub.status.busy": "2020-04-23T06:08:05.134992Z",
     "iopub.status.idle": "2020-04-23T06:08:05.139976Z",
     "shell.execute_reply": "2020-04-23T06:08:05.139202Z"
    },
    "papermill": {
     "duration": 0.050906,
     "end_time": "2020-04-23T06:08:05.140106",
     "exception": false,
     "start_time": "2020-04-23T06:08:05.089200",
     "status": "completed"
    },
    "tags": []
   },
   "outputs": [],
   "source": [
    "#hide\n",
    "metrics = [df_table.columns[index] for index in [1,2,5,6]]\n",
    "# s_china = df_table[df_table['Country/Region'].eq('China')][metrics].sum().add_prefix('China ')\n",
    "s_us = df_table[df_table['Country/Region'].eq('US')][metrics].sum().add_prefix('US ')\n",
    "s_eu = df_table[df_table['Continent'].eq('Europe')][metrics].sum().add_prefix('EU ')\n",
    "s_ind = df_table[df_table['Country/Region'].eq('India')][metrics].sum().add_prefix('India ')\n",
    "summary = {'updated': pd.to_datetime(dt_today), 'since': pd.to_datetime(dt_yday)}\n",
    "summary = {'updated': pd.to_datetime(dt_today), 'since': pd.to_datetime(dt_yday)}\n",
    "summary = {**summary, **df_table[metrics].sum(), **s_ind, **s_us, **s_eu}"
   ]
  },
  {
   "cell_type": "code",
   "execution_count": 18,
   "metadata": {
    "execution": {
     "iopub.execute_input": "2020-04-23T06:08:05.212448Z",
     "iopub.status.busy": "2020-04-23T06:08:05.211030Z",
     "iopub.status.idle": "2020-04-23T06:08:05.225524Z",
     "shell.execute_reply": "2020-04-23T06:08:05.224136Z"
    },
    "papermill": {
     "duration": 0.062295,
     "end_time": "2020-04-23T06:08:05.225657",
     "exception": false,
     "start_time": "2020-04-23T06:08:05.163362",
     "status": "completed"
    },
    "tags": []
   },
   "outputs": [],
   "source": [
    "#hide\n",
    "dft_ct_new_cases = dft_cases.groupby(COL_REGION)[dt_cols].sum().diff(axis=1).fillna(0).astype(int)"
   ]
  },
  {
   "cell_type": "code",
   "execution_count": 19,
   "metadata": {
    "execution": {
     "iopub.execute_input": "2020-04-23T06:08:05.291824Z",
     "iopub.status.busy": "2020-04-23T06:08:05.291131Z",
     "iopub.status.idle": "2020-04-23T06:08:05.300533Z",
     "shell.execute_reply": "2020-04-23T06:08:05.298862Z"
    },
    "papermill": {
     "duration": 0.044341,
     "end_time": "2020-04-23T06:08:05.300661",
     "exception": false,
     "start_time": "2020-04-23T06:08:05.256320",
     "status": "completed"
    },
    "tags": []
   },
   "outputs": [],
   "source": [
    "#hide\n",
    "def get_template(path):\n",
    "    from urllib.parse import urlparse\n",
    "    if bool(urlparse(path).netloc):\n",
    "        from urllib.request import urlopen\n",
    "        return urlopen(path).read().decode('utf8')\n",
    "    return open(path).read()\n",
    "#Vraiment, je sais pas, c'est quoi"
   ]
  },
  {
   "cell_type": "code",
   "execution_count": 20,
   "metadata": {
    "execution": {
     "iopub.execute_input": "2020-04-23T06:08:05.353374Z",
     "iopub.status.busy": "2020-04-23T06:08:05.352689Z",
     "iopub.status.idle": "2020-04-23T06:08:05.496725Z",
     "shell.execute_reply": "2020-04-23T06:08:05.497311Z"
    },
    "papermill": {
     "duration": 0.172223,
     "end_time": "2020-04-23T06:08:05.497889",
     "exception": false,
     "start_time": "2020-04-23T06:08:05.325666",
     "status": "completed"
    },
    "tags": []
   },
   "outputs": [
    {
     "output_type": "execute_result",
     "data": {
      "text/plain": "<IPython.core.display.HTML object>",
      "text/html": "<div>\n\n\n\n\n\n\n\n\n\n\n\n\n\n\n\n\n\n\n\n\n\n\n\n\n\n\n\n<div class=\"overview\">\n  <div class=\"text-center toplinksgithub\">\n  <a href=\"../covid-overview/\">World</a><a href=\"../covid-overview-asia/\">Asia</a><a href=\"../covid-overview-linde/\">India</a>\n</div>\n  <div>\n    <div class=\"kpi-hed text-center\">World</div>\n    <div class=\"d-flex kpi-box\">\n      <div class=\"kpi\">\n    <div class=\"kname\">Confirmed Cases</div>\n    <div class=\"num\">2,708,374</div>\n    <div class=\"grow \">(<b>+84,795</b>)</div>\n  </div>\n      <div class=\"kpi\">\n    <div class=\"kname\">Deaths</div>\n    <div class=\"num\">190,845</div>\n    <div class=\"grow \">(<b>+7,793</b>)</div>\n  </div>\n    </div>\n  </div>\n  <p class=\"text-center text-uppercase fs9\">Updated on <b>April 23, 2020</b> ( +change since yesterday)</p>\n  <div class=\"d-flex\" style=\"justify-content:space-between;\">\n    \n    <div class=\"kpi-sm\">\n    <div class=\"kpi-hed\">India</div>\n    <div class=\"d-flex kpi-box\">\n      <div class=\"kpi\">\n    <div class=\"kname\">Cases</div>\n    <div class=\"num\">23,077</div>\n    <div class=\"grow \">(<b>+1,707</b>)</div>\n  </div>\n      <div class=\"kpi\">\n    <div class=\"kname\">Deaths</div>\n    <div class=\"num\">721</div>\n    <div class=\"grow \">(<b>+40</b>)</div>\n  </div>\n    </div>\n  </div>\n    \n    <div class=\"kpi-sm\">\n    <div class=\"kpi-hed\">United States</div>\n    <div class=\"d-flex kpi-box\">\n      <div class=\"kpi\">\n    <div class=\"kname\">Cases</div>\n    <div class=\"num\">869,170</div>\n    <div class=\"grow \">(<b>+28,819</b>)</div>\n  </div>\n      <div class=\"kpi\">\n    <div class=\"kname\">Deaths</div>\n    <div class=\"num\">49,954</div>\n    <div class=\"grow \">(<b>+3,332</b>)</div>\n  </div>\n    </div>\n  </div>\n    \n    <div class=\"kpi-sm\">\n    <div class=\"kpi-hed\">Europe</div>\n    <div class=\"d-flex kpi-box\">\n      <div class=\"kpi\">\n    <div class=\"kname\">Cases</div>\n    <div class=\"num\">1,194,001</div>\n    <div class=\"grow \">(<b>+28,861</b>)</div>\n  </div>\n      <div class=\"kpi\">\n    <div class=\"kname\">Deaths</div>\n    <div class=\"num\">114,296</div>\n    <div class=\"grow \">(<b>+3,089</b>)</div>\n  </div>\n    </div>\n  </div>\n    \n  </div>\n  <p class=\"text-center\" style=\"font-size: 14px;max-width: 400px;\">\n  In the past <b>24 hours </b>, <b class=\"color-neg\">84,795</b> new Coronavirus cases have been reported worldwide.\n  Of which <b class=\"color-neg\">28,819</b> (34%) are from <b>United States</b>.\n  <b>India</b> has reported <b class=\"color-neg\">1,707</b> new cases and <b class=\"color-neg\">40</b> deaths. \n</p>\n  <table class=\"table\" style=\"width:575px;\">\n    <thead>\n      <tr>\n        <th class=\"text-right\" style=\"width:100px;\"></th>\n        <th class=\"text-left\" style=\"width:120px;\"><svg width=\"100\" height=\"20\" viewBox=\"0,0,100,20\" style=\"overflow: visible; display: block;\">\n  <g>\n    \n    <rect x=\"0\"  y=\"8\" width=\"25\" height=\"10\" fill=\"rgba(254, 26, 5, 0.1)\"></rect>\n    \n    <rect x=\"25\"  y=\"8\" width=\"25\" height=\"10\" fill=\"rgba(254, 26, 5, 0.4)\"></rect>\n    \n    <rect x=\"50\"  y=\"8\" width=\"25\" height=\"10\" fill=\"rgba(254, 26, 5, 0.7)\"></rect>\n    \n    <rect x=\"75\"  y=\"8\" width=\"25\" height=\"10\" fill=\"rgba(254, 26, 5, 1)\"></rect>\n    \n  </g>\n  <g style=\"font-size:10px;text-anchor:middle;\">\n    \n    <g transform=\"translate(25, 6)\"><text>10</text></g>\n    \n    <g transform=\"translate(50, 6)\"><text>100</text></g>\n    \n    <g transform=\"translate(75, 6)\"><text>1000</text></g>\n    \n    </g>\n</svg></th>\n        <th colspan=\"7\"></th>\n      </tr>\n      <tr>\n        <th class=\"text-right\" style=\"width:100px;\">Country</th>\n        <th class=\"text-left\" style=\"width:120px;\">New Cases</th>\n        <th class=\"text-left\" colspan=\"2\">Total Cases</th>\n        <th colspan=\"2\">Deaths</th>\n        <th class=\"fs9\" >Fatality</th>\n      </tr>\n    </thead>\n    <tbody>\n      <tr style=\"font-size:9px;\">\n        <td></td>\n        <td style=\"display:flex;justify-content:space-between;\">\n          <div>Apr. 02</div>\n          <div>Apr. 23</div>\n        </td>\n        <td></td>\n        <td colspan=\"4\" class=\"text-left change\" style=\"font-size: 9px;\">(+NEW) since Apr, 22</td>\n        <td></td>\n        <td></td>\n      </tr>\n    \n      <tr>\n        <td class=\"mw\"><b>US</b></td>\n        <td style=\"vertical-align: middle;\"><div class=\"d-flex\" style=\"height:15px;\">\n    \n    \n    <div style=\"width:5px;background:rgba(254, 26, 5, 1);border-right:1px solid rgba(255,255,255,0.5);\"></div>\n    \n    <div style=\"width:5px;background:rgba(254, 26, 5, 1);border-right:1px solid rgba(255,255,255,0.5);\"></div>\n    \n    <div style=\"width:5px;background:rgba(254, 26, 5, 1);border-right:1px solid rgba(255,255,255,0.5);\"></div>\n    \n    <div style=\"width:5px;background:rgba(254, 26, 5, 1);border-right:1px solid rgba(255,255,255,0.5);\"></div>\n    \n    <div style=\"width:5px;background:rgba(254, 26, 5, 1);border-right:1px solid rgba(255,255,255,0.5);\"></div>\n    \n    <div style=\"width:5px;background:rgba(254, 26, 5, 1);border-right:1px solid rgba(255,255,255,0.5);\"></div>\n    \n    <div style=\"width:5px;background:rgba(254, 26, 5, 1);border-right:1px solid rgba(255,255,255,0.5);\"></div>\n    \n    <div style=\"width:5px;background:rgba(254, 26, 5, 1);border-right:1px solid rgba(255,255,255,0.5);\"></div>\n    \n    <div style=\"width:5px;background:rgba(254, 26, 5, 1);border-right:1px solid rgba(255,255,255,0.5);\"></div>\n    \n    <div style=\"width:5px;background:rgba(254, 26, 5, 1);border-right:1px solid rgba(255,255,255,0.5);\"></div>\n    \n    <div style=\"width:5px;background:rgba(254, 26, 5, 1);border-right:1px solid rgba(255,255,255,0.5);\"></div>\n    \n    <div style=\"width:5px;background:rgba(254, 26, 5, 1);border-right:1px solid rgba(255,255,255,0.5);\"></div>\n    \n    <div style=\"width:5px;background:rgba(254, 26, 5, 1);border-right:1px solid rgba(255,255,255,0.5);\"></div>\n    \n    <div style=\"width:5px;background:rgba(254, 26, 5, 1);border-right:1px solid rgba(255,255,255,0.5);\"></div>\n    \n    <div style=\"width:5px;background:rgba(254, 26, 5, 1);border-right:1px solid rgba(255,255,255,0.5);\"></div>\n    \n    <div style=\"width:5px;background:rgba(254, 26, 5, 1);border-right:1px solid rgba(255,255,255,0.5);\"></div>\n    \n    <div style=\"width:5px;background:rgba(254, 26, 5, 1);border-right:1px solid rgba(255,255,255,0.5);\"></div>\n    \n    <div style=\"width:5px;background:rgba(254, 26, 5, 1);border-right:1px solid rgba(255,255,255,0.5);\"></div>\n    \n    <div style=\"width:5px;background:rgba(254, 26, 5, 1);border-right:1px solid rgba(255,255,255,0.5);\"></div>\n    \n    <div style=\"width:5px;background:rgba(254, 26, 5, 1);border-right:1px solid rgba(255,255,255,0.5);\"></div>\n    \n    <div style=\"width:5px;background:rgba(254, 26, 5, 1);border-right:1px solid rgba(255,255,255,0.5);\"></div>\n    \n    <div style=\"width:5px;background:rgba(254, 26, 5, 1);border-right:1px solid rgba(255,255,255,0.5);\"></div>\n    \n  </div></td>\n        <td class=\"pl1\"><b>869,170</b></td>\n        <td class=\"change neg\">(<b>+28,819</b>)</td>\n        <td class=\"pl1\">49,954</td>\n        <td class=\"change neg\">(<b>+3,332</b>)</td>\n        <td class=\"pl1\">5.7%</td>\n      </tr>\n    \n      <tr>\n        <td class=\"mw\"><b>Spain</b></td>\n        <td style=\"vertical-align: middle;\"><div class=\"d-flex\" style=\"height:15px;\">\n    \n    \n    <div style=\"width:5px;background:rgba(254, 26, 5, 1);border-right:1px solid rgba(255,255,255,0.5);\"></div>\n    \n    <div style=\"width:5px;background:rgba(254, 26, 5, 1);border-right:1px solid rgba(255,255,255,0.5);\"></div>\n    \n    <div style=\"width:5px;background:rgba(254, 26, 5, 1);border-right:1px solid rgba(255,255,255,0.5);\"></div>\n    \n    <div style=\"width:5px;background:rgba(254, 26, 5, 1);border-right:1px solid rgba(255,255,255,0.5);\"></div>\n    \n    <div style=\"width:5px;background:rgba(254, 26, 5, 1);border-right:1px solid rgba(255,255,255,0.5);\"></div>\n    \n    <div style=\"width:5px;background:rgba(254, 26, 5, 1);border-right:1px solid rgba(255,255,255,0.5);\"></div>\n    \n    <div style=\"width:5px;background:rgba(254, 26, 5, 1);border-right:1px solid rgba(255,255,255,0.5);\"></div>\n    \n    <div style=\"width:5px;background:rgba(254, 26, 5, 1);border-right:1px solid rgba(255,255,255,0.5);\"></div>\n    \n    <div style=\"width:5px;background:rgba(254, 26, 5, 1);border-right:1px solid rgba(255,255,255,0.5);\"></div>\n    \n    <div style=\"width:5px;background:rgba(254, 26, 5, 1);border-right:1px solid rgba(255,255,255,0.5);\"></div>\n    \n    <div style=\"width:5px;background:rgba(254, 26, 5, 1);border-right:1px solid rgba(255,255,255,0.5);\"></div>\n    \n    <div style=\"width:5px;background:rgba(254, 26, 5, 1);border-right:1px solid rgba(255,255,255,0.5);\"></div>\n    \n    <div style=\"width:5px;background:rgba(254, 26, 5, 1);border-right:1px solid rgba(255,255,255,0.5);\"></div>\n    \n    <div style=\"width:5px;background:rgba(254, 26, 5, 1);border-right:1px solid rgba(255,255,255,0.5);\"></div>\n    \n    <div style=\"width:5px;background:rgba(254, 26, 5, 1);border-right:1px solid rgba(255,255,255,0.5);\"></div>\n    \n    <div style=\"width:5px;background:rgba(254, 26, 5, 1);border-right:1px solid rgba(255,255,255,0.5);\"></div>\n    \n    <div style=\"width:5px;background:rgba(254, 26, 5, 0.7);border-right:1px solid rgba(255,255,255,0.5);\"></div>\n    \n    <div style=\"width:5px;background:rgba(254, 26, 5, 1);border-right:1px solid rgba(255,255,255,0.5);\"></div>\n    \n    <div style=\"width:5px;background:rgba(254, 26, 5, 1);border-right:1px solid rgba(255,255,255,0.5);\"></div>\n    \n    <div style=\"width:5px;background:rgba(254, 26, 5, 1);border-right:1px solid rgba(255,255,255,0.5);\"></div>\n    \n    <div style=\"width:5px;background:rgba(254, 26, 5, 1);border-right:1px solid rgba(255,255,255,0.5);\"></div>\n    \n    <div style=\"width:5px;background:rgba(254, 26, 5, 1);border-right:1px solid rgba(255,255,255,0.5);\"></div>\n    \n  </div></td>\n        <td class=\"pl1\"><b>213,024</b></td>\n        <td class=\"change neg\">(<b>+4,635</b>)</td>\n        <td class=\"pl1\">22,157</td>\n        <td class=\"change neg\">(<b>+440</b>)</td>\n        <td class=\"pl1\">10.4%</td>\n      </tr>\n    \n      <tr>\n        <td class=\"mw\"><b>Italy</b></td>\n        <td style=\"vertical-align: middle;\"><div class=\"d-flex\" style=\"height:15px;\">\n    \n    \n    <div style=\"width:5px;background:rgba(254, 26, 5, 1);border-right:1px solid rgba(255,255,255,0.5);\"></div>\n    \n    <div style=\"width:5px;background:rgba(254, 26, 5, 1);border-right:1px solid rgba(255,255,255,0.5);\"></div>\n    \n    <div style=\"width:5px;background:rgba(254, 26, 5, 1);border-right:1px solid rgba(255,255,255,0.5);\"></div>\n    \n    <div style=\"width:5px;background:rgba(254, 26, 5, 1);border-right:1px solid rgba(255,255,255,0.5);\"></div>\n    \n    <div style=\"width:5px;background:rgba(254, 26, 5, 1);border-right:1px solid rgba(255,255,255,0.5);\"></div>\n    \n    <div style=\"width:5px;background:rgba(254, 26, 5, 1);border-right:1px solid rgba(255,255,255,0.5);\"></div>\n    \n    <div style=\"width:5px;background:rgba(254, 26, 5, 1);border-right:1px solid rgba(255,255,255,0.5);\"></div>\n    \n    <div style=\"width:5px;background:rgba(254, 26, 5, 1);border-right:1px solid rgba(255,255,255,0.5);\"></div>\n    \n    <div style=\"width:5px;background:rgba(254, 26, 5, 1);border-right:1px solid rgba(255,255,255,0.5);\"></div>\n    \n    <div style=\"width:5px;background:rgba(254, 26, 5, 1);border-right:1px solid rgba(255,255,255,0.5);\"></div>\n    \n    <div style=\"width:5px;background:rgba(254, 26, 5, 1);border-right:1px solid rgba(255,255,255,0.5);\"></div>\n    \n    <div style=\"width:5px;background:rgba(254, 26, 5, 1);border-right:1px solid rgba(255,255,255,0.5);\"></div>\n    \n    <div style=\"width:5px;background:rgba(254, 26, 5, 1);border-right:1px solid rgba(255,255,255,0.5);\"></div>\n    \n    <div style=\"width:5px;background:rgba(254, 26, 5, 1);border-right:1px solid rgba(255,255,255,0.5);\"></div>\n    \n    <div style=\"width:5px;background:rgba(254, 26, 5, 1);border-right:1px solid rgba(255,255,255,0.5);\"></div>\n    \n    <div style=\"width:5px;background:rgba(254, 26, 5, 1);border-right:1px solid rgba(255,255,255,0.5);\"></div>\n    \n    <div style=\"width:5px;background:rgba(254, 26, 5, 1);border-right:1px solid rgba(255,255,255,0.5);\"></div>\n    \n    <div style=\"width:5px;background:rgba(254, 26, 5, 1);border-right:1px solid rgba(255,255,255,0.5);\"></div>\n    \n    <div style=\"width:5px;background:rgba(254, 26, 5, 1);border-right:1px solid rgba(255,255,255,0.5);\"></div>\n    \n    <div style=\"width:5px;background:rgba(254, 26, 5, 1);border-right:1px solid rgba(255,255,255,0.5);\"></div>\n    \n    <div style=\"width:5px;background:rgba(254, 26, 5, 1);border-right:1px solid rgba(255,255,255,0.5);\"></div>\n    \n    <div style=\"width:5px;background:rgba(254, 26, 5, 1);border-right:1px solid rgba(255,255,255,0.5);\"></div>\n    \n  </div></td>\n        <td class=\"pl1\"><b>189,973</b></td>\n        <td class=\"change neg\">(<b>+2,646</b>)</td>\n        <td class=\"pl1\">25,549</td>\n        <td class=\"change neg\">(<b>+464</b>)</td>\n        <td class=\"pl1\">13.4%</td>\n      </tr>\n    \n      <tr>\n        <td class=\"mw\"><b>France</b></td>\n        <td style=\"vertical-align: middle;\"><div class=\"d-flex\" style=\"height:15px;\">\n    \n    \n    <div style=\"width:5px;background:rgba(254, 26, 5, 1);border-right:1px solid rgba(255,255,255,0.5);\"></div>\n    \n    <div style=\"width:5px;background:rgba(254, 26, 5, 1);border-right:1px solid rgba(255,255,255,0.5);\"></div>\n    \n    <div style=\"width:5px;background:rgba(254, 26, 5, 1);border-right:1px solid rgba(255,255,255,0.5);\"></div>\n    \n    <div style=\"width:5px;background:rgba(254, 26, 5, 1);border-right:1px solid rgba(255,255,255,0.5);\"></div>\n    \n    <div style=\"width:5px;background:rgba(254, 26, 5, 1);border-right:1px solid rgba(255,255,255,0.5);\"></div>\n    \n    <div style=\"width:5px;background:rgba(254, 26, 5, 1);border-right:1px solid rgba(255,255,255,0.5);\"></div>\n    \n    <div style=\"width:5px;background:rgba(254, 26, 5, 1);border-right:1px solid rgba(255,255,255,0.5);\"></div>\n    \n    <div style=\"width:5px;background:rgba(254, 26, 5, 1);border-right:1px solid rgba(255,255,255,0.5);\"></div>\n    \n    <div style=\"width:5px;background:rgba(254, 26, 5, 1);border-right:1px solid rgba(255,255,255,0.5);\"></div>\n    \n    <div style=\"width:5px;background:rgba(254, 26, 5, 1);border-right:1px solid rgba(255,255,255,0.5);\"></div>\n    \n    <div style=\"width:5px;background:rgba(254, 26, 5, 1);border-right:1px solid rgba(255,255,255,0.5);\"></div>\n    \n    <div style=\"width:5px;background:rgba(254, 26, 5, 1);border-right:1px solid rgba(255,255,255,0.5);\"></div>\n    \n    <div style=\"width:5px;background:rgba(254, 26, 5, 1);border-right:1px solid rgba(255,255,255,0.5);\"></div>\n    \n    <div style=\"width:5px;background:rgba(254, 26, 5, 1);border-right:1px solid rgba(255,255,255,0.5);\"></div>\n    \n    <div style=\"width:5px;background:rgba(254, 26, 5, 1);border-right:1px solid rgba(255,255,255,0.5);\"></div>\n    \n    <div style=\"width:5px;background:rgba(254, 26, 5, 1);border-right:1px solid rgba(255,255,255,0.5);\"></div>\n    \n    <div style=\"width:5px;background:rgba(254, 26, 5, 0.4);border-right:1px solid rgba(255,255,255,0.5);\"></div>\n    \n    <div style=\"width:5px;background:rgba(254, 26, 5, 1);border-right:1px solid rgba(255,255,255,0.5);\"></div>\n    \n    <div style=\"width:5px;background:rgba(254, 26, 5, 1);border-right:1px solid rgba(255,255,255,0.5);\"></div>\n    \n    <div style=\"width:5px;background:rgba(254, 26, 5, 1);border-right:1px solid rgba(255,255,255,0.5);\"></div>\n    \n    <div style=\"width:5px;background:rgba(254, 26, 5, 0.1);border-right:1px solid rgba(255,255,255,0.5);\"></div>\n    \n    <div style=\"width:5px;background:rgba(254, 26, 5, 1);border-right:1px solid rgba(255,255,255,0.5);\"></div>\n    \n  </div></td>\n        <td class=\"pl1\"><b>159,460</b></td>\n        <td class=\"change neg\">(<b>+2,335</b>)</td>\n        <td class=\"pl1\">21,889</td>\n        <td class=\"change neg\">(<b>+516</b>)</td>\n        <td class=\"pl1\">13.7%</td>\n      </tr>\n    \n      <tr>\n        <td class=\"mw\"><b>Germany</b></td>\n        <td style=\"vertical-align: middle;\"><div class=\"d-flex\" style=\"height:15px;\">\n    \n    \n    <div style=\"width:5px;background:rgba(254, 26, 5, 1);border-right:1px solid rgba(255,255,255,0.5);\"></div>\n    \n    <div style=\"width:5px;background:rgba(254, 26, 5, 1);border-right:1px solid rgba(255,255,255,0.5);\"></div>\n    \n    <div style=\"width:5px;background:rgba(254, 26, 5, 1);border-right:1px solid rgba(255,255,255,0.5);\"></div>\n    \n    <div style=\"width:5px;background:rgba(254, 26, 5, 1);border-right:1px solid rgba(255,255,255,0.5);\"></div>\n    \n    <div style=\"width:5px;background:rgba(254, 26, 5, 1);border-right:1px solid rgba(255,255,255,0.5);\"></div>\n    \n    <div style=\"width:5px;background:rgba(254, 26, 5, 1);border-right:1px solid rgba(255,255,255,0.5);\"></div>\n    \n    <div style=\"width:5px;background:rgba(254, 26, 5, 1);border-right:1px solid rgba(255,255,255,0.5);\"></div>\n    \n    <div style=\"width:5px;background:rgba(254, 26, 5, 1);border-right:1px solid rgba(255,255,255,0.5);\"></div>\n    \n    <div style=\"width:5px;background:rgba(254, 26, 5, 1);border-right:1px solid rgba(255,255,255,0.5);\"></div>\n    \n    <div style=\"width:5px;background:rgba(254, 26, 5, 1);border-right:1px solid rgba(255,255,255,0.5);\"></div>\n    \n    <div style=\"width:5px;background:rgba(254, 26, 5, 1);border-right:1px solid rgba(255,255,255,0.5);\"></div>\n    \n    <div style=\"width:5px;background:rgba(254, 26, 5, 1);border-right:1px solid rgba(255,255,255,0.5);\"></div>\n    \n    <div style=\"width:5px;background:rgba(254, 26, 5, 1);border-right:1px solid rgba(255,255,255,0.5);\"></div>\n    \n    <div style=\"width:5px;background:rgba(254, 26, 5, 1);border-right:1px solid rgba(255,255,255,0.5);\"></div>\n    \n    <div style=\"width:5px;background:rgba(254, 26, 5, 1);border-right:1px solid rgba(255,255,255,0.5);\"></div>\n    \n    <div style=\"width:5px;background:rgba(254, 26, 5, 1);border-right:1px solid rgba(255,255,255,0.5);\"></div>\n    \n    <div style=\"width:5px;background:rgba(254, 26, 5, 1);border-right:1px solid rgba(255,255,255,0.5);\"></div>\n    \n    <div style=\"width:5px;background:rgba(254, 26, 5, 1);border-right:1px solid rgba(255,255,255,0.5);\"></div>\n    \n    <div style=\"width:5px;background:rgba(254, 26, 5, 1);border-right:1px solid rgba(255,255,255,0.5);\"></div>\n    \n    <div style=\"width:5px;background:rgba(254, 26, 5, 1);border-right:1px solid rgba(255,255,255,0.5);\"></div>\n    \n    <div style=\"width:5px;background:rgba(254, 26, 5, 1);border-right:1px solid rgba(255,255,255,0.5);\"></div>\n    \n    <div style=\"width:5px;background:rgba(254, 26, 5, 1);border-right:1px solid rgba(255,255,255,0.5);\"></div>\n    \n  </div></td>\n        <td class=\"pl1\"><b>153,129</b></td>\n        <td class=\"change neg\">(<b>+2,481</b>)</td>\n        <td class=\"pl1\">5,575</td>\n        <td class=\"change neg\">(<b>+296</b>)</td>\n        <td class=\"pl1\">3.6%</td>\n      </tr>\n    \n      <tr>\n        <td class=\"mw\"><b>United Kingdom</b></td>\n        <td style=\"vertical-align: middle;\"><div class=\"d-flex\" style=\"height:15px;\">\n    \n    \n    <div style=\"width:5px;background:rgba(254, 26, 5, 1);border-right:1px solid rgba(255,255,255,0.5);\"></div>\n    \n    <div style=\"width:5px;background:rgba(254, 26, 5, 1);border-right:1px solid rgba(255,255,255,0.5);\"></div>\n    \n    <div style=\"width:5px;background:rgba(254, 26, 5, 1);border-right:1px solid rgba(255,255,255,0.5);\"></div>\n    \n    <div style=\"width:5px;background:rgba(254, 26, 5, 1);border-right:1px solid rgba(255,255,255,0.5);\"></div>\n    \n    <div style=\"width:5px;background:rgba(254, 26, 5, 1);border-right:1px solid rgba(255,255,255,0.5);\"></div>\n    \n    <div style=\"width:5px;background:rgba(254, 26, 5, 1);border-right:1px solid rgba(255,255,255,0.5);\"></div>\n    \n    <div style=\"width:5px;background:rgba(254, 26, 5, 1);border-right:1px solid rgba(255,255,255,0.5);\"></div>\n    \n    <div style=\"width:5px;background:rgba(254, 26, 5, 1);border-right:1px solid rgba(255,255,255,0.5);\"></div>\n    \n    <div style=\"width:5px;background:rgba(254, 26, 5, 1);border-right:1px solid rgba(255,255,255,0.5);\"></div>\n    \n    <div style=\"width:5px;background:rgba(254, 26, 5, 1);border-right:1px solid rgba(255,255,255,0.5);\"></div>\n    \n    <div style=\"width:5px;background:rgba(254, 26, 5, 1);border-right:1px solid rgba(255,255,255,0.5);\"></div>\n    \n    <div style=\"width:5px;background:rgba(254, 26, 5, 1);border-right:1px solid rgba(255,255,255,0.5);\"></div>\n    \n    <div style=\"width:5px;background:rgba(254, 26, 5, 1);border-right:1px solid rgba(255,255,255,0.5);\"></div>\n    \n    <div style=\"width:5px;background:rgba(254, 26, 5, 1);border-right:1px solid rgba(255,255,255,0.5);\"></div>\n    \n    <div style=\"width:5px;background:rgba(254, 26, 5, 1);border-right:1px solid rgba(255,255,255,0.5);\"></div>\n    \n    <div style=\"width:5px;background:rgba(254, 26, 5, 1);border-right:1px solid rgba(255,255,255,0.5);\"></div>\n    \n    <div style=\"width:5px;background:rgba(254, 26, 5, 1);border-right:1px solid rgba(255,255,255,0.5);\"></div>\n    \n    <div style=\"width:5px;background:rgba(254, 26, 5, 1);border-right:1px solid rgba(255,255,255,0.5);\"></div>\n    \n    <div style=\"width:5px;background:rgba(254, 26, 5, 1);border-right:1px solid rgba(255,255,255,0.5);\"></div>\n    \n    <div style=\"width:5px;background:rgba(254, 26, 5, 1);border-right:1px solid rgba(255,255,255,0.5);\"></div>\n    \n    <div style=\"width:5px;background:rgba(254, 26, 5, 1);border-right:1px solid rgba(255,255,255,0.5);\"></div>\n    \n    <div style=\"width:5px;background:rgba(254, 26, 5, 1);border-right:1px solid rgba(255,255,255,0.5);\"></div>\n    \n  </div></td>\n        <td class=\"pl1\"><b>139,246</b></td>\n        <td class=\"change neg\">(<b>+4,608</b>)</td>\n        <td class=\"pl1\">18,791</td>\n        <td class=\"change neg\">(<b>+640</b>)</td>\n        <td class=\"pl1\">13.5%</td>\n      </tr>\n    \n      <tr>\n        <td class=\"mw\"><b>Turkey</b></td>\n        <td style=\"vertical-align: middle;\"><div class=\"d-flex\" style=\"height:15px;\">\n    \n    \n    <div style=\"width:5px;background:rgba(254, 26, 5, 1);border-right:1px solid rgba(255,255,255,0.5);\"></div>\n    \n    <div style=\"width:5px;background:rgba(254, 26, 5, 1);border-right:1px solid rgba(255,255,255,0.5);\"></div>\n    \n    <div style=\"width:5px;background:rgba(254, 26, 5, 1);border-right:1px solid rgba(255,255,255,0.5);\"></div>\n    \n    <div style=\"width:5px;background:rgba(254, 26, 5, 1);border-right:1px solid rgba(255,255,255,0.5);\"></div>\n    \n    <div style=\"width:5px;background:rgba(254, 26, 5, 1);border-right:1px solid rgba(255,255,255,0.5);\"></div>\n    \n    <div style=\"width:5px;background:rgba(254, 26, 5, 1);border-right:1px solid rgba(255,255,255,0.5);\"></div>\n    \n    <div style=\"width:5px;background:rgba(254, 26, 5, 1);border-right:1px solid rgba(255,255,255,0.5);\"></div>\n    \n    <div style=\"width:5px;background:rgba(254, 26, 5, 1);border-right:1px solid rgba(255,255,255,0.5);\"></div>\n    \n    <div style=\"width:5px;background:rgba(254, 26, 5, 1);border-right:1px solid rgba(255,255,255,0.5);\"></div>\n    \n    <div style=\"width:5px;background:rgba(254, 26, 5, 1);border-right:1px solid rgba(255,255,255,0.5);\"></div>\n    \n    <div style=\"width:5px;background:rgba(254, 26, 5, 1);border-right:1px solid rgba(255,255,255,0.5);\"></div>\n    \n    <div style=\"width:5px;background:rgba(254, 26, 5, 1);border-right:1px solid rgba(255,255,255,0.5);\"></div>\n    \n    <div style=\"width:5px;background:rgba(254, 26, 5, 1);border-right:1px solid rgba(255,255,255,0.5);\"></div>\n    \n    <div style=\"width:5px;background:rgba(254, 26, 5, 1);border-right:1px solid rgba(255,255,255,0.5);\"></div>\n    \n    <div style=\"width:5px;background:rgba(254, 26, 5, 1);border-right:1px solid rgba(255,255,255,0.5);\"></div>\n    \n    <div style=\"width:5px;background:rgba(254, 26, 5, 1);border-right:1px solid rgba(255,255,255,0.5);\"></div>\n    \n    <div style=\"width:5px;background:rgba(254, 26, 5, 1);border-right:1px solid rgba(255,255,255,0.5);\"></div>\n    \n    <div style=\"width:5px;background:rgba(254, 26, 5, 1);border-right:1px solid rgba(255,255,255,0.5);\"></div>\n    \n    <div style=\"width:5px;background:rgba(254, 26, 5, 1);border-right:1px solid rgba(255,255,255,0.5);\"></div>\n    \n    <div style=\"width:5px;background:rgba(254, 26, 5, 1);border-right:1px solid rgba(255,255,255,0.5);\"></div>\n    \n    <div style=\"width:5px;background:rgba(254, 26, 5, 1);border-right:1px solid rgba(255,255,255,0.5);\"></div>\n    \n    <div style=\"width:5px;background:rgba(254, 26, 5, 1);border-right:1px solid rgba(255,255,255,0.5);\"></div>\n    \n  </div></td>\n        <td class=\"pl1\"><b>101,790</b></td>\n        <td class=\"change neg\">(<b>+3,116</b>)</td>\n        <td class=\"pl1\">2,491</td>\n        <td class=\"change neg\">(<b>+115</b>)</td>\n        <td class=\"pl1\">2.4%</td>\n      </tr>\n    \n      <tr>\n        <td class=\"mw\"><b>Iran</b></td>\n        <td style=\"vertical-align: middle;\"><div class=\"d-flex\" style=\"height:15px;\">\n    \n    \n    <div style=\"width:5px;background:rgba(254, 26, 5, 1);border-right:1px solid rgba(255,255,255,0.5);\"></div>\n    \n    <div style=\"width:5px;background:rgba(254, 26, 5, 1);border-right:1px solid rgba(255,255,255,0.5);\"></div>\n    \n    <div style=\"width:5px;background:rgba(254, 26, 5, 1);border-right:1px solid rgba(255,255,255,0.5);\"></div>\n    \n    <div style=\"width:5px;background:rgba(254, 26, 5, 1);border-right:1px solid rgba(255,255,255,0.5);\"></div>\n    \n    <div style=\"width:5px;background:rgba(254, 26, 5, 1);border-right:1px solid rgba(255,255,255,0.5);\"></div>\n    \n    <div style=\"width:5px;background:rgba(254, 26, 5, 1);border-right:1px solid rgba(255,255,255,0.5);\"></div>\n    \n    <div style=\"width:5px;background:rgba(254, 26, 5, 1);border-right:1px solid rgba(255,255,255,0.5);\"></div>\n    \n    <div style=\"width:5px;background:rgba(254, 26, 5, 1);border-right:1px solid rgba(255,255,255,0.5);\"></div>\n    \n    <div style=\"width:5px;background:rgba(254, 26, 5, 1);border-right:1px solid rgba(255,255,255,0.5);\"></div>\n    \n    <div style=\"width:5px;background:rgba(254, 26, 5, 1);border-right:1px solid rgba(255,255,255,0.5);\"></div>\n    \n    <div style=\"width:5px;background:rgba(254, 26, 5, 1);border-right:1px solid rgba(255,255,255,0.5);\"></div>\n    \n    <div style=\"width:5px;background:rgba(254, 26, 5, 1);border-right:1px solid rgba(255,255,255,0.5);\"></div>\n    \n    <div style=\"width:5px;background:rgba(254, 26, 5, 1);border-right:1px solid rgba(255,255,255,0.5);\"></div>\n    \n    <div style=\"width:5px;background:rgba(254, 26, 5, 1);border-right:1px solid rgba(255,255,255,0.5);\"></div>\n    \n    <div style=\"width:5px;background:rgba(254, 26, 5, 1);border-right:1px solid rgba(255,255,255,0.5);\"></div>\n    \n    <div style=\"width:5px;background:rgba(254, 26, 5, 1);border-right:1px solid rgba(255,255,255,0.5);\"></div>\n    \n    <div style=\"width:5px;background:rgba(254, 26, 5, 1);border-right:1px solid rgba(255,255,255,0.5);\"></div>\n    \n    <div style=\"width:5px;background:rgba(254, 26, 5, 1);border-right:1px solid rgba(255,255,255,0.5);\"></div>\n    \n    <div style=\"width:5px;background:rgba(254, 26, 5, 1);border-right:1px solid rgba(255,255,255,0.5);\"></div>\n    \n    <div style=\"width:5px;background:rgba(254, 26, 5, 1);border-right:1px solid rgba(255,255,255,0.5);\"></div>\n    \n    <div style=\"width:5px;background:rgba(254, 26, 5, 1);border-right:1px solid rgba(255,255,255,0.5);\"></div>\n    \n    <div style=\"width:5px;background:rgba(254, 26, 5, 1);border-right:1px solid rgba(255,255,255,0.5);\"></div>\n    \n  </div></td>\n        <td class=\"pl1\"><b>87,026</b></td>\n        <td class=\"change neg\">(<b>+1,030</b>)</td>\n        <td class=\"pl1\">5,481</td>\n        <td class=\"change neg\">(<b>+90</b>)</td>\n        <td class=\"pl1\">6.3%</td>\n      </tr>\n    \n      <tr>\n        <td class=\"mw\"><b>China</b></td>\n        <td style=\"vertical-align: middle;\"><div class=\"d-flex\" style=\"height:15px;\">\n    \n    \n    <div style=\"width:5px;background:rgba(254, 26, 5, 0.4);border-right:1px solid rgba(255,255,255,0.5);\"></div>\n    \n    <div style=\"width:5px;background:rgba(254, 26, 5, 0.4);border-right:1px solid rgba(255,255,255,0.5);\"></div>\n    \n    <div style=\"width:5px;background:rgba(254, 26, 5, 0.4);border-right:1px solid rgba(255,255,255,0.5);\"></div>\n    \n    <div style=\"width:5px;background:rgba(254, 26, 5, 0.4);border-right:1px solid rgba(255,255,255,0.5);\"></div>\n    \n    <div style=\"width:5px;background:rgba(254, 26, 5, 0.4);border-right:1px solid rgba(255,255,255,0.5);\"></div>\n    \n    <div style=\"width:5px;background:rgba(254, 26, 5, 0.4);border-right:1px solid rgba(255,255,255,0.5);\"></div>\n    \n    <div style=\"width:5px;background:rgba(254, 26, 5, 0.4);border-right:1px solid rgba(255,255,255,0.5);\"></div>\n    \n    <div style=\"width:5px;background:rgba(254, 26, 5, 0.4);border-right:1px solid rgba(255,255,255,0.5);\"></div>\n    \n    <div style=\"width:5px;background:rgba(254, 26, 5, 0.4);border-right:1px solid rgba(255,255,255,0.5);\"></div>\n    \n    <div style=\"width:5px;background:rgba(254, 26, 5, 0.4);border-right:1px solid rgba(255,255,255,0.5);\"></div>\n    \n    <div style=\"width:5px;background:rgba(254, 26, 5, 0.7);border-right:1px solid rgba(255,255,255,0.5);\"></div>\n    \n    <div style=\"width:5px;background:rgba(254, 26, 5, 0.4);border-right:1px solid rgba(255,255,255,0.5);\"></div>\n    \n    <div style=\"width:5px;background:rgba(254, 26, 5, 0.4);border-right:1px solid rgba(255,255,255,0.5);\"></div>\n    \n    <div style=\"width:5px;background:rgba(254, 26, 5, 0.4);border-right:1px solid rgba(255,255,255,0.5);\"></div>\n    \n    <div style=\"width:5px;background:rgba(254, 26, 5, 0.4);border-right:1px solid rgba(255,255,255,0.5);\"></div>\n    \n    <div style=\"width:5px;background:rgba(254, 26, 5, 0.7);border-right:1px solid rgba(255,255,255,0.5);\"></div>\n    \n    <div style=\"width:5px;background:rgba(254, 26, 5, 0.4);border-right:1px solid rgba(255,255,255,0.5);\"></div>\n    \n    <div style=\"width:5px;background:rgba(254, 26, 5, 0.4);border-right:1px solid rgba(255,255,255,0.5);\"></div>\n    \n    <div style=\"width:5px;background:rgba(254, 26, 5, 0.4);border-right:1px solid rgba(255,255,255,0.5);\"></div>\n    \n    <div style=\"width:5px;background:rgba(254, 26, 5, 0.4);border-right:1px solid rgba(255,255,255,0.5);\"></div>\n    \n    <div style=\"width:5px;background:rgba(254, 26, 5, 0.4);border-right:1px solid rgba(255,255,255,0.5);\"></div>\n    \n    <div style=\"width:5px;background:rgba(254, 26, 5, 0.4);border-right:1px solid rgba(255,255,255,0.5);\"></div>\n    \n  </div></td>\n        <td class=\"pl1\"><b>83,884</b></td>\n        <td class=\"change neg\">(<b>+16</b>)</td>\n        <td class=\"pl1\">4,636</td>\n        <td class=\"change neg\">(<b>+0</b>)</td>\n        <td class=\"pl1\">5.5%</td>\n      </tr>\n    \n      <tr>\n        <td class=\"mw\"><b>Russia</b></td>\n        <td style=\"vertical-align: middle;\"><div class=\"d-flex\" style=\"height:15px;\">\n    \n    \n    <div style=\"width:5px;background:rgba(254, 26, 5, 0.7);border-right:1px solid rgba(255,255,255,0.5);\"></div>\n    \n    <div style=\"width:5px;background:rgba(254, 26, 5, 0.7);border-right:1px solid rgba(255,255,255,0.5);\"></div>\n    \n    <div style=\"width:5px;background:rgba(254, 26, 5, 0.7);border-right:1px solid rgba(255,255,255,0.5);\"></div>\n    \n    <div style=\"width:5px;background:rgba(254, 26, 5, 0.7);border-right:1px solid rgba(255,255,255,0.5);\"></div>\n    \n    <div style=\"width:5px;background:rgba(254, 26, 5, 0.7);border-right:1px solid rgba(255,255,255,0.5);\"></div>\n    \n    <div style=\"width:5px;background:rgba(254, 26, 5, 1);border-right:1px solid rgba(255,255,255,0.5);\"></div>\n    \n    <div style=\"width:5px;background:rgba(254, 26, 5, 1);border-right:1px solid rgba(255,255,255,0.5);\"></div>\n    \n    <div style=\"width:5px;background:rgba(254, 26, 5, 1);border-right:1px solid rgba(255,255,255,0.5);\"></div>\n    \n    <div style=\"width:5px;background:rgba(254, 26, 5, 1);border-right:1px solid rgba(255,255,255,0.5);\"></div>\n    \n    <div style=\"width:5px;background:rgba(254, 26, 5, 1);border-right:1px solid rgba(255,255,255,0.5);\"></div>\n    \n    <div style=\"width:5px;background:rgba(254, 26, 5, 1);border-right:1px solid rgba(255,255,255,0.5);\"></div>\n    \n    <div style=\"width:5px;background:rgba(254, 26, 5, 1);border-right:1px solid rgba(255,255,255,0.5);\"></div>\n    \n    <div style=\"width:5px;background:rgba(254, 26, 5, 1);border-right:1px solid rgba(255,255,255,0.5);\"></div>\n    \n    <div style=\"width:5px;background:rgba(254, 26, 5, 1);border-right:1px solid rgba(255,255,255,0.5);\"></div>\n    \n    <div style=\"width:5px;background:rgba(254, 26, 5, 1);border-right:1px solid rgba(255,255,255,0.5);\"></div>\n    \n    <div style=\"width:5px;background:rgba(254, 26, 5, 1);border-right:1px solid rgba(255,255,255,0.5);\"></div>\n    \n    <div style=\"width:5px;background:rgba(254, 26, 5, 1);border-right:1px solid rgba(255,255,255,0.5);\"></div>\n    \n    <div style=\"width:5px;background:rgba(254, 26, 5, 1);border-right:1px solid rgba(255,255,255,0.5);\"></div>\n    \n    <div style=\"width:5px;background:rgba(254, 26, 5, 1);border-right:1px solid rgba(255,255,255,0.5);\"></div>\n    \n    <div style=\"width:5px;background:rgba(254, 26, 5, 1);border-right:1px solid rgba(255,255,255,0.5);\"></div>\n    \n    <div style=\"width:5px;background:rgba(254, 26, 5, 1);border-right:1px solid rgba(255,255,255,0.5);\"></div>\n    \n    <div style=\"width:5px;background:rgba(254, 26, 5, 1);border-right:1px solid rgba(255,255,255,0.5);\"></div>\n    \n  </div></td>\n        <td class=\"pl1\"><b>62,773</b></td>\n        <td class=\"change neg\">(<b>+4,774</b>)</td>\n        <td class=\"pl1\">555</td>\n        <td class=\"change neg\">(<b>+42</b>)</td>\n        <td class=\"pl1\">0.9%</td>\n      </tr>\n    \n      <tr>\n        <td class=\"mw\"><b>Brazil</b></td>\n        <td style=\"vertical-align: middle;\"><div class=\"d-flex\" style=\"height:15px;\">\n    \n    \n    <div style=\"width:5px;background:rgba(254, 26, 5, 1);border-right:1px solid rgba(255,255,255,0.5);\"></div>\n    \n    <div style=\"width:5px;background:rgba(254, 26, 5, 1);border-right:1px solid rgba(255,255,255,0.5);\"></div>\n    \n    <div style=\"width:5px;background:rgba(254, 26, 5, 1);border-right:1px solid rgba(255,255,255,0.5);\"></div>\n    \n    <div style=\"width:5px;background:rgba(254, 26, 5, 0.7);border-right:1px solid rgba(255,255,255,0.5);\"></div>\n    \n    <div style=\"width:5px;background:rgba(254, 26, 5, 1);border-right:1px solid rgba(255,255,255,0.5);\"></div>\n    \n    <div style=\"width:5px;background:rgba(254, 26, 5, 1);border-right:1px solid rgba(255,255,255,0.5);\"></div>\n    \n    <div style=\"width:5px;background:rgba(254, 26, 5, 1);border-right:1px solid rgba(255,255,255,0.5);\"></div>\n    \n    <div style=\"width:5px;background:rgba(254, 26, 5, 1);border-right:1px solid rgba(255,255,255,0.5);\"></div>\n    \n    <div style=\"width:5px;background:rgba(254, 26, 5, 1);border-right:1px solid rgba(255,255,255,0.5);\"></div>\n    \n    <div style=\"width:5px;background:rgba(254, 26, 5, 1);border-right:1px solid rgba(255,255,255,0.5);\"></div>\n    \n    <div style=\"width:5px;background:rgba(254, 26, 5, 1);border-right:1px solid rgba(255,255,255,0.5);\"></div>\n    \n    <div style=\"width:5px;background:rgba(254, 26, 5, 1);border-right:1px solid rgba(255,255,255,0.5);\"></div>\n    \n    <div style=\"width:5px;background:rgba(254, 26, 5, 1);border-right:1px solid rgba(255,255,255,0.5);\"></div>\n    \n    <div style=\"width:5px;background:rgba(254, 26, 5, 1);border-right:1px solid rgba(255,255,255,0.5);\"></div>\n    \n    <div style=\"width:5px;background:rgba(254, 26, 5, 1);border-right:1px solid rgba(255,255,255,0.5);\"></div>\n    \n    <div style=\"width:5px;background:rgba(254, 26, 5, 1);border-right:1px solid rgba(255,255,255,0.5);\"></div>\n    \n    <div style=\"width:5px;background:rgba(254, 26, 5, 1);border-right:1px solid rgba(255,255,255,0.5);\"></div>\n    \n    <div style=\"width:5px;background:rgba(254, 26, 5, 1);border-right:1px solid rgba(255,255,255,0.5);\"></div>\n    \n    <div style=\"width:5px;background:rgba(254, 26, 5, 1);border-right:1px solid rgba(255,255,255,0.5);\"></div>\n    \n    <div style=\"width:5px;background:rgba(254, 26, 5, 1);border-right:1px solid rgba(255,255,255,0.5);\"></div>\n    \n    <div style=\"width:5px;background:rgba(254, 26, 5, 1);border-right:1px solid rgba(255,255,255,0.5);\"></div>\n    \n    <div style=\"width:5px;background:rgba(254, 26, 5, 1);border-right:1px solid rgba(255,255,255,0.5);\"></div>\n    \n  </div></td>\n        <td class=\"pl1\"><b>50,036</b></td>\n        <td class=\"change neg\">(<b>+4,279</b>)</td>\n        <td class=\"pl1\">3,331</td>\n        <td class=\"change neg\">(<b>+425</b>)</td>\n        <td class=\"pl1\">6.7%</td>\n      </tr>\n    \n      <tr>\n        <td class=\"mw\"><b>Canada</b></td>\n        <td style=\"vertical-align: middle;\"><div class=\"d-flex\" style=\"height:15px;\">\n    \n    \n    <div style=\"width:5px;background:rgba(254, 26, 5, 1);border-right:1px solid rgba(255,255,255,0.5);\"></div>\n    \n    <div style=\"width:5px;background:rgba(254, 26, 5, 1);border-right:1px solid rgba(255,255,255,0.5);\"></div>\n    \n    <div style=\"width:5px;background:rgba(254, 26, 5, 0.7);border-right:1px solid rgba(255,255,255,0.5);\"></div>\n    \n    <div style=\"width:5px;background:rgba(254, 26, 5, 1);border-right:1px solid rgba(255,255,255,0.5);\"></div>\n    \n    <div style=\"width:5px;background:rgba(254, 26, 5, 0.7);border-right:1px solid rgba(255,255,255,0.5);\"></div>\n    \n    <div style=\"width:5px;background:rgba(254, 26, 5, 1);border-right:1px solid rgba(255,255,255,0.5);\"></div>\n    \n    <div style=\"width:5px;background:rgba(254, 26, 5, 1);border-right:1px solid rgba(255,255,255,0.5);\"></div>\n    \n    <div style=\"width:5px;background:rgba(254, 26, 5, 1);border-right:1px solid rgba(255,255,255,0.5);\"></div>\n    \n    <div style=\"width:5px;background:rgba(254, 26, 5, 1);border-right:1px solid rgba(255,255,255,0.5);\"></div>\n    \n    <div style=\"width:5px;background:rgba(254, 26, 5, 1);border-right:1px solid rgba(255,255,255,0.5);\"></div>\n    \n    <div style=\"width:5px;background:rgba(254, 26, 5, 0.7);border-right:1px solid rgba(255,255,255,0.5);\"></div>\n    \n    <div style=\"width:5px;background:rgba(254, 26, 5, 1);border-right:1px solid rgba(255,255,255,0.5);\"></div>\n    \n    <div style=\"width:5px;background:rgba(254, 26, 5, 1);border-right:1px solid rgba(255,255,255,0.5);\"></div>\n    \n    <div style=\"width:5px;background:rgba(254, 26, 5, 1);border-right:1px solid rgba(255,255,255,0.5);\"></div>\n    \n    <div style=\"width:5px;background:rgba(254, 26, 5, 1);border-right:1px solid rgba(255,255,255,0.5);\"></div>\n    \n    <div style=\"width:5px;background:rgba(254, 26, 5, 1);border-right:1px solid rgba(255,255,255,0.5);\"></div>\n    \n    <div style=\"width:5px;background:rgba(254, 26, 5, 1);border-right:1px solid rgba(255,255,255,0.5);\"></div>\n    \n    <div style=\"width:5px;background:rgba(254, 26, 5, 1);border-right:1px solid rgba(255,255,255,0.5);\"></div>\n    \n    <div style=\"width:5px;background:rgba(254, 26, 5, 1);border-right:1px solid rgba(255,255,255,0.5);\"></div>\n    \n    <div style=\"width:5px;background:rgba(254, 26, 5, 1);border-right:1px solid rgba(255,255,255,0.5);\"></div>\n    \n    <div style=\"width:5px;background:rgba(254, 26, 5, 1);border-right:1px solid rgba(255,255,255,0.5);\"></div>\n    \n    <div style=\"width:5px;background:rgba(254, 26, 5, 1);border-right:1px solid rgba(255,255,255,0.5);\"></div>\n    \n  </div></td>\n        <td class=\"pl1\"><b>43,285</b></td>\n        <td class=\"change neg\">(<b>+1,637</b>)</td>\n        <td class=\"pl1\">2,240</td>\n        <td class=\"change neg\">(<b>+165</b>)</td>\n        <td class=\"pl1\">5.2%</td>\n      </tr>\n    \n      <tr>\n        <td class=\"mw\"><b>Belgium</b></td>\n        <td style=\"vertical-align: middle;\"><div class=\"d-flex\" style=\"height:15px;\">\n    \n    \n    <div style=\"width:5px;background:rgba(254, 26, 5, 1);border-right:1px solid rgba(255,255,255,0.5);\"></div>\n    \n    <div style=\"width:5px;background:rgba(254, 26, 5, 1);border-right:1px solid rgba(255,255,255,0.5);\"></div>\n    \n    <div style=\"width:5px;background:rgba(254, 26, 5, 1);border-right:1px solid rgba(255,255,255,0.5);\"></div>\n    \n    <div style=\"width:5px;background:rgba(254, 26, 5, 1);border-right:1px solid rgba(255,255,255,0.5);\"></div>\n    \n    <div style=\"width:5px;background:rgba(254, 26, 5, 1);border-right:1px solid rgba(255,255,255,0.5);\"></div>\n    \n    <div style=\"width:5px;background:rgba(254, 26, 5, 1);border-right:1px solid rgba(255,255,255,0.5);\"></div>\n    \n    <div style=\"width:5px;background:rgba(254, 26, 5, 1);border-right:1px solid rgba(255,255,255,0.5);\"></div>\n    \n    <div style=\"width:5px;background:rgba(254, 26, 5, 1);border-right:1px solid rgba(255,255,255,0.5);\"></div>\n    \n    <div style=\"width:5px;background:rgba(254, 26, 5, 1);border-right:1px solid rgba(255,255,255,0.5);\"></div>\n    \n    <div style=\"width:5px;background:rgba(254, 26, 5, 1);border-right:1px solid rgba(255,255,255,0.5);\"></div>\n    \n    <div style=\"width:5px;background:rgba(254, 26, 5, 1);border-right:1px solid rgba(255,255,255,0.5);\"></div>\n    \n    <div style=\"width:5px;background:rgba(254, 26, 5, 0.7);border-right:1px solid rgba(255,255,255,0.5);\"></div>\n    \n    <div style=\"width:5px;background:rgba(254, 26, 5, 0.7);border-right:1px solid rgba(255,255,255,0.5);\"></div>\n    \n    <div style=\"width:5px;background:rgba(254, 26, 5, 1);border-right:1px solid rgba(255,255,255,0.5);\"></div>\n    \n    <div style=\"width:5px;background:rgba(254, 26, 5, 1);border-right:1px solid rgba(255,255,255,0.5);\"></div>\n    \n    <div style=\"width:5px;background:rgba(254, 26, 5, 1);border-right:1px solid rgba(255,255,255,0.5);\"></div>\n    \n    <div style=\"width:5px;background:rgba(254, 26, 5, 1);border-right:1px solid rgba(255,255,255,0.5);\"></div>\n    \n    <div style=\"width:5px;background:rgba(254, 26, 5, 1);border-right:1px solid rgba(255,255,255,0.5);\"></div>\n    \n    <div style=\"width:5px;background:rgba(254, 26, 5, 1);border-right:1px solid rgba(255,255,255,0.5);\"></div>\n    \n    <div style=\"width:5px;background:rgba(254, 26, 5, 0.7);border-right:1px solid rgba(255,255,255,0.5);\"></div>\n    \n    <div style=\"width:5px;background:rgba(254, 26, 5, 0.7);border-right:1px solid rgba(255,255,255,0.5);\"></div>\n    \n    <div style=\"width:5px;background:rgba(254, 26, 5, 0.7);border-right:1px solid rgba(255,255,255,0.5);\"></div>\n    \n  </div></td>\n        <td class=\"pl1\"><b>42,797</b></td>\n        <td class=\"change neg\">(<b>+908</b>)</td>\n        <td class=\"pl1\">6,490</td>\n        <td class=\"change neg\">(<b>+228</b>)</td>\n        <td class=\"pl1\">15.2%</td>\n      </tr>\n    \n      <tr>\n        <td class=\"mw\"><b>Netherlands</b></td>\n        <td style=\"vertical-align: middle;\"><div class=\"d-flex\" style=\"height:15px;\">\n    \n    \n    <div style=\"width:5px;background:rgba(254, 26, 5, 1);border-right:1px solid rgba(255,255,255,0.5);\"></div>\n    \n    <div style=\"width:5px;background:rgba(254, 26, 5, 1);border-right:1px solid rgba(255,255,255,0.5);\"></div>\n    \n    <div style=\"width:5px;background:rgba(254, 26, 5, 0.7);border-right:1px solid rgba(255,255,255,0.5);\"></div>\n    \n    <div style=\"width:5px;background:rgba(254, 26, 5, 1);border-right:1px solid rgba(255,255,255,0.5);\"></div>\n    \n    <div style=\"width:5px;background:rgba(254, 26, 5, 0.7);border-right:1px solid rgba(255,255,255,0.5);\"></div>\n    \n    <div style=\"width:5px;background:rgba(254, 26, 5, 0.7);border-right:1px solid rgba(255,255,255,0.5);\"></div>\n    \n    <div style=\"width:5px;background:rgba(254, 26, 5, 0.7);border-right:1px solid rgba(255,255,255,0.5);\"></div>\n    \n    <div style=\"width:5px;background:rgba(254, 26, 5, 1);border-right:1px solid rgba(255,255,255,0.5);\"></div>\n    \n    <div style=\"width:5px;background:rgba(254, 26, 5, 1);border-right:1px solid rgba(255,255,255,0.5);\"></div>\n    \n    <div style=\"width:5px;background:rgba(254, 26, 5, 1);border-right:1px solid rgba(255,255,255,0.5);\"></div>\n    \n    <div style=\"width:5px;background:rgba(254, 26, 5, 1);border-right:1px solid rgba(255,255,255,0.5);\"></div>\n    \n    <div style=\"width:5px;background:rgba(254, 26, 5, 0.7);border-right:1px solid rgba(255,255,255,0.5);\"></div>\n    \n    <div style=\"width:5px;background:rgba(254, 26, 5, 0.7);border-right:1px solid rgba(255,255,255,0.5);\"></div>\n    \n    <div style=\"width:5px;background:rgba(254, 26, 5, 0.7);border-right:1px solid rgba(255,255,255,0.5);\"></div>\n    \n    <div style=\"width:5px;background:rgba(254, 26, 5, 1);border-right:1px solid rgba(255,255,255,0.5);\"></div>\n    \n    <div style=\"width:5px;background:rgba(254, 26, 5, 1);border-right:1px solid rgba(255,255,255,0.5);\"></div>\n    \n    <div style=\"width:5px;background:rgba(254, 26, 5, 1);border-right:1px solid rgba(255,255,255,0.5);\"></div>\n    \n    <div style=\"width:5px;background:rgba(254, 26, 5, 1);border-right:1px solid rgba(255,255,255,0.5);\"></div>\n    \n    <div style=\"width:5px;background:rgba(254, 26, 5, 0.7);border-right:1px solid rgba(255,255,255,0.5);\"></div>\n    \n    <div style=\"width:5px;background:rgba(254, 26, 5, 0.7);border-right:1px solid rgba(255,255,255,0.5);\"></div>\n    \n    <div style=\"width:5px;background:rgba(254, 26, 5, 0.7);border-right:1px solid rgba(255,255,255,0.5);\"></div>\n    \n    <div style=\"width:5px;background:rgba(254, 26, 5, 0.7);border-right:1px solid rgba(255,255,255,0.5);\"></div>\n    \n  </div></td>\n        <td class=\"pl1\"><b>35,921</b></td>\n        <td class=\"change neg\">(<b>+889</b>)</td>\n        <td class=\"pl1\">4,192</td>\n        <td class=\"change neg\">(<b>+124</b>)</td>\n        <td class=\"pl1\">11.7%</td>\n      </tr>\n    \n      <tr>\n        <td class=\"mw\"><b>Switzerland</b></td>\n        <td style=\"vertical-align: middle;\"><div class=\"d-flex\" style=\"height:15px;\">\n    \n    \n    <div style=\"width:5px;background:rgba(254, 26, 5, 1);border-right:1px solid rgba(255,255,255,0.5);\"></div>\n    \n    <div style=\"width:5px;background:rgba(254, 26, 5, 0.7);border-right:1px solid rgba(255,255,255,0.5);\"></div>\n    \n    <div style=\"width:5px;background:rgba(254, 26, 5, 0.7);border-right:1px solid rgba(255,255,255,0.5);\"></div>\n    \n    <div style=\"width:5px;background:rgba(254, 26, 5, 0.7);border-right:1px solid rgba(255,255,255,0.5);\"></div>\n    \n    <div style=\"width:5px;background:rgba(254, 26, 5, 0.7);border-right:1px solid rgba(255,255,255,0.5);\"></div>\n    \n    <div style=\"width:5px;background:rgba(254, 26, 5, 0.7);border-right:1px solid rgba(255,255,255,0.5);\"></div>\n    \n    <div style=\"width:5px;background:rgba(254, 26, 5, 1);border-right:1px solid rgba(255,255,255,0.5);\"></div>\n    \n    <div style=\"width:5px;background:rgba(254, 26, 5, 0.7);border-right:1px solid rgba(255,255,255,0.5);\"></div>\n    \n    <div style=\"width:5px;background:rgba(254, 26, 5, 0.7);border-right:1px solid rgba(255,255,255,0.5);\"></div>\n    \n    <div style=\"width:5px;background:rgba(254, 26, 5, 0.7);border-right:1px solid rgba(255,255,255,0.5);\"></div>\n    \n    <div style=\"width:5px;background:rgba(254, 26, 5, 0.7);border-right:1px solid rgba(255,255,255,0.5);\"></div>\n    \n    <div style=\"width:5px;background:rgba(254, 26, 5, 0.7);border-right:1px solid rgba(255,255,255,0.5);\"></div>\n    \n    <div style=\"width:5px;background:rgba(254, 26, 5, 0.7);border-right:1px solid rgba(255,255,255,0.5);\"></div>\n    \n    <div style=\"width:5px;background:rgba(254, 26, 5, 0.7);border-right:1px solid rgba(255,255,255,0.5);\"></div>\n    \n    <div style=\"width:5px;background:rgba(254, 26, 5, 0.7);border-right:1px solid rgba(255,255,255,0.5);\"></div>\n    \n    <div style=\"width:5px;background:rgba(254, 26, 5, 0.7);border-right:1px solid rgba(255,255,255,0.5);\"></div>\n    \n    <div style=\"width:5px;background:rgba(254, 26, 5, 0.7);border-right:1px solid rgba(255,255,255,0.5);\"></div>\n    \n    <div style=\"width:5px;background:rgba(254, 26, 5, 0.7);border-right:1px solid rgba(255,255,255,0.5);\"></div>\n    \n    <div style=\"width:5px;background:rgba(254, 26, 5, 0.7);border-right:1px solid rgba(255,255,255,0.5);\"></div>\n    \n    <div style=\"width:5px;background:rgba(254, 26, 5, 0.7);border-right:1px solid rgba(255,255,255,0.5);\"></div>\n    \n    <div style=\"width:5px;background:rgba(254, 26, 5, 0.7);border-right:1px solid rgba(255,255,255,0.5);\"></div>\n    \n    <div style=\"width:5px;background:rgba(254, 26, 5, 0.7);border-right:1px solid rgba(255,255,255,0.5);\"></div>\n    \n  </div></td>\n        <td class=\"pl1\"><b>28,496</b></td>\n        <td class=\"change neg\">(<b>+228</b>)</td>\n        <td class=\"pl1\">1,549</td>\n        <td class=\"change neg\">(<b>+40</b>)</td>\n        <td class=\"pl1\">5.4%</td>\n      </tr>\n    \n      <tr>\n        <td class=\"mw\"><b>India</b></td>\n        <td style=\"vertical-align: middle;\"><div class=\"d-flex\" style=\"height:15px;\">\n    \n    \n    <div style=\"width:5px;background:rgba(254, 26, 5, 0.7);border-right:1px solid rgba(255,255,255,0.5);\"></div>\n    \n    <div style=\"width:5px;background:rgba(254, 26, 5, 0.4);border-right:1px solid rgba(255,255,255,0.5);\"></div>\n    \n    <div style=\"width:5px;background:rgba(254, 26, 5, 0.7);border-right:1px solid rgba(255,255,255,0.5);\"></div>\n    \n    <div style=\"width:5px;background:rgba(254, 26, 5, 0.7);border-right:1px solid rgba(255,255,255,0.5);\"></div>\n    \n    <div style=\"width:5px;background:rgba(254, 26, 5, 1);border-right:1px solid rgba(255,255,255,0.5);\"></div>\n    \n    <div style=\"width:5px;background:rgba(254, 26, 5, 0.7);border-right:1px solid rgba(255,255,255,0.5);\"></div>\n    \n    <div style=\"width:5px;background:rgba(254, 26, 5, 0.7);border-right:1px solid rgba(255,255,255,0.5);\"></div>\n    \n    <div style=\"width:5px;background:rgba(254, 26, 5, 0.7);border-right:1px solid rgba(255,255,255,0.5);\"></div>\n    \n    <div style=\"width:5px;background:rgba(254, 26, 5, 0.7);border-right:1px solid rgba(255,255,255,0.5);\"></div>\n    \n    <div style=\"width:5px;background:rgba(254, 26, 5, 0.7);border-right:1px solid rgba(255,255,255,0.5);\"></div>\n    \n    <div style=\"width:5px;background:rgba(254, 26, 5, 0.7);border-right:1px solid rgba(255,255,255,0.5);\"></div>\n    \n    <div style=\"width:5px;background:rgba(254, 26, 5, 1);border-right:1px solid rgba(255,255,255,0.5);\"></div>\n    \n    <div style=\"width:5px;background:rgba(254, 26, 5, 1);border-right:1px solid rgba(255,255,255,0.5);\"></div>\n    \n    <div style=\"width:5px;background:rgba(254, 26, 5, 0.7);border-right:1px solid rgba(255,255,255,0.5);\"></div>\n    \n    <div style=\"width:5px;background:rgba(254, 26, 5, 1);border-right:1px solid rgba(255,255,255,0.5);\"></div>\n    \n    <div style=\"width:5px;background:rgba(254, 26, 5, 0.7);border-right:1px solid rgba(255,255,255,0.5);\"></div>\n    \n    <div style=\"width:5px;background:rgba(254, 26, 5, 1);border-right:1px solid rgba(255,255,255,0.5);\"></div>\n    \n    <div style=\"width:5px;background:rgba(254, 26, 5, 1);border-right:1px solid rgba(255,255,255,0.5);\"></div>\n    \n    <div style=\"width:5px;background:rgba(254, 26, 5, 0.7);border-right:1px solid rgba(255,255,255,0.5);\"></div>\n    \n    <div style=\"width:5px;background:rgba(254, 26, 5, 1);border-right:1px solid rgba(255,255,255,0.5);\"></div>\n    \n    <div style=\"width:5px;background:rgba(254, 26, 5, 1);border-right:1px solid rgba(255,255,255,0.5);\"></div>\n    \n    <div style=\"width:5px;background:rgba(254, 26, 5, 1);border-right:1px solid rgba(255,255,255,0.5);\"></div>\n    \n  </div></td>\n        <td class=\"pl1\"><b>23,077</b></td>\n        <td class=\"change neg\">(<b>+1,707</b>)</td>\n        <td class=\"pl1\">721</td>\n        <td class=\"change neg\">(<b>+40</b>)</td>\n        <td class=\"pl1\">3.1%</td>\n      </tr>\n    \n      <tr>\n        <td class=\"mw\"><b>Portugal</b></td>\n        <td style=\"vertical-align: middle;\"><div class=\"d-flex\" style=\"height:15px;\">\n    \n    \n    <div style=\"width:5px;background:rgba(254, 26, 5, 0.7);border-right:1px solid rgba(255,255,255,0.5);\"></div>\n    \n    <div style=\"width:5px;background:rgba(254, 26, 5, 0.7);border-right:1px solid rgba(255,255,255,0.5);\"></div>\n    \n    <div style=\"width:5px;background:rgba(254, 26, 5, 0.7);border-right:1px solid rgba(255,255,255,0.5);\"></div>\n    \n    <div style=\"width:5px;background:rgba(254, 26, 5, 0.7);border-right:1px solid rgba(255,255,255,0.5);\"></div>\n    \n    <div style=\"width:5px;background:rgba(254, 26, 5, 0.7);border-right:1px solid rgba(255,255,255,0.5);\"></div>\n    \n    <div style=\"width:5px;background:rgba(254, 26, 5, 0.7);border-right:1px solid rgba(255,255,255,0.5);\"></div>\n    \n    <div style=\"width:5px;background:rgba(254, 26, 5, 0.7);border-right:1px solid rgba(255,255,255,0.5);\"></div>\n    \n    <div style=\"width:5px;background:rgba(254, 26, 5, 0.7);border-right:1px solid rgba(255,255,255,0.5);\"></div>\n    \n    <div style=\"width:5px;background:rgba(254, 26, 5, 1);border-right:1px solid rgba(255,255,255,0.5);\"></div>\n    \n    <div style=\"width:5px;background:rgba(254, 26, 5, 0.7);border-right:1px solid rgba(255,255,255,0.5);\"></div>\n    \n    <div style=\"width:5px;background:rgba(254, 26, 5, 0.7);border-right:1px solid rgba(255,255,255,0.5);\"></div>\n    \n    <div style=\"width:5px;background:rgba(254, 26, 5, 0.7);border-right:1px solid rgba(255,255,255,0.5);\"></div>\n    \n    <div style=\"width:5px;background:rgba(254, 26, 5, 0.7);border-right:1px solid rgba(255,255,255,0.5);\"></div>\n    \n    <div style=\"width:5px;background:rgba(254, 26, 5, 0.7);border-right:1px solid rgba(255,255,255,0.5);\"></div>\n    \n    <div style=\"width:5px;background:rgba(254, 26, 5, 0.7);border-right:1px solid rgba(255,255,255,0.5);\"></div>\n    \n    <div style=\"width:5px;background:rgba(254, 26, 5, 0.7);border-right:1px solid rgba(255,255,255,0.5);\"></div>\n    \n    <div style=\"width:5px;background:rgba(254, 26, 5, 0.7);border-right:1px solid rgba(255,255,255,0.5);\"></div>\n    \n    <div style=\"width:5px;background:rgba(254, 26, 5, 0.7);border-right:1px solid rgba(255,255,255,0.5);\"></div>\n    \n    <div style=\"width:5px;background:rgba(254, 26, 5, 0.7);border-right:1px solid rgba(255,255,255,0.5);\"></div>\n    \n    <div style=\"width:5px;background:rgba(254, 26, 5, 0.7);border-right:1px solid rgba(255,255,255,0.5);\"></div>\n    \n    <div style=\"width:5px;background:rgba(254, 26, 5, 0.7);border-right:1px solid rgba(255,255,255,0.5);\"></div>\n    \n    <div style=\"width:5px;background:rgba(254, 26, 5, 0.7);border-right:1px solid rgba(255,255,255,0.5);\"></div>\n    \n  </div></td>\n        <td class=\"pl1\"><b>22,353</b></td>\n        <td class=\"change neg\">(<b>+371</b>)</td>\n        <td class=\"pl1\">820</td>\n        <td class=\"change neg\">(<b>+35</b>)</td>\n        <td class=\"pl1\">3.7%</td>\n      </tr>\n    \n      <tr>\n        <td class=\"mw\"><b>Peru</b></td>\n        <td style=\"vertical-align: middle;\"><div class=\"d-flex\" style=\"height:15px;\">\n    \n    \n    <div style=\"width:5px;background:rgba(254, 26, 5, 0.4);border-right:1px solid rgba(255,255,255,0.5);\"></div>\n    \n    <div style=\"width:5px;background:rgba(254, 26, 5, 0.7);border-right:1px solid rgba(255,255,255,0.5);\"></div>\n    \n    <div style=\"width:5px;background:rgba(254, 26, 5, 0.7);border-right:1px solid rgba(255,255,255,0.5);\"></div>\n    \n    <div style=\"width:5px;background:rgba(254, 26, 5, 0.7);border-right:1px solid rgba(255,255,255,0.5);\"></div>\n    \n    <div style=\"width:5px;background:rgba(254, 26, 5, 0.7);border-right:1px solid rgba(255,255,255,0.5);\"></div>\n    \n    <div style=\"width:5px;background:rgba(254, 26, 5, 0.7);border-right:1px solid rgba(255,255,255,0.5);\"></div>\n    \n    <div style=\"width:5px;background:rgba(254, 26, 5, 1);border-right:1px solid rgba(255,255,255,0.5);\"></div>\n    \n    <div style=\"width:5px;background:rgba(254, 26, 5, 0.7);border-right:1px solid rgba(255,255,255,0.5);\"></div>\n    \n    <div style=\"width:5px;background:rgba(254, 26, 5, 0.7);border-right:1px solid rgba(255,255,255,0.5);\"></div>\n    \n    <div style=\"width:5px;background:rgba(254, 26, 5, 0.7);border-right:1px solid rgba(255,255,255,0.5);\"></div>\n    \n    <div style=\"width:5px;background:rgba(254, 26, 5, 0.7);border-right:1px solid rgba(255,255,255,0.5);\"></div>\n    \n    <div style=\"width:5px;background:rgba(254, 26, 5, 1);border-right:1px solid rgba(255,255,255,0.5);\"></div>\n    \n    <div style=\"width:5px;background:rgba(254, 26, 5, 0.7);border-right:1px solid rgba(255,255,255,0.5);\"></div>\n    \n    <div style=\"width:5px;background:rgba(254, 26, 5, 1);border-right:1px solid rgba(255,255,255,0.5);\"></div>\n    \n    <div style=\"width:5px;background:rgba(254, 26, 5, 1);border-right:1px solid rgba(255,255,255,0.5);\"></div>\n    \n    <div style=\"width:5px;background:rgba(254, 26, 5, 0.7);border-right:1px solid rgba(255,255,255,0.5);\"></div>\n    \n    <div style=\"width:5px;background:rgba(254, 26, 5, 0.7);border-right:1px solid rgba(255,255,255,0.5);\"></div>\n    \n    <div style=\"width:5px;background:rgba(254, 26, 5, 1);border-right:1px solid rgba(255,255,255,0.5);\"></div>\n    \n    <div style=\"width:5px;background:rgba(254, 26, 5, 0.7);border-right:1px solid rgba(255,255,255,0.5);\"></div>\n    \n    <div style=\"width:5px;background:rgba(254, 26, 5, 1);border-right:1px solid rgba(255,255,255,0.5);\"></div>\n    \n    <div style=\"width:5px;background:rgba(254, 26, 5, 1);border-right:1px solid rgba(255,255,255,0.5);\"></div>\n    \n    <div style=\"width:5px;background:rgba(254, 26, 5, 1);border-right:1px solid rgba(255,255,255,0.5);\"></div>\n    \n  </div></td>\n        <td class=\"pl1\"><b>20,914</b></td>\n        <td class=\"change neg\">(<b>+1,664</b>)</td>\n        <td class=\"pl1\">572</td>\n        <td class=\"change neg\">(<b>+42</b>)</td>\n        <td class=\"pl1\">2.7%</td>\n      </tr>\n    \n      <tr>\n        <td class=\"mw\"><b>Ireland</b></td>\n        <td style=\"vertical-align: middle;\"><div class=\"d-flex\" style=\"height:15px;\">\n    \n    \n    <div style=\"width:5px;background:rgba(254, 26, 5, 0.7);border-right:1px solid rgba(255,255,255,0.5);\"></div>\n    \n    <div style=\"width:5px;background:rgba(254, 26, 5, 0.7);border-right:1px solid rgba(255,255,255,0.5);\"></div>\n    \n    <div style=\"width:5px;background:rgba(254, 26, 5, 0.7);border-right:1px solid rgba(255,255,255,0.5);\"></div>\n    \n    <div style=\"width:5px;background:rgba(254, 26, 5, 0.7);border-right:1px solid rgba(255,255,255,0.5);\"></div>\n    \n    <div style=\"width:5px;background:rgba(254, 26, 5, 0.7);border-right:1px solid rgba(255,255,255,0.5);\"></div>\n    \n    <div style=\"width:5px;background:rgba(254, 26, 5, 0.7);border-right:1px solid rgba(255,255,255,0.5);\"></div>\n    \n    <div style=\"width:5px;background:rgba(254, 26, 5, 0.7);border-right:1px solid rgba(255,255,255,0.5);\"></div>\n    \n    <div style=\"width:5px;background:rgba(254, 26, 5, 0.7);border-right:1px solid rgba(255,255,255,0.5);\"></div>\n    \n    <div style=\"width:5px;background:rgba(254, 26, 5, 1);border-right:1px solid rgba(255,255,255,0.5);\"></div>\n    \n    <div style=\"width:5px;background:rgba(254, 26, 5, 0.7);border-right:1px solid rgba(255,255,255,0.5);\"></div>\n    \n    <div style=\"width:5px;background:rgba(254, 26, 5, 0.7);border-right:1px solid rgba(255,255,255,0.5);\"></div>\n    \n    <div style=\"width:5px;background:rgba(254, 26, 5, 0.7);border-right:1px solid rgba(255,255,255,0.5);\"></div>\n    \n    <div style=\"width:5px;background:rgba(254, 26, 5, 0.7);border-right:1px solid rgba(255,255,255,0.5);\"></div>\n    \n    <div style=\"width:5px;background:rgba(254, 26, 5, 1);border-right:1px solid rgba(255,255,255,0.5);\"></div>\n    \n    <div style=\"width:5px;background:rgba(254, 26, 5, 0.7);border-right:1px solid rgba(255,255,255,0.5);\"></div>\n    \n    <div style=\"width:5px;background:rgba(254, 26, 5, 0.7);border-right:1px solid rgba(255,255,255,0.5);\"></div>\n    \n    <div style=\"width:5px;background:rgba(254, 26, 5, 0.7);border-right:1px solid rgba(255,255,255,0.5);\"></div>\n    \n    <div style=\"width:5px;background:rgba(254, 26, 5, 0.7);border-right:1px solid rgba(255,255,255,0.5);\"></div>\n    \n    <div style=\"width:5px;background:rgba(254, 26, 5, 0.7);border-right:1px solid rgba(255,255,255,0.5);\"></div>\n    \n    <div style=\"width:5px;background:rgba(254, 26, 5, 0.7);border-right:1px solid rgba(255,255,255,0.5);\"></div>\n    \n    <div style=\"width:5px;background:rgba(254, 26, 5, 0.7);border-right:1px solid rgba(255,255,255,0.5);\"></div>\n    \n    <div style=\"width:5px;background:rgba(254, 26, 5, 0.7);border-right:1px solid rgba(255,255,255,0.5);\"></div>\n    \n  </div></td>\n        <td class=\"pl1\"><b>17,607</b></td>\n        <td class=\"change neg\">(<b>+936</b>)</td>\n        <td class=\"pl1\">794</td>\n        <td class=\"change neg\">(<b>+25</b>)</td>\n        <td class=\"pl1\">4.5%</td>\n      </tr>\n    \n      <tr>\n        <td class=\"mw\"><b>Sweden</b></td>\n        <td style=\"vertical-align: middle;\"><div class=\"d-flex\" style=\"height:15px;\">\n    \n    \n    <div style=\"width:5px;background:rgba(254, 26, 5, 0.7);border-right:1px solid rgba(255,255,255,0.5);\"></div>\n    \n    <div style=\"width:5px;background:rgba(254, 26, 5, 0.7);border-right:1px solid rgba(255,255,255,0.5);\"></div>\n    \n    <div style=\"width:5px;background:rgba(254, 26, 5, 0.7);border-right:1px solid rgba(255,255,255,0.5);\"></div>\n    \n    <div style=\"width:5px;background:rgba(254, 26, 5, 0.7);border-right:1px solid rgba(255,255,255,0.5);\"></div>\n    \n    <div style=\"width:5px;background:rgba(254, 26, 5, 0.7);border-right:1px solid rgba(255,255,255,0.5);\"></div>\n    \n    <div style=\"width:5px;background:rgba(254, 26, 5, 0.7);border-right:1px solid rgba(255,255,255,0.5);\"></div>\n    \n    <div style=\"width:5px;background:rgba(254, 26, 5, 0.7);border-right:1px solid rgba(255,255,255,0.5);\"></div>\n    \n    <div style=\"width:5px;background:rgba(254, 26, 5, 0.7);border-right:1px solid rgba(255,255,255,0.5);\"></div>\n    \n    <div style=\"width:5px;background:rgba(254, 26, 5, 0.7);border-right:1px solid rgba(255,255,255,0.5);\"></div>\n    \n    <div style=\"width:5px;background:rgba(254, 26, 5, 0.7);border-right:1px solid rgba(255,255,255,0.5);\"></div>\n    \n    <div style=\"width:5px;background:rgba(254, 26, 5, 0.7);border-right:1px solid rgba(255,255,255,0.5);\"></div>\n    \n    <div style=\"width:5px;background:rgba(254, 26, 5, 0.7);border-right:1px solid rgba(255,255,255,0.5);\"></div>\n    \n    <div style=\"width:5px;background:rgba(254, 26, 5, 0.7);border-right:1px solid rgba(255,255,255,0.5);\"></div>\n    \n    <div style=\"width:5px;background:rgba(254, 26, 5, 0.7);border-right:1px solid rgba(255,255,255,0.5);\"></div>\n    \n    <div style=\"width:5px;background:rgba(254, 26, 5, 0.7);border-right:1px solid rgba(255,255,255,0.5);\"></div>\n    \n    <div style=\"width:5px;background:rgba(254, 26, 5, 0.7);border-right:1px solid rgba(255,255,255,0.5);\"></div>\n    \n    <div style=\"width:5px;background:rgba(254, 26, 5, 0.7);border-right:1px solid rgba(255,255,255,0.5);\"></div>\n    \n    <div style=\"width:5px;background:rgba(254, 26, 5, 0.7);border-right:1px solid rgba(255,255,255,0.5);\"></div>\n    \n    <div style=\"width:5px;background:rgba(254, 26, 5, 0.7);border-right:1px solid rgba(255,255,255,0.5);\"></div>\n    \n    <div style=\"width:5px;background:rgba(254, 26, 5, 0.7);border-right:1px solid rgba(255,255,255,0.5);\"></div>\n    \n    <div style=\"width:5px;background:rgba(254, 26, 5, 0.7);border-right:1px solid rgba(255,255,255,0.5);\"></div>\n    \n    <div style=\"width:5px;background:rgba(254, 26, 5, 0.7);border-right:1px solid rgba(255,255,255,0.5);\"></div>\n    \n  </div></td>\n        <td class=\"pl1\"><b>16,755</b></td>\n        <td class=\"change neg\">(<b>+751</b>)</td>\n        <td class=\"pl1\">2,021</td>\n        <td class=\"change neg\">(<b>+84</b>)</td>\n        <td class=\"pl1\">12.1%</td>\n      </tr>\n    \n    </tbody>\n  </table>\n</div>\n<style>\n\n\n.overview {\n  min-width: 500px;\n  font-size: 9px;\n  font-family: \"Segoe UI\", SegoeUI, Roboto, \"Segoe WP\", \"Helvetica Neue\", \"Helvetica\", \"Tahoma\", \"Arial\", sans-serif !important;\n}\n.overview .toplinksgithub a {\n  background: #d3d3d3;\n  font-size: 14px;\n  color: #1d87ae;\n  margin: 10px;\n  padding: 2px 10px;\n}\n.overview p {\n  margin: 6px auto !important;\n  padding: 0;\n}\n@media screen and (max-width: 660px) {\n  .overview p { max-width: none !important; }\n}\n.overview b {\n  font-weight: bolder;\n}\n.overview .kpi-hed {\n  font-weight: bold;\n  font-size: 20px;\n}\n.overview .kpi-box {\n  justify-content: space-around;\n  font-size: 15px;\n  background: #f5d906;\n  padding: 10px 0 !important;\n  margin: 5px 0 !important;\n  min-width: 180px;\n}\n.overview .kpi .num {\n  font-size: 40px;\n  line-height: 40px;\n  font-weight: bold;\n}\n.overview .kpi .grow {\n  line-height: 12px;\n  font-size: 12px;\n}\n.overview .table .change.pos , .overview .kpi .grow.pos {\n  color: #118822;\n}\n.overview .table .change.neg, .overview .kpi .grow, .color-neg {\n  color: #fe1a05;\n}\n.overview p .color-neg {\n  background: #ececec;\n  padding: 0 5px;\n}\n.overview .kpi .kname {\n  font-size: 10px;\n}\n.overview .kpi-sm .kpi-hed {\n  font-size: 14px;\n  line-height: 10px;\n  padding-top: 10px !important;\n}\n.overview .kpi-sm .num {\n  font-size: 20px;\n  line-height: 20px;\n}\n.overview .kpi-sm .kname {\n  font-size: 11px;\n  line-height: 9px;\n}\n.overview .table {\n  border-collapse: collapse;\n  margin: auto !important;\n  text-align: right;\n  margin-top: 14px;\n  color: black;\n  font-size: 13px;\n  display: table !important;\n}\n.overview .table .change {\n  color: #999;\n  font-size: 80%;\n  text-align: start;\n  vertical-align: inherit;\n  font-weight: normal;\n  padding-left: 1px !important;\n}\n.overview .table th {\n  font-weight: normal;\n}\n.overview .table tbody tr {\n  border-bottom: 1px solid #eee;\n  background: none;\n}\n.overview .table td, .overview .table th {\n  padding: 1px 1px 1px 10px !important;\n  vertical-align: middle;\n  border: none;\n  background: none;\n}\n.overview .table th {\n  text-align: center;\n  text-transform: uppercase;\n}\n.overview .table thead {\n  border-bottom: 1px solid black;\n}\n.overview .fs9 {\n  font-size: 12px;\n}\n.overview .d-flex {\n  display: flex;\n}\n.overview .text-center { text-align: center !important; }\n.overview .text-left { text-align: left !important; }\n.overview .text-right { text-align: right !important; }\n.overview .text-uppercase { text-transform: uppercase !important; }\n.overview div {\n  margin: 0 !important;\n  padding: 0 !important;\n}\n</style></div>"
     },
     "metadata": {},
     "execution_count": 20
    }
   ],
   "source": [
    "#hide_input\n",
    "template = Template(get_template('https://raw.githubusercontent.com/hargun3045/dashboards/master/overview.tpl'))\n",
    "html = template.render(\n",
    "    D=summary, table=df_table.head(20),  # REMOVE .head(20) to see all values\n",
    "    newcases=dft_ct_new_cases.loc[:, dt_cols[LAST_DATE_I-21]:dt_cols[LAST_DATE_I]],\n",
    "    np=np, pd=pd, enumerate=enumerate)\n",
    "HTML(f'<div>{html}</div>')"
   ]
  }
 ],
 "metadata": {
  "kernelspec": {
   "display_name": "Python 3",
   "language": "python",
   "name": "python3"
  },
  "language_info": {
   "codemirror_mode": {
    "name": "ipython",
    "version": 3
   },
   "file_extension": ".py",
   "mimetype": "text/x-python",
   "name": "python",
   "nbconvert_exporter": "python",
   "pygments_lexer": "ipython3",
   "version": "3.7.3-final"
  },
  "papermill": {
   "duration": 4.91717,
   "end_time": "2020-04-23T06:08:06.643306",
   "environment_variables": {},
   "exception": null,
   "input_path": "2020-03-21-covid19-dashboarder.ipynb",
   "output_path": "2020-03-21-covid19-dashboarder.ipynb",
   "parameters": {},
   "start_time": "2020-04-23T06:08:01.726136",
   "version": "2.0.0"
  }
 },
 "nbformat": 4,
 "nbformat_minor": 4
}