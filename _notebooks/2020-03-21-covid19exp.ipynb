{
 "cells": [
  {
   "cell_type": "markdown",
   "id": "muslim-click",
   "metadata": {
    "papermill": {
     "duration": 0.044313,
     "end_time": "2021-03-21T00:12:10.128922",
     "exception": false,
     "start_time": "2021-03-21T00:12:10.084609",
     "status": "completed"
    },
    "tags": []
   },
   "source": [
    "# COVID-19 Case Race\n",
    "> A race chart to see rising cases around the world\n",
    "\n",
    "- author: Hargun Oberoi\n",
    "- image: images/covid-overview.png\n",
    "- hide: false\n",
    "- badges: false"
   ]
  },
  {
   "cell_type": "code",
   "execution_count": 1,
   "id": "proof-material",
   "metadata": {
    "execution": {
     "iopub.execute_input": "2021-03-21T00:12:10.221504Z",
     "iopub.status.busy": "2021-03-21T00:12:10.220812Z",
     "iopub.status.idle": "2021-03-21T00:12:10.604470Z",
     "shell.execute_reply": "2021-03-21T00:12:10.604997Z"
    },
    "papermill": {
     "duration": 0.437316,
     "end_time": "2021-03-21T00:12:10.605187",
     "exception": false,
     "start_time": "2021-03-21T00:12:10.167871",
     "status": "completed"
    },
    "tags": []
   },
   "outputs": [],
   "source": [
    "#hide\n",
    "import numpy as np\n",
    "import pandas as pd\n",
    "from jinja2 import Template\n",
    "from IPython.display import HTML"
   ]
  },
  {
   "cell_type": "code",
   "execution_count": 2,
   "id": "developed-terminology",
   "metadata": {
    "execution": {
     "iopub.execute_input": "2021-03-21T00:12:10.690197Z",
     "iopub.status.busy": "2021-03-21T00:12:10.689519Z",
     "iopub.status.idle": "2021-03-21T00:12:10.692388Z",
     "shell.execute_reply": "2021-03-21T00:12:10.692901Z"
    },
    "papermill": {
     "duration": 0.047891,
     "end_time": "2021-03-21T00:12:10.693062",
     "exception": false,
     "start_time": "2021-03-21T00:12:10.645171",
     "status": "completed"
    },
    "tags": []
   },
   "outputs": [],
   "source": [
    "#hide\n",
    "\n",
    "# FETCH\n",
    "base_url = 'https://raw.githubusercontent.com/pratapvardhan/notebooks/master/covid19/'\n",
    "paths = {\n",
    "    'mapping': base_url + 'mapping_countries.csv',\n",
    "    'overview': base_url + 'overview.tpl'\n",
    "}"
   ]
  },
  {
   "cell_type": "code",
   "execution_count": 3,
   "id": "dynamic-saver",
   "metadata": {
    "execution": {
     "iopub.execute_input": "2021-03-21T00:12:10.788249Z",
     "iopub.status.busy": "2021-03-21T00:12:10.784622Z",
     "iopub.status.idle": "2021-03-21T00:12:10.791446Z",
     "shell.execute_reply": "2021-03-21T00:12:10.791983Z"
    },
    "papermill": {
     "duration": 0.057684,
     "end_time": "2021-03-21T00:12:10.792171",
     "exception": false,
     "start_time": "2021-03-21T00:12:10.734487",
     "status": "completed"
    },
    "tags": []
   },
   "outputs": [
    {
     "data": {
      "text/plain": [
       "'https://raw.githubusercontent.com/pratapvardhan/notebooks/master/covid19/mapping_countries.csv'"
      ]
     },
     "execution_count": 3,
     "metadata": {},
     "output_type": "execute_result"
    }
   ],
   "source": [
    "#hide\n",
    "paths['mapping']"
   ]
  },
  {
   "cell_type": "code",
   "execution_count": 4,
   "id": "urban-software",
   "metadata": {
    "execution": {
     "iopub.execute_input": "2021-03-21T00:12:10.878978Z",
     "iopub.status.busy": "2021-03-21T00:12:10.878299Z",
     "iopub.status.idle": "2021-03-21T00:12:10.880389Z",
     "shell.execute_reply": "2021-03-21T00:12:10.881012Z"
    },
    "papermill": {
     "duration": 0.049056,
     "end_time": "2021-03-21T00:12:10.881158",
     "exception": false,
     "start_time": "2021-03-21T00:12:10.832102",
     "status": "completed"
    },
    "tags": []
   },
   "outputs": [],
   "source": [
    "#hide\n",
    "def get_mappings(url):\n",
    "    df = pd.read_csv(url)\n",
    "    return {\n",
    "        'df': df,\n",
    "        'replace.country': dict(df.dropna(subset=['Name']).set_index('Country')['Name']),\n",
    "        'map.continent': dict(df.set_index('Name')['Continent'])\n",
    "    }"
   ]
  },
  {
   "cell_type": "code",
   "execution_count": 5,
   "id": "intimate-machinery",
   "metadata": {
    "execution": {
     "iopub.execute_input": "2021-03-21T00:12:10.969699Z",
     "iopub.status.busy": "2021-03-21T00:12:10.969027Z",
     "iopub.status.idle": "2021-03-21T00:12:11.013610Z",
     "shell.execute_reply": "2021-03-21T00:12:11.014140Z"
    },
    "papermill": {
     "duration": 0.091922,
     "end_time": "2021-03-21T00:12:11.014315",
     "exception": false,
     "start_time": "2021-03-21T00:12:10.922393",
     "status": "completed"
    },
    "tags": []
   },
   "outputs": [],
   "source": [
    "#hide\n",
    "mapping = get_mappings(paths['mapping'])"
   ]
  },
  {
   "cell_type": "code",
   "execution_count": 6,
   "id": "certified-tactics",
   "metadata": {
    "execution": {
     "iopub.execute_input": "2021-03-21T00:12:11.108917Z",
     "iopub.status.busy": "2021-03-21T00:12:11.108246Z",
     "iopub.status.idle": "2021-03-21T00:12:11.110112Z",
     "shell.execute_reply": "2021-03-21T00:12:11.110749Z"
    },
    "papermill": {
     "duration": 0.048509,
     "end_time": "2021-03-21T00:12:11.110914",
     "exception": false,
     "start_time": "2021-03-21T00:12:11.062405",
     "status": "completed"
    },
    "tags": []
   },
   "outputs": [],
   "source": [
    "#hide\n",
    "def get_template(path):\n",
    "    from urllib.parse import urlparse\n",
    "    if bool(urlparse(path).netloc):\n",
    "        from urllib.request import urlopen\n",
    "        return urlopen(path).read().decode('utf8')\n",
    "    return open(path).read()"
   ]
  },
  {
   "cell_type": "code",
   "execution_count": 7,
   "id": "realistic-blast",
   "metadata": {
    "execution": {
     "iopub.execute_input": "2021-03-21T00:12:11.214562Z",
     "iopub.status.busy": "2021-03-21T00:12:11.213905Z",
     "iopub.status.idle": "2021-03-21T00:12:11.216348Z",
     "shell.execute_reply": "2021-03-21T00:12:11.215790Z"
    },
    "papermill": {
     "duration": 0.060558,
     "end_time": "2021-03-21T00:12:11.216484",
     "exception": false,
     "start_time": "2021-03-21T00:12:11.155926",
     "status": "completed"
    },
    "tags": []
   },
   "outputs": [],
   "source": [
    "#hide\n",
    "def get_frame(name):\n",
    "    url = (\n",
    "        'https://raw.githubusercontent.com/CSSEGISandData/COVID-19/master/csse_covid_19_data/'\n",
    "        f'csse_covid_19_time_series/time_series_covid19_{name}_global.csv')\n",
    "    df = pd.read_csv(url)\n",
    "    # rename countries\n",
    "    df['Country/Region'] = df['Country/Region'].replace(mapping['replace.country'])\n",
    "    return df"
   ]
  },
  {
   "cell_type": "code",
   "execution_count": 8,
   "id": "affiliated-characterization",
   "metadata": {
    "execution": {
     "iopub.execute_input": "2021-03-21T00:12:11.303508Z",
     "iopub.status.busy": "2021-03-21T00:12:11.302806Z",
     "iopub.status.idle": "2021-03-21T00:12:11.305817Z",
     "shell.execute_reply": "2021-03-21T00:12:11.305253Z"
    },
    "papermill": {
     "duration": 0.048019,
     "end_time": "2021-03-21T00:12:11.305957",
     "exception": false,
     "start_time": "2021-03-21T00:12:11.257938",
     "status": "completed"
    },
    "tags": []
   },
   "outputs": [],
   "source": [
    "#hide\n",
    "def get_dates(df):\n",
    "    dt_cols = df.columns[~df.columns.isin(['Province/State', 'Country/Region', 'Lat', 'Long'])]\n",
    "    LAST_DATE_I = -1\n",
    "    # sometimes last column may be empty, then go backwards\n",
    "    for i in range(-1, -len(dt_cols), -1):\n",
    "        if not df[dt_cols[i]].fillna(0).eq(0).all():\n",
    "            LAST_DATE_I = i\n",
    "            break\n",
    "    return LAST_DATE_I, dt_cols"
   ]
  },
  {
   "cell_type": "code",
   "execution_count": 9,
   "id": "recent-optimization",
   "metadata": {
    "execution": {
     "iopub.execute_input": "2021-03-21T00:12:11.398888Z",
     "iopub.status.busy": "2021-03-21T00:12:11.397673Z",
     "iopub.status.idle": "2021-03-21T00:12:11.800201Z",
     "shell.execute_reply": "2021-03-21T00:12:11.799593Z"
    },
    "papermill": {
     "duration": 0.452081,
     "end_time": "2021-03-21T00:12:11.800360",
     "exception": false,
     "start_time": "2021-03-21T00:12:11.348279",
     "status": "completed"
    },
    "tags": []
   },
   "outputs": [],
   "source": [
    "#hide\n",
    "COL_REGION = 'Country/Region'\n",
    "# Confirmed, Recovered, Deaths\n",
    "df = get_frame('confirmed')\n",
    "# dft_: timeseries, dfc_: today country agg\n",
    "dft_cases = df\n",
    "dft_deaths = get_frame('deaths')\n",
    "dft_recovered = get_frame('recovered')\n",
    "LAST_DATE_I, dt_cols = get_dates(df)"
   ]
  },
  {
   "cell_type": "code",
   "execution_count": 10,
   "id": "absolute-copper",
   "metadata": {
    "execution": {
     "iopub.execute_input": "2021-03-21T00:12:11.887215Z",
     "iopub.status.busy": "2021-03-21T00:12:11.886536Z",
     "iopub.status.idle": "2021-03-21T00:12:11.889136Z",
     "shell.execute_reply": "2021-03-21T00:12:11.888431Z"
    },
    "papermill": {
     "duration": 0.049173,
     "end_time": "2021-03-21T00:12:11.889344",
     "exception": false,
     "start_time": "2021-03-21T00:12:11.840171",
     "status": "completed"
    },
    "tags": []
   },
   "outputs": [],
   "source": [
    "#hide\n",
    "LAST_DATE_I, dt_cols = get_dates(df)\n",
    "dt_today =dt_cols[LAST_DATE_I]\n",
    "# dt_5day = dt_cols[LAST_DATE_I - 5]\n",
    "dt_yday = dt_cols[LAST_DATE_I - 1]"
   ]
  },
  {
   "cell_type": "code",
   "execution_count": 11,
   "id": "restricted-sheriff",
   "metadata": {
    "execution": {
     "iopub.execute_input": "2021-03-21T00:12:11.979511Z",
     "iopub.status.busy": "2021-03-21T00:12:11.978808Z",
     "iopub.status.idle": "2021-03-21T00:12:11.987554Z",
     "shell.execute_reply": "2021-03-21T00:12:11.988137Z"
    },
    "papermill": {
     "duration": 0.057367,
     "end_time": "2021-03-21T00:12:11.988303",
     "exception": false,
     "start_time": "2021-03-21T00:12:11.930936",
     "status": "completed"
    },
    "tags": []
   },
   "outputs": [],
   "source": [
    "#hide\n",
    "dfc_cases = dft_cases.groupby(COL_REGION)[dt_today].sum()\n",
    "dfc_deaths = dft_deaths.groupby(COL_REGION)[dt_today].sum()\n",
    "# dfp_cases = dft_cases.groupby(COL_REGION)[dt_5day].sum()\n",
    "# dfp_deaths = dft_deaths.groupby(COL_REGION)[dt_5day].sum()\n",
    "dfp_cases = dft_cases.groupby(COL_REGION)[dt_yday].sum()\n",
    "dfp_deaths = dft_deaths.groupby(COL_REGION)[dt_yday].sum()"
   ]
  },
  {
   "cell_type": "code",
   "execution_count": 12,
   "id": "deluxe-hepatitis",
   "metadata": {
    "execution": {
     "iopub.execute_input": "2021-03-21T00:12:12.080007Z",
     "iopub.status.busy": "2021-03-21T00:12:12.079350Z",
     "iopub.status.idle": "2021-03-21T00:12:12.085263Z",
     "shell.execute_reply": "2021-03-21T00:12:12.084668Z"
    },
    "papermill": {
     "duration": 0.05847,
     "end_time": "2021-03-21T00:12:12.085401",
     "exception": false,
     "start_time": "2021-03-21T00:12:12.026931",
     "status": "completed"
    },
    "tags": []
   },
   "outputs": [],
   "source": [
    "#hide\n",
    "df_table = (pd.DataFrame(dict(Cases = dfc_cases, Deaths = dfc_deaths, PCases = dfp_cases, PDeaths = dfp_deaths))\n",
    "            .sort_values(by = ['Cases','Deaths'], ascending = [False, False])\n",
    "            .reset_index())"
   ]
  },
  {
   "cell_type": "code",
   "execution_count": 13,
   "id": "educational-chancellor",
   "metadata": {
    "execution": {
     "iopub.execute_input": "2021-03-21T00:12:12.185977Z",
     "iopub.status.busy": "2021-03-21T00:12:12.185301Z",
     "iopub.status.idle": "2021-03-21T00:12:12.194843Z",
     "shell.execute_reply": "2021-03-21T00:12:12.194184Z"
    },
    "papermill": {
     "duration": 0.070237,
     "end_time": "2021-03-21T00:12:12.194984",
     "exception": false,
     "start_time": "2021-03-21T00:12:12.124747",
     "status": "completed"
    },
    "tags": []
   },
   "outputs": [
    {
     "data": {
      "text/html": [
       "<div>\n",
       "<style scoped>\n",
       "    .dataframe tbody tr th:only-of-type {\n",
       "        vertical-align: middle;\n",
       "    }\n",
       "\n",
       "    .dataframe tbody tr th {\n",
       "        vertical-align: top;\n",
       "    }\n",
       "\n",
       "    .dataframe thead th {\n",
       "        text-align: right;\n",
       "    }\n",
       "</style>\n",
       "<table border=\"1\" class=\"dataframe\">\n",
       "  <thead>\n",
       "    <tr style=\"text-align: right;\">\n",
       "      <th></th>\n",
       "      <th>Country/Region</th>\n",
       "      <th>Cases</th>\n",
       "      <th>Deaths</th>\n",
       "      <th>PCases</th>\n",
       "      <th>PDeaths</th>\n",
       "      <th>Cases (+)</th>\n",
       "      <th>Deaths (+)</th>\n",
       "      <th>Fatality Rate</th>\n",
       "      <th>Continent</th>\n",
       "    </tr>\n",
       "  </thead>\n",
       "  <tbody>\n",
       "    <tr>\n",
       "      <th>0</th>\n",
       "      <td>US</td>\n",
       "      <td>29730000</td>\n",
       "      <td>541143</td>\n",
       "      <td>29668587</td>\n",
       "      <td>539698</td>\n",
       "      <td>61413</td>\n",
       "      <td>1445</td>\n",
       "      <td>1.82</td>\n",
       "      <td>North America</td>\n",
       "    </tr>\n",
       "    <tr>\n",
       "      <th>1</th>\n",
       "      <td>Brazil</td>\n",
       "      <td>11871390</td>\n",
       "      <td>290314</td>\n",
       "      <td>11780820</td>\n",
       "      <td>287499</td>\n",
       "      <td>90570</td>\n",
       "      <td>2815</td>\n",
       "      <td>2.45</td>\n",
       "      <td>South America</td>\n",
       "    </tr>\n",
       "    <tr>\n",
       "      <th>2</th>\n",
       "      <td>India</td>\n",
       "      <td>11555284</td>\n",
       "      <td>159558</td>\n",
       "      <td>11514331</td>\n",
       "      <td>159370</td>\n",
       "      <td>40953</td>\n",
       "      <td>188</td>\n",
       "      <td>1.38</td>\n",
       "      <td>Asia</td>\n",
       "    </tr>\n",
       "    <tr>\n",
       "      <th>3</th>\n",
       "      <td>Russia</td>\n",
       "      <td>4388268</td>\n",
       "      <td>92704</td>\n",
       "      <td>4378656</td>\n",
       "      <td>92266</td>\n",
       "      <td>9612</td>\n",
       "      <td>438</td>\n",
       "      <td>2.11</td>\n",
       "      <td>Europe</td>\n",
       "    </tr>\n",
       "    <tr>\n",
       "      <th>4</th>\n",
       "      <td>United Kingdom</td>\n",
       "      <td>4299200</td>\n",
       "      <td>126263</td>\n",
       "      <td>4294328</td>\n",
       "      <td>126163</td>\n",
       "      <td>4872</td>\n",
       "      <td>100</td>\n",
       "      <td>2.94</td>\n",
       "      <td>Europe</td>\n",
       "    </tr>\n",
       "  </tbody>\n",
       "</table>\n",
       "</div>"
      ],
      "text/plain": [
       "   Country/Region     Cases  Deaths    PCases  PDeaths  Cases (+)  Deaths (+)  \\\n",
       "0              US  29730000  541143  29668587   539698      61413        1445   \n",
       "1          Brazil  11871390  290314  11780820   287499      90570        2815   \n",
       "2           India  11555284  159558  11514331   159370      40953         188   \n",
       "3          Russia   4388268   92704   4378656    92266       9612         438   \n",
       "4  United Kingdom   4299200  126263   4294328   126163       4872         100   \n",
       "\n",
       "   Fatality Rate      Continent  \n",
       "0           1.82  North America  \n",
       "1           2.45  South America  \n",
       "2           1.38           Asia  \n",
       "3           2.11         Europe  \n",
       "4           2.94         Europe  "
      ]
     },
     "execution_count": 13,
     "metadata": {},
     "output_type": "execute_result"
    }
   ],
   "source": [
    "#hide\n",
    "for c in 'Cases, Deaths'.split(', '):\n",
    "    df_table[f'{c} (+)'] = (df_table[c] - df_table[f'P{c}']).clip(0)\n",
    "    #Clip ça veut dire, les chiffres negatif sont interdit\n",
    "df_table['Fatality Rate'] = (100* df_table['Deaths']/ df_table['Cases']).round(2)\n",
    "df_table['Continent'] = df_table['Country/Region'].map(mapping['map.continent'])\n",
    "df_table.head(5)"
   ]
  },
  {
   "cell_type": "code",
   "execution_count": 14,
   "id": "aboriginal-bulgaria",
   "metadata": {
    "execution": {
     "iopub.execute_input": "2021-03-21T00:12:12.285837Z",
     "iopub.status.busy": "2021-03-21T00:12:12.282605Z",
     "iopub.status.idle": "2021-03-21T00:12:12.286742Z",
     "shell.execute_reply": "2021-03-21T00:12:12.287310Z"
    },
    "papermill": {
     "duration": 0.051339,
     "end_time": "2021-03-21T00:12:12.287468",
     "exception": false,
     "start_time": "2021-03-21T00:12:12.236129",
     "status": "completed"
    },
    "tags": []
   },
   "outputs": [],
   "source": [
    "#hide\n",
    "#delete problematic countries from table\n",
    "df_table = df_table[~df_table['Country/Region'].isin(['Cape Verde', 'Cruise Ship', 'Kosovo'])]"
   ]
  },
  {
   "cell_type": "code",
   "execution_count": 15,
   "id": "fantastic-effect",
   "metadata": {
    "execution": {
     "iopub.execute_input": "2021-03-21T00:12:12.388886Z",
     "iopub.status.busy": "2021-03-21T00:12:12.388151Z",
     "iopub.status.idle": "2021-03-21T00:12:12.409952Z",
     "shell.execute_reply": "2021-03-21T00:12:12.409378Z"
    },
    "papermill": {
     "duration": 0.075628,
     "end_time": "2021-03-21T00:12:12.410096",
     "exception": false,
     "start_time": "2021-03-21T00:12:12.334468",
     "status": "completed"
    },
    "tags": []
   },
   "outputs": [
    {
     "data": {
      "text/html": [
       "<div>\n",
       "<style scoped>\n",
       "    .dataframe tbody tr th:only-of-type {\n",
       "        vertical-align: middle;\n",
       "    }\n",
       "\n",
       "    .dataframe tbody tr th {\n",
       "        vertical-align: top;\n",
       "    }\n",
       "\n",
       "    .dataframe thead th {\n",
       "        text-align: right;\n",
       "    }\n",
       "</style>\n",
       "<table border=\"1\" class=\"dataframe\">\n",
       "  <thead>\n",
       "    <tr style=\"text-align: right;\">\n",
       "      <th></th>\n",
       "      <th>Country/Region</th>\n",
       "      <th>Cases</th>\n",
       "      <th>Deaths</th>\n",
       "      <th>PCases</th>\n",
       "      <th>PDeaths</th>\n",
       "      <th>Cases (+)</th>\n",
       "      <th>Deaths (+)</th>\n",
       "      <th>Fatality Rate</th>\n",
       "      <th>Continent</th>\n",
       "    </tr>\n",
       "  </thead>\n",
       "  <tbody>\n",
       "    <tr>\n",
       "      <th>0</th>\n",
       "      <td>US</td>\n",
       "      <td>29730000</td>\n",
       "      <td>541143</td>\n",
       "      <td>29668587</td>\n",
       "      <td>539698</td>\n",
       "      <td>61413</td>\n",
       "      <td>1445</td>\n",
       "      <td>1.8</td>\n",
       "      <td>North America</td>\n",
       "    </tr>\n",
       "    <tr>\n",
       "      <th>1</th>\n",
       "      <td>Brazil</td>\n",
       "      <td>11871390</td>\n",
       "      <td>290314</td>\n",
       "      <td>11780820</td>\n",
       "      <td>287499</td>\n",
       "      <td>90570</td>\n",
       "      <td>2815</td>\n",
       "      <td>2.4</td>\n",
       "      <td>South America</td>\n",
       "    </tr>\n",
       "    <tr>\n",
       "      <th>2</th>\n",
       "      <td>India</td>\n",
       "      <td>11555284</td>\n",
       "      <td>159558</td>\n",
       "      <td>11514331</td>\n",
       "      <td>159370</td>\n",
       "      <td>40953</td>\n",
       "      <td>188</td>\n",
       "      <td>1.4</td>\n",
       "      <td>Asia</td>\n",
       "    </tr>\n",
       "    <tr>\n",
       "      <th>3</th>\n",
       "      <td>Russia</td>\n",
       "      <td>4388268</td>\n",
       "      <td>92704</td>\n",
       "      <td>4378656</td>\n",
       "      <td>92266</td>\n",
       "      <td>9612</td>\n",
       "      <td>438</td>\n",
       "      <td>2.1</td>\n",
       "      <td>Europe</td>\n",
       "    </tr>\n",
       "    <tr>\n",
       "      <th>4</th>\n",
       "      <td>United Kingdom</td>\n",
       "      <td>4299200</td>\n",
       "      <td>126263</td>\n",
       "      <td>4294328</td>\n",
       "      <td>126163</td>\n",
       "      <td>4872</td>\n",
       "      <td>100</td>\n",
       "      <td>2.9</td>\n",
       "      <td>Europe</td>\n",
       "    </tr>\n",
       "  </tbody>\n",
       "</table>\n",
       "</div>"
      ],
      "text/plain": [
       "   Country/Region     Cases  Deaths    PCases  PDeaths  Cases (+)  Deaths (+)  \\\n",
       "0              US  29730000  541143  29668587   539698      61413        1445   \n",
       "1          Brazil  11871390  290314  11780820   287499      90570        2815   \n",
       "2           India  11555284  159558  11514331   159370      40953         188   \n",
       "3          Russia   4388268   92704   4378656    92266       9612         438   \n",
       "4  United Kingdom   4299200  126263   4294328   126163       4872         100   \n",
       "\n",
       "   Fatality Rate      Continent  \n",
       "0            1.8  North America  \n",
       "1            2.4  South America  \n",
       "2            1.4           Asia  \n",
       "3            2.1         Europe  \n",
       "4            2.9         Europe  "
      ]
     },
     "execution_count": 15,
     "metadata": {},
     "output_type": "execute_result"
    }
   ],
   "source": [
    "#hide\n",
    "df_table = (pd.DataFrame(dict(Cases=dfc_cases, Deaths=dfc_deaths, PCases=dfp_cases, PDeaths=dfp_deaths))\n",
    "             .sort_values(by=['Cases', 'Deaths'], ascending=[False, False])\n",
    "             .reset_index())\n",
    "df_table.rename(columns={'index': 'Country/Region'}, inplace=True)\n",
    "for c in 'Cases, Deaths'.split(', '):\n",
    "    df_table[f'{c} (+)'] = (df_table[c] - df_table[f'P{c}']).clip(0)  # DATA BUG\n",
    "df_table['Fatality Rate'] = (100 * df_table['Deaths'] / df_table['Cases']).round(1)\n",
    "df_table['Continent'] = df_table['Country/Region'].map(mapping['map.continent'])\n",
    "df_table.head(5)"
   ]
  },
  {
   "cell_type": "code",
   "execution_count": 16,
   "id": "fewer-occasion",
   "metadata": {
    "execution": {
     "iopub.execute_input": "2021-03-21T00:12:12.502112Z",
     "iopub.status.busy": "2021-03-21T00:12:12.501346Z",
     "iopub.status.idle": "2021-03-21T00:12:12.503827Z",
     "shell.execute_reply": "2021-03-21T00:12:12.503193Z"
    },
    "papermill": {
     "duration": 0.05147,
     "end_time": "2021-03-21T00:12:12.503974",
     "exception": false,
     "start_time": "2021-03-21T00:12:12.452504",
     "status": "completed"
    },
    "tags": []
   },
   "outputs": [],
   "source": [
    "#hide\n",
    "#delete problematic countries from table\n",
    "df_table = df_table[~df_table['Country/Region'].isin(['Cape Verde', 'Cruise Ship', 'Kosovo'])]"
   ]
  },
  {
   "cell_type": "code",
   "execution_count": 17,
   "id": "related-center",
   "metadata": {
    "execution": {
     "iopub.execute_input": "2021-03-21T00:12:12.609487Z",
     "iopub.status.busy": "2021-03-21T00:12:12.599933Z",
     "iopub.status.idle": "2021-03-21T00:12:12.624448Z",
     "shell.execute_reply": "2021-03-21T00:12:12.623815Z"
    },
    "papermill": {
     "duration": 0.078782,
     "end_time": "2021-03-21T00:12:12.624613",
     "exception": false,
     "start_time": "2021-03-21T00:12:12.545831",
     "status": "completed"
    },
    "tags": []
   },
   "outputs": [],
   "source": [
    "#hide\n",
    "metrics = [df_table.columns[index] for index in [1,2,5,6]]\n",
    "# s_china = df_table[df_table['Country/Region'].eq('China')][metrics].sum().add_prefix('China ')\n",
    "s_us = df_table[df_table['Country/Region'].eq('US')][metrics].sum().add_prefix('US ')\n",
    "s_eu = df_table[df_table['Continent'].eq('Europe')][metrics].sum().add_prefix('EU ')\n",
    "s_ind = df_table[df_table['Country/Region'].eq('India')][metrics].sum().add_prefix('India ')\n",
    "summary = {'updated': pd.to_datetime(dt_today), 'since': pd.to_datetime(dt_yday)}\n",
    "summary = {'updated': pd.to_datetime(dt_today), 'since': pd.to_datetime(dt_yday)}\n",
    "summary = {**summary, **df_table[metrics].sum(), **s_ind, **s_us, **s_eu}"
   ]
  },
  {
   "cell_type": "code",
   "execution_count": 18,
   "id": "engaging-syndrome",
   "metadata": {
    "execution": {
     "iopub.execute_input": "2021-03-21T00:12:12.715376Z",
     "iopub.status.busy": "2021-03-21T00:12:12.714516Z",
     "iopub.status.idle": "2021-03-21T00:12:12.727642Z",
     "shell.execute_reply": "2021-03-21T00:12:12.727012Z"
    },
    "papermill": {
     "duration": 0.060732,
     "end_time": "2021-03-21T00:12:12.727789",
     "exception": false,
     "start_time": "2021-03-21T00:12:12.667057",
     "status": "completed"
    },
    "tags": []
   },
   "outputs": [],
   "source": [
    "#hide\n",
    "dft_ct_new_cases = dft_cases.groupby(COL_REGION)[dt_cols].sum().diff(axis=1).fillna(0).astype(int)"
   ]
  },
  {
   "cell_type": "code",
   "execution_count": 19,
   "id": "neutral-assignment",
   "metadata": {
    "execution": {
     "iopub.execute_input": "2021-03-21T00:12:12.825504Z",
     "iopub.status.busy": "2021-03-21T00:12:12.824835Z",
     "iopub.status.idle": "2021-03-21T00:12:12.827304Z",
     "shell.execute_reply": "2021-03-21T00:12:12.826625Z"
    },
    "papermill": {
     "duration": 0.05273,
     "end_time": "2021-03-21T00:12:12.827438",
     "exception": false,
     "start_time": "2021-03-21T00:12:12.774708",
     "status": "completed"
    },
    "tags": []
   },
   "outputs": [],
   "source": [
    "#hide\n",
    "everydaycases = dft_ct_new_cases.cumsum(axis=1)"
   ]
  },
  {
   "cell_type": "code",
   "execution_count": 20,
   "id": "parliamentary-calgary",
   "metadata": {
    "execution": {
     "iopub.execute_input": "2021-03-21T00:12:12.912765Z",
     "iopub.status.busy": "2021-03-21T00:12:12.912091Z",
     "iopub.status.idle": "2021-03-21T00:12:14.578631Z",
     "shell.execute_reply": "2021-03-21T00:12:14.578035Z"
    },
    "papermill": {
     "duration": 1.710542,
     "end_time": "2021-03-21T00:12:14.578789",
     "exception": false,
     "start_time": "2021-03-21T00:12:12.868247",
     "status": "completed"
    },
    "tags": []
   },
   "outputs": [],
   "source": [
    "#hide\n",
    "import pandas as pd\n",
    "import matplotlib.pyplot as plt\n",
    "import matplotlib.ticker as ticker\n",
    "import matplotlib.animation as animation\n",
    "from IPython.display import HTML"
   ]
  },
  {
   "cell_type": "code",
   "execution_count": 21,
   "id": "lasting-extraction",
   "metadata": {
    "execution": {
     "iopub.execute_input": "2021-03-21T00:12:14.664679Z",
     "iopub.status.busy": "2021-03-21T00:12:14.664030Z",
     "iopub.status.idle": "2021-03-21T00:12:14.669319Z",
     "shell.execute_reply": "2021-03-21T00:12:14.669971Z"
    },
    "papermill": {
     "duration": 0.051812,
     "end_time": "2021-03-21T00:12:14.670139",
     "exception": false,
     "start_time": "2021-03-21T00:12:14.618327",
     "status": "completed"
    },
    "tags": []
   },
   "outputs": [],
   "source": [
    "#hide\n",
    "t = everydaycases.stack()"
   ]
  },
  {
   "cell_type": "code",
   "execution_count": 22,
   "id": "premier-sleeve",
   "metadata": {
    "execution": {
     "iopub.execute_input": "2021-03-21T00:12:14.756479Z",
     "iopub.status.busy": "2021-03-21T00:12:14.755795Z",
     "iopub.status.idle": "2021-03-21T00:12:14.763835Z",
     "shell.execute_reply": "2021-03-21T00:12:14.763254Z"
    },
    "papermill": {
     "duration": 0.052356,
     "end_time": "2021-03-21T00:12:14.763979",
     "exception": false,
     "start_time": "2021-03-21T00:12:14.711623",
     "status": "completed"
    },
    "tags": []
   },
   "outputs": [],
   "source": [
    "#hide\n",
    "g = t.reset_index(['Country/Region'])"
   ]
  },
  {
   "cell_type": "code",
   "execution_count": 23,
   "id": "distributed-pittsburgh",
   "metadata": {
    "execution": {
     "iopub.execute_input": "2021-03-21T00:12:14.854230Z",
     "iopub.status.busy": "2021-03-21T00:12:14.853511Z",
     "iopub.status.idle": "2021-03-21T00:12:14.855157Z",
     "shell.execute_reply": "2021-03-21T00:12:14.855882Z"
    },
    "papermill": {
     "duration": 0.046992,
     "end_time": "2021-03-21T00:12:14.856093",
     "exception": false,
     "start_time": "2021-03-21T00:12:14.809101",
     "status": "completed"
    },
    "tags": []
   },
   "outputs": [],
   "source": [
    "#hide\n",
    "g.index.name = 'date'"
   ]
  },
  {
   "cell_type": "code",
   "execution_count": 24,
   "id": "naked-donor",
   "metadata": {
    "execution": {
     "iopub.execute_input": "2021-03-21T00:12:14.955355Z",
     "iopub.status.busy": "2021-03-21T00:12:14.954678Z",
     "iopub.status.idle": "2021-03-21T00:12:14.956790Z",
     "shell.execute_reply": "2021-03-21T00:12:14.957323Z"
    },
    "papermill": {
     "duration": 0.055911,
     "end_time": "2021-03-21T00:12:14.957473",
     "exception": false,
     "start_time": "2021-03-21T00:12:14.901562",
     "status": "completed"
    },
    "tags": []
   },
   "outputs": [],
   "source": [
    "# #hide\n",
    "# g = g.reset_index(['date'])"
   ]
  },
  {
   "cell_type": "code",
   "execution_count": 25,
   "id": "incomplete-mustang",
   "metadata": {
    "execution": {
     "iopub.execute_input": "2021-03-21T00:12:15.044415Z",
     "iopub.status.busy": "2021-03-21T00:12:15.043762Z",
     "iopub.status.idle": "2021-03-21T00:12:15.045596Z",
     "shell.execute_reply": "2021-03-21T00:12:15.046223Z"
    },
    "papermill": {
     "duration": 0.047335,
     "end_time": "2021-03-21T00:12:15.046371",
     "exception": false,
     "start_time": "2021-03-21T00:12:14.999036",
     "status": "completed"
    },
    "tags": []
   },
   "outputs": [],
   "source": [
    "#hide\n",
    "# g.head()"
   ]
  },
  {
   "cell_type": "code",
   "execution_count": 26,
   "id": "specific-kruger",
   "metadata": {
    "execution": {
     "iopub.execute_input": "2021-03-21T00:12:15.130552Z",
     "iopub.status.busy": "2021-03-21T00:12:15.129878Z",
     "iopub.status.idle": "2021-03-21T00:12:15.132435Z",
     "shell.execute_reply": "2021-03-21T00:12:15.131695Z"
    },
    "papermill": {
     "duration": 0.045744,
     "end_time": "2021-03-21T00:12:15.132568",
     "exception": false,
     "start_time": "2021-03-21T00:12:15.086824",
     "status": "completed"
    },
    "tags": []
   },
   "outputs": [],
   "source": [
    "#hide\n",
    "# g.columns = ['date','country','cases']"
   ]
  },
  {
   "cell_type": "code",
   "execution_count": 27,
   "id": "tender-conversion",
   "metadata": {
    "execution": {
     "iopub.execute_input": "2021-03-21T00:12:15.217769Z",
     "iopub.status.busy": "2021-03-21T00:12:15.217116Z",
     "iopub.status.idle": "2021-03-21T00:12:15.219878Z",
     "shell.execute_reply": "2021-03-21T00:12:15.219324Z"
    },
    "papermill": {
     "duration": 0.046902,
     "end_time": "2021-03-21T00:12:15.220010",
     "exception": false,
     "start_time": "2021-03-21T00:12:15.173108",
     "status": "completed"
    },
    "tags": []
   },
   "outputs": [],
   "source": [
    "#hide\n",
    "# g['continent'] = g.country"
   ]
  },
  {
   "cell_type": "code",
   "execution_count": 28,
   "id": "substantial-wilderness",
   "metadata": {
    "execution": {
     "iopub.execute_input": "2021-03-21T00:12:15.302869Z",
     "iopub.status.busy": "2021-03-21T00:12:15.302217Z",
     "iopub.status.idle": "2021-03-21T00:12:15.304246Z",
     "shell.execute_reply": "2021-03-21T00:12:15.304875Z"
    },
    "papermill": {
     "duration": 0.045685,
     "end_time": "2021-03-21T00:12:15.305022",
     "exception": false,
     "start_time": "2021-03-21T00:12:15.259337",
     "status": "completed"
    },
    "tags": []
   },
   "outputs": [],
   "source": [
    "#hide\n",
    "# cols = list(g.columns.values)"
   ]
  },
  {
   "cell_type": "code",
   "execution_count": 29,
   "id": "solved-farming",
   "metadata": {
    "execution": {
     "iopub.execute_input": "2021-03-21T00:12:15.395532Z",
     "iopub.status.busy": "2021-03-21T00:12:15.394834Z",
     "iopub.status.idle": "2021-03-21T00:12:15.397650Z",
     "shell.execute_reply": "2021-03-21T00:12:15.396968Z"
    },
    "papermill": {
     "duration": 0.050631,
     "end_time": "2021-03-21T00:12:15.397787",
     "exception": false,
     "start_time": "2021-03-21T00:12:15.347156",
     "status": "completed"
    },
    "tags": []
   },
   "outputs": [],
   "source": [
    "#hide\n",
    "# cols.insert(0, cols.pop())"
   ]
  },
  {
   "cell_type": "code",
   "execution_count": 30,
   "id": "executed-adoption",
   "metadata": {
    "execution": {
     "iopub.execute_input": "2021-03-21T00:12:15.492458Z",
     "iopub.status.busy": "2021-03-21T00:12:15.491795Z",
     "iopub.status.idle": "2021-03-21T00:12:15.503630Z",
     "shell.execute_reply": "2021-03-21T00:12:15.502997Z"
    },
    "papermill": {
     "duration": 0.058062,
     "end_time": "2021-03-21T00:12:15.503833",
     "exception": false,
     "start_time": "2021-03-21T00:12:15.445771",
     "status": "completed"
    },
    "tags": []
   },
   "outputs": [],
   "source": [
    "#hide\n",
    "# g = g[cols]"
   ]
  },
  {
   "cell_type": "code",
   "execution_count": 31,
   "id": "subject-dublin",
   "metadata": {
    "execution": {
     "iopub.execute_input": "2021-03-21T00:12:15.588572Z",
     "iopub.status.busy": "2021-03-21T00:12:15.587913Z",
     "iopub.status.idle": "2021-03-21T00:12:15.590525Z",
     "shell.execute_reply": "2021-03-21T00:12:15.589863Z"
    },
    "papermill": {
     "duration": 0.046175,
     "end_time": "2021-03-21T00:12:15.590658",
     "exception": false,
     "start_time": "2021-03-21T00:12:15.544483",
     "status": "completed"
    },
    "tags": []
   },
   "outputs": [],
   "source": [
    "#hide\n",
    "# g['continent'] = g['continent'].map(mapping['map.continent'])"
   ]
  },
  {
   "cell_type": "code",
   "execution_count": 32,
   "id": "freelance-scout",
   "metadata": {
    "execution": {
     "iopub.execute_input": "2021-03-21T00:12:15.677316Z",
     "iopub.status.busy": "2021-03-21T00:12:15.676665Z",
     "iopub.status.idle": "2021-03-21T00:12:15.679256Z",
     "shell.execute_reply": "2021-03-21T00:12:15.678514Z"
    },
    "papermill": {
     "duration": 0.047934,
     "end_time": "2021-03-21T00:12:15.679392",
     "exception": false,
     "start_time": "2021-03-21T00:12:15.631458",
     "status": "completed"
    },
    "tags": []
   },
   "outputs": [],
   "source": [
    "#hide\n",
    "# g.head()"
   ]
  },
  {
   "cell_type": "code",
   "execution_count": 33,
   "id": "limited-engine",
   "metadata": {
    "execution": {
     "iopub.execute_input": "2021-03-21T00:12:15.768130Z",
     "iopub.status.busy": "2021-03-21T00:12:15.767462Z",
     "iopub.status.idle": "2021-03-21T00:12:15.769642Z",
     "shell.execute_reply": "2021-03-21T00:12:15.770190Z"
    },
    "papermill": {
     "duration": 0.049319,
     "end_time": "2021-03-21T00:12:15.770350",
     "exception": false,
     "start_time": "2021-03-21T00:12:15.721031",
     "status": "completed"
    },
    "tags": []
   },
   "outputs": [],
   "source": [
    "# hide\n",
    "# g['date'] = g['date'].astype('datetime64[ns]')"
   ]
  },
  {
   "cell_type": "code",
   "execution_count": 34,
   "id": "sophisticated-supervisor",
   "metadata": {
    "execution": {
     "iopub.execute_input": "2021-03-21T00:12:15.860528Z",
     "iopub.status.busy": "2021-03-21T00:12:15.859744Z",
     "iopub.status.idle": "2021-03-21T00:12:15.862327Z",
     "shell.execute_reply": "2021-03-21T00:12:15.861630Z"
    },
    "papermill": {
     "duration": 0.048808,
     "end_time": "2021-03-21T00:12:15.862463",
     "exception": false,
     "start_time": "2021-03-21T00:12:15.813655",
     "status": "completed"
    },
    "tags": []
   },
   "outputs": [],
   "source": [
    "#hide\n",
    "# g['date'] = g.date.dt.dayofyear"
   ]
  },
  {
   "cell_type": "code",
   "execution_count": 35,
   "id": "inside-dubai",
   "metadata": {
    "execution": {
     "iopub.execute_input": "2021-03-21T00:12:15.950396Z",
     "iopub.status.busy": "2021-03-21T00:12:15.949582Z",
     "iopub.status.idle": "2021-03-21T00:12:15.952311Z",
     "shell.execute_reply": "2021-03-21T00:12:15.951639Z"
    },
    "papermill": {
     "duration": 0.048421,
     "end_time": "2021-03-21T00:12:15.952457",
     "exception": false,
     "start_time": "2021-03-21T00:12:15.904036",
     "status": "completed"
    },
    "tags": []
   },
   "outputs": [],
   "source": [
    "#hide\n",
    "# g = g.rename(columns= {'continent':'group','country':'name','cases':'value'})"
   ]
  },
  {
   "cell_type": "code",
   "execution_count": 36,
   "id": "fleet-motorcycle",
   "metadata": {
    "execution": {
     "iopub.execute_input": "2021-03-21T00:12:16.040168Z",
     "iopub.status.busy": "2021-03-21T00:12:16.039459Z",
     "iopub.status.idle": "2021-03-21T00:12:16.041607Z",
     "shell.execute_reply": "2021-03-21T00:12:16.042190Z"
    },
    "papermill": {
     "duration": 0.04851,
     "end_time": "2021-03-21T00:12:16.042342",
     "exception": false,
     "start_time": "2021-03-21T00:12:15.993832",
     "status": "completed"
    },
    "tags": []
   },
   "outputs": [],
   "source": [
    "#hide\n",
    "# cols = ['name','group','day','value']"
   ]
  },
  {
   "cell_type": "code",
   "execution_count": 37,
   "id": "continued-sleeping",
   "metadata": {
    "execution": {
     "iopub.execute_input": "2021-03-21T00:12:16.137700Z",
     "iopub.status.busy": "2021-03-21T00:12:16.137049Z",
     "iopub.status.idle": "2021-03-21T00:12:16.139576Z",
     "shell.execute_reply": "2021-03-21T00:12:16.138977Z"
    },
    "papermill": {
     "duration": 0.050098,
     "end_time": "2021-03-21T00:12:16.139715",
     "exception": false,
     "start_time": "2021-03-21T00:12:16.089617",
     "status": "completed"
    },
    "tags": []
   },
   "outputs": [],
   "source": [
    "#hide\n",
    "# g.rename(columns= {'date':'day'},inplace = True)"
   ]
  },
  {
   "cell_type": "code",
   "execution_count": 38,
   "id": "major-fight",
   "metadata": {
    "execution": {
     "iopub.execute_input": "2021-03-21T00:12:16.222597Z",
     "iopub.status.busy": "2021-03-21T00:12:16.221953Z",
     "iopub.status.idle": "2021-03-21T00:12:16.224483Z",
     "shell.execute_reply": "2021-03-21T00:12:16.223932Z"
    },
    "papermill": {
     "duration": 0.045336,
     "end_time": "2021-03-21T00:12:16.224613",
     "exception": false,
     "start_time": "2021-03-21T00:12:16.179277",
     "status": "completed"
    },
    "tags": []
   },
   "outputs": [],
   "source": [
    "#hide\n",
    "# g = g[cols]"
   ]
  },
  {
   "cell_type": "code",
   "execution_count": 39,
   "id": "structured-mobile",
   "metadata": {
    "execution": {
     "iopub.execute_input": "2021-03-21T00:12:16.309547Z",
     "iopub.status.busy": "2021-03-21T00:12:16.308888Z",
     "iopub.status.idle": "2021-03-21T00:12:16.311506Z",
     "shell.execute_reply": "2021-03-21T00:12:16.310926Z"
    },
    "papermill": {
     "duration": 0.045906,
     "end_time": "2021-03-21T00:12:16.311638",
     "exception": false,
     "start_time": "2021-03-21T00:12:16.265732",
     "status": "completed"
    },
    "tags": []
   },
   "outputs": [],
   "source": [
    "# #hide\n",
    "# g = g[g.group.notna()]"
   ]
  },
  {
   "cell_type": "code",
   "execution_count": 40,
   "id": "determined-closing",
   "metadata": {
    "execution": {
     "iopub.execute_input": "2021-03-21T00:12:16.398401Z",
     "iopub.status.busy": "2021-03-21T00:12:16.397739Z",
     "iopub.status.idle": "2021-03-21T00:12:16.399671Z",
     "shell.execute_reply": "2021-03-21T00:12:16.400310Z"
    },
    "papermill": {
     "duration": 0.048553,
     "end_time": "2021-03-21T00:12:16.400488",
     "exception": false,
     "start_time": "2021-03-21T00:12:16.351935",
     "status": "completed"
    },
    "tags": []
   },
   "outputs": [],
   "source": [
    "# #hide\n",
    "# colors = dict(zip(\n",
    "#     [\"Oceania\", \"Europe\", \"Asia\", \"South America\", \"Middle East\", \"North America\", \"Africa\"],\n",
    "#     [\"#adb0ff\", \"#ffb3ff\", \"#90d595\", \"#e48381\", \"#aafbff\", \"#f7bb5f\", \"#eafb50\"]\n",
    "# ))\n",
    "# group_lk = g.set_index('name')['group'].to_dict()"
   ]
  },
  {
   "cell_type": "code",
   "execution_count": null,
   "id": "gross-drinking",
   "metadata": {
    "papermill": {
     "duration": 0.041386,
     "end_time": "2021-03-21T00:12:16.483790",
     "exception": false,
     "start_time": "2021-03-21T00:12:16.442404",
     "status": "completed"
    },
    "tags": []
   },
   "outputs": [],
   "source": []
  },
  {
   "cell_type": "code",
   "execution_count": 41,
   "id": "subject-macintosh",
   "metadata": {
    "execution": {
     "iopub.execute_input": "2021-03-21T00:12:16.572456Z",
     "iopub.status.busy": "2021-03-21T00:12:16.571722Z",
     "iopub.status.idle": "2021-03-21T00:12:16.573610Z",
     "shell.execute_reply": "2021-03-21T00:12:16.574134Z"
    },
    "papermill": {
     "duration": 0.049443,
     "end_time": "2021-03-21T00:12:16.574293",
     "exception": false,
     "start_time": "2021-03-21T00:12:16.524850",
     "status": "completed"
    },
    "tags": []
   },
   "outputs": [],
   "source": [
    "# #hide\n",
    "# fig, ax = plt.subplots(figsize=(15, 8))\n",
    "\n",
    "# def draw_barchart(current_day):\n",
    "#     dff = g[g['day'].eq(current_day)].sort_values(by='value', ascending=True).tail(10)\n",
    "#     ax.clear()\n",
    "#     ax.barh(dff['name'], dff['value'], color=[colors[group_lk[x]] for x in dff['name']])\n",
    "#     dx = dff['value'].max() / 200\n",
    "    \n",
    "#     for i, (value, name) in enumerate(zip(dff['value'], dff['name'])):\n",
    "#         ax.text(value-dx, i,     name,           size=14, weight=600, ha='right', va='bottom')\n",
    "#         ax.text(value-dx, i-.25, group_lk[name], size=10, color='#444444', ha='right', va='baseline')\n",
    "#         ax.text(value+dx, i,     f'{value:,.0f}',  size=14, ha='left',  va='center')\n",
    "#     ax.text(1, 0.4, current_day, transform=ax.transAxes, color='#777777', size=46, ha='right', weight=800)\n",
    "#     ax.text(0, 1.06, 'Population (thousands)', transform=ax.transAxes, size=12, color='#777777')\n",
    "#     ax.xaxis.set_major_formatter(ticker.StrMethodFormatter('{x:,.0f}'))\n",
    "#     ax.xaxis.set_ticks_position('top')\n",
    "#     ax.tick_params(axis='x', colors='#777777', labelsize=12)\n",
    "#     ax.set_yticks([])\n",
    "#     ax.margins(0, 0.01)\n",
    "#     ax.grid(which='major', axis='x', linestyle='-')\n",
    "#     ax.set_axisbelow(True)\n",
    "    \n",
    "#     ax.text(0, 1.15, 'Coronavirus',\n",
    "#             transform=ax.transAxes, size=24, weight=600, ha='left', va='top')\n",
    "# #     ax.text(1, 0, 'by @pratapvardhan; credit @jburnmurdoch', transform=ax.transAxes, color='#777777', ha='right',\n",
    "# #             bbox=dict(facecolor='white', alpha=0.8, edgecolor='white'))\n",
    "#     plt.box(False)"
   ]
  },
  {
   "cell_type": "code",
   "execution_count": 42,
   "id": "sexual-wages",
   "metadata": {
    "execution": {
     "iopub.execute_input": "2021-03-21T00:12:16.664392Z",
     "iopub.status.busy": "2021-03-21T00:12:16.663699Z",
     "iopub.status.idle": "2021-03-21T00:12:16.665109Z",
     "shell.execute_reply": "2021-03-21T00:12:16.665719Z"
    },
    "papermill": {
     "duration": 0.04812,
     "end_time": "2021-03-21T00:12:16.665877",
     "exception": false,
     "start_time": "2021-03-21T00:12:16.617757",
     "status": "completed"
    },
    "tags": []
   },
   "outputs": [],
   "source": [
    "# #hide_input\n",
    "# fig, ax = plt.subplots(figsize=(15, 8))\n",
    "# animator = animation.FuncAnimation(fig, draw_barchart, frames=range(g.day.values.min(), g.day.values.max()))\n",
    "# HTML(animator.to_jshtml())\n",
    "# # or use animator.to_html5_video() or animator.save() "
   ]
  },
  {
   "cell_type": "code",
   "execution_count": null,
   "id": "australian-container",
   "metadata": {
    "papermill": {
     "duration": 0.177573,
     "end_time": "2021-03-21T00:12:16.884881",
     "exception": false,
     "start_time": "2021-03-21T00:12:16.707308",
     "status": "completed"
    },
    "tags": []
   },
   "outputs": [],
   "source": []
  },
  {
   "cell_type": "code",
   "execution_count": null,
   "id": "mediterranean-pontiac",
   "metadata": {
    "papermill": {
     "duration": 0.046619,
     "end_time": "2021-03-21T00:12:16.991956",
     "exception": false,
     "start_time": "2021-03-21T00:12:16.945337",
     "status": "completed"
    },
    "tags": []
   },
   "outputs": [],
   "source": []
  },
  {
   "cell_type": "code",
   "execution_count": null,
   "id": "aging-legislature",
   "metadata": {
    "papermill": {
     "duration": 0.047445,
     "end_time": "2021-03-21T00:12:17.087132",
     "exception": false,
     "start_time": "2021-03-21T00:12:17.039687",
     "status": "completed"
    },
    "tags": []
   },
   "outputs": [],
   "source": []
  }
 ],
 "metadata": {
  "kernelspec": {
   "display_name": "Python 3",
   "language": "python",
   "name": "python3"
  },
  "language_info": {
   "codemirror_mode": {
    "name": "ipython",
    "version": 3
   },
   "file_extension": ".py",
   "mimetype": "text/x-python",
   "name": "python",
   "nbconvert_exporter": "python",
   "pygments_lexer": "ipython3",
   "version": "3.6.13"
  },
  "papermill": {
   "duration": 9.409344,
   "end_time": "2021-03-21T00:12:18.307301",
   "environment_variables": {},
   "exception": null,
   "input_path": "2020-03-21-covid19exp.ipynb",
   "output_path": "2020-03-21-covid19exp.ipynb",
   "parameters": {},
   "start_time": "2021-03-21T00:12:08.897957",
   "version": "2.0.0"
  }
 },
 "nbformat": 4,
 "nbformat_minor": 5
}