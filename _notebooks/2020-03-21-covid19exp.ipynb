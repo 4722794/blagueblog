{
 "cells": [
  {
   "cell_type": "markdown",
   "id": "muslim-click",
   "metadata": {
    "papermill": {
     "duration": 0.03538,
     "end_time": "2022-08-06T00:42:27.815358",
     "exception": false,
     "start_time": "2022-08-06T00:42:27.779978",
     "status": "completed"
    },
    "tags": []
   },
   "source": [
    "# COVID-19 Case Race\n",
    "> A race chart to see rising cases around the world\n",
    "\n",
    "- author: Hargun Oberoi\n",
    "- image: images/covid-overview.png\n",
    "- hide: false\n",
    "- badges: false"
   ]
  },
  {
   "cell_type": "code",
   "execution_count": 1,
   "id": "proof-material",
   "metadata": {
    "execution": {
     "iopub.execute_input": "2022-08-06T00:42:27.885280Z",
     "iopub.status.busy": "2022-08-06T00:42:27.884669Z",
     "iopub.status.idle": "2022-08-06T00:42:28.209137Z",
     "shell.execute_reply": "2022-08-06T00:42:28.209616Z"
    },
    "papermill": {
     "duration": 0.364347,
     "end_time": "2022-08-06T00:42:28.209790",
     "exception": false,
     "start_time": "2022-08-06T00:42:27.845443",
     "status": "completed"
    },
    "tags": []
   },
   "outputs": [],
   "source": [
    "#hide\n",
    "import numpy as np\n",
    "import pandas as pd\n",
    "from jinja2 import Template\n",
    "from IPython.display import HTML"
   ]
  },
  {
   "cell_type": "code",
   "execution_count": 2,
   "id": "developed-terminology",
   "metadata": {
    "execution": {
     "iopub.execute_input": "2022-08-06T00:42:28.273747Z",
     "iopub.status.busy": "2022-08-06T00:42:28.273157Z",
     "iopub.status.idle": "2022-08-06T00:42:28.275491Z",
     "shell.execute_reply": "2022-08-06T00:42:28.276045Z"
    },
    "papermill": {
     "duration": 0.036706,
     "end_time": "2022-08-06T00:42:28.276173",
     "exception": false,
     "start_time": "2022-08-06T00:42:28.239467",
     "status": "completed"
    },
    "tags": []
   },
   "outputs": [],
   "source": [
    "#hide\n",
    "\n",
    "# FETCH\n",
    "base_url = 'https://raw.githubusercontent.com/pratapvardhan/notebooks/master/covid19/'\n",
    "paths = {\n",
    "    'mapping': base_url + 'mapping_countries.csv',\n",
    "    'overview': base_url + 'overview.tpl'\n",
    "}"
   ]
  },
  {
   "cell_type": "code",
   "execution_count": 3,
   "id": "dynamic-saver",
   "metadata": {
    "execution": {
     "iopub.execute_input": "2022-08-06T00:42:28.343501Z",
     "iopub.status.busy": "2022-08-06T00:42:28.341809Z",
     "iopub.status.idle": "2022-08-06T00:42:28.346362Z",
     "shell.execute_reply": "2022-08-06T00:42:28.346832Z"
    },
    "papermill": {
     "duration": 0.041743,
     "end_time": "2022-08-06T00:42:28.346953",
     "exception": false,
     "start_time": "2022-08-06T00:42:28.305210",
     "status": "completed"
    },
    "tags": []
   },
   "outputs": [
    {
     "data": {
      "text/plain": [
       "'https://raw.githubusercontent.com/pratapvardhan/notebooks/master/covid19/mapping_countries.csv'"
      ]
     },
     "execution_count": 3,
     "metadata": {},
     "output_type": "execute_result"
    }
   ],
   "source": [
    "#hide\n",
    "paths['mapping']"
   ]
  },
  {
   "cell_type": "code",
   "execution_count": 4,
   "id": "urban-software",
   "metadata": {
    "execution": {
     "iopub.execute_input": "2022-08-06T00:42:28.410993Z",
     "iopub.status.busy": "2022-08-06T00:42:28.410408Z",
     "iopub.status.idle": "2022-08-06T00:42:28.412975Z",
     "shell.execute_reply": "2022-08-06T00:42:28.412499Z"
    },
    "papermill": {
     "duration": 0.036578,
     "end_time": "2022-08-06T00:42:28.413078",
     "exception": false,
     "start_time": "2022-08-06T00:42:28.376500",
     "status": "completed"
    },
    "tags": []
   },
   "outputs": [],
   "source": [
    "#hide\n",
    "def get_mappings(url):\n",
    "    df = pd.read_csv(url)\n",
    "    return {\n",
    "        'df': df,\n",
    "        'replace.country': dict(df.dropna(subset=['Name']).set_index('Country')['Name']),\n",
    "        'map.continent': dict(df.set_index('Name')['Continent'])\n",
    "    }"
   ]
  },
  {
   "cell_type": "code",
   "execution_count": 5,
   "id": "intimate-machinery",
   "metadata": {
    "execution": {
     "iopub.execute_input": "2022-08-06T00:42:28.478214Z",
     "iopub.status.busy": "2022-08-06T00:42:28.477618Z",
     "iopub.status.idle": "2022-08-06T00:42:28.506008Z",
     "shell.execute_reply": "2022-08-06T00:42:28.505415Z"
    },
    "papermill": {
     "duration": 0.063465,
     "end_time": "2022-08-06T00:42:28.506138",
     "exception": false,
     "start_time": "2022-08-06T00:42:28.442673",
     "status": "completed"
    },
    "tags": []
   },
   "outputs": [],
   "source": [
    "#hide\n",
    "mapping = get_mappings(paths['mapping'])"
   ]
  },
  {
   "cell_type": "code",
   "execution_count": 6,
   "id": "certified-tactics",
   "metadata": {
    "execution": {
     "iopub.execute_input": "2022-08-06T00:42:28.571188Z",
     "iopub.status.busy": "2022-08-06T00:42:28.570582Z",
     "iopub.status.idle": "2022-08-06T00:42:28.573043Z",
     "shell.execute_reply": "2022-08-06T00:42:28.573598Z"
    },
    "papermill": {
     "duration": 0.037333,
     "end_time": "2022-08-06T00:42:28.573724",
     "exception": false,
     "start_time": "2022-08-06T00:42:28.536391",
     "status": "completed"
    },
    "tags": []
   },
   "outputs": [],
   "source": [
    "#hide\n",
    "def get_template(path):\n",
    "    from urllib.parse import urlparse\n",
    "    if bool(urlparse(path).netloc):\n",
    "        from urllib.request import urlopen\n",
    "        return urlopen(path).read().decode('utf8')\n",
    "    return open(path).read()"
   ]
  },
  {
   "cell_type": "code",
   "execution_count": 7,
   "id": "realistic-blast",
   "metadata": {
    "execution": {
     "iopub.execute_input": "2022-08-06T00:42:28.640306Z",
     "iopub.status.busy": "2022-08-06T00:42:28.639717Z",
     "iopub.status.idle": "2022-08-06T00:42:28.642090Z",
     "shell.execute_reply": "2022-08-06T00:42:28.642643Z"
    },
    "papermill": {
     "duration": 0.039679,
     "end_time": "2022-08-06T00:42:28.642763",
     "exception": false,
     "start_time": "2022-08-06T00:42:28.603084",
     "status": "completed"
    },
    "tags": []
   },
   "outputs": [],
   "source": [
    "#hide\n",
    "def get_frame(name):\n",
    "    url = (\n",
    "        'https://raw.githubusercontent.com/CSSEGISandData/COVID-19/master/csse_covid_19_data/'\n",
    "        f'csse_covid_19_time_series/time_series_covid19_{name}_global.csv')\n",
    "    df = pd.read_csv(url)\n",
    "    # rename countries\n",
    "    df['Country/Region'] = df['Country/Region'].replace(mapping['replace.country'])\n",
    "    return df"
   ]
  },
  {
   "cell_type": "code",
   "execution_count": 8,
   "id": "affiliated-characterization",
   "metadata": {
    "execution": {
     "iopub.execute_input": "2022-08-06T00:42:28.708208Z",
     "iopub.status.busy": "2022-08-06T00:42:28.707524Z",
     "iopub.status.idle": "2022-08-06T00:42:28.710057Z",
     "shell.execute_reply": "2022-08-06T00:42:28.709522Z"
    },
    "papermill": {
     "duration": 0.03766,
     "end_time": "2022-08-06T00:42:28.710175",
     "exception": false,
     "start_time": "2022-08-06T00:42:28.672515",
     "status": "completed"
    },
    "tags": []
   },
   "outputs": [],
   "source": [
    "#hide\n",
    "def get_dates(df):\n",
    "    dt_cols = df.columns[~df.columns.isin(['Province/State', 'Country/Region', 'Lat', 'Long'])]\n",
    "    LAST_DATE_I = -1\n",
    "    # sometimes last column may be empty, then go backwards\n",
    "    for i in range(-1, -len(dt_cols), -1):\n",
    "        if not df[dt_cols[i]].fillna(0).eq(0).all():\n",
    "            LAST_DATE_I = i\n",
    "            break\n",
    "    return LAST_DATE_I, dt_cols"
   ]
  },
  {
   "cell_type": "code",
   "execution_count": 9,
   "id": "recent-optimization",
   "metadata": {
    "execution": {
     "iopub.execute_input": "2022-08-06T00:42:28.773783Z",
     "iopub.status.busy": "2022-08-06T00:42:28.773202Z",
     "iopub.status.idle": "2022-08-06T00:42:29.157412Z",
     "shell.execute_reply": "2022-08-06T00:42:29.156501Z"
    },
    "papermill": {
     "duration": 0.417698,
     "end_time": "2022-08-06T00:42:29.157553",
     "exception": false,
     "start_time": "2022-08-06T00:42:28.739855",
     "status": "completed"
    },
    "tags": []
   },
   "outputs": [],
   "source": [
    "#hide\n",
    "COL_REGION = 'Country/Region'\n",
    "# Confirmed, Recovered, Deaths\n",
    "df = get_frame('confirmed')\n",
    "# dft_: timeseries, dfc_: today country agg\n",
    "dft_cases = df\n",
    "dft_deaths = get_frame('deaths')\n",
    "dft_recovered = get_frame('recovered')\n",
    "LAST_DATE_I, dt_cols = get_dates(df)"
   ]
  },
  {
   "cell_type": "code",
   "execution_count": 10,
   "id": "absolute-copper",
   "metadata": {
    "execution": {
     "iopub.execute_input": "2022-08-06T00:42:29.222728Z",
     "iopub.status.busy": "2022-08-06T00:42:29.222033Z",
     "iopub.status.idle": "2022-08-06T00:42:29.224850Z",
     "shell.execute_reply": "2022-08-06T00:42:29.224164Z"
    },
    "papermill": {
     "duration": 0.037491,
     "end_time": "2022-08-06T00:42:29.224976",
     "exception": false,
     "start_time": "2022-08-06T00:42:29.187485",
     "status": "completed"
    },
    "tags": []
   },
   "outputs": [],
   "source": [
    "#hide\n",
    "LAST_DATE_I, dt_cols = get_dates(df)\n",
    "dt_today =dt_cols[LAST_DATE_I]\n",
    "# dt_5day = dt_cols[LAST_DATE_I - 5]\n",
    "dt_yday = dt_cols[LAST_DATE_I - 1]"
   ]
  },
  {
   "cell_type": "code",
   "execution_count": 11,
   "id": "restricted-sheriff",
   "metadata": {
    "execution": {
     "iopub.execute_input": "2022-08-06T00:42:29.290909Z",
     "iopub.status.busy": "2022-08-06T00:42:29.290322Z",
     "iopub.status.idle": "2022-08-06T00:42:29.297855Z",
     "shell.execute_reply": "2022-08-06T00:42:29.298341Z"
    },
    "papermill": {
     "duration": 0.043538,
     "end_time": "2022-08-06T00:42:29.298477",
     "exception": false,
     "start_time": "2022-08-06T00:42:29.254939",
     "status": "completed"
    },
    "tags": []
   },
   "outputs": [],
   "source": [
    "#hide\n",
    "dfc_cases = dft_cases.groupby(COL_REGION)[dt_today].sum()\n",
    "dfc_deaths = dft_deaths.groupby(COL_REGION)[dt_today].sum()\n",
    "# dfp_cases = dft_cases.groupby(COL_REGION)[dt_5day].sum()\n",
    "# dfp_deaths = dft_deaths.groupby(COL_REGION)[dt_5day].sum()\n",
    "dfp_cases = dft_cases.groupby(COL_REGION)[dt_yday].sum()\n",
    "dfp_deaths = dft_deaths.groupby(COL_REGION)[dt_yday].sum()"
   ]
  },
  {
   "cell_type": "code",
   "execution_count": 12,
   "id": "deluxe-hepatitis",
   "metadata": {
    "execution": {
     "iopub.execute_input": "2022-08-06T00:42:29.363636Z",
     "iopub.status.busy": "2022-08-06T00:42:29.363021Z",
     "iopub.status.idle": "2022-08-06T00:42:29.368297Z",
     "shell.execute_reply": "2022-08-06T00:42:29.367722Z"
    },
    "papermill": {
     "duration": 0.040185,
     "end_time": "2022-08-06T00:42:29.368432",
     "exception": false,
     "start_time": "2022-08-06T00:42:29.328247",
     "status": "completed"
    },
    "tags": []
   },
   "outputs": [],
   "source": [
    "#hide\n",
    "df_table = (pd.DataFrame(dict(Cases = dfc_cases, Deaths = dfc_deaths, PCases = dfp_cases, PDeaths = dfp_deaths))\n",
    "            .sort_values(by = ['Cases','Deaths'], ascending = [False, False])\n",
    "            .reset_index())"
   ]
  },
  {
   "cell_type": "code",
   "execution_count": 13,
   "id": "educational-chancellor",
   "metadata": {
    "execution": {
     "iopub.execute_input": "2022-08-06T00:42:29.444807Z",
     "iopub.status.busy": "2022-08-06T00:42:29.444183Z",
     "iopub.status.idle": "2022-08-06T00:42:29.452255Z",
     "shell.execute_reply": "2022-08-06T00:42:29.451693Z"
    },
    "papermill": {
     "duration": 0.054561,
     "end_time": "2022-08-06T00:42:29.452382",
     "exception": false,
     "start_time": "2022-08-06T00:42:29.397821",
     "status": "completed"
    },
    "tags": []
   },
   "outputs": [
    {
     "data": {
      "text/html": [
       "<div>\n",
       "<style scoped>\n",
       "    .dataframe tbody tr th:only-of-type {\n",
       "        vertical-align: middle;\n",
       "    }\n",
       "\n",
       "    .dataframe tbody tr th {\n",
       "        vertical-align: top;\n",
       "    }\n",
       "\n",
       "    .dataframe thead th {\n",
       "        text-align: right;\n",
       "    }\n",
       "</style>\n",
       "<table border=\"1\" class=\"dataframe\">\n",
       "  <thead>\n",
       "    <tr style=\"text-align: right;\">\n",
       "      <th></th>\n",
       "      <th>Country/Region</th>\n",
       "      <th>Cases</th>\n",
       "      <th>Deaths</th>\n",
       "      <th>PCases</th>\n",
       "      <th>PDeaths</th>\n",
       "      <th>Cases (+)</th>\n",
       "      <th>Deaths (+)</th>\n",
       "      <th>Fatality Rate</th>\n",
       "      <th>Continent</th>\n",
       "    </tr>\n",
       "  </thead>\n",
       "  <tbody>\n",
       "    <tr>\n",
       "      <th>0</th>\n",
       "      <td>US</td>\n",
       "      <td>91961519</td>\n",
       "      <td>1032820</td>\n",
       "      <td>91794533</td>\n",
       "      <td>1032195</td>\n",
       "      <td>166986</td>\n",
       "      <td>625</td>\n",
       "      <td>1.12</td>\n",
       "      <td>North America</td>\n",
       "    </tr>\n",
       "    <tr>\n",
       "      <th>1</th>\n",
       "      <td>India</td>\n",
       "      <td>44107588</td>\n",
       "      <td>526600</td>\n",
       "      <td>44087037</td>\n",
       "      <td>526530</td>\n",
       "      <td>20551</td>\n",
       "      <td>70</td>\n",
       "      <td>1.19</td>\n",
       "      <td>Asia</td>\n",
       "    </tr>\n",
       "    <tr>\n",
       "      <th>2</th>\n",
       "      <td>France</td>\n",
       "      <td>34206310</td>\n",
       "      <td>153497</td>\n",
       "      <td>34172819</td>\n",
       "      <td>153410</td>\n",
       "      <td>33491</td>\n",
       "      <td>87</td>\n",
       "      <td>0.45</td>\n",
       "      <td>Europe</td>\n",
       "    </tr>\n",
       "    <tr>\n",
       "      <th>3</th>\n",
       "      <td>Brazil</td>\n",
       "      <td>33964494</td>\n",
       "      <td>679536</td>\n",
       "      <td>33924061</td>\n",
       "      <td>679275</td>\n",
       "      <td>40433</td>\n",
       "      <td>261</td>\n",
       "      <td>2.00</td>\n",
       "      <td>South America</td>\n",
       "    </tr>\n",
       "    <tr>\n",
       "      <th>4</th>\n",
       "      <td>Germany</td>\n",
       "      <td>31178705</td>\n",
       "      <td>144717</td>\n",
       "      <td>31119199</td>\n",
       "      <td>144552</td>\n",
       "      <td>59506</td>\n",
       "      <td>165</td>\n",
       "      <td>0.46</td>\n",
       "      <td>Europe</td>\n",
       "    </tr>\n",
       "  </tbody>\n",
       "</table>\n",
       "</div>"
      ],
      "text/plain": [
       "  Country/Region     Cases   Deaths    PCases  PDeaths  Cases (+)  Deaths (+)  \\\n",
       "0             US  91961519  1032820  91794533  1032195     166986         625   \n",
       "1          India  44107588   526600  44087037   526530      20551          70   \n",
       "2         France  34206310   153497  34172819   153410      33491          87   \n",
       "3         Brazil  33964494   679536  33924061   679275      40433         261   \n",
       "4        Germany  31178705   144717  31119199   144552      59506         165   \n",
       "\n",
       "   Fatality Rate      Continent  \n",
       "0           1.12  North America  \n",
       "1           1.19           Asia  \n",
       "2           0.45         Europe  \n",
       "3           2.00  South America  \n",
       "4           0.46         Europe  "
      ]
     },
     "execution_count": 13,
     "metadata": {},
     "output_type": "execute_result"
    }
   ],
   "source": [
    "#hide\n",
    "for c in 'Cases, Deaths'.split(', '):\n",
    "    df_table[f'{c} (+)'] = (df_table[c] - df_table[f'P{c}']).clip(0)\n",
    "    #Clip ça veut dire, les chiffres negatif sont interdit\n",
    "df_table['Fatality Rate'] = (100* df_table['Deaths']/ df_table['Cases']).round(2)\n",
    "df_table['Continent'] = df_table['Country/Region'].map(mapping['map.continent'])\n",
    "df_table.head(5)"
   ]
  },
  {
   "cell_type": "code",
   "execution_count": 14,
   "id": "aboriginal-bulgaria",
   "metadata": {
    "execution": {
     "iopub.execute_input": "2022-08-06T00:42:29.518241Z",
     "iopub.status.busy": "2022-08-06T00:42:29.517668Z",
     "iopub.status.idle": "2022-08-06T00:42:29.520643Z",
     "shell.execute_reply": "2022-08-06T00:42:29.521203Z"
    },
    "papermill": {
     "duration": 0.038724,
     "end_time": "2022-08-06T00:42:29.521328",
     "exception": false,
     "start_time": "2022-08-06T00:42:29.482604",
     "status": "completed"
    },
    "tags": []
   },
   "outputs": [],
   "source": [
    "#hide\n",
    "#delete problematic countries from table\n",
    "df_table = df_table[~df_table['Country/Region'].isin(['Cape Verde', 'Cruise Ship', 'Kosovo'])]"
   ]
  },
  {
   "cell_type": "code",
   "execution_count": 15,
   "id": "fantastic-effect",
   "metadata": {
    "execution": {
     "iopub.execute_input": "2022-08-06T00:42:29.588544Z",
     "iopub.status.busy": "2022-08-06T00:42:29.587944Z",
     "iopub.status.idle": "2022-08-06T00:42:29.604925Z",
     "shell.execute_reply": "2022-08-06T00:42:29.605397Z"
    },
    "papermill": {
     "duration": 0.054423,
     "end_time": "2022-08-06T00:42:29.605522",
     "exception": false,
     "start_time": "2022-08-06T00:42:29.551099",
     "status": "completed"
    },
    "tags": []
   },
   "outputs": [
    {
     "data": {
      "text/html": [
       "<div>\n",
       "<style scoped>\n",
       "    .dataframe tbody tr th:only-of-type {\n",
       "        vertical-align: middle;\n",
       "    }\n",
       "\n",
       "    .dataframe tbody tr th {\n",
       "        vertical-align: top;\n",
       "    }\n",
       "\n",
       "    .dataframe thead th {\n",
       "        text-align: right;\n",
       "    }\n",
       "</style>\n",
       "<table border=\"1\" class=\"dataframe\">\n",
       "  <thead>\n",
       "    <tr style=\"text-align: right;\">\n",
       "      <th></th>\n",
       "      <th>Country/Region</th>\n",
       "      <th>Cases</th>\n",
       "      <th>Deaths</th>\n",
       "      <th>PCases</th>\n",
       "      <th>PDeaths</th>\n",
       "      <th>Cases (+)</th>\n",
       "      <th>Deaths (+)</th>\n",
       "      <th>Fatality Rate</th>\n",
       "      <th>Continent</th>\n",
       "    </tr>\n",
       "  </thead>\n",
       "  <tbody>\n",
       "    <tr>\n",
       "      <th>0</th>\n",
       "      <td>US</td>\n",
       "      <td>91961519</td>\n",
       "      <td>1032820</td>\n",
       "      <td>91794533</td>\n",
       "      <td>1032195</td>\n",
       "      <td>166986</td>\n",
       "      <td>625</td>\n",
       "      <td>1.1</td>\n",
       "      <td>North America</td>\n",
       "    </tr>\n",
       "    <tr>\n",
       "      <th>1</th>\n",
       "      <td>India</td>\n",
       "      <td>44107588</td>\n",
       "      <td>526600</td>\n",
       "      <td>44087037</td>\n",
       "      <td>526530</td>\n",
       "      <td>20551</td>\n",
       "      <td>70</td>\n",
       "      <td>1.2</td>\n",
       "      <td>Asia</td>\n",
       "    </tr>\n",
       "    <tr>\n",
       "      <th>2</th>\n",
       "      <td>France</td>\n",
       "      <td>34206310</td>\n",
       "      <td>153497</td>\n",
       "      <td>34172819</td>\n",
       "      <td>153410</td>\n",
       "      <td>33491</td>\n",
       "      <td>87</td>\n",
       "      <td>0.4</td>\n",
       "      <td>Europe</td>\n",
       "    </tr>\n",
       "    <tr>\n",
       "      <th>3</th>\n",
       "      <td>Brazil</td>\n",
       "      <td>33964494</td>\n",
       "      <td>679536</td>\n",
       "      <td>33924061</td>\n",
       "      <td>679275</td>\n",
       "      <td>40433</td>\n",
       "      <td>261</td>\n",
       "      <td>2.0</td>\n",
       "      <td>South America</td>\n",
       "    </tr>\n",
       "    <tr>\n",
       "      <th>4</th>\n",
       "      <td>Germany</td>\n",
       "      <td>31178705</td>\n",
       "      <td>144717</td>\n",
       "      <td>31119199</td>\n",
       "      <td>144552</td>\n",
       "      <td>59506</td>\n",
       "      <td>165</td>\n",
       "      <td>0.5</td>\n",
       "      <td>Europe</td>\n",
       "    </tr>\n",
       "  </tbody>\n",
       "</table>\n",
       "</div>"
      ],
      "text/plain": [
       "  Country/Region     Cases   Deaths    PCases  PDeaths  Cases (+)  Deaths (+)  \\\n",
       "0             US  91961519  1032820  91794533  1032195     166986         625   \n",
       "1          India  44107588   526600  44087037   526530      20551          70   \n",
       "2         France  34206310   153497  34172819   153410      33491          87   \n",
       "3         Brazil  33964494   679536  33924061   679275      40433         261   \n",
       "4        Germany  31178705   144717  31119199   144552      59506         165   \n",
       "\n",
       "   Fatality Rate      Continent  \n",
       "0            1.1  North America  \n",
       "1            1.2           Asia  \n",
       "2            0.4         Europe  \n",
       "3            2.0  South America  \n",
       "4            0.5         Europe  "
      ]
     },
     "execution_count": 15,
     "metadata": {},
     "output_type": "execute_result"
    }
   ],
   "source": [
    "#hide\n",
    "df_table = (pd.DataFrame(dict(Cases=dfc_cases, Deaths=dfc_deaths, PCases=dfp_cases, PDeaths=dfp_deaths))\n",
    "             .sort_values(by=['Cases', 'Deaths'], ascending=[False, False])\n",
    "             .reset_index())\n",
    "df_table.rename(columns={'index': 'Country/Region'}, inplace=True)\n",
    "for c in 'Cases, Deaths'.split(', '):\n",
    "    df_table[f'{c} (+)'] = (df_table[c] - df_table[f'P{c}']).clip(0)  # DATA BUG\n",
    "df_table['Fatality Rate'] = (100 * df_table['Deaths'] / df_table['Cases']).round(1)\n",
    "df_table['Continent'] = df_table['Country/Region'].map(mapping['map.continent'])\n",
    "df_table.head(5)"
   ]
  },
  {
   "cell_type": "code",
   "execution_count": 16,
   "id": "fewer-occasion",
   "metadata": {
    "execution": {
     "iopub.execute_input": "2022-08-06T00:42:29.671902Z",
     "iopub.status.busy": "2022-08-06T00:42:29.671328Z",
     "iopub.status.idle": "2022-08-06T00:42:29.674720Z",
     "shell.execute_reply": "2022-08-06T00:42:29.675191Z"
    },
    "papermill": {
     "duration": 0.039217,
     "end_time": "2022-08-06T00:42:29.675312",
     "exception": false,
     "start_time": "2022-08-06T00:42:29.636095",
     "status": "completed"
    },
    "tags": []
   },
   "outputs": [],
   "source": [
    "#hide\n",
    "#delete problematic countries from table\n",
    "df_table = df_table[~df_table['Country/Region'].isin(['Cape Verde', 'Cruise Ship', 'Kosovo'])]"
   ]
  },
  {
   "cell_type": "code",
   "execution_count": 17,
   "id": "related-center",
   "metadata": {
    "execution": {
     "iopub.execute_input": "2022-08-06T00:42:29.746197Z",
     "iopub.status.busy": "2022-08-06T00:42:29.745625Z",
     "iopub.status.idle": "2022-08-06T00:42:29.754951Z",
     "shell.execute_reply": "2022-08-06T00:42:29.755423Z"
    },
    "papermill": {
     "duration": 0.0498,
     "end_time": "2022-08-06T00:42:29.755543",
     "exception": false,
     "start_time": "2022-08-06T00:42:29.705743",
     "status": "completed"
    },
    "tags": []
   },
   "outputs": [],
   "source": [
    "#hide\n",
    "metrics = [df_table.columns[index] for index in [1,2,5,6]]\n",
    "# s_china = df_table[df_table['Country/Region'].eq('China')][metrics].sum().add_prefix('China ')\n",
    "s_us = df_table[df_table['Country/Region'].eq('US')][metrics].sum().add_prefix('US ')\n",
    "s_eu = df_table[df_table['Continent'].eq('Europe')][metrics].sum().add_prefix('EU ')\n",
    "s_ind = df_table[df_table['Country/Region'].eq('India')][metrics].sum().add_prefix('India ')\n",
    "summary = {'updated': pd.to_datetime(dt_today), 'since': pd.to_datetime(dt_yday)}\n",
    "summary = {'updated': pd.to_datetime(dt_today), 'since': pd.to_datetime(dt_yday)}\n",
    "summary = {**summary, **df_table[metrics].sum(), **s_ind, **s_us, **s_eu}"
   ]
  },
  {
   "cell_type": "code",
   "execution_count": 18,
   "id": "engaging-syndrome",
   "metadata": {
    "execution": {
     "iopub.execute_input": "2022-08-06T00:42:29.823395Z",
     "iopub.status.busy": "2022-08-06T00:42:29.822822Z",
     "iopub.status.idle": "2022-08-06T00:42:29.842845Z",
     "shell.execute_reply": "2022-08-06T00:42:29.842307Z"
    },
    "papermill": {
     "duration": 0.057033,
     "end_time": "2022-08-06T00:42:29.842967",
     "exception": false,
     "start_time": "2022-08-06T00:42:29.785934",
     "status": "completed"
    },
    "tags": []
   },
   "outputs": [],
   "source": [
    "#hide\n",
    "dft_ct_new_cases = dft_cases.groupby(COL_REGION)[dt_cols].sum().diff(axis=1).fillna(0).astype(int)"
   ]
  },
  {
   "cell_type": "code",
   "execution_count": 19,
   "id": "neutral-assignment",
   "metadata": {
    "execution": {
     "iopub.execute_input": "2022-08-06T00:42:29.909995Z",
     "iopub.status.busy": "2022-08-06T00:42:29.909419Z",
     "iopub.status.idle": "2022-08-06T00:42:29.911855Z",
     "shell.execute_reply": "2022-08-06T00:42:29.912273Z"
    },
    "papermill": {
     "duration": 0.038068,
     "end_time": "2022-08-06T00:42:29.912409",
     "exception": false,
     "start_time": "2022-08-06T00:42:29.874341",
     "status": "completed"
    },
    "tags": []
   },
   "outputs": [],
   "source": [
    "#hide\n",
    "everydaycases = dft_ct_new_cases.cumsum(axis=1)"
   ]
  },
  {
   "cell_type": "code",
   "execution_count": 20,
   "id": "parliamentary-calgary",
   "metadata": {
    "execution": {
     "iopub.execute_input": "2022-08-06T00:42:29.977178Z",
     "iopub.status.busy": "2022-08-06T00:42:29.976594Z",
     "iopub.status.idle": "2022-08-06T00:42:30.525165Z",
     "shell.execute_reply": "2022-08-06T00:42:30.524529Z"
    },
    "papermill": {
     "duration": 0.582517,
     "end_time": "2022-08-06T00:42:30.525311",
     "exception": false,
     "start_time": "2022-08-06T00:42:29.942794",
     "status": "completed"
    },
    "tags": []
   },
   "outputs": [],
   "source": [
    "#hide\n",
    "import pandas as pd\n",
    "import matplotlib.pyplot as plt\n",
    "import matplotlib.ticker as ticker\n",
    "import matplotlib.animation as animation\n",
    "from IPython.display import HTML"
   ]
  },
  {
   "cell_type": "code",
   "execution_count": 21,
   "id": "lasting-extraction",
   "metadata": {
    "execution": {
     "iopub.execute_input": "2022-08-06T00:42:30.593724Z",
     "iopub.status.busy": "2022-08-06T00:42:30.593096Z",
     "iopub.status.idle": "2022-08-06T00:42:30.601495Z",
     "shell.execute_reply": "2022-08-06T00:42:30.601945Z"
    },
    "papermill": {
     "duration": 0.045659,
     "end_time": "2022-08-06T00:42:30.602072",
     "exception": false,
     "start_time": "2022-08-06T00:42:30.556413",
     "status": "completed"
    },
    "tags": []
   },
   "outputs": [],
   "source": [
    "#hide\n",
    "t = everydaycases.stack()"
   ]
  },
  {
   "cell_type": "code",
   "execution_count": 22,
   "id": "premier-sleeve",
   "metadata": {
    "execution": {
     "iopub.execute_input": "2022-08-06T00:42:30.667142Z",
     "iopub.status.busy": "2022-08-06T00:42:30.666544Z",
     "iopub.status.idle": "2022-08-06T00:42:30.678893Z",
     "shell.execute_reply": "2022-08-06T00:42:30.678406Z"
    },
    "papermill": {
     "duration": 0.046355,
     "end_time": "2022-08-06T00:42:30.679010",
     "exception": false,
     "start_time": "2022-08-06T00:42:30.632655",
     "status": "completed"
    },
    "tags": []
   },
   "outputs": [],
   "source": [
    "#hide\n",
    "g = t.reset_index(['Country/Region'])"
   ]
  },
  {
   "cell_type": "code",
   "execution_count": 23,
   "id": "distributed-pittsburgh",
   "metadata": {
    "execution": {
     "iopub.execute_input": "2022-08-06T00:42:30.744392Z",
     "iopub.status.busy": "2022-08-06T00:42:30.743770Z",
     "iopub.status.idle": "2022-08-06T00:42:30.746205Z",
     "shell.execute_reply": "2022-08-06T00:42:30.746694Z"
    },
    "papermill": {
     "duration": 0.037219,
     "end_time": "2022-08-06T00:42:30.746824",
     "exception": false,
     "start_time": "2022-08-06T00:42:30.709605",
     "status": "completed"
    },
    "tags": []
   },
   "outputs": [],
   "source": [
    "#hide\n",
    "g.index.name = 'date'"
   ]
  },
  {
   "cell_type": "code",
   "execution_count": 24,
   "id": "naked-donor",
   "metadata": {
    "execution": {
     "iopub.execute_input": "2022-08-06T00:42:30.810988Z",
     "iopub.status.busy": "2022-08-06T00:42:30.810419Z",
     "iopub.status.idle": "2022-08-06T00:42:30.812829Z",
     "shell.execute_reply": "2022-08-06T00:42:30.813378Z"
    },
    "papermill": {
     "duration": 0.0363,
     "end_time": "2022-08-06T00:42:30.813502",
     "exception": false,
     "start_time": "2022-08-06T00:42:30.777202",
     "status": "completed"
    },
    "tags": []
   },
   "outputs": [],
   "source": [
    "# #hide\n",
    "# g = g.reset_index(['date'])"
   ]
  },
  {
   "cell_type": "code",
   "execution_count": 25,
   "id": "incomplete-mustang",
   "metadata": {
    "execution": {
     "iopub.execute_input": "2022-08-06T00:42:30.877643Z",
     "iopub.status.busy": "2022-08-06T00:42:30.876939Z",
     "iopub.status.idle": "2022-08-06T00:42:30.879762Z",
     "shell.execute_reply": "2022-08-06T00:42:30.879256Z"
    },
    "papermill": {
     "duration": 0.036074,
     "end_time": "2022-08-06T00:42:30.879879",
     "exception": false,
     "start_time": "2022-08-06T00:42:30.843805",
     "status": "completed"
    },
    "tags": []
   },
   "outputs": [],
   "source": [
    "#hide\n",
    "# g.head()"
   ]
  },
  {
   "cell_type": "code",
   "execution_count": 26,
   "id": "specific-kruger",
   "metadata": {
    "execution": {
     "iopub.execute_input": "2022-08-06T00:42:30.944717Z",
     "iopub.status.busy": "2022-08-06T00:42:30.944113Z",
     "iopub.status.idle": "2022-08-06T00:42:30.946823Z",
     "shell.execute_reply": "2022-08-06T00:42:30.946263Z"
    },
    "papermill": {
     "duration": 0.036067,
     "end_time": "2022-08-06T00:42:30.946922",
     "exception": false,
     "start_time": "2022-08-06T00:42:30.910855",
     "status": "completed"
    },
    "tags": []
   },
   "outputs": [],
   "source": [
    "#hide\n",
    "# g.columns = ['date','country','cases']"
   ]
  },
  {
   "cell_type": "code",
   "execution_count": 27,
   "id": "tender-conversion",
   "metadata": {
    "execution": {
     "iopub.execute_input": "2022-08-06T00:42:31.011426Z",
     "iopub.status.busy": "2022-08-06T00:42:31.010694Z",
     "iopub.status.idle": "2022-08-06T00:42:31.012984Z",
     "shell.execute_reply": "2022-08-06T00:42:31.013476Z"
    },
    "papermill": {
     "duration": 0.036442,
     "end_time": "2022-08-06T00:42:31.013598",
     "exception": false,
     "start_time": "2022-08-06T00:42:30.977156",
     "status": "completed"
    },
    "tags": []
   },
   "outputs": [],
   "source": [
    "#hide\n",
    "# g['continent'] = g.country"
   ]
  },
  {
   "cell_type": "code",
   "execution_count": 28,
   "id": "substantial-wilderness",
   "metadata": {
    "execution": {
     "iopub.execute_input": "2022-08-06T00:42:31.078006Z",
     "iopub.status.busy": "2022-08-06T00:42:31.077436Z",
     "iopub.status.idle": "2022-08-06T00:42:31.080219Z",
     "shell.execute_reply": "2022-08-06T00:42:31.079743Z"
    },
    "papermill": {
     "duration": 0.03635,
     "end_time": "2022-08-06T00:42:31.080323",
     "exception": false,
     "start_time": "2022-08-06T00:42:31.043973",
     "status": "completed"
    },
    "tags": []
   },
   "outputs": [],
   "source": [
    "#hide\n",
    "# cols = list(g.columns.values)"
   ]
  },
  {
   "cell_type": "code",
   "execution_count": 29,
   "id": "solved-farming",
   "metadata": {
    "execution": {
     "iopub.execute_input": "2022-08-06T00:42:31.144977Z",
     "iopub.status.busy": "2022-08-06T00:42:31.144347Z",
     "iopub.status.idle": "2022-08-06T00:42:31.146978Z",
     "shell.execute_reply": "2022-08-06T00:42:31.146392Z"
    },
    "papermill": {
     "duration": 0.036395,
     "end_time": "2022-08-06T00:42:31.147084",
     "exception": false,
     "start_time": "2022-08-06T00:42:31.110689",
     "status": "completed"
    },
    "tags": []
   },
   "outputs": [],
   "source": [
    "#hide\n",
    "# cols.insert(0, cols.pop())"
   ]
  },
  {
   "cell_type": "code",
   "execution_count": 30,
   "id": "executed-adoption",
   "metadata": {
    "execution": {
     "iopub.execute_input": "2022-08-06T00:42:31.212176Z",
     "iopub.status.busy": "2022-08-06T00:42:31.211478Z",
     "iopub.status.idle": "2022-08-06T00:42:31.215969Z",
     "shell.execute_reply": "2022-08-06T00:42:31.215502Z"
    },
    "papermill": {
     "duration": 0.03844,
     "end_time": "2022-08-06T00:42:31.216071",
     "exception": false,
     "start_time": "2022-08-06T00:42:31.177631",
     "status": "completed"
    },
    "tags": []
   },
   "outputs": [],
   "source": [
    "#hide\n",
    "# g = g[cols]"
   ]
  },
  {
   "cell_type": "code",
   "execution_count": 31,
   "id": "subject-dublin",
   "metadata": {
    "execution": {
     "iopub.execute_input": "2022-08-06T00:42:31.280031Z",
     "iopub.status.busy": "2022-08-06T00:42:31.279450Z",
     "iopub.status.idle": "2022-08-06T00:42:31.282087Z",
     "shell.execute_reply": "2022-08-06T00:42:31.281638Z"
    },
    "papermill": {
     "duration": 0.035826,
     "end_time": "2022-08-06T00:42:31.282191",
     "exception": false,
     "start_time": "2022-08-06T00:42:31.246365",
     "status": "completed"
    },
    "tags": []
   },
   "outputs": [],
   "source": [
    "#hide\n",
    "# g['continent'] = g['continent'].map(mapping['map.continent'])"
   ]
  },
  {
   "cell_type": "code",
   "execution_count": 32,
   "id": "freelance-scout",
   "metadata": {
    "execution": {
     "iopub.execute_input": "2022-08-06T00:42:31.347782Z",
     "iopub.status.busy": "2022-08-06T00:42:31.347082Z",
     "iopub.status.idle": "2022-08-06T00:42:31.349874Z",
     "shell.execute_reply": "2022-08-06T00:42:31.349331Z"
    },
    "papermill": {
     "duration": 0.037266,
     "end_time": "2022-08-06T00:42:31.349994",
     "exception": false,
     "start_time": "2022-08-06T00:42:31.312728",
     "status": "completed"
    },
    "tags": []
   },
   "outputs": [],
   "source": [
    "#hide\n",
    "# g.head()"
   ]
  },
  {
   "cell_type": "code",
   "execution_count": 33,
   "id": "limited-engine",
   "metadata": {
    "execution": {
     "iopub.execute_input": "2022-08-06T00:42:31.414867Z",
     "iopub.status.busy": "2022-08-06T00:42:31.414182Z",
     "iopub.status.idle": "2022-08-06T00:42:31.416753Z",
     "shell.execute_reply": "2022-08-06T00:42:31.416098Z"
    },
    "papermill": {
     "duration": 0.036532,
     "end_time": "2022-08-06T00:42:31.416878",
     "exception": false,
     "start_time": "2022-08-06T00:42:31.380346",
     "status": "completed"
    },
    "tags": []
   },
   "outputs": [],
   "source": [
    "# hide\n",
    "# g['date'] = g['date'].astype('datetime64[ns]')"
   ]
  },
  {
   "cell_type": "code",
   "execution_count": 34,
   "id": "sophisticated-supervisor",
   "metadata": {
    "execution": {
     "iopub.execute_input": "2022-08-06T00:42:31.482459Z",
     "iopub.status.busy": "2022-08-06T00:42:31.481813Z",
     "iopub.status.idle": "2022-08-06T00:42:31.486004Z",
     "shell.execute_reply": "2022-08-06T00:42:31.486451Z"
    },
    "papermill": {
     "duration": 0.038637,
     "end_time": "2022-08-06T00:42:31.486574",
     "exception": false,
     "start_time": "2022-08-06T00:42:31.447937",
     "status": "completed"
    },
    "tags": []
   },
   "outputs": [],
   "source": [
    "#hide\n",
    "# g['date'] = g.date.dt.dayofyear"
   ]
  },
  {
   "cell_type": "code",
   "execution_count": 35,
   "id": "inside-dubai",
   "metadata": {
    "execution": {
     "iopub.execute_input": "2022-08-06T00:42:31.551123Z",
     "iopub.status.busy": "2022-08-06T00:42:31.550544Z",
     "iopub.status.idle": "2022-08-06T00:42:31.552735Z",
     "shell.execute_reply": "2022-08-06T00:42:31.553287Z"
    },
    "papermill": {
     "duration": 0.036402,
     "end_time": "2022-08-06T00:42:31.553411",
     "exception": false,
     "start_time": "2022-08-06T00:42:31.517009",
     "status": "completed"
    },
    "tags": []
   },
   "outputs": [],
   "source": [
    "#hide\n",
    "# g = g.rename(columns= {'continent':'group','country':'name','cases':'value'})"
   ]
  },
  {
   "cell_type": "code",
   "execution_count": 36,
   "id": "fleet-motorcycle",
   "metadata": {
    "execution": {
     "iopub.execute_input": "2022-08-06T00:42:31.618165Z",
     "iopub.status.busy": "2022-08-06T00:42:31.617508Z",
     "iopub.status.idle": "2022-08-06T00:42:31.620385Z",
     "shell.execute_reply": "2022-08-06T00:42:31.619725Z"
    },
    "papermill": {
     "duration": 0.03668,
     "end_time": "2022-08-06T00:42:31.620506",
     "exception": false,
     "start_time": "2022-08-06T00:42:31.583826",
     "status": "completed"
    },
    "tags": []
   },
   "outputs": [],
   "source": [
    "#hide\n",
    "# cols = ['name','group','day','value']"
   ]
  },
  {
   "cell_type": "code",
   "execution_count": 37,
   "id": "continued-sleeping",
   "metadata": {
    "execution": {
     "iopub.execute_input": "2022-08-06T00:42:31.685241Z",
     "iopub.status.busy": "2022-08-06T00:42:31.684583Z",
     "iopub.status.idle": "2022-08-06T00:42:31.687465Z",
     "shell.execute_reply": "2022-08-06T00:42:31.686908Z"
    },
    "papermill": {
     "duration": 0.036255,
     "end_time": "2022-08-06T00:42:31.687566",
     "exception": false,
     "start_time": "2022-08-06T00:42:31.651311",
     "status": "completed"
    },
    "tags": []
   },
   "outputs": [],
   "source": [
    "#hide\n",
    "# g.rename(columns= {'date':'day'},inplace = True)"
   ]
  },
  {
   "cell_type": "code",
   "execution_count": 38,
   "id": "major-fight",
   "metadata": {
    "execution": {
     "iopub.execute_input": "2022-08-06T00:42:31.752844Z",
     "iopub.status.busy": "2022-08-06T00:42:31.752151Z",
     "iopub.status.idle": "2022-08-06T00:42:31.755685Z",
     "shell.execute_reply": "2022-08-06T00:42:31.755042Z"
    },
    "papermill": {
     "duration": 0.037277,
     "end_time": "2022-08-06T00:42:31.755798",
     "exception": false,
     "start_time": "2022-08-06T00:42:31.718521",
     "status": "completed"
    },
    "tags": []
   },
   "outputs": [],
   "source": [
    "#hide\n",
    "# g = g[cols]"
   ]
  },
  {
   "cell_type": "code",
   "execution_count": 39,
   "id": "structured-mobile",
   "metadata": {
    "execution": {
     "iopub.execute_input": "2022-08-06T00:42:31.820231Z",
     "iopub.status.busy": "2022-08-06T00:42:31.819566Z",
     "iopub.status.idle": "2022-08-06T00:42:31.822161Z",
     "shell.execute_reply": "2022-08-06T00:42:31.821523Z"
    },
    "papermill": {
     "duration": 0.036037,
     "end_time": "2022-08-06T00:42:31.822276",
     "exception": false,
     "start_time": "2022-08-06T00:42:31.786239",
     "status": "completed"
    },
    "tags": []
   },
   "outputs": [],
   "source": [
    "# #hide\n",
    "# g = g[g.group.notna()]"
   ]
  },
  {
   "cell_type": "code",
   "execution_count": 40,
   "id": "determined-closing",
   "metadata": {
    "execution": {
     "iopub.execute_input": "2022-08-06T00:42:31.887811Z",
     "iopub.status.busy": "2022-08-06T00:42:31.887136Z",
     "iopub.status.idle": "2022-08-06T00:42:31.891077Z",
     "shell.execute_reply": "2022-08-06T00:42:31.891500Z"
    },
    "papermill": {
     "duration": 0.038167,
     "end_time": "2022-08-06T00:42:31.891618",
     "exception": false,
     "start_time": "2022-08-06T00:42:31.853451",
     "status": "completed"
    },
    "tags": []
   },
   "outputs": [],
   "source": [
    "# #hide\n",
    "# colors = dict(zip(\n",
    "#     [\"Oceania\", \"Europe\", \"Asia\", \"South America\", \"Middle East\", \"North America\", \"Africa\"],\n",
    "#     [\"#adb0ff\", \"#ffb3ff\", \"#90d595\", \"#e48381\", \"#aafbff\", \"#f7bb5f\", \"#eafb50\"]\n",
    "# ))\n",
    "# group_lk = g.set_index('name')['group'].to_dict()"
   ]
  },
  {
   "cell_type": "code",
   "execution_count": null,
   "id": "gross-drinking",
   "metadata": {
    "papermill": {
     "duration": 0.030191,
     "end_time": "2022-08-06T00:42:31.952084",
     "exception": false,
     "start_time": "2022-08-06T00:42:31.921893",
     "status": "completed"
    },
    "tags": []
   },
   "outputs": [],
   "source": []
  },
  {
   "cell_type": "code",
   "execution_count": 41,
   "id": "subject-macintosh",
   "metadata": {
    "execution": {
     "iopub.execute_input": "2022-08-06T00:42:32.016951Z",
     "iopub.status.busy": "2022-08-06T00:42:32.016247Z",
     "iopub.status.idle": "2022-08-06T00:42:32.018400Z",
     "shell.execute_reply": "2022-08-06T00:42:32.017770Z"
    },
    "papermill": {
     "duration": 0.036043,
     "end_time": "2022-08-06T00:42:32.018512",
     "exception": false,
     "start_time": "2022-08-06T00:42:31.982469",
     "status": "completed"
    },
    "tags": []
   },
   "outputs": [],
   "source": [
    "# #hide\n",
    "# fig, ax = plt.subplots(figsize=(15, 8))\n",
    "\n",
    "# def draw_barchart(current_day):\n",
    "#     dff = g[g['day'].eq(current_day)].sort_values(by='value', ascending=True).tail(10)\n",
    "#     ax.clear()\n",
    "#     ax.barh(dff['name'], dff['value'], color=[colors[group_lk[x]] for x in dff['name']])\n",
    "#     dx = dff['value'].max() / 200\n",
    "    \n",
    "#     for i, (value, name) in enumerate(zip(dff['value'], dff['name'])):\n",
    "#         ax.text(value-dx, i,     name,           size=14, weight=600, ha='right', va='bottom')\n",
    "#         ax.text(value-dx, i-.25, group_lk[name], size=10, color='#444444', ha='right', va='baseline')\n",
    "#         ax.text(value+dx, i,     f'{value:,.0f}',  size=14, ha='left',  va='center')\n",
    "#     ax.text(1, 0.4, current_day, transform=ax.transAxes, color='#777777', size=46, ha='right', weight=800)\n",
    "#     ax.text(0, 1.06, 'Population (thousands)', transform=ax.transAxes, size=12, color='#777777')\n",
    "#     ax.xaxis.set_major_formatter(ticker.StrMethodFormatter('{x:,.0f}'))\n",
    "#     ax.xaxis.set_ticks_position('top')\n",
    "#     ax.tick_params(axis='x', colors='#777777', labelsize=12)\n",
    "#     ax.set_yticks([])\n",
    "#     ax.margins(0, 0.01)\n",
    "#     ax.grid(which='major', axis='x', linestyle='-')\n",
    "#     ax.set_axisbelow(True)\n",
    "    \n",
    "#     ax.text(0, 1.15, 'Coronavirus',\n",
    "#             transform=ax.transAxes, size=24, weight=600, ha='left', va='top')\n",
    "# #     ax.text(1, 0, 'by @pratapvardhan; credit @jburnmurdoch', transform=ax.transAxes, color='#777777', ha='right',\n",
    "# #             bbox=dict(facecolor='white', alpha=0.8, edgecolor='white'))\n",
    "#     plt.box(False)"
   ]
  },
  {
   "cell_type": "code",
   "execution_count": 42,
   "id": "sexual-wages",
   "metadata": {
    "execution": {
     "iopub.execute_input": "2022-08-06T00:42:32.083263Z",
     "iopub.status.busy": "2022-08-06T00:42:32.082587Z",
     "iopub.status.idle": "2022-08-06T00:42:32.086212Z",
     "shell.execute_reply": "2022-08-06T00:42:32.086725Z"
    },
    "papermill": {
     "duration": 0.037866,
     "end_time": "2022-08-06T00:42:32.086864",
     "exception": false,
     "start_time": "2022-08-06T00:42:32.048998",
     "status": "completed"
    },
    "tags": []
   },
   "outputs": [],
   "source": [
    "# #hide_input\n",
    "# fig, ax = plt.subplots(figsize=(15, 8))\n",
    "# animator = animation.FuncAnimation(fig, draw_barchart, frames=range(g.day.values.min(), g.day.values.max()))\n",
    "# HTML(animator.to_jshtml())\n",
    "# # or use animator.to_html5_video() or animator.save() "
   ]
  },
  {
   "cell_type": "code",
   "execution_count": null,
   "id": "australian-container",
   "metadata": {
    "papermill": {
     "duration": 0.030514,
     "end_time": "2022-08-06T00:42:32.148308",
     "exception": false,
     "start_time": "2022-08-06T00:42:32.117794",
     "status": "completed"
    },
    "tags": []
   },
   "outputs": [],
   "source": []
  },
  {
   "cell_type": "code",
   "execution_count": null,
   "id": "mediterranean-pontiac",
   "metadata": {
    "papermill": {
     "duration": 0.030577,
     "end_time": "2022-08-06T00:42:32.209147",
     "exception": false,
     "start_time": "2022-08-06T00:42:32.178570",
     "status": "completed"
    },
    "tags": []
   },
   "outputs": [],
   "source": []
  },
  {
   "cell_type": "code",
   "execution_count": null,
   "id": "aging-legislature",
   "metadata": {
    "papermill": {
     "duration": 0.030322,
     "end_time": "2022-08-06T00:42:32.269863",
     "exception": false,
     "start_time": "2022-08-06T00:42:32.239541",
     "status": "completed"
    },
    "tags": []
   },
   "outputs": [],
   "source": []
  }
 ],
 "metadata": {
  "kernelspec": {
   "display_name": "Python 3",
   "language": "python",
   "name": "python3"
  },
  "language_info": {
   "codemirror_mode": {
    "name": "ipython",
    "version": 3
   },
   "file_extension": ".py",
   "mimetype": "text/x-python",
   "name": "python",
   "nbconvert_exporter": "python",
   "pygments_lexer": "ipython3",
   "version": "3.6.15"
  },
  "papermill": {
   "duration": 5.78656,
   "end_time": "2022-08-06T00:42:32.618588",
   "environment_variables": {},
   "exception": null,
   "input_path": "2020-03-21-covid19exp.ipynb",
   "output_path": "2020-03-21-covid19exp.ipynb",
   "parameters": {},
   "start_time": "2022-08-06T00:42:26.832028",
   "version": "2.0.0"
  }
 },
 "nbformat": 4,
 "nbformat_minor": 5
}