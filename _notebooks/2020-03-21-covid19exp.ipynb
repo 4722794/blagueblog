{
 "cells": [
  {
   "cell_type": "markdown",
   "id": "muslim-click",
   "metadata": {
    "papermill": {
     "duration": 0.039448,
     "end_time": "2021-10-25T00:25:19.954094",
     "exception": false,
     "start_time": "2021-10-25T00:25:19.914646",
     "status": "completed"
    },
    "tags": []
   },
   "source": [
    "# COVID-19 Case Race\n",
    "> A race chart to see rising cases around the world\n",
    "\n",
    "- author: Hargun Oberoi\n",
    "- image: images/covid-overview.png\n",
    "- hide: false\n",
    "- badges: false"
   ]
  },
  {
   "cell_type": "code",
   "execution_count": 1,
   "id": "proof-material",
   "metadata": {
    "execution": {
     "iopub.execute_input": "2021-10-25T00:25:20.030719Z",
     "iopub.status.busy": "2021-10-25T00:25:20.030087Z",
     "iopub.status.idle": "2021-10-25T00:25:20.424549Z",
     "shell.execute_reply": "2021-10-25T00:25:20.423129Z"
    },
    "papermill": {
     "duration": 0.436894,
     "end_time": "2021-10-25T00:25:20.424792",
     "exception": false,
     "start_time": "2021-10-25T00:25:19.987898",
     "status": "completed"
    },
    "tags": []
   },
   "outputs": [],
   "source": [
    "#hide\n",
    "import numpy as np\n",
    "import pandas as pd\n",
    "from jinja2 import Template\n",
    "from IPython.display import HTML"
   ]
  },
  {
   "cell_type": "code",
   "execution_count": 2,
   "id": "developed-terminology",
   "metadata": {
    "execution": {
     "iopub.execute_input": "2021-10-25T00:25:20.511703Z",
     "iopub.status.busy": "2021-10-25T00:25:20.511023Z",
     "iopub.status.idle": "2021-10-25T00:25:20.513601Z",
     "shell.execute_reply": "2021-10-25T00:25:20.513099Z"
    },
    "papermill": {
     "duration": 0.048519,
     "end_time": "2021-10-25T00:25:20.513723",
     "exception": false,
     "start_time": "2021-10-25T00:25:20.465204",
     "status": "completed"
    },
    "tags": []
   },
   "outputs": [],
   "source": [
    "#hide\n",
    "\n",
    "# FETCH\n",
    "base_url = 'https://raw.githubusercontent.com/pratapvardhan/notebooks/master/covid19/'\n",
    "paths = {\n",
    "    'mapping': base_url + 'mapping_countries.csv',\n",
    "    'overview': base_url + 'overview.tpl'\n",
    "}"
   ]
  },
  {
   "cell_type": "code",
   "execution_count": 3,
   "id": "dynamic-saver",
   "metadata": {
    "execution": {
     "iopub.execute_input": "2021-10-25T00:25:20.590064Z",
     "iopub.status.busy": "2021-10-25T00:25:20.587537Z",
     "iopub.status.idle": "2021-10-25T00:25:20.593238Z",
     "shell.execute_reply": "2021-10-25T00:25:20.592765Z"
    },
    "papermill": {
     "duration": 0.046745,
     "end_time": "2021-10-25T00:25:20.593363",
     "exception": false,
     "start_time": "2021-10-25T00:25:20.546618",
     "status": "completed"
    },
    "tags": []
   },
   "outputs": [
    {
     "data": {
      "text/plain": [
       "'https://raw.githubusercontent.com/pratapvardhan/notebooks/master/covid19/mapping_countries.csv'"
      ]
     },
     "execution_count": 3,
     "metadata": {},
     "output_type": "execute_result"
    }
   ],
   "source": [
    "#hide\n",
    "paths['mapping']"
   ]
  },
  {
   "cell_type": "code",
   "execution_count": 4,
   "id": "urban-software",
   "metadata": {
    "execution": {
     "iopub.execute_input": "2021-10-25T00:25:20.668355Z",
     "iopub.status.busy": "2021-10-25T00:25:20.667755Z",
     "iopub.status.idle": "2021-10-25T00:25:20.670730Z",
     "shell.execute_reply": "2021-10-25T00:25:20.671328Z"
    },
    "papermill": {
     "duration": 0.044526,
     "end_time": "2021-10-25T00:25:20.671477",
     "exception": false,
     "start_time": "2021-10-25T00:25:20.626951",
     "status": "completed"
    },
    "tags": []
   },
   "outputs": [],
   "source": [
    "#hide\n",
    "def get_mappings(url):\n",
    "    df = pd.read_csv(url)\n",
    "    return {\n",
    "        'df': df,\n",
    "        'replace.country': dict(df.dropna(subset=['Name']).set_index('Country')['Name']),\n",
    "        'map.continent': dict(df.set_index('Name')['Continent'])\n",
    "    }"
   ]
  },
  {
   "cell_type": "code",
   "execution_count": 5,
   "id": "intimate-machinery",
   "metadata": {
    "execution": {
     "iopub.execute_input": "2021-10-25T00:25:20.744355Z",
     "iopub.status.busy": "2021-10-25T00:25:20.743742Z",
     "iopub.status.idle": "2021-10-25T00:25:20.777091Z",
     "shell.execute_reply": "2021-10-25T00:25:20.776399Z"
    },
    "papermill": {
     "duration": 0.072515,
     "end_time": "2021-10-25T00:25:20.777270",
     "exception": false,
     "start_time": "2021-10-25T00:25:20.704755",
     "status": "completed"
    },
    "tags": []
   },
   "outputs": [],
   "source": [
    "#hide\n",
    "mapping = get_mappings(paths['mapping'])"
   ]
  },
  {
   "cell_type": "code",
   "execution_count": 6,
   "id": "certified-tactics",
   "metadata": {
    "execution": {
     "iopub.execute_input": "2021-10-25T00:25:20.854027Z",
     "iopub.status.busy": "2021-10-25T00:25:20.853429Z",
     "iopub.status.idle": "2021-10-25T00:25:20.856186Z",
     "shell.execute_reply": "2021-10-25T00:25:20.855693Z"
    },
    "papermill": {
     "duration": 0.043842,
     "end_time": "2021-10-25T00:25:20.856319",
     "exception": false,
     "start_time": "2021-10-25T00:25:20.812477",
     "status": "completed"
    },
    "tags": []
   },
   "outputs": [],
   "source": [
    "#hide\n",
    "def get_template(path):\n",
    "    from urllib.parse import urlparse\n",
    "    if bool(urlparse(path).netloc):\n",
    "        from urllib.request import urlopen\n",
    "        return urlopen(path).read().decode('utf8')\n",
    "    return open(path).read()"
   ]
  },
  {
   "cell_type": "code",
   "execution_count": 7,
   "id": "realistic-blast",
   "metadata": {
    "execution": {
     "iopub.execute_input": "2021-10-25T00:25:20.931208Z",
     "iopub.status.busy": "2021-10-25T00:25:20.930567Z",
     "iopub.status.idle": "2021-10-25T00:25:20.933003Z",
     "shell.execute_reply": "2021-10-25T00:25:20.933564Z"
    },
    "papermill": {
     "duration": 0.043936,
     "end_time": "2021-10-25T00:25:20.933709",
     "exception": false,
     "start_time": "2021-10-25T00:25:20.889773",
     "status": "completed"
    },
    "tags": []
   },
   "outputs": [],
   "source": [
    "#hide\n",
    "def get_frame(name):\n",
    "    url = (\n",
    "        'https://raw.githubusercontent.com/CSSEGISandData/COVID-19/master/csse_covid_19_data/'\n",
    "        f'csse_covid_19_time_series/time_series_covid19_{name}_global.csv')\n",
    "    df = pd.read_csv(url)\n",
    "    # rename countries\n",
    "    df['Country/Region'] = df['Country/Region'].replace(mapping['replace.country'])\n",
    "    return df"
   ]
  },
  {
   "cell_type": "code",
   "execution_count": 8,
   "id": "affiliated-characterization",
   "metadata": {
    "execution": {
     "iopub.execute_input": "2021-10-25T00:25:21.006885Z",
     "iopub.status.busy": "2021-10-25T00:25:21.006280Z",
     "iopub.status.idle": "2021-10-25T00:25:21.008830Z",
     "shell.execute_reply": "2021-10-25T00:25:21.009277Z"
    },
    "papermill": {
     "duration": 0.042416,
     "end_time": "2021-10-25T00:25:21.009429",
     "exception": false,
     "start_time": "2021-10-25T00:25:20.967013",
     "status": "completed"
    },
    "tags": []
   },
   "outputs": [],
   "source": [
    "#hide\n",
    "def get_dates(df):\n",
    "    dt_cols = df.columns[~df.columns.isin(['Province/State', 'Country/Region', 'Lat', 'Long'])]\n",
    "    LAST_DATE_I = -1\n",
    "    # sometimes last column may be empty, then go backwards\n",
    "    for i in range(-1, -len(dt_cols), -1):\n",
    "        if not df[dt_cols[i]].fillna(0).eq(0).all():\n",
    "            LAST_DATE_I = i\n",
    "            break\n",
    "    return LAST_DATE_I, dt_cols"
   ]
  },
  {
   "cell_type": "code",
   "execution_count": 9,
   "id": "recent-optimization",
   "metadata": {
    "execution": {
     "iopub.execute_input": "2021-10-25T00:25:21.083408Z",
     "iopub.status.busy": "2021-10-25T00:25:21.082666Z",
     "iopub.status.idle": "2021-10-25T00:25:21.442358Z",
     "shell.execute_reply": "2021-10-25T00:25:21.441636Z"
    },
    "papermill": {
     "duration": 0.399901,
     "end_time": "2021-10-25T00:25:21.442561",
     "exception": false,
     "start_time": "2021-10-25T00:25:21.042660",
     "status": "completed"
    },
    "tags": []
   },
   "outputs": [],
   "source": [
    "#hide\n",
    "COL_REGION = 'Country/Region'\n",
    "# Confirmed, Recovered, Deaths\n",
    "df = get_frame('confirmed')\n",
    "# dft_: timeseries, dfc_: today country agg\n",
    "dft_cases = df\n",
    "dft_deaths = get_frame('deaths')\n",
    "dft_recovered = get_frame('recovered')\n",
    "LAST_DATE_I, dt_cols = get_dates(df)"
   ]
  },
  {
   "cell_type": "code",
   "execution_count": 10,
   "id": "absolute-copper",
   "metadata": {
    "execution": {
     "iopub.execute_input": "2021-10-25T00:25:21.522148Z",
     "iopub.status.busy": "2021-10-25T00:25:21.521530Z",
     "iopub.status.idle": "2021-10-25T00:25:21.523953Z",
     "shell.execute_reply": "2021-10-25T00:25:21.524460Z"
    },
    "papermill": {
     "duration": 0.045542,
     "end_time": "2021-10-25T00:25:21.524612",
     "exception": false,
     "start_time": "2021-10-25T00:25:21.479070",
     "status": "completed"
    },
    "tags": []
   },
   "outputs": [],
   "source": [
    "#hide\n",
    "LAST_DATE_I, dt_cols = get_dates(df)\n",
    "dt_today =dt_cols[LAST_DATE_I]\n",
    "# dt_5day = dt_cols[LAST_DATE_I - 5]\n",
    "dt_yday = dt_cols[LAST_DATE_I - 1]"
   ]
  },
  {
   "cell_type": "code",
   "execution_count": 11,
   "id": "restricted-sheriff",
   "metadata": {
    "execution": {
     "iopub.execute_input": "2021-10-25T00:25:21.609133Z",
     "iopub.status.busy": "2021-10-25T00:25:21.608523Z",
     "iopub.status.idle": "2021-10-25T00:25:21.613854Z",
     "shell.execute_reply": "2021-10-25T00:25:21.613371Z"
    },
    "papermill": {
     "duration": 0.051129,
     "end_time": "2021-10-25T00:25:21.613985",
     "exception": false,
     "start_time": "2021-10-25T00:25:21.562856",
     "status": "completed"
    },
    "tags": []
   },
   "outputs": [],
   "source": [
    "#hide\n",
    "dfc_cases = dft_cases.groupby(COL_REGION)[dt_today].sum()\n",
    "dfc_deaths = dft_deaths.groupby(COL_REGION)[dt_today].sum()\n",
    "# dfp_cases = dft_cases.groupby(COL_REGION)[dt_5day].sum()\n",
    "# dfp_deaths = dft_deaths.groupby(COL_REGION)[dt_5day].sum()\n",
    "dfp_cases = dft_cases.groupby(COL_REGION)[dt_yday].sum()\n",
    "dfp_deaths = dft_deaths.groupby(COL_REGION)[dt_yday].sum()"
   ]
  },
  {
   "cell_type": "code",
   "execution_count": 12,
   "id": "deluxe-hepatitis",
   "metadata": {
    "execution": {
     "iopub.execute_input": "2021-10-25T00:25:21.696945Z",
     "iopub.status.busy": "2021-10-25T00:25:21.696330Z",
     "iopub.status.idle": "2021-10-25T00:25:21.708046Z",
     "shell.execute_reply": "2021-10-25T00:25:21.707209Z"
    },
    "papermill": {
     "duration": 0.059728,
     "end_time": "2021-10-25T00:25:21.708195",
     "exception": false,
     "start_time": "2021-10-25T00:25:21.648467",
     "status": "completed"
    },
    "tags": []
   },
   "outputs": [],
   "source": [
    "#hide\n",
    "df_table = (pd.DataFrame(dict(Cases = dfc_cases, Deaths = dfc_deaths, PCases = dfp_cases, PDeaths = dfp_deaths))\n",
    "            .sort_values(by = ['Cases','Deaths'], ascending = [False, False])\n",
    "            .reset_index())"
   ]
  },
  {
   "cell_type": "code",
   "execution_count": 13,
   "id": "educational-chancellor",
   "metadata": {
    "execution": {
     "iopub.execute_input": "2021-10-25T00:25:21.802311Z",
     "iopub.status.busy": "2021-10-25T00:25:21.801653Z",
     "iopub.status.idle": "2021-10-25T00:25:21.811060Z",
     "shell.execute_reply": "2021-10-25T00:25:21.810573Z"
    },
    "papermill": {
     "duration": 0.067966,
     "end_time": "2021-10-25T00:25:21.811213",
     "exception": false,
     "start_time": "2021-10-25T00:25:21.743247",
     "status": "completed"
    },
    "tags": []
   },
   "outputs": [
    {
     "data": {
      "text/html": [
       "<div>\n",
       "<style scoped>\n",
       "    .dataframe tbody tr th:only-of-type {\n",
       "        vertical-align: middle;\n",
       "    }\n",
       "\n",
       "    .dataframe tbody tr th {\n",
       "        vertical-align: top;\n",
       "    }\n",
       "\n",
       "    .dataframe thead th {\n",
       "        text-align: right;\n",
       "    }\n",
       "</style>\n",
       "<table border=\"1\" class=\"dataframe\">\n",
       "  <thead>\n",
       "    <tr style=\"text-align: right;\">\n",
       "      <th></th>\n",
       "      <th>Country/Region</th>\n",
       "      <th>Cases</th>\n",
       "      <th>Deaths</th>\n",
       "      <th>PCases</th>\n",
       "      <th>PDeaths</th>\n",
       "      <th>Cases (+)</th>\n",
       "      <th>Deaths (+)</th>\n",
       "      <th>Fatality Rate</th>\n",
       "      <th>Continent</th>\n",
       "    </tr>\n",
       "  </thead>\n",
       "  <tbody>\n",
       "    <tr>\n",
       "      <th>0</th>\n",
       "      <td>US</td>\n",
       "      <td>45427464</td>\n",
       "      <td>735800</td>\n",
       "      <td>45400466</td>\n",
       "      <td>735373</td>\n",
       "      <td>26998</td>\n",
       "      <td>427</td>\n",
       "      <td>1.62</td>\n",
       "      <td>North America</td>\n",
       "    </tr>\n",
       "    <tr>\n",
       "      <th>1</th>\n",
       "      <td>India</td>\n",
       "      <td>34175468</td>\n",
       "      <td>454269</td>\n",
       "      <td>34159562</td>\n",
       "      <td>453708</td>\n",
       "      <td>15906</td>\n",
       "      <td>561</td>\n",
       "      <td>1.33</td>\n",
       "      <td>Asia</td>\n",
       "    </tr>\n",
       "    <tr>\n",
       "      <th>2</th>\n",
       "      <td>Brazil</td>\n",
       "      <td>21723559</td>\n",
       "      <td>605457</td>\n",
       "      <td>21711843</td>\n",
       "      <td>605139</td>\n",
       "      <td>11716</td>\n",
       "      <td>318</td>\n",
       "      <td>2.79</td>\n",
       "      <td>South America</td>\n",
       "    </tr>\n",
       "    <tr>\n",
       "      <th>3</th>\n",
       "      <td>United Kingdom</td>\n",
       "      <td>8775889</td>\n",
       "      <td>139878</td>\n",
       "      <td>8730787</td>\n",
       "      <td>139743</td>\n",
       "      <td>45102</td>\n",
       "      <td>135</td>\n",
       "      <td>1.59</td>\n",
       "      <td>Europe</td>\n",
       "    </tr>\n",
       "    <tr>\n",
       "      <th>4</th>\n",
       "      <td>Russia</td>\n",
       "      <td>8078309</td>\n",
       "      <td>225417</td>\n",
       "      <td>8041581</td>\n",
       "      <td>224369</td>\n",
       "      <td>36728</td>\n",
       "      <td>1048</td>\n",
       "      <td>2.79</td>\n",
       "      <td>Europe</td>\n",
       "    </tr>\n",
       "  </tbody>\n",
       "</table>\n",
       "</div>"
      ],
      "text/plain": [
       "   Country/Region     Cases  Deaths    PCases  PDeaths  Cases (+)  Deaths (+)  \\\n",
       "0              US  45427464  735800  45400466   735373      26998         427   \n",
       "1           India  34175468  454269  34159562   453708      15906         561   \n",
       "2          Brazil  21723559  605457  21711843   605139      11716         318   \n",
       "3  United Kingdom   8775889  139878   8730787   139743      45102         135   \n",
       "4          Russia   8078309  225417   8041581   224369      36728        1048   \n",
       "\n",
       "   Fatality Rate      Continent  \n",
       "0           1.62  North America  \n",
       "1           1.33           Asia  \n",
       "2           2.79  South America  \n",
       "3           1.59         Europe  \n",
       "4           2.79         Europe  "
      ]
     },
     "execution_count": 13,
     "metadata": {},
     "output_type": "execute_result"
    }
   ],
   "source": [
    "#hide\n",
    "for c in 'Cases, Deaths'.split(', '):\n",
    "    df_table[f'{c} (+)'] = (df_table[c] - df_table[f'P{c}']).clip(0)\n",
    "    #Clip ça veut dire, les chiffres negatif sont interdit\n",
    "df_table['Fatality Rate'] = (100* df_table['Deaths']/ df_table['Cases']).round(2)\n",
    "df_table['Continent'] = df_table['Country/Region'].map(mapping['map.continent'])\n",
    "df_table.head(5)"
   ]
  },
  {
   "cell_type": "code",
   "execution_count": 14,
   "id": "aboriginal-bulgaria",
   "metadata": {
    "execution": {
     "iopub.execute_input": "2021-10-25T00:25:21.886883Z",
     "iopub.status.busy": "2021-10-25T00:25:21.886153Z",
     "iopub.status.idle": "2021-10-25T00:25:21.887542Z",
     "shell.execute_reply": "2021-10-25T00:25:21.888107Z"
    },
    "papermill": {
     "duration": 0.042791,
     "end_time": "2021-10-25T00:25:21.888259",
     "exception": false,
     "start_time": "2021-10-25T00:25:21.845468",
     "status": "completed"
    },
    "tags": []
   },
   "outputs": [],
   "source": [
    "#hide\n",
    "#delete problematic countries from table\n",
    "df_table = df_table[~df_table['Country/Region'].isin(['Cape Verde', 'Cruise Ship', 'Kosovo'])]"
   ]
  },
  {
   "cell_type": "code",
   "execution_count": 15,
   "id": "fantastic-effect",
   "metadata": {
    "execution": {
     "iopub.execute_input": "2021-10-25T00:25:21.977834Z",
     "iopub.status.busy": "2021-10-25T00:25:21.977157Z",
     "iopub.status.idle": "2021-10-25T00:25:22.000154Z",
     "shell.execute_reply": "2021-10-25T00:25:21.999522Z"
    },
    "papermill": {
     "duration": 0.067049,
     "end_time": "2021-10-25T00:25:22.000324",
     "exception": false,
     "start_time": "2021-10-25T00:25:21.933275",
     "status": "completed"
    },
    "tags": []
   },
   "outputs": [
    {
     "data": {
      "text/html": [
       "<div>\n",
       "<style scoped>\n",
       "    .dataframe tbody tr th:only-of-type {\n",
       "        vertical-align: middle;\n",
       "    }\n",
       "\n",
       "    .dataframe tbody tr th {\n",
       "        vertical-align: top;\n",
       "    }\n",
       "\n",
       "    .dataframe thead th {\n",
       "        text-align: right;\n",
       "    }\n",
       "</style>\n",
       "<table border=\"1\" class=\"dataframe\">\n",
       "  <thead>\n",
       "    <tr style=\"text-align: right;\">\n",
       "      <th></th>\n",
       "      <th>Country/Region</th>\n",
       "      <th>Cases</th>\n",
       "      <th>Deaths</th>\n",
       "      <th>PCases</th>\n",
       "      <th>PDeaths</th>\n",
       "      <th>Cases (+)</th>\n",
       "      <th>Deaths (+)</th>\n",
       "      <th>Fatality Rate</th>\n",
       "      <th>Continent</th>\n",
       "    </tr>\n",
       "  </thead>\n",
       "  <tbody>\n",
       "    <tr>\n",
       "      <th>0</th>\n",
       "      <td>US</td>\n",
       "      <td>45427464</td>\n",
       "      <td>735800</td>\n",
       "      <td>45400466</td>\n",
       "      <td>735373</td>\n",
       "      <td>26998</td>\n",
       "      <td>427</td>\n",
       "      <td>1.6</td>\n",
       "      <td>North America</td>\n",
       "    </tr>\n",
       "    <tr>\n",
       "      <th>1</th>\n",
       "      <td>India</td>\n",
       "      <td>34175468</td>\n",
       "      <td>454269</td>\n",
       "      <td>34159562</td>\n",
       "      <td>453708</td>\n",
       "      <td>15906</td>\n",
       "      <td>561</td>\n",
       "      <td>1.3</td>\n",
       "      <td>Asia</td>\n",
       "    </tr>\n",
       "    <tr>\n",
       "      <th>2</th>\n",
       "      <td>Brazil</td>\n",
       "      <td>21723559</td>\n",
       "      <td>605457</td>\n",
       "      <td>21711843</td>\n",
       "      <td>605139</td>\n",
       "      <td>11716</td>\n",
       "      <td>318</td>\n",
       "      <td>2.8</td>\n",
       "      <td>South America</td>\n",
       "    </tr>\n",
       "    <tr>\n",
       "      <th>3</th>\n",
       "      <td>United Kingdom</td>\n",
       "      <td>8775889</td>\n",
       "      <td>139878</td>\n",
       "      <td>8730787</td>\n",
       "      <td>139743</td>\n",
       "      <td>45102</td>\n",
       "      <td>135</td>\n",
       "      <td>1.6</td>\n",
       "      <td>Europe</td>\n",
       "    </tr>\n",
       "    <tr>\n",
       "      <th>4</th>\n",
       "      <td>Russia</td>\n",
       "      <td>8078309</td>\n",
       "      <td>225417</td>\n",
       "      <td>8041581</td>\n",
       "      <td>224369</td>\n",
       "      <td>36728</td>\n",
       "      <td>1048</td>\n",
       "      <td>2.8</td>\n",
       "      <td>Europe</td>\n",
       "    </tr>\n",
       "  </tbody>\n",
       "</table>\n",
       "</div>"
      ],
      "text/plain": [
       "   Country/Region     Cases  Deaths    PCases  PDeaths  Cases (+)  Deaths (+)  \\\n",
       "0              US  45427464  735800  45400466   735373      26998         427   \n",
       "1           India  34175468  454269  34159562   453708      15906         561   \n",
       "2          Brazil  21723559  605457  21711843   605139      11716         318   \n",
       "3  United Kingdom   8775889  139878   8730787   139743      45102         135   \n",
       "4          Russia   8078309  225417   8041581   224369      36728        1048   \n",
       "\n",
       "   Fatality Rate      Continent  \n",
       "0            1.6  North America  \n",
       "1            1.3           Asia  \n",
       "2            2.8  South America  \n",
       "3            1.6         Europe  \n",
       "4            2.8         Europe  "
      ]
     },
     "execution_count": 15,
     "metadata": {},
     "output_type": "execute_result"
    }
   ],
   "source": [
    "#hide\n",
    "df_table = (pd.DataFrame(dict(Cases=dfc_cases, Deaths=dfc_deaths, PCases=dfp_cases, PDeaths=dfp_deaths))\n",
    "             .sort_values(by=['Cases', 'Deaths'], ascending=[False, False])\n",
    "             .reset_index())\n",
    "df_table.rename(columns={'index': 'Country/Region'}, inplace=True)\n",
    "for c in 'Cases, Deaths'.split(', '):\n",
    "    df_table[f'{c} (+)'] = (df_table[c] - df_table[f'P{c}']).clip(0)  # DATA BUG\n",
    "df_table['Fatality Rate'] = (100 * df_table['Deaths'] / df_table['Cases']).round(1)\n",
    "df_table['Continent'] = df_table['Country/Region'].map(mapping['map.continent'])\n",
    "df_table.head(5)"
   ]
  },
  {
   "cell_type": "code",
   "execution_count": 16,
   "id": "fewer-occasion",
   "metadata": {
    "execution": {
     "iopub.execute_input": "2021-10-25T00:25:22.079958Z",
     "iopub.status.busy": "2021-10-25T00:25:22.079029Z",
     "iopub.status.idle": "2021-10-25T00:25:22.084068Z",
     "shell.execute_reply": "2021-10-25T00:25:22.083584Z"
    },
    "papermill": {
     "duration": 0.047628,
     "end_time": "2021-10-25T00:25:22.084198",
     "exception": false,
     "start_time": "2021-10-25T00:25:22.036570",
     "status": "completed"
    },
    "tags": []
   },
   "outputs": [],
   "source": [
    "#hide\n",
    "#delete problematic countries from table\n",
    "df_table = df_table[~df_table['Country/Region'].isin(['Cape Verde', 'Cruise Ship', 'Kosovo'])]"
   ]
  },
  {
   "cell_type": "code",
   "execution_count": 17,
   "id": "related-center",
   "metadata": {
    "execution": {
     "iopub.execute_input": "2021-10-25T00:25:22.169360Z",
     "iopub.status.busy": "2021-10-25T00:25:22.168753Z",
     "iopub.status.idle": "2021-10-25T00:25:22.177573Z",
     "shell.execute_reply": "2021-10-25T00:25:22.177060Z"
    },
    "papermill": {
     "duration": 0.059009,
     "end_time": "2021-10-25T00:25:22.177699",
     "exception": false,
     "start_time": "2021-10-25T00:25:22.118690",
     "status": "completed"
    },
    "tags": []
   },
   "outputs": [],
   "source": [
    "#hide\n",
    "metrics = [df_table.columns[index] for index in [1,2,5,6]]\n",
    "# s_china = df_table[df_table['Country/Region'].eq('China')][metrics].sum().add_prefix('China ')\n",
    "s_us = df_table[df_table['Country/Region'].eq('US')][metrics].sum().add_prefix('US ')\n",
    "s_eu = df_table[df_table['Continent'].eq('Europe')][metrics].sum().add_prefix('EU ')\n",
    "s_ind = df_table[df_table['Country/Region'].eq('India')][metrics].sum().add_prefix('India ')\n",
    "summary = {'updated': pd.to_datetime(dt_today), 'since': pd.to_datetime(dt_yday)}\n",
    "summary = {'updated': pd.to_datetime(dt_today), 'since': pd.to_datetime(dt_yday)}\n",
    "summary = {**summary, **df_table[metrics].sum(), **s_ind, **s_us, **s_eu}"
   ]
  },
  {
   "cell_type": "code",
   "execution_count": 18,
   "id": "engaging-syndrome",
   "metadata": {
    "execution": {
     "iopub.execute_input": "2021-10-25T00:25:22.254189Z",
     "iopub.status.busy": "2021-10-25T00:25:22.253578Z",
     "iopub.status.idle": "2021-10-25T00:25:22.268720Z",
     "shell.execute_reply": "2021-10-25T00:25:22.268199Z"
    },
    "papermill": {
     "duration": 0.05676,
     "end_time": "2021-10-25T00:25:22.268852",
     "exception": false,
     "start_time": "2021-10-25T00:25:22.212092",
     "status": "completed"
    },
    "tags": []
   },
   "outputs": [],
   "source": [
    "#hide\n",
    "dft_ct_new_cases = dft_cases.groupby(COL_REGION)[dt_cols].sum().diff(axis=1).fillna(0).astype(int)"
   ]
  },
  {
   "cell_type": "code",
   "execution_count": 19,
   "id": "neutral-assignment",
   "metadata": {
    "execution": {
     "iopub.execute_input": "2021-10-25T00:25:22.346103Z",
     "iopub.status.busy": "2021-10-25T00:25:22.345489Z",
     "iopub.status.idle": "2021-10-25T00:25:22.348049Z",
     "shell.execute_reply": "2021-10-25T00:25:22.348498Z"
    },
    "papermill": {
     "duration": 0.045538,
     "end_time": "2021-10-25T00:25:22.348653",
     "exception": false,
     "start_time": "2021-10-25T00:25:22.303115",
     "status": "completed"
    },
    "tags": []
   },
   "outputs": [],
   "source": [
    "#hide\n",
    "everydaycases = dft_ct_new_cases.cumsum(axis=1)"
   ]
  },
  {
   "cell_type": "code",
   "execution_count": 20,
   "id": "parliamentary-calgary",
   "metadata": {
    "execution": {
     "iopub.execute_input": "2021-10-25T00:25:22.424197Z",
     "iopub.status.busy": "2021-10-25T00:25:22.423572Z",
     "iopub.status.idle": "2021-10-25T00:25:23.164602Z",
     "shell.execute_reply": "2021-10-25T00:25:23.164056Z"
    },
    "papermill": {
     "duration": 0.781624,
     "end_time": "2021-10-25T00:25:23.164745",
     "exception": false,
     "start_time": "2021-10-25T00:25:22.383121",
     "status": "completed"
    },
    "tags": []
   },
   "outputs": [],
   "source": [
    "#hide\n",
    "import pandas as pd\n",
    "import matplotlib.pyplot as plt\n",
    "import matplotlib.ticker as ticker\n",
    "import matplotlib.animation as animation\n",
    "from IPython.display import HTML"
   ]
  },
  {
   "cell_type": "code",
   "execution_count": 21,
   "id": "lasting-extraction",
   "metadata": {
    "execution": {
     "iopub.execute_input": "2021-10-25T00:25:23.242319Z",
     "iopub.status.busy": "2021-10-25T00:25:23.241712Z",
     "iopub.status.idle": "2021-10-25T00:25:23.248235Z",
     "shell.execute_reply": "2021-10-25T00:25:23.247755Z"
    },
    "papermill": {
     "duration": 0.048348,
     "end_time": "2021-10-25T00:25:23.248365",
     "exception": false,
     "start_time": "2021-10-25T00:25:23.200017",
     "status": "completed"
    },
    "tags": []
   },
   "outputs": [],
   "source": [
    "#hide\n",
    "t = everydaycases.stack()"
   ]
  },
  {
   "cell_type": "code",
   "execution_count": 22,
   "id": "premier-sleeve",
   "metadata": {
    "execution": {
     "iopub.execute_input": "2021-10-25T00:25:23.322583Z",
     "iopub.status.busy": "2021-10-25T00:25:23.321970Z",
     "iopub.status.idle": "2021-10-25T00:25:23.331505Z",
     "shell.execute_reply": "2021-10-25T00:25:23.331997Z"
    },
    "papermill": {
     "duration": 0.049706,
     "end_time": "2021-10-25T00:25:23.332146",
     "exception": false,
     "start_time": "2021-10-25T00:25:23.282440",
     "status": "completed"
    },
    "tags": []
   },
   "outputs": [],
   "source": [
    "#hide\n",
    "g = t.reset_index(['Country/Region'])"
   ]
  },
  {
   "cell_type": "code",
   "execution_count": 23,
   "id": "distributed-pittsburgh",
   "metadata": {
    "execution": {
     "iopub.execute_input": "2021-10-25T00:25:23.404700Z",
     "iopub.status.busy": "2021-10-25T00:25:23.404099Z",
     "iopub.status.idle": "2021-10-25T00:25:23.406674Z",
     "shell.execute_reply": "2021-10-25T00:25:23.406166Z"
    },
    "papermill": {
     "duration": 0.041046,
     "end_time": "2021-10-25T00:25:23.406797",
     "exception": false,
     "start_time": "2021-10-25T00:25:23.365751",
     "status": "completed"
    },
    "tags": []
   },
   "outputs": [],
   "source": [
    "#hide\n",
    "g.index.name = 'date'"
   ]
  },
  {
   "cell_type": "code",
   "execution_count": 24,
   "id": "naked-donor",
   "metadata": {
    "execution": {
     "iopub.execute_input": "2021-10-25T00:25:23.478598Z",
     "iopub.status.busy": "2021-10-25T00:25:23.477987Z",
     "iopub.status.idle": "2021-10-25T00:25:23.480331Z",
     "shell.execute_reply": "2021-10-25T00:25:23.479859Z"
    },
    "papermill": {
     "duration": 0.039528,
     "end_time": "2021-10-25T00:25:23.480458",
     "exception": false,
     "start_time": "2021-10-25T00:25:23.440930",
     "status": "completed"
    },
    "tags": []
   },
   "outputs": [],
   "source": [
    "# #hide\n",
    "# g = g.reset_index(['date'])"
   ]
  },
  {
   "cell_type": "code",
   "execution_count": 25,
   "id": "incomplete-mustang",
   "metadata": {
    "execution": {
     "iopub.execute_input": "2021-10-25T00:25:23.553469Z",
     "iopub.status.busy": "2021-10-25T00:25:23.552852Z",
     "iopub.status.idle": "2021-10-25T00:25:23.555413Z",
     "shell.execute_reply": "2021-10-25T00:25:23.555927Z"
    },
    "papermill": {
     "duration": 0.041761,
     "end_time": "2021-10-25T00:25:23.556075",
     "exception": false,
     "start_time": "2021-10-25T00:25:23.514314",
     "status": "completed"
    },
    "tags": []
   },
   "outputs": [],
   "source": [
    "#hide\n",
    "# g.head()"
   ]
  },
  {
   "cell_type": "code",
   "execution_count": 26,
   "id": "specific-kruger",
   "metadata": {
    "execution": {
     "iopub.execute_input": "2021-10-25T00:25:23.628779Z",
     "iopub.status.busy": "2021-10-25T00:25:23.628161Z",
     "iopub.status.idle": "2021-10-25T00:25:23.629919Z",
     "shell.execute_reply": "2021-10-25T00:25:23.630393Z"
    },
    "papermill": {
     "duration": 0.040169,
     "end_time": "2021-10-25T00:25:23.630548",
     "exception": false,
     "start_time": "2021-10-25T00:25:23.590379",
     "status": "completed"
    },
    "tags": []
   },
   "outputs": [],
   "source": [
    "#hide\n",
    "# g.columns = ['date','country','cases']"
   ]
  },
  {
   "cell_type": "code",
   "execution_count": 27,
   "id": "tender-conversion",
   "metadata": {
    "execution": {
     "iopub.execute_input": "2021-10-25T00:25:23.704747Z",
     "iopub.status.busy": "2021-10-25T00:25:23.704113Z",
     "iopub.status.idle": "2021-10-25T00:25:23.706338Z",
     "shell.execute_reply": "2021-10-25T00:25:23.705750Z"
    },
    "papermill": {
     "duration": 0.041584,
     "end_time": "2021-10-25T00:25:23.706465",
     "exception": false,
     "start_time": "2021-10-25T00:25:23.664881",
     "status": "completed"
    },
    "tags": []
   },
   "outputs": [],
   "source": [
    "#hide\n",
    "# g['continent'] = g.country"
   ]
  },
  {
   "cell_type": "code",
   "execution_count": 28,
   "id": "substantial-wilderness",
   "metadata": {
    "execution": {
     "iopub.execute_input": "2021-10-25T00:25:23.779367Z",
     "iopub.status.busy": "2021-10-25T00:25:23.778736Z",
     "iopub.status.idle": "2021-10-25T00:25:23.780589Z",
     "shell.execute_reply": "2021-10-25T00:25:23.781032Z"
    },
    "papermill": {
     "duration": 0.040758,
     "end_time": "2021-10-25T00:25:23.781182",
     "exception": false,
     "start_time": "2021-10-25T00:25:23.740424",
     "status": "completed"
    },
    "tags": []
   },
   "outputs": [],
   "source": [
    "#hide\n",
    "# cols = list(g.columns.values)"
   ]
  },
  {
   "cell_type": "code",
   "execution_count": 29,
   "id": "solved-farming",
   "metadata": {
    "execution": {
     "iopub.execute_input": "2021-10-25T00:25:23.854928Z",
     "iopub.status.busy": "2021-10-25T00:25:23.854316Z",
     "iopub.status.idle": "2021-10-25T00:25:23.856919Z",
     "shell.execute_reply": "2021-10-25T00:25:23.857426Z"
    },
    "papermill": {
     "duration": 0.042249,
     "end_time": "2021-10-25T00:25:23.857573",
     "exception": false,
     "start_time": "2021-10-25T00:25:23.815324",
     "status": "completed"
    },
    "tags": []
   },
   "outputs": [],
   "source": [
    "#hide\n",
    "# cols.insert(0, cols.pop())"
   ]
  },
  {
   "cell_type": "code",
   "execution_count": 30,
   "id": "executed-adoption",
   "metadata": {
    "execution": {
     "iopub.execute_input": "2021-10-25T00:25:23.930885Z",
     "iopub.status.busy": "2021-10-25T00:25:23.930273Z",
     "iopub.status.idle": "2021-10-25T00:25:23.932799Z",
     "shell.execute_reply": "2021-10-25T00:25:23.932293Z"
    },
    "papermill": {
     "duration": 0.040902,
     "end_time": "2021-10-25T00:25:23.932922",
     "exception": false,
     "start_time": "2021-10-25T00:25:23.892020",
     "status": "completed"
    },
    "tags": []
   },
   "outputs": [],
   "source": [
    "#hide\n",
    "# g = g[cols]"
   ]
  },
  {
   "cell_type": "code",
   "execution_count": 31,
   "id": "subject-dublin",
   "metadata": {
    "execution": {
     "iopub.execute_input": "2021-10-25T00:25:24.006357Z",
     "iopub.status.busy": "2021-10-25T00:25:24.005746Z",
     "iopub.status.idle": "2021-10-25T00:25:24.008218Z",
     "shell.execute_reply": "2021-10-25T00:25:24.008670Z"
    },
    "papermill": {
     "duration": 0.041717,
     "end_time": "2021-10-25T00:25:24.008827",
     "exception": false,
     "start_time": "2021-10-25T00:25:23.967110",
     "status": "completed"
    },
    "tags": []
   },
   "outputs": [],
   "source": [
    "#hide\n",
    "# g['continent'] = g['continent'].map(mapping['map.continent'])"
   ]
  },
  {
   "cell_type": "code",
   "execution_count": 32,
   "id": "freelance-scout",
   "metadata": {
    "execution": {
     "iopub.execute_input": "2021-10-25T00:25:24.082499Z",
     "iopub.status.busy": "2021-10-25T00:25:24.081892Z",
     "iopub.status.idle": "2021-10-25T00:25:24.084043Z",
     "shell.execute_reply": "2021-10-25T00:25:24.084492Z"
    },
    "papermill": {
     "duration": 0.04145,
     "end_time": "2021-10-25T00:25:24.084642",
     "exception": false,
     "start_time": "2021-10-25T00:25:24.043192",
     "status": "completed"
    },
    "tags": []
   },
   "outputs": [],
   "source": [
    "#hide\n",
    "# g.head()"
   ]
  },
  {
   "cell_type": "code",
   "execution_count": 33,
   "id": "limited-engine",
   "metadata": {
    "execution": {
     "iopub.execute_input": "2021-10-25T00:25:24.157469Z",
     "iopub.status.busy": "2021-10-25T00:25:24.156859Z",
     "iopub.status.idle": "2021-10-25T00:25:24.159655Z",
     "shell.execute_reply": "2021-10-25T00:25:24.159136Z"
    },
    "papermill": {
     "duration": 0.040945,
     "end_time": "2021-10-25T00:25:24.159788",
     "exception": false,
     "start_time": "2021-10-25T00:25:24.118843",
     "status": "completed"
    },
    "tags": []
   },
   "outputs": [],
   "source": [
    "# hide\n",
    "# g['date'] = g['date'].astype('datetime64[ns]')"
   ]
  },
  {
   "cell_type": "code",
   "execution_count": 34,
   "id": "sophisticated-supervisor",
   "metadata": {
    "execution": {
     "iopub.execute_input": "2021-10-25T00:25:24.232922Z",
     "iopub.status.busy": "2021-10-25T00:25:24.232307Z",
     "iopub.status.idle": "2021-10-25T00:25:24.234718Z",
     "shell.execute_reply": "2021-10-25T00:25:24.234114Z"
    },
    "papermill": {
     "duration": 0.040498,
     "end_time": "2021-10-25T00:25:24.234850",
     "exception": false,
     "start_time": "2021-10-25T00:25:24.194352",
     "status": "completed"
    },
    "tags": []
   },
   "outputs": [],
   "source": [
    "#hide\n",
    "# g['date'] = g.date.dt.dayofyear"
   ]
  },
  {
   "cell_type": "code",
   "execution_count": 35,
   "id": "inside-dubai",
   "metadata": {
    "execution": {
     "iopub.execute_input": "2021-10-25T00:25:24.307889Z",
     "iopub.status.busy": "2021-10-25T00:25:24.307266Z",
     "iopub.status.idle": "2021-10-25T00:25:24.309371Z",
     "shell.execute_reply": "2021-10-25T00:25:24.309873Z"
    },
    "papermill": {
     "duration": 0.040795,
     "end_time": "2021-10-25T00:25:24.310017",
     "exception": false,
     "start_time": "2021-10-25T00:25:24.269222",
     "status": "completed"
    },
    "tags": []
   },
   "outputs": [],
   "source": [
    "#hide\n",
    "# g = g.rename(columns= {'continent':'group','country':'name','cases':'value'})"
   ]
  },
  {
   "cell_type": "code",
   "execution_count": 36,
   "id": "fleet-motorcycle",
   "metadata": {
    "execution": {
     "iopub.execute_input": "2021-10-25T00:25:24.383476Z",
     "iopub.status.busy": "2021-10-25T00:25:24.382838Z",
     "iopub.status.idle": "2021-10-25T00:25:24.385387Z",
     "shell.execute_reply": "2021-10-25T00:25:24.385952Z"
    },
    "papermill": {
     "duration": 0.041814,
     "end_time": "2021-10-25T00:25:24.386099",
     "exception": false,
     "start_time": "2021-10-25T00:25:24.344285",
     "status": "completed"
    },
    "tags": []
   },
   "outputs": [],
   "source": [
    "#hide\n",
    "# cols = ['name','group','day','value']"
   ]
  },
  {
   "cell_type": "code",
   "execution_count": 37,
   "id": "continued-sleeping",
   "metadata": {
    "execution": {
     "iopub.execute_input": "2021-10-25T00:25:24.459294Z",
     "iopub.status.busy": "2021-10-25T00:25:24.458654Z",
     "iopub.status.idle": "2021-10-25T00:25:24.460442Z",
     "shell.execute_reply": "2021-10-25T00:25:24.460946Z"
    },
    "papermill": {
     "duration": 0.040723,
     "end_time": "2021-10-25T00:25:24.461092",
     "exception": false,
     "start_time": "2021-10-25T00:25:24.420369",
     "status": "completed"
    },
    "tags": []
   },
   "outputs": [],
   "source": [
    "#hide\n",
    "# g.rename(columns= {'date':'day'},inplace = True)"
   ]
  },
  {
   "cell_type": "code",
   "execution_count": 38,
   "id": "major-fight",
   "metadata": {
    "execution": {
     "iopub.execute_input": "2021-10-25T00:25:24.534978Z",
     "iopub.status.busy": "2021-10-25T00:25:24.534359Z",
     "iopub.status.idle": "2021-10-25T00:25:24.537021Z",
     "shell.execute_reply": "2021-10-25T00:25:24.537504Z"
    },
    "papermill": {
     "duration": 0.042056,
     "end_time": "2021-10-25T00:25:24.537656",
     "exception": false,
     "start_time": "2021-10-25T00:25:24.495600",
     "status": "completed"
    },
    "tags": []
   },
   "outputs": [],
   "source": [
    "#hide\n",
    "# g = g[cols]"
   ]
  },
  {
   "cell_type": "code",
   "execution_count": 39,
   "id": "structured-mobile",
   "metadata": {
    "execution": {
     "iopub.execute_input": "2021-10-25T00:25:24.611553Z",
     "iopub.status.busy": "2021-10-25T00:25:24.610909Z",
     "iopub.status.idle": "2021-10-25T00:25:24.612722Z",
     "shell.execute_reply": "2021-10-25T00:25:24.613171Z"
    },
    "papermill": {
     "duration": 0.041384,
     "end_time": "2021-10-25T00:25:24.613323",
     "exception": false,
     "start_time": "2021-10-25T00:25:24.571939",
     "status": "completed"
    },
    "tags": []
   },
   "outputs": [],
   "source": [
    "# #hide\n",
    "# g = g[g.group.notna()]"
   ]
  },
  {
   "cell_type": "code",
   "execution_count": 40,
   "id": "determined-closing",
   "metadata": {
    "execution": {
     "iopub.execute_input": "2021-10-25T00:25:24.685719Z",
     "iopub.status.busy": "2021-10-25T00:25:24.685108Z",
     "iopub.status.idle": "2021-10-25T00:25:24.687359Z",
     "shell.execute_reply": "2021-10-25T00:25:24.686826Z"
    },
    "papermill": {
     "duration": 0.039968,
     "end_time": "2021-10-25T00:25:24.687490",
     "exception": false,
     "start_time": "2021-10-25T00:25:24.647522",
     "status": "completed"
    },
    "tags": []
   },
   "outputs": [],
   "source": [
    "# #hide\n",
    "# colors = dict(zip(\n",
    "#     [\"Oceania\", \"Europe\", \"Asia\", \"South America\", \"Middle East\", \"North America\", \"Africa\"],\n",
    "#     [\"#adb0ff\", \"#ffb3ff\", \"#90d595\", \"#e48381\", \"#aafbff\", \"#f7bb5f\", \"#eafb50\"]\n",
    "# ))\n",
    "# group_lk = g.set_index('name')['group'].to_dict()"
   ]
  },
  {
   "cell_type": "code",
   "execution_count": null,
   "id": "gross-drinking",
   "metadata": {
    "papermill": {
     "duration": 0.034241,
     "end_time": "2021-10-25T00:25:24.755624",
     "exception": false,
     "start_time": "2021-10-25T00:25:24.721383",
     "status": "completed"
    },
    "tags": []
   },
   "outputs": [],
   "source": []
  },
  {
   "cell_type": "code",
   "execution_count": 41,
   "id": "subject-macintosh",
   "metadata": {
    "execution": {
     "iopub.execute_input": "2021-10-25T00:25:24.830770Z",
     "iopub.status.busy": "2021-10-25T00:25:24.830144Z",
     "iopub.status.idle": "2021-10-25T00:25:24.832644Z",
     "shell.execute_reply": "2021-10-25T00:25:24.833213Z"
    },
    "papermill": {
     "duration": 0.043267,
     "end_time": "2021-10-25T00:25:24.833362",
     "exception": false,
     "start_time": "2021-10-25T00:25:24.790095",
     "status": "completed"
    },
    "tags": []
   },
   "outputs": [],
   "source": [
    "# #hide\n",
    "# fig, ax = plt.subplots(figsize=(15, 8))\n",
    "\n",
    "# def draw_barchart(current_day):\n",
    "#     dff = g[g['day'].eq(current_day)].sort_values(by='value', ascending=True).tail(10)\n",
    "#     ax.clear()\n",
    "#     ax.barh(dff['name'], dff['value'], color=[colors[group_lk[x]] for x in dff['name']])\n",
    "#     dx = dff['value'].max() / 200\n",
    "    \n",
    "#     for i, (value, name) in enumerate(zip(dff['value'], dff['name'])):\n",
    "#         ax.text(value-dx, i,     name,           size=14, weight=600, ha='right', va='bottom')\n",
    "#         ax.text(value-dx, i-.25, group_lk[name], size=10, color='#444444', ha='right', va='baseline')\n",
    "#         ax.text(value+dx, i,     f'{value:,.0f}',  size=14, ha='left',  va='center')\n",
    "#     ax.text(1, 0.4, current_day, transform=ax.transAxes, color='#777777', size=46, ha='right', weight=800)\n",
    "#     ax.text(0, 1.06, 'Population (thousands)', transform=ax.transAxes, size=12, color='#777777')\n",
    "#     ax.xaxis.set_major_formatter(ticker.StrMethodFormatter('{x:,.0f}'))\n",
    "#     ax.xaxis.set_ticks_position('top')\n",
    "#     ax.tick_params(axis='x', colors='#777777', labelsize=12)\n",
    "#     ax.set_yticks([])\n",
    "#     ax.margins(0, 0.01)\n",
    "#     ax.grid(which='major', axis='x', linestyle='-')\n",
    "#     ax.set_axisbelow(True)\n",
    "    \n",
    "#     ax.text(0, 1.15, 'Coronavirus',\n",
    "#             transform=ax.transAxes, size=24, weight=600, ha='left', va='top')\n",
    "# #     ax.text(1, 0, 'by @pratapvardhan; credit @jburnmurdoch', transform=ax.transAxes, color='#777777', ha='right',\n",
    "# #             bbox=dict(facecolor='white', alpha=0.8, edgecolor='white'))\n",
    "#     plt.box(False)"
   ]
  },
  {
   "cell_type": "code",
   "execution_count": 42,
   "id": "sexual-wages",
   "metadata": {
    "execution": {
     "iopub.execute_input": "2021-10-25T00:25:24.907216Z",
     "iopub.status.busy": "2021-10-25T00:25:24.906577Z",
     "iopub.status.idle": "2021-10-25T00:25:24.908990Z",
     "shell.execute_reply": "2021-10-25T00:25:24.909478Z"
    },
    "papermill": {
     "duration": 0.041969,
     "end_time": "2021-10-25T00:25:24.909631",
     "exception": false,
     "start_time": "2021-10-25T00:25:24.867662",
     "status": "completed"
    },
    "tags": []
   },
   "outputs": [],
   "source": [
    "# #hide_input\n",
    "# fig, ax = plt.subplots(figsize=(15, 8))\n",
    "# animator = animation.FuncAnimation(fig, draw_barchart, frames=range(g.day.values.min(), g.day.values.max()))\n",
    "# HTML(animator.to_jshtml())\n",
    "# # or use animator.to_html5_video() or animator.save() "
   ]
  },
  {
   "cell_type": "code",
   "execution_count": null,
   "id": "australian-container",
   "metadata": {
    "papermill": {
     "duration": 0.033926,
     "end_time": "2021-10-25T00:25:24.977871",
     "exception": false,
     "start_time": "2021-10-25T00:25:24.943945",
     "status": "completed"
    },
    "tags": []
   },
   "outputs": [],
   "source": []
  },
  {
   "cell_type": "code",
   "execution_count": null,
   "id": "mediterranean-pontiac",
   "metadata": {
    "papermill": {
     "duration": 0.034296,
     "end_time": "2021-10-25T00:25:25.046564",
     "exception": false,
     "start_time": "2021-10-25T00:25:25.012268",
     "status": "completed"
    },
    "tags": []
   },
   "outputs": [],
   "source": []
  },
  {
   "cell_type": "code",
   "execution_count": null,
   "id": "aging-legislature",
   "metadata": {
    "papermill": {
     "duration": 0.034089,
     "end_time": "2021-10-25T00:25:25.115243",
     "exception": false,
     "start_time": "2021-10-25T00:25:25.081154",
     "status": "completed"
    },
    "tags": []
   },
   "outputs": [],
   "source": []
  }
 ],
 "metadata": {
  "kernelspec": {
   "display_name": "Python 3",
   "language": "python",
   "name": "python3"
  },
  "language_info": {
   "codemirror_mode": {
    "name": "ipython",
    "version": 3
   },
   "file_extension": ".py",
   "mimetype": "text/x-python",
   "name": "python",
   "nbconvert_exporter": "python",
   "pygments_lexer": "ipython3",
   "version": "3.6.15"
  },
  "papermill": {
   "duration": 6.738035,
   "end_time": "2021-10-25T00:25:25.559632",
   "environment_variables": {},
   "exception": null,
   "input_path": "2020-03-21-covid19exp.ipynb",
   "output_path": "2020-03-21-covid19exp.ipynb",
   "parameters": {},
   "start_time": "2021-10-25T00:25:18.821597",
   "version": "2.0.0"
  }
 },
 "nbformat": 4,
 "nbformat_minor": 5
}