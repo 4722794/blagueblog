{
 "cells": [
  {
   "cell_type": "markdown",
   "id": "muslim-click",
   "metadata": {
    "papermill": {
     "duration": 0.046504,
     "end_time": "2022-04-10T12:14:04.471499",
     "exception": false,
     "start_time": "2022-04-10T12:14:04.424995",
     "status": "completed"
    },
    "tags": []
   },
   "source": [
    "# COVID-19 Case Race\n",
    "> A race chart to see rising cases around the world\n",
    "\n",
    "- author: Hargun Oberoi\n",
    "- image: images/covid-overview.png\n",
    "- hide: false\n",
    "- badges: false"
   ]
  },
  {
   "cell_type": "code",
   "execution_count": 1,
   "id": "proof-material",
   "metadata": {
    "execution": {
     "iopub.execute_input": "2022-04-10T12:14:04.562939Z",
     "iopub.status.busy": "2022-04-10T12:14:04.562206Z",
     "iopub.status.idle": "2022-04-10T12:14:04.988060Z",
     "shell.execute_reply": "2022-04-10T12:14:04.987393Z"
    },
    "papermill": {
     "duration": 0.477025,
     "end_time": "2022-04-10T12:14:04.988226",
     "exception": false,
     "start_time": "2022-04-10T12:14:04.511201",
     "status": "completed"
    },
    "tags": []
   },
   "outputs": [],
   "source": [
    "#hide\n",
    "import numpy as np\n",
    "import pandas as pd\n",
    "from jinja2 import Template\n",
    "from IPython.display import HTML"
   ]
  },
  {
   "cell_type": "code",
   "execution_count": 2,
   "id": "developed-terminology",
   "metadata": {
    "execution": {
     "iopub.execute_input": "2022-04-10T12:14:05.088003Z",
     "iopub.status.busy": "2022-04-10T12:14:05.087276Z",
     "iopub.status.idle": "2022-04-10T12:14:05.089109Z",
     "shell.execute_reply": "2022-04-10T12:14:05.089673Z"
    },
    "papermill": {
     "duration": 0.057747,
     "end_time": "2022-04-10T12:14:05.089840",
     "exception": false,
     "start_time": "2022-04-10T12:14:05.032093",
     "status": "completed"
    },
    "tags": []
   },
   "outputs": [],
   "source": [
    "#hide\n",
    "\n",
    "# FETCH\n",
    "base_url = 'https://raw.githubusercontent.com/pratapvardhan/notebooks/master/covid19/'\n",
    "paths = {\n",
    "    'mapping': base_url + 'mapping_countries.csv',\n",
    "    'overview': base_url + 'overview.tpl'\n",
    "}"
   ]
  },
  {
   "cell_type": "code",
   "execution_count": 3,
   "id": "dynamic-saver",
   "metadata": {
    "execution": {
     "iopub.execute_input": "2022-04-10T12:14:05.179620Z",
     "iopub.status.busy": "2022-04-10T12:14:05.178966Z",
     "iopub.status.idle": "2022-04-10T12:14:05.185810Z",
     "shell.execute_reply": "2022-04-10T12:14:05.186581Z"
    },
    "papermill": {
     "duration": 0.057834,
     "end_time": "2022-04-10T12:14:05.186730",
     "exception": false,
     "start_time": "2022-04-10T12:14:05.128896",
     "status": "completed"
    },
    "tags": []
   },
   "outputs": [
    {
     "data": {
      "text/plain": [
       "'https://raw.githubusercontent.com/pratapvardhan/notebooks/master/covid19/mapping_countries.csv'"
      ]
     },
     "execution_count": 3,
     "metadata": {},
     "output_type": "execute_result"
    }
   ],
   "source": [
    "#hide\n",
    "paths['mapping']"
   ]
  },
  {
   "cell_type": "code",
   "execution_count": 4,
   "id": "urban-software",
   "metadata": {
    "execution": {
     "iopub.execute_input": "2022-04-10T12:14:05.276725Z",
     "iopub.status.busy": "2022-04-10T12:14:05.276032Z",
     "iopub.status.idle": "2022-04-10T12:14:05.280730Z",
     "shell.execute_reply": "2022-04-10T12:14:05.280219Z"
    },
    "papermill": {
     "duration": 0.052664,
     "end_time": "2022-04-10T12:14:05.280861",
     "exception": false,
     "start_time": "2022-04-10T12:14:05.228197",
     "status": "completed"
    },
    "tags": []
   },
   "outputs": [],
   "source": [
    "#hide\n",
    "def get_mappings(url):\n",
    "    df = pd.read_csv(url)\n",
    "    return {\n",
    "        'df': df,\n",
    "        'replace.country': dict(df.dropna(subset=['Name']).set_index('Country')['Name']),\n",
    "        'map.continent': dict(df.set_index('Name')['Continent'])\n",
    "    }"
   ]
  },
  {
   "cell_type": "code",
   "execution_count": 5,
   "id": "intimate-machinery",
   "metadata": {
    "execution": {
     "iopub.execute_input": "2022-04-10T12:14:05.373495Z",
     "iopub.status.busy": "2022-04-10T12:14:05.372800Z",
     "iopub.status.idle": "2022-04-10T12:14:05.405944Z",
     "shell.execute_reply": "2022-04-10T12:14:05.405204Z"
    },
    "papermill": {
     "duration": 0.083288,
     "end_time": "2022-04-10T12:14:05.406152",
     "exception": false,
     "start_time": "2022-04-10T12:14:05.322864",
     "status": "completed"
    },
    "tags": []
   },
   "outputs": [],
   "source": [
    "#hide\n",
    "mapping = get_mappings(paths['mapping'])"
   ]
  },
  {
   "cell_type": "code",
   "execution_count": 6,
   "id": "certified-tactics",
   "metadata": {
    "execution": {
     "iopub.execute_input": "2022-04-10T12:14:05.503807Z",
     "iopub.status.busy": "2022-04-10T12:14:05.502833Z",
     "iopub.status.idle": "2022-04-10T12:14:05.504626Z",
     "shell.execute_reply": "2022-04-10T12:14:05.505305Z"
    },
    "papermill": {
     "duration": 0.050869,
     "end_time": "2022-04-10T12:14:05.505566",
     "exception": false,
     "start_time": "2022-04-10T12:14:05.454697",
     "status": "completed"
    },
    "tags": []
   },
   "outputs": [],
   "source": [
    "#hide\n",
    "def get_template(path):\n",
    "    from urllib.parse import urlparse\n",
    "    if bool(urlparse(path).netloc):\n",
    "        from urllib.request import urlopen\n",
    "        return urlopen(path).read().decode('utf8')\n",
    "    return open(path).read()"
   ]
  },
  {
   "cell_type": "code",
   "execution_count": 7,
   "id": "realistic-blast",
   "metadata": {
    "execution": {
     "iopub.execute_input": "2022-04-10T12:14:05.595891Z",
     "iopub.status.busy": "2022-04-10T12:14:05.595173Z",
     "iopub.status.idle": "2022-04-10T12:14:05.597323Z",
     "shell.execute_reply": "2022-04-10T12:14:05.598095Z"
    },
    "papermill": {
     "duration": 0.050569,
     "end_time": "2022-04-10T12:14:05.598267",
     "exception": false,
     "start_time": "2022-04-10T12:14:05.547698",
     "status": "completed"
    },
    "tags": []
   },
   "outputs": [],
   "source": [
    "#hide\n",
    "def get_frame(name):\n",
    "    url = (\n",
    "        'https://raw.githubusercontent.com/CSSEGISandData/COVID-19/master/csse_covid_19_data/'\n",
    "        f'csse_covid_19_time_series/time_series_covid19_{name}_global.csv')\n",
    "    df = pd.read_csv(url)\n",
    "    # rename countries\n",
    "    df['Country/Region'] = df['Country/Region'].replace(mapping['replace.country'])\n",
    "    return df"
   ]
  },
  {
   "cell_type": "code",
   "execution_count": 8,
   "id": "affiliated-characterization",
   "metadata": {
    "execution": {
     "iopub.execute_input": "2022-04-10T12:14:05.687576Z",
     "iopub.status.busy": "2022-04-10T12:14:05.686786Z",
     "iopub.status.idle": "2022-04-10T12:14:05.690699Z",
     "shell.execute_reply": "2022-04-10T12:14:05.691183Z"
    },
    "papermill": {
     "duration": 0.052181,
     "end_time": "2022-04-10T12:14:05.691349",
     "exception": false,
     "start_time": "2022-04-10T12:14:05.639168",
     "status": "completed"
    },
    "tags": []
   },
   "outputs": [],
   "source": [
    "#hide\n",
    "def get_dates(df):\n",
    "    dt_cols = df.columns[~df.columns.isin(['Province/State', 'Country/Region', 'Lat', 'Long'])]\n",
    "    LAST_DATE_I = -1\n",
    "    # sometimes last column may be empty, then go backwards\n",
    "    for i in range(-1, -len(dt_cols), -1):\n",
    "        if not df[dt_cols[i]].fillna(0).eq(0).all():\n",
    "            LAST_DATE_I = i\n",
    "            break\n",
    "    return LAST_DATE_I, dt_cols"
   ]
  },
  {
   "cell_type": "code",
   "execution_count": 9,
   "id": "recent-optimization",
   "metadata": {
    "execution": {
     "iopub.execute_input": "2022-04-10T12:14:05.783046Z",
     "iopub.status.busy": "2022-04-10T12:14:05.782365Z",
     "iopub.status.idle": "2022-04-10T12:14:06.217069Z",
     "shell.execute_reply": "2022-04-10T12:14:06.217692Z"
    },
    "papermill": {
     "duration": 0.485057,
     "end_time": "2022-04-10T12:14:06.217873",
     "exception": false,
     "start_time": "2022-04-10T12:14:05.732816",
     "status": "completed"
    },
    "tags": []
   },
   "outputs": [],
   "source": [
    "#hide\n",
    "COL_REGION = 'Country/Region'\n",
    "# Confirmed, Recovered, Deaths\n",
    "df = get_frame('confirmed')\n",
    "# dft_: timeseries, dfc_: today country agg\n",
    "dft_cases = df\n",
    "dft_deaths = get_frame('deaths')\n",
    "dft_recovered = get_frame('recovered')\n",
    "LAST_DATE_I, dt_cols = get_dates(df)"
   ]
  },
  {
   "cell_type": "code",
   "execution_count": 10,
   "id": "absolute-copper",
   "metadata": {
    "execution": {
     "iopub.execute_input": "2022-04-10T12:14:06.307749Z",
     "iopub.status.busy": "2022-04-10T12:14:06.307029Z",
     "iopub.status.idle": "2022-04-10T12:14:06.309913Z",
     "shell.execute_reply": "2022-04-10T12:14:06.309125Z"
    },
    "papermill": {
     "duration": 0.048992,
     "end_time": "2022-04-10T12:14:06.310060",
     "exception": false,
     "start_time": "2022-04-10T12:14:06.261068",
     "status": "completed"
    },
    "tags": []
   },
   "outputs": [],
   "source": [
    "#hide\n",
    "LAST_DATE_I, dt_cols = get_dates(df)\n",
    "dt_today =dt_cols[LAST_DATE_I]\n",
    "# dt_5day = dt_cols[LAST_DATE_I - 5]\n",
    "dt_yday = dt_cols[LAST_DATE_I - 1]"
   ]
  },
  {
   "cell_type": "code",
   "execution_count": 11,
   "id": "restricted-sheriff",
   "metadata": {
    "execution": {
     "iopub.execute_input": "2022-04-10T12:14:06.393478Z",
     "iopub.status.busy": "2022-04-10T12:14:06.392709Z",
     "iopub.status.idle": "2022-04-10T12:14:06.402293Z",
     "shell.execute_reply": "2022-04-10T12:14:06.402961Z"
    },
    "papermill": {
     "duration": 0.05402,
     "end_time": "2022-04-10T12:14:06.403321",
     "exception": false,
     "start_time": "2022-04-10T12:14:06.349301",
     "status": "completed"
    },
    "tags": []
   },
   "outputs": [],
   "source": [
    "#hide\n",
    "dfc_cases = dft_cases.groupby(COL_REGION)[dt_today].sum()\n",
    "dfc_deaths = dft_deaths.groupby(COL_REGION)[dt_today].sum()\n",
    "# dfp_cases = dft_cases.groupby(COL_REGION)[dt_5day].sum()\n",
    "# dfp_deaths = dft_deaths.groupby(COL_REGION)[dt_5day].sum()\n",
    "dfp_cases = dft_cases.groupby(COL_REGION)[dt_yday].sum()\n",
    "dfp_deaths = dft_deaths.groupby(COL_REGION)[dt_yday].sum()"
   ]
  },
  {
   "cell_type": "code",
   "execution_count": 12,
   "id": "deluxe-hepatitis",
   "metadata": {
    "execution": {
     "iopub.execute_input": "2022-04-10T12:14:06.491093Z",
     "iopub.status.busy": "2022-04-10T12:14:06.490432Z",
     "iopub.status.idle": "2022-04-10T12:14:06.496294Z",
     "shell.execute_reply": "2022-04-10T12:14:06.496844Z"
    },
    "papermill": {
     "duration": 0.053161,
     "end_time": "2022-04-10T12:14:06.497005",
     "exception": false,
     "start_time": "2022-04-10T12:14:06.443844",
     "status": "completed"
    },
    "tags": []
   },
   "outputs": [],
   "source": [
    "#hide\n",
    "df_table = (pd.DataFrame(dict(Cases = dfc_cases, Deaths = dfc_deaths, PCases = dfp_cases, PDeaths = dfp_deaths))\n",
    "            .sort_values(by = ['Cases','Deaths'], ascending = [False, False])\n",
    "            .reset_index())"
   ]
  },
  {
   "cell_type": "code",
   "execution_count": 13,
   "id": "educational-chancellor",
   "metadata": {
    "execution": {
     "iopub.execute_input": "2022-04-10T12:14:06.597207Z",
     "iopub.status.busy": "2022-04-10T12:14:06.596506Z",
     "iopub.status.idle": "2022-04-10T12:14:06.606751Z",
     "shell.execute_reply": "2022-04-10T12:14:06.606198Z"
    },
    "papermill": {
     "duration": 0.070184,
     "end_time": "2022-04-10T12:14:06.606889",
     "exception": false,
     "start_time": "2022-04-10T12:14:06.536705",
     "status": "completed"
    },
    "tags": []
   },
   "outputs": [
    {
     "data": {
      "text/html": [
       "<div>\n",
       "<style scoped>\n",
       "    .dataframe tbody tr th:only-of-type {\n",
       "        vertical-align: middle;\n",
       "    }\n",
       "\n",
       "    .dataframe tbody tr th {\n",
       "        vertical-align: top;\n",
       "    }\n",
       "\n",
       "    .dataframe thead th {\n",
       "        text-align: right;\n",
       "    }\n",
       "</style>\n",
       "<table border=\"1\" class=\"dataframe\">\n",
       "  <thead>\n",
       "    <tr style=\"text-align: right;\">\n",
       "      <th></th>\n",
       "      <th>Country/Region</th>\n",
       "      <th>Cases</th>\n",
       "      <th>Deaths</th>\n",
       "      <th>PCases</th>\n",
       "      <th>PDeaths</th>\n",
       "      <th>Cases (+)</th>\n",
       "      <th>Deaths (+)</th>\n",
       "      <th>Fatality Rate</th>\n",
       "      <th>Continent</th>\n",
       "    </tr>\n",
       "  </thead>\n",
       "  <tbody>\n",
       "    <tr>\n",
       "      <th>0</th>\n",
       "      <td>US</td>\n",
       "      <td>80399486</td>\n",
       "      <td>985482</td>\n",
       "      <td>80386635</td>\n",
       "      <td>985205</td>\n",
       "      <td>12851</td>\n",
       "      <td>277</td>\n",
       "      <td>1.23</td>\n",
       "      <td>North America</td>\n",
       "    </tr>\n",
       "    <tr>\n",
       "      <th>1</th>\n",
       "      <td>India</td>\n",
       "      <td>43035271</td>\n",
       "      <td>521685</td>\n",
       "      <td>43034217</td>\n",
       "      <td>521656</td>\n",
       "      <td>1054</td>\n",
       "      <td>29</td>\n",
       "      <td>1.21</td>\n",
       "      <td>Asia</td>\n",
       "    </tr>\n",
       "    <tr>\n",
       "      <th>2</th>\n",
       "      <td>Brazil</td>\n",
       "      <td>30146769</td>\n",
       "      <td>661475</td>\n",
       "      <td>30125540</td>\n",
       "      <td>661377</td>\n",
       "      <td>21229</td>\n",
       "      <td>98</td>\n",
       "      <td>2.19</td>\n",
       "      <td>South America</td>\n",
       "    </tr>\n",
       "    <tr>\n",
       "      <th>3</th>\n",
       "      <td>France</td>\n",
       "      <td>27029271</td>\n",
       "      <td>144280</td>\n",
       "      <td>26887490</td>\n",
       "      <td>144193</td>\n",
       "      <td>141781</td>\n",
       "      <td>87</td>\n",
       "      <td>0.53</td>\n",
       "      <td>Europe</td>\n",
       "    </tr>\n",
       "    <tr>\n",
       "      <th>4</th>\n",
       "      <td>Germany</td>\n",
       "      <td>22684849</td>\n",
       "      <td>131715</td>\n",
       "      <td>22629378</td>\n",
       "      <td>131679</td>\n",
       "      <td>55471</td>\n",
       "      <td>36</td>\n",
       "      <td>0.58</td>\n",
       "      <td>Europe</td>\n",
       "    </tr>\n",
       "  </tbody>\n",
       "</table>\n",
       "</div>"
      ],
      "text/plain": [
       "  Country/Region     Cases  Deaths    PCases  PDeaths  Cases (+)  Deaths (+)  \\\n",
       "0             US  80399486  985482  80386635   985205      12851         277   \n",
       "1          India  43035271  521685  43034217   521656       1054          29   \n",
       "2         Brazil  30146769  661475  30125540   661377      21229          98   \n",
       "3         France  27029271  144280  26887490   144193     141781          87   \n",
       "4        Germany  22684849  131715  22629378   131679      55471          36   \n",
       "\n",
       "   Fatality Rate      Continent  \n",
       "0           1.23  North America  \n",
       "1           1.21           Asia  \n",
       "2           2.19  South America  \n",
       "3           0.53         Europe  \n",
       "4           0.58         Europe  "
      ]
     },
     "execution_count": 13,
     "metadata": {},
     "output_type": "execute_result"
    }
   ],
   "source": [
    "#hide\n",
    "for c in 'Cases, Deaths'.split(', '):\n",
    "    df_table[f'{c} (+)'] = (df_table[c] - df_table[f'P{c}']).clip(0)\n",
    "    #Clip ça veut dire, les chiffres negatif sont interdit\n",
    "df_table['Fatality Rate'] = (100* df_table['Deaths']/ df_table['Cases']).round(2)\n",
    "df_table['Continent'] = df_table['Country/Region'].map(mapping['map.continent'])\n",
    "df_table.head(5)"
   ]
  },
  {
   "cell_type": "code",
   "execution_count": 14,
   "id": "aboriginal-bulgaria",
   "metadata": {
    "execution": {
     "iopub.execute_input": "2022-04-10T12:14:06.691764Z",
     "iopub.status.busy": "2022-04-10T12:14:06.690913Z",
     "iopub.status.idle": "2022-04-10T12:14:06.694639Z",
     "shell.execute_reply": "2022-04-10T12:14:06.695433Z"
    },
    "papermill": {
     "duration": 0.049085,
     "end_time": "2022-04-10T12:14:06.695580",
     "exception": false,
     "start_time": "2022-04-10T12:14:06.646495",
     "status": "completed"
    },
    "tags": []
   },
   "outputs": [],
   "source": [
    "#hide\n",
    "#delete problematic countries from table\n",
    "df_table = df_table[~df_table['Country/Region'].isin(['Cape Verde', 'Cruise Ship', 'Kosovo'])]"
   ]
  },
  {
   "cell_type": "code",
   "execution_count": 15,
   "id": "fantastic-effect",
   "metadata": {
    "execution": {
     "iopub.execute_input": "2022-04-10T12:14:06.783116Z",
     "iopub.status.busy": "2022-04-10T12:14:06.782433Z",
     "iopub.status.idle": "2022-04-10T12:14:06.806442Z",
     "shell.execute_reply": "2022-04-10T12:14:06.807184Z"
    },
    "papermill": {
     "duration": 0.073193,
     "end_time": "2022-04-10T12:14:06.807443",
     "exception": false,
     "start_time": "2022-04-10T12:14:06.734250",
     "status": "completed"
    },
    "tags": []
   },
   "outputs": [
    {
     "data": {
      "text/html": [
       "<div>\n",
       "<style scoped>\n",
       "    .dataframe tbody tr th:only-of-type {\n",
       "        vertical-align: middle;\n",
       "    }\n",
       "\n",
       "    .dataframe tbody tr th {\n",
       "        vertical-align: top;\n",
       "    }\n",
       "\n",
       "    .dataframe thead th {\n",
       "        text-align: right;\n",
       "    }\n",
       "</style>\n",
       "<table border=\"1\" class=\"dataframe\">\n",
       "  <thead>\n",
       "    <tr style=\"text-align: right;\">\n",
       "      <th></th>\n",
       "      <th>Country/Region</th>\n",
       "      <th>Cases</th>\n",
       "      <th>Deaths</th>\n",
       "      <th>PCases</th>\n",
       "      <th>PDeaths</th>\n",
       "      <th>Cases (+)</th>\n",
       "      <th>Deaths (+)</th>\n",
       "      <th>Fatality Rate</th>\n",
       "      <th>Continent</th>\n",
       "    </tr>\n",
       "  </thead>\n",
       "  <tbody>\n",
       "    <tr>\n",
       "      <th>0</th>\n",
       "      <td>US</td>\n",
       "      <td>80399486</td>\n",
       "      <td>985482</td>\n",
       "      <td>80386635</td>\n",
       "      <td>985205</td>\n",
       "      <td>12851</td>\n",
       "      <td>277</td>\n",
       "      <td>1.2</td>\n",
       "      <td>North America</td>\n",
       "    </tr>\n",
       "    <tr>\n",
       "      <th>1</th>\n",
       "      <td>India</td>\n",
       "      <td>43035271</td>\n",
       "      <td>521685</td>\n",
       "      <td>43034217</td>\n",
       "      <td>521656</td>\n",
       "      <td>1054</td>\n",
       "      <td>29</td>\n",
       "      <td>1.2</td>\n",
       "      <td>Asia</td>\n",
       "    </tr>\n",
       "    <tr>\n",
       "      <th>2</th>\n",
       "      <td>Brazil</td>\n",
       "      <td>30146769</td>\n",
       "      <td>661475</td>\n",
       "      <td>30125540</td>\n",
       "      <td>661377</td>\n",
       "      <td>21229</td>\n",
       "      <td>98</td>\n",
       "      <td>2.2</td>\n",
       "      <td>South America</td>\n",
       "    </tr>\n",
       "    <tr>\n",
       "      <th>3</th>\n",
       "      <td>France</td>\n",
       "      <td>27029271</td>\n",
       "      <td>144280</td>\n",
       "      <td>26887490</td>\n",
       "      <td>144193</td>\n",
       "      <td>141781</td>\n",
       "      <td>87</td>\n",
       "      <td>0.5</td>\n",
       "      <td>Europe</td>\n",
       "    </tr>\n",
       "    <tr>\n",
       "      <th>4</th>\n",
       "      <td>Germany</td>\n",
       "      <td>22684849</td>\n",
       "      <td>131715</td>\n",
       "      <td>22629378</td>\n",
       "      <td>131679</td>\n",
       "      <td>55471</td>\n",
       "      <td>36</td>\n",
       "      <td>0.6</td>\n",
       "      <td>Europe</td>\n",
       "    </tr>\n",
       "  </tbody>\n",
       "</table>\n",
       "</div>"
      ],
      "text/plain": [
       "  Country/Region     Cases  Deaths    PCases  PDeaths  Cases (+)  Deaths (+)  \\\n",
       "0             US  80399486  985482  80386635   985205      12851         277   \n",
       "1          India  43035271  521685  43034217   521656       1054          29   \n",
       "2         Brazil  30146769  661475  30125540   661377      21229          98   \n",
       "3         France  27029271  144280  26887490   144193     141781          87   \n",
       "4        Germany  22684849  131715  22629378   131679      55471          36   \n",
       "\n",
       "   Fatality Rate      Continent  \n",
       "0            1.2  North America  \n",
       "1            1.2           Asia  \n",
       "2            2.2  South America  \n",
       "3            0.5         Europe  \n",
       "4            0.6         Europe  "
      ]
     },
     "execution_count": 15,
     "metadata": {},
     "output_type": "execute_result"
    }
   ],
   "source": [
    "#hide\n",
    "df_table = (pd.DataFrame(dict(Cases=dfc_cases, Deaths=dfc_deaths, PCases=dfp_cases, PDeaths=dfp_deaths))\n",
    "             .sort_values(by=['Cases', 'Deaths'], ascending=[False, False])\n",
    "             .reset_index())\n",
    "df_table.rename(columns={'index': 'Country/Region'}, inplace=True)\n",
    "for c in 'Cases, Deaths'.split(', '):\n",
    "    df_table[f'{c} (+)'] = (df_table[c] - df_table[f'P{c}']).clip(0)  # DATA BUG\n",
    "df_table['Fatality Rate'] = (100 * df_table['Deaths'] / df_table['Cases']).round(1)\n",
    "df_table['Continent'] = df_table['Country/Region'].map(mapping['map.continent'])\n",
    "df_table.head(5)"
   ]
  },
  {
   "cell_type": "code",
   "execution_count": 16,
   "id": "fewer-occasion",
   "metadata": {
    "execution": {
     "iopub.execute_input": "2022-04-10T12:14:06.903261Z",
     "iopub.status.busy": "2022-04-10T12:14:06.902543Z",
     "iopub.status.idle": "2022-04-10T12:14:06.905483Z",
     "shell.execute_reply": "2022-04-10T12:14:06.906159Z"
    },
    "papermill": {
     "duration": 0.053772,
     "end_time": "2022-04-10T12:14:06.906320",
     "exception": false,
     "start_time": "2022-04-10T12:14:06.852548",
     "status": "completed"
    },
    "tags": []
   },
   "outputs": [],
   "source": [
    "#hide\n",
    "#delete problematic countries from table\n",
    "df_table = df_table[~df_table['Country/Region'].isin(['Cape Verde', 'Cruise Ship', 'Kosovo'])]"
   ]
  },
  {
   "cell_type": "code",
   "execution_count": 17,
   "id": "related-center",
   "metadata": {
    "execution": {
     "iopub.execute_input": "2022-04-10T12:14:07.009955Z",
     "iopub.status.busy": "2022-04-10T12:14:07.008977Z",
     "iopub.status.idle": "2022-04-10T12:14:07.018457Z",
     "shell.execute_reply": "2022-04-10T12:14:07.017846Z"
    },
    "papermill": {
     "duration": 0.067651,
     "end_time": "2022-04-10T12:14:07.018606",
     "exception": false,
     "start_time": "2022-04-10T12:14:06.950955",
     "status": "completed"
    },
    "tags": []
   },
   "outputs": [],
   "source": [
    "#hide\n",
    "metrics = [df_table.columns[index] for index in [1,2,5,6]]\n",
    "# s_china = df_table[df_table['Country/Region'].eq('China')][metrics].sum().add_prefix('China ')\n",
    "s_us = df_table[df_table['Country/Region'].eq('US')][metrics].sum().add_prefix('US ')\n",
    "s_eu = df_table[df_table['Continent'].eq('Europe')][metrics].sum().add_prefix('EU ')\n",
    "s_ind = df_table[df_table['Country/Region'].eq('India')][metrics].sum().add_prefix('India ')\n",
    "summary = {'updated': pd.to_datetime(dt_today), 'since': pd.to_datetime(dt_yday)}\n",
    "summary = {'updated': pd.to_datetime(dt_today), 'since': pd.to_datetime(dt_yday)}\n",
    "summary = {**summary, **df_table[metrics].sum(), **s_ind, **s_us, **s_eu}"
   ]
  },
  {
   "cell_type": "code",
   "execution_count": 18,
   "id": "engaging-syndrome",
   "metadata": {
    "execution": {
     "iopub.execute_input": "2022-04-10T12:14:07.111174Z",
     "iopub.status.busy": "2022-04-10T12:14:07.110440Z",
     "iopub.status.idle": "2022-04-10T12:14:07.130786Z",
     "shell.execute_reply": "2022-04-10T12:14:07.131472Z"
    },
    "papermill": {
     "duration": 0.070552,
     "end_time": "2022-04-10T12:14:07.131664",
     "exception": false,
     "start_time": "2022-04-10T12:14:07.061112",
     "status": "completed"
    },
    "tags": []
   },
   "outputs": [],
   "source": [
    "#hide\n",
    "dft_ct_new_cases = dft_cases.groupby(COL_REGION)[dt_cols].sum().diff(axis=1).fillna(0).astype(int)"
   ]
  },
  {
   "cell_type": "code",
   "execution_count": 19,
   "id": "neutral-assignment",
   "metadata": {
    "execution": {
     "iopub.execute_input": "2022-04-10T12:14:07.229599Z",
     "iopub.status.busy": "2022-04-10T12:14:07.228786Z",
     "iopub.status.idle": "2022-04-10T12:14:07.232907Z",
     "shell.execute_reply": "2022-04-10T12:14:07.233499Z"
    },
    "papermill": {
     "duration": 0.058595,
     "end_time": "2022-04-10T12:14:07.233668",
     "exception": false,
     "start_time": "2022-04-10T12:14:07.175073",
     "status": "completed"
    },
    "tags": []
   },
   "outputs": [],
   "source": [
    "#hide\n",
    "everydaycases = dft_ct_new_cases.cumsum(axis=1)"
   ]
  },
  {
   "cell_type": "code",
   "execution_count": 20,
   "id": "parliamentary-calgary",
   "metadata": {
    "execution": {
     "iopub.execute_input": "2022-04-10T12:14:07.333669Z",
     "iopub.status.busy": "2022-04-10T12:14:07.332854Z",
     "iopub.status.idle": "2022-04-10T12:14:08.102674Z",
     "shell.execute_reply": "2022-04-10T12:14:08.101961Z"
    },
    "papermill": {
     "duration": 0.822733,
     "end_time": "2022-04-10T12:14:08.102832",
     "exception": false,
     "start_time": "2022-04-10T12:14:07.280099",
     "status": "completed"
    },
    "tags": []
   },
   "outputs": [],
   "source": [
    "#hide\n",
    "import pandas as pd\n",
    "import matplotlib.pyplot as plt\n",
    "import matplotlib.ticker as ticker\n",
    "import matplotlib.animation as animation\n",
    "from IPython.display import HTML"
   ]
  },
  {
   "cell_type": "code",
   "execution_count": 21,
   "id": "lasting-extraction",
   "metadata": {
    "execution": {
     "iopub.execute_input": "2022-04-10T12:14:08.193726Z",
     "iopub.status.busy": "2022-04-10T12:14:08.193066Z",
     "iopub.status.idle": "2022-04-10T12:14:08.200506Z",
     "shell.execute_reply": "2022-04-10T12:14:08.199876Z"
    },
    "papermill": {
     "duration": 0.053757,
     "end_time": "2022-04-10T12:14:08.200692",
     "exception": false,
     "start_time": "2022-04-10T12:14:08.146935",
     "status": "completed"
    },
    "tags": []
   },
   "outputs": [],
   "source": [
    "#hide\n",
    "t = everydaycases.stack()"
   ]
  },
  {
   "cell_type": "code",
   "execution_count": 22,
   "id": "premier-sleeve",
   "metadata": {
    "execution": {
     "iopub.execute_input": "2022-04-10T12:14:08.289914Z",
     "iopub.status.busy": "2022-04-10T12:14:08.289257Z",
     "iopub.status.idle": "2022-04-10T12:14:08.301564Z",
     "shell.execute_reply": "2022-04-10T12:14:08.302321Z"
    },
    "papermill": {
     "duration": 0.058193,
     "end_time": "2022-04-10T12:14:08.302486",
     "exception": false,
     "start_time": "2022-04-10T12:14:08.244293",
     "status": "completed"
    },
    "tags": []
   },
   "outputs": [],
   "source": [
    "#hide\n",
    "g = t.reset_index(['Country/Region'])"
   ]
  },
  {
   "cell_type": "code",
   "execution_count": 23,
   "id": "distributed-pittsburgh",
   "metadata": {
    "execution": {
     "iopub.execute_input": "2022-04-10T12:14:08.393063Z",
     "iopub.status.busy": "2022-04-10T12:14:08.392408Z",
     "iopub.status.idle": "2022-04-10T12:14:08.395462Z",
     "shell.execute_reply": "2022-04-10T12:14:08.394915Z"
    },
    "papermill": {
     "duration": 0.049881,
     "end_time": "2022-04-10T12:14:08.395594",
     "exception": false,
     "start_time": "2022-04-10T12:14:08.345713",
     "status": "completed"
    },
    "tags": []
   },
   "outputs": [],
   "source": [
    "#hide\n",
    "g.index.name = 'date'"
   ]
  },
  {
   "cell_type": "code",
   "execution_count": 24,
   "id": "naked-donor",
   "metadata": {
    "execution": {
     "iopub.execute_input": "2022-04-10T12:14:08.484480Z",
     "iopub.status.busy": "2022-04-10T12:14:08.483791Z",
     "iopub.status.idle": "2022-04-10T12:14:08.486790Z",
     "shell.execute_reply": "2022-04-10T12:14:08.486288Z"
    },
    "papermill": {
     "duration": 0.046097,
     "end_time": "2022-04-10T12:14:08.486914",
     "exception": false,
     "start_time": "2022-04-10T12:14:08.440817",
     "status": "completed"
    },
    "tags": []
   },
   "outputs": [],
   "source": [
    "# #hide\n",
    "# g = g.reset_index(['date'])"
   ]
  },
  {
   "cell_type": "code",
   "execution_count": 25,
   "id": "incomplete-mustang",
   "metadata": {
    "execution": {
     "iopub.execute_input": "2022-04-10T12:14:08.573949Z",
     "iopub.status.busy": "2022-04-10T12:14:08.573030Z",
     "iopub.status.idle": "2022-04-10T12:14:08.575108Z",
     "shell.execute_reply": "2022-04-10T12:14:08.575710Z"
    },
    "papermill": {
     "duration": 0.048535,
     "end_time": "2022-04-10T12:14:08.575859",
     "exception": false,
     "start_time": "2022-04-10T12:14:08.527324",
     "status": "completed"
    },
    "tags": []
   },
   "outputs": [],
   "source": [
    "#hide\n",
    "# g.head()"
   ]
  },
  {
   "cell_type": "code",
   "execution_count": 26,
   "id": "specific-kruger",
   "metadata": {
    "execution": {
     "iopub.execute_input": "2022-04-10T12:14:08.662475Z",
     "iopub.status.busy": "2022-04-10T12:14:08.661593Z",
     "iopub.status.idle": "2022-04-10T12:14:08.663473Z",
     "shell.execute_reply": "2022-04-10T12:14:08.664021Z"
    },
    "papermill": {
     "duration": 0.046665,
     "end_time": "2022-04-10T12:14:08.664220",
     "exception": false,
     "start_time": "2022-04-10T12:14:08.617555",
     "status": "completed"
    },
    "tags": []
   },
   "outputs": [],
   "source": [
    "#hide\n",
    "# g.columns = ['date','country','cases']"
   ]
  },
  {
   "cell_type": "code",
   "execution_count": 27,
   "id": "tender-conversion",
   "metadata": {
    "execution": {
     "iopub.execute_input": "2022-04-10T12:14:08.747408Z",
     "iopub.status.busy": "2022-04-10T12:14:08.746671Z",
     "iopub.status.idle": "2022-04-10T12:14:08.748629Z",
     "shell.execute_reply": "2022-04-10T12:14:08.749140Z"
    },
    "papermill": {
     "duration": 0.044753,
     "end_time": "2022-04-10T12:14:08.749274",
     "exception": false,
     "start_time": "2022-04-10T12:14:08.704521",
     "status": "completed"
    },
    "tags": []
   },
   "outputs": [],
   "source": [
    "#hide\n",
    "# g['continent'] = g.country"
   ]
  },
  {
   "cell_type": "code",
   "execution_count": 28,
   "id": "substantial-wilderness",
   "metadata": {
    "execution": {
     "iopub.execute_input": "2022-04-10T12:14:08.835203Z",
     "iopub.status.busy": "2022-04-10T12:14:08.834445Z",
     "iopub.status.idle": "2022-04-10T12:14:08.838614Z",
     "shell.execute_reply": "2022-04-10T12:14:08.839228Z"
    },
    "papermill": {
     "duration": 0.049414,
     "end_time": "2022-04-10T12:14:08.839389",
     "exception": false,
     "start_time": "2022-04-10T12:14:08.789975",
     "status": "completed"
    },
    "tags": []
   },
   "outputs": [],
   "source": [
    "#hide\n",
    "# cols = list(g.columns.values)"
   ]
  },
  {
   "cell_type": "code",
   "execution_count": 29,
   "id": "solved-farming",
   "metadata": {
    "execution": {
     "iopub.execute_input": "2022-04-10T12:14:08.926166Z",
     "iopub.status.busy": "2022-04-10T12:14:08.925401Z",
     "iopub.status.idle": "2022-04-10T12:14:08.928038Z",
     "shell.execute_reply": "2022-04-10T12:14:08.927359Z"
    },
    "papermill": {
     "duration": 0.047829,
     "end_time": "2022-04-10T12:14:08.928193",
     "exception": false,
     "start_time": "2022-04-10T12:14:08.880364",
     "status": "completed"
    },
    "tags": []
   },
   "outputs": [],
   "source": [
    "#hide\n",
    "# cols.insert(0, cols.pop())"
   ]
  },
  {
   "cell_type": "code",
   "execution_count": 30,
   "id": "executed-adoption",
   "metadata": {
    "execution": {
     "iopub.execute_input": "2022-04-10T12:14:09.013208Z",
     "iopub.status.busy": "2022-04-10T12:14:09.012627Z",
     "iopub.status.idle": "2022-04-10T12:14:09.014816Z",
     "shell.execute_reply": "2022-04-10T12:14:09.015329Z"
    },
    "papermill": {
     "duration": 0.045136,
     "end_time": "2022-04-10T12:14:09.015463",
     "exception": false,
     "start_time": "2022-04-10T12:14:08.970327",
     "status": "completed"
    },
    "tags": []
   },
   "outputs": [],
   "source": [
    "#hide\n",
    "# g = g[cols]"
   ]
  },
  {
   "cell_type": "code",
   "execution_count": 31,
   "id": "subject-dublin",
   "metadata": {
    "execution": {
     "iopub.execute_input": "2022-04-10T12:14:09.097436Z",
     "iopub.status.busy": "2022-04-10T12:14:09.096759Z",
     "iopub.status.idle": "2022-04-10T12:14:09.099307Z",
     "shell.execute_reply": "2022-04-10T12:14:09.099779Z"
    },
    "papermill": {
     "duration": 0.045993,
     "end_time": "2022-04-10T12:14:09.099957",
     "exception": false,
     "start_time": "2022-04-10T12:14:09.053964",
     "status": "completed"
    },
    "tags": []
   },
   "outputs": [],
   "source": [
    "#hide\n",
    "# g['continent'] = g['continent'].map(mapping['map.continent'])"
   ]
  },
  {
   "cell_type": "code",
   "execution_count": 32,
   "id": "freelance-scout",
   "metadata": {
    "execution": {
     "iopub.execute_input": "2022-04-10T12:14:09.180655Z",
     "iopub.status.busy": "2022-04-10T12:14:09.180000Z",
     "iopub.status.idle": "2022-04-10T12:14:09.182794Z",
     "shell.execute_reply": "2022-04-10T12:14:09.182116Z"
    },
    "papermill": {
     "duration": 0.044155,
     "end_time": "2022-04-10T12:14:09.182951",
     "exception": false,
     "start_time": "2022-04-10T12:14:09.138796",
     "status": "completed"
    },
    "tags": []
   },
   "outputs": [],
   "source": [
    "#hide\n",
    "# g.head()"
   ]
  },
  {
   "cell_type": "code",
   "execution_count": 33,
   "id": "limited-engine",
   "metadata": {
    "execution": {
     "iopub.execute_input": "2022-04-10T12:14:09.269577Z",
     "iopub.status.busy": "2022-04-10T12:14:09.268912Z",
     "iopub.status.idle": "2022-04-10T12:14:09.271343Z",
     "shell.execute_reply": "2022-04-10T12:14:09.270830Z"
    },
    "papermill": {
     "duration": 0.047114,
     "end_time": "2022-04-10T12:14:09.271468",
     "exception": false,
     "start_time": "2022-04-10T12:14:09.224354",
     "status": "completed"
    },
    "tags": []
   },
   "outputs": [],
   "source": [
    "# hide\n",
    "# g['date'] = g['date'].astype('datetime64[ns]')"
   ]
  },
  {
   "cell_type": "code",
   "execution_count": 34,
   "id": "sophisticated-supervisor",
   "metadata": {
    "execution": {
     "iopub.execute_input": "2022-04-10T12:14:09.358312Z",
     "iopub.status.busy": "2022-04-10T12:14:09.357654Z",
     "iopub.status.idle": "2022-04-10T12:14:09.360690Z",
     "shell.execute_reply": "2022-04-10T12:14:09.360154Z"
    },
    "papermill": {
     "duration": 0.048325,
     "end_time": "2022-04-10T12:14:09.360820",
     "exception": false,
     "start_time": "2022-04-10T12:14:09.312495",
     "status": "completed"
    },
    "tags": []
   },
   "outputs": [],
   "source": [
    "#hide\n",
    "# g['date'] = g.date.dt.dayofyear"
   ]
  },
  {
   "cell_type": "code",
   "execution_count": 35,
   "id": "inside-dubai",
   "metadata": {
    "execution": {
     "iopub.execute_input": "2022-04-10T12:14:09.446163Z",
     "iopub.status.busy": "2022-04-10T12:14:09.445318Z",
     "iopub.status.idle": "2022-04-10T12:14:09.448549Z",
     "shell.execute_reply": "2022-04-10T12:14:09.447886Z"
    },
    "papermill": {
     "duration": 0.048255,
     "end_time": "2022-04-10T12:14:09.448700",
     "exception": false,
     "start_time": "2022-04-10T12:14:09.400445",
     "status": "completed"
    },
    "tags": []
   },
   "outputs": [],
   "source": [
    "#hide\n",
    "# g = g.rename(columns= {'continent':'group','country':'name','cases':'value'})"
   ]
  },
  {
   "cell_type": "code",
   "execution_count": 36,
   "id": "fleet-motorcycle",
   "metadata": {
    "execution": {
     "iopub.execute_input": "2022-04-10T12:14:09.535939Z",
     "iopub.status.busy": "2022-04-10T12:14:09.534993Z",
     "iopub.status.idle": "2022-04-10T12:14:09.539324Z",
     "shell.execute_reply": "2022-04-10T12:14:09.539819Z"
    },
    "papermill": {
     "duration": 0.050211,
     "end_time": "2022-04-10T12:14:09.539965",
     "exception": false,
     "start_time": "2022-04-10T12:14:09.489754",
     "status": "completed"
    },
    "tags": []
   },
   "outputs": [],
   "source": [
    "#hide\n",
    "# cols = ['name','group','day','value']"
   ]
  },
  {
   "cell_type": "code",
   "execution_count": 37,
   "id": "continued-sleeping",
   "metadata": {
    "execution": {
     "iopub.execute_input": "2022-04-10T12:14:09.628503Z",
     "iopub.status.busy": "2022-04-10T12:14:09.627802Z",
     "iopub.status.idle": "2022-04-10T12:14:09.630890Z",
     "shell.execute_reply": "2022-04-10T12:14:09.630199Z"
    },
    "papermill": {
     "duration": 0.049517,
     "end_time": "2022-04-10T12:14:09.631065",
     "exception": false,
     "start_time": "2022-04-10T12:14:09.581548",
     "status": "completed"
    },
    "tags": []
   },
   "outputs": [],
   "source": [
    "#hide\n",
    "# g.rename(columns= {'date':'day'},inplace = True)"
   ]
  },
  {
   "cell_type": "code",
   "execution_count": 38,
   "id": "major-fight",
   "metadata": {
    "execution": {
     "iopub.execute_input": "2022-04-10T12:14:09.719891Z",
     "iopub.status.busy": "2022-04-10T12:14:09.719173Z",
     "iopub.status.idle": "2022-04-10T12:14:09.721856Z",
     "shell.execute_reply": "2022-04-10T12:14:09.721142Z"
    },
    "papermill": {
     "duration": 0.048776,
     "end_time": "2022-04-10T12:14:09.722017",
     "exception": false,
     "start_time": "2022-04-10T12:14:09.673241",
     "status": "completed"
    },
    "tags": []
   },
   "outputs": [],
   "source": [
    "#hide\n",
    "# g = g[cols]"
   ]
  },
  {
   "cell_type": "code",
   "execution_count": 39,
   "id": "structured-mobile",
   "metadata": {
    "execution": {
     "iopub.execute_input": "2022-04-10T12:14:09.812233Z",
     "iopub.status.busy": "2022-04-10T12:14:09.811618Z",
     "iopub.status.idle": "2022-04-10T12:14:09.815513Z",
     "shell.execute_reply": "2022-04-10T12:14:09.816024Z"
    },
    "papermill": {
     "duration": 0.051433,
     "end_time": "2022-04-10T12:14:09.816186",
     "exception": false,
     "start_time": "2022-04-10T12:14:09.764753",
     "status": "completed"
    },
    "tags": []
   },
   "outputs": [],
   "source": [
    "# #hide\n",
    "# g = g[g.group.notna()]"
   ]
  },
  {
   "cell_type": "code",
   "execution_count": 40,
   "id": "determined-closing",
   "metadata": {
    "execution": {
     "iopub.execute_input": "2022-04-10T12:14:09.907952Z",
     "iopub.status.busy": "2022-04-10T12:14:09.907239Z",
     "iopub.status.idle": "2022-04-10T12:14:09.909901Z",
     "shell.execute_reply": "2022-04-10T12:14:09.909265Z"
    },
    "papermill": {
     "duration": 0.047827,
     "end_time": "2022-04-10T12:14:09.910042",
     "exception": false,
     "start_time": "2022-04-10T12:14:09.862215",
     "status": "completed"
    },
    "tags": []
   },
   "outputs": [],
   "source": [
    "# #hide\n",
    "# colors = dict(zip(\n",
    "#     [\"Oceania\", \"Europe\", \"Asia\", \"South America\", \"Middle East\", \"North America\", \"Africa\"],\n",
    "#     [\"#adb0ff\", \"#ffb3ff\", \"#90d595\", \"#e48381\", \"#aafbff\", \"#f7bb5f\", \"#eafb50\"]\n",
    "# ))\n",
    "# group_lk = g.set_index('name')['group'].to_dict()"
   ]
  },
  {
   "cell_type": "code",
   "execution_count": null,
   "id": "gross-drinking",
   "metadata": {
    "papermill": {
     "duration": 0.042359,
     "end_time": "2022-04-10T12:14:09.999077",
     "exception": false,
     "start_time": "2022-04-10T12:14:09.956718",
     "status": "completed"
    },
    "tags": []
   },
   "outputs": [],
   "source": []
  },
  {
   "cell_type": "code",
   "execution_count": 41,
   "id": "subject-macintosh",
   "metadata": {
    "execution": {
     "iopub.execute_input": "2022-04-10T12:14:10.088474Z",
     "iopub.status.busy": "2022-04-10T12:14:10.087644Z",
     "iopub.status.idle": "2022-04-10T12:14:10.090482Z",
     "shell.execute_reply": "2022-04-10T12:14:10.089870Z"
    },
    "papermill": {
     "duration": 0.049783,
     "end_time": "2022-04-10T12:14:10.090620",
     "exception": false,
     "start_time": "2022-04-10T12:14:10.040837",
     "status": "completed"
    },
    "tags": []
   },
   "outputs": [],
   "source": [
    "# #hide\n",
    "# fig, ax = plt.subplots(figsize=(15, 8))\n",
    "\n",
    "# def draw_barchart(current_day):\n",
    "#     dff = g[g['day'].eq(current_day)].sort_values(by='value', ascending=True).tail(10)\n",
    "#     ax.clear()\n",
    "#     ax.barh(dff['name'], dff['value'], color=[colors[group_lk[x]] for x in dff['name']])\n",
    "#     dx = dff['value'].max() / 200\n",
    "    \n",
    "#     for i, (value, name) in enumerate(zip(dff['value'], dff['name'])):\n",
    "#         ax.text(value-dx, i,     name,           size=14, weight=600, ha='right', va='bottom')\n",
    "#         ax.text(value-dx, i-.25, group_lk[name], size=10, color='#444444', ha='right', va='baseline')\n",
    "#         ax.text(value+dx, i,     f'{value:,.0f}',  size=14, ha='left',  va='center')\n",
    "#     ax.text(1, 0.4, current_day, transform=ax.transAxes, color='#777777', size=46, ha='right', weight=800)\n",
    "#     ax.text(0, 1.06, 'Population (thousands)', transform=ax.transAxes, size=12, color='#777777')\n",
    "#     ax.xaxis.set_major_formatter(ticker.StrMethodFormatter('{x:,.0f}'))\n",
    "#     ax.xaxis.set_ticks_position('top')\n",
    "#     ax.tick_params(axis='x', colors='#777777', labelsize=12)\n",
    "#     ax.set_yticks([])\n",
    "#     ax.margins(0, 0.01)\n",
    "#     ax.grid(which='major', axis='x', linestyle='-')\n",
    "#     ax.set_axisbelow(True)\n",
    "    \n",
    "#     ax.text(0, 1.15, 'Coronavirus',\n",
    "#             transform=ax.transAxes, size=24, weight=600, ha='left', va='top')\n",
    "# #     ax.text(1, 0, 'by @pratapvardhan; credit @jburnmurdoch', transform=ax.transAxes, color='#777777', ha='right',\n",
    "# #             bbox=dict(facecolor='white', alpha=0.8, edgecolor='white'))\n",
    "#     plt.box(False)"
   ]
  },
  {
   "cell_type": "code",
   "execution_count": 42,
   "id": "sexual-wages",
   "metadata": {
    "execution": {
     "iopub.execute_input": "2022-04-10T12:14:10.182780Z",
     "iopub.status.busy": "2022-04-10T12:14:10.181929Z",
     "iopub.status.idle": "2022-04-10T12:14:10.184201Z",
     "shell.execute_reply": "2022-04-10T12:14:10.184794Z"
    },
    "papermill": {
     "duration": 0.050622,
     "end_time": "2022-04-10T12:14:10.184980",
     "exception": false,
     "start_time": "2022-04-10T12:14:10.134358",
     "status": "completed"
    },
    "tags": []
   },
   "outputs": [],
   "source": [
    "# #hide_input\n",
    "# fig, ax = plt.subplots(figsize=(15, 8))\n",
    "# animator = animation.FuncAnimation(fig, draw_barchart, frames=range(g.day.values.min(), g.day.values.max()))\n",
    "# HTML(animator.to_jshtml())\n",
    "# # or use animator.to_html5_video() or animator.save() "
   ]
  },
  {
   "cell_type": "code",
   "execution_count": null,
   "id": "australian-container",
   "metadata": {
    "papermill": {
     "duration": 0.045065,
     "end_time": "2022-04-10T12:14:10.281953",
     "exception": false,
     "start_time": "2022-04-10T12:14:10.236888",
     "status": "completed"
    },
    "tags": []
   },
   "outputs": [],
   "source": []
  },
  {
   "cell_type": "code",
   "execution_count": null,
   "id": "mediterranean-pontiac",
   "metadata": {
    "papermill": {
     "duration": 0.04393,
     "end_time": "2022-04-10T12:14:10.372010",
     "exception": false,
     "start_time": "2022-04-10T12:14:10.328080",
     "status": "completed"
    },
    "tags": []
   },
   "outputs": [],
   "source": []
  },
  {
   "cell_type": "code",
   "execution_count": null,
   "id": "aging-legislature",
   "metadata": {
    "papermill": {
     "duration": 0.045439,
     "end_time": "2022-04-10T12:14:10.461392",
     "exception": false,
     "start_time": "2022-04-10T12:14:10.415953",
     "status": "completed"
    },
    "tags": []
   },
   "outputs": [],
   "source": []
  }
 ],
 "metadata": {
  "kernelspec": {
   "display_name": "Python 3",
   "language": "python",
   "name": "python3"
  },
  "language_info": {
   "codemirror_mode": {
    "name": "ipython",
    "version": 3
   },
   "file_extension": ".py",
   "mimetype": "text/x-python",
   "name": "python",
   "nbconvert_exporter": "python",
   "pygments_lexer": "ipython3",
   "version": "3.6.15"
  },
  "papermill": {
   "duration": 7.881173,
   "end_time": "2022-04-10T12:14:10.927800",
   "environment_variables": {},
   "exception": null,
   "input_path": "2020-03-21-covid19exp.ipynb",
   "output_path": "2020-03-21-covid19exp.ipynb",
   "parameters": {},
   "start_time": "2022-04-10T12:14:03.046627",
   "version": "2.0.0"
  }
 },
 "nbformat": 4,
 "nbformat_minor": 5
}