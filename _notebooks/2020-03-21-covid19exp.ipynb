{
 "cells": [
  {
   "cell_type": "markdown",
   "id": "muslim-click",
   "metadata": {
    "papermill": {
     "duration": 0.045383,
     "end_time": "2022-01-09T12:13:05.095174",
     "exception": false,
     "start_time": "2022-01-09T12:13:05.049791",
     "status": "completed"
    },
    "tags": []
   },
   "source": [
    "# COVID-19 Case Race\n",
    "> A race chart to see rising cases around the world\n",
    "\n",
    "- author: Hargun Oberoi\n",
    "- image: images/covid-overview.png\n",
    "- hide: false\n",
    "- badges: false"
   ]
  },
  {
   "cell_type": "code",
   "execution_count": 1,
   "id": "proof-material",
   "metadata": {
    "execution": {
     "iopub.execute_input": "2022-01-09T12:13:05.205361Z",
     "iopub.status.busy": "2022-01-09T12:13:05.202502Z",
     "iopub.status.idle": "2022-01-09T12:13:05.636469Z",
     "shell.execute_reply": "2022-01-09T12:13:05.635298Z"
    },
    "papermill": {
     "duration": 0.494351,
     "end_time": "2022-01-09T12:13:05.636670",
     "exception": false,
     "start_time": "2022-01-09T12:13:05.142319",
     "status": "completed"
    },
    "tags": []
   },
   "outputs": [],
   "source": [
    "#hide\n",
    "import numpy as np\n",
    "import pandas as pd\n",
    "from jinja2 import Template\n",
    "from IPython.display import HTML"
   ]
  },
  {
   "cell_type": "code",
   "execution_count": 2,
   "id": "developed-terminology",
   "metadata": {
    "execution": {
     "iopub.execute_input": "2022-01-09T12:13:05.727642Z",
     "iopub.status.busy": "2022-01-09T12:13:05.726900Z",
     "iopub.status.idle": "2022-01-09T12:13:05.728739Z",
     "shell.execute_reply": "2022-01-09T12:13:05.729338Z"
    },
    "papermill": {
     "duration": 0.049552,
     "end_time": "2022-01-09T12:13:05.729499",
     "exception": false,
     "start_time": "2022-01-09T12:13:05.679947",
     "status": "completed"
    },
    "tags": []
   },
   "outputs": [],
   "source": [
    "#hide\n",
    "\n",
    "# FETCH\n",
    "base_url = 'https://raw.githubusercontent.com/pratapvardhan/notebooks/master/covid19/'\n",
    "paths = {\n",
    "    'mapping': base_url + 'mapping_countries.csv',\n",
    "    'overview': base_url + 'overview.tpl'\n",
    "}"
   ]
  },
  {
   "cell_type": "code",
   "execution_count": 3,
   "id": "dynamic-saver",
   "metadata": {
    "execution": {
     "iopub.execute_input": "2022-01-09T12:13:05.828404Z",
     "iopub.status.busy": "2022-01-09T12:13:05.827639Z",
     "iopub.status.idle": "2022-01-09T12:13:05.831466Z",
     "shell.execute_reply": "2022-01-09T12:13:05.830794Z"
    },
    "papermill": {
     "duration": 0.061088,
     "end_time": "2022-01-09T12:13:05.831605",
     "exception": false,
     "start_time": "2022-01-09T12:13:05.770517",
     "status": "completed"
    },
    "tags": []
   },
   "outputs": [
    {
     "data": {
      "text/plain": [
       "'https://raw.githubusercontent.com/pratapvardhan/notebooks/master/covid19/mapping_countries.csv'"
      ]
     },
     "execution_count": 3,
     "metadata": {},
     "output_type": "execute_result"
    }
   ],
   "source": [
    "#hide\n",
    "paths['mapping']"
   ]
  },
  {
   "cell_type": "code",
   "execution_count": 4,
   "id": "urban-software",
   "metadata": {
    "execution": {
     "iopub.execute_input": "2022-01-09T12:13:05.921735Z",
     "iopub.status.busy": "2022-01-09T12:13:05.921008Z",
     "iopub.status.idle": "2022-01-09T12:13:05.925614Z",
     "shell.execute_reply": "2022-01-09T12:13:05.926659Z"
    },
    "papermill": {
     "duration": 0.053693,
     "end_time": "2022-01-09T12:13:05.926863",
     "exception": false,
     "start_time": "2022-01-09T12:13:05.873170",
     "status": "completed"
    },
    "tags": []
   },
   "outputs": [],
   "source": [
    "#hide\n",
    "def get_mappings(url):\n",
    "    df = pd.read_csv(url)\n",
    "    return {\n",
    "        'df': df,\n",
    "        'replace.country': dict(df.dropna(subset=['Name']).set_index('Country')['Name']),\n",
    "        'map.continent': dict(df.set_index('Name')['Continent'])\n",
    "    }"
   ]
  },
  {
   "cell_type": "code",
   "execution_count": 5,
   "id": "intimate-machinery",
   "metadata": {
    "execution": {
     "iopub.execute_input": "2022-01-09T12:13:06.023254Z",
     "iopub.status.busy": "2022-01-09T12:13:06.022521Z",
     "iopub.status.idle": "2022-01-09T12:13:06.055304Z",
     "shell.execute_reply": "2022-01-09T12:13:06.055980Z"
    },
    "papermill": {
     "duration": 0.079692,
     "end_time": "2022-01-09T12:13:06.056160",
     "exception": false,
     "start_time": "2022-01-09T12:13:05.976468",
     "status": "completed"
    },
    "tags": []
   },
   "outputs": [],
   "source": [
    "#hide\n",
    "mapping = get_mappings(paths['mapping'])"
   ]
  },
  {
   "cell_type": "code",
   "execution_count": 6,
   "id": "certified-tactics",
   "metadata": {
    "execution": {
     "iopub.execute_input": "2022-01-09T12:13:06.144109Z",
     "iopub.status.busy": "2022-01-09T12:13:06.143070Z",
     "iopub.status.idle": "2022-01-09T12:13:06.145275Z",
     "shell.execute_reply": "2022-01-09T12:13:06.146032Z"
    },
    "papermill": {
     "duration": 0.048509,
     "end_time": "2022-01-09T12:13:06.146208",
     "exception": false,
     "start_time": "2022-01-09T12:13:06.097699",
     "status": "completed"
    },
    "tags": []
   },
   "outputs": [],
   "source": [
    "#hide\n",
    "def get_template(path):\n",
    "    from urllib.parse import urlparse\n",
    "    if bool(urlparse(path).netloc):\n",
    "        from urllib.request import urlopen\n",
    "        return urlopen(path).read().decode('utf8')\n",
    "    return open(path).read()"
   ]
  },
  {
   "cell_type": "code",
   "execution_count": 7,
   "id": "realistic-blast",
   "metadata": {
    "execution": {
     "iopub.execute_input": "2022-01-09T12:13:06.242850Z",
     "iopub.status.busy": "2022-01-09T12:13:06.242156Z",
     "iopub.status.idle": "2022-01-09T12:13:06.244897Z",
     "shell.execute_reply": "2022-01-09T12:13:06.244289Z"
    },
    "papermill": {
     "duration": 0.04962,
     "end_time": "2022-01-09T12:13:06.245072",
     "exception": false,
     "start_time": "2022-01-09T12:13:06.195452",
     "status": "completed"
    },
    "tags": []
   },
   "outputs": [],
   "source": [
    "#hide\n",
    "def get_frame(name):\n",
    "    url = (\n",
    "        'https://raw.githubusercontent.com/CSSEGISandData/COVID-19/master/csse_covid_19_data/'\n",
    "        f'csse_covid_19_time_series/time_series_covid19_{name}_global.csv')\n",
    "    df = pd.read_csv(url)\n",
    "    # rename countries\n",
    "    df['Country/Region'] = df['Country/Region'].replace(mapping['replace.country'])\n",
    "    return df"
   ]
  },
  {
   "cell_type": "code",
   "execution_count": 8,
   "id": "affiliated-characterization",
   "metadata": {
    "execution": {
     "iopub.execute_input": "2022-01-09T12:13:06.336603Z",
     "iopub.status.busy": "2022-01-09T12:13:06.335773Z",
     "iopub.status.idle": "2022-01-09T12:13:06.339200Z",
     "shell.execute_reply": "2022-01-09T12:13:06.338585Z"
    },
    "papermill": {
     "duration": 0.050157,
     "end_time": "2022-01-09T12:13:06.339335",
     "exception": false,
     "start_time": "2022-01-09T12:13:06.289178",
     "status": "completed"
    },
    "tags": []
   },
   "outputs": [],
   "source": [
    "#hide\n",
    "def get_dates(df):\n",
    "    dt_cols = df.columns[~df.columns.isin(['Province/State', 'Country/Region', 'Lat', 'Long'])]\n",
    "    LAST_DATE_I = -1\n",
    "    # sometimes last column may be empty, then go backwards\n",
    "    for i in range(-1, -len(dt_cols), -1):\n",
    "        if not df[dt_cols[i]].fillna(0).eq(0).all():\n",
    "            LAST_DATE_I = i\n",
    "            break\n",
    "    return LAST_DATE_I, dt_cols"
   ]
  },
  {
   "cell_type": "code",
   "execution_count": 9,
   "id": "recent-optimization",
   "metadata": {
    "execution": {
     "iopub.execute_input": "2022-01-09T12:13:06.426797Z",
     "iopub.status.busy": "2022-01-09T12:13:06.426034Z",
     "iopub.status.idle": "2022-01-09T12:13:06.843024Z",
     "shell.execute_reply": "2022-01-09T12:13:06.842413Z"
    },
    "papermill": {
     "duration": 0.46251,
     "end_time": "2022-01-09T12:13:06.843177",
     "exception": false,
     "start_time": "2022-01-09T12:13:06.380667",
     "status": "completed"
    },
    "tags": []
   },
   "outputs": [],
   "source": [
    "#hide\n",
    "COL_REGION = 'Country/Region'\n",
    "# Confirmed, Recovered, Deaths\n",
    "df = get_frame('confirmed')\n",
    "# dft_: timeseries, dfc_: today country agg\n",
    "dft_cases = df\n",
    "dft_deaths = get_frame('deaths')\n",
    "dft_recovered = get_frame('recovered')\n",
    "LAST_DATE_I, dt_cols = get_dates(df)"
   ]
  },
  {
   "cell_type": "code",
   "execution_count": 10,
   "id": "absolute-copper",
   "metadata": {
    "execution": {
     "iopub.execute_input": "2022-01-09T12:13:06.951755Z",
     "iopub.status.busy": "2022-01-09T12:13:06.950964Z",
     "iopub.status.idle": "2022-01-09T12:13:06.957528Z",
     "shell.execute_reply": "2022-01-09T12:13:06.958189Z"
    },
    "papermill": {
     "duration": 0.074342,
     "end_time": "2022-01-09T12:13:06.958644",
     "exception": false,
     "start_time": "2022-01-09T12:13:06.884302",
     "status": "completed"
    },
    "tags": []
   },
   "outputs": [],
   "source": [
    "#hide\n",
    "LAST_DATE_I, dt_cols = get_dates(df)\n",
    "dt_today =dt_cols[LAST_DATE_I]\n",
    "# dt_5day = dt_cols[LAST_DATE_I - 5]\n",
    "dt_yday = dt_cols[LAST_DATE_I - 1]"
   ]
  },
  {
   "cell_type": "code",
   "execution_count": 11,
   "id": "restricted-sheriff",
   "metadata": {
    "execution": {
     "iopub.execute_input": "2022-01-09T12:13:07.048446Z",
     "iopub.status.busy": "2022-01-09T12:13:07.047719Z",
     "iopub.status.idle": "2022-01-09T12:13:07.057726Z",
     "shell.execute_reply": "2022-01-09T12:13:07.057170Z"
    },
    "papermill": {
     "duration": 0.055985,
     "end_time": "2022-01-09T12:13:07.057892",
     "exception": false,
     "start_time": "2022-01-09T12:13:07.001907",
     "status": "completed"
    },
    "tags": []
   },
   "outputs": [],
   "source": [
    "#hide\n",
    "dfc_cases = dft_cases.groupby(COL_REGION)[dt_today].sum()\n",
    "dfc_deaths = dft_deaths.groupby(COL_REGION)[dt_today].sum()\n",
    "# dfp_cases = dft_cases.groupby(COL_REGION)[dt_5day].sum()\n",
    "# dfp_deaths = dft_deaths.groupby(COL_REGION)[dt_5day].sum()\n",
    "dfp_cases = dft_cases.groupby(COL_REGION)[dt_yday].sum()\n",
    "dfp_deaths = dft_deaths.groupby(COL_REGION)[dt_yday].sum()"
   ]
  },
  {
   "cell_type": "code",
   "execution_count": 12,
   "id": "deluxe-hepatitis",
   "metadata": {
    "execution": {
     "iopub.execute_input": "2022-01-09T12:13:07.148001Z",
     "iopub.status.busy": "2022-01-09T12:13:07.147313Z",
     "iopub.status.idle": "2022-01-09T12:13:07.152788Z",
     "shell.execute_reply": "2022-01-09T12:13:07.153336Z"
    },
    "papermill": {
     "duration": 0.055784,
     "end_time": "2022-01-09T12:13:07.153589",
     "exception": false,
     "start_time": "2022-01-09T12:13:07.097805",
     "status": "completed"
    },
    "tags": []
   },
   "outputs": [],
   "source": [
    "#hide\n",
    "df_table = (pd.DataFrame(dict(Cases = dfc_cases, Deaths = dfc_deaths, PCases = dfp_cases, PDeaths = dfp_deaths))\n",
    "            .sort_values(by = ['Cases','Deaths'], ascending = [False, False])\n",
    "            .reset_index())"
   ]
  },
  {
   "cell_type": "code",
   "execution_count": 13,
   "id": "educational-chancellor",
   "metadata": {
    "execution": {
     "iopub.execute_input": "2022-01-09T12:13:07.263577Z",
     "iopub.status.busy": "2022-01-09T12:13:07.262730Z",
     "iopub.status.idle": "2022-01-09T12:13:07.267003Z",
     "shell.execute_reply": "2022-01-09T12:13:07.266437Z"
    },
    "papermill": {
     "duration": 0.072758,
     "end_time": "2022-01-09T12:13:07.267136",
     "exception": false,
     "start_time": "2022-01-09T12:13:07.194378",
     "status": "completed"
    },
    "tags": []
   },
   "outputs": [
    {
     "data": {
      "text/html": [
       "<div>\n",
       "<style scoped>\n",
       "    .dataframe tbody tr th:only-of-type {\n",
       "        vertical-align: middle;\n",
       "    }\n",
       "\n",
       "    .dataframe tbody tr th {\n",
       "        vertical-align: top;\n",
       "    }\n",
       "\n",
       "    .dataframe thead th {\n",
       "        text-align: right;\n",
       "    }\n",
       "</style>\n",
       "<table border=\"1\" class=\"dataframe\">\n",
       "  <thead>\n",
       "    <tr style=\"text-align: right;\">\n",
       "      <th></th>\n",
       "      <th>Country/Region</th>\n",
       "      <th>Cases</th>\n",
       "      <th>Deaths</th>\n",
       "      <th>PCases</th>\n",
       "      <th>PDeaths</th>\n",
       "      <th>Cases (+)</th>\n",
       "      <th>Deaths (+)</th>\n",
       "      <th>Fatality Rate</th>\n",
       "      <th>Continent</th>\n",
       "    </tr>\n",
       "  </thead>\n",
       "  <tbody>\n",
       "    <tr>\n",
       "      <th>0</th>\n",
       "      <td>US</td>\n",
       "      <td>59767221</td>\n",
       "      <td>837264</td>\n",
       "      <td>59388529</td>\n",
       "      <td>836603</td>\n",
       "      <td>378692</td>\n",
       "      <td>661</td>\n",
       "      <td>1.40</td>\n",
       "      <td>North America</td>\n",
       "    </tr>\n",
       "    <tr>\n",
       "      <th>1</th>\n",
       "      <td>India</td>\n",
       "      <td>35528004</td>\n",
       "      <td>483790</td>\n",
       "      <td>35368372</td>\n",
       "      <td>483463</td>\n",
       "      <td>159632</td>\n",
       "      <td>327</td>\n",
       "      <td>1.36</td>\n",
       "      <td>Asia</td>\n",
       "    </tr>\n",
       "    <tr>\n",
       "      <th>2</th>\n",
       "      <td>Brazil</td>\n",
       "      <td>22328252</td>\n",
       "      <td>619654</td>\n",
       "      <td>22328252</td>\n",
       "      <td>619654</td>\n",
       "      <td>0</td>\n",
       "      <td>0</td>\n",
       "      <td>2.78</td>\n",
       "      <td>South America</td>\n",
       "    </tr>\n",
       "    <tr>\n",
       "      <th>3</th>\n",
       "      <td>United Kingdom</td>\n",
       "      <td>14422067</td>\n",
       "      <td>150537</td>\n",
       "      <td>14280816</td>\n",
       "      <td>150223</td>\n",
       "      <td>141251</td>\n",
       "      <td>314</td>\n",
       "      <td>1.04</td>\n",
       "      <td>Europe</td>\n",
       "    </tr>\n",
       "    <tr>\n",
       "      <th>4</th>\n",
       "      <td>France</td>\n",
       "      <td>11921925</td>\n",
       "      <td>126337</td>\n",
       "      <td>11623327</td>\n",
       "      <td>126202</td>\n",
       "      <td>298598</td>\n",
       "      <td>135</td>\n",
       "      <td>1.06</td>\n",
       "      <td>Europe</td>\n",
       "    </tr>\n",
       "  </tbody>\n",
       "</table>\n",
       "</div>"
      ],
      "text/plain": [
       "   Country/Region     Cases  Deaths    PCases  PDeaths  Cases (+)  Deaths (+)  \\\n",
       "0              US  59767221  837264  59388529   836603     378692         661   \n",
       "1           India  35528004  483790  35368372   483463     159632         327   \n",
       "2          Brazil  22328252  619654  22328252   619654          0           0   \n",
       "3  United Kingdom  14422067  150537  14280816   150223     141251         314   \n",
       "4          France  11921925  126337  11623327   126202     298598         135   \n",
       "\n",
       "   Fatality Rate      Continent  \n",
       "0           1.40  North America  \n",
       "1           1.36           Asia  \n",
       "2           2.78  South America  \n",
       "3           1.04         Europe  \n",
       "4           1.06         Europe  "
      ]
     },
     "execution_count": 13,
     "metadata": {},
     "output_type": "execute_result"
    }
   ],
   "source": [
    "#hide\n",
    "for c in 'Cases, Deaths'.split(', '):\n",
    "    df_table[f'{c} (+)'] = (df_table[c] - df_table[f'P{c}']).clip(0)\n",
    "    #Clip ça veut dire, les chiffres negatif sont interdit\n",
    "df_table['Fatality Rate'] = (100* df_table['Deaths']/ df_table['Cases']).round(2)\n",
    "df_table['Continent'] = df_table['Country/Region'].map(mapping['map.continent'])\n",
    "df_table.head(5)"
   ]
  },
  {
   "cell_type": "code",
   "execution_count": 14,
   "id": "aboriginal-bulgaria",
   "metadata": {
    "execution": {
     "iopub.execute_input": "2022-01-09T12:13:07.355455Z",
     "iopub.status.busy": "2022-01-09T12:13:07.354674Z",
     "iopub.status.idle": "2022-01-09T12:13:07.358121Z",
     "shell.execute_reply": "2022-01-09T12:13:07.358655Z"
    },
    "papermill": {
     "duration": 0.051573,
     "end_time": "2022-01-09T12:13:07.358825",
     "exception": false,
     "start_time": "2022-01-09T12:13:07.307252",
     "status": "completed"
    },
    "tags": []
   },
   "outputs": [],
   "source": [
    "#hide\n",
    "#delete problematic countries from table\n",
    "df_table = df_table[~df_table['Country/Region'].isin(['Cape Verde', 'Cruise Ship', 'Kosovo'])]"
   ]
  },
  {
   "cell_type": "code",
   "execution_count": 15,
   "id": "fantastic-effect",
   "metadata": {
    "execution": {
     "iopub.execute_input": "2022-01-09T12:13:07.446604Z",
     "iopub.status.busy": "2022-01-09T12:13:07.445895Z",
     "iopub.status.idle": "2022-01-09T12:13:07.471158Z",
     "shell.execute_reply": "2022-01-09T12:13:07.470605Z"
    },
    "papermill": {
     "duration": 0.072315,
     "end_time": "2022-01-09T12:13:07.471287",
     "exception": false,
     "start_time": "2022-01-09T12:13:07.398972",
     "status": "completed"
    },
    "tags": []
   },
   "outputs": [
    {
     "data": {
      "text/html": [
       "<div>\n",
       "<style scoped>\n",
       "    .dataframe tbody tr th:only-of-type {\n",
       "        vertical-align: middle;\n",
       "    }\n",
       "\n",
       "    .dataframe tbody tr th {\n",
       "        vertical-align: top;\n",
       "    }\n",
       "\n",
       "    .dataframe thead th {\n",
       "        text-align: right;\n",
       "    }\n",
       "</style>\n",
       "<table border=\"1\" class=\"dataframe\">\n",
       "  <thead>\n",
       "    <tr style=\"text-align: right;\">\n",
       "      <th></th>\n",
       "      <th>Country/Region</th>\n",
       "      <th>Cases</th>\n",
       "      <th>Deaths</th>\n",
       "      <th>PCases</th>\n",
       "      <th>PDeaths</th>\n",
       "      <th>Cases (+)</th>\n",
       "      <th>Deaths (+)</th>\n",
       "      <th>Fatality Rate</th>\n",
       "      <th>Continent</th>\n",
       "    </tr>\n",
       "  </thead>\n",
       "  <tbody>\n",
       "    <tr>\n",
       "      <th>0</th>\n",
       "      <td>US</td>\n",
       "      <td>59767221</td>\n",
       "      <td>837264</td>\n",
       "      <td>59388529</td>\n",
       "      <td>836603</td>\n",
       "      <td>378692</td>\n",
       "      <td>661</td>\n",
       "      <td>1.4</td>\n",
       "      <td>North America</td>\n",
       "    </tr>\n",
       "    <tr>\n",
       "      <th>1</th>\n",
       "      <td>India</td>\n",
       "      <td>35528004</td>\n",
       "      <td>483790</td>\n",
       "      <td>35368372</td>\n",
       "      <td>483463</td>\n",
       "      <td>159632</td>\n",
       "      <td>327</td>\n",
       "      <td>1.4</td>\n",
       "      <td>Asia</td>\n",
       "    </tr>\n",
       "    <tr>\n",
       "      <th>2</th>\n",
       "      <td>Brazil</td>\n",
       "      <td>22328252</td>\n",
       "      <td>619654</td>\n",
       "      <td>22328252</td>\n",
       "      <td>619654</td>\n",
       "      <td>0</td>\n",
       "      <td>0</td>\n",
       "      <td>2.8</td>\n",
       "      <td>South America</td>\n",
       "    </tr>\n",
       "    <tr>\n",
       "      <th>3</th>\n",
       "      <td>United Kingdom</td>\n",
       "      <td>14422067</td>\n",
       "      <td>150537</td>\n",
       "      <td>14280816</td>\n",
       "      <td>150223</td>\n",
       "      <td>141251</td>\n",
       "      <td>314</td>\n",
       "      <td>1.0</td>\n",
       "      <td>Europe</td>\n",
       "    </tr>\n",
       "    <tr>\n",
       "      <th>4</th>\n",
       "      <td>France</td>\n",
       "      <td>11921925</td>\n",
       "      <td>126337</td>\n",
       "      <td>11623327</td>\n",
       "      <td>126202</td>\n",
       "      <td>298598</td>\n",
       "      <td>135</td>\n",
       "      <td>1.1</td>\n",
       "      <td>Europe</td>\n",
       "    </tr>\n",
       "  </tbody>\n",
       "</table>\n",
       "</div>"
      ],
      "text/plain": [
       "   Country/Region     Cases  Deaths    PCases  PDeaths  Cases (+)  Deaths (+)  \\\n",
       "0              US  59767221  837264  59388529   836603     378692         661   \n",
       "1           India  35528004  483790  35368372   483463     159632         327   \n",
       "2          Brazil  22328252  619654  22328252   619654          0           0   \n",
       "3  United Kingdom  14422067  150537  14280816   150223     141251         314   \n",
       "4          France  11921925  126337  11623327   126202     298598         135   \n",
       "\n",
       "   Fatality Rate      Continent  \n",
       "0            1.4  North America  \n",
       "1            1.4           Asia  \n",
       "2            2.8  South America  \n",
       "3            1.0         Europe  \n",
       "4            1.1         Europe  "
      ]
     },
     "execution_count": 15,
     "metadata": {},
     "output_type": "execute_result"
    }
   ],
   "source": [
    "#hide\n",
    "df_table = (pd.DataFrame(dict(Cases=dfc_cases, Deaths=dfc_deaths, PCases=dfp_cases, PDeaths=dfp_deaths))\n",
    "             .sort_values(by=['Cases', 'Deaths'], ascending=[False, False])\n",
    "             .reset_index())\n",
    "df_table.rename(columns={'index': 'Country/Region'}, inplace=True)\n",
    "for c in 'Cases, Deaths'.split(', '):\n",
    "    df_table[f'{c} (+)'] = (df_table[c] - df_table[f'P{c}']).clip(0)  # DATA BUG\n",
    "df_table['Fatality Rate'] = (100 * df_table['Deaths'] / df_table['Cases']).round(1)\n",
    "df_table['Continent'] = df_table['Country/Region'].map(mapping['map.continent'])\n",
    "df_table.head(5)"
   ]
  },
  {
   "cell_type": "code",
   "execution_count": 16,
   "id": "fewer-occasion",
   "metadata": {
    "execution": {
     "iopub.execute_input": "2022-01-09T12:13:07.557666Z",
     "iopub.status.busy": "2022-01-09T12:13:07.557030Z",
     "iopub.status.idle": "2022-01-09T12:13:07.560056Z",
     "shell.execute_reply": "2022-01-09T12:13:07.559525Z"
    },
    "papermill": {
     "duration": 0.048304,
     "end_time": "2022-01-09T12:13:07.560206",
     "exception": false,
     "start_time": "2022-01-09T12:13:07.511902",
     "status": "completed"
    },
    "tags": []
   },
   "outputs": [],
   "source": [
    "#hide\n",
    "#delete problematic countries from table\n",
    "df_table = df_table[~df_table['Country/Region'].isin(['Cape Verde', 'Cruise Ship', 'Kosovo'])]"
   ]
  },
  {
   "cell_type": "code",
   "execution_count": 17,
   "id": "related-center",
   "metadata": {
    "execution": {
     "iopub.execute_input": "2022-01-09T12:13:07.665115Z",
     "iopub.status.busy": "2022-01-09T12:13:07.664356Z",
     "iopub.status.idle": "2022-01-09T12:13:07.666869Z",
     "shell.execute_reply": "2022-01-09T12:13:07.667399Z"
    },
    "papermill": {
     "duration": 0.064666,
     "end_time": "2022-01-09T12:13:07.667555",
     "exception": false,
     "start_time": "2022-01-09T12:13:07.602889",
     "status": "completed"
    },
    "tags": []
   },
   "outputs": [],
   "source": [
    "#hide\n",
    "metrics = [df_table.columns[index] for index in [1,2,5,6]]\n",
    "# s_china = df_table[df_table['Country/Region'].eq('China')][metrics].sum().add_prefix('China ')\n",
    "s_us = df_table[df_table['Country/Region'].eq('US')][metrics].sum().add_prefix('US ')\n",
    "s_eu = df_table[df_table['Continent'].eq('Europe')][metrics].sum().add_prefix('EU ')\n",
    "s_ind = df_table[df_table['Country/Region'].eq('India')][metrics].sum().add_prefix('India ')\n",
    "summary = {'updated': pd.to_datetime(dt_today), 'since': pd.to_datetime(dt_yday)}\n",
    "summary = {'updated': pd.to_datetime(dt_today), 'since': pd.to_datetime(dt_yday)}\n",
    "summary = {**summary, **df_table[metrics].sum(), **s_ind, **s_us, **s_eu}"
   ]
  },
  {
   "cell_type": "code",
   "execution_count": 18,
   "id": "engaging-syndrome",
   "metadata": {
    "execution": {
     "iopub.execute_input": "2022-01-09T12:13:07.755297Z",
     "iopub.status.busy": "2022-01-09T12:13:07.754586Z",
     "iopub.status.idle": "2022-01-09T12:13:07.769966Z",
     "shell.execute_reply": "2022-01-09T12:13:07.770470Z"
    },
    "papermill": {
     "duration": 0.062189,
     "end_time": "2022-01-09T12:13:07.770672",
     "exception": false,
     "start_time": "2022-01-09T12:13:07.708483",
     "status": "completed"
    },
    "tags": []
   },
   "outputs": [],
   "source": [
    "#hide\n",
    "dft_ct_new_cases = dft_cases.groupby(COL_REGION)[dt_cols].sum().diff(axis=1).fillna(0).astype(int)"
   ]
  },
  {
   "cell_type": "code",
   "execution_count": 19,
   "id": "neutral-assignment",
   "metadata": {
    "execution": {
     "iopub.execute_input": "2022-01-09T12:13:07.864487Z",
     "iopub.status.busy": "2022-01-09T12:13:07.863665Z",
     "iopub.status.idle": "2022-01-09T12:13:07.866332Z",
     "shell.execute_reply": "2022-01-09T12:13:07.865635Z"
    },
    "papermill": {
     "duration": 0.048779,
     "end_time": "2022-01-09T12:13:07.866455",
     "exception": false,
     "start_time": "2022-01-09T12:13:07.817676",
     "status": "completed"
    },
    "tags": []
   },
   "outputs": [],
   "source": [
    "#hide\n",
    "everydaycases = dft_ct_new_cases.cumsum(axis=1)"
   ]
  },
  {
   "cell_type": "code",
   "execution_count": 20,
   "id": "parliamentary-calgary",
   "metadata": {
    "execution": {
     "iopub.execute_input": "2022-01-09T12:13:07.953541Z",
     "iopub.status.busy": "2022-01-09T12:13:07.952830Z",
     "iopub.status.idle": "2022-01-09T12:13:08.768292Z",
     "shell.execute_reply": "2022-01-09T12:13:08.769122Z"
    },
    "papermill": {
     "duration": 0.861684,
     "end_time": "2022-01-09T12:13:08.769308",
     "exception": false,
     "start_time": "2022-01-09T12:13:07.907624",
     "status": "completed"
    },
    "tags": []
   },
   "outputs": [],
   "source": [
    "#hide\n",
    "import pandas as pd\n",
    "import matplotlib.pyplot as plt\n",
    "import matplotlib.ticker as ticker\n",
    "import matplotlib.animation as animation\n",
    "from IPython.display import HTML"
   ]
  },
  {
   "cell_type": "code",
   "execution_count": 21,
   "id": "lasting-extraction",
   "metadata": {
    "execution": {
     "iopub.execute_input": "2022-01-09T12:13:08.865293Z",
     "iopub.status.busy": "2022-01-09T12:13:08.864650Z",
     "iopub.status.idle": "2022-01-09T12:13:08.871285Z",
     "shell.execute_reply": "2022-01-09T12:13:08.871889Z"
    },
    "papermill": {
     "duration": 0.059168,
     "end_time": "2022-01-09T12:13:08.872324",
     "exception": false,
     "start_time": "2022-01-09T12:13:08.813156",
     "status": "completed"
    },
    "tags": []
   },
   "outputs": [],
   "source": [
    "#hide\n",
    "t = everydaycases.stack()"
   ]
  },
  {
   "cell_type": "code",
   "execution_count": 22,
   "id": "premier-sleeve",
   "metadata": {
    "execution": {
     "iopub.execute_input": "2022-01-09T12:13:08.959233Z",
     "iopub.status.busy": "2022-01-09T12:13:08.958536Z",
     "iopub.status.idle": "2022-01-09T12:13:08.970500Z",
     "shell.execute_reply": "2022-01-09T12:13:08.969923Z"
    },
    "papermill": {
     "duration": 0.057106,
     "end_time": "2022-01-09T12:13:08.970640",
     "exception": false,
     "start_time": "2022-01-09T12:13:08.913534",
     "status": "completed"
    },
    "tags": []
   },
   "outputs": [],
   "source": [
    "#hide\n",
    "g = t.reset_index(['Country/Region'])"
   ]
  },
  {
   "cell_type": "code",
   "execution_count": 23,
   "id": "distributed-pittsburgh",
   "metadata": {
    "execution": {
     "iopub.execute_input": "2022-01-09T12:13:09.054940Z",
     "iopub.status.busy": "2022-01-09T12:13:09.054311Z",
     "iopub.status.idle": "2022-01-09T12:13:09.056801Z",
     "shell.execute_reply": "2022-01-09T12:13:09.056144Z"
    },
    "papermill": {
     "duration": 0.047605,
     "end_time": "2022-01-09T12:13:09.056921",
     "exception": false,
     "start_time": "2022-01-09T12:13:09.009316",
     "status": "completed"
    },
    "tags": []
   },
   "outputs": [],
   "source": [
    "#hide\n",
    "g.index.name = 'date'"
   ]
  },
  {
   "cell_type": "code",
   "execution_count": 24,
   "id": "naked-donor",
   "metadata": {
    "execution": {
     "iopub.execute_input": "2022-01-09T12:13:09.141699Z",
     "iopub.status.busy": "2022-01-09T12:13:09.141022Z",
     "iopub.status.idle": "2022-01-09T12:13:09.143794Z",
     "shell.execute_reply": "2022-01-09T12:13:09.143066Z"
    },
    "papermill": {
     "duration": 0.047257,
     "end_time": "2022-01-09T12:13:09.143927",
     "exception": false,
     "start_time": "2022-01-09T12:13:09.096670",
     "status": "completed"
    },
    "tags": []
   },
   "outputs": [],
   "source": [
    "# #hide\n",
    "# g = g.reset_index(['date'])"
   ]
  },
  {
   "cell_type": "code",
   "execution_count": 25,
   "id": "incomplete-mustang",
   "metadata": {
    "execution": {
     "iopub.execute_input": "2022-01-09T12:13:09.237075Z",
     "iopub.status.busy": "2022-01-09T12:13:09.236242Z",
     "iopub.status.idle": "2022-01-09T12:13:09.239615Z",
     "shell.execute_reply": "2022-01-09T12:13:09.239053Z"
    },
    "papermill": {
     "duration": 0.049352,
     "end_time": "2022-01-09T12:13:09.239773",
     "exception": false,
     "start_time": "2022-01-09T12:13:09.190421",
     "status": "completed"
    },
    "tags": []
   },
   "outputs": [],
   "source": [
    "#hide\n",
    "# g.head()"
   ]
  },
  {
   "cell_type": "code",
   "execution_count": 26,
   "id": "specific-kruger",
   "metadata": {
    "execution": {
     "iopub.execute_input": "2022-01-09T12:13:09.360909Z",
     "iopub.status.busy": "2022-01-09T12:13:09.360212Z",
     "iopub.status.idle": "2022-01-09T12:13:09.364978Z",
     "shell.execute_reply": "2022-01-09T12:13:09.365489Z"
    },
    "papermill": {
     "duration": 0.083442,
     "end_time": "2022-01-09T12:13:09.365656",
     "exception": false,
     "start_time": "2022-01-09T12:13:09.282214",
     "status": "completed"
    },
    "tags": []
   },
   "outputs": [],
   "source": [
    "#hide\n",
    "# g.columns = ['date','country','cases']"
   ]
  },
  {
   "cell_type": "code",
   "execution_count": 27,
   "id": "tender-conversion",
   "metadata": {
    "execution": {
     "iopub.execute_input": "2022-01-09T12:13:09.463664Z",
     "iopub.status.busy": "2022-01-09T12:13:09.462407Z",
     "iopub.status.idle": "2022-01-09T12:13:09.465480Z",
     "shell.execute_reply": "2022-01-09T12:13:09.466274Z"
    },
    "papermill": {
     "duration": 0.055976,
     "end_time": "2022-01-09T12:13:09.466453",
     "exception": false,
     "start_time": "2022-01-09T12:13:09.410477",
     "status": "completed"
    },
    "tags": []
   },
   "outputs": [],
   "source": [
    "#hide\n",
    "# g['continent'] = g.country"
   ]
  },
  {
   "cell_type": "code",
   "execution_count": 28,
   "id": "substantial-wilderness",
   "metadata": {
    "execution": {
     "iopub.execute_input": "2022-01-09T12:13:09.569762Z",
     "iopub.status.busy": "2022-01-09T12:13:09.569069Z",
     "iopub.status.idle": "2022-01-09T12:13:09.571827Z",
     "shell.execute_reply": "2022-01-09T12:13:09.571190Z"
    },
    "papermill": {
     "duration": 0.054566,
     "end_time": "2022-01-09T12:13:09.572010",
     "exception": false,
     "start_time": "2022-01-09T12:13:09.517444",
     "status": "completed"
    },
    "tags": []
   },
   "outputs": [],
   "source": [
    "#hide\n",
    "# cols = list(g.columns.values)"
   ]
  },
  {
   "cell_type": "code",
   "execution_count": 29,
   "id": "solved-farming",
   "metadata": {
    "execution": {
     "iopub.execute_input": "2022-01-09T12:13:09.662325Z",
     "iopub.status.busy": "2022-01-09T12:13:09.661646Z",
     "iopub.status.idle": "2022-01-09T12:13:09.665711Z",
     "shell.execute_reply": "2022-01-09T12:13:09.666256Z"
    },
    "papermill": {
     "duration": 0.053112,
     "end_time": "2022-01-09T12:13:09.666412",
     "exception": false,
     "start_time": "2022-01-09T12:13:09.613300",
     "status": "completed"
    },
    "tags": []
   },
   "outputs": [],
   "source": [
    "#hide\n",
    "# cols.insert(0, cols.pop())"
   ]
  },
  {
   "cell_type": "code",
   "execution_count": 30,
   "id": "executed-adoption",
   "metadata": {
    "execution": {
     "iopub.execute_input": "2022-01-09T12:13:09.755065Z",
     "iopub.status.busy": "2022-01-09T12:13:09.754323Z",
     "iopub.status.idle": "2022-01-09T12:13:09.757388Z",
     "shell.execute_reply": "2022-01-09T12:13:09.756812Z"
    },
    "papermill": {
     "duration": 0.050934,
     "end_time": "2022-01-09T12:13:09.757525",
     "exception": false,
     "start_time": "2022-01-09T12:13:09.706591",
     "status": "completed"
    },
    "tags": []
   },
   "outputs": [],
   "source": [
    "#hide\n",
    "# g = g[cols]"
   ]
  },
  {
   "cell_type": "code",
   "execution_count": 31,
   "id": "subject-dublin",
   "metadata": {
    "execution": {
     "iopub.execute_input": "2022-01-09T12:13:09.848504Z",
     "iopub.status.busy": "2022-01-09T12:13:09.847767Z",
     "iopub.status.idle": "2022-01-09T12:13:09.851507Z",
     "shell.execute_reply": "2022-01-09T12:13:09.850759Z"
    },
    "papermill": {
     "duration": 0.050584,
     "end_time": "2022-01-09T12:13:09.851647",
     "exception": false,
     "start_time": "2022-01-09T12:13:09.801063",
     "status": "completed"
    },
    "tags": []
   },
   "outputs": [],
   "source": [
    "#hide\n",
    "# g['continent'] = g['continent'].map(mapping['map.continent'])"
   ]
  },
  {
   "cell_type": "code",
   "execution_count": 32,
   "id": "freelance-scout",
   "metadata": {
    "execution": {
     "iopub.execute_input": "2022-01-09T12:13:09.942927Z",
     "iopub.status.busy": "2022-01-09T12:13:09.942122Z",
     "iopub.status.idle": "2022-01-09T12:13:09.944145Z",
     "shell.execute_reply": "2022-01-09T12:13:09.944732Z"
    },
    "papermill": {
     "duration": 0.050634,
     "end_time": "2022-01-09T12:13:09.944907",
     "exception": false,
     "start_time": "2022-01-09T12:13:09.894273",
     "status": "completed"
    },
    "tags": []
   },
   "outputs": [],
   "source": [
    "#hide\n",
    "# g.head()"
   ]
  },
  {
   "cell_type": "code",
   "execution_count": 33,
   "id": "limited-engine",
   "metadata": {
    "execution": {
     "iopub.execute_input": "2022-01-09T12:13:10.034808Z",
     "iopub.status.busy": "2022-01-09T12:13:10.033964Z",
     "iopub.status.idle": "2022-01-09T12:13:10.038230Z",
     "shell.execute_reply": "2022-01-09T12:13:10.038790Z"
    },
    "papermill": {
     "duration": 0.058949,
     "end_time": "2022-01-09T12:13:10.045713",
     "exception": false,
     "start_time": "2022-01-09T12:13:09.986764",
     "status": "completed"
    },
    "tags": []
   },
   "outputs": [],
   "source": [
    "# hide\n",
    "# g['date'] = g['date'].astype('datetime64[ns]')"
   ]
  },
  {
   "cell_type": "code",
   "execution_count": 34,
   "id": "sophisticated-supervisor",
   "metadata": {
    "execution": {
     "iopub.execute_input": "2022-01-09T12:13:10.141477Z",
     "iopub.status.busy": "2022-01-09T12:13:10.139602Z",
     "iopub.status.idle": "2022-01-09T12:13:10.143110Z",
     "shell.execute_reply": "2022-01-09T12:13:10.142381Z"
    },
    "papermill": {
     "duration": 0.052291,
     "end_time": "2022-01-09T12:13:10.143252",
     "exception": false,
     "start_time": "2022-01-09T12:13:10.090961",
     "status": "completed"
    },
    "tags": []
   },
   "outputs": [],
   "source": [
    "#hide\n",
    "# g['date'] = g.date.dt.dayofyear"
   ]
  },
  {
   "cell_type": "code",
   "execution_count": 35,
   "id": "inside-dubai",
   "metadata": {
    "execution": {
     "iopub.execute_input": "2022-01-09T12:13:10.229224Z",
     "iopub.status.busy": "2022-01-09T12:13:10.228505Z",
     "iopub.status.idle": "2022-01-09T12:13:10.231422Z",
     "shell.execute_reply": "2022-01-09T12:13:10.230593Z"
    },
    "papermill": {
     "duration": 0.047222,
     "end_time": "2022-01-09T12:13:10.231579",
     "exception": false,
     "start_time": "2022-01-09T12:13:10.184357",
     "status": "completed"
    },
    "tags": []
   },
   "outputs": [],
   "source": [
    "#hide\n",
    "# g = g.rename(columns= {'continent':'group','country':'name','cases':'value'})"
   ]
  },
  {
   "cell_type": "code",
   "execution_count": 36,
   "id": "fleet-motorcycle",
   "metadata": {
    "execution": {
     "iopub.execute_input": "2022-01-09T12:13:10.322241Z",
     "iopub.status.busy": "2022-01-09T12:13:10.321498Z",
     "iopub.status.idle": "2022-01-09T12:13:10.328231Z",
     "shell.execute_reply": "2022-01-09T12:13:10.328849Z"
    },
    "papermill": {
     "duration": 0.055483,
     "end_time": "2022-01-09T12:13:10.329017",
     "exception": false,
     "start_time": "2022-01-09T12:13:10.273534",
     "status": "completed"
    },
    "tags": []
   },
   "outputs": [],
   "source": [
    "#hide\n",
    "# cols = ['name','group','day','value']"
   ]
  },
  {
   "cell_type": "code",
   "execution_count": 37,
   "id": "continued-sleeping",
   "metadata": {
    "execution": {
     "iopub.execute_input": "2022-01-09T12:13:10.415461Z",
     "iopub.status.busy": "2022-01-09T12:13:10.414720Z",
     "iopub.status.idle": "2022-01-09T12:13:10.417268Z",
     "shell.execute_reply": "2022-01-09T12:13:10.416589Z"
    },
    "papermill": {
     "duration": 0.046486,
     "end_time": "2022-01-09T12:13:10.417401",
     "exception": false,
     "start_time": "2022-01-09T12:13:10.370915",
     "status": "completed"
    },
    "tags": []
   },
   "outputs": [],
   "source": [
    "#hide\n",
    "# g.rename(columns= {'date':'day'},inplace = True)"
   ]
  },
  {
   "cell_type": "code",
   "execution_count": 38,
   "id": "major-fight",
   "metadata": {
    "execution": {
     "iopub.execute_input": "2022-01-09T12:13:10.505643Z",
     "iopub.status.busy": "2022-01-09T12:13:10.504888Z",
     "iopub.status.idle": "2022-01-09T12:13:10.507055Z",
     "shell.execute_reply": "2022-01-09T12:13:10.506409Z"
    },
    "papermill": {
     "duration": 0.047598,
     "end_time": "2022-01-09T12:13:10.507190",
     "exception": false,
     "start_time": "2022-01-09T12:13:10.459592",
     "status": "completed"
    },
    "tags": []
   },
   "outputs": [],
   "source": [
    "#hide\n",
    "# g = g[cols]"
   ]
  },
  {
   "cell_type": "code",
   "execution_count": 39,
   "id": "structured-mobile",
   "metadata": {
    "execution": {
     "iopub.execute_input": "2022-01-09T12:13:10.596697Z",
     "iopub.status.busy": "2022-01-09T12:13:10.595995Z",
     "iopub.status.idle": "2022-01-09T12:13:10.598363Z",
     "shell.execute_reply": "2022-01-09T12:13:10.597714Z"
    },
    "papermill": {
     "duration": 0.049047,
     "end_time": "2022-01-09T12:13:10.598493",
     "exception": false,
     "start_time": "2022-01-09T12:13:10.549446",
     "status": "completed"
    },
    "tags": []
   },
   "outputs": [],
   "source": [
    "# #hide\n",
    "# g = g[g.group.notna()]"
   ]
  },
  {
   "cell_type": "code",
   "execution_count": 40,
   "id": "determined-closing",
   "metadata": {
    "execution": {
     "iopub.execute_input": "2022-01-09T12:13:10.686403Z",
     "iopub.status.busy": "2022-01-09T12:13:10.685723Z",
     "iopub.status.idle": "2022-01-09T12:13:10.688870Z",
     "shell.execute_reply": "2022-01-09T12:13:10.688258Z"
    },
    "papermill": {
     "duration": 0.049089,
     "end_time": "2022-01-09T12:13:10.689056",
     "exception": false,
     "start_time": "2022-01-09T12:13:10.639967",
     "status": "completed"
    },
    "tags": []
   },
   "outputs": [],
   "source": [
    "# #hide\n",
    "# colors = dict(zip(\n",
    "#     [\"Oceania\", \"Europe\", \"Asia\", \"South America\", \"Middle East\", \"North America\", \"Africa\"],\n",
    "#     [\"#adb0ff\", \"#ffb3ff\", \"#90d595\", \"#e48381\", \"#aafbff\", \"#f7bb5f\", \"#eafb50\"]\n",
    "# ))\n",
    "# group_lk = g.set_index('name')['group'].to_dict()"
   ]
  },
  {
   "cell_type": "code",
   "execution_count": null,
   "id": "gross-drinking",
   "metadata": {
    "papermill": {
     "duration": 0.042914,
     "end_time": "2022-01-09T12:13:10.772999",
     "exception": false,
     "start_time": "2022-01-09T12:13:10.730085",
     "status": "completed"
    },
    "tags": []
   },
   "outputs": [],
   "source": []
  },
  {
   "cell_type": "code",
   "execution_count": 41,
   "id": "subject-macintosh",
   "metadata": {
    "execution": {
     "iopub.execute_input": "2022-01-09T12:13:10.865925Z",
     "iopub.status.busy": "2022-01-09T12:13:10.865236Z",
     "iopub.status.idle": "2022-01-09T12:13:10.869963Z",
     "shell.execute_reply": "2022-01-09T12:13:10.869281Z"
    },
    "papermill": {
     "duration": 0.054176,
     "end_time": "2022-01-09T12:13:10.870094",
     "exception": false,
     "start_time": "2022-01-09T12:13:10.815918",
     "status": "completed"
    },
    "tags": []
   },
   "outputs": [],
   "source": [
    "# #hide\n",
    "# fig, ax = plt.subplots(figsize=(15, 8))\n",
    "\n",
    "# def draw_barchart(current_day):\n",
    "#     dff = g[g['day'].eq(current_day)].sort_values(by='value', ascending=True).tail(10)\n",
    "#     ax.clear()\n",
    "#     ax.barh(dff['name'], dff['value'], color=[colors[group_lk[x]] for x in dff['name']])\n",
    "#     dx = dff['value'].max() / 200\n",
    "    \n",
    "#     for i, (value, name) in enumerate(zip(dff['value'], dff['name'])):\n",
    "#         ax.text(value-dx, i,     name,           size=14, weight=600, ha='right', va='bottom')\n",
    "#         ax.text(value-dx, i-.25, group_lk[name], size=10, color='#444444', ha='right', va='baseline')\n",
    "#         ax.text(value+dx, i,     f'{value:,.0f}',  size=14, ha='left',  va='center')\n",
    "#     ax.text(1, 0.4, current_day, transform=ax.transAxes, color='#777777', size=46, ha='right', weight=800)\n",
    "#     ax.text(0, 1.06, 'Population (thousands)', transform=ax.transAxes, size=12, color='#777777')\n",
    "#     ax.xaxis.set_major_formatter(ticker.StrMethodFormatter('{x:,.0f}'))\n",
    "#     ax.xaxis.set_ticks_position('top')\n",
    "#     ax.tick_params(axis='x', colors='#777777', labelsize=12)\n",
    "#     ax.set_yticks([])\n",
    "#     ax.margins(0, 0.01)\n",
    "#     ax.grid(which='major', axis='x', linestyle='-')\n",
    "#     ax.set_axisbelow(True)\n",
    "    \n",
    "#     ax.text(0, 1.15, 'Coronavirus',\n",
    "#             transform=ax.transAxes, size=24, weight=600, ha='left', va='top')\n",
    "# #     ax.text(1, 0, 'by @pratapvardhan; credit @jburnmurdoch', transform=ax.transAxes, color='#777777', ha='right',\n",
    "# #             bbox=dict(facecolor='white', alpha=0.8, edgecolor='white'))\n",
    "#     plt.box(False)"
   ]
  },
  {
   "cell_type": "code",
   "execution_count": 42,
   "id": "sexual-wages",
   "metadata": {
    "execution": {
     "iopub.execute_input": "2022-01-09T12:13:10.956058Z",
     "iopub.status.busy": "2022-01-09T12:13:10.955350Z",
     "iopub.status.idle": "2022-01-09T12:13:10.959028Z",
     "shell.execute_reply": "2022-01-09T12:13:10.959661Z"
    },
    "papermill": {
     "duration": 0.049587,
     "end_time": "2022-01-09T12:13:10.959850",
     "exception": false,
     "start_time": "2022-01-09T12:13:10.910263",
     "status": "completed"
    },
    "tags": []
   },
   "outputs": [],
   "source": [
    "# #hide_input\n",
    "# fig, ax = plt.subplots(figsize=(15, 8))\n",
    "# animator = animation.FuncAnimation(fig, draw_barchart, frames=range(g.day.values.min(), g.day.values.max()))\n",
    "# HTML(animator.to_jshtml())\n",
    "# # or use animator.to_html5_video() or animator.save() "
   ]
  },
  {
   "cell_type": "code",
   "execution_count": null,
   "id": "australian-container",
   "metadata": {
    "papermill": {
     "duration": 0.040027,
     "end_time": "2022-01-09T12:13:11.041117",
     "exception": false,
     "start_time": "2022-01-09T12:13:11.001090",
     "status": "completed"
    },
    "tags": []
   },
   "outputs": [],
   "source": []
  },
  {
   "cell_type": "code",
   "execution_count": null,
   "id": "mediterranean-pontiac",
   "metadata": {
    "papermill": {
     "duration": 0.040791,
     "end_time": "2022-01-09T12:13:11.122228",
     "exception": false,
     "start_time": "2022-01-09T12:13:11.081437",
     "status": "completed"
    },
    "tags": []
   },
   "outputs": [],
   "source": []
  },
  {
   "cell_type": "code",
   "execution_count": null,
   "id": "aging-legislature",
   "metadata": {
    "papermill": {
     "duration": 0.041952,
     "end_time": "2022-01-09T12:13:11.205935",
     "exception": false,
     "start_time": "2022-01-09T12:13:11.163983",
     "status": "completed"
    },
    "tags": []
   },
   "outputs": [],
   "source": []
  }
 ],
 "metadata": {
  "kernelspec": {
   "display_name": "Python 3",
   "language": "python",
   "name": "python3"
  },
  "language_info": {
   "codemirror_mode": {
    "name": "ipython",
    "version": 3
   },
   "file_extension": ".py",
   "mimetype": "text/x-python",
   "name": "python",
   "nbconvert_exporter": "python",
   "pygments_lexer": "ipython3",
   "version": "3.6.15"
  },
  "papermill": {
   "duration": 7.959334,
   "end_time": "2022-01-09T12:13:11.557634",
   "environment_variables": {},
   "exception": null,
   "input_path": "2020-03-21-covid19exp.ipynb",
   "output_path": "2020-03-21-covid19exp.ipynb",
   "parameters": {},
   "start_time": "2022-01-09T12:13:03.598300",
   "version": "2.0.0"
  }
 },
 "nbformat": 4,
 "nbformat_minor": 5
}