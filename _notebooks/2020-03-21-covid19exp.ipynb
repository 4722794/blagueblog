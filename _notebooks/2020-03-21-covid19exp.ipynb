{
 "cells": [
  {
   "cell_type": "markdown",
   "id": "muslim-click",
   "metadata": {
    "papermill": {
     "duration": 0.035348,
     "end_time": "2022-09-02T00:49:13.651185",
     "exception": false,
     "start_time": "2022-09-02T00:49:13.615837",
     "status": "completed"
    },
    "tags": []
   },
   "source": [
    "# COVID-19 Case Race\n",
    "> A race chart to see rising cases around the world\n",
    "\n",
    "- author: Hargun Oberoi\n",
    "- image: images/covid-overview.png\n",
    "- hide: false\n",
    "- badges: false"
   ]
  },
  {
   "cell_type": "code",
   "execution_count": 1,
   "id": "proof-material",
   "metadata": {
    "execution": {
     "iopub.execute_input": "2022-09-02T00:49:13.720857Z",
     "iopub.status.busy": "2022-09-02T00:49:13.720213Z",
     "iopub.status.idle": "2022-09-02T00:49:14.050212Z",
     "shell.execute_reply": "2022-09-02T00:49:14.049626Z"
    },
    "papermill": {
     "duration": 0.369159,
     "end_time": "2022-09-02T00:49:14.050366",
     "exception": false,
     "start_time": "2022-09-02T00:49:13.681207",
     "status": "completed"
    },
    "tags": []
   },
   "outputs": [],
   "source": [
    "#hide\n",
    "import numpy as np\n",
    "import pandas as pd\n",
    "from jinja2 import Template\n",
    "from IPython.display import HTML"
   ]
  },
  {
   "cell_type": "code",
   "execution_count": 2,
   "id": "developed-terminology",
   "metadata": {
    "execution": {
     "iopub.execute_input": "2022-09-02T00:49:14.115150Z",
     "iopub.status.busy": "2022-09-02T00:49:14.114494Z",
     "iopub.status.idle": "2022-09-02T00:49:14.116923Z",
     "shell.execute_reply": "2022-09-02T00:49:14.116341Z"
    },
    "papermill": {
     "duration": 0.036949,
     "end_time": "2022-09-02T00:49:14.117057",
     "exception": false,
     "start_time": "2022-09-02T00:49:14.080108",
     "status": "completed"
    },
    "tags": []
   },
   "outputs": [],
   "source": [
    "#hide\n",
    "\n",
    "# FETCH\n",
    "base_url = 'https://raw.githubusercontent.com/pratapvardhan/notebooks/master/covid19/'\n",
    "paths = {\n",
    "    'mapping': base_url + 'mapping_countries.csv',\n",
    "    'overview': base_url + 'overview.tpl'\n",
    "}"
   ]
  },
  {
   "cell_type": "code",
   "execution_count": 3,
   "id": "dynamic-saver",
   "metadata": {
    "execution": {
     "iopub.execute_input": "2022-09-02T00:49:14.186093Z",
     "iopub.status.busy": "2022-09-02T00:49:14.183851Z",
     "iopub.status.idle": "2022-09-02T00:49:14.189098Z",
     "shell.execute_reply": "2022-09-02T00:49:14.189532Z"
    },
    "papermill": {
     "duration": 0.04316,
     "end_time": "2022-09-02T00:49:14.189670",
     "exception": false,
     "start_time": "2022-09-02T00:49:14.146510",
     "status": "completed"
    },
    "tags": []
   },
   "outputs": [
    {
     "data": {
      "text/plain": [
       "'https://raw.githubusercontent.com/pratapvardhan/notebooks/master/covid19/mapping_countries.csv'"
      ]
     },
     "execution_count": 3,
     "metadata": {},
     "output_type": "execute_result"
    }
   ],
   "source": [
    "#hide\n",
    "paths['mapping']"
   ]
  },
  {
   "cell_type": "code",
   "execution_count": 4,
   "id": "urban-software",
   "metadata": {
    "execution": {
     "iopub.execute_input": "2022-09-02T00:49:14.255046Z",
     "iopub.status.busy": "2022-09-02T00:49:14.254338Z",
     "iopub.status.idle": "2022-09-02T00:49:14.256723Z",
     "shell.execute_reply": "2022-09-02T00:49:14.256138Z"
    },
    "papermill": {
     "duration": 0.037391,
     "end_time": "2022-09-02T00:49:14.256839",
     "exception": false,
     "start_time": "2022-09-02T00:49:14.219448",
     "status": "completed"
    },
    "tags": []
   },
   "outputs": [],
   "source": [
    "#hide\n",
    "def get_mappings(url):\n",
    "    df = pd.read_csv(url)\n",
    "    return {\n",
    "        'df': df,\n",
    "        'replace.country': dict(df.dropna(subset=['Name']).set_index('Country')['Name']),\n",
    "        'map.continent': dict(df.set_index('Name')['Continent'])\n",
    "    }"
   ]
  },
  {
   "cell_type": "code",
   "execution_count": 5,
   "id": "intimate-machinery",
   "metadata": {
    "execution": {
     "iopub.execute_input": "2022-09-02T00:49:14.321991Z",
     "iopub.status.busy": "2022-09-02T00:49:14.321370Z",
     "iopub.status.idle": "2022-09-02T00:49:14.364051Z",
     "shell.execute_reply": "2022-09-02T00:49:14.363456Z"
    },
    "papermill": {
     "duration": 0.077629,
     "end_time": "2022-09-02T00:49:14.364185",
     "exception": false,
     "start_time": "2022-09-02T00:49:14.286556",
     "status": "completed"
    },
    "tags": []
   },
   "outputs": [],
   "source": [
    "#hide\n",
    "mapping = get_mappings(paths['mapping'])"
   ]
  },
  {
   "cell_type": "code",
   "execution_count": 6,
   "id": "certified-tactics",
   "metadata": {
    "execution": {
     "iopub.execute_input": "2022-09-02T00:49:14.430142Z",
     "iopub.status.busy": "2022-09-02T00:49:14.429464Z",
     "iopub.status.idle": "2022-09-02T00:49:14.431893Z",
     "shell.execute_reply": "2022-09-02T00:49:14.431315Z"
    },
    "papermill": {
     "duration": 0.037485,
     "end_time": "2022-09-02T00:49:14.432009",
     "exception": false,
     "start_time": "2022-09-02T00:49:14.394524",
     "status": "completed"
    },
    "tags": []
   },
   "outputs": [],
   "source": [
    "#hide\n",
    "def get_template(path):\n",
    "    from urllib.parse import urlparse\n",
    "    if bool(urlparse(path).netloc):\n",
    "        from urllib.request import urlopen\n",
    "        return urlopen(path).read().decode('utf8')\n",
    "    return open(path).read()"
   ]
  },
  {
   "cell_type": "code",
   "execution_count": 7,
   "id": "realistic-blast",
   "metadata": {
    "execution": {
     "iopub.execute_input": "2022-09-02T00:49:14.496646Z",
     "iopub.status.busy": "2022-09-02T00:49:14.496040Z",
     "iopub.status.idle": "2022-09-02T00:49:14.498612Z",
     "shell.execute_reply": "2022-09-02T00:49:14.499091Z"
    },
    "papermill": {
     "duration": 0.037464,
     "end_time": "2022-09-02T00:49:14.499221",
     "exception": false,
     "start_time": "2022-09-02T00:49:14.461757",
     "status": "completed"
    },
    "tags": []
   },
   "outputs": [],
   "source": [
    "#hide\n",
    "def get_frame(name):\n",
    "    url = (\n",
    "        'https://raw.githubusercontent.com/CSSEGISandData/COVID-19/master/csse_covid_19_data/'\n",
    "        f'csse_covid_19_time_series/time_series_covid19_{name}_global.csv')\n",
    "    df = pd.read_csv(url)\n",
    "    # rename countries\n",
    "    df['Country/Region'] = df['Country/Region'].replace(mapping['replace.country'])\n",
    "    return df"
   ]
  },
  {
   "cell_type": "code",
   "execution_count": 8,
   "id": "affiliated-characterization",
   "metadata": {
    "execution": {
     "iopub.execute_input": "2022-09-02T00:49:14.564551Z",
     "iopub.status.busy": "2022-09-02T00:49:14.563934Z",
     "iopub.status.idle": "2022-09-02T00:49:14.566758Z",
     "shell.execute_reply": "2022-09-02T00:49:14.566280Z"
    },
    "papermill": {
     "duration": 0.037947,
     "end_time": "2022-09-02T00:49:14.566868",
     "exception": false,
     "start_time": "2022-09-02T00:49:14.528921",
     "status": "completed"
    },
    "tags": []
   },
   "outputs": [],
   "source": [
    "#hide\n",
    "def get_dates(df):\n",
    "    dt_cols = df.columns[~df.columns.isin(['Province/State', 'Country/Region', 'Lat', 'Long'])]\n",
    "    LAST_DATE_I = -1\n",
    "    # sometimes last column may be empty, then go backwards\n",
    "    for i in range(-1, -len(dt_cols), -1):\n",
    "        if not df[dt_cols[i]].fillna(0).eq(0).all():\n",
    "            LAST_DATE_I = i\n",
    "            break\n",
    "    return LAST_DATE_I, dt_cols"
   ]
  },
  {
   "cell_type": "code",
   "execution_count": 9,
   "id": "recent-optimization",
   "metadata": {
    "execution": {
     "iopub.execute_input": "2022-09-02T00:49:14.630930Z",
     "iopub.status.busy": "2022-09-02T00:49:14.630325Z",
     "iopub.status.idle": "2022-09-02T00:49:15.479699Z",
     "shell.execute_reply": "2022-09-02T00:49:15.479181Z"
    },
    "papermill": {
     "duration": 0.883561,
     "end_time": "2022-09-02T00:49:15.479829",
     "exception": false,
     "start_time": "2022-09-02T00:49:14.596268",
     "status": "completed"
    },
    "tags": []
   },
   "outputs": [],
   "source": [
    "#hide\n",
    "COL_REGION = 'Country/Region'\n",
    "# Confirmed, Recovered, Deaths\n",
    "df = get_frame('confirmed')\n",
    "# dft_: timeseries, dfc_: today country agg\n",
    "dft_cases = df\n",
    "dft_deaths = get_frame('deaths')\n",
    "dft_recovered = get_frame('recovered')\n",
    "LAST_DATE_I, dt_cols = get_dates(df)"
   ]
  },
  {
   "cell_type": "code",
   "execution_count": 10,
   "id": "absolute-copper",
   "metadata": {
    "execution": {
     "iopub.execute_input": "2022-09-02T00:49:15.545826Z",
     "iopub.status.busy": "2022-09-02T00:49:15.545201Z",
     "iopub.status.idle": "2022-09-02T00:49:15.547565Z",
     "shell.execute_reply": "2022-09-02T00:49:15.548125Z"
    },
    "papermill": {
     "duration": 0.038431,
     "end_time": "2022-09-02T00:49:15.548263",
     "exception": false,
     "start_time": "2022-09-02T00:49:15.509832",
     "status": "completed"
    },
    "tags": []
   },
   "outputs": [],
   "source": [
    "#hide\n",
    "LAST_DATE_I, dt_cols = get_dates(df)\n",
    "dt_today =dt_cols[LAST_DATE_I]\n",
    "# dt_5day = dt_cols[LAST_DATE_I - 5]\n",
    "dt_yday = dt_cols[LAST_DATE_I - 1]"
   ]
  },
  {
   "cell_type": "code",
   "execution_count": 11,
   "id": "restricted-sheriff",
   "metadata": {
    "execution": {
     "iopub.execute_input": "2022-09-02T00:49:15.615485Z",
     "iopub.status.busy": "2022-09-02T00:49:15.614864Z",
     "iopub.status.idle": "2022-09-02T00:49:15.620933Z",
     "shell.execute_reply": "2022-09-02T00:49:15.621429Z"
    },
    "papermill": {
     "duration": 0.043642,
     "end_time": "2022-09-02T00:49:15.621573",
     "exception": false,
     "start_time": "2022-09-02T00:49:15.577931",
     "status": "completed"
    },
    "tags": []
   },
   "outputs": [],
   "source": [
    "#hide\n",
    "dfc_cases = dft_cases.groupby(COL_REGION)[dt_today].sum()\n",
    "dfc_deaths = dft_deaths.groupby(COL_REGION)[dt_today].sum()\n",
    "# dfp_cases = dft_cases.groupby(COL_REGION)[dt_5day].sum()\n",
    "# dfp_deaths = dft_deaths.groupby(COL_REGION)[dt_5day].sum()\n",
    "dfp_cases = dft_cases.groupby(COL_REGION)[dt_yday].sum()\n",
    "dfp_deaths = dft_deaths.groupby(COL_REGION)[dt_yday].sum()"
   ]
  },
  {
   "cell_type": "code",
   "execution_count": 12,
   "id": "deluxe-hepatitis",
   "metadata": {
    "execution": {
     "iopub.execute_input": "2022-09-02T00:49:15.687966Z",
     "iopub.status.busy": "2022-09-02T00:49:15.687344Z",
     "iopub.status.idle": "2022-09-02T00:49:15.692131Z",
     "shell.execute_reply": "2022-09-02T00:49:15.692694Z"
    },
    "papermill": {
     "duration": 0.041347,
     "end_time": "2022-09-02T00:49:15.692829",
     "exception": false,
     "start_time": "2022-09-02T00:49:15.651482",
     "status": "completed"
    },
    "tags": []
   },
   "outputs": [],
   "source": [
    "#hide\n",
    "df_table = (pd.DataFrame(dict(Cases = dfc_cases, Deaths = dfc_deaths, PCases = dfp_cases, PDeaths = dfp_deaths))\n",
    "            .sort_values(by = ['Cases','Deaths'], ascending = [False, False])\n",
    "            .reset_index())"
   ]
  },
  {
   "cell_type": "code",
   "execution_count": 13,
   "id": "educational-chancellor",
   "metadata": {
    "execution": {
     "iopub.execute_input": "2022-09-02T00:49:15.771622Z",
     "iopub.status.busy": "2022-09-02T00:49:15.770983Z",
     "iopub.status.idle": "2022-09-02T00:49:15.779581Z",
     "shell.execute_reply": "2022-09-02T00:49:15.779092Z"
    },
    "papermill": {
     "duration": 0.057126,
     "end_time": "2022-09-02T00:49:15.779699",
     "exception": false,
     "start_time": "2022-09-02T00:49:15.722573",
     "status": "completed"
    },
    "tags": []
   },
   "outputs": [
    {
     "data": {
      "text/html": [
       "<div>\n",
       "<style scoped>\n",
       "    .dataframe tbody tr th:only-of-type {\n",
       "        vertical-align: middle;\n",
       "    }\n",
       "\n",
       "    .dataframe tbody tr th {\n",
       "        vertical-align: top;\n",
       "    }\n",
       "\n",
       "    .dataframe thead th {\n",
       "        text-align: right;\n",
       "    }\n",
       "</style>\n",
       "<table border=\"1\" class=\"dataframe\">\n",
       "  <thead>\n",
       "    <tr style=\"text-align: right;\">\n",
       "      <th></th>\n",
       "      <th>Country/Region</th>\n",
       "      <th>Cases</th>\n",
       "      <th>Deaths</th>\n",
       "      <th>PCases</th>\n",
       "      <th>PDeaths</th>\n",
       "      <th>Cases (+)</th>\n",
       "      <th>Deaths (+)</th>\n",
       "      <th>Fatality Rate</th>\n",
       "      <th>Continent</th>\n",
       "    </tr>\n",
       "  </thead>\n",
       "  <tbody>\n",
       "    <tr>\n",
       "      <th>0</th>\n",
       "      <td>US</td>\n",
       "      <td>94531854</td>\n",
       "      <td>1046327</td>\n",
       "      <td>94378287</td>\n",
       "      <td>1044809</td>\n",
       "      <td>153567</td>\n",
       "      <td>1518</td>\n",
       "      <td>1.11</td>\n",
       "      <td>North America</td>\n",
       "    </tr>\n",
       "    <tr>\n",
       "      <th>1</th>\n",
       "      <td>India</td>\n",
       "      <td>44436339</td>\n",
       "      <td>527911</td>\n",
       "      <td>44415723</td>\n",
       "      <td>527799</td>\n",
       "      <td>20616</td>\n",
       "      <td>112</td>\n",
       "      <td>1.19</td>\n",
       "      <td>Asia</td>\n",
       "    </tr>\n",
       "    <tr>\n",
       "      <th>2</th>\n",
       "      <td>France</td>\n",
       "      <td>34745833</td>\n",
       "      <td>155133</td>\n",
       "      <td>34726269</td>\n",
       "      <td>155079</td>\n",
       "      <td>19564</td>\n",
       "      <td>54</td>\n",
       "      <td>0.45</td>\n",
       "      <td>Europe</td>\n",
       "    </tr>\n",
       "    <tr>\n",
       "      <th>3</th>\n",
       "      <td>Brazil</td>\n",
       "      <td>34429853</td>\n",
       "      <td>683965</td>\n",
       "      <td>34414011</td>\n",
       "      <td>683851</td>\n",
       "      <td>15842</td>\n",
       "      <td>114</td>\n",
       "      <td>1.99</td>\n",
       "      <td>South America</td>\n",
       "    </tr>\n",
       "    <tr>\n",
       "      <th>4</th>\n",
       "      <td>Germany</td>\n",
       "      <td>32184553</td>\n",
       "      <td>147494</td>\n",
       "      <td>32095854</td>\n",
       "      <td>147223</td>\n",
       "      <td>88699</td>\n",
       "      <td>271</td>\n",
       "      <td>0.46</td>\n",
       "      <td>Europe</td>\n",
       "    </tr>\n",
       "  </tbody>\n",
       "</table>\n",
       "</div>"
      ],
      "text/plain": [
       "  Country/Region     Cases   Deaths    PCases  PDeaths  Cases (+)  Deaths (+)  \\\n",
       "0             US  94531854  1046327  94378287  1044809     153567        1518   \n",
       "1          India  44436339   527911  44415723   527799      20616         112   \n",
       "2         France  34745833   155133  34726269   155079      19564          54   \n",
       "3         Brazil  34429853   683965  34414011   683851      15842         114   \n",
       "4        Germany  32184553   147494  32095854   147223      88699         271   \n",
       "\n",
       "   Fatality Rate      Continent  \n",
       "0           1.11  North America  \n",
       "1           1.19           Asia  \n",
       "2           0.45         Europe  \n",
       "3           1.99  South America  \n",
       "4           0.46         Europe  "
      ]
     },
     "execution_count": 13,
     "metadata": {},
     "output_type": "execute_result"
    }
   ],
   "source": [
    "#hide\n",
    "for c in 'Cases, Deaths'.split(', '):\n",
    "    df_table[f'{c} (+)'] = (df_table[c] - df_table[f'P{c}']).clip(0)\n",
    "    #Clip ça veut dire, les chiffres negatif sont interdit\n",
    "df_table['Fatality Rate'] = (100* df_table['Deaths']/ df_table['Cases']).round(2)\n",
    "df_table['Continent'] = df_table['Country/Region'].map(mapping['map.continent'])\n",
    "df_table.head(5)"
   ]
  },
  {
   "cell_type": "code",
   "execution_count": 14,
   "id": "aboriginal-bulgaria",
   "metadata": {
    "execution": {
     "iopub.execute_input": "2022-09-02T00:49:15.846431Z",
     "iopub.status.busy": "2022-09-02T00:49:15.845796Z",
     "iopub.status.idle": "2022-09-02T00:49:15.849412Z",
     "shell.execute_reply": "2022-09-02T00:49:15.848894Z"
    },
    "papermill": {
     "duration": 0.039404,
     "end_time": "2022-09-02T00:49:15.849532",
     "exception": false,
     "start_time": "2022-09-02T00:49:15.810128",
     "status": "completed"
    },
    "tags": []
   },
   "outputs": [],
   "source": [
    "#hide\n",
    "#delete problematic countries from table\n",
    "df_table = df_table[~df_table['Country/Region'].isin(['Cape Verde', 'Cruise Ship', 'Kosovo'])]"
   ]
  },
  {
   "cell_type": "code",
   "execution_count": 15,
   "id": "fantastic-effect",
   "metadata": {
    "execution": {
     "iopub.execute_input": "2022-09-02T00:49:15.918997Z",
     "iopub.status.busy": "2022-09-02T00:49:15.918359Z",
     "iopub.status.idle": "2022-09-02T00:49:15.936550Z",
     "shell.execute_reply": "2022-09-02T00:49:15.936044Z"
    },
    "papermill": {
     "duration": 0.0569,
     "end_time": "2022-09-02T00:49:15.936670",
     "exception": false,
     "start_time": "2022-09-02T00:49:15.879770",
     "status": "completed"
    },
    "tags": []
   },
   "outputs": [
    {
     "data": {
      "text/html": [
       "<div>\n",
       "<style scoped>\n",
       "    .dataframe tbody tr th:only-of-type {\n",
       "        vertical-align: middle;\n",
       "    }\n",
       "\n",
       "    .dataframe tbody tr th {\n",
       "        vertical-align: top;\n",
       "    }\n",
       "\n",
       "    .dataframe thead th {\n",
       "        text-align: right;\n",
       "    }\n",
       "</style>\n",
       "<table border=\"1\" class=\"dataframe\">\n",
       "  <thead>\n",
       "    <tr style=\"text-align: right;\">\n",
       "      <th></th>\n",
       "      <th>Country/Region</th>\n",
       "      <th>Cases</th>\n",
       "      <th>Deaths</th>\n",
       "      <th>PCases</th>\n",
       "      <th>PDeaths</th>\n",
       "      <th>Cases (+)</th>\n",
       "      <th>Deaths (+)</th>\n",
       "      <th>Fatality Rate</th>\n",
       "      <th>Continent</th>\n",
       "    </tr>\n",
       "  </thead>\n",
       "  <tbody>\n",
       "    <tr>\n",
       "      <th>0</th>\n",
       "      <td>US</td>\n",
       "      <td>94531854</td>\n",
       "      <td>1046327</td>\n",
       "      <td>94378287</td>\n",
       "      <td>1044809</td>\n",
       "      <td>153567</td>\n",
       "      <td>1518</td>\n",
       "      <td>1.1</td>\n",
       "      <td>North America</td>\n",
       "    </tr>\n",
       "    <tr>\n",
       "      <th>1</th>\n",
       "      <td>India</td>\n",
       "      <td>44436339</td>\n",
       "      <td>527911</td>\n",
       "      <td>44415723</td>\n",
       "      <td>527799</td>\n",
       "      <td>20616</td>\n",
       "      <td>112</td>\n",
       "      <td>1.2</td>\n",
       "      <td>Asia</td>\n",
       "    </tr>\n",
       "    <tr>\n",
       "      <th>2</th>\n",
       "      <td>France</td>\n",
       "      <td>34745833</td>\n",
       "      <td>155133</td>\n",
       "      <td>34726269</td>\n",
       "      <td>155079</td>\n",
       "      <td>19564</td>\n",
       "      <td>54</td>\n",
       "      <td>0.4</td>\n",
       "      <td>Europe</td>\n",
       "    </tr>\n",
       "    <tr>\n",
       "      <th>3</th>\n",
       "      <td>Brazil</td>\n",
       "      <td>34429853</td>\n",
       "      <td>683965</td>\n",
       "      <td>34414011</td>\n",
       "      <td>683851</td>\n",
       "      <td>15842</td>\n",
       "      <td>114</td>\n",
       "      <td>2.0</td>\n",
       "      <td>South America</td>\n",
       "    </tr>\n",
       "    <tr>\n",
       "      <th>4</th>\n",
       "      <td>Germany</td>\n",
       "      <td>32184553</td>\n",
       "      <td>147494</td>\n",
       "      <td>32095854</td>\n",
       "      <td>147223</td>\n",
       "      <td>88699</td>\n",
       "      <td>271</td>\n",
       "      <td>0.5</td>\n",
       "      <td>Europe</td>\n",
       "    </tr>\n",
       "  </tbody>\n",
       "</table>\n",
       "</div>"
      ],
      "text/plain": [
       "  Country/Region     Cases   Deaths    PCases  PDeaths  Cases (+)  Deaths (+)  \\\n",
       "0             US  94531854  1046327  94378287  1044809     153567        1518   \n",
       "1          India  44436339   527911  44415723   527799      20616         112   \n",
       "2         France  34745833   155133  34726269   155079      19564          54   \n",
       "3         Brazil  34429853   683965  34414011   683851      15842         114   \n",
       "4        Germany  32184553   147494  32095854   147223      88699         271   \n",
       "\n",
       "   Fatality Rate      Continent  \n",
       "0            1.1  North America  \n",
       "1            1.2           Asia  \n",
       "2            0.4         Europe  \n",
       "3            2.0  South America  \n",
       "4            0.5         Europe  "
      ]
     },
     "execution_count": 15,
     "metadata": {},
     "output_type": "execute_result"
    }
   ],
   "source": [
    "#hide\n",
    "df_table = (pd.DataFrame(dict(Cases=dfc_cases, Deaths=dfc_deaths, PCases=dfp_cases, PDeaths=dfp_deaths))\n",
    "             .sort_values(by=['Cases', 'Deaths'], ascending=[False, False])\n",
    "             .reset_index())\n",
    "df_table.rename(columns={'index': 'Country/Region'}, inplace=True)\n",
    "for c in 'Cases, Deaths'.split(', '):\n",
    "    df_table[f'{c} (+)'] = (df_table[c] - df_table[f'P{c}']).clip(0)  # DATA BUG\n",
    "df_table['Fatality Rate'] = (100 * df_table['Deaths'] / df_table['Cases']).round(1)\n",
    "df_table['Continent'] = df_table['Country/Region'].map(mapping['map.continent'])\n",
    "df_table.head(5)"
   ]
  },
  {
   "cell_type": "code",
   "execution_count": 16,
   "id": "fewer-occasion",
   "metadata": {
    "execution": {
     "iopub.execute_input": "2022-09-02T00:49:16.005155Z",
     "iopub.status.busy": "2022-09-02T00:49:16.004456Z",
     "iopub.status.idle": "2022-09-02T00:49:16.007550Z",
     "shell.execute_reply": "2022-09-02T00:49:16.008113Z"
    },
    "papermill": {
     "duration": 0.039861,
     "end_time": "2022-09-02T00:49:16.008249",
     "exception": false,
     "start_time": "2022-09-02T00:49:15.968388",
     "status": "completed"
    },
    "tags": []
   },
   "outputs": [],
   "source": [
    "#hide\n",
    "#delete problematic countries from table\n",
    "df_table = df_table[~df_table['Country/Region'].isin(['Cape Verde', 'Cruise Ship', 'Kosovo'])]"
   ]
  },
  {
   "cell_type": "code",
   "execution_count": 17,
   "id": "related-center",
   "metadata": {
    "execution": {
     "iopub.execute_input": "2022-09-02T00:49:16.077211Z",
     "iopub.status.busy": "2022-09-02T00:49:16.076576Z",
     "iopub.status.idle": "2022-09-02T00:49:16.090851Z",
     "shell.execute_reply": "2022-09-02T00:49:16.090354Z"
    },
    "papermill": {
     "duration": 0.052141,
     "end_time": "2022-09-02T00:49:16.090966",
     "exception": false,
     "start_time": "2022-09-02T00:49:16.038825",
     "status": "completed"
    },
    "tags": []
   },
   "outputs": [],
   "source": [
    "#hide\n",
    "metrics = [df_table.columns[index] for index in [1,2,5,6]]\n",
    "# s_china = df_table[df_table['Country/Region'].eq('China')][metrics].sum().add_prefix('China ')\n",
    "s_us = df_table[df_table['Country/Region'].eq('US')][metrics].sum().add_prefix('US ')\n",
    "s_eu = df_table[df_table['Continent'].eq('Europe')][metrics].sum().add_prefix('EU ')\n",
    "s_ind = df_table[df_table['Country/Region'].eq('India')][metrics].sum().add_prefix('India ')\n",
    "summary = {'updated': pd.to_datetime(dt_today), 'since': pd.to_datetime(dt_yday)}\n",
    "summary = {'updated': pd.to_datetime(dt_today), 'since': pd.to_datetime(dt_yday)}\n",
    "summary = {**summary, **df_table[metrics].sum(), **s_ind, **s_us, **s_eu}"
   ]
  },
  {
   "cell_type": "code",
   "execution_count": 18,
   "id": "engaging-syndrome",
   "metadata": {
    "execution": {
     "iopub.execute_input": "2022-09-02T00:49:16.158378Z",
     "iopub.status.busy": "2022-09-02T00:49:16.157766Z",
     "iopub.status.idle": "2022-09-02T00:49:16.178947Z",
     "shell.execute_reply": "2022-09-02T00:49:16.178344Z"
    },
    "papermill": {
     "duration": 0.0572,
     "end_time": "2022-09-02T00:49:16.179087",
     "exception": false,
     "start_time": "2022-09-02T00:49:16.121887",
     "status": "completed"
    },
    "tags": []
   },
   "outputs": [],
   "source": [
    "#hide\n",
    "dft_ct_new_cases = dft_cases.groupby(COL_REGION)[dt_cols].sum().diff(axis=1).fillna(0).astype(int)"
   ]
  },
  {
   "cell_type": "code",
   "execution_count": 19,
   "id": "neutral-assignment",
   "metadata": {
    "execution": {
     "iopub.execute_input": "2022-09-02T00:49:16.248557Z",
     "iopub.status.busy": "2022-09-02T00:49:16.247925Z",
     "iopub.status.idle": "2022-09-02T00:49:16.250316Z",
     "shell.execute_reply": "2022-09-02T00:49:16.249828Z"
    },
    "papermill": {
     "duration": 0.040084,
     "end_time": "2022-09-02T00:49:16.250432",
     "exception": false,
     "start_time": "2022-09-02T00:49:16.210348",
     "status": "completed"
    },
    "tags": []
   },
   "outputs": [],
   "source": [
    "#hide\n",
    "everydaycases = dft_ct_new_cases.cumsum(axis=1)"
   ]
  },
  {
   "cell_type": "code",
   "execution_count": 20,
   "id": "parliamentary-calgary",
   "metadata": {
    "execution": {
     "iopub.execute_input": "2022-09-02T00:49:16.316742Z",
     "iopub.status.busy": "2022-09-02T00:49:16.316142Z",
     "iopub.status.idle": "2022-09-02T00:49:16.860771Z",
     "shell.execute_reply": "2022-09-02T00:49:16.859806Z"
    },
    "papermill": {
     "duration": 0.579732,
     "end_time": "2022-09-02T00:49:16.860913",
     "exception": false,
     "start_time": "2022-09-02T00:49:16.281181",
     "status": "completed"
    },
    "tags": []
   },
   "outputs": [],
   "source": [
    "#hide\n",
    "import pandas as pd\n",
    "import matplotlib.pyplot as plt\n",
    "import matplotlib.ticker as ticker\n",
    "import matplotlib.animation as animation\n",
    "from IPython.display import HTML"
   ]
  },
  {
   "cell_type": "code",
   "execution_count": 21,
   "id": "lasting-extraction",
   "metadata": {
    "execution": {
     "iopub.execute_input": "2022-09-02T00:49:16.930704Z",
     "iopub.status.busy": "2022-09-02T00:49:16.930072Z",
     "iopub.status.idle": "2022-09-02T00:49:16.937201Z",
     "shell.execute_reply": "2022-09-02T00:49:16.937668Z"
    },
    "papermill": {
     "duration": 0.045092,
     "end_time": "2022-09-02T00:49:16.937807",
     "exception": false,
     "start_time": "2022-09-02T00:49:16.892715",
     "status": "completed"
    },
    "tags": []
   },
   "outputs": [],
   "source": [
    "#hide\n",
    "t = everydaycases.stack()"
   ]
  },
  {
   "cell_type": "code",
   "execution_count": 22,
   "id": "premier-sleeve",
   "metadata": {
    "execution": {
     "iopub.execute_input": "2022-09-02T00:49:17.004757Z",
     "iopub.status.busy": "2022-09-02T00:49:17.004154Z",
     "iopub.status.idle": "2022-09-02T00:49:17.016322Z",
     "shell.execute_reply": "2022-09-02T00:49:17.016747Z"
    },
    "papermill": {
     "duration": 0.047947,
     "end_time": "2022-09-02T00:49:17.016888",
     "exception": false,
     "start_time": "2022-09-02T00:49:16.968941",
     "status": "completed"
    },
    "tags": []
   },
   "outputs": [],
   "source": [
    "#hide\n",
    "g = t.reset_index(['Country/Region'])"
   ]
  },
  {
   "cell_type": "code",
   "execution_count": 23,
   "id": "distributed-pittsburgh",
   "metadata": {
    "execution": {
     "iopub.execute_input": "2022-09-02T00:49:17.082944Z",
     "iopub.status.busy": "2022-09-02T00:49:17.082294Z",
     "iopub.status.idle": "2022-09-02T00:49:17.086051Z",
     "shell.execute_reply": "2022-09-02T00:49:17.086477Z"
    },
    "papermill": {
     "duration": 0.039213,
     "end_time": "2022-09-02T00:49:17.086611",
     "exception": false,
     "start_time": "2022-09-02T00:49:17.047398",
     "status": "completed"
    },
    "tags": []
   },
   "outputs": [],
   "source": [
    "#hide\n",
    "g.index.name = 'date'"
   ]
  },
  {
   "cell_type": "code",
   "execution_count": 24,
   "id": "naked-donor",
   "metadata": {
    "execution": {
     "iopub.execute_input": "2022-09-02T00:49:17.153117Z",
     "iopub.status.busy": "2022-09-02T00:49:17.152472Z",
     "iopub.status.idle": "2022-09-02T00:49:17.154932Z",
     "shell.execute_reply": "2022-09-02T00:49:17.154445Z"
    },
    "papermill": {
     "duration": 0.037472,
     "end_time": "2022-09-02T00:49:17.155047",
     "exception": false,
     "start_time": "2022-09-02T00:49:17.117575",
     "status": "completed"
    },
    "tags": []
   },
   "outputs": [],
   "source": [
    "# #hide\n",
    "# g = g.reset_index(['date'])"
   ]
  },
  {
   "cell_type": "code",
   "execution_count": 25,
   "id": "incomplete-mustang",
   "metadata": {
    "execution": {
     "iopub.execute_input": "2022-09-02T00:49:17.220945Z",
     "iopub.status.busy": "2022-09-02T00:49:17.220191Z",
     "iopub.status.idle": "2022-09-02T00:49:17.222081Z",
     "shell.execute_reply": "2022-09-02T00:49:17.222597Z"
    },
    "papermill": {
     "duration": 0.036912,
     "end_time": "2022-09-02T00:49:17.222748",
     "exception": false,
     "start_time": "2022-09-02T00:49:17.185836",
     "status": "completed"
    },
    "tags": []
   },
   "outputs": [],
   "source": [
    "#hide\n",
    "# g.head()"
   ]
  },
  {
   "cell_type": "code",
   "execution_count": 26,
   "id": "specific-kruger",
   "metadata": {
    "execution": {
     "iopub.execute_input": "2022-09-02T00:49:17.289147Z",
     "iopub.status.busy": "2022-09-02T00:49:17.288415Z",
     "iopub.status.idle": "2022-09-02T00:49:17.290311Z",
     "shell.execute_reply": "2022-09-02T00:49:17.290828Z"
    },
    "papermill": {
     "duration": 0.037293,
     "end_time": "2022-09-02T00:49:17.290972",
     "exception": false,
     "start_time": "2022-09-02T00:49:17.253679",
     "status": "completed"
    },
    "tags": []
   },
   "outputs": [],
   "source": [
    "#hide\n",
    "# g.columns = ['date','country','cases']"
   ]
  },
  {
   "cell_type": "code",
   "execution_count": 27,
   "id": "tender-conversion",
   "metadata": {
    "execution": {
     "iopub.execute_input": "2022-09-02T00:49:17.356678Z",
     "iopub.status.busy": "2022-09-02T00:49:17.356049Z",
     "iopub.status.idle": "2022-09-02T00:49:17.359936Z",
     "shell.execute_reply": "2022-09-02T00:49:17.360369Z"
    },
    "papermill": {
     "duration": 0.038567,
     "end_time": "2022-09-02T00:49:17.360508",
     "exception": false,
     "start_time": "2022-09-02T00:49:17.321941",
     "status": "completed"
    },
    "tags": []
   },
   "outputs": [],
   "source": [
    "#hide\n",
    "# g['continent'] = g.country"
   ]
  },
  {
   "cell_type": "code",
   "execution_count": 28,
   "id": "substantial-wilderness",
   "metadata": {
    "execution": {
     "iopub.execute_input": "2022-09-02T00:49:17.427336Z",
     "iopub.status.busy": "2022-09-02T00:49:17.426237Z",
     "iopub.status.idle": "2022-09-02T00:49:17.427988Z",
     "shell.execute_reply": "2022-09-02T00:49:17.428545Z"
    },
    "papermill": {
     "duration": 0.036892,
     "end_time": "2022-09-02T00:49:17.428682",
     "exception": false,
     "start_time": "2022-09-02T00:49:17.391790",
     "status": "completed"
    },
    "tags": []
   },
   "outputs": [],
   "source": [
    "#hide\n",
    "# cols = list(g.columns.values)"
   ]
  },
  {
   "cell_type": "code",
   "execution_count": 29,
   "id": "solved-farming",
   "metadata": {
    "execution": {
     "iopub.execute_input": "2022-09-02T00:49:17.494634Z",
     "iopub.status.busy": "2022-09-02T00:49:17.493927Z",
     "iopub.status.idle": "2022-09-02T00:49:17.495721Z",
     "shell.execute_reply": "2022-09-02T00:49:17.496260Z"
    },
    "papermill": {
     "duration": 0.037058,
     "end_time": "2022-09-02T00:49:17.496405",
     "exception": false,
     "start_time": "2022-09-02T00:49:17.459347",
     "status": "completed"
    },
    "tags": []
   },
   "outputs": [],
   "source": [
    "#hide\n",
    "# cols.insert(0, cols.pop())"
   ]
  },
  {
   "cell_type": "code",
   "execution_count": 30,
   "id": "executed-adoption",
   "metadata": {
    "execution": {
     "iopub.execute_input": "2022-09-02T00:49:17.562416Z",
     "iopub.status.busy": "2022-09-02T00:49:17.561704Z",
     "iopub.status.idle": "2022-09-02T00:49:17.564278Z",
     "shell.execute_reply": "2022-09-02T00:49:17.563617Z"
    },
    "papermill": {
     "duration": 0.036997,
     "end_time": "2022-09-02T00:49:17.564404",
     "exception": false,
     "start_time": "2022-09-02T00:49:17.527407",
     "status": "completed"
    },
    "tags": []
   },
   "outputs": [],
   "source": [
    "#hide\n",
    "# g = g[cols]"
   ]
  },
  {
   "cell_type": "code",
   "execution_count": 31,
   "id": "subject-dublin",
   "metadata": {
    "execution": {
     "iopub.execute_input": "2022-09-02T00:49:17.630858Z",
     "iopub.status.busy": "2022-09-02T00:49:17.630170Z",
     "iopub.status.idle": "2022-09-02T00:49:17.632439Z",
     "shell.execute_reply": "2022-09-02T00:49:17.631863Z"
    },
    "papermill": {
     "duration": 0.036809,
     "end_time": "2022-09-02T00:49:17.632552",
     "exception": false,
     "start_time": "2022-09-02T00:49:17.595743",
     "status": "completed"
    },
    "tags": []
   },
   "outputs": [],
   "source": [
    "#hide\n",
    "# g['continent'] = g['continent'].map(mapping['map.continent'])"
   ]
  },
  {
   "cell_type": "code",
   "execution_count": 32,
   "id": "freelance-scout",
   "metadata": {
    "execution": {
     "iopub.execute_input": "2022-09-02T00:49:17.698483Z",
     "iopub.status.busy": "2022-09-02T00:49:17.697762Z",
     "iopub.status.idle": "2022-09-02T00:49:17.699575Z",
     "shell.execute_reply": "2022-09-02T00:49:17.700121Z"
    },
    "papermill": {
     "duration": 0.03698,
     "end_time": "2022-09-02T00:49:17.700268",
     "exception": false,
     "start_time": "2022-09-02T00:49:17.663288",
     "status": "completed"
    },
    "tags": []
   },
   "outputs": [],
   "source": [
    "#hide\n",
    "# g.head()"
   ]
  },
  {
   "cell_type": "code",
   "execution_count": 33,
   "id": "limited-engine",
   "metadata": {
    "execution": {
     "iopub.execute_input": "2022-09-02T00:49:17.768061Z",
     "iopub.status.busy": "2022-09-02T00:49:17.767359Z",
     "iopub.status.idle": "2022-09-02T00:49:17.769165Z",
     "shell.execute_reply": "2022-09-02T00:49:17.769715Z"
    },
    "papermill": {
     "duration": 0.036986,
     "end_time": "2022-09-02T00:49:17.769862",
     "exception": false,
     "start_time": "2022-09-02T00:49:17.732876",
     "status": "completed"
    },
    "tags": []
   },
   "outputs": [],
   "source": [
    "# hide\n",
    "# g['date'] = g['date'].astype('datetime64[ns]')"
   ]
  },
  {
   "cell_type": "code",
   "execution_count": 34,
   "id": "sophisticated-supervisor",
   "metadata": {
    "execution": {
     "iopub.execute_input": "2022-09-02T00:49:17.836212Z",
     "iopub.status.busy": "2022-09-02T00:49:17.835584Z",
     "iopub.status.idle": "2022-09-02T00:49:17.839288Z",
     "shell.execute_reply": "2022-09-02T00:49:17.839713Z"
    },
    "papermill": {
     "duration": 0.038625,
     "end_time": "2022-09-02T00:49:17.839845",
     "exception": false,
     "start_time": "2022-09-02T00:49:17.801220",
     "status": "completed"
    },
    "tags": []
   },
   "outputs": [],
   "source": [
    "#hide\n",
    "# g['date'] = g.date.dt.dayofyear"
   ]
  },
  {
   "cell_type": "code",
   "execution_count": 35,
   "id": "inside-dubai",
   "metadata": {
    "execution": {
     "iopub.execute_input": "2022-09-02T00:49:17.905222Z",
     "iopub.status.busy": "2022-09-02T00:49:17.904525Z",
     "iopub.status.idle": "2022-09-02T00:49:17.906743Z",
     "shell.execute_reply": "2022-09-02T00:49:17.906170Z"
    },
    "papermill": {
     "duration": 0.036485,
     "end_time": "2022-09-02T00:49:17.906857",
     "exception": false,
     "start_time": "2022-09-02T00:49:17.870372",
     "status": "completed"
    },
    "tags": []
   },
   "outputs": [],
   "source": [
    "#hide\n",
    "# g = g.rename(columns= {'continent':'group','country':'name','cases':'value'})"
   ]
  },
  {
   "cell_type": "code",
   "execution_count": 36,
   "id": "fleet-motorcycle",
   "metadata": {
    "execution": {
     "iopub.execute_input": "2022-09-02T00:49:17.973405Z",
     "iopub.status.busy": "2022-09-02T00:49:17.972654Z",
     "iopub.status.idle": "2022-09-02T00:49:17.976601Z",
     "shell.execute_reply": "2022-09-02T00:49:17.976048Z"
    },
    "papermill": {
     "duration": 0.039149,
     "end_time": "2022-09-02T00:49:17.976728",
     "exception": false,
     "start_time": "2022-09-02T00:49:17.937579",
     "status": "completed"
    },
    "tags": []
   },
   "outputs": [],
   "source": [
    "#hide\n",
    "# cols = ['name','group','day','value']"
   ]
  },
  {
   "cell_type": "code",
   "execution_count": 37,
   "id": "continued-sleeping",
   "metadata": {
    "execution": {
     "iopub.execute_input": "2022-09-02T00:49:18.042627Z",
     "iopub.status.busy": "2022-09-02T00:49:18.041917Z",
     "iopub.status.idle": "2022-09-02T00:49:18.044298Z",
     "shell.execute_reply": "2022-09-02T00:49:18.043644Z"
    },
    "papermill": {
     "duration": 0.036795,
     "end_time": "2022-09-02T00:49:18.044425",
     "exception": false,
     "start_time": "2022-09-02T00:49:18.007630",
     "status": "completed"
    },
    "tags": []
   },
   "outputs": [],
   "source": [
    "#hide\n",
    "# g.rename(columns= {'date':'day'},inplace = True)"
   ]
  },
  {
   "cell_type": "code",
   "execution_count": 38,
   "id": "major-fight",
   "metadata": {
    "execution": {
     "iopub.execute_input": "2022-09-02T00:49:18.110521Z",
     "iopub.status.busy": "2022-09-02T00:49:18.109901Z",
     "iopub.status.idle": "2022-09-02T00:49:18.112413Z",
     "shell.execute_reply": "2022-09-02T00:49:18.111930Z"
    },
    "papermill": {
     "duration": 0.036832,
     "end_time": "2022-09-02T00:49:18.112530",
     "exception": false,
     "start_time": "2022-09-02T00:49:18.075698",
     "status": "completed"
    },
    "tags": []
   },
   "outputs": [],
   "source": [
    "#hide\n",
    "# g = g[cols]"
   ]
  },
  {
   "cell_type": "code",
   "execution_count": 39,
   "id": "structured-mobile",
   "metadata": {
    "execution": {
     "iopub.execute_input": "2022-09-02T00:49:18.177941Z",
     "iopub.status.busy": "2022-09-02T00:49:18.177218Z",
     "iopub.status.idle": "2022-09-02T00:49:18.178976Z",
     "shell.execute_reply": "2022-09-02T00:49:18.179518Z"
    },
    "papermill": {
     "duration": 0.036629,
     "end_time": "2022-09-02T00:49:18.179663",
     "exception": false,
     "start_time": "2022-09-02T00:49:18.143034",
     "status": "completed"
    },
    "tags": []
   },
   "outputs": [],
   "source": [
    "# #hide\n",
    "# g = g[g.group.notna()]"
   ]
  },
  {
   "cell_type": "code",
   "execution_count": 40,
   "id": "determined-closing",
   "metadata": {
    "execution": {
     "iopub.execute_input": "2022-09-02T00:49:18.245404Z",
     "iopub.status.busy": "2022-09-02T00:49:18.244627Z",
     "iopub.status.idle": "2022-09-02T00:49:18.248498Z",
     "shell.execute_reply": "2022-09-02T00:49:18.247948Z"
    },
    "papermill": {
     "duration": 0.038102,
     "end_time": "2022-09-02T00:49:18.248624",
     "exception": false,
     "start_time": "2022-09-02T00:49:18.210522",
     "status": "completed"
    },
    "tags": []
   },
   "outputs": [],
   "source": [
    "# #hide\n",
    "# colors = dict(zip(\n",
    "#     [\"Oceania\", \"Europe\", \"Asia\", \"South America\", \"Middle East\", \"North America\", \"Africa\"],\n",
    "#     [\"#adb0ff\", \"#ffb3ff\", \"#90d595\", \"#e48381\", \"#aafbff\", \"#f7bb5f\", \"#eafb50\"]\n",
    "# ))\n",
    "# group_lk = g.set_index('name')['group'].to_dict()"
   ]
  },
  {
   "cell_type": "code",
   "execution_count": null,
   "id": "gross-drinking",
   "metadata": {
    "papermill": {
     "duration": 0.030509,
     "end_time": "2022-09-02T00:49:18.310123",
     "exception": false,
     "start_time": "2022-09-02T00:49:18.279614",
     "status": "completed"
    },
    "tags": []
   },
   "outputs": [],
   "source": []
  },
  {
   "cell_type": "code",
   "execution_count": 41,
   "id": "subject-macintosh",
   "metadata": {
    "execution": {
     "iopub.execute_input": "2022-09-02T00:49:18.376041Z",
     "iopub.status.busy": "2022-09-02T00:49:18.375392Z",
     "iopub.status.idle": "2022-09-02T00:49:18.377761Z",
     "shell.execute_reply": "2022-09-02T00:49:18.377174Z"
    },
    "papermill": {
     "duration": 0.037255,
     "end_time": "2022-09-02T00:49:18.377875",
     "exception": false,
     "start_time": "2022-09-02T00:49:18.340620",
     "status": "completed"
    },
    "tags": []
   },
   "outputs": [],
   "source": [
    "# #hide\n",
    "# fig, ax = plt.subplots(figsize=(15, 8))\n",
    "\n",
    "# def draw_barchart(current_day):\n",
    "#     dff = g[g['day'].eq(current_day)].sort_values(by='value', ascending=True).tail(10)\n",
    "#     ax.clear()\n",
    "#     ax.barh(dff['name'], dff['value'], color=[colors[group_lk[x]] for x in dff['name']])\n",
    "#     dx = dff['value'].max() / 200\n",
    "    \n",
    "#     for i, (value, name) in enumerate(zip(dff['value'], dff['name'])):\n",
    "#         ax.text(value-dx, i,     name,           size=14, weight=600, ha='right', va='bottom')\n",
    "#         ax.text(value-dx, i-.25, group_lk[name], size=10, color='#444444', ha='right', va='baseline')\n",
    "#         ax.text(value+dx, i,     f'{value:,.0f}',  size=14, ha='left',  va='center')\n",
    "#     ax.text(1, 0.4, current_day, transform=ax.transAxes, color='#777777', size=46, ha='right', weight=800)\n",
    "#     ax.text(0, 1.06, 'Population (thousands)', transform=ax.transAxes, size=12, color='#777777')\n",
    "#     ax.xaxis.set_major_formatter(ticker.StrMethodFormatter('{x:,.0f}'))\n",
    "#     ax.xaxis.set_ticks_position('top')\n",
    "#     ax.tick_params(axis='x', colors='#777777', labelsize=12)\n",
    "#     ax.set_yticks([])\n",
    "#     ax.margins(0, 0.01)\n",
    "#     ax.grid(which='major', axis='x', linestyle='-')\n",
    "#     ax.set_axisbelow(True)\n",
    "    \n",
    "#     ax.text(0, 1.15, 'Coronavirus',\n",
    "#             transform=ax.transAxes, size=24, weight=600, ha='left', va='top')\n",
    "# #     ax.text(1, 0, 'by @pratapvardhan; credit @jburnmurdoch', transform=ax.transAxes, color='#777777', ha='right',\n",
    "# #             bbox=dict(facecolor='white', alpha=0.8, edgecolor='white'))\n",
    "#     plt.box(False)"
   ]
  },
  {
   "cell_type": "code",
   "execution_count": 42,
   "id": "sexual-wages",
   "metadata": {
    "execution": {
     "iopub.execute_input": "2022-09-02T00:49:18.443575Z",
     "iopub.status.busy": "2022-09-02T00:49:18.442868Z",
     "iopub.status.idle": "2022-09-02T00:49:18.444611Z",
     "shell.execute_reply": "2022-09-02T00:49:18.445112Z"
    },
    "papermill": {
     "duration": 0.036723,
     "end_time": "2022-09-02T00:49:18.445246",
     "exception": false,
     "start_time": "2022-09-02T00:49:18.408523",
     "status": "completed"
    },
    "tags": []
   },
   "outputs": [],
   "source": [
    "# #hide_input\n",
    "# fig, ax = plt.subplots(figsize=(15, 8))\n",
    "# animator = animation.FuncAnimation(fig, draw_barchart, frames=range(g.day.values.min(), g.day.values.max()))\n",
    "# HTML(animator.to_jshtml())\n",
    "# # or use animator.to_html5_video() or animator.save() "
   ]
  },
  {
   "cell_type": "code",
   "execution_count": null,
   "id": "australian-container",
   "metadata": {
    "papermill": {
     "duration": 0.031567,
     "end_time": "2022-09-02T00:49:18.507943",
     "exception": false,
     "start_time": "2022-09-02T00:49:18.476376",
     "status": "completed"
    },
    "tags": []
   },
   "outputs": [],
   "source": []
  },
  {
   "cell_type": "code",
   "execution_count": null,
   "id": "mediterranean-pontiac",
   "metadata": {
    "papermill": {
     "duration": 0.030711,
     "end_time": "2022-09-02T00:49:18.569215",
     "exception": false,
     "start_time": "2022-09-02T00:49:18.538504",
     "status": "completed"
    },
    "tags": []
   },
   "outputs": [],
   "source": []
  },
  {
   "cell_type": "code",
   "execution_count": null,
   "id": "aging-legislature",
   "metadata": {
    "papermill": {
     "duration": 0.030566,
     "end_time": "2022-09-02T00:49:18.630648",
     "exception": false,
     "start_time": "2022-09-02T00:49:18.600082",
     "status": "completed"
    },
    "tags": []
   },
   "outputs": [],
   "source": []
  }
 ],
 "metadata": {
  "kernelspec": {
   "display_name": "Python 3",
   "language": "python",
   "name": "python3"
  },
  "language_info": {
   "codemirror_mode": {
    "name": "ipython",
    "version": 3
   },
   "file_extension": ".py",
   "mimetype": "text/x-python",
   "name": "python",
   "nbconvert_exporter": "python",
   "pygments_lexer": "ipython3",
   "version": "3.6.15"
  },
  "papermill": {
   "duration": 6.318344,
   "end_time": "2022-09-02T00:49:18.980434",
   "environment_variables": {},
   "exception": null,
   "input_path": "2020-03-21-covid19exp.ipynb",
   "output_path": "2020-03-21-covid19exp.ipynb",
   "parameters": {},
   "start_time": "2022-09-02T00:49:12.662090",
   "version": "2.0.0"
  }
 },
 "nbformat": 4,
 "nbformat_minor": 5
}