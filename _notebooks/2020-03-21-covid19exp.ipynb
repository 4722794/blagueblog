{
 "cells": [
  {
   "cell_type": "markdown",
   "id": "muslim-click",
   "metadata": {
    "papermill": {
     "duration": 0.034317,
     "end_time": "2022-05-18T12:17:24.409329",
     "exception": false,
     "start_time": "2022-05-18T12:17:24.375012",
     "status": "completed"
    },
    "tags": []
   },
   "source": [
    "# COVID-19 Case Race\n",
    "> A race chart to see rising cases around the world\n",
    "\n",
    "- author: Hargun Oberoi\n",
    "- image: images/covid-overview.png\n",
    "- hide: false\n",
    "- badges: false"
   ]
  },
  {
   "cell_type": "code",
   "execution_count": 1,
   "id": "proof-material",
   "metadata": {
    "execution": {
     "iopub.execute_input": "2022-05-18T12:17:24.481516Z",
     "iopub.status.busy": "2022-05-18T12:17:24.481010Z",
     "iopub.status.idle": "2022-05-18T12:17:24.784403Z",
     "shell.execute_reply": "2022-05-18T12:17:24.783944Z"
    },
    "papermill": {
     "duration": 0.342866,
     "end_time": "2022-05-18T12:17:24.784530",
     "exception": false,
     "start_time": "2022-05-18T12:17:24.441664",
     "status": "completed"
    },
    "tags": []
   },
   "outputs": [],
   "source": [
    "#hide\n",
    "import numpy as np\n",
    "import pandas as pd\n",
    "from jinja2 import Template\n",
    "from IPython.display import HTML"
   ]
  },
  {
   "cell_type": "code",
   "execution_count": 2,
   "id": "developed-terminology",
   "metadata": {
    "execution": {
     "iopub.execute_input": "2022-05-18T12:17:24.850993Z",
     "iopub.status.busy": "2022-05-18T12:17:24.850500Z",
     "iopub.status.idle": "2022-05-18T12:17:24.852730Z",
     "shell.execute_reply": "2022-05-18T12:17:24.852328Z"
    },
    "papermill": {
     "duration": 0.037099,
     "end_time": "2022-05-18T12:17:24.852841",
     "exception": false,
     "start_time": "2022-05-18T12:17:24.815742",
     "status": "completed"
    },
    "tags": []
   },
   "outputs": [],
   "source": [
    "#hide\n",
    "\n",
    "# FETCH\n",
    "base_url = 'https://raw.githubusercontent.com/pratapvardhan/notebooks/master/covid19/'\n",
    "paths = {\n",
    "    'mapping': base_url + 'mapping_countries.csv',\n",
    "    'overview': base_url + 'overview.tpl'\n",
    "}"
   ]
  },
  {
   "cell_type": "code",
   "execution_count": 3,
   "id": "dynamic-saver",
   "metadata": {
    "execution": {
     "iopub.execute_input": "2022-05-18T12:17:24.922608Z",
     "iopub.status.busy": "2022-05-18T12:17:24.922107Z",
     "iopub.status.idle": "2022-05-18T12:17:24.924338Z",
     "shell.execute_reply": "2022-05-18T12:17:24.924773Z"
    },
    "papermill": {
     "duration": 0.041311,
     "end_time": "2022-05-18T12:17:24.924881",
     "exception": false,
     "start_time": "2022-05-18T12:17:24.883570",
     "status": "completed"
    },
    "tags": []
   },
   "outputs": [
    {
     "data": {
      "text/plain": [
       "'https://raw.githubusercontent.com/pratapvardhan/notebooks/master/covid19/mapping_countries.csv'"
      ]
     },
     "execution_count": 3,
     "metadata": {},
     "output_type": "execute_result"
    }
   ],
   "source": [
    "#hide\n",
    "paths['mapping']"
   ]
  },
  {
   "cell_type": "code",
   "execution_count": 4,
   "id": "urban-software",
   "metadata": {
    "execution": {
     "iopub.execute_input": "2022-05-18T12:17:24.992131Z",
     "iopub.status.busy": "2022-05-18T12:17:24.991623Z",
     "iopub.status.idle": "2022-05-18T12:17:24.994644Z",
     "shell.execute_reply": "2022-05-18T12:17:24.995034Z"
    },
    "papermill": {
     "duration": 0.039021,
     "end_time": "2022-05-18T12:17:24.995151",
     "exception": false,
     "start_time": "2022-05-18T12:17:24.956130",
     "status": "completed"
    },
    "tags": []
   },
   "outputs": [],
   "source": [
    "#hide\n",
    "def get_mappings(url):\n",
    "    df = pd.read_csv(url)\n",
    "    return {\n",
    "        'df': df,\n",
    "        'replace.country': dict(df.dropna(subset=['Name']).set_index('Country')['Name']),\n",
    "        'map.continent': dict(df.set_index('Name')['Continent'])\n",
    "    }"
   ]
  },
  {
   "cell_type": "code",
   "execution_count": 5,
   "id": "intimate-machinery",
   "metadata": {
    "execution": {
     "iopub.execute_input": "2022-05-18T12:17:25.061716Z",
     "iopub.status.busy": "2022-05-18T12:17:25.061229Z",
     "iopub.status.idle": "2022-05-18T12:17:25.105526Z",
     "shell.execute_reply": "2022-05-18T12:17:25.105098Z"
    },
    "papermill": {
     "duration": 0.079482,
     "end_time": "2022-05-18T12:17:25.105637",
     "exception": false,
     "start_time": "2022-05-18T12:17:25.026155",
     "status": "completed"
    },
    "tags": []
   },
   "outputs": [],
   "source": [
    "#hide\n",
    "mapping = get_mappings(paths['mapping'])"
   ]
  },
  {
   "cell_type": "code",
   "execution_count": 6,
   "id": "certified-tactics",
   "metadata": {
    "execution": {
     "iopub.execute_input": "2022-05-18T12:17:25.170493Z",
     "iopub.status.busy": "2022-05-18T12:17:25.169989Z",
     "iopub.status.idle": "2022-05-18T12:17:25.174105Z",
     "shell.execute_reply": "2022-05-18T12:17:25.174502Z"
    },
    "papermill": {
     "duration": 0.037677,
     "end_time": "2022-05-18T12:17:25.174613",
     "exception": false,
     "start_time": "2022-05-18T12:17:25.136936",
     "status": "completed"
    },
    "tags": []
   },
   "outputs": [],
   "source": [
    "#hide\n",
    "def get_template(path):\n",
    "    from urllib.parse import urlparse\n",
    "    if bool(urlparse(path).netloc):\n",
    "        from urllib.request import urlopen\n",
    "        return urlopen(path).read().decode('utf8')\n",
    "    return open(path).read()"
   ]
  },
  {
   "cell_type": "code",
   "execution_count": 7,
   "id": "realistic-blast",
   "metadata": {
    "execution": {
     "iopub.execute_input": "2022-05-18T12:17:25.240780Z",
     "iopub.status.busy": "2022-05-18T12:17:25.240247Z",
     "iopub.status.idle": "2022-05-18T12:17:25.242290Z",
     "shell.execute_reply": "2022-05-18T12:17:25.241892Z"
    },
    "papermill": {
     "duration": 0.036772,
     "end_time": "2022-05-18T12:17:25.242385",
     "exception": false,
     "start_time": "2022-05-18T12:17:25.205613",
     "status": "completed"
    },
    "tags": []
   },
   "outputs": [],
   "source": [
    "#hide\n",
    "def get_frame(name):\n",
    "    url = (\n",
    "        'https://raw.githubusercontent.com/CSSEGISandData/COVID-19/master/csse_covid_19_data/'\n",
    "        f'csse_covid_19_time_series/time_series_covid19_{name}_global.csv')\n",
    "    df = pd.read_csv(url)\n",
    "    # rename countries\n",
    "    df['Country/Region'] = df['Country/Region'].replace(mapping['replace.country'])\n",
    "    return df"
   ]
  },
  {
   "cell_type": "code",
   "execution_count": 8,
   "id": "affiliated-characterization",
   "metadata": {
    "execution": {
     "iopub.execute_input": "2022-05-18T12:17:25.309566Z",
     "iopub.status.busy": "2022-05-18T12:17:25.309066Z",
     "iopub.status.idle": "2022-05-18T12:17:25.310842Z",
     "shell.execute_reply": "2022-05-18T12:17:25.311204Z"
    },
    "papermill": {
     "duration": 0.037781,
     "end_time": "2022-05-18T12:17:25.311313",
     "exception": false,
     "start_time": "2022-05-18T12:17:25.273532",
     "status": "completed"
    },
    "tags": []
   },
   "outputs": [],
   "source": [
    "#hide\n",
    "def get_dates(df):\n",
    "    dt_cols = df.columns[~df.columns.isin(['Province/State', 'Country/Region', 'Lat', 'Long'])]\n",
    "    LAST_DATE_I = -1\n",
    "    # sometimes last column may be empty, then go backwards\n",
    "    for i in range(-1, -len(dt_cols), -1):\n",
    "        if not df[dt_cols[i]].fillna(0).eq(0).all():\n",
    "            LAST_DATE_I = i\n",
    "            break\n",
    "    return LAST_DATE_I, dt_cols"
   ]
  },
  {
   "cell_type": "code",
   "execution_count": 9,
   "id": "recent-optimization",
   "metadata": {
    "execution": {
     "iopub.execute_input": "2022-05-18T12:17:25.377243Z",
     "iopub.status.busy": "2022-05-18T12:17:25.376718Z",
     "iopub.status.idle": "2022-05-18T12:17:25.861018Z",
     "shell.execute_reply": "2022-05-18T12:17:25.861429Z"
    },
    "papermill": {
     "duration": 0.519362,
     "end_time": "2022-05-18T12:17:25.861562",
     "exception": false,
     "start_time": "2022-05-18T12:17:25.342200",
     "status": "completed"
    },
    "tags": []
   },
   "outputs": [],
   "source": [
    "#hide\n",
    "COL_REGION = 'Country/Region'\n",
    "# Confirmed, Recovered, Deaths\n",
    "df = get_frame('confirmed')\n",
    "# dft_: timeseries, dfc_: today country agg\n",
    "dft_cases = df\n",
    "dft_deaths = get_frame('deaths')\n",
    "dft_recovered = get_frame('recovered')\n",
    "LAST_DATE_I, dt_cols = get_dates(df)"
   ]
  },
  {
   "cell_type": "code",
   "execution_count": 10,
   "id": "absolute-copper",
   "metadata": {
    "execution": {
     "iopub.execute_input": "2022-05-18T12:17:25.930927Z",
     "iopub.status.busy": "2022-05-18T12:17:25.930421Z",
     "iopub.status.idle": "2022-05-18T12:17:25.931979Z",
     "shell.execute_reply": "2022-05-18T12:17:25.932343Z"
    },
    "papermill": {
     "duration": 0.037424,
     "end_time": "2022-05-18T12:17:25.932458",
     "exception": false,
     "start_time": "2022-05-18T12:17:25.895034",
     "status": "completed"
    },
    "tags": []
   },
   "outputs": [],
   "source": [
    "#hide\n",
    "LAST_DATE_I, dt_cols = get_dates(df)\n",
    "dt_today =dt_cols[LAST_DATE_I]\n",
    "# dt_5day = dt_cols[LAST_DATE_I - 5]\n",
    "dt_yday = dt_cols[LAST_DATE_I - 1]"
   ]
  },
  {
   "cell_type": "code",
   "execution_count": 11,
   "id": "restricted-sheriff",
   "metadata": {
    "execution": {
     "iopub.execute_input": "2022-05-18T12:17:26.000041Z",
     "iopub.status.busy": "2022-05-18T12:17:25.999540Z",
     "iopub.status.idle": "2022-05-18T12:17:26.005839Z",
     "shell.execute_reply": "2022-05-18T12:17:26.006203Z"
    },
    "papermill": {
     "duration": 0.042743,
     "end_time": "2022-05-18T12:17:26.006316",
     "exception": false,
     "start_time": "2022-05-18T12:17:25.963573",
     "status": "completed"
    },
    "tags": []
   },
   "outputs": [],
   "source": [
    "#hide\n",
    "dfc_cases = dft_cases.groupby(COL_REGION)[dt_today].sum()\n",
    "dfc_deaths = dft_deaths.groupby(COL_REGION)[dt_today].sum()\n",
    "# dfp_cases = dft_cases.groupby(COL_REGION)[dt_5day].sum()\n",
    "# dfp_deaths = dft_deaths.groupby(COL_REGION)[dt_5day].sum()\n",
    "dfp_cases = dft_cases.groupby(COL_REGION)[dt_yday].sum()\n",
    "dfp_deaths = dft_deaths.groupby(COL_REGION)[dt_yday].sum()"
   ]
  },
  {
   "cell_type": "code",
   "execution_count": 12,
   "id": "deluxe-hepatitis",
   "metadata": {
    "execution": {
     "iopub.execute_input": "2022-05-18T12:17:26.073280Z",
     "iopub.status.busy": "2022-05-18T12:17:26.072787Z",
     "iopub.status.idle": "2022-05-18T12:17:26.076534Z",
     "shell.execute_reply": "2022-05-18T12:17:26.076960Z"
    },
    "papermill": {
     "duration": 0.039735,
     "end_time": "2022-05-18T12:17:26.077072",
     "exception": false,
     "start_time": "2022-05-18T12:17:26.037337",
     "status": "completed"
    },
    "tags": []
   },
   "outputs": [],
   "source": [
    "#hide\n",
    "df_table = (pd.DataFrame(dict(Cases = dfc_cases, Deaths = dfc_deaths, PCases = dfp_cases, PDeaths = dfp_deaths))\n",
    "            .sort_values(by = ['Cases','Deaths'], ascending = [False, False])\n",
    "            .reset_index())"
   ]
  },
  {
   "cell_type": "code",
   "execution_count": 13,
   "id": "educational-chancellor",
   "metadata": {
    "execution": {
     "iopub.execute_input": "2022-05-18T12:17:26.154802Z",
     "iopub.status.busy": "2022-05-18T12:17:26.154308Z",
     "iopub.status.idle": "2022-05-18T12:17:26.161569Z",
     "shell.execute_reply": "2022-05-18T12:17:26.161088Z"
    },
    "papermill": {
     "duration": 0.053672,
     "end_time": "2022-05-18T12:17:26.161663",
     "exception": false,
     "start_time": "2022-05-18T12:17:26.107991",
     "status": "completed"
    },
    "tags": []
   },
   "outputs": [
    {
     "data": {
      "text/html": [
       "<div>\n",
       "<style scoped>\n",
       "    .dataframe tbody tr th:only-of-type {\n",
       "        vertical-align: middle;\n",
       "    }\n",
       "\n",
       "    .dataframe tbody tr th {\n",
       "        vertical-align: top;\n",
       "    }\n",
       "\n",
       "    .dataframe thead th {\n",
       "        text-align: right;\n",
       "    }\n",
       "</style>\n",
       "<table border=\"1\" class=\"dataframe\">\n",
       "  <thead>\n",
       "    <tr style=\"text-align: right;\">\n",
       "      <th></th>\n",
       "      <th>Country/Region</th>\n",
       "      <th>Cases</th>\n",
       "      <th>Deaths</th>\n",
       "      <th>PCases</th>\n",
       "      <th>PDeaths</th>\n",
       "      <th>Cases (+)</th>\n",
       "      <th>Deaths (+)</th>\n",
       "      <th>Fatality Rate</th>\n",
       "      <th>Continent</th>\n",
       "    </tr>\n",
       "  </thead>\n",
       "  <tbody>\n",
       "    <tr>\n",
       "      <th>0</th>\n",
       "      <td>US</td>\n",
       "      <td>82726107</td>\n",
       "      <td>1000189</td>\n",
       "      <td>82613620</td>\n",
       "      <td>999842</td>\n",
       "      <td>112487</td>\n",
       "      <td>347</td>\n",
       "      <td>1.21</td>\n",
       "      <td>North America</td>\n",
       "    </tr>\n",
       "    <tr>\n",
       "      <th>1</th>\n",
       "      <td>India</td>\n",
       "      <td>43127199</td>\n",
       "      <td>524293</td>\n",
       "      <td>43125370</td>\n",
       "      <td>524260</td>\n",
       "      <td>1829</td>\n",
       "      <td>33</td>\n",
       "      <td>1.22</td>\n",
       "      <td>Asia</td>\n",
       "    </tr>\n",
       "    <tr>\n",
       "      <th>2</th>\n",
       "      <td>Brazil</td>\n",
       "      <td>30701900</td>\n",
       "      <td>665216</td>\n",
       "      <td>30701900</td>\n",
       "      <td>665216</td>\n",
       "      <td>0</td>\n",
       "      <td>0</td>\n",
       "      <td>2.17</td>\n",
       "      <td>South America</td>\n",
       "    </tr>\n",
       "    <tr>\n",
       "      <th>3</th>\n",
       "      <td>France</td>\n",
       "      <td>29424812</td>\n",
       "      <td>148606</td>\n",
       "      <td>29381085</td>\n",
       "      <td>148516</td>\n",
       "      <td>43727</td>\n",
       "      <td>90</td>\n",
       "      <td>0.51</td>\n",
       "      <td>Europe</td>\n",
       "    </tr>\n",
       "    <tr>\n",
       "      <th>4</th>\n",
       "      <td>Germany</td>\n",
       "      <td>25890456</td>\n",
       "      <td>137888</td>\n",
       "      <td>25818405</td>\n",
       "      <td>137714</td>\n",
       "      <td>72051</td>\n",
       "      <td>174</td>\n",
       "      <td>0.53</td>\n",
       "      <td>Europe</td>\n",
       "    </tr>\n",
       "  </tbody>\n",
       "</table>\n",
       "</div>"
      ],
      "text/plain": [
       "  Country/Region     Cases   Deaths    PCases  PDeaths  Cases (+)  Deaths (+)  \\\n",
       "0             US  82726107  1000189  82613620   999842     112487         347   \n",
       "1          India  43127199   524293  43125370   524260       1829          33   \n",
       "2         Brazil  30701900   665216  30701900   665216          0           0   \n",
       "3         France  29424812   148606  29381085   148516      43727          90   \n",
       "4        Germany  25890456   137888  25818405   137714      72051         174   \n",
       "\n",
       "   Fatality Rate      Continent  \n",
       "0           1.21  North America  \n",
       "1           1.22           Asia  \n",
       "2           2.17  South America  \n",
       "3           0.51         Europe  \n",
       "4           0.53         Europe  "
      ]
     },
     "execution_count": 13,
     "metadata": {},
     "output_type": "execute_result"
    }
   ],
   "source": [
    "#hide\n",
    "for c in 'Cases, Deaths'.split(', '):\n",
    "    df_table[f'{c} (+)'] = (df_table[c] - df_table[f'P{c}']).clip(0)\n",
    "    #Clip ça veut dire, les chiffres negatif sont interdit\n",
    "df_table['Fatality Rate'] = (100* df_table['Deaths']/ df_table['Cases']).round(2)\n",
    "df_table['Continent'] = df_table['Country/Region'].map(mapping['map.continent'])\n",
    "df_table.head(5)"
   ]
  },
  {
   "cell_type": "code",
   "execution_count": 14,
   "id": "aboriginal-bulgaria",
   "metadata": {
    "execution": {
     "iopub.execute_input": "2022-05-18T12:17:26.229335Z",
     "iopub.status.busy": "2022-05-18T12:17:26.228839Z",
     "iopub.status.idle": "2022-05-18T12:17:26.231065Z",
     "shell.execute_reply": "2022-05-18T12:17:26.230678Z"
    },
    "papermill": {
     "duration": 0.037812,
     "end_time": "2022-05-18T12:17:26.231161",
     "exception": false,
     "start_time": "2022-05-18T12:17:26.193349",
     "status": "completed"
    },
    "tags": []
   },
   "outputs": [],
   "source": [
    "#hide\n",
    "#delete problematic countries from table\n",
    "df_table = df_table[~df_table['Country/Region'].isin(['Cape Verde', 'Cruise Ship', 'Kosovo'])]"
   ]
  },
  {
   "cell_type": "code",
   "execution_count": 15,
   "id": "fantastic-effect",
   "metadata": {
    "execution": {
     "iopub.execute_input": "2022-05-18T12:17:26.300670Z",
     "iopub.status.busy": "2022-05-18T12:17:26.300183Z",
     "iopub.status.idle": "2022-05-18T12:17:26.316416Z",
     "shell.execute_reply": "2022-05-18T12:17:26.316807Z"
    },
    "papermill": {
     "duration": 0.054477,
     "end_time": "2022-05-18T12:17:26.316923",
     "exception": false,
     "start_time": "2022-05-18T12:17:26.262446",
     "status": "completed"
    },
    "tags": []
   },
   "outputs": [
    {
     "data": {
      "text/html": [
       "<div>\n",
       "<style scoped>\n",
       "    .dataframe tbody tr th:only-of-type {\n",
       "        vertical-align: middle;\n",
       "    }\n",
       "\n",
       "    .dataframe tbody tr th {\n",
       "        vertical-align: top;\n",
       "    }\n",
       "\n",
       "    .dataframe thead th {\n",
       "        text-align: right;\n",
       "    }\n",
       "</style>\n",
       "<table border=\"1\" class=\"dataframe\">\n",
       "  <thead>\n",
       "    <tr style=\"text-align: right;\">\n",
       "      <th></th>\n",
       "      <th>Country/Region</th>\n",
       "      <th>Cases</th>\n",
       "      <th>Deaths</th>\n",
       "      <th>PCases</th>\n",
       "      <th>PDeaths</th>\n",
       "      <th>Cases (+)</th>\n",
       "      <th>Deaths (+)</th>\n",
       "      <th>Fatality Rate</th>\n",
       "      <th>Continent</th>\n",
       "    </tr>\n",
       "  </thead>\n",
       "  <tbody>\n",
       "    <tr>\n",
       "      <th>0</th>\n",
       "      <td>US</td>\n",
       "      <td>82726107</td>\n",
       "      <td>1000189</td>\n",
       "      <td>82613620</td>\n",
       "      <td>999842</td>\n",
       "      <td>112487</td>\n",
       "      <td>347</td>\n",
       "      <td>1.2</td>\n",
       "      <td>North America</td>\n",
       "    </tr>\n",
       "    <tr>\n",
       "      <th>1</th>\n",
       "      <td>India</td>\n",
       "      <td>43127199</td>\n",
       "      <td>524293</td>\n",
       "      <td>43125370</td>\n",
       "      <td>524260</td>\n",
       "      <td>1829</td>\n",
       "      <td>33</td>\n",
       "      <td>1.2</td>\n",
       "      <td>Asia</td>\n",
       "    </tr>\n",
       "    <tr>\n",
       "      <th>2</th>\n",
       "      <td>Brazil</td>\n",
       "      <td>30701900</td>\n",
       "      <td>665216</td>\n",
       "      <td>30701900</td>\n",
       "      <td>665216</td>\n",
       "      <td>0</td>\n",
       "      <td>0</td>\n",
       "      <td>2.2</td>\n",
       "      <td>South America</td>\n",
       "    </tr>\n",
       "    <tr>\n",
       "      <th>3</th>\n",
       "      <td>France</td>\n",
       "      <td>29424812</td>\n",
       "      <td>148606</td>\n",
       "      <td>29381085</td>\n",
       "      <td>148516</td>\n",
       "      <td>43727</td>\n",
       "      <td>90</td>\n",
       "      <td>0.5</td>\n",
       "      <td>Europe</td>\n",
       "    </tr>\n",
       "    <tr>\n",
       "      <th>4</th>\n",
       "      <td>Germany</td>\n",
       "      <td>25890456</td>\n",
       "      <td>137888</td>\n",
       "      <td>25818405</td>\n",
       "      <td>137714</td>\n",
       "      <td>72051</td>\n",
       "      <td>174</td>\n",
       "      <td>0.5</td>\n",
       "      <td>Europe</td>\n",
       "    </tr>\n",
       "  </tbody>\n",
       "</table>\n",
       "</div>"
      ],
      "text/plain": [
       "  Country/Region     Cases   Deaths    PCases  PDeaths  Cases (+)  Deaths (+)  \\\n",
       "0             US  82726107  1000189  82613620   999842     112487         347   \n",
       "1          India  43127199   524293  43125370   524260       1829          33   \n",
       "2         Brazil  30701900   665216  30701900   665216          0           0   \n",
       "3         France  29424812   148606  29381085   148516      43727          90   \n",
       "4        Germany  25890456   137888  25818405   137714      72051         174   \n",
       "\n",
       "   Fatality Rate      Continent  \n",
       "0            1.2  North America  \n",
       "1            1.2           Asia  \n",
       "2            2.2  South America  \n",
       "3            0.5         Europe  \n",
       "4            0.5         Europe  "
      ]
     },
     "execution_count": 15,
     "metadata": {},
     "output_type": "execute_result"
    }
   ],
   "source": [
    "#hide\n",
    "df_table = (pd.DataFrame(dict(Cases=dfc_cases, Deaths=dfc_deaths, PCases=dfp_cases, PDeaths=dfp_deaths))\n",
    "             .sort_values(by=['Cases', 'Deaths'], ascending=[False, False])\n",
    "             .reset_index())\n",
    "df_table.rename(columns={'index': 'Country/Region'}, inplace=True)\n",
    "for c in 'Cases, Deaths'.split(', '):\n",
    "    df_table[f'{c} (+)'] = (df_table[c] - df_table[f'P{c}']).clip(0)  # DATA BUG\n",
    "df_table['Fatality Rate'] = (100 * df_table['Deaths'] / df_table['Cases']).round(1)\n",
    "df_table['Continent'] = df_table['Country/Region'].map(mapping['map.continent'])\n",
    "df_table.head(5)"
   ]
  },
  {
   "cell_type": "code",
   "execution_count": 16,
   "id": "fewer-occasion",
   "metadata": {
    "execution": {
     "iopub.execute_input": "2022-05-18T12:17:26.385427Z",
     "iopub.status.busy": "2022-05-18T12:17:26.384928Z",
     "iopub.status.idle": "2022-05-18T12:17:26.387180Z",
     "shell.execute_reply": "2022-05-18T12:17:26.386777Z"
    },
    "papermill": {
     "duration": 0.038403,
     "end_time": "2022-05-18T12:17:26.387274",
     "exception": false,
     "start_time": "2022-05-18T12:17:26.348871",
     "status": "completed"
    },
    "tags": []
   },
   "outputs": [],
   "source": [
    "#hide\n",
    "#delete problematic countries from table\n",
    "df_table = df_table[~df_table['Country/Region'].isin(['Cape Verde', 'Cruise Ship', 'Kosovo'])]"
   ]
  },
  {
   "cell_type": "code",
   "execution_count": 17,
   "id": "related-center",
   "metadata": {
    "execution": {
     "iopub.execute_input": "2022-05-18T12:17:26.461162Z",
     "iopub.status.busy": "2022-05-18T12:17:26.460628Z",
     "iopub.status.idle": "2022-05-18T12:17:26.469640Z",
     "shell.execute_reply": "2022-05-18T12:17:26.470024Z"
    },
    "papermill": {
     "duration": 0.051005,
     "end_time": "2022-05-18T12:17:26.470136",
     "exception": false,
     "start_time": "2022-05-18T12:17:26.419131",
     "status": "completed"
    },
    "tags": []
   },
   "outputs": [],
   "source": [
    "#hide\n",
    "metrics = [df_table.columns[index] for index in [1,2,5,6]]\n",
    "# s_china = df_table[df_table['Country/Region'].eq('China')][metrics].sum().add_prefix('China ')\n",
    "s_us = df_table[df_table['Country/Region'].eq('US')][metrics].sum().add_prefix('US ')\n",
    "s_eu = df_table[df_table['Continent'].eq('Europe')][metrics].sum().add_prefix('EU ')\n",
    "s_ind = df_table[df_table['Country/Region'].eq('India')][metrics].sum().add_prefix('India ')\n",
    "summary = {'updated': pd.to_datetime(dt_today), 'since': pd.to_datetime(dt_yday)}\n",
    "summary = {'updated': pd.to_datetime(dt_today), 'since': pd.to_datetime(dt_yday)}\n",
    "summary = {**summary, **df_table[metrics].sum(), **s_ind, **s_us, **s_eu}"
   ]
  },
  {
   "cell_type": "code",
   "execution_count": 18,
   "id": "engaging-syndrome",
   "metadata": {
    "execution": {
     "iopub.execute_input": "2022-05-18T12:17:26.538756Z",
     "iopub.status.busy": "2022-05-18T12:17:26.538253Z",
     "iopub.status.idle": "2022-05-18T12:17:26.553918Z",
     "shell.execute_reply": "2022-05-18T12:17:26.554287Z"
    },
    "papermill": {
     "duration": 0.052216,
     "end_time": "2022-05-18T12:17:26.554411",
     "exception": false,
     "start_time": "2022-05-18T12:17:26.502195",
     "status": "completed"
    },
    "tags": []
   },
   "outputs": [],
   "source": [
    "#hide\n",
    "dft_ct_new_cases = dft_cases.groupby(COL_REGION)[dt_cols].sum().diff(axis=1).fillna(0).astype(int)"
   ]
  },
  {
   "cell_type": "code",
   "execution_count": 19,
   "id": "neutral-assignment",
   "metadata": {
    "execution": {
     "iopub.execute_input": "2022-05-18T12:17:26.623485Z",
     "iopub.status.busy": "2022-05-18T12:17:26.622899Z",
     "iopub.status.idle": "2022-05-18T12:17:26.624904Z",
     "shell.execute_reply": "2022-05-18T12:17:26.624497Z"
    },
    "papermill": {
     "duration": 0.038594,
     "end_time": "2022-05-18T12:17:26.625004",
     "exception": false,
     "start_time": "2022-05-18T12:17:26.586410",
     "status": "completed"
    },
    "tags": []
   },
   "outputs": [],
   "source": [
    "#hide\n",
    "everydaycases = dft_ct_new_cases.cumsum(axis=1)"
   ]
  },
  {
   "cell_type": "code",
   "execution_count": 20,
   "id": "parliamentary-calgary",
   "metadata": {
    "execution": {
     "iopub.execute_input": "2022-05-18T12:17:26.692613Z",
     "iopub.status.busy": "2022-05-18T12:17:26.692109Z",
     "iopub.status.idle": "2022-05-18T12:17:27.231561Z",
     "shell.execute_reply": "2022-05-18T12:17:27.231967Z"
    },
    "papermill": {
     "duration": 0.575178,
     "end_time": "2022-05-18T12:17:27.232103",
     "exception": false,
     "start_time": "2022-05-18T12:17:26.656925",
     "status": "completed"
    },
    "tags": []
   },
   "outputs": [],
   "source": [
    "#hide\n",
    "import pandas as pd\n",
    "import matplotlib.pyplot as plt\n",
    "import matplotlib.ticker as ticker\n",
    "import matplotlib.animation as animation\n",
    "from IPython.display import HTML"
   ]
  },
  {
   "cell_type": "code",
   "execution_count": 21,
   "id": "lasting-extraction",
   "metadata": {
    "execution": {
     "iopub.execute_input": "2022-05-18T12:17:27.301649Z",
     "iopub.status.busy": "2022-05-18T12:17:27.301158Z",
     "iopub.status.idle": "2022-05-18T12:17:27.306555Z",
     "shell.execute_reply": "2022-05-18T12:17:27.307008Z"
    },
    "papermill": {
     "duration": 0.042956,
     "end_time": "2022-05-18T12:17:27.307122",
     "exception": false,
     "start_time": "2022-05-18T12:17:27.264166",
     "status": "completed"
    },
    "tags": []
   },
   "outputs": [],
   "source": [
    "#hide\n",
    "t = everydaycases.stack()"
   ]
  },
  {
   "cell_type": "code",
   "execution_count": 22,
   "id": "premier-sleeve",
   "metadata": {
    "execution": {
     "iopub.execute_input": "2022-05-18T12:17:27.374882Z",
     "iopub.status.busy": "2022-05-18T12:17:27.374387Z",
     "iopub.status.idle": "2022-05-18T12:17:27.383867Z",
     "shell.execute_reply": "2022-05-18T12:17:27.384317Z"
    },
    "papermill": {
     "duration": 0.04525,
     "end_time": "2022-05-18T12:17:27.384429",
     "exception": false,
     "start_time": "2022-05-18T12:17:27.339179",
     "status": "completed"
    },
    "tags": []
   },
   "outputs": [],
   "source": [
    "#hide\n",
    "g = t.reset_index(['Country/Region'])"
   ]
  },
  {
   "cell_type": "code",
   "execution_count": 23,
   "id": "distributed-pittsburgh",
   "metadata": {
    "execution": {
     "iopub.execute_input": "2022-05-18T12:17:27.451217Z",
     "iopub.status.busy": "2022-05-18T12:17:27.450729Z",
     "iopub.status.idle": "2022-05-18T12:17:27.452405Z",
     "shell.execute_reply": "2022-05-18T12:17:27.452857Z"
    },
    "papermill": {
     "duration": 0.036724,
     "end_time": "2022-05-18T12:17:27.452967",
     "exception": false,
     "start_time": "2022-05-18T12:17:27.416243",
     "status": "completed"
    },
    "tags": []
   },
   "outputs": [],
   "source": [
    "#hide\n",
    "g.index.name = 'date'"
   ]
  },
  {
   "cell_type": "code",
   "execution_count": 24,
   "id": "naked-donor",
   "metadata": {
    "execution": {
     "iopub.execute_input": "2022-05-18T12:17:27.519913Z",
     "iopub.status.busy": "2022-05-18T12:17:27.519401Z",
     "iopub.status.idle": "2022-05-18T12:17:27.522368Z",
     "shell.execute_reply": "2022-05-18T12:17:27.522739Z"
    },
    "papermill": {
     "duration": 0.038015,
     "end_time": "2022-05-18T12:17:27.522853",
     "exception": false,
     "start_time": "2022-05-18T12:17:27.484838",
     "status": "completed"
    },
    "tags": []
   },
   "outputs": [],
   "source": [
    "# #hide\n",
    "# g = g.reset_index(['date'])"
   ]
  },
  {
   "cell_type": "code",
   "execution_count": 25,
   "id": "incomplete-mustang",
   "metadata": {
    "execution": {
     "iopub.execute_input": "2022-05-18T12:17:27.589591Z",
     "iopub.status.busy": "2022-05-18T12:17:27.589086Z",
     "iopub.status.idle": "2022-05-18T12:17:27.591264Z",
     "shell.execute_reply": "2022-05-18T12:17:27.590878Z"
    },
    "papermill": {
     "duration": 0.036611,
     "end_time": "2022-05-18T12:17:27.591360",
     "exception": false,
     "start_time": "2022-05-18T12:17:27.554749",
     "status": "completed"
    },
    "tags": []
   },
   "outputs": [],
   "source": [
    "#hide\n",
    "# g.head()"
   ]
  },
  {
   "cell_type": "code",
   "execution_count": 26,
   "id": "specific-kruger",
   "metadata": {
    "execution": {
     "iopub.execute_input": "2022-05-18T12:17:27.658623Z",
     "iopub.status.busy": "2022-05-18T12:17:27.658107Z",
     "iopub.status.idle": "2022-05-18T12:17:27.659638Z",
     "shell.execute_reply": "2022-05-18T12:17:27.660003Z"
    },
    "papermill": {
     "duration": 0.036669,
     "end_time": "2022-05-18T12:17:27.660117",
     "exception": false,
     "start_time": "2022-05-18T12:17:27.623448",
     "status": "completed"
    },
    "tags": []
   },
   "outputs": [],
   "source": [
    "#hide\n",
    "# g.columns = ['date','country','cases']"
   ]
  },
  {
   "cell_type": "code",
   "execution_count": 27,
   "id": "tender-conversion",
   "metadata": {
    "execution": {
     "iopub.execute_input": "2022-05-18T12:17:27.727459Z",
     "iopub.status.busy": "2022-05-18T12:17:27.726957Z",
     "iopub.status.idle": "2022-05-18T12:17:27.728512Z",
     "shell.execute_reply": "2022-05-18T12:17:27.728896Z"
    },
    "papermill": {
     "duration": 0.036892,
     "end_time": "2022-05-18T12:17:27.729009",
     "exception": false,
     "start_time": "2022-05-18T12:17:27.692117",
     "status": "completed"
    },
    "tags": []
   },
   "outputs": [],
   "source": [
    "#hide\n",
    "# g['continent'] = g.country"
   ]
  },
  {
   "cell_type": "code",
   "execution_count": 28,
   "id": "substantial-wilderness",
   "metadata": {
    "execution": {
     "iopub.execute_input": "2022-05-18T12:17:27.797248Z",
     "iopub.status.busy": "2022-05-18T12:17:27.796707Z",
     "iopub.status.idle": "2022-05-18T12:17:27.799396Z",
     "shell.execute_reply": "2022-05-18T12:17:27.799006Z"
    },
    "papermill": {
     "duration": 0.037915,
     "end_time": "2022-05-18T12:17:27.799496",
     "exception": false,
     "start_time": "2022-05-18T12:17:27.761581",
     "status": "completed"
    },
    "tags": []
   },
   "outputs": [],
   "source": [
    "#hide\n",
    "# cols = list(g.columns.values)"
   ]
  },
  {
   "cell_type": "code",
   "execution_count": 29,
   "id": "solved-farming",
   "metadata": {
    "execution": {
     "iopub.execute_input": "2022-05-18T12:17:27.866257Z",
     "iopub.status.busy": "2022-05-18T12:17:27.865764Z",
     "iopub.status.idle": "2022-05-18T12:17:27.867889Z",
     "shell.execute_reply": "2022-05-18T12:17:27.867507Z"
    },
    "papermill": {
     "duration": 0.036579,
     "end_time": "2022-05-18T12:17:27.867987",
     "exception": false,
     "start_time": "2022-05-18T12:17:27.831408",
     "status": "completed"
    },
    "tags": []
   },
   "outputs": [],
   "source": [
    "#hide\n",
    "# cols.insert(0, cols.pop())"
   ]
  },
  {
   "cell_type": "code",
   "execution_count": 30,
   "id": "executed-adoption",
   "metadata": {
    "execution": {
     "iopub.execute_input": "2022-05-18T12:17:27.934687Z",
     "iopub.status.busy": "2022-05-18T12:17:27.934177Z",
     "iopub.status.idle": "2022-05-18T12:17:27.937036Z",
     "shell.execute_reply": "2022-05-18T12:17:27.937418Z"
    },
    "papermill": {
     "duration": 0.037599,
     "end_time": "2022-05-18T12:17:27.937531",
     "exception": false,
     "start_time": "2022-05-18T12:17:27.899932",
     "status": "completed"
    },
    "tags": []
   },
   "outputs": [],
   "source": [
    "#hide\n",
    "# g = g[cols]"
   ]
  },
  {
   "cell_type": "code",
   "execution_count": 31,
   "id": "subject-dublin",
   "metadata": {
    "execution": {
     "iopub.execute_input": "2022-05-18T12:17:28.003967Z",
     "iopub.status.busy": "2022-05-18T12:17:28.003483Z",
     "iopub.status.idle": "2022-05-18T12:17:28.005320Z",
     "shell.execute_reply": "2022-05-18T12:17:28.005715Z"
    },
    "papermill": {
     "duration": 0.036473,
     "end_time": "2022-05-18T12:17:28.005820",
     "exception": false,
     "start_time": "2022-05-18T12:17:27.969347",
     "status": "completed"
    },
    "tags": []
   },
   "outputs": [],
   "source": [
    "#hide\n",
    "# g['continent'] = g['continent'].map(mapping['map.continent'])"
   ]
  },
  {
   "cell_type": "code",
   "execution_count": 32,
   "id": "freelance-scout",
   "metadata": {
    "execution": {
     "iopub.execute_input": "2022-05-18T12:17:28.072874Z",
     "iopub.status.busy": "2022-05-18T12:17:28.072338Z",
     "iopub.status.idle": "2022-05-18T12:17:28.074140Z",
     "shell.execute_reply": "2022-05-18T12:17:28.073672Z"
    },
    "papermill": {
     "duration": 0.036652,
     "end_time": "2022-05-18T12:17:28.074235",
     "exception": false,
     "start_time": "2022-05-18T12:17:28.037583",
     "status": "completed"
    },
    "tags": []
   },
   "outputs": [],
   "source": [
    "#hide\n",
    "# g.head()"
   ]
  },
  {
   "cell_type": "code",
   "execution_count": 33,
   "id": "limited-engine",
   "metadata": {
    "execution": {
     "iopub.execute_input": "2022-05-18T12:17:28.140690Z",
     "iopub.status.busy": "2022-05-18T12:17:28.140195Z",
     "iopub.status.idle": "2022-05-18T12:17:28.141978Z",
     "shell.execute_reply": "2022-05-18T12:17:28.142341Z"
    },
    "papermill": {
     "duration": 0.036419,
     "end_time": "2022-05-18T12:17:28.142452",
     "exception": false,
     "start_time": "2022-05-18T12:17:28.106033",
     "status": "completed"
    },
    "tags": []
   },
   "outputs": [],
   "source": [
    "# hide\n",
    "# g['date'] = g['date'].astype('datetime64[ns]')"
   ]
  },
  {
   "cell_type": "code",
   "execution_count": 34,
   "id": "sophisticated-supervisor",
   "metadata": {
    "execution": {
     "iopub.execute_input": "2022-05-18T12:17:28.209346Z",
     "iopub.status.busy": "2022-05-18T12:17:28.208842Z",
     "iopub.status.idle": "2022-05-18T12:17:28.210877Z",
     "shell.execute_reply": "2022-05-18T12:17:28.210460Z"
    },
    "papermill": {
     "duration": 0.036451,
     "end_time": "2022-05-18T12:17:28.210972",
     "exception": false,
     "start_time": "2022-05-18T12:17:28.174521",
     "status": "completed"
    },
    "tags": []
   },
   "outputs": [],
   "source": [
    "#hide\n",
    "# g['date'] = g.date.dt.dayofyear"
   ]
  },
  {
   "cell_type": "code",
   "execution_count": 35,
   "id": "inside-dubai",
   "metadata": {
    "execution": {
     "iopub.execute_input": "2022-05-18T12:17:28.280871Z",
     "iopub.status.busy": "2022-05-18T12:17:28.280315Z",
     "iopub.status.idle": "2022-05-18T12:17:28.282284Z",
     "shell.execute_reply": "2022-05-18T12:17:28.282704Z"
    },
    "papermill": {
     "duration": 0.039594,
     "end_time": "2022-05-18T12:17:28.282826",
     "exception": false,
     "start_time": "2022-05-18T12:17:28.243232",
     "status": "completed"
    },
    "tags": []
   },
   "outputs": [],
   "source": [
    "#hide\n",
    "# g = g.rename(columns= {'continent':'group','country':'name','cases':'value'})"
   ]
  },
  {
   "cell_type": "code",
   "execution_count": 36,
   "id": "fleet-motorcycle",
   "metadata": {
    "execution": {
     "iopub.execute_input": "2022-05-18T12:17:28.351196Z",
     "iopub.status.busy": "2022-05-18T12:17:28.350683Z",
     "iopub.status.idle": "2022-05-18T12:17:28.352625Z",
     "shell.execute_reply": "2022-05-18T12:17:28.352228Z"
    },
    "papermill": {
     "duration": 0.037147,
     "end_time": "2022-05-18T12:17:28.352729",
     "exception": false,
     "start_time": "2022-05-18T12:17:28.315582",
     "status": "completed"
    },
    "tags": []
   },
   "outputs": [],
   "source": [
    "#hide\n",
    "# cols = ['name','group','day','value']"
   ]
  },
  {
   "cell_type": "code",
   "execution_count": 37,
   "id": "continued-sleeping",
   "metadata": {
    "execution": {
     "iopub.execute_input": "2022-05-18T12:17:28.419914Z",
     "iopub.status.busy": "2022-05-18T12:17:28.419414Z",
     "iopub.status.idle": "2022-05-18T12:17:28.421223Z",
     "shell.execute_reply": "2022-05-18T12:17:28.421585Z"
    },
    "papermill": {
     "duration": 0.036792,
     "end_time": "2022-05-18T12:17:28.421702",
     "exception": false,
     "start_time": "2022-05-18T12:17:28.384910",
     "status": "completed"
    },
    "tags": []
   },
   "outputs": [],
   "source": [
    "#hide\n",
    "# g.rename(columns= {'date':'day'},inplace = True)"
   ]
  },
  {
   "cell_type": "code",
   "execution_count": 38,
   "id": "major-fight",
   "metadata": {
    "execution": {
     "iopub.execute_input": "2022-05-18T12:17:28.488487Z",
     "iopub.status.busy": "2022-05-18T12:17:28.487976Z",
     "iopub.status.idle": "2022-05-18T12:17:28.489658Z",
     "shell.execute_reply": "2022-05-18T12:17:28.490023Z"
    },
    "papermill": {
     "duration": 0.036524,
     "end_time": "2022-05-18T12:17:28.490134",
     "exception": false,
     "start_time": "2022-05-18T12:17:28.453610",
     "status": "completed"
    },
    "tags": []
   },
   "outputs": [],
   "source": [
    "#hide\n",
    "# g = g[cols]"
   ]
  },
  {
   "cell_type": "code",
   "execution_count": 39,
   "id": "structured-mobile",
   "metadata": {
    "execution": {
     "iopub.execute_input": "2022-05-18T12:17:28.556607Z",
     "iopub.status.busy": "2022-05-18T12:17:28.556102Z",
     "iopub.status.idle": "2022-05-18T12:17:28.559131Z",
     "shell.execute_reply": "2022-05-18T12:17:28.559508Z"
    },
    "papermill": {
     "duration": 0.037811,
     "end_time": "2022-05-18T12:17:28.559623",
     "exception": false,
     "start_time": "2022-05-18T12:17:28.521812",
     "status": "completed"
    },
    "tags": []
   },
   "outputs": [],
   "source": [
    "# #hide\n",
    "# g = g[g.group.notna()]"
   ]
  },
  {
   "cell_type": "code",
   "execution_count": 40,
   "id": "determined-closing",
   "metadata": {
    "execution": {
     "iopub.execute_input": "2022-05-18T12:17:28.626409Z",
     "iopub.status.busy": "2022-05-18T12:17:28.625896Z",
     "iopub.status.idle": "2022-05-18T12:17:28.627682Z",
     "shell.execute_reply": "2022-05-18T12:17:28.628045Z"
    },
    "papermill": {
     "duration": 0.036614,
     "end_time": "2022-05-18T12:17:28.628158",
     "exception": false,
     "start_time": "2022-05-18T12:17:28.591544",
     "status": "completed"
    },
    "tags": []
   },
   "outputs": [],
   "source": [
    "# #hide\n",
    "# colors = dict(zip(\n",
    "#     [\"Oceania\", \"Europe\", \"Asia\", \"South America\", \"Middle East\", \"North America\", \"Africa\"],\n",
    "#     [\"#adb0ff\", \"#ffb3ff\", \"#90d595\", \"#e48381\", \"#aafbff\", \"#f7bb5f\", \"#eafb50\"]\n",
    "# ))\n",
    "# group_lk = g.set_index('name')['group'].to_dict()"
   ]
  },
  {
   "cell_type": "code",
   "execution_count": null,
   "id": "gross-drinking",
   "metadata": {
    "papermill": {
     "duration": 0.031806,
     "end_time": "2022-05-18T12:17:28.691573",
     "exception": false,
     "start_time": "2022-05-18T12:17:28.659767",
     "status": "completed"
    },
    "tags": []
   },
   "outputs": [],
   "source": []
  },
  {
   "cell_type": "code",
   "execution_count": 41,
   "id": "subject-macintosh",
   "metadata": {
    "execution": {
     "iopub.execute_input": "2022-05-18T12:17:28.759348Z",
     "iopub.status.busy": "2022-05-18T12:17:28.758827Z",
     "iopub.status.idle": "2022-05-18T12:17:28.760539Z",
     "shell.execute_reply": "2022-05-18T12:17:28.760920Z"
    },
    "papermill": {
     "duration": 0.037526,
     "end_time": "2022-05-18T12:17:28.761036",
     "exception": false,
     "start_time": "2022-05-18T12:17:28.723510",
     "status": "completed"
    },
    "tags": []
   },
   "outputs": [],
   "source": [
    "# #hide\n",
    "# fig, ax = plt.subplots(figsize=(15, 8))\n",
    "\n",
    "# def draw_barchart(current_day):\n",
    "#     dff = g[g['day'].eq(current_day)].sort_values(by='value', ascending=True).tail(10)\n",
    "#     ax.clear()\n",
    "#     ax.barh(dff['name'], dff['value'], color=[colors[group_lk[x]] for x in dff['name']])\n",
    "#     dx = dff['value'].max() / 200\n",
    "    \n",
    "#     for i, (value, name) in enumerate(zip(dff['value'], dff['name'])):\n",
    "#         ax.text(value-dx, i,     name,           size=14, weight=600, ha='right', va='bottom')\n",
    "#         ax.text(value-dx, i-.25, group_lk[name], size=10, color='#444444', ha='right', va='baseline')\n",
    "#         ax.text(value+dx, i,     f'{value:,.0f}',  size=14, ha='left',  va='center')\n",
    "#     ax.text(1, 0.4, current_day, transform=ax.transAxes, color='#777777', size=46, ha='right', weight=800)\n",
    "#     ax.text(0, 1.06, 'Population (thousands)', transform=ax.transAxes, size=12, color='#777777')\n",
    "#     ax.xaxis.set_major_formatter(ticker.StrMethodFormatter('{x:,.0f}'))\n",
    "#     ax.xaxis.set_ticks_position('top')\n",
    "#     ax.tick_params(axis='x', colors='#777777', labelsize=12)\n",
    "#     ax.set_yticks([])\n",
    "#     ax.margins(0, 0.01)\n",
    "#     ax.grid(which='major', axis='x', linestyle='-')\n",
    "#     ax.set_axisbelow(True)\n",
    "    \n",
    "#     ax.text(0, 1.15, 'Coronavirus',\n",
    "#             transform=ax.transAxes, size=24, weight=600, ha='left', va='top')\n",
    "# #     ax.text(1, 0, 'by @pratapvardhan; credit @jburnmurdoch', transform=ax.transAxes, color='#777777', ha='right',\n",
    "# #             bbox=dict(facecolor='white', alpha=0.8, edgecolor='white'))\n",
    "#     plt.box(False)"
   ]
  },
  {
   "cell_type": "code",
   "execution_count": 42,
   "id": "sexual-wages",
   "metadata": {
    "execution": {
     "iopub.execute_input": "2022-05-18T12:17:28.827731Z",
     "iopub.status.busy": "2022-05-18T12:17:28.827217Z",
     "iopub.status.idle": "2022-05-18T12:17:28.830611Z",
     "shell.execute_reply": "2022-05-18T12:17:28.830216Z"
    },
    "papermill": {
     "duration": 0.037914,
     "end_time": "2022-05-18T12:17:28.830710",
     "exception": false,
     "start_time": "2022-05-18T12:17:28.792796",
     "status": "completed"
    },
    "tags": []
   },
   "outputs": [],
   "source": [
    "# #hide_input\n",
    "# fig, ax = plt.subplots(figsize=(15, 8))\n",
    "# animator = animation.FuncAnimation(fig, draw_barchart, frames=range(g.day.values.min(), g.day.values.max()))\n",
    "# HTML(animator.to_jshtml())\n",
    "# # or use animator.to_html5_video() or animator.save() "
   ]
  },
  {
   "cell_type": "code",
   "execution_count": null,
   "id": "australian-container",
   "metadata": {
    "papermill": {
     "duration": 0.031689,
     "end_time": "2022-05-18T12:17:28.894113",
     "exception": false,
     "start_time": "2022-05-18T12:17:28.862424",
     "status": "completed"
    },
    "tags": []
   },
   "outputs": [],
   "source": []
  },
  {
   "cell_type": "code",
   "execution_count": null,
   "id": "mediterranean-pontiac",
   "metadata": {
    "papermill": {
     "duration": 0.031499,
     "end_time": "2022-05-18T12:17:28.957153",
     "exception": false,
     "start_time": "2022-05-18T12:17:28.925654",
     "status": "completed"
    },
    "tags": []
   },
   "outputs": [],
   "source": []
  },
  {
   "cell_type": "code",
   "execution_count": null,
   "id": "aging-legislature",
   "metadata": {
    "papermill": {
     "duration": 0.031645,
     "end_time": "2022-05-18T12:17:29.020604",
     "exception": false,
     "start_time": "2022-05-18T12:17:28.988959",
     "status": "completed"
    },
    "tags": []
   },
   "outputs": [],
   "source": []
  }
 ],
 "metadata": {
  "kernelspec": {
   "display_name": "Python 3",
   "language": "python",
   "name": "python3"
  },
  "language_info": {
   "codemirror_mode": {
    "name": "ipython",
    "version": 3
   },
   "file_extension": ".py",
   "mimetype": "text/x-python",
   "name": "python",
   "nbconvert_exporter": "python",
   "pygments_lexer": "ipython3",
   "version": "3.6.15"
  },
  "papermill": {
   "duration": 5.904904,
   "end_time": "2022-05-18T12:17:29.369570",
   "environment_variables": {},
   "exception": null,
   "input_path": "2020-03-21-covid19exp.ipynb",
   "output_path": "2020-03-21-covid19exp.ipynb",
   "parameters": {},
   "start_time": "2022-05-18T12:17:23.464666",
   "version": "2.0.0"
  }
 },
 "nbformat": 4,
 "nbformat_minor": 5
}