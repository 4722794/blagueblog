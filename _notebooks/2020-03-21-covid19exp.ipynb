{
 "cells": [
  {
   "cell_type": "markdown",
   "id": "muslim-click",
   "metadata": {
    "papermill": {
     "duration": 0.036063,
     "end_time": "2022-07-27T00:53:21.098369",
     "exception": false,
     "start_time": "2022-07-27T00:53:21.062306",
     "status": "completed"
    },
    "tags": []
   },
   "source": [
    "# COVID-19 Case Race\n",
    "> A race chart to see rising cases around the world\n",
    "\n",
    "- author: Hargun Oberoi\n",
    "- image: images/covid-overview.png\n",
    "- hide: false\n",
    "- badges: false"
   ]
  },
  {
   "cell_type": "code",
   "execution_count": 1,
   "id": "proof-material",
   "metadata": {
    "execution": {
     "iopub.execute_input": "2022-07-27T00:53:21.167669Z",
     "iopub.status.busy": "2022-07-27T00:53:21.167070Z",
     "iopub.status.idle": "2022-07-27T00:53:21.490808Z",
     "shell.execute_reply": "2022-07-27T00:53:21.490194Z"
    },
    "papermill": {
     "duration": 0.36234,
     "end_time": "2022-07-27T00:53:21.490976",
     "exception": false,
     "start_time": "2022-07-27T00:53:21.128636",
     "status": "completed"
    },
    "tags": []
   },
   "outputs": [],
   "source": [
    "#hide\n",
    "import numpy as np\n",
    "import pandas as pd\n",
    "from jinja2 import Template\n",
    "from IPython.display import HTML"
   ]
  },
  {
   "cell_type": "code",
   "execution_count": 2,
   "id": "developed-terminology",
   "metadata": {
    "execution": {
     "iopub.execute_input": "2022-07-27T00:53:21.556492Z",
     "iopub.status.busy": "2022-07-27T00:53:21.555880Z",
     "iopub.status.idle": "2022-07-27T00:53:21.558856Z",
     "shell.execute_reply": "2022-07-27T00:53:21.558373Z"
    },
    "papermill": {
     "duration": 0.037158,
     "end_time": "2022-07-27T00:53:21.558968",
     "exception": false,
     "start_time": "2022-07-27T00:53:21.521810",
     "status": "completed"
    },
    "tags": []
   },
   "outputs": [],
   "source": [
    "#hide\n",
    "\n",
    "# FETCH\n",
    "base_url = 'https://raw.githubusercontent.com/pratapvardhan/notebooks/master/covid19/'\n",
    "paths = {\n",
    "    'mapping': base_url + 'mapping_countries.csv',\n",
    "    'overview': base_url + 'overview.tpl'\n",
    "}"
   ]
  },
  {
   "cell_type": "code",
   "execution_count": 3,
   "id": "dynamic-saver",
   "metadata": {
    "execution": {
     "iopub.execute_input": "2022-07-27T00:53:21.627528Z",
     "iopub.status.busy": "2022-07-27T00:53:21.625115Z",
     "iopub.status.idle": "2022-07-27T00:53:21.630483Z",
     "shell.execute_reply": "2022-07-27T00:53:21.631030Z"
    },
    "papermill": {
     "duration": 0.042812,
     "end_time": "2022-07-27T00:53:21.631156",
     "exception": false,
     "start_time": "2022-07-27T00:53:21.588344",
     "status": "completed"
    },
    "tags": []
   },
   "outputs": [
    {
     "data": {
      "text/plain": [
       "'https://raw.githubusercontent.com/pratapvardhan/notebooks/master/covid19/mapping_countries.csv'"
      ]
     },
     "execution_count": 3,
     "metadata": {},
     "output_type": "execute_result"
    }
   ],
   "source": [
    "#hide\n",
    "paths['mapping']"
   ]
  },
  {
   "cell_type": "code",
   "execution_count": 4,
   "id": "urban-software",
   "metadata": {
    "execution": {
     "iopub.execute_input": "2022-07-27T00:53:21.695904Z",
     "iopub.status.busy": "2022-07-27T00:53:21.695220Z",
     "iopub.status.idle": "2022-07-27T00:53:21.697834Z",
     "shell.execute_reply": "2022-07-27T00:53:21.697300Z"
    },
    "papermill": {
     "duration": 0.037027,
     "end_time": "2022-07-27T00:53:21.697956",
     "exception": false,
     "start_time": "2022-07-27T00:53:21.660929",
     "status": "completed"
    },
    "tags": []
   },
   "outputs": [],
   "source": [
    "#hide\n",
    "def get_mappings(url):\n",
    "    df = pd.read_csv(url)\n",
    "    return {\n",
    "        'df': df,\n",
    "        'replace.country': dict(df.dropna(subset=['Name']).set_index('Country')['Name']),\n",
    "        'map.continent': dict(df.set_index('Name')['Continent'])\n",
    "    }"
   ]
  },
  {
   "cell_type": "code",
   "execution_count": 5,
   "id": "intimate-machinery",
   "metadata": {
    "execution": {
     "iopub.execute_input": "2022-07-27T00:53:21.762643Z",
     "iopub.status.busy": "2022-07-27T00:53:21.762073Z",
     "iopub.status.idle": "2022-07-27T00:53:21.787948Z",
     "shell.execute_reply": "2022-07-27T00:53:21.787382Z"
    },
    "papermill": {
     "duration": 0.060245,
     "end_time": "2022-07-27T00:53:21.788072",
     "exception": false,
     "start_time": "2022-07-27T00:53:21.727827",
     "status": "completed"
    },
    "tags": []
   },
   "outputs": [],
   "source": [
    "#hide\n",
    "mapping = get_mappings(paths['mapping'])"
   ]
  },
  {
   "cell_type": "code",
   "execution_count": 6,
   "id": "certified-tactics",
   "metadata": {
    "execution": {
     "iopub.execute_input": "2022-07-27T00:53:21.852882Z",
     "iopub.status.busy": "2022-07-27T00:53:21.852228Z",
     "iopub.status.idle": "2022-07-27T00:53:21.854609Z",
     "shell.execute_reply": "2022-07-27T00:53:21.854141Z"
    },
    "papermill": {
     "duration": 0.036521,
     "end_time": "2022-07-27T00:53:21.854714",
     "exception": false,
     "start_time": "2022-07-27T00:53:21.818193",
     "status": "completed"
    },
    "tags": []
   },
   "outputs": [],
   "source": [
    "#hide\n",
    "def get_template(path):\n",
    "    from urllib.parse import urlparse\n",
    "    if bool(urlparse(path).netloc):\n",
    "        from urllib.request import urlopen\n",
    "        return urlopen(path).read().decode('utf8')\n",
    "    return open(path).read()"
   ]
  },
  {
   "cell_type": "code",
   "execution_count": 7,
   "id": "realistic-blast",
   "metadata": {
    "execution": {
     "iopub.execute_input": "2022-07-27T00:53:21.919140Z",
     "iopub.status.busy": "2022-07-27T00:53:21.918561Z",
     "iopub.status.idle": "2022-07-27T00:53:21.920582Z",
     "shell.execute_reply": "2022-07-27T00:53:21.921133Z"
    },
    "papermill": {
     "duration": 0.036727,
     "end_time": "2022-07-27T00:53:21.921258",
     "exception": false,
     "start_time": "2022-07-27T00:53:21.884531",
     "status": "completed"
    },
    "tags": []
   },
   "outputs": [],
   "source": [
    "#hide\n",
    "def get_frame(name):\n",
    "    url = (\n",
    "        'https://raw.githubusercontent.com/CSSEGISandData/COVID-19/master/csse_covid_19_data/'\n",
    "        f'csse_covid_19_time_series/time_series_covid19_{name}_global.csv')\n",
    "    df = pd.read_csv(url)\n",
    "    # rename countries\n",
    "    df['Country/Region'] = df['Country/Region'].replace(mapping['replace.country'])\n",
    "    return df"
   ]
  },
  {
   "cell_type": "code",
   "execution_count": 8,
   "id": "affiliated-characterization",
   "metadata": {
    "execution": {
     "iopub.execute_input": "2022-07-27T00:53:21.986546Z",
     "iopub.status.busy": "2022-07-27T00:53:21.985953Z",
     "iopub.status.idle": "2022-07-27T00:53:21.989992Z",
     "shell.execute_reply": "2022-07-27T00:53:21.990409Z"
    },
    "papermill": {
     "duration": 0.039418,
     "end_time": "2022-07-27T00:53:21.990531",
     "exception": false,
     "start_time": "2022-07-27T00:53:21.951113",
     "status": "completed"
    },
    "tags": []
   },
   "outputs": [],
   "source": [
    "#hide\n",
    "def get_dates(df):\n",
    "    dt_cols = df.columns[~df.columns.isin(['Province/State', 'Country/Region', 'Lat', 'Long'])]\n",
    "    LAST_DATE_I = -1\n",
    "    # sometimes last column may be empty, then go backwards\n",
    "    for i in range(-1, -len(dt_cols), -1):\n",
    "        if not df[dt_cols[i]].fillna(0).eq(0).all():\n",
    "            LAST_DATE_I = i\n",
    "            break\n",
    "    return LAST_DATE_I, dt_cols"
   ]
  },
  {
   "cell_type": "code",
   "execution_count": 9,
   "id": "recent-optimization",
   "metadata": {
    "execution": {
     "iopub.execute_input": "2022-07-27T00:53:22.055133Z",
     "iopub.status.busy": "2022-07-27T00:53:22.054488Z",
     "iopub.status.idle": "2022-07-27T00:53:22.423617Z",
     "shell.execute_reply": "2022-07-27T00:53:22.423074Z"
    },
    "papermill": {
     "duration": 0.403628,
     "end_time": "2022-07-27T00:53:22.423746",
     "exception": false,
     "start_time": "2022-07-27T00:53:22.020118",
     "status": "completed"
    },
    "tags": []
   },
   "outputs": [],
   "source": [
    "#hide\n",
    "COL_REGION = 'Country/Region'\n",
    "# Confirmed, Recovered, Deaths\n",
    "df = get_frame('confirmed')\n",
    "# dft_: timeseries, dfc_: today country agg\n",
    "dft_cases = df\n",
    "dft_deaths = get_frame('deaths')\n",
    "dft_recovered = get_frame('recovered')\n",
    "LAST_DATE_I, dt_cols = get_dates(df)"
   ]
  },
  {
   "cell_type": "code",
   "execution_count": 10,
   "id": "absolute-copper",
   "metadata": {
    "execution": {
     "iopub.execute_input": "2022-07-27T00:53:22.489344Z",
     "iopub.status.busy": "2022-07-27T00:53:22.488643Z",
     "iopub.status.idle": "2022-07-27T00:53:22.491234Z",
     "shell.execute_reply": "2022-07-27T00:53:22.490591Z"
    },
    "papermill": {
     "duration": 0.037371,
     "end_time": "2022-07-27T00:53:22.491359",
     "exception": false,
     "start_time": "2022-07-27T00:53:22.453988",
     "status": "completed"
    },
    "tags": []
   },
   "outputs": [],
   "source": [
    "#hide\n",
    "LAST_DATE_I, dt_cols = get_dates(df)\n",
    "dt_today =dt_cols[LAST_DATE_I]\n",
    "# dt_5day = dt_cols[LAST_DATE_I - 5]\n",
    "dt_yday = dt_cols[LAST_DATE_I - 1]"
   ]
  },
  {
   "cell_type": "code",
   "execution_count": 11,
   "id": "restricted-sheriff",
   "metadata": {
    "execution": {
     "iopub.execute_input": "2022-07-27T00:53:22.556372Z",
     "iopub.status.busy": "2022-07-27T00:53:22.555772Z",
     "iopub.status.idle": "2022-07-27T00:53:22.563277Z",
     "shell.execute_reply": "2022-07-27T00:53:22.563741Z"
    },
    "papermill": {
     "duration": 0.042946,
     "end_time": "2022-07-27T00:53:22.563886",
     "exception": false,
     "start_time": "2022-07-27T00:53:22.520940",
     "status": "completed"
    },
    "tags": []
   },
   "outputs": [],
   "source": [
    "#hide\n",
    "dfc_cases = dft_cases.groupby(COL_REGION)[dt_today].sum()\n",
    "dfc_deaths = dft_deaths.groupby(COL_REGION)[dt_today].sum()\n",
    "# dfp_cases = dft_cases.groupby(COL_REGION)[dt_5day].sum()\n",
    "# dfp_deaths = dft_deaths.groupby(COL_REGION)[dt_5day].sum()\n",
    "dfp_cases = dft_cases.groupby(COL_REGION)[dt_yday].sum()\n",
    "dfp_deaths = dft_deaths.groupby(COL_REGION)[dt_yday].sum()"
   ]
  },
  {
   "cell_type": "code",
   "execution_count": 12,
   "id": "deluxe-hepatitis",
   "metadata": {
    "execution": {
     "iopub.execute_input": "2022-07-27T00:53:22.628623Z",
     "iopub.status.busy": "2022-07-27T00:53:22.628055Z",
     "iopub.status.idle": "2022-07-27T00:53:22.633003Z",
     "shell.execute_reply": "2022-07-27T00:53:22.633542Z"
    },
    "papermill": {
     "duration": 0.040154,
     "end_time": "2022-07-27T00:53:22.633656",
     "exception": false,
     "start_time": "2022-07-27T00:53:22.593502",
     "status": "completed"
    },
    "tags": []
   },
   "outputs": [],
   "source": [
    "#hide\n",
    "df_table = (pd.DataFrame(dict(Cases = dfc_cases, Deaths = dfc_deaths, PCases = dfp_cases, PDeaths = dfp_deaths))\n",
    "            .sort_values(by = ['Cases','Deaths'], ascending = [False, False])\n",
    "            .reset_index())"
   ]
  },
  {
   "cell_type": "code",
   "execution_count": 13,
   "id": "educational-chancellor",
   "metadata": {
    "execution": {
     "iopub.execute_input": "2022-07-27T00:53:22.704967Z",
     "iopub.status.busy": "2022-07-27T00:53:22.704396Z",
     "iopub.status.idle": "2022-07-27T00:53:22.716636Z",
     "shell.execute_reply": "2022-07-27T00:53:22.716177Z"
    },
    "papermill": {
     "duration": 0.053673,
     "end_time": "2022-07-27T00:53:22.716737",
     "exception": false,
     "start_time": "2022-07-27T00:53:22.663064",
     "status": "completed"
    },
    "tags": []
   },
   "outputs": [
    {
     "data": {
      "text/html": [
       "<div>\n",
       "<style scoped>\n",
       "    .dataframe tbody tr th:only-of-type {\n",
       "        vertical-align: middle;\n",
       "    }\n",
       "\n",
       "    .dataframe tbody tr th {\n",
       "        vertical-align: top;\n",
       "    }\n",
       "\n",
       "    .dataframe thead th {\n",
       "        text-align: right;\n",
       "    }\n",
       "</style>\n",
       "<table border=\"1\" class=\"dataframe\">\n",
       "  <thead>\n",
       "    <tr style=\"text-align: right;\">\n",
       "      <th></th>\n",
       "      <th>Country/Region</th>\n",
       "      <th>Cases</th>\n",
       "      <th>Deaths</th>\n",
       "      <th>PCases</th>\n",
       "      <th>PDeaths</th>\n",
       "      <th>Cases (+)</th>\n",
       "      <th>Deaths (+)</th>\n",
       "      <th>Fatality Rate</th>\n",
       "      <th>Continent</th>\n",
       "    </tr>\n",
       "  </thead>\n",
       "  <tbody>\n",
       "    <tr>\n",
       "      <th>0</th>\n",
       "      <td>US</td>\n",
       "      <td>90567290</td>\n",
       "      <td>1027369</td>\n",
       "      <td>90410386</td>\n",
       "      <td>1026951</td>\n",
       "      <td>156904</td>\n",
       "      <td>418</td>\n",
       "      <td>1.13</td>\n",
       "      <td>North America</td>\n",
       "    </tr>\n",
       "    <tr>\n",
       "      <th>1</th>\n",
       "      <td>India</td>\n",
       "      <td>43920451</td>\n",
       "      <td>526110</td>\n",
       "      <td>43905621</td>\n",
       "      <td>526074</td>\n",
       "      <td>14830</td>\n",
       "      <td>36</td>\n",
       "      <td>1.20</td>\n",
       "      <td>Asia</td>\n",
       "    </tr>\n",
       "    <tr>\n",
       "      <th>2</th>\n",
       "      <td>France</td>\n",
       "      <td>33751295</td>\n",
       "      <td>152600</td>\n",
       "      <td>33621366</td>\n",
       "      <td>152390</td>\n",
       "      <td>129929</td>\n",
       "      <td>210</td>\n",
       "      <td>0.45</td>\n",
       "      <td>Europe</td>\n",
       "    </tr>\n",
       "    <tr>\n",
       "      <th>3</th>\n",
       "      <td>Brazil</td>\n",
       "      <td>33621965</td>\n",
       "      <td>677143</td>\n",
       "      <td>33591356</td>\n",
       "      <td>676964</td>\n",
       "      <td>30609</td>\n",
       "      <td>179</td>\n",
       "      <td>2.01</td>\n",
       "      <td>South America</td>\n",
       "    </tr>\n",
       "    <tr>\n",
       "      <th>4</th>\n",
       "      <td>Germany</td>\n",
       "      <td>30476605</td>\n",
       "      <td>143364</td>\n",
       "      <td>30331133</td>\n",
       "      <td>143177</td>\n",
       "      <td>145472</td>\n",
       "      <td>187</td>\n",
       "      <td>0.47</td>\n",
       "      <td>Europe</td>\n",
       "    </tr>\n",
       "  </tbody>\n",
       "</table>\n",
       "</div>"
      ],
      "text/plain": [
       "  Country/Region     Cases   Deaths    PCases  PDeaths  Cases (+)  Deaths (+)  \\\n",
       "0             US  90567290  1027369  90410386  1026951     156904         418   \n",
       "1          India  43920451   526110  43905621   526074      14830          36   \n",
       "2         France  33751295   152600  33621366   152390     129929         210   \n",
       "3         Brazil  33621965   677143  33591356   676964      30609         179   \n",
       "4        Germany  30476605   143364  30331133   143177     145472         187   \n",
       "\n",
       "   Fatality Rate      Continent  \n",
       "0           1.13  North America  \n",
       "1           1.20           Asia  \n",
       "2           0.45         Europe  \n",
       "3           2.01  South America  \n",
       "4           0.47         Europe  "
      ]
     },
     "execution_count": 13,
     "metadata": {},
     "output_type": "execute_result"
    }
   ],
   "source": [
    "#hide\n",
    "for c in 'Cases, Deaths'.split(', '):\n",
    "    df_table[f'{c} (+)'] = (df_table[c] - df_table[f'P{c}']).clip(0)\n",
    "    #Clip ça veut dire, les chiffres negatif sont interdit\n",
    "df_table['Fatality Rate'] = (100* df_table['Deaths']/ df_table['Cases']).round(2)\n",
    "df_table['Continent'] = df_table['Country/Region'].map(mapping['map.continent'])\n",
    "df_table.head(5)"
   ]
  },
  {
   "cell_type": "code",
   "execution_count": 14,
   "id": "aboriginal-bulgaria",
   "metadata": {
    "execution": {
     "iopub.execute_input": "2022-07-27T00:53:22.781640Z",
     "iopub.status.busy": "2022-07-27T00:53:22.781077Z",
     "iopub.status.idle": "2022-07-27T00:53:22.784619Z",
     "shell.execute_reply": "2022-07-27T00:53:22.785160Z"
    },
    "papermill": {
     "duration": 0.038411,
     "end_time": "2022-07-27T00:53:22.785272",
     "exception": false,
     "start_time": "2022-07-27T00:53:22.746861",
     "status": "completed"
    },
    "tags": []
   },
   "outputs": [],
   "source": [
    "#hide\n",
    "#delete problematic countries from table\n",
    "df_table = df_table[~df_table['Country/Region'].isin(['Cape Verde', 'Cruise Ship', 'Kosovo'])]"
   ]
  },
  {
   "cell_type": "code",
   "execution_count": 15,
   "id": "fantastic-effect",
   "metadata": {
    "execution": {
     "iopub.execute_input": "2022-07-27T00:53:22.852875Z",
     "iopub.status.busy": "2022-07-27T00:53:22.851583Z",
     "iopub.status.idle": "2022-07-27T00:53:22.870310Z",
     "shell.execute_reply": "2022-07-27T00:53:22.870754Z"
    },
    "papermill": {
     "duration": 0.055734,
     "end_time": "2022-07-27T00:53:22.870868",
     "exception": false,
     "start_time": "2022-07-27T00:53:22.815134",
     "status": "completed"
    },
    "tags": []
   },
   "outputs": [
    {
     "data": {
      "text/html": [
       "<div>\n",
       "<style scoped>\n",
       "    .dataframe tbody tr th:only-of-type {\n",
       "        vertical-align: middle;\n",
       "    }\n",
       "\n",
       "    .dataframe tbody tr th {\n",
       "        vertical-align: top;\n",
       "    }\n",
       "\n",
       "    .dataframe thead th {\n",
       "        text-align: right;\n",
       "    }\n",
       "</style>\n",
       "<table border=\"1\" class=\"dataframe\">\n",
       "  <thead>\n",
       "    <tr style=\"text-align: right;\">\n",
       "      <th></th>\n",
       "      <th>Country/Region</th>\n",
       "      <th>Cases</th>\n",
       "      <th>Deaths</th>\n",
       "      <th>PCases</th>\n",
       "      <th>PDeaths</th>\n",
       "      <th>Cases (+)</th>\n",
       "      <th>Deaths (+)</th>\n",
       "      <th>Fatality Rate</th>\n",
       "      <th>Continent</th>\n",
       "    </tr>\n",
       "  </thead>\n",
       "  <tbody>\n",
       "    <tr>\n",
       "      <th>0</th>\n",
       "      <td>US</td>\n",
       "      <td>90567290</td>\n",
       "      <td>1027369</td>\n",
       "      <td>90410386</td>\n",
       "      <td>1026951</td>\n",
       "      <td>156904</td>\n",
       "      <td>418</td>\n",
       "      <td>1.1</td>\n",
       "      <td>North America</td>\n",
       "    </tr>\n",
       "    <tr>\n",
       "      <th>1</th>\n",
       "      <td>India</td>\n",
       "      <td>43920451</td>\n",
       "      <td>526110</td>\n",
       "      <td>43905621</td>\n",
       "      <td>526074</td>\n",
       "      <td>14830</td>\n",
       "      <td>36</td>\n",
       "      <td>1.2</td>\n",
       "      <td>Asia</td>\n",
       "    </tr>\n",
       "    <tr>\n",
       "      <th>2</th>\n",
       "      <td>France</td>\n",
       "      <td>33751295</td>\n",
       "      <td>152600</td>\n",
       "      <td>33621366</td>\n",
       "      <td>152390</td>\n",
       "      <td>129929</td>\n",
       "      <td>210</td>\n",
       "      <td>0.5</td>\n",
       "      <td>Europe</td>\n",
       "    </tr>\n",
       "    <tr>\n",
       "      <th>3</th>\n",
       "      <td>Brazil</td>\n",
       "      <td>33621965</td>\n",
       "      <td>677143</td>\n",
       "      <td>33591356</td>\n",
       "      <td>676964</td>\n",
       "      <td>30609</td>\n",
       "      <td>179</td>\n",
       "      <td>2.0</td>\n",
       "      <td>South America</td>\n",
       "    </tr>\n",
       "    <tr>\n",
       "      <th>4</th>\n",
       "      <td>Germany</td>\n",
       "      <td>30476605</td>\n",
       "      <td>143364</td>\n",
       "      <td>30331133</td>\n",
       "      <td>143177</td>\n",
       "      <td>145472</td>\n",
       "      <td>187</td>\n",
       "      <td>0.5</td>\n",
       "      <td>Europe</td>\n",
       "    </tr>\n",
       "  </tbody>\n",
       "</table>\n",
       "</div>"
      ],
      "text/plain": [
       "  Country/Region     Cases   Deaths    PCases  PDeaths  Cases (+)  Deaths (+)  \\\n",
       "0             US  90567290  1027369  90410386  1026951     156904         418   \n",
       "1          India  43920451   526110  43905621   526074      14830          36   \n",
       "2         France  33751295   152600  33621366   152390     129929         210   \n",
       "3         Brazil  33621965   677143  33591356   676964      30609         179   \n",
       "4        Germany  30476605   143364  30331133   143177     145472         187   \n",
       "\n",
       "   Fatality Rate      Continent  \n",
       "0            1.1  North America  \n",
       "1            1.2           Asia  \n",
       "2            0.5         Europe  \n",
       "3            2.0  South America  \n",
       "4            0.5         Europe  "
      ]
     },
     "execution_count": 15,
     "metadata": {},
     "output_type": "execute_result"
    }
   ],
   "source": [
    "#hide\n",
    "df_table = (pd.DataFrame(dict(Cases=dfc_cases, Deaths=dfc_deaths, PCases=dfp_cases, PDeaths=dfp_deaths))\n",
    "             .sort_values(by=['Cases', 'Deaths'], ascending=[False, False])\n",
    "             .reset_index())\n",
    "df_table.rename(columns={'index': 'Country/Region'}, inplace=True)\n",
    "for c in 'Cases, Deaths'.split(', '):\n",
    "    df_table[f'{c} (+)'] = (df_table[c] - df_table[f'P{c}']).clip(0)  # DATA BUG\n",
    "df_table['Fatality Rate'] = (100 * df_table['Deaths'] / df_table['Cases']).round(1)\n",
    "df_table['Continent'] = df_table['Country/Region'].map(mapping['map.continent'])\n",
    "df_table.head(5)"
   ]
  },
  {
   "cell_type": "code",
   "execution_count": 16,
   "id": "fewer-occasion",
   "metadata": {
    "execution": {
     "iopub.execute_input": "2022-07-27T00:53:22.936673Z",
     "iopub.status.busy": "2022-07-27T00:53:22.936098Z",
     "iopub.status.idle": "2022-07-27T00:53:22.939266Z",
     "shell.execute_reply": "2022-07-27T00:53:22.939705Z"
    },
    "papermill": {
     "duration": 0.038375,
     "end_time": "2022-07-27T00:53:22.939853",
     "exception": false,
     "start_time": "2022-07-27T00:53:22.901478",
     "status": "completed"
    },
    "tags": []
   },
   "outputs": [],
   "source": [
    "#hide\n",
    "#delete problematic countries from table\n",
    "df_table = df_table[~df_table['Country/Region'].isin(['Cape Verde', 'Cruise Ship', 'Kosovo'])]"
   ]
  },
  {
   "cell_type": "code",
   "execution_count": 17,
   "id": "related-center",
   "metadata": {
    "execution": {
     "iopub.execute_input": "2022-07-27T00:53:23.018439Z",
     "iopub.status.busy": "2022-07-27T00:53:23.013045Z",
     "iopub.status.idle": "2022-07-27T00:53:23.020681Z",
     "shell.execute_reply": "2022-07-27T00:53:23.021121Z"
    },
    "papermill": {
     "duration": 0.05092,
     "end_time": "2022-07-27T00:53:23.021241",
     "exception": false,
     "start_time": "2022-07-27T00:53:22.970321",
     "status": "completed"
    },
    "tags": []
   },
   "outputs": [],
   "source": [
    "#hide\n",
    "metrics = [df_table.columns[index] for index in [1,2,5,6]]\n",
    "# s_china = df_table[df_table['Country/Region'].eq('China')][metrics].sum().add_prefix('China ')\n",
    "s_us = df_table[df_table['Country/Region'].eq('US')][metrics].sum().add_prefix('US ')\n",
    "s_eu = df_table[df_table['Continent'].eq('Europe')][metrics].sum().add_prefix('EU ')\n",
    "s_ind = df_table[df_table['Country/Region'].eq('India')][metrics].sum().add_prefix('India ')\n",
    "summary = {'updated': pd.to_datetime(dt_today), 'since': pd.to_datetime(dt_yday)}\n",
    "summary = {'updated': pd.to_datetime(dt_today), 'since': pd.to_datetime(dt_yday)}\n",
    "summary = {**summary, **df_table[metrics].sum(), **s_ind, **s_us, **s_eu}"
   ]
  },
  {
   "cell_type": "code",
   "execution_count": 18,
   "id": "engaging-syndrome",
   "metadata": {
    "execution": {
     "iopub.execute_input": "2022-07-27T00:53:23.087451Z",
     "iopub.status.busy": "2022-07-27T00:53:23.086883Z",
     "iopub.status.idle": "2022-07-27T00:53:23.107236Z",
     "shell.execute_reply": "2022-07-27T00:53:23.106742Z"
    },
    "papermill": {
     "duration": 0.055409,
     "end_time": "2022-07-27T00:53:23.107348",
     "exception": false,
     "start_time": "2022-07-27T00:53:23.051939",
     "status": "completed"
    },
    "tags": []
   },
   "outputs": [],
   "source": [
    "#hide\n",
    "dft_ct_new_cases = dft_cases.groupby(COL_REGION)[dt_cols].sum().diff(axis=1).fillna(0).astype(int)"
   ]
  },
  {
   "cell_type": "code",
   "execution_count": 19,
   "id": "neutral-assignment",
   "metadata": {
    "execution": {
     "iopub.execute_input": "2022-07-27T00:53:23.172390Z",
     "iopub.status.busy": "2022-07-27T00:53:23.171789Z",
     "iopub.status.idle": "2022-07-27T00:53:23.175852Z",
     "shell.execute_reply": "2022-07-27T00:53:23.176403Z"
    },
    "papermill": {
     "duration": 0.038322,
     "end_time": "2022-07-27T00:53:23.176523",
     "exception": false,
     "start_time": "2022-07-27T00:53:23.138201",
     "status": "completed"
    },
    "tags": []
   },
   "outputs": [],
   "source": [
    "#hide\n",
    "everydaycases = dft_ct_new_cases.cumsum(axis=1)"
   ]
  },
  {
   "cell_type": "code",
   "execution_count": 20,
   "id": "parliamentary-calgary",
   "metadata": {
    "execution": {
     "iopub.execute_input": "2022-07-27T00:53:23.242365Z",
     "iopub.status.busy": "2022-07-27T00:53:23.241785Z",
     "iopub.status.idle": "2022-07-27T00:53:23.787676Z",
     "shell.execute_reply": "2022-07-27T00:53:23.788257Z"
    },
    "papermill": {
     "duration": 0.581406,
     "end_time": "2022-07-27T00:53:23.788437",
     "exception": false,
     "start_time": "2022-07-27T00:53:23.207031",
     "status": "completed"
    },
    "tags": []
   },
   "outputs": [],
   "source": [
    "#hide\n",
    "import pandas as pd\n",
    "import matplotlib.pyplot as plt\n",
    "import matplotlib.ticker as ticker\n",
    "import matplotlib.animation as animation\n",
    "from IPython.display import HTML"
   ]
  },
  {
   "cell_type": "code",
   "execution_count": 21,
   "id": "lasting-extraction",
   "metadata": {
    "execution": {
     "iopub.execute_input": "2022-07-27T00:53:23.856955Z",
     "iopub.status.busy": "2022-07-27T00:53:23.856374Z",
     "iopub.status.idle": "2022-07-27T00:53:23.863042Z",
     "shell.execute_reply": "2022-07-27T00:53:23.863609Z"
    },
    "papermill": {
     "duration": 0.044023,
     "end_time": "2022-07-27T00:53:23.863748",
     "exception": false,
     "start_time": "2022-07-27T00:53:23.819725",
     "status": "completed"
    },
    "tags": []
   },
   "outputs": [],
   "source": [
    "#hide\n",
    "t = everydaycases.stack()"
   ]
  },
  {
   "cell_type": "code",
   "execution_count": 22,
   "id": "premier-sleeve",
   "metadata": {
    "execution": {
     "iopub.execute_input": "2022-07-27T00:53:23.929704Z",
     "iopub.status.busy": "2022-07-27T00:53:23.929127Z",
     "iopub.status.idle": "2022-07-27T00:53:23.941079Z",
     "shell.execute_reply": "2022-07-27T00:53:23.941499Z"
    },
    "papermill": {
     "duration": 0.047036,
     "end_time": "2022-07-27T00:53:23.941629",
     "exception": false,
     "start_time": "2022-07-27T00:53:23.894593",
     "status": "completed"
    },
    "tags": []
   },
   "outputs": [],
   "source": [
    "#hide\n",
    "g = t.reset_index(['Country/Region'])"
   ]
  },
  {
   "cell_type": "code",
   "execution_count": 23,
   "id": "distributed-pittsburgh",
   "metadata": {
    "execution": {
     "iopub.execute_input": "2022-07-27T00:53:24.006826Z",
     "iopub.status.busy": "2022-07-27T00:53:24.006255Z",
     "iopub.status.idle": "2022-07-27T00:53:24.008640Z",
     "shell.execute_reply": "2022-07-27T00:53:24.009170Z"
    },
    "papermill": {
     "duration": 0.037031,
     "end_time": "2022-07-27T00:53:24.009297",
     "exception": false,
     "start_time": "2022-07-27T00:53:23.972266",
     "status": "completed"
    },
    "tags": []
   },
   "outputs": [],
   "source": [
    "#hide\n",
    "g.index.name = 'date'"
   ]
  },
  {
   "cell_type": "code",
   "execution_count": 24,
   "id": "naked-donor",
   "metadata": {
    "execution": {
     "iopub.execute_input": "2022-07-27T00:53:24.074844Z",
     "iopub.status.busy": "2022-07-27T00:53:24.074153Z",
     "iopub.status.idle": "2022-07-27T00:53:24.076751Z",
     "shell.execute_reply": "2022-07-27T00:53:24.076114Z"
    },
    "papermill": {
     "duration": 0.036937,
     "end_time": "2022-07-27T00:53:24.076876",
     "exception": false,
     "start_time": "2022-07-27T00:53:24.039939",
     "status": "completed"
    },
    "tags": []
   },
   "outputs": [],
   "source": [
    "# #hide\n",
    "# g = g.reset_index(['date'])"
   ]
  },
  {
   "cell_type": "code",
   "execution_count": 25,
   "id": "incomplete-mustang",
   "metadata": {
    "execution": {
     "iopub.execute_input": "2022-07-27T00:53:24.142405Z",
     "iopub.status.busy": "2022-07-27T00:53:24.141743Z",
     "iopub.status.idle": "2022-07-27T00:53:24.144341Z",
     "shell.execute_reply": "2022-07-27T00:53:24.143671Z"
    },
    "papermill": {
     "duration": 0.036633,
     "end_time": "2022-07-27T00:53:24.144464",
     "exception": false,
     "start_time": "2022-07-27T00:53:24.107831",
     "status": "completed"
    },
    "tags": []
   },
   "outputs": [],
   "source": [
    "#hide\n",
    "# g.head()"
   ]
  },
  {
   "cell_type": "code",
   "execution_count": 26,
   "id": "specific-kruger",
   "metadata": {
    "execution": {
     "iopub.execute_input": "2022-07-27T00:53:24.209975Z",
     "iopub.status.busy": "2022-07-27T00:53:24.209389Z",
     "iopub.status.idle": "2022-07-27T00:53:24.211925Z",
     "shell.execute_reply": "2022-07-27T00:53:24.211350Z"
    },
    "papermill": {
     "duration": 0.036436,
     "end_time": "2022-07-27T00:53:24.212039",
     "exception": false,
     "start_time": "2022-07-27T00:53:24.175603",
     "status": "completed"
    },
    "tags": []
   },
   "outputs": [],
   "source": [
    "#hide\n",
    "# g.columns = ['date','country','cases']"
   ]
  },
  {
   "cell_type": "code",
   "execution_count": 27,
   "id": "tender-conversion",
   "metadata": {
    "execution": {
     "iopub.execute_input": "2022-07-27T00:53:24.276985Z",
     "iopub.status.busy": "2022-07-27T00:53:24.276404Z",
     "iopub.status.idle": "2022-07-27T00:53:24.278590Z",
     "shell.execute_reply": "2022-07-27T00:53:24.279143Z"
    },
    "papermill": {
     "duration": 0.036748,
     "end_time": "2022-07-27T00:53:24.279272",
     "exception": false,
     "start_time": "2022-07-27T00:53:24.242524",
     "status": "completed"
    },
    "tags": []
   },
   "outputs": [],
   "source": [
    "#hide\n",
    "# g['continent'] = g.country"
   ]
  },
  {
   "cell_type": "code",
   "execution_count": 28,
   "id": "substantial-wilderness",
   "metadata": {
    "execution": {
     "iopub.execute_input": "2022-07-27T00:53:24.344555Z",
     "iopub.status.busy": "2022-07-27T00:53:24.343882Z",
     "iopub.status.idle": "2022-07-27T00:53:24.346411Z",
     "shell.execute_reply": "2022-07-27T00:53:24.345774Z"
    },
    "papermill": {
     "duration": 0.036553,
     "end_time": "2022-07-27T00:53:24.346531",
     "exception": false,
     "start_time": "2022-07-27T00:53:24.309978",
     "status": "completed"
    },
    "tags": []
   },
   "outputs": [],
   "source": [
    "#hide\n",
    "# cols = list(g.columns.values)"
   ]
  },
  {
   "cell_type": "code",
   "execution_count": 29,
   "id": "solved-farming",
   "metadata": {
    "execution": {
     "iopub.execute_input": "2022-07-27T00:53:24.412301Z",
     "iopub.status.busy": "2022-07-27T00:53:24.411695Z",
     "iopub.status.idle": "2022-07-27T00:53:24.414009Z",
     "shell.execute_reply": "2022-07-27T00:53:24.414427Z"
    },
    "papermill": {
     "duration": 0.036644,
     "end_time": "2022-07-27T00:53:24.414553",
     "exception": false,
     "start_time": "2022-07-27T00:53:24.377909",
     "status": "completed"
    },
    "tags": []
   },
   "outputs": [],
   "source": [
    "#hide\n",
    "# cols.insert(0, cols.pop())"
   ]
  },
  {
   "cell_type": "code",
   "execution_count": 30,
   "id": "executed-adoption",
   "metadata": {
    "execution": {
     "iopub.execute_input": "2022-07-27T00:53:24.480075Z",
     "iopub.status.busy": "2022-07-27T00:53:24.479377Z",
     "iopub.status.idle": "2022-07-27T00:53:24.482013Z",
     "shell.execute_reply": "2022-07-27T00:53:24.481479Z"
    },
    "papermill": {
     "duration": 0.037036,
     "end_time": "2022-07-27T00:53:24.482134",
     "exception": false,
     "start_time": "2022-07-27T00:53:24.445098",
     "status": "completed"
    },
    "tags": []
   },
   "outputs": [],
   "source": [
    "#hide\n",
    "# g = g[cols]"
   ]
  },
  {
   "cell_type": "code",
   "execution_count": 31,
   "id": "subject-dublin",
   "metadata": {
    "execution": {
     "iopub.execute_input": "2022-07-27T00:53:24.547293Z",
     "iopub.status.busy": "2022-07-27T00:53:24.546646Z",
     "iopub.status.idle": "2022-07-27T00:53:24.549273Z",
     "shell.execute_reply": "2022-07-27T00:53:24.548749Z"
    },
    "papermill": {
     "duration": 0.036358,
     "end_time": "2022-07-27T00:53:24.549389",
     "exception": false,
     "start_time": "2022-07-27T00:53:24.513031",
     "status": "completed"
    },
    "tags": []
   },
   "outputs": [],
   "source": [
    "#hide\n",
    "# g['continent'] = g['continent'].map(mapping['map.continent'])"
   ]
  },
  {
   "cell_type": "code",
   "execution_count": 32,
   "id": "freelance-scout",
   "metadata": {
    "execution": {
     "iopub.execute_input": "2022-07-27T00:53:24.615280Z",
     "iopub.status.busy": "2022-07-27T00:53:24.614620Z",
     "iopub.status.idle": "2022-07-27T00:53:24.616641Z",
     "shell.execute_reply": "2022-07-27T00:53:24.617064Z"
    },
    "papermill": {
     "duration": 0.036363,
     "end_time": "2022-07-27T00:53:24.617184",
     "exception": false,
     "start_time": "2022-07-27T00:53:24.580821",
     "status": "completed"
    },
    "tags": []
   },
   "outputs": [],
   "source": [
    "#hide\n",
    "# g.head()"
   ]
  },
  {
   "cell_type": "code",
   "execution_count": 33,
   "id": "limited-engine",
   "metadata": {
    "execution": {
     "iopub.execute_input": "2022-07-27T00:53:24.682399Z",
     "iopub.status.busy": "2022-07-27T00:53:24.681725Z",
     "iopub.status.idle": "2022-07-27T00:53:24.684213Z",
     "shell.execute_reply": "2022-07-27T00:53:24.683545Z"
    },
    "papermill": {
     "duration": 0.03667,
     "end_time": "2022-07-27T00:53:24.684338",
     "exception": false,
     "start_time": "2022-07-27T00:53:24.647668",
     "status": "completed"
    },
    "tags": []
   },
   "outputs": [],
   "source": [
    "# hide\n",
    "# g['date'] = g['date'].astype('datetime64[ns]')"
   ]
  },
  {
   "cell_type": "code",
   "execution_count": 34,
   "id": "sophisticated-supervisor",
   "metadata": {
    "execution": {
     "iopub.execute_input": "2022-07-27T00:53:24.749716Z",
     "iopub.status.busy": "2022-07-27T00:53:24.749137Z",
     "iopub.status.idle": "2022-07-27T00:53:24.751097Z",
     "shell.execute_reply": "2022-07-27T00:53:24.751543Z"
    },
    "papermill": {
     "duration": 0.036164,
     "end_time": "2022-07-27T00:53:24.751666",
     "exception": false,
     "start_time": "2022-07-27T00:53:24.715502",
     "status": "completed"
    },
    "tags": []
   },
   "outputs": [],
   "source": [
    "#hide\n",
    "# g['date'] = g.date.dt.dayofyear"
   ]
  },
  {
   "cell_type": "code",
   "execution_count": 35,
   "id": "inside-dubai",
   "metadata": {
    "execution": {
     "iopub.execute_input": "2022-07-27T00:53:24.815992Z",
     "iopub.status.busy": "2022-07-27T00:53:24.815316Z",
     "iopub.status.idle": "2022-07-27T00:53:24.817865Z",
     "shell.execute_reply": "2022-07-27T00:53:24.817227Z"
    },
    "papermill": {
     "duration": 0.035942,
     "end_time": "2022-07-27T00:53:24.817984",
     "exception": false,
     "start_time": "2022-07-27T00:53:24.782042",
     "status": "completed"
    },
    "tags": []
   },
   "outputs": [],
   "source": [
    "#hide\n",
    "# g = g.rename(columns= {'continent':'group','country':'name','cases':'value'})"
   ]
  },
  {
   "cell_type": "code",
   "execution_count": 36,
   "id": "fleet-motorcycle",
   "metadata": {
    "execution": {
     "iopub.execute_input": "2022-07-27T00:53:24.883311Z",
     "iopub.status.busy": "2022-07-27T00:53:24.882638Z",
     "iopub.status.idle": "2022-07-27T00:53:24.886430Z",
     "shell.execute_reply": "2022-07-27T00:53:24.886913Z"
    },
    "papermill": {
     "duration": 0.038309,
     "end_time": "2022-07-27T00:53:24.887053",
     "exception": false,
     "start_time": "2022-07-27T00:53:24.848744",
     "status": "completed"
    },
    "tags": []
   },
   "outputs": [],
   "source": [
    "#hide\n",
    "# cols = ['name','group','day','value']"
   ]
  },
  {
   "cell_type": "code",
   "execution_count": 37,
   "id": "continued-sleeping",
   "metadata": {
    "execution": {
     "iopub.execute_input": "2022-07-27T00:53:24.952647Z",
     "iopub.status.busy": "2022-07-27T00:53:24.952067Z",
     "iopub.status.idle": "2022-07-27T00:53:24.954182Z",
     "shell.execute_reply": "2022-07-27T00:53:24.954625Z"
    },
    "papermill": {
     "duration": 0.036506,
     "end_time": "2022-07-27T00:53:24.954745",
     "exception": false,
     "start_time": "2022-07-27T00:53:24.918239",
     "status": "completed"
    },
    "tags": []
   },
   "outputs": [],
   "source": [
    "#hide\n",
    "# g.rename(columns= {'date':'day'},inplace = True)"
   ]
  },
  {
   "cell_type": "code",
   "execution_count": 38,
   "id": "major-fight",
   "metadata": {
    "execution": {
     "iopub.execute_input": "2022-07-27T00:53:25.020575Z",
     "iopub.status.busy": "2022-07-27T00:53:25.019970Z",
     "iopub.status.idle": "2022-07-27T00:53:25.022711Z",
     "shell.execute_reply": "2022-07-27T00:53:25.022242Z"
    },
    "papermill": {
     "duration": 0.037508,
     "end_time": "2022-07-27T00:53:25.022825",
     "exception": false,
     "start_time": "2022-07-27T00:53:24.985317",
     "status": "completed"
    },
    "tags": []
   },
   "outputs": [],
   "source": [
    "#hide\n",
    "# g = g[cols]"
   ]
  },
  {
   "cell_type": "code",
   "execution_count": 39,
   "id": "structured-mobile",
   "metadata": {
    "execution": {
     "iopub.execute_input": "2022-07-27T00:53:25.089061Z",
     "iopub.status.busy": "2022-07-27T00:53:25.088372Z",
     "iopub.status.idle": "2022-07-27T00:53:25.090909Z",
     "shell.execute_reply": "2022-07-27T00:53:25.090368Z"
    },
    "papermill": {
     "duration": 0.036878,
     "end_time": "2022-07-27T00:53:25.091034",
     "exception": false,
     "start_time": "2022-07-27T00:53:25.054156",
     "status": "completed"
    },
    "tags": []
   },
   "outputs": [],
   "source": [
    "# #hide\n",
    "# g = g[g.group.notna()]"
   ]
  },
  {
   "cell_type": "code",
   "execution_count": 40,
   "id": "determined-closing",
   "metadata": {
    "execution": {
     "iopub.execute_input": "2022-07-27T00:53:25.157559Z",
     "iopub.status.busy": "2022-07-27T00:53:25.156962Z",
     "iopub.status.idle": "2022-07-27T00:53:25.159171Z",
     "shell.execute_reply": "2022-07-27T00:53:25.159727Z"
    },
    "papermill": {
     "duration": 0.03735,
     "end_time": "2022-07-27T00:53:25.159879",
     "exception": false,
     "start_time": "2022-07-27T00:53:25.122529",
     "status": "completed"
    },
    "tags": []
   },
   "outputs": [],
   "source": [
    "# #hide\n",
    "# colors = dict(zip(\n",
    "#     [\"Oceania\", \"Europe\", \"Asia\", \"South America\", \"Middle East\", \"North America\", \"Africa\"],\n",
    "#     [\"#adb0ff\", \"#ffb3ff\", \"#90d595\", \"#e48381\", \"#aafbff\", \"#f7bb5f\", \"#eafb50\"]\n",
    "# ))\n",
    "# group_lk = g.set_index('name')['group'].to_dict()"
   ]
  },
  {
   "cell_type": "code",
   "execution_count": null,
   "id": "gross-drinking",
   "metadata": {
    "papermill": {
     "duration": 0.03077,
     "end_time": "2022-07-27T00:53:25.221044",
     "exception": false,
     "start_time": "2022-07-27T00:53:25.190274",
     "status": "completed"
    },
    "tags": []
   },
   "outputs": [],
   "source": []
  },
  {
   "cell_type": "code",
   "execution_count": 41,
   "id": "subject-macintosh",
   "metadata": {
    "execution": {
     "iopub.execute_input": "2022-07-27T00:53:25.287248Z",
     "iopub.status.busy": "2022-07-27T00:53:25.286604Z",
     "iopub.status.idle": "2022-07-27T00:53:25.289067Z",
     "shell.execute_reply": "2022-07-27T00:53:25.288590Z"
    },
    "papermill": {
     "duration": 0.037474,
     "end_time": "2022-07-27T00:53:25.289178",
     "exception": false,
     "start_time": "2022-07-27T00:53:25.251704",
     "status": "completed"
    },
    "tags": []
   },
   "outputs": [],
   "source": [
    "# #hide\n",
    "# fig, ax = plt.subplots(figsize=(15, 8))\n",
    "\n",
    "# def draw_barchart(current_day):\n",
    "#     dff = g[g['day'].eq(current_day)].sort_values(by='value', ascending=True).tail(10)\n",
    "#     ax.clear()\n",
    "#     ax.barh(dff['name'], dff['value'], color=[colors[group_lk[x]] for x in dff['name']])\n",
    "#     dx = dff['value'].max() / 200\n",
    "    \n",
    "#     for i, (value, name) in enumerate(zip(dff['value'], dff['name'])):\n",
    "#         ax.text(value-dx, i,     name,           size=14, weight=600, ha='right', va='bottom')\n",
    "#         ax.text(value-dx, i-.25, group_lk[name], size=10, color='#444444', ha='right', va='baseline')\n",
    "#         ax.text(value+dx, i,     f'{value:,.0f}',  size=14, ha='left',  va='center')\n",
    "#     ax.text(1, 0.4, current_day, transform=ax.transAxes, color='#777777', size=46, ha='right', weight=800)\n",
    "#     ax.text(0, 1.06, 'Population (thousands)', transform=ax.transAxes, size=12, color='#777777')\n",
    "#     ax.xaxis.set_major_formatter(ticker.StrMethodFormatter('{x:,.0f}'))\n",
    "#     ax.xaxis.set_ticks_position('top')\n",
    "#     ax.tick_params(axis='x', colors='#777777', labelsize=12)\n",
    "#     ax.set_yticks([])\n",
    "#     ax.margins(0, 0.01)\n",
    "#     ax.grid(which='major', axis='x', linestyle='-')\n",
    "#     ax.set_axisbelow(True)\n",
    "    \n",
    "#     ax.text(0, 1.15, 'Coronavirus',\n",
    "#             transform=ax.transAxes, size=24, weight=600, ha='left', va='top')\n",
    "# #     ax.text(1, 0, 'by @pratapvardhan; credit @jburnmurdoch', transform=ax.transAxes, color='#777777', ha='right',\n",
    "# #             bbox=dict(facecolor='white', alpha=0.8, edgecolor='white'))\n",
    "#     plt.box(False)"
   ]
  },
  {
   "cell_type": "code",
   "execution_count": 42,
   "id": "sexual-wages",
   "metadata": {
    "execution": {
     "iopub.execute_input": "2022-07-27T00:53:25.354880Z",
     "iopub.status.busy": "2022-07-27T00:53:25.354296Z",
     "iopub.status.idle": "2022-07-27T00:53:25.356510Z",
     "shell.execute_reply": "2022-07-27T00:53:25.357059Z"
    },
    "papermill": {
     "duration": 0.037186,
     "end_time": "2022-07-27T00:53:25.357195",
     "exception": false,
     "start_time": "2022-07-27T00:53:25.320009",
     "status": "completed"
    },
    "tags": []
   },
   "outputs": [],
   "source": [
    "# #hide_input\n",
    "# fig, ax = plt.subplots(figsize=(15, 8))\n",
    "# animator = animation.FuncAnimation(fig, draw_barchart, frames=range(g.day.values.min(), g.day.values.max()))\n",
    "# HTML(animator.to_jshtml())\n",
    "# # or use animator.to_html5_video() or animator.save() "
   ]
  },
  {
   "cell_type": "code",
   "execution_count": null,
   "id": "australian-container",
   "metadata": {
    "papermill": {
     "duration": 0.031122,
     "end_time": "2022-07-27T00:53:25.418808",
     "exception": false,
     "start_time": "2022-07-27T00:53:25.387686",
     "status": "completed"
    },
    "tags": []
   },
   "outputs": [],
   "source": []
  },
  {
   "cell_type": "code",
   "execution_count": null,
   "id": "mediterranean-pontiac",
   "metadata": {
    "papermill": {
     "duration": 0.030507,
     "end_time": "2022-07-27T00:53:25.479815",
     "exception": false,
     "start_time": "2022-07-27T00:53:25.449308",
     "status": "completed"
    },
    "tags": []
   },
   "outputs": [],
   "source": []
  },
  {
   "cell_type": "code",
   "execution_count": null,
   "id": "aging-legislature",
   "metadata": {
    "papermill": {
     "duration": 0.031294,
     "end_time": "2022-07-27T00:53:25.541825",
     "exception": false,
     "start_time": "2022-07-27T00:53:25.510531",
     "status": "completed"
    },
    "tags": []
   },
   "outputs": [],
   "source": []
  }
 ],
 "metadata": {
  "kernelspec": {
   "display_name": "Python 3",
   "language": "python",
   "name": "python3"
  },
  "language_info": {
   "codemirror_mode": {
    "name": "ipython",
    "version": 3
   },
   "file_extension": ".py",
   "mimetype": "text/x-python",
   "name": "python",
   "nbconvert_exporter": "python",
   "pygments_lexer": "ipython3",
   "version": "3.6.15"
  },
  "papermill": {
   "duration": 5.771771,
   "end_time": "2022-07-27T00:53:25.890841",
   "environment_variables": {},
   "exception": null,
   "input_path": "2020-03-21-covid19exp.ipynb",
   "output_path": "2020-03-21-covid19exp.ipynb",
   "parameters": {},
   "start_time": "2022-07-27T00:53:20.119070",
   "version": "2.0.0"
  }
 },
 "nbformat": 4,
 "nbformat_minor": 5
}