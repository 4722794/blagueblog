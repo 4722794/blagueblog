{
 "cells": [
  {
   "cell_type": "markdown",
   "id": "muslim-click",
   "metadata": {
    "papermill": {
     "duration": 0.03482,
     "end_time": "2021-09-20T00:24:02.326869",
     "exception": false,
     "start_time": "2021-09-20T00:24:02.292049",
     "status": "completed"
    },
    "tags": []
   },
   "source": [
    "# COVID-19 Case Race\n",
    "> A race chart to see rising cases around the world\n",
    "\n",
    "- author: Hargun Oberoi\n",
    "- image: images/covid-overview.png\n",
    "- hide: false\n",
    "- badges: false"
   ]
  },
  {
   "cell_type": "code",
   "execution_count": 1,
   "id": "proof-material",
   "metadata": {
    "execution": {
     "iopub.execute_input": "2021-09-20T00:24:02.398161Z",
     "iopub.status.busy": "2021-09-20T00:24:02.392866Z",
     "iopub.status.idle": "2021-09-20T00:24:02.730405Z",
     "shell.execute_reply": "2021-09-20T00:24:02.729546Z"
    },
    "papermill": {
     "duration": 0.373298,
     "end_time": "2021-09-20T00:24:02.730555",
     "exception": false,
     "start_time": "2021-09-20T00:24:02.357257",
     "status": "completed"
    },
    "tags": []
   },
   "outputs": [],
   "source": [
    "#hide\n",
    "import numpy as np\n",
    "import pandas as pd\n",
    "from jinja2 import Template\n",
    "from IPython.display import HTML"
   ]
  },
  {
   "cell_type": "code",
   "execution_count": 2,
   "id": "developed-terminology",
   "metadata": {
    "execution": {
     "iopub.execute_input": "2021-09-20T00:24:02.794113Z",
     "iopub.status.busy": "2021-09-20T00:24:02.793535Z",
     "iopub.status.idle": "2021-09-20T00:24:02.795750Z",
     "shell.execute_reply": "2021-09-20T00:24:02.795394Z"
    },
    "papermill": {
     "duration": 0.035171,
     "end_time": "2021-09-20T00:24:02.795856",
     "exception": false,
     "start_time": "2021-09-20T00:24:02.760685",
     "status": "completed"
    },
    "tags": []
   },
   "outputs": [],
   "source": [
    "#hide\n",
    "\n",
    "# FETCH\n",
    "base_url = 'https://raw.githubusercontent.com/pratapvardhan/notebooks/master/covid19/'\n",
    "paths = {\n",
    "    'mapping': base_url + 'mapping_countries.csv',\n",
    "    'overview': base_url + 'overview.tpl'\n",
    "}"
   ]
  },
  {
   "cell_type": "code",
   "execution_count": 3,
   "id": "dynamic-saver",
   "metadata": {
    "execution": {
     "iopub.execute_input": "2021-09-20T00:24:02.863604Z",
     "iopub.status.busy": "2021-09-20T00:24:02.857967Z",
     "iopub.status.idle": "2021-09-20T00:24:02.866317Z",
     "shell.execute_reply": "2021-09-20T00:24:02.865856Z"
    },
    "papermill": {
     "duration": 0.042063,
     "end_time": "2021-09-20T00:24:02.866424",
     "exception": false,
     "start_time": "2021-09-20T00:24:02.824361",
     "status": "completed"
    },
    "tags": []
   },
   "outputs": [
    {
     "data": {
      "text/plain": [
       "'https://raw.githubusercontent.com/pratapvardhan/notebooks/master/covid19/mapping_countries.csv'"
      ]
     },
     "execution_count": 3,
     "metadata": {},
     "output_type": "execute_result"
    }
   ],
   "source": [
    "#hide\n",
    "paths['mapping']"
   ]
  },
  {
   "cell_type": "code",
   "execution_count": 4,
   "id": "urban-software",
   "metadata": {
    "execution": {
     "iopub.execute_input": "2021-09-20T00:24:02.927898Z",
     "iopub.status.busy": "2021-09-20T00:24:02.927444Z",
     "iopub.status.idle": "2021-09-20T00:24:02.930274Z",
     "shell.execute_reply": "2021-09-20T00:24:02.930813Z"
    },
    "papermill": {
     "duration": 0.037364,
     "end_time": "2021-09-20T00:24:02.930974",
     "exception": false,
     "start_time": "2021-09-20T00:24:02.893610",
     "status": "completed"
    },
    "tags": []
   },
   "outputs": [],
   "source": [
    "#hide\n",
    "def get_mappings(url):\n",
    "    df = pd.read_csv(url)\n",
    "    return {\n",
    "        'df': df,\n",
    "        'replace.country': dict(df.dropna(subset=['Name']).set_index('Country')['Name']),\n",
    "        'map.continent': dict(df.set_index('Name')['Continent'])\n",
    "    }"
   ]
  },
  {
   "cell_type": "code",
   "execution_count": 5,
   "id": "intimate-machinery",
   "metadata": {
    "execution": {
     "iopub.execute_input": "2021-09-20T00:24:02.994280Z",
     "iopub.status.busy": "2021-09-20T00:24:02.993699Z",
     "iopub.status.idle": "2021-09-20T00:24:03.056144Z",
     "shell.execute_reply": "2021-09-20T00:24:03.055558Z"
    },
    "papermill": {
     "duration": 0.096343,
     "end_time": "2021-09-20T00:24:03.056276",
     "exception": false,
     "start_time": "2021-09-20T00:24:02.959933",
     "status": "completed"
    },
    "tags": []
   },
   "outputs": [],
   "source": [
    "#hide\n",
    "mapping = get_mappings(paths['mapping'])"
   ]
  },
  {
   "cell_type": "code",
   "execution_count": 6,
   "id": "certified-tactics",
   "metadata": {
    "execution": {
     "iopub.execute_input": "2021-09-20T00:24:03.127645Z",
     "iopub.status.busy": "2021-09-20T00:24:03.127013Z",
     "iopub.status.idle": "2021-09-20T00:24:03.128602Z",
     "shell.execute_reply": "2021-09-20T00:24:03.129092Z"
    },
    "papermill": {
     "duration": 0.040567,
     "end_time": "2021-09-20T00:24:03.129221",
     "exception": false,
     "start_time": "2021-09-20T00:24:03.088654",
     "status": "completed"
    },
    "tags": []
   },
   "outputs": [],
   "source": [
    "#hide\n",
    "def get_template(path):\n",
    "    from urllib.parse import urlparse\n",
    "    if bool(urlparse(path).netloc):\n",
    "        from urllib.request import urlopen\n",
    "        return urlopen(path).read().decode('utf8')\n",
    "    return open(path).read()"
   ]
  },
  {
   "cell_type": "code",
   "execution_count": 7,
   "id": "realistic-blast",
   "metadata": {
    "execution": {
     "iopub.execute_input": "2021-09-20T00:24:03.198583Z",
     "iopub.status.busy": "2021-09-20T00:24:03.197973Z",
     "iopub.status.idle": "2021-09-20T00:24:03.200086Z",
     "shell.execute_reply": "2021-09-20T00:24:03.200500Z"
    },
    "papermill": {
     "duration": 0.039421,
     "end_time": "2021-09-20T00:24:03.200633",
     "exception": false,
     "start_time": "2021-09-20T00:24:03.161212",
     "status": "completed"
    },
    "tags": []
   },
   "outputs": [],
   "source": [
    "#hide\n",
    "def get_frame(name):\n",
    "    url = (\n",
    "        'https://raw.githubusercontent.com/CSSEGISandData/COVID-19/master/csse_covid_19_data/'\n",
    "        f'csse_covid_19_time_series/time_series_covid19_{name}_global.csv')\n",
    "    df = pd.read_csv(url)\n",
    "    # rename countries\n",
    "    df['Country/Region'] = df['Country/Region'].replace(mapping['replace.country'])\n",
    "    return df"
   ]
  },
  {
   "cell_type": "code",
   "execution_count": 8,
   "id": "affiliated-characterization",
   "metadata": {
    "execution": {
     "iopub.execute_input": "2021-09-20T00:24:03.265455Z",
     "iopub.status.busy": "2021-09-20T00:24:03.264976Z",
     "iopub.status.idle": "2021-09-20T00:24:03.267368Z",
     "shell.execute_reply": "2021-09-20T00:24:03.267861Z"
    },
    "papermill": {
     "duration": 0.037487,
     "end_time": "2021-09-20T00:24:03.267990",
     "exception": false,
     "start_time": "2021-09-20T00:24:03.230503",
     "status": "completed"
    },
    "tags": []
   },
   "outputs": [],
   "source": [
    "#hide\n",
    "def get_dates(df):\n",
    "    dt_cols = df.columns[~df.columns.isin(['Province/State', 'Country/Region', 'Lat', 'Long'])]\n",
    "    LAST_DATE_I = -1\n",
    "    # sometimes last column may be empty, then go backwards\n",
    "    for i in range(-1, -len(dt_cols), -1):\n",
    "        if not df[dt_cols[i]].fillna(0).eq(0).all():\n",
    "            LAST_DATE_I = i\n",
    "            break\n",
    "    return LAST_DATE_I, dt_cols"
   ]
  },
  {
   "cell_type": "code",
   "execution_count": 9,
   "id": "recent-optimization",
   "metadata": {
    "execution": {
     "iopub.execute_input": "2021-09-20T00:24:03.331244Z",
     "iopub.status.busy": "2021-09-20T00:24:03.330642Z",
     "iopub.status.idle": "2021-09-20T00:24:04.310227Z",
     "shell.execute_reply": "2021-09-20T00:24:04.309615Z"
    },
    "papermill": {
     "duration": 1.013897,
     "end_time": "2021-09-20T00:24:04.310353",
     "exception": false,
     "start_time": "2021-09-20T00:24:03.296456",
     "status": "completed"
    },
    "tags": []
   },
   "outputs": [],
   "source": [
    "#hide\n",
    "COL_REGION = 'Country/Region'\n",
    "# Confirmed, Recovered, Deaths\n",
    "df = get_frame('confirmed')\n",
    "# dft_: timeseries, dfc_: today country agg\n",
    "dft_cases = df\n",
    "dft_deaths = get_frame('deaths')\n",
    "dft_recovered = get_frame('recovered')\n",
    "LAST_DATE_I, dt_cols = get_dates(df)"
   ]
  },
  {
   "cell_type": "code",
   "execution_count": 10,
   "id": "absolute-copper",
   "metadata": {
    "execution": {
     "iopub.execute_input": "2021-09-20T00:24:04.373823Z",
     "iopub.status.busy": "2021-09-20T00:24:04.373288Z",
     "iopub.status.idle": "2021-09-20T00:24:04.375109Z",
     "shell.execute_reply": "2021-09-20T00:24:04.375530Z"
    },
    "papermill": {
     "duration": 0.036483,
     "end_time": "2021-09-20T00:24:04.375666",
     "exception": false,
     "start_time": "2021-09-20T00:24:04.339183",
     "status": "completed"
    },
    "tags": []
   },
   "outputs": [],
   "source": [
    "#hide\n",
    "LAST_DATE_I, dt_cols = get_dates(df)\n",
    "dt_today =dt_cols[LAST_DATE_I]\n",
    "# dt_5day = dt_cols[LAST_DATE_I - 5]\n",
    "dt_yday = dt_cols[LAST_DATE_I - 1]"
   ]
  },
  {
   "cell_type": "code",
   "execution_count": 11,
   "id": "restricted-sheriff",
   "metadata": {
    "execution": {
     "iopub.execute_input": "2021-09-20T00:24:04.439313Z",
     "iopub.status.busy": "2021-09-20T00:24:04.438837Z",
     "iopub.status.idle": "2021-09-20T00:24:04.447424Z",
     "shell.execute_reply": "2021-09-20T00:24:04.446930Z"
    },
    "papermill": {
     "duration": 0.044316,
     "end_time": "2021-09-20T00:24:04.447539",
     "exception": false,
     "start_time": "2021-09-20T00:24:04.403223",
     "status": "completed"
    },
    "tags": []
   },
   "outputs": [],
   "source": [
    "#hide\n",
    "dfc_cases = dft_cases.groupby(COL_REGION)[dt_today].sum()\n",
    "dfc_deaths = dft_deaths.groupby(COL_REGION)[dt_today].sum()\n",
    "# dfp_cases = dft_cases.groupby(COL_REGION)[dt_5day].sum()\n",
    "# dfp_deaths = dft_deaths.groupby(COL_REGION)[dt_5day].sum()\n",
    "dfp_cases = dft_cases.groupby(COL_REGION)[dt_yday].sum()\n",
    "dfp_deaths = dft_deaths.groupby(COL_REGION)[dt_yday].sum()"
   ]
  },
  {
   "cell_type": "code",
   "execution_count": 12,
   "id": "deluxe-hepatitis",
   "metadata": {
    "execution": {
     "iopub.execute_input": "2021-09-20T00:24:04.509527Z",
     "iopub.status.busy": "2021-09-20T00:24:04.509114Z",
     "iopub.status.idle": "2021-09-20T00:24:04.515019Z",
     "shell.execute_reply": "2021-09-20T00:24:04.515402Z"
    },
    "papermill": {
     "duration": 0.041212,
     "end_time": "2021-09-20T00:24:04.515492",
     "exception": false,
     "start_time": "2021-09-20T00:24:04.474280",
     "status": "completed"
    },
    "tags": []
   },
   "outputs": [],
   "source": [
    "#hide\n",
    "df_table = (pd.DataFrame(dict(Cases = dfc_cases, Deaths = dfc_deaths, PCases = dfp_cases, PDeaths = dfp_deaths))\n",
    "            .sort_values(by = ['Cases','Deaths'], ascending = [False, False])\n",
    "            .reset_index())"
   ]
  },
  {
   "cell_type": "code",
   "execution_count": 13,
   "id": "educational-chancellor",
   "metadata": {
    "execution": {
     "iopub.execute_input": "2021-09-20T00:24:04.587145Z",
     "iopub.status.busy": "2021-09-20T00:24:04.586692Z",
     "iopub.status.idle": "2021-09-20T00:24:04.593484Z",
     "shell.execute_reply": "2021-09-20T00:24:04.593154Z"
    },
    "papermill": {
     "duration": 0.050312,
     "end_time": "2021-09-20T00:24:04.593568",
     "exception": false,
     "start_time": "2021-09-20T00:24:04.543256",
     "status": "completed"
    },
    "tags": []
   },
   "outputs": [
    {
     "data": {
      "text/html": [
       "<div>\n",
       "<style scoped>\n",
       "    .dataframe tbody tr th:only-of-type {\n",
       "        vertical-align: middle;\n",
       "    }\n",
       "\n",
       "    .dataframe tbody tr th {\n",
       "        vertical-align: top;\n",
       "    }\n",
       "\n",
       "    .dataframe thead th {\n",
       "        text-align: right;\n",
       "    }\n",
       "</style>\n",
       "<table border=\"1\" class=\"dataframe\">\n",
       "  <thead>\n",
       "    <tr style=\"text-align: right;\">\n",
       "      <th></th>\n",
       "      <th>Country/Region</th>\n",
       "      <th>Cases</th>\n",
       "      <th>Deaths</th>\n",
       "      <th>PCases</th>\n",
       "      <th>PDeaths</th>\n",
       "      <th>Cases (+)</th>\n",
       "      <th>Deaths (+)</th>\n",
       "      <th>Fatality Rate</th>\n",
       "      <th>Continent</th>\n",
       "    </tr>\n",
       "  </thead>\n",
       "  <tbody>\n",
       "    <tr>\n",
       "      <th>0</th>\n",
       "      <td>US</td>\n",
       "      <td>42050638</td>\n",
       "      <td>673472</td>\n",
       "      <td>41993789</td>\n",
       "      <td>672635</td>\n",
       "      <td>56849</td>\n",
       "      <td>837</td>\n",
       "      <td>1.60</td>\n",
       "      <td>North America</td>\n",
       "    </tr>\n",
       "    <tr>\n",
       "      <th>1</th>\n",
       "      <td>India</td>\n",
       "      <td>33448163</td>\n",
       "      <td>444838</td>\n",
       "      <td>33417390</td>\n",
       "      <td>444529</td>\n",
       "      <td>30773</td>\n",
       "      <td>309</td>\n",
       "      <td>1.33</td>\n",
       "      <td>Asia</td>\n",
       "    </tr>\n",
       "    <tr>\n",
       "      <th>2</th>\n",
       "      <td>Brazil</td>\n",
       "      <td>21230325</td>\n",
       "      <td>590508</td>\n",
       "      <td>21080219</td>\n",
       "      <td>589573</td>\n",
       "      <td>150106</td>\n",
       "      <td>935</td>\n",
       "      <td>2.78</td>\n",
       "      <td>South America</td>\n",
       "    </tr>\n",
       "    <tr>\n",
       "      <th>3</th>\n",
       "      <td>United Kingdom</td>\n",
       "      <td>7435493</td>\n",
       "      <td>135478</td>\n",
       "      <td>7406017</td>\n",
       "      <td>135314</td>\n",
       "      <td>29476</td>\n",
       "      <td>164</td>\n",
       "      <td>1.82</td>\n",
       "      <td>Europe</td>\n",
       "    </tr>\n",
       "    <tr>\n",
       "      <th>4</th>\n",
       "      <td>Russia</td>\n",
       "      <td>7150244</td>\n",
       "      <td>193891</td>\n",
       "      <td>7130245</td>\n",
       "      <td>193111</td>\n",
       "      <td>19999</td>\n",
       "      <td>780</td>\n",
       "      <td>2.71</td>\n",
       "      <td>Europe</td>\n",
       "    </tr>\n",
       "  </tbody>\n",
       "</table>\n",
       "</div>"
      ],
      "text/plain": [
       "   Country/Region     Cases  Deaths    PCases  PDeaths  Cases (+)  Deaths (+)  \\\n",
       "0              US  42050638  673472  41993789   672635      56849         837   \n",
       "1           India  33448163  444838  33417390   444529      30773         309   \n",
       "2          Brazil  21230325  590508  21080219   589573     150106         935   \n",
       "3  United Kingdom   7435493  135478   7406017   135314      29476         164   \n",
       "4          Russia   7150244  193891   7130245   193111      19999         780   \n",
       "\n",
       "   Fatality Rate      Continent  \n",
       "0           1.60  North America  \n",
       "1           1.33           Asia  \n",
       "2           2.78  South America  \n",
       "3           1.82         Europe  \n",
       "4           2.71         Europe  "
      ]
     },
     "execution_count": 13,
     "metadata": {},
     "output_type": "execute_result"
    }
   ],
   "source": [
    "#hide\n",
    "for c in 'Cases, Deaths'.split(', '):\n",
    "    df_table[f'{c} (+)'] = (df_table[c] - df_table[f'P{c}']).clip(0)\n",
    "    #Clip ça veut dire, les chiffres negatif sont interdit\n",
    "df_table['Fatality Rate'] = (100* df_table['Deaths']/ df_table['Cases']).round(2)\n",
    "df_table['Continent'] = df_table['Country/Region'].map(mapping['map.continent'])\n",
    "df_table.head(5)"
   ]
  },
  {
   "cell_type": "code",
   "execution_count": 14,
   "id": "aboriginal-bulgaria",
   "metadata": {
    "execution": {
     "iopub.execute_input": "2021-09-20T00:24:04.654665Z",
     "iopub.status.busy": "2021-09-20T00:24:04.652474Z",
     "iopub.status.idle": "2021-09-20T00:24:04.656314Z",
     "shell.execute_reply": "2021-09-20T00:24:04.656782Z"
    },
    "papermill": {
     "duration": 0.034536,
     "end_time": "2021-09-20T00:24:04.656901",
     "exception": false,
     "start_time": "2021-09-20T00:24:04.622365",
     "status": "completed"
    },
    "tags": []
   },
   "outputs": [],
   "source": [
    "#hide\n",
    "#delete problematic countries from table\n",
    "df_table = df_table[~df_table['Country/Region'].isin(['Cape Verde', 'Cruise Ship', 'Kosovo'])]"
   ]
  },
  {
   "cell_type": "code",
   "execution_count": 15,
   "id": "fantastic-effect",
   "metadata": {
    "execution": {
     "iopub.execute_input": "2021-09-20T00:24:04.728168Z",
     "iopub.status.busy": "2021-09-20T00:24:04.725961Z",
     "iopub.status.idle": "2021-09-20T00:24:04.745965Z",
     "shell.execute_reply": "2021-09-20T00:24:04.745467Z"
    },
    "papermill": {
     "duration": 0.058893,
     "end_time": "2021-09-20T00:24:04.746081",
     "exception": false,
     "start_time": "2021-09-20T00:24:04.687188",
     "status": "completed"
    },
    "tags": []
   },
   "outputs": [
    {
     "data": {
      "text/html": [
       "<div>\n",
       "<style scoped>\n",
       "    .dataframe tbody tr th:only-of-type {\n",
       "        vertical-align: middle;\n",
       "    }\n",
       "\n",
       "    .dataframe tbody tr th {\n",
       "        vertical-align: top;\n",
       "    }\n",
       "\n",
       "    .dataframe thead th {\n",
       "        text-align: right;\n",
       "    }\n",
       "</style>\n",
       "<table border=\"1\" class=\"dataframe\">\n",
       "  <thead>\n",
       "    <tr style=\"text-align: right;\">\n",
       "      <th></th>\n",
       "      <th>Country/Region</th>\n",
       "      <th>Cases</th>\n",
       "      <th>Deaths</th>\n",
       "      <th>PCases</th>\n",
       "      <th>PDeaths</th>\n",
       "      <th>Cases (+)</th>\n",
       "      <th>Deaths (+)</th>\n",
       "      <th>Fatality Rate</th>\n",
       "      <th>Continent</th>\n",
       "    </tr>\n",
       "  </thead>\n",
       "  <tbody>\n",
       "    <tr>\n",
       "      <th>0</th>\n",
       "      <td>US</td>\n",
       "      <td>42050638</td>\n",
       "      <td>673472</td>\n",
       "      <td>41993789</td>\n",
       "      <td>672635</td>\n",
       "      <td>56849</td>\n",
       "      <td>837</td>\n",
       "      <td>1.6</td>\n",
       "      <td>North America</td>\n",
       "    </tr>\n",
       "    <tr>\n",
       "      <th>1</th>\n",
       "      <td>India</td>\n",
       "      <td>33448163</td>\n",
       "      <td>444838</td>\n",
       "      <td>33417390</td>\n",
       "      <td>444529</td>\n",
       "      <td>30773</td>\n",
       "      <td>309</td>\n",
       "      <td>1.3</td>\n",
       "      <td>Asia</td>\n",
       "    </tr>\n",
       "    <tr>\n",
       "      <th>2</th>\n",
       "      <td>Brazil</td>\n",
       "      <td>21230325</td>\n",
       "      <td>590508</td>\n",
       "      <td>21080219</td>\n",
       "      <td>589573</td>\n",
       "      <td>150106</td>\n",
       "      <td>935</td>\n",
       "      <td>2.8</td>\n",
       "      <td>South America</td>\n",
       "    </tr>\n",
       "    <tr>\n",
       "      <th>3</th>\n",
       "      <td>United Kingdom</td>\n",
       "      <td>7435493</td>\n",
       "      <td>135478</td>\n",
       "      <td>7406017</td>\n",
       "      <td>135314</td>\n",
       "      <td>29476</td>\n",
       "      <td>164</td>\n",
       "      <td>1.8</td>\n",
       "      <td>Europe</td>\n",
       "    </tr>\n",
       "    <tr>\n",
       "      <th>4</th>\n",
       "      <td>Russia</td>\n",
       "      <td>7150244</td>\n",
       "      <td>193891</td>\n",
       "      <td>7130245</td>\n",
       "      <td>193111</td>\n",
       "      <td>19999</td>\n",
       "      <td>780</td>\n",
       "      <td>2.7</td>\n",
       "      <td>Europe</td>\n",
       "    </tr>\n",
       "  </tbody>\n",
       "</table>\n",
       "</div>"
      ],
      "text/plain": [
       "   Country/Region     Cases  Deaths    PCases  PDeaths  Cases (+)  Deaths (+)  \\\n",
       "0              US  42050638  673472  41993789   672635      56849         837   \n",
       "1           India  33448163  444838  33417390   444529      30773         309   \n",
       "2          Brazil  21230325  590508  21080219   589573     150106         935   \n",
       "3  United Kingdom   7435493  135478   7406017   135314      29476         164   \n",
       "4          Russia   7150244  193891   7130245   193111      19999         780   \n",
       "\n",
       "   Fatality Rate      Continent  \n",
       "0            1.6  North America  \n",
       "1            1.3           Asia  \n",
       "2            2.8  South America  \n",
       "3            1.8         Europe  \n",
       "4            2.7         Europe  "
      ]
     },
     "execution_count": 15,
     "metadata": {},
     "output_type": "execute_result"
    }
   ],
   "source": [
    "#hide\n",
    "df_table = (pd.DataFrame(dict(Cases=dfc_cases, Deaths=dfc_deaths, PCases=dfp_cases, PDeaths=dfp_deaths))\n",
    "             .sort_values(by=['Cases', 'Deaths'], ascending=[False, False])\n",
    "             .reset_index())\n",
    "df_table.rename(columns={'index': 'Country/Region'}, inplace=True)\n",
    "for c in 'Cases, Deaths'.split(', '):\n",
    "    df_table[f'{c} (+)'] = (df_table[c] - df_table[f'P{c}']).clip(0)  # DATA BUG\n",
    "df_table['Fatality Rate'] = (100 * df_table['Deaths'] / df_table['Cases']).round(1)\n",
    "df_table['Continent'] = df_table['Country/Region'].map(mapping['map.continent'])\n",
    "df_table.head(5)"
   ]
  },
  {
   "cell_type": "code",
   "execution_count": 16,
   "id": "fewer-occasion",
   "metadata": {
    "execution": {
     "iopub.execute_input": "2021-09-20T00:24:04.817510Z",
     "iopub.status.busy": "2021-09-20T00:24:04.815681Z",
     "iopub.status.idle": "2021-09-20T00:24:04.820171Z",
     "shell.execute_reply": "2021-09-20T00:24:04.819690Z"
    },
    "papermill": {
     "duration": 0.04234,
     "end_time": "2021-09-20T00:24:04.820286",
     "exception": false,
     "start_time": "2021-09-20T00:24:04.777946",
     "status": "completed"
    },
    "tags": []
   },
   "outputs": [],
   "source": [
    "#hide\n",
    "#delete problematic countries from table\n",
    "df_table = df_table[~df_table['Country/Region'].isin(['Cape Verde', 'Cruise Ship', 'Kosovo'])]"
   ]
  },
  {
   "cell_type": "code",
   "execution_count": 17,
   "id": "related-center",
   "metadata": {
    "execution": {
     "iopub.execute_input": "2021-09-20T00:24:04.892209Z",
     "iopub.status.busy": "2021-09-20T00:24:04.891612Z",
     "iopub.status.idle": "2021-09-20T00:24:04.903991Z",
     "shell.execute_reply": "2021-09-20T00:24:04.904438Z"
    },
    "papermill": {
     "duration": 0.052976,
     "end_time": "2021-09-20T00:24:04.904584",
     "exception": false,
     "start_time": "2021-09-20T00:24:04.851608",
     "status": "completed"
    },
    "tags": []
   },
   "outputs": [],
   "source": [
    "#hide\n",
    "metrics = [df_table.columns[index] for index in [1,2,5,6]]\n",
    "# s_china = df_table[df_table['Country/Region'].eq('China')][metrics].sum().add_prefix('China ')\n",
    "s_us = df_table[df_table['Country/Region'].eq('US')][metrics].sum().add_prefix('US ')\n",
    "s_eu = df_table[df_table['Continent'].eq('Europe')][metrics].sum().add_prefix('EU ')\n",
    "s_ind = df_table[df_table['Country/Region'].eq('India')][metrics].sum().add_prefix('India ')\n",
    "summary = {'updated': pd.to_datetime(dt_today), 'since': pd.to_datetime(dt_yday)}\n",
    "summary = {'updated': pd.to_datetime(dt_today), 'since': pd.to_datetime(dt_yday)}\n",
    "summary = {**summary, **df_table[metrics].sum(), **s_ind, **s_us, **s_eu}"
   ]
  },
  {
   "cell_type": "code",
   "execution_count": 18,
   "id": "engaging-syndrome",
   "metadata": {
    "execution": {
     "iopub.execute_input": "2021-09-20T00:24:04.969576Z",
     "iopub.status.busy": "2021-09-20T00:24:04.966486Z",
     "iopub.status.idle": "2021-09-20T00:24:04.982465Z",
     "shell.execute_reply": "2021-09-20T00:24:04.982128Z"
    },
    "papermill": {
     "duration": 0.048938,
     "end_time": "2021-09-20T00:24:04.982558",
     "exception": false,
     "start_time": "2021-09-20T00:24:04.933620",
     "status": "completed"
    },
    "tags": []
   },
   "outputs": [],
   "source": [
    "#hide\n",
    "dft_ct_new_cases = dft_cases.groupby(COL_REGION)[dt_cols].sum().diff(axis=1).fillna(0).astype(int)"
   ]
  },
  {
   "cell_type": "code",
   "execution_count": 19,
   "id": "neutral-assignment",
   "metadata": {
    "execution": {
     "iopub.execute_input": "2021-09-20T00:24:05.046598Z",
     "iopub.status.busy": "2021-09-20T00:24:05.046014Z",
     "iopub.status.idle": "2021-09-20T00:24:05.048189Z",
     "shell.execute_reply": "2021-09-20T00:24:05.048585Z"
    },
    "papermill": {
     "duration": 0.038157,
     "end_time": "2021-09-20T00:24:05.048715",
     "exception": false,
     "start_time": "2021-09-20T00:24:05.010558",
     "status": "completed"
    },
    "tags": []
   },
   "outputs": [],
   "source": [
    "#hide\n",
    "everydaycases = dft_ct_new_cases.cumsum(axis=1)"
   ]
  },
  {
   "cell_type": "code",
   "execution_count": 20,
   "id": "parliamentary-calgary",
   "metadata": {
    "execution": {
     "iopub.execute_input": "2021-09-20T00:24:05.110528Z",
     "iopub.status.busy": "2021-09-20T00:24:05.109986Z",
     "iopub.status.idle": "2021-09-20T00:24:05.870938Z",
     "shell.execute_reply": "2021-09-20T00:24:05.870047Z"
    },
    "papermill": {
     "duration": 0.793969,
     "end_time": "2021-09-20T00:24:05.871156",
     "exception": false,
     "start_time": "2021-09-20T00:24:05.077187",
     "status": "completed"
    },
    "tags": []
   },
   "outputs": [],
   "source": [
    "#hide\n",
    "import pandas as pd\n",
    "import matplotlib.pyplot as plt\n",
    "import matplotlib.ticker as ticker\n",
    "import matplotlib.animation as animation\n",
    "from IPython.display import HTML"
   ]
  },
  {
   "cell_type": "code",
   "execution_count": 21,
   "id": "lasting-extraction",
   "metadata": {
    "execution": {
     "iopub.execute_input": "2021-09-20T00:24:05.942880Z",
     "iopub.status.busy": "2021-09-20T00:24:05.942332Z",
     "iopub.status.idle": "2021-09-20T00:24:05.948608Z",
     "shell.execute_reply": "2021-09-20T00:24:05.948226Z"
    },
    "papermill": {
     "duration": 0.044996,
     "end_time": "2021-09-20T00:24:05.948712",
     "exception": false,
     "start_time": "2021-09-20T00:24:05.903716",
     "status": "completed"
    },
    "tags": []
   },
   "outputs": [],
   "source": [
    "#hide\n",
    "t = everydaycases.stack()"
   ]
  },
  {
   "cell_type": "code",
   "execution_count": 22,
   "id": "premier-sleeve",
   "metadata": {
    "execution": {
     "iopub.execute_input": "2021-09-20T00:24:06.010344Z",
     "iopub.status.busy": "2021-09-20T00:24:06.009747Z",
     "iopub.status.idle": "2021-09-20T00:24:06.020020Z",
     "shell.execute_reply": "2021-09-20T00:24:06.019623Z"
    },
    "papermill": {
     "duration": 0.044288,
     "end_time": "2021-09-20T00:24:06.020129",
     "exception": false,
     "start_time": "2021-09-20T00:24:05.975841",
     "status": "completed"
    },
    "tags": []
   },
   "outputs": [],
   "source": [
    "#hide\n",
    "g = t.reset_index(['Country/Region'])"
   ]
  },
  {
   "cell_type": "code",
   "execution_count": 23,
   "id": "distributed-pittsburgh",
   "metadata": {
    "execution": {
     "iopub.execute_input": "2021-09-20T00:24:06.084745Z",
     "iopub.status.busy": "2021-09-20T00:24:06.084323Z",
     "iopub.status.idle": "2021-09-20T00:24:06.086517Z",
     "shell.execute_reply": "2021-09-20T00:24:06.086162Z"
    },
    "papermill": {
     "duration": 0.0373,
     "end_time": "2021-09-20T00:24:06.086603",
     "exception": false,
     "start_time": "2021-09-20T00:24:06.049303",
     "status": "completed"
    },
    "tags": []
   },
   "outputs": [],
   "source": [
    "#hide\n",
    "g.index.name = 'date'"
   ]
  },
  {
   "cell_type": "code",
   "execution_count": 24,
   "id": "naked-donor",
   "metadata": {
    "execution": {
     "iopub.execute_input": "2021-09-20T00:24:06.147545Z",
     "iopub.status.busy": "2021-09-20T00:24:06.147007Z",
     "iopub.status.idle": "2021-09-20T00:24:06.148808Z",
     "shell.execute_reply": "2021-09-20T00:24:06.149222Z"
    },
    "papermill": {
     "duration": 0.033935,
     "end_time": "2021-09-20T00:24:06.149340",
     "exception": false,
     "start_time": "2021-09-20T00:24:06.115405",
     "status": "completed"
    },
    "tags": []
   },
   "outputs": [],
   "source": [
    "# #hide\n",
    "# g = g.reset_index(['date'])"
   ]
  },
  {
   "cell_type": "code",
   "execution_count": 25,
   "id": "incomplete-mustang",
   "metadata": {
    "execution": {
     "iopub.execute_input": "2021-09-20T00:24:06.214863Z",
     "iopub.status.busy": "2021-09-20T00:24:06.214292Z",
     "iopub.status.idle": "2021-09-20T00:24:06.216643Z",
     "shell.execute_reply": "2021-09-20T00:24:06.217193Z"
    },
    "papermill": {
     "duration": 0.038651,
     "end_time": "2021-09-20T00:24:06.217318",
     "exception": false,
     "start_time": "2021-09-20T00:24:06.178667",
     "status": "completed"
    },
    "tags": []
   },
   "outputs": [],
   "source": [
    "#hide\n",
    "# g.head()"
   ]
  },
  {
   "cell_type": "code",
   "execution_count": 26,
   "id": "specific-kruger",
   "metadata": {
    "execution": {
     "iopub.execute_input": "2021-09-20T00:24:06.277878Z",
     "iopub.status.busy": "2021-09-20T00:24:06.277351Z",
     "iopub.status.idle": "2021-09-20T00:24:06.279416Z",
     "shell.execute_reply": "2021-09-20T00:24:06.279067Z"
    },
    "papermill": {
     "duration": 0.033029,
     "end_time": "2021-09-20T00:24:06.279498",
     "exception": false,
     "start_time": "2021-09-20T00:24:06.246469",
     "status": "completed"
    },
    "tags": []
   },
   "outputs": [],
   "source": [
    "#hide\n",
    "# g.columns = ['date','country','cases']"
   ]
  },
  {
   "cell_type": "code",
   "execution_count": 27,
   "id": "tender-conversion",
   "metadata": {
    "execution": {
     "iopub.execute_input": "2021-09-20T00:24:06.339522Z",
     "iopub.status.busy": "2021-09-20T00:24:06.339115Z",
     "iopub.status.idle": "2021-09-20T00:24:06.341165Z",
     "shell.execute_reply": "2021-09-20T00:24:06.340777Z"
    },
    "papermill": {
     "duration": 0.033622,
     "end_time": "2021-09-20T00:24:06.341249",
     "exception": false,
     "start_time": "2021-09-20T00:24:06.307627",
     "status": "completed"
    },
    "tags": []
   },
   "outputs": [],
   "source": [
    "#hide\n",
    "# g['continent'] = g.country"
   ]
  },
  {
   "cell_type": "code",
   "execution_count": 28,
   "id": "substantial-wilderness",
   "metadata": {
    "execution": {
     "iopub.execute_input": "2021-09-20T00:24:06.400757Z",
     "iopub.status.busy": "2021-09-20T00:24:06.400289Z",
     "iopub.status.idle": "2021-09-20T00:24:06.402516Z",
     "shell.execute_reply": "2021-09-20T00:24:06.402088Z"
    },
    "papermill": {
     "duration": 0.033395,
     "end_time": "2021-09-20T00:24:06.402621",
     "exception": false,
     "start_time": "2021-09-20T00:24:06.369226",
     "status": "completed"
    },
    "tags": []
   },
   "outputs": [],
   "source": [
    "#hide\n",
    "# cols = list(g.columns.values)"
   ]
  },
  {
   "cell_type": "code",
   "execution_count": 29,
   "id": "solved-farming",
   "metadata": {
    "execution": {
     "iopub.execute_input": "2021-09-20T00:24:06.463910Z",
     "iopub.status.busy": "2021-09-20T00:24:06.463441Z",
     "iopub.status.idle": "2021-09-20T00:24:06.465675Z",
     "shell.execute_reply": "2021-09-20T00:24:06.466209Z"
    },
    "papermill": {
     "duration": 0.034411,
     "end_time": "2021-09-20T00:24:06.466324",
     "exception": false,
     "start_time": "2021-09-20T00:24:06.431913",
     "status": "completed"
    },
    "tags": []
   },
   "outputs": [],
   "source": [
    "#hide\n",
    "# cols.insert(0, cols.pop())"
   ]
  },
  {
   "cell_type": "code",
   "execution_count": 30,
   "id": "executed-adoption",
   "metadata": {
    "execution": {
     "iopub.execute_input": "2021-09-20T00:24:06.525658Z",
     "iopub.status.busy": "2021-09-20T00:24:06.525233Z",
     "iopub.status.idle": "2021-09-20T00:24:06.527568Z",
     "shell.execute_reply": "2021-09-20T00:24:06.528015Z"
    },
    "papermill": {
     "duration": 0.033514,
     "end_time": "2021-09-20T00:24:06.528118",
     "exception": false,
     "start_time": "2021-09-20T00:24:06.494604",
     "status": "completed"
    },
    "tags": []
   },
   "outputs": [],
   "source": [
    "#hide\n",
    "# g = g[cols]"
   ]
  },
  {
   "cell_type": "code",
   "execution_count": 31,
   "id": "subject-dublin",
   "metadata": {
    "execution": {
     "iopub.execute_input": "2021-09-20T00:24:06.588395Z",
     "iopub.status.busy": "2021-09-20T00:24:06.587928Z",
     "iopub.status.idle": "2021-09-20T00:24:06.590033Z",
     "shell.execute_reply": "2021-09-20T00:24:06.590586Z"
    },
    "papermill": {
     "duration": 0.033925,
     "end_time": "2021-09-20T00:24:06.590710",
     "exception": false,
     "start_time": "2021-09-20T00:24:06.556785",
     "status": "completed"
    },
    "tags": []
   },
   "outputs": [],
   "source": [
    "#hide\n",
    "# g['continent'] = g['continent'].map(mapping['map.continent'])"
   ]
  },
  {
   "cell_type": "code",
   "execution_count": 32,
   "id": "freelance-scout",
   "metadata": {
    "execution": {
     "iopub.execute_input": "2021-09-20T00:24:06.651368Z",
     "iopub.status.busy": "2021-09-20T00:24:06.650782Z",
     "iopub.status.idle": "2021-09-20T00:24:06.653736Z",
     "shell.execute_reply": "2021-09-20T00:24:06.653277Z"
    },
    "papermill": {
     "duration": 0.03579,
     "end_time": "2021-09-20T00:24:06.653847",
     "exception": false,
     "start_time": "2021-09-20T00:24:06.618057",
     "status": "completed"
    },
    "tags": []
   },
   "outputs": [],
   "source": [
    "#hide\n",
    "# g.head()"
   ]
  },
  {
   "cell_type": "code",
   "execution_count": 33,
   "id": "limited-engine",
   "metadata": {
    "execution": {
     "iopub.execute_input": "2021-09-20T00:24:06.714703Z",
     "iopub.status.busy": "2021-09-20T00:24:06.714175Z",
     "iopub.status.idle": "2021-09-20T00:24:06.716317Z",
     "shell.execute_reply": "2021-09-20T00:24:06.715923Z"
    },
    "papermill": {
     "duration": 0.034145,
     "end_time": "2021-09-20T00:24:06.716396",
     "exception": false,
     "start_time": "2021-09-20T00:24:06.682251",
     "status": "completed"
    },
    "tags": []
   },
   "outputs": [],
   "source": [
    "# hide\n",
    "# g['date'] = g['date'].astype('datetime64[ns]')"
   ]
  },
  {
   "cell_type": "code",
   "execution_count": 34,
   "id": "sophisticated-supervisor",
   "metadata": {
    "execution": {
     "iopub.execute_input": "2021-09-20T00:24:06.776249Z",
     "iopub.status.busy": "2021-09-20T00:24:06.775782Z",
     "iopub.status.idle": "2021-09-20T00:24:06.777899Z",
     "shell.execute_reply": "2021-09-20T00:24:06.777434Z"
    },
    "papermill": {
     "duration": 0.033412,
     "end_time": "2021-09-20T00:24:06.778004",
     "exception": false,
     "start_time": "2021-09-20T00:24:06.744592",
     "status": "completed"
    },
    "tags": []
   },
   "outputs": [],
   "source": [
    "#hide\n",
    "# g['date'] = g.date.dt.dayofyear"
   ]
  },
  {
   "cell_type": "code",
   "execution_count": 35,
   "id": "inside-dubai",
   "metadata": {
    "execution": {
     "iopub.execute_input": "2021-09-20T00:24:06.835013Z",
     "iopub.status.busy": "2021-09-20T00:24:06.834447Z",
     "iopub.status.idle": "2021-09-20T00:24:06.836540Z",
     "shell.execute_reply": "2021-09-20T00:24:06.835974Z"
    },
    "papermill": {
     "duration": 0.032858,
     "end_time": "2021-09-20T00:24:06.836647",
     "exception": false,
     "start_time": "2021-09-20T00:24:06.803789",
     "status": "completed"
    },
    "tags": []
   },
   "outputs": [],
   "source": [
    "#hide\n",
    "# g = g.rename(columns= {'continent':'group','country':'name','cases':'value'})"
   ]
  },
  {
   "cell_type": "code",
   "execution_count": 36,
   "id": "fleet-motorcycle",
   "metadata": {
    "execution": {
     "iopub.execute_input": "2021-09-20T00:24:06.901179Z",
     "iopub.status.busy": "2021-09-20T00:24:06.900675Z",
     "iopub.status.idle": "2021-09-20T00:24:06.903010Z",
     "shell.execute_reply": "2021-09-20T00:24:06.903497Z"
    },
    "papermill": {
     "duration": 0.036112,
     "end_time": "2021-09-20T00:24:06.903615",
     "exception": false,
     "start_time": "2021-09-20T00:24:06.867503",
     "status": "completed"
    },
    "tags": []
   },
   "outputs": [],
   "source": [
    "#hide\n",
    "# cols = ['name','group','day','value']"
   ]
  },
  {
   "cell_type": "code",
   "execution_count": 37,
   "id": "continued-sleeping",
   "metadata": {
    "execution": {
     "iopub.execute_input": "2021-09-20T00:24:06.965902Z",
     "iopub.status.busy": "2021-09-20T00:24:06.965286Z",
     "iopub.status.idle": "2021-09-20T00:24:06.967527Z",
     "shell.execute_reply": "2021-09-20T00:24:06.967974Z"
    },
    "papermill": {
     "duration": 0.036159,
     "end_time": "2021-09-20T00:24:06.968079",
     "exception": false,
     "start_time": "2021-09-20T00:24:06.931920",
     "status": "completed"
    },
    "tags": []
   },
   "outputs": [],
   "source": [
    "#hide\n",
    "# g.rename(columns= {'date':'day'},inplace = True)"
   ]
  },
  {
   "cell_type": "code",
   "execution_count": 38,
   "id": "major-fight",
   "metadata": {
    "execution": {
     "iopub.execute_input": "2021-09-20T00:24:07.028203Z",
     "iopub.status.busy": "2021-09-20T00:24:07.027759Z",
     "iopub.status.idle": "2021-09-20T00:24:07.029973Z",
     "shell.execute_reply": "2021-09-20T00:24:07.030385Z"
    },
    "papermill": {
     "duration": 0.034077,
     "end_time": "2021-09-20T00:24:07.030502",
     "exception": false,
     "start_time": "2021-09-20T00:24:06.996425",
     "status": "completed"
    },
    "tags": []
   },
   "outputs": [],
   "source": [
    "#hide\n",
    "# g = g[cols]"
   ]
  },
  {
   "cell_type": "code",
   "execution_count": 39,
   "id": "structured-mobile",
   "metadata": {
    "execution": {
     "iopub.execute_input": "2021-09-20T00:24:07.089509Z",
     "iopub.status.busy": "2021-09-20T00:24:07.089093Z",
     "iopub.status.idle": "2021-09-20T00:24:07.091246Z",
     "shell.execute_reply": "2021-09-20T00:24:07.091576Z"
    },
    "papermill": {
     "duration": 0.034611,
     "end_time": "2021-09-20T00:24:07.091687",
     "exception": false,
     "start_time": "2021-09-20T00:24:07.057076",
     "status": "completed"
    },
    "tags": []
   },
   "outputs": [],
   "source": [
    "# #hide\n",
    "# g = g[g.group.notna()]"
   ]
  },
  {
   "cell_type": "code",
   "execution_count": 40,
   "id": "determined-closing",
   "metadata": {
    "execution": {
     "iopub.execute_input": "2021-09-20T00:24:07.151704Z",
     "iopub.status.busy": "2021-09-20T00:24:07.151253Z",
     "iopub.status.idle": "2021-09-20T00:24:07.153472Z",
     "shell.execute_reply": "2021-09-20T00:24:07.153095Z"
    },
    "papermill": {
     "duration": 0.03318,
     "end_time": "2021-09-20T00:24:07.153565",
     "exception": false,
     "start_time": "2021-09-20T00:24:07.120385",
     "status": "completed"
    },
    "tags": []
   },
   "outputs": [],
   "source": [
    "# #hide\n",
    "# colors = dict(zip(\n",
    "#     [\"Oceania\", \"Europe\", \"Asia\", \"South America\", \"Middle East\", \"North America\", \"Africa\"],\n",
    "#     [\"#adb0ff\", \"#ffb3ff\", \"#90d595\", \"#e48381\", \"#aafbff\", \"#f7bb5f\", \"#eafb50\"]\n",
    "# ))\n",
    "# group_lk = g.set_index('name')['group'].to_dict()"
   ]
  },
  {
   "cell_type": "code",
   "execution_count": null,
   "id": "gross-drinking",
   "metadata": {
    "papermill": {
     "duration": 0.029561,
     "end_time": "2021-09-20T00:24:07.211727",
     "exception": false,
     "start_time": "2021-09-20T00:24:07.182166",
     "status": "completed"
    },
    "tags": []
   },
   "outputs": [],
   "source": []
  },
  {
   "cell_type": "code",
   "execution_count": 41,
   "id": "subject-macintosh",
   "metadata": {
    "execution": {
     "iopub.execute_input": "2021-09-20T00:24:07.274852Z",
     "iopub.status.busy": "2021-09-20T00:24:07.274290Z",
     "iopub.status.idle": "2021-09-20T00:24:07.276132Z",
     "shell.execute_reply": "2021-09-20T00:24:07.276518Z"
    },
    "papermill": {
     "duration": 0.035903,
     "end_time": "2021-09-20T00:24:07.276628",
     "exception": false,
     "start_time": "2021-09-20T00:24:07.240725",
     "status": "completed"
    },
    "tags": []
   },
   "outputs": [],
   "source": [
    "# #hide\n",
    "# fig, ax = plt.subplots(figsize=(15, 8))\n",
    "\n",
    "# def draw_barchart(current_day):\n",
    "#     dff = g[g['day'].eq(current_day)].sort_values(by='value', ascending=True).tail(10)\n",
    "#     ax.clear()\n",
    "#     ax.barh(dff['name'], dff['value'], color=[colors[group_lk[x]] for x in dff['name']])\n",
    "#     dx = dff['value'].max() / 200\n",
    "    \n",
    "#     for i, (value, name) in enumerate(zip(dff['value'], dff['name'])):\n",
    "#         ax.text(value-dx, i,     name,           size=14, weight=600, ha='right', va='bottom')\n",
    "#         ax.text(value-dx, i-.25, group_lk[name], size=10, color='#444444', ha='right', va='baseline')\n",
    "#         ax.text(value+dx, i,     f'{value:,.0f}',  size=14, ha='left',  va='center')\n",
    "#     ax.text(1, 0.4, current_day, transform=ax.transAxes, color='#777777', size=46, ha='right', weight=800)\n",
    "#     ax.text(0, 1.06, 'Population (thousands)', transform=ax.transAxes, size=12, color='#777777')\n",
    "#     ax.xaxis.set_major_formatter(ticker.StrMethodFormatter('{x:,.0f}'))\n",
    "#     ax.xaxis.set_ticks_position('top')\n",
    "#     ax.tick_params(axis='x', colors='#777777', labelsize=12)\n",
    "#     ax.set_yticks([])\n",
    "#     ax.margins(0, 0.01)\n",
    "#     ax.grid(which='major', axis='x', linestyle='-')\n",
    "#     ax.set_axisbelow(True)\n",
    "    \n",
    "#     ax.text(0, 1.15, 'Coronavirus',\n",
    "#             transform=ax.transAxes, size=24, weight=600, ha='left', va='top')\n",
    "# #     ax.text(1, 0, 'by @pratapvardhan; credit @jburnmurdoch', transform=ax.transAxes, color='#777777', ha='right',\n",
    "# #             bbox=dict(facecolor='white', alpha=0.8, edgecolor='white'))\n",
    "#     plt.box(False)"
   ]
  },
  {
   "cell_type": "code",
   "execution_count": 42,
   "id": "sexual-wages",
   "metadata": {
    "execution": {
     "iopub.execute_input": "2021-09-20T00:24:07.343209Z",
     "iopub.status.busy": "2021-09-20T00:24:07.342648Z",
     "iopub.status.idle": "2021-09-20T00:24:07.345296Z",
     "shell.execute_reply": "2021-09-20T00:24:07.344829Z"
    },
    "papermill": {
     "duration": 0.039603,
     "end_time": "2021-09-20T00:24:07.345407",
     "exception": false,
     "start_time": "2021-09-20T00:24:07.305804",
     "status": "completed"
    },
    "tags": []
   },
   "outputs": [],
   "source": [
    "# #hide_input\n",
    "# fig, ax = plt.subplots(figsize=(15, 8))\n",
    "# animator = animation.FuncAnimation(fig, draw_barchart, frames=range(g.day.values.min(), g.day.values.max()))\n",
    "# HTML(animator.to_jshtml())\n",
    "# # or use animator.to_html5_video() or animator.save() "
   ]
  },
  {
   "cell_type": "code",
   "execution_count": null,
   "id": "australian-container",
   "metadata": {
    "papermill": {
     "duration": 0.031537,
     "end_time": "2021-09-20T00:24:07.408651",
     "exception": false,
     "start_time": "2021-09-20T00:24:07.377114",
     "status": "completed"
    },
    "tags": []
   },
   "outputs": [],
   "source": []
  },
  {
   "cell_type": "code",
   "execution_count": null,
   "id": "mediterranean-pontiac",
   "metadata": {
    "papermill": {
     "duration": 0.030364,
     "end_time": "2021-09-20T00:24:07.470221",
     "exception": false,
     "start_time": "2021-09-20T00:24:07.439857",
     "status": "completed"
    },
    "tags": []
   },
   "outputs": [],
   "source": []
  },
  {
   "cell_type": "code",
   "execution_count": null,
   "id": "aging-legislature",
   "metadata": {
    "papermill": {
     "duration": 0.028611,
     "end_time": "2021-09-20T00:24:07.527233",
     "exception": false,
     "start_time": "2021-09-20T00:24:07.498622",
     "status": "completed"
    },
    "tags": []
   },
   "outputs": [],
   "source": []
  }
 ],
 "metadata": {
  "kernelspec": {
   "display_name": "Python 3",
   "language": "python",
   "name": "python3"
  },
  "language_info": {
   "codemirror_mode": {
    "name": "ipython",
    "version": 3
   },
   "file_extension": ".py",
   "mimetype": "text/x-python",
   "name": "python",
   "nbconvert_exporter": "python",
   "pygments_lexer": "ipython3",
   "version": "3.6.15"
  },
  "papermill": {
   "duration": 6.6175,
   "end_time": "2021-09-20T00:24:07.862168",
   "environment_variables": {},
   "exception": null,
   "input_path": "2020-03-21-covid19exp.ipynb",
   "output_path": "2020-03-21-covid19exp.ipynb",
   "parameters": {},
   "start_time": "2021-09-20T00:24:01.244668",
   "version": "2.0.0"
  }
 },
 "nbformat": 4,
 "nbformat_minor": 5
}