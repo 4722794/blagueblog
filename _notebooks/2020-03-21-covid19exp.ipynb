{
 "cells": [
  {
   "cell_type": "markdown",
   "id": "muslim-click",
   "metadata": {
    "papermill": {
     "duration": 0.041633,
     "end_time": "2022-03-15T00:32:43.752104",
     "exception": false,
     "start_time": "2022-03-15T00:32:43.710471",
     "status": "completed"
    },
    "tags": []
   },
   "source": [
    "# COVID-19 Case Race\n",
    "> A race chart to see rising cases around the world\n",
    "\n",
    "- author: Hargun Oberoi\n",
    "- image: images/covid-overview.png\n",
    "- hide: false\n",
    "- badges: false"
   ]
  },
  {
   "cell_type": "code",
   "execution_count": 1,
   "id": "proof-material",
   "metadata": {
    "execution": {
     "iopub.execute_input": "2022-03-15T00:32:43.837964Z",
     "iopub.status.busy": "2022-03-15T00:32:43.837304Z",
     "iopub.status.idle": "2022-03-15T00:32:44.222694Z",
     "shell.execute_reply": "2022-03-15T00:32:44.221761Z"
    },
    "papermill": {
     "duration": 0.433897,
     "end_time": "2022-03-15T00:32:44.222915",
     "exception": false,
     "start_time": "2022-03-15T00:32:43.789018",
     "status": "completed"
    },
    "tags": []
   },
   "outputs": [],
   "source": [
    "#hide\n",
    "import numpy as np\n",
    "import pandas as pd\n",
    "from jinja2 import Template\n",
    "from IPython.display import HTML"
   ]
  },
  {
   "cell_type": "code",
   "execution_count": 2,
   "id": "developed-terminology",
   "metadata": {
    "execution": {
     "iopub.execute_input": "2022-03-15T00:32:44.298991Z",
     "iopub.status.busy": "2022-03-15T00:32:44.298351Z",
     "iopub.status.idle": "2022-03-15T00:32:44.303255Z",
     "shell.execute_reply": "2022-03-15T00:32:44.302723Z"
    },
    "papermill": {
     "duration": 0.044216,
     "end_time": "2022-03-15T00:32:44.303385",
     "exception": false,
     "start_time": "2022-03-15T00:32:44.259169",
     "status": "completed"
    },
    "tags": []
   },
   "outputs": [],
   "source": [
    "#hide\n",
    "\n",
    "# FETCH\n",
    "base_url = 'https://raw.githubusercontent.com/pratapvardhan/notebooks/master/covid19/'\n",
    "paths = {\n",
    "    'mapping': base_url + 'mapping_countries.csv',\n",
    "    'overview': base_url + 'overview.tpl'\n",
    "}"
   ]
  },
  {
   "cell_type": "code",
   "execution_count": 3,
   "id": "dynamic-saver",
   "metadata": {
    "execution": {
     "iopub.execute_input": "2022-03-15T00:32:44.384864Z",
     "iopub.status.busy": "2022-03-15T00:32:44.381121Z",
     "iopub.status.idle": "2022-03-15T00:32:44.388188Z",
     "shell.execute_reply": "2022-03-15T00:32:44.387652Z"
    },
    "papermill": {
     "duration": 0.050149,
     "end_time": "2022-03-15T00:32:44.388325",
     "exception": false,
     "start_time": "2022-03-15T00:32:44.338176",
     "status": "completed"
    },
    "tags": []
   },
   "outputs": [
    {
     "data": {
      "text/plain": [
       "'https://raw.githubusercontent.com/pratapvardhan/notebooks/master/covid19/mapping_countries.csv'"
      ]
     },
     "execution_count": 3,
     "metadata": {},
     "output_type": "execute_result"
    }
   ],
   "source": [
    "#hide\n",
    "paths['mapping']"
   ]
  },
  {
   "cell_type": "code",
   "execution_count": 4,
   "id": "urban-software",
   "metadata": {
    "execution": {
     "iopub.execute_input": "2022-03-15T00:32:44.465643Z",
     "iopub.status.busy": "2022-03-15T00:32:44.464950Z",
     "iopub.status.idle": "2022-03-15T00:32:44.466627Z",
     "shell.execute_reply": "2022-03-15T00:32:44.467197Z"
    },
    "papermill": {
     "duration": 0.043717,
     "end_time": "2022-03-15T00:32:44.467354",
     "exception": false,
     "start_time": "2022-03-15T00:32:44.423637",
     "status": "completed"
    },
    "tags": []
   },
   "outputs": [],
   "source": [
    "#hide\n",
    "def get_mappings(url):\n",
    "    df = pd.read_csv(url)\n",
    "    return {\n",
    "        'df': df,\n",
    "        'replace.country': dict(df.dropna(subset=['Name']).set_index('Country')['Name']),\n",
    "        'map.continent': dict(df.set_index('Name')['Continent'])\n",
    "    }"
   ]
  },
  {
   "cell_type": "code",
   "execution_count": 5,
   "id": "intimate-machinery",
   "metadata": {
    "execution": {
     "iopub.execute_input": "2022-03-15T00:32:44.545180Z",
     "iopub.status.busy": "2022-03-15T00:32:44.544552Z",
     "iopub.status.idle": "2022-03-15T00:32:44.580022Z",
     "shell.execute_reply": "2022-03-15T00:32:44.579149Z"
    },
    "papermill": {
     "duration": 0.077354,
     "end_time": "2022-03-15T00:32:44.580242",
     "exception": false,
     "start_time": "2022-03-15T00:32:44.502888",
     "status": "completed"
    },
    "tags": []
   },
   "outputs": [],
   "source": [
    "#hide\n",
    "mapping = get_mappings(paths['mapping'])"
   ]
  },
  {
   "cell_type": "code",
   "execution_count": 6,
   "id": "certified-tactics",
   "metadata": {
    "execution": {
     "iopub.execute_input": "2022-03-15T00:32:44.658567Z",
     "iopub.status.busy": "2022-03-15T00:32:44.657948Z",
     "iopub.status.idle": "2022-03-15T00:32:44.660861Z",
     "shell.execute_reply": "2022-03-15T00:32:44.661454Z"
    },
    "papermill": {
     "duration": 0.045266,
     "end_time": "2022-03-15T00:32:44.661596",
     "exception": false,
     "start_time": "2022-03-15T00:32:44.616330",
     "status": "completed"
    },
    "tags": []
   },
   "outputs": [],
   "source": [
    "#hide\n",
    "def get_template(path):\n",
    "    from urllib.parse import urlparse\n",
    "    if bool(urlparse(path).netloc):\n",
    "        from urllib.request import urlopen\n",
    "        return urlopen(path).read().decode('utf8')\n",
    "    return open(path).read()"
   ]
  },
  {
   "cell_type": "code",
   "execution_count": 7,
   "id": "realistic-blast",
   "metadata": {
    "execution": {
     "iopub.execute_input": "2022-03-15T00:32:44.738007Z",
     "iopub.status.busy": "2022-03-15T00:32:44.737354Z",
     "iopub.status.idle": "2022-03-15T00:32:44.739290Z",
     "shell.execute_reply": "2022-03-15T00:32:44.739763Z"
    },
    "papermill": {
     "duration": 0.043215,
     "end_time": "2022-03-15T00:32:44.739942",
     "exception": false,
     "start_time": "2022-03-15T00:32:44.696727",
     "status": "completed"
    },
    "tags": []
   },
   "outputs": [],
   "source": [
    "#hide\n",
    "def get_frame(name):\n",
    "    url = (\n",
    "        'https://raw.githubusercontent.com/CSSEGISandData/COVID-19/master/csse_covid_19_data/'\n",
    "        f'csse_covid_19_time_series/time_series_covid19_{name}_global.csv')\n",
    "    df = pd.read_csv(url)\n",
    "    # rename countries\n",
    "    df['Country/Region'] = df['Country/Region'].replace(mapping['replace.country'])\n",
    "    return df"
   ]
  },
  {
   "cell_type": "code",
   "execution_count": 8,
   "id": "affiliated-characterization",
   "metadata": {
    "execution": {
     "iopub.execute_input": "2022-03-15T00:32:44.819340Z",
     "iopub.status.busy": "2022-03-15T00:32:44.818686Z",
     "iopub.status.idle": "2022-03-15T00:32:44.822920Z",
     "shell.execute_reply": "2022-03-15T00:32:44.822421Z"
    },
    "papermill": {
     "duration": 0.047698,
     "end_time": "2022-03-15T00:32:44.823055",
     "exception": false,
     "start_time": "2022-03-15T00:32:44.775357",
     "status": "completed"
    },
    "tags": []
   },
   "outputs": [],
   "source": [
    "#hide\n",
    "def get_dates(df):\n",
    "    dt_cols = df.columns[~df.columns.isin(['Province/State', 'Country/Region', 'Lat', 'Long'])]\n",
    "    LAST_DATE_I = -1\n",
    "    # sometimes last column may be empty, then go backwards\n",
    "    for i in range(-1, -len(dt_cols), -1):\n",
    "        if not df[dt_cols[i]].fillna(0).eq(0).all():\n",
    "            LAST_DATE_I = i\n",
    "            break\n",
    "    return LAST_DATE_I, dt_cols"
   ]
  },
  {
   "cell_type": "code",
   "execution_count": 9,
   "id": "recent-optimization",
   "metadata": {
    "execution": {
     "iopub.execute_input": "2022-03-15T00:32:44.900114Z",
     "iopub.status.busy": "2022-03-15T00:32:44.899412Z",
     "iopub.status.idle": "2022-03-15T00:32:45.289381Z",
     "shell.execute_reply": "2022-03-15T00:32:45.288789Z"
    },
    "papermill": {
     "duration": 0.430991,
     "end_time": "2022-03-15T00:32:45.289517",
     "exception": false,
     "start_time": "2022-03-15T00:32:44.858526",
     "status": "completed"
    },
    "tags": []
   },
   "outputs": [],
   "source": [
    "#hide\n",
    "COL_REGION = 'Country/Region'\n",
    "# Confirmed, Recovered, Deaths\n",
    "df = get_frame('confirmed')\n",
    "# dft_: timeseries, dfc_: today country agg\n",
    "dft_cases = df\n",
    "dft_deaths = get_frame('deaths')\n",
    "dft_recovered = get_frame('recovered')\n",
    "LAST_DATE_I, dt_cols = get_dates(df)"
   ]
  },
  {
   "cell_type": "code",
   "execution_count": 10,
   "id": "absolute-copper",
   "metadata": {
    "execution": {
     "iopub.execute_input": "2022-03-15T00:32:45.367203Z",
     "iopub.status.busy": "2022-03-15T00:32:45.366564Z",
     "iopub.status.idle": "2022-03-15T00:32:45.369158Z",
     "shell.execute_reply": "2022-03-15T00:32:45.369659Z"
    },
    "papermill": {
     "duration": 0.044483,
     "end_time": "2022-03-15T00:32:45.369811",
     "exception": false,
     "start_time": "2022-03-15T00:32:45.325328",
     "status": "completed"
    },
    "tags": []
   },
   "outputs": [],
   "source": [
    "#hide\n",
    "LAST_DATE_I, dt_cols = get_dates(df)\n",
    "dt_today =dt_cols[LAST_DATE_I]\n",
    "# dt_5day = dt_cols[LAST_DATE_I - 5]\n",
    "dt_yday = dt_cols[LAST_DATE_I - 1]"
   ]
  },
  {
   "cell_type": "code",
   "execution_count": 11,
   "id": "restricted-sheriff",
   "metadata": {
    "execution": {
     "iopub.execute_input": "2022-03-15T00:32:45.451371Z",
     "iopub.status.busy": "2022-03-15T00:32:45.450731Z",
     "iopub.status.idle": "2022-03-15T00:32:45.456149Z",
     "shell.execute_reply": "2022-03-15T00:32:45.455614Z"
    },
    "papermill": {
     "duration": 0.051175,
     "end_time": "2022-03-15T00:32:45.456288",
     "exception": false,
     "start_time": "2022-03-15T00:32:45.405113",
     "status": "completed"
    },
    "tags": []
   },
   "outputs": [],
   "source": [
    "#hide\n",
    "dfc_cases = dft_cases.groupby(COL_REGION)[dt_today].sum()\n",
    "dfc_deaths = dft_deaths.groupby(COL_REGION)[dt_today].sum()\n",
    "# dfp_cases = dft_cases.groupby(COL_REGION)[dt_5day].sum()\n",
    "# dfp_deaths = dft_deaths.groupby(COL_REGION)[dt_5day].sum()\n",
    "dfp_cases = dft_cases.groupby(COL_REGION)[dt_yday].sum()\n",
    "dfp_deaths = dft_deaths.groupby(COL_REGION)[dt_yday].sum()"
   ]
  },
  {
   "cell_type": "code",
   "execution_count": 12,
   "id": "deluxe-hepatitis",
   "metadata": {
    "execution": {
     "iopub.execute_input": "2022-03-15T00:32:45.536522Z",
     "iopub.status.busy": "2022-03-15T00:32:45.535822Z",
     "iopub.status.idle": "2022-03-15T00:32:45.541558Z",
     "shell.execute_reply": "2022-03-15T00:32:45.541060Z"
    },
    "papermill": {
     "duration": 0.049894,
     "end_time": "2022-03-15T00:32:45.541690",
     "exception": false,
     "start_time": "2022-03-15T00:32:45.491796",
     "status": "completed"
    },
    "tags": []
   },
   "outputs": [],
   "source": [
    "#hide\n",
    "df_table = (pd.DataFrame(dict(Cases = dfc_cases, Deaths = dfc_deaths, PCases = dfp_cases, PDeaths = dfp_deaths))\n",
    "            .sort_values(by = ['Cases','Deaths'], ascending = [False, False])\n",
    "            .reset_index())"
   ]
  },
  {
   "cell_type": "code",
   "execution_count": 13,
   "id": "educational-chancellor",
   "metadata": {
    "execution": {
     "iopub.execute_input": "2022-03-15T00:32:45.633077Z",
     "iopub.status.busy": "2022-03-15T00:32:45.622560Z",
     "iopub.status.idle": "2022-03-15T00:32:45.642044Z",
     "shell.execute_reply": "2022-03-15T00:32:45.642546Z"
    },
    "papermill": {
     "duration": 0.065753,
     "end_time": "2022-03-15T00:32:45.642701",
     "exception": false,
     "start_time": "2022-03-15T00:32:45.576948",
     "status": "completed"
    },
    "tags": []
   },
   "outputs": [
    {
     "data": {
      "text/html": [
       "<div>\n",
       "<style scoped>\n",
       "    .dataframe tbody tr th:only-of-type {\n",
       "        vertical-align: middle;\n",
       "    }\n",
       "\n",
       "    .dataframe tbody tr th {\n",
       "        vertical-align: top;\n",
       "    }\n",
       "\n",
       "    .dataframe thead th {\n",
       "        text-align: right;\n",
       "    }\n",
       "</style>\n",
       "<table border=\"1\" class=\"dataframe\">\n",
       "  <thead>\n",
       "    <tr style=\"text-align: right;\">\n",
       "      <th></th>\n",
       "      <th>Country/Region</th>\n",
       "      <th>Cases</th>\n",
       "      <th>Deaths</th>\n",
       "      <th>PCases</th>\n",
       "      <th>PDeaths</th>\n",
       "      <th>Cases (+)</th>\n",
       "      <th>Deaths (+)</th>\n",
       "      <th>Fatality Rate</th>\n",
       "      <th>Continent</th>\n",
       "    </tr>\n",
       "  </thead>\n",
       "  <tbody>\n",
       "    <tr>\n",
       "      <th>0</th>\n",
       "      <td>US</td>\n",
       "      <td>79523228</td>\n",
       "      <td>967720</td>\n",
       "      <td>79517492</td>\n",
       "      <td>967552</td>\n",
       "      <td>5736</td>\n",
       "      <td>168</td>\n",
       "      <td>1.22</td>\n",
       "      <td>North America</td>\n",
       "    </tr>\n",
       "    <tr>\n",
       "      <th>1</th>\n",
       "      <td>India</td>\n",
       "      <td>42993494</td>\n",
       "      <td>515877</td>\n",
       "      <td>42990991</td>\n",
       "      <td>515850</td>\n",
       "      <td>2503</td>\n",
       "      <td>27</td>\n",
       "      <td>1.20</td>\n",
       "      <td>Asia</td>\n",
       "    </tr>\n",
       "    <tr>\n",
       "      <th>2</th>\n",
       "      <td>Brazil</td>\n",
       "      <td>29374833</td>\n",
       "      <td>655359</td>\n",
       "      <td>29361024</td>\n",
       "      <td>655234</td>\n",
       "      <td>13809</td>\n",
       "      <td>125</td>\n",
       "      <td>2.23</td>\n",
       "      <td>South America</td>\n",
       "    </tr>\n",
       "    <tr>\n",
       "      <th>3</th>\n",
       "      <td>France</td>\n",
       "      <td>23694834</td>\n",
       "      <td>141132</td>\n",
       "      <td>23635798</td>\n",
       "      <td>141104</td>\n",
       "      <td>59036</td>\n",
       "      <td>28</td>\n",
       "      <td>0.60</td>\n",
       "      <td>Europe</td>\n",
       "    </tr>\n",
       "    <tr>\n",
       "      <th>4</th>\n",
       "      <td>United Kingdom</td>\n",
       "      <td>19673347</td>\n",
       "      <td>163317</td>\n",
       "      <td>19673347</td>\n",
       "      <td>163317</td>\n",
       "      <td>0</td>\n",
       "      <td>0</td>\n",
       "      <td>0.83</td>\n",
       "      <td>Europe</td>\n",
       "    </tr>\n",
       "  </tbody>\n",
       "</table>\n",
       "</div>"
      ],
      "text/plain": [
       "   Country/Region     Cases  Deaths    PCases  PDeaths  Cases (+)  Deaths (+)  \\\n",
       "0              US  79523228  967720  79517492   967552       5736         168   \n",
       "1           India  42993494  515877  42990991   515850       2503          27   \n",
       "2          Brazil  29374833  655359  29361024   655234      13809         125   \n",
       "3          France  23694834  141132  23635798   141104      59036          28   \n",
       "4  United Kingdom  19673347  163317  19673347   163317          0           0   \n",
       "\n",
       "   Fatality Rate      Continent  \n",
       "0           1.22  North America  \n",
       "1           1.20           Asia  \n",
       "2           2.23  South America  \n",
       "3           0.60         Europe  \n",
       "4           0.83         Europe  "
      ]
     },
     "execution_count": 13,
     "metadata": {},
     "output_type": "execute_result"
    }
   ],
   "source": [
    "#hide\n",
    "for c in 'Cases, Deaths'.split(', '):\n",
    "    df_table[f'{c} (+)'] = (df_table[c] - df_table[f'P{c}']).clip(0)\n",
    "    #Clip ça veut dire, les chiffres negatif sont interdit\n",
    "df_table['Fatality Rate'] = (100* df_table['Deaths']/ df_table['Cases']).round(2)\n",
    "df_table['Continent'] = df_table['Country/Region'].map(mapping['map.continent'])\n",
    "df_table.head(5)"
   ]
  },
  {
   "cell_type": "code",
   "execution_count": 14,
   "id": "aboriginal-bulgaria",
   "metadata": {
    "execution": {
     "iopub.execute_input": "2022-03-15T00:32:45.722044Z",
     "iopub.status.busy": "2022-03-15T00:32:45.721412Z",
     "iopub.status.idle": "2022-03-15T00:32:45.723945Z",
     "shell.execute_reply": "2022-03-15T00:32:45.724559Z"
    },
    "papermill": {
     "duration": 0.045652,
     "end_time": "2022-03-15T00:32:45.724711",
     "exception": false,
     "start_time": "2022-03-15T00:32:45.679059",
     "status": "completed"
    },
    "tags": []
   },
   "outputs": [],
   "source": [
    "#hide\n",
    "#delete problematic countries from table\n",
    "df_table = df_table[~df_table['Country/Region'].isin(['Cape Verde', 'Cruise Ship', 'Kosovo'])]"
   ]
  },
  {
   "cell_type": "code",
   "execution_count": 15,
   "id": "fantastic-effect",
   "metadata": {
    "execution": {
     "iopub.execute_input": "2022-03-15T00:32:45.806182Z",
     "iopub.status.busy": "2022-03-15T00:32:45.805550Z",
     "iopub.status.idle": "2022-03-15T00:32:45.825112Z",
     "shell.execute_reply": "2022-03-15T00:32:45.825772Z"
    },
    "papermill": {
     "duration": 0.065591,
     "end_time": "2022-03-15T00:32:45.825966",
     "exception": false,
     "start_time": "2022-03-15T00:32:45.760375",
     "status": "completed"
    },
    "tags": []
   },
   "outputs": [
    {
     "data": {
      "text/html": [
       "<div>\n",
       "<style scoped>\n",
       "    .dataframe tbody tr th:only-of-type {\n",
       "        vertical-align: middle;\n",
       "    }\n",
       "\n",
       "    .dataframe tbody tr th {\n",
       "        vertical-align: top;\n",
       "    }\n",
       "\n",
       "    .dataframe thead th {\n",
       "        text-align: right;\n",
       "    }\n",
       "</style>\n",
       "<table border=\"1\" class=\"dataframe\">\n",
       "  <thead>\n",
       "    <tr style=\"text-align: right;\">\n",
       "      <th></th>\n",
       "      <th>Country/Region</th>\n",
       "      <th>Cases</th>\n",
       "      <th>Deaths</th>\n",
       "      <th>PCases</th>\n",
       "      <th>PDeaths</th>\n",
       "      <th>Cases (+)</th>\n",
       "      <th>Deaths (+)</th>\n",
       "      <th>Fatality Rate</th>\n",
       "      <th>Continent</th>\n",
       "    </tr>\n",
       "  </thead>\n",
       "  <tbody>\n",
       "    <tr>\n",
       "      <th>0</th>\n",
       "      <td>US</td>\n",
       "      <td>79523228</td>\n",
       "      <td>967720</td>\n",
       "      <td>79517492</td>\n",
       "      <td>967552</td>\n",
       "      <td>5736</td>\n",
       "      <td>168</td>\n",
       "      <td>1.2</td>\n",
       "      <td>North America</td>\n",
       "    </tr>\n",
       "    <tr>\n",
       "      <th>1</th>\n",
       "      <td>India</td>\n",
       "      <td>42993494</td>\n",
       "      <td>515877</td>\n",
       "      <td>42990991</td>\n",
       "      <td>515850</td>\n",
       "      <td>2503</td>\n",
       "      <td>27</td>\n",
       "      <td>1.2</td>\n",
       "      <td>Asia</td>\n",
       "    </tr>\n",
       "    <tr>\n",
       "      <th>2</th>\n",
       "      <td>Brazil</td>\n",
       "      <td>29374833</td>\n",
       "      <td>655359</td>\n",
       "      <td>29361024</td>\n",
       "      <td>655234</td>\n",
       "      <td>13809</td>\n",
       "      <td>125</td>\n",
       "      <td>2.2</td>\n",
       "      <td>South America</td>\n",
       "    </tr>\n",
       "    <tr>\n",
       "      <th>3</th>\n",
       "      <td>France</td>\n",
       "      <td>23694834</td>\n",
       "      <td>141132</td>\n",
       "      <td>23635798</td>\n",
       "      <td>141104</td>\n",
       "      <td>59036</td>\n",
       "      <td>28</td>\n",
       "      <td>0.6</td>\n",
       "      <td>Europe</td>\n",
       "    </tr>\n",
       "    <tr>\n",
       "      <th>4</th>\n",
       "      <td>United Kingdom</td>\n",
       "      <td>19673347</td>\n",
       "      <td>163317</td>\n",
       "      <td>19673347</td>\n",
       "      <td>163317</td>\n",
       "      <td>0</td>\n",
       "      <td>0</td>\n",
       "      <td>0.8</td>\n",
       "      <td>Europe</td>\n",
       "    </tr>\n",
       "  </tbody>\n",
       "</table>\n",
       "</div>"
      ],
      "text/plain": [
       "   Country/Region     Cases  Deaths    PCases  PDeaths  Cases (+)  Deaths (+)  \\\n",
       "0              US  79523228  967720  79517492   967552       5736         168   \n",
       "1           India  42993494  515877  42990991   515850       2503          27   \n",
       "2          Brazil  29374833  655359  29361024   655234      13809         125   \n",
       "3          France  23694834  141132  23635798   141104      59036          28   \n",
       "4  United Kingdom  19673347  163317  19673347   163317          0           0   \n",
       "\n",
       "   Fatality Rate      Continent  \n",
       "0            1.2  North America  \n",
       "1            1.2           Asia  \n",
       "2            2.2  South America  \n",
       "3            0.6         Europe  \n",
       "4            0.8         Europe  "
      ]
     },
     "execution_count": 15,
     "metadata": {},
     "output_type": "execute_result"
    }
   ],
   "source": [
    "#hide\n",
    "df_table = (pd.DataFrame(dict(Cases=dfc_cases, Deaths=dfc_deaths, PCases=dfp_cases, PDeaths=dfp_deaths))\n",
    "             .sort_values(by=['Cases', 'Deaths'], ascending=[False, False])\n",
    "             .reset_index())\n",
    "df_table.rename(columns={'index': 'Country/Region'}, inplace=True)\n",
    "for c in 'Cases, Deaths'.split(', '):\n",
    "    df_table[f'{c} (+)'] = (df_table[c] - df_table[f'P{c}']).clip(0)  # DATA BUG\n",
    "df_table['Fatality Rate'] = (100 * df_table['Deaths'] / df_table['Cases']).round(1)\n",
    "df_table['Continent'] = df_table['Country/Region'].map(mapping['map.continent'])\n",
    "df_table.head(5)"
   ]
  },
  {
   "cell_type": "code",
   "execution_count": 16,
   "id": "fewer-occasion",
   "metadata": {
    "execution": {
     "iopub.execute_input": "2022-03-15T00:32:45.906304Z",
     "iopub.status.busy": "2022-03-15T00:32:45.905658Z",
     "iopub.status.idle": "2022-03-15T00:32:45.908010Z",
     "shell.execute_reply": "2022-03-15T00:32:45.907371Z"
    },
    "papermill": {
     "duration": 0.044601,
     "end_time": "2022-03-15T00:32:45.908146",
     "exception": false,
     "start_time": "2022-03-15T00:32:45.863545",
     "status": "completed"
    },
    "tags": []
   },
   "outputs": [],
   "source": [
    "#hide\n",
    "#delete problematic countries from table\n",
    "df_table = df_table[~df_table['Country/Region'].isin(['Cape Verde', 'Cruise Ship', 'Kosovo'])]"
   ]
  },
  {
   "cell_type": "code",
   "execution_count": 17,
   "id": "related-center",
   "metadata": {
    "execution": {
     "iopub.execute_input": "2022-03-15T00:32:46.000908Z",
     "iopub.status.busy": "2022-03-15T00:32:46.000264Z",
     "iopub.status.idle": "2022-03-15T00:32:46.002611Z",
     "shell.execute_reply": "2022-03-15T00:32:46.002085Z"
    },
    "papermill": {
     "duration": 0.058294,
     "end_time": "2022-03-15T00:32:46.002737",
     "exception": false,
     "start_time": "2022-03-15T00:32:45.944443",
     "status": "completed"
    },
    "tags": []
   },
   "outputs": [],
   "source": [
    "#hide\n",
    "metrics = [df_table.columns[index] for index in [1,2,5,6]]\n",
    "# s_china = df_table[df_table['Country/Region'].eq('China')][metrics].sum().add_prefix('China ')\n",
    "s_us = df_table[df_table['Country/Region'].eq('US')][metrics].sum().add_prefix('US ')\n",
    "s_eu = df_table[df_table['Continent'].eq('Europe')][metrics].sum().add_prefix('EU ')\n",
    "s_ind = df_table[df_table['Country/Region'].eq('India')][metrics].sum().add_prefix('India ')\n",
    "summary = {'updated': pd.to_datetime(dt_today), 'since': pd.to_datetime(dt_yday)}\n",
    "summary = {'updated': pd.to_datetime(dt_today), 'since': pd.to_datetime(dt_yday)}\n",
    "summary = {**summary, **df_table[metrics].sum(), **s_ind, **s_us, **s_eu}"
   ]
  },
  {
   "cell_type": "code",
   "execution_count": 18,
   "id": "engaging-syndrome",
   "metadata": {
    "execution": {
     "iopub.execute_input": "2022-03-15T00:32:46.081743Z",
     "iopub.status.busy": "2022-03-15T00:32:46.080279Z",
     "iopub.status.idle": "2022-03-15T00:32:46.100559Z",
     "shell.execute_reply": "2022-03-15T00:32:46.099989Z"
    },
    "papermill": {
     "duration": 0.061697,
     "end_time": "2022-03-15T00:32:46.100693",
     "exception": false,
     "start_time": "2022-03-15T00:32:46.038996",
     "status": "completed"
    },
    "tags": []
   },
   "outputs": [],
   "source": [
    "#hide\n",
    "dft_ct_new_cases = dft_cases.groupby(COL_REGION)[dt_cols].sum().diff(axis=1).fillna(0).astype(int)"
   ]
  },
  {
   "cell_type": "code",
   "execution_count": 19,
   "id": "neutral-assignment",
   "metadata": {
    "execution": {
     "iopub.execute_input": "2022-03-15T00:32:46.183313Z",
     "iopub.status.busy": "2022-03-15T00:32:46.182242Z",
     "iopub.status.idle": "2022-03-15T00:32:46.186998Z",
     "shell.execute_reply": "2022-03-15T00:32:46.186496Z"
    },
    "papermill": {
     "duration": 0.049927,
     "end_time": "2022-03-15T00:32:46.187131",
     "exception": false,
     "start_time": "2022-03-15T00:32:46.137204",
     "status": "completed"
    },
    "tags": []
   },
   "outputs": [],
   "source": [
    "#hide\n",
    "everydaycases = dft_ct_new_cases.cumsum(axis=1)"
   ]
  },
  {
   "cell_type": "code",
   "execution_count": 20,
   "id": "parliamentary-calgary",
   "metadata": {
    "execution": {
     "iopub.execute_input": "2022-03-15T00:32:46.269411Z",
     "iopub.status.busy": "2022-03-15T00:32:46.264398Z",
     "iopub.status.idle": "2022-03-15T00:32:46.964689Z",
     "shell.execute_reply": "2022-03-15T00:32:46.964089Z"
    },
    "papermill": {
     "duration": 0.74124,
     "end_time": "2022-03-15T00:32:46.964826",
     "exception": false,
     "start_time": "2022-03-15T00:32:46.223586",
     "status": "completed"
    },
    "tags": []
   },
   "outputs": [],
   "source": [
    "#hide\n",
    "import pandas as pd\n",
    "import matplotlib.pyplot as plt\n",
    "import matplotlib.ticker as ticker\n",
    "import matplotlib.animation as animation\n",
    "from IPython.display import HTML"
   ]
  },
  {
   "cell_type": "code",
   "execution_count": 21,
   "id": "lasting-extraction",
   "metadata": {
    "execution": {
     "iopub.execute_input": "2022-03-15T00:32:47.046926Z",
     "iopub.status.busy": "2022-03-15T00:32:47.046303Z",
     "iopub.status.idle": "2022-03-15T00:32:47.053358Z",
     "shell.execute_reply": "2022-03-15T00:32:47.052856Z"
    },
    "papermill": {
     "duration": 0.05225,
     "end_time": "2022-03-15T00:32:47.053490",
     "exception": false,
     "start_time": "2022-03-15T00:32:47.001240",
     "status": "completed"
    },
    "tags": []
   },
   "outputs": [],
   "source": [
    "#hide\n",
    "t = everydaycases.stack()"
   ]
  },
  {
   "cell_type": "code",
   "execution_count": 22,
   "id": "premier-sleeve",
   "metadata": {
    "execution": {
     "iopub.execute_input": "2022-03-15T00:32:47.132590Z",
     "iopub.status.busy": "2022-03-15T00:32:47.131905Z",
     "iopub.status.idle": "2022-03-15T00:32:47.146225Z",
     "shell.execute_reply": "2022-03-15T00:32:47.145723Z"
    },
    "papermill": {
     "duration": 0.056349,
     "end_time": "2022-03-15T00:32:47.146357",
     "exception": false,
     "start_time": "2022-03-15T00:32:47.090008",
     "status": "completed"
    },
    "tags": []
   },
   "outputs": [],
   "source": [
    "#hide\n",
    "g = t.reset_index(['Country/Region'])"
   ]
  },
  {
   "cell_type": "code",
   "execution_count": 23,
   "id": "distributed-pittsburgh",
   "metadata": {
    "execution": {
     "iopub.execute_input": "2022-03-15T00:32:47.225186Z",
     "iopub.status.busy": "2022-03-15T00:32:47.224036Z",
     "iopub.status.idle": "2022-03-15T00:32:47.227787Z",
     "shell.execute_reply": "2022-03-15T00:32:47.226948Z"
    },
    "papermill": {
     "duration": 0.045348,
     "end_time": "2022-03-15T00:32:47.227932",
     "exception": false,
     "start_time": "2022-03-15T00:32:47.182584",
     "status": "completed"
    },
    "tags": []
   },
   "outputs": [],
   "source": [
    "#hide\n",
    "g.index.name = 'date'"
   ]
  },
  {
   "cell_type": "code",
   "execution_count": 24,
   "id": "naked-donor",
   "metadata": {
    "execution": {
     "iopub.execute_input": "2022-03-15T00:32:47.310549Z",
     "iopub.status.busy": "2022-03-15T00:32:47.309917Z",
     "iopub.status.idle": "2022-03-15T00:32:47.312322Z",
     "shell.execute_reply": "2022-03-15T00:32:47.311765Z"
    },
    "papermill": {
     "duration": 0.042889,
     "end_time": "2022-03-15T00:32:47.312449",
     "exception": false,
     "start_time": "2022-03-15T00:32:47.269560",
     "status": "completed"
    },
    "tags": []
   },
   "outputs": [],
   "source": [
    "# #hide\n",
    "# g = g.reset_index(['date'])"
   ]
  },
  {
   "cell_type": "code",
   "execution_count": 25,
   "id": "incomplete-mustang",
   "metadata": {
    "execution": {
     "iopub.execute_input": "2022-03-15T00:32:47.389329Z",
     "iopub.status.busy": "2022-03-15T00:32:47.388706Z",
     "iopub.status.idle": "2022-03-15T00:32:47.391131Z",
     "shell.execute_reply": "2022-03-15T00:32:47.391599Z"
    },
    "papermill": {
     "duration": 0.042987,
     "end_time": "2022-03-15T00:32:47.391748",
     "exception": false,
     "start_time": "2022-03-15T00:32:47.348761",
     "status": "completed"
    },
    "tags": []
   },
   "outputs": [],
   "source": [
    "#hide\n",
    "# g.head()"
   ]
  },
  {
   "cell_type": "code",
   "execution_count": 26,
   "id": "specific-kruger",
   "metadata": {
    "execution": {
     "iopub.execute_input": "2022-03-15T00:32:47.469307Z",
     "iopub.status.busy": "2022-03-15T00:32:47.468477Z",
     "iopub.status.idle": "2022-03-15T00:32:47.473439Z",
     "shell.execute_reply": "2022-03-15T00:32:47.472941Z"
    },
    "papermill": {
     "duration": 0.045379,
     "end_time": "2022-03-15T00:32:47.473566",
     "exception": false,
     "start_time": "2022-03-15T00:32:47.428187",
     "status": "completed"
    },
    "tags": []
   },
   "outputs": [],
   "source": [
    "#hide\n",
    "# g.columns = ['date','country','cases']"
   ]
  },
  {
   "cell_type": "code",
   "execution_count": 27,
   "id": "tender-conversion",
   "metadata": {
    "execution": {
     "iopub.execute_input": "2022-03-15T00:32:47.551068Z",
     "iopub.status.busy": "2022-03-15T00:32:47.550247Z",
     "iopub.status.idle": "2022-03-15T00:32:47.552676Z",
     "shell.execute_reply": "2022-03-15T00:32:47.552020Z"
    },
    "papermill": {
     "duration": 0.04277,
     "end_time": "2022-03-15T00:32:47.552818",
     "exception": false,
     "start_time": "2022-03-15T00:32:47.510048",
     "status": "completed"
    },
    "tags": []
   },
   "outputs": [],
   "source": [
    "#hide\n",
    "# g['continent'] = g.country"
   ]
  },
  {
   "cell_type": "code",
   "execution_count": 28,
   "id": "substantial-wilderness",
   "metadata": {
    "execution": {
     "iopub.execute_input": "2022-03-15T00:32:47.635000Z",
     "iopub.status.busy": "2022-03-15T00:32:47.634373Z",
     "iopub.status.idle": "2022-03-15T00:32:47.636726Z",
     "shell.execute_reply": "2022-03-15T00:32:47.637201Z"
    },
    "papermill": {
     "duration": 0.043612,
     "end_time": "2022-03-15T00:32:47.637351",
     "exception": false,
     "start_time": "2022-03-15T00:32:47.593739",
     "status": "completed"
    },
    "tags": []
   },
   "outputs": [],
   "source": [
    "#hide\n",
    "# cols = list(g.columns.values)"
   ]
  },
  {
   "cell_type": "code",
   "execution_count": 29,
   "id": "solved-farming",
   "metadata": {
    "execution": {
     "iopub.execute_input": "2022-03-15T00:32:47.713899Z",
     "iopub.status.busy": "2022-03-15T00:32:47.713278Z",
     "iopub.status.idle": "2022-03-15T00:32:47.715695Z",
     "shell.execute_reply": "2022-03-15T00:32:47.716225Z"
    },
    "papermill": {
     "duration": 0.04278,
     "end_time": "2022-03-15T00:32:47.716371",
     "exception": false,
     "start_time": "2022-03-15T00:32:47.673591",
     "status": "completed"
    },
    "tags": []
   },
   "outputs": [],
   "source": [
    "#hide\n",
    "# cols.insert(0, cols.pop())"
   ]
  },
  {
   "cell_type": "code",
   "execution_count": 30,
   "id": "executed-adoption",
   "metadata": {
    "execution": {
     "iopub.execute_input": "2022-03-15T00:32:47.792986Z",
     "iopub.status.busy": "2022-03-15T00:32:47.792354Z",
     "iopub.status.idle": "2022-03-15T00:32:47.795100Z",
     "shell.execute_reply": "2022-03-15T00:32:47.795597Z"
    },
    "papermill": {
     "duration": 0.042914,
     "end_time": "2022-03-15T00:32:47.795738",
     "exception": false,
     "start_time": "2022-03-15T00:32:47.752824",
     "status": "completed"
    },
    "tags": []
   },
   "outputs": [],
   "source": [
    "#hide\n",
    "# g = g[cols]"
   ]
  },
  {
   "cell_type": "code",
   "execution_count": 31,
   "id": "subject-dublin",
   "metadata": {
    "execution": {
     "iopub.execute_input": "2022-03-15T00:32:47.874337Z",
     "iopub.status.busy": "2022-03-15T00:32:47.873269Z",
     "iopub.status.idle": "2022-03-15T00:32:47.878306Z",
     "shell.execute_reply": "2022-03-15T00:32:47.877806Z"
    },
    "papermill": {
     "duration": 0.04645,
     "end_time": "2022-03-15T00:32:47.878438",
     "exception": false,
     "start_time": "2022-03-15T00:32:47.831988",
     "status": "completed"
    },
    "tags": []
   },
   "outputs": [],
   "source": [
    "#hide\n",
    "# g['continent'] = g['continent'].map(mapping['map.continent'])"
   ]
  },
  {
   "cell_type": "code",
   "execution_count": 32,
   "id": "freelance-scout",
   "metadata": {
    "execution": {
     "iopub.execute_input": "2022-03-15T00:32:47.955824Z",
     "iopub.status.busy": "2022-03-15T00:32:47.955172Z",
     "iopub.status.idle": "2022-03-15T00:32:47.957210Z",
     "shell.execute_reply": "2022-03-15T00:32:47.956600Z"
    },
    "papermill": {
     "duration": 0.041988,
     "end_time": "2022-03-15T00:32:47.957338",
     "exception": false,
     "start_time": "2022-03-15T00:32:47.915350",
     "status": "completed"
    },
    "tags": []
   },
   "outputs": [],
   "source": [
    "#hide\n",
    "# g.head()"
   ]
  },
  {
   "cell_type": "code",
   "execution_count": 33,
   "id": "limited-engine",
   "metadata": {
    "execution": {
     "iopub.execute_input": "2022-03-15T00:32:48.034066Z",
     "iopub.status.busy": "2022-03-15T00:32:48.033439Z",
     "iopub.status.idle": "2022-03-15T00:32:48.036185Z",
     "shell.execute_reply": "2022-03-15T00:32:48.036695Z"
    },
    "papermill": {
     "duration": 0.043165,
     "end_time": "2022-03-15T00:32:48.036845",
     "exception": false,
     "start_time": "2022-03-15T00:32:47.993680",
     "status": "completed"
    },
    "tags": []
   },
   "outputs": [],
   "source": [
    "# hide\n",
    "# g['date'] = g['date'].astype('datetime64[ns]')"
   ]
  },
  {
   "cell_type": "code",
   "execution_count": 34,
   "id": "sophisticated-supervisor",
   "metadata": {
    "execution": {
     "iopub.execute_input": "2022-03-15T00:32:48.113737Z",
     "iopub.status.busy": "2022-03-15T00:32:48.113117Z",
     "iopub.status.idle": "2022-03-15T00:32:48.115901Z",
     "shell.execute_reply": "2022-03-15T00:32:48.116438Z"
    },
    "papermill": {
     "duration": 0.043235,
     "end_time": "2022-03-15T00:32:48.116586",
     "exception": false,
     "start_time": "2022-03-15T00:32:48.073351",
     "status": "completed"
    },
    "tags": []
   },
   "outputs": [],
   "source": [
    "#hide\n",
    "# g['date'] = g.date.dt.dayofyear"
   ]
  },
  {
   "cell_type": "code",
   "execution_count": 35,
   "id": "inside-dubai",
   "metadata": {
    "execution": {
     "iopub.execute_input": "2022-03-15T00:32:48.193348Z",
     "iopub.status.busy": "2022-03-15T00:32:48.192715Z",
     "iopub.status.idle": "2022-03-15T00:32:48.195402Z",
     "shell.execute_reply": "2022-03-15T00:32:48.195901Z"
    },
    "papermill": {
     "duration": 0.043338,
     "end_time": "2022-03-15T00:32:48.196075",
     "exception": false,
     "start_time": "2022-03-15T00:32:48.152737",
     "status": "completed"
    },
    "tags": []
   },
   "outputs": [],
   "source": [
    "#hide\n",
    "# g = g.rename(columns= {'continent':'group','country':'name','cases':'value'})"
   ]
  },
  {
   "cell_type": "code",
   "execution_count": 36,
   "id": "fleet-motorcycle",
   "metadata": {
    "execution": {
     "iopub.execute_input": "2022-03-15T00:32:48.272731Z",
     "iopub.status.busy": "2022-03-15T00:32:48.272094Z",
     "iopub.status.idle": "2022-03-15T00:32:48.274396Z",
     "shell.execute_reply": "2022-03-15T00:32:48.273895Z"
    },
    "papermill": {
     "duration": 0.042094,
     "end_time": "2022-03-15T00:32:48.274524",
     "exception": false,
     "start_time": "2022-03-15T00:32:48.232430",
     "status": "completed"
    },
    "tags": []
   },
   "outputs": [],
   "source": [
    "#hide\n",
    "# cols = ['name','group','day','value']"
   ]
  },
  {
   "cell_type": "code",
   "execution_count": 37,
   "id": "continued-sleeping",
   "metadata": {
    "execution": {
     "iopub.execute_input": "2022-03-15T00:32:48.352934Z",
     "iopub.status.busy": "2022-03-15T00:32:48.351855Z",
     "iopub.status.idle": "2022-03-15T00:32:48.354643Z",
     "shell.execute_reply": "2022-03-15T00:32:48.355116Z"
    },
    "papermill": {
     "duration": 0.044422,
     "end_time": "2022-03-15T00:32:48.355262",
     "exception": false,
     "start_time": "2022-03-15T00:32:48.310840",
     "status": "completed"
    },
    "tags": []
   },
   "outputs": [],
   "source": [
    "#hide\n",
    "# g.rename(columns= {'date':'day'},inplace = True)"
   ]
  },
  {
   "cell_type": "code",
   "execution_count": 38,
   "id": "major-fight",
   "metadata": {
    "execution": {
     "iopub.execute_input": "2022-03-15T00:32:48.439330Z",
     "iopub.status.busy": "2022-03-15T00:32:48.438239Z",
     "iopub.status.idle": "2022-03-15T00:32:48.443077Z",
     "shell.execute_reply": "2022-03-15T00:32:48.443690Z"
    },
    "papermill": {
     "duration": 0.047712,
     "end_time": "2022-03-15T00:32:48.443851",
     "exception": false,
     "start_time": "2022-03-15T00:32:48.396139",
     "status": "completed"
    },
    "tags": []
   },
   "outputs": [],
   "source": [
    "#hide\n",
    "# g = g[cols]"
   ]
  },
  {
   "cell_type": "code",
   "execution_count": 39,
   "id": "structured-mobile",
   "metadata": {
    "execution": {
     "iopub.execute_input": "2022-03-15T00:32:48.524020Z",
     "iopub.status.busy": "2022-03-15T00:32:48.522925Z",
     "iopub.status.idle": "2022-03-15T00:32:48.527287Z",
     "shell.execute_reply": "2022-03-15T00:32:48.526768Z"
    },
    "papermill": {
     "duration": 0.046104,
     "end_time": "2022-03-15T00:32:48.527423",
     "exception": false,
     "start_time": "2022-03-15T00:32:48.481319",
     "status": "completed"
    },
    "tags": []
   },
   "outputs": [],
   "source": [
    "# #hide\n",
    "# g = g[g.group.notna()]"
   ]
  },
  {
   "cell_type": "code",
   "execution_count": 40,
   "id": "determined-closing",
   "metadata": {
    "execution": {
     "iopub.execute_input": "2022-03-15T00:32:48.604382Z",
     "iopub.status.busy": "2022-03-15T00:32:48.603683Z",
     "iopub.status.idle": "2022-03-15T00:32:48.605385Z",
     "shell.execute_reply": "2022-03-15T00:32:48.605885Z"
    },
    "papermill": {
     "duration": 0.042188,
     "end_time": "2022-03-15T00:32:48.606036",
     "exception": false,
     "start_time": "2022-03-15T00:32:48.563848",
     "status": "completed"
    },
    "tags": []
   },
   "outputs": [],
   "source": [
    "# #hide\n",
    "# colors = dict(zip(\n",
    "#     [\"Oceania\", \"Europe\", \"Asia\", \"South America\", \"Middle East\", \"North America\", \"Africa\"],\n",
    "#     [\"#adb0ff\", \"#ffb3ff\", \"#90d595\", \"#e48381\", \"#aafbff\", \"#f7bb5f\", \"#eafb50\"]\n",
    "# ))\n",
    "# group_lk = g.set_index('name')['group'].to_dict()"
   ]
  },
  {
   "cell_type": "code",
   "execution_count": null,
   "id": "gross-drinking",
   "metadata": {
    "papermill": {
     "duration": 0.036415,
     "end_time": "2022-03-15T00:32:48.679142",
     "exception": false,
     "start_time": "2022-03-15T00:32:48.642727",
     "status": "completed"
    },
    "tags": []
   },
   "outputs": [],
   "source": []
  },
  {
   "cell_type": "code",
   "execution_count": 41,
   "id": "subject-macintosh",
   "metadata": {
    "execution": {
     "iopub.execute_input": "2022-03-15T00:32:48.758883Z",
     "iopub.status.busy": "2022-03-15T00:32:48.758227Z",
     "iopub.status.idle": "2022-03-15T00:32:48.761549Z",
     "shell.execute_reply": "2022-03-15T00:32:48.761043Z"
    },
    "papermill": {
     "duration": 0.045995,
     "end_time": "2022-03-15T00:32:48.761684",
     "exception": false,
     "start_time": "2022-03-15T00:32:48.715689",
     "status": "completed"
    },
    "tags": []
   },
   "outputs": [],
   "source": [
    "# #hide\n",
    "# fig, ax = plt.subplots(figsize=(15, 8))\n",
    "\n",
    "# def draw_barchart(current_day):\n",
    "#     dff = g[g['day'].eq(current_day)].sort_values(by='value', ascending=True).tail(10)\n",
    "#     ax.clear()\n",
    "#     ax.barh(dff['name'], dff['value'], color=[colors[group_lk[x]] for x in dff['name']])\n",
    "#     dx = dff['value'].max() / 200\n",
    "    \n",
    "#     for i, (value, name) in enumerate(zip(dff['value'], dff['name'])):\n",
    "#         ax.text(value-dx, i,     name,           size=14, weight=600, ha='right', va='bottom')\n",
    "#         ax.text(value-dx, i-.25, group_lk[name], size=10, color='#444444', ha='right', va='baseline')\n",
    "#         ax.text(value+dx, i,     f'{value:,.0f}',  size=14, ha='left',  va='center')\n",
    "#     ax.text(1, 0.4, current_day, transform=ax.transAxes, color='#777777', size=46, ha='right', weight=800)\n",
    "#     ax.text(0, 1.06, 'Population (thousands)', transform=ax.transAxes, size=12, color='#777777')\n",
    "#     ax.xaxis.set_major_formatter(ticker.StrMethodFormatter('{x:,.0f}'))\n",
    "#     ax.xaxis.set_ticks_position('top')\n",
    "#     ax.tick_params(axis='x', colors='#777777', labelsize=12)\n",
    "#     ax.set_yticks([])\n",
    "#     ax.margins(0, 0.01)\n",
    "#     ax.grid(which='major', axis='x', linestyle='-')\n",
    "#     ax.set_axisbelow(True)\n",
    "    \n",
    "#     ax.text(0, 1.15, 'Coronavirus',\n",
    "#             transform=ax.transAxes, size=24, weight=600, ha='left', va='top')\n",
    "# #     ax.text(1, 0, 'by @pratapvardhan; credit @jburnmurdoch', transform=ax.transAxes, color='#777777', ha='right',\n",
    "# #             bbox=dict(facecolor='white', alpha=0.8, edgecolor='white'))\n",
    "#     plt.box(False)"
   ]
  },
  {
   "cell_type": "code",
   "execution_count": 42,
   "id": "sexual-wages",
   "metadata": {
    "execution": {
     "iopub.execute_input": "2022-03-15T00:32:48.839469Z",
     "iopub.status.busy": "2022-03-15T00:32:48.838794Z",
     "iopub.status.idle": "2022-03-15T00:32:48.844089Z",
     "shell.execute_reply": "2022-03-15T00:32:48.844582Z"
    },
    "papermill": {
     "duration": 0.046562,
     "end_time": "2022-03-15T00:32:48.844740",
     "exception": false,
     "start_time": "2022-03-15T00:32:48.798178",
     "status": "completed"
    },
    "tags": []
   },
   "outputs": [],
   "source": [
    "# #hide_input\n",
    "# fig, ax = plt.subplots(figsize=(15, 8))\n",
    "# animator = animation.FuncAnimation(fig, draw_barchart, frames=range(g.day.values.min(), g.day.values.max()))\n",
    "# HTML(animator.to_jshtml())\n",
    "# # or use animator.to_html5_video() or animator.save() "
   ]
  },
  {
   "cell_type": "code",
   "execution_count": null,
   "id": "australian-container",
   "metadata": {
    "papermill": {
     "duration": 0.036784,
     "end_time": "2022-03-15T00:32:48.918139",
     "exception": false,
     "start_time": "2022-03-15T00:32:48.881355",
     "status": "completed"
    },
    "tags": []
   },
   "outputs": [],
   "source": []
  },
  {
   "cell_type": "code",
   "execution_count": null,
   "id": "mediterranean-pontiac",
   "metadata": {
    "papermill": {
     "duration": 0.036313,
     "end_time": "2022-03-15T00:32:48.991001",
     "exception": false,
     "start_time": "2022-03-15T00:32:48.954688",
     "status": "completed"
    },
    "tags": []
   },
   "outputs": [],
   "source": []
  },
  {
   "cell_type": "code",
   "execution_count": null,
   "id": "aging-legislature",
   "metadata": {
    "papermill": {
     "duration": 0.03623,
     "end_time": "2022-03-15T00:32:49.063780",
     "exception": false,
     "start_time": "2022-03-15T00:32:49.027550",
     "status": "completed"
    },
    "tags": []
   },
   "outputs": [],
   "source": []
  }
 ],
 "metadata": {
  "kernelspec": {
   "display_name": "Python 3",
   "language": "python",
   "name": "python3"
  },
  "language_info": {
   "codemirror_mode": {
    "name": "ipython",
    "version": 3
   },
   "file_extension": ".py",
   "mimetype": "text/x-python",
   "name": "python",
   "nbconvert_exporter": "python",
   "pygments_lexer": "ipython3",
   "version": "3.6.15"
  },
  "papermill": {
   "duration": 6.99134,
   "end_time": "2022-03-15T00:32:49.519836",
   "environment_variables": {},
   "exception": null,
   "input_path": "2020-03-21-covid19exp.ipynb",
   "output_path": "2020-03-21-covid19exp.ipynb",
   "parameters": {},
   "start_time": "2022-03-15T00:32:42.528496",
   "version": "2.0.0"
  }
 },
 "nbformat": 4,
 "nbformat_minor": 5
}