{
 "cells": [
  {
   "cell_type": "markdown",
   "id": "muslim-click",
   "metadata": {
    "papermill": {
     "duration": 0.033748,
     "end_time": "2022-03-11T00:36:12.119319",
     "exception": false,
     "start_time": "2022-03-11T00:36:12.085571",
     "status": "completed"
    },
    "tags": []
   },
   "source": [
    "# COVID-19 Case Race\n",
    "> A race chart to see rising cases around the world\n",
    "\n",
    "- author: Hargun Oberoi\n",
    "- image: images/covid-overview.png\n",
    "- hide: false\n",
    "- badges: false"
   ]
  },
  {
   "cell_type": "code",
   "execution_count": 1,
   "id": "proof-material",
   "metadata": {
    "execution": {
     "iopub.execute_input": "2022-03-11T00:36:12.188701Z",
     "iopub.status.busy": "2022-03-11T00:36:12.188174Z",
     "iopub.status.idle": "2022-03-11T00:36:12.507166Z",
     "shell.execute_reply": "2022-03-11T00:36:12.507603Z"
    },
    "papermill": {
     "duration": 0.357315,
     "end_time": "2022-03-11T00:36:12.507773",
     "exception": false,
     "start_time": "2022-03-11T00:36:12.150458",
     "status": "completed"
    },
    "tags": []
   },
   "outputs": [],
   "source": [
    "#hide\n",
    "import numpy as np\n",
    "import pandas as pd\n",
    "from jinja2 import Template\n",
    "from IPython.display import HTML"
   ]
  },
  {
   "cell_type": "code",
   "execution_count": 2,
   "id": "developed-terminology",
   "metadata": {
    "execution": {
     "iopub.execute_input": "2022-03-11T00:36:12.572850Z",
     "iopub.status.busy": "2022-03-11T00:36:12.572211Z",
     "iopub.status.idle": "2022-03-11T00:36:12.573719Z",
     "shell.execute_reply": "2022-03-11T00:36:12.574170Z"
    },
    "papermill": {
     "duration": 0.03636,
     "end_time": "2022-03-11T00:36:12.574316",
     "exception": false,
     "start_time": "2022-03-11T00:36:12.537956",
     "status": "completed"
    },
    "tags": []
   },
   "outputs": [],
   "source": [
    "#hide\n",
    "\n",
    "# FETCH\n",
    "base_url = 'https://raw.githubusercontent.com/pratapvardhan/notebooks/master/covid19/'\n",
    "paths = {\n",
    "    'mapping': base_url + 'mapping_countries.csv',\n",
    "    'overview': base_url + 'overview.tpl'\n",
    "}"
   ]
  },
  {
   "cell_type": "code",
   "execution_count": 3,
   "id": "dynamic-saver",
   "metadata": {
    "execution": {
     "iopub.execute_input": "2022-03-11T00:36:12.642704Z",
     "iopub.status.busy": "2022-03-11T00:36:12.642183Z",
     "iopub.status.idle": "2022-03-11T00:36:12.644512Z",
     "shell.execute_reply": "2022-03-11T00:36:12.644894Z"
    },
    "papermill": {
     "duration": 0.041143,
     "end_time": "2022-03-11T00:36:12.645025",
     "exception": false,
     "start_time": "2022-03-11T00:36:12.603882",
     "status": "completed"
    },
    "tags": []
   },
   "outputs": [
    {
     "data": {
      "text/plain": [
       "'https://raw.githubusercontent.com/pratapvardhan/notebooks/master/covid19/mapping_countries.csv'"
      ]
     },
     "execution_count": 3,
     "metadata": {},
     "output_type": "execute_result"
    }
   ],
   "source": [
    "#hide\n",
    "paths['mapping']"
   ]
  },
  {
   "cell_type": "code",
   "execution_count": 4,
   "id": "urban-software",
   "metadata": {
    "execution": {
     "iopub.execute_input": "2022-03-11T00:36:12.709708Z",
     "iopub.status.busy": "2022-03-11T00:36:12.709150Z",
     "iopub.status.idle": "2022-03-11T00:36:12.711177Z",
     "shell.execute_reply": "2022-03-11T00:36:12.710770Z"
    },
    "papermill": {
     "duration": 0.036537,
     "end_time": "2022-03-11T00:36:12.711288",
     "exception": false,
     "start_time": "2022-03-11T00:36:12.674751",
     "status": "completed"
    },
    "tags": []
   },
   "outputs": [],
   "source": [
    "#hide\n",
    "def get_mappings(url):\n",
    "    df = pd.read_csv(url)\n",
    "    return {\n",
    "        'df': df,\n",
    "        'replace.country': dict(df.dropna(subset=['Name']).set_index('Country')['Name']),\n",
    "        'map.continent': dict(df.set_index('Name')['Continent'])\n",
    "    }"
   ]
  },
  {
   "cell_type": "code",
   "execution_count": 5,
   "id": "intimate-machinery",
   "metadata": {
    "execution": {
     "iopub.execute_input": "2022-03-11T00:36:12.776036Z",
     "iopub.status.busy": "2022-03-11T00:36:12.775511Z",
     "iopub.status.idle": "2022-03-11T00:36:12.839857Z",
     "shell.execute_reply": "2022-03-11T00:36:12.839343Z"
    },
    "papermill": {
     "duration": 0.098927,
     "end_time": "2022-03-11T00:36:12.839996",
     "exception": false,
     "start_time": "2022-03-11T00:36:12.741069",
     "status": "completed"
    },
    "tags": []
   },
   "outputs": [],
   "source": [
    "#hide\n",
    "mapping = get_mappings(paths['mapping'])"
   ]
  },
  {
   "cell_type": "code",
   "execution_count": 6,
   "id": "certified-tactics",
   "metadata": {
    "execution": {
     "iopub.execute_input": "2022-03-11T00:36:12.904840Z",
     "iopub.status.busy": "2022-03-11T00:36:12.904175Z",
     "iopub.status.idle": "2022-03-11T00:36:12.906246Z",
     "shell.execute_reply": "2022-03-11T00:36:12.905832Z"
    },
    "papermill": {
     "duration": 0.036435,
     "end_time": "2022-03-11T00:36:12.906361",
     "exception": false,
     "start_time": "2022-03-11T00:36:12.869926",
     "status": "completed"
    },
    "tags": []
   },
   "outputs": [],
   "source": [
    "#hide\n",
    "def get_template(path):\n",
    "    from urllib.parse import urlparse\n",
    "    if bool(urlparse(path).netloc):\n",
    "        from urllib.request import urlopen\n",
    "        return urlopen(path).read().decode('utf8')\n",
    "    return open(path).read()"
   ]
  },
  {
   "cell_type": "code",
   "execution_count": 7,
   "id": "realistic-blast",
   "metadata": {
    "execution": {
     "iopub.execute_input": "2022-03-11T00:36:12.969962Z",
     "iopub.status.busy": "2022-03-11T00:36:12.969334Z",
     "iopub.status.idle": "2022-03-11T00:36:12.970849Z",
     "shell.execute_reply": "2022-03-11T00:36:12.971310Z"
    },
    "papermill": {
     "duration": 0.035607,
     "end_time": "2022-03-11T00:36:12.971447",
     "exception": false,
     "start_time": "2022-03-11T00:36:12.935840",
     "status": "completed"
    },
    "tags": []
   },
   "outputs": [],
   "source": [
    "#hide\n",
    "def get_frame(name):\n",
    "    url = (\n",
    "        'https://raw.githubusercontent.com/CSSEGISandData/COVID-19/master/csse_covid_19_data/'\n",
    "        f'csse_covid_19_time_series/time_series_covid19_{name}_global.csv')\n",
    "    df = pd.read_csv(url)\n",
    "    # rename countries\n",
    "    df['Country/Region'] = df['Country/Region'].replace(mapping['replace.country'])\n",
    "    return df"
   ]
  },
  {
   "cell_type": "code",
   "execution_count": 8,
   "id": "affiliated-characterization",
   "metadata": {
    "execution": {
     "iopub.execute_input": "2022-03-11T00:36:13.036648Z",
     "iopub.status.busy": "2022-03-11T00:36:13.036122Z",
     "iopub.status.idle": "2022-03-11T00:36:13.038183Z",
     "shell.execute_reply": "2022-03-11T00:36:13.037747Z"
    },
    "papermill": {
     "duration": 0.036971,
     "end_time": "2022-03-11T00:36:13.038291",
     "exception": false,
     "start_time": "2022-03-11T00:36:13.001320",
     "status": "completed"
    },
    "tags": []
   },
   "outputs": [],
   "source": [
    "#hide\n",
    "def get_dates(df):\n",
    "    dt_cols = df.columns[~df.columns.isin(['Province/State', 'Country/Region', 'Lat', 'Long'])]\n",
    "    LAST_DATE_I = -1\n",
    "    # sometimes last column may be empty, then go backwards\n",
    "    for i in range(-1, -len(dt_cols), -1):\n",
    "        if not df[dt_cols[i]].fillna(0).eq(0).all():\n",
    "            LAST_DATE_I = i\n",
    "            break\n",
    "    return LAST_DATE_I, dt_cols"
   ]
  },
  {
   "cell_type": "code",
   "execution_count": 9,
   "id": "recent-optimization",
   "metadata": {
    "execution": {
     "iopub.execute_input": "2022-03-11T00:36:13.102331Z",
     "iopub.status.busy": "2022-03-11T00:36:13.101432Z",
     "iopub.status.idle": "2022-03-11T00:36:13.696827Z",
     "shell.execute_reply": "2022-03-11T00:36:13.695825Z"
    },
    "papermill": {
     "duration": 0.629238,
     "end_time": "2022-03-11T00:36:13.696967",
     "exception": false,
     "start_time": "2022-03-11T00:36:13.067729",
     "status": "completed"
    },
    "tags": []
   },
   "outputs": [],
   "source": [
    "#hide\n",
    "COL_REGION = 'Country/Region'\n",
    "# Confirmed, Recovered, Deaths\n",
    "df = get_frame('confirmed')\n",
    "# dft_: timeseries, dfc_: today country agg\n",
    "dft_cases = df\n",
    "dft_deaths = get_frame('deaths')\n",
    "dft_recovered = get_frame('recovered')\n",
    "LAST_DATE_I, dt_cols = get_dates(df)"
   ]
  },
  {
   "cell_type": "code",
   "execution_count": 10,
   "id": "absolute-copper",
   "metadata": {
    "execution": {
     "iopub.execute_input": "2022-03-11T00:36:13.762413Z",
     "iopub.status.busy": "2022-03-11T00:36:13.761787Z",
     "iopub.status.idle": "2022-03-11T00:36:13.763323Z",
     "shell.execute_reply": "2022-03-11T00:36:13.763761Z"
    },
    "papermill": {
     "duration": 0.036676,
     "end_time": "2022-03-11T00:36:13.763906",
     "exception": false,
     "start_time": "2022-03-11T00:36:13.727230",
     "status": "completed"
    },
    "tags": []
   },
   "outputs": [],
   "source": [
    "#hide\n",
    "LAST_DATE_I, dt_cols = get_dates(df)\n",
    "dt_today =dt_cols[LAST_DATE_I]\n",
    "# dt_5day = dt_cols[LAST_DATE_I - 5]\n",
    "dt_yday = dt_cols[LAST_DATE_I - 1]"
   ]
  },
  {
   "cell_type": "code",
   "execution_count": 11,
   "id": "restricted-sheriff",
   "metadata": {
    "execution": {
     "iopub.execute_input": "2022-03-11T00:36:13.829326Z",
     "iopub.status.busy": "2022-03-11T00:36:13.828802Z",
     "iopub.status.idle": "2022-03-11T00:36:13.835852Z",
     "shell.execute_reply": "2022-03-11T00:36:13.836247Z"
    },
    "papermill": {
     "duration": 0.042269,
     "end_time": "2022-03-11T00:36:13.836379",
     "exception": false,
     "start_time": "2022-03-11T00:36:13.794110",
     "status": "completed"
    },
    "tags": []
   },
   "outputs": [],
   "source": [
    "#hide\n",
    "dfc_cases = dft_cases.groupby(COL_REGION)[dt_today].sum()\n",
    "dfc_deaths = dft_deaths.groupby(COL_REGION)[dt_today].sum()\n",
    "# dfp_cases = dft_cases.groupby(COL_REGION)[dt_5day].sum()\n",
    "# dfp_deaths = dft_deaths.groupby(COL_REGION)[dt_5day].sum()\n",
    "dfp_cases = dft_cases.groupby(COL_REGION)[dt_yday].sum()\n",
    "dfp_deaths = dft_deaths.groupby(COL_REGION)[dt_yday].sum()"
   ]
  },
  {
   "cell_type": "code",
   "execution_count": 12,
   "id": "deluxe-hepatitis",
   "metadata": {
    "execution": {
     "iopub.execute_input": "2022-03-11T00:36:13.902179Z",
     "iopub.status.busy": "2022-03-11T00:36:13.901624Z",
     "iopub.status.idle": "2022-03-11T00:36:13.905587Z",
     "shell.execute_reply": "2022-03-11T00:36:13.906106Z"
    },
    "papermill": {
     "duration": 0.040042,
     "end_time": "2022-03-11T00:36:13.906235",
     "exception": false,
     "start_time": "2022-03-11T00:36:13.866193",
     "status": "completed"
    },
    "tags": []
   },
   "outputs": [],
   "source": [
    "#hide\n",
    "df_table = (pd.DataFrame(dict(Cases = dfc_cases, Deaths = dfc_deaths, PCases = dfp_cases, PDeaths = dfp_deaths))\n",
    "            .sort_values(by = ['Cases','Deaths'], ascending = [False, False])\n",
    "            .reset_index())"
   ]
  },
  {
   "cell_type": "code",
   "execution_count": 13,
   "id": "educational-chancellor",
   "metadata": {
    "execution": {
     "iopub.execute_input": "2022-03-11T00:36:13.982929Z",
     "iopub.status.busy": "2022-03-11T00:36:13.982408Z",
     "iopub.status.idle": "2022-03-11T00:36:13.989565Z",
     "shell.execute_reply": "2022-03-11T00:36:13.989154Z"
    },
    "papermill": {
     "duration": 0.05404,
     "end_time": "2022-03-11T00:36:13.989698",
     "exception": false,
     "start_time": "2022-03-11T00:36:13.935658",
     "status": "completed"
    },
    "tags": []
   },
   "outputs": [
    {
     "data": {
      "text/html": [
       "<div>\n",
       "<style scoped>\n",
       "    .dataframe tbody tr th:only-of-type {\n",
       "        vertical-align: middle;\n",
       "    }\n",
       "\n",
       "    .dataframe tbody tr th {\n",
       "        vertical-align: top;\n",
       "    }\n",
       "\n",
       "    .dataframe thead th {\n",
       "        text-align: right;\n",
       "    }\n",
       "</style>\n",
       "<table border=\"1\" class=\"dataframe\">\n",
       "  <thead>\n",
       "    <tr style=\"text-align: right;\">\n",
       "      <th></th>\n",
       "      <th>Country/Region</th>\n",
       "      <th>Cases</th>\n",
       "      <th>Deaths</th>\n",
       "      <th>PCases</th>\n",
       "      <th>PDeaths</th>\n",
       "      <th>Cases (+)</th>\n",
       "      <th>Deaths (+)</th>\n",
       "      <th>Fatality Rate</th>\n",
       "      <th>Continent</th>\n",
       "    </tr>\n",
       "  </thead>\n",
       "  <tbody>\n",
       "    <tr>\n",
       "      <th>0</th>\n",
       "      <td>US</td>\n",
       "      <td>79406602</td>\n",
       "      <td>963819</td>\n",
       "      <td>79369007</td>\n",
       "      <td>961843</td>\n",
       "      <td>37595</td>\n",
       "      <td>1976</td>\n",
       "      <td>1.21</td>\n",
       "      <td>North America</td>\n",
       "    </tr>\n",
       "    <tr>\n",
       "      <th>1</th>\n",
       "      <td>India</td>\n",
       "      <td>42980067</td>\n",
       "      <td>515459</td>\n",
       "      <td>42975883</td>\n",
       "      <td>515355</td>\n",
       "      <td>4184</td>\n",
       "      <td>104</td>\n",
       "      <td>1.20</td>\n",
       "      <td>Asia</td>\n",
       "    </tr>\n",
       "    <tr>\n",
       "      <th>2</th>\n",
       "      <td>Brazil</td>\n",
       "      <td>29198101</td>\n",
       "      <td>653767</td>\n",
       "      <td>29152318</td>\n",
       "      <td>653134</td>\n",
       "      <td>45783</td>\n",
       "      <td>633</td>\n",
       "      <td>2.24</td>\n",
       "      <td>South America</td>\n",
       "    </tr>\n",
       "    <tr>\n",
       "      <th>3</th>\n",
       "      <td>France</td>\n",
       "      <td>23417253</td>\n",
       "      <td>140797</td>\n",
       "      <td>23346927</td>\n",
       "      <td>140642</td>\n",
       "      <td>70326</td>\n",
       "      <td>155</td>\n",
       "      <td>0.60</td>\n",
       "      <td>Europe</td>\n",
       "    </tr>\n",
       "    <tr>\n",
       "      <th>4</th>\n",
       "      <td>United Kingdom</td>\n",
       "      <td>19515547</td>\n",
       "      <td>163059</td>\n",
       "      <td>19446892</td>\n",
       "      <td>162936</td>\n",
       "      <td>68655</td>\n",
       "      <td>123</td>\n",
       "      <td>0.84</td>\n",
       "      <td>Europe</td>\n",
       "    </tr>\n",
       "  </tbody>\n",
       "</table>\n",
       "</div>"
      ],
      "text/plain": [
       "   Country/Region     Cases  Deaths    PCases  PDeaths  Cases (+)  Deaths (+)  \\\n",
       "0              US  79406602  963819  79369007   961843      37595        1976   \n",
       "1           India  42980067  515459  42975883   515355       4184         104   \n",
       "2          Brazil  29198101  653767  29152318   653134      45783         633   \n",
       "3          France  23417253  140797  23346927   140642      70326         155   \n",
       "4  United Kingdom  19515547  163059  19446892   162936      68655         123   \n",
       "\n",
       "   Fatality Rate      Continent  \n",
       "0           1.21  North America  \n",
       "1           1.20           Asia  \n",
       "2           2.24  South America  \n",
       "3           0.60         Europe  \n",
       "4           0.84         Europe  "
      ]
     },
     "execution_count": 13,
     "metadata": {},
     "output_type": "execute_result"
    }
   ],
   "source": [
    "#hide\n",
    "for c in 'Cases, Deaths'.split(', '):\n",
    "    df_table[f'{c} (+)'] = (df_table[c] - df_table[f'P{c}']).clip(0)\n",
    "    #Clip ça veut dire, les chiffres negatif sont interdit\n",
    "df_table['Fatality Rate'] = (100* df_table['Deaths']/ df_table['Cases']).round(2)\n",
    "df_table['Continent'] = df_table['Country/Region'].map(mapping['map.continent'])\n",
    "df_table.head(5)"
   ]
  },
  {
   "cell_type": "code",
   "execution_count": 14,
   "id": "aboriginal-bulgaria",
   "metadata": {
    "execution": {
     "iopub.execute_input": "2022-03-11T00:36:14.054724Z",
     "iopub.status.busy": "2022-03-11T00:36:14.054216Z",
     "iopub.status.idle": "2022-03-11T00:36:14.055967Z",
     "shell.execute_reply": "2022-03-11T00:36:14.056370Z"
    },
    "papermill": {
     "duration": 0.036785,
     "end_time": "2022-03-11T00:36:14.056487",
     "exception": false,
     "start_time": "2022-03-11T00:36:14.019702",
     "status": "completed"
    },
    "tags": []
   },
   "outputs": [],
   "source": [
    "#hide\n",
    "#delete problematic countries from table\n",
    "df_table = df_table[~df_table['Country/Region'].isin(['Cape Verde', 'Cruise Ship', 'Kosovo'])]"
   ]
  },
  {
   "cell_type": "code",
   "execution_count": 15,
   "id": "fantastic-effect",
   "metadata": {
    "execution": {
     "iopub.execute_input": "2022-03-11T00:36:14.125770Z",
     "iopub.status.busy": "2022-03-11T00:36:14.125215Z",
     "iopub.status.idle": "2022-03-11T00:36:14.141519Z",
     "shell.execute_reply": "2022-03-11T00:36:14.142034Z"
    },
    "papermill": {
     "duration": 0.054697,
     "end_time": "2022-03-11T00:36:14.142162",
     "exception": false,
     "start_time": "2022-03-11T00:36:14.087465",
     "status": "completed"
    },
    "tags": []
   },
   "outputs": [
    {
     "data": {
      "text/html": [
       "<div>\n",
       "<style scoped>\n",
       "    .dataframe tbody tr th:only-of-type {\n",
       "        vertical-align: middle;\n",
       "    }\n",
       "\n",
       "    .dataframe tbody tr th {\n",
       "        vertical-align: top;\n",
       "    }\n",
       "\n",
       "    .dataframe thead th {\n",
       "        text-align: right;\n",
       "    }\n",
       "</style>\n",
       "<table border=\"1\" class=\"dataframe\">\n",
       "  <thead>\n",
       "    <tr style=\"text-align: right;\">\n",
       "      <th></th>\n",
       "      <th>Country/Region</th>\n",
       "      <th>Cases</th>\n",
       "      <th>Deaths</th>\n",
       "      <th>PCases</th>\n",
       "      <th>PDeaths</th>\n",
       "      <th>Cases (+)</th>\n",
       "      <th>Deaths (+)</th>\n",
       "      <th>Fatality Rate</th>\n",
       "      <th>Continent</th>\n",
       "    </tr>\n",
       "  </thead>\n",
       "  <tbody>\n",
       "    <tr>\n",
       "      <th>0</th>\n",
       "      <td>US</td>\n",
       "      <td>79406602</td>\n",
       "      <td>963819</td>\n",
       "      <td>79369007</td>\n",
       "      <td>961843</td>\n",
       "      <td>37595</td>\n",
       "      <td>1976</td>\n",
       "      <td>1.2</td>\n",
       "      <td>North America</td>\n",
       "    </tr>\n",
       "    <tr>\n",
       "      <th>1</th>\n",
       "      <td>India</td>\n",
       "      <td>42980067</td>\n",
       "      <td>515459</td>\n",
       "      <td>42975883</td>\n",
       "      <td>515355</td>\n",
       "      <td>4184</td>\n",
       "      <td>104</td>\n",
       "      <td>1.2</td>\n",
       "      <td>Asia</td>\n",
       "    </tr>\n",
       "    <tr>\n",
       "      <th>2</th>\n",
       "      <td>Brazil</td>\n",
       "      <td>29198101</td>\n",
       "      <td>653767</td>\n",
       "      <td>29152318</td>\n",
       "      <td>653134</td>\n",
       "      <td>45783</td>\n",
       "      <td>633</td>\n",
       "      <td>2.2</td>\n",
       "      <td>South America</td>\n",
       "    </tr>\n",
       "    <tr>\n",
       "      <th>3</th>\n",
       "      <td>France</td>\n",
       "      <td>23417253</td>\n",
       "      <td>140797</td>\n",
       "      <td>23346927</td>\n",
       "      <td>140642</td>\n",
       "      <td>70326</td>\n",
       "      <td>155</td>\n",
       "      <td>0.6</td>\n",
       "      <td>Europe</td>\n",
       "    </tr>\n",
       "    <tr>\n",
       "      <th>4</th>\n",
       "      <td>United Kingdom</td>\n",
       "      <td>19515547</td>\n",
       "      <td>163059</td>\n",
       "      <td>19446892</td>\n",
       "      <td>162936</td>\n",
       "      <td>68655</td>\n",
       "      <td>123</td>\n",
       "      <td>0.8</td>\n",
       "      <td>Europe</td>\n",
       "    </tr>\n",
       "  </tbody>\n",
       "</table>\n",
       "</div>"
      ],
      "text/plain": [
       "   Country/Region     Cases  Deaths    PCases  PDeaths  Cases (+)  Deaths (+)  \\\n",
       "0              US  79406602  963819  79369007   961843      37595        1976   \n",
       "1           India  42980067  515459  42975883   515355       4184         104   \n",
       "2          Brazil  29198101  653767  29152318   653134      45783         633   \n",
       "3          France  23417253  140797  23346927   140642      70326         155   \n",
       "4  United Kingdom  19515547  163059  19446892   162936      68655         123   \n",
       "\n",
       "   Fatality Rate      Continent  \n",
       "0            1.2  North America  \n",
       "1            1.2           Asia  \n",
       "2            2.2  South America  \n",
       "3            0.6         Europe  \n",
       "4            0.8         Europe  "
      ]
     },
     "execution_count": 15,
     "metadata": {},
     "output_type": "execute_result"
    }
   ],
   "source": [
    "#hide\n",
    "df_table = (pd.DataFrame(dict(Cases=dfc_cases, Deaths=dfc_deaths, PCases=dfp_cases, PDeaths=dfp_deaths))\n",
    "             .sort_values(by=['Cases', 'Deaths'], ascending=[False, False])\n",
    "             .reset_index())\n",
    "df_table.rename(columns={'index': 'Country/Region'}, inplace=True)\n",
    "for c in 'Cases, Deaths'.split(', '):\n",
    "    df_table[f'{c} (+)'] = (df_table[c] - df_table[f'P{c}']).clip(0)  # DATA BUG\n",
    "df_table['Fatality Rate'] = (100 * df_table['Deaths'] / df_table['Cases']).round(1)\n",
    "df_table['Continent'] = df_table['Country/Region'].map(mapping['map.continent'])\n",
    "df_table.head(5)"
   ]
  },
  {
   "cell_type": "code",
   "execution_count": 16,
   "id": "fewer-occasion",
   "metadata": {
    "execution": {
     "iopub.execute_input": "2022-03-11T00:36:14.208854Z",
     "iopub.status.busy": "2022-03-11T00:36:14.208340Z",
     "iopub.status.idle": "2022-03-11T00:36:14.210391Z",
     "shell.execute_reply": "2022-03-11T00:36:14.210876Z"
    },
    "papermill": {
     "duration": 0.03824,
     "end_time": "2022-03-11T00:36:14.210997",
     "exception": false,
     "start_time": "2022-03-11T00:36:14.172757",
     "status": "completed"
    },
    "tags": []
   },
   "outputs": [],
   "source": [
    "#hide\n",
    "#delete problematic countries from table\n",
    "df_table = df_table[~df_table['Country/Region'].isin(['Cape Verde', 'Cruise Ship', 'Kosovo'])]"
   ]
  },
  {
   "cell_type": "code",
   "execution_count": 17,
   "id": "related-center",
   "metadata": {
    "execution": {
     "iopub.execute_input": "2022-03-11T00:36:14.281899Z",
     "iopub.status.busy": "2022-03-11T00:36:14.281353Z",
     "iopub.status.idle": "2022-03-11T00:36:14.290862Z",
     "shell.execute_reply": "2022-03-11T00:36:14.290409Z"
    },
    "papermill": {
     "duration": 0.049624,
     "end_time": "2022-03-11T00:36:14.290968",
     "exception": false,
     "start_time": "2022-03-11T00:36:14.241344",
     "status": "completed"
    },
    "tags": []
   },
   "outputs": [],
   "source": [
    "#hide\n",
    "metrics = [df_table.columns[index] for index in [1,2,5,6]]\n",
    "# s_china = df_table[df_table['Country/Region'].eq('China')][metrics].sum().add_prefix('China ')\n",
    "s_us = df_table[df_table['Country/Region'].eq('US')][metrics].sum().add_prefix('US ')\n",
    "s_eu = df_table[df_table['Continent'].eq('Europe')][metrics].sum().add_prefix('EU ')\n",
    "s_ind = df_table[df_table['Country/Region'].eq('India')][metrics].sum().add_prefix('India ')\n",
    "summary = {'updated': pd.to_datetime(dt_today), 'since': pd.to_datetime(dt_yday)}\n",
    "summary = {'updated': pd.to_datetime(dt_today), 'since': pd.to_datetime(dt_yday)}\n",
    "summary = {**summary, **df_table[metrics].sum(), **s_ind, **s_us, **s_eu}"
   ]
  },
  {
   "cell_type": "code",
   "execution_count": 18,
   "id": "engaging-syndrome",
   "metadata": {
    "execution": {
     "iopub.execute_input": "2022-03-11T00:36:14.360285Z",
     "iopub.status.busy": "2022-03-11T00:36:14.357012Z",
     "iopub.status.idle": "2022-03-11T00:36:14.374595Z",
     "shell.execute_reply": "2022-03-11T00:36:14.373820Z"
    },
    "papermill": {
     "duration": 0.053194,
     "end_time": "2022-03-11T00:36:14.374713",
     "exception": false,
     "start_time": "2022-03-11T00:36:14.321519",
     "status": "completed"
    },
    "tags": []
   },
   "outputs": [],
   "source": [
    "#hide\n",
    "dft_ct_new_cases = dft_cases.groupby(COL_REGION)[dt_cols].sum().diff(axis=1).fillna(0).astype(int)"
   ]
  },
  {
   "cell_type": "code",
   "execution_count": 19,
   "id": "neutral-assignment",
   "metadata": {
    "execution": {
     "iopub.execute_input": "2022-03-11T00:36:14.442227Z",
     "iopub.status.busy": "2022-03-11T00:36:14.441694Z",
     "iopub.status.idle": "2022-03-11T00:36:14.443354Z",
     "shell.execute_reply": "2022-03-11T00:36:14.443735Z"
    },
    "papermill": {
     "duration": 0.038518,
     "end_time": "2022-03-11T00:36:14.443863",
     "exception": false,
     "start_time": "2022-03-11T00:36:14.405345",
     "status": "completed"
    },
    "tags": []
   },
   "outputs": [],
   "source": [
    "#hide\n",
    "everydaycases = dft_ct_new_cases.cumsum(axis=1)"
   ]
  },
  {
   "cell_type": "code",
   "execution_count": 20,
   "id": "parliamentary-calgary",
   "metadata": {
    "execution": {
     "iopub.execute_input": "2022-03-11T00:36:14.509206Z",
     "iopub.status.busy": "2022-03-11T00:36:14.508691Z",
     "iopub.status.idle": "2022-03-11T00:36:15.108804Z",
     "shell.execute_reply": "2022-03-11T00:36:15.108282Z"
    },
    "papermill": {
     "duration": 0.634468,
     "end_time": "2022-03-11T00:36:15.108944",
     "exception": false,
     "start_time": "2022-03-11T00:36:14.474476",
     "status": "completed"
    },
    "tags": []
   },
   "outputs": [],
   "source": [
    "#hide\n",
    "import pandas as pd\n",
    "import matplotlib.pyplot as plt\n",
    "import matplotlib.ticker as ticker\n",
    "import matplotlib.animation as animation\n",
    "from IPython.display import HTML"
   ]
  },
  {
   "cell_type": "code",
   "execution_count": 21,
   "id": "lasting-extraction",
   "metadata": {
    "execution": {
     "iopub.execute_input": "2022-03-11T00:36:15.177784Z",
     "iopub.status.busy": "2022-03-11T00:36:15.177245Z",
     "iopub.status.idle": "2022-03-11T00:36:15.183533Z",
     "shell.execute_reply": "2022-03-11T00:36:15.183129Z"
    },
    "papermill": {
     "duration": 0.042806,
     "end_time": "2022-03-11T00:36:15.183646",
     "exception": false,
     "start_time": "2022-03-11T00:36:15.140840",
     "status": "completed"
    },
    "tags": []
   },
   "outputs": [],
   "source": [
    "#hide\n",
    "t = everydaycases.stack()"
   ]
  },
  {
   "cell_type": "code",
   "execution_count": 22,
   "id": "premier-sleeve",
   "metadata": {
    "execution": {
     "iopub.execute_input": "2022-03-11T00:36:15.248774Z",
     "iopub.status.busy": "2022-03-11T00:36:15.248260Z",
     "iopub.status.idle": "2022-03-11T00:36:15.258011Z",
     "shell.execute_reply": "2022-03-11T00:36:15.258487Z"
    },
    "papermill": {
     "duration": 0.044368,
     "end_time": "2022-03-11T00:36:15.258613",
     "exception": false,
     "start_time": "2022-03-11T00:36:15.214245",
     "status": "completed"
    },
    "tags": []
   },
   "outputs": [],
   "source": [
    "#hide\n",
    "g = t.reset_index(['Country/Region'])"
   ]
  },
  {
   "cell_type": "code",
   "execution_count": 23,
   "id": "distributed-pittsburgh",
   "metadata": {
    "execution": {
     "iopub.execute_input": "2022-03-11T00:36:15.324373Z",
     "iopub.status.busy": "2022-03-11T00:36:15.323298Z",
     "iopub.status.idle": "2022-03-11T00:36:15.325061Z",
     "shell.execute_reply": "2022-03-11T00:36:15.325461Z"
    },
    "papermill": {
     "duration": 0.03657,
     "end_time": "2022-03-11T00:36:15.325584",
     "exception": false,
     "start_time": "2022-03-11T00:36:15.289014",
     "status": "completed"
    },
    "tags": []
   },
   "outputs": [],
   "source": [
    "#hide\n",
    "g.index.name = 'date'"
   ]
  },
  {
   "cell_type": "code",
   "execution_count": 24,
   "id": "naked-donor",
   "metadata": {
    "execution": {
     "iopub.execute_input": "2022-03-11T00:36:15.390229Z",
     "iopub.status.busy": "2022-03-11T00:36:15.389608Z",
     "iopub.status.idle": "2022-03-11T00:36:15.392463Z",
     "shell.execute_reply": "2022-03-11T00:36:15.391971Z"
    },
    "papermill": {
     "duration": 0.036573,
     "end_time": "2022-03-11T00:36:15.392570",
     "exception": false,
     "start_time": "2022-03-11T00:36:15.355997",
     "status": "completed"
    },
    "tags": []
   },
   "outputs": [],
   "source": [
    "# #hide\n",
    "# g = g.reset_index(['date'])"
   ]
  },
  {
   "cell_type": "code",
   "execution_count": 25,
   "id": "incomplete-mustang",
   "metadata": {
    "execution": {
     "iopub.execute_input": "2022-03-11T00:36:15.457098Z",
     "iopub.status.busy": "2022-03-11T00:36:15.456570Z",
     "iopub.status.idle": "2022-03-11T00:36:15.460094Z",
     "shell.execute_reply": "2022-03-11T00:36:15.459677Z"
    },
    "papermill": {
     "duration": 0.037064,
     "end_time": "2022-03-11T00:36:15.460204",
     "exception": false,
     "start_time": "2022-03-11T00:36:15.423140",
     "status": "completed"
    },
    "tags": []
   },
   "outputs": [],
   "source": [
    "#hide\n",
    "# g.head()"
   ]
  },
  {
   "cell_type": "code",
   "execution_count": 26,
   "id": "specific-kruger",
   "metadata": {
    "execution": {
     "iopub.execute_input": "2022-03-11T00:36:15.524587Z",
     "iopub.status.busy": "2022-03-11T00:36:15.523996Z",
     "iopub.status.idle": "2022-03-11T00:36:15.526169Z",
     "shell.execute_reply": "2022-03-11T00:36:15.525675Z"
    },
    "papermill": {
     "duration": 0.035578,
     "end_time": "2022-03-11T00:36:15.526287",
     "exception": false,
     "start_time": "2022-03-11T00:36:15.490709",
     "status": "completed"
    },
    "tags": []
   },
   "outputs": [],
   "source": [
    "#hide\n",
    "# g.columns = ['date','country','cases']"
   ]
  },
  {
   "cell_type": "code",
   "execution_count": 27,
   "id": "tender-conversion",
   "metadata": {
    "execution": {
     "iopub.execute_input": "2022-03-11T00:36:15.591053Z",
     "iopub.status.busy": "2022-03-11T00:36:15.590472Z",
     "iopub.status.idle": "2022-03-11T00:36:15.592652Z",
     "shell.execute_reply": "2022-03-11T00:36:15.592093Z"
    },
    "papermill": {
     "duration": 0.035236,
     "end_time": "2022-03-11T00:36:15.592770",
     "exception": false,
     "start_time": "2022-03-11T00:36:15.557534",
     "status": "completed"
    },
    "tags": []
   },
   "outputs": [],
   "source": [
    "#hide\n",
    "# g['continent'] = g.country"
   ]
  },
  {
   "cell_type": "code",
   "execution_count": 28,
   "id": "substantial-wilderness",
   "metadata": {
    "execution": {
     "iopub.execute_input": "2022-03-11T00:36:15.656950Z",
     "iopub.status.busy": "2022-03-11T00:36:15.656436Z",
     "iopub.status.idle": "2022-03-11T00:36:15.658205Z",
     "shell.execute_reply": "2022-03-11T00:36:15.658589Z"
    },
    "papermill": {
     "duration": 0.035348,
     "end_time": "2022-03-11T00:36:15.658711",
     "exception": false,
     "start_time": "2022-03-11T00:36:15.623363",
     "status": "completed"
    },
    "tags": []
   },
   "outputs": [],
   "source": [
    "#hide\n",
    "# cols = list(g.columns.values)"
   ]
  },
  {
   "cell_type": "code",
   "execution_count": 29,
   "id": "solved-farming",
   "metadata": {
    "execution": {
     "iopub.execute_input": "2022-03-11T00:36:15.723734Z",
     "iopub.status.busy": "2022-03-11T00:36:15.723028Z",
     "iopub.status.idle": "2022-03-11T00:36:15.726469Z",
     "shell.execute_reply": "2022-03-11T00:36:15.726033Z"
    },
    "papermill": {
     "duration": 0.036777,
     "end_time": "2022-03-11T00:36:15.726576",
     "exception": false,
     "start_time": "2022-03-11T00:36:15.689799",
     "status": "completed"
    },
    "tags": []
   },
   "outputs": [],
   "source": [
    "#hide\n",
    "# cols.insert(0, cols.pop())"
   ]
  },
  {
   "cell_type": "code",
   "execution_count": 30,
   "id": "executed-adoption",
   "metadata": {
    "execution": {
     "iopub.execute_input": "2022-03-11T00:36:15.791910Z",
     "iopub.status.busy": "2022-03-11T00:36:15.791297Z",
     "iopub.status.idle": "2022-03-11T00:36:15.795285Z",
     "shell.execute_reply": "2022-03-11T00:36:15.794786Z"
    },
    "papermill": {
     "duration": 0.038132,
     "end_time": "2022-03-11T00:36:15.795414",
     "exception": false,
     "start_time": "2022-03-11T00:36:15.757282",
     "status": "completed"
    },
    "tags": []
   },
   "outputs": [],
   "source": [
    "#hide\n",
    "# g = g[cols]"
   ]
  },
  {
   "cell_type": "code",
   "execution_count": 31,
   "id": "subject-dublin",
   "metadata": {
    "execution": {
     "iopub.execute_input": "2022-03-11T00:36:15.860008Z",
     "iopub.status.busy": "2022-03-11T00:36:15.859418Z",
     "iopub.status.idle": "2022-03-11T00:36:15.861489Z",
     "shell.execute_reply": "2022-03-11T00:36:15.860922Z"
    },
    "papermill": {
     "duration": 0.03563,
     "end_time": "2022-03-11T00:36:15.861607",
     "exception": false,
     "start_time": "2022-03-11T00:36:15.825977",
     "status": "completed"
    },
    "tags": []
   },
   "outputs": [],
   "source": [
    "#hide\n",
    "# g['continent'] = g['continent'].map(mapping['map.continent'])"
   ]
  },
  {
   "cell_type": "code",
   "execution_count": 32,
   "id": "freelance-scout",
   "metadata": {
    "execution": {
     "iopub.execute_input": "2022-03-11T00:36:15.927409Z",
     "iopub.status.busy": "2022-03-11T00:36:15.926808Z",
     "iopub.status.idle": "2022-03-11T00:36:15.930542Z",
     "shell.execute_reply": "2022-03-11T00:36:15.930133Z"
    },
    "papermill": {
     "duration": 0.037483,
     "end_time": "2022-03-11T00:36:15.930651",
     "exception": false,
     "start_time": "2022-03-11T00:36:15.893168",
     "status": "completed"
    },
    "tags": []
   },
   "outputs": [],
   "source": [
    "#hide\n",
    "# g.head()"
   ]
  },
  {
   "cell_type": "code",
   "execution_count": 33,
   "id": "limited-engine",
   "metadata": {
    "execution": {
     "iopub.execute_input": "2022-03-11T00:36:15.994627Z",
     "iopub.status.busy": "2022-03-11T00:36:15.994031Z",
     "iopub.status.idle": "2022-03-11T00:36:15.995847Z",
     "shell.execute_reply": "2022-03-11T00:36:15.995283Z"
    },
    "papermill": {
     "duration": 0.035068,
     "end_time": "2022-03-11T00:36:15.995964",
     "exception": false,
     "start_time": "2022-03-11T00:36:15.960896",
     "status": "completed"
    },
    "tags": []
   },
   "outputs": [],
   "source": [
    "# hide\n",
    "# g['date'] = g['date'].astype('datetime64[ns]')"
   ]
  },
  {
   "cell_type": "code",
   "execution_count": 34,
   "id": "sophisticated-supervisor",
   "metadata": {
    "execution": {
     "iopub.execute_input": "2022-03-11T00:36:16.061259Z",
     "iopub.status.busy": "2022-03-11T00:36:16.060678Z",
     "iopub.status.idle": "2022-03-11T00:36:16.063810Z",
     "shell.execute_reply": "2022-03-11T00:36:16.064195Z"
    },
    "papermill": {
     "duration": 0.037269,
     "end_time": "2022-03-11T00:36:16.064320",
     "exception": false,
     "start_time": "2022-03-11T00:36:16.027051",
     "status": "completed"
    },
    "tags": []
   },
   "outputs": [],
   "source": [
    "#hide\n",
    "# g['date'] = g.date.dt.dayofyear"
   ]
  },
  {
   "cell_type": "code",
   "execution_count": 35,
   "id": "inside-dubai",
   "metadata": {
    "execution": {
     "iopub.execute_input": "2022-03-11T00:36:16.128520Z",
     "iopub.status.busy": "2022-03-11T00:36:16.127915Z",
     "iopub.status.idle": "2022-03-11T00:36:16.129945Z",
     "shell.execute_reply": "2022-03-11T00:36:16.129348Z"
    },
    "papermill": {
     "duration": 0.035595,
     "end_time": "2022-03-11T00:36:16.130072",
     "exception": false,
     "start_time": "2022-03-11T00:36:16.094477",
     "status": "completed"
    },
    "tags": []
   },
   "outputs": [],
   "source": [
    "#hide\n",
    "# g = g.rename(columns= {'continent':'group','country':'name','cases':'value'})"
   ]
  },
  {
   "cell_type": "code",
   "execution_count": 36,
   "id": "fleet-motorcycle",
   "metadata": {
    "execution": {
     "iopub.execute_input": "2022-03-11T00:36:16.195170Z",
     "iopub.status.busy": "2022-03-11T00:36:16.194568Z",
     "iopub.status.idle": "2022-03-11T00:36:16.196468Z",
     "shell.execute_reply": "2022-03-11T00:36:16.195902Z"
    },
    "papermill": {
     "duration": 0.035729,
     "end_time": "2022-03-11T00:36:16.196587",
     "exception": false,
     "start_time": "2022-03-11T00:36:16.160858",
     "status": "completed"
    },
    "tags": []
   },
   "outputs": [],
   "source": [
    "#hide\n",
    "# cols = ['name','group','day','value']"
   ]
  },
  {
   "cell_type": "code",
   "execution_count": 37,
   "id": "continued-sleeping",
   "metadata": {
    "execution": {
     "iopub.execute_input": "2022-03-11T00:36:16.262196Z",
     "iopub.status.busy": "2022-03-11T00:36:16.261551Z",
     "iopub.status.idle": "2022-03-11T00:36:16.263572Z",
     "shell.execute_reply": "2022-03-11T00:36:16.262997Z"
    },
    "papermill": {
     "duration": 0.035821,
     "end_time": "2022-03-11T00:36:16.263693",
     "exception": false,
     "start_time": "2022-03-11T00:36:16.227872",
     "status": "completed"
    },
    "tags": []
   },
   "outputs": [],
   "source": [
    "#hide\n",
    "# g.rename(columns= {'date':'day'},inplace = True)"
   ]
  },
  {
   "cell_type": "code",
   "execution_count": 38,
   "id": "major-fight",
   "metadata": {
    "execution": {
     "iopub.execute_input": "2022-03-11T00:36:16.328373Z",
     "iopub.status.busy": "2022-03-11T00:36:16.327765Z",
     "iopub.status.idle": "2022-03-11T00:36:16.331161Z",
     "shell.execute_reply": "2022-03-11T00:36:16.331607Z"
    },
    "papermill": {
     "duration": 0.037395,
     "end_time": "2022-03-11T00:36:16.331751",
     "exception": false,
     "start_time": "2022-03-11T00:36:16.294356",
     "status": "completed"
    },
    "tags": []
   },
   "outputs": [],
   "source": [
    "#hide\n",
    "# g = g[cols]"
   ]
  },
  {
   "cell_type": "code",
   "execution_count": 39,
   "id": "structured-mobile",
   "metadata": {
    "execution": {
     "iopub.execute_input": "2022-03-11T00:36:16.397191Z",
     "iopub.status.busy": "2022-03-11T00:36:16.396654Z",
     "iopub.status.idle": "2022-03-11T00:36:16.398636Z",
     "shell.execute_reply": "2022-03-11T00:36:16.398134Z"
    },
    "papermill": {
     "duration": 0.036006,
     "end_time": "2022-03-11T00:36:16.398745",
     "exception": false,
     "start_time": "2022-03-11T00:36:16.362739",
     "status": "completed"
    },
    "tags": []
   },
   "outputs": [],
   "source": [
    "# #hide\n",
    "# g = g[g.group.notna()]"
   ]
  },
  {
   "cell_type": "code",
   "execution_count": 40,
   "id": "determined-closing",
   "metadata": {
    "execution": {
     "iopub.execute_input": "2022-03-11T00:36:16.464216Z",
     "iopub.status.busy": "2022-03-11T00:36:16.463686Z",
     "iopub.status.idle": "2022-03-11T00:36:16.465514Z",
     "shell.execute_reply": "2022-03-11T00:36:16.465944Z"
    },
    "papermill": {
     "duration": 0.036647,
     "end_time": "2022-03-11T00:36:16.466073",
     "exception": false,
     "start_time": "2022-03-11T00:36:16.429426",
     "status": "completed"
    },
    "tags": []
   },
   "outputs": [],
   "source": [
    "# #hide\n",
    "# colors = dict(zip(\n",
    "#     [\"Oceania\", \"Europe\", \"Asia\", \"South America\", \"Middle East\", \"North America\", \"Africa\"],\n",
    "#     [\"#adb0ff\", \"#ffb3ff\", \"#90d595\", \"#e48381\", \"#aafbff\", \"#f7bb5f\", \"#eafb50\"]\n",
    "# ))\n",
    "# group_lk = g.set_index('name')['group'].to_dict()"
   ]
  },
  {
   "cell_type": "code",
   "execution_count": null,
   "id": "gross-drinking",
   "metadata": {
    "papermill": {
     "duration": 0.030494,
     "end_time": "2022-03-11T00:36:16.526946",
     "exception": false,
     "start_time": "2022-03-11T00:36:16.496452",
     "status": "completed"
    },
    "tags": []
   },
   "outputs": [],
   "source": []
  },
  {
   "cell_type": "code",
   "execution_count": 41,
   "id": "subject-macintosh",
   "metadata": {
    "execution": {
     "iopub.execute_input": "2022-03-11T00:36:16.594679Z",
     "iopub.status.busy": "2022-03-11T00:36:16.594057Z",
     "iopub.status.idle": "2022-03-11T00:36:16.596039Z",
     "shell.execute_reply": "2022-03-11T00:36:16.595458Z"
    },
    "papermill": {
     "duration": 0.036425,
     "end_time": "2022-03-11T00:36:16.596163",
     "exception": false,
     "start_time": "2022-03-11T00:36:16.559738",
     "status": "completed"
    },
    "tags": []
   },
   "outputs": [],
   "source": [
    "# #hide\n",
    "# fig, ax = plt.subplots(figsize=(15, 8))\n",
    "\n",
    "# def draw_barchart(current_day):\n",
    "#     dff = g[g['day'].eq(current_day)].sort_values(by='value', ascending=True).tail(10)\n",
    "#     ax.clear()\n",
    "#     ax.barh(dff['name'], dff['value'], color=[colors[group_lk[x]] for x in dff['name']])\n",
    "#     dx = dff['value'].max() / 200\n",
    "    \n",
    "#     for i, (value, name) in enumerate(zip(dff['value'], dff['name'])):\n",
    "#         ax.text(value-dx, i,     name,           size=14, weight=600, ha='right', va='bottom')\n",
    "#         ax.text(value-dx, i-.25, group_lk[name], size=10, color='#444444', ha='right', va='baseline')\n",
    "#         ax.text(value+dx, i,     f'{value:,.0f}',  size=14, ha='left',  va='center')\n",
    "#     ax.text(1, 0.4, current_day, transform=ax.transAxes, color='#777777', size=46, ha='right', weight=800)\n",
    "#     ax.text(0, 1.06, 'Population (thousands)', transform=ax.transAxes, size=12, color='#777777')\n",
    "#     ax.xaxis.set_major_formatter(ticker.StrMethodFormatter('{x:,.0f}'))\n",
    "#     ax.xaxis.set_ticks_position('top')\n",
    "#     ax.tick_params(axis='x', colors='#777777', labelsize=12)\n",
    "#     ax.set_yticks([])\n",
    "#     ax.margins(0, 0.01)\n",
    "#     ax.grid(which='major', axis='x', linestyle='-')\n",
    "#     ax.set_axisbelow(True)\n",
    "    \n",
    "#     ax.text(0, 1.15, 'Coronavirus',\n",
    "#             transform=ax.transAxes, size=24, weight=600, ha='left', va='top')\n",
    "# #     ax.text(1, 0, 'by @pratapvardhan; credit @jburnmurdoch', transform=ax.transAxes, color='#777777', ha='right',\n",
    "# #             bbox=dict(facecolor='white', alpha=0.8, edgecolor='white'))\n",
    "#     plt.box(False)"
   ]
  },
  {
   "cell_type": "code",
   "execution_count": 42,
   "id": "sexual-wages",
   "metadata": {
    "execution": {
     "iopub.execute_input": "2022-03-11T00:36:16.661769Z",
     "iopub.status.busy": "2022-03-11T00:36:16.661192Z",
     "iopub.status.idle": "2022-03-11T00:36:16.664026Z",
     "shell.execute_reply": "2022-03-11T00:36:16.664406Z"
    },
    "papermill": {
     "duration": 0.037235,
     "end_time": "2022-03-11T00:36:16.664533",
     "exception": false,
     "start_time": "2022-03-11T00:36:16.627298",
     "status": "completed"
    },
    "tags": []
   },
   "outputs": [],
   "source": [
    "# #hide_input\n",
    "# fig, ax = plt.subplots(figsize=(15, 8))\n",
    "# animator = animation.FuncAnimation(fig, draw_barchart, frames=range(g.day.values.min(), g.day.values.max()))\n",
    "# HTML(animator.to_jshtml())\n",
    "# # or use animator.to_html5_video() or animator.save() "
   ]
  },
  {
   "cell_type": "code",
   "execution_count": null,
   "id": "australian-container",
   "metadata": {
    "papermill": {
     "duration": 0.030388,
     "end_time": "2022-03-11T00:36:16.725515",
     "exception": false,
     "start_time": "2022-03-11T00:36:16.695127",
     "status": "completed"
    },
    "tags": []
   },
   "outputs": [],
   "source": []
  },
  {
   "cell_type": "code",
   "execution_count": null,
   "id": "mediterranean-pontiac",
   "metadata": {
    "papermill": {
     "duration": 0.030321,
     "end_time": "2022-03-11T00:36:16.786246",
     "exception": false,
     "start_time": "2022-03-11T00:36:16.755925",
     "status": "completed"
    },
    "tags": []
   },
   "outputs": [],
   "source": []
  },
  {
   "cell_type": "code",
   "execution_count": null,
   "id": "aging-legislature",
   "metadata": {
    "papermill": {
     "duration": 0.030539,
     "end_time": "2022-03-11T00:36:16.847348",
     "exception": false,
     "start_time": "2022-03-11T00:36:16.816809",
     "status": "completed"
    },
    "tags": []
   },
   "outputs": [],
   "source": []
  }
 ],
 "metadata": {
  "kernelspec": {
   "display_name": "Python 3",
   "language": "python",
   "name": "python3"
  },
  "language_info": {
   "codemirror_mode": {
    "name": "ipython",
    "version": 3
   },
   "file_extension": ".py",
   "mimetype": "text/x-python",
   "name": "python",
   "nbconvert_exporter": "python",
   "pygments_lexer": "ipython3",
   "version": "3.6.15"
  },
  "papermill": {
   "duration": 6.0399,
   "end_time": "2022-03-11T00:36:17.195022",
   "environment_variables": {},
   "exception": null,
   "input_path": "2020-03-21-covid19exp.ipynb",
   "output_path": "2020-03-21-covid19exp.ipynb",
   "parameters": {},
   "start_time": "2022-03-11T00:36:11.155122",
   "version": "2.0.0"
  }
 },
 "nbformat": 4,
 "nbformat_minor": 5
}