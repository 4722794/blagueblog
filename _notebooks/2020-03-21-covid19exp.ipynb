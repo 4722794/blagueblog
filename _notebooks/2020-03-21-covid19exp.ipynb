{
 "cells": [
  {
   "cell_type": "markdown",
   "id": "muslim-click",
   "metadata": {
    "papermill": {
     "duration": 0.042746,
     "end_time": "2021-11-27T12:11:53.446892",
     "exception": false,
     "start_time": "2021-11-27T12:11:53.404146",
     "status": "completed"
    },
    "tags": []
   },
   "source": [
    "# COVID-19 Case Race\n",
    "> A race chart to see rising cases around the world\n",
    "\n",
    "- author: Hargun Oberoi\n",
    "- image: images/covid-overview.png\n",
    "- hide: false\n",
    "- badges: false"
   ]
  },
  {
   "cell_type": "code",
   "execution_count": 1,
   "id": "proof-material",
   "metadata": {
    "execution": {
     "iopub.execute_input": "2021-11-27T12:11:53.531435Z",
     "iopub.status.busy": "2021-11-27T12:11:53.530783Z",
     "iopub.status.idle": "2021-11-27T12:11:53.949203Z",
     "shell.execute_reply": "2021-11-27T12:11:53.948064Z"
    },
    "papermill": {
     "duration": 0.467093,
     "end_time": "2021-11-27T12:11:53.949369",
     "exception": false,
     "start_time": "2021-11-27T12:11:53.482276",
     "status": "completed"
    },
    "tags": []
   },
   "outputs": [],
   "source": [
    "#hide\n",
    "import numpy as np\n",
    "import pandas as pd\n",
    "from jinja2 import Template\n",
    "from IPython.display import HTML"
   ]
  },
  {
   "cell_type": "code",
   "execution_count": 2,
   "id": "developed-terminology",
   "metadata": {
    "execution": {
     "iopub.execute_input": "2021-11-27T12:11:54.027249Z",
     "iopub.status.busy": "2021-11-27T12:11:54.026614Z",
     "iopub.status.idle": "2021-11-27T12:11:54.029083Z",
     "shell.execute_reply": "2021-11-27T12:11:54.028597Z"
    },
    "papermill": {
     "duration": 0.04154,
     "end_time": "2021-11-27T12:11:54.029207",
     "exception": false,
     "start_time": "2021-11-27T12:11:53.987667",
     "status": "completed"
    },
    "tags": []
   },
   "outputs": [],
   "source": [
    "#hide\n",
    "\n",
    "# FETCH\n",
    "base_url = 'https://raw.githubusercontent.com/pratapvardhan/notebooks/master/covid19/'\n",
    "paths = {\n",
    "    'mapping': base_url + 'mapping_countries.csv',\n",
    "    'overview': base_url + 'overview.tpl'\n",
    "}"
   ]
  },
  {
   "cell_type": "code",
   "execution_count": 3,
   "id": "dynamic-saver",
   "metadata": {
    "execution": {
     "iopub.execute_input": "2021-11-27T12:11:54.108575Z",
     "iopub.status.busy": "2021-11-27T12:11:54.107963Z",
     "iopub.status.idle": "2021-11-27T12:11:54.111231Z",
     "shell.execute_reply": "2021-11-27T12:11:54.110720Z"
    },
    "papermill": {
     "duration": 0.049189,
     "end_time": "2021-11-27T12:11:54.111348",
     "exception": false,
     "start_time": "2021-11-27T12:11:54.062159",
     "status": "completed"
    },
    "tags": []
   },
   "outputs": [
    {
     "data": {
      "text/plain": [
       "'https://raw.githubusercontent.com/pratapvardhan/notebooks/master/covid19/mapping_countries.csv'"
      ]
     },
     "execution_count": 3,
     "metadata": {},
     "output_type": "execute_result"
    }
   ],
   "source": [
    "#hide\n",
    "paths['mapping']"
   ]
  },
  {
   "cell_type": "code",
   "execution_count": 4,
   "id": "urban-software",
   "metadata": {
    "execution": {
     "iopub.execute_input": "2021-11-27T12:11:54.185652Z",
     "iopub.status.busy": "2021-11-27T12:11:54.185047Z",
     "iopub.status.idle": "2021-11-27T12:11:54.187601Z",
     "shell.execute_reply": "2021-11-27T12:11:54.187084Z"
    },
    "papermill": {
     "duration": 0.043086,
     "end_time": "2021-11-27T12:11:54.187716",
     "exception": false,
     "start_time": "2021-11-27T12:11:54.144630",
     "status": "completed"
    },
    "tags": []
   },
   "outputs": [],
   "source": [
    "#hide\n",
    "def get_mappings(url):\n",
    "    df = pd.read_csv(url)\n",
    "    return {\n",
    "        'df': df,\n",
    "        'replace.country': dict(df.dropna(subset=['Name']).set_index('Country')['Name']),\n",
    "        'map.continent': dict(df.set_index('Name')['Continent'])\n",
    "    }"
   ]
  },
  {
   "cell_type": "code",
   "execution_count": 5,
   "id": "intimate-machinery",
   "metadata": {
    "execution": {
     "iopub.execute_input": "2021-11-27T12:11:54.261947Z",
     "iopub.status.busy": "2021-11-27T12:11:54.261355Z",
     "iopub.status.idle": "2021-11-27T12:11:54.296050Z",
     "shell.execute_reply": "2021-11-27T12:11:54.295531Z"
    },
    "papermill": {
     "duration": 0.075345,
     "end_time": "2021-11-27T12:11:54.296174",
     "exception": false,
     "start_time": "2021-11-27T12:11:54.220829",
     "status": "completed"
    },
    "tags": []
   },
   "outputs": [],
   "source": [
    "#hide\n",
    "mapping = get_mappings(paths['mapping'])"
   ]
  },
  {
   "cell_type": "code",
   "execution_count": 6,
   "id": "certified-tactics",
   "metadata": {
    "execution": {
     "iopub.execute_input": "2021-11-27T12:11:54.369555Z",
     "iopub.status.busy": "2021-11-27T12:11:54.368941Z",
     "iopub.status.idle": "2021-11-27T12:11:54.371271Z",
     "shell.execute_reply": "2021-11-27T12:11:54.370666Z"
    },
    "papermill": {
     "duration": 0.041748,
     "end_time": "2021-11-27T12:11:54.371389",
     "exception": false,
     "start_time": "2021-11-27T12:11:54.329641",
     "status": "completed"
    },
    "tags": []
   },
   "outputs": [],
   "source": [
    "#hide\n",
    "def get_template(path):\n",
    "    from urllib.parse import urlparse\n",
    "    if bool(urlparse(path).netloc):\n",
    "        from urllib.request import urlopen\n",
    "        return urlopen(path).read().decode('utf8')\n",
    "    return open(path).read()"
   ]
  },
  {
   "cell_type": "code",
   "execution_count": 7,
   "id": "realistic-blast",
   "metadata": {
    "execution": {
     "iopub.execute_input": "2021-11-27T12:11:54.450033Z",
     "iopub.status.busy": "2021-11-27T12:11:54.449416Z",
     "iopub.status.idle": "2021-11-27T12:11:54.452778Z",
     "shell.execute_reply": "2021-11-27T12:11:54.452246Z"
    },
    "papermill": {
     "duration": 0.045748,
     "end_time": "2021-11-27T12:11:54.452905",
     "exception": false,
     "start_time": "2021-11-27T12:11:54.407157",
     "status": "completed"
    },
    "tags": []
   },
   "outputs": [],
   "source": [
    "#hide\n",
    "def get_frame(name):\n",
    "    url = (\n",
    "        'https://raw.githubusercontent.com/CSSEGISandData/COVID-19/master/csse_covid_19_data/'\n",
    "        f'csse_covid_19_time_series/time_series_covid19_{name}_global.csv')\n",
    "    df = pd.read_csv(url)\n",
    "    # rename countries\n",
    "    df['Country/Region'] = df['Country/Region'].replace(mapping['replace.country'])\n",
    "    return df"
   ]
  },
  {
   "cell_type": "code",
   "execution_count": 8,
   "id": "affiliated-characterization",
   "metadata": {
    "execution": {
     "iopub.execute_input": "2021-11-27T12:11:54.532763Z",
     "iopub.status.busy": "2021-11-27T12:11:54.532142Z",
     "iopub.status.idle": "2021-11-27T12:11:54.535984Z",
     "shell.execute_reply": "2021-11-27T12:11:54.535390Z"
    },
    "papermill": {
     "duration": 0.048816,
     "end_time": "2021-11-27T12:11:54.536105",
     "exception": false,
     "start_time": "2021-11-27T12:11:54.487289",
     "status": "completed"
    },
    "tags": []
   },
   "outputs": [],
   "source": [
    "#hide\n",
    "def get_dates(df):\n",
    "    dt_cols = df.columns[~df.columns.isin(['Province/State', 'Country/Region', 'Lat', 'Long'])]\n",
    "    LAST_DATE_I = -1\n",
    "    # sometimes last column may be empty, then go backwards\n",
    "    for i in range(-1, -len(dt_cols), -1):\n",
    "        if not df[dt_cols[i]].fillna(0).eq(0).all():\n",
    "            LAST_DATE_I = i\n",
    "            break\n",
    "    return LAST_DATE_I, dt_cols"
   ]
  },
  {
   "cell_type": "code",
   "execution_count": 9,
   "id": "recent-optimization",
   "metadata": {
    "execution": {
     "iopub.execute_input": "2021-11-27T12:11:54.609044Z",
     "iopub.status.busy": "2021-11-27T12:11:54.608443Z",
     "iopub.status.idle": "2021-11-27T12:11:54.939498Z",
     "shell.execute_reply": "2021-11-27T12:11:54.938028Z"
    },
    "papermill": {
     "duration": 0.370377,
     "end_time": "2021-11-27T12:11:54.939647",
     "exception": false,
     "start_time": "2021-11-27T12:11:54.569270",
     "status": "completed"
    },
    "tags": []
   },
   "outputs": [],
   "source": [
    "#hide\n",
    "COL_REGION = 'Country/Region'\n",
    "# Confirmed, Recovered, Deaths\n",
    "df = get_frame('confirmed')\n",
    "# dft_: timeseries, dfc_: today country agg\n",
    "dft_cases = df\n",
    "dft_deaths = get_frame('deaths')\n",
    "dft_recovered = get_frame('recovered')\n",
    "LAST_DATE_I, dt_cols = get_dates(df)"
   ]
  },
  {
   "cell_type": "code",
   "execution_count": 10,
   "id": "absolute-copper",
   "metadata": {
    "execution": {
     "iopub.execute_input": "2021-11-27T12:11:55.013026Z",
     "iopub.status.busy": "2021-11-27T12:11:55.011916Z",
     "iopub.status.idle": "2021-11-27T12:11:55.015003Z",
     "shell.execute_reply": "2021-11-27T12:11:55.015484Z"
    },
    "papermill": {
     "duration": 0.04249,
     "end_time": "2021-11-27T12:11:55.015627",
     "exception": false,
     "start_time": "2021-11-27T12:11:54.973137",
     "status": "completed"
    },
    "tags": []
   },
   "outputs": [],
   "source": [
    "#hide\n",
    "LAST_DATE_I, dt_cols = get_dates(df)\n",
    "dt_today =dt_cols[LAST_DATE_I]\n",
    "# dt_5day = dt_cols[LAST_DATE_I - 5]\n",
    "dt_yday = dt_cols[LAST_DATE_I - 1]"
   ]
  },
  {
   "cell_type": "code",
   "execution_count": 11,
   "id": "restricted-sheriff",
   "metadata": {
    "execution": {
     "iopub.execute_input": "2021-11-27T12:11:55.089877Z",
     "iopub.status.busy": "2021-11-27T12:11:55.089279Z",
     "iopub.status.idle": "2021-11-27T12:11:55.097153Z",
     "shell.execute_reply": "2021-11-27T12:11:55.097661Z"
    },
    "papermill": {
     "duration": 0.04909,
     "end_time": "2021-11-27T12:11:55.097803",
     "exception": false,
     "start_time": "2021-11-27T12:11:55.048713",
     "status": "completed"
    },
    "tags": []
   },
   "outputs": [],
   "source": [
    "#hide\n",
    "dfc_cases = dft_cases.groupby(COL_REGION)[dt_today].sum()\n",
    "dfc_deaths = dft_deaths.groupby(COL_REGION)[dt_today].sum()\n",
    "# dfp_cases = dft_cases.groupby(COL_REGION)[dt_5day].sum()\n",
    "# dfp_deaths = dft_deaths.groupby(COL_REGION)[dt_5day].sum()\n",
    "dfp_cases = dft_cases.groupby(COL_REGION)[dt_yday].sum()\n",
    "dfp_deaths = dft_deaths.groupby(COL_REGION)[dt_yday].sum()"
   ]
  },
  {
   "cell_type": "code",
   "execution_count": 12,
   "id": "deluxe-hepatitis",
   "metadata": {
    "execution": {
     "iopub.execute_input": "2021-11-27T12:11:55.172568Z",
     "iopub.status.busy": "2021-11-27T12:11:55.171970Z",
     "iopub.status.idle": "2021-11-27T12:11:55.175986Z",
     "shell.execute_reply": "2021-11-27T12:11:55.176539Z"
    },
    "papermill": {
     "duration": 0.045484,
     "end_time": "2021-11-27T12:11:55.176678",
     "exception": false,
     "start_time": "2021-11-27T12:11:55.131194",
     "status": "completed"
    },
    "tags": []
   },
   "outputs": [],
   "source": [
    "#hide\n",
    "df_table = (pd.DataFrame(dict(Cases = dfc_cases, Deaths = dfc_deaths, PCases = dfp_cases, PDeaths = dfp_deaths))\n",
    "            .sort_values(by = ['Cases','Deaths'], ascending = [False, False])\n",
    "            .reset_index())"
   ]
  },
  {
   "cell_type": "code",
   "execution_count": 13,
   "id": "educational-chancellor",
   "metadata": {
    "execution": {
     "iopub.execute_input": "2021-11-27T12:11:55.264019Z",
     "iopub.status.busy": "2021-11-27T12:11:55.263413Z",
     "iopub.status.idle": "2021-11-27T12:11:55.273054Z",
     "shell.execute_reply": "2021-11-27T12:11:55.272567Z"
    },
    "papermill": {
     "duration": 0.063496,
     "end_time": "2021-11-27T12:11:55.273177",
     "exception": false,
     "start_time": "2021-11-27T12:11:55.209681",
     "status": "completed"
    },
    "tags": []
   },
   "outputs": [
    {
     "data": {
      "text/html": [
       "<div>\n",
       "<style scoped>\n",
       "    .dataframe tbody tr th:only-of-type {\n",
       "        vertical-align: middle;\n",
       "    }\n",
       "\n",
       "    .dataframe tbody tr th {\n",
       "        vertical-align: top;\n",
       "    }\n",
       "\n",
       "    .dataframe thead th {\n",
       "        text-align: right;\n",
       "    }\n",
       "</style>\n",
       "<table border=\"1\" class=\"dataframe\">\n",
       "  <thead>\n",
       "    <tr style=\"text-align: right;\">\n",
       "      <th></th>\n",
       "      <th>Country/Region</th>\n",
       "      <th>Cases</th>\n",
       "      <th>Deaths</th>\n",
       "      <th>PCases</th>\n",
       "      <th>PDeaths</th>\n",
       "      <th>Cases (+)</th>\n",
       "      <th>Deaths (+)</th>\n",
       "      <th>Fatality Rate</th>\n",
       "      <th>Continent</th>\n",
       "    </tr>\n",
       "  </thead>\n",
       "  <tbody>\n",
       "    <tr>\n",
       "      <th>0</th>\n",
       "      <td>US</td>\n",
       "      <td>48177907</td>\n",
       "      <td>776349</td>\n",
       "      <td>48126574</td>\n",
       "      <td>775797</td>\n",
       "      <td>51333</td>\n",
       "      <td>552</td>\n",
       "      <td>1.61</td>\n",
       "      <td>North America</td>\n",
       "    </tr>\n",
       "    <tr>\n",
       "      <th>1</th>\n",
       "      <td>India</td>\n",
       "      <td>34563749</td>\n",
       "      <td>467933</td>\n",
       "      <td>34555431</td>\n",
       "      <td>467468</td>\n",
       "      <td>8318</td>\n",
       "      <td>465</td>\n",
       "      <td>1.35</td>\n",
       "      <td>Asia</td>\n",
       "    </tr>\n",
       "    <tr>\n",
       "      <th>2</th>\n",
       "      <td>Brazil</td>\n",
       "      <td>22067630</td>\n",
       "      <td>613957</td>\n",
       "      <td>22055238</td>\n",
       "      <td>613642</td>\n",
       "      <td>12392</td>\n",
       "      <td>315</td>\n",
       "      <td>2.78</td>\n",
       "      <td>South America</td>\n",
       "    </tr>\n",
       "    <tr>\n",
       "      <th>3</th>\n",
       "      <td>United Kingdom</td>\n",
       "      <td>10125945</td>\n",
       "      <td>145036</td>\n",
       "      <td>10076116</td>\n",
       "      <td>144876</td>\n",
       "      <td>49829</td>\n",
       "      <td>160</td>\n",
       "      <td>1.43</td>\n",
       "      <td>Europe</td>\n",
       "    </tr>\n",
       "    <tr>\n",
       "      <th>4</th>\n",
       "      <td>Russia</td>\n",
       "      <td>9337575</td>\n",
       "      <td>265134</td>\n",
       "      <td>9303751</td>\n",
       "      <td>263934</td>\n",
       "      <td>33824</td>\n",
       "      <td>1200</td>\n",
       "      <td>2.84</td>\n",
       "      <td>Europe</td>\n",
       "    </tr>\n",
       "  </tbody>\n",
       "</table>\n",
       "</div>"
      ],
      "text/plain": [
       "   Country/Region     Cases  Deaths    PCases  PDeaths  Cases (+)  Deaths (+)  \\\n",
       "0              US  48177907  776349  48126574   775797      51333         552   \n",
       "1           India  34563749  467933  34555431   467468       8318         465   \n",
       "2          Brazil  22067630  613957  22055238   613642      12392         315   \n",
       "3  United Kingdom  10125945  145036  10076116   144876      49829         160   \n",
       "4          Russia   9337575  265134   9303751   263934      33824        1200   \n",
       "\n",
       "   Fatality Rate      Continent  \n",
       "0           1.61  North America  \n",
       "1           1.35           Asia  \n",
       "2           2.78  South America  \n",
       "3           1.43         Europe  \n",
       "4           2.84         Europe  "
      ]
     },
     "execution_count": 13,
     "metadata": {},
     "output_type": "execute_result"
    }
   ],
   "source": [
    "#hide\n",
    "for c in 'Cases, Deaths'.split(', '):\n",
    "    df_table[f'{c} (+)'] = (df_table[c] - df_table[f'P{c}']).clip(0)\n",
    "    #Clip ça veut dire, les chiffres negatif sont interdit\n",
    "df_table['Fatality Rate'] = (100* df_table['Deaths']/ df_table['Cases']).round(2)\n",
    "df_table['Continent'] = df_table['Country/Region'].map(mapping['map.continent'])\n",
    "df_table.head(5)"
   ]
  },
  {
   "cell_type": "code",
   "execution_count": 14,
   "id": "aboriginal-bulgaria",
   "metadata": {
    "execution": {
     "iopub.execute_input": "2021-11-27T12:11:55.349428Z",
     "iopub.status.busy": "2021-11-27T12:11:55.348831Z",
     "iopub.status.idle": "2021-11-27T12:11:55.351503Z",
     "shell.execute_reply": "2021-11-27T12:11:55.352075Z"
    },
    "papermill": {
     "duration": 0.044993,
     "end_time": "2021-11-27T12:11:55.352214",
     "exception": false,
     "start_time": "2021-11-27T12:11:55.307221",
     "status": "completed"
    },
    "tags": []
   },
   "outputs": [],
   "source": [
    "#hide\n",
    "#delete problematic countries from table\n",
    "df_table = df_table[~df_table['Country/Region'].isin(['Cape Verde', 'Cruise Ship', 'Kosovo'])]"
   ]
  },
  {
   "cell_type": "code",
   "execution_count": 15,
   "id": "fantastic-effect",
   "metadata": {
    "execution": {
     "iopub.execute_input": "2021-11-27T12:11:55.427980Z",
     "iopub.status.busy": "2021-11-27T12:11:55.427387Z",
     "iopub.status.idle": "2021-11-27T12:11:55.448187Z",
     "shell.execute_reply": "2021-11-27T12:11:55.448801Z"
    },
    "papermill": {
     "duration": 0.06323,
     "end_time": "2021-11-27T12:11:55.448989",
     "exception": false,
     "start_time": "2021-11-27T12:11:55.385759",
     "status": "completed"
    },
    "tags": []
   },
   "outputs": [
    {
     "data": {
      "text/html": [
       "<div>\n",
       "<style scoped>\n",
       "    .dataframe tbody tr th:only-of-type {\n",
       "        vertical-align: middle;\n",
       "    }\n",
       "\n",
       "    .dataframe tbody tr th {\n",
       "        vertical-align: top;\n",
       "    }\n",
       "\n",
       "    .dataframe thead th {\n",
       "        text-align: right;\n",
       "    }\n",
       "</style>\n",
       "<table border=\"1\" class=\"dataframe\">\n",
       "  <thead>\n",
       "    <tr style=\"text-align: right;\">\n",
       "      <th></th>\n",
       "      <th>Country/Region</th>\n",
       "      <th>Cases</th>\n",
       "      <th>Deaths</th>\n",
       "      <th>PCases</th>\n",
       "      <th>PDeaths</th>\n",
       "      <th>Cases (+)</th>\n",
       "      <th>Deaths (+)</th>\n",
       "      <th>Fatality Rate</th>\n",
       "      <th>Continent</th>\n",
       "    </tr>\n",
       "  </thead>\n",
       "  <tbody>\n",
       "    <tr>\n",
       "      <th>0</th>\n",
       "      <td>US</td>\n",
       "      <td>48177907</td>\n",
       "      <td>776349</td>\n",
       "      <td>48126574</td>\n",
       "      <td>775797</td>\n",
       "      <td>51333</td>\n",
       "      <td>552</td>\n",
       "      <td>1.6</td>\n",
       "      <td>North America</td>\n",
       "    </tr>\n",
       "    <tr>\n",
       "      <th>1</th>\n",
       "      <td>India</td>\n",
       "      <td>34563749</td>\n",
       "      <td>467933</td>\n",
       "      <td>34555431</td>\n",
       "      <td>467468</td>\n",
       "      <td>8318</td>\n",
       "      <td>465</td>\n",
       "      <td>1.4</td>\n",
       "      <td>Asia</td>\n",
       "    </tr>\n",
       "    <tr>\n",
       "      <th>2</th>\n",
       "      <td>Brazil</td>\n",
       "      <td>22067630</td>\n",
       "      <td>613957</td>\n",
       "      <td>22055238</td>\n",
       "      <td>613642</td>\n",
       "      <td>12392</td>\n",
       "      <td>315</td>\n",
       "      <td>2.8</td>\n",
       "      <td>South America</td>\n",
       "    </tr>\n",
       "    <tr>\n",
       "      <th>3</th>\n",
       "      <td>United Kingdom</td>\n",
       "      <td>10125945</td>\n",
       "      <td>145036</td>\n",
       "      <td>10076116</td>\n",
       "      <td>144876</td>\n",
       "      <td>49829</td>\n",
       "      <td>160</td>\n",
       "      <td>1.4</td>\n",
       "      <td>Europe</td>\n",
       "    </tr>\n",
       "    <tr>\n",
       "      <th>4</th>\n",
       "      <td>Russia</td>\n",
       "      <td>9337575</td>\n",
       "      <td>265134</td>\n",
       "      <td>9303751</td>\n",
       "      <td>263934</td>\n",
       "      <td>33824</td>\n",
       "      <td>1200</td>\n",
       "      <td>2.8</td>\n",
       "      <td>Europe</td>\n",
       "    </tr>\n",
       "  </tbody>\n",
       "</table>\n",
       "</div>"
      ],
      "text/plain": [
       "   Country/Region     Cases  Deaths    PCases  PDeaths  Cases (+)  Deaths (+)  \\\n",
       "0              US  48177907  776349  48126574   775797      51333         552   \n",
       "1           India  34563749  467933  34555431   467468       8318         465   \n",
       "2          Brazil  22067630  613957  22055238   613642      12392         315   \n",
       "3  United Kingdom  10125945  145036  10076116   144876      49829         160   \n",
       "4          Russia   9337575  265134   9303751   263934      33824        1200   \n",
       "\n",
       "   Fatality Rate      Continent  \n",
       "0            1.6  North America  \n",
       "1            1.4           Asia  \n",
       "2            2.8  South America  \n",
       "3            1.4         Europe  \n",
       "4            2.8         Europe  "
      ]
     },
     "execution_count": 15,
     "metadata": {},
     "output_type": "execute_result"
    }
   ],
   "source": [
    "#hide\n",
    "df_table = (pd.DataFrame(dict(Cases=dfc_cases, Deaths=dfc_deaths, PCases=dfp_cases, PDeaths=dfp_deaths))\n",
    "             .sort_values(by=['Cases', 'Deaths'], ascending=[False, False])\n",
    "             .reset_index())\n",
    "df_table.rename(columns={'index': 'Country/Region'}, inplace=True)\n",
    "for c in 'Cases, Deaths'.split(', '):\n",
    "    df_table[f'{c} (+)'] = (df_table[c] - df_table[f'P{c}']).clip(0)  # DATA BUG\n",
    "df_table['Fatality Rate'] = (100 * df_table['Deaths'] / df_table['Cases']).round(1)\n",
    "df_table['Continent'] = df_table['Country/Region'].map(mapping['map.continent'])\n",
    "df_table.head(5)"
   ]
  },
  {
   "cell_type": "code",
   "execution_count": 16,
   "id": "fewer-occasion",
   "metadata": {
    "execution": {
     "iopub.execute_input": "2021-11-27T12:11:55.526785Z",
     "iopub.status.busy": "2021-11-27T12:11:55.526138Z",
     "iopub.status.idle": "2021-11-27T12:11:55.528429Z",
     "shell.execute_reply": "2021-11-27T12:11:55.527833Z"
    },
    "papermill": {
     "duration": 0.043979,
     "end_time": "2021-11-27T12:11:55.528549",
     "exception": false,
     "start_time": "2021-11-27T12:11:55.484570",
     "status": "completed"
    },
    "tags": []
   },
   "outputs": [],
   "source": [
    "#hide\n",
    "#delete problematic countries from table\n",
    "df_table = df_table[~df_table['Country/Region'].isin(['Cape Verde', 'Cruise Ship', 'Kosovo'])]"
   ]
  },
  {
   "cell_type": "code",
   "execution_count": 17,
   "id": "related-center",
   "metadata": {
    "execution": {
     "iopub.execute_input": "2021-11-27T12:11:55.623128Z",
     "iopub.status.busy": "2021-11-27T12:11:55.622453Z",
     "iopub.status.idle": "2021-11-27T12:11:55.624726Z",
     "shell.execute_reply": "2021-11-27T12:11:55.625464Z"
    },
    "papermill": {
     "duration": 0.062053,
     "end_time": "2021-11-27T12:11:55.625610",
     "exception": false,
     "start_time": "2021-11-27T12:11:55.563557",
     "status": "completed"
    },
    "tags": []
   },
   "outputs": [],
   "source": [
    "#hide\n",
    "metrics = [df_table.columns[index] for index in [1,2,5,6]]\n",
    "# s_china = df_table[df_table['Country/Region'].eq('China')][metrics].sum().add_prefix('China ')\n",
    "s_us = df_table[df_table['Country/Region'].eq('US')][metrics].sum().add_prefix('US ')\n",
    "s_eu = df_table[df_table['Continent'].eq('Europe')][metrics].sum().add_prefix('EU ')\n",
    "s_ind = df_table[df_table['Country/Region'].eq('India')][metrics].sum().add_prefix('India ')\n",
    "summary = {'updated': pd.to_datetime(dt_today), 'since': pd.to_datetime(dt_yday)}\n",
    "summary = {'updated': pd.to_datetime(dt_today), 'since': pd.to_datetime(dt_yday)}\n",
    "summary = {**summary, **df_table[metrics].sum(), **s_ind, **s_us, **s_eu}"
   ]
  },
  {
   "cell_type": "code",
   "execution_count": 18,
   "id": "engaging-syndrome",
   "metadata": {
    "execution": {
     "iopub.execute_input": "2021-11-27T12:11:55.709719Z",
     "iopub.status.busy": "2021-11-27T12:11:55.706124Z",
     "iopub.status.idle": "2021-11-27T12:11:55.724232Z",
     "shell.execute_reply": "2021-11-27T12:11:55.723682Z"
    },
    "papermill": {
     "duration": 0.06087,
     "end_time": "2021-11-27T12:11:55.724358",
     "exception": false,
     "start_time": "2021-11-27T12:11:55.663488",
     "status": "completed"
    },
    "tags": []
   },
   "outputs": [],
   "source": [
    "#hide\n",
    "dft_ct_new_cases = dft_cases.groupby(COL_REGION)[dt_cols].sum().diff(axis=1).fillna(0).astype(int)"
   ]
  },
  {
   "cell_type": "code",
   "execution_count": 19,
   "id": "neutral-assignment",
   "metadata": {
    "execution": {
     "iopub.execute_input": "2021-11-27T12:11:55.803654Z",
     "iopub.status.busy": "2021-11-27T12:11:55.803045Z",
     "iopub.status.idle": "2021-11-27T12:11:55.805397Z",
     "shell.execute_reply": "2021-11-27T12:11:55.804893Z"
    },
    "papermill": {
     "duration": 0.042988,
     "end_time": "2021-11-27T12:11:55.805514",
     "exception": false,
     "start_time": "2021-11-27T12:11:55.762526",
     "status": "completed"
    },
    "tags": []
   },
   "outputs": [],
   "source": [
    "#hide\n",
    "everydaycases = dft_ct_new_cases.cumsum(axis=1)"
   ]
  },
  {
   "cell_type": "code",
   "execution_count": 20,
   "id": "parliamentary-calgary",
   "metadata": {
    "execution": {
     "iopub.execute_input": "2021-11-27T12:11:55.880265Z",
     "iopub.status.busy": "2021-11-27T12:11:55.879667Z",
     "iopub.status.idle": "2021-11-27T12:11:56.637930Z",
     "shell.execute_reply": "2021-11-27T12:11:56.637030Z"
    },
    "papermill": {
     "duration": 0.798418,
     "end_time": "2021-11-27T12:11:56.638154",
     "exception": false,
     "start_time": "2021-11-27T12:11:55.839736",
     "status": "completed"
    },
    "tags": []
   },
   "outputs": [],
   "source": [
    "#hide\n",
    "import pandas as pd\n",
    "import matplotlib.pyplot as plt\n",
    "import matplotlib.ticker as ticker\n",
    "import matplotlib.animation as animation\n",
    "from IPython.display import HTML"
   ]
  },
  {
   "cell_type": "code",
   "execution_count": 21,
   "id": "lasting-extraction",
   "metadata": {
    "execution": {
     "iopub.execute_input": "2021-11-27T12:11:56.713370Z",
     "iopub.status.busy": "2021-11-27T12:11:56.712760Z",
     "iopub.status.idle": "2021-11-27T12:11:56.719241Z",
     "shell.execute_reply": "2021-11-27T12:11:56.718786Z"
    },
    "papermill": {
     "duration": 0.046429,
     "end_time": "2021-11-27T12:11:56.719356",
     "exception": false,
     "start_time": "2021-11-27T12:11:56.672927",
     "status": "completed"
    },
    "tags": []
   },
   "outputs": [],
   "source": [
    "#hide\n",
    "t = everydaycases.stack()"
   ]
  },
  {
   "cell_type": "code",
   "execution_count": 22,
   "id": "premier-sleeve",
   "metadata": {
    "execution": {
     "iopub.execute_input": "2021-11-27T12:11:56.793387Z",
     "iopub.status.busy": "2021-11-27T12:11:56.792787Z",
     "iopub.status.idle": "2021-11-27T12:11:56.807314Z",
     "shell.execute_reply": "2021-11-27T12:11:56.806831Z"
    },
    "papermill": {
     "duration": 0.053903,
     "end_time": "2021-11-27T12:11:56.807439",
     "exception": false,
     "start_time": "2021-11-27T12:11:56.753536",
     "status": "completed"
    },
    "tags": []
   },
   "outputs": [],
   "source": [
    "#hide\n",
    "g = t.reset_index(['Country/Region'])"
   ]
  },
  {
   "cell_type": "code",
   "execution_count": 23,
   "id": "distributed-pittsburgh",
   "metadata": {
    "execution": {
     "iopub.execute_input": "2021-11-27T12:11:56.881950Z",
     "iopub.status.busy": "2021-11-27T12:11:56.880905Z",
     "iopub.status.idle": "2021-11-27T12:11:56.884984Z",
     "shell.execute_reply": "2021-11-27T12:11:56.885432Z"
    },
    "papermill": {
     "duration": 0.044248,
     "end_time": "2021-11-27T12:11:56.885576",
     "exception": false,
     "start_time": "2021-11-27T12:11:56.841328",
     "status": "completed"
    },
    "tags": []
   },
   "outputs": [],
   "source": [
    "#hide\n",
    "g.index.name = 'date'"
   ]
  },
  {
   "cell_type": "code",
   "execution_count": 24,
   "id": "naked-donor",
   "metadata": {
    "execution": {
     "iopub.execute_input": "2021-11-27T12:11:56.961443Z",
     "iopub.status.busy": "2021-11-27T12:11:56.960737Z",
     "iopub.status.idle": "2021-11-27T12:11:56.963535Z",
     "shell.execute_reply": "2021-11-27T12:11:56.964091Z"
    },
    "papermill": {
     "duration": 0.04351,
     "end_time": "2021-11-27T12:11:56.964234",
     "exception": false,
     "start_time": "2021-11-27T12:11:56.920724",
     "status": "completed"
    },
    "tags": []
   },
   "outputs": [],
   "source": [
    "# #hide\n",
    "# g = g.reset_index(['date'])"
   ]
  },
  {
   "cell_type": "code",
   "execution_count": 25,
   "id": "incomplete-mustang",
   "metadata": {
    "execution": {
     "iopub.execute_input": "2021-11-27T12:11:57.038156Z",
     "iopub.status.busy": "2021-11-27T12:11:57.037550Z",
     "iopub.status.idle": "2021-11-27T12:11:57.041470Z",
     "shell.execute_reply": "2021-11-27T12:11:57.040966Z"
    },
    "papermill": {
     "duration": 0.042089,
     "end_time": "2021-11-27T12:11:57.041587",
     "exception": false,
     "start_time": "2021-11-27T12:11:56.999498",
     "status": "completed"
    },
    "tags": []
   },
   "outputs": [],
   "source": [
    "#hide\n",
    "# g.head()"
   ]
  },
  {
   "cell_type": "code",
   "execution_count": 26,
   "id": "specific-kruger",
   "metadata": {
    "execution": {
     "iopub.execute_input": "2021-11-27T12:11:57.114599Z",
     "iopub.status.busy": "2021-11-27T12:11:57.113981Z",
     "iopub.status.idle": "2021-11-27T12:11:57.116829Z",
     "shell.execute_reply": "2021-11-27T12:11:57.117397Z"
    },
    "papermill": {
     "duration": 0.041858,
     "end_time": "2021-11-27T12:11:57.117535",
     "exception": false,
     "start_time": "2021-11-27T12:11:57.075677",
     "status": "completed"
    },
    "tags": []
   },
   "outputs": [],
   "source": [
    "#hide\n",
    "# g.columns = ['date','country','cases']"
   ]
  },
  {
   "cell_type": "code",
   "execution_count": 27,
   "id": "tender-conversion",
   "metadata": {
    "execution": {
     "iopub.execute_input": "2021-11-27T12:11:57.188649Z",
     "iopub.status.busy": "2021-11-27T12:11:57.188057Z",
     "iopub.status.idle": "2021-11-27T12:11:57.190398Z",
     "shell.execute_reply": "2021-11-27T12:11:57.189897Z"
    },
    "papermill": {
     "duration": 0.039272,
     "end_time": "2021-11-27T12:11:57.190511",
     "exception": false,
     "start_time": "2021-11-27T12:11:57.151239",
     "status": "completed"
    },
    "tags": []
   },
   "outputs": [],
   "source": [
    "#hide\n",
    "# g['continent'] = g.country"
   ]
  },
  {
   "cell_type": "code",
   "execution_count": 28,
   "id": "substantial-wilderness",
   "metadata": {
    "execution": {
     "iopub.execute_input": "2021-11-27T12:11:57.268965Z",
     "iopub.status.busy": "2021-11-27T12:11:57.268347Z",
     "iopub.status.idle": "2021-11-27T12:11:57.272503Z",
     "shell.execute_reply": "2021-11-27T12:11:57.272022Z"
    },
    "papermill": {
     "duration": 0.046247,
     "end_time": "2021-11-27T12:11:57.272624",
     "exception": false,
     "start_time": "2021-11-27T12:11:57.226377",
     "status": "completed"
    },
    "tags": []
   },
   "outputs": [],
   "source": [
    "#hide\n",
    "# cols = list(g.columns.values)"
   ]
  },
  {
   "cell_type": "code",
   "execution_count": 29,
   "id": "solved-farming",
   "metadata": {
    "execution": {
     "iopub.execute_input": "2021-11-27T12:11:57.346041Z",
     "iopub.status.busy": "2021-11-27T12:11:57.345109Z",
     "iopub.status.idle": "2021-11-27T12:11:57.347689Z",
     "shell.execute_reply": "2021-11-27T12:11:57.348660Z"
    },
    "papermill": {
     "duration": 0.042292,
     "end_time": "2021-11-27T12:11:57.348878",
     "exception": false,
     "start_time": "2021-11-27T12:11:57.306586",
     "status": "completed"
    },
    "tags": []
   },
   "outputs": [],
   "source": [
    "#hide\n",
    "# cols.insert(0, cols.pop())"
   ]
  },
  {
   "cell_type": "code",
   "execution_count": 30,
   "id": "executed-adoption",
   "metadata": {
    "execution": {
     "iopub.execute_input": "2021-11-27T12:11:57.427245Z",
     "iopub.status.busy": "2021-11-27T12:11:57.426039Z",
     "iopub.status.idle": "2021-11-27T12:11:57.430931Z",
     "shell.execute_reply": "2021-11-27T12:11:57.429912Z"
    },
    "papermill": {
     "duration": 0.044707,
     "end_time": "2021-11-27T12:11:57.431071",
     "exception": false,
     "start_time": "2021-11-27T12:11:57.386364",
     "status": "completed"
    },
    "tags": []
   },
   "outputs": [],
   "source": [
    "#hide\n",
    "# g = g[cols]"
   ]
  },
  {
   "cell_type": "code",
   "execution_count": 31,
   "id": "subject-dublin",
   "metadata": {
    "execution": {
     "iopub.execute_input": "2021-11-27T12:11:57.504847Z",
     "iopub.status.busy": "2021-11-27T12:11:57.504210Z",
     "iopub.status.idle": "2021-11-27T12:11:57.507872Z",
     "shell.execute_reply": "2021-11-27T12:11:57.508323Z"
    },
    "papermill": {
     "duration": 0.041747,
     "end_time": "2021-11-27T12:11:57.508471",
     "exception": false,
     "start_time": "2021-11-27T12:11:57.466724",
     "status": "completed"
    },
    "tags": []
   },
   "outputs": [],
   "source": [
    "#hide\n",
    "# g['continent'] = g['continent'].map(mapping['map.continent'])"
   ]
  },
  {
   "cell_type": "code",
   "execution_count": 32,
   "id": "freelance-scout",
   "metadata": {
    "execution": {
     "iopub.execute_input": "2021-11-27T12:11:57.582289Z",
     "iopub.status.busy": "2021-11-27T12:11:57.581435Z",
     "iopub.status.idle": "2021-11-27T12:11:57.583724Z",
     "shell.execute_reply": "2021-11-27T12:11:57.583237Z"
    },
    "papermill": {
     "duration": 0.041003,
     "end_time": "2021-11-27T12:11:57.583855",
     "exception": false,
     "start_time": "2021-11-27T12:11:57.542852",
     "status": "completed"
    },
    "tags": []
   },
   "outputs": [],
   "source": [
    "#hide\n",
    "# g.head()"
   ]
  },
  {
   "cell_type": "code",
   "execution_count": 33,
   "id": "limited-engine",
   "metadata": {
    "execution": {
     "iopub.execute_input": "2021-11-27T12:11:57.656602Z",
     "iopub.status.busy": "2021-11-27T12:11:57.656004Z",
     "iopub.status.idle": "2021-11-27T12:11:57.658085Z",
     "shell.execute_reply": "2021-11-27T12:11:57.658530Z"
    },
    "papermill": {
     "duration": 0.040627,
     "end_time": "2021-11-27T12:11:57.658700",
     "exception": false,
     "start_time": "2021-11-27T12:11:57.618073",
     "status": "completed"
    },
    "tags": []
   },
   "outputs": [],
   "source": [
    "# hide\n",
    "# g['date'] = g['date'].astype('datetime64[ns]')"
   ]
  },
  {
   "cell_type": "code",
   "execution_count": 34,
   "id": "sophisticated-supervisor",
   "metadata": {
    "execution": {
     "iopub.execute_input": "2021-11-27T12:11:57.732363Z",
     "iopub.status.busy": "2021-11-27T12:11:57.731381Z",
     "iopub.status.idle": "2021-11-27T12:11:57.736660Z",
     "shell.execute_reply": "2021-11-27T12:11:57.736067Z"
    },
    "papermill": {
     "duration": 0.043867,
     "end_time": "2021-11-27T12:11:57.736779",
     "exception": false,
     "start_time": "2021-11-27T12:11:57.692912",
     "status": "completed"
    },
    "tags": []
   },
   "outputs": [],
   "source": [
    "#hide\n",
    "# g['date'] = g.date.dt.dayofyear"
   ]
  },
  {
   "cell_type": "code",
   "execution_count": 35,
   "id": "inside-dubai",
   "metadata": {
    "execution": {
     "iopub.execute_input": "2021-11-27T12:11:57.814158Z",
     "iopub.status.busy": "2021-11-27T12:11:57.813556Z",
     "iopub.status.idle": "2021-11-27T12:11:57.816433Z",
     "shell.execute_reply": "2021-11-27T12:11:57.816912Z"
    },
    "papermill": {
     "duration": 0.044368,
     "end_time": "2021-11-27T12:11:57.817056",
     "exception": false,
     "start_time": "2021-11-27T12:11:57.772688",
     "status": "completed"
    },
    "tags": []
   },
   "outputs": [],
   "source": [
    "#hide\n",
    "# g = g.rename(columns= {'continent':'group','country':'name','cases':'value'})"
   ]
  },
  {
   "cell_type": "code",
   "execution_count": 36,
   "id": "fleet-motorcycle",
   "metadata": {
    "execution": {
     "iopub.execute_input": "2021-11-27T12:11:57.897375Z",
     "iopub.status.busy": "2021-11-27T12:11:57.896310Z",
     "iopub.status.idle": "2021-11-27T12:11:57.901046Z",
     "shell.execute_reply": "2021-11-27T12:11:57.900559Z"
    },
    "papermill": {
     "duration": 0.046765,
     "end_time": "2021-11-27T12:11:57.901172",
     "exception": false,
     "start_time": "2021-11-27T12:11:57.854407",
     "status": "completed"
    },
    "tags": []
   },
   "outputs": [],
   "source": [
    "#hide\n",
    "# cols = ['name','group','day','value']"
   ]
  },
  {
   "cell_type": "code",
   "execution_count": 37,
   "id": "continued-sleeping",
   "metadata": {
    "execution": {
     "iopub.execute_input": "2021-11-27T12:11:57.975355Z",
     "iopub.status.busy": "2021-11-27T12:11:57.974238Z",
     "iopub.status.idle": "2021-11-27T12:11:57.976454Z",
     "shell.execute_reply": "2021-11-27T12:11:57.977275Z"
    },
    "papermill": {
     "duration": 0.042228,
     "end_time": "2021-11-27T12:11:57.977499",
     "exception": false,
     "start_time": "2021-11-27T12:11:57.935271",
     "status": "completed"
    },
    "tags": []
   },
   "outputs": [],
   "source": [
    "#hide\n",
    "# g.rename(columns= {'date':'day'},inplace = True)"
   ]
  },
  {
   "cell_type": "code",
   "execution_count": 38,
   "id": "major-fight",
   "metadata": {
    "execution": {
     "iopub.execute_input": "2021-11-27T12:11:58.055047Z",
     "iopub.status.busy": "2021-11-27T12:11:58.054309Z",
     "iopub.status.idle": "2021-11-27T12:11:58.056462Z",
     "shell.execute_reply": "2021-11-27T12:11:58.055816Z"
    },
    "papermill": {
     "duration": 0.042055,
     "end_time": "2021-11-27T12:11:58.056585",
     "exception": false,
     "start_time": "2021-11-27T12:11:58.014530",
     "status": "completed"
    },
    "tags": []
   },
   "outputs": [],
   "source": [
    "#hide\n",
    "# g = g[cols]"
   ]
  },
  {
   "cell_type": "code",
   "execution_count": 39,
   "id": "structured-mobile",
   "metadata": {
    "execution": {
     "iopub.execute_input": "2021-11-27T12:11:58.134171Z",
     "iopub.status.busy": "2021-11-27T12:11:58.133571Z",
     "iopub.status.idle": "2021-11-27T12:11:58.137351Z",
     "shell.execute_reply": "2021-11-27T12:11:58.136761Z"
    },
    "papermill": {
     "duration": 0.044059,
     "end_time": "2021-11-27T12:11:58.137471",
     "exception": false,
     "start_time": "2021-11-27T12:11:58.093412",
     "status": "completed"
    },
    "tags": []
   },
   "outputs": [],
   "source": [
    "# #hide\n",
    "# g = g[g.group.notna()]"
   ]
  },
  {
   "cell_type": "code",
   "execution_count": 40,
   "id": "determined-closing",
   "metadata": {
    "execution": {
     "iopub.execute_input": "2021-11-27T12:11:58.216155Z",
     "iopub.status.busy": "2021-11-27T12:11:58.215526Z",
     "iopub.status.idle": "2021-11-27T12:11:58.217900Z",
     "shell.execute_reply": "2021-11-27T12:11:58.217392Z"
    },
    "papermill": {
     "duration": 0.044055,
     "end_time": "2021-11-27T12:11:58.218018",
     "exception": false,
     "start_time": "2021-11-27T12:11:58.173963",
     "status": "completed"
    },
    "tags": []
   },
   "outputs": [],
   "source": [
    "# #hide\n",
    "# colors = dict(zip(\n",
    "#     [\"Oceania\", \"Europe\", \"Asia\", \"South America\", \"Middle East\", \"North America\", \"Africa\"],\n",
    "#     [\"#adb0ff\", \"#ffb3ff\", \"#90d595\", \"#e48381\", \"#aafbff\", \"#f7bb5f\", \"#eafb50\"]\n",
    "# ))\n",
    "# group_lk = g.set_index('name')['group'].to_dict()"
   ]
  },
  {
   "cell_type": "code",
   "execution_count": null,
   "id": "gross-drinking",
   "metadata": {
    "papermill": {
     "duration": 0.033928,
     "end_time": "2021-11-27T12:11:58.285879",
     "exception": false,
     "start_time": "2021-11-27T12:11:58.251951",
     "status": "completed"
    },
    "tags": []
   },
   "outputs": [],
   "source": []
  },
  {
   "cell_type": "code",
   "execution_count": 41,
   "id": "subject-macintosh",
   "metadata": {
    "execution": {
     "iopub.execute_input": "2021-11-27T12:11:58.359331Z",
     "iopub.status.busy": "2021-11-27T12:11:58.358687Z",
     "iopub.status.idle": "2021-11-27T12:11:58.360650Z",
     "shell.execute_reply": "2021-11-27T12:11:58.361154Z"
    },
    "papermill": {
     "duration": 0.041333,
     "end_time": "2021-11-27T12:11:58.361302",
     "exception": false,
     "start_time": "2021-11-27T12:11:58.319969",
     "status": "completed"
    },
    "tags": []
   },
   "outputs": [],
   "source": [
    "# #hide\n",
    "# fig, ax = plt.subplots(figsize=(15, 8))\n",
    "\n",
    "# def draw_barchart(current_day):\n",
    "#     dff = g[g['day'].eq(current_day)].sort_values(by='value', ascending=True).tail(10)\n",
    "#     ax.clear()\n",
    "#     ax.barh(dff['name'], dff['value'], color=[colors[group_lk[x]] for x in dff['name']])\n",
    "#     dx = dff['value'].max() / 200\n",
    "    \n",
    "#     for i, (value, name) in enumerate(zip(dff['value'], dff['name'])):\n",
    "#         ax.text(value-dx, i,     name,           size=14, weight=600, ha='right', va='bottom')\n",
    "#         ax.text(value-dx, i-.25, group_lk[name], size=10, color='#444444', ha='right', va='baseline')\n",
    "#         ax.text(value+dx, i,     f'{value:,.0f}',  size=14, ha='left',  va='center')\n",
    "#     ax.text(1, 0.4, current_day, transform=ax.transAxes, color='#777777', size=46, ha='right', weight=800)\n",
    "#     ax.text(0, 1.06, 'Population (thousands)', transform=ax.transAxes, size=12, color='#777777')\n",
    "#     ax.xaxis.set_major_formatter(ticker.StrMethodFormatter('{x:,.0f}'))\n",
    "#     ax.xaxis.set_ticks_position('top')\n",
    "#     ax.tick_params(axis='x', colors='#777777', labelsize=12)\n",
    "#     ax.set_yticks([])\n",
    "#     ax.margins(0, 0.01)\n",
    "#     ax.grid(which='major', axis='x', linestyle='-')\n",
    "#     ax.set_axisbelow(True)\n",
    "    \n",
    "#     ax.text(0, 1.15, 'Coronavirus',\n",
    "#             transform=ax.transAxes, size=24, weight=600, ha='left', va='top')\n",
    "# #     ax.text(1, 0, 'by @pratapvardhan; credit @jburnmurdoch', transform=ax.transAxes, color='#777777', ha='right',\n",
    "# #             bbox=dict(facecolor='white', alpha=0.8, edgecolor='white'))\n",
    "#     plt.box(False)"
   ]
  },
  {
   "cell_type": "code",
   "execution_count": 42,
   "id": "sexual-wages",
   "metadata": {
    "execution": {
     "iopub.execute_input": "2021-11-27T12:11:58.433953Z",
     "iopub.status.busy": "2021-11-27T12:11:58.433357Z",
     "iopub.status.idle": "2021-11-27T12:11:58.435650Z",
     "shell.execute_reply": "2021-11-27T12:11:58.435146Z"
    },
    "papermill": {
     "duration": 0.040173,
     "end_time": "2021-11-27T12:11:58.435767",
     "exception": false,
     "start_time": "2021-11-27T12:11:58.395594",
     "status": "completed"
    },
    "tags": []
   },
   "outputs": [],
   "source": [
    "# #hide_input\n",
    "# fig, ax = plt.subplots(figsize=(15, 8))\n",
    "# animator = animation.FuncAnimation(fig, draw_barchart, frames=range(g.day.values.min(), g.day.values.max()))\n",
    "# HTML(animator.to_jshtml())\n",
    "# # or use animator.to_html5_video() or animator.save() "
   ]
  },
  {
   "cell_type": "code",
   "execution_count": null,
   "id": "australian-container",
   "metadata": {
    "papermill": {
     "duration": 0.033667,
     "end_time": "2021-11-27T12:11:58.503787",
     "exception": false,
     "start_time": "2021-11-27T12:11:58.470120",
     "status": "completed"
    },
    "tags": []
   },
   "outputs": [],
   "source": []
  },
  {
   "cell_type": "code",
   "execution_count": null,
   "id": "mediterranean-pontiac",
   "metadata": {
    "papermill": {
     "duration": 0.033863,
     "end_time": "2021-11-27T12:11:58.571409",
     "exception": false,
     "start_time": "2021-11-27T12:11:58.537546",
     "status": "completed"
    },
    "tags": []
   },
   "outputs": [],
   "source": []
  },
  {
   "cell_type": "code",
   "execution_count": null,
   "id": "aging-legislature",
   "metadata": {
    "papermill": {
     "duration": 0.034038,
     "end_time": "2021-11-27T12:11:58.639618",
     "exception": false,
     "start_time": "2021-11-27T12:11:58.605580",
     "status": "completed"
    },
    "tags": []
   },
   "outputs": [],
   "source": []
  }
 ],
 "metadata": {
  "kernelspec": {
   "display_name": "Python 3",
   "language": "python",
   "name": "python3"
  },
  "language_info": {
   "codemirror_mode": {
    "name": "ipython",
    "version": 3
   },
   "file_extension": ".py",
   "mimetype": "text/x-python",
   "name": "python",
   "nbconvert_exporter": "python",
   "pygments_lexer": "ipython3",
   "version": "3.6.15"
  },
  "papermill": {
   "duration": 6.97396,
   "end_time": "2021-11-27T12:11:59.083674",
   "environment_variables": {},
   "exception": null,
   "input_path": "2020-03-21-covid19exp.ipynb",
   "output_path": "2020-03-21-covid19exp.ipynb",
   "parameters": {},
   "start_time": "2021-11-27T12:11:52.109714",
   "version": "2.0.0"
  }
 },
 "nbformat": 4,
 "nbformat_minor": 5
}