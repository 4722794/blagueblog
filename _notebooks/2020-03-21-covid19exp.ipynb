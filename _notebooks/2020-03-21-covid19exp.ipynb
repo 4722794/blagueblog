{
 "cells": [
  {
   "cell_type": "markdown",
   "id": "muslim-click",
   "metadata": {
    "papermill": {
     "duration": 0.036056,
     "end_time": "2021-04-09T00:06:54.924100",
     "exception": false,
     "start_time": "2021-04-09T00:06:54.888044",
     "status": "completed"
    },
    "tags": []
   },
   "source": [
    "# COVID-19 Case Race\n",
    "> A race chart to see rising cases around the world\n",
    "\n",
    "- author: Hargun Oberoi\n",
    "- image: images/covid-overview.png\n",
    "- hide: false\n",
    "- badges: false"
   ]
  },
  {
   "cell_type": "code",
   "execution_count": 1,
   "id": "proof-material",
   "metadata": {
    "execution": {
     "iopub.execute_input": "2021-04-09T00:06:54.994719Z",
     "iopub.status.busy": "2021-04-09T00:06:54.994171Z",
     "iopub.status.idle": "2021-04-09T00:06:55.316556Z",
     "shell.execute_reply": "2021-04-09T00:06:55.316001Z"
    },
    "papermill": {
     "duration": 0.362039,
     "end_time": "2021-04-09T00:06:55.316719",
     "exception": false,
     "start_time": "2021-04-09T00:06:54.954680",
     "status": "completed"
    },
    "tags": []
   },
   "outputs": [],
   "source": [
    "#hide\n",
    "import numpy as np\n",
    "import pandas as pd\n",
    "from jinja2 import Template\n",
    "from IPython.display import HTML"
   ]
  },
  {
   "cell_type": "code",
   "execution_count": 2,
   "id": "developed-terminology",
   "metadata": {
    "execution": {
     "iopub.execute_input": "2021-04-09T00:06:55.382440Z",
     "iopub.status.busy": "2021-04-09T00:06:55.381885Z",
     "iopub.status.idle": "2021-04-09T00:06:55.383939Z",
     "shell.execute_reply": "2021-04-09T00:06:55.383493Z"
    },
    "papermill": {
     "duration": 0.036635,
     "end_time": "2021-04-09T00:06:55.384063",
     "exception": false,
     "start_time": "2021-04-09T00:06:55.347428",
     "status": "completed"
    },
    "tags": []
   },
   "outputs": [],
   "source": [
    "#hide\n",
    "\n",
    "# FETCH\n",
    "base_url = 'https://raw.githubusercontent.com/pratapvardhan/notebooks/master/covid19/'\n",
    "paths = {\n",
    "    'mapping': base_url + 'mapping_countries.csv',\n",
    "    'overview': base_url + 'overview.tpl'\n",
    "}"
   ]
  },
  {
   "cell_type": "code",
   "execution_count": 3,
   "id": "dynamic-saver",
   "metadata": {
    "execution": {
     "iopub.execute_input": "2021-04-09T00:06:55.455063Z",
     "iopub.status.busy": "2021-04-09T00:06:55.454523Z",
     "iopub.status.idle": "2021-04-09T00:06:55.457381Z",
     "shell.execute_reply": "2021-04-09T00:06:55.456934Z"
    },
    "papermill": {
     "duration": 0.043407,
     "end_time": "2021-04-09T00:06:55.457498",
     "exception": false,
     "start_time": "2021-04-09T00:06:55.414091",
     "status": "completed"
    },
    "tags": []
   },
   "outputs": [
    {
     "data": {
      "text/plain": [
       "'https://raw.githubusercontent.com/pratapvardhan/notebooks/master/covid19/mapping_countries.csv'"
      ]
     },
     "execution_count": 3,
     "metadata": {},
     "output_type": "execute_result"
    }
   ],
   "source": [
    "#hide\n",
    "paths['mapping']"
   ]
  },
  {
   "cell_type": "code",
   "execution_count": 4,
   "id": "urban-software",
   "metadata": {
    "execution": {
     "iopub.execute_input": "2021-04-09T00:06:55.524144Z",
     "iopub.status.busy": "2021-04-09T00:06:55.523566Z",
     "iopub.status.idle": "2021-04-09T00:06:55.525194Z",
     "shell.execute_reply": "2021-04-09T00:06:55.525664Z"
    },
    "papermill": {
     "duration": 0.037889,
     "end_time": "2021-04-09T00:06:55.525803",
     "exception": false,
     "start_time": "2021-04-09T00:06:55.487914",
     "status": "completed"
    },
    "tags": []
   },
   "outputs": [],
   "source": [
    "#hide\n",
    "def get_mappings(url):\n",
    "    df = pd.read_csv(url)\n",
    "    return {\n",
    "        'df': df,\n",
    "        'replace.country': dict(df.dropna(subset=['Name']).set_index('Country')['Name']),\n",
    "        'map.continent': dict(df.set_index('Name')['Continent'])\n",
    "    }"
   ]
  },
  {
   "cell_type": "code",
   "execution_count": 5,
   "id": "intimate-machinery",
   "metadata": {
    "execution": {
     "iopub.execute_input": "2021-04-09T00:06:55.593880Z",
     "iopub.status.busy": "2021-04-09T00:06:55.593334Z",
     "iopub.status.idle": "2021-04-09T00:06:55.660183Z",
     "shell.execute_reply": "2021-04-09T00:06:55.659549Z"
    },
    "papermill": {
     "duration": 0.104335,
     "end_time": "2021-04-09T00:06:55.660346",
     "exception": false,
     "start_time": "2021-04-09T00:06:55.556011",
     "status": "completed"
    },
    "tags": []
   },
   "outputs": [],
   "source": [
    "#hide\n",
    "mapping = get_mappings(paths['mapping'])"
   ]
  },
  {
   "cell_type": "code",
   "execution_count": 6,
   "id": "certified-tactics",
   "metadata": {
    "execution": {
     "iopub.execute_input": "2021-04-09T00:06:55.727473Z",
     "iopub.status.busy": "2021-04-09T00:06:55.726919Z",
     "iopub.status.idle": "2021-04-09T00:06:55.729033Z",
     "shell.execute_reply": "2021-04-09T00:06:55.728588Z"
    },
    "papermill": {
     "duration": 0.037442,
     "end_time": "2021-04-09T00:06:55.729148",
     "exception": false,
     "start_time": "2021-04-09T00:06:55.691706",
     "status": "completed"
    },
    "tags": []
   },
   "outputs": [],
   "source": [
    "#hide\n",
    "def get_template(path):\n",
    "    from urllib.parse import urlparse\n",
    "    if bool(urlparse(path).netloc):\n",
    "        from urllib.request import urlopen\n",
    "        return urlopen(path).read().decode('utf8')\n",
    "    return open(path).read()"
   ]
  },
  {
   "cell_type": "code",
   "execution_count": 7,
   "id": "realistic-blast",
   "metadata": {
    "execution": {
     "iopub.execute_input": "2021-04-09T00:06:55.794747Z",
     "iopub.status.busy": "2021-04-09T00:06:55.794197Z",
     "iopub.status.idle": "2021-04-09T00:06:55.796478Z",
     "shell.execute_reply": "2021-04-09T00:06:55.796059Z"
    },
    "papermill": {
     "duration": 0.037199,
     "end_time": "2021-04-09T00:06:55.796595",
     "exception": false,
     "start_time": "2021-04-09T00:06:55.759396",
     "status": "completed"
    },
    "tags": []
   },
   "outputs": [],
   "source": [
    "#hide\n",
    "def get_frame(name):\n",
    "    url = (\n",
    "        'https://raw.githubusercontent.com/CSSEGISandData/COVID-19/master/csse_covid_19_data/'\n",
    "        f'csse_covid_19_time_series/time_series_covid19_{name}_global.csv')\n",
    "    df = pd.read_csv(url)\n",
    "    # rename countries\n",
    "    df['Country/Region'] = df['Country/Region'].replace(mapping['replace.country'])\n",
    "    return df"
   ]
  },
  {
   "cell_type": "code",
   "execution_count": 8,
   "id": "affiliated-characterization",
   "metadata": {
    "execution": {
     "iopub.execute_input": "2021-04-09T00:06:55.863858Z",
     "iopub.status.busy": "2021-04-09T00:06:55.863310Z",
     "iopub.status.idle": "2021-04-09T00:06:55.865148Z",
     "shell.execute_reply": "2021-04-09T00:06:55.865596Z"
    },
    "papermill": {
     "duration": 0.038733,
     "end_time": "2021-04-09T00:06:55.865737",
     "exception": false,
     "start_time": "2021-04-09T00:06:55.827004",
     "status": "completed"
    },
    "tags": []
   },
   "outputs": [],
   "source": [
    "#hide\n",
    "def get_dates(df):\n",
    "    dt_cols = df.columns[~df.columns.isin(['Province/State', 'Country/Region', 'Lat', 'Long'])]\n",
    "    LAST_DATE_I = -1\n",
    "    # sometimes last column may be empty, then go backwards\n",
    "    for i in range(-1, -len(dt_cols), -1):\n",
    "        if not df[dt_cols[i]].fillna(0).eq(0).all():\n",
    "            LAST_DATE_I = i\n",
    "            break\n",
    "    return LAST_DATE_I, dt_cols"
   ]
  },
  {
   "cell_type": "code",
   "execution_count": 9,
   "id": "recent-optimization",
   "metadata": {
    "execution": {
     "iopub.execute_input": "2021-04-09T00:06:55.931397Z",
     "iopub.status.busy": "2021-04-09T00:06:55.930830Z",
     "iopub.status.idle": "2021-04-09T00:06:56.406287Z",
     "shell.execute_reply": "2021-04-09T00:06:56.406740Z"
    },
    "papermill": {
     "duration": 0.511008,
     "end_time": "2021-04-09T00:06:56.406886",
     "exception": false,
     "start_time": "2021-04-09T00:06:55.895878",
     "status": "completed"
    },
    "tags": []
   },
   "outputs": [],
   "source": [
    "#hide\n",
    "COL_REGION = 'Country/Region'\n",
    "# Confirmed, Recovered, Deaths\n",
    "df = get_frame('confirmed')\n",
    "# dft_: timeseries, dfc_: today country agg\n",
    "dft_cases = df\n",
    "dft_deaths = get_frame('deaths')\n",
    "dft_recovered = get_frame('recovered')\n",
    "LAST_DATE_I, dt_cols = get_dates(df)"
   ]
  },
  {
   "cell_type": "code",
   "execution_count": 10,
   "id": "absolute-copper",
   "metadata": {
    "execution": {
     "iopub.execute_input": "2021-04-09T00:06:56.473355Z",
     "iopub.status.busy": "2021-04-09T00:06:56.472736Z",
     "iopub.status.idle": "2021-04-09T00:06:56.474267Z",
     "shell.execute_reply": "2021-04-09T00:06:56.474713Z"
    },
    "papermill": {
     "duration": 0.0376,
     "end_time": "2021-04-09T00:06:56.474865",
     "exception": false,
     "start_time": "2021-04-09T00:06:56.437265",
     "status": "completed"
    },
    "tags": []
   },
   "outputs": [],
   "source": [
    "#hide\n",
    "LAST_DATE_I, dt_cols = get_dates(df)\n",
    "dt_today =dt_cols[LAST_DATE_I]\n",
    "# dt_5day = dt_cols[LAST_DATE_I - 5]\n",
    "dt_yday = dt_cols[LAST_DATE_I - 1]"
   ]
  },
  {
   "cell_type": "code",
   "execution_count": 11,
   "id": "restricted-sheriff",
   "metadata": {
    "execution": {
     "iopub.execute_input": "2021-04-09T00:06:56.542037Z",
     "iopub.status.busy": "2021-04-09T00:06:56.541498Z",
     "iopub.status.idle": "2021-04-09T00:06:56.549827Z",
     "shell.execute_reply": "2021-04-09T00:06:56.549372Z"
    },
    "papermill": {
     "duration": 0.0448,
     "end_time": "2021-04-09T00:06:56.549953",
     "exception": false,
     "start_time": "2021-04-09T00:06:56.505153",
     "status": "completed"
    },
    "tags": []
   },
   "outputs": [],
   "source": [
    "#hide\n",
    "dfc_cases = dft_cases.groupby(COL_REGION)[dt_today].sum()\n",
    "dfc_deaths = dft_deaths.groupby(COL_REGION)[dt_today].sum()\n",
    "# dfp_cases = dft_cases.groupby(COL_REGION)[dt_5day].sum()\n",
    "# dfp_deaths = dft_deaths.groupby(COL_REGION)[dt_5day].sum()\n",
    "dfp_cases = dft_cases.groupby(COL_REGION)[dt_yday].sum()\n",
    "dfp_deaths = dft_deaths.groupby(COL_REGION)[dt_yday].sum()"
   ]
  },
  {
   "cell_type": "code",
   "execution_count": 12,
   "id": "deluxe-hepatitis",
   "metadata": {
    "execution": {
     "iopub.execute_input": "2021-04-09T00:06:56.619409Z",
     "iopub.status.busy": "2021-04-09T00:06:56.616685Z",
     "iopub.status.idle": "2021-04-09T00:06:56.621202Z",
     "shell.execute_reply": "2021-04-09T00:06:56.621697Z"
    },
    "papermill": {
     "duration": 0.041515,
     "end_time": "2021-04-09T00:06:56.621836",
     "exception": false,
     "start_time": "2021-04-09T00:06:56.580321",
     "status": "completed"
    },
    "tags": []
   },
   "outputs": [],
   "source": [
    "#hide\n",
    "df_table = (pd.DataFrame(dict(Cases = dfc_cases, Deaths = dfc_deaths, PCases = dfp_cases, PDeaths = dfp_deaths))\n",
    "            .sort_values(by = ['Cases','Deaths'], ascending = [False, False])\n",
    "            .reset_index())"
   ]
  },
  {
   "cell_type": "code",
   "execution_count": 13,
   "id": "educational-chancellor",
   "metadata": {
    "execution": {
     "iopub.execute_input": "2021-04-09T00:06:56.701109Z",
     "iopub.status.busy": "2021-04-09T00:06:56.700555Z",
     "iopub.status.idle": "2021-04-09T00:06:56.707804Z",
     "shell.execute_reply": "2021-04-09T00:06:56.708236Z"
    },
    "papermill": {
     "duration": 0.056342,
     "end_time": "2021-04-09T00:06:56.708376",
     "exception": false,
     "start_time": "2021-04-09T00:06:56.652034",
     "status": "completed"
    },
    "tags": []
   },
   "outputs": [
    {
     "data": {
      "text/html": [
       "<div>\n",
       "<style scoped>\n",
       "    .dataframe tbody tr th:only-of-type {\n",
       "        vertical-align: middle;\n",
       "    }\n",
       "\n",
       "    .dataframe tbody tr th {\n",
       "        vertical-align: top;\n",
       "    }\n",
       "\n",
       "    .dataframe thead th {\n",
       "        text-align: right;\n",
       "    }\n",
       "</style>\n",
       "<table border=\"1\" class=\"dataframe\">\n",
       "  <thead>\n",
       "    <tr style=\"text-align: right;\">\n",
       "      <th></th>\n",
       "      <th>Country/Region</th>\n",
       "      <th>Cases</th>\n",
       "      <th>Deaths</th>\n",
       "      <th>PCases</th>\n",
       "      <th>PDeaths</th>\n",
       "      <th>Cases (+)</th>\n",
       "      <th>Deaths (+)</th>\n",
       "      <th>Fatality Rate</th>\n",
       "      <th>Continent</th>\n",
       "    </tr>\n",
       "  </thead>\n",
       "  <tbody>\n",
       "    <tr>\n",
       "      <th>0</th>\n",
       "      <td>US</td>\n",
       "      <td>30922386</td>\n",
       "      <td>559116</td>\n",
       "      <td>30847348</td>\n",
       "      <td>556546</td>\n",
       "      <td>75038</td>\n",
       "      <td>2570</td>\n",
       "      <td>1.81</td>\n",
       "      <td>North America</td>\n",
       "    </tr>\n",
       "    <tr>\n",
       "      <th>1</th>\n",
       "      <td>Brazil</td>\n",
       "      <td>13193205</td>\n",
       "      <td>340776</td>\n",
       "      <td>13100580</td>\n",
       "      <td>336947</td>\n",
       "      <td>92625</td>\n",
       "      <td>3829</td>\n",
       "      <td>2.58</td>\n",
       "      <td>South America</td>\n",
       "    </tr>\n",
       "    <tr>\n",
       "      <th>2</th>\n",
       "      <td>India</td>\n",
       "      <td>12928574</td>\n",
       "      <td>166862</td>\n",
       "      <td>12801785</td>\n",
       "      <td>166177</td>\n",
       "      <td>126789</td>\n",
       "      <td>685</td>\n",
       "      <td>1.29</td>\n",
       "      <td>Asia</td>\n",
       "    </tr>\n",
       "    <tr>\n",
       "      <th>3</th>\n",
       "      <td>France</td>\n",
       "      <td>4902985</td>\n",
       "      <td>97444</td>\n",
       "      <td>4902025</td>\n",
       "      <td>97431</td>\n",
       "      <td>960</td>\n",
       "      <td>13</td>\n",
       "      <td>1.99</td>\n",
       "      <td>Europe</td>\n",
       "    </tr>\n",
       "    <tr>\n",
       "      <th>4</th>\n",
       "      <td>Russia</td>\n",
       "      <td>4554481</td>\n",
       "      <td>99800</td>\n",
       "      <td>4546307</td>\n",
       "      <td>99431</td>\n",
       "      <td>8174</td>\n",
       "      <td>369</td>\n",
       "      <td>2.19</td>\n",
       "      <td>Europe</td>\n",
       "    </tr>\n",
       "  </tbody>\n",
       "</table>\n",
       "</div>"
      ],
      "text/plain": [
       "  Country/Region     Cases  Deaths    PCases  PDeaths  Cases (+)  Deaths (+)  \\\n",
       "0             US  30922386  559116  30847348   556546      75038        2570   \n",
       "1         Brazil  13193205  340776  13100580   336947      92625        3829   \n",
       "2          India  12928574  166862  12801785   166177     126789         685   \n",
       "3         France   4902985   97444   4902025    97431        960          13   \n",
       "4         Russia   4554481   99800   4546307    99431       8174         369   \n",
       "\n",
       "   Fatality Rate      Continent  \n",
       "0           1.81  North America  \n",
       "1           2.58  South America  \n",
       "2           1.29           Asia  \n",
       "3           1.99         Europe  \n",
       "4           2.19         Europe  "
      ]
     },
     "execution_count": 13,
     "metadata": {},
     "output_type": "execute_result"
    }
   ],
   "source": [
    "#hide\n",
    "for c in 'Cases, Deaths'.split(', '):\n",
    "    df_table[f'{c} (+)'] = (df_table[c] - df_table[f'P{c}']).clip(0)\n",
    "    #Clip ça veut dire, les chiffres negatif sont interdit\n",
    "df_table['Fatality Rate'] = (100* df_table['Deaths']/ df_table['Cases']).round(2)\n",
    "df_table['Continent'] = df_table['Country/Region'].map(mapping['map.continent'])\n",
    "df_table.head(5)"
   ]
  },
  {
   "cell_type": "code",
   "execution_count": 14,
   "id": "aboriginal-bulgaria",
   "metadata": {
    "execution": {
     "iopub.execute_input": "2021-04-09T00:06:56.775463Z",
     "iopub.status.busy": "2021-04-09T00:06:56.774932Z",
     "iopub.status.idle": "2021-04-09T00:06:56.778412Z",
     "shell.execute_reply": "2021-04-09T00:06:56.777987Z"
    },
    "papermill": {
     "duration": 0.039279,
     "end_time": "2021-04-09T00:06:56.778533",
     "exception": false,
     "start_time": "2021-04-09T00:06:56.739254",
     "status": "completed"
    },
    "tags": []
   },
   "outputs": [],
   "source": [
    "#hide\n",
    "#delete problematic countries from table\n",
    "df_table = df_table[~df_table['Country/Region'].isin(['Cape Verde', 'Cruise Ship', 'Kosovo'])]"
   ]
  },
  {
   "cell_type": "code",
   "execution_count": 15,
   "id": "fantastic-effect",
   "metadata": {
    "execution": {
     "iopub.execute_input": "2021-04-09T00:06:56.847440Z",
     "iopub.status.busy": "2021-04-09T00:06:56.846813Z",
     "iopub.status.idle": "2021-04-09T00:06:56.864623Z",
     "shell.execute_reply": "2021-04-09T00:06:56.865111Z"
    },
    "papermill": {
     "duration": 0.056129,
     "end_time": "2021-04-09T00:06:56.865266",
     "exception": false,
     "start_time": "2021-04-09T00:06:56.809137",
     "status": "completed"
    },
    "tags": []
   },
   "outputs": [
    {
     "data": {
      "text/html": [
       "<div>\n",
       "<style scoped>\n",
       "    .dataframe tbody tr th:only-of-type {\n",
       "        vertical-align: middle;\n",
       "    }\n",
       "\n",
       "    .dataframe tbody tr th {\n",
       "        vertical-align: top;\n",
       "    }\n",
       "\n",
       "    .dataframe thead th {\n",
       "        text-align: right;\n",
       "    }\n",
       "</style>\n",
       "<table border=\"1\" class=\"dataframe\">\n",
       "  <thead>\n",
       "    <tr style=\"text-align: right;\">\n",
       "      <th></th>\n",
       "      <th>Country/Region</th>\n",
       "      <th>Cases</th>\n",
       "      <th>Deaths</th>\n",
       "      <th>PCases</th>\n",
       "      <th>PDeaths</th>\n",
       "      <th>Cases (+)</th>\n",
       "      <th>Deaths (+)</th>\n",
       "      <th>Fatality Rate</th>\n",
       "      <th>Continent</th>\n",
       "    </tr>\n",
       "  </thead>\n",
       "  <tbody>\n",
       "    <tr>\n",
       "      <th>0</th>\n",
       "      <td>US</td>\n",
       "      <td>30922386</td>\n",
       "      <td>559116</td>\n",
       "      <td>30847348</td>\n",
       "      <td>556546</td>\n",
       "      <td>75038</td>\n",
       "      <td>2570</td>\n",
       "      <td>1.8</td>\n",
       "      <td>North America</td>\n",
       "    </tr>\n",
       "    <tr>\n",
       "      <th>1</th>\n",
       "      <td>Brazil</td>\n",
       "      <td>13193205</td>\n",
       "      <td>340776</td>\n",
       "      <td>13100580</td>\n",
       "      <td>336947</td>\n",
       "      <td>92625</td>\n",
       "      <td>3829</td>\n",
       "      <td>2.6</td>\n",
       "      <td>South America</td>\n",
       "    </tr>\n",
       "    <tr>\n",
       "      <th>2</th>\n",
       "      <td>India</td>\n",
       "      <td>12928574</td>\n",
       "      <td>166862</td>\n",
       "      <td>12801785</td>\n",
       "      <td>166177</td>\n",
       "      <td>126789</td>\n",
       "      <td>685</td>\n",
       "      <td>1.3</td>\n",
       "      <td>Asia</td>\n",
       "    </tr>\n",
       "    <tr>\n",
       "      <th>3</th>\n",
       "      <td>France</td>\n",
       "      <td>4902985</td>\n",
       "      <td>97444</td>\n",
       "      <td>4902025</td>\n",
       "      <td>97431</td>\n",
       "      <td>960</td>\n",
       "      <td>13</td>\n",
       "      <td>2.0</td>\n",
       "      <td>Europe</td>\n",
       "    </tr>\n",
       "    <tr>\n",
       "      <th>4</th>\n",
       "      <td>Russia</td>\n",
       "      <td>4554481</td>\n",
       "      <td>99800</td>\n",
       "      <td>4546307</td>\n",
       "      <td>99431</td>\n",
       "      <td>8174</td>\n",
       "      <td>369</td>\n",
       "      <td>2.2</td>\n",
       "      <td>Europe</td>\n",
       "    </tr>\n",
       "  </tbody>\n",
       "</table>\n",
       "</div>"
      ],
      "text/plain": [
       "  Country/Region     Cases  Deaths    PCases  PDeaths  Cases (+)  Deaths (+)  \\\n",
       "0             US  30922386  559116  30847348   556546      75038        2570   \n",
       "1         Brazil  13193205  340776  13100580   336947      92625        3829   \n",
       "2          India  12928574  166862  12801785   166177     126789         685   \n",
       "3         France   4902985   97444   4902025    97431        960          13   \n",
       "4         Russia   4554481   99800   4546307    99431       8174         369   \n",
       "\n",
       "   Fatality Rate      Continent  \n",
       "0            1.8  North America  \n",
       "1            2.6  South America  \n",
       "2            1.3           Asia  \n",
       "3            2.0         Europe  \n",
       "4            2.2         Europe  "
      ]
     },
     "execution_count": 15,
     "metadata": {},
     "output_type": "execute_result"
    }
   ],
   "source": [
    "#hide\n",
    "df_table = (pd.DataFrame(dict(Cases=dfc_cases, Deaths=dfc_deaths, PCases=dfp_cases, PDeaths=dfp_deaths))\n",
    "             .sort_values(by=['Cases', 'Deaths'], ascending=[False, False])\n",
    "             .reset_index())\n",
    "df_table.rename(columns={'index': 'Country/Region'}, inplace=True)\n",
    "for c in 'Cases, Deaths'.split(', '):\n",
    "    df_table[f'{c} (+)'] = (df_table[c] - df_table[f'P{c}']).clip(0)  # DATA BUG\n",
    "df_table['Fatality Rate'] = (100 * df_table['Deaths'] / df_table['Cases']).round(1)\n",
    "df_table['Continent'] = df_table['Country/Region'].map(mapping['map.continent'])\n",
    "df_table.head(5)"
   ]
  },
  {
   "cell_type": "code",
   "execution_count": 16,
   "id": "fewer-occasion",
   "metadata": {
    "execution": {
     "iopub.execute_input": "2021-04-09T00:06:56.935109Z",
     "iopub.status.busy": "2021-04-09T00:06:56.934577Z",
     "iopub.status.idle": "2021-04-09T00:06:56.937053Z",
     "shell.execute_reply": "2021-04-09T00:06:56.936635Z"
    },
    "papermill": {
     "duration": 0.039747,
     "end_time": "2021-04-09T00:06:56.937173",
     "exception": false,
     "start_time": "2021-04-09T00:06:56.897426",
     "status": "completed"
    },
    "tags": []
   },
   "outputs": [],
   "source": [
    "#hide\n",
    "#delete problematic countries from table\n",
    "df_table = df_table[~df_table['Country/Region'].isin(['Cape Verde', 'Cruise Ship', 'Kosovo'])]"
   ]
  },
  {
   "cell_type": "code",
   "execution_count": 17,
   "id": "related-center",
   "metadata": {
    "execution": {
     "iopub.execute_input": "2021-04-09T00:06:57.006845Z",
     "iopub.status.busy": "2021-04-09T00:06:57.006300Z",
     "iopub.status.idle": "2021-04-09T00:06:57.019861Z",
     "shell.execute_reply": "2021-04-09T00:06:57.019400Z"
    },
    "papermill": {
     "duration": 0.051735,
     "end_time": "2021-04-09T00:06:57.019990",
     "exception": false,
     "start_time": "2021-04-09T00:06:56.968255",
     "status": "completed"
    },
    "tags": []
   },
   "outputs": [],
   "source": [
    "#hide\n",
    "metrics = [df_table.columns[index] for index in [1,2,5,6]]\n",
    "# s_china = df_table[df_table['Country/Region'].eq('China')][metrics].sum().add_prefix('China ')\n",
    "s_us = df_table[df_table['Country/Region'].eq('US')][metrics].sum().add_prefix('US ')\n",
    "s_eu = df_table[df_table['Continent'].eq('Europe')][metrics].sum().add_prefix('EU ')\n",
    "s_ind = df_table[df_table['Country/Region'].eq('India')][metrics].sum().add_prefix('India ')\n",
    "summary = {'updated': pd.to_datetime(dt_today), 'since': pd.to_datetime(dt_yday)}\n",
    "summary = {'updated': pd.to_datetime(dt_today), 'since': pd.to_datetime(dt_yday)}\n",
    "summary = {**summary, **df_table[metrics].sum(), **s_ind, **s_us, **s_eu}"
   ]
  },
  {
   "cell_type": "code",
   "execution_count": 18,
   "id": "engaging-syndrome",
   "metadata": {
    "execution": {
     "iopub.execute_input": "2021-04-09T00:06:57.088115Z",
     "iopub.status.busy": "2021-04-09T00:06:57.087547Z",
     "iopub.status.idle": "2021-04-09T00:06:57.099310Z",
     "shell.execute_reply": "2021-04-09T00:06:57.099734Z"
    },
    "papermill": {
     "duration": 0.048643,
     "end_time": "2021-04-09T00:06:57.099903",
     "exception": false,
     "start_time": "2021-04-09T00:06:57.051260",
     "status": "completed"
    },
    "tags": []
   },
   "outputs": [],
   "source": [
    "#hide\n",
    "dft_ct_new_cases = dft_cases.groupby(COL_REGION)[dt_cols].sum().diff(axis=1).fillna(0).astype(int)"
   ]
  },
  {
   "cell_type": "code",
   "execution_count": 19,
   "id": "neutral-assignment",
   "metadata": {
    "execution": {
     "iopub.execute_input": "2021-04-09T00:06:57.168866Z",
     "iopub.status.busy": "2021-04-09T00:06:57.168342Z",
     "iopub.status.idle": "2021-04-09T00:06:57.170422Z",
     "shell.execute_reply": "2021-04-09T00:06:57.170006Z"
    },
    "papermill": {
     "duration": 0.039329,
     "end_time": "2021-04-09T00:06:57.170537",
     "exception": false,
     "start_time": "2021-04-09T00:06:57.131208",
     "status": "completed"
    },
    "tags": []
   },
   "outputs": [],
   "source": [
    "#hide\n",
    "everydaycases = dft_ct_new_cases.cumsum(axis=1)"
   ]
  },
  {
   "cell_type": "code",
   "execution_count": 20,
   "id": "parliamentary-calgary",
   "metadata": {
    "execution": {
     "iopub.execute_input": "2021-04-09T00:06:57.237812Z",
     "iopub.status.busy": "2021-04-09T00:06:57.237273Z",
     "iopub.status.idle": "2021-04-09T00:06:57.714982Z",
     "shell.execute_reply": "2021-04-09T00:06:57.714462Z"
    },
    "papermill": {
     "duration": 0.513367,
     "end_time": "2021-04-09T00:06:57.715120",
     "exception": false,
     "start_time": "2021-04-09T00:06:57.201753",
     "status": "completed"
    },
    "tags": []
   },
   "outputs": [],
   "source": [
    "#hide\n",
    "import pandas as pd\n",
    "import matplotlib.pyplot as plt\n",
    "import matplotlib.ticker as ticker\n",
    "import matplotlib.animation as animation\n",
    "from IPython.display import HTML"
   ]
  },
  {
   "cell_type": "code",
   "execution_count": 21,
   "id": "lasting-extraction",
   "metadata": {
    "execution": {
     "iopub.execute_input": "2021-04-09T00:06:57.784529Z",
     "iopub.status.busy": "2021-04-09T00:06:57.783988Z",
     "iopub.status.idle": "2021-04-09T00:06:57.789639Z",
     "shell.execute_reply": "2021-04-09T00:06:57.789218Z"
    },
    "papermill": {
     "duration": 0.042145,
     "end_time": "2021-04-09T00:06:57.789755",
     "exception": false,
     "start_time": "2021-04-09T00:06:57.747610",
     "status": "completed"
    },
    "tags": []
   },
   "outputs": [],
   "source": [
    "#hide\n",
    "t = everydaycases.stack()"
   ]
  },
  {
   "cell_type": "code",
   "execution_count": 22,
   "id": "premier-sleeve",
   "metadata": {
    "execution": {
     "iopub.execute_input": "2021-04-09T00:06:57.856562Z",
     "iopub.status.busy": "2021-04-09T00:06:57.856038Z",
     "iopub.status.idle": "2021-04-09T00:06:57.863682Z",
     "shell.execute_reply": "2021-04-09T00:06:57.864134Z"
    },
    "papermill": {
     "duration": 0.043269,
     "end_time": "2021-04-09T00:06:57.864277",
     "exception": false,
     "start_time": "2021-04-09T00:06:57.821008",
     "status": "completed"
    },
    "tags": []
   },
   "outputs": [],
   "source": [
    "#hide\n",
    "g = t.reset_index(['Country/Region'])"
   ]
  },
  {
   "cell_type": "code",
   "execution_count": 23,
   "id": "distributed-pittsburgh",
   "metadata": {
    "execution": {
     "iopub.execute_input": "2021-04-09T00:06:57.930839Z",
     "iopub.status.busy": "2021-04-09T00:06:57.930315Z",
     "iopub.status.idle": "2021-04-09T00:06:57.932578Z",
     "shell.execute_reply": "2021-04-09T00:06:57.932167Z"
    },
    "papermill": {
     "duration": 0.037435,
     "end_time": "2021-04-09T00:06:57.932698",
     "exception": false,
     "start_time": "2021-04-09T00:06:57.895263",
     "status": "completed"
    },
    "tags": []
   },
   "outputs": [],
   "source": [
    "#hide\n",
    "g.index.name = 'date'"
   ]
  },
  {
   "cell_type": "code",
   "execution_count": 24,
   "id": "naked-donor",
   "metadata": {
    "execution": {
     "iopub.execute_input": "2021-04-09T00:06:57.999060Z",
     "iopub.status.busy": "2021-04-09T00:06:57.998538Z",
     "iopub.status.idle": "2021-04-09T00:06:58.000400Z",
     "shell.execute_reply": "2021-04-09T00:06:58.000791Z"
    },
    "papermill": {
     "duration": 0.03702,
     "end_time": "2021-04-09T00:06:58.000927",
     "exception": false,
     "start_time": "2021-04-09T00:06:57.963907",
     "status": "completed"
    },
    "tags": []
   },
   "outputs": [],
   "source": [
    "# #hide\n",
    "# g = g.reset_index(['date'])"
   ]
  },
  {
   "cell_type": "code",
   "execution_count": 25,
   "id": "incomplete-mustang",
   "metadata": {
    "execution": {
     "iopub.execute_input": "2021-04-09T00:06:58.066961Z",
     "iopub.status.busy": "2021-04-09T00:06:58.066433Z",
     "iopub.status.idle": "2021-04-09T00:06:58.068647Z",
     "shell.execute_reply": "2021-04-09T00:06:58.068232Z"
    },
    "papermill": {
     "duration": 0.036815,
     "end_time": "2021-04-09T00:06:58.068765",
     "exception": false,
     "start_time": "2021-04-09T00:06:58.031950",
     "status": "completed"
    },
    "tags": []
   },
   "outputs": [],
   "source": [
    "#hide\n",
    "# g.head()"
   ]
  },
  {
   "cell_type": "code",
   "execution_count": 26,
   "id": "specific-kruger",
   "metadata": {
    "execution": {
     "iopub.execute_input": "2021-04-09T00:06:58.135458Z",
     "iopub.status.busy": "2021-04-09T00:06:58.134932Z",
     "iopub.status.idle": "2021-04-09T00:06:58.136808Z",
     "shell.execute_reply": "2021-04-09T00:06:58.137190Z"
    },
    "papermill": {
     "duration": 0.037343,
     "end_time": "2021-04-09T00:06:58.137330",
     "exception": false,
     "start_time": "2021-04-09T00:06:58.099987",
     "status": "completed"
    },
    "tags": []
   },
   "outputs": [],
   "source": [
    "#hide\n",
    "# g.columns = ['date','country','cases']"
   ]
  },
  {
   "cell_type": "code",
   "execution_count": 27,
   "id": "tender-conversion",
   "metadata": {
    "execution": {
     "iopub.execute_input": "2021-04-09T00:06:58.203288Z",
     "iopub.status.busy": "2021-04-09T00:06:58.202739Z",
     "iopub.status.idle": "2021-04-09T00:06:58.204592Z",
     "shell.execute_reply": "2021-04-09T00:06:58.205076Z"
    },
    "papermill": {
     "duration": 0.036884,
     "end_time": "2021-04-09T00:06:58.205212",
     "exception": false,
     "start_time": "2021-04-09T00:06:58.168328",
     "status": "completed"
    },
    "tags": []
   },
   "outputs": [],
   "source": [
    "#hide\n",
    "# g['continent'] = g.country"
   ]
  },
  {
   "cell_type": "code",
   "execution_count": 28,
   "id": "substantial-wilderness",
   "metadata": {
    "execution": {
     "iopub.execute_input": "2021-04-09T00:06:58.271565Z",
     "iopub.status.busy": "2021-04-09T00:06:58.271039Z",
     "iopub.status.idle": "2021-04-09T00:06:58.273139Z",
     "shell.execute_reply": "2021-04-09T00:06:58.272725Z"
    },
    "papermill": {
     "duration": 0.036742,
     "end_time": "2021-04-09T00:06:58.273254",
     "exception": false,
     "start_time": "2021-04-09T00:06:58.236512",
     "status": "completed"
    },
    "tags": []
   },
   "outputs": [],
   "source": [
    "#hide\n",
    "# cols = list(g.columns.values)"
   ]
  },
  {
   "cell_type": "code",
   "execution_count": 29,
   "id": "solved-farming",
   "metadata": {
    "execution": {
     "iopub.execute_input": "2021-04-09T00:06:58.339474Z",
     "iopub.status.busy": "2021-04-09T00:06:58.338943Z",
     "iopub.status.idle": "2021-04-09T00:06:58.341233Z",
     "shell.execute_reply": "2021-04-09T00:06:58.340814Z"
    },
    "papermill": {
     "duration": 0.037063,
     "end_time": "2021-04-09T00:06:58.341354",
     "exception": false,
     "start_time": "2021-04-09T00:06:58.304291",
     "status": "completed"
    },
    "tags": []
   },
   "outputs": [],
   "source": [
    "#hide\n",
    "# cols.insert(0, cols.pop())"
   ]
  },
  {
   "cell_type": "code",
   "execution_count": 30,
   "id": "executed-adoption",
   "metadata": {
    "execution": {
     "iopub.execute_input": "2021-04-09T00:06:58.407796Z",
     "iopub.status.busy": "2021-04-09T00:06:58.407228Z",
     "iopub.status.idle": "2021-04-09T00:06:58.409438Z",
     "shell.execute_reply": "2021-04-09T00:06:58.409024Z"
    },
    "papermill": {
     "duration": 0.036972,
     "end_time": "2021-04-09T00:06:58.409553",
     "exception": false,
     "start_time": "2021-04-09T00:06:58.372581",
     "status": "completed"
    },
    "tags": []
   },
   "outputs": [],
   "source": [
    "#hide\n",
    "# g = g[cols]"
   ]
  },
  {
   "cell_type": "code",
   "execution_count": 31,
   "id": "subject-dublin",
   "metadata": {
    "execution": {
     "iopub.execute_input": "2021-04-09T00:06:58.475526Z",
     "iopub.status.busy": "2021-04-09T00:06:58.474983Z",
     "iopub.status.idle": "2021-04-09T00:06:58.477284Z",
     "shell.execute_reply": "2021-04-09T00:06:58.476872Z"
    },
    "papermill": {
     "duration": 0.036843,
     "end_time": "2021-04-09T00:06:58.477404",
     "exception": false,
     "start_time": "2021-04-09T00:06:58.440561",
     "status": "completed"
    },
    "tags": []
   },
   "outputs": [],
   "source": [
    "#hide\n",
    "# g['continent'] = g['continent'].map(mapping['map.continent'])"
   ]
  },
  {
   "cell_type": "code",
   "execution_count": 32,
   "id": "freelance-scout",
   "metadata": {
    "execution": {
     "iopub.execute_input": "2021-04-09T00:06:58.543585Z",
     "iopub.status.busy": "2021-04-09T00:06:58.543060Z",
     "iopub.status.idle": "2021-04-09T00:06:58.545282Z",
     "shell.execute_reply": "2021-04-09T00:06:58.544860Z"
    },
    "papermill": {
     "duration": 0.036848,
     "end_time": "2021-04-09T00:06:58.545402",
     "exception": false,
     "start_time": "2021-04-09T00:06:58.508554",
     "status": "completed"
    },
    "tags": []
   },
   "outputs": [],
   "source": [
    "#hide\n",
    "# g.head()"
   ]
  },
  {
   "cell_type": "code",
   "execution_count": 33,
   "id": "limited-engine",
   "metadata": {
    "execution": {
     "iopub.execute_input": "2021-04-09T00:06:58.611465Z",
     "iopub.status.busy": "2021-04-09T00:06:58.610928Z",
     "iopub.status.idle": "2021-04-09T00:06:58.613250Z",
     "shell.execute_reply": "2021-04-09T00:06:58.612832Z"
    },
    "papermill": {
     "duration": 0.037019,
     "end_time": "2021-04-09T00:06:58.613366",
     "exception": false,
     "start_time": "2021-04-09T00:06:58.576347",
     "status": "completed"
    },
    "tags": []
   },
   "outputs": [],
   "source": [
    "# hide\n",
    "# g['date'] = g['date'].astype('datetime64[ns]')"
   ]
  },
  {
   "cell_type": "code",
   "execution_count": 34,
   "id": "sophisticated-supervisor",
   "metadata": {
    "execution": {
     "iopub.execute_input": "2021-04-09T00:06:58.679628Z",
     "iopub.status.busy": "2021-04-09T00:06:58.679104Z",
     "iopub.status.idle": "2021-04-09T00:06:58.680985Z",
     "shell.execute_reply": "2021-04-09T00:06:58.681419Z"
    },
    "papermill": {
     "duration": 0.037015,
     "end_time": "2021-04-09T00:06:58.681552",
     "exception": false,
     "start_time": "2021-04-09T00:06:58.644537",
     "status": "completed"
    },
    "tags": []
   },
   "outputs": [],
   "source": [
    "#hide\n",
    "# g['date'] = g.date.dt.dayofyear"
   ]
  },
  {
   "cell_type": "code",
   "execution_count": 35,
   "id": "inside-dubai",
   "metadata": {
    "execution": {
     "iopub.execute_input": "2021-04-09T00:06:58.747538Z",
     "iopub.status.busy": "2021-04-09T00:06:58.747000Z",
     "iopub.status.idle": "2021-04-09T00:06:58.749076Z",
     "shell.execute_reply": "2021-04-09T00:06:58.748563Z"
    },
    "papermill": {
     "duration": 0.036724,
     "end_time": "2021-04-09T00:06:58.749194",
     "exception": false,
     "start_time": "2021-04-09T00:06:58.712470",
     "status": "completed"
    },
    "tags": []
   },
   "outputs": [],
   "source": [
    "#hide\n",
    "# g = g.rename(columns= {'continent':'group','country':'name','cases':'value'})"
   ]
  },
  {
   "cell_type": "code",
   "execution_count": 36,
   "id": "fleet-motorcycle",
   "metadata": {
    "execution": {
     "iopub.execute_input": "2021-04-09T00:06:58.815494Z",
     "iopub.status.busy": "2021-04-09T00:06:58.814966Z",
     "iopub.status.idle": "2021-04-09T00:06:58.817275Z",
     "shell.execute_reply": "2021-04-09T00:06:58.816837Z"
    },
    "papermill": {
     "duration": 0.036918,
     "end_time": "2021-04-09T00:06:58.817389",
     "exception": false,
     "start_time": "2021-04-09T00:06:58.780471",
     "status": "completed"
    },
    "tags": []
   },
   "outputs": [],
   "source": [
    "#hide\n",
    "# cols = ['name','group','day','value']"
   ]
  },
  {
   "cell_type": "code",
   "execution_count": 37,
   "id": "continued-sleeping",
   "metadata": {
    "execution": {
     "iopub.execute_input": "2021-04-09T00:06:58.883604Z",
     "iopub.status.busy": "2021-04-09T00:06:58.883077Z",
     "iopub.status.idle": "2021-04-09T00:06:58.884930Z",
     "shell.execute_reply": "2021-04-09T00:06:58.885362Z"
    },
    "papermill": {
     "duration": 0.036993,
     "end_time": "2021-04-09T00:06:58.885494",
     "exception": false,
     "start_time": "2021-04-09T00:06:58.848501",
     "status": "completed"
    },
    "tags": []
   },
   "outputs": [],
   "source": [
    "#hide\n",
    "# g.rename(columns= {'date':'day'},inplace = True)"
   ]
  },
  {
   "cell_type": "code",
   "execution_count": 38,
   "id": "major-fight",
   "metadata": {
    "execution": {
     "iopub.execute_input": "2021-04-09T00:06:58.951621Z",
     "iopub.status.busy": "2021-04-09T00:06:58.951085Z",
     "iopub.status.idle": "2021-04-09T00:06:58.952957Z",
     "shell.execute_reply": "2021-04-09T00:06:58.953405Z"
    },
    "papermill": {
     "duration": 0.036882,
     "end_time": "2021-04-09T00:06:58.953544",
     "exception": false,
     "start_time": "2021-04-09T00:06:58.916662",
     "status": "completed"
    },
    "tags": []
   },
   "outputs": [],
   "source": [
    "#hide\n",
    "# g = g[cols]"
   ]
  },
  {
   "cell_type": "code",
   "execution_count": 39,
   "id": "structured-mobile",
   "metadata": {
    "execution": {
     "iopub.execute_input": "2021-04-09T00:06:59.019559Z",
     "iopub.status.busy": "2021-04-09T00:06:59.019029Z",
     "iopub.status.idle": "2021-04-09T00:06:59.021125Z",
     "shell.execute_reply": "2021-04-09T00:06:59.020682Z"
    },
    "papermill": {
     "duration": 0.036618,
     "end_time": "2021-04-09T00:06:59.021239",
     "exception": false,
     "start_time": "2021-04-09T00:06:58.984621",
     "status": "completed"
    },
    "tags": []
   },
   "outputs": [],
   "source": [
    "# #hide\n",
    "# g = g[g.group.notna()]"
   ]
  },
  {
   "cell_type": "code",
   "execution_count": 40,
   "id": "determined-closing",
   "metadata": {
    "execution": {
     "iopub.execute_input": "2021-04-09T00:06:59.087547Z",
     "iopub.status.busy": "2021-04-09T00:06:59.086994Z",
     "iopub.status.idle": "2021-04-09T00:06:59.088849Z",
     "shell.execute_reply": "2021-04-09T00:06:59.089287Z"
    },
    "papermill": {
     "duration": 0.036917,
     "end_time": "2021-04-09T00:06:59.089423",
     "exception": false,
     "start_time": "2021-04-09T00:06:59.052506",
     "status": "completed"
    },
    "tags": []
   },
   "outputs": [],
   "source": [
    "# #hide\n",
    "# colors = dict(zip(\n",
    "#     [\"Oceania\", \"Europe\", \"Asia\", \"South America\", \"Middle East\", \"North America\", \"Africa\"],\n",
    "#     [\"#adb0ff\", \"#ffb3ff\", \"#90d595\", \"#e48381\", \"#aafbff\", \"#f7bb5f\", \"#eafb50\"]\n",
    "# ))\n",
    "# group_lk = g.set_index('name')['group'].to_dict()"
   ]
  },
  {
   "cell_type": "code",
   "execution_count": null,
   "id": "gross-drinking",
   "metadata": {
    "papermill": {
     "duration": 0.031619,
     "end_time": "2021-04-09T00:06:59.151937",
     "exception": false,
     "start_time": "2021-04-09T00:06:59.120318",
     "status": "completed"
    },
    "tags": []
   },
   "outputs": [],
   "source": []
  },
  {
   "cell_type": "code",
   "execution_count": 41,
   "id": "subject-macintosh",
   "metadata": {
    "execution": {
     "iopub.execute_input": "2021-04-09T00:06:59.218608Z",
     "iopub.status.busy": "2021-04-09T00:06:59.218063Z",
     "iopub.status.idle": "2021-04-09T00:06:59.219978Z",
     "shell.execute_reply": "2021-04-09T00:06:59.220373Z"
    },
    "papermill": {
     "duration": 0.037516,
     "end_time": "2021-04-09T00:06:59.220513",
     "exception": false,
     "start_time": "2021-04-09T00:06:59.182997",
     "status": "completed"
    },
    "tags": []
   },
   "outputs": [],
   "source": [
    "# #hide\n",
    "# fig, ax = plt.subplots(figsize=(15, 8))\n",
    "\n",
    "# def draw_barchart(current_day):\n",
    "#     dff = g[g['day'].eq(current_day)].sort_values(by='value', ascending=True).tail(10)\n",
    "#     ax.clear()\n",
    "#     ax.barh(dff['name'], dff['value'], color=[colors[group_lk[x]] for x in dff['name']])\n",
    "#     dx = dff['value'].max() / 200\n",
    "    \n",
    "#     for i, (value, name) in enumerate(zip(dff['value'], dff['name'])):\n",
    "#         ax.text(value-dx, i,     name,           size=14, weight=600, ha='right', va='bottom')\n",
    "#         ax.text(value-dx, i-.25, group_lk[name], size=10, color='#444444', ha='right', va='baseline')\n",
    "#         ax.text(value+dx, i,     f'{value:,.0f}',  size=14, ha='left',  va='center')\n",
    "#     ax.text(1, 0.4, current_day, transform=ax.transAxes, color='#777777', size=46, ha='right', weight=800)\n",
    "#     ax.text(0, 1.06, 'Population (thousands)', transform=ax.transAxes, size=12, color='#777777')\n",
    "#     ax.xaxis.set_major_formatter(ticker.StrMethodFormatter('{x:,.0f}'))\n",
    "#     ax.xaxis.set_ticks_position('top')\n",
    "#     ax.tick_params(axis='x', colors='#777777', labelsize=12)\n",
    "#     ax.set_yticks([])\n",
    "#     ax.margins(0, 0.01)\n",
    "#     ax.grid(which='major', axis='x', linestyle='-')\n",
    "#     ax.set_axisbelow(True)\n",
    "    \n",
    "#     ax.text(0, 1.15, 'Coronavirus',\n",
    "#             transform=ax.transAxes, size=24, weight=600, ha='left', va='top')\n",
    "# #     ax.text(1, 0, 'by @pratapvardhan; credit @jburnmurdoch', transform=ax.transAxes, color='#777777', ha='right',\n",
    "# #             bbox=dict(facecolor='white', alpha=0.8, edgecolor='white'))\n",
    "#     plt.box(False)"
   ]
  },
  {
   "cell_type": "code",
   "execution_count": 42,
   "id": "sexual-wages",
   "metadata": {
    "execution": {
     "iopub.execute_input": "2021-04-09T00:06:59.286826Z",
     "iopub.status.busy": "2021-04-09T00:06:59.286288Z",
     "iopub.status.idle": "2021-04-09T00:06:59.288168Z",
     "shell.execute_reply": "2021-04-09T00:06:59.288613Z"
    },
    "papermill": {
     "duration": 0.037129,
     "end_time": "2021-04-09T00:06:59.288755",
     "exception": false,
     "start_time": "2021-04-09T00:06:59.251626",
     "status": "completed"
    },
    "tags": []
   },
   "outputs": [],
   "source": [
    "# #hide_input\n",
    "# fig, ax = plt.subplots(figsize=(15, 8))\n",
    "# animator = animation.FuncAnimation(fig, draw_barchart, frames=range(g.day.values.min(), g.day.values.max()))\n",
    "# HTML(animator.to_jshtml())\n",
    "# # or use animator.to_html5_video() or animator.save() "
   ]
  },
  {
   "cell_type": "code",
   "execution_count": null,
   "id": "australian-container",
   "metadata": {
    "papermill": {
     "duration": 0.030809,
     "end_time": "2021-04-09T00:06:59.350759",
     "exception": false,
     "start_time": "2021-04-09T00:06:59.319950",
     "status": "completed"
    },
    "tags": []
   },
   "outputs": [],
   "source": []
  },
  {
   "cell_type": "code",
   "execution_count": null,
   "id": "mediterranean-pontiac",
   "metadata": {
    "papermill": {
     "duration": 0.030931,
     "end_time": "2021-04-09T00:06:59.412616",
     "exception": false,
     "start_time": "2021-04-09T00:06:59.381685",
     "status": "completed"
    },
    "tags": []
   },
   "outputs": [],
   "source": []
  },
  {
   "cell_type": "code",
   "execution_count": null,
   "id": "aging-legislature",
   "metadata": {
    "papermill": {
     "duration": 0.030806,
     "end_time": "2021-04-09T00:06:59.474533",
     "exception": false,
     "start_time": "2021-04-09T00:06:59.443727",
     "status": "completed"
    },
    "tags": []
   },
   "outputs": [],
   "source": []
  }
 ],
 "metadata": {
  "kernelspec": {
   "display_name": "Python 3",
   "language": "python",
   "name": "python3"
  },
  "language_info": {
   "codemirror_mode": {
    "name": "ipython",
    "version": 3
   },
   "file_extension": ".py",
   "mimetype": "text/x-python",
   "name": "python",
   "nbconvert_exporter": "python",
   "pygments_lexer": "ipython3",
   "version": "3.6.13"
  },
  "papermill": {
   "duration": 6.093761,
   "end_time": "2021-04-09T00:06:59.913401",
   "environment_variables": {},
   "exception": null,
   "input_path": "2020-03-21-covid19exp.ipynb",
   "output_path": "2020-03-21-covid19exp.ipynb",
   "parameters": {},
   "start_time": "2021-04-09T00:06:53.819640",
   "version": "2.0.0"
  }
 },
 "nbformat": 4,
 "nbformat_minor": 5
}