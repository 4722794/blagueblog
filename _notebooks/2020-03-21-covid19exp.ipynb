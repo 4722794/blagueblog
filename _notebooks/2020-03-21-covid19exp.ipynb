{
 "cells": [
  {
   "cell_type": "markdown",
   "id": "muslim-click",
   "metadata": {
    "papermill": {
     "duration": 0.031446,
     "end_time": "2021-12-24T00:25:50.306800",
     "exception": false,
     "start_time": "2021-12-24T00:25:50.275354",
     "status": "completed"
    },
    "tags": []
   },
   "source": [
    "# COVID-19 Case Race\n",
    "> A race chart to see rising cases around the world\n",
    "\n",
    "- author: Hargun Oberoi\n",
    "- image: images/covid-overview.png\n",
    "- hide: false\n",
    "- badges: false"
   ]
  },
  {
   "cell_type": "code",
   "execution_count": 1,
   "id": "proof-material",
   "metadata": {
    "execution": {
     "iopub.execute_input": "2021-12-24T00:25:50.369569Z",
     "iopub.status.busy": "2021-12-24T00:25:50.369075Z",
     "iopub.status.idle": "2021-12-24T00:25:50.664560Z",
     "shell.execute_reply": "2021-12-24T00:25:50.665002Z"
    },
    "papermill": {
     "duration": 0.331823,
     "end_time": "2021-12-24T00:25:50.665162",
     "exception": false,
     "start_time": "2021-12-24T00:25:50.333339",
     "status": "completed"
    },
    "tags": []
   },
   "outputs": [],
   "source": [
    "#hide\n",
    "import numpy as np\n",
    "import pandas as pd\n",
    "from jinja2 import Template\n",
    "from IPython.display import HTML"
   ]
  },
  {
   "cell_type": "code",
   "execution_count": 2,
   "id": "developed-terminology",
   "metadata": {
    "execution": {
     "iopub.execute_input": "2021-12-24T00:25:50.724581Z",
     "iopub.status.busy": "2021-12-24T00:25:50.723982Z",
     "iopub.status.idle": "2021-12-24T00:25:50.725383Z",
     "shell.execute_reply": "2021-12-24T00:25:50.725832Z"
    },
    "papermill": {
     "duration": 0.034121,
     "end_time": "2021-12-24T00:25:50.725962",
     "exception": false,
     "start_time": "2021-12-24T00:25:50.691841",
     "status": "completed"
    },
    "tags": []
   },
   "outputs": [],
   "source": [
    "#hide\n",
    "\n",
    "# FETCH\n",
    "base_url = 'https://raw.githubusercontent.com/pratapvardhan/notebooks/master/covid19/'\n",
    "paths = {\n",
    "    'mapping': base_url + 'mapping_countries.csv',\n",
    "    'overview': base_url + 'overview.tpl'\n",
    "}"
   ]
  },
  {
   "cell_type": "code",
   "execution_count": 3,
   "id": "dynamic-saver",
   "metadata": {
    "execution": {
     "iopub.execute_input": "2021-12-24T00:25:50.787765Z",
     "iopub.status.busy": "2021-12-24T00:25:50.787293Z",
     "iopub.status.idle": "2021-12-24T00:25:50.789696Z",
     "shell.execute_reply": "2021-12-24T00:25:50.790037Z"
    },
    "papermill": {
     "duration": 0.037314,
     "end_time": "2021-12-24T00:25:50.790158",
     "exception": false,
     "start_time": "2021-12-24T00:25:50.752844",
     "status": "completed"
    },
    "tags": []
   },
   "outputs": [
    {
     "data": {
      "text/plain": [
       "'https://raw.githubusercontent.com/pratapvardhan/notebooks/master/covid19/mapping_countries.csv'"
      ]
     },
     "execution_count": 3,
     "metadata": {},
     "output_type": "execute_result"
    }
   ],
   "source": [
    "#hide\n",
    "paths['mapping']"
   ]
  },
  {
   "cell_type": "code",
   "execution_count": 4,
   "id": "urban-software",
   "metadata": {
    "execution": {
     "iopub.execute_input": "2021-12-24T00:25:50.847656Z",
     "iopub.status.busy": "2021-12-24T00:25:50.847189Z",
     "iopub.status.idle": "2021-12-24T00:25:50.849612Z",
     "shell.execute_reply": "2021-12-24T00:25:50.849247Z"
    },
    "papermill": {
     "duration": 0.03314,
     "end_time": "2021-12-24T00:25:50.849709",
     "exception": false,
     "start_time": "2021-12-24T00:25:50.816569",
     "status": "completed"
    },
    "tags": []
   },
   "outputs": [],
   "source": [
    "#hide\n",
    "def get_mappings(url):\n",
    "    df = pd.read_csv(url)\n",
    "    return {\n",
    "        'df': df,\n",
    "        'replace.country': dict(df.dropna(subset=['Name']).set_index('Country')['Name']),\n",
    "        'map.continent': dict(df.set_index('Name')['Continent'])\n",
    "    }"
   ]
  },
  {
   "cell_type": "code",
   "execution_count": 5,
   "id": "intimate-machinery",
   "metadata": {
    "execution": {
     "iopub.execute_input": "2021-12-24T00:25:50.908099Z",
     "iopub.status.busy": "2021-12-24T00:25:50.907623Z",
     "iopub.status.idle": "2021-12-24T00:25:50.945986Z",
     "shell.execute_reply": "2021-12-24T00:25:50.945475Z"
    },
    "papermill": {
     "duration": 0.069933,
     "end_time": "2021-12-24T00:25:50.946117",
     "exception": false,
     "start_time": "2021-12-24T00:25:50.876184",
     "status": "completed"
    },
    "tags": []
   },
   "outputs": [],
   "source": [
    "#hide\n",
    "mapping = get_mappings(paths['mapping'])"
   ]
  },
  {
   "cell_type": "code",
   "execution_count": 6,
   "id": "certified-tactics",
   "metadata": {
    "execution": {
     "iopub.execute_input": "2021-12-24T00:25:51.006739Z",
     "iopub.status.busy": "2021-12-24T00:25:51.006248Z",
     "iopub.status.idle": "2021-12-24T00:25:51.008232Z",
     "shell.execute_reply": "2021-12-24T00:25:51.007825Z"
    },
    "papermill": {
     "duration": 0.033505,
     "end_time": "2021-12-24T00:25:51.008340",
     "exception": false,
     "start_time": "2021-12-24T00:25:50.974835",
     "status": "completed"
    },
    "tags": []
   },
   "outputs": [],
   "source": [
    "#hide\n",
    "def get_template(path):\n",
    "    from urllib.parse import urlparse\n",
    "    if bool(urlparse(path).netloc):\n",
    "        from urllib.request import urlopen\n",
    "        return urlopen(path).read().decode('utf8')\n",
    "    return open(path).read()"
   ]
  },
  {
   "cell_type": "code",
   "execution_count": 7,
   "id": "realistic-blast",
   "metadata": {
    "execution": {
     "iopub.execute_input": "2021-12-24T00:25:51.066217Z",
     "iopub.status.busy": "2021-12-24T00:25:51.065670Z",
     "iopub.status.idle": "2021-12-24T00:25:51.068803Z",
     "shell.execute_reply": "2021-12-24T00:25:51.069151Z"
    },
    "papermill": {
     "duration": 0.034539,
     "end_time": "2021-12-24T00:25:51.069276",
     "exception": false,
     "start_time": "2021-12-24T00:25:51.034737",
     "status": "completed"
    },
    "tags": []
   },
   "outputs": [],
   "source": [
    "#hide\n",
    "def get_frame(name):\n",
    "    url = (\n",
    "        'https://raw.githubusercontent.com/CSSEGISandData/COVID-19/master/csse_covid_19_data/'\n",
    "        f'csse_covid_19_time_series/time_series_covid19_{name}_global.csv')\n",
    "    df = pd.read_csv(url)\n",
    "    # rename countries\n",
    "    df['Country/Region'] = df['Country/Region'].replace(mapping['replace.country'])\n",
    "    return df"
   ]
  },
  {
   "cell_type": "code",
   "execution_count": 8,
   "id": "affiliated-characterization",
   "metadata": {
    "execution": {
     "iopub.execute_input": "2021-12-24T00:25:51.127728Z",
     "iopub.status.busy": "2021-12-24T00:25:51.127298Z",
     "iopub.status.idle": "2021-12-24T00:25:51.129610Z",
     "shell.execute_reply": "2021-12-24T00:25:51.129244Z"
    },
    "papermill": {
     "duration": 0.033743,
     "end_time": "2021-12-24T00:25:51.129711",
     "exception": false,
     "start_time": "2021-12-24T00:25:51.095968",
     "status": "completed"
    },
    "tags": []
   },
   "outputs": [],
   "source": [
    "#hide\n",
    "def get_dates(df):\n",
    "    dt_cols = df.columns[~df.columns.isin(['Province/State', 'Country/Region', 'Lat', 'Long'])]\n",
    "    LAST_DATE_I = -1\n",
    "    # sometimes last column may be empty, then go backwards\n",
    "    for i in range(-1, -len(dt_cols), -1):\n",
    "        if not df[dt_cols[i]].fillna(0).eq(0).all():\n",
    "            LAST_DATE_I = i\n",
    "            break\n",
    "    return LAST_DATE_I, dt_cols"
   ]
  },
  {
   "cell_type": "code",
   "execution_count": 9,
   "id": "recent-optimization",
   "metadata": {
    "execution": {
     "iopub.execute_input": "2021-12-24T00:25:51.187618Z",
     "iopub.status.busy": "2021-12-24T00:25:51.187132Z",
     "iopub.status.idle": "2021-12-24T00:25:51.572836Z",
     "shell.execute_reply": "2021-12-24T00:25:51.569812Z"
    },
    "papermill": {
     "duration": 0.417018,
     "end_time": "2021-12-24T00:25:51.572993",
     "exception": false,
     "start_time": "2021-12-24T00:25:51.155975",
     "status": "completed"
    },
    "tags": []
   },
   "outputs": [],
   "source": [
    "#hide\n",
    "COL_REGION = 'Country/Region'\n",
    "# Confirmed, Recovered, Deaths\n",
    "df = get_frame('confirmed')\n",
    "# dft_: timeseries, dfc_: today country agg\n",
    "dft_cases = df\n",
    "dft_deaths = get_frame('deaths')\n",
    "dft_recovered = get_frame('recovered')\n",
    "LAST_DATE_I, dt_cols = get_dates(df)"
   ]
  },
  {
   "cell_type": "code",
   "execution_count": 10,
   "id": "absolute-copper",
   "metadata": {
    "execution": {
     "iopub.execute_input": "2021-12-24T00:25:51.634296Z",
     "iopub.status.busy": "2021-12-24T00:25:51.633767Z",
     "iopub.status.idle": "2021-12-24T00:25:51.635525Z",
     "shell.execute_reply": "2021-12-24T00:25:51.635071Z"
    },
    "papermill": {
     "duration": 0.032419,
     "end_time": "2021-12-24T00:25:51.635621",
     "exception": false,
     "start_time": "2021-12-24T00:25:51.603202",
     "status": "completed"
    },
    "tags": []
   },
   "outputs": [],
   "source": [
    "#hide\n",
    "LAST_DATE_I, dt_cols = get_dates(df)\n",
    "dt_today =dt_cols[LAST_DATE_I]\n",
    "# dt_5day = dt_cols[LAST_DATE_I - 5]\n",
    "dt_yday = dt_cols[LAST_DATE_I - 1]"
   ]
  },
  {
   "cell_type": "code",
   "execution_count": 11,
   "id": "restricted-sheriff",
   "metadata": {
    "execution": {
     "iopub.execute_input": "2021-12-24T00:25:51.696280Z",
     "iopub.status.busy": "2021-12-24T00:25:51.695790Z",
     "iopub.status.idle": "2021-12-24T00:25:51.702765Z",
     "shell.execute_reply": "2021-12-24T00:25:51.702400Z"
    },
    "papermill": {
     "duration": 0.041157,
     "end_time": "2021-12-24T00:25:51.702871",
     "exception": false,
     "start_time": "2021-12-24T00:25:51.661714",
     "status": "completed"
    },
    "tags": []
   },
   "outputs": [],
   "source": [
    "#hide\n",
    "dfc_cases = dft_cases.groupby(COL_REGION)[dt_today].sum()\n",
    "dfc_deaths = dft_deaths.groupby(COL_REGION)[dt_today].sum()\n",
    "# dfp_cases = dft_cases.groupby(COL_REGION)[dt_5day].sum()\n",
    "# dfp_deaths = dft_deaths.groupby(COL_REGION)[dt_5day].sum()\n",
    "dfp_cases = dft_cases.groupby(COL_REGION)[dt_yday].sum()\n",
    "dfp_deaths = dft_deaths.groupby(COL_REGION)[dt_yday].sum()"
   ]
  },
  {
   "cell_type": "code",
   "execution_count": 12,
   "id": "deluxe-hepatitis",
   "metadata": {
    "execution": {
     "iopub.execute_input": "2021-12-24T00:25:51.761733Z",
     "iopub.status.busy": "2021-12-24T00:25:51.761267Z",
     "iopub.status.idle": "2021-12-24T00:25:51.765392Z",
     "shell.execute_reply": "2021-12-24T00:25:51.765828Z"
    },
    "papermill": {
     "duration": 0.036635,
     "end_time": "2021-12-24T00:25:51.765953",
     "exception": false,
     "start_time": "2021-12-24T00:25:51.729318",
     "status": "completed"
    },
    "tags": []
   },
   "outputs": [],
   "source": [
    "#hide\n",
    "df_table = (pd.DataFrame(dict(Cases = dfc_cases, Deaths = dfc_deaths, PCases = dfp_cases, PDeaths = dfp_deaths))\n",
    "            .sort_values(by = ['Cases','Deaths'], ascending = [False, False])\n",
    "            .reset_index())"
   ]
  },
  {
   "cell_type": "code",
   "execution_count": 13,
   "id": "educational-chancellor",
   "metadata": {
    "execution": {
     "iopub.execute_input": "2021-12-24T00:25:51.835548Z",
     "iopub.status.busy": "2021-12-24T00:25:51.834103Z",
     "iopub.status.idle": "2021-12-24T00:25:51.842942Z",
     "shell.execute_reply": "2021-12-24T00:25:51.842554Z"
    },
    "papermill": {
     "duration": 0.050491,
     "end_time": "2021-12-24T00:25:51.843044",
     "exception": false,
     "start_time": "2021-12-24T00:25:51.792553",
     "status": "completed"
    },
    "tags": []
   },
   "outputs": [
    {
     "data": {
      "text/html": [
       "<div>\n",
       "<style scoped>\n",
       "    .dataframe tbody tr th:only-of-type {\n",
       "        vertical-align: middle;\n",
       "    }\n",
       "\n",
       "    .dataframe tbody tr th {\n",
       "        vertical-align: top;\n",
       "    }\n",
       "\n",
       "    .dataframe thead th {\n",
       "        text-align: right;\n",
       "    }\n",
       "</style>\n",
       "<table border=\"1\" class=\"dataframe\">\n",
       "  <thead>\n",
       "    <tr style=\"text-align: right;\">\n",
       "      <th></th>\n",
       "      <th>Country/Region</th>\n",
       "      <th>Cases</th>\n",
       "      <th>Deaths</th>\n",
       "      <th>PCases</th>\n",
       "      <th>PDeaths</th>\n",
       "      <th>Cases (+)</th>\n",
       "      <th>Deaths (+)</th>\n",
       "      <th>Fatality Rate</th>\n",
       "      <th>Continent</th>\n",
       "    </tr>\n",
       "  </thead>\n",
       "  <tbody>\n",
       "    <tr>\n",
       "      <th>0</th>\n",
       "      <td>US</td>\n",
       "      <td>51545991</td>\n",
       "      <td>812069</td>\n",
       "      <td>51307613</td>\n",
       "      <td>810045</td>\n",
       "      <td>238378</td>\n",
       "      <td>2024</td>\n",
       "      <td>1.58</td>\n",
       "      <td>North America</td>\n",
       "    </tr>\n",
       "    <tr>\n",
       "      <th>1</th>\n",
       "      <td>India</td>\n",
       "      <td>34765976</td>\n",
       "      <td>478759</td>\n",
       "      <td>34758481</td>\n",
       "      <td>478325</td>\n",
       "      <td>7495</td>\n",
       "      <td>434</td>\n",
       "      <td>1.38</td>\n",
       "      <td>Asia</td>\n",
       "    </tr>\n",
       "    <tr>\n",
       "      <th>2</th>\n",
       "      <td>Brazil</td>\n",
       "      <td>22227169</td>\n",
       "      <td>618366</td>\n",
       "      <td>22223943</td>\n",
       "      <td>618220</td>\n",
       "      <td>3226</td>\n",
       "      <td>146</td>\n",
       "      <td>2.78</td>\n",
       "      <td>South America</td>\n",
       "    </tr>\n",
       "    <tr>\n",
       "      <th>3</th>\n",
       "      <td>United Kingdom</td>\n",
       "      <td>11713654</td>\n",
       "      <td>148038</td>\n",
       "      <td>11607864</td>\n",
       "      <td>147896</td>\n",
       "      <td>105790</td>\n",
       "      <td>142</td>\n",
       "      <td>1.26</td>\n",
       "      <td>Europe</td>\n",
       "    </tr>\n",
       "    <tr>\n",
       "      <th>4</th>\n",
       "      <td>Russia</td>\n",
       "      <td>10114983</td>\n",
       "      <td>294322</td>\n",
       "      <td>10089945</td>\n",
       "      <td>293329</td>\n",
       "      <td>25038</td>\n",
       "      <td>993</td>\n",
       "      <td>2.91</td>\n",
       "      <td>Europe</td>\n",
       "    </tr>\n",
       "  </tbody>\n",
       "</table>\n",
       "</div>"
      ],
      "text/plain": [
       "   Country/Region     Cases  Deaths    PCases  PDeaths  Cases (+)  Deaths (+)  \\\n",
       "0              US  51545991  812069  51307613   810045     238378        2024   \n",
       "1           India  34765976  478759  34758481   478325       7495         434   \n",
       "2          Brazil  22227169  618366  22223943   618220       3226         146   \n",
       "3  United Kingdom  11713654  148038  11607864   147896     105790         142   \n",
       "4          Russia  10114983  294322  10089945   293329      25038         993   \n",
       "\n",
       "   Fatality Rate      Continent  \n",
       "0           1.58  North America  \n",
       "1           1.38           Asia  \n",
       "2           2.78  South America  \n",
       "3           1.26         Europe  \n",
       "4           2.91         Europe  "
      ]
     },
     "execution_count": 13,
     "metadata": {},
     "output_type": "execute_result"
    }
   ],
   "source": [
    "#hide\n",
    "for c in 'Cases, Deaths'.split(', '):\n",
    "    df_table[f'{c} (+)'] = (df_table[c] - df_table[f'P{c}']).clip(0)\n",
    "    #Clip ça veut dire, les chiffres negatif sont interdit\n",
    "df_table['Fatality Rate'] = (100* df_table['Deaths']/ df_table['Cases']).round(2)\n",
    "df_table['Continent'] = df_table['Country/Region'].map(mapping['map.continent'])\n",
    "df_table.head(5)"
   ]
  },
  {
   "cell_type": "code",
   "execution_count": 14,
   "id": "aboriginal-bulgaria",
   "metadata": {
    "execution": {
     "iopub.execute_input": "2021-12-24T00:25:51.902260Z",
     "iopub.status.busy": "2021-12-24T00:25:51.901798Z",
     "iopub.status.idle": "2021-12-24T00:25:51.905021Z",
     "shell.execute_reply": "2021-12-24T00:25:51.904656Z"
    },
    "papermill": {
     "duration": 0.034826,
     "end_time": "2021-12-24T00:25:51.905126",
     "exception": false,
     "start_time": "2021-12-24T00:25:51.870300",
     "status": "completed"
    },
    "tags": []
   },
   "outputs": [],
   "source": [
    "#hide\n",
    "#delete problematic countries from table\n",
    "df_table = df_table[~df_table['Country/Region'].isin(['Cape Verde', 'Cruise Ship', 'Kosovo'])]"
   ]
  },
  {
   "cell_type": "code",
   "execution_count": 15,
   "id": "fantastic-effect",
   "metadata": {
    "execution": {
     "iopub.execute_input": "2021-12-24T00:25:51.966681Z",
     "iopub.status.busy": "2021-12-24T00:25:51.966203Z",
     "iopub.status.idle": "2021-12-24T00:25:51.983598Z",
     "shell.execute_reply": "2021-12-24T00:25:51.983098Z"
    },
    "papermill": {
     "duration": 0.052046,
     "end_time": "2021-12-24T00:25:51.983731",
     "exception": false,
     "start_time": "2021-12-24T00:25:51.931685",
     "status": "completed"
    },
    "tags": []
   },
   "outputs": [
    {
     "data": {
      "text/html": [
       "<div>\n",
       "<style scoped>\n",
       "    .dataframe tbody tr th:only-of-type {\n",
       "        vertical-align: middle;\n",
       "    }\n",
       "\n",
       "    .dataframe tbody tr th {\n",
       "        vertical-align: top;\n",
       "    }\n",
       "\n",
       "    .dataframe thead th {\n",
       "        text-align: right;\n",
       "    }\n",
       "</style>\n",
       "<table border=\"1\" class=\"dataframe\">\n",
       "  <thead>\n",
       "    <tr style=\"text-align: right;\">\n",
       "      <th></th>\n",
       "      <th>Country/Region</th>\n",
       "      <th>Cases</th>\n",
       "      <th>Deaths</th>\n",
       "      <th>PCases</th>\n",
       "      <th>PDeaths</th>\n",
       "      <th>Cases (+)</th>\n",
       "      <th>Deaths (+)</th>\n",
       "      <th>Fatality Rate</th>\n",
       "      <th>Continent</th>\n",
       "    </tr>\n",
       "  </thead>\n",
       "  <tbody>\n",
       "    <tr>\n",
       "      <th>0</th>\n",
       "      <td>US</td>\n",
       "      <td>51545991</td>\n",
       "      <td>812069</td>\n",
       "      <td>51307613</td>\n",
       "      <td>810045</td>\n",
       "      <td>238378</td>\n",
       "      <td>2024</td>\n",
       "      <td>1.6</td>\n",
       "      <td>North America</td>\n",
       "    </tr>\n",
       "    <tr>\n",
       "      <th>1</th>\n",
       "      <td>India</td>\n",
       "      <td>34765976</td>\n",
       "      <td>478759</td>\n",
       "      <td>34758481</td>\n",
       "      <td>478325</td>\n",
       "      <td>7495</td>\n",
       "      <td>434</td>\n",
       "      <td>1.4</td>\n",
       "      <td>Asia</td>\n",
       "    </tr>\n",
       "    <tr>\n",
       "      <th>2</th>\n",
       "      <td>Brazil</td>\n",
       "      <td>22227169</td>\n",
       "      <td>618366</td>\n",
       "      <td>22223943</td>\n",
       "      <td>618220</td>\n",
       "      <td>3226</td>\n",
       "      <td>146</td>\n",
       "      <td>2.8</td>\n",
       "      <td>South America</td>\n",
       "    </tr>\n",
       "    <tr>\n",
       "      <th>3</th>\n",
       "      <td>United Kingdom</td>\n",
       "      <td>11713654</td>\n",
       "      <td>148038</td>\n",
       "      <td>11607864</td>\n",
       "      <td>147896</td>\n",
       "      <td>105790</td>\n",
       "      <td>142</td>\n",
       "      <td>1.3</td>\n",
       "      <td>Europe</td>\n",
       "    </tr>\n",
       "    <tr>\n",
       "      <th>4</th>\n",
       "      <td>Russia</td>\n",
       "      <td>10114983</td>\n",
       "      <td>294322</td>\n",
       "      <td>10089945</td>\n",
       "      <td>293329</td>\n",
       "      <td>25038</td>\n",
       "      <td>993</td>\n",
       "      <td>2.9</td>\n",
       "      <td>Europe</td>\n",
       "    </tr>\n",
       "  </tbody>\n",
       "</table>\n",
       "</div>"
      ],
      "text/plain": [
       "   Country/Region     Cases  Deaths    PCases  PDeaths  Cases (+)  Deaths (+)  \\\n",
       "0              US  51545991  812069  51307613   810045     238378        2024   \n",
       "1           India  34765976  478759  34758481   478325       7495         434   \n",
       "2          Brazil  22227169  618366  22223943   618220       3226         146   \n",
       "3  United Kingdom  11713654  148038  11607864   147896     105790         142   \n",
       "4          Russia  10114983  294322  10089945   293329      25038         993   \n",
       "\n",
       "   Fatality Rate      Continent  \n",
       "0            1.6  North America  \n",
       "1            1.4           Asia  \n",
       "2            2.8  South America  \n",
       "3            1.3         Europe  \n",
       "4            2.9         Europe  "
      ]
     },
     "execution_count": 15,
     "metadata": {},
     "output_type": "execute_result"
    }
   ],
   "source": [
    "#hide\n",
    "df_table = (pd.DataFrame(dict(Cases=dfc_cases, Deaths=dfc_deaths, PCases=dfp_cases, PDeaths=dfp_deaths))\n",
    "             .sort_values(by=['Cases', 'Deaths'], ascending=[False, False])\n",
    "             .reset_index())\n",
    "df_table.rename(columns={'index': 'Country/Region'}, inplace=True)\n",
    "for c in 'Cases, Deaths'.split(', '):\n",
    "    df_table[f'{c} (+)'] = (df_table[c] - df_table[f'P{c}']).clip(0)  # DATA BUG\n",
    "df_table['Fatality Rate'] = (100 * df_table['Deaths'] / df_table['Cases']).round(1)\n",
    "df_table['Continent'] = df_table['Country/Region'].map(mapping['map.continent'])\n",
    "df_table.head(5)"
   ]
  },
  {
   "cell_type": "code",
   "execution_count": 16,
   "id": "fewer-occasion",
   "metadata": {
    "execution": {
     "iopub.execute_input": "2021-12-24T00:25:52.043388Z",
     "iopub.status.busy": "2021-12-24T00:25:52.042945Z",
     "iopub.status.idle": "2021-12-24T00:25:52.045077Z",
     "shell.execute_reply": "2021-12-24T00:25:52.044691Z"
    },
    "papermill": {
     "duration": 0.033055,
     "end_time": "2021-12-24T00:25:52.045170",
     "exception": false,
     "start_time": "2021-12-24T00:25:52.012115",
     "status": "completed"
    },
    "tags": []
   },
   "outputs": [],
   "source": [
    "#hide\n",
    "#delete problematic countries from table\n",
    "df_table = df_table[~df_table['Country/Region'].isin(['Cape Verde', 'Cruise Ship', 'Kosovo'])]"
   ]
  },
  {
   "cell_type": "code",
   "execution_count": 17,
   "id": "related-center",
   "metadata": {
    "execution": {
     "iopub.execute_input": "2021-12-24T00:25:52.116922Z",
     "iopub.status.busy": "2021-12-24T00:25:52.116428Z",
     "iopub.status.idle": "2021-12-24T00:25:52.118256Z",
     "shell.execute_reply": "2021-12-24T00:25:52.117798Z"
    },
    "papermill": {
     "duration": 0.046204,
     "end_time": "2021-12-24T00:25:52.118360",
     "exception": false,
     "start_time": "2021-12-24T00:25:52.072156",
     "status": "completed"
    },
    "tags": []
   },
   "outputs": [],
   "source": [
    "#hide\n",
    "metrics = [df_table.columns[index] for index in [1,2,5,6]]\n",
    "# s_china = df_table[df_table['Country/Region'].eq('China')][metrics].sum().add_prefix('China ')\n",
    "s_us = df_table[df_table['Country/Region'].eq('US')][metrics].sum().add_prefix('US ')\n",
    "s_eu = df_table[df_table['Continent'].eq('Europe')][metrics].sum().add_prefix('EU ')\n",
    "s_ind = df_table[df_table['Country/Region'].eq('India')][metrics].sum().add_prefix('India ')\n",
    "summary = {'updated': pd.to_datetime(dt_today), 'since': pd.to_datetime(dt_yday)}\n",
    "summary = {'updated': pd.to_datetime(dt_today), 'since': pd.to_datetime(dt_yday)}\n",
    "summary = {**summary, **df_table[metrics].sum(), **s_ind, **s_us, **s_eu}"
   ]
  },
  {
   "cell_type": "code",
   "execution_count": 18,
   "id": "engaging-syndrome",
   "metadata": {
    "execution": {
     "iopub.execute_input": "2021-12-24T00:25:52.178435Z",
     "iopub.status.busy": "2021-12-24T00:25:52.177950Z",
     "iopub.status.idle": "2021-12-24T00:25:52.192520Z",
     "shell.execute_reply": "2021-12-24T00:25:52.192107Z"
    },
    "papermill": {
     "duration": 0.047137,
     "end_time": "2021-12-24T00:25:52.192633",
     "exception": false,
     "start_time": "2021-12-24T00:25:52.145496",
     "status": "completed"
    },
    "tags": []
   },
   "outputs": [],
   "source": [
    "#hide\n",
    "dft_ct_new_cases = dft_cases.groupby(COL_REGION)[dt_cols].sum().diff(axis=1).fillna(0).astype(int)"
   ]
  },
  {
   "cell_type": "code",
   "execution_count": 19,
   "id": "neutral-assignment",
   "metadata": {
    "execution": {
     "iopub.execute_input": "2021-12-24T00:25:52.251252Z",
     "iopub.status.busy": "2021-12-24T00:25:52.250803Z",
     "iopub.status.idle": "2021-12-24T00:25:52.254154Z",
     "shell.execute_reply": "2021-12-24T00:25:52.253793Z"
    },
    "papermill": {
     "duration": 0.034479,
     "end_time": "2021-12-24T00:25:52.254253",
     "exception": false,
     "start_time": "2021-12-24T00:25:52.219774",
     "status": "completed"
    },
    "tags": []
   },
   "outputs": [],
   "source": [
    "#hide\n",
    "everydaycases = dft_ct_new_cases.cumsum(axis=1)"
   ]
  },
  {
   "cell_type": "code",
   "execution_count": 20,
   "id": "parliamentary-calgary",
   "metadata": {
    "execution": {
     "iopub.execute_input": "2021-12-24T00:25:52.313034Z",
     "iopub.status.busy": "2021-12-24T00:25:52.312567Z",
     "iopub.status.idle": "2021-12-24T00:25:52.851008Z",
     "shell.execute_reply": "2021-12-24T00:25:52.851523Z"
    },
    "papermill": {
     "duration": 0.570138,
     "end_time": "2021-12-24T00:25:52.851684",
     "exception": false,
     "start_time": "2021-12-24T00:25:52.281546",
     "status": "completed"
    },
    "tags": []
   },
   "outputs": [],
   "source": [
    "#hide\n",
    "import pandas as pd\n",
    "import matplotlib.pyplot as plt\n",
    "import matplotlib.ticker as ticker\n",
    "import matplotlib.animation as animation\n",
    "from IPython.display import HTML"
   ]
  },
  {
   "cell_type": "code",
   "execution_count": 21,
   "id": "lasting-extraction",
   "metadata": {
    "execution": {
     "iopub.execute_input": "2021-12-24T00:25:52.912791Z",
     "iopub.status.busy": "2021-12-24T00:25:52.912321Z",
     "iopub.status.idle": "2021-12-24T00:25:52.918458Z",
     "shell.execute_reply": "2021-12-24T00:25:52.918866Z"
    },
    "papermill": {
     "duration": 0.039384,
     "end_time": "2021-12-24T00:25:52.918982",
     "exception": false,
     "start_time": "2021-12-24T00:25:52.879598",
     "status": "completed"
    },
    "tags": []
   },
   "outputs": [],
   "source": [
    "#hide\n",
    "t = everydaycases.stack()"
   ]
  },
  {
   "cell_type": "code",
   "execution_count": 22,
   "id": "premier-sleeve",
   "metadata": {
    "execution": {
     "iopub.execute_input": "2021-12-24T00:25:52.977573Z",
     "iopub.status.busy": "2021-12-24T00:25:52.976577Z",
     "iopub.status.idle": "2021-12-24T00:25:52.987046Z",
     "shell.execute_reply": "2021-12-24T00:25:52.986218Z"
    },
    "papermill": {
     "duration": 0.041291,
     "end_time": "2021-12-24T00:25:52.987155",
     "exception": false,
     "start_time": "2021-12-24T00:25:52.945864",
     "status": "completed"
    },
    "tags": []
   },
   "outputs": [],
   "source": [
    "#hide\n",
    "g = t.reset_index(['Country/Region'])"
   ]
  },
  {
   "cell_type": "code",
   "execution_count": 23,
   "id": "distributed-pittsburgh",
   "metadata": {
    "execution": {
     "iopub.execute_input": "2021-12-24T00:25:53.044624Z",
     "iopub.status.busy": "2021-12-24T00:25:53.044126Z",
     "iopub.status.idle": "2021-12-24T00:25:53.045919Z",
     "shell.execute_reply": "2021-12-24T00:25:53.046258Z"
    },
    "papermill": {
     "duration": 0.032171,
     "end_time": "2021-12-24T00:25:53.046375",
     "exception": false,
     "start_time": "2021-12-24T00:25:53.014204",
     "status": "completed"
    },
    "tags": []
   },
   "outputs": [],
   "source": [
    "#hide\n",
    "g.index.name = 'date'"
   ]
  },
  {
   "cell_type": "code",
   "execution_count": 24,
   "id": "naked-donor",
   "metadata": {
    "execution": {
     "iopub.execute_input": "2021-12-24T00:25:53.104870Z",
     "iopub.status.busy": "2021-12-24T00:25:53.104082Z",
     "iopub.status.idle": "2021-12-24T00:25:53.106086Z",
     "shell.execute_reply": "2021-12-24T00:25:53.105565Z"
    },
    "papermill": {
     "duration": 0.032718,
     "end_time": "2021-12-24T00:25:53.106208",
     "exception": false,
     "start_time": "2021-12-24T00:25:53.073490",
     "status": "completed"
    },
    "tags": []
   },
   "outputs": [],
   "source": [
    "# #hide\n",
    "# g = g.reset_index(['date'])"
   ]
  },
  {
   "cell_type": "code",
   "execution_count": 25,
   "id": "incomplete-mustang",
   "metadata": {
    "execution": {
     "iopub.execute_input": "2021-12-24T00:25:53.163557Z",
     "iopub.status.busy": "2021-12-24T00:25:53.162960Z",
     "iopub.status.idle": "2021-12-24T00:25:53.164905Z",
     "shell.execute_reply": "2021-12-24T00:25:53.164325Z"
    },
    "papermill": {
     "duration": 0.031972,
     "end_time": "2021-12-24T00:25:53.165032",
     "exception": false,
     "start_time": "2021-12-24T00:25:53.133060",
     "status": "completed"
    },
    "tags": []
   },
   "outputs": [],
   "source": [
    "#hide\n",
    "# g.head()"
   ]
  },
  {
   "cell_type": "code",
   "execution_count": 26,
   "id": "specific-kruger",
   "metadata": {
    "execution": {
     "iopub.execute_input": "2021-12-24T00:25:53.224719Z",
     "iopub.status.busy": "2021-12-24T00:25:53.224129Z",
     "iopub.status.idle": "2021-12-24T00:25:53.225512Z",
     "shell.execute_reply": "2021-12-24T00:25:53.225133Z"
    },
    "papermill": {
     "duration": 0.032969,
     "end_time": "2021-12-24T00:25:53.225610",
     "exception": false,
     "start_time": "2021-12-24T00:25:53.192641",
     "status": "completed"
    },
    "tags": []
   },
   "outputs": [],
   "source": [
    "#hide\n",
    "# g.columns = ['date','country','cases']"
   ]
  },
  {
   "cell_type": "code",
   "execution_count": 27,
   "id": "tender-conversion",
   "metadata": {
    "execution": {
     "iopub.execute_input": "2021-12-24T00:25:53.283120Z",
     "iopub.status.busy": "2021-12-24T00:25:53.282661Z",
     "iopub.status.idle": "2021-12-24T00:25:53.284587Z",
     "shell.execute_reply": "2021-12-24T00:25:53.284928Z"
    },
    "papermill": {
     "duration": 0.032589,
     "end_time": "2021-12-24T00:25:53.285047",
     "exception": false,
     "start_time": "2021-12-24T00:25:53.252458",
     "status": "completed"
    },
    "tags": []
   },
   "outputs": [],
   "source": [
    "#hide\n",
    "# g['continent'] = g.country"
   ]
  },
  {
   "cell_type": "code",
   "execution_count": 28,
   "id": "substantial-wilderness",
   "metadata": {
    "execution": {
     "iopub.execute_input": "2021-12-24T00:25:53.343102Z",
     "iopub.status.busy": "2021-12-24T00:25:53.342598Z",
     "iopub.status.idle": "2021-12-24T00:25:53.344591Z",
     "shell.execute_reply": "2021-12-24T00:25:53.344101Z"
    },
    "papermill": {
     "duration": 0.032261,
     "end_time": "2021-12-24T00:25:53.344698",
     "exception": false,
     "start_time": "2021-12-24T00:25:53.312437",
     "status": "completed"
    },
    "tags": []
   },
   "outputs": [],
   "source": [
    "#hide\n",
    "# cols = list(g.columns.values)"
   ]
  },
  {
   "cell_type": "code",
   "execution_count": 29,
   "id": "solved-farming",
   "metadata": {
    "execution": {
     "iopub.execute_input": "2021-12-24T00:25:53.403125Z",
     "iopub.status.busy": "2021-12-24T00:25:53.402510Z",
     "iopub.status.idle": "2021-12-24T00:25:53.405965Z",
     "shell.execute_reply": "2021-12-24T00:25:53.406407Z"
    },
    "papermill": {
     "duration": 0.034478,
     "end_time": "2021-12-24T00:25:53.406559",
     "exception": false,
     "start_time": "2021-12-24T00:25:53.372081",
     "status": "completed"
    },
    "tags": []
   },
   "outputs": [],
   "source": [
    "#hide\n",
    "# cols.insert(0, cols.pop())"
   ]
  },
  {
   "cell_type": "code",
   "execution_count": 30,
   "id": "executed-adoption",
   "metadata": {
    "execution": {
     "iopub.execute_input": "2021-12-24T00:25:53.465610Z",
     "iopub.status.busy": "2021-12-24T00:25:53.465022Z",
     "iopub.status.idle": "2021-12-24T00:25:53.467134Z",
     "shell.execute_reply": "2021-12-24T00:25:53.466644Z"
    },
    "papermill": {
     "duration": 0.032602,
     "end_time": "2021-12-24T00:25:53.467258",
     "exception": false,
     "start_time": "2021-12-24T00:25:53.434656",
     "status": "completed"
    },
    "tags": []
   },
   "outputs": [],
   "source": [
    "#hide\n",
    "# g = g[cols]"
   ]
  },
  {
   "cell_type": "code",
   "execution_count": 31,
   "id": "subject-dublin",
   "metadata": {
    "execution": {
     "iopub.execute_input": "2021-12-24T00:25:53.526255Z",
     "iopub.status.busy": "2021-12-24T00:25:53.525647Z",
     "iopub.status.idle": "2021-12-24T00:25:53.526937Z",
     "shell.execute_reply": "2021-12-24T00:25:53.527500Z"
    },
    "papermill": {
     "duration": 0.032304,
     "end_time": "2021-12-24T00:25:53.527642",
     "exception": false,
     "start_time": "2021-12-24T00:25:53.495338",
     "status": "completed"
    },
    "tags": []
   },
   "outputs": [],
   "source": [
    "#hide\n",
    "# g['continent'] = g['continent'].map(mapping['map.continent'])"
   ]
  },
  {
   "cell_type": "code",
   "execution_count": 32,
   "id": "freelance-scout",
   "metadata": {
    "execution": {
     "iopub.execute_input": "2021-12-24T00:25:53.586943Z",
     "iopub.status.busy": "2021-12-24T00:25:53.586325Z",
     "iopub.status.idle": "2021-12-24T00:25:53.589795Z",
     "shell.execute_reply": "2021-12-24T00:25:53.590239Z"
    },
    "papermill": {
     "duration": 0.034808,
     "end_time": "2021-12-24T00:25:53.590388",
     "exception": false,
     "start_time": "2021-12-24T00:25:53.555580",
     "status": "completed"
    },
    "tags": []
   },
   "outputs": [],
   "source": [
    "#hide\n",
    "# g.head()"
   ]
  },
  {
   "cell_type": "code",
   "execution_count": 33,
   "id": "limited-engine",
   "metadata": {
    "execution": {
     "iopub.execute_input": "2021-12-24T00:25:53.648432Z",
     "iopub.status.busy": "2021-12-24T00:25:53.647813Z",
     "iopub.status.idle": "2021-12-24T00:25:53.649707Z",
     "shell.execute_reply": "2021-12-24T00:25:53.649155Z"
    },
    "papermill": {
     "duration": 0.031922,
     "end_time": "2021-12-24T00:25:53.649826",
     "exception": false,
     "start_time": "2021-12-24T00:25:53.617904",
     "status": "completed"
    },
    "tags": []
   },
   "outputs": [],
   "source": [
    "# hide\n",
    "# g['date'] = g['date'].astype('datetime64[ns]')"
   ]
  },
  {
   "cell_type": "code",
   "execution_count": 34,
   "id": "sophisticated-supervisor",
   "metadata": {
    "execution": {
     "iopub.execute_input": "2021-12-24T00:25:53.709472Z",
     "iopub.status.busy": "2021-12-24T00:25:53.708867Z",
     "iopub.status.idle": "2021-12-24T00:25:53.712245Z",
     "shell.execute_reply": "2021-12-24T00:25:53.711702Z"
    },
    "papermill": {
     "duration": 0.034363,
     "end_time": "2021-12-24T00:25:53.712372",
     "exception": false,
     "start_time": "2021-12-24T00:25:53.678009",
     "status": "completed"
    },
    "tags": []
   },
   "outputs": [],
   "source": [
    "#hide\n",
    "# g['date'] = g.date.dt.dayofyear"
   ]
  },
  {
   "cell_type": "code",
   "execution_count": 35,
   "id": "inside-dubai",
   "metadata": {
    "execution": {
     "iopub.execute_input": "2021-12-24T00:25:53.770822Z",
     "iopub.status.busy": "2021-12-24T00:25:53.770206Z",
     "iopub.status.idle": "2021-12-24T00:25:53.773584Z",
     "shell.execute_reply": "2021-12-24T00:25:53.774025Z"
    },
    "papermill": {
     "duration": 0.034302,
     "end_time": "2021-12-24T00:25:53.774182",
     "exception": false,
     "start_time": "2021-12-24T00:25:53.739880",
     "status": "completed"
    },
    "tags": []
   },
   "outputs": [],
   "source": [
    "#hide\n",
    "# g = g.rename(columns= {'continent':'group','country':'name','cases':'value'})"
   ]
  },
  {
   "cell_type": "code",
   "execution_count": 36,
   "id": "fleet-motorcycle",
   "metadata": {
    "execution": {
     "iopub.execute_input": "2021-12-24T00:25:53.832775Z",
     "iopub.status.busy": "2021-12-24T00:25:53.832144Z",
     "iopub.status.idle": "2021-12-24T00:25:53.833547Z",
     "shell.execute_reply": "2021-12-24T00:25:53.834038Z"
    },
    "papermill": {
     "duration": 0.032643,
     "end_time": "2021-12-24T00:25:53.834180",
     "exception": false,
     "start_time": "2021-12-24T00:25:53.801537",
     "status": "completed"
    },
    "tags": []
   },
   "outputs": [],
   "source": [
    "#hide\n",
    "# cols = ['name','group','day','value']"
   ]
  },
  {
   "cell_type": "code",
   "execution_count": 37,
   "id": "continued-sleeping",
   "metadata": {
    "execution": {
     "iopub.execute_input": "2021-12-24T00:25:53.892473Z",
     "iopub.status.busy": "2021-12-24T00:25:53.891842Z",
     "iopub.status.idle": "2021-12-24T00:25:53.895165Z",
     "shell.execute_reply": "2021-12-24T00:25:53.894685Z"
    },
    "papermill": {
     "duration": 0.033788,
     "end_time": "2021-12-24T00:25:53.895295",
     "exception": false,
     "start_time": "2021-12-24T00:25:53.861507",
     "status": "completed"
    },
    "tags": []
   },
   "outputs": [],
   "source": [
    "#hide\n",
    "# g.rename(columns= {'date':'day'},inplace = True)"
   ]
  },
  {
   "cell_type": "code",
   "execution_count": 38,
   "id": "major-fight",
   "metadata": {
    "execution": {
     "iopub.execute_input": "2021-12-24T00:25:53.952610Z",
     "iopub.status.busy": "2021-12-24T00:25:53.952110Z",
     "iopub.status.idle": "2021-12-24T00:25:53.953959Z",
     "shell.execute_reply": "2021-12-24T00:25:53.954381Z"
    },
    "papermill": {
     "duration": 0.031951,
     "end_time": "2021-12-24T00:25:53.954491",
     "exception": false,
     "start_time": "2021-12-24T00:25:53.922540",
     "status": "completed"
    },
    "tags": []
   },
   "outputs": [],
   "source": [
    "#hide\n",
    "# g = g[cols]"
   ]
  },
  {
   "cell_type": "code",
   "execution_count": 39,
   "id": "structured-mobile",
   "metadata": {
    "execution": {
     "iopub.execute_input": "2021-12-24T00:25:54.012912Z",
     "iopub.status.busy": "2021-12-24T00:25:54.012278Z",
     "iopub.status.idle": "2021-12-24T00:25:54.015185Z",
     "shell.execute_reply": "2021-12-24T00:25:54.014709Z"
    },
    "papermill": {
     "duration": 0.033672,
     "end_time": "2021-12-24T00:25:54.015310",
     "exception": false,
     "start_time": "2021-12-24T00:25:53.981638",
     "status": "completed"
    },
    "tags": []
   },
   "outputs": [],
   "source": [
    "# #hide\n",
    "# g = g[g.group.notna()]"
   ]
  },
  {
   "cell_type": "code",
   "execution_count": 40,
   "id": "determined-closing",
   "metadata": {
    "execution": {
     "iopub.execute_input": "2021-12-24T00:25:54.074193Z",
     "iopub.status.busy": "2021-12-24T00:25:54.073709Z",
     "iopub.status.idle": "2021-12-24T00:25:54.075522Z",
     "shell.execute_reply": "2021-12-24T00:25:54.075885Z"
    },
    "papermill": {
     "duration": 0.032876,
     "end_time": "2021-12-24T00:25:54.076005",
     "exception": false,
     "start_time": "2021-12-24T00:25:54.043129",
     "status": "completed"
    },
    "tags": []
   },
   "outputs": [],
   "source": [
    "# #hide\n",
    "# colors = dict(zip(\n",
    "#     [\"Oceania\", \"Europe\", \"Asia\", \"South America\", \"Middle East\", \"North America\", \"Africa\"],\n",
    "#     [\"#adb0ff\", \"#ffb3ff\", \"#90d595\", \"#e48381\", \"#aafbff\", \"#f7bb5f\", \"#eafb50\"]\n",
    "# ))\n",
    "# group_lk = g.set_index('name')['group'].to_dict()"
   ]
  },
  {
   "cell_type": "code",
   "execution_count": null,
   "id": "gross-drinking",
   "metadata": {
    "papermill": {
     "duration": 0.026808,
     "end_time": "2021-12-24T00:25:54.129884",
     "exception": false,
     "start_time": "2021-12-24T00:25:54.103076",
     "status": "completed"
    },
    "tags": []
   },
   "outputs": [],
   "source": []
  },
  {
   "cell_type": "code",
   "execution_count": 41,
   "id": "subject-macintosh",
   "metadata": {
    "execution": {
     "iopub.execute_input": "2021-12-24T00:25:54.189122Z",
     "iopub.status.busy": "2021-12-24T00:25:54.188491Z",
     "iopub.status.idle": "2021-12-24T00:25:54.189738Z",
     "shell.execute_reply": "2021-12-24T00:25:54.190342Z"
    },
    "papermill": {
     "duration": 0.033576,
     "end_time": "2021-12-24T00:25:54.190522",
     "exception": false,
     "start_time": "2021-12-24T00:25:54.156946",
     "status": "completed"
    },
    "tags": []
   },
   "outputs": [],
   "source": [
    "# #hide\n",
    "# fig, ax = plt.subplots(figsize=(15, 8))\n",
    "\n",
    "# def draw_barchart(current_day):\n",
    "#     dff = g[g['day'].eq(current_day)].sort_values(by='value', ascending=True).tail(10)\n",
    "#     ax.clear()\n",
    "#     ax.barh(dff['name'], dff['value'], color=[colors[group_lk[x]] for x in dff['name']])\n",
    "#     dx = dff['value'].max() / 200\n",
    "    \n",
    "#     for i, (value, name) in enumerate(zip(dff['value'], dff['name'])):\n",
    "#         ax.text(value-dx, i,     name,           size=14, weight=600, ha='right', va='bottom')\n",
    "#         ax.text(value-dx, i-.25, group_lk[name], size=10, color='#444444', ha='right', va='baseline')\n",
    "#         ax.text(value+dx, i,     f'{value:,.0f}',  size=14, ha='left',  va='center')\n",
    "#     ax.text(1, 0.4, current_day, transform=ax.transAxes, color='#777777', size=46, ha='right', weight=800)\n",
    "#     ax.text(0, 1.06, 'Population (thousands)', transform=ax.transAxes, size=12, color='#777777')\n",
    "#     ax.xaxis.set_major_formatter(ticker.StrMethodFormatter('{x:,.0f}'))\n",
    "#     ax.xaxis.set_ticks_position('top')\n",
    "#     ax.tick_params(axis='x', colors='#777777', labelsize=12)\n",
    "#     ax.set_yticks([])\n",
    "#     ax.margins(0, 0.01)\n",
    "#     ax.grid(which='major', axis='x', linestyle='-')\n",
    "#     ax.set_axisbelow(True)\n",
    "    \n",
    "#     ax.text(0, 1.15, 'Coronavirus',\n",
    "#             transform=ax.transAxes, size=24, weight=600, ha='left', va='top')\n",
    "# #     ax.text(1, 0, 'by @pratapvardhan; credit @jburnmurdoch', transform=ax.transAxes, color='#777777', ha='right',\n",
    "# #             bbox=dict(facecolor='white', alpha=0.8, edgecolor='white'))\n",
    "#     plt.box(False)"
   ]
  },
  {
   "cell_type": "code",
   "execution_count": 42,
   "id": "sexual-wages",
   "metadata": {
    "execution": {
     "iopub.execute_input": "2021-12-24T00:25:54.248833Z",
     "iopub.status.busy": "2021-12-24T00:25:54.248193Z",
     "iopub.status.idle": "2021-12-24T00:25:54.251131Z",
     "shell.execute_reply": "2021-12-24T00:25:54.250631Z"
    },
    "papermill": {
     "duration": 0.033343,
     "end_time": "2021-12-24T00:25:54.251251",
     "exception": false,
     "start_time": "2021-12-24T00:25:54.217908",
     "status": "completed"
    },
    "tags": []
   },
   "outputs": [],
   "source": [
    "# #hide_input\n",
    "# fig, ax = plt.subplots(figsize=(15, 8))\n",
    "# animator = animation.FuncAnimation(fig, draw_barchart, frames=range(g.day.values.min(), g.day.values.max()))\n",
    "# HTML(animator.to_jshtml())\n",
    "# # or use animator.to_html5_video() or animator.save() "
   ]
  },
  {
   "cell_type": "code",
   "execution_count": null,
   "id": "australian-container",
   "metadata": {
    "papermill": {
     "duration": 0.02716,
     "end_time": "2021-12-24T00:25:54.305910",
     "exception": false,
     "start_time": "2021-12-24T00:25:54.278750",
     "status": "completed"
    },
    "tags": []
   },
   "outputs": [],
   "source": []
  },
  {
   "cell_type": "code",
   "execution_count": null,
   "id": "mediterranean-pontiac",
   "metadata": {
    "papermill": {
     "duration": 0.02697,
     "end_time": "2021-12-24T00:25:54.359950",
     "exception": false,
     "start_time": "2021-12-24T00:25:54.332980",
     "status": "completed"
    },
    "tags": []
   },
   "outputs": [],
   "source": []
  },
  {
   "cell_type": "code",
   "execution_count": null,
   "id": "aging-legislature",
   "metadata": {
    "papermill": {
     "duration": 0.028789,
     "end_time": "2021-12-24T00:25:54.415983",
     "exception": false,
     "start_time": "2021-12-24T00:25:54.387194",
     "status": "completed"
    },
    "tags": []
   },
   "outputs": [],
   "source": []
  }
 ],
 "metadata": {
  "kernelspec": {
   "display_name": "Python 3",
   "language": "python",
   "name": "python3"
  },
  "language_info": {
   "codemirror_mode": {
    "name": "ipython",
    "version": 3
   },
   "file_extension": ".py",
   "mimetype": "text/x-python",
   "name": "python",
   "nbconvert_exporter": "python",
   "pygments_lexer": "ipython3",
   "version": "3.6.15"
  },
  "papermill": {
   "duration": 5.562743,
   "end_time": "2021-12-24T00:25:54.750557",
   "environment_variables": {},
   "exception": null,
   "input_path": "2020-03-21-covid19exp.ipynb",
   "output_path": "2020-03-21-covid19exp.ipynb",
   "parameters": {},
   "start_time": "2021-12-24T00:25:49.187814",
   "version": "2.0.0"
  }
 },
 "nbformat": 4,
 "nbformat_minor": 5
}