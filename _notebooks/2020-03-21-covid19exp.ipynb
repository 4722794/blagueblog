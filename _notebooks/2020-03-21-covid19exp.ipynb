{
 "cells": [
  {
   "cell_type": "markdown",
   "id": "muslim-click",
   "metadata": {
    "papermill": {
     "duration": 0.037328,
     "end_time": "2022-08-15T12:17:20.255023",
     "exception": false,
     "start_time": "2022-08-15T12:17:20.217695",
     "status": "completed"
    },
    "tags": []
   },
   "source": [
    "# COVID-19 Case Race\n",
    "> A race chart to see rising cases around the world\n",
    "\n",
    "- author: Hargun Oberoi\n",
    "- image: images/covid-overview.png\n",
    "- hide: false\n",
    "- badges: false"
   ]
  },
  {
   "cell_type": "code",
   "execution_count": 1,
   "id": "proof-material",
   "metadata": {
    "execution": {
     "iopub.execute_input": "2022-08-15T12:17:20.323732Z",
     "iopub.status.busy": "2022-08-15T12:17:20.316482Z",
     "iopub.status.idle": "2022-08-15T12:17:20.640039Z",
     "shell.execute_reply": "2022-08-15T12:17:20.639410Z"
    },
    "papermill": {
     "duration": 0.355408,
     "end_time": "2022-08-15T12:17:20.640192",
     "exception": false,
     "start_time": "2022-08-15T12:17:20.284784",
     "status": "completed"
    },
    "tags": []
   },
   "outputs": [],
   "source": [
    "#hide\n",
    "import numpy as np\n",
    "import pandas as pd\n",
    "from jinja2 import Template\n",
    "from IPython.display import HTML"
   ]
  },
  {
   "cell_type": "code",
   "execution_count": 2,
   "id": "developed-terminology",
   "metadata": {
    "execution": {
     "iopub.execute_input": "2022-08-15T12:17:20.702095Z",
     "iopub.status.busy": "2022-08-15T12:17:20.701387Z",
     "iopub.status.idle": "2022-08-15T12:17:20.702768Z",
     "shell.execute_reply": "2022-08-15T12:17:20.703234Z"
    },
    "papermill": {
     "duration": 0.035455,
     "end_time": "2022-08-15T12:17:20.703336",
     "exception": false,
     "start_time": "2022-08-15T12:17:20.667881",
     "status": "completed"
    },
    "tags": []
   },
   "outputs": [],
   "source": [
    "#hide\n",
    "\n",
    "# FETCH\n",
    "base_url = 'https://raw.githubusercontent.com/pratapvardhan/notebooks/master/covid19/'\n",
    "paths = {\n",
    "    'mapping': base_url + 'mapping_countries.csv',\n",
    "    'overview': base_url + 'overview.tpl'\n",
    "}"
   ]
  },
  {
   "cell_type": "code",
   "execution_count": 3,
   "id": "dynamic-saver",
   "metadata": {
    "execution": {
     "iopub.execute_input": "2022-08-15T12:17:20.769050Z",
     "iopub.status.busy": "2022-08-15T12:17:20.767515Z",
     "iopub.status.idle": "2022-08-15T12:17:20.771988Z",
     "shell.execute_reply": "2022-08-15T12:17:20.772398Z"
    },
    "papermill": {
     "duration": 0.042595,
     "end_time": "2022-08-15T12:17:20.772533",
     "exception": false,
     "start_time": "2022-08-15T12:17:20.729938",
     "status": "completed"
    },
    "tags": []
   },
   "outputs": [
    {
     "data": {
      "text/plain": [
       "'https://raw.githubusercontent.com/pratapvardhan/notebooks/master/covid19/mapping_countries.csv'"
      ]
     },
     "execution_count": 3,
     "metadata": {},
     "output_type": "execute_result"
    }
   ],
   "source": [
    "#hide\n",
    "paths['mapping']"
   ]
  },
  {
   "cell_type": "code",
   "execution_count": 4,
   "id": "urban-software",
   "metadata": {
    "execution": {
     "iopub.execute_input": "2022-08-15T12:17:20.834032Z",
     "iopub.status.busy": "2022-08-15T12:17:20.833409Z",
     "iopub.status.idle": "2022-08-15T12:17:20.837158Z",
     "shell.execute_reply": "2022-08-15T12:17:20.837556Z"
    },
    "papermill": {
     "duration": 0.038748,
     "end_time": "2022-08-15T12:17:20.837653",
     "exception": false,
     "start_time": "2022-08-15T12:17:20.798905",
     "status": "completed"
    },
    "tags": []
   },
   "outputs": [],
   "source": [
    "#hide\n",
    "def get_mappings(url):\n",
    "    df = pd.read_csv(url)\n",
    "    return {\n",
    "        'df': df,\n",
    "        'replace.country': dict(df.dropna(subset=['Name']).set_index('Country')['Name']),\n",
    "        'map.continent': dict(df.set_index('Name')['Continent'])\n",
    "    }"
   ]
  },
  {
   "cell_type": "code",
   "execution_count": 5,
   "id": "intimate-machinery",
   "metadata": {
    "execution": {
     "iopub.execute_input": "2022-08-15T12:17:20.902674Z",
     "iopub.status.busy": "2022-08-15T12:17:20.901015Z",
     "iopub.status.idle": "2022-08-15T12:17:20.926277Z",
     "shell.execute_reply": "2022-08-15T12:17:20.926787Z"
    },
    "papermill": {
     "duration": 0.061651,
     "end_time": "2022-08-15T12:17:20.926930",
     "exception": false,
     "start_time": "2022-08-15T12:17:20.865279",
     "status": "completed"
    },
    "tags": []
   },
   "outputs": [],
   "source": [
    "#hide\n",
    "mapping = get_mappings(paths['mapping'])"
   ]
  },
  {
   "cell_type": "code",
   "execution_count": 6,
   "id": "certified-tactics",
   "metadata": {
    "execution": {
     "iopub.execute_input": "2022-08-15T12:17:20.996515Z",
     "iopub.status.busy": "2022-08-15T12:17:20.995813Z",
     "iopub.status.idle": "2022-08-15T12:17:20.999699Z",
     "shell.execute_reply": "2022-08-15T12:17:20.999040Z"
    },
    "papermill": {
     "duration": 0.040822,
     "end_time": "2022-08-15T12:17:20.999797",
     "exception": false,
     "start_time": "2022-08-15T12:17:20.958975",
     "status": "completed"
    },
    "tags": []
   },
   "outputs": [],
   "source": [
    "#hide\n",
    "def get_template(path):\n",
    "    from urllib.parse import urlparse\n",
    "    if bool(urlparse(path).netloc):\n",
    "        from urllib.request import urlopen\n",
    "        return urlopen(path).read().decode('utf8')\n",
    "    return open(path).read()"
   ]
  },
  {
   "cell_type": "code",
   "execution_count": 7,
   "id": "realistic-blast",
   "metadata": {
    "execution": {
     "iopub.execute_input": "2022-08-15T12:17:21.070080Z",
     "iopub.status.busy": "2022-08-15T12:17:21.069447Z",
     "iopub.status.idle": "2022-08-15T12:17:21.071743Z",
     "shell.execute_reply": "2022-08-15T12:17:21.071135Z"
    },
    "papermill": {
     "duration": 0.040321,
     "end_time": "2022-08-15T12:17:21.071855",
     "exception": false,
     "start_time": "2022-08-15T12:17:21.031534",
     "status": "completed"
    },
    "tags": []
   },
   "outputs": [],
   "source": [
    "#hide\n",
    "def get_frame(name):\n",
    "    url = (\n",
    "        'https://raw.githubusercontent.com/CSSEGISandData/COVID-19/master/csse_covid_19_data/'\n",
    "        f'csse_covid_19_time_series/time_series_covid19_{name}_global.csv')\n",
    "    df = pd.read_csv(url)\n",
    "    # rename countries\n",
    "    df['Country/Region'] = df['Country/Region'].replace(mapping['replace.country'])\n",
    "    return df"
   ]
  },
  {
   "cell_type": "code",
   "execution_count": 8,
   "id": "affiliated-characterization",
   "metadata": {
    "execution": {
     "iopub.execute_input": "2022-08-15T12:17:21.137662Z",
     "iopub.status.busy": "2022-08-15T12:17:21.136957Z",
     "iopub.status.idle": "2022-08-15T12:17:21.140036Z",
     "shell.execute_reply": "2022-08-15T12:17:21.140636Z"
    },
    "papermill": {
     "duration": 0.03899,
     "end_time": "2022-08-15T12:17:21.140749",
     "exception": false,
     "start_time": "2022-08-15T12:17:21.101759",
     "status": "completed"
    },
    "tags": []
   },
   "outputs": [],
   "source": [
    "#hide\n",
    "def get_dates(df):\n",
    "    dt_cols = df.columns[~df.columns.isin(['Province/State', 'Country/Region', 'Lat', 'Long'])]\n",
    "    LAST_DATE_I = -1\n",
    "    # sometimes last column may be empty, then go backwards\n",
    "    for i in range(-1, -len(dt_cols), -1):\n",
    "        if not df[dt_cols[i]].fillna(0).eq(0).all():\n",
    "            LAST_DATE_I = i\n",
    "            break\n",
    "    return LAST_DATE_I, dt_cols"
   ]
  },
  {
   "cell_type": "code",
   "execution_count": 9,
   "id": "recent-optimization",
   "metadata": {
    "execution": {
     "iopub.execute_input": "2022-08-15T12:17:21.201462Z",
     "iopub.status.busy": "2022-08-15T12:17:21.200812Z",
     "iopub.status.idle": "2022-08-15T12:17:21.565767Z",
     "shell.execute_reply": "2022-08-15T12:17:21.565218Z"
    },
    "papermill": {
     "duration": 0.398464,
     "end_time": "2022-08-15T12:17:21.565905",
     "exception": false,
     "start_time": "2022-08-15T12:17:21.167441",
     "status": "completed"
    },
    "tags": []
   },
   "outputs": [],
   "source": [
    "#hide\n",
    "COL_REGION = 'Country/Region'\n",
    "# Confirmed, Recovered, Deaths\n",
    "df = get_frame('confirmed')\n",
    "# dft_: timeseries, dfc_: today country agg\n",
    "dft_cases = df\n",
    "dft_deaths = get_frame('deaths')\n",
    "dft_recovered = get_frame('recovered')\n",
    "LAST_DATE_I, dt_cols = get_dates(df)"
   ]
  },
  {
   "cell_type": "code",
   "execution_count": 10,
   "id": "absolute-copper",
   "metadata": {
    "execution": {
     "iopub.execute_input": "2022-08-15T12:17:21.628235Z",
     "iopub.status.busy": "2022-08-15T12:17:21.627657Z",
     "iopub.status.idle": "2022-08-15T12:17:21.630110Z",
     "shell.execute_reply": "2022-08-15T12:17:21.629546Z"
    },
    "papermill": {
     "duration": 0.036875,
     "end_time": "2022-08-15T12:17:21.630222",
     "exception": false,
     "start_time": "2022-08-15T12:17:21.593347",
     "status": "completed"
    },
    "tags": []
   },
   "outputs": [],
   "source": [
    "#hide\n",
    "LAST_DATE_I, dt_cols = get_dates(df)\n",
    "dt_today =dt_cols[LAST_DATE_I]\n",
    "# dt_5day = dt_cols[LAST_DATE_I - 5]\n",
    "dt_yday = dt_cols[LAST_DATE_I - 1]"
   ]
  },
  {
   "cell_type": "code",
   "execution_count": 11,
   "id": "restricted-sheriff",
   "metadata": {
    "execution": {
     "iopub.execute_input": "2022-08-15T12:17:21.693720Z",
     "iopub.status.busy": "2022-08-15T12:17:21.693166Z",
     "iopub.status.idle": "2022-08-15T12:17:21.703074Z",
     "shell.execute_reply": "2022-08-15T12:17:21.702683Z"
    },
    "papermill": {
     "duration": 0.044459,
     "end_time": "2022-08-15T12:17:21.703160",
     "exception": false,
     "start_time": "2022-08-15T12:17:21.658701",
     "status": "completed"
    },
    "tags": []
   },
   "outputs": [],
   "source": [
    "#hide\n",
    "dfc_cases = dft_cases.groupby(COL_REGION)[dt_today].sum()\n",
    "dfc_deaths = dft_deaths.groupby(COL_REGION)[dt_today].sum()\n",
    "# dfp_cases = dft_cases.groupby(COL_REGION)[dt_5day].sum()\n",
    "# dfp_deaths = dft_deaths.groupby(COL_REGION)[dt_5day].sum()\n",
    "dfp_cases = dft_cases.groupby(COL_REGION)[dt_yday].sum()\n",
    "dfp_deaths = dft_deaths.groupby(COL_REGION)[dt_yday].sum()"
   ]
  },
  {
   "cell_type": "code",
   "execution_count": 12,
   "id": "deluxe-hepatitis",
   "metadata": {
    "execution": {
     "iopub.execute_input": "2022-08-15T12:17:21.764379Z",
     "iopub.status.busy": "2022-08-15T12:17:21.763832Z",
     "iopub.status.idle": "2022-08-15T12:17:21.770321Z",
     "shell.execute_reply": "2022-08-15T12:17:21.769716Z"
    },
    "papermill": {
     "duration": 0.040985,
     "end_time": "2022-08-15T12:17:21.770429",
     "exception": false,
     "start_time": "2022-08-15T12:17:21.729444",
     "status": "completed"
    },
    "tags": []
   },
   "outputs": [],
   "source": [
    "#hide\n",
    "df_table = (pd.DataFrame(dict(Cases = dfc_cases, Deaths = dfc_deaths, PCases = dfp_cases, PDeaths = dfp_deaths))\n",
    "            .sort_values(by = ['Cases','Deaths'], ascending = [False, False])\n",
    "            .reset_index())"
   ]
  },
  {
   "cell_type": "code",
   "execution_count": 13,
   "id": "educational-chancellor",
   "metadata": {
    "execution": {
     "iopub.execute_input": "2022-08-15T12:17:21.842117Z",
     "iopub.status.busy": "2022-08-15T12:17:21.841571Z",
     "iopub.status.idle": "2022-08-15T12:17:21.849540Z",
     "shell.execute_reply": "2022-08-15T12:17:21.848887Z"
    },
    "papermill": {
     "duration": 0.05274,
     "end_time": "2022-08-15T12:17:21.849655",
     "exception": false,
     "start_time": "2022-08-15T12:17:21.796915",
     "status": "completed"
    },
    "tags": []
   },
   "outputs": [
    {
     "data": {
      "text/html": [
       "<div>\n",
       "<style scoped>\n",
       "    .dataframe tbody tr th:only-of-type {\n",
       "        vertical-align: middle;\n",
       "    }\n",
       "\n",
       "    .dataframe tbody tr th {\n",
       "        vertical-align: top;\n",
       "    }\n",
       "\n",
       "    .dataframe thead th {\n",
       "        text-align: right;\n",
       "    }\n",
       "</style>\n",
       "<table border=\"1\" class=\"dataframe\">\n",
       "  <thead>\n",
       "    <tr style=\"text-align: right;\">\n",
       "      <th></th>\n",
       "      <th>Country/Region</th>\n",
       "      <th>Cases</th>\n",
       "      <th>Deaths</th>\n",
       "      <th>PCases</th>\n",
       "      <th>PDeaths</th>\n",
       "      <th>Cases (+)</th>\n",
       "      <th>Deaths (+)</th>\n",
       "      <th>Fatality Rate</th>\n",
       "      <th>Continent</th>\n",
       "    </tr>\n",
       "  </thead>\n",
       "  <tbody>\n",
       "    <tr>\n",
       "      <th>0</th>\n",
       "      <td>US</td>\n",
       "      <td>92927104</td>\n",
       "      <td>1037021</td>\n",
       "      <td>92919750</td>\n",
       "      <td>1037017</td>\n",
       "      <td>7354</td>\n",
       "      <td>4</td>\n",
       "      <td>1.12</td>\n",
       "      <td>North America</td>\n",
       "    </tr>\n",
       "    <tr>\n",
       "      <th>1</th>\n",
       "      <td>India</td>\n",
       "      <td>44268381</td>\n",
       "      <td>527069</td>\n",
       "      <td>44253464</td>\n",
       "      <td>527037</td>\n",
       "      <td>14917</td>\n",
       "      <td>32</td>\n",
       "      <td>1.19</td>\n",
       "      <td>Asia</td>\n",
       "    </tr>\n",
       "    <tr>\n",
       "      <th>2</th>\n",
       "      <td>France</td>\n",
       "      <td>34406092</td>\n",
       "      <td>154104</td>\n",
       "      <td>34406092</td>\n",
       "      <td>154104</td>\n",
       "      <td>0</td>\n",
       "      <td>0</td>\n",
       "      <td>0.45</td>\n",
       "      <td>Europe</td>\n",
       "    </tr>\n",
       "    <tr>\n",
       "      <th>3</th>\n",
       "      <td>Brazil</td>\n",
       "      <td>34148131</td>\n",
       "      <td>681253</td>\n",
       "      <td>34148131</td>\n",
       "      <td>681253</td>\n",
       "      <td>0</td>\n",
       "      <td>0</td>\n",
       "      <td>1.99</td>\n",
       "      <td>South America</td>\n",
       "    </tr>\n",
       "    <tr>\n",
       "      <th>4</th>\n",
       "      <td>Germany</td>\n",
       "      <td>31535340</td>\n",
       "      <td>145698</td>\n",
       "      <td>31535343</td>\n",
       "      <td>145698</td>\n",
       "      <td>0</td>\n",
       "      <td>0</td>\n",
       "      <td>0.46</td>\n",
       "      <td>Europe</td>\n",
       "    </tr>\n",
       "  </tbody>\n",
       "</table>\n",
       "</div>"
      ],
      "text/plain": [
       "  Country/Region     Cases   Deaths    PCases  PDeaths  Cases (+)  Deaths (+)  \\\n",
       "0             US  92927104  1037021  92919750  1037017       7354           4   \n",
       "1          India  44268381   527069  44253464   527037      14917          32   \n",
       "2         France  34406092   154104  34406092   154104          0           0   \n",
       "3         Brazil  34148131   681253  34148131   681253          0           0   \n",
       "4        Germany  31535340   145698  31535343   145698          0           0   \n",
       "\n",
       "   Fatality Rate      Continent  \n",
       "0           1.12  North America  \n",
       "1           1.19           Asia  \n",
       "2           0.45         Europe  \n",
       "3           1.99  South America  \n",
       "4           0.46         Europe  "
      ]
     },
     "execution_count": 13,
     "metadata": {},
     "output_type": "execute_result"
    }
   ],
   "source": [
    "#hide\n",
    "for c in 'Cases, Deaths'.split(', '):\n",
    "    df_table[f'{c} (+)'] = (df_table[c] - df_table[f'P{c}']).clip(0)\n",
    "    #Clip ça veut dire, les chiffres negatif sont interdit\n",
    "df_table['Fatality Rate'] = (100* df_table['Deaths']/ df_table['Cases']).round(2)\n",
    "df_table['Continent'] = df_table['Country/Region'].map(mapping['map.continent'])\n",
    "df_table.head(5)"
   ]
  },
  {
   "cell_type": "code",
   "execution_count": 14,
   "id": "aboriginal-bulgaria",
   "metadata": {
    "execution": {
     "iopub.execute_input": "2022-08-15T12:17:21.908786Z",
     "iopub.status.busy": "2022-08-15T12:17:21.908283Z",
     "iopub.status.idle": "2022-08-15T12:17:21.911753Z",
     "shell.execute_reply": "2022-08-15T12:17:21.912202Z"
    },
    "papermill": {
     "duration": 0.035403,
     "end_time": "2022-08-15T12:17:21.912296",
     "exception": false,
     "start_time": "2022-08-15T12:17:21.876893",
     "status": "completed"
    },
    "tags": []
   },
   "outputs": [],
   "source": [
    "#hide\n",
    "#delete problematic countries from table\n",
    "df_table = df_table[~df_table['Country/Region'].isin(['Cape Verde', 'Cruise Ship', 'Kosovo'])]"
   ]
  },
  {
   "cell_type": "code",
   "execution_count": 15,
   "id": "fantastic-effect",
   "metadata": {
    "execution": {
     "iopub.execute_input": "2022-08-15T12:17:21.977761Z",
     "iopub.status.busy": "2022-08-15T12:17:21.976923Z",
     "iopub.status.idle": "2022-08-15T12:17:21.993321Z",
     "shell.execute_reply": "2022-08-15T12:17:21.992857Z"
    },
    "papermill": {
     "duration": 0.05411,
     "end_time": "2022-08-15T12:17:21.993404",
     "exception": false,
     "start_time": "2022-08-15T12:17:21.939294",
     "status": "completed"
    },
    "tags": []
   },
   "outputs": [
    {
     "data": {
      "text/html": [
       "<div>\n",
       "<style scoped>\n",
       "    .dataframe tbody tr th:only-of-type {\n",
       "        vertical-align: middle;\n",
       "    }\n",
       "\n",
       "    .dataframe tbody tr th {\n",
       "        vertical-align: top;\n",
       "    }\n",
       "\n",
       "    .dataframe thead th {\n",
       "        text-align: right;\n",
       "    }\n",
       "</style>\n",
       "<table border=\"1\" class=\"dataframe\">\n",
       "  <thead>\n",
       "    <tr style=\"text-align: right;\">\n",
       "      <th></th>\n",
       "      <th>Country/Region</th>\n",
       "      <th>Cases</th>\n",
       "      <th>Deaths</th>\n",
       "      <th>PCases</th>\n",
       "      <th>PDeaths</th>\n",
       "      <th>Cases (+)</th>\n",
       "      <th>Deaths (+)</th>\n",
       "      <th>Fatality Rate</th>\n",
       "      <th>Continent</th>\n",
       "    </tr>\n",
       "  </thead>\n",
       "  <tbody>\n",
       "    <tr>\n",
       "      <th>0</th>\n",
       "      <td>US</td>\n",
       "      <td>92927104</td>\n",
       "      <td>1037021</td>\n",
       "      <td>92919750</td>\n",
       "      <td>1037017</td>\n",
       "      <td>7354</td>\n",
       "      <td>4</td>\n",
       "      <td>1.1</td>\n",
       "      <td>North America</td>\n",
       "    </tr>\n",
       "    <tr>\n",
       "      <th>1</th>\n",
       "      <td>India</td>\n",
       "      <td>44268381</td>\n",
       "      <td>527069</td>\n",
       "      <td>44253464</td>\n",
       "      <td>527037</td>\n",
       "      <td>14917</td>\n",
       "      <td>32</td>\n",
       "      <td>1.2</td>\n",
       "      <td>Asia</td>\n",
       "    </tr>\n",
       "    <tr>\n",
       "      <th>2</th>\n",
       "      <td>France</td>\n",
       "      <td>34406092</td>\n",
       "      <td>154104</td>\n",
       "      <td>34406092</td>\n",
       "      <td>154104</td>\n",
       "      <td>0</td>\n",
       "      <td>0</td>\n",
       "      <td>0.4</td>\n",
       "      <td>Europe</td>\n",
       "    </tr>\n",
       "    <tr>\n",
       "      <th>3</th>\n",
       "      <td>Brazil</td>\n",
       "      <td>34148131</td>\n",
       "      <td>681253</td>\n",
       "      <td>34148131</td>\n",
       "      <td>681253</td>\n",
       "      <td>0</td>\n",
       "      <td>0</td>\n",
       "      <td>2.0</td>\n",
       "      <td>South America</td>\n",
       "    </tr>\n",
       "    <tr>\n",
       "      <th>4</th>\n",
       "      <td>Germany</td>\n",
       "      <td>31535340</td>\n",
       "      <td>145698</td>\n",
       "      <td>31535343</td>\n",
       "      <td>145698</td>\n",
       "      <td>0</td>\n",
       "      <td>0</td>\n",
       "      <td>0.5</td>\n",
       "      <td>Europe</td>\n",
       "    </tr>\n",
       "  </tbody>\n",
       "</table>\n",
       "</div>"
      ],
      "text/plain": [
       "  Country/Region     Cases   Deaths    PCases  PDeaths  Cases (+)  Deaths (+)  \\\n",
       "0             US  92927104  1037021  92919750  1037017       7354           4   \n",
       "1          India  44268381   527069  44253464   527037      14917          32   \n",
       "2         France  34406092   154104  34406092   154104          0           0   \n",
       "3         Brazil  34148131   681253  34148131   681253          0           0   \n",
       "4        Germany  31535340   145698  31535343   145698          0           0   \n",
       "\n",
       "   Fatality Rate      Continent  \n",
       "0            1.1  North America  \n",
       "1            1.2           Asia  \n",
       "2            0.4         Europe  \n",
       "3            2.0  South America  \n",
       "4            0.5         Europe  "
      ]
     },
     "execution_count": 15,
     "metadata": {},
     "output_type": "execute_result"
    }
   ],
   "source": [
    "#hide\n",
    "df_table = (pd.DataFrame(dict(Cases=dfc_cases, Deaths=dfc_deaths, PCases=dfp_cases, PDeaths=dfp_deaths))\n",
    "             .sort_values(by=['Cases', 'Deaths'], ascending=[False, False])\n",
    "             .reset_index())\n",
    "df_table.rename(columns={'index': 'Country/Region'}, inplace=True)\n",
    "for c in 'Cases, Deaths'.split(', '):\n",
    "    df_table[f'{c} (+)'] = (df_table[c] - df_table[f'P{c}']).clip(0)  # DATA BUG\n",
    "df_table['Fatality Rate'] = (100 * df_table['Deaths'] / df_table['Cases']).round(1)\n",
    "df_table['Continent'] = df_table['Country/Region'].map(mapping['map.continent'])\n",
    "df_table.head(5)"
   ]
  },
  {
   "cell_type": "code",
   "execution_count": 16,
   "id": "fewer-occasion",
   "metadata": {
    "execution": {
     "iopub.execute_input": "2022-08-15T12:17:22.058200Z",
     "iopub.status.busy": "2022-08-15T12:17:22.057019Z",
     "iopub.status.idle": "2022-08-15T12:17:22.059484Z",
     "shell.execute_reply": "2022-08-15T12:17:22.060376Z"
    },
    "papermill": {
     "duration": 0.03977,
     "end_time": "2022-08-15T12:17:22.060642",
     "exception": false,
     "start_time": "2022-08-15T12:17:22.020872",
     "status": "completed"
    },
    "tags": []
   },
   "outputs": [],
   "source": [
    "#hide\n",
    "#delete problematic countries from table\n",
    "df_table = df_table[~df_table['Country/Region'].isin(['Cape Verde', 'Cruise Ship', 'Kosovo'])]"
   ]
  },
  {
   "cell_type": "code",
   "execution_count": 17,
   "id": "related-center",
   "metadata": {
    "execution": {
     "iopub.execute_input": "2022-08-15T12:17:22.142934Z",
     "iopub.status.busy": "2022-08-15T12:17:22.142340Z",
     "iopub.status.idle": "2022-08-15T12:17:22.145191Z",
     "shell.execute_reply": "2022-08-15T12:17:22.144642Z"
    },
    "papermill": {
     "duration": 0.053228,
     "end_time": "2022-08-15T12:17:22.145309",
     "exception": false,
     "start_time": "2022-08-15T12:17:22.092081",
     "status": "completed"
    },
    "tags": []
   },
   "outputs": [],
   "source": [
    "#hide\n",
    "metrics = [df_table.columns[index] for index in [1,2,5,6]]\n",
    "# s_china = df_table[df_table['Country/Region'].eq('China')][metrics].sum().add_prefix('China ')\n",
    "s_us = df_table[df_table['Country/Region'].eq('US')][metrics].sum().add_prefix('US ')\n",
    "s_eu = df_table[df_table['Continent'].eq('Europe')][metrics].sum().add_prefix('EU ')\n",
    "s_ind = df_table[df_table['Country/Region'].eq('India')][metrics].sum().add_prefix('India ')\n",
    "summary = {'updated': pd.to_datetime(dt_today), 'since': pd.to_datetime(dt_yday)}\n",
    "summary = {'updated': pd.to_datetime(dt_today), 'since': pd.to_datetime(dt_yday)}\n",
    "summary = {**summary, **df_table[metrics].sum(), **s_ind, **s_us, **s_eu}"
   ]
  },
  {
   "cell_type": "code",
   "execution_count": 18,
   "id": "engaging-syndrome",
   "metadata": {
    "execution": {
     "iopub.execute_input": "2022-08-15T12:17:22.208616Z",
     "iopub.status.busy": "2022-08-15T12:17:22.208080Z",
     "iopub.status.idle": "2022-08-15T12:17:22.230668Z",
     "shell.execute_reply": "2022-08-15T12:17:22.230049Z"
    },
    "papermill": {
     "duration": 0.056846,
     "end_time": "2022-08-15T12:17:22.230785",
     "exception": false,
     "start_time": "2022-08-15T12:17:22.173939",
     "status": "completed"
    },
    "tags": []
   },
   "outputs": [],
   "source": [
    "#hide\n",
    "dft_ct_new_cases = dft_cases.groupby(COL_REGION)[dt_cols].sum().diff(axis=1).fillna(0).astype(int)"
   ]
  },
  {
   "cell_type": "code",
   "execution_count": 19,
   "id": "neutral-assignment",
   "metadata": {
    "execution": {
     "iopub.execute_input": "2022-08-15T12:17:22.296433Z",
     "iopub.status.busy": "2022-08-15T12:17:22.295765Z",
     "iopub.status.idle": "2022-08-15T12:17:22.298347Z",
     "shell.execute_reply": "2022-08-15T12:17:22.298880Z"
    },
    "papermill": {
     "duration": 0.038282,
     "end_time": "2022-08-15T12:17:22.299011",
     "exception": false,
     "start_time": "2022-08-15T12:17:22.260729",
     "status": "completed"
    },
    "tags": []
   },
   "outputs": [],
   "source": [
    "#hide\n",
    "everydaycases = dft_ct_new_cases.cumsum(axis=1)"
   ]
  },
  {
   "cell_type": "code",
   "execution_count": 20,
   "id": "parliamentary-calgary",
   "metadata": {
    "execution": {
     "iopub.execute_input": "2022-08-15T12:17:22.362897Z",
     "iopub.status.busy": "2022-08-15T12:17:22.362322Z",
     "iopub.status.idle": "2022-08-15T12:17:22.982286Z",
     "shell.execute_reply": "2022-08-15T12:17:22.981694Z"
    },
    "papermill": {
     "duration": 0.654729,
     "end_time": "2022-08-15T12:17:22.982413",
     "exception": false,
     "start_time": "2022-08-15T12:17:22.327684",
     "status": "completed"
    },
    "tags": []
   },
   "outputs": [],
   "source": [
    "#hide\n",
    "import pandas as pd\n",
    "import matplotlib.pyplot as plt\n",
    "import matplotlib.ticker as ticker\n",
    "import matplotlib.animation as animation\n",
    "from IPython.display import HTML"
   ]
  },
  {
   "cell_type": "code",
   "execution_count": 21,
   "id": "lasting-extraction",
   "metadata": {
    "execution": {
     "iopub.execute_input": "2022-08-15T12:17:23.057132Z",
     "iopub.status.busy": "2022-08-15T12:17:23.056392Z",
     "iopub.status.idle": "2022-08-15T12:17:23.064317Z",
     "shell.execute_reply": "2022-08-15T12:17:23.063798Z"
    },
    "papermill": {
     "duration": 0.049247,
     "end_time": "2022-08-15T12:17:23.064439",
     "exception": false,
     "start_time": "2022-08-15T12:17:23.015192",
     "status": "completed"
    },
    "tags": []
   },
   "outputs": [],
   "source": [
    "#hide\n",
    "t = everydaycases.stack()"
   ]
  },
  {
   "cell_type": "code",
   "execution_count": 22,
   "id": "premier-sleeve",
   "metadata": {
    "execution": {
     "iopub.execute_input": "2022-08-15T12:17:23.133190Z",
     "iopub.status.busy": "2022-08-15T12:17:23.128120Z",
     "iopub.status.idle": "2022-08-15T12:17:23.141623Z",
     "shell.execute_reply": "2022-08-15T12:17:23.142354Z"
    },
    "papermill": {
     "duration": 0.04675,
     "end_time": "2022-08-15T12:17:23.142464",
     "exception": false,
     "start_time": "2022-08-15T12:17:23.095714",
     "status": "completed"
    },
    "tags": []
   },
   "outputs": [],
   "source": [
    "#hide\n",
    "g = t.reset_index(['Country/Region'])"
   ]
  },
  {
   "cell_type": "code",
   "execution_count": 23,
   "id": "distributed-pittsburgh",
   "metadata": {
    "execution": {
     "iopub.execute_input": "2022-08-15T12:17:23.205404Z",
     "iopub.status.busy": "2022-08-15T12:17:23.204760Z",
     "iopub.status.idle": "2022-08-15T12:17:23.207074Z",
     "shell.execute_reply": "2022-08-15T12:17:23.207613Z"
    },
    "papermill": {
     "duration": 0.037865,
     "end_time": "2022-08-15T12:17:23.207729",
     "exception": false,
     "start_time": "2022-08-15T12:17:23.169864",
     "status": "completed"
    },
    "tags": []
   },
   "outputs": [],
   "source": [
    "#hide\n",
    "g.index.name = 'date'"
   ]
  },
  {
   "cell_type": "code",
   "execution_count": 24,
   "id": "naked-donor",
   "metadata": {
    "execution": {
     "iopub.execute_input": "2022-08-15T12:17:23.274892Z",
     "iopub.status.busy": "2022-08-15T12:17:23.273727Z",
     "iopub.status.idle": "2022-08-15T12:17:23.275792Z",
     "shell.execute_reply": "2022-08-15T12:17:23.276297Z"
    },
    "papermill": {
     "duration": 0.037649,
     "end_time": "2022-08-15T12:17:23.276431",
     "exception": false,
     "start_time": "2022-08-15T12:17:23.238782",
     "status": "completed"
    },
    "tags": []
   },
   "outputs": [],
   "source": [
    "# #hide\n",
    "# g = g.reset_index(['date'])"
   ]
  },
  {
   "cell_type": "code",
   "execution_count": 25,
   "id": "incomplete-mustang",
   "metadata": {
    "execution": {
     "iopub.execute_input": "2022-08-15T12:17:23.342462Z",
     "iopub.status.busy": "2022-08-15T12:17:23.341278Z",
     "iopub.status.idle": "2022-08-15T12:17:23.343750Z",
     "shell.execute_reply": "2022-08-15T12:17:23.344675Z"
    },
    "papermill": {
     "duration": 0.038699,
     "end_time": "2022-08-15T12:17:23.344899",
     "exception": false,
     "start_time": "2022-08-15T12:17:23.306200",
     "status": "completed"
    },
    "tags": []
   },
   "outputs": [],
   "source": [
    "#hide\n",
    "# g.head()"
   ]
  },
  {
   "cell_type": "code",
   "execution_count": 26,
   "id": "specific-kruger",
   "metadata": {
    "execution": {
     "iopub.execute_input": "2022-08-15T12:17:23.414097Z",
     "iopub.status.busy": "2022-08-15T12:17:23.412918Z",
     "iopub.status.idle": "2022-08-15T12:17:23.415381Z",
     "shell.execute_reply": "2022-08-15T12:17:23.416280Z"
    },
    "papermill": {
     "duration": 0.039057,
     "end_time": "2022-08-15T12:17:23.416536",
     "exception": false,
     "start_time": "2022-08-15T12:17:23.377479",
     "status": "completed"
    },
    "tags": []
   },
   "outputs": [],
   "source": [
    "#hide\n",
    "# g.columns = ['date','country','cases']"
   ]
  },
  {
   "cell_type": "code",
   "execution_count": 27,
   "id": "tender-conversion",
   "metadata": {
    "execution": {
     "iopub.execute_input": "2022-08-15T12:17:23.483490Z",
     "iopub.status.busy": "2022-08-15T12:17:23.482944Z",
     "iopub.status.idle": "2022-08-15T12:17:23.486558Z",
     "shell.execute_reply": "2022-08-15T12:17:23.487218Z"
    },
    "papermill": {
     "duration": 0.039135,
     "end_time": "2022-08-15T12:17:23.487352",
     "exception": false,
     "start_time": "2022-08-15T12:17:23.448217",
     "status": "completed"
    },
    "tags": []
   },
   "outputs": [],
   "source": [
    "#hide\n",
    "# g['continent'] = g.country"
   ]
  },
  {
   "cell_type": "code",
   "execution_count": 28,
   "id": "substantial-wilderness",
   "metadata": {
    "execution": {
     "iopub.execute_input": "2022-08-15T12:17:23.550451Z",
     "iopub.status.busy": "2022-08-15T12:17:23.549918Z",
     "iopub.status.idle": "2022-08-15T12:17:23.553869Z",
     "shell.execute_reply": "2022-08-15T12:17:23.553379Z"
    },
    "papermill": {
     "duration": 0.037953,
     "end_time": "2022-08-15T12:17:23.553975",
     "exception": false,
     "start_time": "2022-08-15T12:17:23.516022",
     "status": "completed"
    },
    "tags": []
   },
   "outputs": [],
   "source": [
    "#hide\n",
    "# cols = list(g.columns.values)"
   ]
  },
  {
   "cell_type": "code",
   "execution_count": 29,
   "id": "solved-farming",
   "metadata": {
    "execution": {
     "iopub.execute_input": "2022-08-15T12:17:23.615708Z",
     "iopub.status.busy": "2022-08-15T12:17:23.615234Z",
     "iopub.status.idle": "2022-08-15T12:17:23.617788Z",
     "shell.execute_reply": "2022-08-15T12:17:23.618252Z"
    },
    "papermill": {
     "duration": 0.035733,
     "end_time": "2022-08-15T12:17:23.618344",
     "exception": false,
     "start_time": "2022-08-15T12:17:23.582611",
     "status": "completed"
    },
    "tags": []
   },
   "outputs": [],
   "source": [
    "#hide\n",
    "# cols.insert(0, cols.pop())"
   ]
  },
  {
   "cell_type": "code",
   "execution_count": 30,
   "id": "executed-adoption",
   "metadata": {
    "execution": {
     "iopub.execute_input": "2022-08-15T12:17:23.680223Z",
     "iopub.status.busy": "2022-08-15T12:17:23.679521Z",
     "iopub.status.idle": "2022-08-15T12:17:23.682727Z",
     "shell.execute_reply": "2022-08-15T12:17:23.683098Z"
    },
    "papermill": {
     "duration": 0.036216,
     "end_time": "2022-08-15T12:17:23.683189",
     "exception": false,
     "start_time": "2022-08-15T12:17:23.646973",
     "status": "completed"
    },
    "tags": []
   },
   "outputs": [],
   "source": [
    "#hide\n",
    "# g = g[cols]"
   ]
  },
  {
   "cell_type": "code",
   "execution_count": 31,
   "id": "subject-dublin",
   "metadata": {
    "execution": {
     "iopub.execute_input": "2022-08-15T12:17:23.743412Z",
     "iopub.status.busy": "2022-08-15T12:17:23.742907Z",
     "iopub.status.idle": "2022-08-15T12:17:23.746512Z",
     "shell.execute_reply": "2022-08-15T12:17:23.746908Z"
    },
    "papermill": {
     "duration": 0.035314,
     "end_time": "2022-08-15T12:17:23.747016",
     "exception": false,
     "start_time": "2022-08-15T12:17:23.711702",
     "status": "completed"
    },
    "tags": []
   },
   "outputs": [],
   "source": [
    "#hide\n",
    "# g['continent'] = g['continent'].map(mapping['map.continent'])"
   ]
  },
  {
   "cell_type": "code",
   "execution_count": 32,
   "id": "freelance-scout",
   "metadata": {
    "execution": {
     "iopub.execute_input": "2022-08-15T12:17:23.810692Z",
     "iopub.status.busy": "2022-08-15T12:17:23.809522Z",
     "iopub.status.idle": "2022-08-15T12:17:23.811973Z",
     "shell.execute_reply": "2022-08-15T12:17:23.812906Z"
    },
    "papermill": {
     "duration": 0.036376,
     "end_time": "2022-08-15T12:17:23.813121",
     "exception": false,
     "start_time": "2022-08-15T12:17:23.776745",
     "status": "completed"
    },
    "tags": []
   },
   "outputs": [],
   "source": [
    "#hide\n",
    "# g.head()"
   ]
  },
  {
   "cell_type": "code",
   "execution_count": 33,
   "id": "limited-engine",
   "metadata": {
    "execution": {
     "iopub.execute_input": "2022-08-15T12:17:23.874904Z",
     "iopub.status.busy": "2022-08-15T12:17:23.873737Z",
     "iopub.status.idle": "2022-08-15T12:17:23.876587Z",
     "shell.execute_reply": "2022-08-15T12:17:23.876032Z"
    },
    "papermill": {
     "duration": 0.035708,
     "end_time": "2022-08-15T12:17:23.876672",
     "exception": false,
     "start_time": "2022-08-15T12:17:23.840964",
     "status": "completed"
    },
    "tags": []
   },
   "outputs": [],
   "source": [
    "# hide\n",
    "# g['date'] = g['date'].astype('datetime64[ns]')"
   ]
  },
  {
   "cell_type": "code",
   "execution_count": 34,
   "id": "sophisticated-supervisor",
   "metadata": {
    "execution": {
     "iopub.execute_input": "2022-08-15T12:17:23.942163Z",
     "iopub.status.busy": "2022-08-15T12:17:23.940988Z",
     "iopub.status.idle": "2022-08-15T12:17:23.944384Z",
     "shell.execute_reply": "2022-08-15T12:17:23.943514Z"
    },
    "papermill": {
     "duration": 0.040108,
     "end_time": "2022-08-15T12:17:23.944616",
     "exception": false,
     "start_time": "2022-08-15T12:17:23.904508",
     "status": "completed"
    },
    "tags": []
   },
   "outputs": [],
   "source": [
    "#hide\n",
    "# g['date'] = g.date.dt.dayofyear"
   ]
  },
  {
   "cell_type": "code",
   "execution_count": 35,
   "id": "inside-dubai",
   "metadata": {
    "execution": {
     "iopub.execute_input": "2022-08-15T12:17:24.012943Z",
     "iopub.status.busy": "2022-08-15T12:17:24.012285Z",
     "iopub.status.idle": "2022-08-15T12:17:24.016068Z",
     "shell.execute_reply": "2022-08-15T12:17:24.015434Z"
    },
    "papermill": {
     "duration": 0.038506,
     "end_time": "2022-08-15T12:17:24.016179",
     "exception": false,
     "start_time": "2022-08-15T12:17:23.977673",
     "status": "completed"
    },
    "tags": []
   },
   "outputs": [],
   "source": [
    "#hide\n",
    "# g = g.rename(columns= {'continent':'group','country':'name','cases':'value'})"
   ]
  },
  {
   "cell_type": "code",
   "execution_count": 36,
   "id": "fleet-motorcycle",
   "metadata": {
    "execution": {
     "iopub.execute_input": "2022-08-15T12:17:24.079549Z",
     "iopub.status.busy": "2022-08-15T12:17:24.078873Z",
     "iopub.status.idle": "2022-08-15T12:17:24.082863Z",
     "shell.execute_reply": "2022-08-15T12:17:24.083321Z"
    },
    "papermill": {
     "duration": 0.037593,
     "end_time": "2022-08-15T12:17:24.083442",
     "exception": false,
     "start_time": "2022-08-15T12:17:24.045849",
     "status": "completed"
    },
    "tags": []
   },
   "outputs": [],
   "source": [
    "#hide\n",
    "# cols = ['name','group','day','value']"
   ]
  },
  {
   "cell_type": "code",
   "execution_count": 37,
   "id": "continued-sleeping",
   "metadata": {
    "execution": {
     "iopub.execute_input": "2022-08-15T12:17:24.148965Z",
     "iopub.status.busy": "2022-08-15T12:17:24.148175Z",
     "iopub.status.idle": "2022-08-15T12:17:24.149970Z",
     "shell.execute_reply": "2022-08-15T12:17:24.149517Z"
    },
    "papermill": {
     "duration": 0.037651,
     "end_time": "2022-08-15T12:17:24.150139",
     "exception": false,
     "start_time": "2022-08-15T12:17:24.112488",
     "status": "completed"
    },
    "tags": []
   },
   "outputs": [],
   "source": [
    "#hide\n",
    "# g.rename(columns= {'date':'day'},inplace = True)"
   ]
  },
  {
   "cell_type": "code",
   "execution_count": 38,
   "id": "major-fight",
   "metadata": {
    "execution": {
     "iopub.execute_input": "2022-08-15T12:17:24.212197Z",
     "iopub.status.busy": "2022-08-15T12:17:24.211470Z",
     "iopub.status.idle": "2022-08-15T12:17:24.213661Z",
     "shell.execute_reply": "2022-08-15T12:17:24.213084Z"
    },
    "papermill": {
     "duration": 0.034564,
     "end_time": "2022-08-15T12:17:24.213781",
     "exception": false,
     "start_time": "2022-08-15T12:17:24.179217",
     "status": "completed"
    },
    "tags": []
   },
   "outputs": [],
   "source": [
    "#hide\n",
    "# g = g[cols]"
   ]
  },
  {
   "cell_type": "code",
   "execution_count": 39,
   "id": "structured-mobile",
   "metadata": {
    "execution": {
     "iopub.execute_input": "2022-08-15T12:17:24.276406Z",
     "iopub.status.busy": "2022-08-15T12:17:24.275923Z",
     "iopub.status.idle": "2022-08-15T12:17:24.280163Z",
     "shell.execute_reply": "2022-08-15T12:17:24.279767Z"
    },
    "papermill": {
     "duration": 0.036578,
     "end_time": "2022-08-15T12:17:24.280248",
     "exception": false,
     "start_time": "2022-08-15T12:17:24.243670",
     "status": "completed"
    },
    "tags": []
   },
   "outputs": [],
   "source": [
    "# #hide\n",
    "# g = g[g.group.notna()]"
   ]
  },
  {
   "cell_type": "code",
   "execution_count": 40,
   "id": "determined-closing",
   "metadata": {
    "execution": {
     "iopub.execute_input": "2022-08-15T12:17:24.342506Z",
     "iopub.status.busy": "2022-08-15T12:17:24.341935Z",
     "iopub.status.idle": "2022-08-15T12:17:24.344539Z",
     "shell.execute_reply": "2022-08-15T12:17:24.345002Z"
    },
    "papermill": {
     "duration": 0.036272,
     "end_time": "2022-08-15T12:17:24.345105",
     "exception": false,
     "start_time": "2022-08-15T12:17:24.308833",
     "status": "completed"
    },
    "tags": []
   },
   "outputs": [],
   "source": [
    "# #hide\n",
    "# colors = dict(zip(\n",
    "#     [\"Oceania\", \"Europe\", \"Asia\", \"South America\", \"Middle East\", \"North America\", \"Africa\"],\n",
    "#     [\"#adb0ff\", \"#ffb3ff\", \"#90d595\", \"#e48381\", \"#aafbff\", \"#f7bb5f\", \"#eafb50\"]\n",
    "# ))\n",
    "# group_lk = g.set_index('name')['group'].to_dict()"
   ]
  },
  {
   "cell_type": "code",
   "execution_count": null,
   "id": "gross-drinking",
   "metadata": {
    "papermill": {
     "duration": 0.028539,
     "end_time": "2022-08-15T12:17:24.401478",
     "exception": false,
     "start_time": "2022-08-15T12:17:24.372939",
     "status": "completed"
    },
    "tags": []
   },
   "outputs": [],
   "source": []
  },
  {
   "cell_type": "code",
   "execution_count": 41,
   "id": "subject-macintosh",
   "metadata": {
    "execution": {
     "iopub.execute_input": "2022-08-15T12:17:24.465286Z",
     "iopub.status.busy": "2022-08-15T12:17:24.464595Z",
     "iopub.status.idle": "2022-08-15T12:17:24.466969Z",
     "shell.execute_reply": "2022-08-15T12:17:24.466486Z"
    },
    "papermill": {
     "duration": 0.036805,
     "end_time": "2022-08-15T12:17:24.467051",
     "exception": false,
     "start_time": "2022-08-15T12:17:24.430246",
     "status": "completed"
    },
    "tags": []
   },
   "outputs": [],
   "source": [
    "# #hide\n",
    "# fig, ax = plt.subplots(figsize=(15, 8))\n",
    "\n",
    "# def draw_barchart(current_day):\n",
    "#     dff = g[g['day'].eq(current_day)].sort_values(by='value', ascending=True).tail(10)\n",
    "#     ax.clear()\n",
    "#     ax.barh(dff['name'], dff['value'], color=[colors[group_lk[x]] for x in dff['name']])\n",
    "#     dx = dff['value'].max() / 200\n",
    "    \n",
    "#     for i, (value, name) in enumerate(zip(dff['value'], dff['name'])):\n",
    "#         ax.text(value-dx, i,     name,           size=14, weight=600, ha='right', va='bottom')\n",
    "#         ax.text(value-dx, i-.25, group_lk[name], size=10, color='#444444', ha='right', va='baseline')\n",
    "#         ax.text(value+dx, i,     f'{value:,.0f}',  size=14, ha='left',  va='center')\n",
    "#     ax.text(1, 0.4, current_day, transform=ax.transAxes, color='#777777', size=46, ha='right', weight=800)\n",
    "#     ax.text(0, 1.06, 'Population (thousands)', transform=ax.transAxes, size=12, color='#777777')\n",
    "#     ax.xaxis.set_major_formatter(ticker.StrMethodFormatter('{x:,.0f}'))\n",
    "#     ax.xaxis.set_ticks_position('top')\n",
    "#     ax.tick_params(axis='x', colors='#777777', labelsize=12)\n",
    "#     ax.set_yticks([])\n",
    "#     ax.margins(0, 0.01)\n",
    "#     ax.grid(which='major', axis='x', linestyle='-')\n",
    "#     ax.set_axisbelow(True)\n",
    "    \n",
    "#     ax.text(0, 1.15, 'Coronavirus',\n",
    "#             transform=ax.transAxes, size=24, weight=600, ha='left', va='top')\n",
    "# #     ax.text(1, 0, 'by @pratapvardhan; credit @jburnmurdoch', transform=ax.transAxes, color='#777777', ha='right',\n",
    "# #             bbox=dict(facecolor='white', alpha=0.8, edgecolor='white'))\n",
    "#     plt.box(False)"
   ]
  },
  {
   "cell_type": "code",
   "execution_count": 42,
   "id": "sexual-wages",
   "metadata": {
    "execution": {
     "iopub.execute_input": "2022-08-15T12:17:24.530565Z",
     "iopub.status.busy": "2022-08-15T12:17:24.529397Z",
     "iopub.status.idle": "2022-08-15T12:17:24.531849Z",
     "shell.execute_reply": "2022-08-15T12:17:24.532780Z"
    },
    "papermill": {
     "duration": 0.037553,
     "end_time": "2022-08-15T12:17:24.532997",
     "exception": false,
     "start_time": "2022-08-15T12:17:24.495444",
     "status": "completed"
    },
    "tags": []
   },
   "outputs": [],
   "source": [
    "# #hide_input\n",
    "# fig, ax = plt.subplots(figsize=(15, 8))\n",
    "# animator = animation.FuncAnimation(fig, draw_barchart, frames=range(g.day.values.min(), g.day.values.max()))\n",
    "# HTML(animator.to_jshtml())\n",
    "# # or use animator.to_html5_video() or animator.save() "
   ]
  },
  {
   "cell_type": "code",
   "execution_count": null,
   "id": "australian-container",
   "metadata": {
    "papermill": {
     "duration": 0.031572,
     "end_time": "2022-08-15T12:17:24.596621",
     "exception": false,
     "start_time": "2022-08-15T12:17:24.565049",
     "status": "completed"
    },
    "tags": []
   },
   "outputs": [],
   "source": []
  },
  {
   "cell_type": "code",
   "execution_count": null,
   "id": "mediterranean-pontiac",
   "metadata": {
    "papermill": {
     "duration": 0.029861,
     "end_time": "2022-08-15T12:17:24.657513",
     "exception": false,
     "start_time": "2022-08-15T12:17:24.627652",
     "status": "completed"
    },
    "tags": []
   },
   "outputs": [],
   "source": []
  },
  {
   "cell_type": "code",
   "execution_count": null,
   "id": "aging-legislature",
   "metadata": {
    "papermill": {
     "duration": 0.027282,
     "end_time": "2022-08-15T12:17:24.714843",
     "exception": false,
     "start_time": "2022-08-15T12:17:24.687561",
     "status": "completed"
    },
    "tags": []
   },
   "outputs": [],
   "source": []
  }
 ],
 "metadata": {
  "kernelspec": {
   "display_name": "Python 3",
   "language": "python",
   "name": "python3"
  },
  "language_info": {
   "codemirror_mode": {
    "name": "ipython",
    "version": 3
   },
   "file_extension": ".py",
   "mimetype": "text/x-python",
   "name": "python",
   "nbconvert_exporter": "python",
   "pygments_lexer": "ipython3",
   "version": "3.6.15"
  },
  "papermill": {
   "duration": 5.774028,
   "end_time": "2022-08-15T12:17:25.063016",
   "environment_variables": {},
   "exception": null,
   "input_path": "2020-03-21-covid19exp.ipynb",
   "output_path": "2020-03-21-covid19exp.ipynb",
   "parameters": {},
   "start_time": "2022-08-15T12:17:19.288988",
   "version": "2.0.0"
  }
 },
 "nbformat": 4,
 "nbformat_minor": 5
}