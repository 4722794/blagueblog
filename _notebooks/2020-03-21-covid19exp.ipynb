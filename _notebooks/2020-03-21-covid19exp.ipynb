{
 "cells": [
  {
   "cell_type": "markdown",
   "id": "muslim-click",
   "metadata": {
    "papermill": {
     "duration": 0.034482,
     "end_time": "2022-03-11T12:13:43.448855",
     "exception": false,
     "start_time": "2022-03-11T12:13:43.414373",
     "status": "completed"
    },
    "tags": []
   },
   "source": [
    "# COVID-19 Case Race\n",
    "> A race chart to see rising cases around the world\n",
    "\n",
    "- author: Hargun Oberoi\n",
    "- image: images/covid-overview.png\n",
    "- hide: false\n",
    "- badges: false"
   ]
  },
  {
   "cell_type": "code",
   "execution_count": 1,
   "id": "proof-material",
   "metadata": {
    "execution": {
     "iopub.execute_input": "2022-03-11T12:13:43.519203Z",
     "iopub.status.busy": "2022-03-11T12:13:43.518657Z",
     "iopub.status.idle": "2022-03-11T12:13:43.845832Z",
     "shell.execute_reply": "2022-03-11T12:13:43.846330Z"
    },
    "papermill": {
     "duration": 0.366276,
     "end_time": "2022-03-11T12:13:43.846533",
     "exception": false,
     "start_time": "2022-03-11T12:13:43.480257",
     "status": "completed"
    },
    "tags": []
   },
   "outputs": [],
   "source": [
    "#hide\n",
    "import numpy as np\n",
    "import pandas as pd\n",
    "from jinja2 import Template\n",
    "from IPython.display import HTML"
   ]
  },
  {
   "cell_type": "code",
   "execution_count": 2,
   "id": "developed-terminology",
   "metadata": {
    "execution": {
     "iopub.execute_input": "2022-03-11T12:13:43.910938Z",
     "iopub.status.busy": "2022-03-11T12:13:43.910386Z",
     "iopub.status.idle": "2022-03-11T12:13:43.914322Z",
     "shell.execute_reply": "2022-03-11T12:13:43.913872Z"
    },
    "papermill": {
     "duration": 0.037911,
     "end_time": "2022-03-11T12:13:43.914432",
     "exception": false,
     "start_time": "2022-03-11T12:13:43.876521",
     "status": "completed"
    },
    "tags": []
   },
   "outputs": [],
   "source": [
    "#hide\n",
    "\n",
    "# FETCH\n",
    "base_url = 'https://raw.githubusercontent.com/pratapvardhan/notebooks/master/covid19/'\n",
    "paths = {\n",
    "    'mapping': base_url + 'mapping_countries.csv',\n",
    "    'overview': base_url + 'overview.tpl'\n",
    "}"
   ]
  },
  {
   "cell_type": "code",
   "execution_count": 3,
   "id": "dynamic-saver",
   "metadata": {
    "execution": {
     "iopub.execute_input": "2022-03-11T12:13:43.982987Z",
     "iopub.status.busy": "2022-03-11T12:13:43.982468Z",
     "iopub.status.idle": "2022-03-11T12:13:43.985239Z",
     "shell.execute_reply": "2022-03-11T12:13:43.984834Z"
    },
    "papermill": {
     "duration": 0.041525,
     "end_time": "2022-03-11T12:13:43.985350",
     "exception": false,
     "start_time": "2022-03-11T12:13:43.943825",
     "status": "completed"
    },
    "tags": []
   },
   "outputs": [
    {
     "data": {
      "text/plain": [
       "'https://raw.githubusercontent.com/pratapvardhan/notebooks/master/covid19/mapping_countries.csv'"
      ]
     },
     "execution_count": 3,
     "metadata": {},
     "output_type": "execute_result"
    }
   ],
   "source": [
    "#hide\n",
    "paths['mapping']"
   ]
  },
  {
   "cell_type": "code",
   "execution_count": 4,
   "id": "urban-software",
   "metadata": {
    "execution": {
     "iopub.execute_input": "2022-03-11T12:13:44.049611Z",
     "iopub.status.busy": "2022-03-11T12:13:44.049089Z",
     "iopub.status.idle": "2022-03-11T12:13:44.051139Z",
     "shell.execute_reply": "2022-03-11T12:13:44.051628Z"
    },
    "papermill": {
     "duration": 0.036788,
     "end_time": "2022-03-11T12:13:44.051754",
     "exception": false,
     "start_time": "2022-03-11T12:13:44.014966",
     "status": "completed"
    },
    "tags": []
   },
   "outputs": [],
   "source": [
    "#hide\n",
    "def get_mappings(url):\n",
    "    df = pd.read_csv(url)\n",
    "    return {\n",
    "        'df': df,\n",
    "        'replace.country': dict(df.dropna(subset=['Name']).set_index('Country')['Name']),\n",
    "        'map.continent': dict(df.set_index('Name')['Continent'])\n",
    "    }"
   ]
  },
  {
   "cell_type": "code",
   "execution_count": 5,
   "id": "intimate-machinery",
   "metadata": {
    "execution": {
     "iopub.execute_input": "2022-03-11T12:13:44.117691Z",
     "iopub.status.busy": "2022-03-11T12:13:44.117160Z",
     "iopub.status.idle": "2022-03-11T12:13:44.144388Z",
     "shell.execute_reply": "2022-03-11T12:13:44.143872Z"
    },
    "papermill": {
     "duration": 0.061873,
     "end_time": "2022-03-11T12:13:44.144516",
     "exception": false,
     "start_time": "2022-03-11T12:13:44.082643",
     "status": "completed"
    },
    "tags": []
   },
   "outputs": [],
   "source": [
    "#hide\n",
    "mapping = get_mappings(paths['mapping'])"
   ]
  },
  {
   "cell_type": "code",
   "execution_count": 6,
   "id": "certified-tactics",
   "metadata": {
    "execution": {
     "iopub.execute_input": "2022-03-11T12:13:44.210344Z",
     "iopub.status.busy": "2022-03-11T12:13:44.209746Z",
     "iopub.status.idle": "2022-03-11T12:13:44.211952Z",
     "shell.execute_reply": "2022-03-11T12:13:44.211457Z"
    },
    "papermill": {
     "duration": 0.036932,
     "end_time": "2022-03-11T12:13:44.212098",
     "exception": false,
     "start_time": "2022-03-11T12:13:44.175166",
     "status": "completed"
    },
    "tags": []
   },
   "outputs": [],
   "source": [
    "#hide\n",
    "def get_template(path):\n",
    "    from urllib.parse import urlparse\n",
    "    if bool(urlparse(path).netloc):\n",
    "        from urllib.request import urlopen\n",
    "        return urlopen(path).read().decode('utf8')\n",
    "    return open(path).read()"
   ]
  },
  {
   "cell_type": "code",
   "execution_count": 7,
   "id": "realistic-blast",
   "metadata": {
    "execution": {
     "iopub.execute_input": "2022-03-11T12:13:44.276440Z",
     "iopub.status.busy": "2022-03-11T12:13:44.275853Z",
     "iopub.status.idle": "2022-03-11T12:13:44.277908Z",
     "shell.execute_reply": "2022-03-11T12:13:44.277501Z"
    },
    "papermill": {
     "duration": 0.035967,
     "end_time": "2022-03-11T12:13:44.278018",
     "exception": false,
     "start_time": "2022-03-11T12:13:44.242051",
     "status": "completed"
    },
    "tags": []
   },
   "outputs": [],
   "source": [
    "#hide\n",
    "def get_frame(name):\n",
    "    url = (\n",
    "        'https://raw.githubusercontent.com/CSSEGISandData/COVID-19/master/csse_covid_19_data/'\n",
    "        f'csse_covid_19_time_series/time_series_covid19_{name}_global.csv')\n",
    "    df = pd.read_csv(url)\n",
    "    # rename countries\n",
    "    df['Country/Region'] = df['Country/Region'].replace(mapping['replace.country'])\n",
    "    return df"
   ]
  },
  {
   "cell_type": "code",
   "execution_count": 8,
   "id": "affiliated-characterization",
   "metadata": {
    "execution": {
     "iopub.execute_input": "2022-03-11T12:13:44.342879Z",
     "iopub.status.busy": "2022-03-11T12:13:44.342363Z",
     "iopub.status.idle": "2022-03-11T12:13:44.344434Z",
     "shell.execute_reply": "2022-03-11T12:13:44.344927Z"
    },
    "papermill": {
     "duration": 0.0374,
     "end_time": "2022-03-11T12:13:44.345048",
     "exception": false,
     "start_time": "2022-03-11T12:13:44.307648",
     "status": "completed"
    },
    "tags": []
   },
   "outputs": [],
   "source": [
    "#hide\n",
    "def get_dates(df):\n",
    "    dt_cols = df.columns[~df.columns.isin(['Province/State', 'Country/Region', 'Lat', 'Long'])]\n",
    "    LAST_DATE_I = -1\n",
    "    # sometimes last column may be empty, then go backwards\n",
    "    for i in range(-1, -len(dt_cols), -1):\n",
    "        if not df[dt_cols[i]].fillna(0).eq(0).all():\n",
    "            LAST_DATE_I = i\n",
    "            break\n",
    "    return LAST_DATE_I, dt_cols"
   ]
  },
  {
   "cell_type": "code",
   "execution_count": 9,
   "id": "recent-optimization",
   "metadata": {
    "execution": {
     "iopub.execute_input": "2022-03-11T12:13:44.409265Z",
     "iopub.status.busy": "2022-03-11T12:13:44.408741Z",
     "iopub.status.idle": "2022-03-11T12:13:44.741675Z",
     "shell.execute_reply": "2022-03-11T12:13:44.742123Z"
    },
    "papermill": {
     "duration": 0.36741,
     "end_time": "2022-03-11T12:13:44.742290",
     "exception": false,
     "start_time": "2022-03-11T12:13:44.374880",
     "status": "completed"
    },
    "tags": []
   },
   "outputs": [],
   "source": [
    "#hide\n",
    "COL_REGION = 'Country/Region'\n",
    "# Confirmed, Recovered, Deaths\n",
    "df = get_frame('confirmed')\n",
    "# dft_: timeseries, dfc_: today country agg\n",
    "dft_cases = df\n",
    "dft_deaths = get_frame('deaths')\n",
    "dft_recovered = get_frame('recovered')\n",
    "LAST_DATE_I, dt_cols = get_dates(df)"
   ]
  },
  {
   "cell_type": "code",
   "execution_count": 10,
   "id": "absolute-copper",
   "metadata": {
    "execution": {
     "iopub.execute_input": "2022-03-11T12:13:44.807677Z",
     "iopub.status.busy": "2022-03-11T12:13:44.805224Z",
     "iopub.status.idle": "2022-03-11T12:13:44.809567Z",
     "shell.execute_reply": "2022-03-11T12:13:44.809980Z"
    },
    "papermill": {
     "duration": 0.036878,
     "end_time": "2022-03-11T12:13:44.810111",
     "exception": false,
     "start_time": "2022-03-11T12:13:44.773233",
     "status": "completed"
    },
    "tags": []
   },
   "outputs": [],
   "source": [
    "#hide\n",
    "LAST_DATE_I, dt_cols = get_dates(df)\n",
    "dt_today =dt_cols[LAST_DATE_I]\n",
    "# dt_5day = dt_cols[LAST_DATE_I - 5]\n",
    "dt_yday = dt_cols[LAST_DATE_I - 1]"
   ]
  },
  {
   "cell_type": "code",
   "execution_count": 11,
   "id": "restricted-sheriff",
   "metadata": {
    "execution": {
     "iopub.execute_input": "2022-03-11T12:13:44.874843Z",
     "iopub.status.busy": "2022-03-11T12:13:44.874333Z",
     "iopub.status.idle": "2022-03-11T12:13:44.881633Z",
     "shell.execute_reply": "2022-03-11T12:13:44.881223Z"
    },
    "papermill": {
     "duration": 0.042196,
     "end_time": "2022-03-11T12:13:44.881744",
     "exception": false,
     "start_time": "2022-03-11T12:13:44.839548",
     "status": "completed"
    },
    "tags": []
   },
   "outputs": [],
   "source": [
    "#hide\n",
    "dfc_cases = dft_cases.groupby(COL_REGION)[dt_today].sum()\n",
    "dfc_deaths = dft_deaths.groupby(COL_REGION)[dt_today].sum()\n",
    "# dfp_cases = dft_cases.groupby(COL_REGION)[dt_5day].sum()\n",
    "# dfp_deaths = dft_deaths.groupby(COL_REGION)[dt_5day].sum()\n",
    "dfp_cases = dft_cases.groupby(COL_REGION)[dt_yday].sum()\n",
    "dfp_deaths = dft_deaths.groupby(COL_REGION)[dt_yday].sum()"
   ]
  },
  {
   "cell_type": "code",
   "execution_count": 12,
   "id": "deluxe-hepatitis",
   "metadata": {
    "execution": {
     "iopub.execute_input": "2022-03-11T12:13:44.946552Z",
     "iopub.status.busy": "2022-03-11T12:13:44.946044Z",
     "iopub.status.idle": "2022-03-11T12:13:44.950312Z",
     "shell.execute_reply": "2022-03-11T12:13:44.950748Z"
    },
    "papermill": {
     "duration": 0.039447,
     "end_time": "2022-03-11T12:13:44.950864",
     "exception": false,
     "start_time": "2022-03-11T12:13:44.911417",
     "status": "completed"
    },
    "tags": []
   },
   "outputs": [],
   "source": [
    "#hide\n",
    "df_table = (pd.DataFrame(dict(Cases = dfc_cases, Deaths = dfc_deaths, PCases = dfp_cases, PDeaths = dfp_deaths))\n",
    "            .sort_values(by = ['Cases','Deaths'], ascending = [False, False])\n",
    "            .reset_index())"
   ]
  },
  {
   "cell_type": "code",
   "execution_count": 13,
   "id": "educational-chancellor",
   "metadata": {
    "execution": {
     "iopub.execute_input": "2022-03-11T12:13:45.027141Z",
     "iopub.status.busy": "2022-03-11T12:13:45.026629Z",
     "iopub.status.idle": "2022-03-11T12:13:45.034126Z",
     "shell.execute_reply": "2022-03-11T12:13:45.033721Z"
    },
    "papermill": {
     "duration": 0.053792,
     "end_time": "2022-03-11T12:13:45.034233",
     "exception": false,
     "start_time": "2022-03-11T12:13:44.980441",
     "status": "completed"
    },
    "tags": []
   },
   "outputs": [
    {
     "data": {
      "text/html": [
       "<div>\n",
       "<style scoped>\n",
       "    .dataframe tbody tr th:only-of-type {\n",
       "        vertical-align: middle;\n",
       "    }\n",
       "\n",
       "    .dataframe tbody tr th {\n",
       "        vertical-align: top;\n",
       "    }\n",
       "\n",
       "    .dataframe thead th {\n",
       "        text-align: right;\n",
       "    }\n",
       "</style>\n",
       "<table border=\"1\" class=\"dataframe\">\n",
       "  <thead>\n",
       "    <tr style=\"text-align: right;\">\n",
       "      <th></th>\n",
       "      <th>Country/Region</th>\n",
       "      <th>Cases</th>\n",
       "      <th>Deaths</th>\n",
       "      <th>PCases</th>\n",
       "      <th>PDeaths</th>\n",
       "      <th>Cases (+)</th>\n",
       "      <th>Deaths (+)</th>\n",
       "      <th>Fatality Rate</th>\n",
       "      <th>Continent</th>\n",
       "    </tr>\n",
       "  </thead>\n",
       "  <tbody>\n",
       "    <tr>\n",
       "      <th>0</th>\n",
       "      <td>US</td>\n",
       "      <td>79454920</td>\n",
       "      <td>965464</td>\n",
       "      <td>79406602</td>\n",
       "      <td>963819</td>\n",
       "      <td>48318</td>\n",
       "      <td>1645</td>\n",
       "      <td>1.22</td>\n",
       "      <td>North America</td>\n",
       "    </tr>\n",
       "    <tr>\n",
       "      <th>1</th>\n",
       "      <td>India</td>\n",
       "      <td>42984261</td>\n",
       "      <td>515714</td>\n",
       "      <td>42980067</td>\n",
       "      <td>515459</td>\n",
       "      <td>4194</td>\n",
       "      <td>255</td>\n",
       "      <td>1.20</td>\n",
       "      <td>Asia</td>\n",
       "    </tr>\n",
       "    <tr>\n",
       "      <th>2</th>\n",
       "      <td>Brazil</td>\n",
       "      <td>29259206</td>\n",
       "      <td>654380</td>\n",
       "      <td>29198101</td>\n",
       "      <td>653767</td>\n",
       "      <td>61105</td>\n",
       "      <td>613</td>\n",
       "      <td>2.24</td>\n",
       "      <td>South America</td>\n",
       "    </tr>\n",
       "    <tr>\n",
       "      <th>3</th>\n",
       "      <td>France</td>\n",
       "      <td>23492815</td>\n",
       "      <td>140904</td>\n",
       "      <td>23417253</td>\n",
       "      <td>140797</td>\n",
       "      <td>75562</td>\n",
       "      <td>107</td>\n",
       "      <td>0.60</td>\n",
       "      <td>Europe</td>\n",
       "    </tr>\n",
       "    <tr>\n",
       "      <th>4</th>\n",
       "      <td>United Kingdom</td>\n",
       "      <td>19600293</td>\n",
       "      <td>163203</td>\n",
       "      <td>19515547</td>\n",
       "      <td>163059</td>\n",
       "      <td>84746</td>\n",
       "      <td>144</td>\n",
       "      <td>0.83</td>\n",
       "      <td>Europe</td>\n",
       "    </tr>\n",
       "  </tbody>\n",
       "</table>\n",
       "</div>"
      ],
      "text/plain": [
       "   Country/Region     Cases  Deaths    PCases  PDeaths  Cases (+)  Deaths (+)  \\\n",
       "0              US  79454920  965464  79406602   963819      48318        1645   \n",
       "1           India  42984261  515714  42980067   515459       4194         255   \n",
       "2          Brazil  29259206  654380  29198101   653767      61105         613   \n",
       "3          France  23492815  140904  23417253   140797      75562         107   \n",
       "4  United Kingdom  19600293  163203  19515547   163059      84746         144   \n",
       "\n",
       "   Fatality Rate      Continent  \n",
       "0           1.22  North America  \n",
       "1           1.20           Asia  \n",
       "2           2.24  South America  \n",
       "3           0.60         Europe  \n",
       "4           0.83         Europe  "
      ]
     },
     "execution_count": 13,
     "metadata": {},
     "output_type": "execute_result"
    }
   ],
   "source": [
    "#hide\n",
    "for c in 'Cases, Deaths'.split(', '):\n",
    "    df_table[f'{c} (+)'] = (df_table[c] - df_table[f'P{c}']).clip(0)\n",
    "    #Clip ça veut dire, les chiffres negatif sont interdit\n",
    "df_table['Fatality Rate'] = (100* df_table['Deaths']/ df_table['Cases']).round(2)\n",
    "df_table['Continent'] = df_table['Country/Region'].map(mapping['map.continent'])\n",
    "df_table.head(5)"
   ]
  },
  {
   "cell_type": "code",
   "execution_count": 14,
   "id": "aboriginal-bulgaria",
   "metadata": {
    "execution": {
     "iopub.execute_input": "2022-03-11T12:13:45.100226Z",
     "iopub.status.busy": "2022-03-11T12:13:45.099636Z",
     "iopub.status.idle": "2022-03-11T12:13:45.101322Z",
     "shell.execute_reply": "2022-03-11T12:13:45.101706Z"
    },
    "papermill": {
     "duration": 0.037325,
     "end_time": "2022-03-11T12:13:45.101833",
     "exception": false,
     "start_time": "2022-03-11T12:13:45.064508",
     "status": "completed"
    },
    "tags": []
   },
   "outputs": [],
   "source": [
    "#hide\n",
    "#delete problematic countries from table\n",
    "df_table = df_table[~df_table['Country/Region'].isin(['Cape Verde', 'Cruise Ship', 'Kosovo'])]"
   ]
  },
  {
   "cell_type": "code",
   "execution_count": 15,
   "id": "fantastic-effect",
   "metadata": {
    "execution": {
     "iopub.execute_input": "2022-03-11T12:13:45.169908Z",
     "iopub.status.busy": "2022-03-11T12:13:45.169388Z",
     "iopub.status.idle": "2022-03-11T12:13:45.186454Z",
     "shell.execute_reply": "2022-03-11T12:13:45.186043Z"
    },
    "papermill": {
     "duration": 0.054769,
     "end_time": "2022-03-11T12:13:45.186566",
     "exception": false,
     "start_time": "2022-03-11T12:13:45.131797",
     "status": "completed"
    },
    "tags": []
   },
   "outputs": [
    {
     "data": {
      "text/html": [
       "<div>\n",
       "<style scoped>\n",
       "    .dataframe tbody tr th:only-of-type {\n",
       "        vertical-align: middle;\n",
       "    }\n",
       "\n",
       "    .dataframe tbody tr th {\n",
       "        vertical-align: top;\n",
       "    }\n",
       "\n",
       "    .dataframe thead th {\n",
       "        text-align: right;\n",
       "    }\n",
       "</style>\n",
       "<table border=\"1\" class=\"dataframe\">\n",
       "  <thead>\n",
       "    <tr style=\"text-align: right;\">\n",
       "      <th></th>\n",
       "      <th>Country/Region</th>\n",
       "      <th>Cases</th>\n",
       "      <th>Deaths</th>\n",
       "      <th>PCases</th>\n",
       "      <th>PDeaths</th>\n",
       "      <th>Cases (+)</th>\n",
       "      <th>Deaths (+)</th>\n",
       "      <th>Fatality Rate</th>\n",
       "      <th>Continent</th>\n",
       "    </tr>\n",
       "  </thead>\n",
       "  <tbody>\n",
       "    <tr>\n",
       "      <th>0</th>\n",
       "      <td>US</td>\n",
       "      <td>79454920</td>\n",
       "      <td>965464</td>\n",
       "      <td>79406602</td>\n",
       "      <td>963819</td>\n",
       "      <td>48318</td>\n",
       "      <td>1645</td>\n",
       "      <td>1.2</td>\n",
       "      <td>North America</td>\n",
       "    </tr>\n",
       "    <tr>\n",
       "      <th>1</th>\n",
       "      <td>India</td>\n",
       "      <td>42984261</td>\n",
       "      <td>515714</td>\n",
       "      <td>42980067</td>\n",
       "      <td>515459</td>\n",
       "      <td>4194</td>\n",
       "      <td>255</td>\n",
       "      <td>1.2</td>\n",
       "      <td>Asia</td>\n",
       "    </tr>\n",
       "    <tr>\n",
       "      <th>2</th>\n",
       "      <td>Brazil</td>\n",
       "      <td>29259206</td>\n",
       "      <td>654380</td>\n",
       "      <td>29198101</td>\n",
       "      <td>653767</td>\n",
       "      <td>61105</td>\n",
       "      <td>613</td>\n",
       "      <td>2.2</td>\n",
       "      <td>South America</td>\n",
       "    </tr>\n",
       "    <tr>\n",
       "      <th>3</th>\n",
       "      <td>France</td>\n",
       "      <td>23492815</td>\n",
       "      <td>140904</td>\n",
       "      <td>23417253</td>\n",
       "      <td>140797</td>\n",
       "      <td>75562</td>\n",
       "      <td>107</td>\n",
       "      <td>0.6</td>\n",
       "      <td>Europe</td>\n",
       "    </tr>\n",
       "    <tr>\n",
       "      <th>4</th>\n",
       "      <td>United Kingdom</td>\n",
       "      <td>19600293</td>\n",
       "      <td>163203</td>\n",
       "      <td>19515547</td>\n",
       "      <td>163059</td>\n",
       "      <td>84746</td>\n",
       "      <td>144</td>\n",
       "      <td>0.8</td>\n",
       "      <td>Europe</td>\n",
       "    </tr>\n",
       "  </tbody>\n",
       "</table>\n",
       "</div>"
      ],
      "text/plain": [
       "   Country/Region     Cases  Deaths    PCases  PDeaths  Cases (+)  Deaths (+)  \\\n",
       "0              US  79454920  965464  79406602   963819      48318        1645   \n",
       "1           India  42984261  515714  42980067   515459       4194         255   \n",
       "2          Brazil  29259206  654380  29198101   653767      61105         613   \n",
       "3          France  23492815  140904  23417253   140797      75562         107   \n",
       "4  United Kingdom  19600293  163203  19515547   163059      84746         144   \n",
       "\n",
       "   Fatality Rate      Continent  \n",
       "0            1.2  North America  \n",
       "1            1.2           Asia  \n",
       "2            2.2  South America  \n",
       "3            0.6         Europe  \n",
       "4            0.8         Europe  "
      ]
     },
     "execution_count": 15,
     "metadata": {},
     "output_type": "execute_result"
    }
   ],
   "source": [
    "#hide\n",
    "df_table = (pd.DataFrame(dict(Cases=dfc_cases, Deaths=dfc_deaths, PCases=dfp_cases, PDeaths=dfp_deaths))\n",
    "             .sort_values(by=['Cases', 'Deaths'], ascending=[False, False])\n",
    "             .reset_index())\n",
    "df_table.rename(columns={'index': 'Country/Region'}, inplace=True)\n",
    "for c in 'Cases, Deaths'.split(', '):\n",
    "    df_table[f'{c} (+)'] = (df_table[c] - df_table[f'P{c}']).clip(0)  # DATA BUG\n",
    "df_table['Fatality Rate'] = (100 * df_table['Deaths'] / df_table['Cases']).round(1)\n",
    "df_table['Continent'] = df_table['Country/Region'].map(mapping['map.continent'])\n",
    "df_table.head(5)"
   ]
  },
  {
   "cell_type": "code",
   "execution_count": 16,
   "id": "fewer-occasion",
   "metadata": {
    "execution": {
     "iopub.execute_input": "2022-03-11T12:13:45.253343Z",
     "iopub.status.busy": "2022-03-11T12:13:45.252819Z",
     "iopub.status.idle": "2022-03-11T12:13:45.254585Z",
     "shell.execute_reply": "2022-03-11T12:13:45.254969Z"
    },
    "papermill": {
     "duration": 0.03777,
     "end_time": "2022-03-11T12:13:45.255090",
     "exception": false,
     "start_time": "2022-03-11T12:13:45.217320",
     "status": "completed"
    },
    "tags": []
   },
   "outputs": [],
   "source": [
    "#hide\n",
    "#delete problematic countries from table\n",
    "df_table = df_table[~df_table['Country/Region'].isin(['Cape Verde', 'Cruise Ship', 'Kosovo'])]"
   ]
  },
  {
   "cell_type": "code",
   "execution_count": 17,
   "id": "related-center",
   "metadata": {
    "execution": {
     "iopub.execute_input": "2022-03-11T12:13:45.333764Z",
     "iopub.status.busy": "2022-03-11T12:13:45.333239Z",
     "iopub.status.idle": "2022-03-11T12:13:45.335260Z",
     "shell.execute_reply": "2022-03-11T12:13:45.335643Z"
    },
    "papermill": {
     "duration": 0.050132,
     "end_time": "2022-03-11T12:13:45.335772",
     "exception": false,
     "start_time": "2022-03-11T12:13:45.285640",
     "status": "completed"
    },
    "tags": []
   },
   "outputs": [],
   "source": [
    "#hide\n",
    "metrics = [df_table.columns[index] for index in [1,2,5,6]]\n",
    "# s_china = df_table[df_table['Country/Region'].eq('China')][metrics].sum().add_prefix('China ')\n",
    "s_us = df_table[df_table['Country/Region'].eq('US')][metrics].sum().add_prefix('US ')\n",
    "s_eu = df_table[df_table['Continent'].eq('Europe')][metrics].sum().add_prefix('EU ')\n",
    "s_ind = df_table[df_table['Country/Region'].eq('India')][metrics].sum().add_prefix('India ')\n",
    "summary = {'updated': pd.to_datetime(dt_today), 'since': pd.to_datetime(dt_yday)}\n",
    "summary = {'updated': pd.to_datetime(dt_today), 'since': pd.to_datetime(dt_yday)}\n",
    "summary = {**summary, **df_table[metrics].sum(), **s_ind, **s_us, **s_eu}"
   ]
  },
  {
   "cell_type": "code",
   "execution_count": 18,
   "id": "engaging-syndrome",
   "metadata": {
    "execution": {
     "iopub.execute_input": "2022-03-11T12:13:45.402574Z",
     "iopub.status.busy": "2022-03-11T12:13:45.402056Z",
     "iopub.status.idle": "2022-03-11T12:13:45.418612Z",
     "shell.execute_reply": "2022-03-11T12:13:45.419026Z"
    },
    "papermill": {
     "duration": 0.0526,
     "end_time": "2022-03-11T12:13:45.419162",
     "exception": false,
     "start_time": "2022-03-11T12:13:45.366562",
     "status": "completed"
    },
    "tags": []
   },
   "outputs": [],
   "source": [
    "#hide\n",
    "dft_ct_new_cases = dft_cases.groupby(COL_REGION)[dt_cols].sum().diff(axis=1).fillna(0).astype(int)"
   ]
  },
  {
   "cell_type": "code",
   "execution_count": 19,
   "id": "neutral-assignment",
   "metadata": {
    "execution": {
     "iopub.execute_input": "2022-03-11T12:13:45.487020Z",
     "iopub.status.busy": "2022-03-11T12:13:45.486464Z",
     "iopub.status.idle": "2022-03-11T12:13:45.488519Z",
     "shell.execute_reply": "2022-03-11T12:13:45.488099Z"
    },
    "papermill": {
     "duration": 0.038789,
     "end_time": "2022-03-11T12:13:45.488636",
     "exception": false,
     "start_time": "2022-03-11T12:13:45.449847",
     "status": "completed"
    },
    "tags": []
   },
   "outputs": [],
   "source": [
    "#hide\n",
    "everydaycases = dft_ct_new_cases.cumsum(axis=1)"
   ]
  },
  {
   "cell_type": "code",
   "execution_count": 20,
   "id": "parliamentary-calgary",
   "metadata": {
    "execution": {
     "iopub.execute_input": "2022-03-11T12:13:45.553726Z",
     "iopub.status.busy": "2022-03-11T12:13:45.553200Z",
     "iopub.status.idle": "2022-03-11T12:13:46.188132Z",
     "shell.execute_reply": "2022-03-11T12:13:46.187561Z"
    },
    "papermill": {
     "duration": 0.668855,
     "end_time": "2022-03-11T12:13:46.188290",
     "exception": false,
     "start_time": "2022-03-11T12:13:45.519435",
     "status": "completed"
    },
    "tags": []
   },
   "outputs": [],
   "source": [
    "#hide\n",
    "import pandas as pd\n",
    "import matplotlib.pyplot as plt\n",
    "import matplotlib.ticker as ticker\n",
    "import matplotlib.animation as animation\n",
    "from IPython.display import HTML"
   ]
  },
  {
   "cell_type": "code",
   "execution_count": 21,
   "id": "lasting-extraction",
   "metadata": {
    "execution": {
     "iopub.execute_input": "2022-03-11T12:13:46.257760Z",
     "iopub.status.busy": "2022-03-11T12:13:46.257225Z",
     "iopub.status.idle": "2022-03-11T12:13:46.263396Z",
     "shell.execute_reply": "2022-03-11T12:13:46.263905Z"
    },
    "papermill": {
     "duration": 0.043869,
     "end_time": "2022-03-11T12:13:46.264091",
     "exception": false,
     "start_time": "2022-03-11T12:13:46.220222",
     "status": "completed"
    },
    "tags": []
   },
   "outputs": [],
   "source": [
    "#hide\n",
    "t = everydaycases.stack()"
   ]
  },
  {
   "cell_type": "code",
   "execution_count": 22,
   "id": "premier-sleeve",
   "metadata": {
    "execution": {
     "iopub.execute_input": "2022-03-11T12:13:46.330654Z",
     "iopub.status.busy": "2022-03-11T12:13:46.330126Z",
     "iopub.status.idle": "2022-03-11T12:13:46.341831Z",
     "shell.execute_reply": "2022-03-11T12:13:46.341418Z"
    },
    "papermill": {
     "duration": 0.046567,
     "end_time": "2022-03-11T12:13:46.341948",
     "exception": false,
     "start_time": "2022-03-11T12:13:46.295381",
     "status": "completed"
    },
    "tags": []
   },
   "outputs": [],
   "source": [
    "#hide\n",
    "g = t.reset_index(['Country/Region'])"
   ]
  },
  {
   "cell_type": "code",
   "execution_count": 23,
   "id": "distributed-pittsburgh",
   "metadata": {
    "execution": {
     "iopub.execute_input": "2022-03-11T12:13:46.407325Z",
     "iopub.status.busy": "2022-03-11T12:13:46.406728Z",
     "iopub.status.idle": "2022-03-11T12:13:46.408892Z",
     "shell.execute_reply": "2022-03-11T12:13:46.408458Z"
    },
    "papermill": {
     "duration": 0.036384,
     "end_time": "2022-03-11T12:13:46.409002",
     "exception": false,
     "start_time": "2022-03-11T12:13:46.372618",
     "status": "completed"
    },
    "tags": []
   },
   "outputs": [],
   "source": [
    "#hide\n",
    "g.index.name = 'date'"
   ]
  },
  {
   "cell_type": "code",
   "execution_count": 24,
   "id": "naked-donor",
   "metadata": {
    "execution": {
     "iopub.execute_input": "2022-03-11T12:13:46.474255Z",
     "iopub.status.busy": "2022-03-11T12:13:46.473635Z",
     "iopub.status.idle": "2022-03-11T12:13:46.477094Z",
     "shell.execute_reply": "2022-03-11T12:13:46.477543Z"
    },
    "papermill": {
     "duration": 0.037875,
     "end_time": "2022-03-11T12:13:46.477696",
     "exception": false,
     "start_time": "2022-03-11T12:13:46.439821",
     "status": "completed"
    },
    "tags": []
   },
   "outputs": [],
   "source": [
    "# #hide\n",
    "# g = g.reset_index(['date'])"
   ]
  },
  {
   "cell_type": "code",
   "execution_count": 25,
   "id": "incomplete-mustang",
   "metadata": {
    "execution": {
     "iopub.execute_input": "2022-03-11T12:13:46.543595Z",
     "iopub.status.busy": "2022-03-11T12:13:46.542974Z",
     "iopub.status.idle": "2022-03-11T12:13:46.544504Z",
     "shell.execute_reply": "2022-03-11T12:13:46.544999Z"
    },
    "papermill": {
     "duration": 0.036369,
     "end_time": "2022-03-11T12:13:46.545143",
     "exception": false,
     "start_time": "2022-03-11T12:13:46.508774",
     "status": "completed"
    },
    "tags": []
   },
   "outputs": [],
   "source": [
    "#hide\n",
    "# g.head()"
   ]
  },
  {
   "cell_type": "code",
   "execution_count": 26,
   "id": "specific-kruger",
   "metadata": {
    "execution": {
     "iopub.execute_input": "2022-03-11T12:13:46.611207Z",
     "iopub.status.busy": "2022-03-11T12:13:46.610586Z",
     "iopub.status.idle": "2022-03-11T12:13:46.612066Z",
     "shell.execute_reply": "2022-03-11T12:13:46.612480Z"
    },
    "papermill": {
     "duration": 0.035926,
     "end_time": "2022-03-11T12:13:46.612612",
     "exception": false,
     "start_time": "2022-03-11T12:13:46.576686",
     "status": "completed"
    },
    "tags": []
   },
   "outputs": [],
   "source": [
    "#hide\n",
    "# g.columns = ['date','country','cases']"
   ]
  },
  {
   "cell_type": "code",
   "execution_count": 27,
   "id": "tender-conversion",
   "metadata": {
    "execution": {
     "iopub.execute_input": "2022-03-11T12:13:46.677331Z",
     "iopub.status.busy": "2022-03-11T12:13:46.676733Z",
     "iopub.status.idle": "2022-03-11T12:13:46.680728Z",
     "shell.execute_reply": "2022-03-11T12:13:46.680250Z"
    },
    "papermill": {
     "duration": 0.037671,
     "end_time": "2022-03-11T12:13:46.680857",
     "exception": false,
     "start_time": "2022-03-11T12:13:46.643186",
     "status": "completed"
    },
    "tags": []
   },
   "outputs": [],
   "source": [
    "#hide\n",
    "# g['continent'] = g.country"
   ]
  },
  {
   "cell_type": "code",
   "execution_count": 28,
   "id": "substantial-wilderness",
   "metadata": {
    "execution": {
     "iopub.execute_input": "2022-03-11T12:13:46.746195Z",
     "iopub.status.busy": "2022-03-11T12:13:46.745601Z",
     "iopub.status.idle": "2022-03-11T12:13:46.747744Z",
     "shell.execute_reply": "2022-03-11T12:13:46.747254Z"
    },
    "papermill": {
     "duration": 0.035926,
     "end_time": "2022-03-11T12:13:46.747862",
     "exception": false,
     "start_time": "2022-03-11T12:13:46.711936",
     "status": "completed"
    },
    "tags": []
   },
   "outputs": [],
   "source": [
    "#hide\n",
    "# cols = list(g.columns.values)"
   ]
  },
  {
   "cell_type": "code",
   "execution_count": 29,
   "id": "solved-farming",
   "metadata": {
    "execution": {
     "iopub.execute_input": "2022-03-11T12:13:46.814023Z",
     "iopub.status.busy": "2022-03-11T12:13:46.813409Z",
     "iopub.status.idle": "2022-03-11T12:13:46.814898Z",
     "shell.execute_reply": "2022-03-11T12:13:46.815303Z"
    },
    "papermill": {
     "duration": 0.035871,
     "end_time": "2022-03-11T12:13:46.815429",
     "exception": false,
     "start_time": "2022-03-11T12:13:46.779558",
     "status": "completed"
    },
    "tags": []
   },
   "outputs": [],
   "source": [
    "#hide\n",
    "# cols.insert(0, cols.pop())"
   ]
  },
  {
   "cell_type": "code",
   "execution_count": 30,
   "id": "executed-adoption",
   "metadata": {
    "execution": {
     "iopub.execute_input": "2022-03-11T12:13:46.879922Z",
     "iopub.status.busy": "2022-03-11T12:13:46.879323Z",
     "iopub.status.idle": "2022-03-11T12:13:46.880862Z",
     "shell.execute_reply": "2022-03-11T12:13:46.881330Z"
    },
    "papermill": {
     "duration": 0.035428,
     "end_time": "2022-03-11T12:13:46.881471",
     "exception": false,
     "start_time": "2022-03-11T12:13:46.846043",
     "status": "completed"
    },
    "tags": []
   },
   "outputs": [],
   "source": [
    "#hide\n",
    "# g = g[cols]"
   ]
  },
  {
   "cell_type": "code",
   "execution_count": 31,
   "id": "subject-dublin",
   "metadata": {
    "execution": {
     "iopub.execute_input": "2022-03-11T12:13:46.949697Z",
     "iopub.status.busy": "2022-03-11T12:13:46.949115Z",
     "iopub.status.idle": "2022-03-11T12:13:46.951203Z",
     "shell.execute_reply": "2022-03-11T12:13:46.950634Z"
    },
    "papermill": {
     "duration": 0.038968,
     "end_time": "2022-03-11T12:13:46.951321",
     "exception": false,
     "start_time": "2022-03-11T12:13:46.912353",
     "status": "completed"
    },
    "tags": []
   },
   "outputs": [],
   "source": [
    "#hide\n",
    "# g['continent'] = g['continent'].map(mapping['map.continent'])"
   ]
  },
  {
   "cell_type": "code",
   "execution_count": 32,
   "id": "freelance-scout",
   "metadata": {
    "execution": {
     "iopub.execute_input": "2022-03-11T12:13:47.017167Z",
     "iopub.status.busy": "2022-03-11T12:13:47.016575Z",
     "iopub.status.idle": "2022-03-11T12:13:47.017971Z",
     "shell.execute_reply": "2022-03-11T12:13:47.018378Z"
    },
    "papermill": {
     "duration": 0.035771,
     "end_time": "2022-03-11T12:13:47.018500",
     "exception": false,
     "start_time": "2022-03-11T12:13:46.982729",
     "status": "completed"
    },
    "tags": []
   },
   "outputs": [],
   "source": [
    "#hide\n",
    "# g.head()"
   ]
  },
  {
   "cell_type": "code",
   "execution_count": 33,
   "id": "limited-engine",
   "metadata": {
    "execution": {
     "iopub.execute_input": "2022-03-11T12:13:47.083648Z",
     "iopub.status.busy": "2022-03-11T12:13:47.083032Z",
     "iopub.status.idle": "2022-03-11T12:13:47.087253Z",
     "shell.execute_reply": "2022-03-11T12:13:47.086780Z"
    },
    "papermill": {
     "duration": 0.038107,
     "end_time": "2022-03-11T12:13:47.087383",
     "exception": false,
     "start_time": "2022-03-11T12:13:47.049276",
     "status": "completed"
    },
    "tags": []
   },
   "outputs": [],
   "source": [
    "# hide\n",
    "# g['date'] = g['date'].astype('datetime64[ns]')"
   ]
  },
  {
   "cell_type": "code",
   "execution_count": 34,
   "id": "sophisticated-supervisor",
   "metadata": {
    "execution": {
     "iopub.execute_input": "2022-03-11T12:13:47.153037Z",
     "iopub.status.busy": "2022-03-11T12:13:47.152435Z",
     "iopub.status.idle": "2022-03-11T12:13:47.154426Z",
     "shell.execute_reply": "2022-03-11T12:13:47.153852Z"
    },
    "papermill": {
     "duration": 0.036215,
     "end_time": "2022-03-11T12:13:47.154547",
     "exception": false,
     "start_time": "2022-03-11T12:13:47.118332",
     "status": "completed"
    },
    "tags": []
   },
   "outputs": [],
   "source": [
    "#hide\n",
    "# g['date'] = g.date.dt.dayofyear"
   ]
  },
  {
   "cell_type": "code",
   "execution_count": 35,
   "id": "inside-dubai",
   "metadata": {
    "execution": {
     "iopub.execute_input": "2022-03-11T12:13:47.219793Z",
     "iopub.status.busy": "2022-03-11T12:13:47.219280Z",
     "iopub.status.idle": "2022-03-11T12:13:47.221178Z",
     "shell.execute_reply": "2022-03-11T12:13:47.221670Z"
    },
    "papermill": {
     "duration": 0.036111,
     "end_time": "2022-03-11T12:13:47.221796",
     "exception": false,
     "start_time": "2022-03-11T12:13:47.185685",
     "status": "completed"
    },
    "tags": []
   },
   "outputs": [],
   "source": [
    "#hide\n",
    "# g = g.rename(columns= {'continent':'group','country':'name','cases':'value'})"
   ]
  },
  {
   "cell_type": "code",
   "execution_count": 36,
   "id": "fleet-motorcycle",
   "metadata": {
    "execution": {
     "iopub.execute_input": "2022-03-11T12:13:47.286681Z",
     "iopub.status.busy": "2022-03-11T12:13:47.286093Z",
     "iopub.status.idle": "2022-03-11T12:13:47.287809Z",
     "shell.execute_reply": "2022-03-11T12:13:47.288277Z"
    },
    "papermill": {
     "duration": 0.035819,
     "end_time": "2022-03-11T12:13:47.288426",
     "exception": false,
     "start_time": "2022-03-11T12:13:47.252607",
     "status": "completed"
    },
    "tags": []
   },
   "outputs": [],
   "source": [
    "#hide\n",
    "# cols = ['name','group','day','value']"
   ]
  },
  {
   "cell_type": "code",
   "execution_count": 37,
   "id": "continued-sleeping",
   "metadata": {
    "execution": {
     "iopub.execute_input": "2022-03-11T12:13:47.353233Z",
     "iopub.status.busy": "2022-03-11T12:13:47.352721Z",
     "iopub.status.idle": "2022-03-11T12:13:47.354955Z",
     "shell.execute_reply": "2022-03-11T12:13:47.354521Z"
    },
    "papermill": {
     "duration": 0.035701,
     "end_time": "2022-03-11T12:13:47.355060",
     "exception": false,
     "start_time": "2022-03-11T12:13:47.319359",
     "status": "completed"
    },
    "tags": []
   },
   "outputs": [],
   "source": [
    "#hide\n",
    "# g.rename(columns= {'date':'day'},inplace = True)"
   ]
  },
  {
   "cell_type": "code",
   "execution_count": 38,
   "id": "major-fight",
   "metadata": {
    "execution": {
     "iopub.execute_input": "2022-03-11T12:13:47.420093Z",
     "iopub.status.busy": "2022-03-11T12:13:47.419443Z",
     "iopub.status.idle": "2022-03-11T12:13:47.421595Z",
     "shell.execute_reply": "2022-03-11T12:13:47.421022Z"
    },
    "papermill": {
     "duration": 0.035864,
     "end_time": "2022-03-11T12:13:47.421715",
     "exception": false,
     "start_time": "2022-03-11T12:13:47.385851",
     "status": "completed"
    },
    "tags": []
   },
   "outputs": [],
   "source": [
    "#hide\n",
    "# g = g[cols]"
   ]
  },
  {
   "cell_type": "code",
   "execution_count": 39,
   "id": "structured-mobile",
   "metadata": {
    "execution": {
     "iopub.execute_input": "2022-03-11T12:13:47.486260Z",
     "iopub.status.busy": "2022-03-11T12:13:47.485734Z",
     "iopub.status.idle": "2022-03-11T12:13:47.487909Z",
     "shell.execute_reply": "2022-03-11T12:13:47.487502Z"
    },
    "papermill": {
     "duration": 0.035532,
     "end_time": "2022-03-11T12:13:47.488040",
     "exception": false,
     "start_time": "2022-03-11T12:13:47.452508",
     "status": "completed"
    },
    "tags": []
   },
   "outputs": [],
   "source": [
    "# #hide\n",
    "# g = g[g.group.notna()]"
   ]
  },
  {
   "cell_type": "code",
   "execution_count": 40,
   "id": "determined-closing",
   "metadata": {
    "execution": {
     "iopub.execute_input": "2022-03-11T12:13:47.552612Z",
     "iopub.status.busy": "2022-03-11T12:13:47.551974Z",
     "iopub.status.idle": "2022-03-11T12:13:47.553510Z",
     "shell.execute_reply": "2022-03-11T12:13:47.553975Z"
    },
    "papermill": {
     "duration": 0.035505,
     "end_time": "2022-03-11T12:13:47.554109",
     "exception": false,
     "start_time": "2022-03-11T12:13:47.518604",
     "status": "completed"
    },
    "tags": []
   },
   "outputs": [],
   "source": [
    "# #hide\n",
    "# colors = dict(zip(\n",
    "#     [\"Oceania\", \"Europe\", \"Asia\", \"South America\", \"Middle East\", \"North America\", \"Africa\"],\n",
    "#     [\"#adb0ff\", \"#ffb3ff\", \"#90d595\", \"#e48381\", \"#aafbff\", \"#f7bb5f\", \"#eafb50\"]\n",
    "# ))\n",
    "# group_lk = g.set_index('name')['group'].to_dict()"
   ]
  },
  {
   "cell_type": "code",
   "execution_count": null,
   "id": "gross-drinking",
   "metadata": {
    "papermill": {
     "duration": 0.030377,
     "end_time": "2022-03-11T12:13:47.615092",
     "exception": false,
     "start_time": "2022-03-11T12:13:47.584715",
     "status": "completed"
    },
    "tags": []
   },
   "outputs": [],
   "source": []
  },
  {
   "cell_type": "code",
   "execution_count": 41,
   "id": "subject-macintosh",
   "metadata": {
    "execution": {
     "iopub.execute_input": "2022-03-11T12:13:47.680565Z",
     "iopub.status.busy": "2022-03-11T12:13:47.679997Z",
     "iopub.status.idle": "2022-03-11T12:13:47.681941Z",
     "shell.execute_reply": "2022-03-11T12:13:47.681504Z"
    },
    "papermill": {
     "duration": 0.036303,
     "end_time": "2022-03-11T12:13:47.682047",
     "exception": false,
     "start_time": "2022-03-11T12:13:47.645744",
     "status": "completed"
    },
    "tags": []
   },
   "outputs": [],
   "source": [
    "# #hide\n",
    "# fig, ax = plt.subplots(figsize=(15, 8))\n",
    "\n",
    "# def draw_barchart(current_day):\n",
    "#     dff = g[g['day'].eq(current_day)].sort_values(by='value', ascending=True).tail(10)\n",
    "#     ax.clear()\n",
    "#     ax.barh(dff['name'], dff['value'], color=[colors[group_lk[x]] for x in dff['name']])\n",
    "#     dx = dff['value'].max() / 200\n",
    "    \n",
    "#     for i, (value, name) in enumerate(zip(dff['value'], dff['name'])):\n",
    "#         ax.text(value-dx, i,     name,           size=14, weight=600, ha='right', va='bottom')\n",
    "#         ax.text(value-dx, i-.25, group_lk[name], size=10, color='#444444', ha='right', va='baseline')\n",
    "#         ax.text(value+dx, i,     f'{value:,.0f}',  size=14, ha='left',  va='center')\n",
    "#     ax.text(1, 0.4, current_day, transform=ax.transAxes, color='#777777', size=46, ha='right', weight=800)\n",
    "#     ax.text(0, 1.06, 'Population (thousands)', transform=ax.transAxes, size=12, color='#777777')\n",
    "#     ax.xaxis.set_major_formatter(ticker.StrMethodFormatter('{x:,.0f}'))\n",
    "#     ax.xaxis.set_ticks_position('top')\n",
    "#     ax.tick_params(axis='x', colors='#777777', labelsize=12)\n",
    "#     ax.set_yticks([])\n",
    "#     ax.margins(0, 0.01)\n",
    "#     ax.grid(which='major', axis='x', linestyle='-')\n",
    "#     ax.set_axisbelow(True)\n",
    "    \n",
    "#     ax.text(0, 1.15, 'Coronavirus',\n",
    "#             transform=ax.transAxes, size=24, weight=600, ha='left', va='top')\n",
    "# #     ax.text(1, 0, 'by @pratapvardhan; credit @jburnmurdoch', transform=ax.transAxes, color='#777777', ha='right',\n",
    "# #             bbox=dict(facecolor='white', alpha=0.8, edgecolor='white'))\n",
    "#     plt.box(False)"
   ]
  },
  {
   "cell_type": "code",
   "execution_count": 42,
   "id": "sexual-wages",
   "metadata": {
    "execution": {
     "iopub.execute_input": "2022-03-11T12:13:47.746720Z",
     "iopub.status.busy": "2022-03-11T12:13:47.746117Z",
     "iopub.status.idle": "2022-03-11T12:13:47.750233Z",
     "shell.execute_reply": "2022-03-11T12:13:47.749783Z"
    },
    "papermill": {
     "duration": 0.037779,
     "end_time": "2022-03-11T12:13:47.750343",
     "exception": false,
     "start_time": "2022-03-11T12:13:47.712564",
     "status": "completed"
    },
    "tags": []
   },
   "outputs": [],
   "source": [
    "# #hide_input\n",
    "# fig, ax = plt.subplots(figsize=(15, 8))\n",
    "# animator = animation.FuncAnimation(fig, draw_barchart, frames=range(g.day.values.min(), g.day.values.max()))\n",
    "# HTML(animator.to_jshtml())\n",
    "# # or use animator.to_html5_video() or animator.save() "
   ]
  },
  {
   "cell_type": "code",
   "execution_count": null,
   "id": "australian-container",
   "metadata": {
    "papermill": {
     "duration": 0.030677,
     "end_time": "2022-03-11T12:13:47.811791",
     "exception": false,
     "start_time": "2022-03-11T12:13:47.781114",
     "status": "completed"
    },
    "tags": []
   },
   "outputs": [],
   "source": []
  },
  {
   "cell_type": "code",
   "execution_count": null,
   "id": "mediterranean-pontiac",
   "metadata": {
    "papermill": {
     "duration": 0.03052,
     "end_time": "2022-03-11T12:13:47.872829",
     "exception": false,
     "start_time": "2022-03-11T12:13:47.842309",
     "status": "completed"
    },
    "tags": []
   },
   "outputs": [],
   "source": []
  },
  {
   "cell_type": "code",
   "execution_count": null,
   "id": "aging-legislature",
   "metadata": {
    "papermill": {
     "duration": 0.030665,
     "end_time": "2022-03-11T12:13:47.934232",
     "exception": false,
     "start_time": "2022-03-11T12:13:47.903567",
     "status": "completed"
    },
    "tags": []
   },
   "outputs": [],
   "source": []
  }
 ],
 "metadata": {
  "kernelspec": {
   "display_name": "Python 3",
   "language": "python",
   "name": "python3"
  },
  "language_info": {
   "codemirror_mode": {
    "name": "ipython",
    "version": 3
   },
   "file_extension": ".py",
   "mimetype": "text/x-python",
   "name": "python",
   "nbconvert_exporter": "python",
   "pygments_lexer": "ipython3",
   "version": "3.6.15"
  },
  "papermill": {
   "duration": 5.913677,
   "end_time": "2022-03-11T12:13:48.384957",
   "environment_variables": {},
   "exception": null,
   "input_path": "2020-03-21-covid19exp.ipynb",
   "output_path": "2020-03-21-covid19exp.ipynb",
   "parameters": {},
   "start_time": "2022-03-11T12:13:42.471280",
   "version": "2.0.0"
  }
 },
 "nbformat": 4,
 "nbformat_minor": 5
}