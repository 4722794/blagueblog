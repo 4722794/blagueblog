{
 "cells": [
  {
   "cell_type": "markdown",
   "id": "muslim-click",
   "metadata": {
    "papermill": {
     "duration": 0.043912,
     "end_time": "2021-09-03T12:11:14.162465",
     "exception": false,
     "start_time": "2021-09-03T12:11:14.118553",
     "status": "completed"
    },
    "tags": []
   },
   "source": [
    "# COVID-19 Case Race\n",
    "> A race chart to see rising cases around the world\n",
    "\n",
    "- author: Hargun Oberoi\n",
    "- image: images/covid-overview.png\n",
    "- hide: false\n",
    "- badges: false"
   ]
  },
  {
   "cell_type": "code",
   "execution_count": 1,
   "id": "proof-material",
   "metadata": {
    "execution": {
     "iopub.execute_input": "2021-09-03T12:11:14.251085Z",
     "iopub.status.busy": "2021-09-03T12:11:14.250394Z",
     "iopub.status.idle": "2021-09-03T12:11:14.655914Z",
     "shell.execute_reply": "2021-09-03T12:11:14.655383Z"
    },
    "papermill": {
     "duration": 0.455509,
     "end_time": "2021-09-03T12:11:14.656063",
     "exception": false,
     "start_time": "2021-09-03T12:11:14.200554",
     "status": "completed"
    },
    "tags": []
   },
   "outputs": [],
   "source": [
    "#hide\n",
    "import numpy as np\n",
    "import pandas as pd\n",
    "from jinja2 import Template\n",
    "from IPython.display import HTML"
   ]
  },
  {
   "cell_type": "code",
   "execution_count": 2,
   "id": "developed-terminology",
   "metadata": {
    "execution": {
     "iopub.execute_input": "2021-09-03T12:11:14.741664Z",
     "iopub.status.busy": "2021-09-03T12:11:14.741040Z",
     "iopub.status.idle": "2021-09-03T12:11:14.743447Z",
     "shell.execute_reply": "2021-09-03T12:11:14.742909Z"
    },
    "papermill": {
     "duration": 0.047671,
     "end_time": "2021-09-03T12:11:14.743650",
     "exception": false,
     "start_time": "2021-09-03T12:11:14.695979",
     "status": "completed"
    },
    "tags": []
   },
   "outputs": [],
   "source": [
    "#hide\n",
    "\n",
    "# FETCH\n",
    "base_url = 'https://raw.githubusercontent.com/pratapvardhan/notebooks/master/covid19/'\n",
    "paths = {\n",
    "    'mapping': base_url + 'mapping_countries.csv',\n",
    "    'overview': base_url + 'overview.tpl'\n",
    "}"
   ]
  },
  {
   "cell_type": "code",
   "execution_count": 3,
   "id": "dynamic-saver",
   "metadata": {
    "execution": {
     "iopub.execute_input": "2021-09-03T12:11:14.831991Z",
     "iopub.status.busy": "2021-09-03T12:11:14.829332Z",
     "iopub.status.idle": "2021-09-03T12:11:14.835232Z",
     "shell.execute_reply": "2021-09-03T12:11:14.834725Z"
    },
    "papermill": {
     "duration": 0.053382,
     "end_time": "2021-09-03T12:11:14.835358",
     "exception": false,
     "start_time": "2021-09-03T12:11:14.781976",
     "status": "completed"
    },
    "tags": []
   },
   "outputs": [
    {
     "data": {
      "text/plain": [
       "'https://raw.githubusercontent.com/pratapvardhan/notebooks/master/covid19/mapping_countries.csv'"
      ]
     },
     "execution_count": 3,
     "metadata": {},
     "output_type": "execute_result"
    }
   ],
   "source": [
    "#hide\n",
    "paths['mapping']"
   ]
  },
  {
   "cell_type": "code",
   "execution_count": 4,
   "id": "urban-software",
   "metadata": {
    "execution": {
     "iopub.execute_input": "2021-09-03T12:11:14.914874Z",
     "iopub.status.busy": "2021-09-03T12:11:14.914202Z",
     "iopub.status.idle": "2021-09-03T12:11:14.916063Z",
     "shell.execute_reply": "2021-09-03T12:11:14.916616Z"
    },
    "papermill": {
     "duration": 0.045856,
     "end_time": "2021-09-03T12:11:14.916765",
     "exception": false,
     "start_time": "2021-09-03T12:11:14.870909",
     "status": "completed"
    },
    "tags": []
   },
   "outputs": [],
   "source": [
    "#hide\n",
    "def get_mappings(url):\n",
    "    df = pd.read_csv(url)\n",
    "    return {\n",
    "        'df': df,\n",
    "        'replace.country': dict(df.dropna(subset=['Name']).set_index('Country')['Name']),\n",
    "        'map.continent': dict(df.set_index('Name')['Continent'])\n",
    "    }"
   ]
  },
  {
   "cell_type": "code",
   "execution_count": 5,
   "id": "intimate-machinery",
   "metadata": {
    "execution": {
     "iopub.execute_input": "2021-09-03T12:11:14.993971Z",
     "iopub.status.busy": "2021-09-03T12:11:14.993359Z",
     "iopub.status.idle": "2021-09-03T12:11:15.023900Z",
     "shell.execute_reply": "2021-09-03T12:11:15.023220Z"
    },
    "papermill": {
     "duration": 0.072743,
     "end_time": "2021-09-03T12:11:15.024034",
     "exception": false,
     "start_time": "2021-09-03T12:11:14.951291",
     "status": "completed"
    },
    "tags": []
   },
   "outputs": [],
   "source": [
    "#hide\n",
    "mapping = get_mappings(paths['mapping'])"
   ]
  },
  {
   "cell_type": "code",
   "execution_count": 6,
   "id": "certified-tactics",
   "metadata": {
    "execution": {
     "iopub.execute_input": "2021-09-03T12:11:15.099217Z",
     "iopub.status.busy": "2021-09-03T12:11:15.098595Z",
     "iopub.status.idle": "2021-09-03T12:11:15.100947Z",
     "shell.execute_reply": "2021-09-03T12:11:15.100368Z"
    },
    "papermill": {
     "duration": 0.042362,
     "end_time": "2021-09-03T12:11:15.101070",
     "exception": false,
     "start_time": "2021-09-03T12:11:15.058708",
     "status": "completed"
    },
    "tags": []
   },
   "outputs": [],
   "source": [
    "#hide\n",
    "def get_template(path):\n",
    "    from urllib.parse import urlparse\n",
    "    if bool(urlparse(path).netloc):\n",
    "        from urllib.request import urlopen\n",
    "        return urlopen(path).read().decode('utf8')\n",
    "    return open(path).read()"
   ]
  },
  {
   "cell_type": "code",
   "execution_count": 7,
   "id": "realistic-blast",
   "metadata": {
    "execution": {
     "iopub.execute_input": "2021-09-03T12:11:15.178007Z",
     "iopub.status.busy": "2021-09-03T12:11:15.177392Z",
     "iopub.status.idle": "2021-09-03T12:11:15.180322Z",
     "shell.execute_reply": "2021-09-03T12:11:15.179837Z"
    },
    "papermill": {
     "duration": 0.04505,
     "end_time": "2021-09-03T12:11:15.180450",
     "exception": false,
     "start_time": "2021-09-03T12:11:15.135400",
     "status": "completed"
    },
    "tags": []
   },
   "outputs": [],
   "source": [
    "#hide\n",
    "def get_frame(name):\n",
    "    url = (\n",
    "        'https://raw.githubusercontent.com/CSSEGISandData/COVID-19/master/csse_covid_19_data/'\n",
    "        f'csse_covid_19_time_series/time_series_covid19_{name}_global.csv')\n",
    "    df = pd.read_csv(url)\n",
    "    # rename countries\n",
    "    df['Country/Region'] = df['Country/Region'].replace(mapping['replace.country'])\n",
    "    return df"
   ]
  },
  {
   "cell_type": "code",
   "execution_count": 8,
   "id": "affiliated-characterization",
   "metadata": {
    "execution": {
     "iopub.execute_input": "2021-09-03T12:11:15.257876Z",
     "iopub.status.busy": "2021-09-03T12:11:15.257249Z",
     "iopub.status.idle": "2021-09-03T12:11:15.261392Z",
     "shell.execute_reply": "2021-09-03T12:11:15.261846Z"
    },
    "papermill": {
     "duration": 0.047614,
     "end_time": "2021-09-03T12:11:15.261998",
     "exception": false,
     "start_time": "2021-09-03T12:11:15.214384",
     "status": "completed"
    },
    "tags": []
   },
   "outputs": [],
   "source": [
    "#hide\n",
    "def get_dates(df):\n",
    "    dt_cols = df.columns[~df.columns.isin(['Province/State', 'Country/Region', 'Lat', 'Long'])]\n",
    "    LAST_DATE_I = -1\n",
    "    # sometimes last column may be empty, then go backwards\n",
    "    for i in range(-1, -len(dt_cols), -1):\n",
    "        if not df[dt_cols[i]].fillna(0).eq(0).all():\n",
    "            LAST_DATE_I = i\n",
    "            break\n",
    "    return LAST_DATE_I, dt_cols"
   ]
  },
  {
   "cell_type": "code",
   "execution_count": 9,
   "id": "recent-optimization",
   "metadata": {
    "execution": {
     "iopub.execute_input": "2021-09-03T12:11:15.337373Z",
     "iopub.status.busy": "2021-09-03T12:11:15.336751Z",
     "iopub.status.idle": "2021-09-03T12:11:15.631091Z",
     "shell.execute_reply": "2021-09-03T12:11:15.631611Z"
    },
    "papermill": {
     "duration": 0.335447,
     "end_time": "2021-09-03T12:11:15.631764",
     "exception": false,
     "start_time": "2021-09-03T12:11:15.296317",
     "status": "completed"
    },
    "tags": []
   },
   "outputs": [],
   "source": [
    "#hide\n",
    "COL_REGION = 'Country/Region'\n",
    "# Confirmed, Recovered, Deaths\n",
    "df = get_frame('confirmed')\n",
    "# dft_: timeseries, dfc_: today country agg\n",
    "dft_cases = df\n",
    "dft_deaths = get_frame('deaths')\n",
    "dft_recovered = get_frame('recovered')\n",
    "LAST_DATE_I, dt_cols = get_dates(df)"
   ]
  },
  {
   "cell_type": "code",
   "execution_count": 10,
   "id": "absolute-copper",
   "metadata": {
    "execution": {
     "iopub.execute_input": "2021-09-03T12:11:15.706723Z",
     "iopub.status.busy": "2021-09-03T12:11:15.706095Z",
     "iopub.status.idle": "2021-09-03T12:11:15.708417Z",
     "shell.execute_reply": "2021-09-03T12:11:15.707942Z"
    },
    "papermill": {
     "duration": 0.042246,
     "end_time": "2021-09-03T12:11:15.708543",
     "exception": false,
     "start_time": "2021-09-03T12:11:15.666297",
     "status": "completed"
    },
    "tags": []
   },
   "outputs": [],
   "source": [
    "#hide\n",
    "LAST_DATE_I, dt_cols = get_dates(df)\n",
    "dt_today =dt_cols[LAST_DATE_I]\n",
    "# dt_5day = dt_cols[LAST_DATE_I - 5]\n",
    "dt_yday = dt_cols[LAST_DATE_I - 1]"
   ]
  },
  {
   "cell_type": "code",
   "execution_count": 11,
   "id": "restricted-sheriff",
   "metadata": {
    "execution": {
     "iopub.execute_input": "2021-09-03T12:11:15.785413Z",
     "iopub.status.busy": "2021-09-03T12:11:15.784806Z",
     "iopub.status.idle": "2021-09-03T12:11:15.794876Z",
     "shell.execute_reply": "2021-09-03T12:11:15.794249Z"
    },
    "papermill": {
     "duration": 0.052197,
     "end_time": "2021-09-03T12:11:15.795015",
     "exception": false,
     "start_time": "2021-09-03T12:11:15.742818",
     "status": "completed"
    },
    "tags": []
   },
   "outputs": [],
   "source": [
    "#hide\n",
    "dfc_cases = dft_cases.groupby(COL_REGION)[dt_today].sum()\n",
    "dfc_deaths = dft_deaths.groupby(COL_REGION)[dt_today].sum()\n",
    "# dfp_cases = dft_cases.groupby(COL_REGION)[dt_5day].sum()\n",
    "# dfp_deaths = dft_deaths.groupby(COL_REGION)[dt_5day].sum()\n",
    "dfp_cases = dft_cases.groupby(COL_REGION)[dt_yday].sum()\n",
    "dfp_deaths = dft_deaths.groupby(COL_REGION)[dt_yday].sum()"
   ]
  },
  {
   "cell_type": "code",
   "execution_count": 12,
   "id": "deluxe-hepatitis",
   "metadata": {
    "execution": {
     "iopub.execute_input": "2021-09-03T12:11:15.895516Z",
     "iopub.status.busy": "2021-09-03T12:11:15.894895Z",
     "iopub.status.idle": "2021-09-03T12:11:15.900597Z",
     "shell.execute_reply": "2021-09-03T12:11:15.901132Z"
    },
    "papermill": {
     "duration": 0.063632,
     "end_time": "2021-09-03T12:11:15.901278",
     "exception": false,
     "start_time": "2021-09-03T12:11:15.837646",
     "status": "completed"
    },
    "tags": []
   },
   "outputs": [],
   "source": [
    "#hide\n",
    "df_table = (pd.DataFrame(dict(Cases = dfc_cases, Deaths = dfc_deaths, PCases = dfp_cases, PDeaths = dfp_deaths))\n",
    "            .sort_values(by = ['Cases','Deaths'], ascending = [False, False])\n",
    "            .reset_index())"
   ]
  },
  {
   "cell_type": "code",
   "execution_count": 13,
   "id": "educational-chancellor",
   "metadata": {
    "execution": {
     "iopub.execute_input": "2021-09-03T12:11:15.999765Z",
     "iopub.status.busy": "2021-09-03T12:11:15.999125Z",
     "iopub.status.idle": "2021-09-03T12:11:16.007829Z",
     "shell.execute_reply": "2021-09-03T12:11:16.007350Z"
    },
    "papermill": {
     "duration": 0.068512,
     "end_time": "2021-09-03T12:11:16.007957",
     "exception": false,
     "start_time": "2021-09-03T12:11:15.939445",
     "status": "completed"
    },
    "tags": []
   },
   "outputs": [
    {
     "data": {
      "text/html": [
       "<div>\n",
       "<style scoped>\n",
       "    .dataframe tbody tr th:only-of-type {\n",
       "        vertical-align: middle;\n",
       "    }\n",
       "\n",
       "    .dataframe tbody tr th {\n",
       "        vertical-align: top;\n",
       "    }\n",
       "\n",
       "    .dataframe thead th {\n",
       "        text-align: right;\n",
       "    }\n",
       "</style>\n",
       "<table border=\"1\" class=\"dataframe\">\n",
       "  <thead>\n",
       "    <tr style=\"text-align: right;\">\n",
       "      <th></th>\n",
       "      <th>Country/Region</th>\n",
       "      <th>Cases</th>\n",
       "      <th>Deaths</th>\n",
       "      <th>PCases</th>\n",
       "      <th>PDeaths</th>\n",
       "      <th>Cases (+)</th>\n",
       "      <th>Deaths (+)</th>\n",
       "      <th>Fatality Rate</th>\n",
       "      <th>Continent</th>\n",
       "    </tr>\n",
       "  </thead>\n",
       "  <tbody>\n",
       "    <tr>\n",
       "      <th>0</th>\n",
       "      <td>US</td>\n",
       "      <td>39549299</td>\n",
       "      <td>643669</td>\n",
       "      <td>39396156</td>\n",
       "      <td>642081</td>\n",
       "      <td>153143</td>\n",
       "      <td>1588</td>\n",
       "      <td>1.63</td>\n",
       "      <td>North America</td>\n",
       "    </tr>\n",
       "    <tr>\n",
       "      <th>1</th>\n",
       "      <td>India</td>\n",
       "      <td>32903289</td>\n",
       "      <td>439895</td>\n",
       "      <td>32857937</td>\n",
       "      <td>439529</td>\n",
       "      <td>45352</td>\n",
       "      <td>366</td>\n",
       "      <td>1.34</td>\n",
       "      <td>Asia</td>\n",
       "    </tr>\n",
       "    <tr>\n",
       "      <th>2</th>\n",
       "      <td>Brazil</td>\n",
       "      <td>20830495</td>\n",
       "      <td>581914</td>\n",
       "      <td>20804215</td>\n",
       "      <td>581150</td>\n",
       "      <td>26280</td>\n",
       "      <td>764</td>\n",
       "      <td>2.79</td>\n",
       "      <td>South America</td>\n",
       "    </tr>\n",
       "    <tr>\n",
       "      <th>3</th>\n",
       "      <td>United Kingdom</td>\n",
       "      <td>6894915</td>\n",
       "      <td>133244</td>\n",
       "      <td>6856933</td>\n",
       "      <td>133066</td>\n",
       "      <td>37982</td>\n",
       "      <td>178</td>\n",
       "      <td>1.93</td>\n",
       "      <td>Europe</td>\n",
       "    </tr>\n",
       "    <tr>\n",
       "      <th>4</th>\n",
       "      <td>France</td>\n",
       "      <td>6882305</td>\n",
       "      <td>115108</td>\n",
       "      <td>6868151</td>\n",
       "      <td>126310</td>\n",
       "      <td>14154</td>\n",
       "      <td>0</td>\n",
       "      <td>1.67</td>\n",
       "      <td>Europe</td>\n",
       "    </tr>\n",
       "  </tbody>\n",
       "</table>\n",
       "</div>"
      ],
      "text/plain": [
       "   Country/Region     Cases  Deaths    PCases  PDeaths  Cases (+)  Deaths (+)  \\\n",
       "0              US  39549299  643669  39396156   642081     153143        1588   \n",
       "1           India  32903289  439895  32857937   439529      45352         366   \n",
       "2          Brazil  20830495  581914  20804215   581150      26280         764   \n",
       "3  United Kingdom   6894915  133244   6856933   133066      37982         178   \n",
       "4          France   6882305  115108   6868151   126310      14154           0   \n",
       "\n",
       "   Fatality Rate      Continent  \n",
       "0           1.63  North America  \n",
       "1           1.34           Asia  \n",
       "2           2.79  South America  \n",
       "3           1.93         Europe  \n",
       "4           1.67         Europe  "
      ]
     },
     "execution_count": 13,
     "metadata": {},
     "output_type": "execute_result"
    }
   ],
   "source": [
    "#hide\n",
    "for c in 'Cases, Deaths'.split(', '):\n",
    "    df_table[f'{c} (+)'] = (df_table[c] - df_table[f'P{c}']).clip(0)\n",
    "    #Clip ça veut dire, les chiffres negatif sont interdit\n",
    "df_table['Fatality Rate'] = (100* df_table['Deaths']/ df_table['Cases']).round(2)\n",
    "df_table['Continent'] = df_table['Country/Region'].map(mapping['map.continent'])\n",
    "df_table.head(5)"
   ]
  },
  {
   "cell_type": "code",
   "execution_count": 14,
   "id": "aboriginal-bulgaria",
   "metadata": {
    "execution": {
     "iopub.execute_input": "2021-09-03T12:11:16.091995Z",
     "iopub.status.busy": "2021-09-03T12:11:16.091391Z",
     "iopub.status.idle": "2021-09-03T12:11:16.093650Z",
     "shell.execute_reply": "2021-09-03T12:11:16.093155Z"
    },
    "papermill": {
     "duration": 0.046174,
     "end_time": "2021-09-03T12:11:16.093770",
     "exception": false,
     "start_time": "2021-09-03T12:11:16.047596",
     "status": "completed"
    },
    "tags": []
   },
   "outputs": [],
   "source": [
    "#hide\n",
    "#delete problematic countries from table\n",
    "df_table = df_table[~df_table['Country/Region'].isin(['Cape Verde', 'Cruise Ship', 'Kosovo'])]"
   ]
  },
  {
   "cell_type": "code",
   "execution_count": 15,
   "id": "fantastic-effect",
   "metadata": {
    "execution": {
     "iopub.execute_input": "2021-09-03T12:11:16.175180Z",
     "iopub.status.busy": "2021-09-03T12:11:16.174493Z",
     "iopub.status.idle": "2021-09-03T12:11:16.199035Z",
     "shell.execute_reply": "2021-09-03T12:11:16.198274Z"
    },
    "papermill": {
     "duration": 0.068927,
     "end_time": "2021-09-03T12:11:16.199198",
     "exception": false,
     "start_time": "2021-09-03T12:11:16.130271",
     "status": "completed"
    },
    "tags": []
   },
   "outputs": [
    {
     "data": {
      "text/html": [
       "<div>\n",
       "<style scoped>\n",
       "    .dataframe tbody tr th:only-of-type {\n",
       "        vertical-align: middle;\n",
       "    }\n",
       "\n",
       "    .dataframe tbody tr th {\n",
       "        vertical-align: top;\n",
       "    }\n",
       "\n",
       "    .dataframe thead th {\n",
       "        text-align: right;\n",
       "    }\n",
       "</style>\n",
       "<table border=\"1\" class=\"dataframe\">\n",
       "  <thead>\n",
       "    <tr style=\"text-align: right;\">\n",
       "      <th></th>\n",
       "      <th>Country/Region</th>\n",
       "      <th>Cases</th>\n",
       "      <th>Deaths</th>\n",
       "      <th>PCases</th>\n",
       "      <th>PDeaths</th>\n",
       "      <th>Cases (+)</th>\n",
       "      <th>Deaths (+)</th>\n",
       "      <th>Fatality Rate</th>\n",
       "      <th>Continent</th>\n",
       "    </tr>\n",
       "  </thead>\n",
       "  <tbody>\n",
       "    <tr>\n",
       "      <th>0</th>\n",
       "      <td>US</td>\n",
       "      <td>39549299</td>\n",
       "      <td>643669</td>\n",
       "      <td>39396156</td>\n",
       "      <td>642081</td>\n",
       "      <td>153143</td>\n",
       "      <td>1588</td>\n",
       "      <td>1.6</td>\n",
       "      <td>North America</td>\n",
       "    </tr>\n",
       "    <tr>\n",
       "      <th>1</th>\n",
       "      <td>India</td>\n",
       "      <td>32903289</td>\n",
       "      <td>439895</td>\n",
       "      <td>32857937</td>\n",
       "      <td>439529</td>\n",
       "      <td>45352</td>\n",
       "      <td>366</td>\n",
       "      <td>1.3</td>\n",
       "      <td>Asia</td>\n",
       "    </tr>\n",
       "    <tr>\n",
       "      <th>2</th>\n",
       "      <td>Brazil</td>\n",
       "      <td>20830495</td>\n",
       "      <td>581914</td>\n",
       "      <td>20804215</td>\n",
       "      <td>581150</td>\n",
       "      <td>26280</td>\n",
       "      <td>764</td>\n",
       "      <td>2.8</td>\n",
       "      <td>South America</td>\n",
       "    </tr>\n",
       "    <tr>\n",
       "      <th>3</th>\n",
       "      <td>United Kingdom</td>\n",
       "      <td>6894915</td>\n",
       "      <td>133244</td>\n",
       "      <td>6856933</td>\n",
       "      <td>133066</td>\n",
       "      <td>37982</td>\n",
       "      <td>178</td>\n",
       "      <td>1.9</td>\n",
       "      <td>Europe</td>\n",
       "    </tr>\n",
       "    <tr>\n",
       "      <th>4</th>\n",
       "      <td>France</td>\n",
       "      <td>6882305</td>\n",
       "      <td>115108</td>\n",
       "      <td>6868151</td>\n",
       "      <td>126310</td>\n",
       "      <td>14154</td>\n",
       "      <td>0</td>\n",
       "      <td>1.7</td>\n",
       "      <td>Europe</td>\n",
       "    </tr>\n",
       "  </tbody>\n",
       "</table>\n",
       "</div>"
      ],
      "text/plain": [
       "   Country/Region     Cases  Deaths    PCases  PDeaths  Cases (+)  Deaths (+)  \\\n",
       "0              US  39549299  643669  39396156   642081     153143        1588   \n",
       "1           India  32903289  439895  32857937   439529      45352         366   \n",
       "2          Brazil  20830495  581914  20804215   581150      26280         764   \n",
       "3  United Kingdom   6894915  133244   6856933   133066      37982         178   \n",
       "4          France   6882305  115108   6868151   126310      14154           0   \n",
       "\n",
       "   Fatality Rate      Continent  \n",
       "0            1.6  North America  \n",
       "1            1.3           Asia  \n",
       "2            2.8  South America  \n",
       "3            1.9         Europe  \n",
       "4            1.7         Europe  "
      ]
     },
     "execution_count": 15,
     "metadata": {},
     "output_type": "execute_result"
    }
   ],
   "source": [
    "#hide\n",
    "df_table = (pd.DataFrame(dict(Cases=dfc_cases, Deaths=dfc_deaths, PCases=dfp_cases, PDeaths=dfp_deaths))\n",
    "             .sort_values(by=['Cases', 'Deaths'], ascending=[False, False])\n",
    "             .reset_index())\n",
    "df_table.rename(columns={'index': 'Country/Region'}, inplace=True)\n",
    "for c in 'Cases, Deaths'.split(', '):\n",
    "    df_table[f'{c} (+)'] = (df_table[c] - df_table[f'P{c}']).clip(0)  # DATA BUG\n",
    "df_table['Fatality Rate'] = (100 * df_table['Deaths'] / df_table['Cases']).round(1)\n",
    "df_table['Continent'] = df_table['Country/Region'].map(mapping['map.continent'])\n",
    "df_table.head(5)"
   ]
  },
  {
   "cell_type": "code",
   "execution_count": 16,
   "id": "fewer-occasion",
   "metadata": {
    "execution": {
     "iopub.execute_input": "2021-09-03T12:11:16.287671Z",
     "iopub.status.busy": "2021-09-03T12:11:16.287057Z",
     "iopub.status.idle": "2021-09-03T12:11:16.288757Z",
     "shell.execute_reply": "2021-09-03T12:11:16.289230Z"
    },
    "papermill": {
     "duration": 0.049419,
     "end_time": "2021-09-03T12:11:16.289376",
     "exception": false,
     "start_time": "2021-09-03T12:11:16.239957",
     "status": "completed"
    },
    "tags": []
   },
   "outputs": [],
   "source": [
    "#hide\n",
    "#delete problematic countries from table\n",
    "df_table = df_table[~df_table['Country/Region'].isin(['Cape Verde', 'Cruise Ship', 'Kosovo'])]"
   ]
  },
  {
   "cell_type": "code",
   "execution_count": 17,
   "id": "related-center",
   "metadata": {
    "execution": {
     "iopub.execute_input": "2021-09-03T12:11:16.390607Z",
     "iopub.status.busy": "2021-09-03T12:11:16.389876Z",
     "iopub.status.idle": "2021-09-03T12:11:16.391264Z",
     "shell.execute_reply": "2021-09-03T12:11:16.391814Z"
    },
    "papermill": {
     "duration": 0.061036,
     "end_time": "2021-09-03T12:11:16.391962",
     "exception": false,
     "start_time": "2021-09-03T12:11:16.330926",
     "status": "completed"
    },
    "tags": []
   },
   "outputs": [],
   "source": [
    "#hide\n",
    "metrics = [df_table.columns[index] for index in [1,2,5,6]]\n",
    "# s_china = df_table[df_table['Country/Region'].eq('China')][metrics].sum().add_prefix('China ')\n",
    "s_us = df_table[df_table['Country/Region'].eq('US')][metrics].sum().add_prefix('US ')\n",
    "s_eu = df_table[df_table['Continent'].eq('Europe')][metrics].sum().add_prefix('EU ')\n",
    "s_ind = df_table[df_table['Country/Region'].eq('India')][metrics].sum().add_prefix('India ')\n",
    "summary = {'updated': pd.to_datetime(dt_today), 'since': pd.to_datetime(dt_yday)}\n",
    "summary = {'updated': pd.to_datetime(dt_today), 'since': pd.to_datetime(dt_yday)}\n",
    "summary = {**summary, **df_table[metrics].sum(), **s_ind, **s_us, **s_eu}"
   ]
  },
  {
   "cell_type": "code",
   "execution_count": 18,
   "id": "engaging-syndrome",
   "metadata": {
    "execution": {
     "iopub.execute_input": "2021-09-03T12:11:16.469371Z",
     "iopub.status.busy": "2021-09-03T12:11:16.468790Z",
     "iopub.status.idle": "2021-09-03T12:11:16.484535Z",
     "shell.execute_reply": "2021-09-03T12:11:16.484053Z"
    },
    "papermill": {
     "duration": 0.057106,
     "end_time": "2021-09-03T12:11:16.484666",
     "exception": false,
     "start_time": "2021-09-03T12:11:16.427560",
     "status": "completed"
    },
    "tags": []
   },
   "outputs": [],
   "source": [
    "#hide\n",
    "dft_ct_new_cases = dft_cases.groupby(COL_REGION)[dt_cols].sum().diff(axis=1).fillna(0).astype(int)"
   ]
  },
  {
   "cell_type": "code",
   "execution_count": 19,
   "id": "neutral-assignment",
   "metadata": {
    "execution": {
     "iopub.execute_input": "2021-09-03T12:11:16.569640Z",
     "iopub.status.busy": "2021-09-03T12:11:16.568966Z",
     "iopub.status.idle": "2021-09-03T12:11:16.570307Z",
     "shell.execute_reply": "2021-09-03T12:11:16.570891Z"
    },
    "papermill": {
     "duration": 0.050299,
     "end_time": "2021-09-03T12:11:16.571040",
     "exception": false,
     "start_time": "2021-09-03T12:11:16.520741",
     "status": "completed"
    },
    "tags": []
   },
   "outputs": [],
   "source": [
    "#hide\n",
    "everydaycases = dft_ct_new_cases.cumsum(axis=1)"
   ]
  },
  {
   "cell_type": "code",
   "execution_count": 20,
   "id": "parliamentary-calgary",
   "metadata": {
    "execution": {
     "iopub.execute_input": "2021-09-03T12:11:16.648961Z",
     "iopub.status.busy": "2021-09-03T12:11:16.648342Z",
     "iopub.status.idle": "2021-09-03T12:11:17.317203Z",
     "shell.execute_reply": "2021-09-03T12:11:17.316657Z"
    },
    "papermill": {
     "duration": 0.709026,
     "end_time": "2021-09-03T12:11:17.317333",
     "exception": false,
     "start_time": "2021-09-03T12:11:16.608307",
     "status": "completed"
    },
    "tags": []
   },
   "outputs": [],
   "source": [
    "#hide\n",
    "import pandas as pd\n",
    "import matplotlib.pyplot as plt\n",
    "import matplotlib.ticker as ticker\n",
    "import matplotlib.animation as animation\n",
    "from IPython.display import HTML"
   ]
  },
  {
   "cell_type": "code",
   "execution_count": 21,
   "id": "lasting-extraction",
   "metadata": {
    "execution": {
     "iopub.execute_input": "2021-09-03T12:11:17.401128Z",
     "iopub.status.busy": "2021-09-03T12:11:17.400514Z",
     "iopub.status.idle": "2021-09-03T12:11:17.406662Z",
     "shell.execute_reply": "2021-09-03T12:11:17.406037Z"
    },
    "papermill": {
     "duration": 0.049186,
     "end_time": "2021-09-03T12:11:17.406791",
     "exception": false,
     "start_time": "2021-09-03T12:11:17.357605",
     "status": "completed"
    },
    "tags": []
   },
   "outputs": [],
   "source": [
    "#hide\n",
    "t = everydaycases.stack()"
   ]
  },
  {
   "cell_type": "code",
   "execution_count": 22,
   "id": "premier-sleeve",
   "metadata": {
    "execution": {
     "iopub.execute_input": "2021-09-03T12:11:17.485699Z",
     "iopub.status.busy": "2021-09-03T12:11:17.485077Z",
     "iopub.status.idle": "2021-09-03T12:11:17.494473Z",
     "shell.execute_reply": "2021-09-03T12:11:17.493889Z"
    },
    "papermill": {
     "duration": 0.051314,
     "end_time": "2021-09-03T12:11:17.494657",
     "exception": false,
     "start_time": "2021-09-03T12:11:17.443343",
     "status": "completed"
    },
    "tags": []
   },
   "outputs": [],
   "source": [
    "#hide\n",
    "g = t.reset_index(['Country/Region'])"
   ]
  },
  {
   "cell_type": "code",
   "execution_count": 23,
   "id": "distributed-pittsburgh",
   "metadata": {
    "execution": {
     "iopub.execute_input": "2021-09-03T12:11:17.576863Z",
     "iopub.status.busy": "2021-09-03T12:11:17.576261Z",
     "iopub.status.idle": "2021-09-03T12:11:17.578487Z",
     "shell.execute_reply": "2021-09-03T12:11:17.578018Z"
    },
    "papermill": {
     "duration": 0.044242,
     "end_time": "2021-09-03T12:11:17.578636",
     "exception": false,
     "start_time": "2021-09-03T12:11:17.534394",
     "status": "completed"
    },
    "tags": []
   },
   "outputs": [],
   "source": [
    "#hide\n",
    "g.index.name = 'date'"
   ]
  },
  {
   "cell_type": "code",
   "execution_count": 24,
   "id": "naked-donor",
   "metadata": {
    "execution": {
     "iopub.execute_input": "2021-09-03T12:11:17.658087Z",
     "iopub.status.busy": "2021-09-03T12:11:17.657480Z",
     "iopub.status.idle": "2021-09-03T12:11:17.659736Z",
     "shell.execute_reply": "2021-09-03T12:11:17.659244Z"
    },
    "papermill": {
     "duration": 0.045672,
     "end_time": "2021-09-03T12:11:17.659858",
     "exception": false,
     "start_time": "2021-09-03T12:11:17.614186",
     "status": "completed"
    },
    "tags": []
   },
   "outputs": [],
   "source": [
    "# #hide\n",
    "# g = g.reset_index(['date'])"
   ]
  },
  {
   "cell_type": "code",
   "execution_count": 25,
   "id": "incomplete-mustang",
   "metadata": {
    "execution": {
     "iopub.execute_input": "2021-09-03T12:11:17.739835Z",
     "iopub.status.busy": "2021-09-03T12:11:17.739044Z",
     "iopub.status.idle": "2021-09-03T12:11:17.740873Z",
     "shell.execute_reply": "2021-09-03T12:11:17.740383Z"
    },
    "papermill": {
     "duration": 0.045413,
     "end_time": "2021-09-03T12:11:17.740997",
     "exception": false,
     "start_time": "2021-09-03T12:11:17.695584",
     "status": "completed"
    },
    "tags": []
   },
   "outputs": [],
   "source": [
    "#hide\n",
    "# g.head()"
   ]
  },
  {
   "cell_type": "code",
   "execution_count": 26,
   "id": "specific-kruger",
   "metadata": {
    "execution": {
     "iopub.execute_input": "2021-09-03T12:11:17.820805Z",
     "iopub.status.busy": "2021-09-03T12:11:17.820206Z",
     "iopub.status.idle": "2021-09-03T12:11:17.822430Z",
     "shell.execute_reply": "2021-09-03T12:11:17.821935Z"
    },
    "papermill": {
     "duration": 0.043463,
     "end_time": "2021-09-03T12:11:17.822574",
     "exception": false,
     "start_time": "2021-09-03T12:11:17.779111",
     "status": "completed"
    },
    "tags": []
   },
   "outputs": [],
   "source": [
    "#hide\n",
    "# g.columns = ['date','country','cases']"
   ]
  },
  {
   "cell_type": "code",
   "execution_count": 27,
   "id": "tender-conversion",
   "metadata": {
    "execution": {
     "iopub.execute_input": "2021-09-03T12:11:17.902184Z",
     "iopub.status.busy": "2021-09-03T12:11:17.901549Z",
     "iopub.status.idle": "2021-09-03T12:11:17.903205Z",
     "shell.execute_reply": "2021-09-03T12:11:17.904236Z"
    },
    "papermill": {
     "duration": 0.044064,
     "end_time": "2021-09-03T12:11:17.904400",
     "exception": false,
     "start_time": "2021-09-03T12:11:17.860336",
     "status": "completed"
    },
    "tags": []
   },
   "outputs": [],
   "source": [
    "#hide\n",
    "# g['continent'] = g.country"
   ]
  },
  {
   "cell_type": "code",
   "execution_count": 28,
   "id": "substantial-wilderness",
   "metadata": {
    "execution": {
     "iopub.execute_input": "2021-09-03T12:11:17.987667Z",
     "iopub.status.busy": "2021-09-03T12:11:17.987048Z",
     "iopub.status.idle": "2021-09-03T12:11:17.989912Z",
     "shell.execute_reply": "2021-09-03T12:11:17.989178Z"
    },
    "papermill": {
     "duration": 0.049353,
     "end_time": "2021-09-03T12:11:17.990048",
     "exception": false,
     "start_time": "2021-09-03T12:11:17.940695",
     "status": "completed"
    },
    "tags": []
   },
   "outputs": [],
   "source": [
    "#hide\n",
    "# cols = list(g.columns.values)"
   ]
  },
  {
   "cell_type": "code",
   "execution_count": 29,
   "id": "solved-farming",
   "metadata": {
    "execution": {
     "iopub.execute_input": "2021-09-03T12:11:18.075956Z",
     "iopub.status.busy": "2021-09-03T12:11:18.072660Z",
     "iopub.status.idle": "2021-09-03T12:11:18.076900Z",
     "shell.execute_reply": "2021-09-03T12:11:18.077395Z"
    },
    "papermill": {
     "duration": 0.043965,
     "end_time": "2021-09-03T12:11:18.077540",
     "exception": false,
     "start_time": "2021-09-03T12:11:18.033575",
     "status": "completed"
    },
    "tags": []
   },
   "outputs": [],
   "source": [
    "#hide\n",
    "# cols.insert(0, cols.pop())"
   ]
  },
  {
   "cell_type": "code",
   "execution_count": 30,
   "id": "executed-adoption",
   "metadata": {
    "execution": {
     "iopub.execute_input": "2021-09-03T12:11:18.155952Z",
     "iopub.status.busy": "2021-09-03T12:11:18.155308Z",
     "iopub.status.idle": "2021-09-03T12:11:18.157908Z",
     "shell.execute_reply": "2021-09-03T12:11:18.156948Z"
    },
    "papermill": {
     "duration": 0.044195,
     "end_time": "2021-09-03T12:11:18.158060",
     "exception": false,
     "start_time": "2021-09-03T12:11:18.113865",
     "status": "completed"
    },
    "tags": []
   },
   "outputs": [],
   "source": [
    "#hide\n",
    "# g = g[cols]"
   ]
  },
  {
   "cell_type": "code",
   "execution_count": 31,
   "id": "subject-dublin",
   "metadata": {
    "execution": {
     "iopub.execute_input": "2021-09-03T12:11:18.242220Z",
     "iopub.status.busy": "2021-09-03T12:11:18.241631Z",
     "iopub.status.idle": "2021-09-03T12:11:18.243973Z",
     "shell.execute_reply": "2021-09-03T12:11:18.244459Z"
    },
    "papermill": {
     "duration": 0.050342,
     "end_time": "2021-09-03T12:11:18.244603",
     "exception": false,
     "start_time": "2021-09-03T12:11:18.194261",
     "status": "completed"
    },
    "tags": []
   },
   "outputs": [],
   "source": [
    "#hide\n",
    "# g['continent'] = g['continent'].map(mapping['map.continent'])"
   ]
  },
  {
   "cell_type": "code",
   "execution_count": 32,
   "id": "freelance-scout",
   "metadata": {
    "execution": {
     "iopub.execute_input": "2021-09-03T12:11:18.326290Z",
     "iopub.status.busy": "2021-09-03T12:11:18.325013Z",
     "iopub.status.idle": "2021-09-03T12:11:18.326986Z",
     "shell.execute_reply": "2021-09-03T12:11:18.327451Z"
    },
    "papermill": {
     "duration": 0.046218,
     "end_time": "2021-09-03T12:11:18.327598",
     "exception": false,
     "start_time": "2021-09-03T12:11:18.281380",
     "status": "completed"
    },
    "tags": []
   },
   "outputs": [],
   "source": [
    "#hide\n",
    "# g.head()"
   ]
  },
  {
   "cell_type": "code",
   "execution_count": 33,
   "id": "limited-engine",
   "metadata": {
    "execution": {
     "iopub.execute_input": "2021-09-03T12:11:18.406495Z",
     "iopub.status.busy": "2021-09-03T12:11:18.405904Z",
     "iopub.status.idle": "2021-09-03T12:11:18.408674Z",
     "shell.execute_reply": "2021-09-03T12:11:18.408204Z"
    },
    "papermill": {
     "duration": 0.043731,
     "end_time": "2021-09-03T12:11:18.408809",
     "exception": false,
     "start_time": "2021-09-03T12:11:18.365078",
     "status": "completed"
    },
    "tags": []
   },
   "outputs": [],
   "source": [
    "# hide\n",
    "# g['date'] = g['date'].astype('datetime64[ns]')"
   ]
  },
  {
   "cell_type": "code",
   "execution_count": 34,
   "id": "sophisticated-supervisor",
   "metadata": {
    "execution": {
     "iopub.execute_input": "2021-09-03T12:11:18.488012Z",
     "iopub.status.busy": "2021-09-03T12:11:18.487403Z",
     "iopub.status.idle": "2021-09-03T12:11:18.489693Z",
     "shell.execute_reply": "2021-09-03T12:11:18.490176Z"
    },
    "papermill": {
     "duration": 0.043264,
     "end_time": "2021-09-03T12:11:18.490326",
     "exception": false,
     "start_time": "2021-09-03T12:11:18.447062",
     "status": "completed"
    },
    "tags": []
   },
   "outputs": [],
   "source": [
    "#hide\n",
    "# g['date'] = g.date.dt.dayofyear"
   ]
  },
  {
   "cell_type": "code",
   "execution_count": 35,
   "id": "inside-dubai",
   "metadata": {
    "execution": {
     "iopub.execute_input": "2021-09-03T12:11:18.568836Z",
     "iopub.status.busy": "2021-09-03T12:11:18.567879Z",
     "iopub.status.idle": "2021-09-03T12:11:18.569383Z",
     "shell.execute_reply": "2021-09-03T12:11:18.569939Z"
    },
    "papermill": {
     "duration": 0.043541,
     "end_time": "2021-09-03T12:11:18.570082",
     "exception": false,
     "start_time": "2021-09-03T12:11:18.526541",
     "status": "completed"
    },
    "tags": []
   },
   "outputs": [],
   "source": [
    "#hide\n",
    "# g = g.rename(columns= {'continent':'group','country':'name','cases':'value'})"
   ]
  },
  {
   "cell_type": "code",
   "execution_count": 36,
   "id": "fleet-motorcycle",
   "metadata": {
    "execution": {
     "iopub.execute_input": "2021-09-03T12:11:18.647987Z",
     "iopub.status.busy": "2021-09-03T12:11:18.647380Z",
     "iopub.status.idle": "2021-09-03T12:11:18.649879Z",
     "shell.execute_reply": "2021-09-03T12:11:18.650447Z"
    },
    "papermill": {
     "duration": 0.043849,
     "end_time": "2021-09-03T12:11:18.650618",
     "exception": false,
     "start_time": "2021-09-03T12:11:18.606769",
     "status": "completed"
    },
    "tags": []
   },
   "outputs": [],
   "source": [
    "#hide\n",
    "# cols = ['name','group','day','value']"
   ]
  },
  {
   "cell_type": "code",
   "execution_count": 37,
   "id": "continued-sleeping",
   "metadata": {
    "execution": {
     "iopub.execute_input": "2021-09-03T12:11:18.731175Z",
     "iopub.status.busy": "2021-09-03T12:11:18.730570Z",
     "iopub.status.idle": "2021-09-03T12:11:18.733296Z",
     "shell.execute_reply": "2021-09-03T12:11:18.732804Z"
    },
    "papermill": {
     "duration": 0.043463,
     "end_time": "2021-09-03T12:11:18.733415",
     "exception": false,
     "start_time": "2021-09-03T12:11:18.689952",
     "status": "completed"
    },
    "tags": []
   },
   "outputs": [],
   "source": [
    "#hide\n",
    "# g.rename(columns= {'date':'day'},inplace = True)"
   ]
  },
  {
   "cell_type": "code",
   "execution_count": 38,
   "id": "major-fight",
   "metadata": {
    "execution": {
     "iopub.execute_input": "2021-09-03T12:11:18.811426Z",
     "iopub.status.busy": "2021-09-03T12:11:18.810812Z",
     "iopub.status.idle": "2021-09-03T12:11:18.813185Z",
     "shell.execute_reply": "2021-09-03T12:11:18.813742Z"
    },
    "papermill": {
     "duration": 0.043807,
     "end_time": "2021-09-03T12:11:18.813882",
     "exception": false,
     "start_time": "2021-09-03T12:11:18.770075",
     "status": "completed"
    },
    "tags": []
   },
   "outputs": [],
   "source": [
    "#hide\n",
    "# g = g[cols]"
   ]
  },
  {
   "cell_type": "code",
   "execution_count": 39,
   "id": "structured-mobile",
   "metadata": {
    "execution": {
     "iopub.execute_input": "2021-09-03T12:11:18.893322Z",
     "iopub.status.busy": "2021-09-03T12:11:18.892727Z",
     "iopub.status.idle": "2021-09-03T12:11:18.895166Z",
     "shell.execute_reply": "2021-09-03T12:11:18.895615Z"
    },
    "papermill": {
     "duration": 0.046025,
     "end_time": "2021-09-03T12:11:18.895763",
     "exception": false,
     "start_time": "2021-09-03T12:11:18.849738",
     "status": "completed"
    },
    "tags": []
   },
   "outputs": [],
   "source": [
    "# #hide\n",
    "# g = g[g.group.notna()]"
   ]
  },
  {
   "cell_type": "code",
   "execution_count": 40,
   "id": "determined-closing",
   "metadata": {
    "execution": {
     "iopub.execute_input": "2021-09-03T12:11:18.973822Z",
     "iopub.status.busy": "2021-09-03T12:11:18.973228Z",
     "iopub.status.idle": "2021-09-03T12:11:18.976026Z",
     "shell.execute_reply": "2021-09-03T12:11:18.975558Z"
    },
    "papermill": {
     "duration": 0.043423,
     "end_time": "2021-09-03T12:11:18.976149",
     "exception": false,
     "start_time": "2021-09-03T12:11:18.932726",
     "status": "completed"
    },
    "tags": []
   },
   "outputs": [],
   "source": [
    "# #hide\n",
    "# colors = dict(zip(\n",
    "#     [\"Oceania\", \"Europe\", \"Asia\", \"South America\", \"Middle East\", \"North America\", \"Africa\"],\n",
    "#     [\"#adb0ff\", \"#ffb3ff\", \"#90d595\", \"#e48381\", \"#aafbff\", \"#f7bb5f\", \"#eafb50\"]\n",
    "# ))\n",
    "# group_lk = g.set_index('name')['group'].to_dict()"
   ]
  },
  {
   "cell_type": "code",
   "execution_count": null,
   "id": "gross-drinking",
   "metadata": {
    "papermill": {
     "duration": 0.036093,
     "end_time": "2021-09-03T12:11:19.048283",
     "exception": false,
     "start_time": "2021-09-03T12:11:19.012190",
     "status": "completed"
    },
    "tags": []
   },
   "outputs": [],
   "source": []
  },
  {
   "cell_type": "code",
   "execution_count": 41,
   "id": "subject-macintosh",
   "metadata": {
    "execution": {
     "iopub.execute_input": "2021-09-03T12:11:19.126763Z",
     "iopub.status.busy": "2021-09-03T12:11:19.126113Z",
     "iopub.status.idle": "2021-09-03T12:11:19.127977Z",
     "shell.execute_reply": "2021-09-03T12:11:19.128446Z"
    },
    "papermill": {
     "duration": 0.043984,
     "end_time": "2021-09-03T12:11:19.128585",
     "exception": false,
     "start_time": "2021-09-03T12:11:19.084601",
     "status": "completed"
    },
    "tags": []
   },
   "outputs": [],
   "source": [
    "# #hide\n",
    "# fig, ax = plt.subplots(figsize=(15, 8))\n",
    "\n",
    "# def draw_barchart(current_day):\n",
    "#     dff = g[g['day'].eq(current_day)].sort_values(by='value', ascending=True).tail(10)\n",
    "#     ax.clear()\n",
    "#     ax.barh(dff['name'], dff['value'], color=[colors[group_lk[x]] for x in dff['name']])\n",
    "#     dx = dff['value'].max() / 200\n",
    "    \n",
    "#     for i, (value, name) in enumerate(zip(dff['value'], dff['name'])):\n",
    "#         ax.text(value-dx, i,     name,           size=14, weight=600, ha='right', va='bottom')\n",
    "#         ax.text(value-dx, i-.25, group_lk[name], size=10, color='#444444', ha='right', va='baseline')\n",
    "#         ax.text(value+dx, i,     f'{value:,.0f}',  size=14, ha='left',  va='center')\n",
    "#     ax.text(1, 0.4, current_day, transform=ax.transAxes, color='#777777', size=46, ha='right', weight=800)\n",
    "#     ax.text(0, 1.06, 'Population (thousands)', transform=ax.transAxes, size=12, color='#777777')\n",
    "#     ax.xaxis.set_major_formatter(ticker.StrMethodFormatter('{x:,.0f}'))\n",
    "#     ax.xaxis.set_ticks_position('top')\n",
    "#     ax.tick_params(axis='x', colors='#777777', labelsize=12)\n",
    "#     ax.set_yticks([])\n",
    "#     ax.margins(0, 0.01)\n",
    "#     ax.grid(which='major', axis='x', linestyle='-')\n",
    "#     ax.set_axisbelow(True)\n",
    "    \n",
    "#     ax.text(0, 1.15, 'Coronavirus',\n",
    "#             transform=ax.transAxes, size=24, weight=600, ha='left', va='top')\n",
    "# #     ax.text(1, 0, 'by @pratapvardhan; credit @jburnmurdoch', transform=ax.transAxes, color='#777777', ha='right',\n",
    "# #             bbox=dict(facecolor='white', alpha=0.8, edgecolor='white'))\n",
    "#     plt.box(False)"
   ]
  },
  {
   "cell_type": "code",
   "execution_count": 42,
   "id": "sexual-wages",
   "metadata": {
    "execution": {
     "iopub.execute_input": "2021-09-03T12:11:19.206621Z",
     "iopub.status.busy": "2021-09-03T12:11:19.205974Z",
     "iopub.status.idle": "2021-09-03T12:11:19.207774Z",
     "shell.execute_reply": "2021-09-03T12:11:19.208277Z"
    },
    "papermill": {
     "duration": 0.042423,
     "end_time": "2021-09-03T12:11:19.208417",
     "exception": false,
     "start_time": "2021-09-03T12:11:19.165994",
     "status": "completed"
    },
    "tags": []
   },
   "outputs": [],
   "source": [
    "# #hide_input\n",
    "# fig, ax = plt.subplots(figsize=(15, 8))\n",
    "# animator = animation.FuncAnimation(fig, draw_barchart, frames=range(g.day.values.min(), g.day.values.max()))\n",
    "# HTML(animator.to_jshtml())\n",
    "# # or use animator.to_html5_video() or animator.save() "
   ]
  },
  {
   "cell_type": "code",
   "execution_count": null,
   "id": "australian-container",
   "metadata": {
    "papermill": {
     "duration": 0.036119,
     "end_time": "2021-09-03T12:11:19.291501",
     "exception": false,
     "start_time": "2021-09-03T12:11:19.255382",
     "status": "completed"
    },
    "tags": []
   },
   "outputs": [],
   "source": []
  },
  {
   "cell_type": "code",
   "execution_count": null,
   "id": "mediterranean-pontiac",
   "metadata": {
    "papermill": {
     "duration": 0.036977,
     "end_time": "2021-09-03T12:11:19.365285",
     "exception": false,
     "start_time": "2021-09-03T12:11:19.328308",
     "status": "completed"
    },
    "tags": []
   },
   "outputs": [],
   "source": []
  },
  {
   "cell_type": "code",
   "execution_count": null,
   "id": "aging-legislature",
   "metadata": {
    "papermill": {
     "duration": 0.035896,
     "end_time": "2021-09-03T12:11:19.437939",
     "exception": false,
     "start_time": "2021-09-03T12:11:19.402043",
     "status": "completed"
    },
    "tags": []
   },
   "outputs": [],
   "source": []
  }
 ],
 "metadata": {
  "kernelspec": {
   "display_name": "Python 3",
   "language": "python",
   "name": "python3"
  },
  "language_info": {
   "codemirror_mode": {
    "name": "ipython",
    "version": 3
   },
   "file_extension": ".py",
   "mimetype": "text/x-python",
   "name": "python",
   "nbconvert_exporter": "python",
   "pygments_lexer": "ipython3",
   "version": "3.6.14"
  },
  "papermill": {
   "duration": 6.913804,
   "end_time": "2021-09-03T12:11:19.885861",
   "environment_variables": {},
   "exception": null,
   "input_path": "2020-03-21-covid19exp.ipynb",
   "output_path": "2020-03-21-covid19exp.ipynb",
   "parameters": {},
   "start_time": "2021-09-03T12:11:12.972057",
   "version": "2.0.0"
  }
 },
 "nbformat": 4,
 "nbformat_minor": 5
}