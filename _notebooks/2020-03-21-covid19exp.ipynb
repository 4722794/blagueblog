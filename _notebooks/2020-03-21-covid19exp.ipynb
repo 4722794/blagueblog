{
 "cells": [
  {
   "cell_type": "markdown",
   "id": "muslim-click",
   "metadata": {
    "papermill": {
     "duration": 0.038776,
     "end_time": "2022-11-30T12:18:01.295041",
     "exception": false,
     "start_time": "2022-11-30T12:18:01.256265",
     "status": "completed"
    },
    "tags": []
   },
   "source": [
    "# COVID-19 Case Race\n",
    "> A race chart to see rising cases around the world\n",
    "\n",
    "- author: Hargun Oberoi\n",
    "- image: images/covid-overview.png\n",
    "- hide: false\n",
    "- badges: false"
   ]
  },
  {
   "cell_type": "code",
   "execution_count": 1,
   "id": "proof-material",
   "metadata": {
    "execution": {
     "iopub.execute_input": "2022-11-30T12:18:01.375632Z",
     "iopub.status.busy": "2022-11-30T12:18:01.374569Z",
     "iopub.status.idle": "2022-11-30T12:18:01.767355Z",
     "shell.execute_reply": "2022-11-30T12:18:01.765298Z"
    },
    "papermill": {
     "duration": 0.439375,
     "end_time": "2022-11-30T12:18:01.767611",
     "exception": false,
     "start_time": "2022-11-30T12:18:01.328236",
     "status": "completed"
    },
    "tags": []
   },
   "outputs": [],
   "source": [
    "#hide\n",
    "import numpy as np\n",
    "import pandas as pd\n",
    "from jinja2 import Template\n",
    "from IPython.display import HTML"
   ]
  },
  {
   "cell_type": "code",
   "execution_count": 2,
   "id": "developed-terminology",
   "metadata": {
    "execution": {
     "iopub.execute_input": "2022-11-30T12:18:01.841962Z",
     "iopub.status.busy": "2022-11-30T12:18:01.841248Z",
     "iopub.status.idle": "2022-11-30T12:18:01.845154Z",
     "shell.execute_reply": "2022-11-30T12:18:01.845617Z"
    },
    "papermill": {
     "duration": 0.044704,
     "end_time": "2022-11-30T12:18:01.845757",
     "exception": false,
     "start_time": "2022-11-30T12:18:01.801053",
     "status": "completed"
    },
    "tags": []
   },
   "outputs": [],
   "source": [
    "#hide\n",
    "\n",
    "# FETCH\n",
    "base_url = 'https://raw.githubusercontent.com/pratapvardhan/notebooks/master/covid19/'\n",
    "paths = {\n",
    "    'mapping': base_url + 'mapping_countries.csv',\n",
    "    'overview': base_url + 'overview.tpl'\n",
    "}"
   ]
  },
  {
   "cell_type": "code",
   "execution_count": 3,
   "id": "dynamic-saver",
   "metadata": {
    "execution": {
     "iopub.execute_input": "2022-11-30T12:18:01.927309Z",
     "iopub.status.busy": "2022-11-30T12:18:01.921596Z",
     "iopub.status.idle": "2022-11-30T12:18:01.930376Z",
     "shell.execute_reply": "2022-11-30T12:18:01.931364Z"
    },
    "papermill": {
     "duration": 0.053164,
     "end_time": "2022-11-30T12:18:01.931824",
     "exception": false,
     "start_time": "2022-11-30T12:18:01.878660",
     "status": "completed"
    },
    "tags": []
   },
   "outputs": [
    {
     "data": {
      "text/plain": [
       "'https://raw.githubusercontent.com/pratapvardhan/notebooks/master/covid19/mapping_countries.csv'"
      ]
     },
     "execution_count": 3,
     "metadata": {},
     "output_type": "execute_result"
    }
   ],
   "source": [
    "#hide\n",
    "paths['mapping']"
   ]
  },
  {
   "cell_type": "code",
   "execution_count": 4,
   "id": "urban-software",
   "metadata": {
    "execution": {
     "iopub.execute_input": "2022-11-30T12:18:02.005647Z",
     "iopub.status.busy": "2022-11-30T12:18:02.004938Z",
     "iopub.status.idle": "2022-11-30T12:18:02.009376Z",
     "shell.execute_reply": "2022-11-30T12:18:02.008816Z"
    },
    "papermill": {
     "duration": 0.043969,
     "end_time": "2022-11-30T12:18:02.009505",
     "exception": false,
     "start_time": "2022-11-30T12:18:01.965536",
     "status": "completed"
    },
    "tags": []
   },
   "outputs": [],
   "source": [
    "#hide\n",
    "def get_mappings(url):\n",
    "    df = pd.read_csv(url)\n",
    "    return {\n",
    "        'df': df,\n",
    "        'replace.country': dict(df.dropna(subset=['Name']).set_index('Country')['Name']),\n",
    "        'map.continent': dict(df.set_index('Name')['Continent'])\n",
    "    }"
   ]
  },
  {
   "cell_type": "code",
   "execution_count": 5,
   "id": "intimate-machinery",
   "metadata": {
    "execution": {
     "iopub.execute_input": "2022-11-30T12:18:02.081812Z",
     "iopub.status.busy": "2022-11-30T12:18:02.081127Z",
     "iopub.status.idle": "2022-11-30T12:18:02.136249Z",
     "shell.execute_reply": "2022-11-30T12:18:02.135679Z"
    },
    "papermill": {
     "duration": 0.094493,
     "end_time": "2022-11-30T12:18:02.136384",
     "exception": false,
     "start_time": "2022-11-30T12:18:02.041891",
     "status": "completed"
    },
    "tags": []
   },
   "outputs": [],
   "source": [
    "#hide\n",
    "mapping = get_mappings(paths['mapping'])"
   ]
  },
  {
   "cell_type": "code",
   "execution_count": 6,
   "id": "certified-tactics",
   "metadata": {
    "execution": {
     "iopub.execute_input": "2022-11-30T12:18:02.215333Z",
     "iopub.status.busy": "2022-11-30T12:18:02.214055Z",
     "iopub.status.idle": "2022-11-30T12:18:02.216100Z",
     "shell.execute_reply": "2022-11-30T12:18:02.216614Z"
    },
    "papermill": {
     "duration": 0.045346,
     "end_time": "2022-11-30T12:18:02.216756",
     "exception": false,
     "start_time": "2022-11-30T12:18:02.171410",
     "status": "completed"
    },
    "tags": []
   },
   "outputs": [],
   "source": [
    "#hide\n",
    "def get_template(path):\n",
    "    from urllib.parse import urlparse\n",
    "    if bool(urlparse(path).netloc):\n",
    "        from urllib.request import urlopen\n",
    "        return urlopen(path).read().decode('utf8')\n",
    "    return open(path).read()"
   ]
  },
  {
   "cell_type": "code",
   "execution_count": 7,
   "id": "realistic-blast",
   "metadata": {
    "execution": {
     "iopub.execute_input": "2022-11-30T12:18:02.289985Z",
     "iopub.status.busy": "2022-11-30T12:18:02.289281Z",
     "iopub.status.idle": "2022-11-30T12:18:02.293906Z",
     "shell.execute_reply": "2022-11-30T12:18:02.293310Z"
    },
    "papermill": {
     "duration": 0.043243,
     "end_time": "2022-11-30T12:18:02.294029",
     "exception": false,
     "start_time": "2022-11-30T12:18:02.250786",
     "status": "completed"
    },
    "tags": []
   },
   "outputs": [],
   "source": [
    "#hide\n",
    "def get_frame(name):\n",
    "    url = (\n",
    "        'https://raw.githubusercontent.com/CSSEGISandData/COVID-19/master/csse_covid_19_data/'\n",
    "        f'csse_covid_19_time_series/time_series_covid19_{name}_global.csv')\n",
    "    df = pd.read_csv(url)\n",
    "    # rename countries\n",
    "    df['Country/Region'] = df['Country/Region'].replace(mapping['replace.country'])\n",
    "    return df"
   ]
  },
  {
   "cell_type": "code",
   "execution_count": 8,
   "id": "affiliated-characterization",
   "metadata": {
    "execution": {
     "iopub.execute_input": "2022-11-30T12:18:02.368122Z",
     "iopub.status.busy": "2022-11-30T12:18:02.367398Z",
     "iopub.status.idle": "2022-11-30T12:18:02.369357Z",
     "shell.execute_reply": "2022-11-30T12:18:02.368856Z"
    },
    "papermill": {
     "duration": 0.041127,
     "end_time": "2022-11-30T12:18:02.369488",
     "exception": false,
     "start_time": "2022-11-30T12:18:02.328361",
     "status": "completed"
    },
    "tags": []
   },
   "outputs": [],
   "source": [
    "#hide\n",
    "def get_dates(df):\n",
    "    dt_cols = df.columns[~df.columns.isin(['Province/State', 'Country/Region', 'Lat', 'Long'])]\n",
    "    LAST_DATE_I = -1\n",
    "    # sometimes last column may be empty, then go backwards\n",
    "    for i in range(-1, -len(dt_cols), -1):\n",
    "        if not df[dt_cols[i]].fillna(0).eq(0).all():\n",
    "            LAST_DATE_I = i\n",
    "            break\n",
    "    return LAST_DATE_I, dt_cols"
   ]
  },
  {
   "cell_type": "code",
   "execution_count": 9,
   "id": "recent-optimization",
   "metadata": {
    "execution": {
     "iopub.execute_input": "2022-11-30T12:18:02.440178Z",
     "iopub.status.busy": "2022-11-30T12:18:02.439483Z",
     "iopub.status.idle": "2022-11-30T12:18:03.043301Z",
     "shell.execute_reply": "2022-11-30T12:18:03.041918Z"
    },
    "papermill": {
     "duration": 0.641252,
     "end_time": "2022-11-30T12:18:03.043453",
     "exception": false,
     "start_time": "2022-11-30T12:18:02.402201",
     "status": "completed"
    },
    "tags": []
   },
   "outputs": [],
   "source": [
    "#hide\n",
    "COL_REGION = 'Country/Region'\n",
    "# Confirmed, Recovered, Deaths\n",
    "df = get_frame('confirmed')\n",
    "# dft_: timeseries, dfc_: today country agg\n",
    "dft_cases = df\n",
    "dft_deaths = get_frame('deaths')\n",
    "dft_recovered = get_frame('recovered')\n",
    "LAST_DATE_I, dt_cols = get_dates(df)"
   ]
  },
  {
   "cell_type": "code",
   "execution_count": 10,
   "id": "absolute-copper",
   "metadata": {
    "execution": {
     "iopub.execute_input": "2022-11-30T12:18:03.119509Z",
     "iopub.status.busy": "2022-11-30T12:18:03.118294Z",
     "iopub.status.idle": "2022-11-30T12:18:03.120705Z",
     "shell.execute_reply": "2022-11-30T12:18:03.120159Z"
    },
    "papermill": {
     "duration": 0.043547,
     "end_time": "2022-11-30T12:18:03.120826",
     "exception": false,
     "start_time": "2022-11-30T12:18:03.077279",
     "status": "completed"
    },
    "tags": []
   },
   "outputs": [],
   "source": [
    "#hide\n",
    "LAST_DATE_I, dt_cols = get_dates(df)\n",
    "dt_today =dt_cols[LAST_DATE_I]\n",
    "# dt_5day = dt_cols[LAST_DATE_I - 5]\n",
    "dt_yday = dt_cols[LAST_DATE_I - 1]"
   ]
  },
  {
   "cell_type": "code",
   "execution_count": 11,
   "id": "restricted-sheriff",
   "metadata": {
    "execution": {
     "iopub.execute_input": "2022-11-30T12:18:03.196959Z",
     "iopub.status.busy": "2022-11-30T12:18:03.195962Z",
     "iopub.status.idle": "2022-11-30T12:18:03.203106Z",
     "shell.execute_reply": "2022-11-30T12:18:03.202547Z"
    },
    "papermill": {
     "duration": 0.049127,
     "end_time": "2022-11-30T12:18:03.203256",
     "exception": false,
     "start_time": "2022-11-30T12:18:03.154129",
     "status": "completed"
    },
    "tags": []
   },
   "outputs": [],
   "source": [
    "#hide\n",
    "dfc_cases = dft_cases.groupby(COL_REGION)[dt_today].sum()\n",
    "dfc_deaths = dft_deaths.groupby(COL_REGION)[dt_today].sum()\n",
    "# dfp_cases = dft_cases.groupby(COL_REGION)[dt_5day].sum()\n",
    "# dfp_deaths = dft_deaths.groupby(COL_REGION)[dt_5day].sum()\n",
    "dfp_cases = dft_cases.groupby(COL_REGION)[dt_yday].sum()\n",
    "dfp_deaths = dft_deaths.groupby(COL_REGION)[dt_yday].sum()"
   ]
  },
  {
   "cell_type": "code",
   "execution_count": 12,
   "id": "deluxe-hepatitis",
   "metadata": {
    "execution": {
     "iopub.execute_input": "2022-11-30T12:18:03.278385Z",
     "iopub.status.busy": "2022-11-30T12:18:03.277694Z",
     "iopub.status.idle": "2022-11-30T12:18:03.283077Z",
     "shell.execute_reply": "2022-11-30T12:18:03.283766Z"
    },
    "papermill": {
     "duration": 0.047119,
     "end_time": "2022-11-30T12:18:03.283914",
     "exception": false,
     "start_time": "2022-11-30T12:18:03.236795",
     "status": "completed"
    },
    "tags": []
   },
   "outputs": [],
   "source": [
    "#hide\n",
    "df_table = (pd.DataFrame(dict(Cases = dfc_cases, Deaths = dfc_deaths, PCases = dfp_cases, PDeaths = dfp_deaths))\n",
    "            .sort_values(by = ['Cases','Deaths'], ascending = [False, False])\n",
    "            .reset_index())"
   ]
  },
  {
   "cell_type": "code",
   "execution_count": 13,
   "id": "educational-chancellor",
   "metadata": {
    "execution": {
     "iopub.execute_input": "2022-11-30T12:18:03.369335Z",
     "iopub.status.busy": "2022-11-30T12:18:03.368623Z",
     "iopub.status.idle": "2022-11-30T12:18:03.377367Z",
     "shell.execute_reply": "2022-11-30T12:18:03.378010Z"
    },
    "papermill": {
     "duration": 0.061037,
     "end_time": "2022-11-30T12:18:03.378176",
     "exception": false,
     "start_time": "2022-11-30T12:18:03.317139",
     "status": "completed"
    },
    "tags": []
   },
   "outputs": [
    {
     "data": {
      "text/html": [
       "<div>\n",
       "<style scoped>\n",
       "    .dataframe tbody tr th:only-of-type {\n",
       "        vertical-align: middle;\n",
       "    }\n",
       "\n",
       "    .dataframe tbody tr th {\n",
       "        vertical-align: top;\n",
       "    }\n",
       "\n",
       "    .dataframe thead th {\n",
       "        text-align: right;\n",
       "    }\n",
       "</style>\n",
       "<table border=\"1\" class=\"dataframe\">\n",
       "  <thead>\n",
       "    <tr style=\"text-align: right;\">\n",
       "      <th></th>\n",
       "      <th>Country/Region</th>\n",
       "      <th>Cases</th>\n",
       "      <th>Deaths</th>\n",
       "      <th>PCases</th>\n",
       "      <th>PDeaths</th>\n",
       "      <th>Cases (+)</th>\n",
       "      <th>Deaths (+)</th>\n",
       "      <th>Fatality Rate</th>\n",
       "      <th>Continent</th>\n",
       "    </tr>\n",
       "  </thead>\n",
       "  <tbody>\n",
       "    <tr>\n",
       "      <th>0</th>\n",
       "      <td>US</td>\n",
       "      <td>98673988</td>\n",
       "      <td>1079870</td>\n",
       "      <td>98628566</td>\n",
       "      <td>1079477</td>\n",
       "      <td>45422</td>\n",
       "      <td>393</td>\n",
       "      <td>1.09</td>\n",
       "      <td>North America</td>\n",
       "    </tr>\n",
       "    <tr>\n",
       "      <th>1</th>\n",
       "      <td>India</td>\n",
       "      <td>44673567</td>\n",
       "      <td>530620</td>\n",
       "      <td>44673293</td>\n",
       "      <td>530615</td>\n",
       "      <td>274</td>\n",
       "      <td>5</td>\n",
       "      <td>1.19</td>\n",
       "      <td>Asia</td>\n",
       "    </tr>\n",
       "    <tr>\n",
       "      <th>2</th>\n",
       "      <td>France</td>\n",
       "      <td>37979248</td>\n",
       "      <td>159915</td>\n",
       "      <td>37885199</td>\n",
       "      <td>159811</td>\n",
       "      <td>94049</td>\n",
       "      <td>104</td>\n",
       "      <td>0.42</td>\n",
       "      <td>Europe</td>\n",
       "    </tr>\n",
       "    <tr>\n",
       "      <th>3</th>\n",
       "      <td>Germany</td>\n",
       "      <td>36463485</td>\n",
       "      <td>157791</td>\n",
       "      <td>36419717</td>\n",
       "      <td>157657</td>\n",
       "      <td>43768</td>\n",
       "      <td>134</td>\n",
       "      <td>0.43</td>\n",
       "      <td>Europe</td>\n",
       "    </tr>\n",
       "    <tr>\n",
       "      <th>4</th>\n",
       "      <td>Brazil</td>\n",
       "      <td>35227599</td>\n",
       "      <td>689665</td>\n",
       "      <td>35149503</td>\n",
       "      <td>689442</td>\n",
       "      <td>78096</td>\n",
       "      <td>223</td>\n",
       "      <td>1.96</td>\n",
       "      <td>South America</td>\n",
       "    </tr>\n",
       "  </tbody>\n",
       "</table>\n",
       "</div>"
      ],
      "text/plain": [
       "  Country/Region     Cases   Deaths    PCases  PDeaths  Cases (+)  Deaths (+)  \\\n",
       "0             US  98673988  1079870  98628566  1079477      45422         393   \n",
       "1          India  44673567   530620  44673293   530615        274           5   \n",
       "2         France  37979248   159915  37885199   159811      94049         104   \n",
       "3        Germany  36463485   157791  36419717   157657      43768         134   \n",
       "4         Brazil  35227599   689665  35149503   689442      78096         223   \n",
       "\n",
       "   Fatality Rate      Continent  \n",
       "0           1.09  North America  \n",
       "1           1.19           Asia  \n",
       "2           0.42         Europe  \n",
       "3           0.43         Europe  \n",
       "4           1.96  South America  "
      ]
     },
     "execution_count": 13,
     "metadata": {},
     "output_type": "execute_result"
    }
   ],
   "source": [
    "#hide\n",
    "for c in 'Cases, Deaths'.split(', '):\n",
    "    df_table[f'{c} (+)'] = (df_table[c] - df_table[f'P{c}']).clip(0)\n",
    "    #Clip ça veut dire, les chiffres negatif sont interdit\n",
    "df_table['Fatality Rate'] = (100* df_table['Deaths']/ df_table['Cases']).round(2)\n",
    "df_table['Continent'] = df_table['Country/Region'].map(mapping['map.continent'])\n",
    "df_table.head(5)"
   ]
  },
  {
   "cell_type": "code",
   "execution_count": 14,
   "id": "aboriginal-bulgaria",
   "metadata": {
    "execution": {
     "iopub.execute_input": "2022-11-30T12:18:03.458175Z",
     "iopub.status.busy": "2022-11-30T12:18:03.457507Z",
     "iopub.status.idle": "2022-11-30T12:18:03.465471Z",
     "shell.execute_reply": "2022-11-30T12:18:03.466002Z"
    },
    "papermill": {
     "duration": 0.051454,
     "end_time": "2022-11-30T12:18:03.466147",
     "exception": false,
     "start_time": "2022-11-30T12:18:03.414693",
     "status": "completed"
    },
    "tags": []
   },
   "outputs": [],
   "source": [
    "#hide\n",
    "#delete problematic countries from table\n",
    "df_table = df_table[~df_table['Country/Region'].isin(['Cape Verde', 'Cruise Ship', 'Kosovo'])]"
   ]
  },
  {
   "cell_type": "code",
   "execution_count": 15,
   "id": "fantastic-effect",
   "metadata": {
    "execution": {
     "iopub.execute_input": "2022-11-30T12:18:03.538500Z",
     "iopub.status.busy": "2022-11-30T12:18:03.537819Z",
     "iopub.status.idle": "2022-11-30T12:18:03.567520Z",
     "shell.execute_reply": "2022-11-30T12:18:03.566917Z"
    },
    "papermill": {
     "duration": 0.067765,
     "end_time": "2022-11-30T12:18:03.567655",
     "exception": false,
     "start_time": "2022-11-30T12:18:03.499890",
     "status": "completed"
    },
    "tags": []
   },
   "outputs": [
    {
     "data": {
      "text/html": [
       "<div>\n",
       "<style scoped>\n",
       "    .dataframe tbody tr th:only-of-type {\n",
       "        vertical-align: middle;\n",
       "    }\n",
       "\n",
       "    .dataframe tbody tr th {\n",
       "        vertical-align: top;\n",
       "    }\n",
       "\n",
       "    .dataframe thead th {\n",
       "        text-align: right;\n",
       "    }\n",
       "</style>\n",
       "<table border=\"1\" class=\"dataframe\">\n",
       "  <thead>\n",
       "    <tr style=\"text-align: right;\">\n",
       "      <th></th>\n",
       "      <th>Country/Region</th>\n",
       "      <th>Cases</th>\n",
       "      <th>Deaths</th>\n",
       "      <th>PCases</th>\n",
       "      <th>PDeaths</th>\n",
       "      <th>Cases (+)</th>\n",
       "      <th>Deaths (+)</th>\n",
       "      <th>Fatality Rate</th>\n",
       "      <th>Continent</th>\n",
       "    </tr>\n",
       "  </thead>\n",
       "  <tbody>\n",
       "    <tr>\n",
       "      <th>0</th>\n",
       "      <td>US</td>\n",
       "      <td>98673988</td>\n",
       "      <td>1079870</td>\n",
       "      <td>98628566</td>\n",
       "      <td>1079477</td>\n",
       "      <td>45422</td>\n",
       "      <td>393</td>\n",
       "      <td>1.1</td>\n",
       "      <td>North America</td>\n",
       "    </tr>\n",
       "    <tr>\n",
       "      <th>1</th>\n",
       "      <td>India</td>\n",
       "      <td>44673567</td>\n",
       "      <td>530620</td>\n",
       "      <td>44673293</td>\n",
       "      <td>530615</td>\n",
       "      <td>274</td>\n",
       "      <td>5</td>\n",
       "      <td>1.2</td>\n",
       "      <td>Asia</td>\n",
       "    </tr>\n",
       "    <tr>\n",
       "      <th>2</th>\n",
       "      <td>France</td>\n",
       "      <td>37979248</td>\n",
       "      <td>159915</td>\n",
       "      <td>37885199</td>\n",
       "      <td>159811</td>\n",
       "      <td>94049</td>\n",
       "      <td>104</td>\n",
       "      <td>0.4</td>\n",
       "      <td>Europe</td>\n",
       "    </tr>\n",
       "    <tr>\n",
       "      <th>3</th>\n",
       "      <td>Germany</td>\n",
       "      <td>36463485</td>\n",
       "      <td>157791</td>\n",
       "      <td>36419717</td>\n",
       "      <td>157657</td>\n",
       "      <td>43768</td>\n",
       "      <td>134</td>\n",
       "      <td>0.4</td>\n",
       "      <td>Europe</td>\n",
       "    </tr>\n",
       "    <tr>\n",
       "      <th>4</th>\n",
       "      <td>Brazil</td>\n",
       "      <td>35227599</td>\n",
       "      <td>689665</td>\n",
       "      <td>35149503</td>\n",
       "      <td>689442</td>\n",
       "      <td>78096</td>\n",
       "      <td>223</td>\n",
       "      <td>2.0</td>\n",
       "      <td>South America</td>\n",
       "    </tr>\n",
       "  </tbody>\n",
       "</table>\n",
       "</div>"
      ],
      "text/plain": [
       "  Country/Region     Cases   Deaths    PCases  PDeaths  Cases (+)  Deaths (+)  \\\n",
       "0             US  98673988  1079870  98628566  1079477      45422         393   \n",
       "1          India  44673567   530620  44673293   530615        274           5   \n",
       "2         France  37979248   159915  37885199   159811      94049         104   \n",
       "3        Germany  36463485   157791  36419717   157657      43768         134   \n",
       "4         Brazil  35227599   689665  35149503   689442      78096         223   \n",
       "\n",
       "   Fatality Rate      Continent  \n",
       "0            1.1  North America  \n",
       "1            1.2           Asia  \n",
       "2            0.4         Europe  \n",
       "3            0.4         Europe  \n",
       "4            2.0  South America  "
      ]
     },
     "execution_count": 15,
     "metadata": {},
     "output_type": "execute_result"
    }
   ],
   "source": [
    "#hide\n",
    "df_table = (pd.DataFrame(dict(Cases=dfc_cases, Deaths=dfc_deaths, PCases=dfp_cases, PDeaths=dfp_deaths))\n",
    "             .sort_values(by=['Cases', 'Deaths'], ascending=[False, False])\n",
    "             .reset_index())\n",
    "df_table.rename(columns={'index': 'Country/Region'}, inplace=True)\n",
    "for c in 'Cases, Deaths'.split(', '):\n",
    "    df_table[f'{c} (+)'] = (df_table[c] - df_table[f'P{c}']).clip(0)  # DATA BUG\n",
    "df_table['Fatality Rate'] = (100 * df_table['Deaths'] / df_table['Cases']).round(1)\n",
    "df_table['Continent'] = df_table['Country/Region'].map(mapping['map.continent'])\n",
    "df_table.head(5)"
   ]
  },
  {
   "cell_type": "code",
   "execution_count": 16,
   "id": "fewer-occasion",
   "metadata": {
    "execution": {
     "iopub.execute_input": "2022-11-30T12:18:03.648576Z",
     "iopub.status.busy": "2022-11-30T12:18:03.647767Z",
     "iopub.status.idle": "2022-11-30T12:18:03.650936Z",
     "shell.execute_reply": "2022-11-30T12:18:03.651715Z"
    },
    "papermill": {
     "duration": 0.048834,
     "end_time": "2022-11-30T12:18:03.651876",
     "exception": false,
     "start_time": "2022-11-30T12:18:03.603042",
     "status": "completed"
    },
    "tags": []
   },
   "outputs": [],
   "source": [
    "#hide\n",
    "#delete problematic countries from table\n",
    "df_table = df_table[~df_table['Country/Region'].isin(['Cape Verde', 'Cruise Ship', 'Kosovo'])]"
   ]
  },
  {
   "cell_type": "code",
   "execution_count": 17,
   "id": "related-center",
   "metadata": {
    "execution": {
     "iopub.execute_input": "2022-11-30T12:18:03.726471Z",
     "iopub.status.busy": "2022-11-30T12:18:03.725675Z",
     "iopub.status.idle": "2022-11-30T12:18:03.745679Z",
     "shell.execute_reply": "2022-11-30T12:18:03.746192Z"
    },
    "papermill": {
     "duration": 0.057264,
     "end_time": "2022-11-30T12:18:03.746334",
     "exception": false,
     "start_time": "2022-11-30T12:18:03.689070",
     "status": "completed"
    },
    "tags": []
   },
   "outputs": [],
   "source": [
    "#hide\n",
    "metrics = [df_table.columns[index] for index in [1,2,5,6]]\n",
    "# s_china = df_table[df_table['Country/Region'].eq('China')][metrics].sum().add_prefix('China ')\n",
    "s_us = df_table[df_table['Country/Region'].eq('US')][metrics].sum().add_prefix('US ')\n",
    "s_eu = df_table[df_table['Continent'].eq('Europe')][metrics].sum().add_prefix('EU ')\n",
    "s_ind = df_table[df_table['Country/Region'].eq('India')][metrics].sum().add_prefix('India ')\n",
    "summary = {'updated': pd.to_datetime(dt_today), 'since': pd.to_datetime(dt_yday)}\n",
    "summary = {'updated': pd.to_datetime(dt_today), 'since': pd.to_datetime(dt_yday)}\n",
    "summary = {**summary, **df_table[metrics].sum(), **s_ind, **s_us, **s_eu}"
   ]
  },
  {
   "cell_type": "code",
   "execution_count": 18,
   "id": "engaging-syndrome",
   "metadata": {
    "execution": {
     "iopub.execute_input": "2022-11-30T12:18:03.822119Z",
     "iopub.status.busy": "2022-11-30T12:18:03.821439Z",
     "iopub.status.idle": "2022-11-30T12:18:03.843013Z",
     "shell.execute_reply": "2022-11-30T12:18:03.842375Z"
    },
    "papermill": {
     "duration": 0.063249,
     "end_time": "2022-11-30T12:18:03.843151",
     "exception": false,
     "start_time": "2022-11-30T12:18:03.779902",
     "status": "completed"
    },
    "tags": []
   },
   "outputs": [],
   "source": [
    "#hide\n",
    "dft_ct_new_cases = dft_cases.groupby(COL_REGION)[dt_cols].sum().diff(axis=1).fillna(0).astype(int)"
   ]
  },
  {
   "cell_type": "code",
   "execution_count": 19,
   "id": "neutral-assignment",
   "metadata": {
    "execution": {
     "iopub.execute_input": "2022-11-30T12:18:03.918725Z",
     "iopub.status.busy": "2022-11-30T12:18:03.918047Z",
     "iopub.status.idle": "2022-11-30T12:18:03.920970Z",
     "shell.execute_reply": "2022-11-30T12:18:03.921626Z"
    },
    "papermill": {
     "duration": 0.044642,
     "end_time": "2022-11-30T12:18:03.921770",
     "exception": false,
     "start_time": "2022-11-30T12:18:03.877128",
     "status": "completed"
    },
    "tags": []
   },
   "outputs": [],
   "source": [
    "#hide\n",
    "everydaycases = dft_ct_new_cases.cumsum(axis=1)"
   ]
  },
  {
   "cell_type": "code",
   "execution_count": 20,
   "id": "parliamentary-calgary",
   "metadata": {
    "execution": {
     "iopub.execute_input": "2022-11-30T12:18:03.993220Z",
     "iopub.status.busy": "2022-11-30T12:18:03.992569Z",
     "iopub.status.idle": "2022-11-30T12:18:04.614793Z",
     "shell.execute_reply": "2022-11-30T12:18:04.614187Z"
    },
    "papermill": {
     "duration": 0.658997,
     "end_time": "2022-11-30T12:18:04.614935",
     "exception": false,
     "start_time": "2022-11-30T12:18:03.955938",
     "status": "completed"
    },
    "tags": []
   },
   "outputs": [],
   "source": [
    "#hide\n",
    "import pandas as pd\n",
    "import matplotlib.pyplot as plt\n",
    "import matplotlib.ticker as ticker\n",
    "import matplotlib.animation as animation\n",
    "from IPython.display import HTML"
   ]
  },
  {
   "cell_type": "code",
   "execution_count": 21,
   "id": "lasting-extraction",
   "metadata": {
    "execution": {
     "iopub.execute_input": "2022-11-30T12:18:04.695102Z",
     "iopub.status.busy": "2022-11-30T12:18:04.694169Z",
     "iopub.status.idle": "2022-11-30T12:18:04.702745Z",
     "shell.execute_reply": "2022-11-30T12:18:04.703406Z"
    },
    "papermill": {
     "duration": 0.054289,
     "end_time": "2022-11-30T12:18:04.703558",
     "exception": false,
     "start_time": "2022-11-30T12:18:04.649269",
     "status": "completed"
    },
    "tags": []
   },
   "outputs": [],
   "source": [
    "#hide\n",
    "t = everydaycases.stack()"
   ]
  },
  {
   "cell_type": "code",
   "execution_count": 22,
   "id": "premier-sleeve",
   "metadata": {
    "execution": {
     "iopub.execute_input": "2022-11-30T12:18:04.774765Z",
     "iopub.status.busy": "2022-11-30T12:18:04.774045Z",
     "iopub.status.idle": "2022-11-30T12:18:04.791054Z",
     "shell.execute_reply": "2022-11-30T12:18:04.790491Z"
    },
    "papermill": {
     "duration": 0.053768,
     "end_time": "2022-11-30T12:18:04.791185",
     "exception": false,
     "start_time": "2022-11-30T12:18:04.737417",
     "status": "completed"
    },
    "tags": []
   },
   "outputs": [],
   "source": [
    "#hide\n",
    "g = t.reset_index(['Country/Region'])"
   ]
  },
  {
   "cell_type": "code",
   "execution_count": 23,
   "id": "distributed-pittsburgh",
   "metadata": {
    "execution": {
     "iopub.execute_input": "2022-11-30T12:18:04.864655Z",
     "iopub.status.busy": "2022-11-30T12:18:04.863986Z",
     "iopub.status.idle": "2022-11-30T12:18:04.867313Z",
     "shell.execute_reply": "2022-11-30T12:18:04.867974Z"
    },
    "papermill": {
     "duration": 0.043593,
     "end_time": "2022-11-30T12:18:04.868115",
     "exception": false,
     "start_time": "2022-11-30T12:18:04.824522",
     "status": "completed"
    },
    "tags": []
   },
   "outputs": [],
   "source": [
    "#hide\n",
    "g.index.name = 'date'"
   ]
  },
  {
   "cell_type": "code",
   "execution_count": 24,
   "id": "naked-donor",
   "metadata": {
    "execution": {
     "iopub.execute_input": "2022-11-30T12:18:04.937646Z",
     "iopub.status.busy": "2022-11-30T12:18:04.936966Z",
     "iopub.status.idle": "2022-11-30T12:18:04.940235Z",
     "shell.execute_reply": "2022-11-30T12:18:04.939683Z"
    },
    "papermill": {
     "duration": 0.040099,
     "end_time": "2022-11-30T12:18:04.940362",
     "exception": false,
     "start_time": "2022-11-30T12:18:04.900263",
     "status": "completed"
    },
    "tags": []
   },
   "outputs": [],
   "source": [
    "# #hide\n",
    "# g = g.reset_index(['date'])"
   ]
  },
  {
   "cell_type": "code",
   "execution_count": 25,
   "id": "incomplete-mustang",
   "metadata": {
    "execution": {
     "iopub.execute_input": "2022-11-30T12:18:05.008079Z",
     "iopub.status.busy": "2022-11-30T12:18:05.007150Z",
     "iopub.status.idle": "2022-11-30T12:18:05.008769Z",
     "shell.execute_reply": "2022-11-30T12:18:05.009243Z"
    },
    "papermill": {
     "duration": 0.038336,
     "end_time": "2022-11-30T12:18:05.009370",
     "exception": false,
     "start_time": "2022-11-30T12:18:04.971034",
     "status": "completed"
    },
    "tags": []
   },
   "outputs": [],
   "source": [
    "#hide\n",
    "# g.head()"
   ]
  },
  {
   "cell_type": "code",
   "execution_count": 26,
   "id": "specific-kruger",
   "metadata": {
    "execution": {
     "iopub.execute_input": "2022-11-30T12:18:05.080756Z",
     "iopub.status.busy": "2022-11-30T12:18:05.080111Z",
     "iopub.status.idle": "2022-11-30T12:18:05.082518Z",
     "shell.execute_reply": "2022-11-30T12:18:05.082977Z"
    },
    "papermill": {
     "duration": 0.041866,
     "end_time": "2022-11-30T12:18:05.083113",
     "exception": false,
     "start_time": "2022-11-30T12:18:05.041247",
     "status": "completed"
    },
    "tags": []
   },
   "outputs": [],
   "source": [
    "#hide\n",
    "# g.columns = ['date','country','cases']"
   ]
  },
  {
   "cell_type": "code",
   "execution_count": 27,
   "id": "tender-conversion",
   "metadata": {
    "execution": {
     "iopub.execute_input": "2022-11-30T12:18:05.155461Z",
     "iopub.status.busy": "2022-11-30T12:18:05.154230Z",
     "iopub.status.idle": "2022-11-30T12:18:05.156816Z",
     "shell.execute_reply": "2022-11-30T12:18:05.157723Z"
    },
    "papermill": {
     "duration": 0.042231,
     "end_time": "2022-11-30T12:18:05.157952",
     "exception": false,
     "start_time": "2022-11-30T12:18:05.115721",
     "status": "completed"
    },
    "tags": []
   },
   "outputs": [],
   "source": [
    "#hide\n",
    "# g['continent'] = g.country"
   ]
  },
  {
   "cell_type": "code",
   "execution_count": 28,
   "id": "substantial-wilderness",
   "metadata": {
    "execution": {
     "iopub.execute_input": "2022-11-30T12:18:05.230098Z",
     "iopub.status.busy": "2022-11-30T12:18:05.228872Z",
     "iopub.status.idle": "2022-11-30T12:18:05.230879Z",
     "shell.execute_reply": "2022-11-30T12:18:05.231420Z"
    },
    "papermill": {
     "duration": 0.040085,
     "end_time": "2022-11-30T12:18:05.231562",
     "exception": false,
     "start_time": "2022-11-30T12:18:05.191477",
     "status": "completed"
    },
    "tags": []
   },
   "outputs": [],
   "source": [
    "#hide\n",
    "# cols = list(g.columns.values)"
   ]
  },
  {
   "cell_type": "code",
   "execution_count": 29,
   "id": "solved-farming",
   "metadata": {
    "execution": {
     "iopub.execute_input": "2022-11-30T12:18:05.301768Z",
     "iopub.status.busy": "2022-11-30T12:18:05.300755Z",
     "iopub.status.idle": "2022-11-30T12:18:05.305418Z",
     "shell.execute_reply": "2022-11-30T12:18:05.304868Z"
    },
    "papermill": {
     "duration": 0.041212,
     "end_time": "2022-11-30T12:18:05.305535",
     "exception": false,
     "start_time": "2022-11-30T12:18:05.264323",
     "status": "completed"
    },
    "tags": []
   },
   "outputs": [],
   "source": [
    "#hide\n",
    "# cols.insert(0, cols.pop())"
   ]
  },
  {
   "cell_type": "code",
   "execution_count": 30,
   "id": "executed-adoption",
   "metadata": {
    "execution": {
     "iopub.execute_input": "2022-11-30T12:18:05.375997Z",
     "iopub.status.busy": "2022-11-30T12:18:05.375290Z",
     "iopub.status.idle": "2022-11-30T12:18:05.377859Z",
     "shell.execute_reply": "2022-11-30T12:18:05.377186Z"
    },
    "papermill": {
     "duration": 0.038698,
     "end_time": "2022-11-30T12:18:05.377978",
     "exception": false,
     "start_time": "2022-11-30T12:18:05.339280",
     "status": "completed"
    },
    "tags": []
   },
   "outputs": [],
   "source": [
    "#hide\n",
    "# g = g[cols]"
   ]
  },
  {
   "cell_type": "code",
   "execution_count": 31,
   "id": "subject-dublin",
   "metadata": {
    "execution": {
     "iopub.execute_input": "2022-11-30T12:18:05.450453Z",
     "iopub.status.busy": "2022-11-30T12:18:05.449779Z",
     "iopub.status.idle": "2022-11-30T12:18:05.454302Z",
     "shell.execute_reply": "2022-11-30T12:18:05.454789Z"
    },
    "papermill": {
     "duration": 0.043988,
     "end_time": "2022-11-30T12:18:05.454919",
     "exception": false,
     "start_time": "2022-11-30T12:18:05.410931",
     "status": "completed"
    },
    "tags": []
   },
   "outputs": [],
   "source": [
    "#hide\n",
    "# g['continent'] = g['continent'].map(mapping['map.continent'])"
   ]
  },
  {
   "cell_type": "code",
   "execution_count": 32,
   "id": "freelance-scout",
   "metadata": {
    "execution": {
     "iopub.execute_input": "2022-11-30T12:18:05.528739Z",
     "iopub.status.busy": "2022-11-30T12:18:05.526823Z",
     "iopub.status.idle": "2022-11-30T12:18:05.529568Z",
     "shell.execute_reply": "2022-11-30T12:18:05.530328Z"
    },
    "papermill": {
     "duration": 0.041843,
     "end_time": "2022-11-30T12:18:05.530522",
     "exception": false,
     "start_time": "2022-11-30T12:18:05.488679",
     "status": "completed"
    },
    "tags": []
   },
   "outputs": [],
   "source": [
    "#hide\n",
    "# g.head()"
   ]
  },
  {
   "cell_type": "code",
   "execution_count": 33,
   "id": "limited-engine",
   "metadata": {
    "execution": {
     "iopub.execute_input": "2022-11-30T12:18:05.601357Z",
     "iopub.status.busy": "2022-11-30T12:18:05.600626Z",
     "iopub.status.idle": "2022-11-30T12:18:05.605321Z",
     "shell.execute_reply": "2022-11-30T12:18:05.605960Z"
    },
    "papermill": {
     "duration": 0.041425,
     "end_time": "2022-11-30T12:18:05.606095",
     "exception": false,
     "start_time": "2022-11-30T12:18:05.564670",
     "status": "completed"
    },
    "tags": []
   },
   "outputs": [],
   "source": [
    "# hide\n",
    "# g['date'] = g['date'].astype('datetime64[ns]')"
   ]
  },
  {
   "cell_type": "code",
   "execution_count": 34,
   "id": "sophisticated-supervisor",
   "metadata": {
    "execution": {
     "iopub.execute_input": "2022-11-30T12:18:05.678576Z",
     "iopub.status.busy": "2022-11-30T12:18:05.677864Z",
     "iopub.status.idle": "2022-11-30T12:18:05.679281Z",
     "shell.execute_reply": "2022-11-30T12:18:05.679890Z"
    },
    "papermill": {
     "duration": 0.041081,
     "end_time": "2022-11-30T12:18:05.680043",
     "exception": false,
     "start_time": "2022-11-30T12:18:05.638962",
     "status": "completed"
    },
    "tags": []
   },
   "outputs": [],
   "source": [
    "#hide\n",
    "# g['date'] = g.date.dt.dayofyear"
   ]
  },
  {
   "cell_type": "code",
   "execution_count": 35,
   "id": "inside-dubai",
   "metadata": {
    "execution": {
     "iopub.execute_input": "2022-11-30T12:18:05.752160Z",
     "iopub.status.busy": "2022-11-30T12:18:05.751349Z",
     "iopub.status.idle": "2022-11-30T12:18:05.753316Z",
     "shell.execute_reply": "2022-11-30T12:18:05.753962Z"
    },
    "papermill": {
     "duration": 0.040752,
     "end_time": "2022-11-30T12:18:05.754120",
     "exception": false,
     "start_time": "2022-11-30T12:18:05.713368",
     "status": "completed"
    },
    "tags": []
   },
   "outputs": [],
   "source": [
    "#hide\n",
    "# g = g.rename(columns= {'continent':'group','country':'name','cases':'value'})"
   ]
  },
  {
   "cell_type": "code",
   "execution_count": 36,
   "id": "fleet-motorcycle",
   "metadata": {
    "execution": {
     "iopub.execute_input": "2022-11-30T12:18:05.828779Z",
     "iopub.status.busy": "2022-11-30T12:18:05.827577Z",
     "iopub.status.idle": "2022-11-30T12:18:05.829918Z",
     "shell.execute_reply": "2022-11-30T12:18:05.830412Z"
    },
    "papermill": {
     "duration": 0.041362,
     "end_time": "2022-11-30T12:18:05.830531",
     "exception": false,
     "start_time": "2022-11-30T12:18:05.789169",
     "status": "completed"
    },
    "tags": []
   },
   "outputs": [],
   "source": [
    "#hide\n",
    "# cols = ['name','group','day','value']"
   ]
  },
  {
   "cell_type": "code",
   "execution_count": 37,
   "id": "continued-sleeping",
   "metadata": {
    "execution": {
     "iopub.execute_input": "2022-11-30T12:18:05.901351Z",
     "iopub.status.busy": "2022-11-30T12:18:05.900668Z",
     "iopub.status.idle": "2022-11-30T12:18:05.902084Z",
     "shell.execute_reply": "2022-11-30T12:18:05.902691Z"
    },
    "papermill": {
     "duration": 0.039405,
     "end_time": "2022-11-30T12:18:05.902819",
     "exception": false,
     "start_time": "2022-11-30T12:18:05.863414",
     "status": "completed"
    },
    "tags": []
   },
   "outputs": [],
   "source": [
    "#hide\n",
    "# g.rename(columns= {'date':'day'},inplace = True)"
   ]
  },
  {
   "cell_type": "code",
   "execution_count": 38,
   "id": "major-fight",
   "metadata": {
    "execution": {
     "iopub.execute_input": "2022-11-30T12:18:05.976094Z",
     "iopub.status.busy": "2022-11-30T12:18:05.975396Z",
     "iopub.status.idle": "2022-11-30T12:18:05.978278Z",
     "shell.execute_reply": "2022-11-30T12:18:05.978885Z"
    },
    "papermill": {
     "duration": 0.042207,
     "end_time": "2022-11-30T12:18:05.979022",
     "exception": false,
     "start_time": "2022-11-30T12:18:05.936815",
     "status": "completed"
    },
    "tags": []
   },
   "outputs": [],
   "source": [
    "#hide\n",
    "# g = g[cols]"
   ]
  },
  {
   "cell_type": "code",
   "execution_count": 39,
   "id": "structured-mobile",
   "metadata": {
    "execution": {
     "iopub.execute_input": "2022-11-30T12:18:06.049357Z",
     "iopub.status.busy": "2022-11-30T12:18:06.048735Z",
     "iopub.status.idle": "2022-11-30T12:18:06.052165Z",
     "shell.execute_reply": "2022-11-30T12:18:06.052809Z"
    },
    "papermill": {
     "duration": 0.04205,
     "end_time": "2022-11-30T12:18:06.052943",
     "exception": false,
     "start_time": "2022-11-30T12:18:06.010893",
     "status": "completed"
    },
    "tags": []
   },
   "outputs": [],
   "source": [
    "# #hide\n",
    "# g = g[g.group.notna()]"
   ]
  },
  {
   "cell_type": "code",
   "execution_count": 40,
   "id": "determined-closing",
   "metadata": {
    "execution": {
     "iopub.execute_input": "2022-11-30T12:18:06.126247Z",
     "iopub.status.busy": "2022-11-30T12:18:06.125562Z",
     "iopub.status.idle": "2022-11-30T12:18:06.128217Z",
     "shell.execute_reply": "2022-11-30T12:18:06.128738Z"
    },
    "papermill": {
     "duration": 0.041872,
     "end_time": "2022-11-30T12:18:06.128876",
     "exception": false,
     "start_time": "2022-11-30T12:18:06.087004",
     "status": "completed"
    },
    "tags": []
   },
   "outputs": [],
   "source": [
    "# #hide\n",
    "# colors = dict(zip(\n",
    "#     [\"Oceania\", \"Europe\", \"Asia\", \"South America\", \"Middle East\", \"North America\", \"Africa\"],\n",
    "#     [\"#adb0ff\", \"#ffb3ff\", \"#90d595\", \"#e48381\", \"#aafbff\", \"#f7bb5f\", \"#eafb50\"]\n",
    "# ))\n",
    "# group_lk = g.set_index('name')['group'].to_dict()"
   ]
  },
  {
   "cell_type": "code",
   "execution_count": null,
   "id": "gross-drinking",
   "metadata": {
    "papermill": {
     "duration": 0.034379,
     "end_time": "2022-11-30T12:18:06.196577",
     "exception": false,
     "start_time": "2022-11-30T12:18:06.162198",
     "status": "completed"
    },
    "tags": []
   },
   "outputs": [],
   "source": []
  },
  {
   "cell_type": "code",
   "execution_count": 41,
   "id": "subject-macintosh",
   "metadata": {
    "execution": {
     "iopub.execute_input": "2022-11-30T12:18:06.269791Z",
     "iopub.status.busy": "2022-11-30T12:18:06.269115Z",
     "iopub.status.idle": "2022-11-30T12:18:06.272609Z",
     "shell.execute_reply": "2022-11-30T12:18:06.273167Z"
    },
    "papermill": {
     "duration": 0.042929,
     "end_time": "2022-11-30T12:18:06.273315",
     "exception": false,
     "start_time": "2022-11-30T12:18:06.230386",
     "status": "completed"
    },
    "tags": []
   },
   "outputs": [],
   "source": [
    "# #hide\n",
    "# fig, ax = plt.subplots(figsize=(15, 8))\n",
    "\n",
    "# def draw_barchart(current_day):\n",
    "#     dff = g[g['day'].eq(current_day)].sort_values(by='value', ascending=True).tail(10)\n",
    "#     ax.clear()\n",
    "#     ax.barh(dff['name'], dff['value'], color=[colors[group_lk[x]] for x in dff['name']])\n",
    "#     dx = dff['value'].max() / 200\n",
    "    \n",
    "#     for i, (value, name) in enumerate(zip(dff['value'], dff['name'])):\n",
    "#         ax.text(value-dx, i,     name,           size=14, weight=600, ha='right', va='bottom')\n",
    "#         ax.text(value-dx, i-.25, group_lk[name], size=10, color='#444444', ha='right', va='baseline')\n",
    "#         ax.text(value+dx, i,     f'{value:,.0f}',  size=14, ha='left',  va='center')\n",
    "#     ax.text(1, 0.4, current_day, transform=ax.transAxes, color='#777777', size=46, ha='right', weight=800)\n",
    "#     ax.text(0, 1.06, 'Population (thousands)', transform=ax.transAxes, size=12, color='#777777')\n",
    "#     ax.xaxis.set_major_formatter(ticker.StrMethodFormatter('{x:,.0f}'))\n",
    "#     ax.xaxis.set_ticks_position('top')\n",
    "#     ax.tick_params(axis='x', colors='#777777', labelsize=12)\n",
    "#     ax.set_yticks([])\n",
    "#     ax.margins(0, 0.01)\n",
    "#     ax.grid(which='major', axis='x', linestyle='-')\n",
    "#     ax.set_axisbelow(True)\n",
    "    \n",
    "#     ax.text(0, 1.15, 'Coronavirus',\n",
    "#             transform=ax.transAxes, size=24, weight=600, ha='left', va='top')\n",
    "# #     ax.text(1, 0, 'by @pratapvardhan; credit @jburnmurdoch', transform=ax.transAxes, color='#777777', ha='right',\n",
    "# #             bbox=dict(facecolor='white', alpha=0.8, edgecolor='white'))\n",
    "#     plt.box(False)"
   ]
  },
  {
   "cell_type": "code",
   "execution_count": 42,
   "id": "sexual-wages",
   "metadata": {
    "execution": {
     "iopub.execute_input": "2022-11-30T12:18:06.343266Z",
     "iopub.status.busy": "2022-11-30T12:18:06.342468Z",
     "iopub.status.idle": "2022-11-30T12:18:06.345310Z",
     "shell.execute_reply": "2022-11-30T12:18:06.344565Z"
    },
    "papermill": {
     "duration": 0.039658,
     "end_time": "2022-11-30T12:18:06.345444",
     "exception": false,
     "start_time": "2022-11-30T12:18:06.305786",
     "status": "completed"
    },
    "tags": []
   },
   "outputs": [],
   "source": [
    "# #hide_input\n",
    "# fig, ax = plt.subplots(figsize=(15, 8))\n",
    "# animator = animation.FuncAnimation(fig, draw_barchart, frames=range(g.day.values.min(), g.day.values.max()))\n",
    "# HTML(animator.to_jshtml())\n",
    "# # or use animator.to_html5_video() or animator.save() "
   ]
  },
  {
   "cell_type": "code",
   "execution_count": null,
   "id": "australian-container",
   "metadata": {
    "papermill": {
     "duration": 0.033393,
     "end_time": "2022-11-30T12:18:06.412083",
     "exception": false,
     "start_time": "2022-11-30T12:18:06.378690",
     "status": "completed"
    },
    "tags": []
   },
   "outputs": [],
   "source": []
  },
  {
   "cell_type": "code",
   "execution_count": null,
   "id": "mediterranean-pontiac",
   "metadata": {
    "papermill": {
     "duration": 0.034122,
     "end_time": "2022-11-30T12:18:06.478052",
     "exception": false,
     "start_time": "2022-11-30T12:18:06.443930",
     "status": "completed"
    },
    "tags": []
   },
   "outputs": [],
   "source": []
  },
  {
   "cell_type": "code",
   "execution_count": null,
   "id": "aging-legislature",
   "metadata": {
    "papermill": {
     "duration": 0.033316,
     "end_time": "2022-11-30T12:18:06.545278",
     "exception": false,
     "start_time": "2022-11-30T12:18:06.511962",
     "status": "completed"
    },
    "tags": []
   },
   "outputs": [],
   "source": []
  }
 ],
 "metadata": {
  "kernelspec": {
   "display_name": "Python 3",
   "language": "python",
   "name": "python3"
  },
  "language_info": {
   "codemirror_mode": {
    "name": "ipython",
    "version": 3
   },
   "file_extension": ".py",
   "mimetype": "text/x-python",
   "name": "python",
   "nbconvert_exporter": "python",
   "pygments_lexer": "ipython3",
   "version": "3.6.15"
  },
  "papermill": {
   "duration": 6.945998,
   "end_time": "2022-11-30T12:18:06.898055",
   "environment_variables": {},
   "exception": null,
   "input_path": "2020-03-21-covid19exp.ipynb",
   "output_path": "2020-03-21-covid19exp.ipynb",
   "parameters": {},
   "start_time": "2022-11-30T12:17:59.952057",
   "version": "2.0.0"
  }
 },
 "nbformat": 4,
 "nbformat_minor": 5
}