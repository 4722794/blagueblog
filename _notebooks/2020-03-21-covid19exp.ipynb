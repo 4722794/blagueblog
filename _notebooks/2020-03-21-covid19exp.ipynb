{
 "cells": [
  {
   "cell_type": "markdown",
   "id": "muslim-click",
   "metadata": {
    "papermill": {
     "duration": 0.041171,
     "end_time": "2022-04-09T00:36:10.084855",
     "exception": false,
     "start_time": "2022-04-09T00:36:10.043684",
     "status": "completed"
    },
    "tags": []
   },
   "source": [
    "# COVID-19 Case Race\n",
    "> A race chart to see rising cases around the world\n",
    "\n",
    "- author: Hargun Oberoi\n",
    "- image: images/covid-overview.png\n",
    "- hide: false\n",
    "- badges: false"
   ]
  },
  {
   "cell_type": "code",
   "execution_count": 1,
   "id": "proof-material",
   "metadata": {
    "execution": {
     "iopub.execute_input": "2022-04-09T00:36:10.166066Z",
     "iopub.status.busy": "2022-04-09T00:36:10.165344Z",
     "iopub.status.idle": "2022-04-09T00:36:10.538941Z",
     "shell.execute_reply": "2022-04-09T00:36:10.539472Z"
    },
    "papermill": {
     "duration": 0.419478,
     "end_time": "2022-04-09T00:36:10.539671",
     "exception": false,
     "start_time": "2022-04-09T00:36:10.120193",
     "status": "completed"
    },
    "tags": []
   },
   "outputs": [],
   "source": [
    "#hide\n",
    "import numpy as np\n",
    "import pandas as pd\n",
    "from jinja2 import Template\n",
    "from IPython.display import HTML"
   ]
  },
  {
   "cell_type": "code",
   "execution_count": 2,
   "id": "developed-terminology",
   "metadata": {
    "execution": {
     "iopub.execute_input": "2022-04-09T00:36:10.619810Z",
     "iopub.status.busy": "2022-04-09T00:36:10.619139Z",
     "iopub.status.idle": "2022-04-09T00:36:10.622673Z",
     "shell.execute_reply": "2022-04-09T00:36:10.622029Z"
    },
    "papermill": {
     "duration": 0.046869,
     "end_time": "2022-04-09T00:36:10.622798",
     "exception": false,
     "start_time": "2022-04-09T00:36:10.575929",
     "status": "completed"
    },
    "tags": []
   },
   "outputs": [],
   "source": [
    "#hide\n",
    "\n",
    "# FETCH\n",
    "base_url = 'https://raw.githubusercontent.com/pratapvardhan/notebooks/master/covid19/'\n",
    "paths = {\n",
    "    'mapping': base_url + 'mapping_countries.csv',\n",
    "    'overview': base_url + 'overview.tpl'\n",
    "}"
   ]
  },
  {
   "cell_type": "code",
   "execution_count": 3,
   "id": "dynamic-saver",
   "metadata": {
    "execution": {
     "iopub.execute_input": "2022-04-09T00:36:10.710582Z",
     "iopub.status.busy": "2022-04-09T00:36:10.709979Z",
     "iopub.status.idle": "2022-04-09T00:36:10.713377Z",
     "shell.execute_reply": "2022-04-09T00:36:10.713975Z"
    },
    "papermill": {
     "duration": 0.054027,
     "end_time": "2022-04-09T00:36:10.714114",
     "exception": false,
     "start_time": "2022-04-09T00:36:10.660087",
     "status": "completed"
    },
    "tags": []
   },
   "outputs": [
    {
     "data": {
      "text/plain": [
       "'https://raw.githubusercontent.com/pratapvardhan/notebooks/master/covid19/mapping_countries.csv'"
      ]
     },
     "execution_count": 3,
     "metadata": {},
     "output_type": "execute_result"
    }
   ],
   "source": [
    "#hide\n",
    "paths['mapping']"
   ]
  },
  {
   "cell_type": "code",
   "execution_count": 4,
   "id": "urban-software",
   "metadata": {
    "execution": {
     "iopub.execute_input": "2022-04-09T00:36:10.788923Z",
     "iopub.status.busy": "2022-04-09T00:36:10.788302Z",
     "iopub.status.idle": "2022-04-09T00:36:10.791370Z",
     "shell.execute_reply": "2022-04-09T00:36:10.790281Z"
    },
    "papermill": {
     "duration": 0.042306,
     "end_time": "2022-04-09T00:36:10.791500",
     "exception": false,
     "start_time": "2022-04-09T00:36:10.749194",
     "status": "completed"
    },
    "tags": []
   },
   "outputs": [],
   "source": [
    "#hide\n",
    "def get_mappings(url):\n",
    "    df = pd.read_csv(url)\n",
    "    return {\n",
    "        'df': df,\n",
    "        'replace.country': dict(df.dropna(subset=['Name']).set_index('Country')['Name']),\n",
    "        'map.continent': dict(df.set_index('Name')['Continent'])\n",
    "    }"
   ]
  },
  {
   "cell_type": "code",
   "execution_count": 5,
   "id": "intimate-machinery",
   "metadata": {
    "execution": {
     "iopub.execute_input": "2022-04-09T00:36:10.872222Z",
     "iopub.status.busy": "2022-04-09T00:36:10.871497Z",
     "iopub.status.idle": "2022-04-09T00:36:10.899606Z",
     "shell.execute_reply": "2022-04-09T00:36:10.900197Z"
    },
    "papermill": {
     "duration": 0.070134,
     "end_time": "2022-04-09T00:36:10.900327",
     "exception": false,
     "start_time": "2022-04-09T00:36:10.830193",
     "status": "completed"
    },
    "tags": []
   },
   "outputs": [],
   "source": [
    "#hide\n",
    "mapping = get_mappings(paths['mapping'])"
   ]
  },
  {
   "cell_type": "code",
   "execution_count": 6,
   "id": "certified-tactics",
   "metadata": {
    "execution": {
     "iopub.execute_input": "2022-04-09T00:36:10.976835Z",
     "iopub.status.busy": "2022-04-09T00:36:10.976201Z",
     "iopub.status.idle": "2022-04-09T00:36:10.979895Z",
     "shell.execute_reply": "2022-04-09T00:36:10.980354Z"
    },
    "papermill": {
     "duration": 0.044594,
     "end_time": "2022-04-09T00:36:10.980506",
     "exception": false,
     "start_time": "2022-04-09T00:36:10.935912",
     "status": "completed"
    },
    "tags": []
   },
   "outputs": [],
   "source": [
    "#hide\n",
    "def get_template(path):\n",
    "    from urllib.parse import urlparse\n",
    "    if bool(urlparse(path).netloc):\n",
    "        from urllib.request import urlopen\n",
    "        return urlopen(path).read().decode('utf8')\n",
    "    return open(path).read()"
   ]
  },
  {
   "cell_type": "code",
   "execution_count": 7,
   "id": "realistic-blast",
   "metadata": {
    "execution": {
     "iopub.execute_input": "2022-04-09T00:36:11.056521Z",
     "iopub.status.busy": "2022-04-09T00:36:11.055822Z",
     "iopub.status.idle": "2022-04-09T00:36:11.058653Z",
     "shell.execute_reply": "2022-04-09T00:36:11.058104Z"
    },
    "papermill": {
     "duration": 0.042676,
     "end_time": "2022-04-09T00:36:11.058767",
     "exception": false,
     "start_time": "2022-04-09T00:36:11.016091",
     "status": "completed"
    },
    "tags": []
   },
   "outputs": [],
   "source": [
    "#hide\n",
    "def get_frame(name):\n",
    "    url = (\n",
    "        'https://raw.githubusercontent.com/CSSEGISandData/COVID-19/master/csse_covid_19_data/'\n",
    "        f'csse_covid_19_time_series/time_series_covid19_{name}_global.csv')\n",
    "    df = pd.read_csv(url)\n",
    "    # rename countries\n",
    "    df['Country/Region'] = df['Country/Region'].replace(mapping['replace.country'])\n",
    "    return df"
   ]
  },
  {
   "cell_type": "code",
   "execution_count": 8,
   "id": "affiliated-characterization",
   "metadata": {
    "execution": {
     "iopub.execute_input": "2022-04-09T00:36:11.136532Z",
     "iopub.status.busy": "2022-04-09T00:36:11.135785Z",
     "iopub.status.idle": "2022-04-09T00:36:11.138229Z",
     "shell.execute_reply": "2022-04-09T00:36:11.137513Z"
    },
    "papermill": {
     "duration": 0.043948,
     "end_time": "2022-04-09T00:36:11.138346",
     "exception": false,
     "start_time": "2022-04-09T00:36:11.094398",
     "status": "completed"
    },
    "tags": []
   },
   "outputs": [],
   "source": [
    "#hide\n",
    "def get_dates(df):\n",
    "    dt_cols = df.columns[~df.columns.isin(['Province/State', 'Country/Region', 'Lat', 'Long'])]\n",
    "    LAST_DATE_I = -1\n",
    "    # sometimes last column may be empty, then go backwards\n",
    "    for i in range(-1, -len(dt_cols), -1):\n",
    "        if not df[dt_cols[i]].fillna(0).eq(0).all():\n",
    "            LAST_DATE_I = i\n",
    "            break\n",
    "    return LAST_DATE_I, dt_cols"
   ]
  },
  {
   "cell_type": "code",
   "execution_count": 9,
   "id": "recent-optimization",
   "metadata": {
    "execution": {
     "iopub.execute_input": "2022-04-09T00:36:11.214782Z",
     "iopub.status.busy": "2022-04-09T00:36:11.214157Z",
     "iopub.status.idle": "2022-04-09T00:36:11.609973Z",
     "shell.execute_reply": "2022-04-09T00:36:11.610462Z"
    },
    "papermill": {
     "duration": 0.437373,
     "end_time": "2022-04-09T00:36:11.610635",
     "exception": false,
     "start_time": "2022-04-09T00:36:11.173262",
     "status": "completed"
    },
    "tags": []
   },
   "outputs": [],
   "source": [
    "#hide\n",
    "COL_REGION = 'Country/Region'\n",
    "# Confirmed, Recovered, Deaths\n",
    "df = get_frame('confirmed')\n",
    "# dft_: timeseries, dfc_: today country agg\n",
    "dft_cases = df\n",
    "dft_deaths = get_frame('deaths')\n",
    "dft_recovered = get_frame('recovered')\n",
    "LAST_DATE_I, dt_cols = get_dates(df)"
   ]
  },
  {
   "cell_type": "code",
   "execution_count": 10,
   "id": "absolute-copper",
   "metadata": {
    "execution": {
     "iopub.execute_input": "2022-04-09T00:36:11.691245Z",
     "iopub.status.busy": "2022-04-09T00:36:11.690606Z",
     "iopub.status.idle": "2022-04-09T00:36:11.693595Z",
     "shell.execute_reply": "2022-04-09T00:36:11.692818Z"
    },
    "papermill": {
     "duration": 0.046319,
     "end_time": "2022-04-09T00:36:11.693750",
     "exception": false,
     "start_time": "2022-04-09T00:36:11.647431",
     "status": "completed"
    },
    "tags": []
   },
   "outputs": [],
   "source": [
    "#hide\n",
    "LAST_DATE_I, dt_cols = get_dates(df)\n",
    "dt_today =dt_cols[LAST_DATE_I]\n",
    "# dt_5day = dt_cols[LAST_DATE_I - 5]\n",
    "dt_yday = dt_cols[LAST_DATE_I - 1]"
   ]
  },
  {
   "cell_type": "code",
   "execution_count": 11,
   "id": "restricted-sheriff",
   "metadata": {
    "execution": {
     "iopub.execute_input": "2022-04-09T00:36:11.771978Z",
     "iopub.status.busy": "2022-04-09T00:36:11.771300Z",
     "iopub.status.idle": "2022-04-09T00:36:11.781031Z",
     "shell.execute_reply": "2022-04-09T00:36:11.780434Z"
    },
    "papermill": {
     "duration": 0.05053,
     "end_time": "2022-04-09T00:36:11.781155",
     "exception": false,
     "start_time": "2022-04-09T00:36:11.730625",
     "status": "completed"
    },
    "tags": []
   },
   "outputs": [],
   "source": [
    "#hide\n",
    "dfc_cases = dft_cases.groupby(COL_REGION)[dt_today].sum()\n",
    "dfc_deaths = dft_deaths.groupby(COL_REGION)[dt_today].sum()\n",
    "# dfp_cases = dft_cases.groupby(COL_REGION)[dt_5day].sum()\n",
    "# dfp_deaths = dft_deaths.groupby(COL_REGION)[dt_5day].sum()\n",
    "dfp_cases = dft_cases.groupby(COL_REGION)[dt_yday].sum()\n",
    "dfp_deaths = dft_deaths.groupby(COL_REGION)[dt_yday].sum()"
   ]
  },
  {
   "cell_type": "code",
   "execution_count": 12,
   "id": "deluxe-hepatitis",
   "metadata": {
    "execution": {
     "iopub.execute_input": "2022-04-09T00:36:11.864995Z",
     "iopub.status.busy": "2022-04-09T00:36:11.864294Z",
     "iopub.status.idle": "2022-04-09T00:36:11.871691Z",
     "shell.execute_reply": "2022-04-09T00:36:11.872210Z"
    },
    "papermill": {
     "duration": 0.05241,
     "end_time": "2022-04-09T00:36:11.872368",
     "exception": false,
     "start_time": "2022-04-09T00:36:11.819958",
     "status": "completed"
    },
    "tags": []
   },
   "outputs": [],
   "source": [
    "#hide\n",
    "df_table = (pd.DataFrame(dict(Cases = dfc_cases, Deaths = dfc_deaths, PCases = dfp_cases, PDeaths = dfp_deaths))\n",
    "            .sort_values(by = ['Cases','Deaths'], ascending = [False, False])\n",
    "            .reset_index())"
   ]
  },
  {
   "cell_type": "code",
   "execution_count": 13,
   "id": "educational-chancellor",
   "metadata": {
    "execution": {
     "iopub.execute_input": "2022-04-09T00:36:11.963798Z",
     "iopub.status.busy": "2022-04-09T00:36:11.963203Z",
     "iopub.status.idle": "2022-04-09T00:36:11.972713Z",
     "shell.execute_reply": "2022-04-09T00:36:11.973312Z"
    },
    "papermill": {
     "duration": 0.065749,
     "end_time": "2022-04-09T00:36:11.973468",
     "exception": false,
     "start_time": "2022-04-09T00:36:11.907719",
     "status": "completed"
    },
    "tags": []
   },
   "outputs": [
    {
     "data": {
      "text/html": [
       "<div>\n",
       "<style scoped>\n",
       "    .dataframe tbody tr th:only-of-type {\n",
       "        vertical-align: middle;\n",
       "    }\n",
       "\n",
       "    .dataframe tbody tr th {\n",
       "        vertical-align: top;\n",
       "    }\n",
       "\n",
       "    .dataframe thead th {\n",
       "        text-align: right;\n",
       "    }\n",
       "</style>\n",
       "<table border=\"1\" class=\"dataframe\">\n",
       "  <thead>\n",
       "    <tr style=\"text-align: right;\">\n",
       "      <th></th>\n",
       "      <th>Country/Region</th>\n",
       "      <th>Cases</th>\n",
       "      <th>Deaths</th>\n",
       "      <th>PCases</th>\n",
       "      <th>PDeaths</th>\n",
       "      <th>Cases (+)</th>\n",
       "      <th>Deaths (+)</th>\n",
       "      <th>Fatality Rate</th>\n",
       "      <th>Continent</th>\n",
       "    </tr>\n",
       "  </thead>\n",
       "  <tbody>\n",
       "    <tr>\n",
       "      <th>0</th>\n",
       "      <td>US</td>\n",
       "      <td>80289237</td>\n",
       "      <td>984571</td>\n",
       "      <td>80248986</td>\n",
       "      <td>983817</td>\n",
       "      <td>40251</td>\n",
       "      <td>754</td>\n",
       "      <td>1.23</td>\n",
       "      <td>North America</td>\n",
       "    </tr>\n",
       "    <tr>\n",
       "      <th>1</th>\n",
       "      <td>India</td>\n",
       "      <td>43033067</td>\n",
       "      <td>521573</td>\n",
       "      <td>43031958</td>\n",
       "      <td>521530</td>\n",
       "      <td>1109</td>\n",
       "      <td>43</td>\n",
       "      <td>1.21</td>\n",
       "      <td>Asia</td>\n",
       "    </tr>\n",
       "    <tr>\n",
       "      <th>2</th>\n",
       "      <td>Brazil</td>\n",
       "      <td>30095328</td>\n",
       "      <td>661228</td>\n",
       "      <td>30069094</td>\n",
       "      <td>660980</td>\n",
       "      <td>26234</td>\n",
       "      <td>248</td>\n",
       "      <td>2.20</td>\n",
       "      <td>South America</td>\n",
       "    </tr>\n",
       "    <tr>\n",
       "      <th>3</th>\n",
       "      <td>France</td>\n",
       "      <td>26738483</td>\n",
       "      <td>144054</td>\n",
       "      <td>26579448</td>\n",
       "      <td>143949</td>\n",
       "      <td>159035</td>\n",
       "      <td>105</td>\n",
       "      <td>0.54</td>\n",
       "      <td>Europe</td>\n",
       "    </tr>\n",
       "    <tr>\n",
       "      <th>4</th>\n",
       "      <td>Germany</td>\n",
       "      <td>22478703</td>\n",
       "      <td>131370</td>\n",
       "      <td>22303440</td>\n",
       "      <td>131036</td>\n",
       "      <td>175263</td>\n",
       "      <td>334</td>\n",
       "      <td>0.58</td>\n",
       "      <td>Europe</td>\n",
       "    </tr>\n",
       "  </tbody>\n",
       "</table>\n",
       "</div>"
      ],
      "text/plain": [
       "  Country/Region     Cases  Deaths    PCases  PDeaths  Cases (+)  Deaths (+)  \\\n",
       "0             US  80289237  984571  80248986   983817      40251         754   \n",
       "1          India  43033067  521573  43031958   521530       1109          43   \n",
       "2         Brazil  30095328  661228  30069094   660980      26234         248   \n",
       "3         France  26738483  144054  26579448   143949     159035         105   \n",
       "4        Germany  22478703  131370  22303440   131036     175263         334   \n",
       "\n",
       "   Fatality Rate      Continent  \n",
       "0           1.23  North America  \n",
       "1           1.21           Asia  \n",
       "2           2.20  South America  \n",
       "3           0.54         Europe  \n",
       "4           0.58         Europe  "
      ]
     },
     "execution_count": 13,
     "metadata": {},
     "output_type": "execute_result"
    }
   ],
   "source": [
    "#hide\n",
    "for c in 'Cases, Deaths'.split(', '):\n",
    "    df_table[f'{c} (+)'] = (df_table[c] - df_table[f'P{c}']).clip(0)\n",
    "    #Clip ça veut dire, les chiffres negatif sont interdit\n",
    "df_table['Fatality Rate'] = (100* df_table['Deaths']/ df_table['Cases']).round(2)\n",
    "df_table['Continent'] = df_table['Country/Region'].map(mapping['map.continent'])\n",
    "df_table.head(5)"
   ]
  },
  {
   "cell_type": "code",
   "execution_count": 14,
   "id": "aboriginal-bulgaria",
   "metadata": {
    "execution": {
     "iopub.execute_input": "2022-04-09T00:36:12.051934Z",
     "iopub.status.busy": "2022-04-09T00:36:12.051358Z",
     "iopub.status.idle": "2022-04-09T00:36:12.054190Z",
     "shell.execute_reply": "2022-04-09T00:36:12.053698Z"
    },
    "papermill": {
     "duration": 0.044021,
     "end_time": "2022-04-09T00:36:12.054302",
     "exception": false,
     "start_time": "2022-04-09T00:36:12.010281",
     "status": "completed"
    },
    "tags": []
   },
   "outputs": [],
   "source": [
    "#hide\n",
    "#delete problematic countries from table\n",
    "df_table = df_table[~df_table['Country/Region'].isin(['Cape Verde', 'Cruise Ship', 'Kosovo'])]"
   ]
  },
  {
   "cell_type": "code",
   "execution_count": 15,
   "id": "fantastic-effect",
   "metadata": {
    "execution": {
     "iopub.execute_input": "2022-04-09T00:36:12.134915Z",
     "iopub.status.busy": "2022-04-09T00:36:12.134270Z",
     "iopub.status.idle": "2022-04-09T00:36:12.155132Z",
     "shell.execute_reply": "2022-04-09T00:36:12.155580Z"
    },
    "papermill": {
     "duration": 0.066052,
     "end_time": "2022-04-09T00:36:12.155707",
     "exception": false,
     "start_time": "2022-04-09T00:36:12.089655",
     "status": "completed"
    },
    "tags": []
   },
   "outputs": [
    {
     "data": {
      "text/html": [
       "<div>\n",
       "<style scoped>\n",
       "    .dataframe tbody tr th:only-of-type {\n",
       "        vertical-align: middle;\n",
       "    }\n",
       "\n",
       "    .dataframe tbody tr th {\n",
       "        vertical-align: top;\n",
       "    }\n",
       "\n",
       "    .dataframe thead th {\n",
       "        text-align: right;\n",
       "    }\n",
       "</style>\n",
       "<table border=\"1\" class=\"dataframe\">\n",
       "  <thead>\n",
       "    <tr style=\"text-align: right;\">\n",
       "      <th></th>\n",
       "      <th>Country/Region</th>\n",
       "      <th>Cases</th>\n",
       "      <th>Deaths</th>\n",
       "      <th>PCases</th>\n",
       "      <th>PDeaths</th>\n",
       "      <th>Cases (+)</th>\n",
       "      <th>Deaths (+)</th>\n",
       "      <th>Fatality Rate</th>\n",
       "      <th>Continent</th>\n",
       "    </tr>\n",
       "  </thead>\n",
       "  <tbody>\n",
       "    <tr>\n",
       "      <th>0</th>\n",
       "      <td>US</td>\n",
       "      <td>80289237</td>\n",
       "      <td>984571</td>\n",
       "      <td>80248986</td>\n",
       "      <td>983817</td>\n",
       "      <td>40251</td>\n",
       "      <td>754</td>\n",
       "      <td>1.2</td>\n",
       "      <td>North America</td>\n",
       "    </tr>\n",
       "    <tr>\n",
       "      <th>1</th>\n",
       "      <td>India</td>\n",
       "      <td>43033067</td>\n",
       "      <td>521573</td>\n",
       "      <td>43031958</td>\n",
       "      <td>521530</td>\n",
       "      <td>1109</td>\n",
       "      <td>43</td>\n",
       "      <td>1.2</td>\n",
       "      <td>Asia</td>\n",
       "    </tr>\n",
       "    <tr>\n",
       "      <th>2</th>\n",
       "      <td>Brazil</td>\n",
       "      <td>30095328</td>\n",
       "      <td>661228</td>\n",
       "      <td>30069094</td>\n",
       "      <td>660980</td>\n",
       "      <td>26234</td>\n",
       "      <td>248</td>\n",
       "      <td>2.2</td>\n",
       "      <td>South America</td>\n",
       "    </tr>\n",
       "    <tr>\n",
       "      <th>3</th>\n",
       "      <td>France</td>\n",
       "      <td>26738483</td>\n",
       "      <td>144054</td>\n",
       "      <td>26579448</td>\n",
       "      <td>143949</td>\n",
       "      <td>159035</td>\n",
       "      <td>105</td>\n",
       "      <td>0.5</td>\n",
       "      <td>Europe</td>\n",
       "    </tr>\n",
       "    <tr>\n",
       "      <th>4</th>\n",
       "      <td>Germany</td>\n",
       "      <td>22478703</td>\n",
       "      <td>131370</td>\n",
       "      <td>22303440</td>\n",
       "      <td>131036</td>\n",
       "      <td>175263</td>\n",
       "      <td>334</td>\n",
       "      <td>0.6</td>\n",
       "      <td>Europe</td>\n",
       "    </tr>\n",
       "  </tbody>\n",
       "</table>\n",
       "</div>"
      ],
      "text/plain": [
       "  Country/Region     Cases  Deaths    PCases  PDeaths  Cases (+)  Deaths (+)  \\\n",
       "0             US  80289237  984571  80248986   983817      40251         754   \n",
       "1          India  43033067  521573  43031958   521530       1109          43   \n",
       "2         Brazil  30095328  661228  30069094   660980      26234         248   \n",
       "3         France  26738483  144054  26579448   143949     159035         105   \n",
       "4        Germany  22478703  131370  22303440   131036     175263         334   \n",
       "\n",
       "   Fatality Rate      Continent  \n",
       "0            1.2  North America  \n",
       "1            1.2           Asia  \n",
       "2            2.2  South America  \n",
       "3            0.5         Europe  \n",
       "4            0.6         Europe  "
      ]
     },
     "execution_count": 15,
     "metadata": {},
     "output_type": "execute_result"
    }
   ],
   "source": [
    "#hide\n",
    "df_table = (pd.DataFrame(dict(Cases=dfc_cases, Deaths=dfc_deaths, PCases=dfp_cases, PDeaths=dfp_deaths))\n",
    "             .sort_values(by=['Cases', 'Deaths'], ascending=[False, False])\n",
    "             .reset_index())\n",
    "df_table.rename(columns={'index': 'Country/Region'}, inplace=True)\n",
    "for c in 'Cases, Deaths'.split(', '):\n",
    "    df_table[f'{c} (+)'] = (df_table[c] - df_table[f'P{c}']).clip(0)  # DATA BUG\n",
    "df_table['Fatality Rate'] = (100 * df_table['Deaths'] / df_table['Cases']).round(1)\n",
    "df_table['Continent'] = df_table['Country/Region'].map(mapping['map.continent'])\n",
    "df_table.head(5)"
   ]
  },
  {
   "cell_type": "code",
   "execution_count": 16,
   "id": "fewer-occasion",
   "metadata": {
    "execution": {
     "iopub.execute_input": "2022-04-09T00:36:12.236960Z",
     "iopub.status.busy": "2022-04-09T00:36:12.236277Z",
     "iopub.status.idle": "2022-04-09T00:36:12.238899Z",
     "shell.execute_reply": "2022-04-09T00:36:12.238219Z"
    },
    "papermill": {
     "duration": 0.046488,
     "end_time": "2022-04-09T00:36:12.239040",
     "exception": false,
     "start_time": "2022-04-09T00:36:12.192552",
     "status": "completed"
    },
    "tags": []
   },
   "outputs": [],
   "source": [
    "#hide\n",
    "#delete problematic countries from table\n",
    "df_table = df_table[~df_table['Country/Region'].isin(['Cape Verde', 'Cruise Ship', 'Kosovo'])]"
   ]
  },
  {
   "cell_type": "code",
   "execution_count": 17,
   "id": "related-center",
   "metadata": {
    "execution": {
     "iopub.execute_input": "2022-04-09T00:36:12.329077Z",
     "iopub.status.busy": "2022-04-09T00:36:12.328455Z",
     "iopub.status.idle": "2022-04-09T00:36:12.340104Z",
     "shell.execute_reply": "2022-04-09T00:36:12.339597Z"
    },
    "papermill": {
     "duration": 0.060714,
     "end_time": "2022-04-09T00:36:12.340271",
     "exception": false,
     "start_time": "2022-04-09T00:36:12.279557",
     "status": "completed"
    },
    "tags": []
   },
   "outputs": [],
   "source": [
    "#hide\n",
    "metrics = [df_table.columns[index] for index in [1,2,5,6]]\n",
    "# s_china = df_table[df_table['Country/Region'].eq('China')][metrics].sum().add_prefix('China ')\n",
    "s_us = df_table[df_table['Country/Region'].eq('US')][metrics].sum().add_prefix('US ')\n",
    "s_eu = df_table[df_table['Continent'].eq('Europe')][metrics].sum().add_prefix('EU ')\n",
    "s_ind = df_table[df_table['Country/Region'].eq('India')][metrics].sum().add_prefix('India ')\n",
    "summary = {'updated': pd.to_datetime(dt_today), 'since': pd.to_datetime(dt_yday)}\n",
    "summary = {'updated': pd.to_datetime(dt_today), 'since': pd.to_datetime(dt_yday)}\n",
    "summary = {**summary, **df_table[metrics].sum(), **s_ind, **s_us, **s_eu}"
   ]
  },
  {
   "cell_type": "code",
   "execution_count": 18,
   "id": "engaging-syndrome",
   "metadata": {
    "execution": {
     "iopub.execute_input": "2022-04-09T00:36:12.416901Z",
     "iopub.status.busy": "2022-04-09T00:36:12.416313Z",
     "iopub.status.idle": "2022-04-09T00:36:12.435935Z",
     "shell.execute_reply": "2022-04-09T00:36:12.435406Z"
    },
    "papermill": {
     "duration": 0.060136,
     "end_time": "2022-04-09T00:36:12.436067",
     "exception": false,
     "start_time": "2022-04-09T00:36:12.375931",
     "status": "completed"
    },
    "tags": []
   },
   "outputs": [],
   "source": [
    "#hide\n",
    "dft_ct_new_cases = dft_cases.groupby(COL_REGION)[dt_cols].sum().diff(axis=1).fillna(0).astype(int)"
   ]
  },
  {
   "cell_type": "code",
   "execution_count": 19,
   "id": "neutral-assignment",
   "metadata": {
    "execution": {
     "iopub.execute_input": "2022-04-09T00:36:12.516481Z",
     "iopub.status.busy": "2022-04-09T00:36:12.515801Z",
     "iopub.status.idle": "2022-04-09T00:36:12.518492Z",
     "shell.execute_reply": "2022-04-09T00:36:12.517889Z"
    },
    "papermill": {
     "duration": 0.047469,
     "end_time": "2022-04-09T00:36:12.518648",
     "exception": false,
     "start_time": "2022-04-09T00:36:12.471179",
     "status": "completed"
    },
    "tags": []
   },
   "outputs": [],
   "source": [
    "#hide\n",
    "everydaycases = dft_ct_new_cases.cumsum(axis=1)"
   ]
  },
  {
   "cell_type": "code",
   "execution_count": 20,
   "id": "parliamentary-calgary",
   "metadata": {
    "execution": {
     "iopub.execute_input": "2022-04-09T00:36:12.599454Z",
     "iopub.status.busy": "2022-04-09T00:36:12.598807Z",
     "iopub.status.idle": "2022-04-09T00:36:13.395914Z",
     "shell.execute_reply": "2022-04-09T00:36:13.396425Z"
    },
    "papermill": {
     "duration": 0.83982,
     "end_time": "2022-04-09T00:36:13.396593",
     "exception": false,
     "start_time": "2022-04-09T00:36:12.556773",
     "status": "completed"
    },
    "tags": []
   },
   "outputs": [],
   "source": [
    "#hide\n",
    "import pandas as pd\n",
    "import matplotlib.pyplot as plt\n",
    "import matplotlib.ticker as ticker\n",
    "import matplotlib.animation as animation\n",
    "from IPython.display import HTML"
   ]
  },
  {
   "cell_type": "code",
   "execution_count": 21,
   "id": "lasting-extraction",
   "metadata": {
    "execution": {
     "iopub.execute_input": "2022-04-09T00:36:13.473909Z",
     "iopub.status.busy": "2022-04-09T00:36:13.473243Z",
     "iopub.status.idle": "2022-04-09T00:36:13.479638Z",
     "shell.execute_reply": "2022-04-09T00:36:13.480209Z"
    },
    "papermill": {
     "duration": 0.04796,
     "end_time": "2022-04-09T00:36:13.480338",
     "exception": false,
     "start_time": "2022-04-09T00:36:13.432378",
     "status": "completed"
    },
    "tags": []
   },
   "outputs": [],
   "source": [
    "#hide\n",
    "t = everydaycases.stack()"
   ]
  },
  {
   "cell_type": "code",
   "execution_count": 22,
   "id": "premier-sleeve",
   "metadata": {
    "execution": {
     "iopub.execute_input": "2022-04-09T00:36:13.556517Z",
     "iopub.status.busy": "2022-04-09T00:36:13.555935Z",
     "iopub.status.idle": "2022-04-09T00:36:13.566532Z",
     "shell.execute_reply": "2022-04-09T00:36:13.567006Z"
    },
    "papermill": {
     "duration": 0.051622,
     "end_time": "2022-04-09T00:36:13.567132",
     "exception": false,
     "start_time": "2022-04-09T00:36:13.515510",
     "status": "completed"
    },
    "tags": []
   },
   "outputs": [],
   "source": [
    "#hide\n",
    "g = t.reset_index(['Country/Region'])"
   ]
  },
  {
   "cell_type": "code",
   "execution_count": 23,
   "id": "distributed-pittsburgh",
   "metadata": {
    "execution": {
     "iopub.execute_input": "2022-04-09T00:36:13.640859Z",
     "iopub.status.busy": "2022-04-09T00:36:13.640206Z",
     "iopub.status.idle": "2022-04-09T00:36:13.642834Z",
     "shell.execute_reply": "2022-04-09T00:36:13.642337Z"
    },
    "papermill": {
     "duration": 0.040822,
     "end_time": "2022-04-09T00:36:13.642980",
     "exception": false,
     "start_time": "2022-04-09T00:36:13.602158",
     "status": "completed"
    },
    "tags": []
   },
   "outputs": [],
   "source": [
    "#hide\n",
    "g.index.name = 'date'"
   ]
  },
  {
   "cell_type": "code",
   "execution_count": 24,
   "id": "naked-donor",
   "metadata": {
    "execution": {
     "iopub.execute_input": "2022-04-09T00:36:13.720101Z",
     "iopub.status.busy": "2022-04-09T00:36:13.719476Z",
     "iopub.status.idle": "2022-04-09T00:36:13.722220Z",
     "shell.execute_reply": "2022-04-09T00:36:13.722668Z"
    },
    "papermill": {
     "duration": 0.042643,
     "end_time": "2022-04-09T00:36:13.722797",
     "exception": false,
     "start_time": "2022-04-09T00:36:13.680154",
     "status": "completed"
    },
    "tags": []
   },
   "outputs": [],
   "source": [
    "# #hide\n",
    "# g = g.reset_index(['date'])"
   ]
  },
  {
   "cell_type": "code",
   "execution_count": 25,
   "id": "incomplete-mustang",
   "metadata": {
    "execution": {
     "iopub.execute_input": "2022-04-09T00:36:13.795225Z",
     "iopub.status.busy": "2022-04-09T00:36:13.794632Z",
     "iopub.status.idle": "2022-04-09T00:36:13.798382Z",
     "shell.execute_reply": "2022-04-09T00:36:13.798857Z"
    },
    "papermill": {
     "duration": 0.041802,
     "end_time": "2022-04-09T00:36:13.798983",
     "exception": false,
     "start_time": "2022-04-09T00:36:13.757181",
     "status": "completed"
    },
    "tags": []
   },
   "outputs": [],
   "source": [
    "#hide\n",
    "# g.head()"
   ]
  },
  {
   "cell_type": "code",
   "execution_count": 26,
   "id": "specific-kruger",
   "metadata": {
    "execution": {
     "iopub.execute_input": "2022-04-09T00:36:13.875960Z",
     "iopub.status.busy": "2022-04-09T00:36:13.875292Z",
     "iopub.status.idle": "2022-04-09T00:36:13.877845Z",
     "shell.execute_reply": "2022-04-09T00:36:13.877161Z"
    },
    "papermill": {
     "duration": 0.043175,
     "end_time": "2022-04-09T00:36:13.877985",
     "exception": false,
     "start_time": "2022-04-09T00:36:13.834810",
     "status": "completed"
    },
    "tags": []
   },
   "outputs": [],
   "source": [
    "#hide\n",
    "# g.columns = ['date','country','cases']"
   ]
  },
  {
   "cell_type": "code",
   "execution_count": 27,
   "id": "tender-conversion",
   "metadata": {
    "execution": {
     "iopub.execute_input": "2022-04-09T00:36:13.960307Z",
     "iopub.status.busy": "2022-04-09T00:36:13.959709Z",
     "iopub.status.idle": "2022-04-09T00:36:13.962157Z",
     "shell.execute_reply": "2022-04-09T00:36:13.961593Z"
    },
    "papermill": {
     "duration": 0.044301,
     "end_time": "2022-04-09T00:36:13.962285",
     "exception": false,
     "start_time": "2022-04-09T00:36:13.917984",
     "status": "completed"
    },
    "tags": []
   },
   "outputs": [],
   "source": [
    "#hide\n",
    "# g['continent'] = g.country"
   ]
  },
  {
   "cell_type": "code",
   "execution_count": 28,
   "id": "substantial-wilderness",
   "metadata": {
    "execution": {
     "iopub.execute_input": "2022-04-09T00:36:14.039610Z",
     "iopub.status.busy": "2022-04-09T00:36:14.038976Z",
     "iopub.status.idle": "2022-04-09T00:36:14.042517Z",
     "shell.execute_reply": "2022-04-09T00:36:14.042976Z"
    },
    "papermill": {
     "duration": 0.043519,
     "end_time": "2022-04-09T00:36:14.043133",
     "exception": false,
     "start_time": "2022-04-09T00:36:13.999614",
     "status": "completed"
    },
    "tags": []
   },
   "outputs": [],
   "source": [
    "#hide\n",
    "# cols = list(g.columns.values)"
   ]
  },
  {
   "cell_type": "code",
   "execution_count": 29,
   "id": "solved-farming",
   "metadata": {
    "execution": {
     "iopub.execute_input": "2022-04-09T00:36:14.123723Z",
     "iopub.status.busy": "2022-04-09T00:36:14.123098Z",
     "iopub.status.idle": "2022-04-09T00:36:14.126896Z",
     "shell.execute_reply": "2022-04-09T00:36:14.127356Z"
    },
    "papermill": {
     "duration": 0.045875,
     "end_time": "2022-04-09T00:36:14.127507",
     "exception": false,
     "start_time": "2022-04-09T00:36:14.081632",
     "status": "completed"
    },
    "tags": []
   },
   "outputs": [],
   "source": [
    "#hide\n",
    "# cols.insert(0, cols.pop())"
   ]
  },
  {
   "cell_type": "code",
   "execution_count": 30,
   "id": "executed-adoption",
   "metadata": {
    "execution": {
     "iopub.execute_input": "2022-04-09T00:36:14.210463Z",
     "iopub.status.busy": "2022-04-09T00:36:14.209817Z",
     "iopub.status.idle": "2022-04-09T00:36:14.212307Z",
     "shell.execute_reply": "2022-04-09T00:36:14.211758Z"
    },
    "papermill": {
     "duration": 0.049346,
     "end_time": "2022-04-09T00:36:14.212440",
     "exception": false,
     "start_time": "2022-04-09T00:36:14.163094",
     "status": "completed"
    },
    "tags": []
   },
   "outputs": [],
   "source": [
    "#hide\n",
    "# g = g[cols]"
   ]
  },
  {
   "cell_type": "code",
   "execution_count": 31,
   "id": "subject-dublin",
   "metadata": {
    "execution": {
     "iopub.execute_input": "2022-04-09T00:36:14.289345Z",
     "iopub.status.busy": "2022-04-09T00:36:14.288696Z",
     "iopub.status.idle": "2022-04-09T00:36:14.292761Z",
     "shell.execute_reply": "2022-04-09T00:36:14.292262Z"
    },
    "papermill": {
     "duration": 0.043022,
     "end_time": "2022-04-09T00:36:14.292873",
     "exception": false,
     "start_time": "2022-04-09T00:36:14.249851",
     "status": "completed"
    },
    "tags": []
   },
   "outputs": [],
   "source": [
    "#hide\n",
    "# g['continent'] = g['continent'].map(mapping['map.continent'])"
   ]
  },
  {
   "cell_type": "code",
   "execution_count": 32,
   "id": "freelance-scout",
   "metadata": {
    "execution": {
     "iopub.execute_input": "2022-04-09T00:36:14.368296Z",
     "iopub.status.busy": "2022-04-09T00:36:14.367536Z",
     "iopub.status.idle": "2022-04-09T00:36:14.371373Z",
     "shell.execute_reply": "2022-04-09T00:36:14.370580Z"
    },
    "papermill": {
     "duration": 0.042241,
     "end_time": "2022-04-09T00:36:14.371491",
     "exception": false,
     "start_time": "2022-04-09T00:36:14.329250",
     "status": "completed"
    },
    "tags": []
   },
   "outputs": [],
   "source": [
    "#hide\n",
    "# g.head()"
   ]
  },
  {
   "cell_type": "code",
   "execution_count": 33,
   "id": "limited-engine",
   "metadata": {
    "execution": {
     "iopub.execute_input": "2022-04-09T00:36:14.449069Z",
     "iopub.status.busy": "2022-04-09T00:36:14.448434Z",
     "iopub.status.idle": "2022-04-09T00:36:14.450793Z",
     "shell.execute_reply": "2022-04-09T00:36:14.451253Z"
    },
    "papermill": {
     "duration": 0.042844,
     "end_time": "2022-04-09T00:36:14.451385",
     "exception": false,
     "start_time": "2022-04-09T00:36:14.408541",
     "status": "completed"
    },
    "tags": []
   },
   "outputs": [],
   "source": [
    "# hide\n",
    "# g['date'] = g['date'].astype('datetime64[ns]')"
   ]
  },
  {
   "cell_type": "code",
   "execution_count": 34,
   "id": "sophisticated-supervisor",
   "metadata": {
    "execution": {
     "iopub.execute_input": "2022-04-09T00:36:14.527726Z",
     "iopub.status.busy": "2022-04-09T00:36:14.527084Z",
     "iopub.status.idle": "2022-04-09T00:36:14.529617Z",
     "shell.execute_reply": "2022-04-09T00:36:14.529096Z"
    },
    "papermill": {
     "duration": 0.041795,
     "end_time": "2022-04-09T00:36:14.529771",
     "exception": false,
     "start_time": "2022-04-09T00:36:14.487976",
     "status": "completed"
    },
    "tags": []
   },
   "outputs": [],
   "source": [
    "#hide\n",
    "# g['date'] = g.date.dt.dayofyear"
   ]
  },
  {
   "cell_type": "code",
   "execution_count": 35,
   "id": "inside-dubai",
   "metadata": {
    "execution": {
     "iopub.execute_input": "2022-04-09T00:36:14.606186Z",
     "iopub.status.busy": "2022-04-09T00:36:14.605509Z",
     "iopub.status.idle": "2022-04-09T00:36:14.608192Z",
     "shell.execute_reply": "2022-04-09T00:36:14.607692Z"
    },
    "papermill": {
     "duration": 0.041539,
     "end_time": "2022-04-09T00:36:14.608304",
     "exception": false,
     "start_time": "2022-04-09T00:36:14.566765",
     "status": "completed"
    },
    "tags": []
   },
   "outputs": [],
   "source": [
    "#hide\n",
    "# g = g.rename(columns= {'continent':'group','country':'name','cases':'value'})"
   ]
  },
  {
   "cell_type": "code",
   "execution_count": 36,
   "id": "fleet-motorcycle",
   "metadata": {
    "execution": {
     "iopub.execute_input": "2022-04-09T00:36:14.698978Z",
     "iopub.status.busy": "2022-04-09T00:36:14.698307Z",
     "iopub.status.idle": "2022-04-09T00:36:14.702327Z",
     "shell.execute_reply": "2022-04-09T00:36:14.702870Z"
    },
    "papermill": {
     "duration": 0.051638,
     "end_time": "2022-04-09T00:36:14.703041",
     "exception": false,
     "start_time": "2022-04-09T00:36:14.651403",
     "status": "completed"
    },
    "tags": []
   },
   "outputs": [],
   "source": [
    "#hide\n",
    "# cols = ['name','group','day','value']"
   ]
  },
  {
   "cell_type": "code",
   "execution_count": 37,
   "id": "continued-sleeping",
   "metadata": {
    "execution": {
     "iopub.execute_input": "2022-04-09T00:36:14.780727Z",
     "iopub.status.busy": "2022-04-09T00:36:14.780107Z",
     "iopub.status.idle": "2022-04-09T00:36:14.782584Z",
     "shell.execute_reply": "2022-04-09T00:36:14.781947Z"
    },
    "papermill": {
     "duration": 0.042296,
     "end_time": "2022-04-09T00:36:14.782741",
     "exception": false,
     "start_time": "2022-04-09T00:36:14.740445",
     "status": "completed"
    },
    "tags": []
   },
   "outputs": [],
   "source": [
    "#hide\n",
    "# g.rename(columns= {'date':'day'},inplace = True)"
   ]
  },
  {
   "cell_type": "code",
   "execution_count": 38,
   "id": "major-fight",
   "metadata": {
    "execution": {
     "iopub.execute_input": "2022-04-09T00:36:14.862320Z",
     "iopub.status.busy": "2022-04-09T00:36:14.861701Z",
     "iopub.status.idle": "2022-04-09T00:36:14.864831Z",
     "shell.execute_reply": "2022-04-09T00:36:14.864274Z"
    },
    "papermill": {
     "duration": 0.044559,
     "end_time": "2022-04-09T00:36:14.864951",
     "exception": false,
     "start_time": "2022-04-09T00:36:14.820392",
     "status": "completed"
    },
    "tags": []
   },
   "outputs": [],
   "source": [
    "#hide\n",
    "# g = g[cols]"
   ]
  },
  {
   "cell_type": "code",
   "execution_count": 39,
   "id": "structured-mobile",
   "metadata": {
    "execution": {
     "iopub.execute_input": "2022-04-09T00:36:14.943444Z",
     "iopub.status.busy": "2022-04-09T00:36:14.942851Z",
     "iopub.status.idle": "2022-04-09T00:36:14.944918Z",
     "shell.execute_reply": "2022-04-09T00:36:14.945374Z"
    },
    "papermill": {
     "duration": 0.043325,
     "end_time": "2022-04-09T00:36:14.945510",
     "exception": false,
     "start_time": "2022-04-09T00:36:14.902185",
     "status": "completed"
    },
    "tags": []
   },
   "outputs": [],
   "source": [
    "# #hide\n",
    "# g = g[g.group.notna()]"
   ]
  },
  {
   "cell_type": "code",
   "execution_count": 40,
   "id": "determined-closing",
   "metadata": {
    "execution": {
     "iopub.execute_input": "2022-04-09T00:36:15.021991Z",
     "iopub.status.busy": "2022-04-09T00:36:15.021284Z",
     "iopub.status.idle": "2022-04-09T00:36:15.025045Z",
     "shell.execute_reply": "2022-04-09T00:36:15.024548Z"
    },
    "papermill": {
     "duration": 0.044212,
     "end_time": "2022-04-09T00:36:15.025157",
     "exception": false,
     "start_time": "2022-04-09T00:36:14.980945",
     "status": "completed"
    },
    "tags": []
   },
   "outputs": [],
   "source": [
    "# #hide\n",
    "# colors = dict(zip(\n",
    "#     [\"Oceania\", \"Europe\", \"Asia\", \"South America\", \"Middle East\", \"North America\", \"Africa\"],\n",
    "#     [\"#adb0ff\", \"#ffb3ff\", \"#90d595\", \"#e48381\", \"#aafbff\", \"#f7bb5f\", \"#eafb50\"]\n",
    "# ))\n",
    "# group_lk = g.set_index('name')['group'].to_dict()"
   ]
  },
  {
   "cell_type": "code",
   "execution_count": null,
   "id": "gross-drinking",
   "metadata": {
    "papermill": {
     "duration": 0.034768,
     "end_time": "2022-04-09T00:36:15.095124",
     "exception": false,
     "start_time": "2022-04-09T00:36:15.060356",
     "status": "completed"
    },
    "tags": []
   },
   "outputs": [],
   "source": []
  },
  {
   "cell_type": "code",
   "execution_count": 41,
   "id": "subject-macintosh",
   "metadata": {
    "execution": {
     "iopub.execute_input": "2022-04-09T00:36:15.171782Z",
     "iopub.status.busy": "2022-04-09T00:36:15.170314Z",
     "iopub.status.idle": "2022-04-09T00:36:15.173312Z",
     "shell.execute_reply": "2022-04-09T00:36:15.174020Z"
    },
    "papermill": {
     "duration": 0.042508,
     "end_time": "2022-04-09T00:36:15.174150",
     "exception": false,
     "start_time": "2022-04-09T00:36:15.131642",
     "status": "completed"
    },
    "tags": []
   },
   "outputs": [],
   "source": [
    "# #hide\n",
    "# fig, ax = plt.subplots(figsize=(15, 8))\n",
    "\n",
    "# def draw_barchart(current_day):\n",
    "#     dff = g[g['day'].eq(current_day)].sort_values(by='value', ascending=True).tail(10)\n",
    "#     ax.clear()\n",
    "#     ax.barh(dff['name'], dff['value'], color=[colors[group_lk[x]] for x in dff['name']])\n",
    "#     dx = dff['value'].max() / 200\n",
    "    \n",
    "#     for i, (value, name) in enumerate(zip(dff['value'], dff['name'])):\n",
    "#         ax.text(value-dx, i,     name,           size=14, weight=600, ha='right', va='bottom')\n",
    "#         ax.text(value-dx, i-.25, group_lk[name], size=10, color='#444444', ha='right', va='baseline')\n",
    "#         ax.text(value+dx, i,     f'{value:,.0f}',  size=14, ha='left',  va='center')\n",
    "#     ax.text(1, 0.4, current_day, transform=ax.transAxes, color='#777777', size=46, ha='right', weight=800)\n",
    "#     ax.text(0, 1.06, 'Population (thousands)', transform=ax.transAxes, size=12, color='#777777')\n",
    "#     ax.xaxis.set_major_formatter(ticker.StrMethodFormatter('{x:,.0f}'))\n",
    "#     ax.xaxis.set_ticks_position('top')\n",
    "#     ax.tick_params(axis='x', colors='#777777', labelsize=12)\n",
    "#     ax.set_yticks([])\n",
    "#     ax.margins(0, 0.01)\n",
    "#     ax.grid(which='major', axis='x', linestyle='-')\n",
    "#     ax.set_axisbelow(True)\n",
    "    \n",
    "#     ax.text(0, 1.15, 'Coronavirus',\n",
    "#             transform=ax.transAxes, size=24, weight=600, ha='left', va='top')\n",
    "# #     ax.text(1, 0, 'by @pratapvardhan; credit @jburnmurdoch', transform=ax.transAxes, color='#777777', ha='right',\n",
    "# #             bbox=dict(facecolor='white', alpha=0.8, edgecolor='white'))\n",
    "#     plt.box(False)"
   ]
  },
  {
   "cell_type": "code",
   "execution_count": 42,
   "id": "sexual-wages",
   "metadata": {
    "execution": {
     "iopub.execute_input": "2022-04-09T00:36:15.253432Z",
     "iopub.status.busy": "2022-04-09T00:36:15.252783Z",
     "iopub.status.idle": "2022-04-09T00:36:15.255482Z",
     "shell.execute_reply": "2022-04-09T00:36:15.254961Z"
    },
    "papermill": {
     "duration": 0.044801,
     "end_time": "2022-04-09T00:36:15.255604",
     "exception": false,
     "start_time": "2022-04-09T00:36:15.210803",
     "status": "completed"
    },
    "tags": []
   },
   "outputs": [],
   "source": [
    "# #hide_input\n",
    "# fig, ax = plt.subplots(figsize=(15, 8))\n",
    "# animator = animation.FuncAnimation(fig, draw_barchart, frames=range(g.day.values.min(), g.day.values.max()))\n",
    "# HTML(animator.to_jshtml())\n",
    "# # or use animator.to_html5_video() or animator.save() "
   ]
  },
  {
   "cell_type": "code",
   "execution_count": null,
   "id": "australian-container",
   "metadata": {
    "papermill": {
     "duration": 0.036276,
     "end_time": "2022-04-09T00:36:15.329294",
     "exception": false,
     "start_time": "2022-04-09T00:36:15.293018",
     "status": "completed"
    },
    "tags": []
   },
   "outputs": [],
   "source": []
  },
  {
   "cell_type": "code",
   "execution_count": null,
   "id": "mediterranean-pontiac",
   "metadata": {
    "papermill": {
     "duration": 0.035181,
     "end_time": "2022-04-09T00:36:15.399226",
     "exception": false,
     "start_time": "2022-04-09T00:36:15.364045",
     "status": "completed"
    },
    "tags": []
   },
   "outputs": [],
   "source": []
  },
  {
   "cell_type": "code",
   "execution_count": null,
   "id": "aging-legislature",
   "metadata": {
    "papermill": {
     "duration": 0.035687,
     "end_time": "2022-04-09T00:36:15.471734",
     "exception": false,
     "start_time": "2022-04-09T00:36:15.436047",
     "status": "completed"
    },
    "tags": []
   },
   "outputs": [],
   "source": []
  }
 ],
 "metadata": {
  "kernelspec": {
   "display_name": "Python 3",
   "language": "python",
   "name": "python3"
  },
  "language_info": {
   "codemirror_mode": {
    "name": "ipython",
    "version": 3
   },
   "file_extension": ".py",
   "mimetype": "text/x-python",
   "name": "python",
   "nbconvert_exporter": "python",
   "pygments_lexer": "ipython3",
   "version": "3.6.15"
  },
  "papermill": {
   "duration": 7.187604,
   "end_time": "2022-04-09T00:36:15.933177",
   "environment_variables": {},
   "exception": null,
   "input_path": "2020-03-21-covid19exp.ipynb",
   "output_path": "2020-03-21-covid19exp.ipynb",
   "parameters": {},
   "start_time": "2022-04-09T00:36:08.745573",
   "version": "2.0.0"
  }
 },
 "nbformat": 4,
 "nbformat_minor": 5
}