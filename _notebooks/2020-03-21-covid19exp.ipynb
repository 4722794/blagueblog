{
 "cells": [
  {
   "cell_type": "markdown",
   "id": "muslim-click",
   "metadata": {
    "papermill": {
     "duration": 0.041752,
     "end_time": "2022-02-18T00:32:10.581362",
     "exception": false,
     "start_time": "2022-02-18T00:32:10.539610",
     "status": "completed"
    },
    "tags": []
   },
   "source": [
    "# COVID-19 Case Race\n",
    "> A race chart to see rising cases around the world\n",
    "\n",
    "- author: Hargun Oberoi\n",
    "- image: images/covid-overview.png\n",
    "- hide: false\n",
    "- badges: false"
   ]
  },
  {
   "cell_type": "code",
   "execution_count": 1,
   "id": "proof-material",
   "metadata": {
    "execution": {
     "iopub.execute_input": "2022-02-18T00:32:10.664209Z",
     "iopub.status.busy": "2022-02-18T00:32:10.663566Z",
     "iopub.status.idle": "2022-02-18T00:32:11.071134Z",
     "shell.execute_reply": "2022-02-18T00:32:11.070575Z"
    },
    "papermill": {
     "duration": 0.453977,
     "end_time": "2022-02-18T00:32:11.071314",
     "exception": false,
     "start_time": "2022-02-18T00:32:10.617337",
     "status": "completed"
    },
    "tags": []
   },
   "outputs": [],
   "source": [
    "#hide\n",
    "import numpy as np\n",
    "import pandas as pd\n",
    "from jinja2 import Template\n",
    "from IPython.display import HTML"
   ]
  },
  {
   "cell_type": "code",
   "execution_count": 2,
   "id": "developed-terminology",
   "metadata": {
    "execution": {
     "iopub.execute_input": "2022-02-18T00:32:11.144400Z",
     "iopub.status.busy": "2022-02-18T00:32:11.143777Z",
     "iopub.status.idle": "2022-02-18T00:32:11.148062Z",
     "shell.execute_reply": "2022-02-18T00:32:11.147553Z"
    },
    "papermill": {
     "duration": 0.043344,
     "end_time": "2022-02-18T00:32:11.148186",
     "exception": false,
     "start_time": "2022-02-18T00:32:11.104842",
     "status": "completed"
    },
    "tags": []
   },
   "outputs": [],
   "source": [
    "#hide\n",
    "\n",
    "# FETCH\n",
    "base_url = 'https://raw.githubusercontent.com/pratapvardhan/notebooks/master/covid19/'\n",
    "paths = {\n",
    "    'mapping': base_url + 'mapping_countries.csv',\n",
    "    'overview': base_url + 'overview.tpl'\n",
    "}"
   ]
  },
  {
   "cell_type": "code",
   "execution_count": 3,
   "id": "dynamic-saver",
   "metadata": {
    "execution": {
     "iopub.execute_input": "2022-02-18T00:32:11.226389Z",
     "iopub.status.busy": "2022-02-18T00:32:11.225742Z",
     "iopub.status.idle": "2022-02-18T00:32:11.229893Z",
     "shell.execute_reply": "2022-02-18T00:32:11.230379Z"
    },
    "papermill": {
     "duration": 0.049102,
     "end_time": "2022-02-18T00:32:11.230533",
     "exception": false,
     "start_time": "2022-02-18T00:32:11.181431",
     "status": "completed"
    },
    "tags": []
   },
   "outputs": [
    {
     "data": {
      "text/plain": [
       "'https://raw.githubusercontent.com/pratapvardhan/notebooks/master/covid19/mapping_countries.csv'"
      ]
     },
     "execution_count": 3,
     "metadata": {},
     "output_type": "execute_result"
    }
   ],
   "source": [
    "#hide\n",
    "paths['mapping']"
   ]
  },
  {
   "cell_type": "code",
   "execution_count": 4,
   "id": "urban-software",
   "metadata": {
    "execution": {
     "iopub.execute_input": "2022-02-18T00:32:11.307099Z",
     "iopub.status.busy": "2022-02-18T00:32:11.306093Z",
     "iopub.status.idle": "2022-02-18T00:32:11.308198Z",
     "shell.execute_reply": "2022-02-18T00:32:11.308962Z"
    },
    "papermill": {
     "duration": 0.044598,
     "end_time": "2022-02-18T00:32:11.309174",
     "exception": false,
     "start_time": "2022-02-18T00:32:11.264576",
     "status": "completed"
    },
    "tags": []
   },
   "outputs": [],
   "source": [
    "#hide\n",
    "def get_mappings(url):\n",
    "    df = pd.read_csv(url)\n",
    "    return {\n",
    "        'df': df,\n",
    "        'replace.country': dict(df.dropna(subset=['Name']).set_index('Country')['Name']),\n",
    "        'map.continent': dict(df.set_index('Name')['Continent'])\n",
    "    }"
   ]
  },
  {
   "cell_type": "code",
   "execution_count": 5,
   "id": "intimate-machinery",
   "metadata": {
    "execution": {
     "iopub.execute_input": "2022-02-18T00:32:11.385539Z",
     "iopub.status.busy": "2022-02-18T00:32:11.384874Z",
     "iopub.status.idle": "2022-02-18T00:32:11.423314Z",
     "shell.execute_reply": "2022-02-18T00:32:11.422744Z"
    },
    "papermill": {
     "duration": 0.079891,
     "end_time": "2022-02-18T00:32:11.423449",
     "exception": false,
     "start_time": "2022-02-18T00:32:11.343558",
     "status": "completed"
    },
    "tags": []
   },
   "outputs": [],
   "source": [
    "#hide\n",
    "mapping = get_mappings(paths['mapping'])"
   ]
  },
  {
   "cell_type": "code",
   "execution_count": 6,
   "id": "certified-tactics",
   "metadata": {
    "execution": {
     "iopub.execute_input": "2022-02-18T00:32:11.502832Z",
     "iopub.status.busy": "2022-02-18T00:32:11.501739Z",
     "iopub.status.idle": "2022-02-18T00:32:11.505997Z",
     "shell.execute_reply": "2022-02-18T00:32:11.506450Z"
    },
    "papermill": {
     "duration": 0.04785,
     "end_time": "2022-02-18T00:32:11.506603",
     "exception": false,
     "start_time": "2022-02-18T00:32:11.458753",
     "status": "completed"
    },
    "tags": []
   },
   "outputs": [],
   "source": [
    "#hide\n",
    "def get_template(path):\n",
    "    from urllib.parse import urlparse\n",
    "    if bool(urlparse(path).netloc):\n",
    "        from urllib.request import urlopen\n",
    "        return urlopen(path).read().decode('utf8')\n",
    "    return open(path).read()"
   ]
  },
  {
   "cell_type": "code",
   "execution_count": 7,
   "id": "realistic-blast",
   "metadata": {
    "execution": {
     "iopub.execute_input": "2022-02-18T00:32:11.580475Z",
     "iopub.status.busy": "2022-02-18T00:32:11.579862Z",
     "iopub.status.idle": "2022-02-18T00:32:11.582598Z",
     "shell.execute_reply": "2022-02-18T00:32:11.583165Z"
    },
    "papermill": {
     "duration": 0.042702,
     "end_time": "2022-02-18T00:32:11.583342",
     "exception": false,
     "start_time": "2022-02-18T00:32:11.540640",
     "status": "completed"
    },
    "tags": []
   },
   "outputs": [],
   "source": [
    "#hide\n",
    "def get_frame(name):\n",
    "    url = (\n",
    "        'https://raw.githubusercontent.com/CSSEGISandData/COVID-19/master/csse_covid_19_data/'\n",
    "        f'csse_covid_19_time_series/time_series_covid19_{name}_global.csv')\n",
    "    df = pd.read_csv(url)\n",
    "    # rename countries\n",
    "    df['Country/Region'] = df['Country/Region'].replace(mapping['replace.country'])\n",
    "    return df"
   ]
  },
  {
   "cell_type": "code",
   "execution_count": 8,
   "id": "affiliated-characterization",
   "metadata": {
    "execution": {
     "iopub.execute_input": "2022-02-18T00:32:11.658688Z",
     "iopub.status.busy": "2022-02-18T00:32:11.658074Z",
     "iopub.status.idle": "2022-02-18T00:32:11.660395Z",
     "shell.execute_reply": "2022-02-18T00:32:11.659811Z"
    },
    "papermill": {
     "duration": 0.042915,
     "end_time": "2022-02-18T00:32:11.660518",
     "exception": false,
     "start_time": "2022-02-18T00:32:11.617603",
     "status": "completed"
    },
    "tags": []
   },
   "outputs": [],
   "source": [
    "#hide\n",
    "def get_dates(df):\n",
    "    dt_cols = df.columns[~df.columns.isin(['Province/State', 'Country/Region', 'Lat', 'Long'])]\n",
    "    LAST_DATE_I = -1\n",
    "    # sometimes last column may be empty, then go backwards\n",
    "    for i in range(-1, -len(dt_cols), -1):\n",
    "        if not df[dt_cols[i]].fillna(0).eq(0).all():\n",
    "            LAST_DATE_I = i\n",
    "            break\n",
    "    return LAST_DATE_I, dt_cols"
   ]
  },
  {
   "cell_type": "code",
   "execution_count": 9,
   "id": "recent-optimization",
   "metadata": {
    "execution": {
     "iopub.execute_input": "2022-02-18T00:32:11.733795Z",
     "iopub.status.busy": "2022-02-18T00:32:11.733171Z",
     "iopub.status.idle": "2022-02-18T00:32:12.178927Z",
     "shell.execute_reply": "2022-02-18T00:32:12.179859Z"
    },
    "papermill": {
     "duration": 0.485576,
     "end_time": "2022-02-18T00:32:12.180105",
     "exception": false,
     "start_time": "2022-02-18T00:32:11.694529",
     "status": "completed"
    },
    "tags": []
   },
   "outputs": [],
   "source": [
    "#hide\n",
    "COL_REGION = 'Country/Region'\n",
    "# Confirmed, Recovered, Deaths\n",
    "df = get_frame('confirmed')\n",
    "# dft_: timeseries, dfc_: today country agg\n",
    "dft_cases = df\n",
    "dft_deaths = get_frame('deaths')\n",
    "dft_recovered = get_frame('recovered')\n",
    "LAST_DATE_I, dt_cols = get_dates(df)"
   ]
  },
  {
   "cell_type": "code",
   "execution_count": 10,
   "id": "absolute-copper",
   "metadata": {
    "execution": {
     "iopub.execute_input": "2022-02-18T00:32:12.256608Z",
     "iopub.status.busy": "2022-02-18T00:32:12.255991Z",
     "iopub.status.idle": "2022-02-18T00:32:12.258520Z",
     "shell.execute_reply": "2022-02-18T00:32:12.259030Z"
    },
    "papermill": {
     "duration": 0.043089,
     "end_time": "2022-02-18T00:32:12.259175",
     "exception": false,
     "start_time": "2022-02-18T00:32:12.216086",
     "status": "completed"
    },
    "tags": []
   },
   "outputs": [],
   "source": [
    "#hide\n",
    "LAST_DATE_I, dt_cols = get_dates(df)\n",
    "dt_today =dt_cols[LAST_DATE_I]\n",
    "# dt_5day = dt_cols[LAST_DATE_I - 5]\n",
    "dt_yday = dt_cols[LAST_DATE_I - 1]"
   ]
  },
  {
   "cell_type": "code",
   "execution_count": 11,
   "id": "restricted-sheriff",
   "metadata": {
    "execution": {
     "iopub.execute_input": "2022-02-18T00:32:12.335090Z",
     "iopub.status.busy": "2022-02-18T00:32:12.334472Z",
     "iopub.status.idle": "2022-02-18T00:32:12.343570Z",
     "shell.execute_reply": "2022-02-18T00:32:12.343039Z"
    },
    "papermill": {
     "duration": 0.050781,
     "end_time": "2022-02-18T00:32:12.343707",
     "exception": false,
     "start_time": "2022-02-18T00:32:12.292926",
     "status": "completed"
    },
    "tags": []
   },
   "outputs": [],
   "source": [
    "#hide\n",
    "dfc_cases = dft_cases.groupby(COL_REGION)[dt_today].sum()\n",
    "dfc_deaths = dft_deaths.groupby(COL_REGION)[dt_today].sum()\n",
    "# dfp_cases = dft_cases.groupby(COL_REGION)[dt_5day].sum()\n",
    "# dfp_deaths = dft_deaths.groupby(COL_REGION)[dt_5day].sum()\n",
    "dfp_cases = dft_cases.groupby(COL_REGION)[dt_yday].sum()\n",
    "dfp_deaths = dft_deaths.groupby(COL_REGION)[dt_yday].sum()"
   ]
  },
  {
   "cell_type": "code",
   "execution_count": 12,
   "id": "deluxe-hepatitis",
   "metadata": {
    "execution": {
     "iopub.execute_input": "2022-02-18T00:32:12.420669Z",
     "iopub.status.busy": "2022-02-18T00:32:12.420059Z",
     "iopub.status.idle": "2022-02-18T00:32:12.425296Z",
     "shell.execute_reply": "2022-02-18T00:32:12.424781Z"
    },
    "papermill": {
     "duration": 0.047509,
     "end_time": "2022-02-18T00:32:12.425421",
     "exception": false,
     "start_time": "2022-02-18T00:32:12.377912",
     "status": "completed"
    },
    "tags": []
   },
   "outputs": [],
   "source": [
    "#hide\n",
    "df_table = (pd.DataFrame(dict(Cases = dfc_cases, Deaths = dfc_deaths, PCases = dfp_cases, PDeaths = dfp_deaths))\n",
    "            .sort_values(by = ['Cases','Deaths'], ascending = [False, False])\n",
    "            .reset_index())"
   ]
  },
  {
   "cell_type": "code",
   "execution_count": 13,
   "id": "educational-chancellor",
   "metadata": {
    "execution": {
     "iopub.execute_input": "2022-02-18T00:32:12.516868Z",
     "iopub.status.busy": "2022-02-18T00:32:12.516216Z",
     "iopub.status.idle": "2022-02-18T00:32:12.525932Z",
     "shell.execute_reply": "2022-02-18T00:32:12.525421Z"
    },
    "papermill": {
     "duration": 0.066984,
     "end_time": "2022-02-18T00:32:12.526067",
     "exception": false,
     "start_time": "2022-02-18T00:32:12.459083",
     "status": "completed"
    },
    "tags": []
   },
   "outputs": [
    {
     "data": {
      "text/html": [
       "<div>\n",
       "<style scoped>\n",
       "    .dataframe tbody tr th:only-of-type {\n",
       "        vertical-align: middle;\n",
       "    }\n",
       "\n",
       "    .dataframe tbody tr th {\n",
       "        vertical-align: top;\n",
       "    }\n",
       "\n",
       "    .dataframe thead th {\n",
       "        text-align: right;\n",
       "    }\n",
       "</style>\n",
       "<table border=\"1\" class=\"dataframe\">\n",
       "  <thead>\n",
       "    <tr style=\"text-align: right;\">\n",
       "      <th></th>\n",
       "      <th>Country/Region</th>\n",
       "      <th>Cases</th>\n",
       "      <th>Deaths</th>\n",
       "      <th>PCases</th>\n",
       "      <th>PDeaths</th>\n",
       "      <th>Cases (+)</th>\n",
       "      <th>Deaths (+)</th>\n",
       "      <th>Fatality Rate</th>\n",
       "      <th>Continent</th>\n",
       "    </tr>\n",
       "  </thead>\n",
       "  <tbody>\n",
       "    <tr>\n",
       "      <th>0</th>\n",
       "      <td>US</td>\n",
       "      <td>78172840</td>\n",
       "      <td>928518</td>\n",
       "      <td>78036352</td>\n",
       "      <td>925435</td>\n",
       "      <td>136488</td>\n",
       "      <td>3083</td>\n",
       "      <td>1.19</td>\n",
       "      <td>North America</td>\n",
       "    </tr>\n",
       "    <tr>\n",
       "      <th>1</th>\n",
       "      <td>India</td>\n",
       "      <td>42754315</td>\n",
       "      <td>510413</td>\n",
       "      <td>42723558</td>\n",
       "      <td>509872</td>\n",
       "      <td>30757</td>\n",
       "      <td>541</td>\n",
       "      <td>1.19</td>\n",
       "      <td>Asia</td>\n",
       "    </tr>\n",
       "    <tr>\n",
       "      <th>2</th>\n",
       "      <td>Brazil</td>\n",
       "      <td>27819996</td>\n",
       "      <td>641096</td>\n",
       "      <td>27677468</td>\n",
       "      <td>640076</td>\n",
       "      <td>142528</td>\n",
       "      <td>1020</td>\n",
       "      <td>2.30</td>\n",
       "      <td>South America</td>\n",
       "    </tr>\n",
       "    <tr>\n",
       "      <th>3</th>\n",
       "      <td>France</td>\n",
       "      <td>22130264</td>\n",
       "      <td>136856</td>\n",
       "      <td>21886335</td>\n",
       "      <td>136187</td>\n",
       "      <td>243929</td>\n",
       "      <td>669</td>\n",
       "      <td>0.62</td>\n",
       "      <td>Europe</td>\n",
       "    </tr>\n",
       "    <tr>\n",
       "      <th>4</th>\n",
       "      <td>United Kingdom</td>\n",
       "      <td>18575733</td>\n",
       "      <td>160599</td>\n",
       "      <td>18521452</td>\n",
       "      <td>160400</td>\n",
       "      <td>54281</td>\n",
       "      <td>199</td>\n",
       "      <td>0.86</td>\n",
       "      <td>Europe</td>\n",
       "    </tr>\n",
       "  </tbody>\n",
       "</table>\n",
       "</div>"
      ],
      "text/plain": [
       "   Country/Region     Cases  Deaths    PCases  PDeaths  Cases (+)  Deaths (+)  \\\n",
       "0              US  78172840  928518  78036352   925435     136488        3083   \n",
       "1           India  42754315  510413  42723558   509872      30757         541   \n",
       "2          Brazil  27819996  641096  27677468   640076     142528        1020   \n",
       "3          France  22130264  136856  21886335   136187     243929         669   \n",
       "4  United Kingdom  18575733  160599  18521452   160400      54281         199   \n",
       "\n",
       "   Fatality Rate      Continent  \n",
       "0           1.19  North America  \n",
       "1           1.19           Asia  \n",
       "2           2.30  South America  \n",
       "3           0.62         Europe  \n",
       "4           0.86         Europe  "
      ]
     },
     "execution_count": 13,
     "metadata": {},
     "output_type": "execute_result"
    }
   ],
   "source": [
    "#hide\n",
    "for c in 'Cases, Deaths'.split(', '):\n",
    "    df_table[f'{c} (+)'] = (df_table[c] - df_table[f'P{c}']).clip(0)\n",
    "    #Clip ça veut dire, les chiffres negatif sont interdit\n",
    "df_table['Fatality Rate'] = (100* df_table['Deaths']/ df_table['Cases']).round(2)\n",
    "df_table['Continent'] = df_table['Country/Region'].map(mapping['map.continent'])\n",
    "df_table.head(5)"
   ]
  },
  {
   "cell_type": "code",
   "execution_count": 14,
   "id": "aboriginal-bulgaria",
   "metadata": {
    "execution": {
     "iopub.execute_input": "2022-02-18T00:32:12.608843Z",
     "iopub.status.busy": "2022-02-18T00:32:12.608081Z",
     "iopub.status.idle": "2022-02-18T00:32:12.611566Z",
     "shell.execute_reply": "2022-02-18T00:32:12.611042Z"
    },
    "papermill": {
     "duration": 0.04893,
     "end_time": "2022-02-18T00:32:12.611699",
     "exception": false,
     "start_time": "2022-02-18T00:32:12.562769",
     "status": "completed"
    },
    "tags": []
   },
   "outputs": [],
   "source": [
    "#hide\n",
    "#delete problematic countries from table\n",
    "df_table = df_table[~df_table['Country/Region'].isin(['Cape Verde', 'Cruise Ship', 'Kosovo'])]"
   ]
  },
  {
   "cell_type": "code",
   "execution_count": 15,
   "id": "fantastic-effect",
   "metadata": {
    "execution": {
     "iopub.execute_input": "2022-02-18T00:32:12.697799Z",
     "iopub.status.busy": "2022-02-18T00:32:12.697184Z",
     "iopub.status.idle": "2022-02-18T00:32:12.717011Z",
     "shell.execute_reply": "2022-02-18T00:32:12.717667Z"
    },
    "papermill": {
     "duration": 0.070583,
     "end_time": "2022-02-18T00:32:12.717858",
     "exception": false,
     "start_time": "2022-02-18T00:32:12.647275",
     "status": "completed"
    },
    "tags": []
   },
   "outputs": [
    {
     "data": {
      "text/html": [
       "<div>\n",
       "<style scoped>\n",
       "    .dataframe tbody tr th:only-of-type {\n",
       "        vertical-align: middle;\n",
       "    }\n",
       "\n",
       "    .dataframe tbody tr th {\n",
       "        vertical-align: top;\n",
       "    }\n",
       "\n",
       "    .dataframe thead th {\n",
       "        text-align: right;\n",
       "    }\n",
       "</style>\n",
       "<table border=\"1\" class=\"dataframe\">\n",
       "  <thead>\n",
       "    <tr style=\"text-align: right;\">\n",
       "      <th></th>\n",
       "      <th>Country/Region</th>\n",
       "      <th>Cases</th>\n",
       "      <th>Deaths</th>\n",
       "      <th>PCases</th>\n",
       "      <th>PDeaths</th>\n",
       "      <th>Cases (+)</th>\n",
       "      <th>Deaths (+)</th>\n",
       "      <th>Fatality Rate</th>\n",
       "      <th>Continent</th>\n",
       "    </tr>\n",
       "  </thead>\n",
       "  <tbody>\n",
       "    <tr>\n",
       "      <th>0</th>\n",
       "      <td>US</td>\n",
       "      <td>78172840</td>\n",
       "      <td>928518</td>\n",
       "      <td>78036352</td>\n",
       "      <td>925435</td>\n",
       "      <td>136488</td>\n",
       "      <td>3083</td>\n",
       "      <td>1.2</td>\n",
       "      <td>North America</td>\n",
       "    </tr>\n",
       "    <tr>\n",
       "      <th>1</th>\n",
       "      <td>India</td>\n",
       "      <td>42754315</td>\n",
       "      <td>510413</td>\n",
       "      <td>42723558</td>\n",
       "      <td>509872</td>\n",
       "      <td>30757</td>\n",
       "      <td>541</td>\n",
       "      <td>1.2</td>\n",
       "      <td>Asia</td>\n",
       "    </tr>\n",
       "    <tr>\n",
       "      <th>2</th>\n",
       "      <td>Brazil</td>\n",
       "      <td>27819996</td>\n",
       "      <td>641096</td>\n",
       "      <td>27677468</td>\n",
       "      <td>640076</td>\n",
       "      <td>142528</td>\n",
       "      <td>1020</td>\n",
       "      <td>2.3</td>\n",
       "      <td>South America</td>\n",
       "    </tr>\n",
       "    <tr>\n",
       "      <th>3</th>\n",
       "      <td>France</td>\n",
       "      <td>22130264</td>\n",
       "      <td>136856</td>\n",
       "      <td>21886335</td>\n",
       "      <td>136187</td>\n",
       "      <td>243929</td>\n",
       "      <td>669</td>\n",
       "      <td>0.6</td>\n",
       "      <td>Europe</td>\n",
       "    </tr>\n",
       "    <tr>\n",
       "      <th>4</th>\n",
       "      <td>United Kingdom</td>\n",
       "      <td>18575733</td>\n",
       "      <td>160599</td>\n",
       "      <td>18521452</td>\n",
       "      <td>160400</td>\n",
       "      <td>54281</td>\n",
       "      <td>199</td>\n",
       "      <td>0.9</td>\n",
       "      <td>Europe</td>\n",
       "    </tr>\n",
       "  </tbody>\n",
       "</table>\n",
       "</div>"
      ],
      "text/plain": [
       "   Country/Region     Cases  Deaths    PCases  PDeaths  Cases (+)  Deaths (+)  \\\n",
       "0              US  78172840  928518  78036352   925435     136488        3083   \n",
       "1           India  42754315  510413  42723558   509872      30757         541   \n",
       "2          Brazil  27819996  641096  27677468   640076     142528        1020   \n",
       "3          France  22130264  136856  21886335   136187     243929         669   \n",
       "4  United Kingdom  18575733  160599  18521452   160400      54281         199   \n",
       "\n",
       "   Fatality Rate      Continent  \n",
       "0            1.2  North America  \n",
       "1            1.2           Asia  \n",
       "2            2.3  South America  \n",
       "3            0.6         Europe  \n",
       "4            0.9         Europe  "
      ]
     },
     "execution_count": 15,
     "metadata": {},
     "output_type": "execute_result"
    }
   ],
   "source": [
    "#hide\n",
    "df_table = (pd.DataFrame(dict(Cases=dfc_cases, Deaths=dfc_deaths, PCases=dfp_cases, PDeaths=dfp_deaths))\n",
    "             .sort_values(by=['Cases', 'Deaths'], ascending=[False, False])\n",
    "             .reset_index())\n",
    "df_table.rename(columns={'index': 'Country/Region'}, inplace=True)\n",
    "for c in 'Cases, Deaths'.split(', '):\n",
    "    df_table[f'{c} (+)'] = (df_table[c] - df_table[f'P{c}']).clip(0)  # DATA BUG\n",
    "df_table['Fatality Rate'] = (100 * df_table['Deaths'] / df_table['Cases']).round(1)\n",
    "df_table['Continent'] = df_table['Country/Region'].map(mapping['map.continent'])\n",
    "df_table.head(5)"
   ]
  },
  {
   "cell_type": "code",
   "execution_count": 16,
   "id": "fewer-occasion",
   "metadata": {
    "execution": {
     "iopub.execute_input": "2022-02-18T00:32:12.796543Z",
     "iopub.status.busy": "2022-02-18T00:32:12.795923Z",
     "iopub.status.idle": "2022-02-18T00:32:12.800421Z",
     "shell.execute_reply": "2022-02-18T00:32:12.799934Z"
    },
    "papermill": {
     "duration": 0.046204,
     "end_time": "2022-02-18T00:32:12.800549",
     "exception": false,
     "start_time": "2022-02-18T00:32:12.754345",
     "status": "completed"
    },
    "tags": []
   },
   "outputs": [],
   "source": [
    "#hide\n",
    "#delete problematic countries from table\n",
    "df_table = df_table[~df_table['Country/Region'].isin(['Cape Verde', 'Cruise Ship', 'Kosovo'])]"
   ]
  },
  {
   "cell_type": "code",
   "execution_count": 17,
   "id": "related-center",
   "metadata": {
    "execution": {
     "iopub.execute_input": "2022-02-18T00:32:12.892491Z",
     "iopub.status.busy": "2022-02-18T00:32:12.891845Z",
     "iopub.status.idle": "2022-02-18T00:32:12.894198Z",
     "shell.execute_reply": "2022-02-18T00:32:12.893723Z"
    },
    "papermill": {
     "duration": 0.059008,
     "end_time": "2022-02-18T00:32:12.894325",
     "exception": false,
     "start_time": "2022-02-18T00:32:12.835317",
     "status": "completed"
    },
    "tags": []
   },
   "outputs": [],
   "source": [
    "#hide\n",
    "metrics = [df_table.columns[index] for index in [1,2,5,6]]\n",
    "# s_china = df_table[df_table['Country/Region'].eq('China')][metrics].sum().add_prefix('China ')\n",
    "s_us = df_table[df_table['Country/Region'].eq('US')][metrics].sum().add_prefix('US ')\n",
    "s_eu = df_table[df_table['Continent'].eq('Europe')][metrics].sum().add_prefix('EU ')\n",
    "s_ind = df_table[df_table['Country/Region'].eq('India')][metrics].sum().add_prefix('India ')\n",
    "summary = {'updated': pd.to_datetime(dt_today), 'since': pd.to_datetime(dt_yday)}\n",
    "summary = {'updated': pd.to_datetime(dt_today), 'since': pd.to_datetime(dt_yday)}\n",
    "summary = {**summary, **df_table[metrics].sum(), **s_ind, **s_us, **s_eu}"
   ]
  },
  {
   "cell_type": "code",
   "execution_count": 18,
   "id": "engaging-syndrome",
   "metadata": {
    "execution": {
     "iopub.execute_input": "2022-02-18T00:32:12.973011Z",
     "iopub.status.busy": "2022-02-18T00:32:12.972411Z",
     "iopub.status.idle": "2022-02-18T00:32:12.989220Z",
     "shell.execute_reply": "2022-02-18T00:32:12.988724Z"
    },
    "papermill": {
     "duration": 0.058495,
     "end_time": "2022-02-18T00:32:12.989352",
     "exception": false,
     "start_time": "2022-02-18T00:32:12.930857",
     "status": "completed"
    },
    "tags": []
   },
   "outputs": [],
   "source": [
    "#hide\n",
    "dft_ct_new_cases = dft_cases.groupby(COL_REGION)[dt_cols].sum().diff(axis=1).fillna(0).astype(int)"
   ]
  },
  {
   "cell_type": "code",
   "execution_count": 19,
   "id": "neutral-assignment",
   "metadata": {
    "execution": {
     "iopub.execute_input": "2022-02-18T00:32:13.084922Z",
     "iopub.status.busy": "2022-02-18T00:32:13.084307Z",
     "iopub.status.idle": "2022-02-18T00:32:13.086754Z",
     "shell.execute_reply": "2022-02-18T00:32:13.087258Z"
    },
    "papermill": {
     "duration": 0.060548,
     "end_time": "2022-02-18T00:32:13.087411",
     "exception": false,
     "start_time": "2022-02-18T00:32:13.026863",
     "status": "completed"
    },
    "tags": []
   },
   "outputs": [],
   "source": [
    "#hide\n",
    "everydaycases = dft_ct_new_cases.cumsum(axis=1)"
   ]
  },
  {
   "cell_type": "code",
   "execution_count": 20,
   "id": "parliamentary-calgary",
   "metadata": {
    "execution": {
     "iopub.execute_input": "2022-02-18T00:32:13.162720Z",
     "iopub.status.busy": "2022-02-18T00:32:13.162110Z",
     "iopub.status.idle": "2022-02-18T00:32:13.856212Z",
     "shell.execute_reply": "2022-02-18T00:32:13.855669Z"
    },
    "papermill": {
     "duration": 0.733678,
     "end_time": "2022-02-18T00:32:13.856353",
     "exception": false,
     "start_time": "2022-02-18T00:32:13.122675",
     "status": "completed"
    },
    "tags": []
   },
   "outputs": [],
   "source": [
    "#hide\n",
    "import pandas as pd\n",
    "import matplotlib.pyplot as plt\n",
    "import matplotlib.ticker as ticker\n",
    "import matplotlib.animation as animation\n",
    "from IPython.display import HTML"
   ]
  },
  {
   "cell_type": "code",
   "execution_count": 21,
   "id": "lasting-extraction",
   "metadata": {
    "execution": {
     "iopub.execute_input": "2022-02-18T00:32:13.933647Z",
     "iopub.status.busy": "2022-02-18T00:32:13.933037Z",
     "iopub.status.idle": "2022-02-18T00:32:13.941701Z",
     "shell.execute_reply": "2022-02-18T00:32:13.940637Z"
    },
    "papermill": {
     "duration": 0.050307,
     "end_time": "2022-02-18T00:32:13.941837",
     "exception": false,
     "start_time": "2022-02-18T00:32:13.891530",
     "status": "completed"
    },
    "tags": []
   },
   "outputs": [],
   "source": [
    "#hide\n",
    "t = everydaycases.stack()"
   ]
  },
  {
   "cell_type": "code",
   "execution_count": 22,
   "id": "premier-sleeve",
   "metadata": {
    "execution": {
     "iopub.execute_input": "2022-02-18T00:32:14.021318Z",
     "iopub.status.busy": "2022-02-18T00:32:14.017123Z",
     "iopub.status.idle": "2022-02-18T00:32:14.028626Z",
     "shell.execute_reply": "2022-02-18T00:32:14.028017Z"
    },
    "papermill": {
     "duration": 0.051693,
     "end_time": "2022-02-18T00:32:14.028752",
     "exception": false,
     "start_time": "2022-02-18T00:32:13.977059",
     "status": "completed"
    },
    "tags": []
   },
   "outputs": [],
   "source": [
    "#hide\n",
    "g = t.reset_index(['Country/Region'])"
   ]
  },
  {
   "cell_type": "code",
   "execution_count": 23,
   "id": "distributed-pittsburgh",
   "metadata": {
    "execution": {
     "iopub.execute_input": "2022-02-18T00:32:14.103886Z",
     "iopub.status.busy": "2022-02-18T00:32:14.103241Z",
     "iopub.status.idle": "2022-02-18T00:32:14.105532Z",
     "shell.execute_reply": "2022-02-18T00:32:14.105032Z"
    },
    "papermill": {
     "duration": 0.041673,
     "end_time": "2022-02-18T00:32:14.105656",
     "exception": false,
     "start_time": "2022-02-18T00:32:14.063983",
     "status": "completed"
    },
    "tags": []
   },
   "outputs": [],
   "source": [
    "#hide\n",
    "g.index.name = 'date'"
   ]
  },
  {
   "cell_type": "code",
   "execution_count": 24,
   "id": "naked-donor",
   "metadata": {
    "execution": {
     "iopub.execute_input": "2022-02-18T00:32:14.181960Z",
     "iopub.status.busy": "2022-02-18T00:32:14.181026Z",
     "iopub.status.idle": "2022-02-18T00:32:14.185791Z",
     "shell.execute_reply": "2022-02-18T00:32:14.185304Z"
    },
    "papermill": {
     "duration": 0.044695,
     "end_time": "2022-02-18T00:32:14.185922",
     "exception": false,
     "start_time": "2022-02-18T00:32:14.141227",
     "status": "completed"
    },
    "tags": []
   },
   "outputs": [],
   "source": [
    "# #hide\n",
    "# g = g.reset_index(['date'])"
   ]
  },
  {
   "cell_type": "code",
   "execution_count": 25,
   "id": "incomplete-mustang",
   "metadata": {
    "execution": {
     "iopub.execute_input": "2022-02-18T00:32:14.261322Z",
     "iopub.status.busy": "2022-02-18T00:32:14.260697Z",
     "iopub.status.idle": "2022-02-18T00:32:14.263084Z",
     "shell.execute_reply": "2022-02-18T00:32:14.263675Z"
    },
    "papermill": {
     "duration": 0.042975,
     "end_time": "2022-02-18T00:32:14.263819",
     "exception": false,
     "start_time": "2022-02-18T00:32:14.220844",
     "status": "completed"
    },
    "tags": []
   },
   "outputs": [],
   "source": [
    "#hide\n",
    "# g.head()"
   ]
  },
  {
   "cell_type": "code",
   "execution_count": 26,
   "id": "specific-kruger",
   "metadata": {
    "execution": {
     "iopub.execute_input": "2022-02-18T00:32:14.339024Z",
     "iopub.status.busy": "2022-02-18T00:32:14.338406Z",
     "iopub.status.idle": "2022-02-18T00:32:14.340705Z",
     "shell.execute_reply": "2022-02-18T00:32:14.340228Z"
    },
    "papermill": {
     "duration": 0.041819,
     "end_time": "2022-02-18T00:32:14.340831",
     "exception": false,
     "start_time": "2022-02-18T00:32:14.299012",
     "status": "completed"
    },
    "tags": []
   },
   "outputs": [],
   "source": [
    "#hide\n",
    "# g.columns = ['date','country','cases']"
   ]
  },
  {
   "cell_type": "code",
   "execution_count": 27,
   "id": "tender-conversion",
   "metadata": {
    "execution": {
     "iopub.execute_input": "2022-02-18T00:32:14.417538Z",
     "iopub.status.busy": "2022-02-18T00:32:14.416474Z",
     "iopub.status.idle": "2022-02-18T00:32:14.418175Z",
     "shell.execute_reply": "2022-02-18T00:32:14.418638Z"
    },
    "papermill": {
     "duration": 0.042748,
     "end_time": "2022-02-18T00:32:14.418782",
     "exception": false,
     "start_time": "2022-02-18T00:32:14.376034",
     "status": "completed"
    },
    "tags": []
   },
   "outputs": [],
   "source": [
    "#hide\n",
    "# g['continent'] = g.country"
   ]
  },
  {
   "cell_type": "code",
   "execution_count": 28,
   "id": "substantial-wilderness",
   "metadata": {
    "execution": {
     "iopub.execute_input": "2022-02-18T00:32:14.493051Z",
     "iopub.status.busy": "2022-02-18T00:32:14.492430Z",
     "iopub.status.idle": "2022-02-18T00:32:14.496718Z",
     "shell.execute_reply": "2022-02-18T00:32:14.496236Z"
    },
    "papermill": {
     "duration": 0.042821,
     "end_time": "2022-02-18T00:32:14.496848",
     "exception": false,
     "start_time": "2022-02-18T00:32:14.454027",
     "status": "completed"
    },
    "tags": []
   },
   "outputs": [],
   "source": [
    "#hide\n",
    "# cols = list(g.columns.values)"
   ]
  },
  {
   "cell_type": "code",
   "execution_count": 29,
   "id": "solved-farming",
   "metadata": {
    "execution": {
     "iopub.execute_input": "2022-02-18T00:32:14.571967Z",
     "iopub.status.busy": "2022-02-18T00:32:14.571319Z",
     "iopub.status.idle": "2022-02-18T00:32:14.573438Z",
     "shell.execute_reply": "2022-02-18T00:32:14.572851Z"
    },
    "papermill": {
     "duration": 0.041694,
     "end_time": "2022-02-18T00:32:14.573560",
     "exception": false,
     "start_time": "2022-02-18T00:32:14.531866",
     "status": "completed"
    },
    "tags": []
   },
   "outputs": [],
   "source": [
    "#hide\n",
    "# cols.insert(0, cols.pop())"
   ]
  },
  {
   "cell_type": "code",
   "execution_count": 30,
   "id": "executed-adoption",
   "metadata": {
    "execution": {
     "iopub.execute_input": "2022-02-18T00:32:14.650389Z",
     "iopub.status.busy": "2022-02-18T00:32:14.649448Z",
     "iopub.status.idle": "2022-02-18T00:32:14.653967Z",
     "shell.execute_reply": "2022-02-18T00:32:14.653474Z"
    },
    "papermill": {
     "duration": 0.045251,
     "end_time": "2022-02-18T00:32:14.654098",
     "exception": false,
     "start_time": "2022-02-18T00:32:14.608847",
     "status": "completed"
    },
    "tags": []
   },
   "outputs": [],
   "source": [
    "#hide\n",
    "# g = g[cols]"
   ]
  },
  {
   "cell_type": "code",
   "execution_count": 31,
   "id": "subject-dublin",
   "metadata": {
    "execution": {
     "iopub.execute_input": "2022-02-18T00:32:14.731292Z",
     "iopub.status.busy": "2022-02-18T00:32:14.730139Z",
     "iopub.status.idle": "2022-02-18T00:32:14.731964Z",
     "shell.execute_reply": "2022-02-18T00:32:14.732430Z"
    },
    "papermill": {
     "duration": 0.04297,
     "end_time": "2022-02-18T00:32:14.732575",
     "exception": false,
     "start_time": "2022-02-18T00:32:14.689605",
     "status": "completed"
    },
    "tags": []
   },
   "outputs": [],
   "source": [
    "#hide\n",
    "# g['continent'] = g['continent'].map(mapping['map.continent'])"
   ]
  },
  {
   "cell_type": "code",
   "execution_count": 32,
   "id": "freelance-scout",
   "metadata": {
    "execution": {
     "iopub.execute_input": "2022-02-18T00:32:14.813446Z",
     "iopub.status.busy": "2022-02-18T00:32:14.812796Z",
     "iopub.status.idle": "2022-02-18T00:32:14.814911Z",
     "shell.execute_reply": "2022-02-18T00:32:14.814320Z"
    },
    "papermill": {
     "duration": 0.045308,
     "end_time": "2022-02-18T00:32:14.815035",
     "exception": false,
     "start_time": "2022-02-18T00:32:14.769727",
     "status": "completed"
    },
    "tags": []
   },
   "outputs": [],
   "source": [
    "#hide\n",
    "# g.head()"
   ]
  },
  {
   "cell_type": "code",
   "execution_count": 33,
   "id": "limited-engine",
   "metadata": {
    "execution": {
     "iopub.execute_input": "2022-02-18T00:32:14.895449Z",
     "iopub.status.busy": "2022-02-18T00:32:14.894776Z",
     "iopub.status.idle": "2022-02-18T00:32:14.900942Z",
     "shell.execute_reply": "2022-02-18T00:32:14.896699Z"
    },
    "papermill": {
     "duration": 0.051515,
     "end_time": "2022-02-18T00:32:14.901815",
     "exception": false,
     "start_time": "2022-02-18T00:32:14.850300",
     "status": "completed"
    },
    "tags": []
   },
   "outputs": [],
   "source": [
    "# hide\n",
    "# g['date'] = g['date'].astype('datetime64[ns]')"
   ]
  },
  {
   "cell_type": "code",
   "execution_count": 34,
   "id": "sophisticated-supervisor",
   "metadata": {
    "execution": {
     "iopub.execute_input": "2022-02-18T00:32:14.979782Z",
     "iopub.status.busy": "2022-02-18T00:32:14.979126Z",
     "iopub.status.idle": "2022-02-18T00:32:14.981678Z",
     "shell.execute_reply": "2022-02-18T00:32:14.982236Z"
    },
    "papermill": {
     "duration": 0.043382,
     "end_time": "2022-02-18T00:32:14.982386",
     "exception": false,
     "start_time": "2022-02-18T00:32:14.939004",
     "status": "completed"
    },
    "tags": []
   },
   "outputs": [],
   "source": [
    "#hide\n",
    "# g['date'] = g.date.dt.dayofyear"
   ]
  },
  {
   "cell_type": "code",
   "execution_count": 35,
   "id": "inside-dubai",
   "metadata": {
    "execution": {
     "iopub.execute_input": "2022-02-18T00:32:15.059550Z",
     "iopub.status.busy": "2022-02-18T00:32:15.058877Z",
     "iopub.status.idle": "2022-02-18T00:32:15.062105Z",
     "shell.execute_reply": "2022-02-18T00:32:15.062555Z"
    },
    "papermill": {
     "duration": 0.04441,
     "end_time": "2022-02-18T00:32:15.062709",
     "exception": false,
     "start_time": "2022-02-18T00:32:15.018299",
     "status": "completed"
    },
    "tags": []
   },
   "outputs": [],
   "source": [
    "#hide\n",
    "# g = g.rename(columns= {'continent':'group','country':'name','cases':'value'})"
   ]
  },
  {
   "cell_type": "code",
   "execution_count": 36,
   "id": "fleet-motorcycle",
   "metadata": {
    "execution": {
     "iopub.execute_input": "2022-02-18T00:32:15.138927Z",
     "iopub.status.busy": "2022-02-18T00:32:15.138301Z",
     "iopub.status.idle": "2022-02-18T00:32:15.140112Z",
     "shell.execute_reply": "2022-02-18T00:32:15.140676Z"
    },
    "papermill": {
     "duration": 0.042111,
     "end_time": "2022-02-18T00:32:15.140824",
     "exception": false,
     "start_time": "2022-02-18T00:32:15.098713",
     "status": "completed"
    },
    "tags": []
   },
   "outputs": [],
   "source": [
    "#hide\n",
    "# cols = ['name','group','day','value']"
   ]
  },
  {
   "cell_type": "code",
   "execution_count": 37,
   "id": "continued-sleeping",
   "metadata": {
    "execution": {
     "iopub.execute_input": "2022-02-18T00:32:15.215138Z",
     "iopub.status.busy": "2022-02-18T00:32:15.214501Z",
     "iopub.status.idle": "2022-02-18T00:32:15.216845Z",
     "shell.execute_reply": "2022-02-18T00:32:15.216339Z"
    },
    "papermill": {
     "duration": 0.041233,
     "end_time": "2022-02-18T00:32:15.216969",
     "exception": false,
     "start_time": "2022-02-18T00:32:15.175736",
     "status": "completed"
    },
    "tags": []
   },
   "outputs": [],
   "source": [
    "#hide\n",
    "# g.rename(columns= {'date':'day'},inplace = True)"
   ]
  },
  {
   "cell_type": "code",
   "execution_count": 38,
   "id": "major-fight",
   "metadata": {
    "execution": {
     "iopub.execute_input": "2022-02-18T00:32:15.295456Z",
     "iopub.status.busy": "2022-02-18T00:32:15.294704Z",
     "iopub.status.idle": "2022-02-18T00:32:15.297327Z",
     "shell.execute_reply": "2022-02-18T00:32:15.297820Z"
    },
    "papermill": {
     "duration": 0.044185,
     "end_time": "2022-02-18T00:32:15.298041",
     "exception": false,
     "start_time": "2022-02-18T00:32:15.253856",
     "status": "completed"
    },
    "tags": []
   },
   "outputs": [],
   "source": [
    "#hide\n",
    "# g = g[cols]"
   ]
  },
  {
   "cell_type": "code",
   "execution_count": 39,
   "id": "structured-mobile",
   "metadata": {
    "execution": {
     "iopub.execute_input": "2022-02-18T00:32:15.376340Z",
     "iopub.status.busy": "2022-02-18T00:32:15.375731Z",
     "iopub.status.idle": "2022-02-18T00:32:15.378888Z",
     "shell.execute_reply": "2022-02-18T00:32:15.379426Z"
    },
    "papermill": {
     "duration": 0.041822,
     "end_time": "2022-02-18T00:32:15.379573",
     "exception": false,
     "start_time": "2022-02-18T00:32:15.337751",
     "status": "completed"
    },
    "tags": []
   },
   "outputs": [],
   "source": [
    "# #hide\n",
    "# g = g[g.group.notna()]"
   ]
  },
  {
   "cell_type": "code",
   "execution_count": 40,
   "id": "determined-closing",
   "metadata": {
    "execution": {
     "iopub.execute_input": "2022-02-18T00:32:15.455009Z",
     "iopub.status.busy": "2022-02-18T00:32:15.454345Z",
     "iopub.status.idle": "2022-02-18T00:32:15.458155Z",
     "shell.execute_reply": "2022-02-18T00:32:15.458637Z"
    },
    "papermill": {
     "duration": 0.043649,
     "end_time": "2022-02-18T00:32:15.458794",
     "exception": false,
     "start_time": "2022-02-18T00:32:15.415145",
     "status": "completed"
    },
    "tags": []
   },
   "outputs": [],
   "source": [
    "# #hide\n",
    "# colors = dict(zip(\n",
    "#     [\"Oceania\", \"Europe\", \"Asia\", \"South America\", \"Middle East\", \"North America\", \"Africa\"],\n",
    "#     [\"#adb0ff\", \"#ffb3ff\", \"#90d595\", \"#e48381\", \"#aafbff\", \"#f7bb5f\", \"#eafb50\"]\n",
    "# ))\n",
    "# group_lk = g.set_index('name')['group'].to_dict()"
   ]
  },
  {
   "cell_type": "code",
   "execution_count": null,
   "id": "gross-drinking",
   "metadata": {
    "papermill": {
     "duration": 0.03604,
     "end_time": "2022-02-18T00:32:15.531933",
     "exception": false,
     "start_time": "2022-02-18T00:32:15.495893",
     "status": "completed"
    },
    "tags": []
   },
   "outputs": [],
   "source": []
  },
  {
   "cell_type": "code",
   "execution_count": 41,
   "id": "subject-macintosh",
   "metadata": {
    "execution": {
     "iopub.execute_input": "2022-02-18T00:32:15.613786Z",
     "iopub.status.busy": "2022-02-18T00:32:15.613143Z",
     "iopub.status.idle": "2022-02-18T00:32:15.616184Z",
     "shell.execute_reply": "2022-02-18T00:32:15.615532Z"
    },
    "papermill": {
     "duration": 0.047636,
     "end_time": "2022-02-18T00:32:15.616319",
     "exception": false,
     "start_time": "2022-02-18T00:32:15.568683",
     "status": "completed"
    },
    "tags": []
   },
   "outputs": [],
   "source": [
    "# #hide\n",
    "# fig, ax = plt.subplots(figsize=(15, 8))\n",
    "\n",
    "# def draw_barchart(current_day):\n",
    "#     dff = g[g['day'].eq(current_day)].sort_values(by='value', ascending=True).tail(10)\n",
    "#     ax.clear()\n",
    "#     ax.barh(dff['name'], dff['value'], color=[colors[group_lk[x]] for x in dff['name']])\n",
    "#     dx = dff['value'].max() / 200\n",
    "    \n",
    "#     for i, (value, name) in enumerate(zip(dff['value'], dff['name'])):\n",
    "#         ax.text(value-dx, i,     name,           size=14, weight=600, ha='right', va='bottom')\n",
    "#         ax.text(value-dx, i-.25, group_lk[name], size=10, color='#444444', ha='right', va='baseline')\n",
    "#         ax.text(value+dx, i,     f'{value:,.0f}',  size=14, ha='left',  va='center')\n",
    "#     ax.text(1, 0.4, current_day, transform=ax.transAxes, color='#777777', size=46, ha='right', weight=800)\n",
    "#     ax.text(0, 1.06, 'Population (thousands)', transform=ax.transAxes, size=12, color='#777777')\n",
    "#     ax.xaxis.set_major_formatter(ticker.StrMethodFormatter('{x:,.0f}'))\n",
    "#     ax.xaxis.set_ticks_position('top')\n",
    "#     ax.tick_params(axis='x', colors='#777777', labelsize=12)\n",
    "#     ax.set_yticks([])\n",
    "#     ax.margins(0, 0.01)\n",
    "#     ax.grid(which='major', axis='x', linestyle='-')\n",
    "#     ax.set_axisbelow(True)\n",
    "    \n",
    "#     ax.text(0, 1.15, 'Coronavirus',\n",
    "#             transform=ax.transAxes, size=24, weight=600, ha='left', va='top')\n",
    "# #     ax.text(1, 0, 'by @pratapvardhan; credit @jburnmurdoch', transform=ax.transAxes, color='#777777', ha='right',\n",
    "# #             bbox=dict(facecolor='white', alpha=0.8, edgecolor='white'))\n",
    "#     plt.box(False)"
   ]
  },
  {
   "cell_type": "code",
   "execution_count": 42,
   "id": "sexual-wages",
   "metadata": {
    "execution": {
     "iopub.execute_input": "2022-02-18T00:32:15.696340Z",
     "iopub.status.busy": "2022-02-18T00:32:15.695620Z",
     "iopub.status.idle": "2022-02-18T00:32:15.697691Z",
     "shell.execute_reply": "2022-02-18T00:32:15.697090Z"
    },
    "papermill": {
     "duration": 0.044227,
     "end_time": "2022-02-18T00:32:15.697811",
     "exception": false,
     "start_time": "2022-02-18T00:32:15.653584",
     "status": "completed"
    },
    "tags": []
   },
   "outputs": [],
   "source": [
    "# #hide_input\n",
    "# fig, ax = plt.subplots(figsize=(15, 8))\n",
    "# animator = animation.FuncAnimation(fig, draw_barchart, frames=range(g.day.values.min(), g.day.values.max()))\n",
    "# HTML(animator.to_jshtml())\n",
    "# # or use animator.to_html5_video() or animator.save() "
   ]
  },
  {
   "cell_type": "code",
   "execution_count": null,
   "id": "australian-container",
   "metadata": {
    "papermill": {
     "duration": 0.034831,
     "end_time": "2022-02-18T00:32:15.767913",
     "exception": false,
     "start_time": "2022-02-18T00:32:15.733082",
     "status": "completed"
    },
    "tags": []
   },
   "outputs": [],
   "source": []
  },
  {
   "cell_type": "code",
   "execution_count": null,
   "id": "mediterranean-pontiac",
   "metadata": {
    "papermill": {
     "duration": 0.035057,
     "end_time": "2022-02-18T00:32:15.838022",
     "exception": false,
     "start_time": "2022-02-18T00:32:15.802965",
     "status": "completed"
    },
    "tags": []
   },
   "outputs": [],
   "source": []
  },
  {
   "cell_type": "code",
   "execution_count": null,
   "id": "aging-legislature",
   "metadata": {
    "papermill": {
     "duration": 0.035099,
     "end_time": "2022-02-18T00:32:15.908357",
     "exception": false,
     "start_time": "2022-02-18T00:32:15.873258",
     "status": "completed"
    },
    "tags": []
   },
   "outputs": [],
   "source": []
  }
 ],
 "metadata": {
  "kernelspec": {
   "display_name": "Python 3",
   "language": "python",
   "name": "python3"
  },
  "language_info": {
   "codemirror_mode": {
    "name": "ipython",
    "version": 3
   },
   "file_extension": ".py",
   "mimetype": "text/x-python",
   "name": "python",
   "nbconvert_exporter": "python",
   "pygments_lexer": "ipython3",
   "version": "3.6.15"
  },
  "papermill": {
   "duration": 7.139748,
   "end_time": "2022-02-18T00:32:16.363714",
   "environment_variables": {},
   "exception": null,
   "input_path": "2020-03-21-covid19exp.ipynb",
   "output_path": "2020-03-21-covid19exp.ipynb",
   "parameters": {},
   "start_time": "2022-02-18T00:32:09.223966",
   "version": "2.0.0"
  }
 },
 "nbformat": 4,
 "nbformat_minor": 5
}