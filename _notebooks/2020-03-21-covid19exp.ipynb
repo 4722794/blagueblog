{
 "cells": [
  {
   "cell_type": "markdown",
   "id": "muslim-click",
   "metadata": {
    "papermill": {
     "duration": 0.042834,
     "end_time": "2022-05-05T12:17:45.405321",
     "exception": false,
     "start_time": "2022-05-05T12:17:45.362487",
     "status": "completed"
    },
    "tags": []
   },
   "source": [
    "# COVID-19 Case Race\n",
    "> A race chart to see rising cases around the world\n",
    "\n",
    "- author: Hargun Oberoi\n",
    "- image: images/covid-overview.png\n",
    "- hide: false\n",
    "- badges: false"
   ]
  },
  {
   "cell_type": "code",
   "execution_count": 1,
   "id": "proof-material",
   "metadata": {
    "execution": {
     "iopub.execute_input": "2022-05-05T12:17:45.494476Z",
     "iopub.status.busy": "2022-05-05T12:17:45.493746Z",
     "iopub.status.idle": "2022-05-05T12:17:45.886712Z",
     "shell.execute_reply": "2022-05-05T12:17:45.886085Z"
    },
    "papermill": {
     "duration": 0.442238,
     "end_time": "2022-05-05T12:17:45.886880",
     "exception": false,
     "start_time": "2022-05-05T12:17:45.444642",
     "status": "completed"
    },
    "tags": []
   },
   "outputs": [],
   "source": [
    "#hide\n",
    "import numpy as np\n",
    "import pandas as pd\n",
    "from jinja2 import Template\n",
    "from IPython.display import HTML"
   ]
  },
  {
   "cell_type": "code",
   "execution_count": 2,
   "id": "developed-terminology",
   "metadata": {
    "execution": {
     "iopub.execute_input": "2022-05-05T12:17:45.971084Z",
     "iopub.status.busy": "2022-05-05T12:17:45.970324Z",
     "iopub.status.idle": "2022-05-05T12:17:45.972422Z",
     "shell.execute_reply": "2022-05-05T12:17:45.972974Z"
    },
    "papermill": {
     "duration": 0.047637,
     "end_time": "2022-05-05T12:17:45.973133",
     "exception": false,
     "start_time": "2022-05-05T12:17:45.925496",
     "status": "completed"
    },
    "tags": []
   },
   "outputs": [],
   "source": [
    "#hide\n",
    "\n",
    "# FETCH\n",
    "base_url = 'https://raw.githubusercontent.com/pratapvardhan/notebooks/master/covid19/'\n",
    "paths = {\n",
    "    'mapping': base_url + 'mapping_countries.csv',\n",
    "    'overview': base_url + 'overview.tpl'\n",
    "}"
   ]
  },
  {
   "cell_type": "code",
   "execution_count": 3,
   "id": "dynamic-saver",
   "metadata": {
    "execution": {
     "iopub.execute_input": "2022-05-05T12:17:46.061040Z",
     "iopub.status.busy": "2022-05-05T12:17:46.060261Z",
     "iopub.status.idle": "2022-05-05T12:17:46.062904Z",
     "shell.execute_reply": "2022-05-05T12:17:46.063596Z"
    },
    "papermill": {
     "duration": 0.052477,
     "end_time": "2022-05-05T12:17:46.063750",
     "exception": false,
     "start_time": "2022-05-05T12:17:46.011273",
     "status": "completed"
    },
    "tags": []
   },
   "outputs": [
    {
     "data": {
      "text/plain": [
       "'https://raw.githubusercontent.com/pratapvardhan/notebooks/master/covid19/mapping_countries.csv'"
      ]
     },
     "execution_count": 3,
     "metadata": {},
     "output_type": "execute_result"
    }
   ],
   "source": [
    "#hide\n",
    "paths['mapping']"
   ]
  },
  {
   "cell_type": "code",
   "execution_count": 4,
   "id": "urban-software",
   "metadata": {
    "execution": {
     "iopub.execute_input": "2022-05-05T12:17:46.145621Z",
     "iopub.status.busy": "2022-05-05T12:17:46.144908Z",
     "iopub.status.idle": "2022-05-05T12:17:46.148736Z",
     "shell.execute_reply": "2022-05-05T12:17:46.149363Z"
    },
    "papermill": {
     "duration": 0.04822,
     "end_time": "2022-05-05T12:17:46.149519",
     "exception": false,
     "start_time": "2022-05-05T12:17:46.101299",
     "status": "completed"
    },
    "tags": []
   },
   "outputs": [],
   "source": [
    "#hide\n",
    "def get_mappings(url):\n",
    "    df = pd.read_csv(url)\n",
    "    return {\n",
    "        'df': df,\n",
    "        'replace.country': dict(df.dropna(subset=['Name']).set_index('Country')['Name']),\n",
    "        'map.continent': dict(df.set_index('Name')['Continent'])\n",
    "    }"
   ]
  },
  {
   "cell_type": "code",
   "execution_count": 5,
   "id": "intimate-machinery",
   "metadata": {
    "execution": {
     "iopub.execute_input": "2022-05-05T12:17:46.230951Z",
     "iopub.status.busy": "2022-05-05T12:17:46.230291Z",
     "iopub.status.idle": "2022-05-05T12:17:46.257437Z",
     "shell.execute_reply": "2022-05-05T12:17:46.258021Z"
    },
    "papermill": {
     "duration": 0.070455,
     "end_time": "2022-05-05T12:17:46.258184",
     "exception": false,
     "start_time": "2022-05-05T12:17:46.187729",
     "status": "completed"
    },
    "tags": []
   },
   "outputs": [],
   "source": [
    "#hide\n",
    "mapping = get_mappings(paths['mapping'])"
   ]
  },
  {
   "cell_type": "code",
   "execution_count": 6,
   "id": "certified-tactics",
   "metadata": {
    "execution": {
     "iopub.execute_input": "2022-05-05T12:17:46.338829Z",
     "iopub.status.busy": "2022-05-05T12:17:46.338153Z",
     "iopub.status.idle": "2022-05-05T12:17:46.340837Z",
     "shell.execute_reply": "2022-05-05T12:17:46.340213Z"
    },
    "papermill": {
     "duration": 0.045156,
     "end_time": "2022-05-05T12:17:46.340967",
     "exception": false,
     "start_time": "2022-05-05T12:17:46.295811",
     "status": "completed"
    },
    "tags": []
   },
   "outputs": [],
   "source": [
    "#hide\n",
    "def get_template(path):\n",
    "    from urllib.parse import urlparse\n",
    "    if bool(urlparse(path).netloc):\n",
    "        from urllib.request import urlopen\n",
    "        return urlopen(path).read().decode('utf8')\n",
    "    return open(path).read()"
   ]
  },
  {
   "cell_type": "code",
   "execution_count": 7,
   "id": "realistic-blast",
   "metadata": {
    "execution": {
     "iopub.execute_input": "2022-05-05T12:17:46.425951Z",
     "iopub.status.busy": "2022-05-05T12:17:46.425276Z",
     "iopub.status.idle": "2022-05-05T12:17:46.429001Z",
     "shell.execute_reply": "2022-05-05T12:17:46.429532Z"
    },
    "papermill": {
     "duration": 0.048514,
     "end_time": "2022-05-05T12:17:46.429681",
     "exception": false,
     "start_time": "2022-05-05T12:17:46.381167",
     "status": "completed"
    },
    "tags": []
   },
   "outputs": [],
   "source": [
    "#hide\n",
    "def get_frame(name):\n",
    "    url = (\n",
    "        'https://raw.githubusercontent.com/CSSEGISandData/COVID-19/master/csse_covid_19_data/'\n",
    "        f'csse_covid_19_time_series/time_series_covid19_{name}_global.csv')\n",
    "    df = pd.read_csv(url)\n",
    "    # rename countries\n",
    "    df['Country/Region'] = df['Country/Region'].replace(mapping['replace.country'])\n",
    "    return df"
   ]
  },
  {
   "cell_type": "code",
   "execution_count": 8,
   "id": "affiliated-characterization",
   "metadata": {
    "execution": {
     "iopub.execute_input": "2022-05-05T12:17:46.513958Z",
     "iopub.status.busy": "2022-05-05T12:17:46.513284Z",
     "iopub.status.idle": "2022-05-05T12:17:46.515290Z",
     "shell.execute_reply": "2022-05-05T12:17:46.515852Z"
    },
    "papermill": {
     "duration": 0.047021,
     "end_time": "2022-05-05T12:17:46.516009",
     "exception": false,
     "start_time": "2022-05-05T12:17:46.468988",
     "status": "completed"
    },
    "tags": []
   },
   "outputs": [],
   "source": [
    "#hide\n",
    "def get_dates(df):\n",
    "    dt_cols = df.columns[~df.columns.isin(['Province/State', 'Country/Region', 'Lat', 'Long'])]\n",
    "    LAST_DATE_I = -1\n",
    "    # sometimes last column may be empty, then go backwards\n",
    "    for i in range(-1, -len(dt_cols), -1):\n",
    "        if not df[dt_cols[i]].fillna(0).eq(0).all():\n",
    "            LAST_DATE_I = i\n",
    "            break\n",
    "    return LAST_DATE_I, dt_cols"
   ]
  },
  {
   "cell_type": "code",
   "execution_count": 9,
   "id": "recent-optimization",
   "metadata": {
    "execution": {
     "iopub.execute_input": "2022-05-05T12:17:46.596363Z",
     "iopub.status.busy": "2022-05-05T12:17:46.595611Z",
     "iopub.status.idle": "2022-05-05T12:17:47.024133Z",
     "shell.execute_reply": "2022-05-05T12:17:47.023567Z"
    },
    "papermill": {
     "duration": 0.470611,
     "end_time": "2022-05-05T12:17:47.024271",
     "exception": false,
     "start_time": "2022-05-05T12:17:46.553660",
     "status": "completed"
    },
    "tags": []
   },
   "outputs": [],
   "source": [
    "#hide\n",
    "COL_REGION = 'Country/Region'\n",
    "# Confirmed, Recovered, Deaths\n",
    "df = get_frame('confirmed')\n",
    "# dft_: timeseries, dfc_: today country agg\n",
    "dft_cases = df\n",
    "dft_deaths = get_frame('deaths')\n",
    "dft_recovered = get_frame('recovered')\n",
    "LAST_DATE_I, dt_cols = get_dates(df)"
   ]
  },
  {
   "cell_type": "code",
   "execution_count": 10,
   "id": "absolute-copper",
   "metadata": {
    "execution": {
     "iopub.execute_input": "2022-05-05T12:17:47.106480Z",
     "iopub.status.busy": "2022-05-05T12:17:47.105747Z",
     "iopub.status.idle": "2022-05-05T12:17:47.108429Z",
     "shell.execute_reply": "2022-05-05T12:17:47.107649Z"
    },
    "papermill": {
     "duration": 0.04566,
     "end_time": "2022-05-05T12:17:47.108558",
     "exception": false,
     "start_time": "2022-05-05T12:17:47.062898",
     "status": "completed"
    },
    "tags": []
   },
   "outputs": [],
   "source": [
    "#hide\n",
    "LAST_DATE_I, dt_cols = get_dates(df)\n",
    "dt_today =dt_cols[LAST_DATE_I]\n",
    "# dt_5day = dt_cols[LAST_DATE_I - 5]\n",
    "dt_yday = dt_cols[LAST_DATE_I - 1]"
   ]
  },
  {
   "cell_type": "code",
   "execution_count": 11,
   "id": "restricted-sheriff",
   "metadata": {
    "execution": {
     "iopub.execute_input": "2022-05-05T12:17:47.191086Z",
     "iopub.status.busy": "2022-05-05T12:17:47.190387Z",
     "iopub.status.idle": "2022-05-05T12:17:47.196607Z",
     "shell.execute_reply": "2022-05-05T12:17:47.196107Z"
    },
    "papermill": {
     "duration": 0.051219,
     "end_time": "2022-05-05T12:17:47.196726",
     "exception": false,
     "start_time": "2022-05-05T12:17:47.145507",
     "status": "completed"
    },
    "tags": []
   },
   "outputs": [],
   "source": [
    "#hide\n",
    "dfc_cases = dft_cases.groupby(COL_REGION)[dt_today].sum()\n",
    "dfc_deaths = dft_deaths.groupby(COL_REGION)[dt_today].sum()\n",
    "# dfp_cases = dft_cases.groupby(COL_REGION)[dt_5day].sum()\n",
    "# dfp_deaths = dft_deaths.groupby(COL_REGION)[dt_5day].sum()\n",
    "dfp_cases = dft_cases.groupby(COL_REGION)[dt_yday].sum()\n",
    "dfp_deaths = dft_deaths.groupby(COL_REGION)[dt_yday].sum()"
   ]
  },
  {
   "cell_type": "code",
   "execution_count": 12,
   "id": "deluxe-hepatitis",
   "metadata": {
    "execution": {
     "iopub.execute_input": "2022-05-05T12:17:47.277159Z",
     "iopub.status.busy": "2022-05-05T12:17:47.276497Z",
     "iopub.status.idle": "2022-05-05T12:17:47.282037Z",
     "shell.execute_reply": "2022-05-05T12:17:47.281470Z"
    },
    "papermill": {
     "duration": 0.047309,
     "end_time": "2022-05-05T12:17:47.282177",
     "exception": false,
     "start_time": "2022-05-05T12:17:47.234868",
     "status": "completed"
    },
    "tags": []
   },
   "outputs": [],
   "source": [
    "#hide\n",
    "df_table = (pd.DataFrame(dict(Cases = dfc_cases, Deaths = dfc_deaths, PCases = dfp_cases, PDeaths = dfp_deaths))\n",
    "            .sort_values(by = ['Cases','Deaths'], ascending = [False, False])\n",
    "            .reset_index())"
   ]
  },
  {
   "cell_type": "code",
   "execution_count": 13,
   "id": "educational-chancellor",
   "metadata": {
    "execution": {
     "iopub.execute_input": "2022-05-05T12:17:47.380037Z",
     "iopub.status.busy": "2022-05-05T12:17:47.379300Z",
     "iopub.status.idle": "2022-05-05T12:17:47.388627Z",
     "shell.execute_reply": "2022-05-05T12:17:47.388089Z"
    },
    "papermill": {
     "duration": 0.067675,
     "end_time": "2022-05-05T12:17:47.388797",
     "exception": false,
     "start_time": "2022-05-05T12:17:47.321122",
     "status": "completed"
    },
    "tags": []
   },
   "outputs": [
    {
     "data": {
      "text/html": [
       "<div>\n",
       "<style scoped>\n",
       "    .dataframe tbody tr th:only-of-type {\n",
       "        vertical-align: middle;\n",
       "    }\n",
       "\n",
       "    .dataframe tbody tr th {\n",
       "        vertical-align: top;\n",
       "    }\n",
       "\n",
       "    .dataframe thead th {\n",
       "        text-align: right;\n",
       "    }\n",
       "</style>\n",
       "<table border=\"1\" class=\"dataframe\">\n",
       "  <thead>\n",
       "    <tr style=\"text-align: right;\">\n",
       "      <th></th>\n",
       "      <th>Country/Region</th>\n",
       "      <th>Cases</th>\n",
       "      <th>Deaths</th>\n",
       "      <th>PCases</th>\n",
       "      <th>PDeaths</th>\n",
       "      <th>Cases (+)</th>\n",
       "      <th>Deaths (+)</th>\n",
       "      <th>Fatality Rate</th>\n",
       "      <th>Continent</th>\n",
       "    </tr>\n",
       "  </thead>\n",
       "  <tbody>\n",
       "    <tr>\n",
       "      <th>0</th>\n",
       "      <td>US</td>\n",
       "      <td>81620383</td>\n",
       "      <td>996704</td>\n",
       "      <td>81506075</td>\n",
       "      <td>994744</td>\n",
       "      <td>114308</td>\n",
       "      <td>1960</td>\n",
       "      <td>1.22</td>\n",
       "      <td>North America</td>\n",
       "    </tr>\n",
       "    <tr>\n",
       "      <th>1</th>\n",
       "      <td>India</td>\n",
       "      <td>43091393</td>\n",
       "      <td>523975</td>\n",
       "      <td>43088118</td>\n",
       "      <td>523920</td>\n",
       "      <td>3275</td>\n",
       "      <td>55</td>\n",
       "      <td>1.22</td>\n",
       "      <td>Asia</td>\n",
       "    </tr>\n",
       "    <tr>\n",
       "      <th>2</th>\n",
       "      <td>Brazil</td>\n",
       "      <td>30502501</td>\n",
       "      <td>663994</td>\n",
       "      <td>30482429</td>\n",
       "      <td>663930</td>\n",
       "      <td>20072</td>\n",
       "      <td>64</td>\n",
       "      <td>2.18</td>\n",
       "      <td>South America</td>\n",
       "    </tr>\n",
       "    <tr>\n",
       "      <th>3</th>\n",
       "      <td>France</td>\n",
       "      <td>28996577</td>\n",
       "      <td>147413</td>\n",
       "      <td>28948497</td>\n",
       "      <td>147299</td>\n",
       "      <td>48080</td>\n",
       "      <td>114</td>\n",
       "      <td>0.51</td>\n",
       "      <td>Europe</td>\n",
       "    </tr>\n",
       "    <tr>\n",
       "      <th>4</th>\n",
       "      <td>Germany</td>\n",
       "      <td>25130137</td>\n",
       "      <td>136125</td>\n",
       "      <td>25033970</td>\n",
       "      <td>135942</td>\n",
       "      <td>96167</td>\n",
       "      <td>183</td>\n",
       "      <td>0.54</td>\n",
       "      <td>Europe</td>\n",
       "    </tr>\n",
       "  </tbody>\n",
       "</table>\n",
       "</div>"
      ],
      "text/plain": [
       "  Country/Region     Cases  Deaths    PCases  PDeaths  Cases (+)  Deaths (+)  \\\n",
       "0             US  81620383  996704  81506075   994744     114308        1960   \n",
       "1          India  43091393  523975  43088118   523920       3275          55   \n",
       "2         Brazil  30502501  663994  30482429   663930      20072          64   \n",
       "3         France  28996577  147413  28948497   147299      48080         114   \n",
       "4        Germany  25130137  136125  25033970   135942      96167         183   \n",
       "\n",
       "   Fatality Rate      Continent  \n",
       "0           1.22  North America  \n",
       "1           1.22           Asia  \n",
       "2           2.18  South America  \n",
       "3           0.51         Europe  \n",
       "4           0.54         Europe  "
      ]
     },
     "execution_count": 13,
     "metadata": {},
     "output_type": "execute_result"
    }
   ],
   "source": [
    "#hide\n",
    "for c in 'Cases, Deaths'.split(', '):\n",
    "    df_table[f'{c} (+)'] = (df_table[c] - df_table[f'P{c}']).clip(0)\n",
    "    #Clip ça veut dire, les chiffres negatif sont interdit\n",
    "df_table['Fatality Rate'] = (100* df_table['Deaths']/ df_table['Cases']).round(2)\n",
    "df_table['Continent'] = df_table['Country/Region'].map(mapping['map.continent'])\n",
    "df_table.head(5)"
   ]
  },
  {
   "cell_type": "code",
   "execution_count": 14,
   "id": "aboriginal-bulgaria",
   "metadata": {
    "execution": {
     "iopub.execute_input": "2022-05-05T12:17:47.477515Z",
     "iopub.status.busy": "2022-05-05T12:17:47.476816Z",
     "iopub.status.idle": "2022-05-05T12:17:47.479968Z",
     "shell.execute_reply": "2022-05-05T12:17:47.479331Z"
    },
    "papermill": {
     "duration": 0.048506,
     "end_time": "2022-05-05T12:17:47.480118",
     "exception": false,
     "start_time": "2022-05-05T12:17:47.431612",
     "status": "completed"
    },
    "tags": []
   },
   "outputs": [],
   "source": [
    "#hide\n",
    "#delete problematic countries from table\n",
    "df_table = df_table[~df_table['Country/Region'].isin(['Cape Verde', 'Cruise Ship', 'Kosovo'])]"
   ]
  },
  {
   "cell_type": "code",
   "execution_count": 15,
   "id": "fantastic-effect",
   "metadata": {
    "execution": {
     "iopub.execute_input": "2022-05-05T12:17:47.568268Z",
     "iopub.status.busy": "2022-05-05T12:17:47.567568Z",
     "iopub.status.idle": "2022-05-05T12:17:47.589400Z",
     "shell.execute_reply": "2022-05-05T12:17:47.590047Z"
    },
    "papermill": {
     "duration": 0.070404,
     "end_time": "2022-05-05T12:17:47.590215",
     "exception": false,
     "start_time": "2022-05-05T12:17:47.519811",
     "status": "completed"
    },
    "tags": []
   },
   "outputs": [
    {
     "data": {
      "text/html": [
       "<div>\n",
       "<style scoped>\n",
       "    .dataframe tbody tr th:only-of-type {\n",
       "        vertical-align: middle;\n",
       "    }\n",
       "\n",
       "    .dataframe tbody tr th {\n",
       "        vertical-align: top;\n",
       "    }\n",
       "\n",
       "    .dataframe thead th {\n",
       "        text-align: right;\n",
       "    }\n",
       "</style>\n",
       "<table border=\"1\" class=\"dataframe\">\n",
       "  <thead>\n",
       "    <tr style=\"text-align: right;\">\n",
       "      <th></th>\n",
       "      <th>Country/Region</th>\n",
       "      <th>Cases</th>\n",
       "      <th>Deaths</th>\n",
       "      <th>PCases</th>\n",
       "      <th>PDeaths</th>\n",
       "      <th>Cases (+)</th>\n",
       "      <th>Deaths (+)</th>\n",
       "      <th>Fatality Rate</th>\n",
       "      <th>Continent</th>\n",
       "    </tr>\n",
       "  </thead>\n",
       "  <tbody>\n",
       "    <tr>\n",
       "      <th>0</th>\n",
       "      <td>US</td>\n",
       "      <td>81620383</td>\n",
       "      <td>996704</td>\n",
       "      <td>81506075</td>\n",
       "      <td>994744</td>\n",
       "      <td>114308</td>\n",
       "      <td>1960</td>\n",
       "      <td>1.2</td>\n",
       "      <td>North America</td>\n",
       "    </tr>\n",
       "    <tr>\n",
       "      <th>1</th>\n",
       "      <td>India</td>\n",
       "      <td>43091393</td>\n",
       "      <td>523975</td>\n",
       "      <td>43088118</td>\n",
       "      <td>523920</td>\n",
       "      <td>3275</td>\n",
       "      <td>55</td>\n",
       "      <td>1.2</td>\n",
       "      <td>Asia</td>\n",
       "    </tr>\n",
       "    <tr>\n",
       "      <th>2</th>\n",
       "      <td>Brazil</td>\n",
       "      <td>30502501</td>\n",
       "      <td>663994</td>\n",
       "      <td>30482429</td>\n",
       "      <td>663930</td>\n",
       "      <td>20072</td>\n",
       "      <td>64</td>\n",
       "      <td>2.2</td>\n",
       "      <td>South America</td>\n",
       "    </tr>\n",
       "    <tr>\n",
       "      <th>3</th>\n",
       "      <td>France</td>\n",
       "      <td>28996577</td>\n",
       "      <td>147413</td>\n",
       "      <td>28948497</td>\n",
       "      <td>147299</td>\n",
       "      <td>48080</td>\n",
       "      <td>114</td>\n",
       "      <td>0.5</td>\n",
       "      <td>Europe</td>\n",
       "    </tr>\n",
       "    <tr>\n",
       "      <th>4</th>\n",
       "      <td>Germany</td>\n",
       "      <td>25130137</td>\n",
       "      <td>136125</td>\n",
       "      <td>25033970</td>\n",
       "      <td>135942</td>\n",
       "      <td>96167</td>\n",
       "      <td>183</td>\n",
       "      <td>0.5</td>\n",
       "      <td>Europe</td>\n",
       "    </tr>\n",
       "  </tbody>\n",
       "</table>\n",
       "</div>"
      ],
      "text/plain": [
       "  Country/Region     Cases  Deaths    PCases  PDeaths  Cases (+)  Deaths (+)  \\\n",
       "0             US  81620383  996704  81506075   994744     114308        1960   \n",
       "1          India  43091393  523975  43088118   523920       3275          55   \n",
       "2         Brazil  30502501  663994  30482429   663930      20072          64   \n",
       "3         France  28996577  147413  28948497   147299      48080         114   \n",
       "4        Germany  25130137  136125  25033970   135942      96167         183   \n",
       "\n",
       "   Fatality Rate      Continent  \n",
       "0            1.2  North America  \n",
       "1            1.2           Asia  \n",
       "2            2.2  South America  \n",
       "3            0.5         Europe  \n",
       "4            0.5         Europe  "
      ]
     },
     "execution_count": 15,
     "metadata": {},
     "output_type": "execute_result"
    }
   ],
   "source": [
    "#hide\n",
    "df_table = (pd.DataFrame(dict(Cases=dfc_cases, Deaths=dfc_deaths, PCases=dfp_cases, PDeaths=dfp_deaths))\n",
    "             .sort_values(by=['Cases', 'Deaths'], ascending=[False, False])\n",
    "             .reset_index())\n",
    "df_table.rename(columns={'index': 'Country/Region'}, inplace=True)\n",
    "for c in 'Cases, Deaths'.split(', '):\n",
    "    df_table[f'{c} (+)'] = (df_table[c] - df_table[f'P{c}']).clip(0)  # DATA BUG\n",
    "df_table['Fatality Rate'] = (100 * df_table['Deaths'] / df_table['Cases']).round(1)\n",
    "df_table['Continent'] = df_table['Country/Region'].map(mapping['map.continent'])\n",
    "df_table.head(5)"
   ]
  },
  {
   "cell_type": "code",
   "execution_count": 16,
   "id": "fewer-occasion",
   "metadata": {
    "execution": {
     "iopub.execute_input": "2022-05-05T12:17:47.675856Z",
     "iopub.status.busy": "2022-05-05T12:17:47.675118Z",
     "iopub.status.idle": "2022-05-05T12:17:47.677795Z",
     "shell.execute_reply": "2022-05-05T12:17:47.677213Z"
    },
    "papermill": {
     "duration": 0.047877,
     "end_time": "2022-05-05T12:17:47.677928",
     "exception": false,
     "start_time": "2022-05-05T12:17:47.630051",
     "status": "completed"
    },
    "tags": []
   },
   "outputs": [],
   "source": [
    "#hide\n",
    "#delete problematic countries from table\n",
    "df_table = df_table[~df_table['Country/Region'].isin(['Cape Verde', 'Cruise Ship', 'Kosovo'])]"
   ]
  },
  {
   "cell_type": "code",
   "execution_count": 17,
   "id": "related-center",
   "metadata": {
    "execution": {
     "iopub.execute_input": "2022-05-05T12:17:47.770776Z",
     "iopub.status.busy": "2022-05-05T12:17:47.770098Z",
     "iopub.status.idle": "2022-05-05T12:17:47.784169Z",
     "shell.execute_reply": "2022-05-05T12:17:47.783602Z"
    },
    "papermill": {
     "duration": 0.066624,
     "end_time": "2022-05-05T12:17:47.784316",
     "exception": false,
     "start_time": "2022-05-05T12:17:47.717692",
     "status": "completed"
    },
    "tags": []
   },
   "outputs": [],
   "source": [
    "#hide\n",
    "metrics = [df_table.columns[index] for index in [1,2,5,6]]\n",
    "# s_china = df_table[df_table['Country/Region'].eq('China')][metrics].sum().add_prefix('China ')\n",
    "s_us = df_table[df_table['Country/Region'].eq('US')][metrics].sum().add_prefix('US ')\n",
    "s_eu = df_table[df_table['Continent'].eq('Europe')][metrics].sum().add_prefix('EU ')\n",
    "s_ind = df_table[df_table['Country/Region'].eq('India')][metrics].sum().add_prefix('India ')\n",
    "summary = {'updated': pd.to_datetime(dt_today), 'since': pd.to_datetime(dt_yday)}\n",
    "summary = {'updated': pd.to_datetime(dt_today), 'since': pd.to_datetime(dt_yday)}\n",
    "summary = {**summary, **df_table[metrics].sum(), **s_ind, **s_us, **s_eu}"
   ]
  },
  {
   "cell_type": "code",
   "execution_count": 18,
   "id": "engaging-syndrome",
   "metadata": {
    "execution": {
     "iopub.execute_input": "2022-05-05T12:17:47.868082Z",
     "iopub.status.busy": "2022-05-05T12:17:47.867369Z",
     "iopub.status.idle": "2022-05-05T12:17:47.887135Z",
     "shell.execute_reply": "2022-05-05T12:17:47.886276Z"
    },
    "papermill": {
     "duration": 0.063374,
     "end_time": "2022-05-05T12:17:47.887311",
     "exception": false,
     "start_time": "2022-05-05T12:17:47.823937",
     "status": "completed"
    },
    "tags": []
   },
   "outputs": [],
   "source": [
    "#hide\n",
    "dft_ct_new_cases = dft_cases.groupby(COL_REGION)[dt_cols].sum().diff(axis=1).fillna(0).astype(int)"
   ]
  },
  {
   "cell_type": "code",
   "execution_count": 19,
   "id": "neutral-assignment",
   "metadata": {
    "execution": {
     "iopub.execute_input": "2022-05-05T12:17:47.972557Z",
     "iopub.status.busy": "2022-05-05T12:17:47.971827Z",
     "iopub.status.idle": "2022-05-05T12:17:47.974406Z",
     "shell.execute_reply": "2022-05-05T12:17:47.974923Z"
    },
    "papermill": {
     "duration": 0.048316,
     "end_time": "2022-05-05T12:17:47.975077",
     "exception": false,
     "start_time": "2022-05-05T12:17:47.926761",
     "status": "completed"
    },
    "tags": []
   },
   "outputs": [],
   "source": [
    "#hide\n",
    "everydaycases = dft_ct_new_cases.cumsum(axis=1)"
   ]
  },
  {
   "cell_type": "code",
   "execution_count": 20,
   "id": "parliamentary-calgary",
   "metadata": {
    "execution": {
     "iopub.execute_input": "2022-05-05T12:17:48.055893Z",
     "iopub.status.busy": "2022-05-05T12:17:48.055211Z",
     "iopub.status.idle": "2022-05-05T12:17:48.788806Z",
     "shell.execute_reply": "2022-05-05T12:17:48.789435Z"
    },
    "papermill": {
     "duration": 0.77733,
     "end_time": "2022-05-05T12:17:48.789618",
     "exception": false,
     "start_time": "2022-05-05T12:17:48.012288",
     "status": "completed"
    },
    "tags": []
   },
   "outputs": [],
   "source": [
    "#hide\n",
    "import pandas as pd\n",
    "import matplotlib.pyplot as plt\n",
    "import matplotlib.ticker as ticker\n",
    "import matplotlib.animation as animation\n",
    "from IPython.display import HTML"
   ]
  },
  {
   "cell_type": "code",
   "execution_count": 21,
   "id": "lasting-extraction",
   "metadata": {
    "execution": {
     "iopub.execute_input": "2022-05-05T12:17:48.875710Z",
     "iopub.status.busy": "2022-05-05T12:17:48.875011Z",
     "iopub.status.idle": "2022-05-05T12:17:48.882515Z",
     "shell.execute_reply": "2022-05-05T12:17:48.881983Z"
    },
    "papermill": {
     "duration": 0.053262,
     "end_time": "2022-05-05T12:17:48.882640",
     "exception": false,
     "start_time": "2022-05-05T12:17:48.829378",
     "status": "completed"
    },
    "tags": []
   },
   "outputs": [],
   "source": [
    "#hide\n",
    "t = everydaycases.stack()"
   ]
  },
  {
   "cell_type": "code",
   "execution_count": 22,
   "id": "premier-sleeve",
   "metadata": {
    "execution": {
     "iopub.execute_input": "2022-05-05T12:17:48.965794Z",
     "iopub.status.busy": "2022-05-05T12:17:48.965110Z",
     "iopub.status.idle": "2022-05-05T12:17:48.976840Z",
     "shell.execute_reply": "2022-05-05T12:17:48.977451Z"
    },
    "papermill": {
     "duration": 0.055437,
     "end_time": "2022-05-05T12:17:48.977612",
     "exception": false,
     "start_time": "2022-05-05T12:17:48.922175",
     "status": "completed"
    },
    "tags": []
   },
   "outputs": [],
   "source": [
    "#hide\n",
    "g = t.reset_index(['Country/Region'])"
   ]
  },
  {
   "cell_type": "code",
   "execution_count": 23,
   "id": "distributed-pittsburgh",
   "metadata": {
    "execution": {
     "iopub.execute_input": "2022-05-05T12:17:49.059969Z",
     "iopub.status.busy": "2022-05-05T12:17:49.059242Z",
     "iopub.status.idle": "2022-05-05T12:17:49.061526Z",
     "shell.execute_reply": "2022-05-05T12:17:49.062220Z"
    },
    "papermill": {
     "duration": 0.045518,
     "end_time": "2022-05-05T12:17:49.062374",
     "exception": false,
     "start_time": "2022-05-05T12:17:49.016856",
     "status": "completed"
    },
    "tags": []
   },
   "outputs": [],
   "source": [
    "#hide\n",
    "g.index.name = 'date'"
   ]
  },
  {
   "cell_type": "code",
   "execution_count": 24,
   "id": "naked-donor",
   "metadata": {
    "execution": {
     "iopub.execute_input": "2022-05-05T12:17:49.145943Z",
     "iopub.status.busy": "2022-05-05T12:17:49.145251Z",
     "iopub.status.idle": "2022-05-05T12:17:49.147902Z",
     "shell.execute_reply": "2022-05-05T12:17:49.147341Z"
    },
    "papermill": {
     "duration": 0.046541,
     "end_time": "2022-05-05T12:17:49.148050",
     "exception": false,
     "start_time": "2022-05-05T12:17:49.101509",
     "status": "completed"
    },
    "tags": []
   },
   "outputs": [],
   "source": [
    "# #hide\n",
    "# g = g.reset_index(['date'])"
   ]
  },
  {
   "cell_type": "code",
   "execution_count": 25,
   "id": "incomplete-mustang",
   "metadata": {
    "execution": {
     "iopub.execute_input": "2022-05-05T12:17:49.232233Z",
     "iopub.status.busy": "2022-05-05T12:17:49.231460Z",
     "iopub.status.idle": "2022-05-05T12:17:49.234994Z",
     "shell.execute_reply": "2022-05-05T12:17:49.234394Z"
    },
    "papermill": {
     "duration": 0.045592,
     "end_time": "2022-05-05T12:17:49.235125",
     "exception": false,
     "start_time": "2022-05-05T12:17:49.189533",
     "status": "completed"
    },
    "tags": []
   },
   "outputs": [],
   "source": [
    "#hide\n",
    "# g.head()"
   ]
  },
  {
   "cell_type": "code",
   "execution_count": 26,
   "id": "specific-kruger",
   "metadata": {
    "execution": {
     "iopub.execute_input": "2022-05-05T12:17:49.318892Z",
     "iopub.status.busy": "2022-05-05T12:17:49.318141Z",
     "iopub.status.idle": "2022-05-05T12:17:49.320378Z",
     "shell.execute_reply": "2022-05-05T12:17:49.320868Z"
    },
    "papermill": {
     "duration": 0.043904,
     "end_time": "2022-05-05T12:17:49.321002",
     "exception": false,
     "start_time": "2022-05-05T12:17:49.277098",
     "status": "completed"
    },
    "tags": []
   },
   "outputs": [],
   "source": [
    "#hide\n",
    "# g.columns = ['date','country','cases']"
   ]
  },
  {
   "cell_type": "code",
   "execution_count": 27,
   "id": "tender-conversion",
   "metadata": {
    "execution": {
     "iopub.execute_input": "2022-05-05T12:17:49.404423Z",
     "iopub.status.busy": "2022-05-05T12:17:49.403717Z",
     "iopub.status.idle": "2022-05-05T12:17:49.406299Z",
     "shell.execute_reply": "2022-05-05T12:17:49.405659Z"
    },
    "papermill": {
     "duration": 0.045003,
     "end_time": "2022-05-05T12:17:49.406450",
     "exception": false,
     "start_time": "2022-05-05T12:17:49.361447",
     "status": "completed"
    },
    "tags": []
   },
   "outputs": [],
   "source": [
    "#hide\n",
    "# g['continent'] = g.country"
   ]
  },
  {
   "cell_type": "code",
   "execution_count": 28,
   "id": "substantial-wilderness",
   "metadata": {
    "execution": {
     "iopub.execute_input": "2022-05-05T12:17:49.491720Z",
     "iopub.status.busy": "2022-05-05T12:17:49.491026Z",
     "iopub.status.idle": "2022-05-05T12:17:49.494736Z",
     "shell.execute_reply": "2022-05-05T12:17:49.494148Z"
    },
    "papermill": {
     "duration": 0.044943,
     "end_time": "2022-05-05T12:17:49.494866",
     "exception": false,
     "start_time": "2022-05-05T12:17:49.449923",
     "status": "completed"
    },
    "tags": []
   },
   "outputs": [],
   "source": [
    "#hide\n",
    "# cols = list(g.columns.values)"
   ]
  },
  {
   "cell_type": "code",
   "execution_count": 29,
   "id": "solved-farming",
   "metadata": {
    "execution": {
     "iopub.execute_input": "2022-05-05T12:17:49.581238Z",
     "iopub.status.busy": "2022-05-05T12:17:49.580478Z",
     "iopub.status.idle": "2022-05-05T12:17:49.584655Z",
     "shell.execute_reply": "2022-05-05T12:17:49.584047Z"
    },
    "papermill": {
     "duration": 0.046614,
     "end_time": "2022-05-05T12:17:49.584786",
     "exception": false,
     "start_time": "2022-05-05T12:17:49.538172",
     "status": "completed"
    },
    "tags": []
   },
   "outputs": [],
   "source": [
    "#hide\n",
    "# cols.insert(0, cols.pop())"
   ]
  },
  {
   "cell_type": "code",
   "execution_count": 30,
   "id": "executed-adoption",
   "metadata": {
    "execution": {
     "iopub.execute_input": "2022-05-05T12:17:49.666037Z",
     "iopub.status.busy": "2022-05-05T12:17:49.665350Z",
     "iopub.status.idle": "2022-05-05T12:17:49.667316Z",
     "shell.execute_reply": "2022-05-05T12:17:49.667892Z"
    },
    "papermill": {
     "duration": 0.043918,
     "end_time": "2022-05-05T12:17:49.668042",
     "exception": false,
     "start_time": "2022-05-05T12:17:49.624124",
     "status": "completed"
    },
    "tags": []
   },
   "outputs": [],
   "source": [
    "#hide\n",
    "# g = g[cols]"
   ]
  },
  {
   "cell_type": "code",
   "execution_count": 31,
   "id": "subject-dublin",
   "metadata": {
    "execution": {
     "iopub.execute_input": "2022-05-05T12:17:49.751990Z",
     "iopub.status.busy": "2022-05-05T12:17:49.751278Z",
     "iopub.status.idle": "2022-05-05T12:17:49.755877Z",
     "shell.execute_reply": "2022-05-05T12:17:49.755284Z"
    },
    "papermill": {
     "duration": 0.04839,
     "end_time": "2022-05-05T12:17:49.756006",
     "exception": false,
     "start_time": "2022-05-05T12:17:49.707616",
     "status": "completed"
    },
    "tags": []
   },
   "outputs": [],
   "source": [
    "#hide\n",
    "# g['continent'] = g['continent'].map(mapping['map.continent'])"
   ]
  },
  {
   "cell_type": "code",
   "execution_count": 32,
   "id": "freelance-scout",
   "metadata": {
    "execution": {
     "iopub.execute_input": "2022-05-05T12:17:49.840493Z",
     "iopub.status.busy": "2022-05-05T12:17:49.839679Z",
     "iopub.status.idle": "2022-05-05T12:17:49.842317Z",
     "shell.execute_reply": "2022-05-05T12:17:49.841621Z"
    },
    "papermill": {
     "duration": 0.04617,
     "end_time": "2022-05-05T12:17:49.842461",
     "exception": false,
     "start_time": "2022-05-05T12:17:49.796291",
     "status": "completed"
    },
    "tags": []
   },
   "outputs": [],
   "source": [
    "#hide\n",
    "# g.head()"
   ]
  },
  {
   "cell_type": "code",
   "execution_count": 33,
   "id": "limited-engine",
   "metadata": {
    "execution": {
     "iopub.execute_input": "2022-05-05T12:17:49.922195Z",
     "iopub.status.busy": "2022-05-05T12:17:49.921531Z",
     "iopub.status.idle": "2022-05-05T12:17:49.924325Z",
     "shell.execute_reply": "2022-05-05T12:17:49.923712Z"
    },
    "papermill": {
     "duration": 0.043322,
     "end_time": "2022-05-05T12:17:49.924484",
     "exception": false,
     "start_time": "2022-05-05T12:17:49.881162",
     "status": "completed"
    },
    "tags": []
   },
   "outputs": [],
   "source": [
    "# hide\n",
    "# g['date'] = g['date'].astype('datetime64[ns]')"
   ]
  },
  {
   "cell_type": "code",
   "execution_count": 34,
   "id": "sophisticated-supervisor",
   "metadata": {
    "execution": {
     "iopub.execute_input": "2022-05-05T12:17:50.005459Z",
     "iopub.status.busy": "2022-05-05T12:17:50.004753Z",
     "iopub.status.idle": "2022-05-05T12:17:50.009305Z",
     "shell.execute_reply": "2022-05-05T12:17:50.008792Z"
    },
    "papermill": {
     "duration": 0.046965,
     "end_time": "2022-05-05T12:17:50.009449",
     "exception": false,
     "start_time": "2022-05-05T12:17:49.962484",
     "status": "completed"
    },
    "tags": []
   },
   "outputs": [],
   "source": [
    "#hide\n",
    "# g['date'] = g.date.dt.dayofyear"
   ]
  },
  {
   "cell_type": "code",
   "execution_count": 35,
   "id": "inside-dubai",
   "metadata": {
    "execution": {
     "iopub.execute_input": "2022-05-05T12:17:50.090386Z",
     "iopub.status.busy": "2022-05-05T12:17:50.089697Z",
     "iopub.status.idle": "2022-05-05T12:17:50.092204Z",
     "shell.execute_reply": "2022-05-05T12:17:50.091562Z"
    },
    "papermill": {
     "duration": 0.043802,
     "end_time": "2022-05-05T12:17:50.092330",
     "exception": false,
     "start_time": "2022-05-05T12:17:50.048528",
     "status": "completed"
    },
    "tags": []
   },
   "outputs": [],
   "source": [
    "#hide\n",
    "# g = g.rename(columns= {'continent':'group','country':'name','cases':'value'})"
   ]
  },
  {
   "cell_type": "code",
   "execution_count": 36,
   "id": "fleet-motorcycle",
   "metadata": {
    "execution": {
     "iopub.execute_input": "2022-05-05T12:17:50.173693Z",
     "iopub.status.busy": "2022-05-05T12:17:50.172920Z",
     "iopub.status.idle": "2022-05-05T12:17:50.175519Z",
     "shell.execute_reply": "2022-05-05T12:17:50.174796Z"
    },
    "papermill": {
     "duration": 0.044222,
     "end_time": "2022-05-05T12:17:50.175647",
     "exception": false,
     "start_time": "2022-05-05T12:17:50.131425",
     "status": "completed"
    },
    "tags": []
   },
   "outputs": [],
   "source": [
    "#hide\n",
    "# cols = ['name','group','day','value']"
   ]
  },
  {
   "cell_type": "code",
   "execution_count": 37,
   "id": "continued-sleeping",
   "metadata": {
    "execution": {
     "iopub.execute_input": "2022-05-05T12:17:50.254106Z",
     "iopub.status.busy": "2022-05-05T12:17:50.253382Z",
     "iopub.status.idle": "2022-05-05T12:17:50.255513Z",
     "shell.execute_reply": "2022-05-05T12:17:50.256000Z"
    },
    "papermill": {
     "duration": 0.042322,
     "end_time": "2022-05-05T12:17:50.256148",
     "exception": false,
     "start_time": "2022-05-05T12:17:50.213826",
     "status": "completed"
    },
    "tags": []
   },
   "outputs": [],
   "source": [
    "#hide\n",
    "# g.rename(columns= {'date':'day'},inplace = True)"
   ]
  },
  {
   "cell_type": "code",
   "execution_count": 38,
   "id": "major-fight",
   "metadata": {
    "execution": {
     "iopub.execute_input": "2022-05-05T12:17:50.333766Z",
     "iopub.status.busy": "2022-05-05T12:17:50.332279Z",
     "iopub.status.idle": "2022-05-05T12:17:50.336114Z",
     "shell.execute_reply": "2022-05-05T12:17:50.335576Z"
    },
    "papermill": {
     "duration": 0.043295,
     "end_time": "2022-05-05T12:17:50.336239",
     "exception": false,
     "start_time": "2022-05-05T12:17:50.292944",
     "status": "completed"
    },
    "tags": []
   },
   "outputs": [],
   "source": [
    "#hide\n",
    "# g = g[cols]"
   ]
  },
  {
   "cell_type": "code",
   "execution_count": 39,
   "id": "structured-mobile",
   "metadata": {
    "execution": {
     "iopub.execute_input": "2022-05-05T12:17:50.414985Z",
     "iopub.status.busy": "2022-05-05T12:17:50.414338Z",
     "iopub.status.idle": "2022-05-05T12:17:50.416791Z",
     "shell.execute_reply": "2022-05-05T12:17:50.416096Z"
    },
    "papermill": {
     "duration": 0.042326,
     "end_time": "2022-05-05T12:17:50.416925",
     "exception": false,
     "start_time": "2022-05-05T12:17:50.374599",
     "status": "completed"
    },
    "tags": []
   },
   "outputs": [],
   "source": [
    "# #hide\n",
    "# g = g[g.group.notna()]"
   ]
  },
  {
   "cell_type": "code",
   "execution_count": 40,
   "id": "determined-closing",
   "metadata": {
    "execution": {
     "iopub.execute_input": "2022-05-05T12:17:50.494811Z",
     "iopub.status.busy": "2022-05-05T12:17:50.494127Z",
     "iopub.status.idle": "2022-05-05T12:17:50.496280Z",
     "shell.execute_reply": "2022-05-05T12:17:50.496728Z"
    },
    "papermill": {
     "duration": 0.041628,
     "end_time": "2022-05-05T12:17:50.496886",
     "exception": false,
     "start_time": "2022-05-05T12:17:50.455258",
     "status": "completed"
    },
    "tags": []
   },
   "outputs": [],
   "source": [
    "# #hide\n",
    "# colors = dict(zip(\n",
    "#     [\"Oceania\", \"Europe\", \"Asia\", \"South America\", \"Middle East\", \"North America\", \"Africa\"],\n",
    "#     [\"#adb0ff\", \"#ffb3ff\", \"#90d595\", \"#e48381\", \"#aafbff\", \"#f7bb5f\", \"#eafb50\"]\n",
    "# ))\n",
    "# group_lk = g.set_index('name')['group'].to_dict()"
   ]
  },
  {
   "cell_type": "code",
   "execution_count": null,
   "id": "gross-drinking",
   "metadata": {
    "papermill": {
     "duration": 0.036627,
     "end_time": "2022-05-05T12:17:50.571083",
     "exception": false,
     "start_time": "2022-05-05T12:17:50.534456",
     "status": "completed"
    },
    "tags": []
   },
   "outputs": [],
   "source": []
  },
  {
   "cell_type": "code",
   "execution_count": 41,
   "id": "subject-macintosh",
   "metadata": {
    "execution": {
     "iopub.execute_input": "2022-05-05T12:17:50.651296Z",
     "iopub.status.busy": "2022-05-05T12:17:50.650458Z",
     "iopub.status.idle": "2022-05-05T12:17:50.653156Z",
     "shell.execute_reply": "2022-05-05T12:17:50.652570Z"
    },
    "papermill": {
     "duration": 0.044311,
     "end_time": "2022-05-05T12:17:50.653308",
     "exception": false,
     "start_time": "2022-05-05T12:17:50.608997",
     "status": "completed"
    },
    "tags": []
   },
   "outputs": [],
   "source": [
    "# #hide\n",
    "# fig, ax = plt.subplots(figsize=(15, 8))\n",
    "\n",
    "# def draw_barchart(current_day):\n",
    "#     dff = g[g['day'].eq(current_day)].sort_values(by='value', ascending=True).tail(10)\n",
    "#     ax.clear()\n",
    "#     ax.barh(dff['name'], dff['value'], color=[colors[group_lk[x]] for x in dff['name']])\n",
    "#     dx = dff['value'].max() / 200\n",
    "    \n",
    "#     for i, (value, name) in enumerate(zip(dff['value'], dff['name'])):\n",
    "#         ax.text(value-dx, i,     name,           size=14, weight=600, ha='right', va='bottom')\n",
    "#         ax.text(value-dx, i-.25, group_lk[name], size=10, color='#444444', ha='right', va='baseline')\n",
    "#         ax.text(value+dx, i,     f'{value:,.0f}',  size=14, ha='left',  va='center')\n",
    "#     ax.text(1, 0.4, current_day, transform=ax.transAxes, color='#777777', size=46, ha='right', weight=800)\n",
    "#     ax.text(0, 1.06, 'Population (thousands)', transform=ax.transAxes, size=12, color='#777777')\n",
    "#     ax.xaxis.set_major_formatter(ticker.StrMethodFormatter('{x:,.0f}'))\n",
    "#     ax.xaxis.set_ticks_position('top')\n",
    "#     ax.tick_params(axis='x', colors='#777777', labelsize=12)\n",
    "#     ax.set_yticks([])\n",
    "#     ax.margins(0, 0.01)\n",
    "#     ax.grid(which='major', axis='x', linestyle='-')\n",
    "#     ax.set_axisbelow(True)\n",
    "    \n",
    "#     ax.text(0, 1.15, 'Coronavirus',\n",
    "#             transform=ax.transAxes, size=24, weight=600, ha='left', va='top')\n",
    "# #     ax.text(1, 0, 'by @pratapvardhan; credit @jburnmurdoch', transform=ax.transAxes, color='#777777', ha='right',\n",
    "# #             bbox=dict(facecolor='white', alpha=0.8, edgecolor='white'))\n",
    "#     plt.box(False)"
   ]
  },
  {
   "cell_type": "code",
   "execution_count": 42,
   "id": "sexual-wages",
   "metadata": {
    "execution": {
     "iopub.execute_input": "2022-05-05T12:17:50.731008Z",
     "iopub.status.busy": "2022-05-05T12:17:50.730379Z",
     "iopub.status.idle": "2022-05-05T12:17:50.733755Z",
     "shell.execute_reply": "2022-05-05T12:17:50.734383Z"
    },
    "papermill": {
     "duration": 0.042844,
     "end_time": "2022-05-05T12:17:50.734525",
     "exception": false,
     "start_time": "2022-05-05T12:17:50.691681",
     "status": "completed"
    },
    "tags": []
   },
   "outputs": [],
   "source": [
    "# #hide_input\n",
    "# fig, ax = plt.subplots(figsize=(15, 8))\n",
    "# animator = animation.FuncAnimation(fig, draw_barchart, frames=range(g.day.values.min(), g.day.values.max()))\n",
    "# HTML(animator.to_jshtml())\n",
    "# # or use animator.to_html5_video() or animator.save() "
   ]
  },
  {
   "cell_type": "code",
   "execution_count": null,
   "id": "australian-container",
   "metadata": {
    "papermill": {
     "duration": 0.036928,
     "end_time": "2022-05-05T12:17:50.807310",
     "exception": false,
     "start_time": "2022-05-05T12:17:50.770382",
     "status": "completed"
    },
    "tags": []
   },
   "outputs": [],
   "source": []
  },
  {
   "cell_type": "code",
   "execution_count": null,
   "id": "mediterranean-pontiac",
   "metadata": {
    "papermill": {
     "duration": 0.036601,
     "end_time": "2022-05-05T12:17:50.880548",
     "exception": false,
     "start_time": "2022-05-05T12:17:50.843947",
     "status": "completed"
    },
    "tags": []
   },
   "outputs": [],
   "source": []
  },
  {
   "cell_type": "code",
   "execution_count": null,
   "id": "aging-legislature",
   "metadata": {
    "papermill": {
     "duration": 0.036095,
     "end_time": "2022-05-05T12:17:50.954112",
     "exception": false,
     "start_time": "2022-05-05T12:17:50.918017",
     "status": "completed"
    },
    "tags": []
   },
   "outputs": [],
   "source": []
  }
 ],
 "metadata": {
  "kernelspec": {
   "display_name": "Python 3",
   "language": "python",
   "name": "python3"
  },
  "language_info": {
   "codemirror_mode": {
    "name": "ipython",
    "version": 3
   },
   "file_extension": ".py",
   "mimetype": "text/x-python",
   "name": "python",
   "nbconvert_exporter": "python",
   "pygments_lexer": "ipython3",
   "version": "3.6.15"
  },
  "papermill": {
   "duration": 7.265696,
   "end_time": "2022-05-05T12:17:51.309961",
   "environment_variables": {},
   "exception": null,
   "input_path": "2020-03-21-covid19exp.ipynb",
   "output_path": "2020-03-21-covid19exp.ipynb",
   "parameters": {},
   "start_time": "2022-05-05T12:17:44.044265",
   "version": "2.0.0"
  }
 },
 "nbformat": 4,
 "nbformat_minor": 5
}