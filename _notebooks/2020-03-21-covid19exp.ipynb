{
 "cells": [
  {
   "cell_type": "markdown",
   "id": "muslim-click",
   "metadata": {
    "papermill": {
     "duration": 0.034014,
     "end_time": "2022-05-30T12:16:35.309257",
     "exception": false,
     "start_time": "2022-05-30T12:16:35.275243",
     "status": "completed"
    },
    "tags": []
   },
   "source": [
    "# COVID-19 Case Race\n",
    "> A race chart to see rising cases around the world\n",
    "\n",
    "- author: Hargun Oberoi\n",
    "- image: images/covid-overview.png\n",
    "- hide: false\n",
    "- badges: false"
   ]
  },
  {
   "cell_type": "code",
   "execution_count": 1,
   "id": "proof-material",
   "metadata": {
    "execution": {
     "iopub.execute_input": "2022-05-30T12:16:35.380881Z",
     "iopub.status.busy": "2022-05-30T12:16:35.380307Z",
     "iopub.status.idle": "2022-05-30T12:16:35.687278Z",
     "shell.execute_reply": "2022-05-30T12:16:35.686329Z"
    },
    "papermill": {
     "duration": 0.346179,
     "end_time": "2022-05-30T12:16:35.687414",
     "exception": false,
     "start_time": "2022-05-30T12:16:35.341235",
     "status": "completed"
    },
    "tags": []
   },
   "outputs": [],
   "source": [
    "#hide\n",
    "import numpy as np\n",
    "import pandas as pd\n",
    "from jinja2 import Template\n",
    "from IPython.display import HTML"
   ]
  },
  {
   "cell_type": "code",
   "execution_count": 2,
   "id": "developed-terminology",
   "metadata": {
    "execution": {
     "iopub.execute_input": "2022-05-30T12:16:35.752430Z",
     "iopub.status.busy": "2022-05-30T12:16:35.751835Z",
     "iopub.status.idle": "2022-05-30T12:16:35.754145Z",
     "shell.execute_reply": "2022-05-30T12:16:35.753699Z"
    },
    "papermill": {
     "duration": 0.036484,
     "end_time": "2022-05-30T12:16:35.754263",
     "exception": false,
     "start_time": "2022-05-30T12:16:35.717779",
     "status": "completed"
    },
    "tags": []
   },
   "outputs": [],
   "source": [
    "#hide\n",
    "\n",
    "# FETCH\n",
    "base_url = 'https://raw.githubusercontent.com/pratapvardhan/notebooks/master/covid19/'\n",
    "paths = {\n",
    "    'mapping': base_url + 'mapping_countries.csv',\n",
    "    'overview': base_url + 'overview.tpl'\n",
    "}"
   ]
  },
  {
   "cell_type": "code",
   "execution_count": 3,
   "id": "dynamic-saver",
   "metadata": {
    "execution": {
     "iopub.execute_input": "2022-05-30T12:16:35.822890Z",
     "iopub.status.busy": "2022-05-30T12:16:35.821648Z",
     "iopub.status.idle": "2022-05-30T12:16:35.826098Z",
     "shell.execute_reply": "2022-05-30T12:16:35.825648Z"
    },
    "papermill": {
     "duration": 0.041755,
     "end_time": "2022-05-30T12:16:35.826196",
     "exception": false,
     "start_time": "2022-05-30T12:16:35.784441",
     "status": "completed"
    },
    "tags": []
   },
   "outputs": [
    {
     "data": {
      "text/plain": [
       "'https://raw.githubusercontent.com/pratapvardhan/notebooks/master/covid19/mapping_countries.csv'"
      ]
     },
     "execution_count": 3,
     "metadata": {},
     "output_type": "execute_result"
    }
   ],
   "source": [
    "#hide\n",
    "paths['mapping']"
   ]
  },
  {
   "cell_type": "code",
   "execution_count": 4,
   "id": "urban-software",
   "metadata": {
    "execution": {
     "iopub.execute_input": "2022-05-30T12:16:35.892094Z",
     "iopub.status.busy": "2022-05-30T12:16:35.891503Z",
     "iopub.status.idle": "2022-05-30T12:16:35.893995Z",
     "shell.execute_reply": "2022-05-30T12:16:35.893540Z"
    },
    "papermill": {
     "duration": 0.0372,
     "end_time": "2022-05-30T12:16:35.894094",
     "exception": false,
     "start_time": "2022-05-30T12:16:35.856894",
     "status": "completed"
    },
    "tags": []
   },
   "outputs": [],
   "source": [
    "#hide\n",
    "def get_mappings(url):\n",
    "    df = pd.read_csv(url)\n",
    "    return {\n",
    "        'df': df,\n",
    "        'replace.country': dict(df.dropna(subset=['Name']).set_index('Country')['Name']),\n",
    "        'map.continent': dict(df.set_index('Name')['Continent'])\n",
    "    }"
   ]
  },
  {
   "cell_type": "code",
   "execution_count": 5,
   "id": "intimate-machinery",
   "metadata": {
    "execution": {
     "iopub.execute_input": "2022-05-30T12:16:35.959927Z",
     "iopub.status.busy": "2022-05-30T12:16:35.959367Z",
     "iopub.status.idle": "2022-05-30T12:16:36.019049Z",
     "shell.execute_reply": "2022-05-30T12:16:36.018594Z"
    },
    "papermill": {
     "duration": 0.094432,
     "end_time": "2022-05-30T12:16:36.019154",
     "exception": false,
     "start_time": "2022-05-30T12:16:35.924722",
     "status": "completed"
    },
    "tags": []
   },
   "outputs": [],
   "source": [
    "#hide\n",
    "mapping = get_mappings(paths['mapping'])"
   ]
  },
  {
   "cell_type": "code",
   "execution_count": 6,
   "id": "certified-tactics",
   "metadata": {
    "execution": {
     "iopub.execute_input": "2022-05-30T12:16:36.084543Z",
     "iopub.status.busy": "2022-05-30T12:16:36.083951Z",
     "iopub.status.idle": "2022-05-30T12:16:36.086190Z",
     "shell.execute_reply": "2022-05-30T12:16:36.086617Z"
    },
    "papermill": {
     "duration": 0.037012,
     "end_time": "2022-05-30T12:16:36.086729",
     "exception": false,
     "start_time": "2022-05-30T12:16:36.049717",
     "status": "completed"
    },
    "tags": []
   },
   "outputs": [],
   "source": [
    "#hide\n",
    "def get_template(path):\n",
    "    from urllib.parse import urlparse\n",
    "    if bool(urlparse(path).netloc):\n",
    "        from urllib.request import urlopen\n",
    "        return urlopen(path).read().decode('utf8')\n",
    "    return open(path).read()"
   ]
  },
  {
   "cell_type": "code",
   "execution_count": 7,
   "id": "realistic-blast",
   "metadata": {
    "execution": {
     "iopub.execute_input": "2022-05-30T12:16:36.151845Z",
     "iopub.status.busy": "2022-05-30T12:16:36.151273Z",
     "iopub.status.idle": "2022-05-30T12:16:36.153706Z",
     "shell.execute_reply": "2022-05-30T12:16:36.153159Z"
    },
    "papermill": {
     "duration": 0.036677,
     "end_time": "2022-05-30T12:16:36.153805",
     "exception": false,
     "start_time": "2022-05-30T12:16:36.117128",
     "status": "completed"
    },
    "tags": []
   },
   "outputs": [],
   "source": [
    "#hide\n",
    "def get_frame(name):\n",
    "    url = (\n",
    "        'https://raw.githubusercontent.com/CSSEGISandData/COVID-19/master/csse_covid_19_data/'\n",
    "        f'csse_covid_19_time_series/time_series_covid19_{name}_global.csv')\n",
    "    df = pd.read_csv(url)\n",
    "    # rename countries\n",
    "    df['Country/Region'] = df['Country/Region'].replace(mapping['replace.country'])\n",
    "    return df"
   ]
  },
  {
   "cell_type": "code",
   "execution_count": 8,
   "id": "affiliated-characterization",
   "metadata": {
    "execution": {
     "iopub.execute_input": "2022-05-30T12:16:36.218202Z",
     "iopub.status.busy": "2022-05-30T12:16:36.217382Z",
     "iopub.status.idle": "2022-05-30T12:16:36.222075Z",
     "shell.execute_reply": "2022-05-30T12:16:36.222509Z"
    },
    "papermill": {
     "duration": 0.038309,
     "end_time": "2022-05-30T12:16:36.222622",
     "exception": false,
     "start_time": "2022-05-30T12:16:36.184313",
     "status": "completed"
    },
    "tags": []
   },
   "outputs": [],
   "source": [
    "#hide\n",
    "def get_dates(df):\n",
    "    dt_cols = df.columns[~df.columns.isin(['Province/State', 'Country/Region', 'Lat', 'Long'])]\n",
    "    LAST_DATE_I = -1\n",
    "    # sometimes last column may be empty, then go backwards\n",
    "    for i in range(-1, -len(dt_cols), -1):\n",
    "        if not df[dt_cols[i]].fillna(0).eq(0).all():\n",
    "            LAST_DATE_I = i\n",
    "            break\n",
    "    return LAST_DATE_I, dt_cols"
   ]
  },
  {
   "cell_type": "code",
   "execution_count": 9,
   "id": "recent-optimization",
   "metadata": {
    "execution": {
     "iopub.execute_input": "2022-05-30T12:16:36.287552Z",
     "iopub.status.busy": "2022-05-30T12:16:36.286995Z",
     "iopub.status.idle": "2022-05-30T12:16:36.953570Z",
     "shell.execute_reply": "2022-05-30T12:16:36.952450Z"
    },
    "papermill": {
     "duration": 0.700665,
     "end_time": "2022-05-30T12:16:36.953694",
     "exception": false,
     "start_time": "2022-05-30T12:16:36.253029",
     "status": "completed"
    },
    "tags": []
   },
   "outputs": [],
   "source": [
    "#hide\n",
    "COL_REGION = 'Country/Region'\n",
    "# Confirmed, Recovered, Deaths\n",
    "df = get_frame('confirmed')\n",
    "# dft_: timeseries, dfc_: today country agg\n",
    "dft_cases = df\n",
    "dft_deaths = get_frame('deaths')\n",
    "dft_recovered = get_frame('recovered')\n",
    "LAST_DATE_I, dt_cols = get_dates(df)"
   ]
  },
  {
   "cell_type": "code",
   "execution_count": 10,
   "id": "absolute-copper",
   "metadata": {
    "execution": {
     "iopub.execute_input": "2022-05-30T12:16:37.019658Z",
     "iopub.status.busy": "2022-05-30T12:16:37.019095Z",
     "iopub.status.idle": "2022-05-30T12:16:37.020922Z",
     "shell.execute_reply": "2022-05-30T12:16:37.021331Z"
    },
    "papermill": {
     "duration": 0.037066,
     "end_time": "2022-05-30T12:16:37.021448",
     "exception": false,
     "start_time": "2022-05-30T12:16:36.984382",
     "status": "completed"
    },
    "tags": []
   },
   "outputs": [],
   "source": [
    "#hide\n",
    "LAST_DATE_I, dt_cols = get_dates(df)\n",
    "dt_today =dt_cols[LAST_DATE_I]\n",
    "# dt_5day = dt_cols[LAST_DATE_I - 5]\n",
    "dt_yday = dt_cols[LAST_DATE_I - 1]"
   ]
  },
  {
   "cell_type": "code",
   "execution_count": 11,
   "id": "restricted-sheriff",
   "metadata": {
    "execution": {
     "iopub.execute_input": "2022-05-30T12:16:37.086872Z",
     "iopub.status.busy": "2022-05-30T12:16:37.086311Z",
     "iopub.status.idle": "2022-05-30T12:16:37.093409Z",
     "shell.execute_reply": "2022-05-30T12:16:37.093859Z"
    },
    "papermill": {
     "duration": 0.0422,
     "end_time": "2022-05-30T12:16:37.093973",
     "exception": false,
     "start_time": "2022-05-30T12:16:37.051773",
     "status": "completed"
    },
    "tags": []
   },
   "outputs": [],
   "source": [
    "#hide\n",
    "dfc_cases = dft_cases.groupby(COL_REGION)[dt_today].sum()\n",
    "dfc_deaths = dft_deaths.groupby(COL_REGION)[dt_today].sum()\n",
    "# dfp_cases = dft_cases.groupby(COL_REGION)[dt_5day].sum()\n",
    "# dfp_deaths = dft_deaths.groupby(COL_REGION)[dt_5day].sum()\n",
    "dfp_cases = dft_cases.groupby(COL_REGION)[dt_yday].sum()\n",
    "dfp_deaths = dft_deaths.groupby(COL_REGION)[dt_yday].sum()"
   ]
  },
  {
   "cell_type": "code",
   "execution_count": 12,
   "id": "deluxe-hepatitis",
   "metadata": {
    "execution": {
     "iopub.execute_input": "2022-05-30T12:16:37.160370Z",
     "iopub.status.busy": "2022-05-30T12:16:37.159786Z",
     "iopub.status.idle": "2022-05-30T12:16:37.164477Z",
     "shell.execute_reply": "2022-05-30T12:16:37.164025Z"
    },
    "papermill": {
     "duration": 0.040048,
     "end_time": "2022-05-30T12:16:37.164575",
     "exception": false,
     "start_time": "2022-05-30T12:16:37.124527",
     "status": "completed"
    },
    "tags": []
   },
   "outputs": [],
   "source": [
    "#hide\n",
    "df_table = (pd.DataFrame(dict(Cases = dfc_cases, Deaths = dfc_deaths, PCases = dfp_cases, PDeaths = dfp_deaths))\n",
    "            .sort_values(by = ['Cases','Deaths'], ascending = [False, False])\n",
    "            .reset_index())"
   ]
  },
  {
   "cell_type": "code",
   "execution_count": 13,
   "id": "educational-chancellor",
   "metadata": {
    "execution": {
     "iopub.execute_input": "2022-05-30T12:16:37.237842Z",
     "iopub.status.busy": "2022-05-30T12:16:37.237278Z",
     "iopub.status.idle": "2022-05-30T12:16:37.249197Z",
     "shell.execute_reply": "2022-05-30T12:16:37.249658Z"
    },
    "papermill": {
     "duration": 0.054808,
     "end_time": "2022-05-30T12:16:37.249770",
     "exception": false,
     "start_time": "2022-05-30T12:16:37.194962",
     "status": "completed"
    },
    "tags": []
   },
   "outputs": [
    {
     "data": {
      "text/html": [
       "<div>\n",
       "<style scoped>\n",
       "    .dataframe tbody tr th:only-of-type {\n",
       "        vertical-align: middle;\n",
       "    }\n",
       "\n",
       "    .dataframe tbody tr th {\n",
       "        vertical-align: top;\n",
       "    }\n",
       "\n",
       "    .dataframe thead th {\n",
       "        text-align: right;\n",
       "    }\n",
       "</style>\n",
       "<table border=\"1\" class=\"dataframe\">\n",
       "  <thead>\n",
       "    <tr style=\"text-align: right;\">\n",
       "      <th></th>\n",
       "      <th>Country/Region</th>\n",
       "      <th>Cases</th>\n",
       "      <th>Deaths</th>\n",
       "      <th>PCases</th>\n",
       "      <th>PDeaths</th>\n",
       "      <th>Cases (+)</th>\n",
       "      <th>Deaths (+)</th>\n",
       "      <th>Fatality Rate</th>\n",
       "      <th>Continent</th>\n",
       "    </tr>\n",
       "  </thead>\n",
       "  <tbody>\n",
       "    <tr>\n",
       "      <th>0</th>\n",
       "      <td>US</td>\n",
       "      <td>83984644</td>\n",
       "      <td>1004733</td>\n",
       "      <td>83980356</td>\n",
       "      <td>1004726</td>\n",
       "      <td>4288</td>\n",
       "      <td>7</td>\n",
       "      <td>1.20</td>\n",
       "      <td>North America</td>\n",
       "    </tr>\n",
       "    <tr>\n",
       "      <th>1</th>\n",
       "      <td>India</td>\n",
       "      <td>43155749</td>\n",
       "      <td>524611</td>\n",
       "      <td>43153043</td>\n",
       "      <td>524586</td>\n",
       "      <td>2706</td>\n",
       "      <td>25</td>\n",
       "      <td>1.22</td>\n",
       "      <td>Asia</td>\n",
       "    </tr>\n",
       "    <tr>\n",
       "      <th>2</th>\n",
       "      <td>Brazil</td>\n",
       "      <td>30953579</td>\n",
       "      <td>666453</td>\n",
       "      <td>30945384</td>\n",
       "      <td>666391</td>\n",
       "      <td>8195</td>\n",
       "      <td>62</td>\n",
       "      <td>2.15</td>\n",
       "      <td>South America</td>\n",
       "    </tr>\n",
       "    <tr>\n",
       "      <th>3</th>\n",
       "      <td>France</td>\n",
       "      <td>29671838</td>\n",
       "      <td>149169</td>\n",
       "      <td>29655398</td>\n",
       "      <td>149168</td>\n",
       "      <td>16440</td>\n",
       "      <td>1</td>\n",
       "      <td>0.50</td>\n",
       "      <td>Europe</td>\n",
       "    </tr>\n",
       "    <tr>\n",
       "      <th>4</th>\n",
       "      <td>Germany</td>\n",
       "      <td>26244107</td>\n",
       "      <td>138864</td>\n",
       "      <td>26243352</td>\n",
       "      <td>138862</td>\n",
       "      <td>755</td>\n",
       "      <td>2</td>\n",
       "      <td>0.53</td>\n",
       "      <td>Europe</td>\n",
       "    </tr>\n",
       "  </tbody>\n",
       "</table>\n",
       "</div>"
      ],
      "text/plain": [
       "  Country/Region     Cases   Deaths    PCases  PDeaths  Cases (+)  Deaths (+)  \\\n",
       "0             US  83984644  1004733  83980356  1004726       4288           7   \n",
       "1          India  43155749   524611  43153043   524586       2706          25   \n",
       "2         Brazil  30953579   666453  30945384   666391       8195          62   \n",
       "3         France  29671838   149169  29655398   149168      16440           1   \n",
       "4        Germany  26244107   138864  26243352   138862        755           2   \n",
       "\n",
       "   Fatality Rate      Continent  \n",
       "0           1.20  North America  \n",
       "1           1.22           Asia  \n",
       "2           2.15  South America  \n",
       "3           0.50         Europe  \n",
       "4           0.53         Europe  "
      ]
     },
     "execution_count": 13,
     "metadata": {},
     "output_type": "execute_result"
    }
   ],
   "source": [
    "#hide\n",
    "for c in 'Cases, Deaths'.split(', '):\n",
    "    df_table[f'{c} (+)'] = (df_table[c] - df_table[f'P{c}']).clip(0)\n",
    "    #Clip ça veut dire, les chiffres negatif sont interdit\n",
    "df_table['Fatality Rate'] = (100* df_table['Deaths']/ df_table['Cases']).round(2)\n",
    "df_table['Continent'] = df_table['Country/Region'].map(mapping['map.continent'])\n",
    "df_table.head(5)"
   ]
  },
  {
   "cell_type": "code",
   "execution_count": 14,
   "id": "aboriginal-bulgaria",
   "metadata": {
    "execution": {
     "iopub.execute_input": "2022-05-30T12:16:37.316480Z",
     "iopub.status.busy": "2022-05-30T12:16:37.315869Z",
     "iopub.status.idle": "2022-05-30T12:16:37.318366Z",
     "shell.execute_reply": "2022-05-30T12:16:37.317909Z"
    },
    "papermill": {
     "duration": 0.037731,
     "end_time": "2022-05-30T12:16:37.318463",
     "exception": false,
     "start_time": "2022-05-30T12:16:37.280732",
     "status": "completed"
    },
    "tags": []
   },
   "outputs": [],
   "source": [
    "#hide\n",
    "#delete problematic countries from table\n",
    "df_table = df_table[~df_table['Country/Region'].isin(['Cape Verde', 'Cruise Ship', 'Kosovo'])]"
   ]
  },
  {
   "cell_type": "code",
   "execution_count": 15,
   "id": "fantastic-effect",
   "metadata": {
    "execution": {
     "iopub.execute_input": "2022-05-30T12:16:37.387316Z",
     "iopub.status.busy": "2022-05-30T12:16:37.386756Z",
     "iopub.status.idle": "2022-05-30T12:16:37.403623Z",
     "shell.execute_reply": "2022-05-30T12:16:37.404054Z"
    },
    "papermill": {
     "duration": 0.054938,
     "end_time": "2022-05-30T12:16:37.404174",
     "exception": false,
     "start_time": "2022-05-30T12:16:37.349236",
     "status": "completed"
    },
    "tags": []
   },
   "outputs": [
    {
     "data": {
      "text/html": [
       "<div>\n",
       "<style scoped>\n",
       "    .dataframe tbody tr th:only-of-type {\n",
       "        vertical-align: middle;\n",
       "    }\n",
       "\n",
       "    .dataframe tbody tr th {\n",
       "        vertical-align: top;\n",
       "    }\n",
       "\n",
       "    .dataframe thead th {\n",
       "        text-align: right;\n",
       "    }\n",
       "</style>\n",
       "<table border=\"1\" class=\"dataframe\">\n",
       "  <thead>\n",
       "    <tr style=\"text-align: right;\">\n",
       "      <th></th>\n",
       "      <th>Country/Region</th>\n",
       "      <th>Cases</th>\n",
       "      <th>Deaths</th>\n",
       "      <th>PCases</th>\n",
       "      <th>PDeaths</th>\n",
       "      <th>Cases (+)</th>\n",
       "      <th>Deaths (+)</th>\n",
       "      <th>Fatality Rate</th>\n",
       "      <th>Continent</th>\n",
       "    </tr>\n",
       "  </thead>\n",
       "  <tbody>\n",
       "    <tr>\n",
       "      <th>0</th>\n",
       "      <td>US</td>\n",
       "      <td>83984644</td>\n",
       "      <td>1004733</td>\n",
       "      <td>83980356</td>\n",
       "      <td>1004726</td>\n",
       "      <td>4288</td>\n",
       "      <td>7</td>\n",
       "      <td>1.2</td>\n",
       "      <td>North America</td>\n",
       "    </tr>\n",
       "    <tr>\n",
       "      <th>1</th>\n",
       "      <td>India</td>\n",
       "      <td>43155749</td>\n",
       "      <td>524611</td>\n",
       "      <td>43153043</td>\n",
       "      <td>524586</td>\n",
       "      <td>2706</td>\n",
       "      <td>25</td>\n",
       "      <td>1.2</td>\n",
       "      <td>Asia</td>\n",
       "    </tr>\n",
       "    <tr>\n",
       "      <th>2</th>\n",
       "      <td>Brazil</td>\n",
       "      <td>30953579</td>\n",
       "      <td>666453</td>\n",
       "      <td>30945384</td>\n",
       "      <td>666391</td>\n",
       "      <td>8195</td>\n",
       "      <td>62</td>\n",
       "      <td>2.2</td>\n",
       "      <td>South America</td>\n",
       "    </tr>\n",
       "    <tr>\n",
       "      <th>3</th>\n",
       "      <td>France</td>\n",
       "      <td>29671838</td>\n",
       "      <td>149169</td>\n",
       "      <td>29655398</td>\n",
       "      <td>149168</td>\n",
       "      <td>16440</td>\n",
       "      <td>1</td>\n",
       "      <td>0.5</td>\n",
       "      <td>Europe</td>\n",
       "    </tr>\n",
       "    <tr>\n",
       "      <th>4</th>\n",
       "      <td>Germany</td>\n",
       "      <td>26244107</td>\n",
       "      <td>138864</td>\n",
       "      <td>26243352</td>\n",
       "      <td>138862</td>\n",
       "      <td>755</td>\n",
       "      <td>2</td>\n",
       "      <td>0.5</td>\n",
       "      <td>Europe</td>\n",
       "    </tr>\n",
       "  </tbody>\n",
       "</table>\n",
       "</div>"
      ],
      "text/plain": [
       "  Country/Region     Cases   Deaths    PCases  PDeaths  Cases (+)  Deaths (+)  \\\n",
       "0             US  83984644  1004733  83980356  1004726       4288           7   \n",
       "1          India  43155749   524611  43153043   524586       2706          25   \n",
       "2         Brazil  30953579   666453  30945384   666391       8195          62   \n",
       "3         France  29671838   149169  29655398   149168      16440           1   \n",
       "4        Germany  26244107   138864  26243352   138862        755           2   \n",
       "\n",
       "   Fatality Rate      Continent  \n",
       "0            1.2  North America  \n",
       "1            1.2           Asia  \n",
       "2            2.2  South America  \n",
       "3            0.5         Europe  \n",
       "4            0.5         Europe  "
      ]
     },
     "execution_count": 15,
     "metadata": {},
     "output_type": "execute_result"
    }
   ],
   "source": [
    "#hide\n",
    "df_table = (pd.DataFrame(dict(Cases=dfc_cases, Deaths=dfc_deaths, PCases=dfp_cases, PDeaths=dfp_deaths))\n",
    "             .sort_values(by=['Cases', 'Deaths'], ascending=[False, False])\n",
    "             .reset_index())\n",
    "df_table.rename(columns={'index': 'Country/Region'}, inplace=True)\n",
    "for c in 'Cases, Deaths'.split(', '):\n",
    "    df_table[f'{c} (+)'] = (df_table[c] - df_table[f'P{c}']).clip(0)  # DATA BUG\n",
    "df_table['Fatality Rate'] = (100 * df_table['Deaths'] / df_table['Cases']).round(1)\n",
    "df_table['Continent'] = df_table['Country/Region'].map(mapping['map.continent'])\n",
    "df_table.head(5)"
   ]
  },
  {
   "cell_type": "code",
   "execution_count": 16,
   "id": "fewer-occasion",
   "metadata": {
    "execution": {
     "iopub.execute_input": "2022-05-30T12:16:37.472708Z",
     "iopub.status.busy": "2022-05-30T12:16:37.472145Z",
     "iopub.status.idle": "2022-05-30T12:16:37.474860Z",
     "shell.execute_reply": "2022-05-30T12:16:37.474406Z"
    },
    "papermill": {
     "duration": 0.039082,
     "end_time": "2022-05-30T12:16:37.474961",
     "exception": false,
     "start_time": "2022-05-30T12:16:37.435879",
     "status": "completed"
    },
    "tags": []
   },
   "outputs": [],
   "source": [
    "#hide\n",
    "#delete problematic countries from table\n",
    "df_table = df_table[~df_table['Country/Region'].isin(['Cape Verde', 'Cruise Ship', 'Kosovo'])]"
   ]
  },
  {
   "cell_type": "code",
   "execution_count": 17,
   "id": "related-center",
   "metadata": {
    "execution": {
     "iopub.execute_input": "2022-05-30T12:16:37.548082Z",
     "iopub.status.busy": "2022-05-30T12:16:37.547487Z",
     "iopub.status.idle": "2022-05-30T12:16:37.556940Z",
     "shell.execute_reply": "2022-05-30T12:16:37.556486Z"
    },
    "papermill": {
     "duration": 0.050667,
     "end_time": "2022-05-30T12:16:37.557038",
     "exception": false,
     "start_time": "2022-05-30T12:16:37.506371",
     "status": "completed"
    },
    "tags": []
   },
   "outputs": [],
   "source": [
    "#hide\n",
    "metrics = [df_table.columns[index] for index in [1,2,5,6]]\n",
    "# s_china = df_table[df_table['Country/Region'].eq('China')][metrics].sum().add_prefix('China ')\n",
    "s_us = df_table[df_table['Country/Region'].eq('US')][metrics].sum().add_prefix('US ')\n",
    "s_eu = df_table[df_table['Continent'].eq('Europe')][metrics].sum().add_prefix('EU ')\n",
    "s_ind = df_table[df_table['Country/Region'].eq('India')][metrics].sum().add_prefix('India ')\n",
    "summary = {'updated': pd.to_datetime(dt_today), 'since': pd.to_datetime(dt_yday)}\n",
    "summary = {'updated': pd.to_datetime(dt_today), 'since': pd.to_datetime(dt_yday)}\n",
    "summary = {**summary, **df_table[metrics].sum(), **s_ind, **s_us, **s_eu}"
   ]
  },
  {
   "cell_type": "code",
   "execution_count": 18,
   "id": "engaging-syndrome",
   "metadata": {
    "execution": {
     "iopub.execute_input": "2022-05-30T12:16:37.624679Z",
     "iopub.status.busy": "2022-05-30T12:16:37.624099Z",
     "iopub.status.idle": "2022-05-30T12:16:37.640676Z",
     "shell.execute_reply": "2022-05-30T12:16:37.640227Z"
    },
    "papermill": {
     "duration": 0.052344,
     "end_time": "2022-05-30T12:16:37.640786",
     "exception": false,
     "start_time": "2022-05-30T12:16:37.588442",
     "status": "completed"
    },
    "tags": []
   },
   "outputs": [],
   "source": [
    "#hide\n",
    "dft_ct_new_cases = dft_cases.groupby(COL_REGION)[dt_cols].sum().diff(axis=1).fillna(0).astype(int)"
   ]
  },
  {
   "cell_type": "code",
   "execution_count": 19,
   "id": "neutral-assignment",
   "metadata": {
    "execution": {
     "iopub.execute_input": "2022-05-30T12:16:37.709333Z",
     "iopub.status.busy": "2022-05-30T12:16:37.708752Z",
     "iopub.status.idle": "2022-05-30T12:16:37.711190Z",
     "shell.execute_reply": "2022-05-30T12:16:37.710738Z"
    },
    "papermill": {
     "duration": 0.038974,
     "end_time": "2022-05-30T12:16:37.711291",
     "exception": false,
     "start_time": "2022-05-30T12:16:37.672317",
     "status": "completed"
    },
    "tags": []
   },
   "outputs": [],
   "source": [
    "#hide\n",
    "everydaycases = dft_ct_new_cases.cumsum(axis=1)"
   ]
  },
  {
   "cell_type": "code",
   "execution_count": 20,
   "id": "parliamentary-calgary",
   "metadata": {
    "execution": {
     "iopub.execute_input": "2022-05-30T12:16:37.778052Z",
     "iopub.status.busy": "2022-05-30T12:16:37.777490Z",
     "iopub.status.idle": "2022-05-30T12:16:38.322991Z",
     "shell.execute_reply": "2022-05-30T12:16:38.322501Z"
    },
    "papermill": {
     "duration": 0.580465,
     "end_time": "2022-05-30T12:16:38.323110",
     "exception": false,
     "start_time": "2022-05-30T12:16:37.742645",
     "status": "completed"
    },
    "tags": []
   },
   "outputs": [],
   "source": [
    "#hide\n",
    "import pandas as pd\n",
    "import matplotlib.pyplot as plt\n",
    "import matplotlib.ticker as ticker\n",
    "import matplotlib.animation as animation\n",
    "from IPython.display import HTML"
   ]
  },
  {
   "cell_type": "code",
   "execution_count": 21,
   "id": "lasting-extraction",
   "metadata": {
    "execution": {
     "iopub.execute_input": "2022-05-30T12:16:38.391809Z",
     "iopub.status.busy": "2022-05-30T12:16:38.391246Z",
     "iopub.status.idle": "2022-05-30T12:16:38.398532Z",
     "shell.execute_reply": "2022-05-30T12:16:38.398988Z"
    },
    "papermill": {
     "duration": 0.0445,
     "end_time": "2022-05-30T12:16:38.399110",
     "exception": false,
     "start_time": "2022-05-30T12:16:38.354610",
     "status": "completed"
    },
    "tags": []
   },
   "outputs": [],
   "source": [
    "#hide\n",
    "t = everydaycases.stack()"
   ]
  },
  {
   "cell_type": "code",
   "execution_count": 22,
   "id": "premier-sleeve",
   "metadata": {
    "execution": {
     "iopub.execute_input": "2022-05-30T12:16:38.466004Z",
     "iopub.status.busy": "2022-05-30T12:16:38.465453Z",
     "iopub.status.idle": "2022-05-30T12:16:38.475408Z",
     "shell.execute_reply": "2022-05-30T12:16:38.475928Z"
    },
    "papermill": {
     "duration": 0.045282,
     "end_time": "2022-05-30T12:16:38.476083",
     "exception": false,
     "start_time": "2022-05-30T12:16:38.430801",
     "status": "completed"
    },
    "tags": []
   },
   "outputs": [],
   "source": [
    "#hide\n",
    "g = t.reset_index(['Country/Region'])"
   ]
  },
  {
   "cell_type": "code",
   "execution_count": 23,
   "id": "distributed-pittsburgh",
   "metadata": {
    "execution": {
     "iopub.execute_input": "2022-05-30T12:16:38.542536Z",
     "iopub.status.busy": "2022-05-30T12:16:38.541974Z",
     "iopub.status.idle": "2022-05-30T12:16:38.544024Z",
     "shell.execute_reply": "2022-05-30T12:16:38.544451Z"
    },
    "papermill": {
     "duration": 0.037227,
     "end_time": "2022-05-30T12:16:38.544563",
     "exception": false,
     "start_time": "2022-05-30T12:16:38.507336",
     "status": "completed"
    },
    "tags": []
   },
   "outputs": [],
   "source": [
    "#hide\n",
    "g.index.name = 'date'"
   ]
  },
  {
   "cell_type": "code",
   "execution_count": 24,
   "id": "naked-donor",
   "metadata": {
    "execution": {
     "iopub.execute_input": "2022-05-30T12:16:38.610762Z",
     "iopub.status.busy": "2022-05-30T12:16:38.610189Z",
     "iopub.status.idle": "2022-05-30T12:16:38.612566Z",
     "shell.execute_reply": "2022-05-30T12:16:38.612026Z"
    },
    "papermill": {
     "duration": 0.036665,
     "end_time": "2022-05-30T12:16:38.612666",
     "exception": false,
     "start_time": "2022-05-30T12:16:38.576001",
     "status": "completed"
    },
    "tags": []
   },
   "outputs": [],
   "source": [
    "# #hide\n",
    "# g = g.reset_index(['date'])"
   ]
  },
  {
   "cell_type": "code",
   "execution_count": 25,
   "id": "incomplete-mustang",
   "metadata": {
    "execution": {
     "iopub.execute_input": "2022-05-30T12:16:38.679420Z",
     "iopub.status.busy": "2022-05-30T12:16:38.678858Z",
     "iopub.status.idle": "2022-05-30T12:16:38.681253Z",
     "shell.execute_reply": "2022-05-30T12:16:38.680812Z"
    },
    "papermill": {
     "duration": 0.036749,
     "end_time": "2022-05-30T12:16:38.681352",
     "exception": false,
     "start_time": "2022-05-30T12:16:38.644603",
     "status": "completed"
    },
    "tags": []
   },
   "outputs": [],
   "source": [
    "#hide\n",
    "# g.head()"
   ]
  },
  {
   "cell_type": "code",
   "execution_count": 26,
   "id": "specific-kruger",
   "metadata": {
    "execution": {
     "iopub.execute_input": "2022-05-30T12:16:38.747846Z",
     "iopub.status.busy": "2022-05-30T12:16:38.747276Z",
     "iopub.status.idle": "2022-05-30T12:16:38.749766Z",
     "shell.execute_reply": "2022-05-30T12:16:38.749318Z"
    },
    "papermill": {
     "duration": 0.03695,
     "end_time": "2022-05-30T12:16:38.749865",
     "exception": false,
     "start_time": "2022-05-30T12:16:38.712915",
     "status": "completed"
    },
    "tags": []
   },
   "outputs": [],
   "source": [
    "#hide\n",
    "# g.columns = ['date','country','cases']"
   ]
  },
  {
   "cell_type": "code",
   "execution_count": 27,
   "id": "tender-conversion",
   "metadata": {
    "execution": {
     "iopub.execute_input": "2022-05-30T12:16:38.815911Z",
     "iopub.status.busy": "2022-05-30T12:16:38.815348Z",
     "iopub.status.idle": "2022-05-30T12:16:38.817849Z",
     "shell.execute_reply": "2022-05-30T12:16:38.817381Z"
    },
    "papermill": {
     "duration": 0.036716,
     "end_time": "2022-05-30T12:16:38.817949",
     "exception": false,
     "start_time": "2022-05-30T12:16:38.781233",
     "status": "completed"
    },
    "tags": []
   },
   "outputs": [],
   "source": [
    "#hide\n",
    "# g['continent'] = g.country"
   ]
  },
  {
   "cell_type": "code",
   "execution_count": 28,
   "id": "substantial-wilderness",
   "metadata": {
    "execution": {
     "iopub.execute_input": "2022-05-30T12:16:38.884091Z",
     "iopub.status.busy": "2022-05-30T12:16:38.883515Z",
     "iopub.status.idle": "2022-05-30T12:16:38.885629Z",
     "shell.execute_reply": "2022-05-30T12:16:38.886054Z"
    },
    "papermill": {
     "duration": 0.036639,
     "end_time": "2022-05-30T12:16:38.886164",
     "exception": false,
     "start_time": "2022-05-30T12:16:38.849525",
     "status": "completed"
    },
    "tags": []
   },
   "outputs": [],
   "source": [
    "#hide\n",
    "# cols = list(g.columns.values)"
   ]
  },
  {
   "cell_type": "code",
   "execution_count": 29,
   "id": "solved-farming",
   "metadata": {
    "execution": {
     "iopub.execute_input": "2022-05-30T12:16:38.952439Z",
     "iopub.status.busy": "2022-05-30T12:16:38.951826Z",
     "iopub.status.idle": "2022-05-30T12:16:38.954136Z",
     "shell.execute_reply": "2022-05-30T12:16:38.953688Z"
    },
    "papermill": {
     "duration": 0.036735,
     "end_time": "2022-05-30T12:16:38.954236",
     "exception": false,
     "start_time": "2022-05-30T12:16:38.917501",
     "status": "completed"
    },
    "tags": []
   },
   "outputs": [],
   "source": [
    "#hide\n",
    "# cols.insert(0, cols.pop())"
   ]
  },
  {
   "cell_type": "code",
   "execution_count": 30,
   "id": "executed-adoption",
   "metadata": {
    "execution": {
     "iopub.execute_input": "2022-05-30T12:16:39.020743Z",
     "iopub.status.busy": "2022-05-30T12:16:39.020159Z",
     "iopub.status.idle": "2022-05-30T12:16:39.022574Z",
     "shell.execute_reply": "2022-05-30T12:16:39.022126Z"
    },
    "papermill": {
     "duration": 0.036893,
     "end_time": "2022-05-30T12:16:39.022674",
     "exception": false,
     "start_time": "2022-05-30T12:16:38.985781",
     "status": "completed"
    },
    "tags": []
   },
   "outputs": [],
   "source": [
    "#hide\n",
    "# g = g[cols]"
   ]
  },
  {
   "cell_type": "code",
   "execution_count": 31,
   "id": "subject-dublin",
   "metadata": {
    "execution": {
     "iopub.execute_input": "2022-05-30T12:16:39.089278Z",
     "iopub.status.busy": "2022-05-30T12:16:39.088721Z",
     "iopub.status.idle": "2022-05-30T12:16:39.091078Z",
     "shell.execute_reply": "2022-05-30T12:16:39.090549Z"
    },
    "papermill": {
     "duration": 0.036971,
     "end_time": "2022-05-30T12:16:39.091177",
     "exception": false,
     "start_time": "2022-05-30T12:16:39.054206",
     "status": "completed"
    },
    "tags": []
   },
   "outputs": [],
   "source": [
    "#hide\n",
    "# g['continent'] = g['continent'].map(mapping['map.continent'])"
   ]
  },
  {
   "cell_type": "code",
   "execution_count": 32,
   "id": "freelance-scout",
   "metadata": {
    "execution": {
     "iopub.execute_input": "2022-05-30T12:16:39.157273Z",
     "iopub.status.busy": "2022-05-30T12:16:39.156702Z",
     "iopub.status.idle": "2022-05-30T12:16:39.159154Z",
     "shell.execute_reply": "2022-05-30T12:16:39.158707Z"
    },
    "papermill": {
     "duration": 0.036662,
     "end_time": "2022-05-30T12:16:39.159254",
     "exception": false,
     "start_time": "2022-05-30T12:16:39.122592",
     "status": "completed"
    },
    "tags": []
   },
   "outputs": [],
   "source": [
    "#hide\n",
    "# g.head()"
   ]
  },
  {
   "cell_type": "code",
   "execution_count": 33,
   "id": "limited-engine",
   "metadata": {
    "execution": {
     "iopub.execute_input": "2022-05-30T12:16:39.225265Z",
     "iopub.status.busy": "2022-05-30T12:16:39.224710Z",
     "iopub.status.idle": "2022-05-30T12:16:39.226985Z",
     "shell.execute_reply": "2022-05-30T12:16:39.226455Z"
    },
    "papermill": {
     "duration": 0.036517,
     "end_time": "2022-05-30T12:16:39.227083",
     "exception": false,
     "start_time": "2022-05-30T12:16:39.190566",
     "status": "completed"
    },
    "tags": []
   },
   "outputs": [],
   "source": [
    "# hide\n",
    "# g['date'] = g['date'].astype('datetime64[ns]')"
   ]
  },
  {
   "cell_type": "code",
   "execution_count": 34,
   "id": "sophisticated-supervisor",
   "metadata": {
    "execution": {
     "iopub.execute_input": "2022-05-30T12:16:39.293416Z",
     "iopub.status.busy": "2022-05-30T12:16:39.292847Z",
     "iopub.status.idle": "2022-05-30T12:16:39.295254Z",
     "shell.execute_reply": "2022-05-30T12:16:39.294720Z"
    },
    "papermill": {
     "duration": 0.036781,
     "end_time": "2022-05-30T12:16:39.295355",
     "exception": false,
     "start_time": "2022-05-30T12:16:39.258574",
     "status": "completed"
    },
    "tags": []
   },
   "outputs": [],
   "source": [
    "#hide\n",
    "# g['date'] = g.date.dt.dayofyear"
   ]
  },
  {
   "cell_type": "code",
   "execution_count": 35,
   "id": "inside-dubai",
   "metadata": {
    "execution": {
     "iopub.execute_input": "2022-05-30T12:16:39.361701Z",
     "iopub.status.busy": "2022-05-30T12:16:39.361134Z",
     "iopub.status.idle": "2022-05-30T12:16:39.363482Z",
     "shell.execute_reply": "2022-05-30T12:16:39.362950Z"
    },
    "papermill": {
     "duration": 0.036725,
     "end_time": "2022-05-30T12:16:39.363580",
     "exception": false,
     "start_time": "2022-05-30T12:16:39.326855",
     "status": "completed"
    },
    "tags": []
   },
   "outputs": [],
   "source": [
    "#hide\n",
    "# g = g.rename(columns= {'continent':'group','country':'name','cases':'value'})"
   ]
  },
  {
   "cell_type": "code",
   "execution_count": 36,
   "id": "fleet-motorcycle",
   "metadata": {
    "execution": {
     "iopub.execute_input": "2022-05-30T12:16:39.429967Z",
     "iopub.status.busy": "2022-05-30T12:16:39.429395Z",
     "iopub.status.idle": "2022-05-30T12:16:39.431754Z",
     "shell.execute_reply": "2022-05-30T12:16:39.431218Z"
    },
    "papermill": {
     "duration": 0.036762,
     "end_time": "2022-05-30T12:16:39.431854",
     "exception": false,
     "start_time": "2022-05-30T12:16:39.395092",
     "status": "completed"
    },
    "tags": []
   },
   "outputs": [],
   "source": [
    "#hide\n",
    "# cols = ['name','group','day','value']"
   ]
  },
  {
   "cell_type": "code",
   "execution_count": 37,
   "id": "continued-sleeping",
   "metadata": {
    "execution": {
     "iopub.execute_input": "2022-05-30T12:16:39.497996Z",
     "iopub.status.busy": "2022-05-30T12:16:39.497445Z",
     "iopub.status.idle": "2022-05-30T12:16:39.500903Z",
     "shell.execute_reply": "2022-05-30T12:16:39.501323Z"
    },
    "papermill": {
     "duration": 0.038206,
     "end_time": "2022-05-30T12:16:39.501441",
     "exception": false,
     "start_time": "2022-05-30T12:16:39.463235",
     "status": "completed"
    },
    "tags": []
   },
   "outputs": [],
   "source": [
    "#hide\n",
    "# g.rename(columns= {'date':'day'},inplace = True)"
   ]
  },
  {
   "cell_type": "code",
   "execution_count": 38,
   "id": "major-fight",
   "metadata": {
    "execution": {
     "iopub.execute_input": "2022-05-30T12:16:39.568525Z",
     "iopub.status.busy": "2022-05-30T12:16:39.567930Z",
     "iopub.status.idle": "2022-05-30T12:16:39.569924Z",
     "shell.execute_reply": "2022-05-30T12:16:39.569401Z"
    },
    "papermill": {
     "duration": 0.037001,
     "end_time": "2022-05-30T12:16:39.570024",
     "exception": false,
     "start_time": "2022-05-30T12:16:39.533023",
     "status": "completed"
    },
    "tags": []
   },
   "outputs": [],
   "source": [
    "#hide\n",
    "# g = g[cols]"
   ]
  },
  {
   "cell_type": "code",
   "execution_count": 39,
   "id": "structured-mobile",
   "metadata": {
    "execution": {
     "iopub.execute_input": "2022-05-30T12:16:39.636636Z",
     "iopub.status.busy": "2022-05-30T12:16:39.636041Z",
     "iopub.status.idle": "2022-05-30T12:16:39.638176Z",
     "shell.execute_reply": "2022-05-30T12:16:39.637641Z"
    },
    "papermill": {
     "duration": 0.036593,
     "end_time": "2022-05-30T12:16:39.638277",
     "exception": false,
     "start_time": "2022-05-30T12:16:39.601684",
     "status": "completed"
    },
    "tags": []
   },
   "outputs": [],
   "source": [
    "# #hide\n",
    "# g = g[g.group.notna()]"
   ]
  },
  {
   "cell_type": "code",
   "execution_count": 40,
   "id": "determined-closing",
   "metadata": {
    "execution": {
     "iopub.execute_input": "2022-05-30T12:16:39.705082Z",
     "iopub.status.busy": "2022-05-30T12:16:39.704504Z",
     "iopub.status.idle": "2022-05-30T12:16:39.707069Z",
     "shell.execute_reply": "2022-05-30T12:16:39.706529Z"
    },
    "papermill": {
     "duration": 0.037141,
     "end_time": "2022-05-30T12:16:39.707171",
     "exception": false,
     "start_time": "2022-05-30T12:16:39.670030",
     "status": "completed"
    },
    "tags": []
   },
   "outputs": [],
   "source": [
    "# #hide\n",
    "# colors = dict(zip(\n",
    "#     [\"Oceania\", \"Europe\", \"Asia\", \"South America\", \"Middle East\", \"North America\", \"Africa\"],\n",
    "#     [\"#adb0ff\", \"#ffb3ff\", \"#90d595\", \"#e48381\", \"#aafbff\", \"#f7bb5f\", \"#eafb50\"]\n",
    "# ))\n",
    "# group_lk = g.set_index('name')['group'].to_dict()"
   ]
  },
  {
   "cell_type": "code",
   "execution_count": null,
   "id": "gross-drinking",
   "metadata": {
    "papermill": {
     "duration": 0.031344,
     "end_time": "2022-05-30T12:16:39.769763",
     "exception": false,
     "start_time": "2022-05-30T12:16:39.738419",
     "status": "completed"
    },
    "tags": []
   },
   "outputs": [],
   "source": []
  },
  {
   "cell_type": "code",
   "execution_count": 41,
   "id": "subject-macintosh",
   "metadata": {
    "execution": {
     "iopub.execute_input": "2022-05-30T12:16:39.836737Z",
     "iopub.status.busy": "2022-05-30T12:16:39.836149Z",
     "iopub.status.idle": "2022-05-30T12:16:39.838035Z",
     "shell.execute_reply": "2022-05-30T12:16:39.837509Z"
    },
    "papermill": {
     "duration": 0.036767,
     "end_time": "2022-05-30T12:16:39.838133",
     "exception": false,
     "start_time": "2022-05-30T12:16:39.801366",
     "status": "completed"
    },
    "tags": []
   },
   "outputs": [],
   "source": [
    "# #hide\n",
    "# fig, ax = plt.subplots(figsize=(15, 8))\n",
    "\n",
    "# def draw_barchart(current_day):\n",
    "#     dff = g[g['day'].eq(current_day)].sort_values(by='value', ascending=True).tail(10)\n",
    "#     ax.clear()\n",
    "#     ax.barh(dff['name'], dff['value'], color=[colors[group_lk[x]] for x in dff['name']])\n",
    "#     dx = dff['value'].max() / 200\n",
    "    \n",
    "#     for i, (value, name) in enumerate(zip(dff['value'], dff['name'])):\n",
    "#         ax.text(value-dx, i,     name,           size=14, weight=600, ha='right', va='bottom')\n",
    "#         ax.text(value-dx, i-.25, group_lk[name], size=10, color='#444444', ha='right', va='baseline')\n",
    "#         ax.text(value+dx, i,     f'{value:,.0f}',  size=14, ha='left',  va='center')\n",
    "#     ax.text(1, 0.4, current_day, transform=ax.transAxes, color='#777777', size=46, ha='right', weight=800)\n",
    "#     ax.text(0, 1.06, 'Population (thousands)', transform=ax.transAxes, size=12, color='#777777')\n",
    "#     ax.xaxis.set_major_formatter(ticker.StrMethodFormatter('{x:,.0f}'))\n",
    "#     ax.xaxis.set_ticks_position('top')\n",
    "#     ax.tick_params(axis='x', colors='#777777', labelsize=12)\n",
    "#     ax.set_yticks([])\n",
    "#     ax.margins(0, 0.01)\n",
    "#     ax.grid(which='major', axis='x', linestyle='-')\n",
    "#     ax.set_axisbelow(True)\n",
    "    \n",
    "#     ax.text(0, 1.15, 'Coronavirus',\n",
    "#             transform=ax.transAxes, size=24, weight=600, ha='left', va='top')\n",
    "# #     ax.text(1, 0, 'by @pratapvardhan; credit @jburnmurdoch', transform=ax.transAxes, color='#777777', ha='right',\n",
    "# #             bbox=dict(facecolor='white', alpha=0.8, edgecolor='white'))\n",
    "#     plt.box(False)"
   ]
  },
  {
   "cell_type": "code",
   "execution_count": 42,
   "id": "sexual-wages",
   "metadata": {
    "execution": {
     "iopub.execute_input": "2022-05-30T12:16:39.904352Z",
     "iopub.status.busy": "2022-05-30T12:16:39.903757Z",
     "iopub.status.idle": "2022-05-30T12:16:39.906950Z",
     "shell.execute_reply": "2022-05-30T12:16:39.906492Z"
    },
    "papermill": {
     "duration": 0.037557,
     "end_time": "2022-05-30T12:16:39.907049",
     "exception": false,
     "start_time": "2022-05-30T12:16:39.869492",
     "status": "completed"
    },
    "tags": []
   },
   "outputs": [],
   "source": [
    "# #hide_input\n",
    "# fig, ax = plt.subplots(figsize=(15, 8))\n",
    "# animator = animation.FuncAnimation(fig, draw_barchart, frames=range(g.day.values.min(), g.day.values.max()))\n",
    "# HTML(animator.to_jshtml())\n",
    "# # or use animator.to_html5_video() or animator.save() "
   ]
  },
  {
   "cell_type": "code",
   "execution_count": null,
   "id": "australian-container",
   "metadata": {
    "papermill": {
     "duration": 0.031487,
     "end_time": "2022-05-30T12:16:39.970164",
     "exception": false,
     "start_time": "2022-05-30T12:16:39.938677",
     "status": "completed"
    },
    "tags": []
   },
   "outputs": [],
   "source": []
  },
  {
   "cell_type": "code",
   "execution_count": null,
   "id": "mediterranean-pontiac",
   "metadata": {
    "papermill": {
     "duration": 0.031248,
     "end_time": "2022-05-30T12:16:40.032935",
     "exception": false,
     "start_time": "2022-05-30T12:16:40.001687",
     "status": "completed"
    },
    "tags": []
   },
   "outputs": [],
   "source": []
  },
  {
   "cell_type": "code",
   "execution_count": null,
   "id": "aging-legislature",
   "metadata": {
    "papermill": {
     "duration": 0.031387,
     "end_time": "2022-05-30T12:16:40.095833",
     "exception": false,
     "start_time": "2022-05-30T12:16:40.064446",
     "status": "completed"
    },
    "tags": []
   },
   "outputs": [],
   "source": []
  }
 ],
 "metadata": {
  "kernelspec": {
   "display_name": "Python 3",
   "language": "python",
   "name": "python3"
  },
  "language_info": {
   "codemirror_mode": {
    "name": "ipython",
    "version": 3
   },
   "file_extension": ".py",
   "mimetype": "text/x-python",
   "name": "python",
   "nbconvert_exporter": "python",
   "pygments_lexer": "ipython3",
   "version": "3.6.15"
  },
  "papermill": {
   "duration": 6.096697,
   "end_time": "2022-05-30T12:16:40.444647",
   "environment_variables": {},
   "exception": null,
   "input_path": "2020-03-21-covid19exp.ipynb",
   "output_path": "2020-03-21-covid19exp.ipynb",
   "parameters": {},
   "start_time": "2022-05-30T12:16:34.347950",
   "version": "2.0.0"
  }
 },
 "nbformat": 4,
 "nbformat_minor": 5
}