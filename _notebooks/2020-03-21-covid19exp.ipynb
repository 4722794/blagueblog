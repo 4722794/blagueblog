{
 "cells": [
  {
   "cell_type": "markdown",
   "id": "muslim-click",
   "metadata": {
    "papermill": {
     "duration": 0.042154,
     "end_time": "2022-11-18T00:48:54.557158",
     "exception": false,
     "start_time": "2022-11-18T00:48:54.515004",
     "status": "completed"
    },
    "tags": []
   },
   "source": [
    "# COVID-19 Case Race\n",
    "> A race chart to see rising cases around the world\n",
    "\n",
    "- author: Hargun Oberoi\n",
    "- image: images/covid-overview.png\n",
    "- hide: false\n",
    "- badges: false"
   ]
  },
  {
   "cell_type": "code",
   "execution_count": 1,
   "id": "proof-material",
   "metadata": {
    "execution": {
     "iopub.execute_input": "2022-11-18T00:48:54.635126Z",
     "iopub.status.busy": "2022-11-18T00:48:54.634447Z",
     "iopub.status.idle": "2022-11-18T00:48:55.010057Z",
     "shell.execute_reply": "2022-11-18T00:48:55.009044Z"
    },
    "papermill": {
     "duration": 0.419642,
     "end_time": "2022-11-18T00:48:55.010317",
     "exception": false,
     "start_time": "2022-11-18T00:48:54.590675",
     "status": "completed"
    },
    "tags": []
   },
   "outputs": [],
   "source": [
    "#hide\n",
    "import numpy as np\n",
    "import pandas as pd\n",
    "from jinja2 import Template\n",
    "from IPython.display import HTML"
   ]
  },
  {
   "cell_type": "code",
   "execution_count": 2,
   "id": "developed-terminology",
   "metadata": {
    "execution": {
     "iopub.execute_input": "2022-11-18T00:48:55.084255Z",
     "iopub.status.busy": "2022-11-18T00:48:55.083525Z",
     "iopub.status.idle": "2022-11-18T00:48:55.086249Z",
     "shell.execute_reply": "2022-11-18T00:48:55.085694Z"
    },
    "papermill": {
     "duration": 0.041857,
     "end_time": "2022-11-18T00:48:55.086379",
     "exception": false,
     "start_time": "2022-11-18T00:48:55.044522",
     "status": "completed"
    },
    "tags": []
   },
   "outputs": [],
   "source": [
    "#hide\n",
    "\n",
    "# FETCH\n",
    "base_url = 'https://raw.githubusercontent.com/pratapvardhan/notebooks/master/covid19/'\n",
    "paths = {\n",
    "    'mapping': base_url + 'mapping_countries.csv',\n",
    "    'overview': base_url + 'overview.tpl'\n",
    "}"
   ]
  },
  {
   "cell_type": "code",
   "execution_count": 3,
   "id": "dynamic-saver",
   "metadata": {
    "execution": {
     "iopub.execute_input": "2022-11-18T00:48:55.167939Z",
     "iopub.status.busy": "2022-11-18T00:48:55.167197Z",
     "iopub.status.idle": "2022-11-18T00:48:55.171594Z",
     "shell.execute_reply": "2022-11-18T00:48:55.170891Z"
    },
    "papermill": {
     "duration": 0.051958,
     "end_time": "2022-11-18T00:48:55.171728",
     "exception": false,
     "start_time": "2022-11-18T00:48:55.119770",
     "status": "completed"
    },
    "tags": []
   },
   "outputs": [
    {
     "data": {
      "text/plain": [
       "'https://raw.githubusercontent.com/pratapvardhan/notebooks/master/covid19/mapping_countries.csv'"
      ]
     },
     "execution_count": 3,
     "metadata": {},
     "output_type": "execute_result"
    }
   ],
   "source": [
    "#hide\n",
    "paths['mapping']"
   ]
  },
  {
   "cell_type": "code",
   "execution_count": 4,
   "id": "urban-software",
   "metadata": {
    "execution": {
     "iopub.execute_input": "2022-11-18T00:48:55.247461Z",
     "iopub.status.busy": "2022-11-18T00:48:55.246702Z",
     "iopub.status.idle": "2022-11-18T00:48:55.249589Z",
     "shell.execute_reply": "2022-11-18T00:48:55.249031Z"
    },
    "papermill": {
     "duration": 0.044194,
     "end_time": "2022-11-18T00:48:55.249717",
     "exception": false,
     "start_time": "2022-11-18T00:48:55.205523",
     "status": "completed"
    },
    "tags": []
   },
   "outputs": [],
   "source": [
    "#hide\n",
    "def get_mappings(url):\n",
    "    df = pd.read_csv(url)\n",
    "    return {\n",
    "        'df': df,\n",
    "        'replace.country': dict(df.dropna(subset=['Name']).set_index('Country')['Name']),\n",
    "        'map.continent': dict(df.set_index('Name')['Continent'])\n",
    "    }"
   ]
  },
  {
   "cell_type": "code",
   "execution_count": 5,
   "id": "intimate-machinery",
   "metadata": {
    "execution": {
     "iopub.execute_input": "2022-11-18T00:48:55.326002Z",
     "iopub.status.busy": "2022-11-18T00:48:55.325297Z",
     "iopub.status.idle": "2022-11-18T00:48:55.354940Z",
     "shell.execute_reply": "2022-11-18T00:48:55.354166Z"
    },
    "papermill": {
     "duration": 0.07153,
     "end_time": "2022-11-18T00:48:55.355112",
     "exception": false,
     "start_time": "2022-11-18T00:48:55.283582",
     "status": "completed"
    },
    "tags": []
   },
   "outputs": [],
   "source": [
    "#hide\n",
    "mapping = get_mappings(paths['mapping'])"
   ]
  },
  {
   "cell_type": "code",
   "execution_count": 6,
   "id": "certified-tactics",
   "metadata": {
    "execution": {
     "iopub.execute_input": "2022-11-18T00:48:55.429938Z",
     "iopub.status.busy": "2022-11-18T00:48:55.429205Z",
     "iopub.status.idle": "2022-11-18T00:48:55.432032Z",
     "shell.execute_reply": "2022-11-18T00:48:55.431355Z"
    },
    "papermill": {
     "duration": 0.04308,
     "end_time": "2022-11-18T00:48:55.432162",
     "exception": false,
     "start_time": "2022-11-18T00:48:55.389082",
     "status": "completed"
    },
    "tags": []
   },
   "outputs": [],
   "source": [
    "#hide\n",
    "def get_template(path):\n",
    "    from urllib.parse import urlparse\n",
    "    if bool(urlparse(path).netloc):\n",
    "        from urllib.request import urlopen\n",
    "        return urlopen(path).read().decode('utf8')\n",
    "    return open(path).read()"
   ]
  },
  {
   "cell_type": "code",
   "execution_count": 7,
   "id": "realistic-blast",
   "metadata": {
    "execution": {
     "iopub.execute_input": "2022-11-18T00:48:55.508327Z",
     "iopub.status.busy": "2022-11-18T00:48:55.507608Z",
     "iopub.status.idle": "2022-11-18T00:48:55.509261Z",
     "shell.execute_reply": "2022-11-18T00:48:55.509901Z"
    },
    "papermill": {
     "duration": 0.044204,
     "end_time": "2022-11-18T00:48:55.510051",
     "exception": false,
     "start_time": "2022-11-18T00:48:55.465847",
     "status": "completed"
    },
    "tags": []
   },
   "outputs": [],
   "source": [
    "#hide\n",
    "def get_frame(name):\n",
    "    url = (\n",
    "        'https://raw.githubusercontent.com/CSSEGISandData/COVID-19/master/csse_covid_19_data/'\n",
    "        f'csse_covid_19_time_series/time_series_covid19_{name}_global.csv')\n",
    "    df = pd.read_csv(url)\n",
    "    # rename countries\n",
    "    df['Country/Region'] = df['Country/Region'].replace(mapping['replace.country'])\n",
    "    return df"
   ]
  },
  {
   "cell_type": "code",
   "execution_count": 8,
   "id": "affiliated-characterization",
   "metadata": {
    "execution": {
     "iopub.execute_input": "2022-11-18T00:48:55.587677Z",
     "iopub.status.busy": "2022-11-18T00:48:55.586919Z",
     "iopub.status.idle": "2022-11-18T00:48:55.590342Z",
     "shell.execute_reply": "2022-11-18T00:48:55.590892Z"
    },
    "papermill": {
     "duration": 0.047179,
     "end_time": "2022-11-18T00:48:55.591042",
     "exception": false,
     "start_time": "2022-11-18T00:48:55.543863",
     "status": "completed"
    },
    "tags": []
   },
   "outputs": [],
   "source": [
    "#hide\n",
    "def get_dates(df):\n",
    "    dt_cols = df.columns[~df.columns.isin(['Province/State', 'Country/Region', 'Lat', 'Long'])]\n",
    "    LAST_DATE_I = -1\n",
    "    # sometimes last column may be empty, then go backwards\n",
    "    for i in range(-1, -len(dt_cols), -1):\n",
    "        if not df[dt_cols[i]].fillna(0).eq(0).all():\n",
    "            LAST_DATE_I = i\n",
    "            break\n",
    "    return LAST_DATE_I, dt_cols"
   ]
  },
  {
   "cell_type": "code",
   "execution_count": 9,
   "id": "recent-optimization",
   "metadata": {
    "execution": {
     "iopub.execute_input": "2022-11-18T00:48:55.664391Z",
     "iopub.status.busy": "2022-11-18T00:48:55.663686Z",
     "iopub.status.idle": "2022-11-18T00:48:56.114410Z",
     "shell.execute_reply": "2022-11-18T00:48:56.113833Z"
    },
    "papermill": {
     "duration": 0.489953,
     "end_time": "2022-11-18T00:48:56.114553",
     "exception": false,
     "start_time": "2022-11-18T00:48:55.624600",
     "status": "completed"
    },
    "tags": []
   },
   "outputs": [],
   "source": [
    "#hide\n",
    "COL_REGION = 'Country/Region'\n",
    "# Confirmed, Recovered, Deaths\n",
    "df = get_frame('confirmed')\n",
    "# dft_: timeseries, dfc_: today country agg\n",
    "dft_cases = df\n",
    "dft_deaths = get_frame('deaths')\n",
    "dft_recovered = get_frame('recovered')\n",
    "LAST_DATE_I, dt_cols = get_dates(df)"
   ]
  },
  {
   "cell_type": "code",
   "execution_count": 10,
   "id": "absolute-copper",
   "metadata": {
    "execution": {
     "iopub.execute_input": "2022-11-18T00:48:56.198471Z",
     "iopub.status.busy": "2022-11-18T00:48:56.197449Z",
     "iopub.status.idle": "2022-11-18T00:48:56.199212Z",
     "shell.execute_reply": "2022-11-18T00:48:56.199760Z"
    },
    "papermill": {
     "duration": 0.050643,
     "end_time": "2022-11-18T00:48:56.199907",
     "exception": false,
     "start_time": "2022-11-18T00:48:56.149264",
     "status": "completed"
    },
    "tags": []
   },
   "outputs": [],
   "source": [
    "#hide\n",
    "LAST_DATE_I, dt_cols = get_dates(df)\n",
    "dt_today =dt_cols[LAST_DATE_I]\n",
    "# dt_5day = dt_cols[LAST_DATE_I - 5]\n",
    "dt_yday = dt_cols[LAST_DATE_I - 1]"
   ]
  },
  {
   "cell_type": "code",
   "execution_count": 11,
   "id": "restricted-sheriff",
   "metadata": {
    "execution": {
     "iopub.execute_input": "2022-11-18T00:48:56.276101Z",
     "iopub.status.busy": "2022-11-18T00:48:56.275407Z",
     "iopub.status.idle": "2022-11-18T00:48:56.282016Z",
     "shell.execute_reply": "2022-11-18T00:48:56.281460Z"
    },
    "papermill": {
     "duration": 0.048952,
     "end_time": "2022-11-18T00:48:56.282145",
     "exception": false,
     "start_time": "2022-11-18T00:48:56.233193",
     "status": "completed"
    },
    "tags": []
   },
   "outputs": [],
   "source": [
    "#hide\n",
    "dfc_cases = dft_cases.groupby(COL_REGION)[dt_today].sum()\n",
    "dfc_deaths = dft_deaths.groupby(COL_REGION)[dt_today].sum()\n",
    "# dfp_cases = dft_cases.groupby(COL_REGION)[dt_5day].sum()\n",
    "# dfp_deaths = dft_deaths.groupby(COL_REGION)[dt_5day].sum()\n",
    "dfp_cases = dft_cases.groupby(COL_REGION)[dt_yday].sum()\n",
    "dfp_deaths = dft_deaths.groupby(COL_REGION)[dt_yday].sum()"
   ]
  },
  {
   "cell_type": "code",
   "execution_count": 12,
   "id": "deluxe-hepatitis",
   "metadata": {
    "execution": {
     "iopub.execute_input": "2022-11-18T00:48:56.359377Z",
     "iopub.status.busy": "2022-11-18T00:48:56.358657Z",
     "iopub.status.idle": "2022-11-18T00:48:56.365489Z",
     "shell.execute_reply": "2022-11-18T00:48:56.364938Z"
    },
    "papermill": {
     "duration": 0.049811,
     "end_time": "2022-11-18T00:48:56.365618",
     "exception": false,
     "start_time": "2022-11-18T00:48:56.315807",
     "status": "completed"
    },
    "tags": []
   },
   "outputs": [],
   "source": [
    "#hide\n",
    "df_table = (pd.DataFrame(dict(Cases = dfc_cases, Deaths = dfc_deaths, PCases = dfp_cases, PDeaths = dfp_deaths))\n",
    "            .sort_values(by = ['Cases','Deaths'], ascending = [False, False])\n",
    "            .reset_index())"
   ]
  },
  {
   "cell_type": "code",
   "execution_count": 13,
   "id": "educational-chancellor",
   "metadata": {
    "execution": {
     "iopub.execute_input": "2022-11-18T00:48:56.452707Z",
     "iopub.status.busy": "2022-11-18T00:48:56.451995Z",
     "iopub.status.idle": "2022-11-18T00:48:56.461417Z",
     "shell.execute_reply": "2022-11-18T00:48:56.461967Z"
    },
    "papermill": {
     "duration": 0.062778,
     "end_time": "2022-11-18T00:48:56.462131",
     "exception": false,
     "start_time": "2022-11-18T00:48:56.399353",
     "status": "completed"
    },
    "tags": []
   },
   "outputs": [
    {
     "data": {
      "text/html": [
       "<div>\n",
       "<style scoped>\n",
       "    .dataframe tbody tr th:only-of-type {\n",
       "        vertical-align: middle;\n",
       "    }\n",
       "\n",
       "    .dataframe tbody tr th {\n",
       "        vertical-align: top;\n",
       "    }\n",
       "\n",
       "    .dataframe thead th {\n",
       "        text-align: right;\n",
       "    }\n",
       "</style>\n",
       "<table border=\"1\" class=\"dataframe\">\n",
       "  <thead>\n",
       "    <tr style=\"text-align: right;\">\n",
       "      <th></th>\n",
       "      <th>Country/Region</th>\n",
       "      <th>Cases</th>\n",
       "      <th>Deaths</th>\n",
       "      <th>PCases</th>\n",
       "      <th>PDeaths</th>\n",
       "      <th>Cases (+)</th>\n",
       "      <th>Deaths (+)</th>\n",
       "      <th>Fatality Rate</th>\n",
       "      <th>Continent</th>\n",
       "    </tr>\n",
       "  </thead>\n",
       "  <tbody>\n",
       "    <tr>\n",
       "      <th>0</th>\n",
       "      <td>US</td>\n",
       "      <td>98193437</td>\n",
       "      <td>1076085</td>\n",
       "      <td>98110341</td>\n",
       "      <td>1075260</td>\n",
       "      <td>83096</td>\n",
       "      <td>825</td>\n",
       "      <td>1.10</td>\n",
       "      <td>North America</td>\n",
       "    </tr>\n",
       "    <tr>\n",
       "      <th>1</th>\n",
       "      <td>India</td>\n",
       "      <td>44668535</td>\n",
       "      <td>530546</td>\n",
       "      <td>44667900</td>\n",
       "      <td>530535</td>\n",
       "      <td>635</td>\n",
       "      <td>11</td>\n",
       "      <td>1.19</td>\n",
       "      <td>Asia</td>\n",
       "    </tr>\n",
       "    <tr>\n",
       "      <th>2</th>\n",
       "      <td>France</td>\n",
       "      <td>37437677</td>\n",
       "      <td>159042</td>\n",
       "      <td>37403757</td>\n",
       "      <td>158981</td>\n",
       "      <td>33920</td>\n",
       "      <td>61</td>\n",
       "      <td>0.42</td>\n",
       "      <td>Europe</td>\n",
       "    </tr>\n",
       "    <tr>\n",
       "      <th>3</th>\n",
       "      <td>Germany</td>\n",
       "      <td>36152490</td>\n",
       "      <td>156192</td>\n",
       "      <td>36119184</td>\n",
       "      <td>156030</td>\n",
       "      <td>33306</td>\n",
       "      <td>162</td>\n",
       "      <td>0.43</td>\n",
       "      <td>Europe</td>\n",
       "    </tr>\n",
       "    <tr>\n",
       "      <th>4</th>\n",
       "      <td>Brazil</td>\n",
       "      <td>34938073</td>\n",
       "      <td>688764</td>\n",
       "      <td>34908198</td>\n",
       "      <td>688656</td>\n",
       "      <td>29875</td>\n",
       "      <td>108</td>\n",
       "      <td>1.97</td>\n",
       "      <td>South America</td>\n",
       "    </tr>\n",
       "  </tbody>\n",
       "</table>\n",
       "</div>"
      ],
      "text/plain": [
       "  Country/Region     Cases   Deaths    PCases  PDeaths  Cases (+)  Deaths (+)  \\\n",
       "0             US  98193437  1076085  98110341  1075260      83096         825   \n",
       "1          India  44668535   530546  44667900   530535        635          11   \n",
       "2         France  37437677   159042  37403757   158981      33920          61   \n",
       "3        Germany  36152490   156192  36119184   156030      33306         162   \n",
       "4         Brazil  34938073   688764  34908198   688656      29875         108   \n",
       "\n",
       "   Fatality Rate      Continent  \n",
       "0           1.10  North America  \n",
       "1           1.19           Asia  \n",
       "2           0.42         Europe  \n",
       "3           0.43         Europe  \n",
       "4           1.97  South America  "
      ]
     },
     "execution_count": 13,
     "metadata": {},
     "output_type": "execute_result"
    }
   ],
   "source": [
    "#hide\n",
    "for c in 'Cases, Deaths'.split(', '):\n",
    "    df_table[f'{c} (+)'] = (df_table[c] - df_table[f'P{c}']).clip(0)\n",
    "    #Clip ça veut dire, les chiffres negatif sont interdit\n",
    "df_table['Fatality Rate'] = (100* df_table['Deaths']/ df_table['Cases']).round(2)\n",
    "df_table['Continent'] = df_table['Country/Region'].map(mapping['map.continent'])\n",
    "df_table.head(5)"
   ]
  },
  {
   "cell_type": "code",
   "execution_count": 14,
   "id": "aboriginal-bulgaria",
   "metadata": {
    "execution": {
     "iopub.execute_input": "2022-11-18T00:48:56.537823Z",
     "iopub.status.busy": "2022-11-18T00:48:56.537115Z",
     "iopub.status.idle": "2022-11-18T00:48:56.539991Z",
     "shell.execute_reply": "2022-11-18T00:48:56.539309Z"
    },
    "papermill": {
     "duration": 0.043893,
     "end_time": "2022-11-18T00:48:56.540122",
     "exception": false,
     "start_time": "2022-11-18T00:48:56.496229",
     "status": "completed"
    },
    "tags": []
   },
   "outputs": [],
   "source": [
    "#hide\n",
    "#delete problematic countries from table\n",
    "df_table = df_table[~df_table['Country/Region'].isin(['Cape Verde', 'Cruise Ship', 'Kosovo'])]"
   ]
  },
  {
   "cell_type": "code",
   "execution_count": 15,
   "id": "fantastic-effect",
   "metadata": {
    "execution": {
     "iopub.execute_input": "2022-11-18T00:48:56.620235Z",
     "iopub.status.busy": "2022-11-18T00:48:56.619493Z",
     "iopub.status.idle": "2022-11-18T00:48:56.639896Z",
     "shell.execute_reply": "2022-11-18T00:48:56.640624Z"
    },
    "papermill": {
     "duration": 0.066268,
     "end_time": "2022-11-18T00:48:56.640829",
     "exception": false,
     "start_time": "2022-11-18T00:48:56.574561",
     "status": "completed"
    },
    "tags": []
   },
   "outputs": [
    {
     "data": {
      "text/html": [
       "<div>\n",
       "<style scoped>\n",
       "    .dataframe tbody tr th:only-of-type {\n",
       "        vertical-align: middle;\n",
       "    }\n",
       "\n",
       "    .dataframe tbody tr th {\n",
       "        vertical-align: top;\n",
       "    }\n",
       "\n",
       "    .dataframe thead th {\n",
       "        text-align: right;\n",
       "    }\n",
       "</style>\n",
       "<table border=\"1\" class=\"dataframe\">\n",
       "  <thead>\n",
       "    <tr style=\"text-align: right;\">\n",
       "      <th></th>\n",
       "      <th>Country/Region</th>\n",
       "      <th>Cases</th>\n",
       "      <th>Deaths</th>\n",
       "      <th>PCases</th>\n",
       "      <th>PDeaths</th>\n",
       "      <th>Cases (+)</th>\n",
       "      <th>Deaths (+)</th>\n",
       "      <th>Fatality Rate</th>\n",
       "      <th>Continent</th>\n",
       "    </tr>\n",
       "  </thead>\n",
       "  <tbody>\n",
       "    <tr>\n",
       "      <th>0</th>\n",
       "      <td>US</td>\n",
       "      <td>98193437</td>\n",
       "      <td>1076085</td>\n",
       "      <td>98110341</td>\n",
       "      <td>1075260</td>\n",
       "      <td>83096</td>\n",
       "      <td>825</td>\n",
       "      <td>1.1</td>\n",
       "      <td>North America</td>\n",
       "    </tr>\n",
       "    <tr>\n",
       "      <th>1</th>\n",
       "      <td>India</td>\n",
       "      <td>44668535</td>\n",
       "      <td>530546</td>\n",
       "      <td>44667900</td>\n",
       "      <td>530535</td>\n",
       "      <td>635</td>\n",
       "      <td>11</td>\n",
       "      <td>1.2</td>\n",
       "      <td>Asia</td>\n",
       "    </tr>\n",
       "    <tr>\n",
       "      <th>2</th>\n",
       "      <td>France</td>\n",
       "      <td>37437677</td>\n",
       "      <td>159042</td>\n",
       "      <td>37403757</td>\n",
       "      <td>158981</td>\n",
       "      <td>33920</td>\n",
       "      <td>61</td>\n",
       "      <td>0.4</td>\n",
       "      <td>Europe</td>\n",
       "    </tr>\n",
       "    <tr>\n",
       "      <th>3</th>\n",
       "      <td>Germany</td>\n",
       "      <td>36152490</td>\n",
       "      <td>156192</td>\n",
       "      <td>36119184</td>\n",
       "      <td>156030</td>\n",
       "      <td>33306</td>\n",
       "      <td>162</td>\n",
       "      <td>0.4</td>\n",
       "      <td>Europe</td>\n",
       "    </tr>\n",
       "    <tr>\n",
       "      <th>4</th>\n",
       "      <td>Brazil</td>\n",
       "      <td>34938073</td>\n",
       "      <td>688764</td>\n",
       "      <td>34908198</td>\n",
       "      <td>688656</td>\n",
       "      <td>29875</td>\n",
       "      <td>108</td>\n",
       "      <td>2.0</td>\n",
       "      <td>South America</td>\n",
       "    </tr>\n",
       "  </tbody>\n",
       "</table>\n",
       "</div>"
      ],
      "text/plain": [
       "  Country/Region     Cases   Deaths    PCases  PDeaths  Cases (+)  Deaths (+)  \\\n",
       "0             US  98193437  1076085  98110341  1075260      83096         825   \n",
       "1          India  44668535   530546  44667900   530535        635          11   \n",
       "2         France  37437677   159042  37403757   158981      33920          61   \n",
       "3        Germany  36152490   156192  36119184   156030      33306         162   \n",
       "4         Brazil  34938073   688764  34908198   688656      29875         108   \n",
       "\n",
       "   Fatality Rate      Continent  \n",
       "0            1.1  North America  \n",
       "1            1.2           Asia  \n",
       "2            0.4         Europe  \n",
       "3            0.4         Europe  \n",
       "4            2.0  South America  "
      ]
     },
     "execution_count": 15,
     "metadata": {},
     "output_type": "execute_result"
    }
   ],
   "source": [
    "#hide\n",
    "df_table = (pd.DataFrame(dict(Cases=dfc_cases, Deaths=dfc_deaths, PCases=dfp_cases, PDeaths=dfp_deaths))\n",
    "             .sort_values(by=['Cases', 'Deaths'], ascending=[False, False])\n",
    "             .reset_index())\n",
    "df_table.rename(columns={'index': 'Country/Region'}, inplace=True)\n",
    "for c in 'Cases, Deaths'.split(', '):\n",
    "    df_table[f'{c} (+)'] = (df_table[c] - df_table[f'P{c}']).clip(0)  # DATA BUG\n",
    "df_table['Fatality Rate'] = (100 * df_table['Deaths'] / df_table['Cases']).round(1)\n",
    "df_table['Continent'] = df_table['Country/Region'].map(mapping['map.continent'])\n",
    "df_table.head(5)"
   ]
  },
  {
   "cell_type": "code",
   "execution_count": 16,
   "id": "fewer-occasion",
   "metadata": {
    "execution": {
     "iopub.execute_input": "2022-11-18T00:48:56.720415Z",
     "iopub.status.busy": "2022-11-18T00:48:56.719720Z",
     "iopub.status.idle": "2022-11-18T00:48:56.722944Z",
     "shell.execute_reply": "2022-11-18T00:48:56.722280Z"
    },
    "papermill": {
     "duration": 0.045647,
     "end_time": "2022-11-18T00:48:56.723075",
     "exception": false,
     "start_time": "2022-11-18T00:48:56.677428",
     "status": "completed"
    },
    "tags": []
   },
   "outputs": [],
   "source": [
    "#hide\n",
    "#delete problematic countries from table\n",
    "df_table = df_table[~df_table['Country/Region'].isin(['Cape Verde', 'Cruise Ship', 'Kosovo'])]"
   ]
  },
  {
   "cell_type": "code",
   "execution_count": 17,
   "id": "related-center",
   "metadata": {
    "execution": {
     "iopub.execute_input": "2022-11-18T00:48:56.816815Z",
     "iopub.status.busy": "2022-11-18T00:48:56.816069Z",
     "iopub.status.idle": "2022-11-18T00:48:56.817647Z",
     "shell.execute_reply": "2022-11-18T00:48:56.818283Z"
    },
    "papermill": {
     "duration": 0.060507,
     "end_time": "2022-11-18T00:48:56.818439",
     "exception": false,
     "start_time": "2022-11-18T00:48:56.757932",
     "status": "completed"
    },
    "tags": []
   },
   "outputs": [],
   "source": [
    "#hide\n",
    "metrics = [df_table.columns[index] for index in [1,2,5,6]]\n",
    "# s_china = df_table[df_table['Country/Region'].eq('China')][metrics].sum().add_prefix('China ')\n",
    "s_us = df_table[df_table['Country/Region'].eq('US')][metrics].sum().add_prefix('US ')\n",
    "s_eu = df_table[df_table['Continent'].eq('Europe')][metrics].sum().add_prefix('EU ')\n",
    "s_ind = df_table[df_table['Country/Region'].eq('India')][metrics].sum().add_prefix('India ')\n",
    "summary = {'updated': pd.to_datetime(dt_today), 'since': pd.to_datetime(dt_yday)}\n",
    "summary = {'updated': pd.to_datetime(dt_today), 'since': pd.to_datetime(dt_yday)}\n",
    "summary = {**summary, **df_table[metrics].sum(), **s_ind, **s_us, **s_eu}"
   ]
  },
  {
   "cell_type": "code",
   "execution_count": 18,
   "id": "engaging-syndrome",
   "metadata": {
    "execution": {
     "iopub.execute_input": "2022-11-18T00:48:56.899274Z",
     "iopub.status.busy": "2022-11-18T00:48:56.898468Z",
     "iopub.status.idle": "2022-11-18T00:48:56.923642Z",
     "shell.execute_reply": "2022-11-18T00:48:56.922826Z"
    },
    "papermill": {
     "duration": 0.069983,
     "end_time": "2022-11-18T00:48:56.923823",
     "exception": false,
     "start_time": "2022-11-18T00:48:56.853840",
     "status": "completed"
    },
    "tags": []
   },
   "outputs": [],
   "source": [
    "#hide\n",
    "dft_ct_new_cases = dft_cases.groupby(COL_REGION)[dt_cols].sum().diff(axis=1).fillna(0).astype(int)"
   ]
  },
  {
   "cell_type": "code",
   "execution_count": 19,
   "id": "neutral-assignment",
   "metadata": {
    "execution": {
     "iopub.execute_input": "2022-11-18T00:48:57.012751Z",
     "iopub.status.busy": "2022-11-18T00:48:57.012042Z",
     "iopub.status.idle": "2022-11-18T00:48:57.013753Z",
     "shell.execute_reply": "2022-11-18T00:48:57.014376Z"
    },
    "papermill": {
     "duration": 0.053732,
     "end_time": "2022-11-18T00:48:57.014526",
     "exception": false,
     "start_time": "2022-11-18T00:48:56.960794",
     "status": "completed"
    },
    "tags": []
   },
   "outputs": [],
   "source": [
    "#hide\n",
    "everydaycases = dft_ct_new_cases.cumsum(axis=1)"
   ]
  },
  {
   "cell_type": "code",
   "execution_count": 20,
   "id": "parliamentary-calgary",
   "metadata": {
    "execution": {
     "iopub.execute_input": "2022-11-18T00:48:57.090450Z",
     "iopub.status.busy": "2022-11-18T00:48:57.089730Z",
     "iopub.status.idle": "2022-11-18T00:48:57.736090Z",
     "shell.execute_reply": "2022-11-18T00:48:57.735499Z"
    },
    "papermill": {
     "duration": 0.687133,
     "end_time": "2022-11-18T00:48:57.736234",
     "exception": false,
     "start_time": "2022-11-18T00:48:57.049101",
     "status": "completed"
    },
    "tags": []
   },
   "outputs": [],
   "source": [
    "#hide\n",
    "import pandas as pd\n",
    "import matplotlib.pyplot as plt\n",
    "import matplotlib.ticker as ticker\n",
    "import matplotlib.animation as animation\n",
    "from IPython.display import HTML"
   ]
  },
  {
   "cell_type": "code",
   "execution_count": 21,
   "id": "lasting-extraction",
   "metadata": {
    "execution": {
     "iopub.execute_input": "2022-11-18T00:48:57.816928Z",
     "iopub.status.busy": "2022-11-18T00:48:57.816230Z",
     "iopub.status.idle": "2022-11-18T00:48:57.824655Z",
     "shell.execute_reply": "2022-11-18T00:48:57.824093Z"
    },
    "papermill": {
     "duration": 0.053594,
     "end_time": "2022-11-18T00:48:57.824789",
     "exception": false,
     "start_time": "2022-11-18T00:48:57.771195",
     "status": "completed"
    },
    "tags": []
   },
   "outputs": [],
   "source": [
    "#hide\n",
    "t = everydaycases.stack()"
   ]
  },
  {
   "cell_type": "code",
   "execution_count": 22,
   "id": "premier-sleeve",
   "metadata": {
    "execution": {
     "iopub.execute_input": "2022-11-18T00:48:57.901580Z",
     "iopub.status.busy": "2022-11-18T00:48:57.900887Z",
     "iopub.status.idle": "2022-11-18T00:48:57.917015Z",
     "shell.execute_reply": "2022-11-18T00:48:57.917573Z"
    },
    "papermill": {
     "duration": 0.058001,
     "end_time": "2022-11-18T00:48:57.917730",
     "exception": false,
     "start_time": "2022-11-18T00:48:57.859729",
     "status": "completed"
    },
    "tags": []
   },
   "outputs": [],
   "source": [
    "#hide\n",
    "g = t.reset_index(['Country/Region'])"
   ]
  },
  {
   "cell_type": "code",
   "execution_count": 23,
   "id": "distributed-pittsburgh",
   "metadata": {
    "execution": {
     "iopub.execute_input": "2022-11-18T00:48:57.994718Z",
     "iopub.status.busy": "2022-11-18T00:48:57.993483Z",
     "iopub.status.idle": "2022-11-18T00:48:57.996098Z",
     "shell.execute_reply": "2022-11-18T00:48:57.996710Z"
    },
    "papermill": {
     "duration": 0.044367,
     "end_time": "2022-11-18T00:48:57.996867",
     "exception": false,
     "start_time": "2022-11-18T00:48:57.952500",
     "status": "completed"
    },
    "tags": []
   },
   "outputs": [],
   "source": [
    "#hide\n",
    "g.index.name = 'date'"
   ]
  },
  {
   "cell_type": "code",
   "execution_count": 24,
   "id": "naked-donor",
   "metadata": {
    "execution": {
     "iopub.execute_input": "2022-11-18T00:48:58.072050Z",
     "iopub.status.busy": "2022-11-18T00:48:58.071328Z",
     "iopub.status.idle": "2022-11-18T00:48:58.074129Z",
     "shell.execute_reply": "2022-11-18T00:48:58.074772Z"
    },
    "papermill": {
     "duration": 0.043026,
     "end_time": "2022-11-18T00:48:58.074922",
     "exception": false,
     "start_time": "2022-11-18T00:48:58.031896",
     "status": "completed"
    },
    "tags": []
   },
   "outputs": [],
   "source": [
    "# #hide\n",
    "# g = g.reset_index(['date'])"
   ]
  },
  {
   "cell_type": "code",
   "execution_count": 25,
   "id": "incomplete-mustang",
   "metadata": {
    "execution": {
     "iopub.execute_input": "2022-11-18T00:48:58.150383Z",
     "iopub.status.busy": "2022-11-18T00:48:58.149698Z",
     "iopub.status.idle": "2022-11-18T00:48:58.152443Z",
     "shell.execute_reply": "2022-11-18T00:48:58.152997Z"
    },
    "papermill": {
     "duration": 0.043282,
     "end_time": "2022-11-18T00:48:58.153149",
     "exception": false,
     "start_time": "2022-11-18T00:48:58.109867",
     "status": "completed"
    },
    "tags": []
   },
   "outputs": [],
   "source": [
    "#hide\n",
    "# g.head()"
   ]
  },
  {
   "cell_type": "code",
   "execution_count": 26,
   "id": "specific-kruger",
   "metadata": {
    "execution": {
     "iopub.execute_input": "2022-11-18T00:48:58.229767Z",
     "iopub.status.busy": "2022-11-18T00:48:58.228572Z",
     "iopub.status.idle": "2022-11-18T00:48:58.230936Z",
     "shell.execute_reply": "2022-11-18T00:48:58.231490Z"
    },
    "papermill": {
     "duration": 0.043516,
     "end_time": "2022-11-18T00:48:58.231644",
     "exception": false,
     "start_time": "2022-11-18T00:48:58.188128",
     "status": "completed"
    },
    "tags": []
   },
   "outputs": [],
   "source": [
    "#hide\n",
    "# g.columns = ['date','country','cases']"
   ]
  },
  {
   "cell_type": "code",
   "execution_count": 27,
   "id": "tender-conversion",
   "metadata": {
    "execution": {
     "iopub.execute_input": "2022-11-18T00:48:58.307993Z",
     "iopub.status.busy": "2022-11-18T00:48:58.306719Z",
     "iopub.status.idle": "2022-11-18T00:48:58.309290Z",
     "shell.execute_reply": "2022-11-18T00:48:58.310176Z"
    },
    "papermill": {
     "duration": 0.044022,
     "end_time": "2022-11-18T00:48:58.310411",
     "exception": false,
     "start_time": "2022-11-18T00:48:58.266389",
     "status": "completed"
    },
    "tags": []
   },
   "outputs": [],
   "source": [
    "#hide\n",
    "# g['continent'] = g.country"
   ]
  },
  {
   "cell_type": "code",
   "execution_count": 28,
   "id": "substantial-wilderness",
   "metadata": {
    "execution": {
     "iopub.execute_input": "2022-11-18T00:48:58.385963Z",
     "iopub.status.busy": "2022-11-18T00:48:58.385178Z",
     "iopub.status.idle": "2022-11-18T00:48:58.387094Z",
     "shell.execute_reply": "2022-11-18T00:48:58.387725Z"
    },
    "papermill": {
     "duration": 0.041966,
     "end_time": "2022-11-18T00:48:58.387888",
     "exception": false,
     "start_time": "2022-11-18T00:48:58.345922",
     "status": "completed"
    },
    "tags": []
   },
   "outputs": [],
   "source": [
    "#hide\n",
    "# cols = list(g.columns.values)"
   ]
  },
  {
   "cell_type": "code",
   "execution_count": 29,
   "id": "solved-farming",
   "metadata": {
    "execution": {
     "iopub.execute_input": "2022-11-18T00:48:58.465231Z",
     "iopub.status.busy": "2022-11-18T00:48:58.464368Z",
     "iopub.status.idle": "2022-11-18T00:48:58.465974Z",
     "shell.execute_reply": "2022-11-18T00:48:58.466496Z"
    },
    "papermill": {
     "duration": 0.042932,
     "end_time": "2022-11-18T00:48:58.466656",
     "exception": false,
     "start_time": "2022-11-18T00:48:58.423724",
     "status": "completed"
    },
    "tags": []
   },
   "outputs": [],
   "source": [
    "#hide\n",
    "# cols.insert(0, cols.pop())"
   ]
  },
  {
   "cell_type": "code",
   "execution_count": 30,
   "id": "executed-adoption",
   "metadata": {
    "execution": {
     "iopub.execute_input": "2022-11-18T00:48:58.541635Z",
     "iopub.status.busy": "2022-11-18T00:48:58.540914Z",
     "iopub.status.idle": "2022-11-18T00:48:58.545252Z",
     "shell.execute_reply": "2022-11-18T00:48:58.545756Z"
    },
    "papermill": {
     "duration": 0.044293,
     "end_time": "2022-11-18T00:48:58.545913",
     "exception": false,
     "start_time": "2022-11-18T00:48:58.501620",
     "status": "completed"
    },
    "tags": []
   },
   "outputs": [],
   "source": [
    "#hide\n",
    "# g = g[cols]"
   ]
  },
  {
   "cell_type": "code",
   "execution_count": 31,
   "id": "subject-dublin",
   "metadata": {
    "execution": {
     "iopub.execute_input": "2022-11-18T00:48:58.622993Z",
     "iopub.status.busy": "2022-11-18T00:48:58.622316Z",
     "iopub.status.idle": "2022-11-18T00:48:58.626148Z",
     "shell.execute_reply": "2022-11-18T00:48:58.625583Z"
    },
    "papermill": {
     "duration": 0.04474,
     "end_time": "2022-11-18T00:48:58.626275",
     "exception": false,
     "start_time": "2022-11-18T00:48:58.581535",
     "status": "completed"
    },
    "tags": []
   },
   "outputs": [],
   "source": [
    "#hide\n",
    "# g['continent'] = g['continent'].map(mapping['map.continent'])"
   ]
  },
  {
   "cell_type": "code",
   "execution_count": 32,
   "id": "freelance-scout",
   "metadata": {
    "execution": {
     "iopub.execute_input": "2022-11-18T00:48:58.703362Z",
     "iopub.status.busy": "2022-11-18T00:48:58.702652Z",
     "iopub.status.idle": "2022-11-18T00:48:58.705578Z",
     "shell.execute_reply": "2022-11-18T00:48:58.706236Z"
    },
    "papermill": {
     "duration": 0.044602,
     "end_time": "2022-11-18T00:48:58.706384",
     "exception": false,
     "start_time": "2022-11-18T00:48:58.661782",
     "status": "completed"
    },
    "tags": []
   },
   "outputs": [],
   "source": [
    "#hide\n",
    "# g.head()"
   ]
  },
  {
   "cell_type": "code",
   "execution_count": 33,
   "id": "limited-engine",
   "metadata": {
    "execution": {
     "iopub.execute_input": "2022-11-18T00:48:58.794983Z",
     "iopub.status.busy": "2022-11-18T00:48:58.793589Z",
     "iopub.status.idle": "2022-11-18T00:48:58.796378Z",
     "shell.execute_reply": "2022-11-18T00:48:58.797270Z"
    },
    "papermill": {
     "duration": 0.050607,
     "end_time": "2022-11-18T00:48:58.797497",
     "exception": false,
     "start_time": "2022-11-18T00:48:58.746890",
     "status": "completed"
    },
    "tags": []
   },
   "outputs": [],
   "source": [
    "# hide\n",
    "# g['date'] = g['date'].astype('datetime64[ns]')"
   ]
  },
  {
   "cell_type": "code",
   "execution_count": 34,
   "id": "sophisticated-supervisor",
   "metadata": {
    "execution": {
     "iopub.execute_input": "2022-11-18T00:48:58.872505Z",
     "iopub.status.busy": "2022-11-18T00:48:58.871816Z",
     "iopub.status.idle": "2022-11-18T00:48:58.876043Z",
     "shell.execute_reply": "2022-11-18T00:48:58.876535Z"
    },
    "papermill": {
     "duration": 0.043884,
     "end_time": "2022-11-18T00:48:58.876679",
     "exception": false,
     "start_time": "2022-11-18T00:48:58.832795",
     "status": "completed"
    },
    "tags": []
   },
   "outputs": [],
   "source": [
    "#hide\n",
    "# g['date'] = g.date.dt.dayofyear"
   ]
  },
  {
   "cell_type": "code",
   "execution_count": 35,
   "id": "inside-dubai",
   "metadata": {
    "execution": {
     "iopub.execute_input": "2022-11-18T00:48:58.951355Z",
     "iopub.status.busy": "2022-11-18T00:48:58.950464Z",
     "iopub.status.idle": "2022-11-18T00:48:58.952732Z",
     "shell.execute_reply": "2022-11-18T00:48:58.952090Z"
    },
    "papermill": {
     "duration": 0.041997,
     "end_time": "2022-11-18T00:48:58.952855",
     "exception": false,
     "start_time": "2022-11-18T00:48:58.910858",
     "status": "completed"
    },
    "tags": []
   },
   "outputs": [],
   "source": [
    "#hide\n",
    "# g = g.rename(columns= {'continent':'group','country':'name','cases':'value'})"
   ]
  },
  {
   "cell_type": "code",
   "execution_count": 36,
   "id": "fleet-motorcycle",
   "metadata": {
    "execution": {
     "iopub.execute_input": "2022-11-18T00:48:59.027819Z",
     "iopub.status.busy": "2022-11-18T00:48:59.027085Z",
     "iopub.status.idle": "2022-11-18T00:48:59.030821Z",
     "shell.execute_reply": "2022-11-18T00:48:59.030259Z"
    },
    "papermill": {
     "duration": 0.043234,
     "end_time": "2022-11-18T00:48:59.030948",
     "exception": false,
     "start_time": "2022-11-18T00:48:58.987714",
     "status": "completed"
    },
    "tags": []
   },
   "outputs": [],
   "source": [
    "#hide\n",
    "# cols = ['name','group','day','value']"
   ]
  },
  {
   "cell_type": "code",
   "execution_count": 37,
   "id": "continued-sleeping",
   "metadata": {
    "execution": {
     "iopub.execute_input": "2022-11-18T00:48:59.106156Z",
     "iopub.status.busy": "2022-11-18T00:48:59.105449Z",
     "iopub.status.idle": "2022-11-18T00:48:59.109618Z",
     "shell.execute_reply": "2022-11-18T00:48:59.110124Z"
    },
    "papermill": {
     "duration": 0.04461,
     "end_time": "2022-11-18T00:48:59.110286",
     "exception": false,
     "start_time": "2022-11-18T00:48:59.065676",
     "status": "completed"
    },
    "tags": []
   },
   "outputs": [],
   "source": [
    "#hide\n",
    "# g.rename(columns= {'date':'day'},inplace = True)"
   ]
  },
  {
   "cell_type": "code",
   "execution_count": 38,
   "id": "major-fight",
   "metadata": {
    "execution": {
     "iopub.execute_input": "2022-11-18T00:48:59.186023Z",
     "iopub.status.busy": "2022-11-18T00:48:59.184829Z",
     "iopub.status.idle": "2022-11-18T00:48:59.186830Z",
     "shell.execute_reply": "2022-11-18T00:48:59.187376Z"
    },
    "papermill": {
     "duration": 0.042177,
     "end_time": "2022-11-18T00:48:59.187531",
     "exception": false,
     "start_time": "2022-11-18T00:48:59.145354",
     "status": "completed"
    },
    "tags": []
   },
   "outputs": [],
   "source": [
    "#hide\n",
    "# g = g[cols]"
   ]
  },
  {
   "cell_type": "code",
   "execution_count": 39,
   "id": "structured-mobile",
   "metadata": {
    "execution": {
     "iopub.execute_input": "2022-11-18T00:48:59.262722Z",
     "iopub.status.busy": "2022-11-18T00:48:59.262039Z",
     "iopub.status.idle": "2022-11-18T00:48:59.265686Z",
     "shell.execute_reply": "2022-11-18T00:48:59.266206Z"
    },
    "papermill": {
     "duration": 0.04416,
     "end_time": "2022-11-18T00:48:59.266356",
     "exception": false,
     "start_time": "2022-11-18T00:48:59.222196",
     "status": "completed"
    },
    "tags": []
   },
   "outputs": [],
   "source": [
    "# #hide\n",
    "# g = g[g.group.notna()]"
   ]
  },
  {
   "cell_type": "code",
   "execution_count": 40,
   "id": "determined-closing",
   "metadata": {
    "execution": {
     "iopub.execute_input": "2022-11-18T00:48:59.341158Z",
     "iopub.status.busy": "2022-11-18T00:48:59.340475Z",
     "iopub.status.idle": "2022-11-18T00:48:59.344072Z",
     "shell.execute_reply": "2022-11-18T00:48:59.344718Z"
    },
    "papermill": {
     "duration": 0.043563,
     "end_time": "2022-11-18T00:48:59.344870",
     "exception": false,
     "start_time": "2022-11-18T00:48:59.301307",
     "status": "completed"
    },
    "tags": []
   },
   "outputs": [],
   "source": [
    "# #hide\n",
    "# colors = dict(zip(\n",
    "#     [\"Oceania\", \"Europe\", \"Asia\", \"South America\", \"Middle East\", \"North America\", \"Africa\"],\n",
    "#     [\"#adb0ff\", \"#ffb3ff\", \"#90d595\", \"#e48381\", \"#aafbff\", \"#f7bb5f\", \"#eafb50\"]\n",
    "# ))\n",
    "# group_lk = g.set_index('name')['group'].to_dict()"
   ]
  },
  {
   "cell_type": "code",
   "execution_count": null,
   "id": "gross-drinking",
   "metadata": {
    "papermill": {
     "duration": 0.034688,
     "end_time": "2022-11-18T00:48:59.414177",
     "exception": false,
     "start_time": "2022-11-18T00:48:59.379489",
     "status": "completed"
    },
    "tags": []
   },
   "outputs": [],
   "source": []
  },
  {
   "cell_type": "code",
   "execution_count": 41,
   "id": "subject-macintosh",
   "metadata": {
    "execution": {
     "iopub.execute_input": "2022-11-18T00:48:59.490006Z",
     "iopub.status.busy": "2022-11-18T00:48:59.489260Z",
     "iopub.status.idle": "2022-11-18T00:48:59.493433Z",
     "shell.execute_reply": "2022-11-18T00:48:59.493929Z"
    },
    "papermill": {
     "duration": 0.045526,
     "end_time": "2022-11-18T00:48:59.494085",
     "exception": false,
     "start_time": "2022-11-18T00:48:59.448559",
     "status": "completed"
    },
    "tags": []
   },
   "outputs": [],
   "source": [
    "# #hide\n",
    "# fig, ax = plt.subplots(figsize=(15, 8))\n",
    "\n",
    "# def draw_barchart(current_day):\n",
    "#     dff = g[g['day'].eq(current_day)].sort_values(by='value', ascending=True).tail(10)\n",
    "#     ax.clear()\n",
    "#     ax.barh(dff['name'], dff['value'], color=[colors[group_lk[x]] for x in dff['name']])\n",
    "#     dx = dff['value'].max() / 200\n",
    "    \n",
    "#     for i, (value, name) in enumerate(zip(dff['value'], dff['name'])):\n",
    "#         ax.text(value-dx, i,     name,           size=14, weight=600, ha='right', va='bottom')\n",
    "#         ax.text(value-dx, i-.25, group_lk[name], size=10, color='#444444', ha='right', va='baseline')\n",
    "#         ax.text(value+dx, i,     f'{value:,.0f}',  size=14, ha='left',  va='center')\n",
    "#     ax.text(1, 0.4, current_day, transform=ax.transAxes, color='#777777', size=46, ha='right', weight=800)\n",
    "#     ax.text(0, 1.06, 'Population (thousands)', transform=ax.transAxes, size=12, color='#777777')\n",
    "#     ax.xaxis.set_major_formatter(ticker.StrMethodFormatter('{x:,.0f}'))\n",
    "#     ax.xaxis.set_ticks_position('top')\n",
    "#     ax.tick_params(axis='x', colors='#777777', labelsize=12)\n",
    "#     ax.set_yticks([])\n",
    "#     ax.margins(0, 0.01)\n",
    "#     ax.grid(which='major', axis='x', linestyle='-')\n",
    "#     ax.set_axisbelow(True)\n",
    "    \n",
    "#     ax.text(0, 1.15, 'Coronavirus',\n",
    "#             transform=ax.transAxes, size=24, weight=600, ha='left', va='top')\n",
    "# #     ax.text(1, 0, 'by @pratapvardhan; credit @jburnmurdoch', transform=ax.transAxes, color='#777777', ha='right',\n",
    "# #             bbox=dict(facecolor='white', alpha=0.8, edgecolor='white'))\n",
    "#     plt.box(False)"
   ]
  },
  {
   "cell_type": "code",
   "execution_count": 42,
   "id": "sexual-wages",
   "metadata": {
    "execution": {
     "iopub.execute_input": "2022-11-18T00:48:59.570198Z",
     "iopub.status.busy": "2022-11-18T00:48:59.569005Z",
     "iopub.status.idle": "2022-11-18T00:48:59.570957Z",
     "shell.execute_reply": "2022-11-18T00:48:59.571512Z"
    },
    "papermill": {
     "duration": 0.042847,
     "end_time": "2022-11-18T00:48:59.571664",
     "exception": false,
     "start_time": "2022-11-18T00:48:59.528817",
     "status": "completed"
    },
    "tags": []
   },
   "outputs": [],
   "source": [
    "# #hide_input\n",
    "# fig, ax = plt.subplots(figsize=(15, 8))\n",
    "# animator = animation.FuncAnimation(fig, draw_barchart, frames=range(g.day.values.min(), g.day.values.max()))\n",
    "# HTML(animator.to_jshtml())\n",
    "# # or use animator.to_html5_video() or animator.save() "
   ]
  },
  {
   "cell_type": "code",
   "execution_count": null,
   "id": "australian-container",
   "metadata": {
    "papermill": {
     "duration": 0.034585,
     "end_time": "2022-11-18T00:48:59.640958",
     "exception": false,
     "start_time": "2022-11-18T00:48:59.606373",
     "status": "completed"
    },
    "tags": []
   },
   "outputs": [],
   "source": []
  },
  {
   "cell_type": "code",
   "execution_count": null,
   "id": "mediterranean-pontiac",
   "metadata": {
    "papermill": {
     "duration": 0.035484,
     "end_time": "2022-11-18T00:48:59.711282",
     "exception": false,
     "start_time": "2022-11-18T00:48:59.675798",
     "status": "completed"
    },
    "tags": []
   },
   "outputs": [],
   "source": []
  },
  {
   "cell_type": "code",
   "execution_count": null,
   "id": "aging-legislature",
   "metadata": {
    "papermill": {
     "duration": 0.03461,
     "end_time": "2022-11-18T00:48:59.780561",
     "exception": false,
     "start_time": "2022-11-18T00:48:59.745951",
     "status": "completed"
    },
    "tags": []
   },
   "outputs": [],
   "source": []
  }
 ],
 "metadata": {
  "kernelspec": {
   "display_name": "Python 3",
   "language": "python",
   "name": "python3"
  },
  "language_info": {
   "codemirror_mode": {
    "name": "ipython",
    "version": 3
   },
   "file_extension": ".py",
   "mimetype": "text/x-python",
   "name": "python",
   "nbconvert_exporter": "python",
   "pygments_lexer": "ipython3",
   "version": "3.6.15"
  },
  "papermill": {
   "duration": 6.890013,
   "end_time": "2022-11-18T00:49:00.238009",
   "environment_variables": {},
   "exception": null,
   "input_path": "2020-03-21-covid19exp.ipynb",
   "output_path": "2020-03-21-covid19exp.ipynb",
   "parameters": {},
   "start_time": "2022-11-18T00:48:53.347996",
   "version": "2.0.0"
  }
 },
 "nbformat": 4,
 "nbformat_minor": 5
}