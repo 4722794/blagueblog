{
 "cells": [
  {
   "cell_type": "markdown",
   "id": "muslim-click",
   "metadata": {
    "papermill": {
     "duration": 0.039734,
     "end_time": "2021-12-22T00:28:01.906412",
     "exception": false,
     "start_time": "2021-12-22T00:28:01.866678",
     "status": "completed"
    },
    "tags": []
   },
   "source": [
    "# COVID-19 Case Race\n",
    "> A race chart to see rising cases around the world\n",
    "\n",
    "- author: Hargun Oberoi\n",
    "- image: images/covid-overview.png\n",
    "- hide: false\n",
    "- badges: false"
   ]
  },
  {
   "cell_type": "code",
   "execution_count": 1,
   "id": "proof-material",
   "metadata": {
    "execution": {
     "iopub.execute_input": "2021-12-22T00:28:01.987922Z",
     "iopub.status.busy": "2021-12-22T00:28:01.987254Z",
     "iopub.status.idle": "2021-12-22T00:28:02.368260Z",
     "shell.execute_reply": "2021-12-22T00:28:02.367675Z"
    },
    "papermill": {
     "duration": 0.425428,
     "end_time": "2021-12-22T00:28:02.368429",
     "exception": false,
     "start_time": "2021-12-22T00:28:01.943001",
     "status": "completed"
    },
    "tags": []
   },
   "outputs": [],
   "source": [
    "#hide\n",
    "import numpy as np\n",
    "import pandas as pd\n",
    "from jinja2 import Template\n",
    "from IPython.display import HTML"
   ]
  },
  {
   "cell_type": "code",
   "execution_count": 2,
   "id": "developed-terminology",
   "metadata": {
    "execution": {
     "iopub.execute_input": "2021-12-22T00:28:02.446332Z",
     "iopub.status.busy": "2021-12-22T00:28:02.445672Z",
     "iopub.status.idle": "2021-12-22T00:28:02.449176Z",
     "shell.execute_reply": "2021-12-22T00:28:02.449727Z"
    },
    "papermill": {
     "duration": 0.045356,
     "end_time": "2021-12-22T00:28:02.449897",
     "exception": false,
     "start_time": "2021-12-22T00:28:02.404541",
     "status": "completed"
    },
    "tags": []
   },
   "outputs": [],
   "source": [
    "#hide\n",
    "\n",
    "# FETCH\n",
    "base_url = 'https://raw.githubusercontent.com/pratapvardhan/notebooks/master/covid19/'\n",
    "paths = {\n",
    "    'mapping': base_url + 'mapping_countries.csv',\n",
    "    'overview': base_url + 'overview.tpl'\n",
    "}"
   ]
  },
  {
   "cell_type": "code",
   "execution_count": 3,
   "id": "dynamic-saver",
   "metadata": {
    "execution": {
     "iopub.execute_input": "2021-12-22T00:28:02.533976Z",
     "iopub.status.busy": "2021-12-22T00:28:02.533341Z",
     "iopub.status.idle": "2021-12-22T00:28:02.541462Z",
     "shell.execute_reply": "2021-12-22T00:28:02.542006Z"
    },
    "papermill": {
     "duration": 0.053263,
     "end_time": "2021-12-22T00:28:02.542155",
     "exception": false,
     "start_time": "2021-12-22T00:28:02.488892",
     "status": "completed"
    },
    "tags": []
   },
   "outputs": [
    {
     "data": {
      "text/plain": [
       "'https://raw.githubusercontent.com/pratapvardhan/notebooks/master/covid19/mapping_countries.csv'"
      ]
     },
     "execution_count": 3,
     "metadata": {},
     "output_type": "execute_result"
    }
   ],
   "source": [
    "#hide\n",
    "paths['mapping']"
   ]
  },
  {
   "cell_type": "code",
   "execution_count": 4,
   "id": "urban-software",
   "metadata": {
    "execution": {
     "iopub.execute_input": "2021-12-22T00:28:02.623519Z",
     "iopub.status.busy": "2021-12-22T00:28:02.622928Z",
     "iopub.status.idle": "2021-12-22T00:28:02.624904Z",
     "shell.execute_reply": "2021-12-22T00:28:02.625378Z"
    },
    "papermill": {
     "duration": 0.041164,
     "end_time": "2021-12-22T00:28:02.625507",
     "exception": false,
     "start_time": "2021-12-22T00:28:02.584343",
     "status": "completed"
    },
    "tags": []
   },
   "outputs": [],
   "source": [
    "#hide\n",
    "def get_mappings(url):\n",
    "    df = pd.read_csv(url)\n",
    "    return {\n",
    "        'df': df,\n",
    "        'replace.country': dict(df.dropna(subset=['Name']).set_index('Country')['Name']),\n",
    "        'map.continent': dict(df.set_index('Name')['Continent'])\n",
    "    }"
   ]
  },
  {
   "cell_type": "code",
   "execution_count": 5,
   "id": "intimate-machinery",
   "metadata": {
    "execution": {
     "iopub.execute_input": "2021-12-22T00:28:02.703068Z",
     "iopub.status.busy": "2021-12-22T00:28:02.702467Z",
     "iopub.status.idle": "2021-12-22T00:28:02.743042Z",
     "shell.execute_reply": "2021-12-22T00:28:02.743647Z"
    },
    "papermill": {
     "duration": 0.083948,
     "end_time": "2021-12-22T00:28:02.743786",
     "exception": false,
     "start_time": "2021-12-22T00:28:02.659838",
     "status": "completed"
    },
    "tags": []
   },
   "outputs": [],
   "source": [
    "#hide\n",
    "mapping = get_mappings(paths['mapping'])"
   ]
  },
  {
   "cell_type": "code",
   "execution_count": 6,
   "id": "certified-tactics",
   "metadata": {
    "execution": {
     "iopub.execute_input": "2021-12-22T00:28:02.815263Z",
     "iopub.status.busy": "2021-12-22T00:28:02.814682Z",
     "iopub.status.idle": "2021-12-22T00:28:02.818321Z",
     "shell.execute_reply": "2021-12-22T00:28:02.818767Z"
    },
    "papermill": {
     "duration": 0.041834,
     "end_time": "2021-12-22T00:28:02.818893",
     "exception": false,
     "start_time": "2021-12-22T00:28:02.777059",
     "status": "completed"
    },
    "tags": []
   },
   "outputs": [],
   "source": [
    "#hide\n",
    "def get_template(path):\n",
    "    from urllib.parse import urlparse\n",
    "    if bool(urlparse(path).netloc):\n",
    "        from urllib.request import urlopen\n",
    "        return urlopen(path).read().decode('utf8')\n",
    "    return open(path).read()"
   ]
  },
  {
   "cell_type": "code",
   "execution_count": 7,
   "id": "realistic-blast",
   "metadata": {
    "execution": {
     "iopub.execute_input": "2021-12-22T00:28:02.889603Z",
     "iopub.status.busy": "2021-12-22T00:28:02.889021Z",
     "iopub.status.idle": "2021-12-22T00:28:02.891623Z",
     "shell.execute_reply": "2021-12-22T00:28:02.892098Z"
    },
    "papermill": {
     "duration": 0.039738,
     "end_time": "2021-12-22T00:28:02.892222",
     "exception": false,
     "start_time": "2021-12-22T00:28:02.852484",
     "status": "completed"
    },
    "tags": []
   },
   "outputs": [],
   "source": [
    "#hide\n",
    "def get_frame(name):\n",
    "    url = (\n",
    "        'https://raw.githubusercontent.com/CSSEGISandData/COVID-19/master/csse_covid_19_data/'\n",
    "        f'csse_covid_19_time_series/time_series_covid19_{name}_global.csv')\n",
    "    df = pd.read_csv(url)\n",
    "    # rename countries\n",
    "    df['Country/Region'] = df['Country/Region'].replace(mapping['replace.country'])\n",
    "    return df"
   ]
  },
  {
   "cell_type": "code",
   "execution_count": 8,
   "id": "affiliated-characterization",
   "metadata": {
    "execution": {
     "iopub.execute_input": "2021-12-22T00:28:02.965034Z",
     "iopub.status.busy": "2021-12-22T00:28:02.964408Z",
     "iopub.status.idle": "2021-12-22T00:28:02.966409Z",
     "shell.execute_reply": "2021-12-22T00:28:02.966845Z"
    },
    "papermill": {
     "duration": 0.041159,
     "end_time": "2021-12-22T00:28:02.966971",
     "exception": false,
     "start_time": "2021-12-22T00:28:02.925812",
     "status": "completed"
    },
    "tags": []
   },
   "outputs": [],
   "source": [
    "#hide\n",
    "def get_dates(df):\n",
    "    dt_cols = df.columns[~df.columns.isin(['Province/State', 'Country/Region', 'Lat', 'Long'])]\n",
    "    LAST_DATE_I = -1\n",
    "    # sometimes last column may be empty, then go backwards\n",
    "    for i in range(-1, -len(dt_cols), -1):\n",
    "        if not df[dt_cols[i]].fillna(0).eq(0).all():\n",
    "            LAST_DATE_I = i\n",
    "            break\n",
    "    return LAST_DATE_I, dt_cols"
   ]
  },
  {
   "cell_type": "code",
   "execution_count": 9,
   "id": "recent-optimization",
   "metadata": {
    "execution": {
     "iopub.execute_input": "2021-12-22T00:28:03.038217Z",
     "iopub.status.busy": "2021-12-22T00:28:03.037487Z",
     "iopub.status.idle": "2021-12-22T00:28:03.467529Z",
     "shell.execute_reply": "2021-12-22T00:28:03.468122Z"
    },
    "papermill": {
     "duration": 0.468096,
     "end_time": "2021-12-22T00:28:03.468276",
     "exception": false,
     "start_time": "2021-12-22T00:28:03.000180",
     "status": "completed"
    },
    "tags": []
   },
   "outputs": [],
   "source": [
    "#hide\n",
    "COL_REGION = 'Country/Region'\n",
    "# Confirmed, Recovered, Deaths\n",
    "df = get_frame('confirmed')\n",
    "# dft_: timeseries, dfc_: today country agg\n",
    "dft_cases = df\n",
    "dft_deaths = get_frame('deaths')\n",
    "dft_recovered = get_frame('recovered')\n",
    "LAST_DATE_I, dt_cols = get_dates(df)"
   ]
  },
  {
   "cell_type": "code",
   "execution_count": 10,
   "id": "absolute-copper",
   "metadata": {
    "execution": {
     "iopub.execute_input": "2021-12-22T00:28:03.540239Z",
     "iopub.status.busy": "2021-12-22T00:28:03.539649Z",
     "iopub.status.idle": "2021-12-22T00:28:03.541665Z",
     "shell.execute_reply": "2021-12-22T00:28:03.542121Z"
    },
    "papermill": {
     "duration": 0.040216,
     "end_time": "2021-12-22T00:28:03.542251",
     "exception": false,
     "start_time": "2021-12-22T00:28:03.502035",
     "status": "completed"
    },
    "tags": []
   },
   "outputs": [],
   "source": [
    "#hide\n",
    "LAST_DATE_I, dt_cols = get_dates(df)\n",
    "dt_today =dt_cols[LAST_DATE_I]\n",
    "# dt_5day = dt_cols[LAST_DATE_I - 5]\n",
    "dt_yday = dt_cols[LAST_DATE_I - 1]"
   ]
  },
  {
   "cell_type": "code",
   "execution_count": 11,
   "id": "restricted-sheriff",
   "metadata": {
    "execution": {
     "iopub.execute_input": "2021-12-22T00:28:03.614446Z",
     "iopub.status.busy": "2021-12-22T00:28:03.613837Z",
     "iopub.status.idle": "2021-12-22T00:28:03.622777Z",
     "shell.execute_reply": "2021-12-22T00:28:03.622287Z"
    },
    "papermill": {
     "duration": 0.047467,
     "end_time": "2021-12-22T00:28:03.622885",
     "exception": false,
     "start_time": "2021-12-22T00:28:03.575418",
     "status": "completed"
    },
    "tags": []
   },
   "outputs": [],
   "source": [
    "#hide\n",
    "dfc_cases = dft_cases.groupby(COL_REGION)[dt_today].sum()\n",
    "dfc_deaths = dft_deaths.groupby(COL_REGION)[dt_today].sum()\n",
    "# dfp_cases = dft_cases.groupby(COL_REGION)[dt_5day].sum()\n",
    "# dfp_deaths = dft_deaths.groupby(COL_REGION)[dt_5day].sum()\n",
    "dfp_cases = dft_cases.groupby(COL_REGION)[dt_yday].sum()\n",
    "dfp_deaths = dft_deaths.groupby(COL_REGION)[dt_yday].sum()"
   ]
  },
  {
   "cell_type": "code",
   "execution_count": 12,
   "id": "deluxe-hepatitis",
   "metadata": {
    "execution": {
     "iopub.execute_input": "2021-12-22T00:28:03.695438Z",
     "iopub.status.busy": "2021-12-22T00:28:03.694837Z",
     "iopub.status.idle": "2021-12-22T00:28:03.699358Z",
     "shell.execute_reply": "2021-12-22T00:28:03.700102Z"
    },
    "papermill": {
     "duration": 0.044306,
     "end_time": "2021-12-22T00:28:03.700245",
     "exception": false,
     "start_time": "2021-12-22T00:28:03.655939",
     "status": "completed"
    },
    "tags": []
   },
   "outputs": [],
   "source": [
    "#hide\n",
    "df_table = (pd.DataFrame(dict(Cases = dfc_cases, Deaths = dfc_deaths, PCases = dfp_cases, PDeaths = dfp_deaths))\n",
    "            .sort_values(by = ['Cases','Deaths'], ascending = [False, False])\n",
    "            .reset_index())"
   ]
  },
  {
   "cell_type": "code",
   "execution_count": 13,
   "id": "educational-chancellor",
   "metadata": {
    "execution": {
     "iopub.execute_input": "2021-12-22T00:28:03.784857Z",
     "iopub.status.busy": "2021-12-22T00:28:03.779841Z",
     "iopub.status.idle": "2021-12-22T00:28:03.792686Z",
     "shell.execute_reply": "2021-12-22T00:28:03.793242Z"
    },
    "papermill": {
     "duration": 0.060179,
     "end_time": "2021-12-22T00:28:03.793365",
     "exception": false,
     "start_time": "2021-12-22T00:28:03.733186",
     "status": "completed"
    },
    "tags": []
   },
   "outputs": [
    {
     "data": {
      "text/html": [
       "<div>\n",
       "<style scoped>\n",
       "    .dataframe tbody tr th:only-of-type {\n",
       "        vertical-align: middle;\n",
       "    }\n",
       "\n",
       "    .dataframe tbody tr th {\n",
       "        vertical-align: top;\n",
       "    }\n",
       "\n",
       "    .dataframe thead th {\n",
       "        text-align: right;\n",
       "    }\n",
       "</style>\n",
       "<table border=\"1\" class=\"dataframe\">\n",
       "  <thead>\n",
       "    <tr style=\"text-align: right;\">\n",
       "      <th></th>\n",
       "      <th>Country/Region</th>\n",
       "      <th>Cases</th>\n",
       "      <th>Deaths</th>\n",
       "      <th>PCases</th>\n",
       "      <th>PDeaths</th>\n",
       "      <th>Cases (+)</th>\n",
       "      <th>Deaths (+)</th>\n",
       "      <th>Fatality Rate</th>\n",
       "      <th>Continent</th>\n",
       "    </tr>\n",
       "  </thead>\n",
       "  <tbody>\n",
       "    <tr>\n",
       "      <th>0</th>\n",
       "      <td>US</td>\n",
       "      <td>51100782</td>\n",
       "      <td>807952</td>\n",
       "      <td>50846828</td>\n",
       "      <td>806439</td>\n",
       "      <td>253954</td>\n",
       "      <td>1513</td>\n",
       "      <td>1.58</td>\n",
       "      <td>North America</td>\n",
       "    </tr>\n",
       "    <tr>\n",
       "      <th>1</th>\n",
       "      <td>India</td>\n",
       "      <td>34752164</td>\n",
       "      <td>478007</td>\n",
       "      <td>34746838</td>\n",
       "      <td>477554</td>\n",
       "      <td>5326</td>\n",
       "      <td>453</td>\n",
       "      <td>1.38</td>\n",
       "      <td>Asia</td>\n",
       "    </tr>\n",
       "    <tr>\n",
       "      <th>2</th>\n",
       "      <td>Brazil</td>\n",
       "      <td>22215856</td>\n",
       "      <td>617873</td>\n",
       "      <td>22213762</td>\n",
       "      <td>617803</td>\n",
       "      <td>2094</td>\n",
       "      <td>70</td>\n",
       "      <td>2.78</td>\n",
       "      <td>South America</td>\n",
       "    </tr>\n",
       "    <tr>\n",
       "      <th>3</th>\n",
       "      <td>United Kingdom</td>\n",
       "      <td>11518255</td>\n",
       "      <td>147723</td>\n",
       "      <td>11425657</td>\n",
       "      <td>147679</td>\n",
       "      <td>92598</td>\n",
       "      <td>44</td>\n",
       "      <td>1.28</td>\n",
       "      <td>Europe</td>\n",
       "    </tr>\n",
       "    <tr>\n",
       "      <th>4</th>\n",
       "      <td>Russia</td>\n",
       "      <td>10064290</td>\n",
       "      <td>292331</td>\n",
       "      <td>10037546</td>\n",
       "      <td>291336</td>\n",
       "      <td>26744</td>\n",
       "      <td>995</td>\n",
       "      <td>2.90</td>\n",
       "      <td>Europe</td>\n",
       "    </tr>\n",
       "  </tbody>\n",
       "</table>\n",
       "</div>"
      ],
      "text/plain": [
       "   Country/Region     Cases  Deaths    PCases  PDeaths  Cases (+)  Deaths (+)  \\\n",
       "0              US  51100782  807952  50846828   806439     253954        1513   \n",
       "1           India  34752164  478007  34746838   477554       5326         453   \n",
       "2          Brazil  22215856  617873  22213762   617803       2094          70   \n",
       "3  United Kingdom  11518255  147723  11425657   147679      92598          44   \n",
       "4          Russia  10064290  292331  10037546   291336      26744         995   \n",
       "\n",
       "   Fatality Rate      Continent  \n",
       "0           1.58  North America  \n",
       "1           1.38           Asia  \n",
       "2           2.78  South America  \n",
       "3           1.28         Europe  \n",
       "4           2.90         Europe  "
      ]
     },
     "execution_count": 13,
     "metadata": {},
     "output_type": "execute_result"
    }
   ],
   "source": [
    "#hide\n",
    "for c in 'Cases, Deaths'.split(', '):\n",
    "    df_table[f'{c} (+)'] = (df_table[c] - df_table[f'P{c}']).clip(0)\n",
    "    #Clip ça veut dire, les chiffres negatif sont interdit\n",
    "df_table['Fatality Rate'] = (100* df_table['Deaths']/ df_table['Cases']).round(2)\n",
    "df_table['Continent'] = df_table['Country/Region'].map(mapping['map.continent'])\n",
    "df_table.head(5)"
   ]
  },
  {
   "cell_type": "code",
   "execution_count": 14,
   "id": "aboriginal-bulgaria",
   "metadata": {
    "execution": {
     "iopub.execute_input": "2021-12-22T00:28:03.867538Z",
     "iopub.status.busy": "2021-12-22T00:28:03.866967Z",
     "iopub.status.idle": "2021-12-22T00:28:03.868969Z",
     "shell.execute_reply": "2021-12-22T00:28:03.869406Z"
    },
    "papermill": {
     "duration": 0.041004,
     "end_time": "2021-12-22T00:28:03.869535",
     "exception": false,
     "start_time": "2021-12-22T00:28:03.828531",
     "status": "completed"
    },
    "tags": []
   },
   "outputs": [],
   "source": [
    "#hide\n",
    "#delete problematic countries from table\n",
    "df_table = df_table[~df_table['Country/Region'].isin(['Cape Verde', 'Cruise Ship', 'Kosovo'])]"
   ]
  },
  {
   "cell_type": "code",
   "execution_count": 15,
   "id": "fantastic-effect",
   "metadata": {
    "execution": {
     "iopub.execute_input": "2021-12-22T00:28:03.944747Z",
     "iopub.status.busy": "2021-12-22T00:28:03.944176Z",
     "iopub.status.idle": "2021-12-22T00:28:03.965531Z",
     "shell.execute_reply": "2021-12-22T00:28:03.965051Z"
    },
    "papermill": {
     "duration": 0.062658,
     "end_time": "2021-12-22T00:28:03.965639",
     "exception": false,
     "start_time": "2021-12-22T00:28:03.902981",
     "status": "completed"
    },
    "tags": []
   },
   "outputs": [
    {
     "data": {
      "text/html": [
       "<div>\n",
       "<style scoped>\n",
       "    .dataframe tbody tr th:only-of-type {\n",
       "        vertical-align: middle;\n",
       "    }\n",
       "\n",
       "    .dataframe tbody tr th {\n",
       "        vertical-align: top;\n",
       "    }\n",
       "\n",
       "    .dataframe thead th {\n",
       "        text-align: right;\n",
       "    }\n",
       "</style>\n",
       "<table border=\"1\" class=\"dataframe\">\n",
       "  <thead>\n",
       "    <tr style=\"text-align: right;\">\n",
       "      <th></th>\n",
       "      <th>Country/Region</th>\n",
       "      <th>Cases</th>\n",
       "      <th>Deaths</th>\n",
       "      <th>PCases</th>\n",
       "      <th>PDeaths</th>\n",
       "      <th>Cases (+)</th>\n",
       "      <th>Deaths (+)</th>\n",
       "      <th>Fatality Rate</th>\n",
       "      <th>Continent</th>\n",
       "    </tr>\n",
       "  </thead>\n",
       "  <tbody>\n",
       "    <tr>\n",
       "      <th>0</th>\n",
       "      <td>US</td>\n",
       "      <td>51100782</td>\n",
       "      <td>807952</td>\n",
       "      <td>50846828</td>\n",
       "      <td>806439</td>\n",
       "      <td>253954</td>\n",
       "      <td>1513</td>\n",
       "      <td>1.6</td>\n",
       "      <td>North America</td>\n",
       "    </tr>\n",
       "    <tr>\n",
       "      <th>1</th>\n",
       "      <td>India</td>\n",
       "      <td>34752164</td>\n",
       "      <td>478007</td>\n",
       "      <td>34746838</td>\n",
       "      <td>477554</td>\n",
       "      <td>5326</td>\n",
       "      <td>453</td>\n",
       "      <td>1.4</td>\n",
       "      <td>Asia</td>\n",
       "    </tr>\n",
       "    <tr>\n",
       "      <th>2</th>\n",
       "      <td>Brazil</td>\n",
       "      <td>22215856</td>\n",
       "      <td>617873</td>\n",
       "      <td>22213762</td>\n",
       "      <td>617803</td>\n",
       "      <td>2094</td>\n",
       "      <td>70</td>\n",
       "      <td>2.8</td>\n",
       "      <td>South America</td>\n",
       "    </tr>\n",
       "    <tr>\n",
       "      <th>3</th>\n",
       "      <td>United Kingdom</td>\n",
       "      <td>11518255</td>\n",
       "      <td>147723</td>\n",
       "      <td>11425657</td>\n",
       "      <td>147679</td>\n",
       "      <td>92598</td>\n",
       "      <td>44</td>\n",
       "      <td>1.3</td>\n",
       "      <td>Europe</td>\n",
       "    </tr>\n",
       "    <tr>\n",
       "      <th>4</th>\n",
       "      <td>Russia</td>\n",
       "      <td>10064290</td>\n",
       "      <td>292331</td>\n",
       "      <td>10037546</td>\n",
       "      <td>291336</td>\n",
       "      <td>26744</td>\n",
       "      <td>995</td>\n",
       "      <td>2.9</td>\n",
       "      <td>Europe</td>\n",
       "    </tr>\n",
       "  </tbody>\n",
       "</table>\n",
       "</div>"
      ],
      "text/plain": [
       "   Country/Region     Cases  Deaths    PCases  PDeaths  Cases (+)  Deaths (+)  \\\n",
       "0              US  51100782  807952  50846828   806439     253954        1513   \n",
       "1           India  34752164  478007  34746838   477554       5326         453   \n",
       "2          Brazil  22215856  617873  22213762   617803       2094          70   \n",
       "3  United Kingdom  11518255  147723  11425657   147679      92598          44   \n",
       "4          Russia  10064290  292331  10037546   291336      26744         995   \n",
       "\n",
       "   Fatality Rate      Continent  \n",
       "0            1.6  North America  \n",
       "1            1.4           Asia  \n",
       "2            2.8  South America  \n",
       "3            1.3         Europe  \n",
       "4            2.9         Europe  "
      ]
     },
     "execution_count": 15,
     "metadata": {},
     "output_type": "execute_result"
    }
   ],
   "source": [
    "#hide\n",
    "df_table = (pd.DataFrame(dict(Cases=dfc_cases, Deaths=dfc_deaths, PCases=dfp_cases, PDeaths=dfp_deaths))\n",
    "             .sort_values(by=['Cases', 'Deaths'], ascending=[False, False])\n",
    "             .reset_index())\n",
    "df_table.rename(columns={'index': 'Country/Region'}, inplace=True)\n",
    "for c in 'Cases, Deaths'.split(', '):\n",
    "    df_table[f'{c} (+)'] = (df_table[c] - df_table[f'P{c}']).clip(0)  # DATA BUG\n",
    "df_table['Fatality Rate'] = (100 * df_table['Deaths'] / df_table['Cases']).round(1)\n",
    "df_table['Continent'] = df_table['Country/Region'].map(mapping['map.continent'])\n",
    "df_table.head(5)"
   ]
  },
  {
   "cell_type": "code",
   "execution_count": 16,
   "id": "fewer-occasion",
   "metadata": {
    "execution": {
     "iopub.execute_input": "2021-12-22T00:28:04.039470Z",
     "iopub.status.busy": "2021-12-22T00:28:04.038886Z",
     "iopub.status.idle": "2021-12-22T00:28:04.041323Z",
     "shell.execute_reply": "2021-12-22T00:28:04.040763Z"
    },
    "papermill": {
     "duration": 0.042295,
     "end_time": "2021-12-22T00:28:04.041435",
     "exception": false,
     "start_time": "2021-12-22T00:28:03.999140",
     "status": "completed"
    },
    "tags": []
   },
   "outputs": [],
   "source": [
    "#hide\n",
    "#delete problematic countries from table\n",
    "df_table = df_table[~df_table['Country/Region'].isin(['Cape Verde', 'Cruise Ship', 'Kosovo'])]"
   ]
  },
  {
   "cell_type": "code",
   "execution_count": 17,
   "id": "related-center",
   "metadata": {
    "execution": {
     "iopub.execute_input": "2021-12-22T00:28:04.133878Z",
     "iopub.status.busy": "2021-12-22T00:28:04.118221Z",
     "iopub.status.idle": "2021-12-22T00:28:04.137411Z",
     "shell.execute_reply": "2021-12-22T00:28:04.136886Z"
    },
    "papermill": {
     "duration": 0.060242,
     "end_time": "2021-12-22T00:28:04.137522",
     "exception": false,
     "start_time": "2021-12-22T00:28:04.077280",
     "status": "completed"
    },
    "tags": []
   },
   "outputs": [],
   "source": [
    "#hide\n",
    "metrics = [df_table.columns[index] for index in [1,2,5,6]]\n",
    "# s_china = df_table[df_table['Country/Region'].eq('China')][metrics].sum().add_prefix('China ')\n",
    "s_us = df_table[df_table['Country/Region'].eq('US')][metrics].sum().add_prefix('US ')\n",
    "s_eu = df_table[df_table['Continent'].eq('Europe')][metrics].sum().add_prefix('EU ')\n",
    "s_ind = df_table[df_table['Country/Region'].eq('India')][metrics].sum().add_prefix('India ')\n",
    "summary = {'updated': pd.to_datetime(dt_today), 'since': pd.to_datetime(dt_yday)}\n",
    "summary = {'updated': pd.to_datetime(dt_today), 'since': pd.to_datetime(dt_yday)}\n",
    "summary = {**summary, **df_table[metrics].sum(), **s_ind, **s_us, **s_eu}"
   ]
  },
  {
   "cell_type": "code",
   "execution_count": 18,
   "id": "engaging-syndrome",
   "metadata": {
    "execution": {
     "iopub.execute_input": "2021-12-22T00:28:04.218142Z",
     "iopub.status.busy": "2021-12-22T00:28:04.217470Z",
     "iopub.status.idle": "2021-12-22T00:28:04.232038Z",
     "shell.execute_reply": "2021-12-22T00:28:04.231507Z"
    },
    "papermill": {
     "duration": 0.054718,
     "end_time": "2021-12-22T00:28:04.232158",
     "exception": false,
     "start_time": "2021-12-22T00:28:04.177440",
     "status": "completed"
    },
    "tags": []
   },
   "outputs": [],
   "source": [
    "#hide\n",
    "dft_ct_new_cases = dft_cases.groupby(COL_REGION)[dt_cols].sum().diff(axis=1).fillna(0).astype(int)"
   ]
  },
  {
   "cell_type": "code",
   "execution_count": 19,
   "id": "neutral-assignment",
   "metadata": {
    "execution": {
     "iopub.execute_input": "2021-12-22T00:28:04.307241Z",
     "iopub.status.busy": "2021-12-22T00:28:04.306663Z",
     "iopub.status.idle": "2021-12-22T00:28:04.309040Z",
     "shell.execute_reply": "2021-12-22T00:28:04.308546Z"
    },
    "papermill": {
     "duration": 0.04156,
     "end_time": "2021-12-22T00:28:04.309155",
     "exception": false,
     "start_time": "2021-12-22T00:28:04.267595",
     "status": "completed"
    },
    "tags": []
   },
   "outputs": [],
   "source": [
    "#hide\n",
    "everydaycases = dft_ct_new_cases.cumsum(axis=1)"
   ]
  },
  {
   "cell_type": "code",
   "execution_count": 20,
   "id": "parliamentary-calgary",
   "metadata": {
    "execution": {
     "iopub.execute_input": "2021-12-22T00:28:04.382384Z",
     "iopub.status.busy": "2021-12-22T00:28:04.381811Z",
     "iopub.status.idle": "2021-12-22T00:28:05.014396Z",
     "shell.execute_reply": "2021-12-22T00:28:05.013887Z"
    },
    "papermill": {
     "duration": 0.670475,
     "end_time": "2021-12-22T00:28:05.014530",
     "exception": false,
     "start_time": "2021-12-22T00:28:04.344055",
     "status": "completed"
    },
    "tags": []
   },
   "outputs": [],
   "source": [
    "#hide\n",
    "import pandas as pd\n",
    "import matplotlib.pyplot as plt\n",
    "import matplotlib.ticker as ticker\n",
    "import matplotlib.animation as animation\n",
    "from IPython.display import HTML"
   ]
  },
  {
   "cell_type": "code",
   "execution_count": 21,
   "id": "lasting-extraction",
   "metadata": {
    "execution": {
     "iopub.execute_input": "2021-12-22T00:28:05.088930Z",
     "iopub.status.busy": "2021-12-22T00:28:05.088370Z",
     "iopub.status.idle": "2021-12-22T00:28:05.093952Z",
     "shell.execute_reply": "2021-12-22T00:28:05.094497Z"
    },
    "papermill": {
     "duration": 0.045867,
     "end_time": "2021-12-22T00:28:05.094623",
     "exception": false,
     "start_time": "2021-12-22T00:28:05.048756",
     "status": "completed"
    },
    "tags": []
   },
   "outputs": [],
   "source": [
    "#hide\n",
    "t = everydaycases.stack()"
   ]
  },
  {
   "cell_type": "code",
   "execution_count": 22,
   "id": "premier-sleeve",
   "metadata": {
    "execution": {
     "iopub.execute_input": "2021-12-22T00:28:05.167262Z",
     "iopub.status.busy": "2021-12-22T00:28:05.166666Z",
     "iopub.status.idle": "2021-12-22T00:28:05.176348Z",
     "shell.execute_reply": "2021-12-22T00:28:05.176808Z"
    },
    "papermill": {
     "duration": 0.049003,
     "end_time": "2021-12-22T00:28:05.176927",
     "exception": false,
     "start_time": "2021-12-22T00:28:05.127924",
     "status": "completed"
    },
    "tags": []
   },
   "outputs": [],
   "source": [
    "#hide\n",
    "g = t.reset_index(['Country/Region'])"
   ]
  },
  {
   "cell_type": "code",
   "execution_count": 23,
   "id": "distributed-pittsburgh",
   "metadata": {
    "execution": {
     "iopub.execute_input": "2021-12-22T00:28:05.248091Z",
     "iopub.status.busy": "2021-12-22T00:28:05.247417Z",
     "iopub.status.idle": "2021-12-22T00:28:05.250715Z",
     "shell.execute_reply": "2021-12-22T00:28:05.250204Z"
    },
    "papermill": {
     "duration": 0.04072,
     "end_time": "2021-12-22T00:28:05.250827",
     "exception": false,
     "start_time": "2021-12-22T00:28:05.210107",
     "status": "completed"
    },
    "tags": []
   },
   "outputs": [],
   "source": [
    "#hide\n",
    "g.index.name = 'date'"
   ]
  },
  {
   "cell_type": "code",
   "execution_count": 24,
   "id": "naked-donor",
   "metadata": {
    "execution": {
     "iopub.execute_input": "2021-12-22T00:28:05.325055Z",
     "iopub.status.busy": "2021-12-22T00:28:05.324483Z",
     "iopub.status.idle": "2021-12-22T00:28:05.328221Z",
     "shell.execute_reply": "2021-12-22T00:28:05.327729Z"
    },
    "papermill": {
     "duration": 0.042607,
     "end_time": "2021-12-22T00:28:05.328330",
     "exception": false,
     "start_time": "2021-12-22T00:28:05.285723",
     "status": "completed"
    },
    "tags": []
   },
   "outputs": [],
   "source": [
    "# #hide\n",
    "# g = g.reset_index(['date'])"
   ]
  },
  {
   "cell_type": "code",
   "execution_count": 25,
   "id": "incomplete-mustang",
   "metadata": {
    "execution": {
     "iopub.execute_input": "2021-12-22T00:28:05.400581Z",
     "iopub.status.busy": "2021-12-22T00:28:05.399989Z",
     "iopub.status.idle": "2021-12-22T00:28:05.403842Z",
     "shell.execute_reply": "2021-12-22T00:28:05.404445Z"
    },
    "papermill": {
     "duration": 0.0412,
     "end_time": "2021-12-22T00:28:05.404574",
     "exception": false,
     "start_time": "2021-12-22T00:28:05.363374",
     "status": "completed"
    },
    "tags": []
   },
   "outputs": [],
   "source": [
    "#hide\n",
    "# g.head()"
   ]
  },
  {
   "cell_type": "code",
   "execution_count": 26,
   "id": "specific-kruger",
   "metadata": {
    "execution": {
     "iopub.execute_input": "2021-12-22T00:28:05.475903Z",
     "iopub.status.busy": "2021-12-22T00:28:05.475303Z",
     "iopub.status.idle": "2021-12-22T00:28:05.477323Z",
     "shell.execute_reply": "2021-12-22T00:28:05.477760Z"
    },
    "papermill": {
     "duration": 0.039043,
     "end_time": "2021-12-22T00:28:05.477880",
     "exception": false,
     "start_time": "2021-12-22T00:28:05.438837",
     "status": "completed"
    },
    "tags": []
   },
   "outputs": [],
   "source": [
    "#hide\n",
    "# g.columns = ['date','country','cases']"
   ]
  },
  {
   "cell_type": "code",
   "execution_count": 27,
   "id": "tender-conversion",
   "metadata": {
    "execution": {
     "iopub.execute_input": "2021-12-22T00:28:05.548745Z",
     "iopub.status.busy": "2021-12-22T00:28:05.548005Z",
     "iopub.status.idle": "2021-12-22T00:28:05.550494Z",
     "shell.execute_reply": "2021-12-22T00:28:05.549920Z"
    },
    "papermill": {
     "duration": 0.038654,
     "end_time": "2021-12-22T00:28:05.550607",
     "exception": false,
     "start_time": "2021-12-22T00:28:05.511953",
     "status": "completed"
    },
    "tags": []
   },
   "outputs": [],
   "source": [
    "#hide\n",
    "# g['continent'] = g.country"
   ]
  },
  {
   "cell_type": "code",
   "execution_count": 28,
   "id": "substantial-wilderness",
   "metadata": {
    "execution": {
     "iopub.execute_input": "2021-12-22T00:28:05.623179Z",
     "iopub.status.busy": "2021-12-22T00:28:05.622607Z",
     "iopub.status.idle": "2021-12-22T00:28:05.626614Z",
     "shell.execute_reply": "2021-12-22T00:28:05.626085Z"
    },
    "papermill": {
     "duration": 0.040701,
     "end_time": "2021-12-22T00:28:05.626726",
     "exception": false,
     "start_time": "2021-12-22T00:28:05.586025",
     "status": "completed"
    },
    "tags": []
   },
   "outputs": [],
   "source": [
    "#hide\n",
    "# cols = list(g.columns.values)"
   ]
  },
  {
   "cell_type": "code",
   "execution_count": 29,
   "id": "solved-farming",
   "metadata": {
    "execution": {
     "iopub.execute_input": "2021-12-22T00:28:05.698463Z",
     "iopub.status.busy": "2021-12-22T00:28:05.697890Z",
     "iopub.status.idle": "2021-12-22T00:28:05.700459Z",
     "shell.execute_reply": "2021-12-22T00:28:05.699969Z"
    },
    "papermill": {
     "duration": 0.039128,
     "end_time": "2021-12-22T00:28:05.700569",
     "exception": false,
     "start_time": "2021-12-22T00:28:05.661441",
     "status": "completed"
    },
    "tags": []
   },
   "outputs": [],
   "source": [
    "#hide\n",
    "# cols.insert(0, cols.pop())"
   ]
  },
  {
   "cell_type": "code",
   "execution_count": 30,
   "id": "executed-adoption",
   "metadata": {
    "execution": {
     "iopub.execute_input": "2021-12-22T00:28:05.772019Z",
     "iopub.status.busy": "2021-12-22T00:28:05.771407Z",
     "iopub.status.idle": "2021-12-22T00:28:05.773536Z",
     "shell.execute_reply": "2021-12-22T00:28:05.772951Z"
    },
    "papermill": {
     "duration": 0.038953,
     "end_time": "2021-12-22T00:28:05.773646",
     "exception": false,
     "start_time": "2021-12-22T00:28:05.734693",
     "status": "completed"
    },
    "tags": []
   },
   "outputs": [],
   "source": [
    "#hide\n",
    "# g = g[cols]"
   ]
  },
  {
   "cell_type": "code",
   "execution_count": 31,
   "id": "subject-dublin",
   "metadata": {
    "execution": {
     "iopub.execute_input": "2021-12-22T00:28:05.845419Z",
     "iopub.status.busy": "2021-12-22T00:28:05.844834Z",
     "iopub.status.idle": "2021-12-22T00:28:05.846841Z",
     "shell.execute_reply": "2021-12-22T00:28:05.847298Z"
    },
    "papermill": {
     "duration": 0.039102,
     "end_time": "2021-12-22T00:28:05.847415",
     "exception": false,
     "start_time": "2021-12-22T00:28:05.808313",
     "status": "completed"
    },
    "tags": []
   },
   "outputs": [],
   "source": [
    "#hide\n",
    "# g['continent'] = g['continent'].map(mapping['map.continent'])"
   ]
  },
  {
   "cell_type": "code",
   "execution_count": 32,
   "id": "freelance-scout",
   "metadata": {
    "execution": {
     "iopub.execute_input": "2021-12-22T00:28:05.918010Z",
     "iopub.status.busy": "2021-12-22T00:28:05.917428Z",
     "iopub.status.idle": "2021-12-22T00:28:05.920820Z",
     "shell.execute_reply": "2021-12-22T00:28:05.921265Z"
    },
    "papermill": {
     "duration": 0.040096,
     "end_time": "2021-12-22T00:28:05.921395",
     "exception": false,
     "start_time": "2021-12-22T00:28:05.881299",
     "status": "completed"
    },
    "tags": []
   },
   "outputs": [],
   "source": [
    "#hide\n",
    "# g.head()"
   ]
  },
  {
   "cell_type": "code",
   "execution_count": 33,
   "id": "limited-engine",
   "metadata": {
    "execution": {
     "iopub.execute_input": "2021-12-22T00:28:05.994321Z",
     "iopub.status.busy": "2021-12-22T00:28:05.993753Z",
     "iopub.status.idle": "2021-12-22T00:28:05.997146Z",
     "shell.execute_reply": "2021-12-22T00:28:05.997583Z"
    },
    "papermill": {
     "duration": 0.04106,
     "end_time": "2021-12-22T00:28:05.997709",
     "exception": false,
     "start_time": "2021-12-22T00:28:05.956649",
     "status": "completed"
    },
    "tags": []
   },
   "outputs": [],
   "source": [
    "# hide\n",
    "# g['date'] = g['date'].astype('datetime64[ns]')"
   ]
  },
  {
   "cell_type": "code",
   "execution_count": 34,
   "id": "sophisticated-supervisor",
   "metadata": {
    "execution": {
     "iopub.execute_input": "2021-12-22T00:28:06.071640Z",
     "iopub.status.busy": "2021-12-22T00:28:06.071023Z",
     "iopub.status.idle": "2021-12-22T00:28:06.074733Z",
     "shell.execute_reply": "2021-12-22T00:28:06.074242Z"
    },
    "papermill": {
     "duration": 0.042096,
     "end_time": "2021-12-22T00:28:06.074845",
     "exception": false,
     "start_time": "2021-12-22T00:28:06.032749",
     "status": "completed"
    },
    "tags": []
   },
   "outputs": [],
   "source": [
    "#hide\n",
    "# g['date'] = g.date.dt.dayofyear"
   ]
  },
  {
   "cell_type": "code",
   "execution_count": 35,
   "id": "inside-dubai",
   "metadata": {
    "execution": {
     "iopub.execute_input": "2021-12-22T00:28:06.147532Z",
     "iopub.status.busy": "2021-12-22T00:28:06.146959Z",
     "iopub.status.idle": "2021-12-22T00:28:06.150444Z",
     "shell.execute_reply": "2021-12-22T00:28:06.150995Z"
    },
    "papermill": {
     "duration": 0.041002,
     "end_time": "2021-12-22T00:28:06.151119",
     "exception": false,
     "start_time": "2021-12-22T00:28:06.110117",
     "status": "completed"
    },
    "tags": []
   },
   "outputs": [],
   "source": [
    "#hide\n",
    "# g = g.rename(columns= {'continent':'group','country':'name','cases':'value'})"
   ]
  },
  {
   "cell_type": "code",
   "execution_count": 36,
   "id": "fleet-motorcycle",
   "metadata": {
    "execution": {
     "iopub.execute_input": "2021-12-22T00:28:06.229890Z",
     "iopub.status.busy": "2021-12-22T00:28:06.229315Z",
     "iopub.status.idle": "2021-12-22T00:28:06.231284Z",
     "shell.execute_reply": "2021-12-22T00:28:06.232740Z"
    },
    "papermill": {
     "duration": 0.044449,
     "end_time": "2021-12-22T00:28:06.232897",
     "exception": false,
     "start_time": "2021-12-22T00:28:06.188448",
     "status": "completed"
    },
    "tags": []
   },
   "outputs": [],
   "source": [
    "#hide\n",
    "# cols = ['name','group','day','value']"
   ]
  },
  {
   "cell_type": "code",
   "execution_count": 37,
   "id": "continued-sleeping",
   "metadata": {
    "execution": {
     "iopub.execute_input": "2021-12-22T00:28:06.307394Z",
     "iopub.status.busy": "2021-12-22T00:28:06.306822Z",
     "iopub.status.idle": "2021-12-22T00:28:06.310215Z",
     "shell.execute_reply": "2021-12-22T00:28:06.310654Z"
    },
    "papermill": {
     "duration": 0.041035,
     "end_time": "2021-12-22T00:28:06.310798",
     "exception": false,
     "start_time": "2021-12-22T00:28:06.269763",
     "status": "completed"
    },
    "tags": []
   },
   "outputs": [],
   "source": [
    "#hide\n",
    "# g.rename(columns= {'date':'day'},inplace = True)"
   ]
  },
  {
   "cell_type": "code",
   "execution_count": 38,
   "id": "major-fight",
   "metadata": {
    "execution": {
     "iopub.execute_input": "2021-12-22T00:28:06.383731Z",
     "iopub.status.busy": "2021-12-22T00:28:06.382380Z",
     "iopub.status.idle": "2021-12-22T00:28:06.385003Z",
     "shell.execute_reply": "2021-12-22T00:28:06.384375Z"
    },
    "papermill": {
     "duration": 0.039863,
     "end_time": "2021-12-22T00:28:06.385112",
     "exception": false,
     "start_time": "2021-12-22T00:28:06.345249",
     "status": "completed"
    },
    "tags": []
   },
   "outputs": [],
   "source": [
    "#hide\n",
    "# g = g[cols]"
   ]
  },
  {
   "cell_type": "code",
   "execution_count": 39,
   "id": "structured-mobile",
   "metadata": {
    "execution": {
     "iopub.execute_input": "2021-12-22T00:28:06.457747Z",
     "iopub.status.busy": "2021-12-22T00:28:06.457173Z",
     "iopub.status.idle": "2021-12-22T00:28:06.460665Z",
     "shell.execute_reply": "2021-12-22T00:28:06.461108Z"
    },
    "papermill": {
     "duration": 0.041435,
     "end_time": "2021-12-22T00:28:06.461232",
     "exception": false,
     "start_time": "2021-12-22T00:28:06.419797",
     "status": "completed"
    },
    "tags": []
   },
   "outputs": [],
   "source": [
    "# #hide\n",
    "# g = g[g.group.notna()]"
   ]
  },
  {
   "cell_type": "code",
   "execution_count": 40,
   "id": "determined-closing",
   "metadata": {
    "execution": {
     "iopub.execute_input": "2021-12-22T00:28:06.534259Z",
     "iopub.status.busy": "2021-12-22T00:28:06.533589Z",
     "iopub.status.idle": "2021-12-22T00:28:06.536157Z",
     "shell.execute_reply": "2021-12-22T00:28:06.535583Z"
    },
    "papermill": {
     "duration": 0.039383,
     "end_time": "2021-12-22T00:28:06.536265",
     "exception": false,
     "start_time": "2021-12-22T00:28:06.496882",
     "status": "completed"
    },
    "tags": []
   },
   "outputs": [],
   "source": [
    "# #hide\n",
    "# colors = dict(zip(\n",
    "#     [\"Oceania\", \"Europe\", \"Asia\", \"South America\", \"Middle East\", \"North America\", \"Africa\"],\n",
    "#     [\"#adb0ff\", \"#ffb3ff\", \"#90d595\", \"#e48381\", \"#aafbff\", \"#f7bb5f\", \"#eafb50\"]\n",
    "# ))\n",
    "# group_lk = g.set_index('name')['group'].to_dict()"
   ]
  },
  {
   "cell_type": "code",
   "execution_count": null,
   "id": "gross-drinking",
   "metadata": {
    "papermill": {
     "duration": 0.034153,
     "end_time": "2021-12-22T00:28:06.604506",
     "exception": false,
     "start_time": "2021-12-22T00:28:06.570353",
     "status": "completed"
    },
    "tags": []
   },
   "outputs": [],
   "source": []
  },
  {
   "cell_type": "code",
   "execution_count": 41,
   "id": "subject-macintosh",
   "metadata": {
    "execution": {
     "iopub.execute_input": "2021-12-22T00:28:06.684872Z",
     "iopub.status.busy": "2021-12-22T00:28:06.684281Z",
     "iopub.status.idle": "2021-12-22T00:28:06.687409Z",
     "shell.execute_reply": "2021-12-22T00:28:06.686893Z"
    },
    "papermill": {
     "duration": 0.049376,
     "end_time": "2021-12-22T00:28:06.687525",
     "exception": false,
     "start_time": "2021-12-22T00:28:06.638149",
     "status": "completed"
    },
    "tags": []
   },
   "outputs": [],
   "source": [
    "# #hide\n",
    "# fig, ax = plt.subplots(figsize=(15, 8))\n",
    "\n",
    "# def draw_barchart(current_day):\n",
    "#     dff = g[g['day'].eq(current_day)].sort_values(by='value', ascending=True).tail(10)\n",
    "#     ax.clear()\n",
    "#     ax.barh(dff['name'], dff['value'], color=[colors[group_lk[x]] for x in dff['name']])\n",
    "#     dx = dff['value'].max() / 200\n",
    "    \n",
    "#     for i, (value, name) in enumerate(zip(dff['value'], dff['name'])):\n",
    "#         ax.text(value-dx, i,     name,           size=14, weight=600, ha='right', va='bottom')\n",
    "#         ax.text(value-dx, i-.25, group_lk[name], size=10, color='#444444', ha='right', va='baseline')\n",
    "#         ax.text(value+dx, i,     f'{value:,.0f}',  size=14, ha='left',  va='center')\n",
    "#     ax.text(1, 0.4, current_day, transform=ax.transAxes, color='#777777', size=46, ha='right', weight=800)\n",
    "#     ax.text(0, 1.06, 'Population (thousands)', transform=ax.transAxes, size=12, color='#777777')\n",
    "#     ax.xaxis.set_major_formatter(ticker.StrMethodFormatter('{x:,.0f}'))\n",
    "#     ax.xaxis.set_ticks_position('top')\n",
    "#     ax.tick_params(axis='x', colors='#777777', labelsize=12)\n",
    "#     ax.set_yticks([])\n",
    "#     ax.margins(0, 0.01)\n",
    "#     ax.grid(which='major', axis='x', linestyle='-')\n",
    "#     ax.set_axisbelow(True)\n",
    "    \n",
    "#     ax.text(0, 1.15, 'Coronavirus',\n",
    "#             transform=ax.transAxes, size=24, weight=600, ha='left', va='top')\n",
    "# #     ax.text(1, 0, 'by @pratapvardhan; credit @jburnmurdoch', transform=ax.transAxes, color='#777777', ha='right',\n",
    "# #             bbox=dict(facecolor='white', alpha=0.8, edgecolor='white'))\n",
    "#     plt.box(False)"
   ]
  },
  {
   "cell_type": "code",
   "execution_count": 42,
   "id": "sexual-wages",
   "metadata": {
    "execution": {
     "iopub.execute_input": "2021-12-22T00:28:06.764930Z",
     "iopub.status.busy": "2021-12-22T00:28:06.764308Z",
     "iopub.status.idle": "2021-12-22T00:28:06.768263Z",
     "shell.execute_reply": "2021-12-22T00:28:06.768740Z"
    },
    "papermill": {
     "duration": 0.044223,
     "end_time": "2021-12-22T00:28:06.768875",
     "exception": false,
     "start_time": "2021-12-22T00:28:06.724652",
     "status": "completed"
    },
    "tags": []
   },
   "outputs": [],
   "source": [
    "# #hide_input\n",
    "# fig, ax = plt.subplots(figsize=(15, 8))\n",
    "# animator = animation.FuncAnimation(fig, draw_barchart, frames=range(g.day.values.min(), g.day.values.max()))\n",
    "# HTML(animator.to_jshtml())\n",
    "# # or use animator.to_html5_video() or animator.save() "
   ]
  },
  {
   "cell_type": "code",
   "execution_count": null,
   "id": "australian-container",
   "metadata": {
    "papermill": {
     "duration": 0.035355,
     "end_time": "2021-12-22T00:28:06.840752",
     "exception": false,
     "start_time": "2021-12-22T00:28:06.805397",
     "status": "completed"
    },
    "tags": []
   },
   "outputs": [],
   "source": []
  },
  {
   "cell_type": "code",
   "execution_count": null,
   "id": "mediterranean-pontiac",
   "metadata": {
    "papermill": {
     "duration": 0.036108,
     "end_time": "2021-12-22T00:28:06.912336",
     "exception": false,
     "start_time": "2021-12-22T00:28:06.876228",
     "status": "completed"
    },
    "tags": []
   },
   "outputs": [],
   "source": []
  },
  {
   "cell_type": "code",
   "execution_count": null,
   "id": "aging-legislature",
   "metadata": {
    "papermill": {
     "duration": 0.03611,
     "end_time": "2021-12-22T00:28:06.990668",
     "exception": false,
     "start_time": "2021-12-22T00:28:06.954558",
     "status": "completed"
    },
    "tags": []
   },
   "outputs": [],
   "source": []
  }
 ],
 "metadata": {
  "kernelspec": {
   "display_name": "Python 3",
   "language": "python",
   "name": "python3"
  },
  "language_info": {
   "codemirror_mode": {
    "name": "ipython",
    "version": 3
   },
   "file_extension": ".py",
   "mimetype": "text/x-python",
   "name": "python",
   "nbconvert_exporter": "python",
   "pygments_lexer": "ipython3",
   "version": "3.6.15"
  },
  "papermill": {
   "duration": 6.750255,
   "end_time": "2021-12-22T00:28:07.339788",
   "environment_variables": {},
   "exception": null,
   "input_path": "2020-03-21-covid19exp.ipynb",
   "output_path": "2020-03-21-covid19exp.ipynb",
   "parameters": {},
   "start_time": "2021-12-22T00:28:00.589533",
   "version": "2.0.0"
  }
 },
 "nbformat": 4,
 "nbformat_minor": 5
}