{
 "cells": [
  {
   "cell_type": "markdown",
   "id": "muslim-click",
   "metadata": {
    "papermill": {
     "duration": 0.046714,
     "end_time": "2022-01-24T12:12:46.149253",
     "exception": false,
     "start_time": "2022-01-24T12:12:46.102539",
     "status": "completed"
    },
    "tags": []
   },
   "source": [
    "# COVID-19 Case Race\n",
    "> A race chart to see rising cases around the world\n",
    "\n",
    "- author: Hargun Oberoi\n",
    "- image: images/covid-overview.png\n",
    "- hide: false\n",
    "- badges: false"
   ]
  },
  {
   "cell_type": "code",
   "execution_count": 1,
   "id": "proof-material",
   "metadata": {
    "execution": {
     "iopub.execute_input": "2022-01-24T12:12:46.256796Z",
     "iopub.status.busy": "2022-01-24T12:12:46.256078Z",
     "iopub.status.idle": "2022-01-24T12:12:46.676310Z",
     "shell.execute_reply": "2022-01-24T12:12:46.676878Z"
    },
    "papermill": {
     "duration": 0.476023,
     "end_time": "2022-01-24T12:12:46.677078",
     "exception": false,
     "start_time": "2022-01-24T12:12:46.201055",
     "status": "completed"
    },
    "tags": []
   },
   "outputs": [],
   "source": [
    "#hide\n",
    "import numpy as np\n",
    "import pandas as pd\n",
    "from jinja2 import Template\n",
    "from IPython.display import HTML"
   ]
  },
  {
   "cell_type": "code",
   "execution_count": 2,
   "id": "developed-terminology",
   "metadata": {
    "execution": {
     "iopub.execute_input": "2022-01-24T12:12:46.763681Z",
     "iopub.status.busy": "2022-01-24T12:12:46.762963Z",
     "iopub.status.idle": "2022-01-24T12:12:46.765689Z",
     "shell.execute_reply": "2022-01-24T12:12:46.765100Z"
    },
    "papermill": {
     "duration": 0.046084,
     "end_time": "2022-01-24T12:12:46.765816",
     "exception": false,
     "start_time": "2022-01-24T12:12:46.719732",
     "status": "completed"
    },
    "tags": []
   },
   "outputs": [],
   "source": [
    "#hide\n",
    "\n",
    "# FETCH\n",
    "base_url = 'https://raw.githubusercontent.com/pratapvardhan/notebooks/master/covid19/'\n",
    "paths = {\n",
    "    'mapping': base_url + 'mapping_countries.csv',\n",
    "    'overview': base_url + 'overview.tpl'\n",
    "}"
   ]
  },
  {
   "cell_type": "code",
   "execution_count": 3,
   "id": "dynamic-saver",
   "metadata": {
    "execution": {
     "iopub.execute_input": "2022-01-24T12:12:46.849990Z",
     "iopub.status.busy": "2022-01-24T12:12:46.849366Z",
     "iopub.status.idle": "2022-01-24T12:12:46.852371Z",
     "shell.execute_reply": "2022-01-24T12:12:46.852956Z"
    },
    "papermill": {
     "duration": 0.050396,
     "end_time": "2022-01-24T12:12:46.853148",
     "exception": false,
     "start_time": "2022-01-24T12:12:46.802752",
     "status": "completed"
    },
    "tags": []
   },
   "outputs": [
    {
     "data": {
      "text/plain": [
       "'https://raw.githubusercontent.com/pratapvardhan/notebooks/master/covid19/mapping_countries.csv'"
      ]
     },
     "execution_count": 3,
     "metadata": {},
     "output_type": "execute_result"
    }
   ],
   "source": [
    "#hide\n",
    "paths['mapping']"
   ]
  },
  {
   "cell_type": "code",
   "execution_count": 4,
   "id": "urban-software",
   "metadata": {
    "execution": {
     "iopub.execute_input": "2022-01-24T12:12:46.934837Z",
     "iopub.status.busy": "2022-01-24T12:12:46.934079Z",
     "iopub.status.idle": "2022-01-24T12:12:46.936601Z",
     "shell.execute_reply": "2022-01-24T12:12:46.935942Z"
    },
    "papermill": {
     "duration": 0.046809,
     "end_time": "2022-01-24T12:12:46.936722",
     "exception": false,
     "start_time": "2022-01-24T12:12:46.889913",
     "status": "completed"
    },
    "tags": []
   },
   "outputs": [],
   "source": [
    "#hide\n",
    "def get_mappings(url):\n",
    "    df = pd.read_csv(url)\n",
    "    return {\n",
    "        'df': df,\n",
    "        'replace.country': dict(df.dropna(subset=['Name']).set_index('Country')['Name']),\n",
    "        'map.continent': dict(df.set_index('Name')['Continent'])\n",
    "    }"
   ]
  },
  {
   "cell_type": "code",
   "execution_count": 5,
   "id": "intimate-machinery",
   "metadata": {
    "execution": {
     "iopub.execute_input": "2022-01-24T12:12:47.020691Z",
     "iopub.status.busy": "2022-01-24T12:12:47.020034Z",
     "iopub.status.idle": "2022-01-24T12:12:47.068634Z",
     "shell.execute_reply": "2022-01-24T12:12:47.069212Z"
    },
    "papermill": {
     "duration": 0.094837,
     "end_time": "2022-01-24T12:12:47.069514",
     "exception": false,
     "start_time": "2022-01-24T12:12:46.974677",
     "status": "completed"
    },
    "tags": []
   },
   "outputs": [],
   "source": [
    "#hide\n",
    "mapping = get_mappings(paths['mapping'])"
   ]
  },
  {
   "cell_type": "code",
   "execution_count": 6,
   "id": "certified-tactics",
   "metadata": {
    "execution": {
     "iopub.execute_input": "2022-01-24T12:12:47.160158Z",
     "iopub.status.busy": "2022-01-24T12:12:47.159458Z",
     "iopub.status.idle": "2022-01-24T12:12:47.163675Z",
     "shell.execute_reply": "2022-01-24T12:12:47.164246Z"
    },
    "papermill": {
     "duration": 0.05242,
     "end_time": "2022-01-24T12:12:47.164392",
     "exception": false,
     "start_time": "2022-01-24T12:12:47.111972",
     "status": "completed"
    },
    "tags": []
   },
   "outputs": [],
   "source": [
    "#hide\n",
    "def get_template(path):\n",
    "    from urllib.parse import urlparse\n",
    "    if bool(urlparse(path).netloc):\n",
    "        from urllib.request import urlopen\n",
    "        return urlopen(path).read().decode('utf8')\n",
    "    return open(path).read()"
   ]
  },
  {
   "cell_type": "code",
   "execution_count": 7,
   "id": "realistic-blast",
   "metadata": {
    "execution": {
     "iopub.execute_input": "2022-01-24T12:12:47.251387Z",
     "iopub.status.busy": "2022-01-24T12:12:47.250650Z",
     "iopub.status.idle": "2022-01-24T12:12:47.253578Z",
     "shell.execute_reply": "2022-01-24T12:12:47.253083Z"
    },
    "papermill": {
     "duration": 0.047442,
     "end_time": "2022-01-24T12:12:47.253696",
     "exception": false,
     "start_time": "2022-01-24T12:12:47.206254",
     "status": "completed"
    },
    "tags": []
   },
   "outputs": [],
   "source": [
    "#hide\n",
    "def get_frame(name):\n",
    "    url = (\n",
    "        'https://raw.githubusercontent.com/CSSEGISandData/COVID-19/master/csse_covid_19_data/'\n",
    "        f'csse_covid_19_time_series/time_series_covid19_{name}_global.csv')\n",
    "    df = pd.read_csv(url)\n",
    "    # rename countries\n",
    "    df['Country/Region'] = df['Country/Region'].replace(mapping['replace.country'])\n",
    "    return df"
   ]
  },
  {
   "cell_type": "code",
   "execution_count": 8,
   "id": "affiliated-characterization",
   "metadata": {
    "execution": {
     "iopub.execute_input": "2022-01-24T12:12:47.338005Z",
     "iopub.status.busy": "2022-01-24T12:12:47.337343Z",
     "iopub.status.idle": "2022-01-24T12:12:47.341468Z",
     "shell.execute_reply": "2022-01-24T12:12:47.340915Z"
    },
    "papermill": {
     "duration": 0.050214,
     "end_time": "2022-01-24T12:12:47.341626",
     "exception": false,
     "start_time": "2022-01-24T12:12:47.291412",
     "status": "completed"
    },
    "tags": []
   },
   "outputs": [],
   "source": [
    "#hide\n",
    "def get_dates(df):\n",
    "    dt_cols = df.columns[~df.columns.isin(['Province/State', 'Country/Region', 'Lat', 'Long'])]\n",
    "    LAST_DATE_I = -1\n",
    "    # sometimes last column may be empty, then go backwards\n",
    "    for i in range(-1, -len(dt_cols), -1):\n",
    "        if not df[dt_cols[i]].fillna(0).eq(0).all():\n",
    "            LAST_DATE_I = i\n",
    "            break\n",
    "    return LAST_DATE_I, dt_cols"
   ]
  },
  {
   "cell_type": "code",
   "execution_count": 9,
   "id": "recent-optimization",
   "metadata": {
    "execution": {
     "iopub.execute_input": "2022-01-24T12:12:47.424014Z",
     "iopub.status.busy": "2022-01-24T12:12:47.423330Z",
     "iopub.status.idle": "2022-01-24T12:12:47.887463Z",
     "shell.execute_reply": "2022-01-24T12:12:47.888048Z"
    },
    "papermill": {
     "duration": 0.507669,
     "end_time": "2022-01-24T12:12:47.888214",
     "exception": false,
     "start_time": "2022-01-24T12:12:47.380545",
     "status": "completed"
    },
    "tags": []
   },
   "outputs": [],
   "source": [
    "#hide\n",
    "COL_REGION = 'Country/Region'\n",
    "# Confirmed, Recovered, Deaths\n",
    "df = get_frame('confirmed')\n",
    "# dft_: timeseries, dfc_: today country agg\n",
    "dft_cases = df\n",
    "dft_deaths = get_frame('deaths')\n",
    "dft_recovered = get_frame('recovered')\n",
    "LAST_DATE_I, dt_cols = get_dates(df)"
   ]
  },
  {
   "cell_type": "code",
   "execution_count": 10,
   "id": "absolute-copper",
   "metadata": {
    "execution": {
     "iopub.execute_input": "2022-01-24T12:12:47.974333Z",
     "iopub.status.busy": "2022-01-24T12:12:47.973628Z",
     "iopub.status.idle": "2022-01-24T12:12:47.976158Z",
     "shell.execute_reply": "2022-01-24T12:12:47.975466Z"
    },
    "papermill": {
     "duration": 0.045969,
     "end_time": "2022-01-24T12:12:47.976320",
     "exception": false,
     "start_time": "2022-01-24T12:12:47.930351",
     "status": "completed"
    },
    "tags": []
   },
   "outputs": [],
   "source": [
    "#hide\n",
    "LAST_DATE_I, dt_cols = get_dates(df)\n",
    "dt_today =dt_cols[LAST_DATE_I]\n",
    "# dt_5day = dt_cols[LAST_DATE_I - 5]\n",
    "dt_yday = dt_cols[LAST_DATE_I - 1]"
   ]
  },
  {
   "cell_type": "code",
   "execution_count": 11,
   "id": "restricted-sheriff",
   "metadata": {
    "execution": {
     "iopub.execute_input": "2022-01-24T12:12:48.063146Z",
     "iopub.status.busy": "2022-01-24T12:12:48.062106Z",
     "iopub.status.idle": "2022-01-24T12:12:48.071435Z",
     "shell.execute_reply": "2022-01-24T12:12:48.072174Z"
    },
    "papermill": {
     "duration": 0.057019,
     "end_time": "2022-01-24T12:12:48.072335",
     "exception": false,
     "start_time": "2022-01-24T12:12:48.015316",
     "status": "completed"
    },
    "tags": []
   },
   "outputs": [],
   "source": [
    "#hide\n",
    "dfc_cases = dft_cases.groupby(COL_REGION)[dt_today].sum()\n",
    "dfc_deaths = dft_deaths.groupby(COL_REGION)[dt_today].sum()\n",
    "# dfp_cases = dft_cases.groupby(COL_REGION)[dt_5day].sum()\n",
    "# dfp_deaths = dft_deaths.groupby(COL_REGION)[dt_5day].sum()\n",
    "dfp_cases = dft_cases.groupby(COL_REGION)[dt_yday].sum()\n",
    "dfp_deaths = dft_deaths.groupby(COL_REGION)[dt_yday].sum()"
   ]
  },
  {
   "cell_type": "code",
   "execution_count": 12,
   "id": "deluxe-hepatitis",
   "metadata": {
    "execution": {
     "iopub.execute_input": "2022-01-24T12:12:48.159421Z",
     "iopub.status.busy": "2022-01-24T12:12:48.158528Z",
     "iopub.status.idle": "2022-01-24T12:12:48.164067Z",
     "shell.execute_reply": "2022-01-24T12:12:48.164735Z"
    },
    "papermill": {
     "duration": 0.051879,
     "end_time": "2022-01-24T12:12:48.164876",
     "exception": false,
     "start_time": "2022-01-24T12:12:48.112997",
     "status": "completed"
    },
    "tags": []
   },
   "outputs": [],
   "source": [
    "#hide\n",
    "df_table = (pd.DataFrame(dict(Cases = dfc_cases, Deaths = dfc_deaths, PCases = dfp_cases, PDeaths = dfp_deaths))\n",
    "            .sort_values(by = ['Cases','Deaths'], ascending = [False, False])\n",
    "            .reset_index())"
   ]
  },
  {
   "cell_type": "code",
   "execution_count": 13,
   "id": "educational-chancellor",
   "metadata": {
    "execution": {
     "iopub.execute_input": "2022-01-24T12:12:48.276064Z",
     "iopub.status.busy": "2022-01-24T12:12:48.275218Z",
     "iopub.status.idle": "2022-01-24T12:12:48.278401Z",
     "shell.execute_reply": "2022-01-24T12:12:48.278951Z"
    },
    "papermill": {
     "duration": 0.073435,
     "end_time": "2022-01-24T12:12:48.279105",
     "exception": false,
     "start_time": "2022-01-24T12:12:48.205670",
     "status": "completed"
    },
    "tags": []
   },
   "outputs": [
    {
     "data": {
      "text/html": [
       "<div>\n",
       "<style scoped>\n",
       "    .dataframe tbody tr th:only-of-type {\n",
       "        vertical-align: middle;\n",
       "    }\n",
       "\n",
       "    .dataframe tbody tr th {\n",
       "        vertical-align: top;\n",
       "    }\n",
       "\n",
       "    .dataframe thead th {\n",
       "        text-align: right;\n",
       "    }\n",
       "</style>\n",
       "<table border=\"1\" class=\"dataframe\">\n",
       "  <thead>\n",
       "    <tr style=\"text-align: right;\">\n",
       "      <th></th>\n",
       "      <th>Country/Region</th>\n",
       "      <th>Cases</th>\n",
       "      <th>Deaths</th>\n",
       "      <th>PCases</th>\n",
       "      <th>PDeaths</th>\n",
       "      <th>Cases (+)</th>\n",
       "      <th>Deaths (+)</th>\n",
       "      <th>Fatality Rate</th>\n",
       "      <th>Continent</th>\n",
       "    </tr>\n",
       "  </thead>\n",
       "  <tbody>\n",
       "    <tr>\n",
       "      <th>0</th>\n",
       "      <td>US</td>\n",
       "      <td>70700678</td>\n",
       "      <td>866540</td>\n",
       "      <td>70495874</td>\n",
       "      <td>865968</td>\n",
       "      <td>204804</td>\n",
       "      <td>572</td>\n",
       "      <td>1.23</td>\n",
       "      <td>North America</td>\n",
       "    </tr>\n",
       "    <tr>\n",
       "      <th>1</th>\n",
       "      <td>India</td>\n",
       "      <td>39543328</td>\n",
       "      <td>489848</td>\n",
       "      <td>39237264</td>\n",
       "      <td>489409</td>\n",
       "      <td>306064</td>\n",
       "      <td>439</td>\n",
       "      <td>1.24</td>\n",
       "      <td>Asia</td>\n",
       "    </tr>\n",
       "    <tr>\n",
       "      <th>2</th>\n",
       "      <td>Brazil</td>\n",
       "      <td>24054405</td>\n",
       "      <td>623370</td>\n",
       "      <td>23931609</td>\n",
       "      <td>623191</td>\n",
       "      <td>122796</td>\n",
       "      <td>179</td>\n",
       "      <td>2.59</td>\n",
       "      <td>South America</td>\n",
       "    </tr>\n",
       "    <tr>\n",
       "      <th>3</th>\n",
       "      <td>France</td>\n",
       "      <td>16807733</td>\n",
       "      <td>129620</td>\n",
       "      <td>16506090</td>\n",
       "      <td>129505</td>\n",
       "      <td>301643</td>\n",
       "      <td>115</td>\n",
       "      <td>0.77</td>\n",
       "      <td>Europe</td>\n",
       "    </tr>\n",
       "    <tr>\n",
       "      <th>4</th>\n",
       "      <td>United Kingdom</td>\n",
       "      <td>15966838</td>\n",
       "      <td>154374</td>\n",
       "      <td>15891905</td>\n",
       "      <td>154298</td>\n",
       "      <td>74933</td>\n",
       "      <td>76</td>\n",
       "      <td>0.97</td>\n",
       "      <td>Europe</td>\n",
       "    </tr>\n",
       "  </tbody>\n",
       "</table>\n",
       "</div>"
      ],
      "text/plain": [
       "   Country/Region     Cases  Deaths    PCases  PDeaths  Cases (+)  Deaths (+)  \\\n",
       "0              US  70700678  866540  70495874   865968     204804         572   \n",
       "1           India  39543328  489848  39237264   489409     306064         439   \n",
       "2          Brazil  24054405  623370  23931609   623191     122796         179   \n",
       "3          France  16807733  129620  16506090   129505     301643         115   \n",
       "4  United Kingdom  15966838  154374  15891905   154298      74933          76   \n",
       "\n",
       "   Fatality Rate      Continent  \n",
       "0           1.23  North America  \n",
       "1           1.24           Asia  \n",
       "2           2.59  South America  \n",
       "3           0.77         Europe  \n",
       "4           0.97         Europe  "
      ]
     },
     "execution_count": 13,
     "metadata": {},
     "output_type": "execute_result"
    }
   ],
   "source": [
    "#hide\n",
    "for c in 'Cases, Deaths'.split(', '):\n",
    "    df_table[f'{c} (+)'] = (df_table[c] - df_table[f'P{c}']).clip(0)\n",
    "    #Clip ça veut dire, les chiffres negatif sont interdit\n",
    "df_table['Fatality Rate'] = (100* df_table['Deaths']/ df_table['Cases']).round(2)\n",
    "df_table['Continent'] = df_table['Country/Region'].map(mapping['map.continent'])\n",
    "df_table.head(5)"
   ]
  },
  {
   "cell_type": "code",
   "execution_count": 14,
   "id": "aboriginal-bulgaria",
   "metadata": {
    "execution": {
     "iopub.execute_input": "2022-01-24T12:12:48.364574Z",
     "iopub.status.busy": "2022-01-24T12:12:48.363878Z",
     "iopub.status.idle": "2022-01-24T12:12:48.366878Z",
     "shell.execute_reply": "2022-01-24T12:12:48.366144Z"
    },
    "papermill": {
     "duration": 0.048377,
     "end_time": "2022-01-24T12:12:48.367010",
     "exception": false,
     "start_time": "2022-01-24T12:12:48.318633",
     "status": "completed"
    },
    "tags": []
   },
   "outputs": [],
   "source": [
    "#hide\n",
    "#delete problematic countries from table\n",
    "df_table = df_table[~df_table['Country/Region'].isin(['Cape Verde', 'Cruise Ship', 'Kosovo'])]"
   ]
  },
  {
   "cell_type": "code",
   "execution_count": 15,
   "id": "fantastic-effect",
   "metadata": {
    "execution": {
     "iopub.execute_input": "2022-01-24T12:12:48.459996Z",
     "iopub.status.busy": "2022-01-24T12:12:48.459281Z",
     "iopub.status.idle": "2022-01-24T12:12:48.482218Z",
     "shell.execute_reply": "2022-01-24T12:12:48.482875Z"
    },
    "papermill": {
     "duration": 0.073414,
     "end_time": "2022-01-24T12:12:48.483022",
     "exception": false,
     "start_time": "2022-01-24T12:12:48.409608",
     "status": "completed"
    },
    "tags": []
   },
   "outputs": [
    {
     "data": {
      "text/html": [
       "<div>\n",
       "<style scoped>\n",
       "    .dataframe tbody tr th:only-of-type {\n",
       "        vertical-align: middle;\n",
       "    }\n",
       "\n",
       "    .dataframe tbody tr th {\n",
       "        vertical-align: top;\n",
       "    }\n",
       "\n",
       "    .dataframe thead th {\n",
       "        text-align: right;\n",
       "    }\n",
       "</style>\n",
       "<table border=\"1\" class=\"dataframe\">\n",
       "  <thead>\n",
       "    <tr style=\"text-align: right;\">\n",
       "      <th></th>\n",
       "      <th>Country/Region</th>\n",
       "      <th>Cases</th>\n",
       "      <th>Deaths</th>\n",
       "      <th>PCases</th>\n",
       "      <th>PDeaths</th>\n",
       "      <th>Cases (+)</th>\n",
       "      <th>Deaths (+)</th>\n",
       "      <th>Fatality Rate</th>\n",
       "      <th>Continent</th>\n",
       "    </tr>\n",
       "  </thead>\n",
       "  <tbody>\n",
       "    <tr>\n",
       "      <th>0</th>\n",
       "      <td>US</td>\n",
       "      <td>70700678</td>\n",
       "      <td>866540</td>\n",
       "      <td>70495874</td>\n",
       "      <td>865968</td>\n",
       "      <td>204804</td>\n",
       "      <td>572</td>\n",
       "      <td>1.2</td>\n",
       "      <td>North America</td>\n",
       "    </tr>\n",
       "    <tr>\n",
       "      <th>1</th>\n",
       "      <td>India</td>\n",
       "      <td>39543328</td>\n",
       "      <td>489848</td>\n",
       "      <td>39237264</td>\n",
       "      <td>489409</td>\n",
       "      <td>306064</td>\n",
       "      <td>439</td>\n",
       "      <td>1.2</td>\n",
       "      <td>Asia</td>\n",
       "    </tr>\n",
       "    <tr>\n",
       "      <th>2</th>\n",
       "      <td>Brazil</td>\n",
       "      <td>24054405</td>\n",
       "      <td>623370</td>\n",
       "      <td>23931609</td>\n",
       "      <td>623191</td>\n",
       "      <td>122796</td>\n",
       "      <td>179</td>\n",
       "      <td>2.6</td>\n",
       "      <td>South America</td>\n",
       "    </tr>\n",
       "    <tr>\n",
       "      <th>3</th>\n",
       "      <td>France</td>\n",
       "      <td>16807733</td>\n",
       "      <td>129620</td>\n",
       "      <td>16506090</td>\n",
       "      <td>129505</td>\n",
       "      <td>301643</td>\n",
       "      <td>115</td>\n",
       "      <td>0.8</td>\n",
       "      <td>Europe</td>\n",
       "    </tr>\n",
       "    <tr>\n",
       "      <th>4</th>\n",
       "      <td>United Kingdom</td>\n",
       "      <td>15966838</td>\n",
       "      <td>154374</td>\n",
       "      <td>15891905</td>\n",
       "      <td>154298</td>\n",
       "      <td>74933</td>\n",
       "      <td>76</td>\n",
       "      <td>1.0</td>\n",
       "      <td>Europe</td>\n",
       "    </tr>\n",
       "  </tbody>\n",
       "</table>\n",
       "</div>"
      ],
      "text/plain": [
       "   Country/Region     Cases  Deaths    PCases  PDeaths  Cases (+)  Deaths (+)  \\\n",
       "0              US  70700678  866540  70495874   865968     204804         572   \n",
       "1           India  39543328  489848  39237264   489409     306064         439   \n",
       "2          Brazil  24054405  623370  23931609   623191     122796         179   \n",
       "3          France  16807733  129620  16506090   129505     301643         115   \n",
       "4  United Kingdom  15966838  154374  15891905   154298      74933          76   \n",
       "\n",
       "   Fatality Rate      Continent  \n",
       "0            1.2  North America  \n",
       "1            1.2           Asia  \n",
       "2            2.6  South America  \n",
       "3            0.8         Europe  \n",
       "4            1.0         Europe  "
      ]
     },
     "execution_count": 15,
     "metadata": {},
     "output_type": "execute_result"
    }
   ],
   "source": [
    "#hide\n",
    "df_table = (pd.DataFrame(dict(Cases=dfc_cases, Deaths=dfc_deaths, PCases=dfp_cases, PDeaths=dfp_deaths))\n",
    "             .sort_values(by=['Cases', 'Deaths'], ascending=[False, False])\n",
    "             .reset_index())\n",
    "df_table.rename(columns={'index': 'Country/Region'}, inplace=True)\n",
    "for c in 'Cases, Deaths'.split(', '):\n",
    "    df_table[f'{c} (+)'] = (df_table[c] - df_table[f'P{c}']).clip(0)  # DATA BUG\n",
    "df_table['Fatality Rate'] = (100 * df_table['Deaths'] / df_table['Cases']).round(1)\n",
    "df_table['Continent'] = df_table['Country/Region'].map(mapping['map.continent'])\n",
    "df_table.head(5)"
   ]
  },
  {
   "cell_type": "code",
   "execution_count": 16,
   "id": "fewer-occasion",
   "metadata": {
    "execution": {
     "iopub.execute_input": "2022-01-24T12:12:48.567935Z",
     "iopub.status.busy": "2022-01-24T12:12:48.567246Z",
     "iopub.status.idle": "2022-01-24T12:12:48.569786Z",
     "shell.execute_reply": "2022-01-24T12:12:48.569270Z"
    },
    "papermill": {
     "duration": 0.048316,
     "end_time": "2022-01-24T12:12:48.569907",
     "exception": false,
     "start_time": "2022-01-24T12:12:48.521591",
     "status": "completed"
    },
    "tags": []
   },
   "outputs": [],
   "source": [
    "#hide\n",
    "#delete problematic countries from table\n",
    "df_table = df_table[~df_table['Country/Region'].isin(['Cape Verde', 'Cruise Ship', 'Kosovo'])]"
   ]
  },
  {
   "cell_type": "code",
   "execution_count": 17,
   "id": "related-center",
   "metadata": {
    "execution": {
     "iopub.execute_input": "2022-01-24T12:12:48.669820Z",
     "iopub.status.busy": "2022-01-24T12:12:48.669188Z",
     "iopub.status.idle": "2022-01-24T12:12:48.673066Z",
     "shell.execute_reply": "2022-01-24T12:12:48.672504Z"
    },
    "papermill": {
     "duration": 0.063777,
     "end_time": "2022-01-24T12:12:48.673212",
     "exception": false,
     "start_time": "2022-01-24T12:12:48.609435",
     "status": "completed"
    },
    "tags": []
   },
   "outputs": [],
   "source": [
    "#hide\n",
    "metrics = [df_table.columns[index] for index in [1,2,5,6]]\n",
    "# s_china = df_table[df_table['Country/Region'].eq('China')][metrics].sum().add_prefix('China ')\n",
    "s_us = df_table[df_table['Country/Region'].eq('US')][metrics].sum().add_prefix('US ')\n",
    "s_eu = df_table[df_table['Continent'].eq('Europe')][metrics].sum().add_prefix('EU ')\n",
    "s_ind = df_table[df_table['Country/Region'].eq('India')][metrics].sum().add_prefix('India ')\n",
    "summary = {'updated': pd.to_datetime(dt_today), 'since': pd.to_datetime(dt_yday)}\n",
    "summary = {'updated': pd.to_datetime(dt_today), 'since': pd.to_datetime(dt_yday)}\n",
    "summary = {**summary, **df_table[metrics].sum(), **s_ind, **s_us, **s_eu}"
   ]
  },
  {
   "cell_type": "code",
   "execution_count": 18,
   "id": "engaging-syndrome",
   "metadata": {
    "execution": {
     "iopub.execute_input": "2022-01-24T12:12:48.764863Z",
     "iopub.status.busy": "2022-01-24T12:12:48.764092Z",
     "iopub.status.idle": "2022-01-24T12:12:48.781717Z",
     "shell.execute_reply": "2022-01-24T12:12:48.782310Z"
    },
    "papermill": {
     "duration": 0.068617,
     "end_time": "2022-01-24T12:12:48.782482",
     "exception": false,
     "start_time": "2022-01-24T12:12:48.713865",
     "status": "completed"
    },
    "tags": []
   },
   "outputs": [],
   "source": [
    "#hide\n",
    "dft_ct_new_cases = dft_cases.groupby(COL_REGION)[dt_cols].sum().diff(axis=1).fillna(0).astype(int)"
   ]
  },
  {
   "cell_type": "code",
   "execution_count": 19,
   "id": "neutral-assignment",
   "metadata": {
    "execution": {
     "iopub.execute_input": "2022-01-24T12:12:48.874461Z",
     "iopub.status.busy": "2022-01-24T12:12:48.873731Z",
     "iopub.status.idle": "2022-01-24T12:12:48.876050Z",
     "shell.execute_reply": "2022-01-24T12:12:48.876678Z"
    },
    "papermill": {
     "duration": 0.052869,
     "end_time": "2022-01-24T12:12:48.876827",
     "exception": false,
     "start_time": "2022-01-24T12:12:48.823958",
     "status": "completed"
    },
    "tags": []
   },
   "outputs": [],
   "source": [
    "#hide\n",
    "everydaycases = dft_ct_new_cases.cumsum(axis=1)"
   ]
  },
  {
   "cell_type": "code",
   "execution_count": 20,
   "id": "parliamentary-calgary",
   "metadata": {
    "execution": {
     "iopub.execute_input": "2022-01-24T12:12:48.965610Z",
     "iopub.status.busy": "2022-01-24T12:12:48.964618Z",
     "iopub.status.idle": "2022-01-24T12:12:49.838703Z",
     "shell.execute_reply": "2022-01-24T12:12:49.839338Z"
    },
    "papermill": {
     "duration": 0.922465,
     "end_time": "2022-01-24T12:12:49.839585",
     "exception": false,
     "start_time": "2022-01-24T12:12:48.917120",
     "status": "completed"
    },
    "tags": []
   },
   "outputs": [],
   "source": [
    "#hide\n",
    "import pandas as pd\n",
    "import matplotlib.pyplot as plt\n",
    "import matplotlib.ticker as ticker\n",
    "import matplotlib.animation as animation\n",
    "from IPython.display import HTML"
   ]
  },
  {
   "cell_type": "code",
   "execution_count": 21,
   "id": "lasting-extraction",
   "metadata": {
    "execution": {
     "iopub.execute_input": "2022-01-24T12:12:49.928632Z",
     "iopub.status.busy": "2022-01-24T12:12:49.927865Z",
     "iopub.status.idle": "2022-01-24T12:12:49.935449Z",
     "shell.execute_reply": "2022-01-24T12:12:49.935959Z"
    },
    "papermill": {
     "duration": 0.055188,
     "end_time": "2022-01-24T12:12:49.936115",
     "exception": false,
     "start_time": "2022-01-24T12:12:49.880927",
     "status": "completed"
    },
    "tags": []
   },
   "outputs": [],
   "source": [
    "#hide\n",
    "t = everydaycases.stack()"
   ]
  },
  {
   "cell_type": "code",
   "execution_count": 22,
   "id": "premier-sleeve",
   "metadata": {
    "execution": {
     "iopub.execute_input": "2022-01-24T12:12:50.020692Z",
     "iopub.status.busy": "2022-01-24T12:12:50.019942Z",
     "iopub.status.idle": "2022-01-24T12:12:50.030369Z",
     "shell.execute_reply": "2022-01-24T12:12:50.031085Z"
    },
    "papermill": {
     "duration": 0.055026,
     "end_time": "2022-01-24T12:12:50.031235",
     "exception": false,
     "start_time": "2022-01-24T12:12:49.976209",
     "status": "completed"
    },
    "tags": []
   },
   "outputs": [],
   "source": [
    "#hide\n",
    "g = t.reset_index(['Country/Region'])"
   ]
  },
  {
   "cell_type": "code",
   "execution_count": 23,
   "id": "distributed-pittsburgh",
   "metadata": {
    "execution": {
     "iopub.execute_input": "2022-01-24T12:12:50.119264Z",
     "iopub.status.busy": "2022-01-24T12:12:50.118587Z",
     "iopub.status.idle": "2022-01-24T12:12:50.120591Z",
     "shell.execute_reply": "2022-01-24T12:12:50.121257Z"
    },
    "papermill": {
     "duration": 0.048313,
     "end_time": "2022-01-24T12:12:50.121402",
     "exception": false,
     "start_time": "2022-01-24T12:12:50.073089",
     "status": "completed"
    },
    "tags": []
   },
   "outputs": [],
   "source": [
    "#hide\n",
    "g.index.name = 'date'"
   ]
  },
  {
   "cell_type": "code",
   "execution_count": 24,
   "id": "naked-donor",
   "metadata": {
    "execution": {
     "iopub.execute_input": "2022-01-24T12:12:50.207429Z",
     "iopub.status.busy": "2022-01-24T12:12:50.206572Z",
     "iopub.status.idle": "2022-01-24T12:12:50.210685Z",
     "shell.execute_reply": "2022-01-24T12:12:50.211354Z"
    },
    "papermill": {
     "duration": 0.048839,
     "end_time": "2022-01-24T12:12:50.211523",
     "exception": false,
     "start_time": "2022-01-24T12:12:50.162684",
     "status": "completed"
    },
    "tags": []
   },
   "outputs": [],
   "source": [
    "# #hide\n",
    "# g = g.reset_index(['date'])"
   ]
  },
  {
   "cell_type": "code",
   "execution_count": 25,
   "id": "incomplete-mustang",
   "metadata": {
    "execution": {
     "iopub.execute_input": "2022-01-24T12:12:50.303894Z",
     "iopub.status.busy": "2022-01-24T12:12:50.303196Z",
     "iopub.status.idle": "2022-01-24T12:12:50.306850Z",
     "shell.execute_reply": "2022-01-24T12:12:50.306304Z"
    },
    "papermill": {
     "duration": 0.049758,
     "end_time": "2022-01-24T12:12:50.306974",
     "exception": false,
     "start_time": "2022-01-24T12:12:50.257216",
     "status": "completed"
    },
    "tags": []
   },
   "outputs": [],
   "source": [
    "#hide\n",
    "# g.head()"
   ]
  },
  {
   "cell_type": "code",
   "execution_count": 26,
   "id": "specific-kruger",
   "metadata": {
    "execution": {
     "iopub.execute_input": "2022-01-24T12:12:50.391236Z",
     "iopub.status.busy": "2022-01-24T12:12:50.390513Z",
     "iopub.status.idle": "2022-01-24T12:12:50.393401Z",
     "shell.execute_reply": "2022-01-24T12:12:50.392737Z"
    },
    "papermill": {
     "duration": 0.044937,
     "end_time": "2022-01-24T12:12:50.393521",
     "exception": false,
     "start_time": "2022-01-24T12:12:50.348584",
     "status": "completed"
    },
    "tags": []
   },
   "outputs": [],
   "source": [
    "#hide\n",
    "# g.columns = ['date','country','cases']"
   ]
  },
  {
   "cell_type": "code",
   "execution_count": 27,
   "id": "tender-conversion",
   "metadata": {
    "execution": {
     "iopub.execute_input": "2022-01-24T12:12:50.477409Z",
     "iopub.status.busy": "2022-01-24T12:12:50.476710Z",
     "iopub.status.idle": "2022-01-24T12:12:50.479410Z",
     "shell.execute_reply": "2022-01-24T12:12:50.478787Z"
    },
    "papermill": {
     "duration": 0.04719,
     "end_time": "2022-01-24T12:12:50.479540",
     "exception": false,
     "start_time": "2022-01-24T12:12:50.432350",
     "status": "completed"
    },
    "tags": []
   },
   "outputs": [],
   "source": [
    "#hide\n",
    "# g['continent'] = g.country"
   ]
  },
  {
   "cell_type": "code",
   "execution_count": 28,
   "id": "substantial-wilderness",
   "metadata": {
    "execution": {
     "iopub.execute_input": "2022-01-24T12:12:50.562574Z",
     "iopub.status.busy": "2022-01-24T12:12:50.561796Z",
     "iopub.status.idle": "2022-01-24T12:12:50.564069Z",
     "shell.execute_reply": "2022-01-24T12:12:50.564633Z"
    },
    "papermill": {
     "duration": 0.047161,
     "end_time": "2022-01-24T12:12:50.564789",
     "exception": false,
     "start_time": "2022-01-24T12:12:50.517628",
     "status": "completed"
    },
    "tags": []
   },
   "outputs": [],
   "source": [
    "#hide\n",
    "# cols = list(g.columns.values)"
   ]
  },
  {
   "cell_type": "code",
   "execution_count": 29,
   "id": "solved-farming",
   "metadata": {
    "execution": {
     "iopub.execute_input": "2022-01-24T12:12:50.648478Z",
     "iopub.status.busy": "2022-01-24T12:12:50.647802Z",
     "iopub.status.idle": "2022-01-24T12:12:50.650506Z",
     "shell.execute_reply": "2022-01-24T12:12:50.649951Z"
    },
    "papermill": {
     "duration": 0.045494,
     "end_time": "2022-01-24T12:12:50.650640",
     "exception": false,
     "start_time": "2022-01-24T12:12:50.605146",
     "status": "completed"
    },
    "tags": []
   },
   "outputs": [],
   "source": [
    "#hide\n",
    "# cols.insert(0, cols.pop())"
   ]
  },
  {
   "cell_type": "code",
   "execution_count": 30,
   "id": "executed-adoption",
   "metadata": {
    "execution": {
     "iopub.execute_input": "2022-01-24T12:12:50.732749Z",
     "iopub.status.busy": "2022-01-24T12:12:50.732085Z",
     "iopub.status.idle": "2022-01-24T12:12:50.736624Z",
     "shell.execute_reply": "2022-01-24T12:12:50.736060Z"
    },
    "papermill": {
     "duration": 0.04684,
     "end_time": "2022-01-24T12:12:50.736748",
     "exception": false,
     "start_time": "2022-01-24T12:12:50.689908",
     "status": "completed"
    },
    "tags": []
   },
   "outputs": [],
   "source": [
    "#hide\n",
    "# g = g[cols]"
   ]
  },
  {
   "cell_type": "code",
   "execution_count": 31,
   "id": "subject-dublin",
   "metadata": {
    "execution": {
     "iopub.execute_input": "2022-01-24T12:12:50.822598Z",
     "iopub.status.busy": "2022-01-24T12:12:50.821844Z",
     "iopub.status.idle": "2022-01-24T12:12:50.824807Z",
     "shell.execute_reply": "2022-01-24T12:12:50.824089Z"
    },
    "papermill": {
     "duration": 0.046988,
     "end_time": "2022-01-24T12:12:50.824952",
     "exception": false,
     "start_time": "2022-01-24T12:12:50.777964",
     "status": "completed"
    },
    "tags": []
   },
   "outputs": [],
   "source": [
    "#hide\n",
    "# g['continent'] = g['continent'].map(mapping['map.continent'])"
   ]
  },
  {
   "cell_type": "code",
   "execution_count": 32,
   "id": "freelance-scout",
   "metadata": {
    "execution": {
     "iopub.execute_input": "2022-01-24T12:12:50.913107Z",
     "iopub.status.busy": "2022-01-24T12:12:50.912504Z",
     "iopub.status.idle": "2022-01-24T12:12:50.916328Z",
     "shell.execute_reply": "2022-01-24T12:12:50.916811Z"
    },
    "papermill": {
     "duration": 0.04751,
     "end_time": "2022-01-24T12:12:50.916952",
     "exception": false,
     "start_time": "2022-01-24T12:12:50.869442",
     "status": "completed"
    },
    "tags": []
   },
   "outputs": [],
   "source": [
    "#hide\n",
    "# g.head()"
   ]
  },
  {
   "cell_type": "code",
   "execution_count": 33,
   "id": "limited-engine",
   "metadata": {
    "execution": {
     "iopub.execute_input": "2022-01-24T12:12:51.000361Z",
     "iopub.status.busy": "2022-01-24T12:12:50.999477Z",
     "iopub.status.idle": "2022-01-24T12:12:51.002317Z",
     "shell.execute_reply": "2022-01-24T12:12:51.001468Z"
    },
    "papermill": {
     "duration": 0.046636,
     "end_time": "2022-01-24T12:12:51.002441",
     "exception": false,
     "start_time": "2022-01-24T12:12:50.955805",
     "status": "completed"
    },
    "tags": []
   },
   "outputs": [],
   "source": [
    "# hide\n",
    "# g['date'] = g['date'].astype('datetime64[ns]')"
   ]
  },
  {
   "cell_type": "code",
   "execution_count": 34,
   "id": "sophisticated-supervisor",
   "metadata": {
    "execution": {
     "iopub.execute_input": "2022-01-24T12:12:51.096073Z",
     "iopub.status.busy": "2022-01-24T12:12:51.095335Z",
     "iopub.status.idle": "2022-01-24T12:12:51.097568Z",
     "shell.execute_reply": "2022-01-24T12:12:51.098115Z"
    },
    "papermill": {
     "duration": 0.050308,
     "end_time": "2022-01-24T12:12:51.098270",
     "exception": false,
     "start_time": "2022-01-24T12:12:51.047962",
     "status": "completed"
    },
    "tags": []
   },
   "outputs": [],
   "source": [
    "#hide\n",
    "# g['date'] = g.date.dt.dayofyear"
   ]
  },
  {
   "cell_type": "code",
   "execution_count": 35,
   "id": "inside-dubai",
   "metadata": {
    "execution": {
     "iopub.execute_input": "2022-01-24T12:12:51.188267Z",
     "iopub.status.busy": "2022-01-24T12:12:51.187590Z",
     "iopub.status.idle": "2022-01-24T12:12:51.192669Z",
     "shell.execute_reply": "2022-01-24T12:12:51.192107Z"
    },
    "papermill": {
     "duration": 0.050267,
     "end_time": "2022-01-24T12:12:51.192798",
     "exception": false,
     "start_time": "2022-01-24T12:12:51.142531",
     "status": "completed"
    },
    "tags": []
   },
   "outputs": [],
   "source": [
    "#hide\n",
    "# g = g.rename(columns= {'continent':'group','country':'name','cases':'value'})"
   ]
  },
  {
   "cell_type": "code",
   "execution_count": 36,
   "id": "fleet-motorcycle",
   "metadata": {
    "execution": {
     "iopub.execute_input": "2022-01-24T12:12:51.278020Z",
     "iopub.status.busy": "2022-01-24T12:12:51.277341Z",
     "iopub.status.idle": "2022-01-24T12:12:51.279497Z",
     "shell.execute_reply": "2022-01-24T12:12:51.278815Z"
    },
    "papermill": {
     "duration": 0.046277,
     "end_time": "2022-01-24T12:12:51.279628",
     "exception": false,
     "start_time": "2022-01-24T12:12:51.233351",
     "status": "completed"
    },
    "tags": []
   },
   "outputs": [],
   "source": [
    "#hide\n",
    "# cols = ['name','group','day','value']"
   ]
  },
  {
   "cell_type": "code",
   "execution_count": 37,
   "id": "continued-sleeping",
   "metadata": {
    "execution": {
     "iopub.execute_input": "2022-01-24T12:12:51.367112Z",
     "iopub.status.busy": "2022-01-24T12:12:51.366408Z",
     "iopub.status.idle": "2022-01-24T12:12:51.369054Z",
     "shell.execute_reply": "2022-01-24T12:12:51.368479Z"
    },
    "papermill": {
     "duration": 0.048958,
     "end_time": "2022-01-24T12:12:51.369191",
     "exception": false,
     "start_time": "2022-01-24T12:12:51.320233",
     "status": "completed"
    },
    "tags": []
   },
   "outputs": [],
   "source": [
    "#hide\n",
    "# g.rename(columns= {'date':'day'},inplace = True)"
   ]
  },
  {
   "cell_type": "code",
   "execution_count": 38,
   "id": "major-fight",
   "metadata": {
    "execution": {
     "iopub.execute_input": "2022-01-24T12:12:51.464085Z",
     "iopub.status.busy": "2022-01-24T12:12:51.462866Z",
     "iopub.status.idle": "2022-01-24T12:12:51.464766Z",
     "shell.execute_reply": "2022-01-24T12:12:51.463461Z"
    },
    "papermill": {
     "duration": 0.052255,
     "end_time": "2022-01-24T12:12:51.464905",
     "exception": false,
     "start_time": "2022-01-24T12:12:51.412650",
     "status": "completed"
    },
    "tags": []
   },
   "outputs": [],
   "source": [
    "#hide\n",
    "# g = g[cols]"
   ]
  },
  {
   "cell_type": "code",
   "execution_count": 39,
   "id": "structured-mobile",
   "metadata": {
    "execution": {
     "iopub.execute_input": "2022-01-24T12:12:51.607023Z",
     "iopub.status.busy": "2022-01-24T12:12:51.606173Z",
     "iopub.status.idle": "2022-01-24T12:12:51.608274Z",
     "shell.execute_reply": "2022-01-24T12:12:51.607716Z"
    },
    "papermill": {
     "duration": 0.089912,
     "end_time": "2022-01-24T12:12:51.608408",
     "exception": false,
     "start_time": "2022-01-24T12:12:51.518496",
     "status": "completed"
    },
    "tags": []
   },
   "outputs": [],
   "source": [
    "# #hide\n",
    "# g = g[g.group.notna()]"
   ]
  },
  {
   "cell_type": "code",
   "execution_count": 40,
   "id": "determined-closing",
   "metadata": {
    "execution": {
     "iopub.execute_input": "2022-01-24T12:12:51.706253Z",
     "iopub.status.busy": "2022-01-24T12:12:51.705469Z",
     "iopub.status.idle": "2022-01-24T12:12:51.707008Z",
     "shell.execute_reply": "2022-01-24T12:12:51.707656Z"
    },
    "papermill": {
     "duration": 0.052804,
     "end_time": "2022-01-24T12:12:51.707807",
     "exception": false,
     "start_time": "2022-01-24T12:12:51.655003",
     "status": "completed"
    },
    "tags": []
   },
   "outputs": [],
   "source": [
    "# #hide\n",
    "# colors = dict(zip(\n",
    "#     [\"Oceania\", \"Europe\", \"Asia\", \"South America\", \"Middle East\", \"North America\", \"Africa\"],\n",
    "#     [\"#adb0ff\", \"#ffb3ff\", \"#90d595\", \"#e48381\", \"#aafbff\", \"#f7bb5f\", \"#eafb50\"]\n",
    "# ))\n",
    "# group_lk = g.set_index('name')['group'].to_dict()"
   ]
  },
  {
   "cell_type": "code",
   "execution_count": null,
   "id": "gross-drinking",
   "metadata": {
    "papermill": {
     "duration": 0.104537,
     "end_time": "2022-01-24T12:12:51.857289",
     "exception": false,
     "start_time": "2022-01-24T12:12:51.752752",
     "status": "completed"
    },
    "tags": []
   },
   "outputs": [],
   "source": []
  },
  {
   "cell_type": "code",
   "execution_count": 41,
   "id": "subject-macintosh",
   "metadata": {
    "execution": {
     "iopub.execute_input": "2022-01-24T12:12:51.943597Z",
     "iopub.status.busy": "2022-01-24T12:12:51.942488Z",
     "iopub.status.idle": "2022-01-24T12:12:51.944778Z",
     "shell.execute_reply": "2022-01-24T12:12:51.945265Z"
    },
    "papermill": {
     "duration": 0.046532,
     "end_time": "2022-01-24T12:12:51.945454",
     "exception": false,
     "start_time": "2022-01-24T12:12:51.898922",
     "status": "completed"
    },
    "tags": []
   },
   "outputs": [],
   "source": [
    "# #hide\n",
    "# fig, ax = plt.subplots(figsize=(15, 8))\n",
    "\n",
    "# def draw_barchart(current_day):\n",
    "#     dff = g[g['day'].eq(current_day)].sort_values(by='value', ascending=True).tail(10)\n",
    "#     ax.clear()\n",
    "#     ax.barh(dff['name'], dff['value'], color=[colors[group_lk[x]] for x in dff['name']])\n",
    "#     dx = dff['value'].max() / 200\n",
    "    \n",
    "#     for i, (value, name) in enumerate(zip(dff['value'], dff['name'])):\n",
    "#         ax.text(value-dx, i,     name,           size=14, weight=600, ha='right', va='bottom')\n",
    "#         ax.text(value-dx, i-.25, group_lk[name], size=10, color='#444444', ha='right', va='baseline')\n",
    "#         ax.text(value+dx, i,     f'{value:,.0f}',  size=14, ha='left',  va='center')\n",
    "#     ax.text(1, 0.4, current_day, transform=ax.transAxes, color='#777777', size=46, ha='right', weight=800)\n",
    "#     ax.text(0, 1.06, 'Population (thousands)', transform=ax.transAxes, size=12, color='#777777')\n",
    "#     ax.xaxis.set_major_formatter(ticker.StrMethodFormatter('{x:,.0f}'))\n",
    "#     ax.xaxis.set_ticks_position('top')\n",
    "#     ax.tick_params(axis='x', colors='#777777', labelsize=12)\n",
    "#     ax.set_yticks([])\n",
    "#     ax.margins(0, 0.01)\n",
    "#     ax.grid(which='major', axis='x', linestyle='-')\n",
    "#     ax.set_axisbelow(True)\n",
    "    \n",
    "#     ax.text(0, 1.15, 'Coronavirus',\n",
    "#             transform=ax.transAxes, size=24, weight=600, ha='left', va='top')\n",
    "# #     ax.text(1, 0, 'by @pratapvardhan; credit @jburnmurdoch', transform=ax.transAxes, color='#777777', ha='right',\n",
    "# #             bbox=dict(facecolor='white', alpha=0.8, edgecolor='white'))\n",
    "#     plt.box(False)"
   ]
  },
  {
   "cell_type": "code",
   "execution_count": 42,
   "id": "sexual-wages",
   "metadata": {
    "execution": {
     "iopub.execute_input": "2022-01-24T12:12:52.029458Z",
     "iopub.status.busy": "2022-01-24T12:12:52.028776Z",
     "iopub.status.idle": "2022-01-24T12:12:52.031529Z",
     "shell.execute_reply": "2022-01-24T12:12:52.030926Z"
    },
    "papermill": {
     "duration": 0.045755,
     "end_time": "2022-01-24T12:12:52.031675",
     "exception": false,
     "start_time": "2022-01-24T12:12:51.985920",
     "status": "completed"
    },
    "tags": []
   },
   "outputs": [],
   "source": [
    "# #hide_input\n",
    "# fig, ax = plt.subplots(figsize=(15, 8))\n",
    "# animator = animation.FuncAnimation(fig, draw_barchart, frames=range(g.day.values.min(), g.day.values.max()))\n",
    "# HTML(animator.to_jshtml())\n",
    "# # or use animator.to_html5_video() or animator.save() "
   ]
  },
  {
   "cell_type": "code",
   "execution_count": null,
   "id": "australian-container",
   "metadata": {
    "papermill": {
     "duration": 0.042306,
     "end_time": "2022-01-24T12:12:52.113551",
     "exception": false,
     "start_time": "2022-01-24T12:12:52.071245",
     "status": "completed"
    },
    "tags": []
   },
   "outputs": [],
   "source": []
  },
  {
   "cell_type": "code",
   "execution_count": null,
   "id": "mediterranean-pontiac",
   "metadata": {
    "papermill": {
     "duration": 0.040465,
     "end_time": "2022-01-24T12:12:52.195175",
     "exception": false,
     "start_time": "2022-01-24T12:12:52.154710",
     "status": "completed"
    },
    "tags": []
   },
   "outputs": [],
   "source": []
  },
  {
   "cell_type": "code",
   "execution_count": null,
   "id": "aging-legislature",
   "metadata": {
    "papermill": {
     "duration": 0.037092,
     "end_time": "2022-01-24T12:12:52.269417",
     "exception": false,
     "start_time": "2022-01-24T12:12:52.232325",
     "status": "completed"
    },
    "tags": []
   },
   "outputs": [],
   "source": []
  }
 ],
 "metadata": {
  "kernelspec": {
   "display_name": "Python 3",
   "language": "python",
   "name": "python3"
  },
  "language_info": {
   "codemirror_mode": {
    "name": "ipython",
    "version": 3
   },
   "file_extension": ".py",
   "mimetype": "text/x-python",
   "name": "python",
   "nbconvert_exporter": "python",
   "pygments_lexer": "ipython3",
   "version": "3.6.15"
  },
  "papermill": {
   "duration": 7.908983,
   "end_time": "2022-01-24T12:12:52.629873",
   "environment_variables": {},
   "exception": null,
   "input_path": "2020-03-21-covid19exp.ipynb",
   "output_path": "2020-03-21-covid19exp.ipynb",
   "parameters": {},
   "start_time": "2022-01-24T12:12:44.720890",
   "version": "2.0.0"
  }
 },
 "nbformat": 4,
 "nbformat_minor": 5
}