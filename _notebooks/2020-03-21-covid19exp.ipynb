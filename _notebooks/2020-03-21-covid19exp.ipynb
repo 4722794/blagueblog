{
 "cells": [
  {
   "cell_type": "markdown",
   "id": "muslim-click",
   "metadata": {
    "papermill": {
     "duration": 0.043646,
     "end_time": "2021-11-11T00:24:44.550450",
     "exception": false,
     "start_time": "2021-11-11T00:24:44.506804",
     "status": "completed"
    },
    "tags": []
   },
   "source": [
    "# COVID-19 Case Race\n",
    "> A race chart to see rising cases around the world\n",
    "\n",
    "- author: Hargun Oberoi\n",
    "- image: images/covid-overview.png\n",
    "- hide: false\n",
    "- badges: false"
   ]
  },
  {
   "cell_type": "code",
   "execution_count": 1,
   "id": "proof-material",
   "metadata": {
    "execution": {
     "iopub.execute_input": "2021-11-11T00:24:44.633543Z",
     "iopub.status.busy": "2021-11-11T00:24:44.632828Z",
     "iopub.status.idle": "2021-11-11T00:24:45.018853Z",
     "shell.execute_reply": "2021-11-11T00:24:45.019405Z"
    },
    "papermill": {
     "duration": 0.433097,
     "end_time": "2021-11-11T00:24:45.019619",
     "exception": false,
     "start_time": "2021-11-11T00:24:44.586522",
     "status": "completed"
    },
    "tags": []
   },
   "outputs": [],
   "source": [
    "#hide\n",
    "import numpy as np\n",
    "import pandas as pd\n",
    "from jinja2 import Template\n",
    "from IPython.display import HTML"
   ]
  },
  {
   "cell_type": "code",
   "execution_count": 2,
   "id": "developed-terminology",
   "metadata": {
    "execution": {
     "iopub.execute_input": "2021-11-11T00:24:45.100071Z",
     "iopub.status.busy": "2021-11-11T00:24:45.099402Z",
     "iopub.status.idle": "2021-11-11T00:24:45.101973Z",
     "shell.execute_reply": "2021-11-11T00:24:45.102503Z"
    },
    "papermill": {
     "duration": 0.04435,
     "end_time": "2021-11-11T00:24:45.102639",
     "exception": false,
     "start_time": "2021-11-11T00:24:45.058289",
     "status": "completed"
    },
    "tags": []
   },
   "outputs": [],
   "source": [
    "#hide\n",
    "\n",
    "# FETCH\n",
    "base_url = 'https://raw.githubusercontent.com/pratapvardhan/notebooks/master/covid19/'\n",
    "paths = {\n",
    "    'mapping': base_url + 'mapping_countries.csv',\n",
    "    'overview': base_url + 'overview.tpl'\n",
    "}"
   ]
  },
  {
   "cell_type": "code",
   "execution_count": 3,
   "id": "dynamic-saver",
   "metadata": {
    "execution": {
     "iopub.execute_input": "2021-11-11T00:24:45.184929Z",
     "iopub.status.busy": "2021-11-11T00:24:45.182560Z",
     "iopub.status.idle": "2021-11-11T00:24:45.188687Z",
     "shell.execute_reply": "2021-11-11T00:24:45.188148Z"
    },
    "papermill": {
     "duration": 0.048908,
     "end_time": "2021-11-11T00:24:45.188815",
     "exception": false,
     "start_time": "2021-11-11T00:24:45.139907",
     "status": "completed"
    },
    "tags": []
   },
   "outputs": [
    {
     "data": {
      "text/plain": [
       "'https://raw.githubusercontent.com/pratapvardhan/notebooks/master/covid19/mapping_countries.csv'"
      ]
     },
     "execution_count": 3,
     "metadata": {},
     "output_type": "execute_result"
    }
   ],
   "source": [
    "#hide\n",
    "paths['mapping']"
   ]
  },
  {
   "cell_type": "code",
   "execution_count": 4,
   "id": "urban-software",
   "metadata": {
    "execution": {
     "iopub.execute_input": "2021-11-11T00:24:45.265505Z",
     "iopub.status.busy": "2021-11-11T00:24:45.264818Z",
     "iopub.status.idle": "2021-11-11T00:24:45.268713Z",
     "shell.execute_reply": "2021-11-11T00:24:45.269228Z"
    },
    "papermill": {
     "duration": 0.045371,
     "end_time": "2021-11-11T00:24:45.269364",
     "exception": false,
     "start_time": "2021-11-11T00:24:45.223993",
     "status": "completed"
    },
    "tags": []
   },
   "outputs": [],
   "source": [
    "#hide\n",
    "def get_mappings(url):\n",
    "    df = pd.read_csv(url)\n",
    "    return {\n",
    "        'df': df,\n",
    "        'replace.country': dict(df.dropna(subset=['Name']).set_index('Country')['Name']),\n",
    "        'map.continent': dict(df.set_index('Name')['Continent'])\n",
    "    }"
   ]
  },
  {
   "cell_type": "code",
   "execution_count": 5,
   "id": "intimate-machinery",
   "metadata": {
    "execution": {
     "iopub.execute_input": "2021-11-11T00:24:45.346252Z",
     "iopub.status.busy": "2021-11-11T00:24:45.345595Z",
     "iopub.status.idle": "2021-11-11T00:24:45.388253Z",
     "shell.execute_reply": "2021-11-11T00:24:45.388713Z"
    },
    "papermill": {
     "duration": 0.083459,
     "end_time": "2021-11-11T00:24:45.388845",
     "exception": false,
     "start_time": "2021-11-11T00:24:45.305386",
     "status": "completed"
    },
    "tags": []
   },
   "outputs": [],
   "source": [
    "#hide\n",
    "mapping = get_mappings(paths['mapping'])"
   ]
  },
  {
   "cell_type": "code",
   "execution_count": 6,
   "id": "certified-tactics",
   "metadata": {
    "execution": {
     "iopub.execute_input": "2021-11-11T00:24:45.466137Z",
     "iopub.status.busy": "2021-11-11T00:24:45.465519Z",
     "iopub.status.idle": "2021-11-11T00:24:45.468128Z",
     "shell.execute_reply": "2021-11-11T00:24:45.468786Z"
    },
    "papermill": {
     "duration": 0.044514,
     "end_time": "2021-11-11T00:24:45.468916",
     "exception": false,
     "start_time": "2021-11-11T00:24:45.424402",
     "status": "completed"
    },
    "tags": []
   },
   "outputs": [],
   "source": [
    "#hide\n",
    "def get_template(path):\n",
    "    from urllib.parse import urlparse\n",
    "    if bool(urlparse(path).netloc):\n",
    "        from urllib.request import urlopen\n",
    "        return urlopen(path).read().decode('utf8')\n",
    "    return open(path).read()"
   ]
  },
  {
   "cell_type": "code",
   "execution_count": 7,
   "id": "realistic-blast",
   "metadata": {
    "execution": {
     "iopub.execute_input": "2021-11-11T00:24:45.552261Z",
     "iopub.status.busy": "2021-11-11T00:24:45.551562Z",
     "iopub.status.idle": "2021-11-11T00:24:45.554775Z",
     "shell.execute_reply": "2021-11-11T00:24:45.554190Z"
    },
    "papermill": {
     "duration": 0.043823,
     "end_time": "2021-11-11T00:24:45.554910",
     "exception": false,
     "start_time": "2021-11-11T00:24:45.511087",
     "status": "completed"
    },
    "tags": []
   },
   "outputs": [],
   "source": [
    "#hide\n",
    "def get_frame(name):\n",
    "    url = (\n",
    "        'https://raw.githubusercontent.com/CSSEGISandData/COVID-19/master/csse_covid_19_data/'\n",
    "        f'csse_covid_19_time_series/time_series_covid19_{name}_global.csv')\n",
    "    df = pd.read_csv(url)\n",
    "    # rename countries\n",
    "    df['Country/Region'] = df['Country/Region'].replace(mapping['replace.country'])\n",
    "    return df"
   ]
  },
  {
   "cell_type": "code",
   "execution_count": 8,
   "id": "affiliated-characterization",
   "metadata": {
    "execution": {
     "iopub.execute_input": "2021-11-11T00:24:45.636673Z",
     "iopub.status.busy": "2021-11-11T00:24:45.636032Z",
     "iopub.status.idle": "2021-11-11T00:24:45.638692Z",
     "shell.execute_reply": "2021-11-11T00:24:45.638189Z"
    },
    "papermill": {
     "duration": 0.044046,
     "end_time": "2021-11-11T00:24:45.638856",
     "exception": false,
     "start_time": "2021-11-11T00:24:45.594810",
     "status": "completed"
    },
    "tags": []
   },
   "outputs": [],
   "source": [
    "#hide\n",
    "def get_dates(df):\n",
    "    dt_cols = df.columns[~df.columns.isin(['Province/State', 'Country/Region', 'Lat', 'Long'])]\n",
    "    LAST_DATE_I = -1\n",
    "    # sometimes last column may be empty, then go backwards\n",
    "    for i in range(-1, -len(dt_cols), -1):\n",
    "        if not df[dt_cols[i]].fillna(0).eq(0).all():\n",
    "            LAST_DATE_I = i\n",
    "            break\n",
    "    return LAST_DATE_I, dt_cols"
   ]
  },
  {
   "cell_type": "code",
   "execution_count": 9,
   "id": "recent-optimization",
   "metadata": {
    "execution": {
     "iopub.execute_input": "2021-11-11T00:24:45.717464Z",
     "iopub.status.busy": "2021-11-11T00:24:45.716752Z",
     "iopub.status.idle": "2021-11-11T00:24:46.138088Z",
     "shell.execute_reply": "2021-11-11T00:24:46.137410Z"
    },
    "papermill": {
     "duration": 0.462942,
     "end_time": "2021-11-11T00:24:46.138278",
     "exception": false,
     "start_time": "2021-11-11T00:24:45.675336",
     "status": "completed"
    },
    "tags": []
   },
   "outputs": [],
   "source": [
    "#hide\n",
    "COL_REGION = 'Country/Region'\n",
    "# Confirmed, Recovered, Deaths\n",
    "df = get_frame('confirmed')\n",
    "# dft_: timeseries, dfc_: today country agg\n",
    "dft_cases = df\n",
    "dft_deaths = get_frame('deaths')\n",
    "dft_recovered = get_frame('recovered')\n",
    "LAST_DATE_I, dt_cols = get_dates(df)"
   ]
  },
  {
   "cell_type": "code",
   "execution_count": 10,
   "id": "absolute-copper",
   "metadata": {
    "execution": {
     "iopub.execute_input": "2021-11-11T00:24:46.217716Z",
     "iopub.status.busy": "2021-11-11T00:24:46.217085Z",
     "iopub.status.idle": "2021-11-11T00:24:46.219210Z",
     "shell.execute_reply": "2021-11-11T00:24:46.219795Z"
    },
    "papermill": {
     "duration": 0.044208,
     "end_time": "2021-11-11T00:24:46.219948",
     "exception": false,
     "start_time": "2021-11-11T00:24:46.175740",
     "status": "completed"
    },
    "tags": []
   },
   "outputs": [],
   "source": [
    "#hide\n",
    "LAST_DATE_I, dt_cols = get_dates(df)\n",
    "dt_today =dt_cols[LAST_DATE_I]\n",
    "# dt_5day = dt_cols[LAST_DATE_I - 5]\n",
    "dt_yday = dt_cols[LAST_DATE_I - 1]"
   ]
  },
  {
   "cell_type": "code",
   "execution_count": 11,
   "id": "restricted-sheriff",
   "metadata": {
    "execution": {
     "iopub.execute_input": "2021-11-11T00:24:46.301265Z",
     "iopub.status.busy": "2021-11-11T00:24:46.300600Z",
     "iopub.status.idle": "2021-11-11T00:24:46.308535Z",
     "shell.execute_reply": "2021-11-11T00:24:46.309374Z"
    },
    "papermill": {
     "duration": 0.052749,
     "end_time": "2021-11-11T00:24:46.309513",
     "exception": false,
     "start_time": "2021-11-11T00:24:46.256764",
     "status": "completed"
    },
    "tags": []
   },
   "outputs": [],
   "source": [
    "#hide\n",
    "dfc_cases = dft_cases.groupby(COL_REGION)[dt_today].sum()\n",
    "dfc_deaths = dft_deaths.groupby(COL_REGION)[dt_today].sum()\n",
    "# dfp_cases = dft_cases.groupby(COL_REGION)[dt_5day].sum()\n",
    "# dfp_deaths = dft_deaths.groupby(COL_REGION)[dt_5day].sum()\n",
    "dfp_cases = dft_cases.groupby(COL_REGION)[dt_yday].sum()\n",
    "dfp_deaths = dft_deaths.groupby(COL_REGION)[dt_yday].sum()"
   ]
  },
  {
   "cell_type": "code",
   "execution_count": 12,
   "id": "deluxe-hepatitis",
   "metadata": {
    "execution": {
     "iopub.execute_input": "2021-11-11T00:24:46.387132Z",
     "iopub.status.busy": "2021-11-11T00:24:46.386465Z",
     "iopub.status.idle": "2021-11-11T00:24:46.391157Z",
     "shell.execute_reply": "2021-11-11T00:24:46.390565Z"
    },
    "papermill": {
     "duration": 0.045896,
     "end_time": "2021-11-11T00:24:46.391301",
     "exception": false,
     "start_time": "2021-11-11T00:24:46.345405",
     "status": "completed"
    },
    "tags": []
   },
   "outputs": [],
   "source": [
    "#hide\n",
    "df_table = (pd.DataFrame(dict(Cases = dfc_cases, Deaths = dfc_deaths, PCases = dfp_cases, PDeaths = dfp_deaths))\n",
    "            .sort_values(by = ['Cases','Deaths'], ascending = [False, False])\n",
    "            .reset_index())"
   ]
  },
  {
   "cell_type": "code",
   "execution_count": 13,
   "id": "educational-chancellor",
   "metadata": {
    "execution": {
     "iopub.execute_input": "2021-11-11T00:24:46.487525Z",
     "iopub.status.busy": "2021-11-11T00:24:46.486815Z",
     "iopub.status.idle": "2021-11-11T00:24:46.496534Z",
     "shell.execute_reply": "2021-11-11T00:24:46.497146Z"
    },
    "papermill": {
     "duration": 0.068967,
     "end_time": "2021-11-11T00:24:46.497276",
     "exception": false,
     "start_time": "2021-11-11T00:24:46.428309",
     "status": "completed"
    },
    "tags": []
   },
   "outputs": [
    {
     "data": {
      "text/html": [
       "<div>\n",
       "<style scoped>\n",
       "    .dataframe tbody tr th:only-of-type {\n",
       "        vertical-align: middle;\n",
       "    }\n",
       "\n",
       "    .dataframe tbody tr th {\n",
       "        vertical-align: top;\n",
       "    }\n",
       "\n",
       "    .dataframe thead th {\n",
       "        text-align: right;\n",
       "    }\n",
       "</style>\n",
       "<table border=\"1\" class=\"dataframe\">\n",
       "  <thead>\n",
       "    <tr style=\"text-align: right;\">\n",
       "      <th></th>\n",
       "      <th>Country/Region</th>\n",
       "      <th>Cases</th>\n",
       "      <th>Deaths</th>\n",
       "      <th>PCases</th>\n",
       "      <th>PDeaths</th>\n",
       "      <th>Cases (+)</th>\n",
       "      <th>Deaths (+)</th>\n",
       "      <th>Fatality Rate</th>\n",
       "      <th>Continent</th>\n",
       "    </tr>\n",
       "  </thead>\n",
       "  <tbody>\n",
       "    <tr>\n",
       "      <th>0</th>\n",
       "      <td>US</td>\n",
       "      <td>46693102</td>\n",
       "      <td>757291</td>\n",
       "      <td>46613282</td>\n",
       "      <td>755647</td>\n",
       "      <td>79820</td>\n",
       "      <td>1644</td>\n",
       "      <td>1.62</td>\n",
       "      <td>North America</td>\n",
       "    </tr>\n",
       "    <tr>\n",
       "      <th>1</th>\n",
       "      <td>India</td>\n",
       "      <td>34388579</td>\n",
       "      <td>461849</td>\n",
       "      <td>34377113</td>\n",
       "      <td>461389</td>\n",
       "      <td>11466</td>\n",
       "      <td>460</td>\n",
       "      <td>1.34</td>\n",
       "      <td>Asia</td>\n",
       "    </tr>\n",
       "    <tr>\n",
       "      <th>2</th>\n",
       "      <td>Brazil</td>\n",
       "      <td>21897025</td>\n",
       "      <td>609756</td>\n",
       "      <td>21886077</td>\n",
       "      <td>609573</td>\n",
       "      <td>10948</td>\n",
       "      <td>183</td>\n",
       "      <td>2.78</td>\n",
       "      <td>South America</td>\n",
       "    </tr>\n",
       "    <tr>\n",
       "      <th>3</th>\n",
       "      <td>United Kingdom</td>\n",
       "      <td>9412185</td>\n",
       "      <td>142556</td>\n",
       "      <td>9379286</td>\n",
       "      <td>142293</td>\n",
       "      <td>32899</td>\n",
       "      <td>263</td>\n",
       "      <td>1.51</td>\n",
       "      <td>Europe</td>\n",
       "    </tr>\n",
       "    <tr>\n",
       "      <th>4</th>\n",
       "      <td>Russia</td>\n",
       "      <td>8727817</td>\n",
       "      <td>244588</td>\n",
       "      <td>8689818</td>\n",
       "      <td>243405</td>\n",
       "      <td>37999</td>\n",
       "      <td>1183</td>\n",
       "      <td>2.80</td>\n",
       "      <td>Europe</td>\n",
       "    </tr>\n",
       "  </tbody>\n",
       "</table>\n",
       "</div>"
      ],
      "text/plain": [
       "   Country/Region     Cases  Deaths    PCases  PDeaths  Cases (+)  Deaths (+)  \\\n",
       "0              US  46693102  757291  46613282   755647      79820        1644   \n",
       "1           India  34388579  461849  34377113   461389      11466         460   \n",
       "2          Brazil  21897025  609756  21886077   609573      10948         183   \n",
       "3  United Kingdom   9412185  142556   9379286   142293      32899         263   \n",
       "4          Russia   8727817  244588   8689818   243405      37999        1183   \n",
       "\n",
       "   Fatality Rate      Continent  \n",
       "0           1.62  North America  \n",
       "1           1.34           Asia  \n",
       "2           2.78  South America  \n",
       "3           1.51         Europe  \n",
       "4           2.80         Europe  "
      ]
     },
     "execution_count": 13,
     "metadata": {},
     "output_type": "execute_result"
    }
   ],
   "source": [
    "#hide\n",
    "for c in 'Cases, Deaths'.split(', '):\n",
    "    df_table[f'{c} (+)'] = (df_table[c] - df_table[f'P{c}']).clip(0)\n",
    "    #Clip ça veut dire, les chiffres negatif sont interdit\n",
    "df_table['Fatality Rate'] = (100* df_table['Deaths']/ df_table['Cases']).round(2)\n",
    "df_table['Continent'] = df_table['Country/Region'].map(mapping['map.continent'])\n",
    "df_table.head(5)"
   ]
  },
  {
   "cell_type": "code",
   "execution_count": 14,
   "id": "aboriginal-bulgaria",
   "metadata": {
    "execution": {
     "iopub.execute_input": "2021-11-11T00:24:46.575495Z",
     "iopub.status.busy": "2021-11-11T00:24:46.574800Z",
     "iopub.status.idle": "2021-11-11T00:24:46.577940Z",
     "shell.execute_reply": "2021-11-11T00:24:46.578496Z"
    },
    "papermill": {
     "duration": 0.044352,
     "end_time": "2021-11-11T00:24:46.578642",
     "exception": false,
     "start_time": "2021-11-11T00:24:46.534290",
     "status": "completed"
    },
    "tags": []
   },
   "outputs": [],
   "source": [
    "#hide\n",
    "#delete problematic countries from table\n",
    "df_table = df_table[~df_table['Country/Region'].isin(['Cape Verde', 'Cruise Ship', 'Kosovo'])]"
   ]
  },
  {
   "cell_type": "code",
   "execution_count": 15,
   "id": "fantastic-effect",
   "metadata": {
    "execution": {
     "iopub.execute_input": "2021-11-11T00:24:46.662084Z",
     "iopub.status.busy": "2021-11-11T00:24:46.661379Z",
     "iopub.status.idle": "2021-11-11T00:24:46.685285Z",
     "shell.execute_reply": "2021-11-11T00:24:46.685853Z"
    },
    "papermill": {
     "duration": 0.071403,
     "end_time": "2021-11-11T00:24:46.685994",
     "exception": false,
     "start_time": "2021-11-11T00:24:46.614591",
     "status": "completed"
    },
    "tags": []
   },
   "outputs": [
    {
     "data": {
      "text/html": [
       "<div>\n",
       "<style scoped>\n",
       "    .dataframe tbody tr th:only-of-type {\n",
       "        vertical-align: middle;\n",
       "    }\n",
       "\n",
       "    .dataframe tbody tr th {\n",
       "        vertical-align: top;\n",
       "    }\n",
       "\n",
       "    .dataframe thead th {\n",
       "        text-align: right;\n",
       "    }\n",
       "</style>\n",
       "<table border=\"1\" class=\"dataframe\">\n",
       "  <thead>\n",
       "    <tr style=\"text-align: right;\">\n",
       "      <th></th>\n",
       "      <th>Country/Region</th>\n",
       "      <th>Cases</th>\n",
       "      <th>Deaths</th>\n",
       "      <th>PCases</th>\n",
       "      <th>PDeaths</th>\n",
       "      <th>Cases (+)</th>\n",
       "      <th>Deaths (+)</th>\n",
       "      <th>Fatality Rate</th>\n",
       "      <th>Continent</th>\n",
       "    </tr>\n",
       "  </thead>\n",
       "  <tbody>\n",
       "    <tr>\n",
       "      <th>0</th>\n",
       "      <td>US</td>\n",
       "      <td>46693102</td>\n",
       "      <td>757291</td>\n",
       "      <td>46613282</td>\n",
       "      <td>755647</td>\n",
       "      <td>79820</td>\n",
       "      <td>1644</td>\n",
       "      <td>1.6</td>\n",
       "      <td>North America</td>\n",
       "    </tr>\n",
       "    <tr>\n",
       "      <th>1</th>\n",
       "      <td>India</td>\n",
       "      <td>34388579</td>\n",
       "      <td>461849</td>\n",
       "      <td>34377113</td>\n",
       "      <td>461389</td>\n",
       "      <td>11466</td>\n",
       "      <td>460</td>\n",
       "      <td>1.3</td>\n",
       "      <td>Asia</td>\n",
       "    </tr>\n",
       "    <tr>\n",
       "      <th>2</th>\n",
       "      <td>Brazil</td>\n",
       "      <td>21897025</td>\n",
       "      <td>609756</td>\n",
       "      <td>21886077</td>\n",
       "      <td>609573</td>\n",
       "      <td>10948</td>\n",
       "      <td>183</td>\n",
       "      <td>2.8</td>\n",
       "      <td>South America</td>\n",
       "    </tr>\n",
       "    <tr>\n",
       "      <th>3</th>\n",
       "      <td>United Kingdom</td>\n",
       "      <td>9412185</td>\n",
       "      <td>142556</td>\n",
       "      <td>9379286</td>\n",
       "      <td>142293</td>\n",
       "      <td>32899</td>\n",
       "      <td>263</td>\n",
       "      <td>1.5</td>\n",
       "      <td>Europe</td>\n",
       "    </tr>\n",
       "    <tr>\n",
       "      <th>4</th>\n",
       "      <td>Russia</td>\n",
       "      <td>8727817</td>\n",
       "      <td>244588</td>\n",
       "      <td>8689818</td>\n",
       "      <td>243405</td>\n",
       "      <td>37999</td>\n",
       "      <td>1183</td>\n",
       "      <td>2.8</td>\n",
       "      <td>Europe</td>\n",
       "    </tr>\n",
       "  </tbody>\n",
       "</table>\n",
       "</div>"
      ],
      "text/plain": [
       "   Country/Region     Cases  Deaths    PCases  PDeaths  Cases (+)  Deaths (+)  \\\n",
       "0              US  46693102  757291  46613282   755647      79820        1644   \n",
       "1           India  34388579  461849  34377113   461389      11466         460   \n",
       "2          Brazil  21897025  609756  21886077   609573      10948         183   \n",
       "3  United Kingdom   9412185  142556   9379286   142293      32899         263   \n",
       "4          Russia   8727817  244588   8689818   243405      37999        1183   \n",
       "\n",
       "   Fatality Rate      Continent  \n",
       "0            1.6  North America  \n",
       "1            1.3           Asia  \n",
       "2            2.8  South America  \n",
       "3            1.5         Europe  \n",
       "4            2.8         Europe  "
      ]
     },
     "execution_count": 15,
     "metadata": {},
     "output_type": "execute_result"
    }
   ],
   "source": [
    "#hide\n",
    "df_table = (pd.DataFrame(dict(Cases=dfc_cases, Deaths=dfc_deaths, PCases=dfp_cases, PDeaths=dfp_deaths))\n",
    "             .sort_values(by=['Cases', 'Deaths'], ascending=[False, False])\n",
    "             .reset_index())\n",
    "df_table.rename(columns={'index': 'Country/Region'}, inplace=True)\n",
    "for c in 'Cases, Deaths'.split(', '):\n",
    "    df_table[f'{c} (+)'] = (df_table[c] - df_table[f'P{c}']).clip(0)  # DATA BUG\n",
    "df_table['Fatality Rate'] = (100 * df_table['Deaths'] / df_table['Cases']).round(1)\n",
    "df_table['Continent'] = df_table['Country/Region'].map(mapping['map.continent'])\n",
    "df_table.head(5)"
   ]
  },
  {
   "cell_type": "code",
   "execution_count": 16,
   "id": "fewer-occasion",
   "metadata": {
    "execution": {
     "iopub.execute_input": "2021-11-11T00:24:46.768397Z",
     "iopub.status.busy": "2021-11-11T00:24:46.767676Z",
     "iopub.status.idle": "2021-11-11T00:24:46.770651Z",
     "shell.execute_reply": "2021-11-11T00:24:46.769992Z"
    },
    "papermill": {
     "duration": 0.045268,
     "end_time": "2021-11-11T00:24:46.770764",
     "exception": false,
     "start_time": "2021-11-11T00:24:46.725496",
     "status": "completed"
    },
    "tags": []
   },
   "outputs": [],
   "source": [
    "#hide\n",
    "#delete problematic countries from table\n",
    "df_table = df_table[~df_table['Country/Region'].isin(['Cape Verde', 'Cruise Ship', 'Kosovo'])]"
   ]
  },
  {
   "cell_type": "code",
   "execution_count": 17,
   "id": "related-center",
   "metadata": {
    "execution": {
     "iopub.execute_input": "2021-11-11T00:24:46.873194Z",
     "iopub.status.busy": "2021-11-11T00:24:46.872503Z",
     "iopub.status.idle": "2021-11-11T00:24:46.877031Z",
     "shell.execute_reply": "2021-11-11T00:24:46.876472Z"
    },
    "papermill": {
     "duration": 0.066326,
     "end_time": "2021-11-11T00:24:46.877172",
     "exception": false,
     "start_time": "2021-11-11T00:24:46.810846",
     "status": "completed"
    },
    "tags": []
   },
   "outputs": [],
   "source": [
    "#hide\n",
    "metrics = [df_table.columns[index] for index in [1,2,5,6]]\n",
    "# s_china = df_table[df_table['Country/Region'].eq('China')][metrics].sum().add_prefix('China ')\n",
    "s_us = df_table[df_table['Country/Region'].eq('US')][metrics].sum().add_prefix('US ')\n",
    "s_eu = df_table[df_table['Continent'].eq('Europe')][metrics].sum().add_prefix('EU ')\n",
    "s_ind = df_table[df_table['Country/Region'].eq('India')][metrics].sum().add_prefix('India ')\n",
    "summary = {'updated': pd.to_datetime(dt_today), 'since': pd.to_datetime(dt_yday)}\n",
    "summary = {'updated': pd.to_datetime(dt_today), 'since': pd.to_datetime(dt_yday)}\n",
    "summary = {**summary, **df_table[metrics].sum(), **s_ind, **s_us, **s_eu}"
   ]
  },
  {
   "cell_type": "code",
   "execution_count": 18,
   "id": "engaging-syndrome",
   "metadata": {
    "execution": {
     "iopub.execute_input": "2021-11-11T00:24:46.964253Z",
     "iopub.status.busy": "2021-11-11T00:24:46.963573Z",
     "iopub.status.idle": "2021-11-11T00:24:46.979013Z",
     "shell.execute_reply": "2021-11-11T00:24:46.979684Z"
    },
    "papermill": {
     "duration": 0.06359,
     "end_time": "2021-11-11T00:24:46.979848",
     "exception": false,
     "start_time": "2021-11-11T00:24:46.916258",
     "status": "completed"
    },
    "tags": []
   },
   "outputs": [],
   "source": [
    "#hide\n",
    "dft_ct_new_cases = dft_cases.groupby(COL_REGION)[dt_cols].sum().diff(axis=1).fillna(0).astype(int)"
   ]
  },
  {
   "cell_type": "code",
   "execution_count": 19,
   "id": "neutral-assignment",
   "metadata": {
    "execution": {
     "iopub.execute_input": "2021-11-11T00:24:47.067465Z",
     "iopub.status.busy": "2021-11-11T00:24:47.066747Z",
     "iopub.status.idle": "2021-11-11T00:24:47.068927Z",
     "shell.execute_reply": "2021-11-11T00:24:47.069532Z"
    },
    "papermill": {
     "duration": 0.049718,
     "end_time": "2021-11-11T00:24:47.069694",
     "exception": false,
     "start_time": "2021-11-11T00:24:47.019976",
     "status": "completed"
    },
    "tags": []
   },
   "outputs": [],
   "source": [
    "#hide\n",
    "everydaycases = dft_ct_new_cases.cumsum(axis=1)"
   ]
  },
  {
   "cell_type": "code",
   "execution_count": 20,
   "id": "parliamentary-calgary",
   "metadata": {
    "execution": {
     "iopub.execute_input": "2021-11-11T00:24:47.150566Z",
     "iopub.status.busy": "2021-11-11T00:24:47.149872Z",
     "iopub.status.idle": "2021-11-11T00:24:47.763182Z",
     "shell.execute_reply": "2021-11-11T00:24:47.762586Z"
    },
    "papermill": {
     "duration": 0.655185,
     "end_time": "2021-11-11T00:24:47.763350",
     "exception": false,
     "start_time": "2021-11-11T00:24:47.108165",
     "status": "completed"
    },
    "tags": []
   },
   "outputs": [],
   "source": [
    "#hide\n",
    "import pandas as pd\n",
    "import matplotlib.pyplot as plt\n",
    "import matplotlib.ticker as ticker\n",
    "import matplotlib.animation as animation\n",
    "from IPython.display import HTML"
   ]
  },
  {
   "cell_type": "code",
   "execution_count": 21,
   "id": "lasting-extraction",
   "metadata": {
    "execution": {
     "iopub.execute_input": "2021-11-11T00:24:47.843762Z",
     "iopub.status.busy": "2021-11-11T00:24:47.843064Z",
     "iopub.status.idle": "2021-11-11T00:24:47.849781Z",
     "shell.execute_reply": "2021-11-11T00:24:47.849307Z"
    },
    "papermill": {
     "duration": 0.048342,
     "end_time": "2021-11-11T00:24:47.849900",
     "exception": false,
     "start_time": "2021-11-11T00:24:47.801558",
     "status": "completed"
    },
    "tags": []
   },
   "outputs": [],
   "source": [
    "#hide\n",
    "t = everydaycases.stack()"
   ]
  },
  {
   "cell_type": "code",
   "execution_count": 22,
   "id": "premier-sleeve",
   "metadata": {
    "execution": {
     "iopub.execute_input": "2021-11-11T00:24:47.927187Z",
     "iopub.status.busy": "2021-11-11T00:24:47.926498Z",
     "iopub.status.idle": "2021-11-11T00:24:47.935513Z",
     "shell.execute_reply": "2021-11-11T00:24:47.936807Z"
    },
    "papermill": {
     "duration": 0.050135,
     "end_time": "2021-11-11T00:24:47.936943",
     "exception": false,
     "start_time": "2021-11-11T00:24:47.886808",
     "status": "completed"
    },
    "tags": []
   },
   "outputs": [],
   "source": [
    "#hide\n",
    "g = t.reset_index(['Country/Region'])"
   ]
  },
  {
   "cell_type": "code",
   "execution_count": 23,
   "id": "distributed-pittsburgh",
   "metadata": {
    "execution": {
     "iopub.execute_input": "2021-11-11T00:24:48.013931Z",
     "iopub.status.busy": "2021-11-11T00:24:48.013214Z",
     "iopub.status.idle": "2021-11-11T00:24:48.016087Z",
     "shell.execute_reply": "2021-11-11T00:24:48.015424Z"
    },
    "papermill": {
     "duration": 0.043691,
     "end_time": "2021-11-11T00:24:48.016237",
     "exception": false,
     "start_time": "2021-11-11T00:24:47.972546",
     "status": "completed"
    },
    "tags": []
   },
   "outputs": [],
   "source": [
    "#hide\n",
    "g.index.name = 'date'"
   ]
  },
  {
   "cell_type": "code",
   "execution_count": 24,
   "id": "naked-donor",
   "metadata": {
    "execution": {
     "iopub.execute_input": "2021-11-11T00:24:48.096270Z",
     "iopub.status.busy": "2021-11-11T00:24:48.095607Z",
     "iopub.status.idle": "2021-11-11T00:24:48.098473Z",
     "shell.execute_reply": "2021-11-11T00:24:48.097821Z"
    },
    "papermill": {
     "duration": 0.044618,
     "end_time": "2021-11-11T00:24:48.098608",
     "exception": false,
     "start_time": "2021-11-11T00:24:48.053990",
     "status": "completed"
    },
    "tags": []
   },
   "outputs": [],
   "source": [
    "# #hide\n",
    "# g = g.reset_index(['date'])"
   ]
  },
  {
   "cell_type": "code",
   "execution_count": 25,
   "id": "incomplete-mustang",
   "metadata": {
    "execution": {
     "iopub.execute_input": "2021-11-11T00:24:48.175688Z",
     "iopub.status.busy": "2021-11-11T00:24:48.174993Z",
     "iopub.status.idle": "2021-11-11T00:24:48.178103Z",
     "shell.execute_reply": "2021-11-11T00:24:48.178573Z"
    },
    "papermill": {
     "duration": 0.042127,
     "end_time": "2021-11-11T00:24:48.178713",
     "exception": false,
     "start_time": "2021-11-11T00:24:48.136586",
     "status": "completed"
    },
    "tags": []
   },
   "outputs": [],
   "source": [
    "#hide\n",
    "# g.head()"
   ]
  },
  {
   "cell_type": "code",
   "execution_count": 26,
   "id": "specific-kruger",
   "metadata": {
    "execution": {
     "iopub.execute_input": "2021-11-11T00:24:48.258595Z",
     "iopub.status.busy": "2021-11-11T00:24:48.257824Z",
     "iopub.status.idle": "2021-11-11T00:24:48.260173Z",
     "shell.execute_reply": "2021-11-11T00:24:48.260684Z"
    },
    "papermill": {
     "duration": 0.044304,
     "end_time": "2021-11-11T00:24:48.260816",
     "exception": false,
     "start_time": "2021-11-11T00:24:48.216512",
     "status": "completed"
    },
    "tags": []
   },
   "outputs": [],
   "source": [
    "#hide\n",
    "# g.columns = ['date','country','cases']"
   ]
  },
  {
   "cell_type": "code",
   "execution_count": 27,
   "id": "tender-conversion",
   "metadata": {
    "execution": {
     "iopub.execute_input": "2021-11-11T00:24:48.339882Z",
     "iopub.status.busy": "2021-11-11T00:24:48.338477Z",
     "iopub.status.idle": "2021-11-11T00:24:48.341294Z",
     "shell.execute_reply": "2021-11-11T00:24:48.341831Z"
    },
    "papermill": {
     "duration": 0.043926,
     "end_time": "2021-11-11T00:24:48.341986",
     "exception": false,
     "start_time": "2021-11-11T00:24:48.298060",
     "status": "completed"
    },
    "tags": []
   },
   "outputs": [],
   "source": [
    "#hide\n",
    "# g['continent'] = g.country"
   ]
  },
  {
   "cell_type": "code",
   "execution_count": 28,
   "id": "substantial-wilderness",
   "metadata": {
    "execution": {
     "iopub.execute_input": "2021-11-11T00:24:48.422844Z",
     "iopub.status.busy": "2021-11-11T00:24:48.422160Z",
     "iopub.status.idle": "2021-11-11T00:24:48.424568Z",
     "shell.execute_reply": "2021-11-11T00:24:48.425093Z"
    },
    "papermill": {
     "duration": 0.043723,
     "end_time": "2021-11-11T00:24:48.425247",
     "exception": false,
     "start_time": "2021-11-11T00:24:48.381524",
     "status": "completed"
    },
    "tags": []
   },
   "outputs": [],
   "source": [
    "#hide\n",
    "# cols = list(g.columns.values)"
   ]
  },
  {
   "cell_type": "code",
   "execution_count": 29,
   "id": "solved-farming",
   "metadata": {
    "execution": {
     "iopub.execute_input": "2021-11-11T00:24:48.507675Z",
     "iopub.status.busy": "2021-11-11T00:24:48.506932Z",
     "iopub.status.idle": "2021-11-11T00:24:48.510493Z",
     "shell.execute_reply": "2021-11-11T00:24:48.511064Z"
    },
    "papermill": {
     "duration": 0.047147,
     "end_time": "2021-11-11T00:24:48.511240",
     "exception": false,
     "start_time": "2021-11-11T00:24:48.464093",
     "status": "completed"
    },
    "tags": []
   },
   "outputs": [],
   "source": [
    "#hide\n",
    "# cols.insert(0, cols.pop())"
   ]
  },
  {
   "cell_type": "code",
   "execution_count": 30,
   "id": "executed-adoption",
   "metadata": {
    "execution": {
     "iopub.execute_input": "2021-11-11T00:24:48.590662Z",
     "iopub.status.busy": "2021-11-11T00:24:48.589849Z",
     "iopub.status.idle": "2021-11-11T00:24:48.594500Z",
     "shell.execute_reply": "2021-11-11T00:24:48.593977Z"
    },
    "papermill": {
     "duration": 0.045864,
     "end_time": "2021-11-11T00:24:48.594635",
     "exception": false,
     "start_time": "2021-11-11T00:24:48.548771",
     "status": "completed"
    },
    "tags": []
   },
   "outputs": [],
   "source": [
    "#hide\n",
    "# g = g[cols]"
   ]
  },
  {
   "cell_type": "code",
   "execution_count": 31,
   "id": "subject-dublin",
   "metadata": {
    "execution": {
     "iopub.execute_input": "2021-11-11T00:24:48.674961Z",
     "iopub.status.busy": "2021-11-11T00:24:48.674285Z",
     "iopub.status.idle": "2021-11-11T00:24:48.676366Z",
     "shell.execute_reply": "2021-11-11T00:24:48.676933Z"
    },
    "papermill": {
     "duration": 0.042552,
     "end_time": "2021-11-11T00:24:48.677067",
     "exception": false,
     "start_time": "2021-11-11T00:24:48.634515",
     "status": "completed"
    },
    "tags": []
   },
   "outputs": [],
   "source": [
    "#hide\n",
    "# g['continent'] = g['continent'].map(mapping['map.continent'])"
   ]
  },
  {
   "cell_type": "code",
   "execution_count": 32,
   "id": "freelance-scout",
   "metadata": {
    "execution": {
     "iopub.execute_input": "2021-11-11T00:24:48.757127Z",
     "iopub.status.busy": "2021-11-11T00:24:48.756440Z",
     "iopub.status.idle": "2021-11-11T00:24:48.760376Z",
     "shell.execute_reply": "2021-11-11T00:24:48.760891Z"
    },
    "papermill": {
     "duration": 0.046062,
     "end_time": "2021-11-11T00:24:48.761059",
     "exception": false,
     "start_time": "2021-11-11T00:24:48.714997",
     "status": "completed"
    },
    "tags": []
   },
   "outputs": [],
   "source": [
    "#hide\n",
    "# g.head()"
   ]
  },
  {
   "cell_type": "code",
   "execution_count": 33,
   "id": "limited-engine",
   "metadata": {
    "execution": {
     "iopub.execute_input": "2021-11-11T00:24:48.842283Z",
     "iopub.status.busy": "2021-11-11T00:24:48.841599Z",
     "iopub.status.idle": "2021-11-11T00:24:48.844566Z",
     "shell.execute_reply": "2021-11-11T00:24:48.844001Z"
    },
    "papermill": {
     "duration": 0.044361,
     "end_time": "2021-11-11T00:24:48.844689",
     "exception": false,
     "start_time": "2021-11-11T00:24:48.800328",
     "status": "completed"
    },
    "tags": []
   },
   "outputs": [],
   "source": [
    "# hide\n",
    "# g['date'] = g['date'].astype('datetime64[ns]')"
   ]
  },
  {
   "cell_type": "code",
   "execution_count": 34,
   "id": "sophisticated-supervisor",
   "metadata": {
    "execution": {
     "iopub.execute_input": "2021-11-11T00:24:48.925467Z",
     "iopub.status.busy": "2021-11-11T00:24:48.924768Z",
     "iopub.status.idle": "2021-11-11T00:24:48.927389Z",
     "shell.execute_reply": "2021-11-11T00:24:48.926793Z"
    },
    "papermill": {
     "duration": 0.043415,
     "end_time": "2021-11-11T00:24:48.927537",
     "exception": false,
     "start_time": "2021-11-11T00:24:48.884122",
     "status": "completed"
    },
    "tags": []
   },
   "outputs": [],
   "source": [
    "#hide\n",
    "# g['date'] = g.date.dt.dayofyear"
   ]
  },
  {
   "cell_type": "code",
   "execution_count": 35,
   "id": "inside-dubai",
   "metadata": {
    "execution": {
     "iopub.execute_input": "2021-11-11T00:24:49.010215Z",
     "iopub.status.busy": "2021-11-11T00:24:49.009534Z",
     "iopub.status.idle": "2021-11-11T00:24:49.012359Z",
     "shell.execute_reply": "2021-11-11T00:24:49.011774Z"
    },
    "papermill": {
     "duration": 0.045708,
     "end_time": "2021-11-11T00:24:49.012494",
     "exception": false,
     "start_time": "2021-11-11T00:24:48.966786",
     "status": "completed"
    },
    "tags": []
   },
   "outputs": [],
   "source": [
    "#hide\n",
    "# g = g.rename(columns= {'continent':'group','country':'name','cases':'value'})"
   ]
  },
  {
   "cell_type": "code",
   "execution_count": 36,
   "id": "fleet-motorcycle",
   "metadata": {
    "execution": {
     "iopub.execute_input": "2021-11-11T00:24:49.101987Z",
     "iopub.status.busy": "2021-11-11T00:24:49.100782Z",
     "iopub.status.idle": "2021-11-11T00:24:49.106096Z",
     "shell.execute_reply": "2021-11-11T00:24:49.105494Z"
    },
    "papermill": {
     "duration": 0.053358,
     "end_time": "2021-11-11T00:24:49.106225",
     "exception": false,
     "start_time": "2021-11-11T00:24:49.052867",
     "status": "completed"
    },
    "tags": []
   },
   "outputs": [],
   "source": [
    "#hide\n",
    "# cols = ['name','group','day','value']"
   ]
  },
  {
   "cell_type": "code",
   "execution_count": 37,
   "id": "continued-sleeping",
   "metadata": {
    "execution": {
     "iopub.execute_input": "2021-11-11T00:24:49.193467Z",
     "iopub.status.busy": "2021-11-11T00:24:49.192769Z",
     "iopub.status.idle": "2021-11-11T00:24:49.195412Z",
     "shell.execute_reply": "2021-11-11T00:24:49.194637Z"
    },
    "papermill": {
     "duration": 0.045639,
     "end_time": "2021-11-11T00:24:49.195551",
     "exception": false,
     "start_time": "2021-11-11T00:24:49.149912",
     "status": "completed"
    },
    "tags": []
   },
   "outputs": [],
   "source": [
    "#hide\n",
    "# g.rename(columns= {'date':'day'},inplace = True)"
   ]
  },
  {
   "cell_type": "code",
   "execution_count": 38,
   "id": "major-fight",
   "metadata": {
    "execution": {
     "iopub.execute_input": "2021-11-11T00:24:49.280593Z",
     "iopub.status.busy": "2021-11-11T00:24:49.279900Z",
     "iopub.status.idle": "2021-11-11T00:24:49.283724Z",
     "shell.execute_reply": "2021-11-11T00:24:49.284229Z"
    },
    "papermill": {
     "duration": 0.047905,
     "end_time": "2021-11-11T00:24:49.284377",
     "exception": false,
     "start_time": "2021-11-11T00:24:49.236472",
     "status": "completed"
    },
    "tags": []
   },
   "outputs": [],
   "source": [
    "#hide\n",
    "# g = g[cols]"
   ]
  },
  {
   "cell_type": "code",
   "execution_count": 39,
   "id": "structured-mobile",
   "metadata": {
    "execution": {
     "iopub.execute_input": "2021-11-11T00:24:49.365289Z",
     "iopub.status.busy": "2021-11-11T00:24:49.364601Z",
     "iopub.status.idle": "2021-11-11T00:24:49.366884Z",
     "shell.execute_reply": "2021-11-11T00:24:49.366106Z"
    },
    "papermill": {
     "duration": 0.044146,
     "end_time": "2021-11-11T00:24:49.367020",
     "exception": false,
     "start_time": "2021-11-11T00:24:49.322874",
     "status": "completed"
    },
    "tags": []
   },
   "outputs": [],
   "source": [
    "# #hide\n",
    "# g = g[g.group.notna()]"
   ]
  },
  {
   "cell_type": "code",
   "execution_count": 40,
   "id": "determined-closing",
   "metadata": {
    "execution": {
     "iopub.execute_input": "2021-11-11T00:24:49.448239Z",
     "iopub.status.busy": "2021-11-11T00:24:49.447581Z",
     "iopub.status.idle": "2021-11-11T00:24:49.449843Z",
     "shell.execute_reply": "2021-11-11T00:24:49.450345Z"
    },
    "papermill": {
     "duration": 0.045166,
     "end_time": "2021-11-11T00:24:49.450487",
     "exception": false,
     "start_time": "2021-11-11T00:24:49.405321",
     "status": "completed"
    },
    "tags": []
   },
   "outputs": [],
   "source": [
    "# #hide\n",
    "# colors = dict(zip(\n",
    "#     [\"Oceania\", \"Europe\", \"Asia\", \"South America\", \"Middle East\", \"North America\", \"Africa\"],\n",
    "#     [\"#adb0ff\", \"#ffb3ff\", \"#90d595\", \"#e48381\", \"#aafbff\", \"#f7bb5f\", \"#eafb50\"]\n",
    "# ))\n",
    "# group_lk = g.set_index('name')['group'].to_dict()"
   ]
  },
  {
   "cell_type": "code",
   "execution_count": null,
   "id": "gross-drinking",
   "metadata": {
    "papermill": {
     "duration": 0.036643,
     "end_time": "2021-11-11T00:24:49.527249",
     "exception": false,
     "start_time": "2021-11-11T00:24:49.490606",
     "status": "completed"
    },
    "tags": []
   },
   "outputs": [],
   "source": []
  },
  {
   "cell_type": "code",
   "execution_count": 41,
   "id": "subject-macintosh",
   "metadata": {
    "execution": {
     "iopub.execute_input": "2021-11-11T00:24:49.607473Z",
     "iopub.status.busy": "2021-11-11T00:24:49.606759Z",
     "iopub.status.idle": "2021-11-11T00:24:49.609113Z",
     "shell.execute_reply": "2021-11-11T00:24:49.608428Z"
    },
    "papermill": {
     "duration": 0.044221,
     "end_time": "2021-11-11T00:24:49.609238",
     "exception": false,
     "start_time": "2021-11-11T00:24:49.565017",
     "status": "completed"
    },
    "tags": []
   },
   "outputs": [],
   "source": [
    "# #hide\n",
    "# fig, ax = plt.subplots(figsize=(15, 8))\n",
    "\n",
    "# def draw_barchart(current_day):\n",
    "#     dff = g[g['day'].eq(current_day)].sort_values(by='value', ascending=True).tail(10)\n",
    "#     ax.clear()\n",
    "#     ax.barh(dff['name'], dff['value'], color=[colors[group_lk[x]] for x in dff['name']])\n",
    "#     dx = dff['value'].max() / 200\n",
    "    \n",
    "#     for i, (value, name) in enumerate(zip(dff['value'], dff['name'])):\n",
    "#         ax.text(value-dx, i,     name,           size=14, weight=600, ha='right', va='bottom')\n",
    "#         ax.text(value-dx, i-.25, group_lk[name], size=10, color='#444444', ha='right', va='baseline')\n",
    "#         ax.text(value+dx, i,     f'{value:,.0f}',  size=14, ha='left',  va='center')\n",
    "#     ax.text(1, 0.4, current_day, transform=ax.transAxes, color='#777777', size=46, ha='right', weight=800)\n",
    "#     ax.text(0, 1.06, 'Population (thousands)', transform=ax.transAxes, size=12, color='#777777')\n",
    "#     ax.xaxis.set_major_formatter(ticker.StrMethodFormatter('{x:,.0f}'))\n",
    "#     ax.xaxis.set_ticks_position('top')\n",
    "#     ax.tick_params(axis='x', colors='#777777', labelsize=12)\n",
    "#     ax.set_yticks([])\n",
    "#     ax.margins(0, 0.01)\n",
    "#     ax.grid(which='major', axis='x', linestyle='-')\n",
    "#     ax.set_axisbelow(True)\n",
    "    \n",
    "#     ax.text(0, 1.15, 'Coronavirus',\n",
    "#             transform=ax.transAxes, size=24, weight=600, ha='left', va='top')\n",
    "# #     ax.text(1, 0, 'by @pratapvardhan; credit @jburnmurdoch', transform=ax.transAxes, color='#777777', ha='right',\n",
    "# #             bbox=dict(facecolor='white', alpha=0.8, edgecolor='white'))\n",
    "#     plt.box(False)"
   ]
  },
  {
   "cell_type": "code",
   "execution_count": 42,
   "id": "sexual-wages",
   "metadata": {
    "execution": {
     "iopub.execute_input": "2021-11-11T00:24:49.692926Z",
     "iopub.status.busy": "2021-11-11T00:24:49.692227Z",
     "iopub.status.idle": "2021-11-11T00:24:49.694635Z",
     "shell.execute_reply": "2021-11-11T00:24:49.695145Z"
    },
    "papermill": {
     "duration": 0.046363,
     "end_time": "2021-11-11T00:24:49.695352",
     "exception": false,
     "start_time": "2021-11-11T00:24:49.648989",
     "status": "completed"
    },
    "tags": []
   },
   "outputs": [],
   "source": [
    "# #hide_input\n",
    "# fig, ax = plt.subplots(figsize=(15, 8))\n",
    "# animator = animation.FuncAnimation(fig, draw_barchart, frames=range(g.day.values.min(), g.day.values.max()))\n",
    "# HTML(animator.to_jshtml())\n",
    "# # or use animator.to_html5_video() or animator.save() "
   ]
  },
  {
   "cell_type": "code",
   "execution_count": null,
   "id": "australian-container",
   "metadata": {
    "papermill": {
     "duration": 0.039526,
     "end_time": "2021-11-11T00:24:49.776122",
     "exception": false,
     "start_time": "2021-11-11T00:24:49.736596",
     "status": "completed"
    },
    "tags": []
   },
   "outputs": [],
   "source": []
  },
  {
   "cell_type": "code",
   "execution_count": null,
   "id": "mediterranean-pontiac",
   "metadata": {
    "papermill": {
     "duration": 0.038297,
     "end_time": "2021-11-11T00:24:49.853394",
     "exception": false,
     "start_time": "2021-11-11T00:24:49.815097",
     "status": "completed"
    },
    "tags": []
   },
   "outputs": [],
   "source": []
  },
  {
   "cell_type": "code",
   "execution_count": null,
   "id": "aging-legislature",
   "metadata": {
    "papermill": {
     "duration": 0.044818,
     "end_time": "2021-11-11T00:24:49.936005",
     "exception": false,
     "start_time": "2021-11-11T00:24:49.891187",
     "status": "completed"
    },
    "tags": []
   },
   "outputs": [],
   "source": []
  }
 ],
 "metadata": {
  "kernelspec": {
   "display_name": "Python 3",
   "language": "python",
   "name": "python3"
  },
  "language_info": {
   "codemirror_mode": {
    "name": "ipython",
    "version": 3
   },
   "file_extension": ".py",
   "mimetype": "text/x-python",
   "name": "python",
   "nbconvert_exporter": "python",
   "pygments_lexer": "ipython3",
   "version": "3.6.15"
  },
  "papermill": {
   "duration": 7.292806,
   "end_time": "2021-11-11T00:24:50.383799",
   "environment_variables": {},
   "exception": null,
   "input_path": "2020-03-21-covid19exp.ipynb",
   "output_path": "2020-03-21-covid19exp.ipynb",
   "parameters": {},
   "start_time": "2021-11-11T00:24:43.090993",
   "version": "2.0.0"
  }
 },
 "nbformat": 4,
 "nbformat_minor": 5
}