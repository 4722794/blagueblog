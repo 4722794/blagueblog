{
 "cells": [
  {
   "cell_type": "markdown",
   "id": "muslim-click",
   "metadata": {
    "papermill": {
     "duration": 0.039542,
     "end_time": "2021-04-23T12:04:21.627941",
     "exception": false,
     "start_time": "2021-04-23T12:04:21.588399",
     "status": "completed"
    },
    "tags": []
   },
   "source": [
    "# COVID-19 Case Race\n",
    "> A race chart to see rising cases around the world\n",
    "\n",
    "- author: Hargun Oberoi\n",
    "- image: images/covid-overview.png\n",
    "- hide: false\n",
    "- badges: false"
   ]
  },
  {
   "cell_type": "code",
   "execution_count": 1,
   "id": "proof-material",
   "metadata": {
    "execution": {
     "iopub.execute_input": "2021-04-23T12:04:21.700423Z",
     "iopub.status.busy": "2021-04-23T12:04:21.699779Z",
     "iopub.status.idle": "2021-04-23T12:04:22.000626Z",
     "shell.execute_reply": "2021-04-23T12:04:22.000170Z"
    },
    "papermill": {
     "duration": 0.341586,
     "end_time": "2021-04-23T12:04:22.000761",
     "exception": false,
     "start_time": "2021-04-23T12:04:21.659175",
     "status": "completed"
    },
    "tags": []
   },
   "outputs": [],
   "source": [
    "#hide\n",
    "import numpy as np\n",
    "import pandas as pd\n",
    "from jinja2 import Template\n",
    "from IPython.display import HTML"
   ]
  },
  {
   "cell_type": "code",
   "execution_count": 2,
   "id": "developed-terminology",
   "metadata": {
    "execution": {
     "iopub.execute_input": "2021-04-23T12:04:22.073387Z",
     "iopub.status.busy": "2021-04-23T12:04:22.072106Z",
     "iopub.status.idle": "2021-04-23T12:04:22.074148Z",
     "shell.execute_reply": "2021-04-23T12:04:22.074625Z"
    },
    "papermill": {
     "duration": 0.040635,
     "end_time": "2021-04-23T12:04:22.074741",
     "exception": false,
     "start_time": "2021-04-23T12:04:22.034106",
     "status": "completed"
    },
    "tags": []
   },
   "outputs": [],
   "source": [
    "#hide\n",
    "\n",
    "# FETCH\n",
    "base_url = 'https://raw.githubusercontent.com/pratapvardhan/notebooks/master/covid19/'\n",
    "paths = {\n",
    "    'mapping': base_url + 'mapping_countries.csv',\n",
    "    'overview': base_url + 'overview.tpl'\n",
    "}"
   ]
  },
  {
   "cell_type": "code",
   "execution_count": 3,
   "id": "dynamic-saver",
   "metadata": {
    "execution": {
     "iopub.execute_input": "2021-04-23T12:04:22.150603Z",
     "iopub.status.busy": "2021-04-23T12:04:22.149969Z",
     "iopub.status.idle": "2021-04-23T12:04:22.153189Z",
     "shell.execute_reply": "2021-04-23T12:04:22.152746Z"
    },
    "papermill": {
     "duration": 0.044582,
     "end_time": "2021-04-23T12:04:22.153291",
     "exception": false,
     "start_time": "2021-04-23T12:04:22.108709",
     "status": "completed"
    },
    "tags": []
   },
   "outputs": [
    {
     "data": {
      "text/plain": [
       "'https://raw.githubusercontent.com/pratapvardhan/notebooks/master/covid19/mapping_countries.csv'"
      ]
     },
     "execution_count": 3,
     "metadata": {},
     "output_type": "execute_result"
    }
   ],
   "source": [
    "#hide\n",
    "paths['mapping']"
   ]
  },
  {
   "cell_type": "code",
   "execution_count": 4,
   "id": "urban-software",
   "metadata": {
    "execution": {
     "iopub.execute_input": "2021-04-23T12:04:22.219934Z",
     "iopub.status.busy": "2021-04-23T12:04:22.219413Z",
     "iopub.status.idle": "2021-04-23T12:04:22.221459Z",
     "shell.execute_reply": "2021-04-23T12:04:22.221941Z"
    },
    "papermill": {
     "duration": 0.036876,
     "end_time": "2021-04-23T12:04:22.222050",
     "exception": false,
     "start_time": "2021-04-23T12:04:22.185174",
     "status": "completed"
    },
    "tags": []
   },
   "outputs": [],
   "source": [
    "#hide\n",
    "def get_mappings(url):\n",
    "    df = pd.read_csv(url)\n",
    "    return {\n",
    "        'df': df,\n",
    "        'replace.country': dict(df.dropna(subset=['Name']).set_index('Country')['Name']),\n",
    "        'map.continent': dict(df.set_index('Name')['Continent'])\n",
    "    }"
   ]
  },
  {
   "cell_type": "code",
   "execution_count": 5,
   "id": "intimate-machinery",
   "metadata": {
    "execution": {
     "iopub.execute_input": "2021-04-23T12:04:22.290290Z",
     "iopub.status.busy": "2021-04-23T12:04:22.289721Z",
     "iopub.status.idle": "2021-04-23T12:04:22.319765Z",
     "shell.execute_reply": "2021-04-23T12:04:22.320371Z"
    },
    "papermill": {
     "duration": 0.068646,
     "end_time": "2021-04-23T12:04:22.320520",
     "exception": false,
     "start_time": "2021-04-23T12:04:22.251874",
     "status": "completed"
    },
    "tags": []
   },
   "outputs": [],
   "source": [
    "#hide\n",
    "mapping = get_mappings(paths['mapping'])"
   ]
  },
  {
   "cell_type": "code",
   "execution_count": 6,
   "id": "certified-tactics",
   "metadata": {
    "execution": {
     "iopub.execute_input": "2021-04-23T12:04:22.388078Z",
     "iopub.status.busy": "2021-04-23T12:04:22.387564Z",
     "iopub.status.idle": "2021-04-23T12:04:22.389827Z",
     "shell.execute_reply": "2021-04-23T12:04:22.389356Z"
    },
    "papermill": {
     "duration": 0.037083,
     "end_time": "2021-04-23T12:04:22.389954",
     "exception": false,
     "start_time": "2021-04-23T12:04:22.352871",
     "status": "completed"
    },
    "tags": []
   },
   "outputs": [],
   "source": [
    "#hide\n",
    "def get_template(path):\n",
    "    from urllib.parse import urlparse\n",
    "    if bool(urlparse(path).netloc):\n",
    "        from urllib.request import urlopen\n",
    "        return urlopen(path).read().decode('utf8')\n",
    "    return open(path).read()"
   ]
  },
  {
   "cell_type": "code",
   "execution_count": 7,
   "id": "realistic-blast",
   "metadata": {
    "execution": {
     "iopub.execute_input": "2021-04-23T12:04:22.458354Z",
     "iopub.status.busy": "2021-04-23T12:04:22.457791Z",
     "iopub.status.idle": "2021-04-23T12:04:22.460109Z",
     "shell.execute_reply": "2021-04-23T12:04:22.459647Z"
    },
    "papermill": {
     "duration": 0.039212,
     "end_time": "2021-04-23T12:04:22.460241",
     "exception": false,
     "start_time": "2021-04-23T12:04:22.421029",
     "status": "completed"
    },
    "tags": []
   },
   "outputs": [],
   "source": [
    "#hide\n",
    "def get_frame(name):\n",
    "    url = (\n",
    "        'https://raw.githubusercontent.com/CSSEGISandData/COVID-19/master/csse_covid_19_data/'\n",
    "        f'csse_covid_19_time_series/time_series_covid19_{name}_global.csv')\n",
    "    df = pd.read_csv(url)\n",
    "    # rename countries\n",
    "    df['Country/Region'] = df['Country/Region'].replace(mapping['replace.country'])\n",
    "    return df"
   ]
  },
  {
   "cell_type": "code",
   "execution_count": 8,
   "id": "affiliated-characterization",
   "metadata": {
    "execution": {
     "iopub.execute_input": "2021-04-23T12:04:22.535386Z",
     "iopub.status.busy": "2021-04-23T12:04:22.534670Z",
     "iopub.status.idle": "2021-04-23T12:04:22.537427Z",
     "shell.execute_reply": "2021-04-23T12:04:22.536972Z"
    },
    "papermill": {
     "duration": 0.040507,
     "end_time": "2021-04-23T12:04:22.537531",
     "exception": false,
     "start_time": "2021-04-23T12:04:22.497024",
     "status": "completed"
    },
    "tags": []
   },
   "outputs": [],
   "source": [
    "#hide\n",
    "def get_dates(df):\n",
    "    dt_cols = df.columns[~df.columns.isin(['Province/State', 'Country/Region', 'Lat', 'Long'])]\n",
    "    LAST_DATE_I = -1\n",
    "    # sometimes last column may be empty, then go backwards\n",
    "    for i in range(-1, -len(dt_cols), -1):\n",
    "        if not df[dt_cols[i]].fillna(0).eq(0).all():\n",
    "            LAST_DATE_I = i\n",
    "            break\n",
    "    return LAST_DATE_I, dt_cols"
   ]
  },
  {
   "cell_type": "code",
   "execution_count": 9,
   "id": "recent-optimization",
   "metadata": {
    "execution": {
     "iopub.execute_input": "2021-04-23T12:04:22.603604Z",
     "iopub.status.busy": "2021-04-23T12:04:22.602958Z",
     "iopub.status.idle": "2021-04-23T12:04:22.856718Z",
     "shell.execute_reply": "2021-04-23T12:04:22.856164Z"
    },
    "papermill": {
     "duration": 0.289331,
     "end_time": "2021-04-23T12:04:22.856837",
     "exception": false,
     "start_time": "2021-04-23T12:04:22.567506",
     "status": "completed"
    },
    "tags": []
   },
   "outputs": [],
   "source": [
    "#hide\n",
    "COL_REGION = 'Country/Region'\n",
    "# Confirmed, Recovered, Deaths\n",
    "df = get_frame('confirmed')\n",
    "# dft_: timeseries, dfc_: today country agg\n",
    "dft_cases = df\n",
    "dft_deaths = get_frame('deaths')\n",
    "dft_recovered = get_frame('recovered')\n",
    "LAST_DATE_I, dt_cols = get_dates(df)"
   ]
  },
  {
   "cell_type": "code",
   "execution_count": 10,
   "id": "absolute-copper",
   "metadata": {
    "execution": {
     "iopub.execute_input": "2021-04-23T12:04:22.923445Z",
     "iopub.status.busy": "2021-04-23T12:04:22.922856Z",
     "iopub.status.idle": "2021-04-23T12:04:22.925254Z",
     "shell.execute_reply": "2021-04-23T12:04:22.924700Z"
    },
    "papermill": {
     "duration": 0.036885,
     "end_time": "2021-04-23T12:04:22.925365",
     "exception": false,
     "start_time": "2021-04-23T12:04:22.888480",
     "status": "completed"
    },
    "tags": []
   },
   "outputs": [],
   "source": [
    "#hide\n",
    "LAST_DATE_I, dt_cols = get_dates(df)\n",
    "dt_today =dt_cols[LAST_DATE_I]\n",
    "# dt_5day = dt_cols[LAST_DATE_I - 5]\n",
    "dt_yday = dt_cols[LAST_DATE_I - 1]"
   ]
  },
  {
   "cell_type": "code",
   "execution_count": 11,
   "id": "restricted-sheriff",
   "metadata": {
    "execution": {
     "iopub.execute_input": "2021-04-23T12:04:23.003583Z",
     "iopub.status.busy": "2021-04-23T12:04:23.002977Z",
     "iopub.status.idle": "2021-04-23T12:04:23.010857Z",
     "shell.execute_reply": "2021-04-23T12:04:23.011384Z"
    },
    "papermill": {
     "duration": 0.048578,
     "end_time": "2021-04-23T12:04:23.011499",
     "exception": false,
     "start_time": "2021-04-23T12:04:22.962921",
     "status": "completed"
    },
    "tags": []
   },
   "outputs": [],
   "source": [
    "#hide\n",
    "dfc_cases = dft_cases.groupby(COL_REGION)[dt_today].sum()\n",
    "dfc_deaths = dft_deaths.groupby(COL_REGION)[dt_today].sum()\n",
    "# dfp_cases = dft_cases.groupby(COL_REGION)[dt_5day].sum()\n",
    "# dfp_deaths = dft_deaths.groupby(COL_REGION)[dt_5day].sum()\n",
    "dfp_cases = dft_cases.groupby(COL_REGION)[dt_yday].sum()\n",
    "dfp_deaths = dft_deaths.groupby(COL_REGION)[dt_yday].sum()"
   ]
  },
  {
   "cell_type": "code",
   "execution_count": 12,
   "id": "deluxe-hepatitis",
   "metadata": {
    "execution": {
     "iopub.execute_input": "2021-04-23T12:04:23.091009Z",
     "iopub.status.busy": "2021-04-23T12:04:23.090468Z",
     "iopub.status.idle": "2021-04-23T12:04:23.094957Z",
     "shell.execute_reply": "2021-04-23T12:04:23.095442Z"
    },
    "papermill": {
     "duration": 0.050804,
     "end_time": "2021-04-23T12:04:23.095601",
     "exception": false,
     "start_time": "2021-04-23T12:04:23.044797",
     "status": "completed"
    },
    "tags": []
   },
   "outputs": [],
   "source": [
    "#hide\n",
    "df_table = (pd.DataFrame(dict(Cases = dfc_cases, Deaths = dfc_deaths, PCases = dfp_cases, PDeaths = dfp_deaths))\n",
    "            .sort_values(by = ['Cases','Deaths'], ascending = [False, False])\n",
    "            .reset_index())"
   ]
  },
  {
   "cell_type": "code",
   "execution_count": 13,
   "id": "educational-chancellor",
   "metadata": {
    "execution": {
     "iopub.execute_input": "2021-04-23T12:04:23.177308Z",
     "iopub.status.busy": "2021-04-23T12:04:23.176790Z",
     "iopub.status.idle": "2021-04-23T12:04:23.185018Z",
     "shell.execute_reply": "2021-04-23T12:04:23.185429Z"
    },
    "papermill": {
     "duration": 0.058991,
     "end_time": "2021-04-23T12:04:23.185542",
     "exception": false,
     "start_time": "2021-04-23T12:04:23.126551",
     "status": "completed"
    },
    "tags": []
   },
   "outputs": [
    {
     "data": {
      "text/html": [
       "<div>\n",
       "<style scoped>\n",
       "    .dataframe tbody tr th:only-of-type {\n",
       "        vertical-align: middle;\n",
       "    }\n",
       "\n",
       "    .dataframe tbody tr th {\n",
       "        vertical-align: top;\n",
       "    }\n",
       "\n",
       "    .dataframe thead th {\n",
       "        text-align: right;\n",
       "    }\n",
       "</style>\n",
       "<table border=\"1\" class=\"dataframe\">\n",
       "  <thead>\n",
       "    <tr style=\"text-align: right;\">\n",
       "      <th></th>\n",
       "      <th>Country/Region</th>\n",
       "      <th>Cases</th>\n",
       "      <th>Deaths</th>\n",
       "      <th>PCases</th>\n",
       "      <th>PDeaths</th>\n",
       "      <th>Cases (+)</th>\n",
       "      <th>Deaths (+)</th>\n",
       "      <th>Fatality Rate</th>\n",
       "      <th>Continent</th>\n",
       "    </tr>\n",
       "  </thead>\n",
       "  <tbody>\n",
       "    <tr>\n",
       "      <th>0</th>\n",
       "      <td>US</td>\n",
       "      <td>31929351</td>\n",
       "      <td>570345</td>\n",
       "      <td>31862094</td>\n",
       "      <td>569402</td>\n",
       "      <td>67257</td>\n",
       "      <td>943</td>\n",
       "      <td>1.79</td>\n",
       "      <td>North America</td>\n",
       "    </tr>\n",
       "    <tr>\n",
       "      <th>1</th>\n",
       "      <td>India</td>\n",
       "      <td>16263695</td>\n",
       "      <td>186920</td>\n",
       "      <td>15930774</td>\n",
       "      <td>184657</td>\n",
       "      <td>332921</td>\n",
       "      <td>2263</td>\n",
       "      <td>1.15</td>\n",
       "      <td>Asia</td>\n",
       "    </tr>\n",
       "    <tr>\n",
       "      <th>2</th>\n",
       "      <td>Brazil</td>\n",
       "      <td>14167973</td>\n",
       "      <td>383502</td>\n",
       "      <td>14122795</td>\n",
       "      <td>381475</td>\n",
       "      <td>45178</td>\n",
       "      <td>2027</td>\n",
       "      <td>2.71</td>\n",
       "      <td>South America</td>\n",
       "    </tr>\n",
       "    <tr>\n",
       "      <th>3</th>\n",
       "      <td>France</td>\n",
       "      <td>5469674</td>\n",
       "      <td>102323</td>\n",
       "      <td>5436229</td>\n",
       "      <td>102046</td>\n",
       "      <td>33445</td>\n",
       "      <td>277</td>\n",
       "      <td>1.87</td>\n",
       "      <td>Europe</td>\n",
       "    </tr>\n",
       "    <tr>\n",
       "      <th>4</th>\n",
       "      <td>Russia</td>\n",
       "      <td>4682573</td>\n",
       "      <td>105328</td>\n",
       "      <td>4673699</td>\n",
       "      <td>104937</td>\n",
       "      <td>8874</td>\n",
       "      <td>391</td>\n",
       "      <td>2.25</td>\n",
       "      <td>Europe</td>\n",
       "    </tr>\n",
       "  </tbody>\n",
       "</table>\n",
       "</div>"
      ],
      "text/plain": [
       "  Country/Region     Cases  Deaths    PCases  PDeaths  Cases (+)  Deaths (+)  \\\n",
       "0             US  31929351  570345  31862094   569402      67257         943   \n",
       "1          India  16263695  186920  15930774   184657     332921        2263   \n",
       "2         Brazil  14167973  383502  14122795   381475      45178        2027   \n",
       "3         France   5469674  102323   5436229   102046      33445         277   \n",
       "4         Russia   4682573  105328   4673699   104937       8874         391   \n",
       "\n",
       "   Fatality Rate      Continent  \n",
       "0           1.79  North America  \n",
       "1           1.15           Asia  \n",
       "2           2.71  South America  \n",
       "3           1.87         Europe  \n",
       "4           2.25         Europe  "
      ]
     },
     "execution_count": 13,
     "metadata": {},
     "output_type": "execute_result"
    }
   ],
   "source": [
    "#hide\n",
    "for c in 'Cases, Deaths'.split(', '):\n",
    "    df_table[f'{c} (+)'] = (df_table[c] - df_table[f'P{c}']).clip(0)\n",
    "    #Clip ça veut dire, les chiffres negatif sont interdit\n",
    "df_table['Fatality Rate'] = (100* df_table['Deaths']/ df_table['Cases']).round(2)\n",
    "df_table['Continent'] = df_table['Country/Region'].map(mapping['map.continent'])\n",
    "df_table.head(5)"
   ]
  },
  {
   "cell_type": "code",
   "execution_count": 14,
   "id": "aboriginal-bulgaria",
   "metadata": {
    "execution": {
     "iopub.execute_input": "2021-04-23T12:04:23.259851Z",
     "iopub.status.busy": "2021-04-23T12:04:23.259287Z",
     "iopub.status.idle": "2021-04-23T12:04:23.262697Z",
     "shell.execute_reply": "2021-04-23T12:04:23.262144Z"
    },
    "papermill": {
     "duration": 0.045601,
     "end_time": "2021-04-23T12:04:23.262799",
     "exception": false,
     "start_time": "2021-04-23T12:04:23.217198",
     "status": "completed"
    },
    "tags": []
   },
   "outputs": [],
   "source": [
    "#hide\n",
    "#delete problematic countries from table\n",
    "df_table = df_table[~df_table['Country/Region'].isin(['Cape Verde', 'Cruise Ship', 'Kosovo'])]"
   ]
  },
  {
   "cell_type": "code",
   "execution_count": 15,
   "id": "fantastic-effect",
   "metadata": {
    "execution": {
     "iopub.execute_input": "2021-04-23T12:04:23.338741Z",
     "iopub.status.busy": "2021-04-23T12:04:23.338156Z",
     "iopub.status.idle": "2021-04-23T12:04:23.360076Z",
     "shell.execute_reply": "2021-04-23T12:04:23.359620Z"
    },
    "papermill": {
     "duration": 0.064064,
     "end_time": "2021-04-23T12:04:23.360201",
     "exception": false,
     "start_time": "2021-04-23T12:04:23.296137",
     "status": "completed"
    },
    "tags": []
   },
   "outputs": [
    {
     "data": {
      "text/html": [
       "<div>\n",
       "<style scoped>\n",
       "    .dataframe tbody tr th:only-of-type {\n",
       "        vertical-align: middle;\n",
       "    }\n",
       "\n",
       "    .dataframe tbody tr th {\n",
       "        vertical-align: top;\n",
       "    }\n",
       "\n",
       "    .dataframe thead th {\n",
       "        text-align: right;\n",
       "    }\n",
       "</style>\n",
       "<table border=\"1\" class=\"dataframe\">\n",
       "  <thead>\n",
       "    <tr style=\"text-align: right;\">\n",
       "      <th></th>\n",
       "      <th>Country/Region</th>\n",
       "      <th>Cases</th>\n",
       "      <th>Deaths</th>\n",
       "      <th>PCases</th>\n",
       "      <th>PDeaths</th>\n",
       "      <th>Cases (+)</th>\n",
       "      <th>Deaths (+)</th>\n",
       "      <th>Fatality Rate</th>\n",
       "      <th>Continent</th>\n",
       "    </tr>\n",
       "  </thead>\n",
       "  <tbody>\n",
       "    <tr>\n",
       "      <th>0</th>\n",
       "      <td>US</td>\n",
       "      <td>31929351</td>\n",
       "      <td>570345</td>\n",
       "      <td>31862094</td>\n",
       "      <td>569402</td>\n",
       "      <td>67257</td>\n",
       "      <td>943</td>\n",
       "      <td>1.8</td>\n",
       "      <td>North America</td>\n",
       "    </tr>\n",
       "    <tr>\n",
       "      <th>1</th>\n",
       "      <td>India</td>\n",
       "      <td>16263695</td>\n",
       "      <td>186920</td>\n",
       "      <td>15930774</td>\n",
       "      <td>184657</td>\n",
       "      <td>332921</td>\n",
       "      <td>2263</td>\n",
       "      <td>1.1</td>\n",
       "      <td>Asia</td>\n",
       "    </tr>\n",
       "    <tr>\n",
       "      <th>2</th>\n",
       "      <td>Brazil</td>\n",
       "      <td>14167973</td>\n",
       "      <td>383502</td>\n",
       "      <td>14122795</td>\n",
       "      <td>381475</td>\n",
       "      <td>45178</td>\n",
       "      <td>2027</td>\n",
       "      <td>2.7</td>\n",
       "      <td>South America</td>\n",
       "    </tr>\n",
       "    <tr>\n",
       "      <th>3</th>\n",
       "      <td>France</td>\n",
       "      <td>5469674</td>\n",
       "      <td>102323</td>\n",
       "      <td>5436229</td>\n",
       "      <td>102046</td>\n",
       "      <td>33445</td>\n",
       "      <td>277</td>\n",
       "      <td>1.9</td>\n",
       "      <td>Europe</td>\n",
       "    </tr>\n",
       "    <tr>\n",
       "      <th>4</th>\n",
       "      <td>Russia</td>\n",
       "      <td>4682573</td>\n",
       "      <td>105328</td>\n",
       "      <td>4673699</td>\n",
       "      <td>104937</td>\n",
       "      <td>8874</td>\n",
       "      <td>391</td>\n",
       "      <td>2.2</td>\n",
       "      <td>Europe</td>\n",
       "    </tr>\n",
       "  </tbody>\n",
       "</table>\n",
       "</div>"
      ],
      "text/plain": [
       "  Country/Region     Cases  Deaths    PCases  PDeaths  Cases (+)  Deaths (+)  \\\n",
       "0             US  31929351  570345  31862094   569402      67257         943   \n",
       "1          India  16263695  186920  15930774   184657     332921        2263   \n",
       "2         Brazil  14167973  383502  14122795   381475      45178        2027   \n",
       "3         France   5469674  102323   5436229   102046      33445         277   \n",
       "4         Russia   4682573  105328   4673699   104937       8874         391   \n",
       "\n",
       "   Fatality Rate      Continent  \n",
       "0            1.8  North America  \n",
       "1            1.1           Asia  \n",
       "2            2.7  South America  \n",
       "3            1.9         Europe  \n",
       "4            2.2         Europe  "
      ]
     },
     "execution_count": 15,
     "metadata": {},
     "output_type": "execute_result"
    }
   ],
   "source": [
    "#hide\n",
    "df_table = (pd.DataFrame(dict(Cases=dfc_cases, Deaths=dfc_deaths, PCases=dfp_cases, PDeaths=dfp_deaths))\n",
    "             .sort_values(by=['Cases', 'Deaths'], ascending=[False, False])\n",
    "             .reset_index())\n",
    "df_table.rename(columns={'index': 'Country/Region'}, inplace=True)\n",
    "for c in 'Cases, Deaths'.split(', '):\n",
    "    df_table[f'{c} (+)'] = (df_table[c] - df_table[f'P{c}']).clip(0)  # DATA BUG\n",
    "df_table['Fatality Rate'] = (100 * df_table['Deaths'] / df_table['Cases']).round(1)\n",
    "df_table['Continent'] = df_table['Country/Region'].map(mapping['map.continent'])\n",
    "df_table.head(5)"
   ]
  },
  {
   "cell_type": "code",
   "execution_count": 16,
   "id": "fewer-occasion",
   "metadata": {
    "execution": {
     "iopub.execute_input": "2021-04-23T12:04:23.432581Z",
     "iopub.status.busy": "2021-04-23T12:04:23.432001Z",
     "iopub.status.idle": "2021-04-23T12:04:23.434861Z",
     "shell.execute_reply": "2021-04-23T12:04:23.435367Z"
    },
    "papermill": {
     "duration": 0.041908,
     "end_time": "2021-04-23T12:04:23.435492",
     "exception": false,
     "start_time": "2021-04-23T12:04:23.393584",
     "status": "completed"
    },
    "tags": []
   },
   "outputs": [],
   "source": [
    "#hide\n",
    "#delete problematic countries from table\n",
    "df_table = df_table[~df_table['Country/Region'].isin(['Cape Verde', 'Cruise Ship', 'Kosovo'])]"
   ]
  },
  {
   "cell_type": "code",
   "execution_count": 17,
   "id": "related-center",
   "metadata": {
    "execution": {
     "iopub.execute_input": "2021-04-23T12:04:23.527638Z",
     "iopub.status.busy": "2021-04-23T12:04:23.526989Z",
     "iopub.status.idle": "2021-04-23T12:04:23.531624Z",
     "shell.execute_reply": "2021-04-23T12:04:23.531125Z"
    },
    "papermill": {
     "duration": 0.059826,
     "end_time": "2021-04-23T12:04:23.531737",
     "exception": false,
     "start_time": "2021-04-23T12:04:23.471911",
     "status": "completed"
    },
    "tags": []
   },
   "outputs": [],
   "source": [
    "#hide\n",
    "metrics = [df_table.columns[index] for index in [1,2,5,6]]\n",
    "# s_china = df_table[df_table['Country/Region'].eq('China')][metrics].sum().add_prefix('China ')\n",
    "s_us = df_table[df_table['Country/Region'].eq('US')][metrics].sum().add_prefix('US ')\n",
    "s_eu = df_table[df_table['Continent'].eq('Europe')][metrics].sum().add_prefix('EU ')\n",
    "s_ind = df_table[df_table['Country/Region'].eq('India')][metrics].sum().add_prefix('India ')\n",
    "summary = {'updated': pd.to_datetime(dt_today), 'since': pd.to_datetime(dt_yday)}\n",
    "summary = {'updated': pd.to_datetime(dt_today), 'since': pd.to_datetime(dt_yday)}\n",
    "summary = {**summary, **df_table[metrics].sum(), **s_ind, **s_us, **s_eu}"
   ]
  },
  {
   "cell_type": "code",
   "execution_count": 18,
   "id": "engaging-syndrome",
   "metadata": {
    "execution": {
     "iopub.execute_input": "2021-04-23T12:04:23.620304Z",
     "iopub.status.busy": "2021-04-23T12:04:23.619658Z",
     "iopub.status.idle": "2021-04-23T12:04:23.631894Z",
     "shell.execute_reply": "2021-04-23T12:04:23.631394Z"
    },
    "papermill": {
     "duration": 0.065287,
     "end_time": "2021-04-23T12:04:23.632013",
     "exception": false,
     "start_time": "2021-04-23T12:04:23.566726",
     "status": "completed"
    },
    "tags": []
   },
   "outputs": [],
   "source": [
    "#hide\n",
    "dft_ct_new_cases = dft_cases.groupby(COL_REGION)[dt_cols].sum().diff(axis=1).fillna(0).astype(int)"
   ]
  },
  {
   "cell_type": "code",
   "execution_count": 19,
   "id": "neutral-assignment",
   "metadata": {
    "execution": {
     "iopub.execute_input": "2021-04-23T12:04:23.708554Z",
     "iopub.status.busy": "2021-04-23T12:04:23.707994Z",
     "iopub.status.idle": "2021-04-23T12:04:23.710456Z",
     "shell.execute_reply": "2021-04-23T12:04:23.709603Z"
    },
    "papermill": {
     "duration": 0.042605,
     "end_time": "2021-04-23T12:04:23.710596",
     "exception": false,
     "start_time": "2021-04-23T12:04:23.667991",
     "status": "completed"
    },
    "tags": []
   },
   "outputs": [],
   "source": [
    "#hide\n",
    "everydaycases = dft_ct_new_cases.cumsum(axis=1)"
   ]
  },
  {
   "cell_type": "code",
   "execution_count": 20,
   "id": "parliamentary-calgary",
   "metadata": {
    "execution": {
     "iopub.execute_input": "2021-04-23T12:04:23.777633Z",
     "iopub.status.busy": "2021-04-23T12:04:23.777061Z",
     "iopub.status.idle": "2021-04-23T12:04:24.252747Z",
     "shell.execute_reply": "2021-04-23T12:04:24.251984Z"
    },
    "papermill": {
     "duration": 0.510968,
     "end_time": "2021-04-23T12:04:24.252912",
     "exception": false,
     "start_time": "2021-04-23T12:04:23.741944",
     "status": "completed"
    },
    "tags": []
   },
   "outputs": [],
   "source": [
    "#hide\n",
    "import pandas as pd\n",
    "import matplotlib.pyplot as plt\n",
    "import matplotlib.ticker as ticker\n",
    "import matplotlib.animation as animation\n",
    "from IPython.display import HTML"
   ]
  },
  {
   "cell_type": "code",
   "execution_count": 21,
   "id": "lasting-extraction",
   "metadata": {
    "execution": {
     "iopub.execute_input": "2021-04-23T12:04:24.323080Z",
     "iopub.status.busy": "2021-04-23T12:04:24.322359Z",
     "iopub.status.idle": "2021-04-23T12:04:24.327893Z",
     "shell.execute_reply": "2021-04-23T12:04:24.328409Z"
    },
    "papermill": {
     "duration": 0.042954,
     "end_time": "2021-04-23T12:04:24.328527",
     "exception": false,
     "start_time": "2021-04-23T12:04:24.285573",
     "status": "completed"
    },
    "tags": []
   },
   "outputs": [],
   "source": [
    "#hide\n",
    "t = everydaycases.stack()"
   ]
  },
  {
   "cell_type": "code",
   "execution_count": 22,
   "id": "premier-sleeve",
   "metadata": {
    "execution": {
     "iopub.execute_input": "2021-04-23T12:04:24.398473Z",
     "iopub.status.busy": "2021-04-23T12:04:24.397803Z",
     "iopub.status.idle": "2021-04-23T12:04:24.405100Z",
     "shell.execute_reply": "2021-04-23T12:04:24.405543Z"
    },
    "papermill": {
     "duration": 0.044616,
     "end_time": "2021-04-23T12:04:24.405659",
     "exception": false,
     "start_time": "2021-04-23T12:04:24.361043",
     "status": "completed"
    },
    "tags": []
   },
   "outputs": [],
   "source": [
    "#hide\n",
    "g = t.reset_index(['Country/Region'])"
   ]
  },
  {
   "cell_type": "code",
   "execution_count": 23,
   "id": "distributed-pittsburgh",
   "metadata": {
    "execution": {
     "iopub.execute_input": "2021-04-23T12:04:24.472073Z",
     "iopub.status.busy": "2021-04-23T12:04:24.471576Z",
     "iopub.status.idle": "2021-04-23T12:04:24.473418Z",
     "shell.execute_reply": "2021-04-23T12:04:24.474195Z"
    },
    "papermill": {
     "duration": 0.037167,
     "end_time": "2021-04-23T12:04:24.474334",
     "exception": false,
     "start_time": "2021-04-23T12:04:24.437167",
     "status": "completed"
    },
    "tags": []
   },
   "outputs": [],
   "source": [
    "#hide\n",
    "g.index.name = 'date'"
   ]
  },
  {
   "cell_type": "code",
   "execution_count": 24,
   "id": "naked-donor",
   "metadata": {
    "execution": {
     "iopub.execute_input": "2021-04-23T12:04:24.543733Z",
     "iopub.status.busy": "2021-04-23T12:04:24.543192Z",
     "iopub.status.idle": "2021-04-23T12:04:24.545821Z",
     "shell.execute_reply": "2021-04-23T12:04:24.545297Z"
    },
    "papermill": {
     "duration": 0.040603,
     "end_time": "2021-04-23T12:04:24.545948",
     "exception": false,
     "start_time": "2021-04-23T12:04:24.505345",
     "status": "completed"
    },
    "tags": []
   },
   "outputs": [],
   "source": [
    "# #hide\n",
    "# g = g.reset_index(['date'])"
   ]
  },
  {
   "cell_type": "code",
   "execution_count": 25,
   "id": "incomplete-mustang",
   "metadata": {
    "execution": {
     "iopub.execute_input": "2021-04-23T12:04:24.614125Z",
     "iopub.status.busy": "2021-04-23T12:04:24.613579Z",
     "iopub.status.idle": "2021-04-23T12:04:24.616128Z",
     "shell.execute_reply": "2021-04-23T12:04:24.615683Z"
    },
    "papermill": {
     "duration": 0.038119,
     "end_time": "2021-04-23T12:04:24.616232",
     "exception": false,
     "start_time": "2021-04-23T12:04:24.578113",
     "status": "completed"
    },
    "tags": []
   },
   "outputs": [],
   "source": [
    "#hide\n",
    "# g.head()"
   ]
  },
  {
   "cell_type": "code",
   "execution_count": 26,
   "id": "specific-kruger",
   "metadata": {
    "execution": {
     "iopub.execute_input": "2021-04-23T12:04:24.683440Z",
     "iopub.status.busy": "2021-04-23T12:04:24.682922Z",
     "iopub.status.idle": "2021-04-23T12:04:24.684857Z",
     "shell.execute_reply": "2021-04-23T12:04:24.685295Z"
    },
    "papermill": {
     "duration": 0.036385,
     "end_time": "2021-04-23T12:04:24.685414",
     "exception": false,
     "start_time": "2021-04-23T12:04:24.649029",
     "status": "completed"
    },
    "tags": []
   },
   "outputs": [],
   "source": [
    "#hide\n",
    "# g.columns = ['date','country','cases']"
   ]
  },
  {
   "cell_type": "code",
   "execution_count": 27,
   "id": "tender-conversion",
   "metadata": {
    "execution": {
     "iopub.execute_input": "2021-04-23T12:04:24.757625Z",
     "iopub.status.busy": "2021-04-23T12:04:24.756592Z",
     "iopub.status.idle": "2021-04-23T12:04:24.758395Z",
     "shell.execute_reply": "2021-04-23T12:04:24.758965Z"
    },
    "papermill": {
     "duration": 0.038416,
     "end_time": "2021-04-23T12:04:24.759085",
     "exception": false,
     "start_time": "2021-04-23T12:04:24.720669",
     "status": "completed"
    },
    "tags": []
   },
   "outputs": [],
   "source": [
    "#hide\n",
    "# g['continent'] = g.country"
   ]
  },
  {
   "cell_type": "code",
   "execution_count": 28,
   "id": "substantial-wilderness",
   "metadata": {
    "execution": {
     "iopub.execute_input": "2021-04-23T12:04:24.826072Z",
     "iopub.status.busy": "2021-04-23T12:04:24.825435Z",
     "iopub.status.idle": "2021-04-23T12:04:24.827569Z",
     "shell.execute_reply": "2021-04-23T12:04:24.828028Z"
    },
    "papermill": {
     "duration": 0.036865,
     "end_time": "2021-04-23T12:04:24.828144",
     "exception": false,
     "start_time": "2021-04-23T12:04:24.791279",
     "status": "completed"
    },
    "tags": []
   },
   "outputs": [],
   "source": [
    "#hide\n",
    "# cols = list(g.columns.values)"
   ]
  },
  {
   "cell_type": "code",
   "execution_count": 29,
   "id": "solved-farming",
   "metadata": {
    "execution": {
     "iopub.execute_input": "2021-04-23T12:04:24.897800Z",
     "iopub.status.busy": "2021-04-23T12:04:24.897261Z",
     "iopub.status.idle": "2021-04-23T12:04:24.902506Z",
     "shell.execute_reply": "2021-04-23T12:04:24.902917Z"
    },
    "papermill": {
     "duration": 0.0422,
     "end_time": "2021-04-23T12:04:24.903029",
     "exception": false,
     "start_time": "2021-04-23T12:04:24.860829",
     "status": "completed"
    },
    "tags": []
   },
   "outputs": [],
   "source": [
    "#hide\n",
    "# cols.insert(0, cols.pop())"
   ]
  },
  {
   "cell_type": "code",
   "execution_count": 30,
   "id": "executed-adoption",
   "metadata": {
    "execution": {
     "iopub.execute_input": "2021-04-23T12:04:24.968942Z",
     "iopub.status.busy": "2021-04-23T12:04:24.968088Z",
     "iopub.status.idle": "2021-04-23T12:04:24.970343Z",
     "shell.execute_reply": "2021-04-23T12:04:24.970895Z"
    },
    "papermill": {
     "duration": 0.036828,
     "end_time": "2021-04-23T12:04:24.971048",
     "exception": false,
     "start_time": "2021-04-23T12:04:24.934220",
     "status": "completed"
    },
    "tags": []
   },
   "outputs": [],
   "source": [
    "#hide\n",
    "# g = g[cols]"
   ]
  },
  {
   "cell_type": "code",
   "execution_count": 31,
   "id": "subject-dublin",
   "metadata": {
    "execution": {
     "iopub.execute_input": "2021-04-23T12:04:25.037649Z",
     "iopub.status.busy": "2021-04-23T12:04:25.037128Z",
     "iopub.status.idle": "2021-04-23T12:04:25.039038Z",
     "shell.execute_reply": "2021-04-23T12:04:25.038488Z"
    },
    "papermill": {
     "duration": 0.036709,
     "end_time": "2021-04-23T12:04:25.039140",
     "exception": false,
     "start_time": "2021-04-23T12:04:25.002431",
     "status": "completed"
    },
    "tags": []
   },
   "outputs": [],
   "source": [
    "#hide\n",
    "# g['continent'] = g['continent'].map(mapping['map.continent'])"
   ]
  },
  {
   "cell_type": "code",
   "execution_count": 32,
   "id": "freelance-scout",
   "metadata": {
    "execution": {
     "iopub.execute_input": "2021-04-23T12:04:25.113353Z",
     "iopub.status.busy": "2021-04-23T12:04:25.112844Z",
     "iopub.status.idle": "2021-04-23T12:04:25.115129Z",
     "shell.execute_reply": "2021-04-23T12:04:25.114675Z"
    },
    "papermill": {
     "duration": 0.038227,
     "end_time": "2021-04-23T12:04:25.115229",
     "exception": false,
     "start_time": "2021-04-23T12:04:25.077002",
     "status": "completed"
    },
    "tags": []
   },
   "outputs": [],
   "source": [
    "#hide\n",
    "# g.head()"
   ]
  },
  {
   "cell_type": "code",
   "execution_count": 33,
   "id": "limited-engine",
   "metadata": {
    "execution": {
     "iopub.execute_input": "2021-04-23T12:04:25.182377Z",
     "iopub.status.busy": "2021-04-23T12:04:25.181803Z",
     "iopub.status.idle": "2021-04-23T12:04:25.183961Z",
     "shell.execute_reply": "2021-04-23T12:04:25.184373Z"
    },
    "papermill": {
     "duration": 0.038013,
     "end_time": "2021-04-23T12:04:25.184485",
     "exception": false,
     "start_time": "2021-04-23T12:04:25.146472",
     "status": "completed"
    },
    "tags": []
   },
   "outputs": [],
   "source": [
    "# hide\n",
    "# g['date'] = g['date'].astype('datetime64[ns]')"
   ]
  },
  {
   "cell_type": "code",
   "execution_count": 34,
   "id": "sophisticated-supervisor",
   "metadata": {
    "execution": {
     "iopub.execute_input": "2021-04-23T12:04:25.252833Z",
     "iopub.status.busy": "2021-04-23T12:04:25.252259Z",
     "iopub.status.idle": "2021-04-23T12:04:25.254281Z",
     "shell.execute_reply": "2021-04-23T12:04:25.253711Z"
    },
    "papermill": {
     "duration": 0.037215,
     "end_time": "2021-04-23T12:04:25.254389",
     "exception": false,
     "start_time": "2021-04-23T12:04:25.217174",
     "status": "completed"
    },
    "tags": []
   },
   "outputs": [],
   "source": [
    "#hide\n",
    "# g['date'] = g.date.dt.dayofyear"
   ]
  },
  {
   "cell_type": "code",
   "execution_count": 35,
   "id": "inside-dubai",
   "metadata": {
    "execution": {
     "iopub.execute_input": "2021-04-23T12:04:25.329879Z",
     "iopub.status.busy": "2021-04-23T12:04:25.329330Z",
     "iopub.status.idle": "2021-04-23T12:04:25.331377Z",
     "shell.execute_reply": "2021-04-23T12:04:25.331761Z"
    },
    "papermill": {
     "duration": 0.043268,
     "end_time": "2021-04-23T12:04:25.331920",
     "exception": false,
     "start_time": "2021-04-23T12:04:25.288652",
     "status": "completed"
    },
    "tags": []
   },
   "outputs": [],
   "source": [
    "#hide\n",
    "# g = g.rename(columns= {'continent':'group','country':'name','cases':'value'})"
   ]
  },
  {
   "cell_type": "code",
   "execution_count": 36,
   "id": "fleet-motorcycle",
   "metadata": {
    "execution": {
     "iopub.execute_input": "2021-04-23T12:04:25.404910Z",
     "iopub.status.busy": "2021-04-23T12:04:25.404313Z",
     "iopub.status.idle": "2021-04-23T12:04:25.406399Z",
     "shell.execute_reply": "2021-04-23T12:04:25.405716Z"
    },
    "papermill": {
     "duration": 0.041031,
     "end_time": "2021-04-23T12:04:25.406500",
     "exception": false,
     "start_time": "2021-04-23T12:04:25.365469",
     "status": "completed"
    },
    "tags": []
   },
   "outputs": [],
   "source": [
    "#hide\n",
    "# cols = ['name','group','day','value']"
   ]
  },
  {
   "cell_type": "code",
   "execution_count": 37,
   "id": "continued-sleeping",
   "metadata": {
    "execution": {
     "iopub.execute_input": "2021-04-23T12:04:25.480745Z",
     "iopub.status.busy": "2021-04-23T12:04:25.480123Z",
     "iopub.status.idle": "2021-04-23T12:04:25.482465Z",
     "shell.execute_reply": "2021-04-23T12:04:25.481978Z"
    },
    "papermill": {
     "duration": 0.043094,
     "end_time": "2021-04-23T12:04:25.482563",
     "exception": false,
     "start_time": "2021-04-23T12:04:25.439469",
     "status": "completed"
    },
    "tags": []
   },
   "outputs": [],
   "source": [
    "#hide\n",
    "# g.rename(columns= {'date':'day'},inplace = True)"
   ]
  },
  {
   "cell_type": "code",
   "execution_count": 38,
   "id": "major-fight",
   "metadata": {
    "execution": {
     "iopub.execute_input": "2021-04-23T12:04:25.556629Z",
     "iopub.status.busy": "2021-04-23T12:04:25.555505Z",
     "iopub.status.idle": "2021-04-23T12:04:25.559423Z",
     "shell.execute_reply": "2021-04-23T12:04:25.558806Z"
    },
    "papermill": {
     "duration": 0.04197,
     "end_time": "2021-04-23T12:04:25.559527",
     "exception": false,
     "start_time": "2021-04-23T12:04:25.517557",
     "status": "completed"
    },
    "tags": []
   },
   "outputs": [],
   "source": [
    "#hide\n",
    "# g = g[cols]"
   ]
  },
  {
   "cell_type": "code",
   "execution_count": 39,
   "id": "structured-mobile",
   "metadata": {
    "execution": {
     "iopub.execute_input": "2021-04-23T12:04:25.628211Z",
     "iopub.status.busy": "2021-04-23T12:04:25.627637Z",
     "iopub.status.idle": "2021-04-23T12:04:25.629845Z",
     "shell.execute_reply": "2021-04-23T12:04:25.629367Z"
    },
    "papermill": {
     "duration": 0.03762,
     "end_time": "2021-04-23T12:04:25.629997",
     "exception": false,
     "start_time": "2021-04-23T12:04:25.592377",
     "status": "completed"
    },
    "tags": []
   },
   "outputs": [],
   "source": [
    "# #hide\n",
    "# g = g[g.group.notna()]"
   ]
  },
  {
   "cell_type": "code",
   "execution_count": 40,
   "id": "determined-closing",
   "metadata": {
    "execution": {
     "iopub.execute_input": "2021-04-23T12:04:25.699534Z",
     "iopub.status.busy": "2021-04-23T12:04:25.698946Z",
     "iopub.status.idle": "2021-04-23T12:04:25.701217Z",
     "shell.execute_reply": "2021-04-23T12:04:25.700768Z"
    },
    "papermill": {
     "duration": 0.038572,
     "end_time": "2021-04-23T12:04:25.701311",
     "exception": false,
     "start_time": "2021-04-23T12:04:25.662739",
     "status": "completed"
    },
    "tags": []
   },
   "outputs": [],
   "source": [
    "# #hide\n",
    "# colors = dict(zip(\n",
    "#     [\"Oceania\", \"Europe\", \"Asia\", \"South America\", \"Middle East\", \"North America\", \"Africa\"],\n",
    "#     [\"#adb0ff\", \"#ffb3ff\", \"#90d595\", \"#e48381\", \"#aafbff\", \"#f7bb5f\", \"#eafb50\"]\n",
    "# ))\n",
    "# group_lk = g.set_index('name')['group'].to_dict()"
   ]
  },
  {
   "cell_type": "code",
   "execution_count": null,
   "id": "gross-drinking",
   "metadata": {
    "papermill": {
     "duration": 0.034824,
     "end_time": "2021-04-23T12:04:25.771209",
     "exception": false,
     "start_time": "2021-04-23T12:04:25.736385",
     "status": "completed"
    },
    "tags": []
   },
   "outputs": [],
   "source": []
  },
  {
   "cell_type": "code",
   "execution_count": 41,
   "id": "subject-macintosh",
   "metadata": {
    "execution": {
     "iopub.execute_input": "2021-04-23T12:04:25.841536Z",
     "iopub.status.busy": "2021-04-23T12:04:25.840990Z",
     "iopub.status.idle": "2021-04-23T12:04:25.843326Z",
     "shell.execute_reply": "2021-04-23T12:04:25.842920Z"
    },
    "papermill": {
     "duration": 0.037864,
     "end_time": "2021-04-23T12:04:25.843430",
     "exception": false,
     "start_time": "2021-04-23T12:04:25.805566",
     "status": "completed"
    },
    "tags": []
   },
   "outputs": [],
   "source": [
    "# #hide\n",
    "# fig, ax = plt.subplots(figsize=(15, 8))\n",
    "\n",
    "# def draw_barchart(current_day):\n",
    "#     dff = g[g['day'].eq(current_day)].sort_values(by='value', ascending=True).tail(10)\n",
    "#     ax.clear()\n",
    "#     ax.barh(dff['name'], dff['value'], color=[colors[group_lk[x]] for x in dff['name']])\n",
    "#     dx = dff['value'].max() / 200\n",
    "    \n",
    "#     for i, (value, name) in enumerate(zip(dff['value'], dff['name'])):\n",
    "#         ax.text(value-dx, i,     name,           size=14, weight=600, ha='right', va='bottom')\n",
    "#         ax.text(value-dx, i-.25, group_lk[name], size=10, color='#444444', ha='right', va='baseline')\n",
    "#         ax.text(value+dx, i,     f'{value:,.0f}',  size=14, ha='left',  va='center')\n",
    "#     ax.text(1, 0.4, current_day, transform=ax.transAxes, color='#777777', size=46, ha='right', weight=800)\n",
    "#     ax.text(0, 1.06, 'Population (thousands)', transform=ax.transAxes, size=12, color='#777777')\n",
    "#     ax.xaxis.set_major_formatter(ticker.StrMethodFormatter('{x:,.0f}'))\n",
    "#     ax.xaxis.set_ticks_position('top')\n",
    "#     ax.tick_params(axis='x', colors='#777777', labelsize=12)\n",
    "#     ax.set_yticks([])\n",
    "#     ax.margins(0, 0.01)\n",
    "#     ax.grid(which='major', axis='x', linestyle='-')\n",
    "#     ax.set_axisbelow(True)\n",
    "    \n",
    "#     ax.text(0, 1.15, 'Coronavirus',\n",
    "#             transform=ax.transAxes, size=24, weight=600, ha='left', va='top')\n",
    "# #     ax.text(1, 0, 'by @pratapvardhan; credit @jburnmurdoch', transform=ax.transAxes, color='#777777', ha='right',\n",
    "# #             bbox=dict(facecolor='white', alpha=0.8, edgecolor='white'))\n",
    "#     plt.box(False)"
   ]
  },
  {
   "cell_type": "code",
   "execution_count": 42,
   "id": "sexual-wages",
   "metadata": {
    "execution": {
     "iopub.execute_input": "2021-04-23T12:04:25.907254Z",
     "iopub.status.busy": "2021-04-23T12:04:25.906712Z",
     "iopub.status.idle": "2021-04-23T12:04:25.909947Z",
     "shell.execute_reply": "2021-04-23T12:04:25.909393Z"
    },
    "papermill": {
     "duration": 0.036605,
     "end_time": "2021-04-23T12:04:25.910058",
     "exception": false,
     "start_time": "2021-04-23T12:04:25.873453",
     "status": "completed"
    },
    "tags": []
   },
   "outputs": [],
   "source": [
    "# #hide_input\n",
    "# fig, ax = plt.subplots(figsize=(15, 8))\n",
    "# animator = animation.FuncAnimation(fig, draw_barchart, frames=range(g.day.values.min(), g.day.values.max()))\n",
    "# HTML(animator.to_jshtml())\n",
    "# # or use animator.to_html5_video() or animator.save() "
   ]
  },
  {
   "cell_type": "code",
   "execution_count": null,
   "id": "australian-container",
   "metadata": {
    "papermill": {
     "duration": 0.033135,
     "end_time": "2021-04-23T12:04:25.975560",
     "exception": false,
     "start_time": "2021-04-23T12:04:25.942425",
     "status": "completed"
    },
    "tags": []
   },
   "outputs": [],
   "source": []
  },
  {
   "cell_type": "code",
   "execution_count": null,
   "id": "mediterranean-pontiac",
   "metadata": {
    "papermill": {
     "duration": 0.034036,
     "end_time": "2021-04-23T12:04:26.041558",
     "exception": false,
     "start_time": "2021-04-23T12:04:26.007522",
     "status": "completed"
    },
    "tags": []
   },
   "outputs": [],
   "source": []
  },
  {
   "cell_type": "code",
   "execution_count": null,
   "id": "aging-legislature",
   "metadata": {
    "papermill": {
     "duration": 0.03362,
     "end_time": "2021-04-23T12:04:26.116568",
     "exception": false,
     "start_time": "2021-04-23T12:04:26.082948",
     "status": "completed"
    },
    "tags": []
   },
   "outputs": [],
   "source": []
  }
 ],
 "metadata": {
  "kernelspec": {
   "display_name": "Python 3",
   "language": "python",
   "name": "python3"
  },
  "language_info": {
   "codemirror_mode": {
    "name": "ipython",
    "version": 3
   },
   "file_extension": ".py",
   "mimetype": "text/x-python",
   "name": "python",
   "nbconvert_exporter": "python",
   "pygments_lexer": "ipython3",
   "version": "3.6.13"
  },
  "papermill": {
   "duration": 6.122567,
   "end_time": "2021-04-23T12:04:26.458558",
   "environment_variables": {},
   "exception": null,
   "input_path": "2020-03-21-covid19exp.ipynb",
   "output_path": "2020-03-21-covid19exp.ipynb",
   "parameters": {},
   "start_time": "2021-04-23T12:04:20.335991",
   "version": "2.0.0"
  }
 },
 "nbformat": 4,
 "nbformat_minor": 5
}