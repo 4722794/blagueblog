{
 "cells": [
  {
   "cell_type": "markdown",
   "id": "muslim-click",
   "metadata": {
    "papermill": {
     "duration": 0.034292,
     "end_time": "2021-09-29T12:11:14.123079",
     "exception": false,
     "start_time": "2021-09-29T12:11:14.088787",
     "status": "completed"
    },
    "tags": []
   },
   "source": [
    "# COVID-19 Case Race\n",
    "> A race chart to see rising cases around the world\n",
    "\n",
    "- author: Hargun Oberoi\n",
    "- image: images/covid-overview.png\n",
    "- hide: false\n",
    "- badges: false"
   ]
  },
  {
   "cell_type": "code",
   "execution_count": 1,
   "id": "proof-material",
   "metadata": {
    "execution": {
     "iopub.execute_input": "2021-09-29T12:11:14.193086Z",
     "iopub.status.busy": "2021-09-29T12:11:14.192490Z",
     "iopub.status.idle": "2021-09-29T12:11:14.530909Z",
     "shell.execute_reply": "2021-09-29T12:11:14.530357Z"
    },
    "papermill": {
     "duration": 0.37796,
     "end_time": "2021-09-29T12:11:14.531074",
     "exception": false,
     "start_time": "2021-09-29T12:11:14.153114",
     "status": "completed"
    },
    "tags": []
   },
   "outputs": [],
   "source": [
    "#hide\n",
    "import numpy as np\n",
    "import pandas as pd\n",
    "from jinja2 import Template\n",
    "from IPython.display import HTML"
   ]
  },
  {
   "cell_type": "code",
   "execution_count": 2,
   "id": "developed-terminology",
   "metadata": {
    "execution": {
     "iopub.execute_input": "2021-09-29T12:11:14.598003Z",
     "iopub.status.busy": "2021-09-29T12:11:14.597359Z",
     "iopub.status.idle": "2021-09-29T12:11:14.598647Z",
     "shell.execute_reply": "2021-09-29T12:11:14.599142Z"
    },
    "papermill": {
     "duration": 0.037702,
     "end_time": "2021-09-29T12:11:14.599277",
     "exception": false,
     "start_time": "2021-09-29T12:11:14.561575",
     "status": "completed"
    },
    "tags": []
   },
   "outputs": [],
   "source": [
    "#hide\n",
    "\n",
    "# FETCH\n",
    "base_url = 'https://raw.githubusercontent.com/pratapvardhan/notebooks/master/covid19/'\n",
    "paths = {\n",
    "    'mapping': base_url + 'mapping_countries.csv',\n",
    "    'overview': base_url + 'overview.tpl'\n",
    "}"
   ]
  },
  {
   "cell_type": "code",
   "execution_count": 3,
   "id": "dynamic-saver",
   "metadata": {
    "execution": {
     "iopub.execute_input": "2021-09-29T12:11:14.667957Z",
     "iopub.status.busy": "2021-09-29T12:11:14.667410Z",
     "iopub.status.idle": "2021-09-29T12:11:14.669628Z",
     "shell.execute_reply": "2021-09-29T12:11:14.670072Z"
    },
    "papermill": {
     "duration": 0.041557,
     "end_time": "2021-09-29T12:11:14.670206",
     "exception": false,
     "start_time": "2021-09-29T12:11:14.628649",
     "status": "completed"
    },
    "tags": []
   },
   "outputs": [
    {
     "data": {
      "text/plain": [
       "'https://raw.githubusercontent.com/pratapvardhan/notebooks/master/covid19/mapping_countries.csv'"
      ]
     },
     "execution_count": 3,
     "metadata": {},
     "output_type": "execute_result"
    }
   ],
   "source": [
    "#hide\n",
    "paths['mapping']"
   ]
  },
  {
   "cell_type": "code",
   "execution_count": 4,
   "id": "urban-software",
   "metadata": {
    "execution": {
     "iopub.execute_input": "2021-09-29T12:11:14.735140Z",
     "iopub.status.busy": "2021-09-29T12:11:14.734608Z",
     "iopub.status.idle": "2021-09-29T12:11:14.737288Z",
     "shell.execute_reply": "2021-09-29T12:11:14.736808Z"
    },
    "papermill": {
     "duration": 0.037378,
     "end_time": "2021-09-29T12:11:14.737413",
     "exception": false,
     "start_time": "2021-09-29T12:11:14.700035",
     "status": "completed"
    },
    "tags": []
   },
   "outputs": [],
   "source": [
    "#hide\n",
    "def get_mappings(url):\n",
    "    df = pd.read_csv(url)\n",
    "    return {\n",
    "        'df': df,\n",
    "        'replace.country': dict(df.dropna(subset=['Name']).set_index('Country')['Name']),\n",
    "        'map.continent': dict(df.set_index('Name')['Continent'])\n",
    "    }"
   ]
  },
  {
   "cell_type": "code",
   "execution_count": 5,
   "id": "intimate-machinery",
   "metadata": {
    "execution": {
     "iopub.execute_input": "2021-09-29T12:11:14.802452Z",
     "iopub.status.busy": "2021-09-29T12:11:14.801932Z",
     "iopub.status.idle": "2021-09-29T12:11:14.828098Z",
     "shell.execute_reply": "2021-09-29T12:11:14.827577Z"
    },
    "papermill": {
     "duration": 0.061114,
     "end_time": "2021-09-29T12:11:14.828239",
     "exception": false,
     "start_time": "2021-09-29T12:11:14.767125",
     "status": "completed"
    },
    "tags": []
   },
   "outputs": [],
   "source": [
    "#hide\n",
    "mapping = get_mappings(paths['mapping'])"
   ]
  },
  {
   "cell_type": "code",
   "execution_count": 6,
   "id": "certified-tactics",
   "metadata": {
    "execution": {
     "iopub.execute_input": "2021-09-29T12:11:14.894477Z",
     "iopub.status.busy": "2021-09-29T12:11:14.893927Z",
     "iopub.status.idle": "2021-09-29T12:11:14.895995Z",
     "shell.execute_reply": "2021-09-29T12:11:14.895574Z"
    },
    "papermill": {
     "duration": 0.037201,
     "end_time": "2021-09-29T12:11:14.896119",
     "exception": false,
     "start_time": "2021-09-29T12:11:14.858918",
     "status": "completed"
    },
    "tags": []
   },
   "outputs": [],
   "source": [
    "#hide\n",
    "def get_template(path):\n",
    "    from urllib.parse import urlparse\n",
    "    if bool(urlparse(path).netloc):\n",
    "        from urllib.request import urlopen\n",
    "        return urlopen(path).read().decode('utf8')\n",
    "    return open(path).read()"
   ]
  },
  {
   "cell_type": "code",
   "execution_count": 7,
   "id": "realistic-blast",
   "metadata": {
    "execution": {
     "iopub.execute_input": "2021-09-29T12:11:14.960901Z",
     "iopub.status.busy": "2021-09-29T12:11:14.960363Z",
     "iopub.status.idle": "2021-09-29T12:11:14.962943Z",
     "shell.execute_reply": "2021-09-29T12:11:14.962524Z"
    },
    "papermill": {
     "duration": 0.037103,
     "end_time": "2021-09-29T12:11:14.963062",
     "exception": false,
     "start_time": "2021-09-29T12:11:14.925959",
     "status": "completed"
    },
    "tags": []
   },
   "outputs": [],
   "source": [
    "#hide\n",
    "def get_frame(name):\n",
    "    url = (\n",
    "        'https://raw.githubusercontent.com/CSSEGISandData/COVID-19/master/csse_covid_19_data/'\n",
    "        f'csse_covid_19_time_series/time_series_covid19_{name}_global.csv')\n",
    "    df = pd.read_csv(url)\n",
    "    # rename countries\n",
    "    df['Country/Region'] = df['Country/Region'].replace(mapping['replace.country'])\n",
    "    return df"
   ]
  },
  {
   "cell_type": "code",
   "execution_count": 8,
   "id": "affiliated-characterization",
   "metadata": {
    "execution": {
     "iopub.execute_input": "2021-09-29T12:11:15.028901Z",
     "iopub.status.busy": "2021-09-29T12:11:15.028357Z",
     "iopub.status.idle": "2021-09-29T12:11:15.030444Z",
     "shell.execute_reply": "2021-09-29T12:11:15.030833Z"
    },
    "papermill": {
     "duration": 0.037934,
     "end_time": "2021-09-29T12:11:15.030970",
     "exception": false,
     "start_time": "2021-09-29T12:11:14.993036",
     "status": "completed"
    },
    "tags": []
   },
   "outputs": [],
   "source": [
    "#hide\n",
    "def get_dates(df):\n",
    "    dt_cols = df.columns[~df.columns.isin(['Province/State', 'Country/Region', 'Lat', 'Long'])]\n",
    "    LAST_DATE_I = -1\n",
    "    # sometimes last column may be empty, then go backwards\n",
    "    for i in range(-1, -len(dt_cols), -1):\n",
    "        if not df[dt_cols[i]].fillna(0).eq(0).all():\n",
    "            LAST_DATE_I = i\n",
    "            break\n",
    "    return LAST_DATE_I, dt_cols"
   ]
  },
  {
   "cell_type": "code",
   "execution_count": 9,
   "id": "recent-optimization",
   "metadata": {
    "execution": {
     "iopub.execute_input": "2021-09-29T12:11:15.095819Z",
     "iopub.status.busy": "2021-09-29T12:11:15.095175Z",
     "iopub.status.idle": "2021-09-29T12:11:15.367822Z",
     "shell.execute_reply": "2021-09-29T12:11:15.367356Z"
    },
    "papermill": {
     "duration": 0.307175,
     "end_time": "2021-09-29T12:11:15.367949",
     "exception": false,
     "start_time": "2021-09-29T12:11:15.060774",
     "status": "completed"
    },
    "tags": []
   },
   "outputs": [],
   "source": [
    "#hide\n",
    "COL_REGION = 'Country/Region'\n",
    "# Confirmed, Recovered, Deaths\n",
    "df = get_frame('confirmed')\n",
    "# dft_: timeseries, dfc_: today country agg\n",
    "dft_cases = df\n",
    "dft_deaths = get_frame('deaths')\n",
    "dft_recovered = get_frame('recovered')\n",
    "LAST_DATE_I, dt_cols = get_dates(df)"
   ]
  },
  {
   "cell_type": "code",
   "execution_count": 10,
   "id": "absolute-copper",
   "metadata": {
    "execution": {
     "iopub.execute_input": "2021-09-29T12:11:15.433249Z",
     "iopub.status.busy": "2021-09-29T12:11:15.432664Z",
     "iopub.status.idle": "2021-09-29T12:11:15.435973Z",
     "shell.execute_reply": "2021-09-29T12:11:15.435551Z"
    },
    "papermill": {
     "duration": 0.038042,
     "end_time": "2021-09-29T12:11:15.436092",
     "exception": false,
     "start_time": "2021-09-29T12:11:15.398050",
     "status": "completed"
    },
    "tags": []
   },
   "outputs": [],
   "source": [
    "#hide\n",
    "LAST_DATE_I, dt_cols = get_dates(df)\n",
    "dt_today =dt_cols[LAST_DATE_I]\n",
    "# dt_5day = dt_cols[LAST_DATE_I - 5]\n",
    "dt_yday = dt_cols[LAST_DATE_I - 1]"
   ]
  },
  {
   "cell_type": "code",
   "execution_count": 11,
   "id": "restricted-sheriff",
   "metadata": {
    "execution": {
     "iopub.execute_input": "2021-09-29T12:11:15.501337Z",
     "iopub.status.busy": "2021-09-29T12:11:15.500765Z",
     "iopub.status.idle": "2021-09-29T12:11:15.508572Z",
     "shell.execute_reply": "2021-09-29T12:11:15.509050Z"
    },
    "papermill": {
     "duration": 0.043444,
     "end_time": "2021-09-29T12:11:15.509194",
     "exception": false,
     "start_time": "2021-09-29T12:11:15.465750",
     "status": "completed"
    },
    "tags": []
   },
   "outputs": [],
   "source": [
    "#hide\n",
    "dfc_cases = dft_cases.groupby(COL_REGION)[dt_today].sum()\n",
    "dfc_deaths = dft_deaths.groupby(COL_REGION)[dt_today].sum()\n",
    "# dfp_cases = dft_cases.groupby(COL_REGION)[dt_5day].sum()\n",
    "# dfp_deaths = dft_deaths.groupby(COL_REGION)[dt_5day].sum()\n",
    "dfp_cases = dft_cases.groupby(COL_REGION)[dt_yday].sum()\n",
    "dfp_deaths = dft_deaths.groupby(COL_REGION)[dt_yday].sum()"
   ]
  },
  {
   "cell_type": "code",
   "execution_count": 12,
   "id": "deluxe-hepatitis",
   "metadata": {
    "execution": {
     "iopub.execute_input": "2021-09-29T12:11:15.575269Z",
     "iopub.status.busy": "2021-09-29T12:11:15.574732Z",
     "iopub.status.idle": "2021-09-29T12:11:15.579632Z",
     "shell.execute_reply": "2021-09-29T12:11:15.579208Z"
    },
    "papermill": {
     "duration": 0.040675,
     "end_time": "2021-09-29T12:11:15.579754",
     "exception": false,
     "start_time": "2021-09-29T12:11:15.539079",
     "status": "completed"
    },
    "tags": []
   },
   "outputs": [],
   "source": [
    "#hide\n",
    "df_table = (pd.DataFrame(dict(Cases = dfc_cases, Deaths = dfc_deaths, PCases = dfp_cases, PDeaths = dfp_deaths))\n",
    "            .sort_values(by = ['Cases','Deaths'], ascending = [False, False])\n",
    "            .reset_index())"
   ]
  },
  {
   "cell_type": "code",
   "execution_count": 13,
   "id": "educational-chancellor",
   "metadata": {
    "execution": {
     "iopub.execute_input": "2021-09-29T12:11:15.657377Z",
     "iopub.status.busy": "2021-09-29T12:11:15.656740Z",
     "iopub.status.idle": "2021-09-29T12:11:15.665243Z",
     "shell.execute_reply": "2021-09-29T12:11:15.664764Z"
    },
    "papermill": {
     "duration": 0.055928,
     "end_time": "2021-09-29T12:11:15.665365",
     "exception": false,
     "start_time": "2021-09-29T12:11:15.609437",
     "status": "completed"
    },
    "tags": []
   },
   "outputs": [
    {
     "data": {
      "text/html": [
       "<div>\n",
       "<style scoped>\n",
       "    .dataframe tbody tr th:only-of-type {\n",
       "        vertical-align: middle;\n",
       "    }\n",
       "\n",
       "    .dataframe tbody tr th {\n",
       "        vertical-align: top;\n",
       "    }\n",
       "\n",
       "    .dataframe thead th {\n",
       "        text-align: right;\n",
       "    }\n",
       "</style>\n",
       "<table border=\"1\" class=\"dataframe\">\n",
       "  <thead>\n",
       "    <tr style=\"text-align: right;\">\n",
       "      <th></th>\n",
       "      <th>Country/Region</th>\n",
       "      <th>Cases</th>\n",
       "      <th>Deaths</th>\n",
       "      <th>PCases</th>\n",
       "      <th>PDeaths</th>\n",
       "      <th>Cases (+)</th>\n",
       "      <th>Deaths (+)</th>\n",
       "      <th>Fatality Rate</th>\n",
       "      <th>Continent</th>\n",
       "    </tr>\n",
       "  </thead>\n",
       "  <tbody>\n",
       "    <tr>\n",
       "      <th>0</th>\n",
       "      <td>US</td>\n",
       "      <td>43227604</td>\n",
       "      <td>692969</td>\n",
       "      <td>43116442</td>\n",
       "      <td>690426</td>\n",
       "      <td>111162</td>\n",
       "      <td>2543</td>\n",
       "      <td>1.60</td>\n",
       "      <td>North America</td>\n",
       "    </tr>\n",
       "    <tr>\n",
       "      <th>1</th>\n",
       "      <td>India</td>\n",
       "      <td>33716451</td>\n",
       "      <td>447751</td>\n",
       "      <td>33697581</td>\n",
       "      <td>447373</td>\n",
       "      <td>18870</td>\n",
       "      <td>378</td>\n",
       "      <td>1.33</td>\n",
       "      <td>Asia</td>\n",
       "    </tr>\n",
       "    <tr>\n",
       "      <th>2</th>\n",
       "      <td>Brazil</td>\n",
       "      <td>21381790</td>\n",
       "      <td>595446</td>\n",
       "      <td>21366395</td>\n",
       "      <td>594653</td>\n",
       "      <td>15395</td>\n",
       "      <td>793</td>\n",
       "      <td>2.78</td>\n",
       "      <td>South America</td>\n",
       "    </tr>\n",
       "    <tr>\n",
       "      <th>3</th>\n",
       "      <td>United Kingdom</td>\n",
       "      <td>7772788</td>\n",
       "      <td>136746</td>\n",
       "      <td>7737941</td>\n",
       "      <td>136569</td>\n",
       "      <td>34847</td>\n",
       "      <td>177</td>\n",
       "      <td>1.76</td>\n",
       "      <td>Europe</td>\n",
       "    </tr>\n",
       "    <tr>\n",
       "      <th>4</th>\n",
       "      <td>Russia</td>\n",
       "      <td>7355883</td>\n",
       "      <td>201854</td>\n",
       "      <td>7334843</td>\n",
       "      <td>201015</td>\n",
       "      <td>21040</td>\n",
       "      <td>839</td>\n",
       "      <td>2.74</td>\n",
       "      <td>Europe</td>\n",
       "    </tr>\n",
       "  </tbody>\n",
       "</table>\n",
       "</div>"
      ],
      "text/plain": [
       "   Country/Region     Cases  Deaths    PCases  PDeaths  Cases (+)  Deaths (+)  \\\n",
       "0              US  43227604  692969  43116442   690426     111162        2543   \n",
       "1           India  33716451  447751  33697581   447373      18870         378   \n",
       "2          Brazil  21381790  595446  21366395   594653      15395         793   \n",
       "3  United Kingdom   7772788  136746   7737941   136569      34847         177   \n",
       "4          Russia   7355883  201854   7334843   201015      21040         839   \n",
       "\n",
       "   Fatality Rate      Continent  \n",
       "0           1.60  North America  \n",
       "1           1.33           Asia  \n",
       "2           2.78  South America  \n",
       "3           1.76         Europe  \n",
       "4           2.74         Europe  "
      ]
     },
     "execution_count": 13,
     "metadata": {},
     "output_type": "execute_result"
    }
   ],
   "source": [
    "#hide\n",
    "for c in 'Cases, Deaths'.split(', '):\n",
    "    df_table[f'{c} (+)'] = (df_table[c] - df_table[f'P{c}']).clip(0)\n",
    "    #Clip ça veut dire, les chiffres negatif sont interdit\n",
    "df_table['Fatality Rate'] = (100* df_table['Deaths']/ df_table['Cases']).round(2)\n",
    "df_table['Continent'] = df_table['Country/Region'].map(mapping['map.continent'])\n",
    "df_table.head(5)"
   ]
  },
  {
   "cell_type": "code",
   "execution_count": 14,
   "id": "aboriginal-bulgaria",
   "metadata": {
    "execution": {
     "iopub.execute_input": "2021-09-29T12:11:15.731982Z",
     "iopub.status.busy": "2021-09-29T12:11:15.731436Z",
     "iopub.status.idle": "2021-09-29T12:11:15.733114Z",
     "shell.execute_reply": "2021-09-29T12:11:15.733513Z"
    },
    "papermill": {
     "duration": 0.037947,
     "end_time": "2021-09-29T12:11:15.733653",
     "exception": false,
     "start_time": "2021-09-29T12:11:15.695706",
     "status": "completed"
    },
    "tags": []
   },
   "outputs": [],
   "source": [
    "#hide\n",
    "#delete problematic countries from table\n",
    "df_table = df_table[~df_table['Country/Region'].isin(['Cape Verde', 'Cruise Ship', 'Kosovo'])]"
   ]
  },
  {
   "cell_type": "code",
   "execution_count": 15,
   "id": "fantastic-effect",
   "metadata": {
    "execution": {
     "iopub.execute_input": "2021-09-29T12:11:15.803190Z",
     "iopub.status.busy": "2021-09-29T12:11:15.802638Z",
     "iopub.status.idle": "2021-09-29T12:11:15.819429Z",
     "shell.execute_reply": "2021-09-29T12:11:15.819823Z"
    },
    "papermill": {
     "duration": 0.056226,
     "end_time": "2021-09-29T12:11:15.819963",
     "exception": false,
     "start_time": "2021-09-29T12:11:15.763737",
     "status": "completed"
    },
    "tags": []
   },
   "outputs": [
    {
     "data": {
      "text/html": [
       "<div>\n",
       "<style scoped>\n",
       "    .dataframe tbody tr th:only-of-type {\n",
       "        vertical-align: middle;\n",
       "    }\n",
       "\n",
       "    .dataframe tbody tr th {\n",
       "        vertical-align: top;\n",
       "    }\n",
       "\n",
       "    .dataframe thead th {\n",
       "        text-align: right;\n",
       "    }\n",
       "</style>\n",
       "<table border=\"1\" class=\"dataframe\">\n",
       "  <thead>\n",
       "    <tr style=\"text-align: right;\">\n",
       "      <th></th>\n",
       "      <th>Country/Region</th>\n",
       "      <th>Cases</th>\n",
       "      <th>Deaths</th>\n",
       "      <th>PCases</th>\n",
       "      <th>PDeaths</th>\n",
       "      <th>Cases (+)</th>\n",
       "      <th>Deaths (+)</th>\n",
       "      <th>Fatality Rate</th>\n",
       "      <th>Continent</th>\n",
       "    </tr>\n",
       "  </thead>\n",
       "  <tbody>\n",
       "    <tr>\n",
       "      <th>0</th>\n",
       "      <td>US</td>\n",
       "      <td>43227604</td>\n",
       "      <td>692969</td>\n",
       "      <td>43116442</td>\n",
       "      <td>690426</td>\n",
       "      <td>111162</td>\n",
       "      <td>2543</td>\n",
       "      <td>1.6</td>\n",
       "      <td>North America</td>\n",
       "    </tr>\n",
       "    <tr>\n",
       "      <th>1</th>\n",
       "      <td>India</td>\n",
       "      <td>33716451</td>\n",
       "      <td>447751</td>\n",
       "      <td>33697581</td>\n",
       "      <td>447373</td>\n",
       "      <td>18870</td>\n",
       "      <td>378</td>\n",
       "      <td>1.3</td>\n",
       "      <td>Asia</td>\n",
       "    </tr>\n",
       "    <tr>\n",
       "      <th>2</th>\n",
       "      <td>Brazil</td>\n",
       "      <td>21381790</td>\n",
       "      <td>595446</td>\n",
       "      <td>21366395</td>\n",
       "      <td>594653</td>\n",
       "      <td>15395</td>\n",
       "      <td>793</td>\n",
       "      <td>2.8</td>\n",
       "      <td>South America</td>\n",
       "    </tr>\n",
       "    <tr>\n",
       "      <th>3</th>\n",
       "      <td>United Kingdom</td>\n",
       "      <td>7772788</td>\n",
       "      <td>136746</td>\n",
       "      <td>7737941</td>\n",
       "      <td>136569</td>\n",
       "      <td>34847</td>\n",
       "      <td>177</td>\n",
       "      <td>1.8</td>\n",
       "      <td>Europe</td>\n",
       "    </tr>\n",
       "    <tr>\n",
       "      <th>4</th>\n",
       "      <td>Russia</td>\n",
       "      <td>7355883</td>\n",
       "      <td>201854</td>\n",
       "      <td>7334843</td>\n",
       "      <td>201015</td>\n",
       "      <td>21040</td>\n",
       "      <td>839</td>\n",
       "      <td>2.7</td>\n",
       "      <td>Europe</td>\n",
       "    </tr>\n",
       "  </tbody>\n",
       "</table>\n",
       "</div>"
      ],
      "text/plain": [
       "   Country/Region     Cases  Deaths    PCases  PDeaths  Cases (+)  Deaths (+)  \\\n",
       "0              US  43227604  692969  43116442   690426     111162        2543   \n",
       "1           India  33716451  447751  33697581   447373      18870         378   \n",
       "2          Brazil  21381790  595446  21366395   594653      15395         793   \n",
       "3  United Kingdom   7772788  136746   7737941   136569      34847         177   \n",
       "4          Russia   7355883  201854   7334843   201015      21040         839   \n",
       "\n",
       "   Fatality Rate      Continent  \n",
       "0            1.6  North America  \n",
       "1            1.3           Asia  \n",
       "2            2.8  South America  \n",
       "3            1.8         Europe  \n",
       "4            2.7         Europe  "
      ]
     },
     "execution_count": 15,
     "metadata": {},
     "output_type": "execute_result"
    }
   ],
   "source": [
    "#hide\n",
    "df_table = (pd.DataFrame(dict(Cases=dfc_cases, Deaths=dfc_deaths, PCases=dfp_cases, PDeaths=dfp_deaths))\n",
    "             .sort_values(by=['Cases', 'Deaths'], ascending=[False, False])\n",
    "             .reset_index())\n",
    "df_table.rename(columns={'index': 'Country/Region'}, inplace=True)\n",
    "for c in 'Cases, Deaths'.split(', '):\n",
    "    df_table[f'{c} (+)'] = (df_table[c] - df_table[f'P{c}']).clip(0)  # DATA BUG\n",
    "df_table['Fatality Rate'] = (100 * df_table['Deaths'] / df_table['Cases']).round(1)\n",
    "df_table['Continent'] = df_table['Country/Region'].map(mapping['map.continent'])\n",
    "df_table.head(5)"
   ]
  },
  {
   "cell_type": "code",
   "execution_count": 16,
   "id": "fewer-occasion",
   "metadata": {
    "execution": {
     "iopub.execute_input": "2021-09-29T12:11:15.887232Z",
     "iopub.status.busy": "2021-09-29T12:11:15.886071Z",
     "iopub.status.idle": "2021-09-29T12:11:15.891016Z",
     "shell.execute_reply": "2021-09-29T12:11:15.890599Z"
    },
    "papermill": {
     "duration": 0.040438,
     "end_time": "2021-09-29T12:11:15.891135",
     "exception": false,
     "start_time": "2021-09-29T12:11:15.850697",
     "status": "completed"
    },
    "tags": []
   },
   "outputs": [],
   "source": [
    "#hide\n",
    "#delete problematic countries from table\n",
    "df_table = df_table[~df_table['Country/Region'].isin(['Cape Verde', 'Cruise Ship', 'Kosovo'])]"
   ]
  },
  {
   "cell_type": "code",
   "execution_count": 17,
   "id": "related-center",
   "metadata": {
    "execution": {
     "iopub.execute_input": "2021-09-29T12:11:15.972293Z",
     "iopub.status.busy": "2021-09-29T12:11:15.971741Z",
     "iopub.status.idle": "2021-09-29T12:11:15.973484Z",
     "shell.execute_reply": "2021-09-29T12:11:15.973880Z"
    },
    "papermill": {
     "duration": 0.052085,
     "end_time": "2021-09-29T12:11:15.974021",
     "exception": false,
     "start_time": "2021-09-29T12:11:15.921936",
     "status": "completed"
    },
    "tags": []
   },
   "outputs": [],
   "source": [
    "#hide\n",
    "metrics = [df_table.columns[index] for index in [1,2,5,6]]\n",
    "# s_china = df_table[df_table['Country/Region'].eq('China')][metrics].sum().add_prefix('China ')\n",
    "s_us = df_table[df_table['Country/Region'].eq('US')][metrics].sum().add_prefix('US ')\n",
    "s_eu = df_table[df_table['Continent'].eq('Europe')][metrics].sum().add_prefix('EU ')\n",
    "s_ind = df_table[df_table['Country/Region'].eq('India')][metrics].sum().add_prefix('India ')\n",
    "summary = {'updated': pd.to_datetime(dt_today), 'since': pd.to_datetime(dt_yday)}\n",
    "summary = {'updated': pd.to_datetime(dt_today), 'since': pd.to_datetime(dt_yday)}\n",
    "summary = {**summary, **df_table[metrics].sum(), **s_ind, **s_us, **s_eu}"
   ]
  },
  {
   "cell_type": "code",
   "execution_count": 18,
   "id": "engaging-syndrome",
   "metadata": {
    "execution": {
     "iopub.execute_input": "2021-09-29T12:11:16.040754Z",
     "iopub.status.busy": "2021-09-29T12:11:16.040227Z",
     "iopub.status.idle": "2021-09-29T12:11:16.055352Z",
     "shell.execute_reply": "2021-09-29T12:11:16.054915Z"
    },
    "papermill": {
     "duration": 0.050733,
     "end_time": "2021-09-29T12:11:16.055475",
     "exception": false,
     "start_time": "2021-09-29T12:11:16.004742",
     "status": "completed"
    },
    "tags": []
   },
   "outputs": [],
   "source": [
    "#hide\n",
    "dft_ct_new_cases = dft_cases.groupby(COL_REGION)[dt_cols].sum().diff(axis=1).fillna(0).astype(int)"
   ]
  },
  {
   "cell_type": "code",
   "execution_count": 19,
   "id": "neutral-assignment",
   "metadata": {
    "execution": {
     "iopub.execute_input": "2021-09-29T12:11:16.123424Z",
     "iopub.status.busy": "2021-09-29T12:11:16.122877Z",
     "iopub.status.idle": "2021-09-29T12:11:16.124754Z",
     "shell.execute_reply": "2021-09-29T12:11:16.125168Z"
    },
    "papermill": {
     "duration": 0.038974,
     "end_time": "2021-09-29T12:11:16.125313",
     "exception": false,
     "start_time": "2021-09-29T12:11:16.086339",
     "status": "completed"
    },
    "tags": []
   },
   "outputs": [],
   "source": [
    "#hide\n",
    "everydaycases = dft_ct_new_cases.cumsum(axis=1)"
   ]
  },
  {
   "cell_type": "code",
   "execution_count": 20,
   "id": "parliamentary-calgary",
   "metadata": {
    "execution": {
     "iopub.execute_input": "2021-09-29T12:11:16.191466Z",
     "iopub.status.busy": "2021-09-29T12:11:16.190943Z",
     "iopub.status.idle": "2021-09-29T12:11:16.722034Z",
     "shell.execute_reply": "2021-09-29T12:11:16.721502Z"
    },
    "papermill": {
     "duration": 0.566051,
     "end_time": "2021-09-29T12:11:16.722171",
     "exception": false,
     "start_time": "2021-09-29T12:11:16.156120",
     "status": "completed"
    },
    "tags": []
   },
   "outputs": [],
   "source": [
    "#hide\n",
    "import pandas as pd\n",
    "import matplotlib.pyplot as plt\n",
    "import matplotlib.ticker as ticker\n",
    "import matplotlib.animation as animation\n",
    "from IPython.display import HTML"
   ]
  },
  {
   "cell_type": "code",
   "execution_count": 21,
   "id": "lasting-extraction",
   "metadata": {
    "execution": {
     "iopub.execute_input": "2021-09-29T12:11:16.789557Z",
     "iopub.status.busy": "2021-09-29T12:11:16.788984Z",
     "iopub.status.idle": "2021-09-29T12:11:16.794718Z",
     "shell.execute_reply": "2021-09-29T12:11:16.794280Z"
    },
    "papermill": {
     "duration": 0.041666,
     "end_time": "2021-09-29T12:11:16.794832",
     "exception": false,
     "start_time": "2021-09-29T12:11:16.753166",
     "status": "completed"
    },
    "tags": []
   },
   "outputs": [],
   "source": [
    "#hide\n",
    "t = everydaycases.stack()"
   ]
  },
  {
   "cell_type": "code",
   "execution_count": 22,
   "id": "premier-sleeve",
   "metadata": {
    "execution": {
     "iopub.execute_input": "2021-09-29T12:11:16.861392Z",
     "iopub.status.busy": "2021-09-29T12:11:16.860820Z",
     "iopub.status.idle": "2021-09-29T12:11:16.870403Z",
     "shell.execute_reply": "2021-09-29T12:11:16.869970Z"
    },
    "papermill": {
     "duration": 0.044863,
     "end_time": "2021-09-29T12:11:16.870525",
     "exception": false,
     "start_time": "2021-09-29T12:11:16.825662",
     "status": "completed"
    },
    "tags": []
   },
   "outputs": [],
   "source": [
    "#hide\n",
    "g = t.reset_index(['Country/Region'])"
   ]
  },
  {
   "cell_type": "code",
   "execution_count": 23,
   "id": "distributed-pittsburgh",
   "metadata": {
    "execution": {
     "iopub.execute_input": "2021-09-29T12:11:16.936045Z",
     "iopub.status.busy": "2021-09-29T12:11:16.935523Z",
     "iopub.status.idle": "2021-09-29T12:11:16.937612Z",
     "shell.execute_reply": "2021-09-29T12:11:16.938090Z"
    },
    "papermill": {
     "duration": 0.036983,
     "end_time": "2021-09-29T12:11:16.938221",
     "exception": false,
     "start_time": "2021-09-29T12:11:16.901238",
     "status": "completed"
    },
    "tags": []
   },
   "outputs": [],
   "source": [
    "#hide\n",
    "g.index.name = 'date'"
   ]
  },
  {
   "cell_type": "code",
   "execution_count": 24,
   "id": "naked-donor",
   "metadata": {
    "execution": {
     "iopub.execute_input": "2021-09-29T12:11:17.003668Z",
     "iopub.status.busy": "2021-09-29T12:11:17.003136Z",
     "iopub.status.idle": "2021-09-29T12:11:17.005438Z",
     "shell.execute_reply": "2021-09-29T12:11:17.004990Z"
    },
    "papermill": {
     "duration": 0.036446,
     "end_time": "2021-09-29T12:11:17.005555",
     "exception": false,
     "start_time": "2021-09-29T12:11:16.969109",
     "status": "completed"
    },
    "tags": []
   },
   "outputs": [],
   "source": [
    "# #hide\n",
    "# g = g.reset_index(['date'])"
   ]
  },
  {
   "cell_type": "code",
   "execution_count": 25,
   "id": "incomplete-mustang",
   "metadata": {
    "execution": {
     "iopub.execute_input": "2021-09-29T12:11:17.071162Z",
     "iopub.status.busy": "2021-09-29T12:11:17.070539Z",
     "iopub.status.idle": "2021-09-29T12:11:17.072206Z",
     "shell.execute_reply": "2021-09-29T12:11:17.072621Z"
    },
    "papermill": {
     "duration": 0.036368,
     "end_time": "2021-09-29T12:11:17.072756",
     "exception": false,
     "start_time": "2021-09-29T12:11:17.036388",
     "status": "completed"
    },
    "tags": []
   },
   "outputs": [],
   "source": [
    "#hide\n",
    "# g.head()"
   ]
  },
  {
   "cell_type": "code",
   "execution_count": 26,
   "id": "specific-kruger",
   "metadata": {
    "execution": {
     "iopub.execute_input": "2021-09-29T12:11:17.138435Z",
     "iopub.status.busy": "2021-09-29T12:11:17.137882Z",
     "iopub.status.idle": "2021-09-29T12:11:17.140347Z",
     "shell.execute_reply": "2021-09-29T12:11:17.139927Z"
    },
    "papermill": {
     "duration": 0.036906,
     "end_time": "2021-09-29T12:11:17.140466",
     "exception": false,
     "start_time": "2021-09-29T12:11:17.103560",
     "status": "completed"
    },
    "tags": []
   },
   "outputs": [],
   "source": [
    "#hide\n",
    "# g.columns = ['date','country','cases']"
   ]
  },
  {
   "cell_type": "code",
   "execution_count": 27,
   "id": "tender-conversion",
   "metadata": {
    "execution": {
     "iopub.execute_input": "2021-09-29T12:11:17.205676Z",
     "iopub.status.busy": "2021-09-29T12:11:17.205138Z",
     "iopub.status.idle": "2021-09-29T12:11:17.207117Z",
     "shell.execute_reply": "2021-09-29T12:11:17.207505Z"
    },
    "papermill": {
     "duration": 0.036528,
     "end_time": "2021-09-29T12:11:17.207640",
     "exception": false,
     "start_time": "2021-09-29T12:11:17.171112",
     "status": "completed"
    },
    "tags": []
   },
   "outputs": [],
   "source": [
    "#hide\n",
    "# g['continent'] = g.country"
   ]
  },
  {
   "cell_type": "code",
   "execution_count": 28,
   "id": "substantial-wilderness",
   "metadata": {
    "execution": {
     "iopub.execute_input": "2021-09-29T12:11:17.273170Z",
     "iopub.status.busy": "2021-09-29T12:11:17.272598Z",
     "iopub.status.idle": "2021-09-29T12:11:17.274917Z",
     "shell.execute_reply": "2021-09-29T12:11:17.274474Z"
    },
    "papermill": {
     "duration": 0.036543,
     "end_time": "2021-09-29T12:11:17.275033",
     "exception": false,
     "start_time": "2021-09-29T12:11:17.238490",
     "status": "completed"
    },
    "tags": []
   },
   "outputs": [],
   "source": [
    "#hide\n",
    "# cols = list(g.columns.values)"
   ]
  },
  {
   "cell_type": "code",
   "execution_count": 29,
   "id": "solved-farming",
   "metadata": {
    "execution": {
     "iopub.execute_input": "2021-09-29T12:11:17.340510Z",
     "iopub.status.busy": "2021-09-29T12:11:17.339986Z",
     "iopub.status.idle": "2021-09-29T12:11:17.342234Z",
     "shell.execute_reply": "2021-09-29T12:11:17.341797Z"
    },
    "papermill": {
     "duration": 0.036618,
     "end_time": "2021-09-29T12:11:17.342347",
     "exception": false,
     "start_time": "2021-09-29T12:11:17.305729",
     "status": "completed"
    },
    "tags": []
   },
   "outputs": [],
   "source": [
    "#hide\n",
    "# cols.insert(0, cols.pop())"
   ]
  },
  {
   "cell_type": "code",
   "execution_count": 30,
   "id": "executed-adoption",
   "metadata": {
    "execution": {
     "iopub.execute_input": "2021-09-29T12:11:17.407627Z",
     "iopub.status.busy": "2021-09-29T12:11:17.407104Z",
     "iopub.status.idle": "2021-09-29T12:11:17.409304Z",
     "shell.execute_reply": "2021-09-29T12:11:17.408840Z"
    },
    "papermill": {
     "duration": 0.036317,
     "end_time": "2021-09-29T12:11:17.409424",
     "exception": false,
     "start_time": "2021-09-29T12:11:17.373107",
     "status": "completed"
    },
    "tags": []
   },
   "outputs": [],
   "source": [
    "#hide\n",
    "# g = g[cols]"
   ]
  },
  {
   "cell_type": "code",
   "execution_count": 31,
   "id": "subject-dublin",
   "metadata": {
    "execution": {
     "iopub.execute_input": "2021-09-29T12:11:17.474736Z",
     "iopub.status.busy": "2021-09-29T12:11:17.474206Z",
     "iopub.status.idle": "2021-09-29T12:11:17.476507Z",
     "shell.execute_reply": "2021-09-29T12:11:17.476081Z"
    },
    "papermill": {
     "duration": 0.03663,
     "end_time": "2021-09-29T12:11:17.476627",
     "exception": false,
     "start_time": "2021-09-29T12:11:17.439997",
     "status": "completed"
    },
    "tags": []
   },
   "outputs": [],
   "source": [
    "#hide\n",
    "# g['continent'] = g['continent'].map(mapping['map.continent'])"
   ]
  },
  {
   "cell_type": "code",
   "execution_count": 32,
   "id": "freelance-scout",
   "metadata": {
    "execution": {
     "iopub.execute_input": "2021-09-29T12:11:17.541955Z",
     "iopub.status.busy": "2021-09-29T12:11:17.541419Z",
     "iopub.status.idle": "2021-09-29T12:11:17.543223Z",
     "shell.execute_reply": "2021-09-29T12:11:17.543605Z"
    },
    "papermill": {
     "duration": 0.036343,
     "end_time": "2021-09-29T12:11:17.543741",
     "exception": false,
     "start_time": "2021-09-29T12:11:17.507398",
     "status": "completed"
    },
    "tags": []
   },
   "outputs": [],
   "source": [
    "#hide\n",
    "# g.head()"
   ]
  },
  {
   "cell_type": "code",
   "execution_count": 33,
   "id": "limited-engine",
   "metadata": {
    "execution": {
     "iopub.execute_input": "2021-09-29T12:11:17.608809Z",
     "iopub.status.busy": "2021-09-29T12:11:17.608287Z",
     "iopub.status.idle": "2021-09-29T12:11:17.610440Z",
     "shell.execute_reply": "2021-09-29T12:11:17.610004Z"
    },
    "papermill": {
     "duration": 0.036229,
     "end_time": "2021-09-29T12:11:17.610552",
     "exception": false,
     "start_time": "2021-09-29T12:11:17.574323",
     "status": "completed"
    },
    "tags": []
   },
   "outputs": [],
   "source": [
    "# hide\n",
    "# g['date'] = g['date'].astype('datetime64[ns]')"
   ]
  },
  {
   "cell_type": "code",
   "execution_count": 34,
   "id": "sophisticated-supervisor",
   "metadata": {
    "execution": {
     "iopub.execute_input": "2021-09-29T12:11:17.675976Z",
     "iopub.status.busy": "2021-09-29T12:11:17.675449Z",
     "iopub.status.idle": "2021-09-29T12:11:17.677806Z",
     "shell.execute_reply": "2021-09-29T12:11:17.677384Z"
    },
    "papermill": {
     "duration": 0.036536,
     "end_time": "2021-09-29T12:11:17.677927",
     "exception": false,
     "start_time": "2021-09-29T12:11:17.641391",
     "status": "completed"
    },
    "tags": []
   },
   "outputs": [],
   "source": [
    "#hide\n",
    "# g['date'] = g.date.dt.dayofyear"
   ]
  },
  {
   "cell_type": "code",
   "execution_count": 35,
   "id": "inside-dubai",
   "metadata": {
    "execution": {
     "iopub.execute_input": "2021-09-29T12:11:17.743098Z",
     "iopub.status.busy": "2021-09-29T12:11:17.742569Z",
     "iopub.status.idle": "2021-09-29T12:11:17.744902Z",
     "shell.execute_reply": "2021-09-29T12:11:17.744480Z"
    },
    "papermill": {
     "duration": 0.036499,
     "end_time": "2021-09-29T12:11:17.745042",
     "exception": false,
     "start_time": "2021-09-29T12:11:17.708543",
     "status": "completed"
    },
    "tags": []
   },
   "outputs": [],
   "source": [
    "#hide\n",
    "# g = g.rename(columns= {'continent':'group','country':'name','cases':'value'})"
   ]
  },
  {
   "cell_type": "code",
   "execution_count": 36,
   "id": "fleet-motorcycle",
   "metadata": {
    "execution": {
     "iopub.execute_input": "2021-09-29T12:11:17.810409Z",
     "iopub.status.busy": "2021-09-29T12:11:17.809889Z",
     "iopub.status.idle": "2021-09-29T12:11:17.811729Z",
     "shell.execute_reply": "2021-09-29T12:11:17.812163Z"
    },
    "papermill": {
     "duration": 0.036505,
     "end_time": "2021-09-29T12:11:17.812291",
     "exception": false,
     "start_time": "2021-09-29T12:11:17.775786",
     "status": "completed"
    },
    "tags": []
   },
   "outputs": [],
   "source": [
    "#hide\n",
    "# cols = ['name','group','day','value']"
   ]
  },
  {
   "cell_type": "code",
   "execution_count": 37,
   "id": "continued-sleeping",
   "metadata": {
    "execution": {
     "iopub.execute_input": "2021-09-29T12:11:17.877785Z",
     "iopub.status.busy": "2021-09-29T12:11:17.877224Z",
     "iopub.status.idle": "2021-09-29T12:11:17.879148Z",
     "shell.execute_reply": "2021-09-29T12:11:17.879533Z"
    },
    "papermill": {
     "duration": 0.036702,
     "end_time": "2021-09-29T12:11:17.879670",
     "exception": false,
     "start_time": "2021-09-29T12:11:17.842968",
     "status": "completed"
    },
    "tags": []
   },
   "outputs": [],
   "source": [
    "#hide\n",
    "# g.rename(columns= {'date':'day'},inplace = True)"
   ]
  },
  {
   "cell_type": "code",
   "execution_count": 38,
   "id": "major-fight",
   "metadata": {
    "execution": {
     "iopub.execute_input": "2021-09-29T12:11:17.944963Z",
     "iopub.status.busy": "2021-09-29T12:11:17.944432Z",
     "iopub.status.idle": "2021-09-29T12:11:17.946125Z",
     "shell.execute_reply": "2021-09-29T12:11:17.946534Z"
    },
    "papermill": {
     "duration": 0.036201,
     "end_time": "2021-09-29T12:11:17.946664",
     "exception": false,
     "start_time": "2021-09-29T12:11:17.910463",
     "status": "completed"
    },
    "tags": []
   },
   "outputs": [],
   "source": [
    "#hide\n",
    "# g = g[cols]"
   ]
  },
  {
   "cell_type": "code",
   "execution_count": 39,
   "id": "structured-mobile",
   "metadata": {
    "execution": {
     "iopub.execute_input": "2021-09-29T12:11:18.011997Z",
     "iopub.status.busy": "2021-09-29T12:11:18.011477Z",
     "iopub.status.idle": "2021-09-29T12:11:18.013761Z",
     "shell.execute_reply": "2021-09-29T12:11:18.013345Z"
    },
    "papermill": {
     "duration": 0.036546,
     "end_time": "2021-09-29T12:11:18.013876",
     "exception": false,
     "start_time": "2021-09-29T12:11:17.977330",
     "status": "completed"
    },
    "tags": []
   },
   "outputs": [],
   "source": [
    "# #hide\n",
    "# g = g[g.group.notna()]"
   ]
  },
  {
   "cell_type": "code",
   "execution_count": 40,
   "id": "determined-closing",
   "metadata": {
    "execution": {
     "iopub.execute_input": "2021-09-29T12:11:18.079639Z",
     "iopub.status.busy": "2021-09-29T12:11:18.079105Z",
     "iopub.status.idle": "2021-09-29T12:11:18.081317Z",
     "shell.execute_reply": "2021-09-29T12:11:18.080853Z"
    },
    "papermill": {
     "duration": 0.036628,
     "end_time": "2021-09-29T12:11:18.081436",
     "exception": false,
     "start_time": "2021-09-29T12:11:18.044808",
     "status": "completed"
    },
    "tags": []
   },
   "outputs": [],
   "source": [
    "# #hide\n",
    "# colors = dict(zip(\n",
    "#     [\"Oceania\", \"Europe\", \"Asia\", \"South America\", \"Middle East\", \"North America\", \"Africa\"],\n",
    "#     [\"#adb0ff\", \"#ffb3ff\", \"#90d595\", \"#e48381\", \"#aafbff\", \"#f7bb5f\", \"#eafb50\"]\n",
    "# ))\n",
    "# group_lk = g.set_index('name')['group'].to_dict()"
   ]
  },
  {
   "cell_type": "code",
   "execution_count": null,
   "id": "gross-drinking",
   "metadata": {
    "papermill": {
     "duration": 0.030608,
     "end_time": "2021-09-29T12:11:18.142633",
     "exception": false,
     "start_time": "2021-09-29T12:11:18.112025",
     "status": "completed"
    },
    "tags": []
   },
   "outputs": [],
   "source": []
  },
  {
   "cell_type": "code",
   "execution_count": 41,
   "id": "subject-macintosh",
   "metadata": {
    "execution": {
     "iopub.execute_input": "2021-09-29T12:11:18.207837Z",
     "iopub.status.busy": "2021-09-29T12:11:18.207298Z",
     "iopub.status.idle": "2021-09-29T12:11:18.209781Z",
     "shell.execute_reply": "2021-09-29T12:11:18.209334Z"
    },
    "papermill": {
     "duration": 0.036797,
     "end_time": "2021-09-29T12:11:18.209896",
     "exception": false,
     "start_time": "2021-09-29T12:11:18.173099",
     "status": "completed"
    },
    "tags": []
   },
   "outputs": [],
   "source": [
    "# #hide\n",
    "# fig, ax = plt.subplots(figsize=(15, 8))\n",
    "\n",
    "# def draw_barchart(current_day):\n",
    "#     dff = g[g['day'].eq(current_day)].sort_values(by='value', ascending=True).tail(10)\n",
    "#     ax.clear()\n",
    "#     ax.barh(dff['name'], dff['value'], color=[colors[group_lk[x]] for x in dff['name']])\n",
    "#     dx = dff['value'].max() / 200\n",
    "    \n",
    "#     for i, (value, name) in enumerate(zip(dff['value'], dff['name'])):\n",
    "#         ax.text(value-dx, i,     name,           size=14, weight=600, ha='right', va='bottom')\n",
    "#         ax.text(value-dx, i-.25, group_lk[name], size=10, color='#444444', ha='right', va='baseline')\n",
    "#         ax.text(value+dx, i,     f'{value:,.0f}',  size=14, ha='left',  va='center')\n",
    "#     ax.text(1, 0.4, current_day, transform=ax.transAxes, color='#777777', size=46, ha='right', weight=800)\n",
    "#     ax.text(0, 1.06, 'Population (thousands)', transform=ax.transAxes, size=12, color='#777777')\n",
    "#     ax.xaxis.set_major_formatter(ticker.StrMethodFormatter('{x:,.0f}'))\n",
    "#     ax.xaxis.set_ticks_position('top')\n",
    "#     ax.tick_params(axis='x', colors='#777777', labelsize=12)\n",
    "#     ax.set_yticks([])\n",
    "#     ax.margins(0, 0.01)\n",
    "#     ax.grid(which='major', axis='x', linestyle='-')\n",
    "#     ax.set_axisbelow(True)\n",
    "    \n",
    "#     ax.text(0, 1.15, 'Coronavirus',\n",
    "#             transform=ax.transAxes, size=24, weight=600, ha='left', va='top')\n",
    "# #     ax.text(1, 0, 'by @pratapvardhan; credit @jburnmurdoch', transform=ax.transAxes, color='#777777', ha='right',\n",
    "# #             bbox=dict(facecolor='white', alpha=0.8, edgecolor='white'))\n",
    "#     plt.box(False)"
   ]
  },
  {
   "cell_type": "code",
   "execution_count": 42,
   "id": "sexual-wages",
   "metadata": {
    "execution": {
     "iopub.execute_input": "2021-09-29T12:11:18.275318Z",
     "iopub.status.busy": "2021-09-29T12:11:18.274801Z",
     "iopub.status.idle": "2021-09-29T12:11:18.277071Z",
     "shell.execute_reply": "2021-09-29T12:11:18.276628Z"
    },
    "papermill": {
     "duration": 0.036607,
     "end_time": "2021-09-29T12:11:18.277192",
     "exception": false,
     "start_time": "2021-09-29T12:11:18.240585",
     "status": "completed"
    },
    "tags": []
   },
   "outputs": [],
   "source": [
    "# #hide_input\n",
    "# fig, ax = plt.subplots(figsize=(15, 8))\n",
    "# animator = animation.FuncAnimation(fig, draw_barchart, frames=range(g.day.values.min(), g.day.values.max()))\n",
    "# HTML(animator.to_jshtml())\n",
    "# # or use animator.to_html5_video() or animator.save() "
   ]
  },
  {
   "cell_type": "code",
   "execution_count": null,
   "id": "australian-container",
   "metadata": {
    "papermill": {
     "duration": 0.030905,
     "end_time": "2021-09-29T12:11:18.338911",
     "exception": false,
     "start_time": "2021-09-29T12:11:18.308006",
     "status": "completed"
    },
    "tags": []
   },
   "outputs": [],
   "source": []
  },
  {
   "cell_type": "code",
   "execution_count": null,
   "id": "mediterranean-pontiac",
   "metadata": {
    "papermill": {
     "duration": 0.030285,
     "end_time": "2021-09-29T12:11:18.399653",
     "exception": false,
     "start_time": "2021-09-29T12:11:18.369368",
     "status": "completed"
    },
    "tags": []
   },
   "outputs": [],
   "source": []
  },
  {
   "cell_type": "code",
   "execution_count": null,
   "id": "aging-legislature",
   "metadata": {
    "papermill": {
     "duration": 0.031085,
     "end_time": "2021-09-29T12:11:18.461674",
     "exception": false,
     "start_time": "2021-09-29T12:11:18.430589",
     "status": "completed"
    },
    "tags": []
   },
   "outputs": [],
   "source": []
  }
 ],
 "metadata": {
  "kernelspec": {
   "display_name": "Python 3",
   "language": "python",
   "name": "python3"
  },
  "language_info": {
   "codemirror_mode": {
    "name": "ipython",
    "version": 3
   },
   "file_extension": ".py",
   "mimetype": "text/x-python",
   "name": "python",
   "nbconvert_exporter": "python",
   "pygments_lexer": "ipython3",
   "version": "3.6.15"
  },
  "papermill": {
   "duration": 5.922081,
   "end_time": "2021-09-29T12:11:18.900126",
   "environment_variables": {},
   "exception": null,
   "input_path": "2020-03-21-covid19exp.ipynb",
   "output_path": "2020-03-21-covid19exp.ipynb",
   "parameters": {},
   "start_time": "2021-09-29T12:11:12.978045",
   "version": "2.0.0"
  }
 },
 "nbformat": 4,
 "nbformat_minor": 5
}