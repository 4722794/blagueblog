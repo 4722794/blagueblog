{
 "cells": [
  {
   "cell_type": "markdown",
   "id": "muslim-click",
   "metadata": {
    "papermill": {
     "duration": 0.036787,
     "end_time": "2022-11-03T00:50:25.950471",
     "exception": false,
     "start_time": "2022-11-03T00:50:25.913684",
     "status": "completed"
    },
    "tags": []
   },
   "source": [
    "# COVID-19 Case Race\n",
    "> A race chart to see rising cases around the world\n",
    "\n",
    "- author: Hargun Oberoi\n",
    "- image: images/covid-overview.png\n",
    "- hide: false\n",
    "- badges: false"
   ]
  },
  {
   "cell_type": "code",
   "execution_count": 1,
   "id": "proof-material",
   "metadata": {
    "execution": {
     "iopub.execute_input": "2022-11-03T00:50:26.021074Z",
     "iopub.status.busy": "2022-11-03T00:50:26.020459Z",
     "iopub.status.idle": "2022-11-03T00:50:26.363940Z",
     "shell.execute_reply": "2022-11-03T00:50:26.363221Z"
    },
    "papermill": {
     "duration": 0.382757,
     "end_time": "2022-11-03T00:50:26.364076",
     "exception": false,
     "start_time": "2022-11-03T00:50:25.981319",
     "status": "completed"
    },
    "tags": []
   },
   "outputs": [],
   "source": [
    "#hide\n",
    "import numpy as np\n",
    "import pandas as pd\n",
    "from jinja2 import Template\n",
    "from IPython.display import HTML"
   ]
  },
  {
   "cell_type": "code",
   "execution_count": 2,
   "id": "developed-terminology",
   "metadata": {
    "execution": {
     "iopub.execute_input": "2022-11-03T00:50:26.429197Z",
     "iopub.status.busy": "2022-11-03T00:50:26.428587Z",
     "iopub.status.idle": "2022-11-03T00:50:26.430573Z",
     "shell.execute_reply": "2022-11-03T00:50:26.431155Z"
    },
    "papermill": {
     "duration": 0.037332,
     "end_time": "2022-11-03T00:50:26.431321",
     "exception": false,
     "start_time": "2022-11-03T00:50:26.393989",
     "status": "completed"
    },
    "tags": []
   },
   "outputs": [],
   "source": [
    "#hide\n",
    "\n",
    "# FETCH\n",
    "base_url = 'https://raw.githubusercontent.com/pratapvardhan/notebooks/master/covid19/'\n",
    "paths = {\n",
    "    'mapping': base_url + 'mapping_countries.csv',\n",
    "    'overview': base_url + 'overview.tpl'\n",
    "}"
   ]
  },
  {
   "cell_type": "code",
   "execution_count": 3,
   "id": "dynamic-saver",
   "metadata": {
    "execution": {
     "iopub.execute_input": "2022-11-03T00:50:26.501732Z",
     "iopub.status.busy": "2022-11-03T00:50:26.501099Z",
     "iopub.status.idle": "2022-11-03T00:50:26.504012Z",
     "shell.execute_reply": "2022-11-03T00:50:26.504447Z"
    },
    "papermill": {
     "duration": 0.043568,
     "end_time": "2022-11-03T00:50:26.504590",
     "exception": false,
     "start_time": "2022-11-03T00:50:26.461022",
     "status": "completed"
    },
    "tags": []
   },
   "outputs": [
    {
     "data": {
      "text/plain": [
       "'https://raw.githubusercontent.com/pratapvardhan/notebooks/master/covid19/mapping_countries.csv'"
      ]
     },
     "execution_count": 3,
     "metadata": {},
     "output_type": "execute_result"
    }
   ],
   "source": [
    "#hide\n",
    "paths['mapping']"
   ]
  },
  {
   "cell_type": "code",
   "execution_count": 4,
   "id": "urban-software",
   "metadata": {
    "execution": {
     "iopub.execute_input": "2022-11-03T00:50:26.570171Z",
     "iopub.status.busy": "2022-11-03T00:50:26.569528Z",
     "iopub.status.idle": "2022-11-03T00:50:26.572124Z",
     "shell.execute_reply": "2022-11-03T00:50:26.571629Z"
    },
    "papermill": {
     "duration": 0.037594,
     "end_time": "2022-11-03T00:50:26.572242",
     "exception": false,
     "start_time": "2022-11-03T00:50:26.534648",
     "status": "completed"
    },
    "tags": []
   },
   "outputs": [],
   "source": [
    "#hide\n",
    "def get_mappings(url):\n",
    "    df = pd.read_csv(url)\n",
    "    return {\n",
    "        'df': df,\n",
    "        'replace.country': dict(df.dropna(subset=['Name']).set_index('Country')['Name']),\n",
    "        'map.continent': dict(df.set_index('Name')['Continent'])\n",
    "    }"
   ]
  },
  {
   "cell_type": "code",
   "execution_count": 5,
   "id": "intimate-machinery",
   "metadata": {
    "execution": {
     "iopub.execute_input": "2022-11-03T00:50:26.638004Z",
     "iopub.status.busy": "2022-11-03T00:50:26.637393Z",
     "iopub.status.idle": "2022-11-03T00:50:26.663458Z",
     "shell.execute_reply": "2022-11-03T00:50:26.662803Z"
    },
    "papermill": {
     "duration": 0.061401,
     "end_time": "2022-11-03T00:50:26.663608",
     "exception": false,
     "start_time": "2022-11-03T00:50:26.602207",
     "status": "completed"
    },
    "tags": []
   },
   "outputs": [],
   "source": [
    "#hide\n",
    "mapping = get_mappings(paths['mapping'])"
   ]
  },
  {
   "cell_type": "code",
   "execution_count": 6,
   "id": "certified-tactics",
   "metadata": {
    "execution": {
     "iopub.execute_input": "2022-11-03T00:50:26.730136Z",
     "iopub.status.busy": "2022-11-03T00:50:26.729528Z",
     "iopub.status.idle": "2022-11-03T00:50:26.732016Z",
     "shell.execute_reply": "2022-11-03T00:50:26.732473Z"
    },
    "papermill": {
     "duration": 0.038147,
     "end_time": "2022-11-03T00:50:26.732608",
     "exception": false,
     "start_time": "2022-11-03T00:50:26.694461",
     "status": "completed"
    },
    "tags": []
   },
   "outputs": [],
   "source": [
    "#hide\n",
    "def get_template(path):\n",
    "    from urllib.parse import urlparse\n",
    "    if bool(urlparse(path).netloc):\n",
    "        from urllib.request import urlopen\n",
    "        return urlopen(path).read().decode('utf8')\n",
    "    return open(path).read()"
   ]
  },
  {
   "cell_type": "code",
   "execution_count": 7,
   "id": "realistic-blast",
   "metadata": {
    "execution": {
     "iopub.execute_input": "2022-11-03T00:50:26.798068Z",
     "iopub.status.busy": "2022-11-03T00:50:26.797448Z",
     "iopub.status.idle": "2022-11-03T00:50:26.799937Z",
     "shell.execute_reply": "2022-11-03T00:50:26.800518Z"
    },
    "papermill": {
     "duration": 0.038063,
     "end_time": "2022-11-03T00:50:26.800657",
     "exception": false,
     "start_time": "2022-11-03T00:50:26.762594",
     "status": "completed"
    },
    "tags": []
   },
   "outputs": [],
   "source": [
    "#hide\n",
    "def get_frame(name):\n",
    "    url = (\n",
    "        'https://raw.githubusercontent.com/CSSEGISandData/COVID-19/master/csse_covid_19_data/'\n",
    "        f'csse_covid_19_time_series/time_series_covid19_{name}_global.csv')\n",
    "    df = pd.read_csv(url)\n",
    "    # rename countries\n",
    "    df['Country/Region'] = df['Country/Region'].replace(mapping['replace.country'])\n",
    "    return df"
   ]
  },
  {
   "cell_type": "code",
   "execution_count": 8,
   "id": "affiliated-characterization",
   "metadata": {
    "execution": {
     "iopub.execute_input": "2022-11-03T00:50:26.867728Z",
     "iopub.status.busy": "2022-11-03T00:50:26.866952Z",
     "iopub.status.idle": "2022-11-03T00:50:26.868770Z",
     "shell.execute_reply": "2022-11-03T00:50:26.869325Z"
    },
    "papermill": {
     "duration": 0.03871,
     "end_time": "2022-11-03T00:50:26.869476",
     "exception": false,
     "start_time": "2022-11-03T00:50:26.830766",
     "status": "completed"
    },
    "tags": []
   },
   "outputs": [],
   "source": [
    "#hide\n",
    "def get_dates(df):\n",
    "    dt_cols = df.columns[~df.columns.isin(['Province/State', 'Country/Region', 'Lat', 'Long'])]\n",
    "    LAST_DATE_I = -1\n",
    "    # sometimes last column may be empty, then go backwards\n",
    "    for i in range(-1, -len(dt_cols), -1):\n",
    "        if not df[dt_cols[i]].fillna(0).eq(0).all():\n",
    "            LAST_DATE_I = i\n",
    "            break\n",
    "    return LAST_DATE_I, dt_cols"
   ]
  },
  {
   "cell_type": "code",
   "execution_count": 9,
   "id": "recent-optimization",
   "metadata": {
    "execution": {
     "iopub.execute_input": "2022-11-03T00:50:26.935368Z",
     "iopub.status.busy": "2022-11-03T00:50:26.934629Z",
     "iopub.status.idle": "2022-11-03T00:50:27.369628Z",
     "shell.execute_reply": "2022-11-03T00:50:27.369050Z"
    },
    "papermill": {
     "duration": 0.470078,
     "end_time": "2022-11-03T00:50:27.369769",
     "exception": false,
     "start_time": "2022-11-03T00:50:26.899691",
     "status": "completed"
    },
    "tags": []
   },
   "outputs": [],
   "source": [
    "#hide\n",
    "COL_REGION = 'Country/Region'\n",
    "# Confirmed, Recovered, Deaths\n",
    "df = get_frame('confirmed')\n",
    "# dft_: timeseries, dfc_: today country agg\n",
    "dft_cases = df\n",
    "dft_deaths = get_frame('deaths')\n",
    "dft_recovered = get_frame('recovered')\n",
    "LAST_DATE_I, dt_cols = get_dates(df)"
   ]
  },
  {
   "cell_type": "code",
   "execution_count": 10,
   "id": "absolute-copper",
   "metadata": {
    "execution": {
     "iopub.execute_input": "2022-11-03T00:50:27.436055Z",
     "iopub.status.busy": "2022-11-03T00:50:27.435448Z",
     "iopub.status.idle": "2022-11-03T00:50:27.437788Z",
     "shell.execute_reply": "2022-11-03T00:50:27.438356Z"
    },
    "papermill": {
     "duration": 0.038366,
     "end_time": "2022-11-03T00:50:27.438490",
     "exception": false,
     "start_time": "2022-11-03T00:50:27.400124",
     "status": "completed"
    },
    "tags": []
   },
   "outputs": [],
   "source": [
    "#hide\n",
    "LAST_DATE_I, dt_cols = get_dates(df)\n",
    "dt_today =dt_cols[LAST_DATE_I]\n",
    "# dt_5day = dt_cols[LAST_DATE_I - 5]\n",
    "dt_yday = dt_cols[LAST_DATE_I - 1]"
   ]
  },
  {
   "cell_type": "code",
   "execution_count": 11,
   "id": "restricted-sheriff",
   "metadata": {
    "execution": {
     "iopub.execute_input": "2022-11-03T00:50:27.506165Z",
     "iopub.status.busy": "2022-11-03T00:50:27.505552Z",
     "iopub.status.idle": "2022-11-03T00:50:27.511506Z",
     "shell.execute_reply": "2022-11-03T00:50:27.512091Z"
    },
    "papermill": {
     "duration": 0.043748,
     "end_time": "2022-11-03T00:50:27.512230",
     "exception": false,
     "start_time": "2022-11-03T00:50:27.468482",
     "status": "completed"
    },
    "tags": []
   },
   "outputs": [],
   "source": [
    "#hide\n",
    "dfc_cases = dft_cases.groupby(COL_REGION)[dt_today].sum()\n",
    "dfc_deaths = dft_deaths.groupby(COL_REGION)[dt_today].sum()\n",
    "# dfp_cases = dft_cases.groupby(COL_REGION)[dt_5day].sum()\n",
    "# dfp_deaths = dft_deaths.groupby(COL_REGION)[dt_5day].sum()\n",
    "dfp_cases = dft_cases.groupby(COL_REGION)[dt_yday].sum()\n",
    "dfp_deaths = dft_deaths.groupby(COL_REGION)[dt_yday].sum()"
   ]
  },
  {
   "cell_type": "code",
   "execution_count": 12,
   "id": "deluxe-hepatitis",
   "metadata": {
    "execution": {
     "iopub.execute_input": "2022-11-03T00:50:27.578381Z",
     "iopub.status.busy": "2022-11-03T00:50:27.577778Z",
     "iopub.status.idle": "2022-11-03T00:50:27.582111Z",
     "shell.execute_reply": "2022-11-03T00:50:27.582667Z"
    },
    "papermill": {
     "duration": 0.040635,
     "end_time": "2022-11-03T00:50:27.582805",
     "exception": false,
     "start_time": "2022-11-03T00:50:27.542170",
     "status": "completed"
    },
    "tags": []
   },
   "outputs": [],
   "source": [
    "#hide\n",
    "df_table = (pd.DataFrame(dict(Cases = dfc_cases, Deaths = dfc_deaths, PCases = dfp_cases, PDeaths = dfp_deaths))\n",
    "            .sort_values(by = ['Cases','Deaths'], ascending = [False, False])\n",
    "            .reset_index())"
   ]
  },
  {
   "cell_type": "code",
   "execution_count": 13,
   "id": "educational-chancellor",
   "metadata": {
    "execution": {
     "iopub.execute_input": "2022-11-03T00:50:27.661101Z",
     "iopub.status.busy": "2022-11-03T00:50:27.660453Z",
     "iopub.status.idle": "2022-11-03T00:50:27.669165Z",
     "shell.execute_reply": "2022-11-03T00:50:27.669650Z"
    },
    "papermill": {
     "duration": 0.05706,
     "end_time": "2022-11-03T00:50:27.669789",
     "exception": false,
     "start_time": "2022-11-03T00:50:27.612729",
     "status": "completed"
    },
    "tags": []
   },
   "outputs": [
    {
     "data": {
      "text/html": [
       "<div>\n",
       "<style scoped>\n",
       "    .dataframe tbody tr th:only-of-type {\n",
       "        vertical-align: middle;\n",
       "    }\n",
       "\n",
       "    .dataframe tbody tr th {\n",
       "        vertical-align: top;\n",
       "    }\n",
       "\n",
       "    .dataframe thead th {\n",
       "        text-align: right;\n",
       "    }\n",
       "</style>\n",
       "<table border=\"1\" class=\"dataframe\">\n",
       "  <thead>\n",
       "    <tr style=\"text-align: right;\">\n",
       "      <th></th>\n",
       "      <th>Country/Region</th>\n",
       "      <th>Cases</th>\n",
       "      <th>Deaths</th>\n",
       "      <th>PCases</th>\n",
       "      <th>PDeaths</th>\n",
       "      <th>Cases (+)</th>\n",
       "      <th>Deaths (+)</th>\n",
       "      <th>Fatality Rate</th>\n",
       "      <th>Continent</th>\n",
       "    </tr>\n",
       "  </thead>\n",
       "  <tbody>\n",
       "    <tr>\n",
       "      <th>0</th>\n",
       "      <td>US</td>\n",
       "      <td>97538564</td>\n",
       "      <td>1070836</td>\n",
       "      <td>97502232</td>\n",
       "      <td>1070437</td>\n",
       "      <td>36332</td>\n",
       "      <td>399</td>\n",
       "      <td>1.10</td>\n",
       "      <td>North America</td>\n",
       "    </tr>\n",
       "    <tr>\n",
       "      <th>1</th>\n",
       "      <td>India</td>\n",
       "      <td>44655828</td>\n",
       "      <td>530452</td>\n",
       "      <td>44654638</td>\n",
       "      <td>529077</td>\n",
       "      <td>1190</td>\n",
       "      <td>1375</td>\n",
       "      <td>1.19</td>\n",
       "      <td>Asia</td>\n",
       "    </tr>\n",
       "    <tr>\n",
       "      <th>2</th>\n",
       "      <td>France</td>\n",
       "      <td>37033582</td>\n",
       "      <td>158034</td>\n",
       "      <td>37033519</td>\n",
       "      <td>158034</td>\n",
       "      <td>63</td>\n",
       "      <td>0</td>\n",
       "      <td>0.43</td>\n",
       "      <td>Europe</td>\n",
       "    </tr>\n",
       "    <tr>\n",
       "      <th>3</th>\n",
       "      <td>Germany</td>\n",
       "      <td>35649648</td>\n",
       "      <td>153814</td>\n",
       "      <td>35619687</td>\n",
       "      <td>153694</td>\n",
       "      <td>29961</td>\n",
       "      <td>120</td>\n",
       "      <td>0.43</td>\n",
       "      <td>Europe</td>\n",
       "    </tr>\n",
       "    <tr>\n",
       "      <th>4</th>\n",
       "      <td>Brazil</td>\n",
       "      <td>34837035</td>\n",
       "      <td>688219</td>\n",
       "      <td>34828749</td>\n",
       "      <td>688157</td>\n",
       "      <td>8286</td>\n",
       "      <td>62</td>\n",
       "      <td>1.98</td>\n",
       "      <td>South America</td>\n",
       "    </tr>\n",
       "  </tbody>\n",
       "</table>\n",
       "</div>"
      ],
      "text/plain": [
       "  Country/Region     Cases   Deaths    PCases  PDeaths  Cases (+)  Deaths (+)  \\\n",
       "0             US  97538564  1070836  97502232  1070437      36332         399   \n",
       "1          India  44655828   530452  44654638   529077       1190        1375   \n",
       "2         France  37033582   158034  37033519   158034         63           0   \n",
       "3        Germany  35649648   153814  35619687   153694      29961         120   \n",
       "4         Brazil  34837035   688219  34828749   688157       8286          62   \n",
       "\n",
       "   Fatality Rate      Continent  \n",
       "0           1.10  North America  \n",
       "1           1.19           Asia  \n",
       "2           0.43         Europe  \n",
       "3           0.43         Europe  \n",
       "4           1.98  South America  "
      ]
     },
     "execution_count": 13,
     "metadata": {},
     "output_type": "execute_result"
    }
   ],
   "source": [
    "#hide\n",
    "for c in 'Cases, Deaths'.split(', '):\n",
    "    df_table[f'{c} (+)'] = (df_table[c] - df_table[f'P{c}']).clip(0)\n",
    "    #Clip ça veut dire, les chiffres negatif sont interdit\n",
    "df_table['Fatality Rate'] = (100* df_table['Deaths']/ df_table['Cases']).round(2)\n",
    "df_table['Continent'] = df_table['Country/Region'].map(mapping['map.continent'])\n",
    "df_table.head(5)"
   ]
  },
  {
   "cell_type": "code",
   "execution_count": 14,
   "id": "aboriginal-bulgaria",
   "metadata": {
    "execution": {
     "iopub.execute_input": "2022-11-03T00:50:27.736865Z",
     "iopub.status.busy": "2022-11-03T00:50:27.736256Z",
     "iopub.status.idle": "2022-11-03T00:50:27.740131Z",
     "shell.execute_reply": "2022-11-03T00:50:27.739645Z"
    },
    "papermill": {
     "duration": 0.039872,
     "end_time": "2022-11-03T00:50:27.740245",
     "exception": false,
     "start_time": "2022-11-03T00:50:27.700373",
     "status": "completed"
    },
    "tags": []
   },
   "outputs": [],
   "source": [
    "#hide\n",
    "#delete problematic countries from table\n",
    "df_table = df_table[~df_table['Country/Region'].isin(['Cape Verde', 'Cruise Ship', 'Kosovo'])]"
   ]
  },
  {
   "cell_type": "code",
   "execution_count": 15,
   "id": "fantastic-effect",
   "metadata": {
    "execution": {
     "iopub.execute_input": "2022-11-03T00:50:27.810191Z",
     "iopub.status.busy": "2022-11-03T00:50:27.809565Z",
     "iopub.status.idle": "2022-11-03T00:50:27.827471Z",
     "shell.execute_reply": "2022-11-03T00:50:27.827942Z"
    },
    "papermill": {
     "duration": 0.057175,
     "end_time": "2022-11-03T00:50:27.828084",
     "exception": false,
     "start_time": "2022-11-03T00:50:27.770909",
     "status": "completed"
    },
    "tags": []
   },
   "outputs": [
    {
     "data": {
      "text/html": [
       "<div>\n",
       "<style scoped>\n",
       "    .dataframe tbody tr th:only-of-type {\n",
       "        vertical-align: middle;\n",
       "    }\n",
       "\n",
       "    .dataframe tbody tr th {\n",
       "        vertical-align: top;\n",
       "    }\n",
       "\n",
       "    .dataframe thead th {\n",
       "        text-align: right;\n",
       "    }\n",
       "</style>\n",
       "<table border=\"1\" class=\"dataframe\">\n",
       "  <thead>\n",
       "    <tr style=\"text-align: right;\">\n",
       "      <th></th>\n",
       "      <th>Country/Region</th>\n",
       "      <th>Cases</th>\n",
       "      <th>Deaths</th>\n",
       "      <th>PCases</th>\n",
       "      <th>PDeaths</th>\n",
       "      <th>Cases (+)</th>\n",
       "      <th>Deaths (+)</th>\n",
       "      <th>Fatality Rate</th>\n",
       "      <th>Continent</th>\n",
       "    </tr>\n",
       "  </thead>\n",
       "  <tbody>\n",
       "    <tr>\n",
       "      <th>0</th>\n",
       "      <td>US</td>\n",
       "      <td>97538564</td>\n",
       "      <td>1070836</td>\n",
       "      <td>97502232</td>\n",
       "      <td>1070437</td>\n",
       "      <td>36332</td>\n",
       "      <td>399</td>\n",
       "      <td>1.1</td>\n",
       "      <td>North America</td>\n",
       "    </tr>\n",
       "    <tr>\n",
       "      <th>1</th>\n",
       "      <td>India</td>\n",
       "      <td>44655828</td>\n",
       "      <td>530452</td>\n",
       "      <td>44654638</td>\n",
       "      <td>529077</td>\n",
       "      <td>1190</td>\n",
       "      <td>1375</td>\n",
       "      <td>1.2</td>\n",
       "      <td>Asia</td>\n",
       "    </tr>\n",
       "    <tr>\n",
       "      <th>2</th>\n",
       "      <td>France</td>\n",
       "      <td>37033582</td>\n",
       "      <td>158034</td>\n",
       "      <td>37033519</td>\n",
       "      <td>158034</td>\n",
       "      <td>63</td>\n",
       "      <td>0</td>\n",
       "      <td>0.4</td>\n",
       "      <td>Europe</td>\n",
       "    </tr>\n",
       "    <tr>\n",
       "      <th>3</th>\n",
       "      <td>Germany</td>\n",
       "      <td>35649648</td>\n",
       "      <td>153814</td>\n",
       "      <td>35619687</td>\n",
       "      <td>153694</td>\n",
       "      <td>29961</td>\n",
       "      <td>120</td>\n",
       "      <td>0.4</td>\n",
       "      <td>Europe</td>\n",
       "    </tr>\n",
       "    <tr>\n",
       "      <th>4</th>\n",
       "      <td>Brazil</td>\n",
       "      <td>34837035</td>\n",
       "      <td>688219</td>\n",
       "      <td>34828749</td>\n",
       "      <td>688157</td>\n",
       "      <td>8286</td>\n",
       "      <td>62</td>\n",
       "      <td>2.0</td>\n",
       "      <td>South America</td>\n",
       "    </tr>\n",
       "  </tbody>\n",
       "</table>\n",
       "</div>"
      ],
      "text/plain": [
       "  Country/Region     Cases   Deaths    PCases  PDeaths  Cases (+)  Deaths (+)  \\\n",
       "0             US  97538564  1070836  97502232  1070437      36332         399   \n",
       "1          India  44655828   530452  44654638   529077       1190        1375   \n",
       "2         France  37033582   158034  37033519   158034         63           0   \n",
       "3        Germany  35649648   153814  35619687   153694      29961         120   \n",
       "4         Brazil  34837035   688219  34828749   688157       8286          62   \n",
       "\n",
       "   Fatality Rate      Continent  \n",
       "0            1.1  North America  \n",
       "1            1.2           Asia  \n",
       "2            0.4         Europe  \n",
       "3            0.4         Europe  \n",
       "4            2.0  South America  "
      ]
     },
     "execution_count": 15,
     "metadata": {},
     "output_type": "execute_result"
    }
   ],
   "source": [
    "#hide\n",
    "df_table = (pd.DataFrame(dict(Cases=dfc_cases, Deaths=dfc_deaths, PCases=dfp_cases, PDeaths=dfp_deaths))\n",
    "             .sort_values(by=['Cases', 'Deaths'], ascending=[False, False])\n",
    "             .reset_index())\n",
    "df_table.rename(columns={'index': 'Country/Region'}, inplace=True)\n",
    "for c in 'Cases, Deaths'.split(', '):\n",
    "    df_table[f'{c} (+)'] = (df_table[c] - df_table[f'P{c}']).clip(0)  # DATA BUG\n",
    "df_table['Fatality Rate'] = (100 * df_table['Deaths'] / df_table['Cases']).round(1)\n",
    "df_table['Continent'] = df_table['Country/Region'].map(mapping['map.continent'])\n",
    "df_table.head(5)"
   ]
  },
  {
   "cell_type": "code",
   "execution_count": 16,
   "id": "fewer-occasion",
   "metadata": {
    "execution": {
     "iopub.execute_input": "2022-11-03T00:50:27.896087Z",
     "iopub.status.busy": "2022-11-03T00:50:27.895466Z",
     "iopub.status.idle": "2022-11-03T00:50:27.898516Z",
     "shell.execute_reply": "2022-11-03T00:50:27.899081Z"
    },
    "papermill": {
     "duration": 0.039924,
     "end_time": "2022-11-03T00:50:27.899217",
     "exception": false,
     "start_time": "2022-11-03T00:50:27.859293",
     "status": "completed"
    },
    "tags": []
   },
   "outputs": [],
   "source": [
    "#hide\n",
    "#delete problematic countries from table\n",
    "df_table = df_table[~df_table['Country/Region'].isin(['Cape Verde', 'Cruise Ship', 'Kosovo'])]"
   ]
  },
  {
   "cell_type": "code",
   "execution_count": 17,
   "id": "related-center",
   "metadata": {
    "execution": {
     "iopub.execute_input": "2022-11-03T00:50:27.974421Z",
     "iopub.status.busy": "2022-11-03T00:50:27.973794Z",
     "iopub.status.idle": "2022-11-03T00:50:27.982533Z",
     "shell.execute_reply": "2022-11-03T00:50:27.982033Z"
    },
    "papermill": {
     "duration": 0.052419,
     "end_time": "2022-11-03T00:50:27.982652",
     "exception": false,
     "start_time": "2022-11-03T00:50:27.930233",
     "status": "completed"
    },
    "tags": []
   },
   "outputs": [],
   "source": [
    "#hide\n",
    "metrics = [df_table.columns[index] for index in [1,2,5,6]]\n",
    "# s_china = df_table[df_table['Country/Region'].eq('China')][metrics].sum().add_prefix('China ')\n",
    "s_us = df_table[df_table['Country/Region'].eq('US')][metrics].sum().add_prefix('US ')\n",
    "s_eu = df_table[df_table['Continent'].eq('Europe')][metrics].sum().add_prefix('EU ')\n",
    "s_ind = df_table[df_table['Country/Region'].eq('India')][metrics].sum().add_prefix('India ')\n",
    "summary = {'updated': pd.to_datetime(dt_today), 'since': pd.to_datetime(dt_yday)}\n",
    "summary = {'updated': pd.to_datetime(dt_today), 'since': pd.to_datetime(dt_yday)}\n",
    "summary = {**summary, **df_table[metrics].sum(), **s_ind, **s_us, **s_eu}"
   ]
  },
  {
   "cell_type": "code",
   "execution_count": 18,
   "id": "engaging-syndrome",
   "metadata": {
    "execution": {
     "iopub.execute_input": "2022-11-03T00:50:28.050644Z",
     "iopub.status.busy": "2022-11-03T00:50:28.050028Z",
     "iopub.status.idle": "2022-11-03T00:50:28.073555Z",
     "shell.execute_reply": "2022-11-03T00:50:28.072983Z"
    },
    "papermill": {
     "duration": 0.05988,
     "end_time": "2022-11-03T00:50:28.073688",
     "exception": false,
     "start_time": "2022-11-03T00:50:28.013808",
     "status": "completed"
    },
    "tags": []
   },
   "outputs": [],
   "source": [
    "#hide\n",
    "dft_ct_new_cases = dft_cases.groupby(COL_REGION)[dt_cols].sum().diff(axis=1).fillna(0).astype(int)"
   ]
  },
  {
   "cell_type": "code",
   "execution_count": 19,
   "id": "neutral-assignment",
   "metadata": {
    "execution": {
     "iopub.execute_input": "2022-11-03T00:50:28.143136Z",
     "iopub.status.busy": "2022-11-03T00:50:28.142523Z",
     "iopub.status.idle": "2022-11-03T00:50:28.144958Z",
     "shell.execute_reply": "2022-11-03T00:50:28.145519Z"
    },
    "papermill": {
     "duration": 0.040638,
     "end_time": "2022-11-03T00:50:28.145655",
     "exception": false,
     "start_time": "2022-11-03T00:50:28.105017",
     "status": "completed"
    },
    "tags": []
   },
   "outputs": [],
   "source": [
    "#hide\n",
    "everydaycases = dft_ct_new_cases.cumsum(axis=1)"
   ]
  },
  {
   "cell_type": "code",
   "execution_count": 20,
   "id": "parliamentary-calgary",
   "metadata": {
    "execution": {
     "iopub.execute_input": "2022-11-03T00:50:28.212437Z",
     "iopub.status.busy": "2022-11-03T00:50:28.211814Z",
     "iopub.status.idle": "2022-11-03T00:50:28.760219Z",
     "shell.execute_reply": "2022-11-03T00:50:28.760684Z"
    },
    "papermill": {
     "duration": 0.584127,
     "end_time": "2022-11-03T00:50:28.760836",
     "exception": false,
     "start_time": "2022-11-03T00:50:28.176709",
     "status": "completed"
    },
    "tags": []
   },
   "outputs": [],
   "source": [
    "#hide\n",
    "import pandas as pd\n",
    "import matplotlib.pyplot as plt\n",
    "import matplotlib.ticker as ticker\n",
    "import matplotlib.animation as animation\n",
    "from IPython.display import HTML"
   ]
  },
  {
   "cell_type": "code",
   "execution_count": 21,
   "id": "lasting-extraction",
   "metadata": {
    "execution": {
     "iopub.execute_input": "2022-11-03T00:50:28.830124Z",
     "iopub.status.busy": "2022-11-03T00:50:28.829527Z",
     "iopub.status.idle": "2022-11-03T00:50:28.837325Z",
     "shell.execute_reply": "2022-11-03T00:50:28.836829Z"
    },
    "papermill": {
     "duration": 0.045389,
     "end_time": "2022-11-03T00:50:28.837443",
     "exception": false,
     "start_time": "2022-11-03T00:50:28.792054",
     "status": "completed"
    },
    "tags": []
   },
   "outputs": [],
   "source": [
    "#hide\n",
    "t = everydaycases.stack()"
   ]
  },
  {
   "cell_type": "code",
   "execution_count": 22,
   "id": "premier-sleeve",
   "metadata": {
    "execution": {
     "iopub.execute_input": "2022-11-03T00:50:28.905068Z",
     "iopub.status.busy": "2022-11-03T00:50:28.904452Z",
     "iopub.status.idle": "2022-11-03T00:50:28.917054Z",
     "shell.execute_reply": "2022-11-03T00:50:28.917523Z"
    },
    "papermill": {
     "duration": 0.048871,
     "end_time": "2022-11-03T00:50:28.917666",
     "exception": false,
     "start_time": "2022-11-03T00:50:28.868795",
     "status": "completed"
    },
    "tags": []
   },
   "outputs": [],
   "source": [
    "#hide\n",
    "g = t.reset_index(['Country/Region'])"
   ]
  },
  {
   "cell_type": "code",
   "execution_count": 23,
   "id": "distributed-pittsburgh",
   "metadata": {
    "execution": {
     "iopub.execute_input": "2022-11-03T00:50:28.984635Z",
     "iopub.status.busy": "2022-11-03T00:50:28.984033Z",
     "iopub.status.idle": "2022-11-03T00:50:28.986572Z",
     "shell.execute_reply": "2022-11-03T00:50:28.987062Z"
    },
    "papermill": {
     "duration": 0.038498,
     "end_time": "2022-11-03T00:50:28.987198",
     "exception": false,
     "start_time": "2022-11-03T00:50:28.948700",
     "status": "completed"
    },
    "tags": []
   },
   "outputs": [],
   "source": [
    "#hide\n",
    "g.index.name = 'date'"
   ]
  },
  {
   "cell_type": "code",
   "execution_count": 24,
   "id": "naked-donor",
   "metadata": {
    "execution": {
     "iopub.execute_input": "2022-11-03T00:50:29.053658Z",
     "iopub.status.busy": "2022-11-03T00:50:29.052954Z",
     "iopub.status.idle": "2022-11-03T00:50:29.056879Z",
     "shell.execute_reply": "2022-11-03T00:50:29.057322Z"
    },
    "papermill": {
     "duration": 0.039047,
     "end_time": "2022-11-03T00:50:29.057465",
     "exception": false,
     "start_time": "2022-11-03T00:50:29.018418",
     "status": "completed"
    },
    "tags": []
   },
   "outputs": [],
   "source": [
    "# #hide\n",
    "# g = g.reset_index(['date'])"
   ]
  },
  {
   "cell_type": "code",
   "execution_count": 25,
   "id": "incomplete-mustang",
   "metadata": {
    "execution": {
     "iopub.execute_input": "2022-11-03T00:50:29.123995Z",
     "iopub.status.busy": "2022-11-03T00:50:29.123288Z",
     "iopub.status.idle": "2022-11-03T00:50:29.125588Z",
     "shell.execute_reply": "2022-11-03T00:50:29.124936Z"
    },
    "papermill": {
     "duration": 0.03721,
     "end_time": "2022-11-03T00:50:29.125715",
     "exception": false,
     "start_time": "2022-11-03T00:50:29.088505",
     "status": "completed"
    },
    "tags": []
   },
   "outputs": [],
   "source": [
    "#hide\n",
    "# g.head()"
   ]
  },
  {
   "cell_type": "code",
   "execution_count": 26,
   "id": "specific-kruger",
   "metadata": {
    "execution": {
     "iopub.execute_input": "2022-11-03T00:50:29.192223Z",
     "iopub.status.busy": "2022-11-03T00:50:29.191500Z",
     "iopub.status.idle": "2022-11-03T00:50:29.194824Z",
     "shell.execute_reply": "2022-11-03T00:50:29.194156Z"
    },
    "papermill": {
     "duration": 0.038054,
     "end_time": "2022-11-03T00:50:29.194954",
     "exception": false,
     "start_time": "2022-11-03T00:50:29.156900",
     "status": "completed"
    },
    "tags": []
   },
   "outputs": [],
   "source": [
    "#hide\n",
    "# g.columns = ['date','country','cases']"
   ]
  },
  {
   "cell_type": "code",
   "execution_count": 27,
   "id": "tender-conversion",
   "metadata": {
    "execution": {
     "iopub.execute_input": "2022-11-03T00:50:29.261312Z",
     "iopub.status.busy": "2022-11-03T00:50:29.260706Z",
     "iopub.status.idle": "2022-11-03T00:50:29.263208Z",
     "shell.execute_reply": "2022-11-03T00:50:29.262695Z"
    },
    "papermill": {
     "duration": 0.037081,
     "end_time": "2022-11-03T00:50:29.263350",
     "exception": false,
     "start_time": "2022-11-03T00:50:29.226269",
     "status": "completed"
    },
    "tags": []
   },
   "outputs": [],
   "source": [
    "#hide\n",
    "# g['continent'] = g.country"
   ]
  },
  {
   "cell_type": "code",
   "execution_count": 28,
   "id": "substantial-wilderness",
   "metadata": {
    "execution": {
     "iopub.execute_input": "2022-11-03T00:50:29.329805Z",
     "iopub.status.busy": "2022-11-03T00:50:29.329090Z",
     "iopub.status.idle": "2022-11-03T00:50:29.331625Z",
     "shell.execute_reply": "2022-11-03T00:50:29.331115Z"
    },
    "papermill": {
     "duration": 0.037268,
     "end_time": "2022-11-03T00:50:29.331751",
     "exception": false,
     "start_time": "2022-11-03T00:50:29.294483",
     "status": "completed"
    },
    "tags": []
   },
   "outputs": [],
   "source": [
    "#hide\n",
    "# cols = list(g.columns.values)"
   ]
  },
  {
   "cell_type": "code",
   "execution_count": 29,
   "id": "solved-farming",
   "metadata": {
    "execution": {
     "iopub.execute_input": "2022-11-03T00:50:29.398253Z",
     "iopub.status.busy": "2022-11-03T00:50:29.397542Z",
     "iopub.status.idle": "2022-11-03T00:50:29.401558Z",
     "shell.execute_reply": "2022-11-03T00:50:29.402068Z"
    },
    "papermill": {
     "duration": 0.03942,
     "end_time": "2022-11-03T00:50:29.402234",
     "exception": false,
     "start_time": "2022-11-03T00:50:29.362814",
     "status": "completed"
    },
    "tags": []
   },
   "outputs": [],
   "source": [
    "#hide\n",
    "# cols.insert(0, cols.pop())"
   ]
  },
  {
   "cell_type": "code",
   "execution_count": 30,
   "id": "executed-adoption",
   "metadata": {
    "execution": {
     "iopub.execute_input": "2022-11-03T00:50:29.468567Z",
     "iopub.status.busy": "2022-11-03T00:50:29.467859Z",
     "iopub.status.idle": "2022-11-03T00:50:29.470236Z",
     "shell.execute_reply": "2022-11-03T00:50:29.469579Z"
    },
    "papermill": {
     "duration": 0.037054,
     "end_time": "2022-11-03T00:50:29.470363",
     "exception": false,
     "start_time": "2022-11-03T00:50:29.433309",
     "status": "completed"
    },
    "tags": []
   },
   "outputs": [],
   "source": [
    "#hide\n",
    "# g = g[cols]"
   ]
  },
  {
   "cell_type": "code",
   "execution_count": 31,
   "id": "subject-dublin",
   "metadata": {
    "execution": {
     "iopub.execute_input": "2022-11-03T00:50:29.536944Z",
     "iopub.status.busy": "2022-11-03T00:50:29.536246Z",
     "iopub.status.idle": "2022-11-03T00:50:29.538603Z",
     "shell.execute_reply": "2022-11-03T00:50:29.538109Z"
    },
    "papermill": {
     "duration": 0.037017,
     "end_time": "2022-11-03T00:50:29.538719",
     "exception": false,
     "start_time": "2022-11-03T00:50:29.501702",
     "status": "completed"
    },
    "tags": []
   },
   "outputs": [],
   "source": [
    "#hide\n",
    "# g['continent'] = g['continent'].map(mapping['map.continent'])"
   ]
  },
  {
   "cell_type": "code",
   "execution_count": 32,
   "id": "freelance-scout",
   "metadata": {
    "execution": {
     "iopub.execute_input": "2022-11-03T00:50:29.605260Z",
     "iopub.status.busy": "2022-11-03T00:50:29.604544Z",
     "iopub.status.idle": "2022-11-03T00:50:29.606805Z",
     "shell.execute_reply": "2022-11-03T00:50:29.606228Z"
    },
    "papermill": {
     "duration": 0.036921,
     "end_time": "2022-11-03T00:50:29.606932",
     "exception": false,
     "start_time": "2022-11-03T00:50:29.570011",
     "status": "completed"
    },
    "tags": []
   },
   "outputs": [],
   "source": [
    "#hide\n",
    "# g.head()"
   ]
  },
  {
   "cell_type": "code",
   "execution_count": 33,
   "id": "limited-engine",
   "metadata": {
    "execution": {
     "iopub.execute_input": "2022-11-03T00:50:29.673435Z",
     "iopub.status.busy": "2022-11-03T00:50:29.672841Z",
     "iopub.status.idle": "2022-11-03T00:50:29.675178Z",
     "shell.execute_reply": "2022-11-03T00:50:29.674711Z"
    },
    "papermill": {
     "duration": 0.037367,
     "end_time": "2022-11-03T00:50:29.675312",
     "exception": false,
     "start_time": "2022-11-03T00:50:29.637945",
     "status": "completed"
    },
    "tags": []
   },
   "outputs": [],
   "source": [
    "# hide\n",
    "# g['date'] = g['date'].astype('datetime64[ns]')"
   ]
  },
  {
   "cell_type": "code",
   "execution_count": 34,
   "id": "sophisticated-supervisor",
   "metadata": {
    "execution": {
     "iopub.execute_input": "2022-11-03T00:50:29.741780Z",
     "iopub.status.busy": "2022-11-03T00:50:29.741063Z",
     "iopub.status.idle": "2022-11-03T00:50:29.744920Z",
     "shell.execute_reply": "2022-11-03T00:50:29.745456Z"
    },
    "papermill": {
     "duration": 0.039169,
     "end_time": "2022-11-03T00:50:29.745612",
     "exception": false,
     "start_time": "2022-11-03T00:50:29.706443",
     "status": "completed"
    },
    "tags": []
   },
   "outputs": [],
   "source": [
    "#hide\n",
    "# g['date'] = g.date.dt.dayofyear"
   ]
  },
  {
   "cell_type": "code",
   "execution_count": 35,
   "id": "inside-dubai",
   "metadata": {
    "execution": {
     "iopub.execute_input": "2022-11-03T00:50:29.812197Z",
     "iopub.status.busy": "2022-11-03T00:50:29.811576Z",
     "iopub.status.idle": "2022-11-03T00:50:29.814146Z",
     "shell.execute_reply": "2022-11-03T00:50:29.813660Z"
    },
    "papermill": {
     "duration": 0.03714,
     "end_time": "2022-11-03T00:50:29.814259",
     "exception": false,
     "start_time": "2022-11-03T00:50:29.777119",
     "status": "completed"
    },
    "tags": []
   },
   "outputs": [],
   "source": [
    "#hide\n",
    "# g = g.rename(columns= {'continent':'group','country':'name','cases':'value'})"
   ]
  },
  {
   "cell_type": "code",
   "execution_count": 36,
   "id": "fleet-motorcycle",
   "metadata": {
    "execution": {
     "iopub.execute_input": "2022-11-03T00:50:29.880699Z",
     "iopub.status.busy": "2022-11-03T00:50:29.879987Z",
     "iopub.status.idle": "2022-11-03T00:50:29.881834Z",
     "shell.execute_reply": "2022-11-03T00:50:29.882353Z"
    },
    "papermill": {
     "duration": 0.037058,
     "end_time": "2022-11-03T00:50:29.882502",
     "exception": false,
     "start_time": "2022-11-03T00:50:29.845444",
     "status": "completed"
    },
    "tags": []
   },
   "outputs": [],
   "source": [
    "#hide\n",
    "# cols = ['name','group','day','value']"
   ]
  },
  {
   "cell_type": "code",
   "execution_count": 37,
   "id": "continued-sleeping",
   "metadata": {
    "execution": {
     "iopub.execute_input": "2022-11-03T00:50:29.948749Z",
     "iopub.status.busy": "2022-11-03T00:50:29.948048Z",
     "iopub.status.idle": "2022-11-03T00:50:29.950598Z",
     "shell.execute_reply": "2022-11-03T00:50:29.949939Z"
    },
    "papermill": {
     "duration": 0.037193,
     "end_time": "2022-11-03T00:50:29.950725",
     "exception": false,
     "start_time": "2022-11-03T00:50:29.913532",
     "status": "completed"
    },
    "tags": []
   },
   "outputs": [],
   "source": [
    "#hide\n",
    "# g.rename(columns= {'date':'day'},inplace = True)"
   ]
  },
  {
   "cell_type": "code",
   "execution_count": 38,
   "id": "major-fight",
   "metadata": {
    "execution": {
     "iopub.execute_input": "2022-11-03T00:50:30.018363Z",
     "iopub.status.busy": "2022-11-03T00:50:30.017712Z",
     "iopub.status.idle": "2022-11-03T00:50:30.020234Z",
     "shell.execute_reply": "2022-11-03T00:50:30.019645Z"
    },
    "papermill": {
     "duration": 0.037872,
     "end_time": "2022-11-03T00:50:30.020352",
     "exception": false,
     "start_time": "2022-11-03T00:50:29.982480",
     "status": "completed"
    },
    "tags": []
   },
   "outputs": [],
   "source": [
    "#hide\n",
    "# g = g[cols]"
   ]
  },
  {
   "cell_type": "code",
   "execution_count": 39,
   "id": "structured-mobile",
   "metadata": {
    "execution": {
     "iopub.execute_input": "2022-11-03T00:50:30.086616Z",
     "iopub.status.busy": "2022-11-03T00:50:30.085910Z",
     "iopub.status.idle": "2022-11-03T00:50:30.087719Z",
     "shell.execute_reply": "2022-11-03T00:50:30.088177Z"
    },
    "papermill": {
     "duration": 0.036961,
     "end_time": "2022-11-03T00:50:30.088311",
     "exception": false,
     "start_time": "2022-11-03T00:50:30.051350",
     "status": "completed"
    },
    "tags": []
   },
   "outputs": [],
   "source": [
    "# #hide\n",
    "# g = g[g.group.notna()]"
   ]
  },
  {
   "cell_type": "code",
   "execution_count": 40,
   "id": "determined-closing",
   "metadata": {
    "execution": {
     "iopub.execute_input": "2022-11-03T00:50:30.155096Z",
     "iopub.status.busy": "2022-11-03T00:50:30.154357Z",
     "iopub.status.idle": "2022-11-03T00:50:30.158569Z",
     "shell.execute_reply": "2022-11-03T00:50:30.159016Z"
    },
    "papermill": {
     "duration": 0.039636,
     "end_time": "2022-11-03T00:50:30.159159",
     "exception": false,
     "start_time": "2022-11-03T00:50:30.119523",
     "status": "completed"
    },
    "tags": []
   },
   "outputs": [],
   "source": [
    "# #hide\n",
    "# colors = dict(zip(\n",
    "#     [\"Oceania\", \"Europe\", \"Asia\", \"South America\", \"Middle East\", \"North America\", \"Africa\"],\n",
    "#     [\"#adb0ff\", \"#ffb3ff\", \"#90d595\", \"#e48381\", \"#aafbff\", \"#f7bb5f\", \"#eafb50\"]\n",
    "# ))\n",
    "# group_lk = g.set_index('name')['group'].to_dict()"
   ]
  },
  {
   "cell_type": "code",
   "execution_count": null,
   "id": "gross-drinking",
   "metadata": {
    "papermill": {
     "duration": 0.030918,
     "end_time": "2022-11-03T00:50:30.221019",
     "exception": false,
     "start_time": "2022-11-03T00:50:30.190101",
     "status": "completed"
    },
    "tags": []
   },
   "outputs": [],
   "source": []
  },
  {
   "cell_type": "code",
   "execution_count": 41,
   "id": "subject-macintosh",
   "metadata": {
    "execution": {
     "iopub.execute_input": "2022-11-03T00:50:30.287687Z",
     "iopub.status.busy": "2022-11-03T00:50:30.287031Z",
     "iopub.status.idle": "2022-11-03T00:50:30.289611Z",
     "shell.execute_reply": "2022-11-03T00:50:30.290069Z"
    },
    "papermill": {
     "duration": 0.038147,
     "end_time": "2022-11-03T00:50:30.290204",
     "exception": false,
     "start_time": "2022-11-03T00:50:30.252057",
     "status": "completed"
    },
    "tags": []
   },
   "outputs": [],
   "source": [
    "# #hide\n",
    "# fig, ax = plt.subplots(figsize=(15, 8))\n",
    "\n",
    "# def draw_barchart(current_day):\n",
    "#     dff = g[g['day'].eq(current_day)].sort_values(by='value', ascending=True).tail(10)\n",
    "#     ax.clear()\n",
    "#     ax.barh(dff['name'], dff['value'], color=[colors[group_lk[x]] for x in dff['name']])\n",
    "#     dx = dff['value'].max() / 200\n",
    "    \n",
    "#     for i, (value, name) in enumerate(zip(dff['value'], dff['name'])):\n",
    "#         ax.text(value-dx, i,     name,           size=14, weight=600, ha='right', va='bottom')\n",
    "#         ax.text(value-dx, i-.25, group_lk[name], size=10, color='#444444', ha='right', va='baseline')\n",
    "#         ax.text(value+dx, i,     f'{value:,.0f}',  size=14, ha='left',  va='center')\n",
    "#     ax.text(1, 0.4, current_day, transform=ax.transAxes, color='#777777', size=46, ha='right', weight=800)\n",
    "#     ax.text(0, 1.06, 'Population (thousands)', transform=ax.transAxes, size=12, color='#777777')\n",
    "#     ax.xaxis.set_major_formatter(ticker.StrMethodFormatter('{x:,.0f}'))\n",
    "#     ax.xaxis.set_ticks_position('top')\n",
    "#     ax.tick_params(axis='x', colors='#777777', labelsize=12)\n",
    "#     ax.set_yticks([])\n",
    "#     ax.margins(0, 0.01)\n",
    "#     ax.grid(which='major', axis='x', linestyle='-')\n",
    "#     ax.set_axisbelow(True)\n",
    "    \n",
    "#     ax.text(0, 1.15, 'Coronavirus',\n",
    "#             transform=ax.transAxes, size=24, weight=600, ha='left', va='top')\n",
    "# #     ax.text(1, 0, 'by @pratapvardhan; credit @jburnmurdoch', transform=ax.transAxes, color='#777777', ha='right',\n",
    "# #             bbox=dict(facecolor='white', alpha=0.8, edgecolor='white'))\n",
    "#     plt.box(False)"
   ]
  },
  {
   "cell_type": "code",
   "execution_count": 42,
   "id": "sexual-wages",
   "metadata": {
    "execution": {
     "iopub.execute_input": "2022-11-03T00:50:30.356229Z",
     "iopub.status.busy": "2022-11-03T00:50:30.355506Z",
     "iopub.status.idle": "2022-11-03T00:50:30.357227Z",
     "shell.execute_reply": "2022-11-03T00:50:30.357768Z"
    },
    "papermill": {
     "duration": 0.03681,
     "end_time": "2022-11-03T00:50:30.357912",
     "exception": false,
     "start_time": "2022-11-03T00:50:30.321102",
     "status": "completed"
    },
    "tags": []
   },
   "outputs": [],
   "source": [
    "# #hide_input\n",
    "# fig, ax = plt.subplots(figsize=(15, 8))\n",
    "# animator = animation.FuncAnimation(fig, draw_barchart, frames=range(g.day.values.min(), g.day.values.max()))\n",
    "# HTML(animator.to_jshtml())\n",
    "# # or use animator.to_html5_video() or animator.save() "
   ]
  },
  {
   "cell_type": "code",
   "execution_count": null,
   "id": "australian-container",
   "metadata": {
    "papermill": {
     "duration": 0.030831,
     "end_time": "2022-11-03T00:50:30.420407",
     "exception": false,
     "start_time": "2022-11-03T00:50:30.389576",
     "status": "completed"
    },
    "tags": []
   },
   "outputs": [],
   "source": []
  },
  {
   "cell_type": "code",
   "execution_count": null,
   "id": "mediterranean-pontiac",
   "metadata": {
    "papermill": {
     "duration": 0.03094,
     "end_time": "2022-11-03T00:50:30.482350",
     "exception": false,
     "start_time": "2022-11-03T00:50:30.451410",
     "status": "completed"
    },
    "tags": []
   },
   "outputs": [],
   "source": []
  },
  {
   "cell_type": "code",
   "execution_count": null,
   "id": "aging-legislature",
   "metadata": {
    "papermill": {
     "duration": 0.030865,
     "end_time": "2022-11-03T00:50:30.544349",
     "exception": false,
     "start_time": "2022-11-03T00:50:30.513484",
     "status": "completed"
    },
    "tags": []
   },
   "outputs": [],
   "source": []
  }
 ],
 "metadata": {
  "kernelspec": {
   "display_name": "Python 3",
   "language": "python",
   "name": "python3"
  },
  "language_info": {
   "codemirror_mode": {
    "name": "ipython",
    "version": 3
   },
   "file_extension": ".py",
   "mimetype": "text/x-python",
   "name": "python",
   "nbconvert_exporter": "python",
   "pygments_lexer": "ipython3",
   "version": "3.6.15"
  },
  "papermill": {
   "duration": 6.344196,
   "end_time": "2022-11-03T00:50:30.993656",
   "environment_variables": {},
   "exception": null,
   "input_path": "2020-03-21-covid19exp.ipynb",
   "output_path": "2020-03-21-covid19exp.ipynb",
   "parameters": {},
   "start_time": "2022-11-03T00:50:24.649460",
   "version": "2.0.0"
  }
 },
 "nbformat": 4,
 "nbformat_minor": 5
}