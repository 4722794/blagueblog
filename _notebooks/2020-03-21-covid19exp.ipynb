{
 "cells": [
  {
   "cell_type": "markdown",
   "id": "muslim-click",
   "metadata": {
    "papermill": {
     "duration": 0.041641,
     "end_time": "2021-12-16T00:25:10.390047",
     "exception": false,
     "start_time": "2021-12-16T00:25:10.348406",
     "status": "completed"
    },
    "tags": []
   },
   "source": [
    "# COVID-19 Case Race\n",
    "> A race chart to see rising cases around the world\n",
    "\n",
    "- author: Hargun Oberoi\n",
    "- image: images/covid-overview.png\n",
    "- hide: false\n",
    "- badges: false"
   ]
  },
  {
   "cell_type": "code",
   "execution_count": 1,
   "id": "proof-material",
   "metadata": {
    "execution": {
     "iopub.execute_input": "2021-12-16T00:25:10.469468Z",
     "iopub.status.busy": "2021-12-16T00:25:10.468800Z",
     "iopub.status.idle": "2021-12-16T00:25:10.863900Z",
     "shell.execute_reply": "2021-12-16T00:25:10.862987Z"
    },
    "papermill": {
     "duration": 0.439676,
     "end_time": "2021-12-16T00:25:10.864137",
     "exception": false,
     "start_time": "2021-12-16T00:25:10.424461",
     "status": "completed"
    },
    "tags": []
   },
   "outputs": [],
   "source": [
    "#hide\n",
    "import numpy as np\n",
    "import pandas as pd\n",
    "from jinja2 import Template\n",
    "from IPython.display import HTML"
   ]
  },
  {
   "cell_type": "code",
   "execution_count": 2,
   "id": "developed-terminology",
   "metadata": {
    "execution": {
     "iopub.execute_input": "2021-12-16T00:25:10.940536Z",
     "iopub.status.busy": "2021-12-16T00:25:10.939897Z",
     "iopub.status.idle": "2021-12-16T00:25:10.942657Z",
     "shell.execute_reply": "2021-12-16T00:25:10.942171Z"
    },
    "papermill": {
     "duration": 0.043044,
     "end_time": "2021-12-16T00:25:10.942787",
     "exception": false,
     "start_time": "2021-12-16T00:25:10.899743",
     "status": "completed"
    },
    "tags": []
   },
   "outputs": [],
   "source": [
    "#hide\n",
    "\n",
    "# FETCH\n",
    "base_url = 'https://raw.githubusercontent.com/pratapvardhan/notebooks/master/covid19/'\n",
    "paths = {\n",
    "    'mapping': base_url + 'mapping_countries.csv',\n",
    "    'overview': base_url + 'overview.tpl'\n",
    "}"
   ]
  },
  {
   "cell_type": "code",
   "execution_count": 3,
   "id": "dynamic-saver",
   "metadata": {
    "execution": {
     "iopub.execute_input": "2021-12-16T00:25:11.021320Z",
     "iopub.status.busy": "2021-12-16T00:25:11.020689Z",
     "iopub.status.idle": "2021-12-16T00:25:11.024252Z",
     "shell.execute_reply": "2021-12-16T00:25:11.023747Z"
    },
    "papermill": {
     "duration": 0.047792,
     "end_time": "2021-12-16T00:25:11.024378",
     "exception": false,
     "start_time": "2021-12-16T00:25:10.976586",
     "status": "completed"
    },
    "tags": []
   },
   "outputs": [
    {
     "data": {
      "text/plain": [
       "'https://raw.githubusercontent.com/pratapvardhan/notebooks/master/covid19/mapping_countries.csv'"
      ]
     },
     "execution_count": 3,
     "metadata": {},
     "output_type": "execute_result"
    }
   ],
   "source": [
    "#hide\n",
    "paths['mapping']"
   ]
  },
  {
   "cell_type": "code",
   "execution_count": 4,
   "id": "urban-software",
   "metadata": {
    "execution": {
     "iopub.execute_input": "2021-12-16T00:25:11.101233Z",
     "iopub.status.busy": "2021-12-16T00:25:11.100591Z",
     "iopub.status.idle": "2021-12-16T00:25:11.103337Z",
     "shell.execute_reply": "2021-12-16T00:25:11.103907Z"
    },
    "papermill": {
     "duration": 0.04541,
     "end_time": "2021-12-16T00:25:11.104053",
     "exception": false,
     "start_time": "2021-12-16T00:25:11.058643",
     "status": "completed"
    },
    "tags": []
   },
   "outputs": [],
   "source": [
    "#hide\n",
    "def get_mappings(url):\n",
    "    df = pd.read_csv(url)\n",
    "    return {\n",
    "        'df': df,\n",
    "        'replace.country': dict(df.dropna(subset=['Name']).set_index('Country')['Name']),\n",
    "        'map.continent': dict(df.set_index('Name')['Continent'])\n",
    "    }"
   ]
  },
  {
   "cell_type": "code",
   "execution_count": 5,
   "id": "intimate-machinery",
   "metadata": {
    "execution": {
     "iopub.execute_input": "2021-12-16T00:25:11.178150Z",
     "iopub.status.busy": "2021-12-16T00:25:11.177546Z",
     "iopub.status.idle": "2021-12-16T00:25:11.219802Z",
     "shell.execute_reply": "2021-12-16T00:25:11.220678Z"
    },
    "papermill": {
     "duration": 0.082775,
     "end_time": "2021-12-16T00:25:11.220943",
     "exception": false,
     "start_time": "2021-12-16T00:25:11.138168",
     "status": "completed"
    },
    "tags": []
   },
   "outputs": [],
   "source": [
    "#hide\n",
    "mapping = get_mappings(paths['mapping'])"
   ]
  },
  {
   "cell_type": "code",
   "execution_count": 6,
   "id": "certified-tactics",
   "metadata": {
    "execution": {
     "iopub.execute_input": "2021-12-16T00:25:11.297047Z",
     "iopub.status.busy": "2021-12-16T00:25:11.296367Z",
     "iopub.status.idle": "2021-12-16T00:25:11.300883Z",
     "shell.execute_reply": "2021-12-16T00:25:11.301349Z"
    },
    "papermill": {
     "duration": 0.044771,
     "end_time": "2021-12-16T00:25:11.301507",
     "exception": false,
     "start_time": "2021-12-16T00:25:11.256736",
     "status": "completed"
    },
    "tags": []
   },
   "outputs": [],
   "source": [
    "#hide\n",
    "def get_template(path):\n",
    "    from urllib.parse import urlparse\n",
    "    if bool(urlparse(path).netloc):\n",
    "        from urllib.request import urlopen\n",
    "        return urlopen(path).read().decode('utf8')\n",
    "    return open(path).read()"
   ]
  },
  {
   "cell_type": "code",
   "execution_count": 7,
   "id": "realistic-blast",
   "metadata": {
    "execution": {
     "iopub.execute_input": "2021-12-16T00:25:11.375859Z",
     "iopub.status.busy": "2021-12-16T00:25:11.375142Z",
     "iopub.status.idle": "2021-12-16T00:25:11.376811Z",
     "shell.execute_reply": "2021-12-16T00:25:11.377383Z"
    },
    "papermill": {
     "duration": 0.041814,
     "end_time": "2021-12-16T00:25:11.377535",
     "exception": false,
     "start_time": "2021-12-16T00:25:11.335721",
     "status": "completed"
    },
    "tags": []
   },
   "outputs": [],
   "source": [
    "#hide\n",
    "def get_frame(name):\n",
    "    url = (\n",
    "        'https://raw.githubusercontent.com/CSSEGISandData/COVID-19/master/csse_covid_19_data/'\n",
    "        f'csse_covid_19_time_series/time_series_covid19_{name}_global.csv')\n",
    "    df = pd.read_csv(url)\n",
    "    # rename countries\n",
    "    df['Country/Region'] = df['Country/Region'].replace(mapping['replace.country'])\n",
    "    return df"
   ]
  },
  {
   "cell_type": "code",
   "execution_count": 8,
   "id": "affiliated-characterization",
   "metadata": {
    "execution": {
     "iopub.execute_input": "2021-12-16T00:25:11.462680Z",
     "iopub.status.busy": "2021-12-16T00:25:11.462016Z",
     "iopub.status.idle": "2021-12-16T00:25:11.465865Z",
     "shell.execute_reply": "2021-12-16T00:25:11.466391Z"
    },
    "papermill": {
     "duration": 0.051175,
     "end_time": "2021-12-16T00:25:11.466545",
     "exception": false,
     "start_time": "2021-12-16T00:25:11.415370",
     "status": "completed"
    },
    "tags": []
   },
   "outputs": [],
   "source": [
    "#hide\n",
    "def get_dates(df):\n",
    "    dt_cols = df.columns[~df.columns.isin(['Province/State', 'Country/Region', 'Lat', 'Long'])]\n",
    "    LAST_DATE_I = -1\n",
    "    # sometimes last column may be empty, then go backwards\n",
    "    for i in range(-1, -len(dt_cols), -1):\n",
    "        if not df[dt_cols[i]].fillna(0).eq(0).all():\n",
    "            LAST_DATE_I = i\n",
    "            break\n",
    "    return LAST_DATE_I, dt_cols"
   ]
  },
  {
   "cell_type": "code",
   "execution_count": 9,
   "id": "recent-optimization",
   "metadata": {
    "execution": {
     "iopub.execute_input": "2021-12-16T00:25:11.543908Z",
     "iopub.status.busy": "2021-12-16T00:25:11.543281Z",
     "iopub.status.idle": "2021-12-16T00:25:11.882194Z",
     "shell.execute_reply": "2021-12-16T00:25:11.881029Z"
    },
    "papermill": {
     "duration": 0.38164,
     "end_time": "2021-12-16T00:25:11.882343",
     "exception": false,
     "start_time": "2021-12-16T00:25:11.500703",
     "status": "completed"
    },
    "tags": []
   },
   "outputs": [],
   "source": [
    "#hide\n",
    "COL_REGION = 'Country/Region'\n",
    "# Confirmed, Recovered, Deaths\n",
    "df = get_frame('confirmed')\n",
    "# dft_: timeseries, dfc_: today country agg\n",
    "dft_cases = df\n",
    "dft_deaths = get_frame('deaths')\n",
    "dft_recovered = get_frame('recovered')\n",
    "LAST_DATE_I, dt_cols = get_dates(df)"
   ]
  },
  {
   "cell_type": "code",
   "execution_count": 10,
   "id": "absolute-copper",
   "metadata": {
    "execution": {
     "iopub.execute_input": "2021-12-16T00:25:11.957541Z",
     "iopub.status.busy": "2021-12-16T00:25:11.956880Z",
     "iopub.status.idle": "2021-12-16T00:25:11.958541Z",
     "shell.execute_reply": "2021-12-16T00:25:11.959021Z"
    },
    "papermill": {
     "duration": 0.042347,
     "end_time": "2021-12-16T00:25:11.959175",
     "exception": false,
     "start_time": "2021-12-16T00:25:11.916828",
     "status": "completed"
    },
    "tags": []
   },
   "outputs": [],
   "source": [
    "#hide\n",
    "LAST_DATE_I, dt_cols = get_dates(df)\n",
    "dt_today =dt_cols[LAST_DATE_I]\n",
    "# dt_5day = dt_cols[LAST_DATE_I - 5]\n",
    "dt_yday = dt_cols[LAST_DATE_I - 1]"
   ]
  },
  {
   "cell_type": "code",
   "execution_count": 11,
   "id": "restricted-sheriff",
   "metadata": {
    "execution": {
     "iopub.execute_input": "2021-12-16T00:25:12.033428Z",
     "iopub.status.busy": "2021-12-16T00:25:12.032806Z",
     "iopub.status.idle": "2021-12-16T00:25:12.042349Z",
     "shell.execute_reply": "2021-12-16T00:25:12.041837Z"
    },
    "papermill": {
     "duration": 0.049243,
     "end_time": "2021-12-16T00:25:12.042484",
     "exception": false,
     "start_time": "2021-12-16T00:25:11.993241",
     "status": "completed"
    },
    "tags": []
   },
   "outputs": [],
   "source": [
    "#hide\n",
    "dfc_cases = dft_cases.groupby(COL_REGION)[dt_today].sum()\n",
    "dfc_deaths = dft_deaths.groupby(COL_REGION)[dt_today].sum()\n",
    "# dfp_cases = dft_cases.groupby(COL_REGION)[dt_5day].sum()\n",
    "# dfp_deaths = dft_deaths.groupby(COL_REGION)[dt_5day].sum()\n",
    "dfp_cases = dft_cases.groupby(COL_REGION)[dt_yday].sum()\n",
    "dfp_deaths = dft_deaths.groupby(COL_REGION)[dt_yday].sum()"
   ]
  },
  {
   "cell_type": "code",
   "execution_count": 12,
   "id": "deluxe-hepatitis",
   "metadata": {
    "execution": {
     "iopub.execute_input": "2021-12-16T00:25:12.119189Z",
     "iopub.status.busy": "2021-12-16T00:25:12.118577Z",
     "iopub.status.idle": "2021-12-16T00:25:12.125697Z",
     "shell.execute_reply": "2021-12-16T00:25:12.125184Z"
    },
    "papermill": {
     "duration": 0.048993,
     "end_time": "2021-12-16T00:25:12.125826",
     "exception": false,
     "start_time": "2021-12-16T00:25:12.076833",
     "status": "completed"
    },
    "tags": []
   },
   "outputs": [],
   "source": [
    "#hide\n",
    "df_table = (pd.DataFrame(dict(Cases = dfc_cases, Deaths = dfc_deaths, PCases = dfp_cases, PDeaths = dfp_deaths))\n",
    "            .sort_values(by = ['Cases','Deaths'], ascending = [False, False])\n",
    "            .reset_index())"
   ]
  },
  {
   "cell_type": "code",
   "execution_count": 13,
   "id": "educational-chancellor",
   "metadata": {
    "execution": {
     "iopub.execute_input": "2021-12-16T00:25:12.215665Z",
     "iopub.status.busy": "2021-12-16T00:25:12.215033Z",
     "iopub.status.idle": "2021-12-16T00:25:12.223538Z",
     "shell.execute_reply": "2021-12-16T00:25:12.223050Z"
    },
    "papermill": {
     "duration": 0.063804,
     "end_time": "2021-12-16T00:25:12.223672",
     "exception": false,
     "start_time": "2021-12-16T00:25:12.159868",
     "status": "completed"
    },
    "tags": []
   },
   "outputs": [
    {
     "data": {
      "text/html": [
       "<div>\n",
       "<style scoped>\n",
       "    .dataframe tbody tr th:only-of-type {\n",
       "        vertical-align: middle;\n",
       "    }\n",
       "\n",
       "    .dataframe tbody tr th {\n",
       "        vertical-align: top;\n",
       "    }\n",
       "\n",
       "    .dataframe thead th {\n",
       "        text-align: right;\n",
       "    }\n",
       "</style>\n",
       "<table border=\"1\" class=\"dataframe\">\n",
       "  <thead>\n",
       "    <tr style=\"text-align: right;\">\n",
       "      <th></th>\n",
       "      <th>Country/Region</th>\n",
       "      <th>Cases</th>\n",
       "      <th>Deaths</th>\n",
       "      <th>PCases</th>\n",
       "      <th>PDeaths</th>\n",
       "      <th>Cases (+)</th>\n",
       "      <th>Deaths (+)</th>\n",
       "      <th>Fatality Rate</th>\n",
       "      <th>Continent</th>\n",
       "    </tr>\n",
       "  </thead>\n",
       "  <tbody>\n",
       "    <tr>\n",
       "      <th>0</th>\n",
       "      <td>US</td>\n",
       "      <td>50233338</td>\n",
       "      <td>800343</td>\n",
       "      <td>50119589</td>\n",
       "      <td>798714</td>\n",
       "      <td>113749</td>\n",
       "      <td>1629</td>\n",
       "      <td>1.59</td>\n",
       "      <td>North America</td>\n",
       "    </tr>\n",
       "    <tr>\n",
       "      <th>1</th>\n",
       "      <td>India</td>\n",
       "      <td>34710628</td>\n",
       "      <td>476135</td>\n",
       "      <td>34703644</td>\n",
       "      <td>475888</td>\n",
       "      <td>6984</td>\n",
       "      <td>247</td>\n",
       "      <td>1.37</td>\n",
       "      <td>Asia</td>\n",
       "    </tr>\n",
       "    <tr>\n",
       "      <th>2</th>\n",
       "      <td>Brazil</td>\n",
       "      <td>22195775</td>\n",
       "      <td>616970</td>\n",
       "      <td>22177059</td>\n",
       "      <td>616457</td>\n",
       "      <td>18716</td>\n",
       "      <td>513</td>\n",
       "      <td>2.78</td>\n",
       "      <td>South America</td>\n",
       "    </tr>\n",
       "    <tr>\n",
       "      <th>3</th>\n",
       "      <td>United Kingdom</td>\n",
       "      <td>10995311</td>\n",
       "      <td>147085</td>\n",
       "      <td>10935244</td>\n",
       "      <td>146935</td>\n",
       "      <td>60067</td>\n",
       "      <td>150</td>\n",
       "      <td>1.34</td>\n",
       "      <td>Europe</td>\n",
       "    </tr>\n",
       "    <tr>\n",
       "      <th>4</th>\n",
       "      <td>Russia</td>\n",
       "      <td>9899139</td>\n",
       "      <td>286023</td>\n",
       "      <td>9871229</td>\n",
       "      <td>284909</td>\n",
       "      <td>27910</td>\n",
       "      <td>1114</td>\n",
       "      <td>2.89</td>\n",
       "      <td>Europe</td>\n",
       "    </tr>\n",
       "  </tbody>\n",
       "</table>\n",
       "</div>"
      ],
      "text/plain": [
       "   Country/Region     Cases  Deaths    PCases  PDeaths  Cases (+)  Deaths (+)  \\\n",
       "0              US  50233338  800343  50119589   798714     113749        1629   \n",
       "1           India  34710628  476135  34703644   475888       6984         247   \n",
       "2          Brazil  22195775  616970  22177059   616457      18716         513   \n",
       "3  United Kingdom  10995311  147085  10935244   146935      60067         150   \n",
       "4          Russia   9899139  286023   9871229   284909      27910        1114   \n",
       "\n",
       "   Fatality Rate      Continent  \n",
       "0           1.59  North America  \n",
       "1           1.37           Asia  \n",
       "2           2.78  South America  \n",
       "3           1.34         Europe  \n",
       "4           2.89         Europe  "
      ]
     },
     "execution_count": 13,
     "metadata": {},
     "output_type": "execute_result"
    }
   ],
   "source": [
    "#hide\n",
    "for c in 'Cases, Deaths'.split(', '):\n",
    "    df_table[f'{c} (+)'] = (df_table[c] - df_table[f'P{c}']).clip(0)\n",
    "    #Clip ça veut dire, les chiffres negatif sont interdit\n",
    "df_table['Fatality Rate'] = (100* df_table['Deaths']/ df_table['Cases']).round(2)\n",
    "df_table['Continent'] = df_table['Country/Region'].map(mapping['map.continent'])\n",
    "df_table.head(5)"
   ]
  },
  {
   "cell_type": "code",
   "execution_count": 14,
   "id": "aboriginal-bulgaria",
   "metadata": {
    "execution": {
     "iopub.execute_input": "2021-12-16T00:25:12.300200Z",
     "iopub.status.busy": "2021-12-16T00:25:12.299595Z",
     "iopub.status.idle": "2021-12-16T00:25:12.302660Z",
     "shell.execute_reply": "2021-12-16T00:25:12.302177Z"
    },
    "papermill": {
     "duration": 0.044326,
     "end_time": "2021-12-16T00:25:12.302790",
     "exception": false,
     "start_time": "2021-12-16T00:25:12.258464",
     "status": "completed"
    },
    "tags": []
   },
   "outputs": [],
   "source": [
    "#hide\n",
    "#delete problematic countries from table\n",
    "df_table = df_table[~df_table['Country/Region'].isin(['Cape Verde', 'Cruise Ship', 'Kosovo'])]"
   ]
  },
  {
   "cell_type": "code",
   "execution_count": 15,
   "id": "fantastic-effect",
   "metadata": {
    "execution": {
     "iopub.execute_input": "2021-12-16T00:25:12.381799Z",
     "iopub.status.busy": "2021-12-16T00:25:12.381187Z",
     "iopub.status.idle": "2021-12-16T00:25:12.404365Z",
     "shell.execute_reply": "2021-12-16T00:25:12.405061Z"
    },
    "papermill": {
     "duration": 0.068061,
     "end_time": "2021-12-16T00:25:12.405232",
     "exception": false,
     "start_time": "2021-12-16T00:25:12.337171",
     "status": "completed"
    },
    "tags": []
   },
   "outputs": [
    {
     "data": {
      "text/html": [
       "<div>\n",
       "<style scoped>\n",
       "    .dataframe tbody tr th:only-of-type {\n",
       "        vertical-align: middle;\n",
       "    }\n",
       "\n",
       "    .dataframe tbody tr th {\n",
       "        vertical-align: top;\n",
       "    }\n",
       "\n",
       "    .dataframe thead th {\n",
       "        text-align: right;\n",
       "    }\n",
       "</style>\n",
       "<table border=\"1\" class=\"dataframe\">\n",
       "  <thead>\n",
       "    <tr style=\"text-align: right;\">\n",
       "      <th></th>\n",
       "      <th>Country/Region</th>\n",
       "      <th>Cases</th>\n",
       "      <th>Deaths</th>\n",
       "      <th>PCases</th>\n",
       "      <th>PDeaths</th>\n",
       "      <th>Cases (+)</th>\n",
       "      <th>Deaths (+)</th>\n",
       "      <th>Fatality Rate</th>\n",
       "      <th>Continent</th>\n",
       "    </tr>\n",
       "  </thead>\n",
       "  <tbody>\n",
       "    <tr>\n",
       "      <th>0</th>\n",
       "      <td>US</td>\n",
       "      <td>50233338</td>\n",
       "      <td>800343</td>\n",
       "      <td>50119589</td>\n",
       "      <td>798714</td>\n",
       "      <td>113749</td>\n",
       "      <td>1629</td>\n",
       "      <td>1.6</td>\n",
       "      <td>North America</td>\n",
       "    </tr>\n",
       "    <tr>\n",
       "      <th>1</th>\n",
       "      <td>India</td>\n",
       "      <td>34710628</td>\n",
       "      <td>476135</td>\n",
       "      <td>34703644</td>\n",
       "      <td>475888</td>\n",
       "      <td>6984</td>\n",
       "      <td>247</td>\n",
       "      <td>1.4</td>\n",
       "      <td>Asia</td>\n",
       "    </tr>\n",
       "    <tr>\n",
       "      <th>2</th>\n",
       "      <td>Brazil</td>\n",
       "      <td>22195775</td>\n",
       "      <td>616970</td>\n",
       "      <td>22177059</td>\n",
       "      <td>616457</td>\n",
       "      <td>18716</td>\n",
       "      <td>513</td>\n",
       "      <td>2.8</td>\n",
       "      <td>South America</td>\n",
       "    </tr>\n",
       "    <tr>\n",
       "      <th>3</th>\n",
       "      <td>United Kingdom</td>\n",
       "      <td>10995311</td>\n",
       "      <td>147085</td>\n",
       "      <td>10935244</td>\n",
       "      <td>146935</td>\n",
       "      <td>60067</td>\n",
       "      <td>150</td>\n",
       "      <td>1.3</td>\n",
       "      <td>Europe</td>\n",
       "    </tr>\n",
       "    <tr>\n",
       "      <th>4</th>\n",
       "      <td>Russia</td>\n",
       "      <td>9899139</td>\n",
       "      <td>286023</td>\n",
       "      <td>9871229</td>\n",
       "      <td>284909</td>\n",
       "      <td>27910</td>\n",
       "      <td>1114</td>\n",
       "      <td>2.9</td>\n",
       "      <td>Europe</td>\n",
       "    </tr>\n",
       "  </tbody>\n",
       "</table>\n",
       "</div>"
      ],
      "text/plain": [
       "   Country/Region     Cases  Deaths    PCases  PDeaths  Cases (+)  Deaths (+)  \\\n",
       "0              US  50233338  800343  50119589   798714     113749        1629   \n",
       "1           India  34710628  476135  34703644   475888       6984         247   \n",
       "2          Brazil  22195775  616970  22177059   616457      18716         513   \n",
       "3  United Kingdom  10995311  147085  10935244   146935      60067         150   \n",
       "4          Russia   9899139  286023   9871229   284909      27910        1114   \n",
       "\n",
       "   Fatality Rate      Continent  \n",
       "0            1.6  North America  \n",
       "1            1.4           Asia  \n",
       "2            2.8  South America  \n",
       "3            1.3         Europe  \n",
       "4            2.9         Europe  "
      ]
     },
     "execution_count": 15,
     "metadata": {},
     "output_type": "execute_result"
    }
   ],
   "source": [
    "#hide\n",
    "df_table = (pd.DataFrame(dict(Cases=dfc_cases, Deaths=dfc_deaths, PCases=dfp_cases, PDeaths=dfp_deaths))\n",
    "             .sort_values(by=['Cases', 'Deaths'], ascending=[False, False])\n",
    "             .reset_index())\n",
    "df_table.rename(columns={'index': 'Country/Region'}, inplace=True)\n",
    "for c in 'Cases, Deaths'.split(', '):\n",
    "    df_table[f'{c} (+)'] = (df_table[c] - df_table[f'P{c}']).clip(0)  # DATA BUG\n",
    "df_table['Fatality Rate'] = (100 * df_table['Deaths'] / df_table['Cases']).round(1)\n",
    "df_table['Continent'] = df_table['Country/Region'].map(mapping['map.continent'])\n",
    "df_table.head(5)"
   ]
  },
  {
   "cell_type": "code",
   "execution_count": 16,
   "id": "fewer-occasion",
   "metadata": {
    "execution": {
     "iopub.execute_input": "2021-12-16T00:25:12.483154Z",
     "iopub.status.busy": "2021-12-16T00:25:12.482537Z",
     "iopub.status.idle": "2021-12-16T00:25:12.486292Z",
     "shell.execute_reply": "2021-12-16T00:25:12.486776Z"
    },
    "papermill": {
     "duration": 0.045941,
     "end_time": "2021-12-16T00:25:12.486930",
     "exception": false,
     "start_time": "2021-12-16T00:25:12.440989",
     "status": "completed"
    },
    "tags": []
   },
   "outputs": [],
   "source": [
    "#hide\n",
    "#delete problematic countries from table\n",
    "df_table = df_table[~df_table['Country/Region'].isin(['Cape Verde', 'Cruise Ship', 'Kosovo'])]"
   ]
  },
  {
   "cell_type": "code",
   "execution_count": 17,
   "id": "related-center",
   "metadata": {
    "execution": {
     "iopub.execute_input": "2021-12-16T00:25:12.581145Z",
     "iopub.status.busy": "2021-12-16T00:25:12.564763Z",
     "iopub.status.idle": "2021-12-16T00:25:12.583663Z",
     "shell.execute_reply": "2021-12-16T00:25:12.583166Z"
    },
    "papermill": {
     "duration": 0.06195,
     "end_time": "2021-12-16T00:25:12.583798",
     "exception": false,
     "start_time": "2021-12-16T00:25:12.521848",
     "status": "completed"
    },
    "tags": []
   },
   "outputs": [],
   "source": [
    "#hide\n",
    "metrics = [df_table.columns[index] for index in [1,2,5,6]]\n",
    "# s_china = df_table[df_table['Country/Region'].eq('China')][metrics].sum().add_prefix('China ')\n",
    "s_us = df_table[df_table['Country/Region'].eq('US')][metrics].sum().add_prefix('US ')\n",
    "s_eu = df_table[df_table['Continent'].eq('Europe')][metrics].sum().add_prefix('EU ')\n",
    "s_ind = df_table[df_table['Country/Region'].eq('India')][metrics].sum().add_prefix('India ')\n",
    "summary = {'updated': pd.to_datetime(dt_today), 'since': pd.to_datetime(dt_yday)}\n",
    "summary = {'updated': pd.to_datetime(dt_today), 'since': pd.to_datetime(dt_yday)}\n",
    "summary = {**summary, **df_table[metrics].sum(), **s_ind, **s_us, **s_eu}"
   ]
  },
  {
   "cell_type": "code",
   "execution_count": 18,
   "id": "engaging-syndrome",
   "metadata": {
    "execution": {
     "iopub.execute_input": "2021-12-16T00:25:12.661681Z",
     "iopub.status.busy": "2021-12-16T00:25:12.661045Z",
     "iopub.status.idle": "2021-12-16T00:25:12.676978Z",
     "shell.execute_reply": "2021-12-16T00:25:12.676415Z"
    },
    "papermill": {
     "duration": 0.057912,
     "end_time": "2021-12-16T00:25:12.677120",
     "exception": false,
     "start_time": "2021-12-16T00:25:12.619208",
     "status": "completed"
    },
    "tags": []
   },
   "outputs": [],
   "source": [
    "#hide\n",
    "dft_ct_new_cases = dft_cases.groupby(COL_REGION)[dt_cols].sum().diff(axis=1).fillna(0).astype(int)"
   ]
  },
  {
   "cell_type": "code",
   "execution_count": 19,
   "id": "neutral-assignment",
   "metadata": {
    "execution": {
     "iopub.execute_input": "2021-12-16T00:25:12.754955Z",
     "iopub.status.busy": "2021-12-16T00:25:12.754335Z",
     "iopub.status.idle": "2021-12-16T00:25:12.757413Z",
     "shell.execute_reply": "2021-12-16T00:25:12.756395Z"
    },
    "papermill": {
     "duration": 0.045538,
     "end_time": "2021-12-16T00:25:12.757557",
     "exception": false,
     "start_time": "2021-12-16T00:25:12.712019",
     "status": "completed"
    },
    "tags": []
   },
   "outputs": [],
   "source": [
    "#hide\n",
    "everydaycases = dft_ct_new_cases.cumsum(axis=1)"
   ]
  },
  {
   "cell_type": "code",
   "execution_count": 20,
   "id": "parliamentary-calgary",
   "metadata": {
    "execution": {
     "iopub.execute_input": "2021-12-16T00:25:12.842467Z",
     "iopub.status.busy": "2021-12-16T00:25:12.841835Z",
     "iopub.status.idle": "2021-12-16T00:25:13.617858Z",
     "shell.execute_reply": "2021-12-16T00:25:13.617319Z"
    },
    "papermill": {
     "duration": 0.818937,
     "end_time": "2021-12-16T00:25:13.617997",
     "exception": false,
     "start_time": "2021-12-16T00:25:12.799060",
     "status": "completed"
    },
    "tags": []
   },
   "outputs": [],
   "source": [
    "#hide\n",
    "import pandas as pd\n",
    "import matplotlib.pyplot as plt\n",
    "import matplotlib.ticker as ticker\n",
    "import matplotlib.animation as animation\n",
    "from IPython.display import HTML"
   ]
  },
  {
   "cell_type": "code",
   "execution_count": 21,
   "id": "lasting-extraction",
   "metadata": {
    "execution": {
     "iopub.execute_input": "2021-12-16T00:25:13.695114Z",
     "iopub.status.busy": "2021-12-16T00:25:13.694492Z",
     "iopub.status.idle": "2021-12-16T00:25:13.701513Z",
     "shell.execute_reply": "2021-12-16T00:25:13.701011Z"
    },
    "papermill": {
     "duration": 0.048665,
     "end_time": "2021-12-16T00:25:13.701648",
     "exception": false,
     "start_time": "2021-12-16T00:25:13.652983",
     "status": "completed"
    },
    "tags": []
   },
   "outputs": [],
   "source": [
    "#hide\n",
    "t = everydaycases.stack()"
   ]
  },
  {
   "cell_type": "code",
   "execution_count": 22,
   "id": "premier-sleeve",
   "metadata": {
    "execution": {
     "iopub.execute_input": "2021-12-16T00:25:13.778649Z",
     "iopub.status.busy": "2021-12-16T00:25:13.778032Z",
     "iopub.status.idle": "2021-12-16T00:25:13.792588Z",
     "shell.execute_reply": "2021-12-16T00:25:13.792056Z"
    },
    "papermill": {
     "duration": 0.055763,
     "end_time": "2021-12-16T00:25:13.792728",
     "exception": false,
     "start_time": "2021-12-16T00:25:13.736965",
     "status": "completed"
    },
    "tags": []
   },
   "outputs": [],
   "source": [
    "#hide\n",
    "g = t.reset_index(['Country/Region'])"
   ]
  },
  {
   "cell_type": "code",
   "execution_count": 23,
   "id": "distributed-pittsburgh",
   "metadata": {
    "execution": {
     "iopub.execute_input": "2021-12-16T00:25:13.867679Z",
     "iopub.status.busy": "2021-12-16T00:25:13.867057Z",
     "iopub.status.idle": "2021-12-16T00:25:13.869851Z",
     "shell.execute_reply": "2021-12-16T00:25:13.869367Z"
    },
    "papermill": {
     "duration": 0.04231,
     "end_time": "2021-12-16T00:25:13.869980",
     "exception": false,
     "start_time": "2021-12-16T00:25:13.827670",
     "status": "completed"
    },
    "tags": []
   },
   "outputs": [],
   "source": [
    "#hide\n",
    "g.index.name = 'date'"
   ]
  },
  {
   "cell_type": "code",
   "execution_count": 24,
   "id": "naked-donor",
   "metadata": {
    "execution": {
     "iopub.execute_input": "2021-12-16T00:25:13.946203Z",
     "iopub.status.busy": "2021-12-16T00:25:13.945112Z",
     "iopub.status.idle": "2021-12-16T00:25:13.947289Z",
     "shell.execute_reply": "2021-12-16T00:25:13.948156Z"
    },
    "papermill": {
     "duration": 0.043378,
     "end_time": "2021-12-16T00:25:13.948386",
     "exception": false,
     "start_time": "2021-12-16T00:25:13.905008",
     "status": "completed"
    },
    "tags": []
   },
   "outputs": [],
   "source": [
    "# #hide\n",
    "# g = g.reset_index(['date'])"
   ]
  },
  {
   "cell_type": "code",
   "execution_count": 25,
   "id": "incomplete-mustang",
   "metadata": {
    "execution": {
     "iopub.execute_input": "2021-12-16T00:25:14.022702Z",
     "iopub.status.busy": "2021-12-16T00:25:14.022087Z",
     "iopub.status.idle": "2021-12-16T00:25:14.024664Z",
     "shell.execute_reply": "2021-12-16T00:25:14.025260Z"
    },
    "papermill": {
     "duration": 0.041965,
     "end_time": "2021-12-16T00:25:14.025414",
     "exception": false,
     "start_time": "2021-12-16T00:25:13.983449",
     "status": "completed"
    },
    "tags": []
   },
   "outputs": [],
   "source": [
    "#hide\n",
    "# g.head()"
   ]
  },
  {
   "cell_type": "code",
   "execution_count": 26,
   "id": "specific-kruger",
   "metadata": {
    "execution": {
     "iopub.execute_input": "2021-12-16T00:25:14.100185Z",
     "iopub.status.busy": "2021-12-16T00:25:14.099567Z",
     "iopub.status.idle": "2021-12-16T00:25:14.102120Z",
     "shell.execute_reply": "2021-12-16T00:25:14.102701Z"
    },
    "papermill": {
     "duration": 0.042326,
     "end_time": "2021-12-16T00:25:14.102848",
     "exception": false,
     "start_time": "2021-12-16T00:25:14.060522",
     "status": "completed"
    },
    "tags": []
   },
   "outputs": [],
   "source": [
    "#hide\n",
    "# g.columns = ['date','country','cases']"
   ]
  },
  {
   "cell_type": "code",
   "execution_count": 27,
   "id": "tender-conversion",
   "metadata": {
    "execution": {
     "iopub.execute_input": "2021-12-16T00:25:14.178890Z",
     "iopub.status.busy": "2021-12-16T00:25:14.177847Z",
     "iopub.status.idle": "2021-12-16T00:25:14.183079Z",
     "shell.execute_reply": "2021-12-16T00:25:14.183657Z"
    },
    "papermill": {
     "duration": 0.045968,
     "end_time": "2021-12-16T00:25:14.183869",
     "exception": false,
     "start_time": "2021-12-16T00:25:14.137901",
     "status": "completed"
    },
    "tags": []
   },
   "outputs": [],
   "source": [
    "#hide\n",
    "# g['continent'] = g.country"
   ]
  },
  {
   "cell_type": "code",
   "execution_count": 28,
   "id": "substantial-wilderness",
   "metadata": {
    "execution": {
     "iopub.execute_input": "2021-12-16T00:25:14.264199Z",
     "iopub.status.busy": "2021-12-16T00:25:14.263136Z",
     "iopub.status.idle": "2021-12-16T00:25:14.267705Z",
     "shell.execute_reply": "2021-12-16T00:25:14.267165Z"
    },
    "papermill": {
     "duration": 0.047378,
     "end_time": "2021-12-16T00:25:14.267833",
     "exception": false,
     "start_time": "2021-12-16T00:25:14.220455",
     "status": "completed"
    },
    "tags": []
   },
   "outputs": [],
   "source": [
    "#hide\n",
    "# cols = list(g.columns.values)"
   ]
  },
  {
   "cell_type": "code",
   "execution_count": 29,
   "id": "solved-farming",
   "metadata": {
    "execution": {
     "iopub.execute_input": "2021-12-16T00:25:14.344223Z",
     "iopub.status.busy": "2021-12-16T00:25:14.343111Z",
     "iopub.status.idle": "2021-12-16T00:25:14.348281Z",
     "shell.execute_reply": "2021-12-16T00:25:14.348769Z"
    },
    "papermill": {
     "duration": 0.046236,
     "end_time": "2021-12-16T00:25:14.348931",
     "exception": false,
     "start_time": "2021-12-16T00:25:14.302695",
     "status": "completed"
    },
    "tags": []
   },
   "outputs": [],
   "source": [
    "#hide\n",
    "# cols.insert(0, cols.pop())"
   ]
  },
  {
   "cell_type": "code",
   "execution_count": 30,
   "id": "executed-adoption",
   "metadata": {
    "execution": {
     "iopub.execute_input": "2021-12-16T00:25:14.430394Z",
     "iopub.status.busy": "2021-12-16T00:25:14.428345Z",
     "iopub.status.idle": "2021-12-16T00:25:14.431108Z",
     "shell.execute_reply": "2021-12-16T00:25:14.431590Z"
    },
    "papermill": {
     "duration": 0.045887,
     "end_time": "2021-12-16T00:25:14.431739",
     "exception": false,
     "start_time": "2021-12-16T00:25:14.385852",
     "status": "completed"
    },
    "tags": []
   },
   "outputs": [],
   "source": [
    "#hide\n",
    "# g = g[cols]"
   ]
  },
  {
   "cell_type": "code",
   "execution_count": 31,
   "id": "subject-dublin",
   "metadata": {
    "execution": {
     "iopub.execute_input": "2021-12-16T00:25:14.511454Z",
     "iopub.status.busy": "2021-12-16T00:25:14.510826Z",
     "iopub.status.idle": "2021-12-16T00:25:14.515002Z",
     "shell.execute_reply": "2021-12-16T00:25:14.514519Z"
    },
    "papermill": {
     "duration": 0.045425,
     "end_time": "2021-12-16T00:25:14.515130",
     "exception": false,
     "start_time": "2021-12-16T00:25:14.469705",
     "status": "completed"
    },
    "tags": []
   },
   "outputs": [],
   "source": [
    "#hide\n",
    "# g['continent'] = g['continent'].map(mapping['map.continent'])"
   ]
  },
  {
   "cell_type": "code",
   "execution_count": 32,
   "id": "freelance-scout",
   "metadata": {
    "execution": {
     "iopub.execute_input": "2021-12-16T00:25:14.589325Z",
     "iopub.status.busy": "2021-12-16T00:25:14.588674Z",
     "iopub.status.idle": "2021-12-16T00:25:14.590965Z",
     "shell.execute_reply": "2021-12-16T00:25:14.590223Z"
    },
    "papermill": {
     "duration": 0.040878,
     "end_time": "2021-12-16T00:25:14.591095",
     "exception": false,
     "start_time": "2021-12-16T00:25:14.550217",
     "status": "completed"
    },
    "tags": []
   },
   "outputs": [],
   "source": [
    "#hide\n",
    "# g.head()"
   ]
  },
  {
   "cell_type": "code",
   "execution_count": 33,
   "id": "limited-engine",
   "metadata": {
    "execution": {
     "iopub.execute_input": "2021-12-16T00:25:14.673031Z",
     "iopub.status.busy": "2021-12-16T00:25:14.672373Z",
     "iopub.status.idle": "2021-12-16T00:25:14.675978Z",
     "shell.execute_reply": "2021-12-16T00:25:14.675157Z"
    },
    "papermill": {
     "duration": 0.045539,
     "end_time": "2021-12-16T00:25:14.676109",
     "exception": false,
     "start_time": "2021-12-16T00:25:14.630570",
     "status": "completed"
    },
    "tags": []
   },
   "outputs": [],
   "source": [
    "# hide\n",
    "# g['date'] = g['date'].astype('datetime64[ns]')"
   ]
  },
  {
   "cell_type": "code",
   "execution_count": 34,
   "id": "sophisticated-supervisor",
   "metadata": {
    "execution": {
     "iopub.execute_input": "2021-12-16T00:25:14.750525Z",
     "iopub.status.busy": "2021-12-16T00:25:14.749881Z",
     "iopub.status.idle": "2021-12-16T00:25:14.752164Z",
     "shell.execute_reply": "2021-12-16T00:25:14.751561Z"
    },
    "papermill": {
     "duration": 0.041062,
     "end_time": "2021-12-16T00:25:14.752293",
     "exception": false,
     "start_time": "2021-12-16T00:25:14.711231",
     "status": "completed"
    },
    "tags": []
   },
   "outputs": [],
   "source": [
    "#hide\n",
    "# g['date'] = g.date.dt.dayofyear"
   ]
  },
  {
   "cell_type": "code",
   "execution_count": 35,
   "id": "inside-dubai",
   "metadata": {
    "execution": {
     "iopub.execute_input": "2021-12-16T00:25:14.827896Z",
     "iopub.status.busy": "2021-12-16T00:25:14.826990Z",
     "iopub.status.idle": "2021-12-16T00:25:14.831659Z",
     "shell.execute_reply": "2021-12-16T00:25:14.832332Z"
    },
    "papermill": {
     "duration": 0.045292,
     "end_time": "2021-12-16T00:25:14.832573",
     "exception": false,
     "start_time": "2021-12-16T00:25:14.787281",
     "status": "completed"
    },
    "tags": []
   },
   "outputs": [],
   "source": [
    "#hide\n",
    "# g = g.rename(columns= {'continent':'group','country':'name','cases':'value'})"
   ]
  },
  {
   "cell_type": "code",
   "execution_count": 36,
   "id": "fleet-motorcycle",
   "metadata": {
    "execution": {
     "iopub.execute_input": "2021-12-16T00:25:14.907437Z",
     "iopub.status.busy": "2021-12-16T00:25:14.906812Z",
     "iopub.status.idle": "2021-12-16T00:25:14.908682Z",
     "shell.execute_reply": "2021-12-16T00:25:14.909140Z"
    },
    "papermill": {
     "duration": 0.041265,
     "end_time": "2021-12-16T00:25:14.909291",
     "exception": false,
     "start_time": "2021-12-16T00:25:14.868026",
     "status": "completed"
    },
    "tags": []
   },
   "outputs": [],
   "source": [
    "#hide\n",
    "# cols = ['name','group','day','value']"
   ]
  },
  {
   "cell_type": "code",
   "execution_count": 37,
   "id": "continued-sleeping",
   "metadata": {
    "execution": {
     "iopub.execute_input": "2021-12-16T00:25:14.984164Z",
     "iopub.status.busy": "2021-12-16T00:25:14.983557Z",
     "iopub.status.idle": "2021-12-16T00:25:14.986115Z",
     "shell.execute_reply": "2021-12-16T00:25:14.986690Z"
    },
    "papermill": {
     "duration": 0.042688,
     "end_time": "2021-12-16T00:25:14.986840",
     "exception": false,
     "start_time": "2021-12-16T00:25:14.944152",
     "status": "completed"
    },
    "tags": []
   },
   "outputs": [],
   "source": [
    "#hide\n",
    "# g.rename(columns= {'date':'day'},inplace = True)"
   ]
  },
  {
   "cell_type": "code",
   "execution_count": 38,
   "id": "major-fight",
   "metadata": {
    "execution": {
     "iopub.execute_input": "2021-12-16T00:25:15.061555Z",
     "iopub.status.busy": "2021-12-16T00:25:15.060898Z",
     "iopub.status.idle": "2021-12-16T00:25:15.063224Z",
     "shell.execute_reply": "2021-12-16T00:25:15.062717Z"
    },
    "papermill": {
     "duration": 0.041457,
     "end_time": "2021-12-16T00:25:15.063352",
     "exception": false,
     "start_time": "2021-12-16T00:25:15.021895",
     "status": "completed"
    },
    "tags": []
   },
   "outputs": [],
   "source": [
    "#hide\n",
    "# g = g[cols]"
   ]
  },
  {
   "cell_type": "code",
   "execution_count": 39,
   "id": "structured-mobile",
   "metadata": {
    "execution": {
     "iopub.execute_input": "2021-12-16T00:25:15.138900Z",
     "iopub.status.busy": "2021-12-16T00:25:15.138256Z",
     "iopub.status.idle": "2021-12-16T00:25:15.141933Z",
     "shell.execute_reply": "2021-12-16T00:25:15.141407Z"
    },
    "papermill": {
     "duration": 0.043755,
     "end_time": "2021-12-16T00:25:15.142067",
     "exception": false,
     "start_time": "2021-12-16T00:25:15.098312",
     "status": "completed"
    },
    "tags": []
   },
   "outputs": [],
   "source": [
    "# #hide\n",
    "# g = g[g.group.notna()]"
   ]
  },
  {
   "cell_type": "code",
   "execution_count": 40,
   "id": "determined-closing",
   "metadata": {
    "execution": {
     "iopub.execute_input": "2021-12-16T00:25:15.218530Z",
     "iopub.status.busy": "2021-12-16T00:25:15.217917Z",
     "iopub.status.idle": "2021-12-16T00:25:15.220984Z",
     "shell.execute_reply": "2021-12-16T00:25:15.220432Z"
    },
    "papermill": {
     "duration": 0.043712,
     "end_time": "2021-12-16T00:25:15.221117",
     "exception": false,
     "start_time": "2021-12-16T00:25:15.177405",
     "status": "completed"
    },
    "tags": []
   },
   "outputs": [],
   "source": [
    "# #hide\n",
    "# colors = dict(zip(\n",
    "#     [\"Oceania\", \"Europe\", \"Asia\", \"South America\", \"Middle East\", \"North America\", \"Africa\"],\n",
    "#     [\"#adb0ff\", \"#ffb3ff\", \"#90d595\", \"#e48381\", \"#aafbff\", \"#f7bb5f\", \"#eafb50\"]\n",
    "# ))\n",
    "# group_lk = g.set_index('name')['group'].to_dict()"
   ]
  },
  {
   "cell_type": "code",
   "execution_count": null,
   "id": "gross-drinking",
   "metadata": {
    "papermill": {
     "duration": 0.03489,
     "end_time": "2021-12-16T00:25:15.291030",
     "exception": false,
     "start_time": "2021-12-16T00:25:15.256140",
     "status": "completed"
    },
    "tags": []
   },
   "outputs": [],
   "source": []
  },
  {
   "cell_type": "code",
   "execution_count": 41,
   "id": "subject-macintosh",
   "metadata": {
    "execution": {
     "iopub.execute_input": "2021-12-16T00:25:15.368352Z",
     "iopub.status.busy": "2021-12-16T00:25:15.367688Z",
     "iopub.status.idle": "2021-12-16T00:25:15.370000Z",
     "shell.execute_reply": "2021-12-16T00:25:15.369403Z"
    },
    "papermill": {
     "duration": 0.044077,
     "end_time": "2021-12-16T00:25:15.370129",
     "exception": false,
     "start_time": "2021-12-16T00:25:15.326052",
     "status": "completed"
    },
    "tags": []
   },
   "outputs": [],
   "source": [
    "# #hide\n",
    "# fig, ax = plt.subplots(figsize=(15, 8))\n",
    "\n",
    "# def draw_barchart(current_day):\n",
    "#     dff = g[g['day'].eq(current_day)].sort_values(by='value', ascending=True).tail(10)\n",
    "#     ax.clear()\n",
    "#     ax.barh(dff['name'], dff['value'], color=[colors[group_lk[x]] for x in dff['name']])\n",
    "#     dx = dff['value'].max() / 200\n",
    "    \n",
    "#     for i, (value, name) in enumerate(zip(dff['value'], dff['name'])):\n",
    "#         ax.text(value-dx, i,     name,           size=14, weight=600, ha='right', va='bottom')\n",
    "#         ax.text(value-dx, i-.25, group_lk[name], size=10, color='#444444', ha='right', va='baseline')\n",
    "#         ax.text(value+dx, i,     f'{value:,.0f}',  size=14, ha='left',  va='center')\n",
    "#     ax.text(1, 0.4, current_day, transform=ax.transAxes, color='#777777', size=46, ha='right', weight=800)\n",
    "#     ax.text(0, 1.06, 'Population (thousands)', transform=ax.transAxes, size=12, color='#777777')\n",
    "#     ax.xaxis.set_major_formatter(ticker.StrMethodFormatter('{x:,.0f}'))\n",
    "#     ax.xaxis.set_ticks_position('top')\n",
    "#     ax.tick_params(axis='x', colors='#777777', labelsize=12)\n",
    "#     ax.set_yticks([])\n",
    "#     ax.margins(0, 0.01)\n",
    "#     ax.grid(which='major', axis='x', linestyle='-')\n",
    "#     ax.set_axisbelow(True)\n",
    "    \n",
    "#     ax.text(0, 1.15, 'Coronavirus',\n",
    "#             transform=ax.transAxes, size=24, weight=600, ha='left', va='top')\n",
    "# #     ax.text(1, 0, 'by @pratapvardhan; credit @jburnmurdoch', transform=ax.transAxes, color='#777777', ha='right',\n",
    "# #             bbox=dict(facecolor='white', alpha=0.8, edgecolor='white'))\n",
    "#     plt.box(False)"
   ]
  },
  {
   "cell_type": "code",
   "execution_count": 42,
   "id": "sexual-wages",
   "metadata": {
    "execution": {
     "iopub.execute_input": "2021-12-16T00:25:15.450420Z",
     "iopub.status.busy": "2021-12-16T00:25:15.449789Z",
     "iopub.status.idle": "2021-12-16T00:25:15.452216Z",
     "shell.execute_reply": "2021-12-16T00:25:15.451704Z"
    },
    "papermill": {
     "duration": 0.044729,
     "end_time": "2021-12-16T00:25:15.452342",
     "exception": false,
     "start_time": "2021-12-16T00:25:15.407613",
     "status": "completed"
    },
    "tags": []
   },
   "outputs": [],
   "source": [
    "# #hide_input\n",
    "# fig, ax = plt.subplots(figsize=(15, 8))\n",
    "# animator = animation.FuncAnimation(fig, draw_barchart, frames=range(g.day.values.min(), g.day.values.max()))\n",
    "# HTML(animator.to_jshtml())\n",
    "# # or use animator.to_html5_video() or animator.save() "
   ]
  },
  {
   "cell_type": "code",
   "execution_count": null,
   "id": "australian-container",
   "metadata": {
    "papermill": {
     "duration": 0.037097,
     "end_time": "2021-12-16T00:25:15.526612",
     "exception": false,
     "start_time": "2021-12-16T00:25:15.489515",
     "status": "completed"
    },
    "tags": []
   },
   "outputs": [],
   "source": []
  },
  {
   "cell_type": "code",
   "execution_count": null,
   "id": "mediterranean-pontiac",
   "metadata": {
    "papermill": {
     "duration": 0.042674,
     "end_time": "2021-12-16T00:25:15.605884",
     "exception": false,
     "start_time": "2021-12-16T00:25:15.563210",
     "status": "completed"
    },
    "tags": []
   },
   "outputs": [],
   "source": []
  },
  {
   "cell_type": "code",
   "execution_count": null,
   "id": "aging-legislature",
   "metadata": {
    "papermill": {
     "duration": 0.034775,
     "end_time": "2021-12-16T00:25:15.679806",
     "exception": false,
     "start_time": "2021-12-16T00:25:15.645031",
     "status": "completed"
    },
    "tags": []
   },
   "outputs": [],
   "source": []
  }
 ],
 "metadata": {
  "kernelspec": {
   "display_name": "Python 3",
   "language": "python",
   "name": "python3"
  },
  "language_info": {
   "codemirror_mode": {
    "name": "ipython",
    "version": 3
   },
   "file_extension": ".py",
   "mimetype": "text/x-python",
   "name": "python",
   "nbconvert_exporter": "python",
   "pygments_lexer": "ipython3",
   "version": "3.6.15"
  },
  "papermill": {
   "duration": 7.091583,
   "end_time": "2021-12-16T00:25:16.124273",
   "environment_variables": {},
   "exception": null,
   "input_path": "2020-03-21-covid19exp.ipynb",
   "output_path": "2020-03-21-covid19exp.ipynb",
   "parameters": {},
   "start_time": "2021-12-16T00:25:09.032690",
   "version": "2.0.0"
  }
 },
 "nbformat": 4,
 "nbformat_minor": 5
}