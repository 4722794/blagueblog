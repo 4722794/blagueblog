{
 "cells": [
  {
   "cell_type": "markdown",
   "id": "muslim-click",
   "metadata": {
    "papermill": {
     "duration": 0.044007,
     "end_time": "2022-10-30T00:57:00.861076",
     "exception": false,
     "start_time": "2022-10-30T00:57:00.817069",
     "status": "completed"
    },
    "tags": []
   },
   "source": [
    "# COVID-19 Case Race\n",
    "> A race chart to see rising cases around the world\n",
    "\n",
    "- author: Hargun Oberoi\n",
    "- image: images/covid-overview.png\n",
    "- hide: false\n",
    "- badges: false"
   ]
  },
  {
   "cell_type": "code",
   "execution_count": 1,
   "id": "proof-material",
   "metadata": {
    "execution": {
     "iopub.execute_input": "2022-10-30T00:57:00.950449Z",
     "iopub.status.busy": "2022-10-30T00:57:00.949746Z",
     "iopub.status.idle": "2022-10-30T00:57:01.372234Z",
     "shell.execute_reply": "2022-10-30T00:57:01.371442Z"
    },
    "papermill": {
     "duration": 0.470831,
     "end_time": "2022-10-30T00:57:01.372391",
     "exception": false,
     "start_time": "2022-10-30T00:57:00.901560",
     "status": "completed"
    },
    "tags": []
   },
   "outputs": [],
   "source": [
    "#hide\n",
    "import numpy as np\n",
    "import pandas as pd\n",
    "from jinja2 import Template\n",
    "from IPython.display import HTML"
   ]
  },
  {
   "cell_type": "code",
   "execution_count": 2,
   "id": "developed-terminology",
   "metadata": {
    "execution": {
     "iopub.execute_input": "2022-10-30T00:57:01.455209Z",
     "iopub.status.busy": "2022-10-30T00:57:01.454543Z",
     "iopub.status.idle": "2022-10-30T00:57:01.457616Z",
     "shell.execute_reply": "2022-10-30T00:57:01.458270Z"
    },
    "papermill": {
     "duration": 0.046414,
     "end_time": "2022-10-30T00:57:01.458428",
     "exception": false,
     "start_time": "2022-10-30T00:57:01.412014",
     "status": "completed"
    },
    "tags": []
   },
   "outputs": [],
   "source": [
    "#hide\n",
    "\n",
    "# FETCH\n",
    "base_url = 'https://raw.githubusercontent.com/pratapvardhan/notebooks/master/covid19/'\n",
    "paths = {\n",
    "    'mapping': base_url + 'mapping_countries.csv',\n",
    "    'overview': base_url + 'overview.tpl'\n",
    "}"
   ]
  },
  {
   "cell_type": "code",
   "execution_count": 3,
   "id": "dynamic-saver",
   "metadata": {
    "execution": {
     "iopub.execute_input": "2022-10-30T00:57:01.546628Z",
     "iopub.status.busy": "2022-10-30T00:57:01.545917Z",
     "iopub.status.idle": "2022-10-30T00:57:01.549352Z",
     "shell.execute_reply": "2022-10-30T00:57:01.550021Z"
    },
    "papermill": {
     "duration": 0.051502,
     "end_time": "2022-10-30T00:57:01.550156",
     "exception": false,
     "start_time": "2022-10-30T00:57:01.498654",
     "status": "completed"
    },
    "tags": []
   },
   "outputs": [
    {
     "data": {
      "text/plain": [
       "'https://raw.githubusercontent.com/pratapvardhan/notebooks/master/covid19/mapping_countries.csv'"
      ]
     },
     "execution_count": 3,
     "metadata": {},
     "output_type": "execute_result"
    }
   ],
   "source": [
    "#hide\n",
    "paths['mapping']"
   ]
  },
  {
   "cell_type": "code",
   "execution_count": 4,
   "id": "urban-software",
   "metadata": {
    "execution": {
     "iopub.execute_input": "2022-10-30T00:57:01.632104Z",
     "iopub.status.busy": "2022-10-30T00:57:01.631436Z",
     "iopub.status.idle": "2022-10-30T00:57:01.634881Z",
     "shell.execute_reply": "2022-10-30T00:57:01.634195Z"
    },
    "papermill": {
     "duration": 0.048211,
     "end_time": "2022-10-30T00:57:01.634999",
     "exception": false,
     "start_time": "2022-10-30T00:57:01.586788",
     "status": "completed"
    },
    "tags": []
   },
   "outputs": [],
   "source": [
    "#hide\n",
    "def get_mappings(url):\n",
    "    df = pd.read_csv(url)\n",
    "    return {\n",
    "        'df': df,\n",
    "        'replace.country': dict(df.dropna(subset=['Name']).set_index('Country')['Name']),\n",
    "        'map.continent': dict(df.set_index('Name')['Continent'])\n",
    "    }"
   ]
  },
  {
   "cell_type": "code",
   "execution_count": 5,
   "id": "intimate-machinery",
   "metadata": {
    "execution": {
     "iopub.execute_input": "2022-10-30T00:57:01.715639Z",
     "iopub.status.busy": "2022-10-30T00:57:01.714650Z",
     "iopub.status.idle": "2022-10-30T00:57:01.745157Z",
     "shell.execute_reply": "2022-10-30T00:57:01.744067Z"
    },
    "papermill": {
     "duration": 0.073937,
     "end_time": "2022-10-30T00:57:01.745282",
     "exception": false,
     "start_time": "2022-10-30T00:57:01.671345",
     "status": "completed"
    },
    "tags": []
   },
   "outputs": [],
   "source": [
    "#hide\n",
    "mapping = get_mappings(paths['mapping'])"
   ]
  },
  {
   "cell_type": "code",
   "execution_count": 6,
   "id": "certified-tactics",
   "metadata": {
    "execution": {
     "iopub.execute_input": "2022-10-30T00:57:01.826197Z",
     "iopub.status.busy": "2022-10-30T00:57:01.825238Z",
     "iopub.status.idle": "2022-10-30T00:57:01.828213Z",
     "shell.execute_reply": "2022-10-30T00:57:01.827598Z"
    },
    "papermill": {
     "duration": 0.046448,
     "end_time": "2022-10-30T00:57:01.828323",
     "exception": false,
     "start_time": "2022-10-30T00:57:01.781875",
     "status": "completed"
    },
    "tags": []
   },
   "outputs": [],
   "source": [
    "#hide\n",
    "def get_template(path):\n",
    "    from urllib.parse import urlparse\n",
    "    if bool(urlparse(path).netloc):\n",
    "        from urllib.request import urlopen\n",
    "        return urlopen(path).read().decode('utf8')\n",
    "    return open(path).read()"
   ]
  },
  {
   "cell_type": "code",
   "execution_count": 7,
   "id": "realistic-blast",
   "metadata": {
    "execution": {
     "iopub.execute_input": "2022-10-30T00:57:01.909549Z",
     "iopub.status.busy": "2022-10-30T00:57:01.908794Z",
     "iopub.status.idle": "2022-10-30T00:57:01.911643Z",
     "shell.execute_reply": "2022-10-30T00:57:01.912476Z"
    },
    "papermill": {
     "duration": 0.047515,
     "end_time": "2022-10-30T00:57:01.912630",
     "exception": false,
     "start_time": "2022-10-30T00:57:01.865115",
     "status": "completed"
    },
    "tags": []
   },
   "outputs": [],
   "source": [
    "#hide\n",
    "def get_frame(name):\n",
    "    url = (\n",
    "        'https://raw.githubusercontent.com/CSSEGISandData/COVID-19/master/csse_covid_19_data/'\n",
    "        f'csse_covid_19_time_series/time_series_covid19_{name}_global.csv')\n",
    "    df = pd.read_csv(url)\n",
    "    # rename countries\n",
    "    df['Country/Region'] = df['Country/Region'].replace(mapping['replace.country'])\n",
    "    return df"
   ]
  },
  {
   "cell_type": "code",
   "execution_count": 8,
   "id": "affiliated-characterization",
   "metadata": {
    "execution": {
     "iopub.execute_input": "2022-10-30T00:57:01.992933Z",
     "iopub.status.busy": "2022-10-30T00:57:01.991888Z",
     "iopub.status.idle": "2022-10-30T00:57:01.995286Z",
     "shell.execute_reply": "2022-10-30T00:57:01.994642Z"
    },
    "papermill": {
     "duration": 0.04587,
     "end_time": "2022-10-30T00:57:01.995404",
     "exception": false,
     "start_time": "2022-10-30T00:57:01.949534",
     "status": "completed"
    },
    "tags": []
   },
   "outputs": [],
   "source": [
    "#hide\n",
    "def get_dates(df):\n",
    "    dt_cols = df.columns[~df.columns.isin(['Province/State', 'Country/Region', 'Lat', 'Long'])]\n",
    "    LAST_DATE_I = -1\n",
    "    # sometimes last column may be empty, then go backwards\n",
    "    for i in range(-1, -len(dt_cols), -1):\n",
    "        if not df[dt_cols[i]].fillna(0).eq(0).all():\n",
    "            LAST_DATE_I = i\n",
    "            break\n",
    "    return LAST_DATE_I, dt_cols"
   ]
  },
  {
   "cell_type": "code",
   "execution_count": 9,
   "id": "recent-optimization",
   "metadata": {
    "execution": {
     "iopub.execute_input": "2022-10-30T00:57:02.073831Z",
     "iopub.status.busy": "2022-10-30T00:57:02.072919Z",
     "iopub.status.idle": "2022-10-30T00:57:02.573542Z",
     "shell.execute_reply": "2022-10-30T00:57:02.572669Z"
    },
    "papermill": {
     "duration": 0.540814,
     "end_time": "2022-10-30T00:57:02.573695",
     "exception": false,
     "start_time": "2022-10-30T00:57:02.032881",
     "status": "completed"
    },
    "tags": []
   },
   "outputs": [],
   "source": [
    "#hide\n",
    "COL_REGION = 'Country/Region'\n",
    "# Confirmed, Recovered, Deaths\n",
    "df = get_frame('confirmed')\n",
    "# dft_: timeseries, dfc_: today country agg\n",
    "dft_cases = df\n",
    "dft_deaths = get_frame('deaths')\n",
    "dft_recovered = get_frame('recovered')\n",
    "LAST_DATE_I, dt_cols = get_dates(df)"
   ]
  },
  {
   "cell_type": "code",
   "execution_count": 10,
   "id": "absolute-copper",
   "metadata": {
    "execution": {
     "iopub.execute_input": "2022-10-30T00:57:02.663338Z",
     "iopub.status.busy": "2022-10-30T00:57:02.662611Z",
     "iopub.status.idle": "2022-10-30T00:57:02.667097Z",
     "shell.execute_reply": "2022-10-30T00:57:02.667710Z"
    },
    "papermill": {
     "duration": 0.052852,
     "end_time": "2022-10-30T00:57:02.667943",
     "exception": false,
     "start_time": "2022-10-30T00:57:02.615091",
     "status": "completed"
    },
    "tags": []
   },
   "outputs": [],
   "source": [
    "#hide\n",
    "LAST_DATE_I, dt_cols = get_dates(df)\n",
    "dt_today =dt_cols[LAST_DATE_I]\n",
    "# dt_5day = dt_cols[LAST_DATE_I - 5]\n",
    "dt_yday = dt_cols[LAST_DATE_I - 1]"
   ]
  },
  {
   "cell_type": "code",
   "execution_count": 11,
   "id": "restricted-sheriff",
   "metadata": {
    "execution": {
     "iopub.execute_input": "2022-10-30T00:57:02.754299Z",
     "iopub.status.busy": "2022-10-30T00:57:02.753542Z",
     "iopub.status.idle": "2022-10-30T00:57:02.762234Z",
     "shell.execute_reply": "2022-10-30T00:57:02.761657Z"
    },
    "papermill": {
     "duration": 0.055779,
     "end_time": "2022-10-30T00:57:02.762370",
     "exception": false,
     "start_time": "2022-10-30T00:57:02.706591",
     "status": "completed"
    },
    "tags": []
   },
   "outputs": [],
   "source": [
    "#hide\n",
    "dfc_cases = dft_cases.groupby(COL_REGION)[dt_today].sum()\n",
    "dfc_deaths = dft_deaths.groupby(COL_REGION)[dt_today].sum()\n",
    "# dfp_cases = dft_cases.groupby(COL_REGION)[dt_5day].sum()\n",
    "# dfp_deaths = dft_deaths.groupby(COL_REGION)[dt_5day].sum()\n",
    "dfp_cases = dft_cases.groupby(COL_REGION)[dt_yday].sum()\n",
    "dfp_deaths = dft_deaths.groupby(COL_REGION)[dt_yday].sum()"
   ]
  },
  {
   "cell_type": "code",
   "execution_count": 12,
   "id": "deluxe-hepatitis",
   "metadata": {
    "execution": {
     "iopub.execute_input": "2022-10-30T00:57:02.849446Z",
     "iopub.status.busy": "2022-10-30T00:57:02.848571Z",
     "iopub.status.idle": "2022-10-30T00:57:02.854429Z",
     "shell.execute_reply": "2022-10-30T00:57:02.855106Z"
    },
    "papermill": {
     "duration": 0.054483,
     "end_time": "2022-10-30T00:57:02.855257",
     "exception": false,
     "start_time": "2022-10-30T00:57:02.800774",
     "status": "completed"
    },
    "tags": []
   },
   "outputs": [],
   "source": [
    "#hide\n",
    "df_table = (pd.DataFrame(dict(Cases = dfc_cases, Deaths = dfc_deaths, PCases = dfp_cases, PDeaths = dfp_deaths))\n",
    "            .sort_values(by = ['Cases','Deaths'], ascending = [False, False])\n",
    "            .reset_index())"
   ]
  },
  {
   "cell_type": "code",
   "execution_count": 13,
   "id": "educational-chancellor",
   "metadata": {
    "execution": {
     "iopub.execute_input": "2022-10-30T00:57:02.954328Z",
     "iopub.status.busy": "2022-10-30T00:57:02.953433Z",
     "iopub.status.idle": "2022-10-30T00:57:02.963796Z",
     "shell.execute_reply": "2022-10-30T00:57:02.963212Z"
    },
    "papermill": {
     "duration": 0.070084,
     "end_time": "2022-10-30T00:57:02.963918",
     "exception": false,
     "start_time": "2022-10-30T00:57:02.893834",
     "status": "completed"
    },
    "tags": []
   },
   "outputs": [
    {
     "data": {
      "text/html": [
       "<div>\n",
       "<style scoped>\n",
       "    .dataframe tbody tr th:only-of-type {\n",
       "        vertical-align: middle;\n",
       "    }\n",
       "\n",
       "    .dataframe tbody tr th {\n",
       "        vertical-align: top;\n",
       "    }\n",
       "\n",
       "    .dataframe thead th {\n",
       "        text-align: right;\n",
       "    }\n",
       "</style>\n",
       "<table border=\"1\" class=\"dataframe\">\n",
       "  <thead>\n",
       "    <tr style=\"text-align: right;\">\n",
       "      <th></th>\n",
       "      <th>Country/Region</th>\n",
       "      <th>Cases</th>\n",
       "      <th>Deaths</th>\n",
       "      <th>PCases</th>\n",
       "      <th>PDeaths</th>\n",
       "      <th>Cases (+)</th>\n",
       "      <th>Deaths (+)</th>\n",
       "      <th>Fatality Rate</th>\n",
       "      <th>Continent</th>\n",
       "    </tr>\n",
       "  </thead>\n",
       "  <tbody>\n",
       "    <tr>\n",
       "      <th>0</th>\n",
       "      <td>US</td>\n",
       "      <td>97438900</td>\n",
       "      <td>1070234</td>\n",
       "      <td>97410671</td>\n",
       "      <td>1070055</td>\n",
       "      <td>28229</td>\n",
       "      <td>179</td>\n",
       "      <td>1.10</td>\n",
       "      <td>North America</td>\n",
       "    </tr>\n",
       "    <tr>\n",
       "      <th>1</th>\n",
       "      <td>India</td>\n",
       "      <td>44650662</td>\n",
       "      <td>529008</td>\n",
       "      <td>44649088</td>\n",
       "      <td>528999</td>\n",
       "      <td>1574</td>\n",
       "      <td>9</td>\n",
       "      <td>1.18</td>\n",
       "      <td>Asia</td>\n",
       "    </tr>\n",
       "    <tr>\n",
       "      <th>2</th>\n",
       "      <td>France</td>\n",
       "      <td>36987918</td>\n",
       "      <td>157872</td>\n",
       "      <td>36962135</td>\n",
       "      <td>157811</td>\n",
       "      <td>25783</td>\n",
       "      <td>61</td>\n",
       "      <td>0.43</td>\n",
       "      <td>Europe</td>\n",
       "    </tr>\n",
       "    <tr>\n",
       "      <th>3</th>\n",
       "      <td>Germany</td>\n",
       "      <td>35571130</td>\n",
       "      <td>153544</td>\n",
       "      <td>35523412</td>\n",
       "      <td>153377</td>\n",
       "      <td>47718</td>\n",
       "      <td>167</td>\n",
       "      <td>0.43</td>\n",
       "      <td>Europe</td>\n",
       "    </tr>\n",
       "    <tr>\n",
       "      <th>4</th>\n",
       "      <td>Brazil</td>\n",
       "      <td>34815258</td>\n",
       "      <td>687962</td>\n",
       "      <td>34815258</td>\n",
       "      <td>687962</td>\n",
       "      <td>0</td>\n",
       "      <td>0</td>\n",
       "      <td>1.98</td>\n",
       "      <td>South America</td>\n",
       "    </tr>\n",
       "  </tbody>\n",
       "</table>\n",
       "</div>"
      ],
      "text/plain": [
       "  Country/Region     Cases   Deaths    PCases  PDeaths  Cases (+)  Deaths (+)  \\\n",
       "0             US  97438900  1070234  97410671  1070055      28229         179   \n",
       "1          India  44650662   529008  44649088   528999       1574           9   \n",
       "2         France  36987918   157872  36962135   157811      25783          61   \n",
       "3        Germany  35571130   153544  35523412   153377      47718         167   \n",
       "4         Brazil  34815258   687962  34815258   687962          0           0   \n",
       "\n",
       "   Fatality Rate      Continent  \n",
       "0           1.10  North America  \n",
       "1           1.18           Asia  \n",
       "2           0.43         Europe  \n",
       "3           0.43         Europe  \n",
       "4           1.98  South America  "
      ]
     },
     "execution_count": 13,
     "metadata": {},
     "output_type": "execute_result"
    }
   ],
   "source": [
    "#hide\n",
    "for c in 'Cases, Deaths'.split(', '):\n",
    "    df_table[f'{c} (+)'] = (df_table[c] - df_table[f'P{c}']).clip(0)\n",
    "    #Clip ça veut dire, les chiffres negatif sont interdit\n",
    "df_table['Fatality Rate'] = (100* df_table['Deaths']/ df_table['Cases']).round(2)\n",
    "df_table['Continent'] = df_table['Country/Region'].map(mapping['map.continent'])\n",
    "df_table.head(5)"
   ]
  },
  {
   "cell_type": "code",
   "execution_count": 14,
   "id": "aboriginal-bulgaria",
   "metadata": {
    "execution": {
     "iopub.execute_input": "2022-10-30T00:57:03.048317Z",
     "iopub.status.busy": "2022-10-30T00:57:03.047476Z",
     "iopub.status.idle": "2022-10-30T00:57:03.051469Z",
     "shell.execute_reply": "2022-10-30T00:57:03.052261Z"
    },
    "papermill": {
     "duration": 0.052809,
     "end_time": "2022-10-30T00:57:03.052429",
     "exception": false,
     "start_time": "2022-10-30T00:57:02.999620",
     "status": "completed"
    },
    "tags": []
   },
   "outputs": [],
   "source": [
    "#hide\n",
    "#delete problematic countries from table\n",
    "df_table = df_table[~df_table['Country/Region'].isin(['Cape Verde', 'Cruise Ship', 'Kosovo'])]"
   ]
  },
  {
   "cell_type": "code",
   "execution_count": 15,
   "id": "fantastic-effect",
   "metadata": {
    "execution": {
     "iopub.execute_input": "2022-10-30T00:57:03.146714Z",
     "iopub.status.busy": "2022-10-30T00:57:03.145952Z",
     "iopub.status.idle": "2022-10-30T00:57:03.169021Z",
     "shell.execute_reply": "2022-10-30T00:57:03.169602Z"
    },
    "papermill": {
     "duration": 0.07305,
     "end_time": "2022-10-30T00:57:03.169741",
     "exception": false,
     "start_time": "2022-10-30T00:57:03.096691",
     "status": "completed"
    },
    "tags": []
   },
   "outputs": [
    {
     "data": {
      "text/html": [
       "<div>\n",
       "<style scoped>\n",
       "    .dataframe tbody tr th:only-of-type {\n",
       "        vertical-align: middle;\n",
       "    }\n",
       "\n",
       "    .dataframe tbody tr th {\n",
       "        vertical-align: top;\n",
       "    }\n",
       "\n",
       "    .dataframe thead th {\n",
       "        text-align: right;\n",
       "    }\n",
       "</style>\n",
       "<table border=\"1\" class=\"dataframe\">\n",
       "  <thead>\n",
       "    <tr style=\"text-align: right;\">\n",
       "      <th></th>\n",
       "      <th>Country/Region</th>\n",
       "      <th>Cases</th>\n",
       "      <th>Deaths</th>\n",
       "      <th>PCases</th>\n",
       "      <th>PDeaths</th>\n",
       "      <th>Cases (+)</th>\n",
       "      <th>Deaths (+)</th>\n",
       "      <th>Fatality Rate</th>\n",
       "      <th>Continent</th>\n",
       "    </tr>\n",
       "  </thead>\n",
       "  <tbody>\n",
       "    <tr>\n",
       "      <th>0</th>\n",
       "      <td>US</td>\n",
       "      <td>97438900</td>\n",
       "      <td>1070234</td>\n",
       "      <td>97410671</td>\n",
       "      <td>1070055</td>\n",
       "      <td>28229</td>\n",
       "      <td>179</td>\n",
       "      <td>1.1</td>\n",
       "      <td>North America</td>\n",
       "    </tr>\n",
       "    <tr>\n",
       "      <th>1</th>\n",
       "      <td>India</td>\n",
       "      <td>44650662</td>\n",
       "      <td>529008</td>\n",
       "      <td>44649088</td>\n",
       "      <td>528999</td>\n",
       "      <td>1574</td>\n",
       "      <td>9</td>\n",
       "      <td>1.2</td>\n",
       "      <td>Asia</td>\n",
       "    </tr>\n",
       "    <tr>\n",
       "      <th>2</th>\n",
       "      <td>France</td>\n",
       "      <td>36987918</td>\n",
       "      <td>157872</td>\n",
       "      <td>36962135</td>\n",
       "      <td>157811</td>\n",
       "      <td>25783</td>\n",
       "      <td>61</td>\n",
       "      <td>0.4</td>\n",
       "      <td>Europe</td>\n",
       "    </tr>\n",
       "    <tr>\n",
       "      <th>3</th>\n",
       "      <td>Germany</td>\n",
       "      <td>35571130</td>\n",
       "      <td>153544</td>\n",
       "      <td>35523412</td>\n",
       "      <td>153377</td>\n",
       "      <td>47718</td>\n",
       "      <td>167</td>\n",
       "      <td>0.4</td>\n",
       "      <td>Europe</td>\n",
       "    </tr>\n",
       "    <tr>\n",
       "      <th>4</th>\n",
       "      <td>Brazil</td>\n",
       "      <td>34815258</td>\n",
       "      <td>687962</td>\n",
       "      <td>34815258</td>\n",
       "      <td>687962</td>\n",
       "      <td>0</td>\n",
       "      <td>0</td>\n",
       "      <td>2.0</td>\n",
       "      <td>South America</td>\n",
       "    </tr>\n",
       "  </tbody>\n",
       "</table>\n",
       "</div>"
      ],
      "text/plain": [
       "  Country/Region     Cases   Deaths    PCases  PDeaths  Cases (+)  Deaths (+)  \\\n",
       "0             US  97438900  1070234  97410671  1070055      28229         179   \n",
       "1          India  44650662   529008  44649088   528999       1574           9   \n",
       "2         France  36987918   157872  36962135   157811      25783          61   \n",
       "3        Germany  35571130   153544  35523412   153377      47718         167   \n",
       "4         Brazil  34815258   687962  34815258   687962          0           0   \n",
       "\n",
       "   Fatality Rate      Continent  \n",
       "0            1.1  North America  \n",
       "1            1.2           Asia  \n",
       "2            0.4         Europe  \n",
       "3            0.4         Europe  \n",
       "4            2.0  South America  "
      ]
     },
     "execution_count": 15,
     "metadata": {},
     "output_type": "execute_result"
    }
   ],
   "source": [
    "#hide\n",
    "df_table = (pd.DataFrame(dict(Cases=dfc_cases, Deaths=dfc_deaths, PCases=dfp_cases, PDeaths=dfp_deaths))\n",
    "             .sort_values(by=['Cases', 'Deaths'], ascending=[False, False])\n",
    "             .reset_index())\n",
    "df_table.rename(columns={'index': 'Country/Region'}, inplace=True)\n",
    "for c in 'Cases, Deaths'.split(', '):\n",
    "    df_table[f'{c} (+)'] = (df_table[c] - df_table[f'P{c}']).clip(0)  # DATA BUG\n",
    "df_table['Fatality Rate'] = (100 * df_table['Deaths'] / df_table['Cases']).round(1)\n",
    "df_table['Continent'] = df_table['Country/Region'].map(mapping['map.continent'])\n",
    "df_table.head(5)"
   ]
  },
  {
   "cell_type": "code",
   "execution_count": 16,
   "id": "fewer-occasion",
   "metadata": {
    "execution": {
     "iopub.execute_input": "2022-10-30T00:57:03.252932Z",
     "iopub.status.busy": "2022-10-30T00:57:03.252234Z",
     "iopub.status.idle": "2022-10-30T00:57:03.256026Z",
     "shell.execute_reply": "2022-10-30T00:57:03.255277Z"
    },
    "papermill": {
     "duration": 0.047427,
     "end_time": "2022-10-30T00:57:03.256147",
     "exception": false,
     "start_time": "2022-10-30T00:57:03.208720",
     "status": "completed"
    },
    "tags": []
   },
   "outputs": [],
   "source": [
    "#hide\n",
    "#delete problematic countries from table\n",
    "df_table = df_table[~df_table['Country/Region'].isin(['Cape Verde', 'Cruise Ship', 'Kosovo'])]"
   ]
  },
  {
   "cell_type": "code",
   "execution_count": 17,
   "id": "related-center",
   "metadata": {
    "execution": {
     "iopub.execute_input": "2022-10-30T00:57:03.356890Z",
     "iopub.status.busy": "2022-10-30T00:57:03.355976Z",
     "iopub.status.idle": "2022-10-30T00:57:03.360078Z",
     "shell.execute_reply": "2022-10-30T00:57:03.360861Z"
    },
    "papermill": {
     "duration": 0.062851,
     "end_time": "2022-10-30T00:57:03.361029",
     "exception": false,
     "start_time": "2022-10-30T00:57:03.298178",
     "status": "completed"
    },
    "tags": []
   },
   "outputs": [],
   "source": [
    "#hide\n",
    "metrics = [df_table.columns[index] for index in [1,2,5,6]]\n",
    "# s_china = df_table[df_table['Country/Region'].eq('China')][metrics].sum().add_prefix('China ')\n",
    "s_us = df_table[df_table['Country/Region'].eq('US')][metrics].sum().add_prefix('US ')\n",
    "s_eu = df_table[df_table['Continent'].eq('Europe')][metrics].sum().add_prefix('EU ')\n",
    "s_ind = df_table[df_table['Country/Region'].eq('India')][metrics].sum().add_prefix('India ')\n",
    "summary = {'updated': pd.to_datetime(dt_today), 'since': pd.to_datetime(dt_yday)}\n",
    "summary = {'updated': pd.to_datetime(dt_today), 'since': pd.to_datetime(dt_yday)}\n",
    "summary = {**summary, **df_table[metrics].sum(), **s_ind, **s_us, **s_eu}"
   ]
  },
  {
   "cell_type": "code",
   "execution_count": 18,
   "id": "engaging-syndrome",
   "metadata": {
    "execution": {
     "iopub.execute_input": "2022-10-30T00:57:03.442980Z",
     "iopub.status.busy": "2022-10-30T00:57:03.442247Z",
     "iopub.status.idle": "2022-10-30T00:57:03.467333Z",
     "shell.execute_reply": "2022-10-30T00:57:03.466656Z"
    },
    "papermill": {
     "duration": 0.068919,
     "end_time": "2022-10-30T00:57:03.467507",
     "exception": false,
     "start_time": "2022-10-30T00:57:03.398588",
     "status": "completed"
    },
    "tags": []
   },
   "outputs": [],
   "source": [
    "#hide\n",
    "dft_ct_new_cases = dft_cases.groupby(COL_REGION)[dt_cols].sum().diff(axis=1).fillna(0).astype(int)"
   ]
  },
  {
   "cell_type": "code",
   "execution_count": 19,
   "id": "neutral-assignment",
   "metadata": {
    "execution": {
     "iopub.execute_input": "2022-10-30T00:57:03.553385Z",
     "iopub.status.busy": "2022-10-30T00:57:03.552573Z",
     "iopub.status.idle": "2022-10-30T00:57:03.555853Z",
     "shell.execute_reply": "2022-10-30T00:57:03.556541Z"
    },
    "papermill": {
     "duration": 0.04977,
     "end_time": "2022-10-30T00:57:03.556712",
     "exception": false,
     "start_time": "2022-10-30T00:57:03.506942",
     "status": "completed"
    },
    "tags": []
   },
   "outputs": [],
   "source": [
    "#hide\n",
    "everydaycases = dft_ct_new_cases.cumsum(axis=1)"
   ]
  },
  {
   "cell_type": "code",
   "execution_count": 20,
   "id": "parliamentary-calgary",
   "metadata": {
    "execution": {
     "iopub.execute_input": "2022-10-30T00:57:03.642891Z",
     "iopub.status.busy": "2022-10-30T00:57:03.639345Z",
     "iopub.status.idle": "2022-10-30T00:57:04.301878Z",
     "shell.execute_reply": "2022-10-30T00:57:04.300776Z"
    },
    "papermill": {
     "duration": 0.707212,
     "end_time": "2022-10-30T00:57:04.302020",
     "exception": false,
     "start_time": "2022-10-30T00:57:03.594808",
     "status": "completed"
    },
    "tags": []
   },
   "outputs": [],
   "source": [
    "#hide\n",
    "import pandas as pd\n",
    "import matplotlib.pyplot as plt\n",
    "import matplotlib.ticker as ticker\n",
    "import matplotlib.animation as animation\n",
    "from IPython.display import HTML"
   ]
  },
  {
   "cell_type": "code",
   "execution_count": 21,
   "id": "lasting-extraction",
   "metadata": {
    "execution": {
     "iopub.execute_input": "2022-10-30T00:57:04.384521Z",
     "iopub.status.busy": "2022-10-30T00:57:04.383832Z",
     "iopub.status.idle": "2022-10-30T00:57:04.392701Z",
     "shell.execute_reply": "2022-10-30T00:57:04.392165Z"
    },
    "papermill": {
     "duration": 0.053062,
     "end_time": "2022-10-30T00:57:04.392818",
     "exception": false,
     "start_time": "2022-10-30T00:57:04.339756",
     "status": "completed"
    },
    "tags": []
   },
   "outputs": [],
   "source": [
    "#hide\n",
    "t = everydaycases.stack()"
   ]
  },
  {
   "cell_type": "code",
   "execution_count": 22,
   "id": "premier-sleeve",
   "metadata": {
    "execution": {
     "iopub.execute_input": "2022-10-30T00:57:04.474544Z",
     "iopub.status.busy": "2022-10-30T00:57:04.473843Z",
     "iopub.status.idle": "2022-10-30T00:57:04.487871Z",
     "shell.execute_reply": "2022-10-30T00:57:04.488567Z"
    },
    "papermill": {
     "duration": 0.056855,
     "end_time": "2022-10-30T00:57:04.488703",
     "exception": false,
     "start_time": "2022-10-30T00:57:04.431848",
     "status": "completed"
    },
    "tags": []
   },
   "outputs": [],
   "source": [
    "#hide\n",
    "g = t.reset_index(['Country/Region'])"
   ]
  },
  {
   "cell_type": "code",
   "execution_count": 23,
   "id": "distributed-pittsburgh",
   "metadata": {
    "execution": {
     "iopub.execute_input": "2022-10-30T00:57:04.570979Z",
     "iopub.status.busy": "2022-10-30T00:57:04.570260Z",
     "iopub.status.idle": "2022-10-30T00:57:04.573187Z",
     "shell.execute_reply": "2022-10-30T00:57:04.573918Z"
    },
    "papermill": {
     "duration": 0.045734,
     "end_time": "2022-10-30T00:57:04.574057",
     "exception": false,
     "start_time": "2022-10-30T00:57:04.528323",
     "status": "completed"
    },
    "tags": []
   },
   "outputs": [],
   "source": [
    "#hide\n",
    "g.index.name = 'date'"
   ]
  },
  {
   "cell_type": "code",
   "execution_count": 24,
   "id": "naked-donor",
   "metadata": {
    "execution": {
     "iopub.execute_input": "2022-10-30T00:57:04.655740Z",
     "iopub.status.busy": "2022-10-30T00:57:04.654019Z",
     "iopub.status.idle": "2022-10-30T00:57:04.656503Z",
     "shell.execute_reply": "2022-10-30T00:57:04.657030Z"
    },
    "papermill": {
     "duration": 0.044495,
     "end_time": "2022-10-30T00:57:04.657156",
     "exception": false,
     "start_time": "2022-10-30T00:57:04.612661",
     "status": "completed"
    },
    "tags": []
   },
   "outputs": [],
   "source": [
    "# #hide\n",
    "# g = g.reset_index(['date'])"
   ]
  },
  {
   "cell_type": "code",
   "execution_count": 25,
   "id": "incomplete-mustang",
   "metadata": {
    "execution": {
     "iopub.execute_input": "2022-10-30T00:57:04.744058Z",
     "iopub.status.busy": "2022-10-30T00:57:04.743262Z",
     "iopub.status.idle": "2022-10-30T00:57:04.748326Z",
     "shell.execute_reply": "2022-10-30T00:57:04.748982Z"
    },
    "papermill": {
     "duration": 0.050662,
     "end_time": "2022-10-30T00:57:04.749142",
     "exception": false,
     "start_time": "2022-10-30T00:57:04.698480",
     "status": "completed"
    },
    "tags": []
   },
   "outputs": [],
   "source": [
    "#hide\n",
    "# g.head()"
   ]
  },
  {
   "cell_type": "code",
   "execution_count": 26,
   "id": "specific-kruger",
   "metadata": {
    "execution": {
     "iopub.execute_input": "2022-10-30T00:57:04.834235Z",
     "iopub.status.busy": "2022-10-30T00:57:04.833300Z",
     "iopub.status.idle": "2022-10-30T00:57:04.836362Z",
     "shell.execute_reply": "2022-10-30T00:57:04.836884Z"
    },
    "papermill": {
     "duration": 0.04839,
     "end_time": "2022-10-30T00:57:04.837079",
     "exception": false,
     "start_time": "2022-10-30T00:57:04.788689",
     "status": "completed"
    },
    "tags": []
   },
   "outputs": [],
   "source": [
    "#hide\n",
    "# g.columns = ['date','country','cases']"
   ]
  },
  {
   "cell_type": "code",
   "execution_count": 27,
   "id": "tender-conversion",
   "metadata": {
    "execution": {
     "iopub.execute_input": "2022-10-30T00:57:04.920038Z",
     "iopub.status.busy": "2022-10-30T00:57:04.919307Z",
     "iopub.status.idle": "2022-10-30T00:57:04.922745Z",
     "shell.execute_reply": "2022-10-30T00:57:04.921968Z"
    },
    "papermill": {
     "duration": 0.047647,
     "end_time": "2022-10-30T00:57:04.922894",
     "exception": false,
     "start_time": "2022-10-30T00:57:04.875247",
     "status": "completed"
    },
    "tags": []
   },
   "outputs": [],
   "source": [
    "#hide\n",
    "# g['continent'] = g.country"
   ]
  },
  {
   "cell_type": "code",
   "execution_count": 28,
   "id": "substantial-wilderness",
   "metadata": {
    "execution": {
     "iopub.execute_input": "2022-10-30T00:57:05.005145Z",
     "iopub.status.busy": "2022-10-30T00:57:05.004173Z",
     "iopub.status.idle": "2022-10-30T00:57:05.007053Z",
     "shell.execute_reply": "2022-10-30T00:57:05.007548Z"
    },
    "papermill": {
     "duration": 0.045547,
     "end_time": "2022-10-30T00:57:05.007687",
     "exception": false,
     "start_time": "2022-10-30T00:57:04.962140",
     "status": "completed"
    },
    "tags": []
   },
   "outputs": [],
   "source": [
    "#hide\n",
    "# cols = list(g.columns.values)"
   ]
  },
  {
   "cell_type": "code",
   "execution_count": 29,
   "id": "solved-farming",
   "metadata": {
    "execution": {
     "iopub.execute_input": "2022-10-30T00:57:05.089680Z",
     "iopub.status.busy": "2022-10-30T00:57:05.088857Z",
     "iopub.status.idle": "2022-10-30T00:57:05.093928Z",
     "shell.execute_reply": "2022-10-30T00:57:05.092983Z"
    },
    "papermill": {
     "duration": 0.048224,
     "end_time": "2022-10-30T00:57:05.094065",
     "exception": false,
     "start_time": "2022-10-30T00:57:05.045841",
     "status": "completed"
    },
    "tags": []
   },
   "outputs": [],
   "source": [
    "#hide\n",
    "# cols.insert(0, cols.pop())"
   ]
  },
  {
   "cell_type": "code",
   "execution_count": 30,
   "id": "executed-adoption",
   "metadata": {
    "execution": {
     "iopub.execute_input": "2022-10-30T00:57:05.175982Z",
     "iopub.status.busy": "2022-10-30T00:57:05.175283Z",
     "iopub.status.idle": "2022-10-30T00:57:05.178648Z",
     "shell.execute_reply": "2022-10-30T00:57:05.178095Z"
    },
    "papermill": {
     "duration": 0.04481,
     "end_time": "2022-10-30T00:57:05.178803",
     "exception": false,
     "start_time": "2022-10-30T00:57:05.133993",
     "status": "completed"
    },
    "tags": []
   },
   "outputs": [],
   "source": [
    "#hide\n",
    "# g = g[cols]"
   ]
  },
  {
   "cell_type": "code",
   "execution_count": 31,
   "id": "subject-dublin",
   "metadata": {
    "execution": {
     "iopub.execute_input": "2022-10-30T00:57:05.259549Z",
     "iopub.status.busy": "2022-10-30T00:57:05.258863Z",
     "iopub.status.idle": "2022-10-30T00:57:05.262786Z",
     "shell.execute_reply": "2022-10-30T00:57:05.263317Z"
    },
    "papermill": {
     "duration": 0.04516,
     "end_time": "2022-10-30T00:57:05.263440",
     "exception": false,
     "start_time": "2022-10-30T00:57:05.218280",
     "status": "completed"
    },
    "tags": []
   },
   "outputs": [],
   "source": [
    "#hide\n",
    "# g['continent'] = g['continent'].map(mapping['map.continent'])"
   ]
  },
  {
   "cell_type": "code",
   "execution_count": 32,
   "id": "freelance-scout",
   "metadata": {
    "execution": {
     "iopub.execute_input": "2022-10-30T00:57:05.344739Z",
     "iopub.status.busy": "2022-10-30T00:57:05.343963Z",
     "iopub.status.idle": "2022-10-30T00:57:05.347123Z",
     "shell.execute_reply": "2022-10-30T00:57:05.346422Z"
    },
    "papermill": {
     "duration": 0.044369,
     "end_time": "2022-10-30T00:57:05.347257",
     "exception": false,
     "start_time": "2022-10-30T00:57:05.302888",
     "status": "completed"
    },
    "tags": []
   },
   "outputs": [],
   "source": [
    "#hide\n",
    "# g.head()"
   ]
  },
  {
   "cell_type": "code",
   "execution_count": 33,
   "id": "limited-engine",
   "metadata": {
    "execution": {
     "iopub.execute_input": "2022-10-30T00:57:05.431108Z",
     "iopub.status.busy": "2022-10-30T00:57:05.430326Z",
     "iopub.status.idle": "2022-10-30T00:57:05.433984Z",
     "shell.execute_reply": "2022-10-30T00:57:05.433412Z"
    },
    "papermill": {
     "duration": 0.046604,
     "end_time": "2022-10-30T00:57:05.434103",
     "exception": false,
     "start_time": "2022-10-30T00:57:05.387499",
     "status": "completed"
    },
    "tags": []
   },
   "outputs": [],
   "source": [
    "# hide\n",
    "# g['date'] = g['date'].astype('datetime64[ns]')"
   ]
  },
  {
   "cell_type": "code",
   "execution_count": 34,
   "id": "sophisticated-supervisor",
   "metadata": {
    "execution": {
     "iopub.execute_input": "2022-10-30T00:57:05.521986Z",
     "iopub.status.busy": "2022-10-30T00:57:05.521212Z",
     "iopub.status.idle": "2022-10-30T00:57:05.524817Z",
     "shell.execute_reply": "2022-10-30T00:57:05.524199Z"
    },
    "papermill": {
     "duration": 0.046986,
     "end_time": "2022-10-30T00:57:05.524950",
     "exception": false,
     "start_time": "2022-10-30T00:57:05.477964",
     "status": "completed"
    },
    "tags": []
   },
   "outputs": [],
   "source": [
    "#hide\n",
    "# g['date'] = g.date.dt.dayofyear"
   ]
  },
  {
   "cell_type": "code",
   "execution_count": 35,
   "id": "inside-dubai",
   "metadata": {
    "execution": {
     "iopub.execute_input": "2022-10-30T00:57:05.611073Z",
     "iopub.status.busy": "2022-10-30T00:57:05.610369Z",
     "iopub.status.idle": "2022-10-30T00:57:05.614117Z",
     "shell.execute_reply": "2022-10-30T00:57:05.613424Z"
    },
    "papermill": {
     "duration": 0.046645,
     "end_time": "2022-10-30T00:57:05.614302",
     "exception": false,
     "start_time": "2022-10-30T00:57:05.567657",
     "status": "completed"
    },
    "tags": []
   },
   "outputs": [],
   "source": [
    "#hide\n",
    "# g = g.rename(columns= {'continent':'group','country':'name','cases':'value'})"
   ]
  },
  {
   "cell_type": "code",
   "execution_count": 36,
   "id": "fleet-motorcycle",
   "metadata": {
    "execution": {
     "iopub.execute_input": "2022-10-30T00:57:05.694986Z",
     "iopub.status.busy": "2022-10-30T00:57:05.694116Z",
     "iopub.status.idle": "2022-10-30T00:57:05.697589Z",
     "shell.execute_reply": "2022-10-30T00:57:05.696782Z"
    },
    "papermill": {
     "duration": 0.046754,
     "end_time": "2022-10-30T00:57:05.697711",
     "exception": false,
     "start_time": "2022-10-30T00:57:05.650957",
     "status": "completed"
    },
    "tags": []
   },
   "outputs": [],
   "source": [
    "#hide\n",
    "# cols = ['name','group','day','value']"
   ]
  },
  {
   "cell_type": "code",
   "execution_count": 37,
   "id": "continued-sleeping",
   "metadata": {
    "execution": {
     "iopub.execute_input": "2022-10-30T00:57:05.777287Z",
     "iopub.status.busy": "2022-10-30T00:57:05.776425Z",
     "iopub.status.idle": "2022-10-30T00:57:05.781136Z",
     "shell.execute_reply": "2022-10-30T00:57:05.781928Z"
    },
    "papermill": {
     "duration": 0.045645,
     "end_time": "2022-10-30T00:57:05.782051",
     "exception": false,
     "start_time": "2022-10-30T00:57:05.736406",
     "status": "completed"
    },
    "tags": []
   },
   "outputs": [],
   "source": [
    "#hide\n",
    "# g.rename(columns= {'date':'day'},inplace = True)"
   ]
  },
  {
   "cell_type": "code",
   "execution_count": 38,
   "id": "major-fight",
   "metadata": {
    "execution": {
     "iopub.execute_input": "2022-10-30T00:57:05.863819Z",
     "iopub.status.busy": "2022-10-30T00:57:05.863028Z",
     "iopub.status.idle": "2022-10-30T00:57:05.866037Z",
     "shell.execute_reply": "2022-10-30T00:57:05.866604Z"
    },
    "papermill": {
     "duration": 0.04576,
     "end_time": "2022-10-30T00:57:05.866743",
     "exception": false,
     "start_time": "2022-10-30T00:57:05.820983",
     "status": "completed"
    },
    "tags": []
   },
   "outputs": [],
   "source": [
    "#hide\n",
    "# g = g[cols]"
   ]
  },
  {
   "cell_type": "code",
   "execution_count": 39,
   "id": "structured-mobile",
   "metadata": {
    "execution": {
     "iopub.execute_input": "2022-10-30T00:57:05.950802Z",
     "iopub.status.busy": "2022-10-30T00:57:05.950145Z",
     "iopub.status.idle": "2022-10-30T00:57:05.953880Z",
     "shell.execute_reply": "2022-10-30T00:57:05.953065Z"
    },
    "papermill": {
     "duration": 0.048121,
     "end_time": "2022-10-30T00:57:05.954054",
     "exception": false,
     "start_time": "2022-10-30T00:57:05.905933",
     "status": "completed"
    },
    "tags": []
   },
   "outputs": [],
   "source": [
    "# #hide\n",
    "# g = g[g.group.notna()]"
   ]
  },
  {
   "cell_type": "code",
   "execution_count": 40,
   "id": "determined-closing",
   "metadata": {
    "execution": {
     "iopub.execute_input": "2022-10-30T00:57:06.034016Z",
     "iopub.status.busy": "2022-10-30T00:57:06.033144Z",
     "iopub.status.idle": "2022-10-30T00:57:06.036469Z",
     "shell.execute_reply": "2022-10-30T00:57:06.035908Z"
    },
    "papermill": {
     "duration": 0.044646,
     "end_time": "2022-10-30T00:57:06.036586",
     "exception": false,
     "start_time": "2022-10-30T00:57:05.991940",
     "status": "completed"
    },
    "tags": []
   },
   "outputs": [],
   "source": [
    "# #hide\n",
    "# colors = dict(zip(\n",
    "#     [\"Oceania\", \"Europe\", \"Asia\", \"South America\", \"Middle East\", \"North America\", \"Africa\"],\n",
    "#     [\"#adb0ff\", \"#ffb3ff\", \"#90d595\", \"#e48381\", \"#aafbff\", \"#f7bb5f\", \"#eafb50\"]\n",
    "# ))\n",
    "# group_lk = g.set_index('name')['group'].to_dict()"
   ]
  },
  {
   "cell_type": "code",
   "execution_count": null,
   "id": "gross-drinking",
   "metadata": {
    "papermill": {
     "duration": 0.039403,
     "end_time": "2022-10-30T00:57:06.115162",
     "exception": false,
     "start_time": "2022-10-30T00:57:06.075759",
     "status": "completed"
    },
    "tags": []
   },
   "outputs": [],
   "source": []
  },
  {
   "cell_type": "code",
   "execution_count": 41,
   "id": "subject-macintosh",
   "metadata": {
    "execution": {
     "iopub.execute_input": "2022-10-30T00:57:06.194838Z",
     "iopub.status.busy": "2022-10-30T00:57:06.194049Z",
     "iopub.status.idle": "2022-10-30T00:57:06.197469Z",
     "shell.execute_reply": "2022-10-30T00:57:06.196893Z"
    },
    "papermill": {
     "duration": 0.04636,
     "end_time": "2022-10-30T00:57:06.197618",
     "exception": false,
     "start_time": "2022-10-30T00:57:06.151258",
     "status": "completed"
    },
    "tags": []
   },
   "outputs": [],
   "source": [
    "# #hide\n",
    "# fig, ax = plt.subplots(figsize=(15, 8))\n",
    "\n",
    "# def draw_barchart(current_day):\n",
    "#     dff = g[g['day'].eq(current_day)].sort_values(by='value', ascending=True).tail(10)\n",
    "#     ax.clear()\n",
    "#     ax.barh(dff['name'], dff['value'], color=[colors[group_lk[x]] for x in dff['name']])\n",
    "#     dx = dff['value'].max() / 200\n",
    "    \n",
    "#     for i, (value, name) in enumerate(zip(dff['value'], dff['name'])):\n",
    "#         ax.text(value-dx, i,     name,           size=14, weight=600, ha='right', va='bottom')\n",
    "#         ax.text(value-dx, i-.25, group_lk[name], size=10, color='#444444', ha='right', va='baseline')\n",
    "#         ax.text(value+dx, i,     f'{value:,.0f}',  size=14, ha='left',  va='center')\n",
    "#     ax.text(1, 0.4, current_day, transform=ax.transAxes, color='#777777', size=46, ha='right', weight=800)\n",
    "#     ax.text(0, 1.06, 'Population (thousands)', transform=ax.transAxes, size=12, color='#777777')\n",
    "#     ax.xaxis.set_major_formatter(ticker.StrMethodFormatter('{x:,.0f}'))\n",
    "#     ax.xaxis.set_ticks_position('top')\n",
    "#     ax.tick_params(axis='x', colors='#777777', labelsize=12)\n",
    "#     ax.set_yticks([])\n",
    "#     ax.margins(0, 0.01)\n",
    "#     ax.grid(which='major', axis='x', linestyle='-')\n",
    "#     ax.set_axisbelow(True)\n",
    "    \n",
    "#     ax.text(0, 1.15, 'Coronavirus',\n",
    "#             transform=ax.transAxes, size=24, weight=600, ha='left', va='top')\n",
    "# #     ax.text(1, 0, 'by @pratapvardhan; credit @jburnmurdoch', transform=ax.transAxes, color='#777777', ha='right',\n",
    "# #             bbox=dict(facecolor='white', alpha=0.8, edgecolor='white'))\n",
    "#     plt.box(False)"
   ]
  },
  {
   "cell_type": "code",
   "execution_count": 42,
   "id": "sexual-wages",
   "metadata": {
    "execution": {
     "iopub.execute_input": "2022-10-30T00:57:06.279085Z",
     "iopub.status.busy": "2022-10-30T00:57:06.278211Z",
     "iopub.status.idle": "2022-10-30T00:57:06.281354Z",
     "shell.execute_reply": "2022-10-30T00:57:06.280588Z"
    },
    "papermill": {
     "duration": 0.045582,
     "end_time": "2022-10-30T00:57:06.281605",
     "exception": false,
     "start_time": "2022-10-30T00:57:06.236023",
     "status": "completed"
    },
    "tags": []
   },
   "outputs": [],
   "source": [
    "# #hide_input\n",
    "# fig, ax = plt.subplots(figsize=(15, 8))\n",
    "# animator = animation.FuncAnimation(fig, draw_barchart, frames=range(g.day.values.min(), g.day.values.max()))\n",
    "# HTML(animator.to_jshtml())\n",
    "# # or use animator.to_html5_video() or animator.save() "
   ]
  },
  {
   "cell_type": "code",
   "execution_count": null,
   "id": "australian-container",
   "metadata": {
    "papermill": {
     "duration": 0.036381,
     "end_time": "2022-10-30T00:57:06.356291",
     "exception": false,
     "start_time": "2022-10-30T00:57:06.319910",
     "status": "completed"
    },
    "tags": []
   },
   "outputs": [],
   "source": []
  },
  {
   "cell_type": "code",
   "execution_count": null,
   "id": "mediterranean-pontiac",
   "metadata": {
    "papermill": {
     "duration": 0.039949,
     "end_time": "2022-10-30T00:57:06.435944",
     "exception": false,
     "start_time": "2022-10-30T00:57:06.395995",
     "status": "completed"
    },
    "tags": []
   },
   "outputs": [],
   "source": []
  },
  {
   "cell_type": "code",
   "execution_count": null,
   "id": "aging-legislature",
   "metadata": {
    "papermill": {
     "duration": 0.040595,
     "end_time": "2022-10-30T00:57:06.516360",
     "exception": false,
     "start_time": "2022-10-30T00:57:06.475765",
     "status": "completed"
    },
    "tags": []
   },
   "outputs": [],
   "source": []
  }
 ],
 "metadata": {
  "kernelspec": {
   "display_name": "Python 3",
   "language": "python",
   "name": "python3"
  },
  "language_info": {
   "codemirror_mode": {
    "name": "ipython",
    "version": 3
   },
   "file_extension": ".py",
   "mimetype": "text/x-python",
   "name": "python",
   "nbconvert_exporter": "python",
   "pygments_lexer": "ipython3",
   "version": "3.6.15"
  },
  "papermill": {
   "duration": 7.406666,
   "end_time": "2022-10-30T00:57:06.875077",
   "environment_variables": {},
   "exception": null,
   "input_path": "2020-03-21-covid19exp.ipynb",
   "output_path": "2020-03-21-covid19exp.ipynb",
   "parameters": {},
   "start_time": "2022-10-30T00:56:59.468411",
   "version": "2.0.0"
  }
 },
 "nbformat": 4,
 "nbformat_minor": 5
}