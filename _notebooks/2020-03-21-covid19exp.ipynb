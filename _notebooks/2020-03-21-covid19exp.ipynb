{
 "cells": [
  {
   "cell_type": "markdown",
   "id": "muslim-click",
   "metadata": {
    "papermill": {
     "duration": 0.0455,
     "end_time": "2021-01-22T00:41:15.157308",
     "exception": false,
     "start_time": "2021-01-22T00:41:15.111808",
     "status": "completed"
    },
    "tags": []
   },
   "source": [
    "# COVID-19 Case Race\n",
    "> A race chart to see rising cases around the world\n",
    "\n",
    "- author: Hargun Oberoi\n",
    "- image: images/covid-overview.png\n",
    "- hide: false\n",
    "- badges: false"
   ]
  },
  {
   "cell_type": "code",
   "execution_count": 1,
   "id": "proof-material",
   "metadata": {
    "execution": {
     "iopub.execute_input": "2021-01-22T00:41:15.235811Z",
     "iopub.status.busy": "2021-01-22T00:41:15.235172Z",
     "iopub.status.idle": "2021-01-22T00:41:15.570909Z",
     "shell.execute_reply": "2021-01-22T00:41:15.569433Z"
    },
    "papermill": {
     "duration": 0.38003,
     "end_time": "2021-01-22T00:41:15.571158",
     "exception": false,
     "start_time": "2021-01-22T00:41:15.191128",
     "status": "completed"
    },
    "tags": []
   },
   "outputs": [],
   "source": [
    "#hide\n",
    "import numpy as np\n",
    "import pandas as pd\n",
    "from jinja2 import Template\n",
    "from IPython.display import HTML"
   ]
  },
  {
   "cell_type": "code",
   "execution_count": 2,
   "id": "developed-terminology",
   "metadata": {
    "execution": {
     "iopub.execute_input": "2021-01-22T00:41:15.646418Z",
     "iopub.status.busy": "2021-01-22T00:41:15.645698Z",
     "iopub.status.idle": "2021-01-22T00:41:15.647494Z",
     "shell.execute_reply": "2021-01-22T00:41:15.648034Z"
    },
    "papermill": {
     "duration": 0.04072,
     "end_time": "2021-01-22T00:41:15.648181",
     "exception": false,
     "start_time": "2021-01-22T00:41:15.607461",
     "status": "completed"
    },
    "tags": []
   },
   "outputs": [],
   "source": [
    "#hide\n",
    "\n",
    "# FETCH\n",
    "base_url = 'https://raw.githubusercontent.com/pratapvardhan/notebooks/master/covid19/'\n",
    "paths = {\n",
    "    'mapping': base_url + 'mapping_countries.csv',\n",
    "    'overview': base_url + 'overview.tpl'\n",
    "}"
   ]
  },
  {
   "cell_type": "code",
   "execution_count": 3,
   "id": "dynamic-saver",
   "metadata": {
    "execution": {
     "iopub.execute_input": "2021-01-22T00:41:15.729603Z",
     "iopub.status.busy": "2021-01-22T00:41:15.728949Z",
     "iopub.status.idle": "2021-01-22T00:41:15.731351Z",
     "shell.execute_reply": "2021-01-22T00:41:15.731848Z"
    },
    "papermill": {
     "duration": 0.050451,
     "end_time": "2021-01-22T00:41:15.731996",
     "exception": false,
     "start_time": "2021-01-22T00:41:15.681545",
     "status": "completed"
    },
    "tags": []
   },
   "outputs": [
    {
     "data": {
      "text/plain": [
       "'https://raw.githubusercontent.com/pratapvardhan/notebooks/master/covid19/mapping_countries.csv'"
      ]
     },
     "execution_count": 3,
     "metadata": {},
     "output_type": "execute_result"
    }
   ],
   "source": [
    "#hide\n",
    "paths['mapping']"
   ]
  },
  {
   "cell_type": "code",
   "execution_count": 4,
   "id": "urban-software",
   "metadata": {
    "execution": {
     "iopub.execute_input": "2021-01-22T00:41:15.807478Z",
     "iopub.status.busy": "2021-01-22T00:41:15.806887Z",
     "iopub.status.idle": "2021-01-22T00:41:15.809014Z",
     "shell.execute_reply": "2021-01-22T00:41:15.808520Z"
    },
    "papermill": {
     "duration": 0.043621,
     "end_time": "2021-01-22T00:41:15.809169",
     "exception": false,
     "start_time": "2021-01-22T00:41:15.765548",
     "status": "completed"
    },
    "tags": []
   },
   "outputs": [],
   "source": [
    "#hide\n",
    "def get_mappings(url):\n",
    "    df = pd.read_csv(url)\n",
    "    return {\n",
    "        'df': df,\n",
    "        'replace.country': dict(df.dropna(subset=['Name']).set_index('Country')['Name']),\n",
    "        'map.continent': dict(df.set_index('Name')['Continent'])\n",
    "    }"
   ]
  },
  {
   "cell_type": "code",
   "execution_count": 5,
   "id": "intimate-machinery",
   "metadata": {
    "execution": {
     "iopub.execute_input": "2021-01-22T00:41:15.880340Z",
     "iopub.status.busy": "2021-01-22T00:41:15.879748Z",
     "iopub.status.idle": "2021-01-22T00:41:15.949932Z",
     "shell.execute_reply": "2021-01-22T00:41:15.950410Z"
    },
    "papermill": {
     "duration": 0.109242,
     "end_time": "2021-01-22T00:41:15.950570",
     "exception": false,
     "start_time": "2021-01-22T00:41:15.841328",
     "status": "completed"
    },
    "tags": []
   },
   "outputs": [],
   "source": [
    "#hide\n",
    "mapping = get_mappings(paths['mapping'])"
   ]
  },
  {
   "cell_type": "code",
   "execution_count": 6,
   "id": "certified-tactics",
   "metadata": {
    "execution": {
     "iopub.execute_input": "2021-01-22T00:41:16.025189Z",
     "iopub.status.busy": "2021-01-22T00:41:16.024548Z",
     "iopub.status.idle": "2021-01-22T00:41:16.027147Z",
     "shell.execute_reply": "2021-01-22T00:41:16.027705Z"
    },
    "papermill": {
     "duration": 0.043843,
     "end_time": "2021-01-22T00:41:16.027854",
     "exception": false,
     "start_time": "2021-01-22T00:41:15.984011",
     "status": "completed"
    },
    "tags": []
   },
   "outputs": [],
   "source": [
    "#hide\n",
    "def get_template(path):\n",
    "    from urllib.parse import urlparse\n",
    "    if bool(urlparse(path).netloc):\n",
    "        from urllib.request import urlopen\n",
    "        return urlopen(path).read().decode('utf8')\n",
    "    return open(path).read()"
   ]
  },
  {
   "cell_type": "code",
   "execution_count": 7,
   "id": "realistic-blast",
   "metadata": {
    "execution": {
     "iopub.execute_input": "2021-01-22T00:41:16.099523Z",
     "iopub.status.busy": "2021-01-22T00:41:16.098917Z",
     "iopub.status.idle": "2021-01-22T00:41:16.101051Z",
     "shell.execute_reply": "2021-01-22T00:41:16.101639Z"
    },
    "papermill": {
     "duration": 0.040634,
     "end_time": "2021-01-22T00:41:16.101790",
     "exception": false,
     "start_time": "2021-01-22T00:41:16.061156",
     "status": "completed"
    },
    "tags": []
   },
   "outputs": [],
   "source": [
    "#hide\n",
    "def get_frame(name):\n",
    "    url = (\n",
    "        'https://raw.githubusercontent.com/CSSEGISandData/COVID-19/master/csse_covid_19_data/'\n",
    "        f'csse_covid_19_time_series/time_series_covid19_{name}_global.csv')\n",
    "    df = pd.read_csv(url)\n",
    "    # rename countries\n",
    "    df['Country/Region'] = df['Country/Region'].replace(mapping['replace.country'])\n",
    "    return df"
   ]
  },
  {
   "cell_type": "code",
   "execution_count": 8,
   "id": "affiliated-characterization",
   "metadata": {
    "execution": {
     "iopub.execute_input": "2021-01-22T00:41:16.175140Z",
     "iopub.status.busy": "2021-01-22T00:41:16.174535Z",
     "iopub.status.idle": "2021-01-22T00:41:16.176777Z",
     "shell.execute_reply": "2021-01-22T00:41:16.176211Z"
    },
    "papermill": {
     "duration": 0.041772,
     "end_time": "2021-01-22T00:41:16.176901",
     "exception": false,
     "start_time": "2021-01-22T00:41:16.135129",
     "status": "completed"
    },
    "tags": []
   },
   "outputs": [],
   "source": [
    "#hide\n",
    "def get_dates(df):\n",
    "    dt_cols = df.columns[~df.columns.isin(['Province/State', 'Country/Region', 'Lat', 'Long'])]\n",
    "    LAST_DATE_I = -1\n",
    "    # sometimes last column may be empty, then go backwards\n",
    "    for i in range(-1, -len(dt_cols), -1):\n",
    "        if not df[dt_cols[i]].fillna(0).eq(0).all():\n",
    "            LAST_DATE_I = i\n",
    "            break\n",
    "    return LAST_DATE_I, dt_cols"
   ]
  },
  {
   "cell_type": "code",
   "execution_count": 9,
   "id": "recent-optimization",
   "metadata": {
    "execution": {
     "iopub.execute_input": "2021-01-22T00:41:16.248926Z",
     "iopub.status.busy": "2021-01-22T00:41:16.248323Z",
     "iopub.status.idle": "2021-01-22T00:41:16.698865Z",
     "shell.execute_reply": "2021-01-22T00:41:16.699335Z"
    },
    "papermill": {
     "duration": 0.489435,
     "end_time": "2021-01-22T00:41:16.699478",
     "exception": false,
     "start_time": "2021-01-22T00:41:16.210043",
     "status": "completed"
    },
    "tags": []
   },
   "outputs": [],
   "source": [
    "#hide\n",
    "COL_REGION = 'Country/Region'\n",
    "# Confirmed, Recovered, Deaths\n",
    "df = get_frame('confirmed')\n",
    "# dft_: timeseries, dfc_: today country agg\n",
    "dft_cases = df\n",
    "dft_deaths = get_frame('deaths')\n",
    "dft_recovered = get_frame('recovered')\n",
    "LAST_DATE_I, dt_cols = get_dates(df)"
   ]
  },
  {
   "cell_type": "code",
   "execution_count": 10,
   "id": "absolute-copper",
   "metadata": {
    "execution": {
     "iopub.execute_input": "2021-01-22T00:41:16.777532Z",
     "iopub.status.busy": "2021-01-22T00:41:16.776825Z",
     "iopub.status.idle": "2021-01-22T00:41:16.778668Z",
     "shell.execute_reply": "2021-01-22T00:41:16.779114Z"
    },
    "papermill": {
     "duration": 0.046813,
     "end_time": "2021-01-22T00:41:16.779267",
     "exception": false,
     "start_time": "2021-01-22T00:41:16.732454",
     "status": "completed"
    },
    "tags": []
   },
   "outputs": [],
   "source": [
    "#hide\n",
    "LAST_DATE_I, dt_cols = get_dates(df)\n",
    "dt_today =dt_cols[LAST_DATE_I]\n",
    "# dt_5day = dt_cols[LAST_DATE_I - 5]\n",
    "dt_yday = dt_cols[LAST_DATE_I - 1]"
   ]
  },
  {
   "cell_type": "code",
   "execution_count": 11,
   "id": "restricted-sheriff",
   "metadata": {
    "execution": {
     "iopub.execute_input": "2021-01-22T00:41:16.860709Z",
     "iopub.status.busy": "2021-01-22T00:41:16.860116Z",
     "iopub.status.idle": "2021-01-22T00:41:16.872000Z",
     "shell.execute_reply": "2021-01-22T00:41:16.871376Z"
    },
    "papermill": {
     "duration": 0.053248,
     "end_time": "2021-01-22T00:41:16.872129",
     "exception": false,
     "start_time": "2021-01-22T00:41:16.818881",
     "status": "completed"
    },
    "tags": []
   },
   "outputs": [],
   "source": [
    "#hide\n",
    "dfc_cases = dft_cases.groupby(COL_REGION)[dt_today].sum()\n",
    "dfc_deaths = dft_deaths.groupby(COL_REGION)[dt_today].sum()\n",
    "# dfp_cases = dft_cases.groupby(COL_REGION)[dt_5day].sum()\n",
    "# dfp_deaths = dft_deaths.groupby(COL_REGION)[dt_5day].sum()\n",
    "dfp_cases = dft_cases.groupby(COL_REGION)[dt_yday].sum()\n",
    "dfp_deaths = dft_deaths.groupby(COL_REGION)[dt_yday].sum()"
   ]
  },
  {
   "cell_type": "code",
   "execution_count": 12,
   "id": "deluxe-hepatitis",
   "metadata": {
    "execution": {
     "iopub.execute_input": "2021-01-22T00:41:16.945786Z",
     "iopub.status.busy": "2021-01-22T00:41:16.945183Z",
     "iopub.status.idle": "2021-01-22T00:41:16.949980Z",
     "shell.execute_reply": "2021-01-22T00:41:16.949501Z"
    },
    "papermill": {
     "duration": 0.044493,
     "end_time": "2021-01-22T00:41:16.950109",
     "exception": false,
     "start_time": "2021-01-22T00:41:16.905616",
     "status": "completed"
    },
    "tags": []
   },
   "outputs": [],
   "source": [
    "#hide\n",
    "df_table = (pd.DataFrame(dict(Cases = dfc_cases, Deaths = dfc_deaths, PCases = dfp_cases, PDeaths = dfp_deaths))\n",
    "            .sort_values(by = ['Cases','Deaths'], ascending = [False, False])\n",
    "            .reset_index())"
   ]
  },
  {
   "cell_type": "code",
   "execution_count": 13,
   "id": "educational-chancellor",
   "metadata": {
    "execution": {
     "iopub.execute_input": "2021-01-22T00:41:17.032266Z",
     "iopub.status.busy": "2021-01-22T00:41:17.031697Z",
     "iopub.status.idle": "2021-01-22T00:41:17.040140Z",
     "shell.execute_reply": "2021-01-22T00:41:17.039657Z"
    },
    "papermill": {
     "duration": 0.058723,
     "end_time": "2021-01-22T00:41:17.040260",
     "exception": false,
     "start_time": "2021-01-22T00:41:16.981537",
     "status": "completed"
    },
    "tags": []
   },
   "outputs": [
    {
     "data": {
      "text/html": [
       "<div>\n",
       "<style scoped>\n",
       "    .dataframe tbody tr th:only-of-type {\n",
       "        vertical-align: middle;\n",
       "    }\n",
       "\n",
       "    .dataframe tbody tr th {\n",
       "        vertical-align: top;\n",
       "    }\n",
       "\n",
       "    .dataframe thead th {\n",
       "        text-align: right;\n",
       "    }\n",
       "</style>\n",
       "<table border=\"1\" class=\"dataframe\">\n",
       "  <thead>\n",
       "    <tr style=\"text-align: right;\">\n",
       "      <th></th>\n",
       "      <th>Country/Region</th>\n",
       "      <th>Cases</th>\n",
       "      <th>Deaths</th>\n",
       "      <th>PCases</th>\n",
       "      <th>PDeaths</th>\n",
       "      <th>Cases (+)</th>\n",
       "      <th>Deaths (+)</th>\n",
       "      <th>Fatality Rate</th>\n",
       "      <th>Continent</th>\n",
       "    </tr>\n",
       "  </thead>\n",
       "  <tbody>\n",
       "    <tr>\n",
       "      <th>0</th>\n",
       "      <td>US</td>\n",
       "      <td>24438723</td>\n",
       "      <td>406147</td>\n",
       "      <td>24256028</td>\n",
       "      <td>401772</td>\n",
       "      <td>182695</td>\n",
       "      <td>4375</td>\n",
       "      <td>1.66</td>\n",
       "      <td>North America</td>\n",
       "    </tr>\n",
       "    <tr>\n",
       "      <th>1</th>\n",
       "      <td>India</td>\n",
       "      <td>10610883</td>\n",
       "      <td>152869</td>\n",
       "      <td>10595639</td>\n",
       "      <td>152718</td>\n",
       "      <td>15244</td>\n",
       "      <td>151</td>\n",
       "      <td>1.44</td>\n",
       "      <td>Asia</td>\n",
       "    </tr>\n",
       "    <tr>\n",
       "      <th>2</th>\n",
       "      <td>Brazil</td>\n",
       "      <td>8638249</td>\n",
       "      <td>212831</td>\n",
       "      <td>8573864</td>\n",
       "      <td>211491</td>\n",
       "      <td>64385</td>\n",
       "      <td>1340</td>\n",
       "      <td>2.46</td>\n",
       "      <td>South America</td>\n",
       "    </tr>\n",
       "    <tr>\n",
       "      <th>3</th>\n",
       "      <td>Russia</td>\n",
       "      <td>3595136</td>\n",
       "      <td>66214</td>\n",
       "      <td>3574330</td>\n",
       "      <td>65632</td>\n",
       "      <td>20806</td>\n",
       "      <td>582</td>\n",
       "      <td>1.84</td>\n",
       "      <td>Europe</td>\n",
       "    </tr>\n",
       "    <tr>\n",
       "      <th>4</th>\n",
       "      <td>United Kingdom</td>\n",
       "      <td>3515796</td>\n",
       "      <td>93469</td>\n",
       "      <td>3476804</td>\n",
       "      <td>91643</td>\n",
       "      <td>38992</td>\n",
       "      <td>1826</td>\n",
       "      <td>2.66</td>\n",
       "      <td>Europe</td>\n",
       "    </tr>\n",
       "  </tbody>\n",
       "</table>\n",
       "</div>"
      ],
      "text/plain": [
       "   Country/Region     Cases  Deaths    PCases  PDeaths  Cases (+)  Deaths (+)  \\\n",
       "0              US  24438723  406147  24256028   401772     182695        4375   \n",
       "1           India  10610883  152869  10595639   152718      15244         151   \n",
       "2          Brazil   8638249  212831   8573864   211491      64385        1340   \n",
       "3          Russia   3595136   66214   3574330    65632      20806         582   \n",
       "4  United Kingdom   3515796   93469   3476804    91643      38992        1826   \n",
       "\n",
       "   Fatality Rate      Continent  \n",
       "0           1.66  North America  \n",
       "1           1.44           Asia  \n",
       "2           2.46  South America  \n",
       "3           1.84         Europe  \n",
       "4           2.66         Europe  "
      ]
     },
     "execution_count": 13,
     "metadata": {},
     "output_type": "execute_result"
    }
   ],
   "source": [
    "#hide\n",
    "for c in 'Cases, Deaths'.split(', '):\n",
    "    df_table[f'{c} (+)'] = (df_table[c] - df_table[f'P{c}']).clip(0)\n",
    "    #Clip ça veut dire, les chiffres negatif sont interdit\n",
    "df_table['Fatality Rate'] = (100* df_table['Deaths']/ df_table['Cases']).round(2)\n",
    "df_table['Continent'] = df_table['Country/Region'].map(mapping['map.continent'])\n",
    "df_table.head(5)"
   ]
  },
  {
   "cell_type": "code",
   "execution_count": 14,
   "id": "aboriginal-bulgaria",
   "metadata": {
    "execution": {
     "iopub.execute_input": "2021-01-22T00:41:17.116046Z",
     "iopub.status.busy": "2021-01-22T00:41:17.115481Z",
     "iopub.status.idle": "2021-01-22T00:41:17.118087Z",
     "shell.execute_reply": "2021-01-22T00:41:17.118603Z"
    },
    "papermill": {
     "duration": 0.0417,
     "end_time": "2021-01-22T00:41:17.118744",
     "exception": false,
     "start_time": "2021-01-22T00:41:17.077044",
     "status": "completed"
    },
    "tags": []
   },
   "outputs": [],
   "source": [
    "#hide\n",
    "#delete problematic countries from table\n",
    "df_table = df_table[~df_table['Country/Region'].isin(['Cape Verde', 'Cruise Ship', 'Kosovo'])]"
   ]
  },
  {
   "cell_type": "code",
   "execution_count": 15,
   "id": "fantastic-effect",
   "metadata": {
    "execution": {
     "iopub.execute_input": "2021-01-22T00:41:17.191539Z",
     "iopub.status.busy": "2021-01-22T00:41:17.190923Z",
     "iopub.status.idle": "2021-01-22T00:41:17.212823Z",
     "shell.execute_reply": "2021-01-22T00:41:17.212239Z"
    },
    "papermill": {
     "duration": 0.06175,
     "end_time": "2021-01-22T00:41:17.212970",
     "exception": false,
     "start_time": "2021-01-22T00:41:17.151220",
     "status": "completed"
    },
    "tags": []
   },
   "outputs": [
    {
     "data": {
      "text/html": [
       "<div>\n",
       "<style scoped>\n",
       "    .dataframe tbody tr th:only-of-type {\n",
       "        vertical-align: middle;\n",
       "    }\n",
       "\n",
       "    .dataframe tbody tr th {\n",
       "        vertical-align: top;\n",
       "    }\n",
       "\n",
       "    .dataframe thead th {\n",
       "        text-align: right;\n",
       "    }\n",
       "</style>\n",
       "<table border=\"1\" class=\"dataframe\">\n",
       "  <thead>\n",
       "    <tr style=\"text-align: right;\">\n",
       "      <th></th>\n",
       "      <th>Country/Region</th>\n",
       "      <th>Cases</th>\n",
       "      <th>Deaths</th>\n",
       "      <th>PCases</th>\n",
       "      <th>PDeaths</th>\n",
       "      <th>Cases (+)</th>\n",
       "      <th>Deaths (+)</th>\n",
       "      <th>Fatality Rate</th>\n",
       "      <th>Continent</th>\n",
       "    </tr>\n",
       "  </thead>\n",
       "  <tbody>\n",
       "    <tr>\n",
       "      <th>0</th>\n",
       "      <td>US</td>\n",
       "      <td>24438723</td>\n",
       "      <td>406147</td>\n",
       "      <td>24256028</td>\n",
       "      <td>401772</td>\n",
       "      <td>182695</td>\n",
       "      <td>4375</td>\n",
       "      <td>1.7</td>\n",
       "      <td>North America</td>\n",
       "    </tr>\n",
       "    <tr>\n",
       "      <th>1</th>\n",
       "      <td>India</td>\n",
       "      <td>10610883</td>\n",
       "      <td>152869</td>\n",
       "      <td>10595639</td>\n",
       "      <td>152718</td>\n",
       "      <td>15244</td>\n",
       "      <td>151</td>\n",
       "      <td>1.4</td>\n",
       "      <td>Asia</td>\n",
       "    </tr>\n",
       "    <tr>\n",
       "      <th>2</th>\n",
       "      <td>Brazil</td>\n",
       "      <td>8638249</td>\n",
       "      <td>212831</td>\n",
       "      <td>8573864</td>\n",
       "      <td>211491</td>\n",
       "      <td>64385</td>\n",
       "      <td>1340</td>\n",
       "      <td>2.5</td>\n",
       "      <td>South America</td>\n",
       "    </tr>\n",
       "    <tr>\n",
       "      <th>3</th>\n",
       "      <td>Russia</td>\n",
       "      <td>3595136</td>\n",
       "      <td>66214</td>\n",
       "      <td>3574330</td>\n",
       "      <td>65632</td>\n",
       "      <td>20806</td>\n",
       "      <td>582</td>\n",
       "      <td>1.8</td>\n",
       "      <td>Europe</td>\n",
       "    </tr>\n",
       "    <tr>\n",
       "      <th>4</th>\n",
       "      <td>United Kingdom</td>\n",
       "      <td>3515796</td>\n",
       "      <td>93469</td>\n",
       "      <td>3476804</td>\n",
       "      <td>91643</td>\n",
       "      <td>38992</td>\n",
       "      <td>1826</td>\n",
       "      <td>2.7</td>\n",
       "      <td>Europe</td>\n",
       "    </tr>\n",
       "  </tbody>\n",
       "</table>\n",
       "</div>"
      ],
      "text/plain": [
       "   Country/Region     Cases  Deaths    PCases  PDeaths  Cases (+)  Deaths (+)  \\\n",
       "0              US  24438723  406147  24256028   401772     182695        4375   \n",
       "1           India  10610883  152869  10595639   152718      15244         151   \n",
       "2          Brazil   8638249  212831   8573864   211491      64385        1340   \n",
       "3          Russia   3595136   66214   3574330    65632      20806         582   \n",
       "4  United Kingdom   3515796   93469   3476804    91643      38992        1826   \n",
       "\n",
       "   Fatality Rate      Continent  \n",
       "0            1.7  North America  \n",
       "1            1.4           Asia  \n",
       "2            2.5  South America  \n",
       "3            1.8         Europe  \n",
       "4            2.7         Europe  "
      ]
     },
     "execution_count": 15,
     "metadata": {},
     "output_type": "execute_result"
    }
   ],
   "source": [
    "#hide\n",
    "df_table = (pd.DataFrame(dict(Cases=dfc_cases, Deaths=dfc_deaths, PCases=dfp_cases, PDeaths=dfp_deaths))\n",
    "             .sort_values(by=['Cases', 'Deaths'], ascending=[False, False])\n",
    "             .reset_index())\n",
    "df_table.rename(columns={'index': 'Country/Region'}, inplace=True)\n",
    "for c in 'Cases, Deaths'.split(', '):\n",
    "    df_table[f'{c} (+)'] = (df_table[c] - df_table[f'P{c}']).clip(0)  # DATA BUG\n",
    "df_table['Fatality Rate'] = (100 * df_table['Deaths'] / df_table['Cases']).round(1)\n",
    "df_table['Continent'] = df_table['Country/Region'].map(mapping['map.continent'])\n",
    "df_table.head(5)"
   ]
  },
  {
   "cell_type": "code",
   "execution_count": 16,
   "id": "fewer-occasion",
   "metadata": {
    "execution": {
     "iopub.execute_input": "2021-01-22T00:41:17.286822Z",
     "iopub.status.busy": "2021-01-22T00:41:17.286232Z",
     "iopub.status.idle": "2021-01-22T00:41:17.289215Z",
     "shell.execute_reply": "2021-01-22T00:41:17.288686Z"
    },
    "papermill": {
     "duration": 0.042732,
     "end_time": "2021-01-22T00:41:17.289344",
     "exception": false,
     "start_time": "2021-01-22T00:41:17.246612",
     "status": "completed"
    },
    "tags": []
   },
   "outputs": [],
   "source": [
    "#hide\n",
    "#delete problematic countries from table\n",
    "df_table = df_table[~df_table['Country/Region'].isin(['Cape Verde', 'Cruise Ship', 'Kosovo'])]"
   ]
  },
  {
   "cell_type": "code",
   "execution_count": 17,
   "id": "related-center",
   "metadata": {
    "execution": {
     "iopub.execute_input": "2021-01-22T00:41:17.366058Z",
     "iopub.status.busy": "2021-01-22T00:41:17.365441Z",
     "iopub.status.idle": "2021-01-22T00:41:17.380064Z",
     "shell.execute_reply": "2021-01-22T00:41:17.379617Z"
    },
    "papermill": {
     "duration": 0.057405,
     "end_time": "2021-01-22T00:41:17.380222",
     "exception": false,
     "start_time": "2021-01-22T00:41:17.322817",
     "status": "completed"
    },
    "tags": []
   },
   "outputs": [],
   "source": [
    "#hide\n",
    "metrics = [df_table.columns[index] for index in [1,2,5,6]]\n",
    "# s_china = df_table[df_table['Country/Region'].eq('China')][metrics].sum().add_prefix('China ')\n",
    "s_us = df_table[df_table['Country/Region'].eq('US')][metrics].sum().add_prefix('US ')\n",
    "s_eu = df_table[df_table['Continent'].eq('Europe')][metrics].sum().add_prefix('EU ')\n",
    "s_ind = df_table[df_table['Country/Region'].eq('India')][metrics].sum().add_prefix('India ')\n",
    "summary = {'updated': pd.to_datetime(dt_today), 'since': pd.to_datetime(dt_yday)}\n",
    "summary = {'updated': pd.to_datetime(dt_today), 'since': pd.to_datetime(dt_yday)}\n",
    "summary = {**summary, **df_table[metrics].sum(), **s_ind, **s_us, **s_eu}"
   ]
  },
  {
   "cell_type": "code",
   "execution_count": 18,
   "id": "engaging-syndrome",
   "metadata": {
    "execution": {
     "iopub.execute_input": "2021-01-22T00:41:17.454122Z",
     "iopub.status.busy": "2021-01-22T00:41:17.453535Z",
     "iopub.status.idle": "2021-01-22T00:41:17.465038Z",
     "shell.execute_reply": "2021-01-22T00:41:17.465566Z"
    },
    "papermill": {
     "duration": 0.051901,
     "end_time": "2021-01-22T00:41:17.465721",
     "exception": false,
     "start_time": "2021-01-22T00:41:17.413820",
     "status": "completed"
    },
    "tags": []
   },
   "outputs": [],
   "source": [
    "#hide\n",
    "dft_ct_new_cases = dft_cases.groupby(COL_REGION)[dt_cols].sum().diff(axis=1).fillna(0).astype(int)"
   ]
  },
  {
   "cell_type": "code",
   "execution_count": 19,
   "id": "neutral-assignment",
   "metadata": {
    "execution": {
     "iopub.execute_input": "2021-01-22T00:41:17.536735Z",
     "iopub.status.busy": "2021-01-22T00:41:17.536137Z",
     "iopub.status.idle": "2021-01-22T00:41:17.538491Z",
     "shell.execute_reply": "2021-01-22T00:41:17.537997Z"
    },
    "papermill": {
     "duration": 0.039669,
     "end_time": "2021-01-22T00:41:17.538615",
     "exception": false,
     "start_time": "2021-01-22T00:41:17.498946",
     "status": "completed"
    },
    "tags": []
   },
   "outputs": [],
   "source": [
    "#hide\n",
    "everydaycases = dft_ct_new_cases.cumsum(axis=1)"
   ]
  },
  {
   "cell_type": "code",
   "execution_count": 20,
   "id": "parliamentary-calgary",
   "metadata": {
    "execution": {
     "iopub.execute_input": "2021-01-22T00:41:17.610165Z",
     "iopub.status.busy": "2021-01-22T00:41:17.609569Z",
     "iopub.status.idle": "2021-01-22T00:41:19.152279Z",
     "shell.execute_reply": "2021-01-22T00:41:19.152766Z"
    },
    "papermill": {
     "duration": 1.581971,
     "end_time": "2021-01-22T00:41:19.152930",
     "exception": false,
     "start_time": "2021-01-22T00:41:17.570959",
     "status": "completed"
    },
    "tags": []
   },
   "outputs": [],
   "source": [
    "#hide\n",
    "import pandas as pd\n",
    "import matplotlib.pyplot as plt\n",
    "import matplotlib.ticker as ticker\n",
    "import matplotlib.animation as animation\n",
    "from IPython.display import HTML"
   ]
  },
  {
   "cell_type": "code",
   "execution_count": 21,
   "id": "lasting-extraction",
   "metadata": {
    "execution": {
     "iopub.execute_input": "2021-01-22T00:41:19.230771Z",
     "iopub.status.busy": "2021-01-22T00:41:19.230174Z",
     "iopub.status.idle": "2021-01-22T00:41:19.235411Z",
     "shell.execute_reply": "2021-01-22T00:41:19.234876Z"
    },
    "papermill": {
     "duration": 0.046876,
     "end_time": "2021-01-22T00:41:19.235540",
     "exception": false,
     "start_time": "2021-01-22T00:41:19.188664",
     "status": "completed"
    },
    "tags": []
   },
   "outputs": [],
   "source": [
    "#hide\n",
    "t = everydaycases.stack()"
   ]
  },
  {
   "cell_type": "code",
   "execution_count": 22,
   "id": "premier-sleeve",
   "metadata": {
    "execution": {
     "iopub.execute_input": "2021-01-22T00:41:19.311311Z",
     "iopub.status.busy": "2021-01-22T00:41:19.310715Z",
     "iopub.status.idle": "2021-01-22T00:41:19.317607Z",
     "shell.execute_reply": "2021-01-22T00:41:19.317097Z"
    },
    "papermill": {
     "duration": 0.047359,
     "end_time": "2021-01-22T00:41:19.317833",
     "exception": false,
     "start_time": "2021-01-22T00:41:19.270474",
     "status": "completed"
    },
    "tags": []
   },
   "outputs": [],
   "source": [
    "#hide\n",
    "g = t.reset_index(['Country/Region'])"
   ]
  },
  {
   "cell_type": "code",
   "execution_count": 23,
   "id": "distributed-pittsburgh",
   "metadata": {
    "execution": {
     "iopub.execute_input": "2021-01-22T00:41:19.394939Z",
     "iopub.status.busy": "2021-01-22T00:41:19.394341Z",
     "iopub.status.idle": "2021-01-22T00:41:19.397553Z",
     "shell.execute_reply": "2021-01-22T00:41:19.397003Z"
    },
    "papermill": {
     "duration": 0.042688,
     "end_time": "2021-01-22T00:41:19.397679",
     "exception": false,
     "start_time": "2021-01-22T00:41:19.354991",
     "status": "completed"
    },
    "tags": []
   },
   "outputs": [],
   "source": [
    "#hide\n",
    "g.index.name = 'date'"
   ]
  },
  {
   "cell_type": "code",
   "execution_count": 24,
   "id": "naked-donor",
   "metadata": {
    "execution": {
     "iopub.execute_input": "2021-01-22T00:41:19.471950Z",
     "iopub.status.busy": "2021-01-22T00:41:19.471362Z",
     "iopub.status.idle": "2021-01-22T00:41:19.473789Z",
     "shell.execute_reply": "2021-01-22T00:41:19.473295Z"
    },
    "papermill": {
     "duration": 0.041001,
     "end_time": "2021-01-22T00:41:19.473960",
     "exception": false,
     "start_time": "2021-01-22T00:41:19.432959",
     "status": "completed"
    },
    "tags": []
   },
   "outputs": [],
   "source": [
    "# #hide\n",
    "# g = g.reset_index(['date'])"
   ]
  },
  {
   "cell_type": "code",
   "execution_count": 25,
   "id": "incomplete-mustang",
   "metadata": {
    "execution": {
     "iopub.execute_input": "2021-01-22T00:41:19.547416Z",
     "iopub.status.busy": "2021-01-22T00:41:19.546589Z",
     "iopub.status.idle": "2021-01-22T00:41:19.549575Z",
     "shell.execute_reply": "2021-01-22T00:41:19.548976Z"
    },
    "papermill": {
     "duration": 0.040912,
     "end_time": "2021-01-22T00:41:19.549704",
     "exception": false,
     "start_time": "2021-01-22T00:41:19.508792",
     "status": "completed"
    },
    "tags": []
   },
   "outputs": [],
   "source": [
    "#hide\n",
    "# g.head()"
   ]
  },
  {
   "cell_type": "code",
   "execution_count": 26,
   "id": "specific-kruger",
   "metadata": {
    "execution": {
     "iopub.execute_input": "2021-01-22T00:41:19.624356Z",
     "iopub.status.busy": "2021-01-22T00:41:19.623763Z",
     "iopub.status.idle": "2021-01-22T00:41:19.625514Z",
     "shell.execute_reply": "2021-01-22T00:41:19.625989Z"
    },
    "papermill": {
     "duration": 0.041189,
     "end_time": "2021-01-22T00:41:19.626121",
     "exception": false,
     "start_time": "2021-01-22T00:41:19.584932",
     "status": "completed"
    },
    "tags": []
   },
   "outputs": [],
   "source": [
    "#hide\n",
    "# g.columns = ['date','country','cases']"
   ]
  },
  {
   "cell_type": "code",
   "execution_count": 27,
   "id": "tender-conversion",
   "metadata": {
    "execution": {
     "iopub.execute_input": "2021-01-22T00:41:19.709074Z",
     "iopub.status.busy": "2021-01-22T00:41:19.708148Z",
     "iopub.status.idle": "2021-01-22T00:41:19.709728Z",
     "shell.execute_reply": "2021-01-22T00:41:19.710180Z"
    },
    "papermill": {
     "duration": 0.048539,
     "end_time": "2021-01-22T00:41:19.710326",
     "exception": false,
     "start_time": "2021-01-22T00:41:19.661787",
     "status": "completed"
    },
    "tags": []
   },
   "outputs": [],
   "source": [
    "#hide\n",
    "# g['continent'] = g.country"
   ]
  },
  {
   "cell_type": "code",
   "execution_count": 28,
   "id": "substantial-wilderness",
   "metadata": {
    "execution": {
     "iopub.execute_input": "2021-01-22T00:41:19.783862Z",
     "iopub.status.busy": "2021-01-22T00:41:19.783300Z",
     "iopub.status.idle": "2021-01-22T00:41:19.785511Z",
     "shell.execute_reply": "2021-01-22T00:41:19.785975Z"
    },
    "papermill": {
     "duration": 0.041055,
     "end_time": "2021-01-22T00:41:19.786109",
     "exception": false,
     "start_time": "2021-01-22T00:41:19.745054",
     "status": "completed"
    },
    "tags": []
   },
   "outputs": [],
   "source": [
    "#hide\n",
    "# cols = list(g.columns.values)"
   ]
  },
  {
   "cell_type": "code",
   "execution_count": 29,
   "id": "solved-farming",
   "metadata": {
    "execution": {
     "iopub.execute_input": "2021-01-22T00:41:19.872933Z",
     "iopub.status.busy": "2021-01-22T00:41:19.872333Z",
     "iopub.status.idle": "2021-01-22T00:41:19.874622Z",
     "shell.execute_reply": "2021-01-22T00:41:19.875096Z"
    },
    "papermill": {
     "duration": 0.048117,
     "end_time": "2021-01-22T00:41:19.875233",
     "exception": false,
     "start_time": "2021-01-22T00:41:19.827116",
     "status": "completed"
    },
    "tags": []
   },
   "outputs": [],
   "source": [
    "#hide\n",
    "# cols.insert(0, cols.pop())"
   ]
  },
  {
   "cell_type": "code",
   "execution_count": 30,
   "id": "executed-adoption",
   "metadata": {
    "execution": {
     "iopub.execute_input": "2021-01-22T00:41:19.950551Z",
     "iopub.status.busy": "2021-01-22T00:41:19.949947Z",
     "iopub.status.idle": "2021-01-22T00:41:19.951415Z",
     "shell.execute_reply": "2021-01-22T00:41:19.951903Z"
    },
    "papermill": {
     "duration": 0.041504,
     "end_time": "2021-01-22T00:41:19.952046",
     "exception": false,
     "start_time": "2021-01-22T00:41:19.910542",
     "status": "completed"
    },
    "tags": []
   },
   "outputs": [],
   "source": [
    "#hide\n",
    "# g = g[cols]"
   ]
  },
  {
   "cell_type": "code",
   "execution_count": 31,
   "id": "subject-dublin",
   "metadata": {
    "execution": {
     "iopub.execute_input": "2021-01-22T00:41:20.025079Z",
     "iopub.status.busy": "2021-01-22T00:41:20.024488Z",
     "iopub.status.idle": "2021-01-22T00:41:20.026731Z",
     "shell.execute_reply": "2021-01-22T00:41:20.027285Z"
    },
    "papermill": {
     "duration": 0.041215,
     "end_time": "2021-01-22T00:41:20.027421",
     "exception": false,
     "start_time": "2021-01-22T00:41:19.986206",
     "status": "completed"
    },
    "tags": []
   },
   "outputs": [],
   "source": [
    "#hide\n",
    "# g['continent'] = g['continent'].map(mapping['map.continent'])"
   ]
  },
  {
   "cell_type": "code",
   "execution_count": 32,
   "id": "freelance-scout",
   "metadata": {
    "execution": {
     "iopub.execute_input": "2021-01-22T00:41:20.099501Z",
     "iopub.status.busy": "2021-01-22T00:41:20.098904Z",
     "iopub.status.idle": "2021-01-22T00:41:20.101027Z",
     "shell.execute_reply": "2021-01-22T00:41:20.100498Z"
    },
    "papermill": {
     "duration": 0.039609,
     "end_time": "2021-01-22T00:41:20.101163",
     "exception": false,
     "start_time": "2021-01-22T00:41:20.061554",
     "status": "completed"
    },
    "tags": []
   },
   "outputs": [],
   "source": [
    "#hide\n",
    "# g.head()"
   ]
  },
  {
   "cell_type": "code",
   "execution_count": 33,
   "id": "limited-engine",
   "metadata": {
    "execution": {
     "iopub.execute_input": "2021-01-22T00:41:20.172270Z",
     "iopub.status.busy": "2021-01-22T00:41:20.171680Z",
     "iopub.status.idle": "2021-01-22T00:41:20.173952Z",
     "shell.execute_reply": "2021-01-22T00:41:20.173458Z"
    },
    "papermill": {
     "duration": 0.039475,
     "end_time": "2021-01-22T00:41:20.174076",
     "exception": false,
     "start_time": "2021-01-22T00:41:20.134601",
     "status": "completed"
    },
    "tags": []
   },
   "outputs": [],
   "source": [
    "# hide\n",
    "# g['date'] = g['date'].astype('datetime64[ns]')"
   ]
  },
  {
   "cell_type": "code",
   "execution_count": 34,
   "id": "sophisticated-supervisor",
   "metadata": {
    "execution": {
     "iopub.execute_input": "2021-01-22T00:41:20.245067Z",
     "iopub.status.busy": "2021-01-22T00:41:20.244482Z",
     "iopub.status.idle": "2021-01-22T00:41:20.246700Z",
     "shell.execute_reply": "2021-01-22T00:41:20.246269Z"
    },
    "papermill": {
     "duration": 0.038787,
     "end_time": "2021-01-22T00:41:20.246837",
     "exception": false,
     "start_time": "2021-01-22T00:41:20.208050",
     "status": "completed"
    },
    "tags": []
   },
   "outputs": [],
   "source": [
    "#hide\n",
    "# g['date'] = g.date.dt.dayofyear"
   ]
  },
  {
   "cell_type": "code",
   "execution_count": 35,
   "id": "inside-dubai",
   "metadata": {
    "execution": {
     "iopub.execute_input": "2021-01-22T00:41:20.316941Z",
     "iopub.status.busy": "2021-01-22T00:41:20.316348Z",
     "iopub.status.idle": "2021-01-22T00:41:20.318639Z",
     "shell.execute_reply": "2021-01-22T00:41:20.318151Z"
    },
    "papermill": {
     "duration": 0.039215,
     "end_time": "2021-01-22T00:41:20.318760",
     "exception": false,
     "start_time": "2021-01-22T00:41:20.279545",
     "status": "completed"
    },
    "tags": []
   },
   "outputs": [],
   "source": [
    "#hide\n",
    "# g = g.rename(columns= {'continent':'group','country':'name','cases':'value'})"
   ]
  },
  {
   "cell_type": "code",
   "execution_count": 36,
   "id": "fleet-motorcycle",
   "metadata": {
    "execution": {
     "iopub.execute_input": "2021-01-22T00:41:20.389476Z",
     "iopub.status.busy": "2021-01-22T00:41:20.388863Z",
     "iopub.status.idle": "2021-01-22T00:41:20.391022Z",
     "shell.execute_reply": "2021-01-22T00:41:20.390566Z"
    },
    "papermill": {
     "duration": 0.039309,
     "end_time": "2021-01-22T00:41:20.391135",
     "exception": false,
     "start_time": "2021-01-22T00:41:20.351826",
     "status": "completed"
    },
    "tags": []
   },
   "outputs": [],
   "source": [
    "#hide\n",
    "# cols = ['name','group','day','value']"
   ]
  },
  {
   "cell_type": "code",
   "execution_count": 37,
   "id": "continued-sleeping",
   "metadata": {
    "execution": {
     "iopub.execute_input": "2021-01-22T00:41:20.463537Z",
     "iopub.status.busy": "2021-01-22T00:41:20.462629Z",
     "iopub.status.idle": "2021-01-22T00:41:20.464473Z",
     "shell.execute_reply": "2021-01-22T00:41:20.465202Z"
    },
    "papermill": {
     "duration": 0.041336,
     "end_time": "2021-01-22T00:41:20.465434",
     "exception": false,
     "start_time": "2021-01-22T00:41:20.424098",
     "status": "completed"
    },
    "tags": []
   },
   "outputs": [],
   "source": [
    "#hide\n",
    "# g.rename(columns= {'date':'day'},inplace = True)"
   ]
  },
  {
   "cell_type": "code",
   "execution_count": 38,
   "id": "major-fight",
   "metadata": {
    "execution": {
     "iopub.execute_input": "2021-01-22T00:41:20.564079Z",
     "iopub.status.busy": "2021-01-22T00:41:20.563347Z",
     "iopub.status.idle": "2021-01-22T00:41:20.565809Z",
     "shell.execute_reply": "2021-01-22T00:41:20.565283Z"
    },
    "papermill": {
     "duration": 0.053154,
     "end_time": "2021-01-22T00:41:20.566024",
     "exception": false,
     "start_time": "2021-01-22T00:41:20.512870",
     "status": "completed"
    },
    "tags": []
   },
   "outputs": [],
   "source": [
    "#hide\n",
    "# g = g[cols]"
   ]
  },
  {
   "cell_type": "code",
   "execution_count": 39,
   "id": "structured-mobile",
   "metadata": {
    "execution": {
     "iopub.execute_input": "2021-01-22T00:41:20.645166Z",
     "iopub.status.busy": "2021-01-22T00:41:20.644554Z",
     "iopub.status.idle": "2021-01-22T00:41:20.647670Z",
     "shell.execute_reply": "2021-01-22T00:41:20.647193Z"
    },
    "papermill": {
     "duration": 0.04381,
     "end_time": "2021-01-22T00:41:20.647798",
     "exception": false,
     "start_time": "2021-01-22T00:41:20.603988",
     "status": "completed"
    },
    "tags": []
   },
   "outputs": [],
   "source": [
    "# #hide\n",
    "# g = g[g.group.notna()]"
   ]
  },
  {
   "cell_type": "code",
   "execution_count": 40,
   "id": "determined-closing",
   "metadata": {
    "execution": {
     "iopub.execute_input": "2021-01-22T00:41:20.727971Z",
     "iopub.status.busy": "2021-01-22T00:41:20.727197Z",
     "iopub.status.idle": "2021-01-22T00:41:20.730668Z",
     "shell.execute_reply": "2021-01-22T00:41:20.730099Z"
    },
    "papermill": {
     "duration": 0.045561,
     "end_time": "2021-01-22T00:41:20.730791",
     "exception": false,
     "start_time": "2021-01-22T00:41:20.685230",
     "status": "completed"
    },
    "tags": []
   },
   "outputs": [],
   "source": [
    "# #hide\n",
    "# colors = dict(zip(\n",
    "#     [\"Oceania\", \"Europe\", \"Asia\", \"South America\", \"Middle East\", \"North America\", \"Africa\"],\n",
    "#     [\"#adb0ff\", \"#ffb3ff\", \"#90d595\", \"#e48381\", \"#aafbff\", \"#f7bb5f\", \"#eafb50\"]\n",
    "# ))\n",
    "# group_lk = g.set_index('name')['group'].to_dict()"
   ]
  },
  {
   "cell_type": "code",
   "execution_count": null,
   "id": "gross-drinking",
   "metadata": {
    "papermill": {
     "duration": 0.033242,
     "end_time": "2021-01-22T00:41:20.799642",
     "exception": false,
     "start_time": "2021-01-22T00:41:20.766400",
     "status": "completed"
    },
    "tags": []
   },
   "outputs": [],
   "source": []
  },
  {
   "cell_type": "code",
   "execution_count": 41,
   "id": "subject-macintosh",
   "metadata": {
    "execution": {
     "iopub.execute_input": "2021-01-22T00:41:20.876011Z",
     "iopub.status.busy": "2021-01-22T00:41:20.875413Z",
     "iopub.status.idle": "2021-01-22T00:41:20.878028Z",
     "shell.execute_reply": "2021-01-22T00:41:20.877326Z"
    },
    "papermill": {
     "duration": 0.041084,
     "end_time": "2021-01-22T00:41:20.878165",
     "exception": false,
     "start_time": "2021-01-22T00:41:20.837081",
     "status": "completed"
    },
    "tags": []
   },
   "outputs": [],
   "source": [
    "# #hide\n",
    "# fig, ax = plt.subplots(figsize=(15, 8))\n",
    "\n",
    "# def draw_barchart(current_day):\n",
    "#     dff = g[g['day'].eq(current_day)].sort_values(by='value', ascending=True).tail(10)\n",
    "#     ax.clear()\n",
    "#     ax.barh(dff['name'], dff['value'], color=[colors[group_lk[x]] for x in dff['name']])\n",
    "#     dx = dff['value'].max() / 200\n",
    "    \n",
    "#     for i, (value, name) in enumerate(zip(dff['value'], dff['name'])):\n",
    "#         ax.text(value-dx, i,     name,           size=14, weight=600, ha='right', va='bottom')\n",
    "#         ax.text(value-dx, i-.25, group_lk[name], size=10, color='#444444', ha='right', va='baseline')\n",
    "#         ax.text(value+dx, i,     f'{value:,.0f}',  size=14, ha='left',  va='center')\n",
    "#     ax.text(1, 0.4, current_day, transform=ax.transAxes, color='#777777', size=46, ha='right', weight=800)\n",
    "#     ax.text(0, 1.06, 'Population (thousands)', transform=ax.transAxes, size=12, color='#777777')\n",
    "#     ax.xaxis.set_major_formatter(ticker.StrMethodFormatter('{x:,.0f}'))\n",
    "#     ax.xaxis.set_ticks_position('top')\n",
    "#     ax.tick_params(axis='x', colors='#777777', labelsize=12)\n",
    "#     ax.set_yticks([])\n",
    "#     ax.margins(0, 0.01)\n",
    "#     ax.grid(which='major', axis='x', linestyle='-')\n",
    "#     ax.set_axisbelow(True)\n",
    "    \n",
    "#     ax.text(0, 1.15, 'Coronavirus',\n",
    "#             transform=ax.transAxes, size=24, weight=600, ha='left', va='top')\n",
    "# #     ax.text(1, 0, 'by @pratapvardhan; credit @jburnmurdoch', transform=ax.transAxes, color='#777777', ha='right',\n",
    "# #             bbox=dict(facecolor='white', alpha=0.8, edgecolor='white'))\n",
    "#     plt.box(False)"
   ]
  },
  {
   "cell_type": "code",
   "execution_count": 42,
   "id": "sexual-wages",
   "metadata": {
    "execution": {
     "iopub.execute_input": "2021-01-22T00:41:20.952718Z",
     "iopub.status.busy": "2021-01-22T00:41:20.952177Z",
     "iopub.status.idle": "2021-01-22T00:41:20.955163Z",
     "shell.execute_reply": "2021-01-22T00:41:20.954702Z"
    },
    "papermill": {
     "duration": 0.042434,
     "end_time": "2021-01-22T00:41:20.955281",
     "exception": false,
     "start_time": "2021-01-22T00:41:20.912847",
     "status": "completed"
    },
    "tags": []
   },
   "outputs": [],
   "source": [
    "# #hide_input\n",
    "# fig, ax = plt.subplots(figsize=(15, 8))\n",
    "# animator = animation.FuncAnimation(fig, draw_barchart, frames=range(g.day.values.min(), g.day.values.max()))\n",
    "# HTML(animator.to_jshtml())\n",
    "# # or use animator.to_html5_video() or animator.save() "
   ]
  },
  {
   "cell_type": "code",
   "execution_count": null,
   "id": "australian-container",
   "metadata": {
    "papermill": {
     "duration": 0.038668,
     "end_time": "2021-01-22T00:41:21.030088",
     "exception": false,
     "start_time": "2021-01-22T00:41:20.991420",
     "status": "completed"
    },
    "tags": []
   },
   "outputs": [],
   "source": []
  },
  {
   "cell_type": "code",
   "execution_count": null,
   "id": "mediterranean-pontiac",
   "metadata": {
    "papermill": {
     "duration": 0.036816,
     "end_time": "2021-01-22T00:41:21.101046",
     "exception": false,
     "start_time": "2021-01-22T00:41:21.064230",
     "status": "completed"
    },
    "tags": []
   },
   "outputs": [],
   "source": []
  },
  {
   "cell_type": "code",
   "execution_count": null,
   "id": "aging-legislature",
   "metadata": {
    "papermill": {
     "duration": 0.037378,
     "end_time": "2021-01-22T00:41:21.174647",
     "exception": false,
     "start_time": "2021-01-22T00:41:21.137269",
     "status": "completed"
    },
    "tags": []
   },
   "outputs": [],
   "source": []
  }
 ],
 "metadata": {
  "kernelspec": {
   "display_name": "Python 3",
   "language": "python",
   "name": "python3"
  },
  "language_info": {
   "codemirror_mode": {
    "name": "ipython",
    "version": 3
   },
   "file_extension": ".py",
   "mimetype": "text/x-python",
   "name": "python",
   "nbconvert_exporter": "python",
   "pygments_lexer": "ipython3",
   "version": "3.6.12"
  },
  "papermill": {
   "duration": 8.369421,
   "end_time": "2021-01-22T00:41:22.367020",
   "environment_variables": {},
   "exception": null,
   "input_path": "2020-03-21-covid19exp.ipynb",
   "output_path": "2020-03-21-covid19exp.ipynb",
   "parameters": {},
   "start_time": "2021-01-22T00:41:13.997599",
   "version": "2.0.0"
  }
 },
 "nbformat": 4,
 "nbformat_minor": 5
}