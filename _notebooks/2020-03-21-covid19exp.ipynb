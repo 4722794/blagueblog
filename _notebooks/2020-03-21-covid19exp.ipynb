{
 "cells": [
  {
   "cell_type": "markdown",
   "id": "muslim-click",
   "metadata": {
    "papermill": {
     "duration": 0.042317,
     "end_time": "2021-08-20T12:11:03.276997",
     "exception": false,
     "start_time": "2021-08-20T12:11:03.234680",
     "status": "completed"
    },
    "tags": []
   },
   "source": [
    "# COVID-19 Case Race\n",
    "> A race chart to see rising cases around the world\n",
    "\n",
    "- author: Hargun Oberoi\n",
    "- image: images/covid-overview.png\n",
    "- hide: false\n",
    "- badges: false"
   ]
  },
  {
   "cell_type": "code",
   "execution_count": 1,
   "id": "proof-material",
   "metadata": {
    "execution": {
     "iopub.execute_input": "2021-08-20T12:11:03.374187Z",
     "iopub.status.busy": "2021-08-20T12:11:03.372910Z",
     "iopub.status.idle": "2021-08-20T12:11:03.768835Z",
     "shell.execute_reply": "2021-08-20T12:11:03.768192Z"
    },
    "papermill": {
     "duration": 0.452142,
     "end_time": "2021-08-20T12:11:03.768996",
     "exception": false,
     "start_time": "2021-08-20T12:11:03.316854",
     "status": "completed"
    },
    "tags": []
   },
   "outputs": [],
   "source": [
    "#hide\n",
    "import numpy as np\n",
    "import pandas as pd\n",
    "from jinja2 import Template\n",
    "from IPython.display import HTML"
   ]
  },
  {
   "cell_type": "code",
   "execution_count": 2,
   "id": "developed-terminology",
   "metadata": {
    "execution": {
     "iopub.execute_input": "2021-08-20T12:11:03.853172Z",
     "iopub.status.busy": "2021-08-20T12:11:03.852500Z",
     "iopub.status.idle": "2021-08-20T12:11:03.854942Z",
     "shell.execute_reply": "2021-08-20T12:11:03.854306Z"
    },
    "papermill": {
     "duration": 0.04557,
     "end_time": "2021-08-20T12:11:03.855069",
     "exception": false,
     "start_time": "2021-08-20T12:11:03.809499",
     "status": "completed"
    },
    "tags": []
   },
   "outputs": [],
   "source": [
    "#hide\n",
    "\n",
    "# FETCH\n",
    "base_url = 'https://raw.githubusercontent.com/pratapvardhan/notebooks/master/covid19/'\n",
    "paths = {\n",
    "    'mapping': base_url + 'mapping_countries.csv',\n",
    "    'overview': base_url + 'overview.tpl'\n",
    "}"
   ]
  },
  {
   "cell_type": "code",
   "execution_count": 3,
   "id": "dynamic-saver",
   "metadata": {
    "execution": {
     "iopub.execute_input": "2021-08-20T12:11:03.939266Z",
     "iopub.status.busy": "2021-08-20T12:11:03.938460Z",
     "iopub.status.idle": "2021-08-20T12:11:03.941389Z",
     "shell.execute_reply": "2021-08-20T12:11:03.941985Z"
    },
    "papermill": {
     "duration": 0.050008,
     "end_time": "2021-08-20T12:11:03.942121",
     "exception": false,
     "start_time": "2021-08-20T12:11:03.892113",
     "status": "completed"
    },
    "tags": []
   },
   "outputs": [
    {
     "data": {
      "text/plain": [
       "'https://raw.githubusercontent.com/pratapvardhan/notebooks/master/covid19/mapping_countries.csv'"
      ]
     },
     "execution_count": 3,
     "metadata": {},
     "output_type": "execute_result"
    }
   ],
   "source": [
    "#hide\n",
    "paths['mapping']"
   ]
  },
  {
   "cell_type": "code",
   "execution_count": 4,
   "id": "urban-software",
   "metadata": {
    "execution": {
     "iopub.execute_input": "2021-08-20T12:11:04.023350Z",
     "iopub.status.busy": "2021-08-20T12:11:04.022607Z",
     "iopub.status.idle": "2021-08-20T12:11:04.024320Z",
     "shell.execute_reply": "2021-08-20T12:11:04.024912Z"
    },
    "papermill": {
     "duration": 0.045093,
     "end_time": "2021-08-20T12:11:04.025054",
     "exception": false,
     "start_time": "2021-08-20T12:11:03.979961",
     "status": "completed"
    },
    "tags": []
   },
   "outputs": [],
   "source": [
    "#hide\n",
    "def get_mappings(url):\n",
    "    df = pd.read_csv(url)\n",
    "    return {\n",
    "        'df': df,\n",
    "        'replace.country': dict(df.dropna(subset=['Name']).set_index('Country')['Name']),\n",
    "        'map.continent': dict(df.set_index('Name')['Continent'])\n",
    "    }"
   ]
  },
  {
   "cell_type": "code",
   "execution_count": 5,
   "id": "intimate-machinery",
   "metadata": {
    "execution": {
     "iopub.execute_input": "2021-08-20T12:11:04.105454Z",
     "iopub.status.busy": "2021-08-20T12:11:04.104862Z",
     "iopub.status.idle": "2021-08-20T12:11:04.148090Z",
     "shell.execute_reply": "2021-08-20T12:11:04.147472Z"
    },
    "papermill": {
     "duration": 0.085138,
     "end_time": "2021-08-20T12:11:04.148249",
     "exception": false,
     "start_time": "2021-08-20T12:11:04.063111",
     "status": "completed"
    },
    "tags": []
   },
   "outputs": [],
   "source": [
    "#hide\n",
    "mapping = get_mappings(paths['mapping'])"
   ]
  },
  {
   "cell_type": "code",
   "execution_count": 6,
   "id": "certified-tactics",
   "metadata": {
    "execution": {
     "iopub.execute_input": "2021-08-20T12:11:04.227320Z",
     "iopub.status.busy": "2021-08-20T12:11:04.226559Z",
     "iopub.status.idle": "2021-08-20T12:11:04.229526Z",
     "shell.execute_reply": "2021-08-20T12:11:04.229050Z"
    },
    "papermill": {
     "duration": 0.043893,
     "end_time": "2021-08-20T12:11:04.229644",
     "exception": false,
     "start_time": "2021-08-20T12:11:04.185751",
     "status": "completed"
    },
    "tags": []
   },
   "outputs": [],
   "source": [
    "#hide\n",
    "def get_template(path):\n",
    "    from urllib.parse import urlparse\n",
    "    if bool(urlparse(path).netloc):\n",
    "        from urllib.request import urlopen\n",
    "        return urlopen(path).read().decode('utf8')\n",
    "    return open(path).read()"
   ]
  },
  {
   "cell_type": "code",
   "execution_count": 7,
   "id": "realistic-blast",
   "metadata": {
    "execution": {
     "iopub.execute_input": "2021-08-20T12:11:04.309940Z",
     "iopub.status.busy": "2021-08-20T12:11:04.309171Z",
     "iopub.status.idle": "2021-08-20T12:11:04.311095Z",
     "shell.execute_reply": "2021-08-20T12:11:04.311749Z"
    },
    "papermill": {
     "duration": 0.045334,
     "end_time": "2021-08-20T12:11:04.311891",
     "exception": false,
     "start_time": "2021-08-20T12:11:04.266557",
     "status": "completed"
    },
    "tags": []
   },
   "outputs": [],
   "source": [
    "#hide\n",
    "def get_frame(name):\n",
    "    url = (\n",
    "        'https://raw.githubusercontent.com/CSSEGISandData/COVID-19/master/csse_covid_19_data/'\n",
    "        f'csse_covid_19_time_series/time_series_covid19_{name}_global.csv')\n",
    "    df = pd.read_csv(url)\n",
    "    # rename countries\n",
    "    df['Country/Region'] = df['Country/Region'].replace(mapping['replace.country'])\n",
    "    return df"
   ]
  },
  {
   "cell_type": "code",
   "execution_count": 8,
   "id": "affiliated-characterization",
   "metadata": {
    "execution": {
     "iopub.execute_input": "2021-08-20T12:11:04.397582Z",
     "iopub.status.busy": "2021-08-20T12:11:04.396901Z",
     "iopub.status.idle": "2021-08-20T12:11:04.399380Z",
     "shell.execute_reply": "2021-08-20T12:11:04.398696Z"
    },
    "papermill": {
     "duration": 0.048218,
     "end_time": "2021-08-20T12:11:04.399528",
     "exception": false,
     "start_time": "2021-08-20T12:11:04.351310",
     "status": "completed"
    },
    "tags": []
   },
   "outputs": [],
   "source": [
    "#hide\n",
    "def get_dates(df):\n",
    "    dt_cols = df.columns[~df.columns.isin(['Province/State', 'Country/Region', 'Lat', 'Long'])]\n",
    "    LAST_DATE_I = -1\n",
    "    # sometimes last column may be empty, then go backwards\n",
    "    for i in range(-1, -len(dt_cols), -1):\n",
    "        if not df[dt_cols[i]].fillna(0).eq(0).all():\n",
    "            LAST_DATE_I = i\n",
    "            break\n",
    "    return LAST_DATE_I, dt_cols"
   ]
  },
  {
   "cell_type": "code",
   "execution_count": 9,
   "id": "recent-optimization",
   "metadata": {
    "execution": {
     "iopub.execute_input": "2021-08-20T12:11:04.480654Z",
     "iopub.status.busy": "2021-08-20T12:11:04.479754Z",
     "iopub.status.idle": "2021-08-20T12:11:04.887646Z",
     "shell.execute_reply": "2021-08-20T12:11:04.886542Z"
    },
    "papermill": {
     "duration": 0.451141,
     "end_time": "2021-08-20T12:11:04.887801",
     "exception": false,
     "start_time": "2021-08-20T12:11:04.436660",
     "status": "completed"
    },
    "tags": []
   },
   "outputs": [],
   "source": [
    "#hide\n",
    "COL_REGION = 'Country/Region'\n",
    "# Confirmed, Recovered, Deaths\n",
    "df = get_frame('confirmed')\n",
    "# dft_: timeseries, dfc_: today country agg\n",
    "dft_cases = df\n",
    "dft_deaths = get_frame('deaths')\n",
    "dft_recovered = get_frame('recovered')\n",
    "LAST_DATE_I, dt_cols = get_dates(df)"
   ]
  },
  {
   "cell_type": "code",
   "execution_count": 10,
   "id": "absolute-copper",
   "metadata": {
    "execution": {
     "iopub.execute_input": "2021-08-20T12:11:04.970806Z",
     "iopub.status.busy": "2021-08-20T12:11:04.970165Z",
     "iopub.status.idle": "2021-08-20T12:11:04.972247Z",
     "shell.execute_reply": "2021-08-20T12:11:04.972814Z"
    },
    "papermill": {
     "duration": 0.045914,
     "end_time": "2021-08-20T12:11:04.972961",
     "exception": false,
     "start_time": "2021-08-20T12:11:04.927047",
     "status": "completed"
    },
    "tags": []
   },
   "outputs": [],
   "source": [
    "#hide\n",
    "LAST_DATE_I, dt_cols = get_dates(df)\n",
    "dt_today =dt_cols[LAST_DATE_I]\n",
    "# dt_5day = dt_cols[LAST_DATE_I - 5]\n",
    "dt_yday = dt_cols[LAST_DATE_I - 1]"
   ]
  },
  {
   "cell_type": "code",
   "execution_count": 11,
   "id": "restricted-sheriff",
   "metadata": {
    "execution": {
     "iopub.execute_input": "2021-08-20T12:11:05.053333Z",
     "iopub.status.busy": "2021-08-20T12:11:05.052474Z",
     "iopub.status.idle": "2021-08-20T12:11:05.061315Z",
     "shell.execute_reply": "2021-08-20T12:11:05.061883Z"
    },
    "papermill": {
     "duration": 0.051975,
     "end_time": "2021-08-20T12:11:05.062016",
     "exception": false,
     "start_time": "2021-08-20T12:11:05.010041",
     "status": "completed"
    },
    "tags": []
   },
   "outputs": [],
   "source": [
    "#hide\n",
    "dfc_cases = dft_cases.groupby(COL_REGION)[dt_today].sum()\n",
    "dfc_deaths = dft_deaths.groupby(COL_REGION)[dt_today].sum()\n",
    "# dfp_cases = dft_cases.groupby(COL_REGION)[dt_5day].sum()\n",
    "# dfp_deaths = dft_deaths.groupby(COL_REGION)[dt_5day].sum()\n",
    "dfp_cases = dft_cases.groupby(COL_REGION)[dt_yday].sum()\n",
    "dfp_deaths = dft_deaths.groupby(COL_REGION)[dt_yday].sum()"
   ]
  },
  {
   "cell_type": "code",
   "execution_count": 12,
   "id": "deluxe-hepatitis",
   "metadata": {
    "execution": {
     "iopub.execute_input": "2021-08-20T12:11:05.146041Z",
     "iopub.status.busy": "2021-08-20T12:11:05.145233Z",
     "iopub.status.idle": "2021-08-20T12:11:05.150307Z",
     "shell.execute_reply": "2021-08-20T12:11:05.150763Z"
    },
    "papermill": {
     "duration": 0.049487,
     "end_time": "2021-08-20T12:11:05.150905",
     "exception": false,
     "start_time": "2021-08-20T12:11:05.101418",
     "status": "completed"
    },
    "tags": []
   },
   "outputs": [],
   "source": [
    "#hide\n",
    "df_table = (pd.DataFrame(dict(Cases = dfc_cases, Deaths = dfc_deaths, PCases = dfp_cases, PDeaths = dfp_deaths))\n",
    "            .sort_values(by = ['Cases','Deaths'], ascending = [False, False])\n",
    "            .reset_index())"
   ]
  },
  {
   "cell_type": "code",
   "execution_count": 13,
   "id": "educational-chancellor",
   "metadata": {
    "execution": {
     "iopub.execute_input": "2021-08-20T12:11:05.248084Z",
     "iopub.status.busy": "2021-08-20T12:11:05.247333Z",
     "iopub.status.idle": "2021-08-20T12:11:05.256834Z",
     "shell.execute_reply": "2021-08-20T12:11:05.257341Z"
    },
    "papermill": {
     "duration": 0.068274,
     "end_time": "2021-08-20T12:11:05.257486",
     "exception": false,
     "start_time": "2021-08-20T12:11:05.189212",
     "status": "completed"
    },
    "tags": []
   },
   "outputs": [
    {
     "data": {
      "text/html": [
       "<div>\n",
       "<style scoped>\n",
       "    .dataframe tbody tr th:only-of-type {\n",
       "        vertical-align: middle;\n",
       "    }\n",
       "\n",
       "    .dataframe tbody tr th {\n",
       "        vertical-align: top;\n",
       "    }\n",
       "\n",
       "    .dataframe thead th {\n",
       "        text-align: right;\n",
       "    }\n",
       "</style>\n",
       "<table border=\"1\" class=\"dataframe\">\n",
       "  <thead>\n",
       "    <tr style=\"text-align: right;\">\n",
       "      <th></th>\n",
       "      <th>Country/Region</th>\n",
       "      <th>Cases</th>\n",
       "      <th>Deaths</th>\n",
       "      <th>PCases</th>\n",
       "      <th>PDeaths</th>\n",
       "      <th>Cases (+)</th>\n",
       "      <th>Deaths (+)</th>\n",
       "      <th>Fatality Rate</th>\n",
       "      <th>Continent</th>\n",
       "    </tr>\n",
       "  </thead>\n",
       "  <tbody>\n",
       "    <tr>\n",
       "      <th>0</th>\n",
       "      <td>US</td>\n",
       "      <td>37294141</td>\n",
       "      <td>625166</td>\n",
       "      <td>37155669</td>\n",
       "      <td>624258</td>\n",
       "      <td>138472</td>\n",
       "      <td>908</td>\n",
       "      <td>1.68</td>\n",
       "      <td>North America</td>\n",
       "    </tr>\n",
       "    <tr>\n",
       "      <th>1</th>\n",
       "      <td>India</td>\n",
       "      <td>32358829</td>\n",
       "      <td>433589</td>\n",
       "      <td>32322258</td>\n",
       "      <td>433049</td>\n",
       "      <td>36571</td>\n",
       "      <td>540</td>\n",
       "      <td>1.34</td>\n",
       "      <td>Asia</td>\n",
       "    </tr>\n",
       "    <tr>\n",
       "      <th>2</th>\n",
       "      <td>Brazil</td>\n",
       "      <td>20494212</td>\n",
       "      <td>572641</td>\n",
       "      <td>20457897</td>\n",
       "      <td>571662</td>\n",
       "      <td>36315</td>\n",
       "      <td>979</td>\n",
       "      <td>2.79</td>\n",
       "      <td>South America</td>\n",
       "    </tr>\n",
       "    <tr>\n",
       "      <th>3</th>\n",
       "      <td>France</td>\n",
       "      <td>6636833</td>\n",
       "      <td>113376</td>\n",
       "      <td>6611444</td>\n",
       "      <td>113239</td>\n",
       "      <td>25389</td>\n",
       "      <td>137</td>\n",
       "      <td>1.71</td>\n",
       "      <td>Europe</td>\n",
       "    </tr>\n",
       "    <tr>\n",
       "      <th>4</th>\n",
       "      <td>Russia</td>\n",
       "      <td>6592705</td>\n",
       "      <td>170716</td>\n",
       "      <td>6572246</td>\n",
       "      <td>169948</td>\n",
       "      <td>20459</td>\n",
       "      <td>768</td>\n",
       "      <td>2.59</td>\n",
       "      <td>Europe</td>\n",
       "    </tr>\n",
       "  </tbody>\n",
       "</table>\n",
       "</div>"
      ],
      "text/plain": [
       "  Country/Region     Cases  Deaths    PCases  PDeaths  Cases (+)  Deaths (+)  \\\n",
       "0             US  37294141  625166  37155669   624258     138472         908   \n",
       "1          India  32358829  433589  32322258   433049      36571         540   \n",
       "2         Brazil  20494212  572641  20457897   571662      36315         979   \n",
       "3         France   6636833  113376   6611444   113239      25389         137   \n",
       "4         Russia   6592705  170716   6572246   169948      20459         768   \n",
       "\n",
       "   Fatality Rate      Continent  \n",
       "0           1.68  North America  \n",
       "1           1.34           Asia  \n",
       "2           2.79  South America  \n",
       "3           1.71         Europe  \n",
       "4           2.59         Europe  "
      ]
     },
     "execution_count": 13,
     "metadata": {},
     "output_type": "execute_result"
    }
   ],
   "source": [
    "#hide\n",
    "for c in 'Cases, Deaths'.split(', '):\n",
    "    df_table[f'{c} (+)'] = (df_table[c] - df_table[f'P{c}']).clip(0)\n",
    "    #Clip ça veut dire, les chiffres negatif sont interdit\n",
    "df_table['Fatality Rate'] = (100* df_table['Deaths']/ df_table['Cases']).round(2)\n",
    "df_table['Continent'] = df_table['Country/Region'].map(mapping['map.continent'])\n",
    "df_table.head(5)"
   ]
  },
  {
   "cell_type": "code",
   "execution_count": 14,
   "id": "aboriginal-bulgaria",
   "metadata": {
    "execution": {
     "iopub.execute_input": "2021-08-20T12:11:05.346550Z",
     "iopub.status.busy": "2021-08-20T12:11:05.345711Z",
     "iopub.status.idle": "2021-08-20T12:11:05.348202Z",
     "shell.execute_reply": "2021-08-20T12:11:05.348708Z"
    },
    "papermill": {
     "duration": 0.051833,
     "end_time": "2021-08-20T12:11:05.348867",
     "exception": false,
     "start_time": "2021-08-20T12:11:05.297034",
     "status": "completed"
    },
    "tags": []
   },
   "outputs": [],
   "source": [
    "#hide\n",
    "#delete problematic countries from table\n",
    "df_table = df_table[~df_table['Country/Region'].isin(['Cape Verde', 'Cruise Ship', 'Kosovo'])]"
   ]
  },
  {
   "cell_type": "code",
   "execution_count": 15,
   "id": "fantastic-effect",
   "metadata": {
    "execution": {
     "iopub.execute_input": "2021-08-20T12:11:05.435073Z",
     "iopub.status.busy": "2021-08-20T12:11:05.434316Z",
     "iopub.status.idle": "2021-08-20T12:11:05.456247Z",
     "shell.execute_reply": "2021-08-20T12:11:05.455586Z"
    },
    "papermill": {
     "duration": 0.068306,
     "end_time": "2021-08-20T12:11:05.456401",
     "exception": false,
     "start_time": "2021-08-20T12:11:05.388095",
     "status": "completed"
    },
    "tags": []
   },
   "outputs": [
    {
     "data": {
      "text/html": [
       "<div>\n",
       "<style scoped>\n",
       "    .dataframe tbody tr th:only-of-type {\n",
       "        vertical-align: middle;\n",
       "    }\n",
       "\n",
       "    .dataframe tbody tr th {\n",
       "        vertical-align: top;\n",
       "    }\n",
       "\n",
       "    .dataframe thead th {\n",
       "        text-align: right;\n",
       "    }\n",
       "</style>\n",
       "<table border=\"1\" class=\"dataframe\">\n",
       "  <thead>\n",
       "    <tr style=\"text-align: right;\">\n",
       "      <th></th>\n",
       "      <th>Country/Region</th>\n",
       "      <th>Cases</th>\n",
       "      <th>Deaths</th>\n",
       "      <th>PCases</th>\n",
       "      <th>PDeaths</th>\n",
       "      <th>Cases (+)</th>\n",
       "      <th>Deaths (+)</th>\n",
       "      <th>Fatality Rate</th>\n",
       "      <th>Continent</th>\n",
       "    </tr>\n",
       "  </thead>\n",
       "  <tbody>\n",
       "    <tr>\n",
       "      <th>0</th>\n",
       "      <td>US</td>\n",
       "      <td>37294141</td>\n",
       "      <td>625166</td>\n",
       "      <td>37155669</td>\n",
       "      <td>624258</td>\n",
       "      <td>138472</td>\n",
       "      <td>908</td>\n",
       "      <td>1.7</td>\n",
       "      <td>North America</td>\n",
       "    </tr>\n",
       "    <tr>\n",
       "      <th>1</th>\n",
       "      <td>India</td>\n",
       "      <td>32358829</td>\n",
       "      <td>433589</td>\n",
       "      <td>32322258</td>\n",
       "      <td>433049</td>\n",
       "      <td>36571</td>\n",
       "      <td>540</td>\n",
       "      <td>1.3</td>\n",
       "      <td>Asia</td>\n",
       "    </tr>\n",
       "    <tr>\n",
       "      <th>2</th>\n",
       "      <td>Brazil</td>\n",
       "      <td>20494212</td>\n",
       "      <td>572641</td>\n",
       "      <td>20457897</td>\n",
       "      <td>571662</td>\n",
       "      <td>36315</td>\n",
       "      <td>979</td>\n",
       "      <td>2.8</td>\n",
       "      <td>South America</td>\n",
       "    </tr>\n",
       "    <tr>\n",
       "      <th>3</th>\n",
       "      <td>France</td>\n",
       "      <td>6636833</td>\n",
       "      <td>113376</td>\n",
       "      <td>6611444</td>\n",
       "      <td>113239</td>\n",
       "      <td>25389</td>\n",
       "      <td>137</td>\n",
       "      <td>1.7</td>\n",
       "      <td>Europe</td>\n",
       "    </tr>\n",
       "    <tr>\n",
       "      <th>4</th>\n",
       "      <td>Russia</td>\n",
       "      <td>6592705</td>\n",
       "      <td>170716</td>\n",
       "      <td>6572246</td>\n",
       "      <td>169948</td>\n",
       "      <td>20459</td>\n",
       "      <td>768</td>\n",
       "      <td>2.6</td>\n",
       "      <td>Europe</td>\n",
       "    </tr>\n",
       "  </tbody>\n",
       "</table>\n",
       "</div>"
      ],
      "text/plain": [
       "  Country/Region     Cases  Deaths    PCases  PDeaths  Cases (+)  Deaths (+)  \\\n",
       "0             US  37294141  625166  37155669   624258     138472         908   \n",
       "1          India  32358829  433589  32322258   433049      36571         540   \n",
       "2         Brazil  20494212  572641  20457897   571662      36315         979   \n",
       "3         France   6636833  113376   6611444   113239      25389         137   \n",
       "4         Russia   6592705  170716   6572246   169948      20459         768   \n",
       "\n",
       "   Fatality Rate      Continent  \n",
       "0            1.7  North America  \n",
       "1            1.3           Asia  \n",
       "2            2.8  South America  \n",
       "3            1.7         Europe  \n",
       "4            2.6         Europe  "
      ]
     },
     "execution_count": 15,
     "metadata": {},
     "output_type": "execute_result"
    }
   ],
   "source": [
    "#hide\n",
    "df_table = (pd.DataFrame(dict(Cases=dfc_cases, Deaths=dfc_deaths, PCases=dfp_cases, PDeaths=dfp_deaths))\n",
    "             .sort_values(by=['Cases', 'Deaths'], ascending=[False, False])\n",
    "             .reset_index())\n",
    "df_table.rename(columns={'index': 'Country/Region'}, inplace=True)\n",
    "for c in 'Cases, Deaths'.split(', '):\n",
    "    df_table[f'{c} (+)'] = (df_table[c] - df_table[f'P{c}']).clip(0)  # DATA BUG\n",
    "df_table['Fatality Rate'] = (100 * df_table['Deaths'] / df_table['Cases']).round(1)\n",
    "df_table['Continent'] = df_table['Country/Region'].map(mapping['map.continent'])\n",
    "df_table.head(5)"
   ]
  },
  {
   "cell_type": "code",
   "execution_count": 16,
   "id": "fewer-occasion",
   "metadata": {
    "execution": {
     "iopub.execute_input": "2021-08-20T12:11:05.549149Z",
     "iopub.status.busy": "2021-08-20T12:11:05.548515Z",
     "iopub.status.idle": "2021-08-20T12:11:05.551090Z",
     "shell.execute_reply": "2021-08-20T12:11:05.551740Z"
    },
    "papermill": {
     "duration": 0.055489,
     "end_time": "2021-08-20T12:11:05.551897",
     "exception": false,
     "start_time": "2021-08-20T12:11:05.496408",
     "status": "completed"
    },
    "tags": []
   },
   "outputs": [],
   "source": [
    "#hide\n",
    "#delete problematic countries from table\n",
    "df_table = df_table[~df_table['Country/Region'].isin(['Cape Verde', 'Cruise Ship', 'Kosovo'])]"
   ]
  },
  {
   "cell_type": "code",
   "execution_count": 17,
   "id": "related-center",
   "metadata": {
    "execution": {
     "iopub.execute_input": "2021-08-20T12:11:05.637138Z",
     "iopub.status.busy": "2021-08-20T12:11:05.636484Z",
     "iopub.status.idle": "2021-08-20T12:11:05.651668Z",
     "shell.execute_reply": "2021-08-20T12:11:05.652530Z"
    },
    "papermill": {
     "duration": 0.063092,
     "end_time": "2021-08-20T12:11:05.652718",
     "exception": false,
     "start_time": "2021-08-20T12:11:05.589626",
     "status": "completed"
    },
    "tags": []
   },
   "outputs": [],
   "source": [
    "#hide\n",
    "metrics = [df_table.columns[index] for index in [1,2,5,6]]\n",
    "# s_china = df_table[df_table['Country/Region'].eq('China')][metrics].sum().add_prefix('China ')\n",
    "s_us = df_table[df_table['Country/Region'].eq('US')][metrics].sum().add_prefix('US ')\n",
    "s_eu = df_table[df_table['Continent'].eq('Europe')][metrics].sum().add_prefix('EU ')\n",
    "s_ind = df_table[df_table['Country/Region'].eq('India')][metrics].sum().add_prefix('India ')\n",
    "summary = {'updated': pd.to_datetime(dt_today), 'since': pd.to_datetime(dt_yday)}\n",
    "summary = {'updated': pd.to_datetime(dt_today), 'since': pd.to_datetime(dt_yday)}\n",
    "summary = {**summary, **df_table[metrics].sum(), **s_ind, **s_us, **s_eu}"
   ]
  },
  {
   "cell_type": "code",
   "execution_count": 18,
   "id": "engaging-syndrome",
   "metadata": {
    "execution": {
     "iopub.execute_input": "2021-08-20T12:11:05.737103Z",
     "iopub.status.busy": "2021-08-20T12:11:05.736482Z",
     "iopub.status.idle": "2021-08-20T12:11:05.752128Z",
     "shell.execute_reply": "2021-08-20T12:11:05.751558Z"
    },
    "papermill": {
     "duration": 0.060761,
     "end_time": "2021-08-20T12:11:05.752261",
     "exception": false,
     "start_time": "2021-08-20T12:11:05.691500",
     "status": "completed"
    },
    "tags": []
   },
   "outputs": [],
   "source": [
    "#hide\n",
    "dft_ct_new_cases = dft_cases.groupby(COL_REGION)[dt_cols].sum().diff(axis=1).fillna(0).astype(int)"
   ]
  },
  {
   "cell_type": "code",
   "execution_count": 19,
   "id": "neutral-assignment",
   "metadata": {
    "execution": {
     "iopub.execute_input": "2021-08-20T12:11:05.835553Z",
     "iopub.status.busy": "2021-08-20T12:11:05.834879Z",
     "iopub.status.idle": "2021-08-20T12:11:05.837460Z",
     "shell.execute_reply": "2021-08-20T12:11:05.837980Z"
    },
    "papermill": {
     "duration": 0.047234,
     "end_time": "2021-08-20T12:11:05.838120",
     "exception": false,
     "start_time": "2021-08-20T12:11:05.790886",
     "status": "completed"
    },
    "tags": []
   },
   "outputs": [],
   "source": [
    "#hide\n",
    "everydaycases = dft_ct_new_cases.cumsum(axis=1)"
   ]
  },
  {
   "cell_type": "code",
   "execution_count": 20,
   "id": "parliamentary-calgary",
   "metadata": {
    "execution": {
     "iopub.execute_input": "2021-08-20T12:11:05.923949Z",
     "iopub.status.busy": "2021-08-20T12:11:05.923246Z",
     "iopub.status.idle": "2021-08-20T12:11:06.603949Z",
     "shell.execute_reply": "2021-08-20T12:11:06.603142Z"
    },
    "papermill": {
     "duration": 0.726391,
     "end_time": "2021-08-20T12:11:06.604104",
     "exception": false,
     "start_time": "2021-08-20T12:11:05.877713",
     "status": "completed"
    },
    "tags": []
   },
   "outputs": [],
   "source": [
    "#hide\n",
    "import pandas as pd\n",
    "import matplotlib.pyplot as plt\n",
    "import matplotlib.ticker as ticker\n",
    "import matplotlib.animation as animation\n",
    "from IPython.display import HTML"
   ]
  },
  {
   "cell_type": "code",
   "execution_count": 21,
   "id": "lasting-extraction",
   "metadata": {
    "execution": {
     "iopub.execute_input": "2021-08-20T12:11:06.692553Z",
     "iopub.status.busy": "2021-08-20T12:11:06.691873Z",
     "iopub.status.idle": "2021-08-20T12:11:06.698919Z",
     "shell.execute_reply": "2021-08-20T12:11:06.698259Z"
    },
    "papermill": {
     "duration": 0.05332,
     "end_time": "2021-08-20T12:11:06.699048",
     "exception": false,
     "start_time": "2021-08-20T12:11:06.645728",
     "status": "completed"
    },
    "tags": []
   },
   "outputs": [],
   "source": [
    "#hide\n",
    "t = everydaycases.stack()"
   ]
  },
  {
   "cell_type": "code",
   "execution_count": 22,
   "id": "premier-sleeve",
   "metadata": {
    "execution": {
     "iopub.execute_input": "2021-08-20T12:11:06.787713Z",
     "iopub.status.busy": "2021-08-20T12:11:06.786949Z",
     "iopub.status.idle": "2021-08-20T12:11:06.800763Z",
     "shell.execute_reply": "2021-08-20T12:11:06.801408Z"
    },
    "papermill": {
     "duration": 0.061314,
     "end_time": "2021-08-20T12:11:06.801569",
     "exception": false,
     "start_time": "2021-08-20T12:11:06.740255",
     "status": "completed"
    },
    "tags": []
   },
   "outputs": [],
   "source": [
    "#hide\n",
    "g = t.reset_index(['Country/Region'])"
   ]
  },
  {
   "cell_type": "code",
   "execution_count": 23,
   "id": "distributed-pittsburgh",
   "metadata": {
    "execution": {
     "iopub.execute_input": "2021-08-20T12:11:06.894601Z",
     "iopub.status.busy": "2021-08-20T12:11:06.893925Z",
     "iopub.status.idle": "2021-08-20T12:11:06.896605Z",
     "shell.execute_reply": "2021-08-20T12:11:06.896021Z"
    },
    "papermill": {
     "duration": 0.052408,
     "end_time": "2021-08-20T12:11:06.896792",
     "exception": false,
     "start_time": "2021-08-20T12:11:06.844384",
     "status": "completed"
    },
    "tags": []
   },
   "outputs": [],
   "source": [
    "#hide\n",
    "g.index.name = 'date'"
   ]
  },
  {
   "cell_type": "code",
   "execution_count": 24,
   "id": "naked-donor",
   "metadata": {
    "execution": {
     "iopub.execute_input": "2021-08-20T12:11:06.985176Z",
     "iopub.status.busy": "2021-08-20T12:11:06.983816Z",
     "iopub.status.idle": "2021-08-20T12:11:06.985892Z",
     "shell.execute_reply": "2021-08-20T12:11:06.986517Z"
    },
    "papermill": {
     "duration": 0.047677,
     "end_time": "2021-08-20T12:11:06.986667",
     "exception": false,
     "start_time": "2021-08-20T12:11:06.938990",
     "status": "completed"
    },
    "tags": []
   },
   "outputs": [],
   "source": [
    "# #hide\n",
    "# g = g.reset_index(['date'])"
   ]
  },
  {
   "cell_type": "code",
   "execution_count": 25,
   "id": "incomplete-mustang",
   "metadata": {
    "execution": {
     "iopub.execute_input": "2021-08-20T12:11:07.075053Z",
     "iopub.status.busy": "2021-08-20T12:11:07.074389Z",
     "iopub.status.idle": "2021-08-20T12:11:07.077161Z",
     "shell.execute_reply": "2021-08-20T12:11:07.076540Z"
    },
    "papermill": {
     "duration": 0.047549,
     "end_time": "2021-08-20T12:11:07.077291",
     "exception": false,
     "start_time": "2021-08-20T12:11:07.029742",
     "status": "completed"
    },
    "tags": []
   },
   "outputs": [],
   "source": [
    "#hide\n",
    "# g.head()"
   ]
  },
  {
   "cell_type": "code",
   "execution_count": 26,
   "id": "specific-kruger",
   "metadata": {
    "execution": {
     "iopub.execute_input": "2021-08-20T12:11:07.162981Z",
     "iopub.status.busy": "2021-08-20T12:11:07.162298Z",
     "iopub.status.idle": "2021-08-20T12:11:07.164631Z",
     "shell.execute_reply": "2021-08-20T12:11:07.165204Z"
    },
    "papermill": {
     "duration": 0.048107,
     "end_time": "2021-08-20T12:11:07.165383",
     "exception": false,
     "start_time": "2021-08-20T12:11:07.117276",
     "status": "completed"
    },
    "tags": []
   },
   "outputs": [],
   "source": [
    "#hide\n",
    "# g.columns = ['date','country','cases']"
   ]
  },
  {
   "cell_type": "code",
   "execution_count": 27,
   "id": "tender-conversion",
   "metadata": {
    "execution": {
     "iopub.execute_input": "2021-08-20T12:11:07.249174Z",
     "iopub.status.busy": "2021-08-20T12:11:07.248476Z",
     "iopub.status.idle": "2021-08-20T12:11:07.250560Z",
     "shell.execute_reply": "2021-08-20T12:11:07.251352Z"
    },
    "papermill": {
     "duration": 0.046582,
     "end_time": "2021-08-20T12:11:07.251515",
     "exception": false,
     "start_time": "2021-08-20T12:11:07.204933",
     "status": "completed"
    },
    "tags": []
   },
   "outputs": [],
   "source": [
    "#hide\n",
    "# g['continent'] = g.country"
   ]
  },
  {
   "cell_type": "code",
   "execution_count": 28,
   "id": "substantial-wilderness",
   "metadata": {
    "execution": {
     "iopub.execute_input": "2021-08-20T12:11:07.337405Z",
     "iopub.status.busy": "2021-08-20T12:11:07.336644Z",
     "iopub.status.idle": "2021-08-20T12:11:07.338708Z",
     "shell.execute_reply": "2021-08-20T12:11:07.339320Z"
    },
    "papermill": {
     "duration": 0.047342,
     "end_time": "2021-08-20T12:11:07.339465",
     "exception": false,
     "start_time": "2021-08-20T12:11:07.292123",
     "status": "completed"
    },
    "tags": []
   },
   "outputs": [],
   "source": [
    "#hide\n",
    "# cols = list(g.columns.values)"
   ]
  },
  {
   "cell_type": "code",
   "execution_count": 29,
   "id": "solved-farming",
   "metadata": {
    "execution": {
     "iopub.execute_input": "2021-08-20T12:11:07.426940Z",
     "iopub.status.busy": "2021-08-20T12:11:07.426288Z",
     "iopub.status.idle": "2021-08-20T12:11:07.428386Z",
     "shell.execute_reply": "2021-08-20T12:11:07.429065Z"
    },
    "papermill": {
     "duration": 0.048327,
     "end_time": "2021-08-20T12:11:07.429216",
     "exception": false,
     "start_time": "2021-08-20T12:11:07.380889",
     "status": "completed"
    },
    "tags": []
   },
   "outputs": [],
   "source": [
    "#hide\n",
    "# cols.insert(0, cols.pop())"
   ]
  },
  {
   "cell_type": "code",
   "execution_count": 30,
   "id": "executed-adoption",
   "metadata": {
    "execution": {
     "iopub.execute_input": "2021-08-20T12:11:07.514876Z",
     "iopub.status.busy": "2021-08-20T12:11:07.514150Z",
     "iopub.status.idle": "2021-08-20T12:11:07.516178Z",
     "shell.execute_reply": "2021-08-20T12:11:07.516754Z"
    },
    "papermill": {
     "duration": 0.04833,
     "end_time": "2021-08-20T12:11:07.516898",
     "exception": false,
     "start_time": "2021-08-20T12:11:07.468568",
     "status": "completed"
    },
    "tags": []
   },
   "outputs": [],
   "source": [
    "#hide\n",
    "# g = g[cols]"
   ]
  },
  {
   "cell_type": "code",
   "execution_count": 31,
   "id": "subject-dublin",
   "metadata": {
    "execution": {
     "iopub.execute_input": "2021-08-20T12:11:07.602557Z",
     "iopub.status.busy": "2021-08-20T12:11:07.601858Z",
     "iopub.status.idle": "2021-08-20T12:11:07.603980Z",
     "shell.execute_reply": "2021-08-20T12:11:07.604513Z"
    },
    "papermill": {
     "duration": 0.047507,
     "end_time": "2021-08-20T12:11:07.604661",
     "exception": false,
     "start_time": "2021-08-20T12:11:07.557154",
     "status": "completed"
    },
    "tags": []
   },
   "outputs": [],
   "source": [
    "#hide\n",
    "# g['continent'] = g['continent'].map(mapping['map.continent'])"
   ]
  },
  {
   "cell_type": "code",
   "execution_count": 32,
   "id": "freelance-scout",
   "metadata": {
    "execution": {
     "iopub.execute_input": "2021-08-20T12:11:07.690664Z",
     "iopub.status.busy": "2021-08-20T12:11:07.689971Z",
     "iopub.status.idle": "2021-08-20T12:11:07.692883Z",
     "shell.execute_reply": "2021-08-20T12:11:07.693533Z"
    },
    "papermill": {
     "duration": 0.04887,
     "end_time": "2021-08-20T12:11:07.693697",
     "exception": false,
     "start_time": "2021-08-20T12:11:07.644827",
     "status": "completed"
    },
    "tags": []
   },
   "outputs": [],
   "source": [
    "#hide\n",
    "# g.head()"
   ]
  },
  {
   "cell_type": "code",
   "execution_count": 33,
   "id": "limited-engine",
   "metadata": {
    "execution": {
     "iopub.execute_input": "2021-08-20T12:11:07.780853Z",
     "iopub.status.busy": "2021-08-20T12:11:07.780041Z",
     "iopub.status.idle": "2021-08-20T12:11:07.782372Z",
     "shell.execute_reply": "2021-08-20T12:11:07.783012Z"
    },
    "papermill": {
     "duration": 0.04817,
     "end_time": "2021-08-20T12:11:07.783157",
     "exception": false,
     "start_time": "2021-08-20T12:11:07.734987",
     "status": "completed"
    },
    "tags": []
   },
   "outputs": [],
   "source": [
    "# hide\n",
    "# g['date'] = g['date'].astype('datetime64[ns]')"
   ]
  },
  {
   "cell_type": "code",
   "execution_count": 34,
   "id": "sophisticated-supervisor",
   "metadata": {
    "execution": {
     "iopub.execute_input": "2021-08-20T12:11:07.867946Z",
     "iopub.status.busy": "2021-08-20T12:11:07.867015Z",
     "iopub.status.idle": "2021-08-20T12:11:07.869282Z",
     "shell.execute_reply": "2021-08-20T12:11:07.869799Z"
    },
    "papermill": {
     "duration": 0.047242,
     "end_time": "2021-08-20T12:11:07.869948",
     "exception": false,
     "start_time": "2021-08-20T12:11:07.822706",
     "status": "completed"
    },
    "tags": []
   },
   "outputs": [],
   "source": [
    "#hide\n",
    "# g['date'] = g.date.dt.dayofyear"
   ]
  },
  {
   "cell_type": "code",
   "execution_count": 35,
   "id": "inside-dubai",
   "metadata": {
    "execution": {
     "iopub.execute_input": "2021-08-20T12:11:07.955925Z",
     "iopub.status.busy": "2021-08-20T12:11:07.955285Z",
     "iopub.status.idle": "2021-08-20T12:11:07.957141Z",
     "shell.execute_reply": "2021-08-20T12:11:07.957705Z"
    },
    "papermill": {
     "duration": 0.046974,
     "end_time": "2021-08-20T12:11:07.957843",
     "exception": false,
     "start_time": "2021-08-20T12:11:07.910869",
     "status": "completed"
    },
    "tags": []
   },
   "outputs": [],
   "source": [
    "#hide\n",
    "# g = g.rename(columns= {'continent':'group','country':'name','cases':'value'})"
   ]
  },
  {
   "cell_type": "code",
   "execution_count": 36,
   "id": "fleet-motorcycle",
   "metadata": {
    "execution": {
     "iopub.execute_input": "2021-08-20T12:11:08.052501Z",
     "iopub.status.busy": "2021-08-20T12:11:08.051775Z",
     "iopub.status.idle": "2021-08-20T12:11:08.054392Z",
     "shell.execute_reply": "2021-08-20T12:11:08.053688Z"
    },
    "papermill": {
     "duration": 0.048106,
     "end_time": "2021-08-20T12:11:08.054537",
     "exception": false,
     "start_time": "2021-08-20T12:11:08.006431",
     "status": "completed"
    },
    "tags": []
   },
   "outputs": [],
   "source": [
    "#hide\n",
    "# cols = ['name','group','day','value']"
   ]
  },
  {
   "cell_type": "code",
   "execution_count": 37,
   "id": "continued-sleeping",
   "metadata": {
    "execution": {
     "iopub.execute_input": "2021-08-20T12:11:08.149238Z",
     "iopub.status.busy": "2021-08-20T12:11:08.148507Z",
     "iopub.status.idle": "2021-08-20T12:11:08.151236Z",
     "shell.execute_reply": "2021-08-20T12:11:08.150330Z"
    },
    "papermill": {
     "duration": 0.055305,
     "end_time": "2021-08-20T12:11:08.151373",
     "exception": false,
     "start_time": "2021-08-20T12:11:08.096068",
     "status": "completed"
    },
    "tags": []
   },
   "outputs": [],
   "source": [
    "#hide\n",
    "# g.rename(columns= {'date':'day'},inplace = True)"
   ]
  },
  {
   "cell_type": "code",
   "execution_count": 38,
   "id": "major-fight",
   "metadata": {
    "execution": {
     "iopub.execute_input": "2021-08-20T12:11:08.239757Z",
     "iopub.status.busy": "2021-08-20T12:11:08.239049Z",
     "iopub.status.idle": "2021-08-20T12:11:08.241460Z",
     "shell.execute_reply": "2021-08-20T12:11:08.240776Z"
    },
    "papermill": {
     "duration": 0.048419,
     "end_time": "2021-08-20T12:11:08.241596",
     "exception": false,
     "start_time": "2021-08-20T12:11:08.193177",
     "status": "completed"
    },
    "tags": []
   },
   "outputs": [],
   "source": [
    "#hide\n",
    "# g = g[cols]"
   ]
  },
  {
   "cell_type": "code",
   "execution_count": 39,
   "id": "structured-mobile",
   "metadata": {
    "execution": {
     "iopub.execute_input": "2021-08-20T12:11:08.337077Z",
     "iopub.status.busy": "2021-08-20T12:11:08.336341Z",
     "iopub.status.idle": "2021-08-20T12:11:08.338410Z",
     "shell.execute_reply": "2021-08-20T12:11:08.339015Z"
    },
    "papermill": {
     "duration": 0.049613,
     "end_time": "2021-08-20T12:11:08.339262",
     "exception": false,
     "start_time": "2021-08-20T12:11:08.289649",
     "status": "completed"
    },
    "tags": []
   },
   "outputs": [],
   "source": [
    "# #hide\n",
    "# g = g[g.group.notna()]"
   ]
  },
  {
   "cell_type": "code",
   "execution_count": 40,
   "id": "determined-closing",
   "metadata": {
    "execution": {
     "iopub.execute_input": "2021-08-20T12:11:08.432804Z",
     "iopub.status.busy": "2021-08-20T12:11:08.432093Z",
     "iopub.status.idle": "2021-08-20T12:11:08.434661Z",
     "shell.execute_reply": "2021-08-20T12:11:08.433966Z"
    },
    "papermill": {
     "duration": 0.051583,
     "end_time": "2021-08-20T12:11:08.434795",
     "exception": false,
     "start_time": "2021-08-20T12:11:08.383212",
     "status": "completed"
    },
    "tags": []
   },
   "outputs": [],
   "source": [
    "# #hide\n",
    "# colors = dict(zip(\n",
    "#     [\"Oceania\", \"Europe\", \"Asia\", \"South America\", \"Middle East\", \"North America\", \"Africa\"],\n",
    "#     [\"#adb0ff\", \"#ffb3ff\", \"#90d595\", \"#e48381\", \"#aafbff\", \"#f7bb5f\", \"#eafb50\"]\n",
    "# ))\n",
    "# group_lk = g.set_index('name')['group'].to_dict()"
   ]
  },
  {
   "cell_type": "code",
   "execution_count": null,
   "id": "gross-drinking",
   "metadata": {
    "papermill": {
     "duration": 0.049344,
     "end_time": "2021-08-20T12:11:08.526273",
     "exception": false,
     "start_time": "2021-08-20T12:11:08.476929",
     "status": "completed"
    },
    "tags": []
   },
   "outputs": [],
   "source": []
  },
  {
   "cell_type": "code",
   "execution_count": 41,
   "id": "subject-macintosh",
   "metadata": {
    "execution": {
     "iopub.execute_input": "2021-08-20T12:11:08.632355Z",
     "iopub.status.busy": "2021-08-20T12:11:08.631496Z",
     "iopub.status.idle": "2021-08-20T12:11:08.633744Z",
     "shell.execute_reply": "2021-08-20T12:11:08.633037Z"
    },
    "papermill": {
     "duration": 0.053645,
     "end_time": "2021-08-20T12:11:08.633870",
     "exception": false,
     "start_time": "2021-08-20T12:11:08.580225",
     "status": "completed"
    },
    "tags": []
   },
   "outputs": [],
   "source": [
    "# #hide\n",
    "# fig, ax = plt.subplots(figsize=(15, 8))\n",
    "\n",
    "# def draw_barchart(current_day):\n",
    "#     dff = g[g['day'].eq(current_day)].sort_values(by='value', ascending=True).tail(10)\n",
    "#     ax.clear()\n",
    "#     ax.barh(dff['name'], dff['value'], color=[colors[group_lk[x]] for x in dff['name']])\n",
    "#     dx = dff['value'].max() / 200\n",
    "    \n",
    "#     for i, (value, name) in enumerate(zip(dff['value'], dff['name'])):\n",
    "#         ax.text(value-dx, i,     name,           size=14, weight=600, ha='right', va='bottom')\n",
    "#         ax.text(value-dx, i-.25, group_lk[name], size=10, color='#444444', ha='right', va='baseline')\n",
    "#         ax.text(value+dx, i,     f'{value:,.0f}',  size=14, ha='left',  va='center')\n",
    "#     ax.text(1, 0.4, current_day, transform=ax.transAxes, color='#777777', size=46, ha='right', weight=800)\n",
    "#     ax.text(0, 1.06, 'Population (thousands)', transform=ax.transAxes, size=12, color='#777777')\n",
    "#     ax.xaxis.set_major_formatter(ticker.StrMethodFormatter('{x:,.0f}'))\n",
    "#     ax.xaxis.set_ticks_position('top')\n",
    "#     ax.tick_params(axis='x', colors='#777777', labelsize=12)\n",
    "#     ax.set_yticks([])\n",
    "#     ax.margins(0, 0.01)\n",
    "#     ax.grid(which='major', axis='x', linestyle='-')\n",
    "#     ax.set_axisbelow(True)\n",
    "    \n",
    "#     ax.text(0, 1.15, 'Coronavirus',\n",
    "#             transform=ax.transAxes, size=24, weight=600, ha='left', va='top')\n",
    "# #     ax.text(1, 0, 'by @pratapvardhan; credit @jburnmurdoch', transform=ax.transAxes, color='#777777', ha='right',\n",
    "# #             bbox=dict(facecolor='white', alpha=0.8, edgecolor='white'))\n",
    "#     plt.box(False)"
   ]
  },
  {
   "cell_type": "code",
   "execution_count": 42,
   "id": "sexual-wages",
   "metadata": {
    "execution": {
     "iopub.execute_input": "2021-08-20T12:11:08.730868Z",
     "iopub.status.busy": "2021-08-20T12:11:08.730164Z",
     "iopub.status.idle": "2021-08-20T12:11:08.732085Z",
     "shell.execute_reply": "2021-08-20T12:11:08.732621Z"
    },
    "papermill": {
     "duration": 0.051848,
     "end_time": "2021-08-20T12:11:08.732764",
     "exception": false,
     "start_time": "2021-08-20T12:11:08.680916",
     "status": "completed"
    },
    "tags": []
   },
   "outputs": [],
   "source": [
    "# #hide_input\n",
    "# fig, ax = plt.subplots(figsize=(15, 8))\n",
    "# animator = animation.FuncAnimation(fig, draw_barchart, frames=range(g.day.values.min(), g.day.values.max()))\n",
    "# HTML(animator.to_jshtml())\n",
    "# # or use animator.to_html5_video() or animator.save() "
   ]
  },
  {
   "cell_type": "code",
   "execution_count": null,
   "id": "australian-container",
   "metadata": {
    "papermill": {
     "duration": 0.049695,
     "end_time": "2021-08-20T12:11:08.823425",
     "exception": false,
     "start_time": "2021-08-20T12:11:08.773730",
     "status": "completed"
    },
    "tags": []
   },
   "outputs": [],
   "source": []
  },
  {
   "cell_type": "code",
   "execution_count": null,
   "id": "mediterranean-pontiac",
   "metadata": {
    "papermill": {
     "duration": 0.0413,
     "end_time": "2021-08-20T12:11:08.907566",
     "exception": false,
     "start_time": "2021-08-20T12:11:08.866266",
     "status": "completed"
    },
    "tags": []
   },
   "outputs": [],
   "source": []
  },
  {
   "cell_type": "code",
   "execution_count": null,
   "id": "aging-legislature",
   "metadata": {
    "papermill": {
     "duration": 0.041325,
     "end_time": "2021-08-20T12:11:08.990303",
     "exception": false,
     "start_time": "2021-08-20T12:11:08.948978",
     "status": "completed"
    },
    "tags": []
   },
   "outputs": [],
   "source": []
  }
 ],
 "metadata": {
  "kernelspec": {
   "display_name": "Python 3",
   "language": "python",
   "name": "python3"
  },
  "language_info": {
   "codemirror_mode": {
    "name": "ipython",
    "version": 3
   },
   "file_extension": ".py",
   "mimetype": "text/x-python",
   "name": "python",
   "nbconvert_exporter": "python",
   "pygments_lexer": "ipython3",
   "version": "3.6.14"
  },
  "papermill": {
   "duration": 7.234519,
   "end_time": "2021-08-20T12:11:09.340938",
   "environment_variables": {},
   "exception": null,
   "input_path": "2020-03-21-covid19exp.ipynb",
   "output_path": "2020-03-21-covid19exp.ipynb",
   "parameters": {},
   "start_time": "2021-08-20T12:11:02.106419",
   "version": "2.0.0"
  }
 },
 "nbformat": 4,
 "nbformat_minor": 5
}