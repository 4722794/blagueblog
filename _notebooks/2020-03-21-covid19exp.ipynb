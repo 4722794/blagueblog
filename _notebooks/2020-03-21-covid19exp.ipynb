{
 "cells": [
  {
   "cell_type": "markdown",
   "id": "muslim-click",
   "metadata": {
    "papermill": {
     "duration": 0.035325,
     "end_time": "2022-10-17T12:22:46.873326",
     "exception": false,
     "start_time": "2022-10-17T12:22:46.838001",
     "status": "completed"
    },
    "tags": []
   },
   "source": [
    "# COVID-19 Case Race\n",
    "> A race chart to see rising cases around the world\n",
    "\n",
    "- author: Hargun Oberoi\n",
    "- image: images/covid-overview.png\n",
    "- hide: false\n",
    "- badges: false"
   ]
  },
  {
   "cell_type": "code",
   "execution_count": 1,
   "id": "proof-material",
   "metadata": {
    "execution": {
     "iopub.execute_input": "2022-10-17T12:22:46.943981Z",
     "iopub.status.busy": "2022-10-17T12:22:46.943362Z",
     "iopub.status.idle": "2022-10-17T12:22:47.272250Z",
     "shell.execute_reply": "2022-10-17T12:22:47.271621Z"
    },
    "papermill": {
     "duration": 0.368823,
     "end_time": "2022-10-17T12:22:47.272405",
     "exception": false,
     "start_time": "2022-10-17T12:22:46.903582",
     "status": "completed"
    },
    "tags": []
   },
   "outputs": [],
   "source": [
    "#hide\n",
    "import numpy as np\n",
    "import pandas as pd\n",
    "from jinja2 import Template\n",
    "from IPython.display import HTML"
   ]
  },
  {
   "cell_type": "code",
   "execution_count": 2,
   "id": "developed-terminology",
   "metadata": {
    "execution": {
     "iopub.execute_input": "2022-10-17T12:22:47.337691Z",
     "iopub.status.busy": "2022-10-17T12:22:47.337027Z",
     "iopub.status.idle": "2022-10-17T12:22:47.338950Z",
     "shell.execute_reply": "2022-10-17T12:22:47.339401Z"
    },
    "papermill": {
     "duration": 0.037031,
     "end_time": "2022-10-17T12:22:47.339536",
     "exception": false,
     "start_time": "2022-10-17T12:22:47.302505",
     "status": "completed"
    },
    "tags": []
   },
   "outputs": [],
   "source": [
    "#hide\n",
    "\n",
    "# FETCH\n",
    "base_url = 'https://raw.githubusercontent.com/pratapvardhan/notebooks/master/covid19/'\n",
    "paths = {\n",
    "    'mapping': base_url + 'mapping_countries.csv',\n",
    "    'overview': base_url + 'overview.tpl'\n",
    "}"
   ]
  },
  {
   "cell_type": "code",
   "execution_count": 3,
   "id": "dynamic-saver",
   "metadata": {
    "execution": {
     "iopub.execute_input": "2022-10-17T12:22:47.408533Z",
     "iopub.status.busy": "2022-10-17T12:22:47.406083Z",
     "iopub.status.idle": "2022-10-17T12:22:47.411445Z",
     "shell.execute_reply": "2022-10-17T12:22:47.411980Z"
    },
    "papermill": {
     "duration": 0.043287,
     "end_time": "2022-10-17T12:22:47.412111",
     "exception": false,
     "start_time": "2022-10-17T12:22:47.368824",
     "status": "completed"
    },
    "tags": []
   },
   "outputs": [
    {
     "data": {
      "text/plain": [
       "'https://raw.githubusercontent.com/pratapvardhan/notebooks/master/covid19/mapping_countries.csv'"
      ]
     },
     "execution_count": 3,
     "metadata": {},
     "output_type": "execute_result"
    }
   ],
   "source": [
    "#hide\n",
    "paths['mapping']"
   ]
  },
  {
   "cell_type": "code",
   "execution_count": 4,
   "id": "urban-software",
   "metadata": {
    "execution": {
     "iopub.execute_input": "2022-10-17T12:22:47.477394Z",
     "iopub.status.busy": "2022-10-17T12:22:47.476808Z",
     "iopub.status.idle": "2022-10-17T12:22:47.479282Z",
     "shell.execute_reply": "2022-10-17T12:22:47.479829Z"
    },
    "papermill": {
     "duration": 0.038022,
     "end_time": "2022-10-17T12:22:47.479961",
     "exception": false,
     "start_time": "2022-10-17T12:22:47.441939",
     "status": "completed"
    },
    "tags": []
   },
   "outputs": [],
   "source": [
    "#hide\n",
    "def get_mappings(url):\n",
    "    df = pd.read_csv(url)\n",
    "    return {\n",
    "        'df': df,\n",
    "        'replace.country': dict(df.dropna(subset=['Name']).set_index('Country')['Name']),\n",
    "        'map.continent': dict(df.set_index('Name')['Continent'])\n",
    "    }"
   ]
  },
  {
   "cell_type": "code",
   "execution_count": 5,
   "id": "intimate-machinery",
   "metadata": {
    "execution": {
     "iopub.execute_input": "2022-10-17T12:22:47.544988Z",
     "iopub.status.busy": "2022-10-17T12:22:47.544404Z",
     "iopub.status.idle": "2022-10-17T12:22:47.582985Z",
     "shell.execute_reply": "2022-10-17T12:22:47.582482Z"
    },
    "papermill": {
     "duration": 0.073585,
     "end_time": "2022-10-17T12:22:47.583102",
     "exception": false,
     "start_time": "2022-10-17T12:22:47.509517",
     "status": "completed"
    },
    "tags": []
   },
   "outputs": [],
   "source": [
    "#hide\n",
    "mapping = get_mappings(paths['mapping'])"
   ]
  },
  {
   "cell_type": "code",
   "execution_count": 6,
   "id": "certified-tactics",
   "metadata": {
    "execution": {
     "iopub.execute_input": "2022-10-17T12:22:47.648054Z",
     "iopub.status.busy": "2022-10-17T12:22:47.647460Z",
     "iopub.status.idle": "2022-10-17T12:22:47.649724Z",
     "shell.execute_reply": "2022-10-17T12:22:47.650278Z"
    },
    "papermill": {
     "duration": 0.037609,
     "end_time": "2022-10-17T12:22:47.650409",
     "exception": false,
     "start_time": "2022-10-17T12:22:47.612800",
     "status": "completed"
    },
    "tags": []
   },
   "outputs": [],
   "source": [
    "#hide\n",
    "def get_template(path):\n",
    "    from urllib.parse import urlparse\n",
    "    if bool(urlparse(path).netloc):\n",
    "        from urllib.request import urlopen\n",
    "        return urlopen(path).read().decode('utf8')\n",
    "    return open(path).read()"
   ]
  },
  {
   "cell_type": "code",
   "execution_count": 7,
   "id": "realistic-blast",
   "metadata": {
    "execution": {
     "iopub.execute_input": "2022-10-17T12:22:47.715725Z",
     "iopub.status.busy": "2022-10-17T12:22:47.715093Z",
     "iopub.status.idle": "2022-10-17T12:22:47.717243Z",
     "shell.execute_reply": "2022-10-17T12:22:47.718168Z"
    },
    "papermill": {
     "duration": 0.038313,
     "end_time": "2022-10-17T12:22:47.718305",
     "exception": false,
     "start_time": "2022-10-17T12:22:47.679992",
     "status": "completed"
    },
    "tags": []
   },
   "outputs": [],
   "source": [
    "#hide\n",
    "def get_frame(name):\n",
    "    url = (\n",
    "        'https://raw.githubusercontent.com/CSSEGISandData/COVID-19/master/csse_covid_19_data/'\n",
    "        f'csse_covid_19_time_series/time_series_covid19_{name}_global.csv')\n",
    "    df = pd.read_csv(url)\n",
    "    # rename countries\n",
    "    df['Country/Region'] = df['Country/Region'].replace(mapping['replace.country'])\n",
    "    return df"
   ]
  },
  {
   "cell_type": "code",
   "execution_count": 8,
   "id": "affiliated-characterization",
   "metadata": {
    "execution": {
     "iopub.execute_input": "2022-10-17T12:22:47.785068Z",
     "iopub.status.busy": "2022-10-17T12:22:47.784477Z",
     "iopub.status.idle": "2022-10-17T12:22:47.787454Z",
     "shell.execute_reply": "2022-10-17T12:22:47.786978Z"
    },
    "papermill": {
     "duration": 0.038884,
     "end_time": "2022-10-17T12:22:47.787565",
     "exception": false,
     "start_time": "2022-10-17T12:22:47.748681",
     "status": "completed"
    },
    "tags": []
   },
   "outputs": [],
   "source": [
    "#hide\n",
    "def get_dates(df):\n",
    "    dt_cols = df.columns[~df.columns.isin(['Province/State', 'Country/Region', 'Lat', 'Long'])]\n",
    "    LAST_DATE_I = -1\n",
    "    # sometimes last column may be empty, then go backwards\n",
    "    for i in range(-1, -len(dt_cols), -1):\n",
    "        if not df[dt_cols[i]].fillna(0).eq(0).all():\n",
    "            LAST_DATE_I = i\n",
    "            break\n",
    "    return LAST_DATE_I, dt_cols"
   ]
  },
  {
   "cell_type": "code",
   "execution_count": 9,
   "id": "recent-optimization",
   "metadata": {
    "execution": {
     "iopub.execute_input": "2022-10-17T12:22:47.851574Z",
     "iopub.status.busy": "2022-10-17T12:22:47.850977Z",
     "iopub.status.idle": "2022-10-17T12:22:48.328341Z",
     "shell.execute_reply": "2022-10-17T12:22:48.327758Z"
    },
    "papermill": {
     "duration": 0.511445,
     "end_time": "2022-10-17T12:22:48.328485",
     "exception": false,
     "start_time": "2022-10-17T12:22:47.817040",
     "status": "completed"
    },
    "tags": []
   },
   "outputs": [],
   "source": [
    "#hide\n",
    "COL_REGION = 'Country/Region'\n",
    "# Confirmed, Recovered, Deaths\n",
    "df = get_frame('confirmed')\n",
    "# dft_: timeseries, dfc_: today country agg\n",
    "dft_cases = df\n",
    "dft_deaths = get_frame('deaths')\n",
    "dft_recovered = get_frame('recovered')\n",
    "LAST_DATE_I, dt_cols = get_dates(df)"
   ]
  },
  {
   "cell_type": "code",
   "execution_count": 10,
   "id": "absolute-copper",
   "metadata": {
    "execution": {
     "iopub.execute_input": "2022-10-17T12:22:48.394858Z",
     "iopub.status.busy": "2022-10-17T12:22:48.394234Z",
     "iopub.status.idle": "2022-10-17T12:22:48.396829Z",
     "shell.execute_reply": "2022-10-17T12:22:48.397274Z"
    },
    "papermill": {
     "duration": 0.038122,
     "end_time": "2022-10-17T12:22:48.397398",
     "exception": false,
     "start_time": "2022-10-17T12:22:48.359276",
     "status": "completed"
    },
    "tags": []
   },
   "outputs": [],
   "source": [
    "#hide\n",
    "LAST_DATE_I, dt_cols = get_dates(df)\n",
    "dt_today =dt_cols[LAST_DATE_I]\n",
    "# dt_5day = dt_cols[LAST_DATE_I - 5]\n",
    "dt_yday = dt_cols[LAST_DATE_I - 1]"
   ]
  },
  {
   "cell_type": "code",
   "execution_count": 11,
   "id": "restricted-sheriff",
   "metadata": {
    "execution": {
     "iopub.execute_input": "2022-10-17T12:22:48.463169Z",
     "iopub.status.busy": "2022-10-17T12:22:48.462574Z",
     "iopub.status.idle": "2022-10-17T12:22:48.469939Z",
     "shell.execute_reply": "2022-10-17T12:22:48.470391Z"
    },
    "papermill": {
     "duration": 0.043701,
     "end_time": "2022-10-17T12:22:48.470534",
     "exception": false,
     "start_time": "2022-10-17T12:22:48.426833",
     "status": "completed"
    },
    "tags": []
   },
   "outputs": [],
   "source": [
    "#hide\n",
    "dfc_cases = dft_cases.groupby(COL_REGION)[dt_today].sum()\n",
    "dfc_deaths = dft_deaths.groupby(COL_REGION)[dt_today].sum()\n",
    "# dfp_cases = dft_cases.groupby(COL_REGION)[dt_5day].sum()\n",
    "# dfp_deaths = dft_deaths.groupby(COL_REGION)[dt_5day].sum()\n",
    "dfp_cases = dft_cases.groupby(COL_REGION)[dt_yday].sum()\n",
    "dfp_deaths = dft_deaths.groupby(COL_REGION)[dt_yday].sum()"
   ]
  },
  {
   "cell_type": "code",
   "execution_count": 12,
   "id": "deluxe-hepatitis",
   "metadata": {
    "execution": {
     "iopub.execute_input": "2022-10-17T12:22:48.535829Z",
     "iopub.status.busy": "2022-10-17T12:22:48.535239Z",
     "iopub.status.idle": "2022-10-17T12:22:48.540390Z",
     "shell.execute_reply": "2022-10-17T12:22:48.540939Z"
    },
    "papermill": {
     "duration": 0.040704,
     "end_time": "2022-10-17T12:22:48.541075",
     "exception": false,
     "start_time": "2022-10-17T12:22:48.500371",
     "status": "completed"
    },
    "tags": []
   },
   "outputs": [],
   "source": [
    "#hide\n",
    "df_table = (pd.DataFrame(dict(Cases = dfc_cases, Deaths = dfc_deaths, PCases = dfp_cases, PDeaths = dfp_deaths))\n",
    "            .sort_values(by = ['Cases','Deaths'], ascending = [False, False])\n",
    "            .reset_index())"
   ]
  },
  {
   "cell_type": "code",
   "execution_count": 13,
   "id": "educational-chancellor",
   "metadata": {
    "execution": {
     "iopub.execute_input": "2022-10-17T12:22:48.618576Z",
     "iopub.status.busy": "2022-10-17T12:22:48.617980Z",
     "iopub.status.idle": "2022-10-17T12:22:48.626216Z",
     "shell.execute_reply": "2022-10-17T12:22:48.625629Z"
    },
    "papermill": {
     "duration": 0.055668,
     "end_time": "2022-10-17T12:22:48.626331",
     "exception": false,
     "start_time": "2022-10-17T12:22:48.570663",
     "status": "completed"
    },
    "tags": []
   },
   "outputs": [
    {
     "data": {
      "text/html": [
       "<div>\n",
       "<style scoped>\n",
       "    .dataframe tbody tr th:only-of-type {\n",
       "        vertical-align: middle;\n",
       "    }\n",
       "\n",
       "    .dataframe tbody tr th {\n",
       "        vertical-align: top;\n",
       "    }\n",
       "\n",
       "    .dataframe thead th {\n",
       "        text-align: right;\n",
       "    }\n",
       "</style>\n",
       "<table border=\"1\" class=\"dataframe\">\n",
       "  <thead>\n",
       "    <tr style=\"text-align: right;\">\n",
       "      <th></th>\n",
       "      <th>Country/Region</th>\n",
       "      <th>Cases</th>\n",
       "      <th>Deaths</th>\n",
       "      <th>PCases</th>\n",
       "      <th>PDeaths</th>\n",
       "      <th>Cases (+)</th>\n",
       "      <th>Deaths (+)</th>\n",
       "      <th>Fatality Rate</th>\n",
       "      <th>Continent</th>\n",
       "    </tr>\n",
       "  </thead>\n",
       "  <tbody>\n",
       "    <tr>\n",
       "      <th>0</th>\n",
       "      <td>US</td>\n",
       "      <td>96952191</td>\n",
       "      <td>1065109</td>\n",
       "      <td>96945785</td>\n",
       "      <td>1065108</td>\n",
       "      <td>6406</td>\n",
       "      <td>1</td>\n",
       "      <td>1.10</td>\n",
       "      <td>North America</td>\n",
       "    </tr>\n",
       "    <tr>\n",
       "      <th>1</th>\n",
       "      <td>India</td>\n",
       "      <td>44630888</td>\n",
       "      <td>528905</td>\n",
       "      <td>44628828</td>\n",
       "      <td>528895</td>\n",
       "      <td>2060</td>\n",
       "      <td>10</td>\n",
       "      <td>1.19</td>\n",
       "      <td>Asia</td>\n",
       "    </tr>\n",
       "    <tr>\n",
       "      <th>2</th>\n",
       "      <td>France</td>\n",
       "      <td>36378553</td>\n",
       "      <td>156856</td>\n",
       "      <td>36378553</td>\n",
       "      <td>156856</td>\n",
       "      <td>0</td>\n",
       "      <td>0</td>\n",
       "      <td>0.43</td>\n",
       "      <td>Europe</td>\n",
       "    </tr>\n",
       "    <tr>\n",
       "      <th>3</th>\n",
       "      <td>Brazil</td>\n",
       "      <td>34746462</td>\n",
       "      <td>687144</td>\n",
       "      <td>34746462</td>\n",
       "      <td>687144</td>\n",
       "      <td>0</td>\n",
       "      <td>0</td>\n",
       "      <td>1.98</td>\n",
       "      <td>South America</td>\n",
       "    </tr>\n",
       "    <tr>\n",
       "      <th>4</th>\n",
       "      <td>Germany</td>\n",
       "      <td>34608837</td>\n",
       "      <td>151420</td>\n",
       "      <td>34608837</td>\n",
       "      <td>151420</td>\n",
       "      <td>0</td>\n",
       "      <td>0</td>\n",
       "      <td>0.44</td>\n",
       "      <td>Europe</td>\n",
       "    </tr>\n",
       "  </tbody>\n",
       "</table>\n",
       "</div>"
      ],
      "text/plain": [
       "  Country/Region     Cases   Deaths    PCases  PDeaths  Cases (+)  Deaths (+)  \\\n",
       "0             US  96952191  1065109  96945785  1065108       6406           1   \n",
       "1          India  44630888   528905  44628828   528895       2060          10   \n",
       "2         France  36378553   156856  36378553   156856          0           0   \n",
       "3         Brazil  34746462   687144  34746462   687144          0           0   \n",
       "4        Germany  34608837   151420  34608837   151420          0           0   \n",
       "\n",
       "   Fatality Rate      Continent  \n",
       "0           1.10  North America  \n",
       "1           1.19           Asia  \n",
       "2           0.43         Europe  \n",
       "3           1.98  South America  \n",
       "4           0.44         Europe  "
      ]
     },
     "execution_count": 13,
     "metadata": {},
     "output_type": "execute_result"
    }
   ],
   "source": [
    "#hide\n",
    "for c in 'Cases, Deaths'.split(', '):\n",
    "    df_table[f'{c} (+)'] = (df_table[c] - df_table[f'P{c}']).clip(0)\n",
    "    #Clip ça veut dire, les chiffres negatif sont interdit\n",
    "df_table['Fatality Rate'] = (100* df_table['Deaths']/ df_table['Cases']).round(2)\n",
    "df_table['Continent'] = df_table['Country/Region'].map(mapping['map.continent'])\n",
    "df_table.head(5)"
   ]
  },
  {
   "cell_type": "code",
   "execution_count": 14,
   "id": "aboriginal-bulgaria",
   "metadata": {
    "execution": {
     "iopub.execute_input": "2022-10-17T12:22:48.692031Z",
     "iopub.status.busy": "2022-10-17T12:22:48.691445Z",
     "iopub.status.idle": "2022-10-17T12:22:48.694550Z",
     "shell.execute_reply": "2022-10-17T12:22:48.694978Z"
    },
    "papermill": {
     "duration": 0.038697,
     "end_time": "2022-10-17T12:22:48.695110",
     "exception": false,
     "start_time": "2022-10-17T12:22:48.656413",
     "status": "completed"
    },
    "tags": []
   },
   "outputs": [],
   "source": [
    "#hide\n",
    "#delete problematic countries from table\n",
    "df_table = df_table[~df_table['Country/Region'].isin(['Cape Verde', 'Cruise Ship', 'Kosovo'])]"
   ]
  },
  {
   "cell_type": "code",
   "execution_count": 15,
   "id": "fantastic-effect",
   "metadata": {
    "execution": {
     "iopub.execute_input": "2022-10-17T12:22:48.764116Z",
     "iopub.status.busy": "2022-10-17T12:22:48.763501Z",
     "iopub.status.idle": "2022-10-17T12:22:48.782130Z",
     "shell.execute_reply": "2022-10-17T12:22:48.782582Z"
    },
    "papermill": {
     "duration": 0.057545,
     "end_time": "2022-10-17T12:22:48.782723",
     "exception": false,
     "start_time": "2022-10-17T12:22:48.725178",
     "status": "completed"
    },
    "tags": []
   },
   "outputs": [
    {
     "data": {
      "text/html": [
       "<div>\n",
       "<style scoped>\n",
       "    .dataframe tbody tr th:only-of-type {\n",
       "        vertical-align: middle;\n",
       "    }\n",
       "\n",
       "    .dataframe tbody tr th {\n",
       "        vertical-align: top;\n",
       "    }\n",
       "\n",
       "    .dataframe thead th {\n",
       "        text-align: right;\n",
       "    }\n",
       "</style>\n",
       "<table border=\"1\" class=\"dataframe\">\n",
       "  <thead>\n",
       "    <tr style=\"text-align: right;\">\n",
       "      <th></th>\n",
       "      <th>Country/Region</th>\n",
       "      <th>Cases</th>\n",
       "      <th>Deaths</th>\n",
       "      <th>PCases</th>\n",
       "      <th>PDeaths</th>\n",
       "      <th>Cases (+)</th>\n",
       "      <th>Deaths (+)</th>\n",
       "      <th>Fatality Rate</th>\n",
       "      <th>Continent</th>\n",
       "    </tr>\n",
       "  </thead>\n",
       "  <tbody>\n",
       "    <tr>\n",
       "      <th>0</th>\n",
       "      <td>US</td>\n",
       "      <td>96952191</td>\n",
       "      <td>1065109</td>\n",
       "      <td>96945785</td>\n",
       "      <td>1065108</td>\n",
       "      <td>6406</td>\n",
       "      <td>1</td>\n",
       "      <td>1.1</td>\n",
       "      <td>North America</td>\n",
       "    </tr>\n",
       "    <tr>\n",
       "      <th>1</th>\n",
       "      <td>India</td>\n",
       "      <td>44630888</td>\n",
       "      <td>528905</td>\n",
       "      <td>44628828</td>\n",
       "      <td>528895</td>\n",
       "      <td>2060</td>\n",
       "      <td>10</td>\n",
       "      <td>1.2</td>\n",
       "      <td>Asia</td>\n",
       "    </tr>\n",
       "    <tr>\n",
       "      <th>2</th>\n",
       "      <td>France</td>\n",
       "      <td>36378553</td>\n",
       "      <td>156856</td>\n",
       "      <td>36378553</td>\n",
       "      <td>156856</td>\n",
       "      <td>0</td>\n",
       "      <td>0</td>\n",
       "      <td>0.4</td>\n",
       "      <td>Europe</td>\n",
       "    </tr>\n",
       "    <tr>\n",
       "      <th>3</th>\n",
       "      <td>Brazil</td>\n",
       "      <td>34746462</td>\n",
       "      <td>687144</td>\n",
       "      <td>34746462</td>\n",
       "      <td>687144</td>\n",
       "      <td>0</td>\n",
       "      <td>0</td>\n",
       "      <td>2.0</td>\n",
       "      <td>South America</td>\n",
       "    </tr>\n",
       "    <tr>\n",
       "      <th>4</th>\n",
       "      <td>Germany</td>\n",
       "      <td>34608837</td>\n",
       "      <td>151420</td>\n",
       "      <td>34608837</td>\n",
       "      <td>151420</td>\n",
       "      <td>0</td>\n",
       "      <td>0</td>\n",
       "      <td>0.4</td>\n",
       "      <td>Europe</td>\n",
       "    </tr>\n",
       "  </tbody>\n",
       "</table>\n",
       "</div>"
      ],
      "text/plain": [
       "  Country/Region     Cases   Deaths    PCases  PDeaths  Cases (+)  Deaths (+)  \\\n",
       "0             US  96952191  1065109  96945785  1065108       6406           1   \n",
       "1          India  44630888   528905  44628828   528895       2060          10   \n",
       "2         France  36378553   156856  36378553   156856          0           0   \n",
       "3         Brazil  34746462   687144  34746462   687144          0           0   \n",
       "4        Germany  34608837   151420  34608837   151420          0           0   \n",
       "\n",
       "   Fatality Rate      Continent  \n",
       "0            1.1  North America  \n",
       "1            1.2           Asia  \n",
       "2            0.4         Europe  \n",
       "3            2.0  South America  \n",
       "4            0.4         Europe  "
      ]
     },
     "execution_count": 15,
     "metadata": {},
     "output_type": "execute_result"
    }
   ],
   "source": [
    "#hide\n",
    "df_table = (pd.DataFrame(dict(Cases=dfc_cases, Deaths=dfc_deaths, PCases=dfp_cases, PDeaths=dfp_deaths))\n",
    "             .sort_values(by=['Cases', 'Deaths'], ascending=[False, False])\n",
    "             .reset_index())\n",
    "df_table.rename(columns={'index': 'Country/Region'}, inplace=True)\n",
    "for c in 'Cases, Deaths'.split(', '):\n",
    "    df_table[f'{c} (+)'] = (df_table[c] - df_table[f'P{c}']).clip(0)  # DATA BUG\n",
    "df_table['Fatality Rate'] = (100 * df_table['Deaths'] / df_table['Cases']).round(1)\n",
    "df_table['Continent'] = df_table['Country/Region'].map(mapping['map.continent'])\n",
    "df_table.head(5)"
   ]
  },
  {
   "cell_type": "code",
   "execution_count": 16,
   "id": "fewer-occasion",
   "metadata": {
    "execution": {
     "iopub.execute_input": "2022-10-17T12:22:48.850946Z",
     "iopub.status.busy": "2022-10-17T12:22:48.850374Z",
     "iopub.status.idle": "2022-10-17T12:22:48.852864Z",
     "shell.execute_reply": "2022-10-17T12:22:48.853326Z"
    },
    "papermill": {
     "duration": 0.039609,
     "end_time": "2022-10-17T12:22:48.853450",
     "exception": false,
     "start_time": "2022-10-17T12:22:48.813841",
     "status": "completed"
    },
    "tags": []
   },
   "outputs": [],
   "source": [
    "#hide\n",
    "#delete problematic countries from table\n",
    "df_table = df_table[~df_table['Country/Region'].isin(['Cape Verde', 'Cruise Ship', 'Kosovo'])]"
   ]
  },
  {
   "cell_type": "code",
   "execution_count": 17,
   "id": "related-center",
   "metadata": {
    "execution": {
     "iopub.execute_input": "2022-10-17T12:22:48.934228Z",
     "iopub.status.busy": "2022-10-17T12:22:48.933581Z",
     "iopub.status.idle": "2022-10-17T12:22:48.936010Z",
     "shell.execute_reply": "2022-10-17T12:22:48.935530Z"
    },
    "papermill": {
     "duration": 0.052285,
     "end_time": "2022-10-17T12:22:48.936130",
     "exception": false,
     "start_time": "2022-10-17T12:22:48.883845",
     "status": "completed"
    },
    "tags": []
   },
   "outputs": [],
   "source": [
    "#hide\n",
    "metrics = [df_table.columns[index] for index in [1,2,5,6]]\n",
    "# s_china = df_table[df_table['Country/Region'].eq('China')][metrics].sum().add_prefix('China ')\n",
    "s_us = df_table[df_table['Country/Region'].eq('US')][metrics].sum().add_prefix('US ')\n",
    "s_eu = df_table[df_table['Continent'].eq('Europe')][metrics].sum().add_prefix('EU ')\n",
    "s_ind = df_table[df_table['Country/Region'].eq('India')][metrics].sum().add_prefix('India ')\n",
    "summary = {'updated': pd.to_datetime(dt_today), 'since': pd.to_datetime(dt_yday)}\n",
    "summary = {'updated': pd.to_datetime(dt_today), 'since': pd.to_datetime(dt_yday)}\n",
    "summary = {**summary, **df_table[metrics].sum(), **s_ind, **s_us, **s_eu}"
   ]
  },
  {
   "cell_type": "code",
   "execution_count": 18,
   "id": "engaging-syndrome",
   "metadata": {
    "execution": {
     "iopub.execute_input": "2022-10-17T12:22:49.006892Z",
     "iopub.status.busy": "2022-10-17T12:22:49.003347Z",
     "iopub.status.idle": "2022-10-17T12:22:49.025195Z",
     "shell.execute_reply": "2022-10-17T12:22:49.024713Z"
    },
    "papermill": {
     "duration": 0.057892,
     "end_time": "2022-10-17T12:22:49.025322",
     "exception": false,
     "start_time": "2022-10-17T12:22:48.967430",
     "status": "completed"
    },
    "tags": []
   },
   "outputs": [],
   "source": [
    "#hide\n",
    "dft_ct_new_cases = dft_cases.groupby(COL_REGION)[dt_cols].sum().diff(axis=1).fillna(0).astype(int)"
   ]
  },
  {
   "cell_type": "code",
   "execution_count": 19,
   "id": "neutral-assignment",
   "metadata": {
    "execution": {
     "iopub.execute_input": "2022-10-17T12:22:49.094481Z",
     "iopub.status.busy": "2022-10-17T12:22:49.093801Z",
     "iopub.status.idle": "2022-10-17T12:22:49.096353Z",
     "shell.execute_reply": "2022-10-17T12:22:49.095840Z"
    },
    "papermill": {
     "duration": 0.040323,
     "end_time": "2022-10-17T12:22:49.096471",
     "exception": false,
     "start_time": "2022-10-17T12:22:49.056148",
     "status": "completed"
    },
    "tags": []
   },
   "outputs": [],
   "source": [
    "#hide\n",
    "everydaycases = dft_ct_new_cases.cumsum(axis=1)"
   ]
  },
  {
   "cell_type": "code",
   "execution_count": 20,
   "id": "parliamentary-calgary",
   "metadata": {
    "execution": {
     "iopub.execute_input": "2022-10-17T12:22:49.162544Z",
     "iopub.status.busy": "2022-10-17T12:22:49.161939Z",
     "iopub.status.idle": "2022-10-17T12:22:49.711034Z",
     "shell.execute_reply": "2022-10-17T12:22:49.711587Z"
    },
    "papermill": {
     "duration": 0.584489,
     "end_time": "2022-10-17T12:22:49.711749",
     "exception": false,
     "start_time": "2022-10-17T12:22:49.127260",
     "status": "completed"
    },
    "tags": []
   },
   "outputs": [],
   "source": [
    "#hide\n",
    "import pandas as pd\n",
    "import matplotlib.pyplot as plt\n",
    "import matplotlib.ticker as ticker\n",
    "import matplotlib.animation as animation\n",
    "from IPython.display import HTML"
   ]
  },
  {
   "cell_type": "code",
   "execution_count": 21,
   "id": "lasting-extraction",
   "metadata": {
    "execution": {
     "iopub.execute_input": "2022-10-17T12:22:49.782861Z",
     "iopub.status.busy": "2022-10-17T12:22:49.782244Z",
     "iopub.status.idle": "2022-10-17T12:22:49.789842Z",
     "shell.execute_reply": "2022-10-17T12:22:49.790316Z"
    },
    "papermill": {
     "duration": 0.045899,
     "end_time": "2022-10-17T12:22:49.790454",
     "exception": false,
     "start_time": "2022-10-17T12:22:49.744555",
     "status": "completed"
    },
    "tags": []
   },
   "outputs": [],
   "source": [
    "#hide\n",
    "t = everydaycases.stack()"
   ]
  },
  {
   "cell_type": "code",
   "execution_count": 22,
   "id": "premier-sleeve",
   "metadata": {
    "execution": {
     "iopub.execute_input": "2022-10-17T12:22:49.857006Z",
     "iopub.status.busy": "2022-10-17T12:22:49.856419Z",
     "iopub.status.idle": "2022-10-17T12:22:49.869839Z",
     "shell.execute_reply": "2022-10-17T12:22:49.869328Z"
    },
    "papermill": {
     "duration": 0.0487,
     "end_time": "2022-10-17T12:22:49.869960",
     "exception": false,
     "start_time": "2022-10-17T12:22:49.821260",
     "status": "completed"
    },
    "tags": []
   },
   "outputs": [],
   "source": [
    "#hide\n",
    "g = t.reset_index(['Country/Region'])"
   ]
  },
  {
   "cell_type": "code",
   "execution_count": 23,
   "id": "distributed-pittsburgh",
   "metadata": {
    "execution": {
     "iopub.execute_input": "2022-10-17T12:22:49.935565Z",
     "iopub.status.busy": "2022-10-17T12:22:49.934993Z",
     "iopub.status.idle": "2022-10-17T12:22:49.937401Z",
     "shell.execute_reply": "2022-10-17T12:22:49.937981Z"
    },
    "papermill": {
     "duration": 0.03747,
     "end_time": "2022-10-17T12:22:49.938110",
     "exception": false,
     "start_time": "2022-10-17T12:22:49.900640",
     "status": "completed"
    },
    "tags": []
   },
   "outputs": [],
   "source": [
    "#hide\n",
    "g.index.name = 'date'"
   ]
  },
  {
   "cell_type": "code",
   "execution_count": 24,
   "id": "naked-donor",
   "metadata": {
    "execution": {
     "iopub.execute_input": "2022-10-17T12:22:50.003322Z",
     "iopub.status.busy": "2022-10-17T12:22:50.002709Z",
     "iopub.status.idle": "2022-10-17T12:22:50.005347Z",
     "shell.execute_reply": "2022-10-17T12:22:50.004874Z"
    },
    "papermill": {
     "duration": 0.036575,
     "end_time": "2022-10-17T12:22:50.005477",
     "exception": false,
     "start_time": "2022-10-17T12:22:49.968902",
     "status": "completed"
    },
    "tags": []
   },
   "outputs": [],
   "source": [
    "# #hide\n",
    "# g = g.reset_index(['date'])"
   ]
  },
  {
   "cell_type": "code",
   "execution_count": 25,
   "id": "incomplete-mustang",
   "metadata": {
    "execution": {
     "iopub.execute_input": "2022-10-17T12:22:50.071068Z",
     "iopub.status.busy": "2022-10-17T12:22:50.070478Z",
     "iopub.status.idle": "2022-10-17T12:22:50.072863Z",
     "shell.execute_reply": "2022-10-17T12:22:50.073308Z"
    },
    "papermill": {
     "duration": 0.03729,
     "end_time": "2022-10-17T12:22:50.073440",
     "exception": false,
     "start_time": "2022-10-17T12:22:50.036150",
     "status": "completed"
    },
    "tags": []
   },
   "outputs": [],
   "source": [
    "#hide\n",
    "# g.head()"
   ]
  },
  {
   "cell_type": "code",
   "execution_count": 26,
   "id": "specific-kruger",
   "metadata": {
    "execution": {
     "iopub.execute_input": "2022-10-17T12:22:50.139356Z",
     "iopub.status.busy": "2022-10-17T12:22:50.138670Z",
     "iopub.status.idle": "2022-10-17T12:22:50.142378Z",
     "shell.execute_reply": "2022-10-17T12:22:50.142886Z"
    },
    "papermill": {
     "duration": 0.038959,
     "end_time": "2022-10-17T12:22:50.143031",
     "exception": false,
     "start_time": "2022-10-17T12:22:50.104072",
     "status": "completed"
    },
    "tags": []
   },
   "outputs": [],
   "source": [
    "#hide\n",
    "# g.columns = ['date','country','cases']"
   ]
  },
  {
   "cell_type": "code",
   "execution_count": 27,
   "id": "tender-conversion",
   "metadata": {
    "execution": {
     "iopub.execute_input": "2022-10-17T12:22:50.208590Z",
     "iopub.status.busy": "2022-10-17T12:22:50.208000Z",
     "iopub.status.idle": "2022-10-17T12:22:50.210353Z",
     "shell.execute_reply": "2022-10-17T12:22:50.210908Z"
    },
    "papermill": {
     "duration": 0.037197,
     "end_time": "2022-10-17T12:22:50.211041",
     "exception": false,
     "start_time": "2022-10-17T12:22:50.173844",
     "status": "completed"
    },
    "tags": []
   },
   "outputs": [],
   "source": [
    "#hide\n",
    "# g['continent'] = g.country"
   ]
  },
  {
   "cell_type": "code",
   "execution_count": 28,
   "id": "substantial-wilderness",
   "metadata": {
    "execution": {
     "iopub.execute_input": "2022-10-17T12:22:50.277965Z",
     "iopub.status.busy": "2022-10-17T12:22:50.277299Z",
     "iopub.status.idle": "2022-10-17T12:22:50.279801Z",
     "shell.execute_reply": "2022-10-17T12:22:50.279332Z"
    },
    "papermill": {
     "duration": 0.036804,
     "end_time": "2022-10-17T12:22:50.279912",
     "exception": false,
     "start_time": "2022-10-17T12:22:50.243108",
     "status": "completed"
    },
    "tags": []
   },
   "outputs": [],
   "source": [
    "#hide\n",
    "# cols = list(g.columns.values)"
   ]
  },
  {
   "cell_type": "code",
   "execution_count": 29,
   "id": "solved-farming",
   "metadata": {
    "execution": {
     "iopub.execute_input": "2022-10-17T12:22:50.345966Z",
     "iopub.status.busy": "2022-10-17T12:22:50.345256Z",
     "iopub.status.idle": "2022-10-17T12:22:50.348637Z",
     "shell.execute_reply": "2022-10-17T12:22:50.348165Z"
    },
    "papermill": {
     "duration": 0.0383,
     "end_time": "2022-10-17T12:22:50.348745",
     "exception": false,
     "start_time": "2022-10-17T12:22:50.310445",
     "status": "completed"
    },
    "tags": []
   },
   "outputs": [],
   "source": [
    "#hide\n",
    "# cols.insert(0, cols.pop())"
   ]
  },
  {
   "cell_type": "code",
   "execution_count": 30,
   "id": "executed-adoption",
   "metadata": {
    "execution": {
     "iopub.execute_input": "2022-10-17T12:22:50.415178Z",
     "iopub.status.busy": "2022-10-17T12:22:50.414480Z",
     "iopub.status.idle": "2022-10-17T12:22:50.418967Z",
     "shell.execute_reply": "2022-10-17T12:22:50.418517Z"
    },
    "papermill": {
     "duration": 0.038572,
     "end_time": "2022-10-17T12:22:50.419081",
     "exception": false,
     "start_time": "2022-10-17T12:22:50.380509",
     "status": "completed"
    },
    "tags": []
   },
   "outputs": [],
   "source": [
    "#hide\n",
    "# g = g[cols]"
   ]
  },
  {
   "cell_type": "code",
   "execution_count": 31,
   "id": "subject-dublin",
   "metadata": {
    "execution": {
     "iopub.execute_input": "2022-10-17T12:22:50.484788Z",
     "iopub.status.busy": "2022-10-17T12:22:50.483990Z",
     "iopub.status.idle": "2022-10-17T12:22:50.486362Z",
     "shell.execute_reply": "2022-10-17T12:22:50.485712Z"
    },
    "papermill": {
     "duration": 0.036808,
     "end_time": "2022-10-17T12:22:50.486482",
     "exception": false,
     "start_time": "2022-10-17T12:22:50.449674",
     "status": "completed"
    },
    "tags": []
   },
   "outputs": [],
   "source": [
    "#hide\n",
    "# g['continent'] = g['continent'].map(mapping['map.continent'])"
   ]
  },
  {
   "cell_type": "code",
   "execution_count": 32,
   "id": "freelance-scout",
   "metadata": {
    "execution": {
     "iopub.execute_input": "2022-10-17T12:22:50.552717Z",
     "iopub.status.busy": "2022-10-17T12:22:50.552063Z",
     "iopub.status.idle": "2022-10-17T12:22:50.554624Z",
     "shell.execute_reply": "2022-10-17T12:22:50.554120Z"
    },
    "papermill": {
     "duration": 0.037041,
     "end_time": "2022-10-17T12:22:50.554742",
     "exception": false,
     "start_time": "2022-10-17T12:22:50.517701",
     "status": "completed"
    },
    "tags": []
   },
   "outputs": [],
   "source": [
    "#hide\n",
    "# g.head()"
   ]
  },
  {
   "cell_type": "code",
   "execution_count": 33,
   "id": "limited-engine",
   "metadata": {
    "execution": {
     "iopub.execute_input": "2022-10-17T12:22:50.620372Z",
     "iopub.status.busy": "2022-10-17T12:22:50.619668Z",
     "iopub.status.idle": "2022-10-17T12:22:50.623476Z",
     "shell.execute_reply": "2022-10-17T12:22:50.623894Z"
    },
    "papermill": {
     "duration": 0.038394,
     "end_time": "2022-10-17T12:22:50.624028",
     "exception": false,
     "start_time": "2022-10-17T12:22:50.585634",
     "status": "completed"
    },
    "tags": []
   },
   "outputs": [],
   "source": [
    "# hide\n",
    "# g['date'] = g['date'].astype('datetime64[ns]')"
   ]
  },
  {
   "cell_type": "code",
   "execution_count": 34,
   "id": "sophisticated-supervisor",
   "metadata": {
    "execution": {
     "iopub.execute_input": "2022-10-17T12:22:50.689558Z",
     "iopub.status.busy": "2022-10-17T12:22:50.688850Z",
     "iopub.status.idle": "2022-10-17T12:22:50.691460Z",
     "shell.execute_reply": "2022-10-17T12:22:50.690926Z"
    },
    "papermill": {
     "duration": 0.036768,
     "end_time": "2022-10-17T12:22:50.691585",
     "exception": false,
     "start_time": "2022-10-17T12:22:50.654817",
     "status": "completed"
    },
    "tags": []
   },
   "outputs": [],
   "source": [
    "#hide\n",
    "# g['date'] = g.date.dt.dayofyear"
   ]
  },
  {
   "cell_type": "code",
   "execution_count": 35,
   "id": "inside-dubai",
   "metadata": {
    "execution": {
     "iopub.execute_input": "2022-10-17T12:22:50.755635Z",
     "iopub.status.busy": "2022-10-17T12:22:50.755062Z",
     "iopub.status.idle": "2022-10-17T12:22:50.758495Z",
     "shell.execute_reply": "2022-10-17T12:22:50.759047Z"
    },
    "papermill": {
     "duration": 0.03697,
     "end_time": "2022-10-17T12:22:50.759174",
     "exception": false,
     "start_time": "2022-10-17T12:22:50.722204",
     "status": "completed"
    },
    "tags": []
   },
   "outputs": [],
   "source": [
    "#hide\n",
    "# g = g.rename(columns= {'continent':'group','country':'name','cases':'value'})"
   ]
  },
  {
   "cell_type": "code",
   "execution_count": 36,
   "id": "fleet-motorcycle",
   "metadata": {
    "execution": {
     "iopub.execute_input": "2022-10-17T12:22:50.823850Z",
     "iopub.status.busy": "2022-10-17T12:22:50.823265Z",
     "iopub.status.idle": "2022-10-17T12:22:50.826056Z",
     "shell.execute_reply": "2022-10-17T12:22:50.825486Z"
    },
    "papermill": {
     "duration": 0.036492,
     "end_time": "2022-10-17T12:22:50.826162",
     "exception": false,
     "start_time": "2022-10-17T12:22:50.789670",
     "status": "completed"
    },
    "tags": []
   },
   "outputs": [],
   "source": [
    "#hide\n",
    "# cols = ['name','group','day','value']"
   ]
  },
  {
   "cell_type": "code",
   "execution_count": 37,
   "id": "continued-sleeping",
   "metadata": {
    "execution": {
     "iopub.execute_input": "2022-10-17T12:22:50.890961Z",
     "iopub.status.busy": "2022-10-17T12:22:50.890388Z",
     "iopub.status.idle": "2022-10-17T12:22:50.892581Z",
     "shell.execute_reply": "2022-10-17T12:22:50.893136Z"
    },
    "papermill": {
     "duration": 0.036625,
     "end_time": "2022-10-17T12:22:50.893260",
     "exception": false,
     "start_time": "2022-10-17T12:22:50.856635",
     "status": "completed"
    },
    "tags": []
   },
   "outputs": [],
   "source": [
    "#hide\n",
    "# g.rename(columns= {'date':'day'},inplace = True)"
   ]
  },
  {
   "cell_type": "code",
   "execution_count": 38,
   "id": "major-fight",
   "metadata": {
    "execution": {
     "iopub.execute_input": "2022-10-17T12:22:50.962787Z",
     "iopub.status.busy": "2022-10-17T12:22:50.962087Z",
     "iopub.status.idle": "2022-10-17T12:22:50.966130Z",
     "shell.execute_reply": "2022-10-17T12:22:50.966611Z"
    },
    "papermill": {
     "duration": 0.042921,
     "end_time": "2022-10-17T12:22:50.966764",
     "exception": false,
     "start_time": "2022-10-17T12:22:50.923843",
     "status": "completed"
    },
    "tags": []
   },
   "outputs": [],
   "source": [
    "#hide\n",
    "# g = g[cols]"
   ]
  },
  {
   "cell_type": "code",
   "execution_count": 39,
   "id": "structured-mobile",
   "metadata": {
    "execution": {
     "iopub.execute_input": "2022-10-17T12:22:51.032205Z",
     "iopub.status.busy": "2022-10-17T12:22:51.031520Z",
     "iopub.status.idle": "2022-10-17T12:22:51.034029Z",
     "shell.execute_reply": "2022-10-17T12:22:51.033363Z"
    },
    "papermill": {
     "duration": 0.036591,
     "end_time": "2022-10-17T12:22:51.034153",
     "exception": false,
     "start_time": "2022-10-17T12:22:50.997562",
     "status": "completed"
    },
    "tags": []
   },
   "outputs": [],
   "source": [
    "# #hide\n",
    "# g = g[g.group.notna()]"
   ]
  },
  {
   "cell_type": "code",
   "execution_count": 40,
   "id": "determined-closing",
   "metadata": {
    "execution": {
     "iopub.execute_input": "2022-10-17T12:22:51.100257Z",
     "iopub.status.busy": "2022-10-17T12:22:51.099650Z",
     "iopub.status.idle": "2022-10-17T12:22:51.103302Z",
     "shell.execute_reply": "2022-10-17T12:22:51.103721Z"
    },
    "papermill": {
     "duration": 0.038491,
     "end_time": "2022-10-17T12:22:51.103853",
     "exception": false,
     "start_time": "2022-10-17T12:22:51.065362",
     "status": "completed"
    },
    "tags": []
   },
   "outputs": [],
   "source": [
    "# #hide\n",
    "# colors = dict(zip(\n",
    "#     [\"Oceania\", \"Europe\", \"Asia\", \"South America\", \"Middle East\", \"North America\", \"Africa\"],\n",
    "#     [\"#adb0ff\", \"#ffb3ff\", \"#90d595\", \"#e48381\", \"#aafbff\", \"#f7bb5f\", \"#eafb50\"]\n",
    "# ))\n",
    "# group_lk = g.set_index('name')['group'].to_dict()"
   ]
  },
  {
   "cell_type": "code",
   "execution_count": null,
   "id": "gross-drinking",
   "metadata": {
    "papermill": {
     "duration": 0.03047,
     "end_time": "2022-10-17T12:22:51.164731",
     "exception": false,
     "start_time": "2022-10-17T12:22:51.134261",
     "status": "completed"
    },
    "tags": []
   },
   "outputs": [],
   "source": []
  },
  {
   "cell_type": "code",
   "execution_count": 41,
   "id": "subject-macintosh",
   "metadata": {
    "execution": {
     "iopub.execute_input": "2022-10-17T12:22:51.231536Z",
     "iopub.status.busy": "2022-10-17T12:22:51.230834Z",
     "iopub.status.idle": "2022-10-17T12:22:51.233022Z",
     "shell.execute_reply": "2022-10-17T12:22:51.232445Z"
    },
    "papermill": {
     "duration": 0.037423,
     "end_time": "2022-10-17T12:22:51.233135",
     "exception": false,
     "start_time": "2022-10-17T12:22:51.195712",
     "status": "completed"
    },
    "tags": []
   },
   "outputs": [],
   "source": [
    "# #hide\n",
    "# fig, ax = plt.subplots(figsize=(15, 8))\n",
    "\n",
    "# def draw_barchart(current_day):\n",
    "#     dff = g[g['day'].eq(current_day)].sort_values(by='value', ascending=True).tail(10)\n",
    "#     ax.clear()\n",
    "#     ax.barh(dff['name'], dff['value'], color=[colors[group_lk[x]] for x in dff['name']])\n",
    "#     dx = dff['value'].max() / 200\n",
    "    \n",
    "#     for i, (value, name) in enumerate(zip(dff['value'], dff['name'])):\n",
    "#         ax.text(value-dx, i,     name,           size=14, weight=600, ha='right', va='bottom')\n",
    "#         ax.text(value-dx, i-.25, group_lk[name], size=10, color='#444444', ha='right', va='baseline')\n",
    "#         ax.text(value+dx, i,     f'{value:,.0f}',  size=14, ha='left',  va='center')\n",
    "#     ax.text(1, 0.4, current_day, transform=ax.transAxes, color='#777777', size=46, ha='right', weight=800)\n",
    "#     ax.text(0, 1.06, 'Population (thousands)', transform=ax.transAxes, size=12, color='#777777')\n",
    "#     ax.xaxis.set_major_formatter(ticker.StrMethodFormatter('{x:,.0f}'))\n",
    "#     ax.xaxis.set_ticks_position('top')\n",
    "#     ax.tick_params(axis='x', colors='#777777', labelsize=12)\n",
    "#     ax.set_yticks([])\n",
    "#     ax.margins(0, 0.01)\n",
    "#     ax.grid(which='major', axis='x', linestyle='-')\n",
    "#     ax.set_axisbelow(True)\n",
    "    \n",
    "#     ax.text(0, 1.15, 'Coronavirus',\n",
    "#             transform=ax.transAxes, size=24, weight=600, ha='left', va='top')\n",
    "# #     ax.text(1, 0, 'by @pratapvardhan; credit @jburnmurdoch', transform=ax.transAxes, color='#777777', ha='right',\n",
    "# #             bbox=dict(facecolor='white', alpha=0.8, edgecolor='white'))\n",
    "#     plt.box(False)"
   ]
  },
  {
   "cell_type": "code",
   "execution_count": 42,
   "id": "sexual-wages",
   "metadata": {
    "execution": {
     "iopub.execute_input": "2022-10-17T12:22:51.298516Z",
     "iopub.status.busy": "2022-10-17T12:22:51.297925Z",
     "iopub.status.idle": "2022-10-17T12:22:51.300709Z",
     "shell.execute_reply": "2022-10-17T12:22:51.300235Z"
    },
    "papermill": {
     "duration": 0.036993,
     "end_time": "2022-10-17T12:22:51.300818",
     "exception": false,
     "start_time": "2022-10-17T12:22:51.263825",
     "status": "completed"
    },
    "tags": []
   },
   "outputs": [],
   "source": [
    "# #hide_input\n",
    "# fig, ax = plt.subplots(figsize=(15, 8))\n",
    "# animator = animation.FuncAnimation(fig, draw_barchart, frames=range(g.day.values.min(), g.day.values.max()))\n",
    "# HTML(animator.to_jshtml())\n",
    "# # or use animator.to_html5_video() or animator.save() "
   ]
  },
  {
   "cell_type": "code",
   "execution_count": null,
   "id": "australian-container",
   "metadata": {
    "papermill": {
     "duration": 0.03049,
     "end_time": "2022-10-17T12:22:51.361973",
     "exception": false,
     "start_time": "2022-10-17T12:22:51.331483",
     "status": "completed"
    },
    "tags": []
   },
   "outputs": [],
   "source": []
  },
  {
   "cell_type": "code",
   "execution_count": null,
   "id": "mediterranean-pontiac",
   "metadata": {
    "papermill": {
     "duration": 0.030479,
     "end_time": "2022-10-17T12:22:51.422910",
     "exception": false,
     "start_time": "2022-10-17T12:22:51.392431",
     "status": "completed"
    },
    "tags": []
   },
   "outputs": [],
   "source": []
  },
  {
   "cell_type": "code",
   "execution_count": null,
   "id": "aging-legislature",
   "metadata": {
    "papermill": {
     "duration": 0.030697,
     "end_time": "2022-10-17T12:22:51.484317",
     "exception": false,
     "start_time": "2022-10-17T12:22:51.453620",
     "status": "completed"
    },
    "tags": []
   },
   "outputs": [],
   "source": []
  }
 ],
 "metadata": {
  "kernelspec": {
   "display_name": "Python 3",
   "language": "python",
   "name": "python3"
  },
  "language_info": {
   "codemirror_mode": {
    "name": "ipython",
    "version": 3
   },
   "file_extension": ".py",
   "mimetype": "text/x-python",
   "name": "python",
   "nbconvert_exporter": "python",
   "pygments_lexer": "ipython3",
   "version": "3.6.15"
  },
  "papermill": {
   "duration": 6.265249,
   "end_time": "2022-10-17T12:22:51.934196",
   "environment_variables": {},
   "exception": null,
   "input_path": "2020-03-21-covid19exp.ipynb",
   "output_path": "2020-03-21-covid19exp.ipynb",
   "parameters": {},
   "start_time": "2022-10-17T12:22:45.668947",
   "version": "2.0.0"
  }
 },
 "nbformat": 4,
 "nbformat_minor": 5
}