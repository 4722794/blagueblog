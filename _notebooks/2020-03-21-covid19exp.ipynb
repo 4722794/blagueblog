{
 "cells": [
  {
   "cell_type": "markdown",
   "id": "muslim-click",
   "metadata": {
    "papermill": {
     "duration": 0.039267,
     "end_time": "2021-05-30T12:32:27.767625",
     "exception": false,
     "start_time": "2021-05-30T12:32:27.728358",
     "status": "completed"
    },
    "tags": []
   },
   "source": [
    "# COVID-19 Case Race\n",
    "> A race chart to see rising cases around the world\n",
    "\n",
    "- author: Hargun Oberoi\n",
    "- image: images/covid-overview.png\n",
    "- hide: false\n",
    "- badges: false"
   ]
  },
  {
   "cell_type": "code",
   "execution_count": 1,
   "id": "proof-material",
   "metadata": {
    "execution": {
     "iopub.execute_input": "2021-05-30T12:32:27.846029Z",
     "iopub.status.busy": "2021-05-30T12:32:27.845285Z",
     "iopub.status.idle": "2021-05-30T12:32:28.220065Z",
     "shell.execute_reply": "2021-05-30T12:32:28.219180Z"
    },
    "papermill": {
     "duration": 0.419162,
     "end_time": "2021-05-30T12:32:28.220291",
     "exception": false,
     "start_time": "2021-05-30T12:32:27.801129",
     "status": "completed"
    },
    "tags": []
   },
   "outputs": [],
   "source": [
    "#hide\n",
    "import numpy as np\n",
    "import pandas as pd\n",
    "from jinja2 import Template\n",
    "from IPython.display import HTML"
   ]
  },
  {
   "cell_type": "code",
   "execution_count": 2,
   "id": "developed-terminology",
   "metadata": {
    "execution": {
     "iopub.execute_input": "2021-05-30T12:32:28.292762Z",
     "iopub.status.busy": "2021-05-30T12:32:28.292138Z",
     "iopub.status.idle": "2021-05-30T12:32:28.293980Z",
     "shell.execute_reply": "2021-05-30T12:32:28.294474Z"
    },
    "papermill": {
     "duration": 0.040908,
     "end_time": "2021-05-30T12:32:28.294611",
     "exception": false,
     "start_time": "2021-05-30T12:32:28.253703",
     "status": "completed"
    },
    "tags": []
   },
   "outputs": [],
   "source": [
    "#hide\n",
    "\n",
    "# FETCH\n",
    "base_url = 'https://raw.githubusercontent.com/pratapvardhan/notebooks/master/covid19/'\n",
    "paths = {\n",
    "    'mapping': base_url + 'mapping_countries.csv',\n",
    "    'overview': base_url + 'overview.tpl'\n",
    "}"
   ]
  },
  {
   "cell_type": "code",
   "execution_count": 3,
   "id": "dynamic-saver",
   "metadata": {
    "execution": {
     "iopub.execute_input": "2021-05-30T12:32:28.371113Z",
     "iopub.status.busy": "2021-05-30T12:32:28.370533Z",
     "iopub.status.idle": "2021-05-30T12:32:28.373473Z",
     "shell.execute_reply": "2021-05-30T12:32:28.373909Z"
    },
    "papermill": {
     "duration": 0.046776,
     "end_time": "2021-05-30T12:32:28.374046",
     "exception": false,
     "start_time": "2021-05-30T12:32:28.327270",
     "status": "completed"
    },
    "tags": []
   },
   "outputs": [
    {
     "data": {
      "text/plain": [
       "'https://raw.githubusercontent.com/pratapvardhan/notebooks/master/covid19/mapping_countries.csv'"
      ]
     },
     "execution_count": 3,
     "metadata": {},
     "output_type": "execute_result"
    }
   ],
   "source": [
    "#hide\n",
    "paths['mapping']"
   ]
  },
  {
   "cell_type": "code",
   "execution_count": 4,
   "id": "urban-software",
   "metadata": {
    "execution": {
     "iopub.execute_input": "2021-05-30T12:32:28.445111Z",
     "iopub.status.busy": "2021-05-30T12:32:28.444510Z",
     "iopub.status.idle": "2021-05-30T12:32:28.446774Z",
     "shell.execute_reply": "2021-05-30T12:32:28.446284Z"
    },
    "papermill": {
     "duration": 0.039724,
     "end_time": "2021-05-30T12:32:28.446880",
     "exception": false,
     "start_time": "2021-05-30T12:32:28.407156",
     "status": "completed"
    },
    "tags": []
   },
   "outputs": [],
   "source": [
    "#hide\n",
    "def get_mappings(url):\n",
    "    df = pd.read_csv(url)\n",
    "    return {\n",
    "        'df': df,\n",
    "        'replace.country': dict(df.dropna(subset=['Name']).set_index('Country')['Name']),\n",
    "        'map.continent': dict(df.set_index('Name')['Continent'])\n",
    "    }"
   ]
  },
  {
   "cell_type": "code",
   "execution_count": 5,
   "id": "intimate-machinery",
   "metadata": {
    "execution": {
     "iopub.execute_input": "2021-05-30T12:32:28.519170Z",
     "iopub.status.busy": "2021-05-30T12:32:28.518596Z",
     "iopub.status.idle": "2021-05-30T12:32:28.549640Z",
     "shell.execute_reply": "2021-05-30T12:32:28.549143Z"
    },
    "papermill": {
     "duration": 0.069457,
     "end_time": "2021-05-30T12:32:28.549747",
     "exception": false,
     "start_time": "2021-05-30T12:32:28.480290",
     "status": "completed"
    },
    "tags": []
   },
   "outputs": [],
   "source": [
    "#hide\n",
    "mapping = get_mappings(paths['mapping'])"
   ]
  },
  {
   "cell_type": "code",
   "execution_count": 6,
   "id": "certified-tactics",
   "metadata": {
    "execution": {
     "iopub.execute_input": "2021-05-30T12:32:28.621198Z",
     "iopub.status.busy": "2021-05-30T12:32:28.620592Z",
     "iopub.status.idle": "2021-05-30T12:32:28.622909Z",
     "shell.execute_reply": "2021-05-30T12:32:28.623342Z"
    },
    "papermill": {
     "duration": 0.041664,
     "end_time": "2021-05-30T12:32:28.623472",
     "exception": false,
     "start_time": "2021-05-30T12:32:28.581808",
     "status": "completed"
    },
    "tags": []
   },
   "outputs": [],
   "source": [
    "#hide\n",
    "def get_template(path):\n",
    "    from urllib.parse import urlparse\n",
    "    if bool(urlparse(path).netloc):\n",
    "        from urllib.request import urlopen\n",
    "        return urlopen(path).read().decode('utf8')\n",
    "    return open(path).read()"
   ]
  },
  {
   "cell_type": "code",
   "execution_count": 7,
   "id": "realistic-blast",
   "metadata": {
    "execution": {
     "iopub.execute_input": "2021-05-30T12:32:28.696481Z",
     "iopub.status.busy": "2021-05-30T12:32:28.695912Z",
     "iopub.status.idle": "2021-05-30T12:32:28.698993Z",
     "shell.execute_reply": "2021-05-30T12:32:28.698565Z"
    },
    "papermill": {
     "duration": 0.0426,
     "end_time": "2021-05-30T12:32:28.699099",
     "exception": false,
     "start_time": "2021-05-30T12:32:28.656499",
     "status": "completed"
    },
    "tags": []
   },
   "outputs": [],
   "source": [
    "#hide\n",
    "def get_frame(name):\n",
    "    url = (\n",
    "        'https://raw.githubusercontent.com/CSSEGISandData/COVID-19/master/csse_covid_19_data/'\n",
    "        f'csse_covid_19_time_series/time_series_covid19_{name}_global.csv')\n",
    "    df = pd.read_csv(url)\n",
    "    # rename countries\n",
    "    df['Country/Region'] = df['Country/Region'].replace(mapping['replace.country'])\n",
    "    return df"
   ]
  },
  {
   "cell_type": "code",
   "execution_count": 8,
   "id": "affiliated-characterization",
   "metadata": {
    "execution": {
     "iopub.execute_input": "2021-05-30T12:32:28.772217Z",
     "iopub.status.busy": "2021-05-30T12:32:28.771638Z",
     "iopub.status.idle": "2021-05-30T12:32:28.773903Z",
     "shell.execute_reply": "2021-05-30T12:32:28.773416Z"
    },
    "papermill": {
     "duration": 0.041488,
     "end_time": "2021-05-30T12:32:28.774015",
     "exception": false,
     "start_time": "2021-05-30T12:32:28.732527",
     "status": "completed"
    },
    "tags": []
   },
   "outputs": [],
   "source": [
    "#hide\n",
    "def get_dates(df):\n",
    "    dt_cols = df.columns[~df.columns.isin(['Province/State', 'Country/Region', 'Lat', 'Long'])]\n",
    "    LAST_DATE_I = -1\n",
    "    # sometimes last column may be empty, then go backwards\n",
    "    for i in range(-1, -len(dt_cols), -1):\n",
    "        if not df[dt_cols[i]].fillna(0).eq(0).all():\n",
    "            LAST_DATE_I = i\n",
    "            break\n",
    "    return LAST_DATE_I, dt_cols"
   ]
  },
  {
   "cell_type": "code",
   "execution_count": 9,
   "id": "recent-optimization",
   "metadata": {
    "execution": {
     "iopub.execute_input": "2021-05-30T12:32:28.845702Z",
     "iopub.status.busy": "2021-05-30T12:32:28.845107Z",
     "iopub.status.idle": "2021-05-30T12:32:29.140387Z",
     "shell.execute_reply": "2021-05-30T12:32:29.139253Z"
    },
    "papermill": {
     "duration": 0.332938,
     "end_time": "2021-05-30T12:32:29.140523",
     "exception": false,
     "start_time": "2021-05-30T12:32:28.807585",
     "status": "completed"
    },
    "tags": []
   },
   "outputs": [],
   "source": [
    "#hide\n",
    "COL_REGION = 'Country/Region'\n",
    "# Confirmed, Recovered, Deaths\n",
    "df = get_frame('confirmed')\n",
    "# dft_: timeseries, dfc_: today country agg\n",
    "dft_cases = df\n",
    "dft_deaths = get_frame('deaths')\n",
    "dft_recovered = get_frame('recovered')\n",
    "LAST_DATE_I, dt_cols = get_dates(df)"
   ]
  },
  {
   "cell_type": "code",
   "execution_count": 10,
   "id": "absolute-copper",
   "metadata": {
    "execution": {
     "iopub.execute_input": "2021-05-30T12:32:29.214340Z",
     "iopub.status.busy": "2021-05-30T12:32:29.213736Z",
     "iopub.status.idle": "2021-05-30T12:32:29.215983Z",
     "shell.execute_reply": "2021-05-30T12:32:29.215491Z"
    },
    "papermill": {
     "duration": 0.041422,
     "end_time": "2021-05-30T12:32:29.216099",
     "exception": false,
     "start_time": "2021-05-30T12:32:29.174677",
     "status": "completed"
    },
    "tags": []
   },
   "outputs": [],
   "source": [
    "#hide\n",
    "LAST_DATE_I, dt_cols = get_dates(df)\n",
    "dt_today =dt_cols[LAST_DATE_I]\n",
    "# dt_5day = dt_cols[LAST_DATE_I - 5]\n",
    "dt_yday = dt_cols[LAST_DATE_I - 1]"
   ]
  },
  {
   "cell_type": "code",
   "execution_count": 11,
   "id": "restricted-sheriff",
   "metadata": {
    "execution": {
     "iopub.execute_input": "2021-05-30T12:32:29.291501Z",
     "iopub.status.busy": "2021-05-30T12:32:29.290922Z",
     "iopub.status.idle": "2021-05-30T12:32:29.296936Z",
     "shell.execute_reply": "2021-05-30T12:32:29.297442Z"
    },
    "papermill": {
     "duration": 0.048158,
     "end_time": "2021-05-30T12:32:29.297582",
     "exception": false,
     "start_time": "2021-05-30T12:32:29.249424",
     "status": "completed"
    },
    "tags": []
   },
   "outputs": [],
   "source": [
    "#hide\n",
    "dfc_cases = dft_cases.groupby(COL_REGION)[dt_today].sum()\n",
    "dfc_deaths = dft_deaths.groupby(COL_REGION)[dt_today].sum()\n",
    "# dfp_cases = dft_cases.groupby(COL_REGION)[dt_5day].sum()\n",
    "# dfp_deaths = dft_deaths.groupby(COL_REGION)[dt_5day].sum()\n",
    "dfp_cases = dft_cases.groupby(COL_REGION)[dt_yday].sum()\n",
    "dfp_deaths = dft_deaths.groupby(COL_REGION)[dt_yday].sum()"
   ]
  },
  {
   "cell_type": "code",
   "execution_count": 12,
   "id": "deluxe-hepatitis",
   "metadata": {
    "execution": {
     "iopub.execute_input": "2021-05-30T12:32:29.371798Z",
     "iopub.status.busy": "2021-05-30T12:32:29.371223Z",
     "iopub.status.idle": "2021-05-30T12:32:29.375218Z",
     "shell.execute_reply": "2021-05-30T12:32:29.375654Z"
    },
    "papermill": {
     "duration": 0.044333,
     "end_time": "2021-05-30T12:32:29.375791",
     "exception": false,
     "start_time": "2021-05-30T12:32:29.331458",
     "status": "completed"
    },
    "tags": []
   },
   "outputs": [],
   "source": [
    "#hide\n",
    "df_table = (pd.DataFrame(dict(Cases = dfc_cases, Deaths = dfc_deaths, PCases = dfp_cases, PDeaths = dfp_deaths))\n",
    "            .sort_values(by = ['Cases','Deaths'], ascending = [False, False])\n",
    "            .reset_index())"
   ]
  },
  {
   "cell_type": "code",
   "execution_count": 13,
   "id": "educational-chancellor",
   "metadata": {
    "execution": {
     "iopub.execute_input": "2021-05-30T12:32:29.461861Z",
     "iopub.status.busy": "2021-05-30T12:32:29.453184Z",
     "iopub.status.idle": "2021-05-30T12:32:29.472960Z",
     "shell.execute_reply": "2021-05-30T12:32:29.472468Z"
    },
    "papermill": {
     "duration": 0.063958,
     "end_time": "2021-05-30T12:32:29.473083",
     "exception": false,
     "start_time": "2021-05-30T12:32:29.409125",
     "status": "completed"
    },
    "tags": []
   },
   "outputs": [
    {
     "data": {
      "text/html": [
       "<div>\n",
       "<style scoped>\n",
       "    .dataframe tbody tr th:only-of-type {\n",
       "        vertical-align: middle;\n",
       "    }\n",
       "\n",
       "    .dataframe tbody tr th {\n",
       "        vertical-align: top;\n",
       "    }\n",
       "\n",
       "    .dataframe thead th {\n",
       "        text-align: right;\n",
       "    }\n",
       "</style>\n",
       "<table border=\"1\" class=\"dataframe\">\n",
       "  <thead>\n",
       "    <tr style=\"text-align: right;\">\n",
       "      <th></th>\n",
       "      <th>Country/Region</th>\n",
       "      <th>Cases</th>\n",
       "      <th>Deaths</th>\n",
       "      <th>PCases</th>\n",
       "      <th>PDeaths</th>\n",
       "      <th>Cases (+)</th>\n",
       "      <th>Deaths (+)</th>\n",
       "      <th>Fatality Rate</th>\n",
       "      <th>Continent</th>\n",
       "    </tr>\n",
       "  </thead>\n",
       "  <tbody>\n",
       "    <tr>\n",
       "      <th>0</th>\n",
       "      <td>US</td>\n",
       "      <td>33251939</td>\n",
       "      <td>594306</td>\n",
       "      <td>33239963</td>\n",
       "      <td>593963</td>\n",
       "      <td>11976</td>\n",
       "      <td>343</td>\n",
       "      <td>1.79</td>\n",
       "      <td>North America</td>\n",
       "    </tr>\n",
       "    <tr>\n",
       "      <th>1</th>\n",
       "      <td>India</td>\n",
       "      <td>27894800</td>\n",
       "      <td>325972</td>\n",
       "      <td>27729247</td>\n",
       "      <td>322512</td>\n",
       "      <td>165553</td>\n",
       "      <td>3460</td>\n",
       "      <td>1.17</td>\n",
       "      <td>Asia</td>\n",
       "    </tr>\n",
       "    <tr>\n",
       "      <th>2</th>\n",
       "      <td>Brazil</td>\n",
       "      <td>16471600</td>\n",
       "      <td>461057</td>\n",
       "      <td>16391930</td>\n",
       "      <td>459045</td>\n",
       "      <td>79670</td>\n",
       "      <td>2012</td>\n",
       "      <td>2.80</td>\n",
       "      <td>South America</td>\n",
       "    </tr>\n",
       "    <tr>\n",
       "      <th>3</th>\n",
       "      <td>France</td>\n",
       "      <td>5719877</td>\n",
       "      <td>109518</td>\n",
       "      <td>5708350</td>\n",
       "      <td>109452</td>\n",
       "      <td>11527</td>\n",
       "      <td>66</td>\n",
       "      <td>1.91</td>\n",
       "      <td>Europe</td>\n",
       "    </tr>\n",
       "    <tr>\n",
       "      <th>4</th>\n",
       "      <td>Turkey</td>\n",
       "      <td>5235978</td>\n",
       "      <td>47271</td>\n",
       "      <td>5228322</td>\n",
       "      <td>47134</td>\n",
       "      <td>7656</td>\n",
       "      <td>137</td>\n",
       "      <td>0.90</td>\n",
       "      <td>Asia</td>\n",
       "    </tr>\n",
       "  </tbody>\n",
       "</table>\n",
       "</div>"
      ],
      "text/plain": [
       "  Country/Region     Cases  Deaths    PCases  PDeaths  Cases (+)  Deaths (+)  \\\n",
       "0             US  33251939  594306  33239963   593963      11976         343   \n",
       "1          India  27894800  325972  27729247   322512     165553        3460   \n",
       "2         Brazil  16471600  461057  16391930   459045      79670        2012   \n",
       "3         France   5719877  109518   5708350   109452      11527          66   \n",
       "4         Turkey   5235978   47271   5228322    47134       7656         137   \n",
       "\n",
       "   Fatality Rate      Continent  \n",
       "0           1.79  North America  \n",
       "1           1.17           Asia  \n",
       "2           2.80  South America  \n",
       "3           1.91         Europe  \n",
       "4           0.90           Asia  "
      ]
     },
     "execution_count": 13,
     "metadata": {},
     "output_type": "execute_result"
    }
   ],
   "source": [
    "#hide\n",
    "for c in 'Cases, Deaths'.split(', '):\n",
    "    df_table[f'{c} (+)'] = (df_table[c] - df_table[f'P{c}']).clip(0)\n",
    "    #Clip ça veut dire, les chiffres negatif sont interdit\n",
    "df_table['Fatality Rate'] = (100* df_table['Deaths']/ df_table['Cases']).round(2)\n",
    "df_table['Continent'] = df_table['Country/Region'].map(mapping['map.continent'])\n",
    "df_table.head(5)"
   ]
  },
  {
   "cell_type": "code",
   "execution_count": 14,
   "id": "aboriginal-bulgaria",
   "metadata": {
    "execution": {
     "iopub.execute_input": "2021-05-30T12:32:29.545813Z",
     "iopub.status.busy": "2021-05-30T12:32:29.545237Z",
     "iopub.status.idle": "2021-05-30T12:32:29.547853Z",
     "shell.execute_reply": "2021-05-30T12:32:29.548401Z"
    },
    "papermill": {
     "duration": 0.04189,
     "end_time": "2021-05-30T12:32:29.548533",
     "exception": false,
     "start_time": "2021-05-30T12:32:29.506643",
     "status": "completed"
    },
    "tags": []
   },
   "outputs": [],
   "source": [
    "#hide\n",
    "#delete problematic countries from table\n",
    "df_table = df_table[~df_table['Country/Region'].isin(['Cape Verde', 'Cruise Ship', 'Kosovo'])]"
   ]
  },
  {
   "cell_type": "code",
   "execution_count": 15,
   "id": "fantastic-effect",
   "metadata": {
    "execution": {
     "iopub.execute_input": "2021-05-30T12:32:29.623171Z",
     "iopub.status.busy": "2021-05-30T12:32:29.622584Z",
     "iopub.status.idle": "2021-05-30T12:32:29.640893Z",
     "shell.execute_reply": "2021-05-30T12:32:29.641386Z"
    },
    "papermill": {
     "duration": 0.059341,
     "end_time": "2021-05-30T12:32:29.641521",
     "exception": false,
     "start_time": "2021-05-30T12:32:29.582180",
     "status": "completed"
    },
    "tags": []
   },
   "outputs": [
    {
     "data": {
      "text/html": [
       "<div>\n",
       "<style scoped>\n",
       "    .dataframe tbody tr th:only-of-type {\n",
       "        vertical-align: middle;\n",
       "    }\n",
       "\n",
       "    .dataframe tbody tr th {\n",
       "        vertical-align: top;\n",
       "    }\n",
       "\n",
       "    .dataframe thead th {\n",
       "        text-align: right;\n",
       "    }\n",
       "</style>\n",
       "<table border=\"1\" class=\"dataframe\">\n",
       "  <thead>\n",
       "    <tr style=\"text-align: right;\">\n",
       "      <th></th>\n",
       "      <th>Country/Region</th>\n",
       "      <th>Cases</th>\n",
       "      <th>Deaths</th>\n",
       "      <th>PCases</th>\n",
       "      <th>PDeaths</th>\n",
       "      <th>Cases (+)</th>\n",
       "      <th>Deaths (+)</th>\n",
       "      <th>Fatality Rate</th>\n",
       "      <th>Continent</th>\n",
       "    </tr>\n",
       "  </thead>\n",
       "  <tbody>\n",
       "    <tr>\n",
       "      <th>0</th>\n",
       "      <td>US</td>\n",
       "      <td>33251939</td>\n",
       "      <td>594306</td>\n",
       "      <td>33239963</td>\n",
       "      <td>593963</td>\n",
       "      <td>11976</td>\n",
       "      <td>343</td>\n",
       "      <td>1.8</td>\n",
       "      <td>North America</td>\n",
       "    </tr>\n",
       "    <tr>\n",
       "      <th>1</th>\n",
       "      <td>India</td>\n",
       "      <td>27894800</td>\n",
       "      <td>325972</td>\n",
       "      <td>27729247</td>\n",
       "      <td>322512</td>\n",
       "      <td>165553</td>\n",
       "      <td>3460</td>\n",
       "      <td>1.2</td>\n",
       "      <td>Asia</td>\n",
       "    </tr>\n",
       "    <tr>\n",
       "      <th>2</th>\n",
       "      <td>Brazil</td>\n",
       "      <td>16471600</td>\n",
       "      <td>461057</td>\n",
       "      <td>16391930</td>\n",
       "      <td>459045</td>\n",
       "      <td>79670</td>\n",
       "      <td>2012</td>\n",
       "      <td>2.8</td>\n",
       "      <td>South America</td>\n",
       "    </tr>\n",
       "    <tr>\n",
       "      <th>3</th>\n",
       "      <td>France</td>\n",
       "      <td>5719877</td>\n",
       "      <td>109518</td>\n",
       "      <td>5708350</td>\n",
       "      <td>109452</td>\n",
       "      <td>11527</td>\n",
       "      <td>66</td>\n",
       "      <td>1.9</td>\n",
       "      <td>Europe</td>\n",
       "    </tr>\n",
       "    <tr>\n",
       "      <th>4</th>\n",
       "      <td>Turkey</td>\n",
       "      <td>5235978</td>\n",
       "      <td>47271</td>\n",
       "      <td>5228322</td>\n",
       "      <td>47134</td>\n",
       "      <td>7656</td>\n",
       "      <td>137</td>\n",
       "      <td>0.9</td>\n",
       "      <td>Asia</td>\n",
       "    </tr>\n",
       "  </tbody>\n",
       "</table>\n",
       "</div>"
      ],
      "text/plain": [
       "  Country/Region     Cases  Deaths    PCases  PDeaths  Cases (+)  Deaths (+)  \\\n",
       "0             US  33251939  594306  33239963   593963      11976         343   \n",
       "1          India  27894800  325972  27729247   322512     165553        3460   \n",
       "2         Brazil  16471600  461057  16391930   459045      79670        2012   \n",
       "3         France   5719877  109518   5708350   109452      11527          66   \n",
       "4         Turkey   5235978   47271   5228322    47134       7656         137   \n",
       "\n",
       "   Fatality Rate      Continent  \n",
       "0            1.8  North America  \n",
       "1            1.2           Asia  \n",
       "2            2.8  South America  \n",
       "3            1.9         Europe  \n",
       "4            0.9           Asia  "
      ]
     },
     "execution_count": 15,
     "metadata": {},
     "output_type": "execute_result"
    }
   ],
   "source": [
    "#hide\n",
    "df_table = (pd.DataFrame(dict(Cases=dfc_cases, Deaths=dfc_deaths, PCases=dfp_cases, PDeaths=dfp_deaths))\n",
    "             .sort_values(by=['Cases', 'Deaths'], ascending=[False, False])\n",
    "             .reset_index())\n",
    "df_table.rename(columns={'index': 'Country/Region'}, inplace=True)\n",
    "for c in 'Cases, Deaths'.split(', '):\n",
    "    df_table[f'{c} (+)'] = (df_table[c] - df_table[f'P{c}']).clip(0)  # DATA BUG\n",
    "df_table['Fatality Rate'] = (100 * df_table['Deaths'] / df_table['Cases']).round(1)\n",
    "df_table['Continent'] = df_table['Country/Region'].map(mapping['map.continent'])\n",
    "df_table.head(5)"
   ]
  },
  {
   "cell_type": "code",
   "execution_count": 16,
   "id": "fewer-occasion",
   "metadata": {
    "execution": {
     "iopub.execute_input": "2021-05-30T12:32:29.715850Z",
     "iopub.status.busy": "2021-05-30T12:32:29.715232Z",
     "iopub.status.idle": "2021-05-30T12:32:29.718954Z",
     "shell.execute_reply": "2021-05-30T12:32:29.719501Z"
    },
    "papermill": {
     "duration": 0.044228,
     "end_time": "2021-05-30T12:32:29.719628",
     "exception": false,
     "start_time": "2021-05-30T12:32:29.675400",
     "status": "completed"
    },
    "tags": []
   },
   "outputs": [],
   "source": [
    "#hide\n",
    "#delete problematic countries from table\n",
    "df_table = df_table[~df_table['Country/Region'].isin(['Cape Verde', 'Cruise Ship', 'Kosovo'])]"
   ]
  },
  {
   "cell_type": "code",
   "execution_count": 17,
   "id": "related-center",
   "metadata": {
    "execution": {
     "iopub.execute_input": "2021-05-30T12:32:29.794830Z",
     "iopub.status.busy": "2021-05-30T12:32:29.794255Z",
     "iopub.status.idle": "2021-05-30T12:32:29.808176Z",
     "shell.execute_reply": "2021-05-30T12:32:29.807681Z"
    },
    "papermill": {
     "duration": 0.055521,
     "end_time": "2021-05-30T12:32:29.808290",
     "exception": false,
     "start_time": "2021-05-30T12:32:29.752769",
     "status": "completed"
    },
    "tags": []
   },
   "outputs": [],
   "source": [
    "#hide\n",
    "metrics = [df_table.columns[index] for index in [1,2,5,6]]\n",
    "# s_china = df_table[df_table['Country/Region'].eq('China')][metrics].sum().add_prefix('China ')\n",
    "s_us = df_table[df_table['Country/Region'].eq('US')][metrics].sum().add_prefix('US ')\n",
    "s_eu = df_table[df_table['Continent'].eq('Europe')][metrics].sum().add_prefix('EU ')\n",
    "s_ind = df_table[df_table['Country/Region'].eq('India')][metrics].sum().add_prefix('India ')\n",
    "summary = {'updated': pd.to_datetime(dt_today), 'since': pd.to_datetime(dt_yday)}\n",
    "summary = {'updated': pd.to_datetime(dt_today), 'since': pd.to_datetime(dt_yday)}\n",
    "summary = {**summary, **df_table[metrics].sum(), **s_ind, **s_us, **s_eu}"
   ]
  },
  {
   "cell_type": "code",
   "execution_count": 18,
   "id": "engaging-syndrome",
   "metadata": {
    "execution": {
     "iopub.execute_input": "2021-05-30T12:32:29.886359Z",
     "iopub.status.busy": "2021-05-30T12:32:29.882643Z",
     "iopub.status.idle": "2021-05-30T12:32:29.898167Z",
     "shell.execute_reply": "2021-05-30T12:32:29.897671Z"
    },
    "papermill": {
     "duration": 0.054674,
     "end_time": "2021-05-30T12:32:29.898283",
     "exception": false,
     "start_time": "2021-05-30T12:32:29.843609",
     "status": "completed"
    },
    "tags": []
   },
   "outputs": [],
   "source": [
    "#hide\n",
    "dft_ct_new_cases = dft_cases.groupby(COL_REGION)[dt_cols].sum().diff(axis=1).fillna(0).astype(int)"
   ]
  },
  {
   "cell_type": "code",
   "execution_count": 19,
   "id": "neutral-assignment",
   "metadata": {
    "execution": {
     "iopub.execute_input": "2021-05-30T12:32:29.974584Z",
     "iopub.status.busy": "2021-05-30T12:32:29.974002Z",
     "iopub.status.idle": "2021-05-30T12:32:29.975220Z",
     "shell.execute_reply": "2021-05-30T12:32:29.975750Z"
    },
    "papermill": {
     "duration": 0.043844,
     "end_time": "2021-05-30T12:32:29.975883",
     "exception": false,
     "start_time": "2021-05-30T12:32:29.932039",
     "status": "completed"
    },
    "tags": []
   },
   "outputs": [],
   "source": [
    "#hide\n",
    "everydaycases = dft_ct_new_cases.cumsum(axis=1)"
   ]
  },
  {
   "cell_type": "code",
   "execution_count": 20,
   "id": "parliamentary-calgary",
   "metadata": {
    "execution": {
     "iopub.execute_input": "2021-05-30T12:32:30.049709Z",
     "iopub.status.busy": "2021-05-30T12:32:30.049118Z",
     "iopub.status.idle": "2021-05-30T12:32:30.648921Z",
     "shell.execute_reply": "2021-05-30T12:32:30.648359Z"
    },
    "papermill": {
     "duration": 0.638726,
     "end_time": "2021-05-30T12:32:30.649059",
     "exception": false,
     "start_time": "2021-05-30T12:32:30.010333",
     "status": "completed"
    },
    "tags": []
   },
   "outputs": [],
   "source": [
    "#hide\n",
    "import pandas as pd\n",
    "import matplotlib.pyplot as plt\n",
    "import matplotlib.ticker as ticker\n",
    "import matplotlib.animation as animation\n",
    "from IPython.display import HTML"
   ]
  },
  {
   "cell_type": "code",
   "execution_count": 21,
   "id": "lasting-extraction",
   "metadata": {
    "execution": {
     "iopub.execute_input": "2021-05-30T12:32:30.723248Z",
     "iopub.status.busy": "2021-05-30T12:32:30.722663Z",
     "iopub.status.idle": "2021-05-30T12:32:30.730185Z",
     "shell.execute_reply": "2021-05-30T12:32:30.729182Z"
    },
    "papermill": {
     "duration": 0.046899,
     "end_time": "2021-05-30T12:32:30.730309",
     "exception": false,
     "start_time": "2021-05-30T12:32:30.683410",
     "status": "completed"
    },
    "tags": []
   },
   "outputs": [],
   "source": [
    "#hide\n",
    "t = everydaycases.stack()"
   ]
  },
  {
   "cell_type": "code",
   "execution_count": 22,
   "id": "premier-sleeve",
   "metadata": {
    "execution": {
     "iopub.execute_input": "2021-05-30T12:32:30.805152Z",
     "iopub.status.busy": "2021-05-30T12:32:30.803032Z",
     "iopub.status.idle": "2021-05-30T12:32:30.811145Z",
     "shell.execute_reply": "2021-05-30T12:32:30.810418Z"
    },
    "papermill": {
     "duration": 0.046575,
     "end_time": "2021-05-30T12:32:30.811283",
     "exception": false,
     "start_time": "2021-05-30T12:32:30.764708",
     "status": "completed"
    },
    "tags": []
   },
   "outputs": [],
   "source": [
    "#hide\n",
    "g = t.reset_index(['Country/Region'])"
   ]
  },
  {
   "cell_type": "code",
   "execution_count": 23,
   "id": "distributed-pittsburgh",
   "metadata": {
    "execution": {
     "iopub.execute_input": "2021-05-30T12:32:30.887088Z",
     "iopub.status.busy": "2021-05-30T12:32:30.886496Z",
     "iopub.status.idle": "2021-05-30T12:32:30.888815Z",
     "shell.execute_reply": "2021-05-30T12:32:30.888324Z"
    },
    "papermill": {
     "duration": 0.042535,
     "end_time": "2021-05-30T12:32:30.888937",
     "exception": false,
     "start_time": "2021-05-30T12:32:30.846402",
     "status": "completed"
    },
    "tags": []
   },
   "outputs": [],
   "source": [
    "#hide\n",
    "g.index.name = 'date'"
   ]
  },
  {
   "cell_type": "code",
   "execution_count": 24,
   "id": "naked-donor",
   "metadata": {
    "execution": {
     "iopub.execute_input": "2021-05-30T12:32:30.963636Z",
     "iopub.status.busy": "2021-05-30T12:32:30.962588Z",
     "iopub.status.idle": "2021-05-30T12:32:30.964726Z",
     "shell.execute_reply": "2021-05-30T12:32:30.965338Z"
    },
    "papermill": {
     "duration": 0.042004,
     "end_time": "2021-05-30T12:32:30.965468",
     "exception": false,
     "start_time": "2021-05-30T12:32:30.923464",
     "status": "completed"
    },
    "tags": []
   },
   "outputs": [],
   "source": [
    "# #hide\n",
    "# g = g.reset_index(['date'])"
   ]
  },
  {
   "cell_type": "code",
   "execution_count": 25,
   "id": "incomplete-mustang",
   "metadata": {
    "execution": {
     "iopub.execute_input": "2021-05-30T12:32:31.041658Z",
     "iopub.status.busy": "2021-05-30T12:32:31.041080Z",
     "iopub.status.idle": "2021-05-30T12:32:31.043519Z",
     "shell.execute_reply": "2021-05-30T12:32:31.047722Z"
    },
    "papermill": {
     "duration": 0.046516,
     "end_time": "2021-05-30T12:32:31.047877",
     "exception": false,
     "start_time": "2021-05-30T12:32:31.001361",
     "status": "completed"
    },
    "tags": []
   },
   "outputs": [],
   "source": [
    "#hide\n",
    "# g.head()"
   ]
  },
  {
   "cell_type": "code",
   "execution_count": 26,
   "id": "specific-kruger",
   "metadata": {
    "execution": {
     "iopub.execute_input": "2021-05-30T12:32:31.122356Z",
     "iopub.status.busy": "2021-05-30T12:32:31.121571Z",
     "iopub.status.idle": "2021-05-30T12:32:31.123180Z",
     "shell.execute_reply": "2021-05-30T12:32:31.123795Z"
    },
    "papermill": {
     "duration": 0.041037,
     "end_time": "2021-05-30T12:32:31.123966",
     "exception": false,
     "start_time": "2021-05-30T12:32:31.082929",
     "status": "completed"
    },
    "tags": []
   },
   "outputs": [],
   "source": [
    "#hide\n",
    "# g.columns = ['date','country','cases']"
   ]
  },
  {
   "cell_type": "code",
   "execution_count": 27,
   "id": "tender-conversion",
   "metadata": {
    "execution": {
     "iopub.execute_input": "2021-05-30T12:32:31.197586Z",
     "iopub.status.busy": "2021-05-30T12:32:31.197008Z",
     "iopub.status.idle": "2021-05-30T12:32:31.199767Z",
     "shell.execute_reply": "2021-05-30T12:32:31.200253Z"
    },
    "papermill": {
     "duration": 0.041102,
     "end_time": "2021-05-30T12:32:31.200387",
     "exception": false,
     "start_time": "2021-05-30T12:32:31.159285",
     "status": "completed"
    },
    "tags": []
   },
   "outputs": [],
   "source": [
    "#hide\n",
    "# g['continent'] = g.country"
   ]
  },
  {
   "cell_type": "code",
   "execution_count": 28,
   "id": "substantial-wilderness",
   "metadata": {
    "execution": {
     "iopub.execute_input": "2021-05-30T12:32:31.275283Z",
     "iopub.status.busy": "2021-05-30T12:32:31.274283Z",
     "iopub.status.idle": "2021-05-30T12:32:31.276332Z",
     "shell.execute_reply": "2021-05-30T12:32:31.277160Z"
    },
    "papermill": {
     "duration": 0.04242,
     "end_time": "2021-05-30T12:32:31.277380",
     "exception": false,
     "start_time": "2021-05-30T12:32:31.234960",
     "status": "completed"
    },
    "tags": []
   },
   "outputs": [],
   "source": [
    "#hide\n",
    "# cols = list(g.columns.values)"
   ]
  },
  {
   "cell_type": "code",
   "execution_count": 29,
   "id": "solved-farming",
   "metadata": {
    "execution": {
     "iopub.execute_input": "2021-05-30T12:32:31.353374Z",
     "iopub.status.busy": "2021-05-30T12:32:31.352774Z",
     "iopub.status.idle": "2021-05-30T12:32:31.355346Z",
     "shell.execute_reply": "2021-05-30T12:32:31.354858Z"
    },
    "papermill": {
     "duration": 0.041914,
     "end_time": "2021-05-30T12:32:31.355461",
     "exception": false,
     "start_time": "2021-05-30T12:32:31.313547",
     "status": "completed"
    },
    "tags": []
   },
   "outputs": [],
   "source": [
    "#hide\n",
    "# cols.insert(0, cols.pop())"
   ]
  },
  {
   "cell_type": "code",
   "execution_count": 30,
   "id": "executed-adoption",
   "metadata": {
    "execution": {
     "iopub.execute_input": "2021-05-30T12:32:31.429855Z",
     "iopub.status.busy": "2021-05-30T12:32:31.429275Z",
     "iopub.status.idle": "2021-05-30T12:32:31.431934Z",
     "shell.execute_reply": "2021-05-30T12:32:31.432696Z"
    },
    "papermill": {
     "duration": 0.041836,
     "end_time": "2021-05-30T12:32:31.432841",
     "exception": false,
     "start_time": "2021-05-30T12:32:31.391005",
     "status": "completed"
    },
    "tags": []
   },
   "outputs": [],
   "source": [
    "#hide\n",
    "# g = g[cols]"
   ]
  },
  {
   "cell_type": "code",
   "execution_count": 31,
   "id": "subject-dublin",
   "metadata": {
    "execution": {
     "iopub.execute_input": "2021-05-30T12:32:31.506600Z",
     "iopub.status.busy": "2021-05-30T12:32:31.506064Z",
     "iopub.status.idle": "2021-05-30T12:32:31.508414Z",
     "shell.execute_reply": "2021-05-30T12:32:31.508968Z"
    },
    "papermill": {
     "duration": 0.042007,
     "end_time": "2021-05-30T12:32:31.509100",
     "exception": false,
     "start_time": "2021-05-30T12:32:31.467093",
     "status": "completed"
    },
    "tags": []
   },
   "outputs": [],
   "source": [
    "#hide\n",
    "# g['continent'] = g['continent'].map(mapping['map.continent'])"
   ]
  },
  {
   "cell_type": "code",
   "execution_count": 32,
   "id": "freelance-scout",
   "metadata": {
    "execution": {
     "iopub.execute_input": "2021-05-30T12:32:31.583916Z",
     "iopub.status.busy": "2021-05-30T12:32:31.583345Z",
     "iopub.status.idle": "2021-05-30T12:32:31.585269Z",
     "shell.execute_reply": "2021-05-30T12:32:31.585720Z"
    },
    "papermill": {
     "duration": 0.041107,
     "end_time": "2021-05-30T12:32:31.585849",
     "exception": false,
     "start_time": "2021-05-30T12:32:31.544742",
     "status": "completed"
    },
    "tags": []
   },
   "outputs": [],
   "source": [
    "#hide\n",
    "# g.head()"
   ]
  },
  {
   "cell_type": "code",
   "execution_count": 33,
   "id": "limited-engine",
   "metadata": {
    "execution": {
     "iopub.execute_input": "2021-05-30T12:32:31.659696Z",
     "iopub.status.busy": "2021-05-30T12:32:31.659095Z",
     "iopub.status.idle": "2021-05-30T12:32:31.660944Z",
     "shell.execute_reply": "2021-05-30T12:32:31.661521Z"
    },
    "papermill": {
     "duration": 0.039782,
     "end_time": "2021-05-30T12:32:31.661649",
     "exception": false,
     "start_time": "2021-05-30T12:32:31.621867",
     "status": "completed"
    },
    "tags": []
   },
   "outputs": [],
   "source": [
    "# hide\n",
    "# g['date'] = g['date'].astype('datetime64[ns]')"
   ]
  },
  {
   "cell_type": "code",
   "execution_count": 34,
   "id": "sophisticated-supervisor",
   "metadata": {
    "execution": {
     "iopub.execute_input": "2021-05-30T12:32:31.738139Z",
     "iopub.status.busy": "2021-05-30T12:32:31.737442Z",
     "iopub.status.idle": "2021-05-30T12:32:31.740226Z",
     "shell.execute_reply": "2021-05-30T12:32:31.739687Z"
    },
    "papermill": {
     "duration": 0.041841,
     "end_time": "2021-05-30T12:32:31.740363",
     "exception": false,
     "start_time": "2021-05-30T12:32:31.698522",
     "status": "completed"
    },
    "tags": []
   },
   "outputs": [],
   "source": [
    "#hide\n",
    "# g['date'] = g.date.dt.dayofyear"
   ]
  },
  {
   "cell_type": "code",
   "execution_count": 35,
   "id": "inside-dubai",
   "metadata": {
    "execution": {
     "iopub.execute_input": "2021-05-30T12:32:31.814240Z",
     "iopub.status.busy": "2021-05-30T12:32:31.813494Z",
     "iopub.status.idle": "2021-05-30T12:32:31.815001Z",
     "shell.execute_reply": "2021-05-30T12:32:31.815623Z"
    },
    "papermill": {
     "duration": 0.040816,
     "end_time": "2021-05-30T12:32:31.815788",
     "exception": false,
     "start_time": "2021-05-30T12:32:31.774972",
     "status": "completed"
    },
    "tags": []
   },
   "outputs": [],
   "source": [
    "#hide\n",
    "# g = g.rename(columns= {'continent':'group','country':'name','cases':'value'})"
   ]
  },
  {
   "cell_type": "code",
   "execution_count": 36,
   "id": "fleet-motorcycle",
   "metadata": {
    "execution": {
     "iopub.execute_input": "2021-05-30T12:32:31.887994Z",
     "iopub.status.busy": "2021-05-30T12:32:31.887424Z",
     "iopub.status.idle": "2021-05-30T12:32:31.889799Z",
     "shell.execute_reply": "2021-05-30T12:32:31.889340Z"
    },
    "papermill": {
     "duration": 0.040062,
     "end_time": "2021-05-30T12:32:31.889920",
     "exception": false,
     "start_time": "2021-05-30T12:32:31.849858",
     "status": "completed"
    },
    "tags": []
   },
   "outputs": [],
   "source": [
    "#hide\n",
    "# cols = ['name','group','day','value']"
   ]
  },
  {
   "cell_type": "code",
   "execution_count": 37,
   "id": "continued-sleeping",
   "metadata": {
    "execution": {
     "iopub.execute_input": "2021-05-30T12:32:31.961708Z",
     "iopub.status.busy": "2021-05-30T12:32:31.960986Z",
     "iopub.status.idle": "2021-05-30T12:32:31.962432Z",
     "shell.execute_reply": "2021-05-30T12:32:31.963101Z"
    },
    "papermill": {
     "duration": 0.039684,
     "end_time": "2021-05-30T12:32:31.963253",
     "exception": false,
     "start_time": "2021-05-30T12:32:31.923569",
     "status": "completed"
    },
    "tags": []
   },
   "outputs": [],
   "source": [
    "#hide\n",
    "# g.rename(columns= {'date':'day'},inplace = True)"
   ]
  },
  {
   "cell_type": "code",
   "execution_count": 38,
   "id": "major-fight",
   "metadata": {
    "execution": {
     "iopub.execute_input": "2021-05-30T12:32:32.037833Z",
     "iopub.status.busy": "2021-05-30T12:32:32.037262Z",
     "iopub.status.idle": "2021-05-30T12:32:32.039590Z",
     "shell.execute_reply": "2021-05-30T12:32:32.040051Z"
    },
    "papermill": {
     "duration": 0.041109,
     "end_time": "2021-05-30T12:32:32.040183",
     "exception": false,
     "start_time": "2021-05-30T12:32:31.999074",
     "status": "completed"
    },
    "tags": []
   },
   "outputs": [],
   "source": [
    "#hide\n",
    "# g = g[cols]"
   ]
  },
  {
   "cell_type": "code",
   "execution_count": 39,
   "id": "structured-mobile",
   "metadata": {
    "execution": {
     "iopub.execute_input": "2021-05-30T12:32:32.113789Z",
     "iopub.status.busy": "2021-05-30T12:32:32.113215Z",
     "iopub.status.idle": "2021-05-30T12:32:32.115570Z",
     "shell.execute_reply": "2021-05-30T12:32:32.116111Z"
    },
    "papermill": {
     "duration": 0.041689,
     "end_time": "2021-05-30T12:32:32.116239",
     "exception": false,
     "start_time": "2021-05-30T12:32:32.074550",
     "status": "completed"
    },
    "tags": []
   },
   "outputs": [],
   "source": [
    "# #hide\n",
    "# g = g[g.group.notna()]"
   ]
  },
  {
   "cell_type": "code",
   "execution_count": 40,
   "id": "determined-closing",
   "metadata": {
    "execution": {
     "iopub.execute_input": "2021-05-30T12:32:32.189353Z",
     "iopub.status.busy": "2021-05-30T12:32:32.188804Z",
     "iopub.status.idle": "2021-05-30T12:32:32.191035Z",
     "shell.execute_reply": "2021-05-30T12:32:32.191539Z"
    },
    "papermill": {
     "duration": 0.040756,
     "end_time": "2021-05-30T12:32:32.191659",
     "exception": false,
     "start_time": "2021-05-30T12:32:32.150903",
     "status": "completed"
    },
    "tags": []
   },
   "outputs": [],
   "source": [
    "# #hide\n",
    "# colors = dict(zip(\n",
    "#     [\"Oceania\", \"Europe\", \"Asia\", \"South America\", \"Middle East\", \"North America\", \"Africa\"],\n",
    "#     [\"#adb0ff\", \"#ffb3ff\", \"#90d595\", \"#e48381\", \"#aafbff\", \"#f7bb5f\", \"#eafb50\"]\n",
    "# ))\n",
    "# group_lk = g.set_index('name')['group'].to_dict()"
   ]
  },
  {
   "cell_type": "code",
   "execution_count": null,
   "id": "gross-drinking",
   "metadata": {
    "papermill": {
     "duration": 0.033971,
     "end_time": "2021-05-30T12:32:32.259680",
     "exception": false,
     "start_time": "2021-05-30T12:32:32.225709",
     "status": "completed"
    },
    "tags": []
   },
   "outputs": [],
   "source": []
  },
  {
   "cell_type": "code",
   "execution_count": 41,
   "id": "subject-macintosh",
   "metadata": {
    "execution": {
     "iopub.execute_input": "2021-05-30T12:32:32.332500Z",
     "iopub.status.busy": "2021-05-30T12:32:32.331909Z",
     "iopub.status.idle": "2021-05-30T12:32:32.334659Z",
     "shell.execute_reply": "2021-05-30T12:32:32.334027Z"
    },
    "papermill": {
     "duration": 0.041331,
     "end_time": "2021-05-30T12:32:32.334781",
     "exception": false,
     "start_time": "2021-05-30T12:32:32.293450",
     "status": "completed"
    },
    "tags": []
   },
   "outputs": [],
   "source": [
    "# #hide\n",
    "# fig, ax = plt.subplots(figsize=(15, 8))\n",
    "\n",
    "# def draw_barchart(current_day):\n",
    "#     dff = g[g['day'].eq(current_day)].sort_values(by='value', ascending=True).tail(10)\n",
    "#     ax.clear()\n",
    "#     ax.barh(dff['name'], dff['value'], color=[colors[group_lk[x]] for x in dff['name']])\n",
    "#     dx = dff['value'].max() / 200\n",
    "    \n",
    "#     for i, (value, name) in enumerate(zip(dff['value'], dff['name'])):\n",
    "#         ax.text(value-dx, i,     name,           size=14, weight=600, ha='right', va='bottom')\n",
    "#         ax.text(value-dx, i-.25, group_lk[name], size=10, color='#444444', ha='right', va='baseline')\n",
    "#         ax.text(value+dx, i,     f'{value:,.0f}',  size=14, ha='left',  va='center')\n",
    "#     ax.text(1, 0.4, current_day, transform=ax.transAxes, color='#777777', size=46, ha='right', weight=800)\n",
    "#     ax.text(0, 1.06, 'Population (thousands)', transform=ax.transAxes, size=12, color='#777777')\n",
    "#     ax.xaxis.set_major_formatter(ticker.StrMethodFormatter('{x:,.0f}'))\n",
    "#     ax.xaxis.set_ticks_position('top')\n",
    "#     ax.tick_params(axis='x', colors='#777777', labelsize=12)\n",
    "#     ax.set_yticks([])\n",
    "#     ax.margins(0, 0.01)\n",
    "#     ax.grid(which='major', axis='x', linestyle='-')\n",
    "#     ax.set_axisbelow(True)\n",
    "    \n",
    "#     ax.text(0, 1.15, 'Coronavirus',\n",
    "#             transform=ax.transAxes, size=24, weight=600, ha='left', va='top')\n",
    "# #     ax.text(1, 0, 'by @pratapvardhan; credit @jburnmurdoch', transform=ax.transAxes, color='#777777', ha='right',\n",
    "# #             bbox=dict(facecolor='white', alpha=0.8, edgecolor='white'))\n",
    "#     plt.box(False)"
   ]
  },
  {
   "cell_type": "code",
   "execution_count": 42,
   "id": "sexual-wages",
   "metadata": {
    "execution": {
     "iopub.execute_input": "2021-05-30T12:32:32.407723Z",
     "iopub.status.busy": "2021-05-30T12:32:32.407144Z",
     "iopub.status.idle": "2021-05-30T12:32:32.409595Z",
     "shell.execute_reply": "2021-05-30T12:32:32.410174Z"
    },
    "papermill": {
     "duration": 0.04091,
     "end_time": "2021-05-30T12:32:32.410309",
     "exception": false,
     "start_time": "2021-05-30T12:32:32.369399",
     "status": "completed"
    },
    "tags": []
   },
   "outputs": [],
   "source": [
    "# #hide_input\n",
    "# fig, ax = plt.subplots(figsize=(15, 8))\n",
    "# animator = animation.FuncAnimation(fig, draw_barchart, frames=range(g.day.values.min(), g.day.values.max()))\n",
    "# HTML(animator.to_jshtml())\n",
    "# # or use animator.to_html5_video() or animator.save() "
   ]
  },
  {
   "cell_type": "code",
   "execution_count": null,
   "id": "australian-container",
   "metadata": {
    "papermill": {
     "duration": 0.034784,
     "end_time": "2021-05-30T12:32:32.479323",
     "exception": false,
     "start_time": "2021-05-30T12:32:32.444539",
     "status": "completed"
    },
    "tags": []
   },
   "outputs": [],
   "source": []
  },
  {
   "cell_type": "code",
   "execution_count": null,
   "id": "mediterranean-pontiac",
   "metadata": {
    "papermill": {
     "duration": 0.033393,
     "end_time": "2021-05-30T12:32:32.546867",
     "exception": false,
     "start_time": "2021-05-30T12:32:32.513474",
     "status": "completed"
    },
    "tags": []
   },
   "outputs": [],
   "source": []
  },
  {
   "cell_type": "code",
   "execution_count": null,
   "id": "aging-legislature",
   "metadata": {
    "papermill": {
     "duration": 0.033789,
     "end_time": "2021-05-30T12:32:32.614272",
     "exception": false,
     "start_time": "2021-05-30T12:32:32.580483",
     "status": "completed"
    },
    "tags": []
   },
   "outputs": [],
   "source": []
  }
 ],
 "metadata": {
  "kernelspec": {
   "display_name": "Python 3",
   "language": "python",
   "name": "python3"
  },
  "language_info": {
   "codemirror_mode": {
    "name": "ipython",
    "version": 3
   },
   "file_extension": ".py",
   "mimetype": "text/x-python",
   "name": "python",
   "nbconvert_exporter": "python",
   "pygments_lexer": "ipython3",
   "version": "3.6.13"
  },
  "papermill": {
   "duration": 6.324003,
   "end_time": "2021-05-30T12:32:32.957369",
   "environment_variables": {},
   "exception": null,
   "input_path": "2020-03-21-covid19exp.ipynb",
   "output_path": "2020-03-21-covid19exp.ipynb",
   "parameters": {},
   "start_time": "2021-05-30T12:32:26.633366",
   "version": "2.0.0"
  }
 },
 "nbformat": 4,
 "nbformat_minor": 5
}