{
 "cells": [
  {
   "cell_type": "markdown",
   "id": "muslim-click",
   "metadata": {
    "papermill": {
     "duration": 0.032335,
     "end_time": "2021-03-07T00:11:27.477983",
     "exception": false,
     "start_time": "2021-03-07T00:11:27.445648",
     "status": "completed"
    },
    "tags": []
   },
   "source": [
    "# COVID-19 Case Race\n",
    "> A race chart to see rising cases around the world\n",
    "\n",
    "- author: Hargun Oberoi\n",
    "- image: images/covid-overview.png\n",
    "- hide: false\n",
    "- badges: false"
   ]
  },
  {
   "cell_type": "code",
   "execution_count": 1,
   "id": "proof-material",
   "metadata": {
    "execution": {
     "iopub.execute_input": "2021-03-07T00:11:27.539246Z",
     "iopub.status.busy": "2021-03-07T00:11:27.538805Z",
     "iopub.status.idle": "2021-03-07T00:11:27.814573Z",
     "shell.execute_reply": "2021-03-07T00:11:27.813384Z"
    },
    "papermill": {
     "duration": 0.311324,
     "end_time": "2021-03-07T00:11:27.814736",
     "exception": false,
     "start_time": "2021-03-07T00:11:27.503412",
     "status": "completed"
    },
    "tags": []
   },
   "outputs": [],
   "source": [
    "#hide\n",
    "import numpy as np\n",
    "import pandas as pd\n",
    "from jinja2 import Template\n",
    "from IPython.display import HTML"
   ]
  },
  {
   "cell_type": "code",
   "execution_count": 2,
   "id": "developed-terminology",
   "metadata": {
    "execution": {
     "iopub.execute_input": "2021-03-07T00:11:27.870977Z",
     "iopub.status.busy": "2021-03-07T00:11:27.870522Z",
     "iopub.status.idle": "2021-03-07T00:11:27.872455Z",
     "shell.execute_reply": "2021-03-07T00:11:27.872791Z"
    },
    "papermill": {
     "duration": 0.032652,
     "end_time": "2021-03-07T00:11:27.872896",
     "exception": false,
     "start_time": "2021-03-07T00:11:27.840244",
     "status": "completed"
    },
    "tags": []
   },
   "outputs": [],
   "source": [
    "#hide\n",
    "\n",
    "# FETCH\n",
    "base_url = 'https://raw.githubusercontent.com/pratapvardhan/notebooks/master/covid19/'\n",
    "paths = {\n",
    "    'mapping': base_url + 'mapping_countries.csv',\n",
    "    'overview': base_url + 'overview.tpl'\n",
    "}"
   ]
  },
  {
   "cell_type": "code",
   "execution_count": 3,
   "id": "dynamic-saver",
   "metadata": {
    "execution": {
     "iopub.execute_input": "2021-03-07T00:11:27.930790Z",
     "iopub.status.busy": "2021-03-07T00:11:27.930287Z",
     "iopub.status.idle": "2021-03-07T00:11:27.934380Z",
     "shell.execute_reply": "2021-03-07T00:11:27.935243Z"
    },
    "papermill": {
     "duration": 0.038169,
     "end_time": "2021-03-07T00:11:27.935461",
     "exception": false,
     "start_time": "2021-03-07T00:11:27.897292",
     "status": "completed"
    },
    "tags": []
   },
   "outputs": [
    {
     "data": {
      "text/plain": [
       "'https://raw.githubusercontent.com/pratapvardhan/notebooks/master/covid19/mapping_countries.csv'"
      ]
     },
     "execution_count": 3,
     "metadata": {},
     "output_type": "execute_result"
    }
   ],
   "source": [
    "#hide\n",
    "paths['mapping']"
   ]
  },
  {
   "cell_type": "code",
   "execution_count": 4,
   "id": "urban-software",
   "metadata": {
    "execution": {
     "iopub.execute_input": "2021-03-07T00:11:27.991741Z",
     "iopub.status.busy": "2021-03-07T00:11:27.991261Z",
     "iopub.status.idle": "2021-03-07T00:11:27.993807Z",
     "shell.execute_reply": "2021-03-07T00:11:27.994207Z"
    },
    "papermill": {
     "duration": 0.031421,
     "end_time": "2021-03-07T00:11:27.994300",
     "exception": false,
     "start_time": "2021-03-07T00:11:27.962879",
     "status": "completed"
    },
    "tags": []
   },
   "outputs": [],
   "source": [
    "#hide\n",
    "def get_mappings(url):\n",
    "    df = pd.read_csv(url)\n",
    "    return {\n",
    "        'df': df,\n",
    "        'replace.country': dict(df.dropna(subset=['Name']).set_index('Country')['Name']),\n",
    "        'map.continent': dict(df.set_index('Name')['Continent'])\n",
    "    }"
   ]
  },
  {
   "cell_type": "code",
   "execution_count": 5,
   "id": "intimate-machinery",
   "metadata": {
    "execution": {
     "iopub.execute_input": "2021-03-07T00:11:28.047380Z",
     "iopub.status.busy": "2021-03-07T00:11:28.046967Z",
     "iopub.status.idle": "2021-03-07T00:11:28.080539Z",
     "shell.execute_reply": "2021-03-07T00:11:28.080068Z"
    },
    "papermill": {
     "duration": 0.062002,
     "end_time": "2021-03-07T00:11:28.080659",
     "exception": false,
     "start_time": "2021-03-07T00:11:28.018657",
     "status": "completed"
    },
    "tags": []
   },
   "outputs": [],
   "source": [
    "#hide\n",
    "mapping = get_mappings(paths['mapping'])"
   ]
  },
  {
   "cell_type": "code",
   "execution_count": 6,
   "id": "certified-tactics",
   "metadata": {
    "execution": {
     "iopub.execute_input": "2021-03-07T00:11:28.144132Z",
     "iopub.status.busy": "2021-03-07T00:11:28.143493Z",
     "iopub.status.idle": "2021-03-07T00:11:28.145403Z",
     "shell.execute_reply": "2021-03-07T00:11:28.145812Z"
    },
    "papermill": {
     "duration": 0.03658,
     "end_time": "2021-03-07T00:11:28.145938",
     "exception": false,
     "start_time": "2021-03-07T00:11:28.109358",
     "status": "completed"
    },
    "tags": []
   },
   "outputs": [],
   "source": [
    "#hide\n",
    "def get_template(path):\n",
    "    from urllib.parse import urlparse\n",
    "    if bool(urlparse(path).netloc):\n",
    "        from urllib.request import urlopen\n",
    "        return urlopen(path).read().decode('utf8')\n",
    "    return open(path).read()"
   ]
  },
  {
   "cell_type": "code",
   "execution_count": 7,
   "id": "realistic-blast",
   "metadata": {
    "execution": {
     "iopub.execute_input": "2021-03-07T00:11:28.201776Z",
     "iopub.status.busy": "2021-03-07T00:11:28.201343Z",
     "iopub.status.idle": "2021-03-07T00:11:28.203497Z",
     "shell.execute_reply": "2021-03-07T00:11:28.203920Z"
    },
    "papermill": {
     "duration": 0.032008,
     "end_time": "2021-03-07T00:11:28.204060",
     "exception": false,
     "start_time": "2021-03-07T00:11:28.172052",
     "status": "completed"
    },
    "tags": []
   },
   "outputs": [],
   "source": [
    "#hide\n",
    "def get_frame(name):\n",
    "    url = (\n",
    "        'https://raw.githubusercontent.com/CSSEGISandData/COVID-19/master/csse_covid_19_data/'\n",
    "        f'csse_covid_19_time_series/time_series_covid19_{name}_global.csv')\n",
    "    df = pd.read_csv(url)\n",
    "    # rename countries\n",
    "    df['Country/Region'] = df['Country/Region'].replace(mapping['replace.country'])\n",
    "    return df"
   ]
  },
  {
   "cell_type": "code",
   "execution_count": 8,
   "id": "affiliated-characterization",
   "metadata": {
    "execution": {
     "iopub.execute_input": "2021-03-07T00:11:28.259290Z",
     "iopub.status.busy": "2021-03-07T00:11:28.258873Z",
     "iopub.status.idle": "2021-03-07T00:11:28.261025Z",
     "shell.execute_reply": "2021-03-07T00:11:28.261424Z"
    },
    "papermill": {
     "duration": 0.031955,
     "end_time": "2021-03-07T00:11:28.261515",
     "exception": false,
     "start_time": "2021-03-07T00:11:28.229560",
     "status": "completed"
    },
    "tags": []
   },
   "outputs": [],
   "source": [
    "#hide\n",
    "def get_dates(df):\n",
    "    dt_cols = df.columns[~df.columns.isin(['Province/State', 'Country/Region', 'Lat', 'Long'])]\n",
    "    LAST_DATE_I = -1\n",
    "    # sometimes last column may be empty, then go backwards\n",
    "    for i in range(-1, -len(dt_cols), -1):\n",
    "        if not df[dt_cols[i]].fillna(0).eq(0).all():\n",
    "            LAST_DATE_I = i\n",
    "            break\n",
    "    return LAST_DATE_I, dt_cols"
   ]
  },
  {
   "cell_type": "code",
   "execution_count": 9,
   "id": "recent-optimization",
   "metadata": {
    "execution": {
     "iopub.execute_input": "2021-03-07T00:11:28.318186Z",
     "iopub.status.busy": "2021-03-07T00:11:28.317662Z",
     "iopub.status.idle": "2021-03-07T00:11:28.546175Z",
     "shell.execute_reply": "2021-03-07T00:11:28.545726Z"
    },
    "papermill": {
     "duration": 0.260251,
     "end_time": "2021-03-07T00:11:28.546297",
     "exception": false,
     "start_time": "2021-03-07T00:11:28.286046",
     "status": "completed"
    },
    "tags": []
   },
   "outputs": [],
   "source": [
    "#hide\n",
    "COL_REGION = 'Country/Region'\n",
    "# Confirmed, Recovered, Deaths\n",
    "df = get_frame('confirmed')\n",
    "# dft_: timeseries, dfc_: today country agg\n",
    "dft_cases = df\n",
    "dft_deaths = get_frame('deaths')\n",
    "dft_recovered = get_frame('recovered')\n",
    "LAST_DATE_I, dt_cols = get_dates(df)"
   ]
  },
  {
   "cell_type": "code",
   "execution_count": 10,
   "id": "absolute-copper",
   "metadata": {
    "execution": {
     "iopub.execute_input": "2021-03-07T00:11:28.607238Z",
     "iopub.status.busy": "2021-03-07T00:11:28.606738Z",
     "iopub.status.idle": "2021-03-07T00:11:28.607920Z",
     "shell.execute_reply": "2021-03-07T00:11:28.608328Z"
    },
    "papermill": {
     "duration": 0.034085,
     "end_time": "2021-03-07T00:11:28.608438",
     "exception": false,
     "start_time": "2021-03-07T00:11:28.574353",
     "status": "completed"
    },
    "tags": []
   },
   "outputs": [],
   "source": [
    "#hide\n",
    "LAST_DATE_I, dt_cols = get_dates(df)\n",
    "dt_today =dt_cols[LAST_DATE_I]\n",
    "# dt_5day = dt_cols[LAST_DATE_I - 5]\n",
    "dt_yday = dt_cols[LAST_DATE_I - 1]"
   ]
  },
  {
   "cell_type": "code",
   "execution_count": 11,
   "id": "restricted-sheriff",
   "metadata": {
    "execution": {
     "iopub.execute_input": "2021-03-07T00:11:28.670488Z",
     "iopub.status.busy": "2021-03-07T00:11:28.668304Z",
     "iopub.status.idle": "2021-03-07T00:11:28.674805Z",
     "shell.execute_reply": "2021-03-07T00:11:28.674217Z"
    },
    "papermill": {
     "duration": 0.039576,
     "end_time": "2021-03-07T00:11:28.674940",
     "exception": false,
     "start_time": "2021-03-07T00:11:28.635364",
     "status": "completed"
    },
    "tags": []
   },
   "outputs": [],
   "source": [
    "#hide\n",
    "dfc_cases = dft_cases.groupby(COL_REGION)[dt_today].sum()\n",
    "dfc_deaths = dft_deaths.groupby(COL_REGION)[dt_today].sum()\n",
    "# dfp_cases = dft_cases.groupby(COL_REGION)[dt_5day].sum()\n",
    "# dfp_deaths = dft_deaths.groupby(COL_REGION)[dt_5day].sum()\n",
    "dfp_cases = dft_cases.groupby(COL_REGION)[dt_yday].sum()\n",
    "dfp_deaths = dft_deaths.groupby(COL_REGION)[dt_yday].sum()"
   ]
  },
  {
   "cell_type": "code",
   "execution_count": 12,
   "id": "deluxe-hepatitis",
   "metadata": {
    "execution": {
     "iopub.execute_input": "2021-03-07T00:11:28.731274Z",
     "iopub.status.busy": "2021-03-07T00:11:28.730841Z",
     "iopub.status.idle": "2021-03-07T00:11:28.735463Z",
     "shell.execute_reply": "2021-03-07T00:11:28.735935Z"
    },
    "papermill": {
     "duration": 0.036638,
     "end_time": "2021-03-07T00:11:28.736062",
     "exception": false,
     "start_time": "2021-03-07T00:11:28.699424",
     "status": "completed"
    },
    "tags": []
   },
   "outputs": [],
   "source": [
    "#hide\n",
    "df_table = (pd.DataFrame(dict(Cases = dfc_cases, Deaths = dfc_deaths, PCases = dfp_cases, PDeaths = dfp_deaths))\n",
    "            .sort_values(by = ['Cases','Deaths'], ascending = [False, False])\n",
    "            .reset_index())"
   ]
  },
  {
   "cell_type": "code",
   "execution_count": 13,
   "id": "educational-chancellor",
   "metadata": {
    "execution": {
     "iopub.execute_input": "2021-03-07T00:11:28.803820Z",
     "iopub.status.busy": "2021-03-07T00:11:28.803248Z",
     "iopub.status.idle": "2021-03-07T00:11:28.807702Z",
     "shell.execute_reply": "2021-03-07T00:11:28.807233Z"
    },
    "papermill": {
     "duration": 0.047224,
     "end_time": "2021-03-07T00:11:28.807806",
     "exception": false,
     "start_time": "2021-03-07T00:11:28.760582",
     "status": "completed"
    },
    "tags": []
   },
   "outputs": [
    {
     "data": {
      "text/html": [
       "<div>\n",
       "<style scoped>\n",
       "    .dataframe tbody tr th:only-of-type {\n",
       "        vertical-align: middle;\n",
       "    }\n",
       "\n",
       "    .dataframe tbody tr th {\n",
       "        vertical-align: top;\n",
       "    }\n",
       "\n",
       "    .dataframe thead th {\n",
       "        text-align: right;\n",
       "    }\n",
       "</style>\n",
       "<table border=\"1\" class=\"dataframe\">\n",
       "  <thead>\n",
       "    <tr style=\"text-align: right;\">\n",
       "      <th></th>\n",
       "      <th>Country/Region</th>\n",
       "      <th>Cases</th>\n",
       "      <th>Deaths</th>\n",
       "      <th>PCases</th>\n",
       "      <th>PDeaths</th>\n",
       "      <th>Cases (+)</th>\n",
       "      <th>Deaths (+)</th>\n",
       "      <th>Fatality Rate</th>\n",
       "      <th>Continent</th>\n",
       "    </tr>\n",
       "  </thead>\n",
       "  <tbody>\n",
       "    <tr>\n",
       "      <th>0</th>\n",
       "      <td>US</td>\n",
       "      <td>28894541</td>\n",
       "      <td>522877</td>\n",
       "      <td>28827144</td>\n",
       "      <td>521108</td>\n",
       "      <td>67397</td>\n",
       "      <td>1769</td>\n",
       "      <td>1.81</td>\n",
       "      <td>North America</td>\n",
       "    </tr>\n",
       "    <tr>\n",
       "      <th>1</th>\n",
       "      <td>India</td>\n",
       "      <td>11192045</td>\n",
       "      <td>157656</td>\n",
       "      <td>11173761</td>\n",
       "      <td>157548</td>\n",
       "      <td>18284</td>\n",
       "      <td>108</td>\n",
       "      <td>1.41</td>\n",
       "      <td>Asia</td>\n",
       "    </tr>\n",
       "    <tr>\n",
       "      <th>2</th>\n",
       "      <td>Brazil</td>\n",
       "      <td>10869227</td>\n",
       "      <td>262770</td>\n",
       "      <td>10793732</td>\n",
       "      <td>260970</td>\n",
       "      <td>75495</td>\n",
       "      <td>1800</td>\n",
       "      <td>2.42</td>\n",
       "      <td>South America</td>\n",
       "    </tr>\n",
       "    <tr>\n",
       "      <th>3</th>\n",
       "      <td>Russia</td>\n",
       "      <td>4252876</td>\n",
       "      <td>86821</td>\n",
       "      <td>4241970</td>\n",
       "      <td>86368</td>\n",
       "      <td>10906</td>\n",
       "      <td>453</td>\n",
       "      <td>2.04</td>\n",
       "      <td>Europe</td>\n",
       "    </tr>\n",
       "    <tr>\n",
       "      <th>4</th>\n",
       "      <td>United Kingdom</td>\n",
       "      <td>4219788</td>\n",
       "      <td>124495</td>\n",
       "      <td>4213764</td>\n",
       "      <td>124259</td>\n",
       "      <td>6024</td>\n",
       "      <td>236</td>\n",
       "      <td>2.95</td>\n",
       "      <td>Europe</td>\n",
       "    </tr>\n",
       "  </tbody>\n",
       "</table>\n",
       "</div>"
      ],
      "text/plain": [
       "   Country/Region     Cases  Deaths    PCases  PDeaths  Cases (+)  Deaths (+)  \\\n",
       "0              US  28894541  522877  28827144   521108      67397        1769   \n",
       "1           India  11192045  157656  11173761   157548      18284         108   \n",
       "2          Brazil  10869227  262770  10793732   260970      75495        1800   \n",
       "3          Russia   4252876   86821   4241970    86368      10906         453   \n",
       "4  United Kingdom   4219788  124495   4213764   124259       6024         236   \n",
       "\n",
       "   Fatality Rate      Continent  \n",
       "0           1.81  North America  \n",
       "1           1.41           Asia  \n",
       "2           2.42  South America  \n",
       "3           2.04         Europe  \n",
       "4           2.95         Europe  "
      ]
     },
     "execution_count": 13,
     "metadata": {},
     "output_type": "execute_result"
    }
   ],
   "source": [
    "#hide\n",
    "for c in 'Cases, Deaths'.split(', '):\n",
    "    df_table[f'{c} (+)'] = (df_table[c] - df_table[f'P{c}']).clip(0)\n",
    "    #Clip ça veut dire, les chiffres negatif sont interdit\n",
    "df_table['Fatality Rate'] = (100* df_table['Deaths']/ df_table['Cases']).round(2)\n",
    "df_table['Continent'] = df_table['Country/Region'].map(mapping['map.continent'])\n",
    "df_table.head(5)"
   ]
  },
  {
   "cell_type": "code",
   "execution_count": 14,
   "id": "aboriginal-bulgaria",
   "metadata": {
    "execution": {
     "iopub.execute_input": "2021-03-07T00:11:28.869622Z",
     "iopub.status.busy": "2021-03-07T00:11:28.869074Z",
     "iopub.status.idle": "2021-03-07T00:11:28.870167Z",
     "shell.execute_reply": "2021-03-07T00:11:28.870603Z"
    },
    "papermill": {
     "duration": 0.03505,
     "end_time": "2021-03-07T00:11:28.870726",
     "exception": false,
     "start_time": "2021-03-07T00:11:28.835676",
     "status": "completed"
    },
    "tags": []
   },
   "outputs": [],
   "source": [
    "#hide\n",
    "#delete problematic countries from table\n",
    "df_table = df_table[~df_table['Country/Region'].isin(['Cape Verde', 'Cruise Ship', 'Kosovo'])]"
   ]
  },
  {
   "cell_type": "code",
   "execution_count": 15,
   "id": "fantastic-effect",
   "metadata": {
    "execution": {
     "iopub.execute_input": "2021-03-07T00:11:28.930200Z",
     "iopub.status.busy": "2021-03-07T00:11:28.925259Z",
     "iopub.status.idle": "2021-03-07T00:11:28.946643Z",
     "shell.execute_reply": "2021-03-07T00:11:28.946260Z"
    },
    "papermill": {
     "duration": 0.04864,
     "end_time": "2021-03-07T00:11:28.946728",
     "exception": false,
     "start_time": "2021-03-07T00:11:28.898088",
     "status": "completed"
    },
    "tags": []
   },
   "outputs": [
    {
     "data": {
      "text/html": [
       "<div>\n",
       "<style scoped>\n",
       "    .dataframe tbody tr th:only-of-type {\n",
       "        vertical-align: middle;\n",
       "    }\n",
       "\n",
       "    .dataframe tbody tr th {\n",
       "        vertical-align: top;\n",
       "    }\n",
       "\n",
       "    .dataframe thead th {\n",
       "        text-align: right;\n",
       "    }\n",
       "</style>\n",
       "<table border=\"1\" class=\"dataframe\">\n",
       "  <thead>\n",
       "    <tr style=\"text-align: right;\">\n",
       "      <th></th>\n",
       "      <th>Country/Region</th>\n",
       "      <th>Cases</th>\n",
       "      <th>Deaths</th>\n",
       "      <th>PCases</th>\n",
       "      <th>PDeaths</th>\n",
       "      <th>Cases (+)</th>\n",
       "      <th>Deaths (+)</th>\n",
       "      <th>Fatality Rate</th>\n",
       "      <th>Continent</th>\n",
       "    </tr>\n",
       "  </thead>\n",
       "  <tbody>\n",
       "    <tr>\n",
       "      <th>0</th>\n",
       "      <td>US</td>\n",
       "      <td>28894541</td>\n",
       "      <td>522877</td>\n",
       "      <td>28827144</td>\n",
       "      <td>521108</td>\n",
       "      <td>67397</td>\n",
       "      <td>1769</td>\n",
       "      <td>1.8</td>\n",
       "      <td>North America</td>\n",
       "    </tr>\n",
       "    <tr>\n",
       "      <th>1</th>\n",
       "      <td>India</td>\n",
       "      <td>11192045</td>\n",
       "      <td>157656</td>\n",
       "      <td>11173761</td>\n",
       "      <td>157548</td>\n",
       "      <td>18284</td>\n",
       "      <td>108</td>\n",
       "      <td>1.4</td>\n",
       "      <td>Asia</td>\n",
       "    </tr>\n",
       "    <tr>\n",
       "      <th>2</th>\n",
       "      <td>Brazil</td>\n",
       "      <td>10869227</td>\n",
       "      <td>262770</td>\n",
       "      <td>10793732</td>\n",
       "      <td>260970</td>\n",
       "      <td>75495</td>\n",
       "      <td>1800</td>\n",
       "      <td>2.4</td>\n",
       "      <td>South America</td>\n",
       "    </tr>\n",
       "    <tr>\n",
       "      <th>3</th>\n",
       "      <td>Russia</td>\n",
       "      <td>4252876</td>\n",
       "      <td>86821</td>\n",
       "      <td>4241970</td>\n",
       "      <td>86368</td>\n",
       "      <td>10906</td>\n",
       "      <td>453</td>\n",
       "      <td>2.0</td>\n",
       "      <td>Europe</td>\n",
       "    </tr>\n",
       "    <tr>\n",
       "      <th>4</th>\n",
       "      <td>United Kingdom</td>\n",
       "      <td>4219788</td>\n",
       "      <td>124495</td>\n",
       "      <td>4213764</td>\n",
       "      <td>124259</td>\n",
       "      <td>6024</td>\n",
       "      <td>236</td>\n",
       "      <td>3.0</td>\n",
       "      <td>Europe</td>\n",
       "    </tr>\n",
       "  </tbody>\n",
       "</table>\n",
       "</div>"
      ],
      "text/plain": [
       "   Country/Region     Cases  Deaths    PCases  PDeaths  Cases (+)  Deaths (+)  \\\n",
       "0              US  28894541  522877  28827144   521108      67397        1769   \n",
       "1           India  11192045  157656  11173761   157548      18284         108   \n",
       "2          Brazil  10869227  262770  10793732   260970      75495        1800   \n",
       "3          Russia   4252876   86821   4241970    86368      10906         453   \n",
       "4  United Kingdom   4219788  124495   4213764   124259       6024         236   \n",
       "\n",
       "   Fatality Rate      Continent  \n",
       "0            1.8  North America  \n",
       "1            1.4           Asia  \n",
       "2            2.4  South America  \n",
       "3            2.0         Europe  \n",
       "4            3.0         Europe  "
      ]
     },
     "execution_count": 15,
     "metadata": {},
     "output_type": "execute_result"
    }
   ],
   "source": [
    "#hide\n",
    "df_table = (pd.DataFrame(dict(Cases=dfc_cases, Deaths=dfc_deaths, PCases=dfp_cases, PDeaths=dfp_deaths))\n",
    "             .sort_values(by=['Cases', 'Deaths'], ascending=[False, False])\n",
    "             .reset_index())\n",
    "df_table.rename(columns={'index': 'Country/Region'}, inplace=True)\n",
    "for c in 'Cases, Deaths'.split(', '):\n",
    "    df_table[f'{c} (+)'] = (df_table[c] - df_table[f'P{c}']).clip(0)  # DATA BUG\n",
    "df_table['Fatality Rate'] = (100 * df_table['Deaths'] / df_table['Cases']).round(1)\n",
    "df_table['Continent'] = df_table['Country/Region'].map(mapping['map.continent'])\n",
    "df_table.head(5)"
   ]
  },
  {
   "cell_type": "code",
   "execution_count": 16,
   "id": "fewer-occasion",
   "metadata": {
    "execution": {
     "iopub.execute_input": "2021-03-07T00:11:29.003294Z",
     "iopub.status.busy": "2021-03-07T00:11:29.002711Z",
     "iopub.status.idle": "2021-03-07T00:11:29.005153Z",
     "shell.execute_reply": "2021-03-07T00:11:29.004778Z"
    },
    "papermill": {
     "duration": 0.033103,
     "end_time": "2021-03-07T00:11:29.005233",
     "exception": false,
     "start_time": "2021-03-07T00:11:28.972130",
     "status": "completed"
    },
    "tags": []
   },
   "outputs": [],
   "source": [
    "#hide\n",
    "#delete problematic countries from table\n",
    "df_table = df_table[~df_table['Country/Region'].isin(['Cape Verde', 'Cruise Ship', 'Kosovo'])]"
   ]
  },
  {
   "cell_type": "code",
   "execution_count": 17,
   "id": "related-center",
   "metadata": {
    "execution": {
     "iopub.execute_input": "2021-03-07T00:11:29.072557Z",
     "iopub.status.busy": "2021-03-07T00:11:29.072010Z",
     "iopub.status.idle": "2021-03-07T00:11:29.074483Z",
     "shell.execute_reply": "2021-03-07T00:11:29.074032Z"
    },
    "papermill": {
     "duration": 0.044188,
     "end_time": "2021-03-07T00:11:29.074593",
     "exception": false,
     "start_time": "2021-03-07T00:11:29.030405",
     "status": "completed"
    },
    "tags": []
   },
   "outputs": [],
   "source": [
    "#hide\n",
    "metrics = [df_table.columns[index] for index in [1,2,5,6]]\n",
    "# s_china = df_table[df_table['Country/Region'].eq('China')][metrics].sum().add_prefix('China ')\n",
    "s_us = df_table[df_table['Country/Region'].eq('US')][metrics].sum().add_prefix('US ')\n",
    "s_eu = df_table[df_table['Continent'].eq('Europe')][metrics].sum().add_prefix('EU ')\n",
    "s_ind = df_table[df_table['Country/Region'].eq('India')][metrics].sum().add_prefix('India ')\n",
    "summary = {'updated': pd.to_datetime(dt_today), 'since': pd.to_datetime(dt_yday)}\n",
    "summary = {'updated': pd.to_datetime(dt_today), 'since': pd.to_datetime(dt_yday)}\n",
    "summary = {**summary, **df_table[metrics].sum(), **s_ind, **s_us, **s_eu}"
   ]
  },
  {
   "cell_type": "code",
   "execution_count": 18,
   "id": "engaging-syndrome",
   "metadata": {
    "execution": {
     "iopub.execute_input": "2021-03-07T00:11:29.131906Z",
     "iopub.status.busy": "2021-03-07T00:11:29.129275Z",
     "iopub.status.idle": "2021-03-07T00:11:29.139796Z",
     "shell.execute_reply": "2021-03-07T00:11:29.140134Z"
    },
    "papermill": {
     "duration": 0.039768,
     "end_time": "2021-03-07T00:11:29.140224",
     "exception": false,
     "start_time": "2021-03-07T00:11:29.100456",
     "status": "completed"
    },
    "tags": []
   },
   "outputs": [],
   "source": [
    "#hide\n",
    "dft_ct_new_cases = dft_cases.groupby(COL_REGION)[dt_cols].sum().diff(axis=1).fillna(0).astype(int)"
   ]
  },
  {
   "cell_type": "code",
   "execution_count": 19,
   "id": "neutral-assignment",
   "metadata": {
    "execution": {
     "iopub.execute_input": "2021-03-07T00:11:29.198376Z",
     "iopub.status.busy": "2021-03-07T00:11:29.197902Z",
     "iopub.status.idle": "2021-03-07T00:11:29.200226Z",
     "shell.execute_reply": "2021-03-07T00:11:29.200725Z"
    },
    "papermill": {
     "duration": 0.034696,
     "end_time": "2021-03-07T00:11:29.200842",
     "exception": false,
     "start_time": "2021-03-07T00:11:29.166146",
     "status": "completed"
    },
    "tags": []
   },
   "outputs": [],
   "source": [
    "#hide\n",
    "everydaycases = dft_ct_new_cases.cumsum(axis=1)"
   ]
  },
  {
   "cell_type": "code",
   "execution_count": 20,
   "id": "parliamentary-calgary",
   "metadata": {
    "execution": {
     "iopub.execute_input": "2021-03-07T00:11:29.260328Z",
     "iopub.status.busy": "2021-03-07T00:11:29.259789Z",
     "iopub.status.idle": "2021-03-07T00:11:30.661452Z",
     "shell.execute_reply": "2021-03-07T00:11:30.660453Z"
    },
    "papermill": {
     "duration": 1.433389,
     "end_time": "2021-03-07T00:11:30.661565",
     "exception": false,
     "start_time": "2021-03-07T00:11:29.228176",
     "status": "completed"
    },
    "tags": []
   },
   "outputs": [],
   "source": [
    "#hide\n",
    "import pandas as pd\n",
    "import matplotlib.pyplot as plt\n",
    "import matplotlib.ticker as ticker\n",
    "import matplotlib.animation as animation\n",
    "from IPython.display import HTML"
   ]
  },
  {
   "cell_type": "code",
   "execution_count": 21,
   "id": "lasting-extraction",
   "metadata": {
    "execution": {
     "iopub.execute_input": "2021-03-07T00:11:30.720021Z",
     "iopub.status.busy": "2021-03-07T00:11:30.717747Z",
     "iopub.status.idle": "2021-03-07T00:11:30.722730Z",
     "shell.execute_reply": "2021-03-07T00:11:30.721763Z"
    },
    "papermill": {
     "duration": 0.036849,
     "end_time": "2021-03-07T00:11:30.722934",
     "exception": false,
     "start_time": "2021-03-07T00:11:30.686085",
     "status": "completed"
    },
    "tags": []
   },
   "outputs": [],
   "source": [
    "#hide\n",
    "t = everydaycases.stack()"
   ]
  },
  {
   "cell_type": "code",
   "execution_count": 22,
   "id": "premier-sleeve",
   "metadata": {
    "execution": {
     "iopub.execute_input": "2021-03-07T00:11:30.780090Z",
     "iopub.status.busy": "2021-03-07T00:11:30.778087Z",
     "iopub.status.idle": "2021-03-07T00:11:30.786687Z",
     "shell.execute_reply": "2021-03-07T00:11:30.785705Z"
    },
    "papermill": {
     "duration": 0.038134,
     "end_time": "2021-03-07T00:11:30.786801",
     "exception": false,
     "start_time": "2021-03-07T00:11:30.748667",
     "status": "completed"
    },
    "tags": []
   },
   "outputs": [],
   "source": [
    "#hide\n",
    "g = t.reset_index(['Country/Region'])"
   ]
  },
  {
   "cell_type": "code",
   "execution_count": 23,
   "id": "distributed-pittsburgh",
   "metadata": {
    "execution": {
     "iopub.execute_input": "2021-03-07T00:11:30.845774Z",
     "iopub.status.busy": "2021-03-07T00:11:30.845195Z",
     "iopub.status.idle": "2021-03-07T00:11:30.848218Z",
     "shell.execute_reply": "2021-03-07T00:11:30.847724Z"
    },
    "papermill": {
     "duration": 0.037072,
     "end_time": "2021-03-07T00:11:30.848333",
     "exception": false,
     "start_time": "2021-03-07T00:11:30.811261",
     "status": "completed"
    },
    "tags": []
   },
   "outputs": [],
   "source": [
    "#hide\n",
    "g.index.name = 'date'"
   ]
  },
  {
   "cell_type": "code",
   "execution_count": 24,
   "id": "naked-donor",
   "metadata": {
    "execution": {
     "iopub.execute_input": "2021-03-07T00:11:30.905339Z",
     "iopub.status.busy": "2021-03-07T00:11:30.904913Z",
     "iopub.status.idle": "2021-03-07T00:11:30.906559Z",
     "shell.execute_reply": "2021-03-07T00:11:30.906881Z"
    },
    "papermill": {
     "duration": 0.031306,
     "end_time": "2021-03-07T00:11:30.906982",
     "exception": false,
     "start_time": "2021-03-07T00:11:30.875676",
     "status": "completed"
    },
    "tags": []
   },
   "outputs": [],
   "source": [
    "# #hide\n",
    "# g = g.reset_index(['date'])"
   ]
  },
  {
   "cell_type": "code",
   "execution_count": 25,
   "id": "incomplete-mustang",
   "metadata": {
    "execution": {
     "iopub.execute_input": "2021-03-07T00:11:30.964472Z",
     "iopub.status.busy": "2021-03-07T00:11:30.964060Z",
     "iopub.status.idle": "2021-03-07T00:11:30.966668Z",
     "shell.execute_reply": "2021-03-07T00:11:30.967006Z"
    },
    "papermill": {
     "duration": 0.033961,
     "end_time": "2021-03-07T00:11:30.967098",
     "exception": false,
     "start_time": "2021-03-07T00:11:30.933137",
     "status": "completed"
    },
    "tags": []
   },
   "outputs": [],
   "source": [
    "#hide\n",
    "# g.head()"
   ]
  },
  {
   "cell_type": "code",
   "execution_count": 26,
   "id": "specific-kruger",
   "metadata": {
    "execution": {
     "iopub.execute_input": "2021-03-07T00:11:31.023215Z",
     "iopub.status.busy": "2021-03-07T00:11:31.022703Z",
     "iopub.status.idle": "2021-03-07T00:11:31.024484Z",
     "shell.execute_reply": "2021-03-07T00:11:31.024128Z"
    },
    "papermill": {
     "duration": 0.031835,
     "end_time": "2021-03-07T00:11:31.024565",
     "exception": false,
     "start_time": "2021-03-07T00:11:30.992730",
     "status": "completed"
    },
    "tags": []
   },
   "outputs": [],
   "source": [
    "#hide\n",
    "# g.columns = ['date','country','cases']"
   ]
  },
  {
   "cell_type": "code",
   "execution_count": 27,
   "id": "tender-conversion",
   "metadata": {
    "execution": {
     "iopub.execute_input": "2021-03-07T00:11:31.084011Z",
     "iopub.status.busy": "2021-03-07T00:11:31.083532Z",
     "iopub.status.idle": "2021-03-07T00:11:31.085849Z",
     "shell.execute_reply": "2021-03-07T00:11:31.086259Z"
    },
    "papermill": {
     "duration": 0.033929,
     "end_time": "2021-03-07T00:11:31.086362",
     "exception": false,
     "start_time": "2021-03-07T00:11:31.052433",
     "status": "completed"
    },
    "tags": []
   },
   "outputs": [],
   "source": [
    "#hide\n",
    "# g['continent'] = g.country"
   ]
  },
  {
   "cell_type": "code",
   "execution_count": 28,
   "id": "substantial-wilderness",
   "metadata": {
    "execution": {
     "iopub.execute_input": "2021-03-07T00:11:31.144044Z",
     "iopub.status.busy": "2021-03-07T00:11:31.143451Z",
     "iopub.status.idle": "2021-03-07T00:11:31.145816Z",
     "shell.execute_reply": "2021-03-07T00:11:31.146273Z"
    },
    "papermill": {
     "duration": 0.034143,
     "end_time": "2021-03-07T00:11:31.146378",
     "exception": false,
     "start_time": "2021-03-07T00:11:31.112235",
     "status": "completed"
    },
    "tags": []
   },
   "outputs": [],
   "source": [
    "#hide\n",
    "# cols = list(g.columns.values)"
   ]
  },
  {
   "cell_type": "code",
   "execution_count": 29,
   "id": "solved-farming",
   "metadata": {
    "execution": {
     "iopub.execute_input": "2021-03-07T00:11:31.201118Z",
     "iopub.status.busy": "2021-03-07T00:11:31.200706Z",
     "iopub.status.idle": "2021-03-07T00:11:31.203021Z",
     "shell.execute_reply": "2021-03-07T00:11:31.203369Z"
    },
    "papermill": {
     "duration": 0.031446,
     "end_time": "2021-03-07T00:11:31.203459",
     "exception": false,
     "start_time": "2021-03-07T00:11:31.172013",
     "status": "completed"
    },
    "tags": []
   },
   "outputs": [],
   "source": [
    "#hide\n",
    "# cols.insert(0, cols.pop())"
   ]
  },
  {
   "cell_type": "code",
   "execution_count": 30,
   "id": "executed-adoption",
   "metadata": {
    "execution": {
     "iopub.execute_input": "2021-03-07T00:11:31.259763Z",
     "iopub.status.busy": "2021-03-07T00:11:31.259345Z",
     "iopub.status.idle": "2021-03-07T00:11:31.262136Z",
     "shell.execute_reply": "2021-03-07T00:11:31.262557Z"
    },
    "papermill": {
     "duration": 0.033528,
     "end_time": "2021-03-07T00:11:31.262652",
     "exception": false,
     "start_time": "2021-03-07T00:11:31.229124",
     "status": "completed"
    },
    "tags": []
   },
   "outputs": [],
   "source": [
    "#hide\n",
    "# g = g[cols]"
   ]
  },
  {
   "cell_type": "code",
   "execution_count": 31,
   "id": "subject-dublin",
   "metadata": {
    "execution": {
     "iopub.execute_input": "2021-03-07T00:11:31.315257Z",
     "iopub.status.busy": "2021-03-07T00:11:31.314840Z",
     "iopub.status.idle": "2021-03-07T00:11:31.318007Z",
     "shell.execute_reply": "2021-03-07T00:11:31.317518Z"
    },
    "papermill": {
     "duration": 0.030487,
     "end_time": "2021-03-07T00:11:31.318118",
     "exception": false,
     "start_time": "2021-03-07T00:11:31.287631",
     "status": "completed"
    },
    "tags": []
   },
   "outputs": [],
   "source": [
    "#hide\n",
    "# g['continent'] = g['continent'].map(mapping['map.continent'])"
   ]
  },
  {
   "cell_type": "code",
   "execution_count": 32,
   "id": "freelance-scout",
   "metadata": {
    "execution": {
     "iopub.execute_input": "2021-03-07T00:11:31.374596Z",
     "iopub.status.busy": "2021-03-07T00:11:31.374152Z",
     "iopub.status.idle": "2021-03-07T00:11:31.376486Z",
     "shell.execute_reply": "2021-03-07T00:11:31.377043Z"
    },
    "papermill": {
     "duration": 0.031612,
     "end_time": "2021-03-07T00:11:31.377166",
     "exception": false,
     "start_time": "2021-03-07T00:11:31.345554",
     "status": "completed"
    },
    "tags": []
   },
   "outputs": [],
   "source": [
    "#hide\n",
    "# g.head()"
   ]
  },
  {
   "cell_type": "code",
   "execution_count": 33,
   "id": "limited-engine",
   "metadata": {
    "execution": {
     "iopub.execute_input": "2021-03-07T00:11:31.431750Z",
     "iopub.status.busy": "2021-03-07T00:11:31.431336Z",
     "iopub.status.idle": "2021-03-07T00:11:31.433252Z",
     "shell.execute_reply": "2021-03-07T00:11:31.432904Z"
    },
    "papermill": {
     "duration": 0.030939,
     "end_time": "2021-03-07T00:11:31.433331",
     "exception": false,
     "start_time": "2021-03-07T00:11:31.402392",
     "status": "completed"
    },
    "tags": []
   },
   "outputs": [],
   "source": [
    "# hide\n",
    "# g['date'] = g['date'].astype('datetime64[ns]')"
   ]
  },
  {
   "cell_type": "code",
   "execution_count": 34,
   "id": "sophisticated-supervisor",
   "metadata": {
    "execution": {
     "iopub.execute_input": "2021-03-07T00:11:31.487467Z",
     "iopub.status.busy": "2021-03-07T00:11:31.486852Z",
     "iopub.status.idle": "2021-03-07T00:11:31.489056Z",
     "shell.execute_reply": "2021-03-07T00:11:31.489452Z"
    },
    "papermill": {
     "duration": 0.0309,
     "end_time": "2021-03-07T00:11:31.489541",
     "exception": false,
     "start_time": "2021-03-07T00:11:31.458641",
     "status": "completed"
    },
    "tags": []
   },
   "outputs": [],
   "source": [
    "#hide\n",
    "# g['date'] = g.date.dt.dayofyear"
   ]
  },
  {
   "cell_type": "code",
   "execution_count": 35,
   "id": "inside-dubai",
   "metadata": {
    "execution": {
     "iopub.execute_input": "2021-03-07T00:11:31.543354Z",
     "iopub.status.busy": "2021-03-07T00:11:31.542942Z",
     "iopub.status.idle": "2021-03-07T00:11:31.544794Z",
     "shell.execute_reply": "2021-03-07T00:11:31.545189Z"
    },
    "papermill": {
     "duration": 0.03041,
     "end_time": "2021-03-07T00:11:31.545279",
     "exception": false,
     "start_time": "2021-03-07T00:11:31.514869",
     "status": "completed"
    },
    "tags": []
   },
   "outputs": [],
   "source": [
    "#hide\n",
    "# g = g.rename(columns= {'continent':'group','country':'name','cases':'value'})"
   ]
  },
  {
   "cell_type": "code",
   "execution_count": 36,
   "id": "fleet-motorcycle",
   "metadata": {
    "execution": {
     "iopub.execute_input": "2021-03-07T00:11:31.600895Z",
     "iopub.status.busy": "2021-03-07T00:11:31.600414Z",
     "iopub.status.idle": "2021-03-07T00:11:31.602687Z",
     "shell.execute_reply": "2021-03-07T00:11:31.603156Z"
    },
    "papermill": {
     "duration": 0.031915,
     "end_time": "2021-03-07T00:11:31.603260",
     "exception": false,
     "start_time": "2021-03-07T00:11:31.571345",
     "status": "completed"
    },
    "tags": []
   },
   "outputs": [],
   "source": [
    "#hide\n",
    "# cols = ['name','group','day','value']"
   ]
  },
  {
   "cell_type": "code",
   "execution_count": 37,
   "id": "continued-sleeping",
   "metadata": {
    "execution": {
     "iopub.execute_input": "2021-03-07T00:11:31.656253Z",
     "iopub.status.busy": "2021-03-07T00:11:31.655714Z",
     "iopub.status.idle": "2021-03-07T00:11:31.658391Z",
     "shell.execute_reply": "2021-03-07T00:11:31.658870Z"
    },
    "papermill": {
     "duration": 0.030663,
     "end_time": "2021-03-07T00:11:31.658961",
     "exception": false,
     "start_time": "2021-03-07T00:11:31.628298",
     "status": "completed"
    },
    "tags": []
   },
   "outputs": [],
   "source": [
    "#hide\n",
    "# g.rename(columns= {'date':'day'},inplace = True)"
   ]
  },
  {
   "cell_type": "code",
   "execution_count": 38,
   "id": "major-fight",
   "metadata": {
    "execution": {
     "iopub.execute_input": "2021-03-07T00:11:31.713544Z",
     "iopub.status.busy": "2021-03-07T00:11:31.713129Z",
     "iopub.status.idle": "2021-03-07T00:11:31.715212Z",
     "shell.execute_reply": "2021-03-07T00:11:31.715606Z"
    },
    "papermill": {
     "duration": 0.031581,
     "end_time": "2021-03-07T00:11:31.715695",
     "exception": false,
     "start_time": "2021-03-07T00:11:31.684114",
     "status": "completed"
    },
    "tags": []
   },
   "outputs": [],
   "source": [
    "#hide\n",
    "# g = g[cols]"
   ]
  },
  {
   "cell_type": "code",
   "execution_count": 39,
   "id": "structured-mobile",
   "metadata": {
    "execution": {
     "iopub.execute_input": "2021-03-07T00:11:31.770848Z",
     "iopub.status.busy": "2021-03-07T00:11:31.770396Z",
     "iopub.status.idle": "2021-03-07T00:11:31.772736Z",
     "shell.execute_reply": "2021-03-07T00:11:31.773177Z"
    },
    "papermill": {
     "duration": 0.031569,
     "end_time": "2021-03-07T00:11:31.773278",
     "exception": false,
     "start_time": "2021-03-07T00:11:31.741709",
     "status": "completed"
    },
    "tags": []
   },
   "outputs": [],
   "source": [
    "# #hide\n",
    "# g = g[g.group.notna()]"
   ]
  },
  {
   "cell_type": "code",
   "execution_count": 40,
   "id": "determined-closing",
   "metadata": {
    "execution": {
     "iopub.execute_input": "2021-03-07T00:11:31.831914Z",
     "iopub.status.busy": "2021-03-07T00:11:31.831324Z",
     "iopub.status.idle": "2021-03-07T00:11:31.834104Z",
     "shell.execute_reply": "2021-03-07T00:11:31.834523Z"
    },
    "papermill": {
     "duration": 0.033366,
     "end_time": "2021-03-07T00:11:31.834618",
     "exception": false,
     "start_time": "2021-03-07T00:11:31.801252",
     "status": "completed"
    },
    "tags": []
   },
   "outputs": [],
   "source": [
    "# #hide\n",
    "# colors = dict(zip(\n",
    "#     [\"Oceania\", \"Europe\", \"Asia\", \"South America\", \"Middle East\", \"North America\", \"Africa\"],\n",
    "#     [\"#adb0ff\", \"#ffb3ff\", \"#90d595\", \"#e48381\", \"#aafbff\", \"#f7bb5f\", \"#eafb50\"]\n",
    "# ))\n",
    "# group_lk = g.set_index('name')['group'].to_dict()"
   ]
  },
  {
   "cell_type": "code",
   "execution_count": null,
   "id": "gross-drinking",
   "metadata": {
    "papermill": {
     "duration": 0.025344,
     "end_time": "2021-03-07T00:11:31.885210",
     "exception": false,
     "start_time": "2021-03-07T00:11:31.859866",
     "status": "completed"
    },
    "tags": []
   },
   "outputs": [],
   "source": []
  },
  {
   "cell_type": "code",
   "execution_count": 41,
   "id": "subject-macintosh",
   "metadata": {
    "execution": {
     "iopub.execute_input": "2021-03-07T00:11:31.940055Z",
     "iopub.status.busy": "2021-03-07T00:11:31.939467Z",
     "iopub.status.idle": "2021-03-07T00:11:31.941082Z",
     "shell.execute_reply": "2021-03-07T00:11:31.941550Z"
    },
    "papermill": {
     "duration": 0.030606,
     "end_time": "2021-03-07T00:11:31.941675",
     "exception": false,
     "start_time": "2021-03-07T00:11:31.911069",
     "status": "completed"
    },
    "tags": []
   },
   "outputs": [],
   "source": [
    "# #hide\n",
    "# fig, ax = plt.subplots(figsize=(15, 8))\n",
    "\n",
    "# def draw_barchart(current_day):\n",
    "#     dff = g[g['day'].eq(current_day)].sort_values(by='value', ascending=True).tail(10)\n",
    "#     ax.clear()\n",
    "#     ax.barh(dff['name'], dff['value'], color=[colors[group_lk[x]] for x in dff['name']])\n",
    "#     dx = dff['value'].max() / 200\n",
    "    \n",
    "#     for i, (value, name) in enumerate(zip(dff['value'], dff['name'])):\n",
    "#         ax.text(value-dx, i,     name,           size=14, weight=600, ha='right', va='bottom')\n",
    "#         ax.text(value-dx, i-.25, group_lk[name], size=10, color='#444444', ha='right', va='baseline')\n",
    "#         ax.text(value+dx, i,     f'{value:,.0f}',  size=14, ha='left',  va='center')\n",
    "#     ax.text(1, 0.4, current_day, transform=ax.transAxes, color='#777777', size=46, ha='right', weight=800)\n",
    "#     ax.text(0, 1.06, 'Population (thousands)', transform=ax.transAxes, size=12, color='#777777')\n",
    "#     ax.xaxis.set_major_formatter(ticker.StrMethodFormatter('{x:,.0f}'))\n",
    "#     ax.xaxis.set_ticks_position('top')\n",
    "#     ax.tick_params(axis='x', colors='#777777', labelsize=12)\n",
    "#     ax.set_yticks([])\n",
    "#     ax.margins(0, 0.01)\n",
    "#     ax.grid(which='major', axis='x', linestyle='-')\n",
    "#     ax.set_axisbelow(True)\n",
    "    \n",
    "#     ax.text(0, 1.15, 'Coronavirus',\n",
    "#             transform=ax.transAxes, size=24, weight=600, ha='left', va='top')\n",
    "# #     ax.text(1, 0, 'by @pratapvardhan; credit @jburnmurdoch', transform=ax.transAxes, color='#777777', ha='right',\n",
    "# #             bbox=dict(facecolor='white', alpha=0.8, edgecolor='white'))\n",
    "#     plt.box(False)"
   ]
  },
  {
   "cell_type": "code",
   "execution_count": 42,
   "id": "sexual-wages",
   "metadata": {
    "execution": {
     "iopub.execute_input": "2021-03-07T00:11:31.995376Z",
     "iopub.status.busy": "2021-03-07T00:11:31.994960Z",
     "iopub.status.idle": "2021-03-07T00:11:31.997524Z",
     "shell.execute_reply": "2021-03-07T00:11:31.997879Z"
    },
    "papermill": {
     "duration": 0.031568,
     "end_time": "2021-03-07T00:11:31.997969",
     "exception": false,
     "start_time": "2021-03-07T00:11:31.966401",
     "status": "completed"
    },
    "tags": []
   },
   "outputs": [],
   "source": [
    "# #hide_input\n",
    "# fig, ax = plt.subplots(figsize=(15, 8))\n",
    "# animator = animation.FuncAnimation(fig, draw_barchart, frames=range(g.day.values.min(), g.day.values.max()))\n",
    "# HTML(animator.to_jshtml())\n",
    "# # or use animator.to_html5_video() or animator.save() "
   ]
  },
  {
   "cell_type": "code",
   "execution_count": null,
   "id": "australian-container",
   "metadata": {
    "papermill": {
     "duration": 0.025504,
     "end_time": "2021-03-07T00:11:32.049635",
     "exception": false,
     "start_time": "2021-03-07T00:11:32.024131",
     "status": "completed"
    },
    "tags": []
   },
   "outputs": [],
   "source": []
  },
  {
   "cell_type": "code",
   "execution_count": null,
   "id": "mediterranean-pontiac",
   "metadata": {
    "papermill": {
     "duration": 0.025545,
     "end_time": "2021-03-07T00:11:32.102775",
     "exception": false,
     "start_time": "2021-03-07T00:11:32.077230",
     "status": "completed"
    },
    "tags": []
   },
   "outputs": [],
   "source": []
  },
  {
   "cell_type": "code",
   "execution_count": null,
   "id": "aging-legislature",
   "metadata": {
    "papermill": {
     "duration": 0.025419,
     "end_time": "2021-03-07T00:11:32.153702",
     "exception": false,
     "start_time": "2021-03-07T00:11:32.128283",
     "status": "completed"
    },
    "tags": []
   },
   "outputs": [],
   "source": []
  }
 ],
 "metadata": {
  "kernelspec": {
   "display_name": "Python 3",
   "language": "python",
   "name": "python3"
  },
  "language_info": {
   "codemirror_mode": {
    "name": "ipython",
    "version": 3
   },
   "file_extension": ".py",
   "mimetype": "text/x-python",
   "name": "python",
   "nbconvert_exporter": "python",
   "pygments_lexer": "ipython3",
   "version": "3.6.13"
  },
  "papermill": {
   "duration": 6.078953,
   "end_time": "2021-03-07T00:11:32.489328",
   "environment_variables": {},
   "exception": null,
   "input_path": "2020-03-21-covid19exp.ipynb",
   "output_path": "2020-03-21-covid19exp.ipynb",
   "parameters": {},
   "start_time": "2021-03-07T00:11:26.410375",
   "version": "2.0.0"
  }
 },
 "nbformat": 4,
 "nbformat_minor": 5
}