{
 "cells": [
  {
   "cell_type": "markdown",
   "id": "muslim-click",
   "metadata": {
    "papermill": {
     "duration": 0.044897,
     "end_time": "2022-02-21T00:30:58.732937",
     "exception": false,
     "start_time": "2022-02-21T00:30:58.688040",
     "status": "completed"
    },
    "tags": []
   },
   "source": [
    "# COVID-19 Case Race\n",
    "> A race chart to see rising cases around the world\n",
    "\n",
    "- author: Hargun Oberoi\n",
    "- image: images/covid-overview.png\n",
    "- hide: false\n",
    "- badges: false"
   ]
  },
  {
   "cell_type": "code",
   "execution_count": 1,
   "id": "proof-material",
   "metadata": {
    "execution": {
     "iopub.execute_input": "2022-02-21T00:30:58.824082Z",
     "iopub.status.busy": "2022-02-21T00:30:58.823329Z",
     "iopub.status.idle": "2022-02-21T00:30:59.279883Z",
     "shell.execute_reply": "2022-02-21T00:30:59.278904Z"
    },
    "papermill": {
     "duration": 0.504895,
     "end_time": "2022-02-21T00:30:59.280050",
     "exception": false,
     "start_time": "2022-02-21T00:30:58.775155",
     "status": "completed"
    },
    "tags": []
   },
   "outputs": [],
   "source": [
    "#hide\n",
    "import numpy as np\n",
    "import pandas as pd\n",
    "from jinja2 import Template\n",
    "from IPython.display import HTML"
   ]
  },
  {
   "cell_type": "code",
   "execution_count": 2,
   "id": "developed-terminology",
   "metadata": {
    "execution": {
     "iopub.execute_input": "2022-02-21T00:30:59.363122Z",
     "iopub.status.busy": "2022-02-21T00:30:59.361752Z",
     "iopub.status.idle": "2022-02-21T00:30:59.363796Z",
     "shell.execute_reply": "2022-02-21T00:30:59.364345Z"
    },
    "papermill": {
     "duration": 0.046463,
     "end_time": "2022-02-21T00:30:59.364519",
     "exception": false,
     "start_time": "2022-02-21T00:30:59.318056",
     "status": "completed"
    },
    "tags": []
   },
   "outputs": [],
   "source": [
    "#hide\n",
    "\n",
    "# FETCH\n",
    "base_url = 'https://raw.githubusercontent.com/pratapvardhan/notebooks/master/covid19/'\n",
    "paths = {\n",
    "    'mapping': base_url + 'mapping_countries.csv',\n",
    "    'overview': base_url + 'overview.tpl'\n",
    "}"
   ]
  },
  {
   "cell_type": "code",
   "execution_count": 3,
   "id": "dynamic-saver",
   "metadata": {
    "execution": {
     "iopub.execute_input": "2022-02-21T00:30:59.457858Z",
     "iopub.status.busy": "2022-02-21T00:30:59.456668Z",
     "iopub.status.idle": "2022-02-21T00:30:59.460152Z",
     "shell.execute_reply": "2022-02-21T00:30:59.460768Z"
    },
    "papermill": {
     "duration": 0.056537,
     "end_time": "2022-02-21T00:30:59.460941",
     "exception": false,
     "start_time": "2022-02-21T00:30:59.404404",
     "status": "completed"
    },
    "tags": []
   },
   "outputs": [
    {
     "data": {
      "text/plain": [
       "'https://raw.githubusercontent.com/pratapvardhan/notebooks/master/covid19/mapping_countries.csv'"
      ]
     },
     "execution_count": 3,
     "metadata": {},
     "output_type": "execute_result"
    }
   ],
   "source": [
    "#hide\n",
    "paths['mapping']"
   ]
  },
  {
   "cell_type": "code",
   "execution_count": 4,
   "id": "urban-software",
   "metadata": {
    "execution": {
     "iopub.execute_input": "2022-02-21T00:30:59.558319Z",
     "iopub.status.busy": "2022-02-21T00:30:59.557606Z",
     "iopub.status.idle": "2022-02-21T00:30:59.560361Z",
     "shell.execute_reply": "2022-02-21T00:30:59.559634Z"
    },
    "papermill": {
     "duration": 0.049254,
     "end_time": "2022-02-21T00:30:59.560498",
     "exception": false,
     "start_time": "2022-02-21T00:30:59.511244",
     "status": "completed"
    },
    "tags": []
   },
   "outputs": [],
   "source": [
    "#hide\n",
    "def get_mappings(url):\n",
    "    df = pd.read_csv(url)\n",
    "    return {\n",
    "        'df': df,\n",
    "        'replace.country': dict(df.dropna(subset=['Name']).set_index('Country')['Name']),\n",
    "        'map.continent': dict(df.set_index('Name')['Continent'])\n",
    "    }"
   ]
  },
  {
   "cell_type": "code",
   "execution_count": 5,
   "id": "intimate-machinery",
   "metadata": {
    "execution": {
     "iopub.execute_input": "2022-02-21T00:30:59.647613Z",
     "iopub.status.busy": "2022-02-21T00:30:59.646977Z",
     "iopub.status.idle": "2022-02-21T00:30:59.678232Z",
     "shell.execute_reply": "2022-02-21T00:30:59.679014Z"
    },
    "papermill": {
     "duration": 0.077561,
     "end_time": "2022-02-21T00:30:59.679179",
     "exception": false,
     "start_time": "2022-02-21T00:30:59.601618",
     "status": "completed"
    },
    "tags": []
   },
   "outputs": [],
   "source": [
    "#hide\n",
    "mapping = get_mappings(paths['mapping'])"
   ]
  },
  {
   "cell_type": "code",
   "execution_count": 6,
   "id": "certified-tactics",
   "metadata": {
    "execution": {
     "iopub.execute_input": "2022-02-21T00:30:59.762515Z",
     "iopub.status.busy": "2022-02-21T00:30:59.761735Z",
     "iopub.status.idle": "2022-02-21T00:30:59.764407Z",
     "shell.execute_reply": "2022-02-21T00:30:59.763809Z"
    },
    "papermill": {
     "duration": 0.046923,
     "end_time": "2022-02-21T00:30:59.764578",
     "exception": false,
     "start_time": "2022-02-21T00:30:59.717655",
     "status": "completed"
    },
    "tags": []
   },
   "outputs": [],
   "source": [
    "#hide\n",
    "def get_template(path):\n",
    "    from urllib.parse import urlparse\n",
    "    if bool(urlparse(path).netloc):\n",
    "        from urllib.request import urlopen\n",
    "        return urlopen(path).read().decode('utf8')\n",
    "    return open(path).read()"
   ]
  },
  {
   "cell_type": "code",
   "execution_count": 7,
   "id": "realistic-blast",
   "metadata": {
    "execution": {
     "iopub.execute_input": "2022-02-21T00:30:59.851034Z",
     "iopub.status.busy": "2022-02-21T00:30:59.850322Z",
     "iopub.status.idle": "2022-02-21T00:30:59.853319Z",
     "shell.execute_reply": "2022-02-21T00:30:59.852413Z"
    },
    "papermill": {
     "duration": 0.048761,
     "end_time": "2022-02-21T00:30:59.853487",
     "exception": false,
     "start_time": "2022-02-21T00:30:59.804726",
     "status": "completed"
    },
    "tags": []
   },
   "outputs": [],
   "source": [
    "#hide\n",
    "def get_frame(name):\n",
    "    url = (\n",
    "        'https://raw.githubusercontent.com/CSSEGISandData/COVID-19/master/csse_covid_19_data/'\n",
    "        f'csse_covid_19_time_series/time_series_covid19_{name}_global.csv')\n",
    "    df = pd.read_csv(url)\n",
    "    # rename countries\n",
    "    df['Country/Region'] = df['Country/Region'].replace(mapping['replace.country'])\n",
    "    return df"
   ]
  },
  {
   "cell_type": "code",
   "execution_count": 8,
   "id": "affiliated-characterization",
   "metadata": {
    "execution": {
     "iopub.execute_input": "2022-02-21T00:30:59.943224Z",
     "iopub.status.busy": "2022-02-21T00:30:59.942545Z",
     "iopub.status.idle": "2022-02-21T00:30:59.944320Z",
     "shell.execute_reply": "2022-02-21T00:30:59.944920Z"
    },
    "papermill": {
     "duration": 0.05117,
     "end_time": "2022-02-21T00:30:59.945121",
     "exception": false,
     "start_time": "2022-02-21T00:30:59.893951",
     "status": "completed"
    },
    "tags": []
   },
   "outputs": [],
   "source": [
    "#hide\n",
    "def get_dates(df):\n",
    "    dt_cols = df.columns[~df.columns.isin(['Province/State', 'Country/Region', 'Lat', 'Long'])]\n",
    "    LAST_DATE_I = -1\n",
    "    # sometimes last column may be empty, then go backwards\n",
    "    for i in range(-1, -len(dt_cols), -1):\n",
    "        if not df[dt_cols[i]].fillna(0).eq(0).all():\n",
    "            LAST_DATE_I = i\n",
    "            break\n",
    "    return LAST_DATE_I, dt_cols"
   ]
  },
  {
   "cell_type": "code",
   "execution_count": 9,
   "id": "recent-optimization",
   "metadata": {
    "execution": {
     "iopub.execute_input": "2022-02-21T00:31:00.034028Z",
     "iopub.status.busy": "2022-02-21T00:31:00.033193Z",
     "iopub.status.idle": "2022-02-21T00:31:00.474190Z",
     "shell.execute_reply": "2022-02-21T00:31:00.472927Z"
    },
    "papermill": {
     "duration": 0.489206,
     "end_time": "2022-02-21T00:31:00.474359",
     "exception": false,
     "start_time": "2022-02-21T00:30:59.985153",
     "status": "completed"
    },
    "tags": []
   },
   "outputs": [],
   "source": [
    "#hide\n",
    "COL_REGION = 'Country/Region'\n",
    "# Confirmed, Recovered, Deaths\n",
    "df = get_frame('confirmed')\n",
    "# dft_: timeseries, dfc_: today country agg\n",
    "dft_cases = df\n",
    "dft_deaths = get_frame('deaths')\n",
    "dft_recovered = get_frame('recovered')\n",
    "LAST_DATE_I, dt_cols = get_dates(df)"
   ]
  },
  {
   "cell_type": "code",
   "execution_count": 10,
   "id": "absolute-copper",
   "metadata": {
    "execution": {
     "iopub.execute_input": "2022-02-21T00:31:00.563884Z",
     "iopub.status.busy": "2022-02-21T00:31:00.562411Z",
     "iopub.status.idle": "2022-02-21T00:31:00.564589Z",
     "shell.execute_reply": "2022-02-21T00:31:00.565116Z"
    },
    "papermill": {
     "duration": 0.049083,
     "end_time": "2022-02-21T00:31:00.565266",
     "exception": false,
     "start_time": "2022-02-21T00:31:00.516183",
     "status": "completed"
    },
    "tags": []
   },
   "outputs": [],
   "source": [
    "#hide\n",
    "LAST_DATE_I, dt_cols = get_dates(df)\n",
    "dt_today =dt_cols[LAST_DATE_I]\n",
    "# dt_5day = dt_cols[LAST_DATE_I - 5]\n",
    "dt_yday = dt_cols[LAST_DATE_I - 1]"
   ]
  },
  {
   "cell_type": "code",
   "execution_count": 11,
   "id": "restricted-sheriff",
   "metadata": {
    "execution": {
     "iopub.execute_input": "2022-02-21T00:31:00.656671Z",
     "iopub.status.busy": "2022-02-21T00:31:00.654931Z",
     "iopub.status.idle": "2022-02-21T00:31:00.658934Z",
     "shell.execute_reply": "2022-02-21T00:31:00.659410Z"
    },
    "papermill": {
     "duration": 0.056346,
     "end_time": "2022-02-21T00:31:00.659562",
     "exception": false,
     "start_time": "2022-02-21T00:31:00.603216",
     "status": "completed"
    },
    "tags": []
   },
   "outputs": [],
   "source": [
    "#hide\n",
    "dfc_cases = dft_cases.groupby(COL_REGION)[dt_today].sum()\n",
    "dfc_deaths = dft_deaths.groupby(COL_REGION)[dt_today].sum()\n",
    "# dfp_cases = dft_cases.groupby(COL_REGION)[dt_5day].sum()\n",
    "# dfp_deaths = dft_deaths.groupby(COL_REGION)[dt_5day].sum()\n",
    "dfp_cases = dft_cases.groupby(COL_REGION)[dt_yday].sum()\n",
    "dfp_deaths = dft_deaths.groupby(COL_REGION)[dt_yday].sum()"
   ]
  },
  {
   "cell_type": "code",
   "execution_count": 12,
   "id": "deluxe-hepatitis",
   "metadata": {
    "execution": {
     "iopub.execute_input": "2022-02-21T00:31:00.745831Z",
     "iopub.status.busy": "2022-02-21T00:31:00.745181Z",
     "iopub.status.idle": "2022-02-21T00:31:00.750559Z",
     "shell.execute_reply": "2022-02-21T00:31:00.750048Z"
    },
    "papermill": {
     "duration": 0.051389,
     "end_time": "2022-02-21T00:31:00.750687",
     "exception": false,
     "start_time": "2022-02-21T00:31:00.699298",
     "status": "completed"
    },
    "tags": []
   },
   "outputs": [],
   "source": [
    "#hide\n",
    "df_table = (pd.DataFrame(dict(Cases = dfc_cases, Deaths = dfc_deaths, PCases = dfp_cases, PDeaths = dfp_deaths))\n",
    "            .sort_values(by = ['Cases','Deaths'], ascending = [False, False])\n",
    "            .reset_index())"
   ]
  },
  {
   "cell_type": "code",
   "execution_count": 13,
   "id": "educational-chancellor",
   "metadata": {
    "execution": {
     "iopub.execute_input": "2022-02-21T00:31:00.856513Z",
     "iopub.status.busy": "2022-02-21T00:31:00.855737Z",
     "iopub.status.idle": "2022-02-21T00:31:00.858794Z",
     "shell.execute_reply": "2022-02-21T00:31:00.859336Z"
    },
    "papermill": {
     "duration": 0.071106,
     "end_time": "2022-02-21T00:31:00.859527",
     "exception": false,
     "start_time": "2022-02-21T00:31:00.788421",
     "status": "completed"
    },
    "tags": []
   },
   "outputs": [
    {
     "data": {
      "text/html": [
       "<div>\n",
       "<style scoped>\n",
       "    .dataframe tbody tr th:only-of-type {\n",
       "        vertical-align: middle;\n",
       "    }\n",
       "\n",
       "    .dataframe tbody tr th {\n",
       "        vertical-align: top;\n",
       "    }\n",
       "\n",
       "    .dataframe thead th {\n",
       "        text-align: right;\n",
       "    }\n",
       "</style>\n",
       "<table border=\"1\" class=\"dataframe\">\n",
       "  <thead>\n",
       "    <tr style=\"text-align: right;\">\n",
       "      <th></th>\n",
       "      <th>Country/Region</th>\n",
       "      <th>Cases</th>\n",
       "      <th>Deaths</th>\n",
       "      <th>PCases</th>\n",
       "      <th>PDeaths</th>\n",
       "      <th>Cases (+)</th>\n",
       "      <th>Deaths (+)</th>\n",
       "      <th>Fatality Rate</th>\n",
       "      <th>Continent</th>\n",
       "    </tr>\n",
       "  </thead>\n",
       "  <tbody>\n",
       "    <tr>\n",
       "      <th>0</th>\n",
       "      <td>US</td>\n",
       "      <td>78457081</td>\n",
       "      <td>934951</td>\n",
       "      <td>78423525</td>\n",
       "      <td>934321</td>\n",
       "      <td>33556</td>\n",
       "      <td>630</td>\n",
       "      <td>1.19</td>\n",
       "      <td>North America</td>\n",
       "    </tr>\n",
       "    <tr>\n",
       "      <th>1</th>\n",
       "      <td>India</td>\n",
       "      <td>42822473</td>\n",
       "      <td>511903</td>\n",
       "      <td>42802505</td>\n",
       "      <td>511230</td>\n",
       "      <td>19968</td>\n",
       "      <td>673</td>\n",
       "      <td>1.20</td>\n",
       "      <td>Asia</td>\n",
       "    </tr>\n",
       "    <tr>\n",
       "      <th>2</th>\n",
       "      <td>Brazil</td>\n",
       "      <td>28177367</td>\n",
       "      <td>644195</td>\n",
       "      <td>28072238</td>\n",
       "      <td>643340</td>\n",
       "      <td>105129</td>\n",
       "      <td>855</td>\n",
       "      <td>2.29</td>\n",
       "      <td>South America</td>\n",
       "    </tr>\n",
       "    <tr>\n",
       "      <th>3</th>\n",
       "      <td>France</td>\n",
       "      <td>22386566</td>\n",
       "      <td>137595</td>\n",
       "      <td>22310014</td>\n",
       "      <td>137448</td>\n",
       "      <td>76552</td>\n",
       "      <td>147</td>\n",
       "      <td>0.61</td>\n",
       "      <td>Europe</td>\n",
       "    </tr>\n",
       "    <tr>\n",
       "      <th>4</th>\n",
       "      <td>United Kingdom</td>\n",
       "      <td>18710375</td>\n",
       "      <td>161074</td>\n",
       "      <td>18676361</td>\n",
       "      <td>160946</td>\n",
       "      <td>34014</td>\n",
       "      <td>128</td>\n",
       "      <td>0.86</td>\n",
       "      <td>Europe</td>\n",
       "    </tr>\n",
       "  </tbody>\n",
       "</table>\n",
       "</div>"
      ],
      "text/plain": [
       "   Country/Region     Cases  Deaths    PCases  PDeaths  Cases (+)  Deaths (+)  \\\n",
       "0              US  78457081  934951  78423525   934321      33556         630   \n",
       "1           India  42822473  511903  42802505   511230      19968         673   \n",
       "2          Brazil  28177367  644195  28072238   643340     105129         855   \n",
       "3          France  22386566  137595  22310014   137448      76552         147   \n",
       "4  United Kingdom  18710375  161074  18676361   160946      34014         128   \n",
       "\n",
       "   Fatality Rate      Continent  \n",
       "0           1.19  North America  \n",
       "1           1.20           Asia  \n",
       "2           2.29  South America  \n",
       "3           0.61         Europe  \n",
       "4           0.86         Europe  "
      ]
     },
     "execution_count": 13,
     "metadata": {},
     "output_type": "execute_result"
    }
   ],
   "source": [
    "#hide\n",
    "for c in 'Cases, Deaths'.split(', '):\n",
    "    df_table[f'{c} (+)'] = (df_table[c] - df_table[f'P{c}']).clip(0)\n",
    "    #Clip ça veut dire, les chiffres negatif sont interdit\n",
    "df_table['Fatality Rate'] = (100* df_table['Deaths']/ df_table['Cases']).round(2)\n",
    "df_table['Continent'] = df_table['Country/Region'].map(mapping['map.continent'])\n",
    "df_table.head(5)"
   ]
  },
  {
   "cell_type": "code",
   "execution_count": 14,
   "id": "aboriginal-bulgaria",
   "metadata": {
    "execution": {
     "iopub.execute_input": "2022-02-21T00:31:00.951774Z",
     "iopub.status.busy": "2022-02-21T00:31:00.950871Z",
     "iopub.status.idle": "2022-02-21T00:31:00.953884Z",
     "shell.execute_reply": "2022-02-21T00:31:00.954463Z"
    },
    "papermill": {
     "duration": 0.053198,
     "end_time": "2022-02-21T00:31:00.954626",
     "exception": false,
     "start_time": "2022-02-21T00:31:00.901428",
     "status": "completed"
    },
    "tags": []
   },
   "outputs": [],
   "source": [
    "#hide\n",
    "#delete problematic countries from table\n",
    "df_table = df_table[~df_table['Country/Region'].isin(['Cape Verde', 'Cruise Ship', 'Kosovo'])]"
   ]
  },
  {
   "cell_type": "code",
   "execution_count": 15,
   "id": "fantastic-effect",
   "metadata": {
    "execution": {
     "iopub.execute_input": "2022-02-21T00:31:01.044036Z",
     "iopub.status.busy": "2022-02-21T00:31:01.043274Z",
     "iopub.status.idle": "2022-02-21T00:31:01.067598Z",
     "shell.execute_reply": "2022-02-21T00:31:01.068186Z"
    },
    "papermill": {
     "duration": 0.073335,
     "end_time": "2022-02-21T00:31:01.068343",
     "exception": false,
     "start_time": "2022-02-21T00:31:00.995008",
     "status": "completed"
    },
    "tags": []
   },
   "outputs": [
    {
     "data": {
      "text/html": [
       "<div>\n",
       "<style scoped>\n",
       "    .dataframe tbody tr th:only-of-type {\n",
       "        vertical-align: middle;\n",
       "    }\n",
       "\n",
       "    .dataframe tbody tr th {\n",
       "        vertical-align: top;\n",
       "    }\n",
       "\n",
       "    .dataframe thead th {\n",
       "        text-align: right;\n",
       "    }\n",
       "</style>\n",
       "<table border=\"1\" class=\"dataframe\">\n",
       "  <thead>\n",
       "    <tr style=\"text-align: right;\">\n",
       "      <th></th>\n",
       "      <th>Country/Region</th>\n",
       "      <th>Cases</th>\n",
       "      <th>Deaths</th>\n",
       "      <th>PCases</th>\n",
       "      <th>PDeaths</th>\n",
       "      <th>Cases (+)</th>\n",
       "      <th>Deaths (+)</th>\n",
       "      <th>Fatality Rate</th>\n",
       "      <th>Continent</th>\n",
       "    </tr>\n",
       "  </thead>\n",
       "  <tbody>\n",
       "    <tr>\n",
       "      <th>0</th>\n",
       "      <td>US</td>\n",
       "      <td>78457081</td>\n",
       "      <td>934951</td>\n",
       "      <td>78423525</td>\n",
       "      <td>934321</td>\n",
       "      <td>33556</td>\n",
       "      <td>630</td>\n",
       "      <td>1.2</td>\n",
       "      <td>North America</td>\n",
       "    </tr>\n",
       "    <tr>\n",
       "      <th>1</th>\n",
       "      <td>India</td>\n",
       "      <td>42822473</td>\n",
       "      <td>511903</td>\n",
       "      <td>42802505</td>\n",
       "      <td>511230</td>\n",
       "      <td>19968</td>\n",
       "      <td>673</td>\n",
       "      <td>1.2</td>\n",
       "      <td>Asia</td>\n",
       "    </tr>\n",
       "    <tr>\n",
       "      <th>2</th>\n",
       "      <td>Brazil</td>\n",
       "      <td>28177367</td>\n",
       "      <td>644195</td>\n",
       "      <td>28072238</td>\n",
       "      <td>643340</td>\n",
       "      <td>105129</td>\n",
       "      <td>855</td>\n",
       "      <td>2.3</td>\n",
       "      <td>South America</td>\n",
       "    </tr>\n",
       "    <tr>\n",
       "      <th>3</th>\n",
       "      <td>France</td>\n",
       "      <td>22386566</td>\n",
       "      <td>137595</td>\n",
       "      <td>22310014</td>\n",
       "      <td>137448</td>\n",
       "      <td>76552</td>\n",
       "      <td>147</td>\n",
       "      <td>0.6</td>\n",
       "      <td>Europe</td>\n",
       "    </tr>\n",
       "    <tr>\n",
       "      <th>4</th>\n",
       "      <td>United Kingdom</td>\n",
       "      <td>18710375</td>\n",
       "      <td>161074</td>\n",
       "      <td>18676361</td>\n",
       "      <td>160946</td>\n",
       "      <td>34014</td>\n",
       "      <td>128</td>\n",
       "      <td>0.9</td>\n",
       "      <td>Europe</td>\n",
       "    </tr>\n",
       "  </tbody>\n",
       "</table>\n",
       "</div>"
      ],
      "text/plain": [
       "   Country/Region     Cases  Deaths    PCases  PDeaths  Cases (+)  Deaths (+)  \\\n",
       "0              US  78457081  934951  78423525   934321      33556         630   \n",
       "1           India  42822473  511903  42802505   511230      19968         673   \n",
       "2          Brazil  28177367  644195  28072238   643340     105129         855   \n",
       "3          France  22386566  137595  22310014   137448      76552         147   \n",
       "4  United Kingdom  18710375  161074  18676361   160946      34014         128   \n",
       "\n",
       "   Fatality Rate      Continent  \n",
       "0            1.2  North America  \n",
       "1            1.2           Asia  \n",
       "2            2.3  South America  \n",
       "3            0.6         Europe  \n",
       "4            0.9         Europe  "
      ]
     },
     "execution_count": 15,
     "metadata": {},
     "output_type": "execute_result"
    }
   ],
   "source": [
    "#hide\n",
    "df_table = (pd.DataFrame(dict(Cases=dfc_cases, Deaths=dfc_deaths, PCases=dfp_cases, PDeaths=dfp_deaths))\n",
    "             .sort_values(by=['Cases', 'Deaths'], ascending=[False, False])\n",
    "             .reset_index())\n",
    "df_table.rename(columns={'index': 'Country/Region'}, inplace=True)\n",
    "for c in 'Cases, Deaths'.split(', '):\n",
    "    df_table[f'{c} (+)'] = (df_table[c] - df_table[f'P{c}']).clip(0)  # DATA BUG\n",
    "df_table['Fatality Rate'] = (100 * df_table['Deaths'] / df_table['Cases']).round(1)\n",
    "df_table['Continent'] = df_table['Country/Region'].map(mapping['map.continent'])\n",
    "df_table.head(5)"
   ]
  },
  {
   "cell_type": "code",
   "execution_count": 16,
   "id": "fewer-occasion",
   "metadata": {
    "execution": {
     "iopub.execute_input": "2022-02-21T00:31:01.160602Z",
     "iopub.status.busy": "2022-02-21T00:31:01.159592Z",
     "iopub.status.idle": "2022-02-21T00:31:01.164636Z",
     "shell.execute_reply": "2022-02-21T00:31:01.163875Z"
    },
    "papermill": {
     "duration": 0.053777,
     "end_time": "2022-02-21T00:31:01.164786",
     "exception": false,
     "start_time": "2022-02-21T00:31:01.111009",
     "status": "completed"
    },
    "tags": []
   },
   "outputs": [],
   "source": [
    "#hide\n",
    "#delete problematic countries from table\n",
    "df_table = df_table[~df_table['Country/Region'].isin(['Cape Verde', 'Cruise Ship', 'Kosovo'])]"
   ]
  },
  {
   "cell_type": "code",
   "execution_count": 17,
   "id": "related-center",
   "metadata": {
    "execution": {
     "iopub.execute_input": "2022-02-21T00:31:01.277820Z",
     "iopub.status.busy": "2022-02-21T00:31:01.277085Z",
     "iopub.status.idle": "2022-02-21T00:31:01.278732Z",
     "shell.execute_reply": "2022-02-21T00:31:01.279424Z"
    },
    "papermill": {
     "duration": 0.072475,
     "end_time": "2022-02-21T00:31:01.279586",
     "exception": false,
     "start_time": "2022-02-21T00:31:01.207111",
     "status": "completed"
    },
    "tags": []
   },
   "outputs": [],
   "source": [
    "#hide\n",
    "metrics = [df_table.columns[index] for index in [1,2,5,6]]\n",
    "# s_china = df_table[df_table['Country/Region'].eq('China')][metrics].sum().add_prefix('China ')\n",
    "s_us = df_table[df_table['Country/Region'].eq('US')][metrics].sum().add_prefix('US ')\n",
    "s_eu = df_table[df_table['Continent'].eq('Europe')][metrics].sum().add_prefix('EU ')\n",
    "s_ind = df_table[df_table['Country/Region'].eq('India')][metrics].sum().add_prefix('India ')\n",
    "summary = {'updated': pd.to_datetime(dt_today), 'since': pd.to_datetime(dt_yday)}\n",
    "summary = {'updated': pd.to_datetime(dt_today), 'since': pd.to_datetime(dt_yday)}\n",
    "summary = {**summary, **df_table[metrics].sum(), **s_ind, **s_us, **s_eu}"
   ]
  },
  {
   "cell_type": "code",
   "execution_count": 18,
   "id": "engaging-syndrome",
   "metadata": {
    "execution": {
     "iopub.execute_input": "2022-02-21T00:31:01.375946Z",
     "iopub.status.busy": "2022-02-21T00:31:01.374928Z",
     "iopub.status.idle": "2022-02-21T00:31:01.388186Z",
     "shell.execute_reply": "2022-02-21T00:31:01.388687Z"
    },
    "papermill": {
     "duration": 0.067598,
     "end_time": "2022-02-21T00:31:01.388857",
     "exception": false,
     "start_time": "2022-02-21T00:31:01.321259",
     "status": "completed"
    },
    "tags": []
   },
   "outputs": [],
   "source": [
    "#hide\n",
    "dft_ct_new_cases = dft_cases.groupby(COL_REGION)[dt_cols].sum().diff(axis=1).fillna(0).astype(int)"
   ]
  },
  {
   "cell_type": "code",
   "execution_count": 19,
   "id": "neutral-assignment",
   "metadata": {
    "execution": {
     "iopub.execute_input": "2022-02-21T00:31:01.478001Z",
     "iopub.status.busy": "2022-02-21T00:31:01.477344Z",
     "iopub.status.idle": "2022-02-21T00:31:01.479762Z",
     "shell.execute_reply": "2022-02-21T00:31:01.479083Z"
    },
    "papermill": {
     "duration": 0.050888,
     "end_time": "2022-02-21T00:31:01.479894",
     "exception": false,
     "start_time": "2022-02-21T00:31:01.429006",
     "status": "completed"
    },
    "tags": []
   },
   "outputs": [],
   "source": [
    "#hide\n",
    "everydaycases = dft_ct_new_cases.cumsum(axis=1)"
   ]
  },
  {
   "cell_type": "code",
   "execution_count": 20,
   "id": "parliamentary-calgary",
   "metadata": {
    "execution": {
     "iopub.execute_input": "2022-02-21T00:31:01.575011Z",
     "iopub.status.busy": "2022-02-21T00:31:01.574346Z",
     "iopub.status.idle": "2022-02-21T00:31:02.323463Z",
     "shell.execute_reply": "2022-02-21T00:31:02.323975Z"
    },
    "papermill": {
     "duration": 0.800999,
     "end_time": "2022-02-21T00:31:02.324165",
     "exception": false,
     "start_time": "2022-02-21T00:31:01.523166",
     "status": "completed"
    },
    "tags": []
   },
   "outputs": [],
   "source": [
    "#hide\n",
    "import pandas as pd\n",
    "import matplotlib.pyplot as plt\n",
    "import matplotlib.ticker as ticker\n",
    "import matplotlib.animation as animation\n",
    "from IPython.display import HTML"
   ]
  },
  {
   "cell_type": "code",
   "execution_count": 21,
   "id": "lasting-extraction",
   "metadata": {
    "execution": {
     "iopub.execute_input": "2022-02-21T00:31:02.417359Z",
     "iopub.status.busy": "2022-02-21T00:31:02.416664Z",
     "iopub.status.idle": "2022-02-21T00:31:02.425641Z",
     "shell.execute_reply": "2022-02-21T00:31:02.424958Z"
    },
    "papermill": {
     "duration": 0.058354,
     "end_time": "2022-02-21T00:31:02.425779",
     "exception": false,
     "start_time": "2022-02-21T00:31:02.367425",
     "status": "completed"
    },
    "tags": []
   },
   "outputs": [],
   "source": [
    "#hide\n",
    "t = everydaycases.stack()"
   ]
  },
  {
   "cell_type": "code",
   "execution_count": 22,
   "id": "premier-sleeve",
   "metadata": {
    "execution": {
     "iopub.execute_input": "2022-02-21T00:31:02.518730Z",
     "iopub.status.busy": "2022-02-21T00:31:02.518041Z",
     "iopub.status.idle": "2022-02-21T00:31:02.529870Z",
     "shell.execute_reply": "2022-02-21T00:31:02.530428Z"
    },
    "papermill": {
     "duration": 0.061435,
     "end_time": "2022-02-21T00:31:02.530607",
     "exception": false,
     "start_time": "2022-02-21T00:31:02.469172",
     "status": "completed"
    },
    "tags": []
   },
   "outputs": [],
   "source": [
    "#hide\n",
    "g = t.reset_index(['Country/Region'])"
   ]
  },
  {
   "cell_type": "code",
   "execution_count": 23,
   "id": "distributed-pittsburgh",
   "metadata": {
    "execution": {
     "iopub.execute_input": "2022-02-21T00:31:02.618829Z",
     "iopub.status.busy": "2022-02-21T00:31:02.618010Z",
     "iopub.status.idle": "2022-02-21T00:31:02.620853Z",
     "shell.execute_reply": "2022-02-21T00:31:02.620165Z"
    },
    "papermill": {
     "duration": 0.048646,
     "end_time": "2022-02-21T00:31:02.621019",
     "exception": false,
     "start_time": "2022-02-21T00:31:02.572373",
     "status": "completed"
    },
    "tags": []
   },
   "outputs": [],
   "source": [
    "#hide\n",
    "g.index.name = 'date'"
   ]
  },
  {
   "cell_type": "code",
   "execution_count": 24,
   "id": "naked-donor",
   "metadata": {
    "execution": {
     "iopub.execute_input": "2022-02-21T00:31:02.711432Z",
     "iopub.status.busy": "2022-02-21T00:31:02.710631Z",
     "iopub.status.idle": "2022-02-21T00:31:02.713490Z",
     "shell.execute_reply": "2022-02-21T00:31:02.712709Z"
    },
    "papermill": {
     "duration": 0.050504,
     "end_time": "2022-02-21T00:31:02.713616",
     "exception": false,
     "start_time": "2022-02-21T00:31:02.663112",
     "status": "completed"
    },
    "tags": []
   },
   "outputs": [],
   "source": [
    "# #hide\n",
    "# g = g.reset_index(['date'])"
   ]
  },
  {
   "cell_type": "code",
   "execution_count": 25,
   "id": "incomplete-mustang",
   "metadata": {
    "execution": {
     "iopub.execute_input": "2022-02-21T00:31:02.810367Z",
     "iopub.status.busy": "2022-02-21T00:31:02.809673Z",
     "iopub.status.idle": "2022-02-21T00:31:02.812382Z",
     "shell.execute_reply": "2022-02-21T00:31:02.811698Z"
    },
    "papermill": {
     "duration": 0.05583,
     "end_time": "2022-02-21T00:31:02.812524",
     "exception": false,
     "start_time": "2022-02-21T00:31:02.756694",
     "status": "completed"
    },
    "tags": []
   },
   "outputs": [],
   "source": [
    "#hide\n",
    "# g.head()"
   ]
  },
  {
   "cell_type": "code",
   "execution_count": 26,
   "id": "specific-kruger",
   "metadata": {
    "execution": {
     "iopub.execute_input": "2022-02-21T00:31:02.903109Z",
     "iopub.status.busy": "2022-02-21T00:31:02.902385Z",
     "iopub.status.idle": "2022-02-21T00:31:02.905616Z",
     "shell.execute_reply": "2022-02-21T00:31:02.904966Z"
    },
    "papermill": {
     "duration": 0.050019,
     "end_time": "2022-02-21T00:31:02.905766",
     "exception": false,
     "start_time": "2022-02-21T00:31:02.855747",
     "status": "completed"
    },
    "tags": []
   },
   "outputs": [],
   "source": [
    "#hide\n",
    "# g.columns = ['date','country','cases']"
   ]
  },
  {
   "cell_type": "code",
   "execution_count": 27,
   "id": "tender-conversion",
   "metadata": {
    "execution": {
     "iopub.execute_input": "2022-02-21T00:31:02.993902Z",
     "iopub.status.busy": "2022-02-21T00:31:02.993171Z",
     "iopub.status.idle": "2022-02-21T00:31:02.995987Z",
     "shell.execute_reply": "2022-02-21T00:31:02.995389Z"
    },
    "papermill": {
     "duration": 0.046942,
     "end_time": "2022-02-21T00:31:02.996165",
     "exception": false,
     "start_time": "2022-02-21T00:31:02.949223",
     "status": "completed"
    },
    "tags": []
   },
   "outputs": [],
   "source": [
    "#hide\n",
    "# g['continent'] = g.country"
   ]
  },
  {
   "cell_type": "code",
   "execution_count": 28,
   "id": "substantial-wilderness",
   "metadata": {
    "execution": {
     "iopub.execute_input": "2022-02-21T00:31:03.112905Z",
     "iopub.status.busy": "2022-02-21T00:31:03.112201Z",
     "iopub.status.idle": "2022-02-21T00:31:03.115000Z",
     "shell.execute_reply": "2022-02-21T00:31:03.114395Z"
    },
    "papermill": {
     "duration": 0.051558,
     "end_time": "2022-02-21T00:31:03.115205",
     "exception": false,
     "start_time": "2022-02-21T00:31:03.063647",
     "status": "completed"
    },
    "tags": []
   },
   "outputs": [],
   "source": [
    "#hide\n",
    "# cols = list(g.columns.values)"
   ]
  },
  {
   "cell_type": "code",
   "execution_count": 29,
   "id": "solved-farming",
   "metadata": {
    "execution": {
     "iopub.execute_input": "2022-02-21T00:31:03.206215Z",
     "iopub.status.busy": "2022-02-21T00:31:03.205512Z",
     "iopub.status.idle": "2022-02-21T00:31:03.209776Z",
     "shell.execute_reply": "2022-02-21T00:31:03.210332Z"
    },
    "papermill": {
     "duration": 0.052843,
     "end_time": "2022-02-21T00:31:03.210499",
     "exception": false,
     "start_time": "2022-02-21T00:31:03.157656",
     "status": "completed"
    },
    "tags": []
   },
   "outputs": [],
   "source": [
    "#hide\n",
    "# cols.insert(0, cols.pop())"
   ]
  },
  {
   "cell_type": "code",
   "execution_count": 30,
   "id": "executed-adoption",
   "metadata": {
    "execution": {
     "iopub.execute_input": "2022-02-21T00:31:03.317401Z",
     "iopub.status.busy": "2022-02-21T00:31:03.316677Z",
     "iopub.status.idle": "2022-02-21T00:31:03.319285Z",
     "shell.execute_reply": "2022-02-21T00:31:03.319813Z"
    },
    "papermill": {
     "duration": 0.059768,
     "end_time": "2022-02-21T00:31:03.319972",
     "exception": false,
     "start_time": "2022-02-21T00:31:03.260204",
     "status": "completed"
    },
    "tags": []
   },
   "outputs": [],
   "source": [
    "#hide\n",
    "# g = g[cols]"
   ]
  },
  {
   "cell_type": "code",
   "execution_count": 31,
   "id": "subject-dublin",
   "metadata": {
    "execution": {
     "iopub.execute_input": "2022-02-21T00:31:03.410810Z",
     "iopub.status.busy": "2022-02-21T00:31:03.410109Z",
     "iopub.status.idle": "2022-02-21T00:31:03.414920Z",
     "shell.execute_reply": "2022-02-21T00:31:03.414218Z"
    },
    "papermill": {
     "duration": 0.052377,
     "end_time": "2022-02-21T00:31:03.415092",
     "exception": false,
     "start_time": "2022-02-21T00:31:03.362715",
     "status": "completed"
    },
    "tags": []
   },
   "outputs": [],
   "source": [
    "#hide\n",
    "# g['continent'] = g['continent'].map(mapping['map.continent'])"
   ]
  },
  {
   "cell_type": "code",
   "execution_count": 32,
   "id": "freelance-scout",
   "metadata": {
    "execution": {
     "iopub.execute_input": "2022-02-21T00:31:03.505400Z",
     "iopub.status.busy": "2022-02-21T00:31:03.504482Z",
     "iopub.status.idle": "2022-02-21T00:31:03.507360Z",
     "shell.execute_reply": "2022-02-21T00:31:03.506659Z"
    },
    "papermill": {
     "duration": 0.049992,
     "end_time": "2022-02-21T00:31:03.507527",
     "exception": false,
     "start_time": "2022-02-21T00:31:03.457535",
     "status": "completed"
    },
    "tags": []
   },
   "outputs": [],
   "source": [
    "#hide\n",
    "# g.head()"
   ]
  },
  {
   "cell_type": "code",
   "execution_count": 33,
   "id": "limited-engine",
   "metadata": {
    "execution": {
     "iopub.execute_input": "2022-02-21T00:31:03.601437Z",
     "iopub.status.busy": "2022-02-21T00:31:03.600528Z",
     "iopub.status.idle": "2022-02-21T00:31:03.604790Z",
     "shell.execute_reply": "2022-02-21T00:31:03.604211Z"
    },
    "papermill": {
     "duration": 0.052325,
     "end_time": "2022-02-21T00:31:03.604935",
     "exception": false,
     "start_time": "2022-02-21T00:31:03.552610",
     "status": "completed"
    },
    "tags": []
   },
   "outputs": [],
   "source": [
    "# hide\n",
    "# g['date'] = g['date'].astype('datetime64[ns]')"
   ]
  },
  {
   "cell_type": "code",
   "execution_count": 34,
   "id": "sophisticated-supervisor",
   "metadata": {
    "execution": {
     "iopub.execute_input": "2022-02-21T00:31:03.699790Z",
     "iopub.status.busy": "2022-02-21T00:31:03.698733Z",
     "iopub.status.idle": "2022-02-21T00:31:03.700755Z",
     "shell.execute_reply": "2022-02-21T00:31:03.701372Z"
    },
    "papermill": {
     "duration": 0.051172,
     "end_time": "2022-02-21T00:31:03.701558",
     "exception": false,
     "start_time": "2022-02-21T00:31:03.650386",
     "status": "completed"
    },
    "tags": []
   },
   "outputs": [],
   "source": [
    "#hide\n",
    "# g['date'] = g.date.dt.dayofyear"
   ]
  },
  {
   "cell_type": "code",
   "execution_count": 35,
   "id": "inside-dubai",
   "metadata": {
    "execution": {
     "iopub.execute_input": "2022-02-21T00:31:03.800446Z",
     "iopub.status.busy": "2022-02-21T00:31:03.799788Z",
     "iopub.status.idle": "2022-02-21T00:31:03.802392Z",
     "shell.execute_reply": "2022-02-21T00:31:03.801650Z"
    },
    "papermill": {
     "duration": 0.048444,
     "end_time": "2022-02-21T00:31:03.802559",
     "exception": false,
     "start_time": "2022-02-21T00:31:03.754115",
     "status": "completed"
    },
    "tags": []
   },
   "outputs": [],
   "source": [
    "#hide\n",
    "# g = g.rename(columns= {'continent':'group','country':'name','cases':'value'})"
   ]
  },
  {
   "cell_type": "code",
   "execution_count": 36,
   "id": "fleet-motorcycle",
   "metadata": {
    "execution": {
     "iopub.execute_input": "2022-02-21T00:31:03.888273Z",
     "iopub.status.busy": "2022-02-21T00:31:03.887332Z",
     "iopub.status.idle": "2022-02-21T00:31:03.891014Z",
     "shell.execute_reply": "2022-02-21T00:31:03.891647Z"
    },
    "papermill": {
     "duration": 0.049296,
     "end_time": "2022-02-21T00:31:03.891862",
     "exception": false,
     "start_time": "2022-02-21T00:31:03.842566",
     "status": "completed"
    },
    "tags": []
   },
   "outputs": [],
   "source": [
    "#hide\n",
    "# cols = ['name','group','day','value']"
   ]
  },
  {
   "cell_type": "code",
   "execution_count": 37,
   "id": "continued-sleeping",
   "metadata": {
    "execution": {
     "iopub.execute_input": "2022-02-21T00:31:03.983871Z",
     "iopub.status.busy": "2022-02-21T00:31:03.983180Z",
     "iopub.status.idle": "2022-02-21T00:31:03.988187Z",
     "shell.execute_reply": "2022-02-21T00:31:03.987549Z"
    },
    "papermill": {
     "duration": 0.05217,
     "end_time": "2022-02-21T00:31:03.988343",
     "exception": false,
     "start_time": "2022-02-21T00:31:03.936173",
     "status": "completed"
    },
    "tags": []
   },
   "outputs": [],
   "source": [
    "#hide\n",
    "# g.rename(columns= {'date':'day'},inplace = True)"
   ]
  },
  {
   "cell_type": "code",
   "execution_count": 38,
   "id": "major-fight",
   "metadata": {
    "execution": {
     "iopub.execute_input": "2022-02-21T00:31:04.076817Z",
     "iopub.status.busy": "2022-02-21T00:31:04.076155Z",
     "iopub.status.idle": "2022-02-21T00:31:04.078938Z",
     "shell.execute_reply": "2022-02-21T00:31:04.078423Z"
    },
    "papermill": {
     "duration": 0.048057,
     "end_time": "2022-02-21T00:31:04.079084",
     "exception": false,
     "start_time": "2022-02-21T00:31:04.031027",
     "status": "completed"
    },
    "tags": []
   },
   "outputs": [],
   "source": [
    "#hide\n",
    "# g = g[cols]"
   ]
  },
  {
   "cell_type": "code",
   "execution_count": 39,
   "id": "structured-mobile",
   "metadata": {
    "execution": {
     "iopub.execute_input": "2022-02-21T00:31:04.168681Z",
     "iopub.status.busy": "2022-02-21T00:31:04.167810Z",
     "iopub.status.idle": "2022-02-21T00:31:04.170780Z",
     "shell.execute_reply": "2022-02-21T00:31:04.170250Z"
    },
    "papermill": {
     "duration": 0.050517,
     "end_time": "2022-02-21T00:31:04.170910",
     "exception": false,
     "start_time": "2022-02-21T00:31:04.120393",
     "status": "completed"
    },
    "tags": []
   },
   "outputs": [],
   "source": [
    "# #hide\n",
    "# g = g[g.group.notna()]"
   ]
  },
  {
   "cell_type": "code",
   "execution_count": 40,
   "id": "determined-closing",
   "metadata": {
    "execution": {
     "iopub.execute_input": "2022-02-21T00:31:04.259861Z",
     "iopub.status.busy": "2022-02-21T00:31:04.259012Z",
     "iopub.status.idle": "2022-02-21T00:31:04.261872Z",
     "shell.execute_reply": "2022-02-21T00:31:04.261278Z"
    },
    "papermill": {
     "duration": 0.048852,
     "end_time": "2022-02-21T00:31:04.262006",
     "exception": false,
     "start_time": "2022-02-21T00:31:04.213154",
     "status": "completed"
    },
    "tags": []
   },
   "outputs": [],
   "source": [
    "# #hide\n",
    "# colors = dict(zip(\n",
    "#     [\"Oceania\", \"Europe\", \"Asia\", \"South America\", \"Middle East\", \"North America\", \"Africa\"],\n",
    "#     [\"#adb0ff\", \"#ffb3ff\", \"#90d595\", \"#e48381\", \"#aafbff\", \"#f7bb5f\", \"#eafb50\"]\n",
    "# ))\n",
    "# group_lk = g.set_index('name')['group'].to_dict()"
   ]
  },
  {
   "cell_type": "code",
   "execution_count": null,
   "id": "gross-drinking",
   "metadata": {
    "papermill": {
     "duration": 0.041041,
     "end_time": "2022-02-21T00:31:04.344256",
     "exception": false,
     "start_time": "2022-02-21T00:31:04.303215",
     "status": "completed"
    },
    "tags": []
   },
   "outputs": [],
   "source": []
  },
  {
   "cell_type": "code",
   "execution_count": 41,
   "id": "subject-macintosh",
   "metadata": {
    "execution": {
     "iopub.execute_input": "2022-02-21T00:31:04.431296Z",
     "iopub.status.busy": "2022-02-21T00:31:04.430566Z",
     "iopub.status.idle": "2022-02-21T00:31:04.432879Z",
     "shell.execute_reply": "2022-02-21T00:31:04.433567Z"
    },
    "papermill": {
     "duration": 0.047253,
     "end_time": "2022-02-21T00:31:04.433745",
     "exception": false,
     "start_time": "2022-02-21T00:31:04.386492",
     "status": "completed"
    },
    "tags": []
   },
   "outputs": [],
   "source": [
    "# #hide\n",
    "# fig, ax = plt.subplots(figsize=(15, 8))\n",
    "\n",
    "# def draw_barchart(current_day):\n",
    "#     dff = g[g['day'].eq(current_day)].sort_values(by='value', ascending=True).tail(10)\n",
    "#     ax.clear()\n",
    "#     ax.barh(dff['name'], dff['value'], color=[colors[group_lk[x]] for x in dff['name']])\n",
    "#     dx = dff['value'].max() / 200\n",
    "    \n",
    "#     for i, (value, name) in enumerate(zip(dff['value'], dff['name'])):\n",
    "#         ax.text(value-dx, i,     name,           size=14, weight=600, ha='right', va='bottom')\n",
    "#         ax.text(value-dx, i-.25, group_lk[name], size=10, color='#444444', ha='right', va='baseline')\n",
    "#         ax.text(value+dx, i,     f'{value:,.0f}',  size=14, ha='left',  va='center')\n",
    "#     ax.text(1, 0.4, current_day, transform=ax.transAxes, color='#777777', size=46, ha='right', weight=800)\n",
    "#     ax.text(0, 1.06, 'Population (thousands)', transform=ax.transAxes, size=12, color='#777777')\n",
    "#     ax.xaxis.set_major_formatter(ticker.StrMethodFormatter('{x:,.0f}'))\n",
    "#     ax.xaxis.set_ticks_position('top')\n",
    "#     ax.tick_params(axis='x', colors='#777777', labelsize=12)\n",
    "#     ax.set_yticks([])\n",
    "#     ax.margins(0, 0.01)\n",
    "#     ax.grid(which='major', axis='x', linestyle='-')\n",
    "#     ax.set_axisbelow(True)\n",
    "    \n",
    "#     ax.text(0, 1.15, 'Coronavirus',\n",
    "#             transform=ax.transAxes, size=24, weight=600, ha='left', va='top')\n",
    "# #     ax.text(1, 0, 'by @pratapvardhan; credit @jburnmurdoch', transform=ax.transAxes, color='#777777', ha='right',\n",
    "# #             bbox=dict(facecolor='white', alpha=0.8, edgecolor='white'))\n",
    "#     plt.box(False)"
   ]
  },
  {
   "cell_type": "code",
   "execution_count": 42,
   "id": "sexual-wages",
   "metadata": {
    "execution": {
     "iopub.execute_input": "2022-02-21T00:31:04.525302Z",
     "iopub.status.busy": "2022-02-21T00:31:04.524536Z",
     "iopub.status.idle": "2022-02-21T00:31:04.527209Z",
     "shell.execute_reply": "2022-02-21T00:31:04.526626Z"
    },
    "papermill": {
     "duration": 0.051344,
     "end_time": "2022-02-21T00:31:04.527403",
     "exception": false,
     "start_time": "2022-02-21T00:31:04.476059",
     "status": "completed"
    },
    "tags": []
   },
   "outputs": [],
   "source": [
    "# #hide_input\n",
    "# fig, ax = plt.subplots(figsize=(15, 8))\n",
    "# animator = animation.FuncAnimation(fig, draw_barchart, frames=range(g.day.values.min(), g.day.values.max()))\n",
    "# HTML(animator.to_jshtml())\n",
    "# # or use animator.to_html5_video() or animator.save() "
   ]
  },
  {
   "cell_type": "code",
   "execution_count": null,
   "id": "australian-container",
   "metadata": {
    "papermill": {
     "duration": 0.047734,
     "end_time": "2022-02-21T00:31:04.617740",
     "exception": false,
     "start_time": "2022-02-21T00:31:04.570006",
     "status": "completed"
    },
    "tags": []
   },
   "outputs": [],
   "source": []
  },
  {
   "cell_type": "code",
   "execution_count": null,
   "id": "mediterranean-pontiac",
   "metadata": {
    "papermill": {
     "duration": 0.044898,
     "end_time": "2022-02-21T00:31:04.707988",
     "exception": false,
     "start_time": "2022-02-21T00:31:04.663090",
     "status": "completed"
    },
    "tags": []
   },
   "outputs": [],
   "source": []
  },
  {
   "cell_type": "code",
   "execution_count": null,
   "id": "aging-legislature",
   "metadata": {
    "papermill": {
     "duration": 0.042653,
     "end_time": "2022-02-21T00:31:04.795473",
     "exception": false,
     "start_time": "2022-02-21T00:31:04.752820",
     "status": "completed"
    },
    "tags": []
   },
   "outputs": [],
   "source": []
  }
 ],
 "metadata": {
  "kernelspec": {
   "display_name": "Python 3",
   "language": "python",
   "name": "python3"
  },
  "language_info": {
   "codemirror_mode": {
    "name": "ipython",
    "version": 3
   },
   "file_extension": ".py",
   "mimetype": "text/x-python",
   "name": "python",
   "nbconvert_exporter": "python",
   "pygments_lexer": "ipython3",
   "version": "3.6.15"
  },
  "papermill": {
   "duration": 7.967615,
   "end_time": "2022-02-21T00:31:05.258517",
   "environment_variables": {},
   "exception": null,
   "input_path": "2020-03-21-covid19exp.ipynb",
   "output_path": "2020-03-21-covid19exp.ipynb",
   "parameters": {},
   "start_time": "2022-02-21T00:30:57.290902",
   "version": "2.0.0"
  }
 },
 "nbformat": 4,
 "nbformat_minor": 5
}