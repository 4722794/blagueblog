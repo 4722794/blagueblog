{
 "cells": [
  {
   "cell_type": "markdown",
   "id": "muslim-click",
   "metadata": {
    "papermill": {
     "duration": 0.034004,
     "end_time": "2022-02-26T00:30:18.382901",
     "exception": false,
     "start_time": "2022-02-26T00:30:18.348897",
     "status": "completed"
    },
    "tags": []
   },
   "source": [
    "# COVID-19 Case Race\n",
    "> A race chart to see rising cases around the world\n",
    "\n",
    "- author: Hargun Oberoi\n",
    "- image: images/covid-overview.png\n",
    "- hide: false\n",
    "- badges: false"
   ]
  },
  {
   "cell_type": "code",
   "execution_count": 1,
   "id": "proof-material",
   "metadata": {
    "execution": {
     "iopub.execute_input": "2022-02-26T00:30:18.453812Z",
     "iopub.status.busy": "2022-02-26T00:30:18.453273Z",
     "iopub.status.idle": "2022-02-26T00:30:18.782649Z",
     "shell.execute_reply": "2022-02-26T00:30:18.782134Z"
    },
    "papermill": {
     "duration": 0.368376,
     "end_time": "2022-02-26T00:30:18.782800",
     "exception": false,
     "start_time": "2022-02-26T00:30:18.414424",
     "status": "completed"
    },
    "tags": []
   },
   "outputs": [],
   "source": [
    "#hide\n",
    "import numpy as np\n",
    "import pandas as pd\n",
    "from jinja2 import Template\n",
    "from IPython.display import HTML"
   ]
  },
  {
   "cell_type": "code",
   "execution_count": 2,
   "id": "developed-terminology",
   "metadata": {
    "execution": {
     "iopub.execute_input": "2022-02-26T00:30:18.847086Z",
     "iopub.status.busy": "2022-02-26T00:30:18.846551Z",
     "iopub.status.idle": "2022-02-26T00:30:18.848527Z",
     "shell.execute_reply": "2022-02-26T00:30:18.849022Z"
    },
    "papermill": {
     "duration": 0.036731,
     "end_time": "2022-02-26T00:30:18.849151",
     "exception": false,
     "start_time": "2022-02-26T00:30:18.812420",
     "status": "completed"
    },
    "tags": []
   },
   "outputs": [],
   "source": [
    "#hide\n",
    "\n",
    "# FETCH\n",
    "base_url = 'https://raw.githubusercontent.com/pratapvardhan/notebooks/master/covid19/'\n",
    "paths = {\n",
    "    'mapping': base_url + 'mapping_countries.csv',\n",
    "    'overview': base_url + 'overview.tpl'\n",
    "}"
   ]
  },
  {
   "cell_type": "code",
   "execution_count": 3,
   "id": "dynamic-saver",
   "metadata": {
    "execution": {
     "iopub.execute_input": "2022-02-26T00:30:18.917885Z",
     "iopub.status.busy": "2022-02-26T00:30:18.917369Z",
     "iopub.status.idle": "2022-02-26T00:30:18.920438Z",
     "shell.execute_reply": "2022-02-26T00:30:18.920013Z"
    },
    "papermill": {
     "duration": 0.042017,
     "end_time": "2022-02-26T00:30:18.920556",
     "exception": false,
     "start_time": "2022-02-26T00:30:18.878539",
     "status": "completed"
    },
    "tags": []
   },
   "outputs": [
    {
     "data": {
      "text/plain": [
       "'https://raw.githubusercontent.com/pratapvardhan/notebooks/master/covid19/mapping_countries.csv'"
      ]
     },
     "execution_count": 3,
     "metadata": {},
     "output_type": "execute_result"
    }
   ],
   "source": [
    "#hide\n",
    "paths['mapping']"
   ]
  },
  {
   "cell_type": "code",
   "execution_count": 4,
   "id": "urban-software",
   "metadata": {
    "execution": {
     "iopub.execute_input": "2022-02-26T00:30:18.985649Z",
     "iopub.status.busy": "2022-02-26T00:30:18.985089Z",
     "iopub.status.idle": "2022-02-26T00:30:18.987208Z",
     "shell.execute_reply": "2022-02-26T00:30:18.986784Z"
    },
    "papermill": {
     "duration": 0.036895,
     "end_time": "2022-02-26T00:30:18.987322",
     "exception": false,
     "start_time": "2022-02-26T00:30:18.950427",
     "status": "completed"
    },
    "tags": []
   },
   "outputs": [],
   "source": [
    "#hide\n",
    "def get_mappings(url):\n",
    "    df = pd.read_csv(url)\n",
    "    return {\n",
    "        'df': df,\n",
    "        'replace.country': dict(df.dropna(subset=['Name']).set_index('Country')['Name']),\n",
    "        'map.continent': dict(df.set_index('Name')['Continent'])\n",
    "    }"
   ]
  },
  {
   "cell_type": "code",
   "execution_count": 5,
   "id": "intimate-machinery",
   "metadata": {
    "execution": {
     "iopub.execute_input": "2022-02-26T00:30:19.051965Z",
     "iopub.status.busy": "2022-02-26T00:30:19.051447Z",
     "iopub.status.idle": "2022-02-26T00:30:19.114073Z",
     "shell.execute_reply": "2022-02-26T00:30:19.114583Z"
    },
    "papermill": {
     "duration": 0.097826,
     "end_time": "2022-02-26T00:30:19.114756",
     "exception": false,
     "start_time": "2022-02-26T00:30:19.016930",
     "status": "completed"
    },
    "tags": []
   },
   "outputs": [],
   "source": [
    "#hide\n",
    "mapping = get_mappings(paths['mapping'])"
   ]
  },
  {
   "cell_type": "code",
   "execution_count": 6,
   "id": "certified-tactics",
   "metadata": {
    "execution": {
     "iopub.execute_input": "2022-02-26T00:30:19.180653Z",
     "iopub.status.busy": "2022-02-26T00:30:19.180130Z",
     "iopub.status.idle": "2022-02-26T00:30:19.181868Z",
     "shell.execute_reply": "2022-02-26T00:30:19.182307Z"
    },
    "papermill": {
     "duration": 0.037345,
     "end_time": "2022-02-26T00:30:19.182435",
     "exception": false,
     "start_time": "2022-02-26T00:30:19.145090",
     "status": "completed"
    },
    "tags": []
   },
   "outputs": [],
   "source": [
    "#hide\n",
    "def get_template(path):\n",
    "    from urllib.parse import urlparse\n",
    "    if bool(urlparse(path).netloc):\n",
    "        from urllib.request import urlopen\n",
    "        return urlopen(path).read().decode('utf8')\n",
    "    return open(path).read()"
   ]
  },
  {
   "cell_type": "code",
   "execution_count": 7,
   "id": "realistic-blast",
   "metadata": {
    "execution": {
     "iopub.execute_input": "2022-02-26T00:30:19.247511Z",
     "iopub.status.busy": "2022-02-26T00:30:19.246884Z",
     "iopub.status.idle": "2022-02-26T00:30:19.250252Z",
     "shell.execute_reply": "2022-02-26T00:30:19.250666Z"
    },
    "papermill": {
     "duration": 0.038564,
     "end_time": "2022-02-26T00:30:19.250799",
     "exception": false,
     "start_time": "2022-02-26T00:30:19.212235",
     "status": "completed"
    },
    "tags": []
   },
   "outputs": [],
   "source": [
    "#hide\n",
    "def get_frame(name):\n",
    "    url = (\n",
    "        'https://raw.githubusercontent.com/CSSEGISandData/COVID-19/master/csse_covid_19_data/'\n",
    "        f'csse_covid_19_time_series/time_series_covid19_{name}_global.csv')\n",
    "    df = pd.read_csv(url)\n",
    "    # rename countries\n",
    "    df['Country/Region'] = df['Country/Region'].replace(mapping['replace.country'])\n",
    "    return df"
   ]
  },
  {
   "cell_type": "code",
   "execution_count": 8,
   "id": "affiliated-characterization",
   "metadata": {
    "execution": {
     "iopub.execute_input": "2022-02-26T00:30:19.317316Z",
     "iopub.status.busy": "2022-02-26T00:30:19.316687Z",
     "iopub.status.idle": "2022-02-26T00:30:19.318220Z",
     "shell.execute_reply": "2022-02-26T00:30:19.318715Z"
    },
    "papermill": {
     "duration": 0.038028,
     "end_time": "2022-02-26T00:30:19.318861",
     "exception": false,
     "start_time": "2022-02-26T00:30:19.280833",
     "status": "completed"
    },
    "tags": []
   },
   "outputs": [],
   "source": [
    "#hide\n",
    "def get_dates(df):\n",
    "    dt_cols = df.columns[~df.columns.isin(['Province/State', 'Country/Region', 'Lat', 'Long'])]\n",
    "    LAST_DATE_I = -1\n",
    "    # sometimes last column may be empty, then go backwards\n",
    "    for i in range(-1, -len(dt_cols), -1):\n",
    "        if not df[dt_cols[i]].fillna(0).eq(0).all():\n",
    "            LAST_DATE_I = i\n",
    "            break\n",
    "    return LAST_DATE_I, dt_cols"
   ]
  },
  {
   "cell_type": "code",
   "execution_count": 9,
   "id": "recent-optimization",
   "metadata": {
    "execution": {
     "iopub.execute_input": "2022-02-26T00:30:19.384104Z",
     "iopub.status.busy": "2022-02-26T00:30:19.383557Z",
     "iopub.status.idle": "2022-02-26T00:30:19.982307Z",
     "shell.execute_reply": "2022-02-26T00:30:19.981781Z"
    },
    "papermill": {
     "duration": 0.633642,
     "end_time": "2022-02-26T00:30:19.982451",
     "exception": false,
     "start_time": "2022-02-26T00:30:19.348809",
     "status": "completed"
    },
    "tags": []
   },
   "outputs": [],
   "source": [
    "#hide\n",
    "COL_REGION = 'Country/Region'\n",
    "# Confirmed, Recovered, Deaths\n",
    "df = get_frame('confirmed')\n",
    "# dft_: timeseries, dfc_: today country agg\n",
    "dft_cases = df\n",
    "dft_deaths = get_frame('deaths')\n",
    "dft_recovered = get_frame('recovered')\n",
    "LAST_DATE_I, dt_cols = get_dates(df)"
   ]
  },
  {
   "cell_type": "code",
   "execution_count": 10,
   "id": "absolute-copper",
   "metadata": {
    "execution": {
     "iopub.execute_input": "2022-02-26T00:30:20.050066Z",
     "iopub.status.busy": "2022-02-26T00:30:20.049458Z",
     "iopub.status.idle": "2022-02-26T00:30:20.050936Z",
     "shell.execute_reply": "2022-02-26T00:30:20.051323Z"
    },
    "papermill": {
     "duration": 0.037762,
     "end_time": "2022-02-26T00:30:20.051466",
     "exception": false,
     "start_time": "2022-02-26T00:30:20.013704",
     "status": "completed"
    },
    "tags": []
   },
   "outputs": [],
   "source": [
    "#hide\n",
    "LAST_DATE_I, dt_cols = get_dates(df)\n",
    "dt_today =dt_cols[LAST_DATE_I]\n",
    "# dt_5day = dt_cols[LAST_DATE_I - 5]\n",
    "dt_yday = dt_cols[LAST_DATE_I - 1]"
   ]
  },
  {
   "cell_type": "code",
   "execution_count": 11,
   "id": "restricted-sheriff",
   "metadata": {
    "execution": {
     "iopub.execute_input": "2022-02-26T00:30:20.120220Z",
     "iopub.status.busy": "2022-02-26T00:30:20.119667Z",
     "iopub.status.idle": "2022-02-26T00:30:20.125055Z",
     "shell.execute_reply": "2022-02-26T00:30:20.125500Z"
    },
    "papermill": {
     "duration": 0.044166,
     "end_time": "2022-02-26T00:30:20.125636",
     "exception": false,
     "start_time": "2022-02-26T00:30:20.081470",
     "status": "completed"
    },
    "tags": []
   },
   "outputs": [],
   "source": [
    "#hide\n",
    "dfc_cases = dft_cases.groupby(COL_REGION)[dt_today].sum()\n",
    "dfc_deaths = dft_deaths.groupby(COL_REGION)[dt_today].sum()\n",
    "# dfp_cases = dft_cases.groupby(COL_REGION)[dt_5day].sum()\n",
    "# dfp_deaths = dft_deaths.groupby(COL_REGION)[dt_5day].sum()\n",
    "dfp_cases = dft_cases.groupby(COL_REGION)[dt_yday].sum()\n",
    "dfp_deaths = dft_deaths.groupby(COL_REGION)[dt_yday].sum()"
   ]
  },
  {
   "cell_type": "code",
   "execution_count": 12,
   "id": "deluxe-hepatitis",
   "metadata": {
    "execution": {
     "iopub.execute_input": "2022-02-26T00:30:20.191950Z",
     "iopub.status.busy": "2022-02-26T00:30:20.191434Z",
     "iopub.status.idle": "2022-02-26T00:30:20.196027Z",
     "shell.execute_reply": "2022-02-26T00:30:20.195618Z"
    },
    "papermill": {
     "duration": 0.040556,
     "end_time": "2022-02-26T00:30:20.196141",
     "exception": false,
     "start_time": "2022-02-26T00:30:20.155585",
     "status": "completed"
    },
    "tags": []
   },
   "outputs": [],
   "source": [
    "#hide\n",
    "df_table = (pd.DataFrame(dict(Cases = dfc_cases, Deaths = dfc_deaths, PCases = dfp_cases, PDeaths = dfp_deaths))\n",
    "            .sort_values(by = ['Cases','Deaths'], ascending = [False, False])\n",
    "            .reset_index())"
   ]
  },
  {
   "cell_type": "code",
   "execution_count": 13,
   "id": "educational-chancellor",
   "metadata": {
    "execution": {
     "iopub.execute_input": "2022-02-26T00:30:20.275494Z",
     "iopub.status.busy": "2022-02-26T00:30:20.274894Z",
     "iopub.status.idle": "2022-02-26T00:30:20.282887Z",
     "shell.execute_reply": "2022-02-26T00:30:20.282417Z"
    },
    "papermill": {
     "duration": 0.056987,
     "end_time": "2022-02-26T00:30:20.283014",
     "exception": false,
     "start_time": "2022-02-26T00:30:20.226027",
     "status": "completed"
    },
    "tags": []
   },
   "outputs": [
    {
     "data": {
      "text/html": [
       "<div>\n",
       "<style scoped>\n",
       "    .dataframe tbody tr th:only-of-type {\n",
       "        vertical-align: middle;\n",
       "    }\n",
       "\n",
       "    .dataframe tbody tr th {\n",
       "        vertical-align: top;\n",
       "    }\n",
       "\n",
       "    .dataframe thead th {\n",
       "        text-align: right;\n",
       "    }\n",
       "</style>\n",
       "<table border=\"1\" class=\"dataframe\">\n",
       "  <thead>\n",
       "    <tr style=\"text-align: right;\">\n",
       "      <th></th>\n",
       "      <th>Country/Region</th>\n",
       "      <th>Cases</th>\n",
       "      <th>Deaths</th>\n",
       "      <th>PCases</th>\n",
       "      <th>PDeaths</th>\n",
       "      <th>Cases (+)</th>\n",
       "      <th>Deaths (+)</th>\n",
       "      <th>Fatality Rate</th>\n",
       "      <th>Continent</th>\n",
       "    </tr>\n",
       "  </thead>\n",
       "  <tbody>\n",
       "    <tr>\n",
       "      <th>0</th>\n",
       "      <td>US</td>\n",
       "      <td>78798989</td>\n",
       "      <td>944830</td>\n",
       "      <td>78733498</td>\n",
       "      <td>941889</td>\n",
       "      <td>65491</td>\n",
       "      <td>2941</td>\n",
       "      <td>1.20</td>\n",
       "      <td>North America</td>\n",
       "    </tr>\n",
       "    <tr>\n",
       "      <th>1</th>\n",
       "      <td>India</td>\n",
       "      <td>42894345</td>\n",
       "      <td>513226</td>\n",
       "      <td>42881179</td>\n",
       "      <td>512924</td>\n",
       "      <td>13166</td>\n",
       "      <td>302</td>\n",
       "      <td>1.20</td>\n",
       "      <td>Asia</td>\n",
       "    </tr>\n",
       "    <tr>\n",
       "      <th>2</th>\n",
       "      <td>Brazil</td>\n",
       "      <td>28589235</td>\n",
       "      <td>647703</td>\n",
       "      <td>28493336</td>\n",
       "      <td>646714</td>\n",
       "      <td>95899</td>\n",
       "      <td>989</td>\n",
       "      <td>2.27</td>\n",
       "      <td>South America</td>\n",
       "    </tr>\n",
       "    <tr>\n",
       "      <th>3</th>\n",
       "      <td>France</td>\n",
       "      <td>22707110</td>\n",
       "      <td>138784</td>\n",
       "      <td>22638153</td>\n",
       "      <td>138502</td>\n",
       "      <td>68957</td>\n",
       "      <td>282</td>\n",
       "      <td>0.61</td>\n",
       "      <td>Europe</td>\n",
       "    </tr>\n",
       "    <tr>\n",
       "      <th>4</th>\n",
       "      <td>United Kingdom</td>\n",
       "      <td>18906546</td>\n",
       "      <td>161675</td>\n",
       "      <td>18867585</td>\n",
       "      <td>161549</td>\n",
       "      <td>38961</td>\n",
       "      <td>126</td>\n",
       "      <td>0.86</td>\n",
       "      <td>Europe</td>\n",
       "    </tr>\n",
       "  </tbody>\n",
       "</table>\n",
       "</div>"
      ],
      "text/plain": [
       "   Country/Region     Cases  Deaths    PCases  PDeaths  Cases (+)  Deaths (+)  \\\n",
       "0              US  78798989  944830  78733498   941889      65491        2941   \n",
       "1           India  42894345  513226  42881179   512924      13166         302   \n",
       "2          Brazil  28589235  647703  28493336   646714      95899         989   \n",
       "3          France  22707110  138784  22638153   138502      68957         282   \n",
       "4  United Kingdom  18906546  161675  18867585   161549      38961         126   \n",
       "\n",
       "   Fatality Rate      Continent  \n",
       "0           1.20  North America  \n",
       "1           1.20           Asia  \n",
       "2           2.27  South America  \n",
       "3           0.61         Europe  \n",
       "4           0.86         Europe  "
      ]
     },
     "execution_count": 13,
     "metadata": {},
     "output_type": "execute_result"
    }
   ],
   "source": [
    "#hide\n",
    "for c in 'Cases, Deaths'.split(', '):\n",
    "    df_table[f'{c} (+)'] = (df_table[c] - df_table[f'P{c}']).clip(0)\n",
    "    #Clip ça veut dire, les chiffres negatif sont interdit\n",
    "df_table['Fatality Rate'] = (100* df_table['Deaths']/ df_table['Cases']).round(2)\n",
    "df_table['Continent'] = df_table['Country/Region'].map(mapping['map.continent'])\n",
    "df_table.head(5)"
   ]
  },
  {
   "cell_type": "code",
   "execution_count": 14,
   "id": "aboriginal-bulgaria",
   "metadata": {
    "execution": {
     "iopub.execute_input": "2022-02-26T00:30:20.350661Z",
     "iopub.status.busy": "2022-02-26T00:30:20.350112Z",
     "iopub.status.idle": "2022-02-26T00:30:20.352228Z",
     "shell.execute_reply": "2022-02-26T00:30:20.352643Z"
    },
    "papermill": {
     "duration": 0.039153,
     "end_time": "2022-02-26T00:30:20.352783",
     "exception": false,
     "start_time": "2022-02-26T00:30:20.313630",
     "status": "completed"
    },
    "tags": []
   },
   "outputs": [],
   "source": [
    "#hide\n",
    "#delete problematic countries from table\n",
    "df_table = df_table[~df_table['Country/Region'].isin(['Cape Verde', 'Cruise Ship', 'Kosovo'])]"
   ]
  },
  {
   "cell_type": "code",
   "execution_count": 15,
   "id": "fantastic-effect",
   "metadata": {
    "execution": {
     "iopub.execute_input": "2022-02-26T00:30:20.422181Z",
     "iopub.status.busy": "2022-02-26T00:30:20.421627Z",
     "iopub.status.idle": "2022-02-26T00:30:20.439387Z",
     "shell.execute_reply": "2022-02-26T00:30:20.439842Z"
    },
    "papermill": {
     "duration": 0.056646,
     "end_time": "2022-02-26T00:30:20.440003",
     "exception": false,
     "start_time": "2022-02-26T00:30:20.383357",
     "status": "completed"
    },
    "tags": []
   },
   "outputs": [
    {
     "data": {
      "text/html": [
       "<div>\n",
       "<style scoped>\n",
       "    .dataframe tbody tr th:only-of-type {\n",
       "        vertical-align: middle;\n",
       "    }\n",
       "\n",
       "    .dataframe tbody tr th {\n",
       "        vertical-align: top;\n",
       "    }\n",
       "\n",
       "    .dataframe thead th {\n",
       "        text-align: right;\n",
       "    }\n",
       "</style>\n",
       "<table border=\"1\" class=\"dataframe\">\n",
       "  <thead>\n",
       "    <tr style=\"text-align: right;\">\n",
       "      <th></th>\n",
       "      <th>Country/Region</th>\n",
       "      <th>Cases</th>\n",
       "      <th>Deaths</th>\n",
       "      <th>PCases</th>\n",
       "      <th>PDeaths</th>\n",
       "      <th>Cases (+)</th>\n",
       "      <th>Deaths (+)</th>\n",
       "      <th>Fatality Rate</th>\n",
       "      <th>Continent</th>\n",
       "    </tr>\n",
       "  </thead>\n",
       "  <tbody>\n",
       "    <tr>\n",
       "      <th>0</th>\n",
       "      <td>US</td>\n",
       "      <td>78798989</td>\n",
       "      <td>944830</td>\n",
       "      <td>78733498</td>\n",
       "      <td>941889</td>\n",
       "      <td>65491</td>\n",
       "      <td>2941</td>\n",
       "      <td>1.2</td>\n",
       "      <td>North America</td>\n",
       "    </tr>\n",
       "    <tr>\n",
       "      <th>1</th>\n",
       "      <td>India</td>\n",
       "      <td>42894345</td>\n",
       "      <td>513226</td>\n",
       "      <td>42881179</td>\n",
       "      <td>512924</td>\n",
       "      <td>13166</td>\n",
       "      <td>302</td>\n",
       "      <td>1.2</td>\n",
       "      <td>Asia</td>\n",
       "    </tr>\n",
       "    <tr>\n",
       "      <th>2</th>\n",
       "      <td>Brazil</td>\n",
       "      <td>28589235</td>\n",
       "      <td>647703</td>\n",
       "      <td>28493336</td>\n",
       "      <td>646714</td>\n",
       "      <td>95899</td>\n",
       "      <td>989</td>\n",
       "      <td>2.3</td>\n",
       "      <td>South America</td>\n",
       "    </tr>\n",
       "    <tr>\n",
       "      <th>3</th>\n",
       "      <td>France</td>\n",
       "      <td>22707110</td>\n",
       "      <td>138784</td>\n",
       "      <td>22638153</td>\n",
       "      <td>138502</td>\n",
       "      <td>68957</td>\n",
       "      <td>282</td>\n",
       "      <td>0.6</td>\n",
       "      <td>Europe</td>\n",
       "    </tr>\n",
       "    <tr>\n",
       "      <th>4</th>\n",
       "      <td>United Kingdom</td>\n",
       "      <td>18906546</td>\n",
       "      <td>161675</td>\n",
       "      <td>18867585</td>\n",
       "      <td>161549</td>\n",
       "      <td>38961</td>\n",
       "      <td>126</td>\n",
       "      <td>0.9</td>\n",
       "      <td>Europe</td>\n",
       "    </tr>\n",
       "  </tbody>\n",
       "</table>\n",
       "</div>"
      ],
      "text/plain": [
       "   Country/Region     Cases  Deaths    PCases  PDeaths  Cases (+)  Deaths (+)  \\\n",
       "0              US  78798989  944830  78733498   941889      65491        2941   \n",
       "1           India  42894345  513226  42881179   512924      13166         302   \n",
       "2          Brazil  28589235  647703  28493336   646714      95899         989   \n",
       "3          France  22707110  138784  22638153   138502      68957         282   \n",
       "4  United Kingdom  18906546  161675  18867585   161549      38961         126   \n",
       "\n",
       "   Fatality Rate      Continent  \n",
       "0            1.2  North America  \n",
       "1            1.2           Asia  \n",
       "2            2.3  South America  \n",
       "3            0.6         Europe  \n",
       "4            0.9         Europe  "
      ]
     },
     "execution_count": 15,
     "metadata": {},
     "output_type": "execute_result"
    }
   ],
   "source": [
    "#hide\n",
    "df_table = (pd.DataFrame(dict(Cases=dfc_cases, Deaths=dfc_deaths, PCases=dfp_cases, PDeaths=dfp_deaths))\n",
    "             .sort_values(by=['Cases', 'Deaths'], ascending=[False, False])\n",
    "             .reset_index())\n",
    "df_table.rename(columns={'index': 'Country/Region'}, inplace=True)\n",
    "for c in 'Cases, Deaths'.split(', '):\n",
    "    df_table[f'{c} (+)'] = (df_table[c] - df_table[f'P{c}']).clip(0)  # DATA BUG\n",
    "df_table['Fatality Rate'] = (100 * df_table['Deaths'] / df_table['Cases']).round(1)\n",
    "df_table['Continent'] = df_table['Country/Region'].map(mapping['map.continent'])\n",
    "df_table.head(5)"
   ]
  },
  {
   "cell_type": "code",
   "execution_count": 16,
   "id": "fewer-occasion",
   "metadata": {
    "execution": {
     "iopub.execute_input": "2022-02-26T00:30:20.509235Z",
     "iopub.status.busy": "2022-02-26T00:30:20.508707Z",
     "iopub.status.idle": "2022-02-26T00:30:20.511184Z",
     "shell.execute_reply": "2022-02-26T00:30:20.510753Z"
    },
    "papermill": {
     "duration": 0.03928,
     "end_time": "2022-02-26T00:30:20.511306",
     "exception": false,
     "start_time": "2022-02-26T00:30:20.472026",
     "status": "completed"
    },
    "tags": []
   },
   "outputs": [],
   "source": [
    "#hide\n",
    "#delete problematic countries from table\n",
    "df_table = df_table[~df_table['Country/Region'].isin(['Cape Verde', 'Cruise Ship', 'Kosovo'])]"
   ]
  },
  {
   "cell_type": "code",
   "execution_count": 17,
   "id": "related-center",
   "metadata": {
    "execution": {
     "iopub.execute_input": "2022-02-26T00:30:20.582615Z",
     "iopub.status.busy": "2022-02-26T00:30:20.581998Z",
     "iopub.status.idle": "2022-02-26T00:30:20.595116Z",
     "shell.execute_reply": "2022-02-26T00:30:20.594671Z"
    },
    "papermill": {
     "duration": 0.053008,
     "end_time": "2022-02-26T00:30:20.595241",
     "exception": false,
     "start_time": "2022-02-26T00:30:20.542233",
     "status": "completed"
    },
    "tags": []
   },
   "outputs": [],
   "source": [
    "#hide\n",
    "metrics = [df_table.columns[index] for index in [1,2,5,6]]\n",
    "# s_china = df_table[df_table['Country/Region'].eq('China')][metrics].sum().add_prefix('China ')\n",
    "s_us = df_table[df_table['Country/Region'].eq('US')][metrics].sum().add_prefix('US ')\n",
    "s_eu = df_table[df_table['Continent'].eq('Europe')][metrics].sum().add_prefix('EU ')\n",
    "s_ind = df_table[df_table['Country/Region'].eq('India')][metrics].sum().add_prefix('India ')\n",
    "summary = {'updated': pd.to_datetime(dt_today), 'since': pd.to_datetime(dt_yday)}\n",
    "summary = {'updated': pd.to_datetime(dt_today), 'since': pd.to_datetime(dt_yday)}\n",
    "summary = {**summary, **df_table[metrics].sum(), **s_ind, **s_us, **s_eu}"
   ]
  },
  {
   "cell_type": "code",
   "execution_count": 18,
   "id": "engaging-syndrome",
   "metadata": {
    "execution": {
     "iopub.execute_input": "2022-02-26T00:30:20.663162Z",
     "iopub.status.busy": "2022-02-26T00:30:20.662622Z",
     "iopub.status.idle": "2022-02-26T00:30:20.679193Z",
     "shell.execute_reply": "2022-02-26T00:30:20.678749Z"
    },
    "papermill": {
     "duration": 0.052883,
     "end_time": "2022-02-26T00:30:20.679321",
     "exception": false,
     "start_time": "2022-02-26T00:30:20.626438",
     "status": "completed"
    },
    "tags": []
   },
   "outputs": [],
   "source": [
    "#hide\n",
    "dft_ct_new_cases = dft_cases.groupby(COL_REGION)[dt_cols].sum().diff(axis=1).fillna(0).astype(int)"
   ]
  },
  {
   "cell_type": "code",
   "execution_count": 19,
   "id": "neutral-assignment",
   "metadata": {
    "execution": {
     "iopub.execute_input": "2022-02-26T00:30:20.746496Z",
     "iopub.status.busy": "2022-02-26T00:30:20.745974Z",
     "iopub.status.idle": "2022-02-26T00:30:20.750640Z",
     "shell.execute_reply": "2022-02-26T00:30:20.751091Z"
    },
    "papermill": {
     "duration": 0.040173,
     "end_time": "2022-02-26T00:30:20.751228",
     "exception": false,
     "start_time": "2022-02-26T00:30:20.711055",
     "status": "completed"
    },
    "tags": []
   },
   "outputs": [],
   "source": [
    "#hide\n",
    "everydaycases = dft_ct_new_cases.cumsum(axis=1)"
   ]
  },
  {
   "cell_type": "code",
   "execution_count": 20,
   "id": "parliamentary-calgary",
   "metadata": {
    "execution": {
     "iopub.execute_input": "2022-02-26T00:30:20.818634Z",
     "iopub.status.busy": "2022-02-26T00:30:20.818062Z",
     "iopub.status.idle": "2022-02-26T00:30:21.419863Z",
     "shell.execute_reply": "2022-02-26T00:30:21.419342Z"
    },
    "papermill": {
     "duration": 0.637537,
     "end_time": "2022-02-26T00:30:21.419995",
     "exception": false,
     "start_time": "2022-02-26T00:30:20.782458",
     "status": "completed"
    },
    "tags": []
   },
   "outputs": [],
   "source": [
    "#hide\n",
    "import pandas as pd\n",
    "import matplotlib.pyplot as plt\n",
    "import matplotlib.ticker as ticker\n",
    "import matplotlib.animation as animation\n",
    "from IPython.display import HTML"
   ]
  },
  {
   "cell_type": "code",
   "execution_count": 21,
   "id": "lasting-extraction",
   "metadata": {
    "execution": {
     "iopub.execute_input": "2022-02-26T00:30:21.488644Z",
     "iopub.status.busy": "2022-02-26T00:30:21.488099Z",
     "iopub.status.idle": "2022-02-26T00:30:21.494239Z",
     "shell.execute_reply": "2022-02-26T00:30:21.494713Z"
    },
    "papermill": {
     "duration": 0.043901,
     "end_time": "2022-02-26T00:30:21.494858",
     "exception": false,
     "start_time": "2022-02-26T00:30:21.450957",
     "status": "completed"
    },
    "tags": []
   },
   "outputs": [],
   "source": [
    "#hide\n",
    "t = everydaycases.stack()"
   ]
  },
  {
   "cell_type": "code",
   "execution_count": 22,
   "id": "premier-sleeve",
   "metadata": {
    "execution": {
     "iopub.execute_input": "2022-02-26T00:30:21.561636Z",
     "iopub.status.busy": "2022-02-26T00:30:21.561119Z",
     "iopub.status.idle": "2022-02-26T00:30:21.571383Z",
     "shell.execute_reply": "2022-02-26T00:30:21.571831Z"
    },
    "papermill": {
     "duration": 0.046106,
     "end_time": "2022-02-26T00:30:21.571977",
     "exception": false,
     "start_time": "2022-02-26T00:30:21.525871",
     "status": "completed"
    },
    "tags": []
   },
   "outputs": [],
   "source": [
    "#hide\n",
    "g = t.reset_index(['Country/Region'])"
   ]
  },
  {
   "cell_type": "code",
   "execution_count": 23,
   "id": "distributed-pittsburgh",
   "metadata": {
    "execution": {
     "iopub.execute_input": "2022-02-26T00:30:21.638497Z",
     "iopub.status.busy": "2022-02-26T00:30:21.637875Z",
     "iopub.status.idle": "2022-02-26T00:30:21.639305Z",
     "shell.execute_reply": "2022-02-26T00:30:21.639858Z"
    },
    "papermill": {
     "duration": 0.036958,
     "end_time": "2022-02-26T00:30:21.640006",
     "exception": false,
     "start_time": "2022-02-26T00:30:21.603048",
     "status": "completed"
    },
    "tags": []
   },
   "outputs": [],
   "source": [
    "#hide\n",
    "g.index.name = 'date'"
   ]
  },
  {
   "cell_type": "code",
   "execution_count": 24,
   "id": "naked-donor",
   "metadata": {
    "execution": {
     "iopub.execute_input": "2022-02-26T00:30:21.705988Z",
     "iopub.status.busy": "2022-02-26T00:30:21.705439Z",
     "iopub.status.idle": "2022-02-26T00:30:21.707548Z",
     "shell.execute_reply": "2022-02-26T00:30:21.707051Z"
    },
    "papermill": {
     "duration": 0.036293,
     "end_time": "2022-02-26T00:30:21.707657",
     "exception": false,
     "start_time": "2022-02-26T00:30:21.671364",
     "status": "completed"
    },
    "tags": []
   },
   "outputs": [],
   "source": [
    "# #hide\n",
    "# g = g.reset_index(['date'])"
   ]
  },
  {
   "cell_type": "code",
   "execution_count": 25,
   "id": "incomplete-mustang",
   "metadata": {
    "execution": {
     "iopub.execute_input": "2022-02-26T00:30:21.774127Z",
     "iopub.status.busy": "2022-02-26T00:30:21.773506Z",
     "iopub.status.idle": "2022-02-26T00:30:21.775076Z",
     "shell.execute_reply": "2022-02-26T00:30:21.775513Z"
    },
    "papermill": {
     "duration": 0.036522,
     "end_time": "2022-02-26T00:30:21.775663",
     "exception": false,
     "start_time": "2022-02-26T00:30:21.739141",
     "status": "completed"
    },
    "tags": []
   },
   "outputs": [],
   "source": [
    "#hide\n",
    "# g.head()"
   ]
  },
  {
   "cell_type": "code",
   "execution_count": 26,
   "id": "specific-kruger",
   "metadata": {
    "execution": {
     "iopub.execute_input": "2022-02-26T00:30:21.841748Z",
     "iopub.status.busy": "2022-02-26T00:30:21.841135Z",
     "iopub.status.idle": "2022-02-26T00:30:21.844760Z",
     "shell.execute_reply": "2022-02-26T00:30:21.845207Z"
    },
    "papermill": {
     "duration": 0.038617,
     "end_time": "2022-02-26T00:30:21.845359",
     "exception": false,
     "start_time": "2022-02-26T00:30:21.806742",
     "status": "completed"
    },
    "tags": []
   },
   "outputs": [],
   "source": [
    "#hide\n",
    "# g.columns = ['date','country','cases']"
   ]
  },
  {
   "cell_type": "code",
   "execution_count": 27,
   "id": "tender-conversion",
   "metadata": {
    "execution": {
     "iopub.execute_input": "2022-02-26T00:30:21.911089Z",
     "iopub.status.busy": "2022-02-26T00:30:21.910425Z",
     "iopub.status.idle": "2022-02-26T00:30:21.912499Z",
     "shell.execute_reply": "2022-02-26T00:30:21.911919Z"
    },
    "papermill": {
     "duration": 0.036421,
     "end_time": "2022-02-26T00:30:21.912625",
     "exception": false,
     "start_time": "2022-02-26T00:30:21.876204",
     "status": "completed"
    },
    "tags": []
   },
   "outputs": [],
   "source": [
    "#hide\n",
    "# g['continent'] = g.country"
   ]
  },
  {
   "cell_type": "code",
   "execution_count": 28,
   "id": "substantial-wilderness",
   "metadata": {
    "execution": {
     "iopub.execute_input": "2022-02-26T00:30:21.979183Z",
     "iopub.status.busy": "2022-02-26T00:30:21.978599Z",
     "iopub.status.idle": "2022-02-26T00:30:21.980936Z",
     "shell.execute_reply": "2022-02-26T00:30:21.981326Z"
    },
    "papermill": {
     "duration": 0.037114,
     "end_time": "2022-02-26T00:30:21.981461",
     "exception": false,
     "start_time": "2022-02-26T00:30:21.944347",
     "status": "completed"
    },
    "tags": []
   },
   "outputs": [],
   "source": [
    "#hide\n",
    "# cols = list(g.columns.values)"
   ]
  },
  {
   "cell_type": "code",
   "execution_count": 29,
   "id": "solved-farming",
   "metadata": {
    "execution": {
     "iopub.execute_input": "2022-02-26T00:30:22.047212Z",
     "iopub.status.busy": "2022-02-26T00:30:22.046588Z",
     "iopub.status.idle": "2022-02-26T00:30:22.049073Z",
     "shell.execute_reply": "2022-02-26T00:30:22.049513Z"
    },
    "papermill": {
     "duration": 0.037376,
     "end_time": "2022-02-26T00:30:22.049669",
     "exception": false,
     "start_time": "2022-02-26T00:30:22.012293",
     "status": "completed"
    },
    "tags": []
   },
   "outputs": [],
   "source": [
    "#hide\n",
    "# cols.insert(0, cols.pop())"
   ]
  },
  {
   "cell_type": "code",
   "execution_count": 30,
   "id": "executed-adoption",
   "metadata": {
    "execution": {
     "iopub.execute_input": "2022-02-26T00:30:22.115830Z",
     "iopub.status.busy": "2022-02-26T00:30:22.115210Z",
     "iopub.status.idle": "2022-02-26T00:30:22.117486Z",
     "shell.execute_reply": "2022-02-26T00:30:22.116987Z"
    },
    "papermill": {
     "duration": 0.036985,
     "end_time": "2022-02-26T00:30:22.117609",
     "exception": false,
     "start_time": "2022-02-26T00:30:22.080624",
     "status": "completed"
    },
    "tags": []
   },
   "outputs": [],
   "source": [
    "#hide\n",
    "# g = g[cols]"
   ]
  },
  {
   "cell_type": "code",
   "execution_count": 31,
   "id": "subject-dublin",
   "metadata": {
    "execution": {
     "iopub.execute_input": "2022-02-26T00:30:22.183459Z",
     "iopub.status.busy": "2022-02-26T00:30:22.182912Z",
     "iopub.status.idle": "2022-02-26T00:30:22.184996Z",
     "shell.execute_reply": "2022-02-26T00:30:22.184584Z"
    },
    "papermill": {
     "duration": 0.036327,
     "end_time": "2022-02-26T00:30:22.185112",
     "exception": false,
     "start_time": "2022-02-26T00:30:22.148785",
     "status": "completed"
    },
    "tags": []
   },
   "outputs": [],
   "source": [
    "#hide\n",
    "# g['continent'] = g['continent'].map(mapping['map.continent'])"
   ]
  },
  {
   "cell_type": "code",
   "execution_count": 32,
   "id": "freelance-scout",
   "metadata": {
    "execution": {
     "iopub.execute_input": "2022-02-26T00:30:22.251169Z",
     "iopub.status.busy": "2022-02-26T00:30:22.250580Z",
     "iopub.status.idle": "2022-02-26T00:30:22.252028Z",
     "shell.execute_reply": "2022-02-26T00:30:22.252435Z"
    },
    "papermill": {
     "duration": 0.036347,
     "end_time": "2022-02-26T00:30:22.252564",
     "exception": false,
     "start_time": "2022-02-26T00:30:22.216217",
     "status": "completed"
    },
    "tags": []
   },
   "outputs": [],
   "source": [
    "#hide\n",
    "# g.head()"
   ]
  },
  {
   "cell_type": "code",
   "execution_count": 33,
   "id": "limited-engine",
   "metadata": {
    "execution": {
     "iopub.execute_input": "2022-02-26T00:30:22.318073Z",
     "iopub.status.busy": "2022-02-26T00:30:22.317456Z",
     "iopub.status.idle": "2022-02-26T00:30:22.320865Z",
     "shell.execute_reply": "2022-02-26T00:30:22.321306Z"
    },
    "papermill": {
     "duration": 0.037966,
     "end_time": "2022-02-26T00:30:22.321457",
     "exception": false,
     "start_time": "2022-02-26T00:30:22.283491",
     "status": "completed"
    },
    "tags": []
   },
   "outputs": [],
   "source": [
    "# hide\n",
    "# g['date'] = g['date'].astype('datetime64[ns]')"
   ]
  },
  {
   "cell_type": "code",
   "execution_count": 34,
   "id": "sophisticated-supervisor",
   "metadata": {
    "execution": {
     "iopub.execute_input": "2022-02-26T00:30:22.387198Z",
     "iopub.status.busy": "2022-02-26T00:30:22.386545Z",
     "iopub.status.idle": "2022-02-26T00:30:22.388457Z",
     "shell.execute_reply": "2022-02-26T00:30:22.387888Z"
    },
    "papermill": {
     "duration": 0.036099,
     "end_time": "2022-02-26T00:30:22.388578",
     "exception": false,
     "start_time": "2022-02-26T00:30:22.352479",
     "status": "completed"
    },
    "tags": []
   },
   "outputs": [],
   "source": [
    "#hide\n",
    "# g['date'] = g.date.dt.dayofyear"
   ]
  },
  {
   "cell_type": "code",
   "execution_count": 35,
   "id": "inside-dubai",
   "metadata": {
    "execution": {
     "iopub.execute_input": "2022-02-26T00:30:22.454080Z",
     "iopub.status.busy": "2022-02-26T00:30:22.453489Z",
     "iopub.status.idle": "2022-02-26T00:30:22.456985Z",
     "shell.execute_reply": "2022-02-26T00:30:22.457368Z"
    },
    "papermill": {
     "duration": 0.037508,
     "end_time": "2022-02-26T00:30:22.457501",
     "exception": false,
     "start_time": "2022-02-26T00:30:22.419993",
     "status": "completed"
    },
    "tags": []
   },
   "outputs": [],
   "source": [
    "#hide\n",
    "# g = g.rename(columns= {'continent':'group','country':'name','cases':'value'})"
   ]
  },
  {
   "cell_type": "code",
   "execution_count": 36,
   "id": "fleet-motorcycle",
   "metadata": {
    "execution": {
     "iopub.execute_input": "2022-02-26T00:30:22.522122Z",
     "iopub.status.busy": "2022-02-26T00:30:22.521542Z",
     "iopub.status.idle": "2022-02-26T00:30:22.523706Z",
     "shell.execute_reply": "2022-02-26T00:30:22.523245Z"
    },
    "papermill": {
     "duration": 0.035859,
     "end_time": "2022-02-26T00:30:22.523828",
     "exception": false,
     "start_time": "2022-02-26T00:30:22.487969",
     "status": "completed"
    },
    "tags": []
   },
   "outputs": [],
   "source": [
    "#hide\n",
    "# cols = ['name','group','day','value']"
   ]
  },
  {
   "cell_type": "code",
   "execution_count": 37,
   "id": "continued-sleeping",
   "metadata": {
    "execution": {
     "iopub.execute_input": "2022-02-26T00:30:22.588421Z",
     "iopub.status.busy": "2022-02-26T00:30:22.587916Z",
     "iopub.status.idle": "2022-02-26T00:30:22.589631Z",
     "shell.execute_reply": "2022-02-26T00:30:22.590012Z"
    },
    "papermill": {
     "duration": 0.035436,
     "end_time": "2022-02-26T00:30:22.590131",
     "exception": false,
     "start_time": "2022-02-26T00:30:22.554695",
     "status": "completed"
    },
    "tags": []
   },
   "outputs": [],
   "source": [
    "#hide\n",
    "# g.rename(columns= {'date':'day'},inplace = True)"
   ]
  },
  {
   "cell_type": "code",
   "execution_count": 38,
   "id": "major-fight",
   "metadata": {
    "execution": {
     "iopub.execute_input": "2022-02-26T00:30:22.654614Z",
     "iopub.status.busy": "2022-02-26T00:30:22.653998Z",
     "iopub.status.idle": "2022-02-26T00:30:22.656182Z",
     "shell.execute_reply": "2022-02-26T00:30:22.655695Z"
    },
    "papermill": {
     "duration": 0.035504,
     "end_time": "2022-02-26T00:30:22.656299",
     "exception": false,
     "start_time": "2022-02-26T00:30:22.620795",
     "status": "completed"
    },
    "tags": []
   },
   "outputs": [],
   "source": [
    "#hide\n",
    "# g = g[cols]"
   ]
  },
  {
   "cell_type": "code",
   "execution_count": 39,
   "id": "structured-mobile",
   "metadata": {
    "execution": {
     "iopub.execute_input": "2022-02-26T00:30:22.720697Z",
     "iopub.status.busy": "2022-02-26T00:30:22.720193Z",
     "iopub.status.idle": "2022-02-26T00:30:22.722287Z",
     "shell.execute_reply": "2022-02-26T00:30:22.721883Z"
    },
    "papermill": {
     "duration": 0.035367,
     "end_time": "2022-02-26T00:30:22.722392",
     "exception": false,
     "start_time": "2022-02-26T00:30:22.687025",
     "status": "completed"
    },
    "tags": []
   },
   "outputs": [],
   "source": [
    "# #hide\n",
    "# g = g[g.group.notna()]"
   ]
  },
  {
   "cell_type": "code",
   "execution_count": 40,
   "id": "determined-closing",
   "metadata": {
    "execution": {
     "iopub.execute_input": "2022-02-26T00:30:22.787406Z",
     "iopub.status.busy": "2022-02-26T00:30:22.786807Z",
     "iopub.status.idle": "2022-02-26T00:30:22.788951Z",
     "shell.execute_reply": "2022-02-26T00:30:22.788463Z"
    },
    "papermill": {
     "duration": 0.035643,
     "end_time": "2022-02-26T00:30:22.789064",
     "exception": false,
     "start_time": "2022-02-26T00:30:22.753421",
     "status": "completed"
    },
    "tags": []
   },
   "outputs": [],
   "source": [
    "# #hide\n",
    "# colors = dict(zip(\n",
    "#     [\"Oceania\", \"Europe\", \"Asia\", \"South America\", \"Middle East\", \"North America\", \"Africa\"],\n",
    "#     [\"#adb0ff\", \"#ffb3ff\", \"#90d595\", \"#e48381\", \"#aafbff\", \"#f7bb5f\", \"#eafb50\"]\n",
    "# ))\n",
    "# group_lk = g.set_index('name')['group'].to_dict()"
   ]
  },
  {
   "cell_type": "code",
   "execution_count": null,
   "id": "gross-drinking",
   "metadata": {
    "papermill": {
     "duration": 0.030509,
     "end_time": "2022-02-26T00:30:22.850300",
     "exception": false,
     "start_time": "2022-02-26T00:30:22.819791",
     "status": "completed"
    },
    "tags": []
   },
   "outputs": [],
   "source": []
  },
  {
   "cell_type": "code",
   "execution_count": 41,
   "id": "subject-macintosh",
   "metadata": {
    "execution": {
     "iopub.execute_input": "2022-02-26T00:30:22.915774Z",
     "iopub.status.busy": "2022-02-26T00:30:22.915219Z",
     "iopub.status.idle": "2022-02-26T00:30:22.917248Z",
     "shell.execute_reply": "2022-02-26T00:30:22.916815Z"
    },
    "papermill": {
     "duration": 0.036515,
     "end_time": "2022-02-26T00:30:22.917354",
     "exception": false,
     "start_time": "2022-02-26T00:30:22.880839",
     "status": "completed"
    },
    "tags": []
   },
   "outputs": [],
   "source": [
    "# #hide\n",
    "# fig, ax = plt.subplots(figsize=(15, 8))\n",
    "\n",
    "# def draw_barchart(current_day):\n",
    "#     dff = g[g['day'].eq(current_day)].sort_values(by='value', ascending=True).tail(10)\n",
    "#     ax.clear()\n",
    "#     ax.barh(dff['name'], dff['value'], color=[colors[group_lk[x]] for x in dff['name']])\n",
    "#     dx = dff['value'].max() / 200\n",
    "    \n",
    "#     for i, (value, name) in enumerate(zip(dff['value'], dff['name'])):\n",
    "#         ax.text(value-dx, i,     name,           size=14, weight=600, ha='right', va='bottom')\n",
    "#         ax.text(value-dx, i-.25, group_lk[name], size=10, color='#444444', ha='right', va='baseline')\n",
    "#         ax.text(value+dx, i,     f'{value:,.0f}',  size=14, ha='left',  va='center')\n",
    "#     ax.text(1, 0.4, current_day, transform=ax.transAxes, color='#777777', size=46, ha='right', weight=800)\n",
    "#     ax.text(0, 1.06, 'Population (thousands)', transform=ax.transAxes, size=12, color='#777777')\n",
    "#     ax.xaxis.set_major_formatter(ticker.StrMethodFormatter('{x:,.0f}'))\n",
    "#     ax.xaxis.set_ticks_position('top')\n",
    "#     ax.tick_params(axis='x', colors='#777777', labelsize=12)\n",
    "#     ax.set_yticks([])\n",
    "#     ax.margins(0, 0.01)\n",
    "#     ax.grid(which='major', axis='x', linestyle='-')\n",
    "#     ax.set_axisbelow(True)\n",
    "    \n",
    "#     ax.text(0, 1.15, 'Coronavirus',\n",
    "#             transform=ax.transAxes, size=24, weight=600, ha='left', va='top')\n",
    "# #     ax.text(1, 0, 'by @pratapvardhan; credit @jburnmurdoch', transform=ax.transAxes, color='#777777', ha='right',\n",
    "# #             bbox=dict(facecolor='white', alpha=0.8, edgecolor='white'))\n",
    "#     plt.box(False)"
   ]
  },
  {
   "cell_type": "code",
   "execution_count": 42,
   "id": "sexual-wages",
   "metadata": {
    "execution": {
     "iopub.execute_input": "2022-02-26T00:30:22.982280Z",
     "iopub.status.busy": "2022-02-26T00:30:22.981673Z",
     "iopub.status.idle": "2022-02-26T00:30:22.983197Z",
     "shell.execute_reply": "2022-02-26T00:30:22.983662Z"
    },
    "papermill": {
     "duration": 0.035894,
     "end_time": "2022-02-26T00:30:22.983802",
     "exception": false,
     "start_time": "2022-02-26T00:30:22.947908",
     "status": "completed"
    },
    "tags": []
   },
   "outputs": [],
   "source": [
    "# #hide_input\n",
    "# fig, ax = plt.subplots(figsize=(15, 8))\n",
    "# animator = animation.FuncAnimation(fig, draw_barchart, frames=range(g.day.values.min(), g.day.values.max()))\n",
    "# HTML(animator.to_jshtml())\n",
    "# # or use animator.to_html5_video() or animator.save() "
   ]
  },
  {
   "cell_type": "code",
   "execution_count": null,
   "id": "australian-container",
   "metadata": {
    "papermill": {
     "duration": 0.030264,
     "end_time": "2022-02-26T00:30:23.044766",
     "exception": false,
     "start_time": "2022-02-26T00:30:23.014502",
     "status": "completed"
    },
    "tags": []
   },
   "outputs": [],
   "source": []
  },
  {
   "cell_type": "code",
   "execution_count": null,
   "id": "mediterranean-pontiac",
   "metadata": {
    "papermill": {
     "duration": 0.030325,
     "end_time": "2022-02-26T00:30:23.105409",
     "exception": false,
     "start_time": "2022-02-26T00:30:23.075084",
     "status": "completed"
    },
    "tags": []
   },
   "outputs": [],
   "source": []
  },
  {
   "cell_type": "code",
   "execution_count": null,
   "id": "aging-legislature",
   "metadata": {
    "papermill": {
     "duration": 0.030177,
     "end_time": "2022-02-26T00:30:23.166120",
     "exception": false,
     "start_time": "2022-02-26T00:30:23.135943",
     "status": "completed"
    },
    "tags": []
   },
   "outputs": [],
   "source": []
  }
 ],
 "metadata": {
  "kernelspec": {
   "display_name": "Python 3",
   "language": "python",
   "name": "python3"
  },
  "language_info": {
   "codemirror_mode": {
    "name": "ipython",
    "version": 3
   },
   "file_extension": ".py",
   "mimetype": "text/x-python",
   "name": "python",
   "nbconvert_exporter": "python",
   "pygments_lexer": "ipython3",
   "version": "3.6.15"
  },
  "papermill": {
   "duration": 6.100373,
   "end_time": "2022-02-26T00:30:23.514306",
   "environment_variables": {},
   "exception": null,
   "input_path": "2020-03-21-covid19exp.ipynb",
   "output_path": "2020-03-21-covid19exp.ipynb",
   "parameters": {},
   "start_time": "2022-02-26T00:30:17.413933",
   "version": "2.0.0"
  }
 },
 "nbformat": 4,
 "nbformat_minor": 5
}