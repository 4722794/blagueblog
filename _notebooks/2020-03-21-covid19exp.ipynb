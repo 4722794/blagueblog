{
 "cells": [
  {
   "cell_type": "markdown",
   "id": "muslim-click",
   "metadata": {
    "papermill": {
     "duration": 0.035399,
     "end_time": "2022-03-26T00:34:43.184962",
     "exception": false,
     "start_time": "2022-03-26T00:34:43.149563",
     "status": "completed"
    },
    "tags": []
   },
   "source": [
    "# COVID-19 Case Race\n",
    "> A race chart to see rising cases around the world\n",
    "\n",
    "- author: Hargun Oberoi\n",
    "- image: images/covid-overview.png\n",
    "- hide: false\n",
    "- badges: false"
   ]
  },
  {
   "cell_type": "code",
   "execution_count": 1,
   "id": "proof-material",
   "metadata": {
    "execution": {
     "iopub.execute_input": "2022-03-26T00:34:43.259973Z",
     "iopub.status.busy": "2022-03-26T00:34:43.259410Z",
     "iopub.status.idle": "2022-03-26T00:34:43.580948Z",
     "shell.execute_reply": "2022-03-26T00:34:43.580436Z"
    },
    "papermill": {
     "duration": 0.363419,
     "end_time": "2022-03-26T00:34:43.581136",
     "exception": false,
     "start_time": "2022-03-26T00:34:43.217717",
     "status": "completed"
    },
    "tags": []
   },
   "outputs": [],
   "source": [
    "#hide\n",
    "import numpy as np\n",
    "import pandas as pd\n",
    "from jinja2 import Template\n",
    "from IPython.display import HTML"
   ]
  },
  {
   "cell_type": "code",
   "execution_count": 2,
   "id": "developed-terminology",
   "metadata": {
    "execution": {
     "iopub.execute_input": "2022-03-26T00:34:43.639275Z",
     "iopub.status.busy": "2022-03-26T00:34:43.638748Z",
     "iopub.status.idle": "2022-03-26T00:34:43.641858Z",
     "shell.execute_reply": "2022-03-26T00:34:43.642204Z"
    },
    "papermill": {
     "duration": 0.034836,
     "end_time": "2022-03-26T00:34:43.642342",
     "exception": false,
     "start_time": "2022-03-26T00:34:43.607506",
     "status": "completed"
    },
    "tags": []
   },
   "outputs": [],
   "source": [
    "#hide\n",
    "\n",
    "# FETCH\n",
    "base_url = 'https://raw.githubusercontent.com/pratapvardhan/notebooks/master/covid19/'\n",
    "paths = {\n",
    "    'mapping': base_url + 'mapping_countries.csv',\n",
    "    'overview': base_url + 'overview.tpl'\n",
    "}"
   ]
  },
  {
   "cell_type": "code",
   "execution_count": 3,
   "id": "dynamic-saver",
   "metadata": {
    "execution": {
     "iopub.execute_input": "2022-03-26T00:34:43.705684Z",
     "iopub.status.busy": "2022-03-26T00:34:43.705162Z",
     "iopub.status.idle": "2022-03-26T00:34:43.708082Z",
     "shell.execute_reply": "2022-03-26T00:34:43.708524Z"
    },
    "papermill": {
     "duration": 0.040383,
     "end_time": "2022-03-26T00:34:43.708662",
     "exception": false,
     "start_time": "2022-03-26T00:34:43.668279",
     "status": "completed"
    },
    "tags": []
   },
   "outputs": [
    {
     "data": {
      "text/plain": [
       "'https://raw.githubusercontent.com/pratapvardhan/notebooks/master/covid19/mapping_countries.csv'"
      ]
     },
     "execution_count": 3,
     "metadata": {},
     "output_type": "execute_result"
    }
   ],
   "source": [
    "#hide\n",
    "paths['mapping']"
   ]
  },
  {
   "cell_type": "code",
   "execution_count": 4,
   "id": "urban-software",
   "metadata": {
    "execution": {
     "iopub.execute_input": "2022-03-26T00:34:43.767746Z",
     "iopub.status.busy": "2022-03-26T00:34:43.767162Z",
     "iopub.status.idle": "2022-03-26T00:34:43.768612Z",
     "shell.execute_reply": "2022-03-26T00:34:43.769085Z"
    },
    "papermill": {
     "duration": 0.033932,
     "end_time": "2022-03-26T00:34:43.769234",
     "exception": false,
     "start_time": "2022-03-26T00:34:43.735302",
     "status": "completed"
    },
    "tags": []
   },
   "outputs": [],
   "source": [
    "#hide\n",
    "def get_mappings(url):\n",
    "    df = pd.read_csv(url)\n",
    "    return {\n",
    "        'df': df,\n",
    "        'replace.country': dict(df.dropna(subset=['Name']).set_index('Country')['Name']),\n",
    "        'map.continent': dict(df.set_index('Name')['Continent'])\n",
    "    }"
   ]
  },
  {
   "cell_type": "code",
   "execution_count": 5,
   "id": "intimate-machinery",
   "metadata": {
    "execution": {
     "iopub.execute_input": "2022-03-26T00:34:43.838719Z",
     "iopub.status.busy": "2022-03-26T00:34:43.838168Z",
     "iopub.status.idle": "2022-03-26T00:34:43.868686Z",
     "shell.execute_reply": "2022-03-26T00:34:43.868138Z"
    },
    "papermill": {
     "duration": 0.067482,
     "end_time": "2022-03-26T00:34:43.868847",
     "exception": false,
     "start_time": "2022-03-26T00:34:43.801365",
     "status": "completed"
    },
    "tags": []
   },
   "outputs": [],
   "source": [
    "#hide\n",
    "mapping = get_mappings(paths['mapping'])"
   ]
  },
  {
   "cell_type": "code",
   "execution_count": 6,
   "id": "certified-tactics",
   "metadata": {
    "execution": {
     "iopub.execute_input": "2022-03-26T00:34:43.939168Z",
     "iopub.status.busy": "2022-03-26T00:34:43.938510Z",
     "iopub.status.idle": "2022-03-26T00:34:43.941822Z",
     "shell.execute_reply": "2022-03-26T00:34:43.942177Z"
    },
    "papermill": {
     "duration": 0.041327,
     "end_time": "2022-03-26T00:34:43.942329",
     "exception": false,
     "start_time": "2022-03-26T00:34:43.901002",
     "status": "completed"
    },
    "tags": []
   },
   "outputs": [],
   "source": [
    "#hide\n",
    "def get_template(path):\n",
    "    from urllib.parse import urlparse\n",
    "    if bool(urlparse(path).netloc):\n",
    "        from urllib.request import urlopen\n",
    "        return urlopen(path).read().decode('utf8')\n",
    "    return open(path).read()"
   ]
  },
  {
   "cell_type": "code",
   "execution_count": 7,
   "id": "realistic-blast",
   "metadata": {
    "execution": {
     "iopub.execute_input": "2022-03-26T00:34:44.002343Z",
     "iopub.status.busy": "2022-03-26T00:34:44.001227Z",
     "iopub.status.idle": "2022-03-26T00:34:44.003873Z",
     "shell.execute_reply": "2022-03-26T00:34:44.003427Z"
    },
    "papermill": {
     "duration": 0.034994,
     "end_time": "2022-03-26T00:34:44.004012",
     "exception": false,
     "start_time": "2022-03-26T00:34:43.969018",
     "status": "completed"
    },
    "tags": []
   },
   "outputs": [],
   "source": [
    "#hide\n",
    "def get_frame(name):\n",
    "    url = (\n",
    "        'https://raw.githubusercontent.com/CSSEGISandData/COVID-19/master/csse_covid_19_data/'\n",
    "        f'csse_covid_19_time_series/time_series_covid19_{name}_global.csv')\n",
    "    df = pd.read_csv(url)\n",
    "    # rename countries\n",
    "    df['Country/Region'] = df['Country/Region'].replace(mapping['replace.country'])\n",
    "    return df"
   ]
  },
  {
   "cell_type": "code",
   "execution_count": 8,
   "id": "affiliated-characterization",
   "metadata": {
    "execution": {
     "iopub.execute_input": "2022-03-26T00:34:44.075575Z",
     "iopub.status.busy": "2022-03-26T00:34:44.074979Z",
     "iopub.status.idle": "2022-03-26T00:34:44.076407Z",
     "shell.execute_reply": "2022-03-26T00:34:44.076856Z"
    },
    "papermill": {
     "duration": 0.039305,
     "end_time": "2022-03-26T00:34:44.077020",
     "exception": false,
     "start_time": "2022-03-26T00:34:44.037715",
     "status": "completed"
    },
    "tags": []
   },
   "outputs": [],
   "source": [
    "#hide\n",
    "def get_dates(df):\n",
    "    dt_cols = df.columns[~df.columns.isin(['Province/State', 'Country/Region', 'Lat', 'Long'])]\n",
    "    LAST_DATE_I = -1\n",
    "    # sometimes last column may be empty, then go backwards\n",
    "    for i in range(-1, -len(dt_cols), -1):\n",
    "        if not df[dt_cols[i]].fillna(0).eq(0).all():\n",
    "            LAST_DATE_I = i\n",
    "            break\n",
    "    return LAST_DATE_I, dt_cols"
   ]
  },
  {
   "cell_type": "code",
   "execution_count": 9,
   "id": "recent-optimization",
   "metadata": {
    "execution": {
     "iopub.execute_input": "2022-03-26T00:34:44.146326Z",
     "iopub.status.busy": "2022-03-26T00:34:44.145728Z",
     "iopub.status.idle": "2022-03-26T00:34:44.516876Z",
     "shell.execute_reply": "2022-03-26T00:34:44.516266Z"
    },
    "papermill": {
     "duration": 0.407818,
     "end_time": "2022-03-26T00:34:44.517028",
     "exception": false,
     "start_time": "2022-03-26T00:34:44.109210",
     "status": "completed"
    },
    "tags": []
   },
   "outputs": [],
   "source": [
    "#hide\n",
    "COL_REGION = 'Country/Region'\n",
    "# Confirmed, Recovered, Deaths\n",
    "df = get_frame('confirmed')\n",
    "# dft_: timeseries, dfc_: today country agg\n",
    "dft_cases = df\n",
    "dft_deaths = get_frame('deaths')\n",
    "dft_recovered = get_frame('recovered')\n",
    "LAST_DATE_I, dt_cols = get_dates(df)"
   ]
  },
  {
   "cell_type": "code",
   "execution_count": 10,
   "id": "absolute-copper",
   "metadata": {
    "execution": {
     "iopub.execute_input": "2022-03-26T00:34:44.580388Z",
     "iopub.status.busy": "2022-03-26T00:34:44.579804Z",
     "iopub.status.idle": "2022-03-26T00:34:44.581008Z",
     "shell.execute_reply": "2022-03-26T00:34:44.581566Z"
    },
    "papermill": {
     "duration": 0.034568,
     "end_time": "2022-03-26T00:34:44.581717",
     "exception": false,
     "start_time": "2022-03-26T00:34:44.547149",
     "status": "completed"
    },
    "tags": []
   },
   "outputs": [],
   "source": [
    "#hide\n",
    "LAST_DATE_I, dt_cols = get_dates(df)\n",
    "dt_today =dt_cols[LAST_DATE_I]\n",
    "# dt_5day = dt_cols[LAST_DATE_I - 5]\n",
    "dt_yday = dt_cols[LAST_DATE_I - 1]"
   ]
  },
  {
   "cell_type": "code",
   "execution_count": 11,
   "id": "restricted-sheriff",
   "metadata": {
    "execution": {
     "iopub.execute_input": "2022-03-26T00:34:44.650582Z",
     "iopub.status.busy": "2022-03-26T00:34:44.650064Z",
     "iopub.status.idle": "2022-03-26T00:34:44.656168Z",
     "shell.execute_reply": "2022-03-26T00:34:44.655773Z"
    },
    "papermill": {
     "duration": 0.044481,
     "end_time": "2022-03-26T00:34:44.656291",
     "exception": false,
     "start_time": "2022-03-26T00:34:44.611810",
     "status": "completed"
    },
    "tags": []
   },
   "outputs": [],
   "source": [
    "#hide\n",
    "dfc_cases = dft_cases.groupby(COL_REGION)[dt_today].sum()\n",
    "dfc_deaths = dft_deaths.groupby(COL_REGION)[dt_today].sum()\n",
    "# dfp_cases = dft_cases.groupby(COL_REGION)[dt_5day].sum()\n",
    "# dfp_deaths = dft_deaths.groupby(COL_REGION)[dt_5day].sum()\n",
    "dfp_cases = dft_cases.groupby(COL_REGION)[dt_yday].sum()\n",
    "dfp_deaths = dft_deaths.groupby(COL_REGION)[dt_yday].sum()"
   ]
  },
  {
   "cell_type": "code",
   "execution_count": 12,
   "id": "deluxe-hepatitis",
   "metadata": {
    "execution": {
     "iopub.execute_input": "2022-03-26T00:34:44.716408Z",
     "iopub.status.busy": "2022-03-26T00:34:44.715914Z",
     "iopub.status.idle": "2022-03-26T00:34:44.720036Z",
     "shell.execute_reply": "2022-03-26T00:34:44.719663Z"
    },
    "papermill": {
     "duration": 0.036974,
     "end_time": "2022-03-26T00:34:44.720151",
     "exception": false,
     "start_time": "2022-03-26T00:34:44.683177",
     "status": "completed"
    },
    "tags": []
   },
   "outputs": [],
   "source": [
    "#hide\n",
    "df_table = (pd.DataFrame(dict(Cases = dfc_cases, Deaths = dfc_deaths, PCases = dfp_cases, PDeaths = dfp_deaths))\n",
    "            .sort_values(by = ['Cases','Deaths'], ascending = [False, False])\n",
    "            .reset_index())"
   ]
  },
  {
   "cell_type": "code",
   "execution_count": 13,
   "id": "educational-chancellor",
   "metadata": {
    "execution": {
     "iopub.execute_input": "2022-03-26T00:34:44.785246Z",
     "iopub.status.busy": "2022-03-26T00:34:44.784641Z",
     "iopub.status.idle": "2022-03-26T00:34:44.797939Z",
     "shell.execute_reply": "2022-03-26T00:34:44.797409Z"
    },
    "papermill": {
     "duration": 0.051402,
     "end_time": "2022-03-26T00:34:44.798071",
     "exception": false,
     "start_time": "2022-03-26T00:34:44.746669",
     "status": "completed"
    },
    "tags": []
   },
   "outputs": [
    {
     "data": {
      "text/html": [
       "<div>\n",
       "<style scoped>\n",
       "    .dataframe tbody tr th:only-of-type {\n",
       "        vertical-align: middle;\n",
       "    }\n",
       "\n",
       "    .dataframe tbody tr th {\n",
       "        vertical-align: top;\n",
       "    }\n",
       "\n",
       "    .dataframe thead th {\n",
       "        text-align: right;\n",
       "    }\n",
       "</style>\n",
       "<table border=\"1\" class=\"dataframe\">\n",
       "  <thead>\n",
       "    <tr style=\"text-align: right;\">\n",
       "      <th></th>\n",
       "      <th>Country/Region</th>\n",
       "      <th>Cases</th>\n",
       "      <th>Deaths</th>\n",
       "      <th>PCases</th>\n",
       "      <th>PDeaths</th>\n",
       "      <th>Cases (+)</th>\n",
       "      <th>Deaths (+)</th>\n",
       "      <th>Fatality Rate</th>\n",
       "      <th>Continent</th>\n",
       "    </tr>\n",
       "  </thead>\n",
       "  <tbody>\n",
       "    <tr>\n",
       "      <th>0</th>\n",
       "      <td>US</td>\n",
       "      <td>79888564</td>\n",
       "      <td>975863</td>\n",
       "      <td>79844430</td>\n",
       "      <td>974830</td>\n",
       "      <td>44134</td>\n",
       "      <td>1033</td>\n",
       "      <td>1.22</td>\n",
       "      <td>North America</td>\n",
       "    </tr>\n",
       "    <tr>\n",
       "      <th>1</th>\n",
       "      <td>India</td>\n",
       "      <td>43016372</td>\n",
       "      <td>516755</td>\n",
       "      <td>43014687</td>\n",
       "      <td>516672</td>\n",
       "      <td>1685</td>\n",
       "      <td>83</td>\n",
       "      <td>1.20</td>\n",
       "      <td>Asia</td>\n",
       "    </tr>\n",
       "    <tr>\n",
       "      <th>2</th>\n",
       "      <td>Brazil</td>\n",
       "      <td>29775568</td>\n",
       "      <td>658600</td>\n",
       "      <td>29738362</td>\n",
       "      <td>658286</td>\n",
       "      <td>37206</td>\n",
       "      <td>314</td>\n",
       "      <td>2.21</td>\n",
       "      <td>South America</td>\n",
       "    </tr>\n",
       "    <tr>\n",
       "      <th>3</th>\n",
       "      <td>France</td>\n",
       "      <td>24823603</td>\n",
       "      <td>142476</td>\n",
       "      <td>24683075</td>\n",
       "      <td>142362</td>\n",
       "      <td>140528</td>\n",
       "      <td>114</td>\n",
       "      <td>0.57</td>\n",
       "      <td>Europe</td>\n",
       "    </tr>\n",
       "    <tr>\n",
       "      <th>4</th>\n",
       "      <td>United Kingdom</td>\n",
       "      <td>20770686</td>\n",
       "      <td>164874</td>\n",
       "      <td>20669099</td>\n",
       "      <td>164712</td>\n",
       "      <td>101587</td>\n",
       "      <td>162</td>\n",
       "      <td>0.79</td>\n",
       "      <td>Europe</td>\n",
       "    </tr>\n",
       "  </tbody>\n",
       "</table>\n",
       "</div>"
      ],
      "text/plain": [
       "   Country/Region     Cases  Deaths    PCases  PDeaths  Cases (+)  Deaths (+)  \\\n",
       "0              US  79888564  975863  79844430   974830      44134        1033   \n",
       "1           India  43016372  516755  43014687   516672       1685          83   \n",
       "2          Brazil  29775568  658600  29738362   658286      37206         314   \n",
       "3          France  24823603  142476  24683075   142362     140528         114   \n",
       "4  United Kingdom  20770686  164874  20669099   164712     101587         162   \n",
       "\n",
       "   Fatality Rate      Continent  \n",
       "0           1.22  North America  \n",
       "1           1.20           Asia  \n",
       "2           2.21  South America  \n",
       "3           0.57         Europe  \n",
       "4           0.79         Europe  "
      ]
     },
     "execution_count": 13,
     "metadata": {},
     "output_type": "execute_result"
    }
   ],
   "source": [
    "#hide\n",
    "for c in 'Cases, Deaths'.split(', '):\n",
    "    df_table[f'{c} (+)'] = (df_table[c] - df_table[f'P{c}']).clip(0)\n",
    "    #Clip ça veut dire, les chiffres negatif sont interdit\n",
    "df_table['Fatality Rate'] = (100* df_table['Deaths']/ df_table['Cases']).round(2)\n",
    "df_table['Continent'] = df_table['Country/Region'].map(mapping['map.continent'])\n",
    "df_table.head(5)"
   ]
  },
  {
   "cell_type": "code",
   "execution_count": 14,
   "id": "aboriginal-bulgaria",
   "metadata": {
    "execution": {
     "iopub.execute_input": "2022-03-26T00:34:44.865983Z",
     "iopub.status.busy": "2022-03-26T00:34:44.865442Z",
     "iopub.status.idle": "2022-03-26T00:34:44.868578Z",
     "shell.execute_reply": "2022-03-26T00:34:44.868152Z"
    },
    "papermill": {
     "duration": 0.03977,
     "end_time": "2022-03-26T00:34:44.868709",
     "exception": false,
     "start_time": "2022-03-26T00:34:44.828939",
     "status": "completed"
    },
    "tags": []
   },
   "outputs": [],
   "source": [
    "#hide\n",
    "#delete problematic countries from table\n",
    "df_table = df_table[~df_table['Country/Region'].isin(['Cape Verde', 'Cruise Ship', 'Kosovo'])]"
   ]
  },
  {
   "cell_type": "code",
   "execution_count": 15,
   "id": "fantastic-effect",
   "metadata": {
    "execution": {
     "iopub.execute_input": "2022-03-26T00:34:44.939328Z",
     "iopub.status.busy": "2022-03-26T00:34:44.938770Z",
     "iopub.status.idle": "2022-03-26T00:34:44.955331Z",
     "shell.execute_reply": "2022-03-26T00:34:44.956032Z"
    },
    "papermill": {
     "duration": 0.056855,
     "end_time": "2022-03-26T00:34:44.956222",
     "exception": false,
     "start_time": "2022-03-26T00:34:44.899367",
     "status": "completed"
    },
    "tags": []
   },
   "outputs": [
    {
     "data": {
      "text/html": [
       "<div>\n",
       "<style scoped>\n",
       "    .dataframe tbody tr th:only-of-type {\n",
       "        vertical-align: middle;\n",
       "    }\n",
       "\n",
       "    .dataframe tbody tr th {\n",
       "        vertical-align: top;\n",
       "    }\n",
       "\n",
       "    .dataframe thead th {\n",
       "        text-align: right;\n",
       "    }\n",
       "</style>\n",
       "<table border=\"1\" class=\"dataframe\">\n",
       "  <thead>\n",
       "    <tr style=\"text-align: right;\">\n",
       "      <th></th>\n",
       "      <th>Country/Region</th>\n",
       "      <th>Cases</th>\n",
       "      <th>Deaths</th>\n",
       "      <th>PCases</th>\n",
       "      <th>PDeaths</th>\n",
       "      <th>Cases (+)</th>\n",
       "      <th>Deaths (+)</th>\n",
       "      <th>Fatality Rate</th>\n",
       "      <th>Continent</th>\n",
       "    </tr>\n",
       "  </thead>\n",
       "  <tbody>\n",
       "    <tr>\n",
       "      <th>0</th>\n",
       "      <td>US</td>\n",
       "      <td>79888564</td>\n",
       "      <td>975863</td>\n",
       "      <td>79844430</td>\n",
       "      <td>974830</td>\n",
       "      <td>44134</td>\n",
       "      <td>1033</td>\n",
       "      <td>1.2</td>\n",
       "      <td>North America</td>\n",
       "    </tr>\n",
       "    <tr>\n",
       "      <th>1</th>\n",
       "      <td>India</td>\n",
       "      <td>43016372</td>\n",
       "      <td>516755</td>\n",
       "      <td>43014687</td>\n",
       "      <td>516672</td>\n",
       "      <td>1685</td>\n",
       "      <td>83</td>\n",
       "      <td>1.2</td>\n",
       "      <td>Asia</td>\n",
       "    </tr>\n",
       "    <tr>\n",
       "      <th>2</th>\n",
       "      <td>Brazil</td>\n",
       "      <td>29775568</td>\n",
       "      <td>658600</td>\n",
       "      <td>29738362</td>\n",
       "      <td>658286</td>\n",
       "      <td>37206</td>\n",
       "      <td>314</td>\n",
       "      <td>2.2</td>\n",
       "      <td>South America</td>\n",
       "    </tr>\n",
       "    <tr>\n",
       "      <th>3</th>\n",
       "      <td>France</td>\n",
       "      <td>24823603</td>\n",
       "      <td>142476</td>\n",
       "      <td>24683075</td>\n",
       "      <td>142362</td>\n",
       "      <td>140528</td>\n",
       "      <td>114</td>\n",
       "      <td>0.6</td>\n",
       "      <td>Europe</td>\n",
       "    </tr>\n",
       "    <tr>\n",
       "      <th>4</th>\n",
       "      <td>United Kingdom</td>\n",
       "      <td>20770686</td>\n",
       "      <td>164874</td>\n",
       "      <td>20669099</td>\n",
       "      <td>164712</td>\n",
       "      <td>101587</td>\n",
       "      <td>162</td>\n",
       "      <td>0.8</td>\n",
       "      <td>Europe</td>\n",
       "    </tr>\n",
       "  </tbody>\n",
       "</table>\n",
       "</div>"
      ],
      "text/plain": [
       "   Country/Region     Cases  Deaths    PCases  PDeaths  Cases (+)  Deaths (+)  \\\n",
       "0              US  79888564  975863  79844430   974830      44134        1033   \n",
       "1           India  43016372  516755  43014687   516672       1685          83   \n",
       "2          Brazil  29775568  658600  29738362   658286      37206         314   \n",
       "3          France  24823603  142476  24683075   142362     140528         114   \n",
       "4  United Kingdom  20770686  164874  20669099   164712     101587         162   \n",
       "\n",
       "   Fatality Rate      Continent  \n",
       "0            1.2  North America  \n",
       "1            1.2           Asia  \n",
       "2            2.2  South America  \n",
       "3            0.6         Europe  \n",
       "4            0.8         Europe  "
      ]
     },
     "execution_count": 15,
     "metadata": {},
     "output_type": "execute_result"
    }
   ],
   "source": [
    "#hide\n",
    "df_table = (pd.DataFrame(dict(Cases=dfc_cases, Deaths=dfc_deaths, PCases=dfp_cases, PDeaths=dfp_deaths))\n",
    "             .sort_values(by=['Cases', 'Deaths'], ascending=[False, False])\n",
    "             .reset_index())\n",
    "df_table.rename(columns={'index': 'Country/Region'}, inplace=True)\n",
    "for c in 'Cases, Deaths'.split(', '):\n",
    "    df_table[f'{c} (+)'] = (df_table[c] - df_table[f'P{c}']).clip(0)  # DATA BUG\n",
    "df_table['Fatality Rate'] = (100 * df_table['Deaths'] / df_table['Cases']).round(1)\n",
    "df_table['Continent'] = df_table['Country/Region'].map(mapping['map.continent'])\n",
    "df_table.head(5)"
   ]
  },
  {
   "cell_type": "code",
   "execution_count": 16,
   "id": "fewer-occasion",
   "metadata": {
    "execution": {
     "iopub.execute_input": "2022-03-26T00:34:45.027842Z",
     "iopub.status.busy": "2022-03-26T00:34:45.027294Z",
     "iopub.status.idle": "2022-03-26T00:34:45.030582Z",
     "shell.execute_reply": "2022-03-26T00:34:45.030156Z"
    },
    "papermill": {
     "duration": 0.04144,
     "end_time": "2022-03-26T00:34:45.030702",
     "exception": false,
     "start_time": "2022-03-26T00:34:44.989262",
     "status": "completed"
    },
    "tags": []
   },
   "outputs": [],
   "source": [
    "#hide\n",
    "#delete problematic countries from table\n",
    "df_table = df_table[~df_table['Country/Region'].isin(['Cape Verde', 'Cruise Ship', 'Kosovo'])]"
   ]
  },
  {
   "cell_type": "code",
   "execution_count": 17,
   "id": "related-center",
   "metadata": {
    "execution": {
     "iopub.execute_input": "2022-03-26T00:34:45.109676Z",
     "iopub.status.busy": "2022-03-26T00:34:45.109023Z",
     "iopub.status.idle": "2022-03-26T00:34:45.119158Z",
     "shell.execute_reply": "2022-03-26T00:34:45.119599Z"
    },
    "papermill": {
     "duration": 0.056742,
     "end_time": "2022-03-26T00:34:45.119769",
     "exception": false,
     "start_time": "2022-03-26T00:34:45.063027",
     "status": "completed"
    },
    "tags": []
   },
   "outputs": [],
   "source": [
    "#hide\n",
    "metrics = [df_table.columns[index] for index in [1,2,5,6]]\n",
    "# s_china = df_table[df_table['Country/Region'].eq('China')][metrics].sum().add_prefix('China ')\n",
    "s_us = df_table[df_table['Country/Region'].eq('US')][metrics].sum().add_prefix('US ')\n",
    "s_eu = df_table[df_table['Continent'].eq('Europe')][metrics].sum().add_prefix('EU ')\n",
    "s_ind = df_table[df_table['Country/Region'].eq('India')][metrics].sum().add_prefix('India ')\n",
    "summary = {'updated': pd.to_datetime(dt_today), 'since': pd.to_datetime(dt_yday)}\n",
    "summary = {'updated': pd.to_datetime(dt_today), 'since': pd.to_datetime(dt_yday)}\n",
    "summary = {**summary, **df_table[metrics].sum(), **s_ind, **s_us, **s_eu}"
   ]
  },
  {
   "cell_type": "code",
   "execution_count": 18,
   "id": "engaging-syndrome",
   "metadata": {
    "execution": {
     "iopub.execute_input": "2022-03-26T00:34:45.193433Z",
     "iopub.status.busy": "2022-03-26T00:34:45.192828Z",
     "iopub.status.idle": "2022-03-26T00:34:45.210157Z",
     "shell.execute_reply": "2022-03-26T00:34:45.210572Z"
    },
    "papermill": {
     "duration": 0.058569,
     "end_time": "2022-03-26T00:34:45.210726",
     "exception": false,
     "start_time": "2022-03-26T00:34:45.152157",
     "status": "completed"
    },
    "tags": []
   },
   "outputs": [],
   "source": [
    "#hide\n",
    "dft_ct_new_cases = dft_cases.groupby(COL_REGION)[dt_cols].sum().diff(axis=1).fillna(0).astype(int)"
   ]
  },
  {
   "cell_type": "code",
   "execution_count": 19,
   "id": "neutral-assignment",
   "metadata": {
    "execution": {
     "iopub.execute_input": "2022-03-26T00:34:45.269926Z",
     "iopub.status.busy": "2022-03-26T00:34:45.269426Z",
     "iopub.status.idle": "2022-03-26T00:34:45.274019Z",
     "shell.execute_reply": "2022-03-26T00:34:45.274458Z"
    },
    "papermill": {
     "duration": 0.036469,
     "end_time": "2022-03-26T00:34:45.274589",
     "exception": false,
     "start_time": "2022-03-26T00:34:45.238120",
     "status": "completed"
    },
    "tags": []
   },
   "outputs": [],
   "source": [
    "#hide\n",
    "everydaycases = dft_ct_new_cases.cumsum(axis=1)"
   ]
  },
  {
   "cell_type": "code",
   "execution_count": 20,
   "id": "parliamentary-calgary",
   "metadata": {
    "execution": {
     "iopub.execute_input": "2022-03-26T00:34:45.333631Z",
     "iopub.status.busy": "2022-03-26T00:34:45.333139Z",
     "iopub.status.idle": "2022-03-26T00:34:45.996736Z",
     "shell.execute_reply": "2022-03-26T00:34:45.997269Z"
    },
    "papermill": {
     "duration": 0.695672,
     "end_time": "2022-03-26T00:34:45.997450",
     "exception": false,
     "start_time": "2022-03-26T00:34:45.301778",
     "status": "completed"
    },
    "tags": []
   },
   "outputs": [],
   "source": [
    "#hide\n",
    "import pandas as pd\n",
    "import matplotlib.pyplot as plt\n",
    "import matplotlib.ticker as ticker\n",
    "import matplotlib.animation as animation\n",
    "from IPython.display import HTML"
   ]
  },
  {
   "cell_type": "code",
   "execution_count": 21,
   "id": "lasting-extraction",
   "metadata": {
    "execution": {
     "iopub.execute_input": "2022-03-26T00:34:46.066118Z",
     "iopub.status.busy": "2022-03-26T00:34:46.065581Z",
     "iopub.status.idle": "2022-03-26T00:34:46.073026Z",
     "shell.execute_reply": "2022-03-26T00:34:46.072572Z"
    },
    "papermill": {
     "duration": 0.044668,
     "end_time": "2022-03-26T00:34:46.073177",
     "exception": false,
     "start_time": "2022-03-26T00:34:46.028509",
     "status": "completed"
    },
    "tags": []
   },
   "outputs": [],
   "source": [
    "#hide\n",
    "t = everydaycases.stack()"
   ]
  },
  {
   "cell_type": "code",
   "execution_count": 22,
   "id": "premier-sleeve",
   "metadata": {
    "execution": {
     "iopub.execute_input": "2022-03-26T00:34:46.139381Z",
     "iopub.status.busy": "2022-03-26T00:34:46.138840Z",
     "iopub.status.idle": "2022-03-26T00:34:46.148943Z",
     "shell.execute_reply": "2022-03-26T00:34:46.148519Z"
    },
    "papermill": {
     "duration": 0.044995,
     "end_time": "2022-03-26T00:34:46.149088",
     "exception": false,
     "start_time": "2022-03-26T00:34:46.104093",
     "status": "completed"
    },
    "tags": []
   },
   "outputs": [],
   "source": [
    "#hide\n",
    "g = t.reset_index(['Country/Region'])"
   ]
  },
  {
   "cell_type": "code",
   "execution_count": 23,
   "id": "distributed-pittsburgh",
   "metadata": {
    "execution": {
     "iopub.execute_input": "2022-03-26T00:34:46.214239Z",
     "iopub.status.busy": "2022-03-26T00:34:46.213764Z",
     "iopub.status.idle": "2022-03-26T00:34:46.216043Z",
     "shell.execute_reply": "2022-03-26T00:34:46.215585Z"
    },
    "papermill": {
     "duration": 0.036632,
     "end_time": "2022-03-26T00:34:46.216149",
     "exception": false,
     "start_time": "2022-03-26T00:34:46.179517",
     "status": "completed"
    },
    "tags": []
   },
   "outputs": [],
   "source": [
    "#hide\n",
    "g.index.name = 'date'"
   ]
  },
  {
   "cell_type": "code",
   "execution_count": 24,
   "id": "naked-donor",
   "metadata": {
    "execution": {
     "iopub.execute_input": "2022-03-26T00:34:46.274163Z",
     "iopub.status.busy": "2022-03-26T00:34:46.273619Z",
     "iopub.status.idle": "2022-03-26T00:34:46.276784Z",
     "shell.execute_reply": "2022-03-26T00:34:46.277190Z"
    },
    "papermill": {
     "duration": 0.034118,
     "end_time": "2022-03-26T00:34:46.277331",
     "exception": false,
     "start_time": "2022-03-26T00:34:46.243213",
     "status": "completed"
    },
    "tags": []
   },
   "outputs": [],
   "source": [
    "# #hide\n",
    "# g = g.reset_index(['date'])"
   ]
  },
  {
   "cell_type": "code",
   "execution_count": 25,
   "id": "incomplete-mustang",
   "metadata": {
    "execution": {
     "iopub.execute_input": "2022-03-26T00:34:46.342007Z",
     "iopub.status.busy": "2022-03-26T00:34:46.341406Z",
     "iopub.status.idle": "2022-03-26T00:34:46.343477Z",
     "shell.execute_reply": "2022-03-26T00:34:46.342907Z"
    },
    "papermill": {
     "duration": 0.035927,
     "end_time": "2022-03-26T00:34:46.343600",
     "exception": false,
     "start_time": "2022-03-26T00:34:46.307673",
     "status": "completed"
    },
    "tags": []
   },
   "outputs": [],
   "source": [
    "#hide\n",
    "# g.head()"
   ]
  },
  {
   "cell_type": "code",
   "execution_count": 26,
   "id": "specific-kruger",
   "metadata": {
    "execution": {
     "iopub.execute_input": "2022-03-26T00:34:46.401962Z",
     "iopub.status.busy": "2022-03-26T00:34:46.401493Z",
     "iopub.status.idle": "2022-03-26T00:34:46.403329Z",
     "shell.execute_reply": "2022-03-26T00:34:46.403764Z"
    },
    "papermill": {
     "duration": 0.032876,
     "end_time": "2022-03-26T00:34:46.403885",
     "exception": false,
     "start_time": "2022-03-26T00:34:46.371009",
     "status": "completed"
    },
    "tags": []
   },
   "outputs": [],
   "source": [
    "#hide\n",
    "# g.columns = ['date','country','cases']"
   ]
  },
  {
   "cell_type": "code",
   "execution_count": 27,
   "id": "tender-conversion",
   "metadata": {
    "execution": {
     "iopub.execute_input": "2022-03-26T00:34:46.462318Z",
     "iopub.status.busy": "2022-03-26T00:34:46.461670Z",
     "iopub.status.idle": "2022-03-26T00:34:46.465176Z",
     "shell.execute_reply": "2022-03-26T00:34:46.465626Z"
    },
    "papermill": {
     "duration": 0.035013,
     "end_time": "2022-03-26T00:34:46.465785",
     "exception": false,
     "start_time": "2022-03-26T00:34:46.430772",
     "status": "completed"
    },
    "tags": []
   },
   "outputs": [],
   "source": [
    "#hide\n",
    "# g['continent'] = g.country"
   ]
  },
  {
   "cell_type": "code",
   "execution_count": 28,
   "id": "substantial-wilderness",
   "metadata": {
    "execution": {
     "iopub.execute_input": "2022-03-26T00:34:46.533090Z",
     "iopub.status.busy": "2022-03-26T00:34:46.532469Z",
     "iopub.status.idle": "2022-03-26T00:34:46.534275Z",
     "shell.execute_reply": "2022-03-26T00:34:46.534708Z"
    },
    "papermill": {
     "duration": 0.037367,
     "end_time": "2022-03-26T00:34:46.534863",
     "exception": false,
     "start_time": "2022-03-26T00:34:46.497496",
     "status": "completed"
    },
    "tags": []
   },
   "outputs": [],
   "source": [
    "#hide\n",
    "# cols = list(g.columns.values)"
   ]
  },
  {
   "cell_type": "code",
   "execution_count": 29,
   "id": "solved-farming",
   "metadata": {
    "execution": {
     "iopub.execute_input": "2022-03-26T00:34:46.593044Z",
     "iopub.status.busy": "2022-03-26T00:34:46.592451Z",
     "iopub.status.idle": "2022-03-26T00:34:46.595590Z",
     "shell.execute_reply": "2022-03-26T00:34:46.596031Z"
    },
    "papermill": {
     "duration": 0.033876,
     "end_time": "2022-03-26T00:34:46.596178",
     "exception": false,
     "start_time": "2022-03-26T00:34:46.562302",
     "status": "completed"
    },
    "tags": []
   },
   "outputs": [],
   "source": [
    "#hide\n",
    "# cols.insert(0, cols.pop())"
   ]
  },
  {
   "cell_type": "code",
   "execution_count": 30,
   "id": "executed-adoption",
   "metadata": {
    "execution": {
     "iopub.execute_input": "2022-03-26T00:34:46.662483Z",
     "iopub.status.busy": "2022-03-26T00:34:46.661958Z",
     "iopub.status.idle": "2022-03-26T00:34:46.664256Z",
     "shell.execute_reply": "2022-03-26T00:34:46.663846Z"
    },
    "papermill": {
     "duration": 0.03651,
     "end_time": "2022-03-26T00:34:46.664371",
     "exception": false,
     "start_time": "2022-03-26T00:34:46.627861",
     "status": "completed"
    },
    "tags": []
   },
   "outputs": [],
   "source": [
    "#hide\n",
    "# g = g[cols]"
   ]
  },
  {
   "cell_type": "code",
   "execution_count": 31,
   "id": "subject-dublin",
   "metadata": {
    "execution": {
     "iopub.execute_input": "2022-03-26T00:34:46.730129Z",
     "iopub.status.busy": "2022-03-26T00:34:46.729619Z",
     "iopub.status.idle": "2022-03-26T00:34:46.731616Z",
     "shell.execute_reply": "2022-03-26T00:34:46.731230Z"
    },
    "papermill": {
     "duration": 0.036459,
     "end_time": "2022-03-26T00:34:46.731716",
     "exception": false,
     "start_time": "2022-03-26T00:34:46.695257",
     "status": "completed"
    },
    "tags": []
   },
   "outputs": [],
   "source": [
    "#hide\n",
    "# g['continent'] = g['continent'].map(mapping['map.continent'])"
   ]
  },
  {
   "cell_type": "code",
   "execution_count": 32,
   "id": "freelance-scout",
   "metadata": {
    "execution": {
     "iopub.execute_input": "2022-03-26T00:34:46.789971Z",
     "iopub.status.busy": "2022-03-26T00:34:46.789361Z",
     "iopub.status.idle": "2022-03-26T00:34:46.792638Z",
     "shell.execute_reply": "2022-03-26T00:34:46.793024Z"
    },
    "papermill": {
     "duration": 0.034371,
     "end_time": "2022-03-26T00:34:46.793180",
     "exception": false,
     "start_time": "2022-03-26T00:34:46.758809",
     "status": "completed"
    },
    "tags": []
   },
   "outputs": [],
   "source": [
    "#hide\n",
    "# g.head()"
   ]
  },
  {
   "cell_type": "code",
   "execution_count": 33,
   "id": "limited-engine",
   "metadata": {
    "execution": {
     "iopub.execute_input": "2022-03-26T00:34:46.871128Z",
     "iopub.status.busy": "2022-03-26T00:34:46.870510Z",
     "iopub.status.idle": "2022-03-26T00:34:46.872594Z",
     "shell.execute_reply": "2022-03-26T00:34:46.872205Z"
    },
    "papermill": {
     "duration": 0.048442,
     "end_time": "2022-03-26T00:34:46.872701",
     "exception": false,
     "start_time": "2022-03-26T00:34:46.824259",
     "status": "completed"
    },
    "tags": []
   },
   "outputs": [],
   "source": [
    "# hide\n",
    "# g['date'] = g['date'].astype('datetime64[ns]')"
   ]
  },
  {
   "cell_type": "code",
   "execution_count": 34,
   "id": "sophisticated-supervisor",
   "metadata": {
    "execution": {
     "iopub.execute_input": "2022-03-26T00:34:46.932421Z",
     "iopub.status.busy": "2022-03-26T00:34:46.931785Z",
     "iopub.status.idle": "2022-03-26T00:34:46.935297Z",
     "shell.execute_reply": "2022-03-26T00:34:46.935686Z"
    },
    "papermill": {
     "duration": 0.035582,
     "end_time": "2022-03-26T00:34:46.935831",
     "exception": false,
     "start_time": "2022-03-26T00:34:46.900249",
     "status": "completed"
    },
    "tags": []
   },
   "outputs": [],
   "source": [
    "#hide\n",
    "# g['date'] = g.date.dt.dayofyear"
   ]
  },
  {
   "cell_type": "code",
   "execution_count": 35,
   "id": "inside-dubai",
   "metadata": {
    "execution": {
     "iopub.execute_input": "2022-03-26T00:34:47.003006Z",
     "iopub.status.busy": "2022-03-26T00:34:47.002394Z",
     "iopub.status.idle": "2022-03-26T00:34:47.004400Z",
     "shell.execute_reply": "2022-03-26T00:34:47.003937Z"
    },
    "papermill": {
     "duration": 0.037172,
     "end_time": "2022-03-26T00:34:47.004510",
     "exception": false,
     "start_time": "2022-03-26T00:34:46.967338",
     "status": "completed"
    },
    "tags": []
   },
   "outputs": [],
   "source": [
    "#hide\n",
    "# g = g.rename(columns= {'continent':'group','country':'name','cases':'value'})"
   ]
  },
  {
   "cell_type": "code",
   "execution_count": 36,
   "id": "fleet-motorcycle",
   "metadata": {
    "execution": {
     "iopub.execute_input": "2022-03-26T00:34:47.062808Z",
     "iopub.status.busy": "2022-03-26T00:34:47.062335Z",
     "iopub.status.idle": "2022-03-26T00:34:47.064780Z",
     "shell.execute_reply": "2022-03-26T00:34:47.064391Z"
    },
    "papermill": {
     "duration": 0.033052,
     "end_time": "2022-03-26T00:34:47.064890",
     "exception": false,
     "start_time": "2022-03-26T00:34:47.031838",
     "status": "completed"
    },
    "tags": []
   },
   "outputs": [],
   "source": [
    "#hide\n",
    "# cols = ['name','group','day','value']"
   ]
  },
  {
   "cell_type": "code",
   "execution_count": 37,
   "id": "continued-sleeping",
   "metadata": {
    "execution": {
     "iopub.execute_input": "2022-03-26T00:34:47.122418Z",
     "iopub.status.busy": "2022-03-26T00:34:47.121950Z",
     "iopub.status.idle": "2022-03-26T00:34:47.123817Z",
     "shell.execute_reply": "2022-03-26T00:34:47.124180Z"
    },
    "papermill": {
     "duration": 0.032464,
     "end_time": "2022-03-26T00:34:47.124300",
     "exception": false,
     "start_time": "2022-03-26T00:34:47.091836",
     "status": "completed"
    },
    "tags": []
   },
   "outputs": [],
   "source": [
    "#hide\n",
    "# g.rename(columns= {'date':'day'},inplace = True)"
   ]
  },
  {
   "cell_type": "code",
   "execution_count": 38,
   "id": "major-fight",
   "metadata": {
    "execution": {
     "iopub.execute_input": "2022-03-26T00:34:47.182867Z",
     "iopub.status.busy": "2022-03-26T00:34:47.182217Z",
     "iopub.status.idle": "2022-03-26T00:34:47.185662Z",
     "shell.execute_reply": "2022-03-26T00:34:47.186102Z"
    },
    "papermill": {
     "duration": 0.034737,
     "end_time": "2022-03-26T00:34:47.186256",
     "exception": false,
     "start_time": "2022-03-26T00:34:47.151519",
     "status": "completed"
    },
    "tags": []
   },
   "outputs": [],
   "source": [
    "#hide\n",
    "# g = g[cols]"
   ]
  },
  {
   "cell_type": "code",
   "execution_count": 39,
   "id": "structured-mobile",
   "metadata": {
    "execution": {
     "iopub.execute_input": "2022-03-26T00:34:47.248152Z",
     "iopub.status.busy": "2022-03-26T00:34:47.247550Z",
     "iopub.status.idle": "2022-03-26T00:34:47.249540Z",
     "shell.execute_reply": "2022-03-26T00:34:47.249168Z"
    },
    "papermill": {
     "duration": 0.032274,
     "end_time": "2022-03-26T00:34:47.249646",
     "exception": false,
     "start_time": "2022-03-26T00:34:47.217372",
     "status": "completed"
    },
    "tags": []
   },
   "outputs": [],
   "source": [
    "# #hide\n",
    "# g = g[g.group.notna()]"
   ]
  },
  {
   "cell_type": "code",
   "execution_count": 40,
   "id": "determined-closing",
   "metadata": {
    "execution": {
     "iopub.execute_input": "2022-03-26T00:34:47.307615Z",
     "iopub.status.busy": "2022-03-26T00:34:47.307000Z",
     "iopub.status.idle": "2022-03-26T00:34:47.310617Z",
     "shell.execute_reply": "2022-03-26T00:34:47.311004Z"
    },
    "papermill": {
     "duration": 0.034479,
     "end_time": "2022-03-26T00:34:47.311139",
     "exception": false,
     "start_time": "2022-03-26T00:34:47.276660",
     "status": "completed"
    },
    "tags": []
   },
   "outputs": [],
   "source": [
    "# #hide\n",
    "# colors = dict(zip(\n",
    "#     [\"Oceania\", \"Europe\", \"Asia\", \"South America\", \"Middle East\", \"North America\", \"Africa\"],\n",
    "#     [\"#adb0ff\", \"#ffb3ff\", \"#90d595\", \"#e48381\", \"#aafbff\", \"#f7bb5f\", \"#eafb50\"]\n",
    "# ))\n",
    "# group_lk = g.set_index('name')['group'].to_dict()"
   ]
  },
  {
   "cell_type": "code",
   "execution_count": null,
   "id": "gross-drinking",
   "metadata": {
    "papermill": {
     "duration": 0.031897,
     "end_time": "2022-03-26T00:34:47.373751",
     "exception": false,
     "start_time": "2022-03-26T00:34:47.341854",
     "status": "completed"
    },
    "tags": []
   },
   "outputs": [],
   "source": []
  },
  {
   "cell_type": "code",
   "execution_count": 41,
   "id": "subject-macintosh",
   "metadata": {
    "execution": {
     "iopub.execute_input": "2022-03-26T00:34:47.448356Z",
     "iopub.status.busy": "2022-03-26T00:34:47.447696Z",
     "iopub.status.idle": "2022-03-26T00:34:47.449273Z",
     "shell.execute_reply": "2022-03-26T00:34:47.449751Z"
    },
    "papermill": {
     "duration": 0.043898,
     "end_time": "2022-03-26T00:34:47.449908",
     "exception": false,
     "start_time": "2022-03-26T00:34:47.406010",
     "status": "completed"
    },
    "tags": []
   },
   "outputs": [],
   "source": [
    "# #hide\n",
    "# fig, ax = plt.subplots(figsize=(15, 8))\n",
    "\n",
    "# def draw_barchart(current_day):\n",
    "#     dff = g[g['day'].eq(current_day)].sort_values(by='value', ascending=True).tail(10)\n",
    "#     ax.clear()\n",
    "#     ax.barh(dff['name'], dff['value'], color=[colors[group_lk[x]] for x in dff['name']])\n",
    "#     dx = dff['value'].max() / 200\n",
    "    \n",
    "#     for i, (value, name) in enumerate(zip(dff['value'], dff['name'])):\n",
    "#         ax.text(value-dx, i,     name,           size=14, weight=600, ha='right', va='bottom')\n",
    "#         ax.text(value-dx, i-.25, group_lk[name], size=10, color='#444444', ha='right', va='baseline')\n",
    "#         ax.text(value+dx, i,     f'{value:,.0f}',  size=14, ha='left',  va='center')\n",
    "#     ax.text(1, 0.4, current_day, transform=ax.transAxes, color='#777777', size=46, ha='right', weight=800)\n",
    "#     ax.text(0, 1.06, 'Population (thousands)', transform=ax.transAxes, size=12, color='#777777')\n",
    "#     ax.xaxis.set_major_formatter(ticker.StrMethodFormatter('{x:,.0f}'))\n",
    "#     ax.xaxis.set_ticks_position('top')\n",
    "#     ax.tick_params(axis='x', colors='#777777', labelsize=12)\n",
    "#     ax.set_yticks([])\n",
    "#     ax.margins(0, 0.01)\n",
    "#     ax.grid(which='major', axis='x', linestyle='-')\n",
    "#     ax.set_axisbelow(True)\n",
    "    \n",
    "#     ax.text(0, 1.15, 'Coronavirus',\n",
    "#             transform=ax.transAxes, size=24, weight=600, ha='left', va='top')\n",
    "# #     ax.text(1, 0, 'by @pratapvardhan; credit @jburnmurdoch', transform=ax.transAxes, color='#777777', ha='right',\n",
    "# #             bbox=dict(facecolor='white', alpha=0.8, edgecolor='white'))\n",
    "#     plt.box(False)"
   ]
  },
  {
   "cell_type": "code",
   "execution_count": 42,
   "id": "sexual-wages",
   "metadata": {
    "execution": {
     "iopub.execute_input": "2022-03-26T00:34:47.508930Z",
     "iopub.status.busy": "2022-03-26T00:34:47.508292Z",
     "iopub.status.idle": "2022-03-26T00:34:47.511781Z",
     "shell.execute_reply": "2022-03-26T00:34:47.512227Z"
    },
    "papermill": {
     "duration": 0.034887,
     "end_time": "2022-03-26T00:34:47.512382",
     "exception": false,
     "start_time": "2022-03-26T00:34:47.477495",
     "status": "completed"
    },
    "tags": []
   },
   "outputs": [],
   "source": [
    "# #hide_input\n",
    "# fig, ax = plt.subplots(figsize=(15, 8))\n",
    "# animator = animation.FuncAnimation(fig, draw_barchart, frames=range(g.day.values.min(), g.day.values.max()))\n",
    "# HTML(animator.to_jshtml())\n",
    "# # or use animator.to_html5_video() or animator.save() "
   ]
  },
  {
   "cell_type": "code",
   "execution_count": null,
   "id": "australian-container",
   "metadata": {
    "papermill": {
     "duration": 0.031134,
     "end_time": "2022-03-26T00:34:47.576067",
     "exception": false,
     "start_time": "2022-03-26T00:34:47.544933",
     "status": "completed"
    },
    "tags": []
   },
   "outputs": [],
   "source": []
  },
  {
   "cell_type": "code",
   "execution_count": null,
   "id": "mediterranean-pontiac",
   "metadata": {
    "papermill": {
     "duration": 0.03087,
     "end_time": "2022-03-26T00:34:47.638253",
     "exception": false,
     "start_time": "2022-03-26T00:34:47.607383",
     "status": "completed"
    },
    "tags": []
   },
   "outputs": [],
   "source": []
  },
  {
   "cell_type": "code",
   "execution_count": null,
   "id": "aging-legislature",
   "metadata": {
    "papermill": {
     "duration": 0.036164,
     "end_time": "2022-03-26T00:34:47.706211",
     "exception": false,
     "start_time": "2022-03-26T00:34:47.670047",
     "status": "completed"
    },
    "tags": []
   },
   "outputs": [],
   "source": []
  }
 ],
 "metadata": {
  "kernelspec": {
   "display_name": "Python 3",
   "language": "python",
   "name": "python3"
  },
  "language_info": {
   "codemirror_mode": {
    "name": "ipython",
    "version": 3
   },
   "file_extension": ".py",
   "mimetype": "text/x-python",
   "name": "python",
   "nbconvert_exporter": "python",
   "pygments_lexer": "ipython3",
   "version": "3.6.15"
  },
  "papermill": {
   "duration": 5.909429,
   "end_time": "2022-03-26T00:34:48.154783",
   "environment_variables": {},
   "exception": null,
   "input_path": "2020-03-21-covid19exp.ipynb",
   "output_path": "2020-03-21-covid19exp.ipynb",
   "parameters": {},
   "start_time": "2022-03-26T00:34:42.245354",
   "version": "2.0.0"
  }
 },
 "nbformat": 4,
 "nbformat_minor": 5
}