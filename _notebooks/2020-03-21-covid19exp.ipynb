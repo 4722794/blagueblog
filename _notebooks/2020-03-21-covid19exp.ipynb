{
 "cells": [
  {
   "cell_type": "markdown",
   "id": "muslim-click",
   "metadata": {
    "papermill": {
     "duration": 0.039248,
     "end_time": "2022-05-09T00:40:13.434858",
     "exception": false,
     "start_time": "2022-05-09T00:40:13.395610",
     "status": "completed"
    },
    "tags": []
   },
   "source": [
    "# COVID-19 Case Race\n",
    "> A race chart to see rising cases around the world\n",
    "\n",
    "- author: Hargun Oberoi\n",
    "- image: images/covid-overview.png\n",
    "- hide: false\n",
    "- badges: false"
   ]
  },
  {
   "cell_type": "code",
   "execution_count": 1,
   "id": "proof-material",
   "metadata": {
    "execution": {
     "iopub.execute_input": "2022-05-09T00:40:13.515454Z",
     "iopub.status.busy": "2022-05-09T00:40:13.514877Z",
     "iopub.status.idle": "2022-05-09T00:40:13.858405Z",
     "shell.execute_reply": "2022-05-09T00:40:13.857875Z"
    },
    "papermill": {
     "duration": 0.387479,
     "end_time": "2022-05-09T00:40:13.858565",
     "exception": false,
     "start_time": "2022-05-09T00:40:13.471086",
     "status": "completed"
    },
    "tags": []
   },
   "outputs": [],
   "source": [
    "#hide\n",
    "import numpy as np\n",
    "import pandas as pd\n",
    "from jinja2 import Template\n",
    "from IPython.display import HTML"
   ]
  },
  {
   "cell_type": "code",
   "execution_count": 2,
   "id": "developed-terminology",
   "metadata": {
    "execution": {
     "iopub.execute_input": "2022-05-09T00:40:13.936999Z",
     "iopub.status.busy": "2022-05-09T00:40:13.936382Z",
     "iopub.status.idle": "2022-05-09T00:40:13.939145Z",
     "shell.execute_reply": "2022-05-09T00:40:13.938575Z"
    },
    "papermill": {
     "duration": 0.044659,
     "end_time": "2022-05-09T00:40:13.939271",
     "exception": false,
     "start_time": "2022-05-09T00:40:13.894612",
     "status": "completed"
    },
    "tags": []
   },
   "outputs": [],
   "source": [
    "#hide\n",
    "\n",
    "# FETCH\n",
    "base_url = 'https://raw.githubusercontent.com/pratapvardhan/notebooks/master/covid19/'\n",
    "paths = {\n",
    "    'mapping': base_url + 'mapping_countries.csv',\n",
    "    'overview': base_url + 'overview.tpl'\n",
    "}"
   ]
  },
  {
   "cell_type": "code",
   "execution_count": 3,
   "id": "dynamic-saver",
   "metadata": {
    "execution": {
     "iopub.execute_input": "2022-05-09T00:40:14.021251Z",
     "iopub.status.busy": "2022-05-09T00:40:14.020627Z",
     "iopub.status.idle": "2022-05-09T00:40:14.023189Z",
     "shell.execute_reply": "2022-05-09T00:40:14.023864Z"
    },
    "papermill": {
     "duration": 0.049757,
     "end_time": "2022-05-09T00:40:14.024010",
     "exception": false,
     "start_time": "2022-05-09T00:40:13.974253",
     "status": "completed"
    },
    "tags": []
   },
   "outputs": [
    {
     "data": {
      "text/plain": [
       "'https://raw.githubusercontent.com/pratapvardhan/notebooks/master/covid19/mapping_countries.csv'"
      ]
     },
     "execution_count": 3,
     "metadata": {},
     "output_type": "execute_result"
    }
   ],
   "source": [
    "#hide\n",
    "paths['mapping']"
   ]
  },
  {
   "cell_type": "code",
   "execution_count": 4,
   "id": "urban-software",
   "metadata": {
    "execution": {
     "iopub.execute_input": "2022-05-09T00:40:14.105559Z",
     "iopub.status.busy": "2022-05-09T00:40:14.104921Z",
     "iopub.status.idle": "2022-05-09T00:40:14.107875Z",
     "shell.execute_reply": "2022-05-09T00:40:14.107284Z"
    },
    "papermill": {
     "duration": 0.045684,
     "end_time": "2022-05-09T00:40:14.108017",
     "exception": false,
     "start_time": "2022-05-09T00:40:14.062333",
     "status": "completed"
    },
    "tags": []
   },
   "outputs": [],
   "source": [
    "#hide\n",
    "def get_mappings(url):\n",
    "    df = pd.read_csv(url)\n",
    "    return {\n",
    "        'df': df,\n",
    "        'replace.country': dict(df.dropna(subset=['Name']).set_index('Country')['Name']),\n",
    "        'map.continent': dict(df.set_index('Name')['Continent'])\n",
    "    }"
   ]
  },
  {
   "cell_type": "code",
   "execution_count": 5,
   "id": "intimate-machinery",
   "metadata": {
    "execution": {
     "iopub.execute_input": "2022-05-09T00:40:14.189461Z",
     "iopub.status.busy": "2022-05-09T00:40:14.188763Z",
     "iopub.status.idle": "2022-05-09T00:40:14.221676Z",
     "shell.execute_reply": "2022-05-09T00:40:14.221155Z"
    },
    "papermill": {
     "duration": 0.076679,
     "end_time": "2022-05-09T00:40:14.221833",
     "exception": false,
     "start_time": "2022-05-09T00:40:14.145154",
     "status": "completed"
    },
    "tags": []
   },
   "outputs": [],
   "source": [
    "#hide\n",
    "mapping = get_mappings(paths['mapping'])"
   ]
  },
  {
   "cell_type": "code",
   "execution_count": 6,
   "id": "certified-tactics",
   "metadata": {
    "execution": {
     "iopub.execute_input": "2022-05-09T00:40:14.301901Z",
     "iopub.status.busy": "2022-05-09T00:40:14.301292Z",
     "iopub.status.idle": "2022-05-09T00:40:14.304918Z",
     "shell.execute_reply": "2022-05-09T00:40:14.305362Z"
    },
    "papermill": {
     "duration": 0.04672,
     "end_time": "2022-05-09T00:40:14.305502",
     "exception": false,
     "start_time": "2022-05-09T00:40:14.258782",
     "status": "completed"
    },
    "tags": []
   },
   "outputs": [],
   "source": [
    "#hide\n",
    "def get_template(path):\n",
    "    from urllib.parse import urlparse\n",
    "    if bool(urlparse(path).netloc):\n",
    "        from urllib.request import urlopen\n",
    "        return urlopen(path).read().decode('utf8')\n",
    "    return open(path).read()"
   ]
  },
  {
   "cell_type": "code",
   "execution_count": 7,
   "id": "realistic-blast",
   "metadata": {
    "execution": {
     "iopub.execute_input": "2022-05-09T00:40:14.381415Z",
     "iopub.status.busy": "2022-05-09T00:40:14.380849Z",
     "iopub.status.idle": "2022-05-09T00:40:14.384514Z",
     "shell.execute_reply": "2022-05-09T00:40:14.384946Z"
    },
    "papermill": {
     "duration": 0.043885,
     "end_time": "2022-05-09T00:40:14.385084",
     "exception": false,
     "start_time": "2022-05-09T00:40:14.341199",
     "status": "completed"
    },
    "tags": []
   },
   "outputs": [],
   "source": [
    "#hide\n",
    "def get_frame(name):\n",
    "    url = (\n",
    "        'https://raw.githubusercontent.com/CSSEGISandData/COVID-19/master/csse_covid_19_data/'\n",
    "        f'csse_covid_19_time_series/time_series_covid19_{name}_global.csv')\n",
    "    df = pd.read_csv(url)\n",
    "    # rename countries\n",
    "    df['Country/Region'] = df['Country/Region'].replace(mapping['replace.country'])\n",
    "    return df"
   ]
  },
  {
   "cell_type": "code",
   "execution_count": 8,
   "id": "affiliated-characterization",
   "metadata": {
    "execution": {
     "iopub.execute_input": "2022-05-09T00:40:14.454969Z",
     "iopub.status.busy": "2022-05-09T00:40:14.454379Z",
     "iopub.status.idle": "2022-05-09T00:40:14.456645Z",
     "shell.execute_reply": "2022-05-09T00:40:14.456179Z"
    },
    "papermill": {
     "duration": 0.03936,
     "end_time": "2022-05-09T00:40:14.456748",
     "exception": false,
     "start_time": "2022-05-09T00:40:14.417388",
     "status": "completed"
    },
    "tags": []
   },
   "outputs": [],
   "source": [
    "#hide\n",
    "def get_dates(df):\n",
    "    dt_cols = df.columns[~df.columns.isin(['Province/State', 'Country/Region', 'Lat', 'Long'])]\n",
    "    LAST_DATE_I = -1\n",
    "    # sometimes last column may be empty, then go backwards\n",
    "    for i in range(-1, -len(dt_cols), -1):\n",
    "        if not df[dt_cols[i]].fillna(0).eq(0).all():\n",
    "            LAST_DATE_I = i\n",
    "            break\n",
    "    return LAST_DATE_I, dt_cols"
   ]
  },
  {
   "cell_type": "code",
   "execution_count": 9,
   "id": "recent-optimization",
   "metadata": {
    "execution": {
     "iopub.execute_input": "2022-05-09T00:40:14.524180Z",
     "iopub.status.busy": "2022-05-09T00:40:14.523545Z",
     "iopub.status.idle": "2022-05-09T00:40:15.886029Z",
     "shell.execute_reply": "2022-05-09T00:40:15.885167Z"
    },
    "papermill": {
     "duration": 1.397504,
     "end_time": "2022-05-09T00:40:15.886185",
     "exception": false,
     "start_time": "2022-05-09T00:40:14.488681",
     "status": "completed"
    },
    "tags": []
   },
   "outputs": [],
   "source": [
    "#hide\n",
    "COL_REGION = 'Country/Region'\n",
    "# Confirmed, Recovered, Deaths\n",
    "df = get_frame('confirmed')\n",
    "# dft_: timeseries, dfc_: today country agg\n",
    "dft_cases = df\n",
    "dft_deaths = get_frame('deaths')\n",
    "dft_recovered = get_frame('recovered')\n",
    "LAST_DATE_I, dt_cols = get_dates(df)"
   ]
  },
  {
   "cell_type": "code",
   "execution_count": 10,
   "id": "absolute-copper",
   "metadata": {
    "execution": {
     "iopub.execute_input": "2022-05-09T00:40:15.959364Z",
     "iopub.status.busy": "2022-05-09T00:40:15.958802Z",
     "iopub.status.idle": "2022-05-09T00:40:15.961217Z",
     "shell.execute_reply": "2022-05-09T00:40:15.960747Z"
    },
    "papermill": {
     "duration": 0.04158,
     "end_time": "2022-05-09T00:40:15.961331",
     "exception": false,
     "start_time": "2022-05-09T00:40:15.919751",
     "status": "completed"
    },
    "tags": []
   },
   "outputs": [],
   "source": [
    "#hide\n",
    "LAST_DATE_I, dt_cols = get_dates(df)\n",
    "dt_today =dt_cols[LAST_DATE_I]\n",
    "# dt_5day = dt_cols[LAST_DATE_I - 5]\n",
    "dt_yday = dt_cols[LAST_DATE_I - 1]"
   ]
  },
  {
   "cell_type": "code",
   "execution_count": 11,
   "id": "restricted-sheriff",
   "metadata": {
    "execution": {
     "iopub.execute_input": "2022-05-09T00:40:16.050370Z",
     "iopub.status.busy": "2022-05-09T00:40:16.049305Z",
     "iopub.status.idle": "2022-05-09T00:40:16.062554Z",
     "shell.execute_reply": "2022-05-09T00:40:16.063158Z"
    },
    "papermill": {
     "duration": 0.062037,
     "end_time": "2022-05-09T00:40:16.063331",
     "exception": false,
     "start_time": "2022-05-09T00:40:16.001294",
     "status": "completed"
    },
    "tags": []
   },
   "outputs": [],
   "source": [
    "#hide\n",
    "dfc_cases = dft_cases.groupby(COL_REGION)[dt_today].sum()\n",
    "dfc_deaths = dft_deaths.groupby(COL_REGION)[dt_today].sum()\n",
    "# dfp_cases = dft_cases.groupby(COL_REGION)[dt_5day].sum()\n",
    "# dfp_deaths = dft_deaths.groupby(COL_REGION)[dt_5day].sum()\n",
    "dfp_cases = dft_cases.groupby(COL_REGION)[dt_yday].sum()\n",
    "dfp_deaths = dft_deaths.groupby(COL_REGION)[dt_yday].sum()"
   ]
  },
  {
   "cell_type": "code",
   "execution_count": 12,
   "id": "deluxe-hepatitis",
   "metadata": {
    "execution": {
     "iopub.execute_input": "2022-05-09T00:40:16.139924Z",
     "iopub.status.busy": "2022-05-09T00:40:16.139359Z",
     "iopub.status.idle": "2022-05-09T00:40:16.144140Z",
     "shell.execute_reply": "2022-05-09T00:40:16.144834Z"
    },
    "papermill": {
     "duration": 0.044433,
     "end_time": "2022-05-09T00:40:16.144967",
     "exception": false,
     "start_time": "2022-05-09T00:40:16.100534",
     "status": "completed"
    },
    "tags": []
   },
   "outputs": [],
   "source": [
    "#hide\n",
    "df_table = (pd.DataFrame(dict(Cases = dfc_cases, Deaths = dfc_deaths, PCases = dfp_cases, PDeaths = dfp_deaths))\n",
    "            .sort_values(by = ['Cases','Deaths'], ascending = [False, False])\n",
    "            .reset_index())"
   ]
  },
  {
   "cell_type": "code",
   "execution_count": 13,
   "id": "educational-chancellor",
   "metadata": {
    "execution": {
     "iopub.execute_input": "2022-05-09T00:40:16.233061Z",
     "iopub.status.busy": "2022-05-09T00:40:16.232491Z",
     "iopub.status.idle": "2022-05-09T00:40:16.241253Z",
     "shell.execute_reply": "2022-05-09T00:40:16.240794Z"
    },
    "papermill": {
     "duration": 0.063218,
     "end_time": "2022-05-09T00:40:16.241364",
     "exception": false,
     "start_time": "2022-05-09T00:40:16.178146",
     "status": "completed"
    },
    "tags": []
   },
   "outputs": [
    {
     "data": {
      "text/html": [
       "<div>\n",
       "<style scoped>\n",
       "    .dataframe tbody tr th:only-of-type {\n",
       "        vertical-align: middle;\n",
       "    }\n",
       "\n",
       "    .dataframe tbody tr th {\n",
       "        vertical-align: top;\n",
       "    }\n",
       "\n",
       "    .dataframe thead th {\n",
       "        text-align: right;\n",
       "    }\n",
       "</style>\n",
       "<table border=\"1\" class=\"dataframe\">\n",
       "  <thead>\n",
       "    <tr style=\"text-align: right;\">\n",
       "      <th></th>\n",
       "      <th>Country/Region</th>\n",
       "      <th>Cases</th>\n",
       "      <th>Deaths</th>\n",
       "      <th>PCases</th>\n",
       "      <th>PDeaths</th>\n",
       "      <th>Cases (+)</th>\n",
       "      <th>Deaths (+)</th>\n",
       "      <th>Fatality Rate</th>\n",
       "      <th>Continent</th>\n",
       "    </tr>\n",
       "  </thead>\n",
       "  <tbody>\n",
       "    <tr>\n",
       "      <th>0</th>\n",
       "      <td>US</td>\n",
       "      <td>81858744</td>\n",
       "      <td>997503</td>\n",
       "      <td>81831854</td>\n",
       "      <td>997318</td>\n",
       "      <td>26890</td>\n",
       "      <td>185</td>\n",
       "      <td>1.22</td>\n",
       "      <td>North America</td>\n",
       "    </tr>\n",
       "    <tr>\n",
       "      <th>1</th>\n",
       "      <td>India</td>\n",
       "      <td>43102194</td>\n",
       "      <td>524064</td>\n",
       "      <td>43098743</td>\n",
       "      <td>524024</td>\n",
       "      <td>3451</td>\n",
       "      <td>40</td>\n",
       "      <td>1.22</td>\n",
       "      <td>Asia</td>\n",
       "    </tr>\n",
       "    <tr>\n",
       "      <th>2</th>\n",
       "      <td>Brazil</td>\n",
       "      <td>30558530</td>\n",
       "      <td>664361</td>\n",
       "      <td>30543908</td>\n",
       "      <td>664326</td>\n",
       "      <td>14622</td>\n",
       "      <td>35</td>\n",
       "      <td>2.17</td>\n",
       "      <td>South America</td>\n",
       "    </tr>\n",
       "    <tr>\n",
       "      <th>3</th>\n",
       "      <td>France</td>\n",
       "      <td>29119127</td>\n",
       "      <td>147707</td>\n",
       "      <td>29081169</td>\n",
       "      <td>147645</td>\n",
       "      <td>37958</td>\n",
       "      <td>62</td>\n",
       "      <td>0.51</td>\n",
       "      <td>Europe</td>\n",
       "    </tr>\n",
       "    <tr>\n",
       "      <th>4</th>\n",
       "      <td>Germany</td>\n",
       "      <td>25295950</td>\n",
       "      <td>136533</td>\n",
       "      <td>25287462</td>\n",
       "      <td>136523</td>\n",
       "      <td>8488</td>\n",
       "      <td>10</td>\n",
       "      <td>0.54</td>\n",
       "      <td>Europe</td>\n",
       "    </tr>\n",
       "  </tbody>\n",
       "</table>\n",
       "</div>"
      ],
      "text/plain": [
       "  Country/Region     Cases  Deaths    PCases  PDeaths  Cases (+)  Deaths (+)  \\\n",
       "0             US  81858744  997503  81831854   997318      26890         185   \n",
       "1          India  43102194  524064  43098743   524024       3451          40   \n",
       "2         Brazil  30558530  664361  30543908   664326      14622          35   \n",
       "3         France  29119127  147707  29081169   147645      37958          62   \n",
       "4        Germany  25295950  136533  25287462   136523       8488          10   \n",
       "\n",
       "   Fatality Rate      Continent  \n",
       "0           1.22  North America  \n",
       "1           1.22           Asia  \n",
       "2           2.17  South America  \n",
       "3           0.51         Europe  \n",
       "4           0.54         Europe  "
      ]
     },
     "execution_count": 13,
     "metadata": {},
     "output_type": "execute_result"
    }
   ],
   "source": [
    "#hide\n",
    "for c in 'Cases, Deaths'.split(', '):\n",
    "    df_table[f'{c} (+)'] = (df_table[c] - df_table[f'P{c}']).clip(0)\n",
    "    #Clip ça veut dire, les chiffres negatif sont interdit\n",
    "df_table['Fatality Rate'] = (100* df_table['Deaths']/ df_table['Cases']).round(2)\n",
    "df_table['Continent'] = df_table['Country/Region'].map(mapping['map.continent'])\n",
    "df_table.head(5)"
   ]
  },
  {
   "cell_type": "code",
   "execution_count": 14,
   "id": "aboriginal-bulgaria",
   "metadata": {
    "execution": {
     "iopub.execute_input": "2022-05-09T00:40:16.316522Z",
     "iopub.status.busy": "2022-05-09T00:40:16.315837Z",
     "iopub.status.idle": "2022-05-09T00:40:16.318448Z",
     "shell.execute_reply": "2022-05-09T00:40:16.317908Z"
    },
    "papermill": {
     "duration": 0.04371,
     "end_time": "2022-05-09T00:40:16.318567",
     "exception": false,
     "start_time": "2022-05-09T00:40:16.274857",
     "status": "completed"
    },
    "tags": []
   },
   "outputs": [],
   "source": [
    "#hide\n",
    "#delete problematic countries from table\n",
    "df_table = df_table[~df_table['Country/Region'].isin(['Cape Verde', 'Cruise Ship', 'Kosovo'])]"
   ]
  },
  {
   "cell_type": "code",
   "execution_count": 15,
   "id": "fantastic-effect",
   "metadata": {
    "execution": {
     "iopub.execute_input": "2022-05-09T00:40:16.391857Z",
     "iopub.status.busy": "2022-05-09T00:40:16.391304Z",
     "iopub.status.idle": "2022-05-09T00:40:16.412152Z",
     "shell.execute_reply": "2022-05-09T00:40:16.411718Z"
    },
    "papermill": {
     "duration": 0.060636,
     "end_time": "2022-05-09T00:40:16.412280",
     "exception": false,
     "start_time": "2022-05-09T00:40:16.351644",
     "status": "completed"
    },
    "tags": []
   },
   "outputs": [
    {
     "data": {
      "text/html": [
       "<div>\n",
       "<style scoped>\n",
       "    .dataframe tbody tr th:only-of-type {\n",
       "        vertical-align: middle;\n",
       "    }\n",
       "\n",
       "    .dataframe tbody tr th {\n",
       "        vertical-align: top;\n",
       "    }\n",
       "\n",
       "    .dataframe thead th {\n",
       "        text-align: right;\n",
       "    }\n",
       "</style>\n",
       "<table border=\"1\" class=\"dataframe\">\n",
       "  <thead>\n",
       "    <tr style=\"text-align: right;\">\n",
       "      <th></th>\n",
       "      <th>Country/Region</th>\n",
       "      <th>Cases</th>\n",
       "      <th>Deaths</th>\n",
       "      <th>PCases</th>\n",
       "      <th>PDeaths</th>\n",
       "      <th>Cases (+)</th>\n",
       "      <th>Deaths (+)</th>\n",
       "      <th>Fatality Rate</th>\n",
       "      <th>Continent</th>\n",
       "    </tr>\n",
       "  </thead>\n",
       "  <tbody>\n",
       "    <tr>\n",
       "      <th>0</th>\n",
       "      <td>US</td>\n",
       "      <td>81858744</td>\n",
       "      <td>997503</td>\n",
       "      <td>81831854</td>\n",
       "      <td>997318</td>\n",
       "      <td>26890</td>\n",
       "      <td>185</td>\n",
       "      <td>1.2</td>\n",
       "      <td>North America</td>\n",
       "    </tr>\n",
       "    <tr>\n",
       "      <th>1</th>\n",
       "      <td>India</td>\n",
       "      <td>43102194</td>\n",
       "      <td>524064</td>\n",
       "      <td>43098743</td>\n",
       "      <td>524024</td>\n",
       "      <td>3451</td>\n",
       "      <td>40</td>\n",
       "      <td>1.2</td>\n",
       "      <td>Asia</td>\n",
       "    </tr>\n",
       "    <tr>\n",
       "      <th>2</th>\n",
       "      <td>Brazil</td>\n",
       "      <td>30558530</td>\n",
       "      <td>664361</td>\n",
       "      <td>30543908</td>\n",
       "      <td>664326</td>\n",
       "      <td>14622</td>\n",
       "      <td>35</td>\n",
       "      <td>2.2</td>\n",
       "      <td>South America</td>\n",
       "    </tr>\n",
       "    <tr>\n",
       "      <th>3</th>\n",
       "      <td>France</td>\n",
       "      <td>29119127</td>\n",
       "      <td>147707</td>\n",
       "      <td>29081169</td>\n",
       "      <td>147645</td>\n",
       "      <td>37958</td>\n",
       "      <td>62</td>\n",
       "      <td>0.5</td>\n",
       "      <td>Europe</td>\n",
       "    </tr>\n",
       "    <tr>\n",
       "      <th>4</th>\n",
       "      <td>Germany</td>\n",
       "      <td>25295950</td>\n",
       "      <td>136533</td>\n",
       "      <td>25287462</td>\n",
       "      <td>136523</td>\n",
       "      <td>8488</td>\n",
       "      <td>10</td>\n",
       "      <td>0.5</td>\n",
       "      <td>Europe</td>\n",
       "    </tr>\n",
       "  </tbody>\n",
       "</table>\n",
       "</div>"
      ],
      "text/plain": [
       "  Country/Region     Cases  Deaths    PCases  PDeaths  Cases (+)  Deaths (+)  \\\n",
       "0             US  81858744  997503  81831854   997318      26890         185   \n",
       "1          India  43102194  524064  43098743   524024       3451          40   \n",
       "2         Brazil  30558530  664361  30543908   664326      14622          35   \n",
       "3         France  29119127  147707  29081169   147645      37958          62   \n",
       "4        Germany  25295950  136533  25287462   136523       8488          10   \n",
       "\n",
       "   Fatality Rate      Continent  \n",
       "0            1.2  North America  \n",
       "1            1.2           Asia  \n",
       "2            2.2  South America  \n",
       "3            0.5         Europe  \n",
       "4            0.5         Europe  "
      ]
     },
     "execution_count": 15,
     "metadata": {},
     "output_type": "execute_result"
    }
   ],
   "source": [
    "#hide\n",
    "df_table = (pd.DataFrame(dict(Cases=dfc_cases, Deaths=dfc_deaths, PCases=dfp_cases, PDeaths=dfp_deaths))\n",
    "             .sort_values(by=['Cases', 'Deaths'], ascending=[False, False])\n",
    "             .reset_index())\n",
    "df_table.rename(columns={'index': 'Country/Region'}, inplace=True)\n",
    "for c in 'Cases, Deaths'.split(', '):\n",
    "    df_table[f'{c} (+)'] = (df_table[c] - df_table[f'P{c}']).clip(0)  # DATA BUG\n",
    "df_table['Fatality Rate'] = (100 * df_table['Deaths'] / df_table['Cases']).round(1)\n",
    "df_table['Continent'] = df_table['Country/Region'].map(mapping['map.continent'])\n",
    "df_table.head(5)"
   ]
  },
  {
   "cell_type": "code",
   "execution_count": 16,
   "id": "fewer-occasion",
   "metadata": {
    "execution": {
     "iopub.execute_input": "2022-05-09T00:40:16.483369Z",
     "iopub.status.busy": "2022-05-09T00:40:16.482801Z",
     "iopub.status.idle": "2022-05-09T00:40:16.484942Z",
     "shell.execute_reply": "2022-05-09T00:40:16.485457Z"
    },
    "papermill": {
     "duration": 0.040636,
     "end_time": "2022-05-09T00:40:16.485569",
     "exception": false,
     "start_time": "2022-05-09T00:40:16.444933",
     "status": "completed"
    },
    "tags": []
   },
   "outputs": [],
   "source": [
    "#hide\n",
    "#delete problematic countries from table\n",
    "df_table = df_table[~df_table['Country/Region'].isin(['Cape Verde', 'Cruise Ship', 'Kosovo'])]"
   ]
  },
  {
   "cell_type": "code",
   "execution_count": 17,
   "id": "related-center",
   "metadata": {
    "execution": {
     "iopub.execute_input": "2022-05-09T00:40:16.568285Z",
     "iopub.status.busy": "2022-05-09T00:40:16.567700Z",
     "iopub.status.idle": "2022-05-09T00:40:16.570028Z",
     "shell.execute_reply": "2022-05-09T00:40:16.569565Z"
    },
    "papermill": {
     "duration": 0.053239,
     "end_time": "2022-05-09T00:40:16.570142",
     "exception": false,
     "start_time": "2022-05-09T00:40:16.516903",
     "status": "completed"
    },
    "tags": []
   },
   "outputs": [],
   "source": [
    "#hide\n",
    "metrics = [df_table.columns[index] for index in [1,2,5,6]]\n",
    "# s_china = df_table[df_table['Country/Region'].eq('China')][metrics].sum().add_prefix('China ')\n",
    "s_us = df_table[df_table['Country/Region'].eq('US')][metrics].sum().add_prefix('US ')\n",
    "s_eu = df_table[df_table['Continent'].eq('Europe')][metrics].sum().add_prefix('EU ')\n",
    "s_ind = df_table[df_table['Country/Region'].eq('India')][metrics].sum().add_prefix('India ')\n",
    "summary = {'updated': pd.to_datetime(dt_today), 'since': pd.to_datetime(dt_yday)}\n",
    "summary = {'updated': pd.to_datetime(dt_today), 'since': pd.to_datetime(dt_yday)}\n",
    "summary = {**summary, **df_table[metrics].sum(), **s_ind, **s_us, **s_eu}"
   ]
  },
  {
   "cell_type": "code",
   "execution_count": 18,
   "id": "engaging-syndrome",
   "metadata": {
    "execution": {
     "iopub.execute_input": "2022-05-09T00:40:16.644236Z",
     "iopub.status.busy": "2022-05-09T00:40:16.643608Z",
     "iopub.status.idle": "2022-05-09T00:40:16.660490Z",
     "shell.execute_reply": "2022-05-09T00:40:16.660958Z"
    },
    "papermill": {
     "duration": 0.058077,
     "end_time": "2022-05-09T00:40:16.661083",
     "exception": false,
     "start_time": "2022-05-09T00:40:16.603006",
     "status": "completed"
    },
    "tags": []
   },
   "outputs": [],
   "source": [
    "#hide\n",
    "dft_ct_new_cases = dft_cases.groupby(COL_REGION)[dt_cols].sum().diff(axis=1).fillna(0).astype(int)"
   ]
  },
  {
   "cell_type": "code",
   "execution_count": 19,
   "id": "neutral-assignment",
   "metadata": {
    "execution": {
     "iopub.execute_input": "2022-05-09T00:40:16.737894Z",
     "iopub.status.busy": "2022-05-09T00:40:16.737325Z",
     "iopub.status.idle": "2022-05-09T00:40:16.739695Z",
     "shell.execute_reply": "2022-05-09T00:40:16.739058Z"
    },
    "papermill": {
     "duration": 0.044895,
     "end_time": "2022-05-09T00:40:16.739844",
     "exception": false,
     "start_time": "2022-05-09T00:40:16.694949",
     "status": "completed"
    },
    "tags": []
   },
   "outputs": [],
   "source": [
    "#hide\n",
    "everydaycases = dft_ct_new_cases.cumsum(axis=1)"
   ]
  },
  {
   "cell_type": "code",
   "execution_count": 20,
   "id": "parliamentary-calgary",
   "metadata": {
    "execution": {
     "iopub.execute_input": "2022-05-09T00:40:16.818571Z",
     "iopub.status.busy": "2022-05-09T00:40:16.817960Z",
     "iopub.status.idle": "2022-05-09T00:40:17.404907Z",
     "shell.execute_reply": "2022-05-09T00:40:17.404406Z"
    },
    "papermill": {
     "duration": 0.627947,
     "end_time": "2022-05-09T00:40:17.405048",
     "exception": false,
     "start_time": "2022-05-09T00:40:16.777101",
     "status": "completed"
    },
    "tags": []
   },
   "outputs": [],
   "source": [
    "#hide\n",
    "import pandas as pd\n",
    "import matplotlib.pyplot as plt\n",
    "import matplotlib.ticker as ticker\n",
    "import matplotlib.animation as animation\n",
    "from IPython.display import HTML"
   ]
  },
  {
   "cell_type": "code",
   "execution_count": 21,
   "id": "lasting-extraction",
   "metadata": {
    "execution": {
     "iopub.execute_input": "2022-05-09T00:40:17.479096Z",
     "iopub.status.busy": "2022-05-09T00:40:17.478550Z",
     "iopub.status.idle": "2022-05-09T00:40:17.484987Z",
     "shell.execute_reply": "2022-05-09T00:40:17.485519Z"
    },
    "papermill": {
     "duration": 0.047091,
     "end_time": "2022-05-09T00:40:17.485646",
     "exception": false,
     "start_time": "2022-05-09T00:40:17.438555",
     "status": "completed"
    },
    "tags": []
   },
   "outputs": [],
   "source": [
    "#hide\n",
    "t = everydaycases.stack()"
   ]
  },
  {
   "cell_type": "code",
   "execution_count": 22,
   "id": "premier-sleeve",
   "metadata": {
    "execution": {
     "iopub.execute_input": "2022-05-09T00:40:17.557549Z",
     "iopub.status.busy": "2022-05-09T00:40:17.556985Z",
     "iopub.status.idle": "2022-05-09T00:40:17.568085Z",
     "shell.execute_reply": "2022-05-09T00:40:17.567567Z"
    },
    "papermill": {
     "duration": 0.050677,
     "end_time": "2022-05-09T00:40:17.568203",
     "exception": false,
     "start_time": "2022-05-09T00:40:17.517526",
     "status": "completed"
    },
    "tags": []
   },
   "outputs": [],
   "source": [
    "#hide\n",
    "g = t.reset_index(['Country/Region'])"
   ]
  },
  {
   "cell_type": "code",
   "execution_count": 23,
   "id": "distributed-pittsburgh",
   "metadata": {
    "execution": {
     "iopub.execute_input": "2022-05-09T00:40:17.639332Z",
     "iopub.status.busy": "2022-05-09T00:40:17.638766Z",
     "iopub.status.idle": "2022-05-09T00:40:17.641599Z",
     "shell.execute_reply": "2022-05-09T00:40:17.640778Z"
    },
    "papermill": {
     "duration": 0.04013,
     "end_time": "2022-05-09T00:40:17.641710",
     "exception": false,
     "start_time": "2022-05-09T00:40:17.601580",
     "status": "completed"
    },
    "tags": []
   },
   "outputs": [],
   "source": [
    "#hide\n",
    "g.index.name = 'date'"
   ]
  },
  {
   "cell_type": "code",
   "execution_count": 24,
   "id": "naked-donor",
   "metadata": {
    "execution": {
     "iopub.execute_input": "2022-05-09T00:40:17.720586Z",
     "iopub.status.busy": "2022-05-09T00:40:17.719842Z",
     "iopub.status.idle": "2022-05-09T00:40:17.723333Z",
     "shell.execute_reply": "2022-05-09T00:40:17.723974Z"
    },
    "papermill": {
     "duration": 0.046506,
     "end_time": "2022-05-09T00:40:17.724129",
     "exception": false,
     "start_time": "2022-05-09T00:40:17.677623",
     "status": "completed"
    },
    "tags": []
   },
   "outputs": [],
   "source": [
    "# #hide\n",
    "# g = g.reset_index(['date'])"
   ]
  },
  {
   "cell_type": "code",
   "execution_count": 25,
   "id": "incomplete-mustang",
   "metadata": {
    "execution": {
     "iopub.execute_input": "2022-05-09T00:40:17.796208Z",
     "iopub.status.busy": "2022-05-09T00:40:17.795632Z",
     "iopub.status.idle": "2022-05-09T00:40:17.798062Z",
     "shell.execute_reply": "2022-05-09T00:40:17.797588Z"
    },
    "papermill": {
     "duration": 0.039021,
     "end_time": "2022-05-09T00:40:17.798186",
     "exception": false,
     "start_time": "2022-05-09T00:40:17.759165",
     "status": "completed"
    },
    "tags": []
   },
   "outputs": [],
   "source": [
    "#hide\n",
    "# g.head()"
   ]
  },
  {
   "cell_type": "code",
   "execution_count": 26,
   "id": "specific-kruger",
   "metadata": {
    "execution": {
     "iopub.execute_input": "2022-05-09T00:40:17.871764Z",
     "iopub.status.busy": "2022-05-09T00:40:17.871171Z",
     "iopub.status.idle": "2022-05-09T00:40:17.874528Z",
     "shell.execute_reply": "2022-05-09T00:40:17.874092Z"
    },
    "papermill": {
     "duration": 0.040148,
     "end_time": "2022-05-09T00:40:17.874640",
     "exception": false,
     "start_time": "2022-05-09T00:40:17.834492",
     "status": "completed"
    },
    "tags": []
   },
   "outputs": [],
   "source": [
    "#hide\n",
    "# g.columns = ['date','country','cases']"
   ]
  },
  {
   "cell_type": "code",
   "execution_count": 27,
   "id": "tender-conversion",
   "metadata": {
    "execution": {
     "iopub.execute_input": "2022-05-09T00:40:17.942439Z",
     "iopub.status.busy": "2022-05-09T00:40:17.941883Z",
     "iopub.status.idle": "2022-05-09T00:40:17.946021Z",
     "shell.execute_reply": "2022-05-09T00:40:17.945531Z"
    },
    "papermill": {
     "duration": 0.039129,
     "end_time": "2022-05-09T00:40:17.946136",
     "exception": false,
     "start_time": "2022-05-09T00:40:17.907007",
     "status": "completed"
    },
    "tags": []
   },
   "outputs": [],
   "source": [
    "#hide\n",
    "# g['continent'] = g.country"
   ]
  },
  {
   "cell_type": "code",
   "execution_count": 28,
   "id": "substantial-wilderness",
   "metadata": {
    "execution": {
     "iopub.execute_input": "2022-05-09T00:40:18.018082Z",
     "iopub.status.busy": "2022-05-09T00:40:18.017478Z",
     "iopub.status.idle": "2022-05-09T00:40:18.020975Z",
     "shell.execute_reply": "2022-05-09T00:40:18.021454Z"
    },
    "papermill": {
     "duration": 0.040986,
     "end_time": "2022-05-09T00:40:18.021618",
     "exception": false,
     "start_time": "2022-05-09T00:40:17.980632",
     "status": "completed"
    },
    "tags": []
   },
   "outputs": [],
   "source": [
    "#hide\n",
    "# cols = list(g.columns.values)"
   ]
  },
  {
   "cell_type": "code",
   "execution_count": 29,
   "id": "solved-farming",
   "metadata": {
    "execution": {
     "iopub.execute_input": "2022-05-09T00:40:18.098856Z",
     "iopub.status.busy": "2022-05-09T00:40:18.098241Z",
     "iopub.status.idle": "2022-05-09T00:40:18.100206Z",
     "shell.execute_reply": "2022-05-09T00:40:18.100686Z"
    },
    "papermill": {
     "duration": 0.042518,
     "end_time": "2022-05-09T00:40:18.100830",
     "exception": false,
     "start_time": "2022-05-09T00:40:18.058312",
     "status": "completed"
    },
    "tags": []
   },
   "outputs": [],
   "source": [
    "#hide\n",
    "# cols.insert(0, cols.pop())"
   ]
  },
  {
   "cell_type": "code",
   "execution_count": 30,
   "id": "executed-adoption",
   "metadata": {
    "execution": {
     "iopub.execute_input": "2022-05-09T00:40:18.178653Z",
     "iopub.status.busy": "2022-05-09T00:40:18.178053Z",
     "iopub.status.idle": "2022-05-09T00:40:18.180523Z",
     "shell.execute_reply": "2022-05-09T00:40:18.179959Z"
    },
    "papermill": {
     "duration": 0.04163,
     "end_time": "2022-05-09T00:40:18.180649",
     "exception": false,
     "start_time": "2022-05-09T00:40:18.139019",
     "status": "completed"
    },
    "tags": []
   },
   "outputs": [],
   "source": [
    "#hide\n",
    "# g = g[cols]"
   ]
  },
  {
   "cell_type": "code",
   "execution_count": 31,
   "id": "subject-dublin",
   "metadata": {
    "execution": {
     "iopub.execute_input": "2022-05-09T00:40:18.252924Z",
     "iopub.status.busy": "2022-05-09T00:40:18.252244Z",
     "iopub.status.idle": "2022-05-09T00:40:18.254610Z",
     "shell.execute_reply": "2022-05-09T00:40:18.254014Z"
    },
    "papermill": {
     "duration": 0.038962,
     "end_time": "2022-05-09T00:40:18.254733",
     "exception": false,
     "start_time": "2022-05-09T00:40:18.215771",
     "status": "completed"
    },
    "tags": []
   },
   "outputs": [],
   "source": [
    "#hide\n",
    "# g['continent'] = g['continent'].map(mapping['map.continent'])"
   ]
  },
  {
   "cell_type": "code",
   "execution_count": 32,
   "id": "freelance-scout",
   "metadata": {
    "execution": {
     "iopub.execute_input": "2022-05-09T00:40:18.331891Z",
     "iopub.status.busy": "2022-05-09T00:40:18.331312Z",
     "iopub.status.idle": "2022-05-09T00:40:18.333463Z",
     "shell.execute_reply": "2022-05-09T00:40:18.333924Z"
    },
    "papermill": {
     "duration": 0.042925,
     "end_time": "2022-05-09T00:40:18.334089",
     "exception": false,
     "start_time": "2022-05-09T00:40:18.291164",
     "status": "completed"
    },
    "tags": []
   },
   "outputs": [],
   "source": [
    "#hide\n",
    "# g.head()"
   ]
  },
  {
   "cell_type": "code",
   "execution_count": 33,
   "id": "limited-engine",
   "metadata": {
    "execution": {
     "iopub.execute_input": "2022-05-09T00:40:18.423114Z",
     "iopub.status.busy": "2022-05-09T00:40:18.422493Z",
     "iopub.status.idle": "2022-05-09T00:40:18.426391Z",
     "shell.execute_reply": "2022-05-09T00:40:18.426865Z"
    },
    "papermill": {
     "duration": 0.053318,
     "end_time": "2022-05-09T00:40:18.427032",
     "exception": false,
     "start_time": "2022-05-09T00:40:18.373714",
     "status": "completed"
    },
    "tags": []
   },
   "outputs": [],
   "source": [
    "# hide\n",
    "# g['date'] = g['date'].astype('datetime64[ns]')"
   ]
  },
  {
   "cell_type": "code",
   "execution_count": 34,
   "id": "sophisticated-supervisor",
   "metadata": {
    "execution": {
     "iopub.execute_input": "2022-05-09T00:40:18.505326Z",
     "iopub.status.busy": "2022-05-09T00:40:18.504600Z",
     "iopub.status.idle": "2022-05-09T00:40:18.507291Z",
     "shell.execute_reply": "2022-05-09T00:40:18.506809Z"
    },
    "papermill": {
     "duration": 0.043896,
     "end_time": "2022-05-09T00:40:18.507407",
     "exception": false,
     "start_time": "2022-05-09T00:40:18.463511",
     "status": "completed"
    },
    "tags": []
   },
   "outputs": [],
   "source": [
    "#hide\n",
    "# g['date'] = g.date.dt.dayofyear"
   ]
  },
  {
   "cell_type": "code",
   "execution_count": 35,
   "id": "inside-dubai",
   "metadata": {
    "execution": {
     "iopub.execute_input": "2022-05-09T00:40:18.589009Z",
     "iopub.status.busy": "2022-05-09T00:40:18.588279Z",
     "iopub.status.idle": "2022-05-09T00:40:18.591036Z",
     "shell.execute_reply": "2022-05-09T00:40:18.590443Z"
    },
    "papermill": {
     "duration": 0.044246,
     "end_time": "2022-05-09T00:40:18.591162",
     "exception": false,
     "start_time": "2022-05-09T00:40:18.546916",
     "status": "completed"
    },
    "tags": []
   },
   "outputs": [],
   "source": [
    "#hide\n",
    "# g = g.rename(columns= {'continent':'group','country':'name','cases':'value'})"
   ]
  },
  {
   "cell_type": "code",
   "execution_count": 36,
   "id": "fleet-motorcycle",
   "metadata": {
    "execution": {
     "iopub.execute_input": "2022-05-09T00:40:18.673291Z",
     "iopub.status.busy": "2022-05-09T00:40:18.672551Z",
     "iopub.status.idle": "2022-05-09T00:40:18.674513Z",
     "shell.execute_reply": "2022-05-09T00:40:18.674999Z"
    },
    "papermill": {
     "duration": 0.046219,
     "end_time": "2022-05-09T00:40:18.675140",
     "exception": false,
     "start_time": "2022-05-09T00:40:18.628921",
     "status": "completed"
    },
    "tags": []
   },
   "outputs": [],
   "source": [
    "#hide\n",
    "# cols = ['name','group','day','value']"
   ]
  },
  {
   "cell_type": "code",
   "execution_count": 37,
   "id": "continued-sleeping",
   "metadata": {
    "execution": {
     "iopub.execute_input": "2022-05-09T00:40:18.761703Z",
     "iopub.status.busy": "2022-05-09T00:40:18.760866Z",
     "iopub.status.idle": "2022-05-09T00:40:18.765755Z",
     "shell.execute_reply": "2022-05-09T00:40:18.764702Z"
    },
    "papermill": {
     "duration": 0.055675,
     "end_time": "2022-05-09T00:40:18.765897",
     "exception": false,
     "start_time": "2022-05-09T00:40:18.710222",
     "status": "completed"
    },
    "tags": []
   },
   "outputs": [],
   "source": [
    "#hide\n",
    "# g.rename(columns= {'date':'day'},inplace = True)"
   ]
  },
  {
   "cell_type": "code",
   "execution_count": 38,
   "id": "major-fight",
   "metadata": {
    "execution": {
     "iopub.execute_input": "2022-05-09T00:40:18.854157Z",
     "iopub.status.busy": "2022-05-09T00:40:18.853520Z",
     "iopub.status.idle": "2022-05-09T00:40:18.856188Z",
     "shell.execute_reply": "2022-05-09T00:40:18.855558Z"
    },
    "papermill": {
     "duration": 0.047522,
     "end_time": "2022-05-09T00:40:18.856397",
     "exception": false,
     "start_time": "2022-05-09T00:40:18.808875",
     "status": "completed"
    },
    "tags": []
   },
   "outputs": [],
   "source": [
    "#hide\n",
    "# g = g[cols]"
   ]
  },
  {
   "cell_type": "code",
   "execution_count": 39,
   "id": "structured-mobile",
   "metadata": {
    "execution": {
     "iopub.execute_input": "2022-05-09T00:40:18.930263Z",
     "iopub.status.busy": "2022-05-09T00:40:18.929705Z",
     "iopub.status.idle": "2022-05-09T00:40:18.932446Z",
     "shell.execute_reply": "2022-05-09T00:40:18.931861Z"
    },
    "papermill": {
     "duration": 0.041104,
     "end_time": "2022-05-09T00:40:18.932560",
     "exception": false,
     "start_time": "2022-05-09T00:40:18.891456",
     "status": "completed"
    },
    "tags": []
   },
   "outputs": [],
   "source": [
    "# #hide\n",
    "# g = g[g.group.notna()]"
   ]
  },
  {
   "cell_type": "code",
   "execution_count": 40,
   "id": "determined-closing",
   "metadata": {
    "execution": {
     "iopub.execute_input": "2022-05-09T00:40:19.010450Z",
     "iopub.status.busy": "2022-05-09T00:40:19.009815Z",
     "iopub.status.idle": "2022-05-09T00:40:19.013637Z",
     "shell.execute_reply": "2022-05-09T00:40:19.014250Z"
    },
    "papermill": {
     "duration": 0.04507,
     "end_time": "2022-05-09T00:40:19.014399",
     "exception": false,
     "start_time": "2022-05-09T00:40:18.969329",
     "status": "completed"
    },
    "tags": []
   },
   "outputs": [],
   "source": [
    "# #hide\n",
    "# colors = dict(zip(\n",
    "#     [\"Oceania\", \"Europe\", \"Asia\", \"South America\", \"Middle East\", \"North America\", \"Africa\"],\n",
    "#     [\"#adb0ff\", \"#ffb3ff\", \"#90d595\", \"#e48381\", \"#aafbff\", \"#f7bb5f\", \"#eafb50\"]\n",
    "# ))\n",
    "# group_lk = g.set_index('name')['group'].to_dict()"
   ]
  },
  {
   "cell_type": "code",
   "execution_count": null,
   "id": "gross-drinking",
   "metadata": {
    "papermill": {
     "duration": 0.036778,
     "end_time": "2022-05-09T00:40:19.085197",
     "exception": false,
     "start_time": "2022-05-09T00:40:19.048419",
     "status": "completed"
    },
    "tags": []
   },
   "outputs": [],
   "source": []
  },
  {
   "cell_type": "code",
   "execution_count": 41,
   "id": "subject-macintosh",
   "metadata": {
    "execution": {
     "iopub.execute_input": "2022-05-09T00:40:19.162506Z",
     "iopub.status.busy": "2022-05-09T00:40:19.161744Z",
     "iopub.status.idle": "2022-05-09T00:40:19.164428Z",
     "shell.execute_reply": "2022-05-09T00:40:19.163668Z"
    },
    "papermill": {
     "duration": 0.044718,
     "end_time": "2022-05-09T00:40:19.164563",
     "exception": false,
     "start_time": "2022-05-09T00:40:19.119845",
     "status": "completed"
    },
    "tags": []
   },
   "outputs": [],
   "source": [
    "# #hide\n",
    "# fig, ax = plt.subplots(figsize=(15, 8))\n",
    "\n",
    "# def draw_barchart(current_day):\n",
    "#     dff = g[g['day'].eq(current_day)].sort_values(by='value', ascending=True).tail(10)\n",
    "#     ax.clear()\n",
    "#     ax.barh(dff['name'], dff['value'], color=[colors[group_lk[x]] for x in dff['name']])\n",
    "#     dx = dff['value'].max() / 200\n",
    "    \n",
    "#     for i, (value, name) in enumerate(zip(dff['value'], dff['name'])):\n",
    "#         ax.text(value-dx, i,     name,           size=14, weight=600, ha='right', va='bottom')\n",
    "#         ax.text(value-dx, i-.25, group_lk[name], size=10, color='#444444', ha='right', va='baseline')\n",
    "#         ax.text(value+dx, i,     f'{value:,.0f}',  size=14, ha='left',  va='center')\n",
    "#     ax.text(1, 0.4, current_day, transform=ax.transAxes, color='#777777', size=46, ha='right', weight=800)\n",
    "#     ax.text(0, 1.06, 'Population (thousands)', transform=ax.transAxes, size=12, color='#777777')\n",
    "#     ax.xaxis.set_major_formatter(ticker.StrMethodFormatter('{x:,.0f}'))\n",
    "#     ax.xaxis.set_ticks_position('top')\n",
    "#     ax.tick_params(axis='x', colors='#777777', labelsize=12)\n",
    "#     ax.set_yticks([])\n",
    "#     ax.margins(0, 0.01)\n",
    "#     ax.grid(which='major', axis='x', linestyle='-')\n",
    "#     ax.set_axisbelow(True)\n",
    "    \n",
    "#     ax.text(0, 1.15, 'Coronavirus',\n",
    "#             transform=ax.transAxes, size=24, weight=600, ha='left', va='top')\n",
    "# #     ax.text(1, 0, 'by @pratapvardhan; credit @jburnmurdoch', transform=ax.transAxes, color='#777777', ha='right',\n",
    "# #             bbox=dict(facecolor='white', alpha=0.8, edgecolor='white'))\n",
    "#     plt.box(False)"
   ]
  },
  {
   "cell_type": "code",
   "execution_count": 42,
   "id": "sexual-wages",
   "metadata": {
    "execution": {
     "iopub.execute_input": "2022-05-09T00:40:19.243910Z",
     "iopub.status.busy": "2022-05-09T00:40:19.243003Z",
     "iopub.status.idle": "2022-05-09T00:40:19.247135Z",
     "shell.execute_reply": "2022-05-09T00:40:19.247607Z"
    },
    "papermill": {
     "duration": 0.04801,
     "end_time": "2022-05-09T00:40:19.247758",
     "exception": false,
     "start_time": "2022-05-09T00:40:19.199748",
     "status": "completed"
    },
    "tags": []
   },
   "outputs": [],
   "source": [
    "# #hide_input\n",
    "# fig, ax = plt.subplots(figsize=(15, 8))\n",
    "# animator = animation.FuncAnimation(fig, draw_barchart, frames=range(g.day.values.min(), g.day.values.max()))\n",
    "# HTML(animator.to_jshtml())\n",
    "# # or use animator.to_html5_video() or animator.save() "
   ]
  },
  {
   "cell_type": "code",
   "execution_count": null,
   "id": "australian-container",
   "metadata": {
    "papermill": {
     "duration": 0.034055,
     "end_time": "2022-05-09T00:40:19.318487",
     "exception": false,
     "start_time": "2022-05-09T00:40:19.284432",
     "status": "completed"
    },
    "tags": []
   },
   "outputs": [],
   "source": []
  },
  {
   "cell_type": "code",
   "execution_count": null,
   "id": "mediterranean-pontiac",
   "metadata": {
    "papermill": {
     "duration": 0.033223,
     "end_time": "2022-05-09T00:40:19.385148",
     "exception": false,
     "start_time": "2022-05-09T00:40:19.351925",
     "status": "completed"
    },
    "tags": []
   },
   "outputs": [],
   "source": []
  },
  {
   "cell_type": "code",
   "execution_count": null,
   "id": "aging-legislature",
   "metadata": {
    "papermill": {
     "duration": 0.033341,
     "end_time": "2022-05-09T00:40:19.449784",
     "exception": false,
     "start_time": "2022-05-09T00:40:19.416443",
     "status": "completed"
    },
    "tags": []
   },
   "outputs": [],
   "source": []
  }
 ],
 "metadata": {
  "kernelspec": {
   "display_name": "Python 3",
   "language": "python",
   "name": "python3"
  },
  "language_info": {
   "codemirror_mode": {
    "name": "ipython",
    "version": 3
   },
   "file_extension": ".py",
   "mimetype": "text/x-python",
   "name": "python",
   "nbconvert_exporter": "python",
   "pygments_lexer": "ipython3",
   "version": "3.6.15"
  },
  "papermill": {
   "duration": 7.676028,
   "end_time": "2022-05-09T00:40:19.799519",
   "environment_variables": {},
   "exception": null,
   "input_path": "2020-03-21-covid19exp.ipynb",
   "output_path": "2020-03-21-covid19exp.ipynb",
   "parameters": {},
   "start_time": "2022-05-09T00:40:12.123491",
   "version": "2.0.0"
  }
 },
 "nbformat": 4,
 "nbformat_minor": 5
}