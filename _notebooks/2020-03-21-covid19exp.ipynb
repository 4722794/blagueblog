{
 "cells": [
  {
   "cell_type": "markdown",
   "id": "muslim-click",
   "metadata": {
    "papermill": {
     "duration": 0.046307,
     "end_time": "2021-11-20T00:24:22.047626",
     "exception": false,
     "start_time": "2021-11-20T00:24:22.001319",
     "status": "completed"
    },
    "tags": []
   },
   "source": [
    "# COVID-19 Case Race\n",
    "> A race chart to see rising cases around the world\n",
    "\n",
    "- author: Hargun Oberoi\n",
    "- image: images/covid-overview.png\n",
    "- hide: false\n",
    "- badges: false"
   ]
  },
  {
   "cell_type": "code",
   "execution_count": 1,
   "id": "proof-material",
   "metadata": {
    "execution": {
     "iopub.execute_input": "2021-11-20T00:24:22.147306Z",
     "iopub.status.busy": "2021-11-20T00:24:22.146483Z",
     "iopub.status.idle": "2021-11-20T00:24:22.600738Z",
     "shell.execute_reply": "2021-11-20T00:24:22.601311Z"
    },
    "papermill": {
     "duration": 0.511013,
     "end_time": "2021-11-20T00:24:22.601517",
     "exception": false,
     "start_time": "2021-11-20T00:24:22.090504",
     "status": "completed"
    },
    "tags": []
   },
   "outputs": [],
   "source": [
    "#hide\n",
    "import numpy as np\n",
    "import pandas as pd\n",
    "from jinja2 import Template\n",
    "from IPython.display import HTML"
   ]
  },
  {
   "cell_type": "code",
   "execution_count": 2,
   "id": "developed-terminology",
   "metadata": {
    "execution": {
     "iopub.execute_input": "2021-11-20T00:24:22.693930Z",
     "iopub.status.busy": "2021-11-20T00:24:22.693147Z",
     "iopub.status.idle": "2021-11-20T00:24:22.697385Z",
     "shell.execute_reply": "2021-11-20T00:24:22.697939Z"
    },
    "papermill": {
     "duration": 0.053644,
     "end_time": "2021-11-20T00:24:22.698106",
     "exception": false,
     "start_time": "2021-11-20T00:24:22.644462",
     "status": "completed"
    },
    "tags": []
   },
   "outputs": [],
   "source": [
    "#hide\n",
    "\n",
    "# FETCH\n",
    "base_url = 'https://raw.githubusercontent.com/pratapvardhan/notebooks/master/covid19/'\n",
    "paths = {\n",
    "    'mapping': base_url + 'mapping_countries.csv',\n",
    "    'overview': base_url + 'overview.tpl'\n",
    "}"
   ]
  },
  {
   "cell_type": "code",
   "execution_count": 3,
   "id": "dynamic-saver",
   "metadata": {
    "execution": {
     "iopub.execute_input": "2021-11-20T00:24:22.807901Z",
     "iopub.status.busy": "2021-11-20T00:24:22.807105Z",
     "iopub.status.idle": "2021-11-20T00:24:22.810100Z",
     "shell.execute_reply": "2021-11-20T00:24:22.810768Z"
    },
    "papermill": {
     "duration": 0.070783,
     "end_time": "2021-11-20T00:24:22.810940",
     "exception": false,
     "start_time": "2021-11-20T00:24:22.740157",
     "status": "completed"
    },
    "tags": []
   },
   "outputs": [
    {
     "data": {
      "text/plain": [
       "'https://raw.githubusercontent.com/pratapvardhan/notebooks/master/covid19/mapping_countries.csv'"
      ]
     },
     "execution_count": 3,
     "metadata": {},
     "output_type": "execute_result"
    }
   ],
   "source": [
    "#hide\n",
    "paths['mapping']"
   ]
  },
  {
   "cell_type": "code",
   "execution_count": 4,
   "id": "urban-software",
   "metadata": {
    "execution": {
     "iopub.execute_input": "2021-11-20T00:24:22.902726Z",
     "iopub.status.busy": "2021-11-20T00:24:22.902048Z",
     "iopub.status.idle": "2021-11-20T00:24:22.905359Z",
     "shell.execute_reply": "2021-11-20T00:24:22.904778Z"
    },
    "papermill": {
     "duration": 0.052417,
     "end_time": "2021-11-20T00:24:22.905509",
     "exception": false,
     "start_time": "2021-11-20T00:24:22.853092",
     "status": "completed"
    },
    "tags": []
   },
   "outputs": [],
   "source": [
    "#hide\n",
    "def get_mappings(url):\n",
    "    df = pd.read_csv(url)\n",
    "    return {\n",
    "        'df': df,\n",
    "        'replace.country': dict(df.dropna(subset=['Name']).set_index('Country')['Name']),\n",
    "        'map.continent': dict(df.set_index('Name')['Continent'])\n",
    "    }"
   ]
  },
  {
   "cell_type": "code",
   "execution_count": 5,
   "id": "intimate-machinery",
   "metadata": {
    "execution": {
     "iopub.execute_input": "2021-11-20T00:24:22.997457Z",
     "iopub.status.busy": "2021-11-20T00:24:22.996770Z",
     "iopub.status.idle": "2021-11-20T00:24:23.035698Z",
     "shell.execute_reply": "2021-11-20T00:24:23.036278Z"
    },
    "papermill": {
     "duration": 0.089235,
     "end_time": "2021-11-20T00:24:23.036465",
     "exception": false,
     "start_time": "2021-11-20T00:24:22.947230",
     "status": "completed"
    },
    "tags": []
   },
   "outputs": [],
   "source": [
    "#hide\n",
    "mapping = get_mappings(paths['mapping'])"
   ]
  },
  {
   "cell_type": "code",
   "execution_count": 6,
   "id": "certified-tactics",
   "metadata": {
    "execution": {
     "iopub.execute_input": "2021-11-20T00:24:23.130436Z",
     "iopub.status.busy": "2021-11-20T00:24:23.129556Z",
     "iopub.status.idle": "2021-11-20T00:24:23.134165Z",
     "shell.execute_reply": "2021-11-20T00:24:23.134711Z"
    },
    "papermill": {
     "duration": 0.053927,
     "end_time": "2021-11-20T00:24:23.135049",
     "exception": false,
     "start_time": "2021-11-20T00:24:23.081122",
     "status": "completed"
    },
    "tags": []
   },
   "outputs": [],
   "source": [
    "#hide\n",
    "def get_template(path):\n",
    "    from urllib.parse import urlparse\n",
    "    if bool(urlparse(path).netloc):\n",
    "        from urllib.request import urlopen\n",
    "        return urlopen(path).read().decode('utf8')\n",
    "    return open(path).read()"
   ]
  },
  {
   "cell_type": "code",
   "execution_count": 7,
   "id": "realistic-blast",
   "metadata": {
    "execution": {
     "iopub.execute_input": "2021-11-20T00:24:23.226818Z",
     "iopub.status.busy": "2021-11-20T00:24:23.226111Z",
     "iopub.status.idle": "2021-11-20T00:24:23.229373Z",
     "shell.execute_reply": "2021-11-20T00:24:23.228592Z"
    },
    "papermill": {
     "duration": 0.050802,
     "end_time": "2021-11-20T00:24:23.229511",
     "exception": false,
     "start_time": "2021-11-20T00:24:23.178709",
     "status": "completed"
    },
    "tags": []
   },
   "outputs": [],
   "source": [
    "#hide\n",
    "def get_frame(name):\n",
    "    url = (\n",
    "        'https://raw.githubusercontent.com/CSSEGISandData/COVID-19/master/csse_covid_19_data/'\n",
    "        f'csse_covid_19_time_series/time_series_covid19_{name}_global.csv')\n",
    "    df = pd.read_csv(url)\n",
    "    # rename countries\n",
    "    df['Country/Region'] = df['Country/Region'].replace(mapping['replace.country'])\n",
    "    return df"
   ]
  },
  {
   "cell_type": "code",
   "execution_count": 8,
   "id": "affiliated-characterization",
   "metadata": {
    "execution": {
     "iopub.execute_input": "2021-11-20T00:24:23.326155Z",
     "iopub.status.busy": "2021-11-20T00:24:23.325447Z",
     "iopub.status.idle": "2021-11-20T00:24:23.330142Z",
     "shell.execute_reply": "2021-11-20T00:24:23.329439Z"
    },
    "papermill": {
     "duration": 0.057787,
     "end_time": "2021-11-20T00:24:23.330283",
     "exception": false,
     "start_time": "2021-11-20T00:24:23.272496",
     "status": "completed"
    },
    "tags": []
   },
   "outputs": [],
   "source": [
    "#hide\n",
    "def get_dates(df):\n",
    "    dt_cols = df.columns[~df.columns.isin(['Province/State', 'Country/Region', 'Lat', 'Long'])]\n",
    "    LAST_DATE_I = -1\n",
    "    # sometimes last column may be empty, then go backwards\n",
    "    for i in range(-1, -len(dt_cols), -1):\n",
    "        if not df[dt_cols[i]].fillna(0).eq(0).all():\n",
    "            LAST_DATE_I = i\n",
    "            break\n",
    "    return LAST_DATE_I, dt_cols"
   ]
  },
  {
   "cell_type": "code",
   "execution_count": 9,
   "id": "recent-optimization",
   "metadata": {
    "execution": {
     "iopub.execute_input": "2021-11-20T00:24:23.423112Z",
     "iopub.status.busy": "2021-11-20T00:24:23.422250Z",
     "iopub.status.idle": "2021-11-20T00:24:23.821823Z",
     "shell.execute_reply": "2021-11-20T00:24:23.822449Z"
    },
    "papermill": {
     "duration": 0.450893,
     "end_time": "2021-11-20T00:24:23.822642",
     "exception": false,
     "start_time": "2021-11-20T00:24:23.371749",
     "status": "completed"
    },
    "tags": []
   },
   "outputs": [],
   "source": [
    "#hide\n",
    "COL_REGION = 'Country/Region'\n",
    "# Confirmed, Recovered, Deaths\n",
    "df = get_frame('confirmed')\n",
    "# dft_: timeseries, dfc_: today country agg\n",
    "dft_cases = df\n",
    "dft_deaths = get_frame('deaths')\n",
    "dft_recovered = get_frame('recovered')\n",
    "LAST_DATE_I, dt_cols = get_dates(df)"
   ]
  },
  {
   "cell_type": "code",
   "execution_count": 10,
   "id": "absolute-copper",
   "metadata": {
    "execution": {
     "iopub.execute_input": "2021-11-20T00:24:23.922224Z",
     "iopub.status.busy": "2021-11-20T00:24:23.920805Z",
     "iopub.status.idle": "2021-11-20T00:24:23.923121Z",
     "shell.execute_reply": "2021-11-20T00:24:23.921571Z"
    },
    "papermill": {
     "duration": 0.057468,
     "end_time": "2021-11-20T00:24:23.923270",
     "exception": false,
     "start_time": "2021-11-20T00:24:23.865802",
     "status": "completed"
    },
    "tags": []
   },
   "outputs": [],
   "source": [
    "#hide\n",
    "LAST_DATE_I, dt_cols = get_dates(df)\n",
    "dt_today =dt_cols[LAST_DATE_I]\n",
    "# dt_5day = dt_cols[LAST_DATE_I - 5]\n",
    "dt_yday = dt_cols[LAST_DATE_I - 1]"
   ]
  },
  {
   "cell_type": "code",
   "execution_count": 11,
   "id": "restricted-sheriff",
   "metadata": {
    "execution": {
     "iopub.execute_input": "2021-11-20T00:24:24.025509Z",
     "iopub.status.busy": "2021-11-20T00:24:24.024800Z",
     "iopub.status.idle": "2021-11-20T00:24:24.032476Z",
     "shell.execute_reply": "2021-11-20T00:24:24.033007Z"
    },
    "papermill": {
     "duration": 0.064732,
     "end_time": "2021-11-20T00:24:24.033186",
     "exception": false,
     "start_time": "2021-11-20T00:24:23.968454",
     "status": "completed"
    },
    "tags": []
   },
   "outputs": [],
   "source": [
    "#hide\n",
    "dfc_cases = dft_cases.groupby(COL_REGION)[dt_today].sum()\n",
    "dfc_deaths = dft_deaths.groupby(COL_REGION)[dt_today].sum()\n",
    "# dfp_cases = dft_cases.groupby(COL_REGION)[dt_5day].sum()\n",
    "# dfp_deaths = dft_deaths.groupby(COL_REGION)[dt_5day].sum()\n",
    "dfp_cases = dft_cases.groupby(COL_REGION)[dt_yday].sum()\n",
    "dfp_deaths = dft_deaths.groupby(COL_REGION)[dt_yday].sum()"
   ]
  },
  {
   "cell_type": "code",
   "execution_count": 12,
   "id": "deluxe-hepatitis",
   "metadata": {
    "execution": {
     "iopub.execute_input": "2021-11-20T00:24:24.132207Z",
     "iopub.status.busy": "2021-11-20T00:24:24.131443Z",
     "iopub.status.idle": "2021-11-20T00:24:24.134654Z",
     "shell.execute_reply": "2021-11-20T00:24:24.135216Z"
    },
    "papermill": {
     "duration": 0.060002,
     "end_time": "2021-11-20T00:24:24.135382",
     "exception": false,
     "start_time": "2021-11-20T00:24:24.075380",
     "status": "completed"
    },
    "tags": []
   },
   "outputs": [],
   "source": [
    "#hide\n",
    "df_table = (pd.DataFrame(dict(Cases = dfc_cases, Deaths = dfc_deaths, PCases = dfp_cases, PDeaths = dfp_deaths))\n",
    "            .sort_values(by = ['Cases','Deaths'], ascending = [False, False])\n",
    "            .reset_index())"
   ]
  },
  {
   "cell_type": "code",
   "execution_count": 13,
   "id": "educational-chancellor",
   "metadata": {
    "execution": {
     "iopub.execute_input": "2021-11-20T00:24:24.235198Z",
     "iopub.status.busy": "2021-11-20T00:24:24.234414Z",
     "iopub.status.idle": "2021-11-20T00:24:24.260361Z",
     "shell.execute_reply": "2021-11-20T00:24:24.261028Z"
    },
    "papermill": {
     "duration": 0.08256,
     "end_time": "2021-11-20T00:24:24.261202",
     "exception": false,
     "start_time": "2021-11-20T00:24:24.178642",
     "status": "completed"
    },
    "tags": []
   },
   "outputs": [
    {
     "data": {
      "text/html": [
       "<div>\n",
       "<style scoped>\n",
       "    .dataframe tbody tr th:only-of-type {\n",
       "        vertical-align: middle;\n",
       "    }\n",
       "\n",
       "    .dataframe tbody tr th {\n",
       "        vertical-align: top;\n",
       "    }\n",
       "\n",
       "    .dataframe thead th {\n",
       "        text-align: right;\n",
       "    }\n",
       "</style>\n",
       "<table border=\"1\" class=\"dataframe\">\n",
       "  <thead>\n",
       "    <tr style=\"text-align: right;\">\n",
       "      <th></th>\n",
       "      <th>Country/Region</th>\n",
       "      <th>Cases</th>\n",
       "      <th>Deaths</th>\n",
       "      <th>PCases</th>\n",
       "      <th>PDeaths</th>\n",
       "      <th>Cases (+)</th>\n",
       "      <th>Deaths (+)</th>\n",
       "      <th>Fatality Rate</th>\n",
       "      <th>Continent</th>\n",
       "    </tr>\n",
       "  </thead>\n",
       "  <tbody>\n",
       "    <tr>\n",
       "      <th>0</th>\n",
       "      <td>US</td>\n",
       "      <td>47531319</td>\n",
       "      <td>768695</td>\n",
       "      <td>47421741</td>\n",
       "      <td>767433</td>\n",
       "      <td>109578</td>\n",
       "      <td>1262</td>\n",
       "      <td>1.62</td>\n",
       "      <td>North America</td>\n",
       "    </tr>\n",
       "    <tr>\n",
       "      <th>1</th>\n",
       "      <td>India</td>\n",
       "      <td>34489623</td>\n",
       "      <td>465082</td>\n",
       "      <td>34478517</td>\n",
       "      <td>464623</td>\n",
       "      <td>11106</td>\n",
       "      <td>459</td>\n",
       "      <td>1.35</td>\n",
       "      <td>Asia</td>\n",
       "    </tr>\n",
       "    <tr>\n",
       "      <th>2</th>\n",
       "      <td>Brazil</td>\n",
       "      <td>21989962</td>\n",
       "      <td>612144</td>\n",
       "      <td>21977661</td>\n",
       "      <td>611851</td>\n",
       "      <td>12301</td>\n",
       "      <td>293</td>\n",
       "      <td>2.78</td>\n",
       "      <td>South America</td>\n",
       "    </tr>\n",
       "    <tr>\n",
       "      <th>3</th>\n",
       "      <td>United Kingdom</td>\n",
       "      <td>9772670</td>\n",
       "      <td>143999</td>\n",
       "      <td>9724617</td>\n",
       "      <td>143799</td>\n",
       "      <td>48053</td>\n",
       "      <td>200</td>\n",
       "      <td>1.47</td>\n",
       "      <td>Europe</td>\n",
       "    </tr>\n",
       "    <tr>\n",
       "      <th>4</th>\n",
       "      <td>Russia</td>\n",
       "      <td>9063318</td>\n",
       "      <td>255448</td>\n",
       "      <td>9027163</td>\n",
       "      <td>254229</td>\n",
       "      <td>36155</td>\n",
       "      <td>1219</td>\n",
       "      <td>2.82</td>\n",
       "      <td>Europe</td>\n",
       "    </tr>\n",
       "  </tbody>\n",
       "</table>\n",
       "</div>"
      ],
      "text/plain": [
       "   Country/Region     Cases  Deaths    PCases  PDeaths  Cases (+)  Deaths (+)  \\\n",
       "0              US  47531319  768695  47421741   767433     109578        1262   \n",
       "1           India  34489623  465082  34478517   464623      11106         459   \n",
       "2          Brazil  21989962  612144  21977661   611851      12301         293   \n",
       "3  United Kingdom   9772670  143999   9724617   143799      48053         200   \n",
       "4          Russia   9063318  255448   9027163   254229      36155        1219   \n",
       "\n",
       "   Fatality Rate      Continent  \n",
       "0           1.62  North America  \n",
       "1           1.35           Asia  \n",
       "2           2.78  South America  \n",
       "3           1.47         Europe  \n",
       "4           2.82         Europe  "
      ]
     },
     "execution_count": 13,
     "metadata": {},
     "output_type": "execute_result"
    }
   ],
   "source": [
    "#hide\n",
    "for c in 'Cases, Deaths'.split(', '):\n",
    "    df_table[f'{c} (+)'] = (df_table[c] - df_table[f'P{c}']).clip(0)\n",
    "    #Clip ça veut dire, les chiffres negatif sont interdit\n",
    "df_table['Fatality Rate'] = (100* df_table['Deaths']/ df_table['Cases']).round(2)\n",
    "df_table['Continent'] = df_table['Country/Region'].map(mapping['map.continent'])\n",
    "df_table.head(5)"
   ]
  },
  {
   "cell_type": "code",
   "execution_count": 14,
   "id": "aboriginal-bulgaria",
   "metadata": {
    "execution": {
     "iopub.execute_input": "2021-11-20T00:24:24.354338Z",
     "iopub.status.busy": "2021-11-20T00:24:24.353579Z",
     "iopub.status.idle": "2021-11-20T00:24:24.358495Z",
     "shell.execute_reply": "2021-11-20T00:24:24.357942Z"
    },
    "papermill": {
     "duration": 0.05507,
     "end_time": "2021-11-20T00:24:24.358641",
     "exception": false,
     "start_time": "2021-11-20T00:24:24.303571",
     "status": "completed"
    },
    "tags": []
   },
   "outputs": [],
   "source": [
    "#hide\n",
    "#delete problematic countries from table\n",
    "df_table = df_table[~df_table['Country/Region'].isin(['Cape Verde', 'Cruise Ship', 'Kosovo'])]"
   ]
  },
  {
   "cell_type": "code",
   "execution_count": 15,
   "id": "fantastic-effect",
   "metadata": {
    "execution": {
     "iopub.execute_input": "2021-11-20T00:24:24.454894Z",
     "iopub.status.busy": "2021-11-20T00:24:24.454176Z",
     "iopub.status.idle": "2021-11-20T00:24:24.476856Z",
     "shell.execute_reply": "2021-11-20T00:24:24.477540Z"
    },
    "papermill": {
     "duration": 0.076117,
     "end_time": "2021-11-20T00:24:24.477716",
     "exception": false,
     "start_time": "2021-11-20T00:24:24.401599",
     "status": "completed"
    },
    "tags": []
   },
   "outputs": [
    {
     "data": {
      "text/html": [
       "<div>\n",
       "<style scoped>\n",
       "    .dataframe tbody tr th:only-of-type {\n",
       "        vertical-align: middle;\n",
       "    }\n",
       "\n",
       "    .dataframe tbody tr th {\n",
       "        vertical-align: top;\n",
       "    }\n",
       "\n",
       "    .dataframe thead th {\n",
       "        text-align: right;\n",
       "    }\n",
       "</style>\n",
       "<table border=\"1\" class=\"dataframe\">\n",
       "  <thead>\n",
       "    <tr style=\"text-align: right;\">\n",
       "      <th></th>\n",
       "      <th>Country/Region</th>\n",
       "      <th>Cases</th>\n",
       "      <th>Deaths</th>\n",
       "      <th>PCases</th>\n",
       "      <th>PDeaths</th>\n",
       "      <th>Cases (+)</th>\n",
       "      <th>Deaths (+)</th>\n",
       "      <th>Fatality Rate</th>\n",
       "      <th>Continent</th>\n",
       "    </tr>\n",
       "  </thead>\n",
       "  <tbody>\n",
       "    <tr>\n",
       "      <th>0</th>\n",
       "      <td>US</td>\n",
       "      <td>47531319</td>\n",
       "      <td>768695</td>\n",
       "      <td>47421741</td>\n",
       "      <td>767433</td>\n",
       "      <td>109578</td>\n",
       "      <td>1262</td>\n",
       "      <td>1.6</td>\n",
       "      <td>North America</td>\n",
       "    </tr>\n",
       "    <tr>\n",
       "      <th>1</th>\n",
       "      <td>India</td>\n",
       "      <td>34489623</td>\n",
       "      <td>465082</td>\n",
       "      <td>34478517</td>\n",
       "      <td>464623</td>\n",
       "      <td>11106</td>\n",
       "      <td>459</td>\n",
       "      <td>1.3</td>\n",
       "      <td>Asia</td>\n",
       "    </tr>\n",
       "    <tr>\n",
       "      <th>2</th>\n",
       "      <td>Brazil</td>\n",
       "      <td>21989962</td>\n",
       "      <td>612144</td>\n",
       "      <td>21977661</td>\n",
       "      <td>611851</td>\n",
       "      <td>12301</td>\n",
       "      <td>293</td>\n",
       "      <td>2.8</td>\n",
       "      <td>South America</td>\n",
       "    </tr>\n",
       "    <tr>\n",
       "      <th>3</th>\n",
       "      <td>United Kingdom</td>\n",
       "      <td>9772670</td>\n",
       "      <td>143999</td>\n",
       "      <td>9724617</td>\n",
       "      <td>143799</td>\n",
       "      <td>48053</td>\n",
       "      <td>200</td>\n",
       "      <td>1.5</td>\n",
       "      <td>Europe</td>\n",
       "    </tr>\n",
       "    <tr>\n",
       "      <th>4</th>\n",
       "      <td>Russia</td>\n",
       "      <td>9063318</td>\n",
       "      <td>255448</td>\n",
       "      <td>9027163</td>\n",
       "      <td>254229</td>\n",
       "      <td>36155</td>\n",
       "      <td>1219</td>\n",
       "      <td>2.8</td>\n",
       "      <td>Europe</td>\n",
       "    </tr>\n",
       "  </tbody>\n",
       "</table>\n",
       "</div>"
      ],
      "text/plain": [
       "   Country/Region     Cases  Deaths    PCases  PDeaths  Cases (+)  Deaths (+)  \\\n",
       "0              US  47531319  768695  47421741   767433     109578        1262   \n",
       "1           India  34489623  465082  34478517   464623      11106         459   \n",
       "2          Brazil  21989962  612144  21977661   611851      12301         293   \n",
       "3  United Kingdom   9772670  143999   9724617   143799      48053         200   \n",
       "4          Russia   9063318  255448   9027163   254229      36155        1219   \n",
       "\n",
       "   Fatality Rate      Continent  \n",
       "0            1.6  North America  \n",
       "1            1.3           Asia  \n",
       "2            2.8  South America  \n",
       "3            1.5         Europe  \n",
       "4            2.8         Europe  "
      ]
     },
     "execution_count": 15,
     "metadata": {},
     "output_type": "execute_result"
    }
   ],
   "source": [
    "#hide\n",
    "df_table = (pd.DataFrame(dict(Cases=dfc_cases, Deaths=dfc_deaths, PCases=dfp_cases, PDeaths=dfp_deaths))\n",
    "             .sort_values(by=['Cases', 'Deaths'], ascending=[False, False])\n",
    "             .reset_index())\n",
    "df_table.rename(columns={'index': 'Country/Region'}, inplace=True)\n",
    "for c in 'Cases, Deaths'.split(', '):\n",
    "    df_table[f'{c} (+)'] = (df_table[c] - df_table[f'P{c}']).clip(0)  # DATA BUG\n",
    "df_table['Fatality Rate'] = (100 * df_table['Deaths'] / df_table['Cases']).round(1)\n",
    "df_table['Continent'] = df_table['Country/Region'].map(mapping['map.continent'])\n",
    "df_table.head(5)"
   ]
  },
  {
   "cell_type": "code",
   "execution_count": 16,
   "id": "fewer-occasion",
   "metadata": {
    "execution": {
     "iopub.execute_input": "2021-11-20T00:24:24.569046Z",
     "iopub.status.busy": "2021-11-20T00:24:24.568180Z",
     "iopub.status.idle": "2021-11-20T00:24:24.571106Z",
     "shell.execute_reply": "2021-11-20T00:24:24.570511Z"
    },
    "papermill": {
     "duration": 0.051419,
     "end_time": "2021-11-20T00:24:24.571255",
     "exception": false,
     "start_time": "2021-11-20T00:24:24.519836",
     "status": "completed"
    },
    "tags": []
   },
   "outputs": [],
   "source": [
    "#hide\n",
    "#delete problematic countries from table\n",
    "df_table = df_table[~df_table['Country/Region'].isin(['Cape Verde', 'Cruise Ship', 'Kosovo'])]"
   ]
  },
  {
   "cell_type": "code",
   "execution_count": 17,
   "id": "related-center",
   "metadata": {
    "execution": {
     "iopub.execute_input": "2021-11-20T00:24:24.683628Z",
     "iopub.status.busy": "2021-11-20T00:24:24.682893Z",
     "iopub.status.idle": "2021-11-20T00:24:24.686401Z",
     "shell.execute_reply": "2021-11-20T00:24:24.685794Z"
    },
    "papermill": {
     "duration": 0.070803,
     "end_time": "2021-11-20T00:24:24.686561",
     "exception": false,
     "start_time": "2021-11-20T00:24:24.615758",
     "status": "completed"
    },
    "tags": []
   },
   "outputs": [],
   "source": [
    "#hide\n",
    "metrics = [df_table.columns[index] for index in [1,2,5,6]]\n",
    "# s_china = df_table[df_table['Country/Region'].eq('China')][metrics].sum().add_prefix('China ')\n",
    "s_us = df_table[df_table['Country/Region'].eq('US')][metrics].sum().add_prefix('US ')\n",
    "s_eu = df_table[df_table['Continent'].eq('Europe')][metrics].sum().add_prefix('EU ')\n",
    "s_ind = df_table[df_table['Country/Region'].eq('India')][metrics].sum().add_prefix('India ')\n",
    "summary = {'updated': pd.to_datetime(dt_today), 'since': pd.to_datetime(dt_yday)}\n",
    "summary = {'updated': pd.to_datetime(dt_today), 'since': pd.to_datetime(dt_yday)}\n",
    "summary = {**summary, **df_table[metrics].sum(), **s_ind, **s_us, **s_eu}"
   ]
  },
  {
   "cell_type": "code",
   "execution_count": 18,
   "id": "engaging-syndrome",
   "metadata": {
    "execution": {
     "iopub.execute_input": "2021-11-20T00:24:24.782155Z",
     "iopub.status.busy": "2021-11-20T00:24:24.781445Z",
     "iopub.status.idle": "2021-11-20T00:24:24.799670Z",
     "shell.execute_reply": "2021-11-20T00:24:24.800312Z"
    },
    "papermill": {
     "duration": 0.069032,
     "end_time": "2021-11-20T00:24:24.800496",
     "exception": false,
     "start_time": "2021-11-20T00:24:24.731464",
     "status": "completed"
    },
    "tags": []
   },
   "outputs": [],
   "source": [
    "#hide\n",
    "dft_ct_new_cases = dft_cases.groupby(COL_REGION)[dt_cols].sum().diff(axis=1).fillna(0).astype(int)"
   ]
  },
  {
   "cell_type": "code",
   "execution_count": 19,
   "id": "neutral-assignment",
   "metadata": {
    "execution": {
     "iopub.execute_input": "2021-11-20T00:24:24.940875Z",
     "iopub.status.busy": "2021-11-20T00:24:24.939497Z",
     "iopub.status.idle": "2021-11-20T00:24:24.944038Z",
     "shell.execute_reply": "2021-11-20T00:24:24.944572Z"
    },
    "papermill": {
     "duration": 0.07625,
     "end_time": "2021-11-20T00:24:24.944747",
     "exception": false,
     "start_time": "2021-11-20T00:24:24.868497",
     "status": "completed"
    },
    "tags": []
   },
   "outputs": [],
   "source": [
    "#hide\n",
    "everydaycases = dft_ct_new_cases.cumsum(axis=1)"
   ]
  },
  {
   "cell_type": "code",
   "execution_count": 20,
   "id": "parliamentary-calgary",
   "metadata": {
    "execution": {
     "iopub.execute_input": "2021-11-20T00:24:25.046829Z",
     "iopub.status.busy": "2021-11-20T00:24:25.046125Z",
     "iopub.status.idle": "2021-11-20T00:24:25.847390Z",
     "shell.execute_reply": "2021-11-20T00:24:25.846759Z"
    },
    "papermill": {
     "duration": 0.853456,
     "end_time": "2021-11-20T00:24:25.847552",
     "exception": false,
     "start_time": "2021-11-20T00:24:24.994096",
     "status": "completed"
    },
    "tags": []
   },
   "outputs": [],
   "source": [
    "#hide\n",
    "import pandas as pd\n",
    "import matplotlib.pyplot as plt\n",
    "import matplotlib.ticker as ticker\n",
    "import matplotlib.animation as animation\n",
    "from IPython.display import HTML"
   ]
  },
  {
   "cell_type": "code",
   "execution_count": 21,
   "id": "lasting-extraction",
   "metadata": {
    "execution": {
     "iopub.execute_input": "2021-11-20T00:24:25.944347Z",
     "iopub.status.busy": "2021-11-20T00:24:25.943618Z",
     "iopub.status.idle": "2021-11-20T00:24:25.951228Z",
     "shell.execute_reply": "2021-11-20T00:24:25.950442Z"
    },
    "papermill": {
     "duration": 0.058581,
     "end_time": "2021-11-20T00:24:25.951396",
     "exception": false,
     "start_time": "2021-11-20T00:24:25.892815",
     "status": "completed"
    },
    "tags": []
   },
   "outputs": [],
   "source": [
    "#hide\n",
    "t = everydaycases.stack()"
   ]
  },
  {
   "cell_type": "code",
   "execution_count": 22,
   "id": "premier-sleeve",
   "metadata": {
    "execution": {
     "iopub.execute_input": "2021-11-20T00:24:26.048548Z",
     "iopub.status.busy": "2021-11-20T00:24:26.047823Z",
     "iopub.status.idle": "2021-11-20T00:24:26.061272Z",
     "shell.execute_reply": "2021-11-20T00:24:26.060645Z"
    },
    "papermill": {
     "duration": 0.064408,
     "end_time": "2021-11-20T00:24:26.061438",
     "exception": false,
     "start_time": "2021-11-20T00:24:25.997030",
     "status": "completed"
    },
    "tags": []
   },
   "outputs": [],
   "source": [
    "#hide\n",
    "g = t.reset_index(['Country/Region'])"
   ]
  },
  {
   "cell_type": "code",
   "execution_count": 23,
   "id": "distributed-pittsburgh",
   "metadata": {
    "execution": {
     "iopub.execute_input": "2021-11-20T00:24:26.158251Z",
     "iopub.status.busy": "2021-11-20T00:24:26.156690Z",
     "iopub.status.idle": "2021-11-20T00:24:26.159130Z",
     "shell.execute_reply": "2021-11-20T00:24:26.159838Z"
    },
    "papermill": {
     "duration": 0.051914,
     "end_time": "2021-11-20T00:24:26.160024",
     "exception": false,
     "start_time": "2021-11-20T00:24:26.108110",
     "status": "completed"
    },
    "tags": []
   },
   "outputs": [],
   "source": [
    "#hide\n",
    "g.index.name = 'date'"
   ]
  },
  {
   "cell_type": "code",
   "execution_count": 24,
   "id": "naked-donor",
   "metadata": {
    "execution": {
     "iopub.execute_input": "2021-11-20T00:24:26.266238Z",
     "iopub.status.busy": "2021-11-20T00:24:26.265358Z",
     "iopub.status.idle": "2021-11-20T00:24:26.268804Z",
     "shell.execute_reply": "2021-11-20T00:24:26.267889Z"
    },
    "papermill": {
     "duration": 0.059001,
     "end_time": "2021-11-20T00:24:26.268952",
     "exception": false,
     "start_time": "2021-11-20T00:24:26.209951",
     "status": "completed"
    },
    "tags": []
   },
   "outputs": [],
   "source": [
    "# #hide\n",
    "# g = g.reset_index(['date'])"
   ]
  },
  {
   "cell_type": "code",
   "execution_count": 25,
   "id": "incomplete-mustang",
   "metadata": {
    "execution": {
     "iopub.execute_input": "2021-11-20T00:24:26.372851Z",
     "iopub.status.busy": "2021-11-20T00:24:26.371985Z",
     "iopub.status.idle": "2021-11-20T00:24:26.374815Z",
     "shell.execute_reply": "2021-11-20T00:24:26.374087Z"
    },
    "papermill": {
     "duration": 0.061006,
     "end_time": "2021-11-20T00:24:26.374973",
     "exception": false,
     "start_time": "2021-11-20T00:24:26.313967",
     "status": "completed"
    },
    "tags": []
   },
   "outputs": [],
   "source": [
    "#hide\n",
    "# g.head()"
   ]
  },
  {
   "cell_type": "code",
   "execution_count": 26,
   "id": "specific-kruger",
   "metadata": {
    "execution": {
     "iopub.execute_input": "2021-11-20T00:24:26.468479Z",
     "iopub.status.busy": "2021-11-20T00:24:26.467736Z",
     "iopub.status.idle": "2021-11-20T00:24:26.470640Z",
     "shell.execute_reply": "2021-11-20T00:24:26.469887Z"
    },
    "papermill": {
     "duration": 0.050246,
     "end_time": "2021-11-20T00:24:26.470790",
     "exception": false,
     "start_time": "2021-11-20T00:24:26.420544",
     "status": "completed"
    },
    "tags": []
   },
   "outputs": [],
   "source": [
    "#hide\n",
    "# g.columns = ['date','country','cases']"
   ]
  },
  {
   "cell_type": "code",
   "execution_count": 27,
   "id": "tender-conversion",
   "metadata": {
    "execution": {
     "iopub.execute_input": "2021-11-20T00:24:26.564284Z",
     "iopub.status.busy": "2021-11-20T00:24:26.563441Z",
     "iopub.status.idle": "2021-11-20T00:24:26.569403Z",
     "shell.execute_reply": "2021-11-20T00:24:26.570267Z"
    },
    "papermill": {
     "duration": 0.056359,
     "end_time": "2021-11-20T00:24:26.570467",
     "exception": false,
     "start_time": "2021-11-20T00:24:26.514108",
     "status": "completed"
    },
    "tags": []
   },
   "outputs": [],
   "source": [
    "#hide\n",
    "# g['continent'] = g.country"
   ]
  },
  {
   "cell_type": "code",
   "execution_count": 28,
   "id": "substantial-wilderness",
   "metadata": {
    "execution": {
     "iopub.execute_input": "2021-11-20T00:24:26.665140Z",
     "iopub.status.busy": "2021-11-20T00:24:26.664271Z",
     "iopub.status.idle": "2021-11-20T00:24:26.666364Z",
     "shell.execute_reply": "2021-11-20T00:24:26.667106Z"
    },
    "papermill": {
     "duration": 0.051578,
     "end_time": "2021-11-20T00:24:26.667271",
     "exception": false,
     "start_time": "2021-11-20T00:24:26.615693",
     "status": "completed"
    },
    "tags": []
   },
   "outputs": [],
   "source": [
    "#hide\n",
    "# cols = list(g.columns.values)"
   ]
  },
  {
   "cell_type": "code",
   "execution_count": 29,
   "id": "solved-farming",
   "metadata": {
    "execution": {
     "iopub.execute_input": "2021-11-20T00:24:26.760638Z",
     "iopub.status.busy": "2021-11-20T00:24:26.759920Z",
     "iopub.status.idle": "2021-11-20T00:24:26.762831Z",
     "shell.execute_reply": "2021-11-20T00:24:26.763434Z"
    },
    "papermill": {
     "duration": 0.053538,
     "end_time": "2021-11-20T00:24:26.763604",
     "exception": false,
     "start_time": "2021-11-20T00:24:26.710066",
     "status": "completed"
    },
    "tags": []
   },
   "outputs": [],
   "source": [
    "#hide\n",
    "# cols.insert(0, cols.pop())"
   ]
  },
  {
   "cell_type": "code",
   "execution_count": 30,
   "id": "executed-adoption",
   "metadata": {
    "execution": {
     "iopub.execute_input": "2021-11-20T00:24:26.865743Z",
     "iopub.status.busy": "2021-11-20T00:24:26.864993Z",
     "iopub.status.idle": "2021-11-20T00:24:26.866906Z",
     "shell.execute_reply": "2021-11-20T00:24:26.867541Z"
    },
    "papermill": {
     "duration": 0.057577,
     "end_time": "2021-11-20T00:24:26.867704",
     "exception": false,
     "start_time": "2021-11-20T00:24:26.810127",
     "status": "completed"
    },
    "tags": []
   },
   "outputs": [],
   "source": [
    "#hide\n",
    "# g = g[cols]"
   ]
  },
  {
   "cell_type": "code",
   "execution_count": 31,
   "id": "subject-dublin",
   "metadata": {
    "execution": {
     "iopub.execute_input": "2021-11-20T00:24:26.966415Z",
     "iopub.status.busy": "2021-11-20T00:24:26.965696Z",
     "iopub.status.idle": "2021-11-20T00:24:26.967117Z",
     "shell.execute_reply": "2021-11-20T00:24:26.967787Z"
    },
    "papermill": {
     "duration": 0.055815,
     "end_time": "2021-11-20T00:24:26.967987",
     "exception": false,
     "start_time": "2021-11-20T00:24:26.912172",
     "status": "completed"
    },
    "tags": []
   },
   "outputs": [],
   "source": [
    "#hide\n",
    "# g['continent'] = g['continent'].map(mapping['map.continent'])"
   ]
  },
  {
   "cell_type": "code",
   "execution_count": 32,
   "id": "freelance-scout",
   "metadata": {
    "execution": {
     "iopub.execute_input": "2021-11-20T00:24:27.074720Z",
     "iopub.status.busy": "2021-11-20T00:24:27.074022Z",
     "iopub.status.idle": "2021-11-20T00:24:27.079205Z",
     "shell.execute_reply": "2021-11-20T00:24:27.078420Z"
    },
    "papermill": {
     "duration": 0.059681,
     "end_time": "2021-11-20T00:24:27.079401",
     "exception": false,
     "start_time": "2021-11-20T00:24:27.019720",
     "status": "completed"
    },
    "tags": []
   },
   "outputs": [],
   "source": [
    "#hide\n",
    "# g.head()"
   ]
  },
  {
   "cell_type": "code",
   "execution_count": 33,
   "id": "limited-engine",
   "metadata": {
    "execution": {
     "iopub.execute_input": "2021-11-20T00:24:27.173077Z",
     "iopub.status.busy": "2021-11-20T00:24:27.172336Z",
     "iopub.status.idle": "2021-11-20T00:24:27.176430Z",
     "shell.execute_reply": "2021-11-20T00:24:27.177051Z"
    },
    "papermill": {
     "duration": 0.051646,
     "end_time": "2021-11-20T00:24:27.177231",
     "exception": false,
     "start_time": "2021-11-20T00:24:27.125585",
     "status": "completed"
    },
    "tags": []
   },
   "outputs": [],
   "source": [
    "# hide\n",
    "# g['date'] = g['date'].astype('datetime64[ns]')"
   ]
  },
  {
   "cell_type": "code",
   "execution_count": 34,
   "id": "sophisticated-supervisor",
   "metadata": {
    "execution": {
     "iopub.execute_input": "2021-11-20T00:24:27.268873Z",
     "iopub.status.busy": "2021-11-20T00:24:27.268137Z",
     "iopub.status.idle": "2021-11-20T00:24:27.271343Z",
     "shell.execute_reply": "2021-11-20T00:24:27.273821Z"
    },
    "papermill": {
     "duration": 0.053132,
     "end_time": "2021-11-20T00:24:27.274018",
     "exception": false,
     "start_time": "2021-11-20T00:24:27.220886",
     "status": "completed"
    },
    "tags": []
   },
   "outputs": [],
   "source": [
    "#hide\n",
    "# g['date'] = g.date.dt.dayofyear"
   ]
  },
  {
   "cell_type": "code",
   "execution_count": 35,
   "id": "inside-dubai",
   "metadata": {
    "execution": {
     "iopub.execute_input": "2021-11-20T00:24:27.370838Z",
     "iopub.status.busy": "2021-11-20T00:24:27.370128Z",
     "iopub.status.idle": "2021-11-20T00:24:27.374098Z",
     "shell.execute_reply": "2021-11-20T00:24:27.374769Z"
    },
    "papermill": {
     "duration": 0.054997,
     "end_time": "2021-11-20T00:24:27.375040",
     "exception": false,
     "start_time": "2021-11-20T00:24:27.320043",
     "status": "completed"
    },
    "tags": []
   },
   "outputs": [],
   "source": [
    "#hide\n",
    "# g = g.rename(columns= {'continent':'group','country':'name','cases':'value'})"
   ]
  },
  {
   "cell_type": "code",
   "execution_count": 36,
   "id": "fleet-motorcycle",
   "metadata": {
    "execution": {
     "iopub.execute_input": "2021-11-20T00:24:27.466875Z",
     "iopub.status.busy": "2021-11-20T00:24:27.466162Z",
     "iopub.status.idle": "2021-11-20T00:24:27.470521Z",
     "shell.execute_reply": "2021-11-20T00:24:27.471059Z"
    },
    "papermill": {
     "duration": 0.052594,
     "end_time": "2021-11-20T00:24:27.471241",
     "exception": false,
     "start_time": "2021-11-20T00:24:27.418647",
     "status": "completed"
    },
    "tags": []
   },
   "outputs": [],
   "source": [
    "#hide\n",
    "# cols = ['name','group','day','value']"
   ]
  },
  {
   "cell_type": "code",
   "execution_count": 37,
   "id": "continued-sleeping",
   "metadata": {
    "execution": {
     "iopub.execute_input": "2021-11-20T00:24:27.563393Z",
     "iopub.status.busy": "2021-11-20T00:24:27.562471Z",
     "iopub.status.idle": "2021-11-20T00:24:27.564947Z",
     "shell.execute_reply": "2021-11-20T00:24:27.564224Z"
    },
    "papermill": {
     "duration": 0.050423,
     "end_time": "2021-11-20T00:24:27.565184",
     "exception": false,
     "start_time": "2021-11-20T00:24:27.514761",
     "status": "completed"
    },
    "tags": []
   },
   "outputs": [],
   "source": [
    "#hide\n",
    "# g.rename(columns= {'date':'day'},inplace = True)"
   ]
  },
  {
   "cell_type": "code",
   "execution_count": 38,
   "id": "major-fight",
   "metadata": {
    "execution": {
     "iopub.execute_input": "2021-11-20T00:24:27.658057Z",
     "iopub.status.busy": "2021-11-20T00:24:27.657333Z",
     "iopub.status.idle": "2021-11-20T00:24:27.661894Z",
     "shell.execute_reply": "2021-11-20T00:24:27.662595Z"
    },
    "papermill": {
     "duration": 0.054734,
     "end_time": "2021-11-20T00:24:27.662767",
     "exception": false,
     "start_time": "2021-11-20T00:24:27.608033",
     "status": "completed"
    },
    "tags": []
   },
   "outputs": [],
   "source": [
    "#hide\n",
    "# g = g[cols]"
   ]
  },
  {
   "cell_type": "code",
   "execution_count": 39,
   "id": "structured-mobile",
   "metadata": {
    "execution": {
     "iopub.execute_input": "2021-11-20T00:24:27.759896Z",
     "iopub.status.busy": "2021-11-20T00:24:27.758938Z",
     "iopub.status.idle": "2021-11-20T00:24:27.761365Z",
     "shell.execute_reply": "2021-11-20T00:24:27.760633Z"
    },
    "papermill": {
     "duration": 0.052716,
     "end_time": "2021-11-20T00:24:27.761510",
     "exception": false,
     "start_time": "2021-11-20T00:24:27.708794",
     "status": "completed"
    },
    "tags": []
   },
   "outputs": [],
   "source": [
    "# #hide\n",
    "# g = g[g.group.notna()]"
   ]
  },
  {
   "cell_type": "code",
   "execution_count": 40,
   "id": "determined-closing",
   "metadata": {
    "execution": {
     "iopub.execute_input": "2021-11-20T00:24:27.857222Z",
     "iopub.status.busy": "2021-11-20T00:24:27.856311Z",
     "iopub.status.idle": "2021-11-20T00:24:27.859067Z",
     "shell.execute_reply": "2021-11-20T00:24:27.859683Z"
    },
    "papermill": {
     "duration": 0.052688,
     "end_time": "2021-11-20T00:24:27.859847",
     "exception": false,
     "start_time": "2021-11-20T00:24:27.807159",
     "status": "completed"
    },
    "tags": []
   },
   "outputs": [],
   "source": [
    "# #hide\n",
    "# colors = dict(zip(\n",
    "#     [\"Oceania\", \"Europe\", \"Asia\", \"South America\", \"Middle East\", \"North America\", \"Africa\"],\n",
    "#     [\"#adb0ff\", \"#ffb3ff\", \"#90d595\", \"#e48381\", \"#aafbff\", \"#f7bb5f\", \"#eafb50\"]\n",
    "# ))\n",
    "# group_lk = g.set_index('name')['group'].to_dict()"
   ]
  },
  {
   "cell_type": "code",
   "execution_count": null,
   "id": "gross-drinking",
   "metadata": {
    "papermill": {
     "duration": 0.043574,
     "end_time": "2021-11-20T00:24:27.946245",
     "exception": false,
     "start_time": "2021-11-20T00:24:27.902671",
     "status": "completed"
    },
    "tags": []
   },
   "outputs": [],
   "source": []
  },
  {
   "cell_type": "code",
   "execution_count": 41,
   "id": "subject-macintosh",
   "metadata": {
    "execution": {
     "iopub.execute_input": "2021-11-20T00:24:28.038669Z",
     "iopub.status.busy": "2021-11-20T00:24:28.037948Z",
     "iopub.status.idle": "2021-11-20T00:24:28.040129Z",
     "shell.execute_reply": "2021-11-20T00:24:28.039403Z"
    },
    "papermill": {
     "duration": 0.049479,
     "end_time": "2021-11-20T00:24:28.040292",
     "exception": false,
     "start_time": "2021-11-20T00:24:27.990813",
     "status": "completed"
    },
    "tags": []
   },
   "outputs": [],
   "source": [
    "# #hide\n",
    "# fig, ax = plt.subplots(figsize=(15, 8))\n",
    "\n",
    "# def draw_barchart(current_day):\n",
    "#     dff = g[g['day'].eq(current_day)].sort_values(by='value', ascending=True).tail(10)\n",
    "#     ax.clear()\n",
    "#     ax.barh(dff['name'], dff['value'], color=[colors[group_lk[x]] for x in dff['name']])\n",
    "#     dx = dff['value'].max() / 200\n",
    "    \n",
    "#     for i, (value, name) in enumerate(zip(dff['value'], dff['name'])):\n",
    "#         ax.text(value-dx, i,     name,           size=14, weight=600, ha='right', va='bottom')\n",
    "#         ax.text(value-dx, i-.25, group_lk[name], size=10, color='#444444', ha='right', va='baseline')\n",
    "#         ax.text(value+dx, i,     f'{value:,.0f}',  size=14, ha='left',  va='center')\n",
    "#     ax.text(1, 0.4, current_day, transform=ax.transAxes, color='#777777', size=46, ha='right', weight=800)\n",
    "#     ax.text(0, 1.06, 'Population (thousands)', transform=ax.transAxes, size=12, color='#777777')\n",
    "#     ax.xaxis.set_major_formatter(ticker.StrMethodFormatter('{x:,.0f}'))\n",
    "#     ax.xaxis.set_ticks_position('top')\n",
    "#     ax.tick_params(axis='x', colors='#777777', labelsize=12)\n",
    "#     ax.set_yticks([])\n",
    "#     ax.margins(0, 0.01)\n",
    "#     ax.grid(which='major', axis='x', linestyle='-')\n",
    "#     ax.set_axisbelow(True)\n",
    "    \n",
    "#     ax.text(0, 1.15, 'Coronavirus',\n",
    "#             transform=ax.transAxes, size=24, weight=600, ha='left', va='top')\n",
    "# #     ax.text(1, 0, 'by @pratapvardhan; credit @jburnmurdoch', transform=ax.transAxes, color='#777777', ha='right',\n",
    "# #             bbox=dict(facecolor='white', alpha=0.8, edgecolor='white'))\n",
    "#     plt.box(False)"
   ]
  },
  {
   "cell_type": "code",
   "execution_count": 42,
   "id": "sexual-wages",
   "metadata": {
    "execution": {
     "iopub.execute_input": "2021-11-20T00:24:28.128508Z",
     "iopub.status.busy": "2021-11-20T00:24:28.127774Z",
     "iopub.status.idle": "2021-11-20T00:24:28.129912Z",
     "shell.execute_reply": "2021-11-20T00:24:28.130500Z"
    },
    "papermill": {
     "duration": 0.048432,
     "end_time": "2021-11-20T00:24:28.130659",
     "exception": false,
     "start_time": "2021-11-20T00:24:28.082227",
     "status": "completed"
    },
    "tags": []
   },
   "outputs": [],
   "source": [
    "# #hide_input\n",
    "# fig, ax = plt.subplots(figsize=(15, 8))\n",
    "# animator = animation.FuncAnimation(fig, draw_barchart, frames=range(g.day.values.min(), g.day.values.max()))\n",
    "# HTML(animator.to_jshtml())\n",
    "# # or use animator.to_html5_video() or animator.save() "
   ]
  },
  {
   "cell_type": "code",
   "execution_count": null,
   "id": "australian-container",
   "metadata": {
    "papermill": {
     "duration": 0.045236,
     "end_time": "2021-11-20T00:24:28.221266",
     "exception": false,
     "start_time": "2021-11-20T00:24:28.176030",
     "status": "completed"
    },
    "tags": []
   },
   "outputs": [],
   "source": []
  },
  {
   "cell_type": "code",
   "execution_count": null,
   "id": "mediterranean-pontiac",
   "metadata": {
    "papermill": {
     "duration": 0.044138,
     "end_time": "2021-11-20T00:24:28.308940",
     "exception": false,
     "start_time": "2021-11-20T00:24:28.264802",
     "status": "completed"
    },
    "tags": []
   },
   "outputs": [],
   "source": []
  },
  {
   "cell_type": "code",
   "execution_count": null,
   "id": "aging-legislature",
   "metadata": {
    "papermill": {
     "duration": 0.042066,
     "end_time": "2021-11-20T00:24:28.393554",
     "exception": false,
     "start_time": "2021-11-20T00:24:28.351488",
     "status": "completed"
    },
    "tags": []
   },
   "outputs": [],
   "source": []
  }
 ],
 "metadata": {
  "kernelspec": {
   "display_name": "Python 3",
   "language": "python",
   "name": "python3"
  },
  "language_info": {
   "codemirror_mode": {
    "name": "ipython",
    "version": 3
   },
   "file_extension": ".py",
   "mimetype": "text/x-python",
   "name": "python",
   "nbconvert_exporter": "python",
   "pygments_lexer": "ipython3",
   "version": "3.6.15"
  },
  "papermill": {
   "duration": 8.108328,
   "end_time": "2021-11-20T00:24:28.849156",
   "environment_variables": {},
   "exception": null,
   "input_path": "2020-03-21-covid19exp.ipynb",
   "output_path": "2020-03-21-covid19exp.ipynb",
   "parameters": {},
   "start_time": "2021-11-20T00:24:20.740828",
   "version": "2.0.0"
  }
 },
 "nbformat": 4,
 "nbformat_minor": 5
}