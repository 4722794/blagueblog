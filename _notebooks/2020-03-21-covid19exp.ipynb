{
 "cells": [
  {
   "cell_type": "markdown",
   "id": "muslim-click",
   "metadata": {
    "papermill": {
     "duration": 0.047929,
     "end_time": "2022-11-26T00:38:52.145283",
     "exception": false,
     "start_time": "2022-11-26T00:38:52.097354",
     "status": "completed"
    },
    "tags": []
   },
   "source": [
    "# COVID-19 Case Race\n",
    "> A race chart to see rising cases around the world\n",
    "\n",
    "- author: Hargun Oberoi\n",
    "- image: images/covid-overview.png\n",
    "- hide: false\n",
    "- badges: false"
   ]
  },
  {
   "cell_type": "code",
   "execution_count": 1,
   "id": "proof-material",
   "metadata": {
    "execution": {
     "iopub.execute_input": "2022-11-26T00:38:52.239430Z",
     "iopub.status.busy": "2022-11-26T00:38:52.238566Z",
     "iopub.status.idle": "2022-11-26T00:38:52.643239Z",
     "shell.execute_reply": "2022-11-26T00:38:52.641999Z"
    },
    "papermill": {
     "duration": 0.458041,
     "end_time": "2022-11-26T00:38:52.643412",
     "exception": false,
     "start_time": "2022-11-26T00:38:52.185371",
     "status": "completed"
    },
    "tags": []
   },
   "outputs": [],
   "source": [
    "#hide\n",
    "import numpy as np\n",
    "import pandas as pd\n",
    "from jinja2 import Template\n",
    "from IPython.display import HTML"
   ]
  },
  {
   "cell_type": "code",
   "execution_count": 2,
   "id": "developed-terminology",
   "metadata": {
    "execution": {
     "iopub.execute_input": "2022-11-26T00:38:52.725024Z",
     "iopub.status.busy": "2022-11-26T00:38:52.724300Z",
     "iopub.status.idle": "2022-11-26T00:38:52.727795Z",
     "shell.execute_reply": "2022-11-26T00:38:52.727138Z"
    },
    "papermill": {
     "duration": 0.045703,
     "end_time": "2022-11-26T00:38:52.727933",
     "exception": false,
     "start_time": "2022-11-26T00:38:52.682230",
     "status": "completed"
    },
    "tags": []
   },
   "outputs": [],
   "source": [
    "#hide\n",
    "\n",
    "# FETCH\n",
    "base_url = 'https://raw.githubusercontent.com/pratapvardhan/notebooks/master/covid19/'\n",
    "paths = {\n",
    "    'mapping': base_url + 'mapping_countries.csv',\n",
    "    'overview': base_url + 'overview.tpl'\n",
    "}"
   ]
  },
  {
   "cell_type": "code",
   "execution_count": 3,
   "id": "dynamic-saver",
   "metadata": {
    "execution": {
     "iopub.execute_input": "2022-11-26T00:38:52.817050Z",
     "iopub.status.busy": "2022-11-26T00:38:52.816220Z",
     "iopub.status.idle": "2022-11-26T00:38:52.820578Z",
     "shell.execute_reply": "2022-11-26T00:38:52.819813Z"
    },
    "papermill": {
     "duration": 0.05471,
     "end_time": "2022-11-26T00:38:52.820705",
     "exception": false,
     "start_time": "2022-11-26T00:38:52.765995",
     "status": "completed"
    },
    "tags": []
   },
   "outputs": [
    {
     "data": {
      "text/plain": [
       "'https://raw.githubusercontent.com/pratapvardhan/notebooks/master/covid19/mapping_countries.csv'"
      ]
     },
     "execution_count": 3,
     "metadata": {},
     "output_type": "execute_result"
    }
   ],
   "source": [
    "#hide\n",
    "paths['mapping']"
   ]
  },
  {
   "cell_type": "code",
   "execution_count": 4,
   "id": "urban-software",
   "metadata": {
    "execution": {
     "iopub.execute_input": "2022-11-26T00:38:52.912664Z",
     "iopub.status.busy": "2022-11-26T00:38:52.911965Z",
     "iopub.status.idle": "2022-11-26T00:38:52.918438Z",
     "shell.execute_reply": "2022-11-26T00:38:52.917848Z"
    },
    "papermill": {
     "duration": 0.051808,
     "end_time": "2022-11-26T00:38:52.918583",
     "exception": false,
     "start_time": "2022-11-26T00:38:52.866775",
     "status": "completed"
    },
    "tags": []
   },
   "outputs": [],
   "source": [
    "#hide\n",
    "def get_mappings(url):\n",
    "    df = pd.read_csv(url)\n",
    "    return {\n",
    "        'df': df,\n",
    "        'replace.country': dict(df.dropna(subset=['Name']).set_index('Country')['Name']),\n",
    "        'map.continent': dict(df.set_index('Name')['Continent'])\n",
    "    }"
   ]
  },
  {
   "cell_type": "code",
   "execution_count": 5,
   "id": "intimate-machinery",
   "metadata": {
    "execution": {
     "iopub.execute_input": "2022-11-26T00:38:52.999862Z",
     "iopub.status.busy": "2022-11-26T00:38:52.999124Z",
     "iopub.status.idle": "2022-11-26T00:38:53.048353Z",
     "shell.execute_reply": "2022-11-26T00:38:53.047687Z"
    },
    "papermill": {
     "duration": 0.092888,
     "end_time": "2022-11-26T00:38:53.048501",
     "exception": false,
     "start_time": "2022-11-26T00:38:52.955613",
     "status": "completed"
    },
    "tags": []
   },
   "outputs": [],
   "source": [
    "#hide\n",
    "mapping = get_mappings(paths['mapping'])"
   ]
  },
  {
   "cell_type": "code",
   "execution_count": 6,
   "id": "certified-tactics",
   "metadata": {
    "execution": {
     "iopub.execute_input": "2022-11-26T00:38:53.132529Z",
     "iopub.status.busy": "2022-11-26T00:38:53.131371Z",
     "iopub.status.idle": "2022-11-26T00:38:53.133543Z",
     "shell.execute_reply": "2022-11-26T00:38:53.134261Z"
    },
    "papermill": {
     "duration": 0.046225,
     "end_time": "2022-11-26T00:38:53.134417",
     "exception": false,
     "start_time": "2022-11-26T00:38:53.088192",
     "status": "completed"
    },
    "tags": []
   },
   "outputs": [],
   "source": [
    "#hide\n",
    "def get_template(path):\n",
    "    from urllib.parse import urlparse\n",
    "    if bool(urlparse(path).netloc):\n",
    "        from urllib.request import urlopen\n",
    "        return urlopen(path).read().decode('utf8')\n",
    "    return open(path).read()"
   ]
  },
  {
   "cell_type": "code",
   "execution_count": 7,
   "id": "realistic-blast",
   "metadata": {
    "execution": {
     "iopub.execute_input": "2022-11-26T00:38:53.217319Z",
     "iopub.status.busy": "2022-11-26T00:38:53.216476Z",
     "iopub.status.idle": "2022-11-26T00:38:53.221950Z",
     "shell.execute_reply": "2022-11-26T00:38:53.222685Z"
    },
    "papermill": {
     "duration": 0.0488,
     "end_time": "2022-11-26T00:38:53.222855",
     "exception": false,
     "start_time": "2022-11-26T00:38:53.174055",
     "status": "completed"
    },
    "tags": []
   },
   "outputs": [],
   "source": [
    "#hide\n",
    "def get_frame(name):\n",
    "    url = (\n",
    "        'https://raw.githubusercontent.com/CSSEGISandData/COVID-19/master/csse_covid_19_data/'\n",
    "        f'csse_covid_19_time_series/time_series_covid19_{name}_global.csv')\n",
    "    df = pd.read_csv(url)\n",
    "    # rename countries\n",
    "    df['Country/Region'] = df['Country/Region'].replace(mapping['replace.country'])\n",
    "    return df"
   ]
  },
  {
   "cell_type": "code",
   "execution_count": 8,
   "id": "affiliated-characterization",
   "metadata": {
    "execution": {
     "iopub.execute_input": "2022-11-26T00:38:53.309159Z",
     "iopub.status.busy": "2022-11-26T00:38:53.308320Z",
     "iopub.status.idle": "2022-11-26T00:38:53.311770Z",
     "shell.execute_reply": "2022-11-26T00:38:53.311004Z"
    },
    "papermill": {
     "duration": 0.049394,
     "end_time": "2022-11-26T00:38:53.311903",
     "exception": false,
     "start_time": "2022-11-26T00:38:53.262509",
     "status": "completed"
    },
    "tags": []
   },
   "outputs": [],
   "source": [
    "#hide\n",
    "def get_dates(df):\n",
    "    dt_cols = df.columns[~df.columns.isin(['Province/State', 'Country/Region', 'Lat', 'Long'])]\n",
    "    LAST_DATE_I = -1\n",
    "    # sometimes last column may be empty, then go backwards\n",
    "    for i in range(-1, -len(dt_cols), -1):\n",
    "        if not df[dt_cols[i]].fillna(0).eq(0).all():\n",
    "            LAST_DATE_I = i\n",
    "            break\n",
    "    return LAST_DATE_I, dt_cols"
   ]
  },
  {
   "cell_type": "code",
   "execution_count": 9,
   "id": "recent-optimization",
   "metadata": {
    "execution": {
     "iopub.execute_input": "2022-11-26T00:38:53.399306Z",
     "iopub.status.busy": "2022-11-26T00:38:53.398087Z",
     "iopub.status.idle": "2022-11-26T00:38:53.931593Z",
     "shell.execute_reply": "2022-11-26T00:38:53.930926Z"
    },
    "papermill": {
     "duration": 0.580627,
     "end_time": "2022-11-26T00:38:53.931749",
     "exception": false,
     "start_time": "2022-11-26T00:38:53.351122",
     "status": "completed"
    },
    "tags": []
   },
   "outputs": [],
   "source": [
    "#hide\n",
    "COL_REGION = 'Country/Region'\n",
    "# Confirmed, Recovered, Deaths\n",
    "df = get_frame('confirmed')\n",
    "# dft_: timeseries, dfc_: today country agg\n",
    "dft_cases = df\n",
    "dft_deaths = get_frame('deaths')\n",
    "dft_recovered = get_frame('recovered')\n",
    "LAST_DATE_I, dt_cols = get_dates(df)"
   ]
  },
  {
   "cell_type": "code",
   "execution_count": 10,
   "id": "absolute-copper",
   "metadata": {
    "execution": {
     "iopub.execute_input": "2022-11-26T00:38:54.022219Z",
     "iopub.status.busy": "2022-11-26T00:38:54.021323Z",
     "iopub.status.idle": "2022-11-26T00:38:54.024445Z",
     "shell.execute_reply": "2022-11-26T00:38:54.025034Z"
    },
    "papermill": {
     "duration": 0.051409,
     "end_time": "2022-11-26T00:38:54.025202",
     "exception": false,
     "start_time": "2022-11-26T00:38:53.973793",
     "status": "completed"
    },
    "tags": []
   },
   "outputs": [],
   "source": [
    "#hide\n",
    "LAST_DATE_I, dt_cols = get_dates(df)\n",
    "dt_today =dt_cols[LAST_DATE_I]\n",
    "# dt_5day = dt_cols[LAST_DATE_I - 5]\n",
    "dt_yday = dt_cols[LAST_DATE_I - 1]"
   ]
  },
  {
   "cell_type": "code",
   "execution_count": 11,
   "id": "restricted-sheriff",
   "metadata": {
    "execution": {
     "iopub.execute_input": "2022-11-26T00:38:54.115335Z",
     "iopub.status.busy": "2022-11-26T00:38:54.114536Z",
     "iopub.status.idle": "2022-11-26T00:38:54.124102Z",
     "shell.execute_reply": "2022-11-26T00:38:54.123481Z"
    },
    "papermill": {
     "duration": 0.055452,
     "end_time": "2022-11-26T00:38:54.124243",
     "exception": false,
     "start_time": "2022-11-26T00:38:54.068791",
     "status": "completed"
    },
    "tags": []
   },
   "outputs": [],
   "source": [
    "#hide\n",
    "dfc_cases = dft_cases.groupby(COL_REGION)[dt_today].sum()\n",
    "dfc_deaths = dft_deaths.groupby(COL_REGION)[dt_today].sum()\n",
    "# dfp_cases = dft_cases.groupby(COL_REGION)[dt_5day].sum()\n",
    "# dfp_deaths = dft_deaths.groupby(COL_REGION)[dt_5day].sum()\n",
    "dfp_cases = dft_cases.groupby(COL_REGION)[dt_yday].sum()\n",
    "dfp_deaths = dft_deaths.groupby(COL_REGION)[dt_yday].sum()"
   ]
  },
  {
   "cell_type": "code",
   "execution_count": 12,
   "id": "deluxe-hepatitis",
   "metadata": {
    "execution": {
     "iopub.execute_input": "2022-11-26T00:38:54.209242Z",
     "iopub.status.busy": "2022-11-26T00:38:54.208484Z",
     "iopub.status.idle": "2022-11-26T00:38:54.213770Z",
     "shell.execute_reply": "2022-11-26T00:38:54.214482Z"
    },
    "papermill": {
     "duration": 0.051541,
     "end_time": "2022-11-26T00:38:54.214757",
     "exception": false,
     "start_time": "2022-11-26T00:38:54.163216",
     "status": "completed"
    },
    "tags": []
   },
   "outputs": [],
   "source": [
    "#hide\n",
    "df_table = (pd.DataFrame(dict(Cases = dfc_cases, Deaths = dfc_deaths, PCases = dfp_cases, PDeaths = dfp_deaths))\n",
    "            .sort_values(by = ['Cases','Deaths'], ascending = [False, False])\n",
    "            .reset_index())"
   ]
  },
  {
   "cell_type": "code",
   "execution_count": 13,
   "id": "educational-chancellor",
   "metadata": {
    "execution": {
     "iopub.execute_input": "2022-11-26T00:38:54.314800Z",
     "iopub.status.busy": "2022-11-26T00:38:54.313997Z",
     "iopub.status.idle": "2022-11-26T00:38:54.324176Z",
     "shell.execute_reply": "2022-11-26T00:38:54.323496Z"
    },
    "papermill": {
     "duration": 0.070668,
     "end_time": "2022-11-26T00:38:54.324326",
     "exception": false,
     "start_time": "2022-11-26T00:38:54.253658",
     "status": "completed"
    },
    "tags": []
   },
   "outputs": [
    {
     "data": {
      "text/html": [
       "<div>\n",
       "<style scoped>\n",
       "    .dataframe tbody tr th:only-of-type {\n",
       "        vertical-align: middle;\n",
       "    }\n",
       "\n",
       "    .dataframe tbody tr th {\n",
       "        vertical-align: top;\n",
       "    }\n",
       "\n",
       "    .dataframe thead th {\n",
       "        text-align: right;\n",
       "    }\n",
       "</style>\n",
       "<table border=\"1\" class=\"dataframe\">\n",
       "  <thead>\n",
       "    <tr style=\"text-align: right;\">\n",
       "      <th></th>\n",
       "      <th>Country/Region</th>\n",
       "      <th>Cases</th>\n",
       "      <th>Deaths</th>\n",
       "      <th>PCases</th>\n",
       "      <th>PDeaths</th>\n",
       "      <th>Cases (+)</th>\n",
       "      <th>Deaths (+)</th>\n",
       "      <th>Fatality Rate</th>\n",
       "      <th>Continent</th>\n",
       "    </tr>\n",
       "  </thead>\n",
       "  <tbody>\n",
       "    <tr>\n",
       "      <th>0</th>\n",
       "      <td>US</td>\n",
       "      <td>98538386</td>\n",
       "      <td>1079052</td>\n",
       "      <td>98522967</td>\n",
       "      <td>1078929</td>\n",
       "      <td>15419</td>\n",
       "      <td>123</td>\n",
       "      <td>1.10</td>\n",
       "      <td>North America</td>\n",
       "    </tr>\n",
       "    <tr>\n",
       "      <th>1</th>\n",
       "      <td>India</td>\n",
       "      <td>44672048</td>\n",
       "      <td>530604</td>\n",
       "      <td>44671708</td>\n",
       "      <td>530601</td>\n",
       "      <td>340</td>\n",
       "      <td>3</td>\n",
       "      <td>1.19</td>\n",
       "      <td>Asia</td>\n",
       "    </tr>\n",
       "    <tr>\n",
       "      <th>2</th>\n",
       "      <td>France</td>\n",
       "      <td>37741188</td>\n",
       "      <td>159611</td>\n",
       "      <td>37690658</td>\n",
       "      <td>159551</td>\n",
       "      <td>50530</td>\n",
       "      <td>60</td>\n",
       "      <td>0.42</td>\n",
       "      <td>Europe</td>\n",
       "    </tr>\n",
       "    <tr>\n",
       "      <th>3</th>\n",
       "      <td>Germany</td>\n",
       "      <td>36348477</td>\n",
       "      <td>157388</td>\n",
       "      <td>36318461</td>\n",
       "      <td>157114</td>\n",
       "      <td>30016</td>\n",
       "      <td>274</td>\n",
       "      <td>0.43</td>\n",
       "      <td>Europe</td>\n",
       "    </tr>\n",
       "    <tr>\n",
       "      <th>4</th>\n",
       "      <td>Brazil</td>\n",
       "      <td>35105241</td>\n",
       "      <td>689342</td>\n",
       "      <td>35082036</td>\n",
       "      <td>689272</td>\n",
       "      <td>23205</td>\n",
       "      <td>70</td>\n",
       "      <td>1.96</td>\n",
       "      <td>South America</td>\n",
       "    </tr>\n",
       "  </tbody>\n",
       "</table>\n",
       "</div>"
      ],
      "text/plain": [
       "  Country/Region     Cases   Deaths    PCases  PDeaths  Cases (+)  Deaths (+)  \\\n",
       "0             US  98538386  1079052  98522967  1078929      15419         123   \n",
       "1          India  44672048   530604  44671708   530601        340           3   \n",
       "2         France  37741188   159611  37690658   159551      50530          60   \n",
       "3        Germany  36348477   157388  36318461   157114      30016         274   \n",
       "4         Brazil  35105241   689342  35082036   689272      23205          70   \n",
       "\n",
       "   Fatality Rate      Continent  \n",
       "0           1.10  North America  \n",
       "1           1.19           Asia  \n",
       "2           0.42         Europe  \n",
       "3           0.43         Europe  \n",
       "4           1.96  South America  "
      ]
     },
     "execution_count": 13,
     "metadata": {},
     "output_type": "execute_result"
    }
   ],
   "source": [
    "#hide\n",
    "for c in 'Cases, Deaths'.split(', '):\n",
    "    df_table[f'{c} (+)'] = (df_table[c] - df_table[f'P{c}']).clip(0)\n",
    "    #Clip ça veut dire, les chiffres negatif sont interdit\n",
    "df_table['Fatality Rate'] = (100* df_table['Deaths']/ df_table['Cases']).round(2)\n",
    "df_table['Continent'] = df_table['Country/Region'].map(mapping['map.continent'])\n",
    "df_table.head(5)"
   ]
  },
  {
   "cell_type": "code",
   "execution_count": 14,
   "id": "aboriginal-bulgaria",
   "metadata": {
    "execution": {
     "iopub.execute_input": "2022-11-26T00:38:54.409268Z",
     "iopub.status.busy": "2022-11-26T00:38:54.408426Z",
     "iopub.status.idle": "2022-11-26T00:38:54.411969Z",
     "shell.execute_reply": "2022-11-26T00:38:54.412641Z"
    },
    "papermill": {
     "duration": 0.049575,
     "end_time": "2022-11-26T00:38:54.412805",
     "exception": false,
     "start_time": "2022-11-26T00:38:54.363230",
     "status": "completed"
    },
    "tags": []
   },
   "outputs": [],
   "source": [
    "#hide\n",
    "#delete problematic countries from table\n",
    "df_table = df_table[~df_table['Country/Region'].isin(['Cape Verde', 'Cruise Ship', 'Kosovo'])]"
   ]
  },
  {
   "cell_type": "code",
   "execution_count": 15,
   "id": "fantastic-effect",
   "metadata": {
    "execution": {
     "iopub.execute_input": "2022-11-26T00:38:54.502790Z",
     "iopub.status.busy": "2022-11-26T00:38:54.502046Z",
     "iopub.status.idle": "2022-11-26T00:38:54.530379Z",
     "shell.execute_reply": "2022-11-26T00:38:54.531025Z"
    },
    "papermill": {
     "duration": 0.074587,
     "end_time": "2022-11-26T00:38:54.531310",
     "exception": false,
     "start_time": "2022-11-26T00:38:54.456723",
     "status": "completed"
    },
    "tags": []
   },
   "outputs": [
    {
     "data": {
      "text/html": [
       "<div>\n",
       "<style scoped>\n",
       "    .dataframe tbody tr th:only-of-type {\n",
       "        vertical-align: middle;\n",
       "    }\n",
       "\n",
       "    .dataframe tbody tr th {\n",
       "        vertical-align: top;\n",
       "    }\n",
       "\n",
       "    .dataframe thead th {\n",
       "        text-align: right;\n",
       "    }\n",
       "</style>\n",
       "<table border=\"1\" class=\"dataframe\">\n",
       "  <thead>\n",
       "    <tr style=\"text-align: right;\">\n",
       "      <th></th>\n",
       "      <th>Country/Region</th>\n",
       "      <th>Cases</th>\n",
       "      <th>Deaths</th>\n",
       "      <th>PCases</th>\n",
       "      <th>PDeaths</th>\n",
       "      <th>Cases (+)</th>\n",
       "      <th>Deaths (+)</th>\n",
       "      <th>Fatality Rate</th>\n",
       "      <th>Continent</th>\n",
       "    </tr>\n",
       "  </thead>\n",
       "  <tbody>\n",
       "    <tr>\n",
       "      <th>0</th>\n",
       "      <td>US</td>\n",
       "      <td>98538386</td>\n",
       "      <td>1079052</td>\n",
       "      <td>98522967</td>\n",
       "      <td>1078929</td>\n",
       "      <td>15419</td>\n",
       "      <td>123</td>\n",
       "      <td>1.1</td>\n",
       "      <td>North America</td>\n",
       "    </tr>\n",
       "    <tr>\n",
       "      <th>1</th>\n",
       "      <td>India</td>\n",
       "      <td>44672048</td>\n",
       "      <td>530604</td>\n",
       "      <td>44671708</td>\n",
       "      <td>530601</td>\n",
       "      <td>340</td>\n",
       "      <td>3</td>\n",
       "      <td>1.2</td>\n",
       "      <td>Asia</td>\n",
       "    </tr>\n",
       "    <tr>\n",
       "      <th>2</th>\n",
       "      <td>France</td>\n",
       "      <td>37741188</td>\n",
       "      <td>159611</td>\n",
       "      <td>37690658</td>\n",
       "      <td>159551</td>\n",
       "      <td>50530</td>\n",
       "      <td>60</td>\n",
       "      <td>0.4</td>\n",
       "      <td>Europe</td>\n",
       "    </tr>\n",
       "    <tr>\n",
       "      <th>3</th>\n",
       "      <td>Germany</td>\n",
       "      <td>36348477</td>\n",
       "      <td>157388</td>\n",
       "      <td>36318461</td>\n",
       "      <td>157114</td>\n",
       "      <td>30016</td>\n",
       "      <td>274</td>\n",
       "      <td>0.4</td>\n",
       "      <td>Europe</td>\n",
       "    </tr>\n",
       "    <tr>\n",
       "      <th>4</th>\n",
       "      <td>Brazil</td>\n",
       "      <td>35105241</td>\n",
       "      <td>689342</td>\n",
       "      <td>35082036</td>\n",
       "      <td>689272</td>\n",
       "      <td>23205</td>\n",
       "      <td>70</td>\n",
       "      <td>2.0</td>\n",
       "      <td>South America</td>\n",
       "    </tr>\n",
       "  </tbody>\n",
       "</table>\n",
       "</div>"
      ],
      "text/plain": [
       "  Country/Region     Cases   Deaths    PCases  PDeaths  Cases (+)  Deaths (+)  \\\n",
       "0             US  98538386  1079052  98522967  1078929      15419         123   \n",
       "1          India  44672048   530604  44671708   530601        340           3   \n",
       "2         France  37741188   159611  37690658   159551      50530          60   \n",
       "3        Germany  36348477   157388  36318461   157114      30016         274   \n",
       "4         Brazil  35105241   689342  35082036   689272      23205          70   \n",
       "\n",
       "   Fatality Rate      Continent  \n",
       "0            1.1  North America  \n",
       "1            1.2           Asia  \n",
       "2            0.4         Europe  \n",
       "3            0.4         Europe  \n",
       "4            2.0  South America  "
      ]
     },
     "execution_count": 15,
     "metadata": {},
     "output_type": "execute_result"
    }
   ],
   "source": [
    "#hide\n",
    "df_table = (pd.DataFrame(dict(Cases=dfc_cases, Deaths=dfc_deaths, PCases=dfp_cases, PDeaths=dfp_deaths))\n",
    "             .sort_values(by=['Cases', 'Deaths'], ascending=[False, False])\n",
    "             .reset_index())\n",
    "df_table.rename(columns={'index': 'Country/Region'}, inplace=True)\n",
    "for c in 'Cases, Deaths'.split(', '):\n",
    "    df_table[f'{c} (+)'] = (df_table[c] - df_table[f'P{c}']).clip(0)  # DATA BUG\n",
    "df_table['Fatality Rate'] = (100 * df_table['Deaths'] / df_table['Cases']).round(1)\n",
    "df_table['Continent'] = df_table['Country/Region'].map(mapping['map.continent'])\n",
    "df_table.head(5)"
   ]
  },
  {
   "cell_type": "code",
   "execution_count": 16,
   "id": "fewer-occasion",
   "metadata": {
    "execution": {
     "iopub.execute_input": "2022-11-26T00:38:54.617885Z",
     "iopub.status.busy": "2022-11-26T00:38:54.617024Z",
     "iopub.status.idle": "2022-11-26T00:38:54.621665Z",
     "shell.execute_reply": "2022-11-26T00:38:54.621030Z"
    },
    "papermill": {
     "duration": 0.049934,
     "end_time": "2022-11-26T00:38:54.621818",
     "exception": false,
     "start_time": "2022-11-26T00:38:54.571884",
     "status": "completed"
    },
    "tags": []
   },
   "outputs": [],
   "source": [
    "#hide\n",
    "#delete problematic countries from table\n",
    "df_table = df_table[~df_table['Country/Region'].isin(['Cape Verde', 'Cruise Ship', 'Kosovo'])]"
   ]
  },
  {
   "cell_type": "code",
   "execution_count": 17,
   "id": "related-center",
   "metadata": {
    "execution": {
     "iopub.execute_input": "2022-11-26T00:38:54.714372Z",
     "iopub.status.busy": "2022-11-26T00:38:54.713533Z",
     "iopub.status.idle": "2022-11-26T00:38:54.731515Z",
     "shell.execute_reply": "2022-11-26T00:38:54.730794Z"
    },
    "papermill": {
     "duration": 0.068695,
     "end_time": "2022-11-26T00:38:54.731693",
     "exception": false,
     "start_time": "2022-11-26T00:38:54.662998",
     "status": "completed"
    },
    "tags": []
   },
   "outputs": [],
   "source": [
    "#hide\n",
    "metrics = [df_table.columns[index] for index in [1,2,5,6]]\n",
    "# s_china = df_table[df_table['Country/Region'].eq('China')][metrics].sum().add_prefix('China ')\n",
    "s_us = df_table[df_table['Country/Region'].eq('US')][metrics].sum().add_prefix('US ')\n",
    "s_eu = df_table[df_table['Continent'].eq('Europe')][metrics].sum().add_prefix('EU ')\n",
    "s_ind = df_table[df_table['Country/Region'].eq('India')][metrics].sum().add_prefix('India ')\n",
    "summary = {'updated': pd.to_datetime(dt_today), 'since': pd.to_datetime(dt_yday)}\n",
    "summary = {'updated': pd.to_datetime(dt_today), 'since': pd.to_datetime(dt_yday)}\n",
    "summary = {**summary, **df_table[metrics].sum(), **s_ind, **s_us, **s_eu}"
   ]
  },
  {
   "cell_type": "code",
   "execution_count": 18,
   "id": "engaging-syndrome",
   "metadata": {
    "execution": {
     "iopub.execute_input": "2022-11-26T00:38:54.830364Z",
     "iopub.status.busy": "2022-11-26T00:38:54.829592Z",
     "iopub.status.idle": "2022-11-26T00:38:54.857141Z",
     "shell.execute_reply": "2022-11-26T00:38:54.856518Z"
    },
    "papermill": {
     "duration": 0.07712,
     "end_time": "2022-11-26T00:38:54.857300",
     "exception": false,
     "start_time": "2022-11-26T00:38:54.780180",
     "status": "completed"
    },
    "tags": []
   },
   "outputs": [],
   "source": [
    "#hide\n",
    "dft_ct_new_cases = dft_cases.groupby(COL_REGION)[dt_cols].sum().diff(axis=1).fillna(0).astype(int)"
   ]
  },
  {
   "cell_type": "code",
   "execution_count": 19,
   "id": "neutral-assignment",
   "metadata": {
    "execution": {
     "iopub.execute_input": "2022-11-26T00:38:54.948436Z",
     "iopub.status.busy": "2022-11-26T00:38:54.947379Z",
     "iopub.status.idle": "2022-11-26T00:38:54.949802Z",
     "shell.execute_reply": "2022-11-26T00:38:54.949161Z"
    },
    "papermill": {
     "duration": 0.052685,
     "end_time": "2022-11-26T00:38:54.949953",
     "exception": false,
     "start_time": "2022-11-26T00:38:54.897268",
     "status": "completed"
    },
    "tags": []
   },
   "outputs": [],
   "source": [
    "#hide\n",
    "everydaycases = dft_ct_new_cases.cumsum(axis=1)"
   ]
  },
  {
   "cell_type": "code",
   "execution_count": 20,
   "id": "parliamentary-calgary",
   "metadata": {
    "execution": {
     "iopub.execute_input": "2022-11-26T00:38:55.049841Z",
     "iopub.status.busy": "2022-11-26T00:38:55.049070Z",
     "iopub.status.idle": "2022-11-26T00:38:55.736341Z",
     "shell.execute_reply": "2022-11-26T00:38:55.735485Z"
    },
    "papermill": {
     "duration": 0.738783,
     "end_time": "2022-11-26T00:38:55.736493",
     "exception": false,
     "start_time": "2022-11-26T00:38:54.997710",
     "status": "completed"
    },
    "tags": []
   },
   "outputs": [],
   "source": [
    "#hide\n",
    "import pandas as pd\n",
    "import matplotlib.pyplot as plt\n",
    "import matplotlib.ticker as ticker\n",
    "import matplotlib.animation as animation\n",
    "from IPython.display import HTML"
   ]
  },
  {
   "cell_type": "code",
   "execution_count": 21,
   "id": "lasting-extraction",
   "metadata": {
    "execution": {
     "iopub.execute_input": "2022-11-26T00:38:55.830243Z",
     "iopub.status.busy": "2022-11-26T00:38:55.829484Z",
     "iopub.status.idle": "2022-11-26T00:38:55.841047Z",
     "shell.execute_reply": "2022-11-26T00:38:55.840243Z"
    },
    "papermill": {
     "duration": 0.062585,
     "end_time": "2022-11-26T00:38:55.841195",
     "exception": false,
     "start_time": "2022-11-26T00:38:55.778610",
     "status": "completed"
    },
    "tags": []
   },
   "outputs": [],
   "source": [
    "#hide\n",
    "t = everydaycases.stack()"
   ]
  },
  {
   "cell_type": "code",
   "execution_count": 22,
   "id": "premier-sleeve",
   "metadata": {
    "execution": {
     "iopub.execute_input": "2022-11-26T00:38:55.927159Z",
     "iopub.status.busy": "2022-11-26T00:38:55.926365Z",
     "iopub.status.idle": "2022-11-26T00:38:55.941976Z",
     "shell.execute_reply": "2022-11-26T00:38:55.941325Z"
    },
    "papermill": {
     "duration": 0.059286,
     "end_time": "2022-11-26T00:38:55.942126",
     "exception": false,
     "start_time": "2022-11-26T00:38:55.882840",
     "status": "completed"
    },
    "tags": []
   },
   "outputs": [],
   "source": [
    "#hide\n",
    "g = t.reset_index(['Country/Region'])"
   ]
  },
  {
   "cell_type": "code",
   "execution_count": 23,
   "id": "distributed-pittsburgh",
   "metadata": {
    "execution": {
     "iopub.execute_input": "2022-11-26T00:38:56.029208Z",
     "iopub.status.busy": "2022-11-26T00:38:56.028445Z",
     "iopub.status.idle": "2022-11-26T00:38:56.033284Z",
     "shell.execute_reply": "2022-11-26T00:38:56.033871Z"
    },
    "papermill": {
     "duration": 0.051681,
     "end_time": "2022-11-26T00:38:56.034032",
     "exception": false,
     "start_time": "2022-11-26T00:38:55.982351",
     "status": "completed"
    },
    "tags": []
   },
   "outputs": [],
   "source": [
    "#hide\n",
    "g.index.name = 'date'"
   ]
  },
  {
   "cell_type": "code",
   "execution_count": 24,
   "id": "naked-donor",
   "metadata": {
    "execution": {
     "iopub.execute_input": "2022-11-26T00:38:56.122435Z",
     "iopub.status.busy": "2022-11-26T00:38:56.120525Z",
     "iopub.status.idle": "2022-11-26T00:38:56.123348Z",
     "shell.execute_reply": "2022-11-26T00:38:56.124008Z"
    },
    "papermill": {
     "duration": 0.047224,
     "end_time": "2022-11-26T00:38:56.124188",
     "exception": false,
     "start_time": "2022-11-26T00:38:56.076964",
     "status": "completed"
    },
    "tags": []
   },
   "outputs": [],
   "source": [
    "# #hide\n",
    "# g = g.reset_index(['date'])"
   ]
  },
  {
   "cell_type": "code",
   "execution_count": 25,
   "id": "incomplete-mustang",
   "metadata": {
    "execution": {
     "iopub.execute_input": "2022-11-26T00:38:56.209150Z",
     "iopub.status.busy": "2022-11-26T00:38:56.208372Z",
     "iopub.status.idle": "2022-11-26T00:38:56.212876Z",
     "shell.execute_reply": "2022-11-26T00:38:56.213451Z"
    },
    "papermill": {
     "duration": 0.049036,
     "end_time": "2022-11-26T00:38:56.213613",
     "exception": false,
     "start_time": "2022-11-26T00:38:56.164577",
     "status": "completed"
    },
    "tags": []
   },
   "outputs": [],
   "source": [
    "#hide\n",
    "# g.head()"
   ]
  },
  {
   "cell_type": "code",
   "execution_count": 26,
   "id": "specific-kruger",
   "metadata": {
    "execution": {
     "iopub.execute_input": "2022-11-26T00:38:56.302182Z",
     "iopub.status.busy": "2022-11-26T00:38:56.301425Z",
     "iopub.status.idle": "2022-11-26T00:38:56.304875Z",
     "shell.execute_reply": "2022-11-26T00:38:56.304020Z"
    },
    "papermill": {
     "duration": 0.049736,
     "end_time": "2022-11-26T00:38:56.305016",
     "exception": false,
     "start_time": "2022-11-26T00:38:56.255280",
     "status": "completed"
    },
    "tags": []
   },
   "outputs": [],
   "source": [
    "#hide\n",
    "# g.columns = ['date','country','cases']"
   ]
  },
  {
   "cell_type": "code",
   "execution_count": 27,
   "id": "tender-conversion",
   "metadata": {
    "execution": {
     "iopub.execute_input": "2022-11-26T00:38:56.393357Z",
     "iopub.status.busy": "2022-11-26T00:38:56.392552Z",
     "iopub.status.idle": "2022-11-26T00:38:56.395967Z",
     "shell.execute_reply": "2022-11-26T00:38:56.395335Z"
    },
    "papermill": {
     "duration": 0.050954,
     "end_time": "2022-11-26T00:38:56.396122",
     "exception": false,
     "start_time": "2022-11-26T00:38:56.345168",
     "status": "completed"
    },
    "tags": []
   },
   "outputs": [],
   "source": [
    "#hide\n",
    "# g['continent'] = g.country"
   ]
  },
  {
   "cell_type": "code",
   "execution_count": 28,
   "id": "substantial-wilderness",
   "metadata": {
    "execution": {
     "iopub.execute_input": "2022-11-26T00:38:56.485500Z",
     "iopub.status.busy": "2022-11-26T00:38:56.484713Z",
     "iopub.status.idle": "2022-11-26T00:38:56.488059Z",
     "shell.execute_reply": "2022-11-26T00:38:56.487310Z"
    },
    "papermill": {
     "duration": 0.047646,
     "end_time": "2022-11-26T00:38:56.488203",
     "exception": false,
     "start_time": "2022-11-26T00:38:56.440557",
     "status": "completed"
    },
    "tags": []
   },
   "outputs": [],
   "source": [
    "#hide\n",
    "# cols = list(g.columns.values)"
   ]
  },
  {
   "cell_type": "code",
   "execution_count": 29,
   "id": "solved-farming",
   "metadata": {
    "execution": {
     "iopub.execute_input": "2022-11-26T00:38:56.572449Z",
     "iopub.status.busy": "2022-11-26T00:38:56.571674Z",
     "iopub.status.idle": "2022-11-26T00:38:56.575572Z",
     "shell.execute_reply": "2022-11-26T00:38:56.574920Z"
    },
    "papermill": {
     "duration": 0.048466,
     "end_time": "2022-11-26T00:38:56.575722",
     "exception": false,
     "start_time": "2022-11-26T00:38:56.527256",
     "status": "completed"
    },
    "tags": []
   },
   "outputs": [],
   "source": [
    "#hide\n",
    "# cols.insert(0, cols.pop())"
   ]
  },
  {
   "cell_type": "code",
   "execution_count": 30,
   "id": "executed-adoption",
   "metadata": {
    "execution": {
     "iopub.execute_input": "2022-11-26T00:38:56.662434Z",
     "iopub.status.busy": "2022-11-26T00:38:56.661668Z",
     "iopub.status.idle": "2022-11-26T00:38:56.664794Z",
     "shell.execute_reply": "2022-11-26T00:38:56.664147Z"
    },
    "papermill": {
     "duration": 0.048802,
     "end_time": "2022-11-26T00:38:56.665072",
     "exception": false,
     "start_time": "2022-11-26T00:38:56.616270",
     "status": "completed"
    },
    "tags": []
   },
   "outputs": [],
   "source": [
    "#hide\n",
    "# g = g[cols]"
   ]
  },
  {
   "cell_type": "code",
   "execution_count": 31,
   "id": "subject-dublin",
   "metadata": {
    "execution": {
     "iopub.execute_input": "2022-11-26T00:38:56.751883Z",
     "iopub.status.busy": "2022-11-26T00:38:56.750938Z",
     "iopub.status.idle": "2022-11-26T00:38:56.754657Z",
     "shell.execute_reply": "2022-11-26T00:38:56.754039Z"
    },
    "papermill": {
     "duration": 0.048547,
     "end_time": "2022-11-26T00:38:56.754799",
     "exception": false,
     "start_time": "2022-11-26T00:38:56.706252",
     "status": "completed"
    },
    "tags": []
   },
   "outputs": [],
   "source": [
    "#hide\n",
    "# g['continent'] = g['continent'].map(mapping['map.continent'])"
   ]
  },
  {
   "cell_type": "code",
   "execution_count": 32,
   "id": "freelance-scout",
   "metadata": {
    "execution": {
     "iopub.execute_input": "2022-11-26T00:38:56.843226Z",
     "iopub.status.busy": "2022-11-26T00:38:56.842381Z",
     "iopub.status.idle": "2022-11-26T00:38:56.845484Z",
     "shell.execute_reply": "2022-11-26T00:38:56.846053Z"
    },
    "papermill": {
     "duration": 0.050121,
     "end_time": "2022-11-26T00:38:56.846334",
     "exception": false,
     "start_time": "2022-11-26T00:38:56.796213",
     "status": "completed"
    },
    "tags": []
   },
   "outputs": [],
   "source": [
    "#hide\n",
    "# g.head()"
   ]
  },
  {
   "cell_type": "code",
   "execution_count": 33,
   "id": "limited-engine",
   "metadata": {
    "execution": {
     "iopub.execute_input": "2022-11-26T00:38:56.938507Z",
     "iopub.status.busy": "2022-11-26T00:38:56.937733Z",
     "iopub.status.idle": "2022-11-26T00:38:56.941150Z",
     "shell.execute_reply": "2022-11-26T00:38:56.941797Z"
    },
    "papermill": {
     "duration": 0.050804,
     "end_time": "2022-11-26T00:38:56.941954",
     "exception": false,
     "start_time": "2022-11-26T00:38:56.891150",
     "status": "completed"
    },
    "tags": []
   },
   "outputs": [],
   "source": [
    "# hide\n",
    "# g['date'] = g['date'].astype('datetime64[ns]')"
   ]
  },
  {
   "cell_type": "code",
   "execution_count": 34,
   "id": "sophisticated-supervisor",
   "metadata": {
    "execution": {
     "iopub.execute_input": "2022-11-26T00:38:57.030789Z",
     "iopub.status.busy": "2022-11-26T00:38:57.030009Z",
     "iopub.status.idle": "2022-11-26T00:38:57.033355Z",
     "shell.execute_reply": "2022-11-26T00:38:57.032736Z"
    },
    "papermill": {
     "duration": 0.048889,
     "end_time": "2022-11-26T00:38:57.033494",
     "exception": false,
     "start_time": "2022-11-26T00:38:56.984605",
     "status": "completed"
    },
    "tags": []
   },
   "outputs": [],
   "source": [
    "#hide\n",
    "# g['date'] = g.date.dt.dayofyear"
   ]
  },
  {
   "cell_type": "code",
   "execution_count": 35,
   "id": "inside-dubai",
   "metadata": {
    "execution": {
     "iopub.execute_input": "2022-11-26T00:38:57.119913Z",
     "iopub.status.busy": "2022-11-26T00:38:57.119085Z",
     "iopub.status.idle": "2022-11-26T00:38:57.122988Z",
     "shell.execute_reply": "2022-11-26T00:38:57.122227Z"
    },
    "papermill": {
     "duration": 0.047827,
     "end_time": "2022-11-26T00:38:57.123134",
     "exception": false,
     "start_time": "2022-11-26T00:38:57.075307",
     "status": "completed"
    },
    "tags": []
   },
   "outputs": [],
   "source": [
    "#hide\n",
    "# g = g.rename(columns= {'continent':'group','country':'name','cases':'value'})"
   ]
  },
  {
   "cell_type": "code",
   "execution_count": 36,
   "id": "fleet-motorcycle",
   "metadata": {
    "execution": {
     "iopub.execute_input": "2022-11-26T00:38:57.215788Z",
     "iopub.status.busy": "2022-11-26T00:38:57.215016Z",
     "iopub.status.idle": "2022-11-26T00:38:57.218302Z",
     "shell.execute_reply": "2022-11-26T00:38:57.217675Z"
    },
    "papermill": {
     "duration": 0.051031,
     "end_time": "2022-11-26T00:38:57.218445",
     "exception": false,
     "start_time": "2022-11-26T00:38:57.167414",
     "status": "completed"
    },
    "tags": []
   },
   "outputs": [],
   "source": [
    "#hide\n",
    "# cols = ['name','group','day','value']"
   ]
  },
  {
   "cell_type": "code",
   "execution_count": 37,
   "id": "continued-sleeping",
   "metadata": {
    "execution": {
     "iopub.execute_input": "2022-11-26T00:38:57.301934Z",
     "iopub.status.busy": "2022-11-26T00:38:57.301169Z",
     "iopub.status.idle": "2022-11-26T00:38:57.305711Z",
     "shell.execute_reply": "2022-11-26T00:38:57.306321Z"
    },
    "papermill": {
     "duration": 0.049088,
     "end_time": "2022-11-26T00:38:57.306546",
     "exception": false,
     "start_time": "2022-11-26T00:38:57.257458",
     "status": "completed"
    },
    "tags": []
   },
   "outputs": [],
   "source": [
    "#hide\n",
    "# g.rename(columns= {'date':'day'},inplace = True)"
   ]
  },
  {
   "cell_type": "code",
   "execution_count": 38,
   "id": "major-fight",
   "metadata": {
    "execution": {
     "iopub.execute_input": "2022-11-26T00:38:57.391602Z",
     "iopub.status.busy": "2022-11-26T00:38:57.390667Z",
     "iopub.status.idle": "2022-11-26T00:38:57.393968Z",
     "shell.execute_reply": "2022-11-26T00:38:57.393083Z"
    },
    "papermill": {
     "duration": 0.046122,
     "end_time": "2022-11-26T00:38:57.394106",
     "exception": false,
     "start_time": "2022-11-26T00:38:57.347984",
     "status": "completed"
    },
    "tags": []
   },
   "outputs": [],
   "source": [
    "#hide\n",
    "# g = g[cols]"
   ]
  },
  {
   "cell_type": "code",
   "execution_count": 39,
   "id": "structured-mobile",
   "metadata": {
    "execution": {
     "iopub.execute_input": "2022-11-26T00:38:57.480992Z",
     "iopub.status.busy": "2022-11-26T00:38:57.480139Z",
     "iopub.status.idle": "2022-11-26T00:38:57.483819Z",
     "shell.execute_reply": "2022-11-26T00:38:57.482949Z"
    },
    "papermill": {
     "duration": 0.049677,
     "end_time": "2022-11-26T00:38:57.483957",
     "exception": false,
     "start_time": "2022-11-26T00:38:57.434280",
     "status": "completed"
    },
    "tags": []
   },
   "outputs": [],
   "source": [
    "# #hide\n",
    "# g = g[g.group.notna()]"
   ]
  },
  {
   "cell_type": "code",
   "execution_count": 40,
   "id": "determined-closing",
   "metadata": {
    "execution": {
     "iopub.execute_input": "2022-11-26T00:38:57.571744Z",
     "iopub.status.busy": "2022-11-26T00:38:57.570942Z",
     "iopub.status.idle": "2022-11-26T00:38:57.574416Z",
     "shell.execute_reply": "2022-11-26T00:38:57.573775Z"
    },
    "papermill": {
     "duration": 0.049172,
     "end_time": "2022-11-26T00:38:57.574562",
     "exception": false,
     "start_time": "2022-11-26T00:38:57.525390",
     "status": "completed"
    },
    "tags": []
   },
   "outputs": [],
   "source": [
    "# #hide\n",
    "# colors = dict(zip(\n",
    "#     [\"Oceania\", \"Europe\", \"Asia\", \"South America\", \"Middle East\", \"North America\", \"Africa\"],\n",
    "#     [\"#adb0ff\", \"#ffb3ff\", \"#90d595\", \"#e48381\", \"#aafbff\", \"#f7bb5f\", \"#eafb50\"]\n",
    "# ))\n",
    "# group_lk = g.set_index('name')['group'].to_dict()"
   ]
  },
  {
   "cell_type": "code",
   "execution_count": null,
   "id": "gross-drinking",
   "metadata": {
    "papermill": {
     "duration": 0.039042,
     "end_time": "2022-11-26T00:38:57.652856",
     "exception": false,
     "start_time": "2022-11-26T00:38:57.613814",
     "status": "completed"
    },
    "tags": []
   },
   "outputs": [],
   "source": []
  },
  {
   "cell_type": "code",
   "execution_count": 41,
   "id": "subject-macintosh",
   "metadata": {
    "execution": {
     "iopub.execute_input": "2022-11-26T00:38:57.737702Z",
     "iopub.status.busy": "2022-11-26T00:38:57.736722Z",
     "iopub.status.idle": "2022-11-26T00:38:57.741251Z",
     "shell.execute_reply": "2022-11-26T00:38:57.741912Z"
    },
    "papermill": {
     "duration": 0.049808,
     "end_time": "2022-11-26T00:38:57.742068",
     "exception": false,
     "start_time": "2022-11-26T00:38:57.692260",
     "status": "completed"
    },
    "tags": []
   },
   "outputs": [],
   "source": [
    "# #hide\n",
    "# fig, ax = plt.subplots(figsize=(15, 8))\n",
    "\n",
    "# def draw_barchart(current_day):\n",
    "#     dff = g[g['day'].eq(current_day)].sort_values(by='value', ascending=True).tail(10)\n",
    "#     ax.clear()\n",
    "#     ax.barh(dff['name'], dff['value'], color=[colors[group_lk[x]] for x in dff['name']])\n",
    "#     dx = dff['value'].max() / 200\n",
    "    \n",
    "#     for i, (value, name) in enumerate(zip(dff['value'], dff['name'])):\n",
    "#         ax.text(value-dx, i,     name,           size=14, weight=600, ha='right', va='bottom')\n",
    "#         ax.text(value-dx, i-.25, group_lk[name], size=10, color='#444444', ha='right', va='baseline')\n",
    "#         ax.text(value+dx, i,     f'{value:,.0f}',  size=14, ha='left',  va='center')\n",
    "#     ax.text(1, 0.4, current_day, transform=ax.transAxes, color='#777777', size=46, ha='right', weight=800)\n",
    "#     ax.text(0, 1.06, 'Population (thousands)', transform=ax.transAxes, size=12, color='#777777')\n",
    "#     ax.xaxis.set_major_formatter(ticker.StrMethodFormatter('{x:,.0f}'))\n",
    "#     ax.xaxis.set_ticks_position('top')\n",
    "#     ax.tick_params(axis='x', colors='#777777', labelsize=12)\n",
    "#     ax.set_yticks([])\n",
    "#     ax.margins(0, 0.01)\n",
    "#     ax.grid(which='major', axis='x', linestyle='-')\n",
    "#     ax.set_axisbelow(True)\n",
    "    \n",
    "#     ax.text(0, 1.15, 'Coronavirus',\n",
    "#             transform=ax.transAxes, size=24, weight=600, ha='left', va='top')\n",
    "# #     ax.text(1, 0, 'by @pratapvardhan; credit @jburnmurdoch', transform=ax.transAxes, color='#777777', ha='right',\n",
    "# #             bbox=dict(facecolor='white', alpha=0.8, edgecolor='white'))\n",
    "#     plt.box(False)"
   ]
  },
  {
   "cell_type": "code",
   "execution_count": 42,
   "id": "sexual-wages",
   "metadata": {
    "execution": {
     "iopub.execute_input": "2022-11-26T00:38:57.829946Z",
     "iopub.status.busy": "2022-11-26T00:38:57.829143Z",
     "iopub.status.idle": "2022-11-26T00:38:57.832425Z",
     "shell.execute_reply": "2022-11-26T00:38:57.831795Z"
    },
    "papermill": {
     "duration": 0.047365,
     "end_time": "2022-11-26T00:38:57.832561",
     "exception": false,
     "start_time": "2022-11-26T00:38:57.785196",
     "status": "completed"
    },
    "tags": []
   },
   "outputs": [],
   "source": [
    "# #hide_input\n",
    "# fig, ax = plt.subplots(figsize=(15, 8))\n",
    "# animator = animation.FuncAnimation(fig, draw_barchart, frames=range(g.day.values.min(), g.day.values.max()))\n",
    "# HTML(animator.to_jshtml())\n",
    "# # or use animator.to_html5_video() or animator.save() "
   ]
  },
  {
   "cell_type": "code",
   "execution_count": null,
   "id": "australian-container",
   "metadata": {
    "papermill": {
     "duration": 0.041222,
     "end_time": "2022-11-26T00:38:57.915488",
     "exception": false,
     "start_time": "2022-11-26T00:38:57.874266",
     "status": "completed"
    },
    "tags": []
   },
   "outputs": [],
   "source": []
  },
  {
   "cell_type": "code",
   "execution_count": null,
   "id": "mediterranean-pontiac",
   "metadata": {
    "papermill": {
     "duration": 0.041089,
     "end_time": "2022-11-26T00:38:57.996672",
     "exception": false,
     "start_time": "2022-11-26T00:38:57.955583",
     "status": "completed"
    },
    "tags": []
   },
   "outputs": [],
   "source": []
  },
  {
   "cell_type": "code",
   "execution_count": null,
   "id": "aging-legislature",
   "metadata": {
    "papermill": {
     "duration": 0.040436,
     "end_time": "2022-11-26T00:38:58.076150",
     "exception": false,
     "start_time": "2022-11-26T00:38:58.035714",
     "status": "completed"
    },
    "tags": []
   },
   "outputs": [],
   "source": []
  }
 ],
 "metadata": {
  "kernelspec": {
   "display_name": "Python 3",
   "language": "python",
   "name": "python3"
  },
  "language_info": {
   "codemirror_mode": {
    "name": "ipython",
    "version": 3
   },
   "file_extension": ".py",
   "mimetype": "text/x-python",
   "name": "python",
   "nbconvert_exporter": "python",
   "pygments_lexer": "ipython3",
   "version": "3.6.15"
  },
  "papermill": {
   "duration": 7.799478,
   "end_time": "2022-11-26T00:38:58.536760",
   "environment_variables": {},
   "exception": null,
   "input_path": "2020-03-21-covid19exp.ipynb",
   "output_path": "2020-03-21-covid19exp.ipynb",
   "parameters": {},
   "start_time": "2022-11-26T00:38:50.737282",
   "version": "2.0.0"
  }
 },
 "nbformat": 4,
 "nbformat_minor": 5
}