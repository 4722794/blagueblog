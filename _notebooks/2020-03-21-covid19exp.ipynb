{
 "cells": [
  {
   "cell_type": "markdown",
   "id": "muslim-click",
   "metadata": {
    "papermill": {
     "duration": 0.033322,
     "end_time": "2022-05-14T00:46:15.997502",
     "exception": false,
     "start_time": "2022-05-14T00:46:15.964180",
     "status": "completed"
    },
    "tags": []
   },
   "source": [
    "# COVID-19 Case Race\n",
    "> A race chart to see rising cases around the world\n",
    "\n",
    "- author: Hargun Oberoi\n",
    "- image: images/covid-overview.png\n",
    "- hide: false\n",
    "- badges: false"
   ]
  },
  {
   "cell_type": "code",
   "execution_count": 1,
   "id": "proof-material",
   "metadata": {
    "execution": {
     "iopub.execute_input": "2022-05-14T00:46:16.067612Z",
     "iopub.status.busy": "2022-05-14T00:46:16.065205Z",
     "iopub.status.idle": "2022-05-14T00:46:16.386613Z",
     "shell.execute_reply": "2022-05-14T00:46:16.386063Z"
    },
    "papermill": {
     "duration": 0.358177,
     "end_time": "2022-05-14T00:46:16.386775",
     "exception": false,
     "start_time": "2022-05-14T00:46:16.028598",
     "status": "completed"
    },
    "tags": []
   },
   "outputs": [],
   "source": [
    "#hide\n",
    "import numpy as np\n",
    "import pandas as pd\n",
    "from jinja2 import Template\n",
    "from IPython.display import HTML"
   ]
  },
  {
   "cell_type": "code",
   "execution_count": 2,
   "id": "developed-terminology",
   "metadata": {
    "execution": {
     "iopub.execute_input": "2022-05-14T00:46:16.451014Z",
     "iopub.status.busy": "2022-05-14T00:46:16.450423Z",
     "iopub.status.idle": "2022-05-14T00:46:16.454744Z",
     "shell.execute_reply": "2022-05-14T00:46:16.454333Z"
    },
    "papermill": {
     "duration": 0.037884,
     "end_time": "2022-05-14T00:46:16.454855",
     "exception": false,
     "start_time": "2022-05-14T00:46:16.416971",
     "status": "completed"
    },
    "tags": []
   },
   "outputs": [],
   "source": [
    "#hide\n",
    "\n",
    "# FETCH\n",
    "base_url = 'https://raw.githubusercontent.com/pratapvardhan/notebooks/master/covid19/'\n",
    "paths = {\n",
    "    'mapping': base_url + 'mapping_countries.csv',\n",
    "    'overview': base_url + 'overview.tpl'\n",
    "}"
   ]
  },
  {
   "cell_type": "code",
   "execution_count": 3,
   "id": "dynamic-saver",
   "metadata": {
    "execution": {
     "iopub.execute_input": "2022-05-14T00:46:16.521188Z",
     "iopub.status.busy": "2022-05-14T00:46:16.519834Z",
     "iopub.status.idle": "2022-05-14T00:46:16.523929Z",
     "shell.execute_reply": "2022-05-14T00:46:16.523486Z"
    },
    "papermill": {
     "duration": 0.040196,
     "end_time": "2022-05-14T00:46:16.524032",
     "exception": false,
     "start_time": "2022-05-14T00:46:16.483836",
     "status": "completed"
    },
    "tags": []
   },
   "outputs": [
    {
     "data": {
      "text/plain": [
       "'https://raw.githubusercontent.com/pratapvardhan/notebooks/master/covid19/mapping_countries.csv'"
      ]
     },
     "execution_count": 3,
     "metadata": {},
     "output_type": "execute_result"
    }
   ],
   "source": [
    "#hide\n",
    "paths['mapping']"
   ]
  },
  {
   "cell_type": "code",
   "execution_count": 4,
   "id": "urban-software",
   "metadata": {
    "execution": {
     "iopub.execute_input": "2022-05-14T00:46:16.587408Z",
     "iopub.status.busy": "2022-05-14T00:46:16.586901Z",
     "iopub.status.idle": "2022-05-14T00:46:16.589065Z",
     "shell.execute_reply": "2022-05-14T00:46:16.588657Z"
    },
    "papermill": {
     "duration": 0.035835,
     "end_time": "2022-05-14T00:46:16.589165",
     "exception": false,
     "start_time": "2022-05-14T00:46:16.553330",
     "status": "completed"
    },
    "tags": []
   },
   "outputs": [],
   "source": [
    "#hide\n",
    "def get_mappings(url):\n",
    "    df = pd.read_csv(url)\n",
    "    return {\n",
    "        'df': df,\n",
    "        'replace.country': dict(df.dropna(subset=['Name']).set_index('Country')['Name']),\n",
    "        'map.continent': dict(df.set_index('Name')['Continent'])\n",
    "    }"
   ]
  },
  {
   "cell_type": "code",
   "execution_count": 5,
   "id": "intimate-machinery",
   "metadata": {
    "execution": {
     "iopub.execute_input": "2022-05-14T00:46:16.654550Z",
     "iopub.status.busy": "2022-05-14T00:46:16.654051Z",
     "iopub.status.idle": "2022-05-14T00:46:16.678678Z",
     "shell.execute_reply": "2022-05-14T00:46:16.679118Z"
    },
    "papermill": {
     "duration": 0.058919,
     "end_time": "2022-05-14T00:46:16.679254",
     "exception": false,
     "start_time": "2022-05-14T00:46:16.620335",
     "status": "completed"
    },
    "tags": []
   },
   "outputs": [],
   "source": [
    "#hide\n",
    "mapping = get_mappings(paths['mapping'])"
   ]
  },
  {
   "cell_type": "code",
   "execution_count": 6,
   "id": "certified-tactics",
   "metadata": {
    "execution": {
     "iopub.execute_input": "2022-05-14T00:46:16.744955Z",
     "iopub.status.busy": "2022-05-14T00:46:16.744440Z",
     "iopub.status.idle": "2022-05-14T00:46:16.746460Z",
     "shell.execute_reply": "2022-05-14T00:46:16.746948Z"
    },
    "papermill": {
     "duration": 0.037138,
     "end_time": "2022-05-14T00:46:16.747078",
     "exception": false,
     "start_time": "2022-05-14T00:46:16.709940",
     "status": "completed"
    },
    "tags": []
   },
   "outputs": [],
   "source": [
    "#hide\n",
    "def get_template(path):\n",
    "    from urllib.parse import urlparse\n",
    "    if bool(urlparse(path).netloc):\n",
    "        from urllib.request import urlopen\n",
    "        return urlopen(path).read().decode('utf8')\n",
    "    return open(path).read()"
   ]
  },
  {
   "cell_type": "code",
   "execution_count": 7,
   "id": "realistic-blast",
   "metadata": {
    "execution": {
     "iopub.execute_input": "2022-05-14T00:46:16.810743Z",
     "iopub.status.busy": "2022-05-14T00:46:16.810207Z",
     "iopub.status.idle": "2022-05-14T00:46:16.812255Z",
     "shell.execute_reply": "2022-05-14T00:46:16.811824Z"
    },
    "papermill": {
     "duration": 0.035806,
     "end_time": "2022-05-14T00:46:16.812359",
     "exception": false,
     "start_time": "2022-05-14T00:46:16.776553",
     "status": "completed"
    },
    "tags": []
   },
   "outputs": [],
   "source": [
    "#hide\n",
    "def get_frame(name):\n",
    "    url = (\n",
    "        'https://raw.githubusercontent.com/CSSEGISandData/COVID-19/master/csse_covid_19_data/'\n",
    "        f'csse_covid_19_time_series/time_series_covid19_{name}_global.csv')\n",
    "    df = pd.read_csv(url)\n",
    "    # rename countries\n",
    "    df['Country/Region'] = df['Country/Region'].replace(mapping['replace.country'])\n",
    "    return df"
   ]
  },
  {
   "cell_type": "code",
   "execution_count": 8,
   "id": "affiliated-characterization",
   "metadata": {
    "execution": {
     "iopub.execute_input": "2022-05-14T00:46:16.877544Z",
     "iopub.status.busy": "2022-05-14T00:46:16.876950Z",
     "iopub.status.idle": "2022-05-14T00:46:16.880286Z",
     "shell.execute_reply": "2022-05-14T00:46:16.880724Z"
    },
    "papermill": {
     "duration": 0.038358,
     "end_time": "2022-05-14T00:46:16.880864",
     "exception": false,
     "start_time": "2022-05-14T00:46:16.842506",
     "status": "completed"
    },
    "tags": []
   },
   "outputs": [],
   "source": [
    "#hide\n",
    "def get_dates(df):\n",
    "    dt_cols = df.columns[~df.columns.isin(['Province/State', 'Country/Region', 'Lat', 'Long'])]\n",
    "    LAST_DATE_I = -1\n",
    "    # sometimes last column may be empty, then go backwards\n",
    "    for i in range(-1, -len(dt_cols), -1):\n",
    "        if not df[dt_cols[i]].fillna(0).eq(0).all():\n",
    "            LAST_DATE_I = i\n",
    "            break\n",
    "    return LAST_DATE_I, dt_cols"
   ]
  },
  {
   "cell_type": "code",
   "execution_count": 9,
   "id": "recent-optimization",
   "metadata": {
    "execution": {
     "iopub.execute_input": "2022-05-14T00:46:16.943899Z",
     "iopub.status.busy": "2022-05-14T00:46:16.943306Z",
     "iopub.status.idle": "2022-05-14T00:46:17.282154Z",
     "shell.execute_reply": "2022-05-14T00:46:17.281140Z"
    },
    "papermill": {
     "duration": 0.372204,
     "end_time": "2022-05-14T00:46:17.282314",
     "exception": false,
     "start_time": "2022-05-14T00:46:16.910110",
     "status": "completed"
    },
    "tags": []
   },
   "outputs": [],
   "source": [
    "#hide\n",
    "COL_REGION = 'Country/Region'\n",
    "# Confirmed, Recovered, Deaths\n",
    "df = get_frame('confirmed')\n",
    "# dft_: timeseries, dfc_: today country agg\n",
    "dft_cases = df\n",
    "dft_deaths = get_frame('deaths')\n",
    "dft_recovered = get_frame('recovered')\n",
    "LAST_DATE_I, dt_cols = get_dates(df)"
   ]
  },
  {
   "cell_type": "code",
   "execution_count": 10,
   "id": "absolute-copper",
   "metadata": {
    "execution": {
     "iopub.execute_input": "2022-05-14T00:46:17.348122Z",
     "iopub.status.busy": "2022-05-14T00:46:17.347586Z",
     "iopub.status.idle": "2022-05-14T00:46:17.349216Z",
     "shell.execute_reply": "2022-05-14T00:46:17.349601Z"
    },
    "papermill": {
     "duration": 0.036861,
     "end_time": "2022-05-14T00:46:17.349726",
     "exception": false,
     "start_time": "2022-05-14T00:46:17.312865",
     "status": "completed"
    },
    "tags": []
   },
   "outputs": [],
   "source": [
    "#hide\n",
    "LAST_DATE_I, dt_cols = get_dates(df)\n",
    "dt_today =dt_cols[LAST_DATE_I]\n",
    "# dt_5day = dt_cols[LAST_DATE_I - 5]\n",
    "dt_yday = dt_cols[LAST_DATE_I - 1]"
   ]
  },
  {
   "cell_type": "code",
   "execution_count": 11,
   "id": "restricted-sheriff",
   "metadata": {
    "execution": {
     "iopub.execute_input": "2022-05-14T00:46:17.413479Z",
     "iopub.status.busy": "2022-05-14T00:46:17.412973Z",
     "iopub.status.idle": "2022-05-14T00:46:17.420450Z",
     "shell.execute_reply": "2022-05-14T00:46:17.420853Z"
    },
    "papermill": {
     "duration": 0.042131,
     "end_time": "2022-05-14T00:46:17.420971",
     "exception": false,
     "start_time": "2022-05-14T00:46:17.378840",
     "status": "completed"
    },
    "tags": []
   },
   "outputs": [],
   "source": [
    "#hide\n",
    "dfc_cases = dft_cases.groupby(COL_REGION)[dt_today].sum()\n",
    "dfc_deaths = dft_deaths.groupby(COL_REGION)[dt_today].sum()\n",
    "# dfp_cases = dft_cases.groupby(COL_REGION)[dt_5day].sum()\n",
    "# dfp_deaths = dft_deaths.groupby(COL_REGION)[dt_5day].sum()\n",
    "dfp_cases = dft_cases.groupby(COL_REGION)[dt_yday].sum()\n",
    "dfp_deaths = dft_deaths.groupby(COL_REGION)[dt_yday].sum()"
   ]
  },
  {
   "cell_type": "code",
   "execution_count": 12,
   "id": "deluxe-hepatitis",
   "metadata": {
    "execution": {
     "iopub.execute_input": "2022-05-14T00:46:17.485186Z",
     "iopub.status.busy": "2022-05-14T00:46:17.484679Z",
     "iopub.status.idle": "2022-05-14T00:46:17.489128Z",
     "shell.execute_reply": "2022-05-14T00:46:17.488724Z"
    },
    "papermill": {
     "duration": 0.038929,
     "end_time": "2022-05-14T00:46:17.489233",
     "exception": false,
     "start_time": "2022-05-14T00:46:17.450304",
     "status": "completed"
    },
    "tags": []
   },
   "outputs": [],
   "source": [
    "#hide\n",
    "df_table = (pd.DataFrame(dict(Cases = dfc_cases, Deaths = dfc_deaths, PCases = dfp_cases, PDeaths = dfp_deaths))\n",
    "            .sort_values(by = ['Cases','Deaths'], ascending = [False, False])\n",
    "            .reset_index())"
   ]
  },
  {
   "cell_type": "code",
   "execution_count": 13,
   "id": "educational-chancellor",
   "metadata": {
    "execution": {
     "iopub.execute_input": "2022-05-14T00:46:17.559591Z",
     "iopub.status.busy": "2022-05-14T00:46:17.559060Z",
     "iopub.status.idle": "2022-05-14T00:46:17.570764Z",
     "shell.execute_reply": "2022-05-14T00:46:17.570340Z"
    },
    "papermill": {
     "duration": 0.052433,
     "end_time": "2022-05-14T00:46:17.570863",
     "exception": false,
     "start_time": "2022-05-14T00:46:17.518430",
     "status": "completed"
    },
    "tags": []
   },
   "outputs": [
    {
     "data": {
      "text/html": [
       "<div>\n",
       "<style scoped>\n",
       "    .dataframe tbody tr th:only-of-type {\n",
       "        vertical-align: middle;\n",
       "    }\n",
       "\n",
       "    .dataframe tbody tr th {\n",
       "        vertical-align: top;\n",
       "    }\n",
       "\n",
       "    .dataframe thead th {\n",
       "        text-align: right;\n",
       "    }\n",
       "</style>\n",
       "<table border=\"1\" class=\"dataframe\">\n",
       "  <thead>\n",
       "    <tr style=\"text-align: right;\">\n",
       "      <th></th>\n",
       "      <th>Country/Region</th>\n",
       "      <th>Cases</th>\n",
       "      <th>Deaths</th>\n",
       "      <th>PCases</th>\n",
       "      <th>PDeaths</th>\n",
       "      <th>Cases (+)</th>\n",
       "      <th>Deaths (+)</th>\n",
       "      <th>Fatality Rate</th>\n",
       "      <th>Continent</th>\n",
       "    </tr>\n",
       "  </thead>\n",
       "  <tbody>\n",
       "    <tr>\n",
       "      <th>0</th>\n",
       "      <td>US</td>\n",
       "      <td>82325687</td>\n",
       "      <td>999125</td>\n",
       "      <td>82223174</td>\n",
       "      <td>998997</td>\n",
       "      <td>102513</td>\n",
       "      <td>128</td>\n",
       "      <td>1.21</td>\n",
       "      <td>North America</td>\n",
       "    </tr>\n",
       "    <tr>\n",
       "      <th>1</th>\n",
       "      <td>India</td>\n",
       "      <td>43116254</td>\n",
       "      <td>524190</td>\n",
       "      <td>43113413</td>\n",
       "      <td>524181</td>\n",
       "      <td>2841</td>\n",
       "      <td>9</td>\n",
       "      <td>1.22</td>\n",
       "      <td>Asia</td>\n",
       "    </tr>\n",
       "    <tr>\n",
       "      <th>2</th>\n",
       "      <td>Brazil</td>\n",
       "      <td>30639130</td>\n",
       "      <td>664874</td>\n",
       "      <td>30617786</td>\n",
       "      <td>664750</td>\n",
       "      <td>21344</td>\n",
       "      <td>124</td>\n",
       "      <td>2.17</td>\n",
       "      <td>South America</td>\n",
       "    </tr>\n",
       "    <tr>\n",
       "      <th>3</th>\n",
       "      <td>France</td>\n",
       "      <td>29289023</td>\n",
       "      <td>148196</td>\n",
       "      <td>29252875</td>\n",
       "      <td>148112</td>\n",
       "      <td>36148</td>\n",
       "      <td>84</td>\n",
       "      <td>0.51</td>\n",
       "      <td>Europe</td>\n",
       "    </tr>\n",
       "    <tr>\n",
       "      <th>4</th>\n",
       "      <td>Germany</td>\n",
       "      <td>25661838</td>\n",
       "      <td>137348</td>\n",
       "      <td>25592839</td>\n",
       "      <td>137184</td>\n",
       "      <td>68999</td>\n",
       "      <td>164</td>\n",
       "      <td>0.54</td>\n",
       "      <td>Europe</td>\n",
       "    </tr>\n",
       "  </tbody>\n",
       "</table>\n",
       "</div>"
      ],
      "text/plain": [
       "  Country/Region     Cases  Deaths    PCases  PDeaths  Cases (+)  Deaths (+)  \\\n",
       "0             US  82325687  999125  82223174   998997     102513         128   \n",
       "1          India  43116254  524190  43113413   524181       2841           9   \n",
       "2         Brazil  30639130  664874  30617786   664750      21344         124   \n",
       "3         France  29289023  148196  29252875   148112      36148          84   \n",
       "4        Germany  25661838  137348  25592839   137184      68999         164   \n",
       "\n",
       "   Fatality Rate      Continent  \n",
       "0           1.21  North America  \n",
       "1           1.22           Asia  \n",
       "2           2.17  South America  \n",
       "3           0.51         Europe  \n",
       "4           0.54         Europe  "
      ]
     },
     "execution_count": 13,
     "metadata": {},
     "output_type": "execute_result"
    }
   ],
   "source": [
    "#hide\n",
    "for c in 'Cases, Deaths'.split(', '):\n",
    "    df_table[f'{c} (+)'] = (df_table[c] - df_table[f'P{c}']).clip(0)\n",
    "    #Clip ça veut dire, les chiffres negatif sont interdit\n",
    "df_table['Fatality Rate'] = (100* df_table['Deaths']/ df_table['Cases']).round(2)\n",
    "df_table['Continent'] = df_table['Country/Region'].map(mapping['map.continent'])\n",
    "df_table.head(5)"
   ]
  },
  {
   "cell_type": "code",
   "execution_count": 14,
   "id": "aboriginal-bulgaria",
   "metadata": {
    "execution": {
     "iopub.execute_input": "2022-05-14T00:46:17.635496Z",
     "iopub.status.busy": "2022-05-14T00:46:17.634887Z",
     "iopub.status.idle": "2022-05-14T00:46:17.636601Z",
     "shell.execute_reply": "2022-05-14T00:46:17.637040Z"
    },
    "papermill": {
     "duration": 0.036477,
     "end_time": "2022-05-14T00:46:17.637169",
     "exception": false,
     "start_time": "2022-05-14T00:46:17.600692",
     "status": "completed"
    },
    "tags": []
   },
   "outputs": [],
   "source": [
    "#hide\n",
    "#delete problematic countries from table\n",
    "df_table = df_table[~df_table['Country/Region'].isin(['Cape Verde', 'Cruise Ship', 'Kosovo'])]"
   ]
  },
  {
   "cell_type": "code",
   "execution_count": 15,
   "id": "fantastic-effect",
   "metadata": {
    "execution": {
     "iopub.execute_input": "2022-05-14T00:46:17.704377Z",
     "iopub.status.busy": "2022-05-14T00:46:17.703870Z",
     "iopub.status.idle": "2022-05-14T00:46:17.719459Z",
     "shell.execute_reply": "2022-05-14T00:46:17.719944Z"
    },
    "papermill": {
     "duration": 0.052768,
     "end_time": "2022-05-14T00:46:17.720055",
     "exception": false,
     "start_time": "2022-05-14T00:46:17.667287",
     "status": "completed"
    },
    "tags": []
   },
   "outputs": [
    {
     "data": {
      "text/html": [
       "<div>\n",
       "<style scoped>\n",
       "    .dataframe tbody tr th:only-of-type {\n",
       "        vertical-align: middle;\n",
       "    }\n",
       "\n",
       "    .dataframe tbody tr th {\n",
       "        vertical-align: top;\n",
       "    }\n",
       "\n",
       "    .dataframe thead th {\n",
       "        text-align: right;\n",
       "    }\n",
       "</style>\n",
       "<table border=\"1\" class=\"dataframe\">\n",
       "  <thead>\n",
       "    <tr style=\"text-align: right;\">\n",
       "      <th></th>\n",
       "      <th>Country/Region</th>\n",
       "      <th>Cases</th>\n",
       "      <th>Deaths</th>\n",
       "      <th>PCases</th>\n",
       "      <th>PDeaths</th>\n",
       "      <th>Cases (+)</th>\n",
       "      <th>Deaths (+)</th>\n",
       "      <th>Fatality Rate</th>\n",
       "      <th>Continent</th>\n",
       "    </tr>\n",
       "  </thead>\n",
       "  <tbody>\n",
       "    <tr>\n",
       "      <th>0</th>\n",
       "      <td>US</td>\n",
       "      <td>82325687</td>\n",
       "      <td>999125</td>\n",
       "      <td>82223174</td>\n",
       "      <td>998997</td>\n",
       "      <td>102513</td>\n",
       "      <td>128</td>\n",
       "      <td>1.2</td>\n",
       "      <td>North America</td>\n",
       "    </tr>\n",
       "    <tr>\n",
       "      <th>1</th>\n",
       "      <td>India</td>\n",
       "      <td>43116254</td>\n",
       "      <td>524190</td>\n",
       "      <td>43113413</td>\n",
       "      <td>524181</td>\n",
       "      <td>2841</td>\n",
       "      <td>9</td>\n",
       "      <td>1.2</td>\n",
       "      <td>Asia</td>\n",
       "    </tr>\n",
       "    <tr>\n",
       "      <th>2</th>\n",
       "      <td>Brazil</td>\n",
       "      <td>30639130</td>\n",
       "      <td>664874</td>\n",
       "      <td>30617786</td>\n",
       "      <td>664750</td>\n",
       "      <td>21344</td>\n",
       "      <td>124</td>\n",
       "      <td>2.2</td>\n",
       "      <td>South America</td>\n",
       "    </tr>\n",
       "    <tr>\n",
       "      <th>3</th>\n",
       "      <td>France</td>\n",
       "      <td>29289023</td>\n",
       "      <td>148196</td>\n",
       "      <td>29252875</td>\n",
       "      <td>148112</td>\n",
       "      <td>36148</td>\n",
       "      <td>84</td>\n",
       "      <td>0.5</td>\n",
       "      <td>Europe</td>\n",
       "    </tr>\n",
       "    <tr>\n",
       "      <th>4</th>\n",
       "      <td>Germany</td>\n",
       "      <td>25661838</td>\n",
       "      <td>137348</td>\n",
       "      <td>25592839</td>\n",
       "      <td>137184</td>\n",
       "      <td>68999</td>\n",
       "      <td>164</td>\n",
       "      <td>0.5</td>\n",
       "      <td>Europe</td>\n",
       "    </tr>\n",
       "  </tbody>\n",
       "</table>\n",
       "</div>"
      ],
      "text/plain": [
       "  Country/Region     Cases  Deaths    PCases  PDeaths  Cases (+)  Deaths (+)  \\\n",
       "0             US  82325687  999125  82223174   998997     102513         128   \n",
       "1          India  43116254  524190  43113413   524181       2841           9   \n",
       "2         Brazil  30639130  664874  30617786   664750      21344         124   \n",
       "3         France  29289023  148196  29252875   148112      36148          84   \n",
       "4        Germany  25661838  137348  25592839   137184      68999         164   \n",
       "\n",
       "   Fatality Rate      Continent  \n",
       "0            1.2  North America  \n",
       "1            1.2           Asia  \n",
       "2            2.2  South America  \n",
       "3            0.5         Europe  \n",
       "4            0.5         Europe  "
      ]
     },
     "execution_count": 15,
     "metadata": {},
     "output_type": "execute_result"
    }
   ],
   "source": [
    "#hide\n",
    "df_table = (pd.DataFrame(dict(Cases=dfc_cases, Deaths=dfc_deaths, PCases=dfp_cases, PDeaths=dfp_deaths))\n",
    "             .sort_values(by=['Cases', 'Deaths'], ascending=[False, False])\n",
    "             .reset_index())\n",
    "df_table.rename(columns={'index': 'Country/Region'}, inplace=True)\n",
    "for c in 'Cases, Deaths'.split(', '):\n",
    "    df_table[f'{c} (+)'] = (df_table[c] - df_table[f'P{c}']).clip(0)  # DATA BUG\n",
    "df_table['Fatality Rate'] = (100 * df_table['Deaths'] / df_table['Cases']).round(1)\n",
    "df_table['Continent'] = df_table['Country/Region'].map(mapping['map.continent'])\n",
    "df_table.head(5)"
   ]
  },
  {
   "cell_type": "code",
   "execution_count": 16,
   "id": "fewer-occasion",
   "metadata": {
    "execution": {
     "iopub.execute_input": "2022-05-14T00:46:17.784876Z",
     "iopub.status.busy": "2022-05-14T00:46:17.784376Z",
     "iopub.status.idle": "2022-05-14T00:46:17.786339Z",
     "shell.execute_reply": "2022-05-14T00:46:17.786774Z"
    },
    "papermill": {
     "duration": 0.036702,
     "end_time": "2022-05-14T00:46:17.786883",
     "exception": false,
     "start_time": "2022-05-14T00:46:17.750181",
     "status": "completed"
    },
    "tags": []
   },
   "outputs": [],
   "source": [
    "#hide\n",
    "#delete problematic countries from table\n",
    "df_table = df_table[~df_table['Country/Region'].isin(['Cape Verde', 'Cruise Ship', 'Kosovo'])]"
   ]
  },
  {
   "cell_type": "code",
   "execution_count": 17,
   "id": "related-center",
   "metadata": {
    "execution": {
     "iopub.execute_input": "2022-05-14T00:46:17.857392Z",
     "iopub.status.busy": "2022-05-14T00:46:17.856882Z",
     "iopub.status.idle": "2022-05-14T00:46:17.865670Z",
     "shell.execute_reply": "2022-05-14T00:46:17.866112Z"
    },
    "papermill": {
     "duration": 0.049292,
     "end_time": "2022-05-14T00:46:17.866229",
     "exception": false,
     "start_time": "2022-05-14T00:46:17.816937",
     "status": "completed"
    },
    "tags": []
   },
   "outputs": [],
   "source": [
    "#hide\n",
    "metrics = [df_table.columns[index] for index in [1,2,5,6]]\n",
    "# s_china = df_table[df_table['Country/Region'].eq('China')][metrics].sum().add_prefix('China ')\n",
    "s_us = df_table[df_table['Country/Region'].eq('US')][metrics].sum().add_prefix('US ')\n",
    "s_eu = df_table[df_table['Continent'].eq('Europe')][metrics].sum().add_prefix('EU ')\n",
    "s_ind = df_table[df_table['Country/Region'].eq('India')][metrics].sum().add_prefix('India ')\n",
    "summary = {'updated': pd.to_datetime(dt_today), 'since': pd.to_datetime(dt_yday)}\n",
    "summary = {'updated': pd.to_datetime(dt_today), 'since': pd.to_datetime(dt_yday)}\n",
    "summary = {**summary, **df_table[metrics].sum(), **s_ind, **s_us, **s_eu}"
   ]
  },
  {
   "cell_type": "code",
   "execution_count": 18,
   "id": "engaging-syndrome",
   "metadata": {
    "execution": {
     "iopub.execute_input": "2022-05-14T00:46:17.931976Z",
     "iopub.status.busy": "2022-05-14T00:46:17.931450Z",
     "iopub.status.idle": "2022-05-14T00:46:17.952342Z",
     "shell.execute_reply": "2022-05-14T00:46:17.951639Z"
    },
    "papermill": {
     "duration": 0.055888,
     "end_time": "2022-05-14T00:46:17.952495",
     "exception": false,
     "start_time": "2022-05-14T00:46:17.896607",
     "status": "completed"
    },
    "tags": []
   },
   "outputs": [],
   "source": [
    "#hide\n",
    "dft_ct_new_cases = dft_cases.groupby(COL_REGION)[dt_cols].sum().diff(axis=1).fillna(0).astype(int)"
   ]
  },
  {
   "cell_type": "code",
   "execution_count": 19,
   "id": "neutral-assignment",
   "metadata": {
    "execution": {
     "iopub.execute_input": "2022-05-14T00:46:18.023651Z",
     "iopub.status.busy": "2022-05-14T00:46:18.023106Z",
     "iopub.status.idle": "2022-05-14T00:46:18.026548Z",
     "shell.execute_reply": "2022-05-14T00:46:18.026138Z"
    },
    "papermill": {
     "duration": 0.03973,
     "end_time": "2022-05-14T00:46:18.026661",
     "exception": false,
     "start_time": "2022-05-14T00:46:17.986931",
     "status": "completed"
    },
    "tags": []
   },
   "outputs": [],
   "source": [
    "#hide\n",
    "everydaycases = dft_ct_new_cases.cumsum(axis=1)"
   ]
  },
  {
   "cell_type": "code",
   "execution_count": 20,
   "id": "parliamentary-calgary",
   "metadata": {
    "execution": {
     "iopub.execute_input": "2022-05-14T00:46:18.091962Z",
     "iopub.status.busy": "2022-05-14T00:46:18.091410Z",
     "iopub.status.idle": "2022-05-14T00:46:18.635694Z",
     "shell.execute_reply": "2022-05-14T00:46:18.636210Z"
    },
    "papermill": {
     "duration": 0.579323,
     "end_time": "2022-05-14T00:46:18.636386",
     "exception": false,
     "start_time": "2022-05-14T00:46:18.057063",
     "status": "completed"
    },
    "tags": []
   },
   "outputs": [],
   "source": [
    "#hide\n",
    "import pandas as pd\n",
    "import matplotlib.pyplot as plt\n",
    "import matplotlib.ticker as ticker\n",
    "import matplotlib.animation as animation\n",
    "from IPython.display import HTML"
   ]
  },
  {
   "cell_type": "code",
   "execution_count": 21,
   "id": "lasting-extraction",
   "metadata": {
    "execution": {
     "iopub.execute_input": "2022-05-14T00:46:18.703906Z",
     "iopub.status.busy": "2022-05-14T00:46:18.703357Z",
     "iopub.status.idle": "2022-05-14T00:46:18.709832Z",
     "shell.execute_reply": "2022-05-14T00:46:18.710320Z"
    },
    "papermill": {
     "duration": 0.043104,
     "end_time": "2022-05-14T00:46:18.710451",
     "exception": false,
     "start_time": "2022-05-14T00:46:18.667347",
     "status": "completed"
    },
    "tags": []
   },
   "outputs": [],
   "source": [
    "#hide\n",
    "t = everydaycases.stack()"
   ]
  },
  {
   "cell_type": "code",
   "execution_count": 22,
   "id": "premier-sleeve",
   "metadata": {
    "execution": {
     "iopub.execute_input": "2022-05-14T00:46:18.775079Z",
     "iopub.status.busy": "2022-05-14T00:46:18.774562Z",
     "iopub.status.idle": "2022-05-14T00:46:18.785757Z",
     "shell.execute_reply": "2022-05-14T00:46:18.785345Z"
    },
    "papermill": {
     "duration": 0.045034,
     "end_time": "2022-05-14T00:46:18.785865",
     "exception": false,
     "start_time": "2022-05-14T00:46:18.740831",
     "status": "completed"
    },
    "tags": []
   },
   "outputs": [],
   "source": [
    "#hide\n",
    "g = t.reset_index(['Country/Region'])"
   ]
  },
  {
   "cell_type": "code",
   "execution_count": 23,
   "id": "distributed-pittsburgh",
   "metadata": {
    "execution": {
     "iopub.execute_input": "2022-05-14T00:46:18.850216Z",
     "iopub.status.busy": "2022-05-14T00:46:18.849672Z",
     "iopub.status.idle": "2022-05-14T00:46:18.851723Z",
     "shell.execute_reply": "2022-05-14T00:46:18.851294Z"
    },
    "papermill": {
     "duration": 0.035771,
     "end_time": "2022-05-14T00:46:18.851840",
     "exception": false,
     "start_time": "2022-05-14T00:46:18.816069",
     "status": "completed"
    },
    "tags": []
   },
   "outputs": [],
   "source": [
    "#hide\n",
    "g.index.name = 'date'"
   ]
  },
  {
   "cell_type": "code",
   "execution_count": 24,
   "id": "naked-donor",
   "metadata": {
    "execution": {
     "iopub.execute_input": "2022-05-14T00:46:18.915329Z",
     "iopub.status.busy": "2022-05-14T00:46:18.914745Z",
     "iopub.status.idle": "2022-05-14T00:46:18.916862Z",
     "shell.execute_reply": "2022-05-14T00:46:18.916288Z"
    },
    "papermill": {
     "duration": 0.034975,
     "end_time": "2022-05-14T00:46:18.916982",
     "exception": false,
     "start_time": "2022-05-14T00:46:18.882007",
     "status": "completed"
    },
    "tags": []
   },
   "outputs": [],
   "source": [
    "# #hide\n",
    "# g = g.reset_index(['date'])"
   ]
  },
  {
   "cell_type": "code",
   "execution_count": 25,
   "id": "incomplete-mustang",
   "metadata": {
    "execution": {
     "iopub.execute_input": "2022-05-14T00:46:18.981022Z",
     "iopub.status.busy": "2022-05-14T00:46:18.980444Z",
     "iopub.status.idle": "2022-05-14T00:46:18.982540Z",
     "shell.execute_reply": "2022-05-14T00:46:18.982115Z"
    },
    "papermill": {
     "duration": 0.035024,
     "end_time": "2022-05-14T00:46:18.982643",
     "exception": false,
     "start_time": "2022-05-14T00:46:18.947619",
     "status": "completed"
    },
    "tags": []
   },
   "outputs": [],
   "source": [
    "#hide\n",
    "# g.head()"
   ]
  },
  {
   "cell_type": "code",
   "execution_count": 26,
   "id": "specific-kruger",
   "metadata": {
    "execution": {
     "iopub.execute_input": "2022-05-14T00:46:19.046103Z",
     "iopub.status.busy": "2022-05-14T00:46:19.045513Z",
     "iopub.status.idle": "2022-05-14T00:46:19.047681Z",
     "shell.execute_reply": "2022-05-14T00:46:19.047151Z"
    },
    "papermill": {
     "duration": 0.034952,
     "end_time": "2022-05-14T00:46:19.047802",
     "exception": false,
     "start_time": "2022-05-14T00:46:19.012850",
     "status": "completed"
    },
    "tags": []
   },
   "outputs": [],
   "source": [
    "#hide\n",
    "# g.columns = ['date','country','cases']"
   ]
  },
  {
   "cell_type": "code",
   "execution_count": 27,
   "id": "tender-conversion",
   "metadata": {
    "execution": {
     "iopub.execute_input": "2022-05-14T00:46:19.113049Z",
     "iopub.status.busy": "2022-05-14T00:46:19.112510Z",
     "iopub.status.idle": "2022-05-14T00:46:19.114522Z",
     "shell.execute_reply": "2022-05-14T00:46:19.114017Z"
    },
    "papermill": {
     "duration": 0.035788,
     "end_time": "2022-05-14T00:46:19.114628",
     "exception": false,
     "start_time": "2022-05-14T00:46:19.078840",
     "status": "completed"
    },
    "tags": []
   },
   "outputs": [],
   "source": [
    "#hide\n",
    "# g['continent'] = g.country"
   ]
  },
  {
   "cell_type": "code",
   "execution_count": 28,
   "id": "substantial-wilderness",
   "metadata": {
    "execution": {
     "iopub.execute_input": "2022-05-14T00:46:19.178855Z",
     "iopub.status.busy": "2022-05-14T00:46:19.178256Z",
     "iopub.status.idle": "2022-05-14T00:46:19.180367Z",
     "shell.execute_reply": "2022-05-14T00:46:19.179870Z"
    },
    "papermill": {
     "duration": 0.03549,
     "end_time": "2022-05-14T00:46:19.180487",
     "exception": false,
     "start_time": "2022-05-14T00:46:19.144997",
     "status": "completed"
    },
    "tags": []
   },
   "outputs": [],
   "source": [
    "#hide\n",
    "# cols = list(g.columns.values)"
   ]
  },
  {
   "cell_type": "code",
   "execution_count": 29,
   "id": "solved-farming",
   "metadata": {
    "execution": {
     "iopub.execute_input": "2022-05-14T00:46:19.244587Z",
     "iopub.status.busy": "2022-05-14T00:46:19.244011Z",
     "iopub.status.idle": "2022-05-14T00:46:19.246148Z",
     "shell.execute_reply": "2022-05-14T00:46:19.245684Z"
    },
    "papermill": {
     "duration": 0.035134,
     "end_time": "2022-05-14T00:46:19.246254",
     "exception": false,
     "start_time": "2022-05-14T00:46:19.211120",
     "status": "completed"
    },
    "tags": []
   },
   "outputs": [],
   "source": [
    "#hide\n",
    "# cols.insert(0, cols.pop())"
   ]
  },
  {
   "cell_type": "code",
   "execution_count": 30,
   "id": "executed-adoption",
   "metadata": {
    "execution": {
     "iopub.execute_input": "2022-05-14T00:46:19.309852Z",
     "iopub.status.busy": "2022-05-14T00:46:19.309274Z",
     "iopub.status.idle": "2022-05-14T00:46:19.311388Z",
     "shell.execute_reply": "2022-05-14T00:46:19.310899Z"
    },
    "papermill": {
     "duration": 0.035056,
     "end_time": "2022-05-14T00:46:19.311534",
     "exception": false,
     "start_time": "2022-05-14T00:46:19.276478",
     "status": "completed"
    },
    "tags": []
   },
   "outputs": [],
   "source": [
    "#hide\n",
    "# g = g[cols]"
   ]
  },
  {
   "cell_type": "code",
   "execution_count": 31,
   "id": "subject-dublin",
   "metadata": {
    "execution": {
     "iopub.execute_input": "2022-05-14T00:46:19.375810Z",
     "iopub.status.busy": "2022-05-14T00:46:19.375186Z",
     "iopub.status.idle": "2022-05-14T00:46:19.377326Z",
     "shell.execute_reply": "2022-05-14T00:46:19.376870Z"
    },
    "papermill": {
     "duration": 0.034853,
     "end_time": "2022-05-14T00:46:19.377441",
     "exception": false,
     "start_time": "2022-05-14T00:46:19.342588",
     "status": "completed"
    },
    "tags": []
   },
   "outputs": [],
   "source": [
    "#hide\n",
    "# g['continent'] = g['continent'].map(mapping['map.continent'])"
   ]
  },
  {
   "cell_type": "code",
   "execution_count": 32,
   "id": "freelance-scout",
   "metadata": {
    "execution": {
     "iopub.execute_input": "2022-05-14T00:46:19.440653Z",
     "iopub.status.busy": "2022-05-14T00:46:19.440070Z",
     "iopub.status.idle": "2022-05-14T00:46:19.442170Z",
     "shell.execute_reply": "2022-05-14T00:46:19.441684Z"
    },
    "papermill": {
     "duration": 0.034698,
     "end_time": "2022-05-14T00:46:19.442283",
     "exception": false,
     "start_time": "2022-05-14T00:46:19.407585",
     "status": "completed"
    },
    "tags": []
   },
   "outputs": [],
   "source": [
    "#hide\n",
    "# g.head()"
   ]
  },
  {
   "cell_type": "code",
   "execution_count": 33,
   "id": "limited-engine",
   "metadata": {
    "execution": {
     "iopub.execute_input": "2022-05-14T00:46:19.506385Z",
     "iopub.status.busy": "2022-05-14T00:46:19.505799Z",
     "iopub.status.idle": "2022-05-14T00:46:19.507959Z",
     "shell.execute_reply": "2022-05-14T00:46:19.507462Z"
    },
    "papermill": {
     "duration": 0.034898,
     "end_time": "2022-05-14T00:46:19.508071",
     "exception": false,
     "start_time": "2022-05-14T00:46:19.473173",
     "status": "completed"
    },
    "tags": []
   },
   "outputs": [],
   "source": [
    "# hide\n",
    "# g['date'] = g['date'].astype('datetime64[ns]')"
   ]
  },
  {
   "cell_type": "code",
   "execution_count": 34,
   "id": "sophisticated-supervisor",
   "metadata": {
    "execution": {
     "iopub.execute_input": "2022-05-14T00:46:19.571179Z",
     "iopub.status.busy": "2022-05-14T00:46:19.570676Z",
     "iopub.status.idle": "2022-05-14T00:46:19.572770Z",
     "shell.execute_reply": "2022-05-14T00:46:19.572368Z"
    },
    "papermill": {
     "duration": 0.03466,
     "end_time": "2022-05-14T00:46:19.572871",
     "exception": false,
     "start_time": "2022-05-14T00:46:19.538211",
     "status": "completed"
    },
    "tags": []
   },
   "outputs": [],
   "source": [
    "#hide\n",
    "# g['date'] = g.date.dt.dayofyear"
   ]
  },
  {
   "cell_type": "code",
   "execution_count": 35,
   "id": "inside-dubai",
   "metadata": {
    "execution": {
     "iopub.execute_input": "2022-05-14T00:46:19.635850Z",
     "iopub.status.busy": "2022-05-14T00:46:19.635233Z",
     "iopub.status.idle": "2022-05-14T00:46:19.638618Z",
     "shell.execute_reply": "2022-05-14T00:46:19.638162Z"
    },
    "papermill": {
     "duration": 0.035964,
     "end_time": "2022-05-14T00:46:19.638730",
     "exception": false,
     "start_time": "2022-05-14T00:46:19.602766",
     "status": "completed"
    },
    "tags": []
   },
   "outputs": [],
   "source": [
    "#hide\n",
    "# g = g.rename(columns= {'continent':'group','country':'name','cases':'value'})"
   ]
  },
  {
   "cell_type": "code",
   "execution_count": 36,
   "id": "fleet-motorcycle",
   "metadata": {
    "execution": {
     "iopub.execute_input": "2022-05-14T00:46:19.702253Z",
     "iopub.status.busy": "2022-05-14T00:46:19.701670Z",
     "iopub.status.idle": "2022-05-14T00:46:19.703698Z",
     "shell.execute_reply": "2022-05-14T00:46:19.703268Z"
    },
    "papermill": {
     "duration": 0.03464,
     "end_time": "2022-05-14T00:46:19.703802",
     "exception": false,
     "start_time": "2022-05-14T00:46:19.669162",
     "status": "completed"
    },
    "tags": []
   },
   "outputs": [],
   "source": [
    "#hide\n",
    "# cols = ['name','group','day','value']"
   ]
  },
  {
   "cell_type": "code",
   "execution_count": 37,
   "id": "continued-sleeping",
   "metadata": {
    "execution": {
     "iopub.execute_input": "2022-05-14T00:46:19.766688Z",
     "iopub.status.busy": "2022-05-14T00:46:19.766115Z",
     "iopub.status.idle": "2022-05-14T00:46:19.767739Z",
     "shell.execute_reply": "2022-05-14T00:46:19.768207Z"
    },
    "papermill": {
     "duration": 0.034637,
     "end_time": "2022-05-14T00:46:19.768331",
     "exception": false,
     "start_time": "2022-05-14T00:46:19.733694",
     "status": "completed"
    },
    "tags": []
   },
   "outputs": [],
   "source": [
    "#hide\n",
    "# g.rename(columns= {'date':'day'},inplace = True)"
   ]
  },
  {
   "cell_type": "code",
   "execution_count": 38,
   "id": "major-fight",
   "metadata": {
    "execution": {
     "iopub.execute_input": "2022-05-14T00:46:19.832172Z",
     "iopub.status.busy": "2022-05-14T00:46:19.831588Z",
     "iopub.status.idle": "2022-05-14T00:46:19.834917Z",
     "shell.execute_reply": "2022-05-14T00:46:19.835301Z"
    },
    "papermill": {
     "duration": 0.03629,
     "end_time": "2022-05-14T00:46:19.835435",
     "exception": false,
     "start_time": "2022-05-14T00:46:19.799145",
     "status": "completed"
    },
    "tags": []
   },
   "outputs": [],
   "source": [
    "#hide\n",
    "# g = g[cols]"
   ]
  },
  {
   "cell_type": "code",
   "execution_count": 39,
   "id": "structured-mobile",
   "metadata": {
    "execution": {
     "iopub.execute_input": "2022-05-14T00:46:19.898199Z",
     "iopub.status.busy": "2022-05-14T00:46:19.897627Z",
     "iopub.status.idle": "2022-05-14T00:46:19.899293Z",
     "shell.execute_reply": "2022-05-14T00:46:19.899754Z"
    },
    "papermill": {
     "duration": 0.034521,
     "end_time": "2022-05-14T00:46:19.899882",
     "exception": false,
     "start_time": "2022-05-14T00:46:19.865361",
     "status": "completed"
    },
    "tags": []
   },
   "outputs": [],
   "source": [
    "# #hide\n",
    "# g = g[g.group.notna()]"
   ]
  },
  {
   "cell_type": "code",
   "execution_count": 40,
   "id": "determined-closing",
   "metadata": {
    "execution": {
     "iopub.execute_input": "2022-05-14T00:46:19.963806Z",
     "iopub.status.busy": "2022-05-14T00:46:19.963173Z",
     "iopub.status.idle": "2022-05-14T00:46:19.965177Z",
     "shell.execute_reply": "2022-05-14T00:46:19.964615Z"
    },
    "papermill": {
     "duration": 0.034594,
     "end_time": "2022-05-14T00:46:19.965284",
     "exception": false,
     "start_time": "2022-05-14T00:46:19.930690",
     "status": "completed"
    },
    "tags": []
   },
   "outputs": [],
   "source": [
    "# #hide\n",
    "# colors = dict(zip(\n",
    "#     [\"Oceania\", \"Europe\", \"Asia\", \"South America\", \"Middle East\", \"North America\", \"Africa\"],\n",
    "#     [\"#adb0ff\", \"#ffb3ff\", \"#90d595\", \"#e48381\", \"#aafbff\", \"#f7bb5f\", \"#eafb50\"]\n",
    "# ))\n",
    "# group_lk = g.set_index('name')['group'].to_dict()"
   ]
  },
  {
   "cell_type": "code",
   "execution_count": null,
   "id": "gross-drinking",
   "metadata": {
    "papermill": {
     "duration": 0.030033,
     "end_time": "2022-05-14T00:46:20.025351",
     "exception": false,
     "start_time": "2022-05-14T00:46:19.995318",
     "status": "completed"
    },
    "tags": []
   },
   "outputs": [],
   "source": []
  },
  {
   "cell_type": "code",
   "execution_count": 41,
   "id": "subject-macintosh",
   "metadata": {
    "execution": {
     "iopub.execute_input": "2022-05-14T00:46:20.089569Z",
     "iopub.status.busy": "2022-05-14T00:46:20.089031Z",
     "iopub.status.idle": "2022-05-14T00:46:20.090974Z",
     "shell.execute_reply": "2022-05-14T00:46:20.090473Z"
    },
    "papermill": {
     "duration": 0.035749,
     "end_time": "2022-05-14T00:46:20.091071",
     "exception": false,
     "start_time": "2022-05-14T00:46:20.055322",
     "status": "completed"
    },
    "tags": []
   },
   "outputs": [],
   "source": [
    "# #hide\n",
    "# fig, ax = plt.subplots(figsize=(15, 8))\n",
    "\n",
    "# def draw_barchart(current_day):\n",
    "#     dff = g[g['day'].eq(current_day)].sort_values(by='value', ascending=True).tail(10)\n",
    "#     ax.clear()\n",
    "#     ax.barh(dff['name'], dff['value'], color=[colors[group_lk[x]] for x in dff['name']])\n",
    "#     dx = dff['value'].max() / 200\n",
    "    \n",
    "#     for i, (value, name) in enumerate(zip(dff['value'], dff['name'])):\n",
    "#         ax.text(value-dx, i,     name,           size=14, weight=600, ha='right', va='bottom')\n",
    "#         ax.text(value-dx, i-.25, group_lk[name], size=10, color='#444444', ha='right', va='baseline')\n",
    "#         ax.text(value+dx, i,     f'{value:,.0f}',  size=14, ha='left',  va='center')\n",
    "#     ax.text(1, 0.4, current_day, transform=ax.transAxes, color='#777777', size=46, ha='right', weight=800)\n",
    "#     ax.text(0, 1.06, 'Population (thousands)', transform=ax.transAxes, size=12, color='#777777')\n",
    "#     ax.xaxis.set_major_formatter(ticker.StrMethodFormatter('{x:,.0f}'))\n",
    "#     ax.xaxis.set_ticks_position('top')\n",
    "#     ax.tick_params(axis='x', colors='#777777', labelsize=12)\n",
    "#     ax.set_yticks([])\n",
    "#     ax.margins(0, 0.01)\n",
    "#     ax.grid(which='major', axis='x', linestyle='-')\n",
    "#     ax.set_axisbelow(True)\n",
    "    \n",
    "#     ax.text(0, 1.15, 'Coronavirus',\n",
    "#             transform=ax.transAxes, size=24, weight=600, ha='left', va='top')\n",
    "# #     ax.text(1, 0, 'by @pratapvardhan; credit @jburnmurdoch', transform=ax.transAxes, color='#777777', ha='right',\n",
    "# #             bbox=dict(facecolor='white', alpha=0.8, edgecolor='white'))\n",
    "#     plt.box(False)"
   ]
  },
  {
   "cell_type": "code",
   "execution_count": 42,
   "id": "sexual-wages",
   "metadata": {
    "execution": {
     "iopub.execute_input": "2022-05-14T00:46:20.154304Z",
     "iopub.status.busy": "2022-05-14T00:46:20.153724Z",
     "iopub.status.idle": "2022-05-14T00:46:20.157644Z",
     "shell.execute_reply": "2022-05-14T00:46:20.158085Z"
    },
    "papermill": {
     "duration": 0.037256,
     "end_time": "2022-05-14T00:46:20.158216",
     "exception": false,
     "start_time": "2022-05-14T00:46:20.120960",
     "status": "completed"
    },
    "tags": []
   },
   "outputs": [],
   "source": [
    "# #hide_input\n",
    "# fig, ax = plt.subplots(figsize=(15, 8))\n",
    "# animator = animation.FuncAnimation(fig, draw_barchart, frames=range(g.day.values.min(), g.day.values.max()))\n",
    "# HTML(animator.to_jshtml())\n",
    "# # or use animator.to_html5_video() or animator.save() "
   ]
  },
  {
   "cell_type": "code",
   "execution_count": null,
   "id": "australian-container",
   "metadata": {
    "papermill": {
     "duration": 0.029773,
     "end_time": "2022-05-14T00:46:20.218289",
     "exception": false,
     "start_time": "2022-05-14T00:46:20.188516",
     "status": "completed"
    },
    "tags": []
   },
   "outputs": [],
   "source": []
  },
  {
   "cell_type": "code",
   "execution_count": null,
   "id": "mediterranean-pontiac",
   "metadata": {
    "papermill": {
     "duration": 0.029844,
     "end_time": "2022-05-14T00:46:20.281788",
     "exception": false,
     "start_time": "2022-05-14T00:46:20.251944",
     "status": "completed"
    },
    "tags": []
   },
   "outputs": [],
   "source": []
  },
  {
   "cell_type": "code",
   "execution_count": null,
   "id": "aging-legislature",
   "metadata": {
    "papermill": {
     "duration": 0.031452,
     "end_time": "2022-05-14T00:46:20.343347",
     "exception": false,
     "start_time": "2022-05-14T00:46:20.311895",
     "status": "completed"
    },
    "tags": []
   },
   "outputs": [],
   "source": []
  }
 ],
 "metadata": {
  "kernelspec": {
   "display_name": "Python 3",
   "language": "python",
   "name": "python3"
  },
  "language_info": {
   "codemirror_mode": {
    "name": "ipython",
    "version": 3
   },
   "file_extension": ".py",
   "mimetype": "text/x-python",
   "name": "python",
   "nbconvert_exporter": "python",
   "pygments_lexer": "ipython3",
   "version": "3.6.15"
  },
  "papermill": {
   "duration": 5.655285,
   "end_time": "2022-05-14T00:46:20.690849",
   "environment_variables": {},
   "exception": null,
   "input_path": "2020-03-21-covid19exp.ipynb",
   "output_path": "2020-03-21-covid19exp.ipynb",
   "parameters": {},
   "start_time": "2022-05-14T00:46:15.035564",
   "version": "2.0.0"
  }
 },
 "nbformat": 4,
 "nbformat_minor": 5
}