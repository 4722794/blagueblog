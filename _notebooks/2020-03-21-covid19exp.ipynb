{
 "cells": [
  {
   "cell_type": "markdown",
   "id": "muslim-click",
   "metadata": {
    "papermill": {
     "duration": 0.041955,
     "end_time": "2021-06-24T12:10:31.826241",
     "exception": false,
     "start_time": "2021-06-24T12:10:31.784286",
     "status": "completed"
    },
    "tags": []
   },
   "source": [
    "# COVID-19 Case Race\n",
    "> A race chart to see rising cases around the world\n",
    "\n",
    "- author: Hargun Oberoi\n",
    "- image: images/covid-overview.png\n",
    "- hide: false\n",
    "- badges: false"
   ]
  },
  {
   "cell_type": "code",
   "execution_count": 1,
   "id": "proof-material",
   "metadata": {
    "execution": {
     "iopub.execute_input": "2021-06-24T12:10:31.913166Z",
     "iopub.status.busy": "2021-06-24T12:10:31.912446Z",
     "iopub.status.idle": "2021-06-24T12:10:32.300533Z",
     "shell.execute_reply": "2021-06-24T12:10:32.299574Z"
    },
    "papermill": {
     "duration": 0.436438,
     "end_time": "2021-06-24T12:10:32.300694",
     "exception": false,
     "start_time": "2021-06-24T12:10:31.864256",
     "status": "completed"
    },
    "tags": []
   },
   "outputs": [],
   "source": [
    "#hide\n",
    "import numpy as np\n",
    "import pandas as pd\n",
    "from jinja2 import Template\n",
    "from IPython.display import HTML"
   ]
  },
  {
   "cell_type": "code",
   "execution_count": 2,
   "id": "developed-terminology",
   "metadata": {
    "execution": {
     "iopub.execute_input": "2021-06-24T12:10:32.386030Z",
     "iopub.status.busy": "2021-06-24T12:10:32.385370Z",
     "iopub.status.idle": "2021-06-24T12:10:32.387253Z",
     "shell.execute_reply": "2021-06-24T12:10:32.387810Z"
    },
    "papermill": {
     "duration": 0.047813,
     "end_time": "2021-06-24T12:10:32.387951",
     "exception": false,
     "start_time": "2021-06-24T12:10:32.340138",
     "status": "completed"
    },
    "tags": []
   },
   "outputs": [],
   "source": [
    "#hide\n",
    "\n",
    "# FETCH\n",
    "base_url = 'https://raw.githubusercontent.com/pratapvardhan/notebooks/master/covid19/'\n",
    "paths = {\n",
    "    'mapping': base_url + 'mapping_countries.csv',\n",
    "    'overview': base_url + 'overview.tpl'\n",
    "}"
   ]
  },
  {
   "cell_type": "code",
   "execution_count": 3,
   "id": "dynamic-saver",
   "metadata": {
    "execution": {
     "iopub.execute_input": "2021-06-24T12:10:32.474226Z",
     "iopub.status.busy": "2021-06-24T12:10:32.471420Z",
     "iopub.status.idle": "2021-06-24T12:10:32.476960Z",
     "shell.execute_reply": "2021-06-24T12:10:32.477534Z"
    },
    "papermill": {
     "duration": 0.052914,
     "end_time": "2021-06-24T12:10:32.477988",
     "exception": false,
     "start_time": "2021-06-24T12:10:32.425074",
     "status": "completed"
    },
    "tags": []
   },
   "outputs": [
    {
     "data": {
      "text/plain": [
       "'https://raw.githubusercontent.com/pratapvardhan/notebooks/master/covid19/mapping_countries.csv'"
      ]
     },
     "execution_count": 3,
     "metadata": {},
     "output_type": "execute_result"
    }
   ],
   "source": [
    "#hide\n",
    "paths['mapping']"
   ]
  },
  {
   "cell_type": "code",
   "execution_count": 4,
   "id": "urban-software",
   "metadata": {
    "execution": {
     "iopub.execute_input": "2021-06-24T12:10:32.557819Z",
     "iopub.status.busy": "2021-06-24T12:10:32.557166Z",
     "iopub.status.idle": "2021-06-24T12:10:32.560153Z",
     "shell.execute_reply": "2021-06-24T12:10:32.559624Z"
    },
    "papermill": {
     "duration": 0.045058,
     "end_time": "2021-06-24T12:10:32.560273",
     "exception": false,
     "start_time": "2021-06-24T12:10:32.515215",
     "status": "completed"
    },
    "tags": []
   },
   "outputs": [],
   "source": [
    "#hide\n",
    "def get_mappings(url):\n",
    "    df = pd.read_csv(url)\n",
    "    return {\n",
    "        'df': df,\n",
    "        'replace.country': dict(df.dropna(subset=['Name']).set_index('Country')['Name']),\n",
    "        'map.continent': dict(df.set_index('Name')['Continent'])\n",
    "    }"
   ]
  },
  {
   "cell_type": "code",
   "execution_count": 5,
   "id": "intimate-machinery",
   "metadata": {
    "execution": {
     "iopub.execute_input": "2021-06-24T12:10:32.641555Z",
     "iopub.status.busy": "2021-06-24T12:10:32.640927Z",
     "iopub.status.idle": "2021-06-24T12:10:32.681699Z",
     "shell.execute_reply": "2021-06-24T12:10:32.682195Z"
    },
    "papermill": {
     "duration": 0.083466,
     "end_time": "2021-06-24T12:10:32.682355",
     "exception": false,
     "start_time": "2021-06-24T12:10:32.598889",
     "status": "completed"
    },
    "tags": []
   },
   "outputs": [],
   "source": [
    "#hide\n",
    "mapping = get_mappings(paths['mapping'])"
   ]
  },
  {
   "cell_type": "code",
   "execution_count": 6,
   "id": "certified-tactics",
   "metadata": {
    "execution": {
     "iopub.execute_input": "2021-06-24T12:10:32.764592Z",
     "iopub.status.busy": "2021-06-24T12:10:32.763906Z",
     "iopub.status.idle": "2021-06-24T12:10:32.767901Z",
     "shell.execute_reply": "2021-06-24T12:10:32.767323Z"
    },
    "papermill": {
     "duration": 0.044928,
     "end_time": "2021-06-24T12:10:32.768018",
     "exception": false,
     "start_time": "2021-06-24T12:10:32.723090",
     "status": "completed"
    },
    "tags": []
   },
   "outputs": [],
   "source": [
    "#hide\n",
    "def get_template(path):\n",
    "    from urllib.parse import urlparse\n",
    "    if bool(urlparse(path).netloc):\n",
    "        from urllib.request import urlopen\n",
    "        return urlopen(path).read().decode('utf8')\n",
    "    return open(path).read()"
   ]
  },
  {
   "cell_type": "code",
   "execution_count": 7,
   "id": "realistic-blast",
   "metadata": {
    "execution": {
     "iopub.execute_input": "2021-06-24T12:10:32.848217Z",
     "iopub.status.busy": "2021-06-24T12:10:32.847607Z",
     "iopub.status.idle": "2021-06-24T12:10:32.850143Z",
     "shell.execute_reply": "2021-06-24T12:10:32.849545Z"
    },
    "papermill": {
     "duration": 0.045361,
     "end_time": "2021-06-24T12:10:32.850288",
     "exception": false,
     "start_time": "2021-06-24T12:10:32.804927",
     "status": "completed"
    },
    "tags": []
   },
   "outputs": [],
   "source": [
    "#hide\n",
    "def get_frame(name):\n",
    "    url = (\n",
    "        'https://raw.githubusercontent.com/CSSEGISandData/COVID-19/master/csse_covid_19_data/'\n",
    "        f'csse_covid_19_time_series/time_series_covid19_{name}_global.csv')\n",
    "    df = pd.read_csv(url)\n",
    "    # rename countries\n",
    "    df['Country/Region'] = df['Country/Region'].replace(mapping['replace.country'])\n",
    "    return df"
   ]
  },
  {
   "cell_type": "code",
   "execution_count": 8,
   "id": "affiliated-characterization",
   "metadata": {
    "execution": {
     "iopub.execute_input": "2021-06-24T12:10:32.929225Z",
     "iopub.status.busy": "2021-06-24T12:10:32.928575Z",
     "iopub.status.idle": "2021-06-24T12:10:32.930488Z",
     "shell.execute_reply": "2021-06-24T12:10:32.931025Z"
    },
    "papermill": {
     "duration": 0.044592,
     "end_time": "2021-06-24T12:10:32.931149",
     "exception": false,
     "start_time": "2021-06-24T12:10:32.886557",
     "status": "completed"
    },
    "tags": []
   },
   "outputs": [],
   "source": [
    "#hide\n",
    "def get_dates(df):\n",
    "    dt_cols = df.columns[~df.columns.isin(['Province/State', 'Country/Region', 'Lat', 'Long'])]\n",
    "    LAST_DATE_I = -1\n",
    "    # sometimes last column may be empty, then go backwards\n",
    "    for i in range(-1, -len(dt_cols), -1):\n",
    "        if not df[dt_cols[i]].fillna(0).eq(0).all():\n",
    "            LAST_DATE_I = i\n",
    "            break\n",
    "    return LAST_DATE_I, dt_cols"
   ]
  },
  {
   "cell_type": "code",
   "execution_count": 9,
   "id": "recent-optimization",
   "metadata": {
    "execution": {
     "iopub.execute_input": "2021-06-24T12:10:33.010107Z",
     "iopub.status.busy": "2021-06-24T12:10:33.009465Z",
     "iopub.status.idle": "2021-06-24T12:10:33.417088Z",
     "shell.execute_reply": "2021-06-24T12:10:33.416187Z"
    },
    "papermill": {
     "duration": 0.448725,
     "end_time": "2021-06-24T12:10:33.417227",
     "exception": false,
     "start_time": "2021-06-24T12:10:32.968502",
     "status": "completed"
    },
    "tags": []
   },
   "outputs": [],
   "source": [
    "#hide\n",
    "COL_REGION = 'Country/Region'\n",
    "# Confirmed, Recovered, Deaths\n",
    "df = get_frame('confirmed')\n",
    "# dft_: timeseries, dfc_: today country agg\n",
    "dft_cases = df\n",
    "dft_deaths = get_frame('deaths')\n",
    "dft_recovered = get_frame('recovered')\n",
    "LAST_DATE_I, dt_cols = get_dates(df)"
   ]
  },
  {
   "cell_type": "code",
   "execution_count": 10,
   "id": "absolute-copper",
   "metadata": {
    "execution": {
     "iopub.execute_input": "2021-06-24T12:10:33.500954Z",
     "iopub.status.busy": "2021-06-24T12:10:33.500289Z",
     "iopub.status.idle": "2021-06-24T12:10:33.502807Z",
     "shell.execute_reply": "2021-06-24T12:10:33.502147Z"
    },
    "papermill": {
     "duration": 0.046433,
     "end_time": "2021-06-24T12:10:33.502934",
     "exception": false,
     "start_time": "2021-06-24T12:10:33.456501",
     "status": "completed"
    },
    "tags": []
   },
   "outputs": [],
   "source": [
    "#hide\n",
    "LAST_DATE_I, dt_cols = get_dates(df)\n",
    "dt_today =dt_cols[LAST_DATE_I]\n",
    "# dt_5day = dt_cols[LAST_DATE_I - 5]\n",
    "dt_yday = dt_cols[LAST_DATE_I - 1]"
   ]
  },
  {
   "cell_type": "code",
   "execution_count": 11,
   "id": "restricted-sheriff",
   "metadata": {
    "execution": {
     "iopub.execute_input": "2021-06-24T12:10:33.587073Z",
     "iopub.status.busy": "2021-06-24T12:10:33.586429Z",
     "iopub.status.idle": "2021-06-24T12:10:33.592395Z",
     "shell.execute_reply": "2021-06-24T12:10:33.592934Z"
    },
    "papermill": {
     "duration": 0.050995,
     "end_time": "2021-06-24T12:10:33.593059",
     "exception": false,
     "start_time": "2021-06-24T12:10:33.542064",
     "status": "completed"
    },
    "tags": []
   },
   "outputs": [],
   "source": [
    "#hide\n",
    "dfc_cases = dft_cases.groupby(COL_REGION)[dt_today].sum()\n",
    "dfc_deaths = dft_deaths.groupby(COL_REGION)[dt_today].sum()\n",
    "# dfp_cases = dft_cases.groupby(COL_REGION)[dt_5day].sum()\n",
    "# dfp_deaths = dft_deaths.groupby(COL_REGION)[dt_5day].sum()\n",
    "dfp_cases = dft_cases.groupby(COL_REGION)[dt_yday].sum()\n",
    "dfp_deaths = dft_deaths.groupby(COL_REGION)[dt_yday].sum()"
   ]
  },
  {
   "cell_type": "code",
   "execution_count": 12,
   "id": "deluxe-hepatitis",
   "metadata": {
    "execution": {
     "iopub.execute_input": "2021-06-24T12:10:33.673783Z",
     "iopub.status.busy": "2021-06-24T12:10:33.673144Z",
     "iopub.status.idle": "2021-06-24T12:10:33.677917Z",
     "shell.execute_reply": "2021-06-24T12:10:33.678529Z"
    },
    "papermill": {
     "duration": 0.048724,
     "end_time": "2021-06-24T12:10:33.678673",
     "exception": false,
     "start_time": "2021-06-24T12:10:33.629949",
     "status": "completed"
    },
    "tags": []
   },
   "outputs": [],
   "source": [
    "#hide\n",
    "df_table = (pd.DataFrame(dict(Cases = dfc_cases, Deaths = dfc_deaths, PCases = dfp_cases, PDeaths = dfp_deaths))\n",
    "            .sort_values(by = ['Cases','Deaths'], ascending = [False, False])\n",
    "            .reset_index())"
   ]
  },
  {
   "cell_type": "code",
   "execution_count": 13,
   "id": "educational-chancellor",
   "metadata": {
    "execution": {
     "iopub.execute_input": "2021-06-24T12:10:33.769007Z",
     "iopub.status.busy": "2021-06-24T12:10:33.768348Z",
     "iopub.status.idle": "2021-06-24T12:10:33.781894Z",
     "shell.execute_reply": "2021-06-24T12:10:33.781322Z"
    },
    "papermill": {
     "duration": 0.065659,
     "end_time": "2021-06-24T12:10:33.782018",
     "exception": false,
     "start_time": "2021-06-24T12:10:33.716359",
     "status": "completed"
    },
    "tags": []
   },
   "outputs": [
    {
     "data": {
      "text/html": [
       "<div>\n",
       "<style scoped>\n",
       "    .dataframe tbody tr th:only-of-type {\n",
       "        vertical-align: middle;\n",
       "    }\n",
       "\n",
       "    .dataframe tbody tr th {\n",
       "        vertical-align: top;\n",
       "    }\n",
       "\n",
       "    .dataframe thead th {\n",
       "        text-align: right;\n",
       "    }\n",
       "</style>\n",
       "<table border=\"1\" class=\"dataframe\">\n",
       "  <thead>\n",
       "    <tr style=\"text-align: right;\">\n",
       "      <th></th>\n",
       "      <th>Country/Region</th>\n",
       "      <th>Cases</th>\n",
       "      <th>Deaths</th>\n",
       "      <th>PCases</th>\n",
       "      <th>PDeaths</th>\n",
       "      <th>Cases (+)</th>\n",
       "      <th>Deaths (+)</th>\n",
       "      <th>Fatality Rate</th>\n",
       "      <th>Continent</th>\n",
       "    </tr>\n",
       "  </thead>\n",
       "  <tbody>\n",
       "    <tr>\n",
       "      <th>0</th>\n",
       "      <td>US</td>\n",
       "      <td>33577651</td>\n",
       "      <td>602837</td>\n",
       "      <td>33565215</td>\n",
       "      <td>602462</td>\n",
       "      <td>12436</td>\n",
       "      <td>375</td>\n",
       "      <td>1.80</td>\n",
       "      <td>North America</td>\n",
       "    </tr>\n",
       "    <tr>\n",
       "      <th>1</th>\n",
       "      <td>India</td>\n",
       "      <td>30082778</td>\n",
       "      <td>391981</td>\n",
       "      <td>30028709</td>\n",
       "      <td>390660</td>\n",
       "      <td>54069</td>\n",
       "      <td>1321</td>\n",
       "      <td>1.30</td>\n",
       "      <td>Asia</td>\n",
       "    </tr>\n",
       "    <tr>\n",
       "      <th>2</th>\n",
       "      <td>Brazil</td>\n",
       "      <td>18169881</td>\n",
       "      <td>507109</td>\n",
       "      <td>18054653</td>\n",
       "      <td>504717</td>\n",
       "      <td>115228</td>\n",
       "      <td>2392</td>\n",
       "      <td>2.79</td>\n",
       "      <td>South America</td>\n",
       "    </tr>\n",
       "    <tr>\n",
       "      <th>3</th>\n",
       "      <td>France</td>\n",
       "      <td>5824127</td>\n",
       "      <td>111024</td>\n",
       "      <td>5821797</td>\n",
       "      <td>110991</td>\n",
       "      <td>2330</td>\n",
       "      <td>33</td>\n",
       "      <td>1.91</td>\n",
       "      <td>Europe</td>\n",
       "    </tr>\n",
       "    <tr>\n",
       "      <th>4</th>\n",
       "      <td>Turkey</td>\n",
       "      <td>5387545</td>\n",
       "      <td>49358</td>\n",
       "      <td>5381736</td>\n",
       "      <td>49293</td>\n",
       "      <td>5809</td>\n",
       "      <td>65</td>\n",
       "      <td>0.92</td>\n",
       "      <td>Asia</td>\n",
       "    </tr>\n",
       "  </tbody>\n",
       "</table>\n",
       "</div>"
      ],
      "text/plain": [
       "  Country/Region     Cases  Deaths    PCases  PDeaths  Cases (+)  Deaths (+)  \\\n",
       "0             US  33577651  602837  33565215   602462      12436         375   \n",
       "1          India  30082778  391981  30028709   390660      54069        1321   \n",
       "2         Brazil  18169881  507109  18054653   504717     115228        2392   \n",
       "3         France   5824127  111024   5821797   110991       2330          33   \n",
       "4         Turkey   5387545   49358   5381736    49293       5809          65   \n",
       "\n",
       "   Fatality Rate      Continent  \n",
       "0           1.80  North America  \n",
       "1           1.30           Asia  \n",
       "2           2.79  South America  \n",
       "3           1.91         Europe  \n",
       "4           0.92           Asia  "
      ]
     },
     "execution_count": 13,
     "metadata": {},
     "output_type": "execute_result"
    }
   ],
   "source": [
    "#hide\n",
    "for c in 'Cases, Deaths'.split(', '):\n",
    "    df_table[f'{c} (+)'] = (df_table[c] - df_table[f'P{c}']).clip(0)\n",
    "    #Clip ça veut dire, les chiffres negatif sont interdit\n",
    "df_table['Fatality Rate'] = (100* df_table['Deaths']/ df_table['Cases']).round(2)\n",
    "df_table['Continent'] = df_table['Country/Region'].map(mapping['map.continent'])\n",
    "df_table.head(5)"
   ]
  },
  {
   "cell_type": "code",
   "execution_count": 14,
   "id": "aboriginal-bulgaria",
   "metadata": {
    "execution": {
     "iopub.execute_input": "2021-06-24T12:10:33.861770Z",
     "iopub.status.busy": "2021-06-24T12:10:33.861190Z",
     "iopub.status.idle": "2021-06-24T12:10:33.863910Z",
     "shell.execute_reply": "2021-06-24T12:10:33.864458Z"
    },
    "papermill": {
     "duration": 0.044833,
     "end_time": "2021-06-24T12:10:33.864578",
     "exception": false,
     "start_time": "2021-06-24T12:10:33.819745",
     "status": "completed"
    },
    "tags": []
   },
   "outputs": [],
   "source": [
    "#hide\n",
    "#delete problematic countries from table\n",
    "df_table = df_table[~df_table['Country/Region'].isin(['Cape Verde', 'Cruise Ship', 'Kosovo'])]"
   ]
  },
  {
   "cell_type": "code",
   "execution_count": 15,
   "id": "fantastic-effect",
   "metadata": {
    "execution": {
     "iopub.execute_input": "2021-06-24T12:10:33.949377Z",
     "iopub.status.busy": "2021-06-24T12:10:33.948614Z",
     "iopub.status.idle": "2021-06-24T12:10:33.971763Z",
     "shell.execute_reply": "2021-06-24T12:10:33.971194Z"
    },
    "papermill": {
     "duration": 0.06972,
     "end_time": "2021-06-24T12:10:33.971915",
     "exception": false,
     "start_time": "2021-06-24T12:10:33.902195",
     "status": "completed"
    },
    "tags": []
   },
   "outputs": [
    {
     "data": {
      "text/html": [
       "<div>\n",
       "<style scoped>\n",
       "    .dataframe tbody tr th:only-of-type {\n",
       "        vertical-align: middle;\n",
       "    }\n",
       "\n",
       "    .dataframe tbody tr th {\n",
       "        vertical-align: top;\n",
       "    }\n",
       "\n",
       "    .dataframe thead th {\n",
       "        text-align: right;\n",
       "    }\n",
       "</style>\n",
       "<table border=\"1\" class=\"dataframe\">\n",
       "  <thead>\n",
       "    <tr style=\"text-align: right;\">\n",
       "      <th></th>\n",
       "      <th>Country/Region</th>\n",
       "      <th>Cases</th>\n",
       "      <th>Deaths</th>\n",
       "      <th>PCases</th>\n",
       "      <th>PDeaths</th>\n",
       "      <th>Cases (+)</th>\n",
       "      <th>Deaths (+)</th>\n",
       "      <th>Fatality Rate</th>\n",
       "      <th>Continent</th>\n",
       "    </tr>\n",
       "  </thead>\n",
       "  <tbody>\n",
       "    <tr>\n",
       "      <th>0</th>\n",
       "      <td>US</td>\n",
       "      <td>33577651</td>\n",
       "      <td>602837</td>\n",
       "      <td>33565215</td>\n",
       "      <td>602462</td>\n",
       "      <td>12436</td>\n",
       "      <td>375</td>\n",
       "      <td>1.8</td>\n",
       "      <td>North America</td>\n",
       "    </tr>\n",
       "    <tr>\n",
       "      <th>1</th>\n",
       "      <td>India</td>\n",
       "      <td>30082778</td>\n",
       "      <td>391981</td>\n",
       "      <td>30028709</td>\n",
       "      <td>390660</td>\n",
       "      <td>54069</td>\n",
       "      <td>1321</td>\n",
       "      <td>1.3</td>\n",
       "      <td>Asia</td>\n",
       "    </tr>\n",
       "    <tr>\n",
       "      <th>2</th>\n",
       "      <td>Brazil</td>\n",
       "      <td>18169881</td>\n",
       "      <td>507109</td>\n",
       "      <td>18054653</td>\n",
       "      <td>504717</td>\n",
       "      <td>115228</td>\n",
       "      <td>2392</td>\n",
       "      <td>2.8</td>\n",
       "      <td>South America</td>\n",
       "    </tr>\n",
       "    <tr>\n",
       "      <th>3</th>\n",
       "      <td>France</td>\n",
       "      <td>5824127</td>\n",
       "      <td>111024</td>\n",
       "      <td>5821797</td>\n",
       "      <td>110991</td>\n",
       "      <td>2330</td>\n",
       "      <td>33</td>\n",
       "      <td>1.9</td>\n",
       "      <td>Europe</td>\n",
       "    </tr>\n",
       "    <tr>\n",
       "      <th>4</th>\n",
       "      <td>Turkey</td>\n",
       "      <td>5387545</td>\n",
       "      <td>49358</td>\n",
       "      <td>5381736</td>\n",
       "      <td>49293</td>\n",
       "      <td>5809</td>\n",
       "      <td>65</td>\n",
       "      <td>0.9</td>\n",
       "      <td>Asia</td>\n",
       "    </tr>\n",
       "  </tbody>\n",
       "</table>\n",
       "</div>"
      ],
      "text/plain": [
       "  Country/Region     Cases  Deaths    PCases  PDeaths  Cases (+)  Deaths (+)  \\\n",
       "0             US  33577651  602837  33565215   602462      12436         375   \n",
       "1          India  30082778  391981  30028709   390660      54069        1321   \n",
       "2         Brazil  18169881  507109  18054653   504717     115228        2392   \n",
       "3         France   5824127  111024   5821797   110991       2330          33   \n",
       "4         Turkey   5387545   49358   5381736    49293       5809          65   \n",
       "\n",
       "   Fatality Rate      Continent  \n",
       "0            1.8  North America  \n",
       "1            1.3           Asia  \n",
       "2            2.8  South America  \n",
       "3            1.9         Europe  \n",
       "4            0.9           Asia  "
      ]
     },
     "execution_count": 15,
     "metadata": {},
     "output_type": "execute_result"
    }
   ],
   "source": [
    "#hide\n",
    "df_table = (pd.DataFrame(dict(Cases=dfc_cases, Deaths=dfc_deaths, PCases=dfp_cases, PDeaths=dfp_deaths))\n",
    "             .sort_values(by=['Cases', 'Deaths'], ascending=[False, False])\n",
    "             .reset_index())\n",
    "df_table.rename(columns={'index': 'Country/Region'}, inplace=True)\n",
    "for c in 'Cases, Deaths'.split(', '):\n",
    "    df_table[f'{c} (+)'] = (df_table[c] - df_table[f'P{c}']).clip(0)  # DATA BUG\n",
    "df_table['Fatality Rate'] = (100 * df_table['Deaths'] / df_table['Cases']).round(1)\n",
    "df_table['Continent'] = df_table['Country/Region'].map(mapping['map.continent'])\n",
    "df_table.head(5)"
   ]
  },
  {
   "cell_type": "code",
   "execution_count": 16,
   "id": "fewer-occasion",
   "metadata": {
    "execution": {
     "iopub.execute_input": "2021-06-24T12:10:34.056815Z",
     "iopub.status.busy": "2021-06-24T12:10:34.056166Z",
     "iopub.status.idle": "2021-06-24T12:10:34.059081Z",
     "shell.execute_reply": "2021-06-24T12:10:34.059636Z"
    },
    "papermill": {
     "duration": 0.049379,
     "end_time": "2021-06-24T12:10:34.060262",
     "exception": false,
     "start_time": "2021-06-24T12:10:34.010883",
     "status": "completed"
    },
    "tags": []
   },
   "outputs": [],
   "source": [
    "#hide\n",
    "#delete problematic countries from table\n",
    "df_table = df_table[~df_table['Country/Region'].isin(['Cape Verde', 'Cruise Ship', 'Kosovo'])]"
   ]
  },
  {
   "cell_type": "code",
   "execution_count": 17,
   "id": "related-center",
   "metadata": {
    "execution": {
     "iopub.execute_input": "2021-06-24T12:10:34.161898Z",
     "iopub.status.busy": "2021-06-24T12:10:34.161220Z",
     "iopub.status.idle": "2021-06-24T12:10:34.162662Z",
     "shell.execute_reply": "2021-06-24T12:10:34.163260Z"
    },
    "papermill": {
     "duration": 0.06351,
     "end_time": "2021-06-24T12:10:34.163407",
     "exception": false,
     "start_time": "2021-06-24T12:10:34.099897",
     "status": "completed"
    },
    "tags": []
   },
   "outputs": [],
   "source": [
    "#hide\n",
    "metrics = [df_table.columns[index] for index in [1,2,5,6]]\n",
    "# s_china = df_table[df_table['Country/Region'].eq('China')][metrics].sum().add_prefix('China ')\n",
    "s_us = df_table[df_table['Country/Region'].eq('US')][metrics].sum().add_prefix('US ')\n",
    "s_eu = df_table[df_table['Continent'].eq('Europe')][metrics].sum().add_prefix('EU ')\n",
    "s_ind = df_table[df_table['Country/Region'].eq('India')][metrics].sum().add_prefix('India ')\n",
    "summary = {'updated': pd.to_datetime(dt_today), 'since': pd.to_datetime(dt_yday)}\n",
    "summary = {'updated': pd.to_datetime(dt_today), 'since': pd.to_datetime(dt_yday)}\n",
    "summary = {**summary, **df_table[metrics].sum(), **s_ind, **s_us, **s_eu}"
   ]
  },
  {
   "cell_type": "code",
   "execution_count": 18,
   "id": "engaging-syndrome",
   "metadata": {
    "execution": {
     "iopub.execute_input": "2021-06-24T12:10:34.248741Z",
     "iopub.status.busy": "2021-06-24T12:10:34.248093Z",
     "iopub.status.idle": "2021-06-24T12:10:34.267133Z",
     "shell.execute_reply": "2021-06-24T12:10:34.266265Z"
    },
    "papermill": {
     "duration": 0.064417,
     "end_time": "2021-06-24T12:10:34.267308",
     "exception": false,
     "start_time": "2021-06-24T12:10:34.202891",
     "status": "completed"
    },
    "tags": []
   },
   "outputs": [],
   "source": [
    "#hide\n",
    "dft_ct_new_cases = dft_cases.groupby(COL_REGION)[dt_cols].sum().diff(axis=1).fillna(0).astype(int)"
   ]
  },
  {
   "cell_type": "code",
   "execution_count": 19,
   "id": "neutral-assignment",
   "metadata": {
    "execution": {
     "iopub.execute_input": "2021-06-24T12:10:34.354644Z",
     "iopub.status.busy": "2021-06-24T12:10:34.353955Z",
     "iopub.status.idle": "2021-06-24T12:10:34.355816Z",
     "shell.execute_reply": "2021-06-24T12:10:34.356318Z"
    },
    "papermill": {
     "duration": 0.049328,
     "end_time": "2021-06-24T12:10:34.356476",
     "exception": false,
     "start_time": "2021-06-24T12:10:34.307148",
     "status": "completed"
    },
    "tags": []
   },
   "outputs": [],
   "source": [
    "#hide\n",
    "everydaycases = dft_ct_new_cases.cumsum(axis=1)"
   ]
  },
  {
   "cell_type": "code",
   "execution_count": 20,
   "id": "parliamentary-calgary",
   "metadata": {
    "execution": {
     "iopub.execute_input": "2021-06-24T12:10:34.446986Z",
     "iopub.status.busy": "2021-06-24T12:10:34.446276Z",
     "iopub.status.idle": "2021-06-24T12:10:35.050174Z",
     "shell.execute_reply": "2021-06-24T12:10:35.050741Z"
    },
    "papermill": {
     "duration": 0.651252,
     "end_time": "2021-06-24T12:10:35.050918",
     "exception": false,
     "start_time": "2021-06-24T12:10:34.399666",
     "status": "completed"
    },
    "tags": []
   },
   "outputs": [],
   "source": [
    "#hide\n",
    "import pandas as pd\n",
    "import matplotlib.pyplot as plt\n",
    "import matplotlib.ticker as ticker\n",
    "import matplotlib.animation as animation\n",
    "from IPython.display import HTML"
   ]
  },
  {
   "cell_type": "code",
   "execution_count": 21,
   "id": "lasting-extraction",
   "metadata": {
    "execution": {
     "iopub.execute_input": "2021-06-24T12:10:35.138182Z",
     "iopub.status.busy": "2021-06-24T12:10:35.137521Z",
     "iopub.status.idle": "2021-06-24T12:10:35.144900Z",
     "shell.execute_reply": "2021-06-24T12:10:35.144307Z"
    },
    "papermill": {
     "duration": 0.056016,
     "end_time": "2021-06-24T12:10:35.145061",
     "exception": false,
     "start_time": "2021-06-24T12:10:35.089045",
     "status": "completed"
    },
    "tags": []
   },
   "outputs": [],
   "source": [
    "#hide\n",
    "t = everydaycases.stack()"
   ]
  },
  {
   "cell_type": "code",
   "execution_count": 22,
   "id": "premier-sleeve",
   "metadata": {
    "execution": {
     "iopub.execute_input": "2021-06-24T12:10:35.230771Z",
     "iopub.status.busy": "2021-06-24T12:10:35.230095Z",
     "iopub.status.idle": "2021-06-24T12:10:35.237758Z",
     "shell.execute_reply": "2021-06-24T12:10:35.238376Z"
    },
    "papermill": {
     "duration": 0.053775,
     "end_time": "2021-06-24T12:10:35.238561",
     "exception": false,
     "start_time": "2021-06-24T12:10:35.184786",
     "status": "completed"
    },
    "tags": []
   },
   "outputs": [],
   "source": [
    "#hide\n",
    "g = t.reset_index(['Country/Region'])"
   ]
  },
  {
   "cell_type": "code",
   "execution_count": 23,
   "id": "distributed-pittsburgh",
   "metadata": {
    "execution": {
     "iopub.execute_input": "2021-06-24T12:10:35.322288Z",
     "iopub.status.busy": "2021-06-24T12:10:35.321650Z",
     "iopub.status.idle": "2021-06-24T12:10:35.324412Z",
     "shell.execute_reply": "2021-06-24T12:10:35.323820Z"
    },
    "papermill": {
     "duration": 0.046474,
     "end_time": "2021-06-24T12:10:35.324558",
     "exception": false,
     "start_time": "2021-06-24T12:10:35.278084",
     "status": "completed"
    },
    "tags": []
   },
   "outputs": [],
   "source": [
    "#hide\n",
    "g.index.name = 'date'"
   ]
  },
  {
   "cell_type": "code",
   "execution_count": 24,
   "id": "naked-donor",
   "metadata": {
    "execution": {
     "iopub.execute_input": "2021-06-24T12:10:35.405860Z",
     "iopub.status.busy": "2021-06-24T12:10:35.405220Z",
     "iopub.status.idle": "2021-06-24T12:10:35.407124Z",
     "shell.execute_reply": "2021-06-24T12:10:35.407650Z"
    },
    "papermill": {
     "duration": 0.043804,
     "end_time": "2021-06-24T12:10:35.407796",
     "exception": false,
     "start_time": "2021-06-24T12:10:35.363992",
     "status": "completed"
    },
    "tags": []
   },
   "outputs": [],
   "source": [
    "# #hide\n",
    "# g = g.reset_index(['date'])"
   ]
  },
  {
   "cell_type": "code",
   "execution_count": 25,
   "id": "incomplete-mustang",
   "metadata": {
    "execution": {
     "iopub.execute_input": "2021-06-24T12:10:35.493739Z",
     "iopub.status.busy": "2021-06-24T12:10:35.493107Z",
     "iopub.status.idle": "2021-06-24T12:10:35.494968Z",
     "shell.execute_reply": "2021-06-24T12:10:35.495432Z"
    },
    "papermill": {
     "duration": 0.048494,
     "end_time": "2021-06-24T12:10:35.495575",
     "exception": false,
     "start_time": "2021-06-24T12:10:35.447081",
     "status": "completed"
    },
    "tags": []
   },
   "outputs": [],
   "source": [
    "#hide\n",
    "# g.head()"
   ]
  },
  {
   "cell_type": "code",
   "execution_count": 26,
   "id": "specific-kruger",
   "metadata": {
    "execution": {
     "iopub.execute_input": "2021-06-24T12:10:35.585711Z",
     "iopub.status.busy": "2021-06-24T12:10:35.585057Z",
     "iopub.status.idle": "2021-06-24T12:10:35.586957Z",
     "shell.execute_reply": "2021-06-24T12:10:35.587515Z"
    },
    "papermill": {
     "duration": 0.047899,
     "end_time": "2021-06-24T12:10:35.587685",
     "exception": false,
     "start_time": "2021-06-24T12:10:35.539786",
     "status": "completed"
    },
    "tags": []
   },
   "outputs": [],
   "source": [
    "#hide\n",
    "# g.columns = ['date','country','cases']"
   ]
  },
  {
   "cell_type": "code",
   "execution_count": 27,
   "id": "tender-conversion",
   "metadata": {
    "execution": {
     "iopub.execute_input": "2021-06-24T12:10:35.671218Z",
     "iopub.status.busy": "2021-06-24T12:10:35.670573Z",
     "iopub.status.idle": "2021-06-24T12:10:35.672914Z",
     "shell.execute_reply": "2021-06-24T12:10:35.672270Z"
    },
    "papermill": {
     "duration": 0.045026,
     "end_time": "2021-06-24T12:10:35.673058",
     "exception": false,
     "start_time": "2021-06-24T12:10:35.628032",
     "status": "completed"
    },
    "tags": []
   },
   "outputs": [],
   "source": [
    "#hide\n",
    "# g['continent'] = g.country"
   ]
  },
  {
   "cell_type": "code",
   "execution_count": 28,
   "id": "substantial-wilderness",
   "metadata": {
    "execution": {
     "iopub.execute_input": "2021-06-24T12:10:35.754768Z",
     "iopub.status.busy": "2021-06-24T12:10:35.754140Z",
     "iopub.status.idle": "2021-06-24T12:10:35.756238Z",
     "shell.execute_reply": "2021-06-24T12:10:35.756823Z"
    },
    "papermill": {
     "duration": 0.044561,
     "end_time": "2021-06-24T12:10:35.756978",
     "exception": false,
     "start_time": "2021-06-24T12:10:35.712417",
     "status": "completed"
    },
    "tags": []
   },
   "outputs": [],
   "source": [
    "#hide\n",
    "# cols = list(g.columns.values)"
   ]
  },
  {
   "cell_type": "code",
   "execution_count": 29,
   "id": "solved-farming",
   "metadata": {
    "execution": {
     "iopub.execute_input": "2021-06-24T12:10:35.836001Z",
     "iopub.status.busy": "2021-06-24T12:10:35.835340Z",
     "iopub.status.idle": "2021-06-24T12:10:35.837696Z",
     "shell.execute_reply": "2021-06-24T12:10:35.837082Z"
    },
    "papermill": {
     "duration": 0.044691,
     "end_time": "2021-06-24T12:10:35.837819",
     "exception": false,
     "start_time": "2021-06-24T12:10:35.793128",
     "status": "completed"
    },
    "tags": []
   },
   "outputs": [],
   "source": [
    "#hide\n",
    "# cols.insert(0, cols.pop())"
   ]
  },
  {
   "cell_type": "code",
   "execution_count": 30,
   "id": "executed-adoption",
   "metadata": {
    "execution": {
     "iopub.execute_input": "2021-06-24T12:10:35.918399Z",
     "iopub.status.busy": "2021-06-24T12:10:35.917747Z",
     "iopub.status.idle": "2021-06-24T12:10:35.919636Z",
     "shell.execute_reply": "2021-06-24T12:10:35.920340Z"
    },
    "papermill": {
     "duration": 0.043849,
     "end_time": "2021-06-24T12:10:35.920475",
     "exception": false,
     "start_time": "2021-06-24T12:10:35.876626",
     "status": "completed"
    },
    "tags": []
   },
   "outputs": [],
   "source": [
    "#hide\n",
    "# g = g[cols]"
   ]
  },
  {
   "cell_type": "code",
   "execution_count": 31,
   "id": "subject-dublin",
   "metadata": {
    "execution": {
     "iopub.execute_input": "2021-06-24T12:10:36.008301Z",
     "iopub.status.busy": "2021-06-24T12:10:36.007654Z",
     "iopub.status.idle": "2021-06-24T12:10:36.010012Z",
     "shell.execute_reply": "2021-06-24T12:10:36.009347Z"
    },
    "papermill": {
     "duration": 0.048165,
     "end_time": "2021-06-24T12:10:36.010131",
     "exception": false,
     "start_time": "2021-06-24T12:10:35.961966",
     "status": "completed"
    },
    "tags": []
   },
   "outputs": [],
   "source": [
    "#hide\n",
    "# g['continent'] = g['continent'].map(mapping['map.continent'])"
   ]
  },
  {
   "cell_type": "code",
   "execution_count": 32,
   "id": "freelance-scout",
   "metadata": {
    "execution": {
     "iopub.execute_input": "2021-06-24T12:10:36.091185Z",
     "iopub.status.busy": "2021-06-24T12:10:36.090512Z",
     "iopub.status.idle": "2021-06-24T12:10:36.092658Z",
     "shell.execute_reply": "2021-06-24T12:10:36.093265Z"
    },
    "papermill": {
     "duration": 0.04502,
     "end_time": "2021-06-24T12:10:36.093392",
     "exception": false,
     "start_time": "2021-06-24T12:10:36.048372",
     "status": "completed"
    },
    "tags": []
   },
   "outputs": [],
   "source": [
    "#hide\n",
    "# g.head()"
   ]
  },
  {
   "cell_type": "code",
   "execution_count": 33,
   "id": "limited-engine",
   "metadata": {
    "execution": {
     "iopub.execute_input": "2021-06-24T12:10:36.178504Z",
     "iopub.status.busy": "2021-06-24T12:10:36.177829Z",
     "iopub.status.idle": "2021-06-24T12:10:36.180214Z",
     "shell.execute_reply": "2021-06-24T12:10:36.179587Z"
    },
    "papermill": {
     "duration": 0.046944,
     "end_time": "2021-06-24T12:10:36.180326",
     "exception": false,
     "start_time": "2021-06-24T12:10:36.133382",
     "status": "completed"
    },
    "tags": []
   },
   "outputs": [],
   "source": [
    "# hide\n",
    "# g['date'] = g['date'].astype('datetime64[ns]')"
   ]
  },
  {
   "cell_type": "code",
   "execution_count": 34,
   "id": "sophisticated-supervisor",
   "metadata": {
    "execution": {
     "iopub.execute_input": "2021-06-24T12:10:36.261596Z",
     "iopub.status.busy": "2021-06-24T12:10:36.260981Z",
     "iopub.status.idle": "2021-06-24T12:10:36.263320Z",
     "shell.execute_reply": "2021-06-24T12:10:36.262714Z"
    },
    "papermill": {
     "duration": 0.044869,
     "end_time": "2021-06-24T12:10:36.263433",
     "exception": false,
     "start_time": "2021-06-24T12:10:36.218564",
     "status": "completed"
    },
    "tags": []
   },
   "outputs": [],
   "source": [
    "#hide\n",
    "# g['date'] = g.date.dt.dayofyear"
   ]
  },
  {
   "cell_type": "code",
   "execution_count": 35,
   "id": "inside-dubai",
   "metadata": {
    "execution": {
     "iopub.execute_input": "2021-06-24T12:10:36.345094Z",
     "iopub.status.busy": "2021-06-24T12:10:36.344431Z",
     "iopub.status.idle": "2021-06-24T12:10:36.347244Z",
     "shell.execute_reply": "2021-06-24T12:10:36.346733Z"
    },
    "papermill": {
     "duration": 0.045577,
     "end_time": "2021-06-24T12:10:36.347357",
     "exception": false,
     "start_time": "2021-06-24T12:10:36.301780",
     "status": "completed"
    },
    "tags": []
   },
   "outputs": [],
   "source": [
    "#hide\n",
    "# g = g.rename(columns= {'continent':'group','country':'name','cases':'value'})"
   ]
  },
  {
   "cell_type": "code",
   "execution_count": 36,
   "id": "fleet-motorcycle",
   "metadata": {
    "execution": {
     "iopub.execute_input": "2021-06-24T12:10:36.429085Z",
     "iopub.status.busy": "2021-06-24T12:10:36.428291Z",
     "iopub.status.idle": "2021-06-24T12:10:36.430290Z",
     "shell.execute_reply": "2021-06-24T12:10:36.430790Z"
    },
    "papermill": {
     "duration": 0.044918,
     "end_time": "2021-06-24T12:10:36.430948",
     "exception": false,
     "start_time": "2021-06-24T12:10:36.386030",
     "status": "completed"
    },
    "tags": []
   },
   "outputs": [],
   "source": [
    "#hide\n",
    "# cols = ['name','group','day','value']"
   ]
  },
  {
   "cell_type": "code",
   "execution_count": 37,
   "id": "continued-sleeping",
   "metadata": {
    "execution": {
     "iopub.execute_input": "2021-06-24T12:10:36.514672Z",
     "iopub.status.busy": "2021-06-24T12:10:36.513980Z",
     "iopub.status.idle": "2021-06-24T12:10:36.515778Z",
     "shell.execute_reply": "2021-06-24T12:10:36.516326Z"
    },
    "papermill": {
     "duration": 0.04694,
     "end_time": "2021-06-24T12:10:36.516479",
     "exception": false,
     "start_time": "2021-06-24T12:10:36.469539",
     "status": "completed"
    },
    "tags": []
   },
   "outputs": [],
   "source": [
    "#hide\n",
    "# g.rename(columns= {'date':'day'},inplace = True)"
   ]
  },
  {
   "cell_type": "code",
   "execution_count": 38,
   "id": "major-fight",
   "metadata": {
    "execution": {
     "iopub.execute_input": "2021-06-24T12:10:36.597899Z",
     "iopub.status.busy": "2021-06-24T12:10:36.597243Z",
     "iopub.status.idle": "2021-06-24T12:10:36.599931Z",
     "shell.execute_reply": "2021-06-24T12:10:36.599339Z"
    },
    "papermill": {
     "duration": 0.04534,
     "end_time": "2021-06-24T12:10:36.600064",
     "exception": false,
     "start_time": "2021-06-24T12:10:36.554724",
     "status": "completed"
    },
    "tags": []
   },
   "outputs": [],
   "source": [
    "#hide\n",
    "# g = g[cols]"
   ]
  },
  {
   "cell_type": "code",
   "execution_count": 39,
   "id": "structured-mobile",
   "metadata": {
    "execution": {
     "iopub.execute_input": "2021-06-24T12:10:36.682100Z",
     "iopub.status.busy": "2021-06-24T12:10:36.681399Z",
     "iopub.status.idle": "2021-06-24T12:10:36.683822Z",
     "shell.execute_reply": "2021-06-24T12:10:36.683234Z"
    },
    "papermill": {
     "duration": 0.044073,
     "end_time": "2021-06-24T12:10:36.683962",
     "exception": false,
     "start_time": "2021-06-24T12:10:36.639889",
     "status": "completed"
    },
    "tags": []
   },
   "outputs": [],
   "source": [
    "# #hide\n",
    "# g = g[g.group.notna()]"
   ]
  },
  {
   "cell_type": "code",
   "execution_count": 40,
   "id": "determined-closing",
   "metadata": {
    "execution": {
     "iopub.execute_input": "2021-06-24T12:10:36.770709Z",
     "iopub.status.busy": "2021-06-24T12:10:36.770026Z",
     "iopub.status.idle": "2021-06-24T12:10:36.772911Z",
     "shell.execute_reply": "2021-06-24T12:10:36.772353Z"
    },
    "papermill": {
     "duration": 0.048175,
     "end_time": "2021-06-24T12:10:36.773064",
     "exception": false,
     "start_time": "2021-06-24T12:10:36.724889",
     "status": "completed"
    },
    "tags": []
   },
   "outputs": [],
   "source": [
    "# #hide\n",
    "# colors = dict(zip(\n",
    "#     [\"Oceania\", \"Europe\", \"Asia\", \"South America\", \"Middle East\", \"North America\", \"Africa\"],\n",
    "#     [\"#adb0ff\", \"#ffb3ff\", \"#90d595\", \"#e48381\", \"#aafbff\", \"#f7bb5f\", \"#eafb50\"]\n",
    "# ))\n",
    "# group_lk = g.set_index('name')['group'].to_dict()"
   ]
  },
  {
   "cell_type": "code",
   "execution_count": null,
   "id": "gross-drinking",
   "metadata": {
    "papermill": {
     "duration": 0.041716,
     "end_time": "2021-06-24T12:10:36.855401",
     "exception": false,
     "start_time": "2021-06-24T12:10:36.813685",
     "status": "completed"
    },
    "tags": []
   },
   "outputs": [],
   "source": []
  },
  {
   "cell_type": "code",
   "execution_count": 41,
   "id": "subject-macintosh",
   "metadata": {
    "execution": {
     "iopub.execute_input": "2021-06-24T12:10:36.942264Z",
     "iopub.status.busy": "2021-06-24T12:10:36.941578Z",
     "iopub.status.idle": "2021-06-24T12:10:36.944964Z",
     "shell.execute_reply": "2021-06-24T12:10:36.944270Z"
    },
    "papermill": {
     "duration": 0.048599,
     "end_time": "2021-06-24T12:10:36.945096",
     "exception": false,
     "start_time": "2021-06-24T12:10:36.896497",
     "status": "completed"
    },
    "tags": []
   },
   "outputs": [],
   "source": [
    "# #hide\n",
    "# fig, ax = plt.subplots(figsize=(15, 8))\n",
    "\n",
    "# def draw_barchart(current_day):\n",
    "#     dff = g[g['day'].eq(current_day)].sort_values(by='value', ascending=True).tail(10)\n",
    "#     ax.clear()\n",
    "#     ax.barh(dff['name'], dff['value'], color=[colors[group_lk[x]] for x in dff['name']])\n",
    "#     dx = dff['value'].max() / 200\n",
    "    \n",
    "#     for i, (value, name) in enumerate(zip(dff['value'], dff['name'])):\n",
    "#         ax.text(value-dx, i,     name,           size=14, weight=600, ha='right', va='bottom')\n",
    "#         ax.text(value-dx, i-.25, group_lk[name], size=10, color='#444444', ha='right', va='baseline')\n",
    "#         ax.text(value+dx, i,     f'{value:,.0f}',  size=14, ha='left',  va='center')\n",
    "#     ax.text(1, 0.4, current_day, transform=ax.transAxes, color='#777777', size=46, ha='right', weight=800)\n",
    "#     ax.text(0, 1.06, 'Population (thousands)', transform=ax.transAxes, size=12, color='#777777')\n",
    "#     ax.xaxis.set_major_formatter(ticker.StrMethodFormatter('{x:,.0f}'))\n",
    "#     ax.xaxis.set_ticks_position('top')\n",
    "#     ax.tick_params(axis='x', colors='#777777', labelsize=12)\n",
    "#     ax.set_yticks([])\n",
    "#     ax.margins(0, 0.01)\n",
    "#     ax.grid(which='major', axis='x', linestyle='-')\n",
    "#     ax.set_axisbelow(True)\n",
    "    \n",
    "#     ax.text(0, 1.15, 'Coronavirus',\n",
    "#             transform=ax.transAxes, size=24, weight=600, ha='left', va='top')\n",
    "# #     ax.text(1, 0, 'by @pratapvardhan; credit @jburnmurdoch', transform=ax.transAxes, color='#777777', ha='right',\n",
    "# #             bbox=dict(facecolor='white', alpha=0.8, edgecolor='white'))\n",
    "#     plt.box(False)"
   ]
  },
  {
   "cell_type": "code",
   "execution_count": 42,
   "id": "sexual-wages",
   "metadata": {
    "execution": {
     "iopub.execute_input": "2021-06-24T12:10:37.031150Z",
     "iopub.status.busy": "2021-06-24T12:10:37.030502Z",
     "iopub.status.idle": "2021-06-24T12:10:37.033483Z",
     "shell.execute_reply": "2021-06-24T12:10:37.032780Z"
    },
    "papermill": {
     "duration": 0.04851,
     "end_time": "2021-06-24T12:10:37.033650",
     "exception": false,
     "start_time": "2021-06-24T12:10:36.985140",
     "status": "completed"
    },
    "tags": []
   },
   "outputs": [],
   "source": [
    "# #hide_input\n",
    "# fig, ax = plt.subplots(figsize=(15, 8))\n",
    "# animator = animation.FuncAnimation(fig, draw_barchart, frames=range(g.day.values.min(), g.day.values.max()))\n",
    "# HTML(animator.to_jshtml())\n",
    "# # or use animator.to_html5_video() or animator.save() "
   ]
  },
  {
   "cell_type": "code",
   "execution_count": null,
   "id": "australian-container",
   "metadata": {
    "papermill": {
     "duration": 0.040909,
     "end_time": "2021-06-24T12:10:37.115462",
     "exception": false,
     "start_time": "2021-06-24T12:10:37.074553",
     "status": "completed"
    },
    "tags": []
   },
   "outputs": [],
   "source": []
  },
  {
   "cell_type": "code",
   "execution_count": null,
   "id": "mediterranean-pontiac",
   "metadata": {
    "papermill": {
     "duration": 0.040028,
     "end_time": "2021-06-24T12:10:37.199704",
     "exception": false,
     "start_time": "2021-06-24T12:10:37.159676",
     "status": "completed"
    },
    "tags": []
   },
   "outputs": [],
   "source": []
  },
  {
   "cell_type": "code",
   "execution_count": null,
   "id": "aging-legislature",
   "metadata": {
    "papermill": {
     "duration": 0.037605,
     "end_time": "2021-06-24T12:10:37.278769",
     "exception": false,
     "start_time": "2021-06-24T12:10:37.241164",
     "status": "completed"
    },
    "tags": []
   },
   "outputs": [],
   "source": []
  }
 ],
 "metadata": {
  "kernelspec": {
   "display_name": "Python 3",
   "language": "python",
   "name": "python3"
  },
  "language_info": {
   "codemirror_mode": {
    "name": "ipython",
    "version": 3
   },
   "file_extension": ".py",
   "mimetype": "text/x-python",
   "name": "python",
   "nbconvert_exporter": "python",
   "pygments_lexer": "ipython3",
   "version": "3.6.13"
  },
  "papermill": {
   "duration": 6.957082,
   "end_time": "2021-06-24T12:10:37.623422",
   "environment_variables": {},
   "exception": null,
   "input_path": "2020-03-21-covid19exp.ipynb",
   "output_path": "2020-03-21-covid19exp.ipynb",
   "parameters": {},
   "start_time": "2021-06-24T12:10:30.666340",
   "version": "2.0.0"
  }
 },
 "nbformat": 4,
 "nbformat_minor": 5
}