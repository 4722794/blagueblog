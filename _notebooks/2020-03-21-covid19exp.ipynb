{
 "cells": [
  {
   "cell_type": "markdown",
   "id": "muslim-click",
   "metadata": {
    "papermill": {
     "duration": 0.043192,
     "end_time": "2021-08-26T00:20:29.157275",
     "exception": false,
     "start_time": "2021-08-26T00:20:29.114083",
     "status": "completed"
    },
    "tags": []
   },
   "source": [
    "# COVID-19 Case Race\n",
    "> A race chart to see rising cases around the world\n",
    "\n",
    "- author: Hargun Oberoi\n",
    "- image: images/covid-overview.png\n",
    "- hide: false\n",
    "- badges: false"
   ]
  },
  {
   "cell_type": "code",
   "execution_count": 1,
   "id": "proof-material",
   "metadata": {
    "execution": {
     "iopub.execute_input": "2021-08-26T00:20:29.241654Z",
     "iopub.status.busy": "2021-08-26T00:20:29.241039Z",
     "iopub.status.idle": "2021-08-26T00:20:29.609006Z",
     "shell.execute_reply": "2021-08-26T00:20:29.608398Z"
    },
    "papermill": {
     "duration": 0.415501,
     "end_time": "2021-08-26T00:20:29.609173",
     "exception": false,
     "start_time": "2021-08-26T00:20:29.193672",
     "status": "completed"
    },
    "tags": []
   },
   "outputs": [],
   "source": [
    "#hide\n",
    "import numpy as np\n",
    "import pandas as pd\n",
    "from jinja2 import Template\n",
    "from IPython.display import HTML"
   ]
  },
  {
   "cell_type": "code",
   "execution_count": 2,
   "id": "developed-terminology",
   "metadata": {
    "execution": {
     "iopub.execute_input": "2021-08-26T00:20:29.688051Z",
     "iopub.status.busy": "2021-08-26T00:20:29.687403Z",
     "iopub.status.idle": "2021-08-26T00:20:29.689037Z",
     "shell.execute_reply": "2021-08-26T00:20:29.689508Z"
    },
    "papermill": {
     "duration": 0.043103,
     "end_time": "2021-08-26T00:20:29.689657",
     "exception": false,
     "start_time": "2021-08-26T00:20:29.646554",
     "status": "completed"
    },
    "tags": []
   },
   "outputs": [],
   "source": [
    "#hide\n",
    "\n",
    "# FETCH\n",
    "base_url = 'https://raw.githubusercontent.com/pratapvardhan/notebooks/master/covid19/'\n",
    "paths = {\n",
    "    'mapping': base_url + 'mapping_countries.csv',\n",
    "    'overview': base_url + 'overview.tpl'\n",
    "}"
   ]
  },
  {
   "cell_type": "code",
   "execution_count": 3,
   "id": "dynamic-saver",
   "metadata": {
    "execution": {
     "iopub.execute_input": "2021-08-26T00:20:29.768349Z",
     "iopub.status.busy": "2021-08-26T00:20:29.767736Z",
     "iopub.status.idle": "2021-08-26T00:20:29.770083Z",
     "shell.execute_reply": "2021-08-26T00:20:29.770541Z"
    },
    "papermill": {
     "duration": 0.047687,
     "end_time": "2021-08-26T00:20:29.770674",
     "exception": false,
     "start_time": "2021-08-26T00:20:29.722987",
     "status": "completed"
    },
    "tags": []
   },
   "outputs": [
    {
     "data": {
      "text/plain": [
       "'https://raw.githubusercontent.com/pratapvardhan/notebooks/master/covid19/mapping_countries.csv'"
      ]
     },
     "execution_count": 3,
     "metadata": {},
     "output_type": "execute_result"
    }
   ],
   "source": [
    "#hide\n",
    "paths['mapping']"
   ]
  },
  {
   "cell_type": "code",
   "execution_count": 4,
   "id": "urban-software",
   "metadata": {
    "execution": {
     "iopub.execute_input": "2021-08-26T00:20:29.841667Z",
     "iopub.status.busy": "2021-08-26T00:20:29.841109Z",
     "iopub.status.idle": "2021-08-26T00:20:29.843473Z",
     "shell.execute_reply": "2021-08-26T00:20:29.842982Z"
    },
    "papermill": {
     "duration": 0.04005,
     "end_time": "2021-08-26T00:20:29.843591",
     "exception": false,
     "start_time": "2021-08-26T00:20:29.803541",
     "status": "completed"
    },
    "tags": []
   },
   "outputs": [],
   "source": [
    "#hide\n",
    "def get_mappings(url):\n",
    "    df = pd.read_csv(url)\n",
    "    return {\n",
    "        'df': df,\n",
    "        'replace.country': dict(df.dropna(subset=['Name']).set_index('Country')['Name']),\n",
    "        'map.continent': dict(df.set_index('Name')['Continent'])\n",
    "    }"
   ]
  },
  {
   "cell_type": "code",
   "execution_count": 5,
   "id": "intimate-machinery",
   "metadata": {
    "execution": {
     "iopub.execute_input": "2021-08-26T00:20:29.914915Z",
     "iopub.status.busy": "2021-08-26T00:20:29.914306Z",
     "iopub.status.idle": "2021-08-26T00:20:29.946243Z",
     "shell.execute_reply": "2021-08-26T00:20:29.945108Z"
    },
    "papermill": {
     "duration": 0.0698,
     "end_time": "2021-08-26T00:20:29.946393",
     "exception": false,
     "start_time": "2021-08-26T00:20:29.876593",
     "status": "completed"
    },
    "tags": []
   },
   "outputs": [],
   "source": [
    "#hide\n",
    "mapping = get_mappings(paths['mapping'])"
   ]
  },
  {
   "cell_type": "code",
   "execution_count": 6,
   "id": "certified-tactics",
   "metadata": {
    "execution": {
     "iopub.execute_input": "2021-08-26T00:20:30.019503Z",
     "iopub.status.busy": "2021-08-26T00:20:30.018867Z",
     "iopub.status.idle": "2021-08-26T00:20:30.021278Z",
     "shell.execute_reply": "2021-08-26T00:20:30.021752Z"
    },
    "papermill": {
     "duration": 0.041968,
     "end_time": "2021-08-26T00:20:30.021901",
     "exception": false,
     "start_time": "2021-08-26T00:20:29.979933",
     "status": "completed"
    },
    "tags": []
   },
   "outputs": [],
   "source": [
    "#hide\n",
    "def get_template(path):\n",
    "    from urllib.parse import urlparse\n",
    "    if bool(urlparse(path).netloc):\n",
    "        from urllib.request import urlopen\n",
    "        return urlopen(path).read().decode('utf8')\n",
    "    return open(path).read()"
   ]
  },
  {
   "cell_type": "code",
   "execution_count": 7,
   "id": "realistic-blast",
   "metadata": {
    "execution": {
     "iopub.execute_input": "2021-08-26T00:20:30.095660Z",
     "iopub.status.busy": "2021-08-26T00:20:30.095027Z",
     "iopub.status.idle": "2021-08-26T00:20:30.096760Z",
     "shell.execute_reply": "2021-08-26T00:20:30.097310Z"
    },
    "papermill": {
     "duration": 0.041835,
     "end_time": "2021-08-26T00:20:30.097453",
     "exception": false,
     "start_time": "2021-08-26T00:20:30.055618",
     "status": "completed"
    },
    "tags": []
   },
   "outputs": [],
   "source": [
    "#hide\n",
    "def get_frame(name):\n",
    "    url = (\n",
    "        'https://raw.githubusercontent.com/CSSEGISandData/COVID-19/master/csse_covid_19_data/'\n",
    "        f'csse_covid_19_time_series/time_series_covid19_{name}_global.csv')\n",
    "    df = pd.read_csv(url)\n",
    "    # rename countries\n",
    "    df['Country/Region'] = df['Country/Region'].replace(mapping['replace.country'])\n",
    "    return df"
   ]
  },
  {
   "cell_type": "code",
   "execution_count": 8,
   "id": "affiliated-characterization",
   "metadata": {
    "execution": {
     "iopub.execute_input": "2021-08-26T00:20:30.170412Z",
     "iopub.status.busy": "2021-08-26T00:20:30.169810Z",
     "iopub.status.idle": "2021-08-26T00:20:30.171566Z",
     "shell.execute_reply": "2021-08-26T00:20:30.172014Z"
    },
    "papermill": {
     "duration": 0.041284,
     "end_time": "2021-08-26T00:20:30.172162",
     "exception": false,
     "start_time": "2021-08-26T00:20:30.130878",
     "status": "completed"
    },
    "tags": []
   },
   "outputs": [],
   "source": [
    "#hide\n",
    "def get_dates(df):\n",
    "    dt_cols = df.columns[~df.columns.isin(['Province/State', 'Country/Region', 'Lat', 'Long'])]\n",
    "    LAST_DATE_I = -1\n",
    "    # sometimes last column may be empty, then go backwards\n",
    "    for i in range(-1, -len(dt_cols), -1):\n",
    "        if not df[dt_cols[i]].fillna(0).eq(0).all():\n",
    "            LAST_DATE_I = i\n",
    "            break\n",
    "    return LAST_DATE_I, dt_cols"
   ]
  },
  {
   "cell_type": "code",
   "execution_count": 9,
   "id": "recent-optimization",
   "metadata": {
    "execution": {
     "iopub.execute_input": "2021-08-26T00:20:30.245981Z",
     "iopub.status.busy": "2021-08-26T00:20:30.245350Z",
     "iopub.status.idle": "2021-08-26T00:20:30.548373Z",
     "shell.execute_reply": "2021-08-26T00:20:30.547718Z"
    },
    "papermill": {
     "duration": 0.342304,
     "end_time": "2021-08-26T00:20:30.548506",
     "exception": false,
     "start_time": "2021-08-26T00:20:30.206202",
     "status": "completed"
    },
    "tags": []
   },
   "outputs": [],
   "source": [
    "#hide\n",
    "COL_REGION = 'Country/Region'\n",
    "# Confirmed, Recovered, Deaths\n",
    "df = get_frame('confirmed')\n",
    "# dft_: timeseries, dfc_: today country agg\n",
    "dft_cases = df\n",
    "dft_deaths = get_frame('deaths')\n",
    "dft_recovered = get_frame('recovered')\n",
    "LAST_DATE_I, dt_cols = get_dates(df)"
   ]
  },
  {
   "cell_type": "code",
   "execution_count": 10,
   "id": "absolute-copper",
   "metadata": {
    "execution": {
     "iopub.execute_input": "2021-08-26T00:20:30.619927Z",
     "iopub.status.busy": "2021-08-26T00:20:30.619296Z",
     "iopub.status.idle": "2021-08-26T00:20:30.621544Z",
     "shell.execute_reply": "2021-08-26T00:20:30.621053Z"
    },
    "papermill": {
     "duration": 0.040817,
     "end_time": "2021-08-26T00:20:30.621667",
     "exception": false,
     "start_time": "2021-08-26T00:20:30.580850",
     "status": "completed"
    },
    "tags": []
   },
   "outputs": [],
   "source": [
    "#hide\n",
    "LAST_DATE_I, dt_cols = get_dates(df)\n",
    "dt_today =dt_cols[LAST_DATE_I]\n",
    "# dt_5day = dt_cols[LAST_DATE_I - 5]\n",
    "dt_yday = dt_cols[LAST_DATE_I - 1]"
   ]
  },
  {
   "cell_type": "code",
   "execution_count": 11,
   "id": "restricted-sheriff",
   "metadata": {
    "execution": {
     "iopub.execute_input": "2021-08-26T00:20:30.694845Z",
     "iopub.status.busy": "2021-08-26T00:20:30.694232Z",
     "iopub.status.idle": "2021-08-26T00:20:30.702544Z",
     "shell.execute_reply": "2021-08-26T00:20:30.701997Z"
    },
    "papermill": {
     "duration": 0.04842,
     "end_time": "2021-08-26T00:20:30.702671",
     "exception": false,
     "start_time": "2021-08-26T00:20:30.654251",
     "status": "completed"
    },
    "tags": []
   },
   "outputs": [],
   "source": [
    "#hide\n",
    "dfc_cases = dft_cases.groupby(COL_REGION)[dt_today].sum()\n",
    "dfc_deaths = dft_deaths.groupby(COL_REGION)[dt_today].sum()\n",
    "# dfp_cases = dft_cases.groupby(COL_REGION)[dt_5day].sum()\n",
    "# dfp_deaths = dft_deaths.groupby(COL_REGION)[dt_5day].sum()\n",
    "dfp_cases = dft_cases.groupby(COL_REGION)[dt_yday].sum()\n",
    "dfp_deaths = dft_deaths.groupby(COL_REGION)[dt_yday].sum()"
   ]
  },
  {
   "cell_type": "code",
   "execution_count": 12,
   "id": "deluxe-hepatitis",
   "metadata": {
    "execution": {
     "iopub.execute_input": "2021-08-26T00:20:30.777018Z",
     "iopub.status.busy": "2021-08-26T00:20:30.776417Z",
     "iopub.status.idle": "2021-08-26T00:20:30.780601Z",
     "shell.execute_reply": "2021-08-26T00:20:30.780130Z"
    },
    "papermill": {
     "duration": 0.044732,
     "end_time": "2021-08-26T00:20:30.780729",
     "exception": false,
     "start_time": "2021-08-26T00:20:30.735997",
     "status": "completed"
    },
    "tags": []
   },
   "outputs": [],
   "source": [
    "#hide\n",
    "df_table = (pd.DataFrame(dict(Cases = dfc_cases, Deaths = dfc_deaths, PCases = dfp_cases, PDeaths = dfp_deaths))\n",
    "            .sort_values(by = ['Cases','Deaths'], ascending = [False, False])\n",
    "            .reset_index())"
   ]
  },
  {
   "cell_type": "code",
   "execution_count": 13,
   "id": "educational-chancellor",
   "metadata": {
    "execution": {
     "iopub.execute_input": "2021-08-26T00:20:30.868163Z",
     "iopub.status.busy": "2021-08-26T00:20:30.867535Z",
     "iopub.status.idle": "2021-08-26T00:20:30.876684Z",
     "shell.execute_reply": "2021-08-26T00:20:30.876206Z"
    },
    "papermill": {
     "duration": 0.063878,
     "end_time": "2021-08-26T00:20:30.876824",
     "exception": false,
     "start_time": "2021-08-26T00:20:30.812946",
     "status": "completed"
    },
    "tags": []
   },
   "outputs": [
    {
     "data": {
      "text/html": [
       "<div>\n",
       "<style scoped>\n",
       "    .dataframe tbody tr th:only-of-type {\n",
       "        vertical-align: middle;\n",
       "    }\n",
       "\n",
       "    .dataframe tbody tr th {\n",
       "        vertical-align: top;\n",
       "    }\n",
       "\n",
       "    .dataframe thead th {\n",
       "        text-align: right;\n",
       "    }\n",
       "</style>\n",
       "<table border=\"1\" class=\"dataframe\">\n",
       "  <thead>\n",
       "    <tr style=\"text-align: right;\">\n",
       "      <th></th>\n",
       "      <th>Country/Region</th>\n",
       "      <th>Cases</th>\n",
       "      <th>Deaths</th>\n",
       "      <th>PCases</th>\n",
       "      <th>PDeaths</th>\n",
       "      <th>Cases (+)</th>\n",
       "      <th>Deaths (+)</th>\n",
       "      <th>Fatality Rate</th>\n",
       "      <th>Continent</th>\n",
       "    </tr>\n",
       "  </thead>\n",
       "  <tbody>\n",
       "    <tr>\n",
       "      <th>0</th>\n",
       "      <td>US</td>\n",
       "      <td>38074886</td>\n",
       "      <td>630816</td>\n",
       "      <td>37939641</td>\n",
       "      <td>629411</td>\n",
       "      <td>135245</td>\n",
       "      <td>1405</td>\n",
       "      <td>1.66</td>\n",
       "      <td>North America</td>\n",
       "    </tr>\n",
       "    <tr>\n",
       "      <th>1</th>\n",
       "      <td>India</td>\n",
       "      <td>32512366</td>\n",
       "      <td>435758</td>\n",
       "      <td>32474773</td>\n",
       "      <td>435110</td>\n",
       "      <td>37593</td>\n",
       "      <td>648</td>\n",
       "      <td>1.34</td>\n",
       "      <td>Asia</td>\n",
       "    </tr>\n",
       "    <tr>\n",
       "      <th>2</th>\n",
       "      <td>Brazil</td>\n",
       "      <td>20614866</td>\n",
       "      <td>575742</td>\n",
       "      <td>20583994</td>\n",
       "      <td>574848</td>\n",
       "      <td>30872</td>\n",
       "      <td>894</td>\n",
       "      <td>2.79</td>\n",
       "      <td>South America</td>\n",
       "    </tr>\n",
       "    <tr>\n",
       "      <th>3</th>\n",
       "      <td>France</td>\n",
       "      <td>6734077</td>\n",
       "      <td>114026</td>\n",
       "      <td>6708163</td>\n",
       "      <td>113857</td>\n",
       "      <td>25914</td>\n",
       "      <td>169</td>\n",
       "      <td>1.69</td>\n",
       "      <td>Europe</td>\n",
       "    </tr>\n",
       "    <tr>\n",
       "      <th>4</th>\n",
       "      <td>Russia</td>\n",
       "      <td>6690633</td>\n",
       "      <td>174542</td>\n",
       "      <td>6672373</td>\n",
       "      <td>173768</td>\n",
       "      <td>18260</td>\n",
       "      <td>774</td>\n",
       "      <td>2.61</td>\n",
       "      <td>Europe</td>\n",
       "    </tr>\n",
       "  </tbody>\n",
       "</table>\n",
       "</div>"
      ],
      "text/plain": [
       "  Country/Region     Cases  Deaths    PCases  PDeaths  Cases (+)  Deaths (+)  \\\n",
       "0             US  38074886  630816  37939641   629411     135245        1405   \n",
       "1          India  32512366  435758  32474773   435110      37593         648   \n",
       "2         Brazil  20614866  575742  20583994   574848      30872         894   \n",
       "3         France   6734077  114026   6708163   113857      25914         169   \n",
       "4         Russia   6690633  174542   6672373   173768      18260         774   \n",
       "\n",
       "   Fatality Rate      Continent  \n",
       "0           1.66  North America  \n",
       "1           1.34           Asia  \n",
       "2           2.79  South America  \n",
       "3           1.69         Europe  \n",
       "4           2.61         Europe  "
      ]
     },
     "execution_count": 13,
     "metadata": {},
     "output_type": "execute_result"
    }
   ],
   "source": [
    "#hide\n",
    "for c in 'Cases, Deaths'.split(', '):\n",
    "    df_table[f'{c} (+)'] = (df_table[c] - df_table[f'P{c}']).clip(0)\n",
    "    #Clip ça veut dire, les chiffres negatif sont interdit\n",
    "df_table['Fatality Rate'] = (100* df_table['Deaths']/ df_table['Cases']).round(2)\n",
    "df_table['Continent'] = df_table['Country/Region'].map(mapping['map.continent'])\n",
    "df_table.head(5)"
   ]
  },
  {
   "cell_type": "code",
   "execution_count": 14,
   "id": "aboriginal-bulgaria",
   "metadata": {
    "execution": {
     "iopub.execute_input": "2021-08-26T00:20:30.951914Z",
     "iopub.status.busy": "2021-08-26T00:20:30.951328Z",
     "iopub.status.idle": "2021-08-26T00:20:30.953589Z",
     "shell.execute_reply": "2021-08-26T00:20:30.953082Z"
    },
    "papermill": {
     "duration": 0.043072,
     "end_time": "2021-08-26T00:20:30.953740",
     "exception": false,
     "start_time": "2021-08-26T00:20:30.910668",
     "status": "completed"
    },
    "tags": []
   },
   "outputs": [],
   "source": [
    "#hide\n",
    "#delete problematic countries from table\n",
    "df_table = df_table[~df_table['Country/Region'].isin(['Cape Verde', 'Cruise Ship', 'Kosovo'])]"
   ]
  },
  {
   "cell_type": "code",
   "execution_count": 15,
   "id": "fantastic-effect",
   "metadata": {
    "execution": {
     "iopub.execute_input": "2021-08-26T00:20:31.031915Z",
     "iopub.status.busy": "2021-08-26T00:20:31.031252Z",
     "iopub.status.idle": "2021-08-26T00:20:31.050743Z",
     "shell.execute_reply": "2021-08-26T00:20:31.050258Z"
    },
    "papermill": {
     "duration": 0.063303,
     "end_time": "2021-08-26T00:20:31.050879",
     "exception": false,
     "start_time": "2021-08-26T00:20:30.987576",
     "status": "completed"
    },
    "tags": []
   },
   "outputs": [
    {
     "data": {
      "text/html": [
       "<div>\n",
       "<style scoped>\n",
       "    .dataframe tbody tr th:only-of-type {\n",
       "        vertical-align: middle;\n",
       "    }\n",
       "\n",
       "    .dataframe tbody tr th {\n",
       "        vertical-align: top;\n",
       "    }\n",
       "\n",
       "    .dataframe thead th {\n",
       "        text-align: right;\n",
       "    }\n",
       "</style>\n",
       "<table border=\"1\" class=\"dataframe\">\n",
       "  <thead>\n",
       "    <tr style=\"text-align: right;\">\n",
       "      <th></th>\n",
       "      <th>Country/Region</th>\n",
       "      <th>Cases</th>\n",
       "      <th>Deaths</th>\n",
       "      <th>PCases</th>\n",
       "      <th>PDeaths</th>\n",
       "      <th>Cases (+)</th>\n",
       "      <th>Deaths (+)</th>\n",
       "      <th>Fatality Rate</th>\n",
       "      <th>Continent</th>\n",
       "    </tr>\n",
       "  </thead>\n",
       "  <tbody>\n",
       "    <tr>\n",
       "      <th>0</th>\n",
       "      <td>US</td>\n",
       "      <td>38074886</td>\n",
       "      <td>630816</td>\n",
       "      <td>37939641</td>\n",
       "      <td>629411</td>\n",
       "      <td>135245</td>\n",
       "      <td>1405</td>\n",
       "      <td>1.7</td>\n",
       "      <td>North America</td>\n",
       "    </tr>\n",
       "    <tr>\n",
       "      <th>1</th>\n",
       "      <td>India</td>\n",
       "      <td>32512366</td>\n",
       "      <td>435758</td>\n",
       "      <td>32474773</td>\n",
       "      <td>435110</td>\n",
       "      <td>37593</td>\n",
       "      <td>648</td>\n",
       "      <td>1.3</td>\n",
       "      <td>Asia</td>\n",
       "    </tr>\n",
       "    <tr>\n",
       "      <th>2</th>\n",
       "      <td>Brazil</td>\n",
       "      <td>20614866</td>\n",
       "      <td>575742</td>\n",
       "      <td>20583994</td>\n",
       "      <td>574848</td>\n",
       "      <td>30872</td>\n",
       "      <td>894</td>\n",
       "      <td>2.8</td>\n",
       "      <td>South America</td>\n",
       "    </tr>\n",
       "    <tr>\n",
       "      <th>3</th>\n",
       "      <td>France</td>\n",
       "      <td>6734077</td>\n",
       "      <td>114026</td>\n",
       "      <td>6708163</td>\n",
       "      <td>113857</td>\n",
       "      <td>25914</td>\n",
       "      <td>169</td>\n",
       "      <td>1.7</td>\n",
       "      <td>Europe</td>\n",
       "    </tr>\n",
       "    <tr>\n",
       "      <th>4</th>\n",
       "      <td>Russia</td>\n",
       "      <td>6690633</td>\n",
       "      <td>174542</td>\n",
       "      <td>6672373</td>\n",
       "      <td>173768</td>\n",
       "      <td>18260</td>\n",
       "      <td>774</td>\n",
       "      <td>2.6</td>\n",
       "      <td>Europe</td>\n",
       "    </tr>\n",
       "  </tbody>\n",
       "</table>\n",
       "</div>"
      ],
      "text/plain": [
       "  Country/Region     Cases  Deaths    PCases  PDeaths  Cases (+)  Deaths (+)  \\\n",
       "0             US  38074886  630816  37939641   629411     135245        1405   \n",
       "1          India  32512366  435758  32474773   435110      37593         648   \n",
       "2         Brazil  20614866  575742  20583994   574848      30872         894   \n",
       "3         France   6734077  114026   6708163   113857      25914         169   \n",
       "4         Russia   6690633  174542   6672373   173768      18260         774   \n",
       "\n",
       "   Fatality Rate      Continent  \n",
       "0            1.7  North America  \n",
       "1            1.3           Asia  \n",
       "2            2.8  South America  \n",
       "3            1.7         Europe  \n",
       "4            2.6         Europe  "
      ]
     },
     "execution_count": 15,
     "metadata": {},
     "output_type": "execute_result"
    }
   ],
   "source": [
    "#hide\n",
    "df_table = (pd.DataFrame(dict(Cases=dfc_cases, Deaths=dfc_deaths, PCases=dfp_cases, PDeaths=dfp_deaths))\n",
    "             .sort_values(by=['Cases', 'Deaths'], ascending=[False, False])\n",
    "             .reset_index())\n",
    "df_table.rename(columns={'index': 'Country/Region'}, inplace=True)\n",
    "for c in 'Cases, Deaths'.split(', '):\n",
    "    df_table[f'{c} (+)'] = (df_table[c] - df_table[f'P{c}']).clip(0)  # DATA BUG\n",
    "df_table['Fatality Rate'] = (100 * df_table['Deaths'] / df_table['Cases']).round(1)\n",
    "df_table['Continent'] = df_table['Country/Region'].map(mapping['map.continent'])\n",
    "df_table.head(5)"
   ]
  },
  {
   "cell_type": "code",
   "execution_count": 16,
   "id": "fewer-occasion",
   "metadata": {
    "execution": {
     "iopub.execute_input": "2021-08-26T00:20:31.127120Z",
     "iopub.status.busy": "2021-08-26T00:20:31.126568Z",
     "iopub.status.idle": "2021-08-26T00:20:31.129602Z",
     "shell.execute_reply": "2021-08-26T00:20:31.129104Z"
    },
    "papermill": {
     "duration": 0.044111,
     "end_time": "2021-08-26T00:20:31.129728",
     "exception": false,
     "start_time": "2021-08-26T00:20:31.085617",
     "status": "completed"
    },
    "tags": []
   },
   "outputs": [],
   "source": [
    "#hide\n",
    "#delete problematic countries from table\n",
    "df_table = df_table[~df_table['Country/Region'].isin(['Cape Verde', 'Cruise Ship', 'Kosovo'])]"
   ]
  },
  {
   "cell_type": "code",
   "execution_count": 17,
   "id": "related-center",
   "metadata": {
    "execution": {
     "iopub.execute_input": "2021-08-26T00:20:31.216782Z",
     "iopub.status.busy": "2021-08-26T00:20:31.216129Z",
     "iopub.status.idle": "2021-08-26T00:20:31.220160Z",
     "shell.execute_reply": "2021-08-26T00:20:31.219648Z"
    },
    "papermill": {
     "duration": 0.05648,
     "end_time": "2021-08-26T00:20:31.220286",
     "exception": false,
     "start_time": "2021-08-26T00:20:31.163806",
     "status": "completed"
    },
    "tags": []
   },
   "outputs": [],
   "source": [
    "#hide\n",
    "metrics = [df_table.columns[index] for index in [1,2,5,6]]\n",
    "# s_china = df_table[df_table['Country/Region'].eq('China')][metrics].sum().add_prefix('China ')\n",
    "s_us = df_table[df_table['Country/Region'].eq('US')][metrics].sum().add_prefix('US ')\n",
    "s_eu = df_table[df_table['Continent'].eq('Europe')][metrics].sum().add_prefix('EU ')\n",
    "s_ind = df_table[df_table['Country/Region'].eq('India')][metrics].sum().add_prefix('India ')\n",
    "summary = {'updated': pd.to_datetime(dt_today), 'since': pd.to_datetime(dt_yday)}\n",
    "summary = {'updated': pd.to_datetime(dt_today), 'since': pd.to_datetime(dt_yday)}\n",
    "summary = {**summary, **df_table[metrics].sum(), **s_ind, **s_us, **s_eu}"
   ]
  },
  {
   "cell_type": "code",
   "execution_count": 18,
   "id": "engaging-syndrome",
   "metadata": {
    "execution": {
     "iopub.execute_input": "2021-08-26T00:20:31.292178Z",
     "iopub.status.busy": "2021-08-26T00:20:31.291574Z",
     "iopub.status.idle": "2021-08-26T00:20:31.307972Z",
     "shell.execute_reply": "2021-08-26T00:20:31.308464Z"
    },
    "papermill": {
     "duration": 0.055616,
     "end_time": "2021-08-26T00:20:31.308629",
     "exception": false,
     "start_time": "2021-08-26T00:20:31.253013",
     "status": "completed"
    },
    "tags": []
   },
   "outputs": [],
   "source": [
    "#hide\n",
    "dft_ct_new_cases = dft_cases.groupby(COL_REGION)[dt_cols].sum().diff(axis=1).fillna(0).astype(int)"
   ]
  },
  {
   "cell_type": "code",
   "execution_count": 19,
   "id": "neutral-assignment",
   "metadata": {
    "execution": {
     "iopub.execute_input": "2021-08-26T00:20:31.385548Z",
     "iopub.status.busy": "2021-08-26T00:20:31.384996Z",
     "iopub.status.idle": "2021-08-26T00:20:31.387060Z",
     "shell.execute_reply": "2021-08-26T00:20:31.387598Z"
    },
    "papermill": {
     "duration": 0.044801,
     "end_time": "2021-08-26T00:20:31.387745",
     "exception": false,
     "start_time": "2021-08-26T00:20:31.342944",
     "status": "completed"
    },
    "tags": []
   },
   "outputs": [],
   "source": [
    "#hide\n",
    "everydaycases = dft_ct_new_cases.cumsum(axis=1)"
   ]
  },
  {
   "cell_type": "code",
   "execution_count": 20,
   "id": "parliamentary-calgary",
   "metadata": {
    "execution": {
     "iopub.execute_input": "2021-08-26T00:20:31.459794Z",
     "iopub.status.busy": "2021-08-26T00:20:31.459132Z",
     "iopub.status.idle": "2021-08-26T00:20:32.049528Z",
     "shell.execute_reply": "2021-08-26T00:20:32.050048Z"
    },
    "papermill": {
     "duration": 0.629217,
     "end_time": "2021-08-26T00:20:32.050203",
     "exception": false,
     "start_time": "2021-08-26T00:20:31.420986",
     "status": "completed"
    },
    "tags": []
   },
   "outputs": [],
   "source": [
    "#hide\n",
    "import pandas as pd\n",
    "import matplotlib.pyplot as plt\n",
    "import matplotlib.ticker as ticker\n",
    "import matplotlib.animation as animation\n",
    "from IPython.display import HTML"
   ]
  },
  {
   "cell_type": "code",
   "execution_count": 21,
   "id": "lasting-extraction",
   "metadata": {
    "execution": {
     "iopub.execute_input": "2021-08-26T00:20:32.176279Z",
     "iopub.status.busy": "2021-08-26T00:20:32.175628Z",
     "iopub.status.idle": "2021-08-26T00:20:32.178056Z",
     "shell.execute_reply": "2021-08-26T00:20:32.178531Z"
    },
    "papermill": {
     "duration": 0.070836,
     "end_time": "2021-08-26T00:20:32.178679",
     "exception": false,
     "start_time": "2021-08-26T00:20:32.107843",
     "status": "completed"
    },
    "tags": []
   },
   "outputs": [],
   "source": [
    "#hide\n",
    "t = everydaycases.stack()"
   ]
  },
  {
   "cell_type": "code",
   "execution_count": 22,
   "id": "premier-sleeve",
   "metadata": {
    "execution": {
     "iopub.execute_input": "2021-08-26T00:20:32.306977Z",
     "iopub.status.busy": "2021-08-26T00:20:32.305986Z",
     "iopub.status.idle": "2021-08-26T00:20:32.314579Z",
     "shell.execute_reply": "2021-08-26T00:20:32.314131Z"
    },
    "papermill": {
     "duration": 0.048322,
     "end_time": "2021-08-26T00:20:32.314704",
     "exception": false,
     "start_time": "2021-08-26T00:20:32.266382",
     "status": "completed"
    },
    "tags": []
   },
   "outputs": [],
   "source": [
    "#hide\n",
    "g = t.reset_index(['Country/Region'])"
   ]
  },
  {
   "cell_type": "code",
   "execution_count": 23,
   "id": "distributed-pittsburgh",
   "metadata": {
    "execution": {
     "iopub.execute_input": "2021-08-26T00:20:32.388348Z",
     "iopub.status.busy": "2021-08-26T00:20:32.387284Z",
     "iopub.status.idle": "2021-08-26T00:20:32.389979Z",
     "shell.execute_reply": "2021-08-26T00:20:32.389508Z"
    },
    "papermill": {
     "duration": 0.042013,
     "end_time": "2021-08-26T00:20:32.390110",
     "exception": false,
     "start_time": "2021-08-26T00:20:32.348097",
     "status": "completed"
    },
    "tags": []
   },
   "outputs": [],
   "source": [
    "#hide\n",
    "g.index.name = 'date'"
   ]
  },
  {
   "cell_type": "code",
   "execution_count": 24,
   "id": "naked-donor",
   "metadata": {
    "execution": {
     "iopub.execute_input": "2021-08-26T00:20:32.463241Z",
     "iopub.status.busy": "2021-08-26T00:20:32.461962Z",
     "iopub.status.idle": "2021-08-26T00:20:32.463931Z",
     "shell.execute_reply": "2021-08-26T00:20:32.464395Z"
    },
    "papermill": {
     "duration": 0.040418,
     "end_time": "2021-08-26T00:20:32.464537",
     "exception": false,
     "start_time": "2021-08-26T00:20:32.424119",
     "status": "completed"
    },
    "tags": []
   },
   "outputs": [],
   "source": [
    "# #hide\n",
    "# g = g.reset_index(['date'])"
   ]
  },
  {
   "cell_type": "code",
   "execution_count": 25,
   "id": "incomplete-mustang",
   "metadata": {
    "execution": {
     "iopub.execute_input": "2021-08-26T00:20:32.538250Z",
     "iopub.status.busy": "2021-08-26T00:20:32.537008Z",
     "iopub.status.idle": "2021-08-26T00:20:32.538913Z",
     "shell.execute_reply": "2021-08-26T00:20:32.539395Z"
    },
    "papermill": {
     "duration": 0.040733,
     "end_time": "2021-08-26T00:20:32.539540",
     "exception": false,
     "start_time": "2021-08-26T00:20:32.498807",
     "status": "completed"
    },
    "tags": []
   },
   "outputs": [],
   "source": [
    "#hide\n",
    "# g.head()"
   ]
  },
  {
   "cell_type": "code",
   "execution_count": 26,
   "id": "specific-kruger",
   "metadata": {
    "execution": {
     "iopub.execute_input": "2021-08-26T00:20:32.612749Z",
     "iopub.status.busy": "2021-08-26T00:20:32.612152Z",
     "iopub.status.idle": "2021-08-26T00:20:32.614474Z",
     "shell.execute_reply": "2021-08-26T00:20:32.613981Z"
    },
    "papermill": {
     "duration": 0.040532,
     "end_time": "2021-08-26T00:20:32.614599",
     "exception": false,
     "start_time": "2021-08-26T00:20:32.574067",
     "status": "completed"
    },
    "tags": []
   },
   "outputs": [],
   "source": [
    "#hide\n",
    "# g.columns = ['date','country','cases']"
   ]
  },
  {
   "cell_type": "code",
   "execution_count": 27,
   "id": "tender-conversion",
   "metadata": {
    "execution": {
     "iopub.execute_input": "2021-08-26T00:20:32.687241Z",
     "iopub.status.busy": "2021-08-26T00:20:32.686655Z",
     "iopub.status.idle": "2021-08-26T00:20:32.688544Z",
     "shell.execute_reply": "2021-08-26T00:20:32.689093Z"
    },
    "papermill": {
     "duration": 0.040201,
     "end_time": "2021-08-26T00:20:32.689237",
     "exception": false,
     "start_time": "2021-08-26T00:20:32.649036",
     "status": "completed"
    },
    "tags": []
   },
   "outputs": [],
   "source": [
    "#hide\n",
    "# g['continent'] = g.country"
   ]
  },
  {
   "cell_type": "code",
   "execution_count": 28,
   "id": "substantial-wilderness",
   "metadata": {
    "execution": {
     "iopub.execute_input": "2021-08-26T00:20:32.763893Z",
     "iopub.status.busy": "2021-08-26T00:20:32.763267Z",
     "iopub.status.idle": "2021-08-26T00:20:32.765728Z",
     "shell.execute_reply": "2021-08-26T00:20:32.766230Z"
    },
    "papermill": {
     "duration": 0.042421,
     "end_time": "2021-08-26T00:20:32.766378",
     "exception": false,
     "start_time": "2021-08-26T00:20:32.723957",
     "status": "completed"
    },
    "tags": []
   },
   "outputs": [],
   "source": [
    "#hide\n",
    "# cols = list(g.columns.values)"
   ]
  },
  {
   "cell_type": "code",
   "execution_count": 29,
   "id": "solved-farming",
   "metadata": {
    "execution": {
     "iopub.execute_input": "2021-08-26T00:20:32.840300Z",
     "iopub.status.busy": "2021-08-26T00:20:32.839696Z",
     "iopub.status.idle": "2021-08-26T00:20:32.841452Z",
     "shell.execute_reply": "2021-08-26T00:20:32.841919Z"
    },
    "papermill": {
     "duration": 0.041443,
     "end_time": "2021-08-26T00:20:32.842062",
     "exception": false,
     "start_time": "2021-08-26T00:20:32.800619",
     "status": "completed"
    },
    "tags": []
   },
   "outputs": [],
   "source": [
    "#hide\n",
    "# cols.insert(0, cols.pop())"
   ]
  },
  {
   "cell_type": "code",
   "execution_count": 30,
   "id": "executed-adoption",
   "metadata": {
    "execution": {
     "iopub.execute_input": "2021-08-26T00:20:32.915079Z",
     "iopub.status.busy": "2021-08-26T00:20:32.914471Z",
     "iopub.status.idle": "2021-08-26T00:20:32.917031Z",
     "shell.execute_reply": "2021-08-26T00:20:32.916562Z"
    },
    "papermill": {
     "duration": 0.040364,
     "end_time": "2021-08-26T00:20:32.917161",
     "exception": false,
     "start_time": "2021-08-26T00:20:32.876797",
     "status": "completed"
    },
    "tags": []
   },
   "outputs": [],
   "source": [
    "#hide\n",
    "# g = g[cols]"
   ]
  },
  {
   "cell_type": "code",
   "execution_count": 31,
   "id": "subject-dublin",
   "metadata": {
    "execution": {
     "iopub.execute_input": "2021-08-26T00:20:32.990386Z",
     "iopub.status.busy": "2021-08-26T00:20:32.989790Z",
     "iopub.status.idle": "2021-08-26T00:20:32.992042Z",
     "shell.execute_reply": "2021-08-26T00:20:32.991538Z"
    },
    "papermill": {
     "duration": 0.040562,
     "end_time": "2021-08-26T00:20:32.992166",
     "exception": false,
     "start_time": "2021-08-26T00:20:32.951604",
     "status": "completed"
    },
    "tags": []
   },
   "outputs": [],
   "source": [
    "#hide\n",
    "# g['continent'] = g['continent'].map(mapping['map.continent'])"
   ]
  },
  {
   "cell_type": "code",
   "execution_count": 32,
   "id": "freelance-scout",
   "metadata": {
    "execution": {
     "iopub.execute_input": "2021-08-26T00:20:33.066460Z",
     "iopub.status.busy": "2021-08-26T00:20:33.065213Z",
     "iopub.status.idle": "2021-08-26T00:20:33.067113Z",
     "shell.execute_reply": "2021-08-26T00:20:33.067600Z"
    },
    "papermill": {
     "duration": 0.041136,
     "end_time": "2021-08-26T00:20:33.067745",
     "exception": false,
     "start_time": "2021-08-26T00:20:33.026609",
     "status": "completed"
    },
    "tags": []
   },
   "outputs": [],
   "source": [
    "#hide\n",
    "# g.head()"
   ]
  },
  {
   "cell_type": "code",
   "execution_count": 33,
   "id": "limited-engine",
   "metadata": {
    "execution": {
     "iopub.execute_input": "2021-08-26T00:20:33.142685Z",
     "iopub.status.busy": "2021-08-26T00:20:33.141649Z",
     "iopub.status.idle": "2021-08-26T00:20:33.143779Z",
     "shell.execute_reply": "2021-08-26T00:20:33.144296Z"
    },
    "papermill": {
     "duration": 0.04197,
     "end_time": "2021-08-26T00:20:33.144434",
     "exception": false,
     "start_time": "2021-08-26T00:20:33.102464",
     "status": "completed"
    },
    "tags": []
   },
   "outputs": [],
   "source": [
    "# hide\n",
    "# g['date'] = g['date'].astype('datetime64[ns]')"
   ]
  },
  {
   "cell_type": "code",
   "execution_count": 34,
   "id": "sophisticated-supervisor",
   "metadata": {
    "execution": {
     "iopub.execute_input": "2021-08-26T00:20:33.220307Z",
     "iopub.status.busy": "2021-08-26T00:20:33.219020Z",
     "iopub.status.idle": "2021-08-26T00:20:33.220963Z",
     "shell.execute_reply": "2021-08-26T00:20:33.221422Z"
    },
    "papermill": {
     "duration": 0.042653,
     "end_time": "2021-08-26T00:20:33.221561",
     "exception": false,
     "start_time": "2021-08-26T00:20:33.178908",
     "status": "completed"
    },
    "tags": []
   },
   "outputs": [],
   "source": [
    "#hide\n",
    "# g['date'] = g.date.dt.dayofyear"
   ]
  },
  {
   "cell_type": "code",
   "execution_count": 35,
   "id": "inside-dubai",
   "metadata": {
    "execution": {
     "iopub.execute_input": "2021-08-26T00:20:33.293862Z",
     "iopub.status.busy": "2021-08-26T00:20:33.293265Z",
     "iopub.status.idle": "2021-08-26T00:20:33.295588Z",
     "shell.execute_reply": "2021-08-26T00:20:33.295069Z"
    },
    "papermill": {
     "duration": 0.040455,
     "end_time": "2021-08-26T00:20:33.295715",
     "exception": false,
     "start_time": "2021-08-26T00:20:33.255260",
     "status": "completed"
    },
    "tags": []
   },
   "outputs": [],
   "source": [
    "#hide\n",
    "# g = g.rename(columns= {'continent':'group','country':'name','cases':'value'})"
   ]
  },
  {
   "cell_type": "code",
   "execution_count": 36,
   "id": "fleet-motorcycle",
   "metadata": {
    "execution": {
     "iopub.execute_input": "2021-08-26T00:20:33.368550Z",
     "iopub.status.busy": "2021-08-26T00:20:33.367962Z",
     "iopub.status.idle": "2021-08-26T00:20:33.370561Z",
     "shell.execute_reply": "2021-08-26T00:20:33.370094Z"
    },
    "papermill": {
     "duration": 0.04076,
     "end_time": "2021-08-26T00:20:33.370688",
     "exception": false,
     "start_time": "2021-08-26T00:20:33.329928",
     "status": "completed"
    },
    "tags": []
   },
   "outputs": [],
   "source": [
    "#hide\n",
    "# cols = ['name','group','day','value']"
   ]
  },
  {
   "cell_type": "code",
   "execution_count": 37,
   "id": "continued-sleeping",
   "metadata": {
    "execution": {
     "iopub.execute_input": "2021-08-26T00:20:33.444043Z",
     "iopub.status.busy": "2021-08-26T00:20:33.443431Z",
     "iopub.status.idle": "2021-08-26T00:20:33.445714Z",
     "shell.execute_reply": "2021-08-26T00:20:33.445223Z"
    },
    "papermill": {
     "duration": 0.040352,
     "end_time": "2021-08-26T00:20:33.445836",
     "exception": false,
     "start_time": "2021-08-26T00:20:33.405484",
     "status": "completed"
    },
    "tags": []
   },
   "outputs": [],
   "source": [
    "#hide\n",
    "# g.rename(columns= {'date':'day'},inplace = True)"
   ]
  },
  {
   "cell_type": "code",
   "execution_count": 38,
   "id": "major-fight",
   "metadata": {
    "execution": {
     "iopub.execute_input": "2021-08-26T00:20:33.518572Z",
     "iopub.status.busy": "2021-08-26T00:20:33.517984Z",
     "iopub.status.idle": "2021-08-26T00:20:33.519758Z",
     "shell.execute_reply": "2021-08-26T00:20:33.520223Z"
    },
    "papermill": {
     "duration": 0.040025,
     "end_time": "2021-08-26T00:20:33.520364",
     "exception": false,
     "start_time": "2021-08-26T00:20:33.480339",
     "status": "completed"
    },
    "tags": []
   },
   "outputs": [],
   "source": [
    "#hide\n",
    "# g = g[cols]"
   ]
  },
  {
   "cell_type": "code",
   "execution_count": 39,
   "id": "structured-mobile",
   "metadata": {
    "execution": {
     "iopub.execute_input": "2021-08-26T00:20:33.591949Z",
     "iopub.status.busy": "2021-08-26T00:20:33.591334Z",
     "iopub.status.idle": "2021-08-26T00:20:33.594136Z",
     "shell.execute_reply": "2021-08-26T00:20:33.593667Z"
    },
    "papermill": {
     "duration": 0.040663,
     "end_time": "2021-08-26T00:20:33.594266",
     "exception": false,
     "start_time": "2021-08-26T00:20:33.553603",
     "status": "completed"
    },
    "tags": []
   },
   "outputs": [],
   "source": [
    "# #hide\n",
    "# g = g[g.group.notna()]"
   ]
  },
  {
   "cell_type": "code",
   "execution_count": 40,
   "id": "determined-closing",
   "metadata": {
    "execution": {
     "iopub.execute_input": "2021-08-26T00:20:33.666768Z",
     "iopub.status.busy": "2021-08-26T00:20:33.666174Z",
     "iopub.status.idle": "2021-08-26T00:20:33.668421Z",
     "shell.execute_reply": "2021-08-26T00:20:33.667932Z"
    },
    "papermill": {
     "duration": 0.039868,
     "end_time": "2021-08-26T00:20:33.668544",
     "exception": false,
     "start_time": "2021-08-26T00:20:33.628676",
     "status": "completed"
    },
    "tags": []
   },
   "outputs": [],
   "source": [
    "# #hide\n",
    "# colors = dict(zip(\n",
    "#     [\"Oceania\", \"Europe\", \"Asia\", \"South America\", \"Middle East\", \"North America\", \"Africa\"],\n",
    "#     [\"#adb0ff\", \"#ffb3ff\", \"#90d595\", \"#e48381\", \"#aafbff\", \"#f7bb5f\", \"#eafb50\"]\n",
    "# ))\n",
    "# group_lk = g.set_index('name')['group'].to_dict()"
   ]
  },
  {
   "cell_type": "code",
   "execution_count": null,
   "id": "gross-drinking",
   "metadata": {
    "papermill": {
     "duration": 0.034275,
     "end_time": "2021-08-26T00:20:33.736700",
     "exception": false,
     "start_time": "2021-08-26T00:20:33.702425",
     "status": "completed"
    },
    "tags": []
   },
   "outputs": [],
   "source": []
  },
  {
   "cell_type": "code",
   "execution_count": 41,
   "id": "subject-macintosh",
   "metadata": {
    "execution": {
     "iopub.execute_input": "2021-08-26T00:20:33.810729Z",
     "iopub.status.busy": "2021-08-26T00:20:33.810163Z",
     "iopub.status.idle": "2021-08-26T00:20:33.812475Z",
     "shell.execute_reply": "2021-08-26T00:20:33.813034Z"
    },
    "papermill": {
     "duration": 0.042142,
     "end_time": "2021-08-26T00:20:33.813176",
     "exception": false,
     "start_time": "2021-08-26T00:20:33.771034",
     "status": "completed"
    },
    "tags": []
   },
   "outputs": [],
   "source": [
    "# #hide\n",
    "# fig, ax = plt.subplots(figsize=(15, 8))\n",
    "\n",
    "# def draw_barchart(current_day):\n",
    "#     dff = g[g['day'].eq(current_day)].sort_values(by='value', ascending=True).tail(10)\n",
    "#     ax.clear()\n",
    "#     ax.barh(dff['name'], dff['value'], color=[colors[group_lk[x]] for x in dff['name']])\n",
    "#     dx = dff['value'].max() / 200\n",
    "    \n",
    "#     for i, (value, name) in enumerate(zip(dff['value'], dff['name'])):\n",
    "#         ax.text(value-dx, i,     name,           size=14, weight=600, ha='right', va='bottom')\n",
    "#         ax.text(value-dx, i-.25, group_lk[name], size=10, color='#444444', ha='right', va='baseline')\n",
    "#         ax.text(value+dx, i,     f'{value:,.0f}',  size=14, ha='left',  va='center')\n",
    "#     ax.text(1, 0.4, current_day, transform=ax.transAxes, color='#777777', size=46, ha='right', weight=800)\n",
    "#     ax.text(0, 1.06, 'Population (thousands)', transform=ax.transAxes, size=12, color='#777777')\n",
    "#     ax.xaxis.set_major_formatter(ticker.StrMethodFormatter('{x:,.0f}'))\n",
    "#     ax.xaxis.set_ticks_position('top')\n",
    "#     ax.tick_params(axis='x', colors='#777777', labelsize=12)\n",
    "#     ax.set_yticks([])\n",
    "#     ax.margins(0, 0.01)\n",
    "#     ax.grid(which='major', axis='x', linestyle='-')\n",
    "#     ax.set_axisbelow(True)\n",
    "    \n",
    "#     ax.text(0, 1.15, 'Coronavirus',\n",
    "#             transform=ax.transAxes, size=24, weight=600, ha='left', va='top')\n",
    "# #     ax.text(1, 0, 'by @pratapvardhan; credit @jburnmurdoch', transform=ax.transAxes, color='#777777', ha='right',\n",
    "# #             bbox=dict(facecolor='white', alpha=0.8, edgecolor='white'))\n",
    "#     plt.box(False)"
   ]
  },
  {
   "cell_type": "code",
   "execution_count": 42,
   "id": "sexual-wages",
   "metadata": {
    "execution": {
     "iopub.execute_input": "2021-08-26T00:20:33.886866Z",
     "iopub.status.busy": "2021-08-26T00:20:33.886255Z",
     "iopub.status.idle": "2021-08-26T00:20:33.888724Z",
     "shell.execute_reply": "2021-08-26T00:20:33.889175Z"
    },
    "papermill": {
     "duration": 0.04213,
     "end_time": "2021-08-26T00:20:33.889335",
     "exception": false,
     "start_time": "2021-08-26T00:20:33.847205",
     "status": "completed"
    },
    "tags": []
   },
   "outputs": [],
   "source": [
    "# #hide_input\n",
    "# fig, ax = plt.subplots(figsize=(15, 8))\n",
    "# animator = animation.FuncAnimation(fig, draw_barchart, frames=range(g.day.values.min(), g.day.values.max()))\n",
    "# HTML(animator.to_jshtml())\n",
    "# # or use animator.to_html5_video() or animator.save() "
   ]
  },
  {
   "cell_type": "code",
   "execution_count": null,
   "id": "australian-container",
   "metadata": {
    "papermill": {
     "duration": 0.03453,
     "end_time": "2021-08-26T00:20:33.957039",
     "exception": false,
     "start_time": "2021-08-26T00:20:33.922509",
     "status": "completed"
    },
    "tags": []
   },
   "outputs": [],
   "source": []
  },
  {
   "cell_type": "code",
   "execution_count": null,
   "id": "mediterranean-pontiac",
   "metadata": {
    "papermill": {
     "duration": 0.033927,
     "end_time": "2021-08-26T00:20:34.025416",
     "exception": false,
     "start_time": "2021-08-26T00:20:33.991489",
     "status": "completed"
    },
    "tags": []
   },
   "outputs": [],
   "source": []
  },
  {
   "cell_type": "code",
   "execution_count": null,
   "id": "aging-legislature",
   "metadata": {
    "papermill": {
     "duration": 0.034519,
     "end_time": "2021-08-26T00:20:34.094455",
     "exception": false,
     "start_time": "2021-08-26T00:20:34.059936",
     "status": "completed"
    },
    "tags": []
   },
   "outputs": [],
   "source": []
  }
 ],
 "metadata": {
  "kernelspec": {
   "display_name": "Python 3",
   "language": "python",
   "name": "python3"
  },
  "language_info": {
   "codemirror_mode": {
    "name": "ipython",
    "version": 3
   },
   "file_extension": ".py",
   "mimetype": "text/x-python",
   "name": "python",
   "nbconvert_exporter": "python",
   "pygments_lexer": "ipython3",
   "version": "3.6.14"
  },
  "papermill": {
   "duration": 6.572359,
   "end_time": "2021-08-26T00:20:34.437317",
   "environment_variables": {},
   "exception": null,
   "input_path": "2020-03-21-covid19exp.ipynb",
   "output_path": "2020-03-21-covid19exp.ipynb",
   "parameters": {},
   "start_time": "2021-08-26T00:20:27.864958",
   "version": "2.0.0"
  }
 },
 "nbformat": 4,
 "nbformat_minor": 5
}