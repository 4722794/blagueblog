{
 "cells": [
  {
   "cell_type": "markdown",
   "id": "muslim-click",
   "metadata": {
    "papermill": {
     "duration": 0.041446,
     "end_time": "2022-04-18T12:16:17.579990",
     "exception": false,
     "start_time": "2022-04-18T12:16:17.538544",
     "status": "completed"
    },
    "tags": []
   },
   "source": [
    "# COVID-19 Case Race\n",
    "> A race chart to see rising cases around the world\n",
    "\n",
    "- author: Hargun Oberoi\n",
    "- image: images/covid-overview.png\n",
    "- hide: false\n",
    "- badges: false"
   ]
  },
  {
   "cell_type": "code",
   "execution_count": 1,
   "id": "proof-material",
   "metadata": {
    "execution": {
     "iopub.execute_input": "2022-04-18T12:16:17.674476Z",
     "iopub.status.busy": "2022-04-18T12:16:17.673779Z",
     "iopub.status.idle": "2022-04-18T12:16:18.072495Z",
     "shell.execute_reply": "2022-04-18T12:16:18.071800Z"
    },
    "papermill": {
     "duration": 0.454376,
     "end_time": "2022-04-18T12:16:18.072659",
     "exception": false,
     "start_time": "2022-04-18T12:16:17.618283",
     "status": "completed"
    },
    "tags": []
   },
   "outputs": [],
   "source": [
    "#hide\n",
    "import numpy as np\n",
    "import pandas as pd\n",
    "from jinja2 import Template\n",
    "from IPython.display import HTML"
   ]
  },
  {
   "cell_type": "code",
   "execution_count": 2,
   "id": "developed-terminology",
   "metadata": {
    "execution": {
     "iopub.execute_input": "2022-04-18T12:16:18.150807Z",
     "iopub.status.busy": "2022-04-18T12:16:18.150159Z",
     "iopub.status.idle": "2022-04-18T12:16:18.154063Z",
     "shell.execute_reply": "2022-04-18T12:16:18.154546Z"
    },
    "papermill": {
     "duration": 0.04489,
     "end_time": "2022-04-18T12:16:18.154702",
     "exception": false,
     "start_time": "2022-04-18T12:16:18.109812",
     "status": "completed"
    },
    "tags": []
   },
   "outputs": [],
   "source": [
    "#hide\n",
    "\n",
    "# FETCH\n",
    "base_url = 'https://raw.githubusercontent.com/pratapvardhan/notebooks/master/covid19/'\n",
    "paths = {\n",
    "    'mapping': base_url + 'mapping_countries.csv',\n",
    "    'overview': base_url + 'overview.tpl'\n",
    "}"
   ]
  },
  {
   "cell_type": "code",
   "execution_count": 3,
   "id": "dynamic-saver",
   "metadata": {
    "execution": {
     "iopub.execute_input": "2022-04-18T12:16:18.238733Z",
     "iopub.status.busy": "2022-04-18T12:16:18.237443Z",
     "iopub.status.idle": "2022-04-18T12:16:18.240545Z",
     "shell.execute_reply": "2022-04-18T12:16:18.241048Z"
    },
    "papermill": {
     "duration": 0.05104,
     "end_time": "2022-04-18T12:16:18.241179",
     "exception": false,
     "start_time": "2022-04-18T12:16:18.190139",
     "status": "completed"
    },
    "tags": []
   },
   "outputs": [
    {
     "data": {
      "text/plain": [
       "'https://raw.githubusercontent.com/pratapvardhan/notebooks/master/covid19/mapping_countries.csv'"
      ]
     },
     "execution_count": 3,
     "metadata": {},
     "output_type": "execute_result"
    }
   ],
   "source": [
    "#hide\n",
    "paths['mapping']"
   ]
  },
  {
   "cell_type": "code",
   "execution_count": 4,
   "id": "urban-software",
   "metadata": {
    "execution": {
     "iopub.execute_input": "2022-04-18T12:16:18.321222Z",
     "iopub.status.busy": "2022-04-18T12:16:18.320573Z",
     "iopub.status.idle": "2022-04-18T12:16:18.324236Z",
     "shell.execute_reply": "2022-04-18T12:16:18.324796Z"
    },
    "papermill": {
     "duration": 0.045984,
     "end_time": "2022-04-18T12:16:18.324928",
     "exception": false,
     "start_time": "2022-04-18T12:16:18.278944",
     "status": "completed"
    },
    "tags": []
   },
   "outputs": [],
   "source": [
    "#hide\n",
    "def get_mappings(url):\n",
    "    df = pd.read_csv(url)\n",
    "    return {\n",
    "        'df': df,\n",
    "        'replace.country': dict(df.dropna(subset=['Name']).set_index('Country')['Name']),\n",
    "        'map.continent': dict(df.set_index('Name')['Continent'])\n",
    "    }"
   ]
  },
  {
   "cell_type": "code",
   "execution_count": 5,
   "id": "intimate-machinery",
   "metadata": {
    "execution": {
     "iopub.execute_input": "2022-04-18T12:16:18.408510Z",
     "iopub.status.busy": "2022-04-18T12:16:18.407849Z",
     "iopub.status.idle": "2022-04-18T12:16:18.438132Z",
     "shell.execute_reply": "2022-04-18T12:16:18.438615Z"
    },
    "papermill": {
     "duration": 0.074955,
     "end_time": "2022-04-18T12:16:18.438759",
     "exception": false,
     "start_time": "2022-04-18T12:16:18.363804",
     "status": "completed"
    },
    "tags": []
   },
   "outputs": [],
   "source": [
    "#hide\n",
    "mapping = get_mappings(paths['mapping'])"
   ]
  },
  {
   "cell_type": "code",
   "execution_count": 6,
   "id": "certified-tactics",
   "metadata": {
    "execution": {
     "iopub.execute_input": "2022-04-18T12:16:18.518115Z",
     "iopub.status.busy": "2022-04-18T12:16:18.517467Z",
     "iopub.status.idle": "2022-04-18T12:16:18.520176Z",
     "shell.execute_reply": "2022-04-18T12:16:18.519544Z"
    },
    "papermill": {
     "duration": 0.044703,
     "end_time": "2022-04-18T12:16:18.520304",
     "exception": false,
     "start_time": "2022-04-18T12:16:18.475601",
     "status": "completed"
    },
    "tags": []
   },
   "outputs": [],
   "source": [
    "#hide\n",
    "def get_template(path):\n",
    "    from urllib.parse import urlparse\n",
    "    if bool(urlparse(path).netloc):\n",
    "        from urllib.request import urlopen\n",
    "        return urlopen(path).read().decode('utf8')\n",
    "    return open(path).read()"
   ]
  },
  {
   "cell_type": "code",
   "execution_count": 7,
   "id": "realistic-blast",
   "metadata": {
    "execution": {
     "iopub.execute_input": "2022-04-18T12:16:18.603714Z",
     "iopub.status.busy": "2022-04-18T12:16:18.602943Z",
     "iopub.status.idle": "2022-04-18T12:16:18.605766Z",
     "shell.execute_reply": "2022-04-18T12:16:18.605082Z"
    },
    "papermill": {
     "duration": 0.047141,
     "end_time": "2022-04-18T12:16:18.605892",
     "exception": false,
     "start_time": "2022-04-18T12:16:18.558751",
     "status": "completed"
    },
    "tags": []
   },
   "outputs": [],
   "source": [
    "#hide\n",
    "def get_frame(name):\n",
    "    url = (\n",
    "        'https://raw.githubusercontent.com/CSSEGISandData/COVID-19/master/csse_covid_19_data/'\n",
    "        f'csse_covid_19_time_series/time_series_covid19_{name}_global.csv')\n",
    "    df = pd.read_csv(url)\n",
    "    # rename countries\n",
    "    df['Country/Region'] = df['Country/Region'].replace(mapping['replace.country'])\n",
    "    return df"
   ]
  },
  {
   "cell_type": "code",
   "execution_count": 8,
   "id": "affiliated-characterization",
   "metadata": {
    "execution": {
     "iopub.execute_input": "2022-04-18T12:16:18.690466Z",
     "iopub.status.busy": "2022-04-18T12:16:18.689817Z",
     "iopub.status.idle": "2022-04-18T12:16:18.692209Z",
     "shell.execute_reply": "2022-04-18T12:16:18.691714Z"
    },
    "papermill": {
     "duration": 0.047393,
     "end_time": "2022-04-18T12:16:18.692336",
     "exception": false,
     "start_time": "2022-04-18T12:16:18.644943",
     "status": "completed"
    },
    "tags": []
   },
   "outputs": [],
   "source": [
    "#hide\n",
    "def get_dates(df):\n",
    "    dt_cols = df.columns[~df.columns.isin(['Province/State', 'Country/Region', 'Lat', 'Long'])]\n",
    "    LAST_DATE_I = -1\n",
    "    # sometimes last column may be empty, then go backwards\n",
    "    for i in range(-1, -len(dt_cols), -1):\n",
    "        if not df[dt_cols[i]].fillna(0).eq(0).all():\n",
    "            LAST_DATE_I = i\n",
    "            break\n",
    "    return LAST_DATE_I, dt_cols"
   ]
  },
  {
   "cell_type": "code",
   "execution_count": 9,
   "id": "recent-optimization",
   "metadata": {
    "execution": {
     "iopub.execute_input": "2022-04-18T12:16:18.779439Z",
     "iopub.status.busy": "2022-04-18T12:16:18.778751Z",
     "iopub.status.idle": "2022-04-18T12:16:19.202190Z",
     "shell.execute_reply": "2022-04-18T12:16:19.202873Z"
    },
    "papermill": {
     "duration": 0.468223,
     "end_time": "2022-04-18T12:16:19.203146",
     "exception": false,
     "start_time": "2022-04-18T12:16:18.734923",
     "status": "completed"
    },
    "tags": []
   },
   "outputs": [],
   "source": [
    "#hide\n",
    "COL_REGION = 'Country/Region'\n",
    "# Confirmed, Recovered, Deaths\n",
    "df = get_frame('confirmed')\n",
    "# dft_: timeseries, dfc_: today country agg\n",
    "dft_cases = df\n",
    "dft_deaths = get_frame('deaths')\n",
    "dft_recovered = get_frame('recovered')\n",
    "LAST_DATE_I, dt_cols = get_dates(df)"
   ]
  },
  {
   "cell_type": "code",
   "execution_count": 10,
   "id": "absolute-copper",
   "metadata": {
    "execution": {
     "iopub.execute_input": "2022-04-18T12:16:19.286237Z",
     "iopub.status.busy": "2022-04-18T12:16:19.285542Z",
     "iopub.status.idle": "2022-04-18T12:16:19.287550Z",
     "shell.execute_reply": "2022-04-18T12:16:19.288107Z"
    },
    "papermill": {
     "duration": 0.046203,
     "end_time": "2022-04-18T12:16:19.288246",
     "exception": false,
     "start_time": "2022-04-18T12:16:19.242043",
     "status": "completed"
    },
    "tags": []
   },
   "outputs": [],
   "source": [
    "#hide\n",
    "LAST_DATE_I, dt_cols = get_dates(df)\n",
    "dt_today =dt_cols[LAST_DATE_I]\n",
    "# dt_5day = dt_cols[LAST_DATE_I - 5]\n",
    "dt_yday = dt_cols[LAST_DATE_I - 1]"
   ]
  },
  {
   "cell_type": "code",
   "execution_count": 11,
   "id": "restricted-sheriff",
   "metadata": {
    "execution": {
     "iopub.execute_input": "2022-04-18T12:16:19.375368Z",
     "iopub.status.busy": "2022-04-18T12:16:19.374741Z",
     "iopub.status.idle": "2022-04-18T12:16:19.383453Z",
     "shell.execute_reply": "2022-04-18T12:16:19.384041Z"
    },
    "papermill": {
     "duration": 0.058739,
     "end_time": "2022-04-18T12:16:19.384179",
     "exception": false,
     "start_time": "2022-04-18T12:16:19.325440",
     "status": "completed"
    },
    "tags": []
   },
   "outputs": [],
   "source": [
    "#hide\n",
    "dfc_cases = dft_cases.groupby(COL_REGION)[dt_today].sum()\n",
    "dfc_deaths = dft_deaths.groupby(COL_REGION)[dt_today].sum()\n",
    "# dfp_cases = dft_cases.groupby(COL_REGION)[dt_5day].sum()\n",
    "# dfp_deaths = dft_deaths.groupby(COL_REGION)[dt_5day].sum()\n",
    "dfp_cases = dft_cases.groupby(COL_REGION)[dt_yday].sum()\n",
    "dfp_deaths = dft_deaths.groupby(COL_REGION)[dt_yday].sum()"
   ]
  },
  {
   "cell_type": "code",
   "execution_count": 12,
   "id": "deluxe-hepatitis",
   "metadata": {
    "execution": {
     "iopub.execute_input": "2022-04-18T12:16:19.468528Z",
     "iopub.status.busy": "2022-04-18T12:16:19.467698Z",
     "iopub.status.idle": "2022-04-18T12:16:19.473260Z",
     "shell.execute_reply": "2022-04-18T12:16:19.473923Z"
    },
    "papermill": {
     "duration": 0.049625,
     "end_time": "2022-04-18T12:16:19.474073",
     "exception": false,
     "start_time": "2022-04-18T12:16:19.424448",
     "status": "completed"
    },
    "tags": []
   },
   "outputs": [],
   "source": [
    "#hide\n",
    "df_table = (pd.DataFrame(dict(Cases = dfc_cases, Deaths = dfc_deaths, PCases = dfp_cases, PDeaths = dfp_deaths))\n",
    "            .sort_values(by = ['Cases','Deaths'], ascending = [False, False])\n",
    "            .reset_index())"
   ]
  },
  {
   "cell_type": "code",
   "execution_count": 13,
   "id": "educational-chancellor",
   "metadata": {
    "execution": {
     "iopub.execute_input": "2022-04-18T12:16:19.572096Z",
     "iopub.status.busy": "2022-04-18T12:16:19.571402Z",
     "iopub.status.idle": "2022-04-18T12:16:19.580690Z",
     "shell.execute_reply": "2022-04-18T12:16:19.581280Z"
    },
    "papermill": {
     "duration": 0.069209,
     "end_time": "2022-04-18T12:16:19.581416",
     "exception": false,
     "start_time": "2022-04-18T12:16:19.512207",
     "status": "completed"
    },
    "tags": []
   },
   "outputs": [
    {
     "data": {
      "text/html": [
       "<div>\n",
       "<style scoped>\n",
       "    .dataframe tbody tr th:only-of-type {\n",
       "        vertical-align: middle;\n",
       "    }\n",
       "\n",
       "    .dataframe tbody tr th {\n",
       "        vertical-align: top;\n",
       "    }\n",
       "\n",
       "    .dataframe thead th {\n",
       "        text-align: right;\n",
       "    }\n",
       "</style>\n",
       "<table border=\"1\" class=\"dataframe\">\n",
       "  <thead>\n",
       "    <tr style=\"text-align: right;\">\n",
       "      <th></th>\n",
       "      <th>Country/Region</th>\n",
       "      <th>Cases</th>\n",
       "      <th>Deaths</th>\n",
       "      <th>PCases</th>\n",
       "      <th>PDeaths</th>\n",
       "      <th>Cases (+)</th>\n",
       "      <th>Deaths (+)</th>\n",
       "      <th>Fatality Rate</th>\n",
       "      <th>Continent</th>\n",
       "    </tr>\n",
       "  </thead>\n",
       "  <tbody>\n",
       "    <tr>\n",
       "      <th>0</th>\n",
       "      <td>US</td>\n",
       "      <td>80632301</td>\n",
       "      <td>988618</td>\n",
       "      <td>80625120</td>\n",
       "      <td>988609</td>\n",
       "      <td>7181</td>\n",
       "      <td>9</td>\n",
       "      <td>1.23</td>\n",
       "      <td>North America</td>\n",
       "    </tr>\n",
       "    <tr>\n",
       "      <th>1</th>\n",
       "      <td>India</td>\n",
       "      <td>43044280</td>\n",
       "      <td>521965</td>\n",
       "      <td>43042097</td>\n",
       "      <td>521751</td>\n",
       "      <td>2183</td>\n",
       "      <td>214</td>\n",
       "      <td>1.21</td>\n",
       "      <td>Asia</td>\n",
       "    </tr>\n",
       "    <tr>\n",
       "      <th>2</th>\n",
       "      <td>Brazil</td>\n",
       "      <td>30252618</td>\n",
       "      <td>662207</td>\n",
       "      <td>30250077</td>\n",
       "      <td>662185</td>\n",
       "      <td>2541</td>\n",
       "      <td>22</td>\n",
       "      <td>2.19</td>\n",
       "      <td>South America</td>\n",
       "    </tr>\n",
       "    <tr>\n",
       "      <th>3</th>\n",
       "      <td>France</td>\n",
       "      <td>27960919</td>\n",
       "      <td>145194</td>\n",
       "      <td>27874269</td>\n",
       "      <td>145159</td>\n",
       "      <td>86650</td>\n",
       "      <td>35</td>\n",
       "      <td>0.52</td>\n",
       "      <td>Europe</td>\n",
       "    </tr>\n",
       "    <tr>\n",
       "      <th>4</th>\n",
       "      <td>Germany</td>\n",
       "      <td>23437145</td>\n",
       "      <td>132953</td>\n",
       "      <td>23416663</td>\n",
       "      <td>132942</td>\n",
       "      <td>20482</td>\n",
       "      <td>11</td>\n",
       "      <td>0.57</td>\n",
       "      <td>Europe</td>\n",
       "    </tr>\n",
       "  </tbody>\n",
       "</table>\n",
       "</div>"
      ],
      "text/plain": [
       "  Country/Region     Cases  Deaths    PCases  PDeaths  Cases (+)  Deaths (+)  \\\n",
       "0             US  80632301  988618  80625120   988609       7181           9   \n",
       "1          India  43044280  521965  43042097   521751       2183         214   \n",
       "2         Brazil  30252618  662207  30250077   662185       2541          22   \n",
       "3         France  27960919  145194  27874269   145159      86650          35   \n",
       "4        Germany  23437145  132953  23416663   132942      20482          11   \n",
       "\n",
       "   Fatality Rate      Continent  \n",
       "0           1.23  North America  \n",
       "1           1.21           Asia  \n",
       "2           2.19  South America  \n",
       "3           0.52         Europe  \n",
       "4           0.57         Europe  "
      ]
     },
     "execution_count": 13,
     "metadata": {},
     "output_type": "execute_result"
    }
   ],
   "source": [
    "#hide\n",
    "for c in 'Cases, Deaths'.split(', '):\n",
    "    df_table[f'{c} (+)'] = (df_table[c] - df_table[f'P{c}']).clip(0)\n",
    "    #Clip ça veut dire, les chiffres negatif sont interdit\n",
    "df_table['Fatality Rate'] = (100* df_table['Deaths']/ df_table['Cases']).round(2)\n",
    "df_table['Continent'] = df_table['Country/Region'].map(mapping['map.continent'])\n",
    "df_table.head(5)"
   ]
  },
  {
   "cell_type": "code",
   "execution_count": 14,
   "id": "aboriginal-bulgaria",
   "metadata": {
    "execution": {
     "iopub.execute_input": "2022-04-18T12:16:19.664061Z",
     "iopub.status.busy": "2022-04-18T12:16:19.663319Z",
     "iopub.status.idle": "2022-04-18T12:16:19.665685Z",
     "shell.execute_reply": "2022-04-18T12:16:19.666279Z"
    },
    "papermill": {
     "duration": 0.046811,
     "end_time": "2022-04-18T12:16:19.666415",
     "exception": false,
     "start_time": "2022-04-18T12:16:19.619604",
     "status": "completed"
    },
    "tags": []
   },
   "outputs": [],
   "source": [
    "#hide\n",
    "#delete problematic countries from table\n",
    "df_table = df_table[~df_table['Country/Region'].isin(['Cape Verde', 'Cruise Ship', 'Kosovo'])]"
   ]
  },
  {
   "cell_type": "code",
   "execution_count": 15,
   "id": "fantastic-effect",
   "metadata": {
    "execution": {
     "iopub.execute_input": "2022-04-18T12:16:19.750681Z",
     "iopub.status.busy": "2022-04-18T12:16:19.750020Z",
     "iopub.status.idle": "2022-04-18T12:16:19.773823Z",
     "shell.execute_reply": "2022-04-18T12:16:19.774332Z"
    },
    "papermill": {
     "duration": 0.071371,
     "end_time": "2022-04-18T12:16:19.774465",
     "exception": false,
     "start_time": "2022-04-18T12:16:19.703094",
     "status": "completed"
    },
    "tags": []
   },
   "outputs": [
    {
     "data": {
      "text/html": [
       "<div>\n",
       "<style scoped>\n",
       "    .dataframe tbody tr th:only-of-type {\n",
       "        vertical-align: middle;\n",
       "    }\n",
       "\n",
       "    .dataframe tbody tr th {\n",
       "        vertical-align: top;\n",
       "    }\n",
       "\n",
       "    .dataframe thead th {\n",
       "        text-align: right;\n",
       "    }\n",
       "</style>\n",
       "<table border=\"1\" class=\"dataframe\">\n",
       "  <thead>\n",
       "    <tr style=\"text-align: right;\">\n",
       "      <th></th>\n",
       "      <th>Country/Region</th>\n",
       "      <th>Cases</th>\n",
       "      <th>Deaths</th>\n",
       "      <th>PCases</th>\n",
       "      <th>PDeaths</th>\n",
       "      <th>Cases (+)</th>\n",
       "      <th>Deaths (+)</th>\n",
       "      <th>Fatality Rate</th>\n",
       "      <th>Continent</th>\n",
       "    </tr>\n",
       "  </thead>\n",
       "  <tbody>\n",
       "    <tr>\n",
       "      <th>0</th>\n",
       "      <td>US</td>\n",
       "      <td>80632301</td>\n",
       "      <td>988618</td>\n",
       "      <td>80625120</td>\n",
       "      <td>988609</td>\n",
       "      <td>7181</td>\n",
       "      <td>9</td>\n",
       "      <td>1.2</td>\n",
       "      <td>North America</td>\n",
       "    </tr>\n",
       "    <tr>\n",
       "      <th>1</th>\n",
       "      <td>India</td>\n",
       "      <td>43044280</td>\n",
       "      <td>521965</td>\n",
       "      <td>43042097</td>\n",
       "      <td>521751</td>\n",
       "      <td>2183</td>\n",
       "      <td>214</td>\n",
       "      <td>1.2</td>\n",
       "      <td>Asia</td>\n",
       "    </tr>\n",
       "    <tr>\n",
       "      <th>2</th>\n",
       "      <td>Brazil</td>\n",
       "      <td>30252618</td>\n",
       "      <td>662207</td>\n",
       "      <td>30250077</td>\n",
       "      <td>662185</td>\n",
       "      <td>2541</td>\n",
       "      <td>22</td>\n",
       "      <td>2.2</td>\n",
       "      <td>South America</td>\n",
       "    </tr>\n",
       "    <tr>\n",
       "      <th>3</th>\n",
       "      <td>France</td>\n",
       "      <td>27960919</td>\n",
       "      <td>145194</td>\n",
       "      <td>27874269</td>\n",
       "      <td>145159</td>\n",
       "      <td>86650</td>\n",
       "      <td>35</td>\n",
       "      <td>0.5</td>\n",
       "      <td>Europe</td>\n",
       "    </tr>\n",
       "    <tr>\n",
       "      <th>4</th>\n",
       "      <td>Germany</td>\n",
       "      <td>23437145</td>\n",
       "      <td>132953</td>\n",
       "      <td>23416663</td>\n",
       "      <td>132942</td>\n",
       "      <td>20482</td>\n",
       "      <td>11</td>\n",
       "      <td>0.6</td>\n",
       "      <td>Europe</td>\n",
       "    </tr>\n",
       "  </tbody>\n",
       "</table>\n",
       "</div>"
      ],
      "text/plain": [
       "  Country/Region     Cases  Deaths    PCases  PDeaths  Cases (+)  Deaths (+)  \\\n",
       "0             US  80632301  988618  80625120   988609       7181           9   \n",
       "1          India  43044280  521965  43042097   521751       2183         214   \n",
       "2         Brazil  30252618  662207  30250077   662185       2541          22   \n",
       "3         France  27960919  145194  27874269   145159      86650          35   \n",
       "4        Germany  23437145  132953  23416663   132942      20482          11   \n",
       "\n",
       "   Fatality Rate      Continent  \n",
       "0            1.2  North America  \n",
       "1            1.2           Asia  \n",
       "2            2.2  South America  \n",
       "3            0.5         Europe  \n",
       "4            0.6         Europe  "
      ]
     },
     "execution_count": 15,
     "metadata": {},
     "output_type": "execute_result"
    }
   ],
   "source": [
    "#hide\n",
    "df_table = (pd.DataFrame(dict(Cases=dfc_cases, Deaths=dfc_deaths, PCases=dfp_cases, PDeaths=dfp_deaths))\n",
    "             .sort_values(by=['Cases', 'Deaths'], ascending=[False, False])\n",
    "             .reset_index())\n",
    "df_table.rename(columns={'index': 'Country/Region'}, inplace=True)\n",
    "for c in 'Cases, Deaths'.split(', '):\n",
    "    df_table[f'{c} (+)'] = (df_table[c] - df_table[f'P{c}']).clip(0)  # DATA BUG\n",
    "df_table['Fatality Rate'] = (100 * df_table['Deaths'] / df_table['Cases']).round(1)\n",
    "df_table['Continent'] = df_table['Country/Region'].map(mapping['map.continent'])\n",
    "df_table.head(5)"
   ]
  },
  {
   "cell_type": "code",
   "execution_count": 16,
   "id": "fewer-occasion",
   "metadata": {
    "execution": {
     "iopub.execute_input": "2022-04-18T12:16:19.856624Z",
     "iopub.status.busy": "2022-04-18T12:16:19.855916Z",
     "iopub.status.idle": "2022-04-18T12:16:19.859440Z",
     "shell.execute_reply": "2022-04-18T12:16:19.860028Z"
    },
    "papermill": {
     "duration": 0.047752,
     "end_time": "2022-04-18T12:16:19.860175",
     "exception": false,
     "start_time": "2022-04-18T12:16:19.812423",
     "status": "completed"
    },
    "tags": []
   },
   "outputs": [],
   "source": [
    "#hide\n",
    "#delete problematic countries from table\n",
    "df_table = df_table[~df_table['Country/Region'].isin(['Cape Verde', 'Cruise Ship', 'Kosovo'])]"
   ]
  },
  {
   "cell_type": "code",
   "execution_count": 17,
   "id": "related-center",
   "metadata": {
    "execution": {
     "iopub.execute_input": "2022-04-18T12:16:19.957324Z",
     "iopub.status.busy": "2022-04-18T12:16:19.956628Z",
     "iopub.status.idle": "2022-04-18T12:16:19.959563Z",
     "shell.execute_reply": "2022-04-18T12:16:19.959054Z"
    },
    "papermill": {
     "duration": 0.061682,
     "end_time": "2022-04-18T12:16:19.959697",
     "exception": false,
     "start_time": "2022-04-18T12:16:19.898015",
     "status": "completed"
    },
    "tags": []
   },
   "outputs": [],
   "source": [
    "#hide\n",
    "metrics = [df_table.columns[index] for index in [1,2,5,6]]\n",
    "# s_china = df_table[df_table['Country/Region'].eq('China')][metrics].sum().add_prefix('China ')\n",
    "s_us = df_table[df_table['Country/Region'].eq('US')][metrics].sum().add_prefix('US ')\n",
    "s_eu = df_table[df_table['Continent'].eq('Europe')][metrics].sum().add_prefix('EU ')\n",
    "s_ind = df_table[df_table['Country/Region'].eq('India')][metrics].sum().add_prefix('India ')\n",
    "summary = {'updated': pd.to_datetime(dt_today), 'since': pd.to_datetime(dt_yday)}\n",
    "summary = {'updated': pd.to_datetime(dt_today), 'since': pd.to_datetime(dt_yday)}\n",
    "summary = {**summary, **df_table[metrics].sum(), **s_ind, **s_us, **s_eu}"
   ]
  },
  {
   "cell_type": "code",
   "execution_count": 18,
   "id": "engaging-syndrome",
   "metadata": {
    "execution": {
     "iopub.execute_input": "2022-04-18T12:16:20.039672Z",
     "iopub.status.busy": "2022-04-18T12:16:20.039036Z",
     "iopub.status.idle": "2022-04-18T12:16:20.060324Z",
     "shell.execute_reply": "2022-04-18T12:16:20.059575Z"
    },
    "papermill": {
     "duration": 0.06339,
     "end_time": "2022-04-18T12:16:20.060465",
     "exception": false,
     "start_time": "2022-04-18T12:16:19.997075",
     "status": "completed"
    },
    "tags": []
   },
   "outputs": [],
   "source": [
    "#hide\n",
    "dft_ct_new_cases = dft_cases.groupby(COL_REGION)[dt_cols].sum().diff(axis=1).fillna(0).astype(int)"
   ]
  },
  {
   "cell_type": "code",
   "execution_count": 19,
   "id": "neutral-assignment",
   "metadata": {
    "execution": {
     "iopub.execute_input": "2022-04-18T12:16:20.142827Z",
     "iopub.status.busy": "2022-04-18T12:16:20.142032Z",
     "iopub.status.idle": "2022-04-18T12:16:20.147807Z",
     "shell.execute_reply": "2022-04-18T12:16:20.147250Z"
    },
    "papermill": {
     "duration": 0.048095,
     "end_time": "2022-04-18T12:16:20.147938",
     "exception": false,
     "start_time": "2022-04-18T12:16:20.099843",
     "status": "completed"
    },
    "tags": []
   },
   "outputs": [],
   "source": [
    "#hide\n",
    "everydaycases = dft_ct_new_cases.cumsum(axis=1)"
   ]
  },
  {
   "cell_type": "code",
   "execution_count": 20,
   "id": "parliamentary-calgary",
   "metadata": {
    "execution": {
     "iopub.execute_input": "2022-04-18T12:16:20.228125Z",
     "iopub.status.busy": "2022-04-18T12:16:20.227456Z",
     "iopub.status.idle": "2022-04-18T12:16:20.884777Z",
     "shell.execute_reply": "2022-04-18T12:16:20.885271Z"
    },
    "papermill": {
     "duration": 0.699493,
     "end_time": "2022-04-18T12:16:20.885437",
     "exception": false,
     "start_time": "2022-04-18T12:16:20.185944",
     "status": "completed"
    },
    "tags": []
   },
   "outputs": [],
   "source": [
    "#hide\n",
    "import pandas as pd\n",
    "import matplotlib.pyplot as plt\n",
    "import matplotlib.ticker as ticker\n",
    "import matplotlib.animation as animation\n",
    "from IPython.display import HTML"
   ]
  },
  {
   "cell_type": "code",
   "execution_count": 21,
   "id": "lasting-extraction",
   "metadata": {
    "execution": {
     "iopub.execute_input": "2022-04-18T12:16:20.970727Z",
     "iopub.status.busy": "2022-04-18T12:16:20.970051Z",
     "iopub.status.idle": "2022-04-18T12:16:20.976735Z",
     "shell.execute_reply": "2022-04-18T12:16:20.977368Z"
    },
    "papermill": {
     "duration": 0.052476,
     "end_time": "2022-04-18T12:16:20.977536",
     "exception": false,
     "start_time": "2022-04-18T12:16:20.925060",
     "status": "completed"
    },
    "tags": []
   },
   "outputs": [],
   "source": [
    "#hide\n",
    "t = everydaycases.stack()"
   ]
  },
  {
   "cell_type": "code",
   "execution_count": 22,
   "id": "premier-sleeve",
   "metadata": {
    "execution": {
     "iopub.execute_input": "2022-04-18T12:16:21.063339Z",
     "iopub.status.busy": "2022-04-18T12:16:21.062617Z",
     "iopub.status.idle": "2022-04-18T12:16:21.074238Z",
     "shell.execute_reply": "2022-04-18T12:16:21.074837Z"
    },
    "papermill": {
     "duration": 0.05525,
     "end_time": "2022-04-18T12:16:21.074973",
     "exception": false,
     "start_time": "2022-04-18T12:16:21.019723",
     "status": "completed"
    },
    "tags": []
   },
   "outputs": [],
   "source": [
    "#hide\n",
    "g = t.reset_index(['Country/Region'])"
   ]
  },
  {
   "cell_type": "code",
   "execution_count": 23,
   "id": "distributed-pittsburgh",
   "metadata": {
    "execution": {
     "iopub.execute_input": "2022-04-18T12:16:21.156164Z",
     "iopub.status.busy": "2022-04-18T12:16:21.155526Z",
     "iopub.status.idle": "2022-04-18T12:16:21.157976Z",
     "shell.execute_reply": "2022-04-18T12:16:21.158444Z"
    },
    "papermill": {
     "duration": 0.044079,
     "end_time": "2022-04-18T12:16:21.158570",
     "exception": false,
     "start_time": "2022-04-18T12:16:21.114491",
     "status": "completed"
    },
    "tags": []
   },
   "outputs": [],
   "source": [
    "#hide\n",
    "g.index.name = 'date'"
   ]
  },
  {
   "cell_type": "code",
   "execution_count": 24,
   "id": "naked-donor",
   "metadata": {
    "execution": {
     "iopub.execute_input": "2022-04-18T12:16:21.238100Z",
     "iopub.status.busy": "2022-04-18T12:16:21.237486Z",
     "iopub.status.idle": "2022-04-18T12:16:21.239863Z",
     "shell.execute_reply": "2022-04-18T12:16:21.239311Z"
    },
    "papermill": {
     "duration": 0.044112,
     "end_time": "2022-04-18T12:16:21.239983",
     "exception": false,
     "start_time": "2022-04-18T12:16:21.195871",
     "status": "completed"
    },
    "tags": []
   },
   "outputs": [],
   "source": [
    "# #hide\n",
    "# g = g.reset_index(['date'])"
   ]
  },
  {
   "cell_type": "code",
   "execution_count": 25,
   "id": "incomplete-mustang",
   "metadata": {
    "execution": {
     "iopub.execute_input": "2022-04-18T12:16:21.323456Z",
     "iopub.status.busy": "2022-04-18T12:16:21.322768Z",
     "iopub.status.idle": "2022-04-18T12:16:21.326455Z",
     "shell.execute_reply": "2022-04-18T12:16:21.325826Z"
    },
    "papermill": {
     "duration": 0.046387,
     "end_time": "2022-04-18T12:16:21.326618",
     "exception": false,
     "start_time": "2022-04-18T12:16:21.280231",
     "status": "completed"
    },
    "tags": []
   },
   "outputs": [],
   "source": [
    "#hide\n",
    "# g.head()"
   ]
  },
  {
   "cell_type": "code",
   "execution_count": 26,
   "id": "specific-kruger",
   "metadata": {
    "execution": {
     "iopub.execute_input": "2022-04-18T12:16:21.409759Z",
     "iopub.status.busy": "2022-04-18T12:16:21.409064Z",
     "iopub.status.idle": "2022-04-18T12:16:21.410967Z",
     "shell.execute_reply": "2022-04-18T12:16:21.411546Z"
    },
    "papermill": {
     "duration": 0.045992,
     "end_time": "2022-04-18T12:16:21.411770",
     "exception": false,
     "start_time": "2022-04-18T12:16:21.365778",
     "status": "completed"
    },
    "tags": []
   },
   "outputs": [],
   "source": [
    "#hide\n",
    "# g.columns = ['date','country','cases']"
   ]
  },
  {
   "cell_type": "code",
   "execution_count": 27,
   "id": "tender-conversion",
   "metadata": {
    "execution": {
     "iopub.execute_input": "2022-04-18T12:16:21.495293Z",
     "iopub.status.busy": "2022-04-18T12:16:21.494619Z",
     "iopub.status.idle": "2022-04-18T12:16:21.497415Z",
     "shell.execute_reply": "2022-04-18T12:16:21.496725Z"
    },
    "papermill": {
     "duration": 0.046078,
     "end_time": "2022-04-18T12:16:21.497581",
     "exception": false,
     "start_time": "2022-04-18T12:16:21.451503",
     "status": "completed"
    },
    "tags": []
   },
   "outputs": [],
   "source": [
    "#hide\n",
    "# g['continent'] = g.country"
   ]
  },
  {
   "cell_type": "code",
   "execution_count": 28,
   "id": "substantial-wilderness",
   "metadata": {
    "execution": {
     "iopub.execute_input": "2022-04-18T12:16:21.579465Z",
     "iopub.status.busy": "2022-04-18T12:16:21.578805Z",
     "iopub.status.idle": "2022-04-18T12:16:21.581068Z",
     "shell.execute_reply": "2022-04-18T12:16:21.581618Z"
    },
    "papermill": {
     "duration": 0.046488,
     "end_time": "2022-04-18T12:16:21.581753",
     "exception": false,
     "start_time": "2022-04-18T12:16:21.535265",
     "status": "completed"
    },
    "tags": []
   },
   "outputs": [],
   "source": [
    "#hide\n",
    "# cols = list(g.columns.values)"
   ]
  },
  {
   "cell_type": "code",
   "execution_count": 29,
   "id": "solved-farming",
   "metadata": {
    "execution": {
     "iopub.execute_input": "2022-04-18T12:16:21.662123Z",
     "iopub.status.busy": "2022-04-18T12:16:21.661379Z",
     "iopub.status.idle": "2022-04-18T12:16:21.663513Z",
     "shell.execute_reply": "2022-04-18T12:16:21.664014Z"
    },
    "papermill": {
     "duration": 0.044183,
     "end_time": "2022-04-18T12:16:21.664177",
     "exception": false,
     "start_time": "2022-04-18T12:16:21.619994",
     "status": "completed"
    },
    "tags": []
   },
   "outputs": [],
   "source": [
    "#hide\n",
    "# cols.insert(0, cols.pop())"
   ]
  },
  {
   "cell_type": "code",
   "execution_count": 30,
   "id": "executed-adoption",
   "metadata": {
    "execution": {
     "iopub.execute_input": "2022-04-18T12:16:21.744734Z",
     "iopub.status.busy": "2022-04-18T12:16:21.743979Z",
     "iopub.status.idle": "2022-04-18T12:16:21.746825Z",
     "shell.execute_reply": "2022-04-18T12:16:21.746242Z"
    },
    "papermill": {
     "duration": 0.045024,
     "end_time": "2022-04-18T12:16:21.746962",
     "exception": false,
     "start_time": "2022-04-18T12:16:21.701938",
     "status": "completed"
    },
    "tags": []
   },
   "outputs": [],
   "source": [
    "#hide\n",
    "# g = g[cols]"
   ]
  },
  {
   "cell_type": "code",
   "execution_count": 31,
   "id": "subject-dublin",
   "metadata": {
    "execution": {
     "iopub.execute_input": "2022-04-18T12:16:21.830318Z",
     "iopub.status.busy": "2022-04-18T12:16:21.829388Z",
     "iopub.status.idle": "2022-04-18T12:16:21.832815Z",
     "shell.execute_reply": "2022-04-18T12:16:21.833374Z"
    },
    "papermill": {
     "duration": 0.047122,
     "end_time": "2022-04-18T12:16:21.833546",
     "exception": false,
     "start_time": "2022-04-18T12:16:21.786424",
     "status": "completed"
    },
    "tags": []
   },
   "outputs": [],
   "source": [
    "#hide\n",
    "# g['continent'] = g['continent'].map(mapping['map.continent'])"
   ]
  },
  {
   "cell_type": "code",
   "execution_count": 32,
   "id": "freelance-scout",
   "metadata": {
    "execution": {
     "iopub.execute_input": "2022-04-18T12:16:21.915437Z",
     "iopub.status.busy": "2022-04-18T12:16:21.914779Z",
     "iopub.status.idle": "2022-04-18T12:16:21.916996Z",
     "shell.execute_reply": "2022-04-18T12:16:21.917545Z"
    },
    "papermill": {
     "duration": 0.046843,
     "end_time": "2022-04-18T12:16:21.917701",
     "exception": false,
     "start_time": "2022-04-18T12:16:21.870858",
     "status": "completed"
    },
    "tags": []
   },
   "outputs": [],
   "source": [
    "#hide\n",
    "# g.head()"
   ]
  },
  {
   "cell_type": "code",
   "execution_count": 33,
   "id": "limited-engine",
   "metadata": {
    "execution": {
     "iopub.execute_input": "2022-04-18T12:16:21.997579Z",
     "iopub.status.busy": "2022-04-18T12:16:21.996846Z",
     "iopub.status.idle": "2022-04-18T12:16:21.999244Z",
     "shell.execute_reply": "2022-04-18T12:16:21.998495Z"
    },
    "papermill": {
     "duration": 0.043766,
     "end_time": "2022-04-18T12:16:21.999362",
     "exception": false,
     "start_time": "2022-04-18T12:16:21.955596",
     "status": "completed"
    },
    "tags": []
   },
   "outputs": [],
   "source": [
    "# hide\n",
    "# g['date'] = g['date'].astype('datetime64[ns]')"
   ]
  },
  {
   "cell_type": "code",
   "execution_count": 34,
   "id": "sophisticated-supervisor",
   "metadata": {
    "execution": {
     "iopub.execute_input": "2022-04-18T12:16:22.081239Z",
     "iopub.status.busy": "2022-04-18T12:16:22.080585Z",
     "iopub.status.idle": "2022-04-18T12:16:22.083019Z",
     "shell.execute_reply": "2022-04-18T12:16:22.082225Z"
    },
    "papermill": {
     "duration": 0.045563,
     "end_time": "2022-04-18T12:16:22.083141",
     "exception": false,
     "start_time": "2022-04-18T12:16:22.037578",
     "status": "completed"
    },
    "tags": []
   },
   "outputs": [],
   "source": [
    "#hide\n",
    "# g['date'] = g.date.dt.dayofyear"
   ]
  },
  {
   "cell_type": "code",
   "execution_count": 35,
   "id": "inside-dubai",
   "metadata": {
    "execution": {
     "iopub.execute_input": "2022-04-18T12:16:22.170683Z",
     "iopub.status.busy": "2022-04-18T12:16:22.169852Z",
     "iopub.status.idle": "2022-04-18T12:16:22.172751Z",
     "shell.execute_reply": "2022-04-18T12:16:22.172170Z"
    },
    "papermill": {
     "duration": 0.049154,
     "end_time": "2022-04-18T12:16:22.172879",
     "exception": false,
     "start_time": "2022-04-18T12:16:22.123725",
     "status": "completed"
    },
    "tags": []
   },
   "outputs": [],
   "source": [
    "#hide\n",
    "# g = g.rename(columns= {'continent':'group','country':'name','cases':'value'})"
   ]
  },
  {
   "cell_type": "code",
   "execution_count": 36,
   "id": "fleet-motorcycle",
   "metadata": {
    "execution": {
     "iopub.execute_input": "2022-04-18T12:16:22.252039Z",
     "iopub.status.busy": "2022-04-18T12:16:22.251388Z",
     "iopub.status.idle": "2022-04-18T12:16:22.253694Z",
     "shell.execute_reply": "2022-04-18T12:16:22.254848Z"
    },
    "papermill": {
     "duration": 0.044484,
     "end_time": "2022-04-18T12:16:22.254993",
     "exception": false,
     "start_time": "2022-04-18T12:16:22.210509",
     "status": "completed"
    },
    "tags": []
   },
   "outputs": [],
   "source": [
    "#hide\n",
    "# cols = ['name','group','day','value']"
   ]
  },
  {
   "cell_type": "code",
   "execution_count": 37,
   "id": "continued-sleeping",
   "metadata": {
    "execution": {
     "iopub.execute_input": "2022-04-18T12:16:22.337702Z",
     "iopub.status.busy": "2022-04-18T12:16:22.336956Z",
     "iopub.status.idle": "2022-04-18T12:16:22.339209Z",
     "shell.execute_reply": "2022-04-18T12:16:22.339792Z"
    },
    "papermill": {
     "duration": 0.044571,
     "end_time": "2022-04-18T12:16:22.339963",
     "exception": false,
     "start_time": "2022-04-18T12:16:22.295392",
     "status": "completed"
    },
    "tags": []
   },
   "outputs": [],
   "source": [
    "#hide\n",
    "# g.rename(columns= {'date':'day'},inplace = True)"
   ]
  },
  {
   "cell_type": "code",
   "execution_count": 38,
   "id": "major-fight",
   "metadata": {
    "execution": {
     "iopub.execute_input": "2022-04-18T12:16:22.420867Z",
     "iopub.status.busy": "2022-04-18T12:16:22.420121Z",
     "iopub.status.idle": "2022-04-18T12:16:22.422289Z",
     "shell.execute_reply": "2022-04-18T12:16:22.422773Z"
    },
    "papermill": {
     "duration": 0.04376,
     "end_time": "2022-04-18T12:16:22.422929",
     "exception": false,
     "start_time": "2022-04-18T12:16:22.379169",
     "status": "completed"
    },
    "tags": []
   },
   "outputs": [],
   "source": [
    "#hide\n",
    "# g = g[cols]"
   ]
  },
  {
   "cell_type": "code",
   "execution_count": 39,
   "id": "structured-mobile",
   "metadata": {
    "execution": {
     "iopub.execute_input": "2022-04-18T12:16:22.502025Z",
     "iopub.status.busy": "2022-04-18T12:16:22.501405Z",
     "iopub.status.idle": "2022-04-18T12:16:22.503582Z",
     "shell.execute_reply": "2022-04-18T12:16:22.504050Z"
    },
    "papermill": {
     "duration": 0.042472,
     "end_time": "2022-04-18T12:16:22.504172",
     "exception": false,
     "start_time": "2022-04-18T12:16:22.461700",
     "status": "completed"
    },
    "tags": []
   },
   "outputs": [],
   "source": [
    "# #hide\n",
    "# g = g[g.group.notna()]"
   ]
  },
  {
   "cell_type": "code",
   "execution_count": 40,
   "id": "determined-closing",
   "metadata": {
    "execution": {
     "iopub.execute_input": "2022-04-18T12:16:22.583885Z",
     "iopub.status.busy": "2022-04-18T12:16:22.583227Z",
     "iopub.status.idle": "2022-04-18T12:16:22.585704Z",
     "shell.execute_reply": "2022-04-18T12:16:22.585118Z"
    },
    "papermill": {
     "duration": 0.043831,
     "end_time": "2022-04-18T12:16:22.585852",
     "exception": false,
     "start_time": "2022-04-18T12:16:22.542021",
     "status": "completed"
    },
    "tags": []
   },
   "outputs": [],
   "source": [
    "# #hide\n",
    "# colors = dict(zip(\n",
    "#     [\"Oceania\", \"Europe\", \"Asia\", \"South America\", \"Middle East\", \"North America\", \"Africa\"],\n",
    "#     [\"#adb0ff\", \"#ffb3ff\", \"#90d595\", \"#e48381\", \"#aafbff\", \"#f7bb5f\", \"#eafb50\"]\n",
    "# ))\n",
    "# group_lk = g.set_index('name')['group'].to_dict()"
   ]
  },
  {
   "cell_type": "code",
   "execution_count": null,
   "id": "gross-drinking",
   "metadata": {
    "papermill": {
     "duration": 0.042167,
     "end_time": "2022-04-18T12:16:22.667351",
     "exception": false,
     "start_time": "2022-04-18T12:16:22.625184",
     "status": "completed"
    },
    "tags": []
   },
   "outputs": [],
   "source": []
  },
  {
   "cell_type": "code",
   "execution_count": 41,
   "id": "subject-macintosh",
   "metadata": {
    "execution": {
     "iopub.execute_input": "2022-04-18T12:16:22.747453Z",
     "iopub.status.busy": "2022-04-18T12:16:22.746778Z",
     "iopub.status.idle": "2022-04-18T12:16:22.749481Z",
     "shell.execute_reply": "2022-04-18T12:16:22.750063Z"
    },
    "papermill": {
     "duration": 0.045306,
     "end_time": "2022-04-18T12:16:22.750253",
     "exception": false,
     "start_time": "2022-04-18T12:16:22.704947",
     "status": "completed"
    },
    "tags": []
   },
   "outputs": [],
   "source": [
    "# #hide\n",
    "# fig, ax = plt.subplots(figsize=(15, 8))\n",
    "\n",
    "# def draw_barchart(current_day):\n",
    "#     dff = g[g['day'].eq(current_day)].sort_values(by='value', ascending=True).tail(10)\n",
    "#     ax.clear()\n",
    "#     ax.barh(dff['name'], dff['value'], color=[colors[group_lk[x]] for x in dff['name']])\n",
    "#     dx = dff['value'].max() / 200\n",
    "    \n",
    "#     for i, (value, name) in enumerate(zip(dff['value'], dff['name'])):\n",
    "#         ax.text(value-dx, i,     name,           size=14, weight=600, ha='right', va='bottom')\n",
    "#         ax.text(value-dx, i-.25, group_lk[name], size=10, color='#444444', ha='right', va='baseline')\n",
    "#         ax.text(value+dx, i,     f'{value:,.0f}',  size=14, ha='left',  va='center')\n",
    "#     ax.text(1, 0.4, current_day, transform=ax.transAxes, color='#777777', size=46, ha='right', weight=800)\n",
    "#     ax.text(0, 1.06, 'Population (thousands)', transform=ax.transAxes, size=12, color='#777777')\n",
    "#     ax.xaxis.set_major_formatter(ticker.StrMethodFormatter('{x:,.0f}'))\n",
    "#     ax.xaxis.set_ticks_position('top')\n",
    "#     ax.tick_params(axis='x', colors='#777777', labelsize=12)\n",
    "#     ax.set_yticks([])\n",
    "#     ax.margins(0, 0.01)\n",
    "#     ax.grid(which='major', axis='x', linestyle='-')\n",
    "#     ax.set_axisbelow(True)\n",
    "    \n",
    "#     ax.text(0, 1.15, 'Coronavirus',\n",
    "#             transform=ax.transAxes, size=24, weight=600, ha='left', va='top')\n",
    "# #     ax.text(1, 0, 'by @pratapvardhan; credit @jburnmurdoch', transform=ax.transAxes, color='#777777', ha='right',\n",
    "# #             bbox=dict(facecolor='white', alpha=0.8, edgecolor='white'))\n",
    "#     plt.box(False)"
   ]
  },
  {
   "cell_type": "code",
   "execution_count": 42,
   "id": "sexual-wages",
   "metadata": {
    "execution": {
     "iopub.execute_input": "2022-04-18T12:16:22.828649Z",
     "iopub.status.busy": "2022-04-18T12:16:22.827953Z",
     "iopub.status.idle": "2022-04-18T12:16:22.831932Z",
     "shell.execute_reply": "2022-04-18T12:16:22.832444Z"
    },
    "papermill": {
     "duration": 0.044459,
     "end_time": "2022-04-18T12:16:22.832598",
     "exception": false,
     "start_time": "2022-04-18T12:16:22.788139",
     "status": "completed"
    },
    "tags": []
   },
   "outputs": [],
   "source": [
    "# #hide_input\n",
    "# fig, ax = plt.subplots(figsize=(15, 8))\n",
    "# animator = animation.FuncAnimation(fig, draw_barchart, frames=range(g.day.values.min(), g.day.values.max()))\n",
    "# HTML(animator.to_jshtml())\n",
    "# # or use animator.to_html5_video() or animator.save() "
   ]
  },
  {
   "cell_type": "code",
   "execution_count": null,
   "id": "australian-container",
   "metadata": {
    "papermill": {
     "duration": 0.037767,
     "end_time": "2022-04-18T12:16:22.909215",
     "exception": false,
     "start_time": "2022-04-18T12:16:22.871448",
     "status": "completed"
    },
    "tags": []
   },
   "outputs": [],
   "source": []
  },
  {
   "cell_type": "code",
   "execution_count": null,
   "id": "mediterranean-pontiac",
   "metadata": {
    "papermill": {
     "duration": 0.039156,
     "end_time": "2022-04-18T12:16:22.986156",
     "exception": false,
     "start_time": "2022-04-18T12:16:22.947000",
     "status": "completed"
    },
    "tags": []
   },
   "outputs": [],
   "source": []
  },
  {
   "cell_type": "code",
   "execution_count": null,
   "id": "aging-legislature",
   "metadata": {
    "papermill": {
     "duration": 0.039074,
     "end_time": "2022-04-18T12:16:23.063690",
     "exception": false,
     "start_time": "2022-04-18T12:16:23.024616",
     "status": "completed"
    },
    "tags": []
   },
   "outputs": [],
   "source": []
  }
 ],
 "metadata": {
  "kernelspec": {
   "display_name": "Python 3",
   "language": "python",
   "name": "python3"
  },
  "language_info": {
   "codemirror_mode": {
    "name": "ipython",
    "version": 3
   },
   "file_extension": ".py",
   "mimetype": "text/x-python",
   "name": "python",
   "nbconvert_exporter": "python",
   "pygments_lexer": "ipython3",
   "version": "3.6.15"
  },
  "papermill": {
   "duration": 7.267022,
   "end_time": "2022-04-18T12:16:23.420366",
   "environment_variables": {},
   "exception": null,
   "input_path": "2020-03-21-covid19exp.ipynb",
   "output_path": "2020-03-21-covid19exp.ipynb",
   "parameters": {},
   "start_time": "2022-04-18T12:16:16.153344",
   "version": "2.0.0"
  }
 },
 "nbformat": 4,
 "nbformat_minor": 5
}