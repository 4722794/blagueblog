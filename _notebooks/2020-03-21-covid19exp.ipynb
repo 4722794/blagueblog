{
 "cells": [
  {
   "cell_type": "markdown",
   "id": "muslim-click",
   "metadata": {
    "papermill": {
     "duration": 0.042155,
     "end_time": "2021-10-20T00:25:07.886877",
     "exception": false,
     "start_time": "2021-10-20T00:25:07.844722",
     "status": "completed"
    },
    "tags": []
   },
   "source": [
    "# COVID-19 Case Race\n",
    "> A race chart to see rising cases around the world\n",
    "\n",
    "- author: Hargun Oberoi\n",
    "- image: images/covid-overview.png\n",
    "- hide: false\n",
    "- badges: false"
   ]
  },
  {
   "cell_type": "code",
   "execution_count": 1,
   "id": "proof-material",
   "metadata": {
    "execution": {
     "iopub.execute_input": "2021-10-20T00:25:07.973930Z",
     "iopub.status.busy": "2021-10-20T00:25:07.973158Z",
     "iopub.status.idle": "2021-10-20T00:25:08.375997Z",
     "shell.execute_reply": "2021-10-20T00:25:08.376549Z"
    },
    "papermill": {
     "duration": 0.449681,
     "end_time": "2021-10-20T00:25:08.376769",
     "exception": false,
     "start_time": "2021-10-20T00:25:07.927088",
     "status": "completed"
    },
    "tags": []
   },
   "outputs": [],
   "source": [
    "#hide\n",
    "import numpy as np\n",
    "import pandas as pd\n",
    "from jinja2 import Template\n",
    "from IPython.display import HTML"
   ]
  },
  {
   "cell_type": "code",
   "execution_count": 2,
   "id": "developed-terminology",
   "metadata": {
    "execution": {
     "iopub.execute_input": "2021-10-20T00:25:08.460202Z",
     "iopub.status.busy": "2021-10-20T00:25:08.459479Z",
     "iopub.status.idle": "2021-10-20T00:25:08.462001Z",
     "shell.execute_reply": "2021-10-20T00:25:08.461403Z"
    },
    "papermill": {
     "duration": 0.045861,
     "end_time": "2021-10-20T00:25:08.462122",
     "exception": false,
     "start_time": "2021-10-20T00:25:08.416261",
     "status": "completed"
    },
    "tags": []
   },
   "outputs": [],
   "source": [
    "#hide\n",
    "\n",
    "# FETCH\n",
    "base_url = 'https://raw.githubusercontent.com/pratapvardhan/notebooks/master/covid19/'\n",
    "paths = {\n",
    "    'mapping': base_url + 'mapping_countries.csv',\n",
    "    'overview': base_url + 'overview.tpl'\n",
    "}"
   ]
  },
  {
   "cell_type": "code",
   "execution_count": 3,
   "id": "dynamic-saver",
   "metadata": {
    "execution": {
     "iopub.execute_input": "2021-10-20T00:25:08.547784Z",
     "iopub.status.busy": "2021-10-20T00:25:08.547168Z",
     "iopub.status.idle": "2021-10-20T00:25:08.550500Z",
     "shell.execute_reply": "2021-10-20T00:25:08.551171Z"
    },
    "papermill": {
     "duration": 0.054076,
     "end_time": "2021-10-20T00:25:08.551306",
     "exception": false,
     "start_time": "2021-10-20T00:25:08.497230",
     "status": "completed"
    },
    "tags": []
   },
   "outputs": [
    {
     "data": {
      "text/plain": [
       "'https://raw.githubusercontent.com/pratapvardhan/notebooks/master/covid19/mapping_countries.csv'"
      ]
     },
     "execution_count": 3,
     "metadata": {},
     "output_type": "execute_result"
    }
   ],
   "source": [
    "#hide\n",
    "paths['mapping']"
   ]
  },
  {
   "cell_type": "code",
   "execution_count": 4,
   "id": "urban-software",
   "metadata": {
    "execution": {
     "iopub.execute_input": "2021-10-20T00:25:08.631700Z",
     "iopub.status.busy": "2021-10-20T00:25:08.630678Z",
     "iopub.status.idle": "2021-10-20T00:25:08.633636Z",
     "shell.execute_reply": "2021-10-20T00:25:08.633028Z"
    },
    "papermill": {
     "duration": 0.046616,
     "end_time": "2021-10-20T00:25:08.633759",
     "exception": false,
     "start_time": "2021-10-20T00:25:08.587143",
     "status": "completed"
    },
    "tags": []
   },
   "outputs": [],
   "source": [
    "#hide\n",
    "def get_mappings(url):\n",
    "    df = pd.read_csv(url)\n",
    "    return {\n",
    "        'df': df,\n",
    "        'replace.country': dict(df.dropna(subset=['Name']).set_index('Country')['Name']),\n",
    "        'map.continent': dict(df.set_index('Name')['Continent'])\n",
    "    }"
   ]
  },
  {
   "cell_type": "code",
   "execution_count": 5,
   "id": "intimate-machinery",
   "metadata": {
    "execution": {
     "iopub.execute_input": "2021-10-20T00:25:08.715386Z",
     "iopub.status.busy": "2021-10-20T00:25:08.714669Z",
     "iopub.status.idle": "2021-10-20T00:25:08.771253Z",
     "shell.execute_reply": "2021-10-20T00:25:08.770699Z"
    },
    "papermill": {
     "duration": 0.100888,
     "end_time": "2021-10-20T00:25:08.771415",
     "exception": false,
     "start_time": "2021-10-20T00:25:08.670527",
     "status": "completed"
    },
    "tags": []
   },
   "outputs": [],
   "source": [
    "#hide\n",
    "mapping = get_mappings(paths['mapping'])"
   ]
  },
  {
   "cell_type": "code",
   "execution_count": 6,
   "id": "certified-tactics",
   "metadata": {
    "execution": {
     "iopub.execute_input": "2021-10-20T00:25:08.856811Z",
     "iopub.status.busy": "2021-10-20T00:25:08.856135Z",
     "iopub.status.idle": "2021-10-20T00:25:08.857727Z",
     "shell.execute_reply": "2021-10-20T00:25:08.858324Z"
    },
    "papermill": {
     "duration": 0.048106,
     "end_time": "2021-10-20T00:25:08.858490",
     "exception": false,
     "start_time": "2021-10-20T00:25:08.810384",
     "status": "completed"
    },
    "tags": []
   },
   "outputs": [],
   "source": [
    "#hide\n",
    "def get_template(path):\n",
    "    from urllib.parse import urlparse\n",
    "    if bool(urlparse(path).netloc):\n",
    "        from urllib.request import urlopen\n",
    "        return urlopen(path).read().decode('utf8')\n",
    "    return open(path).read()"
   ]
  },
  {
   "cell_type": "code",
   "execution_count": 7,
   "id": "realistic-blast",
   "metadata": {
    "execution": {
     "iopub.execute_input": "2021-10-20T00:25:08.939854Z",
     "iopub.status.busy": "2021-10-20T00:25:08.939231Z",
     "iopub.status.idle": "2021-10-20T00:25:08.941081Z",
     "shell.execute_reply": "2021-10-20T00:25:08.941865Z"
    },
    "papermill": {
     "duration": 0.045906,
     "end_time": "2021-10-20T00:25:08.942019",
     "exception": false,
     "start_time": "2021-10-20T00:25:08.896113",
     "status": "completed"
    },
    "tags": []
   },
   "outputs": [],
   "source": [
    "#hide\n",
    "def get_frame(name):\n",
    "    url = (\n",
    "        'https://raw.githubusercontent.com/CSSEGISandData/COVID-19/master/csse_covid_19_data/'\n",
    "        f'csse_covid_19_time_series/time_series_covid19_{name}_global.csv')\n",
    "    df = pd.read_csv(url)\n",
    "    # rename countries\n",
    "    df['Country/Region'] = df['Country/Region'].replace(mapping['replace.country'])\n",
    "    return df"
   ]
  },
  {
   "cell_type": "code",
   "execution_count": 8,
   "id": "affiliated-characterization",
   "metadata": {
    "execution": {
     "iopub.execute_input": "2021-10-20T00:25:09.026467Z",
     "iopub.status.busy": "2021-10-20T00:25:09.025832Z",
     "iopub.status.idle": "2021-10-20T00:25:09.027933Z",
     "shell.execute_reply": "2021-10-20T00:25:09.028461Z"
    },
    "papermill": {
     "duration": 0.049317,
     "end_time": "2021-10-20T00:25:09.028598",
     "exception": false,
     "start_time": "2021-10-20T00:25:08.979281",
     "status": "completed"
    },
    "tags": []
   },
   "outputs": [],
   "source": [
    "#hide\n",
    "def get_dates(df):\n",
    "    dt_cols = df.columns[~df.columns.isin(['Province/State', 'Country/Region', 'Lat', 'Long'])]\n",
    "    LAST_DATE_I = -1\n",
    "    # sometimes last column may be empty, then go backwards\n",
    "    for i in range(-1, -len(dt_cols), -1):\n",
    "        if not df[dt_cols[i]].fillna(0).eq(0).all():\n",
    "            LAST_DATE_I = i\n",
    "            break\n",
    "    return LAST_DATE_I, dt_cols"
   ]
  },
  {
   "cell_type": "code",
   "execution_count": 9,
   "id": "recent-optimization",
   "metadata": {
    "execution": {
     "iopub.execute_input": "2021-10-20T00:25:09.109886Z",
     "iopub.status.busy": "2021-10-20T00:25:09.109195Z",
     "iopub.status.idle": "2021-10-20T00:25:09.557580Z",
     "shell.execute_reply": "2021-10-20T00:25:09.556840Z"
    },
    "papermill": {
     "duration": 0.491031,
     "end_time": "2021-10-20T00:25:09.557782",
     "exception": false,
     "start_time": "2021-10-20T00:25:09.066751",
     "status": "completed"
    },
    "tags": []
   },
   "outputs": [],
   "source": [
    "#hide\n",
    "COL_REGION = 'Country/Region'\n",
    "# Confirmed, Recovered, Deaths\n",
    "df = get_frame('confirmed')\n",
    "# dft_: timeseries, dfc_: today country agg\n",
    "dft_cases = df\n",
    "dft_deaths = get_frame('deaths')\n",
    "dft_recovered = get_frame('recovered')\n",
    "LAST_DATE_I, dt_cols = get_dates(df)"
   ]
  },
  {
   "cell_type": "code",
   "execution_count": 10,
   "id": "absolute-copper",
   "metadata": {
    "execution": {
     "iopub.execute_input": "2021-10-20T00:25:09.644980Z",
     "iopub.status.busy": "2021-10-20T00:25:09.644293Z",
     "iopub.status.idle": "2021-10-20T00:25:09.646287Z",
     "shell.execute_reply": "2021-10-20T00:25:09.646960Z"
    },
    "papermill": {
     "duration": 0.048556,
     "end_time": "2021-10-20T00:25:09.647103",
     "exception": false,
     "start_time": "2021-10-20T00:25:09.598547",
     "status": "completed"
    },
    "tags": []
   },
   "outputs": [],
   "source": [
    "#hide\n",
    "LAST_DATE_I, dt_cols = get_dates(df)\n",
    "dt_today =dt_cols[LAST_DATE_I]\n",
    "# dt_5day = dt_cols[LAST_DATE_I - 5]\n",
    "dt_yday = dt_cols[LAST_DATE_I - 1]"
   ]
  },
  {
   "cell_type": "code",
   "execution_count": 11,
   "id": "restricted-sheriff",
   "metadata": {
    "execution": {
     "iopub.execute_input": "2021-10-20T00:25:09.732166Z",
     "iopub.status.busy": "2021-10-20T00:25:09.731513Z",
     "iopub.status.idle": "2021-10-20T00:25:09.740276Z",
     "shell.execute_reply": "2021-10-20T00:25:09.740890Z"
    },
    "papermill": {
     "duration": 0.054864,
     "end_time": "2021-10-20T00:25:09.741034",
     "exception": false,
     "start_time": "2021-10-20T00:25:09.686170",
     "status": "completed"
    },
    "tags": []
   },
   "outputs": [],
   "source": [
    "#hide\n",
    "dfc_cases = dft_cases.groupby(COL_REGION)[dt_today].sum()\n",
    "dfc_deaths = dft_deaths.groupby(COL_REGION)[dt_today].sum()\n",
    "# dfp_cases = dft_cases.groupby(COL_REGION)[dt_5day].sum()\n",
    "# dfp_deaths = dft_deaths.groupby(COL_REGION)[dt_5day].sum()\n",
    "dfp_cases = dft_cases.groupby(COL_REGION)[dt_yday].sum()\n",
    "dfp_deaths = dft_deaths.groupby(COL_REGION)[dt_yday].sum()"
   ]
  },
  {
   "cell_type": "code",
   "execution_count": 12,
   "id": "deluxe-hepatitis",
   "metadata": {
    "execution": {
     "iopub.execute_input": "2021-10-20T00:25:09.826615Z",
     "iopub.status.busy": "2021-10-20T00:25:09.823247Z",
     "iopub.status.idle": "2021-10-20T00:25:09.828629Z",
     "shell.execute_reply": "2021-10-20T00:25:09.829230Z"
    },
    "papermill": {
     "duration": 0.050672,
     "end_time": "2021-10-20T00:25:09.829417",
     "exception": false,
     "start_time": "2021-10-20T00:25:09.778745",
     "status": "completed"
    },
    "tags": []
   },
   "outputs": [],
   "source": [
    "#hide\n",
    "df_table = (pd.DataFrame(dict(Cases = dfc_cases, Deaths = dfc_deaths, PCases = dfp_cases, PDeaths = dfp_deaths))\n",
    "            .sort_values(by = ['Cases','Deaths'], ascending = [False, False])\n",
    "            .reset_index())"
   ]
  },
  {
   "cell_type": "code",
   "execution_count": 13,
   "id": "educational-chancellor",
   "metadata": {
    "execution": {
     "iopub.execute_input": "2021-10-20T00:25:09.915413Z",
     "iopub.status.busy": "2021-10-20T00:25:09.914700Z",
     "iopub.status.idle": "2021-10-20T00:25:09.937172Z",
     "shell.execute_reply": "2021-10-20T00:25:09.937722Z"
    },
    "papermill": {
     "duration": 0.070932,
     "end_time": "2021-10-20T00:25:09.937879",
     "exception": false,
     "start_time": "2021-10-20T00:25:09.866947",
     "status": "completed"
    },
    "tags": []
   },
   "outputs": [
    {
     "data": {
      "text/html": [
       "<div>\n",
       "<style scoped>\n",
       "    .dataframe tbody tr th:only-of-type {\n",
       "        vertical-align: middle;\n",
       "    }\n",
       "\n",
       "    .dataframe tbody tr th {\n",
       "        vertical-align: top;\n",
       "    }\n",
       "\n",
       "    .dataframe thead th {\n",
       "        text-align: right;\n",
       "    }\n",
       "</style>\n",
       "<table border=\"1\" class=\"dataframe\">\n",
       "  <thead>\n",
       "    <tr style=\"text-align: right;\">\n",
       "      <th></th>\n",
       "      <th>Country/Region</th>\n",
       "      <th>Cases</th>\n",
       "      <th>Deaths</th>\n",
       "      <th>PCases</th>\n",
       "      <th>PDeaths</th>\n",
       "      <th>Cases (+)</th>\n",
       "      <th>Deaths (+)</th>\n",
       "      <th>Fatality Rate</th>\n",
       "      <th>Continent</th>\n",
       "    </tr>\n",
       "  </thead>\n",
       "  <tbody>\n",
       "    <tr>\n",
       "      <th>0</th>\n",
       "      <td>US</td>\n",
       "      <td>45050910</td>\n",
       "      <td>725835</td>\n",
       "      <td>44934357</td>\n",
       "      <td>724110</td>\n",
       "      <td>116553</td>\n",
       "      <td>1725</td>\n",
       "      <td>1.61</td>\n",
       "      <td>North America</td>\n",
       "    </tr>\n",
       "    <tr>\n",
       "      <th>1</th>\n",
       "      <td>India</td>\n",
       "      <td>34094373</td>\n",
       "      <td>452454</td>\n",
       "      <td>34081315</td>\n",
       "      <td>452290</td>\n",
       "      <td>13058</td>\n",
       "      <td>164</td>\n",
       "      <td>1.33</td>\n",
       "      <td>Asia</td>\n",
       "    </tr>\n",
       "    <tr>\n",
       "      <th>2</th>\n",
       "      <td>Brazil</td>\n",
       "      <td>21651910</td>\n",
       "      <td>603465</td>\n",
       "      <td>21644464</td>\n",
       "      <td>603282</td>\n",
       "      <td>7446</td>\n",
       "      <td>183</td>\n",
       "      <td>2.79</td>\n",
       "      <td>South America</td>\n",
       "    </tr>\n",
       "    <tr>\n",
       "      <th>3</th>\n",
       "      <td>United Kingdom</td>\n",
       "      <td>8537650</td>\n",
       "      <td>139042</td>\n",
       "      <td>8488685</td>\n",
       "      <td>138997</td>\n",
       "      <td>48965</td>\n",
       "      <td>45</td>\n",
       "      <td>1.63</td>\n",
       "      <td>Europe</td>\n",
       "    </tr>\n",
       "    <tr>\n",
       "      <th>4</th>\n",
       "      <td>Russia</td>\n",
       "      <td>7903963</td>\n",
       "      <td>220323</td>\n",
       "      <td>7870529</td>\n",
       "      <td>219342</td>\n",
       "      <td>33434</td>\n",
       "      <td>981</td>\n",
       "      <td>2.79</td>\n",
       "      <td>Europe</td>\n",
       "    </tr>\n",
       "  </tbody>\n",
       "</table>\n",
       "</div>"
      ],
      "text/plain": [
       "   Country/Region     Cases  Deaths    PCases  PDeaths  Cases (+)  Deaths (+)  \\\n",
       "0              US  45050910  725835  44934357   724110     116553        1725   \n",
       "1           India  34094373  452454  34081315   452290      13058         164   \n",
       "2          Brazil  21651910  603465  21644464   603282       7446         183   \n",
       "3  United Kingdom   8537650  139042   8488685   138997      48965          45   \n",
       "4          Russia   7903963  220323   7870529   219342      33434         981   \n",
       "\n",
       "   Fatality Rate      Continent  \n",
       "0           1.61  North America  \n",
       "1           1.33           Asia  \n",
       "2           2.79  South America  \n",
       "3           1.63         Europe  \n",
       "4           2.79         Europe  "
      ]
     },
     "execution_count": 13,
     "metadata": {},
     "output_type": "execute_result"
    }
   ],
   "source": [
    "#hide\n",
    "for c in 'Cases, Deaths'.split(', '):\n",
    "    df_table[f'{c} (+)'] = (df_table[c] - df_table[f'P{c}']).clip(0)\n",
    "    #Clip ça veut dire, les chiffres negatif sont interdit\n",
    "df_table['Fatality Rate'] = (100* df_table['Deaths']/ df_table['Cases']).round(2)\n",
    "df_table['Continent'] = df_table['Country/Region'].map(mapping['map.continent'])\n",
    "df_table.head(5)"
   ]
  },
  {
   "cell_type": "code",
   "execution_count": 14,
   "id": "aboriginal-bulgaria",
   "metadata": {
    "execution": {
     "iopub.execute_input": "2021-10-20T00:25:10.024227Z",
     "iopub.status.busy": "2021-10-20T00:25:10.023347Z",
     "iopub.status.idle": "2021-10-20T00:25:10.032790Z",
     "shell.execute_reply": "2021-10-20T00:25:10.033612Z"
    },
    "papermill": {
     "duration": 0.056743,
     "end_time": "2021-10-20T00:25:10.033823",
     "exception": false,
     "start_time": "2021-10-20T00:25:09.977080",
     "status": "completed"
    },
    "tags": []
   },
   "outputs": [],
   "source": [
    "#hide\n",
    "#delete problematic countries from table\n",
    "df_table = df_table[~df_table['Country/Region'].isin(['Cape Verde', 'Cruise Ship', 'Kosovo'])]"
   ]
  },
  {
   "cell_type": "code",
   "execution_count": 15,
   "id": "fantastic-effect",
   "metadata": {
    "execution": {
     "iopub.execute_input": "2021-10-20T00:25:10.125170Z",
     "iopub.status.busy": "2021-10-20T00:25:10.124528Z",
     "iopub.status.idle": "2021-10-20T00:25:10.149071Z",
     "shell.execute_reply": "2021-10-20T00:25:10.148437Z"
    },
    "papermill": {
     "duration": 0.07383,
     "end_time": "2021-10-20T00:25:10.149241",
     "exception": false,
     "start_time": "2021-10-20T00:25:10.075411",
     "status": "completed"
    },
    "tags": []
   },
   "outputs": [
    {
     "data": {
      "text/html": [
       "<div>\n",
       "<style scoped>\n",
       "    .dataframe tbody tr th:only-of-type {\n",
       "        vertical-align: middle;\n",
       "    }\n",
       "\n",
       "    .dataframe tbody tr th {\n",
       "        vertical-align: top;\n",
       "    }\n",
       "\n",
       "    .dataframe thead th {\n",
       "        text-align: right;\n",
       "    }\n",
       "</style>\n",
       "<table border=\"1\" class=\"dataframe\">\n",
       "  <thead>\n",
       "    <tr style=\"text-align: right;\">\n",
       "      <th></th>\n",
       "      <th>Country/Region</th>\n",
       "      <th>Cases</th>\n",
       "      <th>Deaths</th>\n",
       "      <th>PCases</th>\n",
       "      <th>PDeaths</th>\n",
       "      <th>Cases (+)</th>\n",
       "      <th>Deaths (+)</th>\n",
       "      <th>Fatality Rate</th>\n",
       "      <th>Continent</th>\n",
       "    </tr>\n",
       "  </thead>\n",
       "  <tbody>\n",
       "    <tr>\n",
       "      <th>0</th>\n",
       "      <td>US</td>\n",
       "      <td>45050910</td>\n",
       "      <td>725835</td>\n",
       "      <td>44934357</td>\n",
       "      <td>724110</td>\n",
       "      <td>116553</td>\n",
       "      <td>1725</td>\n",
       "      <td>1.6</td>\n",
       "      <td>North America</td>\n",
       "    </tr>\n",
       "    <tr>\n",
       "      <th>1</th>\n",
       "      <td>India</td>\n",
       "      <td>34094373</td>\n",
       "      <td>452454</td>\n",
       "      <td>34081315</td>\n",
       "      <td>452290</td>\n",
       "      <td>13058</td>\n",
       "      <td>164</td>\n",
       "      <td>1.3</td>\n",
       "      <td>Asia</td>\n",
       "    </tr>\n",
       "    <tr>\n",
       "      <th>2</th>\n",
       "      <td>Brazil</td>\n",
       "      <td>21651910</td>\n",
       "      <td>603465</td>\n",
       "      <td>21644464</td>\n",
       "      <td>603282</td>\n",
       "      <td>7446</td>\n",
       "      <td>183</td>\n",
       "      <td>2.8</td>\n",
       "      <td>South America</td>\n",
       "    </tr>\n",
       "    <tr>\n",
       "      <th>3</th>\n",
       "      <td>United Kingdom</td>\n",
       "      <td>8537650</td>\n",
       "      <td>139042</td>\n",
       "      <td>8488685</td>\n",
       "      <td>138997</td>\n",
       "      <td>48965</td>\n",
       "      <td>45</td>\n",
       "      <td>1.6</td>\n",
       "      <td>Europe</td>\n",
       "    </tr>\n",
       "    <tr>\n",
       "      <th>4</th>\n",
       "      <td>Russia</td>\n",
       "      <td>7903963</td>\n",
       "      <td>220323</td>\n",
       "      <td>7870529</td>\n",
       "      <td>219342</td>\n",
       "      <td>33434</td>\n",
       "      <td>981</td>\n",
       "      <td>2.8</td>\n",
       "      <td>Europe</td>\n",
       "    </tr>\n",
       "  </tbody>\n",
       "</table>\n",
       "</div>"
      ],
      "text/plain": [
       "   Country/Region     Cases  Deaths    PCases  PDeaths  Cases (+)  Deaths (+)  \\\n",
       "0              US  45050910  725835  44934357   724110     116553        1725   \n",
       "1           India  34094373  452454  34081315   452290      13058         164   \n",
       "2          Brazil  21651910  603465  21644464   603282       7446         183   \n",
       "3  United Kingdom   8537650  139042   8488685   138997      48965          45   \n",
       "4          Russia   7903963  220323   7870529   219342      33434         981   \n",
       "\n",
       "   Fatality Rate      Continent  \n",
       "0            1.6  North America  \n",
       "1            1.3           Asia  \n",
       "2            2.8  South America  \n",
       "3            1.6         Europe  \n",
       "4            2.8         Europe  "
      ]
     },
     "execution_count": 15,
     "metadata": {},
     "output_type": "execute_result"
    }
   ],
   "source": [
    "#hide\n",
    "df_table = (pd.DataFrame(dict(Cases=dfc_cases, Deaths=dfc_deaths, PCases=dfp_cases, PDeaths=dfp_deaths))\n",
    "             .sort_values(by=['Cases', 'Deaths'], ascending=[False, False])\n",
    "             .reset_index())\n",
    "df_table.rename(columns={'index': 'Country/Region'}, inplace=True)\n",
    "for c in 'Cases, Deaths'.split(', '):\n",
    "    df_table[f'{c} (+)'] = (df_table[c] - df_table[f'P{c}']).clip(0)  # DATA BUG\n",
    "df_table['Fatality Rate'] = (100 * df_table['Deaths'] / df_table['Cases']).round(1)\n",
    "df_table['Continent'] = df_table['Country/Region'].map(mapping['map.continent'])\n",
    "df_table.head(5)"
   ]
  },
  {
   "cell_type": "code",
   "execution_count": 16,
   "id": "fewer-occasion",
   "metadata": {
    "execution": {
     "iopub.execute_input": "2021-10-20T00:25:10.237256Z",
     "iopub.status.busy": "2021-10-20T00:25:10.236636Z",
     "iopub.status.idle": "2021-10-20T00:25:10.239804Z",
     "shell.execute_reply": "2021-10-20T00:25:10.240428Z"
    },
    "papermill": {
     "duration": 0.050661,
     "end_time": "2021-10-20T00:25:10.240592",
     "exception": false,
     "start_time": "2021-10-20T00:25:10.189931",
     "status": "completed"
    },
    "tags": []
   },
   "outputs": [],
   "source": [
    "#hide\n",
    "#delete problematic countries from table\n",
    "df_table = df_table[~df_table['Country/Region'].isin(['Cape Verde', 'Cruise Ship', 'Kosovo'])]"
   ]
  },
  {
   "cell_type": "code",
   "execution_count": 17,
   "id": "related-center",
   "metadata": {
    "execution": {
     "iopub.execute_input": "2021-10-20T00:25:10.333456Z",
     "iopub.status.busy": "2021-10-20T00:25:10.332738Z",
     "iopub.status.idle": "2021-10-20T00:25:10.346365Z",
     "shell.execute_reply": "2021-10-20T00:25:10.345787Z"
    },
    "papermill": {
     "duration": 0.066279,
     "end_time": "2021-10-20T00:25:10.346504",
     "exception": false,
     "start_time": "2021-10-20T00:25:10.280225",
     "status": "completed"
    },
    "tags": []
   },
   "outputs": [],
   "source": [
    "#hide\n",
    "metrics = [df_table.columns[index] for index in [1,2,5,6]]\n",
    "# s_china = df_table[df_table['Country/Region'].eq('China')][metrics].sum().add_prefix('China ')\n",
    "s_us = df_table[df_table['Country/Region'].eq('US')][metrics].sum().add_prefix('US ')\n",
    "s_eu = df_table[df_table['Continent'].eq('Europe')][metrics].sum().add_prefix('EU ')\n",
    "s_ind = df_table[df_table['Country/Region'].eq('India')][metrics].sum().add_prefix('India ')\n",
    "summary = {'updated': pd.to_datetime(dt_today), 'since': pd.to_datetime(dt_yday)}\n",
    "summary = {'updated': pd.to_datetime(dt_today), 'since': pd.to_datetime(dt_yday)}\n",
    "summary = {**summary, **df_table[metrics].sum(), **s_ind, **s_us, **s_eu}"
   ]
  },
  {
   "cell_type": "code",
   "execution_count": 18,
   "id": "engaging-syndrome",
   "metadata": {
    "execution": {
     "iopub.execute_input": "2021-10-20T00:25:10.427959Z",
     "iopub.status.busy": "2021-10-20T00:25:10.427345Z",
     "iopub.status.idle": "2021-10-20T00:25:10.445992Z",
     "shell.execute_reply": "2021-10-20T00:25:10.446586Z"
    },
    "papermill": {
     "duration": 0.062504,
     "end_time": "2021-10-20T00:25:10.446745",
     "exception": false,
     "start_time": "2021-10-20T00:25:10.384241",
     "status": "completed"
    },
    "tags": []
   },
   "outputs": [],
   "source": [
    "#hide\n",
    "dft_ct_new_cases = dft_cases.groupby(COL_REGION)[dt_cols].sum().diff(axis=1).fillna(0).astype(int)"
   ]
  },
  {
   "cell_type": "code",
   "execution_count": 19,
   "id": "neutral-assignment",
   "metadata": {
    "execution": {
     "iopub.execute_input": "2021-10-20T00:25:10.536574Z",
     "iopub.status.busy": "2021-10-20T00:25:10.535840Z",
     "iopub.status.idle": "2021-10-20T00:25:10.538251Z",
     "shell.execute_reply": "2021-10-20T00:25:10.537612Z"
    },
    "papermill": {
     "duration": 0.051662,
     "end_time": "2021-10-20T00:25:10.538384",
     "exception": false,
     "start_time": "2021-10-20T00:25:10.486722",
     "status": "completed"
    },
    "tags": []
   },
   "outputs": [],
   "source": [
    "#hide\n",
    "everydaycases = dft_ct_new_cases.cumsum(axis=1)"
   ]
  },
  {
   "cell_type": "code",
   "execution_count": 20,
   "id": "parliamentary-calgary",
   "metadata": {
    "execution": {
     "iopub.execute_input": "2021-10-20T00:25:10.626086Z",
     "iopub.status.busy": "2021-10-20T00:25:10.625317Z",
     "iopub.status.idle": "2021-10-20T00:25:11.294805Z",
     "shell.execute_reply": "2021-10-20T00:25:11.294241Z"
    },
    "papermill": {
     "duration": 0.715082,
     "end_time": "2021-10-20T00:25:11.294956",
     "exception": false,
     "start_time": "2021-10-20T00:25:10.579874",
     "status": "completed"
    },
    "tags": []
   },
   "outputs": [],
   "source": [
    "#hide\n",
    "import pandas as pd\n",
    "import matplotlib.pyplot as plt\n",
    "import matplotlib.ticker as ticker\n",
    "import matplotlib.animation as animation\n",
    "from IPython.display import HTML"
   ]
  },
  {
   "cell_type": "code",
   "execution_count": 21,
   "id": "lasting-extraction",
   "metadata": {
    "execution": {
     "iopub.execute_input": "2021-10-20T00:25:11.383990Z",
     "iopub.status.busy": "2021-10-20T00:25:11.383269Z",
     "iopub.status.idle": "2021-10-20T00:25:11.389313Z",
     "shell.execute_reply": "2021-10-20T00:25:11.390058Z"
    },
    "papermill": {
     "duration": 0.054493,
     "end_time": "2021-10-20T00:25:11.390220",
     "exception": false,
     "start_time": "2021-10-20T00:25:11.335727",
     "status": "completed"
    },
    "tags": []
   },
   "outputs": [],
   "source": [
    "#hide\n",
    "t = everydaycases.stack()"
   ]
  },
  {
   "cell_type": "code",
   "execution_count": 22,
   "id": "premier-sleeve",
   "metadata": {
    "execution": {
     "iopub.execute_input": "2021-10-20T00:25:11.476226Z",
     "iopub.status.busy": "2021-10-20T00:25:11.475568Z",
     "iopub.status.idle": "2021-10-20T00:25:11.490699Z",
     "shell.execute_reply": "2021-10-20T00:25:11.490105Z"
    },
    "papermill": {
     "duration": 0.061106,
     "end_time": "2021-10-20T00:25:11.490826",
     "exception": false,
     "start_time": "2021-10-20T00:25:11.429720",
     "status": "completed"
    },
    "tags": []
   },
   "outputs": [],
   "source": [
    "#hide\n",
    "g = t.reset_index(['Country/Region'])"
   ]
  },
  {
   "cell_type": "code",
   "execution_count": 23,
   "id": "distributed-pittsburgh",
   "metadata": {
    "execution": {
     "iopub.execute_input": "2021-10-20T00:25:11.574616Z",
     "iopub.status.busy": "2021-10-20T00:25:11.573796Z",
     "iopub.status.idle": "2021-10-20T00:25:11.576022Z",
     "shell.execute_reply": "2021-10-20T00:25:11.576643Z"
    },
    "papermill": {
     "duration": 0.048076,
     "end_time": "2021-10-20T00:25:11.576788",
     "exception": false,
     "start_time": "2021-10-20T00:25:11.528712",
     "status": "completed"
    },
    "tags": []
   },
   "outputs": [],
   "source": [
    "#hide\n",
    "g.index.name = 'date'"
   ]
  },
  {
   "cell_type": "code",
   "execution_count": 24,
   "id": "naked-donor",
   "metadata": {
    "execution": {
     "iopub.execute_input": "2021-10-20T00:25:11.661008Z",
     "iopub.status.busy": "2021-10-20T00:25:11.659446Z",
     "iopub.status.idle": "2021-10-20T00:25:11.661782Z",
     "shell.execute_reply": "2021-10-20T00:25:11.662458Z"
    },
    "papermill": {
     "duration": 0.046364,
     "end_time": "2021-10-20T00:25:11.662593",
     "exception": false,
     "start_time": "2021-10-20T00:25:11.616229",
     "status": "completed"
    },
    "tags": []
   },
   "outputs": [],
   "source": [
    "# #hide\n",
    "# g = g.reset_index(['date'])"
   ]
  },
  {
   "cell_type": "code",
   "execution_count": 25,
   "id": "incomplete-mustang",
   "metadata": {
    "execution": {
     "iopub.execute_input": "2021-10-20T00:25:11.744162Z",
     "iopub.status.busy": "2021-10-20T00:25:11.742581Z",
     "iopub.status.idle": "2021-10-20T00:25:11.744843Z",
     "shell.execute_reply": "2021-10-20T00:25:11.745645Z"
    },
    "papermill": {
     "duration": 0.045019,
     "end_time": "2021-10-20T00:25:11.745794",
     "exception": false,
     "start_time": "2021-10-20T00:25:11.700775",
     "status": "completed"
    },
    "tags": []
   },
   "outputs": [],
   "source": [
    "#hide\n",
    "# g.head()"
   ]
  },
  {
   "cell_type": "code",
   "execution_count": 26,
   "id": "specific-kruger",
   "metadata": {
    "execution": {
     "iopub.execute_input": "2021-10-20T00:25:11.827464Z",
     "iopub.status.busy": "2021-10-20T00:25:11.826772Z",
     "iopub.status.idle": "2021-10-20T00:25:11.829231Z",
     "shell.execute_reply": "2021-10-20T00:25:11.828725Z"
    },
    "papermill": {
     "duration": 0.044464,
     "end_time": "2021-10-20T00:25:11.829385",
     "exception": false,
     "start_time": "2021-10-20T00:25:11.784921",
     "status": "completed"
    },
    "tags": []
   },
   "outputs": [],
   "source": [
    "#hide\n",
    "# g.columns = ['date','country','cases']"
   ]
  },
  {
   "cell_type": "code",
   "execution_count": 27,
   "id": "tender-conversion",
   "metadata": {
    "execution": {
     "iopub.execute_input": "2021-10-20T00:25:11.916719Z",
     "iopub.status.busy": "2021-10-20T00:25:11.916039Z",
     "iopub.status.idle": "2021-10-20T00:25:11.917933Z",
     "shell.execute_reply": "2021-10-20T00:25:11.918508Z"
    },
    "papermill": {
     "duration": 0.04793,
     "end_time": "2021-10-20T00:25:11.918675",
     "exception": false,
     "start_time": "2021-10-20T00:25:11.870745",
     "status": "completed"
    },
    "tags": []
   },
   "outputs": [],
   "source": [
    "#hide\n",
    "# g['continent'] = g.country"
   ]
  },
  {
   "cell_type": "code",
   "execution_count": 28,
   "id": "substantial-wilderness",
   "metadata": {
    "execution": {
     "iopub.execute_input": "2021-10-20T00:25:12.006991Z",
     "iopub.status.busy": "2021-10-20T00:25:12.006166Z",
     "iopub.status.idle": "2021-10-20T00:25:12.009025Z",
     "shell.execute_reply": "2021-10-20T00:25:12.008470Z"
    },
    "papermill": {
     "duration": 0.049111,
     "end_time": "2021-10-20T00:25:12.009153",
     "exception": false,
     "start_time": "2021-10-20T00:25:11.960042",
     "status": "completed"
    },
    "tags": []
   },
   "outputs": [],
   "source": [
    "#hide\n",
    "# cols = list(g.columns.values)"
   ]
  },
  {
   "cell_type": "code",
   "execution_count": 29,
   "id": "solved-farming",
   "metadata": {
    "execution": {
     "iopub.execute_input": "2021-10-20T00:25:12.097979Z",
     "iopub.status.busy": "2021-10-20T00:25:12.097177Z",
     "iopub.status.idle": "2021-10-20T00:25:12.099804Z",
     "shell.execute_reply": "2021-10-20T00:25:12.100396Z"
    },
    "papermill": {
     "duration": 0.049604,
     "end_time": "2021-10-20T00:25:12.100543",
     "exception": false,
     "start_time": "2021-10-20T00:25:12.050939",
     "status": "completed"
    },
    "tags": []
   },
   "outputs": [],
   "source": [
    "#hide\n",
    "# cols.insert(0, cols.pop())"
   ]
  },
  {
   "cell_type": "code",
   "execution_count": 30,
   "id": "executed-adoption",
   "metadata": {
    "execution": {
     "iopub.execute_input": "2021-10-20T00:25:12.187524Z",
     "iopub.status.busy": "2021-10-20T00:25:12.186798Z",
     "iopub.status.idle": "2021-10-20T00:25:12.189264Z",
     "shell.execute_reply": "2021-10-20T00:25:12.189814Z"
    },
    "papermill": {
     "duration": 0.048359,
     "end_time": "2021-10-20T00:25:12.189973",
     "exception": false,
     "start_time": "2021-10-20T00:25:12.141614",
     "status": "completed"
    },
    "tags": []
   },
   "outputs": [],
   "source": [
    "#hide\n",
    "# g = g[cols]"
   ]
  },
  {
   "cell_type": "code",
   "execution_count": 31,
   "id": "subject-dublin",
   "metadata": {
    "execution": {
     "iopub.execute_input": "2021-10-20T00:25:12.273591Z",
     "iopub.status.busy": "2021-10-20T00:25:12.272889Z",
     "iopub.status.idle": "2021-10-20T00:25:12.275459Z",
     "shell.execute_reply": "2021-10-20T00:25:12.274920Z"
    },
    "papermill": {
     "duration": 0.045329,
     "end_time": "2021-10-20T00:25:12.275584",
     "exception": false,
     "start_time": "2021-10-20T00:25:12.230255",
     "status": "completed"
    },
    "tags": []
   },
   "outputs": [],
   "source": [
    "#hide\n",
    "# g['continent'] = g['continent'].map(mapping['map.continent'])"
   ]
  },
  {
   "cell_type": "code",
   "execution_count": 32,
   "id": "freelance-scout",
   "metadata": {
    "execution": {
     "iopub.execute_input": "2021-10-20T00:25:12.357531Z",
     "iopub.status.busy": "2021-10-20T00:25:12.356739Z",
     "iopub.status.idle": "2021-10-20T00:25:12.359317Z",
     "shell.execute_reply": "2021-10-20T00:25:12.358801Z"
    },
    "papermill": {
     "duration": 0.046074,
     "end_time": "2021-10-20T00:25:12.359443",
     "exception": false,
     "start_time": "2021-10-20T00:25:12.313369",
     "status": "completed"
    },
    "tags": []
   },
   "outputs": [],
   "source": [
    "#hide\n",
    "# g.head()"
   ]
  },
  {
   "cell_type": "code",
   "execution_count": 33,
   "id": "limited-engine",
   "metadata": {
    "execution": {
     "iopub.execute_input": "2021-10-20T00:25:12.441590Z",
     "iopub.status.busy": "2021-10-20T00:25:12.440873Z",
     "iopub.status.idle": "2021-10-20T00:25:12.442949Z",
     "shell.execute_reply": "2021-10-20T00:25:12.443466Z"
    },
    "papermill": {
     "duration": 0.045713,
     "end_time": "2021-10-20T00:25:12.443612",
     "exception": false,
     "start_time": "2021-10-20T00:25:12.397899",
     "status": "completed"
    },
    "tags": []
   },
   "outputs": [],
   "source": [
    "# hide\n",
    "# g['date'] = g['date'].astype('datetime64[ns]')"
   ]
  },
  {
   "cell_type": "code",
   "execution_count": 34,
   "id": "sophisticated-supervisor",
   "metadata": {
    "execution": {
     "iopub.execute_input": "2021-10-20T00:25:12.525590Z",
     "iopub.status.busy": "2021-10-20T00:25:12.524854Z",
     "iopub.status.idle": "2021-10-20T00:25:12.526964Z",
     "shell.execute_reply": "2021-10-20T00:25:12.527680Z"
    },
    "papermill": {
     "duration": 0.045328,
     "end_time": "2021-10-20T00:25:12.527849",
     "exception": false,
     "start_time": "2021-10-20T00:25:12.482521",
     "status": "completed"
    },
    "tags": []
   },
   "outputs": [],
   "source": [
    "#hide\n",
    "# g['date'] = g.date.dt.dayofyear"
   ]
  },
  {
   "cell_type": "code",
   "execution_count": 35,
   "id": "inside-dubai",
   "metadata": {
    "execution": {
     "iopub.execute_input": "2021-10-20T00:25:12.611414Z",
     "iopub.status.busy": "2021-10-20T00:25:12.610740Z",
     "iopub.status.idle": "2021-10-20T00:25:12.612847Z",
     "shell.execute_reply": "2021-10-20T00:25:12.613482Z"
    },
    "papermill": {
     "duration": 0.046495,
     "end_time": "2021-10-20T00:25:12.613628",
     "exception": false,
     "start_time": "2021-10-20T00:25:12.567133",
     "status": "completed"
    },
    "tags": []
   },
   "outputs": [],
   "source": [
    "#hide\n",
    "# g = g.rename(columns= {'continent':'group','country':'name','cases':'value'})"
   ]
  },
  {
   "cell_type": "code",
   "execution_count": 36,
   "id": "fleet-motorcycle",
   "metadata": {
    "execution": {
     "iopub.execute_input": "2021-10-20T00:25:12.695311Z",
     "iopub.status.busy": "2021-10-20T00:25:12.694628Z",
     "iopub.status.idle": "2021-10-20T00:25:12.696868Z",
     "shell.execute_reply": "2021-10-20T00:25:12.697481Z"
    },
    "papermill": {
     "duration": 0.045587,
     "end_time": "2021-10-20T00:25:12.697622",
     "exception": false,
     "start_time": "2021-10-20T00:25:12.652035",
     "status": "completed"
    },
    "tags": []
   },
   "outputs": [],
   "source": [
    "#hide\n",
    "# cols = ['name','group','day','value']"
   ]
  },
  {
   "cell_type": "code",
   "execution_count": 37,
   "id": "continued-sleeping",
   "metadata": {
    "execution": {
     "iopub.execute_input": "2021-10-20T00:25:12.779627Z",
     "iopub.status.busy": "2021-10-20T00:25:12.778944Z",
     "iopub.status.idle": "2021-10-20T00:25:12.781059Z",
     "shell.execute_reply": "2021-10-20T00:25:12.781606Z"
    },
    "papermill": {
     "duration": 0.046107,
     "end_time": "2021-10-20T00:25:12.781764",
     "exception": false,
     "start_time": "2021-10-20T00:25:12.735657",
     "status": "completed"
    },
    "tags": []
   },
   "outputs": [],
   "source": [
    "#hide\n",
    "# g.rename(columns= {'date':'day'},inplace = True)"
   ]
  },
  {
   "cell_type": "code",
   "execution_count": 38,
   "id": "major-fight",
   "metadata": {
    "execution": {
     "iopub.execute_input": "2021-10-20T00:25:12.867100Z",
     "iopub.status.busy": "2021-10-20T00:25:12.866269Z",
     "iopub.status.idle": "2021-10-20T00:25:12.868740Z",
     "shell.execute_reply": "2021-10-20T00:25:12.868116Z"
    },
    "papermill": {
     "duration": 0.048027,
     "end_time": "2021-10-20T00:25:12.868863",
     "exception": false,
     "start_time": "2021-10-20T00:25:12.820836",
     "status": "completed"
    },
    "tags": []
   },
   "outputs": [],
   "source": [
    "#hide\n",
    "# g = g[cols]"
   ]
  },
  {
   "cell_type": "code",
   "execution_count": 39,
   "id": "structured-mobile",
   "metadata": {
    "execution": {
     "iopub.execute_input": "2021-10-20T00:25:12.951557Z",
     "iopub.status.busy": "2021-10-20T00:25:12.950866Z",
     "iopub.status.idle": "2021-10-20T00:25:12.952934Z",
     "shell.execute_reply": "2021-10-20T00:25:12.953565Z"
    },
    "papermill": {
     "duration": 0.04549,
     "end_time": "2021-10-20T00:25:12.953742",
     "exception": false,
     "start_time": "2021-10-20T00:25:12.908252",
     "status": "completed"
    },
    "tags": []
   },
   "outputs": [],
   "source": [
    "# #hide\n",
    "# g = g[g.group.notna()]"
   ]
  },
  {
   "cell_type": "code",
   "execution_count": 40,
   "id": "determined-closing",
   "metadata": {
    "execution": {
     "iopub.execute_input": "2021-10-20T00:25:13.035071Z",
     "iopub.status.busy": "2021-10-20T00:25:13.034359Z",
     "iopub.status.idle": "2021-10-20T00:25:13.036562Z",
     "shell.execute_reply": "2021-10-20T00:25:13.037313Z"
    },
    "papermill": {
     "duration": 0.045371,
     "end_time": "2021-10-20T00:25:13.037517",
     "exception": false,
     "start_time": "2021-10-20T00:25:12.992146",
     "status": "completed"
    },
    "tags": []
   },
   "outputs": [],
   "source": [
    "# #hide\n",
    "# colors = dict(zip(\n",
    "#     [\"Oceania\", \"Europe\", \"Asia\", \"South America\", \"Middle East\", \"North America\", \"Africa\"],\n",
    "#     [\"#adb0ff\", \"#ffb3ff\", \"#90d595\", \"#e48381\", \"#aafbff\", \"#f7bb5f\", \"#eafb50\"]\n",
    "# ))\n",
    "# group_lk = g.set_index('name')['group'].to_dict()"
   ]
  },
  {
   "cell_type": "code",
   "execution_count": null,
   "id": "gross-drinking",
   "metadata": {
    "papermill": {
     "duration": 0.038697,
     "end_time": "2021-10-20T00:25:13.115646",
     "exception": false,
     "start_time": "2021-10-20T00:25:13.076949",
     "status": "completed"
    },
    "tags": []
   },
   "outputs": [],
   "source": []
  },
  {
   "cell_type": "code",
   "execution_count": 41,
   "id": "subject-macintosh",
   "metadata": {
    "execution": {
     "iopub.execute_input": "2021-10-20T00:25:13.200122Z",
     "iopub.status.busy": "2021-10-20T00:25:13.199329Z",
     "iopub.status.idle": "2021-10-20T00:25:13.202074Z",
     "shell.execute_reply": "2021-10-20T00:25:13.201404Z"
    },
    "papermill": {
     "duration": 0.048714,
     "end_time": "2021-10-20T00:25:13.202226",
     "exception": false,
     "start_time": "2021-10-20T00:25:13.153512",
     "status": "completed"
    },
    "tags": []
   },
   "outputs": [],
   "source": [
    "# #hide\n",
    "# fig, ax = plt.subplots(figsize=(15, 8))\n",
    "\n",
    "# def draw_barchart(current_day):\n",
    "#     dff = g[g['day'].eq(current_day)].sort_values(by='value', ascending=True).tail(10)\n",
    "#     ax.clear()\n",
    "#     ax.barh(dff['name'], dff['value'], color=[colors[group_lk[x]] for x in dff['name']])\n",
    "#     dx = dff['value'].max() / 200\n",
    "    \n",
    "#     for i, (value, name) in enumerate(zip(dff['value'], dff['name'])):\n",
    "#         ax.text(value-dx, i,     name,           size=14, weight=600, ha='right', va='bottom')\n",
    "#         ax.text(value-dx, i-.25, group_lk[name], size=10, color='#444444', ha='right', va='baseline')\n",
    "#         ax.text(value+dx, i,     f'{value:,.0f}',  size=14, ha='left',  va='center')\n",
    "#     ax.text(1, 0.4, current_day, transform=ax.transAxes, color='#777777', size=46, ha='right', weight=800)\n",
    "#     ax.text(0, 1.06, 'Population (thousands)', transform=ax.transAxes, size=12, color='#777777')\n",
    "#     ax.xaxis.set_major_formatter(ticker.StrMethodFormatter('{x:,.0f}'))\n",
    "#     ax.xaxis.set_ticks_position('top')\n",
    "#     ax.tick_params(axis='x', colors='#777777', labelsize=12)\n",
    "#     ax.set_yticks([])\n",
    "#     ax.margins(0, 0.01)\n",
    "#     ax.grid(which='major', axis='x', linestyle='-')\n",
    "#     ax.set_axisbelow(True)\n",
    "    \n",
    "#     ax.text(0, 1.15, 'Coronavirus',\n",
    "#             transform=ax.transAxes, size=24, weight=600, ha='left', va='top')\n",
    "# #     ax.text(1, 0, 'by @pratapvardhan; credit @jburnmurdoch', transform=ax.transAxes, color='#777777', ha='right',\n",
    "# #             bbox=dict(facecolor='white', alpha=0.8, edgecolor='white'))\n",
    "#     plt.box(False)"
   ]
  },
  {
   "cell_type": "code",
   "execution_count": 42,
   "id": "sexual-wages",
   "metadata": {
    "execution": {
     "iopub.execute_input": "2021-10-20T00:25:13.287273Z",
     "iopub.status.busy": "2021-10-20T00:25:13.286577Z",
     "iopub.status.idle": "2021-10-20T00:25:13.288759Z",
     "shell.execute_reply": "2021-10-20T00:25:13.289286Z"
    },
    "papermill": {
     "duration": 0.047556,
     "end_time": "2021-10-20T00:25:13.289542",
     "exception": false,
     "start_time": "2021-10-20T00:25:13.241986",
     "status": "completed"
    },
    "tags": []
   },
   "outputs": [],
   "source": [
    "# #hide_input\n",
    "# fig, ax = plt.subplots(figsize=(15, 8))\n",
    "# animator = animation.FuncAnimation(fig, draw_barchart, frames=range(g.day.values.min(), g.day.values.max()))\n",
    "# HTML(animator.to_jshtml())\n",
    "# # or use animator.to_html5_video() or animator.save() "
   ]
  },
  {
   "cell_type": "code",
   "execution_count": null,
   "id": "australian-container",
   "metadata": {
    "papermill": {
     "duration": 0.040211,
     "end_time": "2021-10-20T00:25:13.367951",
     "exception": false,
     "start_time": "2021-10-20T00:25:13.327740",
     "status": "completed"
    },
    "tags": []
   },
   "outputs": [],
   "source": []
  },
  {
   "cell_type": "code",
   "execution_count": null,
   "id": "mediterranean-pontiac",
   "metadata": {
    "papermill": {
     "duration": 0.03938,
     "end_time": "2021-10-20T00:25:13.447329",
     "exception": false,
     "start_time": "2021-10-20T00:25:13.407949",
     "status": "completed"
    },
    "tags": []
   },
   "outputs": [],
   "source": []
  },
  {
   "cell_type": "code",
   "execution_count": null,
   "id": "aging-legislature",
   "metadata": {
    "papermill": {
     "duration": 0.039833,
     "end_time": "2021-10-20T00:25:13.526888",
     "exception": false,
     "start_time": "2021-10-20T00:25:13.487055",
     "status": "completed"
    },
    "tags": []
   },
   "outputs": [],
   "source": []
  }
 ],
 "metadata": {
  "kernelspec": {
   "display_name": "Python 3",
   "language": "python",
   "name": "python3"
  },
  "language_info": {
   "codemirror_mode": {
    "name": "ipython",
    "version": 3
   },
   "file_extension": ".py",
   "mimetype": "text/x-python",
   "name": "python",
   "nbconvert_exporter": "python",
   "pygments_lexer": "ipython3",
   "version": "3.6.15"
  },
  "papermill": {
   "duration": 7.174379,
   "end_time": "2021-10-20T00:25:13.877214",
   "environment_variables": {},
   "exception": null,
   "input_path": "2020-03-21-covid19exp.ipynb",
   "output_path": "2020-03-21-covid19exp.ipynb",
   "parameters": {},
   "start_time": "2021-10-20T00:25:06.702835",
   "version": "2.0.0"
  }
 },
 "nbformat": 4,
 "nbformat_minor": 5
}