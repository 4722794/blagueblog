{
 "cells": [
  {
   "cell_type": "markdown",
   "id": "muslim-click",
   "metadata": {
    "papermill": {
     "duration": 0.043309,
     "end_time": "2021-12-31T00:27:35.015193",
     "exception": false,
     "start_time": "2021-12-31T00:27:34.971884",
     "status": "completed"
    },
    "tags": []
   },
   "source": [
    "# COVID-19 Case Race\n",
    "> A race chart to see rising cases around the world\n",
    "\n",
    "- author: Hargun Oberoi\n",
    "- image: images/covid-overview.png\n",
    "- hide: false\n",
    "- badges: false"
   ]
  },
  {
   "cell_type": "code",
   "execution_count": 1,
   "id": "proof-material",
   "metadata": {
    "execution": {
     "iopub.execute_input": "2021-12-31T00:27:35.109600Z",
     "iopub.status.busy": "2021-12-31T00:27:35.108884Z",
     "iopub.status.idle": "2021-12-31T00:27:35.513016Z",
     "shell.execute_reply": "2021-12-31T00:27:35.512362Z"
    },
    "papermill": {
     "duration": 0.457157,
     "end_time": "2021-12-31T00:27:35.513200",
     "exception": false,
     "start_time": "2021-12-31T00:27:35.056043",
     "status": "completed"
    },
    "tags": []
   },
   "outputs": [],
   "source": [
    "#hide\n",
    "import numpy as np\n",
    "import pandas as pd\n",
    "from jinja2 import Template\n",
    "from IPython.display import HTML"
   ]
  },
  {
   "cell_type": "code",
   "execution_count": 2,
   "id": "developed-terminology",
   "metadata": {
    "execution": {
     "iopub.execute_input": "2021-12-31T00:27:35.596638Z",
     "iopub.status.busy": "2021-12-31T00:27:35.595927Z",
     "iopub.status.idle": "2021-12-31T00:27:35.599679Z",
     "shell.execute_reply": "2021-12-31T00:27:35.600204Z"
    },
    "papermill": {
     "duration": 0.047952,
     "end_time": "2021-12-31T00:27:35.600373",
     "exception": false,
     "start_time": "2021-12-31T00:27:35.552421",
     "status": "completed"
    },
    "tags": []
   },
   "outputs": [],
   "source": [
    "#hide\n",
    "\n",
    "# FETCH\n",
    "base_url = 'https://raw.githubusercontent.com/pratapvardhan/notebooks/master/covid19/'\n",
    "paths = {\n",
    "    'mapping': base_url + 'mapping_countries.csv',\n",
    "    'overview': base_url + 'overview.tpl'\n",
    "}"
   ]
  },
  {
   "cell_type": "code",
   "execution_count": 3,
   "id": "dynamic-saver",
   "metadata": {
    "execution": {
     "iopub.execute_input": "2021-12-31T00:27:35.690505Z",
     "iopub.status.busy": "2021-12-31T00:27:35.689802Z",
     "iopub.status.idle": "2021-12-31T00:27:35.692641Z",
     "shell.execute_reply": "2021-12-31T00:27:35.693215Z"
    },
    "papermill": {
     "duration": 0.05503,
     "end_time": "2021-12-31T00:27:35.693394",
     "exception": false,
     "start_time": "2021-12-31T00:27:35.638364",
     "status": "completed"
    },
    "tags": []
   },
   "outputs": [
    {
     "data": {
      "text/plain": [
       "'https://raw.githubusercontent.com/pratapvardhan/notebooks/master/covid19/mapping_countries.csv'"
      ]
     },
     "execution_count": 3,
     "metadata": {},
     "output_type": "execute_result"
    }
   ],
   "source": [
    "#hide\n",
    "paths['mapping']"
   ]
  },
  {
   "cell_type": "code",
   "execution_count": 4,
   "id": "urban-software",
   "metadata": {
    "execution": {
     "iopub.execute_input": "2021-12-31T00:27:35.775597Z",
     "iopub.status.busy": "2021-12-31T00:27:35.774902Z",
     "iopub.status.idle": "2021-12-31T00:27:35.777705Z",
     "shell.execute_reply": "2021-12-31T00:27:35.777087Z"
    },
    "papermill": {
     "duration": 0.046208,
     "end_time": "2021-12-31T00:27:35.777840",
     "exception": false,
     "start_time": "2021-12-31T00:27:35.731632",
     "status": "completed"
    },
    "tags": []
   },
   "outputs": [],
   "source": [
    "#hide\n",
    "def get_mappings(url):\n",
    "    df = pd.read_csv(url)\n",
    "    return {\n",
    "        'df': df,\n",
    "        'replace.country': dict(df.dropna(subset=['Name']).set_index('Country')['Name']),\n",
    "        'map.continent': dict(df.set_index('Name')['Continent'])\n",
    "    }"
   ]
  },
  {
   "cell_type": "code",
   "execution_count": 5,
   "id": "intimate-machinery",
   "metadata": {
    "execution": {
     "iopub.execute_input": "2021-12-31T00:27:35.861236Z",
     "iopub.status.busy": "2021-12-31T00:27:35.860527Z",
     "iopub.status.idle": "2021-12-31T00:27:35.972079Z",
     "shell.execute_reply": "2021-12-31T00:27:35.971512Z"
    },
    "papermill": {
     "duration": 0.155714,
     "end_time": "2021-12-31T00:27:35.972220",
     "exception": false,
     "start_time": "2021-12-31T00:27:35.816506",
     "status": "completed"
    },
    "tags": []
   },
   "outputs": [],
   "source": [
    "#hide\n",
    "mapping = get_mappings(paths['mapping'])"
   ]
  },
  {
   "cell_type": "code",
   "execution_count": 6,
   "id": "certified-tactics",
   "metadata": {
    "execution": {
     "iopub.execute_input": "2021-12-31T00:27:36.056084Z",
     "iopub.status.busy": "2021-12-31T00:27:36.053768Z",
     "iopub.status.idle": "2021-12-31T00:27:36.059052Z",
     "shell.execute_reply": "2021-12-31T00:27:36.058478Z"
    },
    "papermill": {
     "duration": 0.046023,
     "end_time": "2021-12-31T00:27:36.059184",
     "exception": false,
     "start_time": "2021-12-31T00:27:36.013161",
     "status": "completed"
    },
    "tags": []
   },
   "outputs": [],
   "source": [
    "#hide\n",
    "def get_template(path):\n",
    "    from urllib.parse import urlparse\n",
    "    if bool(urlparse(path).netloc):\n",
    "        from urllib.request import urlopen\n",
    "        return urlopen(path).read().decode('utf8')\n",
    "    return open(path).read()"
   ]
  },
  {
   "cell_type": "code",
   "execution_count": 7,
   "id": "realistic-blast",
   "metadata": {
    "execution": {
     "iopub.execute_input": "2021-12-31T00:27:36.142218Z",
     "iopub.status.busy": "2021-12-31T00:27:36.141541Z",
     "iopub.status.idle": "2021-12-31T00:27:36.144343Z",
     "shell.execute_reply": "2021-12-31T00:27:36.143775Z"
    },
    "papermill": {
     "duration": 0.046819,
     "end_time": "2021-12-31T00:27:36.144474",
     "exception": false,
     "start_time": "2021-12-31T00:27:36.097655",
     "status": "completed"
    },
    "tags": []
   },
   "outputs": [],
   "source": [
    "#hide\n",
    "def get_frame(name):\n",
    "    url = (\n",
    "        'https://raw.githubusercontent.com/CSSEGISandData/COVID-19/master/csse_covid_19_data/'\n",
    "        f'csse_covid_19_time_series/time_series_covid19_{name}_global.csv')\n",
    "    df = pd.read_csv(url)\n",
    "    # rename countries\n",
    "    df['Country/Region'] = df['Country/Region'].replace(mapping['replace.country'])\n",
    "    return df"
   ]
  },
  {
   "cell_type": "code",
   "execution_count": 8,
   "id": "affiliated-characterization",
   "metadata": {
    "execution": {
     "iopub.execute_input": "2021-12-31T00:27:36.228214Z",
     "iopub.status.busy": "2021-12-31T00:27:36.227524Z",
     "iopub.status.idle": "2021-12-31T00:27:36.230320Z",
     "shell.execute_reply": "2021-12-31T00:27:36.229768Z"
    },
    "papermill": {
     "duration": 0.0483,
     "end_time": "2021-12-31T00:27:36.230464",
     "exception": false,
     "start_time": "2021-12-31T00:27:36.182164",
     "status": "completed"
    },
    "tags": []
   },
   "outputs": [],
   "source": [
    "#hide\n",
    "def get_dates(df):\n",
    "    dt_cols = df.columns[~df.columns.isin(['Province/State', 'Country/Region', 'Lat', 'Long'])]\n",
    "    LAST_DATE_I = -1\n",
    "    # sometimes last column may be empty, then go backwards\n",
    "    for i in range(-1, -len(dt_cols), -1):\n",
    "        if not df[dt_cols[i]].fillna(0).eq(0).all():\n",
    "            LAST_DATE_I = i\n",
    "            break\n",
    "    return LAST_DATE_I, dt_cols"
   ]
  },
  {
   "cell_type": "code",
   "execution_count": 9,
   "id": "recent-optimization",
   "metadata": {
    "execution": {
     "iopub.execute_input": "2021-12-31T00:27:36.313438Z",
     "iopub.status.busy": "2021-12-31T00:27:36.312712Z",
     "iopub.status.idle": "2021-12-31T00:27:36.925869Z",
     "shell.execute_reply": "2021-12-31T00:27:36.925263Z"
    },
    "papermill": {
     "duration": 0.655722,
     "end_time": "2021-12-31T00:27:36.926033",
     "exception": false,
     "start_time": "2021-12-31T00:27:36.270311",
     "status": "completed"
    },
    "tags": []
   },
   "outputs": [],
   "source": [
    "#hide\n",
    "COL_REGION = 'Country/Region'\n",
    "# Confirmed, Recovered, Deaths\n",
    "df = get_frame('confirmed')\n",
    "# dft_: timeseries, dfc_: today country agg\n",
    "dft_cases = df\n",
    "dft_deaths = get_frame('deaths')\n",
    "dft_recovered = get_frame('recovered')\n",
    "LAST_DATE_I, dt_cols = get_dates(df)"
   ]
  },
  {
   "cell_type": "code",
   "execution_count": 10,
   "id": "absolute-copper",
   "metadata": {
    "execution": {
     "iopub.execute_input": "2021-12-31T00:27:37.008118Z",
     "iopub.status.busy": "2021-12-31T00:27:37.007432Z",
     "iopub.status.idle": "2021-12-31T00:27:37.011864Z",
     "shell.execute_reply": "2021-12-31T00:27:37.011292Z"
    },
    "papermill": {
     "duration": 0.047005,
     "end_time": "2021-12-31T00:27:37.011995",
     "exception": false,
     "start_time": "2021-12-31T00:27:36.964990",
     "status": "completed"
    },
    "tags": []
   },
   "outputs": [],
   "source": [
    "#hide\n",
    "LAST_DATE_I, dt_cols = get_dates(df)\n",
    "dt_today =dt_cols[LAST_DATE_I]\n",
    "# dt_5day = dt_cols[LAST_DATE_I - 5]\n",
    "dt_yday = dt_cols[LAST_DATE_I - 1]"
   ]
  },
  {
   "cell_type": "code",
   "execution_count": 11,
   "id": "restricted-sheriff",
   "metadata": {
    "execution": {
     "iopub.execute_input": "2021-12-31T00:27:37.095633Z",
     "iopub.status.busy": "2021-12-31T00:27:37.094908Z",
     "iopub.status.idle": "2021-12-31T00:27:37.102629Z",
     "shell.execute_reply": "2021-12-31T00:27:37.102055Z"
    },
    "papermill": {
     "duration": 0.05294,
     "end_time": "2021-12-31T00:27:37.102759",
     "exception": false,
     "start_time": "2021-12-31T00:27:37.049819",
     "status": "completed"
    },
    "tags": []
   },
   "outputs": [],
   "source": [
    "#hide\n",
    "dfc_cases = dft_cases.groupby(COL_REGION)[dt_today].sum()\n",
    "dfc_deaths = dft_deaths.groupby(COL_REGION)[dt_today].sum()\n",
    "# dfp_cases = dft_cases.groupby(COL_REGION)[dt_5day].sum()\n",
    "# dfp_deaths = dft_deaths.groupby(COL_REGION)[dt_5day].sum()\n",
    "dfp_cases = dft_cases.groupby(COL_REGION)[dt_yday].sum()\n",
    "dfp_deaths = dft_deaths.groupby(COL_REGION)[dt_yday].sum()"
   ]
  },
  {
   "cell_type": "code",
   "execution_count": 12,
   "id": "deluxe-hepatitis",
   "metadata": {
    "execution": {
     "iopub.execute_input": "2021-12-31T00:27:37.184571Z",
     "iopub.status.busy": "2021-12-31T00:27:37.183553Z",
     "iopub.status.idle": "2021-12-31T00:27:37.189396Z",
     "shell.execute_reply": "2021-12-31T00:27:37.188773Z"
    },
    "papermill": {
     "duration": 0.049752,
     "end_time": "2021-12-31T00:27:37.189531",
     "exception": false,
     "start_time": "2021-12-31T00:27:37.139779",
     "status": "completed"
    },
    "tags": []
   },
   "outputs": [],
   "source": [
    "#hide\n",
    "df_table = (pd.DataFrame(dict(Cases = dfc_cases, Deaths = dfc_deaths, PCases = dfp_cases, PDeaths = dfp_deaths))\n",
    "            .sort_values(by = ['Cases','Deaths'], ascending = [False, False])\n",
    "            .reset_index())"
   ]
  },
  {
   "cell_type": "code",
   "execution_count": 13,
   "id": "educational-chancellor",
   "metadata": {
    "execution": {
     "iopub.execute_input": "2021-12-31T00:27:37.290276Z",
     "iopub.status.busy": "2021-12-31T00:27:37.284799Z",
     "iopub.status.idle": "2021-12-31T00:27:37.321973Z",
     "shell.execute_reply": "2021-12-31T00:27:37.321348Z"
    },
    "papermill": {
     "duration": 0.09272,
     "end_time": "2021-12-31T00:27:37.322118",
     "exception": false,
     "start_time": "2021-12-31T00:27:37.229398",
     "status": "completed"
    },
    "tags": []
   },
   "outputs": [
    {
     "data": {
      "text/html": [
       "<div>\n",
       "<style scoped>\n",
       "    .dataframe tbody tr th:only-of-type {\n",
       "        vertical-align: middle;\n",
       "    }\n",
       "\n",
       "    .dataframe tbody tr th {\n",
       "        vertical-align: top;\n",
       "    }\n",
       "\n",
       "    .dataframe thead th {\n",
       "        text-align: right;\n",
       "    }\n",
       "</style>\n",
       "<table border=\"1\" class=\"dataframe\">\n",
       "  <thead>\n",
       "    <tr style=\"text-align: right;\">\n",
       "      <th></th>\n",
       "      <th>Country/Region</th>\n",
       "      <th>Cases</th>\n",
       "      <th>Deaths</th>\n",
       "      <th>PCases</th>\n",
       "      <th>PDeaths</th>\n",
       "      <th>Cases (+)</th>\n",
       "      <th>Deaths (+)</th>\n",
       "      <th>Fatality Rate</th>\n",
       "      <th>Continent</th>\n",
       "    </tr>\n",
       "  </thead>\n",
       "  <tbody>\n",
       "    <tr>\n",
       "      <th>0</th>\n",
       "      <td>US</td>\n",
       "      <td>53659688</td>\n",
       "      <td>822892</td>\n",
       "      <td>53170421</td>\n",
       "      <td>820708</td>\n",
       "      <td>489267</td>\n",
       "      <td>2184</td>\n",
       "      <td>1.53</td>\n",
       "      <td>North America</td>\n",
       "    </tr>\n",
       "    <tr>\n",
       "      <th>1</th>\n",
       "      <td>India</td>\n",
       "      <td>34822040</td>\n",
       "      <td>480860</td>\n",
       "      <td>34808886</td>\n",
       "      <td>480592</td>\n",
       "      <td>13154</td>\n",
       "      <td>268</td>\n",
       "      <td>1.38</td>\n",
       "      <td>Asia</td>\n",
       "    </tr>\n",
       "    <tr>\n",
       "      <th>2</th>\n",
       "      <td>Brazil</td>\n",
       "      <td>22269031</td>\n",
       "      <td>619095</td>\n",
       "      <td>22259270</td>\n",
       "      <td>618978</td>\n",
       "      <td>9761</td>\n",
       "      <td>117</td>\n",
       "      <td>2.78</td>\n",
       "      <td>South America</td>\n",
       "    </tr>\n",
       "    <tr>\n",
       "      <th>3</th>\n",
       "      <td>United Kingdom</td>\n",
       "      <td>12630442</td>\n",
       "      <td>148557</td>\n",
       "      <td>12406697</td>\n",
       "      <td>148488</td>\n",
       "      <td>223745</td>\n",
       "      <td>69</td>\n",
       "      <td>1.18</td>\n",
       "      <td>Europe</td>\n",
       "    </tr>\n",
       "    <tr>\n",
       "      <th>4</th>\n",
       "      <td>Russia</td>\n",
       "      <td>10279009</td>\n",
       "      <td>300886</td>\n",
       "      <td>10258052</td>\n",
       "      <td>299983</td>\n",
       "      <td>20957</td>\n",
       "      <td>903</td>\n",
       "      <td>2.93</td>\n",
       "      <td>Europe</td>\n",
       "    </tr>\n",
       "  </tbody>\n",
       "</table>\n",
       "</div>"
      ],
      "text/plain": [
       "   Country/Region     Cases  Deaths    PCases  PDeaths  Cases (+)  Deaths (+)  \\\n",
       "0              US  53659688  822892  53170421   820708     489267        2184   \n",
       "1           India  34822040  480860  34808886   480592      13154         268   \n",
       "2          Brazil  22269031  619095  22259270   618978       9761         117   \n",
       "3  United Kingdom  12630442  148557  12406697   148488     223745          69   \n",
       "4          Russia  10279009  300886  10258052   299983      20957         903   \n",
       "\n",
       "   Fatality Rate      Continent  \n",
       "0           1.53  North America  \n",
       "1           1.38           Asia  \n",
       "2           2.78  South America  \n",
       "3           1.18         Europe  \n",
       "4           2.93         Europe  "
      ]
     },
     "execution_count": 13,
     "metadata": {},
     "output_type": "execute_result"
    }
   ],
   "source": [
    "#hide\n",
    "for c in 'Cases, Deaths'.split(', '):\n",
    "    df_table[f'{c} (+)'] = (df_table[c] - df_table[f'P{c}']).clip(0)\n",
    "    #Clip ça veut dire, les chiffres negatif sont interdit\n",
    "df_table['Fatality Rate'] = (100* df_table['Deaths']/ df_table['Cases']).round(2)\n",
    "df_table['Continent'] = df_table['Country/Region'].map(mapping['map.continent'])\n",
    "df_table.head(5)"
   ]
  },
  {
   "cell_type": "code",
   "execution_count": 14,
   "id": "aboriginal-bulgaria",
   "metadata": {
    "execution": {
     "iopub.execute_input": "2021-12-31T00:27:37.408566Z",
     "iopub.status.busy": "2021-12-31T00:27:37.407893Z",
     "iopub.status.idle": "2021-12-31T00:27:37.410689Z",
     "shell.execute_reply": "2021-12-31T00:27:37.410117Z"
    },
    "papermill": {
     "duration": 0.048487,
     "end_time": "2021-12-31T00:27:37.410825",
     "exception": false,
     "start_time": "2021-12-31T00:27:37.362338",
     "status": "completed"
    },
    "tags": []
   },
   "outputs": [],
   "source": [
    "#hide\n",
    "#delete problematic countries from table\n",
    "df_table = df_table[~df_table['Country/Region'].isin(['Cape Verde', 'Cruise Ship', 'Kosovo'])]"
   ]
  },
  {
   "cell_type": "code",
   "execution_count": 15,
   "id": "fantastic-effect",
   "metadata": {
    "execution": {
     "iopub.execute_input": "2021-12-31T00:27:37.498279Z",
     "iopub.status.busy": "2021-12-31T00:27:37.493799Z",
     "iopub.status.idle": "2021-12-31T00:27:37.519629Z",
     "shell.execute_reply": "2021-12-31T00:27:37.520145Z"
    },
    "papermill": {
     "duration": 0.071634,
     "end_time": "2021-12-31T00:27:37.520292",
     "exception": false,
     "start_time": "2021-12-31T00:27:37.448658",
     "status": "completed"
    },
    "tags": []
   },
   "outputs": [
    {
     "data": {
      "text/html": [
       "<div>\n",
       "<style scoped>\n",
       "    .dataframe tbody tr th:only-of-type {\n",
       "        vertical-align: middle;\n",
       "    }\n",
       "\n",
       "    .dataframe tbody tr th {\n",
       "        vertical-align: top;\n",
       "    }\n",
       "\n",
       "    .dataframe thead th {\n",
       "        text-align: right;\n",
       "    }\n",
       "</style>\n",
       "<table border=\"1\" class=\"dataframe\">\n",
       "  <thead>\n",
       "    <tr style=\"text-align: right;\">\n",
       "      <th></th>\n",
       "      <th>Country/Region</th>\n",
       "      <th>Cases</th>\n",
       "      <th>Deaths</th>\n",
       "      <th>PCases</th>\n",
       "      <th>PDeaths</th>\n",
       "      <th>Cases (+)</th>\n",
       "      <th>Deaths (+)</th>\n",
       "      <th>Fatality Rate</th>\n",
       "      <th>Continent</th>\n",
       "    </tr>\n",
       "  </thead>\n",
       "  <tbody>\n",
       "    <tr>\n",
       "      <th>0</th>\n",
       "      <td>US</td>\n",
       "      <td>53659688</td>\n",
       "      <td>822892</td>\n",
       "      <td>53170421</td>\n",
       "      <td>820708</td>\n",
       "      <td>489267</td>\n",
       "      <td>2184</td>\n",
       "      <td>1.5</td>\n",
       "      <td>North America</td>\n",
       "    </tr>\n",
       "    <tr>\n",
       "      <th>1</th>\n",
       "      <td>India</td>\n",
       "      <td>34822040</td>\n",
       "      <td>480860</td>\n",
       "      <td>34808886</td>\n",
       "      <td>480592</td>\n",
       "      <td>13154</td>\n",
       "      <td>268</td>\n",
       "      <td>1.4</td>\n",
       "      <td>Asia</td>\n",
       "    </tr>\n",
       "    <tr>\n",
       "      <th>2</th>\n",
       "      <td>Brazil</td>\n",
       "      <td>22269031</td>\n",
       "      <td>619095</td>\n",
       "      <td>22259270</td>\n",
       "      <td>618978</td>\n",
       "      <td>9761</td>\n",
       "      <td>117</td>\n",
       "      <td>2.8</td>\n",
       "      <td>South America</td>\n",
       "    </tr>\n",
       "    <tr>\n",
       "      <th>3</th>\n",
       "      <td>United Kingdom</td>\n",
       "      <td>12630442</td>\n",
       "      <td>148557</td>\n",
       "      <td>12406697</td>\n",
       "      <td>148488</td>\n",
       "      <td>223745</td>\n",
       "      <td>69</td>\n",
       "      <td>1.2</td>\n",
       "      <td>Europe</td>\n",
       "    </tr>\n",
       "    <tr>\n",
       "      <th>4</th>\n",
       "      <td>Russia</td>\n",
       "      <td>10279009</td>\n",
       "      <td>300886</td>\n",
       "      <td>10258052</td>\n",
       "      <td>299983</td>\n",
       "      <td>20957</td>\n",
       "      <td>903</td>\n",
       "      <td>2.9</td>\n",
       "      <td>Europe</td>\n",
       "    </tr>\n",
       "  </tbody>\n",
       "</table>\n",
       "</div>"
      ],
      "text/plain": [
       "   Country/Region     Cases  Deaths    PCases  PDeaths  Cases (+)  Deaths (+)  \\\n",
       "0              US  53659688  822892  53170421   820708     489267        2184   \n",
       "1           India  34822040  480860  34808886   480592      13154         268   \n",
       "2          Brazil  22269031  619095  22259270   618978       9761         117   \n",
       "3  United Kingdom  12630442  148557  12406697   148488     223745          69   \n",
       "4          Russia  10279009  300886  10258052   299983      20957         903   \n",
       "\n",
       "   Fatality Rate      Continent  \n",
       "0            1.5  North America  \n",
       "1            1.4           Asia  \n",
       "2            2.8  South America  \n",
       "3            1.2         Europe  \n",
       "4            2.9         Europe  "
      ]
     },
     "execution_count": 15,
     "metadata": {},
     "output_type": "execute_result"
    }
   ],
   "source": [
    "#hide\n",
    "df_table = (pd.DataFrame(dict(Cases=dfc_cases, Deaths=dfc_deaths, PCases=dfp_cases, PDeaths=dfp_deaths))\n",
    "             .sort_values(by=['Cases', 'Deaths'], ascending=[False, False])\n",
    "             .reset_index())\n",
    "df_table.rename(columns={'index': 'Country/Region'}, inplace=True)\n",
    "for c in 'Cases, Deaths'.split(', '):\n",
    "    df_table[f'{c} (+)'] = (df_table[c] - df_table[f'P{c}']).clip(0)  # DATA BUG\n",
    "df_table['Fatality Rate'] = (100 * df_table['Deaths'] / df_table['Cases']).round(1)\n",
    "df_table['Continent'] = df_table['Country/Region'].map(mapping['map.continent'])\n",
    "df_table.head(5)"
   ]
  },
  {
   "cell_type": "code",
   "execution_count": 16,
   "id": "fewer-occasion",
   "metadata": {
    "execution": {
     "iopub.execute_input": "2021-12-31T00:27:37.603122Z",
     "iopub.status.busy": "2021-12-31T00:27:37.602452Z",
     "iopub.status.idle": "2021-12-31T00:27:37.606680Z",
     "shell.execute_reply": "2021-12-31T00:27:37.606090Z"
    },
    "papermill": {
     "duration": 0.047762,
     "end_time": "2021-12-31T00:27:37.606813",
     "exception": false,
     "start_time": "2021-12-31T00:27:37.559051",
     "status": "completed"
    },
    "tags": []
   },
   "outputs": [],
   "source": [
    "#hide\n",
    "#delete problematic countries from table\n",
    "df_table = df_table[~df_table['Country/Region'].isin(['Cape Verde', 'Cruise Ship', 'Kosovo'])]"
   ]
  },
  {
   "cell_type": "code",
   "execution_count": 17,
   "id": "related-center",
   "metadata": {
    "execution": {
     "iopub.execute_input": "2021-12-31T00:27:37.710683Z",
     "iopub.status.busy": "2021-12-31T00:27:37.709936Z",
     "iopub.status.idle": "2021-12-31T00:27:37.711686Z",
     "shell.execute_reply": "2021-12-31T00:27:37.712332Z"
    },
    "papermill": {
     "duration": 0.067792,
     "end_time": "2021-12-31T00:27:37.712962",
     "exception": false,
     "start_time": "2021-12-31T00:27:37.645170",
     "status": "completed"
    },
    "tags": []
   },
   "outputs": [],
   "source": [
    "#hide\n",
    "metrics = [df_table.columns[index] for index in [1,2,5,6]]\n",
    "# s_china = df_table[df_table['Country/Region'].eq('China')][metrics].sum().add_prefix('China ')\n",
    "s_us = df_table[df_table['Country/Region'].eq('US')][metrics].sum().add_prefix('US ')\n",
    "s_eu = df_table[df_table['Continent'].eq('Europe')][metrics].sum().add_prefix('EU ')\n",
    "s_ind = df_table[df_table['Country/Region'].eq('India')][metrics].sum().add_prefix('India ')\n",
    "summary = {'updated': pd.to_datetime(dt_today), 'since': pd.to_datetime(dt_yday)}\n",
    "summary = {'updated': pd.to_datetime(dt_today), 'since': pd.to_datetime(dt_yday)}\n",
    "summary = {**summary, **df_table[metrics].sum(), **s_ind, **s_us, **s_eu}"
   ]
  },
  {
   "cell_type": "code",
   "execution_count": 18,
   "id": "engaging-syndrome",
   "metadata": {
    "execution": {
     "iopub.execute_input": "2021-12-31T00:27:37.802329Z",
     "iopub.status.busy": "2021-12-31T00:27:37.801641Z",
     "iopub.status.idle": "2021-12-31T00:27:37.813449Z",
     "shell.execute_reply": "2021-12-31T00:27:37.812891Z"
    },
    "papermill": {
     "duration": 0.06043,
     "end_time": "2021-12-31T00:27:37.813597",
     "exception": false,
     "start_time": "2021-12-31T00:27:37.753167",
     "status": "completed"
    },
    "tags": []
   },
   "outputs": [],
   "source": [
    "#hide\n",
    "dft_ct_new_cases = dft_cases.groupby(COL_REGION)[dt_cols].sum().diff(axis=1).fillna(0).astype(int)"
   ]
  },
  {
   "cell_type": "code",
   "execution_count": 19,
   "id": "neutral-assignment",
   "metadata": {
    "execution": {
     "iopub.execute_input": "2021-12-31T00:27:37.903311Z",
     "iopub.status.busy": "2021-12-31T00:27:37.901918Z",
     "iopub.status.idle": "2021-12-31T00:27:37.905361Z",
     "shell.execute_reply": "2021-12-31T00:27:37.904722Z"
    },
    "papermill": {
     "duration": 0.052052,
     "end_time": "2021-12-31T00:27:37.905521",
     "exception": false,
     "start_time": "2021-12-31T00:27:37.853469",
     "status": "completed"
    },
    "tags": []
   },
   "outputs": [],
   "source": [
    "#hide\n",
    "everydaycases = dft_ct_new_cases.cumsum(axis=1)"
   ]
  },
  {
   "cell_type": "code",
   "execution_count": 20,
   "id": "parliamentary-calgary",
   "metadata": {
    "execution": {
     "iopub.execute_input": "2021-12-31T00:27:37.992235Z",
     "iopub.status.busy": "2021-12-31T00:27:37.991501Z",
     "iopub.status.idle": "2021-12-31T00:27:38.760103Z",
     "shell.execute_reply": "2021-12-31T00:27:38.760653Z"
    },
    "papermill": {
     "duration": 0.814899,
     "end_time": "2021-12-31T00:27:38.760857",
     "exception": false,
     "start_time": "2021-12-31T00:27:37.945958",
     "status": "completed"
    },
    "tags": []
   },
   "outputs": [],
   "source": [
    "#hide\n",
    "import pandas as pd\n",
    "import matplotlib.pyplot as plt\n",
    "import matplotlib.ticker as ticker\n",
    "import matplotlib.animation as animation\n",
    "from IPython.display import HTML"
   ]
  },
  {
   "cell_type": "code",
   "execution_count": 21,
   "id": "lasting-extraction",
   "metadata": {
    "execution": {
     "iopub.execute_input": "2021-12-31T00:27:38.848661Z",
     "iopub.status.busy": "2021-12-31T00:27:38.847995Z",
     "iopub.status.idle": "2021-12-31T00:27:38.854651Z",
     "shell.execute_reply": "2021-12-31T00:27:38.855292Z"
    },
    "papermill": {
     "duration": 0.053797,
     "end_time": "2021-12-31T00:27:38.855447",
     "exception": false,
     "start_time": "2021-12-31T00:27:38.801650",
     "status": "completed"
    },
    "tags": []
   },
   "outputs": [],
   "source": [
    "#hide\n",
    "t = everydaycases.stack()"
   ]
  },
  {
   "cell_type": "code",
   "execution_count": 22,
   "id": "premier-sleeve",
   "metadata": {
    "execution": {
     "iopub.execute_input": "2021-12-31T00:27:38.936527Z",
     "iopub.status.busy": "2021-12-31T00:27:38.935868Z",
     "iopub.status.idle": "2021-12-31T00:27:38.947948Z",
     "shell.execute_reply": "2021-12-31T00:27:38.947416Z"
    },
    "papermill": {
     "duration": 0.0546,
     "end_time": "2021-12-31T00:27:38.948078",
     "exception": false,
     "start_time": "2021-12-31T00:27:38.893478",
     "status": "completed"
    },
    "tags": []
   },
   "outputs": [],
   "source": [
    "#hide\n",
    "g = t.reset_index(['Country/Region'])"
   ]
  },
  {
   "cell_type": "code",
   "execution_count": 23,
   "id": "distributed-pittsburgh",
   "metadata": {
    "execution": {
     "iopub.execute_input": "2021-12-31T00:27:39.030876Z",
     "iopub.status.busy": "2021-12-31T00:27:39.030198Z",
     "iopub.status.idle": "2021-12-31T00:27:39.034047Z",
     "shell.execute_reply": "2021-12-31T00:27:39.034560Z"
    },
    "papermill": {
     "duration": 0.047912,
     "end_time": "2021-12-31T00:27:39.034718",
     "exception": false,
     "start_time": "2021-12-31T00:27:38.986806",
     "status": "completed"
    },
    "tags": []
   },
   "outputs": [],
   "source": [
    "#hide\n",
    "g.index.name = 'date'"
   ]
  },
  {
   "cell_type": "code",
   "execution_count": 24,
   "id": "naked-donor",
   "metadata": {
    "execution": {
     "iopub.execute_input": "2021-12-31T00:27:39.117970Z",
     "iopub.status.busy": "2021-12-31T00:27:39.117292Z",
     "iopub.status.idle": "2021-12-31T00:27:39.120915Z",
     "shell.execute_reply": "2021-12-31T00:27:39.121432Z"
    },
    "papermill": {
     "duration": 0.047092,
     "end_time": "2021-12-31T00:27:39.121591",
     "exception": false,
     "start_time": "2021-12-31T00:27:39.074499",
     "status": "completed"
    },
    "tags": []
   },
   "outputs": [],
   "source": [
    "# #hide\n",
    "# g = g.reset_index(['date'])"
   ]
  },
  {
   "cell_type": "code",
   "execution_count": 25,
   "id": "incomplete-mustang",
   "metadata": {
    "execution": {
     "iopub.execute_input": "2021-12-31T00:27:39.202850Z",
     "iopub.status.busy": "2021-12-31T00:27:39.201522Z",
     "iopub.status.idle": "2021-12-31T00:27:39.205852Z",
     "shell.execute_reply": "2021-12-31T00:27:39.206357Z"
    },
    "papermill": {
     "duration": 0.045447,
     "end_time": "2021-12-31T00:27:39.206501",
     "exception": false,
     "start_time": "2021-12-31T00:27:39.161054",
     "status": "completed"
    },
    "tags": []
   },
   "outputs": [],
   "source": [
    "#hide\n",
    "# g.head()"
   ]
  },
  {
   "cell_type": "code",
   "execution_count": 26,
   "id": "specific-kruger",
   "metadata": {
    "execution": {
     "iopub.execute_input": "2021-12-31T00:27:39.289163Z",
     "iopub.status.busy": "2021-12-31T00:27:39.288453Z",
     "iopub.status.idle": "2021-12-31T00:27:39.290768Z",
     "shell.execute_reply": "2021-12-31T00:27:39.291285Z"
    },
    "papermill": {
     "duration": 0.045451,
     "end_time": "2021-12-31T00:27:39.291438",
     "exception": false,
     "start_time": "2021-12-31T00:27:39.245987",
     "status": "completed"
    },
    "tags": []
   },
   "outputs": [],
   "source": [
    "#hide\n",
    "# g.columns = ['date','country','cases']"
   ]
  },
  {
   "cell_type": "code",
   "execution_count": 27,
   "id": "tender-conversion",
   "metadata": {
    "execution": {
     "iopub.execute_input": "2021-12-31T00:27:39.373225Z",
     "iopub.status.busy": "2021-12-31T00:27:39.372441Z",
     "iopub.status.idle": "2021-12-31T00:27:39.374851Z",
     "shell.execute_reply": "2021-12-31T00:27:39.374181Z"
    },
    "papermill": {
     "duration": 0.044571,
     "end_time": "2021-12-31T00:27:39.374987",
     "exception": false,
     "start_time": "2021-12-31T00:27:39.330416",
     "status": "completed"
    },
    "tags": []
   },
   "outputs": [],
   "source": [
    "#hide\n",
    "# g['continent'] = g.country"
   ]
  },
  {
   "cell_type": "code",
   "execution_count": 28,
   "id": "substantial-wilderness",
   "metadata": {
    "execution": {
     "iopub.execute_input": "2021-12-31T00:27:39.458086Z",
     "iopub.status.busy": "2021-12-31T00:27:39.457400Z",
     "iopub.status.idle": "2021-12-31T00:27:39.459919Z",
     "shell.execute_reply": "2021-12-31T00:27:39.459235Z"
    },
    "papermill": {
     "duration": 0.046626,
     "end_time": "2021-12-31T00:27:39.460062",
     "exception": false,
     "start_time": "2021-12-31T00:27:39.413436",
     "status": "completed"
    },
    "tags": []
   },
   "outputs": [],
   "source": [
    "#hide\n",
    "# cols = list(g.columns.values)"
   ]
  },
  {
   "cell_type": "code",
   "execution_count": 29,
   "id": "solved-farming",
   "metadata": {
    "execution": {
     "iopub.execute_input": "2021-12-31T00:27:39.544866Z",
     "iopub.status.busy": "2021-12-31T00:27:39.543608Z",
     "iopub.status.idle": "2021-12-31T00:27:39.548480Z",
     "shell.execute_reply": "2021-12-31T00:27:39.547939Z"
    },
    "papermill": {
     "duration": 0.04785,
     "end_time": "2021-12-31T00:27:39.548623",
     "exception": false,
     "start_time": "2021-12-31T00:27:39.500773",
     "status": "completed"
    },
    "tags": []
   },
   "outputs": [],
   "source": [
    "#hide\n",
    "# cols.insert(0, cols.pop())"
   ]
  },
  {
   "cell_type": "code",
   "execution_count": 30,
   "id": "executed-adoption",
   "metadata": {
    "execution": {
     "iopub.execute_input": "2021-12-31T00:27:39.631217Z",
     "iopub.status.busy": "2021-12-31T00:27:39.630534Z",
     "iopub.status.idle": "2021-12-31T00:27:39.632704Z",
     "shell.execute_reply": "2021-12-31T00:27:39.632038Z"
    },
    "papermill": {
     "duration": 0.045867,
     "end_time": "2021-12-31T00:27:39.632870",
     "exception": false,
     "start_time": "2021-12-31T00:27:39.587003",
     "status": "completed"
    },
    "tags": []
   },
   "outputs": [],
   "source": [
    "#hide\n",
    "# g = g[cols]"
   ]
  },
  {
   "cell_type": "code",
   "execution_count": 31,
   "id": "subject-dublin",
   "metadata": {
    "execution": {
     "iopub.execute_input": "2021-12-31T00:27:39.718157Z",
     "iopub.status.busy": "2021-12-31T00:27:39.717473Z",
     "iopub.status.idle": "2021-12-31T00:27:39.720060Z",
     "shell.execute_reply": "2021-12-31T00:27:39.719494Z"
    },
    "papermill": {
     "duration": 0.046389,
     "end_time": "2021-12-31T00:27:39.720207",
     "exception": false,
     "start_time": "2021-12-31T00:27:39.673818",
     "status": "completed"
    },
    "tags": []
   },
   "outputs": [],
   "source": [
    "#hide\n",
    "# g['continent'] = g['continent'].map(mapping['map.continent'])"
   ]
  },
  {
   "cell_type": "code",
   "execution_count": 32,
   "id": "freelance-scout",
   "metadata": {
    "execution": {
     "iopub.execute_input": "2021-12-31T00:27:39.800738Z",
     "iopub.status.busy": "2021-12-31T00:27:39.800065Z",
     "iopub.status.idle": "2021-12-31T00:27:39.804241Z",
     "shell.execute_reply": "2021-12-31T00:27:39.803667Z"
    },
    "papermill": {
     "duration": 0.045573,
     "end_time": "2021-12-31T00:27:39.804377",
     "exception": false,
     "start_time": "2021-12-31T00:27:39.758804",
     "status": "completed"
    },
    "tags": []
   },
   "outputs": [],
   "source": [
    "#hide\n",
    "# g.head()"
   ]
  },
  {
   "cell_type": "code",
   "execution_count": 33,
   "id": "limited-engine",
   "metadata": {
    "execution": {
     "iopub.execute_input": "2021-12-31T00:27:39.887593Z",
     "iopub.status.busy": "2021-12-31T00:27:39.886932Z",
     "iopub.status.idle": "2021-12-31T00:27:39.889741Z",
     "shell.execute_reply": "2021-12-31T00:27:39.889173Z"
    },
    "papermill": {
     "duration": 0.045471,
     "end_time": "2021-12-31T00:27:39.889874",
     "exception": false,
     "start_time": "2021-12-31T00:27:39.844403",
     "status": "completed"
    },
    "tags": []
   },
   "outputs": [],
   "source": [
    "# hide\n",
    "# g['date'] = g['date'].astype('datetime64[ns]')"
   ]
  },
  {
   "cell_type": "code",
   "execution_count": 34,
   "id": "sophisticated-supervisor",
   "metadata": {
    "execution": {
     "iopub.execute_input": "2021-12-31T00:27:39.971774Z",
     "iopub.status.busy": "2021-12-31T00:27:39.971094Z",
     "iopub.status.idle": "2021-12-31T00:27:39.974931Z",
     "shell.execute_reply": "2021-12-31T00:27:39.975450Z"
    },
    "papermill": {
     "duration": 0.046784,
     "end_time": "2021-12-31T00:27:39.975610",
     "exception": false,
     "start_time": "2021-12-31T00:27:39.928826",
     "status": "completed"
    },
    "tags": []
   },
   "outputs": [],
   "source": [
    "#hide\n",
    "# g['date'] = g.date.dt.dayofyear"
   ]
  },
  {
   "cell_type": "code",
   "execution_count": 35,
   "id": "inside-dubai",
   "metadata": {
    "execution": {
     "iopub.execute_input": "2021-12-31T00:27:40.057125Z",
     "iopub.status.busy": "2021-12-31T00:27:40.056329Z",
     "iopub.status.idle": "2021-12-31T00:27:40.060348Z",
     "shell.execute_reply": "2021-12-31T00:27:40.059754Z"
    },
    "papermill": {
     "duration": 0.046054,
     "end_time": "2021-12-31T00:27:40.060479",
     "exception": false,
     "start_time": "2021-12-31T00:27:40.014425",
     "status": "completed"
    },
    "tags": []
   },
   "outputs": [],
   "source": [
    "#hide\n",
    "# g = g.rename(columns= {'continent':'group','country':'name','cases':'value'})"
   ]
  },
  {
   "cell_type": "code",
   "execution_count": 36,
   "id": "fleet-motorcycle",
   "metadata": {
    "execution": {
     "iopub.execute_input": "2021-12-31T00:27:40.141118Z",
     "iopub.status.busy": "2021-12-31T00:27:40.140394Z",
     "iopub.status.idle": "2021-12-31T00:27:40.142623Z",
     "shell.execute_reply": "2021-12-31T00:27:40.143136Z"
    },
    "papermill": {
     "duration": 0.043455,
     "end_time": "2021-12-31T00:27:40.143291",
     "exception": false,
     "start_time": "2021-12-31T00:27:40.099836",
     "status": "completed"
    },
    "tags": []
   },
   "outputs": [],
   "source": [
    "#hide\n",
    "# cols = ['name','group','day','value']"
   ]
  },
  {
   "cell_type": "code",
   "execution_count": 37,
   "id": "continued-sleeping",
   "metadata": {
    "execution": {
     "iopub.execute_input": "2021-12-31T00:27:40.225359Z",
     "iopub.status.busy": "2021-12-31T00:27:40.224651Z",
     "iopub.status.idle": "2021-12-31T00:27:40.227969Z",
     "shell.execute_reply": "2021-12-31T00:27:40.228481Z"
    },
    "papermill": {
     "duration": 0.046108,
     "end_time": "2021-12-31T00:27:40.228626",
     "exception": false,
     "start_time": "2021-12-31T00:27:40.182518",
     "status": "completed"
    },
    "tags": []
   },
   "outputs": [],
   "source": [
    "#hide\n",
    "# g.rename(columns= {'date':'day'},inplace = True)"
   ]
  },
  {
   "cell_type": "code",
   "execution_count": 38,
   "id": "major-fight",
   "metadata": {
    "execution": {
     "iopub.execute_input": "2021-12-31T00:27:40.310296Z",
     "iopub.status.busy": "2021-12-31T00:27:40.309622Z",
     "iopub.status.idle": "2021-12-31T00:27:40.313808Z",
     "shell.execute_reply": "2021-12-31T00:27:40.313241Z"
    },
    "papermill": {
     "duration": 0.04686,
     "end_time": "2021-12-31T00:27:40.313942",
     "exception": false,
     "start_time": "2021-12-31T00:27:40.267082",
     "status": "completed"
    },
    "tags": []
   },
   "outputs": [],
   "source": [
    "#hide\n",
    "# g = g[cols]"
   ]
  },
  {
   "cell_type": "code",
   "execution_count": 39,
   "id": "structured-mobile",
   "metadata": {
    "execution": {
     "iopub.execute_input": "2021-12-31T00:27:40.395284Z",
     "iopub.status.busy": "2021-12-31T00:27:40.394601Z",
     "iopub.status.idle": "2021-12-31T00:27:40.397299Z",
     "shell.execute_reply": "2021-12-31T00:27:40.396695Z"
    },
    "papermill": {
     "duration": 0.044267,
     "end_time": "2021-12-31T00:27:40.397435",
     "exception": false,
     "start_time": "2021-12-31T00:27:40.353168",
     "status": "completed"
    },
    "tags": []
   },
   "outputs": [],
   "source": [
    "# #hide\n",
    "# g = g[g.group.notna()]"
   ]
  },
  {
   "cell_type": "code",
   "execution_count": 40,
   "id": "determined-closing",
   "metadata": {
    "execution": {
     "iopub.execute_input": "2021-12-31T00:27:40.480487Z",
     "iopub.status.busy": "2021-12-31T00:27:40.479797Z",
     "iopub.status.idle": "2021-12-31T00:27:40.483703Z",
     "shell.execute_reply": "2021-12-31T00:27:40.484218Z"
    },
    "papermill": {
     "duration": 0.047828,
     "end_time": "2021-12-31T00:27:40.484368",
     "exception": false,
     "start_time": "2021-12-31T00:27:40.436540",
     "status": "completed"
    },
    "tags": []
   },
   "outputs": [],
   "source": [
    "# #hide\n",
    "# colors = dict(zip(\n",
    "#     [\"Oceania\", \"Europe\", \"Asia\", \"South America\", \"Middle East\", \"North America\", \"Africa\"],\n",
    "#     [\"#adb0ff\", \"#ffb3ff\", \"#90d595\", \"#e48381\", \"#aafbff\", \"#f7bb5f\", \"#eafb50\"]\n",
    "# ))\n",
    "# group_lk = g.set_index('name')['group'].to_dict()"
   ]
  },
  {
   "cell_type": "code",
   "execution_count": null,
   "id": "gross-drinking",
   "metadata": {
    "papermill": {
     "duration": 0.038819,
     "end_time": "2021-12-31T00:27:40.561561",
     "exception": false,
     "start_time": "2021-12-31T00:27:40.522742",
     "status": "completed"
    },
    "tags": []
   },
   "outputs": [],
   "source": []
  },
  {
   "cell_type": "code",
   "execution_count": 41,
   "id": "subject-macintosh",
   "metadata": {
    "execution": {
     "iopub.execute_input": "2021-12-31T00:27:40.644571Z",
     "iopub.status.busy": "2021-12-31T00:27:40.643877Z",
     "iopub.status.idle": "2021-12-31T00:27:40.646477Z",
     "shell.execute_reply": "2021-12-31T00:27:40.645812Z"
    },
    "papermill": {
     "duration": 0.045199,
     "end_time": "2021-12-31T00:27:40.646610",
     "exception": false,
     "start_time": "2021-12-31T00:27:40.601411",
     "status": "completed"
    },
    "tags": []
   },
   "outputs": [],
   "source": [
    "# #hide\n",
    "# fig, ax = plt.subplots(figsize=(15, 8))\n",
    "\n",
    "# def draw_barchart(current_day):\n",
    "#     dff = g[g['day'].eq(current_day)].sort_values(by='value', ascending=True).tail(10)\n",
    "#     ax.clear()\n",
    "#     ax.barh(dff['name'], dff['value'], color=[colors[group_lk[x]] for x in dff['name']])\n",
    "#     dx = dff['value'].max() / 200\n",
    "    \n",
    "#     for i, (value, name) in enumerate(zip(dff['value'], dff['name'])):\n",
    "#         ax.text(value-dx, i,     name,           size=14, weight=600, ha='right', va='bottom')\n",
    "#         ax.text(value-dx, i-.25, group_lk[name], size=10, color='#444444', ha='right', va='baseline')\n",
    "#         ax.text(value+dx, i,     f'{value:,.0f}',  size=14, ha='left',  va='center')\n",
    "#     ax.text(1, 0.4, current_day, transform=ax.transAxes, color='#777777', size=46, ha='right', weight=800)\n",
    "#     ax.text(0, 1.06, 'Population (thousands)', transform=ax.transAxes, size=12, color='#777777')\n",
    "#     ax.xaxis.set_major_formatter(ticker.StrMethodFormatter('{x:,.0f}'))\n",
    "#     ax.xaxis.set_ticks_position('top')\n",
    "#     ax.tick_params(axis='x', colors='#777777', labelsize=12)\n",
    "#     ax.set_yticks([])\n",
    "#     ax.margins(0, 0.01)\n",
    "#     ax.grid(which='major', axis='x', linestyle='-')\n",
    "#     ax.set_axisbelow(True)\n",
    "    \n",
    "#     ax.text(0, 1.15, 'Coronavirus',\n",
    "#             transform=ax.transAxes, size=24, weight=600, ha='left', va='top')\n",
    "# #     ax.text(1, 0, 'by @pratapvardhan; credit @jburnmurdoch', transform=ax.transAxes, color='#777777', ha='right',\n",
    "# #             bbox=dict(facecolor='white', alpha=0.8, edgecolor='white'))\n",
    "#     plt.box(False)"
   ]
  },
  {
   "cell_type": "code",
   "execution_count": 42,
   "id": "sexual-wages",
   "metadata": {
    "execution": {
     "iopub.execute_input": "2021-12-31T00:27:40.728815Z",
     "iopub.status.busy": "2021-12-31T00:27:40.728141Z",
     "iopub.status.idle": "2021-12-31T00:27:40.731820Z",
     "shell.execute_reply": "2021-12-31T00:27:40.732338Z"
    },
    "papermill": {
     "duration": 0.046533,
     "end_time": "2021-12-31T00:27:40.732483",
     "exception": false,
     "start_time": "2021-12-31T00:27:40.685950",
     "status": "completed"
    },
    "tags": []
   },
   "outputs": [],
   "source": [
    "# #hide_input\n",
    "# fig, ax = plt.subplots(figsize=(15, 8))\n",
    "# animator = animation.FuncAnimation(fig, draw_barchart, frames=range(g.day.values.min(), g.day.values.max()))\n",
    "# HTML(animator.to_jshtml())\n",
    "# # or use animator.to_html5_video() or animator.save() "
   ]
  },
  {
   "cell_type": "code",
   "execution_count": null,
   "id": "australian-container",
   "metadata": {
    "papermill": {
     "duration": 0.039597,
     "end_time": "2021-12-31T00:27:40.810425",
     "exception": false,
     "start_time": "2021-12-31T00:27:40.770828",
     "status": "completed"
    },
    "tags": []
   },
   "outputs": [],
   "source": []
  },
  {
   "cell_type": "code",
   "execution_count": null,
   "id": "mediterranean-pontiac",
   "metadata": {
    "papermill": {
     "duration": 0.039717,
     "end_time": "2021-12-31T00:27:40.888583",
     "exception": false,
     "start_time": "2021-12-31T00:27:40.848866",
     "status": "completed"
    },
    "tags": []
   },
   "outputs": [],
   "source": []
  },
  {
   "cell_type": "code",
   "execution_count": null,
   "id": "aging-legislature",
   "metadata": {
    "papermill": {
     "duration": 0.040532,
     "end_time": "2021-12-31T00:27:40.969433",
     "exception": false,
     "start_time": "2021-12-31T00:27:40.928901",
     "status": "completed"
    },
    "tags": []
   },
   "outputs": [],
   "source": []
  }
 ],
 "metadata": {
  "kernelspec": {
   "display_name": "Python 3",
   "language": "python",
   "name": "python3"
  },
  "language_info": {
   "codemirror_mode": {
    "name": "ipython",
    "version": 3
   },
   "file_extension": ".py",
   "mimetype": "text/x-python",
   "name": "python",
   "nbconvert_exporter": "python",
   "pygments_lexer": "ipython3",
   "version": "3.6.15"
  },
  "papermill": {
   "duration": 7.659405,
   "end_time": "2021-12-31T00:27:41.315813",
   "environment_variables": {},
   "exception": null,
   "input_path": "2020-03-21-covid19exp.ipynb",
   "output_path": "2020-03-21-covid19exp.ipynb",
   "parameters": {},
   "start_time": "2021-12-31T00:27:33.656408",
   "version": "2.0.0"
  }
 },
 "nbformat": 4,
 "nbformat_minor": 5
}