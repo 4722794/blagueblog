{
 "cells": [
  {
   "cell_type": "markdown",
   "id": "muslim-click",
   "metadata": {
    "papermill": {
     "duration": 0.035786,
     "end_time": "2022-11-08T12:21:15.442263",
     "exception": false,
     "start_time": "2022-11-08T12:21:15.406477",
     "status": "completed"
    },
    "tags": []
   },
   "source": [
    "# COVID-19 Case Race\n",
    "> A race chart to see rising cases around the world\n",
    "\n",
    "- author: Hargun Oberoi\n",
    "- image: images/covid-overview.png\n",
    "- hide: false\n",
    "- badges: false"
   ]
  },
  {
   "cell_type": "code",
   "execution_count": 1,
   "id": "proof-material",
   "metadata": {
    "execution": {
     "iopub.execute_input": "2022-11-08T12:21:15.511941Z",
     "iopub.status.busy": "2022-11-08T12:21:15.511325Z",
     "iopub.status.idle": "2022-11-08T12:21:15.835481Z",
     "shell.execute_reply": "2022-11-08T12:21:15.834857Z"
    },
    "papermill": {
     "duration": 0.363249,
     "end_time": "2022-11-08T12:21:15.835644",
     "exception": false,
     "start_time": "2022-11-08T12:21:15.472395",
     "status": "completed"
    },
    "tags": []
   },
   "outputs": [],
   "source": [
    "#hide\n",
    "import numpy as np\n",
    "import pandas as pd\n",
    "from jinja2 import Template\n",
    "from IPython.display import HTML"
   ]
  },
  {
   "cell_type": "code",
   "execution_count": 2,
   "id": "developed-terminology",
   "metadata": {
    "execution": {
     "iopub.execute_input": "2022-11-08T12:21:15.901205Z",
     "iopub.status.busy": "2022-11-08T12:21:15.900601Z",
     "iopub.status.idle": "2022-11-08T12:21:15.902917Z",
     "shell.execute_reply": "2022-11-08T12:21:15.903487Z"
    },
    "papermill": {
     "duration": 0.037648,
     "end_time": "2022-11-08T12:21:15.903624",
     "exception": false,
     "start_time": "2022-11-08T12:21:15.865976",
     "status": "completed"
    },
    "tags": []
   },
   "outputs": [],
   "source": [
    "#hide\n",
    "\n",
    "# FETCH\n",
    "base_url = 'https://raw.githubusercontent.com/pratapvardhan/notebooks/master/covid19/'\n",
    "paths = {\n",
    "    'mapping': base_url + 'mapping_countries.csv',\n",
    "    'overview': base_url + 'overview.tpl'\n",
    "}"
   ]
  },
  {
   "cell_type": "code",
   "execution_count": 3,
   "id": "dynamic-saver",
   "metadata": {
    "execution": {
     "iopub.execute_input": "2022-11-08T12:21:15.973469Z",
     "iopub.status.busy": "2022-11-08T12:21:15.972877Z",
     "iopub.status.idle": "2022-11-08T12:21:15.976551Z",
     "shell.execute_reply": "2022-11-08T12:21:15.976080Z"
    },
    "papermill": {
     "duration": 0.043527,
     "end_time": "2022-11-08T12:21:15.976665",
     "exception": false,
     "start_time": "2022-11-08T12:21:15.933138",
     "status": "completed"
    },
    "tags": []
   },
   "outputs": [
    {
     "data": {
      "text/plain": [
       "'https://raw.githubusercontent.com/pratapvardhan/notebooks/master/covid19/mapping_countries.csv'"
      ]
     },
     "execution_count": 3,
     "metadata": {},
     "output_type": "execute_result"
    }
   ],
   "source": [
    "#hide\n",
    "paths['mapping']"
   ]
  },
  {
   "cell_type": "code",
   "execution_count": 4,
   "id": "urban-software",
   "metadata": {
    "execution": {
     "iopub.execute_input": "2022-11-08T12:21:16.042315Z",
     "iopub.status.busy": "2022-11-08T12:21:16.041628Z",
     "iopub.status.idle": "2022-11-08T12:21:16.044157Z",
     "shell.execute_reply": "2022-11-08T12:21:16.043534Z"
    },
    "papermill": {
     "duration": 0.037664,
     "end_time": "2022-11-08T12:21:16.044269",
     "exception": false,
     "start_time": "2022-11-08T12:21:16.006605",
     "status": "completed"
    },
    "tags": []
   },
   "outputs": [],
   "source": [
    "#hide\n",
    "def get_mappings(url):\n",
    "    df = pd.read_csv(url)\n",
    "    return {\n",
    "        'df': df,\n",
    "        'replace.country': dict(df.dropna(subset=['Name']).set_index('Country')['Name']),\n",
    "        'map.continent': dict(df.set_index('Name')['Continent'])\n",
    "    }"
   ]
  },
  {
   "cell_type": "code",
   "execution_count": 5,
   "id": "intimate-machinery",
   "metadata": {
    "execution": {
     "iopub.execute_input": "2022-11-08T12:21:16.109953Z",
     "iopub.status.busy": "2022-11-08T12:21:16.109365Z",
     "iopub.status.idle": "2022-11-08T12:21:16.141701Z",
     "shell.execute_reply": "2022-11-08T12:21:16.141135Z"
    },
    "papermill": {
     "duration": 0.06773,
     "end_time": "2022-11-08T12:21:16.141842",
     "exception": false,
     "start_time": "2022-11-08T12:21:16.074112",
     "status": "completed"
    },
    "tags": []
   },
   "outputs": [],
   "source": [
    "#hide\n",
    "mapping = get_mappings(paths['mapping'])"
   ]
  },
  {
   "cell_type": "code",
   "execution_count": 6,
   "id": "certified-tactics",
   "metadata": {
    "execution": {
     "iopub.execute_input": "2022-11-08T12:21:16.207975Z",
     "iopub.status.busy": "2022-11-08T12:21:16.207325Z",
     "iopub.status.idle": "2022-11-08T12:21:16.209710Z",
     "shell.execute_reply": "2022-11-08T12:21:16.209141Z"
    },
    "papermill": {
     "duration": 0.037453,
     "end_time": "2022-11-08T12:21:16.209824",
     "exception": false,
     "start_time": "2022-11-08T12:21:16.172371",
     "status": "completed"
    },
    "tags": []
   },
   "outputs": [],
   "source": [
    "#hide\n",
    "def get_template(path):\n",
    "    from urllib.parse import urlparse\n",
    "    if bool(urlparse(path).netloc):\n",
    "        from urllib.request import urlopen\n",
    "        return urlopen(path).read().decode('utf8')\n",
    "    return open(path).read()"
   ]
  },
  {
   "cell_type": "code",
   "execution_count": 7,
   "id": "realistic-blast",
   "metadata": {
    "execution": {
     "iopub.execute_input": "2022-11-08T12:21:16.275188Z",
     "iopub.status.busy": "2022-11-08T12:21:16.274475Z",
     "iopub.status.idle": "2022-11-08T12:21:16.276254Z",
     "shell.execute_reply": "2022-11-08T12:21:16.276792Z"
    },
    "papermill": {
     "duration": 0.037342,
     "end_time": "2022-11-08T12:21:16.276936",
     "exception": false,
     "start_time": "2022-11-08T12:21:16.239594",
     "status": "completed"
    },
    "tags": []
   },
   "outputs": [],
   "source": [
    "#hide\n",
    "def get_frame(name):\n",
    "    url = (\n",
    "        'https://raw.githubusercontent.com/CSSEGISandData/COVID-19/master/csse_covid_19_data/'\n",
    "        f'csse_covid_19_time_series/time_series_covid19_{name}_global.csv')\n",
    "    df = pd.read_csv(url)\n",
    "    # rename countries\n",
    "    df['Country/Region'] = df['Country/Region'].replace(mapping['replace.country'])\n",
    "    return df"
   ]
  },
  {
   "cell_type": "code",
   "execution_count": 8,
   "id": "affiliated-characterization",
   "metadata": {
    "execution": {
     "iopub.execute_input": "2022-11-08T12:21:16.343765Z",
     "iopub.status.busy": "2022-11-08T12:21:16.343004Z",
     "iopub.status.idle": "2022-11-08T12:21:16.344800Z",
     "shell.execute_reply": "2022-11-08T12:21:16.345333Z"
    },
    "papermill": {
     "duration": 0.038531,
     "end_time": "2022-11-08T12:21:16.345477",
     "exception": false,
     "start_time": "2022-11-08T12:21:16.306946",
     "status": "completed"
    },
    "tags": []
   },
   "outputs": [],
   "source": [
    "#hide\n",
    "def get_dates(df):\n",
    "    dt_cols = df.columns[~df.columns.isin(['Province/State', 'Country/Region', 'Lat', 'Long'])]\n",
    "    LAST_DATE_I = -1\n",
    "    # sometimes last column may be empty, then go backwards\n",
    "    for i in range(-1, -len(dt_cols), -1):\n",
    "        if not df[dt_cols[i]].fillna(0).eq(0).all():\n",
    "            LAST_DATE_I = i\n",
    "            break\n",
    "    return LAST_DATE_I, dt_cols"
   ]
  },
  {
   "cell_type": "code",
   "execution_count": 9,
   "id": "recent-optimization",
   "metadata": {
    "execution": {
     "iopub.execute_input": "2022-11-08T12:21:16.410663Z",
     "iopub.status.busy": "2022-11-08T12:21:16.410042Z",
     "iopub.status.idle": "2022-11-08T12:21:16.789272Z",
     "shell.execute_reply": "2022-11-08T12:21:16.788697Z"
    },
    "papermill": {
     "duration": 0.413725,
     "end_time": "2022-11-08T12:21:16.789414",
     "exception": false,
     "start_time": "2022-11-08T12:21:16.375689",
     "status": "completed"
    },
    "tags": []
   },
   "outputs": [],
   "source": [
    "#hide\n",
    "COL_REGION = 'Country/Region'\n",
    "# Confirmed, Recovered, Deaths\n",
    "df = get_frame('confirmed')\n",
    "# dft_: timeseries, dfc_: today country agg\n",
    "dft_cases = df\n",
    "dft_deaths = get_frame('deaths')\n",
    "dft_recovered = get_frame('recovered')\n",
    "LAST_DATE_I, dt_cols = get_dates(df)"
   ]
  },
  {
   "cell_type": "code",
   "execution_count": 10,
   "id": "absolute-copper",
   "metadata": {
    "execution": {
     "iopub.execute_input": "2022-11-08T12:21:16.856181Z",
     "iopub.status.busy": "2022-11-08T12:21:16.855592Z",
     "iopub.status.idle": "2022-11-08T12:21:16.858040Z",
     "shell.execute_reply": "2022-11-08T12:21:16.858472Z"
    },
    "papermill": {
     "duration": 0.03823,
     "end_time": "2022-11-08T12:21:16.858606",
     "exception": false,
     "start_time": "2022-11-08T12:21:16.820376",
     "status": "completed"
    },
    "tags": []
   },
   "outputs": [],
   "source": [
    "#hide\n",
    "LAST_DATE_I, dt_cols = get_dates(df)\n",
    "dt_today =dt_cols[LAST_DATE_I]\n",
    "# dt_5day = dt_cols[LAST_DATE_I - 5]\n",
    "dt_yday = dt_cols[LAST_DATE_I - 1]"
   ]
  },
  {
   "cell_type": "code",
   "execution_count": 11,
   "id": "restricted-sheriff",
   "metadata": {
    "execution": {
     "iopub.execute_input": "2022-11-08T12:21:16.923879Z",
     "iopub.status.busy": "2022-11-08T12:21:16.923250Z",
     "iopub.status.idle": "2022-11-08T12:21:16.931228Z",
     "shell.execute_reply": "2022-11-08T12:21:16.931728Z"
    },
    "papermill": {
     "duration": 0.043536,
     "end_time": "2022-11-08T12:21:16.931859",
     "exception": false,
     "start_time": "2022-11-08T12:21:16.888323",
     "status": "completed"
    },
    "tags": []
   },
   "outputs": [],
   "source": [
    "#hide\n",
    "dfc_cases = dft_cases.groupby(COL_REGION)[dt_today].sum()\n",
    "dfc_deaths = dft_deaths.groupby(COL_REGION)[dt_today].sum()\n",
    "# dfp_cases = dft_cases.groupby(COL_REGION)[dt_5day].sum()\n",
    "# dfp_deaths = dft_deaths.groupby(COL_REGION)[dt_5day].sum()\n",
    "dfp_cases = dft_cases.groupby(COL_REGION)[dt_yday].sum()\n",
    "dfp_deaths = dft_deaths.groupby(COL_REGION)[dt_yday].sum()"
   ]
  },
  {
   "cell_type": "code",
   "execution_count": 12,
   "id": "deluxe-hepatitis",
   "metadata": {
    "execution": {
     "iopub.execute_input": "2022-11-08T12:21:16.997349Z",
     "iopub.status.busy": "2022-11-08T12:21:16.996775Z",
     "iopub.status.idle": "2022-11-08T12:21:17.002495Z",
     "shell.execute_reply": "2022-11-08T12:21:17.002030Z"
    },
    "papermill": {
     "duration": 0.040915,
     "end_time": "2022-11-08T12:21:17.002603",
     "exception": false,
     "start_time": "2022-11-08T12:21:16.961688",
     "status": "completed"
    },
    "tags": []
   },
   "outputs": [],
   "source": [
    "#hide\n",
    "df_table = (pd.DataFrame(dict(Cases = dfc_cases, Deaths = dfc_deaths, PCases = dfp_cases, PDeaths = dfp_deaths))\n",
    "            .sort_values(by = ['Cases','Deaths'], ascending = [False, False])\n",
    "            .reset_index())"
   ]
  },
  {
   "cell_type": "code",
   "execution_count": 13,
   "id": "educational-chancellor",
   "metadata": {
    "execution": {
     "iopub.execute_input": "2022-11-08T12:21:17.081240Z",
     "iopub.status.busy": "2022-11-08T12:21:17.080632Z",
     "iopub.status.idle": "2022-11-08T12:21:17.088685Z",
     "shell.execute_reply": "2022-11-08T12:21:17.088213Z"
    },
    "papermill": {
     "duration": 0.056624,
     "end_time": "2022-11-08T12:21:17.088800",
     "exception": false,
     "start_time": "2022-11-08T12:21:17.032176",
     "status": "completed"
    },
    "tags": []
   },
   "outputs": [
    {
     "data": {
      "text/html": [
       "<div>\n",
       "<style scoped>\n",
       "    .dataframe tbody tr th:only-of-type {\n",
       "        vertical-align: middle;\n",
       "    }\n",
       "\n",
       "    .dataframe tbody tr th {\n",
       "        vertical-align: top;\n",
       "    }\n",
       "\n",
       "    .dataframe thead th {\n",
       "        text-align: right;\n",
       "    }\n",
       "</style>\n",
       "<table border=\"1\" class=\"dataframe\">\n",
       "  <thead>\n",
       "    <tr style=\"text-align: right;\">\n",
       "      <th></th>\n",
       "      <th>Country/Region</th>\n",
       "      <th>Cases</th>\n",
       "      <th>Deaths</th>\n",
       "      <th>PCases</th>\n",
       "      <th>PDeaths</th>\n",
       "      <th>Cases (+)</th>\n",
       "      <th>Deaths (+)</th>\n",
       "      <th>Fatality Rate</th>\n",
       "      <th>Continent</th>\n",
       "    </tr>\n",
       "  </thead>\n",
       "  <tbody>\n",
       "    <tr>\n",
       "      <th>0</th>\n",
       "      <td>US</td>\n",
       "      <td>97780182</td>\n",
       "      <td>1072724</td>\n",
       "      <td>97741764</td>\n",
       "      <td>1072594</td>\n",
       "      <td>38418</td>\n",
       "      <td>130</td>\n",
       "      <td>1.10</td>\n",
       "      <td>North America</td>\n",
       "    </tr>\n",
       "    <tr>\n",
       "      <th>1</th>\n",
       "      <td>India</td>\n",
       "      <td>44660293</td>\n",
       "      <td>530509</td>\n",
       "      <td>44661504</td>\n",
       "      <td>530509</td>\n",
       "      <td>0</td>\n",
       "      <td>0</td>\n",
       "      <td>1.19</td>\n",
       "      <td>Asia</td>\n",
       "    </tr>\n",
       "    <tr>\n",
       "      <th>2</th>\n",
       "      <td>France</td>\n",
       "      <td>37191901</td>\n",
       "      <td>158469</td>\n",
       "      <td>37140238</td>\n",
       "      <td>158317</td>\n",
       "      <td>51663</td>\n",
       "      <td>152</td>\n",
       "      <td>0.43</td>\n",
       "      <td>Europe</td>\n",
       "    </tr>\n",
       "    <tr>\n",
       "      <th>3</th>\n",
       "      <td>Germany</td>\n",
       "      <td>35884834</td>\n",
       "      <td>154785</td>\n",
       "      <td>35823771</td>\n",
       "      <td>154535</td>\n",
       "      <td>61063</td>\n",
       "      <td>250</td>\n",
       "      <td>0.43</td>\n",
       "      <td>Europe</td>\n",
       "    </tr>\n",
       "    <tr>\n",
       "      <th>4</th>\n",
       "      <td>Brazil</td>\n",
       "      <td>34855492</td>\n",
       "      <td>688395</td>\n",
       "      <td>34849063</td>\n",
       "      <td>688332</td>\n",
       "      <td>6429</td>\n",
       "      <td>63</td>\n",
       "      <td>1.97</td>\n",
       "      <td>South America</td>\n",
       "    </tr>\n",
       "  </tbody>\n",
       "</table>\n",
       "</div>"
      ],
      "text/plain": [
       "  Country/Region     Cases   Deaths    PCases  PDeaths  Cases (+)  Deaths (+)  \\\n",
       "0             US  97780182  1072724  97741764  1072594      38418         130   \n",
       "1          India  44660293   530509  44661504   530509          0           0   \n",
       "2         France  37191901   158469  37140238   158317      51663         152   \n",
       "3        Germany  35884834   154785  35823771   154535      61063         250   \n",
       "4         Brazil  34855492   688395  34849063   688332       6429          63   \n",
       "\n",
       "   Fatality Rate      Continent  \n",
       "0           1.10  North America  \n",
       "1           1.19           Asia  \n",
       "2           0.43         Europe  \n",
       "3           0.43         Europe  \n",
       "4           1.97  South America  "
      ]
     },
     "execution_count": 13,
     "metadata": {},
     "output_type": "execute_result"
    }
   ],
   "source": [
    "#hide\n",
    "for c in 'Cases, Deaths'.split(', '):\n",
    "    df_table[f'{c} (+)'] = (df_table[c] - df_table[f'P{c}']).clip(0)\n",
    "    #Clip ça veut dire, les chiffres negatif sont interdit\n",
    "df_table['Fatality Rate'] = (100* df_table['Deaths']/ df_table['Cases']).round(2)\n",
    "df_table['Continent'] = df_table['Country/Region'].map(mapping['map.continent'])\n",
    "df_table.head(5)"
   ]
  },
  {
   "cell_type": "code",
   "execution_count": 14,
   "id": "aboriginal-bulgaria",
   "metadata": {
    "execution": {
     "iopub.execute_input": "2022-11-08T12:21:17.155869Z",
     "iopub.status.busy": "2022-11-08T12:21:17.155258Z",
     "iopub.status.idle": "2022-11-08T12:21:17.157468Z",
     "shell.execute_reply": "2022-11-08T12:21:17.158016Z"
    },
    "papermill": {
     "duration": 0.038921,
     "end_time": "2022-11-08T12:21:17.158147",
     "exception": false,
     "start_time": "2022-11-08T12:21:17.119226",
     "status": "completed"
    },
    "tags": []
   },
   "outputs": [],
   "source": [
    "#hide\n",
    "#delete problematic countries from table\n",
    "df_table = df_table[~df_table['Country/Region'].isin(['Cape Verde', 'Cruise Ship', 'Kosovo'])]"
   ]
  },
  {
   "cell_type": "code",
   "execution_count": 15,
   "id": "fantastic-effect",
   "metadata": {
    "execution": {
     "iopub.execute_input": "2022-11-08T12:21:17.227023Z",
     "iopub.status.busy": "2022-11-08T12:21:17.226443Z",
     "iopub.status.idle": "2022-11-08T12:21:17.243762Z",
     "shell.execute_reply": "2022-11-08T12:21:17.244233Z"
    },
    "papermill": {
     "duration": 0.055982,
     "end_time": "2022-11-08T12:21:17.244366",
     "exception": false,
     "start_time": "2022-11-08T12:21:17.188384",
     "status": "completed"
    },
    "tags": []
   },
   "outputs": [
    {
     "data": {
      "text/html": [
       "<div>\n",
       "<style scoped>\n",
       "    .dataframe tbody tr th:only-of-type {\n",
       "        vertical-align: middle;\n",
       "    }\n",
       "\n",
       "    .dataframe tbody tr th {\n",
       "        vertical-align: top;\n",
       "    }\n",
       "\n",
       "    .dataframe thead th {\n",
       "        text-align: right;\n",
       "    }\n",
       "</style>\n",
       "<table border=\"1\" class=\"dataframe\">\n",
       "  <thead>\n",
       "    <tr style=\"text-align: right;\">\n",
       "      <th></th>\n",
       "      <th>Country/Region</th>\n",
       "      <th>Cases</th>\n",
       "      <th>Deaths</th>\n",
       "      <th>PCases</th>\n",
       "      <th>PDeaths</th>\n",
       "      <th>Cases (+)</th>\n",
       "      <th>Deaths (+)</th>\n",
       "      <th>Fatality Rate</th>\n",
       "      <th>Continent</th>\n",
       "    </tr>\n",
       "  </thead>\n",
       "  <tbody>\n",
       "    <tr>\n",
       "      <th>0</th>\n",
       "      <td>US</td>\n",
       "      <td>97780182</td>\n",
       "      <td>1072724</td>\n",
       "      <td>97741764</td>\n",
       "      <td>1072594</td>\n",
       "      <td>38418</td>\n",
       "      <td>130</td>\n",
       "      <td>1.1</td>\n",
       "      <td>North America</td>\n",
       "    </tr>\n",
       "    <tr>\n",
       "      <th>1</th>\n",
       "      <td>India</td>\n",
       "      <td>44660293</td>\n",
       "      <td>530509</td>\n",
       "      <td>44661504</td>\n",
       "      <td>530509</td>\n",
       "      <td>0</td>\n",
       "      <td>0</td>\n",
       "      <td>1.2</td>\n",
       "      <td>Asia</td>\n",
       "    </tr>\n",
       "    <tr>\n",
       "      <th>2</th>\n",
       "      <td>France</td>\n",
       "      <td>37191901</td>\n",
       "      <td>158469</td>\n",
       "      <td>37140238</td>\n",
       "      <td>158317</td>\n",
       "      <td>51663</td>\n",
       "      <td>152</td>\n",
       "      <td>0.4</td>\n",
       "      <td>Europe</td>\n",
       "    </tr>\n",
       "    <tr>\n",
       "      <th>3</th>\n",
       "      <td>Germany</td>\n",
       "      <td>35884834</td>\n",
       "      <td>154785</td>\n",
       "      <td>35823771</td>\n",
       "      <td>154535</td>\n",
       "      <td>61063</td>\n",
       "      <td>250</td>\n",
       "      <td>0.4</td>\n",
       "      <td>Europe</td>\n",
       "    </tr>\n",
       "    <tr>\n",
       "      <th>4</th>\n",
       "      <td>Brazil</td>\n",
       "      <td>34855492</td>\n",
       "      <td>688395</td>\n",
       "      <td>34849063</td>\n",
       "      <td>688332</td>\n",
       "      <td>6429</td>\n",
       "      <td>63</td>\n",
       "      <td>2.0</td>\n",
       "      <td>South America</td>\n",
       "    </tr>\n",
       "  </tbody>\n",
       "</table>\n",
       "</div>"
      ],
      "text/plain": [
       "  Country/Region     Cases   Deaths    PCases  PDeaths  Cases (+)  Deaths (+)  \\\n",
       "0             US  97780182  1072724  97741764  1072594      38418         130   \n",
       "1          India  44660293   530509  44661504   530509          0           0   \n",
       "2         France  37191901   158469  37140238   158317      51663         152   \n",
       "3        Germany  35884834   154785  35823771   154535      61063         250   \n",
       "4         Brazil  34855492   688395  34849063   688332       6429          63   \n",
       "\n",
       "   Fatality Rate      Continent  \n",
       "0            1.1  North America  \n",
       "1            1.2           Asia  \n",
       "2            0.4         Europe  \n",
       "3            0.4         Europe  \n",
       "4            2.0  South America  "
      ]
     },
     "execution_count": 15,
     "metadata": {},
     "output_type": "execute_result"
    }
   ],
   "source": [
    "#hide\n",
    "df_table = (pd.DataFrame(dict(Cases=dfc_cases, Deaths=dfc_deaths, PCases=dfp_cases, PDeaths=dfp_deaths))\n",
    "             .sort_values(by=['Cases', 'Deaths'], ascending=[False, False])\n",
    "             .reset_index())\n",
    "df_table.rename(columns={'index': 'Country/Region'}, inplace=True)\n",
    "for c in 'Cases, Deaths'.split(', '):\n",
    "    df_table[f'{c} (+)'] = (df_table[c] - df_table[f'P{c}']).clip(0)  # DATA BUG\n",
    "df_table['Fatality Rate'] = (100 * df_table['Deaths'] / df_table['Cases']).round(1)\n",
    "df_table['Continent'] = df_table['Country/Region'].map(mapping['map.continent'])\n",
    "df_table.head(5)"
   ]
  },
  {
   "cell_type": "code",
   "execution_count": 16,
   "id": "fewer-occasion",
   "metadata": {
    "execution": {
     "iopub.execute_input": "2022-11-08T12:21:17.312334Z",
     "iopub.status.busy": "2022-11-08T12:21:17.311746Z",
     "iopub.status.idle": "2022-11-08T12:21:17.314286Z",
     "shell.execute_reply": "2022-11-08T12:21:17.314755Z"
    },
    "papermill": {
     "duration": 0.039375,
     "end_time": "2022-11-08T12:21:17.314885",
     "exception": false,
     "start_time": "2022-11-08T12:21:17.275510",
     "status": "completed"
    },
    "tags": []
   },
   "outputs": [],
   "source": [
    "#hide\n",
    "#delete problematic countries from table\n",
    "df_table = df_table[~df_table['Country/Region'].isin(['Cape Verde', 'Cruise Ship', 'Kosovo'])]"
   ]
  },
  {
   "cell_type": "code",
   "execution_count": 17,
   "id": "related-center",
   "metadata": {
    "execution": {
     "iopub.execute_input": "2022-11-08T12:21:17.384657Z",
     "iopub.status.busy": "2022-11-08T12:21:17.384080Z",
     "iopub.status.idle": "2022-11-08T12:21:17.398530Z",
     "shell.execute_reply": "2022-11-08T12:21:17.398063Z"
    },
    "papermill": {
     "duration": 0.052661,
     "end_time": "2022-11-08T12:21:17.398641",
     "exception": false,
     "start_time": "2022-11-08T12:21:17.345980",
     "status": "completed"
    },
    "tags": []
   },
   "outputs": [],
   "source": [
    "#hide\n",
    "metrics = [df_table.columns[index] for index in [1,2,5,6]]\n",
    "# s_china = df_table[df_table['Country/Region'].eq('China')][metrics].sum().add_prefix('China ')\n",
    "s_us = df_table[df_table['Country/Region'].eq('US')][metrics].sum().add_prefix('US ')\n",
    "s_eu = df_table[df_table['Continent'].eq('Europe')][metrics].sum().add_prefix('EU ')\n",
    "s_ind = df_table[df_table['Country/Region'].eq('India')][metrics].sum().add_prefix('India ')\n",
    "summary = {'updated': pd.to_datetime(dt_today), 'since': pd.to_datetime(dt_yday)}\n",
    "summary = {'updated': pd.to_datetime(dt_today), 'since': pd.to_datetime(dt_yday)}\n",
    "summary = {**summary, **df_table[metrics].sum(), **s_ind, **s_us, **s_eu}"
   ]
  },
  {
   "cell_type": "code",
   "execution_count": 18,
   "id": "engaging-syndrome",
   "metadata": {
    "execution": {
     "iopub.execute_input": "2022-11-08T12:21:17.465845Z",
     "iopub.status.busy": "2022-11-08T12:21:17.465258Z",
     "iopub.status.idle": "2022-11-08T12:21:17.486103Z",
     "shell.execute_reply": "2022-11-08T12:21:17.485617Z"
    },
    "papermill": {
     "duration": 0.056912,
     "end_time": "2022-11-08T12:21:17.486224",
     "exception": false,
     "start_time": "2022-11-08T12:21:17.429312",
     "status": "completed"
    },
    "tags": []
   },
   "outputs": [],
   "source": [
    "#hide\n",
    "dft_ct_new_cases = dft_cases.groupby(COL_REGION)[dt_cols].sum().diff(axis=1).fillna(0).astype(int)"
   ]
  },
  {
   "cell_type": "code",
   "execution_count": 19,
   "id": "neutral-assignment",
   "metadata": {
    "execution": {
     "iopub.execute_input": "2022-11-08T12:21:17.551737Z",
     "iopub.status.busy": "2022-11-08T12:21:17.551128Z",
     "iopub.status.idle": "2022-11-08T12:21:17.556197Z",
     "shell.execute_reply": "2022-11-08T12:21:17.556735Z"
    },
    "papermill": {
     "duration": 0.039848,
     "end_time": "2022-11-08T12:21:17.556863",
     "exception": false,
     "start_time": "2022-11-08T12:21:17.517015",
     "status": "completed"
    },
    "tags": []
   },
   "outputs": [],
   "source": [
    "#hide\n",
    "everydaycases = dft_ct_new_cases.cumsum(axis=1)"
   ]
  },
  {
   "cell_type": "code",
   "execution_count": 20,
   "id": "parliamentary-calgary",
   "metadata": {
    "execution": {
     "iopub.execute_input": "2022-11-08T12:21:17.622692Z",
     "iopub.status.busy": "2022-11-08T12:21:17.622113Z",
     "iopub.status.idle": "2022-11-08T12:21:18.173355Z",
     "shell.execute_reply": "2022-11-08T12:21:18.172794Z"
    },
    "papermill": {
     "duration": 0.585862,
     "end_time": "2022-11-08T12:21:18.173496",
     "exception": false,
     "start_time": "2022-11-08T12:21:17.587634",
     "status": "completed"
    },
    "tags": []
   },
   "outputs": [],
   "source": [
    "#hide\n",
    "import pandas as pd\n",
    "import matplotlib.pyplot as plt\n",
    "import matplotlib.ticker as ticker\n",
    "import matplotlib.animation as animation\n",
    "from IPython.display import HTML"
   ]
  },
  {
   "cell_type": "code",
   "execution_count": 21,
   "id": "lasting-extraction",
   "metadata": {
    "execution": {
     "iopub.execute_input": "2022-11-08T12:21:18.243401Z",
     "iopub.status.busy": "2022-11-08T12:21:18.242770Z",
     "iopub.status.idle": "2022-11-08T12:21:18.250382Z",
     "shell.execute_reply": "2022-11-08T12:21:18.250856Z"
    },
    "papermill": {
     "duration": 0.046082,
     "end_time": "2022-11-08T12:21:18.250995",
     "exception": false,
     "start_time": "2022-11-08T12:21:18.204913",
     "status": "completed"
    },
    "tags": []
   },
   "outputs": [],
   "source": [
    "#hide\n",
    "t = everydaycases.stack()"
   ]
  },
  {
   "cell_type": "code",
   "execution_count": 22,
   "id": "premier-sleeve",
   "metadata": {
    "execution": {
     "iopub.execute_input": "2022-11-08T12:21:18.317638Z",
     "iopub.status.busy": "2022-11-08T12:21:18.317058Z",
     "iopub.status.idle": "2022-11-08T12:21:18.330155Z",
     "shell.execute_reply": "2022-11-08T12:21:18.330572Z"
    },
    "papermill": {
     "duration": 0.048692,
     "end_time": "2022-11-08T12:21:18.330708",
     "exception": false,
     "start_time": "2022-11-08T12:21:18.282016",
     "status": "completed"
    },
    "tags": []
   },
   "outputs": [],
   "source": [
    "#hide\n",
    "g = t.reset_index(['Country/Region'])"
   ]
  },
  {
   "cell_type": "code",
   "execution_count": 23,
   "id": "distributed-pittsburgh",
   "metadata": {
    "execution": {
     "iopub.execute_input": "2022-11-08T12:21:18.396074Z",
     "iopub.status.busy": "2022-11-08T12:21:18.395492Z",
     "iopub.status.idle": "2022-11-08T12:21:18.397706Z",
     "shell.execute_reply": "2022-11-08T12:21:18.398254Z"
    },
    "papermill": {
     "duration": 0.037097,
     "end_time": "2022-11-08T12:21:18.398381",
     "exception": false,
     "start_time": "2022-11-08T12:21:18.361284",
     "status": "completed"
    },
    "tags": []
   },
   "outputs": [],
   "source": [
    "#hide\n",
    "g.index.name = 'date'"
   ]
  },
  {
   "cell_type": "code",
   "execution_count": 24,
   "id": "naked-donor",
   "metadata": {
    "execution": {
     "iopub.execute_input": "2022-11-08T12:21:18.463037Z",
     "iopub.status.busy": "2022-11-08T12:21:18.462459Z",
     "iopub.status.idle": "2022-11-08T12:21:18.464737Z",
     "shell.execute_reply": "2022-11-08T12:21:18.465268Z"
    },
    "papermill": {
     "duration": 0.036338,
     "end_time": "2022-11-08T12:21:18.465391",
     "exception": false,
     "start_time": "2022-11-08T12:21:18.429053",
     "status": "completed"
    },
    "tags": []
   },
   "outputs": [],
   "source": [
    "# #hide\n",
    "# g = g.reset_index(['date'])"
   ]
  },
  {
   "cell_type": "code",
   "execution_count": 25,
   "id": "incomplete-mustang",
   "metadata": {
    "execution": {
     "iopub.execute_input": "2022-11-08T12:21:18.530155Z",
     "iopub.status.busy": "2022-11-08T12:21:18.529587Z",
     "iopub.status.idle": "2022-11-08T12:21:18.531748Z",
     "shell.execute_reply": "2022-11-08T12:21:18.532291Z"
    },
    "papermill": {
     "duration": 0.036514,
     "end_time": "2022-11-08T12:21:18.532414",
     "exception": false,
     "start_time": "2022-11-08T12:21:18.495900",
     "status": "completed"
    },
    "tags": []
   },
   "outputs": [],
   "source": [
    "#hide\n",
    "# g.head()"
   ]
  },
  {
   "cell_type": "code",
   "execution_count": 26,
   "id": "specific-kruger",
   "metadata": {
    "execution": {
     "iopub.execute_input": "2022-11-08T12:21:18.596847Z",
     "iopub.status.busy": "2022-11-08T12:21:18.596270Z",
     "iopub.status.idle": "2022-11-08T12:21:18.598425Z",
     "shell.execute_reply": "2022-11-08T12:21:18.598841Z"
    },
    "papermill": {
     "duration": 0.035981,
     "end_time": "2022-11-08T12:21:18.598967",
     "exception": false,
     "start_time": "2022-11-08T12:21:18.562986",
     "status": "completed"
    },
    "tags": []
   },
   "outputs": [],
   "source": [
    "#hide\n",
    "# g.columns = ['date','country','cases']"
   ]
  },
  {
   "cell_type": "code",
   "execution_count": 27,
   "id": "tender-conversion",
   "metadata": {
    "execution": {
     "iopub.execute_input": "2022-11-08T12:21:18.663769Z",
     "iopub.status.busy": "2022-11-08T12:21:18.663055Z",
     "iopub.status.idle": "2022-11-08T12:21:18.665589Z",
     "shell.execute_reply": "2022-11-08T12:21:18.665062Z"
    },
    "papermill": {
     "duration": 0.036341,
     "end_time": "2022-11-08T12:21:18.665708",
     "exception": false,
     "start_time": "2022-11-08T12:21:18.629367",
     "status": "completed"
    },
    "tags": []
   },
   "outputs": [],
   "source": [
    "#hide\n",
    "# g['continent'] = g.country"
   ]
  },
  {
   "cell_type": "code",
   "execution_count": 28,
   "id": "substantial-wilderness",
   "metadata": {
    "execution": {
     "iopub.execute_input": "2022-11-08T12:21:18.731074Z",
     "iopub.status.busy": "2022-11-08T12:21:18.730486Z",
     "iopub.status.idle": "2022-11-08T12:21:18.734314Z",
     "shell.execute_reply": "2022-11-08T12:21:18.733837Z"
    },
    "papermill": {
     "duration": 0.037684,
     "end_time": "2022-11-08T12:21:18.734422",
     "exception": false,
     "start_time": "2022-11-08T12:21:18.696738",
     "status": "completed"
    },
    "tags": []
   },
   "outputs": [],
   "source": [
    "#hide\n",
    "# cols = list(g.columns.values)"
   ]
  },
  {
   "cell_type": "code",
   "execution_count": 29,
   "id": "solved-farming",
   "metadata": {
    "execution": {
     "iopub.execute_input": "2022-11-08T12:21:18.799678Z",
     "iopub.status.busy": "2022-11-08T12:21:18.798961Z",
     "iopub.status.idle": "2022-11-08T12:21:18.801380Z",
     "shell.execute_reply": "2022-11-08T12:21:18.800824Z"
    },
    "papermill": {
     "duration": 0.036284,
     "end_time": "2022-11-08T12:21:18.801491",
     "exception": false,
     "start_time": "2022-11-08T12:21:18.765207",
     "status": "completed"
    },
    "tags": []
   },
   "outputs": [],
   "source": [
    "#hide\n",
    "# cols.insert(0, cols.pop())"
   ]
  },
  {
   "cell_type": "code",
   "execution_count": 30,
   "id": "executed-adoption",
   "metadata": {
    "execution": {
     "iopub.execute_input": "2022-11-08T12:21:18.866493Z",
     "iopub.status.busy": "2022-11-08T12:21:18.865906Z",
     "iopub.status.idle": "2022-11-08T12:21:18.868119Z",
     "shell.execute_reply": "2022-11-08T12:21:18.868663Z"
    },
    "papermill": {
     "duration": 0.036609,
     "end_time": "2022-11-08T12:21:18.868788",
     "exception": false,
     "start_time": "2022-11-08T12:21:18.832179",
     "status": "completed"
    },
    "tags": []
   },
   "outputs": [],
   "source": [
    "#hide\n",
    "# g = g[cols]"
   ]
  },
  {
   "cell_type": "code",
   "execution_count": 31,
   "id": "subject-dublin",
   "metadata": {
    "execution": {
     "iopub.execute_input": "2022-11-08T12:21:18.933921Z",
     "iopub.status.busy": "2022-11-08T12:21:18.933319Z",
     "iopub.status.idle": "2022-11-08T12:21:18.935802Z",
     "shell.execute_reply": "2022-11-08T12:21:18.935209Z"
    },
    "papermill": {
     "duration": 0.036658,
     "end_time": "2022-11-08T12:21:18.935911",
     "exception": false,
     "start_time": "2022-11-08T12:21:18.899253",
     "status": "completed"
    },
    "tags": []
   },
   "outputs": [],
   "source": [
    "#hide\n",
    "# g['continent'] = g['continent'].map(mapping['map.continent'])"
   ]
  },
  {
   "cell_type": "code",
   "execution_count": 32,
   "id": "freelance-scout",
   "metadata": {
    "execution": {
     "iopub.execute_input": "2022-11-08T12:21:19.001258Z",
     "iopub.status.busy": "2022-11-08T12:21:19.000581Z",
     "iopub.status.idle": "2022-11-08T12:21:19.003098Z",
     "shell.execute_reply": "2022-11-08T12:21:19.002568Z"
    },
    "papermill": {
     "duration": 0.036459,
     "end_time": "2022-11-08T12:21:19.003220",
     "exception": false,
     "start_time": "2022-11-08T12:21:18.966761",
     "status": "completed"
    },
    "tags": []
   },
   "outputs": [],
   "source": [
    "#hide\n",
    "# g.head()"
   ]
  },
  {
   "cell_type": "code",
   "execution_count": 33,
   "id": "limited-engine",
   "metadata": {
    "execution": {
     "iopub.execute_input": "2022-11-08T12:21:19.069501Z",
     "iopub.status.busy": "2022-11-08T12:21:19.068824Z",
     "iopub.status.idle": "2022-11-08T12:21:19.071229Z",
     "shell.execute_reply": "2022-11-08T12:21:19.070595Z"
    },
    "papermill": {
     "duration": 0.037597,
     "end_time": "2022-11-08T12:21:19.071372",
     "exception": false,
     "start_time": "2022-11-08T12:21:19.033775",
     "status": "completed"
    },
    "tags": []
   },
   "outputs": [],
   "source": [
    "# hide\n",
    "# g['date'] = g['date'].astype('datetime64[ns]')"
   ]
  },
  {
   "cell_type": "code",
   "execution_count": 34,
   "id": "sophisticated-supervisor",
   "metadata": {
    "execution": {
     "iopub.execute_input": "2022-11-08T12:21:19.137538Z",
     "iopub.status.busy": "2022-11-08T12:21:19.136924Z",
     "iopub.status.idle": "2022-11-08T12:21:19.139604Z",
     "shell.execute_reply": "2022-11-08T12:21:19.139091Z"
    },
    "papermill": {
     "duration": 0.03704,
     "end_time": "2022-11-08T12:21:19.139716",
     "exception": false,
     "start_time": "2022-11-08T12:21:19.102676",
     "status": "completed"
    },
    "tags": []
   },
   "outputs": [],
   "source": [
    "#hide\n",
    "# g['date'] = g.date.dt.dayofyear"
   ]
  },
  {
   "cell_type": "code",
   "execution_count": 35,
   "id": "inside-dubai",
   "metadata": {
    "execution": {
     "iopub.execute_input": "2022-11-08T12:21:19.204771Z",
     "iopub.status.busy": "2022-11-08T12:21:19.204106Z",
     "iopub.status.idle": "2022-11-08T12:21:19.206700Z",
     "shell.execute_reply": "2022-11-08T12:21:19.206059Z"
    },
    "papermill": {
     "duration": 0.036549,
     "end_time": "2022-11-08T12:21:19.206820",
     "exception": false,
     "start_time": "2022-11-08T12:21:19.170271",
     "status": "completed"
    },
    "tags": []
   },
   "outputs": [],
   "source": [
    "#hide\n",
    "# g = g.rename(columns= {'continent':'group','country':'name','cases':'value'})"
   ]
  },
  {
   "cell_type": "code",
   "execution_count": 36,
   "id": "fleet-motorcycle",
   "metadata": {
    "execution": {
     "iopub.execute_input": "2022-11-08T12:21:19.272056Z",
     "iopub.status.busy": "2022-11-08T12:21:19.271379Z",
     "iopub.status.idle": "2022-11-08T12:21:19.273914Z",
     "shell.execute_reply": "2022-11-08T12:21:19.273380Z"
    },
    "papermill": {
     "duration": 0.03648,
     "end_time": "2022-11-08T12:21:19.274035",
     "exception": false,
     "start_time": "2022-11-08T12:21:19.237555",
     "status": "completed"
    },
    "tags": []
   },
   "outputs": [],
   "source": [
    "#hide\n",
    "# cols = ['name','group','day','value']"
   ]
  },
  {
   "cell_type": "code",
   "execution_count": 37,
   "id": "continued-sleeping",
   "metadata": {
    "execution": {
     "iopub.execute_input": "2022-11-08T12:21:19.339619Z",
     "iopub.status.busy": "2022-11-08T12:21:19.338928Z",
     "iopub.status.idle": "2022-11-08T12:21:19.341294Z",
     "shell.execute_reply": "2022-11-08T12:21:19.340734Z"
    },
    "papermill": {
     "duration": 0.036252,
     "end_time": "2022-11-08T12:21:19.341403",
     "exception": false,
     "start_time": "2022-11-08T12:21:19.305151",
     "status": "completed"
    },
    "tags": []
   },
   "outputs": [],
   "source": [
    "#hide\n",
    "# g.rename(columns= {'date':'day'},inplace = True)"
   ]
  },
  {
   "cell_type": "code",
   "execution_count": 38,
   "id": "major-fight",
   "metadata": {
    "execution": {
     "iopub.execute_input": "2022-11-08T12:21:19.407908Z",
     "iopub.status.busy": "2022-11-08T12:21:19.407063Z",
     "iopub.status.idle": "2022-11-08T12:21:19.411923Z",
     "shell.execute_reply": "2022-11-08T12:21:19.410552Z"
    },
    "papermill": {
     "duration": 0.03972,
     "end_time": "2022-11-08T12:21:19.412038",
     "exception": false,
     "start_time": "2022-11-08T12:21:19.372318",
     "status": "completed"
    },
    "tags": []
   },
   "outputs": [],
   "source": [
    "#hide\n",
    "# g = g[cols]"
   ]
  },
  {
   "cell_type": "code",
   "execution_count": 39,
   "id": "structured-mobile",
   "metadata": {
    "execution": {
     "iopub.execute_input": "2022-11-08T12:21:19.478625Z",
     "iopub.status.busy": "2022-11-08T12:21:19.477869Z",
     "iopub.status.idle": "2022-11-08T12:21:19.479795Z",
     "shell.execute_reply": "2022-11-08T12:21:19.480349Z"
    },
    "papermill": {
     "duration": 0.037,
     "end_time": "2022-11-08T12:21:19.480477",
     "exception": false,
     "start_time": "2022-11-08T12:21:19.443477",
     "status": "completed"
    },
    "tags": []
   },
   "outputs": [],
   "source": [
    "# #hide\n",
    "# g = g[g.group.notna()]"
   ]
  },
  {
   "cell_type": "code",
   "execution_count": 40,
   "id": "determined-closing",
   "metadata": {
    "execution": {
     "iopub.execute_input": "2022-11-08T12:21:19.547535Z",
     "iopub.status.busy": "2022-11-08T12:21:19.546928Z",
     "iopub.status.idle": "2022-11-08T12:21:19.549308Z",
     "shell.execute_reply": "2022-11-08T12:21:19.549775Z"
    },
    "papermill": {
     "duration": 0.037479,
     "end_time": "2022-11-08T12:21:19.549898",
     "exception": false,
     "start_time": "2022-11-08T12:21:19.512419",
     "status": "completed"
    },
    "tags": []
   },
   "outputs": [],
   "source": [
    "# #hide\n",
    "# colors = dict(zip(\n",
    "#     [\"Oceania\", \"Europe\", \"Asia\", \"South America\", \"Middle East\", \"North America\", \"Africa\"],\n",
    "#     [\"#adb0ff\", \"#ffb3ff\", \"#90d595\", \"#e48381\", \"#aafbff\", \"#f7bb5f\", \"#eafb50\"]\n",
    "# ))\n",
    "# group_lk = g.set_index('name')['group'].to_dict()"
   ]
  },
  {
   "cell_type": "code",
   "execution_count": null,
   "id": "gross-drinking",
   "metadata": {
    "papermill": {
     "duration": 0.031415,
     "end_time": "2022-11-08T12:21:19.612904",
     "exception": false,
     "start_time": "2022-11-08T12:21:19.581489",
     "status": "completed"
    },
    "tags": []
   },
   "outputs": [],
   "source": []
  },
  {
   "cell_type": "code",
   "execution_count": 41,
   "id": "subject-macintosh",
   "metadata": {
    "execution": {
     "iopub.execute_input": "2022-11-08T12:21:19.681497Z",
     "iopub.status.busy": "2022-11-08T12:21:19.680774Z",
     "iopub.status.idle": "2022-11-08T12:21:19.682880Z",
     "shell.execute_reply": "2022-11-08T12:21:19.683421Z"
    },
    "papermill": {
     "duration": 0.038987,
     "end_time": "2022-11-08T12:21:19.683573",
     "exception": false,
     "start_time": "2022-11-08T12:21:19.644586",
     "status": "completed"
    },
    "tags": []
   },
   "outputs": [],
   "source": [
    "# #hide\n",
    "# fig, ax = plt.subplots(figsize=(15, 8))\n",
    "\n",
    "# def draw_barchart(current_day):\n",
    "#     dff = g[g['day'].eq(current_day)].sort_values(by='value', ascending=True).tail(10)\n",
    "#     ax.clear()\n",
    "#     ax.barh(dff['name'], dff['value'], color=[colors[group_lk[x]] for x in dff['name']])\n",
    "#     dx = dff['value'].max() / 200\n",
    "    \n",
    "#     for i, (value, name) in enumerate(zip(dff['value'], dff['name'])):\n",
    "#         ax.text(value-dx, i,     name,           size=14, weight=600, ha='right', va='bottom')\n",
    "#         ax.text(value-dx, i-.25, group_lk[name], size=10, color='#444444', ha='right', va='baseline')\n",
    "#         ax.text(value+dx, i,     f'{value:,.0f}',  size=14, ha='left',  va='center')\n",
    "#     ax.text(1, 0.4, current_day, transform=ax.transAxes, color='#777777', size=46, ha='right', weight=800)\n",
    "#     ax.text(0, 1.06, 'Population (thousands)', transform=ax.transAxes, size=12, color='#777777')\n",
    "#     ax.xaxis.set_major_formatter(ticker.StrMethodFormatter('{x:,.0f}'))\n",
    "#     ax.xaxis.set_ticks_position('top')\n",
    "#     ax.tick_params(axis='x', colors='#777777', labelsize=12)\n",
    "#     ax.set_yticks([])\n",
    "#     ax.margins(0, 0.01)\n",
    "#     ax.grid(which='major', axis='x', linestyle='-')\n",
    "#     ax.set_axisbelow(True)\n",
    "    \n",
    "#     ax.text(0, 1.15, 'Coronavirus',\n",
    "#             transform=ax.transAxes, size=24, weight=600, ha='left', va='top')\n",
    "# #     ax.text(1, 0, 'by @pratapvardhan; credit @jburnmurdoch', transform=ax.transAxes, color='#777777', ha='right',\n",
    "# #             bbox=dict(facecolor='white', alpha=0.8, edgecolor='white'))\n",
    "#     plt.box(False)"
   ]
  },
  {
   "cell_type": "code",
   "execution_count": 42,
   "id": "sexual-wages",
   "metadata": {
    "execution": {
     "iopub.execute_input": "2022-11-08T12:21:19.749448Z",
     "iopub.status.busy": "2022-11-08T12:21:19.748866Z",
     "iopub.status.idle": "2022-11-08T12:21:19.751128Z",
     "shell.execute_reply": "2022-11-08T12:21:19.751624Z"
    },
    "papermill": {
     "duration": 0.037167,
     "end_time": "2022-11-08T12:21:19.751753",
     "exception": false,
     "start_time": "2022-11-08T12:21:19.714586",
     "status": "completed"
    },
    "tags": []
   },
   "outputs": [],
   "source": [
    "# #hide_input\n",
    "# fig, ax = plt.subplots(figsize=(15, 8))\n",
    "# animator = animation.FuncAnimation(fig, draw_barchart, frames=range(g.day.values.min(), g.day.values.max()))\n",
    "# HTML(animator.to_jshtml())\n",
    "# # or use animator.to_html5_video() or animator.save() "
   ]
  },
  {
   "cell_type": "code",
   "execution_count": null,
   "id": "australian-container",
   "metadata": {
    "papermill": {
     "duration": 0.030721,
     "end_time": "2022-11-08T12:21:19.813533",
     "exception": false,
     "start_time": "2022-11-08T12:21:19.782812",
     "status": "completed"
    },
    "tags": []
   },
   "outputs": [],
   "source": []
  },
  {
   "cell_type": "code",
   "execution_count": null,
   "id": "mediterranean-pontiac",
   "metadata": {
    "papermill": {
     "duration": 0.030459,
     "end_time": "2022-11-08T12:21:19.874604",
     "exception": false,
     "start_time": "2022-11-08T12:21:19.844145",
     "status": "completed"
    },
    "tags": []
   },
   "outputs": [],
   "source": []
  },
  {
   "cell_type": "code",
   "execution_count": null,
   "id": "aging-legislature",
   "metadata": {
    "papermill": {
     "duration": 0.030501,
     "end_time": "2022-11-08T12:21:19.935830",
     "exception": false,
     "start_time": "2022-11-08T12:21:19.905329",
     "status": "completed"
    },
    "tags": []
   },
   "outputs": [],
   "source": []
  }
 ],
 "metadata": {
  "kernelspec": {
   "display_name": "Python 3",
   "language": "python",
   "name": "python3"
  },
  "language_info": {
   "codemirror_mode": {
    "name": "ipython",
    "version": 3
   },
   "file_extension": ".py",
   "mimetype": "text/x-python",
   "name": "python",
   "nbconvert_exporter": "python",
   "pygments_lexer": "ipython3",
   "version": "3.6.15"
  },
  "papermill": {
   "duration": 5.829832,
   "end_time": "2022-11-08T12:21:20.285118",
   "environment_variables": {},
   "exception": null,
   "input_path": "2020-03-21-covid19exp.ipynb",
   "output_path": "2020-03-21-covid19exp.ipynb",
   "parameters": {},
   "start_time": "2022-11-08T12:21:14.455286",
   "version": "2.0.0"
  }
 },
 "nbformat": 4,
 "nbformat_minor": 5
}