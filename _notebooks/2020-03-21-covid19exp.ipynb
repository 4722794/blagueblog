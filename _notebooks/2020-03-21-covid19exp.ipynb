{
 "cells": [
  {
   "cell_type": "markdown",
   "id": "muslim-click",
   "metadata": {
    "papermill": {
     "duration": 0.041245,
     "end_time": "2022-02-22T00:30:16.974169",
     "exception": false,
     "start_time": "2022-02-22T00:30:16.932924",
     "status": "completed"
    },
    "tags": []
   },
   "source": [
    "# COVID-19 Case Race\n",
    "> A race chart to see rising cases around the world\n",
    "\n",
    "- author: Hargun Oberoi\n",
    "- image: images/covid-overview.png\n",
    "- hide: false\n",
    "- badges: false"
   ]
  },
  {
   "cell_type": "code",
   "execution_count": 1,
   "id": "proof-material",
   "metadata": {
    "execution": {
     "iopub.execute_input": "2022-02-22T00:30:17.051084Z",
     "iopub.status.busy": "2022-02-22T00:30:17.050490Z",
     "iopub.status.idle": "2022-02-22T00:30:17.419212Z",
     "shell.execute_reply": "2022-02-22T00:30:17.418625Z"
    },
    "papermill": {
     "duration": 0.41162,
     "end_time": "2022-02-22T00:30:17.419402",
     "exception": false,
     "start_time": "2022-02-22T00:30:17.007782",
     "status": "completed"
    },
    "tags": []
   },
   "outputs": [],
   "source": [
    "#hide\n",
    "import numpy as np\n",
    "import pandas as pd\n",
    "from jinja2 import Template\n",
    "from IPython.display import HTML"
   ]
  },
  {
   "cell_type": "code",
   "execution_count": 2,
   "id": "developed-terminology",
   "metadata": {
    "execution": {
     "iopub.execute_input": "2022-02-22T00:30:17.493054Z",
     "iopub.status.busy": "2022-02-22T00:30:17.492152Z",
     "iopub.status.idle": "2022-02-22T00:30:17.496527Z",
     "shell.execute_reply": "2022-02-22T00:30:17.496047Z"
    },
    "papermill": {
     "duration": 0.044311,
     "end_time": "2022-02-22T00:30:17.496655",
     "exception": false,
     "start_time": "2022-02-22T00:30:17.452344",
     "status": "completed"
    },
    "tags": []
   },
   "outputs": [],
   "source": [
    "#hide\n",
    "\n",
    "# FETCH\n",
    "base_url = 'https://raw.githubusercontent.com/pratapvardhan/notebooks/master/covid19/'\n",
    "paths = {\n",
    "    'mapping': base_url + 'mapping_countries.csv',\n",
    "    'overview': base_url + 'overview.tpl'\n",
    "}"
   ]
  },
  {
   "cell_type": "code",
   "execution_count": 3,
   "id": "dynamic-saver",
   "metadata": {
    "execution": {
     "iopub.execute_input": "2022-02-22T00:30:17.572700Z",
     "iopub.status.busy": "2022-02-22T00:30:17.572073Z",
     "iopub.status.idle": "2022-02-22T00:30:17.576009Z",
     "shell.execute_reply": "2022-02-22T00:30:17.575492Z"
    },
    "papermill": {
     "duration": 0.046748,
     "end_time": "2022-02-22T00:30:17.576136",
     "exception": false,
     "start_time": "2022-02-22T00:30:17.529388",
     "status": "completed"
    },
    "tags": []
   },
   "outputs": [
    {
     "data": {
      "text/plain": [
       "'https://raw.githubusercontent.com/pratapvardhan/notebooks/master/covid19/mapping_countries.csv'"
      ]
     },
     "execution_count": 3,
     "metadata": {},
     "output_type": "execute_result"
    }
   ],
   "source": [
    "#hide\n",
    "paths['mapping']"
   ]
  },
  {
   "cell_type": "code",
   "execution_count": 4,
   "id": "urban-software",
   "metadata": {
    "execution": {
     "iopub.execute_input": "2022-02-22T00:30:17.647794Z",
     "iopub.status.busy": "2022-02-22T00:30:17.647154Z",
     "iopub.status.idle": "2022-02-22T00:30:17.650383Z",
     "shell.execute_reply": "2022-02-22T00:30:17.649903Z"
    },
    "papermill": {
     "duration": 0.041757,
     "end_time": "2022-02-22T00:30:17.650507",
     "exception": false,
     "start_time": "2022-02-22T00:30:17.608750",
     "status": "completed"
    },
    "tags": []
   },
   "outputs": [],
   "source": [
    "#hide\n",
    "def get_mappings(url):\n",
    "    df = pd.read_csv(url)\n",
    "    return {\n",
    "        'df': df,\n",
    "        'replace.country': dict(df.dropna(subset=['Name']).set_index('Country')['Name']),\n",
    "        'map.continent': dict(df.set_index('Name')['Continent'])\n",
    "    }"
   ]
  },
  {
   "cell_type": "code",
   "execution_count": 5,
   "id": "intimate-machinery",
   "metadata": {
    "execution": {
     "iopub.execute_input": "2022-02-22T00:30:17.724761Z",
     "iopub.status.busy": "2022-02-22T00:30:17.724160Z",
     "iopub.status.idle": "2022-02-22T00:30:17.867458Z",
     "shell.execute_reply": "2022-02-22T00:30:17.866892Z"
    },
    "papermill": {
     "duration": 0.183995,
     "end_time": "2022-02-22T00:30:17.867606",
     "exception": false,
     "start_time": "2022-02-22T00:30:17.683611",
     "status": "completed"
    },
    "tags": []
   },
   "outputs": [],
   "source": [
    "#hide\n",
    "mapping = get_mappings(paths['mapping'])"
   ]
  },
  {
   "cell_type": "code",
   "execution_count": 6,
   "id": "certified-tactics",
   "metadata": {
    "execution": {
     "iopub.execute_input": "2022-02-22T00:30:17.943590Z",
     "iopub.status.busy": "2022-02-22T00:30:17.942989Z",
     "iopub.status.idle": "2022-02-22T00:30:17.946026Z",
     "shell.execute_reply": "2022-02-22T00:30:17.946442Z"
    },
    "papermill": {
     "duration": 0.043481,
     "end_time": "2022-02-22T00:30:17.946577",
     "exception": false,
     "start_time": "2022-02-22T00:30:17.903096",
     "status": "completed"
    },
    "tags": []
   },
   "outputs": [],
   "source": [
    "#hide\n",
    "def get_template(path):\n",
    "    from urllib.parse import urlparse\n",
    "    if bool(urlparse(path).netloc):\n",
    "        from urllib.request import urlopen\n",
    "        return urlopen(path).read().decode('utf8')\n",
    "    return open(path).read()"
   ]
  },
  {
   "cell_type": "code",
   "execution_count": 7,
   "id": "realistic-blast",
   "metadata": {
    "execution": {
     "iopub.execute_input": "2022-02-22T00:30:18.020526Z",
     "iopub.status.busy": "2022-02-22T00:30:18.019924Z",
     "iopub.status.idle": "2022-02-22T00:30:18.022683Z",
     "shell.execute_reply": "2022-02-22T00:30:18.022187Z"
    },
    "papermill": {
     "duration": 0.042725,
     "end_time": "2022-02-22T00:30:18.022804",
     "exception": false,
     "start_time": "2022-02-22T00:30:17.980079",
     "status": "completed"
    },
    "tags": []
   },
   "outputs": [],
   "source": [
    "#hide\n",
    "def get_frame(name):\n",
    "    url = (\n",
    "        'https://raw.githubusercontent.com/CSSEGISandData/COVID-19/master/csse_covid_19_data/'\n",
    "        f'csse_covid_19_time_series/time_series_covid19_{name}_global.csv')\n",
    "    df = pd.read_csv(url)\n",
    "    # rename countries\n",
    "    df['Country/Region'] = df['Country/Region'].replace(mapping['replace.country'])\n",
    "    return df"
   ]
  },
  {
   "cell_type": "code",
   "execution_count": 8,
   "id": "affiliated-characterization",
   "metadata": {
    "execution": {
     "iopub.execute_input": "2022-02-22T00:30:18.095020Z",
     "iopub.status.busy": "2022-02-22T00:30:18.094372Z",
     "iopub.status.idle": "2022-02-22T00:30:18.096285Z",
     "shell.execute_reply": "2022-02-22T00:30:18.096752Z"
    },
    "papermill": {
     "duration": 0.042112,
     "end_time": "2022-02-22T00:30:18.096921",
     "exception": false,
     "start_time": "2022-02-22T00:30:18.054809",
     "status": "completed"
    },
    "tags": []
   },
   "outputs": [],
   "source": [
    "#hide\n",
    "def get_dates(df):\n",
    "    dt_cols = df.columns[~df.columns.isin(['Province/State', 'Country/Region', 'Lat', 'Long'])]\n",
    "    LAST_DATE_I = -1\n",
    "    # sometimes last column may be empty, then go backwards\n",
    "    for i in range(-1, -len(dt_cols), -1):\n",
    "        if not df[dt_cols[i]].fillna(0).eq(0).all():\n",
    "            LAST_DATE_I = i\n",
    "            break\n",
    "    return LAST_DATE_I, dt_cols"
   ]
  },
  {
   "cell_type": "code",
   "execution_count": 9,
   "id": "recent-optimization",
   "metadata": {
    "execution": {
     "iopub.execute_input": "2022-02-22T00:30:18.171978Z",
     "iopub.status.busy": "2022-02-22T00:30:18.171314Z",
     "iopub.status.idle": "2022-02-22T00:30:18.887151Z",
     "shell.execute_reply": "2022-02-22T00:30:18.885839Z"
    },
    "papermill": {
     "duration": 0.757046,
     "end_time": "2022-02-22T00:30:18.887303",
     "exception": false,
     "start_time": "2022-02-22T00:30:18.130257",
     "status": "completed"
    },
    "tags": []
   },
   "outputs": [],
   "source": [
    "#hide\n",
    "COL_REGION = 'Country/Region'\n",
    "# Confirmed, Recovered, Deaths\n",
    "df = get_frame('confirmed')\n",
    "# dft_: timeseries, dfc_: today country agg\n",
    "dft_cases = df\n",
    "dft_deaths = get_frame('deaths')\n",
    "dft_recovered = get_frame('recovered')\n",
    "LAST_DATE_I, dt_cols = get_dates(df)"
   ]
  },
  {
   "cell_type": "code",
   "execution_count": 10,
   "id": "absolute-copper",
   "metadata": {
    "execution": {
     "iopub.execute_input": "2022-02-22T00:30:18.963770Z",
     "iopub.status.busy": "2022-02-22T00:30:18.963110Z",
     "iopub.status.idle": "2022-02-22T00:30:18.965229Z",
     "shell.execute_reply": "2022-02-22T00:30:18.964642Z"
    },
    "papermill": {
     "duration": 0.041756,
     "end_time": "2022-02-22T00:30:18.965356",
     "exception": false,
     "start_time": "2022-02-22T00:30:18.923600",
     "status": "completed"
    },
    "tags": []
   },
   "outputs": [],
   "source": [
    "#hide\n",
    "LAST_DATE_I, dt_cols = get_dates(df)\n",
    "dt_today =dt_cols[LAST_DATE_I]\n",
    "# dt_5day = dt_cols[LAST_DATE_I - 5]\n",
    "dt_yday = dt_cols[LAST_DATE_I - 1]"
   ]
  },
  {
   "cell_type": "code",
   "execution_count": 11,
   "id": "restricted-sheriff",
   "metadata": {
    "execution": {
     "iopub.execute_input": "2022-02-22T00:30:19.042141Z",
     "iopub.status.busy": "2022-02-22T00:30:19.039942Z",
     "iopub.status.idle": "2022-02-22T00:30:19.046917Z",
     "shell.execute_reply": "2022-02-22T00:30:19.046388Z"
    },
    "papermill": {
     "duration": 0.048041,
     "end_time": "2022-02-22T00:30:19.047048",
     "exception": false,
     "start_time": "2022-02-22T00:30:18.999007",
     "status": "completed"
    },
    "tags": []
   },
   "outputs": [],
   "source": [
    "#hide\n",
    "dfc_cases = dft_cases.groupby(COL_REGION)[dt_today].sum()\n",
    "dfc_deaths = dft_deaths.groupby(COL_REGION)[dt_today].sum()\n",
    "# dfp_cases = dft_cases.groupby(COL_REGION)[dt_5day].sum()\n",
    "# dfp_deaths = dft_deaths.groupby(COL_REGION)[dt_5day].sum()\n",
    "dfp_cases = dft_cases.groupby(COL_REGION)[dt_yday].sum()\n",
    "dfp_deaths = dft_deaths.groupby(COL_REGION)[dt_yday].sum()"
   ]
  },
  {
   "cell_type": "code",
   "execution_count": 12,
   "id": "deluxe-hepatitis",
   "metadata": {
    "execution": {
     "iopub.execute_input": "2022-02-22T00:30:19.120715Z",
     "iopub.status.busy": "2022-02-22T00:30:19.120116Z",
     "iopub.status.idle": "2022-02-22T00:30:19.125882Z",
     "shell.execute_reply": "2022-02-22T00:30:19.125404Z"
    },
    "papermill": {
     "duration": 0.046647,
     "end_time": "2022-02-22T00:30:19.126008",
     "exception": false,
     "start_time": "2022-02-22T00:30:19.079361",
     "status": "completed"
    },
    "tags": []
   },
   "outputs": [],
   "source": [
    "#hide\n",
    "df_table = (pd.DataFrame(dict(Cases = dfc_cases, Deaths = dfc_deaths, PCases = dfp_cases, PDeaths = dfp_deaths))\n",
    "            .sort_values(by = ['Cases','Deaths'], ascending = [False, False])\n",
    "            .reset_index())"
   ]
  },
  {
   "cell_type": "code",
   "execution_count": 13,
   "id": "educational-chancellor",
   "metadata": {
    "execution": {
     "iopub.execute_input": "2022-02-22T00:30:19.204027Z",
     "iopub.status.busy": "2022-02-22T00:30:19.203365Z",
     "iopub.status.idle": "2022-02-22T00:30:19.222711Z",
     "shell.execute_reply": "2022-02-22T00:30:19.222229Z"
    },
    "papermill": {
     "duration": 0.063759,
     "end_time": "2022-02-22T00:30:19.222841",
     "exception": false,
     "start_time": "2022-02-22T00:30:19.159082",
     "status": "completed"
    },
    "tags": []
   },
   "outputs": [
    {
     "data": {
      "text/html": [
       "<div>\n",
       "<style scoped>\n",
       "    .dataframe tbody tr th:only-of-type {\n",
       "        vertical-align: middle;\n",
       "    }\n",
       "\n",
       "    .dataframe tbody tr th {\n",
       "        vertical-align: top;\n",
       "    }\n",
       "\n",
       "    .dataframe thead th {\n",
       "        text-align: right;\n",
       "    }\n",
       "</style>\n",
       "<table border=\"1\" class=\"dataframe\">\n",
       "  <thead>\n",
       "    <tr style=\"text-align: right;\">\n",
       "      <th></th>\n",
       "      <th>Country/Region</th>\n",
       "      <th>Cases</th>\n",
       "      <th>Deaths</th>\n",
       "      <th>PCases</th>\n",
       "      <th>PDeaths</th>\n",
       "      <th>Cases (+)</th>\n",
       "      <th>Deaths (+)</th>\n",
       "      <th>Fatality Rate</th>\n",
       "      <th>Continent</th>\n",
       "    </tr>\n",
       "  </thead>\n",
       "  <tbody>\n",
       "    <tr>\n",
       "      <th>0</th>\n",
       "      <td>US</td>\n",
       "      <td>78479134</td>\n",
       "      <td>935335</td>\n",
       "      <td>78457081</td>\n",
       "      <td>934951</td>\n",
       "      <td>22053</td>\n",
       "      <td>384</td>\n",
       "      <td>1.19</td>\n",
       "      <td>North America</td>\n",
       "    </tr>\n",
       "    <tr>\n",
       "      <th>1</th>\n",
       "      <td>India</td>\n",
       "      <td>42838524</td>\n",
       "      <td>512109</td>\n",
       "      <td>42822473</td>\n",
       "      <td>511903</td>\n",
       "      <td>16051</td>\n",
       "      <td>206</td>\n",
       "      <td>1.20</td>\n",
       "      <td>Asia</td>\n",
       "    </tr>\n",
       "    <tr>\n",
       "      <th>2</th>\n",
       "      <td>Brazil</td>\n",
       "      <td>28218180</td>\n",
       "      <td>644592</td>\n",
       "      <td>28177367</td>\n",
       "      <td>644195</td>\n",
       "      <td>40813</td>\n",
       "      <td>397</td>\n",
       "      <td>2.28</td>\n",
       "      <td>South America</td>\n",
       "    </tr>\n",
       "    <tr>\n",
       "      <th>3</th>\n",
       "      <td>France</td>\n",
       "      <td>22445580</td>\n",
       "      <td>137596</td>\n",
       "      <td>22386566</td>\n",
       "      <td>137595</td>\n",
       "      <td>59014</td>\n",
       "      <td>1</td>\n",
       "      <td>0.61</td>\n",
       "      <td>Europe</td>\n",
       "    </tr>\n",
       "    <tr>\n",
       "      <th>4</th>\n",
       "      <td>United Kingdom</td>\n",
       "      <td>18735911</td>\n",
       "      <td>161148</td>\n",
       "      <td>18710375</td>\n",
       "      <td>161074</td>\n",
       "      <td>25536</td>\n",
       "      <td>74</td>\n",
       "      <td>0.86</td>\n",
       "      <td>Europe</td>\n",
       "    </tr>\n",
       "  </tbody>\n",
       "</table>\n",
       "</div>"
      ],
      "text/plain": [
       "   Country/Region     Cases  Deaths    PCases  PDeaths  Cases (+)  Deaths (+)  \\\n",
       "0              US  78479134  935335  78457081   934951      22053         384   \n",
       "1           India  42838524  512109  42822473   511903      16051         206   \n",
       "2          Brazil  28218180  644592  28177367   644195      40813         397   \n",
       "3          France  22445580  137596  22386566   137595      59014           1   \n",
       "4  United Kingdom  18735911  161148  18710375   161074      25536          74   \n",
       "\n",
       "   Fatality Rate      Continent  \n",
       "0           1.19  North America  \n",
       "1           1.20           Asia  \n",
       "2           2.28  South America  \n",
       "3           0.61         Europe  \n",
       "4           0.86         Europe  "
      ]
     },
     "execution_count": 13,
     "metadata": {},
     "output_type": "execute_result"
    }
   ],
   "source": [
    "#hide\n",
    "for c in 'Cases, Deaths'.split(', '):\n",
    "    df_table[f'{c} (+)'] = (df_table[c] - df_table[f'P{c}']).clip(0)\n",
    "    #Clip ça veut dire, les chiffres negatif sont interdit\n",
    "df_table['Fatality Rate'] = (100* df_table['Deaths']/ df_table['Cases']).round(2)\n",
    "df_table['Continent'] = df_table['Country/Region'].map(mapping['map.continent'])\n",
    "df_table.head(5)"
   ]
  },
  {
   "cell_type": "code",
   "execution_count": 14,
   "id": "aboriginal-bulgaria",
   "metadata": {
    "execution": {
     "iopub.execute_input": "2022-02-22T00:30:19.296616Z",
     "iopub.status.busy": "2022-02-22T00:30:19.296094Z",
     "iopub.status.idle": "2022-02-22T00:30:19.298104Z",
     "shell.execute_reply": "2022-02-22T00:30:19.298583Z"
    },
    "papermill": {
     "duration": 0.042418,
     "end_time": "2022-02-22T00:30:19.298726",
     "exception": false,
     "start_time": "2022-02-22T00:30:19.256308",
     "status": "completed"
    },
    "tags": []
   },
   "outputs": [],
   "source": [
    "#hide\n",
    "#delete problematic countries from table\n",
    "df_table = df_table[~df_table['Country/Region'].isin(['Cape Verde', 'Cruise Ship', 'Kosovo'])]"
   ]
  },
  {
   "cell_type": "code",
   "execution_count": 15,
   "id": "fantastic-effect",
   "metadata": {
    "execution": {
     "iopub.execute_input": "2022-02-22T00:30:19.375881Z",
     "iopub.status.busy": "2022-02-22T00:30:19.375232Z",
     "iopub.status.idle": "2022-02-22T00:30:19.394530Z",
     "shell.execute_reply": "2022-02-22T00:30:19.394025Z"
    },
    "papermill": {
     "duration": 0.063298,
     "end_time": "2022-02-22T00:30:19.394655",
     "exception": false,
     "start_time": "2022-02-22T00:30:19.331357",
     "status": "completed"
    },
    "tags": []
   },
   "outputs": [
    {
     "data": {
      "text/html": [
       "<div>\n",
       "<style scoped>\n",
       "    .dataframe tbody tr th:only-of-type {\n",
       "        vertical-align: middle;\n",
       "    }\n",
       "\n",
       "    .dataframe tbody tr th {\n",
       "        vertical-align: top;\n",
       "    }\n",
       "\n",
       "    .dataframe thead th {\n",
       "        text-align: right;\n",
       "    }\n",
       "</style>\n",
       "<table border=\"1\" class=\"dataframe\">\n",
       "  <thead>\n",
       "    <tr style=\"text-align: right;\">\n",
       "      <th></th>\n",
       "      <th>Country/Region</th>\n",
       "      <th>Cases</th>\n",
       "      <th>Deaths</th>\n",
       "      <th>PCases</th>\n",
       "      <th>PDeaths</th>\n",
       "      <th>Cases (+)</th>\n",
       "      <th>Deaths (+)</th>\n",
       "      <th>Fatality Rate</th>\n",
       "      <th>Continent</th>\n",
       "    </tr>\n",
       "  </thead>\n",
       "  <tbody>\n",
       "    <tr>\n",
       "      <th>0</th>\n",
       "      <td>US</td>\n",
       "      <td>78479134</td>\n",
       "      <td>935335</td>\n",
       "      <td>78457081</td>\n",
       "      <td>934951</td>\n",
       "      <td>22053</td>\n",
       "      <td>384</td>\n",
       "      <td>1.2</td>\n",
       "      <td>North America</td>\n",
       "    </tr>\n",
       "    <tr>\n",
       "      <th>1</th>\n",
       "      <td>India</td>\n",
       "      <td>42838524</td>\n",
       "      <td>512109</td>\n",
       "      <td>42822473</td>\n",
       "      <td>511903</td>\n",
       "      <td>16051</td>\n",
       "      <td>206</td>\n",
       "      <td>1.2</td>\n",
       "      <td>Asia</td>\n",
       "    </tr>\n",
       "    <tr>\n",
       "      <th>2</th>\n",
       "      <td>Brazil</td>\n",
       "      <td>28218180</td>\n",
       "      <td>644592</td>\n",
       "      <td>28177367</td>\n",
       "      <td>644195</td>\n",
       "      <td>40813</td>\n",
       "      <td>397</td>\n",
       "      <td>2.3</td>\n",
       "      <td>South America</td>\n",
       "    </tr>\n",
       "    <tr>\n",
       "      <th>3</th>\n",
       "      <td>France</td>\n",
       "      <td>22445580</td>\n",
       "      <td>137596</td>\n",
       "      <td>22386566</td>\n",
       "      <td>137595</td>\n",
       "      <td>59014</td>\n",
       "      <td>1</td>\n",
       "      <td>0.6</td>\n",
       "      <td>Europe</td>\n",
       "    </tr>\n",
       "    <tr>\n",
       "      <th>4</th>\n",
       "      <td>United Kingdom</td>\n",
       "      <td>18735911</td>\n",
       "      <td>161148</td>\n",
       "      <td>18710375</td>\n",
       "      <td>161074</td>\n",
       "      <td>25536</td>\n",
       "      <td>74</td>\n",
       "      <td>0.9</td>\n",
       "      <td>Europe</td>\n",
       "    </tr>\n",
       "  </tbody>\n",
       "</table>\n",
       "</div>"
      ],
      "text/plain": [
       "   Country/Region     Cases  Deaths    PCases  PDeaths  Cases (+)  Deaths (+)  \\\n",
       "0              US  78479134  935335  78457081   934951      22053         384   \n",
       "1           India  42838524  512109  42822473   511903      16051         206   \n",
       "2          Brazil  28218180  644592  28177367   644195      40813         397   \n",
       "3          France  22445580  137596  22386566   137595      59014           1   \n",
       "4  United Kingdom  18735911  161148  18710375   161074      25536          74   \n",
       "\n",
       "   Fatality Rate      Continent  \n",
       "0            1.2  North America  \n",
       "1            1.2           Asia  \n",
       "2            2.3  South America  \n",
       "3            0.6         Europe  \n",
       "4            0.9         Europe  "
      ]
     },
     "execution_count": 15,
     "metadata": {},
     "output_type": "execute_result"
    }
   ],
   "source": [
    "#hide\n",
    "df_table = (pd.DataFrame(dict(Cases=dfc_cases, Deaths=dfc_deaths, PCases=dfp_cases, PDeaths=dfp_deaths))\n",
    "             .sort_values(by=['Cases', 'Deaths'], ascending=[False, False])\n",
    "             .reset_index())\n",
    "df_table.rename(columns={'index': 'Country/Region'}, inplace=True)\n",
    "for c in 'Cases, Deaths'.split(', '):\n",
    "    df_table[f'{c} (+)'] = (df_table[c] - df_table[f'P{c}']).clip(0)  # DATA BUG\n",
    "df_table['Fatality Rate'] = (100 * df_table['Deaths'] / df_table['Cases']).round(1)\n",
    "df_table['Continent'] = df_table['Country/Region'].map(mapping['map.continent'])\n",
    "df_table.head(5)"
   ]
  },
  {
   "cell_type": "code",
   "execution_count": 16,
   "id": "fewer-occasion",
   "metadata": {
    "execution": {
     "iopub.execute_input": "2022-02-22T00:30:19.469684Z",
     "iopub.status.busy": "2022-02-22T00:30:19.469122Z",
     "iopub.status.idle": "2022-02-22T00:30:19.471774Z",
     "shell.execute_reply": "2022-02-22T00:30:19.471221Z"
    },
    "papermill": {
     "duration": 0.041839,
     "end_time": "2022-02-22T00:30:19.471890",
     "exception": false,
     "start_time": "2022-02-22T00:30:19.430051",
     "status": "completed"
    },
    "tags": []
   },
   "outputs": [],
   "source": [
    "#hide\n",
    "#delete problematic countries from table\n",
    "df_table = df_table[~df_table['Country/Region'].isin(['Cape Verde', 'Cruise Ship', 'Kosovo'])]"
   ]
  },
  {
   "cell_type": "code",
   "execution_count": 17,
   "id": "related-center",
   "metadata": {
    "execution": {
     "iopub.execute_input": "2022-02-22T00:30:19.547760Z",
     "iopub.status.busy": "2022-02-22T00:30:19.546888Z",
     "iopub.status.idle": "2022-02-22T00:30:19.561476Z",
     "shell.execute_reply": "2022-02-22T00:30:19.561002Z"
    },
    "papermill": {
     "duration": 0.05585,
     "end_time": "2022-02-22T00:30:19.561601",
     "exception": false,
     "start_time": "2022-02-22T00:30:19.505751",
     "status": "completed"
    },
    "tags": []
   },
   "outputs": [],
   "source": [
    "#hide\n",
    "metrics = [df_table.columns[index] for index in [1,2,5,6]]\n",
    "# s_china = df_table[df_table['Country/Region'].eq('China')][metrics].sum().add_prefix('China ')\n",
    "s_us = df_table[df_table['Country/Region'].eq('US')][metrics].sum().add_prefix('US ')\n",
    "s_eu = df_table[df_table['Continent'].eq('Europe')][metrics].sum().add_prefix('EU ')\n",
    "s_ind = df_table[df_table['Country/Region'].eq('India')][metrics].sum().add_prefix('India ')\n",
    "summary = {'updated': pd.to_datetime(dt_today), 'since': pd.to_datetime(dt_yday)}\n",
    "summary = {'updated': pd.to_datetime(dt_today), 'since': pd.to_datetime(dt_yday)}\n",
    "summary = {**summary, **df_table[metrics].sum(), **s_ind, **s_us, **s_eu}"
   ]
  },
  {
   "cell_type": "code",
   "execution_count": 18,
   "id": "engaging-syndrome",
   "metadata": {
    "execution": {
     "iopub.execute_input": "2022-02-22T00:30:19.634861Z",
     "iopub.status.busy": "2022-02-22T00:30:19.634277Z",
     "iopub.status.idle": "2022-02-22T00:30:19.651537Z",
     "shell.execute_reply": "2022-02-22T00:30:19.650918Z"
    },
    "papermill": {
     "duration": 0.056666,
     "end_time": "2022-02-22T00:30:19.651697",
     "exception": false,
     "start_time": "2022-02-22T00:30:19.595031",
     "status": "completed"
    },
    "tags": []
   },
   "outputs": [],
   "source": [
    "#hide\n",
    "dft_ct_new_cases = dft_cases.groupby(COL_REGION)[dt_cols].sum().diff(axis=1).fillna(0).astype(int)"
   ]
  },
  {
   "cell_type": "code",
   "execution_count": 19,
   "id": "neutral-assignment",
   "metadata": {
    "execution": {
     "iopub.execute_input": "2022-02-22T00:30:19.729352Z",
     "iopub.status.busy": "2022-02-22T00:30:19.728319Z",
     "iopub.status.idle": "2022-02-22T00:30:19.732844Z",
     "shell.execute_reply": "2022-02-22T00:30:19.732366Z"
    },
    "papermill": {
     "duration": 0.046473,
     "end_time": "2022-02-22T00:30:19.732972",
     "exception": false,
     "start_time": "2022-02-22T00:30:19.686499",
     "status": "completed"
    },
    "tags": []
   },
   "outputs": [],
   "source": [
    "#hide\n",
    "everydaycases = dft_ct_new_cases.cumsum(axis=1)"
   ]
  },
  {
   "cell_type": "code",
   "execution_count": 20,
   "id": "parliamentary-calgary",
   "metadata": {
    "execution": {
     "iopub.execute_input": "2022-02-22T00:30:19.807117Z",
     "iopub.status.busy": "2022-02-22T00:30:19.806509Z",
     "iopub.status.idle": "2022-02-22T00:30:20.477349Z",
     "shell.execute_reply": "2022-02-22T00:30:20.476440Z"
    },
    "papermill": {
     "duration": 0.710736,
     "end_time": "2022-02-22T00:30:20.477575",
     "exception": false,
     "start_time": "2022-02-22T00:30:19.766839",
     "status": "completed"
    },
    "tags": []
   },
   "outputs": [],
   "source": [
    "#hide\n",
    "import pandas as pd\n",
    "import matplotlib.pyplot as plt\n",
    "import matplotlib.ticker as ticker\n",
    "import matplotlib.animation as animation\n",
    "from IPython.display import HTML"
   ]
  },
  {
   "cell_type": "code",
   "execution_count": 21,
   "id": "lasting-extraction",
   "metadata": {
    "execution": {
     "iopub.execute_input": "2022-02-22T00:30:20.554525Z",
     "iopub.status.busy": "2022-02-22T00:30:20.553920Z",
     "iopub.status.idle": "2022-02-22T00:30:20.560949Z",
     "shell.execute_reply": "2022-02-22T00:30:20.560433Z"
    },
    "papermill": {
     "duration": 0.047539,
     "end_time": "2022-02-22T00:30:20.561069",
     "exception": false,
     "start_time": "2022-02-22T00:30:20.513530",
     "status": "completed"
    },
    "tags": []
   },
   "outputs": [],
   "source": [
    "#hide\n",
    "t = everydaycases.stack()"
   ]
  },
  {
   "cell_type": "code",
   "execution_count": 22,
   "id": "premier-sleeve",
   "metadata": {
    "execution": {
     "iopub.execute_input": "2022-02-22T00:30:20.631804Z",
     "iopub.status.busy": "2022-02-22T00:30:20.631153Z",
     "iopub.status.idle": "2022-02-22T00:30:20.643169Z",
     "shell.execute_reply": "2022-02-22T00:30:20.643648Z"
    },
    "papermill": {
     "duration": 0.049562,
     "end_time": "2022-02-22T00:30:20.643802",
     "exception": false,
     "start_time": "2022-02-22T00:30:20.594240",
     "status": "completed"
    },
    "tags": []
   },
   "outputs": [],
   "source": [
    "#hide\n",
    "g = t.reset_index(['Country/Region'])"
   ]
  },
  {
   "cell_type": "code",
   "execution_count": 23,
   "id": "distributed-pittsburgh",
   "metadata": {
    "execution": {
     "iopub.execute_input": "2022-02-22T00:30:20.716659Z",
     "iopub.status.busy": "2022-02-22T00:30:20.716098Z",
     "iopub.status.idle": "2022-02-22T00:30:20.718683Z",
     "shell.execute_reply": "2022-02-22T00:30:20.719253Z"
    },
    "papermill": {
     "duration": 0.041582,
     "end_time": "2022-02-22T00:30:20.719425",
     "exception": false,
     "start_time": "2022-02-22T00:30:20.677843",
     "status": "completed"
    },
    "tags": []
   },
   "outputs": [],
   "source": [
    "#hide\n",
    "g.index.name = 'date'"
   ]
  },
  {
   "cell_type": "code",
   "execution_count": 24,
   "id": "naked-donor",
   "metadata": {
    "execution": {
     "iopub.execute_input": "2022-02-22T00:30:20.792055Z",
     "iopub.status.busy": "2022-02-22T00:30:20.791234Z",
     "iopub.status.idle": "2022-02-22T00:30:20.794641Z",
     "shell.execute_reply": "2022-02-22T00:30:20.794157Z"
    },
    "papermill": {
     "duration": 0.040979,
     "end_time": "2022-02-22T00:30:20.794772",
     "exception": false,
     "start_time": "2022-02-22T00:30:20.753793",
     "status": "completed"
    },
    "tags": []
   },
   "outputs": [],
   "source": [
    "# #hide\n",
    "# g = g.reset_index(['date'])"
   ]
  },
  {
   "cell_type": "code",
   "execution_count": 25,
   "id": "incomplete-mustang",
   "metadata": {
    "execution": {
     "iopub.execute_input": "2022-02-22T00:30:20.866834Z",
     "iopub.status.busy": "2022-02-22T00:30:20.866226Z",
     "iopub.status.idle": "2022-02-22T00:30:20.868828Z",
     "shell.execute_reply": "2022-02-22T00:30:20.869303Z"
    },
    "papermill": {
     "duration": 0.041301,
     "end_time": "2022-02-22T00:30:20.869448",
     "exception": false,
     "start_time": "2022-02-22T00:30:20.828147",
     "status": "completed"
    },
    "tags": []
   },
   "outputs": [],
   "source": [
    "#hide\n",
    "# g.head()"
   ]
  },
  {
   "cell_type": "code",
   "execution_count": 26,
   "id": "specific-kruger",
   "metadata": {
    "execution": {
     "iopub.execute_input": "2022-02-22T00:30:20.942491Z",
     "iopub.status.busy": "2022-02-22T00:30:20.941870Z",
     "iopub.status.idle": "2022-02-22T00:30:20.943779Z",
     "shell.execute_reply": "2022-02-22T00:30:20.944235Z"
    },
    "papermill": {
     "duration": 0.040767,
     "end_time": "2022-02-22T00:30:20.944377",
     "exception": false,
     "start_time": "2022-02-22T00:30:20.903610",
     "status": "completed"
    },
    "tags": []
   },
   "outputs": [],
   "source": [
    "#hide\n",
    "# g.columns = ['date','country','cases']"
   ]
  },
  {
   "cell_type": "code",
   "execution_count": 27,
   "id": "tender-conversion",
   "metadata": {
    "execution": {
     "iopub.execute_input": "2022-02-22T00:30:21.021161Z",
     "iopub.status.busy": "2022-02-22T00:30:21.020551Z",
     "iopub.status.idle": "2022-02-22T00:30:21.024541Z",
     "shell.execute_reply": "2022-02-22T00:30:21.024046Z"
    },
    "papermill": {
     "duration": 0.043929,
     "end_time": "2022-02-22T00:30:21.024687",
     "exception": false,
     "start_time": "2022-02-22T00:30:20.980758",
     "status": "completed"
    },
    "tags": []
   },
   "outputs": [],
   "source": [
    "#hide\n",
    "# g['continent'] = g.country"
   ]
  },
  {
   "cell_type": "code",
   "execution_count": 28,
   "id": "substantial-wilderness",
   "metadata": {
    "execution": {
     "iopub.execute_input": "2022-02-22T00:30:21.100635Z",
     "iopub.status.busy": "2022-02-22T00:30:21.100026Z",
     "iopub.status.idle": "2022-02-22T00:30:21.102684Z",
     "shell.execute_reply": "2022-02-22T00:30:21.103142Z"
    },
    "papermill": {
     "duration": 0.044191,
     "end_time": "2022-02-22T00:30:21.103289",
     "exception": false,
     "start_time": "2022-02-22T00:30:21.059098",
     "status": "completed"
    },
    "tags": []
   },
   "outputs": [],
   "source": [
    "#hide\n",
    "# cols = list(g.columns.values)"
   ]
  },
  {
   "cell_type": "code",
   "execution_count": 29,
   "id": "solved-farming",
   "metadata": {
    "execution": {
     "iopub.execute_input": "2022-02-22T00:30:21.177080Z",
     "iopub.status.busy": "2022-02-22T00:30:21.176264Z",
     "iopub.status.idle": "2022-02-22T00:30:21.180531Z",
     "shell.execute_reply": "2022-02-22T00:30:21.181148Z"
    },
    "papermill": {
     "duration": 0.043542,
     "end_time": "2022-02-22T00:30:21.181348",
     "exception": false,
     "start_time": "2022-02-22T00:30:21.137806",
     "status": "completed"
    },
    "tags": []
   },
   "outputs": [],
   "source": [
    "#hide\n",
    "# cols.insert(0, cols.pop())"
   ]
  },
  {
   "cell_type": "code",
   "execution_count": 30,
   "id": "executed-adoption",
   "metadata": {
    "execution": {
     "iopub.execute_input": "2022-02-22T00:30:21.254642Z",
     "iopub.status.busy": "2022-02-22T00:30:21.253969Z",
     "iopub.status.idle": "2022-02-22T00:30:21.255732Z",
     "shell.execute_reply": "2022-02-22T00:30:21.256280Z"
    },
    "papermill": {
     "duration": 0.040783,
     "end_time": "2022-02-22T00:30:21.256436",
     "exception": false,
     "start_time": "2022-02-22T00:30:21.215653",
     "status": "completed"
    },
    "tags": []
   },
   "outputs": [],
   "source": [
    "#hide\n",
    "# g = g[cols]"
   ]
  },
  {
   "cell_type": "code",
   "execution_count": 31,
   "id": "subject-dublin",
   "metadata": {
    "execution": {
     "iopub.execute_input": "2022-02-22T00:30:21.330099Z",
     "iopub.status.busy": "2022-02-22T00:30:21.329063Z",
     "iopub.status.idle": "2022-02-22T00:30:21.334591Z",
     "shell.execute_reply": "2022-02-22T00:30:21.334113Z"
    },
    "papermill": {
     "duration": 0.043537,
     "end_time": "2022-02-22T00:30:21.334717",
     "exception": false,
     "start_time": "2022-02-22T00:30:21.291180",
     "status": "completed"
    },
    "tags": []
   },
   "outputs": [],
   "source": [
    "#hide\n",
    "# g['continent'] = g['continent'].map(mapping['map.continent'])"
   ]
  },
  {
   "cell_type": "code",
   "execution_count": 32,
   "id": "freelance-scout",
   "metadata": {
    "execution": {
     "iopub.execute_input": "2022-02-22T00:30:21.406524Z",
     "iopub.status.busy": "2022-02-22T00:30:21.405918Z",
     "iopub.status.idle": "2022-02-22T00:30:21.409035Z",
     "shell.execute_reply": "2022-02-22T00:30:21.408539Z"
    },
    "papermill": {
     "duration": 0.040169,
     "end_time": "2022-02-22T00:30:21.409155",
     "exception": false,
     "start_time": "2022-02-22T00:30:21.368986",
     "status": "completed"
    },
    "tags": []
   },
   "outputs": [],
   "source": [
    "#hide\n",
    "# g.head()"
   ]
  },
  {
   "cell_type": "code",
   "execution_count": 33,
   "id": "limited-engine",
   "metadata": {
    "execution": {
     "iopub.execute_input": "2022-02-22T00:30:21.481510Z",
     "iopub.status.busy": "2022-02-22T00:30:21.480945Z",
     "iopub.status.idle": "2022-02-22T00:30:21.483796Z",
     "shell.execute_reply": "2022-02-22T00:30:21.484358Z"
    },
    "papermill": {
     "duration": 0.041911,
     "end_time": "2022-02-22T00:30:21.484503",
     "exception": false,
     "start_time": "2022-02-22T00:30:21.442592",
     "status": "completed"
    },
    "tags": []
   },
   "outputs": [],
   "source": [
    "# hide\n",
    "# g['date'] = g['date'].astype('datetime64[ns]')"
   ]
  },
  {
   "cell_type": "code",
   "execution_count": 34,
   "id": "sophisticated-supervisor",
   "metadata": {
    "execution": {
     "iopub.execute_input": "2022-02-22T00:30:21.557543Z",
     "iopub.status.busy": "2022-02-22T00:30:21.556943Z",
     "iopub.status.idle": "2022-02-22T00:30:21.559617Z",
     "shell.execute_reply": "2022-02-22T00:30:21.560199Z"
    },
    "papermill": {
     "duration": 0.041627,
     "end_time": "2022-02-22T00:30:21.560348",
     "exception": false,
     "start_time": "2022-02-22T00:30:21.518721",
     "status": "completed"
    },
    "tags": []
   },
   "outputs": [],
   "source": [
    "#hide\n",
    "# g['date'] = g.date.dt.dayofyear"
   ]
  },
  {
   "cell_type": "code",
   "execution_count": 35,
   "id": "inside-dubai",
   "metadata": {
    "execution": {
     "iopub.execute_input": "2022-02-22T00:30:21.634394Z",
     "iopub.status.busy": "2022-02-22T00:30:21.633358Z",
     "iopub.status.idle": "2022-02-22T00:30:21.638164Z",
     "shell.execute_reply": "2022-02-22T00:30:21.638749Z"
    },
    "papermill": {
     "duration": 0.044551,
     "end_time": "2022-02-22T00:30:21.638910",
     "exception": false,
     "start_time": "2022-02-22T00:30:21.594359",
     "status": "completed"
    },
    "tags": []
   },
   "outputs": [],
   "source": [
    "#hide\n",
    "# g = g.rename(columns= {'continent':'group','country':'name','cases':'value'})"
   ]
  },
  {
   "cell_type": "code",
   "execution_count": 36,
   "id": "fleet-motorcycle",
   "metadata": {
    "execution": {
     "iopub.execute_input": "2022-02-22T00:30:21.711283Z",
     "iopub.status.busy": "2022-02-22T00:30:21.710691Z",
     "iopub.status.idle": "2022-02-22T00:30:21.713241Z",
     "shell.execute_reply": "2022-02-22T00:30:21.713770Z"
    },
    "papermill": {
     "duration": 0.041134,
     "end_time": "2022-02-22T00:30:21.713904",
     "exception": false,
     "start_time": "2022-02-22T00:30:21.672770",
     "status": "completed"
    },
    "tags": []
   },
   "outputs": [],
   "source": [
    "#hide\n",
    "# cols = ['name','group','day','value']"
   ]
  },
  {
   "cell_type": "code",
   "execution_count": 37,
   "id": "continued-sleeping",
   "metadata": {
    "execution": {
     "iopub.execute_input": "2022-02-22T00:30:21.786120Z",
     "iopub.status.busy": "2022-02-22T00:30:21.785528Z",
     "iopub.status.idle": "2022-02-22T00:30:21.787948Z",
     "shell.execute_reply": "2022-02-22T00:30:21.788515Z"
    },
    "papermill": {
     "duration": 0.040903,
     "end_time": "2022-02-22T00:30:21.788656",
     "exception": false,
     "start_time": "2022-02-22T00:30:21.747753",
     "status": "completed"
    },
    "tags": []
   },
   "outputs": [],
   "source": [
    "#hide\n",
    "# g.rename(columns= {'date':'day'},inplace = True)"
   ]
  },
  {
   "cell_type": "code",
   "execution_count": 38,
   "id": "major-fight",
   "metadata": {
    "execution": {
     "iopub.execute_input": "2022-02-22T00:30:21.862089Z",
     "iopub.status.busy": "2022-02-22T00:30:21.861401Z",
     "iopub.status.idle": "2022-02-22T00:30:21.865541Z",
     "shell.execute_reply": "2022-02-22T00:30:21.865094Z"
    },
    "papermill": {
     "duration": 0.043109,
     "end_time": "2022-02-22T00:30:21.865661",
     "exception": false,
     "start_time": "2022-02-22T00:30:21.822552",
     "status": "completed"
    },
    "tags": []
   },
   "outputs": [],
   "source": [
    "#hide\n",
    "# g = g[cols]"
   ]
  },
  {
   "cell_type": "code",
   "execution_count": 39,
   "id": "structured-mobile",
   "metadata": {
    "execution": {
     "iopub.execute_input": "2022-02-22T00:30:21.940980Z",
     "iopub.status.busy": "2022-02-22T00:30:21.939929Z",
     "iopub.status.idle": "2022-02-22T00:30:21.942075Z",
     "shell.execute_reply": "2022-02-22T00:30:21.942683Z"
    },
    "papermill": {
     "duration": 0.04256,
     "end_time": "2022-02-22T00:30:21.942825",
     "exception": false,
     "start_time": "2022-02-22T00:30:21.900265",
     "status": "completed"
    },
    "tags": []
   },
   "outputs": [],
   "source": [
    "# #hide\n",
    "# g = g[g.group.notna()]"
   ]
  },
  {
   "cell_type": "code",
   "execution_count": 40,
   "id": "determined-closing",
   "metadata": {
    "execution": {
     "iopub.execute_input": "2022-02-22T00:30:22.015100Z",
     "iopub.status.busy": "2022-02-22T00:30:22.014495Z",
     "iopub.status.idle": "2022-02-22T00:30:22.017875Z",
     "shell.execute_reply": "2022-02-22T00:30:22.017431Z"
    },
    "papermill": {
     "duration": 0.041096,
     "end_time": "2022-02-22T00:30:22.017993",
     "exception": false,
     "start_time": "2022-02-22T00:30:21.976897",
     "status": "completed"
    },
    "tags": []
   },
   "outputs": [],
   "source": [
    "# #hide\n",
    "# colors = dict(zip(\n",
    "#     [\"Oceania\", \"Europe\", \"Asia\", \"South America\", \"Middle East\", \"North America\", \"Africa\"],\n",
    "#     [\"#adb0ff\", \"#ffb3ff\", \"#90d595\", \"#e48381\", \"#aafbff\", \"#f7bb5f\", \"#eafb50\"]\n",
    "# ))\n",
    "# group_lk = g.set_index('name')['group'].to_dict()"
   ]
  },
  {
   "cell_type": "code",
   "execution_count": null,
   "id": "gross-drinking",
   "metadata": {
    "papermill": {
     "duration": 0.034262,
     "end_time": "2022-02-22T00:30:22.086068",
     "exception": false,
     "start_time": "2022-02-22T00:30:22.051806",
     "status": "completed"
    },
    "tags": []
   },
   "outputs": [],
   "source": []
  },
  {
   "cell_type": "code",
   "execution_count": 41,
   "id": "subject-macintosh",
   "metadata": {
    "execution": {
     "iopub.execute_input": "2022-02-22T00:30:22.162015Z",
     "iopub.status.busy": "2022-02-22T00:30:22.160949Z",
     "iopub.status.idle": "2022-02-22T00:30:22.166019Z",
     "shell.execute_reply": "2022-02-22T00:30:22.166461Z"
    },
    "papermill": {
     "duration": 0.046001,
     "end_time": "2022-02-22T00:30:22.166601",
     "exception": false,
     "start_time": "2022-02-22T00:30:22.120600",
     "status": "completed"
    },
    "tags": []
   },
   "outputs": [],
   "source": [
    "# #hide\n",
    "# fig, ax = plt.subplots(figsize=(15, 8))\n",
    "\n",
    "# def draw_barchart(current_day):\n",
    "#     dff = g[g['day'].eq(current_day)].sort_values(by='value', ascending=True).tail(10)\n",
    "#     ax.clear()\n",
    "#     ax.barh(dff['name'], dff['value'], color=[colors[group_lk[x]] for x in dff['name']])\n",
    "#     dx = dff['value'].max() / 200\n",
    "    \n",
    "#     for i, (value, name) in enumerate(zip(dff['value'], dff['name'])):\n",
    "#         ax.text(value-dx, i,     name,           size=14, weight=600, ha='right', va='bottom')\n",
    "#         ax.text(value-dx, i-.25, group_lk[name], size=10, color='#444444', ha='right', va='baseline')\n",
    "#         ax.text(value+dx, i,     f'{value:,.0f}',  size=14, ha='left',  va='center')\n",
    "#     ax.text(1, 0.4, current_day, transform=ax.transAxes, color='#777777', size=46, ha='right', weight=800)\n",
    "#     ax.text(0, 1.06, 'Population (thousands)', transform=ax.transAxes, size=12, color='#777777')\n",
    "#     ax.xaxis.set_major_formatter(ticker.StrMethodFormatter('{x:,.0f}'))\n",
    "#     ax.xaxis.set_ticks_position('top')\n",
    "#     ax.tick_params(axis='x', colors='#777777', labelsize=12)\n",
    "#     ax.set_yticks([])\n",
    "#     ax.margins(0, 0.01)\n",
    "#     ax.grid(which='major', axis='x', linestyle='-')\n",
    "#     ax.set_axisbelow(True)\n",
    "    \n",
    "#     ax.text(0, 1.15, 'Coronavirus',\n",
    "#             transform=ax.transAxes, size=24, weight=600, ha='left', va='top')\n",
    "# #     ax.text(1, 0, 'by @pratapvardhan; credit @jburnmurdoch', transform=ax.transAxes, color='#777777', ha='right',\n",
    "# #             bbox=dict(facecolor='white', alpha=0.8, edgecolor='white'))\n",
    "#     plt.box(False)"
   ]
  },
  {
   "cell_type": "code",
   "execution_count": 42,
   "id": "sexual-wages",
   "metadata": {
    "execution": {
     "iopub.execute_input": "2022-02-22T00:30:22.238942Z",
     "iopub.status.busy": "2022-02-22T00:30:22.238336Z",
     "iopub.status.idle": "2022-02-22T00:30:22.240911Z",
     "shell.execute_reply": "2022-02-22T00:30:22.241383Z"
    },
    "papermill": {
     "duration": 0.040784,
     "end_time": "2022-02-22T00:30:22.241523",
     "exception": false,
     "start_time": "2022-02-22T00:30:22.200739",
     "status": "completed"
    },
    "tags": []
   },
   "outputs": [],
   "source": [
    "# #hide_input\n",
    "# fig, ax = plt.subplots(figsize=(15, 8))\n",
    "# animator = animation.FuncAnimation(fig, draw_barchart, frames=range(g.day.values.min(), g.day.values.max()))\n",
    "# HTML(animator.to_jshtml())\n",
    "# # or use animator.to_html5_video() or animator.save() "
   ]
  },
  {
   "cell_type": "code",
   "execution_count": null,
   "id": "australian-container",
   "metadata": {
    "papermill": {
     "duration": 0.033599,
     "end_time": "2022-02-22T00:30:22.309162",
     "exception": false,
     "start_time": "2022-02-22T00:30:22.275563",
     "status": "completed"
    },
    "tags": []
   },
   "outputs": [],
   "source": []
  },
  {
   "cell_type": "code",
   "execution_count": null,
   "id": "mediterranean-pontiac",
   "metadata": {
    "papermill": {
     "duration": 0.03349,
     "end_time": "2022-02-22T00:30:22.377068",
     "exception": false,
     "start_time": "2022-02-22T00:30:22.343578",
     "status": "completed"
    },
    "tags": []
   },
   "outputs": [],
   "source": []
  },
  {
   "cell_type": "code",
   "execution_count": null,
   "id": "aging-legislature",
   "metadata": {
    "papermill": {
     "duration": 0.03314,
     "end_time": "2022-02-22T00:30:22.443685",
     "exception": false,
     "start_time": "2022-02-22T00:30:22.410545",
     "status": "completed"
    },
    "tags": []
   },
   "outputs": [],
   "source": []
  }
 ],
 "metadata": {
  "kernelspec": {
   "display_name": "Python 3",
   "language": "python",
   "name": "python3"
  },
  "language_info": {
   "codemirror_mode": {
    "name": "ipython",
    "version": 3
   },
   "file_extension": ".py",
   "mimetype": "text/x-python",
   "name": "python",
   "nbconvert_exporter": "python",
   "pygments_lexer": "ipython3",
   "version": "3.6.15"
  },
  "papermill": {
   "duration": 7.163524,
   "end_time": "2022-02-22T00:30:22.796981",
   "environment_variables": {},
   "exception": null,
   "input_path": "2020-03-21-covid19exp.ipynb",
   "output_path": "2020-03-21-covid19exp.ipynb",
   "parameters": {},
   "start_time": "2022-02-22T00:30:15.633457",
   "version": "2.0.0"
  }
 },
 "nbformat": 4,
 "nbformat_minor": 5
}