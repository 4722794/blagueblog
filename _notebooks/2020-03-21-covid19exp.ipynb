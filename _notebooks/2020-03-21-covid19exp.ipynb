{
 "cells": [
  {
   "cell_type": "markdown",
   "id": "muslim-click",
   "metadata": {
    "papermill": {
     "duration": 0.0453,
     "end_time": "2022-10-08T12:19:00.390305",
     "exception": false,
     "start_time": "2022-10-08T12:19:00.345005",
     "status": "completed"
    },
    "tags": []
   },
   "source": [
    "# COVID-19 Case Race\n",
    "> A race chart to see rising cases around the world\n",
    "\n",
    "- author: Hargun Oberoi\n",
    "- image: images/covid-overview.png\n",
    "- hide: false\n",
    "- badges: false"
   ]
  },
  {
   "cell_type": "code",
   "execution_count": 1,
   "id": "proof-material",
   "metadata": {
    "execution": {
     "iopub.execute_input": "2022-10-08T12:19:00.480156Z",
     "iopub.status.busy": "2022-10-08T12:19:00.479311Z",
     "iopub.status.idle": "2022-10-08T12:19:00.899281Z",
     "shell.execute_reply": "2022-10-08T12:19:00.898249Z"
    },
    "papermill": {
     "duration": 0.469801,
     "end_time": "2022-10-08T12:19:00.899494",
     "exception": false,
     "start_time": "2022-10-08T12:19:00.429693",
     "status": "completed"
    },
    "tags": []
   },
   "outputs": [],
   "source": [
    "#hide\n",
    "import numpy as np\n",
    "import pandas as pd\n",
    "from jinja2 import Template\n",
    "from IPython.display import HTML"
   ]
  },
  {
   "cell_type": "code",
   "execution_count": 2,
   "id": "developed-terminology",
   "metadata": {
    "execution": {
     "iopub.execute_input": "2022-10-08T12:19:00.985223Z",
     "iopub.status.busy": "2022-10-08T12:19:00.984416Z",
     "iopub.status.idle": "2022-10-08T12:19:00.988079Z",
     "shell.execute_reply": "2022-10-08T12:19:00.987469Z"
    },
    "papermill": {
     "duration": 0.048532,
     "end_time": "2022-10-08T12:19:00.988214",
     "exception": false,
     "start_time": "2022-10-08T12:19:00.939682",
     "status": "completed"
    },
    "tags": []
   },
   "outputs": [],
   "source": [
    "#hide\n",
    "\n",
    "# FETCH\n",
    "base_url = 'https://raw.githubusercontent.com/pratapvardhan/notebooks/master/covid19/'\n",
    "paths = {\n",
    "    'mapping': base_url + 'mapping_countries.csv',\n",
    "    'overview': base_url + 'overview.tpl'\n",
    "}"
   ]
  },
  {
   "cell_type": "code",
   "execution_count": 3,
   "id": "dynamic-saver",
   "metadata": {
    "execution": {
     "iopub.execute_input": "2022-10-08T12:19:01.079053Z",
     "iopub.status.busy": "2022-10-08T12:19:01.078095Z",
     "iopub.status.idle": "2022-10-08T12:19:01.082716Z",
     "shell.execute_reply": "2022-10-08T12:19:01.082033Z"
    },
    "papermill": {
     "duration": 0.056117,
     "end_time": "2022-10-08T12:19:01.082881",
     "exception": false,
     "start_time": "2022-10-08T12:19:01.026764",
     "status": "completed"
    },
    "tags": []
   },
   "outputs": [
    {
     "data": {
      "text/plain": [
       "'https://raw.githubusercontent.com/pratapvardhan/notebooks/master/covid19/mapping_countries.csv'"
      ]
     },
     "execution_count": 3,
     "metadata": {},
     "output_type": "execute_result"
    }
   ],
   "source": [
    "#hide\n",
    "paths['mapping']"
   ]
  },
  {
   "cell_type": "code",
   "execution_count": 4,
   "id": "urban-software",
   "metadata": {
    "execution": {
     "iopub.execute_input": "2022-10-08T12:19:01.168985Z",
     "iopub.status.busy": "2022-10-08T12:19:01.168163Z",
     "iopub.status.idle": "2022-10-08T12:19:01.171319Z",
     "shell.execute_reply": "2022-10-08T12:19:01.170661Z"
    },
    "papermill": {
     "duration": 0.048545,
     "end_time": "2022-10-08T12:19:01.171509",
     "exception": false,
     "start_time": "2022-10-08T12:19:01.122964",
     "status": "completed"
    },
    "tags": []
   },
   "outputs": [],
   "source": [
    "#hide\n",
    "def get_mappings(url):\n",
    "    df = pd.read_csv(url)\n",
    "    return {\n",
    "        'df': df,\n",
    "        'replace.country': dict(df.dropna(subset=['Name']).set_index('Country')['Name']),\n",
    "        'map.continent': dict(df.set_index('Name')['Continent'])\n",
    "    }"
   ]
  },
  {
   "cell_type": "code",
   "execution_count": 5,
   "id": "intimate-machinery",
   "metadata": {
    "execution": {
     "iopub.execute_input": "2022-10-08T12:19:01.263678Z",
     "iopub.status.busy": "2022-10-08T12:19:01.262557Z",
     "iopub.status.idle": "2022-10-08T12:19:01.301662Z",
     "shell.execute_reply": "2022-10-08T12:19:01.302332Z"
    },
    "papermill": {
     "duration": 0.085877,
     "end_time": "2022-10-08T12:19:01.302513",
     "exception": false,
     "start_time": "2022-10-08T12:19:01.216636",
     "status": "completed"
    },
    "tags": []
   },
   "outputs": [],
   "source": [
    "#hide\n",
    "mapping = get_mappings(paths['mapping'])"
   ]
  },
  {
   "cell_type": "code",
   "execution_count": 6,
   "id": "certified-tactics",
   "metadata": {
    "execution": {
     "iopub.execute_input": "2022-10-08T12:19:01.390229Z",
     "iopub.status.busy": "2022-10-08T12:19:01.389496Z",
     "iopub.status.idle": "2022-10-08T12:19:01.392781Z",
     "shell.execute_reply": "2022-10-08T12:19:01.392182Z"
    },
    "papermill": {
     "duration": 0.04985,
     "end_time": "2022-10-08T12:19:01.392915",
     "exception": false,
     "start_time": "2022-10-08T12:19:01.343065",
     "status": "completed"
    },
    "tags": []
   },
   "outputs": [],
   "source": [
    "#hide\n",
    "def get_template(path):\n",
    "    from urllib.parse import urlparse\n",
    "    if bool(urlparse(path).netloc):\n",
    "        from urllib.request import urlopen\n",
    "        return urlopen(path).read().decode('utf8')\n",
    "    return open(path).read()"
   ]
  },
  {
   "cell_type": "code",
   "execution_count": 7,
   "id": "realistic-blast",
   "metadata": {
    "execution": {
     "iopub.execute_input": "2022-10-08T12:19:01.478722Z",
     "iopub.status.busy": "2022-10-08T12:19:01.477920Z",
     "iopub.status.idle": "2022-10-08T12:19:01.481034Z",
     "shell.execute_reply": "2022-10-08T12:19:01.480286Z"
    },
    "papermill": {
     "duration": 0.048741,
     "end_time": "2022-10-08T12:19:01.481185",
     "exception": false,
     "start_time": "2022-10-08T12:19:01.432444",
     "status": "completed"
    },
    "tags": []
   },
   "outputs": [],
   "source": [
    "#hide\n",
    "def get_frame(name):\n",
    "    url = (\n",
    "        'https://raw.githubusercontent.com/CSSEGISandData/COVID-19/master/csse_covid_19_data/'\n",
    "        f'csse_covid_19_time_series/time_series_covid19_{name}_global.csv')\n",
    "    df = pd.read_csv(url)\n",
    "    # rename countries\n",
    "    df['Country/Region'] = df['Country/Region'].replace(mapping['replace.country'])\n",
    "    return df"
   ]
  },
  {
   "cell_type": "code",
   "execution_count": 8,
   "id": "affiliated-characterization",
   "metadata": {
    "execution": {
     "iopub.execute_input": "2022-10-08T12:19:01.566690Z",
     "iopub.status.busy": "2022-10-08T12:19:01.565519Z",
     "iopub.status.idle": "2022-10-08T12:19:01.574161Z",
     "shell.execute_reply": "2022-10-08T12:19:01.573481Z"
    },
    "papermill": {
     "duration": 0.054678,
     "end_time": "2022-10-08T12:19:01.574305",
     "exception": false,
     "start_time": "2022-10-08T12:19:01.519627",
     "status": "completed"
    },
    "tags": []
   },
   "outputs": [],
   "source": [
    "#hide\n",
    "def get_dates(df):\n",
    "    dt_cols = df.columns[~df.columns.isin(['Province/State', 'Country/Region', 'Lat', 'Long'])]\n",
    "    LAST_DATE_I = -1\n",
    "    # sometimes last column may be empty, then go backwards\n",
    "    for i in range(-1, -len(dt_cols), -1):\n",
    "        if not df[dt_cols[i]].fillna(0).eq(0).all():\n",
    "            LAST_DATE_I = i\n",
    "            break\n",
    "    return LAST_DATE_I, dt_cols"
   ]
  },
  {
   "cell_type": "code",
   "execution_count": 9,
   "id": "recent-optimization",
   "metadata": {
    "execution": {
     "iopub.execute_input": "2022-10-08T12:19:01.660157Z",
     "iopub.status.busy": "2022-10-08T12:19:01.659390Z",
     "iopub.status.idle": "2022-10-08T12:19:02.163612Z",
     "shell.execute_reply": "2022-10-08T12:19:02.162907Z"
    },
    "papermill": {
     "duration": 0.550266,
     "end_time": "2022-10-08T12:19:02.163773",
     "exception": false,
     "start_time": "2022-10-08T12:19:01.613507",
     "status": "completed"
    },
    "tags": []
   },
   "outputs": [],
   "source": [
    "#hide\n",
    "COL_REGION = 'Country/Region'\n",
    "# Confirmed, Recovered, Deaths\n",
    "df = get_frame('confirmed')\n",
    "# dft_: timeseries, dfc_: today country agg\n",
    "dft_cases = df\n",
    "dft_deaths = get_frame('deaths')\n",
    "dft_recovered = get_frame('recovered')\n",
    "LAST_DATE_I, dt_cols = get_dates(df)"
   ]
  },
  {
   "cell_type": "code",
   "execution_count": 10,
   "id": "absolute-copper",
   "metadata": {
    "execution": {
     "iopub.execute_input": "2022-10-08T12:19:02.249961Z",
     "iopub.status.busy": "2022-10-08T12:19:02.249171Z",
     "iopub.status.idle": "2022-10-08T12:19:02.254154Z",
     "shell.execute_reply": "2022-10-08T12:19:02.253556Z"
    },
    "papermill": {
     "duration": 0.051141,
     "end_time": "2022-10-08T12:19:02.254281",
     "exception": false,
     "start_time": "2022-10-08T12:19:02.203140",
     "status": "completed"
    },
    "tags": []
   },
   "outputs": [],
   "source": [
    "#hide\n",
    "LAST_DATE_I, dt_cols = get_dates(df)\n",
    "dt_today =dt_cols[LAST_DATE_I]\n",
    "# dt_5day = dt_cols[LAST_DATE_I - 5]\n",
    "dt_yday = dt_cols[LAST_DATE_I - 1]"
   ]
  },
  {
   "cell_type": "code",
   "execution_count": 11,
   "id": "restricted-sheriff",
   "metadata": {
    "execution": {
     "iopub.execute_input": "2022-10-08T12:19:02.344956Z",
     "iopub.status.busy": "2022-10-08T12:19:02.342629Z",
     "iopub.status.idle": "2022-10-08T12:19:02.351047Z",
     "shell.execute_reply": "2022-10-08T12:19:02.351607Z"
    },
    "papermill": {
     "duration": 0.059528,
     "end_time": "2022-10-08T12:19:02.351761",
     "exception": false,
     "start_time": "2022-10-08T12:19:02.292233",
     "status": "completed"
    },
    "tags": []
   },
   "outputs": [],
   "source": [
    "#hide\n",
    "dfc_cases = dft_cases.groupby(COL_REGION)[dt_today].sum()\n",
    "dfc_deaths = dft_deaths.groupby(COL_REGION)[dt_today].sum()\n",
    "# dfp_cases = dft_cases.groupby(COL_REGION)[dt_5day].sum()\n",
    "# dfp_deaths = dft_deaths.groupby(COL_REGION)[dt_5day].sum()\n",
    "dfp_cases = dft_cases.groupby(COL_REGION)[dt_yday].sum()\n",
    "dfp_deaths = dft_deaths.groupby(COL_REGION)[dt_yday].sum()"
   ]
  },
  {
   "cell_type": "code",
   "execution_count": 12,
   "id": "deluxe-hepatitis",
   "metadata": {
    "execution": {
     "iopub.execute_input": "2022-10-08T12:19:02.436759Z",
     "iopub.status.busy": "2022-10-08T12:19:02.435970Z",
     "iopub.status.idle": "2022-10-08T12:19:02.442825Z",
     "shell.execute_reply": "2022-10-08T12:19:02.442036Z"
    },
    "papermill": {
     "duration": 0.052877,
     "end_time": "2022-10-08T12:19:02.442970",
     "exception": false,
     "start_time": "2022-10-08T12:19:02.390093",
     "status": "completed"
    },
    "tags": []
   },
   "outputs": [],
   "source": [
    "#hide\n",
    "df_table = (pd.DataFrame(dict(Cases = dfc_cases, Deaths = dfc_deaths, PCases = dfp_cases, PDeaths = dfp_deaths))\n",
    "            .sort_values(by = ['Cases','Deaths'], ascending = [False, False])\n",
    "            .reset_index())"
   ]
  },
  {
   "cell_type": "code",
   "execution_count": 13,
   "id": "educational-chancellor",
   "metadata": {
    "execution": {
     "iopub.execute_input": "2022-10-08T12:19:02.543815Z",
     "iopub.status.busy": "2022-10-08T12:19:02.542586Z",
     "iopub.status.idle": "2022-10-08T12:19:02.553822Z",
     "shell.execute_reply": "2022-10-08T12:19:02.552993Z"
    },
    "papermill": {
     "duration": 0.073176,
     "end_time": "2022-10-08T12:19:02.554027",
     "exception": false,
     "start_time": "2022-10-08T12:19:02.480851",
     "status": "completed"
    },
    "tags": []
   },
   "outputs": [
    {
     "data": {
      "text/html": [
       "<div>\n",
       "<style scoped>\n",
       "    .dataframe tbody tr th:only-of-type {\n",
       "        vertical-align: middle;\n",
       "    }\n",
       "\n",
       "    .dataframe tbody tr th {\n",
       "        vertical-align: top;\n",
       "    }\n",
       "\n",
       "    .dataframe thead th {\n",
       "        text-align: right;\n",
       "    }\n",
       "</style>\n",
       "<table border=\"1\" class=\"dataframe\">\n",
       "  <thead>\n",
       "    <tr style=\"text-align: right;\">\n",
       "      <th></th>\n",
       "      <th>Country/Region</th>\n",
       "      <th>Cases</th>\n",
       "      <th>Deaths</th>\n",
       "      <th>PCases</th>\n",
       "      <th>PDeaths</th>\n",
       "      <th>Cases (+)</th>\n",
       "      <th>Deaths (+)</th>\n",
       "      <th>Fatality Rate</th>\n",
       "      <th>Continent</th>\n",
       "    </tr>\n",
       "  </thead>\n",
       "  <tbody>\n",
       "    <tr>\n",
       "      <th>0</th>\n",
       "      <td>US</td>\n",
       "      <td>96686904</td>\n",
       "      <td>1062513</td>\n",
       "      <td>96613460</td>\n",
       "      <td>1062130</td>\n",
       "      <td>73444</td>\n",
       "      <td>383</td>\n",
       "      <td>1.10</td>\n",
       "      <td>North America</td>\n",
       "    </tr>\n",
       "    <tr>\n",
       "      <th>1</th>\n",
       "      <td>India</td>\n",
       "      <td>44609257</td>\n",
       "      <td>528778</td>\n",
       "      <td>44606460</td>\n",
       "      <td>528754</td>\n",
       "      <td>2797</td>\n",
       "      <td>24</td>\n",
       "      <td>1.19</td>\n",
       "      <td>Asia</td>\n",
       "    </tr>\n",
       "    <tr>\n",
       "      <th>2</th>\n",
       "      <td>France</td>\n",
       "      <td>35983605</td>\n",
       "      <td>156462</td>\n",
       "      <td>35922441</td>\n",
       "      <td>156409</td>\n",
       "      <td>61164</td>\n",
       "      <td>53</td>\n",
       "      <td>0.43</td>\n",
       "      <td>Europe</td>\n",
       "    </tr>\n",
       "    <tr>\n",
       "      <th>3</th>\n",
       "      <td>Brazil</td>\n",
       "      <td>34707233</td>\n",
       "      <td>686706</td>\n",
       "      <td>34707233</td>\n",
       "      <td>686706</td>\n",
       "      <td>0</td>\n",
       "      <td>0</td>\n",
       "      <td>1.98</td>\n",
       "      <td>South America</td>\n",
       "    </tr>\n",
       "    <tr>\n",
       "      <th>4</th>\n",
       "      <td>Germany</td>\n",
       "      <td>33948632</td>\n",
       "      <td>150535</td>\n",
       "      <td>33826367</td>\n",
       "      <td>150406</td>\n",
       "      <td>122265</td>\n",
       "      <td>129</td>\n",
       "      <td>0.44</td>\n",
       "      <td>Europe</td>\n",
       "    </tr>\n",
       "  </tbody>\n",
       "</table>\n",
       "</div>"
      ],
      "text/plain": [
       "  Country/Region     Cases   Deaths    PCases  PDeaths  Cases (+)  Deaths (+)  \\\n",
       "0             US  96686904  1062513  96613460  1062130      73444         383   \n",
       "1          India  44609257   528778  44606460   528754       2797          24   \n",
       "2         France  35983605   156462  35922441   156409      61164          53   \n",
       "3         Brazil  34707233   686706  34707233   686706          0           0   \n",
       "4        Germany  33948632   150535  33826367   150406     122265         129   \n",
       "\n",
       "   Fatality Rate      Continent  \n",
       "0           1.10  North America  \n",
       "1           1.19           Asia  \n",
       "2           0.43         Europe  \n",
       "3           1.98  South America  \n",
       "4           0.44         Europe  "
      ]
     },
     "execution_count": 13,
     "metadata": {},
     "output_type": "execute_result"
    }
   ],
   "source": [
    "#hide\n",
    "for c in 'Cases, Deaths'.split(', '):\n",
    "    df_table[f'{c} (+)'] = (df_table[c] - df_table[f'P{c}']).clip(0)\n",
    "    #Clip ça veut dire, les chiffres negatif sont interdit\n",
    "df_table['Fatality Rate'] = (100* df_table['Deaths']/ df_table['Cases']).round(2)\n",
    "df_table['Continent'] = df_table['Country/Region'].map(mapping['map.continent'])\n",
    "df_table.head(5)"
   ]
  },
  {
   "cell_type": "code",
   "execution_count": 14,
   "id": "aboriginal-bulgaria",
   "metadata": {
    "execution": {
     "iopub.execute_input": "2022-10-08T12:19:02.648937Z",
     "iopub.status.busy": "2022-10-08T12:19:02.648125Z",
     "iopub.status.idle": "2022-10-08T12:19:02.651221Z",
     "shell.execute_reply": "2022-10-08T12:19:02.652089Z"
    },
    "papermill": {
     "duration": 0.053601,
     "end_time": "2022-10-08T12:19:02.652287",
     "exception": false,
     "start_time": "2022-10-08T12:19:02.598686",
     "status": "completed"
    },
    "tags": []
   },
   "outputs": [],
   "source": [
    "#hide\n",
    "#delete problematic countries from table\n",
    "df_table = df_table[~df_table['Country/Region'].isin(['Cape Verde', 'Cruise Ship', 'Kosovo'])]"
   ]
  },
  {
   "cell_type": "code",
   "execution_count": 15,
   "id": "fantastic-effect",
   "metadata": {
    "execution": {
     "iopub.execute_input": "2022-10-08T12:19:02.745260Z",
     "iopub.status.busy": "2022-10-08T12:19:02.744311Z",
     "iopub.status.idle": "2022-10-08T12:19:02.769135Z",
     "shell.execute_reply": "2022-10-08T12:19:02.769799Z"
    },
    "papermill": {
     "duration": 0.074395,
     "end_time": "2022-10-08T12:19:02.769949",
     "exception": false,
     "start_time": "2022-10-08T12:19:02.695554",
     "status": "completed"
    },
    "tags": []
   },
   "outputs": [
    {
     "data": {
      "text/html": [
       "<div>\n",
       "<style scoped>\n",
       "    .dataframe tbody tr th:only-of-type {\n",
       "        vertical-align: middle;\n",
       "    }\n",
       "\n",
       "    .dataframe tbody tr th {\n",
       "        vertical-align: top;\n",
       "    }\n",
       "\n",
       "    .dataframe thead th {\n",
       "        text-align: right;\n",
       "    }\n",
       "</style>\n",
       "<table border=\"1\" class=\"dataframe\">\n",
       "  <thead>\n",
       "    <tr style=\"text-align: right;\">\n",
       "      <th></th>\n",
       "      <th>Country/Region</th>\n",
       "      <th>Cases</th>\n",
       "      <th>Deaths</th>\n",
       "      <th>PCases</th>\n",
       "      <th>PDeaths</th>\n",
       "      <th>Cases (+)</th>\n",
       "      <th>Deaths (+)</th>\n",
       "      <th>Fatality Rate</th>\n",
       "      <th>Continent</th>\n",
       "    </tr>\n",
       "  </thead>\n",
       "  <tbody>\n",
       "    <tr>\n",
       "      <th>0</th>\n",
       "      <td>US</td>\n",
       "      <td>96686904</td>\n",
       "      <td>1062513</td>\n",
       "      <td>96613460</td>\n",
       "      <td>1062130</td>\n",
       "      <td>73444</td>\n",
       "      <td>383</td>\n",
       "      <td>1.1</td>\n",
       "      <td>North America</td>\n",
       "    </tr>\n",
       "    <tr>\n",
       "      <th>1</th>\n",
       "      <td>India</td>\n",
       "      <td>44609257</td>\n",
       "      <td>528778</td>\n",
       "      <td>44606460</td>\n",
       "      <td>528754</td>\n",
       "      <td>2797</td>\n",
       "      <td>24</td>\n",
       "      <td>1.2</td>\n",
       "      <td>Asia</td>\n",
       "    </tr>\n",
       "    <tr>\n",
       "      <th>2</th>\n",
       "      <td>France</td>\n",
       "      <td>35983605</td>\n",
       "      <td>156462</td>\n",
       "      <td>35922441</td>\n",
       "      <td>156409</td>\n",
       "      <td>61164</td>\n",
       "      <td>53</td>\n",
       "      <td>0.4</td>\n",
       "      <td>Europe</td>\n",
       "    </tr>\n",
       "    <tr>\n",
       "      <th>3</th>\n",
       "      <td>Brazil</td>\n",
       "      <td>34707233</td>\n",
       "      <td>686706</td>\n",
       "      <td>34707233</td>\n",
       "      <td>686706</td>\n",
       "      <td>0</td>\n",
       "      <td>0</td>\n",
       "      <td>2.0</td>\n",
       "      <td>South America</td>\n",
       "    </tr>\n",
       "    <tr>\n",
       "      <th>4</th>\n",
       "      <td>Germany</td>\n",
       "      <td>33948632</td>\n",
       "      <td>150535</td>\n",
       "      <td>33826367</td>\n",
       "      <td>150406</td>\n",
       "      <td>122265</td>\n",
       "      <td>129</td>\n",
       "      <td>0.4</td>\n",
       "      <td>Europe</td>\n",
       "    </tr>\n",
       "  </tbody>\n",
       "</table>\n",
       "</div>"
      ],
      "text/plain": [
       "  Country/Region     Cases   Deaths    PCases  PDeaths  Cases (+)  Deaths (+)  \\\n",
       "0             US  96686904  1062513  96613460  1062130      73444         383   \n",
       "1          India  44609257   528778  44606460   528754       2797          24   \n",
       "2         France  35983605   156462  35922441   156409      61164          53   \n",
       "3         Brazil  34707233   686706  34707233   686706          0           0   \n",
       "4        Germany  33948632   150535  33826367   150406     122265         129   \n",
       "\n",
       "   Fatality Rate      Continent  \n",
       "0            1.1  North America  \n",
       "1            1.2           Asia  \n",
       "2            0.4         Europe  \n",
       "3            2.0  South America  \n",
       "4            0.4         Europe  "
      ]
     },
     "execution_count": 15,
     "metadata": {},
     "output_type": "execute_result"
    }
   ],
   "source": [
    "#hide\n",
    "df_table = (pd.DataFrame(dict(Cases=dfc_cases, Deaths=dfc_deaths, PCases=dfp_cases, PDeaths=dfp_deaths))\n",
    "             .sort_values(by=['Cases', 'Deaths'], ascending=[False, False])\n",
    "             .reset_index())\n",
    "df_table.rename(columns={'index': 'Country/Region'}, inplace=True)\n",
    "for c in 'Cases, Deaths'.split(', '):\n",
    "    df_table[f'{c} (+)'] = (df_table[c] - df_table[f'P{c}']).clip(0)  # DATA BUG\n",
    "df_table['Fatality Rate'] = (100 * df_table['Deaths'] / df_table['Cases']).round(1)\n",
    "df_table['Continent'] = df_table['Country/Region'].map(mapping['map.continent'])\n",
    "df_table.head(5)"
   ]
  },
  {
   "cell_type": "code",
   "execution_count": 16,
   "id": "fewer-occasion",
   "metadata": {
    "execution": {
     "iopub.execute_input": "2022-10-08T12:19:02.860647Z",
     "iopub.status.busy": "2022-10-08T12:19:02.859784Z",
     "iopub.status.idle": "2022-10-08T12:19:02.862891Z",
     "shell.execute_reply": "2022-10-08T12:19:02.863591Z"
    },
    "papermill": {
     "duration": 0.051925,
     "end_time": "2022-10-08T12:19:02.863776",
     "exception": false,
     "start_time": "2022-10-08T12:19:02.811851",
     "status": "completed"
    },
    "tags": []
   },
   "outputs": [],
   "source": [
    "#hide\n",
    "#delete problematic countries from table\n",
    "df_table = df_table[~df_table['Country/Region'].isin(['Cape Verde', 'Cruise Ship', 'Kosovo'])]"
   ]
  },
  {
   "cell_type": "code",
   "execution_count": 17,
   "id": "related-center",
   "metadata": {
    "execution": {
     "iopub.execute_input": "2022-10-08T12:19:02.971220Z",
     "iopub.status.busy": "2022-10-08T12:19:02.970362Z",
     "iopub.status.idle": "2022-10-08T12:19:02.973591Z",
     "shell.execute_reply": "2022-10-08T12:19:02.972784Z"
    },
    "papermill": {
     "duration": 0.067634,
     "end_time": "2022-10-08T12:19:02.973737",
     "exception": false,
     "start_time": "2022-10-08T12:19:02.906103",
     "status": "completed"
    },
    "tags": []
   },
   "outputs": [],
   "source": [
    "#hide\n",
    "metrics = [df_table.columns[index] for index in [1,2,5,6]]\n",
    "# s_china = df_table[df_table['Country/Region'].eq('China')][metrics].sum().add_prefix('China ')\n",
    "s_us = df_table[df_table['Country/Region'].eq('US')][metrics].sum().add_prefix('US ')\n",
    "s_eu = df_table[df_table['Continent'].eq('Europe')][metrics].sum().add_prefix('EU ')\n",
    "s_ind = df_table[df_table['Country/Region'].eq('India')][metrics].sum().add_prefix('India ')\n",
    "summary = {'updated': pd.to_datetime(dt_today), 'since': pd.to_datetime(dt_yday)}\n",
    "summary = {'updated': pd.to_datetime(dt_today), 'since': pd.to_datetime(dt_yday)}\n",
    "summary = {**summary, **df_table[metrics].sum(), **s_ind, **s_us, **s_eu}"
   ]
  },
  {
   "cell_type": "code",
   "execution_count": 18,
   "id": "engaging-syndrome",
   "metadata": {
    "execution": {
     "iopub.execute_input": "2022-10-08T12:19:03.066233Z",
     "iopub.status.busy": "2022-10-08T12:19:03.065403Z",
     "iopub.status.idle": "2022-10-08T12:19:03.090975Z",
     "shell.execute_reply": "2022-10-08T12:19:03.089647Z"
    },
    "papermill": {
     "duration": 0.076006,
     "end_time": "2022-10-08T12:19:03.091198",
     "exception": false,
     "start_time": "2022-10-08T12:19:03.015192",
     "status": "completed"
    },
    "tags": []
   },
   "outputs": [],
   "source": [
    "#hide\n",
    "dft_ct_new_cases = dft_cases.groupby(COL_REGION)[dt_cols].sum().diff(axis=1).fillna(0).astype(int)"
   ]
  },
  {
   "cell_type": "code",
   "execution_count": 19,
   "id": "neutral-assignment",
   "metadata": {
    "execution": {
     "iopub.execute_input": "2022-10-08T12:19:03.184627Z",
     "iopub.status.busy": "2022-10-08T12:19:03.183888Z",
     "iopub.status.idle": "2022-10-08T12:19:03.186713Z",
     "shell.execute_reply": "2022-10-08T12:19:03.185939Z"
    },
    "papermill": {
     "duration": 0.053308,
     "end_time": "2022-10-08T12:19:03.186847",
     "exception": false,
     "start_time": "2022-10-08T12:19:03.133539",
     "status": "completed"
    },
    "tags": []
   },
   "outputs": [],
   "source": [
    "#hide\n",
    "everydaycases = dft_ct_new_cases.cumsum(axis=1)"
   ]
  },
  {
   "cell_type": "code",
   "execution_count": 20,
   "id": "parliamentary-calgary",
   "metadata": {
    "execution": {
     "iopub.execute_input": "2022-10-08T12:19:03.274189Z",
     "iopub.status.busy": "2022-10-08T12:19:03.273278Z",
     "iopub.status.idle": "2022-10-08T12:19:04.015339Z",
     "shell.execute_reply": "2022-10-08T12:19:04.016145Z"
    },
    "papermill": {
     "duration": 0.788427,
     "end_time": "2022-10-08T12:19:04.016368",
     "exception": false,
     "start_time": "2022-10-08T12:19:03.227941",
     "status": "completed"
    },
    "tags": []
   },
   "outputs": [],
   "source": [
    "#hide\n",
    "import pandas as pd\n",
    "import matplotlib.pyplot as plt\n",
    "import matplotlib.ticker as ticker\n",
    "import matplotlib.animation as animation\n",
    "from IPython.display import HTML"
   ]
  },
  {
   "cell_type": "code",
   "execution_count": 21,
   "id": "lasting-extraction",
   "metadata": {
    "execution": {
     "iopub.execute_input": "2022-10-08T12:19:04.110062Z",
     "iopub.status.busy": "2022-10-08T12:19:04.108833Z",
     "iopub.status.idle": "2022-10-08T12:19:04.118194Z",
     "shell.execute_reply": "2022-10-08T12:19:04.117434Z"
    },
    "papermill": {
     "duration": 0.059514,
     "end_time": "2022-10-08T12:19:04.118372",
     "exception": false,
     "start_time": "2022-10-08T12:19:04.058858",
     "status": "completed"
    },
    "tags": []
   },
   "outputs": [],
   "source": [
    "#hide\n",
    "t = everydaycases.stack()"
   ]
  },
  {
   "cell_type": "code",
   "execution_count": 22,
   "id": "premier-sleeve",
   "metadata": {
    "execution": {
     "iopub.execute_input": "2022-10-08T12:19:04.210025Z",
     "iopub.status.busy": "2022-10-08T12:19:04.209154Z",
     "iopub.status.idle": "2022-10-08T12:19:04.223860Z",
     "shell.execute_reply": "2022-10-08T12:19:04.224459Z"
    },
    "papermill": {
     "duration": 0.06287,
     "end_time": "2022-10-08T12:19:04.224648",
     "exception": false,
     "start_time": "2022-10-08T12:19:04.161778",
     "status": "completed"
    },
    "tags": []
   },
   "outputs": [],
   "source": [
    "#hide\n",
    "g = t.reset_index(['Country/Region'])"
   ]
  },
  {
   "cell_type": "code",
   "execution_count": 23,
   "id": "distributed-pittsburgh",
   "metadata": {
    "execution": {
     "iopub.execute_input": "2022-10-08T12:19:04.313274Z",
     "iopub.status.busy": "2022-10-08T12:19:04.312436Z",
     "iopub.status.idle": "2022-10-08T12:19:04.315783Z",
     "shell.execute_reply": "2022-10-08T12:19:04.314948Z"
    },
    "papermill": {
     "duration": 0.050509,
     "end_time": "2022-10-08T12:19:04.315944",
     "exception": false,
     "start_time": "2022-10-08T12:19:04.265435",
     "status": "completed"
    },
    "tags": []
   },
   "outputs": [],
   "source": [
    "#hide\n",
    "g.index.name = 'date'"
   ]
  },
  {
   "cell_type": "code",
   "execution_count": 24,
   "id": "naked-donor",
   "metadata": {
    "execution": {
     "iopub.execute_input": "2022-10-08T12:19:04.405406Z",
     "iopub.status.busy": "2022-10-08T12:19:04.404623Z",
     "iopub.status.idle": "2022-10-08T12:19:04.408831Z",
     "shell.execute_reply": "2022-10-08T12:19:04.408209Z"
    },
    "papermill": {
     "duration": 0.050759,
     "end_time": "2022-10-08T12:19:04.408972",
     "exception": false,
     "start_time": "2022-10-08T12:19:04.358213",
     "status": "completed"
    },
    "tags": []
   },
   "outputs": [],
   "source": [
    "# #hide\n",
    "# g = g.reset_index(['date'])"
   ]
  },
  {
   "cell_type": "code",
   "execution_count": 25,
   "id": "incomplete-mustang",
   "metadata": {
    "execution": {
     "iopub.execute_input": "2022-10-08T12:19:04.498815Z",
     "iopub.status.busy": "2022-10-08T12:19:04.497970Z",
     "iopub.status.idle": "2022-10-08T12:19:04.501058Z",
     "shell.execute_reply": "2022-10-08T12:19:04.500350Z"
    },
    "papermill": {
     "duration": 0.048111,
     "end_time": "2022-10-08T12:19:04.501209",
     "exception": false,
     "start_time": "2022-10-08T12:19:04.453098",
     "status": "completed"
    },
    "tags": []
   },
   "outputs": [],
   "source": [
    "#hide\n",
    "# g.head()"
   ]
  },
  {
   "cell_type": "code",
   "execution_count": 26,
   "id": "specific-kruger",
   "metadata": {
    "execution": {
     "iopub.execute_input": "2022-10-08T12:19:04.587045Z",
     "iopub.status.busy": "2022-10-08T12:19:04.586289Z",
     "iopub.status.idle": "2022-10-08T12:19:04.590002Z",
     "shell.execute_reply": "2022-10-08T12:19:04.589356Z"
    },
    "papermill": {
     "duration": 0.048309,
     "end_time": "2022-10-08T12:19:04.590185",
     "exception": false,
     "start_time": "2022-10-08T12:19:04.541876",
     "status": "completed"
    },
    "tags": []
   },
   "outputs": [],
   "source": [
    "#hide\n",
    "# g.columns = ['date','country','cases']"
   ]
  },
  {
   "cell_type": "code",
   "execution_count": 27,
   "id": "tender-conversion",
   "metadata": {
    "execution": {
     "iopub.execute_input": "2022-10-08T12:19:04.679664Z",
     "iopub.status.busy": "2022-10-08T12:19:04.678825Z",
     "iopub.status.idle": "2022-10-08T12:19:04.683114Z",
     "shell.execute_reply": "2022-10-08T12:19:04.682511Z"
    },
    "papermill": {
     "duration": 0.051838,
     "end_time": "2022-10-08T12:19:04.683245",
     "exception": false,
     "start_time": "2022-10-08T12:19:04.631407",
     "status": "completed"
    },
    "tags": []
   },
   "outputs": [],
   "source": [
    "#hide\n",
    "# g['continent'] = g.country"
   ]
  },
  {
   "cell_type": "code",
   "execution_count": 28,
   "id": "substantial-wilderness",
   "metadata": {
    "execution": {
     "iopub.execute_input": "2022-10-08T12:19:04.775839Z",
     "iopub.status.busy": "2022-10-08T12:19:04.775023Z",
     "iopub.status.idle": "2022-10-08T12:19:04.778534Z",
     "shell.execute_reply": "2022-10-08T12:19:04.777896Z"
    },
    "papermill": {
     "duration": 0.053412,
     "end_time": "2022-10-08T12:19:04.778676",
     "exception": false,
     "start_time": "2022-10-08T12:19:04.725264",
     "status": "completed"
    },
    "tags": []
   },
   "outputs": [],
   "source": [
    "#hide\n",
    "# cols = list(g.columns.values)"
   ]
  },
  {
   "cell_type": "code",
   "execution_count": 29,
   "id": "solved-farming",
   "metadata": {
    "execution": {
     "iopub.execute_input": "2022-10-08T12:19:04.869269Z",
     "iopub.status.busy": "2022-10-08T12:19:04.868441Z",
     "iopub.status.idle": "2022-10-08T12:19:04.871741Z",
     "shell.execute_reply": "2022-10-08T12:19:04.870920Z"
    },
    "papermill": {
     "duration": 0.049964,
     "end_time": "2022-10-08T12:19:04.871880",
     "exception": false,
     "start_time": "2022-10-08T12:19:04.821916",
     "status": "completed"
    },
    "tags": []
   },
   "outputs": [],
   "source": [
    "#hide\n",
    "# cols.insert(0, cols.pop())"
   ]
  },
  {
   "cell_type": "code",
   "execution_count": 30,
   "id": "executed-adoption",
   "metadata": {
    "execution": {
     "iopub.execute_input": "2022-10-08T12:19:04.960202Z",
     "iopub.status.busy": "2022-10-08T12:19:04.959401Z",
     "iopub.status.idle": "2022-10-08T12:19:04.962612Z",
     "shell.execute_reply": "2022-10-08T12:19:04.961948Z"
    },
    "papermill": {
     "duration": 0.049142,
     "end_time": "2022-10-08T12:19:04.962804",
     "exception": false,
     "start_time": "2022-10-08T12:19:04.913662",
     "status": "completed"
    },
    "tags": []
   },
   "outputs": [],
   "source": [
    "#hide\n",
    "# g = g[cols]"
   ]
  },
  {
   "cell_type": "code",
   "execution_count": 31,
   "id": "subject-dublin",
   "metadata": {
    "execution": {
     "iopub.execute_input": "2022-10-08T12:19:05.053217Z",
     "iopub.status.busy": "2022-10-08T12:19:05.052477Z",
     "iopub.status.idle": "2022-10-08T12:19:05.055723Z",
     "shell.execute_reply": "2022-10-08T12:19:05.054951Z"
    },
    "papermill": {
     "duration": 0.050952,
     "end_time": "2022-10-08T12:19:05.055887",
     "exception": false,
     "start_time": "2022-10-08T12:19:05.004935",
     "status": "completed"
    },
    "tags": []
   },
   "outputs": [],
   "source": [
    "#hide\n",
    "# g['continent'] = g['continent'].map(mapping['map.continent'])"
   ]
  },
  {
   "cell_type": "code",
   "execution_count": 32,
   "id": "freelance-scout",
   "metadata": {
    "execution": {
     "iopub.execute_input": "2022-10-08T12:19:05.153147Z",
     "iopub.status.busy": "2022-10-08T12:19:05.152259Z",
     "iopub.status.idle": "2022-10-08T12:19:05.155880Z",
     "shell.execute_reply": "2022-10-08T12:19:05.155144Z"
    },
    "papermill": {
     "duration": 0.058405,
     "end_time": "2022-10-08T12:19:05.156023",
     "exception": false,
     "start_time": "2022-10-08T12:19:05.097618",
     "status": "completed"
    },
    "tags": []
   },
   "outputs": [],
   "source": [
    "#hide\n",
    "# g.head()"
   ]
  },
  {
   "cell_type": "code",
   "execution_count": 33,
   "id": "limited-engine",
   "metadata": {
    "execution": {
     "iopub.execute_input": "2022-10-08T12:19:05.260551Z",
     "iopub.status.busy": "2022-10-08T12:19:05.258562Z",
     "iopub.status.idle": "2022-10-08T12:19:05.263601Z",
     "shell.execute_reply": "2022-10-08T12:19:05.262667Z"
    },
    "papermill": {
     "duration": 0.059137,
     "end_time": "2022-10-08T12:19:05.263820",
     "exception": false,
     "start_time": "2022-10-08T12:19:05.204683",
     "status": "completed"
    },
    "tags": []
   },
   "outputs": [],
   "source": [
    "# hide\n",
    "# g['date'] = g['date'].astype('datetime64[ns]')"
   ]
  },
  {
   "cell_type": "code",
   "execution_count": 34,
   "id": "sophisticated-supervisor",
   "metadata": {
    "execution": {
     "iopub.execute_input": "2022-10-08T12:19:05.354197Z",
     "iopub.status.busy": "2022-10-08T12:19:05.353329Z",
     "iopub.status.idle": "2022-10-08T12:19:05.356519Z",
     "shell.execute_reply": "2022-10-08T12:19:05.355720Z"
    },
    "papermill": {
     "duration": 0.048921,
     "end_time": "2022-10-08T12:19:05.356661",
     "exception": false,
     "start_time": "2022-10-08T12:19:05.307740",
     "status": "completed"
    },
    "tags": []
   },
   "outputs": [],
   "source": [
    "#hide\n",
    "# g['date'] = g.date.dt.dayofyear"
   ]
  },
  {
   "cell_type": "code",
   "execution_count": 35,
   "id": "inside-dubai",
   "metadata": {
    "execution": {
     "iopub.execute_input": "2022-10-08T12:19:05.445662Z",
     "iopub.status.busy": "2022-10-08T12:19:05.444925Z",
     "iopub.status.idle": "2022-10-08T12:19:05.449378Z",
     "shell.execute_reply": "2022-10-08T12:19:05.450001Z"
    },
    "papermill": {
     "duration": 0.05169,
     "end_time": "2022-10-08T12:19:05.450281",
     "exception": false,
     "start_time": "2022-10-08T12:19:05.398591",
     "status": "completed"
    },
    "tags": []
   },
   "outputs": [],
   "source": [
    "#hide\n",
    "# g = g.rename(columns= {'continent':'group','country':'name','cases':'value'})"
   ]
  },
  {
   "cell_type": "code",
   "execution_count": 36,
   "id": "fleet-motorcycle",
   "metadata": {
    "execution": {
     "iopub.execute_input": "2022-10-08T12:19:05.537442Z",
     "iopub.status.busy": "2022-10-08T12:19:05.536688Z",
     "iopub.status.idle": "2022-10-08T12:19:05.539913Z",
     "shell.execute_reply": "2022-10-08T12:19:05.539206Z"
    },
    "papermill": {
     "duration": 0.04918,
     "end_time": "2022-10-08T12:19:05.540056",
     "exception": false,
     "start_time": "2022-10-08T12:19:05.490876",
     "status": "completed"
    },
    "tags": []
   },
   "outputs": [],
   "source": [
    "#hide\n",
    "# cols = ['name','group','day','value']"
   ]
  },
  {
   "cell_type": "code",
   "execution_count": 37,
   "id": "continued-sleeping",
   "metadata": {
    "execution": {
     "iopub.execute_input": "2022-10-08T12:19:05.627500Z",
     "iopub.status.busy": "2022-10-08T12:19:05.626686Z",
     "iopub.status.idle": "2022-10-08T12:19:05.631470Z",
     "shell.execute_reply": "2022-10-08T12:19:05.632775Z"
    },
    "papermill": {
     "duration": 0.051909,
     "end_time": "2022-10-08T12:19:05.632954",
     "exception": false,
     "start_time": "2022-10-08T12:19:05.581045",
     "status": "completed"
    },
    "tags": []
   },
   "outputs": [],
   "source": [
    "#hide\n",
    "# g.rename(columns= {'date':'day'},inplace = True)"
   ]
  },
  {
   "cell_type": "code",
   "execution_count": 38,
   "id": "major-fight",
   "metadata": {
    "execution": {
     "iopub.execute_input": "2022-10-08T12:19:05.719055Z",
     "iopub.status.busy": "2022-10-08T12:19:05.718168Z",
     "iopub.status.idle": "2022-10-08T12:19:05.721641Z",
     "shell.execute_reply": "2022-10-08T12:19:05.720966Z"
    },
    "papermill": {
     "duration": 0.048048,
     "end_time": "2022-10-08T12:19:05.721819",
     "exception": false,
     "start_time": "2022-10-08T12:19:05.673771",
     "status": "completed"
    },
    "tags": []
   },
   "outputs": [],
   "source": [
    "#hide\n",
    "# g = g[cols]"
   ]
  },
  {
   "cell_type": "code",
   "execution_count": 39,
   "id": "structured-mobile",
   "metadata": {
    "execution": {
     "iopub.execute_input": "2022-10-08T12:19:05.808974Z",
     "iopub.status.busy": "2022-10-08T12:19:05.808215Z",
     "iopub.status.idle": "2022-10-08T12:19:05.811591Z",
     "shell.execute_reply": "2022-10-08T12:19:05.810810Z"
    },
    "papermill": {
     "duration": 0.049189,
     "end_time": "2022-10-08T12:19:05.811737",
     "exception": false,
     "start_time": "2022-10-08T12:19:05.762548",
     "status": "completed"
    },
    "tags": []
   },
   "outputs": [],
   "source": [
    "# #hide\n",
    "# g = g[g.group.notna()]"
   ]
  },
  {
   "cell_type": "code",
   "execution_count": 40,
   "id": "determined-closing",
   "metadata": {
    "execution": {
     "iopub.execute_input": "2022-10-08T12:19:05.899554Z",
     "iopub.status.busy": "2022-10-08T12:19:05.898742Z",
     "iopub.status.idle": "2022-10-08T12:19:05.901512Z",
     "shell.execute_reply": "2022-10-08T12:19:05.902094Z"
    },
    "papermill": {
     "duration": 0.049542,
     "end_time": "2022-10-08T12:19:05.902273",
     "exception": false,
     "start_time": "2022-10-08T12:19:05.852731",
     "status": "completed"
    },
    "tags": []
   },
   "outputs": [],
   "source": [
    "# #hide\n",
    "# colors = dict(zip(\n",
    "#     [\"Oceania\", \"Europe\", \"Asia\", \"South America\", \"Middle East\", \"North America\", \"Africa\"],\n",
    "#     [\"#adb0ff\", \"#ffb3ff\", \"#90d595\", \"#e48381\", \"#aafbff\", \"#f7bb5f\", \"#eafb50\"]\n",
    "# ))\n",
    "# group_lk = g.set_index('name')['group'].to_dict()"
   ]
  },
  {
   "cell_type": "code",
   "execution_count": null,
   "id": "gross-drinking",
   "metadata": {
    "papermill": {
     "duration": 0.039991,
     "end_time": "2022-10-08T12:19:05.983417",
     "exception": false,
     "start_time": "2022-10-08T12:19:05.943426",
     "status": "completed"
    },
    "tags": []
   },
   "outputs": [],
   "source": []
  },
  {
   "cell_type": "code",
   "execution_count": 41,
   "id": "subject-macintosh",
   "metadata": {
    "execution": {
     "iopub.execute_input": "2022-10-08T12:19:06.071800Z",
     "iopub.status.busy": "2022-10-08T12:19:06.071036Z",
     "iopub.status.idle": "2022-10-08T12:19:06.075292Z",
     "shell.execute_reply": "2022-10-08T12:19:06.074728Z"
    },
    "papermill": {
     "duration": 0.050047,
     "end_time": "2022-10-08T12:19:06.075536",
     "exception": false,
     "start_time": "2022-10-08T12:19:06.025489",
     "status": "completed"
    },
    "tags": []
   },
   "outputs": [],
   "source": [
    "# #hide\n",
    "# fig, ax = plt.subplots(figsize=(15, 8))\n",
    "\n",
    "# def draw_barchart(current_day):\n",
    "#     dff = g[g['day'].eq(current_day)].sort_values(by='value', ascending=True).tail(10)\n",
    "#     ax.clear()\n",
    "#     ax.barh(dff['name'], dff['value'], color=[colors[group_lk[x]] for x in dff['name']])\n",
    "#     dx = dff['value'].max() / 200\n",
    "    \n",
    "#     for i, (value, name) in enumerate(zip(dff['value'], dff['name'])):\n",
    "#         ax.text(value-dx, i,     name,           size=14, weight=600, ha='right', va='bottom')\n",
    "#         ax.text(value-dx, i-.25, group_lk[name], size=10, color='#444444', ha='right', va='baseline')\n",
    "#         ax.text(value+dx, i,     f'{value:,.0f}',  size=14, ha='left',  va='center')\n",
    "#     ax.text(1, 0.4, current_day, transform=ax.transAxes, color='#777777', size=46, ha='right', weight=800)\n",
    "#     ax.text(0, 1.06, 'Population (thousands)', transform=ax.transAxes, size=12, color='#777777')\n",
    "#     ax.xaxis.set_major_formatter(ticker.StrMethodFormatter('{x:,.0f}'))\n",
    "#     ax.xaxis.set_ticks_position('top')\n",
    "#     ax.tick_params(axis='x', colors='#777777', labelsize=12)\n",
    "#     ax.set_yticks([])\n",
    "#     ax.margins(0, 0.01)\n",
    "#     ax.grid(which='major', axis='x', linestyle='-')\n",
    "#     ax.set_axisbelow(True)\n",
    "    \n",
    "#     ax.text(0, 1.15, 'Coronavirus',\n",
    "#             transform=ax.transAxes, size=24, weight=600, ha='left', va='top')\n",
    "# #     ax.text(1, 0, 'by @pratapvardhan; credit @jburnmurdoch', transform=ax.transAxes, color='#777777', ha='right',\n",
    "# #             bbox=dict(facecolor='white', alpha=0.8, edgecolor='white'))\n",
    "#     plt.box(False)"
   ]
  },
  {
   "cell_type": "code",
   "execution_count": 42,
   "id": "sexual-wages",
   "metadata": {
    "execution": {
     "iopub.execute_input": "2022-10-08T12:19:06.161526Z",
     "iopub.status.busy": "2022-10-08T12:19:06.160801Z",
     "iopub.status.idle": "2022-10-08T12:19:06.164231Z",
     "shell.execute_reply": "2022-10-08T12:19:06.163286Z"
    },
    "papermill": {
     "duration": 0.048206,
     "end_time": "2022-10-08T12:19:06.164364",
     "exception": false,
     "start_time": "2022-10-08T12:19:06.116158",
     "status": "completed"
    },
    "tags": []
   },
   "outputs": [],
   "source": [
    "# #hide_input\n",
    "# fig, ax = plt.subplots(figsize=(15, 8))\n",
    "# animator = animation.FuncAnimation(fig, draw_barchart, frames=range(g.day.values.min(), g.day.values.max()))\n",
    "# HTML(animator.to_jshtml())\n",
    "# # or use animator.to_html5_video() or animator.save() "
   ]
  },
  {
   "cell_type": "code",
   "execution_count": null,
   "id": "australian-container",
   "metadata": {
    "papermill": {
     "duration": 0.042033,
     "end_time": "2022-10-08T12:19:06.246827",
     "exception": false,
     "start_time": "2022-10-08T12:19:06.204794",
     "status": "completed"
    },
    "tags": []
   },
   "outputs": [],
   "source": []
  },
  {
   "cell_type": "code",
   "execution_count": null,
   "id": "mediterranean-pontiac",
   "metadata": {
    "papermill": {
     "duration": 0.040613,
     "end_time": "2022-10-08T12:19:06.328595",
     "exception": false,
     "start_time": "2022-10-08T12:19:06.287982",
     "status": "completed"
    },
    "tags": []
   },
   "outputs": [],
   "source": []
  },
  {
   "cell_type": "code",
   "execution_count": null,
   "id": "aging-legislature",
   "metadata": {
    "papermill": {
     "duration": 0.04101,
     "end_time": "2022-10-08T12:19:06.409831",
     "exception": false,
     "start_time": "2022-10-08T12:19:06.368821",
     "status": "completed"
    },
    "tags": []
   },
   "outputs": [],
   "source": []
  }
 ],
 "metadata": {
  "kernelspec": {
   "display_name": "Python 3",
   "language": "python",
   "name": "python3"
  },
  "language_info": {
   "codemirror_mode": {
    "name": "ipython",
    "version": 3
   },
   "file_extension": ".py",
   "mimetype": "text/x-python",
   "name": "python",
   "nbconvert_exporter": "python",
   "pygments_lexer": "ipython3",
   "version": "3.6.15"
  },
  "papermill": {
   "duration": 7.913072,
   "end_time": "2022-10-08T12:19:06.870501",
   "environment_variables": {},
   "exception": null,
   "input_path": "2020-03-21-covid19exp.ipynb",
   "output_path": "2020-03-21-covid19exp.ipynb",
   "parameters": {},
   "start_time": "2022-10-08T12:18:58.957429",
   "version": "2.0.0"
  }
 },
 "nbformat": 4,
 "nbformat_minor": 5
}