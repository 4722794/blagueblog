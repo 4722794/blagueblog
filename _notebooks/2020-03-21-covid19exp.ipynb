{
 "cells": [
  {
   "cell_type": "markdown",
   "metadata": {
    "papermill": {
     "duration": 0.032122,
     "end_time": "2021-01-05T12:09:54.841787",
     "exception": false,
     "start_time": "2021-01-05T12:09:54.809665",
     "status": "completed"
    },
    "tags": []
   },
   "source": [
    "# COVID-19 Case Race\n",
    "> A race chart to see rising cases around the world\n",
    "\n",
    "- author: Hargun Oberoi\n",
    "- image: images/covid-overview.png\n",
    "- hide: false\n",
    "- badges: false"
   ]
  },
  {
   "cell_type": "code",
   "execution_count": 1,
   "metadata": {
    "execution": {
     "iopub.execute_input": "2021-01-05T12:09:54.904581Z",
     "iopub.status.busy": "2021-01-05T12:09:54.903999Z",
     "iopub.status.idle": "2021-01-05T12:09:55.206003Z",
     "shell.execute_reply": "2021-01-05T12:09:55.204772Z"
    },
    "papermill": {
     "duration": 0.338857,
     "end_time": "2021-01-05T12:09:55.206175",
     "exception": false,
     "start_time": "2021-01-05T12:09:54.867318",
     "status": "completed"
    },
    "tags": []
   },
   "outputs": [],
   "source": [
    "#hide\n",
    "import numpy as np\n",
    "import pandas as pd\n",
    "from jinja2 import Template\n",
    "from IPython.display import HTML"
   ]
  },
  {
   "cell_type": "code",
   "execution_count": 2,
   "metadata": {
    "execution": {
     "iopub.execute_input": "2021-01-05T12:09:55.267018Z",
     "iopub.status.busy": "2021-01-05T12:09:55.266427Z",
     "iopub.status.idle": "2021-01-05T12:09:55.269089Z",
     "shell.execute_reply": "2021-01-05T12:09:55.269586Z"
    },
    "papermill": {
     "duration": 0.035246,
     "end_time": "2021-01-05T12:09:55.269722",
     "exception": false,
     "start_time": "2021-01-05T12:09:55.234476",
     "status": "completed"
    },
    "tags": []
   },
   "outputs": [],
   "source": [
    "#hide\n",
    "\n",
    "# FETCH\n",
    "base_url = 'https://raw.githubusercontent.com/pratapvardhan/notebooks/master/covid19/'\n",
    "paths = {\n",
    "    'mapping': base_url + 'mapping_countries.csv',\n",
    "    'overview': base_url + 'overview.tpl'\n",
    "}"
   ]
  },
  {
   "cell_type": "code",
   "execution_count": 3,
   "metadata": {
    "execution": {
     "iopub.execute_input": "2021-01-05T12:09:55.338031Z",
     "iopub.status.busy": "2021-01-05T12:09:55.335754Z",
     "iopub.status.idle": "2021-01-05T12:09:55.340936Z",
     "shell.execute_reply": "2021-01-05T12:09:55.340474Z"
    },
    "papermill": {
     "duration": 0.042236,
     "end_time": "2021-01-05T12:09:55.341052",
     "exception": false,
     "start_time": "2021-01-05T12:09:55.298816",
     "status": "completed"
    },
    "tags": []
   },
   "outputs": [
    {
     "data": {
      "text/plain": [
       "'https://raw.githubusercontent.com/pratapvardhan/notebooks/master/covid19/mapping_countries.csv'"
      ]
     },
     "execution_count": 3,
     "metadata": {},
     "output_type": "execute_result"
    }
   ],
   "source": [
    "#hide\n",
    "paths['mapping']"
   ]
  },
  {
   "cell_type": "code",
   "execution_count": 4,
   "metadata": {
    "execution": {
     "iopub.execute_input": "2021-01-05T12:09:55.402255Z",
     "iopub.status.busy": "2021-01-05T12:09:55.401770Z",
     "iopub.status.idle": "2021-01-05T12:09:55.403577Z",
     "shell.execute_reply": "2021-01-05T12:09:55.404021Z"
    },
    "papermill": {
     "duration": 0.035624,
     "end_time": "2021-01-05T12:09:55.404135",
     "exception": false,
     "start_time": "2021-01-05T12:09:55.368511",
     "status": "completed"
    },
    "tags": []
   },
   "outputs": [],
   "source": [
    "#hide\n",
    "def get_mappings(url):\n",
    "    df = pd.read_csv(url)\n",
    "    return {\n",
    "        'df': df,\n",
    "        'replace.country': dict(df.dropna(subset=['Name']).set_index('Country')['Name']),\n",
    "        'map.continent': dict(df.set_index('Name')['Continent'])\n",
    "    }"
   ]
  },
  {
   "cell_type": "code",
   "execution_count": 5,
   "metadata": {
    "execution": {
     "iopub.execute_input": "2021-01-05T12:09:55.463784Z",
     "iopub.status.busy": "2021-01-05T12:09:55.463314Z",
     "iopub.status.idle": "2021-01-05T12:09:55.490098Z",
     "shell.execute_reply": "2021-01-05T12:09:55.490649Z"
    },
    "papermill": {
     "duration": 0.059561,
     "end_time": "2021-01-05T12:09:55.490819",
     "exception": false,
     "start_time": "2021-01-05T12:09:55.431258",
     "status": "completed"
    },
    "tags": []
   },
   "outputs": [],
   "source": [
    "#hide\n",
    "mapping = get_mappings(paths['mapping'])"
   ]
  },
  {
   "cell_type": "code",
   "execution_count": 6,
   "metadata": {
    "execution": {
     "iopub.execute_input": "2021-01-05T12:09:55.569883Z",
     "iopub.status.busy": "2021-01-05T12:09:55.569400Z",
     "iopub.status.idle": "2021-01-05T12:09:55.572506Z",
     "shell.execute_reply": "2021-01-05T12:09:55.572944Z"
    },
    "papermill": {
     "duration": 0.042724,
     "end_time": "2021-01-05T12:09:55.573048",
     "exception": false,
     "start_time": "2021-01-05T12:09:55.530324",
     "status": "completed"
    },
    "tags": []
   },
   "outputs": [],
   "source": [
    "#hide\n",
    "def get_template(path):\n",
    "    from urllib.parse import urlparse\n",
    "    if bool(urlparse(path).netloc):\n",
    "        from urllib.request import urlopen\n",
    "        return urlopen(path).read().decode('utf8')\n",
    "    return open(path).read()"
   ]
  },
  {
   "cell_type": "code",
   "execution_count": 7,
   "metadata": {
    "execution": {
     "iopub.execute_input": "2021-01-05T12:09:55.631448Z",
     "iopub.status.busy": "2021-01-05T12:09:55.630432Z",
     "iopub.status.idle": "2021-01-05T12:09:55.632522Z",
     "shell.execute_reply": "2021-01-05T12:09:55.633361Z"
    },
    "papermill": {
     "duration": 0.035437,
     "end_time": "2021-01-05T12:09:55.633587",
     "exception": false,
     "start_time": "2021-01-05T12:09:55.598150",
     "status": "completed"
    },
    "tags": []
   },
   "outputs": [],
   "source": [
    "#hide\n",
    "def get_frame(name):\n",
    "    url = (\n",
    "        'https://raw.githubusercontent.com/CSSEGISandData/COVID-19/master/csse_covid_19_data/'\n",
    "        f'csse_covid_19_time_series/time_series_covid19_{name}_global.csv')\n",
    "    df = pd.read_csv(url)\n",
    "    # rename countries\n",
    "    df['Country/Region'] = df['Country/Region'].replace(mapping['replace.country'])\n",
    "    return df"
   ]
  },
  {
   "cell_type": "code",
   "execution_count": 8,
   "metadata": {
    "execution": {
     "iopub.execute_input": "2021-01-05T12:09:55.692107Z",
     "iopub.status.busy": "2021-01-05T12:09:55.691586Z",
     "iopub.status.idle": "2021-01-05T12:09:55.693553Z",
     "shell.execute_reply": "2021-01-05T12:09:55.693122Z"
    },
    "papermill": {
     "duration": 0.034393,
     "end_time": "2021-01-05T12:09:55.693652",
     "exception": false,
     "start_time": "2021-01-05T12:09:55.659259",
     "status": "completed"
    },
    "tags": []
   },
   "outputs": [],
   "source": [
    "#hide\n",
    "def get_dates(df):\n",
    "    dt_cols = df.columns[~df.columns.isin(['Province/State', 'Country/Region', 'Lat', 'Long'])]\n",
    "    LAST_DATE_I = -1\n",
    "    # sometimes last column may be empty, then go backwards\n",
    "    for i in range(-1, -len(dt_cols), -1):\n",
    "        if not df[dt_cols[i]].fillna(0).eq(0).all():\n",
    "            LAST_DATE_I = i\n",
    "            break\n",
    "    return LAST_DATE_I, dt_cols"
   ]
  },
  {
   "cell_type": "code",
   "execution_count": 9,
   "metadata": {
    "execution": {
     "iopub.execute_input": "2021-01-05T12:09:55.747760Z",
     "iopub.status.busy": "2021-01-05T12:09:55.747285Z",
     "iopub.status.idle": "2021-01-05T12:09:55.963912Z",
     "shell.execute_reply": "2021-01-05T12:09:55.963041Z"
    },
    "papermill": {
     "duration": 0.246525,
     "end_time": "2021-01-05T12:09:55.964136",
     "exception": false,
     "start_time": "2021-01-05T12:09:55.717611",
     "status": "completed"
    },
    "tags": []
   },
   "outputs": [],
   "source": [
    "#hide\n",
    "COL_REGION = 'Country/Region'\n",
    "# Confirmed, Recovered, Deaths\n",
    "df = get_frame('confirmed')\n",
    "# dft_: timeseries, dfc_: today country agg\n",
    "dft_cases = df\n",
    "dft_deaths = get_frame('deaths')\n",
    "dft_recovered = get_frame('recovered')\n",
    "LAST_DATE_I, dt_cols = get_dates(df)"
   ]
  },
  {
   "cell_type": "code",
   "execution_count": 10,
   "metadata": {
    "execution": {
     "iopub.execute_input": "2021-01-05T12:09:56.029330Z",
     "iopub.status.busy": "2021-01-05T12:09:56.028417Z",
     "iopub.status.idle": "2021-01-05T12:09:56.029843Z",
     "shell.execute_reply": "2021-01-05T12:09:56.030258Z"
    },
    "papermill": {
     "duration": 0.036063,
     "end_time": "2021-01-05T12:09:56.030390",
     "exception": false,
     "start_time": "2021-01-05T12:09:55.994327",
     "status": "completed"
    },
    "tags": []
   },
   "outputs": [],
   "source": [
    "#hide\n",
    "LAST_DATE_I, dt_cols = get_dates(df)\n",
    "dt_today =dt_cols[LAST_DATE_I]\n",
    "# dt_5day = dt_cols[LAST_DATE_I - 5]\n",
    "dt_yday = dt_cols[LAST_DATE_I - 1]"
   ]
  },
  {
   "cell_type": "code",
   "execution_count": 11,
   "metadata": {
    "execution": {
     "iopub.execute_input": "2021-01-05T12:09:56.094072Z",
     "iopub.status.busy": "2021-01-05T12:09:56.093237Z",
     "iopub.status.idle": "2021-01-05T12:09:56.100345Z",
     "shell.execute_reply": "2021-01-05T12:09:56.100758Z"
    },
    "papermill": {
     "duration": 0.042842,
     "end_time": "2021-01-05T12:09:56.100897",
     "exception": false,
     "start_time": "2021-01-05T12:09:56.058055",
     "status": "completed"
    },
    "tags": []
   },
   "outputs": [],
   "source": [
    "#hide\n",
    "dfc_cases = dft_cases.groupby(COL_REGION)[dt_today].sum()\n",
    "dfc_deaths = dft_deaths.groupby(COL_REGION)[dt_today].sum()\n",
    "# dfp_cases = dft_cases.groupby(COL_REGION)[dt_5day].sum()\n",
    "# dfp_deaths = dft_deaths.groupby(COL_REGION)[dt_5day].sum()\n",
    "dfp_cases = dft_cases.groupby(COL_REGION)[dt_yday].sum()\n",
    "dfp_deaths = dft_deaths.groupby(COL_REGION)[dt_yday].sum()"
   ]
  },
  {
   "cell_type": "code",
   "execution_count": 12,
   "metadata": {
    "execution": {
     "iopub.execute_input": "2021-01-05T12:09:56.162885Z",
     "iopub.status.busy": "2021-01-05T12:09:56.162377Z",
     "iopub.status.idle": "2021-01-05T12:09:56.166441Z",
     "shell.execute_reply": "2021-01-05T12:09:56.165948Z"
    },
    "papermill": {
     "duration": 0.039274,
     "end_time": "2021-01-05T12:09:56.166569",
     "exception": false,
     "start_time": "2021-01-05T12:09:56.127295",
     "status": "completed"
    },
    "tags": []
   },
   "outputs": [],
   "source": [
    "#hide\n",
    "df_table = (pd.DataFrame(dict(Cases = dfc_cases, Deaths = dfc_deaths, PCases = dfp_cases, PDeaths = dfp_deaths))\n",
    "            .sort_values(by = ['Cases','Deaths'], ascending = [False, False])\n",
    "            .reset_index())"
   ]
  },
  {
   "cell_type": "code",
   "execution_count": 13,
   "metadata": {
    "execution": {
     "iopub.execute_input": "2021-01-05T12:09:56.233286Z",
     "iopub.status.busy": "2021-01-05T12:09:56.232783Z",
     "iopub.status.idle": "2021-01-05T12:09:56.240550Z",
     "shell.execute_reply": "2021-01-05T12:09:56.241064Z"
    },
    "papermill": {
     "duration": 0.048966,
     "end_time": "2021-01-05T12:09:56.241209",
     "exception": false,
     "start_time": "2021-01-05T12:09:56.192243",
     "status": "completed"
    },
    "tags": []
   },
   "outputs": [
    {
     "data": {
      "text/html": [
       "<div>\n",
       "<style scoped>\n",
       "    .dataframe tbody tr th:only-of-type {\n",
       "        vertical-align: middle;\n",
       "    }\n",
       "\n",
       "    .dataframe tbody tr th {\n",
       "        vertical-align: top;\n",
       "    }\n",
       "\n",
       "    .dataframe thead th {\n",
       "        text-align: right;\n",
       "    }\n",
       "</style>\n",
       "<table border=\"1\" class=\"dataframe\">\n",
       "  <thead>\n",
       "    <tr style=\"text-align: right;\">\n",
       "      <th></th>\n",
       "      <th>Country/Region</th>\n",
       "      <th>Cases</th>\n",
       "      <th>Deaths</th>\n",
       "      <th>PCases</th>\n",
       "      <th>PDeaths</th>\n",
       "      <th>Cases (+)</th>\n",
       "      <th>Deaths (+)</th>\n",
       "      <th>Fatality Rate</th>\n",
       "      <th>Continent</th>\n",
       "    </tr>\n",
       "  </thead>\n",
       "  <tbody>\n",
       "    <tr>\n",
       "      <th>0</th>\n",
       "      <td>US</td>\n",
       "      <td>20817140</td>\n",
       "      <td>353483</td>\n",
       "      <td>20636663</td>\n",
       "      <td>351580</td>\n",
       "      <td>180477</td>\n",
       "      <td>1903</td>\n",
       "      <td>1.70</td>\n",
       "      <td>North America</td>\n",
       "    </tr>\n",
       "    <tr>\n",
       "      <th>1</th>\n",
       "      <td>India</td>\n",
       "      <td>10356844</td>\n",
       "      <td>149850</td>\n",
       "      <td>10340469</td>\n",
       "      <td>149649</td>\n",
       "      <td>16375</td>\n",
       "      <td>201</td>\n",
       "      <td>1.45</td>\n",
       "      <td>Asia</td>\n",
       "    </tr>\n",
       "    <tr>\n",
       "      <th>2</th>\n",
       "      <td>Brazil</td>\n",
       "      <td>7753752</td>\n",
       "      <td>196561</td>\n",
       "      <td>7733746</td>\n",
       "      <td>196018</td>\n",
       "      <td>20006</td>\n",
       "      <td>543</td>\n",
       "      <td>2.54</td>\n",
       "      <td>South America</td>\n",
       "    </tr>\n",
       "    <tr>\n",
       "      <th>3</th>\n",
       "      <td>Russia</td>\n",
       "      <td>3226758</td>\n",
       "      <td>58203</td>\n",
       "      <td>3203743</td>\n",
       "      <td>57730</td>\n",
       "      <td>23015</td>\n",
       "      <td>473</td>\n",
       "      <td>1.80</td>\n",
       "      <td>Europe</td>\n",
       "    </tr>\n",
       "    <tr>\n",
       "      <th>4</th>\n",
       "      <td>United Kingdom</td>\n",
       "      <td>2721622</td>\n",
       "      <td>75547</td>\n",
       "      <td>2662699</td>\n",
       "      <td>75137</td>\n",
       "      <td>58923</td>\n",
       "      <td>410</td>\n",
       "      <td>2.78</td>\n",
       "      <td>Europe</td>\n",
       "    </tr>\n",
       "  </tbody>\n",
       "</table>\n",
       "</div>"
      ],
      "text/plain": [
       "   Country/Region     Cases  Deaths    PCases  PDeaths  Cases (+)  Deaths (+)  \\\n",
       "0              US  20817140  353483  20636663   351580     180477        1903   \n",
       "1           India  10356844  149850  10340469   149649      16375         201   \n",
       "2          Brazil   7753752  196561   7733746   196018      20006         543   \n",
       "3          Russia   3226758   58203   3203743    57730      23015         473   \n",
       "4  United Kingdom   2721622   75547   2662699    75137      58923         410   \n",
       "\n",
       "   Fatality Rate      Continent  \n",
       "0           1.70  North America  \n",
       "1           1.45           Asia  \n",
       "2           2.54  South America  \n",
       "3           1.80         Europe  \n",
       "4           2.78         Europe  "
      ]
     },
     "execution_count": 13,
     "metadata": {},
     "output_type": "execute_result"
    }
   ],
   "source": [
    "#hide\n",
    "for c in 'Cases, Deaths'.split(', '):\n",
    "    df_table[f'{c} (+)'] = (df_table[c] - df_table[f'P{c}']).clip(0)\n",
    "    #Clip ça veut dire, les chiffres negatif sont interdit\n",
    "df_table['Fatality Rate'] = (100* df_table['Deaths']/ df_table['Cases']).round(2)\n",
    "df_table['Continent'] = df_table['Country/Region'].map(mapping['map.continent'])\n",
    "df_table.head(5)"
   ]
  },
  {
   "cell_type": "code",
   "execution_count": 14,
   "metadata": {
    "execution": {
     "iopub.execute_input": "2021-01-05T12:09:56.295106Z",
     "iopub.status.busy": "2021-01-05T12:09:56.294689Z",
     "iopub.status.idle": "2021-01-05T12:09:56.298114Z",
     "shell.execute_reply": "2021-01-05T12:09:56.298496Z"
    },
    "papermill": {
     "duration": 0.033069,
     "end_time": "2021-01-05T12:09:56.298624",
     "exception": false,
     "start_time": "2021-01-05T12:09:56.265555",
     "status": "completed"
    },
    "tags": []
   },
   "outputs": [],
   "source": [
    "#hide\n",
    "#delete problematic countries from table\n",
    "df_table = df_table[~df_table['Country/Region'].isin(['Cape Verde', 'Cruise Ship', 'Kosovo'])]"
   ]
  },
  {
   "cell_type": "code",
   "execution_count": 15,
   "metadata": {
    "execution": {
     "iopub.execute_input": "2021-01-05T12:09:56.359343Z",
     "iopub.status.busy": "2021-01-05T12:09:56.358933Z",
     "iopub.status.idle": "2021-01-05T12:09:56.375120Z",
     "shell.execute_reply": "2021-01-05T12:09:56.375523Z"
    },
    "papermill": {
     "duration": 0.049071,
     "end_time": "2021-01-05T12:09:56.375650",
     "exception": false,
     "start_time": "2021-01-05T12:09:56.326579",
     "status": "completed"
    },
    "tags": []
   },
   "outputs": [
    {
     "data": {
      "text/html": [
       "<div>\n",
       "<style scoped>\n",
       "    .dataframe tbody tr th:only-of-type {\n",
       "        vertical-align: middle;\n",
       "    }\n",
       "\n",
       "    .dataframe tbody tr th {\n",
       "        vertical-align: top;\n",
       "    }\n",
       "\n",
       "    .dataframe thead th {\n",
       "        text-align: right;\n",
       "    }\n",
       "</style>\n",
       "<table border=\"1\" class=\"dataframe\">\n",
       "  <thead>\n",
       "    <tr style=\"text-align: right;\">\n",
       "      <th></th>\n",
       "      <th>Country/Region</th>\n",
       "      <th>Cases</th>\n",
       "      <th>Deaths</th>\n",
       "      <th>PCases</th>\n",
       "      <th>PDeaths</th>\n",
       "      <th>Cases (+)</th>\n",
       "      <th>Deaths (+)</th>\n",
       "      <th>Fatality Rate</th>\n",
       "      <th>Continent</th>\n",
       "    </tr>\n",
       "  </thead>\n",
       "  <tbody>\n",
       "    <tr>\n",
       "      <th>0</th>\n",
       "      <td>US</td>\n",
       "      <td>20817140</td>\n",
       "      <td>353483</td>\n",
       "      <td>20636663</td>\n",
       "      <td>351580</td>\n",
       "      <td>180477</td>\n",
       "      <td>1903</td>\n",
       "      <td>1.7</td>\n",
       "      <td>North America</td>\n",
       "    </tr>\n",
       "    <tr>\n",
       "      <th>1</th>\n",
       "      <td>India</td>\n",
       "      <td>10356844</td>\n",
       "      <td>149850</td>\n",
       "      <td>10340469</td>\n",
       "      <td>149649</td>\n",
       "      <td>16375</td>\n",
       "      <td>201</td>\n",
       "      <td>1.4</td>\n",
       "      <td>Asia</td>\n",
       "    </tr>\n",
       "    <tr>\n",
       "      <th>2</th>\n",
       "      <td>Brazil</td>\n",
       "      <td>7753752</td>\n",
       "      <td>196561</td>\n",
       "      <td>7733746</td>\n",
       "      <td>196018</td>\n",
       "      <td>20006</td>\n",
       "      <td>543</td>\n",
       "      <td>2.5</td>\n",
       "      <td>South America</td>\n",
       "    </tr>\n",
       "    <tr>\n",
       "      <th>3</th>\n",
       "      <td>Russia</td>\n",
       "      <td>3226758</td>\n",
       "      <td>58203</td>\n",
       "      <td>3203743</td>\n",
       "      <td>57730</td>\n",
       "      <td>23015</td>\n",
       "      <td>473</td>\n",
       "      <td>1.8</td>\n",
       "      <td>Europe</td>\n",
       "    </tr>\n",
       "    <tr>\n",
       "      <th>4</th>\n",
       "      <td>United Kingdom</td>\n",
       "      <td>2721622</td>\n",
       "      <td>75547</td>\n",
       "      <td>2662699</td>\n",
       "      <td>75137</td>\n",
       "      <td>58923</td>\n",
       "      <td>410</td>\n",
       "      <td>2.8</td>\n",
       "      <td>Europe</td>\n",
       "    </tr>\n",
       "  </tbody>\n",
       "</table>\n",
       "</div>"
      ],
      "text/plain": [
       "   Country/Region     Cases  Deaths    PCases  PDeaths  Cases (+)  Deaths (+)  \\\n",
       "0              US  20817140  353483  20636663   351580     180477        1903   \n",
       "1           India  10356844  149850  10340469   149649      16375         201   \n",
       "2          Brazil   7753752  196561   7733746   196018      20006         543   \n",
       "3          Russia   3226758   58203   3203743    57730      23015         473   \n",
       "4  United Kingdom   2721622   75547   2662699    75137      58923         410   \n",
       "\n",
       "   Fatality Rate      Continent  \n",
       "0            1.7  North America  \n",
       "1            1.4           Asia  \n",
       "2            2.5  South America  \n",
       "3            1.8         Europe  \n",
       "4            2.8         Europe  "
      ]
     },
     "execution_count": 15,
     "metadata": {},
     "output_type": "execute_result"
    }
   ],
   "source": [
    "#hide\n",
    "df_table = (pd.DataFrame(dict(Cases=dfc_cases, Deaths=dfc_deaths, PCases=dfp_cases, PDeaths=dfp_deaths))\n",
    "             .sort_values(by=['Cases', 'Deaths'], ascending=[False, False])\n",
    "             .reset_index())\n",
    "df_table.rename(columns={'index': 'Country/Region'}, inplace=True)\n",
    "for c in 'Cases, Deaths'.split(', '):\n",
    "    df_table[f'{c} (+)'] = (df_table[c] - df_table[f'P{c}']).clip(0)  # DATA BUG\n",
    "df_table['Fatality Rate'] = (100 * df_table['Deaths'] / df_table['Cases']).round(1)\n",
    "df_table['Continent'] = df_table['Country/Region'].map(mapping['map.continent'])\n",
    "df_table.head(5)"
   ]
  },
  {
   "cell_type": "code",
   "execution_count": 16,
   "metadata": {
    "execution": {
     "iopub.execute_input": "2021-01-05T12:09:56.443410Z",
     "iopub.status.busy": "2021-01-05T12:09:56.442674Z",
     "iopub.status.idle": "2021-01-05T12:09:56.447020Z",
     "shell.execute_reply": "2021-01-05T12:09:56.446526Z"
    },
    "papermill": {
     "duration": 0.040084,
     "end_time": "2021-01-05T12:09:56.447139",
     "exception": false,
     "start_time": "2021-01-05T12:09:56.407055",
     "status": "completed"
    },
    "tags": []
   },
   "outputs": [],
   "source": [
    "#hide\n",
    "#delete problematic countries from table\n",
    "df_table = df_table[~df_table['Country/Region'].isin(['Cape Verde', 'Cruise Ship', 'Kosovo'])]"
   ]
  },
  {
   "cell_type": "code",
   "execution_count": 17,
   "metadata": {
    "execution": {
     "iopub.execute_input": "2021-01-05T12:09:56.527437Z",
     "iopub.status.busy": "2021-01-05T12:09:56.526895Z",
     "iopub.status.idle": "2021-01-05T12:09:56.535033Z",
     "shell.execute_reply": "2021-01-05T12:09:56.534548Z"
    },
    "papermill": {
     "duration": 0.055407,
     "end_time": "2021-01-05T12:09:56.535149",
     "exception": false,
     "start_time": "2021-01-05T12:09:56.479742",
     "status": "completed"
    },
    "tags": []
   },
   "outputs": [],
   "source": [
    "#hide\n",
    "metrics = [df_table.columns[index] for index in [1,2,5,6]]\n",
    "# s_china = df_table[df_table['Country/Region'].eq('China')][metrics].sum().add_prefix('China ')\n",
    "s_us = df_table[df_table['Country/Region'].eq('US')][metrics].sum().add_prefix('US ')\n",
    "s_eu = df_table[df_table['Continent'].eq('Europe')][metrics].sum().add_prefix('EU ')\n",
    "s_ind = df_table[df_table['Country/Region'].eq('India')][metrics].sum().add_prefix('India ')\n",
    "summary = {'updated': pd.to_datetime(dt_today), 'since': pd.to_datetime(dt_yday)}\n",
    "summary = {'updated': pd.to_datetime(dt_today), 'since': pd.to_datetime(dt_yday)}\n",
    "summary = {**summary, **df_table[metrics].sum(), **s_ind, **s_us, **s_eu}"
   ]
  },
  {
   "cell_type": "code",
   "execution_count": 18,
   "metadata": {
    "execution": {
     "iopub.execute_input": "2021-01-05T12:09:56.603480Z",
     "iopub.status.busy": "2021-01-05T12:09:56.602828Z",
     "iopub.status.idle": "2021-01-05T12:09:56.624439Z",
     "shell.execute_reply": "2021-01-05T12:09:56.624971Z"
    },
    "papermill": {
     "duration": 0.061282,
     "end_time": "2021-01-05T12:09:56.625116",
     "exception": false,
     "start_time": "2021-01-05T12:09:56.563834",
     "status": "completed"
    },
    "tags": []
   },
   "outputs": [],
   "source": [
    "#hide\n",
    "dft_ct_new_cases = dft_cases.groupby(COL_REGION)[dt_cols].sum().diff(axis=1).fillna(0).astype(int)"
   ]
  },
  {
   "cell_type": "code",
   "execution_count": 19,
   "metadata": {
    "execution": {
     "iopub.execute_input": "2021-01-05T12:09:56.691131Z",
     "iopub.status.busy": "2021-01-05T12:09:56.690539Z",
     "iopub.status.idle": "2021-01-05T12:09:56.692549Z",
     "shell.execute_reply": "2021-01-05T12:09:56.692995Z"
    },
    "papermill": {
     "duration": 0.037979,
     "end_time": "2021-01-05T12:09:56.693139",
     "exception": false,
     "start_time": "2021-01-05T12:09:56.655160",
     "status": "completed"
    },
    "tags": []
   },
   "outputs": [],
   "source": [
    "#hide\n",
    "everydaycases = dft_ct_new_cases.cumsum(axis=1)"
   ]
  },
  {
   "cell_type": "code",
   "execution_count": 20,
   "metadata": {
    "execution": {
     "iopub.execute_input": "2021-01-05T12:09:56.755960Z",
     "iopub.status.busy": "2021-01-05T12:09:56.755420Z",
     "iopub.status.idle": "2021-01-05T12:09:57.710392Z",
     "shell.execute_reply": "2021-01-05T12:09:57.709093Z"
    },
    "papermill": {
     "duration": 0.990014,
     "end_time": "2021-01-05T12:09:57.710512",
     "exception": false,
     "start_time": "2021-01-05T12:09:56.720498",
     "status": "completed"
    },
    "tags": []
   },
   "outputs": [],
   "source": [
    "#hide\n",
    "import pandas as pd\n",
    "import matplotlib.pyplot as plt\n",
    "import matplotlib.ticker as ticker\n",
    "import matplotlib.animation as animation\n",
    "from IPython.display import HTML"
   ]
  },
  {
   "cell_type": "code",
   "execution_count": 21,
   "metadata": {
    "execution": {
     "iopub.execute_input": "2021-01-05T12:09:57.770651Z",
     "iopub.status.busy": "2021-01-05T12:09:57.769615Z",
     "iopub.status.idle": "2021-01-05T12:09:57.773276Z",
     "shell.execute_reply": "2021-01-05T12:09:57.772824Z"
    },
    "papermill": {
     "duration": 0.034665,
     "end_time": "2021-01-05T12:09:57.773391",
     "exception": false,
     "start_time": "2021-01-05T12:09:57.738726",
     "status": "completed"
    },
    "tags": []
   },
   "outputs": [],
   "source": [
    "#hide\n",
    "t = everydaycases.stack()"
   ]
  },
  {
   "cell_type": "code",
   "execution_count": 22,
   "metadata": {
    "execution": {
     "iopub.execute_input": "2021-01-05T12:09:57.837271Z",
     "iopub.status.busy": "2021-01-05T12:09:57.829459Z",
     "iopub.status.idle": "2021-01-05T12:09:57.845664Z",
     "shell.execute_reply": "2021-01-05T12:09:57.845005Z"
    },
    "papermill": {
     "duration": 0.046191,
     "end_time": "2021-01-05T12:09:57.845768",
     "exception": false,
     "start_time": "2021-01-05T12:09:57.799577",
     "status": "completed"
    },
    "tags": []
   },
   "outputs": [],
   "source": [
    "#hide\n",
    "g = t.reset_index(['Country/Region'])"
   ]
  },
  {
   "cell_type": "code",
   "execution_count": 23,
   "metadata": {
    "execution": {
     "iopub.execute_input": "2021-01-05T12:09:57.900903Z",
     "iopub.status.busy": "2021-01-05T12:09:57.900431Z",
     "iopub.status.idle": "2021-01-05T12:09:57.902905Z",
     "shell.execute_reply": "2021-01-05T12:09:57.902573Z"
    },
    "papermill": {
     "duration": 0.030748,
     "end_time": "2021-01-05T12:09:57.902994",
     "exception": false,
     "start_time": "2021-01-05T12:09:57.872246",
     "status": "completed"
    },
    "tags": []
   },
   "outputs": [],
   "source": [
    "#hide\n",
    "g.index.name = 'date'"
   ]
  },
  {
   "cell_type": "code",
   "execution_count": 24,
   "metadata": {
    "execution": {
     "iopub.execute_input": "2021-01-05T12:09:57.959772Z",
     "iopub.status.busy": "2021-01-05T12:09:57.959297Z",
     "iopub.status.idle": "2021-01-05T12:09:57.961542Z",
     "shell.execute_reply": "2021-01-05T12:09:57.962082Z"
    },
    "papermill": {
     "duration": 0.033025,
     "end_time": "2021-01-05T12:09:57.962217",
     "exception": false,
     "start_time": "2021-01-05T12:09:57.929192",
     "status": "completed"
    },
    "tags": []
   },
   "outputs": [],
   "source": [
    "# #hide\n",
    "# g = g.reset_index(['date'])"
   ]
  },
  {
   "cell_type": "code",
   "execution_count": 25,
   "metadata": {
    "execution": {
     "iopub.execute_input": "2021-01-05T12:09:58.019138Z",
     "iopub.status.busy": "2021-01-05T12:09:58.018552Z",
     "iopub.status.idle": "2021-01-05T12:09:58.020783Z",
     "shell.execute_reply": "2021-01-05T12:09:58.021317Z"
    },
    "papermill": {
     "duration": 0.033346,
     "end_time": "2021-01-05T12:09:58.021441",
     "exception": false,
     "start_time": "2021-01-05T12:09:57.988095",
     "status": "completed"
    },
    "tags": []
   },
   "outputs": [],
   "source": [
    "#hide\n",
    "# g.head()"
   ]
  },
  {
   "cell_type": "code",
   "execution_count": 26,
   "metadata": {
    "execution": {
     "iopub.execute_input": "2021-01-05T12:09:58.082912Z",
     "iopub.status.busy": "2021-01-05T12:09:58.082328Z",
     "iopub.status.idle": "2021-01-05T12:09:58.084105Z",
     "shell.execute_reply": "2021-01-05T12:09:58.084567Z"
    },
    "papermill": {
     "duration": 0.03481,
     "end_time": "2021-01-05T12:09:58.084691",
     "exception": false,
     "start_time": "2021-01-05T12:09:58.049881",
     "status": "completed"
    },
    "tags": []
   },
   "outputs": [],
   "source": [
    "#hide\n",
    "# g.columns = ['date','country','cases']"
   ]
  },
  {
   "cell_type": "code",
   "execution_count": 27,
   "metadata": {
    "execution": {
     "iopub.execute_input": "2021-01-05T12:09:58.145469Z",
     "iopub.status.busy": "2021-01-05T12:09:58.144907Z",
     "iopub.status.idle": "2021-01-05T12:09:58.147246Z",
     "shell.execute_reply": "2021-01-05T12:09:58.147705Z"
    },
    "papermill": {
     "duration": 0.034776,
     "end_time": "2021-01-05T12:09:58.147827",
     "exception": false,
     "start_time": "2021-01-05T12:09:58.113051",
     "status": "completed"
    },
    "tags": []
   },
   "outputs": [],
   "source": [
    "#hide\n",
    "# g['continent'] = g.country"
   ]
  },
  {
   "cell_type": "code",
   "execution_count": 28,
   "metadata": {
    "execution": {
     "iopub.execute_input": "2021-01-05T12:09:58.208951Z",
     "iopub.status.busy": "2021-01-05T12:09:58.208360Z",
     "iopub.status.idle": "2021-01-05T12:09:58.210270Z",
     "shell.execute_reply": "2021-01-05T12:09:58.210680Z"
    },
    "papermill": {
     "duration": 0.034213,
     "end_time": "2021-01-05T12:09:58.210808",
     "exception": false,
     "start_time": "2021-01-05T12:09:58.176595",
     "status": "completed"
    },
    "tags": []
   },
   "outputs": [],
   "source": [
    "#hide\n",
    "# cols = list(g.columns.values)"
   ]
  },
  {
   "cell_type": "code",
   "execution_count": 29,
   "metadata": {
    "execution": {
     "iopub.execute_input": "2021-01-05T12:09:58.273061Z",
     "iopub.status.busy": "2021-01-05T12:09:58.272516Z",
     "iopub.status.idle": "2021-01-05T12:09:58.275078Z",
     "shell.execute_reply": "2021-01-05T12:09:58.275631Z"
    },
    "papermill": {
     "duration": 0.035911,
     "end_time": "2021-01-05T12:09:58.275774",
     "exception": false,
     "start_time": "2021-01-05T12:09:58.239863",
     "status": "completed"
    },
    "tags": []
   },
   "outputs": [],
   "source": [
    "#hide\n",
    "# cols.insert(0, cols.pop())"
   ]
  },
  {
   "cell_type": "code",
   "execution_count": 30,
   "metadata": {
    "execution": {
     "iopub.execute_input": "2021-01-05T12:09:58.338705Z",
     "iopub.status.busy": "2021-01-05T12:09:58.338126Z",
     "iopub.status.idle": "2021-01-05T12:09:58.340114Z",
     "shell.execute_reply": "2021-01-05T12:09:58.340557Z"
    },
    "papermill": {
     "duration": 0.036106,
     "end_time": "2021-01-05T12:09:58.340695",
     "exception": false,
     "start_time": "2021-01-05T12:09:58.304589",
     "status": "completed"
    },
    "tags": []
   },
   "outputs": [],
   "source": [
    "#hide\n",
    "# g = g[cols]"
   ]
  },
  {
   "cell_type": "code",
   "execution_count": 31,
   "metadata": {
    "execution": {
     "iopub.execute_input": "2021-01-05T12:09:58.399964Z",
     "iopub.status.busy": "2021-01-05T12:09:58.399494Z",
     "iopub.status.idle": "2021-01-05T12:09:58.401438Z",
     "shell.execute_reply": "2021-01-05T12:09:58.401065Z"
    },
    "papermill": {
     "duration": 0.032715,
     "end_time": "2021-01-05T12:09:58.401526",
     "exception": false,
     "start_time": "2021-01-05T12:09:58.368811",
     "status": "completed"
    },
    "tags": []
   },
   "outputs": [],
   "source": [
    "#hide\n",
    "# g['continent'] = g['continent'].map(mapping['map.continent'])"
   ]
  },
  {
   "cell_type": "code",
   "execution_count": 32,
   "metadata": {
    "execution": {
     "iopub.execute_input": "2021-01-05T12:09:58.457414Z",
     "iopub.status.busy": "2021-01-05T12:09:58.456941Z",
     "iopub.status.idle": "2021-01-05T12:09:58.458912Z",
     "shell.execute_reply": "2021-01-05T12:09:58.459423Z"
    },
    "papermill": {
     "duration": 0.031996,
     "end_time": "2021-01-05T12:09:58.459543",
     "exception": false,
     "start_time": "2021-01-05T12:09:58.427547",
     "status": "completed"
    },
    "tags": []
   },
   "outputs": [],
   "source": [
    "#hide\n",
    "# g.head()"
   ]
  },
  {
   "cell_type": "code",
   "execution_count": 33,
   "metadata": {
    "execution": {
     "iopub.execute_input": "2021-01-05T12:09:58.516863Z",
     "iopub.status.busy": "2021-01-05T12:09:58.516394Z",
     "iopub.status.idle": "2021-01-05T12:09:58.518886Z",
     "shell.execute_reply": "2021-01-05T12:09:58.519456Z"
    },
    "papermill": {
     "duration": 0.033349,
     "end_time": "2021-01-05T12:09:58.519586",
     "exception": false,
     "start_time": "2021-01-05T12:09:58.486237",
     "status": "completed"
    },
    "tags": []
   },
   "outputs": [],
   "source": [
    "# hide\n",
    "# g['date'] = g['date'].astype('datetime64[ns]')"
   ]
  },
  {
   "cell_type": "code",
   "execution_count": 34,
   "metadata": {
    "execution": {
     "iopub.execute_input": "2021-01-05T12:09:58.579736Z",
     "iopub.status.busy": "2021-01-05T12:09:58.578702Z",
     "iopub.status.idle": "2021-01-05T12:09:58.580754Z",
     "shell.execute_reply": "2021-01-05T12:09:58.581238Z"
    },
    "papermill": {
     "duration": 0.034605,
     "end_time": "2021-01-05T12:09:58.581369",
     "exception": false,
     "start_time": "2021-01-05T12:09:58.546764",
     "status": "completed"
    },
    "tags": []
   },
   "outputs": [],
   "source": [
    "#hide\n",
    "# g['date'] = g.date.dt.dayofyear"
   ]
  },
  {
   "cell_type": "code",
   "execution_count": 35,
   "metadata": {
    "execution": {
     "iopub.execute_input": "2021-01-05T12:09:58.642623Z",
     "iopub.status.busy": "2021-01-05T12:09:58.642079Z",
     "iopub.status.idle": "2021-01-05T12:09:58.644421Z",
     "shell.execute_reply": "2021-01-05T12:09:58.644980Z"
    },
    "papermill": {
     "duration": 0.035561,
     "end_time": "2021-01-05T12:09:58.645115",
     "exception": false,
     "start_time": "2021-01-05T12:09:58.609554",
     "status": "completed"
    },
    "tags": []
   },
   "outputs": [],
   "source": [
    "#hide\n",
    "# g = g.rename(columns= {'continent':'group','country':'name','cases':'value'})"
   ]
  },
  {
   "cell_type": "code",
   "execution_count": 36,
   "metadata": {
    "execution": {
     "iopub.execute_input": "2021-01-05T12:09:58.705936Z",
     "iopub.status.busy": "2021-01-05T12:09:58.705329Z",
     "iopub.status.idle": "2021-01-05T12:09:58.707650Z",
     "shell.execute_reply": "2021-01-05T12:09:58.708110Z"
    },
    "papermill": {
     "duration": 0.034608,
     "end_time": "2021-01-05T12:09:58.708222",
     "exception": false,
     "start_time": "2021-01-05T12:09:58.673614",
     "status": "completed"
    },
    "tags": []
   },
   "outputs": [],
   "source": [
    "#hide\n",
    "# cols = ['name','group','day','value']"
   ]
  },
  {
   "cell_type": "code",
   "execution_count": 37,
   "metadata": {
    "execution": {
     "iopub.execute_input": "2021-01-05T12:09:58.762858Z",
     "iopub.status.busy": "2021-01-05T12:09:58.762328Z",
     "iopub.status.idle": "2021-01-05T12:09:58.764900Z",
     "shell.execute_reply": "2021-01-05T12:09:58.764517Z"
    },
    "papermill": {
     "duration": 0.032508,
     "end_time": "2021-01-05T12:09:58.765000",
     "exception": false,
     "start_time": "2021-01-05T12:09:58.732492",
     "status": "completed"
    },
    "tags": []
   },
   "outputs": [],
   "source": [
    "#hide\n",
    "# g.rename(columns= {'date':'day'},inplace = True)"
   ]
  },
  {
   "cell_type": "code",
   "execution_count": 38,
   "metadata": {
    "execution": {
     "iopub.execute_input": "2021-01-05T12:09:58.823527Z",
     "iopub.status.busy": "2021-01-05T12:09:58.822511Z",
     "iopub.status.idle": "2021-01-05T12:09:58.824289Z",
     "shell.execute_reply": "2021-01-05T12:09:58.824716Z"
    },
    "papermill": {
     "duration": 0.03284,
     "end_time": "2021-01-05T12:09:58.824844",
     "exception": false,
     "start_time": "2021-01-05T12:09:58.792004",
     "status": "completed"
    },
    "tags": []
   },
   "outputs": [],
   "source": [
    "#hide\n",
    "# g = g[cols]"
   ]
  },
  {
   "cell_type": "code",
   "execution_count": 39,
   "metadata": {
    "execution": {
     "iopub.execute_input": "2021-01-05T12:09:58.885742Z",
     "iopub.status.busy": "2021-01-05T12:09:58.885132Z",
     "iopub.status.idle": "2021-01-05T12:09:58.887849Z",
     "shell.execute_reply": "2021-01-05T12:09:58.887346Z"
    },
    "papermill": {
     "duration": 0.034176,
     "end_time": "2021-01-05T12:09:58.887966",
     "exception": false,
     "start_time": "2021-01-05T12:09:58.853790",
     "status": "completed"
    },
    "tags": []
   },
   "outputs": [],
   "source": [
    "# #hide\n",
    "# g = g[g.group.notna()]"
   ]
  },
  {
   "cell_type": "code",
   "execution_count": 40,
   "metadata": {
    "execution": {
     "iopub.execute_input": "2021-01-05T12:09:58.946823Z",
     "iopub.status.busy": "2021-01-05T12:09:58.946342Z",
     "iopub.status.idle": "2021-01-05T12:09:58.948072Z",
     "shell.execute_reply": "2021-01-05T12:09:58.948506Z"
    },
    "papermill": {
     "duration": 0.032278,
     "end_time": "2021-01-05T12:09:58.948629",
     "exception": false,
     "start_time": "2021-01-05T12:09:58.916351",
     "status": "completed"
    },
    "tags": []
   },
   "outputs": [],
   "source": [
    "# #hide\n",
    "# colors = dict(zip(\n",
    "#     [\"Oceania\", \"Europe\", \"Asia\", \"South America\", \"Middle East\", \"North America\", \"Africa\"],\n",
    "#     [\"#adb0ff\", \"#ffb3ff\", \"#90d595\", \"#e48381\", \"#aafbff\", \"#f7bb5f\", \"#eafb50\"]\n",
    "# ))\n",
    "# group_lk = g.set_index('name')['group'].to_dict()"
   ]
  },
  {
   "cell_type": "code",
   "execution_count": null,
   "metadata": {
    "papermill": {
     "duration": 0.028803,
     "end_time": "2021-01-05T12:09:59.004287",
     "exception": false,
     "start_time": "2021-01-05T12:09:58.975484",
     "status": "completed"
    },
    "tags": []
   },
   "outputs": [],
   "source": []
  },
  {
   "cell_type": "code",
   "execution_count": 41,
   "metadata": {
    "execution": {
     "iopub.execute_input": "2021-01-05T12:09:59.064558Z",
     "iopub.status.busy": "2021-01-05T12:09:59.064030Z",
     "iopub.status.idle": "2021-01-05T12:09:59.066887Z",
     "shell.execute_reply": "2021-01-05T12:09:59.067429Z"
    },
    "papermill": {
     "duration": 0.034791,
     "end_time": "2021-01-05T12:09:59.067566",
     "exception": false,
     "start_time": "2021-01-05T12:09:59.032775",
     "status": "completed"
    },
    "tags": []
   },
   "outputs": [],
   "source": [
    "# #hide\n",
    "# fig, ax = plt.subplots(figsize=(15, 8))\n",
    "\n",
    "# def draw_barchart(current_day):\n",
    "#     dff = g[g['day'].eq(current_day)].sort_values(by='value', ascending=True).tail(10)\n",
    "#     ax.clear()\n",
    "#     ax.barh(dff['name'], dff['value'], color=[colors[group_lk[x]] for x in dff['name']])\n",
    "#     dx = dff['value'].max() / 200\n",
    "    \n",
    "#     for i, (value, name) in enumerate(zip(dff['value'], dff['name'])):\n",
    "#         ax.text(value-dx, i,     name,           size=14, weight=600, ha='right', va='bottom')\n",
    "#         ax.text(value-dx, i-.25, group_lk[name], size=10, color='#444444', ha='right', va='baseline')\n",
    "#         ax.text(value+dx, i,     f'{value:,.0f}',  size=14, ha='left',  va='center')\n",
    "#     ax.text(1, 0.4, current_day, transform=ax.transAxes, color='#777777', size=46, ha='right', weight=800)\n",
    "#     ax.text(0, 1.06, 'Population (thousands)', transform=ax.transAxes, size=12, color='#777777')\n",
    "#     ax.xaxis.set_major_formatter(ticker.StrMethodFormatter('{x:,.0f}'))\n",
    "#     ax.xaxis.set_ticks_position('top')\n",
    "#     ax.tick_params(axis='x', colors='#777777', labelsize=12)\n",
    "#     ax.set_yticks([])\n",
    "#     ax.margins(0, 0.01)\n",
    "#     ax.grid(which='major', axis='x', linestyle='-')\n",
    "#     ax.set_axisbelow(True)\n",
    "    \n",
    "#     ax.text(0, 1.15, 'Coronavirus',\n",
    "#             transform=ax.transAxes, size=24, weight=600, ha='left', va='top')\n",
    "# #     ax.text(1, 0, 'by @pratapvardhan; credit @jburnmurdoch', transform=ax.transAxes, color='#777777', ha='right',\n",
    "# #             bbox=dict(facecolor='white', alpha=0.8, edgecolor='white'))\n",
    "#     plt.box(False)"
   ]
  },
  {
   "cell_type": "code",
   "execution_count": 42,
   "metadata": {
    "execution": {
     "iopub.execute_input": "2021-01-05T12:09:59.125802Z",
     "iopub.status.busy": "2021-01-05T12:09:59.125246Z",
     "iopub.status.idle": "2021-01-05T12:09:59.128045Z",
     "shell.execute_reply": "2021-01-05T12:09:59.128609Z"
    },
    "papermill": {
     "duration": 0.033441,
     "end_time": "2021-01-05T12:09:59.128744",
     "exception": false,
     "start_time": "2021-01-05T12:09:59.095303",
     "status": "completed"
    },
    "tags": []
   },
   "outputs": [],
   "source": [
    "# #hide_input\n",
    "# fig, ax = plt.subplots(figsize=(15, 8))\n",
    "# animator = animation.FuncAnimation(fig, draw_barchart, frames=range(g.day.values.min(), g.day.values.max()))\n",
    "# HTML(animator.to_jshtml())\n",
    "# # or use animator.to_html5_video() or animator.save() "
   ]
  },
  {
   "cell_type": "code",
   "execution_count": null,
   "metadata": {
    "papermill": {
     "duration": 0.026355,
     "end_time": "2021-01-05T12:09:59.180831",
     "exception": false,
     "start_time": "2021-01-05T12:09:59.154476",
     "status": "completed"
    },
    "tags": []
   },
   "outputs": [],
   "source": []
  },
  {
   "cell_type": "code",
   "execution_count": null,
   "metadata": {
    "papermill": {
     "duration": 0.026733,
     "end_time": "2021-01-05T12:09:59.232844",
     "exception": false,
     "start_time": "2021-01-05T12:09:59.206111",
     "status": "completed"
    },
    "tags": []
   },
   "outputs": [],
   "source": []
  },
  {
   "cell_type": "code",
   "execution_count": null,
   "metadata": {
    "papermill": {
     "duration": 0.025166,
     "end_time": "2021-01-05T12:09:59.284525",
     "exception": false,
     "start_time": "2021-01-05T12:09:59.259359",
     "status": "completed"
    },
    "tags": []
   },
   "outputs": [],
   "source": []
  }
 ],
 "metadata": {
  "kernelspec": {
   "display_name": "Python 3",
   "language": "python",
   "name": "python3"
  },
  "language_info": {
   "codemirror_mode": {
    "name": "ipython",
    "version": 3
   },
   "file_extension": ".py",
   "mimetype": "text/x-python",
   "name": "python",
   "nbconvert_exporter": "python",
   "pygments_lexer": "ipython3",
   "version": "3.6.12"
  },
  "papermill": {
   "duration": 5.888939,
   "end_time": "2021-01-05T12:09:59.618268",
   "environment_variables": {},
   "exception": null,
   "input_path": "2020-03-21-covid19exp.ipynb",
   "output_path": "2020-03-21-covid19exp.ipynb",
   "parameters": {},
   "start_time": "2021-01-05T12:09:53.729329",
   "version": "2.0.0"
  }
 },
 "nbformat": 4,
 "nbformat_minor": 4
}