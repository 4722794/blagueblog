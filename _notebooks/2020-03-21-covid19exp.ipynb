{
 "cells": [
  {
   "cell_type": "markdown",
   "metadata": {
    "papermill": {
     "duration": 0.032664,
     "end_time": "2021-01-03T12:08:37.600221",
     "exception": false,
     "start_time": "2021-01-03T12:08:37.567557",
     "status": "completed"
    },
    "tags": []
   },
   "source": [
    "# COVID-19 Case Race\n",
    "> A race chart to see rising cases around the world\n",
    "\n",
    "- author: Hargun Oberoi\n",
    "- image: images/covid-overview.png\n",
    "- hide: false\n",
    "- badges: false"
   ]
  },
  {
   "cell_type": "code",
   "execution_count": 1,
   "metadata": {
    "execution": {
     "iopub.execute_input": "2021-01-03T12:08:37.670827Z",
     "iopub.status.busy": "2021-01-03T12:08:37.670137Z",
     "iopub.status.idle": "2021-01-03T12:08:38.007849Z",
     "shell.execute_reply": "2021-01-03T12:08:38.006791Z"
    },
    "papermill": {
     "duration": 0.377621,
     "end_time": "2021-01-03T12:08:38.008019",
     "exception": false,
     "start_time": "2021-01-03T12:08:37.630398",
     "status": "completed"
    },
    "tags": []
   },
   "outputs": [],
   "source": [
    "#hide\n",
    "import numpy as np\n",
    "import pandas as pd\n",
    "from jinja2 import Template\n",
    "from IPython.display import HTML"
   ]
  },
  {
   "cell_type": "code",
   "execution_count": 2,
   "metadata": {
    "execution": {
     "iopub.execute_input": "2021-01-03T12:08:38.073222Z",
     "iopub.status.busy": "2021-01-03T12:08:38.072593Z",
     "iopub.status.idle": "2021-01-03T12:08:38.075204Z",
     "shell.execute_reply": "2021-01-03T12:08:38.074693Z"
    },
    "papermill": {
     "duration": 0.036654,
     "end_time": "2021-01-03T12:08:38.075330",
     "exception": false,
     "start_time": "2021-01-03T12:08:38.038676",
     "status": "completed"
    },
    "tags": []
   },
   "outputs": [],
   "source": [
    "#hide\n",
    "\n",
    "# FETCH\n",
    "base_url = 'https://raw.githubusercontent.com/pratapvardhan/notebooks/master/covid19/'\n",
    "paths = {\n",
    "    'mapping': base_url + 'mapping_countries.csv',\n",
    "    'overview': base_url + 'overview.tpl'\n",
    "}"
   ]
  },
  {
   "cell_type": "code",
   "execution_count": 3,
   "metadata": {
    "execution": {
     "iopub.execute_input": "2021-01-03T12:08:38.144513Z",
     "iopub.status.busy": "2021-01-03T12:08:38.143895Z",
     "iopub.status.idle": "2021-01-03T12:08:38.147683Z",
     "shell.execute_reply": "2021-01-03T12:08:38.147144Z"
    },
    "papermill": {
     "duration": 0.043088,
     "end_time": "2021-01-03T12:08:38.147813",
     "exception": false,
     "start_time": "2021-01-03T12:08:38.104725",
     "status": "completed"
    },
    "tags": []
   },
   "outputs": [
    {
     "data": {
      "text/plain": [
       "'https://raw.githubusercontent.com/pratapvardhan/notebooks/master/covid19/mapping_countries.csv'"
      ]
     },
     "execution_count": 3,
     "metadata": {},
     "output_type": "execute_result"
    }
   ],
   "source": [
    "#hide\n",
    "paths['mapping']"
   ]
  },
  {
   "cell_type": "code",
   "execution_count": 4,
   "metadata": {
    "execution": {
     "iopub.execute_input": "2021-01-03T12:08:38.213358Z",
     "iopub.status.busy": "2021-01-03T12:08:38.212755Z",
     "iopub.status.idle": "2021-01-03T12:08:38.214991Z",
     "shell.execute_reply": "2021-01-03T12:08:38.214492Z"
    },
    "papermill": {
     "duration": 0.037691,
     "end_time": "2021-01-03T12:08:38.215112",
     "exception": false,
     "start_time": "2021-01-03T12:08:38.177421",
     "status": "completed"
    },
    "tags": []
   },
   "outputs": [],
   "source": [
    "#hide\n",
    "def get_mappings(url):\n",
    "    df = pd.read_csv(url)\n",
    "    return {\n",
    "        'df': df,\n",
    "        'replace.country': dict(df.dropna(subset=['Name']).set_index('Country')['Name']),\n",
    "        'map.continent': dict(df.set_index('Name')['Continent'])\n",
    "    }"
   ]
  },
  {
   "cell_type": "code",
   "execution_count": 5,
   "metadata": {
    "execution": {
     "iopub.execute_input": "2021-01-03T12:08:38.279496Z",
     "iopub.status.busy": "2021-01-03T12:08:38.278878Z",
     "iopub.status.idle": "2021-01-03T12:08:38.332196Z",
     "shell.execute_reply": "2021-01-03T12:08:38.331339Z"
    },
    "papermill": {
     "duration": 0.088317,
     "end_time": "2021-01-03T12:08:38.332332",
     "exception": false,
     "start_time": "2021-01-03T12:08:38.244015",
     "status": "completed"
    },
    "tags": []
   },
   "outputs": [],
   "source": [
    "#hide\n",
    "mapping = get_mappings(paths['mapping'])"
   ]
  },
  {
   "cell_type": "code",
   "execution_count": 6,
   "metadata": {
    "execution": {
     "iopub.execute_input": "2021-01-03T12:08:38.397377Z",
     "iopub.status.busy": "2021-01-03T12:08:38.396768Z",
     "iopub.status.idle": "2021-01-03T12:08:38.399162Z",
     "shell.execute_reply": "2021-01-03T12:08:38.399670Z"
    },
    "papermill": {
     "duration": 0.03785,
     "end_time": "2021-01-03T12:08:38.399818",
     "exception": false,
     "start_time": "2021-01-03T12:08:38.361968",
     "status": "completed"
    },
    "tags": []
   },
   "outputs": [],
   "source": [
    "#hide\n",
    "def get_template(path):\n",
    "    from urllib.parse import urlparse\n",
    "    if bool(urlparse(path).netloc):\n",
    "        from urllib.request import urlopen\n",
    "        return urlopen(path).read().decode('utf8')\n",
    "    return open(path).read()"
   ]
  },
  {
   "cell_type": "code",
   "execution_count": 7,
   "metadata": {
    "execution": {
     "iopub.execute_input": "2021-01-03T12:08:38.466025Z",
     "iopub.status.busy": "2021-01-03T12:08:38.465392Z",
     "iopub.status.idle": "2021-01-03T12:08:38.467767Z",
     "shell.execute_reply": "2021-01-03T12:08:38.467235Z"
    },
    "papermill": {
     "duration": 0.038447,
     "end_time": "2021-01-03T12:08:38.467896",
     "exception": false,
     "start_time": "2021-01-03T12:08:38.429449",
     "status": "completed"
    },
    "tags": []
   },
   "outputs": [],
   "source": [
    "#hide\n",
    "def get_frame(name):\n",
    "    url = (\n",
    "        'https://raw.githubusercontent.com/CSSEGISandData/COVID-19/master/csse_covid_19_data/'\n",
    "        f'csse_covid_19_time_series/time_series_covid19_{name}_global.csv')\n",
    "    df = pd.read_csv(url)\n",
    "    # rename countries\n",
    "    df['Country/Region'] = df['Country/Region'].replace(mapping['replace.country'])\n",
    "    return df"
   ]
  },
  {
   "cell_type": "code",
   "execution_count": 8,
   "metadata": {
    "execution": {
     "iopub.execute_input": "2021-01-03T12:08:38.537724Z",
     "iopub.status.busy": "2021-01-03T12:08:38.537109Z",
     "iopub.status.idle": "2021-01-03T12:08:38.540774Z",
     "shell.execute_reply": "2021-01-03T12:08:38.540297Z"
    },
    "papermill": {
     "duration": 0.041848,
     "end_time": "2021-01-03T12:08:38.540898",
     "exception": false,
     "start_time": "2021-01-03T12:08:38.499050",
     "status": "completed"
    },
    "tags": []
   },
   "outputs": [],
   "source": [
    "#hide\n",
    "def get_dates(df):\n",
    "    dt_cols = df.columns[~df.columns.isin(['Province/State', 'Country/Region', 'Lat', 'Long'])]\n",
    "    LAST_DATE_I = -1\n",
    "    # sometimes last column may be empty, then go backwards\n",
    "    for i in range(-1, -len(dt_cols), -1):\n",
    "        if not df[dt_cols[i]].fillna(0).eq(0).all():\n",
    "            LAST_DATE_I = i\n",
    "            break\n",
    "    return LAST_DATE_I, dt_cols"
   ]
  },
  {
   "cell_type": "code",
   "execution_count": 9,
   "metadata": {
    "execution": {
     "iopub.execute_input": "2021-01-03T12:08:38.606978Z",
     "iopub.status.busy": "2021-01-03T12:08:38.606367Z",
     "iopub.status.idle": "2021-01-03T12:08:38.979917Z",
     "shell.execute_reply": "2021-01-03T12:08:38.978792Z"
    },
    "papermill": {
     "duration": 0.408537,
     "end_time": "2021-01-03T12:08:38.980140",
     "exception": false,
     "start_time": "2021-01-03T12:08:38.571603",
     "status": "completed"
    },
    "tags": []
   },
   "outputs": [],
   "source": [
    "#hide\n",
    "COL_REGION = 'Country/Region'\n",
    "# Confirmed, Recovered, Deaths\n",
    "df = get_frame('confirmed')\n",
    "# dft_: timeseries, dfc_: today country agg\n",
    "dft_cases = df\n",
    "dft_deaths = get_frame('deaths')\n",
    "dft_recovered = get_frame('recovered')\n",
    "LAST_DATE_I, dt_cols = get_dates(df)"
   ]
  },
  {
   "cell_type": "code",
   "execution_count": 10,
   "metadata": {
    "execution": {
     "iopub.execute_input": "2021-01-03T12:08:39.059515Z",
     "iopub.status.busy": "2021-01-03T12:08:39.055667Z",
     "iopub.status.idle": "2021-01-03T12:08:39.062167Z",
     "shell.execute_reply": "2021-01-03T12:08:39.062734Z"
    },
    "papermill": {
     "duration": 0.042014,
     "end_time": "2021-01-03T12:08:39.062887",
     "exception": false,
     "start_time": "2021-01-03T12:08:39.020873",
     "status": "completed"
    },
    "tags": []
   },
   "outputs": [],
   "source": [
    "#hide\n",
    "LAST_DATE_I, dt_cols = get_dates(df)\n",
    "dt_today =dt_cols[LAST_DATE_I]\n",
    "# dt_5day = dt_cols[LAST_DATE_I - 5]\n",
    "dt_yday = dt_cols[LAST_DATE_I - 1]"
   ]
  },
  {
   "cell_type": "code",
   "execution_count": 11,
   "metadata": {
    "execution": {
     "iopub.execute_input": "2021-01-03T12:08:39.130981Z",
     "iopub.status.busy": "2021-01-03T12:08:39.130383Z",
     "iopub.status.idle": "2021-01-03T12:08:39.137262Z",
     "shell.execute_reply": "2021-01-03T12:08:39.136780Z"
    },
    "papermill": {
     "duration": 0.045232,
     "end_time": "2021-01-03T12:08:39.137379",
     "exception": false,
     "start_time": "2021-01-03T12:08:39.092147",
     "status": "completed"
    },
    "tags": []
   },
   "outputs": [],
   "source": [
    "#hide\n",
    "dfc_cases = dft_cases.groupby(COL_REGION)[dt_today].sum()\n",
    "dfc_deaths = dft_deaths.groupby(COL_REGION)[dt_today].sum()\n",
    "# dfp_cases = dft_cases.groupby(COL_REGION)[dt_5day].sum()\n",
    "# dfp_deaths = dft_deaths.groupby(COL_REGION)[dt_5day].sum()\n",
    "dfp_cases = dft_cases.groupby(COL_REGION)[dt_yday].sum()\n",
    "dfp_deaths = dft_deaths.groupby(COL_REGION)[dt_yday].sum()"
   ]
  },
  {
   "cell_type": "code",
   "execution_count": 12,
   "metadata": {
    "execution": {
     "iopub.execute_input": "2021-01-03T12:08:39.205176Z",
     "iopub.status.busy": "2021-01-03T12:08:39.204576Z",
     "iopub.status.idle": "2021-01-03T12:08:39.209855Z",
     "shell.execute_reply": "2021-01-03T12:08:39.209245Z"
    },
    "papermill": {
     "duration": 0.042343,
     "end_time": "2021-01-03T12:08:39.209987",
     "exception": false,
     "start_time": "2021-01-03T12:08:39.167644",
     "status": "completed"
    },
    "tags": []
   },
   "outputs": [],
   "source": [
    "#hide\n",
    "df_table = (pd.DataFrame(dict(Cases = dfc_cases, Deaths = dfc_deaths, PCases = dfp_cases, PDeaths = dfp_deaths))\n",
    "            .sort_values(by = ['Cases','Deaths'], ascending = [False, False])\n",
    "            .reset_index())"
   ]
  },
  {
   "cell_type": "code",
   "execution_count": 13,
   "metadata": {
    "execution": {
     "iopub.execute_input": "2021-01-03T12:08:39.279086Z",
     "iopub.status.busy": "2021-01-03T12:08:39.278182Z",
     "iopub.status.idle": "2021-01-03T12:08:39.299936Z",
     "shell.execute_reply": "2021-01-03T12:08:39.300631Z"
    },
    "papermill": {
     "duration": 0.059774,
     "end_time": "2021-01-03T12:08:39.300812",
     "exception": false,
     "start_time": "2021-01-03T12:08:39.241038",
     "status": "completed"
    },
    "tags": []
   },
   "outputs": [
    {
     "data": {
      "text/html": [
       "<div>\n",
       "<style scoped>\n",
       "    .dataframe tbody tr th:only-of-type {\n",
       "        vertical-align: middle;\n",
       "    }\n",
       "\n",
       "    .dataframe tbody tr th {\n",
       "        vertical-align: top;\n",
       "    }\n",
       "\n",
       "    .dataframe thead th {\n",
       "        text-align: right;\n",
       "    }\n",
       "</style>\n",
       "<table border=\"1\" class=\"dataframe\">\n",
       "  <thead>\n",
       "    <tr style=\"text-align: right;\">\n",
       "      <th></th>\n",
       "      <th>Country/Region</th>\n",
       "      <th>Cases</th>\n",
       "      <th>Deaths</th>\n",
       "      <th>PCases</th>\n",
       "      <th>PDeaths</th>\n",
       "      <th>Cases (+)</th>\n",
       "      <th>Deaths (+)</th>\n",
       "      <th>Fatality Rate</th>\n",
       "      <th>Continent</th>\n",
       "    </tr>\n",
       "  </thead>\n",
       "  <tbody>\n",
       "    <tr>\n",
       "      <th>0</th>\n",
       "      <td>US</td>\n",
       "      <td>20427780</td>\n",
       "      <td>350186</td>\n",
       "      <td>20128693</td>\n",
       "      <td>347788</td>\n",
       "      <td>299087</td>\n",
       "      <td>2398</td>\n",
       "      <td>1.71</td>\n",
       "      <td>North America</td>\n",
       "    </tr>\n",
       "    <tr>\n",
       "      <th>1</th>\n",
       "      <td>India</td>\n",
       "      <td>10323965</td>\n",
       "      <td>149435</td>\n",
       "      <td>10286709</td>\n",
       "      <td>148994</td>\n",
       "      <td>37256</td>\n",
       "      <td>441</td>\n",
       "      <td>1.45</td>\n",
       "      <td>Asia</td>\n",
       "    </tr>\n",
       "    <tr>\n",
       "      <th>2</th>\n",
       "      <td>Brazil</td>\n",
       "      <td>7716405</td>\n",
       "      <td>195725</td>\n",
       "      <td>7700578</td>\n",
       "      <td>195411</td>\n",
       "      <td>15827</td>\n",
       "      <td>314</td>\n",
       "      <td>2.54</td>\n",
       "      <td>South America</td>\n",
       "    </tr>\n",
       "    <tr>\n",
       "      <th>3</th>\n",
       "      <td>Russia</td>\n",
       "      <td>3179898</td>\n",
       "      <td>57235</td>\n",
       "      <td>3153960</td>\n",
       "      <td>56798</td>\n",
       "      <td>25938</td>\n",
       "      <td>437</td>\n",
       "      <td>1.80</td>\n",
       "      <td>Europe</td>\n",
       "    </tr>\n",
       "    <tr>\n",
       "      <th>4</th>\n",
       "      <td>France</td>\n",
       "      <td>2700480</td>\n",
       "      <td>65048</td>\n",
       "      <td>2697014</td>\n",
       "      <td>64892</td>\n",
       "      <td>3466</td>\n",
       "      <td>156</td>\n",
       "      <td>2.41</td>\n",
       "      <td>Europe</td>\n",
       "    </tr>\n",
       "  </tbody>\n",
       "</table>\n",
       "</div>"
      ],
      "text/plain": [
       "  Country/Region     Cases  Deaths    PCases  PDeaths  Cases (+)  Deaths (+)  \\\n",
       "0             US  20427780  350186  20128693   347788     299087        2398   \n",
       "1          India  10323965  149435  10286709   148994      37256         441   \n",
       "2         Brazil   7716405  195725   7700578   195411      15827         314   \n",
       "3         Russia   3179898   57235   3153960    56798      25938         437   \n",
       "4         France   2700480   65048   2697014    64892       3466         156   \n",
       "\n",
       "   Fatality Rate      Continent  \n",
       "0           1.71  North America  \n",
       "1           1.45           Asia  \n",
       "2           2.54  South America  \n",
       "3           1.80         Europe  \n",
       "4           2.41         Europe  "
      ]
     },
     "execution_count": 13,
     "metadata": {},
     "output_type": "execute_result"
    }
   ],
   "source": [
    "#hide\n",
    "for c in 'Cases, Deaths'.split(', '):\n",
    "    df_table[f'{c} (+)'] = (df_table[c] - df_table[f'P{c}']).clip(0)\n",
    "    #Clip ça veut dire, les chiffres negatif sont interdit\n",
    "df_table['Fatality Rate'] = (100* df_table['Deaths']/ df_table['Cases']).round(2)\n",
    "df_table['Continent'] = df_table['Country/Region'].map(mapping['map.continent'])\n",
    "df_table.head(5)"
   ]
  },
  {
   "cell_type": "code",
   "execution_count": 14,
   "metadata": {
    "execution": {
     "iopub.execute_input": "2021-01-03T12:08:39.372421Z",
     "iopub.status.busy": "2021-01-03T12:08:39.371795Z",
     "iopub.status.idle": "2021-01-03T12:08:39.373562Z",
     "shell.execute_reply": "2021-01-03T12:08:39.374065Z"
    },
    "papermill": {
     "duration": 0.03996,
     "end_time": "2021-01-03T12:08:39.374209",
     "exception": false,
     "start_time": "2021-01-03T12:08:39.334249",
     "status": "completed"
    },
    "tags": []
   },
   "outputs": [],
   "source": [
    "#hide\n",
    "#delete problematic countries from table\n",
    "df_table = df_table[~df_table['Country/Region'].isin(['Cape Verde', 'Cruise Ship', 'Kosovo'])]"
   ]
  },
  {
   "cell_type": "code",
   "execution_count": 15,
   "metadata": {
    "execution": {
     "iopub.execute_input": "2021-01-03T12:08:39.444399Z",
     "iopub.status.busy": "2021-01-03T12:08:39.443488Z",
     "iopub.status.idle": "2021-01-03T12:08:39.461697Z",
     "shell.execute_reply": "2021-01-03T12:08:39.462388Z"
    },
    "papermill": {
     "duration": 0.05793,
     "end_time": "2021-01-03T12:08:39.462580",
     "exception": false,
     "start_time": "2021-01-03T12:08:39.404650",
     "status": "completed"
    },
    "tags": []
   },
   "outputs": [
    {
     "data": {
      "text/html": [
       "<div>\n",
       "<style scoped>\n",
       "    .dataframe tbody tr th:only-of-type {\n",
       "        vertical-align: middle;\n",
       "    }\n",
       "\n",
       "    .dataframe tbody tr th {\n",
       "        vertical-align: top;\n",
       "    }\n",
       "\n",
       "    .dataframe thead th {\n",
       "        text-align: right;\n",
       "    }\n",
       "</style>\n",
       "<table border=\"1\" class=\"dataframe\">\n",
       "  <thead>\n",
       "    <tr style=\"text-align: right;\">\n",
       "      <th></th>\n",
       "      <th>Country/Region</th>\n",
       "      <th>Cases</th>\n",
       "      <th>Deaths</th>\n",
       "      <th>PCases</th>\n",
       "      <th>PDeaths</th>\n",
       "      <th>Cases (+)</th>\n",
       "      <th>Deaths (+)</th>\n",
       "      <th>Fatality Rate</th>\n",
       "      <th>Continent</th>\n",
       "    </tr>\n",
       "  </thead>\n",
       "  <tbody>\n",
       "    <tr>\n",
       "      <th>0</th>\n",
       "      <td>US</td>\n",
       "      <td>20427780</td>\n",
       "      <td>350186</td>\n",
       "      <td>20128693</td>\n",
       "      <td>347788</td>\n",
       "      <td>299087</td>\n",
       "      <td>2398</td>\n",
       "      <td>1.7</td>\n",
       "      <td>North America</td>\n",
       "    </tr>\n",
       "    <tr>\n",
       "      <th>1</th>\n",
       "      <td>India</td>\n",
       "      <td>10323965</td>\n",
       "      <td>149435</td>\n",
       "      <td>10286709</td>\n",
       "      <td>148994</td>\n",
       "      <td>37256</td>\n",
       "      <td>441</td>\n",
       "      <td>1.4</td>\n",
       "      <td>Asia</td>\n",
       "    </tr>\n",
       "    <tr>\n",
       "      <th>2</th>\n",
       "      <td>Brazil</td>\n",
       "      <td>7716405</td>\n",
       "      <td>195725</td>\n",
       "      <td>7700578</td>\n",
       "      <td>195411</td>\n",
       "      <td>15827</td>\n",
       "      <td>314</td>\n",
       "      <td>2.5</td>\n",
       "      <td>South America</td>\n",
       "    </tr>\n",
       "    <tr>\n",
       "      <th>3</th>\n",
       "      <td>Russia</td>\n",
       "      <td>3179898</td>\n",
       "      <td>57235</td>\n",
       "      <td>3153960</td>\n",
       "      <td>56798</td>\n",
       "      <td>25938</td>\n",
       "      <td>437</td>\n",
       "      <td>1.8</td>\n",
       "      <td>Europe</td>\n",
       "    </tr>\n",
       "    <tr>\n",
       "      <th>4</th>\n",
       "      <td>France</td>\n",
       "      <td>2700480</td>\n",
       "      <td>65048</td>\n",
       "      <td>2697014</td>\n",
       "      <td>64892</td>\n",
       "      <td>3466</td>\n",
       "      <td>156</td>\n",
       "      <td>2.4</td>\n",
       "      <td>Europe</td>\n",
       "    </tr>\n",
       "  </tbody>\n",
       "</table>\n",
       "</div>"
      ],
      "text/plain": [
       "  Country/Region     Cases  Deaths    PCases  PDeaths  Cases (+)  Deaths (+)  \\\n",
       "0             US  20427780  350186  20128693   347788     299087        2398   \n",
       "1          India  10323965  149435  10286709   148994      37256         441   \n",
       "2         Brazil   7716405  195725   7700578   195411      15827         314   \n",
       "3         Russia   3179898   57235   3153960    56798      25938         437   \n",
       "4         France   2700480   65048   2697014    64892       3466         156   \n",
       "\n",
       "   Fatality Rate      Continent  \n",
       "0            1.7  North America  \n",
       "1            1.4           Asia  \n",
       "2            2.5  South America  \n",
       "3            1.8         Europe  \n",
       "4            2.4         Europe  "
      ]
     },
     "execution_count": 15,
     "metadata": {},
     "output_type": "execute_result"
    }
   ],
   "source": [
    "#hide\n",
    "df_table = (pd.DataFrame(dict(Cases=dfc_cases, Deaths=dfc_deaths, PCases=dfp_cases, PDeaths=dfp_deaths))\n",
    "             .sort_values(by=['Cases', 'Deaths'], ascending=[False, False])\n",
    "             .reset_index())\n",
    "df_table.rename(columns={'index': 'Country/Region'}, inplace=True)\n",
    "for c in 'Cases, Deaths'.split(', '):\n",
    "    df_table[f'{c} (+)'] = (df_table[c] - df_table[f'P{c}']).clip(0)  # DATA BUG\n",
    "df_table['Fatality Rate'] = (100 * df_table['Deaths'] / df_table['Cases']).round(1)\n",
    "df_table['Continent'] = df_table['Country/Region'].map(mapping['map.continent'])\n",
    "df_table.head(5)"
   ]
  },
  {
   "cell_type": "code",
   "execution_count": 16,
   "metadata": {
    "execution": {
     "iopub.execute_input": "2021-01-03T12:08:39.533953Z",
     "iopub.status.busy": "2021-01-03T12:08:39.533363Z",
     "iopub.status.idle": "2021-01-03T12:08:39.537447Z",
     "shell.execute_reply": "2021-01-03T12:08:39.536897Z"
    },
    "papermill": {
     "duration": 0.041837,
     "end_time": "2021-01-03T12:08:39.537587",
     "exception": false,
     "start_time": "2021-01-03T12:08:39.495750",
     "status": "completed"
    },
    "tags": []
   },
   "outputs": [],
   "source": [
    "#hide\n",
    "#delete problematic countries from table\n",
    "df_table = df_table[~df_table['Country/Region'].isin(['Cape Verde', 'Cruise Ship', 'Kosovo'])]"
   ]
  },
  {
   "cell_type": "code",
   "execution_count": 17,
   "metadata": {
    "execution": {
     "iopub.execute_input": "2021-01-03T12:08:39.620957Z",
     "iopub.status.busy": "2021-01-03T12:08:39.620362Z",
     "iopub.status.idle": "2021-01-03T12:08:39.622758Z",
     "shell.execute_reply": "2021-01-03T12:08:39.622249Z"
    },
    "papermill": {
     "duration": 0.052278,
     "end_time": "2021-01-03T12:08:39.622877",
     "exception": false,
     "start_time": "2021-01-03T12:08:39.570599",
     "status": "completed"
    },
    "tags": []
   },
   "outputs": [],
   "source": [
    "#hide\n",
    "metrics = [df_table.columns[index] for index in [1,2,5,6]]\n",
    "# s_china = df_table[df_table['Country/Region'].eq('China')][metrics].sum().add_prefix('China ')\n",
    "s_us = df_table[df_table['Country/Region'].eq('US')][metrics].sum().add_prefix('US ')\n",
    "s_eu = df_table[df_table['Continent'].eq('Europe')][metrics].sum().add_prefix('EU ')\n",
    "s_ind = df_table[df_table['Country/Region'].eq('India')][metrics].sum().add_prefix('India ')\n",
    "summary = {'updated': pd.to_datetime(dt_today), 'since': pd.to_datetime(dt_yday)}\n",
    "summary = {'updated': pd.to_datetime(dt_today), 'since': pd.to_datetime(dt_yday)}\n",
    "summary = {**summary, **df_table[metrics].sum(), **s_ind, **s_us, **s_eu}"
   ]
  },
  {
   "cell_type": "code",
   "execution_count": 18,
   "metadata": {
    "execution": {
     "iopub.execute_input": "2021-01-03T12:08:39.697159Z",
     "iopub.status.busy": "2021-01-03T12:08:39.696416Z",
     "iopub.status.idle": "2021-01-03T12:08:39.705246Z",
     "shell.execute_reply": "2021-01-03T12:08:39.705696Z"
    },
    "papermill": {
     "duration": 0.052132,
     "end_time": "2021-01-03T12:08:39.705856",
     "exception": false,
     "start_time": "2021-01-03T12:08:39.653724",
     "status": "completed"
    },
    "tags": []
   },
   "outputs": [],
   "source": [
    "#hide\n",
    "dft_ct_new_cases = dft_cases.groupby(COL_REGION)[dt_cols].sum().diff(axis=1).fillna(0).astype(int)"
   ]
  },
  {
   "cell_type": "code",
   "execution_count": 19,
   "metadata": {
    "execution": {
     "iopub.execute_input": "2021-01-03T12:08:39.774954Z",
     "iopub.status.busy": "2021-01-03T12:08:39.774399Z",
     "iopub.status.idle": "2021-01-03T12:08:39.776711Z",
     "shell.execute_reply": "2021-01-03T12:08:39.776104Z"
    },
    "papermill": {
     "duration": 0.04034,
     "end_time": "2021-01-03T12:08:39.776838",
     "exception": false,
     "start_time": "2021-01-03T12:08:39.736498",
     "status": "completed"
    },
    "tags": []
   },
   "outputs": [],
   "source": [
    "#hide\n",
    "everydaycases = dft_ct_new_cases.cumsum(axis=1)"
   ]
  },
  {
   "cell_type": "code",
   "execution_count": 20,
   "metadata": {
    "execution": {
     "iopub.execute_input": "2021-01-03T12:08:39.846463Z",
     "iopub.status.busy": "2021-01-03T12:08:39.845749Z",
     "iopub.status.idle": "2021-01-03T12:08:40.897885Z",
     "shell.execute_reply": "2021-01-03T12:08:40.897339Z"
    },
    "papermill": {
     "duration": 1.089173,
     "end_time": "2021-01-03T12:08:40.898028",
     "exception": false,
     "start_time": "2021-01-03T12:08:39.808855",
     "status": "completed"
    },
    "tags": []
   },
   "outputs": [],
   "source": [
    "#hide\n",
    "import pandas as pd\n",
    "import matplotlib.pyplot as plt\n",
    "import matplotlib.ticker as ticker\n",
    "import matplotlib.animation as animation\n",
    "from IPython.display import HTML"
   ]
  },
  {
   "cell_type": "code",
   "execution_count": 21,
   "metadata": {
    "execution": {
     "iopub.execute_input": "2021-01-03T12:08:40.966795Z",
     "iopub.status.busy": "2021-01-03T12:08:40.966159Z",
     "iopub.status.idle": "2021-01-03T12:08:40.971279Z",
     "shell.execute_reply": "2021-01-03T12:08:40.971870Z"
    },
    "papermill": {
     "duration": 0.042281,
     "end_time": "2021-01-03T12:08:40.972023",
     "exception": false,
     "start_time": "2021-01-03T12:08:40.929742",
     "status": "completed"
    },
    "tags": []
   },
   "outputs": [],
   "source": [
    "#hide\n",
    "t = everydaycases.stack()"
   ]
  },
  {
   "cell_type": "code",
   "execution_count": 22,
   "metadata": {
    "execution": {
     "iopub.execute_input": "2021-01-03T12:08:41.038822Z",
     "iopub.status.busy": "2021-01-03T12:08:41.038200Z",
     "iopub.status.idle": "2021-01-03T12:08:41.045122Z",
     "shell.execute_reply": "2021-01-03T12:08:41.044632Z"
    },
    "papermill": {
     "duration": 0.042159,
     "end_time": "2021-01-03T12:08:41.045256",
     "exception": false,
     "start_time": "2021-01-03T12:08:41.003097",
     "status": "completed"
    },
    "tags": []
   },
   "outputs": [],
   "source": [
    "#hide\n",
    "g = t.reset_index(['Country/Region'])"
   ]
  },
  {
   "cell_type": "code",
   "execution_count": 23,
   "metadata": {
    "execution": {
     "iopub.execute_input": "2021-01-03T12:08:41.112093Z",
     "iopub.status.busy": "2021-01-03T12:08:41.111491Z",
     "iopub.status.idle": "2021-01-03T12:08:41.113803Z",
     "shell.execute_reply": "2021-01-03T12:08:41.113302Z"
    },
    "papermill": {
     "duration": 0.037358,
     "end_time": "2021-01-03T12:08:41.113928",
     "exception": false,
     "start_time": "2021-01-03T12:08:41.076570",
     "status": "completed"
    },
    "tags": []
   },
   "outputs": [],
   "source": [
    "#hide\n",
    "g.index.name = 'date'"
   ]
  },
  {
   "cell_type": "code",
   "execution_count": 24,
   "metadata": {
    "execution": {
     "iopub.execute_input": "2021-01-03T12:08:41.181612Z",
     "iopub.status.busy": "2021-01-03T12:08:41.181016Z",
     "iopub.status.idle": "2021-01-03T12:08:41.183439Z",
     "shell.execute_reply": "2021-01-03T12:08:41.182906Z"
    },
    "papermill": {
     "duration": 0.037419,
     "end_time": "2021-01-03T12:08:41.183566",
     "exception": false,
     "start_time": "2021-01-03T12:08:41.146147",
     "status": "completed"
    },
    "tags": []
   },
   "outputs": [],
   "source": [
    "# #hide\n",
    "# g = g.reset_index(['date'])"
   ]
  },
  {
   "cell_type": "code",
   "execution_count": 25,
   "metadata": {
    "execution": {
     "iopub.execute_input": "2021-01-03T12:08:41.251093Z",
     "iopub.status.busy": "2021-01-03T12:08:41.250473Z",
     "iopub.status.idle": "2021-01-03T12:08:41.253024Z",
     "shell.execute_reply": "2021-01-03T12:08:41.252545Z"
    },
    "papermill": {
     "duration": 0.038105,
     "end_time": "2021-01-03T12:08:41.253150",
     "exception": false,
     "start_time": "2021-01-03T12:08:41.215045",
     "status": "completed"
    },
    "tags": []
   },
   "outputs": [],
   "source": [
    "#hide\n",
    "# g.head()"
   ]
  },
  {
   "cell_type": "code",
   "execution_count": 26,
   "metadata": {
    "execution": {
     "iopub.execute_input": "2021-01-03T12:08:41.324610Z",
     "iopub.status.busy": "2021-01-03T12:08:41.324014Z",
     "iopub.status.idle": "2021-01-03T12:08:41.326371Z",
     "shell.execute_reply": "2021-01-03T12:08:41.326931Z"
    },
    "papermill": {
     "duration": 0.039161,
     "end_time": "2021-01-03T12:08:41.327074",
     "exception": false,
     "start_time": "2021-01-03T12:08:41.287913",
     "status": "completed"
    },
    "tags": []
   },
   "outputs": [],
   "source": [
    "#hide\n",
    "# g.columns = ['date','country','cases']"
   ]
  },
  {
   "cell_type": "code",
   "execution_count": 27,
   "metadata": {
    "execution": {
     "iopub.execute_input": "2021-01-03T12:08:41.394988Z",
     "iopub.status.busy": "2021-01-03T12:08:41.394392Z",
     "iopub.status.idle": "2021-01-03T12:08:41.396854Z",
     "shell.execute_reply": "2021-01-03T12:08:41.397513Z"
    },
    "papermill": {
     "duration": 0.038697,
     "end_time": "2021-01-03T12:08:41.397658",
     "exception": false,
     "start_time": "2021-01-03T12:08:41.358961",
     "status": "completed"
    },
    "tags": []
   },
   "outputs": [],
   "source": [
    "#hide\n",
    "# g['continent'] = g.country"
   ]
  },
  {
   "cell_type": "code",
   "execution_count": 28,
   "metadata": {
    "execution": {
     "iopub.execute_input": "2021-01-03T12:08:41.465594Z",
     "iopub.status.busy": "2021-01-03T12:08:41.464563Z",
     "iopub.status.idle": "2021-01-03T12:08:41.466670Z",
     "shell.execute_reply": "2021-01-03T12:08:41.467542Z"
    },
    "papermill": {
     "duration": 0.038904,
     "end_time": "2021-01-03T12:08:41.467775",
     "exception": false,
     "start_time": "2021-01-03T12:08:41.428871",
     "status": "completed"
    },
    "tags": []
   },
   "outputs": [],
   "source": [
    "#hide\n",
    "# cols = list(g.columns.values)"
   ]
  },
  {
   "cell_type": "code",
   "execution_count": 29,
   "metadata": {
    "execution": {
     "iopub.execute_input": "2021-01-03T12:08:41.534065Z",
     "iopub.status.busy": "2021-01-03T12:08:41.533464Z",
     "iopub.status.idle": "2021-01-03T12:08:41.535748Z",
     "shell.execute_reply": "2021-01-03T12:08:41.535187Z"
    },
    "papermill": {
     "duration": 0.036605,
     "end_time": "2021-01-03T12:08:41.535913",
     "exception": false,
     "start_time": "2021-01-03T12:08:41.499308",
     "status": "completed"
    },
    "tags": []
   },
   "outputs": [],
   "source": [
    "#hide\n",
    "# cols.insert(0, cols.pop())"
   ]
  },
  {
   "cell_type": "code",
   "execution_count": 30,
   "metadata": {
    "execution": {
     "iopub.execute_input": "2021-01-03T12:08:41.599469Z",
     "iopub.status.busy": "2021-01-03T12:08:41.598828Z",
     "iopub.status.idle": "2021-01-03T12:08:41.601238Z",
     "shell.execute_reply": "2021-01-03T12:08:41.601800Z"
    },
    "papermill": {
     "duration": 0.036317,
     "end_time": "2021-01-03T12:08:41.601935",
     "exception": false,
     "start_time": "2021-01-03T12:08:41.565618",
     "status": "completed"
    },
    "tags": []
   },
   "outputs": [],
   "source": [
    "#hide\n",
    "# g = g[cols]"
   ]
  },
  {
   "cell_type": "code",
   "execution_count": 31,
   "metadata": {
    "execution": {
     "iopub.execute_input": "2021-01-03T12:08:41.666569Z",
     "iopub.status.busy": "2021-01-03T12:08:41.665956Z",
     "iopub.status.idle": "2021-01-03T12:08:41.668321Z",
     "shell.execute_reply": "2021-01-03T12:08:41.667843Z"
    },
    "papermill": {
     "duration": 0.036541,
     "end_time": "2021-01-03T12:08:41.668447",
     "exception": false,
     "start_time": "2021-01-03T12:08:41.631906",
     "status": "completed"
    },
    "tags": []
   },
   "outputs": [],
   "source": [
    "#hide\n",
    "# g['continent'] = g['continent'].map(mapping['map.continent'])"
   ]
  },
  {
   "cell_type": "code",
   "execution_count": 32,
   "metadata": {
    "execution": {
     "iopub.execute_input": "2021-01-03T12:08:41.735114Z",
     "iopub.status.busy": "2021-01-03T12:08:41.734511Z",
     "iopub.status.idle": "2021-01-03T12:08:41.737105Z",
     "shell.execute_reply": "2021-01-03T12:08:41.736599Z"
    },
    "papermill": {
     "duration": 0.037996,
     "end_time": "2021-01-03T12:08:41.737229",
     "exception": false,
     "start_time": "2021-01-03T12:08:41.699233",
     "status": "completed"
    },
    "tags": []
   },
   "outputs": [],
   "source": [
    "#hide\n",
    "# g.head()"
   ]
  },
  {
   "cell_type": "code",
   "execution_count": 33,
   "metadata": {
    "execution": {
     "iopub.execute_input": "2021-01-03T12:08:41.813116Z",
     "iopub.status.busy": "2021-01-03T12:08:41.812511Z",
     "iopub.status.idle": "2021-01-03T12:08:41.815079Z",
     "shell.execute_reply": "2021-01-03T12:08:41.815883Z"
    },
    "papermill": {
     "duration": 0.046964,
     "end_time": "2021-01-03T12:08:41.816084",
     "exception": false,
     "start_time": "2021-01-03T12:08:41.769120",
     "status": "completed"
    },
    "tags": []
   },
   "outputs": [],
   "source": [
    "# hide\n",
    "# g['date'] = g['date'].astype('datetime64[ns]')"
   ]
  },
  {
   "cell_type": "code",
   "execution_count": 34,
   "metadata": {
    "execution": {
     "iopub.execute_input": "2021-01-03T12:08:42.436209Z",
     "iopub.status.busy": "2021-01-03T12:08:42.435572Z",
     "iopub.status.idle": "2021-01-03T12:08:42.437926Z",
     "shell.execute_reply": "2021-01-03T12:08:42.438432Z"
    },
    "papermill": {
     "duration": 0.040462,
     "end_time": "2021-01-03T12:08:42.438578",
     "exception": false,
     "start_time": "2021-01-03T12:08:42.398116",
     "status": "completed"
    },
    "tags": []
   },
   "outputs": [],
   "source": [
    "#hide\n",
    "# g['date'] = g.date.dt.dayofyear"
   ]
  },
  {
   "cell_type": "code",
   "execution_count": 35,
   "metadata": {
    "execution": {
     "iopub.execute_input": "2021-01-03T12:08:42.505505Z",
     "iopub.status.busy": "2021-01-03T12:08:42.504440Z",
     "iopub.status.idle": "2021-01-03T12:08:42.506771Z",
     "shell.execute_reply": "2021-01-03T12:08:42.507651Z"
    },
    "papermill": {
     "duration": 0.038824,
     "end_time": "2021-01-03T12:08:42.507891",
     "exception": false,
     "start_time": "2021-01-03T12:08:42.469067",
     "status": "completed"
    },
    "tags": []
   },
   "outputs": [],
   "source": [
    "#hide\n",
    "# g = g.rename(columns= {'continent':'group','country':'name','cases':'value'})"
   ]
  },
  {
   "cell_type": "code",
   "execution_count": 36,
   "metadata": {
    "execution": {
     "iopub.execute_input": "2021-01-03T12:08:42.580194Z",
     "iopub.status.busy": "2021-01-03T12:08:42.579572Z",
     "iopub.status.idle": "2021-01-03T12:08:42.580818Z",
     "shell.execute_reply": "2021-01-03T12:08:42.581281Z"
    },
    "papermill": {
     "duration": 0.040928,
     "end_time": "2021-01-03T12:08:42.581430",
     "exception": false,
     "start_time": "2021-01-03T12:08:42.540502",
     "status": "completed"
    },
    "tags": []
   },
   "outputs": [],
   "source": [
    "#hide\n",
    "# cols = ['name','group','day','value']"
   ]
  },
  {
   "cell_type": "code",
   "execution_count": 37,
   "metadata": {
    "execution": {
     "iopub.execute_input": "2021-01-03T12:08:42.648858Z",
     "iopub.status.busy": "2021-01-03T12:08:42.647988Z",
     "iopub.status.idle": "2021-01-03T12:08:42.649763Z",
     "shell.execute_reply": "2021-01-03T12:08:42.650436Z"
    },
    "papermill": {
     "duration": 0.038555,
     "end_time": "2021-01-03T12:08:42.650640",
     "exception": false,
     "start_time": "2021-01-03T12:08:42.612085",
     "status": "completed"
    },
    "tags": []
   },
   "outputs": [],
   "source": [
    "#hide\n",
    "# g.rename(columns= {'date':'day'},inplace = True)"
   ]
  },
  {
   "cell_type": "code",
   "execution_count": 38,
   "metadata": {
    "execution": {
     "iopub.execute_input": "2021-01-03T12:08:42.717830Z",
     "iopub.status.busy": "2021-01-03T12:08:42.716753Z",
     "iopub.status.idle": "2021-01-03T12:08:42.718935Z",
     "shell.execute_reply": "2021-01-03T12:08:42.719814Z"
    },
    "papermill": {
     "duration": 0.038855,
     "end_time": "2021-01-03T12:08:42.720055",
     "exception": false,
     "start_time": "2021-01-03T12:08:42.681200",
     "status": "completed"
    },
    "tags": []
   },
   "outputs": [],
   "source": [
    "#hide\n",
    "# g = g[cols]"
   ]
  },
  {
   "cell_type": "code",
   "execution_count": 39,
   "metadata": {
    "execution": {
     "iopub.execute_input": "2021-01-03T12:08:42.792217Z",
     "iopub.status.busy": "2021-01-03T12:08:42.791601Z",
     "iopub.status.idle": "2021-01-03T12:08:42.794848Z",
     "shell.execute_reply": "2021-01-03T12:08:42.794306Z"
    },
    "papermill": {
     "duration": 0.042434,
     "end_time": "2021-01-03T12:08:42.794985",
     "exception": false,
     "start_time": "2021-01-03T12:08:42.752551",
     "status": "completed"
    },
    "tags": []
   },
   "outputs": [],
   "source": [
    "# #hide\n",
    "# g = g[g.group.notna()]"
   ]
  },
  {
   "cell_type": "code",
   "execution_count": 40,
   "metadata": {
    "execution": {
     "iopub.execute_input": "2021-01-03T12:08:42.862879Z",
     "iopub.status.busy": "2021-01-03T12:08:42.862265Z",
     "iopub.status.idle": "2021-01-03T12:08:42.864849Z",
     "shell.execute_reply": "2021-01-03T12:08:42.865326Z"
    },
    "papermill": {
     "duration": 0.038932,
     "end_time": "2021-01-03T12:08:42.865470",
     "exception": false,
     "start_time": "2021-01-03T12:08:42.826538",
     "status": "completed"
    },
    "tags": []
   },
   "outputs": [],
   "source": [
    "# #hide\n",
    "# colors = dict(zip(\n",
    "#     [\"Oceania\", \"Europe\", \"Asia\", \"South America\", \"Middle East\", \"North America\", \"Africa\"],\n",
    "#     [\"#adb0ff\", \"#ffb3ff\", \"#90d595\", \"#e48381\", \"#aafbff\", \"#f7bb5f\", \"#eafb50\"]\n",
    "# ))\n",
    "# group_lk = g.set_index('name')['group'].to_dict()"
   ]
  },
  {
   "cell_type": "code",
   "execution_count": null,
   "metadata": {
    "papermill": {
     "duration": 0.031413,
     "end_time": "2021-01-03T12:08:42.928104",
     "exception": false,
     "start_time": "2021-01-03T12:08:42.896691",
     "status": "completed"
    },
    "tags": []
   },
   "outputs": [],
   "source": []
  },
  {
   "cell_type": "code",
   "execution_count": 41,
   "metadata": {
    "execution": {
     "iopub.execute_input": "2021-01-03T12:08:42.997261Z",
     "iopub.status.busy": "2021-01-03T12:08:42.996641Z",
     "iopub.status.idle": "2021-01-03T12:08:42.998644Z",
     "shell.execute_reply": "2021-01-03T12:08:42.999150Z"
    },
    "papermill": {
     "duration": 0.04002,
     "end_time": "2021-01-03T12:08:42.999299",
     "exception": false,
     "start_time": "2021-01-03T12:08:42.959279",
     "status": "completed"
    },
    "tags": []
   },
   "outputs": [],
   "source": [
    "# #hide\n",
    "# fig, ax = plt.subplots(figsize=(15, 8))\n",
    "\n",
    "# def draw_barchart(current_day):\n",
    "#     dff = g[g['day'].eq(current_day)].sort_values(by='value', ascending=True).tail(10)\n",
    "#     ax.clear()\n",
    "#     ax.barh(dff['name'], dff['value'], color=[colors[group_lk[x]] for x in dff['name']])\n",
    "#     dx = dff['value'].max() / 200\n",
    "    \n",
    "#     for i, (value, name) in enumerate(zip(dff['value'], dff['name'])):\n",
    "#         ax.text(value-dx, i,     name,           size=14, weight=600, ha='right', va='bottom')\n",
    "#         ax.text(value-dx, i-.25, group_lk[name], size=10, color='#444444', ha='right', va='baseline')\n",
    "#         ax.text(value+dx, i,     f'{value:,.0f}',  size=14, ha='left',  va='center')\n",
    "#     ax.text(1, 0.4, current_day, transform=ax.transAxes, color='#777777', size=46, ha='right', weight=800)\n",
    "#     ax.text(0, 1.06, 'Population (thousands)', transform=ax.transAxes, size=12, color='#777777')\n",
    "#     ax.xaxis.set_major_formatter(ticker.StrMethodFormatter('{x:,.0f}'))\n",
    "#     ax.xaxis.set_ticks_position('top')\n",
    "#     ax.tick_params(axis='x', colors='#777777', labelsize=12)\n",
    "#     ax.set_yticks([])\n",
    "#     ax.margins(0, 0.01)\n",
    "#     ax.grid(which='major', axis='x', linestyle='-')\n",
    "#     ax.set_axisbelow(True)\n",
    "    \n",
    "#     ax.text(0, 1.15, 'Coronavirus',\n",
    "#             transform=ax.transAxes, size=24, weight=600, ha='left', va='top')\n",
    "# #     ax.text(1, 0, 'by @pratapvardhan; credit @jburnmurdoch', transform=ax.transAxes, color='#777777', ha='right',\n",
    "# #             bbox=dict(facecolor='white', alpha=0.8, edgecolor='white'))\n",
    "#     plt.box(False)"
   ]
  },
  {
   "cell_type": "code",
   "execution_count": 42,
   "metadata": {
    "execution": {
     "iopub.execute_input": "2021-01-03T12:08:43.066360Z",
     "iopub.status.busy": "2021-01-03T12:08:43.065761Z",
     "iopub.status.idle": "2021-01-03T12:08:43.068323Z",
     "shell.execute_reply": "2021-01-03T12:08:43.067843Z"
    },
    "papermill": {
     "duration": 0.037761,
     "end_time": "2021-01-03T12:08:43.068450",
     "exception": false,
     "start_time": "2021-01-03T12:08:43.030689",
     "status": "completed"
    },
    "tags": []
   },
   "outputs": [],
   "source": [
    "# #hide_input\n",
    "# fig, ax = plt.subplots(figsize=(15, 8))\n",
    "# animator = animation.FuncAnimation(fig, draw_barchart, frames=range(g.day.values.min(), g.day.values.max()))\n",
    "# HTML(animator.to_jshtml())\n",
    "# # or use animator.to_html5_video() or animator.save() "
   ]
  },
  {
   "cell_type": "code",
   "execution_count": null,
   "metadata": {
    "papermill": {
     "duration": 0.031929,
     "end_time": "2021-01-03T12:08:43.134585",
     "exception": false,
     "start_time": "2021-01-03T12:08:43.102656",
     "status": "completed"
    },
    "tags": []
   },
   "outputs": [],
   "source": []
  },
  {
   "cell_type": "code",
   "execution_count": null,
   "metadata": {
    "papermill": {
     "duration": 0.030827,
     "end_time": "2021-01-03T12:08:43.196437",
     "exception": false,
     "start_time": "2021-01-03T12:08:43.165610",
     "status": "completed"
    },
    "tags": []
   },
   "outputs": [],
   "source": []
  },
  {
   "cell_type": "code",
   "execution_count": null,
   "metadata": {
    "papermill": {
     "duration": 0.030671,
     "end_time": "2021-01-03T12:08:43.258222",
     "exception": false,
     "start_time": "2021-01-03T12:08:43.227551",
     "status": "completed"
    },
    "tags": []
   },
   "outputs": [],
   "source": []
  }
 ],
 "metadata": {
  "kernelspec": {
   "display_name": "Python 3",
   "language": "python",
   "name": "python3"
  },
  "language_info": {
   "codemirror_mode": {
    "name": "ipython",
    "version": 3
   },
   "file_extension": ".py",
   "mimetype": "text/x-python",
   "name": "python",
   "nbconvert_exporter": "python",
   "pygments_lexer": "ipython3",
   "version": "3.6.12"
  },
  "papermill": {
   "duration": 7.138528,
   "end_time": "2021-01-03T12:08:43.596672",
   "environment_variables": {},
   "exception": null,
   "input_path": "2020-03-21-covid19exp.ipynb",
   "output_path": "2020-03-21-covid19exp.ipynb",
   "parameters": {},
   "start_time": "2021-01-03T12:08:36.458144",
   "version": "2.0.0"
  }
 },
 "nbformat": 4,
 "nbformat_minor": 4
}