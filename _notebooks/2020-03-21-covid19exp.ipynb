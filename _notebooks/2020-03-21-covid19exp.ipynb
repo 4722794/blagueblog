{
 "cells": [
  {
   "cell_type": "markdown",
   "id": "muslim-click",
   "metadata": {
    "papermill": {
     "duration": 0.036363,
     "end_time": "2021-06-04T12:50:18.927333",
     "exception": false,
     "start_time": "2021-06-04T12:50:18.890970",
     "status": "completed"
    },
    "tags": []
   },
   "source": [
    "# COVID-19 Case Race\n",
    "> A race chart to see rising cases around the world\n",
    "\n",
    "- author: Hargun Oberoi\n",
    "- image: images/covid-overview.png\n",
    "- hide: false\n",
    "- badges: false"
   ]
  },
  {
   "cell_type": "code",
   "execution_count": 1,
   "id": "proof-material",
   "metadata": {
    "execution": {
     "iopub.execute_input": "2021-06-04T12:50:19.003447Z",
     "iopub.status.busy": "2021-06-04T12:50:19.002862Z",
     "iopub.status.idle": "2021-06-04T12:50:19.340486Z",
     "shell.execute_reply": "2021-06-04T12:50:19.340010Z"
    },
    "papermill": {
     "duration": 0.380058,
     "end_time": "2021-06-04T12:50:19.340621",
     "exception": false,
     "start_time": "2021-06-04T12:50:18.960563",
     "status": "completed"
    },
    "tags": []
   },
   "outputs": [],
   "source": [
    "#hide\n",
    "import numpy as np\n",
    "import pandas as pd\n",
    "from jinja2 import Template\n",
    "from IPython.display import HTML"
   ]
  },
  {
   "cell_type": "code",
   "execution_count": 2,
   "id": "developed-terminology",
   "metadata": {
    "execution": {
     "iopub.execute_input": "2021-06-04T12:50:19.414503Z",
     "iopub.status.busy": "2021-06-04T12:50:19.413753Z",
     "iopub.status.idle": "2021-06-04T12:50:19.416105Z",
     "shell.execute_reply": "2021-06-04T12:50:19.415642Z"
    },
    "papermill": {
     "duration": 0.040837,
     "end_time": "2021-06-04T12:50:19.416212",
     "exception": false,
     "start_time": "2021-06-04T12:50:19.375375",
     "status": "completed"
    },
    "tags": []
   },
   "outputs": [],
   "source": [
    "#hide\n",
    "\n",
    "# FETCH\n",
    "base_url = 'https://raw.githubusercontent.com/pratapvardhan/notebooks/master/covid19/'\n",
    "paths = {\n",
    "    'mapping': base_url + 'mapping_countries.csv',\n",
    "    'overview': base_url + 'overview.tpl'\n",
    "}"
   ]
  },
  {
   "cell_type": "code",
   "execution_count": 3,
   "id": "dynamic-saver",
   "metadata": {
    "execution": {
     "iopub.execute_input": "2021-06-04T12:50:19.491101Z",
     "iopub.status.busy": "2021-06-04T12:50:19.490293Z",
     "iopub.status.idle": "2021-06-04T12:50:19.492971Z",
     "shell.execute_reply": "2021-06-04T12:50:19.493467Z"
    },
    "papermill": {
     "duration": 0.045786,
     "end_time": "2021-06-04T12:50:19.493612",
     "exception": false,
     "start_time": "2021-06-04T12:50:19.447826",
     "status": "completed"
    },
    "tags": []
   },
   "outputs": [
    {
     "data": {
      "text/plain": [
       "'https://raw.githubusercontent.com/pratapvardhan/notebooks/master/covid19/mapping_countries.csv'"
      ]
     },
     "execution_count": 3,
     "metadata": {},
     "output_type": "execute_result"
    }
   ],
   "source": [
    "#hide\n",
    "paths['mapping']"
   ]
  },
  {
   "cell_type": "code",
   "execution_count": 4,
   "id": "urban-software",
   "metadata": {
    "execution": {
     "iopub.execute_input": "2021-06-04T12:50:19.564017Z",
     "iopub.status.busy": "2021-06-04T12:50:19.563508Z",
     "iopub.status.idle": "2021-06-04T12:50:19.565707Z",
     "shell.execute_reply": "2021-06-04T12:50:19.565243Z"
    },
    "papermill": {
     "duration": 0.039501,
     "end_time": "2021-06-04T12:50:19.565805",
     "exception": false,
     "start_time": "2021-06-04T12:50:19.526304",
     "status": "completed"
    },
    "tags": []
   },
   "outputs": [],
   "source": [
    "#hide\n",
    "def get_mappings(url):\n",
    "    df = pd.read_csv(url)\n",
    "    return {\n",
    "        'df': df,\n",
    "        'replace.country': dict(df.dropna(subset=['Name']).set_index('Country')['Name']),\n",
    "        'map.continent': dict(df.set_index('Name')['Continent'])\n",
    "    }"
   ]
  },
  {
   "cell_type": "code",
   "execution_count": 5,
   "id": "intimate-machinery",
   "metadata": {
    "execution": {
     "iopub.execute_input": "2021-06-04T12:50:19.632717Z",
     "iopub.status.busy": "2021-06-04T12:50:19.632160Z",
     "iopub.status.idle": "2021-06-04T12:50:19.671764Z",
     "shell.execute_reply": "2021-06-04T12:50:19.671103Z"
    },
    "papermill": {
     "duration": 0.075194,
     "end_time": "2021-06-04T12:50:19.671931",
     "exception": false,
     "start_time": "2021-06-04T12:50:19.596737",
     "status": "completed"
    },
    "tags": []
   },
   "outputs": [],
   "source": [
    "#hide\n",
    "mapping = get_mappings(paths['mapping'])"
   ]
  },
  {
   "cell_type": "code",
   "execution_count": 6,
   "id": "certified-tactics",
   "metadata": {
    "execution": {
     "iopub.execute_input": "2021-06-04T12:50:19.740738Z",
     "iopub.status.busy": "2021-06-04T12:50:19.740188Z",
     "iopub.status.idle": "2021-06-04T12:50:19.742799Z",
     "shell.execute_reply": "2021-06-04T12:50:19.743285Z"
    },
    "papermill": {
     "duration": 0.040484,
     "end_time": "2021-06-04T12:50:19.743397",
     "exception": false,
     "start_time": "2021-06-04T12:50:19.702913",
     "status": "completed"
    },
    "tags": []
   },
   "outputs": [],
   "source": [
    "#hide\n",
    "def get_template(path):\n",
    "    from urllib.parse import urlparse\n",
    "    if bool(urlparse(path).netloc):\n",
    "        from urllib.request import urlopen\n",
    "        return urlopen(path).read().decode('utf8')\n",
    "    return open(path).read()"
   ]
  },
  {
   "cell_type": "code",
   "execution_count": 7,
   "id": "realistic-blast",
   "metadata": {
    "execution": {
     "iopub.execute_input": "2021-06-04T12:50:19.815528Z",
     "iopub.status.busy": "2021-06-04T12:50:19.815017Z",
     "iopub.status.idle": "2021-06-04T12:50:19.817023Z",
     "shell.execute_reply": "2021-06-04T12:50:19.817510Z"
    },
    "papermill": {
     "duration": 0.042173,
     "end_time": "2021-06-04T12:50:19.817643",
     "exception": false,
     "start_time": "2021-06-04T12:50:19.775470",
     "status": "completed"
    },
    "tags": []
   },
   "outputs": [],
   "source": [
    "#hide\n",
    "def get_frame(name):\n",
    "    url = (\n",
    "        'https://raw.githubusercontent.com/CSSEGISandData/COVID-19/master/csse_covid_19_data/'\n",
    "        f'csse_covid_19_time_series/time_series_covid19_{name}_global.csv')\n",
    "    df = pd.read_csv(url)\n",
    "    # rename countries\n",
    "    df['Country/Region'] = df['Country/Region'].replace(mapping['replace.country'])\n",
    "    return df"
   ]
  },
  {
   "cell_type": "code",
   "execution_count": 8,
   "id": "affiliated-characterization",
   "metadata": {
    "execution": {
     "iopub.execute_input": "2021-06-04T12:50:19.887347Z",
     "iopub.status.busy": "2021-06-04T12:50:19.886531Z",
     "iopub.status.idle": "2021-06-04T12:50:19.888961Z",
     "shell.execute_reply": "2021-06-04T12:50:19.888445Z"
    },
    "papermill": {
     "duration": 0.039141,
     "end_time": "2021-06-04T12:50:19.889063",
     "exception": false,
     "start_time": "2021-06-04T12:50:19.849922",
     "status": "completed"
    },
    "tags": []
   },
   "outputs": [],
   "source": [
    "#hide\n",
    "def get_dates(df):\n",
    "    dt_cols = df.columns[~df.columns.isin(['Province/State', 'Country/Region', 'Lat', 'Long'])]\n",
    "    LAST_DATE_I = -1\n",
    "    # sometimes last column may be empty, then go backwards\n",
    "    for i in range(-1, -len(dt_cols), -1):\n",
    "        if not df[dt_cols[i]].fillna(0).eq(0).all():\n",
    "            LAST_DATE_I = i\n",
    "            break\n",
    "    return LAST_DATE_I, dt_cols"
   ]
  },
  {
   "cell_type": "code",
   "execution_count": 9,
   "id": "recent-optimization",
   "metadata": {
    "execution": {
     "iopub.execute_input": "2021-06-04T12:50:19.965037Z",
     "iopub.status.busy": "2021-06-04T12:50:19.964407Z",
     "iopub.status.idle": "2021-06-04T12:50:20.325000Z",
     "shell.execute_reply": "2021-06-04T12:50:20.324490Z"
    },
    "papermill": {
     "duration": 0.39994,
     "end_time": "2021-06-04T12:50:20.325141",
     "exception": false,
     "start_time": "2021-06-04T12:50:19.925201",
     "status": "completed"
    },
    "tags": []
   },
   "outputs": [],
   "source": [
    "#hide\n",
    "COL_REGION = 'Country/Region'\n",
    "# Confirmed, Recovered, Deaths\n",
    "df = get_frame('confirmed')\n",
    "# dft_: timeseries, dfc_: today country agg\n",
    "dft_cases = df\n",
    "dft_deaths = get_frame('deaths')\n",
    "dft_recovered = get_frame('recovered')\n",
    "LAST_DATE_I, dt_cols = get_dates(df)"
   ]
  },
  {
   "cell_type": "code",
   "execution_count": 10,
   "id": "absolute-copper",
   "metadata": {
    "execution": {
     "iopub.execute_input": "2021-06-04T12:50:20.393735Z",
     "iopub.status.busy": "2021-06-04T12:50:20.393037Z",
     "iopub.status.idle": "2021-06-04T12:50:20.395765Z",
     "shell.execute_reply": "2021-06-04T12:50:20.395272Z"
    },
    "papermill": {
     "duration": 0.039659,
     "end_time": "2021-06-04T12:50:20.395872",
     "exception": false,
     "start_time": "2021-06-04T12:50:20.356213",
     "status": "completed"
    },
    "tags": []
   },
   "outputs": [],
   "source": [
    "#hide\n",
    "LAST_DATE_I, dt_cols = get_dates(df)\n",
    "dt_today =dt_cols[LAST_DATE_I]\n",
    "# dt_5day = dt_cols[LAST_DATE_I - 5]\n",
    "dt_yday = dt_cols[LAST_DATE_I - 1]"
   ]
  },
  {
   "cell_type": "code",
   "execution_count": 11,
   "id": "restricted-sheriff",
   "metadata": {
    "execution": {
     "iopub.execute_input": "2021-06-04T12:50:20.466439Z",
     "iopub.status.busy": "2021-06-04T12:50:20.465776Z",
     "iopub.status.idle": "2021-06-04T12:50:20.472440Z",
     "shell.execute_reply": "2021-06-04T12:50:20.472984Z"
    },
    "papermill": {
     "duration": 0.044527,
     "end_time": "2021-06-04T12:50:20.473094",
     "exception": false,
     "start_time": "2021-06-04T12:50:20.428567",
     "status": "completed"
    },
    "tags": []
   },
   "outputs": [],
   "source": [
    "#hide\n",
    "dfc_cases = dft_cases.groupby(COL_REGION)[dt_today].sum()\n",
    "dfc_deaths = dft_deaths.groupby(COL_REGION)[dt_today].sum()\n",
    "# dfp_cases = dft_cases.groupby(COL_REGION)[dt_5day].sum()\n",
    "# dfp_deaths = dft_deaths.groupby(COL_REGION)[dt_5day].sum()\n",
    "dfp_cases = dft_cases.groupby(COL_REGION)[dt_yday].sum()\n",
    "dfp_deaths = dft_deaths.groupby(COL_REGION)[dt_yday].sum()"
   ]
  },
  {
   "cell_type": "code",
   "execution_count": 12,
   "id": "deluxe-hepatitis",
   "metadata": {
    "execution": {
     "iopub.execute_input": "2021-06-04T12:50:20.541916Z",
     "iopub.status.busy": "2021-06-04T12:50:20.541380Z",
     "iopub.status.idle": "2021-06-04T12:50:20.546225Z",
     "shell.execute_reply": "2021-06-04T12:50:20.546976Z"
    },
    "papermill": {
     "duration": 0.042456,
     "end_time": "2021-06-04T12:50:20.547099",
     "exception": false,
     "start_time": "2021-06-04T12:50:20.504643",
     "status": "completed"
    },
    "tags": []
   },
   "outputs": [],
   "source": [
    "#hide\n",
    "df_table = (pd.DataFrame(dict(Cases = dfc_cases, Deaths = dfc_deaths, PCases = dfp_cases, PDeaths = dfp_deaths))\n",
    "            .sort_values(by = ['Cases','Deaths'], ascending = [False, False])\n",
    "            .reset_index())"
   ]
  },
  {
   "cell_type": "code",
   "execution_count": 13,
   "id": "educational-chancellor",
   "metadata": {
    "execution": {
     "iopub.execute_input": "2021-06-04T12:50:20.621568Z",
     "iopub.status.busy": "2021-06-04T12:50:20.620944Z",
     "iopub.status.idle": "2021-06-04T12:50:20.633183Z",
     "shell.execute_reply": "2021-06-04T12:50:20.633685Z"
    },
    "papermill": {
     "duration": 0.05606,
     "end_time": "2021-06-04T12:50:20.633798",
     "exception": false,
     "start_time": "2021-06-04T12:50:20.577738",
     "status": "completed"
    },
    "tags": []
   },
   "outputs": [
    {
     "data": {
      "text/html": [
       "<div>\n",
       "<style scoped>\n",
       "    .dataframe tbody tr th:only-of-type {\n",
       "        vertical-align: middle;\n",
       "    }\n",
       "\n",
       "    .dataframe tbody tr th {\n",
       "        vertical-align: top;\n",
       "    }\n",
       "\n",
       "    .dataframe thead th {\n",
       "        text-align: right;\n",
       "    }\n",
       "</style>\n",
       "<table border=\"1\" class=\"dataframe\">\n",
       "  <thead>\n",
       "    <tr style=\"text-align: right;\">\n",
       "      <th></th>\n",
       "      <th>Country/Region</th>\n",
       "      <th>Cases</th>\n",
       "      <th>Deaths</th>\n",
       "      <th>PCases</th>\n",
       "      <th>PDeaths</th>\n",
       "      <th>Cases (+)</th>\n",
       "      <th>Deaths (+)</th>\n",
       "      <th>Fatality Rate</th>\n",
       "      <th>Continent</th>\n",
       "    </tr>\n",
       "  </thead>\n",
       "  <tbody>\n",
       "    <tr>\n",
       "      <th>0</th>\n",
       "      <td>US</td>\n",
       "      <td>33326354</td>\n",
       "      <td>596434</td>\n",
       "      <td>33307363</td>\n",
       "      <td>595833</td>\n",
       "      <td>18991</td>\n",
       "      <td>601</td>\n",
       "      <td>1.79</td>\n",
       "      <td>North America</td>\n",
       "    </tr>\n",
       "    <tr>\n",
       "      <th>1</th>\n",
       "      <td>India</td>\n",
       "      <td>28574350</td>\n",
       "      <td>340702</td>\n",
       "      <td>28441986</td>\n",
       "      <td>337989</td>\n",
       "      <td>132364</td>\n",
       "      <td>2713</td>\n",
       "      <td>1.19</td>\n",
       "      <td>Asia</td>\n",
       "    </tr>\n",
       "    <tr>\n",
       "      <th>2</th>\n",
       "      <td>Brazil</td>\n",
       "      <td>16803472</td>\n",
       "      <td>469388</td>\n",
       "      <td>16720081</td>\n",
       "      <td>467706</td>\n",
       "      <td>83391</td>\n",
       "      <td>1682</td>\n",
       "      <td>2.79</td>\n",
       "      <td>South America</td>\n",
       "    </tr>\n",
       "    <tr>\n",
       "      <th>3</th>\n",
       "      <td>France</td>\n",
       "      <td>5755679</td>\n",
       "      <td>109990</td>\n",
       "      <td>5739995</td>\n",
       "      <td>109841</td>\n",
       "      <td>15684</td>\n",
       "      <td>149</td>\n",
       "      <td>1.91</td>\n",
       "      <td>Europe</td>\n",
       "    </tr>\n",
       "    <tr>\n",
       "      <th>4</th>\n",
       "      <td>Turkey</td>\n",
       "      <td>5270299</td>\n",
       "      <td>47882</td>\n",
       "      <td>5263697</td>\n",
       "      <td>47768</td>\n",
       "      <td>6602</td>\n",
       "      <td>114</td>\n",
       "      <td>0.91</td>\n",
       "      <td>Asia</td>\n",
       "    </tr>\n",
       "  </tbody>\n",
       "</table>\n",
       "</div>"
      ],
      "text/plain": [
       "  Country/Region     Cases  Deaths    PCases  PDeaths  Cases (+)  Deaths (+)  \\\n",
       "0             US  33326354  596434  33307363   595833      18991         601   \n",
       "1          India  28574350  340702  28441986   337989     132364        2713   \n",
       "2         Brazil  16803472  469388  16720081   467706      83391        1682   \n",
       "3         France   5755679  109990   5739995   109841      15684         149   \n",
       "4         Turkey   5270299   47882   5263697    47768       6602         114   \n",
       "\n",
       "   Fatality Rate      Continent  \n",
       "0           1.79  North America  \n",
       "1           1.19           Asia  \n",
       "2           2.79  South America  \n",
       "3           1.91         Europe  \n",
       "4           0.91           Asia  "
      ]
     },
     "execution_count": 13,
     "metadata": {},
     "output_type": "execute_result"
    }
   ],
   "source": [
    "#hide\n",
    "for c in 'Cases, Deaths'.split(', '):\n",
    "    df_table[f'{c} (+)'] = (df_table[c] - df_table[f'P{c}']).clip(0)\n",
    "    #Clip ça veut dire, les chiffres negatif sont interdit\n",
    "df_table['Fatality Rate'] = (100* df_table['Deaths']/ df_table['Cases']).round(2)\n",
    "df_table['Continent'] = df_table['Country/Region'].map(mapping['map.continent'])\n",
    "df_table.head(5)"
   ]
  },
  {
   "cell_type": "code",
   "execution_count": 14,
   "id": "aboriginal-bulgaria",
   "metadata": {
    "execution": {
     "iopub.execute_input": "2021-06-04T12:50:20.699615Z",
     "iopub.status.busy": "2021-06-04T12:50:20.699085Z",
     "iopub.status.idle": "2021-06-04T12:50:20.703448Z",
     "shell.execute_reply": "2021-06-04T12:50:20.704169Z"
    },
    "papermill": {
     "duration": 0.039628,
     "end_time": "2021-06-04T12:50:20.704295",
     "exception": false,
     "start_time": "2021-06-04T12:50:20.664667",
     "status": "completed"
    },
    "tags": []
   },
   "outputs": [],
   "source": [
    "#hide\n",
    "#delete problematic countries from table\n",
    "df_table = df_table[~df_table['Country/Region'].isin(['Cape Verde', 'Cruise Ship', 'Kosovo'])]"
   ]
  },
  {
   "cell_type": "code",
   "execution_count": 15,
   "id": "fantastic-effect",
   "metadata": {
    "execution": {
     "iopub.execute_input": "2021-06-04T12:50:20.776529Z",
     "iopub.status.busy": "2021-06-04T12:50:20.775864Z",
     "iopub.status.idle": "2021-06-04T12:50:20.795690Z",
     "shell.execute_reply": "2021-06-04T12:50:20.795252Z"
    },
    "papermill": {
     "duration": 0.058326,
     "end_time": "2021-06-04T12:50:20.795790",
     "exception": false,
     "start_time": "2021-06-04T12:50:20.737464",
     "status": "completed"
    },
    "tags": []
   },
   "outputs": [
    {
     "data": {
      "text/html": [
       "<div>\n",
       "<style scoped>\n",
       "    .dataframe tbody tr th:only-of-type {\n",
       "        vertical-align: middle;\n",
       "    }\n",
       "\n",
       "    .dataframe tbody tr th {\n",
       "        vertical-align: top;\n",
       "    }\n",
       "\n",
       "    .dataframe thead th {\n",
       "        text-align: right;\n",
       "    }\n",
       "</style>\n",
       "<table border=\"1\" class=\"dataframe\">\n",
       "  <thead>\n",
       "    <tr style=\"text-align: right;\">\n",
       "      <th></th>\n",
       "      <th>Country/Region</th>\n",
       "      <th>Cases</th>\n",
       "      <th>Deaths</th>\n",
       "      <th>PCases</th>\n",
       "      <th>PDeaths</th>\n",
       "      <th>Cases (+)</th>\n",
       "      <th>Deaths (+)</th>\n",
       "      <th>Fatality Rate</th>\n",
       "      <th>Continent</th>\n",
       "    </tr>\n",
       "  </thead>\n",
       "  <tbody>\n",
       "    <tr>\n",
       "      <th>0</th>\n",
       "      <td>US</td>\n",
       "      <td>33326354</td>\n",
       "      <td>596434</td>\n",
       "      <td>33307363</td>\n",
       "      <td>595833</td>\n",
       "      <td>18991</td>\n",
       "      <td>601</td>\n",
       "      <td>1.8</td>\n",
       "      <td>North America</td>\n",
       "    </tr>\n",
       "    <tr>\n",
       "      <th>1</th>\n",
       "      <td>India</td>\n",
       "      <td>28574350</td>\n",
       "      <td>340702</td>\n",
       "      <td>28441986</td>\n",
       "      <td>337989</td>\n",
       "      <td>132364</td>\n",
       "      <td>2713</td>\n",
       "      <td>1.2</td>\n",
       "      <td>Asia</td>\n",
       "    </tr>\n",
       "    <tr>\n",
       "      <th>2</th>\n",
       "      <td>Brazil</td>\n",
       "      <td>16803472</td>\n",
       "      <td>469388</td>\n",
       "      <td>16720081</td>\n",
       "      <td>467706</td>\n",
       "      <td>83391</td>\n",
       "      <td>1682</td>\n",
       "      <td>2.8</td>\n",
       "      <td>South America</td>\n",
       "    </tr>\n",
       "    <tr>\n",
       "      <th>3</th>\n",
       "      <td>France</td>\n",
       "      <td>5755679</td>\n",
       "      <td>109990</td>\n",
       "      <td>5739995</td>\n",
       "      <td>109841</td>\n",
       "      <td>15684</td>\n",
       "      <td>149</td>\n",
       "      <td>1.9</td>\n",
       "      <td>Europe</td>\n",
       "    </tr>\n",
       "    <tr>\n",
       "      <th>4</th>\n",
       "      <td>Turkey</td>\n",
       "      <td>5270299</td>\n",
       "      <td>47882</td>\n",
       "      <td>5263697</td>\n",
       "      <td>47768</td>\n",
       "      <td>6602</td>\n",
       "      <td>114</td>\n",
       "      <td>0.9</td>\n",
       "      <td>Asia</td>\n",
       "    </tr>\n",
       "  </tbody>\n",
       "</table>\n",
       "</div>"
      ],
      "text/plain": [
       "  Country/Region     Cases  Deaths    PCases  PDeaths  Cases (+)  Deaths (+)  \\\n",
       "0             US  33326354  596434  33307363   595833      18991         601   \n",
       "1          India  28574350  340702  28441986   337989     132364        2713   \n",
       "2         Brazil  16803472  469388  16720081   467706      83391        1682   \n",
       "3         France   5755679  109990   5739995   109841      15684         149   \n",
       "4         Turkey   5270299   47882   5263697    47768       6602         114   \n",
       "\n",
       "   Fatality Rate      Continent  \n",
       "0            1.8  North America  \n",
       "1            1.2           Asia  \n",
       "2            2.8  South America  \n",
       "3            1.9         Europe  \n",
       "4            0.9           Asia  "
      ]
     },
     "execution_count": 15,
     "metadata": {},
     "output_type": "execute_result"
    }
   ],
   "source": [
    "#hide\n",
    "df_table = (pd.DataFrame(dict(Cases=dfc_cases, Deaths=dfc_deaths, PCases=dfp_cases, PDeaths=dfp_deaths))\n",
    "             .sort_values(by=['Cases', 'Deaths'], ascending=[False, False])\n",
    "             .reset_index())\n",
    "df_table.rename(columns={'index': 'Country/Region'}, inplace=True)\n",
    "for c in 'Cases, Deaths'.split(', '):\n",
    "    df_table[f'{c} (+)'] = (df_table[c] - df_table[f'P{c}']).clip(0)  # DATA BUG\n",
    "df_table['Fatality Rate'] = (100 * df_table['Deaths'] / df_table['Cases']).round(1)\n",
    "df_table['Continent'] = df_table['Country/Region'].map(mapping['map.continent'])\n",
    "df_table.head(5)"
   ]
  },
  {
   "cell_type": "code",
   "execution_count": 16,
   "id": "fewer-occasion",
   "metadata": {
    "execution": {
     "iopub.execute_input": "2021-06-04T12:50:20.865772Z",
     "iopub.status.busy": "2021-06-04T12:50:20.864969Z",
     "iopub.status.idle": "2021-06-04T12:50:20.868400Z",
     "shell.execute_reply": "2021-06-04T12:50:20.867963Z"
    },
    "papermill": {
     "duration": 0.03973,
     "end_time": "2021-06-04T12:50:20.868500",
     "exception": false,
     "start_time": "2021-06-04T12:50:20.828770",
     "status": "completed"
    },
    "tags": []
   },
   "outputs": [],
   "source": [
    "#hide\n",
    "#delete problematic countries from table\n",
    "df_table = df_table[~df_table['Country/Region'].isin(['Cape Verde', 'Cruise Ship', 'Kosovo'])]"
   ]
  },
  {
   "cell_type": "code",
   "execution_count": 17,
   "id": "related-center",
   "metadata": {
    "execution": {
     "iopub.execute_input": "2021-06-04T12:50:20.953021Z",
     "iopub.status.busy": "2021-06-04T12:50:20.952261Z",
     "iopub.status.idle": "2021-06-04T12:50:20.954575Z",
     "shell.execute_reply": "2021-06-04T12:50:20.954136Z"
    },
    "papermill": {
     "duration": 0.054489,
     "end_time": "2021-06-04T12:50:20.954678",
     "exception": false,
     "start_time": "2021-06-04T12:50:20.900189",
     "status": "completed"
    },
    "tags": []
   },
   "outputs": [],
   "source": [
    "#hide\n",
    "metrics = [df_table.columns[index] for index in [1,2,5,6]]\n",
    "# s_china = df_table[df_table['Country/Region'].eq('China')][metrics].sum().add_prefix('China ')\n",
    "s_us = df_table[df_table['Country/Region'].eq('US')][metrics].sum().add_prefix('US ')\n",
    "s_eu = df_table[df_table['Continent'].eq('Europe')][metrics].sum().add_prefix('EU ')\n",
    "s_ind = df_table[df_table['Country/Region'].eq('India')][metrics].sum().add_prefix('India ')\n",
    "summary = {'updated': pd.to_datetime(dt_today), 'since': pd.to_datetime(dt_yday)}\n",
    "summary = {'updated': pd.to_datetime(dt_today), 'since': pd.to_datetime(dt_yday)}\n",
    "summary = {**summary, **df_table[metrics].sum(), **s_ind, **s_us, **s_eu}"
   ]
  },
  {
   "cell_type": "code",
   "execution_count": 18,
   "id": "engaging-syndrome",
   "metadata": {
    "execution": {
     "iopub.execute_input": "2021-06-04T12:50:21.024041Z",
     "iopub.status.busy": "2021-06-04T12:50:21.023506Z",
     "iopub.status.idle": "2021-06-04T12:50:21.035696Z",
     "shell.execute_reply": "2021-06-04T12:50:21.036192Z"
    },
    "papermill": {
     "duration": 0.048624,
     "end_time": "2021-06-04T12:50:21.036311",
     "exception": false,
     "start_time": "2021-06-04T12:50:20.987687",
     "status": "completed"
    },
    "tags": []
   },
   "outputs": [],
   "source": [
    "#hide\n",
    "dft_ct_new_cases = dft_cases.groupby(COL_REGION)[dt_cols].sum().diff(axis=1).fillna(0).astype(int)"
   ]
  },
  {
   "cell_type": "code",
   "execution_count": 19,
   "id": "neutral-assignment",
   "metadata": {
    "execution": {
     "iopub.execute_input": "2021-06-04T12:50:21.114604Z",
     "iopub.status.busy": "2021-06-04T12:50:21.113710Z",
     "iopub.status.idle": "2021-06-04T12:50:21.116330Z",
     "shell.execute_reply": "2021-06-04T12:50:21.115786Z"
    },
    "papermill": {
     "duration": 0.042449,
     "end_time": "2021-06-04T12:50:21.116435",
     "exception": false,
     "start_time": "2021-06-04T12:50:21.073986",
     "status": "completed"
    },
    "tags": []
   },
   "outputs": [],
   "source": [
    "#hide\n",
    "everydaycases = dft_ct_new_cases.cumsum(axis=1)"
   ]
  },
  {
   "cell_type": "code",
   "execution_count": 20,
   "id": "parliamentary-calgary",
   "metadata": {
    "execution": {
     "iopub.execute_input": "2021-06-04T12:50:21.199255Z",
     "iopub.status.busy": "2021-06-04T12:50:21.198600Z",
     "iopub.status.idle": "2021-06-04T12:50:21.784573Z",
     "shell.execute_reply": "2021-06-04T12:50:21.784975Z"
    },
    "papermill": {
     "duration": 0.625289,
     "end_time": "2021-06-04T12:50:21.785118",
     "exception": false,
     "start_time": "2021-06-04T12:50:21.159829",
     "status": "completed"
    },
    "tags": []
   },
   "outputs": [],
   "source": [
    "#hide\n",
    "import pandas as pd\n",
    "import matplotlib.pyplot as plt\n",
    "import matplotlib.ticker as ticker\n",
    "import matplotlib.animation as animation\n",
    "from IPython.display import HTML"
   ]
  },
  {
   "cell_type": "code",
   "execution_count": 21,
   "id": "lasting-extraction",
   "metadata": {
    "execution": {
     "iopub.execute_input": "2021-06-04T12:50:21.952322Z",
     "iopub.status.busy": "2021-06-04T12:50:21.951595Z",
     "iopub.status.idle": "2021-06-04T12:50:21.958225Z",
     "shell.execute_reply": "2021-06-04T12:50:21.957740Z"
    },
    "papermill": {
     "duration": 0.080558,
     "end_time": "2021-06-04T12:50:21.958340",
     "exception": false,
     "start_time": "2021-06-04T12:50:21.877782",
     "status": "completed"
    },
    "tags": []
   },
   "outputs": [],
   "source": [
    "#hide\n",
    "t = everydaycases.stack()"
   ]
  },
  {
   "cell_type": "code",
   "execution_count": 22,
   "id": "premier-sleeve",
   "metadata": {
    "execution": {
     "iopub.execute_input": "2021-06-04T12:50:22.181468Z",
     "iopub.status.busy": "2021-06-04T12:50:22.180747Z",
     "iopub.status.idle": "2021-06-04T12:50:22.191230Z",
     "shell.execute_reply": "2021-06-04T12:50:22.191923Z"
    },
    "papermill": {
     "duration": 0.117973,
     "end_time": "2021-06-04T12:50:22.192079",
     "exception": false,
     "start_time": "2021-06-04T12:50:22.074106",
     "status": "completed"
    },
    "tags": []
   },
   "outputs": [],
   "source": [
    "#hide\n",
    "g = t.reset_index(['Country/Region'])"
   ]
  },
  {
   "cell_type": "code",
   "execution_count": 23,
   "id": "distributed-pittsburgh",
   "metadata": {
    "execution": {
     "iopub.execute_input": "2021-06-04T12:50:22.263440Z",
     "iopub.status.busy": "2021-06-04T12:50:22.262890Z",
     "iopub.status.idle": "2021-06-04T12:50:22.265384Z",
     "shell.execute_reply": "2021-06-04T12:50:22.264865Z"
    },
    "papermill": {
     "duration": 0.038462,
     "end_time": "2021-06-04T12:50:22.265509",
     "exception": false,
     "start_time": "2021-06-04T12:50:22.227047",
     "status": "completed"
    },
    "tags": []
   },
   "outputs": [],
   "source": [
    "#hide\n",
    "g.index.name = 'date'"
   ]
  },
  {
   "cell_type": "code",
   "execution_count": 24,
   "id": "naked-donor",
   "metadata": {
    "execution": {
     "iopub.execute_input": "2021-06-04T12:50:22.333971Z",
     "iopub.status.busy": "2021-06-04T12:50:22.333365Z",
     "iopub.status.idle": "2021-06-04T12:50:22.335382Z",
     "shell.execute_reply": "2021-06-04T12:50:22.335878Z"
    },
    "papermill": {
     "duration": 0.03755,
     "end_time": "2021-06-04T12:50:22.335991",
     "exception": false,
     "start_time": "2021-06-04T12:50:22.298441",
     "status": "completed"
    },
    "tags": []
   },
   "outputs": [],
   "source": [
    "# #hide\n",
    "# g = g.reset_index(['date'])"
   ]
  },
  {
   "cell_type": "code",
   "execution_count": 25,
   "id": "incomplete-mustang",
   "metadata": {
    "execution": {
     "iopub.execute_input": "2021-06-04T12:50:22.403620Z",
     "iopub.status.busy": "2021-06-04T12:50:22.403069Z",
     "iopub.status.idle": "2021-06-04T12:50:22.405164Z",
     "shell.execute_reply": "2021-06-04T12:50:22.405689Z"
    },
    "papermill": {
     "duration": 0.038417,
     "end_time": "2021-06-04T12:50:22.405825",
     "exception": false,
     "start_time": "2021-06-04T12:50:22.367408",
     "status": "completed"
    },
    "tags": []
   },
   "outputs": [],
   "source": [
    "#hide\n",
    "# g.head()"
   ]
  },
  {
   "cell_type": "code",
   "execution_count": 26,
   "id": "specific-kruger",
   "metadata": {
    "execution": {
     "iopub.execute_input": "2021-06-04T12:50:22.472910Z",
     "iopub.status.busy": "2021-06-04T12:50:22.472382Z",
     "iopub.status.idle": "2021-06-04T12:50:22.474289Z",
     "shell.execute_reply": "2021-06-04T12:50:22.474784Z"
    },
    "papermill": {
     "duration": 0.036394,
     "end_time": "2021-06-04T12:50:22.475019",
     "exception": false,
     "start_time": "2021-06-04T12:50:22.438625",
     "status": "completed"
    },
    "tags": []
   },
   "outputs": [],
   "source": [
    "#hide\n",
    "# g.columns = ['date','country','cases']"
   ]
  },
  {
   "cell_type": "code",
   "execution_count": 27,
   "id": "tender-conversion",
   "metadata": {
    "execution": {
     "iopub.execute_input": "2021-06-04T12:50:22.540396Z",
     "iopub.status.busy": "2021-06-04T12:50:22.539882Z",
     "iopub.status.idle": "2021-06-04T12:50:22.542091Z",
     "shell.execute_reply": "2021-06-04T12:50:22.541672Z"
    },
    "papermill": {
     "duration": 0.035133,
     "end_time": "2021-06-04T12:50:22.542193",
     "exception": false,
     "start_time": "2021-06-04T12:50:22.507060",
     "status": "completed"
    },
    "tags": []
   },
   "outputs": [],
   "source": [
    "#hide\n",
    "# g['continent'] = g.country"
   ]
  },
  {
   "cell_type": "code",
   "execution_count": 28,
   "id": "substantial-wilderness",
   "metadata": {
    "execution": {
     "iopub.execute_input": "2021-06-04T12:50:22.609383Z",
     "iopub.status.busy": "2021-06-04T12:50:22.608877Z",
     "iopub.status.idle": "2021-06-04T12:50:22.610774Z",
     "shell.execute_reply": "2021-06-04T12:50:22.611188Z"
    },
    "papermill": {
     "duration": 0.036014,
     "end_time": "2021-06-04T12:50:22.611300",
     "exception": false,
     "start_time": "2021-06-04T12:50:22.575286",
     "status": "completed"
    },
    "tags": []
   },
   "outputs": [],
   "source": [
    "#hide\n",
    "# cols = list(g.columns.values)"
   ]
  },
  {
   "cell_type": "code",
   "execution_count": 29,
   "id": "solved-farming",
   "metadata": {
    "execution": {
     "iopub.execute_input": "2021-06-04T12:50:22.678228Z",
     "iopub.status.busy": "2021-06-04T12:50:22.677492Z",
     "iopub.status.idle": "2021-06-04T12:50:22.679302Z",
     "shell.execute_reply": "2021-06-04T12:50:22.679702Z"
    },
    "papermill": {
     "duration": 0.037041,
     "end_time": "2021-06-04T12:50:22.679818",
     "exception": false,
     "start_time": "2021-06-04T12:50:22.642777",
     "status": "completed"
    },
    "tags": []
   },
   "outputs": [],
   "source": [
    "#hide\n",
    "# cols.insert(0, cols.pop())"
   ]
  },
  {
   "cell_type": "code",
   "execution_count": 30,
   "id": "executed-adoption",
   "metadata": {
    "execution": {
     "iopub.execute_input": "2021-06-04T12:50:22.749504Z",
     "iopub.status.busy": "2021-06-04T12:50:22.748281Z",
     "iopub.status.idle": "2021-06-04T12:50:22.751252Z",
     "shell.execute_reply": "2021-06-04T12:50:22.750777Z"
    },
    "papermill": {
     "duration": 0.039072,
     "end_time": "2021-06-04T12:50:22.751387",
     "exception": false,
     "start_time": "2021-06-04T12:50:22.712315",
     "status": "completed"
    },
    "tags": []
   },
   "outputs": [],
   "source": [
    "#hide\n",
    "# g = g[cols]"
   ]
  },
  {
   "cell_type": "code",
   "execution_count": 31,
   "id": "subject-dublin",
   "metadata": {
    "execution": {
     "iopub.execute_input": "2021-06-04T12:50:22.819673Z",
     "iopub.status.busy": "2021-06-04T12:50:22.819099Z",
     "iopub.status.idle": "2021-06-04T12:50:22.821300Z",
     "shell.execute_reply": "2021-06-04T12:50:22.820863Z"
    },
    "papermill": {
     "duration": 0.037618,
     "end_time": "2021-06-04T12:50:22.821399",
     "exception": false,
     "start_time": "2021-06-04T12:50:22.783781",
     "status": "completed"
    },
    "tags": []
   },
   "outputs": [],
   "source": [
    "#hide\n",
    "# g['continent'] = g['continent'].map(mapping['map.continent'])"
   ]
  },
  {
   "cell_type": "code",
   "execution_count": 32,
   "id": "freelance-scout",
   "metadata": {
    "execution": {
     "iopub.execute_input": "2021-06-04T12:50:22.887413Z",
     "iopub.status.busy": "2021-06-04T12:50:22.886899Z",
     "iopub.status.idle": "2021-06-04T12:50:22.889399Z",
     "shell.execute_reply": "2021-06-04T12:50:22.888859Z"
    },
    "papermill": {
     "duration": 0.036067,
     "end_time": "2021-06-04T12:50:22.889502",
     "exception": false,
     "start_time": "2021-06-04T12:50:22.853435",
     "status": "completed"
    },
    "tags": []
   },
   "outputs": [],
   "source": [
    "#hide\n",
    "# g.head()"
   ]
  },
  {
   "cell_type": "code",
   "execution_count": 33,
   "id": "limited-engine",
   "metadata": {
    "execution": {
     "iopub.execute_input": "2021-06-04T12:50:22.967328Z",
     "iopub.status.busy": "2021-06-04T12:50:22.966707Z",
     "iopub.status.idle": "2021-06-04T12:50:22.969617Z",
     "shell.execute_reply": "2021-06-04T12:50:22.968957Z"
    },
    "papermill": {
     "duration": 0.041685,
     "end_time": "2021-06-04T12:50:22.969788",
     "exception": false,
     "start_time": "2021-06-04T12:50:22.928103",
     "status": "completed"
    },
    "tags": []
   },
   "outputs": [],
   "source": [
    "# hide\n",
    "# g['date'] = g['date'].astype('datetime64[ns]')"
   ]
  },
  {
   "cell_type": "code",
   "execution_count": 34,
   "id": "sophisticated-supervisor",
   "metadata": {
    "execution": {
     "iopub.execute_input": "2021-06-04T12:50:23.041846Z",
     "iopub.status.busy": "2021-06-04T12:50:23.041195Z",
     "iopub.status.idle": "2021-06-04T12:50:23.043527Z",
     "shell.execute_reply": "2021-06-04T12:50:23.042975Z"
    },
    "papermill": {
     "duration": 0.039426,
     "end_time": "2021-06-04T12:50:23.043654",
     "exception": false,
     "start_time": "2021-06-04T12:50:23.004228",
     "status": "completed"
    },
    "tags": []
   },
   "outputs": [],
   "source": [
    "#hide\n",
    "# g['date'] = g.date.dt.dayofyear"
   ]
  },
  {
   "cell_type": "code",
   "execution_count": 35,
   "id": "inside-dubai",
   "metadata": {
    "execution": {
     "iopub.execute_input": "2021-06-04T12:50:23.124630Z",
     "iopub.status.busy": "2021-06-04T12:50:23.124083Z",
     "iopub.status.idle": "2021-06-04T12:50:23.126277Z",
     "shell.execute_reply": "2021-06-04T12:50:23.125752Z"
    },
    "papermill": {
     "duration": 0.041599,
     "end_time": "2021-06-04T12:50:23.126378",
     "exception": false,
     "start_time": "2021-06-04T12:50:23.084779",
     "status": "completed"
    },
    "tags": []
   },
   "outputs": [],
   "source": [
    "#hide\n",
    "# g = g.rename(columns= {'continent':'group','country':'name','cases':'value'})"
   ]
  },
  {
   "cell_type": "code",
   "execution_count": 36,
   "id": "fleet-motorcycle",
   "metadata": {
    "execution": {
     "iopub.execute_input": "2021-06-04T12:50:23.195423Z",
     "iopub.status.busy": "2021-06-04T12:50:23.194903Z",
     "iopub.status.idle": "2021-06-04T12:50:23.196834Z",
     "shell.execute_reply": "2021-06-04T12:50:23.197269Z"
    },
    "papermill": {
     "duration": 0.038563,
     "end_time": "2021-06-04T12:50:23.197378",
     "exception": false,
     "start_time": "2021-06-04T12:50:23.158815",
     "status": "completed"
    },
    "tags": []
   },
   "outputs": [],
   "source": [
    "#hide\n",
    "# cols = ['name','group','day','value']"
   ]
  },
  {
   "cell_type": "code",
   "execution_count": 37,
   "id": "continued-sleeping",
   "metadata": {
    "execution": {
     "iopub.execute_input": "2021-06-04T12:50:23.273878Z",
     "iopub.status.busy": "2021-06-04T12:50:23.273179Z",
     "iopub.status.idle": "2021-06-04T12:50:23.274998Z",
     "shell.execute_reply": "2021-06-04T12:50:23.275427Z"
    },
    "papermill": {
     "duration": 0.038649,
     "end_time": "2021-06-04T12:50:23.275586",
     "exception": false,
     "start_time": "2021-06-04T12:50:23.236937",
     "status": "completed"
    },
    "tags": []
   },
   "outputs": [],
   "source": [
    "#hide\n",
    "# g.rename(columns= {'date':'day'},inplace = True)"
   ]
  },
  {
   "cell_type": "code",
   "execution_count": 38,
   "id": "major-fight",
   "metadata": {
    "execution": {
     "iopub.execute_input": "2021-06-04T12:50:23.346485Z",
     "iopub.status.busy": "2021-06-04T12:50:23.345836Z",
     "iopub.status.idle": "2021-06-04T12:50:23.348624Z",
     "shell.execute_reply": "2021-06-04T12:50:23.349041Z"
    },
    "papermill": {
     "duration": 0.03979,
     "end_time": "2021-06-04T12:50:23.349154",
     "exception": false,
     "start_time": "2021-06-04T12:50:23.309364",
     "status": "completed"
    },
    "tags": []
   },
   "outputs": [],
   "source": [
    "#hide\n",
    "# g = g[cols]"
   ]
  },
  {
   "cell_type": "code",
   "execution_count": 39,
   "id": "structured-mobile",
   "metadata": {
    "execution": {
     "iopub.execute_input": "2021-06-04T12:50:23.419621Z",
     "iopub.status.busy": "2021-06-04T12:50:23.419114Z",
     "iopub.status.idle": "2021-06-04T12:50:23.422029Z",
     "shell.execute_reply": "2021-06-04T12:50:23.421597Z"
    },
    "papermill": {
     "duration": 0.038432,
     "end_time": "2021-06-04T12:50:23.422128",
     "exception": false,
     "start_time": "2021-06-04T12:50:23.383696",
     "status": "completed"
    },
    "tags": []
   },
   "outputs": [],
   "source": [
    "# #hide\n",
    "# g = g[g.group.notna()]"
   ]
  },
  {
   "cell_type": "code",
   "execution_count": 40,
   "id": "determined-closing",
   "metadata": {
    "execution": {
     "iopub.execute_input": "2021-06-04T12:50:23.490099Z",
     "iopub.status.busy": "2021-06-04T12:50:23.489366Z",
     "iopub.status.idle": "2021-06-04T12:50:23.491278Z",
     "shell.execute_reply": "2021-06-04T12:50:23.491715Z"
    },
    "papermill": {
     "duration": 0.036998,
     "end_time": "2021-06-04T12:50:23.491833",
     "exception": false,
     "start_time": "2021-06-04T12:50:23.454835",
     "status": "completed"
    },
    "tags": []
   },
   "outputs": [],
   "source": [
    "# #hide\n",
    "# colors = dict(zip(\n",
    "#     [\"Oceania\", \"Europe\", \"Asia\", \"South America\", \"Middle East\", \"North America\", \"Africa\"],\n",
    "#     [\"#adb0ff\", \"#ffb3ff\", \"#90d595\", \"#e48381\", \"#aafbff\", \"#f7bb5f\", \"#eafb50\"]\n",
    "# ))\n",
    "# group_lk = g.set_index('name')['group'].to_dict()"
   ]
  },
  {
   "cell_type": "code",
   "execution_count": null,
   "id": "gross-drinking",
   "metadata": {
    "papermill": {
     "duration": 0.033873,
     "end_time": "2021-06-04T12:50:23.559234",
     "exception": false,
     "start_time": "2021-06-04T12:50:23.525361",
     "status": "completed"
    },
    "tags": []
   },
   "outputs": [],
   "source": []
  },
  {
   "cell_type": "code",
   "execution_count": 41,
   "id": "subject-macintosh",
   "metadata": {
    "execution": {
     "iopub.execute_input": "2021-06-04T12:50:23.632400Z",
     "iopub.status.busy": "2021-06-04T12:50:23.631793Z",
     "iopub.status.idle": "2021-06-04T12:50:23.634339Z",
     "shell.execute_reply": "2021-06-04T12:50:23.633822Z"
    },
    "papermill": {
     "duration": 0.043288,
     "end_time": "2021-06-04T12:50:23.634446",
     "exception": false,
     "start_time": "2021-06-04T12:50:23.591158",
     "status": "completed"
    },
    "tags": []
   },
   "outputs": [],
   "source": [
    "# #hide\n",
    "# fig, ax = plt.subplots(figsize=(15, 8))\n",
    "\n",
    "# def draw_barchart(current_day):\n",
    "#     dff = g[g['day'].eq(current_day)].sort_values(by='value', ascending=True).tail(10)\n",
    "#     ax.clear()\n",
    "#     ax.barh(dff['name'], dff['value'], color=[colors[group_lk[x]] for x in dff['name']])\n",
    "#     dx = dff['value'].max() / 200\n",
    "    \n",
    "#     for i, (value, name) in enumerate(zip(dff['value'], dff['name'])):\n",
    "#         ax.text(value-dx, i,     name,           size=14, weight=600, ha='right', va='bottom')\n",
    "#         ax.text(value-dx, i-.25, group_lk[name], size=10, color='#444444', ha='right', va='baseline')\n",
    "#         ax.text(value+dx, i,     f'{value:,.0f}',  size=14, ha='left',  va='center')\n",
    "#     ax.text(1, 0.4, current_day, transform=ax.transAxes, color='#777777', size=46, ha='right', weight=800)\n",
    "#     ax.text(0, 1.06, 'Population (thousands)', transform=ax.transAxes, size=12, color='#777777')\n",
    "#     ax.xaxis.set_major_formatter(ticker.StrMethodFormatter('{x:,.0f}'))\n",
    "#     ax.xaxis.set_ticks_position('top')\n",
    "#     ax.tick_params(axis='x', colors='#777777', labelsize=12)\n",
    "#     ax.set_yticks([])\n",
    "#     ax.margins(0, 0.01)\n",
    "#     ax.grid(which='major', axis='x', linestyle='-')\n",
    "#     ax.set_axisbelow(True)\n",
    "    \n",
    "#     ax.text(0, 1.15, 'Coronavirus',\n",
    "#             transform=ax.transAxes, size=24, weight=600, ha='left', va='top')\n",
    "# #     ax.text(1, 0, 'by @pratapvardhan; credit @jburnmurdoch', transform=ax.transAxes, color='#777777', ha='right',\n",
    "# #             bbox=dict(facecolor='white', alpha=0.8, edgecolor='white'))\n",
    "#     plt.box(False)"
   ]
  },
  {
   "cell_type": "code",
   "execution_count": 42,
   "id": "sexual-wages",
   "metadata": {
    "execution": {
     "iopub.execute_input": "2021-06-04T12:50:23.712533Z",
     "iopub.status.busy": "2021-06-04T12:50:23.711965Z",
     "iopub.status.idle": "2021-06-04T12:50:23.713686Z",
     "shell.execute_reply": "2021-06-04T12:50:23.714223Z"
    },
    "papermill": {
     "duration": 0.040646,
     "end_time": "2021-06-04T12:50:23.714347",
     "exception": false,
     "start_time": "2021-06-04T12:50:23.673701",
     "status": "completed"
    },
    "tags": []
   },
   "outputs": [],
   "source": [
    "# #hide_input\n",
    "# fig, ax = plt.subplots(figsize=(15, 8))\n",
    "# animator = animation.FuncAnimation(fig, draw_barchart, frames=range(g.day.values.min(), g.day.values.max()))\n",
    "# HTML(animator.to_jshtml())\n",
    "# # or use animator.to_html5_video() or animator.save() "
   ]
  },
  {
   "cell_type": "code",
   "execution_count": null,
   "id": "australian-container",
   "metadata": {
    "papermill": {
     "duration": 0.035064,
     "end_time": "2021-06-04T12:50:23.783907",
     "exception": false,
     "start_time": "2021-06-04T12:50:23.748843",
     "status": "completed"
    },
    "tags": []
   },
   "outputs": [],
   "source": []
  },
  {
   "cell_type": "code",
   "execution_count": null,
   "id": "mediterranean-pontiac",
   "metadata": {
    "papermill": {
     "duration": 0.036274,
     "end_time": "2021-06-04T12:50:23.855393",
     "exception": false,
     "start_time": "2021-06-04T12:50:23.819119",
     "status": "completed"
    },
    "tags": []
   },
   "outputs": [],
   "source": []
  },
  {
   "cell_type": "code",
   "execution_count": null,
   "id": "aging-legislature",
   "metadata": {
    "papermill": {
     "duration": 0.036011,
     "end_time": "2021-06-04T12:50:23.926692",
     "exception": false,
     "start_time": "2021-06-04T12:50:23.890681",
     "status": "completed"
    },
    "tags": []
   },
   "outputs": [],
   "source": []
  }
 ],
 "metadata": {
  "kernelspec": {
   "display_name": "Python 3",
   "language": "python",
   "name": "python3"
  },
  "language_info": {
   "codemirror_mode": {
    "name": "ipython",
    "version": 3
   },
   "file_extension": ".py",
   "mimetype": "text/x-python",
   "name": "python",
   "nbconvert_exporter": "python",
   "pygments_lexer": "ipython3",
   "version": "3.6.13"
  },
  "papermill": {
   "duration": 7.33834,
   "end_time": "2021-06-04T12:50:25.153376",
   "environment_variables": {},
   "exception": null,
   "input_path": "2020-03-21-covid19exp.ipynb",
   "output_path": "2020-03-21-covid19exp.ipynb",
   "parameters": {},
   "start_time": "2021-06-04T12:50:17.815036",
   "version": "2.0.0"
  }
 },
 "nbformat": 4,
 "nbformat_minor": 5
}