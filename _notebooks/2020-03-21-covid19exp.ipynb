{
 "cells": [
  {
   "cell_type": "markdown",
   "id": "muslim-click",
   "metadata": {
    "papermill": {
     "duration": 0.038344,
     "end_time": "2021-06-28T00:21:26.196467",
     "exception": false,
     "start_time": "2021-06-28T00:21:26.158123",
     "status": "completed"
    },
    "tags": []
   },
   "source": [
    "# COVID-19 Case Race\n",
    "> A race chart to see rising cases around the world\n",
    "\n",
    "- author: Hargun Oberoi\n",
    "- image: images/covid-overview.png\n",
    "- hide: false\n",
    "- badges: false"
   ]
  },
  {
   "cell_type": "code",
   "execution_count": 1,
   "id": "proof-material",
   "metadata": {
    "execution": {
     "iopub.execute_input": "2021-06-28T00:21:26.274713Z",
     "iopub.status.busy": "2021-06-28T00:21:26.274138Z",
     "iopub.status.idle": "2021-06-28T00:21:26.647728Z",
     "shell.execute_reply": "2021-06-28T00:21:26.647110Z"
    },
    "papermill": {
     "duration": 0.418088,
     "end_time": "2021-06-28T00:21:26.647890",
     "exception": false,
     "start_time": "2021-06-28T00:21:26.229802",
     "status": "completed"
    },
    "tags": []
   },
   "outputs": [],
   "source": [
    "#hide\n",
    "import numpy as np\n",
    "import pandas as pd\n",
    "from jinja2 import Template\n",
    "from IPython.display import HTML"
   ]
  },
  {
   "cell_type": "code",
   "execution_count": 2,
   "id": "developed-terminology",
   "metadata": {
    "execution": {
     "iopub.execute_input": "2021-06-28T00:21:26.722273Z",
     "iopub.status.busy": "2021-06-28T00:21:26.721660Z",
     "iopub.status.idle": "2021-06-28T00:21:26.725254Z",
     "shell.execute_reply": "2021-06-28T00:21:26.725707Z"
    },
    "papermill": {
     "duration": 0.04452,
     "end_time": "2021-06-28T00:21:26.725850",
     "exception": false,
     "start_time": "2021-06-28T00:21:26.681330",
     "status": "completed"
    },
    "tags": []
   },
   "outputs": [],
   "source": [
    "#hide\n",
    "\n",
    "# FETCH\n",
    "base_url = 'https://raw.githubusercontent.com/pratapvardhan/notebooks/master/covid19/'\n",
    "paths = {\n",
    "    'mapping': base_url + 'mapping_countries.csv',\n",
    "    'overview': base_url + 'overview.tpl'\n",
    "}"
   ]
  },
  {
   "cell_type": "code",
   "execution_count": 3,
   "id": "dynamic-saver",
   "metadata": {
    "execution": {
     "iopub.execute_input": "2021-06-28T00:21:26.805697Z",
     "iopub.status.busy": "2021-06-28T00:21:26.805082Z",
     "iopub.status.idle": "2021-06-28T00:21:26.807550Z",
     "shell.execute_reply": "2021-06-28T00:21:26.808046Z"
    },
    "papermill": {
     "duration": 0.048198,
     "end_time": "2021-06-28T00:21:26.808193",
     "exception": false,
     "start_time": "2021-06-28T00:21:26.759995",
     "status": "completed"
    },
    "tags": []
   },
   "outputs": [
    {
     "data": {
      "text/plain": [
       "'https://raw.githubusercontent.com/pratapvardhan/notebooks/master/covid19/mapping_countries.csv'"
      ]
     },
     "execution_count": 3,
     "metadata": {},
     "output_type": "execute_result"
    }
   ],
   "source": [
    "#hide\n",
    "paths['mapping']"
   ]
  },
  {
   "cell_type": "code",
   "execution_count": 4,
   "id": "urban-software",
   "metadata": {
    "execution": {
     "iopub.execute_input": "2021-06-28T00:21:26.881694Z",
     "iopub.status.busy": "2021-06-28T00:21:26.881101Z",
     "iopub.status.idle": "2021-06-28T00:21:26.883896Z",
     "shell.execute_reply": "2021-06-28T00:21:26.883367Z"
    },
    "papermill": {
     "duration": 0.041204,
     "end_time": "2021-06-28T00:21:26.884026",
     "exception": false,
     "start_time": "2021-06-28T00:21:26.842822",
     "status": "completed"
    },
    "tags": []
   },
   "outputs": [],
   "source": [
    "#hide\n",
    "def get_mappings(url):\n",
    "    df = pd.read_csv(url)\n",
    "    return {\n",
    "        'df': df,\n",
    "        'replace.country': dict(df.dropna(subset=['Name']).set_index('Country')['Name']),\n",
    "        'map.continent': dict(df.set_index('Name')['Continent'])\n",
    "    }"
   ]
  },
  {
   "cell_type": "code",
   "execution_count": 5,
   "id": "intimate-machinery",
   "metadata": {
    "execution": {
     "iopub.execute_input": "2021-06-28T00:21:26.956299Z",
     "iopub.status.busy": "2021-06-28T00:21:26.955692Z",
     "iopub.status.idle": "2021-06-28T00:21:26.986529Z",
     "shell.execute_reply": "2021-06-28T00:21:26.985923Z"
    },
    "papermill": {
     "duration": 0.069822,
     "end_time": "2021-06-28T00:21:26.986686",
     "exception": false,
     "start_time": "2021-06-28T00:21:26.916864",
     "status": "completed"
    },
    "tags": []
   },
   "outputs": [],
   "source": [
    "#hide\n",
    "mapping = get_mappings(paths['mapping'])"
   ]
  },
  {
   "cell_type": "code",
   "execution_count": 6,
   "id": "certified-tactics",
   "metadata": {
    "execution": {
     "iopub.execute_input": "2021-06-28T00:21:27.059440Z",
     "iopub.status.busy": "2021-06-28T00:21:27.058802Z",
     "iopub.status.idle": "2021-06-28T00:21:27.061360Z",
     "shell.execute_reply": "2021-06-28T00:21:27.060879Z"
    },
    "papermill": {
     "duration": 0.039772,
     "end_time": "2021-06-28T00:21:27.061487",
     "exception": false,
     "start_time": "2021-06-28T00:21:27.021715",
     "status": "completed"
    },
    "tags": []
   },
   "outputs": [],
   "source": [
    "#hide\n",
    "def get_template(path):\n",
    "    from urllib.parse import urlparse\n",
    "    if bool(urlparse(path).netloc):\n",
    "        from urllib.request import urlopen\n",
    "        return urlopen(path).read().decode('utf8')\n",
    "    return open(path).read()"
   ]
  },
  {
   "cell_type": "code",
   "execution_count": 7,
   "id": "realistic-blast",
   "metadata": {
    "execution": {
     "iopub.execute_input": "2021-06-28T00:21:27.132430Z",
     "iopub.status.busy": "2021-06-28T00:21:27.131868Z",
     "iopub.status.idle": "2021-06-28T00:21:27.134083Z",
     "shell.execute_reply": "2021-06-28T00:21:27.133611Z"
    },
    "papermill": {
     "duration": 0.039837,
     "end_time": "2021-06-28T00:21:27.134198",
     "exception": false,
     "start_time": "2021-06-28T00:21:27.094361",
     "status": "completed"
    },
    "tags": []
   },
   "outputs": [],
   "source": [
    "#hide\n",
    "def get_frame(name):\n",
    "    url = (\n",
    "        'https://raw.githubusercontent.com/CSSEGISandData/COVID-19/master/csse_covid_19_data/'\n",
    "        f'csse_covid_19_time_series/time_series_covid19_{name}_global.csv')\n",
    "    df = pd.read_csv(url)\n",
    "    # rename countries\n",
    "    df['Country/Region'] = df['Country/Region'].replace(mapping['replace.country'])\n",
    "    return df"
   ]
  },
  {
   "cell_type": "code",
   "execution_count": 8,
   "id": "affiliated-characterization",
   "metadata": {
    "execution": {
     "iopub.execute_input": "2021-06-28T00:21:27.206960Z",
     "iopub.status.busy": "2021-06-28T00:21:27.206380Z",
     "iopub.status.idle": "2021-06-28T00:21:27.208594Z",
     "shell.execute_reply": "2021-06-28T00:21:27.208146Z"
    },
    "papermill": {
     "duration": 0.041202,
     "end_time": "2021-06-28T00:21:27.208714",
     "exception": false,
     "start_time": "2021-06-28T00:21:27.167512",
     "status": "completed"
    },
    "tags": []
   },
   "outputs": [],
   "source": [
    "#hide\n",
    "def get_dates(df):\n",
    "    dt_cols = df.columns[~df.columns.isin(['Province/State', 'Country/Region', 'Lat', 'Long'])]\n",
    "    LAST_DATE_I = -1\n",
    "    # sometimes last column may be empty, then go backwards\n",
    "    for i in range(-1, -len(dt_cols), -1):\n",
    "        if not df[dt_cols[i]].fillna(0).eq(0).all():\n",
    "            LAST_DATE_I = i\n",
    "            break\n",
    "    return LAST_DATE_I, dt_cols"
   ]
  },
  {
   "cell_type": "code",
   "execution_count": 9,
   "id": "recent-optimization",
   "metadata": {
    "execution": {
     "iopub.execute_input": "2021-06-28T00:21:27.281297Z",
     "iopub.status.busy": "2021-06-28T00:21:27.280597Z",
     "iopub.status.idle": "2021-06-28T00:21:27.594267Z",
     "shell.execute_reply": "2021-06-28T00:21:27.593715Z"
    },
    "papermill": {
     "duration": 0.352582,
     "end_time": "2021-06-28T00:21:27.594417",
     "exception": false,
     "start_time": "2021-06-28T00:21:27.241835",
     "status": "completed"
    },
    "tags": []
   },
   "outputs": [],
   "source": [
    "#hide\n",
    "COL_REGION = 'Country/Region'\n",
    "# Confirmed, Recovered, Deaths\n",
    "df = get_frame('confirmed')\n",
    "# dft_: timeseries, dfc_: today country agg\n",
    "dft_cases = df\n",
    "dft_deaths = get_frame('deaths')\n",
    "dft_recovered = get_frame('recovered')\n",
    "LAST_DATE_I, dt_cols = get_dates(df)"
   ]
  },
  {
   "cell_type": "code",
   "execution_count": 10,
   "id": "absolute-copper",
   "metadata": {
    "execution": {
     "iopub.execute_input": "2021-06-28T00:21:27.669333Z",
     "iopub.status.busy": "2021-06-28T00:21:27.668746Z",
     "iopub.status.idle": "2021-06-28T00:21:27.671041Z",
     "shell.execute_reply": "2021-06-28T00:21:27.670522Z"
    },
    "papermill": {
     "duration": 0.04203,
     "end_time": "2021-06-28T00:21:27.671166",
     "exception": false,
     "start_time": "2021-06-28T00:21:27.629136",
     "status": "completed"
    },
    "tags": []
   },
   "outputs": [],
   "source": [
    "#hide\n",
    "LAST_DATE_I, dt_cols = get_dates(df)\n",
    "dt_today =dt_cols[LAST_DATE_I]\n",
    "# dt_5day = dt_cols[LAST_DATE_I - 5]\n",
    "dt_yday = dt_cols[LAST_DATE_I - 1]"
   ]
  },
  {
   "cell_type": "code",
   "execution_count": 11,
   "id": "restricted-sheriff",
   "metadata": {
    "execution": {
     "iopub.execute_input": "2021-06-28T00:21:27.746281Z",
     "iopub.status.busy": "2021-06-28T00:21:27.745672Z",
     "iopub.status.idle": "2021-06-28T00:21:27.750978Z",
     "shell.execute_reply": "2021-06-28T00:21:27.750489Z"
    },
    "papermill": {
     "duration": 0.046903,
     "end_time": "2021-06-28T00:21:27.751106",
     "exception": false,
     "start_time": "2021-06-28T00:21:27.704203",
     "status": "completed"
    },
    "tags": []
   },
   "outputs": [],
   "source": [
    "#hide\n",
    "dfc_cases = dft_cases.groupby(COL_REGION)[dt_today].sum()\n",
    "dfc_deaths = dft_deaths.groupby(COL_REGION)[dt_today].sum()\n",
    "# dfp_cases = dft_cases.groupby(COL_REGION)[dt_5day].sum()\n",
    "# dfp_deaths = dft_deaths.groupby(COL_REGION)[dt_5day].sum()\n",
    "dfp_cases = dft_cases.groupby(COL_REGION)[dt_yday].sum()\n",
    "dfp_deaths = dft_deaths.groupby(COL_REGION)[dt_yday].sum()"
   ]
  },
  {
   "cell_type": "code",
   "execution_count": 12,
   "id": "deluxe-hepatitis",
   "metadata": {
    "execution": {
     "iopub.execute_input": "2021-06-28T00:21:27.827270Z",
     "iopub.status.busy": "2021-06-28T00:21:27.826662Z",
     "iopub.status.idle": "2021-06-28T00:21:27.832150Z",
     "shell.execute_reply": "2021-06-28T00:21:27.831649Z"
    },
    "papermill": {
     "duration": 0.04782,
     "end_time": "2021-06-28T00:21:27.832282",
     "exception": false,
     "start_time": "2021-06-28T00:21:27.784462",
     "status": "completed"
    },
    "tags": []
   },
   "outputs": [],
   "source": [
    "#hide\n",
    "df_table = (pd.DataFrame(dict(Cases = dfc_cases, Deaths = dfc_deaths, PCases = dfp_cases, PDeaths = dfp_deaths))\n",
    "            .sort_values(by = ['Cases','Deaths'], ascending = [False, False])\n",
    "            .reset_index())"
   ]
  },
  {
   "cell_type": "code",
   "execution_count": 13,
   "id": "educational-chancellor",
   "metadata": {
    "execution": {
     "iopub.execute_input": "2021-06-28T00:21:27.909774Z",
     "iopub.status.busy": "2021-06-28T00:21:27.909165Z",
     "iopub.status.idle": "2021-06-28T00:21:27.929749Z",
     "shell.execute_reply": "2021-06-28T00:21:27.929255Z"
    },
    "papermill": {
     "duration": 0.06336,
     "end_time": "2021-06-28T00:21:27.929883",
     "exception": false,
     "start_time": "2021-06-28T00:21:27.866523",
     "status": "completed"
    },
    "tags": []
   },
   "outputs": [
    {
     "data": {
      "text/html": [
       "<div>\n",
       "<style scoped>\n",
       "    .dataframe tbody tr th:only-of-type {\n",
       "        vertical-align: middle;\n",
       "    }\n",
       "\n",
       "    .dataframe tbody tr th {\n",
       "        vertical-align: top;\n",
       "    }\n",
       "\n",
       "    .dataframe thead th {\n",
       "        text-align: right;\n",
       "    }\n",
       "</style>\n",
       "<table border=\"1\" class=\"dataframe\">\n",
       "  <thead>\n",
       "    <tr style=\"text-align: right;\">\n",
       "      <th></th>\n",
       "      <th>Country/Region</th>\n",
       "      <th>Cases</th>\n",
       "      <th>Deaths</th>\n",
       "      <th>PCases</th>\n",
       "      <th>PDeaths</th>\n",
       "      <th>Cases (+)</th>\n",
       "      <th>Deaths (+)</th>\n",
       "      <th>Fatality Rate</th>\n",
       "      <th>Continent</th>\n",
       "    </tr>\n",
       "  </thead>\n",
       "  <tbody>\n",
       "    <tr>\n",
       "      <th>0</th>\n",
       "      <td>US</td>\n",
       "      <td>33621499</td>\n",
       "      <td>603891</td>\n",
       "      <td>33614196</td>\n",
       "      <td>603744</td>\n",
       "      <td>7303</td>\n",
       "      <td>147</td>\n",
       "      <td>1.80</td>\n",
       "      <td>North America</td>\n",
       "    </tr>\n",
       "    <tr>\n",
       "      <th>1</th>\n",
       "      <td>India</td>\n",
       "      <td>30233183</td>\n",
       "      <td>395751</td>\n",
       "      <td>30183143</td>\n",
       "      <td>394493</td>\n",
       "      <td>50040</td>\n",
       "      <td>1258</td>\n",
       "      <td>1.31</td>\n",
       "      <td>Asia</td>\n",
       "    </tr>\n",
       "    <tr>\n",
       "      <th>2</th>\n",
       "      <td>Brazil</td>\n",
       "      <td>18386894</td>\n",
       "      <td>512735</td>\n",
       "      <td>18322760</td>\n",
       "      <td>511142</td>\n",
       "      <td>64134</td>\n",
       "      <td>1593</td>\n",
       "      <td>2.79</td>\n",
       "      <td>South America</td>\n",
       "    </tr>\n",
       "    <tr>\n",
       "      <th>3</th>\n",
       "      <td>France</td>\n",
       "      <td>5830394</td>\n",
       "      <td>111113</td>\n",
       "      <td>5828266</td>\n",
       "      <td>111101</td>\n",
       "      <td>2128</td>\n",
       "      <td>12</td>\n",
       "      <td>1.91</td>\n",
       "      <td>Europe</td>\n",
       "    </tr>\n",
       "    <tr>\n",
       "      <th>4</th>\n",
       "      <td>Turkey</td>\n",
       "      <td>5404144</td>\n",
       "      <td>49524</td>\n",
       "      <td>5398878</td>\n",
       "      <td>49473</td>\n",
       "      <td>5266</td>\n",
       "      <td>51</td>\n",
       "      <td>0.92</td>\n",
       "      <td>Asia</td>\n",
       "    </tr>\n",
       "  </tbody>\n",
       "</table>\n",
       "</div>"
      ],
      "text/plain": [
       "  Country/Region     Cases  Deaths    PCases  PDeaths  Cases (+)  Deaths (+)  \\\n",
       "0             US  33621499  603891  33614196   603744       7303         147   \n",
       "1          India  30233183  395751  30183143   394493      50040        1258   \n",
       "2         Brazil  18386894  512735  18322760   511142      64134        1593   \n",
       "3         France   5830394  111113   5828266   111101       2128          12   \n",
       "4         Turkey   5404144   49524   5398878    49473       5266          51   \n",
       "\n",
       "   Fatality Rate      Continent  \n",
       "0           1.80  North America  \n",
       "1           1.31           Asia  \n",
       "2           2.79  South America  \n",
       "3           1.91         Europe  \n",
       "4           0.92           Asia  "
      ]
     },
     "execution_count": 13,
     "metadata": {},
     "output_type": "execute_result"
    }
   ],
   "source": [
    "#hide\n",
    "for c in 'Cases, Deaths'.split(', '):\n",
    "    df_table[f'{c} (+)'] = (df_table[c] - df_table[f'P{c}']).clip(0)\n",
    "    #Clip ça veut dire, les chiffres negatif sont interdit\n",
    "df_table['Fatality Rate'] = (100* df_table['Deaths']/ df_table['Cases']).round(2)\n",
    "df_table['Continent'] = df_table['Country/Region'].map(mapping['map.continent'])\n",
    "df_table.head(5)"
   ]
  },
  {
   "cell_type": "code",
   "execution_count": 14,
   "id": "aboriginal-bulgaria",
   "metadata": {
    "execution": {
     "iopub.execute_input": "2021-06-28T00:21:28.008141Z",
     "iopub.status.busy": "2021-06-28T00:21:28.007521Z",
     "iopub.status.idle": "2021-06-28T00:21:28.009501Z",
     "shell.execute_reply": "2021-06-28T00:21:28.010009Z"
    },
    "papermill": {
     "duration": 0.04546,
     "end_time": "2021-06-28T00:21:28.010150",
     "exception": false,
     "start_time": "2021-06-28T00:21:27.964690",
     "status": "completed"
    },
    "tags": []
   },
   "outputs": [],
   "source": [
    "#hide\n",
    "#delete problematic countries from table\n",
    "df_table = df_table[~df_table['Country/Region'].isin(['Cape Verde', 'Cruise Ship', 'Kosovo'])]"
   ]
  },
  {
   "cell_type": "code",
   "execution_count": 15,
   "id": "fantastic-effect",
   "metadata": {
    "execution": {
     "iopub.execute_input": "2021-06-28T00:21:28.093685Z",
     "iopub.status.busy": "2021-06-28T00:21:28.093071Z",
     "iopub.status.idle": "2021-06-28T00:21:28.113475Z",
     "shell.execute_reply": "2021-06-28T00:21:28.112960Z"
    },
    "papermill": {
     "duration": 0.068854,
     "end_time": "2021-06-28T00:21:28.113602",
     "exception": false,
     "start_time": "2021-06-28T00:21:28.044748",
     "status": "completed"
    },
    "tags": []
   },
   "outputs": [
    {
     "data": {
      "text/html": [
       "<div>\n",
       "<style scoped>\n",
       "    .dataframe tbody tr th:only-of-type {\n",
       "        vertical-align: middle;\n",
       "    }\n",
       "\n",
       "    .dataframe tbody tr th {\n",
       "        vertical-align: top;\n",
       "    }\n",
       "\n",
       "    .dataframe thead th {\n",
       "        text-align: right;\n",
       "    }\n",
       "</style>\n",
       "<table border=\"1\" class=\"dataframe\">\n",
       "  <thead>\n",
       "    <tr style=\"text-align: right;\">\n",
       "      <th></th>\n",
       "      <th>Country/Region</th>\n",
       "      <th>Cases</th>\n",
       "      <th>Deaths</th>\n",
       "      <th>PCases</th>\n",
       "      <th>PDeaths</th>\n",
       "      <th>Cases (+)</th>\n",
       "      <th>Deaths (+)</th>\n",
       "      <th>Fatality Rate</th>\n",
       "      <th>Continent</th>\n",
       "    </tr>\n",
       "  </thead>\n",
       "  <tbody>\n",
       "    <tr>\n",
       "      <th>0</th>\n",
       "      <td>US</td>\n",
       "      <td>33621499</td>\n",
       "      <td>603891</td>\n",
       "      <td>33614196</td>\n",
       "      <td>603744</td>\n",
       "      <td>7303</td>\n",
       "      <td>147</td>\n",
       "      <td>1.8</td>\n",
       "      <td>North America</td>\n",
       "    </tr>\n",
       "    <tr>\n",
       "      <th>1</th>\n",
       "      <td>India</td>\n",
       "      <td>30233183</td>\n",
       "      <td>395751</td>\n",
       "      <td>30183143</td>\n",
       "      <td>394493</td>\n",
       "      <td>50040</td>\n",
       "      <td>1258</td>\n",
       "      <td>1.3</td>\n",
       "      <td>Asia</td>\n",
       "    </tr>\n",
       "    <tr>\n",
       "      <th>2</th>\n",
       "      <td>Brazil</td>\n",
       "      <td>18386894</td>\n",
       "      <td>512735</td>\n",
       "      <td>18322760</td>\n",
       "      <td>511142</td>\n",
       "      <td>64134</td>\n",
       "      <td>1593</td>\n",
       "      <td>2.8</td>\n",
       "      <td>South America</td>\n",
       "    </tr>\n",
       "    <tr>\n",
       "      <th>3</th>\n",
       "      <td>France</td>\n",
       "      <td>5830394</td>\n",
       "      <td>111113</td>\n",
       "      <td>5828266</td>\n",
       "      <td>111101</td>\n",
       "      <td>2128</td>\n",
       "      <td>12</td>\n",
       "      <td>1.9</td>\n",
       "      <td>Europe</td>\n",
       "    </tr>\n",
       "    <tr>\n",
       "      <th>4</th>\n",
       "      <td>Turkey</td>\n",
       "      <td>5404144</td>\n",
       "      <td>49524</td>\n",
       "      <td>5398878</td>\n",
       "      <td>49473</td>\n",
       "      <td>5266</td>\n",
       "      <td>51</td>\n",
       "      <td>0.9</td>\n",
       "      <td>Asia</td>\n",
       "    </tr>\n",
       "  </tbody>\n",
       "</table>\n",
       "</div>"
      ],
      "text/plain": [
       "  Country/Region     Cases  Deaths    PCases  PDeaths  Cases (+)  Deaths (+)  \\\n",
       "0             US  33621499  603891  33614196   603744       7303         147   \n",
       "1          India  30233183  395751  30183143   394493      50040        1258   \n",
       "2         Brazil  18386894  512735  18322760   511142      64134        1593   \n",
       "3         France   5830394  111113   5828266   111101       2128          12   \n",
       "4         Turkey   5404144   49524   5398878    49473       5266          51   \n",
       "\n",
       "   Fatality Rate      Continent  \n",
       "0            1.8  North America  \n",
       "1            1.3           Asia  \n",
       "2            2.8  South America  \n",
       "3            1.9         Europe  \n",
       "4            0.9           Asia  "
      ]
     },
     "execution_count": 15,
     "metadata": {},
     "output_type": "execute_result"
    }
   ],
   "source": [
    "#hide\n",
    "df_table = (pd.DataFrame(dict(Cases=dfc_cases, Deaths=dfc_deaths, PCases=dfp_cases, PDeaths=dfp_deaths))\n",
    "             .sort_values(by=['Cases', 'Deaths'], ascending=[False, False])\n",
    "             .reset_index())\n",
    "df_table.rename(columns={'index': 'Country/Region'}, inplace=True)\n",
    "for c in 'Cases, Deaths'.split(', '):\n",
    "    df_table[f'{c} (+)'] = (df_table[c] - df_table[f'P{c}']).clip(0)  # DATA BUG\n",
    "df_table['Fatality Rate'] = (100 * df_table['Deaths'] / df_table['Cases']).round(1)\n",
    "df_table['Continent'] = df_table['Country/Region'].map(mapping['map.continent'])\n",
    "df_table.head(5)"
   ]
  },
  {
   "cell_type": "code",
   "execution_count": 16,
   "id": "fewer-occasion",
   "metadata": {
    "execution": {
     "iopub.execute_input": "2021-06-28T00:21:28.188721Z",
     "iopub.status.busy": "2021-06-28T00:21:28.188119Z",
     "iopub.status.idle": "2021-06-28T00:21:28.192380Z",
     "shell.execute_reply": "2021-06-28T00:21:28.192839Z"
    },
    "papermill": {
     "duration": 0.045094,
     "end_time": "2021-06-28T00:21:28.192978",
     "exception": false,
     "start_time": "2021-06-28T00:21:28.147884",
     "status": "completed"
    },
    "tags": []
   },
   "outputs": [],
   "source": [
    "#hide\n",
    "#delete problematic countries from table\n",
    "df_table = df_table[~df_table['Country/Region'].isin(['Cape Verde', 'Cruise Ship', 'Kosovo'])]"
   ]
  },
  {
   "cell_type": "code",
   "execution_count": 17,
   "id": "related-center",
   "metadata": {
    "execution": {
     "iopub.execute_input": "2021-06-28T00:21:28.280690Z",
     "iopub.status.busy": "2021-06-28T00:21:28.280083Z",
     "iopub.status.idle": "2021-06-28T00:21:28.284779Z",
     "shell.execute_reply": "2021-06-28T00:21:28.284291Z"
    },
    "papermill": {
     "duration": 0.057521,
     "end_time": "2021-06-28T00:21:28.284907",
     "exception": false,
     "start_time": "2021-06-28T00:21:28.227386",
     "status": "completed"
    },
    "tags": []
   },
   "outputs": [],
   "source": [
    "#hide\n",
    "metrics = [df_table.columns[index] for index in [1,2,5,6]]\n",
    "# s_china = df_table[df_table['Country/Region'].eq('China')][metrics].sum().add_prefix('China ')\n",
    "s_us = df_table[df_table['Country/Region'].eq('US')][metrics].sum().add_prefix('US ')\n",
    "s_eu = df_table[df_table['Continent'].eq('Europe')][metrics].sum().add_prefix('EU ')\n",
    "s_ind = df_table[df_table['Country/Region'].eq('India')][metrics].sum().add_prefix('India ')\n",
    "summary = {'updated': pd.to_datetime(dt_today), 'since': pd.to_datetime(dt_yday)}\n",
    "summary = {'updated': pd.to_datetime(dt_today), 'since': pd.to_datetime(dt_yday)}\n",
    "summary = {**summary, **df_table[metrics].sum(), **s_ind, **s_us, **s_eu}"
   ]
  },
  {
   "cell_type": "code",
   "execution_count": 18,
   "id": "engaging-syndrome",
   "metadata": {
    "execution": {
     "iopub.execute_input": "2021-06-28T00:21:28.357841Z",
     "iopub.status.busy": "2021-06-28T00:21:28.357243Z",
     "iopub.status.idle": "2021-06-28T00:21:28.370188Z",
     "shell.execute_reply": "2021-06-28T00:21:28.369698Z"
    },
    "papermill": {
     "duration": 0.051471,
     "end_time": "2021-06-28T00:21:28.370323",
     "exception": false,
     "start_time": "2021-06-28T00:21:28.318852",
     "status": "completed"
    },
    "tags": []
   },
   "outputs": [],
   "source": [
    "#hide\n",
    "dft_ct_new_cases = dft_cases.groupby(COL_REGION)[dt_cols].sum().diff(axis=1).fillna(0).astype(int)"
   ]
  },
  {
   "cell_type": "code",
   "execution_count": 19,
   "id": "neutral-assignment",
   "metadata": {
    "execution": {
     "iopub.execute_input": "2021-06-28T00:21:28.445645Z",
     "iopub.status.busy": "2021-06-28T00:21:28.445058Z",
     "iopub.status.idle": "2021-06-28T00:21:28.447889Z",
     "shell.execute_reply": "2021-06-28T00:21:28.447337Z"
    },
    "papermill": {
     "duration": 0.043095,
     "end_time": "2021-06-28T00:21:28.448018",
     "exception": false,
     "start_time": "2021-06-28T00:21:28.404923",
     "status": "completed"
    },
    "tags": []
   },
   "outputs": [],
   "source": [
    "#hide\n",
    "everydaycases = dft_ct_new_cases.cumsum(axis=1)"
   ]
  },
  {
   "cell_type": "code",
   "execution_count": 20,
   "id": "parliamentary-calgary",
   "metadata": {
    "execution": {
     "iopub.execute_input": "2021-06-28T00:21:28.524659Z",
     "iopub.status.busy": "2021-06-28T00:21:28.524057Z",
     "iopub.status.idle": "2021-06-28T00:21:29.177235Z",
     "shell.execute_reply": "2021-06-28T00:21:29.176682Z"
    },
    "papermill": {
     "duration": 0.694407,
     "end_time": "2021-06-28T00:21:29.177380",
     "exception": false,
     "start_time": "2021-06-28T00:21:28.482973",
     "status": "completed"
    },
    "tags": []
   },
   "outputs": [],
   "source": [
    "#hide\n",
    "import pandas as pd\n",
    "import matplotlib.pyplot as plt\n",
    "import matplotlib.ticker as ticker\n",
    "import matplotlib.animation as animation\n",
    "from IPython.display import HTML"
   ]
  },
  {
   "cell_type": "code",
   "execution_count": 21,
   "id": "lasting-extraction",
   "metadata": {
    "execution": {
     "iopub.execute_input": "2021-06-28T00:21:29.254337Z",
     "iopub.status.busy": "2021-06-28T00:21:29.253718Z",
     "iopub.status.idle": "2021-06-28T00:21:29.261558Z",
     "shell.execute_reply": "2021-06-28T00:21:29.261055Z"
    },
    "papermill": {
     "duration": 0.048763,
     "end_time": "2021-06-28T00:21:29.261666",
     "exception": false,
     "start_time": "2021-06-28T00:21:29.212903",
     "status": "completed"
    },
    "tags": []
   },
   "outputs": [],
   "source": [
    "#hide\n",
    "t = everydaycases.stack()"
   ]
  },
  {
   "cell_type": "code",
   "execution_count": 22,
   "id": "premier-sleeve",
   "metadata": {
    "execution": {
     "iopub.execute_input": "2021-06-28T00:21:29.334538Z",
     "iopub.status.busy": "2021-06-28T00:21:29.334034Z",
     "iopub.status.idle": "2021-06-28T00:21:29.342178Z",
     "shell.execute_reply": "2021-06-28T00:21:29.342659Z"
    },
    "papermill": {
     "duration": 0.047542,
     "end_time": "2021-06-28T00:21:29.342808",
     "exception": false,
     "start_time": "2021-06-28T00:21:29.295266",
     "status": "completed"
    },
    "tags": []
   },
   "outputs": [],
   "source": [
    "#hide\n",
    "g = t.reset_index(['Country/Region'])"
   ]
  },
  {
   "cell_type": "code",
   "execution_count": 23,
   "id": "distributed-pittsburgh",
   "metadata": {
    "execution": {
     "iopub.execute_input": "2021-06-28T00:21:29.415863Z",
     "iopub.status.busy": "2021-06-28T00:21:29.415207Z",
     "iopub.status.idle": "2021-06-28T00:21:29.416879Z",
     "shell.execute_reply": "2021-06-28T00:21:29.417442Z"
    },
    "papermill": {
     "duration": 0.040714,
     "end_time": "2021-06-28T00:21:29.417594",
     "exception": false,
     "start_time": "2021-06-28T00:21:29.376880",
     "status": "completed"
    },
    "tags": []
   },
   "outputs": [],
   "source": [
    "#hide\n",
    "g.index.name = 'date'"
   ]
  },
  {
   "cell_type": "code",
   "execution_count": 24,
   "id": "naked-donor",
   "metadata": {
    "execution": {
     "iopub.execute_input": "2021-06-28T00:21:29.492271Z",
     "iopub.status.busy": "2021-06-28T00:21:29.491703Z",
     "iopub.status.idle": "2021-06-28T00:21:29.494507Z",
     "shell.execute_reply": "2021-06-28T00:21:29.495065Z"
    },
    "papermill": {
     "duration": 0.042724,
     "end_time": "2021-06-28T00:21:29.495210",
     "exception": false,
     "start_time": "2021-06-28T00:21:29.452486",
     "status": "completed"
    },
    "tags": []
   },
   "outputs": [],
   "source": [
    "# #hide\n",
    "# g = g.reset_index(['date'])"
   ]
  },
  {
   "cell_type": "code",
   "execution_count": 25,
   "id": "incomplete-mustang",
   "metadata": {
    "execution": {
     "iopub.execute_input": "2021-06-28T00:21:29.565010Z",
     "iopub.status.busy": "2021-06-28T00:21:29.564413Z",
     "iopub.status.idle": "2021-06-28T00:21:29.566424Z",
     "shell.execute_reply": "2021-06-28T00:21:29.566901Z"
    },
    "papermill": {
     "duration": 0.038197,
     "end_time": "2021-06-28T00:21:29.567044",
     "exception": false,
     "start_time": "2021-06-28T00:21:29.528847",
     "status": "completed"
    },
    "tags": []
   },
   "outputs": [],
   "source": [
    "#hide\n",
    "# g.head()"
   ]
  },
  {
   "cell_type": "code",
   "execution_count": 26,
   "id": "specific-kruger",
   "metadata": {
    "execution": {
     "iopub.execute_input": "2021-06-28T00:21:29.637564Z",
     "iopub.status.busy": "2021-06-28T00:21:29.636962Z",
     "iopub.status.idle": "2021-06-28T00:21:29.639028Z",
     "shell.execute_reply": "2021-06-28T00:21:29.638477Z"
    },
    "papermill": {
     "duration": 0.037975,
     "end_time": "2021-06-28T00:21:29.639143",
     "exception": false,
     "start_time": "2021-06-28T00:21:29.601168",
     "status": "completed"
    },
    "tags": []
   },
   "outputs": [],
   "source": [
    "#hide\n",
    "# g.columns = ['date','country','cases']"
   ]
  },
  {
   "cell_type": "code",
   "execution_count": 27,
   "id": "tender-conversion",
   "metadata": {
    "execution": {
     "iopub.execute_input": "2021-06-28T00:21:29.710416Z",
     "iopub.status.busy": "2021-06-28T00:21:29.709687Z",
     "iopub.status.idle": "2021-06-28T00:21:29.711492Z",
     "shell.execute_reply": "2021-06-28T00:21:29.710963Z"
    },
    "papermill": {
     "duration": 0.040552,
     "end_time": "2021-06-28T00:21:29.711619",
     "exception": false,
     "start_time": "2021-06-28T00:21:29.671067",
     "status": "completed"
    },
    "tags": []
   },
   "outputs": [],
   "source": [
    "#hide\n",
    "# g['continent'] = g.country"
   ]
  },
  {
   "cell_type": "code",
   "execution_count": 28,
   "id": "substantial-wilderness",
   "metadata": {
    "execution": {
     "iopub.execute_input": "2021-06-28T00:21:29.781457Z",
     "iopub.status.busy": "2021-06-28T00:21:29.780862Z",
     "iopub.status.idle": "2021-06-28T00:21:29.783476Z",
     "shell.execute_reply": "2021-06-28T00:21:29.782945Z"
    },
    "papermill": {
     "duration": 0.039179,
     "end_time": "2021-06-28T00:21:29.783602",
     "exception": false,
     "start_time": "2021-06-28T00:21:29.744423",
     "status": "completed"
    },
    "tags": []
   },
   "outputs": [],
   "source": [
    "#hide\n",
    "# cols = list(g.columns.values)"
   ]
  },
  {
   "cell_type": "code",
   "execution_count": 29,
   "id": "solved-farming",
   "metadata": {
    "execution": {
     "iopub.execute_input": "2021-06-28T00:21:29.856455Z",
     "iopub.status.busy": "2021-06-28T00:21:29.855875Z",
     "iopub.status.idle": "2021-06-28T00:21:29.858878Z",
     "shell.execute_reply": "2021-06-28T00:21:29.859354Z"
    },
    "papermill": {
     "duration": 0.041698,
     "end_time": "2021-06-28T00:21:29.859532",
     "exception": false,
     "start_time": "2021-06-28T00:21:29.817834",
     "status": "completed"
    },
    "tags": []
   },
   "outputs": [],
   "source": [
    "#hide\n",
    "# cols.insert(0, cols.pop())"
   ]
  },
  {
   "cell_type": "code",
   "execution_count": 30,
   "id": "executed-adoption",
   "metadata": {
    "execution": {
     "iopub.execute_input": "2021-06-28T00:21:29.930719Z",
     "iopub.status.busy": "2021-06-28T00:21:29.930115Z",
     "iopub.status.idle": "2021-06-28T00:21:29.932394Z",
     "shell.execute_reply": "2021-06-28T00:21:29.932875Z"
    },
    "papermill": {
     "duration": 0.039567,
     "end_time": "2021-06-28T00:21:29.933013",
     "exception": false,
     "start_time": "2021-06-28T00:21:29.893446",
     "status": "completed"
    },
    "tags": []
   },
   "outputs": [],
   "source": [
    "#hide\n",
    "# g = g[cols]"
   ]
  },
  {
   "cell_type": "code",
   "execution_count": 31,
   "id": "subject-dublin",
   "metadata": {
    "execution": {
     "iopub.execute_input": "2021-06-28T00:21:30.003249Z",
     "iopub.status.busy": "2021-06-28T00:21:30.002606Z",
     "iopub.status.idle": "2021-06-28T00:21:30.005074Z",
     "shell.execute_reply": "2021-06-28T00:21:30.004617Z"
    },
    "papermill": {
     "duration": 0.04038,
     "end_time": "2021-06-28T00:21:30.005193",
     "exception": false,
     "start_time": "2021-06-28T00:21:29.964813",
     "status": "completed"
    },
    "tags": []
   },
   "outputs": [],
   "source": [
    "#hide\n",
    "# g['continent'] = g['continent'].map(mapping['map.continent'])"
   ]
  },
  {
   "cell_type": "code",
   "execution_count": 32,
   "id": "freelance-scout",
   "metadata": {
    "execution": {
     "iopub.execute_input": "2021-06-28T00:21:30.078987Z",
     "iopub.status.busy": "2021-06-28T00:21:30.078368Z",
     "iopub.status.idle": "2021-06-28T00:21:30.080614Z",
     "shell.execute_reply": "2021-06-28T00:21:30.080061Z"
    },
    "papermill": {
     "duration": 0.040869,
     "end_time": "2021-06-28T00:21:30.080732",
     "exception": false,
     "start_time": "2021-06-28T00:21:30.039863",
     "status": "completed"
    },
    "tags": []
   },
   "outputs": [],
   "source": [
    "#hide\n",
    "# g.head()"
   ]
  },
  {
   "cell_type": "code",
   "execution_count": 33,
   "id": "limited-engine",
   "metadata": {
    "execution": {
     "iopub.execute_input": "2021-06-28T00:21:30.150133Z",
     "iopub.status.busy": "2021-06-28T00:21:30.149582Z",
     "iopub.status.idle": "2021-06-28T00:21:30.151340Z",
     "shell.execute_reply": "2021-06-28T00:21:30.151825Z"
    },
    "papermill": {
     "duration": 0.039186,
     "end_time": "2021-06-28T00:21:30.151946",
     "exception": false,
     "start_time": "2021-06-28T00:21:30.112760",
     "status": "completed"
    },
    "tags": []
   },
   "outputs": [],
   "source": [
    "# hide\n",
    "# g['date'] = g['date'].astype('datetime64[ns]')"
   ]
  },
  {
   "cell_type": "code",
   "execution_count": 34,
   "id": "sophisticated-supervisor",
   "metadata": {
    "execution": {
     "iopub.execute_input": "2021-06-28T00:21:30.224580Z",
     "iopub.status.busy": "2021-06-28T00:21:30.223997Z",
     "iopub.status.idle": "2021-06-28T00:21:30.225952Z",
     "shell.execute_reply": "2021-06-28T00:21:30.226367Z"
    },
    "papermill": {
     "duration": 0.040246,
     "end_time": "2021-06-28T00:21:30.226503",
     "exception": false,
     "start_time": "2021-06-28T00:21:30.186257",
     "status": "completed"
    },
    "tags": []
   },
   "outputs": [],
   "source": [
    "#hide\n",
    "# g['date'] = g.date.dt.dayofyear"
   ]
  },
  {
   "cell_type": "code",
   "execution_count": 35,
   "id": "inside-dubai",
   "metadata": {
    "execution": {
     "iopub.execute_input": "2021-06-28T00:21:30.298487Z",
     "iopub.status.busy": "2021-06-28T00:21:30.297880Z",
     "iopub.status.idle": "2021-06-28T00:21:30.299739Z",
     "shell.execute_reply": "2021-06-28T00:21:30.300226Z"
    },
    "papermill": {
     "duration": 0.040019,
     "end_time": "2021-06-28T00:21:30.300370",
     "exception": false,
     "start_time": "2021-06-28T00:21:30.260351",
     "status": "completed"
    },
    "tags": []
   },
   "outputs": [],
   "source": [
    "#hide\n",
    "# g = g.rename(columns= {'continent':'group','country':'name','cases':'value'})"
   ]
  },
  {
   "cell_type": "code",
   "execution_count": 36,
   "id": "fleet-motorcycle",
   "metadata": {
    "execution": {
     "iopub.execute_input": "2021-06-28T00:21:30.373879Z",
     "iopub.status.busy": "2021-06-28T00:21:30.373276Z",
     "iopub.status.idle": "2021-06-28T00:21:30.376315Z",
     "shell.execute_reply": "2021-06-28T00:21:30.376882Z"
    },
    "papermill": {
     "duration": 0.043433,
     "end_time": "2021-06-28T00:21:30.377025",
     "exception": false,
     "start_time": "2021-06-28T00:21:30.333592",
     "status": "completed"
    },
    "tags": []
   },
   "outputs": [],
   "source": [
    "#hide\n",
    "# cols = ['name','group','day','value']"
   ]
  },
  {
   "cell_type": "code",
   "execution_count": 37,
   "id": "continued-sleeping",
   "metadata": {
    "execution": {
     "iopub.execute_input": "2021-06-28T00:21:30.449435Z",
     "iopub.status.busy": "2021-06-28T00:21:30.448841Z",
     "iopub.status.idle": "2021-06-28T00:21:30.451704Z",
     "shell.execute_reply": "2021-06-28T00:21:30.451158Z"
    },
    "papermill": {
     "duration": 0.041018,
     "end_time": "2021-06-28T00:21:30.451830",
     "exception": false,
     "start_time": "2021-06-28T00:21:30.410812",
     "status": "completed"
    },
    "tags": []
   },
   "outputs": [],
   "source": [
    "#hide\n",
    "# g.rename(columns= {'date':'day'},inplace = True)"
   ]
  },
  {
   "cell_type": "code",
   "execution_count": 38,
   "id": "major-fight",
   "metadata": {
    "execution": {
     "iopub.execute_input": "2021-06-28T00:21:30.525473Z",
     "iopub.status.busy": "2021-06-28T00:21:30.524919Z",
     "iopub.status.idle": "2021-06-28T00:21:30.527388Z",
     "shell.execute_reply": "2021-06-28T00:21:30.527951Z"
    },
    "papermill": {
     "duration": 0.041795,
     "end_time": "2021-06-28T00:21:30.528086",
     "exception": false,
     "start_time": "2021-06-28T00:21:30.486291",
     "status": "completed"
    },
    "tags": []
   },
   "outputs": [],
   "source": [
    "#hide\n",
    "# g = g[cols]"
   ]
  },
  {
   "cell_type": "code",
   "execution_count": 39,
   "id": "structured-mobile",
   "metadata": {
    "execution": {
     "iopub.execute_input": "2021-06-28T00:21:30.598966Z",
     "iopub.status.busy": "2021-06-28T00:21:30.598398Z",
     "iopub.status.idle": "2021-06-28T00:21:30.601265Z",
     "shell.execute_reply": "2021-06-28T00:21:30.601772Z"
    },
    "papermill": {
     "duration": 0.040299,
     "end_time": "2021-06-28T00:21:30.601902",
     "exception": false,
     "start_time": "2021-06-28T00:21:30.561603",
     "status": "completed"
    },
    "tags": []
   },
   "outputs": [],
   "source": [
    "# #hide\n",
    "# g = g[g.group.notna()]"
   ]
  },
  {
   "cell_type": "code",
   "execution_count": 40,
   "id": "determined-closing",
   "metadata": {
    "execution": {
     "iopub.execute_input": "2021-06-28T00:21:30.676372Z",
     "iopub.status.busy": "2021-06-28T00:21:30.675805Z",
     "iopub.status.idle": "2021-06-28T00:21:30.677962Z",
     "shell.execute_reply": "2021-06-28T00:21:30.678492Z"
    },
    "papermill": {
     "duration": 0.041437,
     "end_time": "2021-06-28T00:21:30.678625",
     "exception": false,
     "start_time": "2021-06-28T00:21:30.637188",
     "status": "completed"
    },
    "tags": []
   },
   "outputs": [],
   "source": [
    "# #hide\n",
    "# colors = dict(zip(\n",
    "#     [\"Oceania\", \"Europe\", \"Asia\", \"South America\", \"Middle East\", \"North America\", \"Africa\"],\n",
    "#     [\"#adb0ff\", \"#ffb3ff\", \"#90d595\", \"#e48381\", \"#aafbff\", \"#f7bb5f\", \"#eafb50\"]\n",
    "# ))\n",
    "# group_lk = g.set_index('name')['group'].to_dict()"
   ]
  },
  {
   "cell_type": "code",
   "execution_count": null,
   "id": "gross-drinking",
   "metadata": {
    "papermill": {
     "duration": 0.033273,
     "end_time": "2021-06-28T00:21:30.745344",
     "exception": false,
     "start_time": "2021-06-28T00:21:30.712071",
     "status": "completed"
    },
    "tags": []
   },
   "outputs": [],
   "source": []
  },
  {
   "cell_type": "code",
   "execution_count": 41,
   "id": "subject-macintosh",
   "metadata": {
    "execution": {
     "iopub.execute_input": "2021-06-28T00:21:30.818317Z",
     "iopub.status.busy": "2021-06-28T00:21:30.817800Z",
     "iopub.status.idle": "2021-06-28T00:21:30.820181Z",
     "shell.execute_reply": "2021-06-28T00:21:30.819568Z"
    },
    "papermill": {
     "duration": 0.041499,
     "end_time": "2021-06-28T00:21:30.820304",
     "exception": false,
     "start_time": "2021-06-28T00:21:30.778805",
     "status": "completed"
    },
    "tags": []
   },
   "outputs": [],
   "source": [
    "# #hide\n",
    "# fig, ax = plt.subplots(figsize=(15, 8))\n",
    "\n",
    "# def draw_barchart(current_day):\n",
    "#     dff = g[g['day'].eq(current_day)].sort_values(by='value', ascending=True).tail(10)\n",
    "#     ax.clear()\n",
    "#     ax.barh(dff['name'], dff['value'], color=[colors[group_lk[x]] for x in dff['name']])\n",
    "#     dx = dff['value'].max() / 200\n",
    "    \n",
    "#     for i, (value, name) in enumerate(zip(dff['value'], dff['name'])):\n",
    "#         ax.text(value-dx, i,     name,           size=14, weight=600, ha='right', va='bottom')\n",
    "#         ax.text(value-dx, i-.25, group_lk[name], size=10, color='#444444', ha='right', va='baseline')\n",
    "#         ax.text(value+dx, i,     f'{value:,.0f}',  size=14, ha='left',  va='center')\n",
    "#     ax.text(1, 0.4, current_day, transform=ax.transAxes, color='#777777', size=46, ha='right', weight=800)\n",
    "#     ax.text(0, 1.06, 'Population (thousands)', transform=ax.transAxes, size=12, color='#777777')\n",
    "#     ax.xaxis.set_major_formatter(ticker.StrMethodFormatter('{x:,.0f}'))\n",
    "#     ax.xaxis.set_ticks_position('top')\n",
    "#     ax.tick_params(axis='x', colors='#777777', labelsize=12)\n",
    "#     ax.set_yticks([])\n",
    "#     ax.margins(0, 0.01)\n",
    "#     ax.grid(which='major', axis='x', linestyle='-')\n",
    "#     ax.set_axisbelow(True)\n",
    "    \n",
    "#     ax.text(0, 1.15, 'Coronavirus',\n",
    "#             transform=ax.transAxes, size=24, weight=600, ha='left', va='top')\n",
    "# #     ax.text(1, 0, 'by @pratapvardhan; credit @jburnmurdoch', transform=ax.transAxes, color='#777777', ha='right',\n",
    "# #             bbox=dict(facecolor='white', alpha=0.8, edgecolor='white'))\n",
    "#     plt.box(False)"
   ]
  },
  {
   "cell_type": "code",
   "execution_count": 42,
   "id": "sexual-wages",
   "metadata": {
    "execution": {
     "iopub.execute_input": "2021-06-28T00:21:30.895534Z",
     "iopub.status.busy": "2021-06-28T00:21:30.894896Z",
     "iopub.status.idle": "2021-06-28T00:21:30.896797Z",
     "shell.execute_reply": "2021-06-28T00:21:30.897246Z"
    },
    "papermill": {
     "duration": 0.042799,
     "end_time": "2021-06-28T00:21:30.897426",
     "exception": false,
     "start_time": "2021-06-28T00:21:30.854627",
     "status": "completed"
    },
    "tags": []
   },
   "outputs": [],
   "source": [
    "# #hide_input\n",
    "# fig, ax = plt.subplots(figsize=(15, 8))\n",
    "# animator = animation.FuncAnimation(fig, draw_barchart, frames=range(g.day.values.min(), g.day.values.max()))\n",
    "# HTML(animator.to_jshtml())\n",
    "# # or use animator.to_html5_video() or animator.save() "
   ]
  },
  {
   "cell_type": "code",
   "execution_count": null,
   "id": "australian-container",
   "metadata": {
    "papermill": {
     "duration": 0.033189,
     "end_time": "2021-06-28T00:21:30.964422",
     "exception": false,
     "start_time": "2021-06-28T00:21:30.931233",
     "status": "completed"
    },
    "tags": []
   },
   "outputs": [],
   "source": []
  },
  {
   "cell_type": "code",
   "execution_count": null,
   "id": "mediterranean-pontiac",
   "metadata": {
    "papermill": {
     "duration": 0.034898,
     "end_time": "2021-06-28T00:21:31.034045",
     "exception": false,
     "start_time": "2021-06-28T00:21:30.999147",
     "status": "completed"
    },
    "tags": []
   },
   "outputs": [],
   "source": []
  },
  {
   "cell_type": "code",
   "execution_count": null,
   "id": "aging-legislature",
   "metadata": {
    "papermill": {
     "duration": 0.033761,
     "end_time": "2021-06-28T00:21:31.102738",
     "exception": false,
     "start_time": "2021-06-28T00:21:31.068977",
     "status": "completed"
    },
    "tags": []
   },
   "outputs": [],
   "source": []
  }
 ],
 "metadata": {
  "kernelspec": {
   "display_name": "Python 3",
   "language": "python",
   "name": "python3"
  },
  "language_info": {
   "codemirror_mode": {
    "name": "ipython",
    "version": 3
   },
   "file_extension": ".py",
   "mimetype": "text/x-python",
   "name": "python",
   "nbconvert_exporter": "python",
   "pygments_lexer": "ipython3",
   "version": "3.6.13"
  },
  "papermill": {
   "duration": 7.360249,
   "end_time": "2021-06-28T00:21:32.423529",
   "environment_variables": {},
   "exception": null,
   "input_path": "2020-03-21-covid19exp.ipynb",
   "output_path": "2020-03-21-covid19exp.ipynb",
   "parameters": {},
   "start_time": "2021-06-28T00:21:25.063280",
   "version": "2.0.0"
  }
 },
 "nbformat": 4,
 "nbformat_minor": 5
}