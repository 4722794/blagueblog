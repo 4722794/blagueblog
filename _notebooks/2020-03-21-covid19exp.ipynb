{
 "cells": [
  {
   "cell_type": "markdown",
   "id": "muslim-click",
   "metadata": {
    "papermill": {
     "duration": 0.038557,
     "end_time": "2021-03-04T00:11:22.289739",
     "exception": false,
     "start_time": "2021-03-04T00:11:22.251182",
     "status": "completed"
    },
    "tags": []
   },
   "source": [
    "# COVID-19 Case Race\n",
    "> A race chart to see rising cases around the world\n",
    "\n",
    "- author: Hargun Oberoi\n",
    "- image: images/covid-overview.png\n",
    "- hide: false\n",
    "- badges: false"
   ]
  },
  {
   "cell_type": "code",
   "execution_count": 1,
   "id": "proof-material",
   "metadata": {
    "execution": {
     "iopub.execute_input": "2021-03-04T00:11:22.370119Z",
     "iopub.status.busy": "2021-03-04T00:11:22.369540Z",
     "iopub.status.idle": "2021-03-04T00:11:22.700759Z",
     "shell.execute_reply": "2021-03-04T00:11:22.701255Z"
    },
    "papermill": {
     "duration": 0.376729,
     "end_time": "2021-03-04T00:11:22.701437",
     "exception": false,
     "start_time": "2021-03-04T00:11:22.324708",
     "status": "completed"
    },
    "tags": []
   },
   "outputs": [],
   "source": [
    "#hide\n",
    "import numpy as np\n",
    "import pandas as pd\n",
    "from jinja2 import Template\n",
    "from IPython.display import HTML"
   ]
  },
  {
   "cell_type": "code",
   "execution_count": 2,
   "id": "developed-terminology",
   "metadata": {
    "execution": {
     "iopub.execute_input": "2021-03-04T00:11:22.775186Z",
     "iopub.status.busy": "2021-03-04T00:11:22.774610Z",
     "iopub.status.idle": "2021-03-04T00:11:22.776924Z",
     "shell.execute_reply": "2021-03-04T00:11:22.776441Z"
    },
    "papermill": {
     "duration": 0.038768,
     "end_time": "2021-03-04T00:11:22.777036",
     "exception": false,
     "start_time": "2021-03-04T00:11:22.738268",
     "status": "completed"
    },
    "tags": []
   },
   "outputs": [],
   "source": [
    "#hide\n",
    "\n",
    "# FETCH\n",
    "base_url = 'https://raw.githubusercontent.com/pratapvardhan/notebooks/master/covid19/'\n",
    "paths = {\n",
    "    'mapping': base_url + 'mapping_countries.csv',\n",
    "    'overview': base_url + 'overview.tpl'\n",
    "}"
   ]
  },
  {
   "cell_type": "code",
   "execution_count": 3,
   "id": "dynamic-saver",
   "metadata": {
    "execution": {
     "iopub.execute_input": "2021-03-04T00:11:22.852650Z",
     "iopub.status.busy": "2021-03-04T00:11:22.852083Z",
     "iopub.status.idle": "2021-03-04T00:11:22.855164Z",
     "shell.execute_reply": "2021-03-04T00:11:22.854709Z"
    },
    "papermill": {
     "duration": 0.044698,
     "end_time": "2021-03-04T00:11:22.855274",
     "exception": false,
     "start_time": "2021-03-04T00:11:22.810576",
     "status": "completed"
    },
    "tags": []
   },
   "outputs": [
    {
     "data": {
      "text/plain": [
       "'https://raw.githubusercontent.com/pratapvardhan/notebooks/master/covid19/mapping_countries.csv'"
      ]
     },
     "execution_count": 3,
     "metadata": {},
     "output_type": "execute_result"
    }
   ],
   "source": [
    "#hide\n",
    "paths['mapping']"
   ]
  },
  {
   "cell_type": "code",
   "execution_count": 4,
   "id": "urban-software",
   "metadata": {
    "execution": {
     "iopub.execute_input": "2021-03-04T00:11:22.923414Z",
     "iopub.status.busy": "2021-03-04T00:11:22.922848Z",
     "iopub.status.idle": "2021-03-04T00:11:22.924674Z",
     "shell.execute_reply": "2021-03-04T00:11:22.925240Z"
    },
    "papermill": {
     "duration": 0.03834,
     "end_time": "2021-03-04T00:11:22.925359",
     "exception": false,
     "start_time": "2021-03-04T00:11:22.887019",
     "status": "completed"
    },
    "tags": []
   },
   "outputs": [],
   "source": [
    "#hide\n",
    "def get_mappings(url):\n",
    "    df = pd.read_csv(url)\n",
    "    return {\n",
    "        'df': df,\n",
    "        'replace.country': dict(df.dropna(subset=['Name']).set_index('Country')['Name']),\n",
    "        'map.continent': dict(df.set_index('Name')['Continent'])\n",
    "    }"
   ]
  },
  {
   "cell_type": "code",
   "execution_count": 5,
   "id": "intimate-machinery",
   "metadata": {
    "execution": {
     "iopub.execute_input": "2021-03-04T00:11:22.995849Z",
     "iopub.status.busy": "2021-03-04T00:11:22.995254Z",
     "iopub.status.idle": "2021-03-04T00:11:23.079387Z",
     "shell.execute_reply": "2021-03-04T00:11:23.080067Z"
    },
    "papermill": {
     "duration": 0.121364,
     "end_time": "2021-03-04T00:11:23.080228",
     "exception": false,
     "start_time": "2021-03-04T00:11:22.958864",
     "status": "completed"
    },
    "tags": []
   },
   "outputs": [],
   "source": [
    "#hide\n",
    "mapping = get_mappings(paths['mapping'])"
   ]
  },
  {
   "cell_type": "code",
   "execution_count": 6,
   "id": "certified-tactics",
   "metadata": {
    "execution": {
     "iopub.execute_input": "2021-03-04T00:11:23.151282Z",
     "iopub.status.busy": "2021-03-04T00:11:23.150664Z",
     "iopub.status.idle": "2021-03-04T00:11:23.153146Z",
     "shell.execute_reply": "2021-03-04T00:11:23.152656Z"
    },
    "papermill": {
     "duration": 0.039951,
     "end_time": "2021-03-04T00:11:23.153253",
     "exception": false,
     "start_time": "2021-03-04T00:11:23.113302",
     "status": "completed"
    },
    "tags": []
   },
   "outputs": [],
   "source": [
    "#hide\n",
    "def get_template(path):\n",
    "    from urllib.parse import urlparse\n",
    "    if bool(urlparse(path).netloc):\n",
    "        from urllib.request import urlopen\n",
    "        return urlopen(path).read().decode('utf8')\n",
    "    return open(path).read()"
   ]
  },
  {
   "cell_type": "code",
   "execution_count": 7,
   "id": "realistic-blast",
   "metadata": {
    "execution": {
     "iopub.execute_input": "2021-03-04T00:11:23.229612Z",
     "iopub.status.busy": "2021-03-04T00:11:23.228999Z",
     "iopub.status.idle": "2021-03-04T00:11:23.231343Z",
     "shell.execute_reply": "2021-03-04T00:11:23.230862Z"
    },
    "papermill": {
     "duration": 0.04424,
     "end_time": "2021-03-04T00:11:23.231494",
     "exception": false,
     "start_time": "2021-03-04T00:11:23.187254",
     "status": "completed"
    },
    "tags": []
   },
   "outputs": [],
   "source": [
    "#hide\n",
    "def get_frame(name):\n",
    "    url = (\n",
    "        'https://raw.githubusercontent.com/CSSEGISandData/COVID-19/master/csse_covid_19_data/'\n",
    "        f'csse_covid_19_time_series/time_series_covid19_{name}_global.csv')\n",
    "    df = pd.read_csv(url)\n",
    "    # rename countries\n",
    "    df['Country/Region'] = df['Country/Region'].replace(mapping['replace.country'])\n",
    "    return df"
   ]
  },
  {
   "cell_type": "code",
   "execution_count": 8,
   "id": "affiliated-characterization",
   "metadata": {
    "execution": {
     "iopub.execute_input": "2021-03-04T00:11:23.301285Z",
     "iopub.status.busy": "2021-03-04T00:11:23.300720Z",
     "iopub.status.idle": "2021-03-04T00:11:23.303094Z",
     "shell.execute_reply": "2021-03-04T00:11:23.302615Z"
    },
    "papermill": {
     "duration": 0.03959,
     "end_time": "2021-03-04T00:11:23.303201",
     "exception": false,
     "start_time": "2021-03-04T00:11:23.263611",
     "status": "completed"
    },
    "tags": []
   },
   "outputs": [],
   "source": [
    "#hide\n",
    "def get_dates(df):\n",
    "    dt_cols = df.columns[~df.columns.isin(['Province/State', 'Country/Region', 'Lat', 'Long'])]\n",
    "    LAST_DATE_I = -1\n",
    "    # sometimes last column may be empty, then go backwards\n",
    "    for i in range(-1, -len(dt_cols), -1):\n",
    "        if not df[dt_cols[i]].fillna(0).eq(0).all():\n",
    "            LAST_DATE_I = i\n",
    "            break\n",
    "    return LAST_DATE_I, dt_cols"
   ]
  },
  {
   "cell_type": "code",
   "execution_count": 9,
   "id": "recent-optimization",
   "metadata": {
    "execution": {
     "iopub.execute_input": "2021-03-04T00:11:23.371266Z",
     "iopub.status.busy": "2021-03-04T00:11:23.370642Z",
     "iopub.status.idle": "2021-03-04T00:11:23.898061Z",
     "shell.execute_reply": "2021-03-04T00:11:23.897483Z"
    },
    "papermill": {
     "duration": 0.562708,
     "end_time": "2021-03-04T00:11:23.898218",
     "exception": false,
     "start_time": "2021-03-04T00:11:23.335510",
     "status": "completed"
    },
    "tags": []
   },
   "outputs": [],
   "source": [
    "#hide\n",
    "COL_REGION = 'Country/Region'\n",
    "# Confirmed, Recovered, Deaths\n",
    "df = get_frame('confirmed')\n",
    "# dft_: timeseries, dfc_: today country agg\n",
    "dft_cases = df\n",
    "dft_deaths = get_frame('deaths')\n",
    "dft_recovered = get_frame('recovered')\n",
    "LAST_DATE_I, dt_cols = get_dates(df)"
   ]
  },
  {
   "cell_type": "code",
   "execution_count": 10,
   "id": "absolute-copper",
   "metadata": {
    "execution": {
     "iopub.execute_input": "2021-03-04T00:11:23.978885Z",
     "iopub.status.busy": "2021-03-04T00:11:23.978238Z",
     "iopub.status.idle": "2021-03-04T00:11:23.980000Z",
     "shell.execute_reply": "2021-03-04T00:11:23.980553Z"
    },
    "papermill": {
     "duration": 0.045859,
     "end_time": "2021-03-04T00:11:23.980684",
     "exception": false,
     "start_time": "2021-03-04T00:11:23.934825",
     "status": "completed"
    },
    "tags": []
   },
   "outputs": [],
   "source": [
    "#hide\n",
    "LAST_DATE_I, dt_cols = get_dates(df)\n",
    "dt_today =dt_cols[LAST_DATE_I]\n",
    "# dt_5day = dt_cols[LAST_DATE_I - 5]\n",
    "dt_yday = dt_cols[LAST_DATE_I - 1]"
   ]
  },
  {
   "cell_type": "code",
   "execution_count": 11,
   "id": "restricted-sheriff",
   "metadata": {
    "execution": {
     "iopub.execute_input": "2021-03-04T00:11:24.052488Z",
     "iopub.status.busy": "2021-03-04T00:11:24.051877Z",
     "iopub.status.idle": "2021-03-04T00:11:24.059405Z",
     "shell.execute_reply": "2021-03-04T00:11:24.059973Z"
    },
    "papermill": {
     "duration": 0.046092,
     "end_time": "2021-03-04T00:11:24.060102",
     "exception": false,
     "start_time": "2021-03-04T00:11:24.014010",
     "status": "completed"
    },
    "tags": []
   },
   "outputs": [],
   "source": [
    "#hide\n",
    "dfc_cases = dft_cases.groupby(COL_REGION)[dt_today].sum()\n",
    "dfc_deaths = dft_deaths.groupby(COL_REGION)[dt_today].sum()\n",
    "# dfp_cases = dft_cases.groupby(COL_REGION)[dt_5day].sum()\n",
    "# dfp_deaths = dft_deaths.groupby(COL_REGION)[dt_5day].sum()\n",
    "dfp_cases = dft_cases.groupby(COL_REGION)[dt_yday].sum()\n",
    "dfp_deaths = dft_deaths.groupby(COL_REGION)[dt_yday].sum()"
   ]
  },
  {
   "cell_type": "code",
   "execution_count": 12,
   "id": "deluxe-hepatitis",
   "metadata": {
    "execution": {
     "iopub.execute_input": "2021-03-04T00:11:24.136149Z",
     "iopub.status.busy": "2021-03-04T00:11:24.135507Z",
     "iopub.status.idle": "2021-03-04T00:11:24.141577Z",
     "shell.execute_reply": "2021-03-04T00:11:24.140986Z"
    },
    "papermill": {
     "duration": 0.043676,
     "end_time": "2021-03-04T00:11:24.141695",
     "exception": false,
     "start_time": "2021-03-04T00:11:24.098019",
     "status": "completed"
    },
    "tags": []
   },
   "outputs": [],
   "source": [
    "#hide\n",
    "df_table = (pd.DataFrame(dict(Cases = dfc_cases, Deaths = dfc_deaths, PCases = dfp_cases, PDeaths = dfp_deaths))\n",
    "            .sort_values(by = ['Cases','Deaths'], ascending = [False, False])\n",
    "            .reset_index())"
   ]
  },
  {
   "cell_type": "code",
   "execution_count": 13,
   "id": "educational-chancellor",
   "metadata": {
    "execution": {
     "iopub.execute_input": "2021-03-04T00:11:24.229102Z",
     "iopub.status.busy": "2021-03-04T00:11:24.228521Z",
     "iopub.status.idle": "2021-03-04T00:11:24.238220Z",
     "shell.execute_reply": "2021-03-04T00:11:24.237707Z"
    },
    "papermill": {
     "duration": 0.063117,
     "end_time": "2021-03-04T00:11:24.238336",
     "exception": false,
     "start_time": "2021-03-04T00:11:24.175219",
     "status": "completed"
    },
    "tags": []
   },
   "outputs": [
    {
     "data": {
      "text/html": [
       "<div>\n",
       "<style scoped>\n",
       "    .dataframe tbody tr th:only-of-type {\n",
       "        vertical-align: middle;\n",
       "    }\n",
       "\n",
       "    .dataframe tbody tr th {\n",
       "        vertical-align: top;\n",
       "    }\n",
       "\n",
       "    .dataframe thead th {\n",
       "        text-align: right;\n",
       "    }\n",
       "</style>\n",
       "<table border=\"1\" class=\"dataframe\">\n",
       "  <thead>\n",
       "    <tr style=\"text-align: right;\">\n",
       "      <th></th>\n",
       "      <th>Country/Region</th>\n",
       "      <th>Cases</th>\n",
       "      <th>Deaths</th>\n",
       "      <th>PCases</th>\n",
       "      <th>PDeaths</th>\n",
       "      <th>Cases (+)</th>\n",
       "      <th>Deaths (+)</th>\n",
       "      <th>Fatality Rate</th>\n",
       "      <th>Continent</th>\n",
       "    </tr>\n",
       "  </thead>\n",
       "  <tbody>\n",
       "    <tr>\n",
       "      <th>0</th>\n",
       "      <td>US</td>\n",
       "      <td>28694071</td>\n",
       "      <td>515985</td>\n",
       "      <td>28637313</td>\n",
       "      <td>514061</td>\n",
       "      <td>56758</td>\n",
       "      <td>1924</td>\n",
       "      <td>1.80</td>\n",
       "      <td>North America</td>\n",
       "    </tr>\n",
       "    <tr>\n",
       "      <th>1</th>\n",
       "      <td>India</td>\n",
       "      <td>11139516</td>\n",
       "      <td>157346</td>\n",
       "      <td>11124527</td>\n",
       "      <td>157248</td>\n",
       "      <td>14989</td>\n",
       "      <td>98</td>\n",
       "      <td>1.41</td>\n",
       "      <td>Asia</td>\n",
       "    </tr>\n",
       "    <tr>\n",
       "      <th>2</th>\n",
       "      <td>Brazil</td>\n",
       "      <td>10646926</td>\n",
       "      <td>257361</td>\n",
       "      <td>10587001</td>\n",
       "      <td>255720</td>\n",
       "      <td>59925</td>\n",
       "      <td>1641</td>\n",
       "      <td>2.42</td>\n",
       "      <td>South America</td>\n",
       "    </tr>\n",
       "    <tr>\n",
       "      <th>3</th>\n",
       "      <td>Russia</td>\n",
       "      <td>4220291</td>\n",
       "      <td>85458</td>\n",
       "      <td>4209850</td>\n",
       "      <td>85025</td>\n",
       "      <td>10441</td>\n",
       "      <td>433</td>\n",
       "      <td>2.02</td>\n",
       "      <td>Europe</td>\n",
       "    </tr>\n",
       "    <tr>\n",
       "      <th>4</th>\n",
       "      <td>United Kingdom</td>\n",
       "      <td>4200700</td>\n",
       "      <td>123530</td>\n",
       "      <td>4194289</td>\n",
       "      <td>123187</td>\n",
       "      <td>6411</td>\n",
       "      <td>343</td>\n",
       "      <td>2.94</td>\n",
       "      <td>Europe</td>\n",
       "    </tr>\n",
       "  </tbody>\n",
       "</table>\n",
       "</div>"
      ],
      "text/plain": [
       "   Country/Region     Cases  Deaths    PCases  PDeaths  Cases (+)  Deaths (+)  \\\n",
       "0              US  28694071  515985  28637313   514061      56758        1924   \n",
       "1           India  11139516  157346  11124527   157248      14989          98   \n",
       "2          Brazil  10646926  257361  10587001   255720      59925        1641   \n",
       "3          Russia   4220291   85458   4209850    85025      10441         433   \n",
       "4  United Kingdom   4200700  123530   4194289   123187       6411         343   \n",
       "\n",
       "   Fatality Rate      Continent  \n",
       "0           1.80  North America  \n",
       "1           1.41           Asia  \n",
       "2           2.42  South America  \n",
       "3           2.02         Europe  \n",
       "4           2.94         Europe  "
      ]
     },
     "execution_count": 13,
     "metadata": {},
     "output_type": "execute_result"
    }
   ],
   "source": [
    "#hide\n",
    "for c in 'Cases, Deaths'.split(', '):\n",
    "    df_table[f'{c} (+)'] = (df_table[c] - df_table[f'P{c}']).clip(0)\n",
    "    #Clip ça veut dire, les chiffres negatif sont interdit\n",
    "df_table['Fatality Rate'] = (100* df_table['Deaths']/ df_table['Cases']).round(2)\n",
    "df_table['Continent'] = df_table['Country/Region'].map(mapping['map.continent'])\n",
    "df_table.head(5)"
   ]
  },
  {
   "cell_type": "code",
   "execution_count": 14,
   "id": "aboriginal-bulgaria",
   "metadata": {
    "execution": {
     "iopub.execute_input": "2021-03-04T00:11:24.310865Z",
     "iopub.status.busy": "2021-03-04T00:11:24.310258Z",
     "iopub.status.idle": "2021-03-04T00:11:24.313230Z",
     "shell.execute_reply": "2021-03-04T00:11:24.313950Z"
    },
    "papermill": {
     "duration": 0.040855,
     "end_time": "2021-03-04T00:11:24.314128",
     "exception": false,
     "start_time": "2021-03-04T00:11:24.273273",
     "status": "completed"
    },
    "tags": []
   },
   "outputs": [],
   "source": [
    "#hide\n",
    "#delete problematic countries from table\n",
    "df_table = df_table[~df_table['Country/Region'].isin(['Cape Verde', 'Cruise Ship', 'Kosovo'])]"
   ]
  },
  {
   "cell_type": "code",
   "execution_count": 15,
   "id": "fantastic-effect",
   "metadata": {
    "execution": {
     "iopub.execute_input": "2021-03-04T00:11:24.390215Z",
     "iopub.status.busy": "2021-03-04T00:11:24.389404Z",
     "iopub.status.idle": "2021-03-04T00:11:24.410026Z",
     "shell.execute_reply": "2021-03-04T00:11:24.409497Z"
    },
    "papermill": {
     "duration": 0.06152,
     "end_time": "2021-03-04T00:11:24.410159",
     "exception": false,
     "start_time": "2021-03-04T00:11:24.348639",
     "status": "completed"
    },
    "tags": []
   },
   "outputs": [
    {
     "data": {
      "text/html": [
       "<div>\n",
       "<style scoped>\n",
       "    .dataframe tbody tr th:only-of-type {\n",
       "        vertical-align: middle;\n",
       "    }\n",
       "\n",
       "    .dataframe tbody tr th {\n",
       "        vertical-align: top;\n",
       "    }\n",
       "\n",
       "    .dataframe thead th {\n",
       "        text-align: right;\n",
       "    }\n",
       "</style>\n",
       "<table border=\"1\" class=\"dataframe\">\n",
       "  <thead>\n",
       "    <tr style=\"text-align: right;\">\n",
       "      <th></th>\n",
       "      <th>Country/Region</th>\n",
       "      <th>Cases</th>\n",
       "      <th>Deaths</th>\n",
       "      <th>PCases</th>\n",
       "      <th>PDeaths</th>\n",
       "      <th>Cases (+)</th>\n",
       "      <th>Deaths (+)</th>\n",
       "      <th>Fatality Rate</th>\n",
       "      <th>Continent</th>\n",
       "    </tr>\n",
       "  </thead>\n",
       "  <tbody>\n",
       "    <tr>\n",
       "      <th>0</th>\n",
       "      <td>US</td>\n",
       "      <td>28694071</td>\n",
       "      <td>515985</td>\n",
       "      <td>28637313</td>\n",
       "      <td>514061</td>\n",
       "      <td>56758</td>\n",
       "      <td>1924</td>\n",
       "      <td>1.8</td>\n",
       "      <td>North America</td>\n",
       "    </tr>\n",
       "    <tr>\n",
       "      <th>1</th>\n",
       "      <td>India</td>\n",
       "      <td>11139516</td>\n",
       "      <td>157346</td>\n",
       "      <td>11124527</td>\n",
       "      <td>157248</td>\n",
       "      <td>14989</td>\n",
       "      <td>98</td>\n",
       "      <td>1.4</td>\n",
       "      <td>Asia</td>\n",
       "    </tr>\n",
       "    <tr>\n",
       "      <th>2</th>\n",
       "      <td>Brazil</td>\n",
       "      <td>10646926</td>\n",
       "      <td>257361</td>\n",
       "      <td>10587001</td>\n",
       "      <td>255720</td>\n",
       "      <td>59925</td>\n",
       "      <td>1641</td>\n",
       "      <td>2.4</td>\n",
       "      <td>South America</td>\n",
       "    </tr>\n",
       "    <tr>\n",
       "      <th>3</th>\n",
       "      <td>Russia</td>\n",
       "      <td>4220291</td>\n",
       "      <td>85458</td>\n",
       "      <td>4209850</td>\n",
       "      <td>85025</td>\n",
       "      <td>10441</td>\n",
       "      <td>433</td>\n",
       "      <td>2.0</td>\n",
       "      <td>Europe</td>\n",
       "    </tr>\n",
       "    <tr>\n",
       "      <th>4</th>\n",
       "      <td>United Kingdom</td>\n",
       "      <td>4200700</td>\n",
       "      <td>123530</td>\n",
       "      <td>4194289</td>\n",
       "      <td>123187</td>\n",
       "      <td>6411</td>\n",
       "      <td>343</td>\n",
       "      <td>2.9</td>\n",
       "      <td>Europe</td>\n",
       "    </tr>\n",
       "  </tbody>\n",
       "</table>\n",
       "</div>"
      ],
      "text/plain": [
       "   Country/Region     Cases  Deaths    PCases  PDeaths  Cases (+)  Deaths (+)  \\\n",
       "0              US  28694071  515985  28637313   514061      56758        1924   \n",
       "1           India  11139516  157346  11124527   157248      14989          98   \n",
       "2          Brazil  10646926  257361  10587001   255720      59925        1641   \n",
       "3          Russia   4220291   85458   4209850    85025      10441         433   \n",
       "4  United Kingdom   4200700  123530   4194289   123187       6411         343   \n",
       "\n",
       "   Fatality Rate      Continent  \n",
       "0            1.8  North America  \n",
       "1            1.4           Asia  \n",
       "2            2.4  South America  \n",
       "3            2.0         Europe  \n",
       "4            2.9         Europe  "
      ]
     },
     "execution_count": 15,
     "metadata": {},
     "output_type": "execute_result"
    }
   ],
   "source": [
    "#hide\n",
    "df_table = (pd.DataFrame(dict(Cases=dfc_cases, Deaths=dfc_deaths, PCases=dfp_cases, PDeaths=dfp_deaths))\n",
    "             .sort_values(by=['Cases', 'Deaths'], ascending=[False, False])\n",
    "             .reset_index())\n",
    "df_table.rename(columns={'index': 'Country/Region'}, inplace=True)\n",
    "for c in 'Cases, Deaths'.split(', '):\n",
    "    df_table[f'{c} (+)'] = (df_table[c] - df_table[f'P{c}']).clip(0)  # DATA BUG\n",
    "df_table['Fatality Rate'] = (100 * df_table['Deaths'] / df_table['Cases']).round(1)\n",
    "df_table['Continent'] = df_table['Country/Region'].map(mapping['map.continent'])\n",
    "df_table.head(5)"
   ]
  },
  {
   "cell_type": "code",
   "execution_count": 16,
   "id": "fewer-occasion",
   "metadata": {
    "execution": {
     "iopub.execute_input": "2021-03-04T00:11:24.482415Z",
     "iopub.status.busy": "2021-03-04T00:11:24.481852Z",
     "iopub.status.idle": "2021-03-04T00:11:24.483962Z",
     "shell.execute_reply": "2021-03-04T00:11:24.484513Z"
    },
    "papermill": {
     "duration": 0.040221,
     "end_time": "2021-03-04T00:11:24.484636",
     "exception": false,
     "start_time": "2021-03-04T00:11:24.444415",
     "status": "completed"
    },
    "tags": []
   },
   "outputs": [],
   "source": [
    "#hide\n",
    "#delete problematic countries from table\n",
    "df_table = df_table[~df_table['Country/Region'].isin(['Cape Verde', 'Cruise Ship', 'Kosovo'])]"
   ]
  },
  {
   "cell_type": "code",
   "execution_count": 17,
   "id": "related-center",
   "metadata": {
    "execution": {
     "iopub.execute_input": "2021-03-04T00:11:24.560993Z",
     "iopub.status.busy": "2021-03-04T00:11:24.560322Z",
     "iopub.status.idle": "2021-03-04T00:11:24.570599Z",
     "shell.execute_reply": "2021-03-04T00:11:24.571092Z"
    },
    "papermill": {
     "duration": 0.052776,
     "end_time": "2021-03-04T00:11:24.571211",
     "exception": false,
     "start_time": "2021-03-04T00:11:24.518435",
     "status": "completed"
    },
    "tags": []
   },
   "outputs": [],
   "source": [
    "#hide\n",
    "metrics = [df_table.columns[index] for index in [1,2,5,6]]\n",
    "# s_china = df_table[df_table['Country/Region'].eq('China')][metrics].sum().add_prefix('China ')\n",
    "s_us = df_table[df_table['Country/Region'].eq('US')][metrics].sum().add_prefix('US ')\n",
    "s_eu = df_table[df_table['Continent'].eq('Europe')][metrics].sum().add_prefix('EU ')\n",
    "s_ind = df_table[df_table['Country/Region'].eq('India')][metrics].sum().add_prefix('India ')\n",
    "summary = {'updated': pd.to_datetime(dt_today), 'since': pd.to_datetime(dt_yday)}\n",
    "summary = {'updated': pd.to_datetime(dt_today), 'since': pd.to_datetime(dt_yday)}\n",
    "summary = {**summary, **df_table[metrics].sum(), **s_ind, **s_us, **s_eu}"
   ]
  },
  {
   "cell_type": "code",
   "execution_count": 18,
   "id": "engaging-syndrome",
   "metadata": {
    "execution": {
     "iopub.execute_input": "2021-03-04T00:11:24.644402Z",
     "iopub.status.busy": "2021-03-04T00:11:24.643837Z",
     "iopub.status.idle": "2021-03-04T00:11:24.654190Z",
     "shell.execute_reply": "2021-03-04T00:11:24.654683Z"
    },
    "papermill": {
     "duration": 0.048335,
     "end_time": "2021-03-04T00:11:24.654806",
     "exception": false,
     "start_time": "2021-03-04T00:11:24.606471",
     "status": "completed"
    },
    "tags": []
   },
   "outputs": [],
   "source": [
    "#hide\n",
    "dft_ct_new_cases = dft_cases.groupby(COL_REGION)[dt_cols].sum().diff(axis=1).fillna(0).astype(int)"
   ]
  },
  {
   "cell_type": "code",
   "execution_count": 19,
   "id": "neutral-assignment",
   "metadata": {
    "execution": {
     "iopub.execute_input": "2021-03-04T00:11:24.726309Z",
     "iopub.status.busy": "2021-03-04T00:11:24.725746Z",
     "iopub.status.idle": "2021-03-04T00:11:24.727533Z",
     "shell.execute_reply": "2021-03-04T00:11:24.728100Z"
    },
    "papermill": {
     "duration": 0.039994,
     "end_time": "2021-03-04T00:11:24.728221",
     "exception": false,
     "start_time": "2021-03-04T00:11:24.688227",
     "status": "completed"
    },
    "tags": []
   },
   "outputs": [],
   "source": [
    "#hide\n",
    "everydaycases = dft_ct_new_cases.cumsum(axis=1)"
   ]
  },
  {
   "cell_type": "code",
   "execution_count": 20,
   "id": "parliamentary-calgary",
   "metadata": {
    "execution": {
     "iopub.execute_input": "2021-03-04T00:11:24.803497Z",
     "iopub.status.busy": "2021-03-04T00:11:24.802872Z",
     "iopub.status.idle": "2021-03-04T00:11:26.632935Z",
     "shell.execute_reply": "2021-03-04T00:11:26.632358Z"
    },
    "papermill": {
     "duration": 1.869081,
     "end_time": "2021-03-04T00:11:26.633083",
     "exception": false,
     "start_time": "2021-03-04T00:11:24.764002",
     "status": "completed"
    },
    "tags": []
   },
   "outputs": [],
   "source": [
    "#hide\n",
    "import pandas as pd\n",
    "import matplotlib.pyplot as plt\n",
    "import matplotlib.ticker as ticker\n",
    "import matplotlib.animation as animation\n",
    "from IPython.display import HTML"
   ]
  },
  {
   "cell_type": "code",
   "execution_count": 21,
   "id": "lasting-extraction",
   "metadata": {
    "execution": {
     "iopub.execute_input": "2021-03-04T00:11:26.710399Z",
     "iopub.status.busy": "2021-03-04T00:11:26.709831Z",
     "iopub.status.idle": "2021-03-04T00:11:26.717768Z",
     "shell.execute_reply": "2021-03-04T00:11:26.716643Z"
    },
    "papermill": {
     "duration": 0.049623,
     "end_time": "2021-03-04T00:11:26.717907",
     "exception": false,
     "start_time": "2021-03-04T00:11:26.668284",
     "status": "completed"
    },
    "tags": []
   },
   "outputs": [],
   "source": [
    "#hide\n",
    "t = everydaycases.stack()"
   ]
  },
  {
   "cell_type": "code",
   "execution_count": 22,
   "id": "premier-sleeve",
   "metadata": {
    "execution": {
     "iopub.execute_input": "2021-03-04T00:11:26.793204Z",
     "iopub.status.busy": "2021-03-04T00:11:26.789022Z",
     "iopub.status.idle": "2021-03-04T00:11:26.795215Z",
     "shell.execute_reply": "2021-03-04T00:11:26.795992Z"
    },
    "papermill": {
     "duration": 0.044896,
     "end_time": "2021-03-04T00:11:26.796143",
     "exception": false,
     "start_time": "2021-03-04T00:11:26.751247",
     "status": "completed"
    },
    "tags": []
   },
   "outputs": [],
   "source": [
    "#hide\n",
    "g = t.reset_index(['Country/Region'])"
   ]
  },
  {
   "cell_type": "code",
   "execution_count": 23,
   "id": "distributed-pittsburgh",
   "metadata": {
    "execution": {
     "iopub.execute_input": "2021-03-04T00:11:26.868723Z",
     "iopub.status.busy": "2021-03-04T00:11:26.868117Z",
     "iopub.status.idle": "2021-03-04T00:11:26.870612Z",
     "shell.execute_reply": "2021-03-04T00:11:26.870129Z"
    },
    "papermill": {
     "duration": 0.04052,
     "end_time": "2021-03-04T00:11:26.870723",
     "exception": false,
     "start_time": "2021-03-04T00:11:26.830203",
     "status": "completed"
    },
    "tags": []
   },
   "outputs": [],
   "source": [
    "#hide\n",
    "g.index.name = 'date'"
   ]
  },
  {
   "cell_type": "code",
   "execution_count": 24,
   "id": "naked-donor",
   "metadata": {
    "execution": {
     "iopub.execute_input": "2021-03-04T00:11:26.945224Z",
     "iopub.status.busy": "2021-03-04T00:11:26.944619Z",
     "iopub.status.idle": "2021-03-04T00:11:26.947021Z",
     "shell.execute_reply": "2021-03-04T00:11:26.946537Z"
    },
    "papermill": {
     "duration": 0.040475,
     "end_time": "2021-03-04T00:11:26.947133",
     "exception": false,
     "start_time": "2021-03-04T00:11:26.906658",
     "status": "completed"
    },
    "tags": []
   },
   "outputs": [],
   "source": [
    "# #hide\n",
    "# g = g.reset_index(['date'])"
   ]
  },
  {
   "cell_type": "code",
   "execution_count": 25,
   "id": "incomplete-mustang",
   "metadata": {
    "execution": {
     "iopub.execute_input": "2021-03-04T00:11:27.024360Z",
     "iopub.status.busy": "2021-03-04T00:11:27.023735Z",
     "iopub.status.idle": "2021-03-04T00:11:27.025691Z",
     "shell.execute_reply": "2021-03-04T00:11:27.026244Z"
    },
    "papermill": {
     "duration": 0.043945,
     "end_time": "2021-03-04T00:11:27.026372",
     "exception": false,
     "start_time": "2021-03-04T00:11:26.982427",
     "status": "completed"
    },
    "tags": []
   },
   "outputs": [],
   "source": [
    "#hide\n",
    "# g.head()"
   ]
  },
  {
   "cell_type": "code",
   "execution_count": 26,
   "id": "specific-kruger",
   "metadata": {
    "execution": {
     "iopub.execute_input": "2021-03-04T00:11:27.587846Z",
     "iopub.status.busy": "2021-03-04T00:11:27.587037Z",
     "iopub.status.idle": "2021-03-04T00:11:27.589708Z",
     "shell.execute_reply": "2021-03-04T00:11:27.589197Z"
    },
    "papermill": {
     "duration": 0.041919,
     "end_time": "2021-03-04T00:11:27.589828",
     "exception": false,
     "start_time": "2021-03-04T00:11:27.547909",
     "status": "completed"
    },
    "tags": []
   },
   "outputs": [],
   "source": [
    "#hide\n",
    "# g.columns = ['date','country','cases']"
   ]
  },
  {
   "cell_type": "code",
   "execution_count": 27,
   "id": "tender-conversion",
   "metadata": {
    "execution": {
     "iopub.execute_input": "2021-03-04T00:11:27.661508Z",
     "iopub.status.busy": "2021-03-04T00:11:27.660863Z",
     "iopub.status.idle": "2021-03-04T00:11:27.664025Z",
     "shell.execute_reply": "2021-03-04T00:11:27.663171Z"
    },
    "papermill": {
     "duration": 0.040737,
     "end_time": "2021-03-04T00:11:27.664141",
     "exception": false,
     "start_time": "2021-03-04T00:11:27.623404",
     "status": "completed"
    },
    "tags": []
   },
   "outputs": [],
   "source": [
    "#hide\n",
    "# g['continent'] = g.country"
   ]
  },
  {
   "cell_type": "code",
   "execution_count": 28,
   "id": "substantial-wilderness",
   "metadata": {
    "execution": {
     "iopub.execute_input": "2021-03-04T00:11:27.741332Z",
     "iopub.status.busy": "2021-03-04T00:11:27.740726Z",
     "iopub.status.idle": "2021-03-04T00:11:27.747531Z",
     "shell.execute_reply": "2021-03-04T00:11:27.747028Z"
    },
    "papermill": {
     "duration": 0.049381,
     "end_time": "2021-03-04T00:11:27.747691",
     "exception": false,
     "start_time": "2021-03-04T00:11:27.698310",
     "status": "completed"
    },
    "tags": []
   },
   "outputs": [],
   "source": [
    "#hide\n",
    "# cols = list(g.columns.values)"
   ]
  },
  {
   "cell_type": "code",
   "execution_count": 29,
   "id": "solved-farming",
   "metadata": {
    "execution": {
     "iopub.execute_input": "2021-03-04T00:11:27.825224Z",
     "iopub.status.busy": "2021-03-04T00:11:27.823525Z",
     "iopub.status.idle": "2021-03-04T00:11:27.826285Z",
     "shell.execute_reply": "2021-03-04T00:11:27.826772Z"
    },
    "papermill": {
     "duration": 0.043867,
     "end_time": "2021-03-04T00:11:27.826896",
     "exception": false,
     "start_time": "2021-03-04T00:11:27.783029",
     "status": "completed"
    },
    "tags": []
   },
   "outputs": [],
   "source": [
    "#hide\n",
    "# cols.insert(0, cols.pop())"
   ]
  },
  {
   "cell_type": "code",
   "execution_count": 30,
   "id": "executed-adoption",
   "metadata": {
    "execution": {
     "iopub.execute_input": "2021-03-04T00:11:27.900505Z",
     "iopub.status.busy": "2021-03-04T00:11:27.899894Z",
     "iopub.status.idle": "2021-03-04T00:11:27.901657Z",
     "shell.execute_reply": "2021-03-04T00:11:27.902228Z"
    },
    "papermill": {
     "duration": 0.039371,
     "end_time": "2021-03-04T00:11:27.902365",
     "exception": false,
     "start_time": "2021-03-04T00:11:27.862994",
     "status": "completed"
    },
    "tags": []
   },
   "outputs": [],
   "source": [
    "#hide\n",
    "# g = g[cols]"
   ]
  },
  {
   "cell_type": "code",
   "execution_count": 31,
   "id": "subject-dublin",
   "metadata": {
    "execution": {
     "iopub.execute_input": "2021-03-04T00:11:27.972787Z",
     "iopub.status.busy": "2021-03-04T00:11:27.972214Z",
     "iopub.status.idle": "2021-03-04T00:11:27.974535Z",
     "shell.execute_reply": "2021-03-04T00:11:27.974053Z"
    },
    "papermill": {
     "duration": 0.038729,
     "end_time": "2021-03-04T00:11:27.974658",
     "exception": false,
     "start_time": "2021-03-04T00:11:27.935929",
     "status": "completed"
    },
    "tags": []
   },
   "outputs": [],
   "source": [
    "#hide\n",
    "# g['continent'] = g['continent'].map(mapping['map.continent'])"
   ]
  },
  {
   "cell_type": "code",
   "execution_count": 32,
   "id": "freelance-scout",
   "metadata": {
    "execution": {
     "iopub.execute_input": "2021-03-04T00:11:28.050985Z",
     "iopub.status.busy": "2021-03-04T00:11:28.050328Z",
     "iopub.status.idle": "2021-03-04T00:11:28.052342Z",
     "shell.execute_reply": "2021-03-04T00:11:28.052876Z"
    },
    "papermill": {
     "duration": 0.043461,
     "end_time": "2021-03-04T00:11:28.053008",
     "exception": false,
     "start_time": "2021-03-04T00:11:28.009547",
     "status": "completed"
    },
    "tags": []
   },
   "outputs": [],
   "source": [
    "#hide\n",
    "# g.head()"
   ]
  },
  {
   "cell_type": "code",
   "execution_count": 33,
   "id": "limited-engine",
   "metadata": {
    "execution": {
     "iopub.execute_input": "2021-03-04T00:11:28.132777Z",
     "iopub.status.busy": "2021-03-04T00:11:28.132155Z",
     "iopub.status.idle": "2021-03-04T00:11:28.134010Z",
     "shell.execute_reply": "2021-03-04T00:11:28.134481Z"
    },
    "papermill": {
     "duration": 0.040738,
     "end_time": "2021-03-04T00:11:28.134610",
     "exception": false,
     "start_time": "2021-03-04T00:11:28.093872",
     "status": "completed"
    },
    "tags": []
   },
   "outputs": [],
   "source": [
    "# hide\n",
    "# g['date'] = g['date'].astype('datetime64[ns]')"
   ]
  },
  {
   "cell_type": "code",
   "execution_count": 34,
   "id": "sophisticated-supervisor",
   "metadata": {
    "execution": {
     "iopub.execute_input": "2021-03-04T00:11:28.209007Z",
     "iopub.status.busy": "2021-03-04T00:11:28.208352Z",
     "iopub.status.idle": "2021-03-04T00:11:28.210740Z",
     "shell.execute_reply": "2021-03-04T00:11:28.210104Z"
    },
    "papermill": {
     "duration": 0.042093,
     "end_time": "2021-03-04T00:11:28.210867",
     "exception": false,
     "start_time": "2021-03-04T00:11:28.168774",
     "status": "completed"
    },
    "tags": []
   },
   "outputs": [],
   "source": [
    "#hide\n",
    "# g['date'] = g.date.dt.dayofyear"
   ]
  },
  {
   "cell_type": "code",
   "execution_count": 35,
   "id": "inside-dubai",
   "metadata": {
    "execution": {
     "iopub.execute_input": "2021-03-04T00:11:28.284067Z",
     "iopub.status.busy": "2021-03-04T00:11:28.283461Z",
     "iopub.status.idle": "2021-03-04T00:11:28.285370Z",
     "shell.execute_reply": "2021-03-04T00:11:28.285863Z"
    },
    "papermill": {
     "duration": 0.03913,
     "end_time": "2021-03-04T00:11:28.285988",
     "exception": false,
     "start_time": "2021-03-04T00:11:28.246858",
     "status": "completed"
    },
    "tags": []
   },
   "outputs": [],
   "source": [
    "#hide\n",
    "# g = g.rename(columns= {'continent':'group','country':'name','cases':'value'})"
   ]
  },
  {
   "cell_type": "code",
   "execution_count": 36,
   "id": "fleet-motorcycle",
   "metadata": {
    "execution": {
     "iopub.execute_input": "2021-03-04T00:11:28.358677Z",
     "iopub.status.busy": "2021-03-04T00:11:28.357914Z",
     "iopub.status.idle": "2021-03-04T00:11:28.360588Z",
     "shell.execute_reply": "2021-03-04T00:11:28.360105Z"
    },
    "papermill": {
     "duration": 0.038466,
     "end_time": "2021-03-04T00:11:28.360698",
     "exception": false,
     "start_time": "2021-03-04T00:11:28.322232",
     "status": "completed"
    },
    "tags": []
   },
   "outputs": [],
   "source": [
    "#hide\n",
    "# cols = ['name','group','day','value']"
   ]
  },
  {
   "cell_type": "code",
   "execution_count": 37,
   "id": "continued-sleeping",
   "metadata": {
    "execution": {
     "iopub.execute_input": "2021-03-04T00:11:28.431159Z",
     "iopub.status.busy": "2021-03-04T00:11:28.430522Z",
     "iopub.status.idle": "2021-03-04T00:11:28.432530Z",
     "shell.execute_reply": "2021-03-04T00:11:28.433019Z"
    },
    "papermill": {
     "duration": 0.039246,
     "end_time": "2021-03-04T00:11:28.433141",
     "exception": false,
     "start_time": "2021-03-04T00:11:28.393895",
     "status": "completed"
    },
    "tags": []
   },
   "outputs": [],
   "source": [
    "#hide\n",
    "# g.rename(columns= {'date':'day'},inplace = True)"
   ]
  },
  {
   "cell_type": "code",
   "execution_count": 38,
   "id": "major-fight",
   "metadata": {
    "execution": {
     "iopub.execute_input": "2021-03-04T00:11:28.501962Z",
     "iopub.status.busy": "2021-03-04T00:11:28.501397Z",
     "iopub.status.idle": "2021-03-04T00:11:28.504096Z",
     "shell.execute_reply": "2021-03-04T00:11:28.503514Z"
    },
    "papermill": {
     "duration": 0.038276,
     "end_time": "2021-03-04T00:11:28.504208",
     "exception": false,
     "start_time": "2021-03-04T00:11:28.465932",
     "status": "completed"
    },
    "tags": []
   },
   "outputs": [],
   "source": [
    "#hide\n",
    "# g = g[cols]"
   ]
  },
  {
   "cell_type": "code",
   "execution_count": 39,
   "id": "structured-mobile",
   "metadata": {
    "execution": {
     "iopub.execute_input": "2021-03-04T00:11:28.575633Z",
     "iopub.status.busy": "2021-03-04T00:11:28.575031Z",
     "iopub.status.idle": "2021-03-04T00:11:28.577519Z",
     "shell.execute_reply": "2021-03-04T00:11:28.576854Z"
    },
    "papermill": {
     "duration": 0.039348,
     "end_time": "2021-03-04T00:11:28.577644",
     "exception": false,
     "start_time": "2021-03-04T00:11:28.538296",
     "status": "completed"
    },
    "tags": []
   },
   "outputs": [],
   "source": [
    "# #hide\n",
    "# g = g[g.group.notna()]"
   ]
  },
  {
   "cell_type": "code",
   "execution_count": 40,
   "id": "determined-closing",
   "metadata": {
    "execution": {
     "iopub.execute_input": "2021-03-04T00:11:28.647839Z",
     "iopub.status.busy": "2021-03-04T00:11:28.647239Z",
     "iopub.status.idle": "2021-03-04T00:11:28.649161Z",
     "shell.execute_reply": "2021-03-04T00:11:28.649650Z"
    },
    "papermill": {
     "duration": 0.039197,
     "end_time": "2021-03-04T00:11:28.649771",
     "exception": false,
     "start_time": "2021-03-04T00:11:28.610574",
     "status": "completed"
    },
    "tags": []
   },
   "outputs": [],
   "source": [
    "# #hide\n",
    "# colors = dict(zip(\n",
    "#     [\"Oceania\", \"Europe\", \"Asia\", \"South America\", \"Middle East\", \"North America\", \"Africa\"],\n",
    "#     [\"#adb0ff\", \"#ffb3ff\", \"#90d595\", \"#e48381\", \"#aafbff\", \"#f7bb5f\", \"#eafb50\"]\n",
    "# ))\n",
    "# group_lk = g.set_index('name')['group'].to_dict()"
   ]
  },
  {
   "cell_type": "code",
   "execution_count": null,
   "id": "gross-drinking",
   "metadata": {
    "papermill": {
     "duration": 0.037429,
     "end_time": "2021-03-04T00:11:28.721915",
     "exception": false,
     "start_time": "2021-03-04T00:11:28.684486",
     "status": "completed"
    },
    "tags": []
   },
   "outputs": [],
   "source": []
  },
  {
   "cell_type": "code",
   "execution_count": 41,
   "id": "subject-macintosh",
   "metadata": {
    "execution": {
     "iopub.execute_input": "2021-03-04T00:11:28.793297Z",
     "iopub.status.busy": "2021-03-04T00:11:28.792706Z",
     "iopub.status.idle": "2021-03-04T00:11:28.795173Z",
     "shell.execute_reply": "2021-03-04T00:11:28.794679Z"
    },
    "papermill": {
     "duration": 0.039517,
     "end_time": "2021-03-04T00:11:28.795286",
     "exception": false,
     "start_time": "2021-03-04T00:11:28.755769",
     "status": "completed"
    },
    "tags": []
   },
   "outputs": [],
   "source": [
    "# #hide\n",
    "# fig, ax = plt.subplots(figsize=(15, 8))\n",
    "\n",
    "# def draw_barchart(current_day):\n",
    "#     dff = g[g['day'].eq(current_day)].sort_values(by='value', ascending=True).tail(10)\n",
    "#     ax.clear()\n",
    "#     ax.barh(dff['name'], dff['value'], color=[colors[group_lk[x]] for x in dff['name']])\n",
    "#     dx = dff['value'].max() / 200\n",
    "    \n",
    "#     for i, (value, name) in enumerate(zip(dff['value'], dff['name'])):\n",
    "#         ax.text(value-dx, i,     name,           size=14, weight=600, ha='right', va='bottom')\n",
    "#         ax.text(value-dx, i-.25, group_lk[name], size=10, color='#444444', ha='right', va='baseline')\n",
    "#         ax.text(value+dx, i,     f'{value:,.0f}',  size=14, ha='left',  va='center')\n",
    "#     ax.text(1, 0.4, current_day, transform=ax.transAxes, color='#777777', size=46, ha='right', weight=800)\n",
    "#     ax.text(0, 1.06, 'Population (thousands)', transform=ax.transAxes, size=12, color='#777777')\n",
    "#     ax.xaxis.set_major_formatter(ticker.StrMethodFormatter('{x:,.0f}'))\n",
    "#     ax.xaxis.set_ticks_position('top')\n",
    "#     ax.tick_params(axis='x', colors='#777777', labelsize=12)\n",
    "#     ax.set_yticks([])\n",
    "#     ax.margins(0, 0.01)\n",
    "#     ax.grid(which='major', axis='x', linestyle='-')\n",
    "#     ax.set_axisbelow(True)\n",
    "    \n",
    "#     ax.text(0, 1.15, 'Coronavirus',\n",
    "#             transform=ax.transAxes, size=24, weight=600, ha='left', va='top')\n",
    "# #     ax.text(1, 0, 'by @pratapvardhan; credit @jburnmurdoch', transform=ax.transAxes, color='#777777', ha='right',\n",
    "# #             bbox=dict(facecolor='white', alpha=0.8, edgecolor='white'))\n",
    "#     plt.box(False)"
   ]
  },
  {
   "cell_type": "code",
   "execution_count": 42,
   "id": "sexual-wages",
   "metadata": {
    "execution": {
     "iopub.execute_input": "2021-03-04T00:11:28.870838Z",
     "iopub.status.busy": "2021-03-04T00:11:28.870267Z",
     "iopub.status.idle": "2021-03-04T00:11:28.872654Z",
     "shell.execute_reply": "2021-03-04T00:11:28.872175Z"
    },
    "papermill": {
     "duration": 0.039015,
     "end_time": "2021-03-04T00:11:28.872764",
     "exception": false,
     "start_time": "2021-03-04T00:11:28.833749",
     "status": "completed"
    },
    "tags": []
   },
   "outputs": [],
   "source": [
    "# #hide_input\n",
    "# fig, ax = plt.subplots(figsize=(15, 8))\n",
    "# animator = animation.FuncAnimation(fig, draw_barchart, frames=range(g.day.values.min(), g.day.values.max()))\n",
    "# HTML(animator.to_jshtml())\n",
    "# # or use animator.to_html5_video() or animator.save() "
   ]
  },
  {
   "cell_type": "code",
   "execution_count": null,
   "id": "australian-container",
   "metadata": {
    "papermill": {
     "duration": 0.034169,
     "end_time": "2021-03-04T00:11:28.942369",
     "exception": false,
     "start_time": "2021-03-04T00:11:28.908200",
     "status": "completed"
    },
    "tags": []
   },
   "outputs": [],
   "source": []
  },
  {
   "cell_type": "code",
   "execution_count": null,
   "id": "mediterranean-pontiac",
   "metadata": {
    "papermill": {
     "duration": 0.033799,
     "end_time": "2021-03-04T00:11:29.009735",
     "exception": false,
     "start_time": "2021-03-04T00:11:28.975936",
     "status": "completed"
    },
    "tags": []
   },
   "outputs": [],
   "source": []
  },
  {
   "cell_type": "code",
   "execution_count": null,
   "id": "aging-legislature",
   "metadata": {
    "papermill": {
     "duration": 0.037573,
     "end_time": "2021-03-04T00:11:29.080315",
     "exception": false,
     "start_time": "2021-03-04T00:11:29.042742",
     "status": "completed"
    },
    "tags": []
   },
   "outputs": [],
   "source": []
  }
 ],
 "metadata": {
  "kernelspec": {
   "display_name": "Python 3",
   "language": "python",
   "name": "python3"
  },
  "language_info": {
   "codemirror_mode": {
    "name": "ipython",
    "version": 3
   },
   "file_extension": ".py",
   "mimetype": "text/x-python",
   "name": "python",
   "nbconvert_exporter": "python",
   "pygments_lexer": "ipython3",
   "version": "3.6.13"
  },
  "papermill": {
   "duration": 8.254337,
   "end_time": "2021-03-04T00:11:29.424157",
   "environment_variables": {},
   "exception": null,
   "input_path": "2020-03-21-covid19exp.ipynb",
   "output_path": "2020-03-21-covid19exp.ipynb",
   "parameters": {},
   "start_time": "2021-03-04T00:11:21.169820",
   "version": "2.0.0"
  }
 },
 "nbformat": 4,
 "nbformat_minor": 5
}