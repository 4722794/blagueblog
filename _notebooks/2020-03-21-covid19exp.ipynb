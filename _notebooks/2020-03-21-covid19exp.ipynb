{
 "cells": [
  {
   "cell_type": "markdown",
   "id": "muslim-click",
   "metadata": {
    "papermill": {
     "duration": 0.045857,
     "end_time": "2022-03-02T12:13:50.381374",
     "exception": false,
     "start_time": "2022-03-02T12:13:50.335517",
     "status": "completed"
    },
    "tags": []
   },
   "source": [
    "# COVID-19 Case Race\n",
    "> A race chart to see rising cases around the world\n",
    "\n",
    "- author: Hargun Oberoi\n",
    "- image: images/covid-overview.png\n",
    "- hide: false\n",
    "- badges: false"
   ]
  },
  {
   "cell_type": "code",
   "execution_count": 1,
   "id": "proof-material",
   "metadata": {
    "execution": {
     "iopub.execute_input": "2022-03-02T12:13:50.462675Z",
     "iopub.status.busy": "2022-03-02T12:13:50.462082Z",
     "iopub.status.idle": "2022-03-02T12:13:50.829507Z",
     "shell.execute_reply": "2022-03-02T12:13:50.830024Z"
    },
    "papermill": {
     "duration": 0.412661,
     "end_time": "2022-03-02T12:13:50.830212",
     "exception": false,
     "start_time": "2022-03-02T12:13:50.417551",
     "status": "completed"
    },
    "tags": []
   },
   "outputs": [],
   "source": [
    "#hide\n",
    "import numpy as np\n",
    "import pandas as pd\n",
    "from jinja2 import Template\n",
    "from IPython.display import HTML"
   ]
  },
  {
   "cell_type": "code",
   "execution_count": 2,
   "id": "developed-terminology",
   "metadata": {
    "execution": {
     "iopub.execute_input": "2022-03-02T12:13:50.906060Z",
     "iopub.status.busy": "2022-03-02T12:13:50.905357Z",
     "iopub.status.idle": "2022-03-02T12:13:50.907886Z",
     "shell.execute_reply": "2022-03-02T12:13:50.907361Z"
    },
    "papermill": {
     "duration": 0.04299,
     "end_time": "2022-03-02T12:13:50.908030",
     "exception": false,
     "start_time": "2022-03-02T12:13:50.865040",
     "status": "completed"
    },
    "tags": []
   },
   "outputs": [],
   "source": [
    "#hide\n",
    "\n",
    "# FETCH\n",
    "base_url = 'https://raw.githubusercontent.com/pratapvardhan/notebooks/master/covid19/'\n",
    "paths = {\n",
    "    'mapping': base_url + 'mapping_countries.csv',\n",
    "    'overview': base_url + 'overview.tpl'\n",
    "}"
   ]
  },
  {
   "cell_type": "code",
   "execution_count": 3,
   "id": "dynamic-saver",
   "metadata": {
    "execution": {
     "iopub.execute_input": "2022-03-02T12:13:50.990963Z",
     "iopub.status.busy": "2022-03-02T12:13:50.990215Z",
     "iopub.status.idle": "2022-03-02T12:13:50.993571Z",
     "shell.execute_reply": "2022-03-02T12:13:50.993050Z"
    },
    "papermill": {
     "duration": 0.05189,
     "end_time": "2022-03-02T12:13:50.993727",
     "exception": false,
     "start_time": "2022-03-02T12:13:50.941837",
     "status": "completed"
    },
    "tags": []
   },
   "outputs": [
    {
     "data": {
      "text/plain": [
       "'https://raw.githubusercontent.com/pratapvardhan/notebooks/master/covid19/mapping_countries.csv'"
      ]
     },
     "execution_count": 3,
     "metadata": {},
     "output_type": "execute_result"
    }
   ],
   "source": [
    "#hide\n",
    "paths['mapping']"
   ]
  },
  {
   "cell_type": "code",
   "execution_count": 4,
   "id": "urban-software",
   "metadata": {
    "execution": {
     "iopub.execute_input": "2022-03-02T12:13:51.068768Z",
     "iopub.status.busy": "2022-03-02T12:13:51.068173Z",
     "iopub.status.idle": "2022-03-02T12:13:51.071579Z",
     "shell.execute_reply": "2022-03-02T12:13:51.072082Z"
    },
    "papermill": {
     "duration": 0.043047,
     "end_time": "2022-03-02T12:13:51.072220",
     "exception": false,
     "start_time": "2022-03-02T12:13:51.029173",
     "status": "completed"
    },
    "tags": []
   },
   "outputs": [],
   "source": [
    "#hide\n",
    "def get_mappings(url):\n",
    "    df = pd.read_csv(url)\n",
    "    return {\n",
    "        'df': df,\n",
    "        'replace.country': dict(df.dropna(subset=['Name']).set_index('Country')['Name']),\n",
    "        'map.continent': dict(df.set_index('Name')['Continent'])\n",
    "    }"
   ]
  },
  {
   "cell_type": "code",
   "execution_count": 5,
   "id": "intimate-machinery",
   "metadata": {
    "execution": {
     "iopub.execute_input": "2022-03-02T12:13:51.150624Z",
     "iopub.status.busy": "2022-03-02T12:13:51.149990Z",
     "iopub.status.idle": "2022-03-02T12:13:51.186606Z",
     "shell.execute_reply": "2022-03-02T12:13:51.187117Z"
    },
    "papermill": {
     "duration": 0.079014,
     "end_time": "2022-03-02T12:13:51.187289",
     "exception": false,
     "start_time": "2022-03-02T12:13:51.108275",
     "status": "completed"
    },
    "tags": []
   },
   "outputs": [],
   "source": [
    "#hide\n",
    "mapping = get_mappings(paths['mapping'])"
   ]
  },
  {
   "cell_type": "code",
   "execution_count": 6,
   "id": "certified-tactics",
   "metadata": {
    "execution": {
     "iopub.execute_input": "2022-03-02T12:13:51.261550Z",
     "iopub.status.busy": "2022-03-02T12:13:51.260958Z",
     "iopub.status.idle": "2022-03-02T12:13:51.263788Z",
     "shell.execute_reply": "2022-03-02T12:13:51.264364Z"
    },
    "papermill": {
     "duration": 0.041517,
     "end_time": "2022-03-02T12:13:51.264499",
     "exception": false,
     "start_time": "2022-03-02T12:13:51.222982",
     "status": "completed"
    },
    "tags": []
   },
   "outputs": [],
   "source": [
    "#hide\n",
    "def get_template(path):\n",
    "    from urllib.parse import urlparse\n",
    "    if bool(urlparse(path).netloc):\n",
    "        from urllib.request import urlopen\n",
    "        return urlopen(path).read().decode('utf8')\n",
    "    return open(path).read()"
   ]
  },
  {
   "cell_type": "code",
   "execution_count": 7,
   "id": "realistic-blast",
   "metadata": {
    "execution": {
     "iopub.execute_input": "2022-03-02T12:13:51.341460Z",
     "iopub.status.busy": "2022-03-02T12:13:51.340856Z",
     "iopub.status.idle": "2022-03-02T12:13:51.343372Z",
     "shell.execute_reply": "2022-03-02T12:13:51.342845Z"
    },
    "papermill": {
     "duration": 0.044319,
     "end_time": "2022-03-02T12:13:51.343499",
     "exception": false,
     "start_time": "2022-03-02T12:13:51.299180",
     "status": "completed"
    },
    "tags": []
   },
   "outputs": [],
   "source": [
    "#hide\n",
    "def get_frame(name):\n",
    "    url = (\n",
    "        'https://raw.githubusercontent.com/CSSEGISandData/COVID-19/master/csse_covid_19_data/'\n",
    "        f'csse_covid_19_time_series/time_series_covid19_{name}_global.csv')\n",
    "    df = pd.read_csv(url)\n",
    "    # rename countries\n",
    "    df['Country/Region'] = df['Country/Region'].replace(mapping['replace.country'])\n",
    "    return df"
   ]
  },
  {
   "cell_type": "code",
   "execution_count": 8,
   "id": "affiliated-characterization",
   "metadata": {
    "execution": {
     "iopub.execute_input": "2022-03-02T12:13:51.421563Z",
     "iopub.status.busy": "2022-03-02T12:13:51.420907Z",
     "iopub.status.idle": "2022-03-02T12:13:51.423354Z",
     "shell.execute_reply": "2022-03-02T12:13:51.422853Z"
    },
    "papermill": {
     "duration": 0.044576,
     "end_time": "2022-03-02T12:13:51.423476",
     "exception": false,
     "start_time": "2022-03-02T12:13:51.378900",
     "status": "completed"
    },
    "tags": []
   },
   "outputs": [],
   "source": [
    "#hide\n",
    "def get_dates(df):\n",
    "    dt_cols = df.columns[~df.columns.isin(['Province/State', 'Country/Region', 'Lat', 'Long'])]\n",
    "    LAST_DATE_I = -1\n",
    "    # sometimes last column may be empty, then go backwards\n",
    "    for i in range(-1, -len(dt_cols), -1):\n",
    "        if not df[dt_cols[i]].fillna(0).eq(0).all():\n",
    "            LAST_DATE_I = i\n",
    "            break\n",
    "    return LAST_DATE_I, dt_cols"
   ]
  },
  {
   "cell_type": "code",
   "execution_count": 9,
   "id": "recent-optimization",
   "metadata": {
    "execution": {
     "iopub.execute_input": "2022-03-02T12:13:51.502497Z",
     "iopub.status.busy": "2022-03-02T12:13:51.501779Z",
     "iopub.status.idle": "2022-03-02T12:13:51.952963Z",
     "shell.execute_reply": "2022-03-02T12:13:51.953454Z"
    },
    "papermill": {
     "duration": 0.493897,
     "end_time": "2022-03-02T12:13:51.953653",
     "exception": false,
     "start_time": "2022-03-02T12:13:51.459756",
     "status": "completed"
    },
    "tags": []
   },
   "outputs": [],
   "source": [
    "#hide\n",
    "COL_REGION = 'Country/Region'\n",
    "# Confirmed, Recovered, Deaths\n",
    "df = get_frame('confirmed')\n",
    "# dft_: timeseries, dfc_: today country agg\n",
    "dft_cases = df\n",
    "dft_deaths = get_frame('deaths')\n",
    "dft_recovered = get_frame('recovered')\n",
    "LAST_DATE_I, dt_cols = get_dates(df)"
   ]
  },
  {
   "cell_type": "code",
   "execution_count": 10,
   "id": "absolute-copper",
   "metadata": {
    "execution": {
     "iopub.execute_input": "2022-03-02T12:13:52.031263Z",
     "iopub.status.busy": "2022-03-02T12:13:52.030607Z",
     "iopub.status.idle": "2022-03-02T12:13:52.033117Z",
     "shell.execute_reply": "2022-03-02T12:13:52.034192Z"
    },
    "papermill": {
     "duration": 0.043637,
     "end_time": "2022-03-02T12:13:52.034325",
     "exception": false,
     "start_time": "2022-03-02T12:13:51.990688",
     "status": "completed"
    },
    "tags": []
   },
   "outputs": [],
   "source": [
    "#hide\n",
    "LAST_DATE_I, dt_cols = get_dates(df)\n",
    "dt_today =dt_cols[LAST_DATE_I]\n",
    "# dt_5day = dt_cols[LAST_DATE_I - 5]\n",
    "dt_yday = dt_cols[LAST_DATE_I - 1]"
   ]
  },
  {
   "cell_type": "code",
   "execution_count": 11,
   "id": "restricted-sheriff",
   "metadata": {
    "execution": {
     "iopub.execute_input": "2022-03-02T12:13:52.121769Z",
     "iopub.status.busy": "2022-03-02T12:13:52.121066Z",
     "iopub.status.idle": "2022-03-02T12:13:52.125823Z",
     "shell.execute_reply": "2022-03-02T12:13:52.126393Z"
    },
    "papermill": {
     "duration": 0.052345,
     "end_time": "2022-03-02T12:13:52.126537",
     "exception": false,
     "start_time": "2022-03-02T12:13:52.074192",
     "status": "completed"
    },
    "tags": []
   },
   "outputs": [],
   "source": [
    "#hide\n",
    "dfc_cases = dft_cases.groupby(COL_REGION)[dt_today].sum()\n",
    "dfc_deaths = dft_deaths.groupby(COL_REGION)[dt_today].sum()\n",
    "# dfp_cases = dft_cases.groupby(COL_REGION)[dt_5day].sum()\n",
    "# dfp_deaths = dft_deaths.groupby(COL_REGION)[dt_5day].sum()\n",
    "dfp_cases = dft_cases.groupby(COL_REGION)[dt_yday].sum()\n",
    "dfp_deaths = dft_deaths.groupby(COL_REGION)[dt_yday].sum()"
   ]
  },
  {
   "cell_type": "code",
   "execution_count": 12,
   "id": "deluxe-hepatitis",
   "metadata": {
    "execution": {
     "iopub.execute_input": "2022-03-02T12:13:52.204811Z",
     "iopub.status.busy": "2022-03-02T12:13:52.204143Z",
     "iopub.status.idle": "2022-03-02T12:13:52.208820Z",
     "shell.execute_reply": "2022-03-02T12:13:52.209431Z"
    },
    "papermill": {
     "duration": 0.047994,
     "end_time": "2022-03-02T12:13:52.209584",
     "exception": false,
     "start_time": "2022-03-02T12:13:52.161590",
     "status": "completed"
    },
    "tags": []
   },
   "outputs": [],
   "source": [
    "#hide\n",
    "df_table = (pd.DataFrame(dict(Cases = dfc_cases, Deaths = dfc_deaths, PCases = dfp_cases, PDeaths = dfp_deaths))\n",
    "            .sort_values(by = ['Cases','Deaths'], ascending = [False, False])\n",
    "            .reset_index())"
   ]
  },
  {
   "cell_type": "code",
   "execution_count": 13,
   "id": "educational-chancellor",
   "metadata": {
    "execution": {
     "iopub.execute_input": "2022-03-02T12:13:52.304908Z",
     "iopub.status.busy": "2022-03-02T12:13:52.303661Z",
     "iopub.status.idle": "2022-03-02T12:13:52.313135Z",
     "shell.execute_reply": "2022-03-02T12:13:52.312619Z"
    },
    "papermill": {
     "duration": 0.06718,
     "end_time": "2022-03-02T12:13:52.313267",
     "exception": false,
     "start_time": "2022-03-02T12:13:52.246087",
     "status": "completed"
    },
    "tags": []
   },
   "outputs": [
    {
     "data": {
      "text/html": [
       "<div>\n",
       "<style scoped>\n",
       "    .dataframe tbody tr th:only-of-type {\n",
       "        vertical-align: middle;\n",
       "    }\n",
       "\n",
       "    .dataframe tbody tr th {\n",
       "        vertical-align: top;\n",
       "    }\n",
       "\n",
       "    .dataframe thead th {\n",
       "        text-align: right;\n",
       "    }\n",
       "</style>\n",
       "<table border=\"1\" class=\"dataframe\">\n",
       "  <thead>\n",
       "    <tr style=\"text-align: right;\">\n",
       "      <th></th>\n",
       "      <th>Country/Region</th>\n",
       "      <th>Cases</th>\n",
       "      <th>Deaths</th>\n",
       "      <th>PCases</th>\n",
       "      <th>PDeaths</th>\n",
       "      <th>Cases (+)</th>\n",
       "      <th>Deaths (+)</th>\n",
       "      <th>Fatality Rate</th>\n",
       "      <th>Continent</th>\n",
       "    </tr>\n",
       "  </thead>\n",
       "  <tbody>\n",
       "    <tr>\n",
       "      <th>0</th>\n",
       "      <td>US</td>\n",
       "      <td>79091361</td>\n",
       "      <td>952423</td>\n",
       "      <td>79044330</td>\n",
       "      <td>950732</td>\n",
       "      <td>47031</td>\n",
       "      <td>1691</td>\n",
       "      <td>1.20</td>\n",
       "      <td>North America</td>\n",
       "    </tr>\n",
       "    <tr>\n",
       "      <th>1</th>\n",
       "      <td>India</td>\n",
       "      <td>42938599</td>\n",
       "      <td>514246</td>\n",
       "      <td>42931045</td>\n",
       "      <td>514023</td>\n",
       "      <td>7554</td>\n",
       "      <td>223</td>\n",
       "      <td>1.20</td>\n",
       "      <td>Asia</td>\n",
       "    </tr>\n",
       "    <tr>\n",
       "      <th>2</th>\n",
       "      <td>Brazil</td>\n",
       "      <td>28818850</td>\n",
       "      <td>649922</td>\n",
       "      <td>28796571</td>\n",
       "      <td>649676</td>\n",
       "      <td>22279</td>\n",
       "      <td>246</td>\n",
       "      <td>2.26</td>\n",
       "      <td>South America</td>\n",
       "    </tr>\n",
       "    <tr>\n",
       "      <th>3</th>\n",
       "      <td>France</td>\n",
       "      <td>22959368</td>\n",
       "      <td>139594</td>\n",
       "      <td>22877926</td>\n",
       "      <td>139382</td>\n",
       "      <td>81442</td>\n",
       "      <td>212</td>\n",
       "      <td>0.61</td>\n",
       "      <td>Europe</td>\n",
       "    </tr>\n",
       "    <tr>\n",
       "      <th>4</th>\n",
       "      <td>United Kingdom</td>\n",
       "      <td>19120746</td>\n",
       "      <td>162203</td>\n",
       "      <td>19021076</td>\n",
       "      <td>161934</td>\n",
       "      <td>99670</td>\n",
       "      <td>269</td>\n",
       "      <td>0.85</td>\n",
       "      <td>Europe</td>\n",
       "    </tr>\n",
       "  </tbody>\n",
       "</table>\n",
       "</div>"
      ],
      "text/plain": [
       "   Country/Region     Cases  Deaths    PCases  PDeaths  Cases (+)  Deaths (+)  \\\n",
       "0              US  79091361  952423  79044330   950732      47031        1691   \n",
       "1           India  42938599  514246  42931045   514023       7554         223   \n",
       "2          Brazil  28818850  649922  28796571   649676      22279         246   \n",
       "3          France  22959368  139594  22877926   139382      81442         212   \n",
       "4  United Kingdom  19120746  162203  19021076   161934      99670         269   \n",
       "\n",
       "   Fatality Rate      Continent  \n",
       "0           1.20  North America  \n",
       "1           1.20           Asia  \n",
       "2           2.26  South America  \n",
       "3           0.61         Europe  \n",
       "4           0.85         Europe  "
      ]
     },
     "execution_count": 13,
     "metadata": {},
     "output_type": "execute_result"
    }
   ],
   "source": [
    "#hide\n",
    "for c in 'Cases, Deaths'.split(', '):\n",
    "    df_table[f'{c} (+)'] = (df_table[c] - df_table[f'P{c}']).clip(0)\n",
    "    #Clip ça veut dire, les chiffres negatif sont interdit\n",
    "df_table['Fatality Rate'] = (100* df_table['Deaths']/ df_table['Cases']).round(2)\n",
    "df_table['Continent'] = df_table['Country/Region'].map(mapping['map.continent'])\n",
    "df_table.head(5)"
   ]
  },
  {
   "cell_type": "code",
   "execution_count": 14,
   "id": "aboriginal-bulgaria",
   "metadata": {
    "execution": {
     "iopub.execute_input": "2022-03-02T12:13:52.388746Z",
     "iopub.status.busy": "2022-03-02T12:13:52.388158Z",
     "iopub.status.idle": "2022-03-02T12:13:52.391382Z",
     "shell.execute_reply": "2022-03-02T12:13:52.391984Z"
    },
    "papermill": {
     "duration": 0.042831,
     "end_time": "2022-03-02T12:13:52.392119",
     "exception": false,
     "start_time": "2022-03-02T12:13:52.349288",
     "status": "completed"
    },
    "tags": []
   },
   "outputs": [],
   "source": [
    "#hide\n",
    "#delete problematic countries from table\n",
    "df_table = df_table[~df_table['Country/Region'].isin(['Cape Verde', 'Cruise Ship', 'Kosovo'])]"
   ]
  },
  {
   "cell_type": "code",
   "execution_count": 15,
   "id": "fantastic-effect",
   "metadata": {
    "execution": {
     "iopub.execute_input": "2022-03-02T12:13:52.472539Z",
     "iopub.status.busy": "2022-03-02T12:13:52.471921Z",
     "iopub.status.idle": "2022-03-02T12:13:52.491253Z",
     "shell.execute_reply": "2022-03-02T12:13:52.491736Z"
    },
    "papermill": {
     "duration": 0.063137,
     "end_time": "2022-03-02T12:13:52.491875",
     "exception": false,
     "start_time": "2022-03-02T12:13:52.428738",
     "status": "completed"
    },
    "tags": []
   },
   "outputs": [
    {
     "data": {
      "text/html": [
       "<div>\n",
       "<style scoped>\n",
       "    .dataframe tbody tr th:only-of-type {\n",
       "        vertical-align: middle;\n",
       "    }\n",
       "\n",
       "    .dataframe tbody tr th {\n",
       "        vertical-align: top;\n",
       "    }\n",
       "\n",
       "    .dataframe thead th {\n",
       "        text-align: right;\n",
       "    }\n",
       "</style>\n",
       "<table border=\"1\" class=\"dataframe\">\n",
       "  <thead>\n",
       "    <tr style=\"text-align: right;\">\n",
       "      <th></th>\n",
       "      <th>Country/Region</th>\n",
       "      <th>Cases</th>\n",
       "      <th>Deaths</th>\n",
       "      <th>PCases</th>\n",
       "      <th>PDeaths</th>\n",
       "      <th>Cases (+)</th>\n",
       "      <th>Deaths (+)</th>\n",
       "      <th>Fatality Rate</th>\n",
       "      <th>Continent</th>\n",
       "    </tr>\n",
       "  </thead>\n",
       "  <tbody>\n",
       "    <tr>\n",
       "      <th>0</th>\n",
       "      <td>US</td>\n",
       "      <td>79091361</td>\n",
       "      <td>952423</td>\n",
       "      <td>79044330</td>\n",
       "      <td>950732</td>\n",
       "      <td>47031</td>\n",
       "      <td>1691</td>\n",
       "      <td>1.2</td>\n",
       "      <td>North America</td>\n",
       "    </tr>\n",
       "    <tr>\n",
       "      <th>1</th>\n",
       "      <td>India</td>\n",
       "      <td>42938599</td>\n",
       "      <td>514246</td>\n",
       "      <td>42931045</td>\n",
       "      <td>514023</td>\n",
       "      <td>7554</td>\n",
       "      <td>223</td>\n",
       "      <td>1.2</td>\n",
       "      <td>Asia</td>\n",
       "    </tr>\n",
       "    <tr>\n",
       "      <th>2</th>\n",
       "      <td>Brazil</td>\n",
       "      <td>28818850</td>\n",
       "      <td>649922</td>\n",
       "      <td>28796571</td>\n",
       "      <td>649676</td>\n",
       "      <td>22279</td>\n",
       "      <td>246</td>\n",
       "      <td>2.3</td>\n",
       "      <td>South America</td>\n",
       "    </tr>\n",
       "    <tr>\n",
       "      <th>3</th>\n",
       "      <td>France</td>\n",
       "      <td>22959368</td>\n",
       "      <td>139594</td>\n",
       "      <td>22877926</td>\n",
       "      <td>139382</td>\n",
       "      <td>81442</td>\n",
       "      <td>212</td>\n",
       "      <td>0.6</td>\n",
       "      <td>Europe</td>\n",
       "    </tr>\n",
       "    <tr>\n",
       "      <th>4</th>\n",
       "      <td>United Kingdom</td>\n",
       "      <td>19120746</td>\n",
       "      <td>162203</td>\n",
       "      <td>19021076</td>\n",
       "      <td>161934</td>\n",
       "      <td>99670</td>\n",
       "      <td>269</td>\n",
       "      <td>0.8</td>\n",
       "      <td>Europe</td>\n",
       "    </tr>\n",
       "  </tbody>\n",
       "</table>\n",
       "</div>"
      ],
      "text/plain": [
       "   Country/Region     Cases  Deaths    PCases  PDeaths  Cases (+)  Deaths (+)  \\\n",
       "0              US  79091361  952423  79044330   950732      47031        1691   \n",
       "1           India  42938599  514246  42931045   514023       7554         223   \n",
       "2          Brazil  28818850  649922  28796571   649676      22279         246   \n",
       "3          France  22959368  139594  22877926   139382      81442         212   \n",
       "4  United Kingdom  19120746  162203  19021076   161934      99670         269   \n",
       "\n",
       "   Fatality Rate      Continent  \n",
       "0            1.2  North America  \n",
       "1            1.2           Asia  \n",
       "2            2.3  South America  \n",
       "3            0.6         Europe  \n",
       "4            0.8         Europe  "
      ]
     },
     "execution_count": 15,
     "metadata": {},
     "output_type": "execute_result"
    }
   ],
   "source": [
    "#hide\n",
    "df_table = (pd.DataFrame(dict(Cases=dfc_cases, Deaths=dfc_deaths, PCases=dfp_cases, PDeaths=dfp_deaths))\n",
    "             .sort_values(by=['Cases', 'Deaths'], ascending=[False, False])\n",
    "             .reset_index())\n",
    "df_table.rename(columns={'index': 'Country/Region'}, inplace=True)\n",
    "for c in 'Cases, Deaths'.split(', '):\n",
    "    df_table[f'{c} (+)'] = (df_table[c] - df_table[f'P{c}']).clip(0)  # DATA BUG\n",
    "df_table['Fatality Rate'] = (100 * df_table['Deaths'] / df_table['Cases']).round(1)\n",
    "df_table['Continent'] = df_table['Country/Region'].map(mapping['map.continent'])\n",
    "df_table.head(5)"
   ]
  },
  {
   "cell_type": "code",
   "execution_count": 16,
   "id": "fewer-occasion",
   "metadata": {
    "execution": {
     "iopub.execute_input": "2022-03-02T12:13:52.570492Z",
     "iopub.status.busy": "2022-03-02T12:13:52.569895Z",
     "iopub.status.idle": "2022-03-02T12:13:52.572163Z",
     "shell.execute_reply": "2022-03-02T12:13:52.572616Z"
    },
    "papermill": {
     "duration": 0.043506,
     "end_time": "2022-03-02T12:13:52.572754",
     "exception": false,
     "start_time": "2022-03-02T12:13:52.529248",
     "status": "completed"
    },
    "tags": []
   },
   "outputs": [],
   "source": [
    "#hide\n",
    "#delete problematic countries from table\n",
    "df_table = df_table[~df_table['Country/Region'].isin(['Cape Verde', 'Cruise Ship', 'Kosovo'])]"
   ]
  },
  {
   "cell_type": "code",
   "execution_count": 17,
   "id": "related-center",
   "metadata": {
    "execution": {
     "iopub.execute_input": "2022-03-02T12:13:52.664362Z",
     "iopub.status.busy": "2022-03-02T12:13:52.663726Z",
     "iopub.status.idle": "2022-03-02T12:13:52.665779Z",
     "shell.execute_reply": "2022-03-02T12:13:52.666228Z"
    },
    "papermill": {
     "duration": 0.057663,
     "end_time": "2022-03-02T12:13:52.666370",
     "exception": false,
     "start_time": "2022-03-02T12:13:52.608707",
     "status": "completed"
    },
    "tags": []
   },
   "outputs": [],
   "source": [
    "#hide\n",
    "metrics = [df_table.columns[index] for index in [1,2,5,6]]\n",
    "# s_china = df_table[df_table['Country/Region'].eq('China')][metrics].sum().add_prefix('China ')\n",
    "s_us = df_table[df_table['Country/Region'].eq('US')][metrics].sum().add_prefix('US ')\n",
    "s_eu = df_table[df_table['Continent'].eq('Europe')][metrics].sum().add_prefix('EU ')\n",
    "s_ind = df_table[df_table['Country/Region'].eq('India')][metrics].sum().add_prefix('India ')\n",
    "summary = {'updated': pd.to_datetime(dt_today), 'since': pd.to_datetime(dt_yday)}\n",
    "summary = {'updated': pd.to_datetime(dt_today), 'since': pd.to_datetime(dt_yday)}\n",
    "summary = {**summary, **df_table[metrics].sum(), **s_ind, **s_us, **s_eu}"
   ]
  },
  {
   "cell_type": "code",
   "execution_count": 18,
   "id": "engaging-syndrome",
   "metadata": {
    "execution": {
     "iopub.execute_input": "2022-03-02T12:13:52.742949Z",
     "iopub.status.busy": "2022-03-02T12:13:52.742313Z",
     "iopub.status.idle": "2022-03-02T12:13:52.758248Z",
     "shell.execute_reply": "2022-03-02T12:13:52.758777Z"
    },
    "papermill": {
     "duration": 0.056493,
     "end_time": "2022-03-02T12:13:52.758922",
     "exception": false,
     "start_time": "2022-03-02T12:13:52.702429",
     "status": "completed"
    },
    "tags": []
   },
   "outputs": [],
   "source": [
    "#hide\n",
    "dft_ct_new_cases = dft_cases.groupby(COL_REGION)[dt_cols].sum().diff(axis=1).fillna(0).astype(int)"
   ]
  },
  {
   "cell_type": "code",
   "execution_count": 19,
   "id": "neutral-assignment",
   "metadata": {
    "execution": {
     "iopub.execute_input": "2022-03-02T12:13:52.839915Z",
     "iopub.status.busy": "2022-03-02T12:13:52.839329Z",
     "iopub.status.idle": "2022-03-02T12:13:52.842354Z",
     "shell.execute_reply": "2022-03-02T12:13:52.841819Z"
    },
    "papermill": {
     "duration": 0.046175,
     "end_time": "2022-03-02T12:13:52.842474",
     "exception": false,
     "start_time": "2022-03-02T12:13:52.796299",
     "status": "completed"
    },
    "tags": []
   },
   "outputs": [],
   "source": [
    "#hide\n",
    "everydaycases = dft_ct_new_cases.cumsum(axis=1)"
   ]
  },
  {
   "cell_type": "code",
   "execution_count": 20,
   "id": "parliamentary-calgary",
   "metadata": {
    "execution": {
     "iopub.execute_input": "2022-03-02T12:13:52.920223Z",
     "iopub.status.busy": "2022-03-02T12:13:52.919623Z",
     "iopub.status.idle": "2022-03-02T12:13:53.582265Z",
     "shell.execute_reply": "2022-03-02T12:13:53.581711Z"
    },
    "papermill": {
     "duration": 0.703111,
     "end_time": "2022-03-02T12:13:53.582408",
     "exception": false,
     "start_time": "2022-03-02T12:13:52.879297",
     "status": "completed"
    },
    "tags": []
   },
   "outputs": [],
   "source": [
    "#hide\n",
    "import pandas as pd\n",
    "import matplotlib.pyplot as plt\n",
    "import matplotlib.ticker as ticker\n",
    "import matplotlib.animation as animation\n",
    "from IPython.display import HTML"
   ]
  },
  {
   "cell_type": "code",
   "execution_count": 21,
   "id": "lasting-extraction",
   "metadata": {
    "execution": {
     "iopub.execute_input": "2022-03-02T12:13:53.669189Z",
     "iopub.status.busy": "2022-03-02T12:13:53.668523Z",
     "iopub.status.idle": "2022-03-02T12:13:53.674811Z",
     "shell.execute_reply": "2022-03-02T12:13:53.675374Z"
    },
    "papermill": {
     "duration": 0.054913,
     "end_time": "2022-03-02T12:13:53.675515",
     "exception": false,
     "start_time": "2022-03-02T12:13:53.620602",
     "status": "completed"
    },
    "tags": []
   },
   "outputs": [],
   "source": [
    "#hide\n",
    "t = everydaycases.stack()"
   ]
  },
  {
   "cell_type": "code",
   "execution_count": 22,
   "id": "premier-sleeve",
   "metadata": {
    "execution": {
     "iopub.execute_input": "2022-03-02T12:13:53.750682Z",
     "iopub.status.busy": "2022-03-02T12:13:53.750035Z",
     "iopub.status.idle": "2022-03-02T12:13:53.760231Z",
     "shell.execute_reply": "2022-03-02T12:13:53.760729Z"
    },
    "papermill": {
     "duration": 0.049616,
     "end_time": "2022-03-02T12:13:53.760865",
     "exception": false,
     "start_time": "2022-03-02T12:13:53.711249",
     "status": "completed"
    },
    "tags": []
   },
   "outputs": [],
   "source": [
    "#hide\n",
    "g = t.reset_index(['Country/Region'])"
   ]
  },
  {
   "cell_type": "code",
   "execution_count": 23,
   "id": "distributed-pittsburgh",
   "metadata": {
    "execution": {
     "iopub.execute_input": "2022-03-02T12:13:53.835619Z",
     "iopub.status.busy": "2022-03-02T12:13:53.834972Z",
     "iopub.status.idle": "2022-03-02T12:13:53.837390Z",
     "shell.execute_reply": "2022-03-02T12:13:53.836772Z"
    },
    "papermill": {
     "duration": 0.042821,
     "end_time": "2022-03-02T12:13:53.837519",
     "exception": false,
     "start_time": "2022-03-02T12:13:53.794698",
     "status": "completed"
    },
    "tags": []
   },
   "outputs": [],
   "source": [
    "#hide\n",
    "g.index.name = 'date'"
   ]
  },
  {
   "cell_type": "code",
   "execution_count": 24,
   "id": "naked-donor",
   "metadata": {
    "execution": {
     "iopub.execute_input": "2022-03-02T12:13:53.916121Z",
     "iopub.status.busy": "2022-03-02T12:13:53.915424Z",
     "iopub.status.idle": "2022-03-02T12:13:53.918035Z",
     "shell.execute_reply": "2022-03-02T12:13:53.917521Z"
    },
    "papermill": {
     "duration": 0.042769,
     "end_time": "2022-03-02T12:13:53.918153",
     "exception": false,
     "start_time": "2022-03-02T12:13:53.875384",
     "status": "completed"
    },
    "tags": []
   },
   "outputs": [],
   "source": [
    "# #hide\n",
    "# g = g.reset_index(['date'])"
   ]
  },
  {
   "cell_type": "code",
   "execution_count": 25,
   "id": "incomplete-mustang",
   "metadata": {
    "execution": {
     "iopub.execute_input": "2022-03-02T12:13:53.998488Z",
     "iopub.status.busy": "2022-03-02T12:13:53.997831Z",
     "iopub.status.idle": "2022-03-02T12:13:54.000531Z",
     "shell.execute_reply": "2022-03-02T12:13:53.999959Z"
    },
    "papermill": {
     "duration": 0.042851,
     "end_time": "2022-03-02T12:13:54.000659",
     "exception": false,
     "start_time": "2022-03-02T12:13:53.957808",
     "status": "completed"
    },
    "tags": []
   },
   "outputs": [],
   "source": [
    "#hide\n",
    "# g.head()"
   ]
  },
  {
   "cell_type": "code",
   "execution_count": 26,
   "id": "specific-kruger",
   "metadata": {
    "execution": {
     "iopub.execute_input": "2022-03-02T12:13:54.083403Z",
     "iopub.status.busy": "2022-03-02T12:13:54.082760Z",
     "iopub.status.idle": "2022-03-02T12:13:54.085366Z",
     "shell.execute_reply": "2022-03-02T12:13:54.084774Z"
    },
    "papermill": {
     "duration": 0.045641,
     "end_time": "2022-03-02T12:13:54.085494",
     "exception": false,
     "start_time": "2022-03-02T12:13:54.039853",
     "status": "completed"
    },
    "tags": []
   },
   "outputs": [],
   "source": [
    "#hide\n",
    "# g.columns = ['date','country','cases']"
   ]
  },
  {
   "cell_type": "code",
   "execution_count": 27,
   "id": "tender-conversion",
   "metadata": {
    "execution": {
     "iopub.execute_input": "2022-03-02T12:13:54.166858Z",
     "iopub.status.busy": "2022-03-02T12:13:54.166181Z",
     "iopub.status.idle": "2022-03-02T12:13:54.168664Z",
     "shell.execute_reply": "2022-03-02T12:13:54.168007Z"
    },
    "papermill": {
     "duration": 0.044272,
     "end_time": "2022-03-02T12:13:54.168800",
     "exception": false,
     "start_time": "2022-03-02T12:13:54.124528",
     "status": "completed"
    },
    "tags": []
   },
   "outputs": [],
   "source": [
    "#hide\n",
    "# g['continent'] = g.country"
   ]
  },
  {
   "cell_type": "code",
   "execution_count": 28,
   "id": "substantial-wilderness",
   "metadata": {
    "execution": {
     "iopub.execute_input": "2022-03-02T12:13:54.252590Z",
     "iopub.status.busy": "2022-03-02T12:13:54.251981Z",
     "iopub.status.idle": "2022-03-02T12:13:54.255714Z",
     "shell.execute_reply": "2022-03-02T12:13:54.256187Z"
    },
    "papermill": {
     "duration": 0.047903,
     "end_time": "2022-03-02T12:13:54.256331",
     "exception": false,
     "start_time": "2022-03-02T12:13:54.208428",
     "status": "completed"
    },
    "tags": []
   },
   "outputs": [],
   "source": [
    "#hide\n",
    "# cols = list(g.columns.values)"
   ]
  },
  {
   "cell_type": "code",
   "execution_count": 29,
   "id": "solved-farming",
   "metadata": {
    "execution": {
     "iopub.execute_input": "2022-03-02T12:13:54.333122Z",
     "iopub.status.busy": "2022-03-02T12:13:54.332540Z",
     "iopub.status.idle": "2022-03-02T12:13:54.334666Z",
     "shell.execute_reply": "2022-03-02T12:13:54.335288Z"
    },
    "papermill": {
     "duration": 0.042756,
     "end_time": "2022-03-02T12:13:54.335461",
     "exception": false,
     "start_time": "2022-03-02T12:13:54.292705",
     "status": "completed"
    },
    "tags": []
   },
   "outputs": [],
   "source": [
    "#hide\n",
    "# cols.insert(0, cols.pop())"
   ]
  },
  {
   "cell_type": "code",
   "execution_count": 30,
   "id": "executed-adoption",
   "metadata": {
    "execution": {
     "iopub.execute_input": "2022-03-02T12:13:54.410851Z",
     "iopub.status.busy": "2022-03-02T12:13:54.410267Z",
     "iopub.status.idle": "2022-03-02T12:13:54.412802Z",
     "shell.execute_reply": "2022-03-02T12:13:54.412223Z"
    },
    "papermill": {
     "duration": 0.041063,
     "end_time": "2022-03-02T12:13:54.412918",
     "exception": false,
     "start_time": "2022-03-02T12:13:54.371855",
     "status": "completed"
    },
    "tags": []
   },
   "outputs": [],
   "source": [
    "#hide\n",
    "# g = g[cols]"
   ]
  },
  {
   "cell_type": "code",
   "execution_count": 31,
   "id": "subject-dublin",
   "metadata": {
    "execution": {
     "iopub.execute_input": "2022-03-02T12:13:54.489556Z",
     "iopub.status.busy": "2022-03-02T12:13:54.488969Z",
     "iopub.status.idle": "2022-03-02T12:13:54.491367Z",
     "shell.execute_reply": "2022-03-02T12:13:54.490873Z"
    },
    "papermill": {
     "duration": 0.041469,
     "end_time": "2022-03-02T12:13:54.491484",
     "exception": false,
     "start_time": "2022-03-02T12:13:54.450015",
     "status": "completed"
    },
    "tags": []
   },
   "outputs": [],
   "source": [
    "#hide\n",
    "# g['continent'] = g['continent'].map(mapping['map.continent'])"
   ]
  },
  {
   "cell_type": "code",
   "execution_count": 32,
   "id": "freelance-scout",
   "metadata": {
    "execution": {
     "iopub.execute_input": "2022-03-02T12:13:54.569740Z",
     "iopub.status.busy": "2022-03-02T12:13:54.569121Z",
     "iopub.status.idle": "2022-03-02T12:13:54.571588Z",
     "shell.execute_reply": "2022-03-02T12:13:54.570997Z"
    },
    "papermill": {
     "duration": 0.042957,
     "end_time": "2022-03-02T12:13:54.571707",
     "exception": false,
     "start_time": "2022-03-02T12:13:54.528750",
     "status": "completed"
    },
    "tags": []
   },
   "outputs": [],
   "source": [
    "#hide\n",
    "# g.head()"
   ]
  },
  {
   "cell_type": "code",
   "execution_count": 33,
   "id": "limited-engine",
   "metadata": {
    "execution": {
     "iopub.execute_input": "2022-03-02T12:13:54.647427Z",
     "iopub.status.busy": "2022-03-02T12:13:54.646736Z",
     "iopub.status.idle": "2022-03-02T12:13:54.650552Z",
     "shell.execute_reply": "2022-03-02T12:13:54.651006Z"
    },
    "papermill": {
     "duration": 0.043583,
     "end_time": "2022-03-02T12:13:54.651162",
     "exception": false,
     "start_time": "2022-03-02T12:13:54.607579",
     "status": "completed"
    },
    "tags": []
   },
   "outputs": [],
   "source": [
    "# hide\n",
    "# g['date'] = g['date'].astype('datetime64[ns]')"
   ]
  },
  {
   "cell_type": "code",
   "execution_count": 34,
   "id": "sophisticated-supervisor",
   "metadata": {
    "execution": {
     "iopub.execute_input": "2022-03-02T12:13:54.727524Z",
     "iopub.status.busy": "2022-03-02T12:13:54.726945Z",
     "iopub.status.idle": "2022-03-02T12:13:54.729544Z",
     "shell.execute_reply": "2022-03-02T12:13:54.729053Z"
    },
    "papermill": {
     "duration": 0.042225,
     "end_time": "2022-03-02T12:13:54.729691",
     "exception": false,
     "start_time": "2022-03-02T12:13:54.687466",
     "status": "completed"
    },
    "tags": []
   },
   "outputs": [],
   "source": [
    "#hide\n",
    "# g['date'] = g.date.dt.dayofyear"
   ]
  },
  {
   "cell_type": "code",
   "execution_count": 35,
   "id": "inside-dubai",
   "metadata": {
    "execution": {
     "iopub.execute_input": "2022-03-02T12:13:54.807225Z",
     "iopub.status.busy": "2022-03-02T12:13:54.806558Z",
     "iopub.status.idle": "2022-03-02T12:13:54.811435Z",
     "shell.execute_reply": "2022-03-02T12:13:54.810908Z"
    },
    "papermill": {
     "duration": 0.045882,
     "end_time": "2022-03-02T12:13:54.811576",
     "exception": false,
     "start_time": "2022-03-02T12:13:54.765694",
     "status": "completed"
    },
    "tags": []
   },
   "outputs": [],
   "source": [
    "#hide\n",
    "# g = g.rename(columns= {'continent':'group','country':'name','cases':'value'})"
   ]
  },
  {
   "cell_type": "code",
   "execution_count": 36,
   "id": "fleet-motorcycle",
   "metadata": {
    "execution": {
     "iopub.execute_input": "2022-03-02T12:13:54.894632Z",
     "iopub.status.busy": "2022-03-02T12:13:54.893971Z",
     "iopub.status.idle": "2022-03-02T12:13:54.896784Z",
     "shell.execute_reply": "2022-03-02T12:13:54.896278Z"
    },
    "papermill": {
     "duration": 0.044831,
     "end_time": "2022-03-02T12:13:54.896920",
     "exception": false,
     "start_time": "2022-03-02T12:13:54.852089",
     "status": "completed"
    },
    "tags": []
   },
   "outputs": [],
   "source": [
    "#hide\n",
    "# cols = ['name','group','day','value']"
   ]
  },
  {
   "cell_type": "code",
   "execution_count": 37,
   "id": "continued-sleeping",
   "metadata": {
    "execution": {
     "iopub.execute_input": "2022-03-02T12:13:54.978277Z",
     "iopub.status.busy": "2022-03-02T12:13:54.977629Z",
     "iopub.status.idle": "2022-03-02T12:13:54.980092Z",
     "shell.execute_reply": "2022-03-02T12:13:54.979555Z"
    },
    "papermill": {
     "duration": 0.044165,
     "end_time": "2022-03-02T12:13:54.980464",
     "exception": false,
     "start_time": "2022-03-02T12:13:54.936299",
     "status": "completed"
    },
    "tags": []
   },
   "outputs": [],
   "source": [
    "#hide\n",
    "# g.rename(columns= {'date':'day'},inplace = True)"
   ]
  },
  {
   "cell_type": "code",
   "execution_count": 38,
   "id": "major-fight",
   "metadata": {
    "execution": {
     "iopub.execute_input": "2022-03-02T12:13:55.056774Z",
     "iopub.status.busy": "2022-03-02T12:13:55.056133Z",
     "iopub.status.idle": "2022-03-02T12:13:55.058601Z",
     "shell.execute_reply": "2022-03-02T12:13:55.058097Z"
    },
    "papermill": {
     "duration": 0.042131,
     "end_time": "2022-03-02T12:13:55.058726",
     "exception": false,
     "start_time": "2022-03-02T12:13:55.016595",
     "status": "completed"
    },
    "tags": []
   },
   "outputs": [],
   "source": [
    "#hide\n",
    "# g = g[cols]"
   ]
  },
  {
   "cell_type": "code",
   "execution_count": 39,
   "id": "structured-mobile",
   "metadata": {
    "execution": {
     "iopub.execute_input": "2022-03-02T12:13:55.145196Z",
     "iopub.status.busy": "2022-03-02T12:13:55.144613Z",
     "iopub.status.idle": "2022-03-02T12:13:55.146579Z",
     "shell.execute_reply": "2022-03-02T12:13:55.147025Z"
    },
    "papermill": {
     "duration": 0.048153,
     "end_time": "2022-03-02T12:13:55.147163",
     "exception": false,
     "start_time": "2022-03-02T12:13:55.099010",
     "status": "completed"
    },
    "tags": []
   },
   "outputs": [],
   "source": [
    "# #hide\n",
    "# g = g[g.group.notna()]"
   ]
  },
  {
   "cell_type": "code",
   "execution_count": 40,
   "id": "determined-closing",
   "metadata": {
    "execution": {
     "iopub.execute_input": "2022-03-02T12:13:55.224450Z",
     "iopub.status.busy": "2022-03-02T12:13:55.223754Z",
     "iopub.status.idle": "2022-03-02T12:13:55.228308Z",
     "shell.execute_reply": "2022-03-02T12:13:55.227773Z"
    },
    "papermill": {
     "duration": 0.045735,
     "end_time": "2022-03-02T12:13:55.228473",
     "exception": false,
     "start_time": "2022-03-02T12:13:55.182738",
     "status": "completed"
    },
    "tags": []
   },
   "outputs": [],
   "source": [
    "# #hide\n",
    "# colors = dict(zip(\n",
    "#     [\"Oceania\", \"Europe\", \"Asia\", \"South America\", \"Middle East\", \"North America\", \"Africa\"],\n",
    "#     [\"#adb0ff\", \"#ffb3ff\", \"#90d595\", \"#e48381\", \"#aafbff\", \"#f7bb5f\", \"#eafb50\"]\n",
    "# ))\n",
    "# group_lk = g.set_index('name')['group'].to_dict()"
   ]
  },
  {
   "cell_type": "code",
   "execution_count": null,
   "id": "gross-drinking",
   "metadata": {
    "papermill": {
     "duration": 0.038715,
     "end_time": "2022-03-02T12:13:55.305818",
     "exception": false,
     "start_time": "2022-03-02T12:13:55.267103",
     "status": "completed"
    },
    "tags": []
   },
   "outputs": [],
   "source": []
  },
  {
   "cell_type": "code",
   "execution_count": 41,
   "id": "subject-macintosh",
   "metadata": {
    "execution": {
     "iopub.execute_input": "2022-03-02T12:13:55.386421Z",
     "iopub.status.busy": "2022-03-02T12:13:55.385755Z",
     "iopub.status.idle": "2022-03-02T12:13:55.388169Z",
     "shell.execute_reply": "2022-03-02T12:13:55.387563Z"
    },
    "papermill": {
     "duration": 0.042645,
     "end_time": "2022-03-02T12:13:55.388297",
     "exception": false,
     "start_time": "2022-03-02T12:13:55.345652",
     "status": "completed"
    },
    "tags": []
   },
   "outputs": [],
   "source": [
    "# #hide\n",
    "# fig, ax = plt.subplots(figsize=(15, 8))\n",
    "\n",
    "# def draw_barchart(current_day):\n",
    "#     dff = g[g['day'].eq(current_day)].sort_values(by='value', ascending=True).tail(10)\n",
    "#     ax.clear()\n",
    "#     ax.barh(dff['name'], dff['value'], color=[colors[group_lk[x]] for x in dff['name']])\n",
    "#     dx = dff['value'].max() / 200\n",
    "    \n",
    "#     for i, (value, name) in enumerate(zip(dff['value'], dff['name'])):\n",
    "#         ax.text(value-dx, i,     name,           size=14, weight=600, ha='right', va='bottom')\n",
    "#         ax.text(value-dx, i-.25, group_lk[name], size=10, color='#444444', ha='right', va='baseline')\n",
    "#         ax.text(value+dx, i,     f'{value:,.0f}',  size=14, ha='left',  va='center')\n",
    "#     ax.text(1, 0.4, current_day, transform=ax.transAxes, color='#777777', size=46, ha='right', weight=800)\n",
    "#     ax.text(0, 1.06, 'Population (thousands)', transform=ax.transAxes, size=12, color='#777777')\n",
    "#     ax.xaxis.set_major_formatter(ticker.StrMethodFormatter('{x:,.0f}'))\n",
    "#     ax.xaxis.set_ticks_position('top')\n",
    "#     ax.tick_params(axis='x', colors='#777777', labelsize=12)\n",
    "#     ax.set_yticks([])\n",
    "#     ax.margins(0, 0.01)\n",
    "#     ax.grid(which='major', axis='x', linestyle='-')\n",
    "#     ax.set_axisbelow(True)\n",
    "    \n",
    "#     ax.text(0, 1.15, 'Coronavirus',\n",
    "#             transform=ax.transAxes, size=24, weight=600, ha='left', va='top')\n",
    "# #     ax.text(1, 0, 'by @pratapvardhan; credit @jburnmurdoch', transform=ax.transAxes, color='#777777', ha='right',\n",
    "# #             bbox=dict(facecolor='white', alpha=0.8, edgecolor='white'))\n",
    "#     plt.box(False)"
   ]
  },
  {
   "cell_type": "code",
   "execution_count": 42,
   "id": "sexual-wages",
   "metadata": {
    "execution": {
     "iopub.execute_input": "2022-03-02T12:13:55.467984Z",
     "iopub.status.busy": "2022-03-02T12:13:55.467290Z",
     "iopub.status.idle": "2022-03-02T12:13:55.469732Z",
     "shell.execute_reply": "2022-03-02T12:13:55.469085Z"
    },
    "papermill": {
     "duration": 0.042564,
     "end_time": "2022-03-02T12:13:55.470213",
     "exception": false,
     "start_time": "2022-03-02T12:13:55.427649",
     "status": "completed"
    },
    "tags": []
   },
   "outputs": [],
   "source": [
    "# #hide_input\n",
    "# fig, ax = plt.subplots(figsize=(15, 8))\n",
    "# animator = animation.FuncAnimation(fig, draw_barchart, frames=range(g.day.values.min(), g.day.values.max()))\n",
    "# HTML(animator.to_jshtml())\n",
    "# # or use animator.to_html5_video() or animator.save() "
   ]
  },
  {
   "cell_type": "code",
   "execution_count": null,
   "id": "australian-container",
   "metadata": {
    "papermill": {
     "duration": 0.037239,
     "end_time": "2022-03-02T12:13:55.545015",
     "exception": false,
     "start_time": "2022-03-02T12:13:55.507776",
     "status": "completed"
    },
    "tags": []
   },
   "outputs": [],
   "source": []
  },
  {
   "cell_type": "code",
   "execution_count": null,
   "id": "mediterranean-pontiac",
   "metadata": {
    "papermill": {
     "duration": 0.03683,
     "end_time": "2022-03-02T12:13:55.618790",
     "exception": false,
     "start_time": "2022-03-02T12:13:55.581960",
     "status": "completed"
    },
    "tags": []
   },
   "outputs": [],
   "source": []
  },
  {
   "cell_type": "code",
   "execution_count": null,
   "id": "aging-legislature",
   "metadata": {
    "papermill": {
     "duration": 0.035632,
     "end_time": "2022-03-02T12:13:55.691813",
     "exception": false,
     "start_time": "2022-03-02T12:13:55.656181",
     "status": "completed"
    },
    "tags": []
   },
   "outputs": [],
   "source": []
  }
 ],
 "metadata": {
  "kernelspec": {
   "display_name": "Python 3",
   "language": "python",
   "name": "python3"
  },
  "language_info": {
   "codemirror_mode": {
    "name": "ipython",
    "version": 3
   },
   "file_extension": ".py",
   "mimetype": "text/x-python",
   "name": "python",
   "nbconvert_exporter": "python",
   "pygments_lexer": "ipython3",
   "version": "3.6.15"
  },
  "papermill": {
   "duration": 7.018656,
   "end_time": "2022-03-02T12:13:56.044790",
   "environment_variables": {},
   "exception": null,
   "input_path": "2020-03-21-covid19exp.ipynb",
   "output_path": "2020-03-21-covid19exp.ipynb",
   "parameters": {},
   "start_time": "2022-03-02T12:13:49.026134",
   "version": "2.0.0"
  }
 },
 "nbformat": 4,
 "nbformat_minor": 5
}