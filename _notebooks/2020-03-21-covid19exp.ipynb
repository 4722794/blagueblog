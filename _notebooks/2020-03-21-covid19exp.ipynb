{
 "cells": [
  {
   "cell_type": "markdown",
   "id": "muslim-click",
   "metadata": {
    "papermill": {
     "duration": 0.031789,
     "end_time": "2022-05-07T00:36:27.950150",
     "exception": false,
     "start_time": "2022-05-07T00:36:27.918361",
     "status": "completed"
    },
    "tags": []
   },
   "source": [
    "# COVID-19 Case Race\n",
    "> A race chart to see rising cases around the world\n",
    "\n",
    "- author: Hargun Oberoi\n",
    "- image: images/covid-overview.png\n",
    "- hide: false\n",
    "- badges: false"
   ]
  },
  {
   "cell_type": "code",
   "execution_count": 1,
   "id": "proof-material",
   "metadata": {
    "execution": {
     "iopub.execute_input": "2022-05-07T00:36:28.013803Z",
     "iopub.status.busy": "2022-05-07T00:36:28.013317Z",
     "iopub.status.idle": "2022-05-07T00:36:28.304842Z",
     "shell.execute_reply": "2022-05-07T00:36:28.305255Z"
    },
    "papermill": {
     "duration": 0.327576,
     "end_time": "2022-05-07T00:36:28.305416",
     "exception": false,
     "start_time": "2022-05-07T00:36:27.977840",
     "status": "completed"
    },
    "tags": []
   },
   "outputs": [],
   "source": [
    "#hide\n",
    "import numpy as np\n",
    "import pandas as pd\n",
    "from jinja2 import Template\n",
    "from IPython.display import HTML"
   ]
  },
  {
   "cell_type": "code",
   "execution_count": 2,
   "id": "developed-terminology",
   "metadata": {
    "execution": {
     "iopub.execute_input": "2022-05-07T00:36:28.363806Z",
     "iopub.status.busy": "2022-05-07T00:36:28.363160Z",
     "iopub.status.idle": "2022-05-07T00:36:28.364426Z",
     "shell.execute_reply": "2022-05-07T00:36:28.364899Z"
    },
    "papermill": {
     "duration": 0.033307,
     "end_time": "2022-05-07T00:36:28.365045",
     "exception": false,
     "start_time": "2022-05-07T00:36:28.331738",
     "status": "completed"
    },
    "tags": []
   },
   "outputs": [],
   "source": [
    "#hide\n",
    "\n",
    "# FETCH\n",
    "base_url = 'https://raw.githubusercontent.com/pratapvardhan/notebooks/master/covid19/'\n",
    "paths = {\n",
    "    'mapping': base_url + 'mapping_countries.csv',\n",
    "    'overview': base_url + 'overview.tpl'\n",
    "}"
   ]
  },
  {
   "cell_type": "code",
   "execution_count": 3,
   "id": "dynamic-saver",
   "metadata": {
    "execution": {
     "iopub.execute_input": "2022-05-07T00:36:28.426553Z",
     "iopub.status.busy": "2022-05-07T00:36:28.424248Z",
     "iopub.status.idle": "2022-05-07T00:36:28.429085Z",
     "shell.execute_reply": "2022-05-07T00:36:28.428691Z"
    },
    "papermill": {
     "duration": 0.037972,
     "end_time": "2022-05-07T00:36:28.429184",
     "exception": false,
     "start_time": "2022-05-07T00:36:28.391212",
     "status": "completed"
    },
    "tags": []
   },
   "outputs": [
    {
     "data": {
      "text/plain": [
       "'https://raw.githubusercontent.com/pratapvardhan/notebooks/master/covid19/mapping_countries.csv'"
      ]
     },
     "execution_count": 3,
     "metadata": {},
     "output_type": "execute_result"
    }
   ],
   "source": [
    "#hide\n",
    "paths['mapping']"
   ]
  },
  {
   "cell_type": "code",
   "execution_count": 4,
   "id": "urban-software",
   "metadata": {
    "execution": {
     "iopub.execute_input": "2022-05-07T00:36:28.487259Z",
     "iopub.status.busy": "2022-05-07T00:36:28.486782Z",
     "iopub.status.idle": "2022-05-07T00:36:28.488615Z",
     "shell.execute_reply": "2022-05-07T00:36:28.489028Z"
    },
    "papermill": {
     "duration": 0.033593,
     "end_time": "2022-05-07T00:36:28.489150",
     "exception": false,
     "start_time": "2022-05-07T00:36:28.455557",
     "status": "completed"
    },
    "tags": []
   },
   "outputs": [],
   "source": [
    "#hide\n",
    "def get_mappings(url):\n",
    "    df = pd.read_csv(url)\n",
    "    return {\n",
    "        'df': df,\n",
    "        'replace.country': dict(df.dropna(subset=['Name']).set_index('Country')['Name']),\n",
    "        'map.continent': dict(df.set_index('Name')['Continent'])\n",
    "    }"
   ]
  },
  {
   "cell_type": "code",
   "execution_count": 5,
   "id": "intimate-machinery",
   "metadata": {
    "execution": {
     "iopub.execute_input": "2022-05-07T00:36:28.546878Z",
     "iopub.status.busy": "2022-05-07T00:36:28.546424Z",
     "iopub.status.idle": "2022-05-07T00:36:28.634710Z",
     "shell.execute_reply": "2022-05-07T00:36:28.634246Z"
    },
    "papermill": {
     "duration": 0.11945,
     "end_time": "2022-05-07T00:36:28.634821",
     "exception": false,
     "start_time": "2022-05-07T00:36:28.515371",
     "status": "completed"
    },
    "tags": []
   },
   "outputs": [],
   "source": [
    "#hide\n",
    "mapping = get_mappings(paths['mapping'])"
   ]
  },
  {
   "cell_type": "code",
   "execution_count": 6,
   "id": "certified-tactics",
   "metadata": {
    "execution": {
     "iopub.execute_input": "2022-05-07T00:36:28.693551Z",
     "iopub.status.busy": "2022-05-07T00:36:28.693054Z",
     "iopub.status.idle": "2022-05-07T00:36:28.695114Z",
     "shell.execute_reply": "2022-05-07T00:36:28.694743Z"
    },
    "papermill": {
     "duration": 0.033619,
     "end_time": "2022-05-07T00:36:28.695217",
     "exception": false,
     "start_time": "2022-05-07T00:36:28.661598",
     "status": "completed"
    },
    "tags": []
   },
   "outputs": [],
   "source": [
    "#hide\n",
    "def get_template(path):\n",
    "    from urllib.parse import urlparse\n",
    "    if bool(urlparse(path).netloc):\n",
    "        from urllib.request import urlopen\n",
    "        return urlopen(path).read().decode('utf8')\n",
    "    return open(path).read()"
   ]
  },
  {
   "cell_type": "code",
   "execution_count": 7,
   "id": "realistic-blast",
   "metadata": {
    "execution": {
     "iopub.execute_input": "2022-05-07T00:36:28.753052Z",
     "iopub.status.busy": "2022-05-07T00:36:28.752560Z",
     "iopub.status.idle": "2022-05-07T00:36:28.754013Z",
     "shell.execute_reply": "2022-05-07T00:36:28.754349Z"
    },
    "papermill": {
     "duration": 0.032882,
     "end_time": "2022-05-07T00:36:28.754462",
     "exception": false,
     "start_time": "2022-05-07T00:36:28.721580",
     "status": "completed"
    },
    "tags": []
   },
   "outputs": [],
   "source": [
    "#hide\n",
    "def get_frame(name):\n",
    "    url = (\n",
    "        'https://raw.githubusercontent.com/CSSEGISandData/COVID-19/master/csse_covid_19_data/'\n",
    "        f'csse_covid_19_time_series/time_series_covid19_{name}_global.csv')\n",
    "    df = pd.read_csv(url)\n",
    "    # rename countries\n",
    "    df['Country/Region'] = df['Country/Region'].replace(mapping['replace.country'])\n",
    "    return df"
   ]
  },
  {
   "cell_type": "code",
   "execution_count": 8,
   "id": "affiliated-characterization",
   "metadata": {
    "execution": {
     "iopub.execute_input": "2022-05-07T00:36:28.812907Z",
     "iopub.status.busy": "2022-05-07T00:36:28.812416Z",
     "iopub.status.idle": "2022-05-07T00:36:28.814605Z",
     "shell.execute_reply": "2022-05-07T00:36:28.814242Z"
    },
    "papermill": {
     "duration": 0.033881,
     "end_time": "2022-05-07T00:36:28.814705",
     "exception": false,
     "start_time": "2022-05-07T00:36:28.780824",
     "status": "completed"
    },
    "tags": []
   },
   "outputs": [],
   "source": [
    "#hide\n",
    "def get_dates(df):\n",
    "    dt_cols = df.columns[~df.columns.isin(['Province/State', 'Country/Region', 'Lat', 'Long'])]\n",
    "    LAST_DATE_I = -1\n",
    "    # sometimes last column may be empty, then go backwards\n",
    "    for i in range(-1, -len(dt_cols), -1):\n",
    "        if not df[dt_cols[i]].fillna(0).eq(0).all():\n",
    "            LAST_DATE_I = i\n",
    "            break\n",
    "    return LAST_DATE_I, dt_cols"
   ]
  },
  {
   "cell_type": "code",
   "execution_count": 9,
   "id": "recent-optimization",
   "metadata": {
    "execution": {
     "iopub.execute_input": "2022-05-07T00:36:28.872370Z",
     "iopub.status.busy": "2022-05-07T00:36:28.871877Z",
     "iopub.status.idle": "2022-05-07T00:36:29.280474Z",
     "shell.execute_reply": "2022-05-07T00:36:29.279939Z"
    },
    "papermill": {
     "duration": 0.43954,
     "end_time": "2022-05-07T00:36:29.280609",
     "exception": false,
     "start_time": "2022-05-07T00:36:28.841069",
     "status": "completed"
    },
    "tags": []
   },
   "outputs": [],
   "source": [
    "#hide\n",
    "COL_REGION = 'Country/Region'\n",
    "# Confirmed, Recovered, Deaths\n",
    "df = get_frame('confirmed')\n",
    "# dft_: timeseries, dfc_: today country agg\n",
    "dft_cases = df\n",
    "dft_deaths = get_frame('deaths')\n",
    "dft_recovered = get_frame('recovered')\n",
    "LAST_DATE_I, dt_cols = get_dates(df)"
   ]
  },
  {
   "cell_type": "code",
   "execution_count": 10,
   "id": "absolute-copper",
   "metadata": {
    "execution": {
     "iopub.execute_input": "2022-05-07T00:36:29.339847Z",
     "iopub.status.busy": "2022-05-07T00:36:29.339373Z",
     "iopub.status.idle": "2022-05-07T00:36:29.341234Z",
     "shell.execute_reply": "2022-05-07T00:36:29.341593Z"
    },
    "papermill": {
     "duration": 0.034503,
     "end_time": "2022-05-07T00:36:29.341708",
     "exception": false,
     "start_time": "2022-05-07T00:36:29.307205",
     "status": "completed"
    },
    "tags": []
   },
   "outputs": [],
   "source": [
    "#hide\n",
    "LAST_DATE_I, dt_cols = get_dates(df)\n",
    "dt_today =dt_cols[LAST_DATE_I]\n",
    "# dt_5day = dt_cols[LAST_DATE_I - 5]\n",
    "dt_yday = dt_cols[LAST_DATE_I - 1]"
   ]
  },
  {
   "cell_type": "code",
   "execution_count": 11,
   "id": "restricted-sheriff",
   "metadata": {
    "execution": {
     "iopub.execute_input": "2022-05-07T00:36:29.402231Z",
     "iopub.status.busy": "2022-05-07T00:36:29.401774Z",
     "iopub.status.idle": "2022-05-07T00:36:29.407347Z",
     "shell.execute_reply": "2022-05-07T00:36:29.406982Z"
    },
    "papermill": {
     "duration": 0.039288,
     "end_time": "2022-05-07T00:36:29.407446",
     "exception": false,
     "start_time": "2022-05-07T00:36:29.368158",
     "status": "completed"
    },
    "tags": []
   },
   "outputs": [],
   "source": [
    "#hide\n",
    "dfc_cases = dft_cases.groupby(COL_REGION)[dt_today].sum()\n",
    "dfc_deaths = dft_deaths.groupby(COL_REGION)[dt_today].sum()\n",
    "# dfp_cases = dft_cases.groupby(COL_REGION)[dt_5day].sum()\n",
    "# dfp_deaths = dft_deaths.groupby(COL_REGION)[dt_5day].sum()\n",
    "dfp_cases = dft_cases.groupby(COL_REGION)[dt_yday].sum()\n",
    "dfp_deaths = dft_deaths.groupby(COL_REGION)[dt_yday].sum()"
   ]
  },
  {
   "cell_type": "code",
   "execution_count": 12,
   "id": "deluxe-hepatitis",
   "metadata": {
    "execution": {
     "iopub.execute_input": "2022-05-07T00:36:29.468197Z",
     "iopub.status.busy": "2022-05-07T00:36:29.467736Z",
     "iopub.status.idle": "2022-05-07T00:36:29.471612Z",
     "shell.execute_reply": "2022-05-07T00:36:29.471237Z"
    },
    "papermill": {
     "duration": 0.037757,
     "end_time": "2022-05-07T00:36:29.471719",
     "exception": false,
     "start_time": "2022-05-07T00:36:29.433962",
     "status": "completed"
    },
    "tags": []
   },
   "outputs": [],
   "source": [
    "#hide\n",
    "df_table = (pd.DataFrame(dict(Cases = dfc_cases, Deaths = dfc_deaths, PCases = dfp_cases, PDeaths = dfp_deaths))\n",
    "            .sort_values(by = ['Cases','Deaths'], ascending = [False, False])\n",
    "            .reset_index())"
   ]
  },
  {
   "cell_type": "code",
   "execution_count": 13,
   "id": "educational-chancellor",
   "metadata": {
    "execution": {
     "iopub.execute_input": "2022-05-07T00:36:29.540543Z",
     "iopub.status.busy": "2022-05-07T00:36:29.536488Z",
     "iopub.status.idle": "2022-05-07T00:36:29.547099Z",
     "shell.execute_reply": "2022-05-07T00:36:29.547524Z"
    },
    "papermill": {
     "duration": 0.049137,
     "end_time": "2022-05-07T00:36:29.547644",
     "exception": false,
     "start_time": "2022-05-07T00:36:29.498507",
     "status": "completed"
    },
    "tags": []
   },
   "outputs": [
    {
     "data": {
      "text/html": [
       "<div>\n",
       "<style scoped>\n",
       "    .dataframe tbody tr th:only-of-type {\n",
       "        vertical-align: middle;\n",
       "    }\n",
       "\n",
       "    .dataframe tbody tr th {\n",
       "        vertical-align: top;\n",
       "    }\n",
       "\n",
       "    .dataframe thead th {\n",
       "        text-align: right;\n",
       "    }\n",
       "</style>\n",
       "<table border=\"1\" class=\"dataframe\">\n",
       "  <thead>\n",
       "    <tr style=\"text-align: right;\">\n",
       "      <th></th>\n",
       "      <th>Country/Region</th>\n",
       "      <th>Cases</th>\n",
       "      <th>Deaths</th>\n",
       "      <th>PCases</th>\n",
       "      <th>PDeaths</th>\n",
       "      <th>Cases (+)</th>\n",
       "      <th>Deaths (+)</th>\n",
       "      <th>Fatality Rate</th>\n",
       "      <th>Continent</th>\n",
       "    </tr>\n",
       "  </thead>\n",
       "  <tbody>\n",
       "    <tr>\n",
       "      <th>0</th>\n",
       "      <td>US</td>\n",
       "      <td>81694580</td>\n",
       "      <td>996964</td>\n",
       "      <td>81620383</td>\n",
       "      <td>996704</td>\n",
       "      <td>74197</td>\n",
       "      <td>260</td>\n",
       "      <td>1.22</td>\n",
       "      <td>North America</td>\n",
       "    </tr>\n",
       "    <tr>\n",
       "      <th>1</th>\n",
       "      <td>India</td>\n",
       "      <td>43094938</td>\n",
       "      <td>524002</td>\n",
       "      <td>43091393</td>\n",
       "      <td>523975</td>\n",
       "      <td>3545</td>\n",
       "      <td>27</td>\n",
       "      <td>1.22</td>\n",
       "      <td>Asia</td>\n",
       "    </tr>\n",
       "    <tr>\n",
       "      <th>2</th>\n",
       "      <td>Brazil</td>\n",
       "      <td>30524183</td>\n",
       "      <td>664131</td>\n",
       "      <td>30502501</td>\n",
       "      <td>663994</td>\n",
       "      <td>21682</td>\n",
       "      <td>137</td>\n",
       "      <td>2.18</td>\n",
       "      <td>South America</td>\n",
       "    </tr>\n",
       "    <tr>\n",
       "      <th>3</th>\n",
       "      <td>France</td>\n",
       "      <td>29040934</td>\n",
       "      <td>147535</td>\n",
       "      <td>28996577</td>\n",
       "      <td>147413</td>\n",
       "      <td>44357</td>\n",
       "      <td>122</td>\n",
       "      <td>0.51</td>\n",
       "      <td>Europe</td>\n",
       "    </tr>\n",
       "    <tr>\n",
       "      <th>4</th>\n",
       "      <td>Germany</td>\n",
       "      <td>25215210</td>\n",
       "      <td>136339</td>\n",
       "      <td>25130137</td>\n",
       "      <td>136125</td>\n",
       "      <td>85073</td>\n",
       "      <td>214</td>\n",
       "      <td>0.54</td>\n",
       "      <td>Europe</td>\n",
       "    </tr>\n",
       "  </tbody>\n",
       "</table>\n",
       "</div>"
      ],
      "text/plain": [
       "  Country/Region     Cases  Deaths    PCases  PDeaths  Cases (+)  Deaths (+)  \\\n",
       "0             US  81694580  996964  81620383   996704      74197         260   \n",
       "1          India  43094938  524002  43091393   523975       3545          27   \n",
       "2         Brazil  30524183  664131  30502501   663994      21682         137   \n",
       "3         France  29040934  147535  28996577   147413      44357         122   \n",
       "4        Germany  25215210  136339  25130137   136125      85073         214   \n",
       "\n",
       "   Fatality Rate      Continent  \n",
       "0           1.22  North America  \n",
       "1           1.22           Asia  \n",
       "2           2.18  South America  \n",
       "3           0.51         Europe  \n",
       "4           0.54         Europe  "
      ]
     },
     "execution_count": 13,
     "metadata": {},
     "output_type": "execute_result"
    }
   ],
   "source": [
    "#hide\n",
    "for c in 'Cases, Deaths'.split(', '):\n",
    "    df_table[f'{c} (+)'] = (df_table[c] - df_table[f'P{c}']).clip(0)\n",
    "    #Clip ça veut dire, les chiffres negatif sont interdit\n",
    "df_table['Fatality Rate'] = (100* df_table['Deaths']/ df_table['Cases']).round(2)\n",
    "df_table['Continent'] = df_table['Country/Region'].map(mapping['map.continent'])\n",
    "df_table.head(5)"
   ]
  },
  {
   "cell_type": "code",
   "execution_count": 14,
   "id": "aboriginal-bulgaria",
   "metadata": {
    "execution": {
     "iopub.execute_input": "2022-05-07T00:36:29.607451Z",
     "iopub.status.busy": "2022-05-07T00:36:29.606837Z",
     "iopub.status.idle": "2022-05-07T00:36:29.608175Z",
     "shell.execute_reply": "2022-05-07T00:36:29.608661Z"
    },
    "papermill": {
     "duration": 0.034213,
     "end_time": "2022-05-07T00:36:29.608826",
     "exception": false,
     "start_time": "2022-05-07T00:36:29.574613",
     "status": "completed"
    },
    "tags": []
   },
   "outputs": [],
   "source": [
    "#hide\n",
    "#delete problematic countries from table\n",
    "df_table = df_table[~df_table['Country/Region'].isin(['Cape Verde', 'Cruise Ship', 'Kosovo'])]"
   ]
  },
  {
   "cell_type": "code",
   "execution_count": 15,
   "id": "fantastic-effect",
   "metadata": {
    "execution": {
     "iopub.execute_input": "2022-05-07T00:36:29.670740Z",
     "iopub.status.busy": "2022-05-07T00:36:29.670250Z",
     "iopub.status.idle": "2022-05-07T00:36:29.686110Z",
     "shell.execute_reply": "2022-05-07T00:36:29.685739Z"
    },
    "papermill": {
     "duration": 0.050661,
     "end_time": "2022-05-07T00:36:29.686215",
     "exception": false,
     "start_time": "2022-05-07T00:36:29.635554",
     "status": "completed"
    },
    "tags": []
   },
   "outputs": [
    {
     "data": {
      "text/html": [
       "<div>\n",
       "<style scoped>\n",
       "    .dataframe tbody tr th:only-of-type {\n",
       "        vertical-align: middle;\n",
       "    }\n",
       "\n",
       "    .dataframe tbody tr th {\n",
       "        vertical-align: top;\n",
       "    }\n",
       "\n",
       "    .dataframe thead th {\n",
       "        text-align: right;\n",
       "    }\n",
       "</style>\n",
       "<table border=\"1\" class=\"dataframe\">\n",
       "  <thead>\n",
       "    <tr style=\"text-align: right;\">\n",
       "      <th></th>\n",
       "      <th>Country/Region</th>\n",
       "      <th>Cases</th>\n",
       "      <th>Deaths</th>\n",
       "      <th>PCases</th>\n",
       "      <th>PDeaths</th>\n",
       "      <th>Cases (+)</th>\n",
       "      <th>Deaths (+)</th>\n",
       "      <th>Fatality Rate</th>\n",
       "      <th>Continent</th>\n",
       "    </tr>\n",
       "  </thead>\n",
       "  <tbody>\n",
       "    <tr>\n",
       "      <th>0</th>\n",
       "      <td>US</td>\n",
       "      <td>81694580</td>\n",
       "      <td>996964</td>\n",
       "      <td>81620383</td>\n",
       "      <td>996704</td>\n",
       "      <td>74197</td>\n",
       "      <td>260</td>\n",
       "      <td>1.2</td>\n",
       "      <td>North America</td>\n",
       "    </tr>\n",
       "    <tr>\n",
       "      <th>1</th>\n",
       "      <td>India</td>\n",
       "      <td>43094938</td>\n",
       "      <td>524002</td>\n",
       "      <td>43091393</td>\n",
       "      <td>523975</td>\n",
       "      <td>3545</td>\n",
       "      <td>27</td>\n",
       "      <td>1.2</td>\n",
       "      <td>Asia</td>\n",
       "    </tr>\n",
       "    <tr>\n",
       "      <th>2</th>\n",
       "      <td>Brazil</td>\n",
       "      <td>30524183</td>\n",
       "      <td>664131</td>\n",
       "      <td>30502501</td>\n",
       "      <td>663994</td>\n",
       "      <td>21682</td>\n",
       "      <td>137</td>\n",
       "      <td>2.2</td>\n",
       "      <td>South America</td>\n",
       "    </tr>\n",
       "    <tr>\n",
       "      <th>3</th>\n",
       "      <td>France</td>\n",
       "      <td>29040934</td>\n",
       "      <td>147535</td>\n",
       "      <td>28996577</td>\n",
       "      <td>147413</td>\n",
       "      <td>44357</td>\n",
       "      <td>122</td>\n",
       "      <td>0.5</td>\n",
       "      <td>Europe</td>\n",
       "    </tr>\n",
       "    <tr>\n",
       "      <th>4</th>\n",
       "      <td>Germany</td>\n",
       "      <td>25215210</td>\n",
       "      <td>136339</td>\n",
       "      <td>25130137</td>\n",
       "      <td>136125</td>\n",
       "      <td>85073</td>\n",
       "      <td>214</td>\n",
       "      <td>0.5</td>\n",
       "      <td>Europe</td>\n",
       "    </tr>\n",
       "  </tbody>\n",
       "</table>\n",
       "</div>"
      ],
      "text/plain": [
       "  Country/Region     Cases  Deaths    PCases  PDeaths  Cases (+)  Deaths (+)  \\\n",
       "0             US  81694580  996964  81620383   996704      74197         260   \n",
       "1          India  43094938  524002  43091393   523975       3545          27   \n",
       "2         Brazil  30524183  664131  30502501   663994      21682         137   \n",
       "3         France  29040934  147535  28996577   147413      44357         122   \n",
       "4        Germany  25215210  136339  25130137   136125      85073         214   \n",
       "\n",
       "   Fatality Rate      Continent  \n",
       "0            1.2  North America  \n",
       "1            1.2           Asia  \n",
       "2            2.2  South America  \n",
       "3            0.5         Europe  \n",
       "4            0.5         Europe  "
      ]
     },
     "execution_count": 15,
     "metadata": {},
     "output_type": "execute_result"
    }
   ],
   "source": [
    "#hide\n",
    "df_table = (pd.DataFrame(dict(Cases=dfc_cases, Deaths=dfc_deaths, PCases=dfp_cases, PDeaths=dfp_deaths))\n",
    "             .sort_values(by=['Cases', 'Deaths'], ascending=[False, False])\n",
    "             .reset_index())\n",
    "df_table.rename(columns={'index': 'Country/Region'}, inplace=True)\n",
    "for c in 'Cases, Deaths'.split(', '):\n",
    "    df_table[f'{c} (+)'] = (df_table[c] - df_table[f'P{c}']).clip(0)  # DATA BUG\n",
    "df_table['Fatality Rate'] = (100 * df_table['Deaths'] / df_table['Cases']).round(1)\n",
    "df_table['Continent'] = df_table['Country/Region'].map(mapping['map.continent'])\n",
    "df_table.head(5)"
   ]
  },
  {
   "cell_type": "code",
   "execution_count": 16,
   "id": "fewer-occasion",
   "metadata": {
    "execution": {
     "iopub.execute_input": "2022-05-07T00:36:29.747435Z",
     "iopub.status.busy": "2022-05-07T00:36:29.746958Z",
     "iopub.status.idle": "2022-05-07T00:36:29.749541Z",
     "shell.execute_reply": "2022-05-07T00:36:29.749176Z"
    },
    "papermill": {
     "duration": 0.03562,
     "end_time": "2022-05-07T00:36:29.749644",
     "exception": false,
     "start_time": "2022-05-07T00:36:29.714024",
     "status": "completed"
    },
    "tags": []
   },
   "outputs": [],
   "source": [
    "#hide\n",
    "#delete problematic countries from table\n",
    "df_table = df_table[~df_table['Country/Region'].isin(['Cape Verde', 'Cruise Ship', 'Kosovo'])]"
   ]
  },
  {
   "cell_type": "code",
   "execution_count": 17,
   "id": "related-center",
   "metadata": {
    "execution": {
     "iopub.execute_input": "2022-05-07T00:36:29.816456Z",
     "iopub.status.busy": "2022-05-07T00:36:29.815979Z",
     "iopub.status.idle": "2022-05-07T00:36:29.823220Z",
     "shell.execute_reply": "2022-05-07T00:36:29.823705Z"
    },
    "papermill": {
     "duration": 0.047054,
     "end_time": "2022-05-07T00:36:29.823868",
     "exception": false,
     "start_time": "2022-05-07T00:36:29.776814",
     "status": "completed"
    },
    "tags": []
   },
   "outputs": [],
   "source": [
    "#hide\n",
    "metrics = [df_table.columns[index] for index in [1,2,5,6]]\n",
    "# s_china = df_table[df_table['Country/Region'].eq('China')][metrics].sum().add_prefix('China ')\n",
    "s_us = df_table[df_table['Country/Region'].eq('US')][metrics].sum().add_prefix('US ')\n",
    "s_eu = df_table[df_table['Continent'].eq('Europe')][metrics].sum().add_prefix('EU ')\n",
    "s_ind = df_table[df_table['Country/Region'].eq('India')][metrics].sum().add_prefix('India ')\n",
    "summary = {'updated': pd.to_datetime(dt_today), 'since': pd.to_datetime(dt_yday)}\n",
    "summary = {'updated': pd.to_datetime(dt_today), 'since': pd.to_datetime(dt_yday)}\n",
    "summary = {**summary, **df_table[metrics].sum(), **s_ind, **s_us, **s_eu}"
   ]
  },
  {
   "cell_type": "code",
   "execution_count": 18,
   "id": "engaging-syndrome",
   "metadata": {
    "execution": {
     "iopub.execute_input": "2022-05-07T00:36:29.886385Z",
     "iopub.status.busy": "2022-05-07T00:36:29.885902Z",
     "iopub.status.idle": "2022-05-07T00:36:29.905870Z",
     "shell.execute_reply": "2022-05-07T00:36:29.906259Z"
    },
    "papermill": {
     "duration": 0.055171,
     "end_time": "2022-05-07T00:36:29.906389",
     "exception": false,
     "start_time": "2022-05-07T00:36:29.851218",
     "status": "completed"
    },
    "tags": []
   },
   "outputs": [],
   "source": [
    "#hide\n",
    "dft_ct_new_cases = dft_cases.groupby(COL_REGION)[dt_cols].sum().diff(axis=1).fillna(0).astype(int)"
   ]
  },
  {
   "cell_type": "code",
   "execution_count": 19,
   "id": "neutral-assignment",
   "metadata": {
    "execution": {
     "iopub.execute_input": "2022-05-07T00:36:29.966160Z",
     "iopub.status.busy": "2022-05-07T00:36:29.965680Z",
     "iopub.status.idle": "2022-05-07T00:36:29.967352Z",
     "shell.execute_reply": "2022-05-07T00:36:29.967693Z"
    },
    "papermill": {
     "duration": 0.034215,
     "end_time": "2022-05-07T00:36:29.967810",
     "exception": false,
     "start_time": "2022-05-07T00:36:29.933595",
     "status": "completed"
    },
    "tags": []
   },
   "outputs": [],
   "source": [
    "#hide\n",
    "everydaycases = dft_ct_new_cases.cumsum(axis=1)"
   ]
  },
  {
   "cell_type": "code",
   "execution_count": 20,
   "id": "parliamentary-calgary",
   "metadata": {
    "execution": {
     "iopub.execute_input": "2022-05-07T00:36:30.032007Z",
     "iopub.status.busy": "2022-05-07T00:36:30.031535Z",
     "iopub.status.idle": "2022-05-07T00:36:30.518996Z",
     "shell.execute_reply": "2022-05-07T00:36:30.518531Z"
    },
    "papermill": {
     "duration": 0.519789,
     "end_time": "2022-05-07T00:36:30.519120",
     "exception": false,
     "start_time": "2022-05-07T00:36:29.999331",
     "status": "completed"
    },
    "tags": []
   },
   "outputs": [],
   "source": [
    "#hide\n",
    "import pandas as pd\n",
    "import matplotlib.pyplot as plt\n",
    "import matplotlib.ticker as ticker\n",
    "import matplotlib.animation as animation\n",
    "from IPython.display import HTML"
   ]
  },
  {
   "cell_type": "code",
   "execution_count": 21,
   "id": "lasting-extraction",
   "metadata": {
    "execution": {
     "iopub.execute_input": "2022-05-07T00:36:30.597416Z",
     "iopub.status.busy": "2022-05-07T00:36:30.596294Z",
     "iopub.status.idle": "2022-05-07T00:36:30.598888Z",
     "shell.execute_reply": "2022-05-07T00:36:30.598437Z"
    },
    "papermill": {
     "duration": 0.04791,
     "end_time": "2022-05-07T00:36:30.598987",
     "exception": false,
     "start_time": "2022-05-07T00:36:30.551077",
     "status": "completed"
    },
    "tags": []
   },
   "outputs": [],
   "source": [
    "#hide\n",
    "t = everydaycases.stack()"
   ]
  },
  {
   "cell_type": "code",
   "execution_count": 22,
   "id": "premier-sleeve",
   "metadata": {
    "execution": {
     "iopub.execute_input": "2022-05-07T00:36:30.658652Z",
     "iopub.status.busy": "2022-05-07T00:36:30.658172Z",
     "iopub.status.idle": "2022-05-07T00:36:30.669528Z",
     "shell.execute_reply": "2022-05-07T00:36:30.669142Z"
    },
    "papermill": {
     "duration": 0.043335,
     "end_time": "2022-05-07T00:36:30.669639",
     "exception": false,
     "start_time": "2022-05-07T00:36:30.626304",
     "status": "completed"
    },
    "tags": []
   },
   "outputs": [],
   "source": [
    "#hide\n",
    "g = t.reset_index(['Country/Region'])"
   ]
  },
  {
   "cell_type": "code",
   "execution_count": 23,
   "id": "distributed-pittsburgh",
   "metadata": {
    "execution": {
     "iopub.execute_input": "2022-05-07T00:36:30.728371Z",
     "iopub.status.busy": "2022-05-07T00:36:30.727758Z",
     "iopub.status.idle": "2022-05-07T00:36:30.729107Z",
     "shell.execute_reply": "2022-05-07T00:36:30.729645Z"
    },
    "papermill": {
     "duration": 0.032949,
     "end_time": "2022-05-07T00:36:30.729773",
     "exception": false,
     "start_time": "2022-05-07T00:36:30.696824",
     "status": "completed"
    },
    "tags": []
   },
   "outputs": [],
   "source": [
    "#hide\n",
    "g.index.name = 'date'"
   ]
  },
  {
   "cell_type": "code",
   "execution_count": 24,
   "id": "naked-donor",
   "metadata": {
    "execution": {
     "iopub.execute_input": "2022-05-07T00:36:30.788455Z",
     "iopub.status.busy": "2022-05-07T00:36:30.787988Z",
     "iopub.status.idle": "2022-05-07T00:36:30.789896Z",
     "shell.execute_reply": "2022-05-07T00:36:30.790255Z"
    },
    "papermill": {
     "duration": 0.033109,
     "end_time": "2022-05-07T00:36:30.790371",
     "exception": false,
     "start_time": "2022-05-07T00:36:30.757262",
     "status": "completed"
    },
    "tags": []
   },
   "outputs": [],
   "source": [
    "# #hide\n",
    "# g = g.reset_index(['date'])"
   ]
  },
  {
   "cell_type": "code",
   "execution_count": 25,
   "id": "incomplete-mustang",
   "metadata": {
    "execution": {
     "iopub.execute_input": "2022-05-07T00:36:30.852693Z",
     "iopub.status.busy": "2022-05-07T00:36:30.852076Z",
     "iopub.status.idle": "2022-05-07T00:36:30.853747Z",
     "shell.execute_reply": "2022-05-07T00:36:30.853301Z"
    },
    "papermill": {
     "duration": 0.032158,
     "end_time": "2022-05-07T00:36:30.853842",
     "exception": false,
     "start_time": "2022-05-07T00:36:30.821684",
     "status": "completed"
    },
    "tags": []
   },
   "outputs": [],
   "source": [
    "#hide\n",
    "# g.head()"
   ]
  },
  {
   "cell_type": "code",
   "execution_count": 26,
   "id": "specific-kruger",
   "metadata": {
    "execution": {
     "iopub.execute_input": "2022-05-07T00:36:30.916543Z",
     "iopub.status.busy": "2022-05-07T00:36:30.916083Z",
     "iopub.status.idle": "2022-05-07T00:36:30.918341Z",
     "shell.execute_reply": "2022-05-07T00:36:30.917978Z"
    },
    "papermill": {
     "duration": 0.037284,
     "end_time": "2022-05-07T00:36:30.918439",
     "exception": false,
     "start_time": "2022-05-07T00:36:30.881155",
     "status": "completed"
    },
    "tags": []
   },
   "outputs": [],
   "source": [
    "#hide\n",
    "# g.columns = ['date','country','cases']"
   ]
  },
  {
   "cell_type": "code",
   "execution_count": 27,
   "id": "tender-conversion",
   "metadata": {
    "execution": {
     "iopub.execute_input": "2022-05-07T00:36:30.975693Z",
     "iopub.status.busy": "2022-05-07T00:36:30.975255Z",
     "iopub.status.idle": "2022-05-07T00:36:30.977351Z",
     "shell.execute_reply": "2022-05-07T00:36:30.976962Z"
    },
    "papermill": {
     "duration": 0.03209,
     "end_time": "2022-05-07T00:36:30.977447",
     "exception": false,
     "start_time": "2022-05-07T00:36:30.945357",
     "status": "completed"
    },
    "tags": []
   },
   "outputs": [],
   "source": [
    "#hide\n",
    "# g['continent'] = g.country"
   ]
  },
  {
   "cell_type": "code",
   "execution_count": 28,
   "id": "substantial-wilderness",
   "metadata": {
    "execution": {
     "iopub.execute_input": "2022-05-07T00:36:31.040524Z",
     "iopub.status.busy": "2022-05-07T00:36:31.039908Z",
     "iopub.status.idle": "2022-05-07T00:36:31.043229Z",
     "shell.execute_reply": "2022-05-07T00:36:31.043671Z"
    },
    "papermill": {
     "duration": 0.034826,
     "end_time": "2022-05-07T00:36:31.043817",
     "exception": false,
     "start_time": "2022-05-07T00:36:31.008991",
     "status": "completed"
    },
    "tags": []
   },
   "outputs": [],
   "source": [
    "#hide\n",
    "# cols = list(g.columns.values)"
   ]
  },
  {
   "cell_type": "code",
   "execution_count": 29,
   "id": "solved-farming",
   "metadata": {
    "execution": {
     "iopub.execute_input": "2022-05-07T00:36:31.102689Z",
     "iopub.status.busy": "2022-05-07T00:36:31.102221Z",
     "iopub.status.idle": "2022-05-07T00:36:31.104320Z",
     "shell.execute_reply": "2022-05-07T00:36:31.103964Z"
    },
    "papermill": {
     "duration": 0.032784,
     "end_time": "2022-05-07T00:36:31.104419",
     "exception": false,
     "start_time": "2022-05-07T00:36:31.071635",
     "status": "completed"
    },
    "tags": []
   },
   "outputs": [],
   "source": [
    "#hide\n",
    "# cols.insert(0, cols.pop())"
   ]
  },
  {
   "cell_type": "code",
   "execution_count": 30,
   "id": "executed-adoption",
   "metadata": {
    "execution": {
     "iopub.execute_input": "2022-05-07T00:36:31.162361Z",
     "iopub.status.busy": "2022-05-07T00:36:31.161763Z",
     "iopub.status.idle": "2022-05-07T00:36:31.163165Z",
     "shell.execute_reply": "2022-05-07T00:36:31.163659Z"
    },
    "papermill": {
     "duration": 0.03229,
     "end_time": "2022-05-07T00:36:31.163795",
     "exception": false,
     "start_time": "2022-05-07T00:36:31.131505",
     "status": "completed"
    },
    "tags": []
   },
   "outputs": [],
   "source": [
    "#hide\n",
    "# g = g[cols]"
   ]
  },
  {
   "cell_type": "code",
   "execution_count": 31,
   "id": "subject-dublin",
   "metadata": {
    "execution": {
     "iopub.execute_input": "2022-05-07T00:36:31.227341Z",
     "iopub.status.busy": "2022-05-07T00:36:31.226599Z",
     "iopub.status.idle": "2022-05-07T00:36:31.228518Z",
     "shell.execute_reply": "2022-05-07T00:36:31.228034Z"
    },
    "papermill": {
     "duration": 0.036064,
     "end_time": "2022-05-07T00:36:31.228638",
     "exception": false,
     "start_time": "2022-05-07T00:36:31.192574",
     "status": "completed"
    },
    "tags": []
   },
   "outputs": [],
   "source": [
    "#hide\n",
    "# g['continent'] = g['continent'].map(mapping['map.continent'])"
   ]
  },
  {
   "cell_type": "code",
   "execution_count": 32,
   "id": "freelance-scout",
   "metadata": {
    "execution": {
     "iopub.execute_input": "2022-05-07T00:36:31.287320Z",
     "iopub.status.busy": "2022-05-07T00:36:31.286717Z",
     "iopub.status.idle": "2022-05-07T00:36:31.288012Z",
     "shell.execute_reply": "2022-05-07T00:36:31.288568Z"
    },
    "papermill": {
     "duration": 0.032462,
     "end_time": "2022-05-07T00:36:31.288708",
     "exception": false,
     "start_time": "2022-05-07T00:36:31.256246",
     "status": "completed"
    },
    "tags": []
   },
   "outputs": [],
   "source": [
    "#hide\n",
    "# g.head()"
   ]
  },
  {
   "cell_type": "code",
   "execution_count": 33,
   "id": "limited-engine",
   "metadata": {
    "execution": {
     "iopub.execute_input": "2022-05-07T00:36:31.347243Z",
     "iopub.status.busy": "2022-05-07T00:36:31.346634Z",
     "iopub.status.idle": "2022-05-07T00:36:31.350540Z",
     "shell.execute_reply": "2022-05-07T00:36:31.350074Z"
    },
    "papermill": {
     "duration": 0.034233,
     "end_time": "2022-05-07T00:36:31.350661",
     "exception": false,
     "start_time": "2022-05-07T00:36:31.316428",
     "status": "completed"
    },
    "tags": []
   },
   "outputs": [],
   "source": [
    "# hide\n",
    "# g['date'] = g['date'].astype('datetime64[ns]')"
   ]
  },
  {
   "cell_type": "code",
   "execution_count": 34,
   "id": "sophisticated-supervisor",
   "metadata": {
    "execution": {
     "iopub.execute_input": "2022-05-07T00:36:31.409414Z",
     "iopub.status.busy": "2022-05-07T00:36:31.408941Z",
     "iopub.status.idle": "2022-05-07T00:36:31.410735Z",
     "shell.execute_reply": "2022-05-07T00:36:31.410349Z"
    },
    "papermill": {
     "duration": 0.032559,
     "end_time": "2022-05-07T00:36:31.410832",
     "exception": false,
     "start_time": "2022-05-07T00:36:31.378273",
     "status": "completed"
    },
    "tags": []
   },
   "outputs": [],
   "source": [
    "#hide\n",
    "# g['date'] = g.date.dt.dayofyear"
   ]
  },
  {
   "cell_type": "code",
   "execution_count": 35,
   "id": "inside-dubai",
   "metadata": {
    "execution": {
     "iopub.execute_input": "2022-05-07T00:36:31.468812Z",
     "iopub.status.busy": "2022-05-07T00:36:31.468159Z",
     "iopub.status.idle": "2022-05-07T00:36:31.470040Z",
     "shell.execute_reply": "2022-05-07T00:36:31.469474Z"
    },
    "papermill": {
     "duration": 0.032284,
     "end_time": "2022-05-07T00:36:31.470160",
     "exception": false,
     "start_time": "2022-05-07T00:36:31.437876",
     "status": "completed"
    },
    "tags": []
   },
   "outputs": [],
   "source": [
    "#hide\n",
    "# g = g.rename(columns= {'continent':'group','country':'name','cases':'value'})"
   ]
  },
  {
   "cell_type": "code",
   "execution_count": 36,
   "id": "fleet-motorcycle",
   "metadata": {
    "execution": {
     "iopub.execute_input": "2022-05-07T00:36:31.532919Z",
     "iopub.status.busy": "2022-05-07T00:36:31.532264Z",
     "iopub.status.idle": "2022-05-07T00:36:31.534087Z",
     "shell.execute_reply": "2022-05-07T00:36:31.533576Z"
    },
    "papermill": {
     "duration": 0.03331,
     "end_time": "2022-05-07T00:36:31.534211",
     "exception": false,
     "start_time": "2022-05-07T00:36:31.500901",
     "status": "completed"
    },
    "tags": []
   },
   "outputs": [],
   "source": [
    "#hide\n",
    "# cols = ['name','group','day','value']"
   ]
  },
  {
   "cell_type": "code",
   "execution_count": 37,
   "id": "continued-sleeping",
   "metadata": {
    "execution": {
     "iopub.execute_input": "2022-05-07T00:36:31.593454Z",
     "iopub.status.busy": "2022-05-07T00:36:31.592824Z",
     "iopub.status.idle": "2022-05-07T00:36:31.594102Z",
     "shell.execute_reply": "2022-05-07T00:36:31.594652Z"
    },
    "papermill": {
     "duration": 0.032645,
     "end_time": "2022-05-07T00:36:31.594794",
     "exception": false,
     "start_time": "2022-05-07T00:36:31.562149",
     "status": "completed"
    },
    "tags": []
   },
   "outputs": [],
   "source": [
    "#hide\n",
    "# g.rename(columns= {'date':'day'},inplace = True)"
   ]
  },
  {
   "cell_type": "code",
   "execution_count": 38,
   "id": "major-fight",
   "metadata": {
    "execution": {
     "iopub.execute_input": "2022-05-07T00:36:31.654724Z",
     "iopub.status.busy": "2022-05-07T00:36:31.653852Z",
     "iopub.status.idle": "2022-05-07T00:36:31.657635Z",
     "shell.execute_reply": "2022-05-07T00:36:31.657269Z"
    },
    "papermill": {
     "duration": 0.034763,
     "end_time": "2022-05-07T00:36:31.657737",
     "exception": false,
     "start_time": "2022-05-07T00:36:31.622974",
     "status": "completed"
    },
    "tags": []
   },
   "outputs": [],
   "source": [
    "#hide\n",
    "# g = g[cols]"
   ]
  },
  {
   "cell_type": "code",
   "execution_count": 39,
   "id": "structured-mobile",
   "metadata": {
    "execution": {
     "iopub.execute_input": "2022-05-07T00:36:31.715332Z",
     "iopub.status.busy": "2022-05-07T00:36:31.714838Z",
     "iopub.status.idle": "2022-05-07T00:36:31.717784Z",
     "shell.execute_reply": "2022-05-07T00:36:31.718128Z"
    },
    "papermill": {
     "duration": 0.03342,
     "end_time": "2022-05-07T00:36:31.718246",
     "exception": false,
     "start_time": "2022-05-07T00:36:31.684826",
     "status": "completed"
    },
    "tags": []
   },
   "outputs": [],
   "source": [
    "# #hide\n",
    "# g = g[g.group.notna()]"
   ]
  },
  {
   "cell_type": "code",
   "execution_count": 40,
   "id": "determined-closing",
   "metadata": {
    "execution": {
     "iopub.execute_input": "2022-05-07T00:36:31.777210Z",
     "iopub.status.busy": "2022-05-07T00:36:31.776518Z",
     "iopub.status.idle": "2022-05-07T00:36:31.778386Z",
     "shell.execute_reply": "2022-05-07T00:36:31.777821Z"
    },
    "papermill": {
     "duration": 0.032847,
     "end_time": "2022-05-07T00:36:31.778506",
     "exception": false,
     "start_time": "2022-05-07T00:36:31.745659",
     "status": "completed"
    },
    "tags": []
   },
   "outputs": [],
   "source": [
    "# #hide\n",
    "# colors = dict(zip(\n",
    "#     [\"Oceania\", \"Europe\", \"Asia\", \"South America\", \"Middle East\", \"North America\", \"Africa\"],\n",
    "#     [\"#adb0ff\", \"#ffb3ff\", \"#90d595\", \"#e48381\", \"#aafbff\", \"#f7bb5f\", \"#eafb50\"]\n",
    "# ))\n",
    "# group_lk = g.set_index('name')['group'].to_dict()"
   ]
  },
  {
   "cell_type": "code",
   "execution_count": null,
   "id": "gross-drinking",
   "metadata": {
    "papermill": {
     "duration": 0.026993,
     "end_time": "2022-05-07T00:36:31.833145",
     "exception": false,
     "start_time": "2022-05-07T00:36:31.806152",
     "status": "completed"
    },
    "tags": []
   },
   "outputs": [],
   "source": []
  },
  {
   "cell_type": "code",
   "execution_count": 41,
   "id": "subject-macintosh",
   "metadata": {
    "execution": {
     "iopub.execute_input": "2022-05-07T00:36:31.891949Z",
     "iopub.status.busy": "2022-05-07T00:36:31.891330Z",
     "iopub.status.idle": "2022-05-07T00:36:31.893328Z",
     "shell.execute_reply": "2022-05-07T00:36:31.893672Z"
    },
    "papermill": {
     "duration": 0.03344,
     "end_time": "2022-05-07T00:36:31.893790",
     "exception": false,
     "start_time": "2022-05-07T00:36:31.860350",
     "status": "completed"
    },
    "tags": []
   },
   "outputs": [],
   "source": [
    "# #hide\n",
    "# fig, ax = plt.subplots(figsize=(15, 8))\n",
    "\n",
    "# def draw_barchart(current_day):\n",
    "#     dff = g[g['day'].eq(current_day)].sort_values(by='value', ascending=True).tail(10)\n",
    "#     ax.clear()\n",
    "#     ax.barh(dff['name'], dff['value'], color=[colors[group_lk[x]] for x in dff['name']])\n",
    "#     dx = dff['value'].max() / 200\n",
    "    \n",
    "#     for i, (value, name) in enumerate(zip(dff['value'], dff['name'])):\n",
    "#         ax.text(value-dx, i,     name,           size=14, weight=600, ha='right', va='bottom')\n",
    "#         ax.text(value-dx, i-.25, group_lk[name], size=10, color='#444444', ha='right', va='baseline')\n",
    "#         ax.text(value+dx, i,     f'{value:,.0f}',  size=14, ha='left',  va='center')\n",
    "#     ax.text(1, 0.4, current_day, transform=ax.transAxes, color='#777777', size=46, ha='right', weight=800)\n",
    "#     ax.text(0, 1.06, 'Population (thousands)', transform=ax.transAxes, size=12, color='#777777')\n",
    "#     ax.xaxis.set_major_formatter(ticker.StrMethodFormatter('{x:,.0f}'))\n",
    "#     ax.xaxis.set_ticks_position('top')\n",
    "#     ax.tick_params(axis='x', colors='#777777', labelsize=12)\n",
    "#     ax.set_yticks([])\n",
    "#     ax.margins(0, 0.01)\n",
    "#     ax.grid(which='major', axis='x', linestyle='-')\n",
    "#     ax.set_axisbelow(True)\n",
    "    \n",
    "#     ax.text(0, 1.15, 'Coronavirus',\n",
    "#             transform=ax.transAxes, size=24, weight=600, ha='left', va='top')\n",
    "# #     ax.text(1, 0, 'by @pratapvardhan; credit @jburnmurdoch', transform=ax.transAxes, color='#777777', ha='right',\n",
    "# #             bbox=dict(facecolor='white', alpha=0.8, edgecolor='white'))\n",
    "#     plt.box(False)"
   ]
  },
  {
   "cell_type": "code",
   "execution_count": 42,
   "id": "sexual-wages",
   "metadata": {
    "execution": {
     "iopub.execute_input": "2022-05-07T00:36:31.951698Z",
     "iopub.status.busy": "2022-05-07T00:36:31.951089Z",
     "iopub.status.idle": "2022-05-07T00:36:31.952892Z",
     "shell.execute_reply": "2022-05-07T00:36:31.952338Z"
    },
    "papermill": {
     "duration": 0.032381,
     "end_time": "2022-05-07T00:36:31.953019",
     "exception": false,
     "start_time": "2022-05-07T00:36:31.920638",
     "status": "completed"
    },
    "tags": []
   },
   "outputs": [],
   "source": [
    "# #hide_input\n",
    "# fig, ax = plt.subplots(figsize=(15, 8))\n",
    "# animator = animation.FuncAnimation(fig, draw_barchart, frames=range(g.day.values.min(), g.day.values.max()))\n",
    "# HTML(animator.to_jshtml())\n",
    "# # or use animator.to_html5_video() or animator.save() "
   ]
  },
  {
   "cell_type": "code",
   "execution_count": null,
   "id": "australian-container",
   "metadata": {
    "papermill": {
     "duration": 0.031272,
     "end_time": "2022-05-07T00:36:32.011924",
     "exception": false,
     "start_time": "2022-05-07T00:36:31.980652",
     "status": "completed"
    },
    "tags": []
   },
   "outputs": [],
   "source": []
  },
  {
   "cell_type": "code",
   "execution_count": null,
   "id": "mediterranean-pontiac",
   "metadata": {
    "papermill": {
     "duration": 0.026904,
     "end_time": "2022-05-07T00:36:32.065775",
     "exception": false,
     "start_time": "2022-05-07T00:36:32.038871",
     "status": "completed"
    },
    "tags": []
   },
   "outputs": [],
   "source": []
  },
  {
   "cell_type": "code",
   "execution_count": null,
   "id": "aging-legislature",
   "metadata": {
    "papermill": {
     "duration": 0.027552,
     "end_time": "2022-05-07T00:36:32.124591",
     "exception": false,
     "start_time": "2022-05-07T00:36:32.097039",
     "status": "completed"
    },
    "tags": []
   },
   "outputs": [],
   "source": []
  }
 ],
 "metadata": {
  "kernelspec": {
   "display_name": "Python 3",
   "language": "python",
   "name": "python3"
  },
  "language_info": {
   "codemirror_mode": {
    "name": "ipython",
    "version": 3
   },
   "file_extension": ".py",
   "mimetype": "text/x-python",
   "name": "python",
   "nbconvert_exporter": "python",
   "pygments_lexer": "ipython3",
   "version": "3.6.15"
  },
  "papermill": {
   "duration": 5.643026,
   "end_time": "2022-05-07T00:36:32.469987",
   "environment_variables": {},
   "exception": null,
   "input_path": "2020-03-21-covid19exp.ipynb",
   "output_path": "2020-03-21-covid19exp.ipynb",
   "parameters": {},
   "start_time": "2022-05-07T00:36:26.826961",
   "version": "2.0.0"
  }
 },
 "nbformat": 4,
 "nbformat_minor": 5
}