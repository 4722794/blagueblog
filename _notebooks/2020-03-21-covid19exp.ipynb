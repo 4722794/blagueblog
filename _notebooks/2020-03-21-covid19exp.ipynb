{
 "cells": [
  {
   "cell_type": "markdown",
   "id": "muslim-click",
   "metadata": {
    "papermill": {
     "duration": 0.035083,
     "end_time": "2022-06-19T12:14:21.454308",
     "exception": false,
     "start_time": "2022-06-19T12:14:21.419225",
     "status": "completed"
    },
    "tags": []
   },
   "source": [
    "# COVID-19 Case Race\n",
    "> A race chart to see rising cases around the world\n",
    "\n",
    "- author: Hargun Oberoi\n",
    "- image: images/covid-overview.png\n",
    "- hide: false\n",
    "- badges: false"
   ]
  },
  {
   "cell_type": "code",
   "execution_count": 1,
   "id": "proof-material",
   "metadata": {
    "execution": {
     "iopub.execute_input": "2022-06-19T12:14:21.525786Z",
     "iopub.status.busy": "2022-06-19T12:14:21.525165Z",
     "iopub.status.idle": "2022-06-19T12:14:21.851488Z",
     "shell.execute_reply": "2022-06-19T12:14:21.850565Z"
    },
    "papermill": {
     "duration": 0.365441,
     "end_time": "2022-06-19T12:14:21.851645",
     "exception": false,
     "start_time": "2022-06-19T12:14:21.486204",
     "status": "completed"
    },
    "tags": []
   },
   "outputs": [],
   "source": [
    "#hide\n",
    "import numpy as np\n",
    "import pandas as pd\n",
    "from jinja2 import Template\n",
    "from IPython.display import HTML"
   ]
  },
  {
   "cell_type": "code",
   "execution_count": 2,
   "id": "developed-terminology",
   "metadata": {
    "execution": {
     "iopub.execute_input": "2022-06-19T12:14:21.909375Z",
     "iopub.status.busy": "2022-06-19T12:14:21.908799Z",
     "iopub.status.idle": "2022-06-19T12:14:21.910987Z",
     "shell.execute_reply": "2022-06-19T12:14:21.910561Z"
    },
    "papermill": {
     "duration": 0.032883,
     "end_time": "2022-06-19T12:14:21.911096",
     "exception": false,
     "start_time": "2022-06-19T12:14:21.878213",
     "status": "completed"
    },
    "tags": []
   },
   "outputs": [],
   "source": [
    "#hide\n",
    "\n",
    "# FETCH\n",
    "base_url = 'https://raw.githubusercontent.com/pratapvardhan/notebooks/master/covid19/'\n",
    "paths = {\n",
    "    'mapping': base_url + 'mapping_countries.csv',\n",
    "    'overview': base_url + 'overview.tpl'\n",
    "}"
   ]
  },
  {
   "cell_type": "code",
   "execution_count": 3,
   "id": "dynamic-saver",
   "metadata": {
    "execution": {
     "iopub.execute_input": "2022-06-19T12:14:21.972612Z",
     "iopub.status.busy": "2022-06-19T12:14:21.972078Z",
     "iopub.status.idle": "2022-06-19T12:14:21.975186Z",
     "shell.execute_reply": "2022-06-19T12:14:21.975680Z"
    },
    "papermill": {
     "duration": 0.038609,
     "end_time": "2022-06-19T12:14:21.975808",
     "exception": false,
     "start_time": "2022-06-19T12:14:21.937199",
     "status": "completed"
    },
    "tags": []
   },
   "outputs": [
    {
     "data": {
      "text/plain": [
       "'https://raw.githubusercontent.com/pratapvardhan/notebooks/master/covid19/mapping_countries.csv'"
      ]
     },
     "execution_count": 3,
     "metadata": {},
     "output_type": "execute_result"
    }
   ],
   "source": [
    "#hide\n",
    "paths['mapping']"
   ]
  },
  {
   "cell_type": "code",
   "execution_count": 4,
   "id": "urban-software",
   "metadata": {
    "execution": {
     "iopub.execute_input": "2022-06-19T12:14:22.039097Z",
     "iopub.status.busy": "2022-06-19T12:14:22.037938Z",
     "iopub.status.idle": "2022-06-19T12:14:22.039648Z",
     "shell.execute_reply": "2022-06-19T12:14:22.038597Z"
    },
    "papermill": {
     "duration": 0.037554,
     "end_time": "2022-06-19T12:14:22.039770",
     "exception": false,
     "start_time": "2022-06-19T12:14:22.002216",
     "status": "completed"
    },
    "tags": []
   },
   "outputs": [],
   "source": [
    "#hide\n",
    "def get_mappings(url):\n",
    "    df = pd.read_csv(url)\n",
    "    return {\n",
    "        'df': df,\n",
    "        'replace.country': dict(df.dropna(subset=['Name']).set_index('Country')['Name']),\n",
    "        'map.continent': dict(df.set_index('Name')['Continent'])\n",
    "    }"
   ]
  },
  {
   "cell_type": "code",
   "execution_count": 5,
   "id": "intimate-machinery",
   "metadata": {
    "execution": {
     "iopub.execute_input": "2022-06-19T12:14:22.108110Z",
     "iopub.status.busy": "2022-06-19T12:14:22.107494Z",
     "iopub.status.idle": "2022-06-19T12:14:22.149807Z",
     "shell.execute_reply": "2022-06-19T12:14:22.149168Z"
    },
    "papermill": {
     "duration": 0.077824,
     "end_time": "2022-06-19T12:14:22.149933",
     "exception": false,
     "start_time": "2022-06-19T12:14:22.072109",
     "status": "completed"
    },
    "tags": []
   },
   "outputs": [],
   "source": [
    "#hide\n",
    "mapping = get_mappings(paths['mapping'])"
   ]
  },
  {
   "cell_type": "code",
   "execution_count": 6,
   "id": "certified-tactics",
   "metadata": {
    "execution": {
     "iopub.execute_input": "2022-06-19T12:14:22.213156Z",
     "iopub.status.busy": "2022-06-19T12:14:22.212566Z",
     "iopub.status.idle": "2022-06-19T12:14:22.221406Z",
     "shell.execute_reply": "2022-06-19T12:14:22.220909Z"
    },
    "papermill": {
     "duration": 0.041495,
     "end_time": "2022-06-19T12:14:22.221527",
     "exception": false,
     "start_time": "2022-06-19T12:14:22.180032",
     "status": "completed"
    },
    "tags": []
   },
   "outputs": [],
   "source": [
    "#hide\n",
    "def get_template(path):\n",
    "    from urllib.parse import urlparse\n",
    "    if bool(urlparse(path).netloc):\n",
    "        from urllib.request import urlopen\n",
    "        return urlopen(path).read().decode('utf8')\n",
    "    return open(path).read()"
   ]
  },
  {
   "cell_type": "code",
   "execution_count": 7,
   "id": "realistic-blast",
   "metadata": {
    "execution": {
     "iopub.execute_input": "2022-06-19T12:14:22.286519Z",
     "iopub.status.busy": "2022-06-19T12:14:22.285740Z",
     "iopub.status.idle": "2022-06-19T12:14:22.288139Z",
     "shell.execute_reply": "2022-06-19T12:14:22.287451Z"
    },
    "papermill": {
     "duration": 0.036823,
     "end_time": "2022-06-19T12:14:22.288261",
     "exception": false,
     "start_time": "2022-06-19T12:14:22.251438",
     "status": "completed"
    },
    "tags": []
   },
   "outputs": [],
   "source": [
    "#hide\n",
    "def get_frame(name):\n",
    "    url = (\n",
    "        'https://raw.githubusercontent.com/CSSEGISandData/COVID-19/master/csse_covid_19_data/'\n",
    "        f'csse_covid_19_time_series/time_series_covid19_{name}_global.csv')\n",
    "    df = pd.read_csv(url)\n",
    "    # rename countries\n",
    "    df['Country/Region'] = df['Country/Region'].replace(mapping['replace.country'])\n",
    "    return df"
   ]
  },
  {
   "cell_type": "code",
   "execution_count": 8,
   "id": "affiliated-characterization",
   "metadata": {
    "execution": {
     "iopub.execute_input": "2022-06-19T12:14:22.356657Z",
     "iopub.status.busy": "2022-06-19T12:14:22.355921Z",
     "iopub.status.idle": "2022-06-19T12:14:22.360459Z",
     "shell.execute_reply": "2022-06-19T12:14:22.360948Z"
    },
    "papermill": {
     "duration": 0.040735,
     "end_time": "2022-06-19T12:14:22.361114",
     "exception": false,
     "start_time": "2022-06-19T12:14:22.320379",
     "status": "completed"
    },
    "tags": []
   },
   "outputs": [],
   "source": [
    "#hide\n",
    "def get_dates(df):\n",
    "    dt_cols = df.columns[~df.columns.isin(['Province/State', 'Country/Region', 'Lat', 'Long'])]\n",
    "    LAST_DATE_I = -1\n",
    "    # sometimes last column may be empty, then go backwards\n",
    "    for i in range(-1, -len(dt_cols), -1):\n",
    "        if not df[dt_cols[i]].fillna(0).eq(0).all():\n",
    "            LAST_DATE_I = i\n",
    "            break\n",
    "    return LAST_DATE_I, dt_cols"
   ]
  },
  {
   "cell_type": "code",
   "execution_count": 9,
   "id": "recent-optimization",
   "metadata": {
    "execution": {
     "iopub.execute_input": "2022-06-19T12:14:22.428801Z",
     "iopub.status.busy": "2022-06-19T12:14:22.428162Z",
     "iopub.status.idle": "2022-06-19T12:14:22.871077Z",
     "shell.execute_reply": "2022-06-19T12:14:22.870410Z"
    },
    "papermill": {
     "duration": 0.478776,
     "end_time": "2022-06-19T12:14:22.871216",
     "exception": false,
     "start_time": "2022-06-19T12:14:22.392440",
     "status": "completed"
    },
    "tags": []
   },
   "outputs": [],
   "source": [
    "#hide\n",
    "COL_REGION = 'Country/Region'\n",
    "# Confirmed, Recovered, Deaths\n",
    "df = get_frame('confirmed')\n",
    "# dft_: timeseries, dfc_: today country agg\n",
    "dft_cases = df\n",
    "dft_deaths = get_frame('deaths')\n",
    "dft_recovered = get_frame('recovered')\n",
    "LAST_DATE_I, dt_cols = get_dates(df)"
   ]
  },
  {
   "cell_type": "code",
   "execution_count": 10,
   "id": "absolute-copper",
   "metadata": {
    "execution": {
     "iopub.execute_input": "2022-06-19T12:14:22.943373Z",
     "iopub.status.busy": "2022-06-19T12:14:22.942661Z",
     "iopub.status.idle": "2022-06-19T12:14:22.946783Z",
     "shell.execute_reply": "2022-06-19T12:14:22.947276Z"
    },
    "papermill": {
     "duration": 0.044699,
     "end_time": "2022-06-19T12:14:22.947444",
     "exception": false,
     "start_time": "2022-06-19T12:14:22.902745",
     "status": "completed"
    },
    "tags": []
   },
   "outputs": [],
   "source": [
    "#hide\n",
    "LAST_DATE_I, dt_cols = get_dates(df)\n",
    "dt_today =dt_cols[LAST_DATE_I]\n",
    "# dt_5day = dt_cols[LAST_DATE_I - 5]\n",
    "dt_yday = dt_cols[LAST_DATE_I - 1]"
   ]
  },
  {
   "cell_type": "code",
   "execution_count": 11,
   "id": "restricted-sheriff",
   "metadata": {
    "execution": {
     "iopub.execute_input": "2022-06-19T12:14:23.014947Z",
     "iopub.status.busy": "2022-06-19T12:14:23.014331Z",
     "iopub.status.idle": "2022-06-19T12:14:23.019915Z",
     "shell.execute_reply": "2022-06-19T12:14:23.020337Z"
    },
    "papermill": {
     "duration": 0.043092,
     "end_time": "2022-06-19T12:14:23.020489",
     "exception": false,
     "start_time": "2022-06-19T12:14:22.977397",
     "status": "completed"
    },
    "tags": []
   },
   "outputs": [],
   "source": [
    "#hide\n",
    "dfc_cases = dft_cases.groupby(COL_REGION)[dt_today].sum()\n",
    "dfc_deaths = dft_deaths.groupby(COL_REGION)[dt_today].sum()\n",
    "# dfp_cases = dft_cases.groupby(COL_REGION)[dt_5day].sum()\n",
    "# dfp_deaths = dft_deaths.groupby(COL_REGION)[dt_5day].sum()\n",
    "dfp_cases = dft_cases.groupby(COL_REGION)[dt_yday].sum()\n",
    "dfp_deaths = dft_deaths.groupby(COL_REGION)[dt_yday].sum()"
   ]
  },
  {
   "cell_type": "code",
   "execution_count": 12,
   "id": "deluxe-hepatitis",
   "metadata": {
    "execution": {
     "iopub.execute_input": "2022-06-19T12:14:23.087659Z",
     "iopub.status.busy": "2022-06-19T12:14:23.087040Z",
     "iopub.status.idle": "2022-06-19T12:14:23.091998Z",
     "shell.execute_reply": "2022-06-19T12:14:23.092566Z"
    },
    "papermill": {
     "duration": 0.042306,
     "end_time": "2022-06-19T12:14:23.092715",
     "exception": false,
     "start_time": "2022-06-19T12:14:23.050409",
     "status": "completed"
    },
    "tags": []
   },
   "outputs": [],
   "source": [
    "#hide\n",
    "df_table = (pd.DataFrame(dict(Cases = dfc_cases, Deaths = dfc_deaths, PCases = dfp_cases, PDeaths = dfp_deaths))\n",
    "            .sort_values(by = ['Cases','Deaths'], ascending = [False, False])\n",
    "            .reset_index())"
   ]
  },
  {
   "cell_type": "code",
   "execution_count": 13,
   "id": "educational-chancellor",
   "metadata": {
    "execution": {
     "iopub.execute_input": "2022-06-19T12:14:23.171338Z",
     "iopub.status.busy": "2022-06-19T12:14:23.170700Z",
     "iopub.status.idle": "2022-06-19T12:14:23.178612Z",
     "shell.execute_reply": "2022-06-19T12:14:23.178115Z"
    },
    "papermill": {
     "duration": 0.056181,
     "end_time": "2022-06-19T12:14:23.178736",
     "exception": false,
     "start_time": "2022-06-19T12:14:23.122555",
     "status": "completed"
    },
    "tags": []
   },
   "outputs": [
    {
     "data": {
      "text/html": [
       "<div>\n",
       "<style scoped>\n",
       "    .dataframe tbody tr th:only-of-type {\n",
       "        vertical-align: middle;\n",
       "    }\n",
       "\n",
       "    .dataframe tbody tr th {\n",
       "        vertical-align: top;\n",
       "    }\n",
       "\n",
       "    .dataframe thead th {\n",
       "        text-align: right;\n",
       "    }\n",
       "</style>\n",
       "<table border=\"1\" class=\"dataframe\">\n",
       "  <thead>\n",
       "    <tr style=\"text-align: right;\">\n",
       "      <th></th>\n",
       "      <th>Country/Region</th>\n",
       "      <th>Cases</th>\n",
       "      <th>Deaths</th>\n",
       "      <th>PCases</th>\n",
       "      <th>PDeaths</th>\n",
       "      <th>Cases (+)</th>\n",
       "      <th>Deaths (+)</th>\n",
       "      <th>Fatality Rate</th>\n",
       "      <th>Continent</th>\n",
       "    </tr>\n",
       "  </thead>\n",
       "  <tbody>\n",
       "    <tr>\n",
       "      <th>0</th>\n",
       "      <td>US</td>\n",
       "      <td>86230982</td>\n",
       "      <td>1013377</td>\n",
       "      <td>86216418</td>\n",
       "      <td>1013358</td>\n",
       "      <td>14564</td>\n",
       "      <td>19</td>\n",
       "      <td>1.18</td>\n",
       "      <td>North America</td>\n",
       "    </tr>\n",
       "    <tr>\n",
       "      <th>1</th>\n",
       "      <td>India</td>\n",
       "      <td>43296692</td>\n",
       "      <td>524855</td>\n",
       "      <td>43283793</td>\n",
       "      <td>524840</td>\n",
       "      <td>12899</td>\n",
       "      <td>15</td>\n",
       "      <td>1.21</td>\n",
       "      <td>Asia</td>\n",
       "    </tr>\n",
       "    <tr>\n",
       "      <th>2</th>\n",
       "      <td>Brazil</td>\n",
       "      <td>31611769</td>\n",
       "      <td>668693</td>\n",
       "      <td>31611769</td>\n",
       "      <td>668693</td>\n",
       "      <td>0</td>\n",
       "      <td>0</td>\n",
       "      <td>2.12</td>\n",
       "      <td>South America</td>\n",
       "    </tr>\n",
       "    <tr>\n",
       "      <th>3</th>\n",
       "      <td>France</td>\n",
       "      <td>30279240</td>\n",
       "      <td>150078</td>\n",
       "      <td>30279240</td>\n",
       "      <td>150078</td>\n",
       "      <td>0</td>\n",
       "      <td>0</td>\n",
       "      <td>0.50</td>\n",
       "      <td>Europe</td>\n",
       "    </tr>\n",
       "    <tr>\n",
       "      <th>4</th>\n",
       "      <td>Germany</td>\n",
       "      <td>27204955</td>\n",
       "      <td>140176</td>\n",
       "      <td>27204953</td>\n",
       "      <td>140176</td>\n",
       "      <td>2</td>\n",
       "      <td>0</td>\n",
       "      <td>0.52</td>\n",
       "      <td>Europe</td>\n",
       "    </tr>\n",
       "  </tbody>\n",
       "</table>\n",
       "</div>"
      ],
      "text/plain": [
       "  Country/Region     Cases   Deaths    PCases  PDeaths  Cases (+)  Deaths (+)  \\\n",
       "0             US  86230982  1013377  86216418  1013358      14564          19   \n",
       "1          India  43296692   524855  43283793   524840      12899          15   \n",
       "2         Brazil  31611769   668693  31611769   668693          0           0   \n",
       "3         France  30279240   150078  30279240   150078          0           0   \n",
       "4        Germany  27204955   140176  27204953   140176          2           0   \n",
       "\n",
       "   Fatality Rate      Continent  \n",
       "0           1.18  North America  \n",
       "1           1.21           Asia  \n",
       "2           2.12  South America  \n",
       "3           0.50         Europe  \n",
       "4           0.52         Europe  "
      ]
     },
     "execution_count": 13,
     "metadata": {},
     "output_type": "execute_result"
    }
   ],
   "source": [
    "#hide\n",
    "for c in 'Cases, Deaths'.split(', '):\n",
    "    df_table[f'{c} (+)'] = (df_table[c] - df_table[f'P{c}']).clip(0)\n",
    "    #Clip ça veut dire, les chiffres negatif sont interdit\n",
    "df_table['Fatality Rate'] = (100* df_table['Deaths']/ df_table['Cases']).round(2)\n",
    "df_table['Continent'] = df_table['Country/Region'].map(mapping['map.continent'])\n",
    "df_table.head(5)"
   ]
  },
  {
   "cell_type": "code",
   "execution_count": 14,
   "id": "aboriginal-bulgaria",
   "metadata": {
    "execution": {
     "iopub.execute_input": "2022-06-19T12:14:23.245502Z",
     "iopub.status.busy": "2022-06-19T12:14:23.244892Z",
     "iopub.status.idle": "2022-06-19T12:14:23.248117Z",
     "shell.execute_reply": "2022-06-19T12:14:23.248607Z"
    },
    "papermill": {
     "duration": 0.039538,
     "end_time": "2022-06-19T12:14:23.248759",
     "exception": false,
     "start_time": "2022-06-19T12:14:23.209221",
     "status": "completed"
    },
    "tags": []
   },
   "outputs": [],
   "source": [
    "#hide\n",
    "#delete problematic countries from table\n",
    "df_table = df_table[~df_table['Country/Region'].isin(['Cape Verde', 'Cruise Ship', 'Kosovo'])]"
   ]
  },
  {
   "cell_type": "code",
   "execution_count": 15,
   "id": "fantastic-effect",
   "metadata": {
    "execution": {
     "iopub.execute_input": "2022-06-19T12:14:23.317621Z",
     "iopub.status.busy": "2022-06-19T12:14:23.317023Z",
     "iopub.status.idle": "2022-06-19T12:14:23.334868Z",
     "shell.execute_reply": "2022-06-19T12:14:23.335283Z"
    },
    "papermill": {
     "duration": 0.056185,
     "end_time": "2022-06-19T12:14:23.335420",
     "exception": false,
     "start_time": "2022-06-19T12:14:23.279235",
     "status": "completed"
    },
    "tags": []
   },
   "outputs": [
    {
     "data": {
      "text/html": [
       "<div>\n",
       "<style scoped>\n",
       "    .dataframe tbody tr th:only-of-type {\n",
       "        vertical-align: middle;\n",
       "    }\n",
       "\n",
       "    .dataframe tbody tr th {\n",
       "        vertical-align: top;\n",
       "    }\n",
       "\n",
       "    .dataframe thead th {\n",
       "        text-align: right;\n",
       "    }\n",
       "</style>\n",
       "<table border=\"1\" class=\"dataframe\">\n",
       "  <thead>\n",
       "    <tr style=\"text-align: right;\">\n",
       "      <th></th>\n",
       "      <th>Country/Region</th>\n",
       "      <th>Cases</th>\n",
       "      <th>Deaths</th>\n",
       "      <th>PCases</th>\n",
       "      <th>PDeaths</th>\n",
       "      <th>Cases (+)</th>\n",
       "      <th>Deaths (+)</th>\n",
       "      <th>Fatality Rate</th>\n",
       "      <th>Continent</th>\n",
       "    </tr>\n",
       "  </thead>\n",
       "  <tbody>\n",
       "    <tr>\n",
       "      <th>0</th>\n",
       "      <td>US</td>\n",
       "      <td>86230982</td>\n",
       "      <td>1013377</td>\n",
       "      <td>86216418</td>\n",
       "      <td>1013358</td>\n",
       "      <td>14564</td>\n",
       "      <td>19</td>\n",
       "      <td>1.2</td>\n",
       "      <td>North America</td>\n",
       "    </tr>\n",
       "    <tr>\n",
       "      <th>1</th>\n",
       "      <td>India</td>\n",
       "      <td>43296692</td>\n",
       "      <td>524855</td>\n",
       "      <td>43283793</td>\n",
       "      <td>524840</td>\n",
       "      <td>12899</td>\n",
       "      <td>15</td>\n",
       "      <td>1.2</td>\n",
       "      <td>Asia</td>\n",
       "    </tr>\n",
       "    <tr>\n",
       "      <th>2</th>\n",
       "      <td>Brazil</td>\n",
       "      <td>31611769</td>\n",
       "      <td>668693</td>\n",
       "      <td>31611769</td>\n",
       "      <td>668693</td>\n",
       "      <td>0</td>\n",
       "      <td>0</td>\n",
       "      <td>2.1</td>\n",
       "      <td>South America</td>\n",
       "    </tr>\n",
       "    <tr>\n",
       "      <th>3</th>\n",
       "      <td>France</td>\n",
       "      <td>30279240</td>\n",
       "      <td>150078</td>\n",
       "      <td>30279240</td>\n",
       "      <td>150078</td>\n",
       "      <td>0</td>\n",
       "      <td>0</td>\n",
       "      <td>0.5</td>\n",
       "      <td>Europe</td>\n",
       "    </tr>\n",
       "    <tr>\n",
       "      <th>4</th>\n",
       "      <td>Germany</td>\n",
       "      <td>27204955</td>\n",
       "      <td>140176</td>\n",
       "      <td>27204953</td>\n",
       "      <td>140176</td>\n",
       "      <td>2</td>\n",
       "      <td>0</td>\n",
       "      <td>0.5</td>\n",
       "      <td>Europe</td>\n",
       "    </tr>\n",
       "  </tbody>\n",
       "</table>\n",
       "</div>"
      ],
      "text/plain": [
       "  Country/Region     Cases   Deaths    PCases  PDeaths  Cases (+)  Deaths (+)  \\\n",
       "0             US  86230982  1013377  86216418  1013358      14564          19   \n",
       "1          India  43296692   524855  43283793   524840      12899          15   \n",
       "2         Brazil  31611769   668693  31611769   668693          0           0   \n",
       "3         France  30279240   150078  30279240   150078          0           0   \n",
       "4        Germany  27204955   140176  27204953   140176          2           0   \n",
       "\n",
       "   Fatality Rate      Continent  \n",
       "0            1.2  North America  \n",
       "1            1.2           Asia  \n",
       "2            2.1  South America  \n",
       "3            0.5         Europe  \n",
       "4            0.5         Europe  "
      ]
     },
     "execution_count": 15,
     "metadata": {},
     "output_type": "execute_result"
    }
   ],
   "source": [
    "#hide\n",
    "df_table = (pd.DataFrame(dict(Cases=dfc_cases, Deaths=dfc_deaths, PCases=dfp_cases, PDeaths=dfp_deaths))\n",
    "             .sort_values(by=['Cases', 'Deaths'], ascending=[False, False])\n",
    "             .reset_index())\n",
    "df_table.rename(columns={'index': 'Country/Region'}, inplace=True)\n",
    "for c in 'Cases, Deaths'.split(', '):\n",
    "    df_table[f'{c} (+)'] = (df_table[c] - df_table[f'P{c}']).clip(0)  # DATA BUG\n",
    "df_table['Fatality Rate'] = (100 * df_table['Deaths'] / df_table['Cases']).round(1)\n",
    "df_table['Continent'] = df_table['Country/Region'].map(mapping['map.continent'])\n",
    "df_table.head(5)"
   ]
  },
  {
   "cell_type": "code",
   "execution_count": 16,
   "id": "fewer-occasion",
   "metadata": {
    "execution": {
     "iopub.execute_input": "2022-06-19T12:14:23.396722Z",
     "iopub.status.busy": "2022-06-19T12:14:23.396171Z",
     "iopub.status.idle": "2022-06-19T12:14:23.398811Z",
     "shell.execute_reply": "2022-06-19T12:14:23.399313Z"
    },
    "papermill": {
     "duration": 0.036041,
     "end_time": "2022-06-19T12:14:23.399443",
     "exception": false,
     "start_time": "2022-06-19T12:14:23.363402",
     "status": "completed"
    },
    "tags": []
   },
   "outputs": [],
   "source": [
    "#hide\n",
    "#delete problematic countries from table\n",
    "df_table = df_table[~df_table['Country/Region'].isin(['Cape Verde', 'Cruise Ship', 'Kosovo'])]"
   ]
  },
  {
   "cell_type": "code",
   "execution_count": 17,
   "id": "related-center",
   "metadata": {
    "execution": {
     "iopub.execute_input": "2022-06-19T12:14:23.472405Z",
     "iopub.status.busy": "2022-06-19T12:14:23.471840Z",
     "iopub.status.idle": "2022-06-19T12:14:23.473954Z",
     "shell.execute_reply": "2022-06-19T12:14:23.474479Z"
    },
    "papermill": {
     "duration": 0.047983,
     "end_time": "2022-06-19T12:14:23.474612",
     "exception": false,
     "start_time": "2022-06-19T12:14:23.426629",
     "status": "completed"
    },
    "tags": []
   },
   "outputs": [],
   "source": [
    "#hide\n",
    "metrics = [df_table.columns[index] for index in [1,2,5,6]]\n",
    "# s_china = df_table[df_table['Country/Region'].eq('China')][metrics].sum().add_prefix('China ')\n",
    "s_us = df_table[df_table['Country/Region'].eq('US')][metrics].sum().add_prefix('US ')\n",
    "s_eu = df_table[df_table['Continent'].eq('Europe')][metrics].sum().add_prefix('EU ')\n",
    "s_ind = df_table[df_table['Country/Region'].eq('India')][metrics].sum().add_prefix('India ')\n",
    "summary = {'updated': pd.to_datetime(dt_today), 'since': pd.to_datetime(dt_yday)}\n",
    "summary = {'updated': pd.to_datetime(dt_today), 'since': pd.to_datetime(dt_yday)}\n",
    "summary = {**summary, **df_table[metrics].sum(), **s_ind, **s_us, **s_eu}"
   ]
  },
  {
   "cell_type": "code",
   "execution_count": 18,
   "id": "engaging-syndrome",
   "metadata": {
    "execution": {
     "iopub.execute_input": "2022-06-19T12:14:23.539171Z",
     "iopub.status.busy": "2022-06-19T12:14:23.538596Z",
     "iopub.status.idle": "2022-06-19T12:14:23.554941Z",
     "shell.execute_reply": "2022-06-19T12:14:23.554452Z"
    },
    "papermill": {
     "duration": 0.053158,
     "end_time": "2022-06-19T12:14:23.555073",
     "exception": false,
     "start_time": "2022-06-19T12:14:23.501915",
     "status": "completed"
    },
    "tags": []
   },
   "outputs": [],
   "source": [
    "#hide\n",
    "dft_ct_new_cases = dft_cases.groupby(COL_REGION)[dt_cols].sum().diff(axis=1).fillna(0).astype(int)"
   ]
  },
  {
   "cell_type": "code",
   "execution_count": 19,
   "id": "neutral-assignment",
   "metadata": {
    "execution": {
     "iopub.execute_input": "2022-06-19T12:14:23.618840Z",
     "iopub.status.busy": "2022-06-19T12:14:23.618175Z",
     "iopub.status.idle": "2022-06-19T12:14:23.619872Z",
     "shell.execute_reply": "2022-06-19T12:14:23.620317Z"
    },
    "papermill": {
     "duration": 0.037942,
     "end_time": "2022-06-19T12:14:23.620462",
     "exception": false,
     "start_time": "2022-06-19T12:14:23.582520",
     "status": "completed"
    },
    "tags": []
   },
   "outputs": [],
   "source": [
    "#hide\n",
    "everydaycases = dft_ct_new_cases.cumsum(axis=1)"
   ]
  },
  {
   "cell_type": "code",
   "execution_count": 20,
   "id": "parliamentary-calgary",
   "metadata": {
    "execution": {
     "iopub.execute_input": "2022-06-19T12:14:23.690728Z",
     "iopub.status.busy": "2022-06-19T12:14:23.690145Z",
     "iopub.status.idle": "2022-06-19T12:14:24.241104Z",
     "shell.execute_reply": "2022-06-19T12:14:24.240569Z"
    },
    "papermill": {
     "duration": 0.586404,
     "end_time": "2022-06-19T12:14:24.241244",
     "exception": false,
     "start_time": "2022-06-19T12:14:23.654840",
     "status": "completed"
    },
    "tags": []
   },
   "outputs": [],
   "source": [
    "#hide\n",
    "import pandas as pd\n",
    "import matplotlib.pyplot as plt\n",
    "import matplotlib.ticker as ticker\n",
    "import matplotlib.animation as animation\n",
    "from IPython.display import HTML"
   ]
  },
  {
   "cell_type": "code",
   "execution_count": 21,
   "id": "lasting-extraction",
   "metadata": {
    "execution": {
     "iopub.execute_input": "2022-06-19T12:14:24.321374Z",
     "iopub.status.busy": "2022-06-19T12:14:24.320341Z",
     "iopub.status.idle": "2022-06-19T12:14:24.328331Z",
     "shell.execute_reply": "2022-06-19T12:14:24.327768Z"
    },
    "papermill": {
     "duration": 0.048716,
     "end_time": "2022-06-19T12:14:24.328474",
     "exception": false,
     "start_time": "2022-06-19T12:14:24.279758",
     "status": "completed"
    },
    "tags": []
   },
   "outputs": [],
   "source": [
    "#hide\n",
    "t = everydaycases.stack()"
   ]
  },
  {
   "cell_type": "code",
   "execution_count": 22,
   "id": "premier-sleeve",
   "metadata": {
    "execution": {
     "iopub.execute_input": "2022-06-19T12:14:24.404907Z",
     "iopub.status.busy": "2022-06-19T12:14:24.404352Z",
     "iopub.status.idle": "2022-06-19T12:14:24.414957Z",
     "shell.execute_reply": "2022-06-19T12:14:24.415414Z"
    },
    "papermill": {
     "duration": 0.04477,
     "end_time": "2022-06-19T12:14:24.415554",
     "exception": false,
     "start_time": "2022-06-19T12:14:24.370784",
     "status": "completed"
    },
    "tags": []
   },
   "outputs": [],
   "source": [
    "#hide\n",
    "g = t.reset_index(['Country/Region'])"
   ]
  },
  {
   "cell_type": "code",
   "execution_count": 23,
   "id": "distributed-pittsburgh",
   "metadata": {
    "execution": {
     "iopub.execute_input": "2022-06-19T12:14:24.479275Z",
     "iopub.status.busy": "2022-06-19T12:14:24.478633Z",
     "iopub.status.idle": "2022-06-19T12:14:24.480162Z",
     "shell.execute_reply": "2022-06-19T12:14:24.479744Z"
    },
    "papermill": {
     "duration": 0.037396,
     "end_time": "2022-06-19T12:14:24.480263",
     "exception": false,
     "start_time": "2022-06-19T12:14:24.442867",
     "status": "completed"
    },
    "tags": []
   },
   "outputs": [],
   "source": [
    "#hide\n",
    "g.index.name = 'date'"
   ]
  },
  {
   "cell_type": "code",
   "execution_count": 24,
   "id": "naked-donor",
   "metadata": {
    "execution": {
     "iopub.execute_input": "2022-06-19T12:14:24.538904Z",
     "iopub.status.busy": "2022-06-19T12:14:24.538324Z",
     "iopub.status.idle": "2022-06-19T12:14:24.541369Z",
     "shell.execute_reply": "2022-06-19T12:14:24.540797Z"
    },
    "papermill": {
     "duration": 0.033845,
     "end_time": "2022-06-19T12:14:24.541503",
     "exception": false,
     "start_time": "2022-06-19T12:14:24.507658",
     "status": "completed"
    },
    "tags": []
   },
   "outputs": [],
   "source": [
    "# #hide\n",
    "# g = g.reset_index(['date'])"
   ]
  },
  {
   "cell_type": "code",
   "execution_count": 25,
   "id": "incomplete-mustang",
   "metadata": {
    "execution": {
     "iopub.execute_input": "2022-06-19T12:14:24.601556Z",
     "iopub.status.busy": "2022-06-19T12:14:24.600983Z",
     "iopub.status.idle": "2022-06-19T12:14:24.603534Z",
     "shell.execute_reply": "2022-06-19T12:14:24.603119Z"
    },
    "papermill": {
     "duration": 0.033339,
     "end_time": "2022-06-19T12:14:24.603644",
     "exception": false,
     "start_time": "2022-06-19T12:14:24.570305",
     "status": "completed"
    },
    "tags": []
   },
   "outputs": [],
   "source": [
    "#hide\n",
    "# g.head()"
   ]
  },
  {
   "cell_type": "code",
   "execution_count": 26,
   "id": "specific-kruger",
   "metadata": {
    "execution": {
     "iopub.execute_input": "2022-06-19T12:14:24.661946Z",
     "iopub.status.busy": "2022-06-19T12:14:24.661373Z",
     "iopub.status.idle": "2022-06-19T12:14:24.663830Z",
     "shell.execute_reply": "2022-06-19T12:14:24.663316Z"
    },
    "papermill": {
     "duration": 0.033079,
     "end_time": "2022-06-19T12:14:24.663943",
     "exception": false,
     "start_time": "2022-06-19T12:14:24.630864",
     "status": "completed"
    },
    "tags": []
   },
   "outputs": [],
   "source": [
    "#hide\n",
    "# g.columns = ['date','country','cases']"
   ]
  },
  {
   "cell_type": "code",
   "execution_count": 27,
   "id": "tender-conversion",
   "metadata": {
    "execution": {
     "iopub.execute_input": "2022-06-19T12:14:24.738897Z",
     "iopub.status.busy": "2022-06-19T12:14:24.738151Z",
     "iopub.status.idle": "2022-06-19T12:14:24.739716Z",
     "shell.execute_reply": "2022-06-19T12:14:24.740337Z"
    },
    "papermill": {
     "duration": 0.037656,
     "end_time": "2022-06-19T12:14:24.740492",
     "exception": false,
     "start_time": "2022-06-19T12:14:24.702836",
     "status": "completed"
    },
    "tags": []
   },
   "outputs": [],
   "source": [
    "#hide\n",
    "# g['continent'] = g.country"
   ]
  },
  {
   "cell_type": "code",
   "execution_count": 28,
   "id": "substantial-wilderness",
   "metadata": {
    "execution": {
     "iopub.execute_input": "2022-06-19T12:14:24.810954Z",
     "iopub.status.busy": "2022-06-19T12:14:24.810202Z",
     "iopub.status.idle": "2022-06-19T12:14:24.811961Z",
     "shell.execute_reply": "2022-06-19T12:14:24.811490Z"
    },
    "papermill": {
     "duration": 0.039042,
     "end_time": "2022-06-19T12:14:24.812075",
     "exception": false,
     "start_time": "2022-06-19T12:14:24.773033",
     "status": "completed"
    },
    "tags": []
   },
   "outputs": [],
   "source": [
    "#hide\n",
    "# cols = list(g.columns.values)"
   ]
  },
  {
   "cell_type": "code",
   "execution_count": 29,
   "id": "solved-farming",
   "metadata": {
    "execution": {
     "iopub.execute_input": "2022-06-19T12:14:24.878768Z",
     "iopub.status.busy": "2022-06-19T12:14:24.877804Z",
     "iopub.status.idle": "2022-06-19T12:14:24.880574Z",
     "shell.execute_reply": "2022-06-19T12:14:24.880016Z"
    },
    "papermill": {
     "duration": 0.037795,
     "end_time": "2022-06-19T12:14:24.880711",
     "exception": false,
     "start_time": "2022-06-19T12:14:24.842916",
     "status": "completed"
    },
    "tags": []
   },
   "outputs": [],
   "source": [
    "#hide\n",
    "# cols.insert(0, cols.pop())"
   ]
  },
  {
   "cell_type": "code",
   "execution_count": 30,
   "id": "executed-adoption",
   "metadata": {
    "execution": {
     "iopub.execute_input": "2022-06-19T12:14:24.963536Z",
     "iopub.status.busy": "2022-06-19T12:14:24.962897Z",
     "iopub.status.idle": "2022-06-19T12:14:24.966917Z",
     "shell.execute_reply": "2022-06-19T12:14:24.966436Z"
    },
    "papermill": {
     "duration": 0.038558,
     "end_time": "2022-06-19T12:14:24.967032",
     "exception": false,
     "start_time": "2022-06-19T12:14:24.928474",
     "status": "completed"
    },
    "tags": []
   },
   "outputs": [],
   "source": [
    "#hide\n",
    "# g = g[cols]"
   ]
  },
  {
   "cell_type": "code",
   "execution_count": 31,
   "id": "subject-dublin",
   "metadata": {
    "execution": {
     "iopub.execute_input": "2022-06-19T12:14:25.033794Z",
     "iopub.status.busy": "2022-06-19T12:14:25.032752Z",
     "iopub.status.idle": "2022-06-19T12:14:25.034575Z",
     "shell.execute_reply": "2022-06-19T12:14:25.035208Z"
    },
    "papermill": {
     "duration": 0.037762,
     "end_time": "2022-06-19T12:14:25.035366",
     "exception": false,
     "start_time": "2022-06-19T12:14:24.997604",
     "status": "completed"
    },
    "tags": []
   },
   "outputs": [],
   "source": [
    "#hide\n",
    "# g['continent'] = g['continent'].map(mapping['map.continent'])"
   ]
  },
  {
   "cell_type": "code",
   "execution_count": 32,
   "id": "freelance-scout",
   "metadata": {
    "execution": {
     "iopub.execute_input": "2022-06-19T12:14:25.097223Z",
     "iopub.status.busy": "2022-06-19T12:14:25.096458Z",
     "iopub.status.idle": "2022-06-19T12:14:25.100328Z",
     "shell.execute_reply": "2022-06-19T12:14:25.100756Z"
    },
    "papermill": {
     "duration": 0.037359,
     "end_time": "2022-06-19T12:14:25.100913",
     "exception": false,
     "start_time": "2022-06-19T12:14:25.063554",
     "status": "completed"
    },
    "tags": []
   },
   "outputs": [],
   "source": [
    "#hide\n",
    "# g.head()"
   ]
  },
  {
   "cell_type": "code",
   "execution_count": 33,
   "id": "limited-engine",
   "metadata": {
    "execution": {
     "iopub.execute_input": "2022-06-19T12:14:25.175342Z",
     "iopub.status.busy": "2022-06-19T12:14:25.174742Z",
     "iopub.status.idle": "2022-06-19T12:14:25.177530Z",
     "shell.execute_reply": "2022-06-19T12:14:25.177054Z"
    },
    "papermill": {
     "duration": 0.038051,
     "end_time": "2022-06-19T12:14:25.177649",
     "exception": false,
     "start_time": "2022-06-19T12:14:25.139598",
     "status": "completed"
    },
    "tags": []
   },
   "outputs": [],
   "source": [
    "# hide\n",
    "# g['date'] = g['date'].astype('datetime64[ns]')"
   ]
  },
  {
   "cell_type": "code",
   "execution_count": 34,
   "id": "sophisticated-supervisor",
   "metadata": {
    "execution": {
     "iopub.execute_input": "2022-06-19T12:14:25.244924Z",
     "iopub.status.busy": "2022-06-19T12:14:25.244346Z",
     "iopub.status.idle": "2022-06-19T12:14:25.246845Z",
     "shell.execute_reply": "2022-06-19T12:14:25.246321Z"
    },
    "papermill": {
     "duration": 0.037875,
     "end_time": "2022-06-19T12:14:25.246955",
     "exception": false,
     "start_time": "2022-06-19T12:14:25.209080",
     "status": "completed"
    },
    "tags": []
   },
   "outputs": [],
   "source": [
    "#hide\n",
    "# g['date'] = g.date.dt.dayofyear"
   ]
  },
  {
   "cell_type": "code",
   "execution_count": 35,
   "id": "inside-dubai",
   "metadata": {
    "execution": {
     "iopub.execute_input": "2022-06-19T12:14:25.305234Z",
     "iopub.status.busy": "2022-06-19T12:14:25.304653Z",
     "iopub.status.idle": "2022-06-19T12:14:25.308063Z",
     "shell.execute_reply": "2022-06-19T12:14:25.308442Z"
    },
    "papermill": {
     "duration": 0.034553,
     "end_time": "2022-06-19T12:14:25.308575",
     "exception": false,
     "start_time": "2022-06-19T12:14:25.274022",
     "status": "completed"
    },
    "tags": []
   },
   "outputs": [],
   "source": [
    "#hide\n",
    "# g = g.rename(columns= {'continent':'group','country':'name','cases':'value'})"
   ]
  },
  {
   "cell_type": "code",
   "execution_count": 36,
   "id": "fleet-motorcycle",
   "metadata": {
    "execution": {
     "iopub.execute_input": "2022-06-19T12:14:25.367289Z",
     "iopub.status.busy": "2022-06-19T12:14:25.366690Z",
     "iopub.status.idle": "2022-06-19T12:14:25.368609Z",
     "shell.execute_reply": "2022-06-19T12:14:25.368987Z"
    },
    "papermill": {
     "duration": 0.033352,
     "end_time": "2022-06-19T12:14:25.369115",
     "exception": false,
     "start_time": "2022-06-19T12:14:25.335763",
     "status": "completed"
    },
    "tags": []
   },
   "outputs": [],
   "source": [
    "#hide\n",
    "# cols = ['name','group','day','value']"
   ]
  },
  {
   "cell_type": "code",
   "execution_count": 37,
   "id": "continued-sleeping",
   "metadata": {
    "execution": {
     "iopub.execute_input": "2022-06-19T12:14:25.427685Z",
     "iopub.status.busy": "2022-06-19T12:14:25.427096Z",
     "iopub.status.idle": "2022-06-19T12:14:25.429084Z",
     "shell.execute_reply": "2022-06-19T12:14:25.428573Z"
    },
    "papermill": {
     "duration": 0.032945,
     "end_time": "2022-06-19T12:14:25.429192",
     "exception": false,
     "start_time": "2022-06-19T12:14:25.396247",
     "status": "completed"
    },
    "tags": []
   },
   "outputs": [],
   "source": [
    "#hide\n",
    "# g.rename(columns= {'date':'day'},inplace = True)"
   ]
  },
  {
   "cell_type": "code",
   "execution_count": 38,
   "id": "major-fight",
   "metadata": {
    "execution": {
     "iopub.execute_input": "2022-06-19T12:14:25.488319Z",
     "iopub.status.busy": "2022-06-19T12:14:25.487595Z",
     "iopub.status.idle": "2022-06-19T12:14:25.491400Z",
     "shell.execute_reply": "2022-06-19T12:14:25.491855Z"
    },
    "papermill": {
     "duration": 0.035376,
     "end_time": "2022-06-19T12:14:25.491999",
     "exception": false,
     "start_time": "2022-06-19T12:14:25.456623",
     "status": "completed"
    },
    "tags": []
   },
   "outputs": [],
   "source": [
    "#hide\n",
    "# g = g[cols]"
   ]
  },
  {
   "cell_type": "code",
   "execution_count": 39,
   "id": "structured-mobile",
   "metadata": {
    "execution": {
     "iopub.execute_input": "2022-06-19T12:14:25.562384Z",
     "iopub.status.busy": "2022-06-19T12:14:25.561759Z",
     "iopub.status.idle": "2022-06-19T12:14:25.565157Z",
     "shell.execute_reply": "2022-06-19T12:14:25.564748Z"
    },
    "papermill": {
     "duration": 0.041899,
     "end_time": "2022-06-19T12:14:25.565271",
     "exception": false,
     "start_time": "2022-06-19T12:14:25.523372",
     "status": "completed"
    },
    "tags": []
   },
   "outputs": [],
   "source": [
    "# #hide\n",
    "# g = g[g.group.notna()]"
   ]
  },
  {
   "cell_type": "code",
   "execution_count": 40,
   "id": "determined-closing",
   "metadata": {
    "execution": {
     "iopub.execute_input": "2022-06-19T12:14:25.623911Z",
     "iopub.status.busy": "2022-06-19T12:14:25.623365Z",
     "iopub.status.idle": "2022-06-19T12:14:25.625949Z",
     "shell.execute_reply": "2022-06-19T12:14:25.625433Z"
    },
    "papermill": {
     "duration": 0.033445,
     "end_time": "2022-06-19T12:14:25.626078",
     "exception": false,
     "start_time": "2022-06-19T12:14:25.592633",
     "status": "completed"
    },
    "tags": []
   },
   "outputs": [],
   "source": [
    "# #hide\n",
    "# colors = dict(zip(\n",
    "#     [\"Oceania\", \"Europe\", \"Asia\", \"South America\", \"Middle East\", \"North America\", \"Africa\"],\n",
    "#     [\"#adb0ff\", \"#ffb3ff\", \"#90d595\", \"#e48381\", \"#aafbff\", \"#f7bb5f\", \"#eafb50\"]\n",
    "# ))\n",
    "# group_lk = g.set_index('name')['group'].to_dict()"
   ]
  },
  {
   "cell_type": "code",
   "execution_count": null,
   "id": "gross-drinking",
   "metadata": {
    "papermill": {
     "duration": 0.027265,
     "end_time": "2022-06-19T12:14:25.680439",
     "exception": false,
     "start_time": "2022-06-19T12:14:25.653174",
     "status": "completed"
    },
    "tags": []
   },
   "outputs": [],
   "source": []
  },
  {
   "cell_type": "code",
   "execution_count": 41,
   "id": "subject-macintosh",
   "metadata": {
    "execution": {
     "iopub.execute_input": "2022-06-19T12:14:25.739754Z",
     "iopub.status.busy": "2022-06-19T12:14:25.739214Z",
     "iopub.status.idle": "2022-06-19T12:14:25.741555Z",
     "shell.execute_reply": "2022-06-19T12:14:25.742079Z"
    },
    "papermill": {
     "duration": 0.034041,
     "end_time": "2022-06-19T12:14:25.742220",
     "exception": false,
     "start_time": "2022-06-19T12:14:25.708179",
     "status": "completed"
    },
    "tags": []
   },
   "outputs": [],
   "source": [
    "# #hide\n",
    "# fig, ax = plt.subplots(figsize=(15, 8))\n",
    "\n",
    "# def draw_barchart(current_day):\n",
    "#     dff = g[g['day'].eq(current_day)].sort_values(by='value', ascending=True).tail(10)\n",
    "#     ax.clear()\n",
    "#     ax.barh(dff['name'], dff['value'], color=[colors[group_lk[x]] for x in dff['name']])\n",
    "#     dx = dff['value'].max() / 200\n",
    "    \n",
    "#     for i, (value, name) in enumerate(zip(dff['value'], dff['name'])):\n",
    "#         ax.text(value-dx, i,     name,           size=14, weight=600, ha='right', va='bottom')\n",
    "#         ax.text(value-dx, i-.25, group_lk[name], size=10, color='#444444', ha='right', va='baseline')\n",
    "#         ax.text(value+dx, i,     f'{value:,.0f}',  size=14, ha='left',  va='center')\n",
    "#     ax.text(1, 0.4, current_day, transform=ax.transAxes, color='#777777', size=46, ha='right', weight=800)\n",
    "#     ax.text(0, 1.06, 'Population (thousands)', transform=ax.transAxes, size=12, color='#777777')\n",
    "#     ax.xaxis.set_major_formatter(ticker.StrMethodFormatter('{x:,.0f}'))\n",
    "#     ax.xaxis.set_ticks_position('top')\n",
    "#     ax.tick_params(axis='x', colors='#777777', labelsize=12)\n",
    "#     ax.set_yticks([])\n",
    "#     ax.margins(0, 0.01)\n",
    "#     ax.grid(which='major', axis='x', linestyle='-')\n",
    "#     ax.set_axisbelow(True)\n",
    "    \n",
    "#     ax.text(0, 1.15, 'Coronavirus',\n",
    "#             transform=ax.transAxes, size=24, weight=600, ha='left', va='top')\n",
    "# #     ax.text(1, 0, 'by @pratapvardhan; credit @jburnmurdoch', transform=ax.transAxes, color='#777777', ha='right',\n",
    "# #             bbox=dict(facecolor='white', alpha=0.8, edgecolor='white'))\n",
    "#     plt.box(False)"
   ]
  },
  {
   "cell_type": "code",
   "execution_count": 42,
   "id": "sexual-wages",
   "metadata": {
    "execution": {
     "iopub.execute_input": "2022-06-19T12:14:25.801088Z",
     "iopub.status.busy": "2022-06-19T12:14:25.800499Z",
     "iopub.status.idle": "2022-06-19T12:14:25.803885Z",
     "shell.execute_reply": "2022-06-19T12:14:25.804265Z"
    },
    "papermill": {
     "duration": 0.034954,
     "end_time": "2022-06-19T12:14:25.804397",
     "exception": false,
     "start_time": "2022-06-19T12:14:25.769443",
     "status": "completed"
    },
    "tags": []
   },
   "outputs": [],
   "source": [
    "# #hide_input\n",
    "# fig, ax = plt.subplots(figsize=(15, 8))\n",
    "# animator = animation.FuncAnimation(fig, draw_barchart, frames=range(g.day.values.min(), g.day.values.max()))\n",
    "# HTML(animator.to_jshtml())\n",
    "# # or use animator.to_html5_video() or animator.save() "
   ]
  },
  {
   "cell_type": "code",
   "execution_count": null,
   "id": "australian-container",
   "metadata": {
    "papermill": {
     "duration": 0.027142,
     "end_time": "2022-06-19T12:14:25.858857",
     "exception": false,
     "start_time": "2022-06-19T12:14:25.831715",
     "status": "completed"
    },
    "tags": []
   },
   "outputs": [],
   "source": []
  },
  {
   "cell_type": "code",
   "execution_count": null,
   "id": "mediterranean-pontiac",
   "metadata": {
    "papermill": {
     "duration": 0.026992,
     "end_time": "2022-06-19T12:14:25.912822",
     "exception": false,
     "start_time": "2022-06-19T12:14:25.885830",
     "status": "completed"
    },
    "tags": []
   },
   "outputs": [],
   "source": []
  },
  {
   "cell_type": "code",
   "execution_count": null,
   "id": "aging-legislature",
   "metadata": {
    "papermill": {
     "duration": 0.027311,
     "end_time": "2022-06-19T12:14:25.967742",
     "exception": false,
     "start_time": "2022-06-19T12:14:25.940431",
     "status": "completed"
    },
    "tags": []
   },
   "outputs": [],
   "source": []
  }
 ],
 "metadata": {
  "kernelspec": {
   "display_name": "Python 3",
   "language": "python",
   "name": "python3"
  },
  "language_info": {
   "codemirror_mode": {
    "name": "ipython",
    "version": 3
   },
   "file_extension": ".py",
   "mimetype": "text/x-python",
   "name": "python",
   "nbconvert_exporter": "python",
   "pygments_lexer": "ipython3",
   "version": "3.6.15"
  },
  "papermill": {
   "duration": 5.92477,
   "end_time": "2022-06-19T12:14:26.415799",
   "environment_variables": {},
   "exception": null,
   "input_path": "2020-03-21-covid19exp.ipynb",
   "output_path": "2020-03-21-covid19exp.ipynb",
   "parameters": {},
   "start_time": "2022-06-19T12:14:20.491029",
   "version": "2.0.0"
  }
 },
 "nbformat": 4,
 "nbformat_minor": 5
}