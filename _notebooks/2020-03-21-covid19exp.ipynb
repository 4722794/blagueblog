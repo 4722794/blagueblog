{
 "cells": [
  {
   "cell_type": "markdown",
   "id": "muslim-click",
   "metadata": {
    "papermill": {
     "duration": 0.039804,
     "end_time": "2022-08-04T00:49:32.922735",
     "exception": false,
     "start_time": "2022-08-04T00:49:32.882931",
     "status": "completed"
    },
    "tags": []
   },
   "source": [
    "# COVID-19 Case Race\n",
    "> A race chart to see rising cases around the world\n",
    "\n",
    "- author: Hargun Oberoi\n",
    "- image: images/covid-overview.png\n",
    "- hide: false\n",
    "- badges: false"
   ]
  },
  {
   "cell_type": "code",
   "execution_count": 1,
   "id": "proof-material",
   "metadata": {
    "execution": {
     "iopub.execute_input": "2022-08-04T00:49:33.002316Z",
     "iopub.status.busy": "2022-08-04T00:49:33.001597Z",
     "iopub.status.idle": "2022-08-04T00:49:33.414888Z",
     "shell.execute_reply": "2022-08-04T00:49:33.415463Z"
    },
    "papermill": {
     "duration": 0.463618,
     "end_time": "2022-08-04T00:49:33.419070",
     "exception": false,
     "start_time": "2022-08-04T00:49:32.955452",
     "status": "completed"
    },
    "tags": []
   },
   "outputs": [],
   "source": [
    "#hide\n",
    "import numpy as np\n",
    "import pandas as pd\n",
    "from jinja2 import Template\n",
    "from IPython.display import HTML"
   ]
  },
  {
   "cell_type": "code",
   "execution_count": 2,
   "id": "developed-terminology",
   "metadata": {
    "execution": {
     "iopub.execute_input": "2022-08-04T00:49:33.492625Z",
     "iopub.status.busy": "2022-08-04T00:49:33.491922Z",
     "iopub.status.idle": "2022-08-04T00:49:33.495136Z",
     "shell.execute_reply": "2022-08-04T00:49:33.494580Z"
    },
    "papermill": {
     "duration": 0.041963,
     "end_time": "2022-08-04T00:49:33.495269",
     "exception": false,
     "start_time": "2022-08-04T00:49:33.453306",
     "status": "completed"
    },
    "tags": []
   },
   "outputs": [],
   "source": [
    "#hide\n",
    "\n",
    "# FETCH\n",
    "base_url = 'https://raw.githubusercontent.com/pratapvardhan/notebooks/master/covid19/'\n",
    "paths = {\n",
    "    'mapping': base_url + 'mapping_countries.csv',\n",
    "    'overview': base_url + 'overview.tpl'\n",
    "}"
   ]
  },
  {
   "cell_type": "code",
   "execution_count": 3,
   "id": "dynamic-saver",
   "metadata": {
    "execution": {
     "iopub.execute_input": "2022-08-04T00:49:33.574236Z",
     "iopub.status.busy": "2022-08-04T00:49:33.570177Z",
     "iopub.status.idle": "2022-08-04T00:49:33.578088Z",
     "shell.execute_reply": "2022-08-04T00:49:33.577398Z"
    },
    "papermill": {
     "duration": 0.049547,
     "end_time": "2022-08-04T00:49:33.578219",
     "exception": false,
     "start_time": "2022-08-04T00:49:33.528672",
     "status": "completed"
    },
    "tags": []
   },
   "outputs": [
    {
     "data": {
      "text/plain": [
       "'https://raw.githubusercontent.com/pratapvardhan/notebooks/master/covid19/mapping_countries.csv'"
      ]
     },
     "execution_count": 3,
     "metadata": {},
     "output_type": "execute_result"
    }
   ],
   "source": [
    "#hide\n",
    "paths['mapping']"
   ]
  },
  {
   "cell_type": "code",
   "execution_count": 4,
   "id": "urban-software",
   "metadata": {
    "execution": {
     "iopub.execute_input": "2022-08-04T00:49:33.651786Z",
     "iopub.status.busy": "2022-08-04T00:49:33.651083Z",
     "iopub.status.idle": "2022-08-04T00:49:33.653436Z",
     "shell.execute_reply": "2022-08-04T00:49:33.653965Z"
    },
    "papermill": {
     "duration": 0.042131,
     "end_time": "2022-08-04T00:49:33.654121",
     "exception": false,
     "start_time": "2022-08-04T00:49:33.611990",
     "status": "completed"
    },
    "tags": []
   },
   "outputs": [],
   "source": [
    "#hide\n",
    "def get_mappings(url):\n",
    "    df = pd.read_csv(url)\n",
    "    return {\n",
    "        'df': df,\n",
    "        'replace.country': dict(df.dropna(subset=['Name']).set_index('Country')['Name']),\n",
    "        'map.continent': dict(df.set_index('Name')['Continent'])\n",
    "    }"
   ]
  },
  {
   "cell_type": "code",
   "execution_count": 5,
   "id": "intimate-machinery",
   "metadata": {
    "execution": {
     "iopub.execute_input": "2022-08-04T00:49:33.743154Z",
     "iopub.status.busy": "2022-08-04T00:49:33.742434Z",
     "iopub.status.idle": "2022-08-04T00:49:33.797908Z",
     "shell.execute_reply": "2022-08-04T00:49:33.797068Z"
    },
    "papermill": {
     "duration": 0.099005,
     "end_time": "2022-08-04T00:49:33.798092",
     "exception": false,
     "start_time": "2022-08-04T00:49:33.699087",
     "status": "completed"
    },
    "tags": []
   },
   "outputs": [],
   "source": [
    "#hide\n",
    "mapping = get_mappings(paths['mapping'])"
   ]
  },
  {
   "cell_type": "code",
   "execution_count": 6,
   "id": "certified-tactics",
   "metadata": {
    "execution": {
     "iopub.execute_input": "2022-08-04T00:49:33.871138Z",
     "iopub.status.busy": "2022-08-04T00:49:33.870444Z",
     "iopub.status.idle": "2022-08-04T00:49:33.873242Z",
     "shell.execute_reply": "2022-08-04T00:49:33.872608Z"
    },
    "papermill": {
     "duration": 0.042126,
     "end_time": "2022-08-04T00:49:33.873359",
     "exception": false,
     "start_time": "2022-08-04T00:49:33.831233",
     "status": "completed"
    },
    "tags": []
   },
   "outputs": [],
   "source": [
    "#hide\n",
    "def get_template(path):\n",
    "    from urllib.parse import urlparse\n",
    "    if bool(urlparse(path).netloc):\n",
    "        from urllib.request import urlopen\n",
    "        return urlopen(path).read().decode('utf8')\n",
    "    return open(path).read()"
   ]
  },
  {
   "cell_type": "code",
   "execution_count": 7,
   "id": "realistic-blast",
   "metadata": {
    "execution": {
     "iopub.execute_input": "2022-08-04T00:49:33.946561Z",
     "iopub.status.busy": "2022-08-04T00:49:33.943355Z",
     "iopub.status.idle": "2022-08-04T00:49:33.948799Z",
     "shell.execute_reply": "2022-08-04T00:49:33.949287Z"
    },
    "papermill": {
     "duration": 0.043328,
     "end_time": "2022-08-04T00:49:33.949423",
     "exception": false,
     "start_time": "2022-08-04T00:49:33.906095",
     "status": "completed"
    },
    "tags": []
   },
   "outputs": [],
   "source": [
    "#hide\n",
    "def get_frame(name):\n",
    "    url = (\n",
    "        'https://raw.githubusercontent.com/CSSEGISandData/COVID-19/master/csse_covid_19_data/'\n",
    "        f'csse_covid_19_time_series/time_series_covid19_{name}_global.csv')\n",
    "    df = pd.read_csv(url)\n",
    "    # rename countries\n",
    "    df['Country/Region'] = df['Country/Region'].replace(mapping['replace.country'])\n",
    "    return df"
   ]
  },
  {
   "cell_type": "code",
   "execution_count": 8,
   "id": "affiliated-characterization",
   "metadata": {
    "execution": {
     "iopub.execute_input": "2022-08-04T00:49:34.022870Z",
     "iopub.status.busy": "2022-08-04T00:49:34.022157Z",
     "iopub.status.idle": "2022-08-04T00:49:34.025087Z",
     "shell.execute_reply": "2022-08-04T00:49:34.024424Z"
    },
    "papermill": {
     "duration": 0.043371,
     "end_time": "2022-08-04T00:49:34.025211",
     "exception": false,
     "start_time": "2022-08-04T00:49:33.981840",
     "status": "completed"
    },
    "tags": []
   },
   "outputs": [],
   "source": [
    "#hide\n",
    "def get_dates(df):\n",
    "    dt_cols = df.columns[~df.columns.isin(['Province/State', 'Country/Region', 'Lat', 'Long'])]\n",
    "    LAST_DATE_I = -1\n",
    "    # sometimes last column may be empty, then go backwards\n",
    "    for i in range(-1, -len(dt_cols), -1):\n",
    "        if not df[dt_cols[i]].fillna(0).eq(0).all():\n",
    "            LAST_DATE_I = i\n",
    "            break\n",
    "    return LAST_DATE_I, dt_cols"
   ]
  },
  {
   "cell_type": "code",
   "execution_count": 9,
   "id": "recent-optimization",
   "metadata": {
    "execution": {
     "iopub.execute_input": "2022-08-04T00:49:34.098668Z",
     "iopub.status.busy": "2022-08-04T00:49:34.097785Z",
     "iopub.status.idle": "2022-08-04T00:49:34.690461Z",
     "shell.execute_reply": "2022-08-04T00:49:34.689704Z"
    },
    "papermill": {
     "duration": 0.631456,
     "end_time": "2022-08-04T00:49:34.690604",
     "exception": false,
     "start_time": "2022-08-04T00:49:34.059148",
     "status": "completed"
    },
    "tags": []
   },
   "outputs": [],
   "source": [
    "#hide\n",
    "COL_REGION = 'Country/Region'\n",
    "# Confirmed, Recovered, Deaths\n",
    "df = get_frame('confirmed')\n",
    "# dft_: timeseries, dfc_: today country agg\n",
    "dft_cases = df\n",
    "dft_deaths = get_frame('deaths')\n",
    "dft_recovered = get_frame('recovered')\n",
    "LAST_DATE_I, dt_cols = get_dates(df)"
   ]
  },
  {
   "cell_type": "code",
   "execution_count": 10,
   "id": "absolute-copper",
   "metadata": {
    "execution": {
     "iopub.execute_input": "2022-08-04T00:49:34.765916Z",
     "iopub.status.busy": "2022-08-04T00:49:34.765188Z",
     "iopub.status.idle": "2022-08-04T00:49:34.767985Z",
     "shell.execute_reply": "2022-08-04T00:49:34.767320Z"
    },
    "papermill": {
     "duration": 0.043363,
     "end_time": "2022-08-04T00:49:34.768115",
     "exception": false,
     "start_time": "2022-08-04T00:49:34.724752",
     "status": "completed"
    },
    "tags": []
   },
   "outputs": [],
   "source": [
    "#hide\n",
    "LAST_DATE_I, dt_cols = get_dates(df)\n",
    "dt_today =dt_cols[LAST_DATE_I]\n",
    "# dt_5day = dt_cols[LAST_DATE_I - 5]\n",
    "dt_yday = dt_cols[LAST_DATE_I - 1]"
   ]
  },
  {
   "cell_type": "code",
   "execution_count": 11,
   "id": "restricted-sheriff",
   "metadata": {
    "execution": {
     "iopub.execute_input": "2022-08-04T00:49:34.844434Z",
     "iopub.status.busy": "2022-08-04T00:49:34.843740Z",
     "iopub.status.idle": "2022-08-04T00:49:34.850372Z",
     "shell.execute_reply": "2022-08-04T00:49:34.850931Z"
    },
    "papermill": {
     "duration": 0.049089,
     "end_time": "2022-08-04T00:49:34.851078",
     "exception": false,
     "start_time": "2022-08-04T00:49:34.801989",
     "status": "completed"
    },
    "tags": []
   },
   "outputs": [],
   "source": [
    "#hide\n",
    "dfc_cases = dft_cases.groupby(COL_REGION)[dt_today].sum()\n",
    "dfc_deaths = dft_deaths.groupby(COL_REGION)[dt_today].sum()\n",
    "# dfp_cases = dft_cases.groupby(COL_REGION)[dt_5day].sum()\n",
    "# dfp_deaths = dft_deaths.groupby(COL_REGION)[dt_5day].sum()\n",
    "dfp_cases = dft_cases.groupby(COL_REGION)[dt_yday].sum()\n",
    "dfp_deaths = dft_deaths.groupby(COL_REGION)[dt_yday].sum()"
   ]
  },
  {
   "cell_type": "code",
   "execution_count": 12,
   "id": "deluxe-hepatitis",
   "metadata": {
    "execution": {
     "iopub.execute_input": "2022-08-04T00:49:34.926157Z",
     "iopub.status.busy": "2022-08-04T00:49:34.925404Z",
     "iopub.status.idle": "2022-08-04T00:49:34.930787Z",
     "shell.execute_reply": "2022-08-04T00:49:34.930210Z"
    },
    "papermill": {
     "duration": 0.045932,
     "end_time": "2022-08-04T00:49:34.930916",
     "exception": false,
     "start_time": "2022-08-04T00:49:34.884984",
     "status": "completed"
    },
    "tags": []
   },
   "outputs": [],
   "source": [
    "#hide\n",
    "df_table = (pd.DataFrame(dict(Cases = dfc_cases, Deaths = dfc_deaths, PCases = dfp_cases, PDeaths = dfp_deaths))\n",
    "            .sort_values(by = ['Cases','Deaths'], ascending = [False, False])\n",
    "            .reset_index())"
   ]
  },
  {
   "cell_type": "code",
   "execution_count": 13,
   "id": "educational-chancellor",
   "metadata": {
    "execution": {
     "iopub.execute_input": "2022-08-04T00:49:35.019771Z",
     "iopub.status.busy": "2022-08-04T00:49:35.019018Z",
     "iopub.status.idle": "2022-08-04T00:49:35.029683Z",
     "shell.execute_reply": "2022-08-04T00:49:35.029107Z"
    },
    "papermill": {
     "duration": 0.066174,
     "end_time": "2022-08-04T00:49:35.029820",
     "exception": false,
     "start_time": "2022-08-04T00:49:34.963646",
     "status": "completed"
    },
    "tags": []
   },
   "outputs": [
    {
     "data": {
      "text/html": [
       "<div>\n",
       "<style scoped>\n",
       "    .dataframe tbody tr th:only-of-type {\n",
       "        vertical-align: middle;\n",
       "    }\n",
       "\n",
       "    .dataframe tbody tr th {\n",
       "        vertical-align: top;\n",
       "    }\n",
       "\n",
       "    .dataframe thead th {\n",
       "        text-align: right;\n",
       "    }\n",
       "</style>\n",
       "<table border=\"1\" class=\"dataframe\">\n",
       "  <thead>\n",
       "    <tr style=\"text-align: right;\">\n",
       "      <th></th>\n",
       "      <th>Country/Region</th>\n",
       "      <th>Cases</th>\n",
       "      <th>Deaths</th>\n",
       "      <th>PCases</th>\n",
       "      <th>PDeaths</th>\n",
       "      <th>Cases (+)</th>\n",
       "      <th>Deaths (+)</th>\n",
       "      <th>Fatality Rate</th>\n",
       "      <th>Continent</th>\n",
       "    </tr>\n",
       "  </thead>\n",
       "  <tbody>\n",
       "    <tr>\n",
       "      <th>0</th>\n",
       "      <td>US</td>\n",
       "      <td>91589086</td>\n",
       "      <td>1030982</td>\n",
       "      <td>91472835</td>\n",
       "      <td>1030498</td>\n",
       "      <td>116251</td>\n",
       "      <td>484</td>\n",
       "      <td>1.13</td>\n",
       "      <td>North America</td>\n",
       "    </tr>\n",
       "    <tr>\n",
       "      <th>1</th>\n",
       "      <td>India</td>\n",
       "      <td>44067144</td>\n",
       "      <td>526477</td>\n",
       "      <td>44050009</td>\n",
       "      <td>526430</td>\n",
       "      <td>17135</td>\n",
       "      <td>47</td>\n",
       "      <td>1.19</td>\n",
       "      <td>Asia</td>\n",
       "    </tr>\n",
       "    <tr>\n",
       "      <th>2</th>\n",
       "      <td>France</td>\n",
       "      <td>34133344</td>\n",
       "      <td>153320</td>\n",
       "      <td>34077286</td>\n",
       "      <td>153219</td>\n",
       "      <td>56058</td>\n",
       "      <td>101</td>\n",
       "      <td>0.45</td>\n",
       "      <td>Europe</td>\n",
       "    </tr>\n",
       "    <tr>\n",
       "      <th>3</th>\n",
       "      <td>Brazil</td>\n",
       "      <td>33890428</td>\n",
       "      <td>679010</td>\n",
       "      <td>33855964</td>\n",
       "      <td>678715</td>\n",
       "      <td>34464</td>\n",
       "      <td>295</td>\n",
       "      <td>2.00</td>\n",
       "      <td>South America</td>\n",
       "    </tr>\n",
       "    <tr>\n",
       "      <th>4</th>\n",
       "      <td>Germany</td>\n",
       "      <td>31044554</td>\n",
       "      <td>144360</td>\n",
       "      <td>30956873</td>\n",
       "      <td>144150</td>\n",
       "      <td>87681</td>\n",
       "      <td>210</td>\n",
       "      <td>0.47</td>\n",
       "      <td>Europe</td>\n",
       "    </tr>\n",
       "  </tbody>\n",
       "</table>\n",
       "</div>"
      ],
      "text/plain": [
       "  Country/Region     Cases   Deaths    PCases  PDeaths  Cases (+)  Deaths (+)  \\\n",
       "0             US  91589086  1030982  91472835  1030498     116251         484   \n",
       "1          India  44067144   526477  44050009   526430      17135          47   \n",
       "2         France  34133344   153320  34077286   153219      56058         101   \n",
       "3         Brazil  33890428   679010  33855964   678715      34464         295   \n",
       "4        Germany  31044554   144360  30956873   144150      87681         210   \n",
       "\n",
       "   Fatality Rate      Continent  \n",
       "0           1.13  North America  \n",
       "1           1.19           Asia  \n",
       "2           0.45         Europe  \n",
       "3           2.00  South America  \n",
       "4           0.47         Europe  "
      ]
     },
     "execution_count": 13,
     "metadata": {},
     "output_type": "execute_result"
    }
   ],
   "source": [
    "#hide\n",
    "for c in 'Cases, Deaths'.split(', '):\n",
    "    df_table[f'{c} (+)'] = (df_table[c] - df_table[f'P{c}']).clip(0)\n",
    "    #Clip ça veut dire, les chiffres negatif sont interdit\n",
    "df_table['Fatality Rate'] = (100* df_table['Deaths']/ df_table['Cases']).round(2)\n",
    "df_table['Continent'] = df_table['Country/Region'].map(mapping['map.continent'])\n",
    "df_table.head(5)"
   ]
  },
  {
   "cell_type": "code",
   "execution_count": 14,
   "id": "aboriginal-bulgaria",
   "metadata": {
    "execution": {
     "iopub.execute_input": "2022-08-04T00:49:35.115764Z",
     "iopub.status.busy": "2022-08-04T00:49:35.115047Z",
     "iopub.status.idle": "2022-08-04T00:49:35.118645Z",
     "shell.execute_reply": "2022-08-04T00:49:35.119174Z"
    },
    "papermill": {
     "duration": 0.046547,
     "end_time": "2022-08-04T00:49:35.119327",
     "exception": false,
     "start_time": "2022-08-04T00:49:35.072780",
     "status": "completed"
    },
    "tags": []
   },
   "outputs": [],
   "source": [
    "#hide\n",
    "#delete problematic countries from table\n",
    "df_table = df_table[~df_table['Country/Region'].isin(['Cape Verde', 'Cruise Ship', 'Kosovo'])]"
   ]
  },
  {
   "cell_type": "code",
   "execution_count": 15,
   "id": "fantastic-effect",
   "metadata": {
    "execution": {
     "iopub.execute_input": "2022-08-04T00:49:35.204467Z",
     "iopub.status.busy": "2022-08-04T00:49:35.203612Z",
     "iopub.status.idle": "2022-08-04T00:49:35.225943Z",
     "shell.execute_reply": "2022-08-04T00:49:35.226608Z"
    },
    "papermill": {
     "duration": 0.072036,
     "end_time": "2022-08-04T00:49:35.226800",
     "exception": false,
     "start_time": "2022-08-04T00:49:35.154764",
     "status": "completed"
    },
    "tags": []
   },
   "outputs": [
    {
     "data": {
      "text/html": [
       "<div>\n",
       "<style scoped>\n",
       "    .dataframe tbody tr th:only-of-type {\n",
       "        vertical-align: middle;\n",
       "    }\n",
       "\n",
       "    .dataframe tbody tr th {\n",
       "        vertical-align: top;\n",
       "    }\n",
       "\n",
       "    .dataframe thead th {\n",
       "        text-align: right;\n",
       "    }\n",
       "</style>\n",
       "<table border=\"1\" class=\"dataframe\">\n",
       "  <thead>\n",
       "    <tr style=\"text-align: right;\">\n",
       "      <th></th>\n",
       "      <th>Country/Region</th>\n",
       "      <th>Cases</th>\n",
       "      <th>Deaths</th>\n",
       "      <th>PCases</th>\n",
       "      <th>PDeaths</th>\n",
       "      <th>Cases (+)</th>\n",
       "      <th>Deaths (+)</th>\n",
       "      <th>Fatality Rate</th>\n",
       "      <th>Continent</th>\n",
       "    </tr>\n",
       "  </thead>\n",
       "  <tbody>\n",
       "    <tr>\n",
       "      <th>0</th>\n",
       "      <td>US</td>\n",
       "      <td>91589086</td>\n",
       "      <td>1030982</td>\n",
       "      <td>91472835</td>\n",
       "      <td>1030498</td>\n",
       "      <td>116251</td>\n",
       "      <td>484</td>\n",
       "      <td>1.1</td>\n",
       "      <td>North America</td>\n",
       "    </tr>\n",
       "    <tr>\n",
       "      <th>1</th>\n",
       "      <td>India</td>\n",
       "      <td>44067144</td>\n",
       "      <td>526477</td>\n",
       "      <td>44050009</td>\n",
       "      <td>526430</td>\n",
       "      <td>17135</td>\n",
       "      <td>47</td>\n",
       "      <td>1.2</td>\n",
       "      <td>Asia</td>\n",
       "    </tr>\n",
       "    <tr>\n",
       "      <th>2</th>\n",
       "      <td>France</td>\n",
       "      <td>34133344</td>\n",
       "      <td>153320</td>\n",
       "      <td>34077286</td>\n",
       "      <td>153219</td>\n",
       "      <td>56058</td>\n",
       "      <td>101</td>\n",
       "      <td>0.4</td>\n",
       "      <td>Europe</td>\n",
       "    </tr>\n",
       "    <tr>\n",
       "      <th>3</th>\n",
       "      <td>Brazil</td>\n",
       "      <td>33890428</td>\n",
       "      <td>679010</td>\n",
       "      <td>33855964</td>\n",
       "      <td>678715</td>\n",
       "      <td>34464</td>\n",
       "      <td>295</td>\n",
       "      <td>2.0</td>\n",
       "      <td>South America</td>\n",
       "    </tr>\n",
       "    <tr>\n",
       "      <th>4</th>\n",
       "      <td>Germany</td>\n",
       "      <td>31044554</td>\n",
       "      <td>144360</td>\n",
       "      <td>30956873</td>\n",
       "      <td>144150</td>\n",
       "      <td>87681</td>\n",
       "      <td>210</td>\n",
       "      <td>0.5</td>\n",
       "      <td>Europe</td>\n",
       "    </tr>\n",
       "  </tbody>\n",
       "</table>\n",
       "</div>"
      ],
      "text/plain": [
       "  Country/Region     Cases   Deaths    PCases  PDeaths  Cases (+)  Deaths (+)  \\\n",
       "0             US  91589086  1030982  91472835  1030498     116251         484   \n",
       "1          India  44067144   526477  44050009   526430      17135          47   \n",
       "2         France  34133344   153320  34077286   153219      56058         101   \n",
       "3         Brazil  33890428   679010  33855964   678715      34464         295   \n",
       "4        Germany  31044554   144360  30956873   144150      87681         210   \n",
       "\n",
       "   Fatality Rate      Continent  \n",
       "0            1.1  North America  \n",
       "1            1.2           Asia  \n",
       "2            0.4         Europe  \n",
       "3            2.0  South America  \n",
       "4            0.5         Europe  "
      ]
     },
     "execution_count": 15,
     "metadata": {},
     "output_type": "execute_result"
    }
   ],
   "source": [
    "#hide\n",
    "df_table = (pd.DataFrame(dict(Cases=dfc_cases, Deaths=dfc_deaths, PCases=dfp_cases, PDeaths=dfp_deaths))\n",
    "             .sort_values(by=['Cases', 'Deaths'], ascending=[False, False])\n",
    "             .reset_index())\n",
    "df_table.rename(columns={'index': 'Country/Region'}, inplace=True)\n",
    "for c in 'Cases, Deaths'.split(', '):\n",
    "    df_table[f'{c} (+)'] = (df_table[c] - df_table[f'P{c}']).clip(0)  # DATA BUG\n",
    "df_table['Fatality Rate'] = (100 * df_table['Deaths'] / df_table['Cases']).round(1)\n",
    "df_table['Continent'] = df_table['Country/Region'].map(mapping['map.continent'])\n",
    "df_table.head(5)"
   ]
  },
  {
   "cell_type": "code",
   "execution_count": 16,
   "id": "fewer-occasion",
   "metadata": {
    "execution": {
     "iopub.execute_input": "2022-08-04T00:49:35.305895Z",
     "iopub.status.busy": "2022-08-04T00:49:35.305161Z",
     "iopub.status.idle": "2022-08-04T00:49:35.308459Z",
     "shell.execute_reply": "2022-08-04T00:49:35.307903Z"
    },
    "papermill": {
     "duration": 0.045654,
     "end_time": "2022-08-04T00:49:35.308588",
     "exception": false,
     "start_time": "2022-08-04T00:49:35.262934",
     "status": "completed"
    },
    "tags": []
   },
   "outputs": [],
   "source": [
    "#hide\n",
    "#delete problematic countries from table\n",
    "df_table = df_table[~df_table['Country/Region'].isin(['Cape Verde', 'Cruise Ship', 'Kosovo'])]"
   ]
  },
  {
   "cell_type": "code",
   "execution_count": 17,
   "id": "related-center",
   "metadata": {
    "execution": {
     "iopub.execute_input": "2022-08-04T00:49:35.407370Z",
     "iopub.status.busy": "2022-08-04T00:49:35.406637Z",
     "iopub.status.idle": "2022-08-04T00:49:35.409257Z",
     "shell.execute_reply": "2022-08-04T00:49:35.409781Z"
    },
    "papermill": {
     "duration": 0.063359,
     "end_time": "2022-08-04T00:49:35.409960",
     "exception": false,
     "start_time": "2022-08-04T00:49:35.346601",
     "status": "completed"
    },
    "tags": []
   },
   "outputs": [],
   "source": [
    "#hide\n",
    "metrics = [df_table.columns[index] for index in [1,2,5,6]]\n",
    "# s_china = df_table[df_table['Country/Region'].eq('China')][metrics].sum().add_prefix('China ')\n",
    "s_us = df_table[df_table['Country/Region'].eq('US')][metrics].sum().add_prefix('US ')\n",
    "s_eu = df_table[df_table['Continent'].eq('Europe')][metrics].sum().add_prefix('EU ')\n",
    "s_ind = df_table[df_table['Country/Region'].eq('India')][metrics].sum().add_prefix('India ')\n",
    "summary = {'updated': pd.to_datetime(dt_today), 'since': pd.to_datetime(dt_yday)}\n",
    "summary = {'updated': pd.to_datetime(dt_today), 'since': pd.to_datetime(dt_yday)}\n",
    "summary = {**summary, **df_table[metrics].sum(), **s_ind, **s_us, **s_eu}"
   ]
  },
  {
   "cell_type": "code",
   "execution_count": 18,
   "id": "engaging-syndrome",
   "metadata": {
    "execution": {
     "iopub.execute_input": "2022-08-04T00:49:35.488438Z",
     "iopub.status.busy": "2022-08-04T00:49:35.487664Z",
     "iopub.status.idle": "2022-08-04T00:49:35.512023Z",
     "shell.execute_reply": "2022-08-04T00:49:35.512617Z"
    },
    "papermill": {
     "duration": 0.067164,
     "end_time": "2022-08-04T00:49:35.512871",
     "exception": false,
     "start_time": "2022-08-04T00:49:35.445707",
     "status": "completed"
    },
    "tags": []
   },
   "outputs": [],
   "source": [
    "#hide\n",
    "dft_ct_new_cases = dft_cases.groupby(COL_REGION)[dt_cols].sum().diff(axis=1).fillna(0).astype(int)"
   ]
  },
  {
   "cell_type": "code",
   "execution_count": 19,
   "id": "neutral-assignment",
   "metadata": {
    "execution": {
     "iopub.execute_input": "2022-08-04T00:49:35.599917Z",
     "iopub.status.busy": "2022-08-04T00:49:35.599213Z",
     "iopub.status.idle": "2022-08-04T00:49:35.601891Z",
     "shell.execute_reply": "2022-08-04T00:49:35.602552Z"
    },
    "papermill": {
     "duration": 0.050518,
     "end_time": "2022-08-04T00:49:35.602702",
     "exception": false,
     "start_time": "2022-08-04T00:49:35.552184",
     "status": "completed"
    },
    "tags": []
   },
   "outputs": [],
   "source": [
    "#hide\n",
    "everydaycases = dft_ct_new_cases.cumsum(axis=1)"
   ]
  },
  {
   "cell_type": "code",
   "execution_count": 20,
   "id": "parliamentary-calgary",
   "metadata": {
    "execution": {
     "iopub.execute_input": "2022-08-04T00:49:35.679967Z",
     "iopub.status.busy": "2022-08-04T00:49:35.679133Z",
     "iopub.status.idle": "2022-08-04T00:49:36.360161Z",
     "shell.execute_reply": "2022-08-04T00:49:36.358990Z"
    },
    "papermill": {
     "duration": 0.722153,
     "end_time": "2022-08-04T00:49:36.360316",
     "exception": false,
     "start_time": "2022-08-04T00:49:35.638163",
     "status": "completed"
    },
    "tags": []
   },
   "outputs": [],
   "source": [
    "#hide\n",
    "import pandas as pd\n",
    "import matplotlib.pyplot as plt\n",
    "import matplotlib.ticker as ticker\n",
    "import matplotlib.animation as animation\n",
    "from IPython.display import HTML"
   ]
  },
  {
   "cell_type": "code",
   "execution_count": 21,
   "id": "lasting-extraction",
   "metadata": {
    "execution": {
     "iopub.execute_input": "2022-08-04T00:49:36.439309Z",
     "iopub.status.busy": "2022-08-04T00:49:36.438611Z",
     "iopub.status.idle": "2022-08-04T00:49:36.446296Z",
     "shell.execute_reply": "2022-08-04T00:49:36.445685Z"
    },
    "papermill": {
     "duration": 0.049847,
     "end_time": "2022-08-04T00:49:36.446430",
     "exception": false,
     "start_time": "2022-08-04T00:49:36.396583",
     "status": "completed"
    },
    "tags": []
   },
   "outputs": [],
   "source": [
    "#hide\n",
    "t = everydaycases.stack()"
   ]
  },
  {
   "cell_type": "code",
   "execution_count": 22,
   "id": "premier-sleeve",
   "metadata": {
    "execution": {
     "iopub.execute_input": "2022-08-04T00:49:36.523395Z",
     "iopub.status.busy": "2022-08-04T00:49:36.522689Z",
     "iopub.status.idle": "2022-08-04T00:49:36.536378Z",
     "shell.execute_reply": "2022-08-04T00:49:36.537085Z"
    },
    "papermill": {
     "duration": 0.055229,
     "end_time": "2022-08-04T00:49:36.537244",
     "exception": false,
     "start_time": "2022-08-04T00:49:36.482015",
     "status": "completed"
    },
    "tags": []
   },
   "outputs": [],
   "source": [
    "#hide\n",
    "g = t.reset_index(['Country/Region'])"
   ]
  },
  {
   "cell_type": "code",
   "execution_count": 23,
   "id": "distributed-pittsburgh",
   "metadata": {
    "execution": {
     "iopub.execute_input": "2022-08-04T00:49:36.623145Z",
     "iopub.status.busy": "2022-08-04T00:49:36.622365Z",
     "iopub.status.idle": "2022-08-04T00:49:36.624272Z",
     "shell.execute_reply": "2022-08-04T00:49:36.624973Z"
    },
    "papermill": {
     "duration": 0.046064,
     "end_time": "2022-08-04T00:49:36.625130",
     "exception": false,
     "start_time": "2022-08-04T00:49:36.579066",
     "status": "completed"
    },
    "tags": []
   },
   "outputs": [],
   "source": [
    "#hide\n",
    "g.index.name = 'date'"
   ]
  },
  {
   "cell_type": "code",
   "execution_count": 24,
   "id": "naked-donor",
   "metadata": {
    "execution": {
     "iopub.execute_input": "2022-08-04T00:49:36.705687Z",
     "iopub.status.busy": "2022-08-04T00:49:36.704974Z",
     "iopub.status.idle": "2022-08-04T00:49:36.707648Z",
     "shell.execute_reply": "2022-08-04T00:49:36.707099Z"
    },
    "papermill": {
     "duration": 0.046532,
     "end_time": "2022-08-04T00:49:36.707778",
     "exception": false,
     "start_time": "2022-08-04T00:49:36.661246",
     "status": "completed"
    },
    "tags": []
   },
   "outputs": [],
   "source": [
    "# #hide\n",
    "# g = g.reset_index(['date'])"
   ]
  },
  {
   "cell_type": "code",
   "execution_count": 25,
   "id": "incomplete-mustang",
   "metadata": {
    "execution": {
     "iopub.execute_input": "2022-08-04T00:49:36.784090Z",
     "iopub.status.busy": "2022-08-04T00:49:36.783390Z",
     "iopub.status.idle": "2022-08-04T00:49:36.788231Z",
     "shell.execute_reply": "2022-08-04T00:49:36.788741Z"
    },
    "papermill": {
     "duration": 0.045044,
     "end_time": "2022-08-04T00:49:36.788892",
     "exception": false,
     "start_time": "2022-08-04T00:49:36.743848",
     "status": "completed"
    },
    "tags": []
   },
   "outputs": [],
   "source": [
    "#hide\n",
    "# g.head()"
   ]
  },
  {
   "cell_type": "code",
   "execution_count": 26,
   "id": "specific-kruger",
   "metadata": {
    "execution": {
     "iopub.execute_input": "2022-08-04T00:49:36.869231Z",
     "iopub.status.busy": "2022-08-04T00:49:36.868410Z",
     "iopub.status.idle": "2022-08-04T00:49:36.871024Z",
     "shell.execute_reply": "2022-08-04T00:49:36.870265Z"
    },
    "papermill": {
     "duration": 0.042842,
     "end_time": "2022-08-04T00:49:36.871256",
     "exception": false,
     "start_time": "2022-08-04T00:49:36.828414",
     "status": "completed"
    },
    "tags": []
   },
   "outputs": [],
   "source": [
    "#hide\n",
    "# g.columns = ['date','country','cases']"
   ]
  },
  {
   "cell_type": "code",
   "execution_count": 27,
   "id": "tender-conversion",
   "metadata": {
    "execution": {
     "iopub.execute_input": "2022-08-04T00:49:36.949527Z",
     "iopub.status.busy": "2022-08-04T00:49:36.948855Z",
     "iopub.status.idle": "2022-08-04T00:49:36.953205Z",
     "shell.execute_reply": "2022-08-04T00:49:36.952638Z"
    },
    "papermill": {
     "duration": 0.043051,
     "end_time": "2022-08-04T00:49:36.953331",
     "exception": false,
     "start_time": "2022-08-04T00:49:36.910280",
     "status": "completed"
    },
    "tags": []
   },
   "outputs": [],
   "source": [
    "#hide\n",
    "# g['continent'] = g.country"
   ]
  },
  {
   "cell_type": "code",
   "execution_count": 28,
   "id": "substantial-wilderness",
   "metadata": {
    "execution": {
     "iopub.execute_input": "2022-08-04T00:49:37.039114Z",
     "iopub.status.busy": "2022-08-04T00:49:37.038291Z",
     "iopub.status.idle": "2022-08-04T00:49:37.042869Z",
     "shell.execute_reply": "2022-08-04T00:49:37.042208Z"
    },
    "papermill": {
     "duration": 0.054369,
     "end_time": "2022-08-04T00:49:37.043018",
     "exception": false,
     "start_time": "2022-08-04T00:49:36.988649",
     "status": "completed"
    },
    "tags": []
   },
   "outputs": [],
   "source": [
    "#hide\n",
    "# cols = list(g.columns.values)"
   ]
  },
  {
   "cell_type": "code",
   "execution_count": 29,
   "id": "solved-farming",
   "metadata": {
    "execution": {
     "iopub.execute_input": "2022-08-04T00:49:37.116992Z",
     "iopub.status.busy": "2022-08-04T00:49:37.116295Z",
     "iopub.status.idle": "2022-08-04T00:49:37.121256Z",
     "shell.execute_reply": "2022-08-04T00:49:37.120668Z"
    },
    "papermill": {
     "duration": 0.043217,
     "end_time": "2022-08-04T00:49:37.121385",
     "exception": false,
     "start_time": "2022-08-04T00:49:37.078168",
     "status": "completed"
    },
    "tags": []
   },
   "outputs": [],
   "source": [
    "#hide\n",
    "# cols.insert(0, cols.pop())"
   ]
  },
  {
   "cell_type": "code",
   "execution_count": 30,
   "id": "executed-adoption",
   "metadata": {
    "execution": {
     "iopub.execute_input": "2022-08-04T00:49:37.198898Z",
     "iopub.status.busy": "2022-08-04T00:49:37.198185Z",
     "iopub.status.idle": "2022-08-04T00:49:37.200953Z",
     "shell.execute_reply": "2022-08-04T00:49:37.200401Z"
    },
    "papermill": {
     "duration": 0.042751,
     "end_time": "2022-08-04T00:49:37.201089",
     "exception": false,
     "start_time": "2022-08-04T00:49:37.158338",
     "status": "completed"
    },
    "tags": []
   },
   "outputs": [],
   "source": [
    "#hide\n",
    "# g = g[cols]"
   ]
  },
  {
   "cell_type": "code",
   "execution_count": 31,
   "id": "subject-dublin",
   "metadata": {
    "execution": {
     "iopub.execute_input": "2022-08-04T00:49:37.274392Z",
     "iopub.status.busy": "2022-08-04T00:49:37.273609Z",
     "iopub.status.idle": "2022-08-04T00:49:37.277609Z",
     "shell.execute_reply": "2022-08-04T00:49:37.277033Z"
    },
    "papermill": {
     "duration": 0.042384,
     "end_time": "2022-08-04T00:49:37.277738",
     "exception": false,
     "start_time": "2022-08-04T00:49:37.235354",
     "status": "completed"
    },
    "tags": []
   },
   "outputs": [],
   "source": [
    "#hide\n",
    "# g['continent'] = g['continent'].map(mapping['map.continent'])"
   ]
  },
  {
   "cell_type": "code",
   "execution_count": 32,
   "id": "freelance-scout",
   "metadata": {
    "execution": {
     "iopub.execute_input": "2022-08-04T00:49:37.354737Z",
     "iopub.status.busy": "2022-08-04T00:49:37.353808Z",
     "iopub.status.idle": "2022-08-04T00:49:37.356362Z",
     "shell.execute_reply": "2022-08-04T00:49:37.355605Z"
    },
    "papermill": {
     "duration": 0.042229,
     "end_time": "2022-08-04T00:49:37.356507",
     "exception": false,
     "start_time": "2022-08-04T00:49:37.314278",
     "status": "completed"
    },
    "tags": []
   },
   "outputs": [],
   "source": [
    "#hide\n",
    "# g.head()"
   ]
  },
  {
   "cell_type": "code",
   "execution_count": 33,
   "id": "limited-engine",
   "metadata": {
    "execution": {
     "iopub.execute_input": "2022-08-04T00:49:37.437531Z",
     "iopub.status.busy": "2022-08-04T00:49:37.436707Z",
     "iopub.status.idle": "2022-08-04T00:49:37.441495Z",
     "shell.execute_reply": "2022-08-04T00:49:37.440940Z"
    },
    "papermill": {
     "duration": 0.048561,
     "end_time": "2022-08-04T00:49:37.441632",
     "exception": false,
     "start_time": "2022-08-04T00:49:37.393071",
     "status": "completed"
    },
    "tags": []
   },
   "outputs": [],
   "source": [
    "# hide\n",
    "# g['date'] = g['date'].astype('datetime64[ns]')"
   ]
  },
  {
   "cell_type": "code",
   "execution_count": 34,
   "id": "sophisticated-supervisor",
   "metadata": {
    "execution": {
     "iopub.execute_input": "2022-08-04T00:49:37.517011Z",
     "iopub.status.busy": "2022-08-04T00:49:37.516179Z",
     "iopub.status.idle": "2022-08-04T00:49:37.518216Z",
     "shell.execute_reply": "2022-08-04T00:49:37.518874Z"
    },
    "papermill": {
     "duration": 0.042508,
     "end_time": "2022-08-04T00:49:37.519041",
     "exception": false,
     "start_time": "2022-08-04T00:49:37.476533",
     "status": "completed"
    },
    "tags": []
   },
   "outputs": [],
   "source": [
    "#hide\n",
    "# g['date'] = g.date.dt.dayofyear"
   ]
  },
  {
   "cell_type": "code",
   "execution_count": 35,
   "id": "inside-dubai",
   "metadata": {
    "execution": {
     "iopub.execute_input": "2022-08-04T00:49:37.598792Z",
     "iopub.status.busy": "2022-08-04T00:49:37.597969Z",
     "iopub.status.idle": "2022-08-04T00:49:37.599708Z",
     "shell.execute_reply": "2022-08-04T00:49:37.600465Z"
    },
    "papermill": {
     "duration": 0.04268,
     "end_time": "2022-08-04T00:49:37.600632",
     "exception": false,
     "start_time": "2022-08-04T00:49:37.557952",
     "status": "completed"
    },
    "tags": []
   },
   "outputs": [],
   "source": [
    "#hide\n",
    "# g = g.rename(columns= {'continent':'group','country':'name','cases':'value'})"
   ]
  },
  {
   "cell_type": "code",
   "execution_count": 36,
   "id": "fleet-motorcycle",
   "metadata": {
    "execution": {
     "iopub.execute_input": "2022-08-04T00:49:37.674554Z",
     "iopub.status.busy": "2022-08-04T00:49:37.673808Z",
     "iopub.status.idle": "2022-08-04T00:49:37.676469Z",
     "shell.execute_reply": "2022-08-04T00:49:37.675953Z"
    },
    "papermill": {
     "duration": 0.041327,
     "end_time": "2022-08-04T00:49:37.676588",
     "exception": false,
     "start_time": "2022-08-04T00:49:37.635261",
     "status": "completed"
    },
    "tags": []
   },
   "outputs": [],
   "source": [
    "#hide\n",
    "# cols = ['name','group','day','value']"
   ]
  },
  {
   "cell_type": "code",
   "execution_count": 37,
   "id": "continued-sleeping",
   "metadata": {
    "execution": {
     "iopub.execute_input": "2022-08-04T00:49:37.755105Z",
     "iopub.status.busy": "2022-08-04T00:49:37.754400Z",
     "iopub.status.idle": "2022-08-04T00:49:37.757112Z",
     "shell.execute_reply": "2022-08-04T00:49:37.756453Z"
    },
    "papermill": {
     "duration": 0.045381,
     "end_time": "2022-08-04T00:49:37.757237",
     "exception": false,
     "start_time": "2022-08-04T00:49:37.711856",
     "status": "completed"
    },
    "tags": []
   },
   "outputs": [],
   "source": [
    "#hide\n",
    "# g.rename(columns= {'date':'day'},inplace = True)"
   ]
  },
  {
   "cell_type": "code",
   "execution_count": 38,
   "id": "major-fight",
   "metadata": {
    "execution": {
     "iopub.execute_input": "2022-08-04T00:49:37.831725Z",
     "iopub.status.busy": "2022-08-04T00:49:37.831037Z",
     "iopub.status.idle": "2022-08-04T00:49:37.833720Z",
     "shell.execute_reply": "2022-08-04T00:49:37.833170Z"
    },
    "papermill": {
     "duration": 0.041353,
     "end_time": "2022-08-04T00:49:37.833845",
     "exception": false,
     "start_time": "2022-08-04T00:49:37.792492",
     "status": "completed"
    },
    "tags": []
   },
   "outputs": [],
   "source": [
    "#hide\n",
    "# g = g[cols]"
   ]
  },
  {
   "cell_type": "code",
   "execution_count": 39,
   "id": "structured-mobile",
   "metadata": {
    "execution": {
     "iopub.execute_input": "2022-08-04T00:49:37.916153Z",
     "iopub.status.busy": "2022-08-04T00:49:37.915340Z",
     "iopub.status.idle": "2022-08-04T00:49:37.922536Z",
     "shell.execute_reply": "2022-08-04T00:49:37.921949Z"
    },
    "papermill": {
     "duration": 0.051962,
     "end_time": "2022-08-04T00:49:37.922668",
     "exception": false,
     "start_time": "2022-08-04T00:49:37.870706",
     "status": "completed"
    },
    "tags": []
   },
   "outputs": [],
   "source": [
    "# #hide\n",
    "# g = g[g.group.notna()]"
   ]
  },
  {
   "cell_type": "code",
   "execution_count": 40,
   "id": "determined-closing",
   "metadata": {
    "execution": {
     "iopub.execute_input": "2022-08-04T00:49:37.996700Z",
     "iopub.status.busy": "2022-08-04T00:49:37.996007Z",
     "iopub.status.idle": "2022-08-04T00:49:37.998726Z",
     "shell.execute_reply": "2022-08-04T00:49:37.999380Z"
    },
    "papermill": {
     "duration": 0.042634,
     "end_time": "2022-08-04T00:49:37.999537",
     "exception": false,
     "start_time": "2022-08-04T00:49:37.956903",
     "status": "completed"
    },
    "tags": []
   },
   "outputs": [],
   "source": [
    "# #hide\n",
    "# colors = dict(zip(\n",
    "#     [\"Oceania\", \"Europe\", \"Asia\", \"South America\", \"Middle East\", \"North America\", \"Africa\"],\n",
    "#     [\"#adb0ff\", \"#ffb3ff\", \"#90d595\", \"#e48381\", \"#aafbff\", \"#f7bb5f\", \"#eafb50\"]\n",
    "# ))\n",
    "# group_lk = g.set_index('name')['group'].to_dict()"
   ]
  },
  {
   "cell_type": "code",
   "execution_count": null,
   "id": "gross-drinking",
   "metadata": {
    "papermill": {
     "duration": 0.034495,
     "end_time": "2022-08-04T00:49:38.068764",
     "exception": false,
     "start_time": "2022-08-04T00:49:38.034269",
     "status": "completed"
    },
    "tags": []
   },
   "outputs": [],
   "source": []
  },
  {
   "cell_type": "code",
   "execution_count": 41,
   "id": "subject-macintosh",
   "metadata": {
    "execution": {
     "iopub.execute_input": "2022-08-04T00:49:38.144498Z",
     "iopub.status.busy": "2022-08-04T00:49:38.143787Z",
     "iopub.status.idle": "2022-08-04T00:49:38.147175Z",
     "shell.execute_reply": "2022-08-04T00:49:38.146622Z"
    },
    "papermill": {
     "duration": 0.043307,
     "end_time": "2022-08-04T00:49:38.147302",
     "exception": false,
     "start_time": "2022-08-04T00:49:38.103995",
     "status": "completed"
    },
    "tags": []
   },
   "outputs": [],
   "source": [
    "# #hide\n",
    "# fig, ax = plt.subplots(figsize=(15, 8))\n",
    "\n",
    "# def draw_barchart(current_day):\n",
    "#     dff = g[g['day'].eq(current_day)].sort_values(by='value', ascending=True).tail(10)\n",
    "#     ax.clear()\n",
    "#     ax.barh(dff['name'], dff['value'], color=[colors[group_lk[x]] for x in dff['name']])\n",
    "#     dx = dff['value'].max() / 200\n",
    "    \n",
    "#     for i, (value, name) in enumerate(zip(dff['value'], dff['name'])):\n",
    "#         ax.text(value-dx, i,     name,           size=14, weight=600, ha='right', va='bottom')\n",
    "#         ax.text(value-dx, i-.25, group_lk[name], size=10, color='#444444', ha='right', va='baseline')\n",
    "#         ax.text(value+dx, i,     f'{value:,.0f}',  size=14, ha='left',  va='center')\n",
    "#     ax.text(1, 0.4, current_day, transform=ax.transAxes, color='#777777', size=46, ha='right', weight=800)\n",
    "#     ax.text(0, 1.06, 'Population (thousands)', transform=ax.transAxes, size=12, color='#777777')\n",
    "#     ax.xaxis.set_major_formatter(ticker.StrMethodFormatter('{x:,.0f}'))\n",
    "#     ax.xaxis.set_ticks_position('top')\n",
    "#     ax.tick_params(axis='x', colors='#777777', labelsize=12)\n",
    "#     ax.set_yticks([])\n",
    "#     ax.margins(0, 0.01)\n",
    "#     ax.grid(which='major', axis='x', linestyle='-')\n",
    "#     ax.set_axisbelow(True)\n",
    "    \n",
    "#     ax.text(0, 1.15, 'Coronavirus',\n",
    "#             transform=ax.transAxes, size=24, weight=600, ha='left', va='top')\n",
    "# #     ax.text(1, 0, 'by @pratapvardhan; credit @jburnmurdoch', transform=ax.transAxes, color='#777777', ha='right',\n",
    "# #             bbox=dict(facecolor='white', alpha=0.8, edgecolor='white'))\n",
    "#     plt.box(False)"
   ]
  },
  {
   "cell_type": "code",
   "execution_count": 42,
   "id": "sexual-wages",
   "metadata": {
    "execution": {
     "iopub.execute_input": "2022-08-04T00:49:38.224741Z",
     "iopub.status.busy": "2022-08-04T00:49:38.224026Z",
     "iopub.status.idle": "2022-08-04T00:49:38.226753Z",
     "shell.execute_reply": "2022-08-04T00:49:38.226194Z"
    },
    "papermill": {
     "duration": 0.044834,
     "end_time": "2022-08-04T00:49:38.226880",
     "exception": false,
     "start_time": "2022-08-04T00:49:38.182046",
     "status": "completed"
    },
    "tags": []
   },
   "outputs": [],
   "source": [
    "# #hide_input\n",
    "# fig, ax = plt.subplots(figsize=(15, 8))\n",
    "# animator = animation.FuncAnimation(fig, draw_barchart, frames=range(g.day.values.min(), g.day.values.max()))\n",
    "# HTML(animator.to_jshtml())\n",
    "# # or use animator.to_html5_video() or animator.save() "
   ]
  },
  {
   "cell_type": "code",
   "execution_count": null,
   "id": "australian-container",
   "metadata": {
    "papermill": {
     "duration": 0.034619,
     "end_time": "2022-08-04T00:49:38.297128",
     "exception": false,
     "start_time": "2022-08-04T00:49:38.262509",
     "status": "completed"
    },
    "tags": []
   },
   "outputs": [],
   "source": []
  },
  {
   "cell_type": "code",
   "execution_count": null,
   "id": "mediterranean-pontiac",
   "metadata": {
    "papermill": {
     "duration": 0.035099,
     "end_time": "2022-08-04T00:49:38.367909",
     "exception": false,
     "start_time": "2022-08-04T00:49:38.332810",
     "status": "completed"
    },
    "tags": []
   },
   "outputs": [],
   "source": []
  },
  {
   "cell_type": "code",
   "execution_count": null,
   "id": "aging-legislature",
   "metadata": {
    "papermill": {
     "duration": 0.041737,
     "end_time": "2022-08-04T00:49:38.446922",
     "exception": false,
     "start_time": "2022-08-04T00:49:38.405185",
     "status": "completed"
    },
    "tags": []
   },
   "outputs": [],
   "source": []
  }
 ],
 "metadata": {
  "kernelspec": {
   "display_name": "Python 3",
   "language": "python",
   "name": "python3"
  },
  "language_info": {
   "codemirror_mode": {
    "name": "ipython",
    "version": 3
   },
   "file_extension": ".py",
   "mimetype": "text/x-python",
   "name": "python",
   "nbconvert_exporter": "python",
   "pygments_lexer": "ipython3",
   "version": "3.6.15"
  },
  "papermill": {
   "duration": 7.193621,
   "end_time": "2022-08-04T00:49:38.906287",
   "environment_variables": {},
   "exception": null,
   "input_path": "2020-03-21-covid19exp.ipynb",
   "output_path": "2020-03-21-covid19exp.ipynb",
   "parameters": {},
   "start_time": "2022-08-04T00:49:31.712666",
   "version": "2.0.0"
  }
 },
 "nbformat": 4,
 "nbformat_minor": 5
}