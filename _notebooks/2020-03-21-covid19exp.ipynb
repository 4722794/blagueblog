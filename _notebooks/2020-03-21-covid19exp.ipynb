{
 "cells": [
  {
   "cell_type": "markdown",
   "id": "muslim-click",
   "metadata": {
    "papermill": {
     "duration": 0.044681,
     "end_time": "2022-11-20T00:47:53.355790",
     "exception": false,
     "start_time": "2022-11-20T00:47:53.311109",
     "status": "completed"
    },
    "tags": []
   },
   "source": [
    "# COVID-19 Case Race\n",
    "> A race chart to see rising cases around the world\n",
    "\n",
    "- author: Hargun Oberoi\n",
    "- image: images/covid-overview.png\n",
    "- hide: false\n",
    "- badges: false"
   ]
  },
  {
   "cell_type": "code",
   "execution_count": 1,
   "id": "proof-material",
   "metadata": {
    "execution": {
     "iopub.execute_input": "2022-11-20T00:47:53.452320Z",
     "iopub.status.busy": "2022-11-20T00:47:53.448086Z",
     "iopub.status.idle": "2022-11-20T00:47:53.863519Z",
     "shell.execute_reply": "2022-11-20T00:47:53.862486Z"
    },
    "papermill": {
     "duration": 0.469289,
     "end_time": "2022-11-20T00:47:53.863692",
     "exception": false,
     "start_time": "2022-11-20T00:47:53.394403",
     "status": "completed"
    },
    "tags": []
   },
   "outputs": [],
   "source": [
    "#hide\n",
    "import numpy as np\n",
    "import pandas as pd\n",
    "from jinja2 import Template\n",
    "from IPython.display import HTML"
   ]
  },
  {
   "cell_type": "code",
   "execution_count": 2,
   "id": "developed-terminology",
   "metadata": {
    "execution": {
     "iopub.execute_input": "2022-11-20T00:47:53.950121Z",
     "iopub.status.busy": "2022-11-20T00:47:53.949350Z",
     "iopub.status.idle": "2022-11-20T00:47:53.954165Z",
     "shell.execute_reply": "2022-11-20T00:47:53.953498Z"
    },
    "papermill": {
     "duration": 0.050883,
     "end_time": "2022-11-20T00:47:53.954341",
     "exception": false,
     "start_time": "2022-11-20T00:47:53.903458",
     "status": "completed"
    },
    "tags": []
   },
   "outputs": [],
   "source": [
    "#hide\n",
    "\n",
    "# FETCH\n",
    "base_url = 'https://raw.githubusercontent.com/pratapvardhan/notebooks/master/covid19/'\n",
    "paths = {\n",
    "    'mapping': base_url + 'mapping_countries.csv',\n",
    "    'overview': base_url + 'overview.tpl'\n",
    "}"
   ]
  },
  {
   "cell_type": "code",
   "execution_count": 3,
   "id": "dynamic-saver",
   "metadata": {
    "execution": {
     "iopub.execute_input": "2022-11-20T00:47:54.045303Z",
     "iopub.status.busy": "2022-11-20T00:47:54.044560Z",
     "iopub.status.idle": "2022-11-20T00:47:54.048970Z",
     "shell.execute_reply": "2022-11-20T00:47:54.048385Z"
    },
    "papermill": {
     "duration": 0.054815,
     "end_time": "2022-11-20T00:47:54.049123",
     "exception": false,
     "start_time": "2022-11-20T00:47:53.994308",
     "status": "completed"
    },
    "tags": []
   },
   "outputs": [
    {
     "data": {
      "text/plain": [
       "'https://raw.githubusercontent.com/pratapvardhan/notebooks/master/covid19/mapping_countries.csv'"
      ]
     },
     "execution_count": 3,
     "metadata": {},
     "output_type": "execute_result"
    }
   ],
   "source": [
    "#hide\n",
    "paths['mapping']"
   ]
  },
  {
   "cell_type": "code",
   "execution_count": 4,
   "id": "urban-software",
   "metadata": {
    "execution": {
     "iopub.execute_input": "2022-11-20T00:47:54.138188Z",
     "iopub.status.busy": "2022-11-20T00:47:54.137401Z",
     "iopub.status.idle": "2022-11-20T00:47:54.141075Z",
     "shell.execute_reply": "2022-11-20T00:47:54.140104Z"
    },
    "papermill": {
     "duration": 0.048554,
     "end_time": "2022-11-20T00:47:54.141203",
     "exception": false,
     "start_time": "2022-11-20T00:47:54.092649",
     "status": "completed"
    },
    "tags": []
   },
   "outputs": [],
   "source": [
    "#hide\n",
    "def get_mappings(url):\n",
    "    df = pd.read_csv(url)\n",
    "    return {\n",
    "        'df': df,\n",
    "        'replace.country': dict(df.dropna(subset=['Name']).set_index('Country')['Name']),\n",
    "        'map.continent': dict(df.set_index('Name')['Continent'])\n",
    "    }"
   ]
  },
  {
   "cell_type": "code",
   "execution_count": 5,
   "id": "intimate-machinery",
   "metadata": {
    "execution": {
     "iopub.execute_input": "2022-11-20T00:47:54.231881Z",
     "iopub.status.busy": "2022-11-20T00:47:54.231053Z",
     "iopub.status.idle": "2022-11-20T00:47:54.272677Z",
     "shell.execute_reply": "2022-11-20T00:47:54.271956Z"
    },
    "papermill": {
     "duration": 0.092784,
     "end_time": "2022-11-20T00:47:54.272814",
     "exception": false,
     "start_time": "2022-11-20T00:47:54.180030",
     "status": "completed"
    },
    "tags": []
   },
   "outputs": [],
   "source": [
    "#hide\n",
    "mapping = get_mappings(paths['mapping'])"
   ]
  },
  {
   "cell_type": "code",
   "execution_count": 6,
   "id": "certified-tactics",
   "metadata": {
    "execution": {
     "iopub.execute_input": "2022-11-20T00:47:54.360168Z",
     "iopub.status.busy": "2022-11-20T00:47:54.359434Z",
     "iopub.status.idle": "2022-11-20T00:47:54.362381Z",
     "shell.execute_reply": "2022-11-20T00:47:54.361792Z"
    },
    "papermill": {
     "duration": 0.049836,
     "end_time": "2022-11-20T00:47:54.362506",
     "exception": false,
     "start_time": "2022-11-20T00:47:54.312670",
     "status": "completed"
    },
    "tags": []
   },
   "outputs": [],
   "source": [
    "#hide\n",
    "def get_template(path):\n",
    "    from urllib.parse import urlparse\n",
    "    if bool(urlparse(path).netloc):\n",
    "        from urllib.request import urlopen\n",
    "        return urlopen(path).read().decode('utf8')\n",
    "    return open(path).read()"
   ]
  },
  {
   "cell_type": "code",
   "execution_count": 7,
   "id": "realistic-blast",
   "metadata": {
    "execution": {
     "iopub.execute_input": "2022-11-20T00:47:54.445089Z",
     "iopub.status.busy": "2022-11-20T00:47:54.444303Z",
     "iopub.status.idle": "2022-11-20T00:47:54.447596Z",
     "shell.execute_reply": "2022-11-20T00:47:54.446958Z"
    },
    "papermill": {
     "duration": 0.047919,
     "end_time": "2022-11-20T00:47:54.447737",
     "exception": false,
     "start_time": "2022-11-20T00:47:54.399818",
     "status": "completed"
    },
    "tags": []
   },
   "outputs": [],
   "source": [
    "#hide\n",
    "def get_frame(name):\n",
    "    url = (\n",
    "        'https://raw.githubusercontent.com/CSSEGISandData/COVID-19/master/csse_covid_19_data/'\n",
    "        f'csse_covid_19_time_series/time_series_covid19_{name}_global.csv')\n",
    "    df = pd.read_csv(url)\n",
    "    # rename countries\n",
    "    df['Country/Region'] = df['Country/Region'].replace(mapping['replace.country'])\n",
    "    return df"
   ]
  },
  {
   "cell_type": "code",
   "execution_count": 8,
   "id": "affiliated-characterization",
   "metadata": {
    "execution": {
     "iopub.execute_input": "2022-11-20T00:47:54.533192Z",
     "iopub.status.busy": "2022-11-20T00:47:54.532376Z",
     "iopub.status.idle": "2022-11-20T00:47:54.535739Z",
     "shell.execute_reply": "2022-11-20T00:47:54.535150Z"
    },
    "papermill": {
     "duration": 0.048422,
     "end_time": "2022-11-20T00:47:54.535868",
     "exception": false,
     "start_time": "2022-11-20T00:47:54.487446",
     "status": "completed"
    },
    "tags": []
   },
   "outputs": [],
   "source": [
    "#hide\n",
    "def get_dates(df):\n",
    "    dt_cols = df.columns[~df.columns.isin(['Province/State', 'Country/Region', 'Lat', 'Long'])]\n",
    "    LAST_DATE_I = -1\n",
    "    # sometimes last column may be empty, then go backwards\n",
    "    for i in range(-1, -len(dt_cols), -1):\n",
    "        if not df[dt_cols[i]].fillna(0).eq(0).all():\n",
    "            LAST_DATE_I = i\n",
    "            break\n",
    "    return LAST_DATE_I, dt_cols"
   ]
  },
  {
   "cell_type": "code",
   "execution_count": 9,
   "id": "recent-optimization",
   "metadata": {
    "execution": {
     "iopub.execute_input": "2022-11-20T00:47:54.624836Z",
     "iopub.status.busy": "2022-11-20T00:47:54.624038Z",
     "iopub.status.idle": "2022-11-20T00:47:55.259198Z",
     "shell.execute_reply": "2022-11-20T00:47:55.258543Z"
    },
    "papermill": {
     "duration": 0.681865,
     "end_time": "2022-11-20T00:47:55.259342",
     "exception": false,
     "start_time": "2022-11-20T00:47:54.577477",
     "status": "completed"
    },
    "tags": []
   },
   "outputs": [],
   "source": [
    "#hide\n",
    "COL_REGION = 'Country/Region'\n",
    "# Confirmed, Recovered, Deaths\n",
    "df = get_frame('confirmed')\n",
    "# dft_: timeseries, dfc_: today country agg\n",
    "dft_cases = df\n",
    "dft_deaths = get_frame('deaths')\n",
    "dft_recovered = get_frame('recovered')\n",
    "LAST_DATE_I, dt_cols = get_dates(df)"
   ]
  },
  {
   "cell_type": "code",
   "execution_count": 10,
   "id": "absolute-copper",
   "metadata": {
    "execution": {
     "iopub.execute_input": "2022-11-20T00:47:55.344172Z",
     "iopub.status.busy": "2022-11-20T00:47:55.343337Z",
     "iopub.status.idle": "2022-11-20T00:47:55.348291Z",
     "shell.execute_reply": "2022-11-20T00:47:55.348878Z"
    },
    "papermill": {
     "duration": 0.051377,
     "end_time": "2022-11-20T00:47:55.349049",
     "exception": false,
     "start_time": "2022-11-20T00:47:55.297672",
     "status": "completed"
    },
    "tags": []
   },
   "outputs": [],
   "source": [
    "#hide\n",
    "LAST_DATE_I, dt_cols = get_dates(df)\n",
    "dt_today =dt_cols[LAST_DATE_I]\n",
    "# dt_5day = dt_cols[LAST_DATE_I - 5]\n",
    "dt_yday = dt_cols[LAST_DATE_I - 1]"
   ]
  },
  {
   "cell_type": "code",
   "execution_count": 11,
   "id": "restricted-sheriff",
   "metadata": {
    "execution": {
     "iopub.execute_input": "2022-11-20T00:47:55.441542Z",
     "iopub.status.busy": "2022-11-20T00:47:55.440806Z",
     "iopub.status.idle": "2022-11-20T00:47:55.450645Z",
     "shell.execute_reply": "2022-11-20T00:47:55.451758Z"
    },
    "papermill": {
     "duration": 0.059387,
     "end_time": "2022-11-20T00:47:55.451963",
     "exception": false,
     "start_time": "2022-11-20T00:47:55.392576",
     "status": "completed"
    },
    "tags": []
   },
   "outputs": [],
   "source": [
    "#hide\n",
    "dfc_cases = dft_cases.groupby(COL_REGION)[dt_today].sum()\n",
    "dfc_deaths = dft_deaths.groupby(COL_REGION)[dt_today].sum()\n",
    "# dfp_cases = dft_cases.groupby(COL_REGION)[dt_5day].sum()\n",
    "# dfp_deaths = dft_deaths.groupby(COL_REGION)[dt_5day].sum()\n",
    "dfp_cases = dft_cases.groupby(COL_REGION)[dt_yday].sum()\n",
    "dfp_deaths = dft_deaths.groupby(COL_REGION)[dt_yday].sum()"
   ]
  },
  {
   "cell_type": "code",
   "execution_count": 12,
   "id": "deluxe-hepatitis",
   "metadata": {
    "execution": {
     "iopub.execute_input": "2022-11-20T00:47:55.542723Z",
     "iopub.status.busy": "2022-11-20T00:47:55.541892Z",
     "iopub.status.idle": "2022-11-20T00:47:55.548066Z",
     "shell.execute_reply": "2022-11-20T00:47:55.548775Z"
    },
    "papermill": {
     "duration": 0.053161,
     "end_time": "2022-11-20T00:47:55.548940",
     "exception": false,
     "start_time": "2022-11-20T00:47:55.495779",
     "status": "completed"
    },
    "tags": []
   },
   "outputs": [],
   "source": [
    "#hide\n",
    "df_table = (pd.DataFrame(dict(Cases = dfc_cases, Deaths = dfc_deaths, PCases = dfp_cases, PDeaths = dfp_deaths))\n",
    "            .sort_values(by = ['Cases','Deaths'], ascending = [False, False])\n",
    "            .reset_index())"
   ]
  },
  {
   "cell_type": "code",
   "execution_count": 13,
   "id": "educational-chancellor",
   "metadata": {
    "execution": {
     "iopub.execute_input": "2022-11-20T00:47:55.652460Z",
     "iopub.status.busy": "2022-11-20T00:47:55.651714Z",
     "iopub.status.idle": "2022-11-20T00:47:55.663285Z",
     "shell.execute_reply": "2022-11-20T00:47:55.662581Z"
    },
    "papermill": {
     "duration": 0.073875,
     "end_time": "2022-11-20T00:47:55.663422",
     "exception": false,
     "start_time": "2022-11-20T00:47:55.589547",
     "status": "completed"
    },
    "tags": []
   },
   "outputs": [
    {
     "data": {
      "text/html": [
       "<div>\n",
       "<style scoped>\n",
       "    .dataframe tbody tr th:only-of-type {\n",
       "        vertical-align: middle;\n",
       "    }\n",
       "\n",
       "    .dataframe tbody tr th {\n",
       "        vertical-align: top;\n",
       "    }\n",
       "\n",
       "    .dataframe thead th {\n",
       "        text-align: right;\n",
       "    }\n",
       "</style>\n",
       "<table border=\"1\" class=\"dataframe\">\n",
       "  <thead>\n",
       "    <tr style=\"text-align: right;\">\n",
       "      <th></th>\n",
       "      <th>Country/Region</th>\n",
       "      <th>Cases</th>\n",
       "      <th>Deaths</th>\n",
       "      <th>PCases</th>\n",
       "      <th>PDeaths</th>\n",
       "      <th>Cases (+)</th>\n",
       "      <th>Deaths (+)</th>\n",
       "      <th>Fatality Rate</th>\n",
       "      <th>Continent</th>\n",
       "    </tr>\n",
       "  </thead>\n",
       "  <tbody>\n",
       "    <tr>\n",
       "      <th>0</th>\n",
       "      <td>US</td>\n",
       "      <td>98301472</td>\n",
       "      <td>1077020</td>\n",
       "      <td>98246749</td>\n",
       "      <td>1076492</td>\n",
       "      <td>54723</td>\n",
       "      <td>528</td>\n",
       "      <td>1.10</td>\n",
       "      <td>North America</td>\n",
       "    </tr>\n",
       "    <tr>\n",
       "      <th>1</th>\n",
       "      <td>India</td>\n",
       "      <td>44669748</td>\n",
       "      <td>530570</td>\n",
       "      <td>44667967</td>\n",
       "      <td>530553</td>\n",
       "      <td>1781</td>\n",
       "      <td>17</td>\n",
       "      <td>1.19</td>\n",
       "      <td>Asia</td>\n",
       "    </tr>\n",
       "    <tr>\n",
       "      <th>2</th>\n",
       "      <td>France</td>\n",
       "      <td>37508185</td>\n",
       "      <td>159203</td>\n",
       "      <td>37471008</td>\n",
       "      <td>159129</td>\n",
       "      <td>37177</td>\n",
       "      <td>74</td>\n",
       "      <td>0.42</td>\n",
       "      <td>Europe</td>\n",
       "    </tr>\n",
       "    <tr>\n",
       "      <th>3</th>\n",
       "      <td>Germany</td>\n",
       "      <td>36205405</td>\n",
       "      <td>156613</td>\n",
       "      <td>36180077</td>\n",
       "      <td>156410</td>\n",
       "      <td>25328</td>\n",
       "      <td>203</td>\n",
       "      <td>0.43</td>\n",
       "      <td>Europe</td>\n",
       "    </tr>\n",
       "    <tr>\n",
       "      <th>4</th>\n",
       "      <td>Brazil</td>\n",
       "      <td>34999495</td>\n",
       "      <td>688907</td>\n",
       "      <td>34971043</td>\n",
       "      <td>688835</td>\n",
       "      <td>28452</td>\n",
       "      <td>72</td>\n",
       "      <td>1.97</td>\n",
       "      <td>South America</td>\n",
       "    </tr>\n",
       "  </tbody>\n",
       "</table>\n",
       "</div>"
      ],
      "text/plain": [
       "  Country/Region     Cases   Deaths    PCases  PDeaths  Cases (+)  Deaths (+)  \\\n",
       "0             US  98301472  1077020  98246749  1076492      54723         528   \n",
       "1          India  44669748   530570  44667967   530553       1781          17   \n",
       "2         France  37508185   159203  37471008   159129      37177          74   \n",
       "3        Germany  36205405   156613  36180077   156410      25328         203   \n",
       "4         Brazil  34999495   688907  34971043   688835      28452          72   \n",
       "\n",
       "   Fatality Rate      Continent  \n",
       "0           1.10  North America  \n",
       "1           1.19           Asia  \n",
       "2           0.42         Europe  \n",
       "3           0.43         Europe  \n",
       "4           1.97  South America  "
      ]
     },
     "execution_count": 13,
     "metadata": {},
     "output_type": "execute_result"
    }
   ],
   "source": [
    "#hide\n",
    "for c in 'Cases, Deaths'.split(', '):\n",
    "    df_table[f'{c} (+)'] = (df_table[c] - df_table[f'P{c}']).clip(0)\n",
    "    #Clip ça veut dire, les chiffres negatif sont interdit\n",
    "df_table['Fatality Rate'] = (100* df_table['Deaths']/ df_table['Cases']).round(2)\n",
    "df_table['Continent'] = df_table['Country/Region'].map(mapping['map.continent'])\n",
    "df_table.head(5)"
   ]
  },
  {
   "cell_type": "code",
   "execution_count": 14,
   "id": "aboriginal-bulgaria",
   "metadata": {
    "execution": {
     "iopub.execute_input": "2022-11-20T00:47:55.756556Z",
     "iopub.status.busy": "2022-11-20T00:47:55.755823Z",
     "iopub.status.idle": "2022-11-20T00:47:55.758914Z",
     "shell.execute_reply": "2022-11-20T00:47:55.759532Z"
    },
    "papermill": {
     "duration": 0.05181,
     "end_time": "2022-11-20T00:47:55.759710",
     "exception": false,
     "start_time": "2022-11-20T00:47:55.707900",
     "status": "completed"
    },
    "tags": []
   },
   "outputs": [],
   "source": [
    "#hide\n",
    "#delete problematic countries from table\n",
    "df_table = df_table[~df_table['Country/Region'].isin(['Cape Verde', 'Cruise Ship', 'Kosovo'])]"
   ]
  },
  {
   "cell_type": "code",
   "execution_count": 15,
   "id": "fantastic-effect",
   "metadata": {
    "execution": {
     "iopub.execute_input": "2022-11-20T00:47:55.850497Z",
     "iopub.status.busy": "2022-11-20T00:47:55.849758Z",
     "iopub.status.idle": "2022-11-20T00:47:55.874071Z",
     "shell.execute_reply": "2022-11-20T00:47:55.874780Z"
    },
    "papermill": {
     "duration": 0.07514,
     "end_time": "2022-11-20T00:47:55.874924",
     "exception": false,
     "start_time": "2022-11-20T00:47:55.799784",
     "status": "completed"
    },
    "tags": []
   },
   "outputs": [
    {
     "data": {
      "text/html": [
       "<div>\n",
       "<style scoped>\n",
       "    .dataframe tbody tr th:only-of-type {\n",
       "        vertical-align: middle;\n",
       "    }\n",
       "\n",
       "    .dataframe tbody tr th {\n",
       "        vertical-align: top;\n",
       "    }\n",
       "\n",
       "    .dataframe thead th {\n",
       "        text-align: right;\n",
       "    }\n",
       "</style>\n",
       "<table border=\"1\" class=\"dataframe\">\n",
       "  <thead>\n",
       "    <tr style=\"text-align: right;\">\n",
       "      <th></th>\n",
       "      <th>Country/Region</th>\n",
       "      <th>Cases</th>\n",
       "      <th>Deaths</th>\n",
       "      <th>PCases</th>\n",
       "      <th>PDeaths</th>\n",
       "      <th>Cases (+)</th>\n",
       "      <th>Deaths (+)</th>\n",
       "      <th>Fatality Rate</th>\n",
       "      <th>Continent</th>\n",
       "    </tr>\n",
       "  </thead>\n",
       "  <tbody>\n",
       "    <tr>\n",
       "      <th>0</th>\n",
       "      <td>US</td>\n",
       "      <td>98301472</td>\n",
       "      <td>1077020</td>\n",
       "      <td>98246749</td>\n",
       "      <td>1076492</td>\n",
       "      <td>54723</td>\n",
       "      <td>528</td>\n",
       "      <td>1.1</td>\n",
       "      <td>North America</td>\n",
       "    </tr>\n",
       "    <tr>\n",
       "      <th>1</th>\n",
       "      <td>India</td>\n",
       "      <td>44669748</td>\n",
       "      <td>530570</td>\n",
       "      <td>44667967</td>\n",
       "      <td>530553</td>\n",
       "      <td>1781</td>\n",
       "      <td>17</td>\n",
       "      <td>1.2</td>\n",
       "      <td>Asia</td>\n",
       "    </tr>\n",
       "    <tr>\n",
       "      <th>2</th>\n",
       "      <td>France</td>\n",
       "      <td>37508185</td>\n",
       "      <td>159203</td>\n",
       "      <td>37471008</td>\n",
       "      <td>159129</td>\n",
       "      <td>37177</td>\n",
       "      <td>74</td>\n",
       "      <td>0.4</td>\n",
       "      <td>Europe</td>\n",
       "    </tr>\n",
       "    <tr>\n",
       "      <th>3</th>\n",
       "      <td>Germany</td>\n",
       "      <td>36205405</td>\n",
       "      <td>156613</td>\n",
       "      <td>36180077</td>\n",
       "      <td>156410</td>\n",
       "      <td>25328</td>\n",
       "      <td>203</td>\n",
       "      <td>0.4</td>\n",
       "      <td>Europe</td>\n",
       "    </tr>\n",
       "    <tr>\n",
       "      <th>4</th>\n",
       "      <td>Brazil</td>\n",
       "      <td>34999495</td>\n",
       "      <td>688907</td>\n",
       "      <td>34971043</td>\n",
       "      <td>688835</td>\n",
       "      <td>28452</td>\n",
       "      <td>72</td>\n",
       "      <td>2.0</td>\n",
       "      <td>South America</td>\n",
       "    </tr>\n",
       "  </tbody>\n",
       "</table>\n",
       "</div>"
      ],
      "text/plain": [
       "  Country/Region     Cases   Deaths    PCases  PDeaths  Cases (+)  Deaths (+)  \\\n",
       "0             US  98301472  1077020  98246749  1076492      54723         528   \n",
       "1          India  44669748   530570  44667967   530553       1781          17   \n",
       "2         France  37508185   159203  37471008   159129      37177          74   \n",
       "3        Germany  36205405   156613  36180077   156410      25328         203   \n",
       "4         Brazil  34999495   688907  34971043   688835      28452          72   \n",
       "\n",
       "   Fatality Rate      Continent  \n",
       "0            1.1  North America  \n",
       "1            1.2           Asia  \n",
       "2            0.4         Europe  \n",
       "3            0.4         Europe  \n",
       "4            2.0  South America  "
      ]
     },
     "execution_count": 15,
     "metadata": {},
     "output_type": "execute_result"
    }
   ],
   "source": [
    "#hide\n",
    "df_table = (pd.DataFrame(dict(Cases=dfc_cases, Deaths=dfc_deaths, PCases=dfp_cases, PDeaths=dfp_deaths))\n",
    "             .sort_values(by=['Cases', 'Deaths'], ascending=[False, False])\n",
    "             .reset_index())\n",
    "df_table.rename(columns={'index': 'Country/Region'}, inplace=True)\n",
    "for c in 'Cases, Deaths'.split(', '):\n",
    "    df_table[f'{c} (+)'] = (df_table[c] - df_table[f'P{c}']).clip(0)  # DATA BUG\n",
    "df_table['Fatality Rate'] = (100 * df_table['Deaths'] / df_table['Cases']).round(1)\n",
    "df_table['Continent'] = df_table['Country/Region'].map(mapping['map.continent'])\n",
    "df_table.head(5)"
   ]
  },
  {
   "cell_type": "code",
   "execution_count": 16,
   "id": "fewer-occasion",
   "metadata": {
    "execution": {
     "iopub.execute_input": "2022-11-20T00:47:55.964022Z",
     "iopub.status.busy": "2022-11-20T00:47:55.963135Z",
     "iopub.status.idle": "2022-11-20T00:47:55.966733Z",
     "shell.execute_reply": "2022-11-20T00:47:55.966055Z"
    },
    "papermill": {
     "duration": 0.051907,
     "end_time": "2022-11-20T00:47:55.966864",
     "exception": false,
     "start_time": "2022-11-20T00:47:55.914957",
     "status": "completed"
    },
    "tags": []
   },
   "outputs": [],
   "source": [
    "#hide\n",
    "#delete problematic countries from table\n",
    "df_table = df_table[~df_table['Country/Region'].isin(['Cape Verde', 'Cruise Ship', 'Kosovo'])]"
   ]
  },
  {
   "cell_type": "code",
   "execution_count": 17,
   "id": "related-center",
   "metadata": {
    "execution": {
     "iopub.execute_input": "2022-11-20T00:47:56.070747Z",
     "iopub.status.busy": "2022-11-20T00:47:56.069878Z",
     "iopub.status.idle": "2022-11-20T00:47:56.075324Z",
     "shell.execute_reply": "2022-11-20T00:47:56.074654Z"
    },
    "papermill": {
     "duration": 0.068711,
     "end_time": "2022-11-20T00:47:56.075471",
     "exception": false,
     "start_time": "2022-11-20T00:47:56.006760",
     "status": "completed"
    },
    "tags": []
   },
   "outputs": [],
   "source": [
    "#hide\n",
    "metrics = [df_table.columns[index] for index in [1,2,5,6]]\n",
    "# s_china = df_table[df_table['Country/Region'].eq('China')][metrics].sum().add_prefix('China ')\n",
    "s_us = df_table[df_table['Country/Region'].eq('US')][metrics].sum().add_prefix('US ')\n",
    "s_eu = df_table[df_table['Continent'].eq('Europe')][metrics].sum().add_prefix('EU ')\n",
    "s_ind = df_table[df_table['Country/Region'].eq('India')][metrics].sum().add_prefix('India ')\n",
    "summary = {'updated': pd.to_datetime(dt_today), 'since': pd.to_datetime(dt_yday)}\n",
    "summary = {'updated': pd.to_datetime(dt_today), 'since': pd.to_datetime(dt_yday)}\n",
    "summary = {**summary, **df_table[metrics].sum(), **s_ind, **s_us, **s_eu}"
   ]
  },
  {
   "cell_type": "code",
   "execution_count": 18,
   "id": "engaging-syndrome",
   "metadata": {
    "execution": {
     "iopub.execute_input": "2022-11-20T00:47:56.170615Z",
     "iopub.status.busy": "2022-11-20T00:47:56.168383Z",
     "iopub.status.idle": "2022-11-20T00:47:56.190735Z",
     "shell.execute_reply": "2022-11-20T00:47:56.190068Z"
    },
    "papermill": {
     "duration": 0.073677,
     "end_time": "2022-11-20T00:47:56.190882",
     "exception": false,
     "start_time": "2022-11-20T00:47:56.117205",
     "status": "completed"
    },
    "tags": []
   },
   "outputs": [],
   "source": [
    "#hide\n",
    "dft_ct_new_cases = dft_cases.groupby(COL_REGION)[dt_cols].sum().diff(axis=1).fillna(0).astype(int)"
   ]
  },
  {
   "cell_type": "code",
   "execution_count": 19,
   "id": "neutral-assignment",
   "metadata": {
    "execution": {
     "iopub.execute_input": "2022-11-20T00:47:56.280660Z",
     "iopub.status.busy": "2022-11-20T00:47:56.279862Z",
     "iopub.status.idle": "2022-11-20T00:47:56.284745Z",
     "shell.execute_reply": "2022-11-20T00:47:56.285447Z"
    },
    "papermill": {
     "duration": 0.053142,
     "end_time": "2022-11-20T00:47:56.285605",
     "exception": false,
     "start_time": "2022-11-20T00:47:56.232463",
     "status": "completed"
    },
    "tags": []
   },
   "outputs": [],
   "source": [
    "#hide\n",
    "everydaycases = dft_ct_new_cases.cumsum(axis=1)"
   ]
  },
  {
   "cell_type": "code",
   "execution_count": 20,
   "id": "parliamentary-calgary",
   "metadata": {
    "execution": {
     "iopub.execute_input": "2022-11-20T00:47:56.379046Z",
     "iopub.status.busy": "2022-11-20T00:47:56.378275Z",
     "iopub.status.idle": "2022-11-20T00:47:57.070473Z",
     "shell.execute_reply": "2022-11-20T00:47:57.069369Z"
    },
    "papermill": {
     "duration": 0.744485,
     "end_time": "2022-11-20T00:47:57.070620",
     "exception": false,
     "start_time": "2022-11-20T00:47:56.326135",
     "status": "completed"
    },
    "tags": []
   },
   "outputs": [],
   "source": [
    "#hide\n",
    "import pandas as pd\n",
    "import matplotlib.pyplot as plt\n",
    "import matplotlib.ticker as ticker\n",
    "import matplotlib.animation as animation\n",
    "from IPython.display import HTML"
   ]
  },
  {
   "cell_type": "code",
   "execution_count": 21,
   "id": "lasting-extraction",
   "metadata": {
    "execution": {
     "iopub.execute_input": "2022-11-20T00:47:57.160089Z",
     "iopub.status.busy": "2022-11-20T00:47:57.159416Z",
     "iopub.status.idle": "2022-11-20T00:47:57.168210Z",
     "shell.execute_reply": "2022-11-20T00:47:57.167190Z"
    },
    "papermill": {
     "duration": 0.054274,
     "end_time": "2022-11-20T00:47:57.168357",
     "exception": false,
     "start_time": "2022-11-20T00:47:57.114083",
     "status": "completed"
    },
    "tags": []
   },
   "outputs": [],
   "source": [
    "#hide\n",
    "t = everydaycases.stack()"
   ]
  },
  {
   "cell_type": "code",
   "execution_count": 22,
   "id": "premier-sleeve",
   "metadata": {
    "execution": {
     "iopub.execute_input": "2022-11-20T00:47:57.252624Z",
     "iopub.status.busy": "2022-11-20T00:47:57.251644Z",
     "iopub.status.idle": "2022-11-20T00:47:57.266768Z",
     "shell.execute_reply": "2022-11-20T00:47:57.267381Z"
    },
    "papermill": {
     "duration": 0.058885,
     "end_time": "2022-11-20T00:47:57.267638",
     "exception": false,
     "start_time": "2022-11-20T00:47:57.208753",
     "status": "completed"
    },
    "tags": []
   },
   "outputs": [],
   "source": [
    "#hide\n",
    "g = t.reset_index(['Country/Region'])"
   ]
  },
  {
   "cell_type": "code",
   "execution_count": 23,
   "id": "distributed-pittsburgh",
   "metadata": {
    "execution": {
     "iopub.execute_input": "2022-11-20T00:47:57.356040Z",
     "iopub.status.busy": "2022-11-20T00:47:57.355271Z",
     "iopub.status.idle": "2022-11-20T00:47:57.360430Z",
     "shell.execute_reply": "2022-11-20T00:47:57.359839Z"
    },
    "papermill": {
     "duration": 0.051883,
     "end_time": "2022-11-20T00:47:57.360558",
     "exception": false,
     "start_time": "2022-11-20T00:47:57.308675",
     "status": "completed"
    },
    "tags": []
   },
   "outputs": [],
   "source": [
    "#hide\n",
    "g.index.name = 'date'"
   ]
  },
  {
   "cell_type": "code",
   "execution_count": 24,
   "id": "naked-donor",
   "metadata": {
    "execution": {
     "iopub.execute_input": "2022-11-20T00:47:57.446805Z",
     "iopub.status.busy": "2022-11-20T00:47:57.446038Z",
     "iopub.status.idle": "2022-11-20T00:47:57.450172Z",
     "shell.execute_reply": "2022-11-20T00:47:57.449471Z"
    },
    "papermill": {
     "duration": 0.050904,
     "end_time": "2022-11-20T00:47:57.450307",
     "exception": false,
     "start_time": "2022-11-20T00:47:57.399403",
     "status": "completed"
    },
    "tags": []
   },
   "outputs": [],
   "source": [
    "# #hide\n",
    "# g = g.reset_index(['date'])"
   ]
  },
  {
   "cell_type": "code",
   "execution_count": 25,
   "id": "incomplete-mustang",
   "metadata": {
    "execution": {
     "iopub.execute_input": "2022-11-20T00:47:57.536292Z",
     "iopub.status.busy": "2022-11-20T00:47:57.535441Z",
     "iopub.status.idle": "2022-11-20T00:47:57.544530Z",
     "shell.execute_reply": "2022-11-20T00:47:57.543627Z"
    },
    "papermill": {
     "duration": 0.053703,
     "end_time": "2022-11-20T00:47:57.544669",
     "exception": false,
     "start_time": "2022-11-20T00:47:57.490966",
     "status": "completed"
    },
    "tags": []
   },
   "outputs": [],
   "source": [
    "#hide\n",
    "# g.head()"
   ]
  },
  {
   "cell_type": "code",
   "execution_count": 26,
   "id": "specific-kruger",
   "metadata": {
    "execution": {
     "iopub.execute_input": "2022-11-20T00:47:57.628174Z",
     "iopub.status.busy": "2022-11-20T00:47:57.627398Z",
     "iopub.status.idle": "2022-11-20T00:47:57.632898Z",
     "shell.execute_reply": "2022-11-20T00:47:57.633429Z"
    },
    "papermill": {
     "duration": 0.048845,
     "end_time": "2022-11-20T00:47:57.633573",
     "exception": false,
     "start_time": "2022-11-20T00:47:57.584728",
     "status": "completed"
    },
    "tags": []
   },
   "outputs": [],
   "source": [
    "#hide\n",
    "# g.columns = ['date','country','cases']"
   ]
  },
  {
   "cell_type": "code",
   "execution_count": 27,
   "id": "tender-conversion",
   "metadata": {
    "execution": {
     "iopub.execute_input": "2022-11-20T00:47:57.721601Z",
     "iopub.status.busy": "2022-11-20T00:47:57.720785Z",
     "iopub.status.idle": "2022-11-20T00:47:57.722636Z",
     "shell.execute_reply": "2022-11-20T00:47:57.723254Z"
    },
    "papermill": {
     "duration": 0.047641,
     "end_time": "2022-11-20T00:47:57.723433",
     "exception": false,
     "start_time": "2022-11-20T00:47:57.675792",
     "status": "completed"
    },
    "tags": []
   },
   "outputs": [],
   "source": [
    "#hide\n",
    "# g['continent'] = g.country"
   ]
  },
  {
   "cell_type": "code",
   "execution_count": 28,
   "id": "substantial-wilderness",
   "metadata": {
    "execution": {
     "iopub.execute_input": "2022-11-20T00:47:57.808179Z",
     "iopub.status.busy": "2022-11-20T00:47:57.807382Z",
     "iopub.status.idle": "2022-11-20T00:47:57.810401Z",
     "shell.execute_reply": "2022-11-20T00:47:57.809735Z"
    },
    "papermill": {
     "duration": 0.047009,
     "end_time": "2022-11-20T00:47:57.810533",
     "exception": false,
     "start_time": "2022-11-20T00:47:57.763524",
     "status": "completed"
    },
    "tags": []
   },
   "outputs": [],
   "source": [
    "#hide\n",
    "# cols = list(g.columns.values)"
   ]
  },
  {
   "cell_type": "code",
   "execution_count": 29,
   "id": "solved-farming",
   "metadata": {
    "execution": {
     "iopub.execute_input": "2022-11-20T00:47:57.901292Z",
     "iopub.status.busy": "2022-11-20T00:47:57.900338Z",
     "iopub.status.idle": "2022-11-20T00:47:57.903892Z",
     "shell.execute_reply": "2022-11-20T00:47:57.903298Z"
    },
    "papermill": {
     "duration": 0.054547,
     "end_time": "2022-11-20T00:47:57.904022",
     "exception": false,
     "start_time": "2022-11-20T00:47:57.849475",
     "status": "completed"
    },
    "tags": []
   },
   "outputs": [],
   "source": [
    "#hide\n",
    "# cols.insert(0, cols.pop())"
   ]
  },
  {
   "cell_type": "code",
   "execution_count": 30,
   "id": "executed-adoption",
   "metadata": {
    "execution": {
     "iopub.execute_input": "2022-11-20T00:47:57.988752Z",
     "iopub.status.busy": "2022-11-20T00:47:57.987945Z",
     "iopub.status.idle": "2022-11-20T00:47:57.991322Z",
     "shell.execute_reply": "2022-11-20T00:47:57.990633Z"
    },
    "papermill": {
     "duration": 0.048636,
     "end_time": "2022-11-20T00:47:57.991460",
     "exception": false,
     "start_time": "2022-11-20T00:47:57.942824",
     "status": "completed"
    },
    "tags": []
   },
   "outputs": [],
   "source": [
    "#hide\n",
    "# g = g[cols]"
   ]
  },
  {
   "cell_type": "code",
   "execution_count": 31,
   "id": "subject-dublin",
   "metadata": {
    "execution": {
     "iopub.execute_input": "2022-11-20T00:47:58.076590Z",
     "iopub.status.busy": "2022-11-20T00:47:58.075815Z",
     "iopub.status.idle": "2022-11-20T00:47:58.080420Z",
     "shell.execute_reply": "2022-11-20T00:47:58.080994Z"
    },
    "papermill": {
     "duration": 0.049245,
     "end_time": "2022-11-20T00:47:58.081216",
     "exception": false,
     "start_time": "2022-11-20T00:47:58.031971",
     "status": "completed"
    },
    "tags": []
   },
   "outputs": [],
   "source": [
    "#hide\n",
    "# g['continent'] = g['continent'].map(mapping['map.continent'])"
   ]
  },
  {
   "cell_type": "code",
   "execution_count": 32,
   "id": "freelance-scout",
   "metadata": {
    "execution": {
     "iopub.execute_input": "2022-11-20T00:47:58.168052Z",
     "iopub.status.busy": "2022-11-20T00:47:58.167106Z",
     "iopub.status.idle": "2022-11-20T00:47:58.170483Z",
     "shell.execute_reply": "2022-11-20T00:47:58.169804Z"
    },
    "papermill": {
     "duration": 0.047308,
     "end_time": "2022-11-20T00:47:58.170606",
     "exception": false,
     "start_time": "2022-11-20T00:47:58.123298",
     "status": "completed"
    },
    "tags": []
   },
   "outputs": [],
   "source": [
    "#hide\n",
    "# g.head()"
   ]
  },
  {
   "cell_type": "code",
   "execution_count": 33,
   "id": "limited-engine",
   "metadata": {
    "execution": {
     "iopub.execute_input": "2022-11-20T00:47:58.259668Z",
     "iopub.status.busy": "2022-11-20T00:47:58.258843Z",
     "iopub.status.idle": "2022-11-20T00:47:58.262273Z",
     "shell.execute_reply": "2022-11-20T00:47:58.261380Z"
    },
    "papermill": {
     "duration": 0.049376,
     "end_time": "2022-11-20T00:47:58.262406",
     "exception": false,
     "start_time": "2022-11-20T00:47:58.213030",
     "status": "completed"
    },
    "tags": []
   },
   "outputs": [],
   "source": [
    "# hide\n",
    "# g['date'] = g['date'].astype('datetime64[ns]')"
   ]
  },
  {
   "cell_type": "code",
   "execution_count": 34,
   "id": "sophisticated-supervisor",
   "metadata": {
    "execution": {
     "iopub.execute_input": "2022-11-20T00:47:58.347462Z",
     "iopub.status.busy": "2022-11-20T00:47:58.346554Z",
     "iopub.status.idle": "2022-11-20T00:47:58.350455Z",
     "shell.execute_reply": "2022-11-20T00:47:58.349892Z"
    },
    "papermill": {
     "duration": 0.049803,
     "end_time": "2022-11-20T00:47:58.350579",
     "exception": false,
     "start_time": "2022-11-20T00:47:58.300776",
     "status": "completed"
    },
    "tags": []
   },
   "outputs": [],
   "source": [
    "#hide\n",
    "# g['date'] = g.date.dt.dayofyear"
   ]
  },
  {
   "cell_type": "code",
   "execution_count": 35,
   "id": "inside-dubai",
   "metadata": {
    "execution": {
     "iopub.execute_input": "2022-11-20T00:47:58.432863Z",
     "iopub.status.busy": "2022-11-20T00:47:58.432138Z",
     "iopub.status.idle": "2022-11-20T00:47:58.435401Z",
     "shell.execute_reply": "2022-11-20T00:47:58.434806Z"
    },
    "papermill": {
     "duration": 0.046067,
     "end_time": "2022-11-20T00:47:58.435537",
     "exception": false,
     "start_time": "2022-11-20T00:47:58.389470",
     "status": "completed"
    },
    "tags": []
   },
   "outputs": [],
   "source": [
    "#hide\n",
    "# g = g.rename(columns= {'continent':'group','country':'name','cases':'value'})"
   ]
  },
  {
   "cell_type": "code",
   "execution_count": 36,
   "id": "fleet-motorcycle",
   "metadata": {
    "execution": {
     "iopub.execute_input": "2022-11-20T00:47:58.523103Z",
     "iopub.status.busy": "2022-11-20T00:47:58.522309Z",
     "iopub.status.idle": "2022-11-20T00:47:58.525535Z",
     "shell.execute_reply": "2022-11-20T00:47:58.524835Z"
    },
    "papermill": {
     "duration": 0.048959,
     "end_time": "2022-11-20T00:47:58.525665",
     "exception": false,
     "start_time": "2022-11-20T00:47:58.476706",
     "status": "completed"
    },
    "tags": []
   },
   "outputs": [],
   "source": [
    "#hide\n",
    "# cols = ['name','group','day','value']"
   ]
  },
  {
   "cell_type": "code",
   "execution_count": 37,
   "id": "continued-sleeping",
   "metadata": {
    "execution": {
     "iopub.execute_input": "2022-11-20T00:47:58.614334Z",
     "iopub.status.busy": "2022-11-20T00:47:58.613583Z",
     "iopub.status.idle": "2022-11-20T00:47:58.617270Z",
     "shell.execute_reply": "2022-11-20T00:47:58.616659Z"
    },
    "papermill": {
     "duration": 0.05042,
     "end_time": "2022-11-20T00:47:58.617565",
     "exception": false,
     "start_time": "2022-11-20T00:47:58.567145",
     "status": "completed"
    },
    "tags": []
   },
   "outputs": [],
   "source": [
    "#hide\n",
    "# g.rename(columns= {'date':'day'},inplace = True)"
   ]
  },
  {
   "cell_type": "code",
   "execution_count": 38,
   "id": "major-fight",
   "metadata": {
    "execution": {
     "iopub.execute_input": "2022-11-20T00:47:58.710811Z",
     "iopub.status.busy": "2022-11-20T00:47:58.709931Z",
     "iopub.status.idle": "2022-11-20T00:47:58.713352Z",
     "shell.execute_reply": "2022-11-20T00:47:58.712720Z"
    },
    "papermill": {
     "duration": 0.051663,
     "end_time": "2022-11-20T00:47:58.713476",
     "exception": false,
     "start_time": "2022-11-20T00:47:58.661813",
     "status": "completed"
    },
    "tags": []
   },
   "outputs": [],
   "source": [
    "#hide\n",
    "# g = g[cols]"
   ]
  },
  {
   "cell_type": "code",
   "execution_count": 39,
   "id": "structured-mobile",
   "metadata": {
    "execution": {
     "iopub.execute_input": "2022-11-20T00:47:58.799934Z",
     "iopub.status.busy": "2022-11-20T00:47:58.799073Z",
     "iopub.status.idle": "2022-11-20T00:47:58.801768Z",
     "shell.execute_reply": "2022-11-20T00:47:58.802353Z"
    },
    "papermill": {
     "duration": 0.049204,
     "end_time": "2022-11-20T00:47:58.802515",
     "exception": false,
     "start_time": "2022-11-20T00:47:58.753311",
     "status": "completed"
    },
    "tags": []
   },
   "outputs": [],
   "source": [
    "# #hide\n",
    "# g = g[g.group.notna()]"
   ]
  },
  {
   "cell_type": "code",
   "execution_count": 40,
   "id": "determined-closing",
   "metadata": {
    "execution": {
     "iopub.execute_input": "2022-11-20T00:47:58.887668Z",
     "iopub.status.busy": "2022-11-20T00:47:58.886873Z",
     "iopub.status.idle": "2022-11-20T00:47:58.889518Z",
     "shell.execute_reply": "2022-11-20T00:47:58.888916Z"
    },
    "papermill": {
     "duration": 0.045736,
     "end_time": "2022-11-20T00:47:58.889730",
     "exception": false,
     "start_time": "2022-11-20T00:47:58.843994",
     "status": "completed"
    },
    "tags": []
   },
   "outputs": [],
   "source": [
    "# #hide\n",
    "# colors = dict(zip(\n",
    "#     [\"Oceania\", \"Europe\", \"Asia\", \"South America\", \"Middle East\", \"North America\", \"Africa\"],\n",
    "#     [\"#adb0ff\", \"#ffb3ff\", \"#90d595\", \"#e48381\", \"#aafbff\", \"#f7bb5f\", \"#eafb50\"]\n",
    "# ))\n",
    "# group_lk = g.set_index('name')['group'].to_dict()"
   ]
  },
  {
   "cell_type": "code",
   "execution_count": null,
   "id": "gross-drinking",
   "metadata": {
    "papermill": {
     "duration": 0.039115,
     "end_time": "2022-11-20T00:47:58.976659",
     "exception": false,
     "start_time": "2022-11-20T00:47:58.937544",
     "status": "completed"
    },
    "tags": []
   },
   "outputs": [],
   "source": []
  },
  {
   "cell_type": "code",
   "execution_count": 41,
   "id": "subject-macintosh",
   "metadata": {
    "execution": {
     "iopub.execute_input": "2022-11-20T00:47:59.061874Z",
     "iopub.status.busy": "2022-11-20T00:47:59.061094Z",
     "iopub.status.idle": "2022-11-20T00:47:59.064447Z",
     "shell.execute_reply": "2022-11-20T00:47:59.063579Z"
    },
    "papermill": {
     "duration": 0.048568,
     "end_time": "2022-11-20T00:47:59.064606",
     "exception": false,
     "start_time": "2022-11-20T00:47:59.016038",
     "status": "completed"
    },
    "tags": []
   },
   "outputs": [],
   "source": [
    "# #hide\n",
    "# fig, ax = plt.subplots(figsize=(15, 8))\n",
    "\n",
    "# def draw_barchart(current_day):\n",
    "#     dff = g[g['day'].eq(current_day)].sort_values(by='value', ascending=True).tail(10)\n",
    "#     ax.clear()\n",
    "#     ax.barh(dff['name'], dff['value'], color=[colors[group_lk[x]] for x in dff['name']])\n",
    "#     dx = dff['value'].max() / 200\n",
    "    \n",
    "#     for i, (value, name) in enumerate(zip(dff['value'], dff['name'])):\n",
    "#         ax.text(value-dx, i,     name,           size=14, weight=600, ha='right', va='bottom')\n",
    "#         ax.text(value-dx, i-.25, group_lk[name], size=10, color='#444444', ha='right', va='baseline')\n",
    "#         ax.text(value+dx, i,     f'{value:,.0f}',  size=14, ha='left',  va='center')\n",
    "#     ax.text(1, 0.4, current_day, transform=ax.transAxes, color='#777777', size=46, ha='right', weight=800)\n",
    "#     ax.text(0, 1.06, 'Population (thousands)', transform=ax.transAxes, size=12, color='#777777')\n",
    "#     ax.xaxis.set_major_formatter(ticker.StrMethodFormatter('{x:,.0f}'))\n",
    "#     ax.xaxis.set_ticks_position('top')\n",
    "#     ax.tick_params(axis='x', colors='#777777', labelsize=12)\n",
    "#     ax.set_yticks([])\n",
    "#     ax.margins(0, 0.01)\n",
    "#     ax.grid(which='major', axis='x', linestyle='-')\n",
    "#     ax.set_axisbelow(True)\n",
    "    \n",
    "#     ax.text(0, 1.15, 'Coronavirus',\n",
    "#             transform=ax.transAxes, size=24, weight=600, ha='left', va='top')\n",
    "# #     ax.text(1, 0, 'by @pratapvardhan; credit @jburnmurdoch', transform=ax.transAxes, color='#777777', ha='right',\n",
    "# #             bbox=dict(facecolor='white', alpha=0.8, edgecolor='white'))\n",
    "#     plt.box(False)"
   ]
  },
  {
   "cell_type": "code",
   "execution_count": 42,
   "id": "sexual-wages",
   "metadata": {
    "execution": {
     "iopub.execute_input": "2022-11-20T00:47:59.151366Z",
     "iopub.status.busy": "2022-11-20T00:47:59.150467Z",
     "iopub.status.idle": "2022-11-20T00:47:59.155223Z",
     "shell.execute_reply": "2022-11-20T00:47:59.155776Z"
    },
    "papermill": {
     "duration": 0.051349,
     "end_time": "2022-11-20T00:47:59.155921",
     "exception": false,
     "start_time": "2022-11-20T00:47:59.104572",
     "status": "completed"
    },
    "tags": []
   },
   "outputs": [],
   "source": [
    "# #hide_input\n",
    "# fig, ax = plt.subplots(figsize=(15, 8))\n",
    "# animator = animation.FuncAnimation(fig, draw_barchart, frames=range(g.day.values.min(), g.day.values.max()))\n",
    "# HTML(animator.to_jshtml())\n",
    "# # or use animator.to_html5_video() or animator.save() "
   ]
  },
  {
   "cell_type": "code",
   "execution_count": null,
   "id": "australian-container",
   "metadata": {
    "papermill": {
     "duration": 0.041781,
     "end_time": "2022-11-20T00:47:59.237923",
     "exception": false,
     "start_time": "2022-11-20T00:47:59.196142",
     "status": "completed"
    },
    "tags": []
   },
   "outputs": [],
   "source": []
  },
  {
   "cell_type": "code",
   "execution_count": null,
   "id": "mediterranean-pontiac",
   "metadata": {
    "papermill": {
     "duration": 0.037864,
     "end_time": "2022-11-20T00:47:59.315037",
     "exception": false,
     "start_time": "2022-11-20T00:47:59.277173",
     "status": "completed"
    },
    "tags": []
   },
   "outputs": [],
   "source": []
  },
  {
   "cell_type": "code",
   "execution_count": null,
   "id": "aging-legislature",
   "metadata": {
    "papermill": {
     "duration": 0.041034,
     "end_time": "2022-11-20T00:47:59.400686",
     "exception": false,
     "start_time": "2022-11-20T00:47:59.359652",
     "status": "completed"
    },
    "tags": []
   },
   "outputs": [],
   "source": []
  }
 ],
 "metadata": {
  "kernelspec": {
   "display_name": "Python 3",
   "language": "python",
   "name": "python3"
  },
  "language_info": {
   "codemirror_mode": {
    "name": "ipython",
    "version": 3
   },
   "file_extension": ".py",
   "mimetype": "text/x-python",
   "name": "python",
   "nbconvert_exporter": "python",
   "pygments_lexer": "ipython3",
   "version": "3.6.15"
  },
  "papermill": {
   "duration": 7.940623,
   "end_time": "2022-11-20T00:47:59.861741",
   "environment_variables": {},
   "exception": null,
   "input_path": "2020-03-21-covid19exp.ipynb",
   "output_path": "2020-03-21-covid19exp.ipynb",
   "parameters": {},
   "start_time": "2022-11-20T00:47:51.921118",
   "version": "2.0.0"
  }
 },
 "nbformat": 4,
 "nbformat_minor": 5
}