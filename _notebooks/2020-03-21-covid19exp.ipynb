{
 "cells": [
  {
   "cell_type": "markdown",
   "id": "muslim-click",
   "metadata": {
    "papermill": {
     "duration": 0.041364,
     "end_time": "2021-08-01T12:09:50.260972",
     "exception": false,
     "start_time": "2021-08-01T12:09:50.219608",
     "status": "completed"
    },
    "tags": []
   },
   "source": [
    "# COVID-19 Case Race\n",
    "> A race chart to see rising cases around the world\n",
    "\n",
    "- author: Hargun Oberoi\n",
    "- image: images/covid-overview.png\n",
    "- hide: false\n",
    "- badges: false"
   ]
  },
  {
   "cell_type": "code",
   "execution_count": 1,
   "id": "proof-material",
   "metadata": {
    "execution": {
     "iopub.execute_input": "2021-08-01T12:09:50.345196Z",
     "iopub.status.busy": "2021-08-01T12:09:50.344598Z",
     "iopub.status.idle": "2021-08-01T12:09:50.707180Z",
     "shell.execute_reply": "2021-08-01T12:09:50.706728Z"
    },
    "papermill": {
     "duration": 0.40464,
     "end_time": "2021-08-01T12:09:50.707324",
     "exception": false,
     "start_time": "2021-08-01T12:09:50.302684",
     "status": "completed"
    },
    "tags": []
   },
   "outputs": [],
   "source": [
    "#hide\n",
    "import numpy as np\n",
    "import pandas as pd\n",
    "from jinja2 import Template\n",
    "from IPython.display import HTML"
   ]
  },
  {
   "cell_type": "code",
   "execution_count": 2,
   "id": "developed-terminology",
   "metadata": {
    "execution": {
     "iopub.execute_input": "2021-08-01T12:09:50.778171Z",
     "iopub.status.busy": "2021-08-01T12:09:50.777544Z",
     "iopub.status.idle": "2021-08-01T12:09:50.779873Z",
     "shell.execute_reply": "2021-08-01T12:09:50.780441Z"
    },
    "papermill": {
     "duration": 0.040291,
     "end_time": "2021-08-01T12:09:50.780581",
     "exception": false,
     "start_time": "2021-08-01T12:09:50.740290",
     "status": "completed"
    },
    "tags": []
   },
   "outputs": [],
   "source": [
    "#hide\n",
    "\n",
    "# FETCH\n",
    "base_url = 'https://raw.githubusercontent.com/pratapvardhan/notebooks/master/covid19/'\n",
    "paths = {\n",
    "    'mapping': base_url + 'mapping_countries.csv',\n",
    "    'overview': base_url + 'overview.tpl'\n",
    "}"
   ]
  },
  {
   "cell_type": "code",
   "execution_count": 3,
   "id": "dynamic-saver",
   "metadata": {
    "execution": {
     "iopub.execute_input": "2021-08-01T12:09:50.854839Z",
     "iopub.status.busy": "2021-08-01T12:09:50.854299Z",
     "iopub.status.idle": "2021-08-01T12:09:50.857909Z",
     "shell.execute_reply": "2021-08-01T12:09:50.858461Z"
    },
    "papermill": {
     "duration": 0.045665,
     "end_time": "2021-08-01T12:09:50.858597",
     "exception": false,
     "start_time": "2021-08-01T12:09:50.812932",
     "status": "completed"
    },
    "tags": []
   },
   "outputs": [
    {
     "data": {
      "text/plain": [
       "'https://raw.githubusercontent.com/pratapvardhan/notebooks/master/covid19/mapping_countries.csv'"
      ]
     },
     "execution_count": 3,
     "metadata": {},
     "output_type": "execute_result"
    }
   ],
   "source": [
    "#hide\n",
    "paths['mapping']"
   ]
  },
  {
   "cell_type": "code",
   "execution_count": 4,
   "id": "urban-software",
   "metadata": {
    "execution": {
     "iopub.execute_input": "2021-08-01T12:09:50.929773Z",
     "iopub.status.busy": "2021-08-01T12:09:50.929170Z",
     "iopub.status.idle": "2021-08-01T12:09:50.933145Z",
     "shell.execute_reply": "2021-08-01T12:09:50.932658Z"
    },
    "papermill": {
     "duration": 0.042269,
     "end_time": "2021-08-01T12:09:50.933271",
     "exception": false,
     "start_time": "2021-08-01T12:09:50.891002",
     "status": "completed"
    },
    "tags": []
   },
   "outputs": [],
   "source": [
    "#hide\n",
    "def get_mappings(url):\n",
    "    df = pd.read_csv(url)\n",
    "    return {\n",
    "        'df': df,\n",
    "        'replace.country': dict(df.dropna(subset=['Name']).set_index('Country')['Name']),\n",
    "        'map.continent': dict(df.set_index('Name')['Continent'])\n",
    "    }"
   ]
  },
  {
   "cell_type": "code",
   "execution_count": 5,
   "id": "intimate-machinery",
   "metadata": {
    "execution": {
     "iopub.execute_input": "2021-08-01T12:09:51.005419Z",
     "iopub.status.busy": "2021-08-01T12:09:51.004836Z",
     "iopub.status.idle": "2021-08-01T12:09:51.034978Z",
     "shell.execute_reply": "2021-08-01T12:09:51.035662Z"
    },
    "papermill": {
     "duration": 0.070362,
     "end_time": "2021-08-01T12:09:51.035887",
     "exception": false,
     "start_time": "2021-08-01T12:09:50.965525",
     "status": "completed"
    },
    "tags": []
   },
   "outputs": [],
   "source": [
    "#hide\n",
    "mapping = get_mappings(paths['mapping'])"
   ]
  },
  {
   "cell_type": "code",
   "execution_count": 6,
   "id": "certified-tactics",
   "metadata": {
    "execution": {
     "iopub.execute_input": "2021-08-01T12:09:51.109143Z",
     "iopub.status.busy": "2021-08-01T12:09:51.108575Z",
     "iopub.status.idle": "2021-08-01T12:09:51.110693Z",
     "shell.execute_reply": "2021-08-01T12:09:51.110234Z"
    },
    "papermill": {
     "duration": 0.040272,
     "end_time": "2021-08-01T12:09:51.110805",
     "exception": false,
     "start_time": "2021-08-01T12:09:51.070533",
     "status": "completed"
    },
    "tags": []
   },
   "outputs": [],
   "source": [
    "#hide\n",
    "def get_template(path):\n",
    "    from urllib.parse import urlparse\n",
    "    if bool(urlparse(path).netloc):\n",
    "        from urllib.request import urlopen\n",
    "        return urlopen(path).read().decode('utf8')\n",
    "    return open(path).read()"
   ]
  },
  {
   "cell_type": "code",
   "execution_count": 7,
   "id": "realistic-blast",
   "metadata": {
    "execution": {
     "iopub.execute_input": "2021-08-01T12:09:51.182022Z",
     "iopub.status.busy": "2021-08-01T12:09:51.181408Z",
     "iopub.status.idle": "2021-08-01T12:09:51.184138Z",
     "shell.execute_reply": "2021-08-01T12:09:51.184715Z"
    },
    "papermill": {
     "duration": 0.041575,
     "end_time": "2021-08-01T12:09:51.184849",
     "exception": false,
     "start_time": "2021-08-01T12:09:51.143274",
     "status": "completed"
    },
    "tags": []
   },
   "outputs": [],
   "source": [
    "#hide\n",
    "def get_frame(name):\n",
    "    url = (\n",
    "        'https://raw.githubusercontent.com/CSSEGISandData/COVID-19/master/csse_covid_19_data/'\n",
    "        f'csse_covid_19_time_series/time_series_covid19_{name}_global.csv')\n",
    "    df = pd.read_csv(url)\n",
    "    # rename countries\n",
    "    df['Country/Region'] = df['Country/Region'].replace(mapping['replace.country'])\n",
    "    return df"
   ]
  },
  {
   "cell_type": "code",
   "execution_count": 8,
   "id": "affiliated-characterization",
   "metadata": {
    "execution": {
     "iopub.execute_input": "2021-08-01T12:09:51.256501Z",
     "iopub.status.busy": "2021-08-01T12:09:51.255954Z",
     "iopub.status.idle": "2021-08-01T12:09:51.258365Z",
     "shell.execute_reply": "2021-08-01T12:09:51.257926Z"
    },
    "papermill": {
     "duration": 0.04053,
     "end_time": "2021-08-01T12:09:51.258482",
     "exception": false,
     "start_time": "2021-08-01T12:09:51.217952",
     "status": "completed"
    },
    "tags": []
   },
   "outputs": [],
   "source": [
    "#hide\n",
    "def get_dates(df):\n",
    "    dt_cols = df.columns[~df.columns.isin(['Province/State', 'Country/Region', 'Lat', 'Long'])]\n",
    "    LAST_DATE_I = -1\n",
    "    # sometimes last column may be empty, then go backwards\n",
    "    for i in range(-1, -len(dt_cols), -1):\n",
    "        if not df[dt_cols[i]].fillna(0).eq(0).all():\n",
    "            LAST_DATE_I = i\n",
    "            break\n",
    "    return LAST_DATE_I, dt_cols"
   ]
  },
  {
   "cell_type": "code",
   "execution_count": 9,
   "id": "recent-optimization",
   "metadata": {
    "execution": {
     "iopub.execute_input": "2021-08-01T12:09:51.328651Z",
     "iopub.status.busy": "2021-08-01T12:09:51.328021Z",
     "iopub.status.idle": "2021-08-01T12:09:51.625986Z",
     "shell.execute_reply": "2021-08-01T12:09:51.625078Z"
    },
    "papermill": {
     "duration": 0.335567,
     "end_time": "2021-08-01T12:09:51.626209",
     "exception": false,
     "start_time": "2021-08-01T12:09:51.290642",
     "status": "completed"
    },
    "tags": []
   },
   "outputs": [],
   "source": [
    "#hide\n",
    "COL_REGION = 'Country/Region'\n",
    "# Confirmed, Recovered, Deaths\n",
    "df = get_frame('confirmed')\n",
    "# dft_: timeseries, dfc_: today country agg\n",
    "dft_cases = df\n",
    "dft_deaths = get_frame('deaths')\n",
    "dft_recovered = get_frame('recovered')\n",
    "LAST_DATE_I, dt_cols = get_dates(df)"
   ]
  },
  {
   "cell_type": "code",
   "execution_count": 10,
   "id": "absolute-copper",
   "metadata": {
    "execution": {
     "iopub.execute_input": "2021-08-01T12:09:51.698862Z",
     "iopub.status.busy": "2021-08-01T12:09:51.698323Z",
     "iopub.status.idle": "2021-08-01T12:09:51.700826Z",
     "shell.execute_reply": "2021-08-01T12:09:51.701411Z"
    },
    "papermill": {
     "duration": 0.040385,
     "end_time": "2021-08-01T12:09:51.701546",
     "exception": false,
     "start_time": "2021-08-01T12:09:51.661161",
     "status": "completed"
    },
    "tags": []
   },
   "outputs": [],
   "source": [
    "#hide\n",
    "LAST_DATE_I, dt_cols = get_dates(df)\n",
    "dt_today =dt_cols[LAST_DATE_I]\n",
    "# dt_5day = dt_cols[LAST_DATE_I - 5]\n",
    "dt_yday = dt_cols[LAST_DATE_I - 1]"
   ]
  },
  {
   "cell_type": "code",
   "execution_count": 11,
   "id": "restricted-sheriff",
   "metadata": {
    "execution": {
     "iopub.execute_input": "2021-08-01T12:09:51.774843Z",
     "iopub.status.busy": "2021-08-01T12:09:51.774320Z",
     "iopub.status.idle": "2021-08-01T12:09:51.780890Z",
     "shell.execute_reply": "2021-08-01T12:09:51.780425Z"
    },
    "papermill": {
     "duration": 0.048515,
     "end_time": "2021-08-01T12:09:51.781013",
     "exception": false,
     "start_time": "2021-08-01T12:09:51.732498",
     "status": "completed"
    },
    "tags": []
   },
   "outputs": [],
   "source": [
    "#hide\n",
    "dfc_cases = dft_cases.groupby(COL_REGION)[dt_today].sum()\n",
    "dfc_deaths = dft_deaths.groupby(COL_REGION)[dt_today].sum()\n",
    "# dfp_cases = dft_cases.groupby(COL_REGION)[dt_5day].sum()\n",
    "# dfp_deaths = dft_deaths.groupby(COL_REGION)[dt_5day].sum()\n",
    "dfp_cases = dft_cases.groupby(COL_REGION)[dt_yday].sum()\n",
    "dfp_deaths = dft_deaths.groupby(COL_REGION)[dt_yday].sum()"
   ]
  },
  {
   "cell_type": "code",
   "execution_count": 12,
   "id": "deluxe-hepatitis",
   "metadata": {
    "execution": {
     "iopub.execute_input": "2021-08-01T12:09:51.853759Z",
     "iopub.status.busy": "2021-08-01T12:09:51.853134Z",
     "iopub.status.idle": "2021-08-01T12:09:51.859370Z",
     "shell.execute_reply": "2021-08-01T12:09:51.858899Z"
    },
    "papermill": {
     "duration": 0.047159,
     "end_time": "2021-08-01T12:09:51.859485",
     "exception": false,
     "start_time": "2021-08-01T12:09:51.812326",
     "status": "completed"
    },
    "tags": []
   },
   "outputs": [],
   "source": [
    "#hide\n",
    "df_table = (pd.DataFrame(dict(Cases = dfc_cases, Deaths = dfc_deaths, PCases = dfp_cases, PDeaths = dfp_deaths))\n",
    "            .sort_values(by = ['Cases','Deaths'], ascending = [False, False])\n",
    "            .reset_index())"
   ]
  },
  {
   "cell_type": "code",
   "execution_count": 13,
   "id": "educational-chancellor",
   "metadata": {
    "execution": {
     "iopub.execute_input": "2021-08-01T12:09:51.934482Z",
     "iopub.status.busy": "2021-08-01T12:09:51.933882Z",
     "iopub.status.idle": "2021-08-01T12:09:51.955054Z",
     "shell.execute_reply": "2021-08-01T12:09:51.955673Z"
    },
    "papermill": {
     "duration": 0.063399,
     "end_time": "2021-08-01T12:09:51.955844",
     "exception": false,
     "start_time": "2021-08-01T12:09:51.892445",
     "status": "completed"
    },
    "tags": []
   },
   "outputs": [
    {
     "data": {
      "text/html": [
       "<div>\n",
       "<style scoped>\n",
       "    .dataframe tbody tr th:only-of-type {\n",
       "        vertical-align: middle;\n",
       "    }\n",
       "\n",
       "    .dataframe tbody tr th {\n",
       "        vertical-align: top;\n",
       "    }\n",
       "\n",
       "    .dataframe thead th {\n",
       "        text-align: right;\n",
       "    }\n",
       "</style>\n",
       "<table border=\"1\" class=\"dataframe\">\n",
       "  <thead>\n",
       "    <tr style=\"text-align: right;\">\n",
       "      <th></th>\n",
       "      <th>Country/Region</th>\n",
       "      <th>Cases</th>\n",
       "      <th>Deaths</th>\n",
       "      <th>PCases</th>\n",
       "      <th>PDeaths</th>\n",
       "      <th>Cases (+)</th>\n",
       "      <th>Deaths (+)</th>\n",
       "      <th>Fatality Rate</th>\n",
       "      <th>Continent</th>\n",
       "    </tr>\n",
       "  </thead>\n",
       "  <tbody>\n",
       "    <tr>\n",
       "      <th>0</th>\n",
       "      <td>US</td>\n",
       "      <td>34978276</td>\n",
       "      <td>613157</td>\n",
       "      <td>34945468</td>\n",
       "      <td>613013</td>\n",
       "      <td>32808</td>\n",
       "      <td>144</td>\n",
       "      <td>1.75</td>\n",
       "      <td>North America</td>\n",
       "    </tr>\n",
       "    <tr>\n",
       "      <th>1</th>\n",
       "      <td>India</td>\n",
       "      <td>31655824</td>\n",
       "      <td>424351</td>\n",
       "      <td>31613993</td>\n",
       "      <td>423810</td>\n",
       "      <td>41831</td>\n",
       "      <td>541</td>\n",
       "      <td>1.34</td>\n",
       "      <td>Asia</td>\n",
       "    </tr>\n",
       "    <tr>\n",
       "      <th>2</th>\n",
       "      <td>Brazil</td>\n",
       "      <td>19917855</td>\n",
       "      <td>556370</td>\n",
       "      <td>19880273</td>\n",
       "      <td>555460</td>\n",
       "      <td>37582</td>\n",
       "      <td>910</td>\n",
       "      <td>2.79</td>\n",
       "      <td>South America</td>\n",
       "    </tr>\n",
       "    <tr>\n",
       "      <th>3</th>\n",
       "      <td>France</td>\n",
       "      <td>6190334</td>\n",
       "      <td>112055</td>\n",
       "      <td>6166690</td>\n",
       "      <td>112011</td>\n",
       "      <td>23644</td>\n",
       "      <td>44</td>\n",
       "      <td>1.81</td>\n",
       "      <td>Europe</td>\n",
       "    </tr>\n",
       "    <tr>\n",
       "      <th>4</th>\n",
       "      <td>Russia</td>\n",
       "      <td>6185249</td>\n",
       "      <td>155952</td>\n",
       "      <td>6161985</td>\n",
       "      <td>155180</td>\n",
       "      <td>23264</td>\n",
       "      <td>772</td>\n",
       "      <td>2.52</td>\n",
       "      <td>Europe</td>\n",
       "    </tr>\n",
       "  </tbody>\n",
       "</table>\n",
       "</div>"
      ],
      "text/plain": [
       "  Country/Region     Cases  Deaths    PCases  PDeaths  Cases (+)  Deaths (+)  \\\n",
       "0             US  34978276  613157  34945468   613013      32808         144   \n",
       "1          India  31655824  424351  31613993   423810      41831         541   \n",
       "2         Brazil  19917855  556370  19880273   555460      37582         910   \n",
       "3         France   6190334  112055   6166690   112011      23644          44   \n",
       "4         Russia   6185249  155952   6161985   155180      23264         772   \n",
       "\n",
       "   Fatality Rate      Continent  \n",
       "0           1.75  North America  \n",
       "1           1.34           Asia  \n",
       "2           2.79  South America  \n",
       "3           1.81         Europe  \n",
       "4           2.52         Europe  "
      ]
     },
     "execution_count": 13,
     "metadata": {},
     "output_type": "execute_result"
    }
   ],
   "source": [
    "#hide\n",
    "for c in 'Cases, Deaths'.split(', '):\n",
    "    df_table[f'{c} (+)'] = (df_table[c] - df_table[f'P{c}']).clip(0)\n",
    "    #Clip ça veut dire, les chiffres negatif sont interdit\n",
    "df_table['Fatality Rate'] = (100* df_table['Deaths']/ df_table['Cases']).round(2)\n",
    "df_table['Continent'] = df_table['Country/Region'].map(mapping['map.continent'])\n",
    "df_table.head(5)"
   ]
  },
  {
   "cell_type": "code",
   "execution_count": 14,
   "id": "aboriginal-bulgaria",
   "metadata": {
    "execution": {
     "iopub.execute_input": "2021-08-01T12:09:52.029170Z",
     "iopub.status.busy": "2021-08-01T12:09:52.028600Z",
     "iopub.status.idle": "2021-08-01T12:09:52.030720Z",
     "shell.execute_reply": "2021-08-01T12:09:52.031201Z"
    },
    "papermill": {
     "duration": 0.042166,
     "end_time": "2021-08-01T12:09:52.031331",
     "exception": false,
     "start_time": "2021-08-01T12:09:51.989165",
     "status": "completed"
    },
    "tags": []
   },
   "outputs": [],
   "source": [
    "#hide\n",
    "#delete problematic countries from table\n",
    "df_table = df_table[~df_table['Country/Region'].isin(['Cape Verde', 'Cruise Ship', 'Kosovo'])]"
   ]
  },
  {
   "cell_type": "code",
   "execution_count": 15,
   "id": "fantastic-effect",
   "metadata": {
    "execution": {
     "iopub.execute_input": "2021-08-01T12:09:52.106121Z",
     "iopub.status.busy": "2021-08-01T12:09:52.105473Z",
     "iopub.status.idle": "2021-08-01T12:09:52.126312Z",
     "shell.execute_reply": "2021-08-01T12:09:52.126862Z"
    },
    "papermill": {
     "duration": 0.062937,
     "end_time": "2021-08-01T12:09:52.127047",
     "exception": false,
     "start_time": "2021-08-01T12:09:52.064110",
     "status": "completed"
    },
    "tags": []
   },
   "outputs": [
    {
     "data": {
      "text/html": [
       "<div>\n",
       "<style scoped>\n",
       "    .dataframe tbody tr th:only-of-type {\n",
       "        vertical-align: middle;\n",
       "    }\n",
       "\n",
       "    .dataframe tbody tr th {\n",
       "        vertical-align: top;\n",
       "    }\n",
       "\n",
       "    .dataframe thead th {\n",
       "        text-align: right;\n",
       "    }\n",
       "</style>\n",
       "<table border=\"1\" class=\"dataframe\">\n",
       "  <thead>\n",
       "    <tr style=\"text-align: right;\">\n",
       "      <th></th>\n",
       "      <th>Country/Region</th>\n",
       "      <th>Cases</th>\n",
       "      <th>Deaths</th>\n",
       "      <th>PCases</th>\n",
       "      <th>PDeaths</th>\n",
       "      <th>Cases (+)</th>\n",
       "      <th>Deaths (+)</th>\n",
       "      <th>Fatality Rate</th>\n",
       "      <th>Continent</th>\n",
       "    </tr>\n",
       "  </thead>\n",
       "  <tbody>\n",
       "    <tr>\n",
       "      <th>0</th>\n",
       "      <td>US</td>\n",
       "      <td>34978276</td>\n",
       "      <td>613157</td>\n",
       "      <td>34945468</td>\n",
       "      <td>613013</td>\n",
       "      <td>32808</td>\n",
       "      <td>144</td>\n",
       "      <td>1.8</td>\n",
       "      <td>North America</td>\n",
       "    </tr>\n",
       "    <tr>\n",
       "      <th>1</th>\n",
       "      <td>India</td>\n",
       "      <td>31655824</td>\n",
       "      <td>424351</td>\n",
       "      <td>31613993</td>\n",
       "      <td>423810</td>\n",
       "      <td>41831</td>\n",
       "      <td>541</td>\n",
       "      <td>1.3</td>\n",
       "      <td>Asia</td>\n",
       "    </tr>\n",
       "    <tr>\n",
       "      <th>2</th>\n",
       "      <td>Brazil</td>\n",
       "      <td>19917855</td>\n",
       "      <td>556370</td>\n",
       "      <td>19880273</td>\n",
       "      <td>555460</td>\n",
       "      <td>37582</td>\n",
       "      <td>910</td>\n",
       "      <td>2.8</td>\n",
       "      <td>South America</td>\n",
       "    </tr>\n",
       "    <tr>\n",
       "      <th>3</th>\n",
       "      <td>France</td>\n",
       "      <td>6190334</td>\n",
       "      <td>112055</td>\n",
       "      <td>6166690</td>\n",
       "      <td>112011</td>\n",
       "      <td>23644</td>\n",
       "      <td>44</td>\n",
       "      <td>1.8</td>\n",
       "      <td>Europe</td>\n",
       "    </tr>\n",
       "    <tr>\n",
       "      <th>4</th>\n",
       "      <td>Russia</td>\n",
       "      <td>6185249</td>\n",
       "      <td>155952</td>\n",
       "      <td>6161985</td>\n",
       "      <td>155180</td>\n",
       "      <td>23264</td>\n",
       "      <td>772</td>\n",
       "      <td>2.5</td>\n",
       "      <td>Europe</td>\n",
       "    </tr>\n",
       "  </tbody>\n",
       "</table>\n",
       "</div>"
      ],
      "text/plain": [
       "  Country/Region     Cases  Deaths    PCases  PDeaths  Cases (+)  Deaths (+)  \\\n",
       "0             US  34978276  613157  34945468   613013      32808         144   \n",
       "1          India  31655824  424351  31613993   423810      41831         541   \n",
       "2         Brazil  19917855  556370  19880273   555460      37582         910   \n",
       "3         France   6190334  112055   6166690   112011      23644          44   \n",
       "4         Russia   6185249  155952   6161985   155180      23264         772   \n",
       "\n",
       "   Fatality Rate      Continent  \n",
       "0            1.8  North America  \n",
       "1            1.3           Asia  \n",
       "2            2.8  South America  \n",
       "3            1.8         Europe  \n",
       "4            2.5         Europe  "
      ]
     },
     "execution_count": 15,
     "metadata": {},
     "output_type": "execute_result"
    }
   ],
   "source": [
    "#hide\n",
    "df_table = (pd.DataFrame(dict(Cases=dfc_cases, Deaths=dfc_deaths, PCases=dfp_cases, PDeaths=dfp_deaths))\n",
    "             .sort_values(by=['Cases', 'Deaths'], ascending=[False, False])\n",
    "             .reset_index())\n",
    "df_table.rename(columns={'index': 'Country/Region'}, inplace=True)\n",
    "for c in 'Cases, Deaths'.split(', '):\n",
    "    df_table[f'{c} (+)'] = (df_table[c] - df_table[f'P{c}']).clip(0)  # DATA BUG\n",
    "df_table['Fatality Rate'] = (100 * df_table['Deaths'] / df_table['Cases']).round(1)\n",
    "df_table['Continent'] = df_table['Country/Region'].map(mapping['map.continent'])\n",
    "df_table.head(5)"
   ]
  },
  {
   "cell_type": "code",
   "execution_count": 16,
   "id": "fewer-occasion",
   "metadata": {
    "execution": {
     "iopub.execute_input": "2021-08-01T12:09:52.203439Z",
     "iopub.status.busy": "2021-08-01T12:09:52.202851Z",
     "iopub.status.idle": "2021-08-01T12:09:52.205515Z",
     "shell.execute_reply": "2021-08-01T12:09:52.205048Z"
    },
    "papermill": {
     "duration": 0.043786,
     "end_time": "2021-08-01T12:09:52.205667",
     "exception": false,
     "start_time": "2021-08-01T12:09:52.161881",
     "status": "completed"
    },
    "tags": []
   },
   "outputs": [],
   "source": [
    "#hide\n",
    "#delete problematic countries from table\n",
    "df_table = df_table[~df_table['Country/Region'].isin(['Cape Verde', 'Cruise Ship', 'Kosovo'])]"
   ]
  },
  {
   "cell_type": "code",
   "execution_count": 17,
   "id": "related-center",
   "metadata": {
    "execution": {
     "iopub.execute_input": "2021-08-01T12:09:52.288855Z",
     "iopub.status.busy": "2021-08-01T12:09:52.288291Z",
     "iopub.status.idle": "2021-08-01T12:09:52.299190Z",
     "shell.execute_reply": "2021-08-01T12:09:52.298721Z"
    },
    "papermill": {
     "duration": 0.059306,
     "end_time": "2021-08-01T12:09:52.299328",
     "exception": false,
     "start_time": "2021-08-01T12:09:52.240022",
     "status": "completed"
    },
    "tags": []
   },
   "outputs": [],
   "source": [
    "#hide\n",
    "metrics = [df_table.columns[index] for index in [1,2,5,6]]\n",
    "# s_china = df_table[df_table['Country/Region'].eq('China')][metrics].sum().add_prefix('China ')\n",
    "s_us = df_table[df_table['Country/Region'].eq('US')][metrics].sum().add_prefix('US ')\n",
    "s_eu = df_table[df_table['Continent'].eq('Europe')][metrics].sum().add_prefix('EU ')\n",
    "s_ind = df_table[df_table['Country/Region'].eq('India')][metrics].sum().add_prefix('India ')\n",
    "summary = {'updated': pd.to_datetime(dt_today), 'since': pd.to_datetime(dt_yday)}\n",
    "summary = {'updated': pd.to_datetime(dt_today), 'since': pd.to_datetime(dt_yday)}\n",
    "summary = {**summary, **df_table[metrics].sum(), **s_ind, **s_us, **s_eu}"
   ]
  },
  {
   "cell_type": "code",
   "execution_count": 18,
   "id": "engaging-syndrome",
   "metadata": {
    "execution": {
     "iopub.execute_input": "2021-08-01T12:09:52.374681Z",
     "iopub.status.busy": "2021-08-01T12:09:52.374091Z",
     "iopub.status.idle": "2021-08-01T12:09:52.388899Z",
     "shell.execute_reply": "2021-08-01T12:09:52.389369Z"
    },
    "papermill": {
     "duration": 0.055576,
     "end_time": "2021-08-01T12:09:52.389511",
     "exception": false,
     "start_time": "2021-08-01T12:09:52.333935",
     "status": "completed"
    },
    "tags": []
   },
   "outputs": [],
   "source": [
    "#hide\n",
    "dft_ct_new_cases = dft_cases.groupby(COL_REGION)[dt_cols].sum().diff(axis=1).fillna(0).astype(int)"
   ]
  },
  {
   "cell_type": "code",
   "execution_count": 19,
   "id": "neutral-assignment",
   "metadata": {
    "execution": {
     "iopub.execute_input": "2021-08-01T12:09:52.463529Z",
     "iopub.status.busy": "2021-08-01T12:09:52.462948Z",
     "iopub.status.idle": "2021-08-01T12:09:52.465414Z",
     "shell.execute_reply": "2021-08-01T12:09:52.465917Z"
    },
    "papermill": {
     "duration": 0.043022,
     "end_time": "2021-08-01T12:09:52.466057",
     "exception": false,
     "start_time": "2021-08-01T12:09:52.423035",
     "status": "completed"
    },
    "tags": []
   },
   "outputs": [],
   "source": [
    "#hide\n",
    "everydaycases = dft_ct_new_cases.cumsum(axis=1)"
   ]
  },
  {
   "cell_type": "code",
   "execution_count": 20,
   "id": "parliamentary-calgary",
   "metadata": {
    "execution": {
     "iopub.execute_input": "2021-08-01T12:09:52.539362Z",
     "iopub.status.busy": "2021-08-01T12:09:52.538783Z",
     "iopub.status.idle": "2021-08-01T12:09:53.264288Z",
     "shell.execute_reply": "2021-08-01T12:09:53.263592Z"
    },
    "papermill": {
     "duration": 0.764214,
     "end_time": "2021-08-01T12:09:53.264476",
     "exception": false,
     "start_time": "2021-08-01T12:09:52.500262",
     "status": "completed"
    },
    "tags": []
   },
   "outputs": [],
   "source": [
    "#hide\n",
    "import pandas as pd\n",
    "import matplotlib.pyplot as plt\n",
    "import matplotlib.ticker as ticker\n",
    "import matplotlib.animation as animation\n",
    "from IPython.display import HTML"
   ]
  },
  {
   "cell_type": "code",
   "execution_count": 21,
   "id": "lasting-extraction",
   "metadata": {
    "execution": {
     "iopub.execute_input": "2021-08-01T12:09:53.338910Z",
     "iopub.status.busy": "2021-08-01T12:09:53.338350Z",
     "iopub.status.idle": "2021-08-01T12:09:53.349780Z",
     "shell.execute_reply": "2021-08-01T12:09:53.350249Z"
    },
    "papermill": {
     "duration": 0.051241,
     "end_time": "2021-08-01T12:09:53.350386",
     "exception": false,
     "start_time": "2021-08-01T12:09:53.299145",
     "status": "completed"
    },
    "tags": []
   },
   "outputs": [],
   "source": [
    "#hide\n",
    "t = everydaycases.stack()"
   ]
  },
  {
   "cell_type": "code",
   "execution_count": 22,
   "id": "premier-sleeve",
   "metadata": {
    "execution": {
     "iopub.execute_input": "2021-08-01T12:09:53.419519Z",
     "iopub.status.busy": "2021-08-01T12:09:53.418949Z",
     "iopub.status.idle": "2021-08-01T12:09:53.428562Z",
     "shell.execute_reply": "2021-08-01T12:09:53.428082Z"
    },
    "papermill": {
     "duration": 0.046332,
     "end_time": "2021-08-01T12:09:53.428680",
     "exception": false,
     "start_time": "2021-08-01T12:09:53.382348",
     "status": "completed"
    },
    "tags": []
   },
   "outputs": [],
   "source": [
    "#hide\n",
    "g = t.reset_index(['Country/Region'])"
   ]
  },
  {
   "cell_type": "code",
   "execution_count": 23,
   "id": "distributed-pittsburgh",
   "metadata": {
    "execution": {
     "iopub.execute_input": "2021-08-01T12:09:53.499910Z",
     "iopub.status.busy": "2021-08-01T12:09:53.499333Z",
     "iopub.status.idle": "2021-08-01T12:09:53.501968Z",
     "shell.execute_reply": "2021-08-01T12:09:53.501482Z"
    },
    "papermill": {
     "duration": 0.040304,
     "end_time": "2021-08-01T12:09:53.502093",
     "exception": false,
     "start_time": "2021-08-01T12:09:53.461789",
     "status": "completed"
    },
    "tags": []
   },
   "outputs": [],
   "source": [
    "#hide\n",
    "g.index.name = 'date'"
   ]
  },
  {
   "cell_type": "code",
   "execution_count": 24,
   "id": "naked-donor",
   "metadata": {
    "execution": {
     "iopub.execute_input": "2021-08-01T12:09:53.573860Z",
     "iopub.status.busy": "2021-08-01T12:09:53.573232Z",
     "iopub.status.idle": "2021-08-01T12:09:53.575305Z",
     "shell.execute_reply": "2021-08-01T12:09:53.575860Z"
    },
    "papermill": {
     "duration": 0.039798,
     "end_time": "2021-08-01T12:09:53.575997",
     "exception": false,
     "start_time": "2021-08-01T12:09:53.536199",
     "status": "completed"
    },
    "tags": []
   },
   "outputs": [],
   "source": [
    "# #hide\n",
    "# g = g.reset_index(['date'])"
   ]
  },
  {
   "cell_type": "code",
   "execution_count": 25,
   "id": "incomplete-mustang",
   "metadata": {
    "execution": {
     "iopub.execute_input": "2021-08-01T12:09:53.647492Z",
     "iopub.status.busy": "2021-08-01T12:09:53.646927Z",
     "iopub.status.idle": "2021-08-01T12:09:53.648767Z",
     "shell.execute_reply": "2021-08-01T12:09:53.649197Z"
    },
    "papermill": {
     "duration": 0.039657,
     "end_time": "2021-08-01T12:09:53.649344",
     "exception": false,
     "start_time": "2021-08-01T12:09:53.609687",
     "status": "completed"
    },
    "tags": []
   },
   "outputs": [],
   "source": [
    "#hide\n",
    "# g.head()"
   ]
  },
  {
   "cell_type": "code",
   "execution_count": 26,
   "id": "specific-kruger",
   "metadata": {
    "execution": {
     "iopub.execute_input": "2021-08-01T12:09:53.720602Z",
     "iopub.status.busy": "2021-08-01T12:09:53.720071Z",
     "iopub.status.idle": "2021-08-01T12:09:53.722953Z",
     "shell.execute_reply": "2021-08-01T12:09:53.723503Z"
    },
    "papermill": {
     "duration": 0.040791,
     "end_time": "2021-08-01T12:09:53.723641",
     "exception": false,
     "start_time": "2021-08-01T12:09:53.682850",
     "status": "completed"
    },
    "tags": []
   },
   "outputs": [],
   "source": [
    "#hide\n",
    "# g.columns = ['date','country','cases']"
   ]
  },
  {
   "cell_type": "code",
   "execution_count": 27,
   "id": "tender-conversion",
   "metadata": {
    "execution": {
     "iopub.execute_input": "2021-08-01T12:09:53.795832Z",
     "iopub.status.busy": "2021-08-01T12:09:53.795277Z",
     "iopub.status.idle": "2021-08-01T12:09:53.797405Z",
     "shell.execute_reply": "2021-08-01T12:09:53.797992Z"
    },
    "papermill": {
     "duration": 0.040682,
     "end_time": "2021-08-01T12:09:53.798134",
     "exception": false,
     "start_time": "2021-08-01T12:09:53.757452",
     "status": "completed"
    },
    "tags": []
   },
   "outputs": [],
   "source": [
    "#hide\n",
    "# g['continent'] = g.country"
   ]
  },
  {
   "cell_type": "code",
   "execution_count": 28,
   "id": "substantial-wilderness",
   "metadata": {
    "execution": {
     "iopub.execute_input": "2021-08-01T12:09:53.870120Z",
     "iopub.status.busy": "2021-08-01T12:09:53.869519Z",
     "iopub.status.idle": "2021-08-01T12:09:53.871353Z",
     "shell.execute_reply": "2021-08-01T12:09:53.871808Z"
    },
    "papermill": {
     "duration": 0.039645,
     "end_time": "2021-08-01T12:09:53.871939",
     "exception": false,
     "start_time": "2021-08-01T12:09:53.832294",
     "status": "completed"
    },
    "tags": []
   },
   "outputs": [],
   "source": [
    "#hide\n",
    "# cols = list(g.columns.values)"
   ]
  },
  {
   "cell_type": "code",
   "execution_count": 29,
   "id": "solved-farming",
   "metadata": {
    "execution": {
     "iopub.execute_input": "2021-08-01T12:09:53.943088Z",
     "iopub.status.busy": "2021-08-01T12:09:53.942512Z",
     "iopub.status.idle": "2021-08-01T12:09:53.944811Z",
     "shell.execute_reply": "2021-08-01T12:09:53.945333Z"
    },
    "papermill": {
     "duration": 0.040744,
     "end_time": "2021-08-01T12:09:53.945463",
     "exception": false,
     "start_time": "2021-08-01T12:09:53.904719",
     "status": "completed"
    },
    "tags": []
   },
   "outputs": [],
   "source": [
    "#hide\n",
    "# cols.insert(0, cols.pop())"
   ]
  },
  {
   "cell_type": "code",
   "execution_count": 30,
   "id": "executed-adoption",
   "metadata": {
    "execution": {
     "iopub.execute_input": "2021-08-01T12:09:54.017233Z",
     "iopub.status.busy": "2021-08-01T12:09:54.016696Z",
     "iopub.status.idle": "2021-08-01T12:09:54.019313Z",
     "shell.execute_reply": "2021-08-01T12:09:54.019861Z"
    },
    "papermill": {
     "duration": 0.041186,
     "end_time": "2021-08-01T12:09:54.020000",
     "exception": false,
     "start_time": "2021-08-01T12:09:53.978814",
     "status": "completed"
    },
    "tags": []
   },
   "outputs": [],
   "source": [
    "#hide\n",
    "# g = g[cols]"
   ]
  },
  {
   "cell_type": "code",
   "execution_count": 31,
   "id": "subject-dublin",
   "metadata": {
    "execution": {
     "iopub.execute_input": "2021-08-01T12:09:54.091645Z",
     "iopub.status.busy": "2021-08-01T12:09:54.091057Z",
     "iopub.status.idle": "2021-08-01T12:09:54.093524Z",
     "shell.execute_reply": "2021-08-01T12:09:54.093061Z"
    },
    "papermill": {
     "duration": 0.039713,
     "end_time": "2021-08-01T12:09:54.093697",
     "exception": false,
     "start_time": "2021-08-01T12:09:54.053984",
     "status": "completed"
    },
    "tags": []
   },
   "outputs": [],
   "source": [
    "#hide\n",
    "# g['continent'] = g['continent'].map(mapping['map.continent'])"
   ]
  },
  {
   "cell_type": "code",
   "execution_count": 32,
   "id": "freelance-scout",
   "metadata": {
    "execution": {
     "iopub.execute_input": "2021-08-01T12:09:54.168406Z",
     "iopub.status.busy": "2021-08-01T12:09:54.167824Z",
     "iopub.status.idle": "2021-08-01T12:09:54.170218Z",
     "shell.execute_reply": "2021-08-01T12:09:54.170767Z"
    },
    "papermill": {
     "duration": 0.043982,
     "end_time": "2021-08-01T12:09:54.170907",
     "exception": false,
     "start_time": "2021-08-01T12:09:54.126925",
     "status": "completed"
    },
    "tags": []
   },
   "outputs": [],
   "source": [
    "#hide\n",
    "# g.head()"
   ]
  },
  {
   "cell_type": "code",
   "execution_count": 33,
   "id": "limited-engine",
   "metadata": {
    "execution": {
     "iopub.execute_input": "2021-08-01T12:09:54.242793Z",
     "iopub.status.busy": "2021-08-01T12:09:54.242255Z",
     "iopub.status.idle": "2021-08-01T12:09:54.244458Z",
     "shell.execute_reply": "2021-08-01T12:09:54.244951Z"
    },
    "papermill": {
     "duration": 0.040431,
     "end_time": "2021-08-01T12:09:54.245084",
     "exception": false,
     "start_time": "2021-08-01T12:09:54.204653",
     "status": "completed"
    },
    "tags": []
   },
   "outputs": [],
   "source": [
    "# hide\n",
    "# g['date'] = g['date'].astype('datetime64[ns]')"
   ]
  },
  {
   "cell_type": "code",
   "execution_count": 34,
   "id": "sophisticated-supervisor",
   "metadata": {
    "execution": {
     "iopub.execute_input": "2021-08-01T12:09:54.319515Z",
     "iopub.status.busy": "2021-08-01T12:09:54.318936Z",
     "iopub.status.idle": "2021-08-01T12:09:54.321236Z",
     "shell.execute_reply": "2021-08-01T12:09:54.321693Z"
    },
    "papermill": {
     "duration": 0.042414,
     "end_time": "2021-08-01T12:09:54.321827",
     "exception": false,
     "start_time": "2021-08-01T12:09:54.279413",
     "status": "completed"
    },
    "tags": []
   },
   "outputs": [],
   "source": [
    "#hide\n",
    "# g['date'] = g.date.dt.dayofyear"
   ]
  },
  {
   "cell_type": "code",
   "execution_count": 35,
   "id": "inside-dubai",
   "metadata": {
    "execution": {
     "iopub.execute_input": "2021-08-01T12:09:54.392903Z",
     "iopub.status.busy": "2021-08-01T12:09:54.392326Z",
     "iopub.status.idle": "2021-08-01T12:09:54.395095Z",
     "shell.execute_reply": "2021-08-01T12:09:54.394633Z"
    },
    "papermill": {
     "duration": 0.039786,
     "end_time": "2021-08-01T12:09:54.395219",
     "exception": false,
     "start_time": "2021-08-01T12:09:54.355433",
     "status": "completed"
    },
    "tags": []
   },
   "outputs": [],
   "source": [
    "#hide\n",
    "# g = g.rename(columns= {'continent':'group','country':'name','cases':'value'})"
   ]
  },
  {
   "cell_type": "code",
   "execution_count": 36,
   "id": "fleet-motorcycle",
   "metadata": {
    "execution": {
     "iopub.execute_input": "2021-08-01T12:09:54.468285Z",
     "iopub.status.busy": "2021-08-01T12:09:54.467660Z",
     "iopub.status.idle": "2021-08-01T12:09:54.470795Z",
     "shell.execute_reply": "2021-08-01T12:09:54.471346Z"
    },
    "papermill": {
     "duration": 0.042031,
     "end_time": "2021-08-01T12:09:54.471490",
     "exception": false,
     "start_time": "2021-08-01T12:09:54.429459",
     "status": "completed"
    },
    "tags": []
   },
   "outputs": [],
   "source": [
    "#hide\n",
    "# cols = ['name','group','day','value']"
   ]
  },
  {
   "cell_type": "code",
   "execution_count": 37,
   "id": "continued-sleeping",
   "metadata": {
    "execution": {
     "iopub.execute_input": "2021-08-01T12:09:54.545792Z",
     "iopub.status.busy": "2021-08-01T12:09:54.545193Z",
     "iopub.status.idle": "2021-08-01T12:09:54.548700Z",
     "shell.execute_reply": "2021-08-01T12:09:54.549250Z"
    },
    "papermill": {
     "duration": 0.044189,
     "end_time": "2021-08-01T12:09:54.549387",
     "exception": false,
     "start_time": "2021-08-01T12:09:54.505198",
     "status": "completed"
    },
    "tags": []
   },
   "outputs": [],
   "source": [
    "#hide\n",
    "# g.rename(columns= {'date':'day'},inplace = True)"
   ]
  },
  {
   "cell_type": "code",
   "execution_count": 38,
   "id": "major-fight",
   "metadata": {
    "execution": {
     "iopub.execute_input": "2021-08-01T12:09:54.619074Z",
     "iopub.status.busy": "2021-08-01T12:09:54.618500Z",
     "iopub.status.idle": "2021-08-01T12:09:54.620892Z",
     "shell.execute_reply": "2021-08-01T12:09:54.620430Z"
    },
    "papermill": {
     "duration": 0.038328,
     "end_time": "2021-08-01T12:09:54.621012",
     "exception": false,
     "start_time": "2021-08-01T12:09:54.582684",
     "status": "completed"
    },
    "tags": []
   },
   "outputs": [],
   "source": [
    "#hide\n",
    "# g = g[cols]"
   ]
  },
  {
   "cell_type": "code",
   "execution_count": 39,
   "id": "structured-mobile",
   "metadata": {
    "execution": {
     "iopub.execute_input": "2021-08-01T12:09:54.691019Z",
     "iopub.status.busy": "2021-08-01T12:09:54.690483Z",
     "iopub.status.idle": "2021-08-01T12:09:54.692464Z",
     "shell.execute_reply": "2021-08-01T12:09:54.692997Z"
    },
    "papermill": {
     "duration": 0.038952,
     "end_time": "2021-08-01T12:09:54.693135",
     "exception": false,
     "start_time": "2021-08-01T12:09:54.654183",
     "status": "completed"
    },
    "tags": []
   },
   "outputs": [],
   "source": [
    "# #hide\n",
    "# g = g[g.group.notna()]"
   ]
  },
  {
   "cell_type": "code",
   "execution_count": 40,
   "id": "determined-closing",
   "metadata": {
    "execution": {
     "iopub.execute_input": "2021-08-01T12:09:54.764827Z",
     "iopub.status.busy": "2021-08-01T12:09:54.764232Z",
     "iopub.status.idle": "2021-08-01T12:09:54.767194Z",
     "shell.execute_reply": "2021-08-01T12:09:54.767651Z"
    },
    "papermill": {
     "duration": 0.041467,
     "end_time": "2021-08-01T12:09:54.767781",
     "exception": false,
     "start_time": "2021-08-01T12:09:54.726314",
     "status": "completed"
    },
    "tags": []
   },
   "outputs": [],
   "source": [
    "# #hide\n",
    "# colors = dict(zip(\n",
    "#     [\"Oceania\", \"Europe\", \"Asia\", \"South America\", \"Middle East\", \"North America\", \"Africa\"],\n",
    "#     [\"#adb0ff\", \"#ffb3ff\", \"#90d595\", \"#e48381\", \"#aafbff\", \"#f7bb5f\", \"#eafb50\"]\n",
    "# ))\n",
    "# group_lk = g.set_index('name')['group'].to_dict()"
   ]
  },
  {
   "cell_type": "code",
   "execution_count": null,
   "id": "gross-drinking",
   "metadata": {
    "papermill": {
     "duration": 0.032396,
     "end_time": "2021-08-01T12:09:54.834257",
     "exception": false,
     "start_time": "2021-08-01T12:09:54.801861",
     "status": "completed"
    },
    "tags": []
   },
   "outputs": [],
   "source": []
  },
  {
   "cell_type": "code",
   "execution_count": 41,
   "id": "subject-macintosh",
   "metadata": {
    "execution": {
     "iopub.execute_input": "2021-08-01T12:09:54.906389Z",
     "iopub.status.busy": "2021-08-01T12:09:54.905778Z",
     "iopub.status.idle": "2021-08-01T12:09:54.908074Z",
     "shell.execute_reply": "2021-08-01T12:09:54.908624Z"
    },
    "papermill": {
     "duration": 0.041489,
     "end_time": "2021-08-01T12:09:54.908764",
     "exception": false,
     "start_time": "2021-08-01T12:09:54.867275",
     "status": "completed"
    },
    "tags": []
   },
   "outputs": [],
   "source": [
    "# #hide\n",
    "# fig, ax = plt.subplots(figsize=(15, 8))\n",
    "\n",
    "# def draw_barchart(current_day):\n",
    "#     dff = g[g['day'].eq(current_day)].sort_values(by='value', ascending=True).tail(10)\n",
    "#     ax.clear()\n",
    "#     ax.barh(dff['name'], dff['value'], color=[colors[group_lk[x]] for x in dff['name']])\n",
    "#     dx = dff['value'].max() / 200\n",
    "    \n",
    "#     for i, (value, name) in enumerate(zip(dff['value'], dff['name'])):\n",
    "#         ax.text(value-dx, i,     name,           size=14, weight=600, ha='right', va='bottom')\n",
    "#         ax.text(value-dx, i-.25, group_lk[name], size=10, color='#444444', ha='right', va='baseline')\n",
    "#         ax.text(value+dx, i,     f'{value:,.0f}',  size=14, ha='left',  va='center')\n",
    "#     ax.text(1, 0.4, current_day, transform=ax.transAxes, color='#777777', size=46, ha='right', weight=800)\n",
    "#     ax.text(0, 1.06, 'Population (thousands)', transform=ax.transAxes, size=12, color='#777777')\n",
    "#     ax.xaxis.set_major_formatter(ticker.StrMethodFormatter('{x:,.0f}'))\n",
    "#     ax.xaxis.set_ticks_position('top')\n",
    "#     ax.tick_params(axis='x', colors='#777777', labelsize=12)\n",
    "#     ax.set_yticks([])\n",
    "#     ax.margins(0, 0.01)\n",
    "#     ax.grid(which='major', axis='x', linestyle='-')\n",
    "#     ax.set_axisbelow(True)\n",
    "    \n",
    "#     ax.text(0, 1.15, 'Coronavirus',\n",
    "#             transform=ax.transAxes, size=24, weight=600, ha='left', va='top')\n",
    "# #     ax.text(1, 0, 'by @pratapvardhan; credit @jburnmurdoch', transform=ax.transAxes, color='#777777', ha='right',\n",
    "# #             bbox=dict(facecolor='white', alpha=0.8, edgecolor='white'))\n",
    "#     plt.box(False)"
   ]
  },
  {
   "cell_type": "code",
   "execution_count": 42,
   "id": "sexual-wages",
   "metadata": {
    "execution": {
     "iopub.execute_input": "2021-08-01T12:09:54.982063Z",
     "iopub.status.busy": "2021-08-01T12:09:54.981402Z",
     "iopub.status.idle": "2021-08-01T12:09:54.983985Z",
     "shell.execute_reply": "2021-08-01T12:09:54.983520Z"
    },
    "papermill": {
     "duration": 0.041242,
     "end_time": "2021-08-01T12:09:54.984105",
     "exception": false,
     "start_time": "2021-08-01T12:09:54.942863",
     "status": "completed"
    },
    "tags": []
   },
   "outputs": [],
   "source": [
    "# #hide_input\n",
    "# fig, ax = plt.subplots(figsize=(15, 8))\n",
    "# animator = animation.FuncAnimation(fig, draw_barchart, frames=range(g.day.values.min(), g.day.values.max()))\n",
    "# HTML(animator.to_jshtml())\n",
    "# # or use animator.to_html5_video() or animator.save() "
   ]
  },
  {
   "cell_type": "code",
   "execution_count": null,
   "id": "australian-container",
   "metadata": {
    "papermill": {
     "duration": 0.033732,
     "end_time": "2021-08-01T12:09:55.052134",
     "exception": false,
     "start_time": "2021-08-01T12:09:55.018402",
     "status": "completed"
    },
    "tags": []
   },
   "outputs": [],
   "source": []
  },
  {
   "cell_type": "code",
   "execution_count": null,
   "id": "mediterranean-pontiac",
   "metadata": {
    "papermill": {
     "duration": 0.033364,
     "end_time": "2021-08-01T12:09:55.119908",
     "exception": false,
     "start_time": "2021-08-01T12:09:55.086544",
     "status": "completed"
    },
    "tags": []
   },
   "outputs": [],
   "source": []
  },
  {
   "cell_type": "code",
   "execution_count": null,
   "id": "aging-legislature",
   "metadata": {
    "papermill": {
     "duration": 0.03283,
     "end_time": "2021-08-01T12:09:55.184857",
     "exception": false,
     "start_time": "2021-08-01T12:09:55.152027",
     "status": "completed"
    },
    "tags": []
   },
   "outputs": [],
   "source": []
  }
 ],
 "metadata": {
  "kernelspec": {
   "display_name": "Python 3",
   "language": "python",
   "name": "python3"
  },
  "language_info": {
   "codemirror_mode": {
    "name": "ipython",
    "version": 3
   },
   "file_extension": ".py",
   "mimetype": "text/x-python",
   "name": "python",
   "nbconvert_exporter": "python",
   "pygments_lexer": "ipython3",
   "version": "3.6.14"
  },
  "papermill": {
   "duration": 7.3347,
   "end_time": "2021-08-01T12:09:56.470736",
   "environment_variables": {},
   "exception": null,
   "input_path": "2020-03-21-covid19exp.ipynb",
   "output_path": "2020-03-21-covid19exp.ipynb",
   "parameters": {},
   "start_time": "2021-08-01T12:09:49.136036",
   "version": "2.0.0"
  }
 },
 "nbformat": 4,
 "nbformat_minor": 5
}