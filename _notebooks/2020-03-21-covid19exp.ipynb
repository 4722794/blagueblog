{
 "cells": [
  {
   "cell_type": "markdown",
   "id": "muslim-click",
   "metadata": {
    "papermill": {
     "duration": 0.040379,
     "end_time": "2021-06-29T12:10:17.012669",
     "exception": false,
     "start_time": "2021-06-29T12:10:16.972290",
     "status": "completed"
    },
    "tags": []
   },
   "source": [
    "# COVID-19 Case Race\n",
    "> A race chart to see rising cases around the world\n",
    "\n",
    "- author: Hargun Oberoi\n",
    "- image: images/covid-overview.png\n",
    "- hide: false\n",
    "- badges: false"
   ]
  },
  {
   "cell_type": "code",
   "execution_count": 1,
   "id": "proof-material",
   "metadata": {
    "execution": {
     "iopub.execute_input": "2021-06-29T12:10:17.093810Z",
     "iopub.status.busy": "2021-06-29T12:10:17.093172Z",
     "iopub.status.idle": "2021-06-29T12:10:17.465661Z",
     "shell.execute_reply": "2021-06-29T12:10:17.466818Z"
    },
    "papermill": {
     "duration": 0.41961,
     "end_time": "2021-06-29T12:10:17.466994",
     "exception": false,
     "start_time": "2021-06-29T12:10:17.047384",
     "status": "completed"
    },
    "tags": []
   },
   "outputs": [],
   "source": [
    "#hide\n",
    "import numpy as np\n",
    "import pandas as pd\n",
    "from jinja2 import Template\n",
    "from IPython.display import HTML"
   ]
  },
  {
   "cell_type": "code",
   "execution_count": 2,
   "id": "developed-terminology",
   "metadata": {
    "execution": {
     "iopub.execute_input": "2021-06-29T12:10:17.544676Z",
     "iopub.status.busy": "2021-06-29T12:10:17.544008Z",
     "iopub.status.idle": "2021-06-29T12:10:17.546606Z",
     "shell.execute_reply": "2021-06-29T12:10:17.545943Z"
    },
    "papermill": {
     "duration": 0.041903,
     "end_time": "2021-06-29T12:10:17.546742",
     "exception": false,
     "start_time": "2021-06-29T12:10:17.504839",
     "status": "completed"
    },
    "tags": []
   },
   "outputs": [],
   "source": [
    "#hide\n",
    "\n",
    "# FETCH\n",
    "base_url = 'https://raw.githubusercontent.com/pratapvardhan/notebooks/master/covid19/'\n",
    "paths = {\n",
    "    'mapping': base_url + 'mapping_countries.csv',\n",
    "    'overview': base_url + 'overview.tpl'\n",
    "}"
   ]
  },
  {
   "cell_type": "code",
   "execution_count": 3,
   "id": "dynamic-saver",
   "metadata": {
    "execution": {
     "iopub.execute_input": "2021-06-29T12:10:17.635093Z",
     "iopub.status.busy": "2021-06-29T12:10:17.634420Z",
     "iopub.status.idle": "2021-06-29T12:10:17.637779Z",
     "shell.execute_reply": "2021-06-29T12:10:17.637158Z"
    },
    "papermill": {
     "duration": 0.053433,
     "end_time": "2021-06-29T12:10:17.637915",
     "exception": false,
     "start_time": "2021-06-29T12:10:17.584482",
     "status": "completed"
    },
    "tags": []
   },
   "outputs": [
    {
     "data": {
      "text/plain": [
       "'https://raw.githubusercontent.com/pratapvardhan/notebooks/master/covid19/mapping_countries.csv'"
      ]
     },
     "execution_count": 3,
     "metadata": {},
     "output_type": "execute_result"
    }
   ],
   "source": [
    "#hide\n",
    "paths['mapping']"
   ]
  },
  {
   "cell_type": "code",
   "execution_count": 4,
   "id": "urban-software",
   "metadata": {
    "execution": {
     "iopub.execute_input": "2021-06-29T12:10:17.713006Z",
     "iopub.status.busy": "2021-06-29T12:10:17.712432Z",
     "iopub.status.idle": "2021-06-29T12:10:17.714771Z",
     "shell.execute_reply": "2021-06-29T12:10:17.714238Z"
    },
    "papermill": {
     "duration": 0.041716,
     "end_time": "2021-06-29T12:10:17.714914",
     "exception": false,
     "start_time": "2021-06-29T12:10:17.673198",
     "status": "completed"
    },
    "tags": []
   },
   "outputs": [],
   "source": [
    "#hide\n",
    "def get_mappings(url):\n",
    "    df = pd.read_csv(url)\n",
    "    return {\n",
    "        'df': df,\n",
    "        'replace.country': dict(df.dropna(subset=['Name']).set_index('Country')['Name']),\n",
    "        'map.continent': dict(df.set_index('Name')['Continent'])\n",
    "    }"
   ]
  },
  {
   "cell_type": "code",
   "execution_count": 5,
   "id": "intimate-machinery",
   "metadata": {
    "execution": {
     "iopub.execute_input": "2021-06-29T12:10:17.790544Z",
     "iopub.status.busy": "2021-06-29T12:10:17.789976Z",
     "iopub.status.idle": "2021-06-29T12:10:17.856671Z",
     "shell.execute_reply": "2021-06-29T12:10:17.857183Z"
    },
    "papermill": {
     "duration": 0.10708,
     "end_time": "2021-06-29T12:10:17.857348",
     "exception": false,
     "start_time": "2021-06-29T12:10:17.750268",
     "status": "completed"
    },
    "tags": []
   },
   "outputs": [],
   "source": [
    "#hide\n",
    "mapping = get_mappings(paths['mapping'])"
   ]
  },
  {
   "cell_type": "code",
   "execution_count": 6,
   "id": "certified-tactics",
   "metadata": {
    "execution": {
     "iopub.execute_input": "2021-06-29T12:10:17.933063Z",
     "iopub.status.busy": "2021-06-29T12:10:17.932429Z",
     "iopub.status.idle": "2021-06-29T12:10:17.934408Z",
     "shell.execute_reply": "2021-06-29T12:10:17.934876Z"
    },
    "papermill": {
     "duration": 0.042889,
     "end_time": "2021-06-29T12:10:17.934999",
     "exception": false,
     "start_time": "2021-06-29T12:10:17.892110",
     "status": "completed"
    },
    "tags": []
   },
   "outputs": [],
   "source": [
    "#hide\n",
    "def get_template(path):\n",
    "    from urllib.parse import urlparse\n",
    "    if bool(urlparse(path).netloc):\n",
    "        from urllib.request import urlopen\n",
    "        return urlopen(path).read().decode('utf8')\n",
    "    return open(path).read()"
   ]
  },
  {
   "cell_type": "code",
   "execution_count": 7,
   "id": "realistic-blast",
   "metadata": {
    "execution": {
     "iopub.execute_input": "2021-06-29T12:10:18.013071Z",
     "iopub.status.busy": "2021-06-29T12:10:18.012465Z",
     "iopub.status.idle": "2021-06-29T12:10:18.014893Z",
     "shell.execute_reply": "2021-06-29T12:10:18.014408Z"
    },
    "papermill": {
     "duration": 0.045527,
     "end_time": "2021-06-29T12:10:18.015004",
     "exception": false,
     "start_time": "2021-06-29T12:10:17.969477",
     "status": "completed"
    },
    "tags": []
   },
   "outputs": [],
   "source": [
    "#hide\n",
    "def get_frame(name):\n",
    "    url = (\n",
    "        'https://raw.githubusercontent.com/CSSEGISandData/COVID-19/master/csse_covid_19_data/'\n",
    "        f'csse_covid_19_time_series/time_series_covid19_{name}_global.csv')\n",
    "    df = pd.read_csv(url)\n",
    "    # rename countries\n",
    "    df['Country/Region'] = df['Country/Region'].replace(mapping['replace.country'])\n",
    "    return df"
   ]
  },
  {
   "cell_type": "code",
   "execution_count": 8,
   "id": "affiliated-characterization",
   "metadata": {
    "execution": {
     "iopub.execute_input": "2021-06-29T12:10:18.091907Z",
     "iopub.status.busy": "2021-06-29T12:10:18.091142Z",
     "iopub.status.idle": "2021-06-29T12:10:18.093663Z",
     "shell.execute_reply": "2021-06-29T12:10:18.092991Z"
    },
    "papermill": {
     "duration": 0.044498,
     "end_time": "2021-06-29T12:10:18.093802",
     "exception": false,
     "start_time": "2021-06-29T12:10:18.049304",
     "status": "completed"
    },
    "tags": []
   },
   "outputs": [],
   "source": [
    "#hide\n",
    "def get_dates(df):\n",
    "    dt_cols = df.columns[~df.columns.isin(['Province/State', 'Country/Region', 'Lat', 'Long'])]\n",
    "    LAST_DATE_I = -1\n",
    "    # sometimes last column may be empty, then go backwards\n",
    "    for i in range(-1, -len(dt_cols), -1):\n",
    "        if not df[dt_cols[i]].fillna(0).eq(0).all():\n",
    "            LAST_DATE_I = i\n",
    "            break\n",
    "    return LAST_DATE_I, dt_cols"
   ]
  },
  {
   "cell_type": "code",
   "execution_count": 9,
   "id": "recent-optimization",
   "metadata": {
    "execution": {
     "iopub.execute_input": "2021-06-29T12:10:18.173841Z",
     "iopub.status.busy": "2021-06-29T12:10:18.173206Z",
     "iopub.status.idle": "2021-06-29T12:10:18.700019Z",
     "shell.execute_reply": "2021-06-29T12:10:18.699264Z"
    },
    "papermill": {
     "duration": 0.569849,
     "end_time": "2021-06-29T12:10:18.700151",
     "exception": false,
     "start_time": "2021-06-29T12:10:18.130302",
     "status": "completed"
    },
    "tags": []
   },
   "outputs": [],
   "source": [
    "#hide\n",
    "COL_REGION = 'Country/Region'\n",
    "# Confirmed, Recovered, Deaths\n",
    "df = get_frame('confirmed')\n",
    "# dft_: timeseries, dfc_: today country agg\n",
    "dft_cases = df\n",
    "dft_deaths = get_frame('deaths')\n",
    "dft_recovered = get_frame('recovered')\n",
    "LAST_DATE_I, dt_cols = get_dates(df)"
   ]
  },
  {
   "cell_type": "code",
   "execution_count": 10,
   "id": "absolute-copper",
   "metadata": {
    "execution": {
     "iopub.execute_input": "2021-06-29T12:10:18.777330Z",
     "iopub.status.busy": "2021-06-29T12:10:18.776740Z",
     "iopub.status.idle": "2021-06-29T12:10:18.779237Z",
     "shell.execute_reply": "2021-06-29T12:10:18.778653Z"
    },
    "papermill": {
     "duration": 0.04305,
     "end_time": "2021-06-29T12:10:18.779369",
     "exception": false,
     "start_time": "2021-06-29T12:10:18.736319",
     "status": "completed"
    },
    "tags": []
   },
   "outputs": [],
   "source": [
    "#hide\n",
    "LAST_DATE_I, dt_cols = get_dates(df)\n",
    "dt_today =dt_cols[LAST_DATE_I]\n",
    "# dt_5day = dt_cols[LAST_DATE_I - 5]\n",
    "dt_yday = dt_cols[LAST_DATE_I - 1]"
   ]
  },
  {
   "cell_type": "code",
   "execution_count": 11,
   "id": "restricted-sheriff",
   "metadata": {
    "execution": {
     "iopub.execute_input": "2021-06-29T12:10:18.854748Z",
     "iopub.status.busy": "2021-06-29T12:10:18.854096Z",
     "iopub.status.idle": "2021-06-29T12:10:18.861348Z",
     "shell.execute_reply": "2021-06-29T12:10:18.860848Z"
    },
    "papermill": {
     "duration": 0.048147,
     "end_time": "2021-06-29T12:10:18.861455",
     "exception": false,
     "start_time": "2021-06-29T12:10:18.813308",
     "status": "completed"
    },
    "tags": []
   },
   "outputs": [],
   "source": [
    "#hide\n",
    "dfc_cases = dft_cases.groupby(COL_REGION)[dt_today].sum()\n",
    "dfc_deaths = dft_deaths.groupby(COL_REGION)[dt_today].sum()\n",
    "# dfp_cases = dft_cases.groupby(COL_REGION)[dt_5day].sum()\n",
    "# dfp_deaths = dft_deaths.groupby(COL_REGION)[dt_5day].sum()\n",
    "dfp_cases = dft_cases.groupby(COL_REGION)[dt_yday].sum()\n",
    "dfp_deaths = dft_deaths.groupby(COL_REGION)[dt_yday].sum()"
   ]
  },
  {
   "cell_type": "code",
   "execution_count": 12,
   "id": "deluxe-hepatitis",
   "metadata": {
    "execution": {
     "iopub.execute_input": "2021-06-29T12:10:18.935867Z",
     "iopub.status.busy": "2021-06-29T12:10:18.935260Z",
     "iopub.status.idle": "2021-06-29T12:10:18.940375Z",
     "shell.execute_reply": "2021-06-29T12:10:18.939851Z"
    },
    "papermill": {
     "duration": 0.04486,
     "end_time": "2021-06-29T12:10:18.940655",
     "exception": false,
     "start_time": "2021-06-29T12:10:18.895795",
     "status": "completed"
    },
    "tags": []
   },
   "outputs": [],
   "source": [
    "#hide\n",
    "df_table = (pd.DataFrame(dict(Cases = dfc_cases, Deaths = dfc_deaths, PCases = dfp_cases, PDeaths = dfp_deaths))\n",
    "            .sort_values(by = ['Cases','Deaths'], ascending = [False, False])\n",
    "            .reset_index())"
   ]
  },
  {
   "cell_type": "code",
   "execution_count": 13,
   "id": "educational-chancellor",
   "metadata": {
    "execution": {
     "iopub.execute_input": "2021-06-29T12:10:19.029722Z",
     "iopub.status.busy": "2021-06-29T12:10:19.029159Z",
     "iopub.status.idle": "2021-06-29T12:10:19.037676Z",
     "shell.execute_reply": "2021-06-29T12:10:19.038211Z"
    },
    "papermill": {
     "duration": 0.062685,
     "end_time": "2021-06-29T12:10:19.038332",
     "exception": false,
     "start_time": "2021-06-29T12:10:18.975647",
     "status": "completed"
    },
    "tags": []
   },
   "outputs": [
    {
     "data": {
      "text/html": [
       "<div>\n",
       "<style scoped>\n",
       "    .dataframe tbody tr th:only-of-type {\n",
       "        vertical-align: middle;\n",
       "    }\n",
       "\n",
       "    .dataframe tbody tr th {\n",
       "        vertical-align: top;\n",
       "    }\n",
       "\n",
       "    .dataframe thead th {\n",
       "        text-align: right;\n",
       "    }\n",
       "</style>\n",
       "<table border=\"1\" class=\"dataframe\">\n",
       "  <thead>\n",
       "    <tr style=\"text-align: right;\">\n",
       "      <th></th>\n",
       "      <th>Country/Region</th>\n",
       "      <th>Cases</th>\n",
       "      <th>Deaths</th>\n",
       "      <th>PCases</th>\n",
       "      <th>PDeaths</th>\n",
       "      <th>Cases (+)</th>\n",
       "      <th>Deaths (+)</th>\n",
       "      <th>Fatality Rate</th>\n",
       "      <th>Continent</th>\n",
       "    </tr>\n",
       "  </thead>\n",
       "  <tbody>\n",
       "    <tr>\n",
       "      <th>0</th>\n",
       "      <td>US</td>\n",
       "      <td>33640502</td>\n",
       "      <td>604115</td>\n",
       "      <td>33625419</td>\n",
       "      <td>603965</td>\n",
       "      <td>15083</td>\n",
       "      <td>150</td>\n",
       "      <td>1.80</td>\n",
       "      <td>North America</td>\n",
       "    </tr>\n",
       "    <tr>\n",
       "      <th>1</th>\n",
       "      <td>India</td>\n",
       "      <td>30316897</td>\n",
       "      <td>397637</td>\n",
       "      <td>30279331</td>\n",
       "      <td>396730</td>\n",
       "      <td>37566</td>\n",
       "      <td>907</td>\n",
       "      <td>1.31</td>\n",
       "      <td>Asia</td>\n",
       "    </tr>\n",
       "    <tr>\n",
       "      <th>2</th>\n",
       "      <td>Brazil</td>\n",
       "      <td>18448402</td>\n",
       "      <td>514092</td>\n",
       "      <td>18420598</td>\n",
       "      <td>513474</td>\n",
       "      <td>27804</td>\n",
       "      <td>618</td>\n",
       "      <td>2.79</td>\n",
       "      <td>South America</td>\n",
       "    </tr>\n",
       "    <tr>\n",
       "      <th>3</th>\n",
       "      <td>France</td>\n",
       "      <td>5832490</td>\n",
       "      <td>111174</td>\n",
       "      <td>5831972</td>\n",
       "      <td>111130</td>\n",
       "      <td>518</td>\n",
       "      <td>44</td>\n",
       "      <td>1.91</td>\n",
       "      <td>Europe</td>\n",
       "    </tr>\n",
       "    <tr>\n",
       "      <th>4</th>\n",
       "      <td>Turkey</td>\n",
       "      <td>5414310</td>\n",
       "      <td>49634</td>\n",
       "      <td>5409027</td>\n",
       "      <td>49576</td>\n",
       "      <td>5283</td>\n",
       "      <td>58</td>\n",
       "      <td>0.92</td>\n",
       "      <td>Asia</td>\n",
       "    </tr>\n",
       "  </tbody>\n",
       "</table>\n",
       "</div>"
      ],
      "text/plain": [
       "  Country/Region     Cases  Deaths    PCases  PDeaths  Cases (+)  Deaths (+)  \\\n",
       "0             US  33640502  604115  33625419   603965      15083         150   \n",
       "1          India  30316897  397637  30279331   396730      37566         907   \n",
       "2         Brazil  18448402  514092  18420598   513474      27804         618   \n",
       "3         France   5832490  111174   5831972   111130        518          44   \n",
       "4         Turkey   5414310   49634   5409027    49576       5283          58   \n",
       "\n",
       "   Fatality Rate      Continent  \n",
       "0           1.80  North America  \n",
       "1           1.31           Asia  \n",
       "2           2.79  South America  \n",
       "3           1.91         Europe  \n",
       "4           0.92           Asia  "
      ]
     },
     "execution_count": 13,
     "metadata": {},
     "output_type": "execute_result"
    }
   ],
   "source": [
    "#hide\n",
    "for c in 'Cases, Deaths'.split(', '):\n",
    "    df_table[f'{c} (+)'] = (df_table[c] - df_table[f'P{c}']).clip(0)\n",
    "    #Clip ça veut dire, les chiffres negatif sont interdit\n",
    "df_table['Fatality Rate'] = (100* df_table['Deaths']/ df_table['Cases']).round(2)\n",
    "df_table['Continent'] = df_table['Country/Region'].map(mapping['map.continent'])\n",
    "df_table.head(5)"
   ]
  },
  {
   "cell_type": "code",
   "execution_count": 14,
   "id": "aboriginal-bulgaria",
   "metadata": {
    "execution": {
     "iopub.execute_input": "2021-06-29T12:10:19.116408Z",
     "iopub.status.busy": "2021-06-29T12:10:19.115788Z",
     "iopub.status.idle": "2021-06-29T12:10:19.118691Z",
     "shell.execute_reply": "2021-06-29T12:10:19.119226Z"
    },
    "papermill": {
     "duration": 0.045366,
     "end_time": "2021-06-29T12:10:19.119348",
     "exception": false,
     "start_time": "2021-06-29T12:10:19.073982",
     "status": "completed"
    },
    "tags": []
   },
   "outputs": [],
   "source": [
    "#hide\n",
    "#delete problematic countries from table\n",
    "df_table = df_table[~df_table['Country/Region'].isin(['Cape Verde', 'Cruise Ship', 'Kosovo'])]"
   ]
  },
  {
   "cell_type": "code",
   "execution_count": 15,
   "id": "fantastic-effect",
   "metadata": {
    "execution": {
     "iopub.execute_input": "2021-06-29T12:10:19.197820Z",
     "iopub.status.busy": "2021-06-29T12:10:19.197167Z",
     "iopub.status.idle": "2021-06-29T12:10:19.218368Z",
     "shell.execute_reply": "2021-06-29T12:10:19.217875Z"
    },
    "papermill": {
     "duration": 0.064745,
     "end_time": "2021-06-29T12:10:19.218489",
     "exception": false,
     "start_time": "2021-06-29T12:10:19.153744",
     "status": "completed"
    },
    "tags": []
   },
   "outputs": [
    {
     "data": {
      "text/html": [
       "<div>\n",
       "<style scoped>\n",
       "    .dataframe tbody tr th:only-of-type {\n",
       "        vertical-align: middle;\n",
       "    }\n",
       "\n",
       "    .dataframe tbody tr th {\n",
       "        vertical-align: top;\n",
       "    }\n",
       "\n",
       "    .dataframe thead th {\n",
       "        text-align: right;\n",
       "    }\n",
       "</style>\n",
       "<table border=\"1\" class=\"dataframe\">\n",
       "  <thead>\n",
       "    <tr style=\"text-align: right;\">\n",
       "      <th></th>\n",
       "      <th>Country/Region</th>\n",
       "      <th>Cases</th>\n",
       "      <th>Deaths</th>\n",
       "      <th>PCases</th>\n",
       "      <th>PDeaths</th>\n",
       "      <th>Cases (+)</th>\n",
       "      <th>Deaths (+)</th>\n",
       "      <th>Fatality Rate</th>\n",
       "      <th>Continent</th>\n",
       "    </tr>\n",
       "  </thead>\n",
       "  <tbody>\n",
       "    <tr>\n",
       "      <th>0</th>\n",
       "      <td>US</td>\n",
       "      <td>33640502</td>\n",
       "      <td>604115</td>\n",
       "      <td>33625419</td>\n",
       "      <td>603965</td>\n",
       "      <td>15083</td>\n",
       "      <td>150</td>\n",
       "      <td>1.8</td>\n",
       "      <td>North America</td>\n",
       "    </tr>\n",
       "    <tr>\n",
       "      <th>1</th>\n",
       "      <td>India</td>\n",
       "      <td>30316897</td>\n",
       "      <td>397637</td>\n",
       "      <td>30279331</td>\n",
       "      <td>396730</td>\n",
       "      <td>37566</td>\n",
       "      <td>907</td>\n",
       "      <td>1.3</td>\n",
       "      <td>Asia</td>\n",
       "    </tr>\n",
       "    <tr>\n",
       "      <th>2</th>\n",
       "      <td>Brazil</td>\n",
       "      <td>18448402</td>\n",
       "      <td>514092</td>\n",
       "      <td>18420598</td>\n",
       "      <td>513474</td>\n",
       "      <td>27804</td>\n",
       "      <td>618</td>\n",
       "      <td>2.8</td>\n",
       "      <td>South America</td>\n",
       "    </tr>\n",
       "    <tr>\n",
       "      <th>3</th>\n",
       "      <td>France</td>\n",
       "      <td>5832490</td>\n",
       "      <td>111174</td>\n",
       "      <td>5831972</td>\n",
       "      <td>111130</td>\n",
       "      <td>518</td>\n",
       "      <td>44</td>\n",
       "      <td>1.9</td>\n",
       "      <td>Europe</td>\n",
       "    </tr>\n",
       "    <tr>\n",
       "      <th>4</th>\n",
       "      <td>Turkey</td>\n",
       "      <td>5414310</td>\n",
       "      <td>49634</td>\n",
       "      <td>5409027</td>\n",
       "      <td>49576</td>\n",
       "      <td>5283</td>\n",
       "      <td>58</td>\n",
       "      <td>0.9</td>\n",
       "      <td>Asia</td>\n",
       "    </tr>\n",
       "  </tbody>\n",
       "</table>\n",
       "</div>"
      ],
      "text/plain": [
       "  Country/Region     Cases  Deaths    PCases  PDeaths  Cases (+)  Deaths (+)  \\\n",
       "0             US  33640502  604115  33625419   603965      15083         150   \n",
       "1          India  30316897  397637  30279331   396730      37566         907   \n",
       "2         Brazil  18448402  514092  18420598   513474      27804         618   \n",
       "3         France   5832490  111174   5831972   111130        518          44   \n",
       "4         Turkey   5414310   49634   5409027    49576       5283          58   \n",
       "\n",
       "   Fatality Rate      Continent  \n",
       "0            1.8  North America  \n",
       "1            1.3           Asia  \n",
       "2            2.8  South America  \n",
       "3            1.9         Europe  \n",
       "4            0.9           Asia  "
      ]
     },
     "execution_count": 15,
     "metadata": {},
     "output_type": "execute_result"
    }
   ],
   "source": [
    "#hide\n",
    "df_table = (pd.DataFrame(dict(Cases=dfc_cases, Deaths=dfc_deaths, PCases=dfp_cases, PDeaths=dfp_deaths))\n",
    "             .sort_values(by=['Cases', 'Deaths'], ascending=[False, False])\n",
    "             .reset_index())\n",
    "df_table.rename(columns={'index': 'Country/Region'}, inplace=True)\n",
    "for c in 'Cases, Deaths'.split(', '):\n",
    "    df_table[f'{c} (+)'] = (df_table[c] - df_table[f'P{c}']).clip(0)  # DATA BUG\n",
    "df_table['Fatality Rate'] = (100 * df_table['Deaths'] / df_table['Cases']).round(1)\n",
    "df_table['Continent'] = df_table['Country/Region'].map(mapping['map.continent'])\n",
    "df_table.head(5)"
   ]
  },
  {
   "cell_type": "code",
   "execution_count": 16,
   "id": "fewer-occasion",
   "metadata": {
    "execution": {
     "iopub.execute_input": "2021-06-29T12:10:19.296498Z",
     "iopub.status.busy": "2021-06-29T12:10:19.295850Z",
     "iopub.status.idle": "2021-06-29T12:10:19.299265Z",
     "shell.execute_reply": "2021-06-29T12:10:19.298778Z"
    },
    "papermill": {
     "duration": 0.043404,
     "end_time": "2021-06-29T12:10:19.299381",
     "exception": false,
     "start_time": "2021-06-29T12:10:19.255977",
     "status": "completed"
    },
    "tags": []
   },
   "outputs": [],
   "source": [
    "#hide\n",
    "#delete problematic countries from table\n",
    "df_table = df_table[~df_table['Country/Region'].isin(['Cape Verde', 'Cruise Ship', 'Kosovo'])]"
   ]
  },
  {
   "cell_type": "code",
   "execution_count": 17,
   "id": "related-center",
   "metadata": {
    "execution": {
     "iopub.execute_input": "2021-06-29T12:10:19.389287Z",
     "iopub.status.busy": "2021-06-29T12:10:19.388465Z",
     "iopub.status.idle": "2021-06-29T12:10:19.390932Z",
     "shell.execute_reply": "2021-06-29T12:10:19.390354Z"
    },
    "papermill": {
     "duration": 0.056451,
     "end_time": "2021-06-29T12:10:19.391049",
     "exception": false,
     "start_time": "2021-06-29T12:10:19.334598",
     "status": "completed"
    },
    "tags": []
   },
   "outputs": [],
   "source": [
    "#hide\n",
    "metrics = [df_table.columns[index] for index in [1,2,5,6]]\n",
    "# s_china = df_table[df_table['Country/Region'].eq('China')][metrics].sum().add_prefix('China ')\n",
    "s_us = df_table[df_table['Country/Region'].eq('US')][metrics].sum().add_prefix('US ')\n",
    "s_eu = df_table[df_table['Continent'].eq('Europe')][metrics].sum().add_prefix('EU ')\n",
    "s_ind = df_table[df_table['Country/Region'].eq('India')][metrics].sum().add_prefix('India ')\n",
    "summary = {'updated': pd.to_datetime(dt_today), 'since': pd.to_datetime(dt_yday)}\n",
    "summary = {'updated': pd.to_datetime(dt_today), 'since': pd.to_datetime(dt_yday)}\n",
    "summary = {**summary, **df_table[metrics].sum(), **s_ind, **s_us, **s_eu}"
   ]
  },
  {
   "cell_type": "code",
   "execution_count": 18,
   "id": "engaging-syndrome",
   "metadata": {
    "execution": {
     "iopub.execute_input": "2021-06-29T12:10:19.471715Z",
     "iopub.status.busy": "2021-06-29T12:10:19.470795Z",
     "iopub.status.idle": "2021-06-29T12:10:19.483319Z",
     "shell.execute_reply": "2021-06-29T12:10:19.482803Z"
    },
    "papermill": {
     "duration": 0.055504,
     "end_time": "2021-06-29T12:10:19.483440",
     "exception": false,
     "start_time": "2021-06-29T12:10:19.427936",
     "status": "completed"
    },
    "tags": []
   },
   "outputs": [],
   "source": [
    "#hide\n",
    "dft_ct_new_cases = dft_cases.groupby(COL_REGION)[dt_cols].sum().diff(axis=1).fillna(0).astype(int)"
   ]
  },
  {
   "cell_type": "code",
   "execution_count": 19,
   "id": "neutral-assignment",
   "metadata": {
    "execution": {
     "iopub.execute_input": "2021-06-29T12:10:19.564961Z",
     "iopub.status.busy": "2021-06-29T12:10:19.564353Z",
     "iopub.status.idle": "2021-06-29T12:10:19.567519Z",
     "shell.execute_reply": "2021-06-29T12:10:19.567005Z"
    },
    "papermill": {
     "duration": 0.045911,
     "end_time": "2021-06-29T12:10:19.567637",
     "exception": false,
     "start_time": "2021-06-29T12:10:19.521726",
     "status": "completed"
    },
    "tags": []
   },
   "outputs": [],
   "source": [
    "#hide\n",
    "everydaycases = dft_ct_new_cases.cumsum(axis=1)"
   ]
  },
  {
   "cell_type": "code",
   "execution_count": 20,
   "id": "parliamentary-calgary",
   "metadata": {
    "execution": {
     "iopub.execute_input": "2021-06-29T12:10:19.643697Z",
     "iopub.status.busy": "2021-06-29T12:10:19.643050Z",
     "iopub.status.idle": "2021-06-29T12:10:20.243594Z",
     "shell.execute_reply": "2021-06-29T12:10:20.242741Z"
    },
    "papermill": {
     "duration": 0.640461,
     "end_time": "2021-06-29T12:10:20.243745",
     "exception": false,
     "start_time": "2021-06-29T12:10:19.603284",
     "status": "completed"
    },
    "tags": []
   },
   "outputs": [],
   "source": [
    "#hide\n",
    "import pandas as pd\n",
    "import matplotlib.pyplot as plt\n",
    "import matplotlib.ticker as ticker\n",
    "import matplotlib.animation as animation\n",
    "from IPython.display import HTML"
   ]
  },
  {
   "cell_type": "code",
   "execution_count": 21,
   "id": "lasting-extraction",
   "metadata": {
    "execution": {
     "iopub.execute_input": "2021-06-29T12:10:20.326409Z",
     "iopub.status.busy": "2021-06-29T12:10:20.325781Z",
     "iopub.status.idle": "2021-06-29T12:10:20.331633Z",
     "shell.execute_reply": "2021-06-29T12:10:20.331121Z"
    },
    "papermill": {
     "duration": 0.049338,
     "end_time": "2021-06-29T12:10:20.331762",
     "exception": false,
     "start_time": "2021-06-29T12:10:20.282424",
     "status": "completed"
    },
    "tags": []
   },
   "outputs": [],
   "source": [
    "#hide\n",
    "t = everydaycases.stack()"
   ]
  },
  {
   "cell_type": "code",
   "execution_count": 22,
   "id": "premier-sleeve",
   "metadata": {
    "execution": {
     "iopub.execute_input": "2021-06-29T12:10:20.411542Z",
     "iopub.status.busy": "2021-06-29T12:10:20.410945Z",
     "iopub.status.idle": "2021-06-29T12:10:20.419821Z",
     "shell.execute_reply": "2021-06-29T12:10:20.420331Z"
    },
    "papermill": {
     "duration": 0.049882,
     "end_time": "2021-06-29T12:10:20.420481",
     "exception": false,
     "start_time": "2021-06-29T12:10:20.370599",
     "status": "completed"
    },
    "tags": []
   },
   "outputs": [],
   "source": [
    "#hide\n",
    "g = t.reset_index(['Country/Region'])"
   ]
  },
  {
   "cell_type": "code",
   "execution_count": 23,
   "id": "distributed-pittsburgh",
   "metadata": {
    "execution": {
     "iopub.execute_input": "2021-06-29T12:10:20.499667Z",
     "iopub.status.busy": "2021-06-29T12:10:20.499040Z",
     "iopub.status.idle": "2021-06-29T12:10:20.500969Z",
     "shell.execute_reply": "2021-06-29T12:10:20.501778Z"
    },
    "papermill": {
     "duration": 0.045392,
     "end_time": "2021-06-29T12:10:20.501983",
     "exception": false,
     "start_time": "2021-06-29T12:10:20.456591",
     "status": "completed"
    },
    "tags": []
   },
   "outputs": [],
   "source": [
    "#hide\n",
    "g.index.name = 'date'"
   ]
  },
  {
   "cell_type": "code",
   "execution_count": 24,
   "id": "naked-donor",
   "metadata": {
    "execution": {
     "iopub.execute_input": "2021-06-29T12:10:20.582622Z",
     "iopub.status.busy": "2021-06-29T12:10:20.582015Z",
     "iopub.status.idle": "2021-06-29T12:10:20.584124Z",
     "shell.execute_reply": "2021-06-29T12:10:20.584739Z"
    },
    "papermill": {
     "duration": 0.042943,
     "end_time": "2021-06-29T12:10:20.584891",
     "exception": false,
     "start_time": "2021-06-29T12:10:20.541948",
     "status": "completed"
    },
    "tags": []
   },
   "outputs": [],
   "source": [
    "# #hide\n",
    "# g = g.reset_index(['date'])"
   ]
  },
  {
   "cell_type": "code",
   "execution_count": 25,
   "id": "incomplete-mustang",
   "metadata": {
    "execution": {
     "iopub.execute_input": "2021-06-29T12:10:20.660667Z",
     "iopub.status.busy": "2021-06-29T12:10:20.660046Z",
     "iopub.status.idle": "2021-06-29T12:10:20.662171Z",
     "shell.execute_reply": "2021-06-29T12:10:20.662725Z"
    },
    "papermill": {
     "duration": 0.041603,
     "end_time": "2021-06-29T12:10:20.662850",
     "exception": false,
     "start_time": "2021-06-29T12:10:20.621247",
     "status": "completed"
    },
    "tags": []
   },
   "outputs": [],
   "source": [
    "#hide\n",
    "# g.head()"
   ]
  },
  {
   "cell_type": "code",
   "execution_count": 26,
   "id": "specific-kruger",
   "metadata": {
    "execution": {
     "iopub.execute_input": "2021-06-29T12:10:20.735879Z",
     "iopub.status.busy": "2021-06-29T12:10:20.735310Z",
     "iopub.status.idle": "2021-06-29T12:10:20.737449Z",
     "shell.execute_reply": "2021-06-29T12:10:20.737943Z"
    },
    "papermill": {
     "duration": 0.040509,
     "end_time": "2021-06-29T12:10:20.738065",
     "exception": false,
     "start_time": "2021-06-29T12:10:20.697556",
     "status": "completed"
    },
    "tags": []
   },
   "outputs": [],
   "source": [
    "#hide\n",
    "# g.columns = ['date','country','cases']"
   ]
  },
  {
   "cell_type": "code",
   "execution_count": 27,
   "id": "tender-conversion",
   "metadata": {
    "execution": {
     "iopub.execute_input": "2021-06-29T12:10:20.813691Z",
     "iopub.status.busy": "2021-06-29T12:10:20.813127Z",
     "iopub.status.idle": "2021-06-29T12:10:20.815008Z",
     "shell.execute_reply": "2021-06-29T12:10:20.815530Z"
    },
    "papermill": {
     "duration": 0.042184,
     "end_time": "2021-06-29T12:10:20.815665",
     "exception": false,
     "start_time": "2021-06-29T12:10:20.773481",
     "status": "completed"
    },
    "tags": []
   },
   "outputs": [],
   "source": [
    "#hide\n",
    "# g['continent'] = g.country"
   ]
  },
  {
   "cell_type": "code",
   "execution_count": 28,
   "id": "substantial-wilderness",
   "metadata": {
    "execution": {
     "iopub.execute_input": "2021-06-29T12:10:20.897587Z",
     "iopub.status.busy": "2021-06-29T12:10:20.896946Z",
     "iopub.status.idle": "2021-06-29T12:10:20.898697Z",
     "shell.execute_reply": "2021-06-29T12:10:20.899316Z"
    },
    "papermill": {
     "duration": 0.045353,
     "end_time": "2021-06-29T12:10:20.899482",
     "exception": false,
     "start_time": "2021-06-29T12:10:20.854129",
     "status": "completed"
    },
    "tags": []
   },
   "outputs": [],
   "source": [
    "#hide\n",
    "# cols = list(g.columns.values)"
   ]
  },
  {
   "cell_type": "code",
   "execution_count": 29,
   "id": "solved-farming",
   "metadata": {
    "execution": {
     "iopub.execute_input": "2021-06-29T12:10:20.976747Z",
     "iopub.status.busy": "2021-06-29T12:10:20.976065Z",
     "iopub.status.idle": "2021-06-29T12:10:20.978559Z",
     "shell.execute_reply": "2021-06-29T12:10:20.979102Z"
    },
    "papermill": {
     "duration": 0.044031,
     "end_time": "2021-06-29T12:10:20.979246",
     "exception": false,
     "start_time": "2021-06-29T12:10:20.935215",
     "status": "completed"
    },
    "tags": []
   },
   "outputs": [],
   "source": [
    "#hide\n",
    "# cols.insert(0, cols.pop())"
   ]
  },
  {
   "cell_type": "code",
   "execution_count": 30,
   "id": "executed-adoption",
   "metadata": {
    "execution": {
     "iopub.execute_input": "2021-06-29T12:10:21.059305Z",
     "iopub.status.busy": "2021-06-29T12:10:21.058612Z",
     "iopub.status.idle": "2021-06-29T12:10:21.061268Z",
     "shell.execute_reply": "2021-06-29T12:10:21.060675Z"
    },
    "papermill": {
     "duration": 0.043838,
     "end_time": "2021-06-29T12:10:21.061392",
     "exception": false,
     "start_time": "2021-06-29T12:10:21.017554",
     "status": "completed"
    },
    "tags": []
   },
   "outputs": [],
   "source": [
    "#hide\n",
    "# g = g[cols]"
   ]
  },
  {
   "cell_type": "code",
   "execution_count": 31,
   "id": "subject-dublin",
   "metadata": {
    "execution": {
     "iopub.execute_input": "2021-06-29T12:10:21.136368Z",
     "iopub.status.busy": "2021-06-29T12:10:21.135748Z",
     "iopub.status.idle": "2021-06-29T12:10:21.138174Z",
     "shell.execute_reply": "2021-06-29T12:10:21.137666Z"
    },
    "papermill": {
     "duration": 0.041185,
     "end_time": "2021-06-29T12:10:21.138291",
     "exception": false,
     "start_time": "2021-06-29T12:10:21.097106",
     "status": "completed"
    },
    "tags": []
   },
   "outputs": [],
   "source": [
    "#hide\n",
    "# g['continent'] = g['continent'].map(mapping['map.continent'])"
   ]
  },
  {
   "cell_type": "code",
   "execution_count": 32,
   "id": "freelance-scout",
   "metadata": {
    "execution": {
     "iopub.execute_input": "2021-06-29T12:10:21.216272Z",
     "iopub.status.busy": "2021-06-29T12:10:21.215704Z",
     "iopub.status.idle": "2021-06-29T12:10:21.218191Z",
     "shell.execute_reply": "2021-06-29T12:10:21.217705Z"
    },
    "papermill": {
     "duration": 0.042013,
     "end_time": "2021-06-29T12:10:21.218306",
     "exception": false,
     "start_time": "2021-06-29T12:10:21.176293",
     "status": "completed"
    },
    "tags": []
   },
   "outputs": [],
   "source": [
    "#hide\n",
    "# g.head()"
   ]
  },
  {
   "cell_type": "code",
   "execution_count": 33,
   "id": "limited-engine",
   "metadata": {
    "execution": {
     "iopub.execute_input": "2021-06-29T12:10:21.294950Z",
     "iopub.status.busy": "2021-06-29T12:10:21.294388Z",
     "iopub.status.idle": "2021-06-29T12:10:21.296769Z",
     "shell.execute_reply": "2021-06-29T12:10:21.296287Z"
    },
    "papermill": {
     "duration": 0.042845,
     "end_time": "2021-06-29T12:10:21.296879",
     "exception": false,
     "start_time": "2021-06-29T12:10:21.254034",
     "status": "completed"
    },
    "tags": []
   },
   "outputs": [],
   "source": [
    "# hide\n",
    "# g['date'] = g['date'].astype('datetime64[ns]')"
   ]
  },
  {
   "cell_type": "code",
   "execution_count": 34,
   "id": "sophisticated-supervisor",
   "metadata": {
    "execution": {
     "iopub.execute_input": "2021-06-29T12:10:21.375088Z",
     "iopub.status.busy": "2021-06-29T12:10:21.374482Z",
     "iopub.status.idle": "2021-06-29T12:10:21.376854Z",
     "shell.execute_reply": "2021-06-29T12:10:21.376371Z"
    },
    "papermill": {
     "duration": 0.043477,
     "end_time": "2021-06-29T12:10:21.376964",
     "exception": false,
     "start_time": "2021-06-29T12:10:21.333487",
     "status": "completed"
    },
    "tags": []
   },
   "outputs": [],
   "source": [
    "#hide\n",
    "# g['date'] = g.date.dt.dayofyear"
   ]
  },
  {
   "cell_type": "code",
   "execution_count": 35,
   "id": "inside-dubai",
   "metadata": {
    "execution": {
     "iopub.execute_input": "2021-06-29T12:10:21.451096Z",
     "iopub.status.busy": "2021-06-29T12:10:21.450528Z",
     "iopub.status.idle": "2021-06-29T12:10:21.452615Z",
     "shell.execute_reply": "2021-06-29T12:10:21.453283Z"
    },
    "papermill": {
     "duration": 0.041491,
     "end_time": "2021-06-29T12:10:21.453423",
     "exception": false,
     "start_time": "2021-06-29T12:10:21.411932",
     "status": "completed"
    },
    "tags": []
   },
   "outputs": [],
   "source": [
    "#hide\n",
    "# g = g.rename(columns= {'continent':'group','country':'name','cases':'value'})"
   ]
  },
  {
   "cell_type": "code",
   "execution_count": 36,
   "id": "fleet-motorcycle",
   "metadata": {
    "execution": {
     "iopub.execute_input": "2021-06-29T12:10:21.527310Z",
     "iopub.status.busy": "2021-06-29T12:10:21.526743Z",
     "iopub.status.idle": "2021-06-29T12:10:21.528602Z",
     "shell.execute_reply": "2021-06-29T12:10:21.529115Z"
    },
    "papermill": {
     "duration": 0.04008,
     "end_time": "2021-06-29T12:10:21.529238",
     "exception": false,
     "start_time": "2021-06-29T12:10:21.489158",
     "status": "completed"
    },
    "tags": []
   },
   "outputs": [],
   "source": [
    "#hide\n",
    "# cols = ['name','group','day','value']"
   ]
  },
  {
   "cell_type": "code",
   "execution_count": 37,
   "id": "continued-sleeping",
   "metadata": {
    "execution": {
     "iopub.execute_input": "2021-06-29T12:10:21.603197Z",
     "iopub.status.busy": "2021-06-29T12:10:21.602577Z",
     "iopub.status.idle": "2021-06-29T12:10:21.604501Z",
     "shell.execute_reply": "2021-06-29T12:10:21.604996Z"
    },
    "papermill": {
     "duration": 0.041544,
     "end_time": "2021-06-29T12:10:21.605139",
     "exception": false,
     "start_time": "2021-06-29T12:10:21.563595",
     "status": "completed"
    },
    "tags": []
   },
   "outputs": [],
   "source": [
    "#hide\n",
    "# g.rename(columns= {'date':'day'},inplace = True)"
   ]
  },
  {
   "cell_type": "code",
   "execution_count": 38,
   "id": "major-fight",
   "metadata": {
    "execution": {
     "iopub.execute_input": "2021-06-29T12:10:21.680220Z",
     "iopub.status.busy": "2021-06-29T12:10:21.679619Z",
     "iopub.status.idle": "2021-06-29T12:10:21.682009Z",
     "shell.execute_reply": "2021-06-29T12:10:21.681531Z"
    },
    "papermill": {
     "duration": 0.040582,
     "end_time": "2021-06-29T12:10:21.682118",
     "exception": false,
     "start_time": "2021-06-29T12:10:21.641536",
     "status": "completed"
    },
    "tags": []
   },
   "outputs": [],
   "source": [
    "#hide\n",
    "# g = g[cols]"
   ]
  },
  {
   "cell_type": "code",
   "execution_count": 39,
   "id": "structured-mobile",
   "metadata": {
    "execution": {
     "iopub.execute_input": "2021-06-29T12:10:21.763140Z",
     "iopub.status.busy": "2021-06-29T12:10:21.762534Z",
     "iopub.status.idle": "2021-06-29T12:10:21.764990Z",
     "shell.execute_reply": "2021-06-29T12:10:21.764365Z"
    },
    "papermill": {
     "duration": 0.04266,
     "end_time": "2021-06-29T12:10:21.765123",
     "exception": false,
     "start_time": "2021-06-29T12:10:21.722463",
     "status": "completed"
    },
    "tags": []
   },
   "outputs": [],
   "source": [
    "# #hide\n",
    "# g = g[g.group.notna()]"
   ]
  },
  {
   "cell_type": "code",
   "execution_count": 40,
   "id": "determined-closing",
   "metadata": {
    "execution": {
     "iopub.execute_input": "2021-06-29T12:10:21.840873Z",
     "iopub.status.busy": "2021-06-29T12:10:21.840301Z",
     "iopub.status.idle": "2021-06-29T12:10:21.843307Z",
     "shell.execute_reply": "2021-06-29T12:10:21.842702Z"
    },
    "papermill": {
     "duration": 0.041496,
     "end_time": "2021-06-29T12:10:21.843458",
     "exception": false,
     "start_time": "2021-06-29T12:10:21.801962",
     "status": "completed"
    },
    "tags": []
   },
   "outputs": [],
   "source": [
    "# #hide\n",
    "# colors = dict(zip(\n",
    "#     [\"Oceania\", \"Europe\", \"Asia\", \"South America\", \"Middle East\", \"North America\", \"Africa\"],\n",
    "#     [\"#adb0ff\", \"#ffb3ff\", \"#90d595\", \"#e48381\", \"#aafbff\", \"#f7bb5f\", \"#eafb50\"]\n",
    "# ))\n",
    "# group_lk = g.set_index('name')['group'].to_dict()"
   ]
  },
  {
   "cell_type": "code",
   "execution_count": null,
   "id": "gross-drinking",
   "metadata": {
    "papermill": {
     "duration": 0.034777,
     "end_time": "2021-06-29T12:10:21.916590",
     "exception": false,
     "start_time": "2021-06-29T12:10:21.881813",
     "status": "completed"
    },
    "tags": []
   },
   "outputs": [],
   "source": []
  },
  {
   "cell_type": "code",
   "execution_count": 41,
   "id": "subject-macintosh",
   "metadata": {
    "execution": {
     "iopub.execute_input": "2021-06-29T12:10:21.992751Z",
     "iopub.status.busy": "2021-06-29T12:10:21.992124Z",
     "iopub.status.idle": "2021-06-29T12:10:21.993574Z",
     "shell.execute_reply": "2021-06-29T12:10:21.994265Z"
    },
    "papermill": {
     "duration": 0.042363,
     "end_time": "2021-06-29T12:10:21.994405",
     "exception": false,
     "start_time": "2021-06-29T12:10:21.952042",
     "status": "completed"
    },
    "tags": []
   },
   "outputs": [],
   "source": [
    "# #hide\n",
    "# fig, ax = plt.subplots(figsize=(15, 8))\n",
    "\n",
    "# def draw_barchart(current_day):\n",
    "#     dff = g[g['day'].eq(current_day)].sort_values(by='value', ascending=True).tail(10)\n",
    "#     ax.clear()\n",
    "#     ax.barh(dff['name'], dff['value'], color=[colors[group_lk[x]] for x in dff['name']])\n",
    "#     dx = dff['value'].max() / 200\n",
    "    \n",
    "#     for i, (value, name) in enumerate(zip(dff['value'], dff['name'])):\n",
    "#         ax.text(value-dx, i,     name,           size=14, weight=600, ha='right', va='bottom')\n",
    "#         ax.text(value-dx, i-.25, group_lk[name], size=10, color='#444444', ha='right', va='baseline')\n",
    "#         ax.text(value+dx, i,     f'{value:,.0f}',  size=14, ha='left',  va='center')\n",
    "#     ax.text(1, 0.4, current_day, transform=ax.transAxes, color='#777777', size=46, ha='right', weight=800)\n",
    "#     ax.text(0, 1.06, 'Population (thousands)', transform=ax.transAxes, size=12, color='#777777')\n",
    "#     ax.xaxis.set_major_formatter(ticker.StrMethodFormatter('{x:,.0f}'))\n",
    "#     ax.xaxis.set_ticks_position('top')\n",
    "#     ax.tick_params(axis='x', colors='#777777', labelsize=12)\n",
    "#     ax.set_yticks([])\n",
    "#     ax.margins(0, 0.01)\n",
    "#     ax.grid(which='major', axis='x', linestyle='-')\n",
    "#     ax.set_axisbelow(True)\n",
    "    \n",
    "#     ax.text(0, 1.15, 'Coronavirus',\n",
    "#             transform=ax.transAxes, size=24, weight=600, ha='left', va='top')\n",
    "# #     ax.text(1, 0, 'by @pratapvardhan; credit @jburnmurdoch', transform=ax.transAxes, color='#777777', ha='right',\n",
    "# #             bbox=dict(facecolor='white', alpha=0.8, edgecolor='white'))\n",
    "#     plt.box(False)"
   ]
  },
  {
   "cell_type": "code",
   "execution_count": 42,
   "id": "sexual-wages",
   "metadata": {
    "execution": {
     "iopub.execute_input": "2021-06-29T12:10:22.082007Z",
     "iopub.status.busy": "2021-06-29T12:10:22.081348Z",
     "iopub.status.idle": "2021-06-29T12:10:22.083118Z",
     "shell.execute_reply": "2021-06-29T12:10:22.083675Z"
    },
    "papermill": {
     "duration": 0.051933,
     "end_time": "2021-06-29T12:10:22.083822",
     "exception": false,
     "start_time": "2021-06-29T12:10:22.031889",
     "status": "completed"
    },
    "tags": []
   },
   "outputs": [],
   "source": [
    "# #hide_input\n",
    "# fig, ax = plt.subplots(figsize=(15, 8))\n",
    "# animator = animation.FuncAnimation(fig, draw_barchart, frames=range(g.day.values.min(), g.day.values.max()))\n",
    "# HTML(animator.to_jshtml())\n",
    "# # or use animator.to_html5_video() or animator.save() "
   ]
  },
  {
   "cell_type": "code",
   "execution_count": null,
   "id": "australian-container",
   "metadata": {
    "papermill": {
     "duration": 0.039624,
     "end_time": "2021-06-29T12:10:22.164935",
     "exception": false,
     "start_time": "2021-06-29T12:10:22.125311",
     "status": "completed"
    },
    "tags": []
   },
   "outputs": [],
   "source": []
  },
  {
   "cell_type": "code",
   "execution_count": null,
   "id": "mediterranean-pontiac",
   "metadata": {
    "papermill": {
     "duration": 0.036326,
     "end_time": "2021-06-29T12:10:22.237558",
     "exception": false,
     "start_time": "2021-06-29T12:10:22.201232",
     "status": "completed"
    },
    "tags": []
   },
   "outputs": [],
   "source": []
  },
  {
   "cell_type": "code",
   "execution_count": null,
   "id": "aging-legislature",
   "metadata": {
    "papermill": {
     "duration": 0.035735,
     "end_time": "2021-06-29T12:10:22.310443",
     "exception": false,
     "start_time": "2021-06-29T12:10:22.274708",
     "status": "completed"
    },
    "tags": []
   },
   "outputs": [],
   "source": []
  }
 ],
 "metadata": {
  "kernelspec": {
   "display_name": "Python 3",
   "language": "python",
   "name": "python3"
  },
  "language_info": {
   "codemirror_mode": {
    "name": "ipython",
    "version": 3
   },
   "file_extension": ".py",
   "mimetype": "text/x-python",
   "name": "python",
   "nbconvert_exporter": "python",
   "pygments_lexer": "ipython3",
   "version": "3.6.13"
  },
  "papermill": {
   "duration": 6.839795,
   "end_time": "2021-06-29T12:10:22.652241",
   "environment_variables": {},
   "exception": null,
   "input_path": "2020-03-21-covid19exp.ipynb",
   "output_path": "2020-03-21-covid19exp.ipynb",
   "parameters": {},
   "start_time": "2021-06-29T12:10:15.812446",
   "version": "2.0.0"
  }
 },
 "nbformat": 4,
 "nbformat_minor": 5
}