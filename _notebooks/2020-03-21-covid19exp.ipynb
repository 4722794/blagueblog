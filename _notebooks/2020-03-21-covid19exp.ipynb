{
 "cells": [
  {
   "cell_type": "markdown",
   "id": "muslim-click",
   "metadata": {
    "papermill": {
     "duration": 0.044737,
     "end_time": "2022-11-07T00:47:00.726139",
     "exception": false,
     "start_time": "2022-11-07T00:47:00.681402",
     "status": "completed"
    },
    "tags": []
   },
   "source": [
    "# COVID-19 Case Race\n",
    "> A race chart to see rising cases around the world\n",
    "\n",
    "- author: Hargun Oberoi\n",
    "- image: images/covid-overview.png\n",
    "- hide: false\n",
    "- badges: false"
   ]
  },
  {
   "cell_type": "code",
   "execution_count": 1,
   "id": "proof-material",
   "metadata": {
    "execution": {
     "iopub.execute_input": "2022-11-07T00:47:00.814408Z",
     "iopub.status.busy": "2022-11-07T00:47:00.813702Z",
     "iopub.status.idle": "2022-11-07T00:47:01.221600Z",
     "shell.execute_reply": "2022-11-07T00:47:01.220817Z"
    },
    "papermill": {
     "duration": 0.459051,
     "end_time": "2022-11-07T00:47:01.221802",
     "exception": false,
     "start_time": "2022-11-07T00:47:00.762751",
     "status": "completed"
    },
    "tags": []
   },
   "outputs": [],
   "source": [
    "#hide\n",
    "import numpy as np\n",
    "import pandas as pd\n",
    "from jinja2 import Template\n",
    "from IPython.display import HTML"
   ]
  },
  {
   "cell_type": "code",
   "execution_count": 2,
   "id": "developed-terminology",
   "metadata": {
    "execution": {
     "iopub.execute_input": "2022-11-07T00:47:01.305451Z",
     "iopub.status.busy": "2022-11-07T00:47:01.304475Z",
     "iopub.status.idle": "2022-11-07T00:47:01.307519Z",
     "shell.execute_reply": "2022-11-07T00:47:01.306876Z"
    },
    "papermill": {
     "duration": 0.045453,
     "end_time": "2022-11-07T00:47:01.307846",
     "exception": false,
     "start_time": "2022-11-07T00:47:01.262393",
     "status": "completed"
    },
    "tags": []
   },
   "outputs": [],
   "source": [
    "#hide\n",
    "\n",
    "# FETCH\n",
    "base_url = 'https://raw.githubusercontent.com/pratapvardhan/notebooks/master/covid19/'\n",
    "paths = {\n",
    "    'mapping': base_url + 'mapping_countries.csv',\n",
    "    'overview': base_url + 'overview.tpl'\n",
    "}"
   ]
  },
  {
   "cell_type": "code",
   "execution_count": 3,
   "id": "dynamic-saver",
   "metadata": {
    "execution": {
     "iopub.execute_input": "2022-11-07T00:47:01.420464Z",
     "iopub.status.busy": "2022-11-07T00:47:01.419556Z",
     "iopub.status.idle": "2022-11-07T00:47:01.424365Z",
     "shell.execute_reply": "2022-11-07T00:47:01.423695Z"
    },
    "papermill": {
     "duration": 0.077124,
     "end_time": "2022-11-07T00:47:01.424498",
     "exception": false,
     "start_time": "2022-11-07T00:47:01.347374",
     "status": "completed"
    },
    "tags": []
   },
   "outputs": [
    {
     "data": {
      "text/plain": [
       "'https://raw.githubusercontent.com/pratapvardhan/notebooks/master/covid19/mapping_countries.csv'"
      ]
     },
     "execution_count": 3,
     "metadata": {},
     "output_type": "execute_result"
    }
   ],
   "source": [
    "#hide\n",
    "paths['mapping']"
   ]
  },
  {
   "cell_type": "code",
   "execution_count": 4,
   "id": "urban-software",
   "metadata": {
    "execution": {
     "iopub.execute_input": "2022-11-07T00:47:01.508512Z",
     "iopub.status.busy": "2022-11-07T00:47:01.507811Z",
     "iopub.status.idle": "2022-11-07T00:47:01.511593Z",
     "shell.execute_reply": "2022-11-07T00:47:01.511066Z"
    },
    "papermill": {
     "duration": 0.046292,
     "end_time": "2022-11-07T00:47:01.511712",
     "exception": false,
     "start_time": "2022-11-07T00:47:01.465420",
     "status": "completed"
    },
    "tags": []
   },
   "outputs": [],
   "source": [
    "#hide\n",
    "def get_mappings(url):\n",
    "    df = pd.read_csv(url)\n",
    "    return {\n",
    "        'df': df,\n",
    "        'replace.country': dict(df.dropna(subset=['Name']).set_index('Country')['Name']),\n",
    "        'map.continent': dict(df.set_index('Name')['Continent'])\n",
    "    }"
   ]
  },
  {
   "cell_type": "code",
   "execution_count": 5,
   "id": "intimate-machinery",
   "metadata": {
    "execution": {
     "iopub.execute_input": "2022-11-07T00:47:01.599677Z",
     "iopub.status.busy": "2022-11-07T00:47:01.598919Z",
     "iopub.status.idle": "2022-11-07T00:47:01.628190Z",
     "shell.execute_reply": "2022-11-07T00:47:01.628770Z"
    },
    "papermill": {
     "duration": 0.077633,
     "end_time": "2022-11-07T00:47:01.628924",
     "exception": false,
     "start_time": "2022-11-07T00:47:01.551291",
     "status": "completed"
    },
    "tags": []
   },
   "outputs": [],
   "source": [
    "#hide\n",
    "mapping = get_mappings(paths['mapping'])"
   ]
  },
  {
   "cell_type": "code",
   "execution_count": 6,
   "id": "certified-tactics",
   "metadata": {
    "execution": {
     "iopub.execute_input": "2022-11-07T00:47:01.712424Z",
     "iopub.status.busy": "2022-11-07T00:47:01.711715Z",
     "iopub.status.idle": "2022-11-07T00:47:01.714613Z",
     "shell.execute_reply": "2022-11-07T00:47:01.714066Z"
    },
    "papermill": {
     "duration": 0.048401,
     "end_time": "2022-11-07T00:47:01.714727",
     "exception": false,
     "start_time": "2022-11-07T00:47:01.666326",
     "status": "completed"
    },
    "tags": []
   },
   "outputs": [],
   "source": [
    "#hide\n",
    "def get_template(path):\n",
    "    from urllib.parse import urlparse\n",
    "    if bool(urlparse(path).netloc):\n",
    "        from urllib.request import urlopen\n",
    "        return urlopen(path).read().decode('utf8')\n",
    "    return open(path).read()"
   ]
  },
  {
   "cell_type": "code",
   "execution_count": 7,
   "id": "realistic-blast",
   "metadata": {
    "execution": {
     "iopub.execute_input": "2022-11-07T00:47:01.805918Z",
     "iopub.status.busy": "2022-11-07T00:47:01.805141Z",
     "iopub.status.idle": "2022-11-07T00:47:01.809742Z",
     "shell.execute_reply": "2022-11-07T00:47:01.808211Z"
    },
    "papermill": {
     "duration": 0.053275,
     "end_time": "2022-11-07T00:47:01.809882",
     "exception": false,
     "start_time": "2022-11-07T00:47:01.756607",
     "status": "completed"
    },
    "tags": []
   },
   "outputs": [],
   "source": [
    "#hide\n",
    "def get_frame(name):\n",
    "    url = (\n",
    "        'https://raw.githubusercontent.com/CSSEGISandData/COVID-19/master/csse_covid_19_data/'\n",
    "        f'csse_covid_19_time_series/time_series_covid19_{name}_global.csv')\n",
    "    df = pd.read_csv(url)\n",
    "    # rename countries\n",
    "    df['Country/Region'] = df['Country/Region'].replace(mapping['replace.country'])\n",
    "    return df"
   ]
  },
  {
   "cell_type": "code",
   "execution_count": 8,
   "id": "affiliated-characterization",
   "metadata": {
    "execution": {
     "iopub.execute_input": "2022-11-07T00:47:01.898868Z",
     "iopub.status.busy": "2022-11-07T00:47:01.897874Z",
     "iopub.status.idle": "2022-11-07T00:47:01.902332Z",
     "shell.execute_reply": "2022-11-07T00:47:01.901669Z"
    },
    "papermill": {
     "duration": 0.054604,
     "end_time": "2022-11-07T00:47:01.902522",
     "exception": false,
     "start_time": "2022-11-07T00:47:01.847918",
     "status": "completed"
    },
    "tags": []
   },
   "outputs": [],
   "source": [
    "#hide\n",
    "def get_dates(df):\n",
    "    dt_cols = df.columns[~df.columns.isin(['Province/State', 'Country/Region', 'Lat', 'Long'])]\n",
    "    LAST_DATE_I = -1\n",
    "    # sometimes last column may be empty, then go backwards\n",
    "    for i in range(-1, -len(dt_cols), -1):\n",
    "        if not df[dt_cols[i]].fillna(0).eq(0).all():\n",
    "            LAST_DATE_I = i\n",
    "            break\n",
    "    return LAST_DATE_I, dt_cols"
   ]
  },
  {
   "cell_type": "code",
   "execution_count": 9,
   "id": "recent-optimization",
   "metadata": {
    "execution": {
     "iopub.execute_input": "2022-11-07T00:47:01.979858Z",
     "iopub.status.busy": "2022-11-07T00:47:01.979202Z",
     "iopub.status.idle": "2022-11-07T00:47:02.566286Z",
     "shell.execute_reply": "2022-11-07T00:47:02.565398Z"
    },
    "papermill": {
     "duration": 0.629297,
     "end_time": "2022-11-07T00:47:02.566446",
     "exception": false,
     "start_time": "2022-11-07T00:47:01.937149",
     "status": "completed"
    },
    "tags": []
   },
   "outputs": [],
   "source": [
    "#hide\n",
    "COL_REGION = 'Country/Region'\n",
    "# Confirmed, Recovered, Deaths\n",
    "df = get_frame('confirmed')\n",
    "# dft_: timeseries, dfc_: today country agg\n",
    "dft_cases = df\n",
    "dft_deaths = get_frame('deaths')\n",
    "dft_recovered = get_frame('recovered')\n",
    "LAST_DATE_I, dt_cols = get_dates(df)"
   ]
  },
  {
   "cell_type": "code",
   "execution_count": 10,
   "id": "absolute-copper",
   "metadata": {
    "execution": {
     "iopub.execute_input": "2022-11-07T00:47:02.649344Z",
     "iopub.status.busy": "2022-11-07T00:47:02.647861Z",
     "iopub.status.idle": "2022-11-07T00:47:02.651853Z",
     "shell.execute_reply": "2022-11-07T00:47:02.652611Z"
    },
    "papermill": {
     "duration": 0.048521,
     "end_time": "2022-11-07T00:47:02.652753",
     "exception": false,
     "start_time": "2022-11-07T00:47:02.604232",
     "status": "completed"
    },
    "tags": []
   },
   "outputs": [],
   "source": [
    "#hide\n",
    "LAST_DATE_I, dt_cols = get_dates(df)\n",
    "dt_today =dt_cols[LAST_DATE_I]\n",
    "# dt_5day = dt_cols[LAST_DATE_I - 5]\n",
    "dt_yday = dt_cols[LAST_DATE_I - 1]"
   ]
  },
  {
   "cell_type": "code",
   "execution_count": 11,
   "id": "restricted-sheriff",
   "metadata": {
    "execution": {
     "iopub.execute_input": "2022-11-07T00:47:02.753002Z",
     "iopub.status.busy": "2022-11-07T00:47:02.752071Z",
     "iopub.status.idle": "2022-11-07T00:47:02.755716Z",
     "shell.execute_reply": "2022-11-07T00:47:02.756526Z"
    },
    "papermill": {
     "duration": 0.06134,
     "end_time": "2022-11-07T00:47:02.756710",
     "exception": false,
     "start_time": "2022-11-07T00:47:02.695370",
     "status": "completed"
    },
    "tags": []
   },
   "outputs": [],
   "source": [
    "#hide\n",
    "dfc_cases = dft_cases.groupby(COL_REGION)[dt_today].sum()\n",
    "dfc_deaths = dft_deaths.groupby(COL_REGION)[dt_today].sum()\n",
    "# dfp_cases = dft_cases.groupby(COL_REGION)[dt_5day].sum()\n",
    "# dfp_deaths = dft_deaths.groupby(COL_REGION)[dt_5day].sum()\n",
    "dfp_cases = dft_cases.groupby(COL_REGION)[dt_yday].sum()\n",
    "dfp_deaths = dft_deaths.groupby(COL_REGION)[dt_yday].sum()"
   ]
  },
  {
   "cell_type": "code",
   "execution_count": 12,
   "id": "deluxe-hepatitis",
   "metadata": {
    "execution": {
     "iopub.execute_input": "2022-11-07T00:47:02.848778Z",
     "iopub.status.busy": "2022-11-07T00:47:02.847908Z",
     "iopub.status.idle": "2022-11-07T00:47:02.853440Z",
     "shell.execute_reply": "2022-11-07T00:47:02.854198Z"
    },
    "papermill": {
     "duration": 0.055806,
     "end_time": "2022-11-07T00:47:02.854411",
     "exception": false,
     "start_time": "2022-11-07T00:47:02.798605",
     "status": "completed"
    },
    "tags": []
   },
   "outputs": [],
   "source": [
    "#hide\n",
    "df_table = (pd.DataFrame(dict(Cases = dfc_cases, Deaths = dfc_deaths, PCases = dfp_cases, PDeaths = dfp_deaths))\n",
    "            .sort_values(by = ['Cases','Deaths'], ascending = [False, False])\n",
    "            .reset_index())"
   ]
  },
  {
   "cell_type": "code",
   "execution_count": 13,
   "id": "educational-chancellor",
   "metadata": {
    "execution": {
     "iopub.execute_input": "2022-11-07T00:47:02.953939Z",
     "iopub.status.busy": "2022-11-07T00:47:02.953045Z",
     "iopub.status.idle": "2022-11-07T00:47:02.964419Z",
     "shell.execute_reply": "2022-11-07T00:47:02.963847Z"
    },
    "papermill": {
     "duration": 0.071402,
     "end_time": "2022-11-07T00:47:02.964570",
     "exception": false,
     "start_time": "2022-11-07T00:47:02.893168",
     "status": "completed"
    },
    "tags": []
   },
   "outputs": [
    {
     "data": {
      "text/html": [
       "<div>\n",
       "<style scoped>\n",
       "    .dataframe tbody tr th:only-of-type {\n",
       "        vertical-align: middle;\n",
       "    }\n",
       "\n",
       "    .dataframe tbody tr th {\n",
       "        vertical-align: top;\n",
       "    }\n",
       "\n",
       "    .dataframe thead th {\n",
       "        text-align: right;\n",
       "    }\n",
       "</style>\n",
       "<table border=\"1\" class=\"dataframe\">\n",
       "  <thead>\n",
       "    <tr style=\"text-align: right;\">\n",
       "      <th></th>\n",
       "      <th>Country/Region</th>\n",
       "      <th>Cases</th>\n",
       "      <th>Deaths</th>\n",
       "      <th>PCases</th>\n",
       "      <th>PDeaths</th>\n",
       "      <th>Cases (+)</th>\n",
       "      <th>Deaths (+)</th>\n",
       "      <th>Fatality Rate</th>\n",
       "      <th>Continent</th>\n",
       "    </tr>\n",
       "  </thead>\n",
       "  <tbody>\n",
       "    <tr>\n",
       "      <th>0</th>\n",
       "      <td>US</td>\n",
       "      <td>97734261</td>\n",
       "      <td>1072582</td>\n",
       "      <td>97729653</td>\n",
       "      <td>1072561</td>\n",
       "      <td>4608</td>\n",
       "      <td>21</td>\n",
       "      <td>1.10</td>\n",
       "      <td>North America</td>\n",
       "    </tr>\n",
       "    <tr>\n",
       "      <th>1</th>\n",
       "      <td>India</td>\n",
       "      <td>44660579</td>\n",
       "      <td>530500</td>\n",
       "      <td>44659447</td>\n",
       "      <td>530486</td>\n",
       "      <td>1132</td>\n",
       "      <td>14</td>\n",
       "      <td>1.19</td>\n",
       "      <td>Asia</td>\n",
       "    </tr>\n",
       "    <tr>\n",
       "      <th>2</th>\n",
       "      <td>France</td>\n",
       "      <td>37140238</td>\n",
       "      <td>158317</td>\n",
       "      <td>37140238</td>\n",
       "      <td>158317</td>\n",
       "      <td>0</td>\n",
       "      <td>0</td>\n",
       "      <td>0.43</td>\n",
       "      <td>Europe</td>\n",
       "    </tr>\n",
       "    <tr>\n",
       "      <th>3</th>\n",
       "      <td>Germany</td>\n",
       "      <td>35823771</td>\n",
       "      <td>154535</td>\n",
       "      <td>35823771</td>\n",
       "      <td>154535</td>\n",
       "      <td>0</td>\n",
       "      <td>0</td>\n",
       "      <td>0.43</td>\n",
       "      <td>Europe</td>\n",
       "    </tr>\n",
       "    <tr>\n",
       "      <th>4</th>\n",
       "      <td>Brazil</td>\n",
       "      <td>34849063</td>\n",
       "      <td>688332</td>\n",
       "      <td>34849063</td>\n",
       "      <td>688332</td>\n",
       "      <td>0</td>\n",
       "      <td>0</td>\n",
       "      <td>1.98</td>\n",
       "      <td>South America</td>\n",
       "    </tr>\n",
       "  </tbody>\n",
       "</table>\n",
       "</div>"
      ],
      "text/plain": [
       "  Country/Region     Cases   Deaths    PCases  PDeaths  Cases (+)  Deaths (+)  \\\n",
       "0             US  97734261  1072582  97729653  1072561       4608          21   \n",
       "1          India  44660579   530500  44659447   530486       1132          14   \n",
       "2         France  37140238   158317  37140238   158317          0           0   \n",
       "3        Germany  35823771   154535  35823771   154535          0           0   \n",
       "4         Brazil  34849063   688332  34849063   688332          0           0   \n",
       "\n",
       "   Fatality Rate      Continent  \n",
       "0           1.10  North America  \n",
       "1           1.19           Asia  \n",
       "2           0.43         Europe  \n",
       "3           0.43         Europe  \n",
       "4           1.98  South America  "
      ]
     },
     "execution_count": 13,
     "metadata": {},
     "output_type": "execute_result"
    }
   ],
   "source": [
    "#hide\n",
    "for c in 'Cases, Deaths'.split(', '):\n",
    "    df_table[f'{c} (+)'] = (df_table[c] - df_table[f'P{c}']).clip(0)\n",
    "    #Clip ça veut dire, les chiffres negatif sont interdit\n",
    "df_table['Fatality Rate'] = (100* df_table['Deaths']/ df_table['Cases']).round(2)\n",
    "df_table['Continent'] = df_table['Country/Region'].map(mapping['map.continent'])\n",
    "df_table.head(5)"
   ]
  },
  {
   "cell_type": "code",
   "execution_count": 14,
   "id": "aboriginal-bulgaria",
   "metadata": {
    "execution": {
     "iopub.execute_input": "2022-11-07T00:47:03.048330Z",
     "iopub.status.busy": "2022-11-07T00:47:03.047523Z",
     "iopub.status.idle": "2022-11-07T00:47:03.050602Z",
     "shell.execute_reply": "2022-11-07T00:47:03.049827Z"
    },
    "papermill": {
     "duration": 0.049034,
     "end_time": "2022-11-07T00:47:03.050751",
     "exception": false,
     "start_time": "2022-11-07T00:47:03.001717",
     "status": "completed"
    },
    "tags": []
   },
   "outputs": [],
   "source": [
    "#hide\n",
    "#delete problematic countries from table\n",
    "df_table = df_table[~df_table['Country/Region'].isin(['Cape Verde', 'Cruise Ship', 'Kosovo'])]"
   ]
  },
  {
   "cell_type": "code",
   "execution_count": 15,
   "id": "fantastic-effect",
   "metadata": {
    "execution": {
     "iopub.execute_input": "2022-11-07T00:47:03.141265Z",
     "iopub.status.busy": "2022-11-07T00:47:03.140521Z",
     "iopub.status.idle": "2022-11-07T00:47:03.163604Z",
     "shell.execute_reply": "2022-11-07T00:47:03.164215Z"
    },
    "papermill": {
     "duration": 0.073343,
     "end_time": "2022-11-07T00:47:03.164366",
     "exception": false,
     "start_time": "2022-11-07T00:47:03.091023",
     "status": "completed"
    },
    "tags": []
   },
   "outputs": [
    {
     "data": {
      "text/html": [
       "<div>\n",
       "<style scoped>\n",
       "    .dataframe tbody tr th:only-of-type {\n",
       "        vertical-align: middle;\n",
       "    }\n",
       "\n",
       "    .dataframe tbody tr th {\n",
       "        vertical-align: top;\n",
       "    }\n",
       "\n",
       "    .dataframe thead th {\n",
       "        text-align: right;\n",
       "    }\n",
       "</style>\n",
       "<table border=\"1\" class=\"dataframe\">\n",
       "  <thead>\n",
       "    <tr style=\"text-align: right;\">\n",
       "      <th></th>\n",
       "      <th>Country/Region</th>\n",
       "      <th>Cases</th>\n",
       "      <th>Deaths</th>\n",
       "      <th>PCases</th>\n",
       "      <th>PDeaths</th>\n",
       "      <th>Cases (+)</th>\n",
       "      <th>Deaths (+)</th>\n",
       "      <th>Fatality Rate</th>\n",
       "      <th>Continent</th>\n",
       "    </tr>\n",
       "  </thead>\n",
       "  <tbody>\n",
       "    <tr>\n",
       "      <th>0</th>\n",
       "      <td>US</td>\n",
       "      <td>97734261</td>\n",
       "      <td>1072582</td>\n",
       "      <td>97729653</td>\n",
       "      <td>1072561</td>\n",
       "      <td>4608</td>\n",
       "      <td>21</td>\n",
       "      <td>1.1</td>\n",
       "      <td>North America</td>\n",
       "    </tr>\n",
       "    <tr>\n",
       "      <th>1</th>\n",
       "      <td>India</td>\n",
       "      <td>44660579</td>\n",
       "      <td>530500</td>\n",
       "      <td>44659447</td>\n",
       "      <td>530486</td>\n",
       "      <td>1132</td>\n",
       "      <td>14</td>\n",
       "      <td>1.2</td>\n",
       "      <td>Asia</td>\n",
       "    </tr>\n",
       "    <tr>\n",
       "      <th>2</th>\n",
       "      <td>France</td>\n",
       "      <td>37140238</td>\n",
       "      <td>158317</td>\n",
       "      <td>37140238</td>\n",
       "      <td>158317</td>\n",
       "      <td>0</td>\n",
       "      <td>0</td>\n",
       "      <td>0.4</td>\n",
       "      <td>Europe</td>\n",
       "    </tr>\n",
       "    <tr>\n",
       "      <th>3</th>\n",
       "      <td>Germany</td>\n",
       "      <td>35823771</td>\n",
       "      <td>154535</td>\n",
       "      <td>35823771</td>\n",
       "      <td>154535</td>\n",
       "      <td>0</td>\n",
       "      <td>0</td>\n",
       "      <td>0.4</td>\n",
       "      <td>Europe</td>\n",
       "    </tr>\n",
       "    <tr>\n",
       "      <th>4</th>\n",
       "      <td>Brazil</td>\n",
       "      <td>34849063</td>\n",
       "      <td>688332</td>\n",
       "      <td>34849063</td>\n",
       "      <td>688332</td>\n",
       "      <td>0</td>\n",
       "      <td>0</td>\n",
       "      <td>2.0</td>\n",
       "      <td>South America</td>\n",
       "    </tr>\n",
       "  </tbody>\n",
       "</table>\n",
       "</div>"
      ],
      "text/plain": [
       "  Country/Region     Cases   Deaths    PCases  PDeaths  Cases (+)  Deaths (+)  \\\n",
       "0             US  97734261  1072582  97729653  1072561       4608          21   \n",
       "1          India  44660579   530500  44659447   530486       1132          14   \n",
       "2         France  37140238   158317  37140238   158317          0           0   \n",
       "3        Germany  35823771   154535  35823771   154535          0           0   \n",
       "4         Brazil  34849063   688332  34849063   688332          0           0   \n",
       "\n",
       "   Fatality Rate      Continent  \n",
       "0            1.1  North America  \n",
       "1            1.2           Asia  \n",
       "2            0.4         Europe  \n",
       "3            0.4         Europe  \n",
       "4            2.0  South America  "
      ]
     },
     "execution_count": 15,
     "metadata": {},
     "output_type": "execute_result"
    }
   ],
   "source": [
    "#hide\n",
    "df_table = (pd.DataFrame(dict(Cases=dfc_cases, Deaths=dfc_deaths, PCases=dfp_cases, PDeaths=dfp_deaths))\n",
    "             .sort_values(by=['Cases', 'Deaths'], ascending=[False, False])\n",
    "             .reset_index())\n",
    "df_table.rename(columns={'index': 'Country/Region'}, inplace=True)\n",
    "for c in 'Cases, Deaths'.split(', '):\n",
    "    df_table[f'{c} (+)'] = (df_table[c] - df_table[f'P{c}']).clip(0)  # DATA BUG\n",
    "df_table['Fatality Rate'] = (100 * df_table['Deaths'] / df_table['Cases']).round(1)\n",
    "df_table['Continent'] = df_table['Country/Region'].map(mapping['map.continent'])\n",
    "df_table.head(5)"
   ]
  },
  {
   "cell_type": "code",
   "execution_count": 16,
   "id": "fewer-occasion",
   "metadata": {
    "execution": {
     "iopub.execute_input": "2022-11-07T00:47:03.252322Z",
     "iopub.status.busy": "2022-11-07T00:47:03.251607Z",
     "iopub.status.idle": "2022-11-07T00:47:03.254426Z",
     "shell.execute_reply": "2022-11-07T00:47:03.255184Z"
    },
    "papermill": {
     "duration": 0.052354,
     "end_time": "2022-11-07T00:47:03.255328",
     "exception": false,
     "start_time": "2022-11-07T00:47:03.202974",
     "status": "completed"
    },
    "tags": []
   },
   "outputs": [],
   "source": [
    "#hide\n",
    "#delete problematic countries from table\n",
    "df_table = df_table[~df_table['Country/Region'].isin(['Cape Verde', 'Cruise Ship', 'Kosovo'])]"
   ]
  },
  {
   "cell_type": "code",
   "execution_count": 17,
   "id": "related-center",
   "metadata": {
    "execution": {
     "iopub.execute_input": "2022-11-07T00:47:03.354980Z",
     "iopub.status.busy": "2022-11-07T00:47:03.354223Z",
     "iopub.status.idle": "2022-11-07T00:47:03.355914Z",
     "shell.execute_reply": "2022-11-07T00:47:03.356585Z"
    },
    "papermill": {
     "duration": 0.060714,
     "end_time": "2022-11-07T00:47:03.356768",
     "exception": false,
     "start_time": "2022-11-07T00:47:03.296054",
     "status": "completed"
    },
    "tags": []
   },
   "outputs": [],
   "source": [
    "#hide\n",
    "metrics = [df_table.columns[index] for index in [1,2,5,6]]\n",
    "# s_china = df_table[df_table['Country/Region'].eq('China')][metrics].sum().add_prefix('China ')\n",
    "s_us = df_table[df_table['Country/Region'].eq('US')][metrics].sum().add_prefix('US ')\n",
    "s_eu = df_table[df_table['Continent'].eq('Europe')][metrics].sum().add_prefix('EU ')\n",
    "s_ind = df_table[df_table['Country/Region'].eq('India')][metrics].sum().add_prefix('India ')\n",
    "summary = {'updated': pd.to_datetime(dt_today), 'since': pd.to_datetime(dt_yday)}\n",
    "summary = {'updated': pd.to_datetime(dt_today), 'since': pd.to_datetime(dt_yday)}\n",
    "summary = {**summary, **df_table[metrics].sum(), **s_ind, **s_us, **s_eu}"
   ]
  },
  {
   "cell_type": "code",
   "execution_count": 18,
   "id": "engaging-syndrome",
   "metadata": {
    "execution": {
     "iopub.execute_input": "2022-11-07T00:47:03.441453Z",
     "iopub.status.busy": "2022-11-07T00:47:03.440625Z",
     "iopub.status.idle": "2022-11-07T00:47:03.467137Z",
     "shell.execute_reply": "2022-11-07T00:47:03.466581Z"
    },
    "papermill": {
     "duration": 0.072969,
     "end_time": "2022-11-07T00:47:03.467285",
     "exception": false,
     "start_time": "2022-11-07T00:47:03.394316",
     "status": "completed"
    },
    "tags": []
   },
   "outputs": [],
   "source": [
    "#hide\n",
    "dft_ct_new_cases = dft_cases.groupby(COL_REGION)[dt_cols].sum().diff(axis=1).fillna(0).astype(int)"
   ]
  },
  {
   "cell_type": "code",
   "execution_count": 19,
   "id": "neutral-assignment",
   "metadata": {
    "execution": {
     "iopub.execute_input": "2022-11-07T00:47:03.552879Z",
     "iopub.status.busy": "2022-11-07T00:47:03.551975Z",
     "iopub.status.idle": "2022-11-07T00:47:03.559127Z",
     "shell.execute_reply": "2022-11-07T00:47:03.558412Z"
    },
    "papermill": {
     "duration": 0.051303,
     "end_time": "2022-11-07T00:47:03.559269",
     "exception": false,
     "start_time": "2022-11-07T00:47:03.507966",
     "status": "completed"
    },
    "tags": []
   },
   "outputs": [],
   "source": [
    "#hide\n",
    "everydaycases = dft_ct_new_cases.cumsum(axis=1)"
   ]
  },
  {
   "cell_type": "code",
   "execution_count": 20,
   "id": "parliamentary-calgary",
   "metadata": {
    "execution": {
     "iopub.execute_input": "2022-11-07T00:47:03.641064Z",
     "iopub.status.busy": "2022-11-07T00:47:03.640171Z",
     "iopub.status.idle": "2022-11-07T00:47:04.305975Z",
     "shell.execute_reply": "2022-11-07T00:47:04.305327Z"
    },
    "papermill": {
     "duration": 0.709481,
     "end_time": "2022-11-07T00:47:04.306132",
     "exception": false,
     "start_time": "2022-11-07T00:47:03.596651",
     "status": "completed"
    },
    "tags": []
   },
   "outputs": [],
   "source": [
    "#hide\n",
    "import pandas as pd\n",
    "import matplotlib.pyplot as plt\n",
    "import matplotlib.ticker as ticker\n",
    "import matplotlib.animation as animation\n",
    "from IPython.display import HTML"
   ]
  },
  {
   "cell_type": "code",
   "execution_count": 21,
   "id": "lasting-extraction",
   "metadata": {
    "execution": {
     "iopub.execute_input": "2022-11-07T00:47:04.395283Z",
     "iopub.status.busy": "2022-11-07T00:47:04.394612Z",
     "iopub.status.idle": "2022-11-07T00:47:04.402348Z",
     "shell.execute_reply": "2022-11-07T00:47:04.403228Z"
    },
    "papermill": {
     "duration": 0.055167,
     "end_time": "2022-11-07T00:47:04.403385",
     "exception": false,
     "start_time": "2022-11-07T00:47:04.348218",
     "status": "completed"
    },
    "tags": []
   },
   "outputs": [],
   "source": [
    "#hide\n",
    "t = everydaycases.stack()"
   ]
  },
  {
   "cell_type": "code",
   "execution_count": 22,
   "id": "premier-sleeve",
   "metadata": {
    "execution": {
     "iopub.execute_input": "2022-11-07T00:47:04.483980Z",
     "iopub.status.busy": "2022-11-07T00:47:04.483310Z",
     "iopub.status.idle": "2022-11-07T00:47:04.497459Z",
     "shell.execute_reply": "2022-11-07T00:47:04.498317Z"
    },
    "papermill": {
     "duration": 0.057271,
     "end_time": "2022-11-07T00:47:04.498510",
     "exception": false,
     "start_time": "2022-11-07T00:47:04.441239",
     "status": "completed"
    },
    "tags": []
   },
   "outputs": [],
   "source": [
    "#hide\n",
    "g = t.reset_index(['Country/Region'])"
   ]
  },
  {
   "cell_type": "code",
   "execution_count": 23,
   "id": "distributed-pittsburgh",
   "metadata": {
    "execution": {
     "iopub.execute_input": "2022-11-07T00:47:04.577783Z",
     "iopub.status.busy": "2022-11-07T00:47:04.576853Z",
     "iopub.status.idle": "2022-11-07T00:47:04.580144Z",
     "shell.execute_reply": "2022-11-07T00:47:04.579650Z"
    },
    "papermill": {
     "duration": 0.045353,
     "end_time": "2022-11-07T00:47:04.580279",
     "exception": false,
     "start_time": "2022-11-07T00:47:04.534926",
     "status": "completed"
    },
    "tags": []
   },
   "outputs": [],
   "source": [
    "#hide\n",
    "g.index.name = 'date'"
   ]
  },
  {
   "cell_type": "code",
   "execution_count": 24,
   "id": "naked-donor",
   "metadata": {
    "execution": {
     "iopub.execute_input": "2022-11-07T00:47:04.664991Z",
     "iopub.status.busy": "2022-11-07T00:47:04.664198Z",
     "iopub.status.idle": "2022-11-07T00:47:04.669182Z",
     "shell.execute_reply": "2022-11-07T00:47:04.668675Z"
    },
    "papermill": {
     "duration": 0.048682,
     "end_time": "2022-11-07T00:47:04.669300",
     "exception": false,
     "start_time": "2022-11-07T00:47:04.620618",
     "status": "completed"
    },
    "tags": []
   },
   "outputs": [],
   "source": [
    "# #hide\n",
    "# g = g.reset_index(['date'])"
   ]
  },
  {
   "cell_type": "code",
   "execution_count": 25,
   "id": "incomplete-mustang",
   "metadata": {
    "execution": {
     "iopub.execute_input": "2022-11-07T00:47:04.746795Z",
     "iopub.status.busy": "2022-11-07T00:47:04.746134Z",
     "iopub.status.idle": "2022-11-07T00:47:04.750602Z",
     "shell.execute_reply": "2022-11-07T00:47:04.751077Z"
    },
    "papermill": {
     "duration": 0.044574,
     "end_time": "2022-11-07T00:47:04.751215",
     "exception": false,
     "start_time": "2022-11-07T00:47:04.706641",
     "status": "completed"
    },
    "tags": []
   },
   "outputs": [],
   "source": [
    "#hide\n",
    "# g.head()"
   ]
  },
  {
   "cell_type": "code",
   "execution_count": 26,
   "id": "specific-kruger",
   "metadata": {
    "execution": {
     "iopub.execute_input": "2022-11-07T00:47:04.832254Z",
     "iopub.status.busy": "2022-11-07T00:47:04.831388Z",
     "iopub.status.idle": "2022-11-07T00:47:04.836809Z",
     "shell.execute_reply": "2022-11-07T00:47:04.836258Z"
    },
    "papermill": {
     "duration": 0.046152,
     "end_time": "2022-11-07T00:47:04.836935",
     "exception": false,
     "start_time": "2022-11-07T00:47:04.790783",
     "status": "completed"
    },
    "tags": []
   },
   "outputs": [],
   "source": [
    "#hide\n",
    "# g.columns = ['date','country','cases']"
   ]
  },
  {
   "cell_type": "code",
   "execution_count": 27,
   "id": "tender-conversion",
   "metadata": {
    "execution": {
     "iopub.execute_input": "2022-11-07T00:47:04.925811Z",
     "iopub.status.busy": "2022-11-07T00:47:04.925098Z",
     "iopub.status.idle": "2022-11-07T00:47:04.929450Z",
     "shell.execute_reply": "2022-11-07T00:47:04.930167Z"
    },
    "papermill": {
     "duration": 0.049931,
     "end_time": "2022-11-07T00:47:04.930346",
     "exception": false,
     "start_time": "2022-11-07T00:47:04.880415",
     "status": "completed"
    },
    "tags": []
   },
   "outputs": [],
   "source": [
    "#hide\n",
    "# g['continent'] = g.country"
   ]
  },
  {
   "cell_type": "code",
   "execution_count": 28,
   "id": "substantial-wilderness",
   "metadata": {
    "execution": {
     "iopub.execute_input": "2022-11-07T00:47:05.018194Z",
     "iopub.status.busy": "2022-11-07T00:47:05.017432Z",
     "iopub.status.idle": "2022-11-07T00:47:05.021973Z",
     "shell.execute_reply": "2022-11-07T00:47:05.021313Z"
    },
    "papermill": {
     "duration": 0.052517,
     "end_time": "2022-11-07T00:47:05.022117",
     "exception": false,
     "start_time": "2022-11-07T00:47:04.969600",
     "status": "completed"
    },
    "tags": []
   },
   "outputs": [],
   "source": [
    "#hide\n",
    "# cols = list(g.columns.values)"
   ]
  },
  {
   "cell_type": "code",
   "execution_count": 29,
   "id": "solved-farming",
   "metadata": {
    "execution": {
     "iopub.execute_input": "2022-11-07T00:47:05.110966Z",
     "iopub.status.busy": "2022-11-07T00:47:05.110188Z",
     "iopub.status.idle": "2022-11-07T00:47:05.113391Z",
     "shell.execute_reply": "2022-11-07T00:47:05.112812Z"
    },
    "papermill": {
     "duration": 0.050555,
     "end_time": "2022-11-07T00:47:05.113558",
     "exception": false,
     "start_time": "2022-11-07T00:47:05.063003",
     "status": "completed"
    },
    "tags": []
   },
   "outputs": [],
   "source": [
    "#hide\n",
    "# cols.insert(0, cols.pop())"
   ]
  },
  {
   "cell_type": "code",
   "execution_count": 30,
   "id": "executed-adoption",
   "metadata": {
    "execution": {
     "iopub.execute_input": "2022-11-07T00:47:05.194835Z",
     "iopub.status.busy": "2022-11-07T00:47:05.194064Z",
     "iopub.status.idle": "2022-11-07T00:47:05.197194Z",
     "shell.execute_reply": "2022-11-07T00:47:05.196626Z"
    },
    "papermill": {
     "duration": 0.047783,
     "end_time": "2022-11-07T00:47:05.197322",
     "exception": false,
     "start_time": "2022-11-07T00:47:05.149539",
     "status": "completed"
    },
    "tags": []
   },
   "outputs": [],
   "source": [
    "#hide\n",
    "# g = g[cols]"
   ]
  },
  {
   "cell_type": "code",
   "execution_count": 31,
   "id": "subject-dublin",
   "metadata": {
    "execution": {
     "iopub.execute_input": "2022-11-07T00:47:05.282065Z",
     "iopub.status.busy": "2022-11-07T00:47:05.281233Z",
     "iopub.status.idle": "2022-11-07T00:47:05.284955Z",
     "shell.execute_reply": "2022-11-07T00:47:05.284298Z"
    },
    "papermill": {
     "duration": 0.046606,
     "end_time": "2022-11-07T00:47:05.285087",
     "exception": false,
     "start_time": "2022-11-07T00:47:05.238481",
     "status": "completed"
    },
    "tags": []
   },
   "outputs": [],
   "source": [
    "#hide\n",
    "# g['continent'] = g['continent'].map(mapping['map.continent'])"
   ]
  },
  {
   "cell_type": "code",
   "execution_count": 32,
   "id": "freelance-scout",
   "metadata": {
    "execution": {
     "iopub.execute_input": "2022-11-07T00:47:05.367981Z",
     "iopub.status.busy": "2022-11-07T00:47:05.367332Z",
     "iopub.status.idle": "2022-11-07T00:47:05.370185Z",
     "shell.execute_reply": "2022-11-07T00:47:05.369589Z"
    },
    "papermill": {
     "duration": 0.046788,
     "end_time": "2022-11-07T00:47:05.370308",
     "exception": false,
     "start_time": "2022-11-07T00:47:05.323520",
     "status": "completed"
    },
    "tags": []
   },
   "outputs": [],
   "source": [
    "#hide\n",
    "# g.head()"
   ]
  },
  {
   "cell_type": "code",
   "execution_count": 33,
   "id": "limited-engine",
   "metadata": {
    "execution": {
     "iopub.execute_input": "2022-11-07T00:47:05.456534Z",
     "iopub.status.busy": "2022-11-07T00:47:05.455800Z",
     "iopub.status.idle": "2022-11-07T00:47:05.460387Z",
     "shell.execute_reply": "2022-11-07T00:47:05.460968Z"
    },
    "papermill": {
     "duration": 0.049803,
     "end_time": "2022-11-07T00:47:05.461136",
     "exception": false,
     "start_time": "2022-11-07T00:47:05.411333",
     "status": "completed"
    },
    "tags": []
   },
   "outputs": [],
   "source": [
    "# hide\n",
    "# g['date'] = g['date'].astype('datetime64[ns]')"
   ]
  },
  {
   "cell_type": "code",
   "execution_count": 34,
   "id": "sophisticated-supervisor",
   "metadata": {
    "execution": {
     "iopub.execute_input": "2022-11-07T00:47:05.547490Z",
     "iopub.status.busy": "2022-11-07T00:47:05.546487Z",
     "iopub.status.idle": "2022-11-07T00:47:05.549869Z",
     "shell.execute_reply": "2022-11-07T00:47:05.549108Z"
    },
    "papermill": {
     "duration": 0.049121,
     "end_time": "2022-11-07T00:47:05.550049",
     "exception": false,
     "start_time": "2022-11-07T00:47:05.500928",
     "status": "completed"
    },
    "tags": []
   },
   "outputs": [],
   "source": [
    "#hide\n",
    "# g['date'] = g.date.dt.dayofyear"
   ]
  },
  {
   "cell_type": "code",
   "execution_count": 35,
   "id": "inside-dubai",
   "metadata": {
    "execution": {
     "iopub.execute_input": "2022-11-07T00:47:05.649267Z",
     "iopub.status.busy": "2022-11-07T00:47:05.648256Z",
     "iopub.status.idle": "2022-11-07T00:47:05.651404Z",
     "shell.execute_reply": "2022-11-07T00:47:05.650871Z"
    },
    "papermill": {
     "duration": 0.060311,
     "end_time": "2022-11-07T00:47:05.651527",
     "exception": false,
     "start_time": "2022-11-07T00:47:05.591216",
     "status": "completed"
    },
    "tags": []
   },
   "outputs": [],
   "source": [
    "#hide\n",
    "# g = g.rename(columns= {'continent':'group','country':'name','cases':'value'})"
   ]
  },
  {
   "cell_type": "code",
   "execution_count": 36,
   "id": "fleet-motorcycle",
   "metadata": {
    "execution": {
     "iopub.execute_input": "2022-11-07T00:47:05.735745Z",
     "iopub.status.busy": "2022-11-07T00:47:05.735046Z",
     "iopub.status.idle": "2022-11-07T00:47:05.740188Z",
     "shell.execute_reply": "2022-11-07T00:47:05.739573Z"
    },
    "papermill": {
     "duration": 0.049912,
     "end_time": "2022-11-07T00:47:05.740371",
     "exception": false,
     "start_time": "2022-11-07T00:47:05.690459",
     "status": "completed"
    },
    "tags": []
   },
   "outputs": [],
   "source": [
    "#hide\n",
    "# cols = ['name','group','day','value']"
   ]
  },
  {
   "cell_type": "code",
   "execution_count": 37,
   "id": "continued-sleeping",
   "metadata": {
    "execution": {
     "iopub.execute_input": "2022-11-07T00:47:05.819567Z",
     "iopub.status.busy": "2022-11-07T00:47:05.818798Z",
     "iopub.status.idle": "2022-11-07T00:47:05.822463Z",
     "shell.execute_reply": "2022-11-07T00:47:05.821818Z"
    },
    "papermill": {
     "duration": 0.045352,
     "end_time": "2022-11-07T00:47:05.822600",
     "exception": false,
     "start_time": "2022-11-07T00:47:05.777248",
     "status": "completed"
    },
    "tags": []
   },
   "outputs": [],
   "source": [
    "#hide\n",
    "# g.rename(columns= {'date':'day'},inplace = True)"
   ]
  },
  {
   "cell_type": "code",
   "execution_count": 38,
   "id": "major-fight",
   "metadata": {
    "execution": {
     "iopub.execute_input": "2022-11-07T00:47:05.902093Z",
     "iopub.status.busy": "2022-11-07T00:47:05.901284Z",
     "iopub.status.idle": "2022-11-07T00:47:05.905048Z",
     "shell.execute_reply": "2022-11-07T00:47:05.905708Z"
    },
    "papermill": {
     "duration": 0.044705,
     "end_time": "2022-11-07T00:47:05.905895",
     "exception": false,
     "start_time": "2022-11-07T00:47:05.861190",
     "status": "completed"
    },
    "tags": []
   },
   "outputs": [],
   "source": [
    "#hide\n",
    "# g = g[cols]"
   ]
  },
  {
   "cell_type": "code",
   "execution_count": 39,
   "id": "structured-mobile",
   "metadata": {
    "execution": {
     "iopub.execute_input": "2022-11-07T00:47:05.998592Z",
     "iopub.status.busy": "2022-11-07T00:47:05.997587Z",
     "iopub.status.idle": "2022-11-07T00:47:06.002174Z",
     "shell.execute_reply": "2022-11-07T00:47:06.001223Z"
    },
    "papermill": {
     "duration": 0.056768,
     "end_time": "2022-11-07T00:47:06.002368",
     "exception": false,
     "start_time": "2022-11-07T00:47:05.945600",
     "status": "completed"
    },
    "tags": []
   },
   "outputs": [],
   "source": [
    "# #hide\n",
    "# g = g[g.group.notna()]"
   ]
  },
  {
   "cell_type": "code",
   "execution_count": 40,
   "id": "determined-closing",
   "metadata": {
    "execution": {
     "iopub.execute_input": "2022-11-07T00:47:06.095244Z",
     "iopub.status.busy": "2022-11-07T00:47:06.094479Z",
     "iopub.status.idle": "2022-11-07T00:47:06.097866Z",
     "shell.execute_reply": "2022-11-07T00:47:06.097191Z"
    },
    "papermill": {
     "duration": 0.053322,
     "end_time": "2022-11-07T00:47:06.098006",
     "exception": false,
     "start_time": "2022-11-07T00:47:06.044684",
     "status": "completed"
    },
    "tags": []
   },
   "outputs": [],
   "source": [
    "# #hide\n",
    "# colors = dict(zip(\n",
    "#     [\"Oceania\", \"Europe\", \"Asia\", \"South America\", \"Middle East\", \"North America\", \"Africa\"],\n",
    "#     [\"#adb0ff\", \"#ffb3ff\", \"#90d595\", \"#e48381\", \"#aafbff\", \"#f7bb5f\", \"#eafb50\"]\n",
    "# ))\n",
    "# group_lk = g.set_index('name')['group'].to_dict()"
   ]
  },
  {
   "cell_type": "code",
   "execution_count": null,
   "id": "gross-drinking",
   "metadata": {
    "papermill": {
     "duration": 0.040631,
     "end_time": "2022-11-07T00:47:06.182324",
     "exception": false,
     "start_time": "2022-11-07T00:47:06.141693",
     "status": "completed"
    },
    "tags": []
   },
   "outputs": [],
   "source": []
  },
  {
   "cell_type": "code",
   "execution_count": 41,
   "id": "subject-macintosh",
   "metadata": {
    "execution": {
     "iopub.execute_input": "2022-11-07T00:47:06.264757Z",
     "iopub.status.busy": "2022-11-07T00:47:06.263887Z",
     "iopub.status.idle": "2022-11-07T00:47:06.269320Z",
     "shell.execute_reply": "2022-11-07T00:47:06.268654Z"
    },
    "papermill": {
     "duration": 0.047993,
     "end_time": "2022-11-07T00:47:06.269484",
     "exception": false,
     "start_time": "2022-11-07T00:47:06.221491",
     "status": "completed"
    },
    "tags": []
   },
   "outputs": [],
   "source": [
    "# #hide\n",
    "# fig, ax = plt.subplots(figsize=(15, 8))\n",
    "\n",
    "# def draw_barchart(current_day):\n",
    "#     dff = g[g['day'].eq(current_day)].sort_values(by='value', ascending=True).tail(10)\n",
    "#     ax.clear()\n",
    "#     ax.barh(dff['name'], dff['value'], color=[colors[group_lk[x]] for x in dff['name']])\n",
    "#     dx = dff['value'].max() / 200\n",
    "    \n",
    "#     for i, (value, name) in enumerate(zip(dff['value'], dff['name'])):\n",
    "#         ax.text(value-dx, i,     name,           size=14, weight=600, ha='right', va='bottom')\n",
    "#         ax.text(value-dx, i-.25, group_lk[name], size=10, color='#444444', ha='right', va='baseline')\n",
    "#         ax.text(value+dx, i,     f'{value:,.0f}',  size=14, ha='left',  va='center')\n",
    "#     ax.text(1, 0.4, current_day, transform=ax.transAxes, color='#777777', size=46, ha='right', weight=800)\n",
    "#     ax.text(0, 1.06, 'Population (thousands)', transform=ax.transAxes, size=12, color='#777777')\n",
    "#     ax.xaxis.set_major_formatter(ticker.StrMethodFormatter('{x:,.0f}'))\n",
    "#     ax.xaxis.set_ticks_position('top')\n",
    "#     ax.tick_params(axis='x', colors='#777777', labelsize=12)\n",
    "#     ax.set_yticks([])\n",
    "#     ax.margins(0, 0.01)\n",
    "#     ax.grid(which='major', axis='x', linestyle='-')\n",
    "#     ax.set_axisbelow(True)\n",
    "    \n",
    "#     ax.text(0, 1.15, 'Coronavirus',\n",
    "#             transform=ax.transAxes, size=24, weight=600, ha='left', va='top')\n",
    "# #     ax.text(1, 0, 'by @pratapvardhan; credit @jburnmurdoch', transform=ax.transAxes, color='#777777', ha='right',\n",
    "# #             bbox=dict(facecolor='white', alpha=0.8, edgecolor='white'))\n",
    "#     plt.box(False)"
   ]
  },
  {
   "cell_type": "code",
   "execution_count": 42,
   "id": "sexual-wages",
   "metadata": {
    "execution": {
     "iopub.execute_input": "2022-11-07T00:47:06.378341Z",
     "iopub.status.busy": "2022-11-07T00:47:06.377238Z",
     "iopub.status.idle": "2022-11-07T00:47:06.381304Z",
     "shell.execute_reply": "2022-11-07T00:47:06.382174Z"
    },
    "papermill": {
     "duration": 0.060563,
     "end_time": "2022-11-07T00:47:06.382418",
     "exception": false,
     "start_time": "2022-11-07T00:47:06.321855",
     "status": "completed"
    },
    "tags": []
   },
   "outputs": [],
   "source": [
    "# #hide_input\n",
    "# fig, ax = plt.subplots(figsize=(15, 8))\n",
    "# animator = animation.FuncAnimation(fig, draw_barchart, frames=range(g.day.values.min(), g.day.values.max()))\n",
    "# HTML(animator.to_jshtml())\n",
    "# # or use animator.to_html5_video() or animator.save() "
   ]
  },
  {
   "cell_type": "code",
   "execution_count": null,
   "id": "australian-container",
   "metadata": {
    "papermill": {
     "duration": 0.036997,
     "end_time": "2022-11-07T00:47:06.463092",
     "exception": false,
     "start_time": "2022-11-07T00:47:06.426095",
     "status": "completed"
    },
    "tags": []
   },
   "outputs": [],
   "source": []
  },
  {
   "cell_type": "code",
   "execution_count": null,
   "id": "mediterranean-pontiac",
   "metadata": {
    "papermill": {
     "duration": 0.037046,
     "end_time": "2022-11-07T00:47:06.538481",
     "exception": false,
     "start_time": "2022-11-07T00:47:06.501435",
     "status": "completed"
    },
    "tags": []
   },
   "outputs": [],
   "source": []
  },
  {
   "cell_type": "code",
   "execution_count": null,
   "id": "aging-legislature",
   "metadata": {
    "papermill": {
     "duration": 0.045097,
     "end_time": "2022-11-07T00:47:06.622568",
     "exception": false,
     "start_time": "2022-11-07T00:47:06.577471",
     "status": "completed"
    },
    "tags": []
   },
   "outputs": [],
   "source": []
  }
 ],
 "metadata": {
  "kernelspec": {
   "display_name": "Python 3",
   "language": "python",
   "name": "python3"
  },
  "language_info": {
   "codemirror_mode": {
    "name": "ipython",
    "version": 3
   },
   "file_extension": ".py",
   "mimetype": "text/x-python",
   "name": "python",
   "nbconvert_exporter": "python",
   "pygments_lexer": "ipython3",
   "version": "3.6.15"
  },
  "papermill": {
   "duration": 7.769718,
   "end_time": "2022-11-07T00:47:07.083416",
   "environment_variables": {},
   "exception": null,
   "input_path": "2020-03-21-covid19exp.ipynb",
   "output_path": "2020-03-21-covid19exp.ipynb",
   "parameters": {},
   "start_time": "2022-11-07T00:46:59.313698",
   "version": "2.0.0"
  }
 },
 "nbformat": 4,
 "nbformat_minor": 5
}