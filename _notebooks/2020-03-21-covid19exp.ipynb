{
 "cells": [
  {
   "cell_type": "markdown",
   "id": "muslim-click",
   "metadata": {
    "papermill": {
     "duration": 0.040694,
     "end_time": "2022-01-21T00:25:00.327742",
     "exception": false,
     "start_time": "2022-01-21T00:25:00.287048",
     "status": "completed"
    },
    "tags": []
   },
   "source": [
    "# COVID-19 Case Race\n",
    "> A race chart to see rising cases around the world\n",
    "\n",
    "- author: Hargun Oberoi\n",
    "- image: images/covid-overview.png\n",
    "- hide: false\n",
    "- badges: false"
   ]
  },
  {
   "cell_type": "code",
   "execution_count": 1,
   "id": "proof-material",
   "metadata": {
    "execution": {
     "iopub.execute_input": "2022-01-21T00:25:00.410129Z",
     "iopub.status.busy": "2022-01-21T00:25:00.409491Z",
     "iopub.status.idle": "2022-01-21T00:25:00.798610Z",
     "shell.execute_reply": "2022-01-21T00:25:00.797999Z"
    },
    "papermill": {
     "duration": 0.435906,
     "end_time": "2022-01-21T00:25:00.798779",
     "exception": false,
     "start_time": "2022-01-21T00:25:00.362873",
     "status": "completed"
    },
    "tags": []
   },
   "outputs": [],
   "source": [
    "#hide\n",
    "import numpy as np\n",
    "import pandas as pd\n",
    "from jinja2 import Template\n",
    "from IPython.display import HTML"
   ]
  },
  {
   "cell_type": "code",
   "execution_count": 2,
   "id": "developed-terminology",
   "metadata": {
    "execution": {
     "iopub.execute_input": "2022-01-21T00:25:00.883756Z",
     "iopub.status.busy": "2022-01-21T00:25:00.883065Z",
     "iopub.status.idle": "2022-01-21T00:25:00.887568Z",
     "shell.execute_reply": "2022-01-21T00:25:00.887026Z"
    },
    "papermill": {
     "duration": 0.045637,
     "end_time": "2022-01-21T00:25:00.887709",
     "exception": false,
     "start_time": "2022-01-21T00:25:00.842072",
     "status": "completed"
    },
    "tags": []
   },
   "outputs": [],
   "source": [
    "#hide\n",
    "\n",
    "# FETCH\n",
    "base_url = 'https://raw.githubusercontent.com/pratapvardhan/notebooks/master/covid19/'\n",
    "paths = {\n",
    "    'mapping': base_url + 'mapping_countries.csv',\n",
    "    'overview': base_url + 'overview.tpl'\n",
    "}"
   ]
  },
  {
   "cell_type": "code",
   "execution_count": 3,
   "id": "dynamic-saver",
   "metadata": {
    "execution": {
     "iopub.execute_input": "2022-01-21T00:25:00.968387Z",
     "iopub.status.busy": "2022-01-21T00:25:00.967732Z",
     "iopub.status.idle": "2022-01-21T00:25:00.970742Z",
     "shell.execute_reply": "2022-01-21T00:25:00.971326Z"
    },
    "papermill": {
     "duration": 0.0494,
     "end_time": "2022-01-21T00:25:00.971475",
     "exception": false,
     "start_time": "2022-01-21T00:25:00.922075",
     "status": "completed"
    },
    "tags": []
   },
   "outputs": [
    {
     "data": {
      "text/plain": [
       "'https://raw.githubusercontent.com/pratapvardhan/notebooks/master/covid19/mapping_countries.csv'"
      ]
     },
     "execution_count": 3,
     "metadata": {},
     "output_type": "execute_result"
    }
   ],
   "source": [
    "#hide\n",
    "paths['mapping']"
   ]
  },
  {
   "cell_type": "code",
   "execution_count": 4,
   "id": "urban-software",
   "metadata": {
    "execution": {
     "iopub.execute_input": "2022-01-21T00:25:01.046363Z",
     "iopub.status.busy": "2022-01-21T00:25:01.045746Z",
     "iopub.status.idle": "2022-01-21T00:25:01.048583Z",
     "shell.execute_reply": "2022-01-21T00:25:01.048071Z"
    },
    "papermill": {
     "duration": 0.042689,
     "end_time": "2022-01-21T00:25:01.048713",
     "exception": false,
     "start_time": "2022-01-21T00:25:01.006024",
     "status": "completed"
    },
    "tags": []
   },
   "outputs": [],
   "source": [
    "#hide\n",
    "def get_mappings(url):\n",
    "    df = pd.read_csv(url)\n",
    "    return {\n",
    "        'df': df,\n",
    "        'replace.country': dict(df.dropna(subset=['Name']).set_index('Country')['Name']),\n",
    "        'map.continent': dict(df.set_index('Name')['Continent'])\n",
    "    }"
   ]
  },
  {
   "cell_type": "code",
   "execution_count": 5,
   "id": "intimate-machinery",
   "metadata": {
    "execution": {
     "iopub.execute_input": "2022-01-21T00:25:01.125166Z",
     "iopub.status.busy": "2022-01-21T00:25:01.124529Z",
     "iopub.status.idle": "2022-01-21T00:25:01.155344Z",
     "shell.execute_reply": "2022-01-21T00:25:01.154506Z"
    },
    "papermill": {
     "duration": 0.072393,
     "end_time": "2022-01-21T00:25:01.155530",
     "exception": false,
     "start_time": "2022-01-21T00:25:01.083137",
     "status": "completed"
    },
    "tags": []
   },
   "outputs": [],
   "source": [
    "#hide\n",
    "mapping = get_mappings(paths['mapping'])"
   ]
  },
  {
   "cell_type": "code",
   "execution_count": 6,
   "id": "certified-tactics",
   "metadata": {
    "execution": {
     "iopub.execute_input": "2022-01-21T00:25:01.235317Z",
     "iopub.status.busy": "2022-01-21T00:25:01.234664Z",
     "iopub.status.idle": "2022-01-21T00:25:01.239195Z",
     "shell.execute_reply": "2022-01-21T00:25:01.238675Z"
    },
    "papermill": {
     "duration": 0.046611,
     "end_time": "2022-01-21T00:25:01.239331",
     "exception": false,
     "start_time": "2022-01-21T00:25:01.192720",
     "status": "completed"
    },
    "tags": []
   },
   "outputs": [],
   "source": [
    "#hide\n",
    "def get_template(path):\n",
    "    from urllib.parse import urlparse\n",
    "    if bool(urlparse(path).netloc):\n",
    "        from urllib.request import urlopen\n",
    "        return urlopen(path).read().decode('utf8')\n",
    "    return open(path).read()"
   ]
  },
  {
   "cell_type": "code",
   "execution_count": 7,
   "id": "realistic-blast",
   "metadata": {
    "execution": {
     "iopub.execute_input": "2022-01-21T00:25:01.315646Z",
     "iopub.status.busy": "2022-01-21T00:25:01.315024Z",
     "iopub.status.idle": "2022-01-21T00:25:01.318186Z",
     "shell.execute_reply": "2022-01-21T00:25:01.317570Z"
    },
    "papermill": {
     "duration": 0.044145,
     "end_time": "2022-01-21T00:25:01.318315",
     "exception": false,
     "start_time": "2022-01-21T00:25:01.274170",
     "status": "completed"
    },
    "tags": []
   },
   "outputs": [],
   "source": [
    "#hide\n",
    "def get_frame(name):\n",
    "    url = (\n",
    "        'https://raw.githubusercontent.com/CSSEGISandData/COVID-19/master/csse_covid_19_data/'\n",
    "        f'csse_covid_19_time_series/time_series_covid19_{name}_global.csv')\n",
    "    df = pd.read_csv(url)\n",
    "    # rename countries\n",
    "    df['Country/Region'] = df['Country/Region'].replace(mapping['replace.country'])\n",
    "    return df"
   ]
  },
  {
   "cell_type": "code",
   "execution_count": 8,
   "id": "affiliated-characterization",
   "metadata": {
    "execution": {
     "iopub.execute_input": "2022-01-21T00:25:01.397395Z",
     "iopub.status.busy": "2022-01-21T00:25:01.396476Z",
     "iopub.status.idle": "2022-01-21T00:25:01.398632Z",
     "shell.execute_reply": "2022-01-21T00:25:01.399097Z"
    },
    "papermill": {
     "duration": 0.046125,
     "end_time": "2022-01-21T00:25:01.399247",
     "exception": false,
     "start_time": "2022-01-21T00:25:01.353122",
     "status": "completed"
    },
    "tags": []
   },
   "outputs": [],
   "source": [
    "#hide\n",
    "def get_dates(df):\n",
    "    dt_cols = df.columns[~df.columns.isin(['Province/State', 'Country/Region', 'Lat', 'Long'])]\n",
    "    LAST_DATE_I = -1\n",
    "    # sometimes last column may be empty, then go backwards\n",
    "    for i in range(-1, -len(dt_cols), -1):\n",
    "        if not df[dt_cols[i]].fillna(0).eq(0).all():\n",
    "            LAST_DATE_I = i\n",
    "            break\n",
    "    return LAST_DATE_I, dt_cols"
   ]
  },
  {
   "cell_type": "code",
   "execution_count": 9,
   "id": "recent-optimization",
   "metadata": {
    "execution": {
     "iopub.execute_input": "2022-01-21T00:25:01.472889Z",
     "iopub.status.busy": "2022-01-21T00:25:01.472251Z",
     "iopub.status.idle": "2022-01-21T00:25:01.858469Z",
     "shell.execute_reply": "2022-01-21T00:25:01.857584Z"
    },
    "papermill": {
     "duration": 0.425234,
     "end_time": "2022-01-21T00:25:01.858694",
     "exception": false,
     "start_time": "2022-01-21T00:25:01.433460",
     "status": "completed"
    },
    "tags": []
   },
   "outputs": [],
   "source": [
    "#hide\n",
    "COL_REGION = 'Country/Region'\n",
    "# Confirmed, Recovered, Deaths\n",
    "df = get_frame('confirmed')\n",
    "# dft_: timeseries, dfc_: today country agg\n",
    "dft_cases = df\n",
    "dft_deaths = get_frame('deaths')\n",
    "dft_recovered = get_frame('recovered')\n",
    "LAST_DATE_I, dt_cols = get_dates(df)"
   ]
  },
  {
   "cell_type": "code",
   "execution_count": 10,
   "id": "absolute-copper",
   "metadata": {
    "execution": {
     "iopub.execute_input": "2022-01-21T00:25:01.936300Z",
     "iopub.status.busy": "2022-01-21T00:25:01.935182Z",
     "iopub.status.idle": "2022-01-21T00:25:01.937617Z",
     "shell.execute_reply": "2022-01-21T00:25:01.938583Z"
    },
    "papermill": {
     "duration": 0.043889,
     "end_time": "2022-01-21T00:25:01.938829",
     "exception": false,
     "start_time": "2022-01-21T00:25:01.894940",
     "status": "completed"
    },
    "tags": []
   },
   "outputs": [],
   "source": [
    "#hide\n",
    "LAST_DATE_I, dt_cols = get_dates(df)\n",
    "dt_today =dt_cols[LAST_DATE_I]\n",
    "# dt_5day = dt_cols[LAST_DATE_I - 5]\n",
    "dt_yday = dt_cols[LAST_DATE_I - 1]"
   ]
  },
  {
   "cell_type": "code",
   "execution_count": 11,
   "id": "restricted-sheriff",
   "metadata": {
    "execution": {
     "iopub.execute_input": "2022-01-21T00:25:02.024194Z",
     "iopub.status.busy": "2022-01-21T00:25:02.023529Z",
     "iopub.status.idle": "2022-01-21T00:25:02.032491Z",
     "shell.execute_reply": "2022-01-21T00:25:02.031959Z"
    },
    "papermill": {
     "duration": 0.051324,
     "end_time": "2022-01-21T00:25:02.032626",
     "exception": false,
     "start_time": "2022-01-21T00:25:01.981302",
     "status": "completed"
    },
    "tags": []
   },
   "outputs": [],
   "source": [
    "#hide\n",
    "dfc_cases = dft_cases.groupby(COL_REGION)[dt_today].sum()\n",
    "dfc_deaths = dft_deaths.groupby(COL_REGION)[dt_today].sum()\n",
    "# dfp_cases = dft_cases.groupby(COL_REGION)[dt_5day].sum()\n",
    "# dfp_deaths = dft_deaths.groupby(COL_REGION)[dt_5day].sum()\n",
    "dfp_cases = dft_cases.groupby(COL_REGION)[dt_yday].sum()\n",
    "dfp_deaths = dft_deaths.groupby(COL_REGION)[dt_yday].sum()"
   ]
  },
  {
   "cell_type": "code",
   "execution_count": 12,
   "id": "deluxe-hepatitis",
   "metadata": {
    "execution": {
     "iopub.execute_input": "2022-01-21T00:25:02.110500Z",
     "iopub.status.busy": "2022-01-21T00:25:02.109283Z",
     "iopub.status.idle": "2022-01-21T00:25:02.117136Z",
     "shell.execute_reply": "2022-01-21T00:25:02.116603Z"
    },
    "papermill": {
     "duration": 0.050006,
     "end_time": "2022-01-21T00:25:02.117269",
     "exception": false,
     "start_time": "2022-01-21T00:25:02.067263",
     "status": "completed"
    },
    "tags": []
   },
   "outputs": [],
   "source": [
    "#hide\n",
    "df_table = (pd.DataFrame(dict(Cases = dfc_cases, Deaths = dfc_deaths, PCases = dfp_cases, PDeaths = dfp_deaths))\n",
    "            .sort_values(by = ['Cases','Deaths'], ascending = [False, False])\n",
    "            .reset_index())"
   ]
  },
  {
   "cell_type": "code",
   "execution_count": 13,
   "id": "educational-chancellor",
   "metadata": {
    "execution": {
     "iopub.execute_input": "2022-01-21T00:25:02.210363Z",
     "iopub.status.busy": "2022-01-21T00:25:02.209719Z",
     "iopub.status.idle": "2022-01-21T00:25:02.218000Z",
     "shell.execute_reply": "2022-01-21T00:25:02.218468Z"
    },
    "papermill": {
     "duration": 0.066649,
     "end_time": "2022-01-21T00:25:02.218621",
     "exception": false,
     "start_time": "2022-01-21T00:25:02.151972",
     "status": "completed"
    },
    "tags": []
   },
   "outputs": [
    {
     "data": {
      "text/html": [
       "<div>\n",
       "<style scoped>\n",
       "    .dataframe tbody tr th:only-of-type {\n",
       "        vertical-align: middle;\n",
       "    }\n",
       "\n",
       "    .dataframe tbody tr th {\n",
       "        vertical-align: top;\n",
       "    }\n",
       "\n",
       "    .dataframe thead th {\n",
       "        text-align: right;\n",
       "    }\n",
       "</style>\n",
       "<table border=\"1\" class=\"dataframe\">\n",
       "  <thead>\n",
       "    <tr style=\"text-align: right;\">\n",
       "      <th></th>\n",
       "      <th>Country/Region</th>\n",
       "      <th>Cases</th>\n",
       "      <th>Deaths</th>\n",
       "      <th>PCases</th>\n",
       "      <th>PDeaths</th>\n",
       "      <th>Cases (+)</th>\n",
       "      <th>Deaths (+)</th>\n",
       "      <th>Fatality Rate</th>\n",
       "      <th>Continent</th>\n",
       "    </tr>\n",
       "  </thead>\n",
       "  <tbody>\n",
       "    <tr>\n",
       "      <th>0</th>\n",
       "      <td>US</td>\n",
       "      <td>68663297</td>\n",
       "      <td>857768</td>\n",
       "      <td>67672872</td>\n",
       "      <td>853958</td>\n",
       "      <td>990425</td>\n",
       "      <td>3810</td>\n",
       "      <td>1.25</td>\n",
       "      <td>North America</td>\n",
       "    </tr>\n",
       "    <tr>\n",
       "      <th>1</th>\n",
       "      <td>India</td>\n",
       "      <td>38218773</td>\n",
       "      <td>487693</td>\n",
       "      <td>37901241</td>\n",
       "      <td>487202</td>\n",
       "      <td>317532</td>\n",
       "      <td>491</td>\n",
       "      <td>1.28</td>\n",
       "      <td>Asia</td>\n",
       "    </tr>\n",
       "    <tr>\n",
       "      <th>2</th>\n",
       "      <td>Brazil</td>\n",
       "      <td>23425392</td>\n",
       "      <td>622125</td>\n",
       "      <td>23229851</td>\n",
       "      <td>621803</td>\n",
       "      <td>195541</td>\n",
       "      <td>322</td>\n",
       "      <td>2.66</td>\n",
       "      <td>South America</td>\n",
       "    </tr>\n",
       "    <tr>\n",
       "      <th>3</th>\n",
       "      <td>United Kingdom</td>\n",
       "      <td>15610069</td>\n",
       "      <td>153378</td>\n",
       "      <td>15501850</td>\n",
       "      <td>153017</td>\n",
       "      <td>108219</td>\n",
       "      <td>361</td>\n",
       "      <td>0.98</td>\n",
       "      <td>Europe</td>\n",
       "    </tr>\n",
       "    <tr>\n",
       "      <th>4</th>\n",
       "      <td>France</td>\n",
       "      <td>15288014</td>\n",
       "      <td>128641</td>\n",
       "      <td>14851448</td>\n",
       "      <td>128629</td>\n",
       "      <td>436566</td>\n",
       "      <td>12</td>\n",
       "      <td>0.84</td>\n",
       "      <td>Europe</td>\n",
       "    </tr>\n",
       "  </tbody>\n",
       "</table>\n",
       "</div>"
      ],
      "text/plain": [
       "   Country/Region     Cases  Deaths    PCases  PDeaths  Cases (+)  Deaths (+)  \\\n",
       "0              US  68663297  857768  67672872   853958     990425        3810   \n",
       "1           India  38218773  487693  37901241   487202     317532         491   \n",
       "2          Brazil  23425392  622125  23229851   621803     195541         322   \n",
       "3  United Kingdom  15610069  153378  15501850   153017     108219         361   \n",
       "4          France  15288014  128641  14851448   128629     436566          12   \n",
       "\n",
       "   Fatality Rate      Continent  \n",
       "0           1.25  North America  \n",
       "1           1.28           Asia  \n",
       "2           2.66  South America  \n",
       "3           0.98         Europe  \n",
       "4           0.84         Europe  "
      ]
     },
     "execution_count": 13,
     "metadata": {},
     "output_type": "execute_result"
    }
   ],
   "source": [
    "#hide\n",
    "for c in 'Cases, Deaths'.split(', '):\n",
    "    df_table[f'{c} (+)'] = (df_table[c] - df_table[f'P{c}']).clip(0)\n",
    "    #Clip ça veut dire, les chiffres negatif sont interdit\n",
    "df_table['Fatality Rate'] = (100* df_table['Deaths']/ df_table['Cases']).round(2)\n",
    "df_table['Continent'] = df_table['Country/Region'].map(mapping['map.continent'])\n",
    "df_table.head(5)"
   ]
  },
  {
   "cell_type": "code",
   "execution_count": 14,
   "id": "aboriginal-bulgaria",
   "metadata": {
    "execution": {
     "iopub.execute_input": "2022-01-21T00:25:02.295367Z",
     "iopub.status.busy": "2022-01-21T00:25:02.294742Z",
     "iopub.status.idle": "2022-01-21T00:25:02.297381Z",
     "shell.execute_reply": "2022-01-21T00:25:02.297878Z"
    },
    "papermill": {
     "duration": 0.0444,
     "end_time": "2022-01-21T00:25:02.298025",
     "exception": false,
     "start_time": "2022-01-21T00:25:02.253625",
     "status": "completed"
    },
    "tags": []
   },
   "outputs": [],
   "source": [
    "#hide\n",
    "#delete problematic countries from table\n",
    "df_table = df_table[~df_table['Country/Region'].isin(['Cape Verde', 'Cruise Ship', 'Kosovo'])]"
   ]
  },
  {
   "cell_type": "code",
   "execution_count": 15,
   "id": "fantastic-effect",
   "metadata": {
    "execution": {
     "iopub.execute_input": "2022-01-21T00:25:02.376835Z",
     "iopub.status.busy": "2022-01-21T00:25:02.376102Z",
     "iopub.status.idle": "2022-01-21T00:25:02.398945Z",
     "shell.execute_reply": "2022-01-21T00:25:02.399603Z"
    },
    "papermill": {
     "duration": 0.066911,
     "end_time": "2022-01-21T00:25:02.399758",
     "exception": false,
     "start_time": "2022-01-21T00:25:02.332847",
     "status": "completed"
    },
    "tags": []
   },
   "outputs": [
    {
     "data": {
      "text/html": [
       "<div>\n",
       "<style scoped>\n",
       "    .dataframe tbody tr th:only-of-type {\n",
       "        vertical-align: middle;\n",
       "    }\n",
       "\n",
       "    .dataframe tbody tr th {\n",
       "        vertical-align: top;\n",
       "    }\n",
       "\n",
       "    .dataframe thead th {\n",
       "        text-align: right;\n",
       "    }\n",
       "</style>\n",
       "<table border=\"1\" class=\"dataframe\">\n",
       "  <thead>\n",
       "    <tr style=\"text-align: right;\">\n",
       "      <th></th>\n",
       "      <th>Country/Region</th>\n",
       "      <th>Cases</th>\n",
       "      <th>Deaths</th>\n",
       "      <th>PCases</th>\n",
       "      <th>PDeaths</th>\n",
       "      <th>Cases (+)</th>\n",
       "      <th>Deaths (+)</th>\n",
       "      <th>Fatality Rate</th>\n",
       "      <th>Continent</th>\n",
       "    </tr>\n",
       "  </thead>\n",
       "  <tbody>\n",
       "    <tr>\n",
       "      <th>0</th>\n",
       "      <td>US</td>\n",
       "      <td>68663297</td>\n",
       "      <td>857768</td>\n",
       "      <td>67672872</td>\n",
       "      <td>853958</td>\n",
       "      <td>990425</td>\n",
       "      <td>3810</td>\n",
       "      <td>1.2</td>\n",
       "      <td>North America</td>\n",
       "    </tr>\n",
       "    <tr>\n",
       "      <th>1</th>\n",
       "      <td>India</td>\n",
       "      <td>38218773</td>\n",
       "      <td>487693</td>\n",
       "      <td>37901241</td>\n",
       "      <td>487202</td>\n",
       "      <td>317532</td>\n",
       "      <td>491</td>\n",
       "      <td>1.3</td>\n",
       "      <td>Asia</td>\n",
       "    </tr>\n",
       "    <tr>\n",
       "      <th>2</th>\n",
       "      <td>Brazil</td>\n",
       "      <td>23425392</td>\n",
       "      <td>622125</td>\n",
       "      <td>23229851</td>\n",
       "      <td>621803</td>\n",
       "      <td>195541</td>\n",
       "      <td>322</td>\n",
       "      <td>2.7</td>\n",
       "      <td>South America</td>\n",
       "    </tr>\n",
       "    <tr>\n",
       "      <th>3</th>\n",
       "      <td>United Kingdom</td>\n",
       "      <td>15610069</td>\n",
       "      <td>153378</td>\n",
       "      <td>15501850</td>\n",
       "      <td>153017</td>\n",
       "      <td>108219</td>\n",
       "      <td>361</td>\n",
       "      <td>1.0</td>\n",
       "      <td>Europe</td>\n",
       "    </tr>\n",
       "    <tr>\n",
       "      <th>4</th>\n",
       "      <td>France</td>\n",
       "      <td>15288014</td>\n",
       "      <td>128641</td>\n",
       "      <td>14851448</td>\n",
       "      <td>128629</td>\n",
       "      <td>436566</td>\n",
       "      <td>12</td>\n",
       "      <td>0.8</td>\n",
       "      <td>Europe</td>\n",
       "    </tr>\n",
       "  </tbody>\n",
       "</table>\n",
       "</div>"
      ],
      "text/plain": [
       "   Country/Region     Cases  Deaths    PCases  PDeaths  Cases (+)  Deaths (+)  \\\n",
       "0              US  68663297  857768  67672872   853958     990425        3810   \n",
       "1           India  38218773  487693  37901241   487202     317532         491   \n",
       "2          Brazil  23425392  622125  23229851   621803     195541         322   \n",
       "3  United Kingdom  15610069  153378  15501850   153017     108219         361   \n",
       "4          France  15288014  128641  14851448   128629     436566          12   \n",
       "\n",
       "   Fatality Rate      Continent  \n",
       "0            1.2  North America  \n",
       "1            1.3           Asia  \n",
       "2            2.7  South America  \n",
       "3            1.0         Europe  \n",
       "4            0.8         Europe  "
      ]
     },
     "execution_count": 15,
     "metadata": {},
     "output_type": "execute_result"
    }
   ],
   "source": [
    "#hide\n",
    "df_table = (pd.DataFrame(dict(Cases=dfc_cases, Deaths=dfc_deaths, PCases=dfp_cases, PDeaths=dfp_deaths))\n",
    "             .sort_values(by=['Cases', 'Deaths'], ascending=[False, False])\n",
    "             .reset_index())\n",
    "df_table.rename(columns={'index': 'Country/Region'}, inplace=True)\n",
    "for c in 'Cases, Deaths'.split(', '):\n",
    "    df_table[f'{c} (+)'] = (df_table[c] - df_table[f'P{c}']).clip(0)  # DATA BUG\n",
    "df_table['Fatality Rate'] = (100 * df_table['Deaths'] / df_table['Cases']).round(1)\n",
    "df_table['Continent'] = df_table['Country/Region'].map(mapping['map.continent'])\n",
    "df_table.head(5)"
   ]
  },
  {
   "cell_type": "code",
   "execution_count": 16,
   "id": "fewer-occasion",
   "metadata": {
    "execution": {
     "iopub.execute_input": "2022-01-21T00:25:02.480654Z",
     "iopub.status.busy": "2022-01-21T00:25:02.479812Z",
     "iopub.status.idle": "2022-01-21T00:25:02.483432Z",
     "shell.execute_reply": "2022-01-21T00:25:02.482818Z"
    },
    "papermill": {
     "duration": 0.047964,
     "end_time": "2022-01-21T00:25:02.483560",
     "exception": false,
     "start_time": "2022-01-21T00:25:02.435596",
     "status": "completed"
    },
    "tags": []
   },
   "outputs": [],
   "source": [
    "#hide\n",
    "#delete problematic countries from table\n",
    "df_table = df_table[~df_table['Country/Region'].isin(['Cape Verde', 'Cruise Ship', 'Kosovo'])]"
   ]
  },
  {
   "cell_type": "code",
   "execution_count": 17,
   "id": "related-center",
   "metadata": {
    "execution": {
     "iopub.execute_input": "2022-01-21T00:25:02.578015Z",
     "iopub.status.busy": "2022-01-21T00:25:02.577336Z",
     "iopub.status.idle": "2022-01-21T00:25:02.578765Z",
     "shell.execute_reply": "2022-01-21T00:25:02.579361Z"
    },
    "papermill": {
     "duration": 0.060658,
     "end_time": "2022-01-21T00:25:02.579517",
     "exception": false,
     "start_time": "2022-01-21T00:25:02.518859",
     "status": "completed"
    },
    "tags": []
   },
   "outputs": [],
   "source": [
    "#hide\n",
    "metrics = [df_table.columns[index] for index in [1,2,5,6]]\n",
    "# s_china = df_table[df_table['Country/Region'].eq('China')][metrics].sum().add_prefix('China ')\n",
    "s_us = df_table[df_table['Country/Region'].eq('US')][metrics].sum().add_prefix('US ')\n",
    "s_eu = df_table[df_table['Continent'].eq('Europe')][metrics].sum().add_prefix('EU ')\n",
    "s_ind = df_table[df_table['Country/Region'].eq('India')][metrics].sum().add_prefix('India ')\n",
    "summary = {'updated': pd.to_datetime(dt_today), 'since': pd.to_datetime(dt_yday)}\n",
    "summary = {'updated': pd.to_datetime(dt_today), 'since': pd.to_datetime(dt_yday)}\n",
    "summary = {**summary, **df_table[metrics].sum(), **s_ind, **s_us, **s_eu}"
   ]
  },
  {
   "cell_type": "code",
   "execution_count": 18,
   "id": "engaging-syndrome",
   "metadata": {
    "execution": {
     "iopub.execute_input": "2022-01-21T00:25:02.657316Z",
     "iopub.status.busy": "2022-01-21T00:25:02.656693Z",
     "iopub.status.idle": "2022-01-21T00:25:02.673239Z",
     "shell.execute_reply": "2022-01-21T00:25:02.673713Z"
    },
    "papermill": {
     "duration": 0.058338,
     "end_time": "2022-01-21T00:25:02.673871",
     "exception": false,
     "start_time": "2022-01-21T00:25:02.615533",
     "status": "completed"
    },
    "tags": []
   },
   "outputs": [],
   "source": [
    "#hide\n",
    "dft_ct_new_cases = dft_cases.groupby(COL_REGION)[dt_cols].sum().diff(axis=1).fillna(0).astype(int)"
   ]
  },
  {
   "cell_type": "code",
   "execution_count": 19,
   "id": "neutral-assignment",
   "metadata": {
    "execution": {
     "iopub.execute_input": "2022-01-21T00:25:02.752971Z",
     "iopub.status.busy": "2022-01-21T00:25:02.752338Z",
     "iopub.status.idle": "2022-01-21T00:25:02.756532Z",
     "shell.execute_reply": "2022-01-21T00:25:02.755871Z"
    },
    "papermill": {
     "duration": 0.04713,
     "end_time": "2022-01-21T00:25:02.756663",
     "exception": false,
     "start_time": "2022-01-21T00:25:02.709533",
     "status": "completed"
    },
    "tags": []
   },
   "outputs": [],
   "source": [
    "#hide\n",
    "everydaycases = dft_ct_new_cases.cumsum(axis=1)"
   ]
  },
  {
   "cell_type": "code",
   "execution_count": 20,
   "id": "parliamentary-calgary",
   "metadata": {
    "execution": {
     "iopub.execute_input": "2022-01-21T00:25:02.833168Z",
     "iopub.status.busy": "2022-01-21T00:25:02.832540Z",
     "iopub.status.idle": "2022-01-21T00:25:03.565287Z",
     "shell.execute_reply": "2022-01-21T00:25:03.564426Z"
    },
    "papermill": {
     "duration": 0.773251,
     "end_time": "2022-01-21T00:25:03.565431",
     "exception": false,
     "start_time": "2022-01-21T00:25:02.792180",
     "status": "completed"
    },
    "tags": []
   },
   "outputs": [],
   "source": [
    "#hide\n",
    "import pandas as pd\n",
    "import matplotlib.pyplot as plt\n",
    "import matplotlib.ticker as ticker\n",
    "import matplotlib.animation as animation\n",
    "from IPython.display import HTML"
   ]
  },
  {
   "cell_type": "code",
   "execution_count": 21,
   "id": "lasting-extraction",
   "metadata": {
    "execution": {
     "iopub.execute_input": "2022-01-21T00:25:03.643048Z",
     "iopub.status.busy": "2022-01-21T00:25:03.642406Z",
     "iopub.status.idle": "2022-01-21T00:25:03.649224Z",
     "shell.execute_reply": "2022-01-21T00:25:03.648721Z"
    },
    "papermill": {
     "duration": 0.048246,
     "end_time": "2022-01-21T00:25:03.649358",
     "exception": false,
     "start_time": "2022-01-21T00:25:03.601112",
     "status": "completed"
    },
    "tags": []
   },
   "outputs": [],
   "source": [
    "#hide\n",
    "t = everydaycases.stack()"
   ]
  },
  {
   "cell_type": "code",
   "execution_count": 22,
   "id": "premier-sleeve",
   "metadata": {
    "execution": {
     "iopub.execute_input": "2022-01-21T00:25:03.726858Z",
     "iopub.status.busy": "2022-01-21T00:25:03.726226Z",
     "iopub.status.idle": "2022-01-21T00:25:03.738217Z",
     "shell.execute_reply": "2022-01-21T00:25:03.737690Z"
    },
    "papermill": {
     "duration": 0.053252,
     "end_time": "2022-01-21T00:25:03.738347",
     "exception": false,
     "start_time": "2022-01-21T00:25:03.685095",
     "status": "completed"
    },
    "tags": []
   },
   "outputs": [],
   "source": [
    "#hide\n",
    "g = t.reset_index(['Country/Region'])"
   ]
  },
  {
   "cell_type": "code",
   "execution_count": 23,
   "id": "distributed-pittsburgh",
   "metadata": {
    "execution": {
     "iopub.execute_input": "2022-01-21T00:25:03.813951Z",
     "iopub.status.busy": "2022-01-21T00:25:03.813335Z",
     "iopub.status.idle": "2022-01-21T00:25:03.815998Z",
     "shell.execute_reply": "2022-01-21T00:25:03.816541Z"
    },
    "papermill": {
     "duration": 0.043028,
     "end_time": "2022-01-21T00:25:03.816690",
     "exception": false,
     "start_time": "2022-01-21T00:25:03.773662",
     "status": "completed"
    },
    "tags": []
   },
   "outputs": [],
   "source": [
    "#hide\n",
    "g.index.name = 'date'"
   ]
  },
  {
   "cell_type": "code",
   "execution_count": 24,
   "id": "naked-donor",
   "metadata": {
    "execution": {
     "iopub.execute_input": "2022-01-21T00:25:03.891868Z",
     "iopub.status.busy": "2022-01-21T00:25:03.891248Z",
     "iopub.status.idle": "2022-01-21T00:25:03.895499Z",
     "shell.execute_reply": "2022-01-21T00:25:03.895005Z"
    },
    "papermill": {
     "duration": 0.043576,
     "end_time": "2022-01-21T00:25:03.895629",
     "exception": false,
     "start_time": "2022-01-21T00:25:03.852053",
     "status": "completed"
    },
    "tags": []
   },
   "outputs": [],
   "source": [
    "# #hide\n",
    "# g = g.reset_index(['date'])"
   ]
  },
  {
   "cell_type": "code",
   "execution_count": 25,
   "id": "incomplete-mustang",
   "metadata": {
    "execution": {
     "iopub.execute_input": "2022-01-21T00:25:03.971216Z",
     "iopub.status.busy": "2022-01-21T00:25:03.970434Z",
     "iopub.status.idle": "2022-01-21T00:25:03.971869Z",
     "shell.execute_reply": "2022-01-21T00:25:03.972387Z"
    },
    "papermill": {
     "duration": 0.041399,
     "end_time": "2022-01-21T00:25:03.972531",
     "exception": false,
     "start_time": "2022-01-21T00:25:03.931132",
     "status": "completed"
    },
    "tags": []
   },
   "outputs": [],
   "source": [
    "#hide\n",
    "# g.head()"
   ]
  },
  {
   "cell_type": "code",
   "execution_count": 26,
   "id": "specific-kruger",
   "metadata": {
    "execution": {
     "iopub.execute_input": "2022-01-21T00:25:04.048208Z",
     "iopub.status.busy": "2022-01-21T00:25:04.047394Z",
     "iopub.status.idle": "2022-01-21T00:25:04.049132Z",
     "shell.execute_reply": "2022-01-21T00:25:04.049691Z"
    },
    "papermill": {
     "duration": 0.04167,
     "end_time": "2022-01-21T00:25:04.049840",
     "exception": false,
     "start_time": "2022-01-21T00:25:04.008170",
     "status": "completed"
    },
    "tags": []
   },
   "outputs": [],
   "source": [
    "#hide\n",
    "# g.columns = ['date','country','cases']"
   ]
  },
  {
   "cell_type": "code",
   "execution_count": 27,
   "id": "tender-conversion",
   "metadata": {
    "execution": {
     "iopub.execute_input": "2022-01-21T00:25:04.125949Z",
     "iopub.status.busy": "2022-01-21T00:25:04.125326Z",
     "iopub.status.idle": "2022-01-21T00:25:04.128311Z",
     "shell.execute_reply": "2022-01-21T00:25:04.127783Z"
    },
    "papermill": {
     "duration": 0.043209,
     "end_time": "2022-01-21T00:25:04.128446",
     "exception": false,
     "start_time": "2022-01-21T00:25:04.085237",
     "status": "completed"
    },
    "tags": []
   },
   "outputs": [],
   "source": [
    "#hide\n",
    "# g['continent'] = g.country"
   ]
  },
  {
   "cell_type": "code",
   "execution_count": 28,
   "id": "substantial-wilderness",
   "metadata": {
    "execution": {
     "iopub.execute_input": "2022-01-21T00:25:04.204512Z",
     "iopub.status.busy": "2022-01-21T00:25:04.203850Z",
     "iopub.status.idle": "2022-01-21T00:25:04.207210Z",
     "shell.execute_reply": "2022-01-21T00:25:04.206596Z"
    },
    "papermill": {
     "duration": 0.043171,
     "end_time": "2022-01-21T00:25:04.207337",
     "exception": false,
     "start_time": "2022-01-21T00:25:04.164166",
     "status": "completed"
    },
    "tags": []
   },
   "outputs": [],
   "source": [
    "#hide\n",
    "# cols = list(g.columns.values)"
   ]
  },
  {
   "cell_type": "code",
   "execution_count": 29,
   "id": "solved-farming",
   "metadata": {
    "execution": {
     "iopub.execute_input": "2022-01-21T00:25:04.283575Z",
     "iopub.status.busy": "2022-01-21T00:25:04.282503Z",
     "iopub.status.idle": "2022-01-21T00:25:04.287508Z",
     "shell.execute_reply": "2022-01-21T00:25:04.287015Z"
    },
    "papermill": {
     "duration": 0.044956,
     "end_time": "2022-01-21T00:25:04.287635",
     "exception": false,
     "start_time": "2022-01-21T00:25:04.242679",
     "status": "completed"
    },
    "tags": []
   },
   "outputs": [],
   "source": [
    "#hide\n",
    "# cols.insert(0, cols.pop())"
   ]
  },
  {
   "cell_type": "code",
   "execution_count": 30,
   "id": "executed-adoption",
   "metadata": {
    "execution": {
     "iopub.execute_input": "2022-01-21T00:25:04.364932Z",
     "iopub.status.busy": "2022-01-21T00:25:04.363627Z",
     "iopub.status.idle": "2022-01-21T00:25:04.366117Z",
     "shell.execute_reply": "2022-01-21T00:25:04.367037Z"
    },
    "papermill": {
     "duration": 0.044021,
     "end_time": "2022-01-21T00:25:04.367226",
     "exception": false,
     "start_time": "2022-01-21T00:25:04.323205",
     "status": "completed"
    },
    "tags": []
   },
   "outputs": [],
   "source": [
    "#hide\n",
    "# g = g[cols]"
   ]
  },
  {
   "cell_type": "code",
   "execution_count": 31,
   "id": "subject-dublin",
   "metadata": {
    "execution": {
     "iopub.execute_input": "2022-01-21T00:25:04.444314Z",
     "iopub.status.busy": "2022-01-21T00:25:04.443200Z",
     "iopub.status.idle": "2022-01-21T00:25:04.447964Z",
     "shell.execute_reply": "2022-01-21T00:25:04.447204Z"
    },
    "papermill": {
     "duration": 0.045533,
     "end_time": "2022-01-21T00:25:04.448118",
     "exception": false,
     "start_time": "2022-01-21T00:25:04.402585",
     "status": "completed"
    },
    "tags": []
   },
   "outputs": [],
   "source": [
    "#hide\n",
    "# g['continent'] = g['continent'].map(mapping['map.continent'])"
   ]
  },
  {
   "cell_type": "code",
   "execution_count": 32,
   "id": "freelance-scout",
   "metadata": {
    "execution": {
     "iopub.execute_input": "2022-01-21T00:25:04.525386Z",
     "iopub.status.busy": "2022-01-21T00:25:04.524323Z",
     "iopub.status.idle": "2022-01-21T00:25:04.526957Z",
     "shell.execute_reply": "2022-01-21T00:25:04.527739Z"
    },
    "papermill": {
     "duration": 0.044401,
     "end_time": "2022-01-21T00:25:04.527979",
     "exception": false,
     "start_time": "2022-01-21T00:25:04.483578",
     "status": "completed"
    },
    "tags": []
   },
   "outputs": [],
   "source": [
    "#hide\n",
    "# g.head()"
   ]
  },
  {
   "cell_type": "code",
   "execution_count": 33,
   "id": "limited-engine",
   "metadata": {
    "execution": {
     "iopub.execute_input": "2022-01-21T00:25:04.603921Z",
     "iopub.status.busy": "2022-01-21T00:25:04.603242Z",
     "iopub.status.idle": "2022-01-21T00:25:04.606251Z",
     "shell.execute_reply": "2022-01-21T00:25:04.605759Z"
    },
    "papermill": {
     "duration": 0.04252,
     "end_time": "2022-01-21T00:25:04.606381",
     "exception": false,
     "start_time": "2022-01-21T00:25:04.563861",
     "status": "completed"
    },
    "tags": []
   },
   "outputs": [],
   "source": [
    "# hide\n",
    "# g['date'] = g['date'].astype('datetime64[ns]')"
   ]
  },
  {
   "cell_type": "code",
   "execution_count": 34,
   "id": "sophisticated-supervisor",
   "metadata": {
    "execution": {
     "iopub.execute_input": "2022-01-21T00:25:04.682335Z",
     "iopub.status.busy": "2022-01-21T00:25:04.681712Z",
     "iopub.status.idle": "2022-01-21T00:25:04.684251Z",
     "shell.execute_reply": "2022-01-21T00:25:04.683697Z"
    },
    "papermill": {
     "duration": 0.042068,
     "end_time": "2022-01-21T00:25:04.684383",
     "exception": false,
     "start_time": "2022-01-21T00:25:04.642315",
     "status": "completed"
    },
    "tags": []
   },
   "outputs": [],
   "source": [
    "#hide\n",
    "# g['date'] = g.date.dt.dayofyear"
   ]
  },
  {
   "cell_type": "code",
   "execution_count": 35,
   "id": "inside-dubai",
   "metadata": {
    "execution": {
     "iopub.execute_input": "2022-01-21T00:25:04.761815Z",
     "iopub.status.busy": "2022-01-21T00:25:04.760793Z",
     "iopub.status.idle": "2022-01-21T00:25:04.762546Z",
     "shell.execute_reply": "2022-01-21T00:25:04.763124Z"
    },
    "papermill": {
     "duration": 0.043305,
     "end_time": "2022-01-21T00:25:04.763280",
     "exception": false,
     "start_time": "2022-01-21T00:25:04.719975",
     "status": "completed"
    },
    "tags": []
   },
   "outputs": [],
   "source": [
    "#hide\n",
    "# g = g.rename(columns= {'continent':'group','country':'name','cases':'value'})"
   ]
  },
  {
   "cell_type": "code",
   "execution_count": 36,
   "id": "fleet-motorcycle",
   "metadata": {
    "execution": {
     "iopub.execute_input": "2022-01-21T00:25:04.844978Z",
     "iopub.status.busy": "2022-01-21T00:25:04.844335Z",
     "iopub.status.idle": "2022-01-21T00:25:04.846290Z",
     "shell.execute_reply": "2022-01-21T00:25:04.846755Z"
    },
    "papermill": {
     "duration": 0.045989,
     "end_time": "2022-01-21T00:25:04.846910",
     "exception": false,
     "start_time": "2022-01-21T00:25:04.800921",
     "status": "completed"
    },
    "tags": []
   },
   "outputs": [],
   "source": [
    "#hide\n",
    "# cols = ['name','group','day','value']"
   ]
  },
  {
   "cell_type": "code",
   "execution_count": 37,
   "id": "continued-sleeping",
   "metadata": {
    "execution": {
     "iopub.execute_input": "2022-01-21T00:25:04.923433Z",
     "iopub.status.busy": "2022-01-21T00:25:04.922611Z",
     "iopub.status.idle": "2022-01-21T00:25:04.927089Z",
     "shell.execute_reply": "2022-01-21T00:25:04.926588Z"
    },
    "papermill": {
     "duration": 0.044917,
     "end_time": "2022-01-21T00:25:04.927223",
     "exception": false,
     "start_time": "2022-01-21T00:25:04.882306",
     "status": "completed"
    },
    "tags": []
   },
   "outputs": [],
   "source": [
    "#hide\n",
    "# g.rename(columns= {'date':'day'},inplace = True)"
   ]
  },
  {
   "cell_type": "code",
   "execution_count": 38,
   "id": "major-fight",
   "metadata": {
    "execution": {
     "iopub.execute_input": "2022-01-21T00:25:05.004415Z",
     "iopub.status.busy": "2022-01-21T00:25:05.003382Z",
     "iopub.status.idle": "2022-01-21T00:25:05.005089Z",
     "shell.execute_reply": "2022-01-21T00:25:05.005570Z"
    },
    "papermill": {
     "duration": 0.04281,
     "end_time": "2022-01-21T00:25:05.005714",
     "exception": false,
     "start_time": "2022-01-21T00:25:04.962904",
     "status": "completed"
    },
    "tags": []
   },
   "outputs": [],
   "source": [
    "#hide\n",
    "# g = g[cols]"
   ]
  },
  {
   "cell_type": "code",
   "execution_count": 39,
   "id": "structured-mobile",
   "metadata": {
    "execution": {
     "iopub.execute_input": "2022-01-21T00:25:05.081336Z",
     "iopub.status.busy": "2022-01-21T00:25:05.080718Z",
     "iopub.status.idle": "2022-01-21T00:25:05.083226Z",
     "shell.execute_reply": "2022-01-21T00:25:05.083816Z"
    },
    "papermill": {
     "duration": 0.042959,
     "end_time": "2022-01-21T00:25:05.083964",
     "exception": false,
     "start_time": "2022-01-21T00:25:05.041005",
     "status": "completed"
    },
    "tags": []
   },
   "outputs": [],
   "source": [
    "# #hide\n",
    "# g = g[g.group.notna()]"
   ]
  },
  {
   "cell_type": "code",
   "execution_count": 40,
   "id": "determined-closing",
   "metadata": {
    "execution": {
     "iopub.execute_input": "2022-01-21T00:25:05.159537Z",
     "iopub.status.busy": "2022-01-21T00:25:05.158871Z",
     "iopub.status.idle": "2022-01-21T00:25:05.163069Z",
     "shell.execute_reply": "2022-01-21T00:25:05.162572Z"
    },
    "papermill": {
     "duration": 0.043524,
     "end_time": "2022-01-21T00:25:05.163202",
     "exception": false,
     "start_time": "2022-01-21T00:25:05.119678",
     "status": "completed"
    },
    "tags": []
   },
   "outputs": [],
   "source": [
    "# #hide\n",
    "# colors = dict(zip(\n",
    "#     [\"Oceania\", \"Europe\", \"Asia\", \"South America\", \"Middle East\", \"North America\", \"Africa\"],\n",
    "#     [\"#adb0ff\", \"#ffb3ff\", \"#90d595\", \"#e48381\", \"#aafbff\", \"#f7bb5f\", \"#eafb50\"]\n",
    "# ))\n",
    "# group_lk = g.set_index('name')['group'].to_dict()"
   ]
  },
  {
   "cell_type": "code",
   "execution_count": null,
   "id": "gross-drinking",
   "metadata": {
    "papermill": {
     "duration": 0.035516,
     "end_time": "2022-01-21T00:25:05.234237",
     "exception": false,
     "start_time": "2022-01-21T00:25:05.198721",
     "status": "completed"
    },
    "tags": []
   },
   "outputs": [],
   "source": []
  },
  {
   "cell_type": "code",
   "execution_count": 41,
   "id": "subject-macintosh",
   "metadata": {
    "execution": {
     "iopub.execute_input": "2022-01-21T00:25:05.311079Z",
     "iopub.status.busy": "2022-01-21T00:25:05.310420Z",
     "iopub.status.idle": "2022-01-21T00:25:05.312782Z",
     "shell.execute_reply": "2022-01-21T00:25:05.312249Z"
    },
    "papermill": {
     "duration": 0.04313,
     "end_time": "2022-01-21T00:25:05.312909",
     "exception": false,
     "start_time": "2022-01-21T00:25:05.269779",
     "status": "completed"
    },
    "tags": []
   },
   "outputs": [],
   "source": [
    "# #hide\n",
    "# fig, ax = plt.subplots(figsize=(15, 8))\n",
    "\n",
    "# def draw_barchart(current_day):\n",
    "#     dff = g[g['day'].eq(current_day)].sort_values(by='value', ascending=True).tail(10)\n",
    "#     ax.clear()\n",
    "#     ax.barh(dff['name'], dff['value'], color=[colors[group_lk[x]] for x in dff['name']])\n",
    "#     dx = dff['value'].max() / 200\n",
    "    \n",
    "#     for i, (value, name) in enumerate(zip(dff['value'], dff['name'])):\n",
    "#         ax.text(value-dx, i,     name,           size=14, weight=600, ha='right', va='bottom')\n",
    "#         ax.text(value-dx, i-.25, group_lk[name], size=10, color='#444444', ha='right', va='baseline')\n",
    "#         ax.text(value+dx, i,     f'{value:,.0f}',  size=14, ha='left',  va='center')\n",
    "#     ax.text(1, 0.4, current_day, transform=ax.transAxes, color='#777777', size=46, ha='right', weight=800)\n",
    "#     ax.text(0, 1.06, 'Population (thousands)', transform=ax.transAxes, size=12, color='#777777')\n",
    "#     ax.xaxis.set_major_formatter(ticker.StrMethodFormatter('{x:,.0f}'))\n",
    "#     ax.xaxis.set_ticks_position('top')\n",
    "#     ax.tick_params(axis='x', colors='#777777', labelsize=12)\n",
    "#     ax.set_yticks([])\n",
    "#     ax.margins(0, 0.01)\n",
    "#     ax.grid(which='major', axis='x', linestyle='-')\n",
    "#     ax.set_axisbelow(True)\n",
    "    \n",
    "#     ax.text(0, 1.15, 'Coronavirus',\n",
    "#             transform=ax.transAxes, size=24, weight=600, ha='left', va='top')\n",
    "# #     ax.text(1, 0, 'by @pratapvardhan; credit @jburnmurdoch', transform=ax.transAxes, color='#777777', ha='right',\n",
    "# #             bbox=dict(facecolor='white', alpha=0.8, edgecolor='white'))\n",
    "#     plt.box(False)"
   ]
  },
  {
   "cell_type": "code",
   "execution_count": 42,
   "id": "sexual-wages",
   "metadata": {
    "execution": {
     "iopub.execute_input": "2022-01-21T00:25:05.389279Z",
     "iopub.status.busy": "2022-01-21T00:25:05.388655Z",
     "iopub.status.idle": "2022-01-21T00:25:05.392069Z",
     "shell.execute_reply": "2022-01-21T00:25:05.391426Z"
    },
    "papermill": {
     "duration": 0.043743,
     "end_time": "2022-01-21T00:25:05.392199",
     "exception": false,
     "start_time": "2022-01-21T00:25:05.348456",
     "status": "completed"
    },
    "tags": []
   },
   "outputs": [],
   "source": [
    "# #hide_input\n",
    "# fig, ax = plt.subplots(figsize=(15, 8))\n",
    "# animator = animation.FuncAnimation(fig, draw_barchart, frames=range(g.day.values.min(), g.day.values.max()))\n",
    "# HTML(animator.to_jshtml())\n",
    "# # or use animator.to_html5_video() or animator.save() "
   ]
  },
  {
   "cell_type": "code",
   "execution_count": null,
   "id": "australian-container",
   "metadata": {
    "papermill": {
     "duration": 0.0355,
     "end_time": "2022-01-21T00:25:05.463284",
     "exception": false,
     "start_time": "2022-01-21T00:25:05.427784",
     "status": "completed"
    },
    "tags": []
   },
   "outputs": [],
   "source": []
  },
  {
   "cell_type": "code",
   "execution_count": null,
   "id": "mediterranean-pontiac",
   "metadata": {
    "papermill": {
     "duration": 0.035401,
     "end_time": "2022-01-21T00:25:05.533938",
     "exception": false,
     "start_time": "2022-01-21T00:25:05.498537",
     "status": "completed"
    },
    "tags": []
   },
   "outputs": [],
   "source": []
  },
  {
   "cell_type": "code",
   "execution_count": null,
   "id": "aging-legislature",
   "metadata": {
    "papermill": {
     "duration": 0.035237,
     "end_time": "2022-01-21T00:25:05.604733",
     "exception": false,
     "start_time": "2022-01-21T00:25:05.569496",
     "status": "completed"
    },
    "tags": []
   },
   "outputs": [],
   "source": []
  }
 ],
 "metadata": {
  "kernelspec": {
   "display_name": "Python 3",
   "language": "python",
   "name": "python3"
  },
  "language_info": {
   "codemirror_mode": {
    "name": "ipython",
    "version": 3
   },
   "file_extension": ".py",
   "mimetype": "text/x-python",
   "name": "python",
   "nbconvert_exporter": "python",
   "pygments_lexer": "ipython3",
   "version": "3.6.15"
  },
  "papermill": {
   "duration": 6.984535,
   "end_time": "2022-01-21T00:25:05.960331",
   "environment_variables": {},
   "exception": null,
   "input_path": "2020-03-21-covid19exp.ipynb",
   "output_path": "2020-03-21-covid19exp.ipynb",
   "parameters": {},
   "start_time": "2022-01-21T00:24:58.975796",
   "version": "2.0.0"
  }
 },
 "nbformat": 4,
 "nbformat_minor": 5
}