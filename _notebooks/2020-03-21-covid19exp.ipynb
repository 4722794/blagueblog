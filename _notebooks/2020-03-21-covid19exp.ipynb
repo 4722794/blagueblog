{
 "cells": [
  {
   "cell_type": "markdown",
   "id": "muslim-click",
   "metadata": {
    "papermill": {
     "duration": 0.039595,
     "end_time": "2021-07-26T00:20:25.571240",
     "exception": false,
     "start_time": "2021-07-26T00:20:25.531645",
     "status": "completed"
    },
    "tags": []
   },
   "source": [
    "# COVID-19 Case Race\n",
    "> A race chart to see rising cases around the world\n",
    "\n",
    "- author: Hargun Oberoi\n",
    "- image: images/covid-overview.png\n",
    "- hide: false\n",
    "- badges: false"
   ]
  },
  {
   "cell_type": "code",
   "execution_count": 1,
   "id": "proof-material",
   "metadata": {
    "execution": {
     "iopub.execute_input": "2021-07-26T00:20:25.648000Z",
     "iopub.status.busy": "2021-07-26T00:20:25.647426Z",
     "iopub.status.idle": "2021-07-26T00:20:25.996509Z",
     "shell.execute_reply": "2021-07-26T00:20:25.995758Z"
    },
    "papermill": {
     "duration": 0.391293,
     "end_time": "2021-07-26T00:20:25.996660",
     "exception": false,
     "start_time": "2021-07-26T00:20:25.605367",
     "status": "completed"
    },
    "tags": []
   },
   "outputs": [],
   "source": [
    "#hide\n",
    "import numpy as np\n",
    "import pandas as pd\n",
    "from jinja2 import Template\n",
    "from IPython.display import HTML"
   ]
  },
  {
   "cell_type": "code",
   "execution_count": 2,
   "id": "developed-terminology",
   "metadata": {
    "execution": {
     "iopub.execute_input": "2021-07-26T00:20:26.076139Z",
     "iopub.status.busy": "2021-07-26T00:20:26.075482Z",
     "iopub.status.idle": "2021-07-26T00:20:26.079282Z",
     "shell.execute_reply": "2021-07-26T00:20:26.079796Z"
    },
    "papermill": {
     "duration": 0.047042,
     "end_time": "2021-07-26T00:20:26.079945",
     "exception": false,
     "start_time": "2021-07-26T00:20:26.032903",
     "status": "completed"
    },
    "tags": []
   },
   "outputs": [],
   "source": [
    "#hide\n",
    "\n",
    "# FETCH\n",
    "base_url = 'https://raw.githubusercontent.com/pratapvardhan/notebooks/master/covid19/'\n",
    "paths = {\n",
    "    'mapping': base_url + 'mapping_countries.csv',\n",
    "    'overview': base_url + 'overview.tpl'\n",
    "}"
   ]
  },
  {
   "cell_type": "code",
   "execution_count": 3,
   "id": "dynamic-saver",
   "metadata": {
    "execution": {
     "iopub.execute_input": "2021-07-26T00:20:26.161603Z",
     "iopub.status.busy": "2021-07-26T00:20:26.160979Z",
     "iopub.status.idle": "2021-07-26T00:20:26.163645Z",
     "shell.execute_reply": "2021-07-26T00:20:26.164230Z"
    },
    "papermill": {
     "duration": 0.048775,
     "end_time": "2021-07-26T00:20:26.164371",
     "exception": false,
     "start_time": "2021-07-26T00:20:26.115596",
     "status": "completed"
    },
    "tags": []
   },
   "outputs": [
    {
     "data": {
      "text/plain": [
       "'https://raw.githubusercontent.com/pratapvardhan/notebooks/master/covid19/mapping_countries.csv'"
      ]
     },
     "execution_count": 3,
     "metadata": {},
     "output_type": "execute_result"
    }
   ],
   "source": [
    "#hide\n",
    "paths['mapping']"
   ]
  },
  {
   "cell_type": "code",
   "execution_count": 4,
   "id": "urban-software",
   "metadata": {
    "execution": {
     "iopub.execute_input": "2021-07-26T00:20:26.245110Z",
     "iopub.status.busy": "2021-07-26T00:20:26.244451Z",
     "iopub.status.idle": "2021-07-26T00:20:26.246293Z",
     "shell.execute_reply": "2021-07-26T00:20:26.246902Z"
    },
    "papermill": {
     "duration": 0.045835,
     "end_time": "2021-07-26T00:20:26.247095",
     "exception": false,
     "start_time": "2021-07-26T00:20:26.201260",
     "status": "completed"
    },
    "tags": []
   },
   "outputs": [],
   "source": [
    "#hide\n",
    "def get_mappings(url):\n",
    "    df = pd.read_csv(url)\n",
    "    return {\n",
    "        'df': df,\n",
    "        'replace.country': dict(df.dropna(subset=['Name']).set_index('Country')['Name']),\n",
    "        'map.continent': dict(df.set_index('Name')['Continent'])\n",
    "    }"
   ]
  },
  {
   "cell_type": "code",
   "execution_count": 5,
   "id": "intimate-machinery",
   "metadata": {
    "execution": {
     "iopub.execute_input": "2021-07-26T00:20:26.325367Z",
     "iopub.status.busy": "2021-07-26T00:20:26.324741Z",
     "iopub.status.idle": "2021-07-26T00:20:26.366502Z",
     "shell.execute_reply": "2021-07-26T00:20:26.365950Z"
    },
    "papermill": {
     "duration": 0.082776,
     "end_time": "2021-07-26T00:20:26.366638",
     "exception": false,
     "start_time": "2021-07-26T00:20:26.283862",
     "status": "completed"
    },
    "tags": []
   },
   "outputs": [],
   "source": [
    "#hide\n",
    "mapping = get_mappings(paths['mapping'])"
   ]
  },
  {
   "cell_type": "code",
   "execution_count": 6,
   "id": "certified-tactics",
   "metadata": {
    "execution": {
     "iopub.execute_input": "2021-07-26T00:20:26.444095Z",
     "iopub.status.busy": "2021-07-26T00:20:26.443455Z",
     "iopub.status.idle": "2021-07-26T00:20:26.445286Z",
     "shell.execute_reply": "2021-07-26T00:20:26.445851Z"
    },
    "papermill": {
     "duration": 0.043188,
     "end_time": "2021-07-26T00:20:26.445989",
     "exception": false,
     "start_time": "2021-07-26T00:20:26.402801",
     "status": "completed"
    },
    "tags": []
   },
   "outputs": [],
   "source": [
    "#hide\n",
    "def get_template(path):\n",
    "    from urllib.parse import urlparse\n",
    "    if bool(urlparse(path).netloc):\n",
    "        from urllib.request import urlopen\n",
    "        return urlopen(path).read().decode('utf8')\n",
    "    return open(path).read()"
   ]
  },
  {
   "cell_type": "code",
   "execution_count": 7,
   "id": "realistic-blast",
   "metadata": {
    "execution": {
     "iopub.execute_input": "2021-07-26T00:20:26.523419Z",
     "iopub.status.busy": "2021-07-26T00:20:26.522685Z",
     "iopub.status.idle": "2021-07-26T00:20:26.525106Z",
     "shell.execute_reply": "2021-07-26T00:20:26.524506Z"
    },
    "papermill": {
     "duration": 0.043171,
     "end_time": "2021-07-26T00:20:26.525227",
     "exception": false,
     "start_time": "2021-07-26T00:20:26.482056",
     "status": "completed"
    },
    "tags": []
   },
   "outputs": [],
   "source": [
    "#hide\n",
    "def get_frame(name):\n",
    "    url = (\n",
    "        'https://raw.githubusercontent.com/CSSEGISandData/COVID-19/master/csse_covid_19_data/'\n",
    "        f'csse_covid_19_time_series/time_series_covid19_{name}_global.csv')\n",
    "    df = pd.read_csv(url)\n",
    "    # rename countries\n",
    "    df['Country/Region'] = df['Country/Region'].replace(mapping['replace.country'])\n",
    "    return df"
   ]
  },
  {
   "cell_type": "code",
   "execution_count": 8,
   "id": "affiliated-characterization",
   "metadata": {
    "execution": {
     "iopub.execute_input": "2021-07-26T00:20:26.610784Z",
     "iopub.status.busy": "2021-07-26T00:20:26.610132Z",
     "iopub.status.idle": "2021-07-26T00:20:26.612670Z",
     "shell.execute_reply": "2021-07-26T00:20:26.612152Z"
    },
    "papermill": {
     "duration": 0.04413,
     "end_time": "2021-07-26T00:20:26.612803",
     "exception": false,
     "start_time": "2021-07-26T00:20:26.568673",
     "status": "completed"
    },
    "tags": []
   },
   "outputs": [],
   "source": [
    "#hide\n",
    "def get_dates(df):\n",
    "    dt_cols = df.columns[~df.columns.isin(['Province/State', 'Country/Region', 'Lat', 'Long'])]\n",
    "    LAST_DATE_I = -1\n",
    "    # sometimes last column may be empty, then go backwards\n",
    "    for i in range(-1, -len(dt_cols), -1):\n",
    "        if not df[dt_cols[i]].fillna(0).eq(0).all():\n",
    "            LAST_DATE_I = i\n",
    "            break\n",
    "    return LAST_DATE_I, dt_cols"
   ]
  },
  {
   "cell_type": "code",
   "execution_count": 9,
   "id": "recent-optimization",
   "metadata": {
    "execution": {
     "iopub.execute_input": "2021-07-26T00:20:26.686410Z",
     "iopub.status.busy": "2021-07-26T00:20:26.685778Z",
     "iopub.status.idle": "2021-07-26T00:20:27.075169Z",
     "shell.execute_reply": "2021-07-26T00:20:27.074579Z"
    },
    "papermill": {
     "duration": 0.427682,
     "end_time": "2021-07-26T00:20:27.075320",
     "exception": false,
     "start_time": "2021-07-26T00:20:26.647638",
     "status": "completed"
    },
    "tags": []
   },
   "outputs": [],
   "source": [
    "#hide\n",
    "COL_REGION = 'Country/Region'\n",
    "# Confirmed, Recovered, Deaths\n",
    "df = get_frame('confirmed')\n",
    "# dft_: timeseries, dfc_: today country agg\n",
    "dft_cases = df\n",
    "dft_deaths = get_frame('deaths')\n",
    "dft_recovered = get_frame('recovered')\n",
    "LAST_DATE_I, dt_cols = get_dates(df)"
   ]
  },
  {
   "cell_type": "code",
   "execution_count": 10,
   "id": "absolute-copper",
   "metadata": {
    "execution": {
     "iopub.execute_input": "2021-07-26T00:20:27.160254Z",
     "iopub.status.busy": "2021-07-26T00:20:27.159614Z",
     "iopub.status.idle": "2021-07-26T00:20:27.161483Z",
     "shell.execute_reply": "2021-07-26T00:20:27.161995Z"
    },
    "papermill": {
     "duration": 0.045034,
     "end_time": "2021-07-26T00:20:27.162161",
     "exception": false,
     "start_time": "2021-07-26T00:20:27.117127",
     "status": "completed"
    },
    "tags": []
   },
   "outputs": [],
   "source": [
    "#hide\n",
    "LAST_DATE_I, dt_cols = get_dates(df)\n",
    "dt_today =dt_cols[LAST_DATE_I]\n",
    "# dt_5day = dt_cols[LAST_DATE_I - 5]\n",
    "dt_yday = dt_cols[LAST_DATE_I - 1]"
   ]
  },
  {
   "cell_type": "code",
   "execution_count": 11,
   "id": "restricted-sheriff",
   "metadata": {
    "execution": {
     "iopub.execute_input": "2021-07-26T00:20:27.241043Z",
     "iopub.status.busy": "2021-07-26T00:20:27.240400Z",
     "iopub.status.idle": "2021-07-26T00:20:27.247657Z",
     "shell.execute_reply": "2021-07-26T00:20:27.247164Z"
    },
    "papermill": {
     "duration": 0.051251,
     "end_time": "2021-07-26T00:20:27.247782",
     "exception": false,
     "start_time": "2021-07-26T00:20:27.196531",
     "status": "completed"
    },
    "tags": []
   },
   "outputs": [],
   "source": [
    "#hide\n",
    "dfc_cases = dft_cases.groupby(COL_REGION)[dt_today].sum()\n",
    "dfc_deaths = dft_deaths.groupby(COL_REGION)[dt_today].sum()\n",
    "# dfp_cases = dft_cases.groupby(COL_REGION)[dt_5day].sum()\n",
    "# dfp_deaths = dft_deaths.groupby(COL_REGION)[dt_5day].sum()\n",
    "dfp_cases = dft_cases.groupby(COL_REGION)[dt_yday].sum()\n",
    "dfp_deaths = dft_deaths.groupby(COL_REGION)[dt_yday].sum()"
   ]
  },
  {
   "cell_type": "code",
   "execution_count": 12,
   "id": "deluxe-hepatitis",
   "metadata": {
    "execution": {
     "iopub.execute_input": "2021-07-26T00:20:27.323646Z",
     "iopub.status.busy": "2021-07-26T00:20:27.323071Z",
     "iopub.status.idle": "2021-07-26T00:20:27.331535Z",
     "shell.execute_reply": "2021-07-26T00:20:27.332098Z"
    },
    "papermill": {
     "duration": 0.049946,
     "end_time": "2021-07-26T00:20:27.332234",
     "exception": false,
     "start_time": "2021-07-26T00:20:27.282288",
     "status": "completed"
    },
    "tags": []
   },
   "outputs": [],
   "source": [
    "#hide\n",
    "df_table = (pd.DataFrame(dict(Cases = dfc_cases, Deaths = dfc_deaths, PCases = dfp_cases, PDeaths = dfp_deaths))\n",
    "            .sort_values(by = ['Cases','Deaths'], ascending = [False, False])\n",
    "            .reset_index())"
   ]
  },
  {
   "cell_type": "code",
   "execution_count": 13,
   "id": "educational-chancellor",
   "metadata": {
    "execution": {
     "iopub.execute_input": "2021-07-26T00:20:27.405967Z",
     "iopub.status.busy": "2021-07-26T00:20:27.405352Z",
     "iopub.status.idle": "2021-07-26T00:20:27.424663Z",
     "shell.execute_reply": "2021-07-26T00:20:27.425295Z"
    },
    "papermill": {
     "duration": 0.059825,
     "end_time": "2021-07-26T00:20:27.425447",
     "exception": false,
     "start_time": "2021-07-26T00:20:27.365622",
     "status": "completed"
    },
    "tags": []
   },
   "outputs": [
    {
     "data": {
      "text/html": [
       "<div>\n",
       "<style scoped>\n",
       "    .dataframe tbody tr th:only-of-type {\n",
       "        vertical-align: middle;\n",
       "    }\n",
       "\n",
       "    .dataframe tbody tr th {\n",
       "        vertical-align: top;\n",
       "    }\n",
       "\n",
       "    .dataframe thead th {\n",
       "        text-align: right;\n",
       "    }\n",
       "</style>\n",
       "<table border=\"1\" class=\"dataframe\">\n",
       "  <thead>\n",
       "    <tr style=\"text-align: right;\">\n",
       "      <th></th>\n",
       "      <th>Country/Region</th>\n",
       "      <th>Cases</th>\n",
       "      <th>Deaths</th>\n",
       "      <th>PCases</th>\n",
       "      <th>PDeaths</th>\n",
       "      <th>Cases (+)</th>\n",
       "      <th>Deaths (+)</th>\n",
       "      <th>Fatality Rate</th>\n",
       "      <th>Continent</th>\n",
       "    </tr>\n",
       "  </thead>\n",
       "  <tbody>\n",
       "    <tr>\n",
       "      <th>0</th>\n",
       "      <td>US</td>\n",
       "      <td>34428050</td>\n",
       "      <td>610835</td>\n",
       "      <td>34400655</td>\n",
       "      <td>610720</td>\n",
       "      <td>27395</td>\n",
       "      <td>115</td>\n",
       "      <td>1.77</td>\n",
       "      <td>North America</td>\n",
       "    </tr>\n",
       "    <tr>\n",
       "      <th>1</th>\n",
       "      <td>India</td>\n",
       "      <td>31371901</td>\n",
       "      <td>420551</td>\n",
       "      <td>31293062</td>\n",
       "      <td>419470</td>\n",
       "      <td>78839</td>\n",
       "      <td>1081</td>\n",
       "      <td>1.34</td>\n",
       "      <td>Asia</td>\n",
       "    </tr>\n",
       "    <tr>\n",
       "      <th>2</th>\n",
       "      <td>Brazil</td>\n",
       "      <td>19670534</td>\n",
       "      <td>549448</td>\n",
       "      <td>19632443</td>\n",
       "      <td>548340</td>\n",
       "      <td>38091</td>\n",
       "      <td>1108</td>\n",
       "      <td>2.79</td>\n",
       "      <td>South America</td>\n",
       "    </tr>\n",
       "    <tr>\n",
       "      <th>3</th>\n",
       "      <td>France</td>\n",
       "      <td>6041146</td>\n",
       "      <td>111800</td>\n",
       "      <td>6015469</td>\n",
       "      <td>111778</td>\n",
       "      <td>25677</td>\n",
       "      <td>22</td>\n",
       "      <td>1.85</td>\n",
       "      <td>Europe</td>\n",
       "    </tr>\n",
       "    <tr>\n",
       "      <th>4</th>\n",
       "      <td>Russia</td>\n",
       "      <td>6025698</td>\n",
       "      <td>150583</td>\n",
       "      <td>6002303</td>\n",
       "      <td>149796</td>\n",
       "      <td>23395</td>\n",
       "      <td>787</td>\n",
       "      <td>2.50</td>\n",
       "      <td>Europe</td>\n",
       "    </tr>\n",
       "  </tbody>\n",
       "</table>\n",
       "</div>"
      ],
      "text/plain": [
       "  Country/Region     Cases  Deaths    PCases  PDeaths  Cases (+)  Deaths (+)  \\\n",
       "0             US  34428050  610835  34400655   610720      27395         115   \n",
       "1          India  31371901  420551  31293062   419470      78839        1081   \n",
       "2         Brazil  19670534  549448  19632443   548340      38091        1108   \n",
       "3         France   6041146  111800   6015469   111778      25677          22   \n",
       "4         Russia   6025698  150583   6002303   149796      23395         787   \n",
       "\n",
       "   Fatality Rate      Continent  \n",
       "0           1.77  North America  \n",
       "1           1.34           Asia  \n",
       "2           2.79  South America  \n",
       "3           1.85         Europe  \n",
       "4           2.50         Europe  "
      ]
     },
     "execution_count": 13,
     "metadata": {},
     "output_type": "execute_result"
    }
   ],
   "source": [
    "#hide\n",
    "for c in 'Cases, Deaths'.split(', '):\n",
    "    df_table[f'{c} (+)'] = (df_table[c] - df_table[f'P{c}']).clip(0)\n",
    "    #Clip ça veut dire, les chiffres negatif sont interdit\n",
    "df_table['Fatality Rate'] = (100* df_table['Deaths']/ df_table['Cases']).round(2)\n",
    "df_table['Continent'] = df_table['Country/Region'].map(mapping['map.continent'])\n",
    "df_table.head(5)"
   ]
  },
  {
   "cell_type": "code",
   "execution_count": 14,
   "id": "aboriginal-bulgaria",
   "metadata": {
    "execution": {
     "iopub.execute_input": "2021-07-26T00:20:27.499046Z",
     "iopub.status.busy": "2021-07-26T00:20:27.498409Z",
     "iopub.status.idle": "2021-07-26T00:20:27.500260Z",
     "shell.execute_reply": "2021-07-26T00:20:27.500792Z"
    },
    "papermill": {
     "duration": 0.04152,
     "end_time": "2021-07-26T00:20:27.500922",
     "exception": false,
     "start_time": "2021-07-26T00:20:27.459402",
     "status": "completed"
    },
    "tags": []
   },
   "outputs": [],
   "source": [
    "#hide\n",
    "#delete problematic countries from table\n",
    "df_table = df_table[~df_table['Country/Region'].isin(['Cape Verde', 'Cruise Ship', 'Kosovo'])]"
   ]
  },
  {
   "cell_type": "code",
   "execution_count": 15,
   "id": "fantastic-effect",
   "metadata": {
    "execution": {
     "iopub.execute_input": "2021-07-26T00:20:27.578627Z",
     "iopub.status.busy": "2021-07-26T00:20:27.577979Z",
     "iopub.status.idle": "2021-07-26T00:20:27.597741Z",
     "shell.execute_reply": "2021-07-26T00:20:27.597256Z"
    },
    "papermill": {
     "duration": 0.062348,
     "end_time": "2021-07-26T00:20:27.597855",
     "exception": false,
     "start_time": "2021-07-26T00:20:27.535507",
     "status": "completed"
    },
    "tags": []
   },
   "outputs": [
    {
     "data": {
      "text/html": [
       "<div>\n",
       "<style scoped>\n",
       "    .dataframe tbody tr th:only-of-type {\n",
       "        vertical-align: middle;\n",
       "    }\n",
       "\n",
       "    .dataframe tbody tr th {\n",
       "        vertical-align: top;\n",
       "    }\n",
       "\n",
       "    .dataframe thead th {\n",
       "        text-align: right;\n",
       "    }\n",
       "</style>\n",
       "<table border=\"1\" class=\"dataframe\">\n",
       "  <thead>\n",
       "    <tr style=\"text-align: right;\">\n",
       "      <th></th>\n",
       "      <th>Country/Region</th>\n",
       "      <th>Cases</th>\n",
       "      <th>Deaths</th>\n",
       "      <th>PCases</th>\n",
       "      <th>PDeaths</th>\n",
       "      <th>Cases (+)</th>\n",
       "      <th>Deaths (+)</th>\n",
       "      <th>Fatality Rate</th>\n",
       "      <th>Continent</th>\n",
       "    </tr>\n",
       "  </thead>\n",
       "  <tbody>\n",
       "    <tr>\n",
       "      <th>0</th>\n",
       "      <td>US</td>\n",
       "      <td>34428050</td>\n",
       "      <td>610835</td>\n",
       "      <td>34400655</td>\n",
       "      <td>610720</td>\n",
       "      <td>27395</td>\n",
       "      <td>115</td>\n",
       "      <td>1.8</td>\n",
       "      <td>North America</td>\n",
       "    </tr>\n",
       "    <tr>\n",
       "      <th>1</th>\n",
       "      <td>India</td>\n",
       "      <td>31371901</td>\n",
       "      <td>420551</td>\n",
       "      <td>31293062</td>\n",
       "      <td>419470</td>\n",
       "      <td>78839</td>\n",
       "      <td>1081</td>\n",
       "      <td>1.3</td>\n",
       "      <td>Asia</td>\n",
       "    </tr>\n",
       "    <tr>\n",
       "      <th>2</th>\n",
       "      <td>Brazil</td>\n",
       "      <td>19670534</td>\n",
       "      <td>549448</td>\n",
       "      <td>19632443</td>\n",
       "      <td>548340</td>\n",
       "      <td>38091</td>\n",
       "      <td>1108</td>\n",
       "      <td>2.8</td>\n",
       "      <td>South America</td>\n",
       "    </tr>\n",
       "    <tr>\n",
       "      <th>3</th>\n",
       "      <td>France</td>\n",
       "      <td>6041146</td>\n",
       "      <td>111800</td>\n",
       "      <td>6015469</td>\n",
       "      <td>111778</td>\n",
       "      <td>25677</td>\n",
       "      <td>22</td>\n",
       "      <td>1.9</td>\n",
       "      <td>Europe</td>\n",
       "    </tr>\n",
       "    <tr>\n",
       "      <th>4</th>\n",
       "      <td>Russia</td>\n",
       "      <td>6025698</td>\n",
       "      <td>150583</td>\n",
       "      <td>6002303</td>\n",
       "      <td>149796</td>\n",
       "      <td>23395</td>\n",
       "      <td>787</td>\n",
       "      <td>2.5</td>\n",
       "      <td>Europe</td>\n",
       "    </tr>\n",
       "  </tbody>\n",
       "</table>\n",
       "</div>"
      ],
      "text/plain": [
       "  Country/Region     Cases  Deaths    PCases  PDeaths  Cases (+)  Deaths (+)  \\\n",
       "0             US  34428050  610835  34400655   610720      27395         115   \n",
       "1          India  31371901  420551  31293062   419470      78839        1081   \n",
       "2         Brazil  19670534  549448  19632443   548340      38091        1108   \n",
       "3         France   6041146  111800   6015469   111778      25677          22   \n",
       "4         Russia   6025698  150583   6002303   149796      23395         787   \n",
       "\n",
       "   Fatality Rate      Continent  \n",
       "0            1.8  North America  \n",
       "1            1.3           Asia  \n",
       "2            2.8  South America  \n",
       "3            1.9         Europe  \n",
       "4            2.5         Europe  "
      ]
     },
     "execution_count": 15,
     "metadata": {},
     "output_type": "execute_result"
    }
   ],
   "source": [
    "#hide\n",
    "df_table = (pd.DataFrame(dict(Cases=dfc_cases, Deaths=dfc_deaths, PCases=dfp_cases, PDeaths=dfp_deaths))\n",
    "             .sort_values(by=['Cases', 'Deaths'], ascending=[False, False])\n",
    "             .reset_index())\n",
    "df_table.rename(columns={'index': 'Country/Region'}, inplace=True)\n",
    "for c in 'Cases, Deaths'.split(', '):\n",
    "    df_table[f'{c} (+)'] = (df_table[c] - df_table[f'P{c}']).clip(0)  # DATA BUG\n",
    "df_table['Fatality Rate'] = (100 * df_table['Deaths'] / df_table['Cases']).round(1)\n",
    "df_table['Continent'] = df_table['Country/Region'].map(mapping['map.continent'])\n",
    "df_table.head(5)"
   ]
  },
  {
   "cell_type": "code",
   "execution_count": 16,
   "id": "fewer-occasion",
   "metadata": {
    "execution": {
     "iopub.execute_input": "2021-07-26T00:20:27.671554Z",
     "iopub.status.busy": "2021-07-26T00:20:27.670982Z",
     "iopub.status.idle": "2021-07-26T00:20:27.675172Z",
     "shell.execute_reply": "2021-07-26T00:20:27.674658Z"
    },
    "papermill": {
     "duration": 0.041999,
     "end_time": "2021-07-26T00:20:27.675286",
     "exception": false,
     "start_time": "2021-07-26T00:20:27.633287",
     "status": "completed"
    },
    "tags": []
   },
   "outputs": [],
   "source": [
    "#hide\n",
    "#delete problematic countries from table\n",
    "df_table = df_table[~df_table['Country/Region'].isin(['Cape Verde', 'Cruise Ship', 'Kosovo'])]"
   ]
  },
  {
   "cell_type": "code",
   "execution_count": 17,
   "id": "related-center",
   "metadata": {
    "execution": {
     "iopub.execute_input": "2021-07-26T00:20:27.765302Z",
     "iopub.status.busy": "2021-07-26T00:20:27.764603Z",
     "iopub.status.idle": "2021-07-26T00:20:27.767244Z",
     "shell.execute_reply": "2021-07-26T00:20:27.766733Z"
    },
    "papermill": {
     "duration": 0.058161,
     "end_time": "2021-07-26T00:20:27.767363",
     "exception": false,
     "start_time": "2021-07-26T00:20:27.709202",
     "status": "completed"
    },
    "tags": []
   },
   "outputs": [],
   "source": [
    "#hide\n",
    "metrics = [df_table.columns[index] for index in [1,2,5,6]]\n",
    "# s_china = df_table[df_table['Country/Region'].eq('China')][metrics].sum().add_prefix('China ')\n",
    "s_us = df_table[df_table['Country/Region'].eq('US')][metrics].sum().add_prefix('US ')\n",
    "s_eu = df_table[df_table['Continent'].eq('Europe')][metrics].sum().add_prefix('EU ')\n",
    "s_ind = df_table[df_table['Country/Region'].eq('India')][metrics].sum().add_prefix('India ')\n",
    "summary = {'updated': pd.to_datetime(dt_today), 'since': pd.to_datetime(dt_yday)}\n",
    "summary = {'updated': pd.to_datetime(dt_today), 'since': pd.to_datetime(dt_yday)}\n",
    "summary = {**summary, **df_table[metrics].sum(), **s_ind, **s_us, **s_eu}"
   ]
  },
  {
   "cell_type": "code",
   "execution_count": 18,
   "id": "engaging-syndrome",
   "metadata": {
    "execution": {
     "iopub.execute_input": "2021-07-26T00:20:27.842067Z",
     "iopub.status.busy": "2021-07-26T00:20:27.841448Z",
     "iopub.status.idle": "2021-07-26T00:20:27.855467Z",
     "shell.execute_reply": "2021-07-26T00:20:27.854924Z"
    },
    "papermill": {
     "duration": 0.053546,
     "end_time": "2021-07-26T00:20:27.855587",
     "exception": false,
     "start_time": "2021-07-26T00:20:27.802041",
     "status": "completed"
    },
    "tags": []
   },
   "outputs": [],
   "source": [
    "#hide\n",
    "dft_ct_new_cases = dft_cases.groupby(COL_REGION)[dt_cols].sum().diff(axis=1).fillna(0).astype(int)"
   ]
  },
  {
   "cell_type": "code",
   "execution_count": 19,
   "id": "neutral-assignment",
   "metadata": {
    "execution": {
     "iopub.execute_input": "2021-07-26T00:20:27.936010Z",
     "iopub.status.busy": "2021-07-26T00:20:27.935403Z",
     "iopub.status.idle": "2021-07-26T00:20:27.937140Z",
     "shell.execute_reply": "2021-07-26T00:20:27.937633Z"
    },
    "papermill": {
     "duration": 0.046619,
     "end_time": "2021-07-26T00:20:27.937767",
     "exception": false,
     "start_time": "2021-07-26T00:20:27.891148",
     "status": "completed"
    },
    "tags": []
   },
   "outputs": [],
   "source": [
    "#hide\n",
    "everydaycases = dft_ct_new_cases.cumsum(axis=1)"
   ]
  },
  {
   "cell_type": "code",
   "execution_count": 20,
   "id": "parliamentary-calgary",
   "metadata": {
    "execution": {
     "iopub.execute_input": "2021-07-26T00:20:28.013237Z",
     "iopub.status.busy": "2021-07-26T00:20:28.012634Z",
     "iopub.status.idle": "2021-07-26T00:20:28.856986Z",
     "shell.execute_reply": "2021-07-26T00:20:28.857444Z"
    },
    "papermill": {
     "duration": 0.885553,
     "end_time": "2021-07-26T00:20:28.857601",
     "exception": false,
     "start_time": "2021-07-26T00:20:27.972048",
     "status": "completed"
    },
    "tags": []
   },
   "outputs": [],
   "source": [
    "#hide\n",
    "import pandas as pd\n",
    "import matplotlib.pyplot as plt\n",
    "import matplotlib.ticker as ticker\n",
    "import matplotlib.animation as animation\n",
    "from IPython.display import HTML"
   ]
  },
  {
   "cell_type": "code",
   "execution_count": 21,
   "id": "lasting-extraction",
   "metadata": {
    "execution": {
     "iopub.execute_input": "2021-07-26T00:20:28.933236Z",
     "iopub.status.busy": "2021-07-26T00:20:28.932679Z",
     "iopub.status.idle": "2021-07-26T00:20:28.937852Z",
     "shell.execute_reply": "2021-07-26T00:20:28.938310Z"
    },
    "papermill": {
     "duration": 0.046294,
     "end_time": "2021-07-26T00:20:28.938438",
     "exception": false,
     "start_time": "2021-07-26T00:20:28.892144",
     "status": "completed"
    },
    "tags": []
   },
   "outputs": [],
   "source": [
    "#hide\n",
    "t = everydaycases.stack()"
   ]
  },
  {
   "cell_type": "code",
   "execution_count": 22,
   "id": "premier-sleeve",
   "metadata": {
    "execution": {
     "iopub.execute_input": "2021-07-26T00:20:29.009373Z",
     "iopub.status.busy": "2021-07-26T00:20:29.008478Z",
     "iopub.status.idle": "2021-07-26T00:20:29.019437Z",
     "shell.execute_reply": "2021-07-26T00:20:29.019990Z"
    },
    "papermill": {
     "duration": 0.048054,
     "end_time": "2021-07-26T00:20:29.020125",
     "exception": false,
     "start_time": "2021-07-26T00:20:28.972071",
     "status": "completed"
    },
    "tags": []
   },
   "outputs": [],
   "source": [
    "#hide\n",
    "g = t.reset_index(['Country/Region'])"
   ]
  },
  {
   "cell_type": "code",
   "execution_count": 23,
   "id": "distributed-pittsburgh",
   "metadata": {
    "execution": {
     "iopub.execute_input": "2021-07-26T00:20:29.097454Z",
     "iopub.status.busy": "2021-07-26T00:20:29.096420Z",
     "iopub.status.idle": "2021-07-26T00:20:29.098186Z",
     "shell.execute_reply": "2021-07-26T00:20:29.098780Z"
    },
    "papermill": {
     "duration": 0.044316,
     "end_time": "2021-07-26T00:20:29.098907",
     "exception": false,
     "start_time": "2021-07-26T00:20:29.054591",
     "status": "completed"
    },
    "tags": []
   },
   "outputs": [],
   "source": [
    "#hide\n",
    "g.index.name = 'date'"
   ]
  },
  {
   "cell_type": "code",
   "execution_count": 24,
   "id": "naked-donor",
   "metadata": {
    "execution": {
     "iopub.execute_input": "2021-07-26T00:20:29.176583Z",
     "iopub.status.busy": "2021-07-26T00:20:29.175865Z",
     "iopub.status.idle": "2021-07-26T00:20:29.178022Z",
     "shell.execute_reply": "2021-07-26T00:20:29.178586Z"
    },
    "papermill": {
     "duration": 0.041619,
     "end_time": "2021-07-26T00:20:29.178719",
     "exception": false,
     "start_time": "2021-07-26T00:20:29.137100",
     "status": "completed"
    },
    "tags": []
   },
   "outputs": [],
   "source": [
    "# #hide\n",
    "# g = g.reset_index(['date'])"
   ]
  },
  {
   "cell_type": "code",
   "execution_count": 25,
   "id": "incomplete-mustang",
   "metadata": {
    "execution": {
     "iopub.execute_input": "2021-07-26T00:20:29.254545Z",
     "iopub.status.busy": "2021-07-26T00:20:29.253905Z",
     "iopub.status.idle": "2021-07-26T00:20:29.256429Z",
     "shell.execute_reply": "2021-07-26T00:20:29.255923Z"
    },
    "papermill": {
     "duration": 0.04336,
     "end_time": "2021-07-26T00:20:29.256556",
     "exception": false,
     "start_time": "2021-07-26T00:20:29.213196",
     "status": "completed"
    },
    "tags": []
   },
   "outputs": [],
   "source": [
    "#hide\n",
    "# g.head()"
   ]
  },
  {
   "cell_type": "code",
   "execution_count": 26,
   "id": "specific-kruger",
   "metadata": {
    "execution": {
     "iopub.execute_input": "2021-07-26T00:20:29.333581Z",
     "iopub.status.busy": "2021-07-26T00:20:29.332966Z",
     "iopub.status.idle": "2021-07-26T00:20:29.334944Z",
     "shell.execute_reply": "2021-07-26T00:20:29.335460Z"
    },
    "papermill": {
     "duration": 0.041563,
     "end_time": "2021-07-26T00:20:29.335604",
     "exception": false,
     "start_time": "2021-07-26T00:20:29.294041",
     "status": "completed"
    },
    "tags": []
   },
   "outputs": [],
   "source": [
    "#hide\n",
    "# g.columns = ['date','country','cases']"
   ]
  },
  {
   "cell_type": "code",
   "execution_count": 27,
   "id": "tender-conversion",
   "metadata": {
    "execution": {
     "iopub.execute_input": "2021-07-26T00:20:29.414137Z",
     "iopub.status.busy": "2021-07-26T00:20:29.413519Z",
     "iopub.status.idle": "2021-07-26T00:20:29.415481Z",
     "shell.execute_reply": "2021-07-26T00:20:29.416038Z"
    },
    "papermill": {
     "duration": 0.043237,
     "end_time": "2021-07-26T00:20:29.416173",
     "exception": false,
     "start_time": "2021-07-26T00:20:29.372936",
     "status": "completed"
    },
    "tags": []
   },
   "outputs": [],
   "source": [
    "#hide\n",
    "# g['continent'] = g.country"
   ]
  },
  {
   "cell_type": "code",
   "execution_count": 28,
   "id": "substantial-wilderness",
   "metadata": {
    "execution": {
     "iopub.execute_input": "2021-07-26T00:20:29.490528Z",
     "iopub.status.busy": "2021-07-26T00:20:29.489964Z",
     "iopub.status.idle": "2021-07-26T00:20:29.491876Z",
     "shell.execute_reply": "2021-07-26T00:20:29.492330Z"
    },
    "papermill": {
     "duration": 0.039299,
     "end_time": "2021-07-26T00:20:29.492457",
     "exception": false,
     "start_time": "2021-07-26T00:20:29.453158",
     "status": "completed"
    },
    "tags": []
   },
   "outputs": [],
   "source": [
    "#hide\n",
    "# cols = list(g.columns.values)"
   ]
  },
  {
   "cell_type": "code",
   "execution_count": 29,
   "id": "solved-farming",
   "metadata": {
    "execution": {
     "iopub.execute_input": "2021-07-26T00:20:29.563464Z",
     "iopub.status.busy": "2021-07-26T00:20:29.562838Z",
     "iopub.status.idle": "2021-07-26T00:20:29.564933Z",
     "shell.execute_reply": "2021-07-26T00:20:29.565418Z"
    },
    "papermill": {
     "duration": 0.039636,
     "end_time": "2021-07-26T00:20:29.565541",
     "exception": false,
     "start_time": "2021-07-26T00:20:29.525905",
     "status": "completed"
    },
    "tags": []
   },
   "outputs": [],
   "source": [
    "#hide\n",
    "# cols.insert(0, cols.pop())"
   ]
  },
  {
   "cell_type": "code",
   "execution_count": 30,
   "id": "executed-adoption",
   "metadata": {
    "execution": {
     "iopub.execute_input": "2021-07-26T00:20:29.637315Z",
     "iopub.status.busy": "2021-07-26T00:20:29.636753Z",
     "iopub.status.idle": "2021-07-26T00:20:29.639074Z",
     "shell.execute_reply": "2021-07-26T00:20:29.638568Z"
    },
    "papermill": {
     "duration": 0.039986,
     "end_time": "2021-07-26T00:20:29.639185",
     "exception": false,
     "start_time": "2021-07-26T00:20:29.599199",
     "status": "completed"
    },
    "tags": []
   },
   "outputs": [],
   "source": [
    "#hide\n",
    "# g = g[cols]"
   ]
  },
  {
   "cell_type": "code",
   "execution_count": 31,
   "id": "subject-dublin",
   "metadata": {
    "execution": {
     "iopub.execute_input": "2021-07-26T00:20:29.712587Z",
     "iopub.status.busy": "2021-07-26T00:20:29.711005Z",
     "iopub.status.idle": "2021-07-26T00:20:29.717906Z",
     "shell.execute_reply": "2021-07-26T00:20:29.717353Z"
    },
    "papermill": {
     "duration": 0.043828,
     "end_time": "2021-07-26T00:20:29.718038",
     "exception": false,
     "start_time": "2021-07-26T00:20:29.674210",
     "status": "completed"
    },
    "tags": []
   },
   "outputs": [],
   "source": [
    "#hide\n",
    "# g['continent'] = g['continent'].map(mapping['map.continent'])"
   ]
  },
  {
   "cell_type": "code",
   "execution_count": 32,
   "id": "freelance-scout",
   "metadata": {
    "execution": {
     "iopub.execute_input": "2021-07-26T00:20:29.797981Z",
     "iopub.status.busy": "2021-07-26T00:20:29.797419Z",
     "iopub.status.idle": "2021-07-26T00:20:29.799475Z",
     "shell.execute_reply": "2021-07-26T00:20:29.799936Z"
    },
    "papermill": {
     "duration": 0.042535,
     "end_time": "2021-07-26T00:20:29.800063",
     "exception": false,
     "start_time": "2021-07-26T00:20:29.757528",
     "status": "completed"
    },
    "tags": []
   },
   "outputs": [],
   "source": [
    "#hide\n",
    "# g.head()"
   ]
  },
  {
   "cell_type": "code",
   "execution_count": 33,
   "id": "limited-engine",
   "metadata": {
    "execution": {
     "iopub.execute_input": "2021-07-26T00:20:29.875462Z",
     "iopub.status.busy": "2021-07-26T00:20:29.874814Z",
     "iopub.status.idle": "2021-07-26T00:20:29.877283Z",
     "shell.execute_reply": "2021-07-26T00:20:29.876790Z"
    },
    "papermill": {
     "duration": 0.042423,
     "end_time": "2021-07-26T00:20:29.877396",
     "exception": false,
     "start_time": "2021-07-26T00:20:29.834973",
     "status": "completed"
    },
    "tags": []
   },
   "outputs": [],
   "source": [
    "# hide\n",
    "# g['date'] = g['date'].astype('datetime64[ns]')"
   ]
  },
  {
   "cell_type": "code",
   "execution_count": 34,
   "id": "sophisticated-supervisor",
   "metadata": {
    "execution": {
     "iopub.execute_input": "2021-07-26T00:20:29.954403Z",
     "iopub.status.busy": "2021-07-26T00:20:29.953747Z",
     "iopub.status.idle": "2021-07-26T00:20:29.956387Z",
     "shell.execute_reply": "2021-07-26T00:20:29.955640Z"
    },
    "papermill": {
     "duration": 0.044333,
     "end_time": "2021-07-26T00:20:29.956511",
     "exception": false,
     "start_time": "2021-07-26T00:20:29.912178",
     "status": "completed"
    },
    "tags": []
   },
   "outputs": [],
   "source": [
    "#hide\n",
    "# g['date'] = g.date.dt.dayofyear"
   ]
  },
  {
   "cell_type": "code",
   "execution_count": 35,
   "id": "inside-dubai",
   "metadata": {
    "execution": {
     "iopub.execute_input": "2021-07-26T00:20:30.028965Z",
     "iopub.status.busy": "2021-07-26T00:20:30.028410Z",
     "iopub.status.idle": "2021-07-26T00:20:30.030320Z",
     "shell.execute_reply": "2021-07-26T00:20:30.030805Z"
    },
    "papermill": {
     "duration": 0.039277,
     "end_time": "2021-07-26T00:20:30.030930",
     "exception": false,
     "start_time": "2021-07-26T00:20:29.991653",
     "status": "completed"
    },
    "tags": []
   },
   "outputs": [],
   "source": [
    "#hide\n",
    "# g = g.rename(columns= {'continent':'group','country':'name','cases':'value'})"
   ]
  },
  {
   "cell_type": "code",
   "execution_count": 36,
   "id": "fleet-motorcycle",
   "metadata": {
    "execution": {
     "iopub.execute_input": "2021-07-26T00:20:30.117595Z",
     "iopub.status.busy": "2021-07-26T00:20:30.116941Z",
     "iopub.status.idle": "2021-07-26T00:20:30.119471Z",
     "shell.execute_reply": "2021-07-26T00:20:30.118931Z"
    },
    "papermill": {
     "duration": 0.055452,
     "end_time": "2021-07-26T00:20:30.119603",
     "exception": false,
     "start_time": "2021-07-26T00:20:30.064151",
     "status": "completed"
    },
    "tags": []
   },
   "outputs": [],
   "source": [
    "#hide\n",
    "# cols = ['name','group','day','value']"
   ]
  },
  {
   "cell_type": "code",
   "execution_count": 37,
   "id": "continued-sleeping",
   "metadata": {
    "execution": {
     "iopub.execute_input": "2021-07-26T00:20:30.196514Z",
     "iopub.status.busy": "2021-07-26T00:20:30.195884Z",
     "iopub.status.idle": "2021-07-26T00:20:30.197692Z",
     "shell.execute_reply": "2021-07-26T00:20:30.198203Z"
    },
    "papermill": {
     "duration": 0.041282,
     "end_time": "2021-07-26T00:20:30.198343",
     "exception": false,
     "start_time": "2021-07-26T00:20:30.157061",
     "status": "completed"
    },
    "tags": []
   },
   "outputs": [],
   "source": [
    "#hide\n",
    "# g.rename(columns= {'date':'day'},inplace = True)"
   ]
  },
  {
   "cell_type": "code",
   "execution_count": 38,
   "id": "major-fight",
   "metadata": {
    "execution": {
     "iopub.execute_input": "2021-07-26T00:20:30.271831Z",
     "iopub.status.busy": "2021-07-26T00:20:30.271269Z",
     "iopub.status.idle": "2021-07-26T00:20:30.273809Z",
     "shell.execute_reply": "2021-07-26T00:20:30.273305Z"
    },
    "papermill": {
     "duration": 0.039909,
     "end_time": "2021-07-26T00:20:30.273920",
     "exception": false,
     "start_time": "2021-07-26T00:20:30.234011",
     "status": "completed"
    },
    "tags": []
   },
   "outputs": [],
   "source": [
    "#hide\n",
    "# g = g[cols]"
   ]
  },
  {
   "cell_type": "code",
   "execution_count": 39,
   "id": "structured-mobile",
   "metadata": {
    "execution": {
     "iopub.execute_input": "2021-07-26T00:20:30.345136Z",
     "iopub.status.busy": "2021-07-26T00:20:30.344541Z",
     "iopub.status.idle": "2021-07-26T00:20:30.346516Z",
     "shell.execute_reply": "2021-07-26T00:20:30.347112Z"
    },
    "papermill": {
     "duration": 0.040075,
     "end_time": "2021-07-26T00:20:30.347281",
     "exception": false,
     "start_time": "2021-07-26T00:20:30.307206",
     "status": "completed"
    },
    "tags": []
   },
   "outputs": [],
   "source": [
    "# #hide\n",
    "# g = g[g.group.notna()]"
   ]
  },
  {
   "cell_type": "code",
   "execution_count": 40,
   "id": "determined-closing",
   "metadata": {
    "execution": {
     "iopub.execute_input": "2021-07-26T00:20:30.419838Z",
     "iopub.status.busy": "2021-07-26T00:20:30.419269Z",
     "iopub.status.idle": "2021-07-26T00:20:30.421395Z",
     "shell.execute_reply": "2021-07-26T00:20:30.421853Z"
    },
    "papermill": {
     "duration": 0.040458,
     "end_time": "2021-07-26T00:20:30.421980",
     "exception": false,
     "start_time": "2021-07-26T00:20:30.381522",
     "status": "completed"
    },
    "tags": []
   },
   "outputs": [],
   "source": [
    "# #hide\n",
    "# colors = dict(zip(\n",
    "#     [\"Oceania\", \"Europe\", \"Asia\", \"South America\", \"Middle East\", \"North America\", \"Africa\"],\n",
    "#     [\"#adb0ff\", \"#ffb3ff\", \"#90d595\", \"#e48381\", \"#aafbff\", \"#f7bb5f\", \"#eafb50\"]\n",
    "# ))\n",
    "# group_lk = g.set_index('name')['group'].to_dict()"
   ]
  },
  {
   "cell_type": "code",
   "execution_count": null,
   "id": "gross-drinking",
   "metadata": {
    "papermill": {
     "duration": 0.034489,
     "end_time": "2021-07-26T00:20:30.490248",
     "exception": false,
     "start_time": "2021-07-26T00:20:30.455759",
     "status": "completed"
    },
    "tags": []
   },
   "outputs": [],
   "source": []
  },
  {
   "cell_type": "code",
   "execution_count": 41,
   "id": "subject-macintosh",
   "metadata": {
    "execution": {
     "iopub.execute_input": "2021-07-26T00:20:30.563580Z",
     "iopub.status.busy": "2021-07-26T00:20:30.562905Z",
     "iopub.status.idle": "2021-07-26T00:20:30.565444Z",
     "shell.execute_reply": "2021-07-26T00:20:30.564960Z"
    },
    "papermill": {
     "duration": 0.040455,
     "end_time": "2021-07-26T00:20:30.565559",
     "exception": false,
     "start_time": "2021-07-26T00:20:30.525104",
     "status": "completed"
    },
    "tags": []
   },
   "outputs": [],
   "source": [
    "# #hide\n",
    "# fig, ax = plt.subplots(figsize=(15, 8))\n",
    "\n",
    "# def draw_barchart(current_day):\n",
    "#     dff = g[g['day'].eq(current_day)].sort_values(by='value', ascending=True).tail(10)\n",
    "#     ax.clear()\n",
    "#     ax.barh(dff['name'], dff['value'], color=[colors[group_lk[x]] for x in dff['name']])\n",
    "#     dx = dff['value'].max() / 200\n",
    "    \n",
    "#     for i, (value, name) in enumerate(zip(dff['value'], dff['name'])):\n",
    "#         ax.text(value-dx, i,     name,           size=14, weight=600, ha='right', va='bottom')\n",
    "#         ax.text(value-dx, i-.25, group_lk[name], size=10, color='#444444', ha='right', va='baseline')\n",
    "#         ax.text(value+dx, i,     f'{value:,.0f}',  size=14, ha='left',  va='center')\n",
    "#     ax.text(1, 0.4, current_day, transform=ax.transAxes, color='#777777', size=46, ha='right', weight=800)\n",
    "#     ax.text(0, 1.06, 'Population (thousands)', transform=ax.transAxes, size=12, color='#777777')\n",
    "#     ax.xaxis.set_major_formatter(ticker.StrMethodFormatter('{x:,.0f}'))\n",
    "#     ax.xaxis.set_ticks_position('top')\n",
    "#     ax.tick_params(axis='x', colors='#777777', labelsize=12)\n",
    "#     ax.set_yticks([])\n",
    "#     ax.margins(0, 0.01)\n",
    "#     ax.grid(which='major', axis='x', linestyle='-')\n",
    "#     ax.set_axisbelow(True)\n",
    "    \n",
    "#     ax.text(0, 1.15, 'Coronavirus',\n",
    "#             transform=ax.transAxes, size=24, weight=600, ha='left', va='top')\n",
    "# #     ax.text(1, 0, 'by @pratapvardhan; credit @jburnmurdoch', transform=ax.transAxes, color='#777777', ha='right',\n",
    "# #             bbox=dict(facecolor='white', alpha=0.8, edgecolor='white'))\n",
    "#     plt.box(False)"
   ]
  },
  {
   "cell_type": "code",
   "execution_count": 42,
   "id": "sexual-wages",
   "metadata": {
    "execution": {
     "iopub.execute_input": "2021-07-26T00:20:30.640325Z",
     "iopub.status.busy": "2021-07-26T00:20:30.639732Z",
     "iopub.status.idle": "2021-07-26T00:20:30.643223Z",
     "shell.execute_reply": "2021-07-26T00:20:30.641741Z"
    },
    "papermill": {
     "duration": 0.042541,
     "end_time": "2021-07-26T00:20:30.643358",
     "exception": false,
     "start_time": "2021-07-26T00:20:30.600817",
     "status": "completed"
    },
    "tags": []
   },
   "outputs": [],
   "source": [
    "# #hide_input\n",
    "# fig, ax = plt.subplots(figsize=(15, 8))\n",
    "# animator = animation.FuncAnimation(fig, draw_barchart, frames=range(g.day.values.min(), g.day.values.max()))\n",
    "# HTML(animator.to_jshtml())\n",
    "# # or use animator.to_html5_video() or animator.save() "
   ]
  },
  {
   "cell_type": "code",
   "execution_count": null,
   "id": "australian-container",
   "metadata": {
    "papermill": {
     "duration": 0.0339,
     "end_time": "2021-07-26T00:20:30.714481",
     "exception": false,
     "start_time": "2021-07-26T00:20:30.680581",
     "status": "completed"
    },
    "tags": []
   },
   "outputs": [],
   "source": []
  },
  {
   "cell_type": "code",
   "execution_count": null,
   "id": "mediterranean-pontiac",
   "metadata": {
    "papermill": {
     "duration": 0.036887,
     "end_time": "2021-07-26T00:20:30.787197",
     "exception": false,
     "start_time": "2021-07-26T00:20:30.750310",
     "status": "completed"
    },
    "tags": []
   },
   "outputs": [],
   "source": []
  },
  {
   "cell_type": "code",
   "execution_count": null,
   "id": "aging-legislature",
   "metadata": {
    "papermill": {
     "duration": 0.033547,
     "end_time": "2021-07-26T00:20:30.857087",
     "exception": false,
     "start_time": "2021-07-26T00:20:30.823540",
     "status": "completed"
    },
    "tags": []
   },
   "outputs": [],
   "source": []
  }
 ],
 "metadata": {
  "kernelspec": {
   "display_name": "Python 3",
   "language": "python",
   "name": "python3"
  },
  "language_info": {
   "codemirror_mode": {
    "name": "ipython",
    "version": 3
   },
   "file_extension": ".py",
   "mimetype": "text/x-python",
   "name": "python",
   "nbconvert_exporter": "python",
   "pygments_lexer": "ipython3",
   "version": "3.6.14"
  },
  "papermill": {
   "duration": 6.758191,
   "end_time": "2021-07-26T00:20:31.198809",
   "environment_variables": {},
   "exception": null,
   "input_path": "2020-03-21-covid19exp.ipynb",
   "output_path": "2020-03-21-covid19exp.ipynb",
   "parameters": {},
   "start_time": "2021-07-26T00:20:24.440618",
   "version": "2.0.0"
  }
 },
 "nbformat": 4,
 "nbformat_minor": 5
}