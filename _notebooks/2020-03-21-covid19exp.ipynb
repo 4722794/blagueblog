{
 "cells": [
  {
   "cell_type": "markdown",
   "id": "muslim-click",
   "metadata": {
    "papermill": {
     "duration": 0.043554,
     "end_time": "2021-08-29T12:10:51.469453",
     "exception": false,
     "start_time": "2021-08-29T12:10:51.425899",
     "status": "completed"
    },
    "tags": []
   },
   "source": [
    "# COVID-19 Case Race\n",
    "> A race chart to see rising cases around the world\n",
    "\n",
    "- author: Hargun Oberoi\n",
    "- image: images/covid-overview.png\n",
    "- hide: false\n",
    "- badges: false"
   ]
  },
  {
   "cell_type": "code",
   "execution_count": 1,
   "id": "proof-material",
   "metadata": {
    "execution": {
     "iopub.execute_input": "2021-08-29T12:10:51.559265Z",
     "iopub.status.busy": "2021-08-29T12:10:51.558498Z",
     "iopub.status.idle": "2021-08-29T12:10:51.964439Z",
     "shell.execute_reply": "2021-08-29T12:10:51.963858Z"
    },
    "papermill": {
     "duration": 0.454843,
     "end_time": "2021-08-29T12:10:51.964593",
     "exception": false,
     "start_time": "2021-08-29T12:10:51.509750",
     "status": "completed"
    },
    "tags": []
   },
   "outputs": [],
   "source": [
    "#hide\n",
    "import numpy as np\n",
    "import pandas as pd\n",
    "from jinja2 import Template\n",
    "from IPython.display import HTML"
   ]
  },
  {
   "cell_type": "code",
   "execution_count": 2,
   "id": "developed-terminology",
   "metadata": {
    "execution": {
     "iopub.execute_input": "2021-08-29T12:10:52.046392Z",
     "iopub.status.busy": "2021-08-29T12:10:52.045713Z",
     "iopub.status.idle": "2021-08-29T12:10:52.047960Z",
     "shell.execute_reply": "2021-08-29T12:10:52.048575Z"
    },
    "papermill": {
     "duration": 0.046894,
     "end_time": "2021-08-29T12:10:52.048715",
     "exception": false,
     "start_time": "2021-08-29T12:10:52.001821",
     "status": "completed"
    },
    "tags": []
   },
   "outputs": [],
   "source": [
    "#hide\n",
    "\n",
    "# FETCH\n",
    "base_url = 'https://raw.githubusercontent.com/pratapvardhan/notebooks/master/covid19/'\n",
    "paths = {\n",
    "    'mapping': base_url + 'mapping_countries.csv',\n",
    "    'overview': base_url + 'overview.tpl'\n",
    "}"
   ]
  },
  {
   "cell_type": "code",
   "execution_count": 3,
   "id": "dynamic-saver",
   "metadata": {
    "execution": {
     "iopub.execute_input": "2021-08-29T12:10:52.134952Z",
     "iopub.status.busy": "2021-08-29T12:10:52.134258Z",
     "iopub.status.idle": "2021-08-29T12:10:52.136835Z",
     "shell.execute_reply": "2021-08-29T12:10:52.137577Z"
    },
    "papermill": {
     "duration": 0.05128,
     "end_time": "2021-08-29T12:10:52.137749",
     "exception": false,
     "start_time": "2021-08-29T12:10:52.086469",
     "status": "completed"
    },
    "tags": []
   },
   "outputs": [
    {
     "data": {
      "text/plain": [
       "'https://raw.githubusercontent.com/pratapvardhan/notebooks/master/covid19/mapping_countries.csv'"
      ]
     },
     "execution_count": 3,
     "metadata": {},
     "output_type": "execute_result"
    }
   ],
   "source": [
    "#hide\n",
    "paths['mapping']"
   ]
  },
  {
   "cell_type": "code",
   "execution_count": 4,
   "id": "urban-software",
   "metadata": {
    "execution": {
     "iopub.execute_input": "2021-08-29T12:10:52.218160Z",
     "iopub.status.busy": "2021-08-29T12:10:52.217407Z",
     "iopub.status.idle": "2021-08-29T12:10:52.220094Z",
     "shell.execute_reply": "2021-08-29T12:10:52.219419Z"
    },
    "papermill": {
     "duration": 0.045452,
     "end_time": "2021-08-29T12:10:52.220217",
     "exception": false,
     "start_time": "2021-08-29T12:10:52.174765",
     "status": "completed"
    },
    "tags": []
   },
   "outputs": [],
   "source": [
    "#hide\n",
    "def get_mappings(url):\n",
    "    df = pd.read_csv(url)\n",
    "    return {\n",
    "        'df': df,\n",
    "        'replace.country': dict(df.dropna(subset=['Name']).set_index('Country')['Name']),\n",
    "        'map.continent': dict(df.set_index('Name')['Continent'])\n",
    "    }"
   ]
  },
  {
   "cell_type": "code",
   "execution_count": 5,
   "id": "intimate-machinery",
   "metadata": {
    "execution": {
     "iopub.execute_input": "2021-08-29T12:10:52.301385Z",
     "iopub.status.busy": "2021-08-29T12:10:52.300627Z",
     "iopub.status.idle": "2021-08-29T12:10:52.341741Z",
     "shell.execute_reply": "2021-08-29T12:10:52.341058Z"
    },
    "papermill": {
     "duration": 0.08416,
     "end_time": "2021-08-29T12:10:52.341910",
     "exception": false,
     "start_time": "2021-08-29T12:10:52.257750",
     "status": "completed"
    },
    "tags": []
   },
   "outputs": [],
   "source": [
    "#hide\n",
    "mapping = get_mappings(paths['mapping'])"
   ]
  },
  {
   "cell_type": "code",
   "execution_count": 6,
   "id": "certified-tactics",
   "metadata": {
    "execution": {
     "iopub.execute_input": "2021-08-29T12:10:52.428502Z",
     "iopub.status.busy": "2021-08-29T12:10:52.427752Z",
     "iopub.status.idle": "2021-08-29T12:10:52.430271Z",
     "shell.execute_reply": "2021-08-29T12:10:52.429709Z"
    },
    "papermill": {
     "duration": 0.048865,
     "end_time": "2021-08-29T12:10:52.430391",
     "exception": false,
     "start_time": "2021-08-29T12:10:52.381526",
     "status": "completed"
    },
    "tags": []
   },
   "outputs": [],
   "source": [
    "#hide\n",
    "def get_template(path):\n",
    "    from urllib.parse import urlparse\n",
    "    if bool(urlparse(path).netloc):\n",
    "        from urllib.request import urlopen\n",
    "        return urlopen(path).read().decode('utf8')\n",
    "    return open(path).read()"
   ]
  },
  {
   "cell_type": "code",
   "execution_count": 7,
   "id": "realistic-blast",
   "metadata": {
    "execution": {
     "iopub.execute_input": "2021-08-29T12:10:52.518716Z",
     "iopub.status.busy": "2021-08-29T12:10:52.518111Z",
     "iopub.status.idle": "2021-08-29T12:10:52.519870Z",
     "shell.execute_reply": "2021-08-29T12:10:52.520433Z"
    },
    "papermill": {
     "duration": 0.047158,
     "end_time": "2021-08-29T12:10:52.520634",
     "exception": false,
     "start_time": "2021-08-29T12:10:52.473476",
     "status": "completed"
    },
    "tags": []
   },
   "outputs": [],
   "source": [
    "#hide\n",
    "def get_frame(name):\n",
    "    url = (\n",
    "        'https://raw.githubusercontent.com/CSSEGISandData/COVID-19/master/csse_covid_19_data/'\n",
    "        f'csse_covid_19_time_series/time_series_covid19_{name}_global.csv')\n",
    "    df = pd.read_csv(url)\n",
    "    # rename countries\n",
    "    df['Country/Region'] = df['Country/Region'].replace(mapping['replace.country'])\n",
    "    return df"
   ]
  },
  {
   "cell_type": "code",
   "execution_count": 8,
   "id": "affiliated-characterization",
   "metadata": {
    "execution": {
     "iopub.execute_input": "2021-08-29T12:10:52.603996Z",
     "iopub.status.busy": "2021-08-29T12:10:52.603190Z",
     "iopub.status.idle": "2021-08-29T12:10:52.606564Z",
     "shell.execute_reply": "2021-08-29T12:10:52.607126Z"
    },
    "papermill": {
     "duration": 0.047227,
     "end_time": "2021-08-29T12:10:52.607257",
     "exception": false,
     "start_time": "2021-08-29T12:10:52.560030",
     "status": "completed"
    },
    "tags": []
   },
   "outputs": [],
   "source": [
    "#hide\n",
    "def get_dates(df):\n",
    "    dt_cols = df.columns[~df.columns.isin(['Province/State', 'Country/Region', 'Lat', 'Long'])]\n",
    "    LAST_DATE_I = -1\n",
    "    # sometimes last column may be empty, then go backwards\n",
    "    for i in range(-1, -len(dt_cols), -1):\n",
    "        if not df[dt_cols[i]].fillna(0).eq(0).all():\n",
    "            LAST_DATE_I = i\n",
    "            break\n",
    "    return LAST_DATE_I, dt_cols"
   ]
  },
  {
   "cell_type": "code",
   "execution_count": 9,
   "id": "recent-optimization",
   "metadata": {
    "execution": {
     "iopub.execute_input": "2021-08-29T12:10:52.690918Z",
     "iopub.status.busy": "2021-08-29T12:10:52.690269Z",
     "iopub.status.idle": "2021-08-29T12:10:53.114249Z",
     "shell.execute_reply": "2021-08-29T12:10:53.113646Z"
    },
    "papermill": {
     "duration": 0.467297,
     "end_time": "2021-08-29T12:10:53.114386",
     "exception": false,
     "start_time": "2021-08-29T12:10:52.647089",
     "status": "completed"
    },
    "tags": []
   },
   "outputs": [],
   "source": [
    "#hide\n",
    "COL_REGION = 'Country/Region'\n",
    "# Confirmed, Recovered, Deaths\n",
    "df = get_frame('confirmed')\n",
    "# dft_: timeseries, dfc_: today country agg\n",
    "dft_cases = df\n",
    "dft_deaths = get_frame('deaths')\n",
    "dft_recovered = get_frame('recovered')\n",
    "LAST_DATE_I, dt_cols = get_dates(df)"
   ]
  },
  {
   "cell_type": "code",
   "execution_count": 10,
   "id": "absolute-copper",
   "metadata": {
    "execution": {
     "iopub.execute_input": "2021-08-29T12:10:53.214296Z",
     "iopub.status.busy": "2021-08-29T12:10:53.212692Z",
     "iopub.status.idle": "2021-08-29T12:10:53.215020Z",
     "shell.execute_reply": "2021-08-29T12:10:53.215523Z"
    },
    "papermill": {
     "duration": 0.059955,
     "end_time": "2021-08-29T12:10:53.215662",
     "exception": false,
     "start_time": "2021-08-29T12:10:53.155707",
     "status": "completed"
    },
    "tags": []
   },
   "outputs": [],
   "source": [
    "#hide\n",
    "LAST_DATE_I, dt_cols = get_dates(df)\n",
    "dt_today =dt_cols[LAST_DATE_I]\n",
    "# dt_5day = dt_cols[LAST_DATE_I - 5]\n",
    "dt_yday = dt_cols[LAST_DATE_I - 1]"
   ]
  },
  {
   "cell_type": "code",
   "execution_count": 11,
   "id": "restricted-sheriff",
   "metadata": {
    "execution": {
     "iopub.execute_input": "2021-08-29T12:10:53.305350Z",
     "iopub.status.busy": "2021-08-29T12:10:53.304637Z",
     "iopub.status.idle": "2021-08-29T12:10:53.314643Z",
     "shell.execute_reply": "2021-08-29T12:10:53.314064Z"
    },
    "papermill": {
     "duration": 0.06023,
     "end_time": "2021-08-29T12:10:53.314785",
     "exception": false,
     "start_time": "2021-08-29T12:10:53.254555",
     "status": "completed"
    },
    "tags": []
   },
   "outputs": [],
   "source": [
    "#hide\n",
    "dfc_cases = dft_cases.groupby(COL_REGION)[dt_today].sum()\n",
    "dfc_deaths = dft_deaths.groupby(COL_REGION)[dt_today].sum()\n",
    "# dfp_cases = dft_cases.groupby(COL_REGION)[dt_5day].sum()\n",
    "# dfp_deaths = dft_deaths.groupby(COL_REGION)[dt_5day].sum()\n",
    "dfp_cases = dft_cases.groupby(COL_REGION)[dt_yday].sum()\n",
    "dfp_deaths = dft_deaths.groupby(COL_REGION)[dt_yday].sum()"
   ]
  },
  {
   "cell_type": "code",
   "execution_count": 12,
   "id": "deluxe-hepatitis",
   "metadata": {
    "execution": {
     "iopub.execute_input": "2021-08-29T12:10:53.400332Z",
     "iopub.status.busy": "2021-08-29T12:10:53.399652Z",
     "iopub.status.idle": "2021-08-29T12:10:53.405367Z",
     "shell.execute_reply": "2021-08-29T12:10:53.406015Z"
    },
    "papermill": {
     "duration": 0.0523,
     "end_time": "2021-08-29T12:10:53.406163",
     "exception": false,
     "start_time": "2021-08-29T12:10:53.353863",
     "status": "completed"
    },
    "tags": []
   },
   "outputs": [],
   "source": [
    "#hide\n",
    "df_table = (pd.DataFrame(dict(Cases = dfc_cases, Deaths = dfc_deaths, PCases = dfp_cases, PDeaths = dfp_deaths))\n",
    "            .sort_values(by = ['Cases','Deaths'], ascending = [False, False])\n",
    "            .reset_index())"
   ]
  },
  {
   "cell_type": "code",
   "execution_count": 13,
   "id": "educational-chancellor",
   "metadata": {
    "execution": {
     "iopub.execute_input": "2021-08-29T12:10:53.491386Z",
     "iopub.status.busy": "2021-08-29T12:10:53.490651Z",
     "iopub.status.idle": "2021-08-29T12:10:53.527412Z",
     "shell.execute_reply": "2021-08-29T12:10:53.527949Z"
    },
    "papermill": {
     "duration": 0.08334,
     "end_time": "2021-08-29T12:10:53.528171",
     "exception": false,
     "start_time": "2021-08-29T12:10:53.444831",
     "status": "completed"
    },
    "tags": []
   },
   "outputs": [
    {
     "data": {
      "text/html": [
       "<div>\n",
       "<style scoped>\n",
       "    .dataframe tbody tr th:only-of-type {\n",
       "        vertical-align: middle;\n",
       "    }\n",
       "\n",
       "    .dataframe tbody tr th {\n",
       "        vertical-align: top;\n",
       "    }\n",
       "\n",
       "    .dataframe thead th {\n",
       "        text-align: right;\n",
       "    }\n",
       "</style>\n",
       "<table border=\"1\" class=\"dataframe\">\n",
       "  <thead>\n",
       "    <tr style=\"text-align: right;\">\n",
       "      <th></th>\n",
       "      <th>Country/Region</th>\n",
       "      <th>Cases</th>\n",
       "      <th>Deaths</th>\n",
       "      <th>PCases</th>\n",
       "      <th>PDeaths</th>\n",
       "      <th>Cases (+)</th>\n",
       "      <th>Deaths (+)</th>\n",
       "      <th>Fatality Rate</th>\n",
       "      <th>Continent</th>\n",
       "    </tr>\n",
       "  </thead>\n",
       "  <tbody>\n",
       "    <tr>\n",
       "      <th>0</th>\n",
       "      <td>US</td>\n",
       "      <td>38760363</td>\n",
       "      <td>637254</td>\n",
       "      <td>38707294</td>\n",
       "      <td>636720</td>\n",
       "      <td>53069</td>\n",
       "      <td>534</td>\n",
       "      <td>1.64</td>\n",
       "      <td>North America</td>\n",
       "    </tr>\n",
       "    <tr>\n",
       "      <th>1</th>\n",
       "      <td>India</td>\n",
       "      <td>32695030</td>\n",
       "      <td>437830</td>\n",
       "      <td>32649947</td>\n",
       "      <td>437370</td>\n",
       "      <td>45083</td>\n",
       "      <td>460</td>\n",
       "      <td>1.34</td>\n",
       "      <td>Asia</td>\n",
       "    </tr>\n",
       "    <tr>\n",
       "      <th>2</th>\n",
       "      <td>Brazil</td>\n",
       "      <td>20728605</td>\n",
       "      <td>579010</td>\n",
       "      <td>20703906</td>\n",
       "      <td>578326</td>\n",
       "      <td>24699</td>\n",
       "      <td>684</td>\n",
       "      <td>2.79</td>\n",
       "      <td>South America</td>\n",
       "    </tr>\n",
       "    <tr>\n",
       "      <th>3</th>\n",
       "      <td>France</td>\n",
       "      <td>6813516</td>\n",
       "      <td>114453</td>\n",
       "      <td>6778133</td>\n",
       "      <td>114291</td>\n",
       "      <td>35383</td>\n",
       "      <td>162</td>\n",
       "      <td>1.68</td>\n",
       "      <td>Europe</td>\n",
       "    </tr>\n",
       "    <tr>\n",
       "      <th>4</th>\n",
       "      <td>Russia</td>\n",
       "      <td>6766667</td>\n",
       "      <td>177679</td>\n",
       "      <td>6747681</td>\n",
       "      <td>176904</td>\n",
       "      <td>18986</td>\n",
       "      <td>775</td>\n",
       "      <td>2.63</td>\n",
       "      <td>Europe</td>\n",
       "    </tr>\n",
       "  </tbody>\n",
       "</table>\n",
       "</div>"
      ],
      "text/plain": [
       "  Country/Region     Cases  Deaths    PCases  PDeaths  Cases (+)  Deaths (+)  \\\n",
       "0             US  38760363  637254  38707294   636720      53069         534   \n",
       "1          India  32695030  437830  32649947   437370      45083         460   \n",
       "2         Brazil  20728605  579010  20703906   578326      24699         684   \n",
       "3         France   6813516  114453   6778133   114291      35383         162   \n",
       "4         Russia   6766667  177679   6747681   176904      18986         775   \n",
       "\n",
       "   Fatality Rate      Continent  \n",
       "0           1.64  North America  \n",
       "1           1.34           Asia  \n",
       "2           2.79  South America  \n",
       "3           1.68         Europe  \n",
       "4           2.63         Europe  "
      ]
     },
     "execution_count": 13,
     "metadata": {},
     "output_type": "execute_result"
    }
   ],
   "source": [
    "#hide\n",
    "for c in 'Cases, Deaths'.split(', '):\n",
    "    df_table[f'{c} (+)'] = (df_table[c] - df_table[f'P{c}']).clip(0)\n",
    "    #Clip ça veut dire, les chiffres negatif sont interdit\n",
    "df_table['Fatality Rate'] = (100* df_table['Deaths']/ df_table['Cases']).round(2)\n",
    "df_table['Continent'] = df_table['Country/Region'].map(mapping['map.continent'])\n",
    "df_table.head(5)"
   ]
  },
  {
   "cell_type": "code",
   "execution_count": 14,
   "id": "aboriginal-bulgaria",
   "metadata": {
    "execution": {
     "iopub.execute_input": "2021-08-29T12:10:53.616831Z",
     "iopub.status.busy": "2021-08-29T12:10:53.616103Z",
     "iopub.status.idle": "2021-08-29T12:10:53.618573Z",
     "shell.execute_reply": "2021-08-29T12:10:53.619247Z"
    },
    "papermill": {
     "duration": 0.050438,
     "end_time": "2021-08-29T12:10:53.619391",
     "exception": false,
     "start_time": "2021-08-29T12:10:53.568953",
     "status": "completed"
    },
    "tags": []
   },
   "outputs": [],
   "source": [
    "#hide\n",
    "#delete problematic countries from table\n",
    "df_table = df_table[~df_table['Country/Region'].isin(['Cape Verde', 'Cruise Ship', 'Kosovo'])]"
   ]
  },
  {
   "cell_type": "code",
   "execution_count": 15,
   "id": "fantastic-effect",
   "metadata": {
    "execution": {
     "iopub.execute_input": "2021-08-29T12:10:53.708947Z",
     "iopub.status.busy": "2021-08-29T12:10:53.708263Z",
     "iopub.status.idle": "2021-08-29T12:10:53.732170Z",
     "shell.execute_reply": "2021-08-29T12:10:53.731508Z"
    },
    "papermill": {
     "duration": 0.073357,
     "end_time": "2021-08-29T12:10:53.732333",
     "exception": false,
     "start_time": "2021-08-29T12:10:53.658976",
     "status": "completed"
    },
    "tags": []
   },
   "outputs": [
    {
     "data": {
      "text/html": [
       "<div>\n",
       "<style scoped>\n",
       "    .dataframe tbody tr th:only-of-type {\n",
       "        vertical-align: middle;\n",
       "    }\n",
       "\n",
       "    .dataframe tbody tr th {\n",
       "        vertical-align: top;\n",
       "    }\n",
       "\n",
       "    .dataframe thead th {\n",
       "        text-align: right;\n",
       "    }\n",
       "</style>\n",
       "<table border=\"1\" class=\"dataframe\">\n",
       "  <thead>\n",
       "    <tr style=\"text-align: right;\">\n",
       "      <th></th>\n",
       "      <th>Country/Region</th>\n",
       "      <th>Cases</th>\n",
       "      <th>Deaths</th>\n",
       "      <th>PCases</th>\n",
       "      <th>PDeaths</th>\n",
       "      <th>Cases (+)</th>\n",
       "      <th>Deaths (+)</th>\n",
       "      <th>Fatality Rate</th>\n",
       "      <th>Continent</th>\n",
       "    </tr>\n",
       "  </thead>\n",
       "  <tbody>\n",
       "    <tr>\n",
       "      <th>0</th>\n",
       "      <td>US</td>\n",
       "      <td>38760363</td>\n",
       "      <td>637254</td>\n",
       "      <td>38707294</td>\n",
       "      <td>636720</td>\n",
       "      <td>53069</td>\n",
       "      <td>534</td>\n",
       "      <td>1.6</td>\n",
       "      <td>North America</td>\n",
       "    </tr>\n",
       "    <tr>\n",
       "      <th>1</th>\n",
       "      <td>India</td>\n",
       "      <td>32695030</td>\n",
       "      <td>437830</td>\n",
       "      <td>32649947</td>\n",
       "      <td>437370</td>\n",
       "      <td>45083</td>\n",
       "      <td>460</td>\n",
       "      <td>1.3</td>\n",
       "      <td>Asia</td>\n",
       "    </tr>\n",
       "    <tr>\n",
       "      <th>2</th>\n",
       "      <td>Brazil</td>\n",
       "      <td>20728605</td>\n",
       "      <td>579010</td>\n",
       "      <td>20703906</td>\n",
       "      <td>578326</td>\n",
       "      <td>24699</td>\n",
       "      <td>684</td>\n",
       "      <td>2.8</td>\n",
       "      <td>South America</td>\n",
       "    </tr>\n",
       "    <tr>\n",
       "      <th>3</th>\n",
       "      <td>France</td>\n",
       "      <td>6813516</td>\n",
       "      <td>114453</td>\n",
       "      <td>6778133</td>\n",
       "      <td>114291</td>\n",
       "      <td>35383</td>\n",
       "      <td>162</td>\n",
       "      <td>1.7</td>\n",
       "      <td>Europe</td>\n",
       "    </tr>\n",
       "    <tr>\n",
       "      <th>4</th>\n",
       "      <td>Russia</td>\n",
       "      <td>6766667</td>\n",
       "      <td>177679</td>\n",
       "      <td>6747681</td>\n",
       "      <td>176904</td>\n",
       "      <td>18986</td>\n",
       "      <td>775</td>\n",
       "      <td>2.6</td>\n",
       "      <td>Europe</td>\n",
       "    </tr>\n",
       "  </tbody>\n",
       "</table>\n",
       "</div>"
      ],
      "text/plain": [
       "  Country/Region     Cases  Deaths    PCases  PDeaths  Cases (+)  Deaths (+)  \\\n",
       "0             US  38760363  637254  38707294   636720      53069         534   \n",
       "1          India  32695030  437830  32649947   437370      45083         460   \n",
       "2         Brazil  20728605  579010  20703906   578326      24699         684   \n",
       "3         France   6813516  114453   6778133   114291      35383         162   \n",
       "4         Russia   6766667  177679   6747681   176904      18986         775   \n",
       "\n",
       "   Fatality Rate      Continent  \n",
       "0            1.6  North America  \n",
       "1            1.3           Asia  \n",
       "2            2.8  South America  \n",
       "3            1.7         Europe  \n",
       "4            2.6         Europe  "
      ]
     },
     "execution_count": 15,
     "metadata": {},
     "output_type": "execute_result"
    }
   ],
   "source": [
    "#hide\n",
    "df_table = (pd.DataFrame(dict(Cases=dfc_cases, Deaths=dfc_deaths, PCases=dfp_cases, PDeaths=dfp_deaths))\n",
    "             .sort_values(by=['Cases', 'Deaths'], ascending=[False, False])\n",
    "             .reset_index())\n",
    "df_table.rename(columns={'index': 'Country/Region'}, inplace=True)\n",
    "for c in 'Cases, Deaths'.split(', '):\n",
    "    df_table[f'{c} (+)'] = (df_table[c] - df_table[f'P{c}']).clip(0)  # DATA BUG\n",
    "df_table['Fatality Rate'] = (100 * df_table['Deaths'] / df_table['Cases']).round(1)\n",
    "df_table['Continent'] = df_table['Country/Region'].map(mapping['map.continent'])\n",
    "df_table.head(5)"
   ]
  },
  {
   "cell_type": "code",
   "execution_count": 16,
   "id": "fewer-occasion",
   "metadata": {
    "execution": {
     "iopub.execute_input": "2021-08-29T12:10:53.820063Z",
     "iopub.status.busy": "2021-08-29T12:10:53.819409Z",
     "iopub.status.idle": "2021-08-29T12:10:53.822748Z",
     "shell.execute_reply": "2021-08-29T12:10:53.823378Z"
    },
    "papermill": {
     "duration": 0.049584,
     "end_time": "2021-08-29T12:10:53.823520",
     "exception": false,
     "start_time": "2021-08-29T12:10:53.773936",
     "status": "completed"
    },
    "tags": []
   },
   "outputs": [],
   "source": [
    "#hide\n",
    "#delete problematic countries from table\n",
    "df_table = df_table[~df_table['Country/Region'].isin(['Cape Verde', 'Cruise Ship', 'Kosovo'])]"
   ]
  },
  {
   "cell_type": "code",
   "execution_count": 17,
   "id": "related-center",
   "metadata": {
    "execution": {
     "iopub.execute_input": "2021-08-29T12:10:53.942281Z",
     "iopub.status.busy": "2021-08-29T12:10:53.941456Z",
     "iopub.status.idle": "2021-08-29T12:10:53.944119Z",
     "shell.execute_reply": "2021-08-29T12:10:53.943575Z"
    },
    "papermill": {
     "duration": 0.072589,
     "end_time": "2021-08-29T12:10:53.944253",
     "exception": false,
     "start_time": "2021-08-29T12:10:53.871664",
     "status": "completed"
    },
    "tags": []
   },
   "outputs": [],
   "source": [
    "#hide\n",
    "metrics = [df_table.columns[index] for index in [1,2,5,6]]\n",
    "# s_china = df_table[df_table['Country/Region'].eq('China')][metrics].sum().add_prefix('China ')\n",
    "s_us = df_table[df_table['Country/Region'].eq('US')][metrics].sum().add_prefix('US ')\n",
    "s_eu = df_table[df_table['Continent'].eq('Europe')][metrics].sum().add_prefix('EU ')\n",
    "s_ind = df_table[df_table['Country/Region'].eq('India')][metrics].sum().add_prefix('India ')\n",
    "summary = {'updated': pd.to_datetime(dt_today), 'since': pd.to_datetime(dt_yday)}\n",
    "summary = {'updated': pd.to_datetime(dt_today), 'since': pd.to_datetime(dt_yday)}\n",
    "summary = {**summary, **df_table[metrics].sum(), **s_ind, **s_us, **s_eu}"
   ]
  },
  {
   "cell_type": "code",
   "execution_count": 18,
   "id": "engaging-syndrome",
   "metadata": {
    "execution": {
     "iopub.execute_input": "2021-08-29T12:10:54.032307Z",
     "iopub.status.busy": "2021-08-29T12:10:54.031645Z",
     "iopub.status.idle": "2021-08-29T12:10:54.047198Z",
     "shell.execute_reply": "2021-08-29T12:10:54.047774Z"
    },
    "papermill": {
     "duration": 0.063121,
     "end_time": "2021-08-29T12:10:54.047926",
     "exception": false,
     "start_time": "2021-08-29T12:10:53.984805",
     "status": "completed"
    },
    "tags": []
   },
   "outputs": [],
   "source": [
    "#hide\n",
    "dft_ct_new_cases = dft_cases.groupby(COL_REGION)[dt_cols].sum().diff(axis=1).fillna(0).astype(int)"
   ]
  },
  {
   "cell_type": "code",
   "execution_count": 19,
   "id": "neutral-assignment",
   "metadata": {
    "execution": {
     "iopub.execute_input": "2021-08-29T12:10:54.139683Z",
     "iopub.status.busy": "2021-08-29T12:10:54.138911Z",
     "iopub.status.idle": "2021-08-29T12:10:54.141185Z",
     "shell.execute_reply": "2021-08-29T12:10:54.141714Z"
    },
    "papermill": {
     "duration": 0.05409,
     "end_time": "2021-08-29T12:10:54.141858",
     "exception": false,
     "start_time": "2021-08-29T12:10:54.087768",
     "status": "completed"
    },
    "tags": []
   },
   "outputs": [],
   "source": [
    "#hide\n",
    "everydaycases = dft_ct_new_cases.cumsum(axis=1)"
   ]
  },
  {
   "cell_type": "code",
   "execution_count": 20,
   "id": "parliamentary-calgary",
   "metadata": {
    "execution": {
     "iopub.execute_input": "2021-08-29T12:10:54.229793Z",
     "iopub.status.busy": "2021-08-29T12:10:54.229170Z",
     "iopub.status.idle": "2021-08-29T12:10:54.914459Z",
     "shell.execute_reply": "2021-08-29T12:10:54.913802Z"
    },
    "papermill": {
     "duration": 0.730376,
     "end_time": "2021-08-29T12:10:54.914620",
     "exception": false,
     "start_time": "2021-08-29T12:10:54.184244",
     "status": "completed"
    },
    "tags": []
   },
   "outputs": [],
   "source": [
    "#hide\n",
    "import pandas as pd\n",
    "import matplotlib.pyplot as plt\n",
    "import matplotlib.ticker as ticker\n",
    "import matplotlib.animation as animation\n",
    "from IPython.display import HTML"
   ]
  },
  {
   "cell_type": "code",
   "execution_count": 21,
   "id": "lasting-extraction",
   "metadata": {
    "execution": {
     "iopub.execute_input": "2021-08-29T12:10:55.004586Z",
     "iopub.status.busy": "2021-08-29T12:10:55.003865Z",
     "iopub.status.idle": "2021-08-29T12:10:55.010190Z",
     "shell.execute_reply": "2021-08-29T12:10:55.009649Z"
    },
    "papermill": {
     "duration": 0.054457,
     "end_time": "2021-08-29T12:10:55.010319",
     "exception": false,
     "start_time": "2021-08-29T12:10:54.955862",
     "status": "completed"
    },
    "tags": []
   },
   "outputs": [],
   "source": [
    "#hide\n",
    "t = everydaycases.stack()"
   ]
  },
  {
   "cell_type": "code",
   "execution_count": 22,
   "id": "premier-sleeve",
   "metadata": {
    "execution": {
     "iopub.execute_input": "2021-08-29T12:10:55.096179Z",
     "iopub.status.busy": "2021-08-29T12:10:55.095477Z",
     "iopub.status.idle": "2021-08-29T12:10:55.106384Z",
     "shell.execute_reply": "2021-08-29T12:10:55.105739Z"
    },
    "papermill": {
     "duration": 0.057235,
     "end_time": "2021-08-29T12:10:55.106525",
     "exception": false,
     "start_time": "2021-08-29T12:10:55.049290",
     "status": "completed"
    },
    "tags": []
   },
   "outputs": [],
   "source": [
    "#hide\n",
    "g = t.reset_index(['Country/Region'])"
   ]
  },
  {
   "cell_type": "code",
   "execution_count": 23,
   "id": "distributed-pittsburgh",
   "metadata": {
    "execution": {
     "iopub.execute_input": "2021-08-29T12:10:55.193700Z",
     "iopub.status.busy": "2021-08-29T12:10:55.192177Z",
     "iopub.status.idle": "2021-08-29T12:10:55.194386Z",
     "shell.execute_reply": "2021-08-29T12:10:55.195075Z"
    },
    "papermill": {
     "duration": 0.046951,
     "end_time": "2021-08-29T12:10:55.195263",
     "exception": false,
     "start_time": "2021-08-29T12:10:55.148312",
     "status": "completed"
    },
    "tags": []
   },
   "outputs": [],
   "source": [
    "#hide\n",
    "g.index.name = 'date'"
   ]
  },
  {
   "cell_type": "code",
   "execution_count": 24,
   "id": "naked-donor",
   "metadata": {
    "execution": {
     "iopub.execute_input": "2021-08-29T12:10:55.280275Z",
     "iopub.status.busy": "2021-08-29T12:10:55.279565Z",
     "iopub.status.idle": "2021-08-29T12:10:55.282157Z",
     "shell.execute_reply": "2021-08-29T12:10:55.281571Z"
    },
    "papermill": {
     "duration": 0.046495,
     "end_time": "2021-08-29T12:10:55.282304",
     "exception": false,
     "start_time": "2021-08-29T12:10:55.235809",
     "status": "completed"
    },
    "tags": []
   },
   "outputs": [],
   "source": [
    "# #hide\n",
    "# g = g.reset_index(['date'])"
   ]
  },
  {
   "cell_type": "code",
   "execution_count": 25,
   "id": "incomplete-mustang",
   "metadata": {
    "execution": {
     "iopub.execute_input": "2021-08-29T12:10:55.368440Z",
     "iopub.status.busy": "2021-08-29T12:10:55.367713Z",
     "iopub.status.idle": "2021-08-29T12:10:55.370230Z",
     "shell.execute_reply": "2021-08-29T12:10:55.369624Z"
    },
    "papermill": {
     "duration": 0.04668,
     "end_time": "2021-08-29T12:10:55.370394",
     "exception": false,
     "start_time": "2021-08-29T12:10:55.323714",
     "status": "completed"
    },
    "tags": []
   },
   "outputs": [],
   "source": [
    "#hide\n",
    "# g.head()"
   ]
  },
  {
   "cell_type": "code",
   "execution_count": 26,
   "id": "specific-kruger",
   "metadata": {
    "execution": {
     "iopub.execute_input": "2021-08-29T12:10:55.455362Z",
     "iopub.status.busy": "2021-08-29T12:10:55.454684Z",
     "iopub.status.idle": "2021-08-29T12:10:55.457268Z",
     "shell.execute_reply": "2021-08-29T12:10:55.456721Z"
    },
    "papermill": {
     "duration": 0.047154,
     "end_time": "2021-08-29T12:10:55.457418",
     "exception": false,
     "start_time": "2021-08-29T12:10:55.410264",
     "status": "completed"
    },
    "tags": []
   },
   "outputs": [],
   "source": [
    "#hide\n",
    "# g.columns = ['date','country','cases']"
   ]
  },
  {
   "cell_type": "code",
   "execution_count": 27,
   "id": "tender-conversion",
   "metadata": {
    "execution": {
     "iopub.execute_input": "2021-08-29T12:10:55.546715Z",
     "iopub.status.busy": "2021-08-29T12:10:55.544272Z",
     "iopub.status.idle": "2021-08-29T12:10:55.547977Z",
     "shell.execute_reply": "2021-08-29T12:10:55.548700Z"
    },
    "papermill": {
     "duration": 0.054068,
     "end_time": "2021-08-29T12:10:55.550233",
     "exception": false,
     "start_time": "2021-08-29T12:10:55.496165",
     "status": "completed"
    },
    "tags": []
   },
   "outputs": [],
   "source": [
    "#hide\n",
    "# g['continent'] = g.country"
   ]
  },
  {
   "cell_type": "code",
   "execution_count": 28,
   "id": "substantial-wilderness",
   "metadata": {
    "execution": {
     "iopub.execute_input": "2021-08-29T12:10:55.638599Z",
     "iopub.status.busy": "2021-08-29T12:10:55.637962Z",
     "iopub.status.idle": "2021-08-29T12:10:55.640697Z",
     "shell.execute_reply": "2021-08-29T12:10:55.640153Z"
    },
    "papermill": {
     "duration": 0.045901,
     "end_time": "2021-08-29T12:10:55.640820",
     "exception": false,
     "start_time": "2021-08-29T12:10:55.594919",
     "status": "completed"
    },
    "tags": []
   },
   "outputs": [],
   "source": [
    "#hide\n",
    "# cols = list(g.columns.values)"
   ]
  },
  {
   "cell_type": "code",
   "execution_count": 29,
   "id": "solved-farming",
   "metadata": {
    "execution": {
     "iopub.execute_input": "2021-08-29T12:10:55.727446Z",
     "iopub.status.busy": "2021-08-29T12:10:55.726750Z",
     "iopub.status.idle": "2021-08-29T12:10:55.728432Z",
     "shell.execute_reply": "2021-08-29T12:10:55.729125Z"
    },
    "papermill": {
     "duration": 0.046469,
     "end_time": "2021-08-29T12:10:55.729267",
     "exception": false,
     "start_time": "2021-08-29T12:10:55.682798",
     "status": "completed"
    },
    "tags": []
   },
   "outputs": [],
   "source": [
    "#hide\n",
    "# cols.insert(0, cols.pop())"
   ]
  },
  {
   "cell_type": "code",
   "execution_count": 30,
   "id": "executed-adoption",
   "metadata": {
    "execution": {
     "iopub.execute_input": "2021-08-29T12:10:55.813845Z",
     "iopub.status.busy": "2021-08-29T12:10:55.813137Z",
     "iopub.status.idle": "2021-08-29T12:10:55.815633Z",
     "shell.execute_reply": "2021-08-29T12:10:55.814961Z"
    },
    "papermill": {
     "duration": 0.046689,
     "end_time": "2021-08-29T12:10:55.815761",
     "exception": false,
     "start_time": "2021-08-29T12:10:55.769072",
     "status": "completed"
    },
    "tags": []
   },
   "outputs": [],
   "source": [
    "#hide\n",
    "# g = g[cols]"
   ]
  },
  {
   "cell_type": "code",
   "execution_count": 31,
   "id": "subject-dublin",
   "metadata": {
    "execution": {
     "iopub.execute_input": "2021-08-29T12:10:55.902729Z",
     "iopub.status.busy": "2021-08-29T12:10:55.901863Z",
     "iopub.status.idle": "2021-08-29T12:10:55.904923Z",
     "shell.execute_reply": "2021-08-29T12:10:55.904096Z"
    },
    "papermill": {
     "duration": 0.048534,
     "end_time": "2021-08-29T12:10:55.905053",
     "exception": false,
     "start_time": "2021-08-29T12:10:55.856519",
     "status": "completed"
    },
    "tags": []
   },
   "outputs": [],
   "source": [
    "#hide\n",
    "# g['continent'] = g['continent'].map(mapping['map.continent'])"
   ]
  },
  {
   "cell_type": "code",
   "execution_count": 32,
   "id": "freelance-scout",
   "metadata": {
    "execution": {
     "iopub.execute_input": "2021-08-29T12:10:55.988701Z",
     "iopub.status.busy": "2021-08-29T12:10:55.987943Z",
     "iopub.status.idle": "2021-08-29T12:10:55.990737Z",
     "shell.execute_reply": "2021-08-29T12:10:55.990077Z"
    },
    "papermill": {
     "duration": 0.045434,
     "end_time": "2021-08-29T12:10:55.990892",
     "exception": false,
     "start_time": "2021-08-29T12:10:55.945458",
     "status": "completed"
    },
    "tags": []
   },
   "outputs": [],
   "source": [
    "#hide\n",
    "# g.head()"
   ]
  },
  {
   "cell_type": "code",
   "execution_count": 33,
   "id": "limited-engine",
   "metadata": {
    "execution": {
     "iopub.execute_input": "2021-08-29T12:10:56.075491Z",
     "iopub.status.busy": "2021-08-29T12:10:56.074806Z",
     "iopub.status.idle": "2021-08-29T12:10:56.076889Z",
     "shell.execute_reply": "2021-08-29T12:10:56.077483Z"
    },
    "papermill": {
     "duration": 0.046646,
     "end_time": "2021-08-29T12:10:56.077627",
     "exception": false,
     "start_time": "2021-08-29T12:10:56.030981",
     "status": "completed"
    },
    "tags": []
   },
   "outputs": [],
   "source": [
    "# hide\n",
    "# g['date'] = g['date'].astype('datetime64[ns]')"
   ]
  },
  {
   "cell_type": "code",
   "execution_count": 34,
   "id": "sophisticated-supervisor",
   "metadata": {
    "execution": {
     "iopub.execute_input": "2021-08-29T12:10:56.164968Z",
     "iopub.status.busy": "2021-08-29T12:10:56.164349Z",
     "iopub.status.idle": "2021-08-29T12:10:56.166385Z",
     "shell.execute_reply": "2021-08-29T12:10:56.167023Z"
    },
    "papermill": {
     "duration": 0.047098,
     "end_time": "2021-08-29T12:10:56.167162",
     "exception": false,
     "start_time": "2021-08-29T12:10:56.120064",
     "status": "completed"
    },
    "tags": []
   },
   "outputs": [],
   "source": [
    "#hide\n",
    "# g['date'] = g.date.dt.dayofyear"
   ]
  },
  {
   "cell_type": "code",
   "execution_count": 35,
   "id": "inside-dubai",
   "metadata": {
    "execution": {
     "iopub.execute_input": "2021-08-29T12:10:56.255154Z",
     "iopub.status.busy": "2021-08-29T12:10:56.254480Z",
     "iopub.status.idle": "2021-08-29T12:10:56.255884Z",
     "shell.execute_reply": "2021-08-29T12:10:56.256693Z"
    },
    "papermill": {
     "duration": 0.046683,
     "end_time": "2021-08-29T12:10:56.256834",
     "exception": false,
     "start_time": "2021-08-29T12:10:56.210151",
     "status": "completed"
    },
    "tags": []
   },
   "outputs": [],
   "source": [
    "#hide\n",
    "# g = g.rename(columns= {'continent':'group','country':'name','cases':'value'})"
   ]
  },
  {
   "cell_type": "code",
   "execution_count": 36,
   "id": "fleet-motorcycle",
   "metadata": {
    "execution": {
     "iopub.execute_input": "2021-08-29T12:10:56.339746Z",
     "iopub.status.busy": "2021-08-29T12:10:56.339050Z",
     "iopub.status.idle": "2021-08-29T12:10:56.341940Z",
     "shell.execute_reply": "2021-08-29T12:10:56.341166Z"
    },
    "papermill": {
     "duration": 0.045181,
     "end_time": "2021-08-29T12:10:56.342083",
     "exception": false,
     "start_time": "2021-08-29T12:10:56.296902",
     "status": "completed"
    },
    "tags": []
   },
   "outputs": [],
   "source": [
    "#hide\n",
    "# cols = ['name','group','day','value']"
   ]
  },
  {
   "cell_type": "code",
   "execution_count": 37,
   "id": "continued-sleeping",
   "metadata": {
    "execution": {
     "iopub.execute_input": "2021-08-29T12:10:56.424194Z",
     "iopub.status.busy": "2021-08-29T12:10:56.423547Z",
     "iopub.status.idle": "2021-08-29T12:10:56.426232Z",
     "shell.execute_reply": "2021-08-29T12:10:56.425668Z"
    },
    "papermill": {
     "duration": 0.045514,
     "end_time": "2021-08-29T12:10:56.426350",
     "exception": false,
     "start_time": "2021-08-29T12:10:56.380836",
     "status": "completed"
    },
    "tags": []
   },
   "outputs": [],
   "source": [
    "#hide\n",
    "# g.rename(columns= {'date':'day'},inplace = True)"
   ]
  },
  {
   "cell_type": "code",
   "execution_count": 38,
   "id": "major-fight",
   "metadata": {
    "execution": {
     "iopub.execute_input": "2021-08-29T12:10:56.514988Z",
     "iopub.status.busy": "2021-08-29T12:10:56.514316Z",
     "iopub.status.idle": "2021-08-29T12:10:56.517100Z",
     "shell.execute_reply": "2021-08-29T12:10:56.516324Z"
    },
    "papermill": {
     "duration": 0.050064,
     "end_time": "2021-08-29T12:10:56.517250",
     "exception": false,
     "start_time": "2021-08-29T12:10:56.467186",
     "status": "completed"
    },
    "tags": []
   },
   "outputs": [],
   "source": [
    "#hide\n",
    "# g = g[cols]"
   ]
  },
  {
   "cell_type": "code",
   "execution_count": 39,
   "id": "structured-mobile",
   "metadata": {
    "execution": {
     "iopub.execute_input": "2021-08-29T12:10:56.603513Z",
     "iopub.status.busy": "2021-08-29T12:10:56.602791Z",
     "iopub.status.idle": "2021-08-29T12:10:56.605852Z",
     "shell.execute_reply": "2021-08-29T12:10:56.605312Z"
    },
    "papermill": {
     "duration": 0.047902,
     "end_time": "2021-08-29T12:10:56.605979",
     "exception": false,
     "start_time": "2021-08-29T12:10:56.558077",
     "status": "completed"
    },
    "tags": []
   },
   "outputs": [],
   "source": [
    "# #hide\n",
    "# g = g[g.group.notna()]"
   ]
  },
  {
   "cell_type": "code",
   "execution_count": 40,
   "id": "determined-closing",
   "metadata": {
    "execution": {
     "iopub.execute_input": "2021-08-29T12:10:56.689583Z",
     "iopub.status.busy": "2021-08-29T12:10:56.688883Z",
     "iopub.status.idle": "2021-08-29T12:10:56.691709Z",
     "shell.execute_reply": "2021-08-29T12:10:56.691019Z"
    },
    "papermill": {
     "duration": 0.046663,
     "end_time": "2021-08-29T12:10:56.691832",
     "exception": false,
     "start_time": "2021-08-29T12:10:56.645169",
     "status": "completed"
    },
    "tags": []
   },
   "outputs": [],
   "source": [
    "# #hide\n",
    "# colors = dict(zip(\n",
    "#     [\"Oceania\", \"Europe\", \"Asia\", \"South America\", \"Middle East\", \"North America\", \"Africa\"],\n",
    "#     [\"#adb0ff\", \"#ffb3ff\", \"#90d595\", \"#e48381\", \"#aafbff\", \"#f7bb5f\", \"#eafb50\"]\n",
    "# ))\n",
    "# group_lk = g.set_index('name')['group'].to_dict()"
   ]
  },
  {
   "cell_type": "code",
   "execution_count": null,
   "id": "gross-drinking",
   "metadata": {
    "papermill": {
     "duration": 0.038982,
     "end_time": "2021-08-29T12:10:56.771050",
     "exception": false,
     "start_time": "2021-08-29T12:10:56.732068",
     "status": "completed"
    },
    "tags": []
   },
   "outputs": [],
   "source": []
  },
  {
   "cell_type": "code",
   "execution_count": 41,
   "id": "subject-macintosh",
   "metadata": {
    "execution": {
     "iopub.execute_input": "2021-08-29T12:10:56.867819Z",
     "iopub.status.busy": "2021-08-29T12:10:56.867057Z",
     "iopub.status.idle": "2021-08-29T12:10:56.869041Z",
     "shell.execute_reply": "2021-08-29T12:10:56.869610Z"
    },
    "papermill": {
     "duration": 0.050173,
     "end_time": "2021-08-29T12:10:56.869757",
     "exception": false,
     "start_time": "2021-08-29T12:10:56.819584",
     "status": "completed"
    },
    "tags": []
   },
   "outputs": [],
   "source": [
    "# #hide\n",
    "# fig, ax = plt.subplots(figsize=(15, 8))\n",
    "\n",
    "# def draw_barchart(current_day):\n",
    "#     dff = g[g['day'].eq(current_day)].sort_values(by='value', ascending=True).tail(10)\n",
    "#     ax.clear()\n",
    "#     ax.barh(dff['name'], dff['value'], color=[colors[group_lk[x]] for x in dff['name']])\n",
    "#     dx = dff['value'].max() / 200\n",
    "    \n",
    "#     for i, (value, name) in enumerate(zip(dff['value'], dff['name'])):\n",
    "#         ax.text(value-dx, i,     name,           size=14, weight=600, ha='right', va='bottom')\n",
    "#         ax.text(value-dx, i-.25, group_lk[name], size=10, color='#444444', ha='right', va='baseline')\n",
    "#         ax.text(value+dx, i,     f'{value:,.0f}',  size=14, ha='left',  va='center')\n",
    "#     ax.text(1, 0.4, current_day, transform=ax.transAxes, color='#777777', size=46, ha='right', weight=800)\n",
    "#     ax.text(0, 1.06, 'Population (thousands)', transform=ax.transAxes, size=12, color='#777777')\n",
    "#     ax.xaxis.set_major_formatter(ticker.StrMethodFormatter('{x:,.0f}'))\n",
    "#     ax.xaxis.set_ticks_position('top')\n",
    "#     ax.tick_params(axis='x', colors='#777777', labelsize=12)\n",
    "#     ax.set_yticks([])\n",
    "#     ax.margins(0, 0.01)\n",
    "#     ax.grid(which='major', axis='x', linestyle='-')\n",
    "#     ax.set_axisbelow(True)\n",
    "    \n",
    "#     ax.text(0, 1.15, 'Coronavirus',\n",
    "#             transform=ax.transAxes, size=24, weight=600, ha='left', va='top')\n",
    "# #     ax.text(1, 0, 'by @pratapvardhan; credit @jburnmurdoch', transform=ax.transAxes, color='#777777', ha='right',\n",
    "# #             bbox=dict(facecolor='white', alpha=0.8, edgecolor='white'))\n",
    "#     plt.box(False)"
   ]
  },
  {
   "cell_type": "code",
   "execution_count": 42,
   "id": "sexual-wages",
   "metadata": {
    "execution": {
     "iopub.execute_input": "2021-08-29T12:10:56.955191Z",
     "iopub.status.busy": "2021-08-29T12:10:56.954568Z",
     "iopub.status.idle": "2021-08-29T12:10:56.957627Z",
     "shell.execute_reply": "2021-08-29T12:10:56.957054Z"
    },
    "papermill": {
     "duration": 0.046517,
     "end_time": "2021-08-29T12:10:56.957754",
     "exception": false,
     "start_time": "2021-08-29T12:10:56.911237",
     "status": "completed"
    },
    "tags": []
   },
   "outputs": [],
   "source": [
    "# #hide_input\n",
    "# fig, ax = plt.subplots(figsize=(15, 8))\n",
    "# animator = animation.FuncAnimation(fig, draw_barchart, frames=range(g.day.values.min(), g.day.values.max()))\n",
    "# HTML(animator.to_jshtml())\n",
    "# # or use animator.to_html5_video() or animator.save() "
   ]
  },
  {
   "cell_type": "code",
   "execution_count": null,
   "id": "australian-container",
   "metadata": {
    "papermill": {
     "duration": 0.0411,
     "end_time": "2021-08-29T12:10:57.037911",
     "exception": false,
     "start_time": "2021-08-29T12:10:56.996811",
     "status": "completed"
    },
    "tags": []
   },
   "outputs": [],
   "source": []
  },
  {
   "cell_type": "code",
   "execution_count": null,
   "id": "mediterranean-pontiac",
   "metadata": {
    "papermill": {
     "duration": 0.039421,
     "end_time": "2021-08-29T12:10:57.123349",
     "exception": false,
     "start_time": "2021-08-29T12:10:57.083928",
     "status": "completed"
    },
    "tags": []
   },
   "outputs": [],
   "source": []
  },
  {
   "cell_type": "code",
   "execution_count": null,
   "id": "aging-legislature",
   "metadata": {
    "papermill": {
     "duration": 0.038637,
     "end_time": "2021-08-29T12:10:57.203739",
     "exception": false,
     "start_time": "2021-08-29T12:10:57.165102",
     "status": "completed"
    },
    "tags": []
   },
   "outputs": [],
   "source": []
  }
 ],
 "metadata": {
  "kernelspec": {
   "display_name": "Python 3",
   "language": "python",
   "name": "python3"
  },
  "language_info": {
   "codemirror_mode": {
    "name": "ipython",
    "version": 3
   },
   "file_extension": ".py",
   "mimetype": "text/x-python",
   "name": "python",
   "nbconvert_exporter": "python",
   "pygments_lexer": "ipython3",
   "version": "3.6.14"
  },
  "papermill": {
   "duration": 7.379081,
   "end_time": "2021-08-29T12:10:57.552636",
   "environment_variables": {},
   "exception": null,
   "input_path": "2020-03-21-covid19exp.ipynb",
   "output_path": "2020-03-21-covid19exp.ipynb",
   "parameters": {},
   "start_time": "2021-08-29T12:10:50.173555",
   "version": "2.0.0"
  }
 },
 "nbformat": 4,
 "nbformat_minor": 5
}