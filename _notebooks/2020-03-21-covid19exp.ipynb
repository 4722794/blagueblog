{
 "cells": [
  {
   "cell_type": "markdown",
   "id": "muslim-click",
   "metadata": {
    "papermill": {
     "duration": 0.047195,
     "end_time": "2022-10-25T01:03:32.789482",
     "exception": false,
     "start_time": "2022-10-25T01:03:32.742287",
     "status": "completed"
    },
    "tags": []
   },
   "source": [
    "# COVID-19 Case Race\n",
    "> A race chart to see rising cases around the world\n",
    "\n",
    "- author: Hargun Oberoi\n",
    "- image: images/covid-overview.png\n",
    "- hide: false\n",
    "- badges: false"
   ]
  },
  {
   "cell_type": "code",
   "execution_count": 1,
   "id": "proof-material",
   "metadata": {
    "execution": {
     "iopub.execute_input": "2022-10-25T01:03:32.872764Z",
     "iopub.status.busy": "2022-10-25T01:03:32.866579Z",
     "iopub.status.idle": "2022-10-25T01:03:33.271333Z",
     "shell.execute_reply": "2022-10-25T01:03:33.272260Z"
    },
    "papermill": {
     "duration": 0.448522,
     "end_time": "2022-10-25T01:03:33.272563",
     "exception": false,
     "start_time": "2022-10-25T01:03:32.824041",
     "status": "completed"
    },
    "tags": []
   },
   "outputs": [],
   "source": [
    "#hide\n",
    "import numpy as np\n",
    "import pandas as pd\n",
    "from jinja2 import Template\n",
    "from IPython.display import HTML"
   ]
  },
  {
   "cell_type": "code",
   "execution_count": 2,
   "id": "developed-terminology",
   "metadata": {
    "execution": {
     "iopub.execute_input": "2022-10-25T01:03:33.349408Z",
     "iopub.status.busy": "2022-10-25T01:03:33.348627Z",
     "iopub.status.idle": "2022-10-25T01:03:33.351534Z",
     "shell.execute_reply": "2022-10-25T01:03:33.350956Z"
    },
    "papermill": {
     "duration": 0.043979,
     "end_time": "2022-10-25T01:03:33.351671",
     "exception": false,
     "start_time": "2022-10-25T01:03:33.307692",
     "status": "completed"
    },
    "tags": []
   },
   "outputs": [],
   "source": [
    "#hide\n",
    "\n",
    "# FETCH\n",
    "base_url = 'https://raw.githubusercontent.com/pratapvardhan/notebooks/master/covid19/'\n",
    "paths = {\n",
    "    'mapping': base_url + 'mapping_countries.csv',\n",
    "    'overview': base_url + 'overview.tpl'\n",
    "}"
   ]
  },
  {
   "cell_type": "code",
   "execution_count": 3,
   "id": "dynamic-saver",
   "metadata": {
    "execution": {
     "iopub.execute_input": "2022-10-25T01:03:33.433007Z",
     "iopub.status.busy": "2022-10-25T01:03:33.427948Z",
     "iopub.status.idle": "2022-10-25T01:03:33.436272Z",
     "shell.execute_reply": "2022-10-25T01:03:33.436835Z"
    },
    "papermill": {
     "duration": 0.05168,
     "end_time": "2022-10-25T01:03:33.436993",
     "exception": false,
     "start_time": "2022-10-25T01:03:33.385313",
     "status": "completed"
    },
    "tags": []
   },
   "outputs": [
    {
     "data": {
      "text/plain": [
       "'https://raw.githubusercontent.com/pratapvardhan/notebooks/master/covid19/mapping_countries.csv'"
      ]
     },
     "execution_count": 3,
     "metadata": {},
     "output_type": "execute_result"
    }
   ],
   "source": [
    "#hide\n",
    "paths['mapping']"
   ]
  },
  {
   "cell_type": "code",
   "execution_count": 4,
   "id": "urban-software",
   "metadata": {
    "execution": {
     "iopub.execute_input": "2022-10-25T01:03:33.517601Z",
     "iopub.status.busy": "2022-10-25T01:03:33.516354Z",
     "iopub.status.idle": "2022-10-25T01:03:33.518855Z",
     "shell.execute_reply": "2022-10-25T01:03:33.519376Z"
    },
    "papermill": {
     "duration": 0.046275,
     "end_time": "2022-10-25T01:03:33.519531",
     "exception": false,
     "start_time": "2022-10-25T01:03:33.473256",
     "status": "completed"
    },
    "tags": []
   },
   "outputs": [],
   "source": [
    "#hide\n",
    "def get_mappings(url):\n",
    "    df = pd.read_csv(url)\n",
    "    return {\n",
    "        'df': df,\n",
    "        'replace.country': dict(df.dropna(subset=['Name']).set_index('Country')['Name']),\n",
    "        'map.continent': dict(df.set_index('Name')['Continent'])\n",
    "    }"
   ]
  },
  {
   "cell_type": "code",
   "execution_count": 5,
   "id": "intimate-machinery",
   "metadata": {
    "execution": {
     "iopub.execute_input": "2022-10-25T01:03:33.594639Z",
     "iopub.status.busy": "2022-10-25T01:03:33.593935Z",
     "iopub.status.idle": "2022-10-25T01:03:33.642422Z",
     "shell.execute_reply": "2022-10-25T01:03:33.642981Z"
    },
    "papermill": {
     "duration": 0.089839,
     "end_time": "2022-10-25T01:03:33.643156",
     "exception": false,
     "start_time": "2022-10-25T01:03:33.553317",
     "status": "completed"
    },
    "tags": []
   },
   "outputs": [],
   "source": [
    "#hide\n",
    "mapping = get_mappings(paths['mapping'])"
   ]
  },
  {
   "cell_type": "code",
   "execution_count": 6,
   "id": "certified-tactics",
   "metadata": {
    "execution": {
     "iopub.execute_input": "2022-10-25T01:03:33.719314Z",
     "iopub.status.busy": "2022-10-25T01:03:33.718590Z",
     "iopub.status.idle": "2022-10-25T01:03:33.721989Z",
     "shell.execute_reply": "2022-10-25T01:03:33.722661Z"
    },
    "papermill": {
     "duration": 0.045533,
     "end_time": "2022-10-25T01:03:33.722820",
     "exception": false,
     "start_time": "2022-10-25T01:03:33.677287",
     "status": "completed"
    },
    "tags": []
   },
   "outputs": [],
   "source": [
    "#hide\n",
    "def get_template(path):\n",
    "    from urllib.parse import urlparse\n",
    "    if bool(urlparse(path).netloc):\n",
    "        from urllib.request import urlopen\n",
    "        return urlopen(path).read().decode('utf8')\n",
    "    return open(path).read()"
   ]
  },
  {
   "cell_type": "code",
   "execution_count": 7,
   "id": "realistic-blast",
   "metadata": {
    "execution": {
     "iopub.execute_input": "2022-10-25T01:03:33.797374Z",
     "iopub.status.busy": "2022-10-25T01:03:33.796665Z",
     "iopub.status.idle": "2022-10-25T01:03:33.800048Z",
     "shell.execute_reply": "2022-10-25T01:03:33.799486Z"
    },
    "papermill": {
     "duration": 0.04347,
     "end_time": "2022-10-25T01:03:33.800180",
     "exception": false,
     "start_time": "2022-10-25T01:03:33.756710",
     "status": "completed"
    },
    "tags": []
   },
   "outputs": [],
   "source": [
    "#hide\n",
    "def get_frame(name):\n",
    "    url = (\n",
    "        'https://raw.githubusercontent.com/CSSEGISandData/COVID-19/master/csse_covid_19_data/'\n",
    "        f'csse_covid_19_time_series/time_series_covid19_{name}_global.csv')\n",
    "    df = pd.read_csv(url)\n",
    "    # rename countries\n",
    "    df['Country/Region'] = df['Country/Region'].replace(mapping['replace.country'])\n",
    "    return df"
   ]
  },
  {
   "cell_type": "code",
   "execution_count": 8,
   "id": "affiliated-characterization",
   "metadata": {
    "execution": {
     "iopub.execute_input": "2022-10-25T01:03:33.877423Z",
     "iopub.status.busy": "2022-10-25T01:03:33.876656Z",
     "iopub.status.idle": "2022-10-25T01:03:33.879893Z",
     "shell.execute_reply": "2022-10-25T01:03:33.880556Z"
    },
    "papermill": {
     "duration": 0.046367,
     "end_time": "2022-10-25T01:03:33.880711",
     "exception": false,
     "start_time": "2022-10-25T01:03:33.834344",
     "status": "completed"
    },
    "tags": []
   },
   "outputs": [],
   "source": [
    "#hide\n",
    "def get_dates(df):\n",
    "    dt_cols = df.columns[~df.columns.isin(['Province/State', 'Country/Region', 'Lat', 'Long'])]\n",
    "    LAST_DATE_I = -1\n",
    "    # sometimes last column may be empty, then go backwards\n",
    "    for i in range(-1, -len(dt_cols), -1):\n",
    "        if not df[dt_cols[i]].fillna(0).eq(0).all():\n",
    "            LAST_DATE_I = i\n",
    "            break\n",
    "    return LAST_DATE_I, dt_cols"
   ]
  },
  {
   "cell_type": "code",
   "execution_count": 9,
   "id": "recent-optimization",
   "metadata": {
    "execution": {
     "iopub.execute_input": "2022-10-25T01:03:33.958012Z",
     "iopub.status.busy": "2022-10-25T01:03:33.956386Z",
     "iopub.status.idle": "2022-10-25T01:03:34.602268Z",
     "shell.execute_reply": "2022-10-25T01:03:34.601190Z"
    },
    "papermill": {
     "duration": 0.687518,
     "end_time": "2022-10-25T01:03:34.602492",
     "exception": false,
     "start_time": "2022-10-25T01:03:33.914974",
     "status": "completed"
    },
    "tags": []
   },
   "outputs": [],
   "source": [
    "#hide\n",
    "COL_REGION = 'Country/Region'\n",
    "# Confirmed, Recovered, Deaths\n",
    "df = get_frame('confirmed')\n",
    "# dft_: timeseries, dfc_: today country agg\n",
    "dft_cases = df\n",
    "dft_deaths = get_frame('deaths')\n",
    "dft_recovered = get_frame('recovered')\n",
    "LAST_DATE_I, dt_cols = get_dates(df)"
   ]
  },
  {
   "cell_type": "code",
   "execution_count": 10,
   "id": "absolute-copper",
   "metadata": {
    "execution": {
     "iopub.execute_input": "2022-10-25T01:03:34.680787Z",
     "iopub.status.busy": "2022-10-25T01:03:34.680026Z",
     "iopub.status.idle": "2022-10-25T01:03:34.683109Z",
     "shell.execute_reply": "2022-10-25T01:03:34.682539Z"
    },
    "papermill": {
     "duration": 0.045178,
     "end_time": "2022-10-25T01:03:34.683243",
     "exception": false,
     "start_time": "2022-10-25T01:03:34.638065",
     "status": "completed"
    },
    "tags": []
   },
   "outputs": [],
   "source": [
    "#hide\n",
    "LAST_DATE_I, dt_cols = get_dates(df)\n",
    "dt_today =dt_cols[LAST_DATE_I]\n",
    "# dt_5day = dt_cols[LAST_DATE_I - 5]\n",
    "dt_yday = dt_cols[LAST_DATE_I - 1]"
   ]
  },
  {
   "cell_type": "code",
   "execution_count": 11,
   "id": "restricted-sheriff",
   "metadata": {
    "execution": {
     "iopub.execute_input": "2022-10-25T01:03:34.759959Z",
     "iopub.status.busy": "2022-10-25T01:03:34.759250Z",
     "iopub.status.idle": "2022-10-25T01:03:34.767796Z",
     "shell.execute_reply": "2022-10-25T01:03:34.768705Z"
    },
    "papermill": {
     "duration": 0.051879,
     "end_time": "2022-10-25T01:03:34.768865",
     "exception": false,
     "start_time": "2022-10-25T01:03:34.716986",
     "status": "completed"
    },
    "tags": []
   },
   "outputs": [],
   "source": [
    "#hide\n",
    "dfc_cases = dft_cases.groupby(COL_REGION)[dt_today].sum()\n",
    "dfc_deaths = dft_deaths.groupby(COL_REGION)[dt_today].sum()\n",
    "# dfp_cases = dft_cases.groupby(COL_REGION)[dt_5day].sum()\n",
    "# dfp_deaths = dft_deaths.groupby(COL_REGION)[dt_5day].sum()\n",
    "dfp_cases = dft_cases.groupby(COL_REGION)[dt_yday].sum()\n",
    "dfp_deaths = dft_deaths.groupby(COL_REGION)[dt_yday].sum()"
   ]
  },
  {
   "cell_type": "code",
   "execution_count": 12,
   "id": "deluxe-hepatitis",
   "metadata": {
    "execution": {
     "iopub.execute_input": "2022-10-25T01:03:34.848108Z",
     "iopub.status.busy": "2022-10-25T01:03:34.847398Z",
     "iopub.status.idle": "2022-10-25T01:03:34.854251Z",
     "shell.execute_reply": "2022-10-25T01:03:34.853654Z"
    },
    "papermill": {
     "duration": 0.050762,
     "end_time": "2022-10-25T01:03:34.854393",
     "exception": false,
     "start_time": "2022-10-25T01:03:34.803631",
     "status": "completed"
    },
    "tags": []
   },
   "outputs": [],
   "source": [
    "#hide\n",
    "df_table = (pd.DataFrame(dict(Cases = dfc_cases, Deaths = dfc_deaths, PCases = dfp_cases, PDeaths = dfp_deaths))\n",
    "            .sort_values(by = ['Cases','Deaths'], ascending = [False, False])\n",
    "            .reset_index())"
   ]
  },
  {
   "cell_type": "code",
   "execution_count": 13,
   "id": "educational-chancellor",
   "metadata": {
    "execution": {
     "iopub.execute_input": "2022-10-25T01:03:34.945341Z",
     "iopub.status.busy": "2022-10-25T01:03:34.931202Z",
     "iopub.status.idle": "2022-10-25T01:03:34.954751Z",
     "shell.execute_reply": "2022-10-25T01:03:34.954165Z"
    },
    "papermill": {
     "duration": 0.066687,
     "end_time": "2022-10-25T01:03:34.954886",
     "exception": false,
     "start_time": "2022-10-25T01:03:34.888199",
     "status": "completed"
    },
    "tags": []
   },
   "outputs": [
    {
     "data": {
      "text/html": [
       "<div>\n",
       "<style scoped>\n",
       "    .dataframe tbody tr th:only-of-type {\n",
       "        vertical-align: middle;\n",
       "    }\n",
       "\n",
       "    .dataframe tbody tr th {\n",
       "        vertical-align: top;\n",
       "    }\n",
       "\n",
       "    .dataframe thead th {\n",
       "        text-align: right;\n",
       "    }\n",
       "</style>\n",
       "<table border=\"1\" class=\"dataframe\">\n",
       "  <thead>\n",
       "    <tr style=\"text-align: right;\">\n",
       "      <th></th>\n",
       "      <th>Country/Region</th>\n",
       "      <th>Cases</th>\n",
       "      <th>Deaths</th>\n",
       "      <th>PCases</th>\n",
       "      <th>PDeaths</th>\n",
       "      <th>Cases (+)</th>\n",
       "      <th>Deaths (+)</th>\n",
       "      <th>Fatality Rate</th>\n",
       "      <th>Continent</th>\n",
       "    </tr>\n",
       "  </thead>\n",
       "  <tbody>\n",
       "    <tr>\n",
       "      <th>0</th>\n",
       "      <td>US</td>\n",
       "      <td>97198630</td>\n",
       "      <td>1067686</td>\n",
       "      <td>97190530</td>\n",
       "      <td>1067685</td>\n",
       "      <td>8100</td>\n",
       "      <td>1</td>\n",
       "      <td>1.10</td>\n",
       "      <td>North America</td>\n",
       "    </tr>\n",
       "    <tr>\n",
       "      <th>1</th>\n",
       "      <td>India</td>\n",
       "      <td>44644076</td>\n",
       "      <td>528977</td>\n",
       "      <td>44642742</td>\n",
       "      <td>528961</td>\n",
       "      <td>1334</td>\n",
       "      <td>16</td>\n",
       "      <td>1.18</td>\n",
       "      <td>Asia</td>\n",
       "    </tr>\n",
       "    <tr>\n",
       "      <th>2</th>\n",
       "      <td>France</td>\n",
       "      <td>36741974</td>\n",
       "      <td>157377</td>\n",
       "      <td>36741974</td>\n",
       "      <td>157377</td>\n",
       "      <td>0</td>\n",
       "      <td>0</td>\n",
       "      <td>0.43</td>\n",
       "      <td>Europe</td>\n",
       "    </tr>\n",
       "    <tr>\n",
       "      <th>3</th>\n",
       "      <td>Germany</td>\n",
       "      <td>35172694</td>\n",
       "      <td>152482</td>\n",
       "      <td>35172694</td>\n",
       "      <td>152482</td>\n",
       "      <td>0</td>\n",
       "      <td>0</td>\n",
       "      <td>0.43</td>\n",
       "      <td>Europe</td>\n",
       "    </tr>\n",
       "    <tr>\n",
       "      <th>4</th>\n",
       "      <td>Brazil</td>\n",
       "      <td>34780462</td>\n",
       "      <td>687527</td>\n",
       "      <td>34780462</td>\n",
       "      <td>687527</td>\n",
       "      <td>0</td>\n",
       "      <td>0</td>\n",
       "      <td>1.98</td>\n",
       "      <td>South America</td>\n",
       "    </tr>\n",
       "  </tbody>\n",
       "</table>\n",
       "</div>"
      ],
      "text/plain": [
       "  Country/Region     Cases   Deaths    PCases  PDeaths  Cases (+)  Deaths (+)  \\\n",
       "0             US  97198630  1067686  97190530  1067685       8100           1   \n",
       "1          India  44644076   528977  44642742   528961       1334          16   \n",
       "2         France  36741974   157377  36741974   157377          0           0   \n",
       "3        Germany  35172694   152482  35172694   152482          0           0   \n",
       "4         Brazil  34780462   687527  34780462   687527          0           0   \n",
       "\n",
       "   Fatality Rate      Continent  \n",
       "0           1.10  North America  \n",
       "1           1.18           Asia  \n",
       "2           0.43         Europe  \n",
       "3           0.43         Europe  \n",
       "4           1.98  South America  "
      ]
     },
     "execution_count": 13,
     "metadata": {},
     "output_type": "execute_result"
    }
   ],
   "source": [
    "#hide\n",
    "for c in 'Cases, Deaths'.split(', '):\n",
    "    df_table[f'{c} (+)'] = (df_table[c] - df_table[f'P{c}']).clip(0)\n",
    "    #Clip ça veut dire, les chiffres negatif sont interdit\n",
    "df_table['Fatality Rate'] = (100* df_table['Deaths']/ df_table['Cases']).round(2)\n",
    "df_table['Continent'] = df_table['Country/Region'].map(mapping['map.continent'])\n",
    "df_table.head(5)"
   ]
  },
  {
   "cell_type": "code",
   "execution_count": 14,
   "id": "aboriginal-bulgaria",
   "metadata": {
    "execution": {
     "iopub.execute_input": "2022-10-25T01:03:35.033070Z",
     "iopub.status.busy": "2022-10-25T01:03:35.032361Z",
     "iopub.status.idle": "2022-10-25T01:03:35.035040Z",
     "shell.execute_reply": "2022-10-25T01:03:35.035680Z"
    },
    "papermill": {
     "duration": 0.046448,
     "end_time": "2022-10-25T01:03:35.035839",
     "exception": false,
     "start_time": "2022-10-25T01:03:34.989391",
     "status": "completed"
    },
    "tags": []
   },
   "outputs": [],
   "source": [
    "#hide\n",
    "#delete problematic countries from table\n",
    "df_table = df_table[~df_table['Country/Region'].isin(['Cape Verde', 'Cruise Ship', 'Kosovo'])]"
   ]
  },
  {
   "cell_type": "code",
   "execution_count": 15,
   "id": "fantastic-effect",
   "metadata": {
    "execution": {
     "iopub.execute_input": "2022-10-25T01:03:35.115895Z",
     "iopub.status.busy": "2022-10-25T01:03:35.114828Z",
     "iopub.status.idle": "2022-10-25T01:03:35.137338Z",
     "shell.execute_reply": "2022-10-25T01:03:35.138151Z"
    },
    "papermill": {
     "duration": 0.068219,
     "end_time": "2022-10-25T01:03:35.138357",
     "exception": false,
     "start_time": "2022-10-25T01:03:35.070138",
     "status": "completed"
    },
    "tags": []
   },
   "outputs": [
    {
     "data": {
      "text/html": [
       "<div>\n",
       "<style scoped>\n",
       "    .dataframe tbody tr th:only-of-type {\n",
       "        vertical-align: middle;\n",
       "    }\n",
       "\n",
       "    .dataframe tbody tr th {\n",
       "        vertical-align: top;\n",
       "    }\n",
       "\n",
       "    .dataframe thead th {\n",
       "        text-align: right;\n",
       "    }\n",
       "</style>\n",
       "<table border=\"1\" class=\"dataframe\">\n",
       "  <thead>\n",
       "    <tr style=\"text-align: right;\">\n",
       "      <th></th>\n",
       "      <th>Country/Region</th>\n",
       "      <th>Cases</th>\n",
       "      <th>Deaths</th>\n",
       "      <th>PCases</th>\n",
       "      <th>PDeaths</th>\n",
       "      <th>Cases (+)</th>\n",
       "      <th>Deaths (+)</th>\n",
       "      <th>Fatality Rate</th>\n",
       "      <th>Continent</th>\n",
       "    </tr>\n",
       "  </thead>\n",
       "  <tbody>\n",
       "    <tr>\n",
       "      <th>0</th>\n",
       "      <td>US</td>\n",
       "      <td>97198630</td>\n",
       "      <td>1067686</td>\n",
       "      <td>97190530</td>\n",
       "      <td>1067685</td>\n",
       "      <td>8100</td>\n",
       "      <td>1</td>\n",
       "      <td>1.1</td>\n",
       "      <td>North America</td>\n",
       "    </tr>\n",
       "    <tr>\n",
       "      <th>1</th>\n",
       "      <td>India</td>\n",
       "      <td>44644076</td>\n",
       "      <td>528977</td>\n",
       "      <td>44642742</td>\n",
       "      <td>528961</td>\n",
       "      <td>1334</td>\n",
       "      <td>16</td>\n",
       "      <td>1.2</td>\n",
       "      <td>Asia</td>\n",
       "    </tr>\n",
       "    <tr>\n",
       "      <th>2</th>\n",
       "      <td>France</td>\n",
       "      <td>36741974</td>\n",
       "      <td>157377</td>\n",
       "      <td>36741974</td>\n",
       "      <td>157377</td>\n",
       "      <td>0</td>\n",
       "      <td>0</td>\n",
       "      <td>0.4</td>\n",
       "      <td>Europe</td>\n",
       "    </tr>\n",
       "    <tr>\n",
       "      <th>3</th>\n",
       "      <td>Germany</td>\n",
       "      <td>35172694</td>\n",
       "      <td>152482</td>\n",
       "      <td>35172694</td>\n",
       "      <td>152482</td>\n",
       "      <td>0</td>\n",
       "      <td>0</td>\n",
       "      <td>0.4</td>\n",
       "      <td>Europe</td>\n",
       "    </tr>\n",
       "    <tr>\n",
       "      <th>4</th>\n",
       "      <td>Brazil</td>\n",
       "      <td>34780462</td>\n",
       "      <td>687527</td>\n",
       "      <td>34780462</td>\n",
       "      <td>687527</td>\n",
       "      <td>0</td>\n",
       "      <td>0</td>\n",
       "      <td>2.0</td>\n",
       "      <td>South America</td>\n",
       "    </tr>\n",
       "  </tbody>\n",
       "</table>\n",
       "</div>"
      ],
      "text/plain": [
       "  Country/Region     Cases   Deaths    PCases  PDeaths  Cases (+)  Deaths (+)  \\\n",
       "0             US  97198630  1067686  97190530  1067685       8100           1   \n",
       "1          India  44644076   528977  44642742   528961       1334          16   \n",
       "2         France  36741974   157377  36741974   157377          0           0   \n",
       "3        Germany  35172694   152482  35172694   152482          0           0   \n",
       "4         Brazil  34780462   687527  34780462   687527          0           0   \n",
       "\n",
       "   Fatality Rate      Continent  \n",
       "0            1.1  North America  \n",
       "1            1.2           Asia  \n",
       "2            0.4         Europe  \n",
       "3            0.4         Europe  \n",
       "4            2.0  South America  "
      ]
     },
     "execution_count": 15,
     "metadata": {},
     "output_type": "execute_result"
    }
   ],
   "source": [
    "#hide\n",
    "df_table = (pd.DataFrame(dict(Cases=dfc_cases, Deaths=dfc_deaths, PCases=dfp_cases, PDeaths=dfp_deaths))\n",
    "             .sort_values(by=['Cases', 'Deaths'], ascending=[False, False])\n",
    "             .reset_index())\n",
    "df_table.rename(columns={'index': 'Country/Region'}, inplace=True)\n",
    "for c in 'Cases, Deaths'.split(', '):\n",
    "    df_table[f'{c} (+)'] = (df_table[c] - df_table[f'P{c}']).clip(0)  # DATA BUG\n",
    "df_table['Fatality Rate'] = (100 * df_table['Deaths'] / df_table['Cases']).round(1)\n",
    "df_table['Continent'] = df_table['Country/Region'].map(mapping['map.continent'])\n",
    "df_table.head(5)"
   ]
  },
  {
   "cell_type": "code",
   "execution_count": 16,
   "id": "fewer-occasion",
   "metadata": {
    "execution": {
     "iopub.execute_input": "2022-10-25T01:03:35.218270Z",
     "iopub.status.busy": "2022-10-25T01:03:35.217453Z",
     "iopub.status.idle": "2022-10-25T01:03:35.220257Z",
     "shell.execute_reply": "2022-10-25T01:03:35.219568Z"
    },
    "papermill": {
     "duration": 0.045493,
     "end_time": "2022-10-25T01:03:35.220398",
     "exception": false,
     "start_time": "2022-10-25T01:03:35.174905",
     "status": "completed"
    },
    "tags": []
   },
   "outputs": [],
   "source": [
    "#hide\n",
    "#delete problematic countries from table\n",
    "df_table = df_table[~df_table['Country/Region'].isin(['Cape Verde', 'Cruise Ship', 'Kosovo'])]"
   ]
  },
  {
   "cell_type": "code",
   "execution_count": 17,
   "id": "related-center",
   "metadata": {
    "execution": {
     "iopub.execute_input": "2022-10-25T01:03:35.313384Z",
     "iopub.status.busy": "2022-10-25T01:03:35.312597Z",
     "iopub.status.idle": "2022-10-25T01:03:35.315546Z",
     "shell.execute_reply": "2022-10-25T01:03:35.314995Z"
    },
    "papermill": {
     "duration": 0.060169,
     "end_time": "2022-10-25T01:03:35.315683",
     "exception": false,
     "start_time": "2022-10-25T01:03:35.255514",
     "status": "completed"
    },
    "tags": []
   },
   "outputs": [],
   "source": [
    "#hide\n",
    "metrics = [df_table.columns[index] for index in [1,2,5,6]]\n",
    "# s_china = df_table[df_table['Country/Region'].eq('China')][metrics].sum().add_prefix('China ')\n",
    "s_us = df_table[df_table['Country/Region'].eq('US')][metrics].sum().add_prefix('US ')\n",
    "s_eu = df_table[df_table['Continent'].eq('Europe')][metrics].sum().add_prefix('EU ')\n",
    "s_ind = df_table[df_table['Country/Region'].eq('India')][metrics].sum().add_prefix('India ')\n",
    "summary = {'updated': pd.to_datetime(dt_today), 'since': pd.to_datetime(dt_yday)}\n",
    "summary = {'updated': pd.to_datetime(dt_today), 'since': pd.to_datetime(dt_yday)}\n",
    "summary = {**summary, **df_table[metrics].sum(), **s_ind, **s_us, **s_eu}"
   ]
  },
  {
   "cell_type": "code",
   "execution_count": 18,
   "id": "engaging-syndrome",
   "metadata": {
    "execution": {
     "iopub.execute_input": "2022-10-25T01:03:35.394578Z",
     "iopub.status.busy": "2022-10-25T01:03:35.393813Z",
     "iopub.status.idle": "2022-10-25T01:03:35.422265Z",
     "shell.execute_reply": "2022-10-25T01:03:35.421190Z"
    },
    "papermill": {
     "duration": 0.07134,
     "end_time": "2022-10-25T01:03:35.422492",
     "exception": false,
     "start_time": "2022-10-25T01:03:35.351152",
     "status": "completed"
    },
    "tags": []
   },
   "outputs": [],
   "source": [
    "#hide\n",
    "dft_ct_new_cases = dft_cases.groupby(COL_REGION)[dt_cols].sum().diff(axis=1).fillna(0).astype(int)"
   ]
  },
  {
   "cell_type": "code",
   "execution_count": 19,
   "id": "neutral-assignment",
   "metadata": {
    "execution": {
     "iopub.execute_input": "2022-10-25T01:03:35.503911Z",
     "iopub.status.busy": "2022-10-25T01:03:35.503161Z",
     "iopub.status.idle": "2022-10-25T01:03:35.505992Z",
     "shell.execute_reply": "2022-10-25T01:03:35.505401Z"
    },
    "papermill": {
     "duration": 0.04685,
     "end_time": "2022-10-25T01:03:35.506127",
     "exception": false,
     "start_time": "2022-10-25T01:03:35.459277",
     "status": "completed"
    },
    "tags": []
   },
   "outputs": [],
   "source": [
    "#hide\n",
    "everydaycases = dft_ct_new_cases.cumsum(axis=1)"
   ]
  },
  {
   "cell_type": "code",
   "execution_count": 20,
   "id": "parliamentary-calgary",
   "metadata": {
    "execution": {
     "iopub.execute_input": "2022-10-25T01:03:35.582890Z",
     "iopub.status.busy": "2022-10-25T01:03:35.582135Z",
     "iopub.status.idle": "2022-10-25T01:03:36.240255Z",
     "shell.execute_reply": "2022-10-25T01:03:36.239624Z"
    },
    "papermill": {
     "duration": 0.699138,
     "end_time": "2022-10-25T01:03:36.240397",
     "exception": false,
     "start_time": "2022-10-25T01:03:35.541259",
     "status": "completed"
    },
    "tags": []
   },
   "outputs": [],
   "source": [
    "#hide\n",
    "import pandas as pd\n",
    "import matplotlib.pyplot as plt\n",
    "import matplotlib.ticker as ticker\n",
    "import matplotlib.animation as animation\n",
    "from IPython.display import HTML"
   ]
  },
  {
   "cell_type": "code",
   "execution_count": 21,
   "id": "lasting-extraction",
   "metadata": {
    "execution": {
     "iopub.execute_input": "2022-10-25T01:03:36.321458Z",
     "iopub.status.busy": "2022-10-25T01:03:36.320725Z",
     "iopub.status.idle": "2022-10-25T01:03:36.329674Z",
     "shell.execute_reply": "2022-10-25T01:03:36.329075Z"
    },
    "papermill": {
     "duration": 0.054469,
     "end_time": "2022-10-25T01:03:36.329817",
     "exception": false,
     "start_time": "2022-10-25T01:03:36.275348",
     "status": "completed"
    },
    "tags": []
   },
   "outputs": [],
   "source": [
    "#hide\n",
    "t = everydaycases.stack()"
   ]
  },
  {
   "cell_type": "code",
   "execution_count": 22,
   "id": "premier-sleeve",
   "metadata": {
    "execution": {
     "iopub.execute_input": "2022-10-25T01:03:36.407166Z",
     "iopub.status.busy": "2022-10-25T01:03:36.406435Z",
     "iopub.status.idle": "2022-10-25T01:03:36.422917Z",
     "shell.execute_reply": "2022-10-25T01:03:36.422306Z"
    },
    "papermill": {
     "duration": 0.058035,
     "end_time": "2022-10-25T01:03:36.423058",
     "exception": false,
     "start_time": "2022-10-25T01:03:36.365023",
     "status": "completed"
    },
    "tags": []
   },
   "outputs": [],
   "source": [
    "#hide\n",
    "g = t.reset_index(['Country/Region'])"
   ]
  },
  {
   "cell_type": "code",
   "execution_count": 23,
   "id": "distributed-pittsburgh",
   "metadata": {
    "execution": {
     "iopub.execute_input": "2022-10-25T01:03:36.499460Z",
     "iopub.status.busy": "2022-10-25T01:03:36.498733Z",
     "iopub.status.idle": "2022-10-25T01:03:36.502428Z",
     "shell.execute_reply": "2022-10-25T01:03:36.503106Z"
    },
    "papermill": {
     "duration": 0.045289,
     "end_time": "2022-10-25T01:03:36.503268",
     "exception": false,
     "start_time": "2022-10-25T01:03:36.457979",
     "status": "completed"
    },
    "tags": []
   },
   "outputs": [],
   "source": [
    "#hide\n",
    "g.index.name = 'date'"
   ]
  },
  {
   "cell_type": "code",
   "execution_count": 24,
   "id": "naked-donor",
   "metadata": {
    "execution": {
     "iopub.execute_input": "2022-10-25T01:03:36.579159Z",
     "iopub.status.busy": "2022-10-25T01:03:36.578434Z",
     "iopub.status.idle": "2022-10-25T01:03:36.582127Z",
     "shell.execute_reply": "2022-10-25T01:03:36.582799Z"
    },
    "papermill": {
     "duration": 0.044567,
     "end_time": "2022-10-25T01:03:36.582962",
     "exception": false,
     "start_time": "2022-10-25T01:03:36.538395",
     "status": "completed"
    },
    "tags": []
   },
   "outputs": [],
   "source": [
    "# #hide\n",
    "# g = g.reset_index(['date'])"
   ]
  },
  {
   "cell_type": "code",
   "execution_count": 25,
   "id": "incomplete-mustang",
   "metadata": {
    "execution": {
     "iopub.execute_input": "2022-10-25T01:03:36.657712Z",
     "iopub.status.busy": "2022-10-25T01:03:36.656944Z",
     "iopub.status.idle": "2022-10-25T01:03:36.661372Z",
     "shell.execute_reply": "2022-10-25T01:03:36.660767Z"
    },
    "papermill": {
     "duration": 0.043609,
     "end_time": "2022-10-25T01:03:36.661512",
     "exception": false,
     "start_time": "2022-10-25T01:03:36.617903",
     "status": "completed"
    },
    "tags": []
   },
   "outputs": [],
   "source": [
    "#hide\n",
    "# g.head()"
   ]
  },
  {
   "cell_type": "code",
   "execution_count": 26,
   "id": "specific-kruger",
   "metadata": {
    "execution": {
     "iopub.execute_input": "2022-10-25T01:03:36.737427Z",
     "iopub.status.busy": "2022-10-25T01:03:36.736686Z",
     "iopub.status.idle": "2022-10-25T01:03:36.740995Z",
     "shell.execute_reply": "2022-10-25T01:03:36.741502Z"
    },
    "papermill": {
     "duration": 0.044675,
     "end_time": "2022-10-25T01:03:36.741690",
     "exception": false,
     "start_time": "2022-10-25T01:03:36.697015",
     "status": "completed"
    },
    "tags": []
   },
   "outputs": [],
   "source": [
    "#hide\n",
    "# g.columns = ['date','country','cases']"
   ]
  },
  {
   "cell_type": "code",
   "execution_count": 27,
   "id": "tender-conversion",
   "metadata": {
    "execution": {
     "iopub.execute_input": "2022-10-25T01:03:36.818168Z",
     "iopub.status.busy": "2022-10-25T01:03:36.817405Z",
     "iopub.status.idle": "2022-10-25T01:03:36.820117Z",
     "shell.execute_reply": "2022-10-25T01:03:36.819567Z"
    },
    "papermill": {
     "duration": 0.04337,
     "end_time": "2022-10-25T01:03:36.820246",
     "exception": false,
     "start_time": "2022-10-25T01:03:36.776876",
     "status": "completed"
    },
    "tags": []
   },
   "outputs": [],
   "source": [
    "#hide\n",
    "# g['continent'] = g.country"
   ]
  },
  {
   "cell_type": "code",
   "execution_count": 28,
   "id": "substantial-wilderness",
   "metadata": {
    "execution": {
     "iopub.execute_input": "2022-10-25T01:03:36.896340Z",
     "iopub.status.busy": "2022-10-25T01:03:36.895644Z",
     "iopub.status.idle": "2022-10-25T01:03:36.898837Z",
     "shell.execute_reply": "2022-10-25T01:03:36.899471Z"
    },
    "papermill": {
     "duration": 0.044201,
     "end_time": "2022-10-25T01:03:36.899626",
     "exception": false,
     "start_time": "2022-10-25T01:03:36.855425",
     "status": "completed"
    },
    "tags": []
   },
   "outputs": [],
   "source": [
    "#hide\n",
    "# cols = list(g.columns.values)"
   ]
  },
  {
   "cell_type": "code",
   "execution_count": 29,
   "id": "solved-farming",
   "metadata": {
    "execution": {
     "iopub.execute_input": "2022-10-25T01:03:36.975123Z",
     "iopub.status.busy": "2022-10-25T01:03:36.973461Z",
     "iopub.status.idle": "2022-10-25T01:03:36.975904Z",
     "shell.execute_reply": "2022-10-25T01:03:36.976415Z"
    },
    "papermill": {
     "duration": 0.042087,
     "end_time": "2022-10-25T01:03:36.976568",
     "exception": false,
     "start_time": "2022-10-25T01:03:36.934481",
     "status": "completed"
    },
    "tags": []
   },
   "outputs": [],
   "source": [
    "#hide\n",
    "# cols.insert(0, cols.pop())"
   ]
  },
  {
   "cell_type": "code",
   "execution_count": 30,
   "id": "executed-adoption",
   "metadata": {
    "execution": {
     "iopub.execute_input": "2022-10-25T01:03:37.051421Z",
     "iopub.status.busy": "2022-10-25T01:03:37.050689Z",
     "iopub.status.idle": "2022-10-25T01:03:37.054022Z",
     "shell.execute_reply": "2022-10-25T01:03:37.054689Z"
    },
    "papermill": {
     "duration": 0.043235,
     "end_time": "2022-10-25T01:03:37.054848",
     "exception": false,
     "start_time": "2022-10-25T01:03:37.011613",
     "status": "completed"
    },
    "tags": []
   },
   "outputs": [],
   "source": [
    "#hide\n",
    "# g = g[cols]"
   ]
  },
  {
   "cell_type": "code",
   "execution_count": 31,
   "id": "subject-dublin",
   "metadata": {
    "execution": {
     "iopub.execute_input": "2022-10-25T01:03:37.131302Z",
     "iopub.status.busy": "2022-10-25T01:03:37.130524Z",
     "iopub.status.idle": "2022-10-25T01:03:37.133282Z",
     "shell.execute_reply": "2022-10-25T01:03:37.132603Z"
    },
    "papermill": {
     "duration": 0.043523,
     "end_time": "2022-10-25T01:03:37.133420",
     "exception": false,
     "start_time": "2022-10-25T01:03:37.089897",
     "status": "completed"
    },
    "tags": []
   },
   "outputs": [],
   "source": [
    "#hide\n",
    "# g['continent'] = g['continent'].map(mapping['map.continent'])"
   ]
  },
  {
   "cell_type": "code",
   "execution_count": 32,
   "id": "freelance-scout",
   "metadata": {
    "execution": {
     "iopub.execute_input": "2022-10-25T01:03:37.211754Z",
     "iopub.status.busy": "2022-10-25T01:03:37.210465Z",
     "iopub.status.idle": "2022-10-25T01:03:37.212648Z",
     "shell.execute_reply": "2022-10-25T01:03:37.213162Z"
    },
    "papermill": {
     "duration": 0.043974,
     "end_time": "2022-10-25T01:03:37.213317",
     "exception": false,
     "start_time": "2022-10-25T01:03:37.169343",
     "status": "completed"
    },
    "tags": []
   },
   "outputs": [],
   "source": [
    "#hide\n",
    "# g.head()"
   ]
  },
  {
   "cell_type": "code",
   "execution_count": 33,
   "id": "limited-engine",
   "metadata": {
    "execution": {
     "iopub.execute_input": "2022-10-25T01:03:37.290742Z",
     "iopub.status.busy": "2022-10-25T01:03:37.289437Z",
     "iopub.status.idle": "2022-10-25T01:03:37.293771Z",
     "shell.execute_reply": "2022-10-25T01:03:37.293208Z"
    },
    "papermill": {
     "duration": 0.045446,
     "end_time": "2022-10-25T01:03:37.293911",
     "exception": false,
     "start_time": "2022-10-25T01:03:37.248465",
     "status": "completed"
    },
    "tags": []
   },
   "outputs": [],
   "source": [
    "# hide\n",
    "# g['date'] = g['date'].astype('datetime64[ns]')"
   ]
  },
  {
   "cell_type": "code",
   "execution_count": 34,
   "id": "sophisticated-supervisor",
   "metadata": {
    "execution": {
     "iopub.execute_input": "2022-10-25T01:03:37.371177Z",
     "iopub.status.busy": "2022-10-25T01:03:37.370099Z",
     "iopub.status.idle": "2022-10-25T01:03:37.372330Z",
     "shell.execute_reply": "2022-10-25T01:03:37.373119Z"
    },
    "papermill": {
     "duration": 0.044176,
     "end_time": "2022-10-25T01:03:37.373333",
     "exception": false,
     "start_time": "2022-10-25T01:03:37.329157",
     "status": "completed"
    },
    "tags": []
   },
   "outputs": [],
   "source": [
    "#hide\n",
    "# g['date'] = g.date.dt.dayofyear"
   ]
  },
  {
   "cell_type": "code",
   "execution_count": 35,
   "id": "inside-dubai",
   "metadata": {
    "execution": {
     "iopub.execute_input": "2022-10-25T01:03:37.450102Z",
     "iopub.status.busy": "2022-10-25T01:03:37.448896Z",
     "iopub.status.idle": "2022-10-25T01:03:37.451347Z",
     "shell.execute_reply": "2022-10-25T01:03:37.452188Z"
    },
    "papermill": {
     "duration": 0.043862,
     "end_time": "2022-10-25T01:03:37.452416",
     "exception": false,
     "start_time": "2022-10-25T01:03:37.408554",
     "status": "completed"
    },
    "tags": []
   },
   "outputs": [],
   "source": [
    "#hide\n",
    "# g = g.rename(columns= {'continent':'group','country':'name','cases':'value'})"
   ]
  },
  {
   "cell_type": "code",
   "execution_count": 36,
   "id": "fleet-motorcycle",
   "metadata": {
    "execution": {
     "iopub.execute_input": "2022-10-25T01:03:37.529805Z",
     "iopub.status.busy": "2022-10-25T01:03:37.529050Z",
     "iopub.status.idle": "2022-10-25T01:03:37.531911Z",
     "shell.execute_reply": "2022-10-25T01:03:37.531351Z"
    },
    "papermill": {
     "duration": 0.043356,
     "end_time": "2022-10-25T01:03:37.532044",
     "exception": false,
     "start_time": "2022-10-25T01:03:37.488688",
     "status": "completed"
    },
    "tags": []
   },
   "outputs": [],
   "source": [
    "#hide\n",
    "# cols = ['name','group','day','value']"
   ]
  },
  {
   "cell_type": "code",
   "execution_count": 37,
   "id": "continued-sleeping",
   "metadata": {
    "execution": {
     "iopub.execute_input": "2022-10-25T01:03:37.608961Z",
     "iopub.status.busy": "2022-10-25T01:03:37.608221Z",
     "iopub.status.idle": "2022-10-25T01:03:37.609727Z",
     "shell.execute_reply": "2022-10-25T01:03:37.610283Z"
    },
    "papermill": {
     "duration": 0.043297,
     "end_time": "2022-10-25T01:03:37.610440",
     "exception": false,
     "start_time": "2022-10-25T01:03:37.567143",
     "status": "completed"
    },
    "tags": []
   },
   "outputs": [],
   "source": [
    "#hide\n",
    "# g.rename(columns= {'date':'day'},inplace = True)"
   ]
  },
  {
   "cell_type": "code",
   "execution_count": 38,
   "id": "major-fight",
   "metadata": {
    "execution": {
     "iopub.execute_input": "2022-10-25T01:03:37.687321Z",
     "iopub.status.busy": "2022-10-25T01:03:37.686595Z",
     "iopub.status.idle": "2022-10-25T01:03:37.690218Z",
     "shell.execute_reply": "2022-10-25T01:03:37.690751Z"
    },
    "papermill": {
     "duration": 0.045402,
     "end_time": "2022-10-25T01:03:37.690909",
     "exception": false,
     "start_time": "2022-10-25T01:03:37.645507",
     "status": "completed"
    },
    "tags": []
   },
   "outputs": [],
   "source": [
    "#hide\n",
    "# g = g[cols]"
   ]
  },
  {
   "cell_type": "code",
   "execution_count": 39,
   "id": "structured-mobile",
   "metadata": {
    "execution": {
     "iopub.execute_input": "2022-10-25T01:03:37.768432Z",
     "iopub.status.busy": "2022-10-25T01:03:37.767165Z",
     "iopub.status.idle": "2022-10-25T01:03:37.769783Z",
     "shell.execute_reply": "2022-10-25T01:03:37.770644Z"
    },
    "papermill": {
     "duration": 0.045017,
     "end_time": "2022-10-25T01:03:37.770797",
     "exception": false,
     "start_time": "2022-10-25T01:03:37.725780",
     "status": "completed"
    },
    "tags": []
   },
   "outputs": [],
   "source": [
    "# #hide\n",
    "# g = g[g.group.notna()]"
   ]
  },
  {
   "cell_type": "code",
   "execution_count": 40,
   "id": "determined-closing",
   "metadata": {
    "execution": {
     "iopub.execute_input": "2022-10-25T01:03:37.848978Z",
     "iopub.status.busy": "2022-10-25T01:03:37.847822Z",
     "iopub.status.idle": "2022-10-25T01:03:37.850242Z",
     "shell.execute_reply": "2022-10-25T01:03:37.851079Z"
    },
    "papermill": {
     "duration": 0.045424,
     "end_time": "2022-10-25T01:03:37.851311",
     "exception": false,
     "start_time": "2022-10-25T01:03:37.805887",
     "status": "completed"
    },
    "tags": []
   },
   "outputs": [],
   "source": [
    "# #hide\n",
    "# colors = dict(zip(\n",
    "#     [\"Oceania\", \"Europe\", \"Asia\", \"South America\", \"Middle East\", \"North America\", \"Africa\"],\n",
    "#     [\"#adb0ff\", \"#ffb3ff\", \"#90d595\", \"#e48381\", \"#aafbff\", \"#f7bb5f\", \"#eafb50\"]\n",
    "# ))\n",
    "# group_lk = g.set_index('name')['group'].to_dict()"
   ]
  },
  {
   "cell_type": "code",
   "execution_count": null,
   "id": "gross-drinking",
   "metadata": {
    "papermill": {
     "duration": 0.034756,
     "end_time": "2022-10-25T01:03:37.921065",
     "exception": false,
     "start_time": "2022-10-25T01:03:37.886309",
     "status": "completed"
    },
    "tags": []
   },
   "outputs": [],
   "source": []
  },
  {
   "cell_type": "code",
   "execution_count": 41,
   "id": "subject-macintosh",
   "metadata": {
    "execution": {
     "iopub.execute_input": "2022-10-25T01:03:37.997101Z",
     "iopub.status.busy": "2022-10-25T01:03:37.996374Z",
     "iopub.status.idle": "2022-10-25T01:03:37.999191Z",
     "shell.execute_reply": "2022-10-25T01:03:37.999687Z"
    },
    "papermill": {
     "duration": 0.043877,
     "end_time": "2022-10-25T01:03:37.999853",
     "exception": false,
     "start_time": "2022-10-25T01:03:37.955976",
     "status": "completed"
    },
    "tags": []
   },
   "outputs": [],
   "source": [
    "# #hide\n",
    "# fig, ax = plt.subplots(figsize=(15, 8))\n",
    "\n",
    "# def draw_barchart(current_day):\n",
    "#     dff = g[g['day'].eq(current_day)].sort_values(by='value', ascending=True).tail(10)\n",
    "#     ax.clear()\n",
    "#     ax.barh(dff['name'], dff['value'], color=[colors[group_lk[x]] for x in dff['name']])\n",
    "#     dx = dff['value'].max() / 200\n",
    "    \n",
    "#     for i, (value, name) in enumerate(zip(dff['value'], dff['name'])):\n",
    "#         ax.text(value-dx, i,     name,           size=14, weight=600, ha='right', va='bottom')\n",
    "#         ax.text(value-dx, i-.25, group_lk[name], size=10, color='#444444', ha='right', va='baseline')\n",
    "#         ax.text(value+dx, i,     f'{value:,.0f}',  size=14, ha='left',  va='center')\n",
    "#     ax.text(1, 0.4, current_day, transform=ax.transAxes, color='#777777', size=46, ha='right', weight=800)\n",
    "#     ax.text(0, 1.06, 'Population (thousands)', transform=ax.transAxes, size=12, color='#777777')\n",
    "#     ax.xaxis.set_major_formatter(ticker.StrMethodFormatter('{x:,.0f}'))\n",
    "#     ax.xaxis.set_ticks_position('top')\n",
    "#     ax.tick_params(axis='x', colors='#777777', labelsize=12)\n",
    "#     ax.set_yticks([])\n",
    "#     ax.margins(0, 0.01)\n",
    "#     ax.grid(which='major', axis='x', linestyle='-')\n",
    "#     ax.set_axisbelow(True)\n",
    "    \n",
    "#     ax.text(0, 1.15, 'Coronavirus',\n",
    "#             transform=ax.transAxes, size=24, weight=600, ha='left', va='top')\n",
    "# #     ax.text(1, 0, 'by @pratapvardhan; credit @jburnmurdoch', transform=ax.transAxes, color='#777777', ha='right',\n",
    "# #             bbox=dict(facecolor='white', alpha=0.8, edgecolor='white'))\n",
    "#     plt.box(False)"
   ]
  },
  {
   "cell_type": "code",
   "execution_count": 42,
   "id": "sexual-wages",
   "metadata": {
    "execution": {
     "iopub.execute_input": "2022-10-25T01:03:38.076753Z",
     "iopub.status.busy": "2022-10-25T01:03:38.075602Z",
     "iopub.status.idle": "2022-10-25T01:03:38.080362Z",
     "shell.execute_reply": "2022-10-25T01:03:38.080870Z"
    },
    "papermill": {
     "duration": 0.046248,
     "end_time": "2022-10-25T01:03:38.081030",
     "exception": false,
     "start_time": "2022-10-25T01:03:38.034782",
     "status": "completed"
    },
    "tags": []
   },
   "outputs": [],
   "source": [
    "# #hide_input\n",
    "# fig, ax = plt.subplots(figsize=(15, 8))\n",
    "# animator = animation.FuncAnimation(fig, draw_barchart, frames=range(g.day.values.min(), g.day.values.max()))\n",
    "# HTML(animator.to_jshtml())\n",
    "# # or use animator.to_html5_video() or animator.save() "
   ]
  },
  {
   "cell_type": "code",
   "execution_count": null,
   "id": "australian-container",
   "metadata": {
    "papermill": {
     "duration": 0.035927,
     "end_time": "2022-10-25T01:03:38.152142",
     "exception": false,
     "start_time": "2022-10-25T01:03:38.116215",
     "status": "completed"
    },
    "tags": []
   },
   "outputs": [],
   "source": []
  },
  {
   "cell_type": "code",
   "execution_count": null,
   "id": "mediterranean-pontiac",
   "metadata": {
    "papermill": {
     "duration": 0.034627,
     "end_time": "2022-10-25T01:03:38.221163",
     "exception": false,
     "start_time": "2022-10-25T01:03:38.186536",
     "status": "completed"
    },
    "tags": []
   },
   "outputs": [],
   "source": []
  },
  {
   "cell_type": "code",
   "execution_count": null,
   "id": "aging-legislature",
   "metadata": {
    "papermill": {
     "duration": 0.035291,
     "end_time": "2022-10-25T01:03:38.291703",
     "exception": false,
     "start_time": "2022-10-25T01:03:38.256412",
     "status": "completed"
    },
    "tags": []
   },
   "outputs": [],
   "source": []
  }
 ],
 "metadata": {
  "kernelspec": {
   "display_name": "Python 3",
   "language": "python",
   "name": "python3"
  },
  "language_info": {
   "codemirror_mode": {
    "name": "ipython",
    "version": 3
   },
   "file_extension": ".py",
   "mimetype": "text/x-python",
   "name": "python",
   "nbconvert_exporter": "python",
   "pygments_lexer": "ipython3",
   "version": "3.6.15"
  },
  "papermill": {
   "duration": 7.323221,
   "end_time": "2022-10-25T01:03:38.747721",
   "environment_variables": {},
   "exception": null,
   "input_path": "2020-03-21-covid19exp.ipynb",
   "output_path": "2020-03-21-covid19exp.ipynb",
   "parameters": {},
   "start_time": "2022-10-25T01:03:31.424500",
   "version": "2.0.0"
  }
 },
 "nbformat": 4,
 "nbformat_minor": 5
}