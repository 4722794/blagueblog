{
 "cells": [
  {
   "cell_type": "markdown",
   "id": "muslim-click",
   "metadata": {
    "papermill": {
     "duration": 0.032903,
     "end_time": "2021-12-30T12:12:53.700737",
     "exception": false,
     "start_time": "2021-12-30T12:12:53.667834",
     "status": "completed"
    },
    "tags": []
   },
   "source": [
    "# COVID-19 Case Race\n",
    "> A race chart to see rising cases around the world\n",
    "\n",
    "- author: Hargun Oberoi\n",
    "- image: images/covid-overview.png\n",
    "- hide: false\n",
    "- badges: false"
   ]
  },
  {
   "cell_type": "code",
   "execution_count": 1,
   "id": "proof-material",
   "metadata": {
    "execution": {
     "iopub.execute_input": "2021-12-30T12:12:53.769598Z",
     "iopub.status.busy": "2021-12-30T12:12:53.769080Z",
     "iopub.status.idle": "2021-12-30T12:12:54.079348Z",
     "shell.execute_reply": "2021-12-30T12:12:54.078820Z"
    },
    "papermill": {
     "duration": 0.349319,
     "end_time": "2021-12-30T12:12:54.079498",
     "exception": false,
     "start_time": "2021-12-30T12:12:53.730179",
     "status": "completed"
    },
    "tags": []
   },
   "outputs": [],
   "source": [
    "#hide\n",
    "import numpy as np\n",
    "import pandas as pd\n",
    "from jinja2 import Template\n",
    "from IPython.display import HTML"
   ]
  },
  {
   "cell_type": "code",
   "execution_count": 2,
   "id": "developed-terminology",
   "metadata": {
    "execution": {
     "iopub.execute_input": "2021-12-30T12:12:54.145054Z",
     "iopub.status.busy": "2021-12-30T12:12:54.144447Z",
     "iopub.status.idle": "2021-12-30T12:12:54.145898Z",
     "shell.execute_reply": "2021-12-30T12:12:54.146355Z"
    },
    "papermill": {
     "duration": 0.036624,
     "end_time": "2021-12-30T12:12:54.146491",
     "exception": false,
     "start_time": "2021-12-30T12:12:54.109867",
     "status": "completed"
    },
    "tags": []
   },
   "outputs": [],
   "source": [
    "#hide\n",
    "\n",
    "# FETCH\n",
    "base_url = 'https://raw.githubusercontent.com/pratapvardhan/notebooks/master/covid19/'\n",
    "paths = {\n",
    "    'mapping': base_url + 'mapping_countries.csv',\n",
    "    'overview': base_url + 'overview.tpl'\n",
    "}"
   ]
  },
  {
   "cell_type": "code",
   "execution_count": 3,
   "id": "dynamic-saver",
   "metadata": {
    "execution": {
     "iopub.execute_input": "2021-12-30T12:12:54.212553Z",
     "iopub.status.busy": "2021-12-30T12:12:54.212017Z",
     "iopub.status.idle": "2021-12-30T12:12:54.214576Z",
     "shell.execute_reply": "2021-12-30T12:12:54.215040Z"
    },
    "papermill": {
     "duration": 0.039756,
     "end_time": "2021-12-30T12:12:54.215163",
     "exception": false,
     "start_time": "2021-12-30T12:12:54.175407",
     "status": "completed"
    },
    "tags": []
   },
   "outputs": [
    {
     "data": {
      "text/plain": [
       "'https://raw.githubusercontent.com/pratapvardhan/notebooks/master/covid19/mapping_countries.csv'"
      ]
     },
     "execution_count": 3,
     "metadata": {},
     "output_type": "execute_result"
    }
   ],
   "source": [
    "#hide\n",
    "paths['mapping']"
   ]
  },
  {
   "cell_type": "code",
   "execution_count": 4,
   "id": "urban-software",
   "metadata": {
    "execution": {
     "iopub.execute_input": "2021-12-30T12:12:54.278659Z",
     "iopub.status.busy": "2021-12-30T12:12:54.278060Z",
     "iopub.status.idle": "2021-12-30T12:12:54.279809Z",
     "shell.execute_reply": "2021-12-30T12:12:54.280262Z"
    },
    "papermill": {
     "duration": 0.036002,
     "end_time": "2021-12-30T12:12:54.280405",
     "exception": false,
     "start_time": "2021-12-30T12:12:54.244403",
     "status": "completed"
    },
    "tags": []
   },
   "outputs": [],
   "source": [
    "#hide\n",
    "def get_mappings(url):\n",
    "    df = pd.read_csv(url)\n",
    "    return {\n",
    "        'df': df,\n",
    "        'replace.country': dict(df.dropna(subset=['Name']).set_index('Country')['Name']),\n",
    "        'map.continent': dict(df.set_index('Name')['Continent'])\n",
    "    }"
   ]
  },
  {
   "cell_type": "code",
   "execution_count": 5,
   "id": "intimate-machinery",
   "metadata": {
    "execution": {
     "iopub.execute_input": "2021-12-30T12:12:54.343550Z",
     "iopub.status.busy": "2021-12-30T12:12:54.343052Z",
     "iopub.status.idle": "2021-12-30T12:12:54.381099Z",
     "shell.execute_reply": "2021-12-30T12:12:54.380610Z"
    },
    "papermill": {
     "duration": 0.071709,
     "end_time": "2021-12-30T12:12:54.381230",
     "exception": false,
     "start_time": "2021-12-30T12:12:54.309521",
     "status": "completed"
    },
    "tags": []
   },
   "outputs": [],
   "source": [
    "#hide\n",
    "mapping = get_mappings(paths['mapping'])"
   ]
  },
  {
   "cell_type": "code",
   "execution_count": 6,
   "id": "certified-tactics",
   "metadata": {
    "execution": {
     "iopub.execute_input": "2021-12-30T12:12:54.445361Z",
     "iopub.status.busy": "2021-12-30T12:12:54.444846Z",
     "iopub.status.idle": "2021-12-30T12:12:54.446952Z",
     "shell.execute_reply": "2021-12-30T12:12:54.446545Z"
    },
    "papermill": {
     "duration": 0.036292,
     "end_time": "2021-12-30T12:12:54.447062",
     "exception": false,
     "start_time": "2021-12-30T12:12:54.410770",
     "status": "completed"
    },
    "tags": []
   },
   "outputs": [],
   "source": [
    "#hide\n",
    "def get_template(path):\n",
    "    from urllib.parse import urlparse\n",
    "    if bool(urlparse(path).netloc):\n",
    "        from urllib.request import urlopen\n",
    "        return urlopen(path).read().decode('utf8')\n",
    "    return open(path).read()"
   ]
  },
  {
   "cell_type": "code",
   "execution_count": 7,
   "id": "realistic-blast",
   "metadata": {
    "execution": {
     "iopub.execute_input": "2021-12-30T12:12:54.509502Z",
     "iopub.status.busy": "2021-12-30T12:12:54.508934Z",
     "iopub.status.idle": "2021-12-30T12:12:54.510599Z",
     "shell.execute_reply": "2021-12-30T12:12:54.511028Z"
    },
    "papermill": {
     "duration": 0.035051,
     "end_time": "2021-12-30T12:12:54.511158",
     "exception": false,
     "start_time": "2021-12-30T12:12:54.476107",
     "status": "completed"
    },
    "tags": []
   },
   "outputs": [],
   "source": [
    "#hide\n",
    "def get_frame(name):\n",
    "    url = (\n",
    "        'https://raw.githubusercontent.com/CSSEGISandData/COVID-19/master/csse_covid_19_data/'\n",
    "        f'csse_covid_19_time_series/time_series_covid19_{name}_global.csv')\n",
    "    df = pd.read_csv(url)\n",
    "    # rename countries\n",
    "    df['Country/Region'] = df['Country/Region'].replace(mapping['replace.country'])\n",
    "    return df"
   ]
  },
  {
   "cell_type": "code",
   "execution_count": 8,
   "id": "affiliated-characterization",
   "metadata": {
    "execution": {
     "iopub.execute_input": "2021-12-30T12:12:54.575032Z",
     "iopub.status.busy": "2021-12-30T12:12:54.574457Z",
     "iopub.status.idle": "2021-12-30T12:12:54.576541Z",
     "shell.execute_reply": "2021-12-30T12:12:54.576118Z"
    },
    "papermill": {
     "duration": 0.035961,
     "end_time": "2021-12-30T12:12:54.576640",
     "exception": false,
     "start_time": "2021-12-30T12:12:54.540679",
     "status": "completed"
    },
    "tags": []
   },
   "outputs": [],
   "source": [
    "#hide\n",
    "def get_dates(df):\n",
    "    dt_cols = df.columns[~df.columns.isin(['Province/State', 'Country/Region', 'Lat', 'Long'])]\n",
    "    LAST_DATE_I = -1\n",
    "    # sometimes last column may be empty, then go backwards\n",
    "    for i in range(-1, -len(dt_cols), -1):\n",
    "        if not df[dt_cols[i]].fillna(0).eq(0).all():\n",
    "            LAST_DATE_I = i\n",
    "            break\n",
    "    return LAST_DATE_I, dt_cols"
   ]
  },
  {
   "cell_type": "code",
   "execution_count": 9,
   "id": "recent-optimization",
   "metadata": {
    "execution": {
     "iopub.execute_input": "2021-12-30T12:12:54.638634Z",
     "iopub.status.busy": "2021-12-30T12:12:54.638111Z",
     "iopub.status.idle": "2021-12-30T12:12:55.012904Z",
     "shell.execute_reply": "2021-12-30T12:12:55.012407Z"
    },
    "papermill": {
     "duration": 0.407474,
     "end_time": "2021-12-30T12:12:55.013022",
     "exception": false,
     "start_time": "2021-12-30T12:12:54.605548",
     "status": "completed"
    },
    "tags": []
   },
   "outputs": [],
   "source": [
    "#hide\n",
    "COL_REGION = 'Country/Region'\n",
    "# Confirmed, Recovered, Deaths\n",
    "df = get_frame('confirmed')\n",
    "# dft_: timeseries, dfc_: today country agg\n",
    "dft_cases = df\n",
    "dft_deaths = get_frame('deaths')\n",
    "dft_recovered = get_frame('recovered')\n",
    "LAST_DATE_I, dt_cols = get_dates(df)"
   ]
  },
  {
   "cell_type": "code",
   "execution_count": 10,
   "id": "absolute-copper",
   "metadata": {
    "execution": {
     "iopub.execute_input": "2021-12-30T12:12:55.077389Z",
     "iopub.status.busy": "2021-12-30T12:12:55.076789Z",
     "iopub.status.idle": "2021-12-30T12:12:55.078983Z",
     "shell.execute_reply": "2021-12-30T12:12:55.078521Z"
    },
    "papermill": {
     "duration": 0.036102,
     "end_time": "2021-12-30T12:12:55.079103",
     "exception": false,
     "start_time": "2021-12-30T12:12:55.043001",
     "status": "completed"
    },
    "tags": []
   },
   "outputs": [],
   "source": [
    "#hide\n",
    "LAST_DATE_I, dt_cols = get_dates(df)\n",
    "dt_today =dt_cols[LAST_DATE_I]\n",
    "# dt_5day = dt_cols[LAST_DATE_I - 5]\n",
    "dt_yday = dt_cols[LAST_DATE_I - 1]"
   ]
  },
  {
   "cell_type": "code",
   "execution_count": 11,
   "id": "restricted-sheriff",
   "metadata": {
    "execution": {
     "iopub.execute_input": "2021-12-30T12:12:55.144249Z",
     "iopub.status.busy": "2021-12-30T12:12:55.143725Z",
     "iopub.status.idle": "2021-12-30T12:12:55.149462Z",
     "shell.execute_reply": "2021-12-30T12:12:55.149061Z"
    },
    "papermill": {
     "duration": 0.040978,
     "end_time": "2021-12-30T12:12:55.149570",
     "exception": false,
     "start_time": "2021-12-30T12:12:55.108592",
     "status": "completed"
    },
    "tags": []
   },
   "outputs": [],
   "source": [
    "#hide\n",
    "dfc_cases = dft_cases.groupby(COL_REGION)[dt_today].sum()\n",
    "dfc_deaths = dft_deaths.groupby(COL_REGION)[dt_today].sum()\n",
    "# dfp_cases = dft_cases.groupby(COL_REGION)[dt_5day].sum()\n",
    "# dfp_deaths = dft_deaths.groupby(COL_REGION)[dt_5day].sum()\n",
    "dfp_cases = dft_cases.groupby(COL_REGION)[dt_yday].sum()\n",
    "dfp_deaths = dft_deaths.groupby(COL_REGION)[dt_yday].sum()"
   ]
  },
  {
   "cell_type": "code",
   "execution_count": 12,
   "id": "deluxe-hepatitis",
   "metadata": {
    "execution": {
     "iopub.execute_input": "2021-12-30T12:12:55.213312Z",
     "iopub.status.busy": "2021-12-30T12:12:55.212817Z",
     "iopub.status.idle": "2021-12-30T12:12:55.216790Z",
     "shell.execute_reply": "2021-12-30T12:12:55.216362Z"
    },
    "papermill": {
     "duration": 0.03827,
     "end_time": "2021-12-30T12:12:55.216886",
     "exception": false,
     "start_time": "2021-12-30T12:12:55.178616",
     "status": "completed"
    },
    "tags": []
   },
   "outputs": [],
   "source": [
    "#hide\n",
    "df_table = (pd.DataFrame(dict(Cases = dfc_cases, Deaths = dfc_deaths, PCases = dfp_cases, PDeaths = dfp_deaths))\n",
    "            .sort_values(by = ['Cases','Deaths'], ascending = [False, False])\n",
    "            .reset_index())"
   ]
  },
  {
   "cell_type": "code",
   "execution_count": 13,
   "id": "educational-chancellor",
   "metadata": {
    "execution": {
     "iopub.execute_input": "2021-12-30T12:12:55.288624Z",
     "iopub.status.busy": "2021-12-30T12:12:55.288118Z",
     "iopub.status.idle": "2021-12-30T12:12:55.299048Z",
     "shell.execute_reply": "2021-12-30T12:12:55.299514Z"
    },
    "papermill": {
     "duration": 0.053884,
     "end_time": "2021-12-30T12:12:55.299623",
     "exception": false,
     "start_time": "2021-12-30T12:12:55.245739",
     "status": "completed"
    },
    "tags": []
   },
   "outputs": [
    {
     "data": {
      "text/html": [
       "<div>\n",
       "<style scoped>\n",
       "    .dataframe tbody tr th:only-of-type {\n",
       "        vertical-align: middle;\n",
       "    }\n",
       "\n",
       "    .dataframe tbody tr th {\n",
       "        vertical-align: top;\n",
       "    }\n",
       "\n",
       "    .dataframe thead th {\n",
       "        text-align: right;\n",
       "    }\n",
       "</style>\n",
       "<table border=\"1\" class=\"dataframe\">\n",
       "  <thead>\n",
       "    <tr style=\"text-align: right;\">\n",
       "      <th></th>\n",
       "      <th>Country/Region</th>\n",
       "      <th>Cases</th>\n",
       "      <th>Deaths</th>\n",
       "      <th>PCases</th>\n",
       "      <th>PDeaths</th>\n",
       "      <th>Cases (+)</th>\n",
       "      <th>Deaths (+)</th>\n",
       "      <th>Fatality Rate</th>\n",
       "      <th>Continent</th>\n",
       "    </tr>\n",
       "  </thead>\n",
       "  <tbody>\n",
       "    <tr>\n",
       "      <th>0</th>\n",
       "      <td>US</td>\n",
       "      <td>53659688</td>\n",
       "      <td>822892</td>\n",
       "      <td>53170421</td>\n",
       "      <td>820708</td>\n",
       "      <td>489267</td>\n",
       "      <td>2184</td>\n",
       "      <td>1.53</td>\n",
       "      <td>North America</td>\n",
       "    </tr>\n",
       "    <tr>\n",
       "      <th>1</th>\n",
       "      <td>India</td>\n",
       "      <td>34822040</td>\n",
       "      <td>480860</td>\n",
       "      <td>34808886</td>\n",
       "      <td>480592</td>\n",
       "      <td>13154</td>\n",
       "      <td>268</td>\n",
       "      <td>1.38</td>\n",
       "      <td>Asia</td>\n",
       "    </tr>\n",
       "    <tr>\n",
       "      <th>2</th>\n",
       "      <td>Brazil</td>\n",
       "      <td>22269031</td>\n",
       "      <td>619095</td>\n",
       "      <td>22259270</td>\n",
       "      <td>618978</td>\n",
       "      <td>9761</td>\n",
       "      <td>117</td>\n",
       "      <td>2.78</td>\n",
       "      <td>South America</td>\n",
       "    </tr>\n",
       "    <tr>\n",
       "      <th>3</th>\n",
       "      <td>United Kingdom</td>\n",
       "      <td>12630442</td>\n",
       "      <td>148557</td>\n",
       "      <td>12406697</td>\n",
       "      <td>148488</td>\n",
       "      <td>223745</td>\n",
       "      <td>69</td>\n",
       "      <td>1.18</td>\n",
       "      <td>Europe</td>\n",
       "    </tr>\n",
       "    <tr>\n",
       "      <th>4</th>\n",
       "      <td>Russia</td>\n",
       "      <td>10279009</td>\n",
       "      <td>300886</td>\n",
       "      <td>10258052</td>\n",
       "      <td>299983</td>\n",
       "      <td>20957</td>\n",
       "      <td>903</td>\n",
       "      <td>2.93</td>\n",
       "      <td>Europe</td>\n",
       "    </tr>\n",
       "  </tbody>\n",
       "</table>\n",
       "</div>"
      ],
      "text/plain": [
       "   Country/Region     Cases  Deaths    PCases  PDeaths  Cases (+)  Deaths (+)  \\\n",
       "0              US  53659688  822892  53170421   820708     489267        2184   \n",
       "1           India  34822040  480860  34808886   480592      13154         268   \n",
       "2          Brazil  22269031  619095  22259270   618978       9761         117   \n",
       "3  United Kingdom  12630442  148557  12406697   148488     223745          69   \n",
       "4          Russia  10279009  300886  10258052   299983      20957         903   \n",
       "\n",
       "   Fatality Rate      Continent  \n",
       "0           1.53  North America  \n",
       "1           1.38           Asia  \n",
       "2           2.78  South America  \n",
       "3           1.18         Europe  \n",
       "4           2.93         Europe  "
      ]
     },
     "execution_count": 13,
     "metadata": {},
     "output_type": "execute_result"
    }
   ],
   "source": [
    "#hide\n",
    "for c in 'Cases, Deaths'.split(', '):\n",
    "    df_table[f'{c} (+)'] = (df_table[c] - df_table[f'P{c}']).clip(0)\n",
    "    #Clip ça veut dire, les chiffres negatif sont interdit\n",
    "df_table['Fatality Rate'] = (100* df_table['Deaths']/ df_table['Cases']).round(2)\n",
    "df_table['Continent'] = df_table['Country/Region'].map(mapping['map.continent'])\n",
    "df_table.head(5)"
   ]
  },
  {
   "cell_type": "code",
   "execution_count": 14,
   "id": "aboriginal-bulgaria",
   "metadata": {
    "execution": {
     "iopub.execute_input": "2021-12-30T12:12:55.363322Z",
     "iopub.status.busy": "2021-12-30T12:12:55.362826Z",
     "iopub.status.idle": "2021-12-30T12:12:55.365186Z",
     "shell.execute_reply": "2021-12-30T12:12:55.364783Z"
    },
    "papermill": {
     "duration": 0.036093,
     "end_time": "2021-12-30T12:12:55.365290",
     "exception": false,
     "start_time": "2021-12-30T12:12:55.329197",
     "status": "completed"
    },
    "tags": []
   },
   "outputs": [],
   "source": [
    "#hide\n",
    "#delete problematic countries from table\n",
    "df_table = df_table[~df_table['Country/Region'].isin(['Cape Verde', 'Cruise Ship', 'Kosovo'])]"
   ]
  },
  {
   "cell_type": "code",
   "execution_count": 15,
   "id": "fantastic-effect",
   "metadata": {
    "execution": {
     "iopub.execute_input": "2021-12-30T12:12:55.432518Z",
     "iopub.status.busy": "2021-12-30T12:12:55.431978Z",
     "iopub.status.idle": "2021-12-30T12:12:55.449083Z",
     "shell.execute_reply": "2021-12-30T12:12:55.448676Z"
    },
    "papermill": {
     "duration": 0.054445,
     "end_time": "2021-12-30T12:12:55.449193",
     "exception": false,
     "start_time": "2021-12-30T12:12:55.394748",
     "status": "completed"
    },
    "tags": []
   },
   "outputs": [
    {
     "data": {
      "text/html": [
       "<div>\n",
       "<style scoped>\n",
       "    .dataframe tbody tr th:only-of-type {\n",
       "        vertical-align: middle;\n",
       "    }\n",
       "\n",
       "    .dataframe tbody tr th {\n",
       "        vertical-align: top;\n",
       "    }\n",
       "\n",
       "    .dataframe thead th {\n",
       "        text-align: right;\n",
       "    }\n",
       "</style>\n",
       "<table border=\"1\" class=\"dataframe\">\n",
       "  <thead>\n",
       "    <tr style=\"text-align: right;\">\n",
       "      <th></th>\n",
       "      <th>Country/Region</th>\n",
       "      <th>Cases</th>\n",
       "      <th>Deaths</th>\n",
       "      <th>PCases</th>\n",
       "      <th>PDeaths</th>\n",
       "      <th>Cases (+)</th>\n",
       "      <th>Deaths (+)</th>\n",
       "      <th>Fatality Rate</th>\n",
       "      <th>Continent</th>\n",
       "    </tr>\n",
       "  </thead>\n",
       "  <tbody>\n",
       "    <tr>\n",
       "      <th>0</th>\n",
       "      <td>US</td>\n",
       "      <td>53659688</td>\n",
       "      <td>822892</td>\n",
       "      <td>53170421</td>\n",
       "      <td>820708</td>\n",
       "      <td>489267</td>\n",
       "      <td>2184</td>\n",
       "      <td>1.5</td>\n",
       "      <td>North America</td>\n",
       "    </tr>\n",
       "    <tr>\n",
       "      <th>1</th>\n",
       "      <td>India</td>\n",
       "      <td>34822040</td>\n",
       "      <td>480860</td>\n",
       "      <td>34808886</td>\n",
       "      <td>480592</td>\n",
       "      <td>13154</td>\n",
       "      <td>268</td>\n",
       "      <td>1.4</td>\n",
       "      <td>Asia</td>\n",
       "    </tr>\n",
       "    <tr>\n",
       "      <th>2</th>\n",
       "      <td>Brazil</td>\n",
       "      <td>22269031</td>\n",
       "      <td>619095</td>\n",
       "      <td>22259270</td>\n",
       "      <td>618978</td>\n",
       "      <td>9761</td>\n",
       "      <td>117</td>\n",
       "      <td>2.8</td>\n",
       "      <td>South America</td>\n",
       "    </tr>\n",
       "    <tr>\n",
       "      <th>3</th>\n",
       "      <td>United Kingdom</td>\n",
       "      <td>12630442</td>\n",
       "      <td>148557</td>\n",
       "      <td>12406697</td>\n",
       "      <td>148488</td>\n",
       "      <td>223745</td>\n",
       "      <td>69</td>\n",
       "      <td>1.2</td>\n",
       "      <td>Europe</td>\n",
       "    </tr>\n",
       "    <tr>\n",
       "      <th>4</th>\n",
       "      <td>Russia</td>\n",
       "      <td>10279009</td>\n",
       "      <td>300886</td>\n",
       "      <td>10258052</td>\n",
       "      <td>299983</td>\n",
       "      <td>20957</td>\n",
       "      <td>903</td>\n",
       "      <td>2.9</td>\n",
       "      <td>Europe</td>\n",
       "    </tr>\n",
       "  </tbody>\n",
       "</table>\n",
       "</div>"
      ],
      "text/plain": [
       "   Country/Region     Cases  Deaths    PCases  PDeaths  Cases (+)  Deaths (+)  \\\n",
       "0              US  53659688  822892  53170421   820708     489267        2184   \n",
       "1           India  34822040  480860  34808886   480592      13154         268   \n",
       "2          Brazil  22269031  619095  22259270   618978       9761         117   \n",
       "3  United Kingdom  12630442  148557  12406697   148488     223745          69   \n",
       "4          Russia  10279009  300886  10258052   299983      20957         903   \n",
       "\n",
       "   Fatality Rate      Continent  \n",
       "0            1.5  North America  \n",
       "1            1.4           Asia  \n",
       "2            2.8  South America  \n",
       "3            1.2         Europe  \n",
       "4            2.9         Europe  "
      ]
     },
     "execution_count": 15,
     "metadata": {},
     "output_type": "execute_result"
    }
   ],
   "source": [
    "#hide\n",
    "df_table = (pd.DataFrame(dict(Cases=dfc_cases, Deaths=dfc_deaths, PCases=dfp_cases, PDeaths=dfp_deaths))\n",
    "             .sort_values(by=['Cases', 'Deaths'], ascending=[False, False])\n",
    "             .reset_index())\n",
    "df_table.rename(columns={'index': 'Country/Region'}, inplace=True)\n",
    "for c in 'Cases, Deaths'.split(', '):\n",
    "    df_table[f'{c} (+)'] = (df_table[c] - df_table[f'P{c}']).clip(0)  # DATA BUG\n",
    "df_table['Fatality Rate'] = (100 * df_table['Deaths'] / df_table['Cases']).round(1)\n",
    "df_table['Continent'] = df_table['Country/Region'].map(mapping['map.continent'])\n",
    "df_table.head(5)"
   ]
  },
  {
   "cell_type": "code",
   "execution_count": 16,
   "id": "fewer-occasion",
   "metadata": {
    "execution": {
     "iopub.execute_input": "2021-12-30T12:12:55.513961Z",
     "iopub.status.busy": "2021-12-30T12:12:55.513467Z",
     "iopub.status.idle": "2021-12-30T12:12:55.516047Z",
     "shell.execute_reply": "2021-12-30T12:12:55.515650Z"
    },
    "papermill": {
     "duration": 0.036896,
     "end_time": "2021-12-30T12:12:55.516172",
     "exception": false,
     "start_time": "2021-12-30T12:12:55.479276",
     "status": "completed"
    },
    "tags": []
   },
   "outputs": [],
   "source": [
    "#hide\n",
    "#delete problematic countries from table\n",
    "df_table = df_table[~df_table['Country/Region'].isin(['Cape Verde', 'Cruise Ship', 'Kosovo'])]"
   ]
  },
  {
   "cell_type": "code",
   "execution_count": 17,
   "id": "related-center",
   "metadata": {
    "execution": {
     "iopub.execute_input": "2021-12-30T12:12:55.587054Z",
     "iopub.status.busy": "2021-12-30T12:12:55.586559Z",
     "iopub.status.idle": "2021-12-30T12:12:55.594105Z",
     "shell.execute_reply": "2021-12-30T12:12:55.593704Z"
    },
    "papermill": {
     "duration": 0.048309,
     "end_time": "2021-12-30T12:12:55.594208",
     "exception": false,
     "start_time": "2021-12-30T12:12:55.545899",
     "status": "completed"
    },
    "tags": []
   },
   "outputs": [],
   "source": [
    "#hide\n",
    "metrics = [df_table.columns[index] for index in [1,2,5,6]]\n",
    "# s_china = df_table[df_table['Country/Region'].eq('China')][metrics].sum().add_prefix('China ')\n",
    "s_us = df_table[df_table['Country/Region'].eq('US')][metrics].sum().add_prefix('US ')\n",
    "s_eu = df_table[df_table['Continent'].eq('Europe')][metrics].sum().add_prefix('EU ')\n",
    "s_ind = df_table[df_table['Country/Region'].eq('India')][metrics].sum().add_prefix('India ')\n",
    "summary = {'updated': pd.to_datetime(dt_today), 'since': pd.to_datetime(dt_yday)}\n",
    "summary = {'updated': pd.to_datetime(dt_today), 'since': pd.to_datetime(dt_yday)}\n",
    "summary = {**summary, **df_table[metrics].sum(), **s_ind, **s_us, **s_eu}"
   ]
  },
  {
   "cell_type": "code",
   "execution_count": 18,
   "id": "engaging-syndrome",
   "metadata": {
    "execution": {
     "iopub.execute_input": "2021-12-30T12:12:55.658006Z",
     "iopub.status.busy": "2021-12-30T12:12:55.657507Z",
     "iopub.status.idle": "2021-12-30T12:12:55.670131Z",
     "shell.execute_reply": "2021-12-30T12:12:55.670506Z"
    },
    "papermill": {
     "duration": 0.046548,
     "end_time": "2021-12-30T12:12:55.670622",
     "exception": false,
     "start_time": "2021-12-30T12:12:55.624074",
     "status": "completed"
    },
    "tags": []
   },
   "outputs": [],
   "source": [
    "#hide\n",
    "dft_ct_new_cases = dft_cases.groupby(COL_REGION)[dt_cols].sum().diff(axis=1).fillna(0).astype(int)"
   ]
  },
  {
   "cell_type": "code",
   "execution_count": 19,
   "id": "neutral-assignment",
   "metadata": {
    "execution": {
     "iopub.execute_input": "2021-12-30T12:12:55.734797Z",
     "iopub.status.busy": "2021-12-30T12:12:55.734300Z",
     "iopub.status.idle": "2021-12-30T12:12:55.736270Z",
     "shell.execute_reply": "2021-12-30T12:12:55.736648Z"
    },
    "papermill": {
     "duration": 0.036273,
     "end_time": "2021-12-30T12:12:55.736761",
     "exception": false,
     "start_time": "2021-12-30T12:12:55.700488",
     "status": "completed"
    },
    "tags": []
   },
   "outputs": [],
   "source": [
    "#hide\n",
    "everydaycases = dft_ct_new_cases.cumsum(axis=1)"
   ]
  },
  {
   "cell_type": "code",
   "execution_count": 20,
   "id": "parliamentary-calgary",
   "metadata": {
    "execution": {
     "iopub.execute_input": "2021-12-30T12:12:55.800854Z",
     "iopub.status.busy": "2021-12-30T12:12:55.800348Z",
     "iopub.status.idle": "2021-12-30T12:12:56.372638Z",
     "shell.execute_reply": "2021-12-30T12:12:56.372104Z"
    },
    "papermill": {
     "duration": 0.606011,
     "end_time": "2021-12-30T12:12:56.372776",
     "exception": false,
     "start_time": "2021-12-30T12:12:55.766765",
     "status": "completed"
    },
    "tags": []
   },
   "outputs": [],
   "source": [
    "#hide\n",
    "import pandas as pd\n",
    "import matplotlib.pyplot as plt\n",
    "import matplotlib.ticker as ticker\n",
    "import matplotlib.animation as animation\n",
    "from IPython.display import HTML"
   ]
  },
  {
   "cell_type": "code",
   "execution_count": 21,
   "id": "lasting-extraction",
   "metadata": {
    "execution": {
     "iopub.execute_input": "2021-12-30T12:12:56.439570Z",
     "iopub.status.busy": "2021-12-30T12:12:56.439057Z",
     "iopub.status.idle": "2021-12-30T12:12:56.444695Z",
     "shell.execute_reply": "2021-12-30T12:12:56.445119Z"
    },
    "papermill": {
     "duration": 0.041348,
     "end_time": "2021-12-30T12:12:56.445241",
     "exception": false,
     "start_time": "2021-12-30T12:12:56.403893",
     "status": "completed"
    },
    "tags": []
   },
   "outputs": [],
   "source": [
    "#hide\n",
    "t = everydaycases.stack()"
   ]
  },
  {
   "cell_type": "code",
   "execution_count": 22,
   "id": "premier-sleeve",
   "metadata": {
    "execution": {
     "iopub.execute_input": "2021-12-30T12:12:56.508703Z",
     "iopub.status.busy": "2021-12-30T12:12:56.508200Z",
     "iopub.status.idle": "2021-12-30T12:12:56.518366Z",
     "shell.execute_reply": "2021-12-30T12:12:56.517940Z"
    },
    "papermill": {
     "duration": 0.043183,
     "end_time": "2021-12-30T12:12:56.518467",
     "exception": false,
     "start_time": "2021-12-30T12:12:56.475284",
     "status": "completed"
    },
    "tags": []
   },
   "outputs": [],
   "source": [
    "#hide\n",
    "g = t.reset_index(['Country/Region'])"
   ]
  },
  {
   "cell_type": "code",
   "execution_count": 23,
   "id": "distributed-pittsburgh",
   "metadata": {
    "execution": {
     "iopub.execute_input": "2021-12-30T12:12:56.581802Z",
     "iopub.status.busy": "2021-12-30T12:12:56.581222Z",
     "iopub.status.idle": "2021-12-30T12:12:56.583381Z",
     "shell.execute_reply": "2021-12-30T12:12:56.582927Z"
    },
    "papermill": {
     "duration": 0.035268,
     "end_time": "2021-12-30T12:12:56.583505",
     "exception": false,
     "start_time": "2021-12-30T12:12:56.548237",
     "status": "completed"
    },
    "tags": []
   },
   "outputs": [],
   "source": [
    "#hide\n",
    "g.index.name = 'date'"
   ]
  },
  {
   "cell_type": "code",
   "execution_count": 24,
   "id": "naked-donor",
   "metadata": {
    "execution": {
     "iopub.execute_input": "2021-12-30T12:12:56.646867Z",
     "iopub.status.busy": "2021-12-30T12:12:56.646286Z",
     "iopub.status.idle": "2021-12-30T12:12:56.650106Z",
     "shell.execute_reply": "2021-12-30T12:12:56.649645Z"
    },
    "papermill": {
     "duration": 0.036692,
     "end_time": "2021-12-30T12:12:56.650225",
     "exception": false,
     "start_time": "2021-12-30T12:12:56.613533",
     "status": "completed"
    },
    "tags": []
   },
   "outputs": [],
   "source": [
    "# #hide\n",
    "# g = g.reset_index(['date'])"
   ]
  },
  {
   "cell_type": "code",
   "execution_count": 25,
   "id": "incomplete-mustang",
   "metadata": {
    "execution": {
     "iopub.execute_input": "2021-12-30T12:12:56.713812Z",
     "iopub.status.busy": "2021-12-30T12:12:56.713242Z",
     "iopub.status.idle": "2021-12-30T12:12:56.715386Z",
     "shell.execute_reply": "2021-12-30T12:12:56.714908Z"
    },
    "papermill": {
     "duration": 0.034701,
     "end_time": "2021-12-30T12:12:56.715498",
     "exception": false,
     "start_time": "2021-12-30T12:12:56.680797",
     "status": "completed"
    },
    "tags": []
   },
   "outputs": [],
   "source": [
    "#hide\n",
    "# g.head()"
   ]
  },
  {
   "cell_type": "code",
   "execution_count": 26,
   "id": "specific-kruger",
   "metadata": {
    "execution": {
     "iopub.execute_input": "2021-12-30T12:12:56.778317Z",
     "iopub.status.busy": "2021-12-30T12:12:56.777748Z",
     "iopub.status.idle": "2021-12-30T12:12:56.779921Z",
     "shell.execute_reply": "2021-12-30T12:12:56.779357Z"
    },
    "papermill": {
     "duration": 0.034811,
     "end_time": "2021-12-30T12:12:56.780035",
     "exception": false,
     "start_time": "2021-12-30T12:12:56.745224",
     "status": "completed"
    },
    "tags": []
   },
   "outputs": [],
   "source": [
    "#hide\n",
    "# g.columns = ['date','country','cases']"
   ]
  },
  {
   "cell_type": "code",
   "execution_count": 27,
   "id": "tender-conversion",
   "metadata": {
    "execution": {
     "iopub.execute_input": "2021-12-30T12:12:56.843304Z",
     "iopub.status.busy": "2021-12-30T12:12:56.842738Z",
     "iopub.status.idle": "2021-12-30T12:12:56.844887Z",
     "shell.execute_reply": "2021-12-30T12:12:56.844379Z"
    },
    "papermill": {
     "duration": 0.034412,
     "end_time": "2021-12-30T12:12:56.844997",
     "exception": false,
     "start_time": "2021-12-30T12:12:56.810585",
     "status": "completed"
    },
    "tags": []
   },
   "outputs": [],
   "source": [
    "#hide\n",
    "# g['continent'] = g.country"
   ]
  },
  {
   "cell_type": "code",
   "execution_count": 28,
   "id": "substantial-wilderness",
   "metadata": {
    "execution": {
     "iopub.execute_input": "2021-12-30T12:12:56.908496Z",
     "iopub.status.busy": "2021-12-30T12:12:56.907905Z",
     "iopub.status.idle": "2021-12-30T12:12:56.909894Z",
     "shell.execute_reply": "2021-12-30T12:12:56.909404Z"
    },
    "papermill": {
     "duration": 0.034387,
     "end_time": "2021-12-30T12:12:56.909991",
     "exception": false,
     "start_time": "2021-12-30T12:12:56.875604",
     "status": "completed"
    },
    "tags": []
   },
   "outputs": [],
   "source": [
    "#hide\n",
    "# cols = list(g.columns.values)"
   ]
  },
  {
   "cell_type": "code",
   "execution_count": 29,
   "id": "solved-farming",
   "metadata": {
    "execution": {
     "iopub.execute_input": "2021-12-30T12:12:56.972542Z",
     "iopub.status.busy": "2021-12-30T12:12:56.971924Z",
     "iopub.status.idle": "2021-12-30T12:12:56.974068Z",
     "shell.execute_reply": "2021-12-30T12:12:56.973561Z"
    },
    "papermill": {
     "duration": 0.034496,
     "end_time": "2021-12-30T12:12:56.974177",
     "exception": false,
     "start_time": "2021-12-30T12:12:56.939681",
     "status": "completed"
    },
    "tags": []
   },
   "outputs": [],
   "source": [
    "#hide\n",
    "# cols.insert(0, cols.pop())"
   ]
  },
  {
   "cell_type": "code",
   "execution_count": 30,
   "id": "executed-adoption",
   "metadata": {
    "execution": {
     "iopub.execute_input": "2021-12-30T12:12:57.037903Z",
     "iopub.status.busy": "2021-12-30T12:12:57.037339Z",
     "iopub.status.idle": "2021-12-30T12:12:57.039488Z",
     "shell.execute_reply": "2021-12-30T12:12:57.038942Z"
    },
    "papermill": {
     "duration": 0.034737,
     "end_time": "2021-12-30T12:12:57.039599",
     "exception": false,
     "start_time": "2021-12-30T12:12:57.004862",
     "status": "completed"
    },
    "tags": []
   },
   "outputs": [],
   "source": [
    "#hide\n",
    "# g = g[cols]"
   ]
  },
  {
   "cell_type": "code",
   "execution_count": 31,
   "id": "subject-dublin",
   "metadata": {
    "execution": {
     "iopub.execute_input": "2021-12-30T12:12:57.103128Z",
     "iopub.status.busy": "2021-12-30T12:12:57.102549Z",
     "iopub.status.idle": "2021-12-30T12:12:57.104697Z",
     "shell.execute_reply": "2021-12-30T12:12:57.104213Z"
    },
    "papermill": {
     "duration": 0.034843,
     "end_time": "2021-12-30T12:12:57.104807",
     "exception": false,
     "start_time": "2021-12-30T12:12:57.069964",
     "status": "completed"
    },
    "tags": []
   },
   "outputs": [],
   "source": [
    "#hide\n",
    "# g['continent'] = g['continent'].map(mapping['map.continent'])"
   ]
  },
  {
   "cell_type": "code",
   "execution_count": 32,
   "id": "freelance-scout",
   "metadata": {
    "execution": {
     "iopub.execute_input": "2021-12-30T12:12:57.168279Z",
     "iopub.status.busy": "2021-12-30T12:12:57.167664Z",
     "iopub.status.idle": "2021-12-30T12:12:57.169738Z",
     "shell.execute_reply": "2021-12-30T12:12:57.169177Z"
    },
    "papermill": {
     "duration": 0.034499,
     "end_time": "2021-12-30T12:12:57.169850",
     "exception": false,
     "start_time": "2021-12-30T12:12:57.135351",
     "status": "completed"
    },
    "tags": []
   },
   "outputs": [],
   "source": [
    "#hide\n",
    "# g.head()"
   ]
  },
  {
   "cell_type": "code",
   "execution_count": 33,
   "id": "limited-engine",
   "metadata": {
    "execution": {
     "iopub.execute_input": "2021-12-30T12:12:57.233348Z",
     "iopub.status.busy": "2021-12-30T12:12:57.232830Z",
     "iopub.status.idle": "2021-12-30T12:12:57.234584Z",
     "shell.execute_reply": "2021-12-30T12:12:57.234964Z"
    },
    "papermill": {
     "duration": 0.035105,
     "end_time": "2021-12-30T12:12:57.235088",
     "exception": false,
     "start_time": "2021-12-30T12:12:57.199983",
     "status": "completed"
    },
    "tags": []
   },
   "outputs": [],
   "source": [
    "# hide\n",
    "# g['date'] = g['date'].astype('datetime64[ns]')"
   ]
  },
  {
   "cell_type": "code",
   "execution_count": 34,
   "id": "sophisticated-supervisor",
   "metadata": {
    "execution": {
     "iopub.execute_input": "2021-12-30T12:12:57.298358Z",
     "iopub.status.busy": "2021-12-30T12:12:57.297784Z",
     "iopub.status.idle": "2021-12-30T12:12:57.299795Z",
     "shell.execute_reply": "2021-12-30T12:12:57.299233Z"
    },
    "papermill": {
     "duration": 0.034697,
     "end_time": "2021-12-30T12:12:57.299909",
     "exception": false,
     "start_time": "2021-12-30T12:12:57.265212",
     "status": "completed"
    },
    "tags": []
   },
   "outputs": [],
   "source": [
    "#hide\n",
    "# g['date'] = g.date.dt.dayofyear"
   ]
  },
  {
   "cell_type": "code",
   "execution_count": 35,
   "id": "inside-dubai",
   "metadata": {
    "execution": {
     "iopub.execute_input": "2021-12-30T12:12:57.363028Z",
     "iopub.status.busy": "2021-12-30T12:12:57.362461Z",
     "iopub.status.idle": "2021-12-30T12:12:57.364104Z",
     "shell.execute_reply": "2021-12-30T12:12:57.364578Z"
    },
    "papermill": {
     "duration": 0.034526,
     "end_time": "2021-12-30T12:12:57.364692",
     "exception": false,
     "start_time": "2021-12-30T12:12:57.330166",
     "status": "completed"
    },
    "tags": []
   },
   "outputs": [],
   "source": [
    "#hide\n",
    "# g = g.rename(columns= {'continent':'group','country':'name','cases':'value'})"
   ]
  },
  {
   "cell_type": "code",
   "execution_count": 36,
   "id": "fleet-motorcycle",
   "metadata": {
    "execution": {
     "iopub.execute_input": "2021-12-30T12:12:57.427421Z",
     "iopub.status.busy": "2021-12-30T12:12:57.426854Z",
     "iopub.status.idle": "2021-12-30T12:12:57.431337Z",
     "shell.execute_reply": "2021-12-30T12:12:57.430859Z"
    },
    "papermill": {
     "duration": 0.0368,
     "end_time": "2021-12-30T12:12:57.431448",
     "exception": false,
     "start_time": "2021-12-30T12:12:57.394648",
     "status": "completed"
    },
    "tags": []
   },
   "outputs": [],
   "source": [
    "#hide\n",
    "# cols = ['name','group','day','value']"
   ]
  },
  {
   "cell_type": "code",
   "execution_count": 37,
   "id": "continued-sleeping",
   "metadata": {
    "execution": {
     "iopub.execute_input": "2021-12-30T12:12:57.494930Z",
     "iopub.status.busy": "2021-12-30T12:12:57.494355Z",
     "iopub.status.idle": "2021-12-30T12:12:57.496553Z",
     "shell.execute_reply": "2021-12-30T12:12:57.495946Z"
    },
    "papermill": {
     "duration": 0.034687,
     "end_time": "2021-12-30T12:12:57.496667",
     "exception": false,
     "start_time": "2021-12-30T12:12:57.461980",
     "status": "completed"
    },
    "tags": []
   },
   "outputs": [],
   "source": [
    "#hide\n",
    "# g.rename(columns= {'date':'day'},inplace = True)"
   ]
  },
  {
   "cell_type": "code",
   "execution_count": 38,
   "id": "major-fight",
   "metadata": {
    "execution": {
     "iopub.execute_input": "2021-12-30T12:12:57.559768Z",
     "iopub.status.busy": "2021-12-30T12:12:57.559195Z",
     "iopub.status.idle": "2021-12-30T12:12:57.561267Z",
     "shell.execute_reply": "2021-12-30T12:12:57.560706Z"
    },
    "papermill": {
     "duration": 0.034532,
     "end_time": "2021-12-30T12:12:57.561379",
     "exception": false,
     "start_time": "2021-12-30T12:12:57.526847",
     "status": "completed"
    },
    "tags": []
   },
   "outputs": [],
   "source": [
    "#hide\n",
    "# g = g[cols]"
   ]
  },
  {
   "cell_type": "code",
   "execution_count": 39,
   "id": "structured-mobile",
   "metadata": {
    "execution": {
     "iopub.execute_input": "2021-12-30T12:12:57.625171Z",
     "iopub.status.busy": "2021-12-30T12:12:57.624590Z",
     "iopub.status.idle": "2021-12-30T12:12:57.626644Z",
     "shell.execute_reply": "2021-12-30T12:12:57.626080Z"
    },
    "papermill": {
     "duration": 0.034589,
     "end_time": "2021-12-30T12:12:57.626755",
     "exception": false,
     "start_time": "2021-12-30T12:12:57.592166",
     "status": "completed"
    },
    "tags": []
   },
   "outputs": [],
   "source": [
    "# #hide\n",
    "# g = g[g.group.notna()]"
   ]
  },
  {
   "cell_type": "code",
   "execution_count": 40,
   "id": "determined-closing",
   "metadata": {
    "execution": {
     "iopub.execute_input": "2021-12-30T12:12:57.690261Z",
     "iopub.status.busy": "2021-12-30T12:12:57.689736Z",
     "iopub.status.idle": "2021-12-30T12:12:57.691647Z",
     "shell.execute_reply": "2021-12-30T12:12:57.691154Z"
    },
    "papermill": {
     "duration": 0.034567,
     "end_time": "2021-12-30T12:12:57.691745",
     "exception": false,
     "start_time": "2021-12-30T12:12:57.657178",
     "status": "completed"
    },
    "tags": []
   },
   "outputs": [],
   "source": [
    "# #hide\n",
    "# colors = dict(zip(\n",
    "#     [\"Oceania\", \"Europe\", \"Asia\", \"South America\", \"Middle East\", \"North America\", \"Africa\"],\n",
    "#     [\"#adb0ff\", \"#ffb3ff\", \"#90d595\", \"#e48381\", \"#aafbff\", \"#f7bb5f\", \"#eafb50\"]\n",
    "# ))\n",
    "# group_lk = g.set_index('name')['group'].to_dict()"
   ]
  },
  {
   "cell_type": "code",
   "execution_count": null,
   "id": "gross-drinking",
   "metadata": {
    "papermill": {
     "duration": 0.029657,
     "end_time": "2021-12-30T12:12:57.751142",
     "exception": false,
     "start_time": "2021-12-30T12:12:57.721485",
     "status": "completed"
    },
    "tags": []
   },
   "outputs": [],
   "source": []
  },
  {
   "cell_type": "code",
   "execution_count": 41,
   "id": "subject-macintosh",
   "metadata": {
    "execution": {
     "iopub.execute_input": "2021-12-30T12:12:57.814852Z",
     "iopub.status.busy": "2021-12-30T12:12:57.814328Z",
     "iopub.status.idle": "2021-12-30T12:12:57.816104Z",
     "shell.execute_reply": "2021-12-30T12:12:57.816487Z"
    },
    "papermill": {
     "duration": 0.035542,
     "end_time": "2021-12-30T12:12:57.816610",
     "exception": false,
     "start_time": "2021-12-30T12:12:57.781068",
     "status": "completed"
    },
    "tags": []
   },
   "outputs": [],
   "source": [
    "# #hide\n",
    "# fig, ax = plt.subplots(figsize=(15, 8))\n",
    "\n",
    "# def draw_barchart(current_day):\n",
    "#     dff = g[g['day'].eq(current_day)].sort_values(by='value', ascending=True).tail(10)\n",
    "#     ax.clear()\n",
    "#     ax.barh(dff['name'], dff['value'], color=[colors[group_lk[x]] for x in dff['name']])\n",
    "#     dx = dff['value'].max() / 200\n",
    "    \n",
    "#     for i, (value, name) in enumerate(zip(dff['value'], dff['name'])):\n",
    "#         ax.text(value-dx, i,     name,           size=14, weight=600, ha='right', va='bottom')\n",
    "#         ax.text(value-dx, i-.25, group_lk[name], size=10, color='#444444', ha='right', va='baseline')\n",
    "#         ax.text(value+dx, i,     f'{value:,.0f}',  size=14, ha='left',  va='center')\n",
    "#     ax.text(1, 0.4, current_day, transform=ax.transAxes, color='#777777', size=46, ha='right', weight=800)\n",
    "#     ax.text(0, 1.06, 'Population (thousands)', transform=ax.transAxes, size=12, color='#777777')\n",
    "#     ax.xaxis.set_major_formatter(ticker.StrMethodFormatter('{x:,.0f}'))\n",
    "#     ax.xaxis.set_ticks_position('top')\n",
    "#     ax.tick_params(axis='x', colors='#777777', labelsize=12)\n",
    "#     ax.set_yticks([])\n",
    "#     ax.margins(0, 0.01)\n",
    "#     ax.grid(which='major', axis='x', linestyle='-')\n",
    "#     ax.set_axisbelow(True)\n",
    "    \n",
    "#     ax.text(0, 1.15, 'Coronavirus',\n",
    "#             transform=ax.transAxes, size=24, weight=600, ha='left', va='top')\n",
    "# #     ax.text(1, 0, 'by @pratapvardhan; credit @jburnmurdoch', transform=ax.transAxes, color='#777777', ha='right',\n",
    "# #             bbox=dict(facecolor='white', alpha=0.8, edgecolor='white'))\n",
    "#     plt.box(False)"
   ]
  },
  {
   "cell_type": "code",
   "execution_count": 42,
   "id": "sexual-wages",
   "metadata": {
    "execution": {
     "iopub.execute_input": "2021-12-30T12:12:57.879613Z",
     "iopub.status.busy": "2021-12-30T12:12:57.879034Z",
     "iopub.status.idle": "2021-12-30T12:12:57.882293Z",
     "shell.execute_reply": "2021-12-30T12:12:57.882726Z"
    },
    "papermill": {
     "duration": 0.036466,
     "end_time": "2021-12-30T12:12:57.882863",
     "exception": false,
     "start_time": "2021-12-30T12:12:57.846397",
     "status": "completed"
    },
    "tags": []
   },
   "outputs": [],
   "source": [
    "# #hide_input\n",
    "# fig, ax = plt.subplots(figsize=(15, 8))\n",
    "# animator = animation.FuncAnimation(fig, draw_barchart, frames=range(g.day.values.min(), g.day.values.max()))\n",
    "# HTML(animator.to_jshtml())\n",
    "# # or use animator.to_html5_video() or animator.save() "
   ]
  },
  {
   "cell_type": "code",
   "execution_count": null,
   "id": "australian-container",
   "metadata": {
    "papermill": {
     "duration": 0.029729,
     "end_time": "2021-12-30T12:12:57.942619",
     "exception": false,
     "start_time": "2021-12-30T12:12:57.912890",
     "status": "completed"
    },
    "tags": []
   },
   "outputs": [],
   "source": []
  },
  {
   "cell_type": "code",
   "execution_count": null,
   "id": "mediterranean-pontiac",
   "metadata": {
    "papermill": {
     "duration": 0.029671,
     "end_time": "2021-12-30T12:12:58.002728",
     "exception": false,
     "start_time": "2021-12-30T12:12:57.973057",
     "status": "completed"
    },
    "tags": []
   },
   "outputs": [],
   "source": []
  },
  {
   "cell_type": "code",
   "execution_count": null,
   "id": "aging-legislature",
   "metadata": {
    "papermill": {
     "duration": 0.029804,
     "end_time": "2021-12-30T12:12:58.062502",
     "exception": false,
     "start_time": "2021-12-30T12:12:58.032698",
     "status": "completed"
    },
    "tags": []
   },
   "outputs": [],
   "source": []
  }
 ],
 "metadata": {
  "kernelspec": {
   "display_name": "Python 3",
   "language": "python",
   "name": "python3"
  },
  "language_info": {
   "codemirror_mode": {
    "name": "ipython",
    "version": 3
   },
   "file_extension": ".py",
   "mimetype": "text/x-python",
   "name": "python",
   "nbconvert_exporter": "python",
   "pygments_lexer": "ipython3",
   "version": "3.6.15"
  },
  "papermill": {
   "duration": 5.649847,
   "end_time": "2021-12-30T12:12:58.399605",
   "environment_variables": {},
   "exception": null,
   "input_path": "2020-03-21-covid19exp.ipynb",
   "output_path": "2020-03-21-covid19exp.ipynb",
   "parameters": {},
   "start_time": "2021-12-30T12:12:52.749758",
   "version": "2.0.0"
  }
 },
 "nbformat": 4,
 "nbformat_minor": 5
}