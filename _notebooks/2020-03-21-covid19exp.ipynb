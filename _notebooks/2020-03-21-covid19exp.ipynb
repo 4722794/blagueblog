{
 "cells": [
  {
   "cell_type": "markdown",
   "id": "muslim-click",
   "metadata": {
    "papermill": {
     "duration": 0.039928,
     "end_time": "2021-08-14T12:10:34.890926",
     "exception": false,
     "start_time": "2021-08-14T12:10:34.850998",
     "status": "completed"
    },
    "tags": []
   },
   "source": [
    "# COVID-19 Case Race\n",
    "> A race chart to see rising cases around the world\n",
    "\n",
    "- author: Hargun Oberoi\n",
    "- image: images/covid-overview.png\n",
    "- hide: false\n",
    "- badges: false"
   ]
  },
  {
   "cell_type": "code",
   "execution_count": 1,
   "id": "proof-material",
   "metadata": {
    "execution": {
     "iopub.execute_input": "2021-08-14T12:10:34.972390Z",
     "iopub.status.busy": "2021-08-14T12:10:34.971185Z",
     "iopub.status.idle": "2021-08-14T12:10:35.330216Z",
     "shell.execute_reply": "2021-08-14T12:10:35.329612Z"
    },
    "papermill": {
     "duration": 0.406481,
     "end_time": "2021-08-14T12:10:35.330377",
     "exception": false,
     "start_time": "2021-08-14T12:10:34.923896",
     "status": "completed"
    },
    "tags": []
   },
   "outputs": [],
   "source": [
    "#hide\n",
    "import numpy as np\n",
    "import pandas as pd\n",
    "from jinja2 import Template\n",
    "from IPython.display import HTML"
   ]
  },
  {
   "cell_type": "code",
   "execution_count": 2,
   "id": "developed-terminology",
   "metadata": {
    "execution": {
     "iopub.execute_input": "2021-08-14T12:10:35.404352Z",
     "iopub.status.busy": "2021-08-14T12:10:35.402617Z",
     "iopub.status.idle": "2021-08-14T12:10:35.404998Z",
     "shell.execute_reply": "2021-08-14T12:10:35.405458Z"
    },
    "papermill": {
     "duration": 0.039671,
     "end_time": "2021-08-14T12:10:35.405591",
     "exception": false,
     "start_time": "2021-08-14T12:10:35.365920",
     "status": "completed"
    },
    "tags": []
   },
   "outputs": [],
   "source": [
    "#hide\n",
    "\n",
    "# FETCH\n",
    "base_url = 'https://raw.githubusercontent.com/pratapvardhan/notebooks/master/covid19/'\n",
    "paths = {\n",
    "    'mapping': base_url + 'mapping_countries.csv',\n",
    "    'overview': base_url + 'overview.tpl'\n",
    "}"
   ]
  },
  {
   "cell_type": "code",
   "execution_count": 3,
   "id": "dynamic-saver",
   "metadata": {
    "execution": {
     "iopub.execute_input": "2021-08-14T12:10:35.481608Z",
     "iopub.status.busy": "2021-08-14T12:10:35.481048Z",
     "iopub.status.idle": "2021-08-14T12:10:35.484148Z",
     "shell.execute_reply": "2021-08-14T12:10:35.483590Z"
    },
    "papermill": {
     "duration": 0.045638,
     "end_time": "2021-08-14T12:10:35.484267",
     "exception": false,
     "start_time": "2021-08-14T12:10:35.438629",
     "status": "completed"
    },
    "tags": []
   },
   "outputs": [
    {
     "data": {
      "text/plain": [
       "'https://raw.githubusercontent.com/pratapvardhan/notebooks/master/covid19/mapping_countries.csv'"
      ]
     },
     "execution_count": 3,
     "metadata": {},
     "output_type": "execute_result"
    }
   ],
   "source": [
    "#hide\n",
    "paths['mapping']"
   ]
  },
  {
   "cell_type": "code",
   "execution_count": 4,
   "id": "urban-software",
   "metadata": {
    "execution": {
     "iopub.execute_input": "2021-08-14T12:10:35.557043Z",
     "iopub.status.busy": "2021-08-14T12:10:35.556502Z",
     "iopub.status.idle": "2021-08-14T12:10:35.558837Z",
     "shell.execute_reply": "2021-08-14T12:10:35.559303Z"
    },
    "papermill": {
     "duration": 0.043096,
     "end_time": "2021-08-14T12:10:35.559434",
     "exception": false,
     "start_time": "2021-08-14T12:10:35.516338",
     "status": "completed"
    },
    "tags": []
   },
   "outputs": [],
   "source": [
    "#hide\n",
    "def get_mappings(url):\n",
    "    df = pd.read_csv(url)\n",
    "    return {\n",
    "        'df': df,\n",
    "        'replace.country': dict(df.dropna(subset=['Name']).set_index('Country')['Name']),\n",
    "        'map.continent': dict(df.set_index('Name')['Continent'])\n",
    "    }"
   ]
  },
  {
   "cell_type": "code",
   "execution_count": 5,
   "id": "intimate-machinery",
   "metadata": {
    "execution": {
     "iopub.execute_input": "2021-08-14T12:10:35.631147Z",
     "iopub.status.busy": "2021-08-14T12:10:35.630589Z",
     "iopub.status.idle": "2021-08-14T12:10:35.693034Z",
     "shell.execute_reply": "2021-08-14T12:10:35.692400Z"
    },
    "papermill": {
     "duration": 0.101943,
     "end_time": "2021-08-14T12:10:35.693140",
     "exception": false,
     "start_time": "2021-08-14T12:10:35.591197",
     "status": "completed"
    },
    "tags": []
   },
   "outputs": [],
   "source": [
    "#hide\n",
    "mapping = get_mappings(paths['mapping'])"
   ]
  },
  {
   "cell_type": "code",
   "execution_count": 6,
   "id": "certified-tactics",
   "metadata": {
    "execution": {
     "iopub.execute_input": "2021-08-14T12:10:35.766306Z",
     "iopub.status.busy": "2021-08-14T12:10:35.765725Z",
     "iopub.status.idle": "2021-08-14T12:10:35.767999Z",
     "shell.execute_reply": "2021-08-14T12:10:35.767439Z"
    },
    "papermill": {
     "duration": 0.04144,
     "end_time": "2021-08-14T12:10:35.768118",
     "exception": false,
     "start_time": "2021-08-14T12:10:35.726678",
     "status": "completed"
    },
    "tags": []
   },
   "outputs": [],
   "source": [
    "#hide\n",
    "def get_template(path):\n",
    "    from urllib.parse import urlparse\n",
    "    if bool(urlparse(path).netloc):\n",
    "        from urllib.request import urlopen\n",
    "        return urlopen(path).read().decode('utf8')\n",
    "    return open(path).read()"
   ]
  },
  {
   "cell_type": "code",
   "execution_count": 7,
   "id": "realistic-blast",
   "metadata": {
    "execution": {
     "iopub.execute_input": "2021-08-14T12:10:35.838415Z",
     "iopub.status.busy": "2021-08-14T12:10:35.837881Z",
     "iopub.status.idle": "2021-08-14T12:10:35.840247Z",
     "shell.execute_reply": "2021-08-14T12:10:35.839759Z"
    },
    "papermill": {
     "duration": 0.039944,
     "end_time": "2021-08-14T12:10:35.840352",
     "exception": false,
     "start_time": "2021-08-14T12:10:35.800408",
     "status": "completed"
    },
    "tags": []
   },
   "outputs": [],
   "source": [
    "#hide\n",
    "def get_frame(name):\n",
    "    url = (\n",
    "        'https://raw.githubusercontent.com/CSSEGISandData/COVID-19/master/csse_covid_19_data/'\n",
    "        f'csse_covid_19_time_series/time_series_covid19_{name}_global.csv')\n",
    "    df = pd.read_csv(url)\n",
    "    # rename countries\n",
    "    df['Country/Region'] = df['Country/Region'].replace(mapping['replace.country'])\n",
    "    return df"
   ]
  },
  {
   "cell_type": "code",
   "execution_count": 8,
   "id": "affiliated-characterization",
   "metadata": {
    "execution": {
     "iopub.execute_input": "2021-08-14T12:10:35.913555Z",
     "iopub.status.busy": "2021-08-14T12:10:35.913017Z",
     "iopub.status.idle": "2021-08-14T12:10:35.915460Z",
     "shell.execute_reply": "2021-08-14T12:10:35.915916Z"
    },
    "papermill": {
     "duration": 0.043307,
     "end_time": "2021-08-14T12:10:35.916038",
     "exception": false,
     "start_time": "2021-08-14T12:10:35.872731",
     "status": "completed"
    },
    "tags": []
   },
   "outputs": [],
   "source": [
    "#hide\n",
    "def get_dates(df):\n",
    "    dt_cols = df.columns[~df.columns.isin(['Province/State', 'Country/Region', 'Lat', 'Long'])]\n",
    "    LAST_DATE_I = -1\n",
    "    # sometimes last column may be empty, then go backwards\n",
    "    for i in range(-1, -len(dt_cols), -1):\n",
    "        if not df[dt_cols[i]].fillna(0).eq(0).all():\n",
    "            LAST_DATE_I = i\n",
    "            break\n",
    "    return LAST_DATE_I, dt_cols"
   ]
  },
  {
   "cell_type": "code",
   "execution_count": 9,
   "id": "recent-optimization",
   "metadata": {
    "execution": {
     "iopub.execute_input": "2021-08-14T12:10:35.986898Z",
     "iopub.status.busy": "2021-08-14T12:10:35.986233Z",
     "iopub.status.idle": "2021-08-14T12:10:36.515579Z",
     "shell.execute_reply": "2021-08-14T12:10:36.514952Z"
    },
    "papermill": {
     "duration": 0.56646,
     "end_time": "2021-08-14T12:10:36.515707",
     "exception": false,
     "start_time": "2021-08-14T12:10:35.949247",
     "status": "completed"
    },
    "tags": []
   },
   "outputs": [],
   "source": [
    "#hide\n",
    "COL_REGION = 'Country/Region'\n",
    "# Confirmed, Recovered, Deaths\n",
    "df = get_frame('confirmed')\n",
    "# dft_: timeseries, dfc_: today country agg\n",
    "dft_cases = df\n",
    "dft_deaths = get_frame('deaths')\n",
    "dft_recovered = get_frame('recovered')\n",
    "LAST_DATE_I, dt_cols = get_dates(df)"
   ]
  },
  {
   "cell_type": "code",
   "execution_count": 10,
   "id": "absolute-copper",
   "metadata": {
    "execution": {
     "iopub.execute_input": "2021-08-14T12:10:36.588963Z",
     "iopub.status.busy": "2021-08-14T12:10:36.588340Z",
     "iopub.status.idle": "2021-08-14T12:10:36.590677Z",
     "shell.execute_reply": "2021-08-14T12:10:36.590226Z"
    },
    "papermill": {
     "duration": 0.041159,
     "end_time": "2021-08-14T12:10:36.590807",
     "exception": false,
     "start_time": "2021-08-14T12:10:36.549648",
     "status": "completed"
    },
    "tags": []
   },
   "outputs": [],
   "source": [
    "#hide\n",
    "LAST_DATE_I, dt_cols = get_dates(df)\n",
    "dt_today =dt_cols[LAST_DATE_I]\n",
    "# dt_5day = dt_cols[LAST_DATE_I - 5]\n",
    "dt_yday = dt_cols[LAST_DATE_I - 1]"
   ]
  },
  {
   "cell_type": "code",
   "execution_count": 11,
   "id": "restricted-sheriff",
   "metadata": {
    "execution": {
     "iopub.execute_input": "2021-08-14T12:10:36.667669Z",
     "iopub.status.busy": "2021-08-14T12:10:36.667082Z",
     "iopub.status.idle": "2021-08-14T12:10:36.675127Z",
     "shell.execute_reply": "2021-08-14T12:10:36.674607Z"
    },
    "papermill": {
     "duration": 0.049001,
     "end_time": "2021-08-14T12:10:36.675247",
     "exception": false,
     "start_time": "2021-08-14T12:10:36.626246",
     "status": "completed"
    },
    "tags": []
   },
   "outputs": [],
   "source": [
    "#hide\n",
    "dfc_cases = dft_cases.groupby(COL_REGION)[dt_today].sum()\n",
    "dfc_deaths = dft_deaths.groupby(COL_REGION)[dt_today].sum()\n",
    "# dfp_cases = dft_cases.groupby(COL_REGION)[dt_5day].sum()\n",
    "# dfp_deaths = dft_deaths.groupby(COL_REGION)[dt_5day].sum()\n",
    "dfp_cases = dft_cases.groupby(COL_REGION)[dt_yday].sum()\n",
    "dfp_deaths = dft_deaths.groupby(COL_REGION)[dt_yday].sum()"
   ]
  },
  {
   "cell_type": "code",
   "execution_count": 12,
   "id": "deluxe-hepatitis",
   "metadata": {
    "execution": {
     "iopub.execute_input": "2021-08-14T12:10:36.751435Z",
     "iopub.status.busy": "2021-08-14T12:10:36.748498Z",
     "iopub.status.idle": "2021-08-14T12:10:36.757325Z",
     "shell.execute_reply": "2021-08-14T12:10:36.757762Z"
    },
    "papermill": {
     "duration": 0.049216,
     "end_time": "2021-08-14T12:10:36.757901",
     "exception": false,
     "start_time": "2021-08-14T12:10:36.708685",
     "status": "completed"
    },
    "tags": []
   },
   "outputs": [],
   "source": [
    "#hide\n",
    "df_table = (pd.DataFrame(dict(Cases = dfc_cases, Deaths = dfc_deaths, PCases = dfp_cases, PDeaths = dfp_deaths))\n",
    "            .sort_values(by = ['Cases','Deaths'], ascending = [False, False])\n",
    "            .reset_index())"
   ]
  },
  {
   "cell_type": "code",
   "execution_count": 13,
   "id": "educational-chancellor",
   "metadata": {
    "execution": {
     "iopub.execute_input": "2021-08-14T12:10:36.842087Z",
     "iopub.status.busy": "2021-08-14T12:10:36.841499Z",
     "iopub.status.idle": "2021-08-14T12:10:36.850568Z",
     "shell.execute_reply": "2021-08-14T12:10:36.850090Z"
    },
    "papermill": {
     "duration": 0.060014,
     "end_time": "2021-08-14T12:10:36.850692",
     "exception": false,
     "start_time": "2021-08-14T12:10:36.790678",
     "status": "completed"
    },
    "tags": []
   },
   "outputs": [
    {
     "data": {
      "text/html": [
       "<div>\n",
       "<style scoped>\n",
       "    .dataframe tbody tr th:only-of-type {\n",
       "        vertical-align: middle;\n",
       "    }\n",
       "\n",
       "    .dataframe tbody tr th {\n",
       "        vertical-align: top;\n",
       "    }\n",
       "\n",
       "    .dataframe thead th {\n",
       "        text-align: right;\n",
       "    }\n",
       "</style>\n",
       "<table border=\"1\" class=\"dataframe\">\n",
       "  <thead>\n",
       "    <tr style=\"text-align: right;\">\n",
       "      <th></th>\n",
       "      <th>Country/Region</th>\n",
       "      <th>Cases</th>\n",
       "      <th>Deaths</th>\n",
       "      <th>PCases</th>\n",
       "      <th>PDeaths</th>\n",
       "      <th>Cases (+)</th>\n",
       "      <th>Deaths (+)</th>\n",
       "      <th>Fatality Rate</th>\n",
       "      <th>Continent</th>\n",
       "    </tr>\n",
       "  </thead>\n",
       "  <tbody>\n",
       "    <tr>\n",
       "      <th>0</th>\n",
       "      <td>US</td>\n",
       "      <td>36597564</td>\n",
       "      <td>621016</td>\n",
       "      <td>36306724</td>\n",
       "      <td>619093</td>\n",
       "      <td>290840</td>\n",
       "      <td>1923</td>\n",
       "      <td>1.70</td>\n",
       "      <td>North America</td>\n",
       "    </tr>\n",
       "    <tr>\n",
       "      <th>1</th>\n",
       "      <td>India</td>\n",
       "      <td>32156493</td>\n",
       "      <td>430732</td>\n",
       "      <td>32117826</td>\n",
       "      <td>430254</td>\n",
       "      <td>38667</td>\n",
       "      <td>478</td>\n",
       "      <td>1.34</td>\n",
       "      <td>Asia</td>\n",
       "    </tr>\n",
       "    <tr>\n",
       "      <th>2</th>\n",
       "      <td>Brazil</td>\n",
       "      <td>20319000</td>\n",
       "      <td>567862</td>\n",
       "      <td>20285067</td>\n",
       "      <td>566896</td>\n",
       "      <td>33933</td>\n",
       "      <td>966</td>\n",
       "      <td>2.79</td>\n",
       "      <td>South America</td>\n",
       "    </tr>\n",
       "    <tr>\n",
       "      <th>3</th>\n",
       "      <td>France</td>\n",
       "      <td>6471262</td>\n",
       "      <td>112705</td>\n",
       "      <td>6469753</td>\n",
       "      <td>112700</td>\n",
       "      <td>1509</td>\n",
       "      <td>5</td>\n",
       "      <td>1.74</td>\n",
       "      <td>Europe</td>\n",
       "    </tr>\n",
       "    <tr>\n",
       "      <th>4</th>\n",
       "      <td>Russia</td>\n",
       "      <td>6468890</td>\n",
       "      <td>165996</td>\n",
       "      <td>6447229</td>\n",
       "      <td>165201</td>\n",
       "      <td>21661</td>\n",
       "      <td>795</td>\n",
       "      <td>2.57</td>\n",
       "      <td>Europe</td>\n",
       "    </tr>\n",
       "  </tbody>\n",
       "</table>\n",
       "</div>"
      ],
      "text/plain": [
       "  Country/Region     Cases  Deaths    PCases  PDeaths  Cases (+)  Deaths (+)  \\\n",
       "0             US  36597564  621016  36306724   619093     290840        1923   \n",
       "1          India  32156493  430732  32117826   430254      38667         478   \n",
       "2         Brazil  20319000  567862  20285067   566896      33933         966   \n",
       "3         France   6471262  112705   6469753   112700       1509           5   \n",
       "4         Russia   6468890  165996   6447229   165201      21661         795   \n",
       "\n",
       "   Fatality Rate      Continent  \n",
       "0           1.70  North America  \n",
       "1           1.34           Asia  \n",
       "2           2.79  South America  \n",
       "3           1.74         Europe  \n",
       "4           2.57         Europe  "
      ]
     },
     "execution_count": 13,
     "metadata": {},
     "output_type": "execute_result"
    }
   ],
   "source": [
    "#hide\n",
    "for c in 'Cases, Deaths'.split(', '):\n",
    "    df_table[f'{c} (+)'] = (df_table[c] - df_table[f'P{c}']).clip(0)\n",
    "    #Clip ça veut dire, les chiffres negatif sont interdit\n",
    "df_table['Fatality Rate'] = (100* df_table['Deaths']/ df_table['Cases']).round(2)\n",
    "df_table['Continent'] = df_table['Country/Region'].map(mapping['map.continent'])\n",
    "df_table.head(5)"
   ]
  },
  {
   "cell_type": "code",
   "execution_count": 14,
   "id": "aboriginal-bulgaria",
   "metadata": {
    "execution": {
     "iopub.execute_input": "2021-08-14T12:10:36.923736Z",
     "iopub.status.busy": "2021-08-14T12:10:36.923063Z",
     "iopub.status.idle": "2021-08-14T12:10:36.924794Z",
     "shell.execute_reply": "2021-08-14T12:10:36.925317Z"
    },
    "papermill": {
     "duration": 0.040721,
     "end_time": "2021-08-14T12:10:36.925443",
     "exception": false,
     "start_time": "2021-08-14T12:10:36.884722",
     "status": "completed"
    },
    "tags": []
   },
   "outputs": [],
   "source": [
    "#hide\n",
    "#delete problematic countries from table\n",
    "df_table = df_table[~df_table['Country/Region'].isin(['Cape Verde', 'Cruise Ship', 'Kosovo'])]"
   ]
  },
  {
   "cell_type": "code",
   "execution_count": 15,
   "id": "fantastic-effect",
   "metadata": {
    "execution": {
     "iopub.execute_input": "2021-08-14T12:10:36.998105Z",
     "iopub.status.busy": "2021-08-14T12:10:36.997569Z",
     "iopub.status.idle": "2021-08-14T12:10:37.018950Z",
     "shell.execute_reply": "2021-08-14T12:10:37.018060Z"
    },
    "papermill": {
     "duration": 0.061777,
     "end_time": "2021-08-14T12:10:37.019148",
     "exception": false,
     "start_time": "2021-08-14T12:10:36.957371",
     "status": "completed"
    },
    "tags": []
   },
   "outputs": [
    {
     "data": {
      "text/html": [
       "<div>\n",
       "<style scoped>\n",
       "    .dataframe tbody tr th:only-of-type {\n",
       "        vertical-align: middle;\n",
       "    }\n",
       "\n",
       "    .dataframe tbody tr th {\n",
       "        vertical-align: top;\n",
       "    }\n",
       "\n",
       "    .dataframe thead th {\n",
       "        text-align: right;\n",
       "    }\n",
       "</style>\n",
       "<table border=\"1\" class=\"dataframe\">\n",
       "  <thead>\n",
       "    <tr style=\"text-align: right;\">\n",
       "      <th></th>\n",
       "      <th>Country/Region</th>\n",
       "      <th>Cases</th>\n",
       "      <th>Deaths</th>\n",
       "      <th>PCases</th>\n",
       "      <th>PDeaths</th>\n",
       "      <th>Cases (+)</th>\n",
       "      <th>Deaths (+)</th>\n",
       "      <th>Fatality Rate</th>\n",
       "      <th>Continent</th>\n",
       "    </tr>\n",
       "  </thead>\n",
       "  <tbody>\n",
       "    <tr>\n",
       "      <th>0</th>\n",
       "      <td>US</td>\n",
       "      <td>36597564</td>\n",
       "      <td>621016</td>\n",
       "      <td>36306724</td>\n",
       "      <td>619093</td>\n",
       "      <td>290840</td>\n",
       "      <td>1923</td>\n",
       "      <td>1.7</td>\n",
       "      <td>North America</td>\n",
       "    </tr>\n",
       "    <tr>\n",
       "      <th>1</th>\n",
       "      <td>India</td>\n",
       "      <td>32156493</td>\n",
       "      <td>430732</td>\n",
       "      <td>32117826</td>\n",
       "      <td>430254</td>\n",
       "      <td>38667</td>\n",
       "      <td>478</td>\n",
       "      <td>1.3</td>\n",
       "      <td>Asia</td>\n",
       "    </tr>\n",
       "    <tr>\n",
       "      <th>2</th>\n",
       "      <td>Brazil</td>\n",
       "      <td>20319000</td>\n",
       "      <td>567862</td>\n",
       "      <td>20285067</td>\n",
       "      <td>566896</td>\n",
       "      <td>33933</td>\n",
       "      <td>966</td>\n",
       "      <td>2.8</td>\n",
       "      <td>South America</td>\n",
       "    </tr>\n",
       "    <tr>\n",
       "      <th>3</th>\n",
       "      <td>France</td>\n",
       "      <td>6471262</td>\n",
       "      <td>112705</td>\n",
       "      <td>6469753</td>\n",
       "      <td>112700</td>\n",
       "      <td>1509</td>\n",
       "      <td>5</td>\n",
       "      <td>1.7</td>\n",
       "      <td>Europe</td>\n",
       "    </tr>\n",
       "    <tr>\n",
       "      <th>4</th>\n",
       "      <td>Russia</td>\n",
       "      <td>6468890</td>\n",
       "      <td>165996</td>\n",
       "      <td>6447229</td>\n",
       "      <td>165201</td>\n",
       "      <td>21661</td>\n",
       "      <td>795</td>\n",
       "      <td>2.6</td>\n",
       "      <td>Europe</td>\n",
       "    </tr>\n",
       "  </tbody>\n",
       "</table>\n",
       "</div>"
      ],
      "text/plain": [
       "  Country/Region     Cases  Deaths    PCases  PDeaths  Cases (+)  Deaths (+)  \\\n",
       "0             US  36597564  621016  36306724   619093     290840        1923   \n",
       "1          India  32156493  430732  32117826   430254      38667         478   \n",
       "2         Brazil  20319000  567862  20285067   566896      33933         966   \n",
       "3         France   6471262  112705   6469753   112700       1509           5   \n",
       "4         Russia   6468890  165996   6447229   165201      21661         795   \n",
       "\n",
       "   Fatality Rate      Continent  \n",
       "0            1.7  North America  \n",
       "1            1.3           Asia  \n",
       "2            2.8  South America  \n",
       "3            1.7         Europe  \n",
       "4            2.6         Europe  "
      ]
     },
     "execution_count": 15,
     "metadata": {},
     "output_type": "execute_result"
    }
   ],
   "source": [
    "#hide\n",
    "df_table = (pd.DataFrame(dict(Cases=dfc_cases, Deaths=dfc_deaths, PCases=dfp_cases, PDeaths=dfp_deaths))\n",
    "             .sort_values(by=['Cases', 'Deaths'], ascending=[False, False])\n",
    "             .reset_index())\n",
    "df_table.rename(columns={'index': 'Country/Region'}, inplace=True)\n",
    "for c in 'Cases, Deaths'.split(', '):\n",
    "    df_table[f'{c} (+)'] = (df_table[c] - df_table[f'P{c}']).clip(0)  # DATA BUG\n",
    "df_table['Fatality Rate'] = (100 * df_table['Deaths'] / df_table['Cases']).round(1)\n",
    "df_table['Continent'] = df_table['Country/Region'].map(mapping['map.continent'])\n",
    "df_table.head(5)"
   ]
  },
  {
   "cell_type": "code",
   "execution_count": 16,
   "id": "fewer-occasion",
   "metadata": {
    "execution": {
     "iopub.execute_input": "2021-08-14T12:10:37.094728Z",
     "iopub.status.busy": "2021-08-14T12:10:37.094151Z",
     "iopub.status.idle": "2021-08-14T12:10:37.096446Z",
     "shell.execute_reply": "2021-08-14T12:10:37.096883Z"
    },
    "papermill": {
     "duration": 0.043643,
     "end_time": "2021-08-14T12:10:37.097025",
     "exception": false,
     "start_time": "2021-08-14T12:10:37.053382",
     "status": "completed"
    },
    "tags": []
   },
   "outputs": [],
   "source": [
    "#hide\n",
    "#delete problematic countries from table\n",
    "df_table = df_table[~df_table['Country/Region'].isin(['Cape Verde', 'Cruise Ship', 'Kosovo'])]"
   ]
  },
  {
   "cell_type": "code",
   "execution_count": 17,
   "id": "related-center",
   "metadata": {
    "execution": {
     "iopub.execute_input": "2021-08-14T12:10:37.175585Z",
     "iopub.status.busy": "2021-08-14T12:10:37.175000Z",
     "iopub.status.idle": "2021-08-14T12:10:37.187998Z",
     "shell.execute_reply": "2021-08-14T12:10:37.187532Z"
    },
    "papermill": {
     "duration": 0.057966,
     "end_time": "2021-08-14T12:10:37.188114",
     "exception": false,
     "start_time": "2021-08-14T12:10:37.130148",
     "status": "completed"
    },
    "tags": []
   },
   "outputs": [],
   "source": [
    "#hide\n",
    "metrics = [df_table.columns[index] for index in [1,2,5,6]]\n",
    "# s_china = df_table[df_table['Country/Region'].eq('China')][metrics].sum().add_prefix('China ')\n",
    "s_us = df_table[df_table['Country/Region'].eq('US')][metrics].sum().add_prefix('US ')\n",
    "s_eu = df_table[df_table['Continent'].eq('Europe')][metrics].sum().add_prefix('EU ')\n",
    "s_ind = df_table[df_table['Country/Region'].eq('India')][metrics].sum().add_prefix('India ')\n",
    "summary = {'updated': pd.to_datetime(dt_today), 'since': pd.to_datetime(dt_yday)}\n",
    "summary = {'updated': pd.to_datetime(dt_today), 'since': pd.to_datetime(dt_yday)}\n",
    "summary = {**summary, **df_table[metrics].sum(), **s_ind, **s_us, **s_eu}"
   ]
  },
  {
   "cell_type": "code",
   "execution_count": 18,
   "id": "engaging-syndrome",
   "metadata": {
    "execution": {
     "iopub.execute_input": "2021-08-14T12:10:37.259719Z",
     "iopub.status.busy": "2021-08-14T12:10:37.259118Z",
     "iopub.status.idle": "2021-08-14T12:10:37.275134Z",
     "shell.execute_reply": "2021-08-14T12:10:37.274618Z"
    },
    "papermill": {
     "duration": 0.054965,
     "end_time": "2021-08-14T12:10:37.275249",
     "exception": false,
     "start_time": "2021-08-14T12:10:37.220284",
     "status": "completed"
    },
    "tags": []
   },
   "outputs": [],
   "source": [
    "#hide\n",
    "dft_ct_new_cases = dft_cases.groupby(COL_REGION)[dt_cols].sum().diff(axis=1).fillna(0).astype(int)"
   ]
  },
  {
   "cell_type": "code",
   "execution_count": 19,
   "id": "neutral-assignment",
   "metadata": {
    "execution": {
     "iopub.execute_input": "2021-08-14T12:10:37.347824Z",
     "iopub.status.busy": "2021-08-14T12:10:37.347286Z",
     "iopub.status.idle": "2021-08-14T12:10:37.349659Z",
     "shell.execute_reply": "2021-08-14T12:10:37.349094Z"
    },
    "papermill": {
     "duration": 0.04161,
     "end_time": "2021-08-14T12:10:37.349780",
     "exception": false,
     "start_time": "2021-08-14T12:10:37.308170",
     "status": "completed"
    },
    "tags": []
   },
   "outputs": [],
   "source": [
    "#hide\n",
    "everydaycases = dft_ct_new_cases.cumsum(axis=1)"
   ]
  },
  {
   "cell_type": "code",
   "execution_count": 20,
   "id": "parliamentary-calgary",
   "metadata": {
    "execution": {
     "iopub.execute_input": "2021-08-14T12:10:37.423404Z",
     "iopub.status.busy": "2021-08-14T12:10:37.422804Z",
     "iopub.status.idle": "2021-08-14T12:10:38.110416Z",
     "shell.execute_reply": "2021-08-14T12:10:38.109882Z"
    },
    "papermill": {
     "duration": 0.726428,
     "end_time": "2021-08-14T12:10:38.110539",
     "exception": false,
     "start_time": "2021-08-14T12:10:37.384111",
     "status": "completed"
    },
    "tags": []
   },
   "outputs": [],
   "source": [
    "#hide\n",
    "import pandas as pd\n",
    "import matplotlib.pyplot as plt\n",
    "import matplotlib.ticker as ticker\n",
    "import matplotlib.animation as animation\n",
    "from IPython.display import HTML"
   ]
  },
  {
   "cell_type": "code",
   "execution_count": 21,
   "id": "lasting-extraction",
   "metadata": {
    "execution": {
     "iopub.execute_input": "2021-08-14T12:10:38.186188Z",
     "iopub.status.busy": "2021-08-14T12:10:38.185445Z",
     "iopub.status.idle": "2021-08-14T12:10:38.190390Z",
     "shell.execute_reply": "2021-08-14T12:10:38.189841Z"
    },
    "papermill": {
     "duration": 0.044516,
     "end_time": "2021-08-14T12:10:38.190504",
     "exception": false,
     "start_time": "2021-08-14T12:10:38.145988",
     "status": "completed"
    },
    "tags": []
   },
   "outputs": [],
   "source": [
    "#hide\n",
    "t = everydaycases.stack()"
   ]
  },
  {
   "cell_type": "code",
   "execution_count": 22,
   "id": "premier-sleeve",
   "metadata": {
    "execution": {
     "iopub.execute_input": "2021-08-14T12:10:38.263901Z",
     "iopub.status.busy": "2021-08-14T12:10:38.263346Z",
     "iopub.status.idle": "2021-08-14T12:10:38.272893Z",
     "shell.execute_reply": "2021-08-14T12:10:38.272486Z"
    },
    "papermill": {
     "duration": 0.047681,
     "end_time": "2021-08-14T12:10:38.272991",
     "exception": false,
     "start_time": "2021-08-14T12:10:38.225310",
     "status": "completed"
    },
    "tags": []
   },
   "outputs": [],
   "source": [
    "#hide\n",
    "g = t.reset_index(['Country/Region'])"
   ]
  },
  {
   "cell_type": "code",
   "execution_count": 23,
   "id": "distributed-pittsburgh",
   "metadata": {
    "execution": {
     "iopub.execute_input": "2021-08-14T12:10:38.343353Z",
     "iopub.status.busy": "2021-08-14T12:10:38.342778Z",
     "iopub.status.idle": "2021-08-14T12:10:38.345613Z",
     "shell.execute_reply": "2021-08-14T12:10:38.345066Z"
    },
    "papermill": {
     "duration": 0.040876,
     "end_time": "2021-08-14T12:10:38.345739",
     "exception": false,
     "start_time": "2021-08-14T12:10:38.304863",
     "status": "completed"
    },
    "tags": []
   },
   "outputs": [],
   "source": [
    "#hide\n",
    "g.index.name = 'date'"
   ]
  },
  {
   "cell_type": "code",
   "execution_count": 24,
   "id": "naked-donor",
   "metadata": {
    "execution": {
     "iopub.execute_input": "2021-08-14T12:10:38.414809Z",
     "iopub.status.busy": "2021-08-14T12:10:38.414238Z",
     "iopub.status.idle": "2021-08-14T12:10:38.417060Z",
     "shell.execute_reply": "2021-08-14T12:10:38.417620Z"
    },
    "papermill": {
     "duration": 0.040007,
     "end_time": "2021-08-14T12:10:38.417756",
     "exception": false,
     "start_time": "2021-08-14T12:10:38.377749",
     "status": "completed"
    },
    "tags": []
   },
   "outputs": [],
   "source": [
    "# #hide\n",
    "# g = g.reset_index(['date'])"
   ]
  },
  {
   "cell_type": "code",
   "execution_count": 25,
   "id": "incomplete-mustang",
   "metadata": {
    "execution": {
     "iopub.execute_input": "2021-08-14T12:10:38.488955Z",
     "iopub.status.busy": "2021-08-14T12:10:38.488283Z",
     "iopub.status.idle": "2021-08-14T12:10:38.490796Z",
     "shell.execute_reply": "2021-08-14T12:10:38.491299Z"
    },
    "papermill": {
     "duration": 0.040463,
     "end_time": "2021-08-14T12:10:38.491437",
     "exception": false,
     "start_time": "2021-08-14T12:10:38.450974",
     "status": "completed"
    },
    "tags": []
   },
   "outputs": [],
   "source": [
    "#hide\n",
    "# g.head()"
   ]
  },
  {
   "cell_type": "code",
   "execution_count": 26,
   "id": "specific-kruger",
   "metadata": {
    "execution": {
     "iopub.execute_input": "2021-08-14T12:10:38.564017Z",
     "iopub.status.busy": "2021-08-14T12:10:38.563441Z",
     "iopub.status.idle": "2021-08-14T12:10:38.565306Z",
     "shell.execute_reply": "2021-08-14T12:10:38.565840Z"
    },
    "papermill": {
     "duration": 0.040619,
     "end_time": "2021-08-14T12:10:38.565977",
     "exception": false,
     "start_time": "2021-08-14T12:10:38.525358",
     "status": "completed"
    },
    "tags": []
   },
   "outputs": [],
   "source": [
    "#hide\n",
    "# g.columns = ['date','country','cases']"
   ]
  },
  {
   "cell_type": "code",
   "execution_count": 27,
   "id": "tender-conversion",
   "metadata": {
    "execution": {
     "iopub.execute_input": "2021-08-14T12:10:38.636589Z",
     "iopub.status.busy": "2021-08-14T12:10:38.636058Z",
     "iopub.status.idle": "2021-08-14T12:10:38.638354Z",
     "shell.execute_reply": "2021-08-14T12:10:38.638922Z"
    },
    "papermill": {
     "duration": 0.039565,
     "end_time": "2021-08-14T12:10:38.639244",
     "exception": false,
     "start_time": "2021-08-14T12:10:38.599679",
     "status": "completed"
    },
    "tags": []
   },
   "outputs": [],
   "source": [
    "#hide\n",
    "# g['continent'] = g.country"
   ]
  },
  {
   "cell_type": "code",
   "execution_count": 28,
   "id": "substantial-wilderness",
   "metadata": {
    "execution": {
     "iopub.execute_input": "2021-08-14T12:10:38.714638Z",
     "iopub.status.busy": "2021-08-14T12:10:38.714085Z",
     "iopub.status.idle": "2021-08-14T12:10:38.716570Z",
     "shell.execute_reply": "2021-08-14T12:10:38.716069Z"
    },
    "papermill": {
     "duration": 0.044898,
     "end_time": "2021-08-14T12:10:38.716674",
     "exception": false,
     "start_time": "2021-08-14T12:10:38.671776",
     "status": "completed"
    },
    "tags": []
   },
   "outputs": [],
   "source": [
    "#hide\n",
    "# cols = list(g.columns.values)"
   ]
  },
  {
   "cell_type": "code",
   "execution_count": 29,
   "id": "solved-farming",
   "metadata": {
    "execution": {
     "iopub.execute_input": "2021-08-14T12:10:38.785664Z",
     "iopub.status.busy": "2021-08-14T12:10:38.785093Z",
     "iopub.status.idle": "2021-08-14T12:10:38.786822Z",
     "shell.execute_reply": "2021-08-14T12:10:38.787285Z"
    },
    "papermill": {
     "duration": 0.038942,
     "end_time": "2021-08-14T12:10:38.787404",
     "exception": false,
     "start_time": "2021-08-14T12:10:38.748462",
     "status": "completed"
    },
    "tags": []
   },
   "outputs": [],
   "source": [
    "#hide\n",
    "# cols.insert(0, cols.pop())"
   ]
  },
  {
   "cell_type": "code",
   "execution_count": 30,
   "id": "executed-adoption",
   "metadata": {
    "execution": {
     "iopub.execute_input": "2021-08-14T12:10:38.855412Z",
     "iopub.status.busy": "2021-08-14T12:10:38.854848Z",
     "iopub.status.idle": "2021-08-14T12:10:38.857066Z",
     "shell.execute_reply": "2021-08-14T12:10:38.857489Z"
    },
    "papermill": {
     "duration": 0.03771,
     "end_time": "2021-08-14T12:10:38.857605",
     "exception": false,
     "start_time": "2021-08-14T12:10:38.819895",
     "status": "completed"
    },
    "tags": []
   },
   "outputs": [],
   "source": [
    "#hide\n",
    "# g = g[cols]"
   ]
  },
  {
   "cell_type": "code",
   "execution_count": 31,
   "id": "subject-dublin",
   "metadata": {
    "execution": {
     "iopub.execute_input": "2021-08-14T12:10:38.927524Z",
     "iopub.status.busy": "2021-08-14T12:10:38.926929Z",
     "iopub.status.idle": "2021-08-14T12:10:38.928626Z",
     "shell.execute_reply": "2021-08-14T12:10:38.929125Z"
    },
    "papermill": {
     "duration": 0.03933,
     "end_time": "2021-08-14T12:10:38.929245",
     "exception": false,
     "start_time": "2021-08-14T12:10:38.889915",
     "status": "completed"
    },
    "tags": []
   },
   "outputs": [],
   "source": [
    "#hide\n",
    "# g['continent'] = g['continent'].map(mapping['map.continent'])"
   ]
  },
  {
   "cell_type": "code",
   "execution_count": 32,
   "id": "freelance-scout",
   "metadata": {
    "execution": {
     "iopub.execute_input": "2021-08-14T12:10:39.000960Z",
     "iopub.status.busy": "2021-08-14T12:10:39.000385Z",
     "iopub.status.idle": "2021-08-14T12:10:39.002667Z",
     "shell.execute_reply": "2021-08-14T12:10:39.003205Z"
    },
    "papermill": {
     "duration": 0.040714,
     "end_time": "2021-08-14T12:10:39.003326",
     "exception": false,
     "start_time": "2021-08-14T12:10:38.962612",
     "status": "completed"
    },
    "tags": []
   },
   "outputs": [],
   "source": [
    "#hide\n",
    "# g.head()"
   ]
  },
  {
   "cell_type": "code",
   "execution_count": 33,
   "id": "limited-engine",
   "metadata": {
    "execution": {
     "iopub.execute_input": "2021-08-14T12:10:39.074705Z",
     "iopub.status.busy": "2021-08-14T12:10:39.074133Z",
     "iopub.status.idle": "2021-08-14T12:10:39.076741Z",
     "shell.execute_reply": "2021-08-14T12:10:39.077255Z"
    },
    "papermill": {
     "duration": 0.041927,
     "end_time": "2021-08-14T12:10:39.077380",
     "exception": false,
     "start_time": "2021-08-14T12:10:39.035453",
     "status": "completed"
    },
    "tags": []
   },
   "outputs": [],
   "source": [
    "# hide\n",
    "# g['date'] = g['date'].astype('datetime64[ns]')"
   ]
  },
  {
   "cell_type": "code",
   "execution_count": 34,
   "id": "sophisticated-supervisor",
   "metadata": {
    "execution": {
     "iopub.execute_input": "2021-08-14T12:10:39.148024Z",
     "iopub.status.busy": "2021-08-14T12:10:39.147487Z",
     "iopub.status.idle": "2021-08-14T12:10:39.150367Z",
     "shell.execute_reply": "2021-08-14T12:10:39.149874Z"
    },
    "papermill": {
     "duration": 0.04094,
     "end_time": "2021-08-14T12:10:39.150480",
     "exception": false,
     "start_time": "2021-08-14T12:10:39.109540",
     "status": "completed"
    },
    "tags": []
   },
   "outputs": [],
   "source": [
    "#hide\n",
    "# g['date'] = g.date.dt.dayofyear"
   ]
  },
  {
   "cell_type": "code",
   "execution_count": 35,
   "id": "inside-dubai",
   "metadata": {
    "execution": {
     "iopub.execute_input": "2021-08-14T12:10:39.222021Z",
     "iopub.status.busy": "2021-08-14T12:10:39.221486Z",
     "iopub.status.idle": "2021-08-14T12:10:39.223744Z",
     "shell.execute_reply": "2021-08-14T12:10:39.223310Z"
    },
    "papermill": {
     "duration": 0.038523,
     "end_time": "2021-08-14T12:10:39.223854",
     "exception": false,
     "start_time": "2021-08-14T12:10:39.185331",
     "status": "completed"
    },
    "tags": []
   },
   "outputs": [],
   "source": [
    "#hide\n",
    "# g = g.rename(columns= {'continent':'group','country':'name','cases':'value'})"
   ]
  },
  {
   "cell_type": "code",
   "execution_count": 36,
   "id": "fleet-motorcycle",
   "metadata": {
    "execution": {
     "iopub.execute_input": "2021-08-14T12:10:39.296618Z",
     "iopub.status.busy": "2021-08-14T12:10:39.296039Z",
     "iopub.status.idle": "2021-08-14T12:10:39.298550Z",
     "shell.execute_reply": "2021-08-14T12:10:39.299139Z"
    },
    "papermill": {
     "duration": 0.042863,
     "end_time": "2021-08-14T12:10:39.299270",
     "exception": false,
     "start_time": "2021-08-14T12:10:39.256407",
     "status": "completed"
    },
    "tags": []
   },
   "outputs": [],
   "source": [
    "#hide\n",
    "# cols = ['name','group','day','value']"
   ]
  },
  {
   "cell_type": "code",
   "execution_count": 37,
   "id": "continued-sleeping",
   "metadata": {
    "execution": {
     "iopub.execute_input": "2021-08-14T12:10:39.369420Z",
     "iopub.status.busy": "2021-08-14T12:10:39.368690Z",
     "iopub.status.idle": "2021-08-14T12:10:39.371467Z",
     "shell.execute_reply": "2021-08-14T12:10:39.372025Z"
    },
    "papermill": {
     "duration": 0.040034,
     "end_time": "2021-08-14T12:10:39.372157",
     "exception": false,
     "start_time": "2021-08-14T12:10:39.332123",
     "status": "completed"
    },
    "tags": []
   },
   "outputs": [],
   "source": [
    "#hide\n",
    "# g.rename(columns= {'date':'day'},inplace = True)"
   ]
  },
  {
   "cell_type": "code",
   "execution_count": 38,
   "id": "major-fight",
   "metadata": {
    "execution": {
     "iopub.execute_input": "2021-08-14T12:10:39.443409Z",
     "iopub.status.busy": "2021-08-14T12:10:39.442821Z",
     "iopub.status.idle": "2021-08-14T12:10:39.445405Z",
     "shell.execute_reply": "2021-08-14T12:10:39.444918Z"
    },
    "papermill": {
     "duration": 0.040081,
     "end_time": "2021-08-14T12:10:39.445517",
     "exception": false,
     "start_time": "2021-08-14T12:10:39.405436",
     "status": "completed"
    },
    "tags": []
   },
   "outputs": [],
   "source": [
    "#hide\n",
    "# g = g[cols]"
   ]
  },
  {
   "cell_type": "code",
   "execution_count": 39,
   "id": "structured-mobile",
   "metadata": {
    "execution": {
     "iopub.execute_input": "2021-08-14T12:10:39.514206Z",
     "iopub.status.busy": "2021-08-14T12:10:39.513652Z",
     "iopub.status.idle": "2021-08-14T12:10:39.516148Z",
     "shell.execute_reply": "2021-08-14T12:10:39.515660Z"
    },
    "papermill": {
     "duration": 0.038237,
     "end_time": "2021-08-14T12:10:39.516252",
     "exception": false,
     "start_time": "2021-08-14T12:10:39.478015",
     "status": "completed"
    },
    "tags": []
   },
   "outputs": [],
   "source": [
    "# #hide\n",
    "# g = g[g.group.notna()]"
   ]
  },
  {
   "cell_type": "code",
   "execution_count": 40,
   "id": "determined-closing",
   "metadata": {
    "execution": {
     "iopub.execute_input": "2021-08-14T12:10:39.589997Z",
     "iopub.status.busy": "2021-08-14T12:10:39.589456Z",
     "iopub.status.idle": "2021-08-14T12:10:39.592040Z",
     "shell.execute_reply": "2021-08-14T12:10:39.591608Z"
    },
    "papermill": {
     "duration": 0.043388,
     "end_time": "2021-08-14T12:10:39.592294",
     "exception": false,
     "start_time": "2021-08-14T12:10:39.548906",
     "status": "completed"
    },
    "tags": []
   },
   "outputs": [],
   "source": [
    "# #hide\n",
    "# colors = dict(zip(\n",
    "#     [\"Oceania\", \"Europe\", \"Asia\", \"South America\", \"Middle East\", \"North America\", \"Africa\"],\n",
    "#     [\"#adb0ff\", \"#ffb3ff\", \"#90d595\", \"#e48381\", \"#aafbff\", \"#f7bb5f\", \"#eafb50\"]\n",
    "# ))\n",
    "# group_lk = g.set_index('name')['group'].to_dict()"
   ]
  },
  {
   "cell_type": "code",
   "execution_count": null,
   "id": "gross-drinking",
   "metadata": {
    "papermill": {
     "duration": 0.048327,
     "end_time": "2021-08-14T12:10:39.679107",
     "exception": false,
     "start_time": "2021-08-14T12:10:39.630780",
     "status": "completed"
    },
    "tags": []
   },
   "outputs": [],
   "source": []
  },
  {
   "cell_type": "code",
   "execution_count": 41,
   "id": "subject-macintosh",
   "metadata": {
    "execution": {
     "iopub.execute_input": "2021-08-14T12:10:39.761102Z",
     "iopub.status.busy": "2021-08-14T12:10:39.760480Z",
     "iopub.status.idle": "2021-08-14T12:10:39.762898Z",
     "shell.execute_reply": "2021-08-14T12:10:39.762297Z"
    },
    "papermill": {
     "duration": 0.04319,
     "end_time": "2021-08-14T12:10:39.763023",
     "exception": false,
     "start_time": "2021-08-14T12:10:39.719833",
     "status": "completed"
    },
    "tags": []
   },
   "outputs": [],
   "source": [
    "# #hide\n",
    "# fig, ax = plt.subplots(figsize=(15, 8))\n",
    "\n",
    "# def draw_barchart(current_day):\n",
    "#     dff = g[g['day'].eq(current_day)].sort_values(by='value', ascending=True).tail(10)\n",
    "#     ax.clear()\n",
    "#     ax.barh(dff['name'], dff['value'], color=[colors[group_lk[x]] for x in dff['name']])\n",
    "#     dx = dff['value'].max() / 200\n",
    "    \n",
    "#     for i, (value, name) in enumerate(zip(dff['value'], dff['name'])):\n",
    "#         ax.text(value-dx, i,     name,           size=14, weight=600, ha='right', va='bottom')\n",
    "#         ax.text(value-dx, i-.25, group_lk[name], size=10, color='#444444', ha='right', va='baseline')\n",
    "#         ax.text(value+dx, i,     f'{value:,.0f}',  size=14, ha='left',  va='center')\n",
    "#     ax.text(1, 0.4, current_day, transform=ax.transAxes, color='#777777', size=46, ha='right', weight=800)\n",
    "#     ax.text(0, 1.06, 'Population (thousands)', transform=ax.transAxes, size=12, color='#777777')\n",
    "#     ax.xaxis.set_major_formatter(ticker.StrMethodFormatter('{x:,.0f}'))\n",
    "#     ax.xaxis.set_ticks_position('top')\n",
    "#     ax.tick_params(axis='x', colors='#777777', labelsize=12)\n",
    "#     ax.set_yticks([])\n",
    "#     ax.margins(0, 0.01)\n",
    "#     ax.grid(which='major', axis='x', linestyle='-')\n",
    "#     ax.set_axisbelow(True)\n",
    "    \n",
    "#     ax.text(0, 1.15, 'Coronavirus',\n",
    "#             transform=ax.transAxes, size=24, weight=600, ha='left', va='top')\n",
    "# #     ax.text(1, 0, 'by @pratapvardhan; credit @jburnmurdoch', transform=ax.transAxes, color='#777777', ha='right',\n",
    "# #             bbox=dict(facecolor='white', alpha=0.8, edgecolor='white'))\n",
    "#     plt.box(False)"
   ]
  },
  {
   "cell_type": "code",
   "execution_count": 42,
   "id": "sexual-wages",
   "metadata": {
    "execution": {
     "iopub.execute_input": "2021-08-14T12:10:39.845707Z",
     "iopub.status.busy": "2021-08-14T12:10:39.845152Z",
     "iopub.status.idle": "2021-08-14T12:10:39.847628Z",
     "shell.execute_reply": "2021-08-14T12:10:39.848182Z"
    },
    "papermill": {
     "duration": 0.042086,
     "end_time": "2021-08-14T12:10:39.848306",
     "exception": false,
     "start_time": "2021-08-14T12:10:39.806220",
     "status": "completed"
    },
    "tags": []
   },
   "outputs": [],
   "source": [
    "# #hide_input\n",
    "# fig, ax = plt.subplots(figsize=(15, 8))\n",
    "# animator = animation.FuncAnimation(fig, draw_barchart, frames=range(g.day.values.min(), g.day.values.max()))\n",
    "# HTML(animator.to_jshtml())\n",
    "# # or use animator.to_html5_video() or animator.save() "
   ]
  },
  {
   "cell_type": "code",
   "execution_count": null,
   "id": "australian-container",
   "metadata": {
    "papermill": {
     "duration": 0.033224,
     "end_time": "2021-08-14T12:10:39.914823",
     "exception": false,
     "start_time": "2021-08-14T12:10:39.881599",
     "status": "completed"
    },
    "tags": []
   },
   "outputs": [],
   "source": []
  },
  {
   "cell_type": "code",
   "execution_count": null,
   "id": "mediterranean-pontiac",
   "metadata": {
    "papermill": {
     "duration": 0.033648,
     "end_time": "2021-08-14T12:10:39.982404",
     "exception": false,
     "start_time": "2021-08-14T12:10:39.948756",
     "status": "completed"
    },
    "tags": []
   },
   "outputs": [],
   "source": []
  },
  {
   "cell_type": "code",
   "execution_count": null,
   "id": "aging-legislature",
   "metadata": {
    "papermill": {
     "duration": 0.035276,
     "end_time": "2021-08-14T12:10:40.051645",
     "exception": false,
     "start_time": "2021-08-14T12:10:40.016369",
     "status": "completed"
    },
    "tags": []
   },
   "outputs": [],
   "source": []
  }
 ],
 "metadata": {
  "kernelspec": {
   "display_name": "Python 3",
   "language": "python",
   "name": "python3"
  },
  "language_info": {
   "codemirror_mode": {
    "name": "ipython",
    "version": 3
   },
   "file_extension": ".py",
   "mimetype": "text/x-python",
   "name": "python",
   "nbconvert_exporter": "python",
   "pygments_lexer": "ipython3",
   "version": "3.6.14"
  },
  "papermill": {
   "duration": 6.632491,
   "end_time": "2021-08-14T12:10:40.393135",
   "environment_variables": {},
   "exception": null,
   "input_path": "2020-03-21-covid19exp.ipynb",
   "output_path": "2020-03-21-covid19exp.ipynb",
   "parameters": {},
   "start_time": "2021-08-14T12:10:33.760644",
   "version": "2.0.0"
  }
 },
 "nbformat": 4,
 "nbformat_minor": 5
}