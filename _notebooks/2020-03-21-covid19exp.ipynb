{
 "cells": [
  {
   "cell_type": "markdown",
   "id": "muslim-click",
   "metadata": {
    "papermill": {
     "duration": 0.040231,
     "end_time": "2022-01-23T12:12:12.709592",
     "exception": false,
     "start_time": "2022-01-23T12:12:12.669361",
     "status": "completed"
    },
    "tags": []
   },
   "source": [
    "# COVID-19 Case Race\n",
    "> A race chart to see rising cases around the world\n",
    "\n",
    "- author: Hargun Oberoi\n",
    "- image: images/covid-overview.png\n",
    "- hide: false\n",
    "- badges: false"
   ]
  },
  {
   "cell_type": "code",
   "execution_count": 1,
   "id": "proof-material",
   "metadata": {
    "execution": {
     "iopub.execute_input": "2022-01-23T12:12:12.795695Z",
     "iopub.status.busy": "2022-01-23T12:12:12.790667Z",
     "iopub.status.idle": "2022-01-23T12:12:13.182637Z",
     "shell.execute_reply": "2022-01-23T12:12:13.182075Z"
    },
    "papermill": {
     "duration": 0.438335,
     "end_time": "2022-01-23T12:12:13.182806",
     "exception": false,
     "start_time": "2022-01-23T12:12:12.744471",
     "status": "completed"
    },
    "tags": []
   },
   "outputs": [],
   "source": [
    "#hide\n",
    "import numpy as np\n",
    "import pandas as pd\n",
    "from jinja2 import Template\n",
    "from IPython.display import HTML"
   ]
  },
  {
   "cell_type": "code",
   "execution_count": 2,
   "id": "developed-terminology",
   "metadata": {
    "execution": {
     "iopub.execute_input": "2022-01-23T12:12:13.261768Z",
     "iopub.status.busy": "2022-01-23T12:12:13.261100Z",
     "iopub.status.idle": "2022-01-23T12:12:13.263648Z",
     "shell.execute_reply": "2022-01-23T12:12:13.264221Z"
    },
    "papermill": {
     "duration": 0.044686,
     "end_time": "2022-01-23T12:12:13.264378",
     "exception": false,
     "start_time": "2022-01-23T12:12:13.219692",
     "status": "completed"
    },
    "tags": []
   },
   "outputs": [],
   "source": [
    "#hide\n",
    "\n",
    "# FETCH\n",
    "base_url = 'https://raw.githubusercontent.com/pratapvardhan/notebooks/master/covid19/'\n",
    "paths = {\n",
    "    'mapping': base_url + 'mapping_countries.csv',\n",
    "    'overview': base_url + 'overview.tpl'\n",
    "}"
   ]
  },
  {
   "cell_type": "code",
   "execution_count": 3,
   "id": "dynamic-saver",
   "metadata": {
    "execution": {
     "iopub.execute_input": "2022-01-23T12:12:13.343246Z",
     "iopub.status.busy": "2022-01-23T12:12:13.339085Z",
     "iopub.status.idle": "2022-01-23T12:12:13.347744Z",
     "shell.execute_reply": "2022-01-23T12:12:13.346891Z"
    },
    "papermill": {
     "duration": 0.050318,
     "end_time": "2022-01-23T12:12:13.347896",
     "exception": false,
     "start_time": "2022-01-23T12:12:13.297578",
     "status": "completed"
    },
    "tags": []
   },
   "outputs": [
    {
     "data": {
      "text/plain": [
       "'https://raw.githubusercontent.com/pratapvardhan/notebooks/master/covid19/mapping_countries.csv'"
      ]
     },
     "execution_count": 3,
     "metadata": {},
     "output_type": "execute_result"
    }
   ],
   "source": [
    "#hide\n",
    "paths['mapping']"
   ]
  },
  {
   "cell_type": "code",
   "execution_count": 4,
   "id": "urban-software",
   "metadata": {
    "execution": {
     "iopub.execute_input": "2022-01-23T12:12:13.426725Z",
     "iopub.status.busy": "2022-01-23T12:12:13.426093Z",
     "iopub.status.idle": "2022-01-23T12:12:13.428713Z",
     "shell.execute_reply": "2022-01-23T12:12:13.429311Z"
    },
    "papermill": {
     "duration": 0.045358,
     "end_time": "2022-01-23T12:12:13.429462",
     "exception": false,
     "start_time": "2022-01-23T12:12:13.384104",
     "status": "completed"
    },
    "tags": []
   },
   "outputs": [],
   "source": [
    "#hide\n",
    "def get_mappings(url):\n",
    "    df = pd.read_csv(url)\n",
    "    return {\n",
    "        'df': df,\n",
    "        'replace.country': dict(df.dropna(subset=['Name']).set_index('Country')['Name']),\n",
    "        'map.continent': dict(df.set_index('Name')['Continent'])\n",
    "    }"
   ]
  },
  {
   "cell_type": "code",
   "execution_count": 5,
   "id": "intimate-machinery",
   "metadata": {
    "execution": {
     "iopub.execute_input": "2022-01-23T12:12:13.506504Z",
     "iopub.status.busy": "2022-01-23T12:12:13.505880Z",
     "iopub.status.idle": "2022-01-23T12:12:13.533452Z",
     "shell.execute_reply": "2022-01-23T12:12:13.532932Z"
    },
    "papermill": {
     "duration": 0.068553,
     "end_time": "2022-01-23T12:12:13.533591",
     "exception": false,
     "start_time": "2022-01-23T12:12:13.465038",
     "status": "completed"
    },
    "tags": []
   },
   "outputs": [],
   "source": [
    "#hide\n",
    "mapping = get_mappings(paths['mapping'])"
   ]
  },
  {
   "cell_type": "code",
   "execution_count": 6,
   "id": "certified-tactics",
   "metadata": {
    "execution": {
     "iopub.execute_input": "2022-01-23T12:12:13.611246Z",
     "iopub.status.busy": "2022-01-23T12:12:13.610501Z",
     "iopub.status.idle": "2022-01-23T12:12:13.613490Z",
     "shell.execute_reply": "2022-01-23T12:12:13.614126Z"
    },
    "papermill": {
     "duration": 0.046097,
     "end_time": "2022-01-23T12:12:13.614285",
     "exception": false,
     "start_time": "2022-01-23T12:12:13.568188",
     "status": "completed"
    },
    "tags": []
   },
   "outputs": [],
   "source": [
    "#hide\n",
    "def get_template(path):\n",
    "    from urllib.parse import urlparse\n",
    "    if bool(urlparse(path).netloc):\n",
    "        from urllib.request import urlopen\n",
    "        return urlopen(path).read().decode('utf8')\n",
    "    return open(path).read()"
   ]
  },
  {
   "cell_type": "code",
   "execution_count": 7,
   "id": "realistic-blast",
   "metadata": {
    "execution": {
     "iopub.execute_input": "2022-01-23T12:12:13.686928Z",
     "iopub.status.busy": "2022-01-23T12:12:13.686313Z",
     "iopub.status.idle": "2022-01-23T12:12:13.688675Z",
     "shell.execute_reply": "2022-01-23T12:12:13.688148Z"
    },
    "papermill": {
     "duration": 0.041218,
     "end_time": "2022-01-23T12:12:13.688803",
     "exception": false,
     "start_time": "2022-01-23T12:12:13.647585",
     "status": "completed"
    },
    "tags": []
   },
   "outputs": [],
   "source": [
    "#hide\n",
    "def get_frame(name):\n",
    "    url = (\n",
    "        'https://raw.githubusercontent.com/CSSEGISandData/COVID-19/master/csse_covid_19_data/'\n",
    "        f'csse_covid_19_time_series/time_series_covid19_{name}_global.csv')\n",
    "    df = pd.read_csv(url)\n",
    "    # rename countries\n",
    "    df['Country/Region'] = df['Country/Region'].replace(mapping['replace.country'])\n",
    "    return df"
   ]
  },
  {
   "cell_type": "code",
   "execution_count": 8,
   "id": "affiliated-characterization",
   "metadata": {
    "execution": {
     "iopub.execute_input": "2022-01-23T12:12:13.763574Z",
     "iopub.status.busy": "2022-01-23T12:12:13.762936Z",
     "iopub.status.idle": "2022-01-23T12:12:13.765307Z",
     "shell.execute_reply": "2022-01-23T12:12:13.765870Z"
    },
    "papermill": {
     "duration": 0.043764,
     "end_time": "2022-01-23T12:12:13.766016",
     "exception": false,
     "start_time": "2022-01-23T12:12:13.722252",
     "status": "completed"
    },
    "tags": []
   },
   "outputs": [],
   "source": [
    "#hide\n",
    "def get_dates(df):\n",
    "    dt_cols = df.columns[~df.columns.isin(['Province/State', 'Country/Region', 'Lat', 'Long'])]\n",
    "    LAST_DATE_I = -1\n",
    "    # sometimes last column may be empty, then go backwards\n",
    "    for i in range(-1, -len(dt_cols), -1):\n",
    "        if not df[dt_cols[i]].fillna(0).eq(0).all():\n",
    "            LAST_DATE_I = i\n",
    "            break\n",
    "    return LAST_DATE_I, dt_cols"
   ]
  },
  {
   "cell_type": "code",
   "execution_count": 9,
   "id": "recent-optimization",
   "metadata": {
    "execution": {
     "iopub.execute_input": "2022-01-23T12:12:13.838922Z",
     "iopub.status.busy": "2022-01-23T12:12:13.838303Z",
     "iopub.status.idle": "2022-01-23T12:12:14.176374Z",
     "shell.execute_reply": "2022-01-23T12:12:14.175834Z"
    },
    "papermill": {
     "duration": 0.377679,
     "end_time": "2022-01-23T12:12:14.176520",
     "exception": false,
     "start_time": "2022-01-23T12:12:13.798841",
     "status": "completed"
    },
    "tags": []
   },
   "outputs": [],
   "source": [
    "#hide\n",
    "COL_REGION = 'Country/Region'\n",
    "# Confirmed, Recovered, Deaths\n",
    "df = get_frame('confirmed')\n",
    "# dft_: timeseries, dfc_: today country agg\n",
    "dft_cases = df\n",
    "dft_deaths = get_frame('deaths')\n",
    "dft_recovered = get_frame('recovered')\n",
    "LAST_DATE_I, dt_cols = get_dates(df)"
   ]
  },
  {
   "cell_type": "code",
   "execution_count": 10,
   "id": "absolute-copper",
   "metadata": {
    "execution": {
     "iopub.execute_input": "2022-01-23T12:12:14.251044Z",
     "iopub.status.busy": "2022-01-23T12:12:14.250252Z",
     "iopub.status.idle": "2022-01-23T12:12:14.254514Z",
     "shell.execute_reply": "2022-01-23T12:12:14.253994Z"
    },
    "papermill": {
     "duration": 0.04447,
     "end_time": "2022-01-23T12:12:14.254646",
     "exception": false,
     "start_time": "2022-01-23T12:12:14.210176",
     "status": "completed"
    },
    "tags": []
   },
   "outputs": [],
   "source": [
    "#hide\n",
    "LAST_DATE_I, dt_cols = get_dates(df)\n",
    "dt_today =dt_cols[LAST_DATE_I]\n",
    "# dt_5day = dt_cols[LAST_DATE_I - 5]\n",
    "dt_yday = dt_cols[LAST_DATE_I - 1]"
   ]
  },
  {
   "cell_type": "code",
   "execution_count": 11,
   "id": "restricted-sheriff",
   "metadata": {
    "execution": {
     "iopub.execute_input": "2022-01-23T12:12:14.331716Z",
     "iopub.status.busy": "2022-01-23T12:12:14.331088Z",
     "iopub.status.idle": "2022-01-23T12:12:14.336189Z",
     "shell.execute_reply": "2022-01-23T12:12:14.335708Z"
    },
    "papermill": {
     "duration": 0.048718,
     "end_time": "2022-01-23T12:12:14.336321",
     "exception": false,
     "start_time": "2022-01-23T12:12:14.287603",
     "status": "completed"
    },
    "tags": []
   },
   "outputs": [],
   "source": [
    "#hide\n",
    "dfc_cases = dft_cases.groupby(COL_REGION)[dt_today].sum()\n",
    "dfc_deaths = dft_deaths.groupby(COL_REGION)[dt_today].sum()\n",
    "# dfp_cases = dft_cases.groupby(COL_REGION)[dt_5day].sum()\n",
    "# dfp_deaths = dft_deaths.groupby(COL_REGION)[dt_5day].sum()\n",
    "dfp_cases = dft_cases.groupby(COL_REGION)[dt_yday].sum()\n",
    "dfp_deaths = dft_deaths.groupby(COL_REGION)[dt_yday].sum()"
   ]
  },
  {
   "cell_type": "code",
   "execution_count": 12,
   "id": "deluxe-hepatitis",
   "metadata": {
    "execution": {
     "iopub.execute_input": "2022-01-23T12:12:14.409254Z",
     "iopub.status.busy": "2022-01-23T12:12:14.408632Z",
     "iopub.status.idle": "2022-01-23T12:12:14.413687Z",
     "shell.execute_reply": "2022-01-23T12:12:14.414160Z"
    },
    "papermill": {
     "duration": 0.044719,
     "end_time": "2022-01-23T12:12:14.414306",
     "exception": false,
     "start_time": "2022-01-23T12:12:14.369587",
     "status": "completed"
    },
    "tags": []
   },
   "outputs": [],
   "source": [
    "#hide\n",
    "df_table = (pd.DataFrame(dict(Cases = dfc_cases, Deaths = dfc_deaths, PCases = dfp_cases, PDeaths = dfp_deaths))\n",
    "            .sort_values(by = ['Cases','Deaths'], ascending = [False, False])\n",
    "            .reset_index())"
   ]
  },
  {
   "cell_type": "code",
   "execution_count": 13,
   "id": "educational-chancellor",
   "metadata": {
    "execution": {
     "iopub.execute_input": "2022-01-23T12:12:14.505439Z",
     "iopub.status.busy": "2022-01-23T12:12:14.501978Z",
     "iopub.status.idle": "2022-01-23T12:12:14.510383Z",
     "shell.execute_reply": "2022-01-23T12:12:14.509901Z"
    },
    "papermill": {
     "duration": 0.063425,
     "end_time": "2022-01-23T12:12:14.510516",
     "exception": false,
     "start_time": "2022-01-23T12:12:14.447091",
     "status": "completed"
    },
    "tags": []
   },
   "outputs": [
    {
     "data": {
      "text/html": [
       "<div>\n",
       "<style scoped>\n",
       "    .dataframe tbody tr th:only-of-type {\n",
       "        vertical-align: middle;\n",
       "    }\n",
       "\n",
       "    .dataframe tbody tr th {\n",
       "        vertical-align: top;\n",
       "    }\n",
       "\n",
       "    .dataframe thead th {\n",
       "        text-align: right;\n",
       "    }\n",
       "</style>\n",
       "<table border=\"1\" class=\"dataframe\">\n",
       "  <thead>\n",
       "    <tr style=\"text-align: right;\">\n",
       "      <th></th>\n",
       "      <th>Country/Region</th>\n",
       "      <th>Cases</th>\n",
       "      <th>Deaths</th>\n",
       "      <th>PCases</th>\n",
       "      <th>PDeaths</th>\n",
       "      <th>Cases (+)</th>\n",
       "      <th>Deaths (+)</th>\n",
       "      <th>Fatality Rate</th>\n",
       "      <th>Continent</th>\n",
       "    </tr>\n",
       "  </thead>\n",
       "  <tbody>\n",
       "    <tr>\n",
       "      <th>0</th>\n",
       "      <td>US</td>\n",
       "      <td>70495874</td>\n",
       "      <td>865968</td>\n",
       "      <td>70209840</td>\n",
       "      <td>865155</td>\n",
       "      <td>286034</td>\n",
       "      <td>813</td>\n",
       "      <td>1.23</td>\n",
       "      <td>North America</td>\n",
       "    </tr>\n",
       "    <tr>\n",
       "      <th>1</th>\n",
       "      <td>India</td>\n",
       "      <td>39237264</td>\n",
       "      <td>489409</td>\n",
       "      <td>38903731</td>\n",
       "      <td>488884</td>\n",
       "      <td>333533</td>\n",
       "      <td>525</td>\n",
       "      <td>1.25</td>\n",
       "      <td>Asia</td>\n",
       "    </tr>\n",
       "    <tr>\n",
       "      <th>2</th>\n",
       "      <td>Brazil</td>\n",
       "      <td>23931609</td>\n",
       "      <td>623191</td>\n",
       "      <td>23766499</td>\n",
       "      <td>622875</td>\n",
       "      <td>165110</td>\n",
       "      <td>316</td>\n",
       "      <td>2.60</td>\n",
       "      <td>South America</td>\n",
       "    </tr>\n",
       "    <tr>\n",
       "      <th>3</th>\n",
       "      <td>France</td>\n",
       "      <td>16506090</td>\n",
       "      <td>129505</td>\n",
       "      <td>16116748</td>\n",
       "      <td>129338</td>\n",
       "      <td>389342</td>\n",
       "      <td>167</td>\n",
       "      <td>0.78</td>\n",
       "      <td>Europe</td>\n",
       "    </tr>\n",
       "    <tr>\n",
       "      <th>4</th>\n",
       "      <td>United Kingdom</td>\n",
       "      <td>15891905</td>\n",
       "      <td>154298</td>\n",
       "      <td>15814617</td>\n",
       "      <td>154001</td>\n",
       "      <td>77288</td>\n",
       "      <td>297</td>\n",
       "      <td>0.97</td>\n",
       "      <td>Europe</td>\n",
       "    </tr>\n",
       "  </tbody>\n",
       "</table>\n",
       "</div>"
      ],
      "text/plain": [
       "   Country/Region     Cases  Deaths    PCases  PDeaths  Cases (+)  Deaths (+)  \\\n",
       "0              US  70495874  865968  70209840   865155     286034         813   \n",
       "1           India  39237264  489409  38903731   488884     333533         525   \n",
       "2          Brazil  23931609  623191  23766499   622875     165110         316   \n",
       "3          France  16506090  129505  16116748   129338     389342         167   \n",
       "4  United Kingdom  15891905  154298  15814617   154001      77288         297   \n",
       "\n",
       "   Fatality Rate      Continent  \n",
       "0           1.23  North America  \n",
       "1           1.25           Asia  \n",
       "2           2.60  South America  \n",
       "3           0.78         Europe  \n",
       "4           0.97         Europe  "
      ]
     },
     "execution_count": 13,
     "metadata": {},
     "output_type": "execute_result"
    }
   ],
   "source": [
    "#hide\n",
    "for c in 'Cases, Deaths'.split(', '):\n",
    "    df_table[f'{c} (+)'] = (df_table[c] - df_table[f'P{c}']).clip(0)\n",
    "    #Clip ça veut dire, les chiffres negatif sont interdit\n",
    "df_table['Fatality Rate'] = (100* df_table['Deaths']/ df_table['Cases']).round(2)\n",
    "df_table['Continent'] = df_table['Country/Region'].map(mapping['map.continent'])\n",
    "df_table.head(5)"
   ]
  },
  {
   "cell_type": "code",
   "execution_count": 14,
   "id": "aboriginal-bulgaria",
   "metadata": {
    "execution": {
     "iopub.execute_input": "2022-01-23T12:12:14.587285Z",
     "iopub.status.busy": "2022-01-23T12:12:14.586234Z",
     "iopub.status.idle": "2022-01-23T12:12:14.591180Z",
     "shell.execute_reply": "2022-01-23T12:12:14.590684Z"
    },
    "papermill": {
     "duration": 0.046799,
     "end_time": "2022-01-23T12:12:14.591309",
     "exception": false,
     "start_time": "2022-01-23T12:12:14.544510",
     "status": "completed"
    },
    "tags": []
   },
   "outputs": [],
   "source": [
    "#hide\n",
    "#delete problematic countries from table\n",
    "df_table = df_table[~df_table['Country/Region'].isin(['Cape Verde', 'Cruise Ship', 'Kosovo'])]"
   ]
  },
  {
   "cell_type": "code",
   "execution_count": 15,
   "id": "fantastic-effect",
   "metadata": {
    "execution": {
     "iopub.execute_input": "2022-01-23T12:12:14.667755Z",
     "iopub.status.busy": "2022-01-23T12:12:14.666706Z",
     "iopub.status.idle": "2022-01-23T12:12:14.683978Z",
     "shell.execute_reply": "2022-01-23T12:12:14.684544Z"
    },
    "papermill": {
     "duration": 0.059915,
     "end_time": "2022-01-23T12:12:14.684711",
     "exception": false,
     "start_time": "2022-01-23T12:12:14.624796",
     "status": "completed"
    },
    "tags": []
   },
   "outputs": [
    {
     "data": {
      "text/html": [
       "<div>\n",
       "<style scoped>\n",
       "    .dataframe tbody tr th:only-of-type {\n",
       "        vertical-align: middle;\n",
       "    }\n",
       "\n",
       "    .dataframe tbody tr th {\n",
       "        vertical-align: top;\n",
       "    }\n",
       "\n",
       "    .dataframe thead th {\n",
       "        text-align: right;\n",
       "    }\n",
       "</style>\n",
       "<table border=\"1\" class=\"dataframe\">\n",
       "  <thead>\n",
       "    <tr style=\"text-align: right;\">\n",
       "      <th></th>\n",
       "      <th>Country/Region</th>\n",
       "      <th>Cases</th>\n",
       "      <th>Deaths</th>\n",
       "      <th>PCases</th>\n",
       "      <th>PDeaths</th>\n",
       "      <th>Cases (+)</th>\n",
       "      <th>Deaths (+)</th>\n",
       "      <th>Fatality Rate</th>\n",
       "      <th>Continent</th>\n",
       "    </tr>\n",
       "  </thead>\n",
       "  <tbody>\n",
       "    <tr>\n",
       "      <th>0</th>\n",
       "      <td>US</td>\n",
       "      <td>70495874</td>\n",
       "      <td>865968</td>\n",
       "      <td>70209840</td>\n",
       "      <td>865155</td>\n",
       "      <td>286034</td>\n",
       "      <td>813</td>\n",
       "      <td>1.2</td>\n",
       "      <td>North America</td>\n",
       "    </tr>\n",
       "    <tr>\n",
       "      <th>1</th>\n",
       "      <td>India</td>\n",
       "      <td>39237264</td>\n",
       "      <td>489409</td>\n",
       "      <td>38903731</td>\n",
       "      <td>488884</td>\n",
       "      <td>333533</td>\n",
       "      <td>525</td>\n",
       "      <td>1.2</td>\n",
       "      <td>Asia</td>\n",
       "    </tr>\n",
       "    <tr>\n",
       "      <th>2</th>\n",
       "      <td>Brazil</td>\n",
       "      <td>23931609</td>\n",
       "      <td>623191</td>\n",
       "      <td>23766499</td>\n",
       "      <td>622875</td>\n",
       "      <td>165110</td>\n",
       "      <td>316</td>\n",
       "      <td>2.6</td>\n",
       "      <td>South America</td>\n",
       "    </tr>\n",
       "    <tr>\n",
       "      <th>3</th>\n",
       "      <td>France</td>\n",
       "      <td>16506090</td>\n",
       "      <td>129505</td>\n",
       "      <td>16116748</td>\n",
       "      <td>129338</td>\n",
       "      <td>389342</td>\n",
       "      <td>167</td>\n",
       "      <td>0.8</td>\n",
       "      <td>Europe</td>\n",
       "    </tr>\n",
       "    <tr>\n",
       "      <th>4</th>\n",
       "      <td>United Kingdom</td>\n",
       "      <td>15891905</td>\n",
       "      <td>154298</td>\n",
       "      <td>15814617</td>\n",
       "      <td>154001</td>\n",
       "      <td>77288</td>\n",
       "      <td>297</td>\n",
       "      <td>1.0</td>\n",
       "      <td>Europe</td>\n",
       "    </tr>\n",
       "  </tbody>\n",
       "</table>\n",
       "</div>"
      ],
      "text/plain": [
       "   Country/Region     Cases  Deaths    PCases  PDeaths  Cases (+)  Deaths (+)  \\\n",
       "0              US  70495874  865968  70209840   865155     286034         813   \n",
       "1           India  39237264  489409  38903731   488884     333533         525   \n",
       "2          Brazil  23931609  623191  23766499   622875     165110         316   \n",
       "3          France  16506090  129505  16116748   129338     389342         167   \n",
       "4  United Kingdom  15891905  154298  15814617   154001      77288         297   \n",
       "\n",
       "   Fatality Rate      Continent  \n",
       "0            1.2  North America  \n",
       "1            1.2           Asia  \n",
       "2            2.6  South America  \n",
       "3            0.8         Europe  \n",
       "4            1.0         Europe  "
      ]
     },
     "execution_count": 15,
     "metadata": {},
     "output_type": "execute_result"
    }
   ],
   "source": [
    "#hide\n",
    "df_table = (pd.DataFrame(dict(Cases=dfc_cases, Deaths=dfc_deaths, PCases=dfp_cases, PDeaths=dfp_deaths))\n",
    "             .sort_values(by=['Cases', 'Deaths'], ascending=[False, False])\n",
    "             .reset_index())\n",
    "df_table.rename(columns={'index': 'Country/Region'}, inplace=True)\n",
    "for c in 'Cases, Deaths'.split(', '):\n",
    "    df_table[f'{c} (+)'] = (df_table[c] - df_table[f'P{c}']).clip(0)  # DATA BUG\n",
    "df_table['Fatality Rate'] = (100 * df_table['Deaths'] / df_table['Cases']).round(1)\n",
    "df_table['Continent'] = df_table['Country/Region'].map(mapping['map.continent'])\n",
    "df_table.head(5)"
   ]
  },
  {
   "cell_type": "code",
   "execution_count": 16,
   "id": "fewer-occasion",
   "metadata": {
    "execution": {
     "iopub.execute_input": "2022-01-23T12:12:14.762447Z",
     "iopub.status.busy": "2022-01-23T12:12:14.761826Z",
     "iopub.status.idle": "2022-01-23T12:12:14.765337Z",
     "shell.execute_reply": "2022-01-23T12:12:14.765786Z"
    },
    "papermill": {
     "duration": 0.047023,
     "end_time": "2022-01-23T12:12:14.765924",
     "exception": false,
     "start_time": "2022-01-23T12:12:14.718901",
     "status": "completed"
    },
    "tags": []
   },
   "outputs": [],
   "source": [
    "#hide\n",
    "#delete problematic countries from table\n",
    "df_table = df_table[~df_table['Country/Region'].isin(['Cape Verde', 'Cruise Ship', 'Kosovo'])]"
   ]
  },
  {
   "cell_type": "code",
   "execution_count": 17,
   "id": "related-center",
   "metadata": {
    "execution": {
     "iopub.execute_input": "2022-01-23T12:12:14.854511Z",
     "iopub.status.busy": "2022-01-23T12:12:14.853865Z",
     "iopub.status.idle": "2022-01-23T12:12:14.856108Z",
     "shell.execute_reply": "2022-01-23T12:12:14.855604Z"
    },
    "papermill": {
     "duration": 0.05614,
     "end_time": "2022-01-23T12:12:14.856238",
     "exception": false,
     "start_time": "2022-01-23T12:12:14.800098",
     "status": "completed"
    },
    "tags": []
   },
   "outputs": [],
   "source": [
    "#hide\n",
    "metrics = [df_table.columns[index] for index in [1,2,5,6]]\n",
    "# s_china = df_table[df_table['Country/Region'].eq('China')][metrics].sum().add_prefix('China ')\n",
    "s_us = df_table[df_table['Country/Region'].eq('US')][metrics].sum().add_prefix('US ')\n",
    "s_eu = df_table[df_table['Continent'].eq('Europe')][metrics].sum().add_prefix('EU ')\n",
    "s_ind = df_table[df_table['Country/Region'].eq('India')][metrics].sum().add_prefix('India ')\n",
    "summary = {'updated': pd.to_datetime(dt_today), 'since': pd.to_datetime(dt_yday)}\n",
    "summary = {'updated': pd.to_datetime(dt_today), 'since': pd.to_datetime(dt_yday)}\n",
    "summary = {**summary, **df_table[metrics].sum(), **s_ind, **s_us, **s_eu}"
   ]
  },
  {
   "cell_type": "code",
   "execution_count": 18,
   "id": "engaging-syndrome",
   "metadata": {
    "execution": {
     "iopub.execute_input": "2022-01-23T12:12:14.932438Z",
     "iopub.status.busy": "2022-01-23T12:12:14.931823Z",
     "iopub.status.idle": "2022-01-23T12:12:14.948869Z",
     "shell.execute_reply": "2022-01-23T12:12:14.948150Z"
    },
    "papermill": {
     "duration": 0.058492,
     "end_time": "2022-01-23T12:12:14.949042",
     "exception": false,
     "start_time": "2022-01-23T12:12:14.890550",
     "status": "completed"
    },
    "tags": []
   },
   "outputs": [],
   "source": [
    "#hide\n",
    "dft_ct_new_cases = dft_cases.groupby(COL_REGION)[dt_cols].sum().diff(axis=1).fillna(0).astype(int)"
   ]
  },
  {
   "cell_type": "code",
   "execution_count": 19,
   "id": "neutral-assignment",
   "metadata": {
    "execution": {
     "iopub.execute_input": "2022-01-23T12:12:15.027671Z",
     "iopub.status.busy": "2022-01-23T12:12:15.027068Z",
     "iopub.status.idle": "2022-01-23T12:12:15.029805Z",
     "shell.execute_reply": "2022-01-23T12:12:15.029329Z"
    },
    "papermill": {
     "duration": 0.045095,
     "end_time": "2022-01-23T12:12:15.029934",
     "exception": false,
     "start_time": "2022-01-23T12:12:14.984839",
     "status": "completed"
    },
    "tags": []
   },
   "outputs": [],
   "source": [
    "#hide\n",
    "everydaycases = dft_ct_new_cases.cumsum(axis=1)"
   ]
  },
  {
   "cell_type": "code",
   "execution_count": 20,
   "id": "parliamentary-calgary",
   "metadata": {
    "execution": {
     "iopub.execute_input": "2022-01-23T12:12:15.104949Z",
     "iopub.status.busy": "2022-01-23T12:12:15.104289Z",
     "iopub.status.idle": "2022-01-23T12:12:15.781825Z",
     "shell.execute_reply": "2022-01-23T12:12:15.780929Z"
    },
    "papermill": {
     "duration": 0.717673,
     "end_time": "2022-01-23T12:12:15.782050",
     "exception": false,
     "start_time": "2022-01-23T12:12:15.064377",
     "status": "completed"
    },
    "tags": []
   },
   "outputs": [],
   "source": [
    "#hide\n",
    "import pandas as pd\n",
    "import matplotlib.pyplot as plt\n",
    "import matplotlib.ticker as ticker\n",
    "import matplotlib.animation as animation\n",
    "from IPython.display import HTML"
   ]
  },
  {
   "cell_type": "code",
   "execution_count": 21,
   "id": "lasting-extraction",
   "metadata": {
    "execution": {
     "iopub.execute_input": "2022-01-23T12:12:15.858346Z",
     "iopub.status.busy": "2022-01-23T12:12:15.857740Z",
     "iopub.status.idle": "2022-01-23T12:12:15.864419Z",
     "shell.execute_reply": "2022-01-23T12:12:15.863943Z"
    },
    "papermill": {
     "duration": 0.048406,
     "end_time": "2022-01-23T12:12:15.864551",
     "exception": false,
     "start_time": "2022-01-23T12:12:15.816145",
     "status": "completed"
    },
    "tags": []
   },
   "outputs": [],
   "source": [
    "#hide\n",
    "t = everydaycases.stack()"
   ]
  },
  {
   "cell_type": "code",
   "execution_count": 22,
   "id": "premier-sleeve",
   "metadata": {
    "execution": {
     "iopub.execute_input": "2022-01-23T12:12:15.936540Z",
     "iopub.status.busy": "2022-01-23T12:12:15.935978Z",
     "iopub.status.idle": "2022-01-23T12:12:15.946633Z",
     "shell.execute_reply": "2022-01-23T12:12:15.947082Z"
    },
    "papermill": {
     "duration": 0.049526,
     "end_time": "2022-01-23T12:12:15.947231",
     "exception": false,
     "start_time": "2022-01-23T12:12:15.897705",
     "status": "completed"
    },
    "tags": []
   },
   "outputs": [],
   "source": [
    "#hide\n",
    "g = t.reset_index(['Country/Region'])"
   ]
  },
  {
   "cell_type": "code",
   "execution_count": 23,
   "id": "distributed-pittsburgh",
   "metadata": {
    "execution": {
     "iopub.execute_input": "2022-01-23T12:12:16.019664Z",
     "iopub.status.busy": "2022-01-23T12:12:16.019063Z",
     "iopub.status.idle": "2022-01-23T12:12:16.021319Z",
     "shell.execute_reply": "2022-01-23T12:12:16.020852Z"
    },
    "papermill": {
     "duration": 0.040816,
     "end_time": "2022-01-23T12:12:16.021437",
     "exception": false,
     "start_time": "2022-01-23T12:12:15.980621",
     "status": "completed"
    },
    "tags": []
   },
   "outputs": [],
   "source": [
    "#hide\n",
    "g.index.name = 'date'"
   ]
  },
  {
   "cell_type": "code",
   "execution_count": 24,
   "id": "naked-donor",
   "metadata": {
    "execution": {
     "iopub.execute_input": "2022-01-23T12:12:16.093757Z",
     "iopub.status.busy": "2022-01-23T12:12:16.093146Z",
     "iopub.status.idle": "2022-01-23T12:12:16.096090Z",
     "shell.execute_reply": "2022-01-23T12:12:16.096696Z"
    },
    "papermill": {
     "duration": 0.041525,
     "end_time": "2022-01-23T12:12:16.096850",
     "exception": false,
     "start_time": "2022-01-23T12:12:16.055325",
     "status": "completed"
    },
    "tags": []
   },
   "outputs": [],
   "source": [
    "# #hide\n",
    "# g = g.reset_index(['date'])"
   ]
  },
  {
   "cell_type": "code",
   "execution_count": 25,
   "id": "incomplete-mustang",
   "metadata": {
    "execution": {
     "iopub.execute_input": "2022-01-23T12:12:16.170481Z",
     "iopub.status.busy": "2022-01-23T12:12:16.169861Z",
     "iopub.status.idle": "2022-01-23T12:12:16.173751Z",
     "shell.execute_reply": "2022-01-23T12:12:16.173262Z"
    },
    "papermill": {
     "duration": 0.042979,
     "end_time": "2022-01-23T12:12:16.173888",
     "exception": false,
     "start_time": "2022-01-23T12:12:16.130909",
     "status": "completed"
    },
    "tags": []
   },
   "outputs": [],
   "source": [
    "#hide\n",
    "# g.head()"
   ]
  },
  {
   "cell_type": "code",
   "execution_count": 26,
   "id": "specific-kruger",
   "metadata": {
    "execution": {
     "iopub.execute_input": "2022-01-23T12:12:16.246900Z",
     "iopub.status.busy": "2022-01-23T12:12:16.246068Z",
     "iopub.status.idle": "2022-01-23T12:12:16.250391Z",
     "shell.execute_reply": "2022-01-23T12:12:16.251009Z"
    },
    "papermill": {
     "duration": 0.043592,
     "end_time": "2022-01-23T12:12:16.251186",
     "exception": false,
     "start_time": "2022-01-23T12:12:16.207594",
     "status": "completed"
    },
    "tags": []
   },
   "outputs": [],
   "source": [
    "#hide\n",
    "# g.columns = ['date','country','cases']"
   ]
  },
  {
   "cell_type": "code",
   "execution_count": 27,
   "id": "tender-conversion",
   "metadata": {
    "execution": {
     "iopub.execute_input": "2022-01-23T12:12:16.323298Z",
     "iopub.status.busy": "2022-01-23T12:12:16.322703Z",
     "iopub.status.idle": "2022-01-23T12:12:16.325429Z",
     "shell.execute_reply": "2022-01-23T12:12:16.324952Z"
    },
    "papermill": {
     "duration": 0.040633,
     "end_time": "2022-01-23T12:12:16.325545",
     "exception": false,
     "start_time": "2022-01-23T12:12:16.284912",
     "status": "completed"
    },
    "tags": []
   },
   "outputs": [],
   "source": [
    "#hide\n",
    "# g['continent'] = g.country"
   ]
  },
  {
   "cell_type": "code",
   "execution_count": 28,
   "id": "substantial-wilderness",
   "metadata": {
    "execution": {
     "iopub.execute_input": "2022-01-23T12:12:16.399218Z",
     "iopub.status.busy": "2022-01-23T12:12:16.398173Z",
     "iopub.status.idle": "2022-01-23T12:12:16.403114Z",
     "shell.execute_reply": "2022-01-23T12:12:16.403634Z"
    },
    "papermill": {
     "duration": 0.044485,
     "end_time": "2022-01-23T12:12:16.403779",
     "exception": false,
     "start_time": "2022-01-23T12:12:16.359294",
     "status": "completed"
    },
    "tags": []
   },
   "outputs": [],
   "source": [
    "#hide\n",
    "# cols = list(g.columns.values)"
   ]
  },
  {
   "cell_type": "code",
   "execution_count": 29,
   "id": "solved-farming",
   "metadata": {
    "execution": {
     "iopub.execute_input": "2022-01-23T12:12:16.476979Z",
     "iopub.status.busy": "2022-01-23T12:12:16.476312Z",
     "iopub.status.idle": "2022-01-23T12:12:16.479647Z",
     "shell.execute_reply": "2022-01-23T12:12:16.479169Z"
    },
    "papermill": {
     "duration": 0.041983,
     "end_time": "2022-01-23T12:12:16.479775",
     "exception": false,
     "start_time": "2022-01-23T12:12:16.437792",
     "status": "completed"
    },
    "tags": []
   },
   "outputs": [],
   "source": [
    "#hide\n",
    "# cols.insert(0, cols.pop())"
   ]
  },
  {
   "cell_type": "code",
   "execution_count": 30,
   "id": "executed-adoption",
   "metadata": {
    "execution": {
     "iopub.execute_input": "2022-01-23T12:12:16.552713Z",
     "iopub.status.busy": "2022-01-23T12:12:16.552077Z",
     "iopub.status.idle": "2022-01-23T12:12:16.554655Z",
     "shell.execute_reply": "2022-01-23T12:12:16.555213Z"
    },
    "papermill": {
     "duration": 0.041076,
     "end_time": "2022-01-23T12:12:16.555362",
     "exception": false,
     "start_time": "2022-01-23T12:12:16.514286",
     "status": "completed"
    },
    "tags": []
   },
   "outputs": [],
   "source": [
    "#hide\n",
    "# g = g[cols]"
   ]
  },
  {
   "cell_type": "code",
   "execution_count": 31,
   "id": "subject-dublin",
   "metadata": {
    "execution": {
     "iopub.execute_input": "2022-01-23T12:12:16.627974Z",
     "iopub.status.busy": "2022-01-23T12:12:16.627364Z",
     "iopub.status.idle": "2022-01-23T12:12:16.629656Z",
     "shell.execute_reply": "2022-01-23T12:12:16.629068Z"
    },
    "papermill": {
     "duration": 0.040368,
     "end_time": "2022-01-23T12:12:16.629783",
     "exception": false,
     "start_time": "2022-01-23T12:12:16.589415",
     "status": "completed"
    },
    "tags": []
   },
   "outputs": [],
   "source": [
    "#hide\n",
    "# g['continent'] = g['continent'].map(mapping['map.continent'])"
   ]
  },
  {
   "cell_type": "code",
   "execution_count": 32,
   "id": "freelance-scout",
   "metadata": {
    "execution": {
     "iopub.execute_input": "2022-01-23T12:12:16.704811Z",
     "iopub.status.busy": "2022-01-23T12:12:16.703706Z",
     "iopub.status.idle": "2022-01-23T12:12:16.707900Z",
     "shell.execute_reply": "2022-01-23T12:12:16.708351Z"
    },
    "papermill": {
     "duration": 0.044232,
     "end_time": "2022-01-23T12:12:16.708497",
     "exception": false,
     "start_time": "2022-01-23T12:12:16.664265",
     "status": "completed"
    },
    "tags": []
   },
   "outputs": [],
   "source": [
    "#hide\n",
    "# g.head()"
   ]
  },
  {
   "cell_type": "code",
   "execution_count": 33,
   "id": "limited-engine",
   "metadata": {
    "execution": {
     "iopub.execute_input": "2022-01-23T12:12:16.782709Z",
     "iopub.status.busy": "2022-01-23T12:12:16.781668Z",
     "iopub.status.idle": "2022-01-23T12:12:16.783807Z",
     "shell.execute_reply": "2022-01-23T12:12:16.784647Z"
    },
    "papermill": {
     "duration": 0.042025,
     "end_time": "2022-01-23T12:12:16.784884",
     "exception": false,
     "start_time": "2022-01-23T12:12:16.742859",
     "status": "completed"
    },
    "tags": []
   },
   "outputs": [],
   "source": [
    "# hide\n",
    "# g['date'] = g['date'].astype('datetime64[ns]')"
   ]
  },
  {
   "cell_type": "code",
   "execution_count": 34,
   "id": "sophisticated-supervisor",
   "metadata": {
    "execution": {
     "iopub.execute_input": "2022-01-23T12:12:16.860500Z",
     "iopub.status.busy": "2022-01-23T12:12:16.859883Z",
     "iopub.status.idle": "2022-01-23T12:12:16.863301Z",
     "shell.execute_reply": "2022-01-23T12:12:16.863756Z"
    },
    "papermill": {
     "duration": 0.043142,
     "end_time": "2022-01-23T12:12:16.863906",
     "exception": false,
     "start_time": "2022-01-23T12:12:16.820764",
     "status": "completed"
    },
    "tags": []
   },
   "outputs": [],
   "source": [
    "#hide\n",
    "# g['date'] = g.date.dt.dayofyear"
   ]
  },
  {
   "cell_type": "code",
   "execution_count": 35,
   "id": "inside-dubai",
   "metadata": {
    "execution": {
     "iopub.execute_input": "2022-01-23T12:12:16.936486Z",
     "iopub.status.busy": "2022-01-23T12:12:16.935879Z",
     "iopub.status.idle": "2022-01-23T12:12:16.938603Z",
     "shell.execute_reply": "2022-01-23T12:12:16.939080Z"
    },
    "papermill": {
     "duration": 0.040699,
     "end_time": "2022-01-23T12:12:16.939221",
     "exception": false,
     "start_time": "2022-01-23T12:12:16.898522",
     "status": "completed"
    },
    "tags": []
   },
   "outputs": [],
   "source": [
    "#hide\n",
    "# g = g.rename(columns= {'continent':'group','country':'name','cases':'value'})"
   ]
  },
  {
   "cell_type": "code",
   "execution_count": 36,
   "id": "fleet-motorcycle",
   "metadata": {
    "execution": {
     "iopub.execute_input": "2022-01-23T12:12:17.011825Z",
     "iopub.status.busy": "2022-01-23T12:12:17.011139Z",
     "iopub.status.idle": "2022-01-23T12:12:17.015293Z",
     "shell.execute_reply": "2022-01-23T12:12:17.014807Z"
    },
    "papermill": {
     "duration": 0.042025,
     "end_time": "2022-01-23T12:12:17.015424",
     "exception": false,
     "start_time": "2022-01-23T12:12:16.973399",
     "status": "completed"
    },
    "tags": []
   },
   "outputs": [],
   "source": [
    "#hide\n",
    "# cols = ['name','group','day','value']"
   ]
  },
  {
   "cell_type": "code",
   "execution_count": 37,
   "id": "continued-sleeping",
   "metadata": {
    "execution": {
     "iopub.execute_input": "2022-01-23T12:12:17.088520Z",
     "iopub.status.busy": "2022-01-23T12:12:17.087902Z",
     "iopub.status.idle": "2022-01-23T12:12:17.090665Z",
     "shell.execute_reply": "2022-01-23T12:12:17.091152Z"
    },
    "papermill": {
     "duration": 0.041505,
     "end_time": "2022-01-23T12:12:17.091288",
     "exception": false,
     "start_time": "2022-01-23T12:12:17.049783",
     "status": "completed"
    },
    "tags": []
   },
   "outputs": [],
   "source": [
    "#hide\n",
    "# g.rename(columns= {'date':'day'},inplace = True)"
   ]
  },
  {
   "cell_type": "code",
   "execution_count": 38,
   "id": "major-fight",
   "metadata": {
    "execution": {
     "iopub.execute_input": "2022-01-23T12:12:17.163595Z",
     "iopub.status.busy": "2022-01-23T12:12:17.162697Z",
     "iopub.status.idle": "2022-01-23T12:12:17.164419Z",
     "shell.execute_reply": "2022-01-23T12:12:17.164944Z"
    },
    "papermill": {
     "duration": 0.040334,
     "end_time": "2022-01-23T12:12:17.165093",
     "exception": false,
     "start_time": "2022-01-23T12:12:17.124759",
     "status": "completed"
    },
    "tags": []
   },
   "outputs": [],
   "source": [
    "#hide\n",
    "# g = g[cols]"
   ]
  },
  {
   "cell_type": "code",
   "execution_count": 39,
   "id": "structured-mobile",
   "metadata": {
    "execution": {
     "iopub.execute_input": "2022-01-23T12:12:17.237416Z",
     "iopub.status.busy": "2022-01-23T12:12:17.236803Z",
     "iopub.status.idle": "2022-01-23T12:12:17.239109Z",
     "shell.execute_reply": "2022-01-23T12:12:17.238605Z"
    },
    "papermill": {
     "duration": 0.04078,
     "end_time": "2022-01-23T12:12:17.239235",
     "exception": false,
     "start_time": "2022-01-23T12:12:17.198455",
     "status": "completed"
    },
    "tags": []
   },
   "outputs": [],
   "source": [
    "# #hide\n",
    "# g = g[g.group.notna()]"
   ]
  },
  {
   "cell_type": "code",
   "execution_count": 40,
   "id": "determined-closing",
   "metadata": {
    "execution": {
     "iopub.execute_input": "2022-01-23T12:12:17.314721Z",
     "iopub.status.busy": "2022-01-23T12:12:17.313090Z",
     "iopub.status.idle": "2022-01-23T12:12:17.315888Z",
     "shell.execute_reply": "2022-01-23T12:12:17.316355Z"
    },
    "papermill": {
     "duration": 0.042976,
     "end_time": "2022-01-23T12:12:17.316497",
     "exception": false,
     "start_time": "2022-01-23T12:12:17.273521",
     "status": "completed"
    },
    "tags": []
   },
   "outputs": [],
   "source": [
    "# #hide\n",
    "# colors = dict(zip(\n",
    "#     [\"Oceania\", \"Europe\", \"Asia\", \"South America\", \"Middle East\", \"North America\", \"Africa\"],\n",
    "#     [\"#adb0ff\", \"#ffb3ff\", \"#90d595\", \"#e48381\", \"#aafbff\", \"#f7bb5f\", \"#eafb50\"]\n",
    "# ))\n",
    "# group_lk = g.set_index('name')['group'].to_dict()"
   ]
  },
  {
   "cell_type": "code",
   "execution_count": null,
   "id": "gross-drinking",
   "metadata": {
    "papermill": {
     "duration": 0.033326,
     "end_time": "2022-01-23T12:12:17.383292",
     "exception": false,
     "start_time": "2022-01-23T12:12:17.349966",
     "status": "completed"
    },
    "tags": []
   },
   "outputs": [],
   "source": []
  },
  {
   "cell_type": "code",
   "execution_count": 41,
   "id": "subject-macintosh",
   "metadata": {
    "execution": {
     "iopub.execute_input": "2022-01-23T12:12:17.455680Z",
     "iopub.status.busy": "2022-01-23T12:12:17.455104Z",
     "iopub.status.idle": "2022-01-23T12:12:17.458250Z",
     "shell.execute_reply": "2022-01-23T12:12:17.458828Z"
    },
    "papermill": {
     "duration": 0.041823,
     "end_time": "2022-01-23T12:12:17.458974",
     "exception": false,
     "start_time": "2022-01-23T12:12:17.417151",
     "status": "completed"
    },
    "tags": []
   },
   "outputs": [],
   "source": [
    "# #hide\n",
    "# fig, ax = plt.subplots(figsize=(15, 8))\n",
    "\n",
    "# def draw_barchart(current_day):\n",
    "#     dff = g[g['day'].eq(current_day)].sort_values(by='value', ascending=True).tail(10)\n",
    "#     ax.clear()\n",
    "#     ax.barh(dff['name'], dff['value'], color=[colors[group_lk[x]] for x in dff['name']])\n",
    "#     dx = dff['value'].max() / 200\n",
    "    \n",
    "#     for i, (value, name) in enumerate(zip(dff['value'], dff['name'])):\n",
    "#         ax.text(value-dx, i,     name,           size=14, weight=600, ha='right', va='bottom')\n",
    "#         ax.text(value-dx, i-.25, group_lk[name], size=10, color='#444444', ha='right', va='baseline')\n",
    "#         ax.text(value+dx, i,     f'{value:,.0f}',  size=14, ha='left',  va='center')\n",
    "#     ax.text(1, 0.4, current_day, transform=ax.transAxes, color='#777777', size=46, ha='right', weight=800)\n",
    "#     ax.text(0, 1.06, 'Population (thousands)', transform=ax.transAxes, size=12, color='#777777')\n",
    "#     ax.xaxis.set_major_formatter(ticker.StrMethodFormatter('{x:,.0f}'))\n",
    "#     ax.xaxis.set_ticks_position('top')\n",
    "#     ax.tick_params(axis='x', colors='#777777', labelsize=12)\n",
    "#     ax.set_yticks([])\n",
    "#     ax.margins(0, 0.01)\n",
    "#     ax.grid(which='major', axis='x', linestyle='-')\n",
    "#     ax.set_axisbelow(True)\n",
    "    \n",
    "#     ax.text(0, 1.15, 'Coronavirus',\n",
    "#             transform=ax.transAxes, size=24, weight=600, ha='left', va='top')\n",
    "# #     ax.text(1, 0, 'by @pratapvardhan; credit @jburnmurdoch', transform=ax.transAxes, color='#777777', ha='right',\n",
    "# #             bbox=dict(facecolor='white', alpha=0.8, edgecolor='white'))\n",
    "#     plt.box(False)"
   ]
  },
  {
   "cell_type": "code",
   "execution_count": 42,
   "id": "sexual-wages",
   "metadata": {
    "execution": {
     "iopub.execute_input": "2022-01-23T12:12:17.530187Z",
     "iopub.status.busy": "2022-01-23T12:12:17.529552Z",
     "iopub.status.idle": "2022-01-23T12:12:17.533258Z",
     "shell.execute_reply": "2022-01-23T12:12:17.533707Z"
    },
    "papermill": {
     "duration": 0.04152,
     "end_time": "2022-01-23T12:12:17.533859",
     "exception": false,
     "start_time": "2022-01-23T12:12:17.492339",
     "status": "completed"
    },
    "tags": []
   },
   "outputs": [],
   "source": [
    "# #hide_input\n",
    "# fig, ax = plt.subplots(figsize=(15, 8))\n",
    "# animator = animation.FuncAnimation(fig, draw_barchart, frames=range(g.day.values.min(), g.day.values.max()))\n",
    "# HTML(animator.to_jshtml())\n",
    "# # or use animator.to_html5_video() or animator.save() "
   ]
  },
  {
   "cell_type": "code",
   "execution_count": null,
   "id": "australian-container",
   "metadata": {
    "papermill": {
     "duration": 0.033837,
     "end_time": "2022-01-23T12:12:17.601682",
     "exception": false,
     "start_time": "2022-01-23T12:12:17.567845",
     "status": "completed"
    },
    "tags": []
   },
   "outputs": [],
   "source": []
  },
  {
   "cell_type": "code",
   "execution_count": null,
   "id": "mediterranean-pontiac",
   "metadata": {
    "papermill": {
     "duration": 0.03391,
     "end_time": "2022-01-23T12:12:17.668694",
     "exception": false,
     "start_time": "2022-01-23T12:12:17.634784",
     "status": "completed"
    },
    "tags": []
   },
   "outputs": [],
   "source": []
  },
  {
   "cell_type": "code",
   "execution_count": null,
   "id": "aging-legislature",
   "metadata": {
    "papermill": {
     "duration": 0.033235,
     "end_time": "2022-01-23T12:12:17.735060",
     "exception": false,
     "start_time": "2022-01-23T12:12:17.701825",
     "status": "completed"
    },
    "tags": []
   },
   "outputs": [],
   "source": []
  }
 ],
 "metadata": {
  "kernelspec": {
   "display_name": "Python 3",
   "language": "python",
   "name": "python3"
  },
  "language_info": {
   "codemirror_mode": {
    "name": "ipython",
    "version": 3
   },
   "file_extension": ".py",
   "mimetype": "text/x-python",
   "name": "python",
   "nbconvert_exporter": "python",
   "pygments_lexer": "ipython3",
   "version": "3.6.15"
  },
  "papermill": {
   "duration": 6.717294,
   "end_time": "2022-01-23T12:12:18.087210",
   "environment_variables": {},
   "exception": null,
   "input_path": "2020-03-21-covid19exp.ipynb",
   "output_path": "2020-03-21-covid19exp.ipynb",
   "parameters": {},
   "start_time": "2022-01-23T12:12:11.369916",
   "version": "2.0.0"
  }
 },
 "nbformat": 4,
 "nbformat_minor": 5
}