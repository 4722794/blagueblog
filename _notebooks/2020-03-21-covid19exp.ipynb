{
 "cells": [
  {
   "cell_type": "markdown",
   "id": "muslim-click",
   "metadata": {
    "papermill": {
     "duration": 0.039248,
     "end_time": "2021-02-25T12:07:33.979718",
     "exception": false,
     "start_time": "2021-02-25T12:07:33.940470",
     "status": "completed"
    },
    "tags": []
   },
   "source": [
    "# COVID-19 Case Race\n",
    "> A race chart to see rising cases around the world\n",
    "\n",
    "- author: Hargun Oberoi\n",
    "- image: images/covid-overview.png\n",
    "- hide: false\n",
    "- badges: false"
   ]
  },
  {
   "cell_type": "code",
   "execution_count": 1,
   "id": "proof-material",
   "metadata": {
    "execution": {
     "iopub.execute_input": "2021-02-25T12:07:34.069574Z",
     "iopub.status.busy": "2021-02-25T12:07:34.068846Z",
     "iopub.status.idle": "2021-02-25T12:07:34.430043Z",
     "shell.execute_reply": "2021-02-25T12:07:34.429390Z"
    },
    "papermill": {
     "duration": 0.411448,
     "end_time": "2021-02-25T12:07:34.430189",
     "exception": false,
     "start_time": "2021-02-25T12:07:34.018741",
     "status": "completed"
    },
    "tags": []
   },
   "outputs": [],
   "source": [
    "#hide\n",
    "import numpy as np\n",
    "import pandas as pd\n",
    "from jinja2 import Template\n",
    "from IPython.display import HTML"
   ]
  },
  {
   "cell_type": "code",
   "execution_count": 2,
   "id": "developed-terminology",
   "metadata": {
    "execution": {
     "iopub.execute_input": "2021-02-25T12:07:34.511977Z",
     "iopub.status.busy": "2021-02-25T12:07:34.511332Z",
     "iopub.status.idle": "2021-02-25T12:07:34.513883Z",
     "shell.execute_reply": "2021-02-25T12:07:34.513338Z"
    },
    "papermill": {
     "duration": 0.04679,
     "end_time": "2021-02-25T12:07:34.514018",
     "exception": false,
     "start_time": "2021-02-25T12:07:34.467228",
     "status": "completed"
    },
    "tags": []
   },
   "outputs": [],
   "source": [
    "#hide\n",
    "\n",
    "# FETCH\n",
    "base_url = 'https://raw.githubusercontent.com/pratapvardhan/notebooks/master/covid19/'\n",
    "paths = {\n",
    "    'mapping': base_url + 'mapping_countries.csv',\n",
    "    'overview': base_url + 'overview.tpl'\n",
    "}"
   ]
  },
  {
   "cell_type": "code",
   "execution_count": 3,
   "id": "dynamic-saver",
   "metadata": {
    "execution": {
     "iopub.execute_input": "2021-02-25T12:07:34.601971Z",
     "iopub.status.busy": "2021-02-25T12:07:34.601263Z",
     "iopub.status.idle": "2021-02-25T12:07:34.612392Z",
     "shell.execute_reply": "2021-02-25T12:07:34.613007Z"
    },
    "papermill": {
     "duration": 0.060708,
     "end_time": "2021-02-25T12:07:34.613151",
     "exception": false,
     "start_time": "2021-02-25T12:07:34.552443",
     "status": "completed"
    },
    "tags": []
   },
   "outputs": [
    {
     "data": {
      "text/plain": [
       "'https://raw.githubusercontent.com/pratapvardhan/notebooks/master/covid19/mapping_countries.csv'"
      ]
     },
     "execution_count": 3,
     "metadata": {},
     "output_type": "execute_result"
    }
   ],
   "source": [
    "#hide\n",
    "paths['mapping']"
   ]
  },
  {
   "cell_type": "code",
   "execution_count": 4,
   "id": "urban-software",
   "metadata": {
    "execution": {
     "iopub.execute_input": "2021-02-25T12:07:34.692862Z",
     "iopub.status.busy": "2021-02-25T12:07:34.692247Z",
     "iopub.status.idle": "2021-02-25T12:07:34.694439Z",
     "shell.execute_reply": "2021-02-25T12:07:34.693848Z"
    },
    "papermill": {
     "duration": 0.044027,
     "end_time": "2021-02-25T12:07:34.694549",
     "exception": false,
     "start_time": "2021-02-25T12:07:34.650522",
     "status": "completed"
    },
    "tags": []
   },
   "outputs": [],
   "source": [
    "#hide\n",
    "def get_mappings(url):\n",
    "    df = pd.read_csv(url)\n",
    "    return {\n",
    "        'df': df,\n",
    "        'replace.country': dict(df.dropna(subset=['Name']).set_index('Country')['Name']),\n",
    "        'map.continent': dict(df.set_index('Name')['Continent'])\n",
    "    }"
   ]
  },
  {
   "cell_type": "code",
   "execution_count": 5,
   "id": "intimate-machinery",
   "metadata": {
    "execution": {
     "iopub.execute_input": "2021-02-25T12:07:34.784031Z",
     "iopub.status.busy": "2021-02-25T12:07:34.783403Z",
     "iopub.status.idle": "2021-02-25T12:07:34.814223Z",
     "shell.execute_reply": "2021-02-25T12:07:34.813643Z"
    },
    "papermill": {
     "duration": 0.078063,
     "end_time": "2021-02-25T12:07:34.814410",
     "exception": false,
     "start_time": "2021-02-25T12:07:34.736347",
     "status": "completed"
    },
    "tags": []
   },
   "outputs": [],
   "source": [
    "#hide\n",
    "mapping = get_mappings(paths['mapping'])"
   ]
  },
  {
   "cell_type": "code",
   "execution_count": 6,
   "id": "certified-tactics",
   "metadata": {
    "execution": {
     "iopub.execute_input": "2021-02-25T12:07:34.889291Z",
     "iopub.status.busy": "2021-02-25T12:07:34.888476Z",
     "iopub.status.idle": "2021-02-25T12:07:34.890698Z",
     "shell.execute_reply": "2021-02-25T12:07:34.891161Z"
    },
    "papermill": {
     "duration": 0.041329,
     "end_time": "2021-02-25T12:07:34.891285",
     "exception": false,
     "start_time": "2021-02-25T12:07:34.849956",
     "status": "completed"
    },
    "tags": []
   },
   "outputs": [],
   "source": [
    "#hide\n",
    "def get_template(path):\n",
    "    from urllib.parse import urlparse\n",
    "    if bool(urlparse(path).netloc):\n",
    "        from urllib.request import urlopen\n",
    "        return urlopen(path).read().decode('utf8')\n",
    "    return open(path).read()"
   ]
  },
  {
   "cell_type": "code",
   "execution_count": 7,
   "id": "realistic-blast",
   "metadata": {
    "execution": {
     "iopub.execute_input": "2021-02-25T12:07:34.969407Z",
     "iopub.status.busy": "2021-02-25T12:07:34.968782Z",
     "iopub.status.idle": "2021-02-25T12:07:34.970787Z",
     "shell.execute_reply": "2021-02-25T12:07:34.971256Z"
    },
    "papermill": {
     "duration": 0.04448,
     "end_time": "2021-02-25T12:07:34.971383",
     "exception": false,
     "start_time": "2021-02-25T12:07:34.926903",
     "status": "completed"
    },
    "tags": []
   },
   "outputs": [],
   "source": [
    "#hide\n",
    "def get_frame(name):\n",
    "    url = (\n",
    "        'https://raw.githubusercontent.com/CSSEGISandData/COVID-19/master/csse_covid_19_data/'\n",
    "        f'csse_covid_19_time_series/time_series_covid19_{name}_global.csv')\n",
    "    df = pd.read_csv(url)\n",
    "    # rename countries\n",
    "    df['Country/Region'] = df['Country/Region'].replace(mapping['replace.country'])\n",
    "    return df"
   ]
  },
  {
   "cell_type": "code",
   "execution_count": 8,
   "id": "affiliated-characterization",
   "metadata": {
    "execution": {
     "iopub.execute_input": "2021-02-25T12:07:35.053340Z",
     "iopub.status.busy": "2021-02-25T12:07:35.052677Z",
     "iopub.status.idle": "2021-02-25T12:07:35.055030Z",
     "shell.execute_reply": "2021-02-25T12:07:35.054579Z"
    },
    "papermill": {
     "duration": 0.049142,
     "end_time": "2021-02-25T12:07:35.055164",
     "exception": false,
     "start_time": "2021-02-25T12:07:35.006022",
     "status": "completed"
    },
    "tags": []
   },
   "outputs": [],
   "source": [
    "#hide\n",
    "def get_dates(df):\n",
    "    dt_cols = df.columns[~df.columns.isin(['Province/State', 'Country/Region', 'Lat', 'Long'])]\n",
    "    LAST_DATE_I = -1\n",
    "    # sometimes last column may be empty, then go backwards\n",
    "    for i in range(-1, -len(dt_cols), -1):\n",
    "        if not df[dt_cols[i]].fillna(0).eq(0).all():\n",
    "            LAST_DATE_I = i\n",
    "            break\n",
    "    return LAST_DATE_I, dt_cols"
   ]
  },
  {
   "cell_type": "code",
   "execution_count": 9,
   "id": "recent-optimization",
   "metadata": {
    "execution": {
     "iopub.execute_input": "2021-02-25T12:07:35.133250Z",
     "iopub.status.busy": "2021-02-25T12:07:35.132461Z",
     "iopub.status.idle": "2021-02-25T12:07:35.399151Z",
     "shell.execute_reply": "2021-02-25T12:07:35.398618Z"
    },
    "papermill": {
     "duration": 0.307384,
     "end_time": "2021-02-25T12:07:35.399277",
     "exception": false,
     "start_time": "2021-02-25T12:07:35.091893",
     "status": "completed"
    },
    "tags": []
   },
   "outputs": [],
   "source": [
    "#hide\n",
    "COL_REGION = 'Country/Region'\n",
    "# Confirmed, Recovered, Deaths\n",
    "df = get_frame('confirmed')\n",
    "# dft_: timeseries, dfc_: today country agg\n",
    "dft_cases = df\n",
    "dft_deaths = get_frame('deaths')\n",
    "dft_recovered = get_frame('recovered')\n",
    "LAST_DATE_I, dt_cols = get_dates(df)"
   ]
  },
  {
   "cell_type": "code",
   "execution_count": 10,
   "id": "absolute-copper",
   "metadata": {
    "execution": {
     "iopub.execute_input": "2021-02-25T12:07:35.477722Z",
     "iopub.status.busy": "2021-02-25T12:07:35.477099Z",
     "iopub.status.idle": "2021-02-25T12:07:35.479211Z",
     "shell.execute_reply": "2021-02-25T12:07:35.479826Z"
    },
    "papermill": {
     "duration": 0.046444,
     "end_time": "2021-02-25T12:07:35.479970",
     "exception": false,
     "start_time": "2021-02-25T12:07:35.433526",
     "status": "completed"
    },
    "tags": []
   },
   "outputs": [],
   "source": [
    "#hide\n",
    "LAST_DATE_I, dt_cols = get_dates(df)\n",
    "dt_today =dt_cols[LAST_DATE_I]\n",
    "# dt_5day = dt_cols[LAST_DATE_I - 5]\n",
    "dt_yday = dt_cols[LAST_DATE_I - 1]"
   ]
  },
  {
   "cell_type": "code",
   "execution_count": 11,
   "id": "restricted-sheriff",
   "metadata": {
    "execution": {
     "iopub.execute_input": "2021-02-25T12:07:35.561606Z",
     "iopub.status.busy": "2021-02-25T12:07:35.560909Z",
     "iopub.status.idle": "2021-02-25T12:07:35.568473Z",
     "shell.execute_reply": "2021-02-25T12:07:35.569035Z"
    },
    "papermill": {
     "duration": 0.054275,
     "end_time": "2021-02-25T12:07:35.569204",
     "exception": false,
     "start_time": "2021-02-25T12:07:35.514929",
     "status": "completed"
    },
    "tags": []
   },
   "outputs": [],
   "source": [
    "#hide\n",
    "dfc_cases = dft_cases.groupby(COL_REGION)[dt_today].sum()\n",
    "dfc_deaths = dft_deaths.groupby(COL_REGION)[dt_today].sum()\n",
    "# dfp_cases = dft_cases.groupby(COL_REGION)[dt_5day].sum()\n",
    "# dfp_deaths = dft_deaths.groupby(COL_REGION)[dt_5day].sum()\n",
    "dfp_cases = dft_cases.groupby(COL_REGION)[dt_yday].sum()\n",
    "dfp_deaths = dft_deaths.groupby(COL_REGION)[dt_yday].sum()"
   ]
  },
  {
   "cell_type": "code",
   "execution_count": 12,
   "id": "deluxe-hepatitis",
   "metadata": {
    "execution": {
     "iopub.execute_input": "2021-02-25T12:07:35.649306Z",
     "iopub.status.busy": "2021-02-25T12:07:35.648637Z",
     "iopub.status.idle": "2021-02-25T12:07:35.653656Z",
     "shell.execute_reply": "2021-02-25T12:07:35.653181Z"
    },
    "papermill": {
     "duration": 0.048103,
     "end_time": "2021-02-25T12:07:35.653772",
     "exception": false,
     "start_time": "2021-02-25T12:07:35.605669",
     "status": "completed"
    },
    "tags": []
   },
   "outputs": [],
   "source": [
    "#hide\n",
    "df_table = (pd.DataFrame(dict(Cases = dfc_cases, Deaths = dfc_deaths, PCases = dfp_cases, PDeaths = dfp_deaths))\n",
    "            .sort_values(by = ['Cases','Deaths'], ascending = [False, False])\n",
    "            .reset_index())"
   ]
  },
  {
   "cell_type": "code",
   "execution_count": 13,
   "id": "educational-chancellor",
   "metadata": {
    "execution": {
     "iopub.execute_input": "2021-02-25T12:07:35.737316Z",
     "iopub.status.busy": "2021-02-25T12:07:35.736483Z",
     "iopub.status.idle": "2021-02-25T12:07:35.759384Z",
     "shell.execute_reply": "2021-02-25T12:07:35.758831Z"
    },
    "papermill": {
     "duration": 0.070467,
     "end_time": "2021-02-25T12:07:35.759527",
     "exception": false,
     "start_time": "2021-02-25T12:07:35.689060",
     "status": "completed"
    },
    "tags": []
   },
   "outputs": [
    {
     "data": {
      "text/html": [
       "<div>\n",
       "<style scoped>\n",
       "    .dataframe tbody tr th:only-of-type {\n",
       "        vertical-align: middle;\n",
       "    }\n",
       "\n",
       "    .dataframe tbody tr th {\n",
       "        vertical-align: top;\n",
       "    }\n",
       "\n",
       "    .dataframe thead th {\n",
       "        text-align: right;\n",
       "    }\n",
       "</style>\n",
       "<table border=\"1\" class=\"dataframe\">\n",
       "  <thead>\n",
       "    <tr style=\"text-align: right;\">\n",
       "      <th></th>\n",
       "      <th>Country/Region</th>\n",
       "      <th>Cases</th>\n",
       "      <th>Deaths</th>\n",
       "      <th>PCases</th>\n",
       "      <th>PDeaths</th>\n",
       "      <th>Cases (+)</th>\n",
       "      <th>Deaths (+)</th>\n",
       "      <th>Fatality Rate</th>\n",
       "      <th>Continent</th>\n",
       "    </tr>\n",
       "  </thead>\n",
       "  <tbody>\n",
       "    <tr>\n",
       "      <th>0</th>\n",
       "      <td>US</td>\n",
       "      <td>28336097</td>\n",
       "      <td>505890</td>\n",
       "      <td>28261595</td>\n",
       "      <td>502660</td>\n",
       "      <td>74502</td>\n",
       "      <td>3230</td>\n",
       "      <td>1.79</td>\n",
       "      <td>North America</td>\n",
       "    </tr>\n",
       "    <tr>\n",
       "      <th>1</th>\n",
       "      <td>India</td>\n",
       "      <td>11046914</td>\n",
       "      <td>156705</td>\n",
       "      <td>11030176</td>\n",
       "      <td>156567</td>\n",
       "      <td>16738</td>\n",
       "      <td>138</td>\n",
       "      <td>1.42</td>\n",
       "      <td>Asia</td>\n",
       "    </tr>\n",
       "    <tr>\n",
       "      <th>2</th>\n",
       "      <td>Brazil</td>\n",
       "      <td>10324463</td>\n",
       "      <td>249957</td>\n",
       "      <td>10257875</td>\n",
       "      <td>248529</td>\n",
       "      <td>66588</td>\n",
       "      <td>1428</td>\n",
       "      <td>2.42</td>\n",
       "      <td>South America</td>\n",
       "    </tr>\n",
       "    <tr>\n",
       "      <th>3</th>\n",
       "      <td>United Kingdom</td>\n",
       "      <td>4156702</td>\n",
       "      <td>121978</td>\n",
       "      <td>4146760</td>\n",
       "      <td>121536</td>\n",
       "      <td>9942</td>\n",
       "      <td>442</td>\n",
       "      <td>2.93</td>\n",
       "      <td>Europe</td>\n",
       "    </tr>\n",
       "    <tr>\n",
       "      <th>4</th>\n",
       "      <td>Russia</td>\n",
       "      <td>4153735</td>\n",
       "      <td>83044</td>\n",
       "      <td>4142126</td>\n",
       "      <td>82666</td>\n",
       "      <td>11609</td>\n",
       "      <td>378</td>\n",
       "      <td>2.00</td>\n",
       "      <td>Europe</td>\n",
       "    </tr>\n",
       "  </tbody>\n",
       "</table>\n",
       "</div>"
      ],
      "text/plain": [
       "   Country/Region     Cases  Deaths    PCases  PDeaths  Cases (+)  Deaths (+)  \\\n",
       "0              US  28336097  505890  28261595   502660      74502        3230   \n",
       "1           India  11046914  156705  11030176   156567      16738         138   \n",
       "2          Brazil  10324463  249957  10257875   248529      66588        1428   \n",
       "3  United Kingdom   4156702  121978   4146760   121536       9942         442   \n",
       "4          Russia   4153735   83044   4142126    82666      11609         378   \n",
       "\n",
       "   Fatality Rate      Continent  \n",
       "0           1.79  North America  \n",
       "1           1.42           Asia  \n",
       "2           2.42  South America  \n",
       "3           2.93         Europe  \n",
       "4           2.00         Europe  "
      ]
     },
     "execution_count": 13,
     "metadata": {},
     "output_type": "execute_result"
    }
   ],
   "source": [
    "#hide\n",
    "for c in 'Cases, Deaths'.split(', '):\n",
    "    df_table[f'{c} (+)'] = (df_table[c] - df_table[f'P{c}']).clip(0)\n",
    "    #Clip ça veut dire, les chiffres negatif sont interdit\n",
    "df_table['Fatality Rate'] = (100* df_table['Deaths']/ df_table['Cases']).round(2)\n",
    "df_table['Continent'] = df_table['Country/Region'].map(mapping['map.continent'])\n",
    "df_table.head(5)"
   ]
  },
  {
   "cell_type": "code",
   "execution_count": 14,
   "id": "aboriginal-bulgaria",
   "metadata": {
    "execution": {
     "iopub.execute_input": "2021-02-25T12:07:35.843780Z",
     "iopub.status.busy": "2021-02-25T12:07:35.842985Z",
     "iopub.status.idle": "2021-02-25T12:07:35.846211Z",
     "shell.execute_reply": "2021-02-25T12:07:35.845629Z"
    },
    "papermill": {
     "duration": 0.04826,
     "end_time": "2021-02-25T12:07:35.846326",
     "exception": false,
     "start_time": "2021-02-25T12:07:35.798066",
     "status": "completed"
    },
    "tags": []
   },
   "outputs": [],
   "source": [
    "#hide\n",
    "#delete problematic countries from table\n",
    "df_table = df_table[~df_table['Country/Region'].isin(['Cape Verde', 'Cruise Ship', 'Kosovo'])]"
   ]
  },
  {
   "cell_type": "code",
   "execution_count": 15,
   "id": "fantastic-effect",
   "metadata": {
    "execution": {
     "iopub.execute_input": "2021-02-25T12:07:35.929239Z",
     "iopub.status.busy": "2021-02-25T12:07:35.928402Z",
     "iopub.status.idle": "2021-02-25T12:07:35.951297Z",
     "shell.execute_reply": "2021-02-25T12:07:35.950799Z"
    },
    "papermill": {
     "duration": 0.06928,
     "end_time": "2021-02-25T12:07:35.951418",
     "exception": false,
     "start_time": "2021-02-25T12:07:35.882138",
     "status": "completed"
    },
    "tags": []
   },
   "outputs": [
    {
     "data": {
      "text/html": [
       "<div>\n",
       "<style scoped>\n",
       "    .dataframe tbody tr th:only-of-type {\n",
       "        vertical-align: middle;\n",
       "    }\n",
       "\n",
       "    .dataframe tbody tr th {\n",
       "        vertical-align: top;\n",
       "    }\n",
       "\n",
       "    .dataframe thead th {\n",
       "        text-align: right;\n",
       "    }\n",
       "</style>\n",
       "<table border=\"1\" class=\"dataframe\">\n",
       "  <thead>\n",
       "    <tr style=\"text-align: right;\">\n",
       "      <th></th>\n",
       "      <th>Country/Region</th>\n",
       "      <th>Cases</th>\n",
       "      <th>Deaths</th>\n",
       "      <th>PCases</th>\n",
       "      <th>PDeaths</th>\n",
       "      <th>Cases (+)</th>\n",
       "      <th>Deaths (+)</th>\n",
       "      <th>Fatality Rate</th>\n",
       "      <th>Continent</th>\n",
       "    </tr>\n",
       "  </thead>\n",
       "  <tbody>\n",
       "    <tr>\n",
       "      <th>0</th>\n",
       "      <td>US</td>\n",
       "      <td>28336097</td>\n",
       "      <td>505890</td>\n",
       "      <td>28261595</td>\n",
       "      <td>502660</td>\n",
       "      <td>74502</td>\n",
       "      <td>3230</td>\n",
       "      <td>1.8</td>\n",
       "      <td>North America</td>\n",
       "    </tr>\n",
       "    <tr>\n",
       "      <th>1</th>\n",
       "      <td>India</td>\n",
       "      <td>11046914</td>\n",
       "      <td>156705</td>\n",
       "      <td>11030176</td>\n",
       "      <td>156567</td>\n",
       "      <td>16738</td>\n",
       "      <td>138</td>\n",
       "      <td>1.4</td>\n",
       "      <td>Asia</td>\n",
       "    </tr>\n",
       "    <tr>\n",
       "      <th>2</th>\n",
       "      <td>Brazil</td>\n",
       "      <td>10324463</td>\n",
       "      <td>249957</td>\n",
       "      <td>10257875</td>\n",
       "      <td>248529</td>\n",
       "      <td>66588</td>\n",
       "      <td>1428</td>\n",
       "      <td>2.4</td>\n",
       "      <td>South America</td>\n",
       "    </tr>\n",
       "    <tr>\n",
       "      <th>3</th>\n",
       "      <td>United Kingdom</td>\n",
       "      <td>4156702</td>\n",
       "      <td>121978</td>\n",
       "      <td>4146760</td>\n",
       "      <td>121536</td>\n",
       "      <td>9942</td>\n",
       "      <td>442</td>\n",
       "      <td>2.9</td>\n",
       "      <td>Europe</td>\n",
       "    </tr>\n",
       "    <tr>\n",
       "      <th>4</th>\n",
       "      <td>Russia</td>\n",
       "      <td>4153735</td>\n",
       "      <td>83044</td>\n",
       "      <td>4142126</td>\n",
       "      <td>82666</td>\n",
       "      <td>11609</td>\n",
       "      <td>378</td>\n",
       "      <td>2.0</td>\n",
       "      <td>Europe</td>\n",
       "    </tr>\n",
       "  </tbody>\n",
       "</table>\n",
       "</div>"
      ],
      "text/plain": [
       "   Country/Region     Cases  Deaths    PCases  PDeaths  Cases (+)  Deaths (+)  \\\n",
       "0              US  28336097  505890  28261595   502660      74502        3230   \n",
       "1           India  11046914  156705  11030176   156567      16738         138   \n",
       "2          Brazil  10324463  249957  10257875   248529      66588        1428   \n",
       "3  United Kingdom   4156702  121978   4146760   121536       9942         442   \n",
       "4          Russia   4153735   83044   4142126    82666      11609         378   \n",
       "\n",
       "   Fatality Rate      Continent  \n",
       "0            1.8  North America  \n",
       "1            1.4           Asia  \n",
       "2            2.4  South America  \n",
       "3            2.9         Europe  \n",
       "4            2.0         Europe  "
      ]
     },
     "execution_count": 15,
     "metadata": {},
     "output_type": "execute_result"
    }
   ],
   "source": [
    "#hide\n",
    "df_table = (pd.DataFrame(dict(Cases=dfc_cases, Deaths=dfc_deaths, PCases=dfp_cases, PDeaths=dfp_deaths))\n",
    "             .sort_values(by=['Cases', 'Deaths'], ascending=[False, False])\n",
    "             .reset_index())\n",
    "df_table.rename(columns={'index': 'Country/Region'}, inplace=True)\n",
    "for c in 'Cases, Deaths'.split(', '):\n",
    "    df_table[f'{c} (+)'] = (df_table[c] - df_table[f'P{c}']).clip(0)  # DATA BUG\n",
    "df_table['Fatality Rate'] = (100 * df_table['Deaths'] / df_table['Cases']).round(1)\n",
    "df_table['Continent'] = df_table['Country/Region'].map(mapping['map.continent'])\n",
    "df_table.head(5)"
   ]
  },
  {
   "cell_type": "code",
   "execution_count": 16,
   "id": "fewer-occasion",
   "metadata": {
    "execution": {
     "iopub.execute_input": "2021-02-25T12:07:36.030378Z",
     "iopub.status.busy": "2021-02-25T12:07:36.029766Z",
     "iopub.status.idle": "2021-02-25T12:07:36.035707Z",
     "shell.execute_reply": "2021-02-25T12:07:36.035141Z"
    },
    "papermill": {
     "duration": 0.048017,
     "end_time": "2021-02-25T12:07:36.035892",
     "exception": false,
     "start_time": "2021-02-25T12:07:35.987875",
     "status": "completed"
    },
    "tags": []
   },
   "outputs": [],
   "source": [
    "#hide\n",
    "#delete problematic countries from table\n",
    "df_table = df_table[~df_table['Country/Region'].isin(['Cape Verde', 'Cruise Ship', 'Kosovo'])]"
   ]
  },
  {
   "cell_type": "code",
   "execution_count": 17,
   "id": "related-center",
   "metadata": {
    "execution": {
     "iopub.execute_input": "2021-02-25T12:07:36.123440Z",
     "iopub.status.busy": "2021-02-25T12:07:36.122866Z",
     "iopub.status.idle": "2021-02-25T12:07:36.137003Z",
     "shell.execute_reply": "2021-02-25T12:07:36.137568Z"
    },
    "papermill": {
     "duration": 0.061421,
     "end_time": "2021-02-25T12:07:36.137697",
     "exception": false,
     "start_time": "2021-02-25T12:07:36.076276",
     "status": "completed"
    },
    "tags": []
   },
   "outputs": [],
   "source": [
    "#hide\n",
    "metrics = [df_table.columns[index] for index in [1,2,5,6]]\n",
    "# s_china = df_table[df_table['Country/Region'].eq('China')][metrics].sum().add_prefix('China ')\n",
    "s_us = df_table[df_table['Country/Region'].eq('US')][metrics].sum().add_prefix('US ')\n",
    "s_eu = df_table[df_table['Continent'].eq('Europe')][metrics].sum().add_prefix('EU ')\n",
    "s_ind = df_table[df_table['Country/Region'].eq('India')][metrics].sum().add_prefix('India ')\n",
    "summary = {'updated': pd.to_datetime(dt_today), 'since': pd.to_datetime(dt_yday)}\n",
    "summary = {'updated': pd.to_datetime(dt_today), 'since': pd.to_datetime(dt_yday)}\n",
    "summary = {**summary, **df_table[metrics].sum(), **s_ind, **s_us, **s_eu}"
   ]
  },
  {
   "cell_type": "code",
   "execution_count": 18,
   "id": "engaging-syndrome",
   "metadata": {
    "execution": {
     "iopub.execute_input": "2021-02-25T12:07:36.231606Z",
     "iopub.status.busy": "2021-02-25T12:07:36.227917Z",
     "iopub.status.idle": "2021-02-25T12:07:36.241965Z",
     "shell.execute_reply": "2021-02-25T12:07:36.241298Z"
    },
    "papermill": {
     "duration": 0.064638,
     "end_time": "2021-02-25T12:07:36.242126",
     "exception": false,
     "start_time": "2021-02-25T12:07:36.177488",
     "status": "completed"
    },
    "tags": []
   },
   "outputs": [],
   "source": [
    "#hide\n",
    "dft_ct_new_cases = dft_cases.groupby(COL_REGION)[dt_cols].sum().diff(axis=1).fillna(0).astype(int)"
   ]
  },
  {
   "cell_type": "code",
   "execution_count": 19,
   "id": "neutral-assignment",
   "metadata": {
    "execution": {
     "iopub.execute_input": "2021-02-25T12:07:36.328409Z",
     "iopub.status.busy": "2021-02-25T12:07:36.327528Z",
     "iopub.status.idle": "2021-02-25T12:07:36.329875Z",
     "shell.execute_reply": "2021-02-25T12:07:36.330695Z"
    },
    "papermill": {
     "duration": 0.047061,
     "end_time": "2021-02-25T12:07:36.330876",
     "exception": false,
     "start_time": "2021-02-25T12:07:36.283815",
     "status": "completed"
    },
    "tags": []
   },
   "outputs": [],
   "source": [
    "#hide\n",
    "everydaycases = dft_ct_new_cases.cumsum(axis=1)"
   ]
  },
  {
   "cell_type": "code",
   "execution_count": 20,
   "id": "parliamentary-calgary",
   "metadata": {
    "execution": {
     "iopub.execute_input": "2021-02-25T12:07:36.414653Z",
     "iopub.status.busy": "2021-02-25T12:07:36.414003Z",
     "iopub.status.idle": "2021-02-25T12:07:39.311952Z",
     "shell.execute_reply": "2021-02-25T12:07:39.311405Z"
    },
    "papermill": {
     "duration": 2.941496,
     "end_time": "2021-02-25T12:07:39.312076",
     "exception": false,
     "start_time": "2021-02-25T12:07:36.370580",
     "status": "completed"
    },
    "tags": []
   },
   "outputs": [],
   "source": [
    "#hide\n",
    "import pandas as pd\n",
    "import matplotlib.pyplot as plt\n",
    "import matplotlib.ticker as ticker\n",
    "import matplotlib.animation as animation\n",
    "from IPython.display import HTML"
   ]
  },
  {
   "cell_type": "code",
   "execution_count": 21,
   "id": "lasting-extraction",
   "metadata": {
    "execution": {
     "iopub.execute_input": "2021-02-25T12:07:39.397185Z",
     "iopub.status.busy": "2021-02-25T12:07:39.396562Z",
     "iopub.status.idle": "2021-02-25T12:07:39.401857Z",
     "shell.execute_reply": "2021-02-25T12:07:39.402448Z"
    },
    "papermill": {
     "duration": 0.049588,
     "end_time": "2021-02-25T12:07:39.402579",
     "exception": false,
     "start_time": "2021-02-25T12:07:39.352991",
     "status": "completed"
    },
    "tags": []
   },
   "outputs": [],
   "source": [
    "#hide\n",
    "t = everydaycases.stack()"
   ]
  },
  {
   "cell_type": "code",
   "execution_count": 22,
   "id": "premier-sleeve",
   "metadata": {
    "execution": {
     "iopub.execute_input": "2021-02-25T12:07:39.483371Z",
     "iopub.status.busy": "2021-02-25T12:07:39.482641Z",
     "iopub.status.idle": "2021-02-25T12:07:39.489684Z",
     "shell.execute_reply": "2021-02-25T12:07:39.490249Z"
    },
    "papermill": {
     "duration": 0.050105,
     "end_time": "2021-02-25T12:07:39.490385",
     "exception": false,
     "start_time": "2021-02-25T12:07:39.440280",
     "status": "completed"
    },
    "tags": []
   },
   "outputs": [],
   "source": [
    "#hide\n",
    "g = t.reset_index(['Country/Region'])"
   ]
  },
  {
   "cell_type": "code",
   "execution_count": 23,
   "id": "distributed-pittsburgh",
   "metadata": {
    "execution": {
     "iopub.execute_input": "2021-02-25T12:07:39.565838Z",
     "iopub.status.busy": "2021-02-25T12:07:39.565251Z",
     "iopub.status.idle": "2021-02-25T12:07:39.567778Z",
     "shell.execute_reply": "2021-02-25T12:07:39.567275Z"
    },
    "papermill": {
     "duration": 0.041553,
     "end_time": "2021-02-25T12:07:39.567893",
     "exception": false,
     "start_time": "2021-02-25T12:07:39.526340",
     "status": "completed"
    },
    "tags": []
   },
   "outputs": [],
   "source": [
    "#hide\n",
    "g.index.name = 'date'"
   ]
  },
  {
   "cell_type": "code",
   "execution_count": 24,
   "id": "naked-donor",
   "metadata": {
    "execution": {
     "iopub.execute_input": "2021-02-25T12:07:39.650247Z",
     "iopub.status.busy": "2021-02-25T12:07:39.649541Z",
     "iopub.status.idle": "2021-02-25T12:07:39.652147Z",
     "shell.execute_reply": "2021-02-25T12:07:39.651548Z"
    },
    "papermill": {
     "duration": 0.044651,
     "end_time": "2021-02-25T12:07:39.652273",
     "exception": false,
     "start_time": "2021-02-25T12:07:39.607622",
     "status": "completed"
    },
    "tags": []
   },
   "outputs": [],
   "source": [
    "# #hide\n",
    "# g = g.reset_index(['date'])"
   ]
  },
  {
   "cell_type": "code",
   "execution_count": 25,
   "id": "incomplete-mustang",
   "metadata": {
    "execution": {
     "iopub.execute_input": "2021-02-25T12:07:39.736115Z",
     "iopub.status.busy": "2021-02-25T12:07:39.735377Z",
     "iopub.status.idle": "2021-02-25T12:07:39.738039Z",
     "shell.execute_reply": "2021-02-25T12:07:39.737333Z"
    },
    "papermill": {
     "duration": 0.045214,
     "end_time": "2021-02-25T12:07:39.738163",
     "exception": false,
     "start_time": "2021-02-25T12:07:39.692949",
     "status": "completed"
    },
    "tags": []
   },
   "outputs": [],
   "source": [
    "#hide\n",
    "# g.head()"
   ]
  },
  {
   "cell_type": "code",
   "execution_count": 26,
   "id": "specific-kruger",
   "metadata": {
    "execution": {
     "iopub.execute_input": "2021-02-25T12:07:39.820825Z",
     "iopub.status.busy": "2021-02-25T12:07:39.820085Z",
     "iopub.status.idle": "2021-02-25T12:07:39.823318Z",
     "shell.execute_reply": "2021-02-25T12:07:39.823786Z"
    },
    "papermill": {
     "duration": 0.045923,
     "end_time": "2021-02-25T12:07:39.823921",
     "exception": false,
     "start_time": "2021-02-25T12:07:39.777998",
     "status": "completed"
    },
    "tags": []
   },
   "outputs": [],
   "source": [
    "#hide\n",
    "# g.columns = ['date','country','cases']"
   ]
  },
  {
   "cell_type": "code",
   "execution_count": 27,
   "id": "tender-conversion",
   "metadata": {
    "execution": {
     "iopub.execute_input": "2021-02-25T12:07:39.906216Z",
     "iopub.status.busy": "2021-02-25T12:07:39.905447Z",
     "iopub.status.idle": "2021-02-25T12:07:39.909748Z",
     "shell.execute_reply": "2021-02-25T12:07:39.909192Z"
    },
    "papermill": {
     "duration": 0.047302,
     "end_time": "2021-02-25T12:07:39.909867",
     "exception": false,
     "start_time": "2021-02-25T12:07:39.862565",
     "status": "completed"
    },
    "tags": []
   },
   "outputs": [],
   "source": [
    "#hide\n",
    "# g['continent'] = g.country"
   ]
  },
  {
   "cell_type": "code",
   "execution_count": 28,
   "id": "substantial-wilderness",
   "metadata": {
    "execution": {
     "iopub.execute_input": "2021-02-25T12:07:39.993542Z",
     "iopub.status.busy": "2021-02-25T12:07:39.992934Z",
     "iopub.status.idle": "2021-02-25T12:07:39.997269Z",
     "shell.execute_reply": "2021-02-25T12:07:39.996720Z"
    },
    "papermill": {
     "duration": 0.048673,
     "end_time": "2021-02-25T12:07:39.997411",
     "exception": false,
     "start_time": "2021-02-25T12:07:39.948738",
     "status": "completed"
    },
    "tags": []
   },
   "outputs": [],
   "source": [
    "#hide\n",
    "# cols = list(g.columns.values)"
   ]
  },
  {
   "cell_type": "code",
   "execution_count": 29,
   "id": "solved-farming",
   "metadata": {
    "execution": {
     "iopub.execute_input": "2021-02-25T12:07:40.081602Z",
     "iopub.status.busy": "2021-02-25T12:07:40.080932Z",
     "iopub.status.idle": "2021-02-25T12:07:40.085249Z",
     "shell.execute_reply": "2021-02-25T12:07:40.084466Z"
    },
    "papermill": {
     "duration": 0.050274,
     "end_time": "2021-02-25T12:07:40.085402",
     "exception": false,
     "start_time": "2021-02-25T12:07:40.035128",
     "status": "completed"
    },
    "tags": []
   },
   "outputs": [],
   "source": [
    "#hide\n",
    "# cols.insert(0, cols.pop())"
   ]
  },
  {
   "cell_type": "code",
   "execution_count": 30,
   "id": "executed-adoption",
   "metadata": {
    "execution": {
     "iopub.execute_input": "2021-02-25T12:07:40.181309Z",
     "iopub.status.busy": "2021-02-25T12:07:40.179598Z",
     "iopub.status.idle": "2021-02-25T12:07:40.182004Z",
     "shell.execute_reply": "2021-02-25T12:07:40.182607Z"
    },
    "papermill": {
     "duration": 0.056512,
     "end_time": "2021-02-25T12:07:40.182762",
     "exception": false,
     "start_time": "2021-02-25T12:07:40.126250",
     "status": "completed"
    },
    "tags": []
   },
   "outputs": [],
   "source": [
    "#hide\n",
    "# g = g[cols]"
   ]
  },
  {
   "cell_type": "code",
   "execution_count": 31,
   "id": "subject-dublin",
   "metadata": {
    "execution": {
     "iopub.execute_input": "2021-02-25T12:07:40.263741Z",
     "iopub.status.busy": "2021-02-25T12:07:40.263093Z",
     "iopub.status.idle": "2021-02-25T12:07:40.268142Z",
     "shell.execute_reply": "2021-02-25T12:07:40.268722Z"
    },
    "papermill": {
     "duration": 0.047149,
     "end_time": "2021-02-25T12:07:40.268918",
     "exception": false,
     "start_time": "2021-02-25T12:07:40.221769",
     "status": "completed"
    },
    "tags": []
   },
   "outputs": [],
   "source": [
    "#hide\n",
    "# g['continent'] = g['continent'].map(mapping['map.continent'])"
   ]
  },
  {
   "cell_type": "code",
   "execution_count": 32,
   "id": "freelance-scout",
   "metadata": {
    "execution": {
     "iopub.execute_input": "2021-02-25T12:07:40.352185Z",
     "iopub.status.busy": "2021-02-25T12:07:40.351462Z",
     "iopub.status.idle": "2021-02-25T12:07:40.353432Z",
     "shell.execute_reply": "2021-02-25T12:07:40.353965Z"
    },
    "papermill": {
     "duration": 0.046545,
     "end_time": "2021-02-25T12:07:40.354103",
     "exception": false,
     "start_time": "2021-02-25T12:07:40.307558",
     "status": "completed"
    },
    "tags": []
   },
   "outputs": [],
   "source": [
    "#hide\n",
    "# g.head()"
   ]
  },
  {
   "cell_type": "code",
   "execution_count": 33,
   "id": "limited-engine",
   "metadata": {
    "execution": {
     "iopub.execute_input": "2021-02-25T12:07:40.450982Z",
     "iopub.status.busy": "2021-02-25T12:07:40.450302Z",
     "iopub.status.idle": "2021-02-25T12:07:40.452122Z",
     "shell.execute_reply": "2021-02-25T12:07:40.451528Z"
    },
    "papermill": {
     "duration": 0.04511,
     "end_time": "2021-02-25T12:07:40.452233",
     "exception": false,
     "start_time": "2021-02-25T12:07:40.407123",
     "status": "completed"
    },
    "tags": []
   },
   "outputs": [],
   "source": [
    "# hide\n",
    "# g['date'] = g['date'].astype('datetime64[ns]')"
   ]
  },
  {
   "cell_type": "code",
   "execution_count": 34,
   "id": "sophisticated-supervisor",
   "metadata": {
    "execution": {
     "iopub.execute_input": "2021-02-25T12:07:40.530466Z",
     "iopub.status.busy": "2021-02-25T12:07:40.529802Z",
     "iopub.status.idle": "2021-02-25T12:07:40.532538Z",
     "shell.execute_reply": "2021-02-25T12:07:40.531997Z"
    },
    "papermill": {
     "duration": 0.042515,
     "end_time": "2021-02-25T12:07:40.532675",
     "exception": false,
     "start_time": "2021-02-25T12:07:40.490160",
     "status": "completed"
    },
    "tags": []
   },
   "outputs": [],
   "source": [
    "#hide\n",
    "# g['date'] = g.date.dt.dayofyear"
   ]
  },
  {
   "cell_type": "code",
   "execution_count": 35,
   "id": "inside-dubai",
   "metadata": {
    "execution": {
     "iopub.execute_input": "2021-02-25T12:07:40.609527Z",
     "iopub.status.busy": "2021-02-25T12:07:40.608699Z",
     "iopub.status.idle": "2021-02-25T12:07:40.610586Z",
     "shell.execute_reply": "2021-02-25T12:07:40.611351Z"
    },
    "papermill": {
     "duration": 0.043724,
     "end_time": "2021-02-25T12:07:40.611574",
     "exception": false,
     "start_time": "2021-02-25T12:07:40.567850",
     "status": "completed"
    },
    "tags": []
   },
   "outputs": [],
   "source": [
    "#hide\n",
    "# g = g.rename(columns= {'continent':'group','country':'name','cases':'value'})"
   ]
  },
  {
   "cell_type": "code",
   "execution_count": 36,
   "id": "fleet-motorcycle",
   "metadata": {
    "execution": {
     "iopub.execute_input": "2021-02-25T12:07:40.688289Z",
     "iopub.status.busy": "2021-02-25T12:07:40.687679Z",
     "iopub.status.idle": "2021-02-25T12:07:40.689345Z",
     "shell.execute_reply": "2021-02-25T12:07:40.689847Z"
    },
    "papermill": {
     "duration": 0.041641,
     "end_time": "2021-02-25T12:07:40.690012",
     "exception": false,
     "start_time": "2021-02-25T12:07:40.648371",
     "status": "completed"
    },
    "tags": []
   },
   "outputs": [],
   "source": [
    "#hide\n",
    "# cols = ['name','group','day','value']"
   ]
  },
  {
   "cell_type": "code",
   "execution_count": 37,
   "id": "continued-sleeping",
   "metadata": {
    "execution": {
     "iopub.execute_input": "2021-02-25T12:07:40.771393Z",
     "iopub.status.busy": "2021-02-25T12:07:40.770725Z",
     "iopub.status.idle": "2021-02-25T12:07:40.773462Z",
     "shell.execute_reply": "2021-02-25T12:07:40.772587Z"
    },
    "papermill": {
     "duration": 0.042752,
     "end_time": "2021-02-25T12:07:40.773613",
     "exception": false,
     "start_time": "2021-02-25T12:07:40.730861",
     "status": "completed"
    },
    "tags": []
   },
   "outputs": [],
   "source": [
    "#hide\n",
    "# g.rename(columns= {'date':'day'},inplace = True)"
   ]
  },
  {
   "cell_type": "code",
   "execution_count": 38,
   "id": "major-fight",
   "metadata": {
    "execution": {
     "iopub.execute_input": "2021-02-25T12:07:40.851835Z",
     "iopub.status.busy": "2021-02-25T12:07:40.851239Z",
     "iopub.status.idle": "2021-02-25T12:07:40.854564Z",
     "shell.execute_reply": "2021-02-25T12:07:40.855127Z"
    },
    "papermill": {
     "duration": 0.044885,
     "end_time": "2021-02-25T12:07:40.855261",
     "exception": false,
     "start_time": "2021-02-25T12:07:40.810376",
     "status": "completed"
    },
    "tags": []
   },
   "outputs": [],
   "source": [
    "#hide\n",
    "# g = g[cols]"
   ]
  },
  {
   "cell_type": "code",
   "execution_count": 39,
   "id": "structured-mobile",
   "metadata": {
    "execution": {
     "iopub.execute_input": "2021-02-25T12:07:40.933126Z",
     "iopub.status.busy": "2021-02-25T12:07:40.932429Z",
     "iopub.status.idle": "2021-02-25T12:07:40.935909Z",
     "shell.execute_reply": "2021-02-25T12:07:40.935293Z"
    },
    "papermill": {
     "duration": 0.044428,
     "end_time": "2021-02-25T12:07:40.936036",
     "exception": false,
     "start_time": "2021-02-25T12:07:40.891608",
     "status": "completed"
    },
    "tags": []
   },
   "outputs": [],
   "source": [
    "# #hide\n",
    "# g = g[g.group.notna()]"
   ]
  },
  {
   "cell_type": "code",
   "execution_count": 40,
   "id": "determined-closing",
   "metadata": {
    "execution": {
     "iopub.execute_input": "2021-02-25T12:07:41.017603Z",
     "iopub.status.busy": "2021-02-25T12:07:41.016885Z",
     "iopub.status.idle": "2021-02-25T12:07:41.019816Z",
     "shell.execute_reply": "2021-02-25T12:07:41.019239Z"
    },
    "papermill": {
     "duration": 0.043845,
     "end_time": "2021-02-25T12:07:41.019940",
     "exception": false,
     "start_time": "2021-02-25T12:07:40.976095",
     "status": "completed"
    },
    "tags": []
   },
   "outputs": [],
   "source": [
    "# #hide\n",
    "# colors = dict(zip(\n",
    "#     [\"Oceania\", \"Europe\", \"Asia\", \"South America\", \"Middle East\", \"North America\", \"Africa\"],\n",
    "#     [\"#adb0ff\", \"#ffb3ff\", \"#90d595\", \"#e48381\", \"#aafbff\", \"#f7bb5f\", \"#eafb50\"]\n",
    "# ))\n",
    "# group_lk = g.set_index('name')['group'].to_dict()"
   ]
  },
  {
   "cell_type": "code",
   "execution_count": null,
   "id": "gross-drinking",
   "metadata": {
    "papermill": {
     "duration": 0.037959,
     "end_time": "2021-02-25T12:07:41.096826",
     "exception": false,
     "start_time": "2021-02-25T12:07:41.058867",
     "status": "completed"
    },
    "tags": []
   },
   "outputs": [],
   "source": []
  },
  {
   "cell_type": "code",
   "execution_count": 41,
   "id": "subject-macintosh",
   "metadata": {
    "execution": {
     "iopub.execute_input": "2021-02-25T12:07:41.176141Z",
     "iopub.status.busy": "2021-02-25T12:07:41.175385Z",
     "iopub.status.idle": "2021-02-25T12:07:41.179613Z",
     "shell.execute_reply": "2021-02-25T12:07:41.180055Z"
    },
    "papermill": {
     "duration": 0.046687,
     "end_time": "2021-02-25T12:07:41.180209",
     "exception": false,
     "start_time": "2021-02-25T12:07:41.133522",
     "status": "completed"
    },
    "tags": []
   },
   "outputs": [],
   "source": [
    "# #hide\n",
    "# fig, ax = plt.subplots(figsize=(15, 8))\n",
    "\n",
    "# def draw_barchart(current_day):\n",
    "#     dff = g[g['day'].eq(current_day)].sort_values(by='value', ascending=True).tail(10)\n",
    "#     ax.clear()\n",
    "#     ax.barh(dff['name'], dff['value'], color=[colors[group_lk[x]] for x in dff['name']])\n",
    "#     dx = dff['value'].max() / 200\n",
    "    \n",
    "#     for i, (value, name) in enumerate(zip(dff['value'], dff['name'])):\n",
    "#         ax.text(value-dx, i,     name,           size=14, weight=600, ha='right', va='bottom')\n",
    "#         ax.text(value-dx, i-.25, group_lk[name], size=10, color='#444444', ha='right', va='baseline')\n",
    "#         ax.text(value+dx, i,     f'{value:,.0f}',  size=14, ha='left',  va='center')\n",
    "#     ax.text(1, 0.4, current_day, transform=ax.transAxes, color='#777777', size=46, ha='right', weight=800)\n",
    "#     ax.text(0, 1.06, 'Population (thousands)', transform=ax.transAxes, size=12, color='#777777')\n",
    "#     ax.xaxis.set_major_formatter(ticker.StrMethodFormatter('{x:,.0f}'))\n",
    "#     ax.xaxis.set_ticks_position('top')\n",
    "#     ax.tick_params(axis='x', colors='#777777', labelsize=12)\n",
    "#     ax.set_yticks([])\n",
    "#     ax.margins(0, 0.01)\n",
    "#     ax.grid(which='major', axis='x', linestyle='-')\n",
    "#     ax.set_axisbelow(True)\n",
    "    \n",
    "#     ax.text(0, 1.15, 'Coronavirus',\n",
    "#             transform=ax.transAxes, size=24, weight=600, ha='left', va='top')\n",
    "# #     ax.text(1, 0, 'by @pratapvardhan; credit @jburnmurdoch', transform=ax.transAxes, color='#777777', ha='right',\n",
    "# #             bbox=dict(facecolor='white', alpha=0.8, edgecolor='white'))\n",
    "#     plt.box(False)"
   ]
  },
  {
   "cell_type": "code",
   "execution_count": 42,
   "id": "sexual-wages",
   "metadata": {
    "execution": {
     "iopub.execute_input": "2021-02-25T12:07:41.258869Z",
     "iopub.status.busy": "2021-02-25T12:07:41.257473Z",
     "iopub.status.idle": "2021-02-25T12:07:41.259591Z",
     "shell.execute_reply": "2021-02-25T12:07:41.260370Z"
    },
    "papermill": {
     "duration": 0.044193,
     "end_time": "2021-02-25T12:07:41.260602",
     "exception": false,
     "start_time": "2021-02-25T12:07:41.216409",
     "status": "completed"
    },
    "tags": []
   },
   "outputs": [],
   "source": [
    "# #hide_input\n",
    "# fig, ax = plt.subplots(figsize=(15, 8))\n",
    "# animator = animation.FuncAnimation(fig, draw_barchart, frames=range(g.day.values.min(), g.day.values.max()))\n",
    "# HTML(animator.to_jshtml())\n",
    "# # or use animator.to_html5_video() or animator.save() "
   ]
  },
  {
   "cell_type": "code",
   "execution_count": null,
   "id": "australian-container",
   "metadata": {
    "papermill": {
     "duration": 0.035014,
     "end_time": "2021-02-25T12:07:41.334472",
     "exception": false,
     "start_time": "2021-02-25T12:07:41.299458",
     "status": "completed"
    },
    "tags": []
   },
   "outputs": [],
   "source": []
  },
  {
   "cell_type": "code",
   "execution_count": null,
   "id": "mediterranean-pontiac",
   "metadata": {
    "papermill": {
     "duration": 0.035874,
     "end_time": "2021-02-25T12:07:41.407101",
     "exception": false,
     "start_time": "2021-02-25T12:07:41.371227",
     "status": "completed"
    },
    "tags": []
   },
   "outputs": [],
   "source": []
  },
  {
   "cell_type": "code",
   "execution_count": null,
   "id": "aging-legislature",
   "metadata": {
    "papermill": {
     "duration": 0.037096,
     "end_time": "2021-02-25T12:07:41.482065",
     "exception": false,
     "start_time": "2021-02-25T12:07:41.444969",
     "status": "completed"
    },
    "tags": []
   },
   "outputs": [],
   "source": []
  }
 ],
 "metadata": {
  "kernelspec": {
   "display_name": "Python 3",
   "language": "python",
   "name": "python3"
  },
  "language_info": {
   "codemirror_mode": {
    "name": "ipython",
    "version": 3
   },
   "file_extension": ".py",
   "mimetype": "text/x-python",
   "name": "python",
   "nbconvert_exporter": "python",
   "pygments_lexer": "ipython3",
   "version": "3.6.13"
  },
  "papermill": {
   "duration": 8.998704,
   "end_time": "2021-02-25T12:07:41.826217",
   "environment_variables": {},
   "exception": null,
   "input_path": "2020-03-21-covid19exp.ipynb",
   "output_path": "2020-03-21-covid19exp.ipynb",
   "parameters": {},
   "start_time": "2021-02-25T12:07:32.827513",
   "version": "2.0.0"
  }
 },
 "nbformat": 4,
 "nbformat_minor": 5
}