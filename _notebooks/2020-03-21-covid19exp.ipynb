{
 "cells": [
  {
   "cell_type": "markdown",
   "id": "muslim-click",
   "metadata": {
    "papermill": {
     "duration": 0.038092,
     "end_time": "2021-06-10T00:21:56.271892",
     "exception": false,
     "start_time": "2021-06-10T00:21:56.233800",
     "status": "completed"
    },
    "tags": []
   },
   "source": [
    "# COVID-19 Case Race\n",
    "> A race chart to see rising cases around the world\n",
    "\n",
    "- author: Hargun Oberoi\n",
    "- image: images/covid-overview.png\n",
    "- hide: false\n",
    "- badges: false"
   ]
  },
  {
   "cell_type": "code",
   "execution_count": 1,
   "id": "proof-material",
   "metadata": {
    "execution": {
     "iopub.execute_input": "2021-06-10T00:21:56.341754Z",
     "iopub.status.busy": "2021-06-10T00:21:56.341196Z",
     "iopub.status.idle": "2021-06-10T00:21:56.704257Z",
     "shell.execute_reply": "2021-06-10T00:21:56.705069Z"
    },
    "papermill": {
     "duration": 0.403508,
     "end_time": "2021-06-10T00:21:56.705346",
     "exception": false,
     "start_time": "2021-06-10T00:21:56.301838",
     "status": "completed"
    },
    "tags": []
   },
   "outputs": [],
   "source": [
    "#hide\n",
    "import numpy as np\n",
    "import pandas as pd\n",
    "from jinja2 import Template\n",
    "from IPython.display import HTML"
   ]
  },
  {
   "cell_type": "code",
   "execution_count": 2,
   "id": "developed-terminology",
   "metadata": {
    "execution": {
     "iopub.execute_input": "2021-06-10T00:21:56.775861Z",
     "iopub.status.busy": "2021-06-10T00:21:56.775359Z",
     "iopub.status.idle": "2021-06-10T00:21:56.777688Z",
     "shell.execute_reply": "2021-06-10T00:21:56.777221Z"
    },
    "papermill": {
     "duration": 0.038012,
     "end_time": "2021-06-10T00:21:56.777799",
     "exception": false,
     "start_time": "2021-06-10T00:21:56.739787",
     "status": "completed"
    },
    "tags": []
   },
   "outputs": [],
   "source": [
    "#hide\n",
    "\n",
    "# FETCH\n",
    "base_url = 'https://raw.githubusercontent.com/pratapvardhan/notebooks/master/covid19/'\n",
    "paths = {\n",
    "    'mapping': base_url + 'mapping_countries.csv',\n",
    "    'overview': base_url + 'overview.tpl'\n",
    "}"
   ]
  },
  {
   "cell_type": "code",
   "execution_count": 3,
   "id": "dynamic-saver",
   "metadata": {
    "execution": {
     "iopub.execute_input": "2021-06-10T00:21:56.846059Z",
     "iopub.status.busy": "2021-06-10T00:21:56.845477Z",
     "iopub.status.idle": "2021-06-10T00:21:56.848524Z",
     "shell.execute_reply": "2021-06-10T00:21:56.848954Z"
    },
    "papermill": {
     "duration": 0.043508,
     "end_time": "2021-06-10T00:21:56.849082",
     "exception": false,
     "start_time": "2021-06-10T00:21:56.805574",
     "status": "completed"
    },
    "tags": []
   },
   "outputs": [
    {
     "data": {
      "text/plain": [
       "'https://raw.githubusercontent.com/pratapvardhan/notebooks/master/covid19/mapping_countries.csv'"
      ]
     },
     "execution_count": 3,
     "metadata": {},
     "output_type": "execute_result"
    }
   ],
   "source": [
    "#hide\n",
    "paths['mapping']"
   ]
  },
  {
   "cell_type": "code",
   "execution_count": 4,
   "id": "urban-software",
   "metadata": {
    "execution": {
     "iopub.execute_input": "2021-06-10T00:21:56.918683Z",
     "iopub.status.busy": "2021-06-10T00:21:56.917989Z",
     "iopub.status.idle": "2021-06-10T00:21:56.919408Z",
     "shell.execute_reply": "2021-06-10T00:21:56.920064Z"
    },
    "papermill": {
     "duration": 0.039752,
     "end_time": "2021-06-10T00:21:56.920225",
     "exception": false,
     "start_time": "2021-06-10T00:21:56.880473",
     "status": "completed"
    },
    "tags": []
   },
   "outputs": [],
   "source": [
    "#hide\n",
    "def get_mappings(url):\n",
    "    df = pd.read_csv(url)\n",
    "    return {\n",
    "        'df': df,\n",
    "        'replace.country': dict(df.dropna(subset=['Name']).set_index('Country')['Name']),\n",
    "        'map.continent': dict(df.set_index('Name')['Continent'])\n",
    "    }"
   ]
  },
  {
   "cell_type": "code",
   "execution_count": 5,
   "id": "intimate-machinery",
   "metadata": {
    "execution": {
     "iopub.execute_input": "2021-06-10T00:21:56.989305Z",
     "iopub.status.busy": "2021-06-10T00:21:56.988727Z",
     "iopub.status.idle": "2021-06-10T00:21:57.028950Z",
     "shell.execute_reply": "2021-06-10T00:21:57.027928Z"
    },
    "papermill": {
     "duration": 0.07971,
     "end_time": "2021-06-10T00:21:57.029150",
     "exception": false,
     "start_time": "2021-06-10T00:21:56.949440",
     "status": "completed"
    },
    "tags": []
   },
   "outputs": [],
   "source": [
    "#hide\n",
    "mapping = get_mappings(paths['mapping'])"
   ]
  },
  {
   "cell_type": "code",
   "execution_count": 6,
   "id": "certified-tactics",
   "metadata": {
    "execution": {
     "iopub.execute_input": "2021-06-10T00:21:57.103367Z",
     "iopub.status.busy": "2021-06-10T00:21:57.102334Z",
     "iopub.status.idle": "2021-06-10T00:21:57.104281Z",
     "shell.execute_reply": "2021-06-10T00:21:57.104712Z"
    },
    "papermill": {
     "duration": 0.042242,
     "end_time": "2021-06-10T00:21:57.104863",
     "exception": false,
     "start_time": "2021-06-10T00:21:57.062621",
     "status": "completed"
    },
    "tags": []
   },
   "outputs": [],
   "source": [
    "#hide\n",
    "def get_template(path):\n",
    "    from urllib.parse import urlparse\n",
    "    if bool(urlparse(path).netloc):\n",
    "        from urllib.request import urlopen\n",
    "        return urlopen(path).read().decode('utf8')\n",
    "    return open(path).read()"
   ]
  },
  {
   "cell_type": "code",
   "execution_count": 7,
   "id": "realistic-blast",
   "metadata": {
    "execution": {
     "iopub.execute_input": "2021-06-10T00:21:57.174998Z",
     "iopub.status.busy": "2021-06-10T00:21:57.174451Z",
     "iopub.status.idle": "2021-06-10T00:21:57.176900Z",
     "shell.execute_reply": "2021-06-10T00:21:57.176436Z"
    },
    "papermill": {
     "duration": 0.039615,
     "end_time": "2021-06-10T00:21:57.177004",
     "exception": false,
     "start_time": "2021-06-10T00:21:57.137389",
     "status": "completed"
    },
    "tags": []
   },
   "outputs": [],
   "source": [
    "#hide\n",
    "def get_frame(name):\n",
    "    url = (\n",
    "        'https://raw.githubusercontent.com/CSSEGISandData/COVID-19/master/csse_covid_19_data/'\n",
    "        f'csse_covid_19_time_series/time_series_covid19_{name}_global.csv')\n",
    "    df = pd.read_csv(url)\n",
    "    # rename countries\n",
    "    df['Country/Region'] = df['Country/Region'].replace(mapping['replace.country'])\n",
    "    return df"
   ]
  },
  {
   "cell_type": "code",
   "execution_count": 8,
   "id": "affiliated-characterization",
   "metadata": {
    "execution": {
     "iopub.execute_input": "2021-06-10T00:21:57.245646Z",
     "iopub.status.busy": "2021-06-10T00:21:57.245086Z",
     "iopub.status.idle": "2021-06-10T00:21:57.247142Z",
     "shell.execute_reply": "2021-06-10T00:21:57.247594Z"
    },
    "papermill": {
     "duration": 0.039692,
     "end_time": "2021-06-10T00:21:57.247716",
     "exception": false,
     "start_time": "2021-06-10T00:21:57.208024",
     "status": "completed"
    },
    "tags": []
   },
   "outputs": [],
   "source": [
    "#hide\n",
    "def get_dates(df):\n",
    "    dt_cols = df.columns[~df.columns.isin(['Province/State', 'Country/Region', 'Lat', 'Long'])]\n",
    "    LAST_DATE_I = -1\n",
    "    # sometimes last column may be empty, then go backwards\n",
    "    for i in range(-1, -len(dt_cols), -1):\n",
    "        if not df[dt_cols[i]].fillna(0).eq(0).all():\n",
    "            LAST_DATE_I = i\n",
    "            break\n",
    "    return LAST_DATE_I, dt_cols"
   ]
  },
  {
   "cell_type": "code",
   "execution_count": 9,
   "id": "recent-optimization",
   "metadata": {
    "execution": {
     "iopub.execute_input": "2021-06-10T00:21:57.315144Z",
     "iopub.status.busy": "2021-06-10T00:21:57.314645Z",
     "iopub.status.idle": "2021-06-10T00:21:57.708306Z",
     "shell.execute_reply": "2021-06-10T00:21:57.707722Z"
    },
    "papermill": {
     "duration": 0.43101,
     "end_time": "2021-06-10T00:21:57.708450",
     "exception": false,
     "start_time": "2021-06-10T00:21:57.277440",
     "status": "completed"
    },
    "tags": []
   },
   "outputs": [],
   "source": [
    "#hide\n",
    "COL_REGION = 'Country/Region'\n",
    "# Confirmed, Recovered, Deaths\n",
    "df = get_frame('confirmed')\n",
    "# dft_: timeseries, dfc_: today country agg\n",
    "dft_cases = df\n",
    "dft_deaths = get_frame('deaths')\n",
    "dft_recovered = get_frame('recovered')\n",
    "LAST_DATE_I, dt_cols = get_dates(df)"
   ]
  },
  {
   "cell_type": "code",
   "execution_count": 10,
   "id": "absolute-copper",
   "metadata": {
    "execution": {
     "iopub.execute_input": "2021-06-10T00:21:57.778707Z",
     "iopub.status.busy": "2021-06-10T00:21:57.778102Z",
     "iopub.status.idle": "2021-06-10T00:21:57.780025Z",
     "shell.execute_reply": "2021-06-10T00:21:57.780467Z"
    },
    "papermill": {
     "duration": 0.039932,
     "end_time": "2021-06-10T00:21:57.780618",
     "exception": false,
     "start_time": "2021-06-10T00:21:57.740686",
     "status": "completed"
    },
    "tags": []
   },
   "outputs": [],
   "source": [
    "#hide\n",
    "LAST_DATE_I, dt_cols = get_dates(df)\n",
    "dt_today =dt_cols[LAST_DATE_I]\n",
    "# dt_5day = dt_cols[LAST_DATE_I - 5]\n",
    "dt_yday = dt_cols[LAST_DATE_I - 1]"
   ]
  },
  {
   "cell_type": "code",
   "execution_count": 11,
   "id": "restricted-sheriff",
   "metadata": {
    "execution": {
     "iopub.execute_input": "2021-06-10T00:21:57.860999Z",
     "iopub.status.busy": "2021-06-10T00:21:57.860396Z",
     "iopub.status.idle": "2021-06-10T00:21:57.863083Z",
     "shell.execute_reply": "2021-06-10T00:21:57.862616Z"
    },
    "papermill": {
     "duration": 0.049479,
     "end_time": "2021-06-10T00:21:57.863208",
     "exception": false,
     "start_time": "2021-06-10T00:21:57.813729",
     "status": "completed"
    },
    "tags": []
   },
   "outputs": [],
   "source": [
    "#hide\n",
    "dfc_cases = dft_cases.groupby(COL_REGION)[dt_today].sum()\n",
    "dfc_deaths = dft_deaths.groupby(COL_REGION)[dt_today].sum()\n",
    "# dfp_cases = dft_cases.groupby(COL_REGION)[dt_5day].sum()\n",
    "# dfp_deaths = dft_deaths.groupby(COL_REGION)[dt_5day].sum()\n",
    "dfp_cases = dft_cases.groupby(COL_REGION)[dt_yday].sum()\n",
    "dfp_deaths = dft_deaths.groupby(COL_REGION)[dt_yday].sum()"
   ]
  },
  {
   "cell_type": "code",
   "execution_count": 12,
   "id": "deluxe-hepatitis",
   "metadata": {
    "execution": {
     "iopub.execute_input": "2021-06-10T00:21:57.935156Z",
     "iopub.status.busy": "2021-06-10T00:21:57.934577Z",
     "iopub.status.idle": "2021-06-10T00:21:57.939555Z",
     "shell.execute_reply": "2021-06-10T00:21:57.940003Z"
    },
    "papermill": {
     "duration": 0.044145,
     "end_time": "2021-06-10T00:21:57.940147",
     "exception": false,
     "start_time": "2021-06-10T00:21:57.896002",
     "status": "completed"
    },
    "tags": []
   },
   "outputs": [],
   "source": [
    "#hide\n",
    "df_table = (pd.DataFrame(dict(Cases = dfc_cases, Deaths = dfc_deaths, PCases = dfp_cases, PDeaths = dfp_deaths))\n",
    "            .sort_values(by = ['Cases','Deaths'], ascending = [False, False])\n",
    "            .reset_index())"
   ]
  },
  {
   "cell_type": "code",
   "execution_count": 13,
   "id": "educational-chancellor",
   "metadata": {
    "execution": {
     "iopub.execute_input": "2021-06-10T00:21:58.021575Z",
     "iopub.status.busy": "2021-06-10T00:21:58.020990Z",
     "iopub.status.idle": "2021-06-10T00:21:58.034485Z",
     "shell.execute_reply": "2021-06-10T00:21:58.035033Z"
    },
    "papermill": {
     "duration": 0.061716,
     "end_time": "2021-06-10T00:21:58.035175",
     "exception": false,
     "start_time": "2021-06-10T00:21:57.973459",
     "status": "completed"
    },
    "tags": []
   },
   "outputs": [
    {
     "data": {
      "text/html": [
       "<div>\n",
       "<style scoped>\n",
       "    .dataframe tbody tr th:only-of-type {\n",
       "        vertical-align: middle;\n",
       "    }\n",
       "\n",
       "    .dataframe tbody tr th {\n",
       "        vertical-align: top;\n",
       "    }\n",
       "\n",
       "    .dataframe thead th {\n",
       "        text-align: right;\n",
       "    }\n",
       "</style>\n",
       "<table border=\"1\" class=\"dataframe\">\n",
       "  <thead>\n",
       "    <tr style=\"text-align: right;\">\n",
       "      <th></th>\n",
       "      <th>Country/Region</th>\n",
       "      <th>Cases</th>\n",
       "      <th>Deaths</th>\n",
       "      <th>PCases</th>\n",
       "      <th>PDeaths</th>\n",
       "      <th>Cases (+)</th>\n",
       "      <th>Deaths (+)</th>\n",
       "      <th>Fatality Rate</th>\n",
       "      <th>Continent</th>\n",
       "    </tr>\n",
       "  </thead>\n",
       "  <tbody>\n",
       "    <tr>\n",
       "      <th>0</th>\n",
       "      <td>US</td>\n",
       "      <td>33393246</td>\n",
       "      <td>598332</td>\n",
       "      <td>33378096</td>\n",
       "      <td>597952</td>\n",
       "      <td>15150</td>\n",
       "      <td>380</td>\n",
       "      <td>1.79</td>\n",
       "      <td>North America</td>\n",
       "    </tr>\n",
       "    <tr>\n",
       "      <th>1</th>\n",
       "      <td>India</td>\n",
       "      <td>29089069</td>\n",
       "      <td>353528</td>\n",
       "      <td>28996473</td>\n",
       "      <td>351309</td>\n",
       "      <td>92596</td>\n",
       "      <td>2219</td>\n",
       "      <td>1.22</td>\n",
       "      <td>Asia</td>\n",
       "    </tr>\n",
       "    <tr>\n",
       "      <th>2</th>\n",
       "      <td>Brazil</td>\n",
       "      <td>17037129</td>\n",
       "      <td>476792</td>\n",
       "      <td>16984218</td>\n",
       "      <td>474414</td>\n",
       "      <td>52911</td>\n",
       "      <td>2378</td>\n",
       "      <td>2.80</td>\n",
       "      <td>South America</td>\n",
       "    </tr>\n",
       "    <tr>\n",
       "      <th>3</th>\n",
       "      <td>France</td>\n",
       "      <td>5781556</td>\n",
       "      <td>110299</td>\n",
       "      <td>5775535</td>\n",
       "      <td>110224</td>\n",
       "      <td>6021</td>\n",
       "      <td>75</td>\n",
       "      <td>1.91</td>\n",
       "      <td>Europe</td>\n",
       "    </tr>\n",
       "    <tr>\n",
       "      <th>4</th>\n",
       "      <td>Turkey</td>\n",
       "      <td>5300236</td>\n",
       "      <td>48341</td>\n",
       "      <td>5293627</td>\n",
       "      <td>48255</td>\n",
       "      <td>6609</td>\n",
       "      <td>86</td>\n",
       "      <td>0.91</td>\n",
       "      <td>Asia</td>\n",
       "    </tr>\n",
       "  </tbody>\n",
       "</table>\n",
       "</div>"
      ],
      "text/plain": [
       "  Country/Region     Cases  Deaths    PCases  PDeaths  Cases (+)  Deaths (+)  \\\n",
       "0             US  33393246  598332  33378096   597952      15150         380   \n",
       "1          India  29089069  353528  28996473   351309      92596        2219   \n",
       "2         Brazil  17037129  476792  16984218   474414      52911        2378   \n",
       "3         France   5781556  110299   5775535   110224       6021          75   \n",
       "4         Turkey   5300236   48341   5293627    48255       6609          86   \n",
       "\n",
       "   Fatality Rate      Continent  \n",
       "0           1.79  North America  \n",
       "1           1.22           Asia  \n",
       "2           2.80  South America  \n",
       "3           1.91         Europe  \n",
       "4           0.91           Asia  "
      ]
     },
     "execution_count": 13,
     "metadata": {},
     "output_type": "execute_result"
    }
   ],
   "source": [
    "#hide\n",
    "for c in 'Cases, Deaths'.split(', '):\n",
    "    df_table[f'{c} (+)'] = (df_table[c] - df_table[f'P{c}']).clip(0)\n",
    "    #Clip ça veut dire, les chiffres negatif sont interdit\n",
    "df_table['Fatality Rate'] = (100* df_table['Deaths']/ df_table['Cases']).round(2)\n",
    "df_table['Continent'] = df_table['Country/Region'].map(mapping['map.continent'])\n",
    "df_table.head(5)"
   ]
  },
  {
   "cell_type": "code",
   "execution_count": 14,
   "id": "aboriginal-bulgaria",
   "metadata": {
    "execution": {
     "iopub.execute_input": "2021-06-10T00:21:58.109013Z",
     "iopub.status.busy": "2021-06-10T00:21:58.108427Z",
     "iopub.status.idle": "2021-06-10T00:21:58.111246Z",
     "shell.execute_reply": "2021-06-10T00:21:58.110769Z"
    },
    "papermill": {
     "duration": 0.042104,
     "end_time": "2021-06-10T00:21:58.111363",
     "exception": false,
     "start_time": "2021-06-10T00:21:58.069259",
     "status": "completed"
    },
    "tags": []
   },
   "outputs": [],
   "source": [
    "#hide\n",
    "#delete problematic countries from table\n",
    "df_table = df_table[~df_table['Country/Region'].isin(['Cape Verde', 'Cruise Ship', 'Kosovo'])]"
   ]
  },
  {
   "cell_type": "code",
   "execution_count": 15,
   "id": "fantastic-effect",
   "metadata": {
    "execution": {
     "iopub.execute_input": "2021-06-10T00:21:58.184803Z",
     "iopub.status.busy": "2021-06-10T00:21:58.184258Z",
     "iopub.status.idle": "2021-06-10T00:21:58.203010Z",
     "shell.execute_reply": "2021-06-10T00:21:58.202598Z"
    },
    "papermill": {
     "duration": 0.058916,
     "end_time": "2021-06-10T00:21:58.203113",
     "exception": false,
     "start_time": "2021-06-10T00:21:58.144197",
     "status": "completed"
    },
    "tags": []
   },
   "outputs": [
    {
     "data": {
      "text/html": [
       "<div>\n",
       "<style scoped>\n",
       "    .dataframe tbody tr th:only-of-type {\n",
       "        vertical-align: middle;\n",
       "    }\n",
       "\n",
       "    .dataframe tbody tr th {\n",
       "        vertical-align: top;\n",
       "    }\n",
       "\n",
       "    .dataframe thead th {\n",
       "        text-align: right;\n",
       "    }\n",
       "</style>\n",
       "<table border=\"1\" class=\"dataframe\">\n",
       "  <thead>\n",
       "    <tr style=\"text-align: right;\">\n",
       "      <th></th>\n",
       "      <th>Country/Region</th>\n",
       "      <th>Cases</th>\n",
       "      <th>Deaths</th>\n",
       "      <th>PCases</th>\n",
       "      <th>PDeaths</th>\n",
       "      <th>Cases (+)</th>\n",
       "      <th>Deaths (+)</th>\n",
       "      <th>Fatality Rate</th>\n",
       "      <th>Continent</th>\n",
       "    </tr>\n",
       "  </thead>\n",
       "  <tbody>\n",
       "    <tr>\n",
       "      <th>0</th>\n",
       "      <td>US</td>\n",
       "      <td>33393246</td>\n",
       "      <td>598332</td>\n",
       "      <td>33378096</td>\n",
       "      <td>597952</td>\n",
       "      <td>15150</td>\n",
       "      <td>380</td>\n",
       "      <td>1.8</td>\n",
       "      <td>North America</td>\n",
       "    </tr>\n",
       "    <tr>\n",
       "      <th>1</th>\n",
       "      <td>India</td>\n",
       "      <td>29089069</td>\n",
       "      <td>353528</td>\n",
       "      <td>28996473</td>\n",
       "      <td>351309</td>\n",
       "      <td>92596</td>\n",
       "      <td>2219</td>\n",
       "      <td>1.2</td>\n",
       "      <td>Asia</td>\n",
       "    </tr>\n",
       "    <tr>\n",
       "      <th>2</th>\n",
       "      <td>Brazil</td>\n",
       "      <td>17037129</td>\n",
       "      <td>476792</td>\n",
       "      <td>16984218</td>\n",
       "      <td>474414</td>\n",
       "      <td>52911</td>\n",
       "      <td>2378</td>\n",
       "      <td>2.8</td>\n",
       "      <td>South America</td>\n",
       "    </tr>\n",
       "    <tr>\n",
       "      <th>3</th>\n",
       "      <td>France</td>\n",
       "      <td>5781556</td>\n",
       "      <td>110299</td>\n",
       "      <td>5775535</td>\n",
       "      <td>110224</td>\n",
       "      <td>6021</td>\n",
       "      <td>75</td>\n",
       "      <td>1.9</td>\n",
       "      <td>Europe</td>\n",
       "    </tr>\n",
       "    <tr>\n",
       "      <th>4</th>\n",
       "      <td>Turkey</td>\n",
       "      <td>5300236</td>\n",
       "      <td>48341</td>\n",
       "      <td>5293627</td>\n",
       "      <td>48255</td>\n",
       "      <td>6609</td>\n",
       "      <td>86</td>\n",
       "      <td>0.9</td>\n",
       "      <td>Asia</td>\n",
       "    </tr>\n",
       "  </tbody>\n",
       "</table>\n",
       "</div>"
      ],
      "text/plain": [
       "  Country/Region     Cases  Deaths    PCases  PDeaths  Cases (+)  Deaths (+)  \\\n",
       "0             US  33393246  598332  33378096   597952      15150         380   \n",
       "1          India  29089069  353528  28996473   351309      92596        2219   \n",
       "2         Brazil  17037129  476792  16984218   474414      52911        2378   \n",
       "3         France   5781556  110299   5775535   110224       6021          75   \n",
       "4         Turkey   5300236   48341   5293627    48255       6609          86   \n",
       "\n",
       "   Fatality Rate      Continent  \n",
       "0            1.8  North America  \n",
       "1            1.2           Asia  \n",
       "2            2.8  South America  \n",
       "3            1.9         Europe  \n",
       "4            0.9           Asia  "
      ]
     },
     "execution_count": 15,
     "metadata": {},
     "output_type": "execute_result"
    }
   ],
   "source": [
    "#hide\n",
    "df_table = (pd.DataFrame(dict(Cases=dfc_cases, Deaths=dfc_deaths, PCases=dfp_cases, PDeaths=dfp_deaths))\n",
    "             .sort_values(by=['Cases', 'Deaths'], ascending=[False, False])\n",
    "             .reset_index())\n",
    "df_table.rename(columns={'index': 'Country/Region'}, inplace=True)\n",
    "for c in 'Cases, Deaths'.split(', '):\n",
    "    df_table[f'{c} (+)'] = (df_table[c] - df_table[f'P{c}']).clip(0)  # DATA BUG\n",
    "df_table['Fatality Rate'] = (100 * df_table['Deaths'] / df_table['Cases']).round(1)\n",
    "df_table['Continent'] = df_table['Country/Region'].map(mapping['map.continent'])\n",
    "df_table.head(5)"
   ]
  },
  {
   "cell_type": "code",
   "execution_count": 16,
   "id": "fewer-occasion",
   "metadata": {
    "execution": {
     "iopub.execute_input": "2021-06-10T00:21:58.272844Z",
     "iopub.status.busy": "2021-06-10T00:21:58.272318Z",
     "iopub.status.idle": "2021-06-10T00:21:58.274596Z",
     "shell.execute_reply": "2021-06-10T00:21:58.274143Z"
    },
    "papermill": {
     "duration": 0.039919,
     "end_time": "2021-06-10T00:21:58.274705",
     "exception": false,
     "start_time": "2021-06-10T00:21:58.234786",
     "status": "completed"
    },
    "tags": []
   },
   "outputs": [],
   "source": [
    "#hide\n",
    "#delete problematic countries from table\n",
    "df_table = df_table[~df_table['Country/Region'].isin(['Cape Verde', 'Cruise Ship', 'Kosovo'])]"
   ]
  },
  {
   "cell_type": "code",
   "execution_count": 17,
   "id": "related-center",
   "metadata": {
    "execution": {
     "iopub.execute_input": "2021-06-10T00:21:58.366620Z",
     "iopub.status.busy": "2021-06-10T00:21:58.365819Z",
     "iopub.status.idle": "2021-06-10T00:21:58.369318Z",
     "shell.execute_reply": "2021-06-10T00:21:58.369923Z"
    },
    "papermill": {
     "duration": 0.061595,
     "end_time": "2021-06-10T00:21:58.370113",
     "exception": false,
     "start_time": "2021-06-10T00:21:58.308518",
     "status": "completed"
    },
    "tags": []
   },
   "outputs": [],
   "source": [
    "#hide\n",
    "metrics = [df_table.columns[index] for index in [1,2,5,6]]\n",
    "# s_china = df_table[df_table['Country/Region'].eq('China')][metrics].sum().add_prefix('China ')\n",
    "s_us = df_table[df_table['Country/Region'].eq('US')][metrics].sum().add_prefix('US ')\n",
    "s_eu = df_table[df_table['Continent'].eq('Europe')][metrics].sum().add_prefix('EU ')\n",
    "s_ind = df_table[df_table['Country/Region'].eq('India')][metrics].sum().add_prefix('India ')\n",
    "summary = {'updated': pd.to_datetime(dt_today), 'since': pd.to_datetime(dt_yday)}\n",
    "summary = {'updated': pd.to_datetime(dt_today), 'since': pd.to_datetime(dt_yday)}\n",
    "summary = {**summary, **df_table[metrics].sum(), **s_ind, **s_us, **s_eu}"
   ]
  },
  {
   "cell_type": "code",
   "execution_count": 18,
   "id": "engaging-syndrome",
   "metadata": {
    "execution": {
     "iopub.execute_input": "2021-06-10T00:21:58.442792Z",
     "iopub.status.busy": "2021-06-10T00:21:58.441847Z",
     "iopub.status.idle": "2021-06-10T00:21:58.453084Z",
     "shell.execute_reply": "2021-06-10T00:21:58.452638Z"
    },
    "papermill": {
     "duration": 0.048897,
     "end_time": "2021-06-10T00:21:58.453203",
     "exception": false,
     "start_time": "2021-06-10T00:21:58.404306",
     "status": "completed"
    },
    "tags": []
   },
   "outputs": [],
   "source": [
    "#hide\n",
    "dft_ct_new_cases = dft_cases.groupby(COL_REGION)[dt_cols].sum().diff(axis=1).fillna(0).astype(int)"
   ]
  },
  {
   "cell_type": "code",
   "execution_count": 19,
   "id": "neutral-assignment",
   "metadata": {
    "execution": {
     "iopub.execute_input": "2021-06-10T00:21:58.524509Z",
     "iopub.status.busy": "2021-06-10T00:21:58.523940Z",
     "iopub.status.idle": "2021-06-10T00:21:58.526348Z",
     "shell.execute_reply": "2021-06-10T00:21:58.526835Z"
    },
    "papermill": {
     "duration": 0.041279,
     "end_time": "2021-06-10T00:21:58.526973",
     "exception": false,
     "start_time": "2021-06-10T00:21:58.485694",
     "status": "completed"
    },
    "tags": []
   },
   "outputs": [],
   "source": [
    "#hide\n",
    "everydaycases = dft_ct_new_cases.cumsum(axis=1)"
   ]
  },
  {
   "cell_type": "code",
   "execution_count": 20,
   "id": "parliamentary-calgary",
   "metadata": {
    "execution": {
     "iopub.execute_input": "2021-06-10T00:21:58.600175Z",
     "iopub.status.busy": "2021-06-10T00:21:58.599575Z",
     "iopub.status.idle": "2021-06-10T00:21:59.353185Z",
     "shell.execute_reply": "2021-06-10T00:21:59.352665Z"
    },
    "papermill": {
     "duration": 0.792687,
     "end_time": "2021-06-10T00:21:59.353323",
     "exception": false,
     "start_time": "2021-06-10T00:21:58.560636",
     "status": "completed"
    },
    "tags": []
   },
   "outputs": [],
   "source": [
    "#hide\n",
    "import pandas as pd\n",
    "import matplotlib.pyplot as plt\n",
    "import matplotlib.ticker as ticker\n",
    "import matplotlib.animation as animation\n",
    "from IPython.display import HTML"
   ]
  },
  {
   "cell_type": "code",
   "execution_count": 21,
   "id": "lasting-extraction",
   "metadata": {
    "execution": {
     "iopub.execute_input": "2021-06-10T00:21:59.430827Z",
     "iopub.status.busy": "2021-06-10T00:21:59.430279Z",
     "iopub.status.idle": "2021-06-10T00:21:59.438185Z",
     "shell.execute_reply": "2021-06-10T00:21:59.437229Z"
    },
    "papermill": {
     "duration": 0.04973,
     "end_time": "2021-06-10T00:21:59.438316",
     "exception": false,
     "start_time": "2021-06-10T00:21:59.388586",
     "status": "completed"
    },
    "tags": []
   },
   "outputs": [],
   "source": [
    "#hide\n",
    "t = everydaycases.stack()"
   ]
  },
  {
   "cell_type": "code",
   "execution_count": 22,
   "id": "premier-sleeve",
   "metadata": {
    "execution": {
     "iopub.execute_input": "2021-06-10T00:21:59.512501Z",
     "iopub.status.busy": "2021-06-10T00:21:59.511657Z",
     "iopub.status.idle": "2021-06-10T00:21:59.523001Z",
     "shell.execute_reply": "2021-06-10T00:21:59.523446Z"
    },
    "papermill": {
     "duration": 0.052878,
     "end_time": "2021-06-10T00:21:59.523595",
     "exception": false,
     "start_time": "2021-06-10T00:21:59.470717",
     "status": "completed"
    },
    "tags": []
   },
   "outputs": [],
   "source": [
    "#hide\n",
    "g = t.reset_index(['Country/Region'])"
   ]
  },
  {
   "cell_type": "code",
   "execution_count": 23,
   "id": "distributed-pittsburgh",
   "metadata": {
    "execution": {
     "iopub.execute_input": "2021-06-10T00:21:59.606444Z",
     "iopub.status.busy": "2021-06-10T00:21:59.605931Z",
     "iopub.status.idle": "2021-06-10T00:21:59.608387Z",
     "shell.execute_reply": "2021-06-10T00:21:59.608900Z"
    },
    "papermill": {
     "duration": 0.050821,
     "end_time": "2021-06-10T00:21:59.609026",
     "exception": false,
     "start_time": "2021-06-10T00:21:59.558205",
     "status": "completed"
    },
    "tags": []
   },
   "outputs": [],
   "source": [
    "#hide\n",
    "g.index.name = 'date'"
   ]
  },
  {
   "cell_type": "code",
   "execution_count": 24,
   "id": "naked-donor",
   "metadata": {
    "execution": {
     "iopub.execute_input": "2021-06-10T00:21:59.684678Z",
     "iopub.status.busy": "2021-06-10T00:21:59.684134Z",
     "iopub.status.idle": "2021-06-10T00:21:59.686498Z",
     "shell.execute_reply": "2021-06-10T00:21:59.687012Z"
    },
    "papermill": {
     "duration": 0.040997,
     "end_time": "2021-06-10T00:21:59.687139",
     "exception": false,
     "start_time": "2021-06-10T00:21:59.646142",
     "status": "completed"
    },
    "tags": []
   },
   "outputs": [],
   "source": [
    "# #hide\n",
    "# g = g.reset_index(['date'])"
   ]
  },
  {
   "cell_type": "code",
   "execution_count": 25,
   "id": "incomplete-mustang",
   "metadata": {
    "execution": {
     "iopub.execute_input": "2021-06-10T00:21:59.759364Z",
     "iopub.status.busy": "2021-06-10T00:21:59.758832Z",
     "iopub.status.idle": "2021-06-10T00:21:59.761642Z",
     "shell.execute_reply": "2021-06-10T00:21:59.762078Z"
    },
    "papermill": {
     "duration": 0.040297,
     "end_time": "2021-06-10T00:21:59.762194",
     "exception": false,
     "start_time": "2021-06-10T00:21:59.721897",
     "status": "completed"
    },
    "tags": []
   },
   "outputs": [],
   "source": [
    "#hide\n",
    "# g.head()"
   ]
  },
  {
   "cell_type": "code",
   "execution_count": 26,
   "id": "specific-kruger",
   "metadata": {
    "execution": {
     "iopub.execute_input": "2021-06-10T00:21:59.842514Z",
     "iopub.status.busy": "2021-06-10T00:21:59.841941Z",
     "iopub.status.idle": "2021-06-10T00:21:59.844343Z",
     "shell.execute_reply": "2021-06-10T00:21:59.844870Z"
    },
    "papermill": {
     "duration": 0.051085,
     "end_time": "2021-06-10T00:21:59.845005",
     "exception": false,
     "start_time": "2021-06-10T00:21:59.793920",
     "status": "completed"
    },
    "tags": []
   },
   "outputs": [],
   "source": [
    "#hide\n",
    "# g.columns = ['date','country','cases']"
   ]
  },
  {
   "cell_type": "code",
   "execution_count": 27,
   "id": "tender-conversion",
   "metadata": {
    "execution": {
     "iopub.execute_input": "2021-06-10T00:21:59.914369Z",
     "iopub.status.busy": "2021-06-10T00:21:59.913788Z",
     "iopub.status.idle": "2021-06-10T00:21:59.916395Z",
     "shell.execute_reply": "2021-06-10T00:21:59.915959Z"
    },
    "papermill": {
     "duration": 0.039099,
     "end_time": "2021-06-10T00:21:59.916510",
     "exception": false,
     "start_time": "2021-06-10T00:21:59.877411",
     "status": "completed"
    },
    "tags": []
   },
   "outputs": [],
   "source": [
    "#hide\n",
    "# g['continent'] = g.country"
   ]
  },
  {
   "cell_type": "code",
   "execution_count": 28,
   "id": "substantial-wilderness",
   "metadata": {
    "execution": {
     "iopub.execute_input": "2021-06-10T00:21:59.989361Z",
     "iopub.status.busy": "2021-06-10T00:21:59.988783Z",
     "iopub.status.idle": "2021-06-10T00:21:59.990857Z",
     "shell.execute_reply": "2021-06-10T00:21:59.991316Z"
    },
    "papermill": {
     "duration": 0.040573,
     "end_time": "2021-06-10T00:21:59.991451",
     "exception": false,
     "start_time": "2021-06-10T00:21:59.950878",
     "status": "completed"
    },
    "tags": []
   },
   "outputs": [],
   "source": [
    "#hide\n",
    "# cols = list(g.columns.values)"
   ]
  },
  {
   "cell_type": "code",
   "execution_count": 29,
   "id": "solved-farming",
   "metadata": {
    "execution": {
     "iopub.execute_input": "2021-06-10T00:22:00.062626Z",
     "iopub.status.busy": "2021-06-10T00:22:00.062045Z",
     "iopub.status.idle": "2021-06-10T00:22:00.065576Z",
     "shell.execute_reply": "2021-06-10T00:22:00.065108Z"
    },
    "papermill": {
     "duration": 0.041403,
     "end_time": "2021-06-10T00:22:00.065701",
     "exception": false,
     "start_time": "2021-06-10T00:22:00.024298",
     "status": "completed"
    },
    "tags": []
   },
   "outputs": [],
   "source": [
    "#hide\n",
    "# cols.insert(0, cols.pop())"
   ]
  },
  {
   "cell_type": "code",
   "execution_count": 30,
   "id": "executed-adoption",
   "metadata": {
    "execution": {
     "iopub.execute_input": "2021-06-10T00:22:00.133611Z",
     "iopub.status.busy": "2021-06-10T00:22:00.133067Z",
     "iopub.status.idle": "2021-06-10T00:22:00.134984Z",
     "shell.execute_reply": "2021-06-10T00:22:00.135488Z"
    },
    "papermill": {
     "duration": 0.038596,
     "end_time": "2021-06-10T00:22:00.135617",
     "exception": false,
     "start_time": "2021-06-10T00:22:00.097021",
     "status": "completed"
    },
    "tags": []
   },
   "outputs": [],
   "source": [
    "#hide\n",
    "# g = g[cols]"
   ]
  },
  {
   "cell_type": "code",
   "execution_count": 31,
   "id": "subject-dublin",
   "metadata": {
    "execution": {
     "iopub.execute_input": "2021-06-10T00:22:00.201788Z",
     "iopub.status.busy": "2021-06-10T00:22:00.201186Z",
     "iopub.status.idle": "2021-06-10T00:22:00.206396Z",
     "shell.execute_reply": "2021-06-10T00:22:00.205940Z"
    },
    "papermill": {
     "duration": 0.038986,
     "end_time": "2021-06-10T00:22:00.206508",
     "exception": false,
     "start_time": "2021-06-10T00:22:00.167522",
     "status": "completed"
    },
    "tags": []
   },
   "outputs": [],
   "source": [
    "#hide\n",
    "# g['continent'] = g['continent'].map(mapping['map.continent'])"
   ]
  },
  {
   "cell_type": "code",
   "execution_count": 32,
   "id": "freelance-scout",
   "metadata": {
    "execution": {
     "iopub.execute_input": "2021-06-10T00:22:00.282191Z",
     "iopub.status.busy": "2021-06-10T00:22:00.281646Z",
     "iopub.status.idle": "2021-06-10T00:22:00.284116Z",
     "shell.execute_reply": "2021-06-10T00:22:00.283401Z"
    },
    "papermill": {
     "duration": 0.042149,
     "end_time": "2021-06-10T00:22:00.284252",
     "exception": false,
     "start_time": "2021-06-10T00:22:00.242103",
     "status": "completed"
    },
    "tags": []
   },
   "outputs": [],
   "source": [
    "#hide\n",
    "# g.head()"
   ]
  },
  {
   "cell_type": "code",
   "execution_count": 33,
   "id": "limited-engine",
   "metadata": {
    "execution": {
     "iopub.execute_input": "2021-06-10T00:22:00.356963Z",
     "iopub.status.busy": "2021-06-10T00:22:00.356385Z",
     "iopub.status.idle": "2021-06-10T00:22:00.358807Z",
     "shell.execute_reply": "2021-06-10T00:22:00.359298Z"
    },
    "papermill": {
     "duration": 0.042064,
     "end_time": "2021-06-10T00:22:00.359438",
     "exception": false,
     "start_time": "2021-06-10T00:22:00.317374",
     "status": "completed"
    },
    "tags": []
   },
   "outputs": [],
   "source": [
    "# hide\n",
    "# g['date'] = g['date'].astype('datetime64[ns]')"
   ]
  },
  {
   "cell_type": "code",
   "execution_count": 34,
   "id": "sophisticated-supervisor",
   "metadata": {
    "execution": {
     "iopub.execute_input": "2021-06-10T00:22:00.430162Z",
     "iopub.status.busy": "2021-06-10T00:22:00.429153Z",
     "iopub.status.idle": "2021-06-10T00:22:00.431218Z",
     "shell.execute_reply": "2021-06-10T00:22:00.432054Z"
    },
    "papermill": {
     "duration": 0.041264,
     "end_time": "2021-06-10T00:22:00.432283",
     "exception": false,
     "start_time": "2021-06-10T00:22:00.391019",
     "status": "completed"
    },
    "tags": []
   },
   "outputs": [],
   "source": [
    "#hide\n",
    "# g['date'] = g.date.dt.dayofyear"
   ]
  },
  {
   "cell_type": "code",
   "execution_count": 35,
   "id": "inside-dubai",
   "metadata": {
    "execution": {
     "iopub.execute_input": "2021-06-10T00:22:00.500237Z",
     "iopub.status.busy": "2021-06-10T00:22:00.499724Z",
     "iopub.status.idle": "2021-06-10T00:22:00.502239Z",
     "shell.execute_reply": "2021-06-10T00:22:00.501785Z"
    },
    "papermill": {
     "duration": 0.037393,
     "end_time": "2021-06-10T00:22:00.502350",
     "exception": false,
     "start_time": "2021-06-10T00:22:00.464957",
     "status": "completed"
    },
    "tags": []
   },
   "outputs": [],
   "source": [
    "#hide\n",
    "# g = g.rename(columns= {'continent':'group','country':'name','cases':'value'})"
   ]
  },
  {
   "cell_type": "code",
   "execution_count": 36,
   "id": "fleet-motorcycle",
   "metadata": {
    "execution": {
     "iopub.execute_input": "2021-06-10T00:22:00.568578Z",
     "iopub.status.busy": "2021-06-10T00:22:00.567987Z",
     "iopub.status.idle": "2021-06-10T00:22:00.570685Z",
     "shell.execute_reply": "2021-06-10T00:22:00.571098Z"
    },
    "papermill": {
     "duration": 0.038881,
     "end_time": "2021-06-10T00:22:00.571231",
     "exception": false,
     "start_time": "2021-06-10T00:22:00.532350",
     "status": "completed"
    },
    "tags": []
   },
   "outputs": [],
   "source": [
    "#hide\n",
    "# cols = ['name','group','day','value']"
   ]
  },
  {
   "cell_type": "code",
   "execution_count": 37,
   "id": "continued-sleeping",
   "metadata": {
    "execution": {
     "iopub.execute_input": "2021-06-10T00:22:00.637779Z",
     "iopub.status.busy": "2021-06-10T00:22:00.637256Z",
     "iopub.status.idle": "2021-06-10T00:22:00.640257Z",
     "shell.execute_reply": "2021-06-10T00:22:00.639751Z"
    },
    "papermill": {
     "duration": 0.038295,
     "end_time": "2021-06-10T00:22:00.640370",
     "exception": false,
     "start_time": "2021-06-10T00:22:00.602075",
     "status": "completed"
    },
    "tags": []
   },
   "outputs": [],
   "source": [
    "#hide\n",
    "# g.rename(columns= {'date':'day'},inplace = True)"
   ]
  },
  {
   "cell_type": "code",
   "execution_count": 38,
   "id": "major-fight",
   "metadata": {
    "execution": {
     "iopub.execute_input": "2021-06-10T00:22:00.708328Z",
     "iopub.status.busy": "2021-06-10T00:22:00.707763Z",
     "iopub.status.idle": "2021-06-10T00:22:00.709765Z",
     "shell.execute_reply": "2021-06-10T00:22:00.710225Z"
    },
    "papermill": {
     "duration": 0.037256,
     "end_time": "2021-06-10T00:22:00.710360",
     "exception": false,
     "start_time": "2021-06-10T00:22:00.673104",
     "status": "completed"
    },
    "tags": []
   },
   "outputs": [],
   "source": [
    "#hide\n",
    "# g = g[cols]"
   ]
  },
  {
   "cell_type": "code",
   "execution_count": 39,
   "id": "structured-mobile",
   "metadata": {
    "execution": {
     "iopub.execute_input": "2021-06-10T00:22:00.778166Z",
     "iopub.status.busy": "2021-06-10T00:22:00.777651Z",
     "iopub.status.idle": "2021-06-10T00:22:00.779416Z",
     "shell.execute_reply": "2021-06-10T00:22:00.779886Z"
    },
    "papermill": {
     "duration": 0.038364,
     "end_time": "2021-06-10T00:22:00.780034",
     "exception": false,
     "start_time": "2021-06-10T00:22:00.741670",
     "status": "completed"
    },
    "tags": []
   },
   "outputs": [],
   "source": [
    "# #hide\n",
    "# g = g[g.group.notna()]"
   ]
  },
  {
   "cell_type": "code",
   "execution_count": 40,
   "id": "determined-closing",
   "metadata": {
    "execution": {
     "iopub.execute_input": "2021-06-10T00:22:00.848250Z",
     "iopub.status.busy": "2021-06-10T00:22:00.847733Z",
     "iopub.status.idle": "2021-06-10T00:22:00.850177Z",
     "shell.execute_reply": "2021-06-10T00:22:00.849749Z"
    },
    "papermill": {
     "duration": 0.038305,
     "end_time": "2021-06-10T00:22:00.850289",
     "exception": false,
     "start_time": "2021-06-10T00:22:00.811984",
     "status": "completed"
    },
    "tags": []
   },
   "outputs": [],
   "source": [
    "# #hide\n",
    "# colors = dict(zip(\n",
    "#     [\"Oceania\", \"Europe\", \"Asia\", \"South America\", \"Middle East\", \"North America\", \"Africa\"],\n",
    "#     [\"#adb0ff\", \"#ffb3ff\", \"#90d595\", \"#e48381\", \"#aafbff\", \"#f7bb5f\", \"#eafb50\"]\n",
    "# ))\n",
    "# group_lk = g.set_index('name')['group'].to_dict()"
   ]
  },
  {
   "cell_type": "code",
   "execution_count": null,
   "id": "gross-drinking",
   "metadata": {
    "papermill": {
     "duration": 0.030584,
     "end_time": "2021-06-10T00:22:00.912918",
     "exception": false,
     "start_time": "2021-06-10T00:22:00.882334",
     "status": "completed"
    },
    "tags": []
   },
   "outputs": [],
   "source": []
  },
  {
   "cell_type": "code",
   "execution_count": 41,
   "id": "subject-macintosh",
   "metadata": {
    "execution": {
     "iopub.execute_input": "2021-06-10T00:22:00.981467Z",
     "iopub.status.busy": "2021-06-10T00:22:00.980898Z",
     "iopub.status.idle": "2021-06-10T00:22:00.983279Z",
     "shell.execute_reply": "2021-06-10T00:22:00.982796Z"
    },
    "papermill": {
     "duration": 0.038922,
     "end_time": "2021-06-10T00:22:00.983393",
     "exception": false,
     "start_time": "2021-06-10T00:22:00.944471",
     "status": "completed"
    },
    "tags": []
   },
   "outputs": [],
   "source": [
    "# #hide\n",
    "# fig, ax = plt.subplots(figsize=(15, 8))\n",
    "\n",
    "# def draw_barchart(current_day):\n",
    "#     dff = g[g['day'].eq(current_day)].sort_values(by='value', ascending=True).tail(10)\n",
    "#     ax.clear()\n",
    "#     ax.barh(dff['name'], dff['value'], color=[colors[group_lk[x]] for x in dff['name']])\n",
    "#     dx = dff['value'].max() / 200\n",
    "    \n",
    "#     for i, (value, name) in enumerate(zip(dff['value'], dff['name'])):\n",
    "#         ax.text(value-dx, i,     name,           size=14, weight=600, ha='right', va='bottom')\n",
    "#         ax.text(value-dx, i-.25, group_lk[name], size=10, color='#444444', ha='right', va='baseline')\n",
    "#         ax.text(value+dx, i,     f'{value:,.0f}',  size=14, ha='left',  va='center')\n",
    "#     ax.text(1, 0.4, current_day, transform=ax.transAxes, color='#777777', size=46, ha='right', weight=800)\n",
    "#     ax.text(0, 1.06, 'Population (thousands)', transform=ax.transAxes, size=12, color='#777777')\n",
    "#     ax.xaxis.set_major_formatter(ticker.StrMethodFormatter('{x:,.0f}'))\n",
    "#     ax.xaxis.set_ticks_position('top')\n",
    "#     ax.tick_params(axis='x', colors='#777777', labelsize=12)\n",
    "#     ax.set_yticks([])\n",
    "#     ax.margins(0, 0.01)\n",
    "#     ax.grid(which='major', axis='x', linestyle='-')\n",
    "#     ax.set_axisbelow(True)\n",
    "    \n",
    "#     ax.text(0, 1.15, 'Coronavirus',\n",
    "#             transform=ax.transAxes, size=24, weight=600, ha='left', va='top')\n",
    "# #     ax.text(1, 0, 'by @pratapvardhan; credit @jburnmurdoch', transform=ax.transAxes, color='#777777', ha='right',\n",
    "# #             bbox=dict(facecolor='white', alpha=0.8, edgecolor='white'))\n",
    "#     plt.box(False)"
   ]
  },
  {
   "cell_type": "code",
   "execution_count": 42,
   "id": "sexual-wages",
   "metadata": {
    "execution": {
     "iopub.execute_input": "2021-06-10T00:22:01.054266Z",
     "iopub.status.busy": "2021-06-10T00:22:01.053672Z",
     "iopub.status.idle": "2021-06-10T00:22:01.056088Z",
     "shell.execute_reply": "2021-06-10T00:22:01.056588Z"
    },
    "papermill": {
     "duration": 0.040203,
     "end_time": "2021-06-10T00:22:01.056729",
     "exception": false,
     "start_time": "2021-06-10T00:22:01.016526",
     "status": "completed"
    },
    "tags": []
   },
   "outputs": [],
   "source": [
    "# #hide_input\n",
    "# fig, ax = plt.subplots(figsize=(15, 8))\n",
    "# animator = animation.FuncAnimation(fig, draw_barchart, frames=range(g.day.values.min(), g.day.values.max()))\n",
    "# HTML(animator.to_jshtml())\n",
    "# # or use animator.to_html5_video() or animator.save() "
   ]
  },
  {
   "cell_type": "code",
   "execution_count": null,
   "id": "australian-container",
   "metadata": {
    "papermill": {
     "duration": 0.031575,
     "end_time": "2021-06-10T00:22:01.121945",
     "exception": false,
     "start_time": "2021-06-10T00:22:01.090370",
     "status": "completed"
    },
    "tags": []
   },
   "outputs": [],
   "source": []
  },
  {
   "cell_type": "code",
   "execution_count": null,
   "id": "mediterranean-pontiac",
   "metadata": {
    "papermill": {
     "duration": 0.03187,
     "end_time": "2021-06-10T00:22:01.185976",
     "exception": false,
     "start_time": "2021-06-10T00:22:01.154106",
     "status": "completed"
    },
    "tags": []
   },
   "outputs": [],
   "source": []
  },
  {
   "cell_type": "code",
   "execution_count": null,
   "id": "aging-legislature",
   "metadata": {
    "papermill": {
     "duration": 0.032299,
     "end_time": "2021-06-10T00:22:01.250632",
     "exception": false,
     "start_time": "2021-06-10T00:22:01.218333",
     "status": "completed"
    },
    "tags": []
   },
   "outputs": [],
   "source": []
  }
 ],
 "metadata": {
  "kernelspec": {
   "display_name": "Python 3",
   "language": "python",
   "name": "python3"
  },
  "language_info": {
   "codemirror_mode": {
    "name": "ipython",
    "version": 3
   },
   "file_extension": ".py",
   "mimetype": "text/x-python",
   "name": "python",
   "nbconvert_exporter": "python",
   "pygments_lexer": "ipython3",
   "version": "3.6.13"
  },
  "papermill": {
   "duration": 7.34151,
   "end_time": "2021-06-10T00:22:02.498207",
   "environment_variables": {},
   "exception": null,
   "input_path": "2020-03-21-covid19exp.ipynb",
   "output_path": "2020-03-21-covid19exp.ipynb",
   "parameters": {},
   "start_time": "2021-06-10T00:21:55.156697",
   "version": "2.0.0"
  }
 },
 "nbformat": 4,
 "nbformat_minor": 5
}