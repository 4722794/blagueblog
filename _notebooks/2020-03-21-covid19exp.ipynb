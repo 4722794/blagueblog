{
 "cells": [
  {
   "cell_type": "markdown",
   "id": "muslim-click",
   "metadata": {
    "papermill": {
     "duration": 0.039184,
     "end_time": "2021-09-11T12:10:51.232823",
     "exception": false,
     "start_time": "2021-09-11T12:10:51.193639",
     "status": "completed"
    },
    "tags": []
   },
   "source": [
    "# COVID-19 Case Race\n",
    "> A race chart to see rising cases around the world\n",
    "\n",
    "- author: Hargun Oberoi\n",
    "- image: images/covid-overview.png\n",
    "- hide: false\n",
    "- badges: false"
   ]
  },
  {
   "cell_type": "code",
   "execution_count": 1,
   "id": "proof-material",
   "metadata": {
    "execution": {
     "iopub.execute_input": "2021-09-11T12:10:51.314830Z",
     "iopub.status.busy": "2021-09-11T12:10:51.314119Z",
     "iopub.status.idle": "2021-09-11T12:10:51.674200Z",
     "shell.execute_reply": "2021-09-11T12:10:51.673231Z"
    },
    "papermill": {
     "duration": 0.405495,
     "end_time": "2021-09-11T12:10:51.674373",
     "exception": false,
     "start_time": "2021-09-11T12:10:51.268878",
     "status": "completed"
    },
    "tags": []
   },
   "outputs": [],
   "source": [
    "#hide\n",
    "import numpy as np\n",
    "import pandas as pd\n",
    "from jinja2 import Template\n",
    "from IPython.display import HTML"
   ]
  },
  {
   "cell_type": "code",
   "execution_count": 2,
   "id": "developed-terminology",
   "metadata": {
    "execution": {
     "iopub.execute_input": "2021-09-11T12:10:51.750380Z",
     "iopub.status.busy": "2021-09-11T12:10:51.749702Z",
     "iopub.status.idle": "2021-09-11T12:10:51.752077Z",
     "shell.execute_reply": "2021-09-11T12:10:51.751584Z"
    },
    "papermill": {
     "duration": 0.043497,
     "end_time": "2021-09-11T12:10:51.752191",
     "exception": false,
     "start_time": "2021-09-11T12:10:51.708694",
     "status": "completed"
    },
    "tags": []
   },
   "outputs": [],
   "source": [
    "#hide\n",
    "\n",
    "# FETCH\n",
    "base_url = 'https://raw.githubusercontent.com/pratapvardhan/notebooks/master/covid19/'\n",
    "paths = {\n",
    "    'mapping': base_url + 'mapping_countries.csv',\n",
    "    'overview': base_url + 'overview.tpl'\n",
    "}"
   ]
  },
  {
   "cell_type": "code",
   "execution_count": 3,
   "id": "dynamic-saver",
   "metadata": {
    "execution": {
     "iopub.execute_input": "2021-09-11T12:10:51.831266Z",
     "iopub.status.busy": "2021-09-11T12:10:51.830682Z",
     "iopub.status.idle": "2021-09-11T12:10:51.833753Z",
     "shell.execute_reply": "2021-09-11T12:10:51.833271Z"
    },
    "papermill": {
     "duration": 0.04682,
     "end_time": "2021-09-11T12:10:51.833863",
     "exception": false,
     "start_time": "2021-09-11T12:10:51.787043",
     "status": "completed"
    },
    "tags": []
   },
   "outputs": [
    {
     "data": {
      "text/plain": [
       "'https://raw.githubusercontent.com/pratapvardhan/notebooks/master/covid19/mapping_countries.csv'"
      ]
     },
     "execution_count": 3,
     "metadata": {},
     "output_type": "execute_result"
    }
   ],
   "source": [
    "#hide\n",
    "paths['mapping']"
   ]
  },
  {
   "cell_type": "code",
   "execution_count": 4,
   "id": "urban-software",
   "metadata": {
    "execution": {
     "iopub.execute_input": "2021-09-11T12:10:51.909630Z",
     "iopub.status.busy": "2021-09-11T12:10:51.908998Z",
     "iopub.status.idle": "2021-09-11T12:10:51.910911Z",
     "shell.execute_reply": "2021-09-11T12:10:51.911499Z"
    },
    "papermill": {
     "duration": 0.042957,
     "end_time": "2021-09-11T12:10:51.911627",
     "exception": false,
     "start_time": "2021-09-11T12:10:51.868670",
     "status": "completed"
    },
    "tags": []
   },
   "outputs": [],
   "source": [
    "#hide\n",
    "def get_mappings(url):\n",
    "    df = pd.read_csv(url)\n",
    "    return {\n",
    "        'df': df,\n",
    "        'replace.country': dict(df.dropna(subset=['Name']).set_index('Country')['Name']),\n",
    "        'map.continent': dict(df.set_index('Name')['Continent'])\n",
    "    }"
   ]
  },
  {
   "cell_type": "code",
   "execution_count": 5,
   "id": "intimate-machinery",
   "metadata": {
    "execution": {
     "iopub.execute_input": "2021-09-11T12:10:51.995695Z",
     "iopub.status.busy": "2021-09-11T12:10:51.995046Z",
     "iopub.status.idle": "2021-09-11T12:10:52.039214Z",
     "shell.execute_reply": "2021-09-11T12:10:52.038614Z"
    },
    "papermill": {
     "duration": 0.086433,
     "end_time": "2021-09-11T12:10:52.039346",
     "exception": false,
     "start_time": "2021-09-11T12:10:51.952913",
     "status": "completed"
    },
    "tags": []
   },
   "outputs": [],
   "source": [
    "#hide\n",
    "mapping = get_mappings(paths['mapping'])"
   ]
  },
  {
   "cell_type": "code",
   "execution_count": 6,
   "id": "certified-tactics",
   "metadata": {
    "execution": {
     "iopub.execute_input": "2021-09-11T12:10:52.116703Z",
     "iopub.status.busy": "2021-09-11T12:10:52.116137Z",
     "iopub.status.idle": "2021-09-11T12:10:52.119026Z",
     "shell.execute_reply": "2021-09-11T12:10:52.119607Z"
    },
    "papermill": {
     "duration": 0.042621,
     "end_time": "2021-09-11T12:10:52.119750",
     "exception": false,
     "start_time": "2021-09-11T12:10:52.077129",
     "status": "completed"
    },
    "tags": []
   },
   "outputs": [],
   "source": [
    "#hide\n",
    "def get_template(path):\n",
    "    from urllib.parse import urlparse\n",
    "    if bool(urlparse(path).netloc):\n",
    "        from urllib.request import urlopen\n",
    "        return urlopen(path).read().decode('utf8')\n",
    "    return open(path).read()"
   ]
  },
  {
   "cell_type": "code",
   "execution_count": 7,
   "id": "realistic-blast",
   "metadata": {
    "execution": {
     "iopub.execute_input": "2021-09-11T12:10:52.195220Z",
     "iopub.status.busy": "2021-09-11T12:10:52.194580Z",
     "iopub.status.idle": "2021-09-11T12:10:52.196390Z",
     "shell.execute_reply": "2021-09-11T12:10:52.196994Z"
    },
    "papermill": {
     "duration": 0.043549,
     "end_time": "2021-09-11T12:10:52.197137",
     "exception": false,
     "start_time": "2021-09-11T12:10:52.153588",
     "status": "completed"
    },
    "tags": []
   },
   "outputs": [],
   "source": [
    "#hide\n",
    "def get_frame(name):\n",
    "    url = (\n",
    "        'https://raw.githubusercontent.com/CSSEGISandData/COVID-19/master/csse_covid_19_data/'\n",
    "        f'csse_covid_19_time_series/time_series_covid19_{name}_global.csv')\n",
    "    df = pd.read_csv(url)\n",
    "    # rename countries\n",
    "    df['Country/Region'] = df['Country/Region'].replace(mapping['replace.country'])\n",
    "    return df"
   ]
  },
  {
   "cell_type": "code",
   "execution_count": 8,
   "id": "affiliated-characterization",
   "metadata": {
    "execution": {
     "iopub.execute_input": "2021-09-11T12:10:52.273989Z",
     "iopub.status.busy": "2021-09-11T12:10:52.273420Z",
     "iopub.status.idle": "2021-09-11T12:10:52.275803Z",
     "shell.execute_reply": "2021-09-11T12:10:52.275322Z"
    },
    "papermill": {
     "duration": 0.043503,
     "end_time": "2021-09-11T12:10:52.275910",
     "exception": false,
     "start_time": "2021-09-11T12:10:52.232407",
     "status": "completed"
    },
    "tags": []
   },
   "outputs": [],
   "source": [
    "#hide\n",
    "def get_dates(df):\n",
    "    dt_cols = df.columns[~df.columns.isin(['Province/State', 'Country/Region', 'Lat', 'Long'])]\n",
    "    LAST_DATE_I = -1\n",
    "    # sometimes last column may be empty, then go backwards\n",
    "    for i in range(-1, -len(dt_cols), -1):\n",
    "        if not df[dt_cols[i]].fillna(0).eq(0).all():\n",
    "            LAST_DATE_I = i\n",
    "            break\n",
    "    return LAST_DATE_I, dt_cols"
   ]
  },
  {
   "cell_type": "code",
   "execution_count": 9,
   "id": "recent-optimization",
   "metadata": {
    "execution": {
     "iopub.execute_input": "2021-09-11T12:10:52.347715Z",
     "iopub.status.busy": "2021-09-11T12:10:52.347028Z",
     "iopub.status.idle": "2021-09-11T12:10:52.753405Z",
     "shell.execute_reply": "2021-09-11T12:10:52.752849Z"
    },
    "papermill": {
     "duration": 0.444364,
     "end_time": "2021-09-11T12:10:52.753551",
     "exception": false,
     "start_time": "2021-09-11T12:10:52.309187",
     "status": "completed"
    },
    "tags": []
   },
   "outputs": [],
   "source": [
    "#hide\n",
    "COL_REGION = 'Country/Region'\n",
    "# Confirmed, Recovered, Deaths\n",
    "df = get_frame('confirmed')\n",
    "# dft_: timeseries, dfc_: today country agg\n",
    "dft_cases = df\n",
    "dft_deaths = get_frame('deaths')\n",
    "dft_recovered = get_frame('recovered')\n",
    "LAST_DATE_I, dt_cols = get_dates(df)"
   ]
  },
  {
   "cell_type": "code",
   "execution_count": 10,
   "id": "absolute-copper",
   "metadata": {
    "execution": {
     "iopub.execute_input": "2021-09-11T12:10:52.834210Z",
     "iopub.status.busy": "2021-09-11T12:10:52.833552Z",
     "iopub.status.idle": "2021-09-11T12:10:52.835957Z",
     "shell.execute_reply": "2021-09-11T12:10:52.835257Z"
    },
    "papermill": {
     "duration": 0.043627,
     "end_time": "2021-09-11T12:10:52.836085",
     "exception": false,
     "start_time": "2021-09-11T12:10:52.792458",
     "status": "completed"
    },
    "tags": []
   },
   "outputs": [],
   "source": [
    "#hide\n",
    "LAST_DATE_I, dt_cols = get_dates(df)\n",
    "dt_today =dt_cols[LAST_DATE_I]\n",
    "# dt_5day = dt_cols[LAST_DATE_I - 5]\n",
    "dt_yday = dt_cols[LAST_DATE_I - 1]"
   ]
  },
  {
   "cell_type": "code",
   "execution_count": 11,
   "id": "restricted-sheriff",
   "metadata": {
    "execution": {
     "iopub.execute_input": "2021-09-11T12:10:52.910238Z",
     "iopub.status.busy": "2021-09-11T12:10:52.909650Z",
     "iopub.status.idle": "2021-09-11T12:10:52.917590Z",
     "shell.execute_reply": "2021-09-11T12:10:52.918121Z"
    },
    "papermill": {
     "duration": 0.046794,
     "end_time": "2021-09-11T12:10:52.918239",
     "exception": false,
     "start_time": "2021-09-11T12:10:52.871445",
     "status": "completed"
    },
    "tags": []
   },
   "outputs": [],
   "source": [
    "#hide\n",
    "dfc_cases = dft_cases.groupby(COL_REGION)[dt_today].sum()\n",
    "dfc_deaths = dft_deaths.groupby(COL_REGION)[dt_today].sum()\n",
    "# dfp_cases = dft_cases.groupby(COL_REGION)[dt_5day].sum()\n",
    "# dfp_deaths = dft_deaths.groupby(COL_REGION)[dt_5day].sum()\n",
    "dfp_cases = dft_cases.groupby(COL_REGION)[dt_yday].sum()\n",
    "dfp_deaths = dft_deaths.groupby(COL_REGION)[dt_yday].sum()"
   ]
  },
  {
   "cell_type": "code",
   "execution_count": 12,
   "id": "deluxe-hepatitis",
   "metadata": {
    "execution": {
     "iopub.execute_input": "2021-09-11T12:10:52.992666Z",
     "iopub.status.busy": "2021-09-11T12:10:52.992019Z",
     "iopub.status.idle": "2021-09-11T12:10:52.996383Z",
     "shell.execute_reply": "2021-09-11T12:10:52.997075Z"
    },
    "papermill": {
     "duration": 0.043711,
     "end_time": "2021-09-11T12:10:52.997234",
     "exception": false,
     "start_time": "2021-09-11T12:10:52.953523",
     "status": "completed"
    },
    "tags": []
   },
   "outputs": [],
   "source": [
    "#hide\n",
    "df_table = (pd.DataFrame(dict(Cases = dfc_cases, Deaths = dfc_deaths, PCases = dfp_cases, PDeaths = dfp_deaths))\n",
    "            .sort_values(by = ['Cases','Deaths'], ascending = [False, False])\n",
    "            .reset_index())"
   ]
  },
  {
   "cell_type": "code",
   "execution_count": 13,
   "id": "educational-chancellor",
   "metadata": {
    "execution": {
     "iopub.execute_input": "2021-09-11T12:10:53.079577Z",
     "iopub.status.busy": "2021-09-11T12:10:53.078982Z",
     "iopub.status.idle": "2021-09-11T12:10:53.092092Z",
     "shell.execute_reply": "2021-09-11T12:10:53.092664Z"
    },
    "papermill": {
     "duration": 0.061641,
     "end_time": "2021-09-11T12:10:53.092792",
     "exception": false,
     "start_time": "2021-09-11T12:10:53.031151",
     "status": "completed"
    },
    "tags": []
   },
   "outputs": [
    {
     "data": {
      "text/html": [
       "<div>\n",
       "<style scoped>\n",
       "    .dataframe tbody tr th:only-of-type {\n",
       "        vertical-align: middle;\n",
       "    }\n",
       "\n",
       "    .dataframe tbody tr th {\n",
       "        vertical-align: top;\n",
       "    }\n",
       "\n",
       "    .dataframe thead th {\n",
       "        text-align: right;\n",
       "    }\n",
       "</style>\n",
       "<table border=\"1\" class=\"dataframe\">\n",
       "  <thead>\n",
       "    <tr style=\"text-align: right;\">\n",
       "      <th></th>\n",
       "      <th>Country/Region</th>\n",
       "      <th>Cases</th>\n",
       "      <th>Deaths</th>\n",
       "      <th>PCases</th>\n",
       "      <th>PDeaths</th>\n",
       "      <th>Cases (+)</th>\n",
       "      <th>Deaths (+)</th>\n",
       "      <th>Fatality Rate</th>\n",
       "      <th>Continent</th>\n",
       "    </tr>\n",
       "  </thead>\n",
       "  <tbody>\n",
       "    <tr>\n",
       "      <th>0</th>\n",
       "      <td>US</td>\n",
       "      <td>40863868</td>\n",
       "      <td>658992</td>\n",
       "      <td>40601792</td>\n",
       "      <td>654583</td>\n",
       "      <td>262076</td>\n",
       "      <td>4409</td>\n",
       "      <td>1.61</td>\n",
       "      <td>North America</td>\n",
       "    </tr>\n",
       "    <tr>\n",
       "      <th>1</th>\n",
       "      <td>India</td>\n",
       "      <td>33208330</td>\n",
       "      <td>442317</td>\n",
       "      <td>33174954</td>\n",
       "      <td>442009</td>\n",
       "      <td>33376</td>\n",
       "      <td>308</td>\n",
       "      <td>1.33</td>\n",
       "      <td>Asia</td>\n",
       "    </tr>\n",
       "    <tr>\n",
       "      <th>2</th>\n",
       "      <td>Brazil</td>\n",
       "      <td>20974850</td>\n",
       "      <td>585846</td>\n",
       "      <td>20958899</td>\n",
       "      <td>585174</td>\n",
       "      <td>15951</td>\n",
       "      <td>672</td>\n",
       "      <td>2.79</td>\n",
       "      <td>South America</td>\n",
       "    </tr>\n",
       "    <tr>\n",
       "      <th>3</th>\n",
       "      <td>United Kingdom</td>\n",
       "      <td>7202212</td>\n",
       "      <td>134313</td>\n",
       "      <td>7165200</td>\n",
       "      <td>134166</td>\n",
       "      <td>37012</td>\n",
       "      <td>147</td>\n",
       "      <td>1.86</td>\n",
       "      <td>Europe</td>\n",
       "    </tr>\n",
       "    <tr>\n",
       "      <th>4</th>\n",
       "      <td>Russia</td>\n",
       "      <td>7000636</td>\n",
       "      <td>187768</td>\n",
       "      <td>6982628</td>\n",
       "      <td>186999</td>\n",
       "      <td>18008</td>\n",
       "      <td>769</td>\n",
       "      <td>2.68</td>\n",
       "      <td>Europe</td>\n",
       "    </tr>\n",
       "  </tbody>\n",
       "</table>\n",
       "</div>"
      ],
      "text/plain": [
       "   Country/Region     Cases  Deaths    PCases  PDeaths  Cases (+)  Deaths (+)  \\\n",
       "0              US  40863868  658992  40601792   654583     262076        4409   \n",
       "1           India  33208330  442317  33174954   442009      33376         308   \n",
       "2          Brazil  20974850  585846  20958899   585174      15951         672   \n",
       "3  United Kingdom   7202212  134313   7165200   134166      37012         147   \n",
       "4          Russia   7000636  187768   6982628   186999      18008         769   \n",
       "\n",
       "   Fatality Rate      Continent  \n",
       "0           1.61  North America  \n",
       "1           1.33           Asia  \n",
       "2           2.79  South America  \n",
       "3           1.86         Europe  \n",
       "4           2.68         Europe  "
      ]
     },
     "execution_count": 13,
     "metadata": {},
     "output_type": "execute_result"
    }
   ],
   "source": [
    "#hide\n",
    "for c in 'Cases, Deaths'.split(', '):\n",
    "    df_table[f'{c} (+)'] = (df_table[c] - df_table[f'P{c}']).clip(0)\n",
    "    #Clip ça veut dire, les chiffres negatif sont interdit\n",
    "df_table['Fatality Rate'] = (100* df_table['Deaths']/ df_table['Cases']).round(2)\n",
    "df_table['Continent'] = df_table['Country/Region'].map(mapping['map.continent'])\n",
    "df_table.head(5)"
   ]
  },
  {
   "cell_type": "code",
   "execution_count": 14,
   "id": "aboriginal-bulgaria",
   "metadata": {
    "execution": {
     "iopub.execute_input": "2021-09-11T12:10:53.172002Z",
     "iopub.status.busy": "2021-09-11T12:10:53.171283Z",
     "iopub.status.idle": "2021-09-11T12:10:53.173141Z",
     "shell.execute_reply": "2021-09-11T12:10:53.173697Z"
    },
    "papermill": {
     "duration": 0.043833,
     "end_time": "2021-09-11T12:10:53.173849",
     "exception": false,
     "start_time": "2021-09-11T12:10:53.130016",
     "status": "completed"
    },
    "tags": []
   },
   "outputs": [],
   "source": [
    "#hide\n",
    "#delete problematic countries from table\n",
    "df_table = df_table[~df_table['Country/Region'].isin(['Cape Verde', 'Cruise Ship', 'Kosovo'])]"
   ]
  },
  {
   "cell_type": "code",
   "execution_count": 15,
   "id": "fantastic-effect",
   "metadata": {
    "execution": {
     "iopub.execute_input": "2021-09-11T12:10:53.253197Z",
     "iopub.status.busy": "2021-09-11T12:10:53.252554Z",
     "iopub.status.idle": "2021-09-11T12:10:53.271460Z",
     "shell.execute_reply": "2021-09-11T12:10:53.272032Z"
    },
    "papermill": {
     "duration": 0.064243,
     "end_time": "2021-09-11T12:10:53.272182",
     "exception": false,
     "start_time": "2021-09-11T12:10:53.207939",
     "status": "completed"
    },
    "tags": []
   },
   "outputs": [
    {
     "data": {
      "text/html": [
       "<div>\n",
       "<style scoped>\n",
       "    .dataframe tbody tr th:only-of-type {\n",
       "        vertical-align: middle;\n",
       "    }\n",
       "\n",
       "    .dataframe tbody tr th {\n",
       "        vertical-align: top;\n",
       "    }\n",
       "\n",
       "    .dataframe thead th {\n",
       "        text-align: right;\n",
       "    }\n",
       "</style>\n",
       "<table border=\"1\" class=\"dataframe\">\n",
       "  <thead>\n",
       "    <tr style=\"text-align: right;\">\n",
       "      <th></th>\n",
       "      <th>Country/Region</th>\n",
       "      <th>Cases</th>\n",
       "      <th>Deaths</th>\n",
       "      <th>PCases</th>\n",
       "      <th>PDeaths</th>\n",
       "      <th>Cases (+)</th>\n",
       "      <th>Deaths (+)</th>\n",
       "      <th>Fatality Rate</th>\n",
       "      <th>Continent</th>\n",
       "    </tr>\n",
       "  </thead>\n",
       "  <tbody>\n",
       "    <tr>\n",
       "      <th>0</th>\n",
       "      <td>US</td>\n",
       "      <td>40863868</td>\n",
       "      <td>658992</td>\n",
       "      <td>40601792</td>\n",
       "      <td>654583</td>\n",
       "      <td>262076</td>\n",
       "      <td>4409</td>\n",
       "      <td>1.6</td>\n",
       "      <td>North America</td>\n",
       "    </tr>\n",
       "    <tr>\n",
       "      <th>1</th>\n",
       "      <td>India</td>\n",
       "      <td>33208330</td>\n",
       "      <td>442317</td>\n",
       "      <td>33174954</td>\n",
       "      <td>442009</td>\n",
       "      <td>33376</td>\n",
       "      <td>308</td>\n",
       "      <td>1.3</td>\n",
       "      <td>Asia</td>\n",
       "    </tr>\n",
       "    <tr>\n",
       "      <th>2</th>\n",
       "      <td>Brazil</td>\n",
       "      <td>20974850</td>\n",
       "      <td>585846</td>\n",
       "      <td>20958899</td>\n",
       "      <td>585174</td>\n",
       "      <td>15951</td>\n",
       "      <td>672</td>\n",
       "      <td>2.8</td>\n",
       "      <td>South America</td>\n",
       "    </tr>\n",
       "    <tr>\n",
       "      <th>3</th>\n",
       "      <td>United Kingdom</td>\n",
       "      <td>7202212</td>\n",
       "      <td>134313</td>\n",
       "      <td>7165200</td>\n",
       "      <td>134166</td>\n",
       "      <td>37012</td>\n",
       "      <td>147</td>\n",
       "      <td>1.9</td>\n",
       "      <td>Europe</td>\n",
       "    </tr>\n",
       "    <tr>\n",
       "      <th>4</th>\n",
       "      <td>Russia</td>\n",
       "      <td>7000636</td>\n",
       "      <td>187768</td>\n",
       "      <td>6982628</td>\n",
       "      <td>186999</td>\n",
       "      <td>18008</td>\n",
       "      <td>769</td>\n",
       "      <td>2.7</td>\n",
       "      <td>Europe</td>\n",
       "    </tr>\n",
       "  </tbody>\n",
       "</table>\n",
       "</div>"
      ],
      "text/plain": [
       "   Country/Region     Cases  Deaths    PCases  PDeaths  Cases (+)  Deaths (+)  \\\n",
       "0              US  40863868  658992  40601792   654583     262076        4409   \n",
       "1           India  33208330  442317  33174954   442009      33376         308   \n",
       "2          Brazil  20974850  585846  20958899   585174      15951         672   \n",
       "3  United Kingdom   7202212  134313   7165200   134166      37012         147   \n",
       "4          Russia   7000636  187768   6982628   186999      18008         769   \n",
       "\n",
       "   Fatality Rate      Continent  \n",
       "0            1.6  North America  \n",
       "1            1.3           Asia  \n",
       "2            2.8  South America  \n",
       "3            1.9         Europe  \n",
       "4            2.7         Europe  "
      ]
     },
     "execution_count": 15,
     "metadata": {},
     "output_type": "execute_result"
    }
   ],
   "source": [
    "#hide\n",
    "df_table = (pd.DataFrame(dict(Cases=dfc_cases, Deaths=dfc_deaths, PCases=dfp_cases, PDeaths=dfp_deaths))\n",
    "             .sort_values(by=['Cases', 'Deaths'], ascending=[False, False])\n",
    "             .reset_index())\n",
    "df_table.rename(columns={'index': 'Country/Region'}, inplace=True)\n",
    "for c in 'Cases, Deaths'.split(', '):\n",
    "    df_table[f'{c} (+)'] = (df_table[c] - df_table[f'P{c}']).clip(0)  # DATA BUG\n",
    "df_table['Fatality Rate'] = (100 * df_table['Deaths'] / df_table['Cases']).round(1)\n",
    "df_table['Continent'] = df_table['Country/Region'].map(mapping['map.continent'])\n",
    "df_table.head(5)"
   ]
  },
  {
   "cell_type": "code",
   "execution_count": 16,
   "id": "fewer-occasion",
   "metadata": {
    "execution": {
     "iopub.execute_input": "2021-09-11T12:10:53.352082Z",
     "iopub.status.busy": "2021-09-11T12:10:53.351494Z",
     "iopub.status.idle": "2021-09-11T12:10:53.353858Z",
     "shell.execute_reply": "2021-09-11T12:10:53.353372Z"
    },
    "papermill": {
     "duration": 0.045864,
     "end_time": "2021-09-11T12:10:53.354006",
     "exception": false,
     "start_time": "2021-09-11T12:10:53.308142",
     "status": "completed"
    },
    "tags": []
   },
   "outputs": [],
   "source": [
    "#hide\n",
    "#delete problematic countries from table\n",
    "df_table = df_table[~df_table['Country/Region'].isin(['Cape Verde', 'Cruise Ship', 'Kosovo'])]"
   ]
  },
  {
   "cell_type": "code",
   "execution_count": 17,
   "id": "related-center",
   "metadata": {
    "execution": {
     "iopub.execute_input": "2021-09-11T12:10:53.441914Z",
     "iopub.status.busy": "2021-09-11T12:10:53.441320Z",
     "iopub.status.idle": "2021-09-11T12:10:53.443478Z",
     "shell.execute_reply": "2021-09-11T12:10:53.442994Z"
    },
    "papermill": {
     "duration": 0.055106,
     "end_time": "2021-09-11T12:10:53.443594",
     "exception": false,
     "start_time": "2021-09-11T12:10:53.388488",
     "status": "completed"
    },
    "tags": []
   },
   "outputs": [],
   "source": [
    "#hide\n",
    "metrics = [df_table.columns[index] for index in [1,2,5,6]]\n",
    "# s_china = df_table[df_table['Country/Region'].eq('China')][metrics].sum().add_prefix('China ')\n",
    "s_us = df_table[df_table['Country/Region'].eq('US')][metrics].sum().add_prefix('US ')\n",
    "s_eu = df_table[df_table['Continent'].eq('Europe')][metrics].sum().add_prefix('EU ')\n",
    "s_ind = df_table[df_table['Country/Region'].eq('India')][metrics].sum().add_prefix('India ')\n",
    "summary = {'updated': pd.to_datetime(dt_today), 'since': pd.to_datetime(dt_yday)}\n",
    "summary = {'updated': pd.to_datetime(dt_today), 'since': pd.to_datetime(dt_yday)}\n",
    "summary = {**summary, **df_table[metrics].sum(), **s_ind, **s_us, **s_eu}"
   ]
  },
  {
   "cell_type": "code",
   "execution_count": 18,
   "id": "engaging-syndrome",
   "metadata": {
    "execution": {
     "iopub.execute_input": "2021-09-11T12:10:53.518804Z",
     "iopub.status.busy": "2021-09-11T12:10:53.518190Z",
     "iopub.status.idle": "2021-09-11T12:10:53.531685Z",
     "shell.execute_reply": "2021-09-11T12:10:53.531179Z"
    },
    "papermill": {
     "duration": 0.053991,
     "end_time": "2021-09-11T12:10:53.532566",
     "exception": false,
     "start_time": "2021-09-11T12:10:53.478575",
     "status": "completed"
    },
    "tags": []
   },
   "outputs": [],
   "source": [
    "#hide\n",
    "dft_ct_new_cases = dft_cases.groupby(COL_REGION)[dt_cols].sum().diff(axis=1).fillna(0).astype(int)"
   ]
  },
  {
   "cell_type": "code",
   "execution_count": 19,
   "id": "neutral-assignment",
   "metadata": {
    "execution": {
     "iopub.execute_input": "2021-09-11T12:10:53.613310Z",
     "iopub.status.busy": "2021-09-11T12:10:53.612665Z",
     "iopub.status.idle": "2021-09-11T12:10:53.619956Z",
     "shell.execute_reply": "2021-09-11T12:10:53.620433Z"
    },
    "papermill": {
     "duration": 0.051076,
     "end_time": "2021-09-11T12:10:53.620591",
     "exception": false,
     "start_time": "2021-09-11T12:10:53.569515",
     "status": "completed"
    },
    "tags": []
   },
   "outputs": [],
   "source": [
    "#hide\n",
    "everydaycases = dft_ct_new_cases.cumsum(axis=1)"
   ]
  },
  {
   "cell_type": "code",
   "execution_count": 20,
   "id": "parliamentary-calgary",
   "metadata": {
    "execution": {
     "iopub.execute_input": "2021-09-11T12:10:53.697929Z",
     "iopub.status.busy": "2021-09-11T12:10:53.697361Z",
     "iopub.status.idle": "2021-09-11T12:10:54.350470Z",
     "shell.execute_reply": "2021-09-11T12:10:54.349495Z"
    },
    "papermill": {
     "duration": 0.692377,
     "end_time": "2021-09-11T12:10:54.350617",
     "exception": false,
     "start_time": "2021-09-11T12:10:53.658240",
     "status": "completed"
    },
    "tags": []
   },
   "outputs": [],
   "source": [
    "#hide\n",
    "import pandas as pd\n",
    "import matplotlib.pyplot as plt\n",
    "import matplotlib.ticker as ticker\n",
    "import matplotlib.animation as animation\n",
    "from IPython.display import HTML"
   ]
  },
  {
   "cell_type": "code",
   "execution_count": 21,
   "id": "lasting-extraction",
   "metadata": {
    "execution": {
     "iopub.execute_input": "2021-09-11T12:10:54.425552Z",
     "iopub.status.busy": "2021-09-11T12:10:54.424957Z",
     "iopub.status.idle": "2021-09-11T12:10:54.430010Z",
     "shell.execute_reply": "2021-09-11T12:10:54.430643Z"
    },
    "papermill": {
     "duration": 0.044712,
     "end_time": "2021-09-11T12:10:54.430803",
     "exception": false,
     "start_time": "2021-09-11T12:10:54.386091",
     "status": "completed"
    },
    "tags": []
   },
   "outputs": [],
   "source": [
    "#hide\n",
    "t = everydaycases.stack()"
   ]
  },
  {
   "cell_type": "code",
   "execution_count": 22,
   "id": "premier-sleeve",
   "metadata": {
    "execution": {
     "iopub.execute_input": "2021-09-11T12:10:54.506232Z",
     "iopub.status.busy": "2021-09-11T12:10:54.505661Z",
     "iopub.status.idle": "2021-09-11T12:10:54.513439Z",
     "shell.execute_reply": "2021-09-11T12:10:54.513931Z"
    },
    "papermill": {
     "duration": 0.047535,
     "end_time": "2021-09-11T12:10:54.514073",
     "exception": false,
     "start_time": "2021-09-11T12:10:54.466538",
     "status": "completed"
    },
    "tags": []
   },
   "outputs": [],
   "source": [
    "#hide\n",
    "g = t.reset_index(['Country/Region'])"
   ]
  },
  {
   "cell_type": "code",
   "execution_count": 23,
   "id": "distributed-pittsburgh",
   "metadata": {
    "execution": {
     "iopub.execute_input": "2021-09-11T12:10:54.589316Z",
     "iopub.status.busy": "2021-09-11T12:10:54.587990Z",
     "iopub.status.idle": "2021-09-11T12:10:54.590111Z",
     "shell.execute_reply": "2021-09-11T12:10:54.590671Z"
    },
    "papermill": {
     "duration": 0.040911,
     "end_time": "2021-09-11T12:10:54.590799",
     "exception": false,
     "start_time": "2021-09-11T12:10:54.549888",
     "status": "completed"
    },
    "tags": []
   },
   "outputs": [],
   "source": [
    "#hide\n",
    "g.index.name = 'date'"
   ]
  },
  {
   "cell_type": "code",
   "execution_count": 24,
   "id": "naked-donor",
   "metadata": {
    "execution": {
     "iopub.execute_input": "2021-09-11T12:10:54.668613Z",
     "iopub.status.busy": "2021-09-11T12:10:54.667980Z",
     "iopub.status.idle": "2021-09-11T12:10:54.670434Z",
     "shell.execute_reply": "2021-09-11T12:10:54.670984Z"
    },
    "papermill": {
     "duration": 0.044954,
     "end_time": "2021-09-11T12:10:54.671110",
     "exception": false,
     "start_time": "2021-09-11T12:10:54.626156",
     "status": "completed"
    },
    "tags": []
   },
   "outputs": [],
   "source": [
    "# #hide\n",
    "# g = g.reset_index(['date'])"
   ]
  },
  {
   "cell_type": "code",
   "execution_count": 25,
   "id": "incomplete-mustang",
   "metadata": {
    "execution": {
     "iopub.execute_input": "2021-09-11T12:10:54.748606Z",
     "iopub.status.busy": "2021-09-11T12:10:54.747886Z",
     "iopub.status.idle": "2021-09-11T12:10:54.749740Z",
     "shell.execute_reply": "2021-09-11T12:10:54.750378Z"
    },
    "papermill": {
     "duration": 0.043899,
     "end_time": "2021-09-11T12:10:54.750523",
     "exception": false,
     "start_time": "2021-09-11T12:10:54.706624",
     "status": "completed"
    },
    "tags": []
   },
   "outputs": [],
   "source": [
    "#hide\n",
    "# g.head()"
   ]
  },
  {
   "cell_type": "code",
   "execution_count": 26,
   "id": "specific-kruger",
   "metadata": {
    "execution": {
     "iopub.execute_input": "2021-09-11T12:10:54.828940Z",
     "iopub.status.busy": "2021-09-11T12:10:54.828361Z",
     "iopub.status.idle": "2021-09-11T12:10:54.830727Z",
     "shell.execute_reply": "2021-09-11T12:10:54.830222Z"
    },
    "papermill": {
     "duration": 0.041737,
     "end_time": "2021-09-11T12:10:54.830840",
     "exception": false,
     "start_time": "2021-09-11T12:10:54.789103",
     "status": "completed"
    },
    "tags": []
   },
   "outputs": [],
   "source": [
    "#hide\n",
    "# g.columns = ['date','country','cases']"
   ]
  },
  {
   "cell_type": "code",
   "execution_count": 27,
   "id": "tender-conversion",
   "metadata": {
    "execution": {
     "iopub.execute_input": "2021-09-11T12:10:54.905156Z",
     "iopub.status.busy": "2021-09-11T12:10:54.904368Z",
     "iopub.status.idle": "2021-09-11T12:10:54.907749Z",
     "shell.execute_reply": "2021-09-11T12:10:54.907171Z"
    },
    "papermill": {
     "duration": 0.041763,
     "end_time": "2021-09-11T12:10:54.907862",
     "exception": false,
     "start_time": "2021-09-11T12:10:54.866099",
     "status": "completed"
    },
    "tags": []
   },
   "outputs": [],
   "source": [
    "#hide\n",
    "# g['continent'] = g.country"
   ]
  },
  {
   "cell_type": "code",
   "execution_count": 28,
   "id": "substantial-wilderness",
   "metadata": {
    "execution": {
     "iopub.execute_input": "2021-09-11T12:10:54.980810Z",
     "iopub.status.busy": "2021-09-11T12:10:54.980247Z",
     "iopub.status.idle": "2021-09-11T12:10:54.982587Z",
     "shell.execute_reply": "2021-09-11T12:10:54.982083Z"
    },
    "papermill": {
     "duration": 0.0408,
     "end_time": "2021-09-11T12:10:54.982698",
     "exception": false,
     "start_time": "2021-09-11T12:10:54.941898",
     "status": "completed"
    },
    "tags": []
   },
   "outputs": [],
   "source": [
    "#hide\n",
    "# cols = list(g.columns.values)"
   ]
  },
  {
   "cell_type": "code",
   "execution_count": 29,
   "id": "solved-farming",
   "metadata": {
    "execution": {
     "iopub.execute_input": "2021-09-11T12:10:55.056514Z",
     "iopub.status.busy": "2021-09-11T12:10:55.055709Z",
     "iopub.status.idle": "2021-09-11T12:10:55.057626Z",
     "shell.execute_reply": "2021-09-11T12:10:55.058085Z"
    },
    "papermill": {
     "duration": 0.041559,
     "end_time": "2021-09-11T12:10:55.058222",
     "exception": false,
     "start_time": "2021-09-11T12:10:55.016663",
     "status": "completed"
    },
    "tags": []
   },
   "outputs": [],
   "source": [
    "#hide\n",
    "# cols.insert(0, cols.pop())"
   ]
  },
  {
   "cell_type": "code",
   "execution_count": 30,
   "id": "executed-adoption",
   "metadata": {
    "execution": {
     "iopub.execute_input": "2021-09-11T12:10:55.136471Z",
     "iopub.status.busy": "2021-09-11T12:10:55.135821Z",
     "iopub.status.idle": "2021-09-11T12:10:55.137703Z",
     "shell.execute_reply": "2021-09-11T12:10:55.138271Z"
    },
    "papermill": {
     "duration": 0.043177,
     "end_time": "2021-09-11T12:10:55.138441",
     "exception": false,
     "start_time": "2021-09-11T12:10:55.095264",
     "status": "completed"
    },
    "tags": []
   },
   "outputs": [],
   "source": [
    "#hide\n",
    "# g = g[cols]"
   ]
  },
  {
   "cell_type": "code",
   "execution_count": 31,
   "id": "subject-dublin",
   "metadata": {
    "execution": {
     "iopub.execute_input": "2021-09-11T12:10:55.221942Z",
     "iopub.status.busy": "2021-09-11T12:10:55.221323Z",
     "iopub.status.idle": "2021-09-11T12:10:55.223221Z",
     "shell.execute_reply": "2021-09-11T12:10:55.223714Z"
    },
    "papermill": {
     "duration": 0.043421,
     "end_time": "2021-09-11T12:10:55.223840",
     "exception": false,
     "start_time": "2021-09-11T12:10:55.180419",
     "status": "completed"
    },
    "tags": []
   },
   "outputs": [],
   "source": [
    "#hide\n",
    "# g['continent'] = g['continent'].map(mapping['map.continent'])"
   ]
  },
  {
   "cell_type": "code",
   "execution_count": 32,
   "id": "freelance-scout",
   "metadata": {
    "execution": {
     "iopub.execute_input": "2021-09-11T12:10:55.299438Z",
     "iopub.status.busy": "2021-09-11T12:10:55.298826Z",
     "iopub.status.idle": "2021-09-11T12:10:55.300939Z",
     "shell.execute_reply": "2021-09-11T12:10:55.300385Z"
    },
    "papermill": {
     "duration": 0.040387,
     "end_time": "2021-09-11T12:10:55.301051",
     "exception": false,
     "start_time": "2021-09-11T12:10:55.260664",
     "status": "completed"
    },
    "tags": []
   },
   "outputs": [],
   "source": [
    "#hide\n",
    "# g.head()"
   ]
  },
  {
   "cell_type": "code",
   "execution_count": 33,
   "id": "limited-engine",
   "metadata": {
    "execution": {
     "iopub.execute_input": "2021-09-11T12:10:55.374840Z",
     "iopub.status.busy": "2021-09-11T12:10:55.373558Z",
     "iopub.status.idle": "2021-09-11T12:10:55.375595Z",
     "shell.execute_reply": "2021-09-11T12:10:55.376094Z"
    },
    "papermill": {
     "duration": 0.040365,
     "end_time": "2021-09-11T12:10:55.376232",
     "exception": false,
     "start_time": "2021-09-11T12:10:55.335867",
     "status": "completed"
    },
    "tags": []
   },
   "outputs": [],
   "source": [
    "# hide\n",
    "# g['date'] = g['date'].astype('datetime64[ns]')"
   ]
  },
  {
   "cell_type": "code",
   "execution_count": 34,
   "id": "sophisticated-supervisor",
   "metadata": {
    "execution": {
     "iopub.execute_input": "2021-09-11T12:10:55.451224Z",
     "iopub.status.busy": "2021-09-11T12:10:55.449041Z",
     "iopub.status.idle": "2021-09-11T12:10:55.451933Z",
     "shell.execute_reply": "2021-09-11T12:10:55.452419Z"
    },
    "papermill": {
     "duration": 0.041648,
     "end_time": "2021-09-11T12:10:55.452553",
     "exception": false,
     "start_time": "2021-09-11T12:10:55.410905",
     "status": "completed"
    },
    "tags": []
   },
   "outputs": [],
   "source": [
    "#hide\n",
    "# g['date'] = g.date.dt.dayofyear"
   ]
  },
  {
   "cell_type": "code",
   "execution_count": 35,
   "id": "inside-dubai",
   "metadata": {
    "execution": {
     "iopub.execute_input": "2021-09-11T12:10:55.525672Z",
     "iopub.status.busy": "2021-09-11T12:10:55.525047Z",
     "iopub.status.idle": "2021-09-11T12:10:55.527470Z",
     "shell.execute_reply": "2021-09-11T12:10:55.526966Z"
    },
    "papermill": {
     "duration": 0.04089,
     "end_time": "2021-09-11T12:10:55.527575",
     "exception": false,
     "start_time": "2021-09-11T12:10:55.486685",
     "status": "completed"
    },
    "tags": []
   },
   "outputs": [],
   "source": [
    "#hide\n",
    "# g = g.rename(columns= {'continent':'group','country':'name','cases':'value'})"
   ]
  },
  {
   "cell_type": "code",
   "execution_count": 36,
   "id": "fleet-motorcycle",
   "metadata": {
    "execution": {
     "iopub.execute_input": "2021-09-11T12:10:55.601281Z",
     "iopub.status.busy": "2021-09-11T12:10:55.600415Z",
     "iopub.status.idle": "2021-09-11T12:10:55.602585Z",
     "shell.execute_reply": "2021-09-11T12:10:55.603140Z"
    },
    "papermill": {
     "duration": 0.040218,
     "end_time": "2021-09-11T12:10:55.603285",
     "exception": false,
     "start_time": "2021-09-11T12:10:55.563067",
     "status": "completed"
    },
    "tags": []
   },
   "outputs": [],
   "source": [
    "#hide\n",
    "# cols = ['name','group','day','value']"
   ]
  },
  {
   "cell_type": "code",
   "execution_count": 37,
   "id": "continued-sleeping",
   "metadata": {
    "execution": {
     "iopub.execute_input": "2021-09-11T12:10:55.678520Z",
     "iopub.status.busy": "2021-09-11T12:10:55.677880Z",
     "iopub.status.idle": "2021-09-11T12:10:55.680350Z",
     "shell.execute_reply": "2021-09-11T12:10:55.679774Z"
    },
    "papermill": {
     "duration": 0.042587,
     "end_time": "2021-09-11T12:10:55.680462",
     "exception": false,
     "start_time": "2021-09-11T12:10:55.637875",
     "status": "completed"
    },
    "tags": []
   },
   "outputs": [],
   "source": [
    "#hide\n",
    "# g.rename(columns= {'date':'day'},inplace = True)"
   ]
  },
  {
   "cell_type": "code",
   "execution_count": 38,
   "id": "major-fight",
   "metadata": {
    "execution": {
     "iopub.execute_input": "2021-09-11T12:10:55.762247Z",
     "iopub.status.busy": "2021-09-11T12:10:55.761681Z",
     "iopub.status.idle": "2021-09-11T12:10:55.764136Z",
     "shell.execute_reply": "2021-09-11T12:10:55.763579Z"
    },
    "papermill": {
     "duration": 0.043459,
     "end_time": "2021-09-11T12:10:55.764250",
     "exception": false,
     "start_time": "2021-09-11T12:10:55.720791",
     "status": "completed"
    },
    "tags": []
   },
   "outputs": [],
   "source": [
    "#hide\n",
    "# g = g[cols]"
   ]
  },
  {
   "cell_type": "code",
   "execution_count": 39,
   "id": "structured-mobile",
   "metadata": {
    "execution": {
     "iopub.execute_input": "2021-09-11T12:10:55.840802Z",
     "iopub.status.busy": "2021-09-11T12:10:55.840169Z",
     "iopub.status.idle": "2021-09-11T12:10:55.842423Z",
     "shell.execute_reply": "2021-09-11T12:10:55.842946Z"
    },
    "papermill": {
     "duration": 0.041359,
     "end_time": "2021-09-11T12:10:55.843088",
     "exception": false,
     "start_time": "2021-09-11T12:10:55.801729",
     "status": "completed"
    },
    "tags": []
   },
   "outputs": [],
   "source": [
    "# #hide\n",
    "# g = g[g.group.notna()]"
   ]
  },
  {
   "cell_type": "code",
   "execution_count": 40,
   "id": "determined-closing",
   "metadata": {
    "execution": {
     "iopub.execute_input": "2021-09-11T12:10:55.924806Z",
     "iopub.status.busy": "2021-09-11T12:10:55.924073Z",
     "iopub.status.idle": "2021-09-11T12:10:55.926413Z",
     "shell.execute_reply": "2021-09-11T12:10:55.925818Z"
    },
    "papermill": {
     "duration": 0.045331,
     "end_time": "2021-09-11T12:10:55.926527",
     "exception": false,
     "start_time": "2021-09-11T12:10:55.881196",
     "status": "completed"
    },
    "tags": []
   },
   "outputs": [],
   "source": [
    "# #hide\n",
    "# colors = dict(zip(\n",
    "#     [\"Oceania\", \"Europe\", \"Asia\", \"South America\", \"Middle East\", \"North America\", \"Africa\"],\n",
    "#     [\"#adb0ff\", \"#ffb3ff\", \"#90d595\", \"#e48381\", \"#aafbff\", \"#f7bb5f\", \"#eafb50\"]\n",
    "# ))\n",
    "# group_lk = g.set_index('name')['group'].to_dict()"
   ]
  },
  {
   "cell_type": "code",
   "execution_count": null,
   "id": "gross-drinking",
   "metadata": {
    "papermill": {
     "duration": 0.036734,
     "end_time": "2021-09-11T12:10:56.000605",
     "exception": false,
     "start_time": "2021-09-11T12:10:55.963871",
     "status": "completed"
    },
    "tags": []
   },
   "outputs": [],
   "source": []
  },
  {
   "cell_type": "code",
   "execution_count": 41,
   "id": "subject-macintosh",
   "metadata": {
    "execution": {
     "iopub.execute_input": "2021-09-11T12:10:56.080513Z",
     "iopub.status.busy": "2021-09-11T12:10:56.079923Z",
     "iopub.status.idle": "2021-09-11T12:10:56.082288Z",
     "shell.execute_reply": "2021-09-11T12:10:56.081814Z"
    },
    "papermill": {
     "duration": 0.045111,
     "end_time": "2021-09-11T12:10:56.082418",
     "exception": false,
     "start_time": "2021-09-11T12:10:56.037307",
     "status": "completed"
    },
    "tags": []
   },
   "outputs": [],
   "source": [
    "# #hide\n",
    "# fig, ax = plt.subplots(figsize=(15, 8))\n",
    "\n",
    "# def draw_barchart(current_day):\n",
    "#     dff = g[g['day'].eq(current_day)].sort_values(by='value', ascending=True).tail(10)\n",
    "#     ax.clear()\n",
    "#     ax.barh(dff['name'], dff['value'], color=[colors[group_lk[x]] for x in dff['name']])\n",
    "#     dx = dff['value'].max() / 200\n",
    "    \n",
    "#     for i, (value, name) in enumerate(zip(dff['value'], dff['name'])):\n",
    "#         ax.text(value-dx, i,     name,           size=14, weight=600, ha='right', va='bottom')\n",
    "#         ax.text(value-dx, i-.25, group_lk[name], size=10, color='#444444', ha='right', va='baseline')\n",
    "#         ax.text(value+dx, i,     f'{value:,.0f}',  size=14, ha='left',  va='center')\n",
    "#     ax.text(1, 0.4, current_day, transform=ax.transAxes, color='#777777', size=46, ha='right', weight=800)\n",
    "#     ax.text(0, 1.06, 'Population (thousands)', transform=ax.transAxes, size=12, color='#777777')\n",
    "#     ax.xaxis.set_major_formatter(ticker.StrMethodFormatter('{x:,.0f}'))\n",
    "#     ax.xaxis.set_ticks_position('top')\n",
    "#     ax.tick_params(axis='x', colors='#777777', labelsize=12)\n",
    "#     ax.set_yticks([])\n",
    "#     ax.margins(0, 0.01)\n",
    "#     ax.grid(which='major', axis='x', linestyle='-')\n",
    "#     ax.set_axisbelow(True)\n",
    "    \n",
    "#     ax.text(0, 1.15, 'Coronavirus',\n",
    "#             transform=ax.transAxes, size=24, weight=600, ha='left', va='top')\n",
    "# #     ax.text(1, 0, 'by @pratapvardhan; credit @jburnmurdoch', transform=ax.transAxes, color='#777777', ha='right',\n",
    "# #             bbox=dict(facecolor='white', alpha=0.8, edgecolor='white'))\n",
    "#     plt.box(False)"
   ]
  },
  {
   "cell_type": "code",
   "execution_count": 42,
   "id": "sexual-wages",
   "metadata": {
    "execution": {
     "iopub.execute_input": "2021-09-11T12:10:56.155074Z",
     "iopub.status.busy": "2021-09-11T12:10:56.154498Z",
     "iopub.status.idle": "2021-09-11T12:10:56.157778Z",
     "shell.execute_reply": "2021-09-11T12:10:56.157189Z"
    },
    "papermill": {
     "duration": 0.040507,
     "end_time": "2021-09-11T12:10:56.157898",
     "exception": false,
     "start_time": "2021-09-11T12:10:56.117391",
     "status": "completed"
    },
    "tags": []
   },
   "outputs": [],
   "source": [
    "# #hide_input\n",
    "# fig, ax = plt.subplots(figsize=(15, 8))\n",
    "# animator = animation.FuncAnimation(fig, draw_barchart, frames=range(g.day.values.min(), g.day.values.max()))\n",
    "# HTML(animator.to_jshtml())\n",
    "# # or use animator.to_html5_video() or animator.save() "
   ]
  },
  {
   "cell_type": "code",
   "execution_count": null,
   "id": "australian-container",
   "metadata": {
    "papermill": {
     "duration": 0.033687,
     "end_time": "2021-09-11T12:10:56.226537",
     "exception": false,
     "start_time": "2021-09-11T12:10:56.192850",
     "status": "completed"
    },
    "tags": []
   },
   "outputs": [],
   "source": []
  },
  {
   "cell_type": "code",
   "execution_count": null,
   "id": "mediterranean-pontiac",
   "metadata": {
    "papermill": {
     "duration": 0.035395,
     "end_time": "2021-09-11T12:10:56.297396",
     "exception": false,
     "start_time": "2021-09-11T12:10:56.262001",
     "status": "completed"
    },
    "tags": []
   },
   "outputs": [],
   "source": []
  },
  {
   "cell_type": "code",
   "execution_count": null,
   "id": "aging-legislature",
   "metadata": {
    "papermill": {
     "duration": 0.036549,
     "end_time": "2021-09-11T12:10:56.372439",
     "exception": false,
     "start_time": "2021-09-11T12:10:56.335890",
     "status": "completed"
    },
    "tags": []
   },
   "outputs": [],
   "source": []
  }
 ],
 "metadata": {
  "kernelspec": {
   "display_name": "Python 3",
   "language": "python",
   "name": "python3"
  },
  "language_info": {
   "codemirror_mode": {
    "name": "ipython",
    "version": 3
   },
   "file_extension": ".py",
   "mimetype": "text/x-python",
   "name": "python",
   "nbconvert_exporter": "python",
   "pygments_lexer": "ipython3",
   "version": "3.6.14"
  },
  "papermill": {
   "duration": 6.747624,
   "end_time": "2021-09-11T12:10:56.714906",
   "environment_variables": {},
   "exception": null,
   "input_path": "2020-03-21-covid19exp.ipynb",
   "output_path": "2020-03-21-covid19exp.ipynb",
   "parameters": {},
   "start_time": "2021-09-11T12:10:49.967282",
   "version": "2.0.0"
  }
 },
 "nbformat": 4,
 "nbformat_minor": 5
}