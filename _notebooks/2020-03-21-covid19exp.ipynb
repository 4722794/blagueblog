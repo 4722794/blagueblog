{
 "cells": [
  {
   "cell_type": "markdown",
   "id": "muslim-click",
   "metadata": {
    "papermill": {
     "duration": 0.037184,
     "end_time": "2021-05-31T12:38:38.856595",
     "exception": false,
     "start_time": "2021-05-31T12:38:38.819411",
     "status": "completed"
    },
    "tags": []
   },
   "source": [
    "# COVID-19 Case Race\n",
    "> A race chart to see rising cases around the world\n",
    "\n",
    "- author: Hargun Oberoi\n",
    "- image: images/covid-overview.png\n",
    "- hide: false\n",
    "- badges: false"
   ]
  },
  {
   "cell_type": "code",
   "execution_count": 1,
   "id": "proof-material",
   "metadata": {
    "execution": {
     "iopub.execute_input": "2021-05-31T12:38:38.933922Z",
     "iopub.status.busy": "2021-05-31T12:38:38.933328Z",
     "iopub.status.idle": "2021-05-31T12:38:39.292446Z",
     "shell.execute_reply": "2021-05-31T12:38:39.291856Z"
    },
    "papermill": {
     "duration": 0.402336,
     "end_time": "2021-05-31T12:38:39.292578",
     "exception": false,
     "start_time": "2021-05-31T12:38:38.890242",
     "status": "completed"
    },
    "tags": []
   },
   "outputs": [],
   "source": [
    "#hide\n",
    "import numpy as np\n",
    "import pandas as pd\n",
    "from jinja2 import Template\n",
    "from IPython.display import HTML"
   ]
  },
  {
   "cell_type": "code",
   "execution_count": 2,
   "id": "developed-terminology",
   "metadata": {
    "execution": {
     "iopub.execute_input": "2021-05-31T12:38:39.369228Z",
     "iopub.status.busy": "2021-05-31T12:38:39.368612Z",
     "iopub.status.idle": "2021-05-31T12:38:39.370427Z",
     "shell.execute_reply": "2021-05-31T12:38:39.371014Z"
    },
    "papermill": {
     "duration": 0.043027,
     "end_time": "2021-05-31T12:38:39.371132",
     "exception": false,
     "start_time": "2021-05-31T12:38:39.328105",
     "status": "completed"
    },
    "tags": []
   },
   "outputs": [],
   "source": [
    "#hide\n",
    "\n",
    "# FETCH\n",
    "base_url = 'https://raw.githubusercontent.com/pratapvardhan/notebooks/master/covid19/'\n",
    "paths = {\n",
    "    'mapping': base_url + 'mapping_countries.csv',\n",
    "    'overview': base_url + 'overview.tpl'\n",
    "}"
   ]
  },
  {
   "cell_type": "code",
   "execution_count": 3,
   "id": "dynamic-saver",
   "metadata": {
    "execution": {
     "iopub.execute_input": "2021-05-31T12:38:39.452049Z",
     "iopub.status.busy": "2021-05-31T12:38:39.451426Z",
     "iopub.status.idle": "2021-05-31T12:38:39.454755Z",
     "shell.execute_reply": "2021-05-31T12:38:39.454130Z"
    },
    "papermill": {
     "duration": 0.047314,
     "end_time": "2021-05-31T12:38:39.454867",
     "exception": false,
     "start_time": "2021-05-31T12:38:39.407553",
     "status": "completed"
    },
    "tags": []
   },
   "outputs": [
    {
     "data": {
      "text/plain": [
       "'https://raw.githubusercontent.com/pratapvardhan/notebooks/master/covid19/mapping_countries.csv'"
      ]
     },
     "execution_count": 3,
     "metadata": {},
     "output_type": "execute_result"
    }
   ],
   "source": [
    "#hide\n",
    "paths['mapping']"
   ]
  },
  {
   "cell_type": "code",
   "execution_count": 4,
   "id": "urban-software",
   "metadata": {
    "execution": {
     "iopub.execute_input": "2021-05-31T12:38:39.529718Z",
     "iopub.status.busy": "2021-05-31T12:38:39.529164Z",
     "iopub.status.idle": "2021-05-31T12:38:39.531078Z",
     "shell.execute_reply": "2021-05-31T12:38:39.531651Z"
    },
    "papermill": {
     "duration": 0.043274,
     "end_time": "2021-05-31T12:38:39.531760",
     "exception": false,
     "start_time": "2021-05-31T12:38:39.488486",
     "status": "completed"
    },
    "tags": []
   },
   "outputs": [],
   "source": [
    "#hide\n",
    "def get_mappings(url):\n",
    "    df = pd.read_csv(url)\n",
    "    return {\n",
    "        'df': df,\n",
    "        'replace.country': dict(df.dropna(subset=['Name']).set_index('Country')['Name']),\n",
    "        'map.continent': dict(df.set_index('Name')['Continent'])\n",
    "    }"
   ]
  },
  {
   "cell_type": "code",
   "execution_count": 5,
   "id": "intimate-machinery",
   "metadata": {
    "execution": {
     "iopub.execute_input": "2021-05-31T12:38:39.604275Z",
     "iopub.status.busy": "2021-05-31T12:38:39.603716Z",
     "iopub.status.idle": "2021-05-31T12:38:39.643182Z",
     "shell.execute_reply": "2021-05-31T12:38:39.643773Z"
    },
    "papermill": {
     "duration": 0.079001,
     "end_time": "2021-05-31T12:38:39.643944",
     "exception": false,
     "start_time": "2021-05-31T12:38:39.564943",
     "status": "completed"
    },
    "tags": []
   },
   "outputs": [],
   "source": [
    "#hide\n",
    "mapping = get_mappings(paths['mapping'])"
   ]
  },
  {
   "cell_type": "code",
   "execution_count": 6,
   "id": "certified-tactics",
   "metadata": {
    "execution": {
     "iopub.execute_input": "2021-05-31T12:38:39.720904Z",
     "iopub.status.busy": "2021-05-31T12:38:39.720272Z",
     "iopub.status.idle": "2021-05-31T12:38:39.722933Z",
     "shell.execute_reply": "2021-05-31T12:38:39.722470Z"
    },
    "papermill": {
     "duration": 0.042516,
     "end_time": "2021-05-31T12:38:39.723074",
     "exception": false,
     "start_time": "2021-05-31T12:38:39.680558",
     "status": "completed"
    },
    "tags": []
   },
   "outputs": [],
   "source": [
    "#hide\n",
    "def get_template(path):\n",
    "    from urllib.parse import urlparse\n",
    "    if bool(urlparse(path).netloc):\n",
    "        from urllib.request import urlopen\n",
    "        return urlopen(path).read().decode('utf8')\n",
    "    return open(path).read()"
   ]
  },
  {
   "cell_type": "code",
   "execution_count": 7,
   "id": "realistic-blast",
   "metadata": {
    "execution": {
     "iopub.execute_input": "2021-05-31T12:38:39.797853Z",
     "iopub.status.busy": "2021-05-31T12:38:39.797238Z",
     "iopub.status.idle": "2021-05-31T12:38:39.799120Z",
     "shell.execute_reply": "2021-05-31T12:38:39.799736Z"
    },
    "papermill": {
     "duration": 0.041543,
     "end_time": "2021-05-31T12:38:39.799993",
     "exception": false,
     "start_time": "2021-05-31T12:38:39.758450",
     "status": "completed"
    },
    "tags": []
   },
   "outputs": [],
   "source": [
    "#hide\n",
    "def get_frame(name):\n",
    "    url = (\n",
    "        'https://raw.githubusercontent.com/CSSEGISandData/COVID-19/master/csse_covid_19_data/'\n",
    "        f'csse_covid_19_time_series/time_series_covid19_{name}_global.csv')\n",
    "    df = pd.read_csv(url)\n",
    "    # rename countries\n",
    "    df['Country/Region'] = df['Country/Region'].replace(mapping['replace.country'])\n",
    "    return df"
   ]
  },
  {
   "cell_type": "code",
   "execution_count": 8,
   "id": "affiliated-characterization",
   "metadata": {
    "execution": {
     "iopub.execute_input": "2021-05-31T12:38:39.875830Z",
     "iopub.status.busy": "2021-05-31T12:38:39.875233Z",
     "iopub.status.idle": "2021-05-31T12:38:39.877151Z",
     "shell.execute_reply": "2021-05-31T12:38:39.877752Z"
    },
    "papermill": {
     "duration": 0.044253,
     "end_time": "2021-05-31T12:38:39.877857",
     "exception": false,
     "start_time": "2021-05-31T12:38:39.833604",
     "status": "completed"
    },
    "tags": []
   },
   "outputs": [],
   "source": [
    "#hide\n",
    "def get_dates(df):\n",
    "    dt_cols = df.columns[~df.columns.isin(['Province/State', 'Country/Region', 'Lat', 'Long'])]\n",
    "    LAST_DATE_I = -1\n",
    "    # sometimes last column may be empty, then go backwards\n",
    "    for i in range(-1, -len(dt_cols), -1):\n",
    "        if not df[dt_cols[i]].fillna(0).eq(0).all():\n",
    "            LAST_DATE_I = i\n",
    "            break\n",
    "    return LAST_DATE_I, dt_cols"
   ]
  },
  {
   "cell_type": "code",
   "execution_count": 9,
   "id": "recent-optimization",
   "metadata": {
    "execution": {
     "iopub.execute_input": "2021-05-31T12:38:39.949962Z",
     "iopub.status.busy": "2021-05-31T12:38:39.949298Z",
     "iopub.status.idle": "2021-05-31T12:38:40.308698Z",
     "shell.execute_reply": "2021-05-31T12:38:40.308051Z"
    },
    "papermill": {
     "duration": 0.39689,
     "end_time": "2021-05-31T12:38:40.308902",
     "exception": false,
     "start_time": "2021-05-31T12:38:39.912012",
     "status": "completed"
    },
    "tags": []
   },
   "outputs": [],
   "source": [
    "#hide\n",
    "COL_REGION = 'Country/Region'\n",
    "# Confirmed, Recovered, Deaths\n",
    "df = get_frame('confirmed')\n",
    "# dft_: timeseries, dfc_: today country agg\n",
    "dft_cases = df\n",
    "dft_deaths = get_frame('deaths')\n",
    "dft_recovered = get_frame('recovered')\n",
    "LAST_DATE_I, dt_cols = get_dates(df)"
   ]
  },
  {
   "cell_type": "code",
   "execution_count": 10,
   "id": "absolute-copper",
   "metadata": {
    "execution": {
     "iopub.execute_input": "2021-05-31T12:38:40.389773Z",
     "iopub.status.busy": "2021-05-31T12:38:40.389175Z",
     "iopub.status.idle": "2021-05-31T12:38:40.391304Z",
     "shell.execute_reply": "2021-05-31T12:38:40.391858Z"
    },
    "papermill": {
     "duration": 0.047438,
     "end_time": "2021-05-31T12:38:40.391994",
     "exception": false,
     "start_time": "2021-05-31T12:38:40.344556",
     "status": "completed"
    },
    "tags": []
   },
   "outputs": [],
   "source": [
    "#hide\n",
    "LAST_DATE_I, dt_cols = get_dates(df)\n",
    "dt_today =dt_cols[LAST_DATE_I]\n",
    "# dt_5day = dt_cols[LAST_DATE_I - 5]\n",
    "dt_yday = dt_cols[LAST_DATE_I - 1]"
   ]
  },
  {
   "cell_type": "code",
   "execution_count": 11,
   "id": "restricted-sheriff",
   "metadata": {
    "execution": {
     "iopub.execute_input": "2021-05-31T12:38:40.468514Z",
     "iopub.status.busy": "2021-05-31T12:38:40.467928Z",
     "iopub.status.idle": "2021-05-31T12:38:40.476797Z",
     "shell.execute_reply": "2021-05-31T12:38:40.477451Z"
    },
    "papermill": {
     "duration": 0.049533,
     "end_time": "2021-05-31T12:38:40.477603",
     "exception": false,
     "start_time": "2021-05-31T12:38:40.428070",
     "status": "completed"
    },
    "tags": []
   },
   "outputs": [],
   "source": [
    "#hide\n",
    "dfc_cases = dft_cases.groupby(COL_REGION)[dt_today].sum()\n",
    "dfc_deaths = dft_deaths.groupby(COL_REGION)[dt_today].sum()\n",
    "# dfp_cases = dft_cases.groupby(COL_REGION)[dt_5day].sum()\n",
    "# dfp_deaths = dft_deaths.groupby(COL_REGION)[dt_5day].sum()\n",
    "dfp_cases = dft_cases.groupby(COL_REGION)[dt_yday].sum()\n",
    "dfp_deaths = dft_deaths.groupby(COL_REGION)[dt_yday].sum()"
   ]
  },
  {
   "cell_type": "code",
   "execution_count": 12,
   "id": "deluxe-hepatitis",
   "metadata": {
    "execution": {
     "iopub.execute_input": "2021-05-31T12:38:40.557052Z",
     "iopub.status.busy": "2021-05-31T12:38:40.556275Z",
     "iopub.status.idle": "2021-05-31T12:38:40.561107Z",
     "shell.execute_reply": "2021-05-31T12:38:40.561742Z"
    },
    "papermill": {
     "duration": 0.048307,
     "end_time": "2021-05-31T12:38:40.561875",
     "exception": false,
     "start_time": "2021-05-31T12:38:40.513568",
     "status": "completed"
    },
    "tags": []
   },
   "outputs": [],
   "source": [
    "#hide\n",
    "df_table = (pd.DataFrame(dict(Cases = dfc_cases, Deaths = dfc_deaths, PCases = dfp_cases, PDeaths = dfp_deaths))\n",
    "            .sort_values(by = ['Cases','Deaths'], ascending = [False, False])\n",
    "            .reset_index())"
   ]
  },
  {
   "cell_type": "code",
   "execution_count": 13,
   "id": "educational-chancellor",
   "metadata": {
    "execution": {
     "iopub.execute_input": "2021-05-31T12:38:40.653707Z",
     "iopub.status.busy": "2021-05-31T12:38:40.652305Z",
     "iopub.status.idle": "2021-05-31T12:38:40.661852Z",
     "shell.execute_reply": "2021-05-31T12:38:40.661330Z"
    },
    "papermill": {
     "duration": 0.065008,
     "end_time": "2021-05-31T12:38:40.661955",
     "exception": false,
     "start_time": "2021-05-31T12:38:40.596947",
     "status": "completed"
    },
    "tags": []
   },
   "outputs": [
    {
     "data": {
      "text/html": [
       "<div>\n",
       "<style scoped>\n",
       "    .dataframe tbody tr th:only-of-type {\n",
       "        vertical-align: middle;\n",
       "    }\n",
       "\n",
       "    .dataframe tbody tr th {\n",
       "        vertical-align: top;\n",
       "    }\n",
       "\n",
       "    .dataframe thead th {\n",
       "        text-align: right;\n",
       "    }\n",
       "</style>\n",
       "<table border=\"1\" class=\"dataframe\">\n",
       "  <thead>\n",
       "    <tr style=\"text-align: right;\">\n",
       "      <th></th>\n",
       "      <th>Country/Region</th>\n",
       "      <th>Cases</th>\n",
       "      <th>Deaths</th>\n",
       "      <th>PCases</th>\n",
       "      <th>PDeaths</th>\n",
       "      <th>Cases (+)</th>\n",
       "      <th>Deaths (+)</th>\n",
       "      <th>Fatality Rate</th>\n",
       "      <th>Continent</th>\n",
       "    </tr>\n",
       "  </thead>\n",
       "  <tbody>\n",
       "    <tr>\n",
       "      <th>0</th>\n",
       "      <td>US</td>\n",
       "      <td>33258664</td>\n",
       "      <td>594430</td>\n",
       "      <td>33251939</td>\n",
       "      <td>594306</td>\n",
       "      <td>6725</td>\n",
       "      <td>124</td>\n",
       "      <td>1.79</td>\n",
       "      <td>North America</td>\n",
       "    </tr>\n",
       "    <tr>\n",
       "      <th>1</th>\n",
       "      <td>India</td>\n",
       "      <td>28047534</td>\n",
       "      <td>329100</td>\n",
       "      <td>27894800</td>\n",
       "      <td>325972</td>\n",
       "      <td>152734</td>\n",
       "      <td>3128</td>\n",
       "      <td>1.17</td>\n",
       "      <td>Asia</td>\n",
       "    </tr>\n",
       "    <tr>\n",
       "      <th>2</th>\n",
       "      <td>Brazil</td>\n",
       "      <td>16515120</td>\n",
       "      <td>461931</td>\n",
       "      <td>16471600</td>\n",
       "      <td>461057</td>\n",
       "      <td>43520</td>\n",
       "      <td>874</td>\n",
       "      <td>2.80</td>\n",
       "      <td>South America</td>\n",
       "    </tr>\n",
       "    <tr>\n",
       "      <th>3</th>\n",
       "      <td>France</td>\n",
       "      <td>5728418</td>\n",
       "      <td>109562</td>\n",
       "      <td>5719877</td>\n",
       "      <td>109518</td>\n",
       "      <td>8541</td>\n",
       "      <td>44</td>\n",
       "      <td>1.91</td>\n",
       "      <td>Europe</td>\n",
       "    </tr>\n",
       "    <tr>\n",
       "      <th>4</th>\n",
       "      <td>Turkey</td>\n",
       "      <td>5242911</td>\n",
       "      <td>47405</td>\n",
       "      <td>5235978</td>\n",
       "      <td>47271</td>\n",
       "      <td>6933</td>\n",
       "      <td>134</td>\n",
       "      <td>0.90</td>\n",
       "      <td>Asia</td>\n",
       "    </tr>\n",
       "  </tbody>\n",
       "</table>\n",
       "</div>"
      ],
      "text/plain": [
       "  Country/Region     Cases  Deaths    PCases  PDeaths  Cases (+)  Deaths (+)  \\\n",
       "0             US  33258664  594430  33251939   594306       6725         124   \n",
       "1          India  28047534  329100  27894800   325972     152734        3128   \n",
       "2         Brazil  16515120  461931  16471600   461057      43520         874   \n",
       "3         France   5728418  109562   5719877   109518       8541          44   \n",
       "4         Turkey   5242911   47405   5235978    47271       6933         134   \n",
       "\n",
       "   Fatality Rate      Continent  \n",
       "0           1.79  North America  \n",
       "1           1.17           Asia  \n",
       "2           2.80  South America  \n",
       "3           1.91         Europe  \n",
       "4           0.90           Asia  "
      ]
     },
     "execution_count": 13,
     "metadata": {},
     "output_type": "execute_result"
    }
   ],
   "source": [
    "#hide\n",
    "for c in 'Cases, Deaths'.split(', '):\n",
    "    df_table[f'{c} (+)'] = (df_table[c] - df_table[f'P{c}']).clip(0)\n",
    "    #Clip ça veut dire, les chiffres negatif sont interdit\n",
    "df_table['Fatality Rate'] = (100* df_table['Deaths']/ df_table['Cases']).round(2)\n",
    "df_table['Continent'] = df_table['Country/Region'].map(mapping['map.continent'])\n",
    "df_table.head(5)"
   ]
  },
  {
   "cell_type": "code",
   "execution_count": 14,
   "id": "aboriginal-bulgaria",
   "metadata": {
    "execution": {
     "iopub.execute_input": "2021-05-31T12:38:40.738546Z",
     "iopub.status.busy": "2021-05-31T12:38:40.737666Z",
     "iopub.status.idle": "2021-05-31T12:38:40.740131Z",
     "shell.execute_reply": "2021-05-31T12:38:40.739650Z"
    },
    "papermill": {
     "duration": 0.041592,
     "end_time": "2021-05-31T12:38:40.740267",
     "exception": false,
     "start_time": "2021-05-31T12:38:40.698675",
     "status": "completed"
    },
    "tags": []
   },
   "outputs": [],
   "source": [
    "#hide\n",
    "#delete problematic countries from table\n",
    "df_table = df_table[~df_table['Country/Region'].isin(['Cape Verde', 'Cruise Ship', 'Kosovo'])]"
   ]
  },
  {
   "cell_type": "code",
   "execution_count": 15,
   "id": "fantastic-effect",
   "metadata": {
    "execution": {
     "iopub.execute_input": "2021-05-31T12:38:40.815637Z",
     "iopub.status.busy": "2021-05-31T12:38:40.815049Z",
     "iopub.status.idle": "2021-05-31T12:38:40.837100Z",
     "shell.execute_reply": "2021-05-31T12:38:40.836448Z"
    },
    "papermill": {
     "duration": 0.062859,
     "end_time": "2021-05-31T12:38:40.837240",
     "exception": false,
     "start_time": "2021-05-31T12:38:40.774381",
     "status": "completed"
    },
    "tags": []
   },
   "outputs": [
    {
     "data": {
      "text/html": [
       "<div>\n",
       "<style scoped>\n",
       "    .dataframe tbody tr th:only-of-type {\n",
       "        vertical-align: middle;\n",
       "    }\n",
       "\n",
       "    .dataframe tbody tr th {\n",
       "        vertical-align: top;\n",
       "    }\n",
       "\n",
       "    .dataframe thead th {\n",
       "        text-align: right;\n",
       "    }\n",
       "</style>\n",
       "<table border=\"1\" class=\"dataframe\">\n",
       "  <thead>\n",
       "    <tr style=\"text-align: right;\">\n",
       "      <th></th>\n",
       "      <th>Country/Region</th>\n",
       "      <th>Cases</th>\n",
       "      <th>Deaths</th>\n",
       "      <th>PCases</th>\n",
       "      <th>PDeaths</th>\n",
       "      <th>Cases (+)</th>\n",
       "      <th>Deaths (+)</th>\n",
       "      <th>Fatality Rate</th>\n",
       "      <th>Continent</th>\n",
       "    </tr>\n",
       "  </thead>\n",
       "  <tbody>\n",
       "    <tr>\n",
       "      <th>0</th>\n",
       "      <td>US</td>\n",
       "      <td>33258664</td>\n",
       "      <td>594430</td>\n",
       "      <td>33251939</td>\n",
       "      <td>594306</td>\n",
       "      <td>6725</td>\n",
       "      <td>124</td>\n",
       "      <td>1.8</td>\n",
       "      <td>North America</td>\n",
       "    </tr>\n",
       "    <tr>\n",
       "      <th>1</th>\n",
       "      <td>India</td>\n",
       "      <td>28047534</td>\n",
       "      <td>329100</td>\n",
       "      <td>27894800</td>\n",
       "      <td>325972</td>\n",
       "      <td>152734</td>\n",
       "      <td>3128</td>\n",
       "      <td>1.2</td>\n",
       "      <td>Asia</td>\n",
       "    </tr>\n",
       "    <tr>\n",
       "      <th>2</th>\n",
       "      <td>Brazil</td>\n",
       "      <td>16515120</td>\n",
       "      <td>461931</td>\n",
       "      <td>16471600</td>\n",
       "      <td>461057</td>\n",
       "      <td>43520</td>\n",
       "      <td>874</td>\n",
       "      <td>2.8</td>\n",
       "      <td>South America</td>\n",
       "    </tr>\n",
       "    <tr>\n",
       "      <th>3</th>\n",
       "      <td>France</td>\n",
       "      <td>5728418</td>\n",
       "      <td>109562</td>\n",
       "      <td>5719877</td>\n",
       "      <td>109518</td>\n",
       "      <td>8541</td>\n",
       "      <td>44</td>\n",
       "      <td>1.9</td>\n",
       "      <td>Europe</td>\n",
       "    </tr>\n",
       "    <tr>\n",
       "      <th>4</th>\n",
       "      <td>Turkey</td>\n",
       "      <td>5242911</td>\n",
       "      <td>47405</td>\n",
       "      <td>5235978</td>\n",
       "      <td>47271</td>\n",
       "      <td>6933</td>\n",
       "      <td>134</td>\n",
       "      <td>0.9</td>\n",
       "      <td>Asia</td>\n",
       "    </tr>\n",
       "  </tbody>\n",
       "</table>\n",
       "</div>"
      ],
      "text/plain": [
       "  Country/Region     Cases  Deaths    PCases  PDeaths  Cases (+)  Deaths (+)  \\\n",
       "0             US  33258664  594430  33251939   594306       6725         124   \n",
       "1          India  28047534  329100  27894800   325972     152734        3128   \n",
       "2         Brazil  16515120  461931  16471600   461057      43520         874   \n",
       "3         France   5728418  109562   5719877   109518       8541          44   \n",
       "4         Turkey   5242911   47405   5235978    47271       6933         134   \n",
       "\n",
       "   Fatality Rate      Continent  \n",
       "0            1.8  North America  \n",
       "1            1.2           Asia  \n",
       "2            2.8  South America  \n",
       "3            1.9         Europe  \n",
       "4            0.9           Asia  "
      ]
     },
     "execution_count": 15,
     "metadata": {},
     "output_type": "execute_result"
    }
   ],
   "source": [
    "#hide\n",
    "df_table = (pd.DataFrame(dict(Cases=dfc_cases, Deaths=dfc_deaths, PCases=dfp_cases, PDeaths=dfp_deaths))\n",
    "             .sort_values(by=['Cases', 'Deaths'], ascending=[False, False])\n",
    "             .reset_index())\n",
    "df_table.rename(columns={'index': 'Country/Region'}, inplace=True)\n",
    "for c in 'Cases, Deaths'.split(', '):\n",
    "    df_table[f'{c} (+)'] = (df_table[c] - df_table[f'P{c}']).clip(0)  # DATA BUG\n",
    "df_table['Fatality Rate'] = (100 * df_table['Deaths'] / df_table['Cases']).round(1)\n",
    "df_table['Continent'] = df_table['Country/Region'].map(mapping['map.continent'])\n",
    "df_table.head(5)"
   ]
  },
  {
   "cell_type": "code",
   "execution_count": 16,
   "id": "fewer-occasion",
   "metadata": {
    "execution": {
     "iopub.execute_input": "2021-05-31T12:38:40.913340Z",
     "iopub.status.busy": "2021-05-31T12:38:40.912693Z",
     "iopub.status.idle": "2021-05-31T12:38:40.914700Z",
     "shell.execute_reply": "2021-05-31T12:38:40.915279Z"
    },
    "papermill": {
     "duration": 0.042351,
     "end_time": "2021-05-31T12:38:40.915395",
     "exception": false,
     "start_time": "2021-05-31T12:38:40.873044",
     "status": "completed"
    },
    "tags": []
   },
   "outputs": [],
   "source": [
    "#hide\n",
    "#delete problematic countries from table\n",
    "df_table = df_table[~df_table['Country/Region'].isin(['Cape Verde', 'Cruise Ship', 'Kosovo'])]"
   ]
  },
  {
   "cell_type": "code",
   "execution_count": 17,
   "id": "related-center",
   "metadata": {
    "execution": {
     "iopub.execute_input": "2021-05-31T12:38:41.003536Z",
     "iopub.status.busy": "2021-05-31T12:38:41.002930Z",
     "iopub.status.idle": "2021-05-31T12:38:41.005699Z",
     "shell.execute_reply": "2021-05-31T12:38:41.005276Z"
    },
    "papermill": {
     "duration": 0.056453,
     "end_time": "2021-05-31T12:38:41.005834",
     "exception": false,
     "start_time": "2021-05-31T12:38:40.949381",
     "status": "completed"
    },
    "tags": []
   },
   "outputs": [],
   "source": [
    "#hide\n",
    "metrics = [df_table.columns[index] for index in [1,2,5,6]]\n",
    "# s_china = df_table[df_table['Country/Region'].eq('China')][metrics].sum().add_prefix('China ')\n",
    "s_us = df_table[df_table['Country/Region'].eq('US')][metrics].sum().add_prefix('US ')\n",
    "s_eu = df_table[df_table['Continent'].eq('Europe')][metrics].sum().add_prefix('EU ')\n",
    "s_ind = df_table[df_table['Country/Region'].eq('India')][metrics].sum().add_prefix('India ')\n",
    "summary = {'updated': pd.to_datetime(dt_today), 'since': pd.to_datetime(dt_yday)}\n",
    "summary = {'updated': pd.to_datetime(dt_today), 'since': pd.to_datetime(dt_yday)}\n",
    "summary = {**summary, **df_table[metrics].sum(), **s_ind, **s_us, **s_eu}"
   ]
  },
  {
   "cell_type": "code",
   "execution_count": 18,
   "id": "engaging-syndrome",
   "metadata": {
    "execution": {
     "iopub.execute_input": "2021-05-31T12:38:41.083865Z",
     "iopub.status.busy": "2021-05-31T12:38:41.083278Z",
     "iopub.status.idle": "2021-05-31T12:38:41.095329Z",
     "shell.execute_reply": "2021-05-31T12:38:41.095910Z"
    },
    "papermill": {
     "duration": 0.05308,
     "end_time": "2021-05-31T12:38:41.096029",
     "exception": false,
     "start_time": "2021-05-31T12:38:41.042949",
     "status": "completed"
    },
    "tags": []
   },
   "outputs": [],
   "source": [
    "#hide\n",
    "dft_ct_new_cases = dft_cases.groupby(COL_REGION)[dt_cols].sum().diff(axis=1).fillna(0).astype(int)"
   ]
  },
  {
   "cell_type": "code",
   "execution_count": 19,
   "id": "neutral-assignment",
   "metadata": {
    "execution": {
     "iopub.execute_input": "2021-05-31T12:38:41.170942Z",
     "iopub.status.busy": "2021-05-31T12:38:41.170323Z",
     "iopub.status.idle": "2021-05-31T12:38:41.172582Z",
     "shell.execute_reply": "2021-05-31T12:38:41.173135Z"
    },
    "papermill": {
     "duration": 0.0415,
     "end_time": "2021-05-31T12:38:41.173241",
     "exception": false,
     "start_time": "2021-05-31T12:38:41.131741",
     "status": "completed"
    },
    "tags": []
   },
   "outputs": [],
   "source": [
    "#hide\n",
    "everydaycases = dft_ct_new_cases.cumsum(axis=1)"
   ]
  },
  {
   "cell_type": "code",
   "execution_count": 20,
   "id": "parliamentary-calgary",
   "metadata": {
    "execution": {
     "iopub.execute_input": "2021-05-31T12:38:41.246603Z",
     "iopub.status.busy": "2021-05-31T12:38:41.246078Z",
     "iopub.status.idle": "2021-05-31T12:38:41.805559Z",
     "shell.execute_reply": "2021-05-31T12:38:41.804697Z"
    },
    "papermill": {
     "duration": 0.598107,
     "end_time": "2021-05-31T12:38:41.805722",
     "exception": false,
     "start_time": "2021-05-31T12:38:41.207615",
     "status": "completed"
    },
    "tags": []
   },
   "outputs": [],
   "source": [
    "#hide\n",
    "import pandas as pd\n",
    "import matplotlib.pyplot as plt\n",
    "import matplotlib.ticker as ticker\n",
    "import matplotlib.animation as animation\n",
    "from IPython.display import HTML"
   ]
  },
  {
   "cell_type": "code",
   "execution_count": 21,
   "id": "lasting-extraction",
   "metadata": {
    "execution": {
     "iopub.execute_input": "2021-05-31T12:38:41.884215Z",
     "iopub.status.busy": "2021-05-31T12:38:41.883565Z",
     "iopub.status.idle": "2021-05-31T12:38:41.889154Z",
     "shell.execute_reply": "2021-05-31T12:38:41.888472Z"
    },
    "papermill": {
     "duration": 0.047189,
     "end_time": "2021-05-31T12:38:41.889266",
     "exception": false,
     "start_time": "2021-05-31T12:38:41.842077",
     "status": "completed"
    },
    "tags": []
   },
   "outputs": [],
   "source": [
    "#hide\n",
    "t = everydaycases.stack()"
   ]
  },
  {
   "cell_type": "code",
   "execution_count": 22,
   "id": "premier-sleeve",
   "metadata": {
    "execution": {
     "iopub.execute_input": "2021-05-31T12:38:41.964810Z",
     "iopub.status.busy": "2021-05-31T12:38:41.964212Z",
     "iopub.status.idle": "2021-05-31T12:38:41.971904Z",
     "shell.execute_reply": "2021-05-31T12:38:41.971414Z"
    },
    "papermill": {
     "duration": 0.046388,
     "end_time": "2021-05-31T12:38:41.972055",
     "exception": false,
     "start_time": "2021-05-31T12:38:41.925667",
     "status": "completed"
    },
    "tags": []
   },
   "outputs": [],
   "source": [
    "#hide\n",
    "g = t.reset_index(['Country/Region'])"
   ]
  },
  {
   "cell_type": "code",
   "execution_count": 23,
   "id": "distributed-pittsburgh",
   "metadata": {
    "execution": {
     "iopub.execute_input": "2021-05-31T12:38:42.045115Z",
     "iopub.status.busy": "2021-05-31T12:38:42.044537Z",
     "iopub.status.idle": "2021-05-31T12:38:42.046406Z",
     "shell.execute_reply": "2021-05-31T12:38:42.046999Z"
    },
    "papermill": {
     "duration": 0.040933,
     "end_time": "2021-05-31T12:38:42.047112",
     "exception": false,
     "start_time": "2021-05-31T12:38:42.006179",
     "status": "completed"
    },
    "tags": []
   },
   "outputs": [],
   "source": [
    "#hide\n",
    "g.index.name = 'date'"
   ]
  },
  {
   "cell_type": "code",
   "execution_count": 24,
   "id": "naked-donor",
   "metadata": {
    "execution": {
     "iopub.execute_input": "2021-05-31T12:38:42.122606Z",
     "iopub.status.busy": "2021-05-31T12:38:42.122031Z",
     "iopub.status.idle": "2021-05-31T12:38:42.123933Z",
     "shell.execute_reply": "2021-05-31T12:38:42.124494Z"
    },
    "papermill": {
     "duration": 0.041094,
     "end_time": "2021-05-31T12:38:42.124637",
     "exception": false,
     "start_time": "2021-05-31T12:38:42.083543",
     "status": "completed"
    },
    "tags": []
   },
   "outputs": [],
   "source": [
    "# #hide\n",
    "# g = g.reset_index(['date'])"
   ]
  },
  {
   "cell_type": "code",
   "execution_count": 25,
   "id": "incomplete-mustang",
   "metadata": {
    "execution": {
     "iopub.execute_input": "2021-05-31T12:38:42.197401Z",
     "iopub.status.busy": "2021-05-31T12:38:42.196733Z",
     "iopub.status.idle": "2021-05-31T12:38:42.199199Z",
     "shell.execute_reply": "2021-05-31T12:38:42.198775Z"
    },
    "papermill": {
     "duration": 0.039969,
     "end_time": "2021-05-31T12:38:42.199298",
     "exception": false,
     "start_time": "2021-05-31T12:38:42.159329",
     "status": "completed"
    },
    "tags": []
   },
   "outputs": [],
   "source": [
    "#hide\n",
    "# g.head()"
   ]
  },
  {
   "cell_type": "code",
   "execution_count": 26,
   "id": "specific-kruger",
   "metadata": {
    "execution": {
     "iopub.execute_input": "2021-05-31T12:38:42.273537Z",
     "iopub.status.busy": "2021-05-31T12:38:42.272929Z",
     "iopub.status.idle": "2021-05-31T12:38:42.274873Z",
     "shell.execute_reply": "2021-05-31T12:38:42.275403Z"
    },
    "papermill": {
     "duration": 0.041732,
     "end_time": "2021-05-31T12:38:42.275515",
     "exception": false,
     "start_time": "2021-05-31T12:38:42.233783",
     "status": "completed"
    },
    "tags": []
   },
   "outputs": [],
   "source": [
    "#hide\n",
    "# g.columns = ['date','country','cases']"
   ]
  },
  {
   "cell_type": "code",
   "execution_count": 27,
   "id": "tender-conversion",
   "metadata": {
    "execution": {
     "iopub.execute_input": "2021-05-31T12:38:42.350086Z",
     "iopub.status.busy": "2021-05-31T12:38:42.349481Z",
     "iopub.status.idle": "2021-05-31T12:38:42.351978Z",
     "shell.execute_reply": "2021-05-31T12:38:42.351341Z"
    },
    "papermill": {
     "duration": 0.041409,
     "end_time": "2021-05-31T12:38:42.352124",
     "exception": false,
     "start_time": "2021-05-31T12:38:42.310715",
     "status": "completed"
    },
    "tags": []
   },
   "outputs": [],
   "source": [
    "#hide\n",
    "# g['continent'] = g.country"
   ]
  },
  {
   "cell_type": "code",
   "execution_count": 28,
   "id": "substantial-wilderness",
   "metadata": {
    "execution": {
     "iopub.execute_input": "2021-05-31T12:38:42.432562Z",
     "iopub.status.busy": "2021-05-31T12:38:42.431985Z",
     "iopub.status.idle": "2021-05-31T12:38:42.434560Z",
     "shell.execute_reply": "2021-05-31T12:38:42.435222Z"
    },
    "papermill": {
     "duration": 0.044103,
     "end_time": "2021-05-31T12:38:42.435385",
     "exception": false,
     "start_time": "2021-05-31T12:38:42.391282",
     "status": "completed"
    },
    "tags": []
   },
   "outputs": [],
   "source": [
    "#hide\n",
    "# cols = list(g.columns.values)"
   ]
  },
  {
   "cell_type": "code",
   "execution_count": 29,
   "id": "solved-farming",
   "metadata": {
    "execution": {
     "iopub.execute_input": "2021-05-31T12:38:42.514078Z",
     "iopub.status.busy": "2021-05-31T12:38:42.513477Z",
     "iopub.status.idle": "2021-05-31T12:38:42.515719Z",
     "shell.execute_reply": "2021-05-31T12:38:42.516171Z"
    },
    "papermill": {
     "duration": 0.042056,
     "end_time": "2021-05-31T12:38:42.516351",
     "exception": false,
     "start_time": "2021-05-31T12:38:42.474295",
     "status": "completed"
    },
    "tags": []
   },
   "outputs": [],
   "source": [
    "#hide\n",
    "# cols.insert(0, cols.pop())"
   ]
  },
  {
   "cell_type": "code",
   "execution_count": 30,
   "id": "executed-adoption",
   "metadata": {
    "execution": {
     "iopub.execute_input": "2021-05-31T12:38:42.593534Z",
     "iopub.status.busy": "2021-05-31T12:38:42.592908Z",
     "iopub.status.idle": "2021-05-31T12:38:42.594885Z",
     "shell.execute_reply": "2021-05-31T12:38:42.595532Z"
    },
    "papermill": {
     "duration": 0.041892,
     "end_time": "2021-05-31T12:38:42.595648",
     "exception": false,
     "start_time": "2021-05-31T12:38:42.553756",
     "status": "completed"
    },
    "tags": []
   },
   "outputs": [],
   "source": [
    "#hide\n",
    "# g = g[cols]"
   ]
  },
  {
   "cell_type": "code",
   "execution_count": 31,
   "id": "subject-dublin",
   "metadata": {
    "execution": {
     "iopub.execute_input": "2021-05-31T12:38:42.670056Z",
     "iopub.status.busy": "2021-05-31T12:38:42.669411Z",
     "iopub.status.idle": "2021-05-31T12:38:42.671256Z",
     "shell.execute_reply": "2021-05-31T12:38:42.671701Z"
    },
    "papermill": {
     "duration": 0.041224,
     "end_time": "2021-05-31T12:38:42.671881",
     "exception": false,
     "start_time": "2021-05-31T12:38:42.630657",
     "status": "completed"
    },
    "tags": []
   },
   "outputs": [],
   "source": [
    "#hide\n",
    "# g['continent'] = g['continent'].map(mapping['map.continent'])"
   ]
  },
  {
   "cell_type": "code",
   "execution_count": 32,
   "id": "freelance-scout",
   "metadata": {
    "execution": {
     "iopub.execute_input": "2021-05-31T12:38:42.747329Z",
     "iopub.status.busy": "2021-05-31T12:38:42.746657Z",
     "iopub.status.idle": "2021-05-31T12:38:42.748813Z",
     "shell.execute_reply": "2021-05-31T12:38:42.748243Z"
    },
    "papermill": {
     "duration": 0.040998,
     "end_time": "2021-05-31T12:38:42.748916",
     "exception": false,
     "start_time": "2021-05-31T12:38:42.707918",
     "status": "completed"
    },
    "tags": []
   },
   "outputs": [],
   "source": [
    "#hide\n",
    "# g.head()"
   ]
  },
  {
   "cell_type": "code",
   "execution_count": 33,
   "id": "limited-engine",
   "metadata": {
    "execution": {
     "iopub.execute_input": "2021-05-31T12:38:42.823782Z",
     "iopub.status.busy": "2021-05-31T12:38:42.823198Z",
     "iopub.status.idle": "2021-05-31T12:38:42.825632Z",
     "shell.execute_reply": "2021-05-31T12:38:42.825124Z"
    },
    "papermill": {
     "duration": 0.042784,
     "end_time": "2021-05-31T12:38:42.825750",
     "exception": false,
     "start_time": "2021-05-31T12:38:42.782966",
     "status": "completed"
    },
    "tags": []
   },
   "outputs": [],
   "source": [
    "# hide\n",
    "# g['date'] = g['date'].astype('datetime64[ns]')"
   ]
  },
  {
   "cell_type": "code",
   "execution_count": 34,
   "id": "sophisticated-supervisor",
   "metadata": {
    "execution": {
     "iopub.execute_input": "2021-05-31T12:38:42.899838Z",
     "iopub.status.busy": "2021-05-31T12:38:42.899217Z",
     "iopub.status.idle": "2021-05-31T12:38:42.901700Z",
     "shell.execute_reply": "2021-05-31T12:38:42.901224Z"
    },
    "papermill": {
     "duration": 0.04112,
     "end_time": "2021-05-31T12:38:42.901801",
     "exception": false,
     "start_time": "2021-05-31T12:38:42.860681",
     "status": "completed"
    },
    "tags": []
   },
   "outputs": [],
   "source": [
    "#hide\n",
    "# g['date'] = g.date.dt.dayofyear"
   ]
  },
  {
   "cell_type": "code",
   "execution_count": 35,
   "id": "inside-dubai",
   "metadata": {
    "execution": {
     "iopub.execute_input": "2021-05-31T12:38:42.979610Z",
     "iopub.status.busy": "2021-05-31T12:38:42.978977Z",
     "iopub.status.idle": "2021-05-31T12:38:42.980715Z",
     "shell.execute_reply": "2021-05-31T12:38:42.981181Z"
    },
    "papermill": {
     "duration": 0.041733,
     "end_time": "2021-05-31T12:38:42.981332",
     "exception": false,
     "start_time": "2021-05-31T12:38:42.939599",
     "status": "completed"
    },
    "tags": []
   },
   "outputs": [],
   "source": [
    "#hide\n",
    "# g = g.rename(columns= {'continent':'group','country':'name','cases':'value'})"
   ]
  },
  {
   "cell_type": "code",
   "execution_count": 36,
   "id": "fleet-motorcycle",
   "metadata": {
    "execution": {
     "iopub.execute_input": "2021-05-31T12:38:43.056537Z",
     "iopub.status.busy": "2021-05-31T12:38:43.055933Z",
     "iopub.status.idle": "2021-05-31T12:38:43.057944Z",
     "shell.execute_reply": "2021-05-31T12:38:43.058483Z"
    },
    "papermill": {
     "duration": 0.041875,
     "end_time": "2021-05-31T12:38:43.058633",
     "exception": false,
     "start_time": "2021-05-31T12:38:43.016758",
     "status": "completed"
    },
    "tags": []
   },
   "outputs": [],
   "source": [
    "#hide\n",
    "# cols = ['name','group','day','value']"
   ]
  },
  {
   "cell_type": "code",
   "execution_count": 37,
   "id": "continued-sleeping",
   "metadata": {
    "execution": {
     "iopub.execute_input": "2021-05-31T12:38:43.132099Z",
     "iopub.status.busy": "2021-05-31T12:38:43.131525Z",
     "iopub.status.idle": "2021-05-31T12:38:43.133225Z",
     "shell.execute_reply": "2021-05-31T12:38:43.133705Z"
    },
    "papermill": {
     "duration": 0.039246,
     "end_time": "2021-05-31T12:38:43.133835",
     "exception": false,
     "start_time": "2021-05-31T12:38:43.094589",
     "status": "completed"
    },
    "tags": []
   },
   "outputs": [],
   "source": [
    "#hide\n",
    "# g.rename(columns= {'date':'day'},inplace = True)"
   ]
  },
  {
   "cell_type": "code",
   "execution_count": 38,
   "id": "major-fight",
   "metadata": {
    "execution": {
     "iopub.execute_input": "2021-05-31T12:38:43.207821Z",
     "iopub.status.busy": "2021-05-31T12:38:43.207253Z",
     "iopub.status.idle": "2021-05-31T12:38:43.209614Z",
     "shell.execute_reply": "2021-05-31T12:38:43.209127Z"
    },
    "papermill": {
     "duration": 0.04071,
     "end_time": "2021-05-31T12:38:43.209726",
     "exception": false,
     "start_time": "2021-05-31T12:38:43.169016",
     "status": "completed"
    },
    "tags": []
   },
   "outputs": [],
   "source": [
    "#hide\n",
    "# g = g[cols]"
   ]
  },
  {
   "cell_type": "code",
   "execution_count": 39,
   "id": "structured-mobile",
   "metadata": {
    "execution": {
     "iopub.execute_input": "2021-05-31T12:38:43.284596Z",
     "iopub.status.busy": "2021-05-31T12:38:43.284003Z",
     "iopub.status.idle": "2021-05-31T12:38:43.286054Z",
     "shell.execute_reply": "2021-05-31T12:38:43.286531Z"
    },
    "papermill": {
     "duration": 0.039662,
     "end_time": "2021-05-31T12:38:43.286643",
     "exception": false,
     "start_time": "2021-05-31T12:38:43.246981",
     "status": "completed"
    },
    "tags": []
   },
   "outputs": [],
   "source": [
    "# #hide\n",
    "# g = g[g.group.notna()]"
   ]
  },
  {
   "cell_type": "code",
   "execution_count": 40,
   "id": "determined-closing",
   "metadata": {
    "execution": {
     "iopub.execute_input": "2021-05-31T12:38:43.363028Z",
     "iopub.status.busy": "2021-05-31T12:38:43.362392Z",
     "iopub.status.idle": "2021-05-31T12:38:43.364150Z",
     "shell.execute_reply": "2021-05-31T12:38:43.364613Z"
    },
    "papermill": {
     "duration": 0.041462,
     "end_time": "2021-05-31T12:38:43.364824",
     "exception": false,
     "start_time": "2021-05-31T12:38:43.323362",
     "status": "completed"
    },
    "tags": []
   },
   "outputs": [],
   "source": [
    "# #hide\n",
    "# colors = dict(zip(\n",
    "#     [\"Oceania\", \"Europe\", \"Asia\", \"South America\", \"Middle East\", \"North America\", \"Africa\"],\n",
    "#     [\"#adb0ff\", \"#ffb3ff\", \"#90d595\", \"#e48381\", \"#aafbff\", \"#f7bb5f\", \"#eafb50\"]\n",
    "# ))\n",
    "# group_lk = g.set_index('name')['group'].to_dict()"
   ]
  },
  {
   "cell_type": "code",
   "execution_count": null,
   "id": "gross-drinking",
   "metadata": {
    "papermill": {
     "duration": 0.035636,
     "end_time": "2021-05-31T12:38:43.436139",
     "exception": false,
     "start_time": "2021-05-31T12:38:43.400503",
     "status": "completed"
    },
    "tags": []
   },
   "outputs": [],
   "source": []
  },
  {
   "cell_type": "code",
   "execution_count": 41,
   "id": "subject-macintosh",
   "metadata": {
    "execution": {
     "iopub.execute_input": "2021-05-31T12:38:43.517473Z",
     "iopub.status.busy": "2021-05-31T12:38:43.516706Z",
     "iopub.status.idle": "2021-05-31T12:38:43.518203Z",
     "shell.execute_reply": "2021-05-31T12:38:43.518847Z"
    },
    "papermill": {
     "duration": 0.044032,
     "end_time": "2021-05-31T12:38:43.518970",
     "exception": false,
     "start_time": "2021-05-31T12:38:43.474938",
     "status": "completed"
    },
    "tags": []
   },
   "outputs": [],
   "source": [
    "# #hide\n",
    "# fig, ax = plt.subplots(figsize=(15, 8))\n",
    "\n",
    "# def draw_barchart(current_day):\n",
    "#     dff = g[g['day'].eq(current_day)].sort_values(by='value', ascending=True).tail(10)\n",
    "#     ax.clear()\n",
    "#     ax.barh(dff['name'], dff['value'], color=[colors[group_lk[x]] for x in dff['name']])\n",
    "#     dx = dff['value'].max() / 200\n",
    "    \n",
    "#     for i, (value, name) in enumerate(zip(dff['value'], dff['name'])):\n",
    "#         ax.text(value-dx, i,     name,           size=14, weight=600, ha='right', va='bottom')\n",
    "#         ax.text(value-dx, i-.25, group_lk[name], size=10, color='#444444', ha='right', va='baseline')\n",
    "#         ax.text(value+dx, i,     f'{value:,.0f}',  size=14, ha='left',  va='center')\n",
    "#     ax.text(1, 0.4, current_day, transform=ax.transAxes, color='#777777', size=46, ha='right', weight=800)\n",
    "#     ax.text(0, 1.06, 'Population (thousands)', transform=ax.transAxes, size=12, color='#777777')\n",
    "#     ax.xaxis.set_major_formatter(ticker.StrMethodFormatter('{x:,.0f}'))\n",
    "#     ax.xaxis.set_ticks_position('top')\n",
    "#     ax.tick_params(axis='x', colors='#777777', labelsize=12)\n",
    "#     ax.set_yticks([])\n",
    "#     ax.margins(0, 0.01)\n",
    "#     ax.grid(which='major', axis='x', linestyle='-')\n",
    "#     ax.set_axisbelow(True)\n",
    "    \n",
    "#     ax.text(0, 1.15, 'Coronavirus',\n",
    "#             transform=ax.transAxes, size=24, weight=600, ha='left', va='top')\n",
    "# #     ax.text(1, 0, 'by @pratapvardhan; credit @jburnmurdoch', transform=ax.transAxes, color='#777777', ha='right',\n",
    "# #             bbox=dict(facecolor='white', alpha=0.8, edgecolor='white'))\n",
    "#     plt.box(False)"
   ]
  },
  {
   "cell_type": "code",
   "execution_count": 42,
   "id": "sexual-wages",
   "metadata": {
    "execution": {
     "iopub.execute_input": "2021-05-31T12:38:43.599724Z",
     "iopub.status.busy": "2021-05-31T12:38:43.599024Z",
     "iopub.status.idle": "2021-05-31T12:38:43.601521Z",
     "shell.execute_reply": "2021-05-31T12:38:43.601005Z"
    },
    "papermill": {
     "duration": 0.045708,
     "end_time": "2021-05-31T12:38:43.601651",
     "exception": false,
     "start_time": "2021-05-31T12:38:43.555943",
     "status": "completed"
    },
    "tags": []
   },
   "outputs": [],
   "source": [
    "# #hide_input\n",
    "# fig, ax = plt.subplots(figsize=(15, 8))\n",
    "# animator = animation.FuncAnimation(fig, draw_barchart, frames=range(g.day.values.min(), g.day.values.max()))\n",
    "# HTML(animator.to_jshtml())\n",
    "# # or use animator.to_html5_video() or animator.save() "
   ]
  },
  {
   "cell_type": "code",
   "execution_count": null,
   "id": "australian-container",
   "metadata": {
    "papermill": {
     "duration": 0.036748,
     "end_time": "2021-05-31T12:38:43.674488",
     "exception": false,
     "start_time": "2021-05-31T12:38:43.637740",
     "status": "completed"
    },
    "tags": []
   },
   "outputs": [],
   "source": []
  },
  {
   "cell_type": "code",
   "execution_count": null,
   "id": "mediterranean-pontiac",
   "metadata": {
    "papermill": {
     "duration": 0.034964,
     "end_time": "2021-05-31T12:38:43.747645",
     "exception": false,
     "start_time": "2021-05-31T12:38:43.712681",
     "status": "completed"
    },
    "tags": []
   },
   "outputs": [],
   "source": []
  },
  {
   "cell_type": "code",
   "execution_count": null,
   "id": "aging-legislature",
   "metadata": {
    "papermill": {
     "duration": 0.037828,
     "end_time": "2021-05-31T12:38:43.822989",
     "exception": false,
     "start_time": "2021-05-31T12:38:43.785161",
     "status": "completed"
    },
    "tags": []
   },
   "outputs": [],
   "source": []
  }
 ],
 "metadata": {
  "kernelspec": {
   "display_name": "Python 3",
   "language": "python",
   "name": "python3"
  },
  "language_info": {
   "codemirror_mode": {
    "name": "ipython",
    "version": 3
   },
   "file_extension": ".py",
   "mimetype": "text/x-python",
   "name": "python",
   "nbconvert_exporter": "python",
   "pygments_lexer": "ipython3",
   "version": "3.6.13"
  },
  "papermill": {
   "duration": 6.629443,
   "end_time": "2021-05-31T12:38:44.166648",
   "environment_variables": {},
   "exception": null,
   "input_path": "2020-03-21-covid19exp.ipynb",
   "output_path": "2020-03-21-covid19exp.ipynb",
   "parameters": {},
   "start_time": "2021-05-31T12:38:37.537205",
   "version": "2.0.0"
  }
 },
 "nbformat": 4,
 "nbformat_minor": 5
}