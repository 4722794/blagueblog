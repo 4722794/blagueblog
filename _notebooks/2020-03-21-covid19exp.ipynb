{
 "cells": [
  {
   "cell_type": "markdown",
   "id": "muslim-click",
   "metadata": {
    "papermill": {
     "duration": 0.041536,
     "end_time": "2021-09-25T00:22:46.593535",
     "exception": false,
     "start_time": "2021-09-25T00:22:46.551999",
     "status": "completed"
    },
    "tags": []
   },
   "source": [
    "# COVID-19 Case Race\n",
    "> A race chart to see rising cases around the world\n",
    "\n",
    "- author: Hargun Oberoi\n",
    "- image: images/covid-overview.png\n",
    "- hide: false\n",
    "- badges: false"
   ]
  },
  {
   "cell_type": "code",
   "execution_count": 1,
   "id": "proof-material",
   "metadata": {
    "execution": {
     "iopub.execute_input": "2021-09-25T00:22:46.678207Z",
     "iopub.status.busy": "2021-09-25T00:22:46.677467Z",
     "iopub.status.idle": "2021-09-25T00:22:47.079986Z",
     "shell.execute_reply": "2021-09-25T00:22:47.079412Z"
    },
    "papermill": {
     "duration": 0.449212,
     "end_time": "2021-09-25T00:22:47.080149",
     "exception": false,
     "start_time": "2021-09-25T00:22:46.630937",
     "status": "completed"
    },
    "tags": []
   },
   "outputs": [],
   "source": [
    "#hide\n",
    "import numpy as np\n",
    "import pandas as pd\n",
    "from jinja2 import Template\n",
    "from IPython.display import HTML"
   ]
  },
  {
   "cell_type": "code",
   "execution_count": 2,
   "id": "developed-terminology",
   "metadata": {
    "execution": {
     "iopub.execute_input": "2021-09-25T00:22:47.162296Z",
     "iopub.status.busy": "2021-09-25T00:22:47.161568Z",
     "iopub.status.idle": "2021-09-25T00:22:47.163963Z",
     "shell.execute_reply": "2021-09-25T00:22:47.163384Z"
    },
    "papermill": {
     "duration": 0.046311,
     "end_time": "2021-09-25T00:22:47.164078",
     "exception": false,
     "start_time": "2021-09-25T00:22:47.117767",
     "status": "completed"
    },
    "tags": []
   },
   "outputs": [],
   "source": [
    "#hide\n",
    "\n",
    "# FETCH\n",
    "base_url = 'https://raw.githubusercontent.com/pratapvardhan/notebooks/master/covid19/'\n",
    "paths = {\n",
    "    'mapping': base_url + 'mapping_countries.csv',\n",
    "    'overview': base_url + 'overview.tpl'\n",
    "}"
   ]
  },
  {
   "cell_type": "code",
   "execution_count": 3,
   "id": "dynamic-saver",
   "metadata": {
    "execution": {
     "iopub.execute_input": "2021-09-25T00:22:47.249542Z",
     "iopub.status.busy": "2021-09-25T00:22:47.248863Z",
     "iopub.status.idle": "2021-09-25T00:22:47.251734Z",
     "shell.execute_reply": "2021-09-25T00:22:47.252388Z"
    },
    "papermill": {
     "duration": 0.050852,
     "end_time": "2021-09-25T00:22:47.252523",
     "exception": false,
     "start_time": "2021-09-25T00:22:47.201671",
     "status": "completed"
    },
    "tags": []
   },
   "outputs": [
    {
     "data": {
      "text/plain": [
       "'https://raw.githubusercontent.com/pratapvardhan/notebooks/master/covid19/mapping_countries.csv'"
      ]
     },
     "execution_count": 3,
     "metadata": {},
     "output_type": "execute_result"
    }
   ],
   "source": [
    "#hide\n",
    "paths['mapping']"
   ]
  },
  {
   "cell_type": "code",
   "execution_count": 4,
   "id": "urban-software",
   "metadata": {
    "execution": {
     "iopub.execute_input": "2021-09-25T00:22:47.334519Z",
     "iopub.status.busy": "2021-09-25T00:22:47.333852Z",
     "iopub.status.idle": "2021-09-25T00:22:47.336511Z",
     "shell.execute_reply": "2021-09-25T00:22:47.335908Z"
    },
    "papermill": {
     "duration": 0.045802,
     "end_time": "2021-09-25T00:22:47.336650",
     "exception": false,
     "start_time": "2021-09-25T00:22:47.290848",
     "status": "completed"
    },
    "tags": []
   },
   "outputs": [],
   "source": [
    "#hide\n",
    "def get_mappings(url):\n",
    "    df = pd.read_csv(url)\n",
    "    return {\n",
    "        'df': df,\n",
    "        'replace.country': dict(df.dropna(subset=['Name']).set_index('Country')['Name']),\n",
    "        'map.continent': dict(df.set_index('Name')['Continent'])\n",
    "    }"
   ]
  },
  {
   "cell_type": "code",
   "execution_count": 5,
   "id": "intimate-machinery",
   "metadata": {
    "execution": {
     "iopub.execute_input": "2021-09-25T00:22:47.420330Z",
     "iopub.status.busy": "2021-09-25T00:22:47.419520Z",
     "iopub.status.idle": "2021-09-25T00:22:47.469003Z",
     "shell.execute_reply": "2021-09-25T00:22:47.468341Z"
    },
    "papermill": {
     "duration": 0.092534,
     "end_time": "2021-09-25T00:22:47.469164",
     "exception": false,
     "start_time": "2021-09-25T00:22:47.376630",
     "status": "completed"
    },
    "tags": []
   },
   "outputs": [],
   "source": [
    "#hide\n",
    "mapping = get_mappings(paths['mapping'])"
   ]
  },
  {
   "cell_type": "code",
   "execution_count": 6,
   "id": "certified-tactics",
   "metadata": {
    "execution": {
     "iopub.execute_input": "2021-09-25T00:22:47.552224Z",
     "iopub.status.busy": "2021-09-25T00:22:47.551554Z",
     "iopub.status.idle": "2021-09-25T00:22:47.553523Z",
     "shell.execute_reply": "2021-09-25T00:22:47.554178Z"
    },
    "papermill": {
     "duration": 0.047258,
     "end_time": "2021-09-25T00:22:47.554340",
     "exception": false,
     "start_time": "2021-09-25T00:22:47.507082",
     "status": "completed"
    },
    "tags": []
   },
   "outputs": [],
   "source": [
    "#hide\n",
    "def get_template(path):\n",
    "    from urllib.parse import urlparse\n",
    "    if bool(urlparse(path).netloc):\n",
    "        from urllib.request import urlopen\n",
    "        return urlopen(path).read().decode('utf8')\n",
    "    return open(path).read()"
   ]
  },
  {
   "cell_type": "code",
   "execution_count": 7,
   "id": "realistic-blast",
   "metadata": {
    "execution": {
     "iopub.execute_input": "2021-09-25T00:22:47.635950Z",
     "iopub.status.busy": "2021-09-25T00:22:47.635305Z",
     "iopub.status.idle": "2021-09-25T00:22:47.638129Z",
     "shell.execute_reply": "2021-09-25T00:22:47.637507Z"
    },
    "papermill": {
     "duration": 0.045284,
     "end_time": "2021-09-25T00:22:47.638259",
     "exception": false,
     "start_time": "2021-09-25T00:22:47.592975",
     "status": "completed"
    },
    "tags": []
   },
   "outputs": [],
   "source": [
    "#hide\n",
    "def get_frame(name):\n",
    "    url = (\n",
    "        'https://raw.githubusercontent.com/CSSEGISandData/COVID-19/master/csse_covid_19_data/'\n",
    "        f'csse_covid_19_time_series/time_series_covid19_{name}_global.csv')\n",
    "    df = pd.read_csv(url)\n",
    "    # rename countries\n",
    "    df['Country/Region'] = df['Country/Region'].replace(mapping['replace.country'])\n",
    "    return df"
   ]
  },
  {
   "cell_type": "code",
   "execution_count": 8,
   "id": "affiliated-characterization",
   "metadata": {
    "execution": {
     "iopub.execute_input": "2021-09-25T00:22:47.716588Z",
     "iopub.status.busy": "2021-09-25T00:22:47.715857Z",
     "iopub.status.idle": "2021-09-25T00:22:47.717980Z",
     "shell.execute_reply": "2021-09-25T00:22:47.718532Z"
    },
    "papermill": {
     "duration": 0.044491,
     "end_time": "2021-09-25T00:22:47.718677",
     "exception": false,
     "start_time": "2021-09-25T00:22:47.674186",
     "status": "completed"
    },
    "tags": []
   },
   "outputs": [],
   "source": [
    "#hide\n",
    "def get_dates(df):\n",
    "    dt_cols = df.columns[~df.columns.isin(['Province/State', 'Country/Region', 'Lat', 'Long'])]\n",
    "    LAST_DATE_I = -1\n",
    "    # sometimes last column may be empty, then go backwards\n",
    "    for i in range(-1, -len(dt_cols), -1):\n",
    "        if not df[dt_cols[i]].fillna(0).eq(0).all():\n",
    "            LAST_DATE_I = i\n",
    "            break\n",
    "    return LAST_DATE_I, dt_cols"
   ]
  },
  {
   "cell_type": "code",
   "execution_count": 9,
   "id": "recent-optimization",
   "metadata": {
    "execution": {
     "iopub.execute_input": "2021-09-25T00:22:47.801274Z",
     "iopub.status.busy": "2021-09-25T00:22:47.800589Z",
     "iopub.status.idle": "2021-09-25T00:22:48.239463Z",
     "shell.execute_reply": "2021-09-25T00:22:48.240647Z"
    },
    "papermill": {
     "duration": 0.484,
     "end_time": "2021-09-25T00:22:48.240840",
     "exception": false,
     "start_time": "2021-09-25T00:22:47.756840",
     "status": "completed"
    },
    "tags": []
   },
   "outputs": [],
   "source": [
    "#hide\n",
    "COL_REGION = 'Country/Region'\n",
    "# Confirmed, Recovered, Deaths\n",
    "df = get_frame('confirmed')\n",
    "# dft_: timeseries, dfc_: today country agg\n",
    "dft_cases = df\n",
    "dft_deaths = get_frame('deaths')\n",
    "dft_recovered = get_frame('recovered')\n",
    "LAST_DATE_I, dt_cols = get_dates(df)"
   ]
  },
  {
   "cell_type": "code",
   "execution_count": 10,
   "id": "absolute-copper",
   "metadata": {
    "execution": {
     "iopub.execute_input": "2021-09-25T00:22:48.319722Z",
     "iopub.status.busy": "2021-09-25T00:22:48.319132Z",
     "iopub.status.idle": "2021-09-25T00:22:48.321571Z",
     "shell.execute_reply": "2021-09-25T00:22:48.322209Z"
    },
    "papermill": {
     "duration": 0.044248,
     "end_time": "2021-09-25T00:22:48.322351",
     "exception": false,
     "start_time": "2021-09-25T00:22:48.278103",
     "status": "completed"
    },
    "tags": []
   },
   "outputs": [],
   "source": [
    "#hide\n",
    "LAST_DATE_I, dt_cols = get_dates(df)\n",
    "dt_today =dt_cols[LAST_DATE_I]\n",
    "# dt_5day = dt_cols[LAST_DATE_I - 5]\n",
    "dt_yday = dt_cols[LAST_DATE_I - 1]"
   ]
  },
  {
   "cell_type": "code",
   "execution_count": 11,
   "id": "restricted-sheriff",
   "metadata": {
    "execution": {
     "iopub.execute_input": "2021-09-25T00:22:48.402549Z",
     "iopub.status.busy": "2021-09-25T00:22:48.401890Z",
     "iopub.status.idle": "2021-09-25T00:22:48.410461Z",
     "shell.execute_reply": "2021-09-25T00:22:48.411048Z"
    },
    "papermill": {
     "duration": 0.052311,
     "end_time": "2021-09-25T00:22:48.411196",
     "exception": false,
     "start_time": "2021-09-25T00:22:48.358885",
     "status": "completed"
    },
    "tags": []
   },
   "outputs": [],
   "source": [
    "#hide\n",
    "dfc_cases = dft_cases.groupby(COL_REGION)[dt_today].sum()\n",
    "dfc_deaths = dft_deaths.groupby(COL_REGION)[dt_today].sum()\n",
    "# dfp_cases = dft_cases.groupby(COL_REGION)[dt_5day].sum()\n",
    "# dfp_deaths = dft_deaths.groupby(COL_REGION)[dt_5day].sum()\n",
    "dfp_cases = dft_cases.groupby(COL_REGION)[dt_yday].sum()\n",
    "dfp_deaths = dft_deaths.groupby(COL_REGION)[dt_yday].sum()"
   ]
  },
  {
   "cell_type": "code",
   "execution_count": 12,
   "id": "deluxe-hepatitis",
   "metadata": {
    "execution": {
     "iopub.execute_input": "2021-09-25T00:22:48.497135Z",
     "iopub.status.busy": "2021-09-25T00:22:48.496469Z",
     "iopub.status.idle": "2021-09-25T00:22:48.507514Z",
     "shell.execute_reply": "2021-09-25T00:22:48.508041Z"
    },
    "papermill": {
     "duration": 0.060292,
     "end_time": "2021-09-25T00:22:48.508212",
     "exception": false,
     "start_time": "2021-09-25T00:22:48.447920",
     "status": "completed"
    },
    "tags": []
   },
   "outputs": [],
   "source": [
    "#hide\n",
    "df_table = (pd.DataFrame(dict(Cases = dfc_cases, Deaths = dfc_deaths, PCases = dfp_cases, PDeaths = dfp_deaths))\n",
    "            .sort_values(by = ['Cases','Deaths'], ascending = [False, False])\n",
    "            .reset_index())"
   ]
  },
  {
   "cell_type": "code",
   "execution_count": 13,
   "id": "educational-chancellor",
   "metadata": {
    "execution": {
     "iopub.execute_input": "2021-09-25T00:22:48.612230Z",
     "iopub.status.busy": "2021-09-25T00:22:48.606045Z",
     "iopub.status.idle": "2021-09-25T00:22:48.616756Z",
     "shell.execute_reply": "2021-09-25T00:22:48.616158Z"
    },
    "papermill": {
     "duration": 0.070989,
     "end_time": "2021-09-25T00:22:48.616895",
     "exception": false,
     "start_time": "2021-09-25T00:22:48.545906",
     "status": "completed"
    },
    "tags": []
   },
   "outputs": [
    {
     "data": {
      "text/html": [
       "<div>\n",
       "<style scoped>\n",
       "    .dataframe tbody tr th:only-of-type {\n",
       "        vertical-align: middle;\n",
       "    }\n",
       "\n",
       "    .dataframe tbody tr th {\n",
       "        vertical-align: top;\n",
       "    }\n",
       "\n",
       "    .dataframe thead th {\n",
       "        text-align: right;\n",
       "    }\n",
       "</style>\n",
       "<table border=\"1\" class=\"dataframe\">\n",
       "  <thead>\n",
       "    <tr style=\"text-align: right;\">\n",
       "      <th></th>\n",
       "      <th>Country/Region</th>\n",
       "      <th>Cases</th>\n",
       "      <th>Deaths</th>\n",
       "      <th>PCases</th>\n",
       "      <th>PDeaths</th>\n",
       "      <th>Cases (+)</th>\n",
       "      <th>Deaths (+)</th>\n",
       "      <th>Fatality Rate</th>\n",
       "      <th>Continent</th>\n",
       "    </tr>\n",
       "  </thead>\n",
       "  <tbody>\n",
       "    <tr>\n",
       "      <th>0</th>\n",
       "      <td>US</td>\n",
       "      <td>42672241</td>\n",
       "      <td>684349</td>\n",
       "      <td>42543510</td>\n",
       "      <td>681192</td>\n",
       "      <td>128731</td>\n",
       "      <td>3157</td>\n",
       "      <td>1.60</td>\n",
       "      <td>North America</td>\n",
       "    </tr>\n",
       "    <tr>\n",
       "      <th>1</th>\n",
       "      <td>India</td>\n",
       "      <td>33594803</td>\n",
       "      <td>446368</td>\n",
       "      <td>33563421</td>\n",
       "      <td>446050</td>\n",
       "      <td>31382</td>\n",
       "      <td>318</td>\n",
       "      <td>1.33</td>\n",
       "      <td>Asia</td>\n",
       "    </tr>\n",
       "    <tr>\n",
       "      <th>2</th>\n",
       "      <td>Brazil</td>\n",
       "      <td>21308178</td>\n",
       "      <td>592964</td>\n",
       "      <td>21283567</td>\n",
       "      <td>592316</td>\n",
       "      <td>24611</td>\n",
       "      <td>648</td>\n",
       "      <td>2.78</td>\n",
       "      <td>South America</td>\n",
       "    </tr>\n",
       "    <tr>\n",
       "      <th>3</th>\n",
       "      <td>United Kingdom</td>\n",
       "      <td>7601598</td>\n",
       "      <td>136156</td>\n",
       "      <td>7565751</td>\n",
       "      <td>135961</td>\n",
       "      <td>35847</td>\n",
       "      <td>195</td>\n",
       "      <td>1.79</td>\n",
       "      <td>Europe</td>\n",
       "    </tr>\n",
       "    <tr>\n",
       "      <th>4</th>\n",
       "      <td>Russia</td>\n",
       "      <td>7248572</td>\n",
       "      <td>197834</td>\n",
       "      <td>7227549</td>\n",
       "      <td>197032</td>\n",
       "      <td>21023</td>\n",
       "      <td>802</td>\n",
       "      <td>2.73</td>\n",
       "      <td>Europe</td>\n",
       "    </tr>\n",
       "  </tbody>\n",
       "</table>\n",
       "</div>"
      ],
      "text/plain": [
       "   Country/Region     Cases  Deaths    PCases  PDeaths  Cases (+)  Deaths (+)  \\\n",
       "0              US  42672241  684349  42543510   681192     128731        3157   \n",
       "1           India  33594803  446368  33563421   446050      31382         318   \n",
       "2          Brazil  21308178  592964  21283567   592316      24611         648   \n",
       "3  United Kingdom   7601598  136156   7565751   135961      35847         195   \n",
       "4          Russia   7248572  197834   7227549   197032      21023         802   \n",
       "\n",
       "   Fatality Rate      Continent  \n",
       "0           1.60  North America  \n",
       "1           1.33           Asia  \n",
       "2           2.78  South America  \n",
       "3           1.79         Europe  \n",
       "4           2.73         Europe  "
      ]
     },
     "execution_count": 13,
     "metadata": {},
     "output_type": "execute_result"
    }
   ],
   "source": [
    "#hide\n",
    "for c in 'Cases, Deaths'.split(', '):\n",
    "    df_table[f'{c} (+)'] = (df_table[c] - df_table[f'P{c}']).clip(0)\n",
    "    #Clip ça veut dire, les chiffres negatif sont interdit\n",
    "df_table['Fatality Rate'] = (100* df_table['Deaths']/ df_table['Cases']).round(2)\n",
    "df_table['Continent'] = df_table['Country/Region'].map(mapping['map.continent'])\n",
    "df_table.head(5)"
   ]
  },
  {
   "cell_type": "code",
   "execution_count": 14,
   "id": "aboriginal-bulgaria",
   "metadata": {
    "execution": {
     "iopub.execute_input": "2021-09-25T00:22:48.701691Z",
     "iopub.status.busy": "2021-09-25T00:22:48.700976Z",
     "iopub.status.idle": "2021-09-25T00:22:48.703120Z",
     "shell.execute_reply": "2021-09-25T00:22:48.703852Z"
    },
    "papermill": {
     "duration": 0.047642,
     "end_time": "2021-09-25T00:22:48.703998",
     "exception": false,
     "start_time": "2021-09-25T00:22:48.656356",
     "status": "completed"
    },
    "tags": []
   },
   "outputs": [],
   "source": [
    "#hide\n",
    "#delete problematic countries from table\n",
    "df_table = df_table[~df_table['Country/Region'].isin(['Cape Verde', 'Cruise Ship', 'Kosovo'])]"
   ]
  },
  {
   "cell_type": "code",
   "execution_count": 15,
   "id": "fantastic-effect",
   "metadata": {
    "execution": {
     "iopub.execute_input": "2021-09-25T00:22:48.786181Z",
     "iopub.status.busy": "2021-09-25T00:22:48.785339Z",
     "iopub.status.idle": "2021-09-25T00:22:48.807124Z",
     "shell.execute_reply": "2021-09-25T00:22:48.807706Z"
    },
    "papermill": {
     "duration": 0.067558,
     "end_time": "2021-09-25T00:22:48.807863",
     "exception": false,
     "start_time": "2021-09-25T00:22:48.740305",
     "status": "completed"
    },
    "tags": []
   },
   "outputs": [
    {
     "data": {
      "text/html": [
       "<div>\n",
       "<style scoped>\n",
       "    .dataframe tbody tr th:only-of-type {\n",
       "        vertical-align: middle;\n",
       "    }\n",
       "\n",
       "    .dataframe tbody tr th {\n",
       "        vertical-align: top;\n",
       "    }\n",
       "\n",
       "    .dataframe thead th {\n",
       "        text-align: right;\n",
       "    }\n",
       "</style>\n",
       "<table border=\"1\" class=\"dataframe\">\n",
       "  <thead>\n",
       "    <tr style=\"text-align: right;\">\n",
       "      <th></th>\n",
       "      <th>Country/Region</th>\n",
       "      <th>Cases</th>\n",
       "      <th>Deaths</th>\n",
       "      <th>PCases</th>\n",
       "      <th>PDeaths</th>\n",
       "      <th>Cases (+)</th>\n",
       "      <th>Deaths (+)</th>\n",
       "      <th>Fatality Rate</th>\n",
       "      <th>Continent</th>\n",
       "    </tr>\n",
       "  </thead>\n",
       "  <tbody>\n",
       "    <tr>\n",
       "      <th>0</th>\n",
       "      <td>US</td>\n",
       "      <td>42672241</td>\n",
       "      <td>684349</td>\n",
       "      <td>42543510</td>\n",
       "      <td>681192</td>\n",
       "      <td>128731</td>\n",
       "      <td>3157</td>\n",
       "      <td>1.6</td>\n",
       "      <td>North America</td>\n",
       "    </tr>\n",
       "    <tr>\n",
       "      <th>1</th>\n",
       "      <td>India</td>\n",
       "      <td>33594803</td>\n",
       "      <td>446368</td>\n",
       "      <td>33563421</td>\n",
       "      <td>446050</td>\n",
       "      <td>31382</td>\n",
       "      <td>318</td>\n",
       "      <td>1.3</td>\n",
       "      <td>Asia</td>\n",
       "    </tr>\n",
       "    <tr>\n",
       "      <th>2</th>\n",
       "      <td>Brazil</td>\n",
       "      <td>21308178</td>\n",
       "      <td>592964</td>\n",
       "      <td>21283567</td>\n",
       "      <td>592316</td>\n",
       "      <td>24611</td>\n",
       "      <td>648</td>\n",
       "      <td>2.8</td>\n",
       "      <td>South America</td>\n",
       "    </tr>\n",
       "    <tr>\n",
       "      <th>3</th>\n",
       "      <td>United Kingdom</td>\n",
       "      <td>7601598</td>\n",
       "      <td>136156</td>\n",
       "      <td>7565751</td>\n",
       "      <td>135961</td>\n",
       "      <td>35847</td>\n",
       "      <td>195</td>\n",
       "      <td>1.8</td>\n",
       "      <td>Europe</td>\n",
       "    </tr>\n",
       "    <tr>\n",
       "      <th>4</th>\n",
       "      <td>Russia</td>\n",
       "      <td>7248572</td>\n",
       "      <td>197834</td>\n",
       "      <td>7227549</td>\n",
       "      <td>197032</td>\n",
       "      <td>21023</td>\n",
       "      <td>802</td>\n",
       "      <td>2.7</td>\n",
       "      <td>Europe</td>\n",
       "    </tr>\n",
       "  </tbody>\n",
       "</table>\n",
       "</div>"
      ],
      "text/plain": [
       "   Country/Region     Cases  Deaths    PCases  PDeaths  Cases (+)  Deaths (+)  \\\n",
       "0              US  42672241  684349  42543510   681192     128731        3157   \n",
       "1           India  33594803  446368  33563421   446050      31382         318   \n",
       "2          Brazil  21308178  592964  21283567   592316      24611         648   \n",
       "3  United Kingdom   7601598  136156   7565751   135961      35847         195   \n",
       "4          Russia   7248572  197834   7227549   197032      21023         802   \n",
       "\n",
       "   Fatality Rate      Continent  \n",
       "0            1.6  North America  \n",
       "1            1.3           Asia  \n",
       "2            2.8  South America  \n",
       "3            1.8         Europe  \n",
       "4            2.7         Europe  "
      ]
     },
     "execution_count": 15,
     "metadata": {},
     "output_type": "execute_result"
    }
   ],
   "source": [
    "#hide\n",
    "df_table = (pd.DataFrame(dict(Cases=dfc_cases, Deaths=dfc_deaths, PCases=dfp_cases, PDeaths=dfp_deaths))\n",
    "             .sort_values(by=['Cases', 'Deaths'], ascending=[False, False])\n",
    "             .reset_index())\n",
    "df_table.rename(columns={'index': 'Country/Region'}, inplace=True)\n",
    "for c in 'Cases, Deaths'.split(', '):\n",
    "    df_table[f'{c} (+)'] = (df_table[c] - df_table[f'P{c}']).clip(0)  # DATA BUG\n",
    "df_table['Fatality Rate'] = (100 * df_table['Deaths'] / df_table['Cases']).round(1)\n",
    "df_table['Continent'] = df_table['Country/Region'].map(mapping['map.continent'])\n",
    "df_table.head(5)"
   ]
  },
  {
   "cell_type": "code",
   "execution_count": 16,
   "id": "fewer-occasion",
   "metadata": {
    "execution": {
     "iopub.execute_input": "2021-09-25T00:22:48.892006Z",
     "iopub.status.busy": "2021-09-25T00:22:48.891375Z",
     "iopub.status.idle": "2021-09-25T00:22:48.893929Z",
     "shell.execute_reply": "2021-09-25T00:22:48.893326Z"
    },
    "papermill": {
     "duration": 0.048375,
     "end_time": "2021-09-25T00:22:48.894069",
     "exception": false,
     "start_time": "2021-09-25T00:22:48.845694",
     "status": "completed"
    },
    "tags": []
   },
   "outputs": [],
   "source": [
    "#hide\n",
    "#delete problematic countries from table\n",
    "df_table = df_table[~df_table['Country/Region'].isin(['Cape Verde', 'Cruise Ship', 'Kosovo'])]"
   ]
  },
  {
   "cell_type": "code",
   "execution_count": 17,
   "id": "related-center",
   "metadata": {
    "execution": {
     "iopub.execute_input": "2021-09-25T00:22:48.992927Z",
     "iopub.status.busy": "2021-09-25T00:22:48.992233Z",
     "iopub.status.idle": "2021-09-25T00:22:48.995576Z",
     "shell.execute_reply": "2021-09-25T00:22:48.994917Z"
    },
    "papermill": {
     "duration": 0.06263,
     "end_time": "2021-09-25T00:22:48.995717",
     "exception": false,
     "start_time": "2021-09-25T00:22:48.933087",
     "status": "completed"
    },
    "tags": []
   },
   "outputs": [],
   "source": [
    "#hide\n",
    "metrics = [df_table.columns[index] for index in [1,2,5,6]]\n",
    "# s_china = df_table[df_table['Country/Region'].eq('China')][metrics].sum().add_prefix('China ')\n",
    "s_us = df_table[df_table['Country/Region'].eq('US')][metrics].sum().add_prefix('US ')\n",
    "s_eu = df_table[df_table['Continent'].eq('Europe')][metrics].sum().add_prefix('EU ')\n",
    "s_ind = df_table[df_table['Country/Region'].eq('India')][metrics].sum().add_prefix('India ')\n",
    "summary = {'updated': pd.to_datetime(dt_today), 'since': pd.to_datetime(dt_yday)}\n",
    "summary = {'updated': pd.to_datetime(dt_today), 'since': pd.to_datetime(dt_yday)}\n",
    "summary = {**summary, **df_table[metrics].sum(), **s_ind, **s_us, **s_eu}"
   ]
  },
  {
   "cell_type": "code",
   "execution_count": 18,
   "id": "engaging-syndrome",
   "metadata": {
    "execution": {
     "iopub.execute_input": "2021-09-25T00:22:49.082341Z",
     "iopub.status.busy": "2021-09-25T00:22:49.081687Z",
     "iopub.status.idle": "2021-09-25T00:22:49.100555Z",
     "shell.execute_reply": "2021-09-25T00:22:49.099968Z"
    },
    "papermill": {
     "duration": 0.064743,
     "end_time": "2021-09-25T00:22:49.100699",
     "exception": false,
     "start_time": "2021-09-25T00:22:49.035956",
     "status": "completed"
    },
    "tags": []
   },
   "outputs": [],
   "source": [
    "#hide\n",
    "dft_ct_new_cases = dft_cases.groupby(COL_REGION)[dt_cols].sum().diff(axis=1).fillna(0).astype(int)"
   ]
  },
  {
   "cell_type": "code",
   "execution_count": 19,
   "id": "neutral-assignment",
   "metadata": {
    "execution": {
     "iopub.execute_input": "2021-09-25T00:22:49.184930Z",
     "iopub.status.busy": "2021-09-25T00:22:49.184277Z",
     "iopub.status.idle": "2021-09-25T00:22:49.187991Z",
     "shell.execute_reply": "2021-09-25T00:22:49.190185Z"
    },
    "papermill": {
     "duration": 0.050516,
     "end_time": "2021-09-25T00:22:49.190348",
     "exception": false,
     "start_time": "2021-09-25T00:22:49.139832",
     "status": "completed"
    },
    "tags": []
   },
   "outputs": [],
   "source": [
    "#hide\n",
    "everydaycases = dft_ct_new_cases.cumsum(axis=1)"
   ]
  },
  {
   "cell_type": "code",
   "execution_count": 20,
   "id": "parliamentary-calgary",
   "metadata": {
    "execution": {
     "iopub.execute_input": "2021-09-25T00:22:49.272549Z",
     "iopub.status.busy": "2021-09-25T00:22:49.271887Z",
     "iopub.status.idle": "2021-09-25T00:22:49.975044Z",
     "shell.execute_reply": "2021-09-25T00:22:49.974502Z"
    },
    "papermill": {
     "duration": 0.74586,
     "end_time": "2021-09-25T00:22:49.975191",
     "exception": false,
     "start_time": "2021-09-25T00:22:49.229331",
     "status": "completed"
    },
    "tags": []
   },
   "outputs": [],
   "source": [
    "#hide\n",
    "import pandas as pd\n",
    "import matplotlib.pyplot as plt\n",
    "import matplotlib.ticker as ticker\n",
    "import matplotlib.animation as animation\n",
    "from IPython.display import HTML"
   ]
  },
  {
   "cell_type": "code",
   "execution_count": 21,
   "id": "lasting-extraction",
   "metadata": {
    "execution": {
     "iopub.execute_input": "2021-09-25T00:22:50.058919Z",
     "iopub.status.busy": "2021-09-25T00:22:50.058286Z",
     "iopub.status.idle": "2021-09-25T00:22:50.064067Z",
     "shell.execute_reply": "2021-09-25T00:22:50.064636Z"
    },
    "papermill": {
     "duration": 0.050334,
     "end_time": "2021-09-25T00:22:50.064822",
     "exception": false,
     "start_time": "2021-09-25T00:22:50.014488",
     "status": "completed"
    },
    "tags": []
   },
   "outputs": [],
   "source": [
    "#hide\n",
    "t = everydaycases.stack()"
   ]
  },
  {
   "cell_type": "code",
   "execution_count": 22,
   "id": "premier-sleeve",
   "metadata": {
    "execution": {
     "iopub.execute_input": "2021-09-25T00:22:50.151760Z",
     "iopub.status.busy": "2021-09-25T00:22:50.151146Z",
     "iopub.status.idle": "2021-09-25T00:22:50.160857Z",
     "shell.execute_reply": "2021-09-25T00:22:50.160330Z"
    },
    "papermill": {
     "duration": 0.050615,
     "end_time": "2021-09-25T00:22:50.160978",
     "exception": false,
     "start_time": "2021-09-25T00:22:50.110363",
     "status": "completed"
    },
    "tags": []
   },
   "outputs": [],
   "source": [
    "#hide\n",
    "g = t.reset_index(['Country/Region'])"
   ]
  },
  {
   "cell_type": "code",
   "execution_count": 23,
   "id": "distributed-pittsburgh",
   "metadata": {
    "execution": {
     "iopub.execute_input": "2021-09-25T00:22:50.240509Z",
     "iopub.status.busy": "2021-09-25T00:22:50.239858Z",
     "iopub.status.idle": "2021-09-25T00:22:50.242736Z",
     "shell.execute_reply": "2021-09-25T00:22:50.243402Z"
    },
    "papermill": {
     "duration": 0.044607,
     "end_time": "2021-09-25T00:22:50.243538",
     "exception": false,
     "start_time": "2021-09-25T00:22:50.198931",
     "status": "completed"
    },
    "tags": []
   },
   "outputs": [],
   "source": [
    "#hide\n",
    "g.index.name = 'date'"
   ]
  },
  {
   "cell_type": "code",
   "execution_count": 24,
   "id": "naked-donor",
   "metadata": {
    "execution": {
     "iopub.execute_input": "2021-09-25T00:22:50.324741Z",
     "iopub.status.busy": "2021-09-25T00:22:50.323269Z",
     "iopub.status.idle": "2021-09-25T00:22:50.325414Z",
     "shell.execute_reply": "2021-09-25T00:22:50.326024Z"
    },
    "papermill": {
     "duration": 0.044646,
     "end_time": "2021-09-25T00:22:50.326167",
     "exception": false,
     "start_time": "2021-09-25T00:22:50.281521",
     "status": "completed"
    },
    "tags": []
   },
   "outputs": [],
   "source": [
    "# #hide\n",
    "# g = g.reset_index(['date'])"
   ]
  },
  {
   "cell_type": "code",
   "execution_count": 25,
   "id": "incomplete-mustang",
   "metadata": {
    "execution": {
     "iopub.execute_input": "2021-09-25T00:22:50.408046Z",
     "iopub.status.busy": "2021-09-25T00:22:50.406570Z",
     "iopub.status.idle": "2021-09-25T00:22:50.408753Z",
     "shell.execute_reply": "2021-09-25T00:22:50.409276Z"
    },
    "papermill": {
     "duration": 0.044783,
     "end_time": "2021-09-25T00:22:50.409419",
     "exception": false,
     "start_time": "2021-09-25T00:22:50.364636",
     "status": "completed"
    },
    "tags": []
   },
   "outputs": [],
   "source": [
    "#hide\n",
    "# g.head()"
   ]
  },
  {
   "cell_type": "code",
   "execution_count": 26,
   "id": "specific-kruger",
   "metadata": {
    "execution": {
     "iopub.execute_input": "2021-09-25T00:22:50.489934Z",
     "iopub.status.busy": "2021-09-25T00:22:50.488395Z",
     "iopub.status.idle": "2021-09-25T00:22:50.490600Z",
     "shell.execute_reply": "2021-09-25T00:22:50.491069Z"
    },
    "papermill": {
     "duration": 0.044561,
     "end_time": "2021-09-25T00:22:50.491197",
     "exception": false,
     "start_time": "2021-09-25T00:22:50.446636",
     "status": "completed"
    },
    "tags": []
   },
   "outputs": [],
   "source": [
    "#hide\n",
    "# g.columns = ['date','country','cases']"
   ]
  },
  {
   "cell_type": "code",
   "execution_count": 27,
   "id": "tender-conversion",
   "metadata": {
    "execution": {
     "iopub.execute_input": "2021-09-25T00:22:50.572411Z",
     "iopub.status.busy": "2021-09-25T00:22:50.570989Z",
     "iopub.status.idle": "2021-09-25T00:22:50.573154Z",
     "shell.execute_reply": "2021-09-25T00:22:50.573704Z"
    },
    "papermill": {
     "duration": 0.044371,
     "end_time": "2021-09-25T00:22:50.573838",
     "exception": false,
     "start_time": "2021-09-25T00:22:50.529467",
     "status": "completed"
    },
    "tags": []
   },
   "outputs": [],
   "source": [
    "#hide\n",
    "# g['continent'] = g.country"
   ]
  },
  {
   "cell_type": "code",
   "execution_count": 28,
   "id": "substantial-wilderness",
   "metadata": {
    "execution": {
     "iopub.execute_input": "2021-09-25T00:22:50.653978Z",
     "iopub.status.busy": "2021-09-25T00:22:50.652514Z",
     "iopub.status.idle": "2021-09-25T00:22:50.654689Z",
     "shell.execute_reply": "2021-09-25T00:22:50.655235Z"
    },
    "papermill": {
     "duration": 0.04396,
     "end_time": "2021-09-25T00:22:50.655373",
     "exception": false,
     "start_time": "2021-09-25T00:22:50.611413",
     "status": "completed"
    },
    "tags": []
   },
   "outputs": [],
   "source": [
    "#hide\n",
    "# cols = list(g.columns.values)"
   ]
  },
  {
   "cell_type": "code",
   "execution_count": 29,
   "id": "solved-farming",
   "metadata": {
    "execution": {
     "iopub.execute_input": "2021-09-25T00:22:50.735132Z",
     "iopub.status.busy": "2021-09-25T00:22:50.734469Z",
     "iopub.status.idle": "2021-09-25T00:22:50.737094Z",
     "shell.execute_reply": "2021-09-25T00:22:50.736412Z"
    },
    "papermill": {
     "duration": 0.043741,
     "end_time": "2021-09-25T00:22:50.737216",
     "exception": false,
     "start_time": "2021-09-25T00:22:50.693475",
     "status": "completed"
    },
    "tags": []
   },
   "outputs": [],
   "source": [
    "#hide\n",
    "# cols.insert(0, cols.pop())"
   ]
  },
  {
   "cell_type": "code",
   "execution_count": 30,
   "id": "executed-adoption",
   "metadata": {
    "execution": {
     "iopub.execute_input": "2021-09-25T00:22:50.819028Z",
     "iopub.status.busy": "2021-09-25T00:22:50.818361Z",
     "iopub.status.idle": "2021-09-25T00:22:50.820902Z",
     "shell.execute_reply": "2021-09-25T00:22:50.820311Z"
    },
    "papermill": {
     "duration": 0.046973,
     "end_time": "2021-09-25T00:22:50.821026",
     "exception": false,
     "start_time": "2021-09-25T00:22:50.774053",
     "status": "completed"
    },
    "tags": []
   },
   "outputs": [],
   "source": [
    "#hide\n",
    "# g = g[cols]"
   ]
  },
  {
   "cell_type": "code",
   "execution_count": 31,
   "id": "subject-dublin",
   "metadata": {
    "execution": {
     "iopub.execute_input": "2021-09-25T00:22:50.901110Z",
     "iopub.status.busy": "2021-09-25T00:22:50.900426Z",
     "iopub.status.idle": "2021-09-25T00:22:50.903233Z",
     "shell.execute_reply": "2021-09-25T00:22:50.902644Z"
    },
    "papermill": {
     "duration": 0.044466,
     "end_time": "2021-09-25T00:22:50.903371",
     "exception": false,
     "start_time": "2021-09-25T00:22:50.858905",
     "status": "completed"
    },
    "tags": []
   },
   "outputs": [],
   "source": [
    "#hide\n",
    "# g['continent'] = g['continent'].map(mapping['map.continent'])"
   ]
  },
  {
   "cell_type": "code",
   "execution_count": 32,
   "id": "freelance-scout",
   "metadata": {
    "execution": {
     "iopub.execute_input": "2021-09-25T00:22:50.987035Z",
     "iopub.status.busy": "2021-09-25T00:22:50.986352Z",
     "iopub.status.idle": "2021-09-25T00:22:50.988870Z",
     "shell.execute_reply": "2021-09-25T00:22:50.988342Z"
    },
    "papermill": {
     "duration": 0.044774,
     "end_time": "2021-09-25T00:22:50.989102",
     "exception": false,
     "start_time": "2021-09-25T00:22:50.944328",
     "status": "completed"
    },
    "tags": []
   },
   "outputs": [],
   "source": [
    "#hide\n",
    "# g.head()"
   ]
  },
  {
   "cell_type": "code",
   "execution_count": 33,
   "id": "limited-engine",
   "metadata": {
    "execution": {
     "iopub.execute_input": "2021-09-25T00:22:51.082912Z",
     "iopub.status.busy": "2021-09-25T00:22:51.082251Z",
     "iopub.status.idle": "2021-09-25T00:22:51.084709Z",
     "shell.execute_reply": "2021-09-25T00:22:51.084173Z"
    },
    "papermill": {
     "duration": 0.045741,
     "end_time": "2021-09-25T00:22:51.084833",
     "exception": false,
     "start_time": "2021-09-25T00:22:51.039092",
     "status": "completed"
    },
    "tags": []
   },
   "outputs": [],
   "source": [
    "# hide\n",
    "# g['date'] = g['date'].astype('datetime64[ns]')"
   ]
  },
  {
   "cell_type": "code",
   "execution_count": 34,
   "id": "sophisticated-supervisor",
   "metadata": {
    "execution": {
     "iopub.execute_input": "2021-09-25T00:22:51.205338Z",
     "iopub.status.busy": "2021-09-25T00:22:51.204682Z",
     "iopub.status.idle": "2021-09-25T00:22:51.206637Z",
     "shell.execute_reply": "2021-09-25T00:22:51.207267Z"
    },
    "papermill": {
     "duration": 0.046204,
     "end_time": "2021-09-25T00:22:51.207433",
     "exception": false,
     "start_time": "2021-09-25T00:22:51.161229",
     "status": "completed"
    },
    "tags": []
   },
   "outputs": [],
   "source": [
    "#hide\n",
    "# g['date'] = g.date.dt.dayofyear"
   ]
  },
  {
   "cell_type": "code",
   "execution_count": 35,
   "id": "inside-dubai",
   "metadata": {
    "execution": {
     "iopub.execute_input": "2021-09-25T00:22:51.289359Z",
     "iopub.status.busy": "2021-09-25T00:22:51.288691Z",
     "iopub.status.idle": "2021-09-25T00:22:51.290794Z",
     "shell.execute_reply": "2021-09-25T00:22:51.291404Z"
    },
    "papermill": {
     "duration": 0.045062,
     "end_time": "2021-09-25T00:22:51.291550",
     "exception": false,
     "start_time": "2021-09-25T00:22:51.246488",
     "status": "completed"
    },
    "tags": []
   },
   "outputs": [],
   "source": [
    "#hide\n",
    "# g = g.rename(columns= {'continent':'group','country':'name','cases':'value'})"
   ]
  },
  {
   "cell_type": "code",
   "execution_count": 36,
   "id": "fleet-motorcycle",
   "metadata": {
    "execution": {
     "iopub.execute_input": "2021-09-25T00:22:51.374391Z",
     "iopub.status.busy": "2021-09-25T00:22:51.372853Z",
     "iopub.status.idle": "2021-09-25T00:22:51.375102Z",
     "shell.execute_reply": "2021-09-25T00:22:51.375632Z"
    },
    "papermill": {
     "duration": 0.045467,
     "end_time": "2021-09-25T00:22:51.375999",
     "exception": false,
     "start_time": "2021-09-25T00:22:51.330532",
     "status": "completed"
    },
    "tags": []
   },
   "outputs": [],
   "source": [
    "#hide\n",
    "# cols = ['name','group','day','value']"
   ]
  },
  {
   "cell_type": "code",
   "execution_count": 37,
   "id": "continued-sleeping",
   "metadata": {
    "execution": {
     "iopub.execute_input": "2021-09-25T00:22:51.464578Z",
     "iopub.status.busy": "2021-09-25T00:22:51.463030Z",
     "iopub.status.idle": "2021-09-25T00:22:51.465304Z",
     "shell.execute_reply": "2021-09-25T00:22:51.465875Z"
    },
    "papermill": {
     "duration": 0.045826,
     "end_time": "2021-09-25T00:22:51.466038",
     "exception": false,
     "start_time": "2021-09-25T00:22:51.420212",
     "status": "completed"
    },
    "tags": []
   },
   "outputs": [],
   "source": [
    "#hide\n",
    "# g.rename(columns= {'date':'day'},inplace = True)"
   ]
  },
  {
   "cell_type": "code",
   "execution_count": 38,
   "id": "major-fight",
   "metadata": {
    "execution": {
     "iopub.execute_input": "2021-09-25T00:22:51.548456Z",
     "iopub.status.busy": "2021-09-25T00:22:51.547806Z",
     "iopub.status.idle": "2021-09-25T00:22:51.549793Z",
     "shell.execute_reply": "2021-09-25T00:22:51.550356Z"
    },
    "papermill": {
     "duration": 0.045022,
     "end_time": "2021-09-25T00:22:51.550502",
     "exception": false,
     "start_time": "2021-09-25T00:22:51.505480",
     "status": "completed"
    },
    "tags": []
   },
   "outputs": [],
   "source": [
    "#hide\n",
    "# g = g[cols]"
   ]
  },
  {
   "cell_type": "code",
   "execution_count": 39,
   "id": "structured-mobile",
   "metadata": {
    "execution": {
     "iopub.execute_input": "2021-09-25T00:22:51.631666Z",
     "iopub.status.busy": "2021-09-25T00:22:51.631016Z",
     "iopub.status.idle": "2021-09-25T00:22:51.633814Z",
     "shell.execute_reply": "2021-09-25T00:22:51.634475Z"
    },
    "papermill": {
     "duration": 0.045601,
     "end_time": "2021-09-25T00:22:51.634613",
     "exception": false,
     "start_time": "2021-09-25T00:22:51.589012",
     "status": "completed"
    },
    "tags": []
   },
   "outputs": [],
   "source": [
    "# #hide\n",
    "# g = g[g.group.notna()]"
   ]
  },
  {
   "cell_type": "code",
   "execution_count": 40,
   "id": "determined-closing",
   "metadata": {
    "execution": {
     "iopub.execute_input": "2021-09-25T00:22:51.717237Z",
     "iopub.status.busy": "2021-09-25T00:22:51.716566Z",
     "iopub.status.idle": "2021-09-25T00:22:51.719007Z",
     "shell.execute_reply": "2021-09-25T00:22:51.718431Z"
    },
    "papermill": {
     "duration": 0.046352,
     "end_time": "2021-09-25T00:22:51.719151",
     "exception": false,
     "start_time": "2021-09-25T00:22:51.672799",
     "status": "completed"
    },
    "tags": []
   },
   "outputs": [],
   "source": [
    "# #hide\n",
    "# colors = dict(zip(\n",
    "#     [\"Oceania\", \"Europe\", \"Asia\", \"South America\", \"Middle East\", \"North America\", \"Africa\"],\n",
    "#     [\"#adb0ff\", \"#ffb3ff\", \"#90d595\", \"#e48381\", \"#aafbff\", \"#f7bb5f\", \"#eafb50\"]\n",
    "# ))\n",
    "# group_lk = g.set_index('name')['group'].to_dict()"
   ]
  },
  {
   "cell_type": "code",
   "execution_count": null,
   "id": "gross-drinking",
   "metadata": {
    "papermill": {
     "duration": 0.038577,
     "end_time": "2021-09-25T00:22:51.796943",
     "exception": false,
     "start_time": "2021-09-25T00:22:51.758366",
     "status": "completed"
    },
    "tags": []
   },
   "outputs": [],
   "source": []
  },
  {
   "cell_type": "code",
   "execution_count": 41,
   "id": "subject-macintosh",
   "metadata": {
    "execution": {
     "iopub.execute_input": "2021-09-25T00:22:51.879259Z",
     "iopub.status.busy": "2021-09-25T00:22:51.878588Z",
     "iopub.status.idle": "2021-09-25T00:22:51.880411Z",
     "shell.execute_reply": "2021-09-25T00:22:51.880998Z"
    },
    "papermill": {
     "duration": 0.046009,
     "end_time": "2021-09-25T00:22:51.881167",
     "exception": false,
     "start_time": "2021-09-25T00:22:51.835158",
     "status": "completed"
    },
    "tags": []
   },
   "outputs": [],
   "source": [
    "# #hide\n",
    "# fig, ax = plt.subplots(figsize=(15, 8))\n",
    "\n",
    "# def draw_barchart(current_day):\n",
    "#     dff = g[g['day'].eq(current_day)].sort_values(by='value', ascending=True).tail(10)\n",
    "#     ax.clear()\n",
    "#     ax.barh(dff['name'], dff['value'], color=[colors[group_lk[x]] for x in dff['name']])\n",
    "#     dx = dff['value'].max() / 200\n",
    "    \n",
    "#     for i, (value, name) in enumerate(zip(dff['value'], dff['name'])):\n",
    "#         ax.text(value-dx, i,     name,           size=14, weight=600, ha='right', va='bottom')\n",
    "#         ax.text(value-dx, i-.25, group_lk[name], size=10, color='#444444', ha='right', va='baseline')\n",
    "#         ax.text(value+dx, i,     f'{value:,.0f}',  size=14, ha='left',  va='center')\n",
    "#     ax.text(1, 0.4, current_day, transform=ax.transAxes, color='#777777', size=46, ha='right', weight=800)\n",
    "#     ax.text(0, 1.06, 'Population (thousands)', transform=ax.transAxes, size=12, color='#777777')\n",
    "#     ax.xaxis.set_major_formatter(ticker.StrMethodFormatter('{x:,.0f}'))\n",
    "#     ax.xaxis.set_ticks_position('top')\n",
    "#     ax.tick_params(axis='x', colors='#777777', labelsize=12)\n",
    "#     ax.set_yticks([])\n",
    "#     ax.margins(0, 0.01)\n",
    "#     ax.grid(which='major', axis='x', linestyle='-')\n",
    "#     ax.set_axisbelow(True)\n",
    "    \n",
    "#     ax.text(0, 1.15, 'Coronavirus',\n",
    "#             transform=ax.transAxes, size=24, weight=600, ha='left', va='top')\n",
    "# #     ax.text(1, 0, 'by @pratapvardhan; credit @jburnmurdoch', transform=ax.transAxes, color='#777777', ha='right',\n",
    "# #             bbox=dict(facecolor='white', alpha=0.8, edgecolor='white'))\n",
    "#     plt.box(False)"
   ]
  },
  {
   "cell_type": "code",
   "execution_count": 42,
   "id": "sexual-wages",
   "metadata": {
    "execution": {
     "iopub.execute_input": "2021-09-25T00:22:51.964193Z",
     "iopub.status.busy": "2021-09-25T00:22:51.963535Z",
     "iopub.status.idle": "2021-09-25T00:22:51.966117Z",
     "shell.execute_reply": "2021-09-25T00:22:51.965524Z"
    },
    "papermill": {
     "duration": 0.04567,
     "end_time": "2021-09-25T00:22:51.966251",
     "exception": false,
     "start_time": "2021-09-25T00:22:51.920581",
     "status": "completed"
    },
    "tags": []
   },
   "outputs": [],
   "source": [
    "# #hide_input\n",
    "# fig, ax = plt.subplots(figsize=(15, 8))\n",
    "# animator = animation.FuncAnimation(fig, draw_barchart, frames=range(g.day.values.min(), g.day.values.max()))\n",
    "# HTML(animator.to_jshtml())\n",
    "# # or use animator.to_html5_video() or animator.save() "
   ]
  },
  {
   "cell_type": "code",
   "execution_count": null,
   "id": "australian-container",
   "metadata": {
    "papermill": {
     "duration": 0.039423,
     "end_time": "2021-09-25T00:22:52.044379",
     "exception": false,
     "start_time": "2021-09-25T00:22:52.004956",
     "status": "completed"
    },
    "tags": []
   },
   "outputs": [],
   "source": []
  },
  {
   "cell_type": "code",
   "execution_count": null,
   "id": "mediterranean-pontiac",
   "metadata": {
    "papermill": {
     "duration": 0.038472,
     "end_time": "2021-09-25T00:22:52.122197",
     "exception": false,
     "start_time": "2021-09-25T00:22:52.083725",
     "status": "completed"
    },
    "tags": []
   },
   "outputs": [],
   "source": []
  },
  {
   "cell_type": "code",
   "execution_count": null,
   "id": "aging-legislature",
   "metadata": {
    "papermill": {
     "duration": 0.03989,
     "end_time": "2021-09-25T00:22:52.203793",
     "exception": false,
     "start_time": "2021-09-25T00:22:52.163903",
     "status": "completed"
    },
    "tags": []
   },
   "outputs": [],
   "source": []
  }
 ],
 "metadata": {
  "kernelspec": {
   "display_name": "Python 3",
   "language": "python",
   "name": "python3"
  },
  "language_info": {
   "codemirror_mode": {
    "name": "ipython",
    "version": 3
   },
   "file_extension": ".py",
   "mimetype": "text/x-python",
   "name": "python",
   "nbconvert_exporter": "python",
   "pygments_lexer": "ipython3",
   "version": "3.6.15"
  },
  "papermill": {
   "duration": 7.120056,
   "end_time": "2021-09-25T00:22:52.553403",
   "environment_variables": {},
   "exception": null,
   "input_path": "2020-03-21-covid19exp.ipynb",
   "output_path": "2020-03-21-covid19exp.ipynb",
   "parameters": {},
   "start_time": "2021-09-25T00:22:45.433347",
   "version": "2.0.0"
  }
 },
 "nbformat": 4,
 "nbformat_minor": 5
}