{
 "cells": [
  {
   "cell_type": "markdown",
   "id": "muslim-click",
   "metadata": {
    "papermill": {
     "duration": 0.050411,
     "end_time": "2021-08-27T00:23:36.621737",
     "exception": false,
     "start_time": "2021-08-27T00:23:36.571326",
     "status": "completed"
    },
    "tags": []
   },
   "source": [
    "# COVID-19 Case Race\n",
    "> A race chart to see rising cases around the world\n",
    "\n",
    "- author: Hargun Oberoi\n",
    "- image: images/covid-overview.png\n",
    "- hide: false\n",
    "- badges: false"
   ]
  },
  {
   "cell_type": "code",
   "execution_count": 1,
   "id": "proof-material",
   "metadata": {
    "execution": {
     "iopub.execute_input": "2021-08-27T00:23:36.721230Z",
     "iopub.status.busy": "2021-08-27T00:23:36.720524Z",
     "iopub.status.idle": "2021-08-27T00:23:37.166888Z",
     "shell.execute_reply": "2021-08-27T00:23:37.167424Z"
    },
    "papermill": {
     "duration": 0.501026,
     "end_time": "2021-08-27T00:23:37.167627",
     "exception": false,
     "start_time": "2021-08-27T00:23:36.666601",
     "status": "completed"
    },
    "tags": []
   },
   "outputs": [],
   "source": [
    "#hide\n",
    "import numpy as np\n",
    "import pandas as pd\n",
    "from jinja2 import Template\n",
    "from IPython.display import HTML"
   ]
  },
  {
   "cell_type": "code",
   "execution_count": 2,
   "id": "developed-terminology",
   "metadata": {
    "execution": {
     "iopub.execute_input": "2021-08-27T00:23:37.258460Z",
     "iopub.status.busy": "2021-08-27T00:23:37.257765Z",
     "iopub.status.idle": "2021-08-27T00:23:37.260229Z",
     "shell.execute_reply": "2021-08-27T00:23:37.259601Z"
    },
    "papermill": {
     "duration": 0.051472,
     "end_time": "2021-08-27T00:23:37.260372",
     "exception": false,
     "start_time": "2021-08-27T00:23:37.208900",
     "status": "completed"
    },
    "tags": []
   },
   "outputs": [],
   "source": [
    "#hide\n",
    "\n",
    "# FETCH\n",
    "base_url = 'https://raw.githubusercontent.com/pratapvardhan/notebooks/master/covid19/'\n",
    "paths = {\n",
    "    'mapping': base_url + 'mapping_countries.csv',\n",
    "    'overview': base_url + 'overview.tpl'\n",
    "}"
   ]
  },
  {
   "cell_type": "code",
   "execution_count": 3,
   "id": "dynamic-saver",
   "metadata": {
    "execution": {
     "iopub.execute_input": "2021-08-27T00:23:37.358324Z",
     "iopub.status.busy": "2021-08-27T00:23:37.357612Z",
     "iopub.status.idle": "2021-08-27T00:23:37.360116Z",
     "shell.execute_reply": "2021-08-27T00:23:37.360766Z"
    },
    "papermill": {
     "duration": 0.059682,
     "end_time": "2021-08-27T00:23:37.360981",
     "exception": false,
     "start_time": "2021-08-27T00:23:37.301299",
     "status": "completed"
    },
    "tags": []
   },
   "outputs": [
    {
     "data": {
      "text/plain": [
       "'https://raw.githubusercontent.com/pratapvardhan/notebooks/master/covid19/mapping_countries.csv'"
      ]
     },
     "execution_count": 3,
     "metadata": {},
     "output_type": "execute_result"
    }
   ],
   "source": [
    "#hide\n",
    "paths['mapping']"
   ]
  },
  {
   "cell_type": "code",
   "execution_count": 4,
   "id": "urban-software",
   "metadata": {
    "execution": {
     "iopub.execute_input": "2021-08-27T00:23:37.452022Z",
     "iopub.status.busy": "2021-08-27T00:23:37.451240Z",
     "iopub.status.idle": "2021-08-27T00:23:37.454383Z",
     "shell.execute_reply": "2021-08-27T00:23:37.453730Z"
    },
    "papermill": {
     "duration": 0.050392,
     "end_time": "2021-08-27T00:23:37.454530",
     "exception": false,
     "start_time": "2021-08-27T00:23:37.404138",
     "status": "completed"
    },
    "tags": []
   },
   "outputs": [],
   "source": [
    "#hide\n",
    "def get_mappings(url):\n",
    "    df = pd.read_csv(url)\n",
    "    return {\n",
    "        'df': df,\n",
    "        'replace.country': dict(df.dropna(subset=['Name']).set_index('Country')['Name']),\n",
    "        'map.continent': dict(df.set_index('Name')['Continent'])\n",
    "    }"
   ]
  },
  {
   "cell_type": "code",
   "execution_count": 5,
   "id": "intimate-machinery",
   "metadata": {
    "execution": {
     "iopub.execute_input": "2021-08-27T00:23:37.546515Z",
     "iopub.status.busy": "2021-08-27T00:23:37.545821Z",
     "iopub.status.idle": "2021-08-27T00:23:37.580167Z",
     "shell.execute_reply": "2021-08-27T00:23:37.579458Z"
    },
    "papermill": {
     "duration": 0.082962,
     "end_time": "2021-08-27T00:23:37.580321",
     "exception": false,
     "start_time": "2021-08-27T00:23:37.497359",
     "status": "completed"
    },
    "tags": []
   },
   "outputs": [],
   "source": [
    "#hide\n",
    "mapping = get_mappings(paths['mapping'])"
   ]
  },
  {
   "cell_type": "code",
   "execution_count": 6,
   "id": "certified-tactics",
   "metadata": {
    "execution": {
     "iopub.execute_input": "2021-08-27T00:23:37.667899Z",
     "iopub.status.busy": "2021-08-27T00:23:37.667186Z",
     "iopub.status.idle": "2021-08-27T00:23:37.669970Z",
     "shell.execute_reply": "2021-08-27T00:23:37.669233Z"
    },
    "papermill": {
     "duration": 0.04864,
     "end_time": "2021-08-27T00:23:37.670200",
     "exception": false,
     "start_time": "2021-08-27T00:23:37.621560",
     "status": "completed"
    },
    "tags": []
   },
   "outputs": [],
   "source": [
    "#hide\n",
    "def get_template(path):\n",
    "    from urllib.parse import urlparse\n",
    "    if bool(urlparse(path).netloc):\n",
    "        from urllib.request import urlopen\n",
    "        return urlopen(path).read().decode('utf8')\n",
    "    return open(path).read()"
   ]
  },
  {
   "cell_type": "code",
   "execution_count": 7,
   "id": "realistic-blast",
   "metadata": {
    "execution": {
     "iopub.execute_input": "2021-08-27T00:23:37.760633Z",
     "iopub.status.busy": "2021-08-27T00:23:37.759799Z",
     "iopub.status.idle": "2021-08-27T00:23:37.762636Z",
     "shell.execute_reply": "2021-08-27T00:23:37.762061Z"
    },
    "papermill": {
     "duration": 0.050063,
     "end_time": "2021-08-27T00:23:37.762773",
     "exception": false,
     "start_time": "2021-08-27T00:23:37.712710",
     "status": "completed"
    },
    "tags": []
   },
   "outputs": [],
   "source": [
    "#hide\n",
    "def get_frame(name):\n",
    "    url = (\n",
    "        'https://raw.githubusercontent.com/CSSEGISandData/COVID-19/master/csse_covid_19_data/'\n",
    "        f'csse_covid_19_time_series/time_series_covid19_{name}_global.csv')\n",
    "    df = pd.read_csv(url)\n",
    "    # rename countries\n",
    "    df['Country/Region'] = df['Country/Region'].replace(mapping['replace.country'])\n",
    "    return df"
   ]
  },
  {
   "cell_type": "code",
   "execution_count": 8,
   "id": "affiliated-characterization",
   "metadata": {
    "execution": {
     "iopub.execute_input": "2021-08-27T00:23:37.850722Z",
     "iopub.status.busy": "2021-08-27T00:23:37.850040Z",
     "iopub.status.idle": "2021-08-27T00:23:37.852502Z",
     "shell.execute_reply": "2021-08-27T00:23:37.851817Z"
    },
    "papermill": {
     "duration": 0.048357,
     "end_time": "2021-08-27T00:23:37.852643",
     "exception": false,
     "start_time": "2021-08-27T00:23:37.804286",
     "status": "completed"
    },
    "tags": []
   },
   "outputs": [],
   "source": [
    "#hide\n",
    "def get_dates(df):\n",
    "    dt_cols = df.columns[~df.columns.isin(['Province/State', 'Country/Region', 'Lat', 'Long'])]\n",
    "    LAST_DATE_I = -1\n",
    "    # sometimes last column may be empty, then go backwards\n",
    "    for i in range(-1, -len(dt_cols), -1):\n",
    "        if not df[dt_cols[i]].fillna(0).eq(0).all():\n",
    "            LAST_DATE_I = i\n",
    "            break\n",
    "    return LAST_DATE_I, dt_cols"
   ]
  },
  {
   "cell_type": "code",
   "execution_count": 9,
   "id": "recent-optimization",
   "metadata": {
    "execution": {
     "iopub.execute_input": "2021-08-27T00:23:37.941588Z",
     "iopub.status.busy": "2021-08-27T00:23:37.940728Z",
     "iopub.status.idle": "2021-08-27T00:23:38.317109Z",
     "shell.execute_reply": "2021-08-27T00:23:38.316436Z"
    },
    "papermill": {
     "duration": 0.423067,
     "end_time": "2021-08-27T00:23:38.317267",
     "exception": false,
     "start_time": "2021-08-27T00:23:37.894200",
     "status": "completed"
    },
    "tags": []
   },
   "outputs": [],
   "source": [
    "#hide\n",
    "COL_REGION = 'Country/Region'\n",
    "# Confirmed, Recovered, Deaths\n",
    "df = get_frame('confirmed')\n",
    "# dft_: timeseries, dfc_: today country agg\n",
    "dft_cases = df\n",
    "dft_deaths = get_frame('deaths')\n",
    "dft_recovered = get_frame('recovered')\n",
    "LAST_DATE_I, dt_cols = get_dates(df)"
   ]
  },
  {
   "cell_type": "code",
   "execution_count": 10,
   "id": "absolute-copper",
   "metadata": {
    "execution": {
     "iopub.execute_input": "2021-08-27T00:23:38.410058Z",
     "iopub.status.busy": "2021-08-27T00:23:38.408511Z",
     "iopub.status.idle": "2021-08-27T00:23:38.410786Z",
     "shell.execute_reply": "2021-08-27T00:23:38.411433Z"
    },
    "papermill": {
     "duration": 0.052231,
     "end_time": "2021-08-27T00:23:38.411797",
     "exception": false,
     "start_time": "2021-08-27T00:23:38.359566",
     "status": "completed"
    },
    "tags": []
   },
   "outputs": [],
   "source": [
    "#hide\n",
    "LAST_DATE_I, dt_cols = get_dates(df)\n",
    "dt_today =dt_cols[LAST_DATE_I]\n",
    "# dt_5day = dt_cols[LAST_DATE_I - 5]\n",
    "dt_yday = dt_cols[LAST_DATE_I - 1]"
   ]
  },
  {
   "cell_type": "code",
   "execution_count": 11,
   "id": "restricted-sheriff",
   "metadata": {
    "execution": {
     "iopub.execute_input": "2021-08-27T00:23:38.506531Z",
     "iopub.status.busy": "2021-08-27T00:23:38.504133Z",
     "iopub.status.idle": "2021-08-27T00:23:38.514837Z",
     "shell.execute_reply": "2021-08-27T00:23:38.514147Z"
    },
    "papermill": {
     "duration": 0.060976,
     "end_time": "2021-08-27T00:23:38.514998",
     "exception": false,
     "start_time": "2021-08-27T00:23:38.454022",
     "status": "completed"
    },
    "tags": []
   },
   "outputs": [],
   "source": [
    "#hide\n",
    "dfc_cases = dft_cases.groupby(COL_REGION)[dt_today].sum()\n",
    "dfc_deaths = dft_deaths.groupby(COL_REGION)[dt_today].sum()\n",
    "# dfp_cases = dft_cases.groupby(COL_REGION)[dt_5day].sum()\n",
    "# dfp_deaths = dft_deaths.groupby(COL_REGION)[dt_5day].sum()\n",
    "dfp_cases = dft_cases.groupby(COL_REGION)[dt_yday].sum()\n",
    "dfp_deaths = dft_deaths.groupby(COL_REGION)[dt_yday].sum()"
   ]
  },
  {
   "cell_type": "code",
   "execution_count": 12,
   "id": "deluxe-hepatitis",
   "metadata": {
    "execution": {
     "iopub.execute_input": "2021-08-27T00:23:38.610085Z",
     "iopub.status.busy": "2021-08-27T00:23:38.609401Z",
     "iopub.status.idle": "2021-08-27T00:23:38.614982Z",
     "shell.execute_reply": "2021-08-27T00:23:38.614259Z"
    },
    "papermill": {
     "duration": 0.055919,
     "end_time": "2021-08-27T00:23:38.615124",
     "exception": false,
     "start_time": "2021-08-27T00:23:38.559205",
     "status": "completed"
    },
    "tags": []
   },
   "outputs": [],
   "source": [
    "#hide\n",
    "df_table = (pd.DataFrame(dict(Cases = dfc_cases, Deaths = dfc_deaths, PCases = dfp_cases, PDeaths = dfp_deaths))\n",
    "            .sort_values(by = ['Cases','Deaths'], ascending = [False, False])\n",
    "            .reset_index())"
   ]
  },
  {
   "cell_type": "code",
   "execution_count": 13,
   "id": "educational-chancellor",
   "metadata": {
    "execution": {
     "iopub.execute_input": "2021-08-27T00:23:38.719663Z",
     "iopub.status.busy": "2021-08-27T00:23:38.718959Z",
     "iopub.status.idle": "2021-08-27T00:23:38.728891Z",
     "shell.execute_reply": "2021-08-27T00:23:38.728170Z"
    },
    "papermill": {
     "duration": 0.073461,
     "end_time": "2021-08-27T00:23:38.729053",
     "exception": false,
     "start_time": "2021-08-27T00:23:38.655592",
     "status": "completed"
    },
    "tags": []
   },
   "outputs": [
    {
     "data": {
      "text/html": [
       "<div>\n",
       "<style scoped>\n",
       "    .dataframe tbody tr th:only-of-type {\n",
       "        vertical-align: middle;\n",
       "    }\n",
       "\n",
       "    .dataframe tbody tr th {\n",
       "        vertical-align: top;\n",
       "    }\n",
       "\n",
       "    .dataframe thead th {\n",
       "        text-align: right;\n",
       "    }\n",
       "</style>\n",
       "<table border=\"1\" class=\"dataframe\">\n",
       "  <thead>\n",
       "    <tr style=\"text-align: right;\">\n",
       "      <th></th>\n",
       "      <th>Country/Region</th>\n",
       "      <th>Cases</th>\n",
       "      <th>Deaths</th>\n",
       "      <th>PCases</th>\n",
       "      <th>PDeaths</th>\n",
       "      <th>Cases (+)</th>\n",
       "      <th>Deaths (+)</th>\n",
       "      <th>Fatality Rate</th>\n",
       "      <th>Continent</th>\n",
       "    </tr>\n",
       "  </thead>\n",
       "  <tbody>\n",
       "    <tr>\n",
       "      <th>0</th>\n",
       "      <td>US</td>\n",
       "      <td>38223029</td>\n",
       "      <td>632272</td>\n",
       "      <td>38074886</td>\n",
       "      <td>630816</td>\n",
       "      <td>148143</td>\n",
       "      <td>1456</td>\n",
       "      <td>1.65</td>\n",
       "      <td>North America</td>\n",
       "    </tr>\n",
       "    <tr>\n",
       "      <th>1</th>\n",
       "      <td>India</td>\n",
       "      <td>32558530</td>\n",
       "      <td>436365</td>\n",
       "      <td>32512366</td>\n",
       "      <td>435758</td>\n",
       "      <td>46164</td>\n",
       "      <td>607</td>\n",
       "      <td>1.34</td>\n",
       "      <td>Asia</td>\n",
       "    </tr>\n",
       "    <tr>\n",
       "      <th>2</th>\n",
       "      <td>Brazil</td>\n",
       "      <td>20645537</td>\n",
       "      <td>576645</td>\n",
       "      <td>20614866</td>\n",
       "      <td>575742</td>\n",
       "      <td>30671</td>\n",
       "      <td>903</td>\n",
       "      <td>2.79</td>\n",
       "      <td>South America</td>\n",
       "    </tr>\n",
       "    <tr>\n",
       "      <th>3</th>\n",
       "      <td>France</td>\n",
       "      <td>6757783</td>\n",
       "      <td>114144</td>\n",
       "      <td>6734077</td>\n",
       "      <td>114026</td>\n",
       "      <td>23706</td>\n",
       "      <td>118</td>\n",
       "      <td>1.69</td>\n",
       "      <td>Europe</td>\n",
       "    </tr>\n",
       "    <tr>\n",
       "      <th>4</th>\n",
       "      <td>Russia</td>\n",
       "      <td>6709605</td>\n",
       "      <td>175328</td>\n",
       "      <td>6690633</td>\n",
       "      <td>174542</td>\n",
       "      <td>18972</td>\n",
       "      <td>786</td>\n",
       "      <td>2.61</td>\n",
       "      <td>Europe</td>\n",
       "    </tr>\n",
       "  </tbody>\n",
       "</table>\n",
       "</div>"
      ],
      "text/plain": [
       "  Country/Region     Cases  Deaths    PCases  PDeaths  Cases (+)  Deaths (+)  \\\n",
       "0             US  38223029  632272  38074886   630816     148143        1456   \n",
       "1          India  32558530  436365  32512366   435758      46164         607   \n",
       "2         Brazil  20645537  576645  20614866   575742      30671         903   \n",
       "3         France   6757783  114144   6734077   114026      23706         118   \n",
       "4         Russia   6709605  175328   6690633   174542      18972         786   \n",
       "\n",
       "   Fatality Rate      Continent  \n",
       "0           1.65  North America  \n",
       "1           1.34           Asia  \n",
       "2           2.79  South America  \n",
       "3           1.69         Europe  \n",
       "4           2.61         Europe  "
      ]
     },
     "execution_count": 13,
     "metadata": {},
     "output_type": "execute_result"
    }
   ],
   "source": [
    "#hide\n",
    "for c in 'Cases, Deaths'.split(', '):\n",
    "    df_table[f'{c} (+)'] = (df_table[c] - df_table[f'P{c}']).clip(0)\n",
    "    #Clip ça veut dire, les chiffres negatif sont interdit\n",
    "df_table['Fatality Rate'] = (100* df_table['Deaths']/ df_table['Cases']).round(2)\n",
    "df_table['Continent'] = df_table['Country/Region'].map(mapping['map.continent'])\n",
    "df_table.head(5)"
   ]
  },
  {
   "cell_type": "code",
   "execution_count": 14,
   "id": "aboriginal-bulgaria",
   "metadata": {
    "execution": {
     "iopub.execute_input": "2021-08-27T00:23:38.823414Z",
     "iopub.status.busy": "2021-08-27T00:23:38.822727Z",
     "iopub.status.idle": "2021-08-27T00:23:38.826481Z",
     "shell.execute_reply": "2021-08-27T00:23:38.827147Z"
    },
    "papermill": {
     "duration": 0.055313,
     "end_time": "2021-08-27T00:23:38.827316",
     "exception": false,
     "start_time": "2021-08-27T00:23:38.772003",
     "status": "completed"
    },
    "tags": []
   },
   "outputs": [],
   "source": [
    "#hide\n",
    "#delete problematic countries from table\n",
    "df_table = df_table[~df_table['Country/Region'].isin(['Cape Verde', 'Cruise Ship', 'Kosovo'])]"
   ]
  },
  {
   "cell_type": "code",
   "execution_count": 15,
   "id": "fantastic-effect",
   "metadata": {
    "execution": {
     "iopub.execute_input": "2021-08-27T00:23:38.922327Z",
     "iopub.status.busy": "2021-08-27T00:23:38.921641Z",
     "iopub.status.idle": "2021-08-27T00:23:38.946132Z",
     "shell.execute_reply": "2021-08-27T00:23:38.946764Z"
    },
    "papermill": {
     "duration": 0.076885,
     "end_time": "2021-08-27T00:23:38.946932",
     "exception": false,
     "start_time": "2021-08-27T00:23:38.870047",
     "status": "completed"
    },
    "tags": []
   },
   "outputs": [
    {
     "data": {
      "text/html": [
       "<div>\n",
       "<style scoped>\n",
       "    .dataframe tbody tr th:only-of-type {\n",
       "        vertical-align: middle;\n",
       "    }\n",
       "\n",
       "    .dataframe tbody tr th {\n",
       "        vertical-align: top;\n",
       "    }\n",
       "\n",
       "    .dataframe thead th {\n",
       "        text-align: right;\n",
       "    }\n",
       "</style>\n",
       "<table border=\"1\" class=\"dataframe\">\n",
       "  <thead>\n",
       "    <tr style=\"text-align: right;\">\n",
       "      <th></th>\n",
       "      <th>Country/Region</th>\n",
       "      <th>Cases</th>\n",
       "      <th>Deaths</th>\n",
       "      <th>PCases</th>\n",
       "      <th>PDeaths</th>\n",
       "      <th>Cases (+)</th>\n",
       "      <th>Deaths (+)</th>\n",
       "      <th>Fatality Rate</th>\n",
       "      <th>Continent</th>\n",
       "    </tr>\n",
       "  </thead>\n",
       "  <tbody>\n",
       "    <tr>\n",
       "      <th>0</th>\n",
       "      <td>US</td>\n",
       "      <td>38223029</td>\n",
       "      <td>632272</td>\n",
       "      <td>38074886</td>\n",
       "      <td>630816</td>\n",
       "      <td>148143</td>\n",
       "      <td>1456</td>\n",
       "      <td>1.7</td>\n",
       "      <td>North America</td>\n",
       "    </tr>\n",
       "    <tr>\n",
       "      <th>1</th>\n",
       "      <td>India</td>\n",
       "      <td>32558530</td>\n",
       "      <td>436365</td>\n",
       "      <td>32512366</td>\n",
       "      <td>435758</td>\n",
       "      <td>46164</td>\n",
       "      <td>607</td>\n",
       "      <td>1.3</td>\n",
       "      <td>Asia</td>\n",
       "    </tr>\n",
       "    <tr>\n",
       "      <th>2</th>\n",
       "      <td>Brazil</td>\n",
       "      <td>20645537</td>\n",
       "      <td>576645</td>\n",
       "      <td>20614866</td>\n",
       "      <td>575742</td>\n",
       "      <td>30671</td>\n",
       "      <td>903</td>\n",
       "      <td>2.8</td>\n",
       "      <td>South America</td>\n",
       "    </tr>\n",
       "    <tr>\n",
       "      <th>3</th>\n",
       "      <td>France</td>\n",
       "      <td>6757783</td>\n",
       "      <td>114144</td>\n",
       "      <td>6734077</td>\n",
       "      <td>114026</td>\n",
       "      <td>23706</td>\n",
       "      <td>118</td>\n",
       "      <td>1.7</td>\n",
       "      <td>Europe</td>\n",
       "    </tr>\n",
       "    <tr>\n",
       "      <th>4</th>\n",
       "      <td>Russia</td>\n",
       "      <td>6709605</td>\n",
       "      <td>175328</td>\n",
       "      <td>6690633</td>\n",
       "      <td>174542</td>\n",
       "      <td>18972</td>\n",
       "      <td>786</td>\n",
       "      <td>2.6</td>\n",
       "      <td>Europe</td>\n",
       "    </tr>\n",
       "  </tbody>\n",
       "</table>\n",
       "</div>"
      ],
      "text/plain": [
       "  Country/Region     Cases  Deaths    PCases  PDeaths  Cases (+)  Deaths (+)  \\\n",
       "0             US  38223029  632272  38074886   630816     148143        1456   \n",
       "1          India  32558530  436365  32512366   435758      46164         607   \n",
       "2         Brazil  20645537  576645  20614866   575742      30671         903   \n",
       "3         France   6757783  114144   6734077   114026      23706         118   \n",
       "4         Russia   6709605  175328   6690633   174542      18972         786   \n",
       "\n",
       "   Fatality Rate      Continent  \n",
       "0            1.7  North America  \n",
       "1            1.3           Asia  \n",
       "2            2.8  South America  \n",
       "3            1.7         Europe  \n",
       "4            2.6         Europe  "
      ]
     },
     "execution_count": 15,
     "metadata": {},
     "output_type": "execute_result"
    }
   ],
   "source": [
    "#hide\n",
    "df_table = (pd.DataFrame(dict(Cases=dfc_cases, Deaths=dfc_deaths, PCases=dfp_cases, PDeaths=dfp_deaths))\n",
    "             .sort_values(by=['Cases', 'Deaths'], ascending=[False, False])\n",
    "             .reset_index())\n",
    "df_table.rename(columns={'index': 'Country/Region'}, inplace=True)\n",
    "for c in 'Cases, Deaths'.split(', '):\n",
    "    df_table[f'{c} (+)'] = (df_table[c] - df_table[f'P{c}']).clip(0)  # DATA BUG\n",
    "df_table['Fatality Rate'] = (100 * df_table['Deaths'] / df_table['Cases']).round(1)\n",
    "df_table['Continent'] = df_table['Country/Region'].map(mapping['map.continent'])\n",
    "df_table.head(5)"
   ]
  },
  {
   "cell_type": "code",
   "execution_count": 16,
   "id": "fewer-occasion",
   "metadata": {
    "execution": {
     "iopub.execute_input": "2021-08-27T00:23:39.040065Z",
     "iopub.status.busy": "2021-08-27T00:23:39.039153Z",
     "iopub.status.idle": "2021-08-27T00:23:39.042570Z",
     "shell.execute_reply": "2021-08-27T00:23:39.042000Z"
    },
    "papermill": {
     "duration": 0.052352,
     "end_time": "2021-08-27T00:23:39.042711",
     "exception": false,
     "start_time": "2021-08-27T00:23:38.990359",
     "status": "completed"
    },
    "tags": []
   },
   "outputs": [],
   "source": [
    "#hide\n",
    "#delete problematic countries from table\n",
    "df_table = df_table[~df_table['Country/Region'].isin(['Cape Verde', 'Cruise Ship', 'Kosovo'])]"
   ]
  },
  {
   "cell_type": "code",
   "execution_count": 17,
   "id": "related-center",
   "metadata": {
    "execution": {
     "iopub.execute_input": "2021-08-27T00:23:39.143443Z",
     "iopub.status.busy": "2021-08-27T00:23:39.142739Z",
     "iopub.status.idle": "2021-08-27T00:23:39.156358Z",
     "shell.execute_reply": "2021-08-27T00:23:39.156921Z"
    },
    "papermill": {
     "duration": 0.072426,
     "end_time": "2021-08-27T00:23:39.157088",
     "exception": false,
     "start_time": "2021-08-27T00:23:39.084662",
     "status": "completed"
    },
    "tags": []
   },
   "outputs": [],
   "source": [
    "#hide\n",
    "metrics = [df_table.columns[index] for index in [1,2,5,6]]\n",
    "# s_china = df_table[df_table['Country/Region'].eq('China')][metrics].sum().add_prefix('China ')\n",
    "s_us = df_table[df_table['Country/Region'].eq('US')][metrics].sum().add_prefix('US ')\n",
    "s_eu = df_table[df_table['Continent'].eq('Europe')][metrics].sum().add_prefix('EU ')\n",
    "s_ind = df_table[df_table['Country/Region'].eq('India')][metrics].sum().add_prefix('India ')\n",
    "summary = {'updated': pd.to_datetime(dt_today), 'since': pd.to_datetime(dt_yday)}\n",
    "summary = {'updated': pd.to_datetime(dt_today), 'since': pd.to_datetime(dt_yday)}\n",
    "summary = {**summary, **df_table[metrics].sum(), **s_ind, **s_us, **s_eu}"
   ]
  },
  {
   "cell_type": "code",
   "execution_count": 18,
   "id": "engaging-syndrome",
   "metadata": {
    "execution": {
     "iopub.execute_input": "2021-08-27T00:23:39.251090Z",
     "iopub.status.busy": "2021-08-27T00:23:39.250146Z",
     "iopub.status.idle": "2021-08-27T00:23:39.266623Z",
     "shell.execute_reply": "2021-08-27T00:23:39.266052Z"
    },
    "papermill": {
     "duration": 0.066336,
     "end_time": "2021-08-27T00:23:39.266771",
     "exception": false,
     "start_time": "2021-08-27T00:23:39.200435",
     "status": "completed"
    },
    "tags": []
   },
   "outputs": [],
   "source": [
    "#hide\n",
    "dft_ct_new_cases = dft_cases.groupby(COL_REGION)[dt_cols].sum().diff(axis=1).fillna(0).astype(int)"
   ]
  },
  {
   "cell_type": "code",
   "execution_count": 19,
   "id": "neutral-assignment",
   "metadata": {
    "execution": {
     "iopub.execute_input": "2021-08-27T00:23:39.374513Z",
     "iopub.status.busy": "2021-08-27T00:23:39.373649Z",
     "iopub.status.idle": "2021-08-27T00:23:39.376849Z",
     "shell.execute_reply": "2021-08-27T00:23:39.376162Z"
    },
    "papermill": {
     "duration": 0.053975,
     "end_time": "2021-08-27T00:23:39.376994",
     "exception": false,
     "start_time": "2021-08-27T00:23:39.323019",
     "status": "completed"
    },
    "tags": []
   },
   "outputs": [],
   "source": [
    "#hide\n",
    "everydaycases = dft_ct_new_cases.cumsum(axis=1)"
   ]
  },
  {
   "cell_type": "code",
   "execution_count": 20,
   "id": "parliamentary-calgary",
   "metadata": {
    "execution": {
     "iopub.execute_input": "2021-08-27T00:23:39.468394Z",
     "iopub.status.busy": "2021-08-27T00:23:39.467607Z",
     "iopub.status.idle": "2021-08-27T00:23:40.174607Z",
     "shell.execute_reply": "2021-08-27T00:23:40.173473Z"
    },
    "papermill": {
     "duration": 0.755122,
     "end_time": "2021-08-27T00:23:40.174795",
     "exception": false,
     "start_time": "2021-08-27T00:23:39.419673",
     "status": "completed"
    },
    "tags": []
   },
   "outputs": [],
   "source": [
    "#hide\n",
    "import pandas as pd\n",
    "import matplotlib.pyplot as plt\n",
    "import matplotlib.ticker as ticker\n",
    "import matplotlib.animation as animation\n",
    "from IPython.display import HTML"
   ]
  },
  {
   "cell_type": "code",
   "execution_count": 21,
   "id": "lasting-extraction",
   "metadata": {
    "execution": {
     "iopub.execute_input": "2021-08-27T00:23:40.267128Z",
     "iopub.status.busy": "2021-08-27T00:23:40.266370Z",
     "iopub.status.idle": "2021-08-27T00:23:40.273082Z",
     "shell.execute_reply": "2021-08-27T00:23:40.272467Z"
    },
    "papermill": {
     "duration": 0.054118,
     "end_time": "2021-08-27T00:23:40.273227",
     "exception": false,
     "start_time": "2021-08-27T00:23:40.219109",
     "status": "completed"
    },
    "tags": []
   },
   "outputs": [],
   "source": [
    "#hide\n",
    "t = everydaycases.stack()"
   ]
  },
  {
   "cell_type": "code",
   "execution_count": 22,
   "id": "premier-sleeve",
   "metadata": {
    "execution": {
     "iopub.execute_input": "2021-08-27T00:23:40.366121Z",
     "iopub.status.busy": "2021-08-27T00:23:40.365417Z",
     "iopub.status.idle": "2021-08-27T00:23:40.375741Z",
     "shell.execute_reply": "2021-08-27T00:23:40.376444Z"
    },
    "papermill": {
     "duration": 0.058658,
     "end_time": "2021-08-27T00:23:40.376624",
     "exception": false,
     "start_time": "2021-08-27T00:23:40.317966",
     "status": "completed"
    },
    "tags": []
   },
   "outputs": [],
   "source": [
    "#hide\n",
    "g = t.reset_index(['Country/Region'])"
   ]
  },
  {
   "cell_type": "code",
   "execution_count": 23,
   "id": "distributed-pittsburgh",
   "metadata": {
    "execution": {
     "iopub.execute_input": "2021-08-27T00:23:40.468638Z",
     "iopub.status.busy": "2021-08-27T00:23:40.467983Z",
     "iopub.status.idle": "2021-08-27T00:23:40.469863Z",
     "shell.execute_reply": "2021-08-27T00:23:40.470616Z"
    },
    "papermill": {
     "duration": 0.050852,
     "end_time": "2021-08-27T00:23:40.470820",
     "exception": false,
     "start_time": "2021-08-27T00:23:40.419968",
     "status": "completed"
    },
    "tags": []
   },
   "outputs": [],
   "source": [
    "#hide\n",
    "g.index.name = 'date'"
   ]
  },
  {
   "cell_type": "code",
   "execution_count": 24,
   "id": "naked-donor",
   "metadata": {
    "execution": {
     "iopub.execute_input": "2021-08-27T00:23:40.563223Z",
     "iopub.status.busy": "2021-08-27T00:23:40.562544Z",
     "iopub.status.idle": "2021-08-27T00:23:40.565207Z",
     "shell.execute_reply": "2021-08-27T00:23:40.565789Z"
    },
    "papermill": {
     "duration": 0.051248,
     "end_time": "2021-08-27T00:23:40.565928",
     "exception": false,
     "start_time": "2021-08-27T00:23:40.514680",
     "status": "completed"
    },
    "tags": []
   },
   "outputs": [],
   "source": [
    "# #hide\n",
    "# g = g.reset_index(['date'])"
   ]
  },
  {
   "cell_type": "code",
   "execution_count": 25,
   "id": "incomplete-mustang",
   "metadata": {
    "execution": {
     "iopub.execute_input": "2021-08-27T00:23:40.654983Z",
     "iopub.status.busy": "2021-08-27T00:23:40.654279Z",
     "iopub.status.idle": "2021-08-27T00:23:40.656227Z",
     "shell.execute_reply": "2021-08-27T00:23:40.656864Z"
    },
    "papermill": {
     "duration": 0.049765,
     "end_time": "2021-08-27T00:23:40.657021",
     "exception": false,
     "start_time": "2021-08-27T00:23:40.607256",
     "status": "completed"
    },
    "tags": []
   },
   "outputs": [],
   "source": [
    "#hide\n",
    "# g.head()"
   ]
  },
  {
   "cell_type": "code",
   "execution_count": 26,
   "id": "specific-kruger",
   "metadata": {
    "execution": {
     "iopub.execute_input": "2021-08-27T00:23:40.745183Z",
     "iopub.status.busy": "2021-08-27T00:23:40.744471Z",
     "iopub.status.idle": "2021-08-27T00:23:40.747249Z",
     "shell.execute_reply": "2021-08-27T00:23:40.746664Z"
    },
    "papermill": {
     "duration": 0.048846,
     "end_time": "2021-08-27T00:23:40.747374",
     "exception": false,
     "start_time": "2021-08-27T00:23:40.698528",
     "status": "completed"
    },
    "tags": []
   },
   "outputs": [],
   "source": [
    "#hide\n",
    "# g.columns = ['date','country','cases']"
   ]
  },
  {
   "cell_type": "code",
   "execution_count": 27,
   "id": "tender-conversion",
   "metadata": {
    "execution": {
     "iopub.execute_input": "2021-08-27T00:23:40.837875Z",
     "iopub.status.busy": "2021-08-27T00:23:40.837030Z",
     "iopub.status.idle": "2021-08-27T00:23:40.839545Z",
     "shell.execute_reply": "2021-08-27T00:23:40.838895Z"
    },
    "papermill": {
     "duration": 0.048453,
     "end_time": "2021-08-27T00:23:40.839679",
     "exception": false,
     "start_time": "2021-08-27T00:23:40.791226",
     "status": "completed"
    },
    "tags": []
   },
   "outputs": [],
   "source": [
    "#hide\n",
    "# g['continent'] = g.country"
   ]
  },
  {
   "cell_type": "code",
   "execution_count": 28,
   "id": "substantial-wilderness",
   "metadata": {
    "execution": {
     "iopub.execute_input": "2021-08-27T00:23:40.934087Z",
     "iopub.status.busy": "2021-08-27T00:23:40.933387Z",
     "iopub.status.idle": "2021-08-27T00:23:40.935893Z",
     "shell.execute_reply": "2021-08-27T00:23:40.935307Z"
    },
    "papermill": {
     "duration": 0.050388,
     "end_time": "2021-08-27T00:23:40.936038",
     "exception": false,
     "start_time": "2021-08-27T00:23:40.885650",
     "status": "completed"
    },
    "tags": []
   },
   "outputs": [],
   "source": [
    "#hide\n",
    "# cols = list(g.columns.values)"
   ]
  },
  {
   "cell_type": "code",
   "execution_count": 29,
   "id": "solved-farming",
   "metadata": {
    "execution": {
     "iopub.execute_input": "2021-08-27T00:23:41.025190Z",
     "iopub.status.busy": "2021-08-27T00:23:41.024308Z",
     "iopub.status.idle": "2021-08-27T00:23:41.026997Z",
     "shell.execute_reply": "2021-08-27T00:23:41.027521Z"
    },
    "papermill": {
     "duration": 0.051008,
     "end_time": "2021-08-27T00:23:41.027675",
     "exception": false,
     "start_time": "2021-08-27T00:23:40.976667",
     "status": "completed"
    },
    "tags": []
   },
   "outputs": [],
   "source": [
    "#hide\n",
    "# cols.insert(0, cols.pop())"
   ]
  },
  {
   "cell_type": "code",
   "execution_count": 30,
   "id": "executed-adoption",
   "metadata": {
    "execution": {
     "iopub.execute_input": "2021-08-27T00:23:41.120120Z",
     "iopub.status.busy": "2021-08-27T00:23:41.119366Z",
     "iopub.status.idle": "2021-08-27T00:23:41.122078Z",
     "shell.execute_reply": "2021-08-27T00:23:41.121493Z"
    },
    "papermill": {
     "duration": 0.05001,
     "end_time": "2021-08-27T00:23:41.122223",
     "exception": false,
     "start_time": "2021-08-27T00:23:41.072213",
     "status": "completed"
    },
    "tags": []
   },
   "outputs": [],
   "source": [
    "#hide\n",
    "# g = g[cols]"
   ]
  },
  {
   "cell_type": "code",
   "execution_count": 31,
   "id": "subject-dublin",
   "metadata": {
    "execution": {
     "iopub.execute_input": "2021-08-27T00:23:41.213448Z",
     "iopub.status.busy": "2021-08-27T00:23:41.212714Z",
     "iopub.status.idle": "2021-08-27T00:23:41.214190Z",
     "shell.execute_reply": "2021-08-27T00:23:41.214728Z"
    },
    "papermill": {
     "duration": 0.048597,
     "end_time": "2021-08-27T00:23:41.214899",
     "exception": false,
     "start_time": "2021-08-27T00:23:41.166302",
     "status": "completed"
    },
    "tags": []
   },
   "outputs": [],
   "source": [
    "#hide\n",
    "# g['continent'] = g['continent'].map(mapping['map.continent'])"
   ]
  },
  {
   "cell_type": "code",
   "execution_count": 32,
   "id": "freelance-scout",
   "metadata": {
    "execution": {
     "iopub.execute_input": "2021-08-27T00:23:41.302242Z",
     "iopub.status.busy": "2021-08-27T00:23:41.301520Z",
     "iopub.status.idle": "2021-08-27T00:23:41.304800Z",
     "shell.execute_reply": "2021-08-27T00:23:41.303734Z"
    },
    "papermill": {
     "duration": 0.048574,
     "end_time": "2021-08-27T00:23:41.304950",
     "exception": false,
     "start_time": "2021-08-27T00:23:41.256376",
     "status": "completed"
    },
    "tags": []
   },
   "outputs": [],
   "source": [
    "#hide\n",
    "# g.head()"
   ]
  },
  {
   "cell_type": "code",
   "execution_count": 33,
   "id": "limited-engine",
   "metadata": {
    "execution": {
     "iopub.execute_input": "2021-08-27T00:23:41.396333Z",
     "iopub.status.busy": "2021-08-27T00:23:41.395626Z",
     "iopub.status.idle": "2021-08-27T00:23:41.397667Z",
     "shell.execute_reply": "2021-08-27T00:23:41.398193Z"
    },
    "papermill": {
     "duration": 0.048569,
     "end_time": "2021-08-27T00:23:41.398345",
     "exception": false,
     "start_time": "2021-08-27T00:23:41.349776",
     "status": "completed"
    },
    "tags": []
   },
   "outputs": [],
   "source": [
    "# hide\n",
    "# g['date'] = g['date'].astype('datetime64[ns]')"
   ]
  },
  {
   "cell_type": "code",
   "execution_count": 34,
   "id": "sophisticated-supervisor",
   "metadata": {
    "execution": {
     "iopub.execute_input": "2021-08-27T00:23:41.489650Z",
     "iopub.status.busy": "2021-08-27T00:23:41.488584Z",
     "iopub.status.idle": "2021-08-27T00:23:41.490481Z",
     "shell.execute_reply": "2021-08-27T00:23:41.491084Z"
    },
    "papermill": {
     "duration": 0.049514,
     "end_time": "2021-08-27T00:23:41.491233",
     "exception": false,
     "start_time": "2021-08-27T00:23:41.441719",
     "status": "completed"
    },
    "tags": []
   },
   "outputs": [],
   "source": [
    "#hide\n",
    "# g['date'] = g.date.dt.dayofyear"
   ]
  },
  {
   "cell_type": "code",
   "execution_count": 35,
   "id": "inside-dubai",
   "metadata": {
    "execution": {
     "iopub.execute_input": "2021-08-27T00:23:41.585394Z",
     "iopub.status.busy": "2021-08-27T00:23:41.584703Z",
     "iopub.status.idle": "2021-08-27T00:23:41.587895Z",
     "shell.execute_reply": "2021-08-27T00:23:41.587241Z"
    },
    "papermill": {
     "duration": 0.052734,
     "end_time": "2021-08-27T00:23:41.588040",
     "exception": false,
     "start_time": "2021-08-27T00:23:41.535306",
     "status": "completed"
    },
    "tags": []
   },
   "outputs": [],
   "source": [
    "#hide\n",
    "# g = g.rename(columns= {'continent':'group','country':'name','cases':'value'})"
   ]
  },
  {
   "cell_type": "code",
   "execution_count": 36,
   "id": "fleet-motorcycle",
   "metadata": {
    "execution": {
     "iopub.execute_input": "2021-08-27T00:23:41.676364Z",
     "iopub.status.busy": "2021-08-27T00:23:41.675606Z",
     "iopub.status.idle": "2021-08-27T00:23:41.677904Z",
     "shell.execute_reply": "2021-08-27T00:23:41.678474Z"
    },
    "papermill": {
     "duration": 0.048365,
     "end_time": "2021-08-27T00:23:41.678646",
     "exception": false,
     "start_time": "2021-08-27T00:23:41.630281",
     "status": "completed"
    },
    "tags": []
   },
   "outputs": [],
   "source": [
    "#hide\n",
    "# cols = ['name','group','day','value']"
   ]
  },
  {
   "cell_type": "code",
   "execution_count": 37,
   "id": "continued-sleeping",
   "metadata": {
    "execution": {
     "iopub.execute_input": "2021-08-27T00:23:41.769830Z",
     "iopub.status.busy": "2021-08-27T00:23:41.769152Z",
     "iopub.status.idle": "2021-08-27T00:23:41.771666Z",
     "shell.execute_reply": "2021-08-27T00:23:41.771014Z"
    },
    "papermill": {
     "duration": 0.049462,
     "end_time": "2021-08-27T00:23:41.771803",
     "exception": false,
     "start_time": "2021-08-27T00:23:41.722341",
     "status": "completed"
    },
    "tags": []
   },
   "outputs": [],
   "source": [
    "#hide\n",
    "# g.rename(columns= {'date':'day'},inplace = True)"
   ]
  },
  {
   "cell_type": "code",
   "execution_count": 38,
   "id": "major-fight",
   "metadata": {
    "execution": {
     "iopub.execute_input": "2021-08-27T00:23:41.862141Z",
     "iopub.status.busy": "2021-08-27T00:23:41.861396Z",
     "iopub.status.idle": "2021-08-27T00:23:41.864153Z",
     "shell.execute_reply": "2021-08-27T00:23:41.863368Z"
    },
    "papermill": {
     "duration": 0.049515,
     "end_time": "2021-08-27T00:23:41.864356",
     "exception": false,
     "start_time": "2021-08-27T00:23:41.814841",
     "status": "completed"
    },
    "tags": []
   },
   "outputs": [],
   "source": [
    "#hide\n",
    "# g = g[cols]"
   ]
  },
  {
   "cell_type": "code",
   "execution_count": 39,
   "id": "structured-mobile",
   "metadata": {
    "execution": {
     "iopub.execute_input": "2021-08-27T00:23:41.951178Z",
     "iopub.status.busy": "2021-08-27T00:23:41.950413Z",
     "iopub.status.idle": "2021-08-27T00:23:41.954801Z",
     "shell.execute_reply": "2021-08-27T00:23:41.955514Z"
    },
    "papermill": {
     "duration": 0.049322,
     "end_time": "2021-08-27T00:23:41.955664",
     "exception": false,
     "start_time": "2021-08-27T00:23:41.906342",
     "status": "completed"
    },
    "tags": []
   },
   "outputs": [],
   "source": [
    "# #hide\n",
    "# g = g[g.group.notna()]"
   ]
  },
  {
   "cell_type": "code",
   "execution_count": 40,
   "id": "determined-closing",
   "metadata": {
    "execution": {
     "iopub.execute_input": "2021-08-27T00:23:42.047267Z",
     "iopub.status.busy": "2021-08-27T00:23:42.046570Z",
     "iopub.status.idle": "2021-08-27T00:23:42.049139Z",
     "shell.execute_reply": "2021-08-27T00:23:42.048551Z"
    },
    "papermill": {
     "duration": 0.048999,
     "end_time": "2021-08-27T00:23:42.049282",
     "exception": false,
     "start_time": "2021-08-27T00:23:42.000283",
     "status": "completed"
    },
    "tags": []
   },
   "outputs": [],
   "source": [
    "# #hide\n",
    "# colors = dict(zip(\n",
    "#     [\"Oceania\", \"Europe\", \"Asia\", \"South America\", \"Middle East\", \"North America\", \"Africa\"],\n",
    "#     [\"#adb0ff\", \"#ffb3ff\", \"#90d595\", \"#e48381\", \"#aafbff\", \"#f7bb5f\", \"#eafb50\"]\n",
    "# ))\n",
    "# group_lk = g.set_index('name')['group'].to_dict()"
   ]
  },
  {
   "cell_type": "code",
   "execution_count": null,
   "id": "gross-drinking",
   "metadata": {
    "papermill": {
     "duration": 0.04244,
     "end_time": "2021-08-27T00:23:42.134065",
     "exception": false,
     "start_time": "2021-08-27T00:23:42.091625",
     "status": "completed"
    },
    "tags": []
   },
   "outputs": [],
   "source": []
  },
  {
   "cell_type": "code",
   "execution_count": 41,
   "id": "subject-macintosh",
   "metadata": {
    "execution": {
     "iopub.execute_input": "2021-08-27T00:23:42.225321Z",
     "iopub.status.busy": "2021-08-27T00:23:42.224622Z",
     "iopub.status.idle": "2021-08-27T00:23:42.227569Z",
     "shell.execute_reply": "2021-08-27T00:23:42.226983Z"
    },
    "papermill": {
     "duration": 0.049868,
     "end_time": "2021-08-27T00:23:42.227737",
     "exception": false,
     "start_time": "2021-08-27T00:23:42.177869",
     "status": "completed"
    },
    "tags": []
   },
   "outputs": [],
   "source": [
    "# #hide\n",
    "# fig, ax = plt.subplots(figsize=(15, 8))\n",
    "\n",
    "# def draw_barchart(current_day):\n",
    "#     dff = g[g['day'].eq(current_day)].sort_values(by='value', ascending=True).tail(10)\n",
    "#     ax.clear()\n",
    "#     ax.barh(dff['name'], dff['value'], color=[colors[group_lk[x]] for x in dff['name']])\n",
    "#     dx = dff['value'].max() / 200\n",
    "    \n",
    "#     for i, (value, name) in enumerate(zip(dff['value'], dff['name'])):\n",
    "#         ax.text(value-dx, i,     name,           size=14, weight=600, ha='right', va='bottom')\n",
    "#         ax.text(value-dx, i-.25, group_lk[name], size=10, color='#444444', ha='right', va='baseline')\n",
    "#         ax.text(value+dx, i,     f'{value:,.0f}',  size=14, ha='left',  va='center')\n",
    "#     ax.text(1, 0.4, current_day, transform=ax.transAxes, color='#777777', size=46, ha='right', weight=800)\n",
    "#     ax.text(0, 1.06, 'Population (thousands)', transform=ax.transAxes, size=12, color='#777777')\n",
    "#     ax.xaxis.set_major_formatter(ticker.StrMethodFormatter('{x:,.0f}'))\n",
    "#     ax.xaxis.set_ticks_position('top')\n",
    "#     ax.tick_params(axis='x', colors='#777777', labelsize=12)\n",
    "#     ax.set_yticks([])\n",
    "#     ax.margins(0, 0.01)\n",
    "#     ax.grid(which='major', axis='x', linestyle='-')\n",
    "#     ax.set_axisbelow(True)\n",
    "    \n",
    "#     ax.text(0, 1.15, 'Coronavirus',\n",
    "#             transform=ax.transAxes, size=24, weight=600, ha='left', va='top')\n",
    "# #     ax.text(1, 0, 'by @pratapvardhan; credit @jburnmurdoch', transform=ax.transAxes, color='#777777', ha='right',\n",
    "# #             bbox=dict(facecolor='white', alpha=0.8, edgecolor='white'))\n",
    "#     plt.box(False)"
   ]
  },
  {
   "cell_type": "code",
   "execution_count": 42,
   "id": "sexual-wages",
   "metadata": {
    "execution": {
     "iopub.execute_input": "2021-08-27T00:23:42.320097Z",
     "iopub.status.busy": "2021-08-27T00:23:42.319350Z",
     "iopub.status.idle": "2021-08-27T00:23:42.321020Z",
     "shell.execute_reply": "2021-08-27T00:23:42.321685Z"
    },
    "papermill": {
     "duration": 0.049129,
     "end_time": "2021-08-27T00:23:42.321857",
     "exception": false,
     "start_time": "2021-08-27T00:23:42.272728",
     "status": "completed"
    },
    "tags": []
   },
   "outputs": [],
   "source": [
    "# #hide_input\n",
    "# fig, ax = plt.subplots(figsize=(15, 8))\n",
    "# animator = animation.FuncAnimation(fig, draw_barchart, frames=range(g.day.values.min(), g.day.values.max()))\n",
    "# HTML(animator.to_jshtml())\n",
    "# # or use animator.to_html5_video() or animator.save() "
   ]
  },
  {
   "cell_type": "code",
   "execution_count": null,
   "id": "australian-container",
   "metadata": {
    "papermill": {
     "duration": 0.043137,
     "end_time": "2021-08-27T00:23:42.409485",
     "exception": false,
     "start_time": "2021-08-27T00:23:42.366348",
     "status": "completed"
    },
    "tags": []
   },
   "outputs": [],
   "source": []
  },
  {
   "cell_type": "code",
   "execution_count": null,
   "id": "mediterranean-pontiac",
   "metadata": {
    "papermill": {
     "duration": 0.042756,
     "end_time": "2021-08-27T00:23:42.496136",
     "exception": false,
     "start_time": "2021-08-27T00:23:42.453380",
     "status": "completed"
    },
    "tags": []
   },
   "outputs": [],
   "source": []
  },
  {
   "cell_type": "code",
   "execution_count": null,
   "id": "aging-legislature",
   "metadata": {
    "papermill": {
     "duration": 0.042927,
     "end_time": "2021-08-27T00:23:42.582967",
     "exception": false,
     "start_time": "2021-08-27T00:23:42.540040",
     "status": "completed"
    },
    "tags": []
   },
   "outputs": [],
   "source": []
  }
 ],
 "metadata": {
  "kernelspec": {
   "display_name": "Python 3",
   "language": "python",
   "name": "python3"
  },
  "language_info": {
   "codemirror_mode": {
    "name": "ipython",
    "version": 3
   },
   "file_extension": ".py",
   "mimetype": "text/x-python",
   "name": "python",
   "nbconvert_exporter": "python",
   "pygments_lexer": "ipython3",
   "version": "3.6.14"
  },
  "papermill": {
   "duration": 7.872381,
   "end_time": "2021-08-27T00:23:43.033357",
   "environment_variables": {},
   "exception": null,
   "input_path": "2020-03-21-covid19exp.ipynb",
   "output_path": "2020-03-21-covid19exp.ipynb",
   "parameters": {},
   "start_time": "2021-08-27T00:23:35.160976",
   "version": "2.0.0"
  }
 },
 "nbformat": 4,
 "nbformat_minor": 5
}