{
 "cells": [
  {
   "cell_type": "markdown",
   "id": "muslim-click",
   "metadata": {
    "papermill": {
     "duration": 0.035118,
     "end_time": "2022-07-20T12:17:32.026354",
     "exception": false,
     "start_time": "2022-07-20T12:17:31.991236",
     "status": "completed"
    },
    "tags": []
   },
   "source": [
    "# COVID-19 Case Race\n",
    "> A race chart to see rising cases around the world\n",
    "\n",
    "- author: Hargun Oberoi\n",
    "- image: images/covid-overview.png\n",
    "- hide: false\n",
    "- badges: false"
   ]
  },
  {
   "cell_type": "code",
   "execution_count": 1,
   "id": "proof-material",
   "metadata": {
    "execution": {
     "iopub.execute_input": "2022-07-20T12:17:32.094711Z",
     "iopub.status.busy": "2022-07-20T12:17:32.093350Z",
     "iopub.status.idle": "2022-07-20T12:17:32.401247Z",
     "shell.execute_reply": "2022-07-20T12:17:32.400265Z"
    },
    "papermill": {
     "duration": 0.344755,
     "end_time": "2022-07-20T12:17:32.401386",
     "exception": false,
     "start_time": "2022-07-20T12:17:32.056631",
     "status": "completed"
    },
    "tags": []
   },
   "outputs": [],
   "source": [
    "#hide\n",
    "import numpy as np\n",
    "import pandas as pd\n",
    "from jinja2 import Template\n",
    "from IPython.display import HTML"
   ]
  },
  {
   "cell_type": "code",
   "execution_count": 2,
   "id": "developed-terminology",
   "metadata": {
    "execution": {
     "iopub.execute_input": "2022-07-20T12:17:32.467751Z",
     "iopub.status.busy": "2022-07-20T12:17:32.467183Z",
     "iopub.status.idle": "2022-07-20T12:17:32.469637Z",
     "shell.execute_reply": "2022-07-20T12:17:32.469171Z"
    },
    "papermill": {
     "duration": 0.035783,
     "end_time": "2022-07-20T12:17:32.469737",
     "exception": false,
     "start_time": "2022-07-20T12:17:32.433954",
     "status": "completed"
    },
    "tags": []
   },
   "outputs": [],
   "source": [
    "#hide\n",
    "\n",
    "# FETCH\n",
    "base_url = 'https://raw.githubusercontent.com/pratapvardhan/notebooks/master/covid19/'\n",
    "paths = {\n",
    "    'mapping': base_url + 'mapping_countries.csv',\n",
    "    'overview': base_url + 'overview.tpl'\n",
    "}"
   ]
  },
  {
   "cell_type": "code",
   "execution_count": 3,
   "id": "dynamic-saver",
   "metadata": {
    "execution": {
     "iopub.execute_input": "2022-07-20T12:17:32.537885Z",
     "iopub.status.busy": "2022-07-20T12:17:32.537286Z",
     "iopub.status.idle": "2022-07-20T12:17:32.540349Z",
     "shell.execute_reply": "2022-07-20T12:17:32.540777Z"
    },
    "papermill": {
     "duration": 0.041115,
     "end_time": "2022-07-20T12:17:32.540888",
     "exception": false,
     "start_time": "2022-07-20T12:17:32.499773",
     "status": "completed"
    },
    "tags": []
   },
   "outputs": [
    {
     "data": {
      "text/plain": [
       "'https://raw.githubusercontent.com/pratapvardhan/notebooks/master/covid19/mapping_countries.csv'"
      ]
     },
     "execution_count": 3,
     "metadata": {},
     "output_type": "execute_result"
    }
   ],
   "source": [
    "#hide\n",
    "paths['mapping']"
   ]
  },
  {
   "cell_type": "code",
   "execution_count": 4,
   "id": "urban-software",
   "metadata": {
    "execution": {
     "iopub.execute_input": "2022-07-20T12:17:32.605282Z",
     "iopub.status.busy": "2022-07-20T12:17:32.604702Z",
     "iopub.status.idle": "2022-07-20T12:17:32.607294Z",
     "shell.execute_reply": "2022-07-20T12:17:32.606843Z"
    },
    "papermill": {
     "duration": 0.036523,
     "end_time": "2022-07-20T12:17:32.607388",
     "exception": false,
     "start_time": "2022-07-20T12:17:32.570865",
     "status": "completed"
    },
    "tags": []
   },
   "outputs": [],
   "source": [
    "#hide\n",
    "def get_mappings(url):\n",
    "    df = pd.read_csv(url)\n",
    "    return {\n",
    "        'df': df,\n",
    "        'replace.country': dict(df.dropna(subset=['Name']).set_index('Country')['Name']),\n",
    "        'map.continent': dict(df.set_index('Name')['Continent'])\n",
    "    }"
   ]
  },
  {
   "cell_type": "code",
   "execution_count": 5,
   "id": "intimate-machinery",
   "metadata": {
    "execution": {
     "iopub.execute_input": "2022-07-20T12:17:32.671490Z",
     "iopub.status.busy": "2022-07-20T12:17:32.670931Z",
     "iopub.status.idle": "2022-07-20T12:17:32.711332Z",
     "shell.execute_reply": "2022-07-20T12:17:32.711788Z"
    },
    "papermill": {
     "duration": 0.074803,
     "end_time": "2022-07-20T12:17:32.711902",
     "exception": false,
     "start_time": "2022-07-20T12:17:32.637099",
     "status": "completed"
    },
    "tags": []
   },
   "outputs": [],
   "source": [
    "#hide\n",
    "mapping = get_mappings(paths['mapping'])"
   ]
  },
  {
   "cell_type": "code",
   "execution_count": 6,
   "id": "certified-tactics",
   "metadata": {
    "execution": {
     "iopub.execute_input": "2022-07-20T12:17:32.776152Z",
     "iopub.status.busy": "2022-07-20T12:17:32.775584Z",
     "iopub.status.idle": "2022-07-20T12:17:32.778119Z",
     "shell.execute_reply": "2022-07-20T12:17:32.777640Z"
    },
    "papermill": {
     "duration": 0.036389,
     "end_time": "2022-07-20T12:17:32.778215",
     "exception": false,
     "start_time": "2022-07-20T12:17:32.741826",
     "status": "completed"
    },
    "tags": []
   },
   "outputs": [],
   "source": [
    "#hide\n",
    "def get_template(path):\n",
    "    from urllib.parse import urlparse\n",
    "    if bool(urlparse(path).netloc):\n",
    "        from urllib.request import urlopen\n",
    "        return urlopen(path).read().decode('utf8')\n",
    "    return open(path).read()"
   ]
  },
  {
   "cell_type": "code",
   "execution_count": 7,
   "id": "realistic-blast",
   "metadata": {
    "execution": {
     "iopub.execute_input": "2022-07-20T12:17:32.842263Z",
     "iopub.status.busy": "2022-07-20T12:17:32.841659Z",
     "iopub.status.idle": "2022-07-20T12:17:32.843610Z",
     "shell.execute_reply": "2022-07-20T12:17:32.844047Z"
    },
    "papermill": {
     "duration": 0.036081,
     "end_time": "2022-07-20T12:17:32.844152",
     "exception": false,
     "start_time": "2022-07-20T12:17:32.808071",
     "status": "completed"
    },
    "tags": []
   },
   "outputs": [],
   "source": [
    "#hide\n",
    "def get_frame(name):\n",
    "    url = (\n",
    "        'https://raw.githubusercontent.com/CSSEGISandData/COVID-19/master/csse_covid_19_data/'\n",
    "        f'csse_covid_19_time_series/time_series_covid19_{name}_global.csv')\n",
    "    df = pd.read_csv(url)\n",
    "    # rename countries\n",
    "    df['Country/Region'] = df['Country/Region'].replace(mapping['replace.country'])\n",
    "    return df"
   ]
  },
  {
   "cell_type": "code",
   "execution_count": 8,
   "id": "affiliated-characterization",
   "metadata": {
    "execution": {
     "iopub.execute_input": "2022-07-20T12:17:32.908652Z",
     "iopub.status.busy": "2022-07-20T12:17:32.908076Z",
     "iopub.status.idle": "2022-07-20T12:17:32.910560Z",
     "shell.execute_reply": "2022-07-20T12:17:32.910010Z"
    },
    "papermill": {
     "duration": 0.036714,
     "end_time": "2022-07-20T12:17:32.910654",
     "exception": false,
     "start_time": "2022-07-20T12:17:32.873940",
     "status": "completed"
    },
    "tags": []
   },
   "outputs": [],
   "source": [
    "#hide\n",
    "def get_dates(df):\n",
    "    dt_cols = df.columns[~df.columns.isin(['Province/State', 'Country/Region', 'Lat', 'Long'])]\n",
    "    LAST_DATE_I = -1\n",
    "    # sometimes last column may be empty, then go backwards\n",
    "    for i in range(-1, -len(dt_cols), -1):\n",
    "        if not df[dt_cols[i]].fillna(0).eq(0).all():\n",
    "            LAST_DATE_I = i\n",
    "            break\n",
    "    return LAST_DATE_I, dt_cols"
   ]
  },
  {
   "cell_type": "code",
   "execution_count": 9,
   "id": "recent-optimization",
   "metadata": {
    "execution": {
     "iopub.execute_input": "2022-07-20T12:17:32.974568Z",
     "iopub.status.busy": "2022-07-20T12:17:32.973974Z",
     "iopub.status.idle": "2022-07-20T12:17:33.423222Z",
     "shell.execute_reply": "2022-07-20T12:17:33.422740Z"
    },
    "papermill": {
     "duration": 0.482863,
     "end_time": "2022-07-20T12:17:33.423341",
     "exception": false,
     "start_time": "2022-07-20T12:17:32.940478",
     "status": "completed"
    },
    "tags": []
   },
   "outputs": [],
   "source": [
    "#hide\n",
    "COL_REGION = 'Country/Region'\n",
    "# Confirmed, Recovered, Deaths\n",
    "df = get_frame('confirmed')\n",
    "# dft_: timeseries, dfc_: today country agg\n",
    "dft_cases = df\n",
    "dft_deaths = get_frame('deaths')\n",
    "dft_recovered = get_frame('recovered')\n",
    "LAST_DATE_I, dt_cols = get_dates(df)"
   ]
  },
  {
   "cell_type": "code",
   "execution_count": 10,
   "id": "absolute-copper",
   "metadata": {
    "execution": {
     "iopub.execute_input": "2022-07-20T12:17:33.488792Z",
     "iopub.status.busy": "2022-07-20T12:17:33.488202Z",
     "iopub.status.idle": "2022-07-20T12:17:33.490810Z",
     "shell.execute_reply": "2022-07-20T12:17:33.490261Z"
    },
    "papermill": {
     "duration": 0.037393,
     "end_time": "2022-07-20T12:17:33.490909",
     "exception": false,
     "start_time": "2022-07-20T12:17:33.453516",
     "status": "completed"
    },
    "tags": []
   },
   "outputs": [],
   "source": [
    "#hide\n",
    "LAST_DATE_I, dt_cols = get_dates(df)\n",
    "dt_today =dt_cols[LAST_DATE_I]\n",
    "# dt_5day = dt_cols[LAST_DATE_I - 5]\n",
    "dt_yday = dt_cols[LAST_DATE_I - 1]"
   ]
  },
  {
   "cell_type": "code",
   "execution_count": 11,
   "id": "restricted-sheriff",
   "metadata": {
    "execution": {
     "iopub.execute_input": "2022-07-20T12:17:33.554974Z",
     "iopub.status.busy": "2022-07-20T12:17:33.554417Z",
     "iopub.status.idle": "2022-07-20T12:17:33.562175Z",
     "shell.execute_reply": "2022-07-20T12:17:33.561699Z"
    },
    "papermill": {
     "duration": 0.041627,
     "end_time": "2022-07-20T12:17:33.562273",
     "exception": false,
     "start_time": "2022-07-20T12:17:33.520646",
     "status": "completed"
    },
    "tags": []
   },
   "outputs": [],
   "source": [
    "#hide\n",
    "dfc_cases = dft_cases.groupby(COL_REGION)[dt_today].sum()\n",
    "dfc_deaths = dft_deaths.groupby(COL_REGION)[dt_today].sum()\n",
    "# dfp_cases = dft_cases.groupby(COL_REGION)[dt_5day].sum()\n",
    "# dfp_deaths = dft_deaths.groupby(COL_REGION)[dt_5day].sum()\n",
    "dfp_cases = dft_cases.groupby(COL_REGION)[dt_yday].sum()\n",
    "dfp_deaths = dft_deaths.groupby(COL_REGION)[dt_yday].sum()"
   ]
  },
  {
   "cell_type": "code",
   "execution_count": 12,
   "id": "deluxe-hepatitis",
   "metadata": {
    "execution": {
     "iopub.execute_input": "2022-07-20T12:17:33.626329Z",
     "iopub.status.busy": "2022-07-20T12:17:33.625748Z",
     "iopub.status.idle": "2022-07-20T12:17:33.630814Z",
     "shell.execute_reply": "2022-07-20T12:17:33.630367Z"
    },
    "papermill": {
     "duration": 0.038828,
     "end_time": "2022-07-20T12:17:33.630907",
     "exception": false,
     "start_time": "2022-07-20T12:17:33.592079",
     "status": "completed"
    },
    "tags": []
   },
   "outputs": [],
   "source": [
    "#hide\n",
    "df_table = (pd.DataFrame(dict(Cases = dfc_cases, Deaths = dfc_deaths, PCases = dfp_cases, PDeaths = dfp_deaths))\n",
    "            .sort_values(by = ['Cases','Deaths'], ascending = [False, False])\n",
    "            .reset_index())"
   ]
  },
  {
   "cell_type": "code",
   "execution_count": 13,
   "id": "educational-chancellor",
   "metadata": {
    "execution": {
     "iopub.execute_input": "2022-07-20T12:17:33.705544Z",
     "iopub.status.busy": "2022-07-20T12:17:33.704808Z",
     "iopub.status.idle": "2022-07-20T12:17:33.712884Z",
     "shell.execute_reply": "2022-07-20T12:17:33.713395Z"
    },
    "papermill": {
     "duration": 0.052884,
     "end_time": "2022-07-20T12:17:33.713508",
     "exception": false,
     "start_time": "2022-07-20T12:17:33.660624",
     "status": "completed"
    },
    "tags": []
   },
   "outputs": [
    {
     "data": {
      "text/html": [
       "<div>\n",
       "<style scoped>\n",
       "    .dataframe tbody tr th:only-of-type {\n",
       "        vertical-align: middle;\n",
       "    }\n",
       "\n",
       "    .dataframe tbody tr th {\n",
       "        vertical-align: top;\n",
       "    }\n",
       "\n",
       "    .dataframe thead th {\n",
       "        text-align: right;\n",
       "    }\n",
       "</style>\n",
       "<table border=\"1\" class=\"dataframe\">\n",
       "  <thead>\n",
       "    <tr style=\"text-align: right;\">\n",
       "      <th></th>\n",
       "      <th>Country/Region</th>\n",
       "      <th>Cases</th>\n",
       "      <th>Deaths</th>\n",
       "      <th>PCases</th>\n",
       "      <th>PDeaths</th>\n",
       "      <th>Cases (+)</th>\n",
       "      <th>Deaths (+)</th>\n",
       "      <th>Fatality Rate</th>\n",
       "      <th>Continent</th>\n",
       "    </tr>\n",
       "  </thead>\n",
       "  <tbody>\n",
       "    <tr>\n",
       "      <th>0</th>\n",
       "      <td>US</td>\n",
       "      <td>89830640</td>\n",
       "      <td>1024858</td>\n",
       "      <td>89677127</td>\n",
       "      <td>1024266</td>\n",
       "      <td>153513</td>\n",
       "      <td>592</td>\n",
       "      <td>1.14</td>\n",
       "      <td>North America</td>\n",
       "    </tr>\n",
       "    <tr>\n",
       "      <th>1</th>\n",
       "      <td>India</td>\n",
       "      <td>43801678</td>\n",
       "      <td>525821</td>\n",
       "      <td>43783062</td>\n",
       "      <td>525785</td>\n",
       "      <td>18616</td>\n",
       "      <td>36</td>\n",
       "      <td>1.20</td>\n",
       "      <td>Asia</td>\n",
       "    </tr>\n",
       "    <tr>\n",
       "      <th>2</th>\n",
       "      <td>Brazil</td>\n",
       "      <td>33397814</td>\n",
       "      <td>675871</td>\n",
       "      <td>33339815</td>\n",
       "      <td>675518</td>\n",
       "      <td>57999</td>\n",
       "      <td>353</td>\n",
       "      <td>2.02</td>\n",
       "      <td>South America</td>\n",
       "    </tr>\n",
       "    <tr>\n",
       "      <th>3</th>\n",
       "      <td>France</td>\n",
       "      <td>33375449</td>\n",
       "      <td>152019</td>\n",
       "      <td>33239622</td>\n",
       "      <td>151875</td>\n",
       "      <td>135827</td>\n",
       "      <td>144</td>\n",
       "      <td>0.46</td>\n",
       "      <td>Europe</td>\n",
       "    </tr>\n",
       "    <tr>\n",
       "      <th>4</th>\n",
       "      <td>Germany</td>\n",
       "      <td>29994679</td>\n",
       "      <td>142771</td>\n",
       "      <td>29853680</td>\n",
       "      <td>142635</td>\n",
       "      <td>140999</td>\n",
       "      <td>136</td>\n",
       "      <td>0.48</td>\n",
       "      <td>Europe</td>\n",
       "    </tr>\n",
       "  </tbody>\n",
       "</table>\n",
       "</div>"
      ],
      "text/plain": [
       "  Country/Region     Cases   Deaths    PCases  PDeaths  Cases (+)  Deaths (+)  \\\n",
       "0             US  89830640  1024858  89677127  1024266     153513         592   \n",
       "1          India  43801678   525821  43783062   525785      18616          36   \n",
       "2         Brazil  33397814   675871  33339815   675518      57999         353   \n",
       "3         France  33375449   152019  33239622   151875     135827         144   \n",
       "4        Germany  29994679   142771  29853680   142635     140999         136   \n",
       "\n",
       "   Fatality Rate      Continent  \n",
       "0           1.14  North America  \n",
       "1           1.20           Asia  \n",
       "2           2.02  South America  \n",
       "3           0.46         Europe  \n",
       "4           0.48         Europe  "
      ]
     },
     "execution_count": 13,
     "metadata": {},
     "output_type": "execute_result"
    }
   ],
   "source": [
    "#hide\n",
    "for c in 'Cases, Deaths'.split(', '):\n",
    "    df_table[f'{c} (+)'] = (df_table[c] - df_table[f'P{c}']).clip(0)\n",
    "    #Clip ça veut dire, les chiffres negatif sont interdit\n",
    "df_table['Fatality Rate'] = (100* df_table['Deaths']/ df_table['Cases']).round(2)\n",
    "df_table['Continent'] = df_table['Country/Region'].map(mapping['map.continent'])\n",
    "df_table.head(5)"
   ]
  },
  {
   "cell_type": "code",
   "execution_count": 14,
   "id": "aboriginal-bulgaria",
   "metadata": {
    "execution": {
     "iopub.execute_input": "2022-07-20T12:17:33.780361Z",
     "iopub.status.busy": "2022-07-20T12:17:33.779665Z",
     "iopub.status.idle": "2022-07-20T12:17:33.781311Z",
     "shell.execute_reply": "2022-07-20T12:17:33.780875Z"
    },
    "papermill": {
     "duration": 0.037639,
     "end_time": "2022-07-20T12:17:33.781405",
     "exception": false,
     "start_time": "2022-07-20T12:17:33.743766",
     "status": "completed"
    },
    "tags": []
   },
   "outputs": [],
   "source": [
    "#hide\n",
    "#delete problematic countries from table\n",
    "df_table = df_table[~df_table['Country/Region'].isin(['Cape Verde', 'Cruise Ship', 'Kosovo'])]"
   ]
  },
  {
   "cell_type": "code",
   "execution_count": 15,
   "id": "fantastic-effect",
   "metadata": {
    "execution": {
     "iopub.execute_input": "2022-07-20T12:17:33.848196Z",
     "iopub.status.busy": "2022-07-20T12:17:33.847621Z",
     "iopub.status.idle": "2022-07-20T12:17:33.863964Z",
     "shell.execute_reply": "2022-07-20T12:17:33.864500Z"
    },
    "papermill": {
     "duration": 0.052922,
     "end_time": "2022-07-20T12:17:33.864607",
     "exception": false,
     "start_time": "2022-07-20T12:17:33.811685",
     "status": "completed"
    },
    "tags": []
   },
   "outputs": [
    {
     "data": {
      "text/html": [
       "<div>\n",
       "<style scoped>\n",
       "    .dataframe tbody tr th:only-of-type {\n",
       "        vertical-align: middle;\n",
       "    }\n",
       "\n",
       "    .dataframe tbody tr th {\n",
       "        vertical-align: top;\n",
       "    }\n",
       "\n",
       "    .dataframe thead th {\n",
       "        text-align: right;\n",
       "    }\n",
       "</style>\n",
       "<table border=\"1\" class=\"dataframe\">\n",
       "  <thead>\n",
       "    <tr style=\"text-align: right;\">\n",
       "      <th></th>\n",
       "      <th>Country/Region</th>\n",
       "      <th>Cases</th>\n",
       "      <th>Deaths</th>\n",
       "      <th>PCases</th>\n",
       "      <th>PDeaths</th>\n",
       "      <th>Cases (+)</th>\n",
       "      <th>Deaths (+)</th>\n",
       "      <th>Fatality Rate</th>\n",
       "      <th>Continent</th>\n",
       "    </tr>\n",
       "  </thead>\n",
       "  <tbody>\n",
       "    <tr>\n",
       "      <th>0</th>\n",
       "      <td>US</td>\n",
       "      <td>89830640</td>\n",
       "      <td>1024858</td>\n",
       "      <td>89677127</td>\n",
       "      <td>1024266</td>\n",
       "      <td>153513</td>\n",
       "      <td>592</td>\n",
       "      <td>1.1</td>\n",
       "      <td>North America</td>\n",
       "    </tr>\n",
       "    <tr>\n",
       "      <th>1</th>\n",
       "      <td>India</td>\n",
       "      <td>43801678</td>\n",
       "      <td>525821</td>\n",
       "      <td>43783062</td>\n",
       "      <td>525785</td>\n",
       "      <td>18616</td>\n",
       "      <td>36</td>\n",
       "      <td>1.2</td>\n",
       "      <td>Asia</td>\n",
       "    </tr>\n",
       "    <tr>\n",
       "      <th>2</th>\n",
       "      <td>Brazil</td>\n",
       "      <td>33397814</td>\n",
       "      <td>675871</td>\n",
       "      <td>33339815</td>\n",
       "      <td>675518</td>\n",
       "      <td>57999</td>\n",
       "      <td>353</td>\n",
       "      <td>2.0</td>\n",
       "      <td>South America</td>\n",
       "    </tr>\n",
       "    <tr>\n",
       "      <th>3</th>\n",
       "      <td>France</td>\n",
       "      <td>33375449</td>\n",
       "      <td>152019</td>\n",
       "      <td>33239622</td>\n",
       "      <td>151875</td>\n",
       "      <td>135827</td>\n",
       "      <td>144</td>\n",
       "      <td>0.5</td>\n",
       "      <td>Europe</td>\n",
       "    </tr>\n",
       "    <tr>\n",
       "      <th>4</th>\n",
       "      <td>Germany</td>\n",
       "      <td>29994679</td>\n",
       "      <td>142771</td>\n",
       "      <td>29853680</td>\n",
       "      <td>142635</td>\n",
       "      <td>140999</td>\n",
       "      <td>136</td>\n",
       "      <td>0.5</td>\n",
       "      <td>Europe</td>\n",
       "    </tr>\n",
       "  </tbody>\n",
       "</table>\n",
       "</div>"
      ],
      "text/plain": [
       "  Country/Region     Cases   Deaths    PCases  PDeaths  Cases (+)  Deaths (+)  \\\n",
       "0             US  89830640  1024858  89677127  1024266     153513         592   \n",
       "1          India  43801678   525821  43783062   525785      18616          36   \n",
       "2         Brazil  33397814   675871  33339815   675518      57999         353   \n",
       "3         France  33375449   152019  33239622   151875     135827         144   \n",
       "4        Germany  29994679   142771  29853680   142635     140999         136   \n",
       "\n",
       "   Fatality Rate      Continent  \n",
       "0            1.1  North America  \n",
       "1            1.2           Asia  \n",
       "2            2.0  South America  \n",
       "3            0.5         Europe  \n",
       "4            0.5         Europe  "
      ]
     },
     "execution_count": 15,
     "metadata": {},
     "output_type": "execute_result"
    }
   ],
   "source": [
    "#hide\n",
    "df_table = (pd.DataFrame(dict(Cases=dfc_cases, Deaths=dfc_deaths, PCases=dfp_cases, PDeaths=dfp_deaths))\n",
    "             .sort_values(by=['Cases', 'Deaths'], ascending=[False, False])\n",
    "             .reset_index())\n",
    "df_table.rename(columns={'index': 'Country/Region'}, inplace=True)\n",
    "for c in 'Cases, Deaths'.split(', '):\n",
    "    df_table[f'{c} (+)'] = (df_table[c] - df_table[f'P{c}']).clip(0)  # DATA BUG\n",
    "df_table['Fatality Rate'] = (100 * df_table['Deaths'] / df_table['Cases']).round(1)\n",
    "df_table['Continent'] = df_table['Country/Region'].map(mapping['map.continent'])\n",
    "df_table.head(5)"
   ]
  },
  {
   "cell_type": "code",
   "execution_count": 16,
   "id": "fewer-occasion",
   "metadata": {
    "execution": {
     "iopub.execute_input": "2022-07-20T12:17:33.930791Z",
     "iopub.status.busy": "2022-07-20T12:17:33.930203Z",
     "iopub.status.idle": "2022-07-20T12:17:33.932672Z",
     "shell.execute_reply": "2022-07-20T12:17:33.932211Z"
    },
    "papermill": {
     "duration": 0.037296,
     "end_time": "2022-07-20T12:17:33.932765",
     "exception": false,
     "start_time": "2022-07-20T12:17:33.895469",
     "status": "completed"
    },
    "tags": []
   },
   "outputs": [],
   "source": [
    "#hide\n",
    "#delete problematic countries from table\n",
    "df_table = df_table[~df_table['Country/Region'].isin(['Cape Verde', 'Cruise Ship', 'Kosovo'])]"
   ]
  },
  {
   "cell_type": "code",
   "execution_count": 17,
   "id": "related-center",
   "metadata": {
    "execution": {
     "iopub.execute_input": "2022-07-20T12:17:34.003957Z",
     "iopub.status.busy": "2022-07-20T12:17:34.003396Z",
     "iopub.status.idle": "2022-07-20T12:17:34.013390Z",
     "shell.execute_reply": "2022-07-20T12:17:34.012825Z"
    },
    "papermill": {
     "duration": 0.049994,
     "end_time": "2022-07-20T12:17:34.013487",
     "exception": false,
     "start_time": "2022-07-20T12:17:33.963493",
     "status": "completed"
    },
    "tags": []
   },
   "outputs": [],
   "source": [
    "#hide\n",
    "metrics = [df_table.columns[index] for index in [1,2,5,6]]\n",
    "# s_china = df_table[df_table['Country/Region'].eq('China')][metrics].sum().add_prefix('China ')\n",
    "s_us = df_table[df_table['Country/Region'].eq('US')][metrics].sum().add_prefix('US ')\n",
    "s_eu = df_table[df_table['Continent'].eq('Europe')][metrics].sum().add_prefix('EU ')\n",
    "s_ind = df_table[df_table['Country/Region'].eq('India')][metrics].sum().add_prefix('India ')\n",
    "summary = {'updated': pd.to_datetime(dt_today), 'since': pd.to_datetime(dt_yday)}\n",
    "summary = {'updated': pd.to_datetime(dt_today), 'since': pd.to_datetime(dt_yday)}\n",
    "summary = {**summary, **df_table[metrics].sum(), **s_ind, **s_us, **s_eu}"
   ]
  },
  {
   "cell_type": "code",
   "execution_count": 18,
   "id": "engaging-syndrome",
   "metadata": {
    "execution": {
     "iopub.execute_input": "2022-07-20T12:17:34.078930Z",
     "iopub.status.busy": "2022-07-20T12:17:34.078373Z",
     "iopub.status.idle": "2022-07-20T12:17:34.096119Z",
     "shell.execute_reply": "2022-07-20T12:17:34.096576Z"
    },
    "papermill": {
     "duration": 0.052565,
     "end_time": "2022-07-20T12:17:34.096686",
     "exception": false,
     "start_time": "2022-07-20T12:17:34.044121",
     "status": "completed"
    },
    "tags": []
   },
   "outputs": [],
   "source": [
    "#hide\n",
    "dft_ct_new_cases = dft_cases.groupby(COL_REGION)[dt_cols].sum().diff(axis=1).fillna(0).astype(int)"
   ]
  },
  {
   "cell_type": "code",
   "execution_count": 19,
   "id": "neutral-assignment",
   "metadata": {
    "execution": {
     "iopub.execute_input": "2022-07-20T12:17:34.163017Z",
     "iopub.status.busy": "2022-07-20T12:17:34.162461Z",
     "iopub.status.idle": "2022-07-20T12:17:34.164759Z",
     "shell.execute_reply": "2022-07-20T12:17:34.165215Z"
    },
    "papermill": {
     "duration": 0.03782,
     "end_time": "2022-07-20T12:17:34.165322",
     "exception": false,
     "start_time": "2022-07-20T12:17:34.127502",
     "status": "completed"
    },
    "tags": []
   },
   "outputs": [],
   "source": [
    "#hide\n",
    "everydaycases = dft_ct_new_cases.cumsum(axis=1)"
   ]
  },
  {
   "cell_type": "code",
   "execution_count": 20,
   "id": "parliamentary-calgary",
   "metadata": {
    "execution": {
     "iopub.execute_input": "2022-07-20T12:17:34.230513Z",
     "iopub.status.busy": "2022-07-20T12:17:34.229935Z",
     "iopub.status.idle": "2022-07-20T12:17:34.766923Z",
     "shell.execute_reply": "2022-07-20T12:17:34.766413Z"
    },
    "papermill": {
     "duration": 0.570997,
     "end_time": "2022-07-20T12:17:34.767037",
     "exception": false,
     "start_time": "2022-07-20T12:17:34.196040",
     "status": "completed"
    },
    "tags": []
   },
   "outputs": [],
   "source": [
    "#hide\n",
    "import pandas as pd\n",
    "import matplotlib.pyplot as plt\n",
    "import matplotlib.ticker as ticker\n",
    "import matplotlib.animation as animation\n",
    "from IPython.display import HTML"
   ]
  },
  {
   "cell_type": "code",
   "execution_count": 21,
   "id": "lasting-extraction",
   "metadata": {
    "execution": {
     "iopub.execute_input": "2022-07-20T12:17:34.834417Z",
     "iopub.status.busy": "2022-07-20T12:17:34.833823Z",
     "iopub.status.idle": "2022-07-20T12:17:34.840085Z",
     "shell.execute_reply": "2022-07-20T12:17:34.840619Z"
    },
    "papermill": {
     "duration": 0.042816,
     "end_time": "2022-07-20T12:17:34.840735",
     "exception": false,
     "start_time": "2022-07-20T12:17:34.797919",
     "status": "completed"
    },
    "tags": []
   },
   "outputs": [],
   "source": [
    "#hide\n",
    "t = everydaycases.stack()"
   ]
  },
  {
   "cell_type": "code",
   "execution_count": 22,
   "id": "premier-sleeve",
   "metadata": {
    "execution": {
     "iopub.execute_input": "2022-07-20T12:17:34.906196Z",
     "iopub.status.busy": "2022-07-20T12:17:34.905601Z",
     "iopub.status.idle": "2022-07-20T12:17:34.916265Z",
     "shell.execute_reply": "2022-07-20T12:17:34.916942Z"
    },
    "papermill": {
     "duration": 0.045323,
     "end_time": "2022-07-20T12:17:34.917055",
     "exception": false,
     "start_time": "2022-07-20T12:17:34.871732",
     "status": "completed"
    },
    "tags": []
   },
   "outputs": [],
   "source": [
    "#hide\n",
    "g = t.reset_index(['Country/Region'])"
   ]
  },
  {
   "cell_type": "code",
   "execution_count": 23,
   "id": "distributed-pittsburgh",
   "metadata": {
    "execution": {
     "iopub.execute_input": "2022-07-20T12:17:34.981578Z",
     "iopub.status.busy": "2022-07-20T12:17:34.981010Z",
     "iopub.status.idle": "2022-07-20T12:17:34.983482Z",
     "shell.execute_reply": "2022-07-20T12:17:34.982953Z"
    },
    "papermill": {
     "duration": 0.035971,
     "end_time": "2022-07-20T12:17:34.983576",
     "exception": false,
     "start_time": "2022-07-20T12:17:34.947605",
     "status": "completed"
    },
    "tags": []
   },
   "outputs": [],
   "source": [
    "#hide\n",
    "g.index.name = 'date'"
   ]
  },
  {
   "cell_type": "code",
   "execution_count": 24,
   "id": "naked-donor",
   "metadata": {
    "execution": {
     "iopub.execute_input": "2022-07-20T12:17:35.048500Z",
     "iopub.status.busy": "2022-07-20T12:17:35.047914Z",
     "iopub.status.idle": "2022-07-20T12:17:35.050526Z",
     "shell.execute_reply": "2022-07-20T12:17:35.049988Z"
    },
    "papermill": {
     "duration": 0.035859,
     "end_time": "2022-07-20T12:17:35.050621",
     "exception": false,
     "start_time": "2022-07-20T12:17:35.014762",
     "status": "completed"
    },
    "tags": []
   },
   "outputs": [],
   "source": [
    "# #hide\n",
    "# g = g.reset_index(['date'])"
   ]
  },
  {
   "cell_type": "code",
   "execution_count": 25,
   "id": "incomplete-mustang",
   "metadata": {
    "execution": {
     "iopub.execute_input": "2022-07-20T12:17:35.115140Z",
     "iopub.status.busy": "2022-07-20T12:17:35.114566Z",
     "iopub.status.idle": "2022-07-20T12:17:35.117012Z",
     "shell.execute_reply": "2022-07-20T12:17:35.116485Z"
    },
    "papermill": {
     "duration": 0.035805,
     "end_time": "2022-07-20T12:17:35.117105",
     "exception": false,
     "start_time": "2022-07-20T12:17:35.081300",
     "status": "completed"
    },
    "tags": []
   },
   "outputs": [],
   "source": [
    "#hide\n",
    "# g.head()"
   ]
  },
  {
   "cell_type": "code",
   "execution_count": 26,
   "id": "specific-kruger",
   "metadata": {
    "execution": {
     "iopub.execute_input": "2022-07-20T12:17:35.181652Z",
     "iopub.status.busy": "2022-07-20T12:17:35.181074Z",
     "iopub.status.idle": "2022-07-20T12:17:35.183571Z",
     "shell.execute_reply": "2022-07-20T12:17:35.183040Z"
    },
    "papermill": {
     "duration": 0.035819,
     "end_time": "2022-07-20T12:17:35.183668",
     "exception": false,
     "start_time": "2022-07-20T12:17:35.147849",
     "status": "completed"
    },
    "tags": []
   },
   "outputs": [],
   "source": [
    "#hide\n",
    "# g.columns = ['date','country','cases']"
   ]
  },
  {
   "cell_type": "code",
   "execution_count": 27,
   "id": "tender-conversion",
   "metadata": {
    "execution": {
     "iopub.execute_input": "2022-07-20T12:17:35.248731Z",
     "iopub.status.busy": "2022-07-20T12:17:35.248185Z",
     "iopub.status.idle": "2022-07-20T12:17:35.251440Z",
     "shell.execute_reply": "2022-07-20T12:17:35.250985Z"
    },
    "papermill": {
     "duration": 0.037313,
     "end_time": "2022-07-20T12:17:35.251533",
     "exception": false,
     "start_time": "2022-07-20T12:17:35.214220",
     "status": "completed"
    },
    "tags": []
   },
   "outputs": [],
   "source": [
    "#hide\n",
    "# g['continent'] = g.country"
   ]
  },
  {
   "cell_type": "code",
   "execution_count": 28,
   "id": "substantial-wilderness",
   "metadata": {
    "execution": {
     "iopub.execute_input": "2022-07-20T12:17:35.316555Z",
     "iopub.status.busy": "2022-07-20T12:17:35.315964Z",
     "iopub.status.idle": "2022-07-20T12:17:35.318466Z",
     "shell.execute_reply": "2022-07-20T12:17:35.317922Z"
    },
    "papermill": {
     "duration": 0.036095,
     "end_time": "2022-07-20T12:17:35.318562",
     "exception": false,
     "start_time": "2022-07-20T12:17:35.282467",
     "status": "completed"
    },
    "tags": []
   },
   "outputs": [],
   "source": [
    "#hide\n",
    "# cols = list(g.columns.values)"
   ]
  },
  {
   "cell_type": "code",
   "execution_count": 29,
   "id": "solved-farming",
   "metadata": {
    "execution": {
     "iopub.execute_input": "2022-07-20T12:17:35.384900Z",
     "iopub.status.busy": "2022-07-20T12:17:35.384328Z",
     "iopub.status.idle": "2022-07-20T12:17:35.386860Z",
     "shell.execute_reply": "2022-07-20T12:17:35.386326Z"
    },
    "papermill": {
     "duration": 0.036228,
     "end_time": "2022-07-20T12:17:35.386956",
     "exception": false,
     "start_time": "2022-07-20T12:17:35.350728",
     "status": "completed"
    },
    "tags": []
   },
   "outputs": [],
   "source": [
    "#hide\n",
    "# cols.insert(0, cols.pop())"
   ]
  },
  {
   "cell_type": "code",
   "execution_count": 30,
   "id": "executed-adoption",
   "metadata": {
    "execution": {
     "iopub.execute_input": "2022-07-20T12:17:35.452273Z",
     "iopub.status.busy": "2022-07-20T12:17:35.451672Z",
     "iopub.status.idle": "2022-07-20T12:17:35.454228Z",
     "shell.execute_reply": "2022-07-20T12:17:35.453664Z"
    },
    "papermill": {
     "duration": 0.036551,
     "end_time": "2022-07-20T12:17:35.454327",
     "exception": false,
     "start_time": "2022-07-20T12:17:35.417776",
     "status": "completed"
    },
    "tags": []
   },
   "outputs": [],
   "source": [
    "#hide\n",
    "# g = g[cols]"
   ]
  },
  {
   "cell_type": "code",
   "execution_count": 31,
   "id": "subject-dublin",
   "metadata": {
    "execution": {
     "iopub.execute_input": "2022-07-20T12:17:35.519424Z",
     "iopub.status.busy": "2022-07-20T12:17:35.518842Z",
     "iopub.status.idle": "2022-07-20T12:17:35.521305Z",
     "shell.execute_reply": "2022-07-20T12:17:35.520774Z"
    },
    "papermill": {
     "duration": 0.035859,
     "end_time": "2022-07-20T12:17:35.521401",
     "exception": false,
     "start_time": "2022-07-20T12:17:35.485542",
     "status": "completed"
    },
    "tags": []
   },
   "outputs": [],
   "source": [
    "#hide\n",
    "# g['continent'] = g['continent'].map(mapping['map.continent'])"
   ]
  },
  {
   "cell_type": "code",
   "execution_count": 32,
   "id": "freelance-scout",
   "metadata": {
    "execution": {
     "iopub.execute_input": "2022-07-20T12:17:35.586057Z",
     "iopub.status.busy": "2022-07-20T12:17:35.585470Z",
     "iopub.status.idle": "2022-07-20T12:17:35.587984Z",
     "shell.execute_reply": "2022-07-20T12:17:35.587551Z"
    },
    "papermill": {
     "duration": 0.035869,
     "end_time": "2022-07-20T12:17:35.588075",
     "exception": false,
     "start_time": "2022-07-20T12:17:35.552206",
     "status": "completed"
    },
    "tags": []
   },
   "outputs": [],
   "source": [
    "#hide\n",
    "# g.head()"
   ]
  },
  {
   "cell_type": "code",
   "execution_count": 33,
   "id": "limited-engine",
   "metadata": {
    "execution": {
     "iopub.execute_input": "2022-07-20T12:17:35.652348Z",
     "iopub.status.busy": "2022-07-20T12:17:35.651772Z",
     "iopub.status.idle": "2022-07-20T12:17:35.654252Z",
     "shell.execute_reply": "2022-07-20T12:17:35.653702Z"
    },
    "papermill": {
     "duration": 0.035695,
     "end_time": "2022-07-20T12:17:35.654346",
     "exception": false,
     "start_time": "2022-07-20T12:17:35.618651",
     "status": "completed"
    },
    "tags": []
   },
   "outputs": [],
   "source": [
    "# hide\n",
    "# g['date'] = g['date'].astype('datetime64[ns]')"
   ]
  },
  {
   "cell_type": "code",
   "execution_count": 34,
   "id": "sophisticated-supervisor",
   "metadata": {
    "execution": {
     "iopub.execute_input": "2022-07-20T12:17:35.718944Z",
     "iopub.status.busy": "2022-07-20T12:17:35.718391Z",
     "iopub.status.idle": "2022-07-20T12:17:35.720758Z",
     "shell.execute_reply": "2022-07-20T12:17:35.720219Z"
    },
    "papermill": {
     "duration": 0.035663,
     "end_time": "2022-07-20T12:17:35.720852",
     "exception": false,
     "start_time": "2022-07-20T12:17:35.685189",
     "status": "completed"
    },
    "tags": []
   },
   "outputs": [],
   "source": [
    "#hide\n",
    "# g['date'] = g.date.dt.dayofyear"
   ]
  },
  {
   "cell_type": "code",
   "execution_count": 35,
   "id": "inside-dubai",
   "metadata": {
    "execution": {
     "iopub.execute_input": "2022-07-20T12:17:35.785414Z",
     "iopub.status.busy": "2022-07-20T12:17:35.784804Z",
     "iopub.status.idle": "2022-07-20T12:17:35.786921Z",
     "shell.execute_reply": "2022-07-20T12:17:35.787336Z"
    },
    "papermill": {
     "duration": 0.035732,
     "end_time": "2022-07-20T12:17:35.787443",
     "exception": false,
     "start_time": "2022-07-20T12:17:35.751711",
     "status": "completed"
    },
    "tags": []
   },
   "outputs": [],
   "source": [
    "#hide\n",
    "# g = g.rename(columns= {'continent':'group','country':'name','cases':'value'})"
   ]
  },
  {
   "cell_type": "code",
   "execution_count": 36,
   "id": "fleet-motorcycle",
   "metadata": {
    "execution": {
     "iopub.execute_input": "2022-07-20T12:17:35.852045Z",
     "iopub.status.busy": "2022-07-20T12:17:35.851467Z",
     "iopub.status.idle": "2022-07-20T12:17:35.853968Z",
     "shell.execute_reply": "2022-07-20T12:17:35.853484Z"
    },
    "papermill": {
     "duration": 0.035862,
     "end_time": "2022-07-20T12:17:35.854064",
     "exception": false,
     "start_time": "2022-07-20T12:17:35.818202",
     "status": "completed"
    },
    "tags": []
   },
   "outputs": [],
   "source": [
    "#hide\n",
    "# cols = ['name','group','day','value']"
   ]
  },
  {
   "cell_type": "code",
   "execution_count": 37,
   "id": "continued-sleeping",
   "metadata": {
    "execution": {
     "iopub.execute_input": "2022-07-20T12:17:35.918633Z",
     "iopub.status.busy": "2022-07-20T12:17:35.918070Z",
     "iopub.status.idle": "2022-07-20T12:17:35.920120Z",
     "shell.execute_reply": "2022-07-20T12:17:35.920566Z"
    },
    "papermill": {
     "duration": 0.03599,
     "end_time": "2022-07-20T12:17:35.920673",
     "exception": false,
     "start_time": "2022-07-20T12:17:35.884683",
     "status": "completed"
    },
    "tags": []
   },
   "outputs": [],
   "source": [
    "#hide\n",
    "# g.rename(columns= {'date':'day'},inplace = True)"
   ]
  },
  {
   "cell_type": "code",
   "execution_count": 38,
   "id": "major-fight",
   "metadata": {
    "execution": {
     "iopub.execute_input": "2022-07-20T12:17:35.985637Z",
     "iopub.status.busy": "2022-07-20T12:17:35.984371Z",
     "iopub.status.idle": "2022-07-20T12:17:35.986315Z",
     "shell.execute_reply": "2022-07-20T12:17:35.986725Z"
    },
    "papermill": {
     "duration": 0.035483,
     "end_time": "2022-07-20T12:17:35.986832",
     "exception": false,
     "start_time": "2022-07-20T12:17:35.951349",
     "status": "completed"
    },
    "tags": []
   },
   "outputs": [],
   "source": [
    "#hide\n",
    "# g = g[cols]"
   ]
  },
  {
   "cell_type": "code",
   "execution_count": 39,
   "id": "structured-mobile",
   "metadata": {
    "execution": {
     "iopub.execute_input": "2022-07-20T12:17:36.051452Z",
     "iopub.status.busy": "2022-07-20T12:17:36.050896Z",
     "iopub.status.idle": "2022-07-20T12:17:36.053300Z",
     "shell.execute_reply": "2022-07-20T12:17:36.052864Z"
    },
    "papermill": {
     "duration": 0.035723,
     "end_time": "2022-07-20T12:17:36.053393",
     "exception": false,
     "start_time": "2022-07-20T12:17:36.017670",
     "status": "completed"
    },
    "tags": []
   },
   "outputs": [],
   "source": [
    "# #hide\n",
    "# g = g[g.group.notna()]"
   ]
  },
  {
   "cell_type": "code",
   "execution_count": 40,
   "id": "determined-closing",
   "metadata": {
    "execution": {
     "iopub.execute_input": "2022-07-20T12:17:36.118918Z",
     "iopub.status.busy": "2022-07-20T12:17:36.118347Z",
     "iopub.status.idle": "2022-07-20T12:17:36.120898Z",
     "shell.execute_reply": "2022-07-20T12:17:36.120446Z"
    },
    "papermill": {
     "duration": 0.036139,
     "end_time": "2022-07-20T12:17:36.120992",
     "exception": false,
     "start_time": "2022-07-20T12:17:36.084853",
     "status": "completed"
    },
    "tags": []
   },
   "outputs": [],
   "source": [
    "# #hide\n",
    "# colors = dict(zip(\n",
    "#     [\"Oceania\", \"Europe\", \"Asia\", \"South America\", \"Middle East\", \"North America\", \"Africa\"],\n",
    "#     [\"#adb0ff\", \"#ffb3ff\", \"#90d595\", \"#e48381\", \"#aafbff\", \"#f7bb5f\", \"#eafb50\"]\n",
    "# ))\n",
    "# group_lk = g.set_index('name')['group'].to_dict()"
   ]
  },
  {
   "cell_type": "code",
   "execution_count": null,
   "id": "gross-drinking",
   "metadata": {
    "papermill": {
     "duration": 0.030632,
     "end_time": "2022-07-20T12:17:36.182203",
     "exception": false,
     "start_time": "2022-07-20T12:17:36.151571",
     "status": "completed"
    },
    "tags": []
   },
   "outputs": [],
   "source": []
  },
  {
   "cell_type": "code",
   "execution_count": 41,
   "id": "subject-macintosh",
   "metadata": {
    "execution": {
     "iopub.execute_input": "2022-07-20T12:17:36.248458Z",
     "iopub.status.busy": "2022-07-20T12:17:36.247886Z",
     "iopub.status.idle": "2022-07-20T12:17:36.250068Z",
     "shell.execute_reply": "2022-07-20T12:17:36.250479Z"
    },
    "papermill": {
     "duration": 0.036499,
     "end_time": "2022-07-20T12:17:36.250589",
     "exception": false,
     "start_time": "2022-07-20T12:17:36.214090",
     "status": "completed"
    },
    "tags": []
   },
   "outputs": [],
   "source": [
    "# #hide\n",
    "# fig, ax = plt.subplots(figsize=(15, 8))\n",
    "\n",
    "# def draw_barchart(current_day):\n",
    "#     dff = g[g['day'].eq(current_day)].sort_values(by='value', ascending=True).tail(10)\n",
    "#     ax.clear()\n",
    "#     ax.barh(dff['name'], dff['value'], color=[colors[group_lk[x]] for x in dff['name']])\n",
    "#     dx = dff['value'].max() / 200\n",
    "    \n",
    "#     for i, (value, name) in enumerate(zip(dff['value'], dff['name'])):\n",
    "#         ax.text(value-dx, i,     name,           size=14, weight=600, ha='right', va='bottom')\n",
    "#         ax.text(value-dx, i-.25, group_lk[name], size=10, color='#444444', ha='right', va='baseline')\n",
    "#         ax.text(value+dx, i,     f'{value:,.0f}',  size=14, ha='left',  va='center')\n",
    "#     ax.text(1, 0.4, current_day, transform=ax.transAxes, color='#777777', size=46, ha='right', weight=800)\n",
    "#     ax.text(0, 1.06, 'Population (thousands)', transform=ax.transAxes, size=12, color='#777777')\n",
    "#     ax.xaxis.set_major_formatter(ticker.StrMethodFormatter('{x:,.0f}'))\n",
    "#     ax.xaxis.set_ticks_position('top')\n",
    "#     ax.tick_params(axis='x', colors='#777777', labelsize=12)\n",
    "#     ax.set_yticks([])\n",
    "#     ax.margins(0, 0.01)\n",
    "#     ax.grid(which='major', axis='x', linestyle='-')\n",
    "#     ax.set_axisbelow(True)\n",
    "    \n",
    "#     ax.text(0, 1.15, 'Coronavirus',\n",
    "#             transform=ax.transAxes, size=24, weight=600, ha='left', va='top')\n",
    "# #     ax.text(1, 0, 'by @pratapvardhan; credit @jburnmurdoch', transform=ax.transAxes, color='#777777', ha='right',\n",
    "# #             bbox=dict(facecolor='white', alpha=0.8, edgecolor='white'))\n",
    "#     plt.box(False)"
   ]
  },
  {
   "cell_type": "code",
   "execution_count": 42,
   "id": "sexual-wages",
   "metadata": {
    "execution": {
     "iopub.execute_input": "2022-07-20T12:17:36.315288Z",
     "iopub.status.busy": "2022-07-20T12:17:36.314708Z",
     "iopub.status.idle": "2022-07-20T12:17:36.316663Z",
     "shell.execute_reply": "2022-07-20T12:17:36.316144Z"
    },
    "papermill": {
     "duration": 0.035343,
     "end_time": "2022-07-20T12:17:36.316754",
     "exception": false,
     "start_time": "2022-07-20T12:17:36.281411",
     "status": "completed"
    },
    "tags": []
   },
   "outputs": [],
   "source": [
    "# #hide_input\n",
    "# fig, ax = plt.subplots(figsize=(15, 8))\n",
    "# animator = animation.FuncAnimation(fig, draw_barchart, frames=range(g.day.values.min(), g.day.values.max()))\n",
    "# HTML(animator.to_jshtml())\n",
    "# # or use animator.to_html5_video() or animator.save() "
   ]
  },
  {
   "cell_type": "code",
   "execution_count": null,
   "id": "australian-container",
   "metadata": {
    "papermill": {
     "duration": 0.03063,
     "end_time": "2022-07-20T12:17:36.378434",
     "exception": false,
     "start_time": "2022-07-20T12:17:36.347804",
     "status": "completed"
    },
    "tags": []
   },
   "outputs": [],
   "source": []
  },
  {
   "cell_type": "code",
   "execution_count": null,
   "id": "mediterranean-pontiac",
   "metadata": {
    "papermill": {
     "duration": 0.030588,
     "end_time": "2022-07-20T12:17:36.439633",
     "exception": false,
     "start_time": "2022-07-20T12:17:36.409045",
     "status": "completed"
    },
    "tags": []
   },
   "outputs": [],
   "source": []
  },
  {
   "cell_type": "code",
   "execution_count": null,
   "id": "aging-legislature",
   "metadata": {
    "papermill": {
     "duration": 0.030646,
     "end_time": "2022-07-20T12:17:36.501168",
     "exception": false,
     "start_time": "2022-07-20T12:17:36.470522",
     "status": "completed"
    },
    "tags": []
   },
   "outputs": [],
   "source": []
  }
 ],
 "metadata": {
  "kernelspec": {
   "display_name": "Python 3",
   "language": "python",
   "name": "python3"
  },
  "language_info": {
   "codemirror_mode": {
    "name": "ipython",
    "version": 3
   },
   "file_extension": ".py",
   "mimetype": "text/x-python",
   "name": "python",
   "nbconvert_exporter": "python",
   "pygments_lexer": "ipython3",
   "version": "3.6.15"
  },
  "papermill": {
   "duration": 5.799628,
   "end_time": "2022-07-20T12:17:36.849114",
   "environment_variables": {},
   "exception": null,
   "input_path": "2020-03-21-covid19exp.ipynb",
   "output_path": "2020-03-21-covid19exp.ipynb",
   "parameters": {},
   "start_time": "2022-07-20T12:17:31.049486",
   "version": "2.0.0"
  }
 },
 "nbformat": 4,
 "nbformat_minor": 5
}