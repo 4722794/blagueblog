{
 "cells": [
  {
   "cell_type": "markdown",
   "id": "muslim-click",
   "metadata": {
    "papermill": {
     "duration": 0.037655,
     "end_time": "2021-09-28T12:12:23.431190",
     "exception": false,
     "start_time": "2021-09-28T12:12:23.393535",
     "status": "completed"
    },
    "tags": []
   },
   "source": [
    "# COVID-19 Case Race\n",
    "> A race chart to see rising cases around the world\n",
    "\n",
    "- author: Hargun Oberoi\n",
    "- image: images/covid-overview.png\n",
    "- hide: false\n",
    "- badges: false"
   ]
  },
  {
   "cell_type": "code",
   "execution_count": 1,
   "id": "proof-material",
   "metadata": {
    "execution": {
     "iopub.execute_input": "2021-09-28T12:12:23.518128Z",
     "iopub.status.busy": "2021-09-28T12:12:23.517446Z",
     "iopub.status.idle": "2021-09-28T12:12:23.883496Z",
     "shell.execute_reply": "2021-09-28T12:12:23.882947Z"
    },
    "papermill": {
     "duration": 0.416276,
     "end_time": "2021-09-28T12:12:23.883713",
     "exception": false,
     "start_time": "2021-09-28T12:12:23.467437",
     "status": "completed"
    },
    "tags": []
   },
   "outputs": [],
   "source": [
    "#hide\n",
    "import numpy as np\n",
    "import pandas as pd\n",
    "from jinja2 import Template\n",
    "from IPython.display import HTML"
   ]
  },
  {
   "cell_type": "code",
   "execution_count": 2,
   "id": "developed-terminology",
   "metadata": {
    "execution": {
     "iopub.execute_input": "2021-09-28T12:12:23.952007Z",
     "iopub.status.busy": "2021-09-28T12:12:23.951282Z",
     "iopub.status.idle": "2021-09-28T12:12:23.953906Z",
     "shell.execute_reply": "2021-09-28T12:12:23.953223Z"
    },
    "papermill": {
     "duration": 0.038317,
     "end_time": "2021-09-28T12:12:23.954042",
     "exception": false,
     "start_time": "2021-09-28T12:12:23.915725",
     "status": "completed"
    },
    "tags": []
   },
   "outputs": [],
   "source": [
    "#hide\n",
    "\n",
    "# FETCH\n",
    "base_url = 'https://raw.githubusercontent.com/pratapvardhan/notebooks/master/covid19/'\n",
    "paths = {\n",
    "    'mapping': base_url + 'mapping_countries.csv',\n",
    "    'overview': base_url + 'overview.tpl'\n",
    "}"
   ]
  },
  {
   "cell_type": "code",
   "execution_count": 3,
   "id": "dynamic-saver",
   "metadata": {
    "execution": {
     "iopub.execute_input": "2021-09-28T12:12:24.038798Z",
     "iopub.status.busy": "2021-09-28T12:12:24.038099Z",
     "iopub.status.idle": "2021-09-28T12:12:24.041674Z",
     "shell.execute_reply": "2021-09-28T12:12:24.041132Z"
    },
    "papermill": {
     "duration": 0.051061,
     "end_time": "2021-09-28T12:12:24.041803",
     "exception": false,
     "start_time": "2021-09-28T12:12:23.990742",
     "status": "completed"
    },
    "tags": []
   },
   "outputs": [
    {
     "data": {
      "text/plain": [
       "'https://raw.githubusercontent.com/pratapvardhan/notebooks/master/covid19/mapping_countries.csv'"
      ]
     },
     "execution_count": 3,
     "metadata": {},
     "output_type": "execute_result"
    }
   ],
   "source": [
    "#hide\n",
    "paths['mapping']"
   ]
  },
  {
   "cell_type": "code",
   "execution_count": 4,
   "id": "urban-software",
   "metadata": {
    "execution": {
     "iopub.execute_input": "2021-09-28T12:12:24.123017Z",
     "iopub.status.busy": "2021-09-28T12:12:24.122421Z",
     "iopub.status.idle": "2021-09-28T12:12:24.124737Z",
     "shell.execute_reply": "2021-09-28T12:12:24.125302Z"
    },
    "papermill": {
     "duration": 0.04392,
     "end_time": "2021-09-28T12:12:24.125427",
     "exception": false,
     "start_time": "2021-09-28T12:12:24.081507",
     "status": "completed"
    },
    "tags": []
   },
   "outputs": [],
   "source": [
    "#hide\n",
    "def get_mappings(url):\n",
    "    df = pd.read_csv(url)\n",
    "    return {\n",
    "        'df': df,\n",
    "        'replace.country': dict(df.dropna(subset=['Name']).set_index('Country')['Name']),\n",
    "        'map.continent': dict(df.set_index('Name')['Continent'])\n",
    "    }"
   ]
  },
  {
   "cell_type": "code",
   "execution_count": 5,
   "id": "intimate-machinery",
   "metadata": {
    "execution": {
     "iopub.execute_input": "2021-09-28T12:12:24.191678Z",
     "iopub.status.busy": "2021-09-28T12:12:24.191134Z",
     "iopub.status.idle": "2021-09-28T12:12:24.222059Z",
     "shell.execute_reply": "2021-09-28T12:12:24.222672Z"
    },
    "papermill": {
     "duration": 0.066041,
     "end_time": "2021-09-28T12:12:24.222801",
     "exception": false,
     "start_time": "2021-09-28T12:12:24.156760",
     "status": "completed"
    },
    "tags": []
   },
   "outputs": [],
   "source": [
    "#hide\n",
    "mapping = get_mappings(paths['mapping'])"
   ]
  },
  {
   "cell_type": "code",
   "execution_count": 6,
   "id": "certified-tactics",
   "metadata": {
    "execution": {
     "iopub.execute_input": "2021-09-28T12:12:24.302625Z",
     "iopub.status.busy": "2021-09-28T12:12:24.302015Z",
     "iopub.status.idle": "2021-09-28T12:12:24.304052Z",
     "shell.execute_reply": "2021-09-28T12:12:24.304680Z"
    },
    "papermill": {
     "duration": 0.0449,
     "end_time": "2021-09-28T12:12:24.304811",
     "exception": false,
     "start_time": "2021-09-28T12:12:24.259911",
     "status": "completed"
    },
    "tags": []
   },
   "outputs": [],
   "source": [
    "#hide\n",
    "def get_template(path):\n",
    "    from urllib.parse import urlparse\n",
    "    if bool(urlparse(path).netloc):\n",
    "        from urllib.request import urlopen\n",
    "        return urlopen(path).read().decode('utf8')\n",
    "    return open(path).read()"
   ]
  },
  {
   "cell_type": "code",
   "execution_count": 7,
   "id": "realistic-blast",
   "metadata": {
    "execution": {
     "iopub.execute_input": "2021-09-28T12:12:24.382288Z",
     "iopub.status.busy": "2021-09-28T12:12:24.381402Z",
     "iopub.status.idle": "2021-09-28T12:12:24.385065Z",
     "shell.execute_reply": "2021-09-28T12:12:24.384126Z"
    },
    "papermill": {
     "duration": 0.044275,
     "end_time": "2021-09-28T12:12:24.385181",
     "exception": false,
     "start_time": "2021-09-28T12:12:24.340906",
     "status": "completed"
    },
    "tags": []
   },
   "outputs": [],
   "source": [
    "#hide\n",
    "def get_frame(name):\n",
    "    url = (\n",
    "        'https://raw.githubusercontent.com/CSSEGISandData/COVID-19/master/csse_covid_19_data/'\n",
    "        f'csse_covid_19_time_series/time_series_covid19_{name}_global.csv')\n",
    "    df = pd.read_csv(url)\n",
    "    # rename countries\n",
    "    df['Country/Region'] = df['Country/Region'].replace(mapping['replace.country'])\n",
    "    return df"
   ]
  },
  {
   "cell_type": "code",
   "execution_count": 8,
   "id": "affiliated-characterization",
   "metadata": {
    "execution": {
     "iopub.execute_input": "2021-09-28T12:12:24.455290Z",
     "iopub.status.busy": "2021-09-28T12:12:24.454733Z",
     "iopub.status.idle": "2021-09-28T12:12:24.457026Z",
     "shell.execute_reply": "2021-09-28T12:12:24.456583Z"
    },
    "papermill": {
     "duration": 0.038459,
     "end_time": "2021-09-28T12:12:24.457128",
     "exception": false,
     "start_time": "2021-09-28T12:12:24.418669",
     "status": "completed"
    },
    "tags": []
   },
   "outputs": [],
   "source": [
    "#hide\n",
    "def get_dates(df):\n",
    "    dt_cols = df.columns[~df.columns.isin(['Province/State', 'Country/Region', 'Lat', 'Long'])]\n",
    "    LAST_DATE_I = -1\n",
    "    # sometimes last column may be empty, then go backwards\n",
    "    for i in range(-1, -len(dt_cols), -1):\n",
    "        if not df[dt_cols[i]].fillna(0).eq(0).all():\n",
    "            LAST_DATE_I = i\n",
    "            break\n",
    "    return LAST_DATE_I, dt_cols"
   ]
  },
  {
   "cell_type": "code",
   "execution_count": 9,
   "id": "recent-optimization",
   "metadata": {
    "execution": {
     "iopub.execute_input": "2021-09-28T12:12:24.532319Z",
     "iopub.status.busy": "2021-09-28T12:12:24.531364Z",
     "iopub.status.idle": "2021-09-28T12:12:24.860974Z",
     "shell.execute_reply": "2021-09-28T12:12:24.860372Z"
    },
    "papermill": {
     "duration": 0.371768,
     "end_time": "2021-09-28T12:12:24.861109",
     "exception": false,
     "start_time": "2021-09-28T12:12:24.489341",
     "status": "completed"
    },
    "tags": []
   },
   "outputs": [],
   "source": [
    "#hide\n",
    "COL_REGION = 'Country/Region'\n",
    "# Confirmed, Recovered, Deaths\n",
    "df = get_frame('confirmed')\n",
    "# dft_: timeseries, dfc_: today country agg\n",
    "dft_cases = df\n",
    "dft_deaths = get_frame('deaths')\n",
    "dft_recovered = get_frame('recovered')\n",
    "LAST_DATE_I, dt_cols = get_dates(df)"
   ]
  },
  {
   "cell_type": "code",
   "execution_count": 10,
   "id": "absolute-copper",
   "metadata": {
    "execution": {
     "iopub.execute_input": "2021-09-28T12:12:24.937864Z",
     "iopub.status.busy": "2021-09-28T12:12:24.937111Z",
     "iopub.status.idle": "2021-09-28T12:12:24.939038Z",
     "shell.execute_reply": "2021-09-28T12:12:24.939457Z"
    },
    "papermill": {
     "duration": 0.041447,
     "end_time": "2021-09-28T12:12:24.939602",
     "exception": false,
     "start_time": "2021-09-28T12:12:24.898155",
     "status": "completed"
    },
    "tags": []
   },
   "outputs": [],
   "source": [
    "#hide\n",
    "LAST_DATE_I, dt_cols = get_dates(df)\n",
    "dt_today =dt_cols[LAST_DATE_I]\n",
    "# dt_5day = dt_cols[LAST_DATE_I - 5]\n",
    "dt_yday = dt_cols[LAST_DATE_I - 1]"
   ]
  },
  {
   "cell_type": "code",
   "execution_count": 11,
   "id": "restricted-sheriff",
   "metadata": {
    "execution": {
     "iopub.execute_input": "2021-09-28T12:12:25.007891Z",
     "iopub.status.busy": "2021-09-28T12:12:25.007283Z",
     "iopub.status.idle": "2021-09-28T12:12:25.014652Z",
     "shell.execute_reply": "2021-09-28T12:12:25.015339Z"
    },
    "papermill": {
     "duration": 0.044041,
     "end_time": "2021-09-28T12:12:25.015466",
     "exception": false,
     "start_time": "2021-09-28T12:12:24.971425",
     "status": "completed"
    },
    "tags": []
   },
   "outputs": [],
   "source": [
    "#hide\n",
    "dfc_cases = dft_cases.groupby(COL_REGION)[dt_today].sum()\n",
    "dfc_deaths = dft_deaths.groupby(COL_REGION)[dt_today].sum()\n",
    "# dfp_cases = dft_cases.groupby(COL_REGION)[dt_5day].sum()\n",
    "# dfp_deaths = dft_deaths.groupby(COL_REGION)[dt_5day].sum()\n",
    "dfp_cases = dft_cases.groupby(COL_REGION)[dt_yday].sum()\n",
    "dfp_deaths = dft_deaths.groupby(COL_REGION)[dt_yday].sum()"
   ]
  },
  {
   "cell_type": "code",
   "execution_count": 12,
   "id": "deluxe-hepatitis",
   "metadata": {
    "execution": {
     "iopub.execute_input": "2021-09-28T12:12:25.096740Z",
     "iopub.status.busy": "2021-09-28T12:12:25.096119Z",
     "iopub.status.idle": "2021-09-28T12:12:25.101039Z",
     "shell.execute_reply": "2021-09-28T12:12:25.101630Z"
    },
    "papermill": {
     "duration": 0.04947,
     "end_time": "2021-09-28T12:12:25.101758",
     "exception": false,
     "start_time": "2021-09-28T12:12:25.052288",
     "status": "completed"
    },
    "tags": []
   },
   "outputs": [],
   "source": [
    "#hide\n",
    "df_table = (pd.DataFrame(dict(Cases = dfc_cases, Deaths = dfc_deaths, PCases = dfp_cases, PDeaths = dfp_deaths))\n",
    "            .sort_values(by = ['Cases','Deaths'], ascending = [False, False])\n",
    "            .reset_index())"
   ]
  },
  {
   "cell_type": "code",
   "execution_count": 13,
   "id": "educational-chancellor",
   "metadata": {
    "execution": {
     "iopub.execute_input": "2021-09-28T12:12:25.192441Z",
     "iopub.status.busy": "2021-09-28T12:12:25.191864Z",
     "iopub.status.idle": "2021-09-28T12:12:25.199920Z",
     "shell.execute_reply": "2021-09-28T12:12:25.199407Z"
    },
    "papermill": {
     "duration": 0.062766,
     "end_time": "2021-09-28T12:12:25.200021",
     "exception": false,
     "start_time": "2021-09-28T12:12:25.137255",
     "status": "completed"
    },
    "tags": []
   },
   "outputs": [
    {
     "data": {
      "text/html": [
       "<div>\n",
       "<style scoped>\n",
       "    .dataframe tbody tr th:only-of-type {\n",
       "        vertical-align: middle;\n",
       "    }\n",
       "\n",
       "    .dataframe tbody tr th {\n",
       "        vertical-align: top;\n",
       "    }\n",
       "\n",
       "    .dataframe thead th {\n",
       "        text-align: right;\n",
       "    }\n",
       "</style>\n",
       "<table border=\"1\" class=\"dataframe\">\n",
       "  <thead>\n",
       "    <tr style=\"text-align: right;\">\n",
       "      <th></th>\n",
       "      <th>Country/Region</th>\n",
       "      <th>Cases</th>\n",
       "      <th>Deaths</th>\n",
       "      <th>PCases</th>\n",
       "      <th>PDeaths</th>\n",
       "      <th>Cases (+)</th>\n",
       "      <th>Deaths (+)</th>\n",
       "      <th>Fatality Rate</th>\n",
       "      <th>Continent</th>\n",
       "    </tr>\n",
       "  </thead>\n",
       "  <tbody>\n",
       "    <tr>\n",
       "      <th>0</th>\n",
       "      <td>US</td>\n",
       "      <td>43116442</td>\n",
       "      <td>690426</td>\n",
       "      <td>42931354</td>\n",
       "      <td>688032</td>\n",
       "      <td>185088</td>\n",
       "      <td>2394</td>\n",
       "      <td>1.60</td>\n",
       "      <td>North America</td>\n",
       "    </tr>\n",
       "    <tr>\n",
       "      <th>1</th>\n",
       "      <td>India</td>\n",
       "      <td>33697581</td>\n",
       "      <td>447373</td>\n",
       "      <td>33678786</td>\n",
       "      <td>447194</td>\n",
       "      <td>18795</td>\n",
       "      <td>179</td>\n",
       "      <td>1.33</td>\n",
       "      <td>Asia</td>\n",
       "    </tr>\n",
       "    <tr>\n",
       "      <th>2</th>\n",
       "      <td>Brazil</td>\n",
       "      <td>21366395</td>\n",
       "      <td>594653</td>\n",
       "      <td>21351972</td>\n",
       "      <td>594443</td>\n",
       "      <td>14423</td>\n",
       "      <td>210</td>\n",
       "      <td>2.78</td>\n",
       "      <td>South America</td>\n",
       "    </tr>\n",
       "    <tr>\n",
       "      <th>3</th>\n",
       "      <td>United Kingdom</td>\n",
       "      <td>7737941</td>\n",
       "      <td>136569</td>\n",
       "      <td>7700358</td>\n",
       "      <td>136529</td>\n",
       "      <td>37583</td>\n",
       "      <td>40</td>\n",
       "      <td>1.76</td>\n",
       "      <td>Europe</td>\n",
       "    </tr>\n",
       "    <tr>\n",
       "      <th>4</th>\n",
       "      <td>Russia</td>\n",
       "      <td>7334843</td>\n",
       "      <td>201015</td>\n",
       "      <td>7313112</td>\n",
       "      <td>200245</td>\n",
       "      <td>21731</td>\n",
       "      <td>770</td>\n",
       "      <td>2.74</td>\n",
       "      <td>Europe</td>\n",
       "    </tr>\n",
       "  </tbody>\n",
       "</table>\n",
       "</div>"
      ],
      "text/plain": [
       "   Country/Region     Cases  Deaths    PCases  PDeaths  Cases (+)  Deaths (+)  \\\n",
       "0              US  43116442  690426  42931354   688032     185088        2394   \n",
       "1           India  33697581  447373  33678786   447194      18795         179   \n",
       "2          Brazil  21366395  594653  21351972   594443      14423         210   \n",
       "3  United Kingdom   7737941  136569   7700358   136529      37583          40   \n",
       "4          Russia   7334843  201015   7313112   200245      21731         770   \n",
       "\n",
       "   Fatality Rate      Continent  \n",
       "0           1.60  North America  \n",
       "1           1.33           Asia  \n",
       "2           2.78  South America  \n",
       "3           1.76         Europe  \n",
       "4           2.74         Europe  "
      ]
     },
     "execution_count": 13,
     "metadata": {},
     "output_type": "execute_result"
    }
   ],
   "source": [
    "#hide\n",
    "for c in 'Cases, Deaths'.split(', '):\n",
    "    df_table[f'{c} (+)'] = (df_table[c] - df_table[f'P{c}']).clip(0)\n",
    "    #Clip ça veut dire, les chiffres negatif sont interdit\n",
    "df_table['Fatality Rate'] = (100* df_table['Deaths']/ df_table['Cases']).round(2)\n",
    "df_table['Continent'] = df_table['Country/Region'].map(mapping['map.continent'])\n",
    "df_table.head(5)"
   ]
  },
  {
   "cell_type": "code",
   "execution_count": 14,
   "id": "aboriginal-bulgaria",
   "metadata": {
    "execution": {
     "iopub.execute_input": "2021-09-28T12:12:25.268410Z",
     "iopub.status.busy": "2021-09-28T12:12:25.267891Z",
     "iopub.status.idle": "2021-09-28T12:12:25.270432Z",
     "shell.execute_reply": "2021-09-28T12:12:25.270015Z"
    },
    "papermill": {
     "duration": 0.039768,
     "end_time": "2021-09-28T12:12:25.270534",
     "exception": false,
     "start_time": "2021-09-28T12:12:25.230766",
     "status": "completed"
    },
    "tags": []
   },
   "outputs": [],
   "source": [
    "#hide\n",
    "#delete problematic countries from table\n",
    "df_table = df_table[~df_table['Country/Region'].isin(['Cape Verde', 'Cruise Ship', 'Kosovo'])]"
   ]
  },
  {
   "cell_type": "code",
   "execution_count": 15,
   "id": "fantastic-effect",
   "metadata": {
    "execution": {
     "iopub.execute_input": "2021-09-28T12:12:25.350910Z",
     "iopub.status.busy": "2021-09-28T12:12:25.350172Z",
     "iopub.status.idle": "2021-09-28T12:12:25.372851Z",
     "shell.execute_reply": "2021-09-28T12:12:25.373367Z"
    },
    "papermill": {
     "duration": 0.066448,
     "end_time": "2021-09-28T12:12:25.373497",
     "exception": false,
     "start_time": "2021-09-28T12:12:25.307049",
     "status": "completed"
    },
    "tags": []
   },
   "outputs": [
    {
     "data": {
      "text/html": [
       "<div>\n",
       "<style scoped>\n",
       "    .dataframe tbody tr th:only-of-type {\n",
       "        vertical-align: middle;\n",
       "    }\n",
       "\n",
       "    .dataframe tbody tr th {\n",
       "        vertical-align: top;\n",
       "    }\n",
       "\n",
       "    .dataframe thead th {\n",
       "        text-align: right;\n",
       "    }\n",
       "</style>\n",
       "<table border=\"1\" class=\"dataframe\">\n",
       "  <thead>\n",
       "    <tr style=\"text-align: right;\">\n",
       "      <th></th>\n",
       "      <th>Country/Region</th>\n",
       "      <th>Cases</th>\n",
       "      <th>Deaths</th>\n",
       "      <th>PCases</th>\n",
       "      <th>PDeaths</th>\n",
       "      <th>Cases (+)</th>\n",
       "      <th>Deaths (+)</th>\n",
       "      <th>Fatality Rate</th>\n",
       "      <th>Continent</th>\n",
       "    </tr>\n",
       "  </thead>\n",
       "  <tbody>\n",
       "    <tr>\n",
       "      <th>0</th>\n",
       "      <td>US</td>\n",
       "      <td>43116442</td>\n",
       "      <td>690426</td>\n",
       "      <td>42931354</td>\n",
       "      <td>688032</td>\n",
       "      <td>185088</td>\n",
       "      <td>2394</td>\n",
       "      <td>1.6</td>\n",
       "      <td>North America</td>\n",
       "    </tr>\n",
       "    <tr>\n",
       "      <th>1</th>\n",
       "      <td>India</td>\n",
       "      <td>33697581</td>\n",
       "      <td>447373</td>\n",
       "      <td>33678786</td>\n",
       "      <td>447194</td>\n",
       "      <td>18795</td>\n",
       "      <td>179</td>\n",
       "      <td>1.3</td>\n",
       "      <td>Asia</td>\n",
       "    </tr>\n",
       "    <tr>\n",
       "      <th>2</th>\n",
       "      <td>Brazil</td>\n",
       "      <td>21366395</td>\n",
       "      <td>594653</td>\n",
       "      <td>21351972</td>\n",
       "      <td>594443</td>\n",
       "      <td>14423</td>\n",
       "      <td>210</td>\n",
       "      <td>2.8</td>\n",
       "      <td>South America</td>\n",
       "    </tr>\n",
       "    <tr>\n",
       "      <th>3</th>\n",
       "      <td>United Kingdom</td>\n",
       "      <td>7737941</td>\n",
       "      <td>136569</td>\n",
       "      <td>7700358</td>\n",
       "      <td>136529</td>\n",
       "      <td>37583</td>\n",
       "      <td>40</td>\n",
       "      <td>1.8</td>\n",
       "      <td>Europe</td>\n",
       "    </tr>\n",
       "    <tr>\n",
       "      <th>4</th>\n",
       "      <td>Russia</td>\n",
       "      <td>7334843</td>\n",
       "      <td>201015</td>\n",
       "      <td>7313112</td>\n",
       "      <td>200245</td>\n",
       "      <td>21731</td>\n",
       "      <td>770</td>\n",
       "      <td>2.7</td>\n",
       "      <td>Europe</td>\n",
       "    </tr>\n",
       "  </tbody>\n",
       "</table>\n",
       "</div>"
      ],
      "text/plain": [
       "   Country/Region     Cases  Deaths    PCases  PDeaths  Cases (+)  Deaths (+)  \\\n",
       "0              US  43116442  690426  42931354   688032     185088        2394   \n",
       "1           India  33697581  447373  33678786   447194      18795         179   \n",
       "2          Brazil  21366395  594653  21351972   594443      14423         210   \n",
       "3  United Kingdom   7737941  136569   7700358   136529      37583          40   \n",
       "4          Russia   7334843  201015   7313112   200245      21731         770   \n",
       "\n",
       "   Fatality Rate      Continent  \n",
       "0            1.6  North America  \n",
       "1            1.3           Asia  \n",
       "2            2.8  South America  \n",
       "3            1.8         Europe  \n",
       "4            2.7         Europe  "
      ]
     },
     "execution_count": 15,
     "metadata": {},
     "output_type": "execute_result"
    }
   ],
   "source": [
    "#hide\n",
    "df_table = (pd.DataFrame(dict(Cases=dfc_cases, Deaths=dfc_deaths, PCases=dfp_cases, PDeaths=dfp_deaths))\n",
    "             .sort_values(by=['Cases', 'Deaths'], ascending=[False, False])\n",
    "             .reset_index())\n",
    "df_table.rename(columns={'index': 'Country/Region'}, inplace=True)\n",
    "for c in 'Cases, Deaths'.split(', '):\n",
    "    df_table[f'{c} (+)'] = (df_table[c] - df_table[f'P{c}']).clip(0)  # DATA BUG\n",
    "df_table['Fatality Rate'] = (100 * df_table['Deaths'] / df_table['Cases']).round(1)\n",
    "df_table['Continent'] = df_table['Country/Region'].map(mapping['map.continent'])\n",
    "df_table.head(5)"
   ]
  },
  {
   "cell_type": "code",
   "execution_count": 16,
   "id": "fewer-occasion",
   "metadata": {
    "execution": {
     "iopub.execute_input": "2021-09-28T12:12:25.453869Z",
     "iopub.status.busy": "2021-09-28T12:12:25.453080Z",
     "iopub.status.idle": "2021-09-28T12:12:25.456406Z",
     "shell.execute_reply": "2021-09-28T12:12:25.456879Z"
    },
    "papermill": {
     "duration": 0.045849,
     "end_time": "2021-09-28T12:12:25.456994",
     "exception": false,
     "start_time": "2021-09-28T12:12:25.411145",
     "status": "completed"
    },
    "tags": []
   },
   "outputs": [],
   "source": [
    "#hide\n",
    "#delete problematic countries from table\n",
    "df_table = df_table[~df_table['Country/Region'].isin(['Cape Verde', 'Cruise Ship', 'Kosovo'])]"
   ]
  },
  {
   "cell_type": "code",
   "execution_count": 17,
   "id": "related-center",
   "metadata": {
    "execution": {
     "iopub.execute_input": "2021-09-28T12:12:25.534054Z",
     "iopub.status.busy": "2021-09-28T12:12:25.533534Z",
     "iopub.status.idle": "2021-09-28T12:12:25.542283Z",
     "shell.execute_reply": "2021-09-28T12:12:25.541691Z"
    },
    "papermill": {
     "duration": 0.053986,
     "end_time": "2021-09-28T12:12:25.542432",
     "exception": false,
     "start_time": "2021-09-28T12:12:25.488446",
     "status": "completed"
    },
    "tags": []
   },
   "outputs": [],
   "source": [
    "#hide\n",
    "metrics = [df_table.columns[index] for index in [1,2,5,6]]\n",
    "# s_china = df_table[df_table['Country/Region'].eq('China')][metrics].sum().add_prefix('China ')\n",
    "s_us = df_table[df_table['Country/Region'].eq('US')][metrics].sum().add_prefix('US ')\n",
    "s_eu = df_table[df_table['Continent'].eq('Europe')][metrics].sum().add_prefix('EU ')\n",
    "s_ind = df_table[df_table['Country/Region'].eq('India')][metrics].sum().add_prefix('India ')\n",
    "summary = {'updated': pd.to_datetime(dt_today), 'since': pd.to_datetime(dt_yday)}\n",
    "summary = {'updated': pd.to_datetime(dt_today), 'since': pd.to_datetime(dt_yday)}\n",
    "summary = {**summary, **df_table[metrics].sum(), **s_ind, **s_us, **s_eu}"
   ]
  },
  {
   "cell_type": "code",
   "execution_count": 18,
   "id": "engaging-syndrome",
   "metadata": {
    "execution": {
     "iopub.execute_input": "2021-09-28T12:12:25.633935Z",
     "iopub.status.busy": "2021-09-28T12:12:25.633295Z",
     "iopub.status.idle": "2021-09-28T12:12:25.648951Z",
     "shell.execute_reply": "2021-09-28T12:12:25.649459Z"
    },
    "papermill": {
     "duration": 0.061044,
     "end_time": "2021-09-28T12:12:25.649617",
     "exception": false,
     "start_time": "2021-09-28T12:12:25.588573",
     "status": "completed"
    },
    "tags": []
   },
   "outputs": [],
   "source": [
    "#hide\n",
    "dft_ct_new_cases = dft_cases.groupby(COL_REGION)[dt_cols].sum().diff(axis=1).fillna(0).astype(int)"
   ]
  },
  {
   "cell_type": "code",
   "execution_count": 19,
   "id": "neutral-assignment",
   "metadata": {
    "execution": {
     "iopub.execute_input": "2021-09-28T12:12:25.726142Z",
     "iopub.status.busy": "2021-09-28T12:12:25.725601Z",
     "iopub.status.idle": "2021-09-28T12:12:25.730300Z",
     "shell.execute_reply": "2021-09-28T12:12:25.729882Z"
    },
    "papermill": {
     "duration": 0.043088,
     "end_time": "2021-09-28T12:12:25.730405",
     "exception": false,
     "start_time": "2021-09-28T12:12:25.687317",
     "status": "completed"
    },
    "tags": []
   },
   "outputs": [],
   "source": [
    "#hide\n",
    "everydaycases = dft_ct_new_cases.cumsum(axis=1)"
   ]
  },
  {
   "cell_type": "code",
   "execution_count": 20,
   "id": "parliamentary-calgary",
   "metadata": {
    "execution": {
     "iopub.execute_input": "2021-09-28T12:12:25.796167Z",
     "iopub.status.busy": "2021-09-28T12:12:25.795643Z",
     "iopub.status.idle": "2021-09-28T12:12:26.386461Z",
     "shell.execute_reply": "2021-09-28T12:12:26.385942Z"
    },
    "papermill": {
     "duration": 0.624766,
     "end_time": "2021-09-28T12:12:26.386596",
     "exception": false,
     "start_time": "2021-09-28T12:12:25.761830",
     "status": "completed"
    },
    "tags": []
   },
   "outputs": [],
   "source": [
    "#hide\n",
    "import pandas as pd\n",
    "import matplotlib.pyplot as plt\n",
    "import matplotlib.ticker as ticker\n",
    "import matplotlib.animation as animation\n",
    "from IPython.display import HTML"
   ]
  },
  {
   "cell_type": "code",
   "execution_count": 21,
   "id": "lasting-extraction",
   "metadata": {
    "execution": {
     "iopub.execute_input": "2021-09-28T12:12:26.469440Z",
     "iopub.status.busy": "2021-09-28T12:12:26.468751Z",
     "iopub.status.idle": "2021-09-28T12:12:26.475453Z",
     "shell.execute_reply": "2021-09-28T12:12:26.474913Z"
    },
    "papermill": {
     "duration": 0.054565,
     "end_time": "2021-09-28T12:12:26.475614",
     "exception": false,
     "start_time": "2021-09-28T12:12:26.421049",
     "status": "completed"
    },
    "tags": []
   },
   "outputs": [],
   "source": [
    "#hide\n",
    "t = everydaycases.stack()"
   ]
  },
  {
   "cell_type": "code",
   "execution_count": 22,
   "id": "premier-sleeve",
   "metadata": {
    "execution": {
     "iopub.execute_input": "2021-09-28T12:12:26.561213Z",
     "iopub.status.busy": "2021-09-28T12:12:26.560559Z",
     "iopub.status.idle": "2021-09-28T12:12:26.570127Z",
     "shell.execute_reply": "2021-09-28T12:12:26.569658Z"
    },
    "papermill": {
     "duration": 0.055543,
     "end_time": "2021-09-28T12:12:26.570248",
     "exception": false,
     "start_time": "2021-09-28T12:12:26.514705",
     "status": "completed"
    },
    "tags": []
   },
   "outputs": [],
   "source": [
    "#hide\n",
    "g = t.reset_index(['Country/Region'])"
   ]
  },
  {
   "cell_type": "code",
   "execution_count": 23,
   "id": "distributed-pittsburgh",
   "metadata": {
    "execution": {
     "iopub.execute_input": "2021-09-28T12:12:26.652938Z",
     "iopub.status.busy": "2021-09-28T12:12:26.652305Z",
     "iopub.status.idle": "2021-09-28T12:12:26.655140Z",
     "shell.execute_reply": "2021-09-28T12:12:26.654574Z"
    },
    "papermill": {
     "duration": 0.047022,
     "end_time": "2021-09-28T12:12:26.655263",
     "exception": false,
     "start_time": "2021-09-28T12:12:26.608241",
     "status": "completed"
    },
    "tags": []
   },
   "outputs": [],
   "source": [
    "#hide\n",
    "g.index.name = 'date'"
   ]
  },
  {
   "cell_type": "code",
   "execution_count": 24,
   "id": "naked-donor",
   "metadata": {
    "execution": {
     "iopub.execute_input": "2021-09-28T12:12:26.734825Z",
     "iopub.status.busy": "2021-09-28T12:12:26.734034Z",
     "iopub.status.idle": "2021-09-28T12:12:26.736338Z",
     "shell.execute_reply": "2021-09-28T12:12:26.736813Z"
    },
    "papermill": {
     "duration": 0.043975,
     "end_time": "2021-09-28T12:12:26.736946",
     "exception": false,
     "start_time": "2021-09-28T12:12:26.692971",
     "status": "completed"
    },
    "tags": []
   },
   "outputs": [],
   "source": [
    "# #hide\n",
    "# g = g.reset_index(['date'])"
   ]
  },
  {
   "cell_type": "code",
   "execution_count": 25,
   "id": "incomplete-mustang",
   "metadata": {
    "execution": {
     "iopub.execute_input": "2021-09-28T12:12:26.814066Z",
     "iopub.status.busy": "2021-09-28T12:12:26.813429Z",
     "iopub.status.idle": "2021-09-28T12:12:26.815475Z",
     "shell.execute_reply": "2021-09-28T12:12:26.816113Z"
    },
    "papermill": {
     "duration": 0.040591,
     "end_time": "2021-09-28T12:12:26.816256",
     "exception": false,
     "start_time": "2021-09-28T12:12:26.775665",
     "status": "completed"
    },
    "tags": []
   },
   "outputs": [],
   "source": [
    "#hide\n",
    "# g.head()"
   ]
  },
  {
   "cell_type": "code",
   "execution_count": 26,
   "id": "specific-kruger",
   "metadata": {
    "execution": {
     "iopub.execute_input": "2021-09-28T12:12:26.891363Z",
     "iopub.status.busy": "2021-09-28T12:12:26.890765Z",
     "iopub.status.idle": "2021-09-28T12:12:26.892861Z",
     "shell.execute_reply": "2021-09-28T12:12:26.893337Z"
    },
    "papermill": {
     "duration": 0.041282,
     "end_time": "2021-09-28T12:12:26.893536",
     "exception": false,
     "start_time": "2021-09-28T12:12:26.852254",
     "status": "completed"
    },
    "tags": []
   },
   "outputs": [],
   "source": [
    "#hide\n",
    "# g.columns = ['date','country','cases']"
   ]
  },
  {
   "cell_type": "code",
   "execution_count": 27,
   "id": "tender-conversion",
   "metadata": {
    "execution": {
     "iopub.execute_input": "2021-09-28T12:12:26.986101Z",
     "iopub.status.busy": "2021-09-28T12:12:26.985510Z",
     "iopub.status.idle": "2021-09-28T12:12:26.988163Z",
     "shell.execute_reply": "2021-09-28T12:12:26.987652Z"
    },
    "papermill": {
     "duration": 0.055216,
     "end_time": "2021-09-28T12:12:26.988277",
     "exception": false,
     "start_time": "2021-09-28T12:12:26.933061",
     "status": "completed"
    },
    "tags": []
   },
   "outputs": [],
   "source": [
    "#hide\n",
    "# g['continent'] = g.country"
   ]
  },
  {
   "cell_type": "code",
   "execution_count": 28,
   "id": "substantial-wilderness",
   "metadata": {
    "execution": {
     "iopub.execute_input": "2021-09-28T12:12:27.068587Z",
     "iopub.status.busy": "2021-09-28T12:12:27.067948Z",
     "iopub.status.idle": "2021-09-28T12:12:27.070700Z",
     "shell.execute_reply": "2021-09-28T12:12:27.069929Z"
    },
    "papermill": {
     "duration": 0.044123,
     "end_time": "2021-09-28T12:12:27.070842",
     "exception": false,
     "start_time": "2021-09-28T12:12:27.026719",
     "status": "completed"
    },
    "tags": []
   },
   "outputs": [],
   "source": [
    "#hide\n",
    "# cols = list(g.columns.values)"
   ]
  },
  {
   "cell_type": "code",
   "execution_count": 29,
   "id": "solved-farming",
   "metadata": {
    "execution": {
     "iopub.execute_input": "2021-09-28T12:12:27.148446Z",
     "iopub.status.busy": "2021-09-28T12:12:27.147693Z",
     "iopub.status.idle": "2021-09-28T12:12:27.150682Z",
     "shell.execute_reply": "2021-09-28T12:12:27.149947Z"
    },
    "papermill": {
     "duration": 0.04395,
     "end_time": "2021-09-28T12:12:27.150830",
     "exception": false,
     "start_time": "2021-09-28T12:12:27.106880",
     "status": "completed"
    },
    "tags": []
   },
   "outputs": [],
   "source": [
    "#hide\n",
    "# cols.insert(0, cols.pop())"
   ]
  },
  {
   "cell_type": "code",
   "execution_count": 30,
   "id": "executed-adoption",
   "metadata": {
    "execution": {
     "iopub.execute_input": "2021-09-28T12:12:27.234314Z",
     "iopub.status.busy": "2021-09-28T12:12:27.233553Z",
     "iopub.status.idle": "2021-09-28T12:12:27.235236Z",
     "shell.execute_reply": "2021-09-28T12:12:27.235846Z"
    },
    "papermill": {
     "duration": 0.04327,
     "end_time": "2021-09-28T12:12:27.235980",
     "exception": false,
     "start_time": "2021-09-28T12:12:27.192710",
     "status": "completed"
    },
    "tags": []
   },
   "outputs": [],
   "source": [
    "#hide\n",
    "# g = g[cols]"
   ]
  },
  {
   "cell_type": "code",
   "execution_count": 31,
   "id": "subject-dublin",
   "metadata": {
    "execution": {
     "iopub.execute_input": "2021-09-28T12:12:27.314639Z",
     "iopub.status.busy": "2021-09-28T12:12:27.313800Z",
     "iopub.status.idle": "2021-09-28T12:12:27.316366Z",
     "shell.execute_reply": "2021-09-28T12:12:27.315764Z"
    },
    "papermill": {
     "duration": 0.043488,
     "end_time": "2021-09-28T12:12:27.316497",
     "exception": false,
     "start_time": "2021-09-28T12:12:27.273009",
     "status": "completed"
    },
    "tags": []
   },
   "outputs": [],
   "source": [
    "#hide\n",
    "# g['continent'] = g['continent'].map(mapping['map.continent'])"
   ]
  },
  {
   "cell_type": "code",
   "execution_count": 32,
   "id": "freelance-scout",
   "metadata": {
    "execution": {
     "iopub.execute_input": "2021-09-28T12:12:27.386563Z",
     "iopub.status.busy": "2021-09-28T12:12:27.386014Z",
     "iopub.status.idle": "2021-09-28T12:12:27.387963Z",
     "shell.execute_reply": "2021-09-28T12:12:27.388418Z"
    },
    "papermill": {
     "duration": 0.037458,
     "end_time": "2021-09-28T12:12:27.388558",
     "exception": false,
     "start_time": "2021-09-28T12:12:27.351100",
     "status": "completed"
    },
    "tags": []
   },
   "outputs": [],
   "source": [
    "#hide\n",
    "# g.head()"
   ]
  },
  {
   "cell_type": "code",
   "execution_count": 33,
   "id": "limited-engine",
   "metadata": {
    "execution": {
     "iopub.execute_input": "2021-09-28T12:12:27.466180Z",
     "iopub.status.busy": "2021-09-28T12:12:27.465427Z",
     "iopub.status.idle": "2021-09-28T12:12:27.468282Z",
     "shell.execute_reply": "2021-09-28T12:12:27.467713Z"
    },
    "papermill": {
     "duration": 0.044562,
     "end_time": "2021-09-28T12:12:27.468401",
     "exception": false,
     "start_time": "2021-09-28T12:12:27.423839",
     "status": "completed"
    },
    "tags": []
   },
   "outputs": [],
   "source": [
    "# hide\n",
    "# g['date'] = g['date'].astype('datetime64[ns]')"
   ]
  },
  {
   "cell_type": "code",
   "execution_count": 34,
   "id": "sophisticated-supervisor",
   "metadata": {
    "execution": {
     "iopub.execute_input": "2021-09-28T12:12:27.546111Z",
     "iopub.status.busy": "2021-09-28T12:12:27.545335Z",
     "iopub.status.idle": "2021-09-28T12:12:27.548329Z",
     "shell.execute_reply": "2021-09-28T12:12:27.547816Z"
    },
    "papermill": {
     "duration": 0.043204,
     "end_time": "2021-09-28T12:12:27.548439",
     "exception": false,
     "start_time": "2021-09-28T12:12:27.505235",
     "status": "completed"
    },
    "tags": []
   },
   "outputs": [],
   "source": [
    "#hide\n",
    "# g['date'] = g.date.dt.dayofyear"
   ]
  },
  {
   "cell_type": "code",
   "execution_count": 35,
   "id": "inside-dubai",
   "metadata": {
    "execution": {
     "iopub.execute_input": "2021-09-28T12:12:27.617370Z",
     "iopub.status.busy": "2021-09-28T12:12:27.616806Z",
     "iopub.status.idle": "2021-09-28T12:12:27.619784Z",
     "shell.execute_reply": "2021-09-28T12:12:27.619226Z"
    },
    "papermill": {
     "duration": 0.036624,
     "end_time": "2021-09-28T12:12:27.619909",
     "exception": false,
     "start_time": "2021-09-28T12:12:27.583285",
     "status": "completed"
    },
    "tags": []
   },
   "outputs": [],
   "source": [
    "#hide\n",
    "# g = g.rename(columns= {'continent':'group','country':'name','cases':'value'})"
   ]
  },
  {
   "cell_type": "code",
   "execution_count": 36,
   "id": "fleet-motorcycle",
   "metadata": {
    "execution": {
     "iopub.execute_input": "2021-09-28T12:12:27.693566Z",
     "iopub.status.busy": "2021-09-28T12:12:27.692865Z",
     "iopub.status.idle": "2021-09-28T12:12:27.695767Z",
     "shell.execute_reply": "2021-09-28T12:12:27.695191Z"
    },
    "papermill": {
     "duration": 0.044518,
     "end_time": "2021-09-28T12:12:27.695890",
     "exception": false,
     "start_time": "2021-09-28T12:12:27.651372",
     "status": "completed"
    },
    "tags": []
   },
   "outputs": [],
   "source": [
    "#hide\n",
    "# cols = ['name','group','day','value']"
   ]
  },
  {
   "cell_type": "code",
   "execution_count": 37,
   "id": "continued-sleeping",
   "metadata": {
    "execution": {
     "iopub.execute_input": "2021-09-28T12:12:27.778208Z",
     "iopub.status.busy": "2021-09-28T12:12:27.777530Z",
     "iopub.status.idle": "2021-09-28T12:12:27.780337Z",
     "shell.execute_reply": "2021-09-28T12:12:27.779759Z"
    },
    "papermill": {
     "duration": 0.046032,
     "end_time": "2021-09-28T12:12:27.780457",
     "exception": false,
     "start_time": "2021-09-28T12:12:27.734425",
     "status": "completed"
    },
    "tags": []
   },
   "outputs": [],
   "source": [
    "#hide\n",
    "# g.rename(columns= {'date':'day'},inplace = True)"
   ]
  },
  {
   "cell_type": "code",
   "execution_count": 38,
   "id": "major-fight",
   "metadata": {
    "execution": {
     "iopub.execute_input": "2021-09-28T12:12:27.856490Z",
     "iopub.status.busy": "2021-09-28T12:12:27.855920Z",
     "iopub.status.idle": "2021-09-28T12:12:27.857775Z",
     "shell.execute_reply": "2021-09-28T12:12:27.858207Z"
    },
    "papermill": {
     "duration": 0.040074,
     "end_time": "2021-09-28T12:12:27.858322",
     "exception": false,
     "start_time": "2021-09-28T12:12:27.818248",
     "status": "completed"
    },
    "tags": []
   },
   "outputs": [],
   "source": [
    "#hide\n",
    "# g = g[cols]"
   ]
  },
  {
   "cell_type": "code",
   "execution_count": 39,
   "id": "structured-mobile",
   "metadata": {
    "execution": {
     "iopub.execute_input": "2021-09-28T12:12:27.926462Z",
     "iopub.status.busy": "2021-09-28T12:12:27.925774Z",
     "iopub.status.idle": "2021-09-28T12:12:27.928419Z",
     "shell.execute_reply": "2021-09-28T12:12:27.927911Z"
    },
    "papermill": {
     "duration": 0.037539,
     "end_time": "2021-09-28T12:12:27.928562",
     "exception": false,
     "start_time": "2021-09-28T12:12:27.891023",
     "status": "completed"
    },
    "tags": []
   },
   "outputs": [],
   "source": [
    "# #hide\n",
    "# g = g[g.group.notna()]"
   ]
  },
  {
   "cell_type": "code",
   "execution_count": 40,
   "id": "determined-closing",
   "metadata": {
    "execution": {
     "iopub.execute_input": "2021-09-28T12:12:28.011145Z",
     "iopub.status.busy": "2021-09-28T12:12:28.010479Z",
     "iopub.status.idle": "2021-09-28T12:12:28.012887Z",
     "shell.execute_reply": "2021-09-28T12:12:28.013441Z"
    },
    "papermill": {
     "duration": 0.045623,
     "end_time": "2021-09-28T12:12:28.013591",
     "exception": false,
     "start_time": "2021-09-28T12:12:27.967968",
     "status": "completed"
    },
    "tags": []
   },
   "outputs": [],
   "source": [
    "# #hide\n",
    "# colors = dict(zip(\n",
    "#     [\"Oceania\", \"Europe\", \"Asia\", \"South America\", \"Middle East\", \"North America\", \"Africa\"],\n",
    "#     [\"#adb0ff\", \"#ffb3ff\", \"#90d595\", \"#e48381\", \"#aafbff\", \"#f7bb5f\", \"#eafb50\"]\n",
    "# ))\n",
    "# group_lk = g.set_index('name')['group'].to_dict()"
   ]
  },
  {
   "cell_type": "code",
   "execution_count": null,
   "id": "gross-drinking",
   "metadata": {
    "papermill": {
     "duration": 0.047509,
     "end_time": "2021-09-28T12:12:28.099190",
     "exception": false,
     "start_time": "2021-09-28T12:12:28.051681",
     "status": "completed"
    },
    "tags": []
   },
   "outputs": [],
   "source": []
  },
  {
   "cell_type": "code",
   "execution_count": 41,
   "id": "subject-macintosh",
   "metadata": {
    "execution": {
     "iopub.execute_input": "2021-09-28T12:12:28.169664Z",
     "iopub.status.busy": "2021-09-28T12:12:28.169132Z",
     "iopub.status.idle": "2021-09-28T12:12:28.171368Z",
     "shell.execute_reply": "2021-09-28T12:12:28.170922Z"
    },
    "papermill": {
     "duration": 0.039197,
     "end_time": "2021-09-28T12:12:28.171473",
     "exception": false,
     "start_time": "2021-09-28T12:12:28.132276",
     "status": "completed"
    },
    "tags": []
   },
   "outputs": [],
   "source": [
    "# #hide\n",
    "# fig, ax = plt.subplots(figsize=(15, 8))\n",
    "\n",
    "# def draw_barchart(current_day):\n",
    "#     dff = g[g['day'].eq(current_day)].sort_values(by='value', ascending=True).tail(10)\n",
    "#     ax.clear()\n",
    "#     ax.barh(dff['name'], dff['value'], color=[colors[group_lk[x]] for x in dff['name']])\n",
    "#     dx = dff['value'].max() / 200\n",
    "    \n",
    "#     for i, (value, name) in enumerate(zip(dff['value'], dff['name'])):\n",
    "#         ax.text(value-dx, i,     name,           size=14, weight=600, ha='right', va='bottom')\n",
    "#         ax.text(value-dx, i-.25, group_lk[name], size=10, color='#444444', ha='right', va='baseline')\n",
    "#         ax.text(value+dx, i,     f'{value:,.0f}',  size=14, ha='left',  va='center')\n",
    "#     ax.text(1, 0.4, current_day, transform=ax.transAxes, color='#777777', size=46, ha='right', weight=800)\n",
    "#     ax.text(0, 1.06, 'Population (thousands)', transform=ax.transAxes, size=12, color='#777777')\n",
    "#     ax.xaxis.set_major_formatter(ticker.StrMethodFormatter('{x:,.0f}'))\n",
    "#     ax.xaxis.set_ticks_position('top')\n",
    "#     ax.tick_params(axis='x', colors='#777777', labelsize=12)\n",
    "#     ax.set_yticks([])\n",
    "#     ax.margins(0, 0.01)\n",
    "#     ax.grid(which='major', axis='x', linestyle='-')\n",
    "#     ax.set_axisbelow(True)\n",
    "    \n",
    "#     ax.text(0, 1.15, 'Coronavirus',\n",
    "#             transform=ax.transAxes, size=24, weight=600, ha='left', va='top')\n",
    "# #     ax.text(1, 0, 'by @pratapvardhan; credit @jburnmurdoch', transform=ax.transAxes, color='#777777', ha='right',\n",
    "# #             bbox=dict(facecolor='white', alpha=0.8, edgecolor='white'))\n",
    "#     plt.box(False)"
   ]
  },
  {
   "cell_type": "code",
   "execution_count": 42,
   "id": "sexual-wages",
   "metadata": {
    "execution": {
     "iopub.execute_input": "2021-09-28T12:12:28.301725Z",
     "iopub.status.busy": "2021-09-28T12:12:28.301013Z",
     "iopub.status.idle": "2021-09-28T12:12:28.306840Z",
     "shell.execute_reply": "2021-09-28T12:12:28.307888Z"
    },
    "papermill": {
     "duration": 0.09717,
     "end_time": "2021-09-28T12:12:28.308104",
     "exception": false,
     "start_time": "2021-09-28T12:12:28.210934",
     "status": "completed"
    },
    "tags": []
   },
   "outputs": [],
   "source": [
    "# #hide_input\n",
    "# fig, ax = plt.subplots(figsize=(15, 8))\n",
    "# animator = animation.FuncAnimation(fig, draw_barchart, frames=range(g.day.values.min(), g.day.values.max()))\n",
    "# HTML(animator.to_jshtml())\n",
    "# # or use animator.to_html5_video() or animator.save() "
   ]
  },
  {
   "cell_type": "code",
   "execution_count": null,
   "id": "australian-container",
   "metadata": {
    "papermill": {
     "duration": 0.057849,
     "end_time": "2021-09-28T12:12:28.406912",
     "exception": false,
     "start_time": "2021-09-28T12:12:28.349063",
     "status": "completed"
    },
    "tags": []
   },
   "outputs": [],
   "source": []
  },
  {
   "cell_type": "code",
   "execution_count": null,
   "id": "mediterranean-pontiac",
   "metadata": {
    "papermill": {
     "duration": 0.03987,
     "end_time": "2021-09-28T12:12:28.493938",
     "exception": false,
     "start_time": "2021-09-28T12:12:28.454068",
     "status": "completed"
    },
    "tags": []
   },
   "outputs": [],
   "source": []
  },
  {
   "cell_type": "code",
   "execution_count": null,
   "id": "aging-legislature",
   "metadata": {
    "papermill": {
     "duration": 0.038033,
     "end_time": "2021-09-28T12:12:28.571344",
     "exception": false,
     "start_time": "2021-09-28T12:12:28.533311",
     "status": "completed"
    },
    "tags": []
   },
   "outputs": [],
   "source": []
  }
 ],
 "metadata": {
  "kernelspec": {
   "display_name": "Python 3",
   "language": "python",
   "name": "python3"
  },
  "language_info": {
   "codemirror_mode": {
    "name": "ipython",
    "version": 3
   },
   "file_extension": ".py",
   "mimetype": "text/x-python",
   "name": "python",
   "nbconvert_exporter": "python",
   "pygments_lexer": "ipython3",
   "version": "3.6.15"
  },
  "papermill": {
   "duration": 6.592956,
   "end_time": "2021-09-28T12:12:28.917998",
   "environment_variables": {},
   "exception": null,
   "input_path": "2020-03-21-covid19exp.ipynb",
   "output_path": "2020-03-21-covid19exp.ipynb",
   "parameters": {},
   "start_time": "2021-09-28T12:12:22.325042",
   "version": "2.0.0"
  }
 },
 "nbformat": 4,
 "nbformat_minor": 5
}