{
 "cells": [
  {
   "cell_type": "markdown",
   "id": "muslim-click",
   "metadata": {
    "papermill": {
     "duration": 0.04489,
     "end_time": "2021-02-12T12:10:13.207962",
     "exception": false,
     "start_time": "2021-02-12T12:10:13.163072",
     "status": "completed"
    },
    "tags": []
   },
   "source": [
    "# COVID-19 Case Race\n",
    "> A race chart to see rising cases around the world\n",
    "\n",
    "- author: Hargun Oberoi\n",
    "- image: images/covid-overview.png\n",
    "- hide: false\n",
    "- badges: false"
   ]
  },
  {
   "cell_type": "code",
   "execution_count": 1,
   "id": "proof-material",
   "metadata": {
    "execution": {
     "iopub.execute_input": "2021-02-12T12:10:13.296107Z",
     "iopub.status.busy": "2021-02-12T12:10:13.295422Z",
     "iopub.status.idle": "2021-02-12T12:10:13.672864Z",
     "shell.execute_reply": "2021-02-12T12:10:13.673400Z"
    },
    "papermill": {
     "duration": 0.42518,
     "end_time": "2021-02-12T12:10:13.673600",
     "exception": false,
     "start_time": "2021-02-12T12:10:13.248420",
     "status": "completed"
    },
    "tags": []
   },
   "outputs": [],
   "source": [
    "#hide\n",
    "import numpy as np\n",
    "import pandas as pd\n",
    "from jinja2 import Template\n",
    "from IPython.display import HTML"
   ]
  },
  {
   "cell_type": "code",
   "execution_count": 2,
   "id": "developed-terminology",
   "metadata": {
    "execution": {
     "iopub.execute_input": "2021-02-12T12:10:13.757527Z",
     "iopub.status.busy": "2021-02-12T12:10:13.756855Z",
     "iopub.status.idle": "2021-02-12T12:10:13.759165Z",
     "shell.execute_reply": "2021-02-12T12:10:13.759726Z"
    },
    "papermill": {
     "duration": 0.047723,
     "end_time": "2021-02-12T12:10:13.759866",
     "exception": false,
     "start_time": "2021-02-12T12:10:13.712143",
     "status": "completed"
    },
    "tags": []
   },
   "outputs": [],
   "source": [
    "#hide\n",
    "\n",
    "# FETCH\n",
    "base_url = 'https://raw.githubusercontent.com/pratapvardhan/notebooks/master/covid19/'\n",
    "paths = {\n",
    "    'mapping': base_url + 'mapping_countries.csv',\n",
    "    'overview': base_url + 'overview.tpl'\n",
    "}"
   ]
  },
  {
   "cell_type": "code",
   "execution_count": 3,
   "id": "dynamic-saver",
   "metadata": {
    "execution": {
     "iopub.execute_input": "2021-02-12T12:10:13.849125Z",
     "iopub.status.busy": "2021-02-12T12:10:13.848423Z",
     "iopub.status.idle": "2021-02-12T12:10:13.852634Z",
     "shell.execute_reply": "2021-02-12T12:10:13.853396Z"
    },
    "papermill": {
     "duration": 0.05474,
     "end_time": "2021-02-12T12:10:13.853575",
     "exception": false,
     "start_time": "2021-02-12T12:10:13.798835",
     "status": "completed"
    },
    "tags": []
   },
   "outputs": [
    {
     "data": {
      "text/plain": [
       "'https://raw.githubusercontent.com/pratapvardhan/notebooks/master/covid19/mapping_countries.csv'"
      ]
     },
     "execution_count": 3,
     "metadata": {},
     "output_type": "execute_result"
    }
   ],
   "source": [
    "#hide\n",
    "paths['mapping']"
   ]
  },
  {
   "cell_type": "code",
   "execution_count": 4,
   "id": "urban-software",
   "metadata": {
    "execution": {
     "iopub.execute_input": "2021-02-12T12:10:13.936920Z",
     "iopub.status.busy": "2021-02-12T12:10:13.936134Z",
     "iopub.status.idle": "2021-02-12T12:10:13.938901Z",
     "shell.execute_reply": "2021-02-12T12:10:13.938199Z"
    },
    "papermill": {
     "duration": 0.047288,
     "end_time": "2021-02-12T12:10:13.939099",
     "exception": false,
     "start_time": "2021-02-12T12:10:13.891811",
     "status": "completed"
    },
    "tags": []
   },
   "outputs": [],
   "source": [
    "#hide\n",
    "def get_mappings(url):\n",
    "    df = pd.read_csv(url)\n",
    "    return {\n",
    "        'df': df,\n",
    "        'replace.country': dict(df.dropna(subset=['Name']).set_index('Country')['Name']),\n",
    "        'map.continent': dict(df.set_index('Name')['Continent'])\n",
    "    }"
   ]
  },
  {
   "cell_type": "code",
   "execution_count": 5,
   "id": "intimate-machinery",
   "metadata": {
    "execution": {
     "iopub.execute_input": "2021-02-12T12:10:14.025080Z",
     "iopub.status.busy": "2021-02-12T12:10:14.024422Z",
     "iopub.status.idle": "2021-02-12T12:10:14.067365Z",
     "shell.execute_reply": "2021-02-12T12:10:14.066698Z"
    },
    "papermill": {
     "duration": 0.087686,
     "end_time": "2021-02-12T12:10:14.067519",
     "exception": false,
     "start_time": "2021-02-12T12:10:13.979833",
     "status": "completed"
    },
    "tags": []
   },
   "outputs": [],
   "source": [
    "#hide\n",
    "mapping = get_mappings(paths['mapping'])"
   ]
  },
  {
   "cell_type": "code",
   "execution_count": 6,
   "id": "certified-tactics",
   "metadata": {
    "execution": {
     "iopub.execute_input": "2021-02-12T12:10:14.154756Z",
     "iopub.status.busy": "2021-02-12T12:10:14.154033Z",
     "iopub.status.idle": "2021-02-12T12:10:14.156545Z",
     "shell.execute_reply": "2021-02-12T12:10:14.155909Z"
    },
    "papermill": {
     "duration": 0.048152,
     "end_time": "2021-02-12T12:10:14.156682",
     "exception": false,
     "start_time": "2021-02-12T12:10:14.108530",
     "status": "completed"
    },
    "tags": []
   },
   "outputs": [],
   "source": [
    "#hide\n",
    "def get_template(path):\n",
    "    from urllib.parse import urlparse\n",
    "    if bool(urlparse(path).netloc):\n",
    "        from urllib.request import urlopen\n",
    "        return urlopen(path).read().decode('utf8')\n",
    "    return open(path).read()"
   ]
  },
  {
   "cell_type": "code",
   "execution_count": 7,
   "id": "realistic-blast",
   "metadata": {
    "execution": {
     "iopub.execute_input": "2021-02-12T12:10:14.242835Z",
     "iopub.status.busy": "2021-02-12T12:10:14.239711Z",
     "iopub.status.idle": "2021-02-12T12:10:14.243749Z",
     "shell.execute_reply": "2021-02-12T12:10:14.244412Z"
    },
    "papermill": {
     "duration": 0.048897,
     "end_time": "2021-02-12T12:10:14.244580",
     "exception": false,
     "start_time": "2021-02-12T12:10:14.195683",
     "status": "completed"
    },
    "tags": []
   },
   "outputs": [],
   "source": [
    "#hide\n",
    "def get_frame(name):\n",
    "    url = (\n",
    "        'https://raw.githubusercontent.com/CSSEGISandData/COVID-19/master/csse_covid_19_data/'\n",
    "        f'csse_covid_19_time_series/time_series_covid19_{name}_global.csv')\n",
    "    df = pd.read_csv(url)\n",
    "    # rename countries\n",
    "    df['Country/Region'] = df['Country/Region'].replace(mapping['replace.country'])\n",
    "    return df"
   ]
  },
  {
   "cell_type": "code",
   "execution_count": 8,
   "id": "affiliated-characterization",
   "metadata": {
    "execution": {
     "iopub.execute_input": "2021-02-12T12:10:14.333825Z",
     "iopub.status.busy": "2021-02-12T12:10:14.333121Z",
     "iopub.status.idle": "2021-02-12T12:10:14.335762Z",
     "shell.execute_reply": "2021-02-12T12:10:14.335154Z"
    },
    "papermill": {
     "duration": 0.051703,
     "end_time": "2021-02-12T12:10:14.335885",
     "exception": false,
     "start_time": "2021-02-12T12:10:14.284182",
     "status": "completed"
    },
    "tags": []
   },
   "outputs": [],
   "source": [
    "#hide\n",
    "def get_dates(df):\n",
    "    dt_cols = df.columns[~df.columns.isin(['Province/State', 'Country/Region', 'Lat', 'Long'])]\n",
    "    LAST_DATE_I = -1\n",
    "    # sometimes last column may be empty, then go backwards\n",
    "    for i in range(-1, -len(dt_cols), -1):\n",
    "        if not df[dt_cols[i]].fillna(0).eq(0).all():\n",
    "            LAST_DATE_I = i\n",
    "            break\n",
    "    return LAST_DATE_I, dt_cols"
   ]
  },
  {
   "cell_type": "code",
   "execution_count": 9,
   "id": "recent-optimization",
   "metadata": {
    "execution": {
     "iopub.execute_input": "2021-02-12T12:10:14.459520Z",
     "iopub.status.busy": "2021-02-12T12:10:14.458692Z",
     "iopub.status.idle": "2021-02-12T12:10:14.797604Z",
     "shell.execute_reply": "2021-02-12T12:10:14.796997Z"
    },
    "papermill": {
     "duration": 0.383323,
     "end_time": "2021-02-12T12:10:14.797767",
     "exception": false,
     "start_time": "2021-02-12T12:10:14.414444",
     "status": "completed"
    },
    "tags": []
   },
   "outputs": [],
   "source": [
    "#hide\n",
    "COL_REGION = 'Country/Region'\n",
    "# Confirmed, Recovered, Deaths\n",
    "df = get_frame('confirmed')\n",
    "# dft_: timeseries, dfc_: today country agg\n",
    "dft_cases = df\n",
    "dft_deaths = get_frame('deaths')\n",
    "dft_recovered = get_frame('recovered')\n",
    "LAST_DATE_I, dt_cols = get_dates(df)"
   ]
  },
  {
   "cell_type": "code",
   "execution_count": 10,
   "id": "absolute-copper",
   "metadata": {
    "execution": {
     "iopub.execute_input": "2021-02-12T12:10:14.883836Z",
     "iopub.status.busy": "2021-02-12T12:10:14.883119Z",
     "iopub.status.idle": "2021-02-12T12:10:14.887156Z",
     "shell.execute_reply": "2021-02-12T12:10:14.887692Z"
    },
    "papermill": {
     "duration": 0.049616,
     "end_time": "2021-02-12T12:10:14.887864",
     "exception": false,
     "start_time": "2021-02-12T12:10:14.838248",
     "status": "completed"
    },
    "tags": []
   },
   "outputs": [],
   "source": [
    "#hide\n",
    "LAST_DATE_I, dt_cols = get_dates(df)\n",
    "dt_today =dt_cols[LAST_DATE_I]\n",
    "# dt_5day = dt_cols[LAST_DATE_I - 5]\n",
    "dt_yday = dt_cols[LAST_DATE_I - 1]"
   ]
  },
  {
   "cell_type": "code",
   "execution_count": 11,
   "id": "restricted-sheriff",
   "metadata": {
    "execution": {
     "iopub.execute_input": "2021-02-12T12:10:14.978287Z",
     "iopub.status.busy": "2021-02-12T12:10:14.977536Z",
     "iopub.status.idle": "2021-02-12T12:10:14.983569Z",
     "shell.execute_reply": "2021-02-12T12:10:14.982984Z"
    },
    "papermill": {
     "duration": 0.057039,
     "end_time": "2021-02-12T12:10:14.983715",
     "exception": false,
     "start_time": "2021-02-12T12:10:14.926676",
     "status": "completed"
    },
    "tags": []
   },
   "outputs": [],
   "source": [
    "#hide\n",
    "dfc_cases = dft_cases.groupby(COL_REGION)[dt_today].sum()\n",
    "dfc_deaths = dft_deaths.groupby(COL_REGION)[dt_today].sum()\n",
    "# dfp_cases = dft_cases.groupby(COL_REGION)[dt_5day].sum()\n",
    "# dfp_deaths = dft_deaths.groupby(COL_REGION)[dt_5day].sum()\n",
    "dfp_cases = dft_cases.groupby(COL_REGION)[dt_yday].sum()\n",
    "dfp_deaths = dft_deaths.groupby(COL_REGION)[dt_yday].sum()"
   ]
  },
  {
   "cell_type": "code",
   "execution_count": 12,
   "id": "deluxe-hepatitis",
   "metadata": {
    "execution": {
     "iopub.execute_input": "2021-02-12T12:10:15.069398Z",
     "iopub.status.busy": "2021-02-12T12:10:15.068660Z",
     "iopub.status.idle": "2021-02-12T12:10:15.074353Z",
     "shell.execute_reply": "2021-02-12T12:10:15.074965Z"
    },
    "papermill": {
     "duration": 0.0536,
     "end_time": "2021-02-12T12:10:15.075120",
     "exception": false,
     "start_time": "2021-02-12T12:10:15.021520",
     "status": "completed"
    },
    "tags": []
   },
   "outputs": [],
   "source": [
    "#hide\n",
    "df_table = (pd.DataFrame(dict(Cases = dfc_cases, Deaths = dfc_deaths, PCases = dfp_cases, PDeaths = dfp_deaths))\n",
    "            .sort_values(by = ['Cases','Deaths'], ascending = [False, False])\n",
    "            .reset_index())"
   ]
  },
  {
   "cell_type": "code",
   "execution_count": 13,
   "id": "educational-chancellor",
   "metadata": {
    "execution": {
     "iopub.execute_input": "2021-02-12T12:10:15.183609Z",
     "iopub.status.busy": "2021-02-12T12:10:15.178485Z",
     "iopub.status.idle": "2021-02-12T12:10:15.186873Z",
     "shell.execute_reply": "2021-02-12T12:10:15.187505Z"
    },
    "papermill": {
     "duration": 0.073079,
     "end_time": "2021-02-12T12:10:15.187698",
     "exception": false,
     "start_time": "2021-02-12T12:10:15.114619",
     "status": "completed"
    },
    "tags": []
   },
   "outputs": [
    {
     "data": {
      "text/html": [
       "<div>\n",
       "<style scoped>\n",
       "    .dataframe tbody tr th:only-of-type {\n",
       "        vertical-align: middle;\n",
       "    }\n",
       "\n",
       "    .dataframe tbody tr th {\n",
       "        vertical-align: top;\n",
       "    }\n",
       "\n",
       "    .dataframe thead th {\n",
       "        text-align: right;\n",
       "    }\n",
       "</style>\n",
       "<table border=\"1\" class=\"dataframe\">\n",
       "  <thead>\n",
       "    <tr style=\"text-align: right;\">\n",
       "      <th></th>\n",
       "      <th>Country/Region</th>\n",
       "      <th>Cases</th>\n",
       "      <th>Deaths</th>\n",
       "      <th>PCases</th>\n",
       "      <th>PDeaths</th>\n",
       "      <th>Cases (+)</th>\n",
       "      <th>Deaths (+)</th>\n",
       "      <th>Fatality Rate</th>\n",
       "      <th>Continent</th>\n",
       "    </tr>\n",
       "  </thead>\n",
       "  <tbody>\n",
       "    <tr>\n",
       "      <th>0</th>\n",
       "      <td>US</td>\n",
       "      <td>27392512</td>\n",
       "      <td>475444</td>\n",
       "      <td>27287159</td>\n",
       "      <td>471567</td>\n",
       "      <td>105353</td>\n",
       "      <td>3877</td>\n",
       "      <td>1.74</td>\n",
       "      <td>North America</td>\n",
       "    </tr>\n",
       "    <tr>\n",
       "      <th>1</th>\n",
       "      <td>India</td>\n",
       "      <td>10880603</td>\n",
       "      <td>155447</td>\n",
       "      <td>10871294</td>\n",
       "      <td>155360</td>\n",
       "      <td>9309</td>\n",
       "      <td>87</td>\n",
       "      <td>1.43</td>\n",
       "      <td>Asia</td>\n",
       "    </tr>\n",
       "    <tr>\n",
       "      <th>2</th>\n",
       "      <td>Brazil</td>\n",
       "      <td>9713909</td>\n",
       "      <td>236201</td>\n",
       "      <td>9659167</td>\n",
       "      <td>234850</td>\n",
       "      <td>54742</td>\n",
       "      <td>1351</td>\n",
       "      <td>2.43</td>\n",
       "      <td>South America</td>\n",
       "    </tr>\n",
       "    <tr>\n",
       "      <th>3</th>\n",
       "      <td>United Kingdom</td>\n",
       "      <td>4010376</td>\n",
       "      <td>115748</td>\n",
       "      <td>3996833</td>\n",
       "      <td>115068</td>\n",
       "      <td>13543</td>\n",
       "      <td>680</td>\n",
       "      <td>2.89</td>\n",
       "      <td>Europe</td>\n",
       "    </tr>\n",
       "    <tr>\n",
       "      <th>4</th>\n",
       "      <td>Russia</td>\n",
       "      <td>3983031</td>\n",
       "      <td>77415</td>\n",
       "      <td>3968228</td>\n",
       "      <td>76873</td>\n",
       "      <td>14803</td>\n",
       "      <td>542</td>\n",
       "      <td>1.94</td>\n",
       "      <td>Europe</td>\n",
       "    </tr>\n",
       "  </tbody>\n",
       "</table>\n",
       "</div>"
      ],
      "text/plain": [
       "   Country/Region     Cases  Deaths    PCases  PDeaths  Cases (+)  Deaths (+)  \\\n",
       "0              US  27392512  475444  27287159   471567     105353        3877   \n",
       "1           India  10880603  155447  10871294   155360       9309          87   \n",
       "2          Brazil   9713909  236201   9659167   234850      54742        1351   \n",
       "3  United Kingdom   4010376  115748   3996833   115068      13543         680   \n",
       "4          Russia   3983031   77415   3968228    76873      14803         542   \n",
       "\n",
       "   Fatality Rate      Continent  \n",
       "0           1.74  North America  \n",
       "1           1.43           Asia  \n",
       "2           2.43  South America  \n",
       "3           2.89         Europe  \n",
       "4           1.94         Europe  "
      ]
     },
     "execution_count": 13,
     "metadata": {},
     "output_type": "execute_result"
    }
   ],
   "source": [
    "#hide\n",
    "for c in 'Cases, Deaths'.split(', '):\n",
    "    df_table[f'{c} (+)'] = (df_table[c] - df_table[f'P{c}']).clip(0)\n",
    "    #Clip ça veut dire, les chiffres negatif sont interdit\n",
    "df_table['Fatality Rate'] = (100* df_table['Deaths']/ df_table['Cases']).round(2)\n",
    "df_table['Continent'] = df_table['Country/Region'].map(mapping['map.continent'])\n",
    "df_table.head(5)"
   ]
  },
  {
   "cell_type": "code",
   "execution_count": 14,
   "id": "aboriginal-bulgaria",
   "metadata": {
    "execution": {
     "iopub.execute_input": "2021-02-12T12:10:15.275661Z",
     "iopub.status.busy": "2021-02-12T12:10:15.274868Z",
     "iopub.status.idle": "2021-02-12T12:10:15.276748Z",
     "shell.execute_reply": "2021-02-12T12:10:15.277246Z"
    },
    "papermill": {
     "duration": 0.050248,
     "end_time": "2021-02-12T12:10:15.277438",
     "exception": false,
     "start_time": "2021-02-12T12:10:15.227190",
     "status": "completed"
    },
    "tags": []
   },
   "outputs": [],
   "source": [
    "#hide\n",
    "#delete problematic countries from table\n",
    "df_table = df_table[~df_table['Country/Region'].isin(['Cape Verde', 'Cruise Ship', 'Kosovo'])]"
   ]
  },
  {
   "cell_type": "code",
   "execution_count": 15,
   "id": "fantastic-effect",
   "metadata": {
    "execution": {
     "iopub.execute_input": "2021-02-12T12:10:15.375229Z",
     "iopub.status.busy": "2021-02-12T12:10:15.374529Z",
     "iopub.status.idle": "2021-02-12T12:10:15.397788Z",
     "shell.execute_reply": "2021-02-12T12:10:15.398416Z"
    },
    "papermill": {
     "duration": 0.082125,
     "end_time": "2021-02-12T12:10:15.398602",
     "exception": false,
     "start_time": "2021-02-12T12:10:15.316477",
     "status": "completed"
    },
    "tags": []
   },
   "outputs": [
    {
     "data": {
      "text/html": [
       "<div>\n",
       "<style scoped>\n",
       "    .dataframe tbody tr th:only-of-type {\n",
       "        vertical-align: middle;\n",
       "    }\n",
       "\n",
       "    .dataframe tbody tr th {\n",
       "        vertical-align: top;\n",
       "    }\n",
       "\n",
       "    .dataframe thead th {\n",
       "        text-align: right;\n",
       "    }\n",
       "</style>\n",
       "<table border=\"1\" class=\"dataframe\">\n",
       "  <thead>\n",
       "    <tr style=\"text-align: right;\">\n",
       "      <th></th>\n",
       "      <th>Country/Region</th>\n",
       "      <th>Cases</th>\n",
       "      <th>Deaths</th>\n",
       "      <th>PCases</th>\n",
       "      <th>PDeaths</th>\n",
       "      <th>Cases (+)</th>\n",
       "      <th>Deaths (+)</th>\n",
       "      <th>Fatality Rate</th>\n",
       "      <th>Continent</th>\n",
       "    </tr>\n",
       "  </thead>\n",
       "  <tbody>\n",
       "    <tr>\n",
       "      <th>0</th>\n",
       "      <td>US</td>\n",
       "      <td>27392512</td>\n",
       "      <td>475444</td>\n",
       "      <td>27287159</td>\n",
       "      <td>471567</td>\n",
       "      <td>105353</td>\n",
       "      <td>3877</td>\n",
       "      <td>1.7</td>\n",
       "      <td>North America</td>\n",
       "    </tr>\n",
       "    <tr>\n",
       "      <th>1</th>\n",
       "      <td>India</td>\n",
       "      <td>10880603</td>\n",
       "      <td>155447</td>\n",
       "      <td>10871294</td>\n",
       "      <td>155360</td>\n",
       "      <td>9309</td>\n",
       "      <td>87</td>\n",
       "      <td>1.4</td>\n",
       "      <td>Asia</td>\n",
       "    </tr>\n",
       "    <tr>\n",
       "      <th>2</th>\n",
       "      <td>Brazil</td>\n",
       "      <td>9713909</td>\n",
       "      <td>236201</td>\n",
       "      <td>9659167</td>\n",
       "      <td>234850</td>\n",
       "      <td>54742</td>\n",
       "      <td>1351</td>\n",
       "      <td>2.4</td>\n",
       "      <td>South America</td>\n",
       "    </tr>\n",
       "    <tr>\n",
       "      <th>3</th>\n",
       "      <td>United Kingdom</td>\n",
       "      <td>4010376</td>\n",
       "      <td>115748</td>\n",
       "      <td>3996833</td>\n",
       "      <td>115068</td>\n",
       "      <td>13543</td>\n",
       "      <td>680</td>\n",
       "      <td>2.9</td>\n",
       "      <td>Europe</td>\n",
       "    </tr>\n",
       "    <tr>\n",
       "      <th>4</th>\n",
       "      <td>Russia</td>\n",
       "      <td>3983031</td>\n",
       "      <td>77415</td>\n",
       "      <td>3968228</td>\n",
       "      <td>76873</td>\n",
       "      <td>14803</td>\n",
       "      <td>542</td>\n",
       "      <td>1.9</td>\n",
       "      <td>Europe</td>\n",
       "    </tr>\n",
       "  </tbody>\n",
       "</table>\n",
       "</div>"
      ],
      "text/plain": [
       "   Country/Region     Cases  Deaths    PCases  PDeaths  Cases (+)  Deaths (+)  \\\n",
       "0              US  27392512  475444  27287159   471567     105353        3877   \n",
       "1           India  10880603  155447  10871294   155360       9309          87   \n",
       "2          Brazil   9713909  236201   9659167   234850      54742        1351   \n",
       "3  United Kingdom   4010376  115748   3996833   115068      13543         680   \n",
       "4          Russia   3983031   77415   3968228    76873      14803         542   \n",
       "\n",
       "   Fatality Rate      Continent  \n",
       "0            1.7  North America  \n",
       "1            1.4           Asia  \n",
       "2            2.4  South America  \n",
       "3            2.9         Europe  \n",
       "4            1.9         Europe  "
      ]
     },
     "execution_count": 15,
     "metadata": {},
     "output_type": "execute_result"
    }
   ],
   "source": [
    "#hide\n",
    "df_table = (pd.DataFrame(dict(Cases=dfc_cases, Deaths=dfc_deaths, PCases=dfp_cases, PDeaths=dfp_deaths))\n",
    "             .sort_values(by=['Cases', 'Deaths'], ascending=[False, False])\n",
    "             .reset_index())\n",
    "df_table.rename(columns={'index': 'Country/Region'}, inplace=True)\n",
    "for c in 'Cases, Deaths'.split(', '):\n",
    "    df_table[f'{c} (+)'] = (df_table[c] - df_table[f'P{c}']).clip(0)  # DATA BUG\n",
    "df_table['Fatality Rate'] = (100 * df_table['Deaths'] / df_table['Cases']).round(1)\n",
    "df_table['Continent'] = df_table['Country/Region'].map(mapping['map.continent'])\n",
    "df_table.head(5)"
   ]
  },
  {
   "cell_type": "code",
   "execution_count": 16,
   "id": "fewer-occasion",
   "metadata": {
    "execution": {
     "iopub.execute_input": "2021-02-12T12:10:15.483636Z",
     "iopub.status.busy": "2021-02-12T12:10:15.482971Z",
     "iopub.status.idle": "2021-02-12T12:10:15.485252Z",
     "shell.execute_reply": "2021-02-12T12:10:15.484620Z"
    },
    "papermill": {
     "duration": 0.046995,
     "end_time": "2021-02-12T12:10:15.485405",
     "exception": false,
     "start_time": "2021-02-12T12:10:15.438410",
     "status": "completed"
    },
    "tags": []
   },
   "outputs": [],
   "source": [
    "#hide\n",
    "#delete problematic countries from table\n",
    "df_table = df_table[~df_table['Country/Region'].isin(['Cape Verde', 'Cruise Ship', 'Kosovo'])]"
   ]
  },
  {
   "cell_type": "code",
   "execution_count": 17,
   "id": "related-center",
   "metadata": {
    "execution": {
     "iopub.execute_input": "2021-02-12T12:10:15.590087Z",
     "iopub.status.busy": "2021-02-12T12:10:15.589378Z",
     "iopub.status.idle": "2021-02-12T12:10:15.591932Z",
     "shell.execute_reply": "2021-02-12T12:10:15.591260Z"
    },
    "papermill": {
     "duration": 0.063882,
     "end_time": "2021-02-12T12:10:15.592069",
     "exception": false,
     "start_time": "2021-02-12T12:10:15.528187",
     "status": "completed"
    },
    "tags": []
   },
   "outputs": [],
   "source": [
    "#hide\n",
    "metrics = [df_table.columns[index] for index in [1,2,5,6]]\n",
    "# s_china = df_table[df_table['Country/Region'].eq('China')][metrics].sum().add_prefix('China ')\n",
    "s_us = df_table[df_table['Country/Region'].eq('US')][metrics].sum().add_prefix('US ')\n",
    "s_eu = df_table[df_table['Continent'].eq('Europe')][metrics].sum().add_prefix('EU ')\n",
    "s_ind = df_table[df_table['Country/Region'].eq('India')][metrics].sum().add_prefix('India ')\n",
    "summary = {'updated': pd.to_datetime(dt_today), 'since': pd.to_datetime(dt_yday)}\n",
    "summary = {'updated': pd.to_datetime(dt_today), 'since': pd.to_datetime(dt_yday)}\n",
    "summary = {**summary, **df_table[metrics].sum(), **s_ind, **s_us, **s_eu}"
   ]
  },
  {
   "cell_type": "code",
   "execution_count": 18,
   "id": "engaging-syndrome",
   "metadata": {
    "execution": {
     "iopub.execute_input": "2021-02-12T12:10:15.682040Z",
     "iopub.status.busy": "2021-02-12T12:10:15.681340Z",
     "iopub.status.idle": "2021-02-12T12:10:15.691406Z",
     "shell.execute_reply": "2021-02-12T12:10:15.692104Z"
    },
    "papermill": {
     "duration": 0.060013,
     "end_time": "2021-02-12T12:10:15.692265",
     "exception": false,
     "start_time": "2021-02-12T12:10:15.632252",
     "status": "completed"
    },
    "tags": []
   },
   "outputs": [],
   "source": [
    "#hide\n",
    "dft_ct_new_cases = dft_cases.groupby(COL_REGION)[dt_cols].sum().diff(axis=1).fillna(0).astype(int)"
   ]
  },
  {
   "cell_type": "code",
   "execution_count": 19,
   "id": "neutral-assignment",
   "metadata": {
    "execution": {
     "iopub.execute_input": "2021-02-12T12:10:15.783449Z",
     "iopub.status.busy": "2021-02-12T12:10:15.782756Z",
     "iopub.status.idle": "2021-02-12T12:10:15.785266Z",
     "shell.execute_reply": "2021-02-12T12:10:15.784752Z"
    },
    "papermill": {
     "duration": 0.05085,
     "end_time": "2021-02-12T12:10:15.785394",
     "exception": false,
     "start_time": "2021-02-12T12:10:15.734544",
     "status": "completed"
    },
    "tags": []
   },
   "outputs": [],
   "source": [
    "#hide\n",
    "everydaycases = dft_ct_new_cases.cumsum(axis=1)"
   ]
  },
  {
   "cell_type": "code",
   "execution_count": 20,
   "id": "parliamentary-calgary",
   "metadata": {
    "execution": {
     "iopub.execute_input": "2021-02-12T12:10:15.874093Z",
     "iopub.status.busy": "2021-02-12T12:10:15.873417Z",
     "iopub.status.idle": "2021-02-12T12:10:17.268223Z",
     "shell.execute_reply": "2021-02-12T12:10:17.267680Z"
    },
    "papermill": {
     "duration": 1.44115,
     "end_time": "2021-02-12T12:10:17.268365",
     "exception": false,
     "start_time": "2021-02-12T12:10:15.827215",
     "status": "completed"
    },
    "tags": []
   },
   "outputs": [],
   "source": [
    "#hide\n",
    "import pandas as pd\n",
    "import matplotlib.pyplot as plt\n",
    "import matplotlib.ticker as ticker\n",
    "import matplotlib.animation as animation\n",
    "from IPython.display import HTML"
   ]
  },
  {
   "cell_type": "code",
   "execution_count": 21,
   "id": "lasting-extraction",
   "metadata": {
    "execution": {
     "iopub.execute_input": "2021-02-12T12:10:17.354912Z",
     "iopub.status.busy": "2021-02-12T12:10:17.354096Z",
     "iopub.status.idle": "2021-02-12T12:10:17.359873Z",
     "shell.execute_reply": "2021-02-12T12:10:17.359322Z"
    },
    "papermill": {
     "duration": 0.053205,
     "end_time": "2021-02-12T12:10:17.360005",
     "exception": false,
     "start_time": "2021-02-12T12:10:17.306800",
     "status": "completed"
    },
    "tags": []
   },
   "outputs": [],
   "source": [
    "#hide\n",
    "t = everydaycases.stack()"
   ]
  },
  {
   "cell_type": "code",
   "execution_count": 22,
   "id": "premier-sleeve",
   "metadata": {
    "execution": {
     "iopub.execute_input": "2021-02-12T12:10:17.444670Z",
     "iopub.status.busy": "2021-02-12T12:10:17.443915Z",
     "iopub.status.idle": "2021-02-12T12:10:17.451700Z",
     "shell.execute_reply": "2021-02-12T12:10:17.452311Z"
    },
    "papermill": {
     "duration": 0.053663,
     "end_time": "2021-02-12T12:10:17.452456",
     "exception": false,
     "start_time": "2021-02-12T12:10:17.398793",
     "status": "completed"
    },
    "tags": []
   },
   "outputs": [],
   "source": [
    "#hide\n",
    "g = t.reset_index(['Country/Region'])"
   ]
  },
  {
   "cell_type": "code",
   "execution_count": 23,
   "id": "distributed-pittsburgh",
   "metadata": {
    "execution": {
     "iopub.execute_input": "2021-02-12T12:10:17.535973Z",
     "iopub.status.busy": "2021-02-12T12:10:17.535336Z",
     "iopub.status.idle": "2021-02-12T12:10:17.538059Z",
     "shell.execute_reply": "2021-02-12T12:10:17.537460Z"
    },
    "papermill": {
     "duration": 0.046003,
     "end_time": "2021-02-12T12:10:17.538196",
     "exception": false,
     "start_time": "2021-02-12T12:10:17.492193",
     "status": "completed"
    },
    "tags": []
   },
   "outputs": [],
   "source": [
    "#hide\n",
    "g.index.name = 'date'"
   ]
  },
  {
   "cell_type": "code",
   "execution_count": 24,
   "id": "naked-donor",
   "metadata": {
    "execution": {
     "iopub.execute_input": "2021-02-12T12:10:17.626306Z",
     "iopub.status.busy": "2021-02-12T12:10:17.625663Z",
     "iopub.status.idle": "2021-02-12T12:10:17.627995Z",
     "shell.execute_reply": "2021-02-12T12:10:17.628663Z"
    },
    "papermill": {
     "duration": 0.052081,
     "end_time": "2021-02-12T12:10:17.628826",
     "exception": false,
     "start_time": "2021-02-12T12:10:17.576745",
     "status": "completed"
    },
    "tags": []
   },
   "outputs": [],
   "source": [
    "# #hide\n",
    "# g = g.reset_index(['date'])"
   ]
  },
  {
   "cell_type": "code",
   "execution_count": 25,
   "id": "incomplete-mustang",
   "metadata": {
    "execution": {
     "iopub.execute_input": "2021-02-12T12:10:17.710824Z",
     "iopub.status.busy": "2021-02-12T12:10:17.709949Z",
     "iopub.status.idle": "2021-02-12T12:10:17.711990Z",
     "shell.execute_reply": "2021-02-12T12:10:17.712479Z"
    },
    "papermill": {
     "duration": 0.045005,
     "end_time": "2021-02-12T12:10:17.712636",
     "exception": false,
     "start_time": "2021-02-12T12:10:17.667631",
     "status": "completed"
    },
    "tags": []
   },
   "outputs": [],
   "source": [
    "#hide\n",
    "# g.head()"
   ]
  },
  {
   "cell_type": "code",
   "execution_count": 26,
   "id": "specific-kruger",
   "metadata": {
    "execution": {
     "iopub.execute_input": "2021-02-12T12:10:17.794184Z",
     "iopub.status.busy": "2021-02-12T12:10:17.793563Z",
     "iopub.status.idle": "2021-02-12T12:10:17.795684Z",
     "shell.execute_reply": "2021-02-12T12:10:17.796268Z"
    },
    "papermill": {
     "duration": 0.043584,
     "end_time": "2021-02-12T12:10:17.796409",
     "exception": false,
     "start_time": "2021-02-12T12:10:17.752825",
     "status": "completed"
    },
    "tags": []
   },
   "outputs": [],
   "source": [
    "#hide\n",
    "# g.columns = ['date','country','cases']"
   ]
  },
  {
   "cell_type": "code",
   "execution_count": 27,
   "id": "tender-conversion",
   "metadata": {
    "execution": {
     "iopub.execute_input": "2021-02-12T12:10:17.883728Z",
     "iopub.status.busy": "2021-02-12T12:10:17.883033Z",
     "iopub.status.idle": "2021-02-12T12:10:17.885150Z",
     "shell.execute_reply": "2021-02-12T12:10:17.885655Z"
    },
    "papermill": {
     "duration": 0.048583,
     "end_time": "2021-02-12T12:10:17.885791",
     "exception": false,
     "start_time": "2021-02-12T12:10:17.837208",
     "status": "completed"
    },
    "tags": []
   },
   "outputs": [],
   "source": [
    "#hide\n",
    "# g['continent'] = g.country"
   ]
  },
  {
   "cell_type": "code",
   "execution_count": 28,
   "id": "substantial-wilderness",
   "metadata": {
    "execution": {
     "iopub.execute_input": "2021-02-12T12:10:17.969325Z",
     "iopub.status.busy": "2021-02-12T12:10:17.968565Z",
     "iopub.status.idle": "2021-02-12T12:10:17.971280Z",
     "shell.execute_reply": "2021-02-12T12:10:17.970721Z"
    },
    "papermill": {
     "duration": 0.045194,
     "end_time": "2021-02-12T12:10:17.971456",
     "exception": false,
     "start_time": "2021-02-12T12:10:17.926262",
     "status": "completed"
    },
    "tags": []
   },
   "outputs": [],
   "source": [
    "#hide\n",
    "# cols = list(g.columns.values)"
   ]
  },
  {
   "cell_type": "code",
   "execution_count": 29,
   "id": "solved-farming",
   "metadata": {
    "execution": {
     "iopub.execute_input": "2021-02-12T12:10:18.057944Z",
     "iopub.status.busy": "2021-02-12T12:10:18.057244Z",
     "iopub.status.idle": "2021-02-12T12:10:18.059191Z",
     "shell.execute_reply": "2021-02-12T12:10:18.059851Z"
    },
    "papermill": {
     "duration": 0.05048,
     "end_time": "2021-02-12T12:10:18.059992",
     "exception": false,
     "start_time": "2021-02-12T12:10:18.009512",
     "status": "completed"
    },
    "tags": []
   },
   "outputs": [],
   "source": [
    "#hide\n",
    "# cols.insert(0, cols.pop())"
   ]
  },
  {
   "cell_type": "code",
   "execution_count": 30,
   "id": "executed-adoption",
   "metadata": {
    "execution": {
     "iopub.execute_input": "2021-02-12T12:10:18.143478Z",
     "iopub.status.busy": "2021-02-12T12:10:18.142850Z",
     "iopub.status.idle": "2021-02-12T12:10:18.145091Z",
     "shell.execute_reply": "2021-02-12T12:10:18.145631Z"
    },
    "papermill": {
     "duration": 0.046751,
     "end_time": "2021-02-12T12:10:18.145760",
     "exception": false,
     "start_time": "2021-02-12T12:10:18.099009",
     "status": "completed"
    },
    "tags": []
   },
   "outputs": [],
   "source": [
    "#hide\n",
    "# g = g[cols]"
   ]
  },
  {
   "cell_type": "code",
   "execution_count": 31,
   "id": "subject-dublin",
   "metadata": {
    "execution": {
     "iopub.execute_input": "2021-02-12T12:10:18.225958Z",
     "iopub.status.busy": "2021-02-12T12:10:18.224638Z",
     "iopub.status.idle": "2021-02-12T12:10:18.226622Z",
     "shell.execute_reply": "2021-02-12T12:10:18.227261Z"
    },
    "papermill": {
     "duration": 0.044041,
     "end_time": "2021-02-12T12:10:18.227451",
     "exception": false,
     "start_time": "2021-02-12T12:10:18.183410",
     "status": "completed"
    },
    "tags": []
   },
   "outputs": [],
   "source": [
    "#hide\n",
    "# g['continent'] = g['continent'].map(mapping['map.continent'])"
   ]
  },
  {
   "cell_type": "code",
   "execution_count": 32,
   "id": "freelance-scout",
   "metadata": {
    "execution": {
     "iopub.execute_input": "2021-02-12T12:10:18.312083Z",
     "iopub.status.busy": "2021-02-12T12:10:18.311382Z",
     "iopub.status.idle": "2021-02-12T12:10:18.314054Z",
     "shell.execute_reply": "2021-02-12T12:10:18.313275Z"
    },
    "papermill": {
     "duration": 0.046745,
     "end_time": "2021-02-12T12:10:18.314201",
     "exception": false,
     "start_time": "2021-02-12T12:10:18.267456",
     "status": "completed"
    },
    "tags": []
   },
   "outputs": [],
   "source": [
    "#hide\n",
    "# g.head()"
   ]
  },
  {
   "cell_type": "code",
   "execution_count": 33,
   "id": "limited-engine",
   "metadata": {
    "execution": {
     "iopub.execute_input": "2021-02-12T12:10:18.401781Z",
     "iopub.status.busy": "2021-02-12T12:10:18.401082Z",
     "iopub.status.idle": "2021-02-12T12:10:18.403068Z",
     "shell.execute_reply": "2021-02-12T12:10:18.403620Z"
    },
    "papermill": {
     "duration": 0.047669,
     "end_time": "2021-02-12T12:10:18.403789",
     "exception": false,
     "start_time": "2021-02-12T12:10:18.356120",
     "status": "completed"
    },
    "tags": []
   },
   "outputs": [],
   "source": [
    "# hide\n",
    "# g['date'] = g['date'].astype('datetime64[ns]')"
   ]
  },
  {
   "cell_type": "code",
   "execution_count": 34,
   "id": "sophisticated-supervisor",
   "metadata": {
    "execution": {
     "iopub.execute_input": "2021-02-12T12:10:18.489258Z",
     "iopub.status.busy": "2021-02-12T12:10:18.488565Z",
     "iopub.status.idle": "2021-02-12T12:10:18.491023Z",
     "shell.execute_reply": "2021-02-12T12:10:18.491803Z"
    },
    "papermill": {
     "duration": 0.047534,
     "end_time": "2021-02-12T12:10:18.491950",
     "exception": false,
     "start_time": "2021-02-12T12:10:18.444416",
     "status": "completed"
    },
    "tags": []
   },
   "outputs": [],
   "source": [
    "#hide\n",
    "# g['date'] = g.date.dt.dayofyear"
   ]
  },
  {
   "cell_type": "code",
   "execution_count": 35,
   "id": "inside-dubai",
   "metadata": {
    "execution": {
     "iopub.execute_input": "2021-02-12T12:10:18.575441Z",
     "iopub.status.busy": "2021-02-12T12:10:18.574777Z",
     "iopub.status.idle": "2021-02-12T12:10:18.576832Z",
     "shell.execute_reply": "2021-02-12T12:10:18.577350Z"
    },
    "papermill": {
     "duration": 0.046286,
     "end_time": "2021-02-12T12:10:18.577490",
     "exception": false,
     "start_time": "2021-02-12T12:10:18.531204",
     "status": "completed"
    },
    "tags": []
   },
   "outputs": [],
   "source": [
    "#hide\n",
    "# g = g.rename(columns= {'continent':'group','country':'name','cases':'value'})"
   ]
  },
  {
   "cell_type": "code",
   "execution_count": 36,
   "id": "fleet-motorcycle",
   "metadata": {
    "execution": {
     "iopub.execute_input": "2021-02-12T12:10:18.659489Z",
     "iopub.status.busy": "2021-02-12T12:10:18.658813Z",
     "iopub.status.idle": "2021-02-12T12:10:18.661157Z",
     "shell.execute_reply": "2021-02-12T12:10:18.660633Z"
    },
    "papermill": {
     "duration": 0.044241,
     "end_time": "2021-02-12T12:10:18.661278",
     "exception": false,
     "start_time": "2021-02-12T12:10:18.617037",
     "status": "completed"
    },
    "tags": []
   },
   "outputs": [],
   "source": [
    "#hide\n",
    "# cols = ['name','group','day','value']"
   ]
  },
  {
   "cell_type": "code",
   "execution_count": 37,
   "id": "continued-sleeping",
   "metadata": {
    "execution": {
     "iopub.execute_input": "2021-02-12T12:10:18.745224Z",
     "iopub.status.busy": "2021-02-12T12:10:18.744614Z",
     "iopub.status.idle": "2021-02-12T12:10:18.747014Z",
     "shell.execute_reply": "2021-02-12T12:10:18.746427Z"
    },
    "papermill": {
     "duration": 0.047691,
     "end_time": "2021-02-12T12:10:18.747131",
     "exception": false,
     "start_time": "2021-02-12T12:10:18.699440",
     "status": "completed"
    },
    "tags": []
   },
   "outputs": [],
   "source": [
    "#hide\n",
    "# g.rename(columns= {'date':'day'},inplace = True)"
   ]
  },
  {
   "cell_type": "code",
   "execution_count": 38,
   "id": "major-fight",
   "metadata": {
    "execution": {
     "iopub.execute_input": "2021-02-12T12:10:18.830100Z",
     "iopub.status.busy": "2021-02-12T12:10:18.829502Z",
     "iopub.status.idle": "2021-02-12T12:10:18.831885Z",
     "shell.execute_reply": "2021-02-12T12:10:18.831379Z"
    },
    "papermill": {
     "duration": 0.047349,
     "end_time": "2021-02-12T12:10:18.831999",
     "exception": false,
     "start_time": "2021-02-12T12:10:18.784650",
     "status": "completed"
    },
    "tags": []
   },
   "outputs": [],
   "source": [
    "#hide\n",
    "# g = g[cols]"
   ]
  },
  {
   "cell_type": "code",
   "execution_count": 39,
   "id": "structured-mobile",
   "metadata": {
    "execution": {
     "iopub.execute_input": "2021-02-12T12:10:18.914228Z",
     "iopub.status.busy": "2021-02-12T12:10:18.913448Z",
     "iopub.status.idle": "2021-02-12T12:10:18.915599Z",
     "shell.execute_reply": "2021-02-12T12:10:18.916100Z"
    },
    "papermill": {
     "duration": 0.045764,
     "end_time": "2021-02-12T12:10:18.916236",
     "exception": false,
     "start_time": "2021-02-12T12:10:18.870472",
     "status": "completed"
    },
    "tags": []
   },
   "outputs": [],
   "source": [
    "# #hide\n",
    "# g = g[g.group.notna()]"
   ]
  },
  {
   "cell_type": "code",
   "execution_count": 40,
   "id": "determined-closing",
   "metadata": {
    "execution": {
     "iopub.execute_input": "2021-02-12T12:10:18.998682Z",
     "iopub.status.busy": "2021-02-12T12:10:18.997992Z",
     "iopub.status.idle": "2021-02-12T12:10:18.999888Z",
     "shell.execute_reply": "2021-02-12T12:10:19.000455Z"
    },
    "papermill": {
     "duration": 0.04571,
     "end_time": "2021-02-12T12:10:19.000618",
     "exception": false,
     "start_time": "2021-02-12T12:10:18.954908",
     "status": "completed"
    },
    "tags": []
   },
   "outputs": [],
   "source": [
    "# #hide\n",
    "# colors = dict(zip(\n",
    "#     [\"Oceania\", \"Europe\", \"Asia\", \"South America\", \"Middle East\", \"North America\", \"Africa\"],\n",
    "#     [\"#adb0ff\", \"#ffb3ff\", \"#90d595\", \"#e48381\", \"#aafbff\", \"#f7bb5f\", \"#eafb50\"]\n",
    "# ))\n",
    "# group_lk = g.set_index('name')['group'].to_dict()"
   ]
  },
  {
   "cell_type": "code",
   "execution_count": null,
   "id": "gross-drinking",
   "metadata": {
    "papermill": {
     "duration": 0.044235,
     "end_time": "2021-02-12T12:10:19.088206",
     "exception": false,
     "start_time": "2021-02-12T12:10:19.043971",
     "status": "completed"
    },
    "tags": []
   },
   "outputs": [],
   "source": []
  },
  {
   "cell_type": "code",
   "execution_count": 41,
   "id": "subject-macintosh",
   "metadata": {
    "execution": {
     "iopub.execute_input": "2021-02-12T12:10:19.174428Z",
     "iopub.status.busy": "2021-02-12T12:10:19.173599Z",
     "iopub.status.idle": "2021-02-12T12:10:19.176251Z",
     "shell.execute_reply": "2021-02-12T12:10:19.175681Z"
    },
    "papermill": {
     "duration": 0.046943,
     "end_time": "2021-02-12T12:10:19.176376",
     "exception": false,
     "start_time": "2021-02-12T12:10:19.129433",
     "status": "completed"
    },
    "tags": []
   },
   "outputs": [],
   "source": [
    "# #hide\n",
    "# fig, ax = plt.subplots(figsize=(15, 8))\n",
    "\n",
    "# def draw_barchart(current_day):\n",
    "#     dff = g[g['day'].eq(current_day)].sort_values(by='value', ascending=True).tail(10)\n",
    "#     ax.clear()\n",
    "#     ax.barh(dff['name'], dff['value'], color=[colors[group_lk[x]] for x in dff['name']])\n",
    "#     dx = dff['value'].max() / 200\n",
    "    \n",
    "#     for i, (value, name) in enumerate(zip(dff['value'], dff['name'])):\n",
    "#         ax.text(value-dx, i,     name,           size=14, weight=600, ha='right', va='bottom')\n",
    "#         ax.text(value-dx, i-.25, group_lk[name], size=10, color='#444444', ha='right', va='baseline')\n",
    "#         ax.text(value+dx, i,     f'{value:,.0f}',  size=14, ha='left',  va='center')\n",
    "#     ax.text(1, 0.4, current_day, transform=ax.transAxes, color='#777777', size=46, ha='right', weight=800)\n",
    "#     ax.text(0, 1.06, 'Population (thousands)', transform=ax.transAxes, size=12, color='#777777')\n",
    "#     ax.xaxis.set_major_formatter(ticker.StrMethodFormatter('{x:,.0f}'))\n",
    "#     ax.xaxis.set_ticks_position('top')\n",
    "#     ax.tick_params(axis='x', colors='#777777', labelsize=12)\n",
    "#     ax.set_yticks([])\n",
    "#     ax.margins(0, 0.01)\n",
    "#     ax.grid(which='major', axis='x', linestyle='-')\n",
    "#     ax.set_axisbelow(True)\n",
    "    \n",
    "#     ax.text(0, 1.15, 'Coronavirus',\n",
    "#             transform=ax.transAxes, size=24, weight=600, ha='left', va='top')\n",
    "# #     ax.text(1, 0, 'by @pratapvardhan; credit @jburnmurdoch', transform=ax.transAxes, color='#777777', ha='right',\n",
    "# #             bbox=dict(facecolor='white', alpha=0.8, edgecolor='white'))\n",
    "#     plt.box(False)"
   ]
  },
  {
   "cell_type": "code",
   "execution_count": 42,
   "id": "sexual-wages",
   "metadata": {
    "execution": {
     "iopub.execute_input": "2021-02-12T12:10:19.261447Z",
     "iopub.status.busy": "2021-02-12T12:10:19.260728Z",
     "iopub.status.idle": "2021-02-12T12:10:19.263447Z",
     "shell.execute_reply": "2021-02-12T12:10:19.262778Z"
    },
    "papermill": {
     "duration": 0.04853,
     "end_time": "2021-02-12T12:10:19.263584",
     "exception": false,
     "start_time": "2021-02-12T12:10:19.215054",
     "status": "completed"
    },
    "tags": []
   },
   "outputs": [],
   "source": [
    "# #hide_input\n",
    "# fig, ax = plt.subplots(figsize=(15, 8))\n",
    "# animator = animation.FuncAnimation(fig, draw_barchart, frames=range(g.day.values.min(), g.day.values.max()))\n",
    "# HTML(animator.to_jshtml())\n",
    "# # or use animator.to_html5_video() or animator.save() "
   ]
  },
  {
   "cell_type": "code",
   "execution_count": null,
   "id": "australian-container",
   "metadata": {
    "papermill": {
     "duration": 0.043767,
     "end_time": "2021-02-12T12:10:19.351716",
     "exception": false,
     "start_time": "2021-02-12T12:10:19.307949",
     "status": "completed"
    },
    "tags": []
   },
   "outputs": [],
   "source": []
  },
  {
   "cell_type": "code",
   "execution_count": null,
   "id": "mediterranean-pontiac",
   "metadata": {
    "papermill": {
     "duration": 0.043402,
     "end_time": "2021-02-12T12:10:19.435797",
     "exception": false,
     "start_time": "2021-02-12T12:10:19.392395",
     "status": "completed"
    },
    "tags": []
   },
   "outputs": [],
   "source": []
  },
  {
   "cell_type": "code",
   "execution_count": null,
   "id": "aging-legislature",
   "metadata": {
    "papermill": {
     "duration": 0.041,
     "end_time": "2021-02-12T12:10:19.893024",
     "exception": false,
     "start_time": "2021-02-12T12:10:19.852024",
     "status": "completed"
    },
    "tags": []
   },
   "outputs": [],
   "source": []
  }
 ],
 "metadata": {
  "kernelspec": {
   "display_name": "Python 3",
   "language": "python",
   "name": "python3"
  },
  "language_info": {
   "codemirror_mode": {
    "name": "ipython",
    "version": 3
   },
   "file_extension": ".py",
   "mimetype": "text/x-python",
   "name": "python",
   "nbconvert_exporter": "python",
   "pygments_lexer": "ipython3",
   "version": "3.6.12"
  },
  "papermill": {
   "duration": 8.300065,
   "end_time": "2021-02-12T12:10:20.268147",
   "environment_variables": {},
   "exception": null,
   "input_path": "2020-03-21-covid19exp.ipynb",
   "output_path": "2020-03-21-covid19exp.ipynb",
   "parameters": {},
   "start_time": "2021-02-12T12:10:11.968082",
   "version": "2.0.0"
  }
 },
 "nbformat": 4,
 "nbformat_minor": 5
}