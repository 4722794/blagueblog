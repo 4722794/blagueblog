{
 "cells": [
  {
   "cell_type": "markdown",
   "metadata": {
    "papermill": {
     "duration": 0.03435,
     "end_time": "2020-12-07T12:07:29.242861",
     "exception": false,
     "start_time": "2020-12-07T12:07:29.208511",
     "status": "completed"
    },
    "tags": []
   },
   "source": [
    "# COVID-19 Case Race\n",
    "> A race chart to see rising cases around the world\n",
    "\n",
    "- author: Hargun Oberoi\n",
    "- image: images/covid-overview.png\n",
    "- hide: false\n",
    "- badges: false"
   ]
  },
  {
   "cell_type": "code",
   "execution_count": 1,
   "metadata": {
    "execution": {
     "iopub.execute_input": "2020-12-07T12:07:29.309406Z",
     "iopub.status.busy": "2020-12-07T12:07:29.308800Z",
     "iopub.status.idle": "2020-12-07T12:07:29.678585Z",
     "shell.execute_reply": "2020-12-07T12:07:29.678037Z"
    },
    "papermill": {
     "duration": 0.405376,
     "end_time": "2020-12-07T12:07:29.678750",
     "exception": false,
     "start_time": "2020-12-07T12:07:29.273374",
     "status": "completed"
    },
    "tags": []
   },
   "outputs": [],
   "source": [
    "#hide\n",
    "import numpy as np\n",
    "import pandas as pd\n",
    "from jinja2 import Template\n",
    "from IPython.display import HTML"
   ]
  },
  {
   "cell_type": "code",
   "execution_count": 2,
   "metadata": {
    "execution": {
     "iopub.execute_input": "2020-12-07T12:07:29.748270Z",
     "iopub.status.busy": "2020-12-07T12:07:29.747220Z",
     "iopub.status.idle": "2020-12-07T12:07:29.749412Z",
     "shell.execute_reply": "2020-12-07T12:07:29.749936Z"
    },
    "papermill": {
     "duration": 0.04001,
     "end_time": "2020-12-07T12:07:29.750087",
     "exception": false,
     "start_time": "2020-12-07T12:07:29.710077",
     "status": "completed"
    },
    "tags": []
   },
   "outputs": [],
   "source": [
    "#hide\n",
    "\n",
    "# FETCH\n",
    "base_url = 'https://raw.githubusercontent.com/pratapvardhan/notebooks/master/covid19/'\n",
    "paths = {\n",
    "    'mapping': base_url + 'mapping_countries.csv',\n",
    "    'overview': base_url + 'overview.tpl'\n",
    "}"
   ]
  },
  {
   "cell_type": "code",
   "execution_count": 3,
   "metadata": {
    "execution": {
     "iopub.execute_input": "2020-12-07T12:07:29.823658Z",
     "iopub.status.busy": "2020-12-07T12:07:29.823092Z",
     "iopub.status.idle": "2020-12-07T12:07:29.826371Z",
     "shell.execute_reply": "2020-12-07T12:07:29.826961Z"
    },
    "papermill": {
     "duration": 0.047353,
     "end_time": "2020-12-07T12:07:29.827121",
     "exception": false,
     "start_time": "2020-12-07T12:07:29.779768",
     "status": "completed"
    },
    "tags": []
   },
   "outputs": [
    {
     "data": {
      "text/plain": [
       "'https://raw.githubusercontent.com/pratapvardhan/notebooks/master/covid19/mapping_countries.csv'"
      ]
     },
     "execution_count": 3,
     "metadata": {},
     "output_type": "execute_result"
    }
   ],
   "source": [
    "#hide\n",
    "paths['mapping']"
   ]
  },
  {
   "cell_type": "code",
   "execution_count": 4,
   "metadata": {
    "execution": {
     "iopub.execute_input": "2020-12-07T12:07:29.894912Z",
     "iopub.status.busy": "2020-12-07T12:07:29.894290Z",
     "iopub.status.idle": "2020-12-07T12:07:29.896485Z",
     "shell.execute_reply": "2020-12-07T12:07:29.895986Z"
    },
    "papermill": {
     "duration": 0.039355,
     "end_time": "2020-12-07T12:07:29.896613",
     "exception": false,
     "start_time": "2020-12-07T12:07:29.857258",
     "status": "completed"
    },
    "tags": []
   },
   "outputs": [],
   "source": [
    "#hide\n",
    "def get_mappings(url):\n",
    "    df = pd.read_csv(url)\n",
    "    return {\n",
    "        'df': df,\n",
    "        'replace.country': dict(df.dropna(subset=['Name']).set_index('Country')['Name']),\n",
    "        'map.continent': dict(df.set_index('Name')['Continent'])\n",
    "    }"
   ]
  },
  {
   "cell_type": "code",
   "execution_count": 5,
   "metadata": {
    "execution": {
     "iopub.execute_input": "2020-12-07T12:07:29.964778Z",
     "iopub.status.busy": "2020-12-07T12:07:29.964149Z",
     "iopub.status.idle": "2020-12-07T12:07:30.012859Z",
     "shell.execute_reply": "2020-12-07T12:07:30.012324Z"
    },
    "papermill": {
     "duration": 0.0866,
     "end_time": "2020-12-07T12:07:30.013005",
     "exception": false,
     "start_time": "2020-12-07T12:07:29.926405",
     "status": "completed"
    },
    "tags": []
   },
   "outputs": [],
   "source": [
    "#hide\n",
    "mapping = get_mappings(paths['mapping'])"
   ]
  },
  {
   "cell_type": "code",
   "execution_count": 6,
   "metadata": {
    "execution": {
     "iopub.execute_input": "2020-12-07T12:07:30.082051Z",
     "iopub.status.busy": "2020-12-07T12:07:30.081362Z",
     "iopub.status.idle": "2020-12-07T12:07:30.083468Z",
     "shell.execute_reply": "2020-12-07T12:07:30.083919Z"
    },
    "papermill": {
     "duration": 0.040672,
     "end_time": "2020-12-07T12:07:30.084082",
     "exception": false,
     "start_time": "2020-12-07T12:07:30.043410",
     "status": "completed"
    },
    "tags": []
   },
   "outputs": [],
   "source": [
    "#hide\n",
    "def get_template(path):\n",
    "    from urllib.parse import urlparse\n",
    "    if bool(urlparse(path).netloc):\n",
    "        from urllib.request import urlopen\n",
    "        return urlopen(path).read().decode('utf8')\n",
    "    return open(path).read()"
   ]
  },
  {
   "cell_type": "code",
   "execution_count": 7,
   "metadata": {
    "execution": {
     "iopub.execute_input": "2020-12-07T12:07:30.149524Z",
     "iopub.status.busy": "2020-12-07T12:07:30.146806Z",
     "iopub.status.idle": "2020-12-07T12:07:30.152258Z",
     "shell.execute_reply": "2020-12-07T12:07:30.151744Z"
    },
    "papermill": {
     "duration": 0.03848,
     "end_time": "2020-12-07T12:07:30.152401",
     "exception": false,
     "start_time": "2020-12-07T12:07:30.113921",
     "status": "completed"
    },
    "tags": []
   },
   "outputs": [],
   "source": [
    "#hide\n",
    "def get_frame(name):\n",
    "    url = (\n",
    "        'https://raw.githubusercontent.com/CSSEGISandData/COVID-19/master/csse_covid_19_data/'\n",
    "        f'csse_covid_19_time_series/time_series_covid19_{name}_global.csv')\n",
    "    df = pd.read_csv(url)\n",
    "    # rename countries\n",
    "    df['Country/Region'] = df['Country/Region'].replace(mapping['replace.country'])\n",
    "    return df"
   ]
  },
  {
   "cell_type": "code",
   "execution_count": 8,
   "metadata": {
    "execution": {
     "iopub.execute_input": "2020-12-07T12:07:30.219631Z",
     "iopub.status.busy": "2020-12-07T12:07:30.219019Z",
     "iopub.status.idle": "2020-12-07T12:07:30.220817Z",
     "shell.execute_reply": "2020-12-07T12:07:30.221295Z"
    },
    "papermill": {
     "duration": 0.039197,
     "end_time": "2020-12-07T12:07:30.221475",
     "exception": false,
     "start_time": "2020-12-07T12:07:30.182278",
     "status": "completed"
    },
    "tags": []
   },
   "outputs": [],
   "source": [
    "#hide\n",
    "def get_dates(df):\n",
    "    dt_cols = df.columns[~df.columns.isin(['Province/State', 'Country/Region', 'Lat', 'Long'])]\n",
    "    LAST_DATE_I = -1\n",
    "    # sometimes last column may be empty, then go backwards\n",
    "    for i in range(-1, -len(dt_cols), -1):\n",
    "        if not df[dt_cols[i]].fillna(0).eq(0).all():\n",
    "            LAST_DATE_I = i\n",
    "            break\n",
    "    return LAST_DATE_I, dt_cols"
   ]
  },
  {
   "cell_type": "code",
   "execution_count": 9,
   "metadata": {
    "execution": {
     "iopub.execute_input": "2020-12-07T12:07:30.289174Z",
     "iopub.status.busy": "2020-12-07T12:07:30.287920Z",
     "iopub.status.idle": "2020-12-07T12:07:30.589126Z",
     "shell.execute_reply": "2020-12-07T12:07:30.588225Z"
    },
    "papermill": {
     "duration": 0.338071,
     "end_time": "2020-12-07T12:07:30.589357",
     "exception": false,
     "start_time": "2020-12-07T12:07:30.251286",
     "status": "completed"
    },
    "tags": []
   },
   "outputs": [],
   "source": [
    "#hide\n",
    "COL_REGION = 'Country/Region'\n",
    "# Confirmed, Recovered, Deaths\n",
    "df = get_frame('confirmed')\n",
    "# dft_: timeseries, dfc_: today country agg\n",
    "dft_cases = df\n",
    "dft_deaths = get_frame('deaths')\n",
    "dft_recovered = get_frame('recovered')\n",
    "LAST_DATE_I, dt_cols = get_dates(df)"
   ]
  },
  {
   "cell_type": "code",
   "execution_count": 10,
   "metadata": {
    "execution": {
     "iopub.execute_input": "2020-12-07T12:07:30.658181Z",
     "iopub.status.busy": "2020-12-07T12:07:30.657523Z",
     "iopub.status.idle": "2020-12-07T12:07:30.659861Z",
     "shell.execute_reply": "2020-12-07T12:07:30.660328Z"
    },
    "papermill": {
     "duration": 0.039476,
     "end_time": "2020-12-07T12:07:30.660495",
     "exception": false,
     "start_time": "2020-12-07T12:07:30.621019",
     "status": "completed"
    },
    "tags": []
   },
   "outputs": [],
   "source": [
    "#hide\n",
    "LAST_DATE_I, dt_cols = get_dates(df)\n",
    "dt_today =dt_cols[LAST_DATE_I]\n",
    "# dt_5day = dt_cols[LAST_DATE_I - 5]\n",
    "dt_yday = dt_cols[LAST_DATE_I - 1]"
   ]
  },
  {
   "cell_type": "code",
   "execution_count": 11,
   "metadata": {
    "execution": {
     "iopub.execute_input": "2020-12-07T12:07:30.728706Z",
     "iopub.status.busy": "2020-12-07T12:07:30.728111Z",
     "iopub.status.idle": "2020-12-07T12:07:30.735730Z",
     "shell.execute_reply": "2020-12-07T12:07:30.736196Z"
    },
    "papermill": {
     "duration": 0.045853,
     "end_time": "2020-12-07T12:07:30.736358",
     "exception": false,
     "start_time": "2020-12-07T12:07:30.690505",
     "status": "completed"
    },
    "tags": []
   },
   "outputs": [],
   "source": [
    "#hide\n",
    "dfc_cases = dft_cases.groupby(COL_REGION)[dt_today].sum()\n",
    "dfc_deaths = dft_deaths.groupby(COL_REGION)[dt_today].sum()\n",
    "# dfp_cases = dft_cases.groupby(COL_REGION)[dt_5day].sum()\n",
    "# dfp_deaths = dft_deaths.groupby(COL_REGION)[dt_5day].sum()\n",
    "dfp_cases = dft_cases.groupby(COL_REGION)[dt_yday].sum()\n",
    "dfp_deaths = dft_deaths.groupby(COL_REGION)[dt_yday].sum()"
   ]
  },
  {
   "cell_type": "code",
   "execution_count": 12,
   "metadata": {
    "execution": {
     "iopub.execute_input": "2020-12-07T12:07:30.804732Z",
     "iopub.status.busy": "2020-12-07T12:07:30.804101Z",
     "iopub.status.idle": "2020-12-07T12:07:30.809171Z",
     "shell.execute_reply": "2020-12-07T12:07:30.809695Z"
    },
    "papermill": {
     "duration": 0.043094,
     "end_time": "2020-12-07T12:07:30.809861",
     "exception": false,
     "start_time": "2020-12-07T12:07:30.766767",
     "status": "completed"
    },
    "tags": []
   },
   "outputs": [],
   "source": [
    "#hide\n",
    "df_table = (pd.DataFrame(dict(Cases = dfc_cases, Deaths = dfc_deaths, PCases = dfp_cases, PDeaths = dfp_deaths))\n",
    "            .sort_values(by = ['Cases','Deaths'], ascending = [False, False])\n",
    "            .reset_index())"
   ]
  },
  {
   "cell_type": "code",
   "execution_count": 13,
   "metadata": {
    "execution": {
     "iopub.execute_input": "2020-12-07T12:07:30.896387Z",
     "iopub.status.busy": "2020-12-07T12:07:30.891602Z",
     "iopub.status.idle": "2020-12-07T12:07:30.899734Z",
     "shell.execute_reply": "2020-12-07T12:07:30.899257Z"
    },
    "papermill": {
     "duration": 0.060055,
     "end_time": "2020-12-07T12:07:30.899872",
     "exception": false,
     "start_time": "2020-12-07T12:07:30.839817",
     "status": "completed"
    },
    "tags": []
   },
   "outputs": [
    {
     "data": {
      "text/html": [
       "<div>\n",
       "<style scoped>\n",
       "    .dataframe tbody tr th:only-of-type {\n",
       "        vertical-align: middle;\n",
       "    }\n",
       "\n",
       "    .dataframe tbody tr th {\n",
       "        vertical-align: top;\n",
       "    }\n",
       "\n",
       "    .dataframe thead th {\n",
       "        text-align: right;\n",
       "    }\n",
       "</style>\n",
       "<table border=\"1\" class=\"dataframe\">\n",
       "  <thead>\n",
       "    <tr style=\"text-align: right;\">\n",
       "      <th></th>\n",
       "      <th>Country/Region</th>\n",
       "      <th>Cases</th>\n",
       "      <th>Deaths</th>\n",
       "      <th>PCases</th>\n",
       "      <th>PDeaths</th>\n",
       "      <th>Cases (+)</th>\n",
       "      <th>Deaths (+)</th>\n",
       "      <th>Fatality Rate</th>\n",
       "      <th>Continent</th>\n",
       "    </tr>\n",
       "  </thead>\n",
       "  <tbody>\n",
       "    <tr>\n",
       "      <th>0</th>\n",
       "      <td>US</td>\n",
       "      <td>14757000</td>\n",
       "      <td>282299</td>\n",
       "      <td>14581337</td>\n",
       "      <td>281186</td>\n",
       "      <td>175663</td>\n",
       "      <td>1113</td>\n",
       "      <td>1.91</td>\n",
       "      <td>North America</td>\n",
       "    </tr>\n",
       "    <tr>\n",
       "      <th>1</th>\n",
       "      <td>India</td>\n",
       "      <td>9677203</td>\n",
       "      <td>140573</td>\n",
       "      <td>9644222</td>\n",
       "      <td>140182</td>\n",
       "      <td>32981</td>\n",
       "      <td>391</td>\n",
       "      <td>1.45</td>\n",
       "      <td>Asia</td>\n",
       "    </tr>\n",
       "    <tr>\n",
       "      <th>2</th>\n",
       "      <td>Brazil</td>\n",
       "      <td>6603540</td>\n",
       "      <td>176941</td>\n",
       "      <td>6577177</td>\n",
       "      <td>176628</td>\n",
       "      <td>26363</td>\n",
       "      <td>313</td>\n",
       "      <td>2.68</td>\n",
       "      <td>South America</td>\n",
       "    </tr>\n",
       "    <tr>\n",
       "      <th>3</th>\n",
       "      <td>Russia</td>\n",
       "      <td>2439163</td>\n",
       "      <td>42675</td>\n",
       "      <td>2410462</td>\n",
       "      <td>42228</td>\n",
       "      <td>28701</td>\n",
       "      <td>447</td>\n",
       "      <td>1.75</td>\n",
       "      <td>Europe</td>\n",
       "    </tr>\n",
       "    <tr>\n",
       "      <th>4</th>\n",
       "      <td>France</td>\n",
       "      <td>2345648</td>\n",
       "      <td>55247</td>\n",
       "      <td>2334626</td>\n",
       "      <td>55073</td>\n",
       "      <td>11022</td>\n",
       "      <td>174</td>\n",
       "      <td>2.36</td>\n",
       "      <td>Europe</td>\n",
       "    </tr>\n",
       "  </tbody>\n",
       "</table>\n",
       "</div>"
      ],
      "text/plain": [
       "  Country/Region     Cases  Deaths    PCases  PDeaths  Cases (+)  Deaths (+)  \\\n",
       "0             US  14757000  282299  14581337   281186     175663        1113   \n",
       "1          India   9677203  140573   9644222   140182      32981         391   \n",
       "2         Brazil   6603540  176941   6577177   176628      26363         313   \n",
       "3         Russia   2439163   42675   2410462    42228      28701         447   \n",
       "4         France   2345648   55247   2334626    55073      11022         174   \n",
       "\n",
       "   Fatality Rate      Continent  \n",
       "0           1.91  North America  \n",
       "1           1.45           Asia  \n",
       "2           2.68  South America  \n",
       "3           1.75         Europe  \n",
       "4           2.36         Europe  "
      ]
     },
     "execution_count": 13,
     "metadata": {},
     "output_type": "execute_result"
    }
   ],
   "source": [
    "#hide\n",
    "for c in 'Cases, Deaths'.split(', '):\n",
    "    df_table[f'{c} (+)'] = (df_table[c] - df_table[f'P{c}']).clip(0)\n",
    "    #Clip ça veut dire, les chiffres negatif sont interdit\n",
    "df_table['Fatality Rate'] = (100* df_table['Deaths']/ df_table['Cases']).round(2)\n",
    "df_table['Continent'] = df_table['Country/Region'].map(mapping['map.continent'])\n",
    "df_table.head(5)"
   ]
  },
  {
   "cell_type": "code",
   "execution_count": 14,
   "metadata": {
    "execution": {
     "iopub.execute_input": "2020-12-07T12:07:30.967662Z",
     "iopub.status.busy": "2020-12-07T12:07:30.967059Z",
     "iopub.status.idle": "2020-12-07T12:07:30.970226Z",
     "shell.execute_reply": "2020-12-07T12:07:30.969743Z"
    },
    "papermill": {
     "duration": 0.039872,
     "end_time": "2020-12-07T12:07:30.970358",
     "exception": false,
     "start_time": "2020-12-07T12:07:30.930486",
     "status": "completed"
    },
    "tags": []
   },
   "outputs": [],
   "source": [
    "#hide\n",
    "#delete problematic countries from table\n",
    "df_table = df_table[~df_table['Country/Region'].isin(['Cape Verde', 'Cruise Ship', 'Kosovo'])]"
   ]
  },
  {
   "cell_type": "code",
   "execution_count": 15,
   "metadata": {
    "execution": {
     "iopub.execute_input": "2020-12-07T12:07:31.053201Z",
     "iopub.status.busy": "2020-12-07T12:07:31.051313Z",
     "iopub.status.idle": "2020-12-07T12:07:31.066545Z",
     "shell.execute_reply": "2020-12-07T12:07:31.066051Z"
    },
    "papermill": {
     "duration": 0.062313,
     "end_time": "2020-12-07T12:07:31.066688",
     "exception": false,
     "start_time": "2020-12-07T12:07:31.004375",
     "status": "completed"
    },
    "tags": []
   },
   "outputs": [
    {
     "data": {
      "text/html": [
       "<div>\n",
       "<style scoped>\n",
       "    .dataframe tbody tr th:only-of-type {\n",
       "        vertical-align: middle;\n",
       "    }\n",
       "\n",
       "    .dataframe tbody tr th {\n",
       "        vertical-align: top;\n",
       "    }\n",
       "\n",
       "    .dataframe thead th {\n",
       "        text-align: right;\n",
       "    }\n",
       "</style>\n",
       "<table border=\"1\" class=\"dataframe\">\n",
       "  <thead>\n",
       "    <tr style=\"text-align: right;\">\n",
       "      <th></th>\n",
       "      <th>Country/Region</th>\n",
       "      <th>Cases</th>\n",
       "      <th>Deaths</th>\n",
       "      <th>PCases</th>\n",
       "      <th>PDeaths</th>\n",
       "      <th>Cases (+)</th>\n",
       "      <th>Deaths (+)</th>\n",
       "      <th>Fatality Rate</th>\n",
       "      <th>Continent</th>\n",
       "    </tr>\n",
       "  </thead>\n",
       "  <tbody>\n",
       "    <tr>\n",
       "      <th>0</th>\n",
       "      <td>US</td>\n",
       "      <td>14757000</td>\n",
       "      <td>282299</td>\n",
       "      <td>14581337</td>\n",
       "      <td>281186</td>\n",
       "      <td>175663</td>\n",
       "      <td>1113</td>\n",
       "      <td>1.9</td>\n",
       "      <td>North America</td>\n",
       "    </tr>\n",
       "    <tr>\n",
       "      <th>1</th>\n",
       "      <td>India</td>\n",
       "      <td>9677203</td>\n",
       "      <td>140573</td>\n",
       "      <td>9644222</td>\n",
       "      <td>140182</td>\n",
       "      <td>32981</td>\n",
       "      <td>391</td>\n",
       "      <td>1.5</td>\n",
       "      <td>Asia</td>\n",
       "    </tr>\n",
       "    <tr>\n",
       "      <th>2</th>\n",
       "      <td>Brazil</td>\n",
       "      <td>6603540</td>\n",
       "      <td>176941</td>\n",
       "      <td>6577177</td>\n",
       "      <td>176628</td>\n",
       "      <td>26363</td>\n",
       "      <td>313</td>\n",
       "      <td>2.7</td>\n",
       "      <td>South America</td>\n",
       "    </tr>\n",
       "    <tr>\n",
       "      <th>3</th>\n",
       "      <td>Russia</td>\n",
       "      <td>2439163</td>\n",
       "      <td>42675</td>\n",
       "      <td>2410462</td>\n",
       "      <td>42228</td>\n",
       "      <td>28701</td>\n",
       "      <td>447</td>\n",
       "      <td>1.7</td>\n",
       "      <td>Europe</td>\n",
       "    </tr>\n",
       "    <tr>\n",
       "      <th>4</th>\n",
       "      <td>France</td>\n",
       "      <td>2345648</td>\n",
       "      <td>55247</td>\n",
       "      <td>2334626</td>\n",
       "      <td>55073</td>\n",
       "      <td>11022</td>\n",
       "      <td>174</td>\n",
       "      <td>2.4</td>\n",
       "      <td>Europe</td>\n",
       "    </tr>\n",
       "  </tbody>\n",
       "</table>\n",
       "</div>"
      ],
      "text/plain": [
       "  Country/Region     Cases  Deaths    PCases  PDeaths  Cases (+)  Deaths (+)  \\\n",
       "0             US  14757000  282299  14581337   281186     175663        1113   \n",
       "1          India   9677203  140573   9644222   140182      32981         391   \n",
       "2         Brazil   6603540  176941   6577177   176628      26363         313   \n",
       "3         Russia   2439163   42675   2410462    42228      28701         447   \n",
       "4         France   2345648   55247   2334626    55073      11022         174   \n",
       "\n",
       "   Fatality Rate      Continent  \n",
       "0            1.9  North America  \n",
       "1            1.5           Asia  \n",
       "2            2.7  South America  \n",
       "3            1.7         Europe  \n",
       "4            2.4         Europe  "
      ]
     },
     "execution_count": 15,
     "metadata": {},
     "output_type": "execute_result"
    }
   ],
   "source": [
    "#hide\n",
    "df_table = (pd.DataFrame(dict(Cases=dfc_cases, Deaths=dfc_deaths, PCases=dfp_cases, PDeaths=dfp_deaths))\n",
    "             .sort_values(by=['Cases', 'Deaths'], ascending=[False, False])\n",
    "             .reset_index())\n",
    "df_table.rename(columns={'index': 'Country/Region'}, inplace=True)\n",
    "for c in 'Cases, Deaths'.split(', '):\n",
    "    df_table[f'{c} (+)'] = (df_table[c] - df_table[f'P{c}']).clip(0)  # DATA BUG\n",
    "df_table['Fatality Rate'] = (100 * df_table['Deaths'] / df_table['Cases']).round(1)\n",
    "df_table['Continent'] = df_table['Country/Region'].map(mapping['map.continent'])\n",
    "df_table.head(5)"
   ]
  },
  {
   "cell_type": "code",
   "execution_count": 16,
   "metadata": {
    "execution": {
     "iopub.execute_input": "2020-12-07T12:07:31.137572Z",
     "iopub.status.busy": "2020-12-07T12:07:31.136961Z",
     "iopub.status.idle": "2020-12-07T12:07:31.139241Z",
     "shell.execute_reply": "2020-12-07T12:07:31.139801Z"
    },
    "papermill": {
     "duration": 0.041521,
     "end_time": "2020-12-07T12:07:31.140048",
     "exception": false,
     "start_time": "2020-12-07T12:07:31.098527",
     "status": "completed"
    },
    "tags": []
   },
   "outputs": [],
   "source": [
    "#hide\n",
    "#delete problematic countries from table\n",
    "df_table = df_table[~df_table['Country/Region'].isin(['Cape Verde', 'Cruise Ship', 'Kosovo'])]"
   ]
  },
  {
   "cell_type": "code",
   "execution_count": 17,
   "metadata": {
    "execution": {
     "iopub.execute_input": "2020-12-07T12:07:31.217139Z",
     "iopub.status.busy": "2020-12-07T12:07:31.210409Z",
     "iopub.status.idle": "2020-12-07T12:07:31.228165Z",
     "shell.execute_reply": "2020-12-07T12:07:31.227674Z"
    },
    "papermill": {
     "duration": 0.05756,
     "end_time": "2020-12-07T12:07:31.228304",
     "exception": false,
     "start_time": "2020-12-07T12:07:31.170744",
     "status": "completed"
    },
    "tags": []
   },
   "outputs": [],
   "source": [
    "#hide\n",
    "metrics = [df_table.columns[index] for index in [1,2,5,6]]\n",
    "# s_china = df_table[df_table['Country/Region'].eq('China')][metrics].sum().add_prefix('China ')\n",
    "s_us = df_table[df_table['Country/Region'].eq('US')][metrics].sum().add_prefix('US ')\n",
    "s_eu = df_table[df_table['Continent'].eq('Europe')][metrics].sum().add_prefix('EU ')\n",
    "s_ind = df_table[df_table['Country/Region'].eq('India')][metrics].sum().add_prefix('India ')\n",
    "summary = {'updated': pd.to_datetime(dt_today), 'since': pd.to_datetime(dt_yday)}\n",
    "summary = {'updated': pd.to_datetime(dt_today), 'since': pd.to_datetime(dt_yday)}\n",
    "summary = {**summary, **df_table[metrics].sum(), **s_ind, **s_us, **s_eu}"
   ]
  },
  {
   "cell_type": "code",
   "execution_count": 18,
   "metadata": {
    "execution": {
     "iopub.execute_input": "2020-12-07T12:07:31.298963Z",
     "iopub.status.busy": "2020-12-07T12:07:31.298348Z",
     "iopub.status.idle": "2020-12-07T12:07:31.307932Z",
     "shell.execute_reply": "2020-12-07T12:07:31.308390Z"
    },
    "papermill": {
     "duration": 0.048967,
     "end_time": "2020-12-07T12:07:31.308552",
     "exception": false,
     "start_time": "2020-12-07T12:07:31.259585",
     "status": "completed"
    },
    "tags": []
   },
   "outputs": [],
   "source": [
    "#hide\n",
    "dft_ct_new_cases = dft_cases.groupby(COL_REGION)[dt_cols].sum().diff(axis=1).fillna(0).astype(int)"
   ]
  },
  {
   "cell_type": "code",
   "execution_count": 19,
   "metadata": {
    "execution": {
     "iopub.execute_input": "2020-12-07T12:07:31.379155Z",
     "iopub.status.busy": "2020-12-07T12:07:31.378568Z",
     "iopub.status.idle": "2020-12-07T12:07:31.381179Z",
     "shell.execute_reply": "2020-12-07T12:07:31.380677Z"
    },
    "papermill": {
     "duration": 0.041349,
     "end_time": "2020-12-07T12:07:31.381306",
     "exception": false,
     "start_time": "2020-12-07T12:07:31.339957",
     "status": "completed"
    },
    "tags": []
   },
   "outputs": [],
   "source": [
    "#hide\n",
    "everydaycases = dft_ct_new_cases.cumsum(axis=1)"
   ]
  },
  {
   "cell_type": "code",
   "execution_count": 20,
   "metadata": {
    "execution": {
     "iopub.execute_input": "2020-12-07T12:07:31.449270Z",
     "iopub.status.busy": "2020-12-07T12:07:31.448652Z",
     "iopub.status.idle": "2020-12-07T12:07:33.573800Z",
     "shell.execute_reply": "2020-12-07T12:07:33.572637Z"
    },
    "papermill": {
     "duration": 2.161693,
     "end_time": "2020-12-07T12:07:33.573963",
     "exception": false,
     "start_time": "2020-12-07T12:07:31.412270",
     "status": "completed"
    },
    "tags": []
   },
   "outputs": [],
   "source": [
    "#hide\n",
    "import pandas as pd\n",
    "import matplotlib.pyplot as plt\n",
    "import matplotlib.ticker as ticker\n",
    "import matplotlib.animation as animation\n",
    "from IPython.display import HTML"
   ]
  },
  {
   "cell_type": "code",
   "execution_count": 21,
   "metadata": {
    "execution": {
     "iopub.execute_input": "2020-12-07T12:07:33.644304Z",
     "iopub.status.busy": "2020-12-07T12:07:33.643261Z",
     "iopub.status.idle": "2020-12-07T12:07:33.649098Z",
     "shell.execute_reply": "2020-12-07T12:07:33.648261Z"
    },
    "papermill": {
     "duration": 0.043991,
     "end_time": "2020-12-07T12:07:33.649315",
     "exception": false,
     "start_time": "2020-12-07T12:07:33.605324",
     "status": "completed"
    },
    "tags": []
   },
   "outputs": [],
   "source": [
    "#hide\n",
    "t = everydaycases.stack()"
   ]
  },
  {
   "cell_type": "code",
   "execution_count": 22,
   "metadata": {
    "execution": {
     "iopub.execute_input": "2020-12-07T12:07:33.718322Z",
     "iopub.status.busy": "2020-12-07T12:07:33.717711Z",
     "iopub.status.idle": "2020-12-07T12:07:33.726905Z",
     "shell.execute_reply": "2020-12-07T12:07:33.726416Z"
    },
    "papermill": {
     "duration": 0.046236,
     "end_time": "2020-12-07T12:07:33.727043",
     "exception": false,
     "start_time": "2020-12-07T12:07:33.680807",
     "status": "completed"
    },
    "tags": []
   },
   "outputs": [],
   "source": [
    "#hide\n",
    "g = t.reset_index(['Country/Region'])"
   ]
  },
  {
   "cell_type": "code",
   "execution_count": 23,
   "metadata": {
    "execution": {
     "iopub.execute_input": "2020-12-07T12:07:33.793961Z",
     "iopub.status.busy": "2020-12-07T12:07:33.793330Z",
     "iopub.status.idle": "2020-12-07T12:07:33.795598Z",
     "shell.execute_reply": "2020-12-07T12:07:33.795108Z"
    },
    "papermill": {
     "duration": 0.038049,
     "end_time": "2020-12-07T12:07:33.795722",
     "exception": false,
     "start_time": "2020-12-07T12:07:33.757673",
     "status": "completed"
    },
    "tags": []
   },
   "outputs": [],
   "source": [
    "#hide\n",
    "g.index.name = 'date'"
   ]
  },
  {
   "cell_type": "code",
   "execution_count": 24,
   "metadata": {
    "execution": {
     "iopub.execute_input": "2020-12-07T12:07:33.862454Z",
     "iopub.status.busy": "2020-12-07T12:07:33.861830Z",
     "iopub.status.idle": "2020-12-07T12:07:33.865115Z",
     "shell.execute_reply": "2020-12-07T12:07:33.864638Z"
    },
    "papermill": {
     "duration": 0.038915,
     "end_time": "2020-12-07T12:07:33.865250",
     "exception": false,
     "start_time": "2020-12-07T12:07:33.826335",
     "status": "completed"
    },
    "tags": []
   },
   "outputs": [],
   "source": [
    "# #hide\n",
    "# g = g.reset_index(['date'])"
   ]
  },
  {
   "cell_type": "code",
   "execution_count": 25,
   "metadata": {
    "execution": {
     "iopub.execute_input": "2020-12-07T12:07:33.932669Z",
     "iopub.status.busy": "2020-12-07T12:07:33.931644Z",
     "iopub.status.idle": "2020-12-07T12:07:33.933779Z",
     "shell.execute_reply": "2020-12-07T12:07:33.934409Z"
    },
    "papermill": {
     "duration": 0.038655,
     "end_time": "2020-12-07T12:07:33.934554",
     "exception": false,
     "start_time": "2020-12-07T12:07:33.895899",
     "status": "completed"
    },
    "tags": []
   },
   "outputs": [],
   "source": [
    "#hide\n",
    "# g.head()"
   ]
  },
  {
   "cell_type": "code",
   "execution_count": 26,
   "metadata": {
    "execution": {
     "iopub.execute_input": "2020-12-07T12:07:34.003844Z",
     "iopub.status.busy": "2020-12-07T12:07:34.003037Z",
     "iopub.status.idle": "2020-12-07T12:07:34.004902Z",
     "shell.execute_reply": "2020-12-07T12:07:34.004410Z"
    },
    "papermill": {
     "duration": 0.038673,
     "end_time": "2020-12-07T12:07:34.005025",
     "exception": false,
     "start_time": "2020-12-07T12:07:33.966352",
     "status": "completed"
    },
    "tags": []
   },
   "outputs": [],
   "source": [
    "#hide\n",
    "# g.columns = ['date','country','cases']"
   ]
  },
  {
   "cell_type": "code",
   "execution_count": 27,
   "metadata": {
    "execution": {
     "iopub.execute_input": "2020-12-07T12:07:34.075860Z",
     "iopub.status.busy": "2020-12-07T12:07:34.075263Z",
     "iopub.status.idle": "2020-12-07T12:07:34.078397Z",
     "shell.execute_reply": "2020-12-07T12:07:34.077908Z"
    },
    "papermill": {
     "duration": 0.041693,
     "end_time": "2020-12-07T12:07:34.078535",
     "exception": false,
     "start_time": "2020-12-07T12:07:34.036842",
     "status": "completed"
    },
    "tags": []
   },
   "outputs": [],
   "source": [
    "#hide\n",
    "# g['continent'] = g.country"
   ]
  },
  {
   "cell_type": "code",
   "execution_count": 28,
   "metadata": {
    "execution": {
     "iopub.execute_input": "2020-12-07T12:07:34.145533Z",
     "iopub.status.busy": "2020-12-07T12:07:34.144895Z",
     "iopub.status.idle": "2020-12-07T12:07:34.147755Z",
     "shell.execute_reply": "2020-12-07T12:07:34.148247Z"
    },
    "papermill": {
     "duration": 0.038811,
     "end_time": "2020-12-07T12:07:34.148396",
     "exception": false,
     "start_time": "2020-12-07T12:07:34.109585",
     "status": "completed"
    },
    "tags": []
   },
   "outputs": [],
   "source": [
    "#hide\n",
    "# cols = list(g.columns.values)"
   ]
  },
  {
   "cell_type": "code",
   "execution_count": 29,
   "metadata": {
    "execution": {
     "iopub.execute_input": "2020-12-07T12:07:34.214651Z",
     "iopub.status.busy": "2020-12-07T12:07:34.214052Z",
     "iopub.status.idle": "2020-12-07T12:07:34.216346Z",
     "shell.execute_reply": "2020-12-07T12:07:34.216893Z"
    },
    "papermill": {
     "duration": 0.037943,
     "end_time": "2020-12-07T12:07:34.217048",
     "exception": false,
     "start_time": "2020-12-07T12:07:34.179105",
     "status": "completed"
    },
    "tags": []
   },
   "outputs": [],
   "source": [
    "#hide\n",
    "# cols.insert(0, cols.pop())"
   ]
  },
  {
   "cell_type": "code",
   "execution_count": 30,
   "metadata": {
    "execution": {
     "iopub.execute_input": "2020-12-07T12:07:34.289525Z",
     "iopub.status.busy": "2020-12-07T12:07:34.288921Z",
     "iopub.status.idle": "2020-12-07T12:07:34.291386Z",
     "shell.execute_reply": "2020-12-07T12:07:34.291851Z"
    },
    "papermill": {
     "duration": 0.04394,
     "end_time": "2020-12-07T12:07:34.292000",
     "exception": false,
     "start_time": "2020-12-07T12:07:34.248060",
     "status": "completed"
    },
    "tags": []
   },
   "outputs": [],
   "source": [
    "#hide\n",
    "# g = g[cols]"
   ]
  },
  {
   "cell_type": "code",
   "execution_count": 31,
   "metadata": {
    "execution": {
     "iopub.execute_input": "2020-12-07T12:07:34.359061Z",
     "iopub.status.busy": "2020-12-07T12:07:34.358361Z",
     "iopub.status.idle": "2020-12-07T12:07:34.361491Z",
     "shell.execute_reply": "2020-12-07T12:07:34.362072Z"
    },
    "papermill": {
     "duration": 0.039292,
     "end_time": "2020-12-07T12:07:34.362227",
     "exception": false,
     "start_time": "2020-12-07T12:07:34.322935",
     "status": "completed"
    },
    "tags": []
   },
   "outputs": [],
   "source": [
    "#hide\n",
    "# g['continent'] = g['continent'].map(mapping['map.continent'])"
   ]
  },
  {
   "cell_type": "code",
   "execution_count": 32,
   "metadata": {
    "execution": {
     "iopub.execute_input": "2020-12-07T12:07:34.431802Z",
     "iopub.status.busy": "2020-12-07T12:07:34.431212Z",
     "iopub.status.idle": "2020-12-07T12:07:34.433589Z",
     "shell.execute_reply": "2020-12-07T12:07:34.434164Z"
    },
    "papermill": {
     "duration": 0.04016,
     "end_time": "2020-12-07T12:07:34.434316",
     "exception": false,
     "start_time": "2020-12-07T12:07:34.394156",
     "status": "completed"
    },
    "tags": []
   },
   "outputs": [],
   "source": [
    "#hide\n",
    "# g.head()"
   ]
  },
  {
   "cell_type": "code",
   "execution_count": 33,
   "metadata": {
    "execution": {
     "iopub.execute_input": "2020-12-07T12:07:34.506580Z",
     "iopub.status.busy": "2020-12-07T12:07:34.505988Z",
     "iopub.status.idle": "2020-12-07T12:07:34.508102Z",
     "shell.execute_reply": "2020-12-07T12:07:34.508542Z"
    },
    "papermill": {
     "duration": 0.038431,
     "end_time": "2020-12-07T12:07:34.508691",
     "exception": false,
     "start_time": "2020-12-07T12:07:34.470260",
     "status": "completed"
    },
    "tags": []
   },
   "outputs": [],
   "source": [
    "# hide\n",
    "# g['date'] = g['date'].astype('datetime64[ns]')"
   ]
  },
  {
   "cell_type": "code",
   "execution_count": 34,
   "metadata": {
    "execution": {
     "iopub.execute_input": "2020-12-07T12:07:34.577793Z",
     "iopub.status.busy": "2020-12-07T12:07:34.577032Z",
     "iopub.status.idle": "2020-12-07T12:07:34.579431Z",
     "shell.execute_reply": "2020-12-07T12:07:34.578946Z"
    },
    "papermill": {
     "duration": 0.03794,
     "end_time": "2020-12-07T12:07:34.579564",
     "exception": false,
     "start_time": "2020-12-07T12:07:34.541624",
     "status": "completed"
    },
    "tags": []
   },
   "outputs": [],
   "source": [
    "#hide\n",
    "# g['date'] = g.date.dt.dayofyear"
   ]
  },
  {
   "cell_type": "code",
   "execution_count": 35,
   "metadata": {
    "execution": {
     "iopub.execute_input": "2020-12-07T12:07:34.646399Z",
     "iopub.status.busy": "2020-12-07T12:07:34.645834Z",
     "iopub.status.idle": "2020-12-07T12:07:34.647834Z",
     "shell.execute_reply": "2020-12-07T12:07:34.648301Z"
    },
    "papermill": {
     "duration": 0.03717,
     "end_time": "2020-12-07T12:07:34.648446",
     "exception": false,
     "start_time": "2020-12-07T12:07:34.611276",
     "status": "completed"
    },
    "tags": []
   },
   "outputs": [],
   "source": [
    "#hide\n",
    "# g = g.rename(columns= {'continent':'group','country':'name','cases':'value'})"
   ]
  },
  {
   "cell_type": "code",
   "execution_count": 36,
   "metadata": {
    "execution": {
     "iopub.execute_input": "2020-12-07T12:07:34.719462Z",
     "iopub.status.busy": "2020-12-07T12:07:34.718859Z",
     "iopub.status.idle": "2020-12-07T12:07:34.720671Z",
     "shell.execute_reply": "2020-12-07T12:07:34.721136Z"
    },
    "papermill": {
     "duration": 0.041955,
     "end_time": "2020-12-07T12:07:34.721287",
     "exception": false,
     "start_time": "2020-12-07T12:07:34.679332",
     "status": "completed"
    },
    "tags": []
   },
   "outputs": [],
   "source": [
    "#hide\n",
    "# cols = ['name','group','day','value']"
   ]
  },
  {
   "cell_type": "code",
   "execution_count": 37,
   "metadata": {
    "execution": {
     "iopub.execute_input": "2020-12-07T12:07:34.788006Z",
     "iopub.status.busy": "2020-12-07T12:07:34.787426Z",
     "iopub.status.idle": "2020-12-07T12:07:34.789738Z",
     "shell.execute_reply": "2020-12-07T12:07:34.790181Z"
    },
    "papermill": {
     "duration": 0.038173,
     "end_time": "2020-12-07T12:07:34.790330",
     "exception": false,
     "start_time": "2020-12-07T12:07:34.752157",
     "status": "completed"
    },
    "tags": []
   },
   "outputs": [],
   "source": [
    "#hide\n",
    "# g.rename(columns= {'date':'day'},inplace = True)"
   ]
  },
  {
   "cell_type": "code",
   "execution_count": 38,
   "metadata": {
    "execution": {
     "iopub.execute_input": "2020-12-07T12:07:34.859591Z",
     "iopub.status.busy": "2020-12-07T12:07:34.858728Z",
     "iopub.status.idle": "2020-12-07T12:07:34.861550Z",
     "shell.execute_reply": "2020-12-07T12:07:34.861036Z"
    },
    "papermill": {
     "duration": 0.039672,
     "end_time": "2020-12-07T12:07:34.861677",
     "exception": false,
     "start_time": "2020-12-07T12:07:34.822005",
     "status": "completed"
    },
    "tags": []
   },
   "outputs": [],
   "source": [
    "#hide\n",
    "# g = g[cols]"
   ]
  },
  {
   "cell_type": "code",
   "execution_count": 39,
   "metadata": {
    "execution": {
     "iopub.execute_input": "2020-12-07T12:07:34.933561Z",
     "iopub.status.busy": "2020-12-07T12:07:34.932900Z",
     "iopub.status.idle": "2020-12-07T12:07:34.935362Z",
     "shell.execute_reply": "2020-12-07T12:07:34.934850Z"
    },
    "papermill": {
     "duration": 0.040402,
     "end_time": "2020-12-07T12:07:34.935500",
     "exception": false,
     "start_time": "2020-12-07T12:07:34.895098",
     "status": "completed"
    },
    "tags": []
   },
   "outputs": [],
   "source": [
    "# #hide\n",
    "# g = g[g.group.notna()]"
   ]
  },
  {
   "cell_type": "code",
   "execution_count": 40,
   "metadata": {
    "execution": {
     "iopub.execute_input": "2020-12-07T12:07:35.004185Z",
     "iopub.status.busy": "2020-12-07T12:07:35.003562Z",
     "iopub.status.idle": "2020-12-07T12:07:35.005361Z",
     "shell.execute_reply": "2020-12-07T12:07:35.005829Z"
    },
    "papermill": {
     "duration": 0.038414,
     "end_time": "2020-12-07T12:07:35.005997",
     "exception": false,
     "start_time": "2020-12-07T12:07:34.967583",
     "status": "completed"
    },
    "tags": []
   },
   "outputs": [],
   "source": [
    "# #hide\n",
    "# colors = dict(zip(\n",
    "#     [\"Oceania\", \"Europe\", \"Asia\", \"South America\", \"Middle East\", \"North America\", \"Africa\"],\n",
    "#     [\"#adb0ff\", \"#ffb3ff\", \"#90d595\", \"#e48381\", \"#aafbff\", \"#f7bb5f\", \"#eafb50\"]\n",
    "# ))\n",
    "# group_lk = g.set_index('name')['group'].to_dict()"
   ]
  },
  {
   "cell_type": "code",
   "execution_count": null,
   "metadata": {
    "papermill": {
     "duration": 0.031708,
     "end_time": "2020-12-07T12:07:35.072373",
     "exception": false,
     "start_time": "2020-12-07T12:07:35.040665",
     "status": "completed"
    },
    "tags": []
   },
   "outputs": [],
   "source": []
  },
  {
   "cell_type": "code",
   "execution_count": 41,
   "metadata": {
    "execution": {
     "iopub.execute_input": "2020-12-07T12:07:35.142765Z",
     "iopub.status.busy": "2020-12-07T12:07:35.142104Z",
     "iopub.status.idle": "2020-12-07T12:07:35.144936Z",
     "shell.execute_reply": "2020-12-07T12:07:35.145415Z"
    },
    "papermill": {
     "duration": 0.041286,
     "end_time": "2020-12-07T12:07:35.145621",
     "exception": false,
     "start_time": "2020-12-07T12:07:35.104335",
     "status": "completed"
    },
    "tags": []
   },
   "outputs": [],
   "source": [
    "# #hide\n",
    "# fig, ax = plt.subplots(figsize=(15, 8))\n",
    "\n",
    "# def draw_barchart(current_day):\n",
    "#     dff = g[g['day'].eq(current_day)].sort_values(by='value', ascending=True).tail(10)\n",
    "#     ax.clear()\n",
    "#     ax.barh(dff['name'], dff['value'], color=[colors[group_lk[x]] for x in dff['name']])\n",
    "#     dx = dff['value'].max() / 200\n",
    "    \n",
    "#     for i, (value, name) in enumerate(zip(dff['value'], dff['name'])):\n",
    "#         ax.text(value-dx, i,     name,           size=14, weight=600, ha='right', va='bottom')\n",
    "#         ax.text(value-dx, i-.25, group_lk[name], size=10, color='#444444', ha='right', va='baseline')\n",
    "#         ax.text(value+dx, i,     f'{value:,.0f}',  size=14, ha='left',  va='center')\n",
    "#     ax.text(1, 0.4, current_day, transform=ax.transAxes, color='#777777', size=46, ha='right', weight=800)\n",
    "#     ax.text(0, 1.06, 'Population (thousands)', transform=ax.transAxes, size=12, color='#777777')\n",
    "#     ax.xaxis.set_major_formatter(ticker.StrMethodFormatter('{x:,.0f}'))\n",
    "#     ax.xaxis.set_ticks_position('top')\n",
    "#     ax.tick_params(axis='x', colors='#777777', labelsize=12)\n",
    "#     ax.set_yticks([])\n",
    "#     ax.margins(0, 0.01)\n",
    "#     ax.grid(which='major', axis='x', linestyle='-')\n",
    "#     ax.set_axisbelow(True)\n",
    "    \n",
    "#     ax.text(0, 1.15, 'Coronavirus',\n",
    "#             transform=ax.transAxes, size=24, weight=600, ha='left', va='top')\n",
    "# #     ax.text(1, 0, 'by @pratapvardhan; credit @jburnmurdoch', transform=ax.transAxes, color='#777777', ha='right',\n",
    "# #             bbox=dict(facecolor='white', alpha=0.8, edgecolor='white'))\n",
    "#     plt.box(False)"
   ]
  },
  {
   "cell_type": "code",
   "execution_count": 42,
   "metadata": {
    "execution": {
     "iopub.execute_input": "2020-12-07T12:07:35.216455Z",
     "iopub.status.busy": "2020-12-07T12:07:35.215134Z",
     "iopub.status.idle": "2020-12-07T12:07:35.217147Z",
     "shell.execute_reply": "2020-12-07T12:07:35.217648Z"
    },
    "papermill": {
     "duration": 0.039678,
     "end_time": "2020-12-07T12:07:35.217809",
     "exception": false,
     "start_time": "2020-12-07T12:07:35.178131",
     "status": "completed"
    },
    "tags": []
   },
   "outputs": [],
   "source": [
    "# #hide_input\n",
    "# fig, ax = plt.subplots(figsize=(15, 8))\n",
    "# animator = animation.FuncAnimation(fig, draw_barchart, frames=range(g.day.values.min(), g.day.values.max()))\n",
    "# HTML(animator.to_jshtml())\n",
    "# # or use animator.to_html5_video() or animator.save() "
   ]
  },
  {
   "cell_type": "code",
   "execution_count": null,
   "metadata": {
    "papermill": {
     "duration": 0.0315,
     "end_time": "2020-12-07T12:07:35.281872",
     "exception": false,
     "start_time": "2020-12-07T12:07:35.250372",
     "status": "completed"
    },
    "tags": []
   },
   "outputs": [],
   "source": []
  },
  {
   "cell_type": "code",
   "execution_count": null,
   "metadata": {
    "papermill": {
     "duration": 0.031874,
     "end_time": "2020-12-07T12:07:35.347525",
     "exception": false,
     "start_time": "2020-12-07T12:07:35.315651",
     "status": "completed"
    },
    "tags": []
   },
   "outputs": [],
   "source": []
  },
  {
   "cell_type": "code",
   "execution_count": null,
   "metadata": {
    "papermill": {
     "duration": 0.032911,
     "end_time": "2020-12-07T12:07:35.412529",
     "exception": false,
     "start_time": "2020-12-07T12:07:35.379618",
     "status": "completed"
    },
    "tags": []
   },
   "outputs": [],
   "source": []
  }
 ],
 "metadata": {
  "kernelspec": {
   "display_name": "Python 3",
   "language": "python",
   "name": "python3"
  },
  "language_info": {
   "codemirror_mode": {
    "name": "ipython",
    "version": 3
   },
   "file_extension": ".py",
   "mimetype": "text/x-python",
   "name": "python",
   "nbconvert_exporter": "python",
   "pygments_lexer": "ipython3",
   "version": "3.6.12"
  },
  "papermill": {
   "duration": 7.776856,
   "end_time": "2020-12-07T12:07:35.853214",
   "environment_variables": {},
   "exception": null,
   "input_path": "2020-03-21-covid19exp.ipynb",
   "output_path": "2020-03-21-covid19exp.ipynb",
   "parameters": {},
   "start_time": "2020-12-07T12:07:28.076358",
   "version": "2.0.0"
  }
 },
 "nbformat": 4,
 "nbformat_minor": 4
}